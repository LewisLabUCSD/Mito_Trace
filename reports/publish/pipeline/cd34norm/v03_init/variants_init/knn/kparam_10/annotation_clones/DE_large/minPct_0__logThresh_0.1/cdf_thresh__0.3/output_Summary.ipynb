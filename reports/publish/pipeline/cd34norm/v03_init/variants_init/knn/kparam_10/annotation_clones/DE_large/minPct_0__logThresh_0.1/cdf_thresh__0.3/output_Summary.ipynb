{
 "cells": [
  {
   "cell_type": "code",
   "execution_count": 1,
   "id": "4246cc89",
   "metadata": {
    "execution": {
     "iopub.execute_input": "2021-12-03T20:54:25.696963Z",
     "iopub.status.busy": "2021-12-03T20:54:25.694394Z",
     "iopub.status.idle": "2021-12-03T20:54:25.734634Z",
     "shell.execute_reply": "2021-12-03T20:54:25.733374Z"
    },
    "papermill": {
     "duration": 0.188003,
     "end_time": "2021-12-03T20:54:25.734908",
     "exception": false,
     "start_time": "2021-12-03T20:54:25.546905",
     "status": "completed"
    },
    "tags": [
     "parameters"
    ]
   },
   "outputs": [],
   "source": [
    "#indir = \"/data/Mito_Trace/output/annotation_clones/data/cd34norm/MTblacklist/DE_large\"\n",
    "indir = \"/data/Mito_Trace/output/pipeline/cd34norm/MTblacklist/data/merged/MT/cellr_True/numread_200/filters/minC10_minR50_topN0_hetT0.001_hetC10_hetCount5_bq20/mgatk/vireoIn/clones/variants_init/vireo/nclones20/annotation_clones/DE_large/minPct_0.01__logThresh_0\"\n",
    "\n",
    "se_indir = \"/data/Mito_Trace/output/pipeline/cd34norm/MTblacklist/data/merged/MT/cellr_True/numread_200/filters/minC10_minR50_topN0_hetT0.001_hetC10_hetCount5_bq20/mgatk/vireoIn/clones/variants_init/vireo/nclones20/annotation_clones/DE_large\"\n",
    "n_donors = 4\n",
    "cdf_thresh = 0.3\n",
    "\n",
    "n_top_genes = 5\n",
    "n_top_clones = 3\n",
    "utils_script <- \"/data/Mito_Trace/R_scripts/seurat_utils.R\"\n"
   ]
  },
  {
   "cell_type": "code",
   "execution_count": 2,
   "id": "044674fa",
   "metadata": {
    "execution": {
     "iopub.execute_input": "2021-12-03T20:54:25.873922Z",
     "iopub.status.busy": "2021-12-03T20:54:25.837219Z",
     "iopub.status.idle": "2021-12-03T20:54:25.889628Z",
     "shell.execute_reply": "2021-12-03T20:54:25.888520Z"
    },
    "papermill": {
     "duration": 0.101487,
     "end_time": "2021-12-03T20:54:25.889863",
     "exception": false,
     "start_time": "2021-12-03T20:54:25.788376",
     "status": "completed"
    },
    "tags": [
     "injected-parameters"
    ]
   },
   "outputs": [],
   "source": [
    "# Parameters\n",
    "indir = \"/data/Mito_Trace/output/pipeline/cd34norm/MTblacklist/data/merged/MT/cellr_True/numread_200/filters/minC10_minR50_topN0_hetT0.001_hetC10_hetCount5_bq20/mgatk/vireoIn/clones/variants_init/knn/kparam_10/concat/annotation_clones/DE_large/minPct_0__logThresh_0.1\"\n",
    "se_indir = \"/data/Mito_Trace/output/pipeline/cd34norm/MTblacklist/data/merged/MT/cellr_True/numread_200/filters/minC10_minR50_topN0_hetT0.001_hetC10_hetCount5_bq20/mgatk/vireoIn/clones/variants_init/knn/kparam_10/concat/annotation_clones/DE_large\"\n",
    "n_donors = 4\n",
    "cdf_thresh = 0.3\n"
   ]
  },
  {
   "cell_type": "code",
   "execution_count": 3,
   "id": "126002f9",
   "metadata": {
    "execution": {
     "iopub.execute_input": "2021-12-03T20:54:25.993930Z",
     "iopub.status.busy": "2021-12-03T20:54:25.991189Z",
     "iopub.status.idle": "2021-12-03T20:54:31.938839Z",
     "shell.execute_reply": "2021-12-03T20:54:31.937619Z"
    },
    "papermill": {
     "duration": 5.99958,
     "end_time": "2021-12-03T20:54:31.939086",
     "exception": false,
     "start_time": "2021-12-03T20:54:25.939506",
     "status": "completed"
    },
    "scrolled": true,
    "tags": []
   },
   "outputs": [
    {
     "name": "stderr",
     "output_type": "stream",
     "text": [
      "Attaching SeuratObject\n",
      "\n"
     ]
    }
   ],
   "source": [
    "source(utils_script)"
   ]
  },
  {
   "cell_type": "code",
   "execution_count": 4,
   "id": "3657ef25",
   "metadata": {
    "execution": {
     "iopub.execute_input": "2021-12-03T20:54:32.060428Z",
     "iopub.status.busy": "2021-12-03T20:54:32.056909Z",
     "iopub.status.idle": "2021-12-03T20:54:32.075055Z",
     "shell.execute_reply": "2021-12-03T20:54:32.073770Z"
    },
    "papermill": {
     "duration": 0.077861,
     "end_time": "2021-12-03T20:54:32.075250",
     "exception": false,
     "start_time": "2021-12-03T20:54:31.997389",
     "status": "completed"
    },
    "scrolled": true,
    "tags": []
   },
   "outputs": [
    {
     "name": "stderr",
     "output_type": "stream",
     "text": [
      "Warning message in dir.create(outdir):\n",
      "“'/data/Mito_Trace/output/pipeline/cd34norm/MTblacklist/data/merged/MT/cellr_True/numread_200/filters/minC10_minR50_topN0_hetT0.001_hetC10_hetCount5_bq20/mgatk/vireoIn/clones/variants_init/knn/kparam_10/concat/annotation_clones/DE_large/minPct_0__logThresh_0.1/cdf_thresh__0.3' already exists”\n"
     ]
    }
   ],
   "source": [
    "outdir <- paste0(indir, \"/\", \"cdf_thresh__\", (cdf_thresh))\n",
    "dir.create(outdir)"
   ]
  },
  {
   "cell_type": "code",
   "execution_count": 5,
   "id": "5d9ca2e3",
   "metadata": {
    "execution": {
     "iopub.execute_input": "2021-12-03T20:54:32.196257Z",
     "iopub.status.busy": "2021-12-03T20:54:32.193182Z",
     "iopub.status.idle": "2021-12-03T20:54:39.077469Z",
     "shell.execute_reply": "2021-12-03T20:54:39.076288Z"
    },
    "papermill": {
     "duration": 6.945277,
     "end_time": "2021-12-03T20:54:39.077725",
     "exception": false,
     "start_time": "2021-12-03T20:54:32.132448",
     "status": "completed"
    },
    "scrolled": true,
    "tags": []
   },
   "outputs": [
    {
     "name": "stderr",
     "output_type": "stream",
     "text": [
      "\n",
      "Attaching package: ‘cowplot’\n",
      "\n",
      "\n"
     ]
    },
    {
     "name": "stderr",
     "output_type": "stream",
     "text": [
      "The following object is masked from ‘package:patchwork’:\n",
      "\n",
      "    align_plots\n",
      "\n",
      "\n"
     ]
    },
    {
     "name": "stderr",
     "output_type": "stream",
     "text": [
      "\n",
      "Attaching package: ‘dplyr’\n",
      "\n",
      "\n"
     ]
    },
    {
     "name": "stderr",
     "output_type": "stream",
     "text": [
      "The following objects are masked from ‘package:stats’:\n",
      "\n",
      "    filter, lag\n",
      "\n",
      "\n"
     ]
    },
    {
     "name": "stderr",
     "output_type": "stream",
     "text": [
      "The following objects are masked from ‘package:base’:\n",
      "\n",
      "    intersect, setdiff, setequal, union\n",
      "\n",
      "\n"
     ]
    },
    {
     "name": "stderr",
     "output_type": "stream",
     "text": [
      "Loading required package: grid\n",
      "\n"
     ]
    },
    {
     "name": "stderr",
     "output_type": "stream",
     "text": [
      "========================================\n",
      "ComplexHeatmap version 2.10.0\n",
      "Bioconductor page: http://bioconductor.org/packages/ComplexHeatmap/\n",
      "Github page: https://github.com/jokergoo/ComplexHeatmap\n",
      "Documentation: http://jokergoo.github.io/ComplexHeatmap-reference\n",
      "\n",
      "If you use it in published research, please cite:\n",
      "Gu, Z. Complex heatmaps reveal patterns and correlations in multidimensional \n",
      "  genomic data. Bioinformatics 2016.\n",
      "\n",
      "The new InteractiveComplexHeatmap package can directly export static \n",
      "complex heatmaps into an interactive Shiny app with zero effort. Have a try!\n",
      "\n",
      "This message can be suppressed by:\n",
      "  suppressPackageStartupMessages(library(ComplexHeatmap))\n",
      "========================================\n",
      "\n",
      "\n"
     ]
    },
    {
     "name": "stderr",
     "output_type": "stream",
     "text": [
      "\n",
      "\n"
     ]
    },
    {
     "name": "stderr",
     "output_type": "stream",
     "text": [
      "Loading required package: BSgenome\n",
      "\n"
     ]
    },
    {
     "name": "stderr",
     "output_type": "stream",
     "text": [
      "Loading required package: BiocGenerics\n",
      "\n"
     ]
    },
    {
     "name": "stderr",
     "output_type": "stream",
     "text": [
      "\n",
      "Attaching package: ‘BiocGenerics’\n",
      "\n",
      "\n"
     ]
    },
    {
     "name": "stderr",
     "output_type": "stream",
     "text": [
      "The following objects are masked from ‘package:dplyr’:\n",
      "\n",
      "    combine, intersect, setdiff, union\n",
      "\n",
      "\n"
     ]
    },
    {
     "name": "stderr",
     "output_type": "stream",
     "text": [
      "The following objects are masked from ‘package:stats’:\n",
      "\n",
      "    IQR, mad, sd, var, xtabs\n",
      "\n",
      "\n"
     ]
    },
    {
     "name": "stderr",
     "output_type": "stream",
     "text": [
      "The following objects are masked from ‘package:base’:\n",
      "\n",
      "    anyDuplicated, append, as.data.frame, basename, cbind, colnames,\n",
      "    dirname, do.call, duplicated, eval, evalq, Filter, Find, get, grep,\n",
      "    grepl, intersect, is.unsorted, lapply, Map, mapply, match, mget,\n",
      "    order, paste, pmax, pmax.int, pmin, pmin.int, Position, rank,\n",
      "    rbind, Reduce, rownames, sapply, setdiff, sort, table, tapply,\n",
      "    union, unique, unsplit, which.max, which.min\n",
      "\n",
      "\n"
     ]
    },
    {
     "name": "stderr",
     "output_type": "stream",
     "text": [
      "Loading required package: S4Vectors\n",
      "\n"
     ]
    },
    {
     "name": "stderr",
     "output_type": "stream",
     "text": [
      "Loading required package: stats4\n",
      "\n"
     ]
    },
    {
     "name": "stderr",
     "output_type": "stream",
     "text": [
      "\n",
      "Attaching package: ‘S4Vectors’\n",
      "\n",
      "\n"
     ]
    },
    {
     "name": "stderr",
     "output_type": "stream",
     "text": [
      "The following object is masked from ‘package:future’:\n",
      "\n",
      "    values\n",
      "\n",
      "\n"
     ]
    },
    {
     "name": "stderr",
     "output_type": "stream",
     "text": [
      "The following objects are masked from ‘package:dplyr’:\n",
      "\n",
      "    first, rename\n",
      "\n",
      "\n"
     ]
    },
    {
     "name": "stderr",
     "output_type": "stream",
     "text": [
      "The following objects are masked from ‘package:base’:\n",
      "\n",
      "    expand.grid, I, unname\n",
      "\n",
      "\n"
     ]
    },
    {
     "name": "stderr",
     "output_type": "stream",
     "text": [
      "Loading required package: IRanges\n",
      "\n"
     ]
    },
    {
     "name": "stderr",
     "output_type": "stream",
     "text": [
      "\n",
      "Attaching package: ‘IRanges’\n",
      "\n",
      "\n"
     ]
    },
    {
     "name": "stderr",
     "output_type": "stream",
     "text": [
      "The following objects are masked from ‘package:dplyr’:\n",
      "\n",
      "    collapse, desc, slice\n",
      "\n",
      "\n"
     ]
    },
    {
     "name": "stderr",
     "output_type": "stream",
     "text": [
      "Loading required package: GenomeInfoDb\n",
      "\n"
     ]
    },
    {
     "name": "stderr",
     "output_type": "stream",
     "text": [
      "Loading required package: GenomicRanges\n",
      "\n"
     ]
    },
    {
     "name": "stderr",
     "output_type": "stream",
     "text": [
      "Loading required package: Biostrings\n",
      "\n"
     ]
    },
    {
     "name": "stderr",
     "output_type": "stream",
     "text": [
      "Loading required package: XVector\n",
      "\n"
     ]
    },
    {
     "name": "stderr",
     "output_type": "stream",
     "text": [
      "\n",
      "Attaching package: ‘Biostrings’\n",
      "\n",
      "\n"
     ]
    },
    {
     "name": "stderr",
     "output_type": "stream",
     "text": [
      "The following object is masked from ‘package:grid’:\n",
      "\n",
      "    pattern\n",
      "\n",
      "\n"
     ]
    },
    {
     "name": "stderr",
     "output_type": "stream",
     "text": [
      "The following object is masked from ‘package:base’:\n",
      "\n",
      "    strsplit\n",
      "\n",
      "\n"
     ]
    },
    {
     "name": "stderr",
     "output_type": "stream",
     "text": [
      "Loading required package: rtracklayer\n",
      "\n"
     ]
    }
   ],
   "source": [
    "library(Seurat)\n",
    "library(Signac)\n",
    "library(ggplot2)\n",
    "library(patchwork)\n",
    "set.seed(1234)\n",
    "library(magrittr)\n",
    "library(cowplot)\n",
    "library(metap)\n",
    "library(dplyr)\n",
    "library(future)\n",
    "library(\"ComplexHeatmap\")\n",
    "library(motifmatchr)\n",
    "library(JASPAR2020)\n",
    "library(TFBSTools)\n",
    "library(BSgenome.Hsapiens.UCSC.hg38)\n"
   ]
  },
  {
   "cell_type": "markdown",
   "id": "e8a7d7b5",
   "metadata": {
    "papermill": {
     "duration": 0.084383,
     "end_time": "2021-12-03T20:54:39.249870",
     "exception": false,
     "start_time": "2021-12-03T20:54:39.165487",
     "status": "completed"
    },
    "tags": []
   },
   "source": [
    "## Import seurat object"
   ]
  },
  {
   "cell_type": "code",
   "execution_count": 6,
   "id": "2ef3a56c",
   "metadata": {
    "execution": {
     "iopub.execute_input": "2021-12-03T20:54:39.444980Z",
     "iopub.status.busy": "2021-12-03T20:54:39.440527Z",
     "iopub.status.idle": "2021-12-03T20:54:58.063254Z",
     "shell.execute_reply": "2021-12-03T20:54:58.064108Z"
    },
    "papermill": {
     "duration": 18.716103,
     "end_time": "2021-12-03T20:54:58.064393",
     "exception": false,
     "start_time": "2021-12-03T20:54:39.348290",
     "status": "completed"
    },
    "scrolled": true,
    "tags": []
   },
   "outputs": [
    {
     "name": "stdout",
     "output_type": "stream",
     "text": [
      "[1] 4\n",
      "[1] \"i 1 donor 0\"\n",
      "[1] \"only 1 clone. Using top 3 clones\"\n",
      "[1] \"i 2 donor 1\"\n",
      "[1] \"i 3 donor 2\"\n",
      "[1] \"only 1 clone. Using top 3 clones\"\n",
      "[1] \"i 4 donor 3\"\n",
      "[1] \"only 1 clone. Using top 3 clones\"\n"
     ]
    },
    {
     "data": {
      "text/html": [
       "<table class=\"dataframe\">\n",
       "<caption>A data.frame: 11 × 9</caption>\n",
       "<thead>\n",
       "\t<tr><th scope=col>X</th><th scope=col>donor</th><th scope=col>lineage</th><th scope=col>norm.total</th><th scope=col>total</th><th scope=col>name</th><th scope=col>cdf.norm</th><th scope=col>cdf</th><th scope=col>index</th></tr>\n",
       "\t<tr><th scope=col>&lt;int&gt;</th><th scope=col>&lt;int&gt;</th><th scope=col>&lt;int&gt;</th><th scope=col>&lt;dbl&gt;</th><th scope=col>&lt;int&gt;</th><th scope=col>&lt;chr&gt;</th><th scope=col>&lt;dbl&gt;</th><th scope=col>&lt;int&gt;</th><th scope=col>&lt;int&gt;</th></tr>\n",
       "</thead>\n",
       "<tbody>\n",
       "\t<tr><td> 4</td><td>1</td><td> 2</td><td>0.1960828</td><td>289</td><td>1_2 </td><td>0.09804139</td><td> 289</td><td>1</td></tr>\n",
       "\t<tr><td> 5</td><td>1</td><td> 1</td><td>0.1910281</td><td>286</td><td>1_1 </td><td>0.19355542</td><td> 575</td><td>2</td></tr>\n",
       "\t<tr><td> 6</td><td>1</td><td> 0</td><td>0.1831135</td><td>313</td><td>1_0 </td><td>0.28511218</td><td> 888</td><td>3</td></tr>\n",
       "\t<tr><td> 1</td><td>0</td><td>43</td><td>0.5171222</td><td>859</td><td>0_43</td><td>0.25856108</td><td> 859</td><td>1</td></tr>\n",
       "\t<tr><td> 2</td><td>0</td><td> 0</td><td>0.3432599</td><td>582</td><td>0_0 </td><td>0.43019104</td><td>1441</td><td>2</td></tr>\n",
       "\t<tr><td> 3</td><td>0</td><td> 2</td><td>0.1371063</td><td>234</td><td>0_2 </td><td>0.49874421</td><td>1675</td><td>3</td></tr>\n",
       "\t<tr><td> 9</td><td>2</td><td> 0</td><td>0.3321261</td><td>393</td><td>2_0 </td><td>0.16606306</td><td> 393</td><td>1</td></tr>\n",
       "\t<tr><td>10</td><td>2</td><td> 2</td><td>0.1547480</td><td>172</td><td>2_2 </td><td>0.24343705</td><td> 565</td><td>2</td></tr>\n",
       "\t<tr><td>11</td><td>2</td><td> 1</td><td>0.1296866</td><td>173</td><td>2_1 </td><td>0.30828036</td><td> 738</td><td>3</td></tr>\n",
       "\t<tr><td>15</td><td>3</td><td>37</td><td>0.5442397</td><td>680</td><td>3_37</td><td>0.27211986</td><td> 680</td><td>1</td></tr>\n",
       "\t<tr><td>16</td><td>3</td><td> 0</td><td>0.3240425</td><td>443</td><td>3_0 </td><td>0.43414112</td><td>1123</td><td>2</td></tr>\n",
       "</tbody>\n",
       "</table>\n"
      ],
      "text/latex": [
       "A data.frame: 11 × 9\n",
       "\\begin{tabular}{lllllllll}\n",
       " X & donor & lineage & norm.total & total & name & cdf.norm & cdf & index\\\\\n",
       " <int> & <int> & <int> & <dbl> & <int> & <chr> & <dbl> & <int> & <int>\\\\\n",
       "\\hline\n",
       "\t  4 & 1 &  2 & 0.1960828 & 289 & 1\\_2  & 0.09804139 &  289 & 1\\\\\n",
       "\t  5 & 1 &  1 & 0.1910281 & 286 & 1\\_1  & 0.19355542 &  575 & 2\\\\\n",
       "\t  6 & 1 &  0 & 0.1831135 & 313 & 1\\_0  & 0.28511218 &  888 & 3\\\\\n",
       "\t  1 & 0 & 43 & 0.5171222 & 859 & 0\\_43 & 0.25856108 &  859 & 1\\\\\n",
       "\t  2 & 0 &  0 & 0.3432599 & 582 & 0\\_0  & 0.43019104 & 1441 & 2\\\\\n",
       "\t  3 & 0 &  2 & 0.1371063 & 234 & 0\\_2  & 0.49874421 & 1675 & 3\\\\\n",
       "\t  9 & 2 &  0 & 0.3321261 & 393 & 2\\_0  & 0.16606306 &  393 & 1\\\\\n",
       "\t 10 & 2 &  2 & 0.1547480 & 172 & 2\\_2  & 0.24343705 &  565 & 2\\\\\n",
       "\t 11 & 2 &  1 & 0.1296866 & 173 & 2\\_1  & 0.30828036 &  738 & 3\\\\\n",
       "\t 15 & 3 & 37 & 0.5442397 & 680 & 3\\_37 & 0.27211986 &  680 & 1\\\\\n",
       "\t 16 & 3 &  0 & 0.3240425 & 443 & 3\\_0  & 0.43414112 & 1123 & 2\\\\\n",
       "\\end{tabular}\n"
      ],
      "text/markdown": [
       "\n",
       "A data.frame: 11 × 9\n",
       "\n",
       "| X &lt;int&gt; | donor &lt;int&gt; | lineage &lt;int&gt; | norm.total &lt;dbl&gt; | total &lt;int&gt; | name &lt;chr&gt; | cdf.norm &lt;dbl&gt; | cdf &lt;int&gt; | index &lt;int&gt; |\n",
       "|---|---|---|---|---|---|---|---|---|\n",
       "|  4 | 1 |  2 | 0.1960828 | 289 | 1_2  | 0.09804139 |  289 | 1 |\n",
       "|  5 | 1 |  1 | 0.1910281 | 286 | 1_1  | 0.19355542 |  575 | 2 |\n",
       "|  6 | 1 |  0 | 0.1831135 | 313 | 1_0  | 0.28511218 |  888 | 3 |\n",
       "|  1 | 0 | 43 | 0.5171222 | 859 | 0_43 | 0.25856108 |  859 | 1 |\n",
       "|  2 | 0 |  0 | 0.3432599 | 582 | 0_0  | 0.43019104 | 1441 | 2 |\n",
       "|  3 | 0 |  2 | 0.1371063 | 234 | 0_2  | 0.49874421 | 1675 | 3 |\n",
       "|  9 | 2 |  0 | 0.3321261 | 393 | 2_0  | 0.16606306 |  393 | 1 |\n",
       "| 10 | 2 |  2 | 0.1547480 | 172 | 2_2  | 0.24343705 |  565 | 2 |\n",
       "| 11 | 2 |  1 | 0.1296866 | 173 | 2_1  | 0.30828036 |  738 | 3 |\n",
       "| 15 | 3 | 37 | 0.5442397 | 680 | 3_37 | 0.27211986 |  680 | 1 |\n",
       "| 16 | 3 |  0 | 0.3240425 | 443 | 3_0  | 0.43414112 | 1123 | 2 |\n",
       "\n"
      ],
      "text/plain": [
       "   X  donor lineage norm.total total name cdf.norm   cdf  index\n",
       "1   4 1      2      0.1960828  289   1_2  0.09804139  289 1    \n",
       "2   5 1      1      0.1910281  286   1_1  0.19355542  575 2    \n",
       "3   6 1      0      0.1831135  313   1_0  0.28511218  888 3    \n",
       "4   1 0     43      0.5171222  859   0_43 0.25856108  859 1    \n",
       "5   2 0      0      0.3432599  582   0_0  0.43019104 1441 2    \n",
       "6   3 0      2      0.1371063  234   0_2  0.49874421 1675 3    \n",
       "7   9 2      0      0.3321261  393   2_0  0.16606306  393 1    \n",
       "8  10 2      2      0.1547480  172   2_2  0.24343705  565 2    \n",
       "9  11 2      1      0.1296866  173   2_1  0.30828036  738 3    \n",
       "10 15 3     37      0.5442397  680   3_37 0.27211986  680 1    \n",
       "11 16 3      0      0.3240425  443   3_0  0.43414112 1123 2    "
      ]
     },
     "metadata": {},
     "output_type": "display_data"
    }
   ],
   "source": [
    "se <- readRDS(file.path(se_indir, \"se.clonesfilt.rds\"))\n",
    "init.large.clones <- read.csv(file.path(se_indir, \"large_clones.csv\"))\n",
    "large.clones <- init.large.clones %>% filter(cdf.norm<cdf_thresh)\n",
    "\n",
    "large.clones <- check.if.one.clone(large.clones, init.large.clones, n_top_clones)\n",
    "large.clones"
   ]
  },
  {
   "cell_type": "code",
   "execution_count": 7,
   "id": "ec910a21",
   "metadata": {
    "execution": {
     "iopub.execute_input": "2021-12-03T20:54:58.247094Z",
     "iopub.status.busy": "2021-12-03T20:54:58.244456Z",
     "iopub.status.idle": "2021-12-03T20:55:05.288120Z",
     "shell.execute_reply": "2021-12-03T20:55:05.286886Z"
    },
    "papermill": {
     "duration": 7.132137,
     "end_time": "2021-12-03T20:55:05.288448",
     "exception": false,
     "start_time": "2021-12-03T20:54:58.156311",
     "status": "completed"
    },
    "tags": []
   },
   "outputs": [],
   "source": [
    "se <- subset(se, subset= name %in% factor(large.clones$name))"
   ]
  },
  {
   "cell_type": "code",
   "execution_count": 8,
   "id": "c1f91a07",
   "metadata": {
    "execution": {
     "iopub.execute_input": "2021-12-03T20:55:05.477132Z",
     "iopub.status.busy": "2021-12-03T20:55:05.475448Z",
     "iopub.status.idle": "2021-12-03T20:55:05.510170Z",
     "shell.execute_reply": "2021-12-03T20:55:05.507887Z"
    },
    "papermill": {
     "duration": 0.128656,
     "end_time": "2021-12-03T20:55:05.510634",
     "exception": false,
     "start_time": "2021-12-03T20:55:05.381978",
     "status": "completed"
    },
    "tags": []
   },
   "outputs": [],
   "source": [
    "Idents(se) <- \"name\""
   ]
  },
  {
   "cell_type": "code",
   "execution_count": 9,
   "id": "8f207cb1",
   "metadata": {
    "execution": {
     "iopub.execute_input": "2021-12-03T20:55:05.699292Z",
     "iopub.status.busy": "2021-12-03T20:55:05.696814Z",
     "iopub.status.idle": "2021-12-03T20:55:06.569236Z",
     "shell.execute_reply": "2021-12-03T20:55:06.569869Z"
    },
    "papermill": {
     "duration": 0.968021,
     "end_time": "2021-12-03T20:55:06.570108",
     "exception": false,
     "start_time": "2021-12-03T20:55:05.602087",
     "status": "completed"
    },
    "scrolled": true,
    "tags": []
   },
   "outputs": [
    {
     "name": "stderr",
     "output_type": "stream",
     "text": [
      "Saving 6.67 x 6.67 in image\n",
      "\n"
     ]
    },
    {
     "data": {
      "image/png": "[encoded data removed]",
      "text/plain": [
       "plot without title"
      ]
     },
     "metadata": {
      "image/png": {
       "height": 420,
       "width": 420
      }
     },
     "output_type": "display_data"
    }
   ],
   "source": [
    "p <- ggplot(data = large.clones, aes(index, cdf.norm)) +\n",
    "  geom_point(color = \"steelblue\", size = 1) +\n",
    "  facet_wrap(~ donor) \n",
    "\n",
    "p <- p + geom_hline(yintercept=cdf_thresh, color='green') \n",
    "p\n",
    "ggsave(file.path(outdir, \"large.clones.cdf.png\"))\n",
    "\n"
   ]
  },
  {
   "cell_type": "code",
   "execution_count": 10,
   "id": "c28a1ffa",
   "metadata": {
    "execution": {
     "iopub.execute_input": "2021-12-03T20:55:06.768622Z",
     "iopub.status.busy": "2021-12-03T20:55:06.766831Z",
     "iopub.status.idle": "2021-12-03T20:55:06.781046Z",
     "shell.execute_reply": "2021-12-03T20:55:06.779849Z"
    },
    "papermill": {
     "duration": 0.114768,
     "end_time": "2021-12-03T20:55:06.781253",
     "exception": false,
     "start_time": "2021-12-03T20:55:06.666485",
     "status": "completed"
    },
    "tags": []
   },
   "outputs": [],
   "source": [
    "## Get motif names\n",
    "\n",
    "# DefaultAssay(se) <- \"chromvar\"\n",
    "# chrom.var.names <- GetAssayData(se)\n",
    "# DefaultAssay(se) <- \"ATAC\"\n",
    "# motifs <- Motifs(se)\n",
    "# #Motifs(se)@motif.names\n",
    "\n",
    "# head(chrom.var.names)\n",
    "# row.names(chrom.var.names) <- sapply(row.names(chrom.var.names), function(x) {Motifs(se)@motif.names[[x]]})\n",
    "# head(chrom.var.names)\n",
    "\n",
    "\n"
   ]
  },
  {
   "cell_type": "markdown",
   "id": "5564da63",
   "metadata": {
    "papermill": {
     "duration": 0.089019,
     "end_time": "2021-12-03T20:55:06.967028",
     "exception": false,
     "start_time": "2021-12-03T20:55:06.878009",
     "status": "completed"
    },
    "tags": []
   },
   "source": [
    "## TF DE"
   ]
  },
  {
   "cell_type": "markdown",
   "id": "e7def62d",
   "metadata": {
    "papermill": {
     "duration": 0.082203,
     "end_time": "2021-12-03T20:55:07.137110",
     "exception": false,
     "start_time": "2021-12-03T20:55:07.054907",
     "status": "completed"
    },
    "tags": []
   },
   "source": [
    "## Summarize results"
   ]
  },
  {
   "cell_type": "code",
   "execution_count": 11,
   "id": "c7854307",
   "metadata": {
    "execution": {
     "iopub.execute_input": "2021-12-03T20:55:07.312626Z",
     "iopub.status.busy": "2021-12-03T20:55:07.309069Z",
     "iopub.status.idle": "2021-12-03T20:55:07.324846Z",
     "shell.execute_reply": "2021-12-03T20:55:07.323503Z"
    },
    "papermill": {
     "duration": 0.106141,
     "end_time": "2021-12-03T20:55:07.325014",
     "exception": false,
     "start_time": "2021-12-03T20:55:07.218873",
     "status": "completed"
    },
    "scrolled": true,
    "tags": []
   },
   "outputs": [],
   "source": [
    "# all.names.sig <- c()\n",
    "# DefaultAssay(se) <- \"chromvarnames\"\n",
    "# for (d in 0:(n_donors-1)){\n",
    "#     print('donor')\n",
    "#     print(d)\n",
    "#     curr.indir <- file.path(indir, paste0(\"donor\", d, \"_TF\"))\n",
    "#     #curr.outdir <- file.path(outdir, paste0(\"donor\", d, \"_TF\"))\n",
    "#     #dir.create(curr.outdir)\n",
    "#     donor.large.clones <- large.clones %>% filter(donor==d)\n",
    "#     clones.filt.ids <- sort(donor.large.clones$lineage)\n",
    "#     se.filt <- subset(se, subset = (donor==d) & (lineage %in% donor.large.clones$lineage))\n",
    "#     if (length(clones.filt.ids) < 2){\n",
    "#         print(\"0 or 1 clone found. not running\")\n",
    "#         next\n",
    "#     }\n",
    "#     pairs = combn(clones.filt.ids,2)\n",
    "#     names.sig <- c()\n",
    "\n",
    "#     for (i in 1:dim(pairs)[2]){\n",
    "#         print(pairs[,i])\n",
    "#         print(paste(\"comparison #\", i))\n",
    "#         a = pairs[1,i]\n",
    "#         b = pairs[2,i]\n",
    "#         curr.tf.da <- read.csv(file.path(curr.indir, \n",
    "#                                          paste0(\"clones_\",a,\"__\", b,\".DE.TF.csv\"))) %>% \n",
    "#                       arrange(p_val)\n",
    "#         row.names(curr.tf.da) <- curr.tf.da$X  #sapply(curr.tf.da$X, function(m) {motifs@motif.names[[m]]})\n",
    "#         names.sig <- c(names.sig, head(row.names(curr.tf.da), n_top_genes))\n",
    "#         all.names.sig <- c(all.names.sig, head(row.names(curr.tf.da), n_top_genes))\n",
    "#         }\n",
    "#     names.sig <- unique(names.sig)\n",
    "    \n",
    "#     gally <- GGally::ggpairs(curr.tf.da[,c(\"p_val\", \"p_val_adj\")], aes(alpha = 0.4))\n",
    "# }\n"
   ]
  },
  {
   "cell_type": "code",
   "execution_count": 12,
   "id": "78949989",
   "metadata": {
    "execution": {
     "iopub.execute_input": "2021-12-03T20:55:07.513079Z",
     "iopub.status.busy": "2021-12-03T20:55:07.509335Z",
     "iopub.status.idle": "2021-12-03T20:56:02.430741Z",
     "shell.execute_reply": "2021-12-03T20:56:02.429427Z"
    },
    "papermill": {
     "duration": 55.013531,
     "end_time": "2021-12-03T20:56:02.431262",
     "exception": false,
     "start_time": "2021-12-03T20:55:07.417731",
     "status": "completed"
    },
    "scrolled": true,
    "tags": []
   },
   "outputs": [
    {
     "name": "stdout",
     "output_type": "stream",
     "text": [
      "[1] \"donor\"\n",
      "[1] 0\n",
      "[1] 0 2\n",
      "[1] \"comparison # 1\"\n",
      "       X        p_val  avg_diff pct.1 pct.2 p_val_adj p_val_adj_BH\n",
      "1  HOXA6 0.0004193997 0.3011432 0.519 0.406 0.2654800   0.07129795\n",
      "2  HOXB7 0.0014572314 0.2661255 0.515 0.406 0.9224275   0.08109619\n",
      "3  SCRT2 0.0029438037 0.2351144 0.545 0.444 1.0000000   0.08109619\n",
      "4  SCRT1 0.0039525905 0.2172396 0.572 0.457 1.0000000   0.08109619\n",
      "5 NKX6-1 0.0041119750 0.2527781 0.531 0.436 1.0000000   0.08109619\n",
      "6 NKX6-2 0.0041119750 0.2527781 0.531 0.436 1.0000000   0.08109619\n"
     ]
    },
    {
     "name": "stderr",
     "output_type": "stream",
     "text": [
      "Registered S3 method overwritten by 'GGally':\n",
      "  method from   \n",
      "  +.gg   ggplot2\n",
      "\n"
     ]
    },
    {
     "name": "stderr",
     "output_type": "stream",
     "text": [
      "Saving 6.67 x 6.67 in image\n",
      "\n"
     ]
    },
    {
     "name": "stderr",
     "output_type": "stream",
     "text": [
      "Warning message:\n",
      "“`guides(<scale> = FALSE)` is deprecated. Please use `guides(<scale> = \"none\")` instead.”\n"
     ]
    },
    {
     "name": "stderr",
     "output_type": "stream",
     "text": [
      "Saving 6.67 x 6.67 in image\n",
      "\n"
     ]
    },
    {
     "name": "stdout",
     "output_type": "stream",
     "text": [
      "[1]  0 43\n",
      "[1] \"comparison # 2\"\n",
      "            X        p_val   avg_diff pct.1 pct.2  p_val_adj p_val_adj_BH\n",
      "1     ZKSCAN5 2.125021e-05 -0.2694716 0.395 0.489 0.01345138   0.00158805\n",
      "2   JUN::JUNB 4.676678e-05 -0.3477678 0.361 0.405 0.02960337   0.00158805\n",
      "3 FOSL2::JUNB 5.237335e-05 -0.3820891 0.347 0.410 0.03315233   0.00158805\n",
      "4 FOSL2::JUND 6.876343e-05 -0.3823231 0.352 0.402 0.04352725   0.00158805\n",
      "5  FOSB::JUNB 7.931398e-05 -0.3790053 0.364 0.398 0.05020575   0.00158805\n",
      "6   FOS::JUNB 9.226535e-05 -0.3762223 0.363 0.413 0.05840397   0.00158805\n"
     ]
    },
    {
     "name": "stderr",
     "output_type": "stream",
     "text": [
      "Saving 6.67 x 6.67 in image\n",
      "\n"
     ]
    },
    {
     "name": "stderr",
     "output_type": "stream",
     "text": [
      "Warning message:\n",
      "“`guides(<scale> = FALSE)` is deprecated. Please use `guides(<scale> = \"none\")` instead.”\n"
     ]
    },
    {
     "name": "stderr",
     "output_type": "stream",
     "text": [
      "Saving 6.67 x 6.67 in image\n",
      "\n"
     ]
    },
    {
     "name": "stdout",
     "output_type": "stream",
     "text": [
      "[1]  2 43\n",
      "[1] \"comparison # 3\"\n",
      "       X       p_val   avg_diff pct.1 pct.2 p_val_adj p_val_adj_BH\n",
      "1  NR1I3 0.001304654  0.2207673 0.577 0.463 0.8258457    0.0959175\n",
      "2  SMAD3 0.001838166 -0.2453404 0.444 0.517 1.0000000    0.0959175\n",
      "3    TEF 0.002333072 -0.2231416 0.415 0.540 1.0000000    0.0959175\n",
      "4  BACH1 0.003846536 -0.3064355 0.355 0.432 1.0000000    0.0959175\n",
      "5  TBX20 0.004256803 -0.1937015 0.436 0.518 1.0000000    0.0959175\n",
      "6 NFE2L1 0.005116455 -0.2720621 0.385 0.438 1.0000000    0.0959175\n"
     ]
    },
    {
     "name": "stderr",
     "output_type": "stream",
     "text": [
      "Saving 6.67 x 6.67 in image\n",
      "\n"
     ]
    },
    {
     "name": "stderr",
     "output_type": "stream",
     "text": [
      "Warning message:\n",
      "“`guides(<scale> = FALSE)` is deprecated. Please use `guides(<scale> = \"none\")` instead.”\n"
     ]
    },
    {
     "name": "stderr",
     "output_type": "stream",
     "text": [
      "Saving 6.67 x 6.67 in image\n",
      "\n"
     ]
    },
    {
     "name": "stderr",
     "output_type": "stream",
     "text": [
      "The automatically generated colors map from the minus and plus 99^th of\n",
      "the absolute values in the matrix. There are outliers in the matrix\n",
      "whose patterns might be hidden by this color mapping. You can manually\n",
      "set the color to `col` argument.\n",
      "\n",
      "Use `suppressMessages()` to turn off this message.\n",
      "\n"
     ]
    },
    {
     "name": "stderr",
     "output_type": "stream",
     "text": [
      "'magick' package is suggested to install to give better rasterization.\n",
      "\n",
      "Set `ht_opt$message = FALSE` to turn off this message.\n",
      "\n"
     ]
    },
    {
     "name": "stderr",
     "output_type": "stream",
     "text": [
      "Saving 6.67 x 6.67 in image\n",
      "\n"
     ]
    },
    {
     "name": "stderr",
     "output_type": "stream",
     "text": [
      "Saving 6.67 x 6.67 in image\n",
      "\n"
     ]
    },
    {
     "name": "stderr",
     "output_type": "stream",
     "text": [
      "Saving 6.67 x 6.67 in image\n",
      "\n"
     ]
    },
    {
     "name": "stdout",
     "output_type": "stream",
     "text": [
      "[1] \"donor\"\n",
      "[1] 1\n",
      "[1] 0 1\n",
      "[1] \"comparison # 1\"\n",
      "             X       p_val   avg_diff pct.1 pct.2 p_val_adj p_val_adj_BH\n",
      "1      NEUROG2 0.002777885 -0.2249090 0.428 0.549         1    0.1545094\n",
      "2         ZIC1 0.003195360 -0.2345006 0.431 0.538         1    0.1545094\n",
      "3        ZNF24 0.005523217 -0.2182953 0.428 0.535         1    0.1545094\n",
      "4 TFAP4(var.2) 0.006481867 -0.2334472 0.441 0.524         1    0.1545094\n",
      "5         ELF3 0.006537715 -0.2944225 0.476 0.538         1    0.1545094\n",
      "6        GLIS2 0.006650710 -0.2084975 0.447 0.528         1    0.1545094\n"
     ]
    },
    {
     "name": "stderr",
     "output_type": "stream",
     "text": [
      "Saving 6.67 x 6.67 in image\n",
      "\n"
     ]
    },
    {
     "name": "stderr",
     "output_type": "stream",
     "text": [
      "Warning message in cor(x, y):\n",
      "“the standard deviation is zero”\n"
     ]
    },
    {
     "name": "stderr",
     "output_type": "stream",
     "text": [
      "Warning message in cor(x, y):\n",
      "“the standard deviation is zero”\n"
     ]
    },
    {
     "name": "stderr",
     "output_type": "stream",
     "text": [
      "Warning message:\n",
      "“`guides(<scale> = FALSE)` is deprecated. Please use `guides(<scale> = \"none\")` instead.”\n"
     ]
    },
    {
     "name": "stderr",
     "output_type": "stream",
     "text": [
      "Saving 6.67 x 6.67 in image\n",
      "\n"
     ]
    },
    {
     "name": "stdout",
     "output_type": "stream",
     "text": [
      "[1] 0 2\n",
      "[1] \"comparison # 2\"\n",
      "            X        p_val  avg_diff pct.1 pct.2    p_val_adj p_val_adj_BH\n",
      "1   JUN::JUNB 3.324491e-08 0.7843009 0.546 0.336 2.104403e-05 3.559091e-06\n",
      "2 FOSL1::JUNB 4.157483e-08 0.8935061 0.562 0.367 2.631687e-05 3.559091e-06\n",
      "3        JDP2 4.477683e-08 0.7583197 0.540 0.370 2.834373e-05 3.559091e-06\n",
      "4  FOSL1::JUN 5.858964e-08 0.8601499 0.559 0.325 3.708724e-05 3.559091e-06\n",
      "5 FOSL2::JUND 7.356200e-08 0.8804084 0.540 0.346 4.656475e-05 3.559091e-06\n",
      "6        JUND 1.177975e-07 0.8271489 0.534 0.332 7.456581e-05 3.559091e-06\n"
     ]
    },
    {
     "name": "stderr",
     "output_type": "stream",
     "text": [
      "Saving 6.67 x 6.67 in image\n",
      "\n"
     ]
    },
    {
     "name": "stderr",
     "output_type": "stream",
     "text": [
      "Warning message:\n",
      "“`guides(<scale> = FALSE)` is deprecated. Please use `guides(<scale> = \"none\")` instead.”\n"
     ]
    },
    {
     "name": "stderr",
     "output_type": "stream",
     "text": [
      "Saving 6.67 x 6.67 in image\n",
      "\n"
     ]
    },
    {
     "name": "stdout",
     "output_type": "stream",
     "text": [
      "[1] 1 2\n",
      "[1] \"comparison # 3\"\n",
      "            X        p_val  avg_diff pct.1 pct.2   p_val_adj p_val_adj_BH\n",
      "1        JUND 2.068268e-06 0.7919438 0.510 0.332 0.001309213 0.0001461352\n",
      "2  JUN(var.2) 2.233358e-06 0.8507659 0.510 0.363 0.001413716 0.0001461352\n",
      "3        JUNB 3.227788e-06 0.7891834 0.510 0.360 0.002043190 0.0001461352\n",
      "4  FOSL1::JUN 3.644963e-06 0.7906463 0.517 0.325 0.002307262 0.0001461352\n",
      "5 FOSL2::JUND 4.844274e-06 0.8344754 0.521 0.346 0.003066425 0.0001461352\n",
      "6  FOSL2::JUN 5.739216e-06 0.7915613 0.517 0.346 0.003632924 0.0001461352\n"
     ]
    },
    {
     "name": "stderr",
     "output_type": "stream",
     "text": [
      "Saving 6.67 x 6.67 in image\n",
      "\n"
     ]
    },
    {
     "name": "stderr",
     "output_type": "stream",
     "text": [
      "Warning message:\n",
      "“`guides(<scale> = FALSE)` is deprecated. Please use `guides(<scale> = \"none\")` instead.”\n"
     ]
    },
    {
     "name": "stderr",
     "output_type": "stream",
     "text": [
      "Saving 6.67 x 6.67 in image\n",
      "\n"
     ]
    },
    {
     "name": "stderr",
     "output_type": "stream",
     "text": [
      "'magick' package is suggested to install to give better rasterization.\n",
      "\n",
      "Set `ht_opt$message = FALSE` to turn off this message.\n",
      "\n"
     ]
    },
    {
     "name": "stderr",
     "output_type": "stream",
     "text": [
      "Saving 6.67 x 6.67 in image\n",
      "\n"
     ]
    },
    {
     "name": "stderr",
     "output_type": "stream",
     "text": [
      "Saving 6.67 x 6.67 in image\n",
      "\n"
     ]
    },
    {
     "name": "stderr",
     "output_type": "stream",
     "text": [
      "Saving 6.67 x 6.67 in image\n",
      "\n"
     ]
    },
    {
     "name": "stdout",
     "output_type": "stream",
     "text": [
      "[1] \"donor\"\n",
      "[1] 2\n",
      "[1] 0 1\n",
      "[1] \"comparison # 1\"\n",
      "                   X        p_val  avg_diff pct.1 pct.2  p_val_adj p_val_adj_BH\n",
      "1 FOSL2::JUND(var.2) 6.384573e-05 0.3309786 0.557 0.382 0.04041435   0.00871146\n",
      "2             PHOX2A 9.733474e-05 0.3291030 0.567 0.393 0.06161289   0.00871146\n",
      "3   JUN::JUNB(var.2) 4.986443e-04 0.3070725 0.555 0.410 0.31564183   0.02975244\n",
      "4 FOSL2::JUNB(var.2) 1.391630e-03 0.2778877 0.552 0.434 0.88090207   0.06227546\n",
      "5          FOSB::JUN 1.778254e-03 0.2548081 0.565 0.428 1.00000000   0.06366150\n",
      "6              PROP1 2.968534e-03 0.2754720 0.575 0.451 1.00000000   0.07370408\n"
     ]
    },
    {
     "name": "stderr",
     "output_type": "stream",
     "text": [
      "Saving 6.67 x 6.67 in image\n",
      "\n"
     ]
    },
    {
     "name": "stderr",
     "output_type": "stream",
     "text": [
      "Warning message:\n",
      "“`guides(<scale> = FALSE)` is deprecated. Please use `guides(<scale> = \"none\")` instead.”\n"
     ]
    },
    {
     "name": "stderr",
     "output_type": "stream",
     "text": [
      "Saving 6.67 x 6.67 in image\n",
      "\n"
     ]
    },
    {
     "name": "stdout",
     "output_type": "stream",
     "text": [
      "[1] 0 2\n",
      "[1] \"comparison # 2\"\n",
      "       X       p_val   avg_diff pct.1 pct.2 p_val_adj p_val_adj_BH\n",
      "1 ZBTB12 0.004876819  0.2631923 0.511 0.407         1      0.28065\n",
      "2  THAP1 0.004971122  0.2194063 0.565 0.419         1      0.28065\n",
      "3  NR5A1 0.006812959  0.1826739 0.417 0.302         1      0.28065\n",
      "4  HOXA7 0.011850796 -0.1887618 0.440 0.576         1      0.28065\n",
      "5  HOXB8 0.011850796 -0.1887618 0.440 0.576         1      0.28065\n",
      "6  HOXD8 0.011850796 -0.1887618 0.440 0.576         1      0.28065\n"
     ]
    },
    {
     "name": "stderr",
     "output_type": "stream",
     "text": [
      "Saving 6.67 x 6.67 in image\n",
      "\n"
     ]
    },
    {
     "name": "stderr",
     "output_type": "stream",
     "text": [
      "Warning message in cor(x, y):\n",
      "“the standard deviation is zero”\n"
     ]
    },
    {
     "name": "stderr",
     "output_type": "stream",
     "text": [
      "Warning message in cor(x, y):\n",
      "“the standard deviation is zero”\n"
     ]
    },
    {
     "name": "stderr",
     "output_type": "stream",
     "text": [
      "Warning message:\n",
      "“`guides(<scale> = FALSE)` is deprecated. Please use `guides(<scale> = \"none\")` instead.”\n"
     ]
    },
    {
     "name": "stderr",
     "output_type": "stream",
     "text": [
      "Saving 6.67 x 6.67 in image\n",
      "\n"
     ]
    },
    {
     "name": "stdout",
     "output_type": "stream",
     "text": [
      "[1] 1 2\n",
      "[1] \"comparison # 3\"\n",
      "                   X        p_val   avg_diff pct.1 pct.2  p_val_adj\n",
      "1 FOSL2::JUND(var.2) 0.0001405317 -0.4248440 0.382 0.552 0.08895655\n",
      "2   JUN::JUNB(var.2) 0.0009600662 -0.3577941 0.410 0.558 0.60772190\n",
      "3             PHOX2A 0.0028098448 -0.2991143 0.393 0.587 1.00000000\n",
      "4               ATF7 0.0059737871 -0.3094198 0.445 0.558 1.00000000\n",
      "5                VDR 0.0077980938  0.3176520 0.584 0.477 1.00000000\n",
      "6 FOSL2::JUNB(var.2) 0.0089419393 -0.3249370 0.434 0.535 1.00000000\n",
      "  p_val_adj_BH\n",
      "1   0.03428973\n",
      "2   0.11712808\n",
      "3   0.22853404\n",
      "4   0.27925784\n",
      "5   0.27925784\n",
      "6   0.27925784\n"
     ]
    },
    {
     "name": "stderr",
     "output_type": "stream",
     "text": [
      "Saving 6.67 x 6.67 in image\n",
      "\n"
     ]
    },
    {
     "name": "stderr",
     "output_type": "stream",
     "text": [
      "Warning message:\n",
      "“`guides(<scale> = FALSE)` is deprecated. Please use `guides(<scale> = \"none\")` instead.”\n"
     ]
    },
    {
     "name": "stderr",
     "output_type": "stream",
     "text": [
      "Saving 6.67 x 6.67 in image\n",
      "\n"
     ]
    },
    {
     "name": "stderr",
     "output_type": "stream",
     "text": [
      "'magick' package is suggested to install to give better rasterization.\n",
      "\n",
      "Set `ht_opt$message = FALSE` to turn off this message.\n",
      "\n"
     ]
    },
    {
     "name": "stderr",
     "output_type": "stream",
     "text": [
      "Saving 6.67 x 6.67 in image\n",
      "\n"
     ]
    },
    {
     "name": "stderr",
     "output_type": "stream",
     "text": [
      "Saving 6.67 x 6.67 in image\n",
      "\n"
     ]
    },
    {
     "name": "stderr",
     "output_type": "stream",
     "text": [
      "Saving 6.67 x 6.67 in image\n",
      "\n"
     ]
    },
    {
     "name": "stdout",
     "output_type": "stream",
     "text": [
      "[1] \"donor\"\n",
      "[1] 3\n",
      "[1]  0 37\n",
      "[1] \"comparison # 1\"\n",
      "        X       p_val  avg_diff pct.1 pct.2 p_val_adj p_val_adj_BH\n",
      "1   HINFP 0.002371166 0.2035491 0.497 0.441         1   0.07157485\n",
      "2   STAT3 0.003136486 0.1571502 0.490 0.410         1   0.07157485\n",
      "3 NEUROD1 0.003299010 0.1780659 0.553 0.453         1   0.07157485\n",
      "4    FLI1 0.004592571 0.1642620 0.474 0.397         1   0.07157485\n",
      "5    ELF2 0.004707494 0.1638111 0.474 0.399         1   0.07157485\n",
      "6  ZNF684 0.006606036 0.1444721 0.508 0.431         1   0.07157485\n"
     ]
    },
    {
     "name": "stderr",
     "output_type": "stream",
     "text": [
      "Saving 6.67 x 6.67 in image\n",
      "\n"
     ]
    },
    {
     "name": "stderr",
     "output_type": "stream",
     "text": [
      "Warning message in cor(x, y):\n",
      "“the standard deviation is zero”\n"
     ]
    },
    {
     "name": "stderr",
     "output_type": "stream",
     "text": [
      "Warning message in cor(x, y):\n",
      "“the standard deviation is zero”\n"
     ]
    },
    {
     "name": "stderr",
     "output_type": "stream",
     "text": [
      "Warning message:\n",
      "“`guides(<scale> = FALSE)` is deprecated. Please use `guides(<scale> = \"none\")` instead.”\n"
     ]
    },
    {
     "name": "stderr",
     "output_type": "stream",
     "text": [
      "Saving 6.67 x 6.67 in image\n",
      "\n"
     ]
    },
    {
     "name": "stderr",
     "output_type": "stream",
     "text": [
      "'magick' package is suggested to install to give better rasterization.\n",
      "\n",
      "Set `ht_opt$message = FALSE` to turn off this message.\n",
      "\n"
     ]
    },
    {
     "name": "stderr",
     "output_type": "stream",
     "text": [
      "Saving 6.67 x 6.67 in image\n",
      "\n"
     ]
    },
    {
     "name": "stderr",
     "output_type": "stream",
     "text": [
      "Saving 6.67 x 6.67 in image\n",
      "\n"
     ]
    },
    {
     "name": "stderr",
     "output_type": "stream",
     "text": [
      "Saving 6.67 x 6.67 in image\n",
      "\n"
     ]
    }
   ],
   "source": [
    "all.names.sig <- c()\n",
    "DefaultAssay(se) <- \"chromvarnames\"\n",
    "for (d in 0:(n_donors-1)){\n",
    "    print('donor')\n",
    "    print(d)\n",
    "    curr.indir <- file.path(indir, paste0(\"donor\", d, \"_TF\"))\n",
    "    curr.outdir <- file.path(outdir, paste0(\"donor\", d, \"_TF\"))\n",
    "    dir.create(curr.outdir)\n",
    "    donor.large.clones <- large.clones %>% filter(donor==d)\n",
    "    if (dim(donor.large.clones)[1] < 2){\n",
    "        print('no donor')\n",
    "        next\n",
    "    }\n",
    "    clones.filt.ids <- sort(donor.large.clones$lineage)\n",
    "    se.filt <- subset(se, subset = (donor==d) & (lineage %in% donor.large.clones$lineage))\n",
    "    if (length(clones.filt.ids) < 2){\n",
    "        print(\"0 or 1 clone found. not running\")\n",
    "        next\n",
    "    }\n",
    "    pairs = combn(clones.filt.ids,2)\n",
    "    names.sig <- c()\n",
    "\n",
    "    for (i in 1:dim(pairs)[2]){\n",
    "        print(pairs[,i])\n",
    "        print(paste(\"comparison #\", i))\n",
    "        a = pairs[1,i]\n",
    "        b = pairs[2,i]\n",
    "        curr.tf.da <- read.csv(file.path(curr.indir, \n",
    "                                         paste0(\"clones_\",a,\"__\", b,\".DE.TF.csv\"))) %>% \n",
    "                      arrange(p_val)\n",
    "        print(head(curr.tf.da))\n",
    "        row.names(curr.tf.da) <- curr.tf.da$X  #sapply(curr.tf.da$X, function(m) {motifs@motif.names[[m]]})\n",
    "        #curr.tf.da\n",
    "        names.sig <- c(names.sig, head(row.names(curr.tf.da), n_top_genes))\n",
    "        all.names.sig <- c(all.names.sig, head(row.names(curr.tf.da), n_top_genes))\n",
    "        gally <- GGally::ggpairs(curr.tf.da[,c(\"p_val\", \"p_val_adj\", \"avg_diff\")], aes(alpha = 0.4))\n",
    "        ggsave(plot=gally, \n",
    "                   file=file.path(curr.outdir, paste0(\"clones_\",a,\"__\", b,\".DE.TF.pvalHist.top.png\")))\n",
    "        DefaultAssay(se.filt) <- \"ATAC\"\n",
    "        raw.ids <- names(Motifs(se.filt)@motif.names)\n",
    "        rownames(curr.tf.da) <- sapply((curr.tf.da$X), function(x){raw.ids[match(x, Motifs(se.filt)@motif.names)]})\n",
    "        m <- MotifPlot(\n",
    "          object = se.filt,\n",
    "          motifs = head(rownames(curr.tf.da)),\n",
    "          assay = 'ATAC'\n",
    "        )\n",
    "        ggsave(plot=m, \n",
    "                   file=file.path(curr.outdir, paste0(\"clones_\",a,\"__\", b,\".DE.TF.motif.top.png\")))\n",
    "\n",
    "\n",
    "        }\n",
    "    DefaultAssay(se.filt) <- \"chromvarnames\"\n",
    "    names.sig <- unique(names.sig)\n",
    "    \n",
    "\n",
    "    feat <- FeaturePlot(se.filt,  features=names.sig)\n",
    "\n",
    "    vln <- VlnPlot(se.filt,  features=names.sig, pt.size = 0)\n",
    "\n",
    "    dot <- DotPlot(se.filt, features = names.sig) + RotatedAxis()\n",
    "\n",
    "    # split by a vector\n",
    "    pdf((file.path(curr.outdir, \"heatmap.top.pdf\")), width=8,height=8)\n",
    "    \n",
    "    heat <- ComplexHeatmap::Heatmap(GetAssayData(se.filt)[names.sig,], \n",
    "            name = paste0(\"donor\",d),\n",
    "            column_split = se.filt[[]][\"lineage\"],\n",
    "            show_column_names = FALSE, use_raster=TRUE\n",
    "           )\n",
    "    ComplexHeatmap::draw(heat)\n",
    "    dev.off()\n",
    "    \n",
    "    ggsave(plot=feat, \n",
    "           file=file.path(curr.outdir, (\"embedFeat.top.png\")))\n",
    "    ggsave(plot=dot, \n",
    "           file=file.path(curr.outdir, (\"dot.top.png\")))\n",
    "    ggsave(plot=vln, \n",
    "           file=file.path(curr.outdir, (\"violin.top.png\")))\n",
    "    }\n",
    "all.names.sig <- unique(all.names.sig)"
   ]
  },
  {
   "cell_type": "markdown",
   "id": "0bb45042",
   "metadata": {
    "papermill": {
     "duration": 0.157295,
     "end_time": "2021-12-03T20:56:02.752770",
     "exception": false,
     "start_time": "2021-12-03T20:56:02.595475",
     "status": "completed"
    },
    "tags": []
   },
   "source": [
    "## Dotplot for all donors"
   ]
  },
  {
   "cell_type": "code",
   "execution_count": 13,
   "id": "4219fb55",
   "metadata": {
    "execution": {
     "iopub.execute_input": "2021-12-03T20:56:03.238648Z",
     "iopub.status.busy": "2021-12-03T20:56:03.236809Z",
     "iopub.status.idle": "2021-12-03T20:56:03.701928Z",
     "shell.execute_reply": "2021-12-03T20:56:03.700334Z"
    },
    "papermill": {
     "duration": 0.708716,
     "end_time": "2021-12-03T20:56:03.702149",
     "exception": false,
     "start_time": "2021-12-03T20:56:02.993433",
     "status": "completed"
    },
    "tags": []
   },
   "outputs": [
    {
     "data": {
      "text/html": [
       "<strong>png:</strong> 2"
      ],
      "text/latex": [
       "\\textbf{png:} 2"
      ],
      "text/markdown": [
       "**png:** 2"
      ],
      "text/plain": [
       "png \n",
       "  2 "
      ]
     },
     "metadata": {},
     "output_type": "display_data"
    }
   ],
   "source": [
    "pdf(file = file.path(outdir, \"./dotplot.allDonors.top.pdf\"), width = 8, height = 8)\n",
    "dot <- DotPlot(se, features = all.names.sig, group.by=\"donor\") + RotatedAxis()\n",
    "dot\n",
    "dev.off()"
   ]
  },
  {
   "cell_type": "code",
   "execution_count": 14,
   "id": "337318ad",
   "metadata": {
    "execution": {
     "iopub.execute_input": "2021-12-03T20:56:04.162798Z",
     "iopub.status.busy": "2021-12-03T20:56:04.160966Z",
     "iopub.status.idle": "2021-12-03T20:56:04.787936Z",
     "shell.execute_reply": "2021-12-03T20:56:04.782943Z"
    },
    "papermill": {
     "duration": 0.847689,
     "end_time": "2021-12-03T20:56:04.788274",
     "exception": false,
     "start_time": "2021-12-03T20:56:03.940585",
     "status": "completed"
    },
    "tags": []
   },
   "outputs": [
    {
     "data": {
      "text/html": [
       "<strong>png:</strong> 2"
      ],
      "text/latex": [
       "\\textbf{png:} 2"
      ],
      "text/markdown": [
       "**png:** 2"
      ],
      "text/plain": [
       "png \n",
       "  2 "
      ]
     },
     "metadata": {},
     "output_type": "display_data"
    }
   ],
   "source": [
    "pdf(file = file.path(outdir, \"./dotplot.allDonors.clones.top.pdf\"), width = 8, height = 8)\n",
    "dot <- DotPlot(se, features = all.names.sig, group.by=\"name\", cluster.idents=T) + RotatedAxis()\n",
    "dot\n",
    "dev.off()"
   ]
  },
  {
   "cell_type": "markdown",
   "id": "b78aba1f",
   "metadata": {
    "papermill": {
     "duration": 0.323853,
     "end_time": "2021-12-03T20:56:05.444296",
     "exception": false,
     "start_time": "2021-12-03T20:56:05.120443",
     "status": "completed"
    },
    "tags": []
   },
   "source": [
    "## Heatmap for all donors"
   ]
  },
  {
   "cell_type": "code",
   "execution_count": 15,
   "id": "ca052607",
   "metadata": {
    "execution": {
     "iopub.execute_input": "2021-12-03T20:56:06.376849Z",
     "iopub.status.busy": "2021-12-03T20:56:06.370726Z",
     "iopub.status.idle": "2021-12-03T20:56:25.795993Z",
     "shell.execute_reply": "2021-12-03T20:56:25.790431Z"
    },
    "papermill": {
     "duration": 20.007668,
     "end_time": "2021-12-03T20:56:25.796443",
     "exception": false,
     "start_time": "2021-12-03T20:56:05.788775",
     "status": "completed"
    },
    "scrolled": false,
    "tags": []
   },
   "outputs": [
    {
     "data": {
      "text/html": [
       "<strong>png:</strong> 2"
      ],
      "text/latex": [
       "\\textbf{png:} 2"
      ],
      "text/markdown": [
       "**png:** 2"
      ],
      "text/plain": [
       "png \n",
       "  2 "
      ]
     },
     "metadata": {},
     "output_type": "display_data"
    }
   ],
   "source": [
    "pdf((file.path(outdir, \"heatmap.allDonors.top.pdf\")), width=8,height=8)\n",
    "heat <- ComplexHeatmap::Heatmap(GetAssayData(se)[names.sig,], \n",
    "        top_annotation = HeatmapAnnotation(donor=as.character(se$donor)),\n",
    "        show_column_names = FALSE, \n",
    "        column_split = se[[\"name\"]],\n",
    "       )\n",
    "\n",
    "ComplexHeatmap::draw(heat)\n",
    "dev.off()"
   ]
  },
  {
   "cell_type": "code",
   "execution_count": 16,
   "id": "ffb06010",
   "metadata": {
    "execution": {
     "iopub.execute_input": "2021-12-03T20:56:26.465749Z",
     "iopub.status.busy": "2021-12-03T20:56:26.461723Z",
     "iopub.status.idle": "2021-12-03T20:56:26.491350Z",
     "shell.execute_reply": "2021-12-03T20:56:26.487428Z"
    },
    "papermill": {
     "duration": 0.388425,
     "end_time": "2021-12-03T20:56:26.491647",
     "exception": false,
     "start_time": "2021-12-03T20:56:26.103222",
     "status": "completed"
    },
    "scrolled": false,
    "tags": []
   },
   "outputs": [],
   "source": [
    "# pdf((file.path(outdir, \"heatmap.allDonors.anno.top.pdf\")), width=8,height=8)\n",
    "# heat <- ComplexHeatmap::Heatmap(GetAssayData(se)[all.names.sig,], \n",
    "#         top_annotation = HeatmapAnnotation(donor=as.character(se$donor), clone=as.character(se$lineage), \n",
    "#                                            depth=anno_barplot(log10(se$peak_region_fragments))),\n",
    "#         show_column_names = FALSE\n",
    "#        )\n",
    "\n",
    "# ComplexHeatmap::draw(heat)\n",
    "# dev.off()"
   ]
  },
  {
   "cell_type": "code",
   "execution_count": 17,
   "id": "a8b61392",
   "metadata": {
    "execution": {
     "iopub.execute_input": "2021-12-03T20:56:27.174376Z",
     "iopub.status.busy": "2021-12-03T20:56:27.173244Z",
     "iopub.status.idle": "2021-12-03T20:56:42.983506Z",
     "shell.execute_reply": "2021-12-03T20:56:42.978274Z"
    },
    "papermill": {
     "duration": 16.151594,
     "end_time": "2021-12-03T20:56:42.983927",
     "exception": false,
     "start_time": "2021-12-03T20:56:26.832333",
     "status": "completed"
    },
    "tags": []
   },
   "outputs": [
    {
     "name": "stderr",
     "output_type": "stream",
     "text": [
      "The automatically generated colors map from the minus and plus 99^th of\n",
      "the absolute values in the matrix. There are outliers in the matrix\n",
      "whose patterns might be hidden by this color mapping. You can manually\n",
      "set the color to `col` argument.\n",
      "\n",
      "Use `suppressMessages()` to turn off this message.\n",
      "\n"
     ]
    },
    {
     "name": "stderr",
     "output_type": "stream",
     "text": [
      "`use_raster` is automatically set to TRUE for a matrix with more than\n",
      "2000 columns You can control `use_raster` argument by explicitly\n",
      "setting TRUE/FALSE to it.\n",
      "\n",
      "Set `ht_opt$message = FALSE` to turn off this message.\n",
      "\n"
     ]
    },
    {
     "name": "stderr",
     "output_type": "stream",
     "text": [
      "'magick' package is suggested to install to give better rasterization.\n",
      "\n",
      "Set `ht_opt$message = FALSE` to turn off this message.\n",
      "\n"
     ]
    },
    {
     "data": {
      "text/html": [
       "<strong>png:</strong> 2"
      ],
      "text/latex": [
       "\\textbf{png:} 2"
      ],
      "text/markdown": [
       "**png:** 2"
      ],
      "text/plain": [
       "png \n",
       "  2 "
      ]
     },
     "metadata": {},
     "output_type": "display_data"
    }
   ],
   "source": [
    "pdf((file.path(outdir, \"heatmap.allDonors.split.top.pdf\")), width=8,height=8)\n",
    "heat <- ComplexHeatmap::Heatmap(GetAssayData(se)[all.names.sig,], \n",
    "        top_annotation = HeatmapAnnotation(donor=as.character(se$donor)),\n",
    "        show_column_names = FALSE, \n",
    "        column_split = se[[\"name\"]],\n",
    "       )\n",
    "\n",
    "ComplexHeatmap::draw(heat)\n",
    "dev.off()"
   ]
  },
  {
   "cell_type": "code",
   "execution_count": null,
   "id": "cdc2fbd4",
   "metadata": {
    "papermill": {
     "duration": 0.316077,
     "end_time": "2021-12-03T20:56:43.632164",
     "exception": false,
     "start_time": "2021-12-03T20:56:43.316087",
     "status": "completed"
    },
    "tags": []
   },
   "outputs": [],
   "source": []
  },
  {
   "cell_type": "code",
   "execution_count": null,
   "id": "2d955085",
   "metadata": {
    "papermill": {
     "duration": 0.306045,
     "end_time": "2021-12-03T20:56:44.251783",
     "exception": false,
     "start_time": "2021-12-03T20:56:43.945738",
     "status": "completed"
    },
    "tags": []
   },
   "outputs": [],
   "source": []
  }
 ],
 "metadata": {
  "celltoolbar": "Tags",
  "kernelspec": {
   "display_name": "R",
   "language": "R",
   "name": "ir"
  },
  "language_info": {
   "codemirror_mode": "r",
   "file_extension": ".r",
   "mimetype": "text/x-r-source",
   "name": "R",
   "pygments_lexer": "r",
   "version": "4.1.1"
  },
  "papermill": {
   "default_parameters": {},
   "duration": 143.85152,
   "end_time": "2021-12-03T20:56:45.282587",
   "environment_variables": {},
   "exception": null,
   "input_path": "/mnt/md0/isshamie/Projects/Mito_Trace/R_scripts/annotation_clones/DE_clones.TF.summaryPlot.ipynb",
   "output_path": "/data/Mito_Trace/output/pipeline/cd34norm/MTblacklist/data/merged/MT/cellr_True/numread_200/filters/minC10_minR50_topN0_hetT0.001_hetC10_hetCount5_bq20/mgatk/vireoIn/clones/variants_init/knn/kparam_10/concat/annotation_clones/DE_large/minPct_0__logThresh_0.1/cdf_thresh__0.3/output_Summary.ipynb",
   "parameters": {
    "cdf_thresh": 0.3,
    "indir": "/data/Mito_Trace/output/pipeline/cd34norm/MTblacklist/data/merged/MT/cellr_True/numread_200/filters/minC10_minR50_topN0_hetT0.001_hetC10_hetCount5_bq20/mgatk/vireoIn/clones/variants_init/knn/kparam_10/concat/annotation_clones/DE_large/minPct_0__logThresh_0.1",
    "n_donors": 4,
    "se_indir": "/data/Mito_Trace/output/pipeline/cd34norm/MTblacklist/data/merged/MT/cellr_True/numread_200/filters/minC10_minR50_topN0_hetT0.001_hetC10_hetCount5_bq20/mgatk/vireoIn/clones/variants_init/knn/kparam_10/concat/annotation_clones/DE_large"
   },
   "start_time": "2021-12-03T20:54:21.431067",
   "version": "2.3.3"
  }
 },
 "nbformat": 4,
 "nbformat_minor": 5
}