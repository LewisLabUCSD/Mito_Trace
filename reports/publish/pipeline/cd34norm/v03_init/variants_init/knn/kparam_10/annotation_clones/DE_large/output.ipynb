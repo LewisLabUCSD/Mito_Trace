{
 "cells": [
  {
   "cell_type": "code",
   "execution_count": 1,
   "id": "4246cc89",
   "metadata": {
    "execution": {
     "iopub.execute_input": "2021-12-03T20:33:18.900342Z",
     "iopub.status.busy": "2021-12-03T20:33:18.897537Z",
     "iopub.status.idle": "2021-12-03T20:33:18.942914Z",
     "shell.execute_reply": "2021-12-03T20:33:18.941594Z"
    },
    "papermill": {
     "duration": 0.197634,
     "end_time": "2021-12-03T20:33:18.943195",
     "exception": false,
     "start_time": "2021-12-03T20:33:18.745561",
     "status": "completed"
    },
    "tags": [
     "parameters"
    ]
   },
   "outputs": [],
   "source": [
    "# se_f = \"~/data/Projects/Mito_Trace/output/pipeline/cd34norm/MTblacklist/data/merged/MT/cellr_True/numread_200/filters/minC10_minR50_topN0_hetT0.001_hetC10_hetCount5_bq20/mgatk/vireoIn/clones/variants_mgatkdonor/vireo/nclones20/enrichment/annotation_clones/SE.rds\"\n",
    "# outdir = \"~/data/Projects/Mito_Trace/output/pipeline/cd34norm/MTblacklist/data/merged/MT/cellr_True/numread_200/filters/minC10_minR50_topN0_hetT0.001_hetC10_hetCount5_bq20/mgatk/vireoIn/clones/variants_mgatkdonor/vireo/nclones20/enrichment/annotation_clones/DE_large\"\n",
    "# n_donors = 4\n",
    "\n",
    "se_f = \"/home/isshamie/data/Projects/Mito_Trace/output/pipeline/CHIP_nameFix_april08_2021/MTblacklist/data/merged/MT/cellr_True/numread_200/filters/minC10_minR50_topN0_hetT0.001_hetC10_hetCount5_bq20/mgatk/vireoIn/clones/variants_mgatkdonor/vireo/nclones20/annotation_clones/SE.rds\"\n",
    "outdir = \"/home/isshamie/data/Projects/Mito_Trace/output/pipeline/CHIP_nameFix_april08_2021/MTblacklist/data/merged/MT/cellr_True/numread_200/filters/minC10_minR50_topN0_hetT0.001_hetC10_hetCount5_bq20/mgatk/vireoIn/clones/variants_mgatkdonor/vireo/nclones20/annotation_clones/DE_large\"\n",
    "n_donors = 5\n",
    "\n",
    "\n",
    "\n",
    "# If more than 2 clones pass the cdf_thresh, use that, o.w use n_top_clones\n",
    "cdf_thresh = 0.5\n",
    "n_top_clones = 3\n",
    "\n",
    "min_pct = 0.01\n",
    "use_latent_vars = FALSE\n",
    "genome = \"/data/Mito_Trace/data/external/GRCh38_MT_blacklist/fasta/genome.fa\"\n",
    "cores=16\n",
    "utils_script <- \"/data/Mito_Trace/R_scripts/seurat_utils.R\""
   ]
  },
  {
   "cell_type": "code",
   "execution_count": 2,
   "id": "9f38c1d4",
   "metadata": {
    "execution": {
     "iopub.execute_input": "2021-12-03T20:33:19.092532Z",
     "iopub.status.busy": "2021-12-03T20:33:19.055682Z",
     "iopub.status.idle": "2021-12-03T20:33:19.106779Z",
     "shell.execute_reply": "2021-12-03T20:33:19.105620Z"
    },
    "papermill": {
     "duration": 0.107224,
     "end_time": "2021-12-03T20:33:19.106982",
     "exception": false,
     "start_time": "2021-12-03T20:33:18.999758",
     "status": "completed"
    },
    "tags": [
     "injected-parameters"
    ]
   },
   "outputs": [],
   "source": [
    "# Parameters\n",
    "se_f = \"/data/Mito_Trace/output/pipeline/cd34norm/MTblacklist/data/merged/MT/cellr_True/numread_200/filters/minC10_minR50_topN0_hetT0.001_hetC10_hetCount5_bq20/mgatk/vireoIn/clones/variants_init/knn/kparam_10/concat/annotation_clones/SE.rds\"\n",
    "outdir = \"/data/Mito_Trace/output/pipeline/cd34norm/MTblacklist/data/merged/MT/cellr_True/numread_200/filters/minC10_minR50_topN0_hetT0.001_hetC10_hetCount5_bq20/mgatk/vireoIn/clones/variants_init/knn/kparam_10/concat/annotation_clones/DE_large\"\n",
    "n_donors = 4\n"
   ]
  },
  {
   "cell_type": "code",
   "execution_count": 3,
   "id": "e72d3a57",
   "metadata": {
    "execution": {
     "iopub.execute_input": "2021-12-03T20:33:19.219984Z",
     "iopub.status.busy": "2021-12-03T20:33:19.216544Z",
     "iopub.status.idle": "2021-12-03T20:33:19.235399Z",
     "shell.execute_reply": "2021-12-03T20:33:19.230985Z"
    },
    "papermill": {
     "duration": 0.073415,
     "end_time": "2021-12-03T20:33:19.235599",
     "exception": false,
     "start_time": "2021-12-03T20:33:19.162184",
     "status": "completed"
    },
    "tags": []
   },
   "outputs": [],
   "source": [
    "if (use_latent_vars){\n",
    "    latent.vars = \"peaks_depth\"\n",
    "}else{\n",
    "    latent.vars=NULL\n",
    "}"
   ]
  },
  {
   "cell_type": "code",
   "execution_count": 4,
   "id": "b44903ca",
   "metadata": {
    "execution": {
     "iopub.execute_input": "2021-12-03T20:33:19.350644Z",
     "iopub.status.busy": "2021-12-03T20:33:19.347965Z",
     "iopub.status.idle": "2021-12-03T20:33:25.250440Z",
     "shell.execute_reply": "2021-12-03T20:33:25.249303Z"
    },
    "papermill": {
     "duration": 5.956497,
     "end_time": "2021-12-03T20:33:25.250628",
     "exception": false,
     "start_time": "2021-12-03T20:33:19.294131",
     "status": "completed"
    },
    "tags": []
   },
   "outputs": [
    {
     "name": "stderr",
     "output_type": "stream",
     "text": [
      "Attaching SeuratObject\n",
      "\n"
     ]
    }
   ],
   "source": [
    "source(utils_script)"
   ]
  },
  {
   "cell_type": "code",
   "execution_count": 5,
   "id": "5d9ca2e3",
   "metadata": {
    "execution": {
     "iopub.execute_input": "2021-12-03T20:33:25.386378Z",
     "iopub.status.busy": "2021-12-03T20:33:25.382640Z",
     "iopub.status.idle": "2021-12-03T20:33:25.735392Z",
     "shell.execute_reply": "2021-12-03T20:33:25.734337Z"
    },
    "papermill": {
     "duration": 0.420801,
     "end_time": "2021-12-03T20:33:25.735581",
     "exception": false,
     "start_time": "2021-12-03T20:33:25.314780",
     "status": "completed"
    },
    "scrolled": true,
    "tags": []
   },
   "outputs": [
    {
     "name": "stderr",
     "output_type": "stream",
     "text": [
      "\n",
      "Attaching package: ‘cowplot’\n",
      "\n",
      "\n"
     ]
    },
    {
     "name": "stderr",
     "output_type": "stream",
     "text": [
      "The following object is masked from ‘package:patchwork’:\n",
      "\n",
      "    align_plots\n",
      "\n",
      "\n"
     ]
    },
    {
     "name": "stderr",
     "output_type": "stream",
     "text": [
      "\n",
      "Attaching package: ‘dplyr’\n",
      "\n",
      "\n"
     ]
    },
    {
     "name": "stderr",
     "output_type": "stream",
     "text": [
      "The following objects are masked from ‘package:stats’:\n",
      "\n",
      "    filter, lag\n",
      "\n",
      "\n"
     ]
    },
    {
     "name": "stderr",
     "output_type": "stream",
     "text": [
      "The following objects are masked from ‘package:base’:\n",
      "\n",
      "    intersect, setdiff, setequal, union\n",
      "\n",
      "\n"
     ]
    },
    {
     "name": "stderr",
     "output_type": "stream",
     "text": [
      "Warning message:\n",
      "“Strategy 'multiprocess' is deprecated in future (>= 1.20.0). Instead, explicitly specify either 'multisession' or 'multicore'. In the current R session, 'multiprocess' equals 'multicore'.”\n"
     ]
    },
    {
     "name": "stderr",
     "output_type": "stream",
     "text": [
      "Loading required package: grid\n",
      "\n"
     ]
    },
    {
     "name": "stderr",
     "output_type": "stream",
     "text": [
      "========================================\n",
      "ComplexHeatmap version 2.10.0\n",
      "Bioconductor page: http://bioconductor.org/packages/ComplexHeatmap/\n",
      "Github page: https://github.com/jokergoo/ComplexHeatmap\n",
      "Documentation: http://jokergoo.github.io/ComplexHeatmap-reference\n",
      "\n",
      "If you use it in published research, please cite:\n",
      "Gu, Z. Complex heatmaps reveal patterns and correlations in multidimensional \n",
      "  genomic data. Bioinformatics 2016.\n",
      "\n",
      "The new InteractiveComplexHeatmap package can directly export static \n",
      "complex heatmaps into an interactive Shiny app with zero effort. Have a try!\n",
      "\n",
      "This message can be suppressed by:\n",
      "  suppressPackageStartupMessages(library(ComplexHeatmap))\n",
      "========================================\n",
      "\n",
      "\n"
     ]
    }
   ],
   "source": [
    "library(Seurat)\n",
    "library(Signac)\n",
    "library(ggplot2)\n",
    "library(patchwork)\n",
    "set.seed(1234)\n",
    "library(magrittr)\n",
    "library(cowplot)\n",
    "library(metap)\n",
    "library(dplyr)\n",
    "library(future)\n",
    "plan(\"multiprocess\", workers = cores)\n",
    "#options(future.globals.maxSize = 50000 * 1024^2) # for 50 Gb RAM\n",
    "options(future.globals.maxSize = 8000 * 1024^2)\n",
    "library(\"ComplexHeatmap\")"
   ]
  },
  {
   "cell_type": "markdown",
   "id": "e8a7d7b5",
   "metadata": {
    "papermill": {
     "duration": 0.070675,
     "end_time": "2021-12-03T20:33:25.878517",
     "exception": false,
     "start_time": "2021-12-03T20:33:25.807842",
     "status": "completed"
    },
    "tags": []
   },
   "source": [
    "## Import seurat object"
   ]
  },
  {
   "cell_type": "code",
   "execution_count": 6,
   "id": "2ef3a56c",
   "metadata": {
    "execution": {
     "iopub.execute_input": "2021-12-03T20:33:26.014761Z",
     "iopub.status.busy": "2021-12-03T20:33:26.011008Z",
     "iopub.status.idle": "2021-12-03T20:46:30.825504Z",
     "shell.execute_reply": "2021-12-03T20:46:30.823555Z"
    },
    "papermill": {
     "duration": 784.884669,
     "end_time": "2021-12-03T20:46:30.825781",
     "exception": false,
     "start_time": "2021-12-03T20:33:25.941112",
     "status": "completed"
    },
    "scrolled": true,
    "tags": []
   },
   "outputs": [
    {
     "name": "stdout",
     "output_type": "stream",
     "text": [
      "[1] \"Running chromvar\"\n"
     ]
    },
    {
     "name": "stderr",
     "output_type": "stream",
     "text": [
      "\n",
      "\n"
     ]
    },
    {
     "name": "stderr",
     "output_type": "stream",
     "text": [
      "Loading required package: BSgenome\n",
      "\n"
     ]
    },
    {
     "name": "stderr",
     "output_type": "stream",
     "text": [
      "Loading required package: BiocGenerics\n",
      "\n"
     ]
    },
    {
     "name": "stderr",
     "output_type": "stream",
     "text": [
      "\n",
      "Attaching package: ‘BiocGenerics’\n",
      "\n",
      "\n"
     ]
    },
    {
     "name": "stderr",
     "output_type": "stream",
     "text": [
      "The following objects are masked from ‘package:dplyr’:\n",
      "\n",
      "    combine, intersect, setdiff, union\n",
      "\n",
      "\n"
     ]
    },
    {
     "name": "stderr",
     "output_type": "stream",
     "text": [
      "The following objects are masked from ‘package:stats’:\n",
      "\n",
      "    IQR, mad, sd, var, xtabs\n",
      "\n",
      "\n"
     ]
    },
    {
     "name": "stderr",
     "output_type": "stream",
     "text": [
      "The following objects are masked from ‘package:base’:\n",
      "\n",
      "    anyDuplicated, append, as.data.frame, basename, cbind, colnames,\n",
      "    dirname, do.call, duplicated, eval, evalq, Filter, Find, get, grep,\n",
      "    grepl, intersect, is.unsorted, lapply, Map, mapply, match, mget,\n",
      "    order, paste, pmax, pmax.int, pmin, pmin.int, Position, rank,\n",
      "    rbind, Reduce, rownames, sapply, setdiff, sort, table, tapply,\n",
      "    union, unique, unsplit, which.max, which.min\n",
      "\n",
      "\n"
     ]
    },
    {
     "name": "stderr",
     "output_type": "stream",
     "text": [
      "Loading required package: S4Vectors\n",
      "\n"
     ]
    },
    {
     "name": "stderr",
     "output_type": "stream",
     "text": [
      "Loading required package: stats4\n",
      "\n"
     ]
    },
    {
     "name": "stderr",
     "output_type": "stream",
     "text": [
      "\n",
      "Attaching package: ‘S4Vectors’\n",
      "\n",
      "\n"
     ]
    },
    {
     "name": "stderr",
     "output_type": "stream",
     "text": [
      "The following object is masked from ‘package:future’:\n",
      "\n",
      "    values\n",
      "\n",
      "\n"
     ]
    },
    {
     "name": "stderr",
     "output_type": "stream",
     "text": [
      "The following objects are masked from ‘package:dplyr’:\n",
      "\n",
      "    first, rename\n",
      "\n",
      "\n"
     ]
    },
    {
     "name": "stderr",
     "output_type": "stream",
     "text": [
      "The following objects are masked from ‘package:base’:\n",
      "\n",
      "    expand.grid, I, unname\n",
      "\n",
      "\n"
     ]
    },
    {
     "name": "stderr",
     "output_type": "stream",
     "text": [
      "Loading required package: IRanges\n",
      "\n"
     ]
    },
    {
     "name": "stderr",
     "output_type": "stream",
     "text": [
      "\n",
      "Attaching package: ‘IRanges’\n",
      "\n",
      "\n"
     ]
    },
    {
     "name": "stderr",
     "output_type": "stream",
     "text": [
      "The following objects are masked from ‘package:dplyr’:\n",
      "\n",
      "    collapse, desc, slice\n",
      "\n",
      "\n"
     ]
    },
    {
     "name": "stderr",
     "output_type": "stream",
     "text": [
      "Loading required package: GenomeInfoDb\n",
      "\n"
     ]
    },
    {
     "name": "stderr",
     "output_type": "stream",
     "text": [
      "Loading required package: GenomicRanges\n",
      "\n"
     ]
    },
    {
     "name": "stderr",
     "output_type": "stream",
     "text": [
      "Loading required package: Biostrings\n",
      "\n"
     ]
    },
    {
     "name": "stderr",
     "output_type": "stream",
     "text": [
      "Loading required package: XVector\n",
      "\n"
     ]
    },
    {
     "name": "stderr",
     "output_type": "stream",
     "text": [
      "\n",
      "Attaching package: ‘Biostrings’\n",
      "\n",
      "\n"
     ]
    },
    {
     "name": "stderr",
     "output_type": "stream",
     "text": [
      "The following object is masked from ‘package:grid’:\n",
      "\n",
      "    pattern\n",
      "\n",
      "\n"
     ]
    },
    {
     "name": "stderr",
     "output_type": "stream",
     "text": [
      "The following object is masked from ‘package:base’:\n",
      "\n",
      "    strsplit\n",
      "\n",
      "\n"
     ]
    },
    {
     "name": "stderr",
     "output_type": "stream",
     "text": [
      "Loading required package: rtracklayer\n",
      "\n"
     ]
    },
    {
     "name": "stderr",
     "output_type": "stream",
     "text": [
      "Building motif matrix\n",
      "\n"
     ]
    },
    {
     "name": "stderr",
     "output_type": "stream",
     "text": [
      "Finding motif positions\n",
      "\n"
     ]
    },
    {
     "name": "stderr",
     "output_type": "stream",
     "text": [
      "Creating Motif object\n",
      "\n"
     ]
    },
    {
     "name": "stderr",
     "output_type": "stream",
     "text": [
      "Computing GC bias per region\n",
      "\n"
     ]
    },
    {
     "name": "stderr",
     "output_type": "stream",
     "text": [
      "Selecting background regions\n",
      "\n"
     ]
    },
    {
     "name": "stderr",
     "output_type": "stream",
     "text": [
      "Computing deviations from background\n",
      "\n"
     ]
    },
    {
     "name": "stderr",
     "output_type": "stream",
     "text": [
      "Constructing chromVAR assay\n",
      "\n"
     ]
    }
   ],
   "source": [
    "# if (file.exists(file.path(outdir, \"se.chromvar.rds\"))){\n",
    "#     print(\"Loading se with chromvar\")\n",
    "#     se <- readRDS(file=file.path(outdir, \"se.chromvar.rds\"))    \n",
    "# }else{\n",
    "#     print(\"Running chromvar\")\n",
    "#     se = readRDS(se_f)\n",
    "# #     source(\"~/data/Projects/Mito_Trace/R_scripts/addPWM.R\")\n",
    "#     se <- get.pwm(se, genome=genome)\n",
    "#     saveRDS(object=se, file=file.path(outdir, \"se.chromvar.rds\"))    \n",
    "# }\n",
    "\n",
    "print(\"Running chromvar\")\n",
    "se = readRDS(se_f)\n",
    "se <- get.pwm(se, genome=genome)\n",
    "saveRDS(object=se, file=file.path(outdir, \"se.chromvar.rds\"))\n",
    "\n",
    "\n",
    "# cells.meta = se[[]]\n",
    "# cells.meta$name = paste0(cells.meta$donor,\"_\", cells.meta$lineage)\n",
    "# cells.meta$name = factor(cells.meta$name)\n",
    "# cells.meta\n",
    "\n",
    "\n",
    "# se <- AddMetaData(\n",
    "#   object = se,\n",
    "#   metadata = cells.meta[\"name\"],\n",
    "#   col.name = \"name\"\n",
    "# )\n",
    "# se[[]]"
   ]
  },
  {
   "cell_type": "code",
   "execution_count": 7,
   "id": "3f8f8c43",
   "metadata": {
    "execution": {
     "iopub.execute_input": "2021-12-03T20:46:31.068142Z",
     "iopub.status.busy": "2021-12-03T20:46:31.063954Z",
     "iopub.status.idle": "2021-12-03T20:46:31.252444Z",
     "shell.execute_reply": "2021-12-03T20:46:31.253093Z"
    },
    "papermill": {
     "duration": 0.297462,
     "end_time": "2021-12-03T20:46:31.253332",
     "exception": false,
     "start_time": "2021-12-03T20:46:30.955870",
     "status": "completed"
    },
    "scrolled": true,
    "tags": []
   },
   "outputs": [
    {
     "name": "stderr",
     "output_type": "stream",
     "text": [
      "`summarise()` has grouped output by 'condition', 'donor', 'lineage'. You can override using the `.groups` argument.\n",
      "\n"
     ]
    },
    {
     "data": {
      "text/html": [
       "<table class=\"dataframe\">\n",
       "<caption>A grouped_df: 314 × 5</caption>\n",
       "<thead>\n",
       "\t<tr><th scope=col>condition</th><th scope=col>donor</th><th scope=col>lineage</th><th scope=col>name</th><th scope=col>size</th></tr>\n",
       "\t<tr><th scope=col>&lt;fct&gt;</th><th scope=col>&lt;fct&gt;</th><th scope=col>&lt;fct&gt;</th><th scope=col>&lt;fct&gt;</th><th scope=col>&lt;int&gt;</th></tr>\n",
       "</thead>\n",
       "<tbody>\n",
       "\t<tr><td>Control</td><td>0</td><td>0 </td><td>0_0 </td><td>219</td></tr>\n",
       "\t<tr><td>Control</td><td>0</td><td>1 </td><td>0_1 </td><td> 69</td></tr>\n",
       "\t<tr><td>Control</td><td>0</td><td>2 </td><td>0_2 </td><td> 86</td></tr>\n",
       "\t<tr><td>Control</td><td>0</td><td>3 </td><td>0_3 </td><td> 92</td></tr>\n",
       "\t<tr><td>Control</td><td>0</td><td>4 </td><td>0_4 </td><td> 37</td></tr>\n",
       "\t<tr><td>Control</td><td>0</td><td>5 </td><td>0_5 </td><td> 18</td></tr>\n",
       "\t<tr><td>Control</td><td>0</td><td>6 </td><td>0_6 </td><td> 47</td></tr>\n",
       "\t<tr><td>Control</td><td>0</td><td>7 </td><td>0_7 </td><td> 12</td></tr>\n",
       "\t<tr><td>Control</td><td>0</td><td>8 </td><td>0_8 </td><td>  8</td></tr>\n",
       "\t<tr><td>Control</td><td>0</td><td>9 </td><td>0_9 </td><td>  7</td></tr>\n",
       "\t<tr><td>Control</td><td>0</td><td>10</td><td>0_10</td><td>  8</td></tr>\n",
       "\t<tr><td>Control</td><td>0</td><td>11</td><td>0_11</td><td>  7</td></tr>\n",
       "\t<tr><td>Control</td><td>0</td><td>12</td><td>0_12</td><td>  4</td></tr>\n",
       "\t<tr><td>Control</td><td>0</td><td>13</td><td>0_13</td><td>  6</td></tr>\n",
       "\t<tr><td>Control</td><td>0</td><td>14</td><td>0_14</td><td>  2</td></tr>\n",
       "\t<tr><td>Control</td><td>0</td><td>15</td><td>0_15</td><td>  2</td></tr>\n",
       "\t<tr><td>Control</td><td>0</td><td>16</td><td>0_16</td><td>  5</td></tr>\n",
       "\t<tr><td>Control</td><td>0</td><td>17</td><td>0_17</td><td>  1</td></tr>\n",
       "\t<tr><td>Control</td><td>0</td><td>18</td><td>0_18</td><td>  4</td></tr>\n",
       "\t<tr><td>Control</td><td>0</td><td>19</td><td>0_19</td><td>  1</td></tr>\n",
       "\t<tr><td>Control</td><td>0</td><td>20</td><td>0_20</td><td>  2</td></tr>\n",
       "\t<tr><td>Control</td><td>0</td><td>21</td><td>0_21</td><td>  2</td></tr>\n",
       "\t<tr><td>Control</td><td>0</td><td>22</td><td>0_22</td><td>  3</td></tr>\n",
       "\t<tr><td>Control</td><td>0</td><td>23</td><td>0_23</td><td>  2</td></tr>\n",
       "\t<tr><td>Control</td><td>0</td><td>24</td><td>0_24</td><td>  2</td></tr>\n",
       "\t<tr><td>Control</td><td>0</td><td>25</td><td>0_25</td><td>  3</td></tr>\n",
       "\t<tr><td>Control</td><td>0</td><td>26</td><td>0_26</td><td>  1</td></tr>\n",
       "\t<tr><td>Control</td><td>0</td><td>27</td><td>0_27</td><td>  1</td></tr>\n",
       "\t<tr><td>Control</td><td>0</td><td>31</td><td>0_31</td><td>  1</td></tr>\n",
       "\t<tr><td>Control</td><td>0</td><td>32</td><td>0_32</td><td>  4</td></tr>\n",
       "\t<tr><td>⋮</td><td>⋮</td><td>⋮</td><td>⋮</td><td>⋮</td></tr>\n",
       "\t<tr><td>Flt3l</td><td>3</td><td>19</td><td>3_19</td><td> 13</td></tr>\n",
       "\t<tr><td>Flt3l</td><td>3</td><td>20</td><td>3_20</td><td>  5</td></tr>\n",
       "\t<tr><td>Flt3l</td><td>3</td><td>21</td><td>3_21</td><td>  6</td></tr>\n",
       "\t<tr><td>Flt3l</td><td>3</td><td>22</td><td>3_22</td><td>  5</td></tr>\n",
       "\t<tr><td>Flt3l</td><td>3</td><td>23</td><td>3_23</td><td>  8</td></tr>\n",
       "\t<tr><td>Flt3l</td><td>3</td><td>24</td><td>3_24</td><td>  2</td></tr>\n",
       "\t<tr><td>Flt3l</td><td>3</td><td>25</td><td>3_25</td><td>  6</td></tr>\n",
       "\t<tr><td>Flt3l</td><td>3</td><td>26</td><td>3_26</td><td> 24</td></tr>\n",
       "\t<tr><td>Flt3l</td><td>3</td><td>27</td><td>3_27</td><td>  9</td></tr>\n",
       "\t<tr><td>Flt3l</td><td>3</td><td>29</td><td>3_29</td><td>  3</td></tr>\n",
       "\t<tr><td>Flt3l</td><td>3</td><td>30</td><td>3_30</td><td>  3</td></tr>\n",
       "\t<tr><td>Flt3l</td><td>3</td><td>31</td><td>3_31</td><td>  1</td></tr>\n",
       "\t<tr><td>Flt3l</td><td>3</td><td>32</td><td>3_32</td><td>  3</td></tr>\n",
       "\t<tr><td>Flt3l</td><td>3</td><td>33</td><td>3_33</td><td>  2</td></tr>\n",
       "\t<tr><td>Flt3l</td><td>3</td><td>34</td><td>3_34</td><td>  3</td></tr>\n",
       "\t<tr><td>Flt3l</td><td>3</td><td>35</td><td>3_35</td><td>  2</td></tr>\n",
       "\t<tr><td>Flt3l</td><td>3</td><td>36</td><td>3_36</td><td>  1</td></tr>\n",
       "\t<tr><td>Flt3l</td><td>3</td><td>37</td><td>3_37</td><td>341</td></tr>\n",
       "\t<tr><td>Flt3l</td><td>3</td><td>38</td><td>3_38</td><td>  2</td></tr>\n",
       "\t<tr><td>Flt3l</td><td>3</td><td>39</td><td>3_39</td><td>  3</td></tr>\n",
       "\t<tr><td>Flt3l</td><td>3</td><td>40</td><td>3_40</td><td>  6</td></tr>\n",
       "\t<tr><td>Flt3l</td><td>3</td><td>41</td><td>3_41</td><td>  4</td></tr>\n",
       "\t<tr><td>Flt3l</td><td>3</td><td>42</td><td>3_42</td><td> 17</td></tr>\n",
       "\t<tr><td>Flt3l</td><td>3</td><td>43</td><td>3_43</td><td> 19</td></tr>\n",
       "\t<tr><td>Flt3l</td><td>3</td><td>44</td><td>3_44</td><td>  2</td></tr>\n",
       "\t<tr><td>Flt3l</td><td>3</td><td>45</td><td>3_45</td><td>  6</td></tr>\n",
       "\t<tr><td>Flt3l</td><td>3</td><td>46</td><td>3_46</td><td>  7</td></tr>\n",
       "\t<tr><td>Flt3l</td><td>3</td><td>47</td><td>3_47</td><td>  2</td></tr>\n",
       "\t<tr><td>Flt3l</td><td>3</td><td>48</td><td>3_48</td><td> 27</td></tr>\n",
       "\t<tr><td>Flt3l</td><td>3</td><td>49</td><td>3_49</td><td>  8</td></tr>\n",
       "</tbody>\n",
       "</table>\n"
      ],
      "text/latex": [
       "A grouped\\_df: 314 × 5\n",
       "\\begin{tabular}{lllll}\n",
       " condition & donor & lineage & name & size\\\\\n",
       " <fct> & <fct> & <fct> & <fct> & <int>\\\\\n",
       "\\hline\n",
       "\t Control & 0 & 0  & 0\\_0  & 219\\\\\n",
       "\t Control & 0 & 1  & 0\\_1  &  69\\\\\n",
       "\t Control & 0 & 2  & 0\\_2  &  86\\\\\n",
       "\t Control & 0 & 3  & 0\\_3  &  92\\\\\n",
       "\t Control & 0 & 4  & 0\\_4  &  37\\\\\n",
       "\t Control & 0 & 5  & 0\\_5  &  18\\\\\n",
       "\t Control & 0 & 6  & 0\\_6  &  47\\\\\n",
       "\t Control & 0 & 7  & 0\\_7  &  12\\\\\n",
       "\t Control & 0 & 8  & 0\\_8  &   8\\\\\n",
       "\t Control & 0 & 9  & 0\\_9  &   7\\\\\n",
       "\t Control & 0 & 10 & 0\\_10 &   8\\\\\n",
       "\t Control & 0 & 11 & 0\\_11 &   7\\\\\n",
       "\t Control & 0 & 12 & 0\\_12 &   4\\\\\n",
       "\t Control & 0 & 13 & 0\\_13 &   6\\\\\n",
       "\t Control & 0 & 14 & 0\\_14 &   2\\\\\n",
       "\t Control & 0 & 15 & 0\\_15 &   2\\\\\n",
       "\t Control & 0 & 16 & 0\\_16 &   5\\\\\n",
       "\t Control & 0 & 17 & 0\\_17 &   1\\\\\n",
       "\t Control & 0 & 18 & 0\\_18 &   4\\\\\n",
       "\t Control & 0 & 19 & 0\\_19 &   1\\\\\n",
       "\t Control & 0 & 20 & 0\\_20 &   2\\\\\n",
       "\t Control & 0 & 21 & 0\\_21 &   2\\\\\n",
       "\t Control & 0 & 22 & 0\\_22 &   3\\\\\n",
       "\t Control & 0 & 23 & 0\\_23 &   2\\\\\n",
       "\t Control & 0 & 24 & 0\\_24 &   2\\\\\n",
       "\t Control & 0 & 25 & 0\\_25 &   3\\\\\n",
       "\t Control & 0 & 26 & 0\\_26 &   1\\\\\n",
       "\t Control & 0 & 27 & 0\\_27 &   1\\\\\n",
       "\t Control & 0 & 31 & 0\\_31 &   1\\\\\n",
       "\t Control & 0 & 32 & 0\\_32 &   4\\\\\n",
       "\t ⋮ & ⋮ & ⋮ & ⋮ & ⋮\\\\\n",
       "\t Flt3l & 3 & 19 & 3\\_19 &  13\\\\\n",
       "\t Flt3l & 3 & 20 & 3\\_20 &   5\\\\\n",
       "\t Flt3l & 3 & 21 & 3\\_21 &   6\\\\\n",
       "\t Flt3l & 3 & 22 & 3\\_22 &   5\\\\\n",
       "\t Flt3l & 3 & 23 & 3\\_23 &   8\\\\\n",
       "\t Flt3l & 3 & 24 & 3\\_24 &   2\\\\\n",
       "\t Flt3l & 3 & 25 & 3\\_25 &   6\\\\\n",
       "\t Flt3l & 3 & 26 & 3\\_26 &  24\\\\\n",
       "\t Flt3l & 3 & 27 & 3\\_27 &   9\\\\\n",
       "\t Flt3l & 3 & 29 & 3\\_29 &   3\\\\\n",
       "\t Flt3l & 3 & 30 & 3\\_30 &   3\\\\\n",
       "\t Flt3l & 3 & 31 & 3\\_31 &   1\\\\\n",
       "\t Flt3l & 3 & 32 & 3\\_32 &   3\\\\\n",
       "\t Flt3l & 3 & 33 & 3\\_33 &   2\\\\\n",
       "\t Flt3l & 3 & 34 & 3\\_34 &   3\\\\\n",
       "\t Flt3l & 3 & 35 & 3\\_35 &   2\\\\\n",
       "\t Flt3l & 3 & 36 & 3\\_36 &   1\\\\\n",
       "\t Flt3l & 3 & 37 & 3\\_37 & 341\\\\\n",
       "\t Flt3l & 3 & 38 & 3\\_38 &   2\\\\\n",
       "\t Flt3l & 3 & 39 & 3\\_39 &   3\\\\\n",
       "\t Flt3l & 3 & 40 & 3\\_40 &   6\\\\\n",
       "\t Flt3l & 3 & 41 & 3\\_41 &   4\\\\\n",
       "\t Flt3l & 3 & 42 & 3\\_42 &  17\\\\\n",
       "\t Flt3l & 3 & 43 & 3\\_43 &  19\\\\\n",
       "\t Flt3l & 3 & 44 & 3\\_44 &   2\\\\\n",
       "\t Flt3l & 3 & 45 & 3\\_45 &   6\\\\\n",
       "\t Flt3l & 3 & 46 & 3\\_46 &   7\\\\\n",
       "\t Flt3l & 3 & 47 & 3\\_47 &   2\\\\\n",
       "\t Flt3l & 3 & 48 & 3\\_48 &  27\\\\\n",
       "\t Flt3l & 3 & 49 & 3\\_49 &   8\\\\\n",
       "\\end{tabular}\n"
      ],
      "text/markdown": [
       "\n",
       "A grouped_df: 314 × 5\n",
       "\n",
       "| condition &lt;fct&gt; | donor &lt;fct&gt; | lineage &lt;fct&gt; | name &lt;fct&gt; | size &lt;int&gt; |\n",
       "|---|---|---|---|---|\n",
       "| Control | 0 | 0  | 0_0  | 219 |\n",
       "| Control | 0 | 1  | 0_1  |  69 |\n",
       "| Control | 0 | 2  | 0_2  |  86 |\n",
       "| Control | 0 | 3  | 0_3  |  92 |\n",
       "| Control | 0 | 4  | 0_4  |  37 |\n",
       "| Control | 0 | 5  | 0_5  |  18 |\n",
       "| Control | 0 | 6  | 0_6  |  47 |\n",
       "| Control | 0 | 7  | 0_7  |  12 |\n",
       "| Control | 0 | 8  | 0_8  |   8 |\n",
       "| Control | 0 | 9  | 0_9  |   7 |\n",
       "| Control | 0 | 10 | 0_10 |   8 |\n",
       "| Control | 0 | 11 | 0_11 |   7 |\n",
       "| Control | 0 | 12 | 0_12 |   4 |\n",
       "| Control | 0 | 13 | 0_13 |   6 |\n",
       "| Control | 0 | 14 | 0_14 |   2 |\n",
       "| Control | 0 | 15 | 0_15 |   2 |\n",
       "| Control | 0 | 16 | 0_16 |   5 |\n",
       "| Control | 0 | 17 | 0_17 |   1 |\n",
       "| Control | 0 | 18 | 0_18 |   4 |\n",
       "| Control | 0 | 19 | 0_19 |   1 |\n",
       "| Control | 0 | 20 | 0_20 |   2 |\n",
       "| Control | 0 | 21 | 0_21 |   2 |\n",
       "| Control | 0 | 22 | 0_22 |   3 |\n",
       "| Control | 0 | 23 | 0_23 |   2 |\n",
       "| Control | 0 | 24 | 0_24 |   2 |\n",
       "| Control | 0 | 25 | 0_25 |   3 |\n",
       "| Control | 0 | 26 | 0_26 |   1 |\n",
       "| Control | 0 | 27 | 0_27 |   1 |\n",
       "| Control | 0 | 31 | 0_31 |   1 |\n",
       "| Control | 0 | 32 | 0_32 |   4 |\n",
       "| ⋮ | ⋮ | ⋮ | ⋮ | ⋮ |\n",
       "| Flt3l | 3 | 19 | 3_19 |  13 |\n",
       "| Flt3l | 3 | 20 | 3_20 |   5 |\n",
       "| Flt3l | 3 | 21 | 3_21 |   6 |\n",
       "| Flt3l | 3 | 22 | 3_22 |   5 |\n",
       "| Flt3l | 3 | 23 | 3_23 |   8 |\n",
       "| Flt3l | 3 | 24 | 3_24 |   2 |\n",
       "| Flt3l | 3 | 25 | 3_25 |   6 |\n",
       "| Flt3l | 3 | 26 | 3_26 |  24 |\n",
       "| Flt3l | 3 | 27 | 3_27 |   9 |\n",
       "| Flt3l | 3 | 29 | 3_29 |   3 |\n",
       "| Flt3l | 3 | 30 | 3_30 |   3 |\n",
       "| Flt3l | 3 | 31 | 3_31 |   1 |\n",
       "| Flt3l | 3 | 32 | 3_32 |   3 |\n",
       "| Flt3l | 3 | 33 | 3_33 |   2 |\n",
       "| Flt3l | 3 | 34 | 3_34 |   3 |\n",
       "| Flt3l | 3 | 35 | 3_35 |   2 |\n",
       "| Flt3l | 3 | 36 | 3_36 |   1 |\n",
       "| Flt3l | 3 | 37 | 3_37 | 341 |\n",
       "| Flt3l | 3 | 38 | 3_38 |   2 |\n",
       "| Flt3l | 3 | 39 | 3_39 |   3 |\n",
       "| Flt3l | 3 | 40 | 3_40 |   6 |\n",
       "| Flt3l | 3 | 41 | 3_41 |   4 |\n",
       "| Flt3l | 3 | 42 | 3_42 |  17 |\n",
       "| Flt3l | 3 | 43 | 3_43 |  19 |\n",
       "| Flt3l | 3 | 44 | 3_44 |   2 |\n",
       "| Flt3l | 3 | 45 | 3_45 |   6 |\n",
       "| Flt3l | 3 | 46 | 3_46 |   7 |\n",
       "| Flt3l | 3 | 47 | 3_47 |   2 |\n",
       "| Flt3l | 3 | 48 | 3_48 |  27 |\n",
       "| Flt3l | 3 | 49 | 3_49 |   8 |\n",
       "\n"
      ],
      "text/plain": [
       "    condition donor lineage name size\n",
       "1   Control   0     0       0_0  219 \n",
       "2   Control   0     1       0_1   69 \n",
       "3   Control   0     2       0_2   86 \n",
       "4   Control   0     3       0_3   92 \n",
       "5   Control   0     4       0_4   37 \n",
       "6   Control   0     5       0_5   18 \n",
       "7   Control   0     6       0_6   47 \n",
       "8   Control   0     7       0_7   12 \n",
       "9   Control   0     8       0_8    8 \n",
       "10  Control   0     9       0_9    7 \n",
       "11  Control   0     10      0_10   8 \n",
       "12  Control   0     11      0_11   7 \n",
       "13  Control   0     12      0_12   4 \n",
       "14  Control   0     13      0_13   6 \n",
       "15  Control   0     14      0_14   2 \n",
       "16  Control   0     15      0_15   2 \n",
       "17  Control   0     16      0_16   5 \n",
       "18  Control   0     17      0_17   1 \n",
       "19  Control   0     18      0_18   4 \n",
       "20  Control   0     19      0_19   1 \n",
       "21  Control   0     20      0_20   2 \n",
       "22  Control   0     21      0_21   2 \n",
       "23  Control   0     22      0_22   3 \n",
       "24  Control   0     23      0_23   2 \n",
       "25  Control   0     24      0_24   2 \n",
       "26  Control   0     25      0_25   3 \n",
       "27  Control   0     26      0_26   1 \n",
       "28  Control   0     27      0_27   1 \n",
       "29  Control   0     31      0_31   1 \n",
       "30  Control   0     32      0_32   4 \n",
       "⋮   ⋮         ⋮     ⋮       ⋮    ⋮   \n",
       "285 Flt3l     3     19      3_19  13 \n",
       "286 Flt3l     3     20      3_20   5 \n",
       "287 Flt3l     3     21      3_21   6 \n",
       "288 Flt3l     3     22      3_22   5 \n",
       "289 Flt3l     3     23      3_23   8 \n",
       "290 Flt3l     3     24      3_24   2 \n",
       "291 Flt3l     3     25      3_25   6 \n",
       "292 Flt3l     3     26      3_26  24 \n",
       "293 Flt3l     3     27      3_27   9 \n",
       "294 Flt3l     3     29      3_29   3 \n",
       "295 Flt3l     3     30      3_30   3 \n",
       "296 Flt3l     3     31      3_31   1 \n",
       "297 Flt3l     3     32      3_32   3 \n",
       "298 Flt3l     3     33      3_33   2 \n",
       "299 Flt3l     3     34      3_34   3 \n",
       "300 Flt3l     3     35      3_35   2 \n",
       "301 Flt3l     3     36      3_36   1 \n",
       "302 Flt3l     3     37      3_37 341 \n",
       "303 Flt3l     3     38      3_38   2 \n",
       "304 Flt3l     3     39      3_39   3 \n",
       "305 Flt3l     3     40      3_40   6 \n",
       "306 Flt3l     3     41      3_41   4 \n",
       "307 Flt3l     3     42      3_42  17 \n",
       "308 Flt3l     3     43      3_43  19 \n",
       "309 Flt3l     3     44      3_44   2 \n",
       "310 Flt3l     3     45      3_45   6 \n",
       "311 Flt3l     3     46      3_46   7 \n",
       "312 Flt3l     3     47      3_47   2 \n",
       "313 Flt3l     3     48      3_48  27 \n",
       "314 Flt3l     3     49      3_49   8 "
      ]
     },
     "metadata": {},
     "output_type": "display_data"
    }
   ],
   "source": [
    "counts <- se[[]] %>%\n",
    "          group_by(condition, donor, lineage, name) %>%\n",
    "          summarize(size=n()) %>% filter(!name==\"None\")\n",
    "counts"
   ]
  },
  {
   "cell_type": "code",
   "execution_count": 8,
   "id": "c042aa55",
   "metadata": {
    "execution": {
     "iopub.execute_input": "2021-12-03T20:46:31.468632Z",
     "iopub.status.busy": "2021-12-03T20:46:31.465347Z",
     "iopub.status.idle": "2021-12-03T20:46:31.575284Z",
     "shell.execute_reply": "2021-12-03T20:46:31.576180Z"
    },
    "papermill": {
     "duration": 0.21803,
     "end_time": "2021-12-03T20:46:31.576474",
     "exception": false,
     "start_time": "2021-12-03T20:46:31.358444",
     "status": "completed"
    },
    "scrolled": true,
    "tags": []
   },
   "outputs": [
    {
     "data": {
      "text/html": [
       "<table class=\"dataframe\">\n",
       "<caption>A tibble: 314 × 7</caption>\n",
       "<thead>\n",
       "\t<tr><th scope=col>condition</th><th scope=col>donor</th><th scope=col>lineage</th><th scope=col>name</th><th scope=col>size</th><th scope=col>total</th><th scope=col>norm</th></tr>\n",
       "\t<tr><th scope=col>&lt;fct&gt;</th><th scope=col>&lt;fct&gt;</th><th scope=col>&lt;fct&gt;</th><th scope=col>&lt;fct&gt;</th><th scope=col>&lt;int&gt;</th><th scope=col>&lt;int&gt;</th><th scope=col>&lt;dbl&gt;</th></tr>\n",
       "</thead>\n",
       "<tbody>\n",
       "\t<tr><td>Control</td><td>0</td><td>0 </td><td>0_0 </td><td>219</td><td>1156</td><td>0.1894463668</td></tr>\n",
       "\t<tr><td>Control</td><td>0</td><td>1 </td><td>0_1 </td><td> 69</td><td>1156</td><td>0.0596885813</td></tr>\n",
       "\t<tr><td>Control</td><td>0</td><td>2 </td><td>0_2 </td><td> 86</td><td>1156</td><td>0.0743944637</td></tr>\n",
       "\t<tr><td>Control</td><td>0</td><td>3 </td><td>0_3 </td><td> 92</td><td>1156</td><td>0.0795847751</td></tr>\n",
       "\t<tr><td>Control</td><td>0</td><td>4 </td><td>0_4 </td><td> 37</td><td>1156</td><td>0.0320069204</td></tr>\n",
       "\t<tr><td>Control</td><td>0</td><td>5 </td><td>0_5 </td><td> 18</td><td>1156</td><td>0.0155709343</td></tr>\n",
       "\t<tr><td>Control</td><td>0</td><td>6 </td><td>0_6 </td><td> 47</td><td>1156</td><td>0.0406574394</td></tr>\n",
       "\t<tr><td>Control</td><td>0</td><td>7 </td><td>0_7 </td><td> 12</td><td>1156</td><td>0.0103806228</td></tr>\n",
       "\t<tr><td>Control</td><td>0</td><td>8 </td><td>0_8 </td><td>  8</td><td>1156</td><td>0.0069204152</td></tr>\n",
       "\t<tr><td>Control</td><td>0</td><td>9 </td><td>0_9 </td><td>  7</td><td>1156</td><td>0.0060553633</td></tr>\n",
       "\t<tr><td>Control</td><td>0</td><td>10</td><td>0_10</td><td>  8</td><td>1156</td><td>0.0069204152</td></tr>\n",
       "\t<tr><td>Control</td><td>0</td><td>11</td><td>0_11</td><td>  7</td><td>1156</td><td>0.0060553633</td></tr>\n",
       "\t<tr><td>Control</td><td>0</td><td>12</td><td>0_12</td><td>  4</td><td>1156</td><td>0.0034602076</td></tr>\n",
       "\t<tr><td>Control</td><td>0</td><td>13</td><td>0_13</td><td>  6</td><td>1156</td><td>0.0051903114</td></tr>\n",
       "\t<tr><td>Control</td><td>0</td><td>14</td><td>0_14</td><td>  2</td><td>1156</td><td>0.0017301038</td></tr>\n",
       "\t<tr><td>Control</td><td>0</td><td>15</td><td>0_15</td><td>  2</td><td>1156</td><td>0.0017301038</td></tr>\n",
       "\t<tr><td>Control</td><td>0</td><td>16</td><td>0_16</td><td>  5</td><td>1156</td><td>0.0043252595</td></tr>\n",
       "\t<tr><td>Control</td><td>0</td><td>17</td><td>0_17</td><td>  1</td><td>1156</td><td>0.0008650519</td></tr>\n",
       "\t<tr><td>Control</td><td>0</td><td>18</td><td>0_18</td><td>  4</td><td>1156</td><td>0.0034602076</td></tr>\n",
       "\t<tr><td>Control</td><td>0</td><td>19</td><td>0_19</td><td>  1</td><td>1156</td><td>0.0008650519</td></tr>\n",
       "\t<tr><td>Control</td><td>0</td><td>20</td><td>0_20</td><td>  2</td><td>1156</td><td>0.0017301038</td></tr>\n",
       "\t<tr><td>Control</td><td>0</td><td>21</td><td>0_21</td><td>  2</td><td>1156</td><td>0.0017301038</td></tr>\n",
       "\t<tr><td>Control</td><td>0</td><td>22</td><td>0_22</td><td>  3</td><td>1156</td><td>0.0025951557</td></tr>\n",
       "\t<tr><td>Control</td><td>0</td><td>23</td><td>0_23</td><td>  2</td><td>1156</td><td>0.0017301038</td></tr>\n",
       "\t<tr><td>Control</td><td>0</td><td>24</td><td>0_24</td><td>  2</td><td>1156</td><td>0.0017301038</td></tr>\n",
       "\t<tr><td>Control</td><td>0</td><td>25</td><td>0_25</td><td>  3</td><td>1156</td><td>0.0025951557</td></tr>\n",
       "\t<tr><td>Control</td><td>0</td><td>26</td><td>0_26</td><td>  1</td><td>1156</td><td>0.0008650519</td></tr>\n",
       "\t<tr><td>Control</td><td>0</td><td>27</td><td>0_27</td><td>  1</td><td>1156</td><td>0.0008650519</td></tr>\n",
       "\t<tr><td>Control</td><td>0</td><td>31</td><td>0_31</td><td>  1</td><td>1156</td><td>0.0008650519</td></tr>\n",
       "\t<tr><td>Control</td><td>0</td><td>32</td><td>0_32</td><td>  4</td><td>1156</td><td>0.0034602076</td></tr>\n",
       "\t<tr><td>⋮</td><td>⋮</td><td>⋮</td><td>⋮</td><td>⋮</td><td>⋮</td><td>⋮</td></tr>\n",
       "\t<tr><td>Flt3l</td><td>3</td><td>19</td><td>3_19</td><td> 13</td><td>1877</td><td>0.0069259457</td></tr>\n",
       "\t<tr><td>Flt3l</td><td>3</td><td>20</td><td>3_20</td><td>  5</td><td>1877</td><td>0.0026638253</td></tr>\n",
       "\t<tr><td>Flt3l</td><td>3</td><td>21</td><td>3_21</td><td>  6</td><td>1877</td><td>0.0031965903</td></tr>\n",
       "\t<tr><td>Flt3l</td><td>3</td><td>22</td><td>3_22</td><td>  5</td><td>1877</td><td>0.0026638253</td></tr>\n",
       "\t<tr><td>Flt3l</td><td>3</td><td>23</td><td>3_23</td><td>  8</td><td>1877</td><td>0.0042621204</td></tr>\n",
       "\t<tr><td>Flt3l</td><td>3</td><td>24</td><td>3_24</td><td>  2</td><td>1877</td><td>0.0010655301</td></tr>\n",
       "\t<tr><td>Flt3l</td><td>3</td><td>25</td><td>3_25</td><td>  6</td><td>1877</td><td>0.0031965903</td></tr>\n",
       "\t<tr><td>Flt3l</td><td>3</td><td>26</td><td>3_26</td><td> 24</td><td>1877</td><td>0.0127863612</td></tr>\n",
       "\t<tr><td>Flt3l</td><td>3</td><td>27</td><td>3_27</td><td>  9</td><td>1877</td><td>0.0047948855</td></tr>\n",
       "\t<tr><td>Flt3l</td><td>3</td><td>29</td><td>3_29</td><td>  3</td><td>1877</td><td>0.0015982952</td></tr>\n",
       "\t<tr><td>Flt3l</td><td>3</td><td>30</td><td>3_30</td><td>  3</td><td>1877</td><td>0.0015982952</td></tr>\n",
       "\t<tr><td>Flt3l</td><td>3</td><td>31</td><td>3_31</td><td>  1</td><td>1877</td><td>0.0005327651</td></tr>\n",
       "\t<tr><td>Flt3l</td><td>3</td><td>32</td><td>3_32</td><td>  3</td><td>1877</td><td>0.0015982952</td></tr>\n",
       "\t<tr><td>Flt3l</td><td>3</td><td>33</td><td>3_33</td><td>  2</td><td>1877</td><td>0.0010655301</td></tr>\n",
       "\t<tr><td>Flt3l</td><td>3</td><td>34</td><td>3_34</td><td>  3</td><td>1877</td><td>0.0015982952</td></tr>\n",
       "\t<tr><td>Flt3l</td><td>3</td><td>35</td><td>3_35</td><td>  2</td><td>1877</td><td>0.0010655301</td></tr>\n",
       "\t<tr><td>Flt3l</td><td>3</td><td>36</td><td>3_36</td><td>  1</td><td>1877</td><td>0.0005327651</td></tr>\n",
       "\t<tr><td>Flt3l</td><td>3</td><td>37</td><td>3_37</td><td>341</td><td>1877</td><td>0.1816728823</td></tr>\n",
       "\t<tr><td>Flt3l</td><td>3</td><td>38</td><td>3_38</td><td>  2</td><td>1877</td><td>0.0010655301</td></tr>\n",
       "\t<tr><td>Flt3l</td><td>3</td><td>39</td><td>3_39</td><td>  3</td><td>1877</td><td>0.0015982952</td></tr>\n",
       "\t<tr><td>Flt3l</td><td>3</td><td>40</td><td>3_40</td><td>  6</td><td>1877</td><td>0.0031965903</td></tr>\n",
       "\t<tr><td>Flt3l</td><td>3</td><td>41</td><td>3_41</td><td>  4</td><td>1877</td><td>0.0021310602</td></tr>\n",
       "\t<tr><td>Flt3l</td><td>3</td><td>42</td><td>3_42</td><td> 17</td><td>1877</td><td>0.0090570059</td></tr>\n",
       "\t<tr><td>Flt3l</td><td>3</td><td>43</td><td>3_43</td><td> 19</td><td>1877</td><td>0.0101225360</td></tr>\n",
       "\t<tr><td>Flt3l</td><td>3</td><td>44</td><td>3_44</td><td>  2</td><td>1877</td><td>0.0010655301</td></tr>\n",
       "\t<tr><td>Flt3l</td><td>3</td><td>45</td><td>3_45</td><td>  6</td><td>1877</td><td>0.0031965903</td></tr>\n",
       "\t<tr><td>Flt3l</td><td>3</td><td>46</td><td>3_46</td><td>  7</td><td>1877</td><td>0.0037293554</td></tr>\n",
       "\t<tr><td>Flt3l</td><td>3</td><td>47</td><td>3_47</td><td>  2</td><td>1877</td><td>0.0010655301</td></tr>\n",
       "\t<tr><td>Flt3l</td><td>3</td><td>48</td><td>3_48</td><td> 27</td><td>1877</td><td>0.0143846564</td></tr>\n",
       "\t<tr><td>Flt3l</td><td>3</td><td>49</td><td>3_49</td><td>  8</td><td>1877</td><td>0.0042621204</td></tr>\n",
       "</tbody>\n",
       "</table>\n"
      ],
      "text/latex": [
       "A tibble: 314 × 7\n",
       "\\begin{tabular}{lllllll}\n",
       " condition & donor & lineage & name & size & total & norm\\\\\n",
       " <fct> & <fct> & <fct> & <fct> & <int> & <int> & <dbl>\\\\\n",
       "\\hline\n",
       "\t Control & 0 & 0  & 0\\_0  & 219 & 1156 & 0.1894463668\\\\\n",
       "\t Control & 0 & 1  & 0\\_1  &  69 & 1156 & 0.0596885813\\\\\n",
       "\t Control & 0 & 2  & 0\\_2  &  86 & 1156 & 0.0743944637\\\\\n",
       "\t Control & 0 & 3  & 0\\_3  &  92 & 1156 & 0.0795847751\\\\\n",
       "\t Control & 0 & 4  & 0\\_4  &  37 & 1156 & 0.0320069204\\\\\n",
       "\t Control & 0 & 5  & 0\\_5  &  18 & 1156 & 0.0155709343\\\\\n",
       "\t Control & 0 & 6  & 0\\_6  &  47 & 1156 & 0.0406574394\\\\\n",
       "\t Control & 0 & 7  & 0\\_7  &  12 & 1156 & 0.0103806228\\\\\n",
       "\t Control & 0 & 8  & 0\\_8  &   8 & 1156 & 0.0069204152\\\\\n",
       "\t Control & 0 & 9  & 0\\_9  &   7 & 1156 & 0.0060553633\\\\\n",
       "\t Control & 0 & 10 & 0\\_10 &   8 & 1156 & 0.0069204152\\\\\n",
       "\t Control & 0 & 11 & 0\\_11 &   7 & 1156 & 0.0060553633\\\\\n",
       "\t Control & 0 & 12 & 0\\_12 &   4 & 1156 & 0.0034602076\\\\\n",
       "\t Control & 0 & 13 & 0\\_13 &   6 & 1156 & 0.0051903114\\\\\n",
       "\t Control & 0 & 14 & 0\\_14 &   2 & 1156 & 0.0017301038\\\\\n",
       "\t Control & 0 & 15 & 0\\_15 &   2 & 1156 & 0.0017301038\\\\\n",
       "\t Control & 0 & 16 & 0\\_16 &   5 & 1156 & 0.0043252595\\\\\n",
       "\t Control & 0 & 17 & 0\\_17 &   1 & 1156 & 0.0008650519\\\\\n",
       "\t Control & 0 & 18 & 0\\_18 &   4 & 1156 & 0.0034602076\\\\\n",
       "\t Control & 0 & 19 & 0\\_19 &   1 & 1156 & 0.0008650519\\\\\n",
       "\t Control & 0 & 20 & 0\\_20 &   2 & 1156 & 0.0017301038\\\\\n",
       "\t Control & 0 & 21 & 0\\_21 &   2 & 1156 & 0.0017301038\\\\\n",
       "\t Control & 0 & 22 & 0\\_22 &   3 & 1156 & 0.0025951557\\\\\n",
       "\t Control & 0 & 23 & 0\\_23 &   2 & 1156 & 0.0017301038\\\\\n",
       "\t Control & 0 & 24 & 0\\_24 &   2 & 1156 & 0.0017301038\\\\\n",
       "\t Control & 0 & 25 & 0\\_25 &   3 & 1156 & 0.0025951557\\\\\n",
       "\t Control & 0 & 26 & 0\\_26 &   1 & 1156 & 0.0008650519\\\\\n",
       "\t Control & 0 & 27 & 0\\_27 &   1 & 1156 & 0.0008650519\\\\\n",
       "\t Control & 0 & 31 & 0\\_31 &   1 & 1156 & 0.0008650519\\\\\n",
       "\t Control & 0 & 32 & 0\\_32 &   4 & 1156 & 0.0034602076\\\\\n",
       "\t ⋮ & ⋮ & ⋮ & ⋮ & ⋮ & ⋮ & ⋮\\\\\n",
       "\t Flt3l & 3 & 19 & 3\\_19 &  13 & 1877 & 0.0069259457\\\\\n",
       "\t Flt3l & 3 & 20 & 3\\_20 &   5 & 1877 & 0.0026638253\\\\\n",
       "\t Flt3l & 3 & 21 & 3\\_21 &   6 & 1877 & 0.0031965903\\\\\n",
       "\t Flt3l & 3 & 22 & 3\\_22 &   5 & 1877 & 0.0026638253\\\\\n",
       "\t Flt3l & 3 & 23 & 3\\_23 &   8 & 1877 & 0.0042621204\\\\\n",
       "\t Flt3l & 3 & 24 & 3\\_24 &   2 & 1877 & 0.0010655301\\\\\n",
       "\t Flt3l & 3 & 25 & 3\\_25 &   6 & 1877 & 0.0031965903\\\\\n",
       "\t Flt3l & 3 & 26 & 3\\_26 &  24 & 1877 & 0.0127863612\\\\\n",
       "\t Flt3l & 3 & 27 & 3\\_27 &   9 & 1877 & 0.0047948855\\\\\n",
       "\t Flt3l & 3 & 29 & 3\\_29 &   3 & 1877 & 0.0015982952\\\\\n",
       "\t Flt3l & 3 & 30 & 3\\_30 &   3 & 1877 & 0.0015982952\\\\\n",
       "\t Flt3l & 3 & 31 & 3\\_31 &   1 & 1877 & 0.0005327651\\\\\n",
       "\t Flt3l & 3 & 32 & 3\\_32 &   3 & 1877 & 0.0015982952\\\\\n",
       "\t Flt3l & 3 & 33 & 3\\_33 &   2 & 1877 & 0.0010655301\\\\\n",
       "\t Flt3l & 3 & 34 & 3\\_34 &   3 & 1877 & 0.0015982952\\\\\n",
       "\t Flt3l & 3 & 35 & 3\\_35 &   2 & 1877 & 0.0010655301\\\\\n",
       "\t Flt3l & 3 & 36 & 3\\_36 &   1 & 1877 & 0.0005327651\\\\\n",
       "\t Flt3l & 3 & 37 & 3\\_37 & 341 & 1877 & 0.1816728823\\\\\n",
       "\t Flt3l & 3 & 38 & 3\\_38 &   2 & 1877 & 0.0010655301\\\\\n",
       "\t Flt3l & 3 & 39 & 3\\_39 &   3 & 1877 & 0.0015982952\\\\\n",
       "\t Flt3l & 3 & 40 & 3\\_40 &   6 & 1877 & 0.0031965903\\\\\n",
       "\t Flt3l & 3 & 41 & 3\\_41 &   4 & 1877 & 0.0021310602\\\\\n",
       "\t Flt3l & 3 & 42 & 3\\_42 &  17 & 1877 & 0.0090570059\\\\\n",
       "\t Flt3l & 3 & 43 & 3\\_43 &  19 & 1877 & 0.0101225360\\\\\n",
       "\t Flt3l & 3 & 44 & 3\\_44 &   2 & 1877 & 0.0010655301\\\\\n",
       "\t Flt3l & 3 & 45 & 3\\_45 &   6 & 1877 & 0.0031965903\\\\\n",
       "\t Flt3l & 3 & 46 & 3\\_46 &   7 & 1877 & 0.0037293554\\\\\n",
       "\t Flt3l & 3 & 47 & 3\\_47 &   2 & 1877 & 0.0010655301\\\\\n",
       "\t Flt3l & 3 & 48 & 3\\_48 &  27 & 1877 & 0.0143846564\\\\\n",
       "\t Flt3l & 3 & 49 & 3\\_49 &   8 & 1877 & 0.0042621204\\\\\n",
       "\\end{tabular}\n"
      ],
      "text/markdown": [
       "\n",
       "A tibble: 314 × 7\n",
       "\n",
       "| condition &lt;fct&gt; | donor &lt;fct&gt; | lineage &lt;fct&gt; | name &lt;fct&gt; | size &lt;int&gt; | total &lt;int&gt; | norm &lt;dbl&gt; |\n",
       "|---|---|---|---|---|---|---|\n",
       "| Control | 0 | 0  | 0_0  | 219 | 1156 | 0.1894463668 |\n",
       "| Control | 0 | 1  | 0_1  |  69 | 1156 | 0.0596885813 |\n",
       "| Control | 0 | 2  | 0_2  |  86 | 1156 | 0.0743944637 |\n",
       "| Control | 0 | 3  | 0_3  |  92 | 1156 | 0.0795847751 |\n",
       "| Control | 0 | 4  | 0_4  |  37 | 1156 | 0.0320069204 |\n",
       "| Control | 0 | 5  | 0_5  |  18 | 1156 | 0.0155709343 |\n",
       "| Control | 0 | 6  | 0_6  |  47 | 1156 | 0.0406574394 |\n",
       "| Control | 0 | 7  | 0_7  |  12 | 1156 | 0.0103806228 |\n",
       "| Control | 0 | 8  | 0_8  |   8 | 1156 | 0.0069204152 |\n",
       "| Control | 0 | 9  | 0_9  |   7 | 1156 | 0.0060553633 |\n",
       "| Control | 0 | 10 | 0_10 |   8 | 1156 | 0.0069204152 |\n",
       "| Control | 0 | 11 | 0_11 |   7 | 1156 | 0.0060553633 |\n",
       "| Control | 0 | 12 | 0_12 |   4 | 1156 | 0.0034602076 |\n",
       "| Control | 0 | 13 | 0_13 |   6 | 1156 | 0.0051903114 |\n",
       "| Control | 0 | 14 | 0_14 |   2 | 1156 | 0.0017301038 |\n",
       "| Control | 0 | 15 | 0_15 |   2 | 1156 | 0.0017301038 |\n",
       "| Control | 0 | 16 | 0_16 |   5 | 1156 | 0.0043252595 |\n",
       "| Control | 0 | 17 | 0_17 |   1 | 1156 | 0.0008650519 |\n",
       "| Control | 0 | 18 | 0_18 |   4 | 1156 | 0.0034602076 |\n",
       "| Control | 0 | 19 | 0_19 |   1 | 1156 | 0.0008650519 |\n",
       "| Control | 0 | 20 | 0_20 |   2 | 1156 | 0.0017301038 |\n",
       "| Control | 0 | 21 | 0_21 |   2 | 1156 | 0.0017301038 |\n",
       "| Control | 0 | 22 | 0_22 |   3 | 1156 | 0.0025951557 |\n",
       "| Control | 0 | 23 | 0_23 |   2 | 1156 | 0.0017301038 |\n",
       "| Control | 0 | 24 | 0_24 |   2 | 1156 | 0.0017301038 |\n",
       "| Control | 0 | 25 | 0_25 |   3 | 1156 | 0.0025951557 |\n",
       "| Control | 0 | 26 | 0_26 |   1 | 1156 | 0.0008650519 |\n",
       "| Control | 0 | 27 | 0_27 |   1 | 1156 | 0.0008650519 |\n",
       "| Control | 0 | 31 | 0_31 |   1 | 1156 | 0.0008650519 |\n",
       "| Control | 0 | 32 | 0_32 |   4 | 1156 | 0.0034602076 |\n",
       "| ⋮ | ⋮ | ⋮ | ⋮ | ⋮ | ⋮ | ⋮ |\n",
       "| Flt3l | 3 | 19 | 3_19 |  13 | 1877 | 0.0069259457 |\n",
       "| Flt3l | 3 | 20 | 3_20 |   5 | 1877 | 0.0026638253 |\n",
       "| Flt3l | 3 | 21 | 3_21 |   6 | 1877 | 0.0031965903 |\n",
       "| Flt3l | 3 | 22 | 3_22 |   5 | 1877 | 0.0026638253 |\n",
       "| Flt3l | 3 | 23 | 3_23 |   8 | 1877 | 0.0042621204 |\n",
       "| Flt3l | 3 | 24 | 3_24 |   2 | 1877 | 0.0010655301 |\n",
       "| Flt3l | 3 | 25 | 3_25 |   6 | 1877 | 0.0031965903 |\n",
       "| Flt3l | 3 | 26 | 3_26 |  24 | 1877 | 0.0127863612 |\n",
       "| Flt3l | 3 | 27 | 3_27 |   9 | 1877 | 0.0047948855 |\n",
       "| Flt3l | 3 | 29 | 3_29 |   3 | 1877 | 0.0015982952 |\n",
       "| Flt3l | 3 | 30 | 3_30 |   3 | 1877 | 0.0015982952 |\n",
       "| Flt3l | 3 | 31 | 3_31 |   1 | 1877 | 0.0005327651 |\n",
       "| Flt3l | 3 | 32 | 3_32 |   3 | 1877 | 0.0015982952 |\n",
       "| Flt3l | 3 | 33 | 3_33 |   2 | 1877 | 0.0010655301 |\n",
       "| Flt3l | 3 | 34 | 3_34 |   3 | 1877 | 0.0015982952 |\n",
       "| Flt3l | 3 | 35 | 3_35 |   2 | 1877 | 0.0010655301 |\n",
       "| Flt3l | 3 | 36 | 3_36 |   1 | 1877 | 0.0005327651 |\n",
       "| Flt3l | 3 | 37 | 3_37 | 341 | 1877 | 0.1816728823 |\n",
       "| Flt3l | 3 | 38 | 3_38 |   2 | 1877 | 0.0010655301 |\n",
       "| Flt3l | 3 | 39 | 3_39 |   3 | 1877 | 0.0015982952 |\n",
       "| Flt3l | 3 | 40 | 3_40 |   6 | 1877 | 0.0031965903 |\n",
       "| Flt3l | 3 | 41 | 3_41 |   4 | 1877 | 0.0021310602 |\n",
       "| Flt3l | 3 | 42 | 3_42 |  17 | 1877 | 0.0090570059 |\n",
       "| Flt3l | 3 | 43 | 3_43 |  19 | 1877 | 0.0101225360 |\n",
       "| Flt3l | 3 | 44 | 3_44 |   2 | 1877 | 0.0010655301 |\n",
       "| Flt3l | 3 | 45 | 3_45 |   6 | 1877 | 0.0031965903 |\n",
       "| Flt3l | 3 | 46 | 3_46 |   7 | 1877 | 0.0037293554 |\n",
       "| Flt3l | 3 | 47 | 3_47 |   2 | 1877 | 0.0010655301 |\n",
       "| Flt3l | 3 | 48 | 3_48 |  27 | 1877 | 0.0143846564 |\n",
       "| Flt3l | 3 | 49 | 3_49 |   8 | 1877 | 0.0042621204 |\n",
       "\n"
      ],
      "text/plain": [
       "    condition donor lineage name size total norm        \n",
       "1   Control   0     0       0_0  219  1156  0.1894463668\n",
       "2   Control   0     1       0_1   69  1156  0.0596885813\n",
       "3   Control   0     2       0_2   86  1156  0.0743944637\n",
       "4   Control   0     3       0_3   92  1156  0.0795847751\n",
       "5   Control   0     4       0_4   37  1156  0.0320069204\n",
       "6   Control   0     5       0_5   18  1156  0.0155709343\n",
       "7   Control   0     6       0_6   47  1156  0.0406574394\n",
       "8   Control   0     7       0_7   12  1156  0.0103806228\n",
       "9   Control   0     8       0_8    8  1156  0.0069204152\n",
       "10  Control   0     9       0_9    7  1156  0.0060553633\n",
       "11  Control   0     10      0_10   8  1156  0.0069204152\n",
       "12  Control   0     11      0_11   7  1156  0.0060553633\n",
       "13  Control   0     12      0_12   4  1156  0.0034602076\n",
       "14  Control   0     13      0_13   6  1156  0.0051903114\n",
       "15  Control   0     14      0_14   2  1156  0.0017301038\n",
       "16  Control   0     15      0_15   2  1156  0.0017301038\n",
       "17  Control   0     16      0_16   5  1156  0.0043252595\n",
       "18  Control   0     17      0_17   1  1156  0.0008650519\n",
       "19  Control   0     18      0_18   4  1156  0.0034602076\n",
       "20  Control   0     19      0_19   1  1156  0.0008650519\n",
       "21  Control   0     20      0_20   2  1156  0.0017301038\n",
       "22  Control   0     21      0_21   2  1156  0.0017301038\n",
       "23  Control   0     22      0_22   3  1156  0.0025951557\n",
       "24  Control   0     23      0_23   2  1156  0.0017301038\n",
       "25  Control   0     24      0_24   2  1156  0.0017301038\n",
       "26  Control   0     25      0_25   3  1156  0.0025951557\n",
       "27  Control   0     26      0_26   1  1156  0.0008650519\n",
       "28  Control   0     27      0_27   1  1156  0.0008650519\n",
       "29  Control   0     31      0_31   1  1156  0.0008650519\n",
       "30  Control   0     32      0_32   4  1156  0.0034602076\n",
       "⋮   ⋮         ⋮     ⋮       ⋮    ⋮    ⋮     ⋮           \n",
       "285 Flt3l     3     19      3_19  13  1877  0.0069259457\n",
       "286 Flt3l     3     20      3_20   5  1877  0.0026638253\n",
       "287 Flt3l     3     21      3_21   6  1877  0.0031965903\n",
       "288 Flt3l     3     22      3_22   5  1877  0.0026638253\n",
       "289 Flt3l     3     23      3_23   8  1877  0.0042621204\n",
       "290 Flt3l     3     24      3_24   2  1877  0.0010655301\n",
       "291 Flt3l     3     25      3_25   6  1877  0.0031965903\n",
       "292 Flt3l     3     26      3_26  24  1877  0.0127863612\n",
       "293 Flt3l     3     27      3_27   9  1877  0.0047948855\n",
       "294 Flt3l     3     29      3_29   3  1877  0.0015982952\n",
       "295 Flt3l     3     30      3_30   3  1877  0.0015982952\n",
       "296 Flt3l     3     31      3_31   1  1877  0.0005327651\n",
       "297 Flt3l     3     32      3_32   3  1877  0.0015982952\n",
       "298 Flt3l     3     33      3_33   2  1877  0.0010655301\n",
       "299 Flt3l     3     34      3_34   3  1877  0.0015982952\n",
       "300 Flt3l     3     35      3_35   2  1877  0.0010655301\n",
       "301 Flt3l     3     36      3_36   1  1877  0.0005327651\n",
       "302 Flt3l     3     37      3_37 341  1877  0.1816728823\n",
       "303 Flt3l     3     38      3_38   2  1877  0.0010655301\n",
       "304 Flt3l     3     39      3_39   3  1877  0.0015982952\n",
       "305 Flt3l     3     40      3_40   6  1877  0.0031965903\n",
       "306 Flt3l     3     41      3_41   4  1877  0.0021310602\n",
       "307 Flt3l     3     42      3_42  17  1877  0.0090570059\n",
       "308 Flt3l     3     43      3_43  19  1877  0.0101225360\n",
       "309 Flt3l     3     44      3_44   2  1877  0.0010655301\n",
       "310 Flt3l     3     45      3_45   6  1877  0.0031965903\n",
       "311 Flt3l     3     46      3_46   7  1877  0.0037293554\n",
       "312 Flt3l     3     47      3_47   2  1877  0.0010655301\n",
       "313 Flt3l     3     48      3_48  27  1877  0.0143846564\n",
       "314 Flt3l     3     49      3_49   8  1877  0.0042621204"
      ]
     },
     "metadata": {},
     "output_type": "display_data"
    }
   ],
   "source": [
    "counts.norm <- counts %>% group_by(condition, donor) %>% mutate(total=sum(size)) %>% ungroup() %>% mutate(norm=size/total)\n",
    "\n",
    "counts.norm "
   ]
  },
  {
   "cell_type": "code",
   "execution_count": 9,
   "id": "b15ba9af",
   "metadata": {
    "execution": {
     "iopub.execute_input": "2021-12-03T20:46:31.766966Z",
     "iopub.status.busy": "2021-12-03T20:46:31.763500Z",
     "iopub.status.idle": "2021-12-03T20:46:31.873021Z",
     "shell.execute_reply": "2021-12-03T20:46:31.872113Z"
    },
    "papermill": {
     "duration": 0.203776,
     "end_time": "2021-12-03T20:46:31.873223",
     "exception": false,
     "start_time": "2021-12-03T20:46:31.669447",
     "status": "completed"
    },
    "scrolled": true,
    "tags": []
   },
   "outputs": [
    {
     "name": "stderr",
     "output_type": "stream",
     "text": [
      "Warning message in xtfrm.data.frame(x):\n",
      "“cannot xtfrm data frames”\n"
     ]
    },
    {
     "data": {
      "text/html": [
       "<table class=\"dataframe\">\n",
       "<caption>A tibble: 314 × 7</caption>\n",
       "<thead>\n",
       "\t<tr><th scope=col>condition</th><th scope=col>donor</th><th scope=col>lineage</th><th scope=col>name</th><th scope=col>size</th><th scope=col>total</th><th scope=col>norm</th></tr>\n",
       "\t<tr><th scope=col>&lt;fct&gt;</th><th scope=col>&lt;fct&gt;</th><th scope=col>&lt;fct&gt;</th><th scope=col>&lt;fct&gt;</th><th scope=col>&lt;int&gt;</th><th scope=col>&lt;int&gt;</th><th scope=col>&lt;dbl&gt;</th></tr>\n",
       "</thead>\n",
       "<tbody>\n",
       "\t<tr><td>Control</td><td>3</td><td>37</td><td>3_37</td><td>339</td><td> 935</td><td>0.36256684</td></tr>\n",
       "\t<tr><td>Control</td><td>0</td><td>43</td><td>0_43</td><td>347</td><td>1156</td><td>0.30017301</td></tr>\n",
       "\t<tr><td>Flt3l  </td><td>0</td><td>43</td><td>0_43</td><td>512</td><td>2360</td><td>0.21694915</td></tr>\n",
       "\t<tr><td>Flt3l  </td><td>2</td><td>0 </td><td>2_0 </td><td>299</td><td>1464</td><td>0.20423497</td></tr>\n",
       "\t<tr><td>Control</td><td>0</td><td>0 </td><td>0_0 </td><td>219</td><td>1156</td><td>0.18944637</td></tr>\n",
       "\t<tr><td>Flt3l  </td><td>3</td><td>37</td><td>3_37</td><td>341</td><td>1877</td><td>0.18167288</td></tr>\n",
       "\t<tr><td>Control</td><td>3</td><td>0 </td><td>3_0 </td><td>164</td><td> 935</td><td>0.17540107</td></tr>\n",
       "\t<tr><td>Flt3l  </td><td>0</td><td>0 </td><td>0_0 </td><td>363</td><td>2360</td><td>0.15381356</td></tr>\n",
       "\t<tr><td>Flt3l  </td><td>3</td><td>0 </td><td>3_0 </td><td>279</td><td>1877</td><td>0.14864145</td></tr>\n",
       "\t<tr><td>Flt3l  </td><td>3</td><td>1 </td><td>3_1 </td><td>262</td><td>1877</td><td>0.13958444</td></tr>\n",
       "\t<tr><td>Control</td><td>2</td><td>0 </td><td>2_0 </td><td> 94</td><td> 735</td><td>0.12789116</td></tr>\n",
       "\t<tr><td>Control</td><td>1</td><td>2 </td><td>1_2 </td><td> 95</td><td> 845</td><td>0.11242604</td></tr>\n",
       "\t<tr><td>Flt3l  </td><td>1</td><td>0 </td><td>1_0 </td><td>249</td><td>2319</td><td>0.10737387</td></tr>\n",
       "\t<tr><td>Flt3l  </td><td>2</td><td>1 </td><td>2_1 </td><td>156</td><td>1464</td><td>0.10655738</td></tr>\n",
       "\t<tr><td>Control</td><td>1</td><td>1 </td><td>1_1 </td><td> 90</td><td> 845</td><td>0.10650888</td></tr>\n",
       "\t<tr><td>Control</td><td>1</td><td>4 </td><td>1_4 </td><td> 83</td><td> 845</td><td>0.09822485</td></tr>\n",
       "\t<tr><td>Control</td><td>3</td><td>1 </td><td>3_1 </td><td> 87</td><td> 935</td><td>0.09304813</td></tr>\n",
       "\t<tr><td>Control</td><td>3</td><td>2 </td><td>3_2 </td><td> 86</td><td> 935</td><td>0.09197861</td></tr>\n",
       "\t<tr><td>Control</td><td>2</td><td>5 </td><td>2_5 </td><td> 66</td><td> 735</td><td>0.08979592</td></tr>\n",
       "\t<tr><td>Flt3l  </td><td>1</td><td>1 </td><td>1_1 </td><td>196</td><td>2319</td><td>0.08451919</td></tr>\n",
       "\t<tr><td>Flt3l  </td><td>1</td><td>2 </td><td>1_2 </td><td>194</td><td>2319</td><td>0.08365675</td></tr>\n",
       "\t<tr><td>Control</td><td>2</td><td>7 </td><td>2_7 </td><td> 59</td><td> 735</td><td>0.08027211</td></tr>\n",
       "\t<tr><td>Flt3l  </td><td>2</td><td>2 </td><td>2_2 </td><td>117</td><td>1464</td><td>0.07991803</td></tr>\n",
       "\t<tr><td>Flt3l  </td><td>1</td><td>4 </td><td>1_4 </td><td>185</td><td>2319</td><td>0.07977577</td></tr>\n",
       "\t<tr><td>Control</td><td>0</td><td>3 </td><td>0_3 </td><td> 92</td><td>1156</td><td>0.07958478</td></tr>\n",
       "\t<tr><td>Control</td><td>1</td><td>0 </td><td>1_0 </td><td> 64</td><td> 845</td><td>0.07573964</td></tr>\n",
       "\t<tr><td>Control</td><td>2</td><td>2 </td><td>2_2 </td><td> 55</td><td> 735</td><td>0.07482993</td></tr>\n",
       "\t<tr><td>Control</td><td>0</td><td>2 </td><td>0_2 </td><td> 86</td><td>1156</td><td>0.07439446</td></tr>\n",
       "\t<tr><td>Control</td><td>3</td><td>3 </td><td>3_3 </td><td> 69</td><td> 935</td><td>0.07379679</td></tr>\n",
       "\t<tr><td>Flt3l  </td><td>1</td><td>6 </td><td>1_6 </td><td>170</td><td>2319</td><td>0.07330746</td></tr>\n",
       "\t<tr><td>⋮</td><td>⋮</td><td>⋮</td><td>⋮</td><td>⋮</td><td>⋮</td><td>⋮</td></tr>\n",
       "\t<tr><td>Flt3l  </td><td>3</td><td>44</td><td>3_44</td><td>2</td><td>1877</td><td>0.0010655301</td></tr>\n",
       "\t<tr><td>Flt3l  </td><td>3</td><td>47</td><td>3_47</td><td>2</td><td>1877</td><td>0.0010655301</td></tr>\n",
       "\t<tr><td>Control</td><td>0</td><td>17</td><td>0_17</td><td>1</td><td>1156</td><td>0.0008650519</td></tr>\n",
       "\t<tr><td>Control</td><td>0</td><td>19</td><td>0_19</td><td>1</td><td>1156</td><td>0.0008650519</td></tr>\n",
       "\t<tr><td>Control</td><td>0</td><td>26</td><td>0_26</td><td>1</td><td>1156</td><td>0.0008650519</td></tr>\n",
       "\t<tr><td>Control</td><td>0</td><td>27</td><td>0_27</td><td>1</td><td>1156</td><td>0.0008650519</td></tr>\n",
       "\t<tr><td>Control</td><td>0</td><td>31</td><td>0_31</td><td>1</td><td>1156</td><td>0.0008650519</td></tr>\n",
       "\t<tr><td>Control</td><td>0</td><td>33</td><td>0_33</td><td>1</td><td>1156</td><td>0.0008650519</td></tr>\n",
       "\t<tr><td>Control</td><td>0</td><td>34</td><td>0_34</td><td>1</td><td>1156</td><td>0.0008650519</td></tr>\n",
       "\t<tr><td>Control</td><td>0</td><td>44</td><td>0_44</td><td>1</td><td>1156</td><td>0.0008650519</td></tr>\n",
       "\t<tr><td>Control</td><td>0</td><td>45</td><td>0_45</td><td>1</td><td>1156</td><td>0.0008650519</td></tr>\n",
       "\t<tr><td>Control</td><td>0</td><td>49</td><td>0_49</td><td>1</td><td>1156</td><td>0.0008650519</td></tr>\n",
       "\t<tr><td>Control</td><td>0</td><td>53</td><td>0_53</td><td>1</td><td>1156</td><td>0.0008650519</td></tr>\n",
       "\t<tr><td>Flt3l  </td><td>0</td><td>30</td><td>0_30</td><td>2</td><td>2360</td><td>0.0008474576</td></tr>\n",
       "\t<tr><td>Flt3l  </td><td>0</td><td>31</td><td>0_31</td><td>2</td><td>2360</td><td>0.0008474576</td></tr>\n",
       "\t<tr><td>Flt3l  </td><td>0</td><td>33</td><td>0_33</td><td>2</td><td>2360</td><td>0.0008474576</td></tr>\n",
       "\t<tr><td>Flt3l  </td><td>0</td><td>39</td><td>0_39</td><td>2</td><td>2360</td><td>0.0008474576</td></tr>\n",
       "\t<tr><td>Flt3l  </td><td>0</td><td>42</td><td>0_42</td><td>2</td><td>2360</td><td>0.0008474576</td></tr>\n",
       "\t<tr><td>Flt3l  </td><td>0</td><td>46</td><td>0_46</td><td>2</td><td>2360</td><td>0.0008474576</td></tr>\n",
       "\t<tr><td>Flt3l  </td><td>2</td><td>16</td><td>2_16</td><td>1</td><td>1464</td><td>0.0006830601</td></tr>\n",
       "\t<tr><td>Flt3l  </td><td>2</td><td>18</td><td>2_18</td><td>1</td><td>1464</td><td>0.0006830601</td></tr>\n",
       "\t<tr><td>Flt3l  </td><td>2</td><td>36</td><td>2_36</td><td>1</td><td>1464</td><td>0.0006830601</td></tr>\n",
       "\t<tr><td>Flt3l  </td><td>2</td><td>41</td><td>2_41</td><td>1</td><td>1464</td><td>0.0006830601</td></tr>\n",
       "\t<tr><td>Flt3l  </td><td>2</td><td>42</td><td>2_42</td><td>1</td><td>1464</td><td>0.0006830601</td></tr>\n",
       "\t<tr><td>Flt3l  </td><td>2</td><td>47</td><td>2_47</td><td>1</td><td>1464</td><td>0.0006830601</td></tr>\n",
       "\t<tr><td>Flt3l  </td><td>2</td><td>48</td><td>2_48</td><td>1</td><td>1464</td><td>0.0006830601</td></tr>\n",
       "\t<tr><td>Flt3l  </td><td>3</td><td>31</td><td>3_31</td><td>1</td><td>1877</td><td>0.0005327651</td></tr>\n",
       "\t<tr><td>Flt3l  </td><td>3</td><td>36</td><td>3_36</td><td>1</td><td>1877</td><td>0.0005327651</td></tr>\n",
       "\t<tr><td>Flt3l  </td><td>0</td><td>24</td><td>0_24</td><td>1</td><td>2360</td><td>0.0004237288</td></tr>\n",
       "\t<tr><td>Flt3l  </td><td>0</td><td>49</td><td>0_49</td><td>1</td><td>2360</td><td>0.0004237288</td></tr>\n",
       "</tbody>\n",
       "</table>\n"
      ],
      "text/latex": [
       "A tibble: 314 × 7\n",
       "\\begin{tabular}{lllllll}\n",
       " condition & donor & lineage & name & size & total & norm\\\\\n",
       " <fct> & <fct> & <fct> & <fct> & <int> & <int> & <dbl>\\\\\n",
       "\\hline\n",
       "\t Control & 3 & 37 & 3\\_37 & 339 &  935 & 0.36256684\\\\\n",
       "\t Control & 0 & 43 & 0\\_43 & 347 & 1156 & 0.30017301\\\\\n",
       "\t Flt3l   & 0 & 43 & 0\\_43 & 512 & 2360 & 0.21694915\\\\\n",
       "\t Flt3l   & 2 & 0  & 2\\_0  & 299 & 1464 & 0.20423497\\\\\n",
       "\t Control & 0 & 0  & 0\\_0  & 219 & 1156 & 0.18944637\\\\\n",
       "\t Flt3l   & 3 & 37 & 3\\_37 & 341 & 1877 & 0.18167288\\\\\n",
       "\t Control & 3 & 0  & 3\\_0  & 164 &  935 & 0.17540107\\\\\n",
       "\t Flt3l   & 0 & 0  & 0\\_0  & 363 & 2360 & 0.15381356\\\\\n",
       "\t Flt3l   & 3 & 0  & 3\\_0  & 279 & 1877 & 0.14864145\\\\\n",
       "\t Flt3l   & 3 & 1  & 3\\_1  & 262 & 1877 & 0.13958444\\\\\n",
       "\t Control & 2 & 0  & 2\\_0  &  94 &  735 & 0.12789116\\\\\n",
       "\t Control & 1 & 2  & 1\\_2  &  95 &  845 & 0.11242604\\\\\n",
       "\t Flt3l   & 1 & 0  & 1\\_0  & 249 & 2319 & 0.10737387\\\\\n",
       "\t Flt3l   & 2 & 1  & 2\\_1  & 156 & 1464 & 0.10655738\\\\\n",
       "\t Control & 1 & 1  & 1\\_1  &  90 &  845 & 0.10650888\\\\\n",
       "\t Control & 1 & 4  & 1\\_4  &  83 &  845 & 0.09822485\\\\\n",
       "\t Control & 3 & 1  & 3\\_1  &  87 &  935 & 0.09304813\\\\\n",
       "\t Control & 3 & 2  & 3\\_2  &  86 &  935 & 0.09197861\\\\\n",
       "\t Control & 2 & 5  & 2\\_5  &  66 &  735 & 0.08979592\\\\\n",
       "\t Flt3l   & 1 & 1  & 1\\_1  & 196 & 2319 & 0.08451919\\\\\n",
       "\t Flt3l   & 1 & 2  & 1\\_2  & 194 & 2319 & 0.08365675\\\\\n",
       "\t Control & 2 & 7  & 2\\_7  &  59 &  735 & 0.08027211\\\\\n",
       "\t Flt3l   & 2 & 2  & 2\\_2  & 117 & 1464 & 0.07991803\\\\\n",
       "\t Flt3l   & 1 & 4  & 1\\_4  & 185 & 2319 & 0.07977577\\\\\n",
       "\t Control & 0 & 3  & 0\\_3  &  92 & 1156 & 0.07958478\\\\\n",
       "\t Control & 1 & 0  & 1\\_0  &  64 &  845 & 0.07573964\\\\\n",
       "\t Control & 2 & 2  & 2\\_2  &  55 &  735 & 0.07482993\\\\\n",
       "\t Control & 0 & 2  & 0\\_2  &  86 & 1156 & 0.07439446\\\\\n",
       "\t Control & 3 & 3  & 3\\_3  &  69 &  935 & 0.07379679\\\\\n",
       "\t Flt3l   & 1 & 6  & 1\\_6  & 170 & 2319 & 0.07330746\\\\\n",
       "\t ⋮ & ⋮ & ⋮ & ⋮ & ⋮ & ⋮ & ⋮\\\\\n",
       "\t Flt3l   & 3 & 44 & 3\\_44 & 2 & 1877 & 0.0010655301\\\\\n",
       "\t Flt3l   & 3 & 47 & 3\\_47 & 2 & 1877 & 0.0010655301\\\\\n",
       "\t Control & 0 & 17 & 0\\_17 & 1 & 1156 & 0.0008650519\\\\\n",
       "\t Control & 0 & 19 & 0\\_19 & 1 & 1156 & 0.0008650519\\\\\n",
       "\t Control & 0 & 26 & 0\\_26 & 1 & 1156 & 0.0008650519\\\\\n",
       "\t Control & 0 & 27 & 0\\_27 & 1 & 1156 & 0.0008650519\\\\\n",
       "\t Control & 0 & 31 & 0\\_31 & 1 & 1156 & 0.0008650519\\\\\n",
       "\t Control & 0 & 33 & 0\\_33 & 1 & 1156 & 0.0008650519\\\\\n",
       "\t Control & 0 & 34 & 0\\_34 & 1 & 1156 & 0.0008650519\\\\\n",
       "\t Control & 0 & 44 & 0\\_44 & 1 & 1156 & 0.0008650519\\\\\n",
       "\t Control & 0 & 45 & 0\\_45 & 1 & 1156 & 0.0008650519\\\\\n",
       "\t Control & 0 & 49 & 0\\_49 & 1 & 1156 & 0.0008650519\\\\\n",
       "\t Control & 0 & 53 & 0\\_53 & 1 & 1156 & 0.0008650519\\\\\n",
       "\t Flt3l   & 0 & 30 & 0\\_30 & 2 & 2360 & 0.0008474576\\\\\n",
       "\t Flt3l   & 0 & 31 & 0\\_31 & 2 & 2360 & 0.0008474576\\\\\n",
       "\t Flt3l   & 0 & 33 & 0\\_33 & 2 & 2360 & 0.0008474576\\\\\n",
       "\t Flt3l   & 0 & 39 & 0\\_39 & 2 & 2360 & 0.0008474576\\\\\n",
       "\t Flt3l   & 0 & 42 & 0\\_42 & 2 & 2360 & 0.0008474576\\\\\n",
       "\t Flt3l   & 0 & 46 & 0\\_46 & 2 & 2360 & 0.0008474576\\\\\n",
       "\t Flt3l   & 2 & 16 & 2\\_16 & 1 & 1464 & 0.0006830601\\\\\n",
       "\t Flt3l   & 2 & 18 & 2\\_18 & 1 & 1464 & 0.0006830601\\\\\n",
       "\t Flt3l   & 2 & 36 & 2\\_36 & 1 & 1464 & 0.0006830601\\\\\n",
       "\t Flt3l   & 2 & 41 & 2\\_41 & 1 & 1464 & 0.0006830601\\\\\n",
       "\t Flt3l   & 2 & 42 & 2\\_42 & 1 & 1464 & 0.0006830601\\\\\n",
       "\t Flt3l   & 2 & 47 & 2\\_47 & 1 & 1464 & 0.0006830601\\\\\n",
       "\t Flt3l   & 2 & 48 & 2\\_48 & 1 & 1464 & 0.0006830601\\\\\n",
       "\t Flt3l   & 3 & 31 & 3\\_31 & 1 & 1877 & 0.0005327651\\\\\n",
       "\t Flt3l   & 3 & 36 & 3\\_36 & 1 & 1877 & 0.0005327651\\\\\n",
       "\t Flt3l   & 0 & 24 & 0\\_24 & 1 & 2360 & 0.0004237288\\\\\n",
       "\t Flt3l   & 0 & 49 & 0\\_49 & 1 & 2360 & 0.0004237288\\\\\n",
       "\\end{tabular}\n"
      ],
      "text/markdown": [
       "\n",
       "A tibble: 314 × 7\n",
       "\n",
       "| condition &lt;fct&gt; | donor &lt;fct&gt; | lineage &lt;fct&gt; | name &lt;fct&gt; | size &lt;int&gt; | total &lt;int&gt; | norm &lt;dbl&gt; |\n",
       "|---|---|---|---|---|---|---|\n",
       "| Control | 3 | 37 | 3_37 | 339 |  935 | 0.36256684 |\n",
       "| Control | 0 | 43 | 0_43 | 347 | 1156 | 0.30017301 |\n",
       "| Flt3l   | 0 | 43 | 0_43 | 512 | 2360 | 0.21694915 |\n",
       "| Flt3l   | 2 | 0  | 2_0  | 299 | 1464 | 0.20423497 |\n",
       "| Control | 0 | 0  | 0_0  | 219 | 1156 | 0.18944637 |\n",
       "| Flt3l   | 3 | 37 | 3_37 | 341 | 1877 | 0.18167288 |\n",
       "| Control | 3 | 0  | 3_0  | 164 |  935 | 0.17540107 |\n",
       "| Flt3l   | 0 | 0  | 0_0  | 363 | 2360 | 0.15381356 |\n",
       "| Flt3l   | 3 | 0  | 3_0  | 279 | 1877 | 0.14864145 |\n",
       "| Flt3l   | 3 | 1  | 3_1  | 262 | 1877 | 0.13958444 |\n",
       "| Control | 2 | 0  | 2_0  |  94 |  735 | 0.12789116 |\n",
       "| Control | 1 | 2  | 1_2  |  95 |  845 | 0.11242604 |\n",
       "| Flt3l   | 1 | 0  | 1_0  | 249 | 2319 | 0.10737387 |\n",
       "| Flt3l   | 2 | 1  | 2_1  | 156 | 1464 | 0.10655738 |\n",
       "| Control | 1 | 1  | 1_1  |  90 |  845 | 0.10650888 |\n",
       "| Control | 1 | 4  | 1_4  |  83 |  845 | 0.09822485 |\n",
       "| Control | 3 | 1  | 3_1  |  87 |  935 | 0.09304813 |\n",
       "| Control | 3 | 2  | 3_2  |  86 |  935 | 0.09197861 |\n",
       "| Control | 2 | 5  | 2_5  |  66 |  735 | 0.08979592 |\n",
       "| Flt3l   | 1 | 1  | 1_1  | 196 | 2319 | 0.08451919 |\n",
       "| Flt3l   | 1 | 2  | 1_2  | 194 | 2319 | 0.08365675 |\n",
       "| Control | 2 | 7  | 2_7  |  59 |  735 | 0.08027211 |\n",
       "| Flt3l   | 2 | 2  | 2_2  | 117 | 1464 | 0.07991803 |\n",
       "| Flt3l   | 1 | 4  | 1_4  | 185 | 2319 | 0.07977577 |\n",
       "| Control | 0 | 3  | 0_3  |  92 | 1156 | 0.07958478 |\n",
       "| Control | 1 | 0  | 1_0  |  64 |  845 | 0.07573964 |\n",
       "| Control | 2 | 2  | 2_2  |  55 |  735 | 0.07482993 |\n",
       "| Control | 0 | 2  | 0_2  |  86 | 1156 | 0.07439446 |\n",
       "| Control | 3 | 3  | 3_3  |  69 |  935 | 0.07379679 |\n",
       "| Flt3l   | 1 | 6  | 1_6  | 170 | 2319 | 0.07330746 |\n",
       "| ⋮ | ⋮ | ⋮ | ⋮ | ⋮ | ⋮ | ⋮ |\n",
       "| Flt3l   | 3 | 44 | 3_44 | 2 | 1877 | 0.0010655301 |\n",
       "| Flt3l   | 3 | 47 | 3_47 | 2 | 1877 | 0.0010655301 |\n",
       "| Control | 0 | 17 | 0_17 | 1 | 1156 | 0.0008650519 |\n",
       "| Control | 0 | 19 | 0_19 | 1 | 1156 | 0.0008650519 |\n",
       "| Control | 0 | 26 | 0_26 | 1 | 1156 | 0.0008650519 |\n",
       "| Control | 0 | 27 | 0_27 | 1 | 1156 | 0.0008650519 |\n",
       "| Control | 0 | 31 | 0_31 | 1 | 1156 | 0.0008650519 |\n",
       "| Control | 0 | 33 | 0_33 | 1 | 1156 | 0.0008650519 |\n",
       "| Control | 0 | 34 | 0_34 | 1 | 1156 | 0.0008650519 |\n",
       "| Control | 0 | 44 | 0_44 | 1 | 1156 | 0.0008650519 |\n",
       "| Control | 0 | 45 | 0_45 | 1 | 1156 | 0.0008650519 |\n",
       "| Control | 0 | 49 | 0_49 | 1 | 1156 | 0.0008650519 |\n",
       "| Control | 0 | 53 | 0_53 | 1 | 1156 | 0.0008650519 |\n",
       "| Flt3l   | 0 | 30 | 0_30 | 2 | 2360 | 0.0008474576 |\n",
       "| Flt3l   | 0 | 31 | 0_31 | 2 | 2360 | 0.0008474576 |\n",
       "| Flt3l   | 0 | 33 | 0_33 | 2 | 2360 | 0.0008474576 |\n",
       "| Flt3l   | 0 | 39 | 0_39 | 2 | 2360 | 0.0008474576 |\n",
       "| Flt3l   | 0 | 42 | 0_42 | 2 | 2360 | 0.0008474576 |\n",
       "| Flt3l   | 0 | 46 | 0_46 | 2 | 2360 | 0.0008474576 |\n",
       "| Flt3l   | 2 | 16 | 2_16 | 1 | 1464 | 0.0006830601 |\n",
       "| Flt3l   | 2 | 18 | 2_18 | 1 | 1464 | 0.0006830601 |\n",
       "| Flt3l   | 2 | 36 | 2_36 | 1 | 1464 | 0.0006830601 |\n",
       "| Flt3l   | 2 | 41 | 2_41 | 1 | 1464 | 0.0006830601 |\n",
       "| Flt3l   | 2 | 42 | 2_42 | 1 | 1464 | 0.0006830601 |\n",
       "| Flt3l   | 2 | 47 | 2_47 | 1 | 1464 | 0.0006830601 |\n",
       "| Flt3l   | 2 | 48 | 2_48 | 1 | 1464 | 0.0006830601 |\n",
       "| Flt3l   | 3 | 31 | 3_31 | 1 | 1877 | 0.0005327651 |\n",
       "| Flt3l   | 3 | 36 | 3_36 | 1 | 1877 | 0.0005327651 |\n",
       "| Flt3l   | 0 | 24 | 0_24 | 1 | 2360 | 0.0004237288 |\n",
       "| Flt3l   | 0 | 49 | 0_49 | 1 | 2360 | 0.0004237288 |\n",
       "\n"
      ],
      "text/plain": [
       "    condition donor lineage name size total norm        \n",
       "1   Control   3     37      3_37 339   935  0.36256684  \n",
       "2   Control   0     43      0_43 347  1156  0.30017301  \n",
       "3   Flt3l     0     43      0_43 512  2360  0.21694915  \n",
       "4   Flt3l     2     0       2_0  299  1464  0.20423497  \n",
       "5   Control   0     0       0_0  219  1156  0.18944637  \n",
       "6   Flt3l     3     37      3_37 341  1877  0.18167288  \n",
       "7   Control   3     0       3_0  164   935  0.17540107  \n",
       "8   Flt3l     0     0       0_0  363  2360  0.15381356  \n",
       "9   Flt3l     3     0       3_0  279  1877  0.14864145  \n",
       "10  Flt3l     3     1       3_1  262  1877  0.13958444  \n",
       "11  Control   2     0       2_0   94   735  0.12789116  \n",
       "12  Control   1     2       1_2   95   845  0.11242604  \n",
       "13  Flt3l     1     0       1_0  249  2319  0.10737387  \n",
       "14  Flt3l     2     1       2_1  156  1464  0.10655738  \n",
       "15  Control   1     1       1_1   90   845  0.10650888  \n",
       "16  Control   1     4       1_4   83   845  0.09822485  \n",
       "17  Control   3     1       3_1   87   935  0.09304813  \n",
       "18  Control   3     2       3_2   86   935  0.09197861  \n",
       "19  Control   2     5       2_5   66   735  0.08979592  \n",
       "20  Flt3l     1     1       1_1  196  2319  0.08451919  \n",
       "21  Flt3l     1     2       1_2  194  2319  0.08365675  \n",
       "22  Control   2     7       2_7   59   735  0.08027211  \n",
       "23  Flt3l     2     2       2_2  117  1464  0.07991803  \n",
       "24  Flt3l     1     4       1_4  185  2319  0.07977577  \n",
       "25  Control   0     3       0_3   92  1156  0.07958478  \n",
       "26  Control   1     0       1_0   64   845  0.07573964  \n",
       "27  Control   2     2       2_2   55   735  0.07482993  \n",
       "28  Control   0     2       0_2   86  1156  0.07439446  \n",
       "29  Control   3     3       3_3   69   935  0.07379679  \n",
       "30  Flt3l     1     6       1_6  170  2319  0.07330746  \n",
       "⋮   ⋮         ⋮     ⋮       ⋮    ⋮    ⋮     ⋮           \n",
       "285 Flt3l     3     44      3_44 2    1877  0.0010655301\n",
       "286 Flt3l     3     47      3_47 2    1877  0.0010655301\n",
       "287 Control   0     17      0_17 1    1156  0.0008650519\n",
       "288 Control   0     19      0_19 1    1156  0.0008650519\n",
       "289 Control   0     26      0_26 1    1156  0.0008650519\n",
       "290 Control   0     27      0_27 1    1156  0.0008650519\n",
       "291 Control   0     31      0_31 1    1156  0.0008650519\n",
       "292 Control   0     33      0_33 1    1156  0.0008650519\n",
       "293 Control   0     34      0_34 1    1156  0.0008650519\n",
       "294 Control   0     44      0_44 1    1156  0.0008650519\n",
       "295 Control   0     45      0_45 1    1156  0.0008650519\n",
       "296 Control   0     49      0_49 1    1156  0.0008650519\n",
       "297 Control   0     53      0_53 1    1156  0.0008650519\n",
       "298 Flt3l     0     30      0_30 2    2360  0.0008474576\n",
       "299 Flt3l     0     31      0_31 2    2360  0.0008474576\n",
       "300 Flt3l     0     33      0_33 2    2360  0.0008474576\n",
       "301 Flt3l     0     39      0_39 2    2360  0.0008474576\n",
       "302 Flt3l     0     42      0_42 2    2360  0.0008474576\n",
       "303 Flt3l     0     46      0_46 2    2360  0.0008474576\n",
       "304 Flt3l     2     16      2_16 1    1464  0.0006830601\n",
       "305 Flt3l     2     18      2_18 1    1464  0.0006830601\n",
       "306 Flt3l     2     36      2_36 1    1464  0.0006830601\n",
       "307 Flt3l     2     41      2_41 1    1464  0.0006830601\n",
       "308 Flt3l     2     42      2_42 1    1464  0.0006830601\n",
       "309 Flt3l     2     47      2_47 1    1464  0.0006830601\n",
       "310 Flt3l     2     48      2_48 1    1464  0.0006830601\n",
       "311 Flt3l     3     31      3_31 1    1877  0.0005327651\n",
       "312 Flt3l     3     36      3_36 1    1877  0.0005327651\n",
       "313 Flt3l     0     24      0_24 1    2360  0.0004237288\n",
       "314 Flt3l     0     49      0_49 1    2360  0.0004237288"
      ]
     },
     "metadata": {},
     "output_type": "display_data"
    }
   ],
   "source": [
    "counts.norm.sizes = counts.norm[order(counts.norm[,\"norm\"], decreasing=T),]\n",
    "counts.norm.sizes"
   ]
  },
  {
   "cell_type": "code",
   "execution_count": 10,
   "id": "67b08dba",
   "metadata": {
    "execution": {
     "iopub.execute_input": "2021-12-03T20:46:32.071483Z",
     "iopub.status.busy": "2021-12-03T20:46:32.068075Z",
     "iopub.status.idle": "2021-12-03T20:46:32.187533Z",
     "shell.execute_reply": "2021-12-03T20:46:32.186650Z"
    },
    "papermill": {
     "duration": 0.218808,
     "end_time": "2021-12-03T20:46:32.187732",
     "exception": false,
     "start_time": "2021-12-03T20:46:31.968924",
     "status": "completed"
    },
    "scrolled": true,
    "tags": []
   },
   "outputs": [
    {
     "name": "stderr",
     "output_type": "stream",
     "text": [
      "`summarise()` has grouped output by 'donor'. You can override using the `.groups` argument.\n",
      "\n"
     ]
    },
    {
     "data": {
      "text/html": [
       "<table class=\"dataframe\">\n",
       "<caption>A grouped_df: 174 × 5</caption>\n",
       "<thead>\n",
       "\t<tr><th scope=col>donor</th><th scope=col>lineage</th><th scope=col>norm.total</th><th scope=col>total</th><th scope=col>name</th></tr>\n",
       "\t<tr><th scope=col>&lt;fct&gt;</th><th scope=col>&lt;fct&gt;</th><th scope=col>&lt;dbl&gt;</th><th scope=col>&lt;int&gt;</th><th scope=col>&lt;fct&gt;</th></tr>\n",
       "</thead>\n",
       "<tbody>\n",
       "\t<tr><td>3</td><td>37</td><td>0.54423973</td><td>680</td><td>3_37</td></tr>\n",
       "\t<tr><td>0</td><td>43</td><td>0.51712216</td><td>859</td><td>0_43</td></tr>\n",
       "\t<tr><td>0</td><td>0 </td><td>0.34325993</td><td>582</td><td>0_0 </td></tr>\n",
       "\t<tr><td>2</td><td>0 </td><td>0.33212613</td><td>393</td><td>2_0 </td></tr>\n",
       "\t<tr><td>3</td><td>0 </td><td>0.32404252</td><td>443</td><td>3_0 </td></tr>\n",
       "\t<tr><td>3</td><td>1 </td><td>0.23263257</td><td>349</td><td>3_1 </td></tr>\n",
       "\t<tr><td>1</td><td>2 </td><td>0.19608278</td><td>289</td><td>1_2 </td></tr>\n",
       "\t<tr><td>1</td><td>1 </td><td>0.19102807</td><td>286</td><td>1_1 </td></tr>\n",
       "\t<tr><td>1</td><td>0 </td><td>0.18311351</td><td>313</td><td>1_0 </td></tr>\n",
       "\t<tr><td>1</td><td>4 </td><td>0.17800062</td><td>268</td><td>1_4 </td></tr>\n",
       "\t<tr><td>2</td><td>2 </td><td>0.15474796</td><td>172</td><td>2_2 </td></tr>\n",
       "\t<tr><td>3</td><td>2 </td><td>0.15005000</td><td>195</td><td>3_2 </td></tr>\n",
       "\t<tr><td>1</td><td>6 </td><td>0.13721279</td><td>224</td><td>1_6 </td></tr>\n",
       "\t<tr><td>0</td><td>2 </td><td>0.13710633</td><td>234</td><td>0_2 </td></tr>\n",
       "\t<tr><td>1</td><td>5 </td><td>0.13504699</td><td>212</td><td>1_5 </td></tr>\n",
       "\t<tr><td>0</td><td>1 </td><td>0.13256994</td><td>241</td><td>0_1 </td></tr>\n",
       "\t<tr><td>2</td><td>1 </td><td>0.12968663</td><td>173</td><td>2_1 </td></tr>\n",
       "\t<tr><td>1</td><td>3 </td><td>0.12771624</td><td>195</td><td>1_3 </td></tr>\n",
       "\t<tr><td>2</td><td>5 </td><td>0.12121668</td><td>112</td><td>2_5 </td></tr>\n",
       "\t<tr><td>2</td><td>3 </td><td>0.12066745</td><td>135</td><td>2_3 </td></tr>\n",
       "\t<tr><td>1</td><td>8 </td><td>0.11812886</td><td>178</td><td>1_8 </td></tr>\n",
       "\t<tr><td>3</td><td>3 </td><td>0.11375417</td><td>144</td><td>3_3 </td></tr>\n",
       "\t<tr><td>2</td><td>7 </td><td>0.11100981</td><td>104</td><td>2_7 </td></tr>\n",
       "\t<tr><td>2</td><td>4 </td><td>0.10769488</td><td>117</td><td>2_4 </td></tr>\n",
       "\t<tr><td>1</td><td>7 </td><td>0.10532187</td><td>164</td><td>1_7 </td></tr>\n",
       "\t<tr><td>0</td><td>3 </td><td>0.10373732</td><td>149</td><td>0_3 </td></tr>\n",
       "\t<tr><td>1</td><td>10</td><td>0.09917456</td><td>148</td><td>1_10</td></tr>\n",
       "\t<tr><td>1</td><td>11</td><td>0.08475292</td><td>132</td><td>1_11</td></tr>\n",
       "\t<tr><td>2</td><td>6 </td><td>0.08253318</td><td>100</td><td>2_6 </td></tr>\n",
       "\t<tr><td>1</td><td>9 </td><td>0.08045041</td><td>129</td><td>1_9 </td></tr>\n",
       "\t<tr><td>⋮</td><td>⋮</td><td>⋮</td><td>⋮</td><td>⋮</td></tr>\n",
       "\t<tr><td>3</td><td>38</td><td>0.0021350488</td><td>3</td><td>3_38</td></tr>\n",
       "\t<tr><td>3</td><td>41</td><td>0.0021310602</td><td>4</td><td>3_41</td></tr>\n",
       "\t<tr><td>0</td><td>36</td><td>0.0021186441</td><td>5</td><td>0_36</td></tr>\n",
       "\t<tr><td>2</td><td>48</td><td>0.0020436043</td><td>2</td><td>2_48</td></tr>\n",
       "\t<tr><td>0</td><td>55</td><td>0.0017301038</td><td>2</td><td>0_55</td></tr>\n",
       "\t<tr><td>0</td><td>31</td><td>0.0017125095</td><td>3</td><td>0_31</td></tr>\n",
       "\t<tr><td>0</td><td>33</td><td>0.0017125095</td><td>3</td><td>0_33</td></tr>\n",
       "\t<tr><td>0</td><td>28</td><td>0.0016949153</td><td>4</td><td>0_28</td></tr>\n",
       "\t<tr><td>0</td><td>29</td><td>0.0016949153</td><td>4</td><td>0_29</td></tr>\n",
       "\t<tr><td>0</td><td>47</td><td>0.0016949153</td><td>4</td><td>0_47</td></tr>\n",
       "\t<tr><td>3</td><td>36</td><td>0.0016022838</td><td>2</td><td>3_36</td></tr>\n",
       "\t<tr><td>3</td><td>30</td><td>0.0015982952</td><td>3</td><td>3_30</td></tr>\n",
       "\t<tr><td>3</td><td>32</td><td>0.0015982952</td><td>3</td><td>3_32</td></tr>\n",
       "\t<tr><td>3</td><td>34</td><td>0.0015982952</td><td>3</td><td>3_34</td></tr>\n",
       "\t<tr><td>2</td><td>45</td><td>0.0013661202</td><td>2</td><td>2_45</td></tr>\n",
       "\t<tr><td>2</td><td>44</td><td>0.0013605442</td><td>1</td><td>2_44</td></tr>\n",
       "\t<tr><td>0</td><td>49</td><td>0.0012887807</td><td>2</td><td>0_49</td></tr>\n",
       "\t<tr><td>0</td><td>48</td><td>0.0012711864</td><td>3</td><td>0_48</td></tr>\n",
       "\t<tr><td>3</td><td>28</td><td>0.0010695187</td><td>1</td><td>3_28</td></tr>\n",
       "\t<tr><td>3</td><td>33</td><td>0.0010655301</td><td>2</td><td>3_33</td></tr>\n",
       "\t<tr><td>3</td><td>35</td><td>0.0010655301</td><td>2</td><td>3_35</td></tr>\n",
       "\t<tr><td>3</td><td>44</td><td>0.0010655301</td><td>2</td><td>3_44</td></tr>\n",
       "\t<tr><td>3</td><td>47</td><td>0.0010655301</td><td>2</td><td>3_47</td></tr>\n",
       "\t<tr><td>0</td><td>44</td><td>0.0008650519</td><td>1</td><td>0_44</td></tr>\n",
       "\t<tr><td>0</td><td>30</td><td>0.0008474576</td><td>2</td><td>0_30</td></tr>\n",
       "\t<tr><td>0</td><td>39</td><td>0.0008474576</td><td>2</td><td>0_39</td></tr>\n",
       "\t<tr><td>0</td><td>42</td><td>0.0008474576</td><td>2</td><td>0_42</td></tr>\n",
       "\t<tr><td>0</td><td>46</td><td>0.0008474576</td><td>2</td><td>0_46</td></tr>\n",
       "\t<tr><td>2</td><td>47</td><td>0.0006830601</td><td>1</td><td>2_47</td></tr>\n",
       "\t<tr><td>3</td><td>31</td><td>0.0005327651</td><td>1</td><td>3_31</td></tr>\n",
       "</tbody>\n",
       "</table>\n"
      ],
      "text/latex": [
       "A grouped\\_df: 174 × 5\n",
       "\\begin{tabular}{lllll}\n",
       " donor & lineage & norm.total & total & name\\\\\n",
       " <fct> & <fct> & <dbl> & <int> & <fct>\\\\\n",
       "\\hline\n",
       "\t 3 & 37 & 0.54423973 & 680 & 3\\_37\\\\\n",
       "\t 0 & 43 & 0.51712216 & 859 & 0\\_43\\\\\n",
       "\t 0 & 0  & 0.34325993 & 582 & 0\\_0 \\\\\n",
       "\t 2 & 0  & 0.33212613 & 393 & 2\\_0 \\\\\n",
       "\t 3 & 0  & 0.32404252 & 443 & 3\\_0 \\\\\n",
       "\t 3 & 1  & 0.23263257 & 349 & 3\\_1 \\\\\n",
       "\t 1 & 2  & 0.19608278 & 289 & 1\\_2 \\\\\n",
       "\t 1 & 1  & 0.19102807 & 286 & 1\\_1 \\\\\n",
       "\t 1 & 0  & 0.18311351 & 313 & 1\\_0 \\\\\n",
       "\t 1 & 4  & 0.17800062 & 268 & 1\\_4 \\\\\n",
       "\t 2 & 2  & 0.15474796 & 172 & 2\\_2 \\\\\n",
       "\t 3 & 2  & 0.15005000 & 195 & 3\\_2 \\\\\n",
       "\t 1 & 6  & 0.13721279 & 224 & 1\\_6 \\\\\n",
       "\t 0 & 2  & 0.13710633 & 234 & 0\\_2 \\\\\n",
       "\t 1 & 5  & 0.13504699 & 212 & 1\\_5 \\\\\n",
       "\t 0 & 1  & 0.13256994 & 241 & 0\\_1 \\\\\n",
       "\t 2 & 1  & 0.12968663 & 173 & 2\\_1 \\\\\n",
       "\t 1 & 3  & 0.12771624 & 195 & 1\\_3 \\\\\n",
       "\t 2 & 5  & 0.12121668 & 112 & 2\\_5 \\\\\n",
       "\t 2 & 3  & 0.12066745 & 135 & 2\\_3 \\\\\n",
       "\t 1 & 8  & 0.11812886 & 178 & 1\\_8 \\\\\n",
       "\t 3 & 3  & 0.11375417 & 144 & 3\\_3 \\\\\n",
       "\t 2 & 7  & 0.11100981 & 104 & 2\\_7 \\\\\n",
       "\t 2 & 4  & 0.10769488 & 117 & 2\\_4 \\\\\n",
       "\t 1 & 7  & 0.10532187 & 164 & 1\\_7 \\\\\n",
       "\t 0 & 3  & 0.10373732 & 149 & 0\\_3 \\\\\n",
       "\t 1 & 10 & 0.09917456 & 148 & 1\\_10\\\\\n",
       "\t 1 & 11 & 0.08475292 & 132 & 1\\_11\\\\\n",
       "\t 2 & 6  & 0.08253318 & 100 & 2\\_6 \\\\\n",
       "\t 1 & 9  & 0.08045041 & 129 & 1\\_9 \\\\\n",
       "\t ⋮ & ⋮ & ⋮ & ⋮ & ⋮\\\\\n",
       "\t 3 & 38 & 0.0021350488 & 3 & 3\\_38\\\\\n",
       "\t 3 & 41 & 0.0021310602 & 4 & 3\\_41\\\\\n",
       "\t 0 & 36 & 0.0021186441 & 5 & 0\\_36\\\\\n",
       "\t 2 & 48 & 0.0020436043 & 2 & 2\\_48\\\\\n",
       "\t 0 & 55 & 0.0017301038 & 2 & 0\\_55\\\\\n",
       "\t 0 & 31 & 0.0017125095 & 3 & 0\\_31\\\\\n",
       "\t 0 & 33 & 0.0017125095 & 3 & 0\\_33\\\\\n",
       "\t 0 & 28 & 0.0016949153 & 4 & 0\\_28\\\\\n",
       "\t 0 & 29 & 0.0016949153 & 4 & 0\\_29\\\\\n",
       "\t 0 & 47 & 0.0016949153 & 4 & 0\\_47\\\\\n",
       "\t 3 & 36 & 0.0016022838 & 2 & 3\\_36\\\\\n",
       "\t 3 & 30 & 0.0015982952 & 3 & 3\\_30\\\\\n",
       "\t 3 & 32 & 0.0015982952 & 3 & 3\\_32\\\\\n",
       "\t 3 & 34 & 0.0015982952 & 3 & 3\\_34\\\\\n",
       "\t 2 & 45 & 0.0013661202 & 2 & 2\\_45\\\\\n",
       "\t 2 & 44 & 0.0013605442 & 1 & 2\\_44\\\\\n",
       "\t 0 & 49 & 0.0012887807 & 2 & 0\\_49\\\\\n",
       "\t 0 & 48 & 0.0012711864 & 3 & 0\\_48\\\\\n",
       "\t 3 & 28 & 0.0010695187 & 1 & 3\\_28\\\\\n",
       "\t 3 & 33 & 0.0010655301 & 2 & 3\\_33\\\\\n",
       "\t 3 & 35 & 0.0010655301 & 2 & 3\\_35\\\\\n",
       "\t 3 & 44 & 0.0010655301 & 2 & 3\\_44\\\\\n",
       "\t 3 & 47 & 0.0010655301 & 2 & 3\\_47\\\\\n",
       "\t 0 & 44 & 0.0008650519 & 1 & 0\\_44\\\\\n",
       "\t 0 & 30 & 0.0008474576 & 2 & 0\\_30\\\\\n",
       "\t 0 & 39 & 0.0008474576 & 2 & 0\\_39\\\\\n",
       "\t 0 & 42 & 0.0008474576 & 2 & 0\\_42\\\\\n",
       "\t 0 & 46 & 0.0008474576 & 2 & 0\\_46\\\\\n",
       "\t 2 & 47 & 0.0006830601 & 1 & 2\\_47\\\\\n",
       "\t 3 & 31 & 0.0005327651 & 1 & 3\\_31\\\\\n",
       "\\end{tabular}\n"
      ],
      "text/markdown": [
       "\n",
       "A grouped_df: 174 × 5\n",
       "\n",
       "| donor &lt;fct&gt; | lineage &lt;fct&gt; | norm.total &lt;dbl&gt; | total &lt;int&gt; | name &lt;fct&gt; |\n",
       "|---|---|---|---|---|\n",
       "| 3 | 37 | 0.54423973 | 680 | 3_37 |\n",
       "| 0 | 43 | 0.51712216 | 859 | 0_43 |\n",
       "| 0 | 0  | 0.34325993 | 582 | 0_0  |\n",
       "| 2 | 0  | 0.33212613 | 393 | 2_0  |\n",
       "| 3 | 0  | 0.32404252 | 443 | 3_0  |\n",
       "| 3 | 1  | 0.23263257 | 349 | 3_1  |\n",
       "| 1 | 2  | 0.19608278 | 289 | 1_2  |\n",
       "| 1 | 1  | 0.19102807 | 286 | 1_1  |\n",
       "| 1 | 0  | 0.18311351 | 313 | 1_0  |\n",
       "| 1 | 4  | 0.17800062 | 268 | 1_4  |\n",
       "| 2 | 2  | 0.15474796 | 172 | 2_2  |\n",
       "| 3 | 2  | 0.15005000 | 195 | 3_2  |\n",
       "| 1 | 6  | 0.13721279 | 224 | 1_6  |\n",
       "| 0 | 2  | 0.13710633 | 234 | 0_2  |\n",
       "| 1 | 5  | 0.13504699 | 212 | 1_5  |\n",
       "| 0 | 1  | 0.13256994 | 241 | 0_1  |\n",
       "| 2 | 1  | 0.12968663 | 173 | 2_1  |\n",
       "| 1 | 3  | 0.12771624 | 195 | 1_3  |\n",
       "| 2 | 5  | 0.12121668 | 112 | 2_5  |\n",
       "| 2 | 3  | 0.12066745 | 135 | 2_3  |\n",
       "| 1 | 8  | 0.11812886 | 178 | 1_8  |\n",
       "| 3 | 3  | 0.11375417 | 144 | 3_3  |\n",
       "| 2 | 7  | 0.11100981 | 104 | 2_7  |\n",
       "| 2 | 4  | 0.10769488 | 117 | 2_4  |\n",
       "| 1 | 7  | 0.10532187 | 164 | 1_7  |\n",
       "| 0 | 3  | 0.10373732 | 149 | 0_3  |\n",
       "| 1 | 10 | 0.09917456 | 148 | 1_10 |\n",
       "| 1 | 11 | 0.08475292 | 132 | 1_11 |\n",
       "| 2 | 6  | 0.08253318 | 100 | 2_6  |\n",
       "| 1 | 9  | 0.08045041 | 129 | 1_9  |\n",
       "| ⋮ | ⋮ | ⋮ | ⋮ | ⋮ |\n",
       "| 3 | 38 | 0.0021350488 | 3 | 3_38 |\n",
       "| 3 | 41 | 0.0021310602 | 4 | 3_41 |\n",
       "| 0 | 36 | 0.0021186441 | 5 | 0_36 |\n",
       "| 2 | 48 | 0.0020436043 | 2 | 2_48 |\n",
       "| 0 | 55 | 0.0017301038 | 2 | 0_55 |\n",
       "| 0 | 31 | 0.0017125095 | 3 | 0_31 |\n",
       "| 0 | 33 | 0.0017125095 | 3 | 0_33 |\n",
       "| 0 | 28 | 0.0016949153 | 4 | 0_28 |\n",
       "| 0 | 29 | 0.0016949153 | 4 | 0_29 |\n",
       "| 0 | 47 | 0.0016949153 | 4 | 0_47 |\n",
       "| 3 | 36 | 0.0016022838 | 2 | 3_36 |\n",
       "| 3 | 30 | 0.0015982952 | 3 | 3_30 |\n",
       "| 3 | 32 | 0.0015982952 | 3 | 3_32 |\n",
       "| 3 | 34 | 0.0015982952 | 3 | 3_34 |\n",
       "| 2 | 45 | 0.0013661202 | 2 | 2_45 |\n",
       "| 2 | 44 | 0.0013605442 | 1 | 2_44 |\n",
       "| 0 | 49 | 0.0012887807 | 2 | 0_49 |\n",
       "| 0 | 48 | 0.0012711864 | 3 | 0_48 |\n",
       "| 3 | 28 | 0.0010695187 | 1 | 3_28 |\n",
       "| 3 | 33 | 0.0010655301 | 2 | 3_33 |\n",
       "| 3 | 35 | 0.0010655301 | 2 | 3_35 |\n",
       "| 3 | 44 | 0.0010655301 | 2 | 3_44 |\n",
       "| 3 | 47 | 0.0010655301 | 2 | 3_47 |\n",
       "| 0 | 44 | 0.0008650519 | 1 | 0_44 |\n",
       "| 0 | 30 | 0.0008474576 | 2 | 0_30 |\n",
       "| 0 | 39 | 0.0008474576 | 2 | 0_39 |\n",
       "| 0 | 42 | 0.0008474576 | 2 | 0_42 |\n",
       "| 0 | 46 | 0.0008474576 | 2 | 0_46 |\n",
       "| 2 | 47 | 0.0006830601 | 1 | 2_47 |\n",
       "| 3 | 31 | 0.0005327651 | 1 | 3_31 |\n",
       "\n"
      ],
      "text/plain": [
       "    donor lineage norm.total   total name\n",
       "1   3     37      0.54423973   680   3_37\n",
       "2   0     43      0.51712216   859   0_43\n",
       "3   0     0       0.34325993   582   0_0 \n",
       "4   2     0       0.33212613   393   2_0 \n",
       "5   3     0       0.32404252   443   3_0 \n",
       "6   3     1       0.23263257   349   3_1 \n",
       "7   1     2       0.19608278   289   1_2 \n",
       "8   1     1       0.19102807   286   1_1 \n",
       "9   1     0       0.18311351   313   1_0 \n",
       "10  1     4       0.17800062   268   1_4 \n",
       "11  2     2       0.15474796   172   2_2 \n",
       "12  3     2       0.15005000   195   3_2 \n",
       "13  1     6       0.13721279   224   1_6 \n",
       "14  0     2       0.13710633   234   0_2 \n",
       "15  1     5       0.13504699   212   1_5 \n",
       "16  0     1       0.13256994   241   0_1 \n",
       "17  2     1       0.12968663   173   2_1 \n",
       "18  1     3       0.12771624   195   1_3 \n",
       "19  2     5       0.12121668   112   2_5 \n",
       "20  2     3       0.12066745   135   2_3 \n",
       "21  1     8       0.11812886   178   1_8 \n",
       "22  3     3       0.11375417   144   3_3 \n",
       "23  2     7       0.11100981   104   2_7 \n",
       "24  2     4       0.10769488   117   2_4 \n",
       "25  1     7       0.10532187   164   1_7 \n",
       "26  0     3       0.10373732   149   0_3 \n",
       "27  1     10      0.09917456   148   1_10\n",
       "28  1     11      0.08475292   132   1_11\n",
       "29  2     6       0.08253318   100   2_6 \n",
       "30  1     9       0.08045041   129   1_9 \n",
       "⋮   ⋮     ⋮       ⋮            ⋮     ⋮   \n",
       "145 3     38      0.0021350488 3     3_38\n",
       "146 3     41      0.0021310602 4     3_41\n",
       "147 0     36      0.0021186441 5     0_36\n",
       "148 2     48      0.0020436043 2     2_48\n",
       "149 0     55      0.0017301038 2     0_55\n",
       "150 0     31      0.0017125095 3     0_31\n",
       "151 0     33      0.0017125095 3     0_33\n",
       "152 0     28      0.0016949153 4     0_28\n",
       "153 0     29      0.0016949153 4     0_29\n",
       "154 0     47      0.0016949153 4     0_47\n",
       "155 3     36      0.0016022838 2     3_36\n",
       "156 3     30      0.0015982952 3     3_30\n",
       "157 3     32      0.0015982952 3     3_32\n",
       "158 3     34      0.0015982952 3     3_34\n",
       "159 2     45      0.0013661202 2     2_45\n",
       "160 2     44      0.0013605442 1     2_44\n",
       "161 0     49      0.0012887807 2     0_49\n",
       "162 0     48      0.0012711864 3     0_48\n",
       "163 3     28      0.0010695187 1     3_28\n",
       "164 3     33      0.0010655301 2     3_33\n",
       "165 3     35      0.0010655301 2     3_35\n",
       "166 3     44      0.0010655301 2     3_44\n",
       "167 3     47      0.0010655301 2     3_47\n",
       "168 0     44      0.0008650519 1     0_44\n",
       "169 0     30      0.0008474576 2     0_30\n",
       "170 0     39      0.0008474576 2     0_39\n",
       "171 0     42      0.0008474576 2     0_42\n",
       "172 0     46      0.0008474576 2     0_46\n",
       "173 2     47      0.0006830601 1     2_47\n",
       "174 3     31      0.0005327651 1     3_31"
      ]
     },
     "metadata": {},
     "output_type": "display_data"
    }
   ],
   "source": [
    "clone.sizes <- counts.norm.sizes %>% \n",
    "               group_by(donor,lineage) %>% \n",
    "               summarize(norm.total=sum(norm), total=sum(size)) %>% \n",
    "               arrange(desc(norm.total)) %>% \n",
    "               mutate(name=factor(paste0(donor,\"_\", lineage)))\n",
    "\n",
    "\n",
    "clone.sizes"
   ]
  },
  {
   "cell_type": "code",
   "execution_count": 11,
   "id": "c5259eb4",
   "metadata": {
    "execution": {
     "iopub.execute_input": "2021-12-03T20:46:32.393142Z",
     "iopub.status.busy": "2021-12-03T20:46:32.390650Z",
     "iopub.status.idle": "2021-12-03T20:46:32.422794Z",
     "shell.execute_reply": "2021-12-03T20:46:32.421501Z"
    },
    "papermill": {
     "duration": 0.134667,
     "end_time": "2021-12-03T20:46:32.423025",
     "exception": false,
     "start_time": "2021-12-03T20:46:32.288358",
     "status": "completed"
    },
    "scrolled": true,
    "tags": []
   },
   "outputs": [],
   "source": [
    "clone.sizes <- clone.sizes %>% group_by(donor) %>% arrange(donor, desc(norm.total)) %>% \n",
    "                               mutate(cdf.norm=cumsum(norm.total)/2, cdf =cumsum(total),\n",
    "                                      index=1:n()) %>% \n",
    "                               ungroup %>% arrange(donor, desc(norm.total)) \n",
    "#head(clone.sizes,100)"
   ]
  },
  {
   "cell_type": "code",
   "execution_count": null,
   "id": "2817d47e",
   "metadata": {
    "papermill": {
     "duration": 0.096245,
     "end_time": "2021-12-03T20:46:32.624019",
     "exception": false,
     "start_time": "2021-12-03T20:46:32.527774",
     "status": "completed"
    },
    "tags": []
   },
   "outputs": [],
   "source": []
  },
  {
   "cell_type": "code",
   "execution_count": 12,
   "id": "fde9c568",
   "metadata": {
    "execution": {
     "iopub.execute_input": "2021-12-03T20:46:32.825656Z",
     "iopub.status.busy": "2021-12-03T20:46:32.822660Z",
     "iopub.status.idle": "2021-12-03T20:46:33.931840Z",
     "shell.execute_reply": "2021-12-03T20:46:33.932748Z"
    },
    "papermill": {
     "duration": 1.213042,
     "end_time": "2021-12-03T20:46:33.933070",
     "exception": false,
     "start_time": "2021-12-03T20:46:32.720028",
     "status": "completed"
    },
    "scrolled": true,
    "tags": []
   },
   "outputs": [
    {
     "name": "stderr",
     "output_type": "stream",
     "text": [
      "Saving 6.67 x 6.67 in image\n",
      "\n"
     ]
    },
    {
     "data": {
      "image/png": "[encoded data removed]",
      "text/plain": [
       "plot without title"
      ]
     },
     "metadata": {
      "image/png": {
       "height": 420,
       "width": 420
      }
     },
     "output_type": "display_data"
    }
   ],
   "source": [
    "p <- ggplot(data = clone.sizes, aes(index, cdf.norm)) +\n",
    "  geom_point(color = \"steelblue\", size = 1) +\n",
    "  facet_wrap(~ donor) \n",
    "\n",
    "p <- p + geom_hline(yintercept=cdf_thresh, color='green') \n",
    "ggsave(file.path(outdir, \"clones.cdf.png\"))\n",
    "p\n"
   ]
  },
  {
   "cell_type": "code",
   "execution_count": 13,
   "id": "10e0018a",
   "metadata": {
    "execution": {
     "iopub.execute_input": "2021-12-03T20:46:34.144145Z",
     "iopub.status.busy": "2021-12-03T20:46:34.141111Z",
     "iopub.status.idle": "2021-12-03T20:46:34.166118Z",
     "shell.execute_reply": "2021-12-03T20:46:34.164807Z"
    },
    "papermill": {
     "duration": 0.130778,
     "end_time": "2021-12-03T20:46:34.166302",
     "exception": false,
     "start_time": "2021-12-03T20:46:34.035524",
     "status": "completed"
    },
    "tags": []
   },
   "outputs": [
    {
     "data": {
      "text/html": [
       "0.0980413920507462"
      ],
      "text/latex": [
       "0.0980413920507462"
      ],
      "text/markdown": [
       "0.0980413920507462"
      ],
      "text/plain": [
       "[1] 0.09804139"
      ]
     },
     "metadata": {},
     "output_type": "display_data"
    },
    {
     "data": {
      "text/html": [
       "1"
      ],
      "text/latex": [
       "1"
      ],
      "text/markdown": [
       "1"
      ],
      "text/plain": [
       "[1] 1"
      ]
     },
     "metadata": {},
     "output_type": "display_data"
    }
   ],
   "source": [
    "min(clone.sizes$cdf.norm)\n",
    "max(clone.sizes$cdf.norm)"
   ]
  },
  {
   "cell_type": "code",
   "execution_count": 14,
   "id": "d172f01e",
   "metadata": {
    "execution": {
     "iopub.execute_input": "2021-12-03T20:46:34.382313Z",
     "iopub.status.busy": "2021-12-03T20:46:34.379080Z",
     "iopub.status.idle": "2021-12-03T20:46:34.472024Z",
     "shell.execute_reply": "2021-12-03T20:46:34.472837Z"
    },
    "papermill": {
     "duration": 0.202839,
     "end_time": "2021-12-03T20:46:34.473093",
     "exception": false,
     "start_time": "2021-12-03T20:46:34.270254",
     "status": "completed"
    },
    "scrolled": true,
    "tags": []
   },
   "outputs": [
    {
     "data": {
      "text/html": [
       "<table class=\"dataframe\">\n",
       "<caption>A tibble: 174 × 8</caption>\n",
       "<thead>\n",
       "\t<tr><th scope=col>donor</th><th scope=col>lineage</th><th scope=col>norm.total</th><th scope=col>total</th><th scope=col>name</th><th scope=col>cdf.norm</th><th scope=col>cdf</th><th scope=col>index</th></tr>\n",
       "\t<tr><th scope=col>&lt;fct&gt;</th><th scope=col>&lt;fct&gt;</th><th scope=col>&lt;dbl&gt;</th><th scope=col>&lt;int&gt;</th><th scope=col>&lt;fct&gt;</th><th scope=col>&lt;dbl&gt;</th><th scope=col>&lt;int&gt;</th><th scope=col>&lt;int&gt;</th></tr>\n",
       "</thead>\n",
       "<tbody>\n",
       "\t<tr><td>0</td><td>43</td><td>0.517122163</td><td>859</td><td>0_43</td><td>0.2585611</td><td> 859</td><td> 1</td></tr>\n",
       "\t<tr><td>0</td><td>0 </td><td>0.343259926</td><td>582</td><td>0_0 </td><td>0.4301910</td><td>1441</td><td> 2</td></tr>\n",
       "\t<tr><td>0</td><td>2 </td><td>0.137106328</td><td>234</td><td>0_2 </td><td>0.4987442</td><td>1675</td><td> 3</td></tr>\n",
       "\t<tr><td>0</td><td>1 </td><td>0.132569937</td><td>241</td><td>0_1 </td><td>0.5650292</td><td>1916</td><td> 4</td></tr>\n",
       "\t<tr><td>0</td><td>3 </td><td>0.103737317</td><td>149</td><td>0_3 </td><td>0.6168978</td><td>2065</td><td> 5</td></tr>\n",
       "\t<tr><td>0</td><td>4 </td><td>0.076498446</td><td>142</td><td>0_4 </td><td>0.6551471</td><td>2207</td><td> 6</td></tr>\n",
       "\t<tr><td>0</td><td>50</td><td>0.066645651</td><td>100</td><td>0_50</td><td>0.6884699</td><td>2307</td><td> 7</td></tr>\n",
       "\t<tr><td>0</td><td>5 </td><td>0.065570934</td><td>136</td><td>0_5 </td><td>0.7212554</td><td>2443</td><td> 8</td></tr>\n",
       "\t<tr><td>0</td><td>6 </td><td>0.060996422</td><td> 95</td><td>0_6 </td><td>0.7517536</td><td>2538</td><td> 9</td></tr>\n",
       "\t<tr><td>0</td><td>54</td><td>0.057342678</td><td>102</td><td>0_54</td><td>0.7804249</td><td>2640</td><td>10</td></tr>\n",
       "\t<tr><td>0</td><td>38</td><td>0.043324438</td><td> 71</td><td>0_38</td><td>0.8020871</td><td>2711</td><td>11</td></tr>\n",
       "\t<tr><td>0</td><td>7 </td><td>0.042584013</td><td> 88</td><td>0_7 </td><td>0.8233791</td><td>2799</td><td>12</td></tr>\n",
       "\t<tr><td>0</td><td>37</td><td>0.042125095</td><td> 89</td><td>0_37</td><td>0.8444417</td><td>2888</td><td>13</td></tr>\n",
       "\t<tr><td>0</td><td>8 </td><td>0.036157703</td><td> 77</td><td>0_8 </td><td>0.8625205</td><td>2965</td><td>14</td></tr>\n",
       "\t<tr><td>0</td><td>10</td><td>0.027683127</td><td> 57</td><td>0_10</td><td>0.8763621</td><td>3022</td><td>15</td></tr>\n",
       "\t<tr><td>0</td><td>11</td><td>0.024275702</td><td> 50</td><td>0_11</td><td>0.8884999</td><td>3072</td><td>16</td></tr>\n",
       "\t<tr><td>0</td><td>40</td><td>0.023939945</td><td> 44</td><td>0_40</td><td>0.9004699</td><td>3116</td><td>17</td></tr>\n",
       "\t<tr><td>0</td><td>9 </td><td>0.019614685</td><td> 39</td><td>0_9 </td><td>0.9102773</td><td>3155</td><td>18</td></tr>\n",
       "\t<tr><td>0</td><td>12</td><td>0.017866987</td><td> 38</td><td>0_12</td><td>0.9192108</td><td>3193</td><td>19</td></tr>\n",
       "\t<tr><td>0</td><td>13</td><td>0.013664888</td><td> 26</td><td>0_13</td><td>0.9260432</td><td>3219</td><td>20</td></tr>\n",
       "\t<tr><td>0</td><td>16</td><td>0.012799836</td><td> 25</td><td>0_16</td><td>0.9324431</td><td>3244</td><td>21</td></tr>\n",
       "\t<tr><td>0</td><td>14</td><td>0.012323324</td><td> 27</td><td>0_14</td><td>0.9386048</td><td>3271</td><td>22</td></tr>\n",
       "\t<tr><td>0</td><td>41</td><td>0.011934784</td><td> 24</td><td>0_41</td><td>0.9445722</td><td>3295</td><td>23</td></tr>\n",
       "\t<tr><td>0</td><td>15</td><td>0.011899595</td><td> 26</td><td>0_15</td><td>0.9505220</td><td>3321</td><td>24</td></tr>\n",
       "\t<tr><td>0</td><td>17</td><td>0.009339628</td><td> 21</td><td>0_17</td><td>0.9551918</td><td>3342</td><td>25</td></tr>\n",
       "\t<tr><td>0</td><td>20</td><td>0.006391121</td><td> 13</td><td>0_20</td><td>0.9583873</td><td>3355</td><td>26</td></tr>\n",
       "\t<tr><td>0</td><td>19</td><td>0.005949798</td><td> 13</td><td>0_19</td><td>0.9613622</td><td>3368</td><td>27</td></tr>\n",
       "\t<tr><td>0</td><td>32</td><td>0.005578852</td><td>  9</td><td>0_32</td><td>0.9641517</td><td>3377</td><td>28</td></tr>\n",
       "\t<tr><td>0</td><td>21</td><td>0.005543663</td><td> 11</td><td>0_21</td><td>0.9669235</td><td>3388</td><td>29</td></tr>\n",
       "\t<tr><td>0</td><td>18</td><td>0.005155123</td><td>  8</td><td>0_18</td><td>0.9695011</td><td>3396</td><td>30</td></tr>\n",
       "\t<tr><td>⋮</td><td>⋮</td><td>⋮</td><td>⋮</td><td>⋮</td><td>⋮</td><td>⋮</td><td>⋮</td></tr>\n",
       "\t<tr><td>3</td><td>15</td><td>0.0159949174</td><td>27</td><td>3_15</td><td>0.9351913</td><td>2608</td><td>21</td></tr>\n",
       "\t<tr><td>3</td><td>42</td><td>0.0154741182</td><td>23</td><td>3_42</td><td>0.9429283</td><td>2631</td><td>22</td></tr>\n",
       "\t<tr><td>3</td><td>18</td><td>0.0138838002</td><td>18</td><td>3_18</td><td>0.9498702</td><td>2649</td><td>23</td></tr>\n",
       "\t<tr><td>3</td><td>43</td><td>0.0122615734</td><td>21</td><td>3_43</td><td>0.9560010</td><td>2670</td><td>24</td></tr>\n",
       "\t<tr><td>3</td><td>17</td><td>0.0112040205</td><td>17</td><td>3_17</td><td>0.9616030</td><td>2687</td><td>25</td></tr>\n",
       "\t<tr><td>3</td><td>19</td><td>0.0090649831</td><td>15</td><td>3_19</td><td>0.9661355</td><td>2702</td><td>26</td></tr>\n",
       "\t<tr><td>3</td><td>49</td><td>0.0085401953</td><td>12</td><td>3_49</td><td>0.9704056</td><td>2714</td><td>27</td></tr>\n",
       "\t<tr><td>3</td><td>46</td><td>0.0069379115</td><td>10</td><td>3_46</td><td>0.9738746</td><td>2724</td><td>28</td></tr>\n",
       "\t<tr><td>3</td><td>45</td><td>0.0053356277</td><td> 8</td><td>3_45</td><td>0.9765424</td><td>2732</td><td>29</td></tr>\n",
       "\t<tr><td>3</td><td>27</td><td>0.0047948855</td><td> 9</td><td>3_27</td><td>0.9789398</td><td>2741</td><td>30</td></tr>\n",
       "\t<tr><td>3</td><td>21</td><td>0.0042661090</td><td> 7</td><td>3_21</td><td>0.9810729</td><td>2748</td><td>31</td></tr>\n",
       "\t<tr><td>3</td><td>23</td><td>0.0042621204</td><td> 8</td><td>3_23</td><td>0.9832039</td><td>2756</td><td>32</td></tr>\n",
       "\t<tr><td>3</td><td>20</td><td>0.0037333440</td><td> 6</td><td>3_20</td><td>0.9850706</td><td>2762</td><td>33</td></tr>\n",
       "\t<tr><td>3</td><td>40</td><td>0.0031965903</td><td> 6</td><td>3_40</td><td>0.9866689</td><td>2768</td><td>34</td></tr>\n",
       "\t<tr><td>3</td><td>29</td><td>0.0026678139</td><td> 4</td><td>3_29</td><td>0.9880028</td><td>2772</td><td>35</td></tr>\n",
       "\t<tr><td>3</td><td>39</td><td>0.0026678139</td><td> 4</td><td>3_39</td><td>0.9893367</td><td>2776</td><td>36</td></tr>\n",
       "\t<tr><td>3</td><td>22</td><td>0.0026638253</td><td> 5</td><td>3_22</td><td>0.9906686</td><td>2781</td><td>37</td></tr>\n",
       "\t<tr><td>3</td><td>24</td><td>0.0021350488</td><td> 3</td><td>3_24</td><td>0.9917362</td><td>2784</td><td>38</td></tr>\n",
       "\t<tr><td>3</td><td>38</td><td>0.0021350488</td><td> 3</td><td>3_38</td><td>0.9928037</td><td>2787</td><td>39</td></tr>\n",
       "\t<tr><td>3</td><td>41</td><td>0.0021310602</td><td> 4</td><td>3_41</td><td>0.9938692</td><td>2791</td><td>40</td></tr>\n",
       "\t<tr><td>3</td><td>36</td><td>0.0016022838</td><td> 2</td><td>3_36</td><td>0.9946704</td><td>2793</td><td>41</td></tr>\n",
       "\t<tr><td>3</td><td>30</td><td>0.0015982952</td><td> 3</td><td>3_30</td><td>0.9954695</td><td>2796</td><td>42</td></tr>\n",
       "\t<tr><td>3</td><td>32</td><td>0.0015982952</td><td> 3</td><td>3_32</td><td>0.9962687</td><td>2799</td><td>43</td></tr>\n",
       "\t<tr><td>3</td><td>34</td><td>0.0015982952</td><td> 3</td><td>3_34</td><td>0.9970678</td><td>2802</td><td>44</td></tr>\n",
       "\t<tr><td>3</td><td>28</td><td>0.0010695187</td><td> 1</td><td>3_28</td><td>0.9976026</td><td>2803</td><td>45</td></tr>\n",
       "\t<tr><td>3</td><td>33</td><td>0.0010655301</td><td> 2</td><td>3_33</td><td>0.9981353</td><td>2805</td><td>46</td></tr>\n",
       "\t<tr><td>3</td><td>35</td><td>0.0010655301</td><td> 2</td><td>3_35</td><td>0.9986681</td><td>2807</td><td>47</td></tr>\n",
       "\t<tr><td>3</td><td>44</td><td>0.0010655301</td><td> 2</td><td>3_44</td><td>0.9992009</td><td>2809</td><td>48</td></tr>\n",
       "\t<tr><td>3</td><td>47</td><td>0.0010655301</td><td> 2</td><td>3_47</td><td>0.9997336</td><td>2811</td><td>49</td></tr>\n",
       "\t<tr><td>3</td><td>31</td><td>0.0005327651</td><td> 1</td><td>3_31</td><td>1.0000000</td><td>2812</td><td>50</td></tr>\n",
       "</tbody>\n",
       "</table>\n"
      ],
      "text/latex": [
       "A tibble: 174 × 8\n",
       "\\begin{tabular}{llllllll}\n",
       " donor & lineage & norm.total & total & name & cdf.norm & cdf & index\\\\\n",
       " <fct> & <fct> & <dbl> & <int> & <fct> & <dbl> & <int> & <int>\\\\\n",
       "\\hline\n",
       "\t 0 & 43 & 0.517122163 & 859 & 0\\_43 & 0.2585611 &  859 &  1\\\\\n",
       "\t 0 & 0  & 0.343259926 & 582 & 0\\_0  & 0.4301910 & 1441 &  2\\\\\n",
       "\t 0 & 2  & 0.137106328 & 234 & 0\\_2  & 0.4987442 & 1675 &  3\\\\\n",
       "\t 0 & 1  & 0.132569937 & 241 & 0\\_1  & 0.5650292 & 1916 &  4\\\\\n",
       "\t 0 & 3  & 0.103737317 & 149 & 0\\_3  & 0.6168978 & 2065 &  5\\\\\n",
       "\t 0 & 4  & 0.076498446 & 142 & 0\\_4  & 0.6551471 & 2207 &  6\\\\\n",
       "\t 0 & 50 & 0.066645651 & 100 & 0\\_50 & 0.6884699 & 2307 &  7\\\\\n",
       "\t 0 & 5  & 0.065570934 & 136 & 0\\_5  & 0.7212554 & 2443 &  8\\\\\n",
       "\t 0 & 6  & 0.060996422 &  95 & 0\\_6  & 0.7517536 & 2538 &  9\\\\\n",
       "\t 0 & 54 & 0.057342678 & 102 & 0\\_54 & 0.7804249 & 2640 & 10\\\\\n",
       "\t 0 & 38 & 0.043324438 &  71 & 0\\_38 & 0.8020871 & 2711 & 11\\\\\n",
       "\t 0 & 7  & 0.042584013 &  88 & 0\\_7  & 0.8233791 & 2799 & 12\\\\\n",
       "\t 0 & 37 & 0.042125095 &  89 & 0\\_37 & 0.8444417 & 2888 & 13\\\\\n",
       "\t 0 & 8  & 0.036157703 &  77 & 0\\_8  & 0.8625205 & 2965 & 14\\\\\n",
       "\t 0 & 10 & 0.027683127 &  57 & 0\\_10 & 0.8763621 & 3022 & 15\\\\\n",
       "\t 0 & 11 & 0.024275702 &  50 & 0\\_11 & 0.8884999 & 3072 & 16\\\\\n",
       "\t 0 & 40 & 0.023939945 &  44 & 0\\_40 & 0.9004699 & 3116 & 17\\\\\n",
       "\t 0 & 9  & 0.019614685 &  39 & 0\\_9  & 0.9102773 & 3155 & 18\\\\\n",
       "\t 0 & 12 & 0.017866987 &  38 & 0\\_12 & 0.9192108 & 3193 & 19\\\\\n",
       "\t 0 & 13 & 0.013664888 &  26 & 0\\_13 & 0.9260432 & 3219 & 20\\\\\n",
       "\t 0 & 16 & 0.012799836 &  25 & 0\\_16 & 0.9324431 & 3244 & 21\\\\\n",
       "\t 0 & 14 & 0.012323324 &  27 & 0\\_14 & 0.9386048 & 3271 & 22\\\\\n",
       "\t 0 & 41 & 0.011934784 &  24 & 0\\_41 & 0.9445722 & 3295 & 23\\\\\n",
       "\t 0 & 15 & 0.011899595 &  26 & 0\\_15 & 0.9505220 & 3321 & 24\\\\\n",
       "\t 0 & 17 & 0.009339628 &  21 & 0\\_17 & 0.9551918 & 3342 & 25\\\\\n",
       "\t 0 & 20 & 0.006391121 &  13 & 0\\_20 & 0.9583873 & 3355 & 26\\\\\n",
       "\t 0 & 19 & 0.005949798 &  13 & 0\\_19 & 0.9613622 & 3368 & 27\\\\\n",
       "\t 0 & 32 & 0.005578852 &   9 & 0\\_32 & 0.9641517 & 3377 & 28\\\\\n",
       "\t 0 & 21 & 0.005543663 &  11 & 0\\_21 & 0.9669235 & 3388 & 29\\\\\n",
       "\t 0 & 18 & 0.005155123 &   8 & 0\\_18 & 0.9695011 & 3396 & 30\\\\\n",
       "\t ⋮ & ⋮ & ⋮ & ⋮ & ⋮ & ⋮ & ⋮ & ⋮\\\\\n",
       "\t 3 & 15 & 0.0159949174 & 27 & 3\\_15 & 0.9351913 & 2608 & 21\\\\\n",
       "\t 3 & 42 & 0.0154741182 & 23 & 3\\_42 & 0.9429283 & 2631 & 22\\\\\n",
       "\t 3 & 18 & 0.0138838002 & 18 & 3\\_18 & 0.9498702 & 2649 & 23\\\\\n",
       "\t 3 & 43 & 0.0122615734 & 21 & 3\\_43 & 0.9560010 & 2670 & 24\\\\\n",
       "\t 3 & 17 & 0.0112040205 & 17 & 3\\_17 & 0.9616030 & 2687 & 25\\\\\n",
       "\t 3 & 19 & 0.0090649831 & 15 & 3\\_19 & 0.9661355 & 2702 & 26\\\\\n",
       "\t 3 & 49 & 0.0085401953 & 12 & 3\\_49 & 0.9704056 & 2714 & 27\\\\\n",
       "\t 3 & 46 & 0.0069379115 & 10 & 3\\_46 & 0.9738746 & 2724 & 28\\\\\n",
       "\t 3 & 45 & 0.0053356277 &  8 & 3\\_45 & 0.9765424 & 2732 & 29\\\\\n",
       "\t 3 & 27 & 0.0047948855 &  9 & 3\\_27 & 0.9789398 & 2741 & 30\\\\\n",
       "\t 3 & 21 & 0.0042661090 &  7 & 3\\_21 & 0.9810729 & 2748 & 31\\\\\n",
       "\t 3 & 23 & 0.0042621204 &  8 & 3\\_23 & 0.9832039 & 2756 & 32\\\\\n",
       "\t 3 & 20 & 0.0037333440 &  6 & 3\\_20 & 0.9850706 & 2762 & 33\\\\\n",
       "\t 3 & 40 & 0.0031965903 &  6 & 3\\_40 & 0.9866689 & 2768 & 34\\\\\n",
       "\t 3 & 29 & 0.0026678139 &  4 & 3\\_29 & 0.9880028 & 2772 & 35\\\\\n",
       "\t 3 & 39 & 0.0026678139 &  4 & 3\\_39 & 0.9893367 & 2776 & 36\\\\\n",
       "\t 3 & 22 & 0.0026638253 &  5 & 3\\_22 & 0.9906686 & 2781 & 37\\\\\n",
       "\t 3 & 24 & 0.0021350488 &  3 & 3\\_24 & 0.9917362 & 2784 & 38\\\\\n",
       "\t 3 & 38 & 0.0021350488 &  3 & 3\\_38 & 0.9928037 & 2787 & 39\\\\\n",
       "\t 3 & 41 & 0.0021310602 &  4 & 3\\_41 & 0.9938692 & 2791 & 40\\\\\n",
       "\t 3 & 36 & 0.0016022838 &  2 & 3\\_36 & 0.9946704 & 2793 & 41\\\\\n",
       "\t 3 & 30 & 0.0015982952 &  3 & 3\\_30 & 0.9954695 & 2796 & 42\\\\\n",
       "\t 3 & 32 & 0.0015982952 &  3 & 3\\_32 & 0.9962687 & 2799 & 43\\\\\n",
       "\t 3 & 34 & 0.0015982952 &  3 & 3\\_34 & 0.9970678 & 2802 & 44\\\\\n",
       "\t 3 & 28 & 0.0010695187 &  1 & 3\\_28 & 0.9976026 & 2803 & 45\\\\\n",
       "\t 3 & 33 & 0.0010655301 &  2 & 3\\_33 & 0.9981353 & 2805 & 46\\\\\n",
       "\t 3 & 35 & 0.0010655301 &  2 & 3\\_35 & 0.9986681 & 2807 & 47\\\\\n",
       "\t 3 & 44 & 0.0010655301 &  2 & 3\\_44 & 0.9992009 & 2809 & 48\\\\\n",
       "\t 3 & 47 & 0.0010655301 &  2 & 3\\_47 & 0.9997336 & 2811 & 49\\\\\n",
       "\t 3 & 31 & 0.0005327651 &  1 & 3\\_31 & 1.0000000 & 2812 & 50\\\\\n",
       "\\end{tabular}\n"
      ],
      "text/markdown": [
       "\n",
       "A tibble: 174 × 8\n",
       "\n",
       "| donor &lt;fct&gt; | lineage &lt;fct&gt; | norm.total &lt;dbl&gt; | total &lt;int&gt; | name &lt;fct&gt; | cdf.norm &lt;dbl&gt; | cdf &lt;int&gt; | index &lt;int&gt; |\n",
       "|---|---|---|---|---|---|---|---|\n",
       "| 0 | 43 | 0.517122163 | 859 | 0_43 | 0.2585611 |  859 |  1 |\n",
       "| 0 | 0  | 0.343259926 | 582 | 0_0  | 0.4301910 | 1441 |  2 |\n",
       "| 0 | 2  | 0.137106328 | 234 | 0_2  | 0.4987442 | 1675 |  3 |\n",
       "| 0 | 1  | 0.132569937 | 241 | 0_1  | 0.5650292 | 1916 |  4 |\n",
       "| 0 | 3  | 0.103737317 | 149 | 0_3  | 0.6168978 | 2065 |  5 |\n",
       "| 0 | 4  | 0.076498446 | 142 | 0_4  | 0.6551471 | 2207 |  6 |\n",
       "| 0 | 50 | 0.066645651 | 100 | 0_50 | 0.6884699 | 2307 |  7 |\n",
       "| 0 | 5  | 0.065570934 | 136 | 0_5  | 0.7212554 | 2443 |  8 |\n",
       "| 0 | 6  | 0.060996422 |  95 | 0_6  | 0.7517536 | 2538 |  9 |\n",
       "| 0 | 54 | 0.057342678 | 102 | 0_54 | 0.7804249 | 2640 | 10 |\n",
       "| 0 | 38 | 0.043324438 |  71 | 0_38 | 0.8020871 | 2711 | 11 |\n",
       "| 0 | 7  | 0.042584013 |  88 | 0_7  | 0.8233791 | 2799 | 12 |\n",
       "| 0 | 37 | 0.042125095 |  89 | 0_37 | 0.8444417 | 2888 | 13 |\n",
       "| 0 | 8  | 0.036157703 |  77 | 0_8  | 0.8625205 | 2965 | 14 |\n",
       "| 0 | 10 | 0.027683127 |  57 | 0_10 | 0.8763621 | 3022 | 15 |\n",
       "| 0 | 11 | 0.024275702 |  50 | 0_11 | 0.8884999 | 3072 | 16 |\n",
       "| 0 | 40 | 0.023939945 |  44 | 0_40 | 0.9004699 | 3116 | 17 |\n",
       "| 0 | 9  | 0.019614685 |  39 | 0_9  | 0.9102773 | 3155 | 18 |\n",
       "| 0 | 12 | 0.017866987 |  38 | 0_12 | 0.9192108 | 3193 | 19 |\n",
       "| 0 | 13 | 0.013664888 |  26 | 0_13 | 0.9260432 | 3219 | 20 |\n",
       "| 0 | 16 | 0.012799836 |  25 | 0_16 | 0.9324431 | 3244 | 21 |\n",
       "| 0 | 14 | 0.012323324 |  27 | 0_14 | 0.9386048 | 3271 | 22 |\n",
       "| 0 | 41 | 0.011934784 |  24 | 0_41 | 0.9445722 | 3295 | 23 |\n",
       "| 0 | 15 | 0.011899595 |  26 | 0_15 | 0.9505220 | 3321 | 24 |\n",
       "| 0 | 17 | 0.009339628 |  21 | 0_17 | 0.9551918 | 3342 | 25 |\n",
       "| 0 | 20 | 0.006391121 |  13 | 0_20 | 0.9583873 | 3355 | 26 |\n",
       "| 0 | 19 | 0.005949798 |  13 | 0_19 | 0.9613622 | 3368 | 27 |\n",
       "| 0 | 32 | 0.005578852 |   9 | 0_32 | 0.9641517 | 3377 | 28 |\n",
       "| 0 | 21 | 0.005543663 |  11 | 0_21 | 0.9669235 | 3388 | 29 |\n",
       "| 0 | 18 | 0.005155123 |   8 | 0_18 | 0.9695011 | 3396 | 30 |\n",
       "| ⋮ | ⋮ | ⋮ | ⋮ | ⋮ | ⋮ | ⋮ | ⋮ |\n",
       "| 3 | 15 | 0.0159949174 | 27 | 3_15 | 0.9351913 | 2608 | 21 |\n",
       "| 3 | 42 | 0.0154741182 | 23 | 3_42 | 0.9429283 | 2631 | 22 |\n",
       "| 3 | 18 | 0.0138838002 | 18 | 3_18 | 0.9498702 | 2649 | 23 |\n",
       "| 3 | 43 | 0.0122615734 | 21 | 3_43 | 0.9560010 | 2670 | 24 |\n",
       "| 3 | 17 | 0.0112040205 | 17 | 3_17 | 0.9616030 | 2687 | 25 |\n",
       "| 3 | 19 | 0.0090649831 | 15 | 3_19 | 0.9661355 | 2702 | 26 |\n",
       "| 3 | 49 | 0.0085401953 | 12 | 3_49 | 0.9704056 | 2714 | 27 |\n",
       "| 3 | 46 | 0.0069379115 | 10 | 3_46 | 0.9738746 | 2724 | 28 |\n",
       "| 3 | 45 | 0.0053356277 |  8 | 3_45 | 0.9765424 | 2732 | 29 |\n",
       "| 3 | 27 | 0.0047948855 |  9 | 3_27 | 0.9789398 | 2741 | 30 |\n",
       "| 3 | 21 | 0.0042661090 |  7 | 3_21 | 0.9810729 | 2748 | 31 |\n",
       "| 3 | 23 | 0.0042621204 |  8 | 3_23 | 0.9832039 | 2756 | 32 |\n",
       "| 3 | 20 | 0.0037333440 |  6 | 3_20 | 0.9850706 | 2762 | 33 |\n",
       "| 3 | 40 | 0.0031965903 |  6 | 3_40 | 0.9866689 | 2768 | 34 |\n",
       "| 3 | 29 | 0.0026678139 |  4 | 3_29 | 0.9880028 | 2772 | 35 |\n",
       "| 3 | 39 | 0.0026678139 |  4 | 3_39 | 0.9893367 | 2776 | 36 |\n",
       "| 3 | 22 | 0.0026638253 |  5 | 3_22 | 0.9906686 | 2781 | 37 |\n",
       "| 3 | 24 | 0.0021350488 |  3 | 3_24 | 0.9917362 | 2784 | 38 |\n",
       "| 3 | 38 | 0.0021350488 |  3 | 3_38 | 0.9928037 | 2787 | 39 |\n",
       "| 3 | 41 | 0.0021310602 |  4 | 3_41 | 0.9938692 | 2791 | 40 |\n",
       "| 3 | 36 | 0.0016022838 |  2 | 3_36 | 0.9946704 | 2793 | 41 |\n",
       "| 3 | 30 | 0.0015982952 |  3 | 3_30 | 0.9954695 | 2796 | 42 |\n",
       "| 3 | 32 | 0.0015982952 |  3 | 3_32 | 0.9962687 | 2799 | 43 |\n",
       "| 3 | 34 | 0.0015982952 |  3 | 3_34 | 0.9970678 | 2802 | 44 |\n",
       "| 3 | 28 | 0.0010695187 |  1 | 3_28 | 0.9976026 | 2803 | 45 |\n",
       "| 3 | 33 | 0.0010655301 |  2 | 3_33 | 0.9981353 | 2805 | 46 |\n",
       "| 3 | 35 | 0.0010655301 |  2 | 3_35 | 0.9986681 | 2807 | 47 |\n",
       "| 3 | 44 | 0.0010655301 |  2 | 3_44 | 0.9992009 | 2809 | 48 |\n",
       "| 3 | 47 | 0.0010655301 |  2 | 3_47 | 0.9997336 | 2811 | 49 |\n",
       "| 3 | 31 | 0.0005327651 |  1 | 3_31 | 1.0000000 | 2812 | 50 |\n",
       "\n"
      ],
      "text/plain": [
       "    donor lineage norm.total   total name cdf.norm  cdf  index\n",
       "1   0     43      0.517122163  859   0_43 0.2585611  859  1   \n",
       "2   0     0       0.343259926  582   0_0  0.4301910 1441  2   \n",
       "3   0     2       0.137106328  234   0_2  0.4987442 1675  3   \n",
       "4   0     1       0.132569937  241   0_1  0.5650292 1916  4   \n",
       "5   0     3       0.103737317  149   0_3  0.6168978 2065  5   \n",
       "6   0     4       0.076498446  142   0_4  0.6551471 2207  6   \n",
       "7   0     50      0.066645651  100   0_50 0.6884699 2307  7   \n",
       "8   0     5       0.065570934  136   0_5  0.7212554 2443  8   \n",
       "9   0     6       0.060996422   95   0_6  0.7517536 2538  9   \n",
       "10  0     54      0.057342678  102   0_54 0.7804249 2640 10   \n",
       "11  0     38      0.043324438   71   0_38 0.8020871 2711 11   \n",
       "12  0     7       0.042584013   88   0_7  0.8233791 2799 12   \n",
       "13  0     37      0.042125095   89   0_37 0.8444417 2888 13   \n",
       "14  0     8       0.036157703   77   0_8  0.8625205 2965 14   \n",
       "15  0     10      0.027683127   57   0_10 0.8763621 3022 15   \n",
       "16  0     11      0.024275702   50   0_11 0.8884999 3072 16   \n",
       "17  0     40      0.023939945   44   0_40 0.9004699 3116 17   \n",
       "18  0     9       0.019614685   39   0_9  0.9102773 3155 18   \n",
       "19  0     12      0.017866987   38   0_12 0.9192108 3193 19   \n",
       "20  0     13      0.013664888   26   0_13 0.9260432 3219 20   \n",
       "21  0     16      0.012799836   25   0_16 0.9324431 3244 21   \n",
       "22  0     14      0.012323324   27   0_14 0.9386048 3271 22   \n",
       "23  0     41      0.011934784   24   0_41 0.9445722 3295 23   \n",
       "24  0     15      0.011899595   26   0_15 0.9505220 3321 24   \n",
       "25  0     17      0.009339628   21   0_17 0.9551918 3342 25   \n",
       "26  0     20      0.006391121   13   0_20 0.9583873 3355 26   \n",
       "27  0     19      0.005949798   13   0_19 0.9613622 3368 27   \n",
       "28  0     32      0.005578852    9   0_32 0.9641517 3377 28   \n",
       "29  0     21      0.005543663   11   0_21 0.9669235 3388 29   \n",
       "30  0     18      0.005155123    8   0_18 0.9695011 3396 30   \n",
       "⋮   ⋮     ⋮       ⋮            ⋮     ⋮    ⋮         ⋮    ⋮    \n",
       "145 3     15      0.0159949174 27    3_15 0.9351913 2608 21   \n",
       "146 3     42      0.0154741182 23    3_42 0.9429283 2631 22   \n",
       "147 3     18      0.0138838002 18    3_18 0.9498702 2649 23   \n",
       "148 3     43      0.0122615734 21    3_43 0.9560010 2670 24   \n",
       "149 3     17      0.0112040205 17    3_17 0.9616030 2687 25   \n",
       "150 3     19      0.0090649831 15    3_19 0.9661355 2702 26   \n",
       "151 3     49      0.0085401953 12    3_49 0.9704056 2714 27   \n",
       "152 3     46      0.0069379115 10    3_46 0.9738746 2724 28   \n",
       "153 3     45      0.0053356277  8    3_45 0.9765424 2732 29   \n",
       "154 3     27      0.0047948855  9    3_27 0.9789398 2741 30   \n",
       "155 3     21      0.0042661090  7    3_21 0.9810729 2748 31   \n",
       "156 3     23      0.0042621204  8    3_23 0.9832039 2756 32   \n",
       "157 3     20      0.0037333440  6    3_20 0.9850706 2762 33   \n",
       "158 3     40      0.0031965903  6    3_40 0.9866689 2768 34   \n",
       "159 3     29      0.0026678139  4    3_29 0.9880028 2772 35   \n",
       "160 3     39      0.0026678139  4    3_39 0.9893367 2776 36   \n",
       "161 3     22      0.0026638253  5    3_22 0.9906686 2781 37   \n",
       "162 3     24      0.0021350488  3    3_24 0.9917362 2784 38   \n",
       "163 3     38      0.0021350488  3    3_38 0.9928037 2787 39   \n",
       "164 3     41      0.0021310602  4    3_41 0.9938692 2791 40   \n",
       "165 3     36      0.0016022838  2    3_36 0.9946704 2793 41   \n",
       "166 3     30      0.0015982952  3    3_30 0.9954695 2796 42   \n",
       "167 3     32      0.0015982952  3    3_32 0.9962687 2799 43   \n",
       "168 3     34      0.0015982952  3    3_34 0.9970678 2802 44   \n",
       "169 3     28      0.0010695187  1    3_28 0.9976026 2803 45   \n",
       "170 3     33      0.0010655301  2    3_33 0.9981353 2805 46   \n",
       "171 3     35      0.0010655301  2    3_35 0.9986681 2807 47   \n",
       "172 3     44      0.0010655301  2    3_44 0.9992009 2809 48   \n",
       "173 3     47      0.0010655301  2    3_47 0.9997336 2811 49   \n",
       "174 3     31      0.0005327651  1    3_31 1.0000000 2812 50   "
      ]
     },
     "metadata": {},
     "output_type": "display_data"
    }
   ],
   "source": [
    "clone.sizes"
   ]
  },
  {
   "cell_type": "code",
   "execution_count": 15,
   "id": "93c23bda",
   "metadata": {
    "execution": {
     "iopub.execute_input": "2021-12-03T20:46:34.755673Z",
     "iopub.status.busy": "2021-12-03T20:46:34.753067Z",
     "iopub.status.idle": "2021-12-03T20:46:34.833549Z",
     "shell.execute_reply": "2021-12-03T20:46:34.834493Z"
    },
    "papermill": {
     "duration": 0.220069,
     "end_time": "2021-12-03T20:46:34.834857",
     "exception": false,
     "start_time": "2021-12-03T20:46:34.614788",
     "status": "completed"
    },
    "scrolled": true,
    "tags": []
   },
   "outputs": [
    {
     "name": "stdout",
     "output_type": "stream",
     "text": [
      "[1] 4\n",
      "[1] \"i 1 donor 1\"\n",
      "[1] \"i 2 donor 2\"\n",
      "[1] \"i 3 donor 3\"\n",
      "[1] \"i 4 donor 4\"\n",
      "[1] \"only 1 clone. Using top 3 clones\"\n"
     ]
    },
    {
     "data": {
      "text/html": [
       "<table class=\"dataframe\">\n",
       "<caption>A tibble: 16 × 8</caption>\n",
       "<thead>\n",
       "\t<tr><th scope=col>donor</th><th scope=col>lineage</th><th scope=col>norm.total</th><th scope=col>total</th><th scope=col>name</th><th scope=col>cdf.norm</th><th scope=col>cdf</th><th scope=col>index</th></tr>\n",
       "\t<tr><th scope=col>&lt;fct&gt;</th><th scope=col>&lt;fct&gt;</th><th scope=col>&lt;dbl&gt;</th><th scope=col>&lt;int&gt;</th><th scope=col>&lt;fct&gt;</th><th scope=col>&lt;dbl&gt;</th><th scope=col>&lt;int&gt;</th><th scope=col>&lt;int&gt;</th></tr>\n",
       "</thead>\n",
       "<tbody>\n",
       "\t<tr><td>0</td><td>43</td><td>0.5171222</td><td>859</td><td>0_43</td><td>0.25856108</td><td> 859</td><td>1</td></tr>\n",
       "\t<tr><td>0</td><td>0 </td><td>0.3432599</td><td>582</td><td>0_0 </td><td>0.43019104</td><td>1441</td><td>2</td></tr>\n",
       "\t<tr><td>0</td><td>2 </td><td>0.1371063</td><td>234</td><td>0_2 </td><td>0.49874421</td><td>1675</td><td>3</td></tr>\n",
       "\t<tr><td>1</td><td>2 </td><td>0.1960828</td><td>289</td><td>1_2 </td><td>0.09804139</td><td> 289</td><td>1</td></tr>\n",
       "\t<tr><td>1</td><td>1 </td><td>0.1910281</td><td>286</td><td>1_1 </td><td>0.19355542</td><td> 575</td><td>2</td></tr>\n",
       "\t<tr><td>1</td><td>0 </td><td>0.1831135</td><td>313</td><td>1_0 </td><td>0.28511218</td><td> 888</td><td>3</td></tr>\n",
       "\t<tr><td>1</td><td>4 </td><td>0.1780006</td><td>268</td><td>1_4 </td><td>0.37411249</td><td>1156</td><td>4</td></tr>\n",
       "\t<tr><td>1</td><td>6 </td><td>0.1372128</td><td>224</td><td>1_6 </td><td>0.44271888</td><td>1380</td><td>5</td></tr>\n",
       "\t<tr><td>2</td><td>0 </td><td>0.3321261</td><td>393</td><td>2_0 </td><td>0.16606306</td><td> 393</td><td>1</td></tr>\n",
       "\t<tr><td>2</td><td>2 </td><td>0.1547480</td><td>172</td><td>2_2 </td><td>0.24343705</td><td> 565</td><td>2</td></tr>\n",
       "\t<tr><td>2</td><td>1 </td><td>0.1296866</td><td>173</td><td>2_1 </td><td>0.30828036</td><td> 738</td><td>3</td></tr>\n",
       "\t<tr><td>2</td><td>5 </td><td>0.1212167</td><td>112</td><td>2_5 </td><td>0.36888870</td><td> 850</td><td>4</td></tr>\n",
       "\t<tr><td>2</td><td>3 </td><td>0.1206674</td><td>135</td><td>2_3 </td><td>0.42922243</td><td> 985</td><td>5</td></tr>\n",
       "\t<tr><td>2</td><td>7 </td><td>0.1110098</td><td>104</td><td>2_7 </td><td>0.48472733</td><td>1089</td><td>6</td></tr>\n",
       "\t<tr><td>3</td><td>37</td><td>0.5442397</td><td>680</td><td>3_37</td><td>0.27211986</td><td> 680</td><td>1</td></tr>\n",
       "\t<tr><td>3</td><td>0 </td><td>0.3240425</td><td>443</td><td>3_0 </td><td>0.43414112</td><td>1123</td><td>2</td></tr>\n",
       "</tbody>\n",
       "</table>\n"
      ],
      "text/latex": [
       "A tibble: 16 × 8\n",
       "\\begin{tabular}{llllllll}\n",
       " donor & lineage & norm.total & total & name & cdf.norm & cdf & index\\\\\n",
       " <fct> & <fct> & <dbl> & <int> & <fct> & <dbl> & <int> & <int>\\\\\n",
       "\\hline\n",
       "\t 0 & 43 & 0.5171222 & 859 & 0\\_43 & 0.25856108 &  859 & 1\\\\\n",
       "\t 0 & 0  & 0.3432599 & 582 & 0\\_0  & 0.43019104 & 1441 & 2\\\\\n",
       "\t 0 & 2  & 0.1371063 & 234 & 0\\_2  & 0.49874421 & 1675 & 3\\\\\n",
       "\t 1 & 2  & 0.1960828 & 289 & 1\\_2  & 0.09804139 &  289 & 1\\\\\n",
       "\t 1 & 1  & 0.1910281 & 286 & 1\\_1  & 0.19355542 &  575 & 2\\\\\n",
       "\t 1 & 0  & 0.1831135 & 313 & 1\\_0  & 0.28511218 &  888 & 3\\\\\n",
       "\t 1 & 4  & 0.1780006 & 268 & 1\\_4  & 0.37411249 & 1156 & 4\\\\\n",
       "\t 1 & 6  & 0.1372128 & 224 & 1\\_6  & 0.44271888 & 1380 & 5\\\\\n",
       "\t 2 & 0  & 0.3321261 & 393 & 2\\_0  & 0.16606306 &  393 & 1\\\\\n",
       "\t 2 & 2  & 0.1547480 & 172 & 2\\_2  & 0.24343705 &  565 & 2\\\\\n",
       "\t 2 & 1  & 0.1296866 & 173 & 2\\_1  & 0.30828036 &  738 & 3\\\\\n",
       "\t 2 & 5  & 0.1212167 & 112 & 2\\_5  & 0.36888870 &  850 & 4\\\\\n",
       "\t 2 & 3  & 0.1206674 & 135 & 2\\_3  & 0.42922243 &  985 & 5\\\\\n",
       "\t 2 & 7  & 0.1110098 & 104 & 2\\_7  & 0.48472733 & 1089 & 6\\\\\n",
       "\t 3 & 37 & 0.5442397 & 680 & 3\\_37 & 0.27211986 &  680 & 1\\\\\n",
       "\t 3 & 0  & 0.3240425 & 443 & 3\\_0  & 0.43414112 & 1123 & 2\\\\\n",
       "\\end{tabular}\n"
      ],
      "text/markdown": [
       "\n",
       "A tibble: 16 × 8\n",
       "\n",
       "| donor &lt;fct&gt; | lineage &lt;fct&gt; | norm.total &lt;dbl&gt; | total &lt;int&gt; | name &lt;fct&gt; | cdf.norm &lt;dbl&gt; | cdf &lt;int&gt; | index &lt;int&gt; |\n",
       "|---|---|---|---|---|---|---|---|\n",
       "| 0 | 43 | 0.5171222 | 859 | 0_43 | 0.25856108 |  859 | 1 |\n",
       "| 0 | 0  | 0.3432599 | 582 | 0_0  | 0.43019104 | 1441 | 2 |\n",
       "| 0 | 2  | 0.1371063 | 234 | 0_2  | 0.49874421 | 1675 | 3 |\n",
       "| 1 | 2  | 0.1960828 | 289 | 1_2  | 0.09804139 |  289 | 1 |\n",
       "| 1 | 1  | 0.1910281 | 286 | 1_1  | 0.19355542 |  575 | 2 |\n",
       "| 1 | 0  | 0.1831135 | 313 | 1_0  | 0.28511218 |  888 | 3 |\n",
       "| 1 | 4  | 0.1780006 | 268 | 1_4  | 0.37411249 | 1156 | 4 |\n",
       "| 1 | 6  | 0.1372128 | 224 | 1_6  | 0.44271888 | 1380 | 5 |\n",
       "| 2 | 0  | 0.3321261 | 393 | 2_0  | 0.16606306 |  393 | 1 |\n",
       "| 2 | 2  | 0.1547480 | 172 | 2_2  | 0.24343705 |  565 | 2 |\n",
       "| 2 | 1  | 0.1296866 | 173 | 2_1  | 0.30828036 |  738 | 3 |\n",
       "| 2 | 5  | 0.1212167 | 112 | 2_5  | 0.36888870 |  850 | 4 |\n",
       "| 2 | 3  | 0.1206674 | 135 | 2_3  | 0.42922243 |  985 | 5 |\n",
       "| 2 | 7  | 0.1110098 | 104 | 2_7  | 0.48472733 | 1089 | 6 |\n",
       "| 3 | 37 | 0.5442397 | 680 | 3_37 | 0.27211986 |  680 | 1 |\n",
       "| 3 | 0  | 0.3240425 | 443 | 3_0  | 0.43414112 | 1123 | 2 |\n",
       "\n"
      ],
      "text/plain": [
       "   donor lineage norm.total total name cdf.norm   cdf  index\n",
       "1  0     43      0.5171222  859   0_43 0.25856108  859 1    \n",
       "2  0     0       0.3432599  582   0_0  0.43019104 1441 2    \n",
       "3  0     2       0.1371063  234   0_2  0.49874421 1675 3    \n",
       "4  1     2       0.1960828  289   1_2  0.09804139  289 1    \n",
       "5  1     1       0.1910281  286   1_1  0.19355542  575 2    \n",
       "6  1     0       0.1831135  313   1_0  0.28511218  888 3    \n",
       "7  1     4       0.1780006  268   1_4  0.37411249 1156 4    \n",
       "8  1     6       0.1372128  224   1_6  0.44271888 1380 5    \n",
       "9  2     0       0.3321261  393   2_0  0.16606306  393 1    \n",
       "10 2     2       0.1547480  172   2_2  0.24343705  565 2    \n",
       "11 2     1       0.1296866  173   2_1  0.30828036  738 3    \n",
       "12 2     5       0.1212167  112   2_5  0.36888870  850 4    \n",
       "13 2     3       0.1206674  135   2_3  0.42922243  985 5    \n",
       "14 2     7       0.1110098  104   2_7  0.48472733 1089 6    \n",
       "15 3     37      0.5442397  680   3_37 0.27211986  680 1    \n",
       "16 3     0       0.3240425  443   3_0  0.43414112 1123 2    "
      ]
     },
     "metadata": {},
     "output_type": "display_data"
    }
   ],
   "source": [
    "large.clones <- clone.sizes %>% filter(cdf.norm<cdf_thresh)\n",
    "large.clones <- check.if.one.clone(large.clones, clone.sizes, n_top_clones)\n",
    "#large.clones$name = factor(paste0(large.clones$donor,\"_\", large.clones$lineage))\n",
    "write.csv(large.clones, \n",
    "          file=file.path(outdir, \"large_clones.csv\"), quote=F)\n",
    "\n",
    "large.clones"
   ]
  },
  {
   "cell_type": "code",
   "execution_count": 16,
   "id": "308e6966",
   "metadata": {
    "execution": {
     "iopub.execute_input": "2021-12-03T20:46:35.111330Z",
     "iopub.status.busy": "2021-12-03T20:46:35.108472Z",
     "iopub.status.idle": "2021-12-03T20:46:35.737130Z",
     "shell.execute_reply": "2021-12-03T20:46:35.738060Z"
    },
    "papermill": {
     "duration": 0.768189,
     "end_time": "2021-12-03T20:46:35.738350",
     "exception": false,
     "start_time": "2021-12-03T20:46:34.970161",
     "status": "completed"
    },
    "tags": []
   },
   "outputs": [
    {
     "name": "stderr",
     "output_type": "stream",
     "text": [
      "Saving 6.67 x 6.67 in image\n",
      "\n"
     ]
    },
    {
     "data": {
      "image/png": "[encoded data removed]",
      "text/plain": [
       "plot without title"
      ]
     },
     "metadata": {
      "image/png": {
       "height": 420,
       "width": 420
      }
     },
     "output_type": "display_data"
    }
   ],
   "source": [
    "ggplot(data=large.clones, aes(x=index,y=total, fill = factor(donor))) + \n",
    "        geom_col(position='dodge') +\n",
    "       ggtitle(paste0(\"Top clones (\", cdf_thresh,\n",
    "                      \"fraction of clones) in each donor cell size\"))\n",
    "\n",
    "ggsave(file.path(outdir, \"topClonesSize.png\"))"
   ]
  },
  {
   "cell_type": "markdown",
   "id": "5564da63",
   "metadata": {
    "papermill": {
     "duration": 0.106825,
     "end_time": "2021-12-03T20:46:36.027208",
     "exception": false,
     "start_time": "2021-12-03T20:46:35.920383",
     "status": "completed"
    },
    "tags": []
   },
   "source": [
    "## TF DE"
   ]
  },
  {
   "cell_type": "markdown",
   "id": "b6a80a03",
   "metadata": {
    "papermill": {
     "duration": 0.110739,
     "end_time": "2021-12-03T20:46:36.247836",
     "exception": false,
     "start_time": "2021-12-03T20:46:36.137097",
     "status": "completed"
    },
    "tags": []
   },
   "source": [
    "## Filter se for cells in the large clones"
   ]
  },
  {
   "cell_type": "code",
   "execution_count": 17,
   "id": "8ec3001e",
   "metadata": {
    "execution": {
     "iopub.execute_input": "2021-12-03T20:46:36.469183Z",
     "iopub.status.busy": "2021-12-03T20:46:36.466391Z",
     "iopub.status.idle": "2021-12-03T20:46:36.499839Z",
     "shell.execute_reply": "2021-12-03T20:46:36.500675Z"
    },
    "papermill": {
     "duration": 0.146187,
     "end_time": "2021-12-03T20:46:36.500852",
     "exception": false,
     "start_time": "2021-12-03T20:46:36.354665",
     "status": "completed"
    },
    "scrolled": true,
    "tags": []
   },
   "outputs": [
    {
     "data": {
      "text/html": [
       "<table class=\"dataframe\">\n",
       "<caption>A tibble: 16 × 8</caption>\n",
       "<thead>\n",
       "\t<tr><th scope=col>donor</th><th scope=col>lineage</th><th scope=col>norm.total</th><th scope=col>total</th><th scope=col>name</th><th scope=col>cdf.norm</th><th scope=col>cdf</th><th scope=col>index</th></tr>\n",
       "\t<tr><th scope=col>&lt;fct&gt;</th><th scope=col>&lt;fct&gt;</th><th scope=col>&lt;dbl&gt;</th><th scope=col>&lt;int&gt;</th><th scope=col>&lt;fct&gt;</th><th scope=col>&lt;dbl&gt;</th><th scope=col>&lt;int&gt;</th><th scope=col>&lt;int&gt;</th></tr>\n",
       "</thead>\n",
       "<tbody>\n",
       "\t<tr><td>0</td><td>43</td><td>0.5171222</td><td>859</td><td>0_43</td><td>0.25856108</td><td> 859</td><td>1</td></tr>\n",
       "\t<tr><td>0</td><td>0 </td><td>0.3432599</td><td>582</td><td>0_0 </td><td>0.43019104</td><td>1441</td><td>2</td></tr>\n",
       "\t<tr><td>0</td><td>2 </td><td>0.1371063</td><td>234</td><td>0_2 </td><td>0.49874421</td><td>1675</td><td>3</td></tr>\n",
       "\t<tr><td>1</td><td>2 </td><td>0.1960828</td><td>289</td><td>1_2 </td><td>0.09804139</td><td> 289</td><td>1</td></tr>\n",
       "\t<tr><td>1</td><td>1 </td><td>0.1910281</td><td>286</td><td>1_1 </td><td>0.19355542</td><td> 575</td><td>2</td></tr>\n",
       "\t<tr><td>1</td><td>0 </td><td>0.1831135</td><td>313</td><td>1_0 </td><td>0.28511218</td><td> 888</td><td>3</td></tr>\n",
       "\t<tr><td>1</td><td>4 </td><td>0.1780006</td><td>268</td><td>1_4 </td><td>0.37411249</td><td>1156</td><td>4</td></tr>\n",
       "\t<tr><td>1</td><td>6 </td><td>0.1372128</td><td>224</td><td>1_6 </td><td>0.44271888</td><td>1380</td><td>5</td></tr>\n",
       "\t<tr><td>2</td><td>0 </td><td>0.3321261</td><td>393</td><td>2_0 </td><td>0.16606306</td><td> 393</td><td>1</td></tr>\n",
       "\t<tr><td>2</td><td>2 </td><td>0.1547480</td><td>172</td><td>2_2 </td><td>0.24343705</td><td> 565</td><td>2</td></tr>\n",
       "\t<tr><td>2</td><td>1 </td><td>0.1296866</td><td>173</td><td>2_1 </td><td>0.30828036</td><td> 738</td><td>3</td></tr>\n",
       "\t<tr><td>2</td><td>5 </td><td>0.1212167</td><td>112</td><td>2_5 </td><td>0.36888870</td><td> 850</td><td>4</td></tr>\n",
       "\t<tr><td>2</td><td>3 </td><td>0.1206674</td><td>135</td><td>2_3 </td><td>0.42922243</td><td> 985</td><td>5</td></tr>\n",
       "\t<tr><td>2</td><td>7 </td><td>0.1110098</td><td>104</td><td>2_7 </td><td>0.48472733</td><td>1089</td><td>6</td></tr>\n",
       "\t<tr><td>3</td><td>37</td><td>0.5442397</td><td>680</td><td>3_37</td><td>0.27211986</td><td> 680</td><td>1</td></tr>\n",
       "\t<tr><td>3</td><td>0 </td><td>0.3240425</td><td>443</td><td>3_0 </td><td>0.43414112</td><td>1123</td><td>2</td></tr>\n",
       "</tbody>\n",
       "</table>\n"
      ],
      "text/latex": [
       "A tibble: 16 × 8\n",
       "\\begin{tabular}{llllllll}\n",
       " donor & lineage & norm.total & total & name & cdf.norm & cdf & index\\\\\n",
       " <fct> & <fct> & <dbl> & <int> & <fct> & <dbl> & <int> & <int>\\\\\n",
       "\\hline\n",
       "\t 0 & 43 & 0.5171222 & 859 & 0\\_43 & 0.25856108 &  859 & 1\\\\\n",
       "\t 0 & 0  & 0.3432599 & 582 & 0\\_0  & 0.43019104 & 1441 & 2\\\\\n",
       "\t 0 & 2  & 0.1371063 & 234 & 0\\_2  & 0.49874421 & 1675 & 3\\\\\n",
       "\t 1 & 2  & 0.1960828 & 289 & 1\\_2  & 0.09804139 &  289 & 1\\\\\n",
       "\t 1 & 1  & 0.1910281 & 286 & 1\\_1  & 0.19355542 &  575 & 2\\\\\n",
       "\t 1 & 0  & 0.1831135 & 313 & 1\\_0  & 0.28511218 &  888 & 3\\\\\n",
       "\t 1 & 4  & 0.1780006 & 268 & 1\\_4  & 0.37411249 & 1156 & 4\\\\\n",
       "\t 1 & 6  & 0.1372128 & 224 & 1\\_6  & 0.44271888 & 1380 & 5\\\\\n",
       "\t 2 & 0  & 0.3321261 & 393 & 2\\_0  & 0.16606306 &  393 & 1\\\\\n",
       "\t 2 & 2  & 0.1547480 & 172 & 2\\_2  & 0.24343705 &  565 & 2\\\\\n",
       "\t 2 & 1  & 0.1296866 & 173 & 2\\_1  & 0.30828036 &  738 & 3\\\\\n",
       "\t 2 & 5  & 0.1212167 & 112 & 2\\_5  & 0.36888870 &  850 & 4\\\\\n",
       "\t 2 & 3  & 0.1206674 & 135 & 2\\_3  & 0.42922243 &  985 & 5\\\\\n",
       "\t 2 & 7  & 0.1110098 & 104 & 2\\_7  & 0.48472733 & 1089 & 6\\\\\n",
       "\t 3 & 37 & 0.5442397 & 680 & 3\\_37 & 0.27211986 &  680 & 1\\\\\n",
       "\t 3 & 0  & 0.3240425 & 443 & 3\\_0  & 0.43414112 & 1123 & 2\\\\\n",
       "\\end{tabular}\n"
      ],
      "text/markdown": [
       "\n",
       "A tibble: 16 × 8\n",
       "\n",
       "| donor &lt;fct&gt; | lineage &lt;fct&gt; | norm.total &lt;dbl&gt; | total &lt;int&gt; | name &lt;fct&gt; | cdf.norm &lt;dbl&gt; | cdf &lt;int&gt; | index &lt;int&gt; |\n",
       "|---|---|---|---|---|---|---|---|\n",
       "| 0 | 43 | 0.5171222 | 859 | 0_43 | 0.25856108 |  859 | 1 |\n",
       "| 0 | 0  | 0.3432599 | 582 | 0_0  | 0.43019104 | 1441 | 2 |\n",
       "| 0 | 2  | 0.1371063 | 234 | 0_2  | 0.49874421 | 1675 | 3 |\n",
       "| 1 | 2  | 0.1960828 | 289 | 1_2  | 0.09804139 |  289 | 1 |\n",
       "| 1 | 1  | 0.1910281 | 286 | 1_1  | 0.19355542 |  575 | 2 |\n",
       "| 1 | 0  | 0.1831135 | 313 | 1_0  | 0.28511218 |  888 | 3 |\n",
       "| 1 | 4  | 0.1780006 | 268 | 1_4  | 0.37411249 | 1156 | 4 |\n",
       "| 1 | 6  | 0.1372128 | 224 | 1_6  | 0.44271888 | 1380 | 5 |\n",
       "| 2 | 0  | 0.3321261 | 393 | 2_0  | 0.16606306 |  393 | 1 |\n",
       "| 2 | 2  | 0.1547480 | 172 | 2_2  | 0.24343705 |  565 | 2 |\n",
       "| 2 | 1  | 0.1296866 | 173 | 2_1  | 0.30828036 |  738 | 3 |\n",
       "| 2 | 5  | 0.1212167 | 112 | 2_5  | 0.36888870 |  850 | 4 |\n",
       "| 2 | 3  | 0.1206674 | 135 | 2_3  | 0.42922243 |  985 | 5 |\n",
       "| 2 | 7  | 0.1110098 | 104 | 2_7  | 0.48472733 | 1089 | 6 |\n",
       "| 3 | 37 | 0.5442397 | 680 | 3_37 | 0.27211986 |  680 | 1 |\n",
       "| 3 | 0  | 0.3240425 | 443 | 3_0  | 0.43414112 | 1123 | 2 |\n",
       "\n"
      ],
      "text/plain": [
       "   donor lineage norm.total total name cdf.norm   cdf  index\n",
       "1  0     43      0.5171222  859   0_43 0.25856108  859 1    \n",
       "2  0     0       0.3432599  582   0_0  0.43019104 1441 2    \n",
       "3  0     2       0.1371063  234   0_2  0.49874421 1675 3    \n",
       "4  1     2       0.1960828  289   1_2  0.09804139  289 1    \n",
       "5  1     1       0.1910281  286   1_1  0.19355542  575 2    \n",
       "6  1     0       0.1831135  313   1_0  0.28511218  888 3    \n",
       "7  1     4       0.1780006  268   1_4  0.37411249 1156 4    \n",
       "8  1     6       0.1372128  224   1_6  0.44271888 1380 5    \n",
       "9  2     0       0.3321261  393   2_0  0.16606306  393 1    \n",
       "10 2     2       0.1547480  172   2_2  0.24343705  565 2    \n",
       "11 2     1       0.1296866  173   2_1  0.30828036  738 3    \n",
       "12 2     5       0.1212167  112   2_5  0.36888870  850 4    \n",
       "13 2     3       0.1206674  135   2_3  0.42922243  985 5    \n",
       "14 2     7       0.1110098  104   2_7  0.48472733 1089 6    \n",
       "15 3     37      0.5442397  680   3_37 0.27211986  680 1    \n",
       "16 3     0       0.3240425  443   3_0  0.43414112 1123 2    "
      ]
     },
     "metadata": {},
     "output_type": "display_data"
    }
   ],
   "source": [
    "large.clones"
   ]
  },
  {
   "cell_type": "code",
   "execution_count": 18,
   "id": "abe394ac",
   "metadata": {
    "execution": {
     "iopub.execute_input": "2021-12-03T20:46:36.728417Z",
     "iopub.status.busy": "2021-12-03T20:46:36.726640Z",
     "iopub.status.idle": "2021-12-03T20:46:43.367576Z",
     "shell.execute_reply": "2021-12-03T20:46:43.366434Z"
    },
    "papermill": {
     "duration": 6.753628,
     "end_time": "2021-12-03T20:46:43.367799",
     "exception": false,
     "start_time": "2021-12-03T20:46:36.614171",
     "status": "completed"
    },
    "scrolled": false,
    "tags": []
   },
   "outputs": [
    {
     "data": {
      "text/plain": [
       "An object of class Seurat \n",
       "170811 features across 5267 samples within 4 assays \n",
       "Active assay: chromvarnames (633 features, 0 variable features)\n",
       " 3 other assays present: ATAC, RNA, chromvar\n",
       " 2 dimensional reductions calculated: integrated_lsi, umap"
      ]
     },
     "metadata": {},
     "output_type": "display_data"
    }
   ],
   "source": [
    "se <- subset(se, subset= name %in% factor(large.clones$name))\n",
    "se"
   ]
  },
  {
   "cell_type": "code",
   "execution_count": 19,
   "id": "cca27e11",
   "metadata": {
    "execution": {
     "iopub.execute_input": "2021-12-03T20:46:43.611606Z",
     "iopub.status.busy": "2021-12-03T20:46:43.609122Z",
     "iopub.status.idle": "2021-12-03T20:47:40.851226Z",
     "shell.execute_reply": "2021-12-03T20:47:40.849454Z"
    },
    "papermill": {
     "duration": 57.364467,
     "end_time": "2021-12-03T20:47:40.851481",
     "exception": false,
     "start_time": "2021-12-03T20:46:43.487014",
     "status": "completed"
    },
    "tags": []
   },
   "outputs": [],
   "source": [
    "saveRDS(object=se, file=file.path(outdir, \"se.clonesfilt.rds\"))    "
   ]
  },
  {
   "cell_type": "markdown",
   "id": "1aa2150f",
   "metadata": {
    "papermill": {
     "duration": 0.115733,
     "end_time": "2021-12-03T20:47:41.113420",
     "exception": false,
     "start_time": "2021-12-03T20:47:40.997687",
     "status": "completed"
    },
    "tags": []
   },
   "source": [
    "## Run DE"
   ]
  },
  {
   "cell_type": "code",
   "execution_count": 20,
   "id": "9c5b398c",
   "metadata": {
    "execution": {
     "iopub.execute_input": "2021-12-03T20:47:41.353981Z",
     "iopub.status.busy": "2021-12-03T20:47:41.349208Z",
     "iopub.status.idle": "2021-12-03T20:47:41.370995Z",
     "shell.execute_reply": "2021-12-03T20:47:41.369191Z"
    },
    "papermill": {
     "duration": 0.144261,
     "end_time": "2021-12-03T20:47:41.371201",
     "exception": false,
     "start_time": "2021-12-03T20:47:41.226940",
     "status": "completed"
    },
    "scrolled": true,
    "tags": []
   },
   "outputs": [],
   "source": [
    "# for (d in 0:(n_donors-1)){\n",
    "#     print('donor')\n",
    "#     print(d)\n",
    "#     curr.outdir <- file.path(outdir, paste0(\"donor\", d, \"_TF\"))\n",
    "#     dir.create(curr.outdir)\n",
    "#     donor.large.clones <- large.clones %>% filter(donor==d)\n",
    "#     clones.filt.ids <- sort(donor.large.clones$lineage)\n",
    "#     print('clones')\n",
    "#     print(clones.filt.ids)\n",
    "#     print(length(clones.filt.ids))\n",
    "#     se.filt <- subset(se, subset = (donor==d) & (lineage %in% donor.large.clones$lineage))\n",
    "#     Idents(se.filt) <- se.filt$lineage  \n",
    "#     print('se.filt')\n",
    "#     print(dim(se.filt[[]]))\n",
    "\n",
    "#     pairs = combn(clones.filt.ids,2)\n",
    "#     for (i in 1:dim(combn(clones.filt.ids,2))[2]){\n",
    "#         DefaultAssay(se.filt) <- \"chromvarnames\"\n",
    "#         print(pairs[,i])\n",
    "#         try({\n",
    "#             print(paste(\"clones\", i))\n",
    "#             a = pairs[1,i]\n",
    "#             b = pairs[2,i]\n",
    "#             da <- FindMarkers(\n",
    "#               object = se.filt,\n",
    "#               ident.1 = a,\n",
    "#               ident.2 = b,\n",
    "#               only.pos = FALSE,\n",
    "#               mean.fxn = rowMeans,\n",
    "#               logfc.threshold = 0.1,\n",
    "#               min.pct = min_pct,\n",
    "#               latent.vars=latent.vars,\n",
    "#               fc.name = \"avg_diff\")\n",
    "#             da$p_val_adj_BH <- stats::p.adjust(da$p_val, method = \"BH\", n = length(da$p_val))\n",
    "#             write.csv(da, \n",
    "#                       file=file.path(curr.outdir, paste0(\"clones_\",a,\"__\", b,\".DE.TF.csv\")))\n",
    "#             gally <- GGally::ggpairs(da[,c(\"p_val\", \"p_val_adj\")], aes(alpha = 0.4))\n",
    "#             ggsave(object=gally, file=file.path(curr.outdir, paste0(\"clones_\",a,\"__\", b,\".DE.TF.pvalHist.png\")))\n",
    "#             #plotDE(se, da, c, clust_outdir)\n",
    "#             # Save motifs\n",
    "#             DefaultAssay(se.filt) <- \"ATAC\"\n",
    "#             raw.ids <- names(Motifs(se.filt)@motif.names)\n",
    "#             rownames(curr.tf.da) <- sapply((curr.tf.da$X), function(x){raw.ids[match(x, Motifs(se.filt)@motif.names)]})\n",
    "#             m <- MotifPlot(\n",
    "#               object = se.filt,\n",
    "#               motifs = head(rownames(curr.tf.da)),\n",
    "#               assay = 'ATAC'\n",
    "#             )\n",
    "#             ggsave(plot=m, \n",
    "#                        file=file.path(curr.outdir, paste0(\"clones_\",a,\"__\", b,\".DE.TF.motif.top.png\")))\n",
    "\n",
    "\n",
    "\n",
    "\n",
    "#     })\n",
    "#         }\n",
    "#     }"
   ]
  },
  {
   "cell_type": "code",
   "execution_count": null,
   "id": "1692a487",
   "metadata": {
    "papermill": {
     "duration": 0.114529,
     "end_time": "2021-12-03T20:47:41.604861",
     "exception": false,
     "start_time": "2021-12-03T20:47:41.490332",
     "status": "completed"
    },
    "tags": []
   },
   "outputs": [],
   "source": []
  },
  {
   "cell_type": "code",
   "execution_count": null,
   "id": "a9884ca6",
   "metadata": {
    "papermill": {
     "duration": 0.113296,
     "end_time": "2021-12-03T20:47:41.833151",
     "exception": false,
     "start_time": "2021-12-03T20:47:41.719855",
     "status": "completed"
    },
    "tags": []
   },
   "outputs": [],
   "source": []
  }
 ],
 "metadata": {
  "celltoolbar": "Tags",
  "kernelspec": {
   "display_name": "R",
   "language": "R",
   "name": "ir"
  },
  "language_info": {
   "codemirror_mode": "r",
   "file_extension": ".r",
   "mimetype": "text/x-r-source",
   "name": "R",
   "pygments_lexer": "r",
   "version": "4.1.1"
  },
  "papermill": {
   "default_parameters": {},
   "duration": 864.589546,
   "end_time": "2021-12-03T20:47:42.370672",
   "environment_variables": {},
   "exception": null,
   "input_path": "/mnt/md0/isshamie/Projects/Mito_Trace/R_scripts/annotation_clones/setup_motifs_large_clones.ipynb",
   "output_path": "/data/Mito_Trace/output/pipeline/cd34norm/MTblacklist/data/merged/MT/cellr_True/numread_200/filters/minC10_minR50_topN0_hetT0.001_hetC10_hetCount5_bq20/mgatk/vireoIn/clones/variants_init/knn/kparam_10/concat/annotation_clones/DE_large/output.ipynb",
   "parameters": {
    "n_donors": 4,
    "outdir": "/data/Mito_Trace/output/pipeline/cd34norm/MTblacklist/data/merged/MT/cellr_True/numread_200/filters/minC10_minR50_topN0_hetT0.001_hetC10_hetCount5_bq20/mgatk/vireoIn/clones/variants_init/knn/kparam_10/concat/annotation_clones/DE_large",
    "se_f": "/data/Mito_Trace/output/pipeline/cd34norm/MTblacklist/data/merged/MT/cellr_True/numread_200/filters/minC10_minR50_topN0_hetT0.001_hetC10_hetCount5_bq20/mgatk/vireoIn/clones/variants_init/knn/kparam_10/concat/annotation_clones/SE.rds"
   },
   "start_time": "2021-12-03T20:33:17.781126",
   "version": "2.3.3"
  }
 },
 "nbformat": 4,
 "nbformat_minor": 5
}