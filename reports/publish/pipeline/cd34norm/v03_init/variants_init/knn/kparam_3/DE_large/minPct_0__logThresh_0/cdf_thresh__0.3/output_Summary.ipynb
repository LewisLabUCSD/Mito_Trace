{
 "cells": [
  {
   "cell_type": "code",
   "execution_count": 1,
   "id": "4246cc89",
   "metadata": {
    "execution": {
     "iopub.execute_input": "2021-12-03T21:32:00.931188Z",
     "iopub.status.busy": "2021-12-03T21:32:00.924428Z",
     "iopub.status.idle": "2021-12-03T21:32:00.979579Z",
     "shell.execute_reply": "2021-12-03T21:32:00.977482Z"
    },
    "papermill": {
     "duration": 0.121678,
     "end_time": "2021-12-03T21:32:00.979870",
     "exception": false,
     "start_time": "2021-12-03T21:32:00.858192",
     "status": "completed"
    },
    "tags": [
     "parameters"
    ]
   },
   "outputs": [],
   "source": [
    "#indir = \"/data/Mito_Trace/output/annotation_clones/data/cd34norm/MTblacklist/DE_large\"\n",
    "indir = \"/data/Mito_Trace/output/pipeline/cd34norm/MTblacklist/data/merged/MT/cellr_True/numread_200/filters/minC10_minR50_topN0_hetT0.001_hetC10_hetCount5_bq20/mgatk/vireoIn/clones/variants_init/vireo/nclones20/annotation_clones/DE_large/minPct_0.01__logThresh_0\"\n",
    "\n",
    "se_indir = \"/data/Mito_Trace/output/pipeline/cd34norm/MTblacklist/data/merged/MT/cellr_True/numread_200/filters/minC10_minR50_topN0_hetT0.001_hetC10_hetCount5_bq20/mgatk/vireoIn/clones/variants_init/vireo/nclones20/annotation_clones/DE_large\"\n",
    "n_donors = 4\n",
    "cdf_thresh = 0.3\n",
    "\n",
    "n_top_genes = 5\n",
    "n_top_clones = 3\n",
    "utils_script <- \"/data/Mito_Trace/R_scripts/seurat_utils.R\"\n"
   ]
  },
  {
   "cell_type": "code",
   "execution_count": 2,
   "id": "2b88cf29",
   "metadata": {
    "execution": {
     "iopub.execute_input": "2021-12-03T21:32:01.145730Z",
     "iopub.status.busy": "2021-12-03T21:32:01.104506Z",
     "iopub.status.idle": "2021-12-03T21:32:01.164539Z",
     "shell.execute_reply": "2021-12-03T21:32:01.163471Z"
    },
    "papermill": {
     "duration": 0.124739,
     "end_time": "2021-12-03T21:32:01.164768",
     "exception": false,
     "start_time": "2021-12-03T21:32:01.040029",
     "status": "completed"
    },
    "tags": [
     "injected-parameters"
    ]
   },
   "outputs": [],
   "source": [
    "# Parameters\n",
    "indir = \"/data/Mito_Trace/output/pipeline/cd34norm/MTblacklist/data/merged/MT/cellr_True/numread_200/filters/minC10_minR50_topN0_hetT0.001_hetC10_hetCount5_bq20/mgatk/vireoIn/clones/variants_init/knn/kparam_3/concat/annotation_clones/DE_large/minPct_0__logThresh_0\"\n",
    "se_indir = \"/data/Mito_Trace/output/pipeline/cd34norm/MTblacklist/data/merged/MT/cellr_True/numread_200/filters/minC10_minR50_topN0_hetT0.001_hetC10_hetCount5_bq20/mgatk/vireoIn/clones/variants_init/knn/kparam_3/concat/annotation_clones/DE_large\"\n",
    "n_donors = 4\n",
    "cdf_thresh = 0.3\n"
   ]
  },
  {
   "cell_type": "code",
   "execution_count": 3,
   "id": "126002f9",
   "metadata": {
    "execution": {
     "iopub.execute_input": "2021-12-03T21:32:01.294891Z",
     "iopub.status.busy": "2021-12-03T21:32:01.292431Z",
     "iopub.status.idle": "2021-12-03T21:32:08.685931Z",
     "shell.execute_reply": "2021-12-03T21:32:08.684778Z"
    },
    "papermill": {
     "duration": 7.456987,
     "end_time": "2021-12-03T21:32:08.686243",
     "exception": false,
     "start_time": "2021-12-03T21:32:01.229256",
     "status": "completed"
    },
    "scrolled": true,
    "tags": []
   },
   "outputs": [
    {
     "name": "stderr",
     "output_type": "stream",
     "text": [
      "Attaching SeuratObject\n",
      "\n"
     ]
    }
   ],
   "source": [
    "source(utils_script)"
   ]
  },
  {
   "cell_type": "code",
   "execution_count": 4,
   "id": "3657ef25",
   "metadata": {
    "execution": {
     "iopub.execute_input": "2021-12-03T21:32:08.809569Z",
     "iopub.status.busy": "2021-12-03T21:32:08.806080Z",
     "iopub.status.idle": "2021-12-03T21:32:08.825389Z",
     "shell.execute_reply": "2021-12-03T21:32:08.824277Z"
    },
    "papermill": {
     "duration": 0.080549,
     "end_time": "2021-12-03T21:32:08.825589",
     "exception": false,
     "start_time": "2021-12-03T21:32:08.745040",
     "status": "completed"
    },
    "scrolled": true,
    "tags": []
   },
   "outputs": [
    {
     "name": "stderr",
     "output_type": "stream",
     "text": [
      "Warning message in dir.create(outdir):\n",
      "“'/data/Mito_Trace/output/pipeline/cd34norm/MTblacklist/data/merged/MT/cellr_True/numread_200/filters/minC10_minR50_topN0_hetT0.001_hetC10_hetCount5_bq20/mgatk/vireoIn/clones/variants_init/knn/kparam_3/concat/annotation_clones/DE_large/minPct_0__logThresh_0/cdf_thresh__0.3' already exists”\n"
     ]
    }
   ],
   "source": [
    "outdir <- paste0(indir, \"/\", \"cdf_thresh__\", (cdf_thresh))\n",
    "dir.create(outdir)"
   ]
  },
  {
   "cell_type": "code",
   "execution_count": 5,
   "id": "5d9ca2e3",
   "metadata": {
    "execution": {
     "iopub.execute_input": "2021-12-03T21:32:08.952307Z",
     "iopub.status.busy": "2021-12-03T21:32:08.949441Z",
     "iopub.status.idle": "2021-12-03T21:32:16.557983Z",
     "shell.execute_reply": "2021-12-03T21:32:16.556877Z"
    },
    "papermill": {
     "duration": 7.674188,
     "end_time": "2021-12-03T21:32:16.558224",
     "exception": false,
     "start_time": "2021-12-03T21:32:08.884036",
     "status": "completed"
    },
    "scrolled": true,
    "tags": []
   },
   "outputs": [
    {
     "name": "stderr",
     "output_type": "stream",
     "text": [
      "\n",
      "Attaching package: ‘cowplot’\n",
      "\n",
      "\n"
     ]
    },
    {
     "name": "stderr",
     "output_type": "stream",
     "text": [
      "The following object is masked from ‘package:patchwork’:\n",
      "\n",
      "    align_plots\n",
      "\n",
      "\n"
     ]
    },
    {
     "name": "stderr",
     "output_type": "stream",
     "text": [
      "\n",
      "Attaching package: ‘dplyr’\n",
      "\n",
      "\n"
     ]
    },
    {
     "name": "stderr",
     "output_type": "stream",
     "text": [
      "The following objects are masked from ‘package:stats’:\n",
      "\n",
      "    filter, lag\n",
      "\n",
      "\n"
     ]
    },
    {
     "name": "stderr",
     "output_type": "stream",
     "text": [
      "The following objects are masked from ‘package:base’:\n",
      "\n",
      "    intersect, setdiff, setequal, union\n",
      "\n",
      "\n"
     ]
    },
    {
     "name": "stderr",
     "output_type": "stream",
     "text": [
      "Loading required package: grid\n",
      "\n"
     ]
    },
    {
     "name": "stderr",
     "output_type": "stream",
     "text": [
      "========================================\n",
      "ComplexHeatmap version 2.10.0\n",
      "Bioconductor page: http://bioconductor.org/packages/ComplexHeatmap/\n",
      "Github page: https://github.com/jokergoo/ComplexHeatmap\n",
      "Documentation: http://jokergoo.github.io/ComplexHeatmap-reference\n",
      "\n",
      "If you use it in published research, please cite:\n",
      "Gu, Z. Complex heatmaps reveal patterns and correlations in multidimensional \n",
      "  genomic data. Bioinformatics 2016.\n",
      "\n",
      "The new InteractiveComplexHeatmap package can directly export static \n",
      "complex heatmaps into an interactive Shiny app with zero effort. Have a try!\n",
      "\n",
      "This message can be suppressed by:\n",
      "  suppressPackageStartupMessages(library(ComplexHeatmap))\n",
      "========================================\n",
      "\n",
      "\n"
     ]
    },
    {
     "name": "stderr",
     "output_type": "stream",
     "text": [
      "\n",
      "\n"
     ]
    },
    {
     "name": "stderr",
     "output_type": "stream",
     "text": [
      "Loading required package: BSgenome\n",
      "\n"
     ]
    },
    {
     "name": "stderr",
     "output_type": "stream",
     "text": [
      "Loading required package: BiocGenerics\n",
      "\n"
     ]
    },
    {
     "name": "stderr",
     "output_type": "stream",
     "text": [
      "\n",
      "Attaching package: ‘BiocGenerics’\n",
      "\n",
      "\n"
     ]
    },
    {
     "name": "stderr",
     "output_type": "stream",
     "text": [
      "The following objects are masked from ‘package:dplyr’:\n",
      "\n",
      "    combine, intersect, setdiff, union\n",
      "\n",
      "\n"
     ]
    },
    {
     "name": "stderr",
     "output_type": "stream",
     "text": [
      "The following objects are masked from ‘package:stats’:\n",
      "\n",
      "    IQR, mad, sd, var, xtabs\n",
      "\n",
      "\n"
     ]
    },
    {
     "name": "stderr",
     "output_type": "stream",
     "text": [
      "The following objects are masked from ‘package:base’:\n",
      "\n",
      "    anyDuplicated, append, as.data.frame, basename, cbind, colnames,\n",
      "    dirname, do.call, duplicated, eval, evalq, Filter, Find, get, grep,\n",
      "    grepl, intersect, is.unsorted, lapply, Map, mapply, match, mget,\n",
      "    order, paste, pmax, pmax.int, pmin, pmin.int, Position, rank,\n",
      "    rbind, Reduce, rownames, sapply, setdiff, sort, table, tapply,\n",
      "    union, unique, unsplit, which.max, which.min\n",
      "\n",
      "\n"
     ]
    },
    {
     "name": "stderr",
     "output_type": "stream",
     "text": [
      "Loading required package: S4Vectors\n",
      "\n"
     ]
    },
    {
     "name": "stderr",
     "output_type": "stream",
     "text": [
      "Loading required package: stats4\n",
      "\n"
     ]
    },
    {
     "name": "stderr",
     "output_type": "stream",
     "text": [
      "\n",
      "Attaching package: ‘S4Vectors’\n",
      "\n",
      "\n"
     ]
    },
    {
     "name": "stderr",
     "output_type": "stream",
     "text": [
      "The following object is masked from ‘package:future’:\n",
      "\n",
      "    values\n",
      "\n",
      "\n"
     ]
    },
    {
     "name": "stderr",
     "output_type": "stream",
     "text": [
      "The following objects are masked from ‘package:dplyr’:\n",
      "\n",
      "    first, rename\n",
      "\n",
      "\n"
     ]
    },
    {
     "name": "stderr",
     "output_type": "stream",
     "text": [
      "The following objects are masked from ‘package:base’:\n",
      "\n",
      "    expand.grid, I, unname\n",
      "\n",
      "\n"
     ]
    },
    {
     "name": "stderr",
     "output_type": "stream",
     "text": [
      "Loading required package: IRanges\n",
      "\n"
     ]
    },
    {
     "name": "stderr",
     "output_type": "stream",
     "text": [
      "\n",
      "Attaching package: ‘IRanges’\n",
      "\n",
      "\n"
     ]
    },
    {
     "name": "stderr",
     "output_type": "stream",
     "text": [
      "The following objects are masked from ‘package:dplyr’:\n",
      "\n",
      "    collapse, desc, slice\n",
      "\n",
      "\n"
     ]
    },
    {
     "name": "stderr",
     "output_type": "stream",
     "text": [
      "Loading required package: GenomeInfoDb\n",
      "\n"
     ]
    },
    {
     "name": "stderr",
     "output_type": "stream",
     "text": [
      "Loading required package: GenomicRanges\n",
      "\n"
     ]
    },
    {
     "name": "stderr",
     "output_type": "stream",
     "text": [
      "Loading required package: Biostrings\n",
      "\n"
     ]
    },
    {
     "name": "stderr",
     "output_type": "stream",
     "text": [
      "Loading required package: XVector\n",
      "\n"
     ]
    },
    {
     "name": "stderr",
     "output_type": "stream",
     "text": [
      "\n",
      "Attaching package: ‘Biostrings’\n",
      "\n",
      "\n"
     ]
    },
    {
     "name": "stderr",
     "output_type": "stream",
     "text": [
      "The following object is masked from ‘package:grid’:\n",
      "\n",
      "    pattern\n",
      "\n",
      "\n"
     ]
    },
    {
     "name": "stderr",
     "output_type": "stream",
     "text": [
      "The following object is masked from ‘package:base’:\n",
      "\n",
      "    strsplit\n",
      "\n",
      "\n"
     ]
    },
    {
     "name": "stderr",
     "output_type": "stream",
     "text": [
      "Loading required package: rtracklayer\n",
      "\n"
     ]
    }
   ],
   "source": [
    "library(Seurat)\n",
    "library(Signac)\n",
    "library(ggplot2)\n",
    "library(patchwork)\n",
    "set.seed(1234)\n",
    "library(magrittr)\n",
    "library(cowplot)\n",
    "library(metap)\n",
    "library(dplyr)\n",
    "library(future)\n",
    "library(\"ComplexHeatmap\")\n",
    "library(motifmatchr)\n",
    "library(JASPAR2020)\n",
    "library(TFBSTools)\n",
    "library(BSgenome.Hsapiens.UCSC.hg38)\n"
   ]
  },
  {
   "cell_type": "markdown",
   "id": "e8a7d7b5",
   "metadata": {
    "papermill": {
     "duration": 0.071144,
     "end_time": "2021-12-03T21:32:16.700097",
     "exception": false,
     "start_time": "2021-12-03T21:32:16.628953",
     "status": "completed"
    },
    "tags": []
   },
   "source": [
    "## Import seurat object"
   ]
  },
  {
   "cell_type": "code",
   "execution_count": 6,
   "id": "2ef3a56c",
   "metadata": {
    "execution": {
     "iopub.execute_input": "2021-12-03T21:32:16.850809Z",
     "iopub.status.busy": "2021-12-03T21:32:16.847217Z",
     "iopub.status.idle": "2021-12-03T21:32:36.806514Z",
     "shell.execute_reply": "2021-12-03T21:32:36.807367Z"
    },
    "papermill": {
     "duration": 20.037606,
     "end_time": "2021-12-03T21:32:36.807637",
     "exception": false,
     "start_time": "2021-12-03T21:32:16.770031",
     "status": "completed"
    },
    "scrolled": true,
    "tags": []
   },
   "outputs": [
    {
     "name": "stdout",
     "output_type": "stream",
     "text": [
      "[1] 4\n",
      "[1] \"i 1 donor 0\"\n",
      "[1] \"only 1 clone. Using top 3 clones\"\n",
      "[1] \"i 2 donor 1\"\n",
      "[1] \"i 3 donor 2\"\n",
      "[1] \"i 4 donor 3\"\n",
      "[1] \"only 1 clone. Using top 3 clones\"\n"
     ]
    },
    {
     "data": {
      "text/html": [
       "<table class=\"dataframe\">\n",
       "<caption>A data.frame: 14 × 9</caption>\n",
       "<thead>\n",
       "\t<tr><th scope=col>X</th><th scope=col>donor</th><th scope=col>lineage</th><th scope=col>norm.total</th><th scope=col>total</th><th scope=col>name</th><th scope=col>cdf.norm</th><th scope=col>cdf</th><th scope=col>index</th></tr>\n",
       "\t<tr><th scope=col>&lt;int&gt;</th><th scope=col>&lt;int&gt;</th><th scope=col>&lt;int&gt;</th><th scope=col>&lt;dbl&gt;</th><th scope=col>&lt;int&gt;</th><th scope=col>&lt;chr&gt;</th><th scope=col>&lt;dbl&gt;</th><th scope=col>&lt;int&gt;</th><th scope=col>&lt;int&gt;</th></tr>\n",
       "</thead>\n",
       "<tbody>\n",
       "\t<tr><td> 5</td><td>1</td><td> 1</td><td>0.1352577</td><td>209</td><td>1_1 </td><td>0.06762887</td><td> 209</td><td>1</td></tr>\n",
       "\t<tr><td> 6</td><td>1</td><td> 0</td><td>0.1328909</td><td>207</td><td>1_0 </td><td>0.13407432</td><td> 416</td><td>2</td></tr>\n",
       "\t<tr><td> 7</td><td>1</td><td> 2</td><td>0.1303944</td><td>189</td><td>1_2 </td><td>0.19927152</td><td> 605</td><td>3</td></tr>\n",
       "\t<tr><td> 8</td><td>1</td><td> 6</td><td>0.1041287</td><td>156</td><td>1_6 </td><td>0.25133589</td><td> 761</td><td>4</td></tr>\n",
       "\t<tr><td>14</td><td>2</td><td> 1</td><td>0.1397429</td><td>154</td><td>2_1 </td><td>0.06987147</td><td> 154</td><td>1</td></tr>\n",
       "\t<tr><td>15</td><td>2</td><td> 0</td><td>0.1323743</td><td>169</td><td>2_0 </td><td>0.13605860</td><td> 323</td><td>2</td></tr>\n",
       "\t<tr><td>16</td><td>2</td><td> 3</td><td>0.1248160</td><td>150</td><td>2_3 </td><td>0.19846660</td><td> 473</td><td>3</td></tr>\n",
       "\t<tr><td>17</td><td>2</td><td> 5</td><td>0.1057015</td><td>124</td><td>2_5 </td><td>0.25131733</td><td> 597</td><td>4</td></tr>\n",
       "\t<tr><td> 1</td><td>0</td><td>54</td><td>0.3700399</td><td>590</td><td>0_54</td><td>0.18501994</td><td> 590</td><td>1</td></tr>\n",
       "\t<tr><td> 2</td><td>0</td><td> 0</td><td>0.2796493</td><td>460</td><td>0_0 </td><td>0.32484458</td><td>1050</td><td>2</td></tr>\n",
       "\t<tr><td> 3</td><td>0</td><td> 2</td><td>0.1345464</td><td>229</td><td>0_2 </td><td>0.39211776</td><td>1279</td><td>3</td></tr>\n",
       "\t<tr><td>23</td><td>3</td><td> 0</td><td>0.3069621</td><td>419</td><td>3_0 </td><td>0.15348106</td><td> 419</td><td>1</td></tr>\n",
       "\t<tr><td>24</td><td>3</td><td> 1</td><td>0.2518520</td><td>375</td><td>3_1 </td><td>0.27940706</td><td> 794</td><td>2</td></tr>\n",
       "\t<tr><td>25</td><td>3</td><td> 2</td><td>0.1495212</td><td>193</td><td>3_2 </td><td>0.35416768</td><td> 987</td><td>3</td></tr>\n",
       "</tbody>\n",
       "</table>\n"
      ],
      "text/latex": [
       "A data.frame: 14 × 9\n",
       "\\begin{tabular}{lllllllll}\n",
       " X & donor & lineage & norm.total & total & name & cdf.norm & cdf & index\\\\\n",
       " <int> & <int> & <int> & <dbl> & <int> & <chr> & <dbl> & <int> & <int>\\\\\n",
       "\\hline\n",
       "\t  5 & 1 &  1 & 0.1352577 & 209 & 1\\_1  & 0.06762887 &  209 & 1\\\\\n",
       "\t  6 & 1 &  0 & 0.1328909 & 207 & 1\\_0  & 0.13407432 &  416 & 2\\\\\n",
       "\t  7 & 1 &  2 & 0.1303944 & 189 & 1\\_2  & 0.19927152 &  605 & 3\\\\\n",
       "\t  8 & 1 &  6 & 0.1041287 & 156 & 1\\_6  & 0.25133589 &  761 & 4\\\\\n",
       "\t 14 & 2 &  1 & 0.1397429 & 154 & 2\\_1  & 0.06987147 &  154 & 1\\\\\n",
       "\t 15 & 2 &  0 & 0.1323743 & 169 & 2\\_0  & 0.13605860 &  323 & 2\\\\\n",
       "\t 16 & 2 &  3 & 0.1248160 & 150 & 2\\_3  & 0.19846660 &  473 & 3\\\\\n",
       "\t 17 & 2 &  5 & 0.1057015 & 124 & 2\\_5  & 0.25131733 &  597 & 4\\\\\n",
       "\t  1 & 0 & 54 & 0.3700399 & 590 & 0\\_54 & 0.18501994 &  590 & 1\\\\\n",
       "\t  2 & 0 &  0 & 0.2796493 & 460 & 0\\_0  & 0.32484458 & 1050 & 2\\\\\n",
       "\t  3 & 0 &  2 & 0.1345464 & 229 & 0\\_2  & 0.39211776 & 1279 & 3\\\\\n",
       "\t 23 & 3 &  0 & 0.3069621 & 419 & 3\\_0  & 0.15348106 &  419 & 1\\\\\n",
       "\t 24 & 3 &  1 & 0.2518520 & 375 & 3\\_1  & 0.27940706 &  794 & 2\\\\\n",
       "\t 25 & 3 &  2 & 0.1495212 & 193 & 3\\_2  & 0.35416768 &  987 & 3\\\\\n",
       "\\end{tabular}\n"
      ],
      "text/markdown": [
       "\n",
       "A data.frame: 14 × 9\n",
       "\n",
       "| X &lt;int&gt; | donor &lt;int&gt; | lineage &lt;int&gt; | norm.total &lt;dbl&gt; | total &lt;int&gt; | name &lt;chr&gt; | cdf.norm &lt;dbl&gt; | cdf &lt;int&gt; | index &lt;int&gt; |\n",
       "|---|---|---|---|---|---|---|---|---|\n",
       "|  5 | 1 |  1 | 0.1352577 | 209 | 1_1  | 0.06762887 |  209 | 1 |\n",
       "|  6 | 1 |  0 | 0.1328909 | 207 | 1_0  | 0.13407432 |  416 | 2 |\n",
       "|  7 | 1 |  2 | 0.1303944 | 189 | 1_2  | 0.19927152 |  605 | 3 |\n",
       "|  8 | 1 |  6 | 0.1041287 | 156 | 1_6  | 0.25133589 |  761 | 4 |\n",
       "| 14 | 2 |  1 | 0.1397429 | 154 | 2_1  | 0.06987147 |  154 | 1 |\n",
       "| 15 | 2 |  0 | 0.1323743 | 169 | 2_0  | 0.13605860 |  323 | 2 |\n",
       "| 16 | 2 |  3 | 0.1248160 | 150 | 2_3  | 0.19846660 |  473 | 3 |\n",
       "| 17 | 2 |  5 | 0.1057015 | 124 | 2_5  | 0.25131733 |  597 | 4 |\n",
       "|  1 | 0 | 54 | 0.3700399 | 590 | 0_54 | 0.18501994 |  590 | 1 |\n",
       "|  2 | 0 |  0 | 0.2796493 | 460 | 0_0  | 0.32484458 | 1050 | 2 |\n",
       "|  3 | 0 |  2 | 0.1345464 | 229 | 0_2  | 0.39211776 | 1279 | 3 |\n",
       "| 23 | 3 |  0 | 0.3069621 | 419 | 3_0  | 0.15348106 |  419 | 1 |\n",
       "| 24 | 3 |  1 | 0.2518520 | 375 | 3_1  | 0.27940706 |  794 | 2 |\n",
       "| 25 | 3 |  2 | 0.1495212 | 193 | 3_2  | 0.35416768 |  987 | 3 |\n",
       "\n"
      ],
      "text/plain": [
       "   X  donor lineage norm.total total name cdf.norm   cdf  index\n",
       "1   5 1      1      0.1352577  209   1_1  0.06762887  209 1    \n",
       "2   6 1      0      0.1328909  207   1_0  0.13407432  416 2    \n",
       "3   7 1      2      0.1303944  189   1_2  0.19927152  605 3    \n",
       "4   8 1      6      0.1041287  156   1_6  0.25133589  761 4    \n",
       "5  14 2      1      0.1397429  154   2_1  0.06987147  154 1    \n",
       "6  15 2      0      0.1323743  169   2_0  0.13605860  323 2    \n",
       "7  16 2      3      0.1248160  150   2_3  0.19846660  473 3    \n",
       "8  17 2      5      0.1057015  124   2_5  0.25131733  597 4    \n",
       "9   1 0     54      0.3700399  590   0_54 0.18501994  590 1    \n",
       "10  2 0      0      0.2796493  460   0_0  0.32484458 1050 2    \n",
       "11  3 0      2      0.1345464  229   0_2  0.39211776 1279 3    \n",
       "12 23 3      0      0.3069621  419   3_0  0.15348106  419 1    \n",
       "13 24 3      1      0.2518520  375   3_1  0.27940706  794 2    \n",
       "14 25 3      2      0.1495212  193   3_2  0.35416768  987 3    "
      ]
     },
     "metadata": {},
     "output_type": "display_data"
    }
   ],
   "source": [
    "se <- readRDS(file.path(se_indir, \"se.clonesfilt.rds\"))\n",
    "init.large.clones <- read.csv(file.path(se_indir, \"large_clones.csv\"))\n",
    "large.clones <- init.large.clones %>% filter(cdf.norm<cdf_thresh)\n",
    "\n",
    "large.clones <- check.if.one.clone(large.clones, init.large.clones, n_top_clones)\n",
    "large.clones"
   ]
  },
  {
   "cell_type": "code",
   "execution_count": 7,
   "id": "ec910a21",
   "metadata": {
    "execution": {
     "iopub.execute_input": "2021-12-03T21:32:36.991866Z",
     "iopub.status.busy": "2021-12-03T21:32:36.989303Z",
     "iopub.status.idle": "2021-12-03T21:32:43.880435Z",
     "shell.execute_reply": "2021-12-03T21:32:43.879155Z"
    },
    "papermill": {
     "duration": 6.984377,
     "end_time": "2021-12-03T21:32:43.880684",
     "exception": false,
     "start_time": "2021-12-03T21:32:36.896307",
     "status": "completed"
    },
    "tags": []
   },
   "outputs": [],
   "source": [
    "se <- subset(se, subset= name %in% factor(large.clones$name))"
   ]
  },
  {
   "cell_type": "code",
   "execution_count": 8,
   "id": "c1f91a07",
   "metadata": {
    "execution": {
     "iopub.execute_input": "2021-12-03T21:32:44.072808Z",
     "iopub.status.busy": "2021-12-03T21:32:44.070242Z",
     "iopub.status.idle": "2021-12-03T21:32:44.100049Z",
     "shell.execute_reply": "2021-12-03T21:32:44.098884Z"
    },
    "papermill": {
     "duration": 0.123645,
     "end_time": "2021-12-03T21:32:44.100294",
     "exception": false,
     "start_time": "2021-12-03T21:32:43.976649",
     "status": "completed"
    },
    "tags": []
   },
   "outputs": [],
   "source": [
    "Idents(se) <- \"name\""
   ]
  },
  {
   "cell_type": "code",
   "execution_count": 9,
   "id": "8f207cb1",
   "metadata": {
    "execution": {
     "iopub.execute_input": "2021-12-03T21:32:44.256649Z",
     "iopub.status.busy": "2021-12-03T21:32:44.253668Z",
     "iopub.status.idle": "2021-12-03T21:32:45.133625Z",
     "shell.execute_reply": "2021-12-03T21:32:45.134537Z"
    },
    "papermill": {
     "duration": 0.957566,
     "end_time": "2021-12-03T21:32:45.134822",
     "exception": false,
     "start_time": "2021-12-03T21:32:44.177256",
     "status": "completed"
    },
    "scrolled": true,
    "tags": []
   },
   "outputs": [
    {
     "name": "stderr",
     "output_type": "stream",
     "text": [
      "Saving 6.67 x 6.67 in image\n",
      "\n"
     ]
    },
    {
     "data": {
      "image/png": "[encoded data removed]",
      "text/plain": [
       "plot without title"
      ]
     },
     "metadata": {
      "image/png": {
       "height": 420,
       "width": 420
      }
     },
     "output_type": "display_data"
    }
   ],
   "source": [
    "p <- ggplot(data = large.clones, aes(index, cdf.norm)) +\n",
    "  geom_point(color = \"steelblue\", size = 1) +\n",
    "  facet_wrap(~ donor) \n",
    "\n",
    "p <- p + geom_hline(yintercept=cdf_thresh, color='green') \n",
    "p\n",
    "ggsave(file.path(outdir, \"large.clones.cdf.png\"))\n",
    "\n"
   ]
  },
  {
   "cell_type": "code",
   "execution_count": 10,
   "id": "c28a1ffa",
   "metadata": {
    "execution": {
     "iopub.execute_input": "2021-12-03T21:32:45.297665Z",
     "iopub.status.busy": "2021-12-03T21:32:45.294192Z",
     "iopub.status.idle": "2021-12-03T21:32:45.309151Z",
     "shell.execute_reply": "2021-12-03T21:32:45.307886Z"
    },
    "papermill": {
     "duration": 0.09498,
     "end_time": "2021-12-03T21:32:45.309349",
     "exception": false,
     "start_time": "2021-12-03T21:32:45.214369",
     "status": "completed"
    },
    "tags": []
   },
   "outputs": [],
   "source": [
    "## Get motif names\n",
    "\n",
    "# DefaultAssay(se) <- \"chromvar\"\n",
    "# chrom.var.names <- GetAssayData(se)\n",
    "# DefaultAssay(se) <- \"ATAC\"\n",
    "# motifs <- Motifs(se)\n",
    "# #Motifs(se)@motif.names\n",
    "\n",
    "# head(chrom.var.names)\n",
    "# row.names(chrom.var.names) <- sapply(row.names(chrom.var.names), function(x) {Motifs(se)@motif.names[[x]]})\n",
    "# head(chrom.var.names)\n",
    "\n",
    "\n"
   ]
  },
  {
   "cell_type": "markdown",
   "id": "5564da63",
   "metadata": {
    "papermill": {
     "duration": 0.076257,
     "end_time": "2021-12-03T21:32:45.466999",
     "exception": false,
     "start_time": "2021-12-03T21:32:45.390742",
     "status": "completed"
    },
    "tags": []
   },
   "source": [
    "## TF DE"
   ]
  },
  {
   "cell_type": "markdown",
   "id": "e7def62d",
   "metadata": {
    "papermill": {
     "duration": 0.07635,
     "end_time": "2021-12-03T21:32:45.621412",
     "exception": false,
     "start_time": "2021-12-03T21:32:45.545062",
     "status": "completed"
    },
    "tags": []
   },
   "source": [
    "## Summarize results"
   ]
  },
  {
   "cell_type": "code",
   "execution_count": 11,
   "id": "c7854307",
   "metadata": {
    "execution": {
     "iopub.execute_input": "2021-12-03T21:32:45.787150Z",
     "iopub.status.busy": "2021-12-03T21:32:45.783719Z",
     "iopub.status.idle": "2021-12-03T21:32:45.798930Z",
     "shell.execute_reply": "2021-12-03T21:32:45.797855Z"
    },
    "papermill": {
     "duration": 0.100229,
     "end_time": "2021-12-03T21:32:45.799168",
     "exception": false,
     "start_time": "2021-12-03T21:32:45.698939",
     "status": "completed"
    },
    "scrolled": true,
    "tags": []
   },
   "outputs": [],
   "source": [
    "# all.names.sig <- c()\n",
    "# DefaultAssay(se) <- \"chromvarnames\"\n",
    "# for (d in 0:(n_donors-1)){\n",
    "#     print('donor')\n",
    "#     print(d)\n",
    "#     curr.indir <- file.path(indir, paste0(\"donor\", d, \"_TF\"))\n",
    "#     #curr.outdir <- file.path(outdir, paste0(\"donor\", d, \"_TF\"))\n",
    "#     #dir.create(curr.outdir)\n",
    "#     donor.large.clones <- large.clones %>% filter(donor==d)\n",
    "#     clones.filt.ids <- sort(donor.large.clones$lineage)\n",
    "#     se.filt <- subset(se, subset = (donor==d) & (lineage %in% donor.large.clones$lineage))\n",
    "#     if (length(clones.filt.ids) < 2){\n",
    "#         print(\"0 or 1 clone found. not running\")\n",
    "#         next\n",
    "#     }\n",
    "#     pairs = combn(clones.filt.ids,2)\n",
    "#     names.sig <- c()\n",
    "\n",
    "#     for (i in 1:dim(pairs)[2]){\n",
    "#         print(pairs[,i])\n",
    "#         print(paste(\"comparison #\", i))\n",
    "#         a = pairs[1,i]\n",
    "#         b = pairs[2,i]\n",
    "#         curr.tf.da <- read.csv(file.path(curr.indir, \n",
    "#                                          paste0(\"clones_\",a,\"__\", b,\".DE.TF.csv\"))) %>% \n",
    "#                       arrange(p_val)\n",
    "#         row.names(curr.tf.da) <- curr.tf.da$X  #sapply(curr.tf.da$X, function(m) {motifs@motif.names[[m]]})\n",
    "#         names.sig <- c(names.sig, head(row.names(curr.tf.da), n_top_genes))\n",
    "#         all.names.sig <- c(all.names.sig, head(row.names(curr.tf.da), n_top_genes))\n",
    "#         }\n",
    "#     names.sig <- unique(names.sig)\n",
    "    \n",
    "#     gally <- GGally::ggpairs(curr.tf.da[,c(\"p_val\", \"p_val_adj\")], aes(alpha = 0.4))\n",
    "# }\n"
   ]
  },
  {
   "cell_type": "code",
   "execution_count": 12,
   "id": "78949989",
   "metadata": {
    "execution": {
     "iopub.execute_input": "2021-12-03T21:32:45.969497Z",
     "iopub.status.busy": "2021-12-03T21:32:45.965310Z",
     "iopub.status.idle": "2021-12-03T21:34:20.820474Z",
     "shell.execute_reply": "2021-12-03T21:34:20.819784Z"
    },
    "papermill": {
     "duration": 94.9384,
     "end_time": "2021-12-03T21:34:20.820635",
     "exception": false,
     "start_time": "2021-12-03T21:32:45.882235",
     "status": "completed"
    },
    "scrolled": true,
    "tags": []
   },
   "outputs": [
    {
     "name": "stdout",
     "output_type": "stream",
     "text": [
      "[1] \"donor\"\n",
      "[1] 0\n",
      "[1] 0 2\n",
      "[1] \"comparison # 1\"\n",
      "             X        p_val   avg_diff pct.1 pct.2 p_val_adj p_val_adj_BH\n",
      "1        HOXB7 0.0003337197  0.2949093 0.541 0.397 0.2112446     0.176855\n",
      "2       SREBF2 0.0006136906 -0.2647812 0.402 0.533 0.3884662     0.176855\n",
      "3        SCRT2 0.0008748025  0.2661061 0.548 0.441 0.5537500     0.176855\n",
      "4        HOXA6 0.0011345806  0.2933891 0.507 0.406 0.7181895     0.176855\n",
      "5        CTCFL 0.0014910721  0.2323689 0.563 0.410 0.9438486     0.176855\n",
      "6 STAT1::STAT2 0.0016763503 -0.3799203 0.370 0.515 1.0000000     0.176855\n"
     ]
    },
    {
     "name": "stderr",
     "output_type": "stream",
     "text": [
      "Registered S3 method overwritten by 'GGally':\n",
      "  method from   \n",
      "  +.gg   ggplot2\n",
      "\n"
     ]
    },
    {
     "name": "stderr",
     "output_type": "stream",
     "text": [
      "Saving 6.67 x 6.67 in image\n",
      "\n"
     ]
    },
    {
     "name": "stderr",
     "output_type": "stream",
     "text": [
      "Warning message:\n",
      "“`guides(<scale> = FALSE)` is deprecated. Please use `guides(<scale> = \"none\")` instead.”\n"
     ]
    },
    {
     "name": "stderr",
     "output_type": "stream",
     "text": [
      "Saving 6.67 x 6.67 in image\n",
      "\n"
     ]
    },
    {
     "name": "stdout",
     "output_type": "stream",
     "text": [
      "[1]  0 54\n",
      "[1] \"comparison # 2\"\n",
      "          X        p_val   avg_diff pct.1 pct.2 p_val_adj p_val_adj_BH\n",
      "1    SREBF2 0.0003717654 -0.2137176 0.402 0.505 0.2353275    0.2353275\n",
      "2     ESRRB 0.0014815989 -0.1759607 0.428 0.525 0.9378521    0.4598468\n",
      "3   ZKSCAN5 0.0021793690 -0.2204718 0.380 0.461 1.0000000    0.4598468\n",
      "4 JUN::JUNB 0.0031069713 -0.2132240 0.330 0.369 1.0000000    0.4843714\n",
      "5    SREBF1 0.0050225950 -0.2006739 0.457 0.531 1.0000000    0.4843714\n",
      "6     PRDM1 0.0051814579 -0.1379028 0.424 0.510 1.0000000    0.4843714\n"
     ]
    },
    {
     "name": "stderr",
     "output_type": "stream",
     "text": [
      "Saving 6.67 x 6.67 in image\n",
      "\n"
     ]
    },
    {
     "name": "stderr",
     "output_type": "stream",
     "text": [
      "Warning message:\n",
      "“`guides(<scale> = FALSE)` is deprecated. Please use `guides(<scale> = \"none\")` instead.”\n"
     ]
    },
    {
     "name": "stderr",
     "output_type": "stream",
     "text": [
      "Saving 6.67 x 6.67 in image\n",
      "\n"
     ]
    },
    {
     "name": "stdout",
     "output_type": "stream",
     "text": [
      "[1]  2 54\n",
      "[1] \"comparison # 3\"\n",
      "      X        p_val   avg_diff pct.1 pct.2 p_val_adj p_val_adj_BH\n",
      "1   TEF 0.0001401194 -0.3088554 0.415 0.578 0.0886956    0.0886956\n",
      "2   DBP 0.0010354082 -0.3037102 0.489 0.593 0.6554134    0.3277067\n",
      "3 STAT1 0.0021024833 -0.2520405 0.397 0.515 1.0000000    0.3477061\n",
      "4 THAP1 0.0021971950  0.2342784 0.581 0.469 1.0000000    0.3477061\n",
      "5 SMAD3 0.0044230443 -0.2418457 0.441 0.517 1.0000000    0.5599574\n",
      "6 ASCL1 0.0064009039 -0.2135355 0.441 0.500 1.0000000    0.5997673\n"
     ]
    },
    {
     "name": "stderr",
     "output_type": "stream",
     "text": [
      "Saving 6.67 x 6.67 in image\n",
      "\n"
     ]
    },
    {
     "name": "stderr",
     "output_type": "stream",
     "text": [
      "Warning message:\n",
      "“`guides(<scale> = FALSE)` is deprecated. Please use `guides(<scale> = \"none\")` instead.”\n"
     ]
    },
    {
     "name": "stderr",
     "output_type": "stream",
     "text": [
      "Saving 6.67 x 6.67 in image\n",
      "\n"
     ]
    },
    {
     "name": "stderr",
     "output_type": "stream",
     "text": [
      "The automatically generated colors map from the minus and plus 99^th of\n",
      "the absolute values in the matrix. There are outliers in the matrix\n",
      "whose patterns might be hidden by this color mapping. You can manually\n",
      "set the color to `col` argument.\n",
      "\n",
      "Use `suppressMessages()` to turn off this message.\n",
      "\n"
     ]
    },
    {
     "name": "stderr",
     "output_type": "stream",
     "text": [
      "'magick' package is suggested to install to give better rasterization.\n",
      "\n",
      "Set `ht_opt$message = FALSE` to turn off this message.\n",
      "\n"
     ]
    },
    {
     "name": "stderr",
     "output_type": "stream",
     "text": [
      "Saving 6.67 x 6.67 in image\n",
      "\n"
     ]
    },
    {
     "name": "stderr",
     "output_type": "stream",
     "text": [
      "Saving 6.67 x 6.67 in image\n",
      "\n"
     ]
    },
    {
     "name": "stderr",
     "output_type": "stream",
     "text": [
      "Saving 6.67 x 6.67 in image\n",
      "\n"
     ]
    },
    {
     "name": "stdout",
     "output_type": "stream",
     "text": [
      "[1] \"donor\"\n",
      "[1] 1\n",
      "[1] 0 1\n",
      "[1] \"comparison # 1\"\n",
      "        X        p_val   avg_diff pct.1 pct.2 p_val_adj p_val_adj_BH\n",
      "1   CEBPA 0.0004341679 -0.6453702 0.488 0.636 0.2748283    0.2748283\n",
      "2   CEBPD 0.0015236406 -0.5596553 0.469 0.632 0.9644645    0.3526070\n",
      "3 ZKSCAN5 0.0016943818  0.3113588 0.454 0.349 1.0000000    0.3526070\n",
      "4    PAX3 0.0022433956 -0.3458445 0.415 0.545 1.0000000    0.3526070\n",
      "5   NFIL3 0.0029200083 -0.4008444 0.488 0.589 1.0000000    0.3526070\n",
      "6     HLF 0.0033679254 -0.4214186 0.473 0.536 1.0000000    0.3526070\n"
     ]
    },
    {
     "name": "stderr",
     "output_type": "stream",
     "text": [
      "Saving 6.67 x 6.67 in image\n",
      "\n"
     ]
    },
    {
     "name": "stderr",
     "output_type": "stream",
     "text": [
      "Warning message:\n",
      "“`guides(<scale> = FALSE)` is deprecated. Please use `guides(<scale> = \"none\")` instead.”\n"
     ]
    },
    {
     "name": "stderr",
     "output_type": "stream",
     "text": [
      "Saving 6.67 x 6.67 in image\n",
      "\n"
     ]
    },
    {
     "name": "stdout",
     "output_type": "stream",
     "text": [
      "[1] 0 2\n",
      "[1] \"comparison # 2\"\n",
      "               X       p_val   avg_diff pct.1 pct.2 p_val_adj p_val_adj_BH\n",
      "1   MEIS1(var.2) 0.004511546  0.2677208 0.551 0.407         1    0.8652998\n",
      "2 BHLHE22(var.2) 0.005215709  0.2579191 0.541 0.418         1    0.8652998\n",
      "3         ZNF341 0.005215709  0.2397860 0.570 0.460         1    0.8652998\n",
      "4           RELB 0.006264045  0.2979128 0.536 0.434         1    0.8652998\n",
      "5   STAT1::STAT2 0.009132429  0.3738861 0.425 0.291         1    0.8652998\n",
      "6          CEBPA 0.009935958 -0.4720361 0.488 0.608         1    0.8652998\n"
     ]
    },
    {
     "name": "stderr",
     "output_type": "stream",
     "text": [
      "Saving 6.67 x 6.67 in image\n",
      "\n"
     ]
    },
    {
     "name": "stderr",
     "output_type": "stream",
     "text": [
      "Warning message in cor(x, y):\n",
      "“the standard deviation is zero”\n"
     ]
    },
    {
     "name": "stderr",
     "output_type": "stream",
     "text": [
      "Warning message in cor(x, y):\n",
      "“the standard deviation is zero”\n"
     ]
    },
    {
     "name": "stderr",
     "output_type": "stream",
     "text": [
      "Warning message:\n",
      "“`guides(<scale> = FALSE)` is deprecated. Please use `guides(<scale> = \"none\")` instead.”\n"
     ]
    },
    {
     "name": "stderr",
     "output_type": "stream",
     "text": [
      "Saving 6.67 x 6.67 in image\n",
      "\n"
     ]
    },
    {
     "name": "stdout",
     "output_type": "stream",
     "text": [
      "[1] 0 6\n",
      "[1] \"comparison # 3\"\n",
      "             X        p_val   avg_diff pct.1 pct.2 p_val_adj p_val_adj_BH\n",
      "1         NFYC 0.0004353034  0.3867407 0.536 0.391 0.2755470    0.2755470\n",
      "2         NFYA 0.0014818903  0.3762469 0.546 0.378 0.9380365    0.4690183\n",
      "3      ZKSCAN5 0.0024236882  0.3232604 0.454 0.327 1.0000000    0.5113982\n",
      "4 STAT1::STAT2 0.0033386938  0.4051907 0.425 0.263 1.0000000    0.5283483\n",
      "5       HMBOX1 0.0058537970 -0.2966649 0.425 0.571 1.0000000    0.5522097\n",
      "6         MYF5 0.0078170209  0.2922209 0.527 0.397 1.0000000    0.5522097\n"
     ]
    },
    {
     "name": "stderr",
     "output_type": "stream",
     "text": [
      "Saving 6.67 x 6.67 in image\n",
      "\n"
     ]
    },
    {
     "name": "stderr",
     "output_type": "stream",
     "text": [
      "Warning message:\n",
      "“`guides(<scale> = FALSE)` is deprecated. Please use `guides(<scale> = \"none\")` instead.”\n"
     ]
    },
    {
     "name": "stderr",
     "output_type": "stream",
     "text": [
      "Saving 6.67 x 6.67 in image\n",
      "\n"
     ]
    },
    {
     "name": "stdout",
     "output_type": "stream",
     "text": [
      "[1] 1 2\n",
      "[1] \"comparison # 4\"\n",
      "       X        p_val   avg_diff pct.1 pct.2 p_val_adj p_val_adj_BH\n",
      "1 ZBTB7B 0.0004624348  0.3279483 0.565 0.413 0.2927212    0.2927212\n",
      "2  CTCFL 0.0009282974  0.2916799 0.541 0.407 0.5876122    0.2938061\n",
      "3 PHOX2B 0.0020090124  0.3078683 0.579 0.460 1.0000000    0.4012179\n",
      "4  NR2F1 0.0025353422 -0.3027831 0.478 0.571 1.0000000    0.4012179\n",
      "5  NR6A1 0.0046712526 -0.2388180 0.431 0.540 1.0000000    0.4748360\n",
      "6  PROP1 0.0049323418  0.2754321 0.536 0.455 1.0000000    0.4748360\n"
     ]
    },
    {
     "name": "stderr",
     "output_type": "stream",
     "text": [
      "Saving 6.67 x 6.67 in image\n",
      "\n"
     ]
    },
    {
     "name": "stderr",
     "output_type": "stream",
     "text": [
      "Warning message:\n",
      "“`guides(<scale> = FALSE)` is deprecated. Please use `guides(<scale> = \"none\")` instead.”\n"
     ]
    },
    {
     "name": "stderr",
     "output_type": "stream",
     "text": [
      "Saving 6.67 x 6.67 in image\n",
      "\n"
     ]
    },
    {
     "name": "stdout",
     "output_type": "stream",
     "text": [
      "[1] 1 6\n",
      "[1] \"comparison # 5\"\n",
      "       X       p_val  avg_diff pct.1 pct.2 p_val_adj p_val_adj_BH\n",
      "1   LHX2 0.002183569 0.3217907 0.584 0.468         1    0.5131915\n",
      "2    JUN 0.002326769 0.3365867 0.617 0.462         1    0.5131915\n",
      "3 PHOX2B 0.002781992 0.2753042 0.579 0.397         1    0.5131915\n",
      "4  TBX20 0.003242917 0.2929846 0.579 0.474         1    0.5131915\n",
      "5 ZNF136 0.004462921 0.2859449 0.565 0.436         1    0.5650058\n",
      "6 PHOX2A 0.010815068 0.2428514 0.565 0.442         1    0.9472263\n"
     ]
    },
    {
     "name": "stderr",
     "output_type": "stream",
     "text": [
      "Saving 6.67 x 6.67 in image\n",
      "\n"
     ]
    },
    {
     "name": "stderr",
     "output_type": "stream",
     "text": [
      "Warning message in cor(x, y):\n",
      "“the standard deviation is zero”\n"
     ]
    },
    {
     "name": "stderr",
     "output_type": "stream",
     "text": [
      "Warning message in cor(x, y):\n",
      "“the standard deviation is zero”\n"
     ]
    },
    {
     "name": "stderr",
     "output_type": "stream",
     "text": [
      "Warning message:\n",
      "“`guides(<scale> = FALSE)` is deprecated. Please use `guides(<scale> = \"none\")` instead.”\n"
     ]
    },
    {
     "name": "stderr",
     "output_type": "stream",
     "text": [
      "Saving 6.67 x 6.67 in image\n",
      "\n"
     ]
    },
    {
     "name": "stdout",
     "output_type": "stream",
     "text": [
      "[1] 2 6\n",
      "[1] \"comparison # 6\"\n",
      "             X        p_val   avg_diff pct.1 pct.2 p_val_adj p_val_adj_BH\n",
      "1      ZSCAN29 0.0007839939  0.3593846 0.587 0.436 0.4962681    0.2736160\n",
      "2        TFDP1 0.0008645057 -0.3653271 0.392 0.532 0.5472321    0.2736160\n",
      "3        NR1D1 0.0018914763  0.2604642 0.566 0.372 1.0000000    0.3991015\n",
      "4 MEIS1(var.2) 0.0028330849 -0.3153609 0.407 0.513 1.0000000    0.4483357\n",
      "5         GCM1 0.0058821990  0.2662221 0.582 0.423 1.0000000    0.7446864\n",
      "6        STAT3 0.0085225426  0.2391700 0.460 0.365 1.0000000    0.8477406\n"
     ]
    },
    {
     "name": "stderr",
     "output_type": "stream",
     "text": [
      "Saving 6.67 x 6.67 in image\n",
      "\n"
     ]
    },
    {
     "name": "stderr",
     "output_type": "stream",
     "text": [
      "Warning message:\n",
      "“`guides(<scale> = FALSE)` is deprecated. Please use `guides(<scale> = \"none\")` instead.”\n"
     ]
    },
    {
     "name": "stderr",
     "output_type": "stream",
     "text": [
      "Saving 6.67 x 6.67 in image\n",
      "\n"
     ]
    },
    {
     "name": "stderr",
     "output_type": "stream",
     "text": [
      "'magick' package is suggested to install to give better rasterization.\n",
      "\n",
      "Set `ht_opt$message = FALSE` to turn off this message.\n",
      "\n"
     ]
    },
    {
     "name": "stderr",
     "output_type": "stream",
     "text": [
      "Saving 6.67 x 6.67 in image\n",
      "\n"
     ]
    },
    {
     "name": "stderr",
     "output_type": "stream",
     "text": [
      "Saving 6.67 x 6.67 in image\n",
      "\n"
     ]
    },
    {
     "name": "stderr",
     "output_type": "stream",
     "text": [
      "Saving 6.67 x 6.67 in image\n",
      "\n"
     ]
    },
    {
     "name": "stdout",
     "output_type": "stream",
     "text": [
      "[1] \"donor\"\n",
      "[1] 2\n",
      "[1] 0 1\n",
      "[1] \"comparison # 1\"\n",
      "      X        p_val  avg_diff pct.1 pct.2 p_val_adj p_val_adj_BH\n",
      "1   EHF 0.0003704384 0.4841802 0.272 0.195 0.2344875    0.2344875\n",
      "2  ELF3 0.0013741298 0.4163765 0.361 0.234 0.8698242    0.3739145\n",
      "3 GABPA 0.0024404023 0.3881062 0.361 0.305 1.0000000    0.3739145\n",
      "4  ELF5 0.0025586338 0.3007351 0.331 0.247 1.0000000    0.3739145\n",
      "5  ELF1 0.0029569202 0.3487663 0.337 0.253 1.0000000    0.3739145\n",
      "6  SPIB 0.0035442136 0.3868249 0.142 0.136 1.0000000    0.3739145\n"
     ]
    },
    {
     "name": "stderr",
     "output_type": "stream",
     "text": [
      "Saving 6.67 x 6.67 in image\n",
      "\n"
     ]
    },
    {
     "name": "stderr",
     "output_type": "stream",
     "text": [
      "Warning message:\n",
      "“`guides(<scale> = FALSE)` is deprecated. Please use `guides(<scale> = \"none\")` instead.”\n"
     ]
    },
    {
     "name": "stderr",
     "output_type": "stream",
     "text": [
      "Saving 6.67 x 6.67 in image\n",
      "\n"
     ]
    },
    {
     "name": "stdout",
     "output_type": "stream",
     "text": [
      "[1] 0 3\n",
      "[1] \"comparison # 2\"\n",
      "      X        p_val   avg_diff pct.1 pct.2 p_val_adj p_val_adj_BH\n",
      "1 HOXA2 0.0009997639 -0.3684451 0.485 0.600 0.6328506    0.3996194\n",
      "2   EN1 0.0028897337 -0.3411747 0.391 0.587 1.0000000    0.3996194\n",
      "3  PDX1 0.0037878613 -0.3210795 0.491 0.593 1.0000000    0.3996194\n",
      "4  EMX1 0.0037878613 -0.3210795 0.491 0.593 1.0000000    0.3996194\n",
      "5 HOXB2 0.0037878613 -0.3210795 0.491 0.593 1.0000000    0.3996194\n",
      "6 HOXD3 0.0037878613 -0.3210795 0.491 0.593 1.0000000    0.3996194\n"
     ]
    },
    {
     "name": "stderr",
     "output_type": "stream",
     "text": [
      "Saving 6.67 x 6.67 in image\n",
      "\n"
     ]
    },
    {
     "name": "stderr",
     "output_type": "stream",
     "text": [
      "Warning message:\n",
      "“`guides(<scale> = FALSE)` is deprecated. Please use `guides(<scale> = \"none\")` instead.”\n"
     ]
    },
    {
     "name": "stderr",
     "output_type": "stream",
     "text": [
      "Saving 6.67 x 6.67 in image\n",
      "\n"
     ]
    },
    {
     "name": "stdout",
     "output_type": "stream",
     "text": [
      "[1] 0 5\n",
      "[1] \"comparison # 3\"\n",
      "                 X       p_val   avg_diff pct.1 pct.2 p_val_adj p_val_adj_BH\n",
      "1             ATF7 0.002945797 -0.3100909 0.391 0.629         1    0.7184906\n",
      "2             GBX1 0.003082566 -0.3601928 0.438 0.589         1    0.7184906\n",
      "3            NR4A1 0.003755800  0.3203172 0.580 0.427         1    0.7184906\n",
      "4 JUN::JUNB(var.2) 0.004540225 -0.3254757 0.426 0.581         1    0.7184906\n",
      "5              EN1 0.008643739 -0.3092227 0.391 0.581         1    0.8176108\n",
      "6             NFYB 0.008858722 -0.3096117 0.491 0.621         1    0.8176108\n"
     ]
    },
    {
     "name": "stderr",
     "output_type": "stream",
     "text": [
      "Saving 6.67 x 6.67 in image\n",
      "\n"
     ]
    },
    {
     "name": "stderr",
     "output_type": "stream",
     "text": [
      "Warning message in cor(x, y):\n",
      "“the standard deviation is zero”\n"
     ]
    },
    {
     "name": "stderr",
     "output_type": "stream",
     "text": [
      "Warning message in cor(x, y):\n",
      "“the standard deviation is zero”\n"
     ]
    },
    {
     "name": "stderr",
     "output_type": "stream",
     "text": [
      "Warning message:\n",
      "“`guides(<scale> = FALSE)` is deprecated. Please use `guides(<scale> = \"none\")` instead.”\n"
     ]
    },
    {
     "name": "stderr",
     "output_type": "stream",
     "text": [
      "Saving 6.67 x 6.67 in image\n",
      "\n"
     ]
    },
    {
     "name": "stdout",
     "output_type": "stream",
     "text": [
      "[1] 1 3\n",
      "[1] \"comparison # 4\"\n",
      "             X       p_val   avg_diff pct.1 pct.2 p_val_adj p_val_adj_BH\n",
      "1 NR2F6(var.3) 0.004578690 -0.3225479 0.429 0.587         1    0.9887192\n",
      "2        KLF13 0.005298744 -0.2807627 0.429 0.547         1    0.9887192\n",
      "3       NKX2-2 0.006781794  0.2929085 0.539 0.393         1    0.9887192\n",
      "4       NKX2-5 0.009137064  0.2752950 0.552 0.407         1    0.9887192\n",
      "5   NFIC::TLX1 0.011325443 -0.2620837 0.429 0.520         1    0.9887192\n",
      "6        ZNF16 0.012515833 -0.2299981 0.461 0.573         1    0.9887192\n"
     ]
    },
    {
     "name": "stderr",
     "output_type": "stream",
     "text": [
      "Saving 6.67 x 6.67 in image\n",
      "\n"
     ]
    },
    {
     "name": "stderr",
     "output_type": "stream",
     "text": [
      "Warning message in cor(x, y):\n",
      "“the standard deviation is zero”\n"
     ]
    },
    {
     "name": "stderr",
     "output_type": "stream",
     "text": [
      "Warning message in cor(x, y):\n",
      "“the standard deviation is zero”\n"
     ]
    },
    {
     "name": "stderr",
     "output_type": "stream",
     "text": [
      "Warning message:\n",
      "“`guides(<scale> = FALSE)` is deprecated. Please use `guides(<scale> = \"none\")` instead.”\n"
     ]
    },
    {
     "name": "stderr",
     "output_type": "stream",
     "text": [
      "Saving 6.67 x 6.67 in image\n",
      "\n"
     ]
    },
    {
     "name": "stdout",
     "output_type": "stream",
     "text": [
      "[1] 1 5\n",
      "[1] \"comparison # 5\"\n",
      "                X       p_val   avg_diff pct.1 pct.2 p_val_adj p_val_adj_BH\n",
      "1            PBX2 0.001784859 -0.4242721 0.474 0.661         1    0.8602411\n",
      "2            ELF5 0.006291833 -0.3195317 0.247 0.379         1    0.8602411\n",
      "3           ESRRA 0.010434650 -0.2551467 0.370 0.516         1    0.8602411\n",
      "4           NR4A1 0.010708252  0.2874452 0.597 0.427         1    0.8602411\n",
      "5 FOS::JUN(var.2) 0.012647362 -0.2950776 0.448 0.621         1    0.8602411\n",
      "6            MAFG 0.016779935 -0.2854255 0.435 0.629         1    0.8602411\n"
     ]
    },
    {
     "name": "stderr",
     "output_type": "stream",
     "text": [
      "Saving 6.67 x 6.67 in image\n",
      "\n"
     ]
    },
    {
     "name": "stderr",
     "output_type": "stream",
     "text": [
      "Warning message in cor(x, y):\n",
      "“the standard deviation is zero”\n"
     ]
    },
    {
     "name": "stderr",
     "output_type": "stream",
     "text": [
      "Warning message in cor(x, y):\n",
      "“the standard deviation is zero”\n"
     ]
    },
    {
     "name": "stderr",
     "output_type": "stream",
     "text": [
      "Warning message:\n",
      "“`guides(<scale> = FALSE)` is deprecated. Please use `guides(<scale> = \"none\")` instead.”\n"
     ]
    },
    {
     "name": "stderr",
     "output_type": "stream",
     "text": [
      "Saving 6.67 x 6.67 in image\n",
      "\n"
     ]
    },
    {
     "name": "stdout",
     "output_type": "stream",
     "text": [
      "[1] 3 5\n",
      "[1] \"comparison # 6\"\n",
      "            X      p_val   avg_diff pct.1 pct.2 p_val_adj p_val_adj_BH\n",
      "1       HOXA1 0.01294971  0.2841229 0.607 0.452         1            1\n",
      "2       HOXA5 0.01294971  0.2841229 0.607 0.452         1            1\n",
      "3       HOXB5 0.01294971  0.2841229 0.607 0.452         1            1\n",
      "4       TGIF2 0.01311782 -0.2892537 0.433 0.573         1            1\n",
      "5 NFIX(var.2) 0.01345986  0.2604415 0.580 0.476         1            1\n",
      "6       HOXA2 0.01398770  0.2426409 0.600 0.476         1            1\n"
     ]
    },
    {
     "name": "stderr",
     "output_type": "stream",
     "text": [
      "Saving 6.67 x 6.67 in image\n",
      "\n"
     ]
    },
    {
     "name": "stderr",
     "output_type": "stream",
     "text": [
      "Warning message in cor(x, y):\n",
      "“the standard deviation is zero”\n"
     ]
    },
    {
     "name": "stderr",
     "output_type": "stream",
     "text": [
      "Warning message in cor(x, y):\n",
      "“the standard deviation is zero”\n"
     ]
    },
    {
     "name": "stderr",
     "output_type": "stream",
     "text": [
      "Warning message:\n",
      "“`guides(<scale> = FALSE)` is deprecated. Please use `guides(<scale> = \"none\")` instead.”\n"
     ]
    },
    {
     "name": "stderr",
     "output_type": "stream",
     "text": [
      "Saving 6.67 x 6.67 in image\n",
      "\n"
     ]
    },
    {
     "name": "stderr",
     "output_type": "stream",
     "text": [
      "'magick' package is suggested to install to give better rasterization.\n",
      "\n",
      "Set `ht_opt$message = FALSE` to turn off this message.\n",
      "\n"
     ]
    },
    {
     "name": "stderr",
     "output_type": "stream",
     "text": [
      "Saving 6.67 x 6.67 in image\n",
      "\n"
     ]
    },
    {
     "name": "stderr",
     "output_type": "stream",
     "text": [
      "Saving 6.67 x 6.67 in image\n",
      "\n"
     ]
    },
    {
     "name": "stderr",
     "output_type": "stream",
     "text": [
      "Saving 6.67 x 6.67 in image\n",
      "\n"
     ]
    },
    {
     "name": "stdout",
     "output_type": "stream",
     "text": [
      "[1] \"donor\"\n",
      "[1] 3\n",
      "[1] 0 1\n",
      "[1] \"comparison # 1\"\n",
      "           X       p_val   avg_diff pct.1 pct.2 p_val_adj p_val_adj_BH\n",
      "1      FOSL2 0.001158759 -0.4295960 0.406 0.475 0.7334944    0.2084017\n",
      "2      BACH1 0.001760221 -0.3154320 0.418 0.477 1.0000000    0.2084017\n",
      "3       KLF2 0.001872923 -0.1865784 0.379 0.477 1.0000000    0.2084017\n",
      "4       ETV1 0.002096554 -0.1844741 0.465 0.576 1.0000000    0.2084017\n",
      "5        HLF 0.002215030  0.2713248 0.587 0.507 1.0000000    0.2084017\n",
      "6 FOSL1::JUN 0.002310856 -0.4140655 0.413 0.496 1.0000000    0.2084017\n"
     ]
    },
    {
     "name": "stderr",
     "output_type": "stream",
     "text": [
      "Saving 6.67 x 6.67 in image\n",
      "\n"
     ]
    },
    {
     "name": "stderr",
     "output_type": "stream",
     "text": [
      "Warning message:\n",
      "“`guides(<scale> = FALSE)` is deprecated. Please use `guides(<scale> = \"none\")` instead.”\n"
     ]
    },
    {
     "name": "stderr",
     "output_type": "stream",
     "text": [
      "Saving 6.67 x 6.67 in image\n",
      "\n"
     ]
    },
    {
     "name": "stdout",
     "output_type": "stream",
     "text": [
      "[1] 0 2\n",
      "[1] \"comparison # 2\"\n",
      "         X       p_val   avg_diff pct.1 pct.2 p_val_adj p_val_adj_BH\n",
      "1     ZIC1 0.002745615  0.2127385 0.504 0.383         1    0.9037568\n",
      "2     ETV1 0.005596801 -0.1991931 0.465 0.570         1    0.9037568\n",
      "3    FOXC2 0.006521714  0.2406884 0.496 0.425         1    0.9037568\n",
      "4  ZKSCAN5 0.007898764 -0.2540221 0.444 0.585         1    0.9037568\n",
      "5     ZIC3 0.010513793  0.2055460 0.492 0.394         1    0.9037568\n",
      "6 MAX::MYC 0.014772289  0.2129864 0.506 0.399         1    0.9037568\n"
     ]
    },
    {
     "name": "stderr",
     "output_type": "stream",
     "text": [
      "Saving 6.67 x 6.67 in image\n",
      "\n"
     ]
    },
    {
     "name": "stderr",
     "output_type": "stream",
     "text": [
      "Warning message in cor(x, y):\n",
      "“the standard deviation is zero”\n"
     ]
    },
    {
     "name": "stderr",
     "output_type": "stream",
     "text": [
      "Warning message in cor(x, y):\n",
      "“the standard deviation is zero”\n"
     ]
    },
    {
     "name": "stderr",
     "output_type": "stream",
     "text": [
      "Warning message:\n",
      "“`guides(<scale> = FALSE)` is deprecated. Please use `guides(<scale> = \"none\")` instead.”\n"
     ]
    },
    {
     "name": "stderr",
     "output_type": "stream",
     "text": [
      "Saving 6.67 x 6.67 in image\n",
      "\n"
     ]
    },
    {
     "name": "stdout",
     "output_type": "stream",
     "text": [
      "[1] 1 2\n",
      "[1] \"comparison # 3\"\n",
      "     X       p_val   avg_diff pct.1 pct.2 p_val_adj p_val_adj_BH\n",
      "1 KLF2 0.001338728  0.2484112 0.477 0.363 0.8474148    0.8474148\n",
      "2 TP63 0.007033228 -0.2427106 0.411 0.508 1.0000000    0.9731960\n",
      "3 RARA 0.007454362  0.2164690 0.517 0.425 1.0000000    0.9731960\n",
      "4 CUX2 0.015384325  0.2260326 0.520 0.420 1.0000000    0.9731960\n",
      "5 MAFK 0.019959037  0.2594303 0.499 0.446 1.0000000    0.9731960\n",
      "6  SRY 0.022502742 -0.1583555 0.432 0.544 1.0000000    0.9731960\n"
     ]
    },
    {
     "name": "stderr",
     "output_type": "stream",
     "text": [
      "Saving 6.67 x 6.67 in image\n",
      "\n"
     ]
    },
    {
     "name": "stderr",
     "output_type": "stream",
     "text": [
      "Warning message:\n",
      "“`guides(<scale> = FALSE)` is deprecated. Please use `guides(<scale> = \"none\")` instead.”\n"
     ]
    },
    {
     "name": "stderr",
     "output_type": "stream",
     "text": [
      "Saving 6.67 x 6.67 in image\n",
      "\n"
     ]
    },
    {
     "name": "stderr",
     "output_type": "stream",
     "text": [
      "The automatically generated colors map from the minus and plus 99^th of\n",
      "the absolute values in the matrix. There are outliers in the matrix\n",
      "whose patterns might be hidden by this color mapping. You can manually\n",
      "set the color to `col` argument.\n",
      "\n",
      "Use `suppressMessages()` to turn off this message.\n",
      "\n"
     ]
    },
    {
     "name": "stderr",
     "output_type": "stream",
     "text": [
      "'magick' package is suggested to install to give better rasterization.\n",
      "\n",
      "Set `ht_opt$message = FALSE` to turn off this message.\n",
      "\n"
     ]
    },
    {
     "name": "stderr",
     "output_type": "stream",
     "text": [
      "Saving 6.67 x 6.67 in image\n",
      "\n"
     ]
    },
    {
     "name": "stderr",
     "output_type": "stream",
     "text": [
      "Saving 6.67 x 6.67 in image\n",
      "\n"
     ]
    },
    {
     "name": "stderr",
     "output_type": "stream",
     "text": [
      "Saving 6.67 x 6.67 in image\n",
      "\n"
     ]
    }
   ],
   "source": [
    "all.names.sig <- c()\n",
    "DefaultAssay(se) <- \"chromvarnames\"\n",
    "for (d in 0:(n_donors-1)){\n",
    "    print('donor')\n",
    "    print(d)\n",
    "    curr.indir <- file.path(indir, paste0(\"donor\", d, \"_TF\"))\n",
    "    curr.outdir <- file.path(outdir, paste0(\"donor\", d, \"_TF\"))\n",
    "    dir.create(curr.outdir)\n",
    "    donor.large.clones <- large.clones %>% filter(donor==d)\n",
    "    if (dim(donor.large.clones)[1] < 2){\n",
    "        print('no donor')\n",
    "        next\n",
    "    }\n",
    "    clones.filt.ids <- sort(donor.large.clones$lineage)\n",
    "    se.filt <- subset(se, subset = (donor==d) & (lineage %in% donor.large.clones$lineage))\n",
    "    if (length(clones.filt.ids) < 2){\n",
    "        print(\"0 or 1 clone found. not running\")\n",
    "        next\n",
    "    }\n",
    "    pairs = combn(clones.filt.ids,2)\n",
    "    names.sig <- c()\n",
    "\n",
    "    for (i in 1:dim(pairs)[2]){\n",
    "        print(pairs[,i])\n",
    "        print(paste(\"comparison #\", i))\n",
    "        a = pairs[1,i]\n",
    "        b = pairs[2,i]\n",
    "        curr.tf.da <- read.csv(file.path(curr.indir, \n",
    "                                         paste0(\"clones_\",a,\"__\", b,\".DE.TF.csv\"))) %>% \n",
    "                      arrange(p_val)\n",
    "        print(head(curr.tf.da))\n",
    "        row.names(curr.tf.da) <- curr.tf.da$X  #sapply(curr.tf.da$X, function(m) {motifs@motif.names[[m]]})\n",
    "        #curr.tf.da\n",
    "        names.sig <- c(names.sig, head(row.names(curr.tf.da), n_top_genes))\n",
    "        all.names.sig <- c(all.names.sig, head(row.names(curr.tf.da), n_top_genes))\n",
    "        gally <- GGally::ggpairs(curr.tf.da[,c(\"p_val\", \"p_val_adj\", \"avg_diff\")], aes(alpha = 0.4))\n",
    "        ggsave(plot=gally, \n",
    "                   file=file.path(curr.outdir, paste0(\"clones_\",a,\"__\", b,\".DE.TF.pvalHist.top.png\")))\n",
    "        DefaultAssay(se.filt) <- \"ATAC\"\n",
    "        raw.ids <- names(Motifs(se.filt)@motif.names)\n",
    "        rownames(curr.tf.da) <- sapply((curr.tf.da$X), function(x){raw.ids[match(x, Motifs(se.filt)@motif.names)]})\n",
    "        m <- MotifPlot(\n",
    "          object = se.filt,\n",
    "          motifs = head(rownames(curr.tf.da)),\n",
    "          assay = 'ATAC'\n",
    "        )\n",
    "        ggsave(plot=m, \n",
    "                   file=file.path(curr.outdir, paste0(\"clones_\",a,\"__\", b,\".DE.TF.motif.top.png\")))\n",
    "\n",
    "\n",
    "        }\n",
    "    DefaultAssay(se.filt) <- \"chromvarnames\"\n",
    "    names.sig <- unique(names.sig)\n",
    "    \n",
    "\n",
    "    feat <- FeaturePlot(se.filt,  features=names.sig)\n",
    "\n",
    "    vln <- VlnPlot(se.filt,  features=names.sig, pt.size = 0)\n",
    "\n",
    "    dot <- DotPlot(se.filt, features = names.sig) + RotatedAxis()\n",
    "\n",
    "    # split by a vector\n",
    "    pdf((file.path(curr.outdir, \"heatmap.top.pdf\")), width=8,height=8)\n",
    "    \n",
    "    heat <- ComplexHeatmap::Heatmap(GetAssayData(se.filt)[names.sig,], \n",
    "            name = paste0(\"donor\",d),\n",
    "            column_split = se.filt[[]][\"lineage\"],\n",
    "            show_column_names = FALSE, use_raster=TRUE\n",
    "           )\n",
    "    ComplexHeatmap::draw(heat)\n",
    "    dev.off()\n",
    "    \n",
    "    ggsave(plot=feat, \n",
    "           file=file.path(curr.outdir, (\"embedFeat.top.png\")))\n",
    "    ggsave(plot=dot, \n",
    "           file=file.path(curr.outdir, (\"dot.top.png\")))\n",
    "    ggsave(plot=vln, \n",
    "           file=file.path(curr.outdir, (\"violin.top.png\")))\n",
    "    }\n",
    "all.names.sig <- unique(all.names.sig)"
   ]
  },
  {
   "cell_type": "markdown",
   "id": "0bb45042",
   "metadata": {
    "papermill": {
     "duration": 0.175035,
     "end_time": "2021-12-03T21:34:21.240876",
     "exception": false,
     "start_time": "2021-12-03T21:34:21.065841",
     "status": "completed"
    },
    "tags": []
   },
   "source": [
    "## Dotplot for all donors"
   ]
  },
  {
   "cell_type": "code",
   "execution_count": 13,
   "id": "4219fb55",
   "metadata": {
    "execution": {
     "iopub.execute_input": "2021-12-03T21:34:21.568637Z",
     "iopub.status.busy": "2021-12-03T21:34:21.566008Z",
     "iopub.status.idle": "2021-12-03T21:34:21.881612Z",
     "shell.execute_reply": "2021-12-03T21:34:21.882007Z"
    },
    "papermill": {
     "duration": 0.47486,
     "end_time": "2021-12-03T21:34:21.882189",
     "exception": false,
     "start_time": "2021-12-03T21:34:21.407329",
     "status": "completed"
    },
    "tags": []
   },
   "outputs": [
    {
     "data": {
      "text/html": [
       "<strong>png:</strong> 2"
      ],
      "text/latex": [
       "\\textbf{png:} 2"
      ],
      "text/markdown": [
       "**png:** 2"
      ],
      "text/plain": [
       "png \n",
       "  2 "
      ]
     },
     "metadata": {},
     "output_type": "display_data"
    }
   ],
   "source": [
    "pdf(file = file.path(outdir, \"./dotplot.allDonors.top.pdf\"), width = 8, height = 8)\n",
    "dot <- DotPlot(se, features = all.names.sig, group.by=\"donor\") + RotatedAxis()\n",
    "dot\n",
    "dev.off()"
   ]
  },
  {
   "cell_type": "code",
   "execution_count": 14,
   "id": "337318ad",
   "metadata": {
    "execution": {
     "iopub.execute_input": "2021-12-03T21:34:22.209576Z",
     "iopub.status.busy": "2021-12-03T21:34:22.206900Z",
     "iopub.status.idle": "2021-12-03T21:34:22.597136Z",
     "shell.execute_reply": "2021-12-03T21:34:22.597851Z"
    },
    "papermill": {
     "duration": 0.554242,
     "end_time": "2021-12-03T21:34:22.598081",
     "exception": false,
     "start_time": "2021-12-03T21:34:22.043839",
     "status": "completed"
    },
    "tags": []
   },
   "outputs": [
    {
     "data": {
      "text/html": [
       "<strong>png:</strong> 2"
      ],
      "text/latex": [
       "\\textbf{png:} 2"
      ],
      "text/markdown": [
       "**png:** 2"
      ],
      "text/plain": [
       "png \n",
       "  2 "
      ]
     },
     "metadata": {},
     "output_type": "display_data"
    }
   ],
   "source": [
    "pdf(file = file.path(outdir, \"./dotplot.allDonors.clones.top.pdf\"), width = 8, height = 8)\n",
    "dot <- DotPlot(se, features = all.names.sig, group.by=\"name\", cluster.idents=T) + RotatedAxis()\n",
    "dot\n",
    "dev.off()"
   ]
  },
  {
   "cell_type": "markdown",
   "id": "b78aba1f",
   "metadata": {
    "papermill": {
     "duration": 0.164482,
     "end_time": "2021-12-03T21:34:22.957299",
     "exception": false,
     "start_time": "2021-12-03T21:34:22.792817",
     "status": "completed"
    },
    "tags": []
   },
   "source": [
    "## Heatmap for all donors"
   ]
  },
  {
   "cell_type": "code",
   "execution_count": 15,
   "id": "ca052607",
   "metadata": {
    "execution": {
     "iopub.execute_input": "2021-12-03T21:34:23.292084Z",
     "iopub.status.busy": "2021-12-03T21:34:23.289538Z",
     "iopub.status.idle": "2021-12-03T21:34:28.066637Z",
     "shell.execute_reply": "2021-12-03T21:34:28.067578Z"
    },
    "papermill": {
     "duration": 4.945533,
     "end_time": "2021-12-03T21:34:28.067964",
     "exception": false,
     "start_time": "2021-12-03T21:34:23.122431",
     "status": "completed"
    },
    "scrolled": false,
    "tags": []
   },
   "outputs": [
    {
     "name": "stderr",
     "output_type": "stream",
     "text": [
      "The automatically generated colors map from the minus and plus 99^th of\n",
      "the absolute values in the matrix. There are outliers in the matrix\n",
      "whose patterns might be hidden by this color mapping. You can manually\n",
      "set the color to `col` argument.\n",
      "\n",
      "Use `suppressMessages()` to turn off this message.\n",
      "\n"
     ]
    },
    {
     "name": "stderr",
     "output_type": "stream",
     "text": [
      "`use_raster` is automatically set to TRUE for a matrix with more than\n",
      "2000 columns You can control `use_raster` argument by explicitly\n",
      "setting TRUE/FALSE to it.\n",
      "\n",
      "Set `ht_opt$message = FALSE` to turn off this message.\n",
      "\n"
     ]
    },
    {
     "name": "stderr",
     "output_type": "stream",
     "text": [
      "'magick' package is suggested to install to give better rasterization.\n",
      "\n",
      "Set `ht_opt$message = FALSE` to turn off this message.\n",
      "\n"
     ]
    },
    {
     "data": {
      "text/html": [
       "<strong>png:</strong> 2"
      ],
      "text/latex": [
       "\\textbf{png:} 2"
      ],
      "text/markdown": [
       "**png:** 2"
      ],
      "text/plain": [
       "png \n",
       "  2 "
      ]
     },
     "metadata": {},
     "output_type": "display_data"
    }
   ],
   "source": [
    "pdf((file.path(outdir, \"heatmap.allDonors.top.pdf\")), width=8,height=8)\n",
    "heat <- ComplexHeatmap::Heatmap(GetAssayData(se)[names.sig,], \n",
    "        top_annotation = HeatmapAnnotation(donor=as.character(se$donor)),\n",
    "        show_column_names = FALSE, \n",
    "        column_split = se[[\"name\"]],\n",
    "       )\n",
    "\n",
    "ComplexHeatmap::draw(heat)\n",
    "dev.off()"
   ]
  },
  {
   "cell_type": "code",
   "execution_count": 16,
   "id": "ffb06010",
   "metadata": {
    "execution": {
     "iopub.execute_input": "2021-12-03T21:34:28.441101Z",
     "iopub.status.busy": "2021-12-03T21:34:28.438115Z",
     "iopub.status.idle": "2021-12-03T21:34:28.453608Z",
     "shell.execute_reply": "2021-12-03T21:34:28.452302Z"
    },
    "papermill": {
     "duration": 0.181545,
     "end_time": "2021-12-03T21:34:28.453817",
     "exception": false,
     "start_time": "2021-12-03T21:34:28.272272",
     "status": "completed"
    },
    "scrolled": false,
    "tags": []
   },
   "outputs": [],
   "source": [
    "# pdf((file.path(outdir, \"heatmap.allDonors.anno.top.pdf\")), width=8,height=8)\n",
    "# heat <- ComplexHeatmap::Heatmap(GetAssayData(se)[all.names.sig,], \n",
    "#         top_annotation = HeatmapAnnotation(donor=as.character(se$donor), clone=as.character(se$lineage), \n",
    "#                                            depth=anno_barplot(log10(se$peak_region_fragments))),\n",
    "#         show_column_names = FALSE\n",
    "#        )\n",
    "\n",
    "# ComplexHeatmap::draw(heat)\n",
    "# dev.off()"
   ]
  },
  {
   "cell_type": "code",
   "execution_count": 17,
   "id": "a8b61392",
   "metadata": {
    "execution": {
     "iopub.execute_input": "2021-12-03T21:34:28.786986Z",
     "iopub.status.busy": "2021-12-03T21:34:28.784308Z",
     "iopub.status.idle": "2021-12-03T21:34:34.111714Z",
     "shell.execute_reply": "2021-12-03T21:34:34.112650Z"
    },
    "papermill": {
     "duration": 5.493985,
     "end_time": "2021-12-03T21:34:34.112946",
     "exception": false,
     "start_time": "2021-12-03T21:34:28.618961",
     "status": "completed"
    },
    "tags": []
   },
   "outputs": [
    {
     "name": "stderr",
     "output_type": "stream",
     "text": [
      "The automatically generated colors map from the minus and plus 99^th of\n",
      "the absolute values in the matrix. There are outliers in the matrix\n",
      "whose patterns might be hidden by this color mapping. You can manually\n",
      "set the color to `col` argument.\n",
      "\n",
      "Use `suppressMessages()` to turn off this message.\n",
      "\n"
     ]
    },
    {
     "name": "stderr",
     "output_type": "stream",
     "text": [
      "`use_raster` is automatically set to TRUE for a matrix with more than\n",
      "2000 columns You can control `use_raster` argument by explicitly\n",
      "setting TRUE/FALSE to it.\n",
      "\n",
      "Set `ht_opt$message = FALSE` to turn off this message.\n",
      "\n"
     ]
    },
    {
     "name": "stderr",
     "output_type": "stream",
     "text": [
      "'magick' package is suggested to install to give better rasterization.\n",
      "\n",
      "Set `ht_opt$message = FALSE` to turn off this message.\n",
      "\n"
     ]
    },
    {
     "data": {
      "text/html": [
       "<strong>png:</strong> 2"
      ],
      "text/latex": [
       "\\textbf{png:} 2"
      ],
      "text/markdown": [
       "**png:** 2"
      ],
      "text/plain": [
       "png \n",
       "  2 "
      ]
     },
     "metadata": {},
     "output_type": "display_data"
    }
   ],
   "source": [
    "pdf((file.path(outdir, \"heatmap.allDonors.split.top.pdf\")), width=8,height=8)\n",
    "heat <- ComplexHeatmap::Heatmap(GetAssayData(se)[all.names.sig,], \n",
    "        top_annotation = HeatmapAnnotation(donor=as.character(se$donor)),\n",
    "        show_column_names = FALSE, \n",
    "        column_split = se[[\"name\"]],\n",
    "       )\n",
    "\n",
    "ComplexHeatmap::draw(heat)\n",
    "dev.off()"
   ]
  },
  {
   "cell_type": "code",
   "execution_count": null,
   "id": "cdc2fbd4",
   "metadata": {
    "papermill": {
     "duration": 0.173648,
     "end_time": "2021-12-03T21:34:34.491700",
     "exception": false,
     "start_time": "2021-12-03T21:34:34.318052",
     "status": "completed"
    },
    "tags": []
   },
   "outputs": [],
   "source": []
  },
  {
   "cell_type": "code",
   "execution_count": null,
   "id": "2d955085",
   "metadata": {
    "papermill": {
     "duration": 0.176593,
     "end_time": "2021-12-03T21:34:34.844017",
     "exception": false,
     "start_time": "2021-12-03T21:34:34.667424",
     "status": "completed"
    },
    "tags": []
   },
   "outputs": [],
   "source": []
  }
 ],
 "metadata": {
  "celltoolbar": "Tags",
  "kernelspec": {
   "display_name": "R",
   "language": "R",
   "name": "ir"
  },
  "language_info": {
   "codemirror_mode": "r",
   "file_extension": ".r",
   "mimetype": "text/x-r-source",
   "name": "R",
   "pygments_lexer": "r",
   "version": "4.1.1"
  },
  "papermill": {
   "default_parameters": {},
   "duration": 155.829711,
   "end_time": "2021-12-03T21:34:35.333088",
   "environment_variables": {},
   "exception": null,
   "input_path": "/mnt/md0/isshamie/Projects/Mito_Trace/R_scripts/annotation_clones/DE_clones.TF.summaryPlot.ipynb",
   "output_path": "/data/Mito_Trace/output/pipeline/cd34norm/MTblacklist/data/merged/MT/cellr_True/numread_200/filters/minC10_minR50_topN0_hetT0.001_hetC10_hetCount5_bq20/mgatk/vireoIn/clones/variants_init/knn/kparam_3/concat/annotation_clones/DE_large/minPct_0__logThresh_0/cdf_thresh__0.3/output_Summary.ipynb",
   "parameters": {
    "cdf_thresh": 0.3,
    "indir": "/data/Mito_Trace/output/pipeline/cd34norm/MTblacklist/data/merged/MT/cellr_True/numread_200/filters/minC10_minR50_topN0_hetT0.001_hetC10_hetCount5_bq20/mgatk/vireoIn/clones/variants_init/knn/kparam_3/concat/annotation_clones/DE_large/minPct_0__logThresh_0",
    "n_donors": 4,
    "se_indir": "/data/Mito_Trace/output/pipeline/cd34norm/MTblacklist/data/merged/MT/cellr_True/numread_200/filters/minC10_minR50_topN0_hetT0.001_hetC10_hetCount5_bq20/mgatk/vireoIn/clones/variants_init/knn/kparam_3/concat/annotation_clones/DE_large"
   },
   "start_time": "2021-12-03T21:31:59.503377",
   "version": "2.3.3"
  }
 },
 "nbformat": 4,
 "nbformat_minor": 5
}