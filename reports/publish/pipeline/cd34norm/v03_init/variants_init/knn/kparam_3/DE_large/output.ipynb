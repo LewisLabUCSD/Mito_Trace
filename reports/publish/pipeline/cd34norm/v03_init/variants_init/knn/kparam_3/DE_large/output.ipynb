{
 "cells": [
  {
   "cell_type": "code",
   "execution_count": 1,
   "id": "4246cc89",
   "metadata": {
    "execution": {
     "iopub.execute_input": "2021-12-03T20:50:42.012433Z",
     "iopub.status.busy": "2021-12-03T20:50:42.008689Z",
     "iopub.status.idle": "2021-12-03T20:50:42.065989Z",
     "shell.execute_reply": "2021-12-03T20:50:42.064547Z"
    },
    "papermill": {
     "duration": 0.212752,
     "end_time": "2021-12-03T20:50:42.066290",
     "exception": false,
     "start_time": "2021-12-03T20:50:41.853538",
     "status": "completed"
    },
    "tags": [
     "parameters"
    ]
   },
   "outputs": [],
   "source": [
    "# se_f = \"~/data/Projects/Mito_Trace/output/pipeline/cd34norm/MTblacklist/data/merged/MT/cellr_True/numread_200/filters/minC10_minR50_topN0_hetT0.001_hetC10_hetCount5_bq20/mgatk/vireoIn/clones/variants_mgatkdonor/vireo/nclones20/enrichment/annotation_clones/SE.rds\"\n",
    "# outdir = \"~/data/Projects/Mito_Trace/output/pipeline/cd34norm/MTblacklist/data/merged/MT/cellr_True/numread_200/filters/minC10_minR50_topN0_hetT0.001_hetC10_hetCount5_bq20/mgatk/vireoIn/clones/variants_mgatkdonor/vireo/nclones20/enrichment/annotation_clones/DE_large\"\n",
    "# n_donors = 4\n",
    "\n",
    "se_f = \"/home/isshamie/data/Projects/Mito_Trace/output/pipeline/CHIP_nameFix_april08_2021/MTblacklist/data/merged/MT/cellr_True/numread_200/filters/minC10_minR50_topN0_hetT0.001_hetC10_hetCount5_bq20/mgatk/vireoIn/clones/variants_mgatkdonor/vireo/nclones20/annotation_clones/SE.rds\"\n",
    "outdir = \"/home/isshamie/data/Projects/Mito_Trace/output/pipeline/CHIP_nameFix_april08_2021/MTblacklist/data/merged/MT/cellr_True/numread_200/filters/minC10_minR50_topN0_hetT0.001_hetC10_hetCount5_bq20/mgatk/vireoIn/clones/variants_mgatkdonor/vireo/nclones20/annotation_clones/DE_large\"\n",
    "n_donors = 5\n",
    "\n",
    "\n",
    "\n",
    "# If more than 2 clones pass the cdf_thresh, use that, o.w use n_top_clones\n",
    "cdf_thresh = 0.5\n",
    "n_top_clones = 3\n",
    "\n",
    "min_pct = 0.01\n",
    "use_latent_vars = FALSE\n",
    "genome = \"/data/Mito_Trace/data/external/GRCh38_MT_blacklist/fasta/genome.fa\"\n",
    "cores=16\n",
    "utils_script <- \"/data/Mito_Trace/R_scripts/seurat_utils.R\""
   ]
  },
  {
   "cell_type": "code",
   "execution_count": 2,
   "id": "7394ef38",
   "metadata": {
    "execution": {
     "iopub.execute_input": "2021-12-03T20:50:42.258698Z",
     "iopub.status.busy": "2021-12-03T20:50:42.201893Z",
     "iopub.status.idle": "2021-12-03T20:50:42.279402Z",
     "shell.execute_reply": "2021-12-03T20:50:42.277859Z"
    },
    "papermill": {
     "duration": 0.145479,
     "end_time": "2021-12-03T20:50:42.279715",
     "exception": false,
     "start_time": "2021-12-03T20:50:42.134236",
     "status": "completed"
    },
    "tags": [
     "injected-parameters"
    ]
   },
   "outputs": [],
   "source": [
    "# Parameters\n",
    "se_f = \"/data/Mito_Trace/output/pipeline/cd34norm/MTblacklist/data/merged/MT/cellr_True/numread_200/filters/minC10_minR50_topN0_hetT0.001_hetC10_hetCount5_bq20/mgatk/vireoIn/clones/variants_init/knn/kparam_3/concat/annotation_clones/SE.rds\"\n",
    "outdir = \"/data/Mito_Trace/output/pipeline/cd34norm/MTblacklist/data/merged/MT/cellr_True/numread_200/filters/minC10_minR50_topN0_hetT0.001_hetC10_hetCount5_bq20/mgatk/vireoIn/clones/variants_init/knn/kparam_3/concat/annotation_clones/DE_large\"\n",
    "n_donors = 4\n"
   ]
  },
  {
   "cell_type": "code",
   "execution_count": 3,
   "id": "e72d3a57",
   "metadata": {
    "execution": {
     "iopub.execute_input": "2021-12-03T20:50:42.425323Z",
     "iopub.status.busy": "2021-12-03T20:50:42.423312Z",
     "iopub.status.idle": "2021-12-03T20:50:42.442419Z",
     "shell.execute_reply": "2021-12-03T20:50:42.436478Z"
    },
    "papermill": {
     "duration": 0.098319,
     "end_time": "2021-12-03T20:50:42.442852",
     "exception": false,
     "start_time": "2021-12-03T20:50:42.344533",
     "status": "completed"
    },
    "tags": []
   },
   "outputs": [],
   "source": [
    "if (use_latent_vars){\n",
    "    latent.vars = \"peaks_depth\"\n",
    "}else{\n",
    "    latent.vars=NULL\n",
    "}"
   ]
  },
  {
   "cell_type": "code",
   "execution_count": 4,
   "id": "b44903ca",
   "metadata": {
    "execution": {
     "iopub.execute_input": "2021-12-03T20:50:42.576445Z",
     "iopub.status.busy": "2021-12-03T20:50:42.573742Z",
     "iopub.status.idle": "2021-12-03T20:50:49.052387Z",
     "shell.execute_reply": "2021-12-03T20:50:49.051345Z"
    },
    "papermill": {
     "duration": 6.544751,
     "end_time": "2021-12-03T20:50:49.052605",
     "exception": false,
     "start_time": "2021-12-03T20:50:42.507854",
     "status": "completed"
    },
    "tags": []
   },
   "outputs": [
    {
     "name": "stderr",
     "output_type": "stream",
     "text": [
      "Attaching SeuratObject\n",
      "\n"
     ]
    }
   ],
   "source": [
    "source(utils_script)"
   ]
  },
  {
   "cell_type": "code",
   "execution_count": 5,
   "id": "5d9ca2e3",
   "metadata": {
    "execution": {
     "iopub.execute_input": "2021-12-03T20:50:49.186671Z",
     "iopub.status.busy": "2021-12-03T20:50:49.183041Z",
     "iopub.status.idle": "2021-12-03T20:50:49.539203Z",
     "shell.execute_reply": "2021-12-03T20:50:49.538003Z"
    },
    "papermill": {
     "duration": 0.422398,
     "end_time": "2021-12-03T20:50:49.539447",
     "exception": false,
     "start_time": "2021-12-03T20:50:49.117049",
     "status": "completed"
    },
    "scrolled": true,
    "tags": []
   },
   "outputs": [
    {
     "name": "stderr",
     "output_type": "stream",
     "text": [
      "\n",
      "Attaching package: ‘cowplot’\n",
      "\n",
      "\n"
     ]
    },
    {
     "name": "stderr",
     "output_type": "stream",
     "text": [
      "The following object is masked from ‘package:patchwork’:\n",
      "\n",
      "    align_plots\n",
      "\n",
      "\n"
     ]
    },
    {
     "name": "stderr",
     "output_type": "stream",
     "text": [
      "\n",
      "Attaching package: ‘dplyr’\n",
      "\n",
      "\n"
     ]
    },
    {
     "name": "stderr",
     "output_type": "stream",
     "text": [
      "The following objects are masked from ‘package:stats’:\n",
      "\n",
      "    filter, lag\n",
      "\n",
      "\n"
     ]
    },
    {
     "name": "stderr",
     "output_type": "stream",
     "text": [
      "The following objects are masked from ‘package:base’:\n",
      "\n",
      "    intersect, setdiff, setequal, union\n",
      "\n",
      "\n"
     ]
    },
    {
     "name": "stderr",
     "output_type": "stream",
     "text": [
      "Warning message:\n",
      "“Strategy 'multiprocess' is deprecated in future (>= 1.20.0). Instead, explicitly specify either 'multisession' or 'multicore'. In the current R session, 'multiprocess' equals 'multicore'.”\n"
     ]
    },
    {
     "name": "stderr",
     "output_type": "stream",
     "text": [
      "Loading required package: grid\n",
      "\n"
     ]
    },
    {
     "name": "stderr",
     "output_type": "stream",
     "text": [
      "========================================\n",
      "ComplexHeatmap version 2.10.0\n",
      "Bioconductor page: http://bioconductor.org/packages/ComplexHeatmap/\n",
      "Github page: https://github.com/jokergoo/ComplexHeatmap\n",
      "Documentation: http://jokergoo.github.io/ComplexHeatmap-reference\n",
      "\n",
      "If you use it in published research, please cite:\n",
      "Gu, Z. Complex heatmaps reveal patterns and correlations in multidimensional \n",
      "  genomic data. Bioinformatics 2016.\n",
      "\n",
      "The new InteractiveComplexHeatmap package can directly export static \n",
      "complex heatmaps into an interactive Shiny app with zero effort. Have a try!\n",
      "\n",
      "This message can be suppressed by:\n",
      "  suppressPackageStartupMessages(library(ComplexHeatmap))\n",
      "========================================\n",
      "\n",
      "\n"
     ]
    }
   ],
   "source": [
    "library(Seurat)\n",
    "library(Signac)\n",
    "library(ggplot2)\n",
    "library(patchwork)\n",
    "set.seed(1234)\n",
    "library(magrittr)\n",
    "library(cowplot)\n",
    "library(metap)\n",
    "library(dplyr)\n",
    "library(future)\n",
    "plan(\"multiprocess\", workers = cores)\n",
    "#options(future.globals.maxSize = 50000 * 1024^2) # for 50 Gb RAM\n",
    "options(future.globals.maxSize = 8000 * 1024^2)\n",
    "library(\"ComplexHeatmap\")"
   ]
  },
  {
   "cell_type": "markdown",
   "id": "e8a7d7b5",
   "metadata": {
    "papermill": {
     "duration": 0.067654,
     "end_time": "2021-12-03T20:50:49.675713",
     "exception": false,
     "start_time": "2021-12-03T20:50:49.608059",
     "status": "completed"
    },
    "tags": []
   },
   "source": [
    "## Import seurat object"
   ]
  },
  {
   "cell_type": "code",
   "execution_count": 6,
   "id": "2ef3a56c",
   "metadata": {
    "execution": {
     "iopub.execute_input": "2021-12-03T20:50:49.819699Z",
     "iopub.status.busy": "2021-12-03T20:50:49.816976Z",
     "iopub.status.idle": "2021-12-03T21:04:32.253855Z",
     "shell.execute_reply": "2021-12-03T21:04:32.252776Z"
    },
    "papermill": {
     "duration": 822.510017,
     "end_time": "2021-12-03T21:04:32.254074",
     "exception": false,
     "start_time": "2021-12-03T20:50:49.744057",
     "status": "completed"
    },
    "scrolled": true,
    "tags": []
   },
   "outputs": [
    {
     "name": "stdout",
     "output_type": "stream",
     "text": [
      "[1] \"Running chromvar\"\n"
     ]
    },
    {
     "name": "stderr",
     "output_type": "stream",
     "text": [
      "\n",
      "\n"
     ]
    },
    {
     "name": "stderr",
     "output_type": "stream",
     "text": [
      "Loading required package: BSgenome\n",
      "\n"
     ]
    },
    {
     "name": "stderr",
     "output_type": "stream",
     "text": [
      "Loading required package: BiocGenerics\n",
      "\n"
     ]
    },
    {
     "name": "stderr",
     "output_type": "stream",
     "text": [
      "\n",
      "Attaching package: ‘BiocGenerics’\n",
      "\n",
      "\n"
     ]
    },
    {
     "name": "stderr",
     "output_type": "stream",
     "text": [
      "The following objects are masked from ‘package:dplyr’:\n",
      "\n",
      "    combine, intersect, setdiff, union\n",
      "\n",
      "\n"
     ]
    },
    {
     "name": "stderr",
     "output_type": "stream",
     "text": [
      "The following objects are masked from ‘package:stats’:\n",
      "\n",
      "    IQR, mad, sd, var, xtabs\n",
      "\n",
      "\n"
     ]
    },
    {
     "name": "stderr",
     "output_type": "stream",
     "text": [
      "The following objects are masked from ‘package:base’:\n",
      "\n",
      "    anyDuplicated, append, as.data.frame, basename, cbind, colnames,\n",
      "    dirname, do.call, duplicated, eval, evalq, Filter, Find, get, grep,\n",
      "    grepl, intersect, is.unsorted, lapply, Map, mapply, match, mget,\n",
      "    order, paste, pmax, pmax.int, pmin, pmin.int, Position, rank,\n",
      "    rbind, Reduce, rownames, sapply, setdiff, sort, table, tapply,\n",
      "    union, unique, unsplit, which.max, which.min\n",
      "\n",
      "\n"
     ]
    },
    {
     "name": "stderr",
     "output_type": "stream",
     "text": [
      "Loading required package: S4Vectors\n",
      "\n"
     ]
    },
    {
     "name": "stderr",
     "output_type": "stream",
     "text": [
      "Loading required package: stats4\n",
      "\n"
     ]
    },
    {
     "name": "stderr",
     "output_type": "stream",
     "text": [
      "\n",
      "Attaching package: ‘S4Vectors’\n",
      "\n",
      "\n"
     ]
    },
    {
     "name": "stderr",
     "output_type": "stream",
     "text": [
      "The following object is masked from ‘package:future’:\n",
      "\n",
      "    values\n",
      "\n",
      "\n"
     ]
    },
    {
     "name": "stderr",
     "output_type": "stream",
     "text": [
      "The following objects are masked from ‘package:dplyr’:\n",
      "\n",
      "    first, rename\n",
      "\n",
      "\n"
     ]
    },
    {
     "name": "stderr",
     "output_type": "stream",
     "text": [
      "The following objects are masked from ‘package:base’:\n",
      "\n",
      "    expand.grid, I, unname\n",
      "\n",
      "\n"
     ]
    },
    {
     "name": "stderr",
     "output_type": "stream",
     "text": [
      "Loading required package: IRanges\n",
      "\n"
     ]
    },
    {
     "name": "stderr",
     "output_type": "stream",
     "text": [
      "\n",
      "Attaching package: ‘IRanges’\n",
      "\n",
      "\n"
     ]
    },
    {
     "name": "stderr",
     "output_type": "stream",
     "text": [
      "The following objects are masked from ‘package:dplyr’:\n",
      "\n",
      "    collapse, desc, slice\n",
      "\n",
      "\n"
     ]
    },
    {
     "name": "stderr",
     "output_type": "stream",
     "text": [
      "Loading required package: GenomeInfoDb\n",
      "\n"
     ]
    },
    {
     "name": "stderr",
     "output_type": "stream",
     "text": [
      "Loading required package: GenomicRanges\n",
      "\n"
     ]
    },
    {
     "name": "stderr",
     "output_type": "stream",
     "text": [
      "Loading required package: Biostrings\n",
      "\n"
     ]
    },
    {
     "name": "stderr",
     "output_type": "stream",
     "text": [
      "Loading required package: XVector\n",
      "\n"
     ]
    },
    {
     "name": "stderr",
     "output_type": "stream",
     "text": [
      "\n",
      "Attaching package: ‘Biostrings’\n",
      "\n",
      "\n"
     ]
    },
    {
     "name": "stderr",
     "output_type": "stream",
     "text": [
      "The following object is masked from ‘package:grid’:\n",
      "\n",
      "    pattern\n",
      "\n",
      "\n"
     ]
    },
    {
     "name": "stderr",
     "output_type": "stream",
     "text": [
      "The following object is masked from ‘package:base’:\n",
      "\n",
      "    strsplit\n",
      "\n",
      "\n"
     ]
    },
    {
     "name": "stderr",
     "output_type": "stream",
     "text": [
      "Loading required package: rtracklayer\n",
      "\n"
     ]
    },
    {
     "name": "stderr",
     "output_type": "stream",
     "text": [
      "Building motif matrix\n",
      "\n"
     ]
    },
    {
     "name": "stderr",
     "output_type": "stream",
     "text": [
      "Finding motif positions\n",
      "\n"
     ]
    },
    {
     "name": "stderr",
     "output_type": "stream",
     "text": [
      "Creating Motif object\n",
      "\n"
     ]
    },
    {
     "name": "stderr",
     "output_type": "stream",
     "text": [
      "Computing GC bias per region\n",
      "\n"
     ]
    },
    {
     "name": "stderr",
     "output_type": "stream",
     "text": [
      "Selecting background regions\n",
      "\n"
     ]
    },
    {
     "name": "stderr",
     "output_type": "stream",
     "text": [
      "Computing deviations from background\n",
      "\n"
     ]
    },
    {
     "name": "stderr",
     "output_type": "stream",
     "text": [
      "Constructing chromVAR assay\n",
      "\n"
     ]
    }
   ],
   "source": [
    "# if (file.exists(file.path(outdir, \"se.chromvar.rds\"))){\n",
    "#     print(\"Loading se with chromvar\")\n",
    "#     se <- readRDS(file=file.path(outdir, \"se.chromvar.rds\"))    \n",
    "# }else{\n",
    "#     print(\"Running chromvar\")\n",
    "#     se = readRDS(se_f)\n",
    "# #     source(\"~/data/Projects/Mito_Trace/R_scripts/addPWM.R\")\n",
    "#     se <- get.pwm(se, genome=genome)\n",
    "#     saveRDS(object=se, file=file.path(outdir, \"se.chromvar.rds\"))    \n",
    "# }\n",
    "\n",
    "print(\"Running chromvar\")\n",
    "se = readRDS(se_f)\n",
    "se <- get.pwm(se, genome=genome)\n",
    "saveRDS(object=se, file=file.path(outdir, \"se.chromvar.rds\"))\n",
    "\n",
    "\n",
    "# cells.meta = se[[]]\n",
    "# cells.meta$name = paste0(cells.meta$donor,\"_\", cells.meta$lineage)\n",
    "# cells.meta$name = factor(cells.meta$name)\n",
    "# cells.meta\n",
    "\n",
    "\n",
    "# se <- AddMetaData(\n",
    "#   object = se,\n",
    "#   metadata = cells.meta[\"name\"],\n",
    "#   col.name = \"name\"\n",
    "# )\n",
    "# se[[]]"
   ]
  },
  {
   "cell_type": "code",
   "execution_count": 7,
   "id": "3f8f8c43",
   "metadata": {
    "execution": {
     "iopub.execute_input": "2021-12-03T21:04:32.465521Z",
     "iopub.status.busy": "2021-12-03T21:04:32.462113Z",
     "iopub.status.idle": "2021-12-03T21:04:32.632016Z",
     "shell.execute_reply": "2021-12-03T21:04:32.632502Z"
    },
    "papermill": {
     "duration": 0.277837,
     "end_time": "2021-12-03T21:04:32.632687",
     "exception": false,
     "start_time": "2021-12-03T21:04:32.354850",
     "status": "completed"
    },
    "scrolled": true,
    "tags": []
   },
   "outputs": [
    {
     "name": "stderr",
     "output_type": "stream",
     "text": [
      "`summarise()` has grouped output by 'condition', 'donor', 'lineage'. You can override using the `.groups` argument.\n",
      "\n"
     ]
    },
    {
     "data": {
      "text/html": [
       "<table class=\"dataframe\">\n",
       "<caption>A grouped_df: 355 × 5</caption>\n",
       "<thead>\n",
       "\t<tr><th scope=col>condition</th><th scope=col>donor</th><th scope=col>lineage</th><th scope=col>name</th><th scope=col>size</th></tr>\n",
       "\t<tr><th scope=col>&lt;fct&gt;</th><th scope=col>&lt;fct&gt;</th><th scope=col>&lt;fct&gt;</th><th scope=col>&lt;fct&gt;</th><th scope=col>&lt;int&gt;</th></tr>\n",
       "</thead>\n",
       "<tbody>\n",
       "\t<tr><td>Control</td><td>0</td><td>0 </td><td>0_0 </td><td>192</td></tr>\n",
       "\t<tr><td>Control</td><td>0</td><td>1 </td><td>0_1 </td><td> 69</td></tr>\n",
       "\t<tr><td>Control</td><td>0</td><td>2 </td><td>0_2 </td><td> 85</td></tr>\n",
       "\t<tr><td>Control</td><td>0</td><td>3 </td><td>0_3 </td><td> 35</td></tr>\n",
       "\t<tr><td>Control</td><td>0</td><td>4 </td><td>0_4 </td><td> 34</td></tr>\n",
       "\t<tr><td>Control</td><td>0</td><td>5 </td><td>0_5 </td><td> 90</td></tr>\n",
       "\t<tr><td>Control</td><td>0</td><td>6 </td><td>0_6 </td><td> 29</td></tr>\n",
       "\t<tr><td>Control</td><td>0</td><td>7 </td><td>0_7 </td><td> 17</td></tr>\n",
       "\t<tr><td>Control</td><td>0</td><td>8 </td><td>0_8 </td><td> 50</td></tr>\n",
       "\t<tr><td>Control</td><td>0</td><td>9 </td><td>0_9 </td><td> 26</td></tr>\n",
       "\t<tr><td>Control</td><td>0</td><td>10</td><td>0_10</td><td> 12</td></tr>\n",
       "\t<tr><td>Control</td><td>0</td><td>11</td><td>0_11</td><td> 19</td></tr>\n",
       "\t<tr><td>Control</td><td>0</td><td>12</td><td>0_12</td><td>  9</td></tr>\n",
       "\t<tr><td>Control</td><td>0</td><td>13</td><td>0_13</td><td> 12</td></tr>\n",
       "\t<tr><td>Control</td><td>0</td><td>14</td><td>0_14</td><td>  7</td></tr>\n",
       "\t<tr><td>Control</td><td>0</td><td>15</td><td>0_15</td><td>  5</td></tr>\n",
       "\t<tr><td>Control</td><td>0</td><td>16</td><td>0_16</td><td> 14</td></tr>\n",
       "\t<tr><td>Control</td><td>0</td><td>17</td><td>0_17</td><td>  6</td></tr>\n",
       "\t<tr><td>Control</td><td>0</td><td>18</td><td>0_18</td><td>  9</td></tr>\n",
       "\t<tr><td>Control</td><td>0</td><td>19</td><td>0_19</td><td>  8</td></tr>\n",
       "\t<tr><td>Control</td><td>0</td><td>20</td><td>0_20</td><td>  4</td></tr>\n",
       "\t<tr><td>Control</td><td>0</td><td>21</td><td>0_21</td><td>  4</td></tr>\n",
       "\t<tr><td>Control</td><td>0</td><td>22</td><td>0_22</td><td>  3</td></tr>\n",
       "\t<tr><td>Control</td><td>0</td><td>23</td><td>0_23</td><td>  2</td></tr>\n",
       "\t<tr><td>Control</td><td>0</td><td>24</td><td>0_24</td><td>  2</td></tr>\n",
       "\t<tr><td>Control</td><td>0</td><td>25</td><td>0_25</td><td>  5</td></tr>\n",
       "\t<tr><td>Control</td><td>0</td><td>26</td><td>0_26</td><td>  1</td></tr>\n",
       "\t<tr><td>Control</td><td>0</td><td>28</td><td>0_28</td><td>  4</td></tr>\n",
       "\t<tr><td>Control</td><td>0</td><td>29</td><td>0_29</td><td>  3</td></tr>\n",
       "\t<tr><td>Control</td><td>0</td><td>30</td><td>0_30</td><td>  1</td></tr>\n",
       "\t<tr><td>⋮</td><td>⋮</td><td>⋮</td><td>⋮</td><td>⋮</td></tr>\n",
       "\t<tr><td>Flt3l</td><td>3</td><td>28</td><td>3_28</td><td>  2</td></tr>\n",
       "\t<tr><td>Flt3l</td><td>3</td><td>29</td><td>3_29</td><td> 11</td></tr>\n",
       "\t<tr><td>Flt3l</td><td>3</td><td>30</td><td>3_30</td><td>  4</td></tr>\n",
       "\t<tr><td>Flt3l</td><td>3</td><td>31</td><td>3_31</td><td>  8</td></tr>\n",
       "\t<tr><td>Flt3l</td><td>3</td><td>32</td><td>3_32</td><td>  4</td></tr>\n",
       "\t<tr><td>Flt3l</td><td>3</td><td>33</td><td>3_33</td><td> 12</td></tr>\n",
       "\t<tr><td>Flt3l</td><td>3</td><td>34</td><td>3_34</td><td>  3</td></tr>\n",
       "\t<tr><td>Flt3l</td><td>3</td><td>35</td><td>3_35</td><td>  3</td></tr>\n",
       "\t<tr><td>Flt3l</td><td>3</td><td>36</td><td>3_36</td><td> 10</td></tr>\n",
       "\t<tr><td>Flt3l</td><td>3</td><td>37</td><td>3_37</td><td>  8</td></tr>\n",
       "\t<tr><td>Flt3l</td><td>3</td><td>38</td><td>3_38</td><td>  4</td></tr>\n",
       "\t<tr><td>Flt3l</td><td>3</td><td>39</td><td>3_39</td><td>  1</td></tr>\n",
       "\t<tr><td>Flt3l</td><td>3</td><td>40</td><td>3_40</td><td>  8</td></tr>\n",
       "\t<tr><td>Flt3l</td><td>3</td><td>41</td><td>3_41</td><td>  2</td></tr>\n",
       "\t<tr><td>Flt3l</td><td>3</td><td>42</td><td>3_42</td><td>  3</td></tr>\n",
       "\t<tr><td>Flt3l</td><td>3</td><td>43</td><td>3_43</td><td>  2</td></tr>\n",
       "\t<tr><td>Flt3l</td><td>3</td><td>44</td><td>3_44</td><td>  3</td></tr>\n",
       "\t<tr><td>Flt3l</td><td>3</td><td>45</td><td>3_45</td><td>  3</td></tr>\n",
       "\t<tr><td>Flt3l</td><td>3</td><td>46</td><td>3_46</td><td>  1</td></tr>\n",
       "\t<tr><td>Flt3l</td><td>3</td><td>47</td><td>3_47</td><td>102</td></tr>\n",
       "\t<tr><td>Flt3l</td><td>3</td><td>48</td><td>3_48</td><td>  1</td></tr>\n",
       "\t<tr><td>Flt3l</td><td>3</td><td>49</td><td>3_49</td><td>  3</td></tr>\n",
       "\t<tr><td>Flt3l</td><td>3</td><td>50</td><td>3_50</td><td>  5</td></tr>\n",
       "\t<tr><td>Flt3l</td><td>3</td><td>51</td><td>3_51</td><td>  1</td></tr>\n",
       "\t<tr><td>Flt3l</td><td>3</td><td>52</td><td>3_52</td><td>  2</td></tr>\n",
       "\t<tr><td>Flt3l</td><td>3</td><td>53</td><td>3_53</td><td> 46</td></tr>\n",
       "\t<tr><td>Flt3l</td><td>3</td><td>55</td><td>3_55</td><td>  6</td></tr>\n",
       "\t<tr><td>Flt3l</td><td>3</td><td>56</td><td>3_56</td><td>  2</td></tr>\n",
       "\t<tr><td>Flt3l</td><td>3</td><td>57</td><td>3_57</td><td>  2</td></tr>\n",
       "\t<tr><td>Flt3l</td><td>3</td><td>58</td><td>3_58</td><td>  2</td></tr>\n",
       "</tbody>\n",
       "</table>\n"
      ],
      "text/latex": [
       "A grouped\\_df: 355 × 5\n",
       "\\begin{tabular}{lllll}\n",
       " condition & donor & lineage & name & size\\\\\n",
       " <fct> & <fct> & <fct> & <fct> & <int>\\\\\n",
       "\\hline\n",
       "\t Control & 0 & 0  & 0\\_0  & 192\\\\\n",
       "\t Control & 0 & 1  & 0\\_1  &  69\\\\\n",
       "\t Control & 0 & 2  & 0\\_2  &  85\\\\\n",
       "\t Control & 0 & 3  & 0\\_3  &  35\\\\\n",
       "\t Control & 0 & 4  & 0\\_4  &  34\\\\\n",
       "\t Control & 0 & 5  & 0\\_5  &  90\\\\\n",
       "\t Control & 0 & 6  & 0\\_6  &  29\\\\\n",
       "\t Control & 0 & 7  & 0\\_7  &  17\\\\\n",
       "\t Control & 0 & 8  & 0\\_8  &  50\\\\\n",
       "\t Control & 0 & 9  & 0\\_9  &  26\\\\\n",
       "\t Control & 0 & 10 & 0\\_10 &  12\\\\\n",
       "\t Control & 0 & 11 & 0\\_11 &  19\\\\\n",
       "\t Control & 0 & 12 & 0\\_12 &   9\\\\\n",
       "\t Control & 0 & 13 & 0\\_13 &  12\\\\\n",
       "\t Control & 0 & 14 & 0\\_14 &   7\\\\\n",
       "\t Control & 0 & 15 & 0\\_15 &   5\\\\\n",
       "\t Control & 0 & 16 & 0\\_16 &  14\\\\\n",
       "\t Control & 0 & 17 & 0\\_17 &   6\\\\\n",
       "\t Control & 0 & 18 & 0\\_18 &   9\\\\\n",
       "\t Control & 0 & 19 & 0\\_19 &   8\\\\\n",
       "\t Control & 0 & 20 & 0\\_20 &   4\\\\\n",
       "\t Control & 0 & 21 & 0\\_21 &   4\\\\\n",
       "\t Control & 0 & 22 & 0\\_22 &   3\\\\\n",
       "\t Control & 0 & 23 & 0\\_23 &   2\\\\\n",
       "\t Control & 0 & 24 & 0\\_24 &   2\\\\\n",
       "\t Control & 0 & 25 & 0\\_25 &   5\\\\\n",
       "\t Control & 0 & 26 & 0\\_26 &   1\\\\\n",
       "\t Control & 0 & 28 & 0\\_28 &   4\\\\\n",
       "\t Control & 0 & 29 & 0\\_29 &   3\\\\\n",
       "\t Control & 0 & 30 & 0\\_30 &   1\\\\\n",
       "\t ⋮ & ⋮ & ⋮ & ⋮ & ⋮\\\\\n",
       "\t Flt3l & 3 & 28 & 3\\_28 &   2\\\\\n",
       "\t Flt3l & 3 & 29 & 3\\_29 &  11\\\\\n",
       "\t Flt3l & 3 & 30 & 3\\_30 &   4\\\\\n",
       "\t Flt3l & 3 & 31 & 3\\_31 &   8\\\\\n",
       "\t Flt3l & 3 & 32 & 3\\_32 &   4\\\\\n",
       "\t Flt3l & 3 & 33 & 3\\_33 &  12\\\\\n",
       "\t Flt3l & 3 & 34 & 3\\_34 &   3\\\\\n",
       "\t Flt3l & 3 & 35 & 3\\_35 &   3\\\\\n",
       "\t Flt3l & 3 & 36 & 3\\_36 &  10\\\\\n",
       "\t Flt3l & 3 & 37 & 3\\_37 &   8\\\\\n",
       "\t Flt3l & 3 & 38 & 3\\_38 &   4\\\\\n",
       "\t Flt3l & 3 & 39 & 3\\_39 &   1\\\\\n",
       "\t Flt3l & 3 & 40 & 3\\_40 &   8\\\\\n",
       "\t Flt3l & 3 & 41 & 3\\_41 &   2\\\\\n",
       "\t Flt3l & 3 & 42 & 3\\_42 &   3\\\\\n",
       "\t Flt3l & 3 & 43 & 3\\_43 &   2\\\\\n",
       "\t Flt3l & 3 & 44 & 3\\_44 &   3\\\\\n",
       "\t Flt3l & 3 & 45 & 3\\_45 &   3\\\\\n",
       "\t Flt3l & 3 & 46 & 3\\_46 &   1\\\\\n",
       "\t Flt3l & 3 & 47 & 3\\_47 & 102\\\\\n",
       "\t Flt3l & 3 & 48 & 3\\_48 &   1\\\\\n",
       "\t Flt3l & 3 & 49 & 3\\_49 &   3\\\\\n",
       "\t Flt3l & 3 & 50 & 3\\_50 &   5\\\\\n",
       "\t Flt3l & 3 & 51 & 3\\_51 &   1\\\\\n",
       "\t Flt3l & 3 & 52 & 3\\_52 &   2\\\\\n",
       "\t Flt3l & 3 & 53 & 3\\_53 &  46\\\\\n",
       "\t Flt3l & 3 & 55 & 3\\_55 &   6\\\\\n",
       "\t Flt3l & 3 & 56 & 3\\_56 &   2\\\\\n",
       "\t Flt3l & 3 & 57 & 3\\_57 &   2\\\\\n",
       "\t Flt3l & 3 & 58 & 3\\_58 &   2\\\\\n",
       "\\end{tabular}\n"
      ],
      "text/markdown": [
       "\n",
       "A grouped_df: 355 × 5\n",
       "\n",
       "| condition &lt;fct&gt; | donor &lt;fct&gt; | lineage &lt;fct&gt; | name &lt;fct&gt; | size &lt;int&gt; |\n",
       "|---|---|---|---|---|\n",
       "| Control | 0 | 0  | 0_0  | 192 |\n",
       "| Control | 0 | 1  | 0_1  |  69 |\n",
       "| Control | 0 | 2  | 0_2  |  85 |\n",
       "| Control | 0 | 3  | 0_3  |  35 |\n",
       "| Control | 0 | 4  | 0_4  |  34 |\n",
       "| Control | 0 | 5  | 0_5  |  90 |\n",
       "| Control | 0 | 6  | 0_6  |  29 |\n",
       "| Control | 0 | 7  | 0_7  |  17 |\n",
       "| Control | 0 | 8  | 0_8  |  50 |\n",
       "| Control | 0 | 9  | 0_9  |  26 |\n",
       "| Control | 0 | 10 | 0_10 |  12 |\n",
       "| Control | 0 | 11 | 0_11 |  19 |\n",
       "| Control | 0 | 12 | 0_12 |   9 |\n",
       "| Control | 0 | 13 | 0_13 |  12 |\n",
       "| Control | 0 | 14 | 0_14 |   7 |\n",
       "| Control | 0 | 15 | 0_15 |   5 |\n",
       "| Control | 0 | 16 | 0_16 |  14 |\n",
       "| Control | 0 | 17 | 0_17 |   6 |\n",
       "| Control | 0 | 18 | 0_18 |   9 |\n",
       "| Control | 0 | 19 | 0_19 |   8 |\n",
       "| Control | 0 | 20 | 0_20 |   4 |\n",
       "| Control | 0 | 21 | 0_21 |   4 |\n",
       "| Control | 0 | 22 | 0_22 |   3 |\n",
       "| Control | 0 | 23 | 0_23 |   2 |\n",
       "| Control | 0 | 24 | 0_24 |   2 |\n",
       "| Control | 0 | 25 | 0_25 |   5 |\n",
       "| Control | 0 | 26 | 0_26 |   1 |\n",
       "| Control | 0 | 28 | 0_28 |   4 |\n",
       "| Control | 0 | 29 | 0_29 |   3 |\n",
       "| Control | 0 | 30 | 0_30 |   1 |\n",
       "| ⋮ | ⋮ | ⋮ | ⋮ | ⋮ |\n",
       "| Flt3l | 3 | 28 | 3_28 |   2 |\n",
       "| Flt3l | 3 | 29 | 3_29 |  11 |\n",
       "| Flt3l | 3 | 30 | 3_30 |   4 |\n",
       "| Flt3l | 3 | 31 | 3_31 |   8 |\n",
       "| Flt3l | 3 | 32 | 3_32 |   4 |\n",
       "| Flt3l | 3 | 33 | 3_33 |  12 |\n",
       "| Flt3l | 3 | 34 | 3_34 |   3 |\n",
       "| Flt3l | 3 | 35 | 3_35 |   3 |\n",
       "| Flt3l | 3 | 36 | 3_36 |  10 |\n",
       "| Flt3l | 3 | 37 | 3_37 |   8 |\n",
       "| Flt3l | 3 | 38 | 3_38 |   4 |\n",
       "| Flt3l | 3 | 39 | 3_39 |   1 |\n",
       "| Flt3l | 3 | 40 | 3_40 |   8 |\n",
       "| Flt3l | 3 | 41 | 3_41 |   2 |\n",
       "| Flt3l | 3 | 42 | 3_42 |   3 |\n",
       "| Flt3l | 3 | 43 | 3_43 |   2 |\n",
       "| Flt3l | 3 | 44 | 3_44 |   3 |\n",
       "| Flt3l | 3 | 45 | 3_45 |   3 |\n",
       "| Flt3l | 3 | 46 | 3_46 |   1 |\n",
       "| Flt3l | 3 | 47 | 3_47 | 102 |\n",
       "| Flt3l | 3 | 48 | 3_48 |   1 |\n",
       "| Flt3l | 3 | 49 | 3_49 |   3 |\n",
       "| Flt3l | 3 | 50 | 3_50 |   5 |\n",
       "| Flt3l | 3 | 51 | 3_51 |   1 |\n",
       "| Flt3l | 3 | 52 | 3_52 |   2 |\n",
       "| Flt3l | 3 | 53 | 3_53 |  46 |\n",
       "| Flt3l | 3 | 55 | 3_55 |   6 |\n",
       "| Flt3l | 3 | 56 | 3_56 |   2 |\n",
       "| Flt3l | 3 | 57 | 3_57 |   2 |\n",
       "| Flt3l | 3 | 58 | 3_58 |   2 |\n",
       "\n"
      ],
      "text/plain": [
       "    condition donor lineage name size\n",
       "1   Control   0     0       0_0  192 \n",
       "2   Control   0     1       0_1   69 \n",
       "3   Control   0     2       0_2   85 \n",
       "4   Control   0     3       0_3   35 \n",
       "5   Control   0     4       0_4   34 \n",
       "6   Control   0     5       0_5   90 \n",
       "7   Control   0     6       0_6   29 \n",
       "8   Control   0     7       0_7   17 \n",
       "9   Control   0     8       0_8   50 \n",
       "10  Control   0     9       0_9   26 \n",
       "11  Control   0     10      0_10  12 \n",
       "12  Control   0     11      0_11  19 \n",
       "13  Control   0     12      0_12   9 \n",
       "14  Control   0     13      0_13  12 \n",
       "15  Control   0     14      0_14   7 \n",
       "16  Control   0     15      0_15   5 \n",
       "17  Control   0     16      0_16  14 \n",
       "18  Control   0     17      0_17   6 \n",
       "19  Control   0     18      0_18   9 \n",
       "20  Control   0     19      0_19   8 \n",
       "21  Control   0     20      0_20   4 \n",
       "22  Control   0     21      0_21   4 \n",
       "23  Control   0     22      0_22   3 \n",
       "24  Control   0     23      0_23   2 \n",
       "25  Control   0     24      0_24   2 \n",
       "26  Control   0     25      0_25   5 \n",
       "27  Control   0     26      0_26   1 \n",
       "28  Control   0     28      0_28   4 \n",
       "29  Control   0     29      0_29   3 \n",
       "30  Control   0     30      0_30   1 \n",
       "⋮   ⋮         ⋮     ⋮       ⋮    ⋮   \n",
       "326 Flt3l     3     28      3_28   2 \n",
       "327 Flt3l     3     29      3_29  11 \n",
       "328 Flt3l     3     30      3_30   4 \n",
       "329 Flt3l     3     31      3_31   8 \n",
       "330 Flt3l     3     32      3_32   4 \n",
       "331 Flt3l     3     33      3_33  12 \n",
       "332 Flt3l     3     34      3_34   3 \n",
       "333 Flt3l     3     35      3_35   3 \n",
       "334 Flt3l     3     36      3_36  10 \n",
       "335 Flt3l     3     37      3_37   8 \n",
       "336 Flt3l     3     38      3_38   4 \n",
       "337 Flt3l     3     39      3_39   1 \n",
       "338 Flt3l     3     40      3_40   8 \n",
       "339 Flt3l     3     41      3_41   2 \n",
       "340 Flt3l     3     42      3_42   3 \n",
       "341 Flt3l     3     43      3_43   2 \n",
       "342 Flt3l     3     44      3_44   3 \n",
       "343 Flt3l     3     45      3_45   3 \n",
       "344 Flt3l     3     46      3_46   1 \n",
       "345 Flt3l     3     47      3_47 102 \n",
       "346 Flt3l     3     48      3_48   1 \n",
       "347 Flt3l     3     49      3_49   3 \n",
       "348 Flt3l     3     50      3_50   5 \n",
       "349 Flt3l     3     51      3_51   1 \n",
       "350 Flt3l     3     52      3_52   2 \n",
       "351 Flt3l     3     53      3_53  46 \n",
       "352 Flt3l     3     55      3_55   6 \n",
       "353 Flt3l     3     56      3_56   2 \n",
       "354 Flt3l     3     57      3_57   2 \n",
       "355 Flt3l     3     58      3_58   2 "
      ]
     },
     "metadata": {},
     "output_type": "display_data"
    }
   ],
   "source": [
    "counts <- se[[]] %>%\n",
    "          group_by(condition, donor, lineage, name) %>%\n",
    "          summarize(size=n()) %>% filter(!name==\"None\")\n",
    "counts"
   ]
  },
  {
   "cell_type": "code",
   "execution_count": 8,
   "id": "c042aa55",
   "metadata": {
    "execution": {
     "iopub.execute_input": "2021-12-03T21:04:32.836887Z",
     "iopub.status.busy": "2021-12-03T21:04:32.833116Z",
     "iopub.status.idle": "2021-12-03T21:04:32.948784Z",
     "shell.execute_reply": "2021-12-03T21:04:32.949703Z"
    },
    "papermill": {
     "duration": 0.21475,
     "end_time": "2021-12-03T21:04:32.950015",
     "exception": false,
     "start_time": "2021-12-03T21:04:32.735265",
     "status": "completed"
    },
    "scrolled": true,
    "tags": []
   },
   "outputs": [
    {
     "data": {
      "text/html": [
       "<table class=\"dataframe\">\n",
       "<caption>A tibble: 355 × 7</caption>\n",
       "<thead>\n",
       "\t<tr><th scope=col>condition</th><th scope=col>donor</th><th scope=col>lineage</th><th scope=col>name</th><th scope=col>size</th><th scope=col>total</th><th scope=col>norm</th></tr>\n",
       "\t<tr><th scope=col>&lt;fct&gt;</th><th scope=col>&lt;fct&gt;</th><th scope=col>&lt;fct&gt;</th><th scope=col>&lt;fct&gt;</th><th scope=col>&lt;int&gt;</th><th scope=col>&lt;int&gt;</th><th scope=col>&lt;dbl&gt;</th></tr>\n",
       "</thead>\n",
       "<tbody>\n",
       "\t<tr><td>Control</td><td>0</td><td>0 </td><td>0_0 </td><td>192</td><td>1156</td><td>0.1660899654</td></tr>\n",
       "\t<tr><td>Control</td><td>0</td><td>1 </td><td>0_1 </td><td> 69</td><td>1156</td><td>0.0596885813</td></tr>\n",
       "\t<tr><td>Control</td><td>0</td><td>2 </td><td>0_2 </td><td> 85</td><td>1156</td><td>0.0735294118</td></tr>\n",
       "\t<tr><td>Control</td><td>0</td><td>3 </td><td>0_3 </td><td> 35</td><td>1156</td><td>0.0302768166</td></tr>\n",
       "\t<tr><td>Control</td><td>0</td><td>4 </td><td>0_4 </td><td> 34</td><td>1156</td><td>0.0294117647</td></tr>\n",
       "\t<tr><td>Control</td><td>0</td><td>5 </td><td>0_5 </td><td> 90</td><td>1156</td><td>0.0778546713</td></tr>\n",
       "\t<tr><td>Control</td><td>0</td><td>6 </td><td>0_6 </td><td> 29</td><td>1156</td><td>0.0250865052</td></tr>\n",
       "\t<tr><td>Control</td><td>0</td><td>7 </td><td>0_7 </td><td> 17</td><td>1156</td><td>0.0147058824</td></tr>\n",
       "\t<tr><td>Control</td><td>0</td><td>8 </td><td>0_8 </td><td> 50</td><td>1156</td><td>0.0432525952</td></tr>\n",
       "\t<tr><td>Control</td><td>0</td><td>9 </td><td>0_9 </td><td> 26</td><td>1156</td><td>0.0224913495</td></tr>\n",
       "\t<tr><td>Control</td><td>0</td><td>10</td><td>0_10</td><td> 12</td><td>1156</td><td>0.0103806228</td></tr>\n",
       "\t<tr><td>Control</td><td>0</td><td>11</td><td>0_11</td><td> 19</td><td>1156</td><td>0.0164359862</td></tr>\n",
       "\t<tr><td>Control</td><td>0</td><td>12</td><td>0_12</td><td>  9</td><td>1156</td><td>0.0077854671</td></tr>\n",
       "\t<tr><td>Control</td><td>0</td><td>13</td><td>0_13</td><td> 12</td><td>1156</td><td>0.0103806228</td></tr>\n",
       "\t<tr><td>Control</td><td>0</td><td>14</td><td>0_14</td><td>  7</td><td>1156</td><td>0.0060553633</td></tr>\n",
       "\t<tr><td>Control</td><td>0</td><td>15</td><td>0_15</td><td>  5</td><td>1156</td><td>0.0043252595</td></tr>\n",
       "\t<tr><td>Control</td><td>0</td><td>16</td><td>0_16</td><td> 14</td><td>1156</td><td>0.0121107266</td></tr>\n",
       "\t<tr><td>Control</td><td>0</td><td>17</td><td>0_17</td><td>  6</td><td>1156</td><td>0.0051903114</td></tr>\n",
       "\t<tr><td>Control</td><td>0</td><td>18</td><td>0_18</td><td>  9</td><td>1156</td><td>0.0077854671</td></tr>\n",
       "\t<tr><td>Control</td><td>0</td><td>19</td><td>0_19</td><td>  8</td><td>1156</td><td>0.0069204152</td></tr>\n",
       "\t<tr><td>Control</td><td>0</td><td>20</td><td>0_20</td><td>  4</td><td>1156</td><td>0.0034602076</td></tr>\n",
       "\t<tr><td>Control</td><td>0</td><td>21</td><td>0_21</td><td>  4</td><td>1156</td><td>0.0034602076</td></tr>\n",
       "\t<tr><td>Control</td><td>0</td><td>22</td><td>0_22</td><td>  3</td><td>1156</td><td>0.0025951557</td></tr>\n",
       "\t<tr><td>Control</td><td>0</td><td>23</td><td>0_23</td><td>  2</td><td>1156</td><td>0.0017301038</td></tr>\n",
       "\t<tr><td>Control</td><td>0</td><td>24</td><td>0_24</td><td>  2</td><td>1156</td><td>0.0017301038</td></tr>\n",
       "\t<tr><td>Control</td><td>0</td><td>25</td><td>0_25</td><td>  5</td><td>1156</td><td>0.0043252595</td></tr>\n",
       "\t<tr><td>Control</td><td>0</td><td>26</td><td>0_26</td><td>  1</td><td>1156</td><td>0.0008650519</td></tr>\n",
       "\t<tr><td>Control</td><td>0</td><td>28</td><td>0_28</td><td>  4</td><td>1156</td><td>0.0034602076</td></tr>\n",
       "\t<tr><td>Control</td><td>0</td><td>29</td><td>0_29</td><td>  3</td><td>1156</td><td>0.0025951557</td></tr>\n",
       "\t<tr><td>Control</td><td>0</td><td>30</td><td>0_30</td><td>  1</td><td>1156</td><td>0.0008650519</td></tr>\n",
       "\t<tr><td>⋮</td><td>⋮</td><td>⋮</td><td>⋮</td><td>⋮</td><td>⋮</td><td>⋮</td></tr>\n",
       "\t<tr><td>Flt3l</td><td>3</td><td>28</td><td>3_28</td><td>  2</td><td>1877</td><td>0.0010655301</td></tr>\n",
       "\t<tr><td>Flt3l</td><td>3</td><td>29</td><td>3_29</td><td> 11</td><td>1877</td><td>0.0058604156</td></tr>\n",
       "\t<tr><td>Flt3l</td><td>3</td><td>30</td><td>3_30</td><td>  4</td><td>1877</td><td>0.0021310602</td></tr>\n",
       "\t<tr><td>Flt3l</td><td>3</td><td>31</td><td>3_31</td><td>  8</td><td>1877</td><td>0.0042621204</td></tr>\n",
       "\t<tr><td>Flt3l</td><td>3</td><td>32</td><td>3_32</td><td>  4</td><td>1877</td><td>0.0021310602</td></tr>\n",
       "\t<tr><td>Flt3l</td><td>3</td><td>33</td><td>3_33</td><td> 12</td><td>1877</td><td>0.0063931806</td></tr>\n",
       "\t<tr><td>Flt3l</td><td>3</td><td>34</td><td>3_34</td><td>  3</td><td>1877</td><td>0.0015982952</td></tr>\n",
       "\t<tr><td>Flt3l</td><td>3</td><td>35</td><td>3_35</td><td>  3</td><td>1877</td><td>0.0015982952</td></tr>\n",
       "\t<tr><td>Flt3l</td><td>3</td><td>36</td><td>3_36</td><td> 10</td><td>1877</td><td>0.0053276505</td></tr>\n",
       "\t<tr><td>Flt3l</td><td>3</td><td>37</td><td>3_37</td><td>  8</td><td>1877</td><td>0.0042621204</td></tr>\n",
       "\t<tr><td>Flt3l</td><td>3</td><td>38</td><td>3_38</td><td>  4</td><td>1877</td><td>0.0021310602</td></tr>\n",
       "\t<tr><td>Flt3l</td><td>3</td><td>39</td><td>3_39</td><td>  1</td><td>1877</td><td>0.0005327651</td></tr>\n",
       "\t<tr><td>Flt3l</td><td>3</td><td>40</td><td>3_40</td><td>  8</td><td>1877</td><td>0.0042621204</td></tr>\n",
       "\t<tr><td>Flt3l</td><td>3</td><td>41</td><td>3_41</td><td>  2</td><td>1877</td><td>0.0010655301</td></tr>\n",
       "\t<tr><td>Flt3l</td><td>3</td><td>42</td><td>3_42</td><td>  3</td><td>1877</td><td>0.0015982952</td></tr>\n",
       "\t<tr><td>Flt3l</td><td>3</td><td>43</td><td>3_43</td><td>  2</td><td>1877</td><td>0.0010655301</td></tr>\n",
       "\t<tr><td>Flt3l</td><td>3</td><td>44</td><td>3_44</td><td>  3</td><td>1877</td><td>0.0015982952</td></tr>\n",
       "\t<tr><td>Flt3l</td><td>3</td><td>45</td><td>3_45</td><td>  3</td><td>1877</td><td>0.0015982952</td></tr>\n",
       "\t<tr><td>Flt3l</td><td>3</td><td>46</td><td>3_46</td><td>  1</td><td>1877</td><td>0.0005327651</td></tr>\n",
       "\t<tr><td>Flt3l</td><td>3</td><td>47</td><td>3_47</td><td>102</td><td>1877</td><td>0.0543420352</td></tr>\n",
       "\t<tr><td>Flt3l</td><td>3</td><td>48</td><td>3_48</td><td>  1</td><td>1877</td><td>0.0005327651</td></tr>\n",
       "\t<tr><td>Flt3l</td><td>3</td><td>49</td><td>3_49</td><td>  3</td><td>1877</td><td>0.0015982952</td></tr>\n",
       "\t<tr><td>Flt3l</td><td>3</td><td>50</td><td>3_50</td><td>  5</td><td>1877</td><td>0.0026638253</td></tr>\n",
       "\t<tr><td>Flt3l</td><td>3</td><td>51</td><td>3_51</td><td>  1</td><td>1877</td><td>0.0005327651</td></tr>\n",
       "\t<tr><td>Flt3l</td><td>3</td><td>52</td><td>3_52</td><td>  2</td><td>1877</td><td>0.0010655301</td></tr>\n",
       "\t<tr><td>Flt3l</td><td>3</td><td>53</td><td>3_53</td><td> 46</td><td>1877</td><td>0.0245071923</td></tr>\n",
       "\t<tr><td>Flt3l</td><td>3</td><td>55</td><td>3_55</td><td>  6</td><td>1877</td><td>0.0031965903</td></tr>\n",
       "\t<tr><td>Flt3l</td><td>3</td><td>56</td><td>3_56</td><td>  2</td><td>1877</td><td>0.0010655301</td></tr>\n",
       "\t<tr><td>Flt3l</td><td>3</td><td>57</td><td>3_57</td><td>  2</td><td>1877</td><td>0.0010655301</td></tr>\n",
       "\t<tr><td>Flt3l</td><td>3</td><td>58</td><td>3_58</td><td>  2</td><td>1877</td><td>0.0010655301</td></tr>\n",
       "</tbody>\n",
       "</table>\n"
      ],
      "text/latex": [
       "A tibble: 355 × 7\n",
       "\\begin{tabular}{lllllll}\n",
       " condition & donor & lineage & name & size & total & norm\\\\\n",
       " <fct> & <fct> & <fct> & <fct> & <int> & <int> & <dbl>\\\\\n",
       "\\hline\n",
       "\t Control & 0 & 0  & 0\\_0  & 192 & 1156 & 0.1660899654\\\\\n",
       "\t Control & 0 & 1  & 0\\_1  &  69 & 1156 & 0.0596885813\\\\\n",
       "\t Control & 0 & 2  & 0\\_2  &  85 & 1156 & 0.0735294118\\\\\n",
       "\t Control & 0 & 3  & 0\\_3  &  35 & 1156 & 0.0302768166\\\\\n",
       "\t Control & 0 & 4  & 0\\_4  &  34 & 1156 & 0.0294117647\\\\\n",
       "\t Control & 0 & 5  & 0\\_5  &  90 & 1156 & 0.0778546713\\\\\n",
       "\t Control & 0 & 6  & 0\\_6  &  29 & 1156 & 0.0250865052\\\\\n",
       "\t Control & 0 & 7  & 0\\_7  &  17 & 1156 & 0.0147058824\\\\\n",
       "\t Control & 0 & 8  & 0\\_8  &  50 & 1156 & 0.0432525952\\\\\n",
       "\t Control & 0 & 9  & 0\\_9  &  26 & 1156 & 0.0224913495\\\\\n",
       "\t Control & 0 & 10 & 0\\_10 &  12 & 1156 & 0.0103806228\\\\\n",
       "\t Control & 0 & 11 & 0\\_11 &  19 & 1156 & 0.0164359862\\\\\n",
       "\t Control & 0 & 12 & 0\\_12 &   9 & 1156 & 0.0077854671\\\\\n",
       "\t Control & 0 & 13 & 0\\_13 &  12 & 1156 & 0.0103806228\\\\\n",
       "\t Control & 0 & 14 & 0\\_14 &   7 & 1156 & 0.0060553633\\\\\n",
       "\t Control & 0 & 15 & 0\\_15 &   5 & 1156 & 0.0043252595\\\\\n",
       "\t Control & 0 & 16 & 0\\_16 &  14 & 1156 & 0.0121107266\\\\\n",
       "\t Control & 0 & 17 & 0\\_17 &   6 & 1156 & 0.0051903114\\\\\n",
       "\t Control & 0 & 18 & 0\\_18 &   9 & 1156 & 0.0077854671\\\\\n",
       "\t Control & 0 & 19 & 0\\_19 &   8 & 1156 & 0.0069204152\\\\\n",
       "\t Control & 0 & 20 & 0\\_20 &   4 & 1156 & 0.0034602076\\\\\n",
       "\t Control & 0 & 21 & 0\\_21 &   4 & 1156 & 0.0034602076\\\\\n",
       "\t Control & 0 & 22 & 0\\_22 &   3 & 1156 & 0.0025951557\\\\\n",
       "\t Control & 0 & 23 & 0\\_23 &   2 & 1156 & 0.0017301038\\\\\n",
       "\t Control & 0 & 24 & 0\\_24 &   2 & 1156 & 0.0017301038\\\\\n",
       "\t Control & 0 & 25 & 0\\_25 &   5 & 1156 & 0.0043252595\\\\\n",
       "\t Control & 0 & 26 & 0\\_26 &   1 & 1156 & 0.0008650519\\\\\n",
       "\t Control & 0 & 28 & 0\\_28 &   4 & 1156 & 0.0034602076\\\\\n",
       "\t Control & 0 & 29 & 0\\_29 &   3 & 1156 & 0.0025951557\\\\\n",
       "\t Control & 0 & 30 & 0\\_30 &   1 & 1156 & 0.0008650519\\\\\n",
       "\t ⋮ & ⋮ & ⋮ & ⋮ & ⋮ & ⋮ & ⋮\\\\\n",
       "\t Flt3l & 3 & 28 & 3\\_28 &   2 & 1877 & 0.0010655301\\\\\n",
       "\t Flt3l & 3 & 29 & 3\\_29 &  11 & 1877 & 0.0058604156\\\\\n",
       "\t Flt3l & 3 & 30 & 3\\_30 &   4 & 1877 & 0.0021310602\\\\\n",
       "\t Flt3l & 3 & 31 & 3\\_31 &   8 & 1877 & 0.0042621204\\\\\n",
       "\t Flt3l & 3 & 32 & 3\\_32 &   4 & 1877 & 0.0021310602\\\\\n",
       "\t Flt3l & 3 & 33 & 3\\_33 &  12 & 1877 & 0.0063931806\\\\\n",
       "\t Flt3l & 3 & 34 & 3\\_34 &   3 & 1877 & 0.0015982952\\\\\n",
       "\t Flt3l & 3 & 35 & 3\\_35 &   3 & 1877 & 0.0015982952\\\\\n",
       "\t Flt3l & 3 & 36 & 3\\_36 &  10 & 1877 & 0.0053276505\\\\\n",
       "\t Flt3l & 3 & 37 & 3\\_37 &   8 & 1877 & 0.0042621204\\\\\n",
       "\t Flt3l & 3 & 38 & 3\\_38 &   4 & 1877 & 0.0021310602\\\\\n",
       "\t Flt3l & 3 & 39 & 3\\_39 &   1 & 1877 & 0.0005327651\\\\\n",
       "\t Flt3l & 3 & 40 & 3\\_40 &   8 & 1877 & 0.0042621204\\\\\n",
       "\t Flt3l & 3 & 41 & 3\\_41 &   2 & 1877 & 0.0010655301\\\\\n",
       "\t Flt3l & 3 & 42 & 3\\_42 &   3 & 1877 & 0.0015982952\\\\\n",
       "\t Flt3l & 3 & 43 & 3\\_43 &   2 & 1877 & 0.0010655301\\\\\n",
       "\t Flt3l & 3 & 44 & 3\\_44 &   3 & 1877 & 0.0015982952\\\\\n",
       "\t Flt3l & 3 & 45 & 3\\_45 &   3 & 1877 & 0.0015982952\\\\\n",
       "\t Flt3l & 3 & 46 & 3\\_46 &   1 & 1877 & 0.0005327651\\\\\n",
       "\t Flt3l & 3 & 47 & 3\\_47 & 102 & 1877 & 0.0543420352\\\\\n",
       "\t Flt3l & 3 & 48 & 3\\_48 &   1 & 1877 & 0.0005327651\\\\\n",
       "\t Flt3l & 3 & 49 & 3\\_49 &   3 & 1877 & 0.0015982952\\\\\n",
       "\t Flt3l & 3 & 50 & 3\\_50 &   5 & 1877 & 0.0026638253\\\\\n",
       "\t Flt3l & 3 & 51 & 3\\_51 &   1 & 1877 & 0.0005327651\\\\\n",
       "\t Flt3l & 3 & 52 & 3\\_52 &   2 & 1877 & 0.0010655301\\\\\n",
       "\t Flt3l & 3 & 53 & 3\\_53 &  46 & 1877 & 0.0245071923\\\\\n",
       "\t Flt3l & 3 & 55 & 3\\_55 &   6 & 1877 & 0.0031965903\\\\\n",
       "\t Flt3l & 3 & 56 & 3\\_56 &   2 & 1877 & 0.0010655301\\\\\n",
       "\t Flt3l & 3 & 57 & 3\\_57 &   2 & 1877 & 0.0010655301\\\\\n",
       "\t Flt3l & 3 & 58 & 3\\_58 &   2 & 1877 & 0.0010655301\\\\\n",
       "\\end{tabular}\n"
      ],
      "text/markdown": [
       "\n",
       "A tibble: 355 × 7\n",
       "\n",
       "| condition &lt;fct&gt; | donor &lt;fct&gt; | lineage &lt;fct&gt; | name &lt;fct&gt; | size &lt;int&gt; | total &lt;int&gt; | norm &lt;dbl&gt; |\n",
       "|---|---|---|---|---|---|---|\n",
       "| Control | 0 | 0  | 0_0  | 192 | 1156 | 0.1660899654 |\n",
       "| Control | 0 | 1  | 0_1  |  69 | 1156 | 0.0596885813 |\n",
       "| Control | 0 | 2  | 0_2  |  85 | 1156 | 0.0735294118 |\n",
       "| Control | 0 | 3  | 0_3  |  35 | 1156 | 0.0302768166 |\n",
       "| Control | 0 | 4  | 0_4  |  34 | 1156 | 0.0294117647 |\n",
       "| Control | 0 | 5  | 0_5  |  90 | 1156 | 0.0778546713 |\n",
       "| Control | 0 | 6  | 0_6  |  29 | 1156 | 0.0250865052 |\n",
       "| Control | 0 | 7  | 0_7  |  17 | 1156 | 0.0147058824 |\n",
       "| Control | 0 | 8  | 0_8  |  50 | 1156 | 0.0432525952 |\n",
       "| Control | 0 | 9  | 0_9  |  26 | 1156 | 0.0224913495 |\n",
       "| Control | 0 | 10 | 0_10 |  12 | 1156 | 0.0103806228 |\n",
       "| Control | 0 | 11 | 0_11 |  19 | 1156 | 0.0164359862 |\n",
       "| Control | 0 | 12 | 0_12 |   9 | 1156 | 0.0077854671 |\n",
       "| Control | 0 | 13 | 0_13 |  12 | 1156 | 0.0103806228 |\n",
       "| Control | 0 | 14 | 0_14 |   7 | 1156 | 0.0060553633 |\n",
       "| Control | 0 | 15 | 0_15 |   5 | 1156 | 0.0043252595 |\n",
       "| Control | 0 | 16 | 0_16 |  14 | 1156 | 0.0121107266 |\n",
       "| Control | 0 | 17 | 0_17 |   6 | 1156 | 0.0051903114 |\n",
       "| Control | 0 | 18 | 0_18 |   9 | 1156 | 0.0077854671 |\n",
       "| Control | 0 | 19 | 0_19 |   8 | 1156 | 0.0069204152 |\n",
       "| Control | 0 | 20 | 0_20 |   4 | 1156 | 0.0034602076 |\n",
       "| Control | 0 | 21 | 0_21 |   4 | 1156 | 0.0034602076 |\n",
       "| Control | 0 | 22 | 0_22 |   3 | 1156 | 0.0025951557 |\n",
       "| Control | 0 | 23 | 0_23 |   2 | 1156 | 0.0017301038 |\n",
       "| Control | 0 | 24 | 0_24 |   2 | 1156 | 0.0017301038 |\n",
       "| Control | 0 | 25 | 0_25 |   5 | 1156 | 0.0043252595 |\n",
       "| Control | 0 | 26 | 0_26 |   1 | 1156 | 0.0008650519 |\n",
       "| Control | 0 | 28 | 0_28 |   4 | 1156 | 0.0034602076 |\n",
       "| Control | 0 | 29 | 0_29 |   3 | 1156 | 0.0025951557 |\n",
       "| Control | 0 | 30 | 0_30 |   1 | 1156 | 0.0008650519 |\n",
       "| ⋮ | ⋮ | ⋮ | ⋮ | ⋮ | ⋮ | ⋮ |\n",
       "| Flt3l | 3 | 28 | 3_28 |   2 | 1877 | 0.0010655301 |\n",
       "| Flt3l | 3 | 29 | 3_29 |  11 | 1877 | 0.0058604156 |\n",
       "| Flt3l | 3 | 30 | 3_30 |   4 | 1877 | 0.0021310602 |\n",
       "| Flt3l | 3 | 31 | 3_31 |   8 | 1877 | 0.0042621204 |\n",
       "| Flt3l | 3 | 32 | 3_32 |   4 | 1877 | 0.0021310602 |\n",
       "| Flt3l | 3 | 33 | 3_33 |  12 | 1877 | 0.0063931806 |\n",
       "| Flt3l | 3 | 34 | 3_34 |   3 | 1877 | 0.0015982952 |\n",
       "| Flt3l | 3 | 35 | 3_35 |   3 | 1877 | 0.0015982952 |\n",
       "| Flt3l | 3 | 36 | 3_36 |  10 | 1877 | 0.0053276505 |\n",
       "| Flt3l | 3 | 37 | 3_37 |   8 | 1877 | 0.0042621204 |\n",
       "| Flt3l | 3 | 38 | 3_38 |   4 | 1877 | 0.0021310602 |\n",
       "| Flt3l | 3 | 39 | 3_39 |   1 | 1877 | 0.0005327651 |\n",
       "| Flt3l | 3 | 40 | 3_40 |   8 | 1877 | 0.0042621204 |\n",
       "| Flt3l | 3 | 41 | 3_41 |   2 | 1877 | 0.0010655301 |\n",
       "| Flt3l | 3 | 42 | 3_42 |   3 | 1877 | 0.0015982952 |\n",
       "| Flt3l | 3 | 43 | 3_43 |   2 | 1877 | 0.0010655301 |\n",
       "| Flt3l | 3 | 44 | 3_44 |   3 | 1877 | 0.0015982952 |\n",
       "| Flt3l | 3 | 45 | 3_45 |   3 | 1877 | 0.0015982952 |\n",
       "| Flt3l | 3 | 46 | 3_46 |   1 | 1877 | 0.0005327651 |\n",
       "| Flt3l | 3 | 47 | 3_47 | 102 | 1877 | 0.0543420352 |\n",
       "| Flt3l | 3 | 48 | 3_48 |   1 | 1877 | 0.0005327651 |\n",
       "| Flt3l | 3 | 49 | 3_49 |   3 | 1877 | 0.0015982952 |\n",
       "| Flt3l | 3 | 50 | 3_50 |   5 | 1877 | 0.0026638253 |\n",
       "| Flt3l | 3 | 51 | 3_51 |   1 | 1877 | 0.0005327651 |\n",
       "| Flt3l | 3 | 52 | 3_52 |   2 | 1877 | 0.0010655301 |\n",
       "| Flt3l | 3 | 53 | 3_53 |  46 | 1877 | 0.0245071923 |\n",
       "| Flt3l | 3 | 55 | 3_55 |   6 | 1877 | 0.0031965903 |\n",
       "| Flt3l | 3 | 56 | 3_56 |   2 | 1877 | 0.0010655301 |\n",
       "| Flt3l | 3 | 57 | 3_57 |   2 | 1877 | 0.0010655301 |\n",
       "| Flt3l | 3 | 58 | 3_58 |   2 | 1877 | 0.0010655301 |\n",
       "\n"
      ],
      "text/plain": [
       "    condition donor lineage name size total norm        \n",
       "1   Control   0     0       0_0  192  1156  0.1660899654\n",
       "2   Control   0     1       0_1   69  1156  0.0596885813\n",
       "3   Control   0     2       0_2   85  1156  0.0735294118\n",
       "4   Control   0     3       0_3   35  1156  0.0302768166\n",
       "5   Control   0     4       0_4   34  1156  0.0294117647\n",
       "6   Control   0     5       0_5   90  1156  0.0778546713\n",
       "7   Control   0     6       0_6   29  1156  0.0250865052\n",
       "8   Control   0     7       0_7   17  1156  0.0147058824\n",
       "9   Control   0     8       0_8   50  1156  0.0432525952\n",
       "10  Control   0     9       0_9   26  1156  0.0224913495\n",
       "11  Control   0     10      0_10  12  1156  0.0103806228\n",
       "12  Control   0     11      0_11  19  1156  0.0164359862\n",
       "13  Control   0     12      0_12   9  1156  0.0077854671\n",
       "14  Control   0     13      0_13  12  1156  0.0103806228\n",
       "15  Control   0     14      0_14   7  1156  0.0060553633\n",
       "16  Control   0     15      0_15   5  1156  0.0043252595\n",
       "17  Control   0     16      0_16  14  1156  0.0121107266\n",
       "18  Control   0     17      0_17   6  1156  0.0051903114\n",
       "19  Control   0     18      0_18   9  1156  0.0077854671\n",
       "20  Control   0     19      0_19   8  1156  0.0069204152\n",
       "21  Control   0     20      0_20   4  1156  0.0034602076\n",
       "22  Control   0     21      0_21   4  1156  0.0034602076\n",
       "23  Control   0     22      0_22   3  1156  0.0025951557\n",
       "24  Control   0     23      0_23   2  1156  0.0017301038\n",
       "25  Control   0     24      0_24   2  1156  0.0017301038\n",
       "26  Control   0     25      0_25   5  1156  0.0043252595\n",
       "27  Control   0     26      0_26   1  1156  0.0008650519\n",
       "28  Control   0     28      0_28   4  1156  0.0034602076\n",
       "29  Control   0     29      0_29   3  1156  0.0025951557\n",
       "30  Control   0     30      0_30   1  1156  0.0008650519\n",
       "⋮   ⋮         ⋮     ⋮       ⋮    ⋮    ⋮     ⋮           \n",
       "326 Flt3l     3     28      3_28   2  1877  0.0010655301\n",
       "327 Flt3l     3     29      3_29  11  1877  0.0058604156\n",
       "328 Flt3l     3     30      3_30   4  1877  0.0021310602\n",
       "329 Flt3l     3     31      3_31   8  1877  0.0042621204\n",
       "330 Flt3l     3     32      3_32   4  1877  0.0021310602\n",
       "331 Flt3l     3     33      3_33  12  1877  0.0063931806\n",
       "332 Flt3l     3     34      3_34   3  1877  0.0015982952\n",
       "333 Flt3l     3     35      3_35   3  1877  0.0015982952\n",
       "334 Flt3l     3     36      3_36  10  1877  0.0053276505\n",
       "335 Flt3l     3     37      3_37   8  1877  0.0042621204\n",
       "336 Flt3l     3     38      3_38   4  1877  0.0021310602\n",
       "337 Flt3l     3     39      3_39   1  1877  0.0005327651\n",
       "338 Flt3l     3     40      3_40   8  1877  0.0042621204\n",
       "339 Flt3l     3     41      3_41   2  1877  0.0010655301\n",
       "340 Flt3l     3     42      3_42   3  1877  0.0015982952\n",
       "341 Flt3l     3     43      3_43   2  1877  0.0010655301\n",
       "342 Flt3l     3     44      3_44   3  1877  0.0015982952\n",
       "343 Flt3l     3     45      3_45   3  1877  0.0015982952\n",
       "344 Flt3l     3     46      3_46   1  1877  0.0005327651\n",
       "345 Flt3l     3     47      3_47 102  1877  0.0543420352\n",
       "346 Flt3l     3     48      3_48   1  1877  0.0005327651\n",
       "347 Flt3l     3     49      3_49   3  1877  0.0015982952\n",
       "348 Flt3l     3     50      3_50   5  1877  0.0026638253\n",
       "349 Flt3l     3     51      3_51   1  1877  0.0005327651\n",
       "350 Flt3l     3     52      3_52   2  1877  0.0010655301\n",
       "351 Flt3l     3     53      3_53  46  1877  0.0245071923\n",
       "352 Flt3l     3     55      3_55   6  1877  0.0031965903\n",
       "353 Flt3l     3     56      3_56   2  1877  0.0010655301\n",
       "354 Flt3l     3     57      3_57   2  1877  0.0010655301\n",
       "355 Flt3l     3     58      3_58   2  1877  0.0010655301"
      ]
     },
     "metadata": {},
     "output_type": "display_data"
    }
   ],
   "source": [
    "counts.norm <- counts %>% group_by(condition, donor) %>% mutate(total=sum(size)) %>% ungroup() %>% mutate(norm=size/total)\n",
    "\n",
    "counts.norm "
   ]
  },
  {
   "cell_type": "code",
   "execution_count": 9,
   "id": "b15ba9af",
   "metadata": {
    "execution": {
     "iopub.execute_input": "2021-12-03T21:04:33.129062Z",
     "iopub.status.busy": "2021-12-03T21:04:33.126712Z",
     "iopub.status.idle": "2021-12-03T21:04:33.235397Z",
     "shell.execute_reply": "2021-12-03T21:04:33.236332Z"
    },
    "papermill": {
     "duration": 0.201214,
     "end_time": "2021-12-03T21:04:33.236645",
     "exception": false,
     "start_time": "2021-12-03T21:04:33.035431",
     "status": "completed"
    },
    "scrolled": true,
    "tags": []
   },
   "outputs": [
    {
     "name": "stderr",
     "output_type": "stream",
     "text": [
      "Warning message in xtfrm.data.frame(x):\n",
      "“cannot xtfrm data frames”\n"
     ]
    },
    {
     "data": {
      "text/html": [
       "<table class=\"dataframe\">\n",
       "<caption>A tibble: 355 × 7</caption>\n",
       "<thead>\n",
       "\t<tr><th scope=col>condition</th><th scope=col>donor</th><th scope=col>lineage</th><th scope=col>name</th><th scope=col>size</th><th scope=col>total</th><th scope=col>norm</th></tr>\n",
       "\t<tr><th scope=col>&lt;fct&gt;</th><th scope=col>&lt;fct&gt;</th><th scope=col>&lt;fct&gt;</th><th scope=col>&lt;fct&gt;</th><th scope=col>&lt;int&gt;</th><th scope=col>&lt;int&gt;</th><th scope=col>&lt;dbl&gt;</th></tr>\n",
       "</thead>\n",
       "<tbody>\n",
       "\t<tr><td>Control</td><td>0</td><td>54</td><td>0_54</td><td>272</td><td>1156</td><td>0.23529412</td></tr>\n",
       "\t<tr><td>Control</td><td>3</td><td>0 </td><td>3_0 </td><td>156</td><td> 935</td><td>0.16684492</td></tr>\n",
       "\t<tr><td>Control</td><td>0</td><td>0 </td><td>0_0 </td><td>192</td><td>1156</td><td>0.16608997</td></tr>\n",
       "\t<tr><td>Flt3l  </td><td>3</td><td>1 </td><td>3_1 </td><td>278</td><td>1877</td><td>0.14810868</td></tr>\n",
       "\t<tr><td>Flt3l  </td><td>3</td><td>0 </td><td>3_0 </td><td>263</td><td>1877</td><td>0.14011721</td></tr>\n",
       "\t<tr><td>Flt3l  </td><td>0</td><td>54</td><td>0_54</td><td>318</td><td>2360</td><td>0.13474576</td></tr>\n",
       "\t<tr><td>Flt3l  </td><td>0</td><td>0 </td><td>0_0 </td><td>268</td><td>2360</td><td>0.11355932</td></tr>\n",
       "\t<tr><td>Control</td><td>3</td><td>1 </td><td>3_1 </td><td> 97</td><td> 935</td><td>0.10374332</td></tr>\n",
       "\t<tr><td>Control</td><td>3</td><td>53</td><td>3_53</td><td> 92</td><td> 935</td><td>0.09839572</td></tr>\n",
       "\t<tr><td>Flt3l  </td><td>2</td><td>0 </td><td>2_0 </td><td>144</td><td>1464</td><td>0.09836066</td></tr>\n",
       "\t<tr><td>Control</td><td>2</td><td>10</td><td>2_10</td><td> 70</td><td> 735</td><td>0.09523810</td></tr>\n",
       "\t<tr><td>Control</td><td>3</td><td>2 </td><td>3_2 </td><td> 87</td><td> 935</td><td>0.09304813</td></tr>\n",
       "\t<tr><td>Control</td><td>3</td><td>47</td><td>3_47</td><td> 83</td><td> 935</td><td>0.08877005</td></tr>\n",
       "\t<tr><td>Flt3l  </td><td>2</td><td>3 </td><td>2_3 </td><td>117</td><td>1464</td><td>0.07991803</td></tr>\n",
       "\t<tr><td>Flt3l  </td><td>3</td><td>3 </td><td>3_3 </td><td>149</td><td>1877</td><td>0.07938199</td></tr>\n",
       "\t<tr><td>Control</td><td>0</td><td>5 </td><td>0_5 </td><td> 90</td><td>1156</td><td>0.07785467</td></tr>\n",
       "\t<tr><td>Control</td><td>1</td><td>2 </td><td>1_2 </td><td> 65</td><td> 845</td><td>0.07692308</td></tr>\n",
       "\t<tr><td>Control</td><td>0</td><td>2 </td><td>0_2 </td><td> 85</td><td>1156</td><td>0.07352941</td></tr>\n",
       "\t<tr><td>Control</td><td>3</td><td>6 </td><td>3_6 </td><td> 67</td><td> 935</td><td>0.07165775</td></tr>\n",
       "\t<tr><td>Control</td><td>1</td><td>1 </td><td>1_1 </td><td> 60</td><td> 845</td><td>0.07100592</td></tr>\n",
       "\t<tr><td>Control</td><td>2</td><td>11</td><td>2_11</td><td> 52</td><td> 735</td><td>0.07074830</td></tr>\n",
       "\t<tr><td>Flt3l  </td><td>2</td><td>1 </td><td>2_1 </td><td>103</td><td>1464</td><td>0.07035519</td></tr>\n",
       "\t<tr><td>Control</td><td>2</td><td>1 </td><td>2_1 </td><td> 51</td><td> 735</td><td>0.06938776</td></tr>\n",
       "\t<tr><td>Control</td><td>1</td><td>0 </td><td>1_0 </td><td> 58</td><td> 845</td><td>0.06863905</td></tr>\n",
       "\t<tr><td>Control</td><td>1</td><td>9 </td><td>1_9 </td><td> 58</td><td> 845</td><td>0.06863905</td></tr>\n",
       "\t<tr><td>Control</td><td>3</td><td>4 </td><td>3_4 </td><td> 64</td><td> 935</td><td>0.06844920</td></tr>\n",
       "\t<tr><td>Control</td><td>1</td><td>14</td><td>1_14</td><td> 57</td><td> 845</td><td>0.06745562</td></tr>\n",
       "\t<tr><td>Flt3l  </td><td>0</td><td>1 </td><td>0_1 </td><td>159</td><td>2360</td><td>0.06737288</td></tr>\n",
       "\t<tr><td>Flt3l  </td><td>1</td><td>0 </td><td>1_0 </td><td>149</td><td>2319</td><td>0.06425183</td></tr>\n",
       "\t<tr><td>Flt3l  </td><td>1</td><td>1 </td><td>1_1 </td><td>149</td><td>2319</td><td>0.06425183</td></tr>\n",
       "\t<tr><td>⋮</td><td>⋮</td><td>⋮</td><td>⋮</td><td>⋮</td><td>⋮</td><td>⋮</td></tr>\n",
       "\t<tr><td>Flt3l  </td><td>0</td><td>57</td><td>0_57</td><td>3</td><td>2360</td><td>0.0012711864</td></tr>\n",
       "\t<tr><td>Control</td><td>1</td><td>28</td><td>1_28</td><td>1</td><td> 845</td><td>0.0011834320</td></tr>\n",
       "\t<tr><td>Control</td><td>1</td><td>29</td><td>1_29</td><td>1</td><td> 845</td><td>0.0011834320</td></tr>\n",
       "\t<tr><td>Control</td><td>1</td><td>34</td><td>1_34</td><td>1</td><td> 845</td><td>0.0011834320</td></tr>\n",
       "\t<tr><td>Control</td><td>3</td><td>39</td><td>3_39</td><td>1</td><td> 935</td><td>0.0010695187</td></tr>\n",
       "\t<tr><td>Control</td><td>3</td><td>45</td><td>3_45</td><td>1</td><td> 935</td><td>0.0010695187</td></tr>\n",
       "\t<tr><td>Control</td><td>3</td><td>48</td><td>3_48</td><td>1</td><td> 935</td><td>0.0010695187</td></tr>\n",
       "\t<tr><td>Control</td><td>3</td><td>51</td><td>3_51</td><td>1</td><td> 935</td><td>0.0010695187</td></tr>\n",
       "\t<tr><td>Control</td><td>3</td><td>54</td><td>3_54</td><td>1</td><td> 935</td><td>0.0010695187</td></tr>\n",
       "\t<tr><td>Flt3l  </td><td>3</td><td>28</td><td>3_28</td><td>2</td><td>1877</td><td>0.0010655301</td></tr>\n",
       "\t<tr><td>Flt3l  </td><td>3</td><td>41</td><td>3_41</td><td>2</td><td>1877</td><td>0.0010655301</td></tr>\n",
       "\t<tr><td>Flt3l  </td><td>3</td><td>43</td><td>3_43</td><td>2</td><td>1877</td><td>0.0010655301</td></tr>\n",
       "\t<tr><td>Flt3l  </td><td>3</td><td>52</td><td>3_52</td><td>2</td><td>1877</td><td>0.0010655301</td></tr>\n",
       "\t<tr><td>Flt3l  </td><td>3</td><td>56</td><td>3_56</td><td>2</td><td>1877</td><td>0.0010655301</td></tr>\n",
       "\t<tr><td>Flt3l  </td><td>3</td><td>57</td><td>3_57</td><td>2</td><td>1877</td><td>0.0010655301</td></tr>\n",
       "\t<tr><td>Flt3l  </td><td>3</td><td>58</td><td>3_58</td><td>2</td><td>1877</td><td>0.0010655301</td></tr>\n",
       "\t<tr><td>Control</td><td>0</td><td>26</td><td>0_26</td><td>1</td><td>1156</td><td>0.0008650519</td></tr>\n",
       "\t<tr><td>Control</td><td>0</td><td>30</td><td>0_30</td><td>1</td><td>1156</td><td>0.0008650519</td></tr>\n",
       "\t<tr><td>Control</td><td>0</td><td>33</td><td>0_33</td><td>1</td><td>1156</td><td>0.0008650519</td></tr>\n",
       "\t<tr><td>Control</td><td>0</td><td>44</td><td>0_44</td><td>1</td><td>1156</td><td>0.0008650519</td></tr>\n",
       "\t<tr><td>Control</td><td>0</td><td>47</td><td>0_47</td><td>1</td><td>1156</td><td>0.0008650519</td></tr>\n",
       "\t<tr><td>Control</td><td>0</td><td>50</td><td>0_50</td><td>1</td><td>1156</td><td>0.0008650519</td></tr>\n",
       "\t<tr><td>Flt3l  </td><td>0</td><td>48</td><td>0_48</td><td>2</td><td>2360</td><td>0.0008474576</td></tr>\n",
       "\t<tr><td>Flt3l  </td><td>0</td><td>55</td><td>0_55</td><td>2</td><td>2360</td><td>0.0008474576</td></tr>\n",
       "\t<tr><td>Flt3l  </td><td>0</td><td>58</td><td>0_58</td><td>2</td><td>2360</td><td>0.0008474576</td></tr>\n",
       "\t<tr><td>Flt3l  </td><td>3</td><td>39</td><td>3_39</td><td>1</td><td>1877</td><td>0.0005327651</td></tr>\n",
       "\t<tr><td>Flt3l  </td><td>3</td><td>46</td><td>3_46</td><td>1</td><td>1877</td><td>0.0005327651</td></tr>\n",
       "\t<tr><td>Flt3l  </td><td>3</td><td>48</td><td>3_48</td><td>1</td><td>1877</td><td>0.0005327651</td></tr>\n",
       "\t<tr><td>Flt3l  </td><td>3</td><td>51</td><td>3_51</td><td>1</td><td>1877</td><td>0.0005327651</td></tr>\n",
       "\t<tr><td>Flt3l  </td><td>0</td><td>52</td><td>0_52</td><td>1</td><td>2360</td><td>0.0004237288</td></tr>\n",
       "</tbody>\n",
       "</table>\n"
      ],
      "text/latex": [
       "A tibble: 355 × 7\n",
       "\\begin{tabular}{lllllll}\n",
       " condition & donor & lineage & name & size & total & norm\\\\\n",
       " <fct> & <fct> & <fct> & <fct> & <int> & <int> & <dbl>\\\\\n",
       "\\hline\n",
       "\t Control & 0 & 54 & 0\\_54 & 272 & 1156 & 0.23529412\\\\\n",
       "\t Control & 3 & 0  & 3\\_0  & 156 &  935 & 0.16684492\\\\\n",
       "\t Control & 0 & 0  & 0\\_0  & 192 & 1156 & 0.16608997\\\\\n",
       "\t Flt3l   & 3 & 1  & 3\\_1  & 278 & 1877 & 0.14810868\\\\\n",
       "\t Flt3l   & 3 & 0  & 3\\_0  & 263 & 1877 & 0.14011721\\\\\n",
       "\t Flt3l   & 0 & 54 & 0\\_54 & 318 & 2360 & 0.13474576\\\\\n",
       "\t Flt3l   & 0 & 0  & 0\\_0  & 268 & 2360 & 0.11355932\\\\\n",
       "\t Control & 3 & 1  & 3\\_1  &  97 &  935 & 0.10374332\\\\\n",
       "\t Control & 3 & 53 & 3\\_53 &  92 &  935 & 0.09839572\\\\\n",
       "\t Flt3l   & 2 & 0  & 2\\_0  & 144 & 1464 & 0.09836066\\\\\n",
       "\t Control & 2 & 10 & 2\\_10 &  70 &  735 & 0.09523810\\\\\n",
       "\t Control & 3 & 2  & 3\\_2  &  87 &  935 & 0.09304813\\\\\n",
       "\t Control & 3 & 47 & 3\\_47 &  83 &  935 & 0.08877005\\\\\n",
       "\t Flt3l   & 2 & 3  & 2\\_3  & 117 & 1464 & 0.07991803\\\\\n",
       "\t Flt3l   & 3 & 3  & 3\\_3  & 149 & 1877 & 0.07938199\\\\\n",
       "\t Control & 0 & 5  & 0\\_5  &  90 & 1156 & 0.07785467\\\\\n",
       "\t Control & 1 & 2  & 1\\_2  &  65 &  845 & 0.07692308\\\\\n",
       "\t Control & 0 & 2  & 0\\_2  &  85 & 1156 & 0.07352941\\\\\n",
       "\t Control & 3 & 6  & 3\\_6  &  67 &  935 & 0.07165775\\\\\n",
       "\t Control & 1 & 1  & 1\\_1  &  60 &  845 & 0.07100592\\\\\n",
       "\t Control & 2 & 11 & 2\\_11 &  52 &  735 & 0.07074830\\\\\n",
       "\t Flt3l   & 2 & 1  & 2\\_1  & 103 & 1464 & 0.07035519\\\\\n",
       "\t Control & 2 & 1  & 2\\_1  &  51 &  735 & 0.06938776\\\\\n",
       "\t Control & 1 & 0  & 1\\_0  &  58 &  845 & 0.06863905\\\\\n",
       "\t Control & 1 & 9  & 1\\_9  &  58 &  845 & 0.06863905\\\\\n",
       "\t Control & 3 & 4  & 3\\_4  &  64 &  935 & 0.06844920\\\\\n",
       "\t Control & 1 & 14 & 1\\_14 &  57 &  845 & 0.06745562\\\\\n",
       "\t Flt3l   & 0 & 1  & 0\\_1  & 159 & 2360 & 0.06737288\\\\\n",
       "\t Flt3l   & 1 & 0  & 1\\_0  & 149 & 2319 & 0.06425183\\\\\n",
       "\t Flt3l   & 1 & 1  & 1\\_1  & 149 & 2319 & 0.06425183\\\\\n",
       "\t ⋮ & ⋮ & ⋮ & ⋮ & ⋮ & ⋮ & ⋮\\\\\n",
       "\t Flt3l   & 0 & 57 & 0\\_57 & 3 & 2360 & 0.0012711864\\\\\n",
       "\t Control & 1 & 28 & 1\\_28 & 1 &  845 & 0.0011834320\\\\\n",
       "\t Control & 1 & 29 & 1\\_29 & 1 &  845 & 0.0011834320\\\\\n",
       "\t Control & 1 & 34 & 1\\_34 & 1 &  845 & 0.0011834320\\\\\n",
       "\t Control & 3 & 39 & 3\\_39 & 1 &  935 & 0.0010695187\\\\\n",
       "\t Control & 3 & 45 & 3\\_45 & 1 &  935 & 0.0010695187\\\\\n",
       "\t Control & 3 & 48 & 3\\_48 & 1 &  935 & 0.0010695187\\\\\n",
       "\t Control & 3 & 51 & 3\\_51 & 1 &  935 & 0.0010695187\\\\\n",
       "\t Control & 3 & 54 & 3\\_54 & 1 &  935 & 0.0010695187\\\\\n",
       "\t Flt3l   & 3 & 28 & 3\\_28 & 2 & 1877 & 0.0010655301\\\\\n",
       "\t Flt3l   & 3 & 41 & 3\\_41 & 2 & 1877 & 0.0010655301\\\\\n",
       "\t Flt3l   & 3 & 43 & 3\\_43 & 2 & 1877 & 0.0010655301\\\\\n",
       "\t Flt3l   & 3 & 52 & 3\\_52 & 2 & 1877 & 0.0010655301\\\\\n",
       "\t Flt3l   & 3 & 56 & 3\\_56 & 2 & 1877 & 0.0010655301\\\\\n",
       "\t Flt3l   & 3 & 57 & 3\\_57 & 2 & 1877 & 0.0010655301\\\\\n",
       "\t Flt3l   & 3 & 58 & 3\\_58 & 2 & 1877 & 0.0010655301\\\\\n",
       "\t Control & 0 & 26 & 0\\_26 & 1 & 1156 & 0.0008650519\\\\\n",
       "\t Control & 0 & 30 & 0\\_30 & 1 & 1156 & 0.0008650519\\\\\n",
       "\t Control & 0 & 33 & 0\\_33 & 1 & 1156 & 0.0008650519\\\\\n",
       "\t Control & 0 & 44 & 0\\_44 & 1 & 1156 & 0.0008650519\\\\\n",
       "\t Control & 0 & 47 & 0\\_47 & 1 & 1156 & 0.0008650519\\\\\n",
       "\t Control & 0 & 50 & 0\\_50 & 1 & 1156 & 0.0008650519\\\\\n",
       "\t Flt3l   & 0 & 48 & 0\\_48 & 2 & 2360 & 0.0008474576\\\\\n",
       "\t Flt3l   & 0 & 55 & 0\\_55 & 2 & 2360 & 0.0008474576\\\\\n",
       "\t Flt3l   & 0 & 58 & 0\\_58 & 2 & 2360 & 0.0008474576\\\\\n",
       "\t Flt3l   & 3 & 39 & 3\\_39 & 1 & 1877 & 0.0005327651\\\\\n",
       "\t Flt3l   & 3 & 46 & 3\\_46 & 1 & 1877 & 0.0005327651\\\\\n",
       "\t Flt3l   & 3 & 48 & 3\\_48 & 1 & 1877 & 0.0005327651\\\\\n",
       "\t Flt3l   & 3 & 51 & 3\\_51 & 1 & 1877 & 0.0005327651\\\\\n",
       "\t Flt3l   & 0 & 52 & 0\\_52 & 1 & 2360 & 0.0004237288\\\\\n",
       "\\end{tabular}\n"
      ],
      "text/markdown": [
       "\n",
       "A tibble: 355 × 7\n",
       "\n",
       "| condition &lt;fct&gt; | donor &lt;fct&gt; | lineage &lt;fct&gt; | name &lt;fct&gt; | size &lt;int&gt; | total &lt;int&gt; | norm &lt;dbl&gt; |\n",
       "|---|---|---|---|---|---|---|\n",
       "| Control | 0 | 54 | 0_54 | 272 | 1156 | 0.23529412 |\n",
       "| Control | 3 | 0  | 3_0  | 156 |  935 | 0.16684492 |\n",
       "| Control | 0 | 0  | 0_0  | 192 | 1156 | 0.16608997 |\n",
       "| Flt3l   | 3 | 1  | 3_1  | 278 | 1877 | 0.14810868 |\n",
       "| Flt3l   | 3 | 0  | 3_0  | 263 | 1877 | 0.14011721 |\n",
       "| Flt3l   | 0 | 54 | 0_54 | 318 | 2360 | 0.13474576 |\n",
       "| Flt3l   | 0 | 0  | 0_0  | 268 | 2360 | 0.11355932 |\n",
       "| Control | 3 | 1  | 3_1  |  97 |  935 | 0.10374332 |\n",
       "| Control | 3 | 53 | 3_53 |  92 |  935 | 0.09839572 |\n",
       "| Flt3l   | 2 | 0  | 2_0  | 144 | 1464 | 0.09836066 |\n",
       "| Control | 2 | 10 | 2_10 |  70 |  735 | 0.09523810 |\n",
       "| Control | 3 | 2  | 3_2  |  87 |  935 | 0.09304813 |\n",
       "| Control | 3 | 47 | 3_47 |  83 |  935 | 0.08877005 |\n",
       "| Flt3l   | 2 | 3  | 2_3  | 117 | 1464 | 0.07991803 |\n",
       "| Flt3l   | 3 | 3  | 3_3  | 149 | 1877 | 0.07938199 |\n",
       "| Control | 0 | 5  | 0_5  |  90 | 1156 | 0.07785467 |\n",
       "| Control | 1 | 2  | 1_2  |  65 |  845 | 0.07692308 |\n",
       "| Control | 0 | 2  | 0_2  |  85 | 1156 | 0.07352941 |\n",
       "| Control | 3 | 6  | 3_6  |  67 |  935 | 0.07165775 |\n",
       "| Control | 1 | 1  | 1_1  |  60 |  845 | 0.07100592 |\n",
       "| Control | 2 | 11 | 2_11 |  52 |  735 | 0.07074830 |\n",
       "| Flt3l   | 2 | 1  | 2_1  | 103 | 1464 | 0.07035519 |\n",
       "| Control | 2 | 1  | 2_1  |  51 |  735 | 0.06938776 |\n",
       "| Control | 1 | 0  | 1_0  |  58 |  845 | 0.06863905 |\n",
       "| Control | 1 | 9  | 1_9  |  58 |  845 | 0.06863905 |\n",
       "| Control | 3 | 4  | 3_4  |  64 |  935 | 0.06844920 |\n",
       "| Control | 1 | 14 | 1_14 |  57 |  845 | 0.06745562 |\n",
       "| Flt3l   | 0 | 1  | 0_1  | 159 | 2360 | 0.06737288 |\n",
       "| Flt3l   | 1 | 0  | 1_0  | 149 | 2319 | 0.06425183 |\n",
       "| Flt3l   | 1 | 1  | 1_1  | 149 | 2319 | 0.06425183 |\n",
       "| ⋮ | ⋮ | ⋮ | ⋮ | ⋮ | ⋮ | ⋮ |\n",
       "| Flt3l   | 0 | 57 | 0_57 | 3 | 2360 | 0.0012711864 |\n",
       "| Control | 1 | 28 | 1_28 | 1 |  845 | 0.0011834320 |\n",
       "| Control | 1 | 29 | 1_29 | 1 |  845 | 0.0011834320 |\n",
       "| Control | 1 | 34 | 1_34 | 1 |  845 | 0.0011834320 |\n",
       "| Control | 3 | 39 | 3_39 | 1 |  935 | 0.0010695187 |\n",
       "| Control | 3 | 45 | 3_45 | 1 |  935 | 0.0010695187 |\n",
       "| Control | 3 | 48 | 3_48 | 1 |  935 | 0.0010695187 |\n",
       "| Control | 3 | 51 | 3_51 | 1 |  935 | 0.0010695187 |\n",
       "| Control | 3 | 54 | 3_54 | 1 |  935 | 0.0010695187 |\n",
       "| Flt3l   | 3 | 28 | 3_28 | 2 | 1877 | 0.0010655301 |\n",
       "| Flt3l   | 3 | 41 | 3_41 | 2 | 1877 | 0.0010655301 |\n",
       "| Flt3l   | 3 | 43 | 3_43 | 2 | 1877 | 0.0010655301 |\n",
       "| Flt3l   | 3 | 52 | 3_52 | 2 | 1877 | 0.0010655301 |\n",
       "| Flt3l   | 3 | 56 | 3_56 | 2 | 1877 | 0.0010655301 |\n",
       "| Flt3l   | 3 | 57 | 3_57 | 2 | 1877 | 0.0010655301 |\n",
       "| Flt3l   | 3 | 58 | 3_58 | 2 | 1877 | 0.0010655301 |\n",
       "| Control | 0 | 26 | 0_26 | 1 | 1156 | 0.0008650519 |\n",
       "| Control | 0 | 30 | 0_30 | 1 | 1156 | 0.0008650519 |\n",
       "| Control | 0 | 33 | 0_33 | 1 | 1156 | 0.0008650519 |\n",
       "| Control | 0 | 44 | 0_44 | 1 | 1156 | 0.0008650519 |\n",
       "| Control | 0 | 47 | 0_47 | 1 | 1156 | 0.0008650519 |\n",
       "| Control | 0 | 50 | 0_50 | 1 | 1156 | 0.0008650519 |\n",
       "| Flt3l   | 0 | 48 | 0_48 | 2 | 2360 | 0.0008474576 |\n",
       "| Flt3l   | 0 | 55 | 0_55 | 2 | 2360 | 0.0008474576 |\n",
       "| Flt3l   | 0 | 58 | 0_58 | 2 | 2360 | 0.0008474576 |\n",
       "| Flt3l   | 3 | 39 | 3_39 | 1 | 1877 | 0.0005327651 |\n",
       "| Flt3l   | 3 | 46 | 3_46 | 1 | 1877 | 0.0005327651 |\n",
       "| Flt3l   | 3 | 48 | 3_48 | 1 | 1877 | 0.0005327651 |\n",
       "| Flt3l   | 3 | 51 | 3_51 | 1 | 1877 | 0.0005327651 |\n",
       "| Flt3l   | 0 | 52 | 0_52 | 1 | 2360 | 0.0004237288 |\n",
       "\n"
      ],
      "text/plain": [
       "    condition donor lineage name size total norm        \n",
       "1   Control   0     54      0_54 272  1156  0.23529412  \n",
       "2   Control   3     0       3_0  156   935  0.16684492  \n",
       "3   Control   0     0       0_0  192  1156  0.16608997  \n",
       "4   Flt3l     3     1       3_1  278  1877  0.14810868  \n",
       "5   Flt3l     3     0       3_0  263  1877  0.14011721  \n",
       "6   Flt3l     0     54      0_54 318  2360  0.13474576  \n",
       "7   Flt3l     0     0       0_0  268  2360  0.11355932  \n",
       "8   Control   3     1       3_1   97   935  0.10374332  \n",
       "9   Control   3     53      3_53  92   935  0.09839572  \n",
       "10  Flt3l     2     0       2_0  144  1464  0.09836066  \n",
       "11  Control   2     10      2_10  70   735  0.09523810  \n",
       "12  Control   3     2       3_2   87   935  0.09304813  \n",
       "13  Control   3     47      3_47  83   935  0.08877005  \n",
       "14  Flt3l     2     3       2_3  117  1464  0.07991803  \n",
       "15  Flt3l     3     3       3_3  149  1877  0.07938199  \n",
       "16  Control   0     5       0_5   90  1156  0.07785467  \n",
       "17  Control   1     2       1_2   65   845  0.07692308  \n",
       "18  Control   0     2       0_2   85  1156  0.07352941  \n",
       "19  Control   3     6       3_6   67   935  0.07165775  \n",
       "20  Control   1     1       1_1   60   845  0.07100592  \n",
       "21  Control   2     11      2_11  52   735  0.07074830  \n",
       "22  Flt3l     2     1       2_1  103  1464  0.07035519  \n",
       "23  Control   2     1       2_1   51   735  0.06938776  \n",
       "24  Control   1     0       1_0   58   845  0.06863905  \n",
       "25  Control   1     9       1_9   58   845  0.06863905  \n",
       "26  Control   3     4       3_4   64   935  0.06844920  \n",
       "27  Control   1     14      1_14  57   845  0.06745562  \n",
       "28  Flt3l     0     1       0_1  159  2360  0.06737288  \n",
       "29  Flt3l     1     0       1_0  149  2319  0.06425183  \n",
       "30  Flt3l     1     1       1_1  149  2319  0.06425183  \n",
       "⋮   ⋮         ⋮     ⋮       ⋮    ⋮    ⋮     ⋮           \n",
       "326 Flt3l     0     57      0_57 3    2360  0.0012711864\n",
       "327 Control   1     28      1_28 1     845  0.0011834320\n",
       "328 Control   1     29      1_29 1     845  0.0011834320\n",
       "329 Control   1     34      1_34 1     845  0.0011834320\n",
       "330 Control   3     39      3_39 1     935  0.0010695187\n",
       "331 Control   3     45      3_45 1     935  0.0010695187\n",
       "332 Control   3     48      3_48 1     935  0.0010695187\n",
       "333 Control   3     51      3_51 1     935  0.0010695187\n",
       "334 Control   3     54      3_54 1     935  0.0010695187\n",
       "335 Flt3l     3     28      3_28 2    1877  0.0010655301\n",
       "336 Flt3l     3     41      3_41 2    1877  0.0010655301\n",
       "337 Flt3l     3     43      3_43 2    1877  0.0010655301\n",
       "338 Flt3l     3     52      3_52 2    1877  0.0010655301\n",
       "339 Flt3l     3     56      3_56 2    1877  0.0010655301\n",
       "340 Flt3l     3     57      3_57 2    1877  0.0010655301\n",
       "341 Flt3l     3     58      3_58 2    1877  0.0010655301\n",
       "342 Control   0     26      0_26 1    1156  0.0008650519\n",
       "343 Control   0     30      0_30 1    1156  0.0008650519\n",
       "344 Control   0     33      0_33 1    1156  0.0008650519\n",
       "345 Control   0     44      0_44 1    1156  0.0008650519\n",
       "346 Control   0     47      0_47 1    1156  0.0008650519\n",
       "347 Control   0     50      0_50 1    1156  0.0008650519\n",
       "348 Flt3l     0     48      0_48 2    2360  0.0008474576\n",
       "349 Flt3l     0     55      0_55 2    2360  0.0008474576\n",
       "350 Flt3l     0     58      0_58 2    2360  0.0008474576\n",
       "351 Flt3l     3     39      3_39 1    1877  0.0005327651\n",
       "352 Flt3l     3     46      3_46 1    1877  0.0005327651\n",
       "353 Flt3l     3     48      3_48 1    1877  0.0005327651\n",
       "354 Flt3l     3     51      3_51 1    1877  0.0005327651\n",
       "355 Flt3l     0     52      0_52 1    2360  0.0004237288"
      ]
     },
     "metadata": {},
     "output_type": "display_data"
    }
   ],
   "source": [
    "counts.norm.sizes = counts.norm[order(counts.norm[,\"norm\"], decreasing=T),]\n",
    "counts.norm.sizes"
   ]
  },
  {
   "cell_type": "code",
   "execution_count": 10,
   "id": "67b08dba",
   "metadata": {
    "execution": {
     "iopub.execute_input": "2021-12-03T21:04:33.431204Z",
     "iopub.status.busy": "2021-12-03T21:04:33.428289Z",
     "iopub.status.idle": "2021-12-03T21:04:33.553774Z",
     "shell.execute_reply": "2021-12-03T21:04:33.554591Z"
    },
    "papermill": {
     "duration": 0.220968,
     "end_time": "2021-12-03T21:04:33.554927",
     "exception": false,
     "start_time": "2021-12-03T21:04:33.333959",
     "status": "completed"
    },
    "scrolled": true,
    "tags": []
   },
   "outputs": [
    {
     "name": "stderr",
     "output_type": "stream",
     "text": [
      "`summarise()` has grouped output by 'donor'. You can override using the `.groups` argument.\n",
      "\n"
     ]
    },
    {
     "data": {
      "text/html": [
       "<table class=\"dataframe\">\n",
       "<caption>A grouped_df: 189 × 5</caption>\n",
       "<thead>\n",
       "\t<tr><th scope=col>donor</th><th scope=col>lineage</th><th scope=col>norm.total</th><th scope=col>total</th><th scope=col>name</th></tr>\n",
       "\t<tr><th scope=col>&lt;fct&gt;</th><th scope=col>&lt;fct&gt;</th><th scope=col>&lt;dbl&gt;</th><th scope=col>&lt;int&gt;</th><th scope=col>&lt;fct&gt;</th></tr>\n",
       "</thead>\n",
       "<tbody>\n",
       "\t<tr><td>0</td><td>54</td><td>0.37003988</td><td>590</td><td>0_54</td></tr>\n",
       "\t<tr><td>3</td><td>0 </td><td>0.30696213</td><td>419</td><td>3_0 </td></tr>\n",
       "\t<tr><td>0</td><td>0 </td><td>0.27964929</td><td>460</td><td>0_0 </td></tr>\n",
       "\t<tr><td>3</td><td>1 </td><td>0.25185200</td><td>375</td><td>3_1 </td></tr>\n",
       "\t<tr><td>3</td><td>2 </td><td>0.14952122</td><td>193</td><td>3_2 </td></tr>\n",
       "\t<tr><td>3</td><td>47</td><td>0.14311209</td><td>185</td><td>3_47</td></tr>\n",
       "\t<tr><td>2</td><td>1 </td><td>0.13974295</td><td>154</td><td>2_1 </td></tr>\n",
       "\t<tr><td>1</td><td>1 </td><td>0.13525775</td><td>209</td><td>1_1 </td></tr>\n",
       "\t<tr><td>0</td><td>2 </td><td>0.13454636</td><td>229</td><td>0_2 </td></tr>\n",
       "\t<tr><td>1</td><td>0 </td><td>0.13289089</td><td>207</td><td>1_0 </td></tr>\n",
       "\t<tr><td>2</td><td>0 </td><td>0.13237426</td><td>169</td><td>2_0 </td></tr>\n",
       "\t<tr><td>1</td><td>2 </td><td>0.13039440</td><td>189</td><td>1_2 </td></tr>\n",
       "\t<tr><td>0</td><td>1 </td><td>0.12706146</td><td>228</td><td>0_1 </td></tr>\n",
       "\t<tr><td>2</td><td>3 </td><td>0.12481599</td><td>150</td><td>2_3 </td></tr>\n",
       "\t<tr><td>3</td><td>53</td><td>0.12290291</td><td>138</td><td>3_53</td></tr>\n",
       "\t<tr><td>3</td><td>4 </td><td>0.11746358</td><td>156</td><td>3_4 </td></tr>\n",
       "\t<tr><td>3</td><td>6 </td><td>0.11108237</td><td>141</td><td>3_6 </td></tr>\n",
       "\t<tr><td>2</td><td>5 </td><td>0.10570146</td><td>124</td><td>2_5 </td></tr>\n",
       "\t<tr><td>2</td><td>2 </td><td>0.10566800</td><td>118</td><td>2_2 </td></tr>\n",
       "\t<tr><td>2</td><td>4 </td><td>0.10497937</td><td>116</td><td>2_4 </td></tr>\n",
       "\t<tr><td>1</td><td>6 </td><td>0.10412874</td><td>156</td><td>1_6 </td></tr>\n",
       "\t<tr><td>2</td><td>10</td><td>0.10411788</td><td> 83</td><td>2_10</td></tr>\n",
       "\t<tr><td>0</td><td>5 </td><td>0.10158348</td><td>146</td><td>0_5 </td></tr>\n",
       "\t<tr><td>1</td><td>5 </td><td>0.09919395</td><td>162</td><td>1_5 </td></tr>\n",
       "\t<tr><td>1</td><td>7 </td><td>0.09841265</td><td>141</td><td>1_7 </td></tr>\n",
       "\t<tr><td>3</td><td>3 </td><td>0.09756381</td><td>166</td><td>3_3 </td></tr>\n",
       "\t<tr><td>1</td><td>9 </td><td>0.09666838</td><td>123</td><td>1_9 </td></tr>\n",
       "\t<tr><td>1</td><td>14</td><td>0.09591616</td><td>123</td><td>1_14</td></tr>\n",
       "\t<tr><td>2</td><td>6 </td><td>0.09402810</td><td> 96</td><td>2_6 </td></tr>\n",
       "\t<tr><td>1</td><td>3 </td><td>0.09400961</td><td>143</td><td>1_3 </td></tr>\n",
       "\t<tr><td>⋮</td><td>⋮</td><td>⋮</td><td>⋮</td><td>⋮</td></tr>\n",
       "\t<tr><td>0</td><td>33</td><td>0.0034074248</td><td>7</td><td>0_33</td></tr>\n",
       "\t<tr><td>3</td><td>43</td><td>0.0032045675</td><td>4</td><td>3_43</td></tr>\n",
       "\t<tr><td>3</td><td>56</td><td>0.0032045675</td><td>4</td><td>3_56</td></tr>\n",
       "\t<tr><td>0</td><td>34</td><td>0.0029661017</td><td>7</td><td>0_34</td></tr>\n",
       "\t<tr><td>0</td><td>56</td><td>0.0029661017</td><td>7</td><td>0_56</td></tr>\n",
       "\t<tr><td>1</td><td>34</td><td>0.0029083134</td><td>5</td><td>1_34</td></tr>\n",
       "\t<tr><td>3</td><td>45</td><td>0.0026678139</td><td>4</td><td>3_45</td></tr>\n",
       "\t<tr><td>1</td><td>32</td><td>0.0025873221</td><td>6</td><td>1_32</td></tr>\n",
       "\t<tr><td>0</td><td>50</td><td>0.0021362383</td><td>4</td><td>0_50</td></tr>\n",
       "\t<tr><td>3</td><td>38</td><td>0.0021310602</td><td>4</td><td>3_38</td></tr>\n",
       "\t<tr><td>0</td><td>35</td><td>0.0021186441</td><td>5</td><td>0_35</td></tr>\n",
       "\t<tr><td>1</td><td>35</td><td>0.0017248814</td><td>4</td><td>1_35</td></tr>\n",
       "\t<tr><td>1</td><td>36</td><td>0.0017248814</td><td>4</td><td>1_36</td></tr>\n",
       "\t<tr><td>0</td><td>41</td><td>0.0016949153</td><td>4</td><td>0_41</td></tr>\n",
       "\t<tr><td>3</td><td>39</td><td>0.0016022838</td><td>2</td><td>3_39</td></tr>\n",
       "\t<tr><td>3</td><td>48</td><td>0.0016022838</td><td>2</td><td>3_48</td></tr>\n",
       "\t<tr><td>3</td><td>51</td><td>0.0016022838</td><td>2</td><td>3_51</td></tr>\n",
       "\t<tr><td>3</td><td>34</td><td>0.0015982952</td><td>3</td><td>3_34</td></tr>\n",
       "\t<tr><td>3</td><td>35</td><td>0.0015982952</td><td>3</td><td>3_35</td></tr>\n",
       "\t<tr><td>3</td><td>42</td><td>0.0015982952</td><td>3</td><td>3_42</td></tr>\n",
       "\t<tr><td>3</td><td>44</td><td>0.0015982952</td><td>3</td><td>3_44</td></tr>\n",
       "\t<tr><td>3</td><td>49</td><td>0.0015982952</td><td>3</td><td>3_49</td></tr>\n",
       "\t<tr><td>0</td><td>27</td><td>0.0012711864</td><td>3</td><td>0_27</td></tr>\n",
       "\t<tr><td>0</td><td>57</td><td>0.0012711864</td><td>3</td><td>0_57</td></tr>\n",
       "\t<tr><td>3</td><td>54</td><td>0.0010695187</td><td>1</td><td>3_54</td></tr>\n",
       "\t<tr><td>3</td><td>52</td><td>0.0010655301</td><td>2</td><td>3_52</td></tr>\n",
       "\t<tr><td>3</td><td>58</td><td>0.0010655301</td><td>2</td><td>3_58</td></tr>\n",
       "\t<tr><td>0</td><td>58</td><td>0.0008474576</td><td>2</td><td>0_58</td></tr>\n",
       "\t<tr><td>3</td><td>46</td><td>0.0005327651</td><td>1</td><td>3_46</td></tr>\n",
       "\t<tr><td>0</td><td>52</td><td>0.0004237288</td><td>1</td><td>0_52</td></tr>\n",
       "</tbody>\n",
       "</table>\n"
      ],
      "text/latex": [
       "A grouped\\_df: 189 × 5\n",
       "\\begin{tabular}{lllll}\n",
       " donor & lineage & norm.total & total & name\\\\\n",
       " <fct> & <fct> & <dbl> & <int> & <fct>\\\\\n",
       "\\hline\n",
       "\t 0 & 54 & 0.37003988 & 590 & 0\\_54\\\\\n",
       "\t 3 & 0  & 0.30696213 & 419 & 3\\_0 \\\\\n",
       "\t 0 & 0  & 0.27964929 & 460 & 0\\_0 \\\\\n",
       "\t 3 & 1  & 0.25185200 & 375 & 3\\_1 \\\\\n",
       "\t 3 & 2  & 0.14952122 & 193 & 3\\_2 \\\\\n",
       "\t 3 & 47 & 0.14311209 & 185 & 3\\_47\\\\\n",
       "\t 2 & 1  & 0.13974295 & 154 & 2\\_1 \\\\\n",
       "\t 1 & 1  & 0.13525775 & 209 & 1\\_1 \\\\\n",
       "\t 0 & 2  & 0.13454636 & 229 & 0\\_2 \\\\\n",
       "\t 1 & 0  & 0.13289089 & 207 & 1\\_0 \\\\\n",
       "\t 2 & 0  & 0.13237426 & 169 & 2\\_0 \\\\\n",
       "\t 1 & 2  & 0.13039440 & 189 & 1\\_2 \\\\\n",
       "\t 0 & 1  & 0.12706146 & 228 & 0\\_1 \\\\\n",
       "\t 2 & 3  & 0.12481599 & 150 & 2\\_3 \\\\\n",
       "\t 3 & 53 & 0.12290291 & 138 & 3\\_53\\\\\n",
       "\t 3 & 4  & 0.11746358 & 156 & 3\\_4 \\\\\n",
       "\t 3 & 6  & 0.11108237 & 141 & 3\\_6 \\\\\n",
       "\t 2 & 5  & 0.10570146 & 124 & 2\\_5 \\\\\n",
       "\t 2 & 2  & 0.10566800 & 118 & 2\\_2 \\\\\n",
       "\t 2 & 4  & 0.10497937 & 116 & 2\\_4 \\\\\n",
       "\t 1 & 6  & 0.10412874 & 156 & 1\\_6 \\\\\n",
       "\t 2 & 10 & 0.10411788 &  83 & 2\\_10\\\\\n",
       "\t 0 & 5  & 0.10158348 & 146 & 0\\_5 \\\\\n",
       "\t 1 & 5  & 0.09919395 & 162 & 1\\_5 \\\\\n",
       "\t 1 & 7  & 0.09841265 & 141 & 1\\_7 \\\\\n",
       "\t 3 & 3  & 0.09756381 & 166 & 3\\_3 \\\\\n",
       "\t 1 & 9  & 0.09666838 & 123 & 1\\_9 \\\\\n",
       "\t 1 & 14 & 0.09591616 & 123 & 1\\_14\\\\\n",
       "\t 2 & 6  & 0.09402810 &  96 & 2\\_6 \\\\\n",
       "\t 1 & 3  & 0.09400961 & 143 & 1\\_3 \\\\\n",
       "\t ⋮ & ⋮ & ⋮ & ⋮ & ⋮\\\\\n",
       "\t 0 & 33 & 0.0034074248 & 7 & 0\\_33\\\\\n",
       "\t 3 & 43 & 0.0032045675 & 4 & 3\\_43\\\\\n",
       "\t 3 & 56 & 0.0032045675 & 4 & 3\\_56\\\\\n",
       "\t 0 & 34 & 0.0029661017 & 7 & 0\\_34\\\\\n",
       "\t 0 & 56 & 0.0029661017 & 7 & 0\\_56\\\\\n",
       "\t 1 & 34 & 0.0029083134 & 5 & 1\\_34\\\\\n",
       "\t 3 & 45 & 0.0026678139 & 4 & 3\\_45\\\\\n",
       "\t 1 & 32 & 0.0025873221 & 6 & 1\\_32\\\\\n",
       "\t 0 & 50 & 0.0021362383 & 4 & 0\\_50\\\\\n",
       "\t 3 & 38 & 0.0021310602 & 4 & 3\\_38\\\\\n",
       "\t 0 & 35 & 0.0021186441 & 5 & 0\\_35\\\\\n",
       "\t 1 & 35 & 0.0017248814 & 4 & 1\\_35\\\\\n",
       "\t 1 & 36 & 0.0017248814 & 4 & 1\\_36\\\\\n",
       "\t 0 & 41 & 0.0016949153 & 4 & 0\\_41\\\\\n",
       "\t 3 & 39 & 0.0016022838 & 2 & 3\\_39\\\\\n",
       "\t 3 & 48 & 0.0016022838 & 2 & 3\\_48\\\\\n",
       "\t 3 & 51 & 0.0016022838 & 2 & 3\\_51\\\\\n",
       "\t 3 & 34 & 0.0015982952 & 3 & 3\\_34\\\\\n",
       "\t 3 & 35 & 0.0015982952 & 3 & 3\\_35\\\\\n",
       "\t 3 & 42 & 0.0015982952 & 3 & 3\\_42\\\\\n",
       "\t 3 & 44 & 0.0015982952 & 3 & 3\\_44\\\\\n",
       "\t 3 & 49 & 0.0015982952 & 3 & 3\\_49\\\\\n",
       "\t 0 & 27 & 0.0012711864 & 3 & 0\\_27\\\\\n",
       "\t 0 & 57 & 0.0012711864 & 3 & 0\\_57\\\\\n",
       "\t 3 & 54 & 0.0010695187 & 1 & 3\\_54\\\\\n",
       "\t 3 & 52 & 0.0010655301 & 2 & 3\\_52\\\\\n",
       "\t 3 & 58 & 0.0010655301 & 2 & 3\\_58\\\\\n",
       "\t 0 & 58 & 0.0008474576 & 2 & 0\\_58\\\\\n",
       "\t 3 & 46 & 0.0005327651 & 1 & 3\\_46\\\\\n",
       "\t 0 & 52 & 0.0004237288 & 1 & 0\\_52\\\\\n",
       "\\end{tabular}\n"
      ],
      "text/markdown": [
       "\n",
       "A grouped_df: 189 × 5\n",
       "\n",
       "| donor &lt;fct&gt; | lineage &lt;fct&gt; | norm.total &lt;dbl&gt; | total &lt;int&gt; | name &lt;fct&gt; |\n",
       "|---|---|---|---|---|\n",
       "| 0 | 54 | 0.37003988 | 590 | 0_54 |\n",
       "| 3 | 0  | 0.30696213 | 419 | 3_0  |\n",
       "| 0 | 0  | 0.27964929 | 460 | 0_0  |\n",
       "| 3 | 1  | 0.25185200 | 375 | 3_1  |\n",
       "| 3 | 2  | 0.14952122 | 193 | 3_2  |\n",
       "| 3 | 47 | 0.14311209 | 185 | 3_47 |\n",
       "| 2 | 1  | 0.13974295 | 154 | 2_1  |\n",
       "| 1 | 1  | 0.13525775 | 209 | 1_1  |\n",
       "| 0 | 2  | 0.13454636 | 229 | 0_2  |\n",
       "| 1 | 0  | 0.13289089 | 207 | 1_0  |\n",
       "| 2 | 0  | 0.13237426 | 169 | 2_0  |\n",
       "| 1 | 2  | 0.13039440 | 189 | 1_2  |\n",
       "| 0 | 1  | 0.12706146 | 228 | 0_1  |\n",
       "| 2 | 3  | 0.12481599 | 150 | 2_3  |\n",
       "| 3 | 53 | 0.12290291 | 138 | 3_53 |\n",
       "| 3 | 4  | 0.11746358 | 156 | 3_4  |\n",
       "| 3 | 6  | 0.11108237 | 141 | 3_6  |\n",
       "| 2 | 5  | 0.10570146 | 124 | 2_5  |\n",
       "| 2 | 2  | 0.10566800 | 118 | 2_2  |\n",
       "| 2 | 4  | 0.10497937 | 116 | 2_4  |\n",
       "| 1 | 6  | 0.10412874 | 156 | 1_6  |\n",
       "| 2 | 10 | 0.10411788 |  83 | 2_10 |\n",
       "| 0 | 5  | 0.10158348 | 146 | 0_5  |\n",
       "| 1 | 5  | 0.09919395 | 162 | 1_5  |\n",
       "| 1 | 7  | 0.09841265 | 141 | 1_7  |\n",
       "| 3 | 3  | 0.09756381 | 166 | 3_3  |\n",
       "| 1 | 9  | 0.09666838 | 123 | 1_9  |\n",
       "| 1 | 14 | 0.09591616 | 123 | 1_14 |\n",
       "| 2 | 6  | 0.09402810 |  96 | 2_6  |\n",
       "| 1 | 3  | 0.09400961 | 143 | 1_3  |\n",
       "| ⋮ | ⋮ | ⋮ | ⋮ | ⋮ |\n",
       "| 0 | 33 | 0.0034074248 | 7 | 0_33 |\n",
       "| 3 | 43 | 0.0032045675 | 4 | 3_43 |\n",
       "| 3 | 56 | 0.0032045675 | 4 | 3_56 |\n",
       "| 0 | 34 | 0.0029661017 | 7 | 0_34 |\n",
       "| 0 | 56 | 0.0029661017 | 7 | 0_56 |\n",
       "| 1 | 34 | 0.0029083134 | 5 | 1_34 |\n",
       "| 3 | 45 | 0.0026678139 | 4 | 3_45 |\n",
       "| 1 | 32 | 0.0025873221 | 6 | 1_32 |\n",
       "| 0 | 50 | 0.0021362383 | 4 | 0_50 |\n",
       "| 3 | 38 | 0.0021310602 | 4 | 3_38 |\n",
       "| 0 | 35 | 0.0021186441 | 5 | 0_35 |\n",
       "| 1 | 35 | 0.0017248814 | 4 | 1_35 |\n",
       "| 1 | 36 | 0.0017248814 | 4 | 1_36 |\n",
       "| 0 | 41 | 0.0016949153 | 4 | 0_41 |\n",
       "| 3 | 39 | 0.0016022838 | 2 | 3_39 |\n",
       "| 3 | 48 | 0.0016022838 | 2 | 3_48 |\n",
       "| 3 | 51 | 0.0016022838 | 2 | 3_51 |\n",
       "| 3 | 34 | 0.0015982952 | 3 | 3_34 |\n",
       "| 3 | 35 | 0.0015982952 | 3 | 3_35 |\n",
       "| 3 | 42 | 0.0015982952 | 3 | 3_42 |\n",
       "| 3 | 44 | 0.0015982952 | 3 | 3_44 |\n",
       "| 3 | 49 | 0.0015982952 | 3 | 3_49 |\n",
       "| 0 | 27 | 0.0012711864 | 3 | 0_27 |\n",
       "| 0 | 57 | 0.0012711864 | 3 | 0_57 |\n",
       "| 3 | 54 | 0.0010695187 | 1 | 3_54 |\n",
       "| 3 | 52 | 0.0010655301 | 2 | 3_52 |\n",
       "| 3 | 58 | 0.0010655301 | 2 | 3_58 |\n",
       "| 0 | 58 | 0.0008474576 | 2 | 0_58 |\n",
       "| 3 | 46 | 0.0005327651 | 1 | 3_46 |\n",
       "| 0 | 52 | 0.0004237288 | 1 | 0_52 |\n",
       "\n"
      ],
      "text/plain": [
       "    donor lineage norm.total   total name\n",
       "1   0     54      0.37003988   590   0_54\n",
       "2   3     0       0.30696213   419   3_0 \n",
       "3   0     0       0.27964929   460   0_0 \n",
       "4   3     1       0.25185200   375   3_1 \n",
       "5   3     2       0.14952122   193   3_2 \n",
       "6   3     47      0.14311209   185   3_47\n",
       "7   2     1       0.13974295   154   2_1 \n",
       "8   1     1       0.13525775   209   1_1 \n",
       "9   0     2       0.13454636   229   0_2 \n",
       "10  1     0       0.13289089   207   1_0 \n",
       "11  2     0       0.13237426   169   2_0 \n",
       "12  1     2       0.13039440   189   1_2 \n",
       "13  0     1       0.12706146   228   0_1 \n",
       "14  2     3       0.12481599   150   2_3 \n",
       "15  3     53      0.12290291   138   3_53\n",
       "16  3     4       0.11746358   156   3_4 \n",
       "17  3     6       0.11108237   141   3_6 \n",
       "18  2     5       0.10570146   124   2_5 \n",
       "19  2     2       0.10566800   118   2_2 \n",
       "20  2     4       0.10497937   116   2_4 \n",
       "21  1     6       0.10412874   156   1_6 \n",
       "22  2     10      0.10411788    83   2_10\n",
       "23  0     5       0.10158348   146   0_5 \n",
       "24  1     5       0.09919395   162   1_5 \n",
       "25  1     7       0.09841265   141   1_7 \n",
       "26  3     3       0.09756381   166   3_3 \n",
       "27  1     9       0.09666838   123   1_9 \n",
       "28  1     14      0.09591616   123   1_14\n",
       "29  2     6       0.09402810    96   2_6 \n",
       "30  1     3       0.09400961   143   1_3 \n",
       "⋮   ⋮     ⋮       ⋮            ⋮     ⋮   \n",
       "160 0     33      0.0034074248 7     0_33\n",
       "161 3     43      0.0032045675 4     3_43\n",
       "162 3     56      0.0032045675 4     3_56\n",
       "163 0     34      0.0029661017 7     0_34\n",
       "164 0     56      0.0029661017 7     0_56\n",
       "165 1     34      0.0029083134 5     1_34\n",
       "166 3     45      0.0026678139 4     3_45\n",
       "167 1     32      0.0025873221 6     1_32\n",
       "168 0     50      0.0021362383 4     0_50\n",
       "169 3     38      0.0021310602 4     3_38\n",
       "170 0     35      0.0021186441 5     0_35\n",
       "171 1     35      0.0017248814 4     1_35\n",
       "172 1     36      0.0017248814 4     1_36\n",
       "173 0     41      0.0016949153 4     0_41\n",
       "174 3     39      0.0016022838 2     3_39\n",
       "175 3     48      0.0016022838 2     3_48\n",
       "176 3     51      0.0016022838 2     3_51\n",
       "177 3     34      0.0015982952 3     3_34\n",
       "178 3     35      0.0015982952 3     3_35\n",
       "179 3     42      0.0015982952 3     3_42\n",
       "180 3     44      0.0015982952 3     3_44\n",
       "181 3     49      0.0015982952 3     3_49\n",
       "182 0     27      0.0012711864 3     0_27\n",
       "183 0     57      0.0012711864 3     0_57\n",
       "184 3     54      0.0010695187 1     3_54\n",
       "185 3     52      0.0010655301 2     3_52\n",
       "186 3     58      0.0010655301 2     3_58\n",
       "187 0     58      0.0008474576 2     0_58\n",
       "188 3     46      0.0005327651 1     3_46\n",
       "189 0     52      0.0004237288 1     0_52"
      ]
     },
     "metadata": {},
     "output_type": "display_data"
    }
   ],
   "source": [
    "clone.sizes <- counts.norm.sizes %>% \n",
    "               group_by(donor,lineage) %>% \n",
    "               summarize(norm.total=sum(norm), total=sum(size)) %>% \n",
    "               arrange(desc(norm.total)) %>% \n",
    "               mutate(name=factor(paste0(donor,\"_\", lineage)))\n",
    "\n",
    "\n",
    "clone.sizes"
   ]
  },
  {
   "cell_type": "code",
   "execution_count": 11,
   "id": "c5259eb4",
   "metadata": {
    "execution": {
     "iopub.execute_input": "2021-12-03T21:04:33.751833Z",
     "iopub.status.busy": "2021-12-03T21:04:33.748428Z",
     "iopub.status.idle": "2021-12-03T21:04:33.779463Z",
     "shell.execute_reply": "2021-12-03T21:04:33.778258Z"
    },
    "papermill": {
     "duration": 0.128886,
     "end_time": "2021-12-03T21:04:33.779717",
     "exception": false,
     "start_time": "2021-12-03T21:04:33.650831",
     "status": "completed"
    },
    "scrolled": true,
    "tags": []
   },
   "outputs": [],
   "source": [
    "clone.sizes <- clone.sizes %>% group_by(donor) %>% arrange(donor, desc(norm.total)) %>% \n",
    "                               mutate(cdf.norm=cumsum(norm.total)/2, cdf =cumsum(total),\n",
    "                                      index=1:n()) %>% \n",
    "                               ungroup %>% arrange(donor, desc(norm.total)) \n",
    "#head(clone.sizes,100)"
   ]
  },
  {
   "cell_type": "code",
   "execution_count": null,
   "id": "2817d47e",
   "metadata": {
    "papermill": {
     "duration": 0.092354,
     "end_time": "2021-12-03T21:04:33.969764",
     "exception": false,
     "start_time": "2021-12-03T21:04:33.877410",
     "status": "completed"
    },
    "tags": []
   },
   "outputs": [],
   "source": []
  },
  {
   "cell_type": "code",
   "execution_count": 12,
   "id": "fde9c568",
   "metadata": {
    "execution": {
     "iopub.execute_input": "2021-12-03T21:04:34.167853Z",
     "iopub.status.busy": "2021-12-03T21:04:34.164116Z",
     "iopub.status.idle": "2021-12-03T21:04:35.292253Z",
     "shell.execute_reply": "2021-12-03T21:04:35.292963Z"
    },
    "papermill": {
     "duration": 1.228627,
     "end_time": "2021-12-03T21:04:35.293246",
     "exception": false,
     "start_time": "2021-12-03T21:04:34.064619",
     "status": "completed"
    },
    "scrolled": true,
    "tags": []
   },
   "outputs": [
    {
     "name": "stderr",
     "output_type": "stream",
     "text": [
      "Saving 6.67 x 6.67 in image\n",
      "\n"
     ]
    },
    {
     "data": {
      "image/png": "[encoded data removed]",
      "text/plain": [
       "plot without title"
      ]
     },
     "metadata": {
      "image/png": {
       "height": 420,
       "width": 420
      }
     },
     "output_type": "display_data"
    }
   ],
   "source": [
    "p <- ggplot(data = clone.sizes, aes(index, cdf.norm)) +\n",
    "  geom_point(color = \"steelblue\", size = 1) +\n",
    "  facet_wrap(~ donor) \n",
    "\n",
    "p <- p + geom_hline(yintercept=cdf_thresh, color='green') \n",
    "ggsave(file.path(outdir, \"clones.cdf.png\"))\n",
    "p\n"
   ]
  },
  {
   "cell_type": "code",
   "execution_count": 13,
   "id": "10e0018a",
   "metadata": {
    "execution": {
     "iopub.execute_input": "2021-12-03T21:04:35.494540Z",
     "iopub.status.busy": "2021-12-03T21:04:35.491007Z",
     "iopub.status.idle": "2021-12-03T21:04:35.515419Z",
     "shell.execute_reply": "2021-12-03T21:04:35.513831Z"
    },
    "papermill": {
     "duration": 0.124812,
     "end_time": "2021-12-03T21:04:35.515591",
     "exception": false,
     "start_time": "2021-12-03T21:04:35.390779",
     "status": "completed"
    },
    "tags": []
   },
   "outputs": [
    {
     "data": {
      "text/html": [
       "0.0676288749231331"
      ],
      "text/latex": [
       "0.0676288749231331"
      ],
      "text/markdown": [
       "0.0676288749231331"
      ],
      "text/plain": [
       "[1] 0.06762887"
      ]
     },
     "metadata": {},
     "output_type": "display_data"
    },
    {
     "data": {
      "text/html": [
       "1"
      ],
      "text/latex": [
       "1"
      ],
      "text/markdown": [
       "1"
      ],
      "text/plain": [
       "[1] 1"
      ]
     },
     "metadata": {},
     "output_type": "display_data"
    }
   ],
   "source": [
    "min(clone.sizes$cdf.norm)\n",
    "max(clone.sizes$cdf.norm)"
   ]
  },
  {
   "cell_type": "code",
   "execution_count": 14,
   "id": "d172f01e",
   "metadata": {
    "execution": {
     "iopub.execute_input": "2021-12-03T21:04:35.724018Z",
     "iopub.status.busy": "2021-12-03T21:04:35.720737Z",
     "iopub.status.idle": "2021-12-03T21:04:35.820997Z",
     "shell.execute_reply": "2021-12-03T21:04:35.821906Z"
    },
    "papermill": {
     "duration": 0.205495,
     "end_time": "2021-12-03T21:04:35.822200",
     "exception": false,
     "start_time": "2021-12-03T21:04:35.616705",
     "status": "completed"
    },
    "scrolled": true,
    "tags": []
   },
   "outputs": [
    {
     "data": {
      "text/html": [
       "<table class=\"dataframe\">\n",
       "<caption>A tibble: 189 × 8</caption>\n",
       "<thead>\n",
       "\t<tr><th scope=col>donor</th><th scope=col>lineage</th><th scope=col>norm.total</th><th scope=col>total</th><th scope=col>name</th><th scope=col>cdf.norm</th><th scope=col>cdf</th><th scope=col>index</th></tr>\n",
       "\t<tr><th scope=col>&lt;fct&gt;</th><th scope=col>&lt;fct&gt;</th><th scope=col>&lt;dbl&gt;</th><th scope=col>&lt;int&gt;</th><th scope=col>&lt;fct&gt;</th><th scope=col>&lt;dbl&gt;</th><th scope=col>&lt;int&gt;</th><th scope=col>&lt;int&gt;</th></tr>\n",
       "</thead>\n",
       "<tbody>\n",
       "\t<tr><td>0</td><td>54</td><td>0.370039880</td><td>590</td><td>0_54</td><td>0.1850199</td><td> 590</td><td> 1</td></tr>\n",
       "\t<tr><td>0</td><td>0 </td><td>0.279649287</td><td>460</td><td>0_0 </td><td>0.3248446</td><td>1050</td><td> 2</td></tr>\n",
       "\t<tr><td>0</td><td>2 </td><td>0.134546361</td><td>229</td><td>0_2 </td><td>0.3921178</td><td>1279</td><td> 3</td></tr>\n",
       "\t<tr><td>0</td><td>1 </td><td>0.127061463</td><td>228</td><td>0_1 </td><td>0.4556485</td><td>1507</td><td> 4</td></tr>\n",
       "\t<tr><td>0</td><td>5 </td><td>0.101583485</td><td>146</td><td>0_5 </td><td>0.5064402</td><td>1653</td><td> 5</td></tr>\n",
       "\t<tr><td>0</td><td>4 </td><td>0.092971087</td><td>184</td><td>0_4 </td><td>0.5529258</td><td>1837</td><td> 6</td></tr>\n",
       "\t<tr><td>0</td><td>3 </td><td>0.091293766</td><td>179</td><td>0_3 </td><td>0.5985727</td><td>2016</td><td> 7</td></tr>\n",
       "\t<tr><td>0</td><td>6 </td><td>0.064917014</td><td>123</td><td>0_6 </td><td>0.6310312</td><td>2139</td><td> 8</td></tr>\n",
       "\t<tr><td>0</td><td>8 </td><td>0.064862765</td><td>101</td><td>0_8 </td><td>0.6634626</td><td>2240</td><td> 9</td></tr>\n",
       "\t<tr><td>0</td><td>7 </td><td>0.051146560</td><td>103</td><td>0_7 </td><td>0.6890358</td><td>2343</td><td>10</td></tr>\n",
       "\t<tr><td>0</td><td>9 </td><td>0.050033722</td><td> 91</td><td>0_9 </td><td>0.7140527</td><td>2434</td><td>11</td></tr>\n",
       "\t<tr><td>0</td><td>11</td><td>0.044402088</td><td> 85</td><td>0_11</td><td>0.7362537</td><td>2519</td><td>12</td></tr>\n",
       "\t<tr><td>0</td><td>10</td><td>0.042160284</td><td> 87</td><td>0_10</td><td>0.7573339</td><td>2606</td><td>13</td></tr>\n",
       "\t<tr><td>0</td><td>13</td><td>0.037075538</td><td> 75</td><td>0_13</td><td>0.7758716</td><td>2681</td><td>14</td></tr>\n",
       "\t<tr><td>0</td><td>14</td><td>0.028089262</td><td> 59</td><td>0_14</td><td>0.7899163</td><td>2740</td><td>15</td></tr>\n",
       "\t<tr><td>0</td><td>39</td><td>0.027929447</td><td> 43</td><td>0_39</td><td>0.8038810</td><td>2783</td><td>16</td></tr>\n",
       "\t<tr><td>0</td><td>16</td><td>0.027364964</td><td> 50</td><td>0_16</td><td>0.8175635</td><td>2833</td><td>17</td></tr>\n",
       "\t<tr><td>0</td><td>15</td><td>0.026782887</td><td> 58</td><td>0_15</td><td>0.8309549</td><td>2891</td><td>18</td></tr>\n",
       "\t<tr><td>0</td><td>49</td><td>0.022756730</td><td> 36</td><td>0_49</td><td>0.8423333</td><td>2927</td><td>19</td></tr>\n",
       "\t<tr><td>0</td><td>38</td><td>0.022192247</td><td> 43</td><td>0_38</td><td>0.8534294</td><td>2970</td><td>20</td></tr>\n",
       "\t<tr><td>0</td><td>12</td><td>0.021344789</td><td> 41</td><td>0_12</td><td>0.8641018</td><td>3011</td><td>21</td></tr>\n",
       "\t<tr><td>0</td><td>46</td><td>0.019208551</td><td> 37</td><td>0_46</td><td>0.8737061</td><td>3048</td><td>22</td></tr>\n",
       "\t<tr><td>0</td><td>32</td><td>0.018837605</td><td> 33</td><td>0_32</td><td>0.8831249</td><td>3081</td><td>23</td></tr>\n",
       "\t<tr><td>0</td><td>17</td><td>0.018749633</td><td> 38</td><td>0_17</td><td>0.8924997</td><td>3119</td><td>24</td></tr>\n",
       "\t<tr><td>0</td><td>18</td><td>0.018378687</td><td> 34</td><td>0_18</td><td>0.9016891</td><td>3153</td><td>25</td></tr>\n",
       "\t<tr><td>0</td><td>45</td><td>0.017636795</td><td> 26</td><td>0_45</td><td>0.9105074</td><td>3179</td><td>26</td></tr>\n",
       "\t<tr><td>0</td><td>19</td><td>0.017513636</td><td> 33</td><td>0_19</td><td>0.9192643</td><td>3212</td><td>27</td></tr>\n",
       "\t<tr><td>0</td><td>40</td><td>0.015394991</td><td> 28</td><td>0_40</td><td>0.9269618</td><td>3240</td><td>28</td></tr>\n",
       "\t<tr><td>0</td><td>20</td><td>0.014900886</td><td> 31</td><td>0_20</td><td>0.9344122</td><td>3271</td><td>29</td></tr>\n",
       "\t<tr><td>0</td><td>53</td><td>0.009886517</td><td> 15</td><td>0_53</td><td>0.9393555</td><td>3286</td><td>30</td></tr>\n",
       "\t<tr><td>⋮</td><td>⋮</td><td>⋮</td><td>⋮</td><td>⋮</td><td>⋮</td><td>⋮</td><td>⋮</td></tr>\n",
       "\t<tr><td>3</td><td>20</td><td>0.0101345018</td><td>16</td><td>3_20</td><td>0.9434292</td><td>2649</td><td>30</td></tr>\n",
       "\t<tr><td>3</td><td>24</td><td>0.0096137026</td><td>12</td><td>3_24</td><td>0.9482360</td><td>2661</td><td>31</td></tr>\n",
       "\t<tr><td>3</td><td>21</td><td>0.0095977481</td><td>16</td><td>3_21</td><td>0.9530349</td><td>2677</td><td>32</td></tr>\n",
       "\t<tr><td>3</td><td>22</td><td>0.0085322180</td><td>14</td><td>3_22</td><td>0.9573010</td><td>2691</td><td>33</td></tr>\n",
       "\t<tr><td>3</td><td>50</td><td>0.0080114188</td><td>10</td><td>3_50</td><td>0.9613067</td><td>2701</td><td>34</td></tr>\n",
       "\t<tr><td>3</td><td>27</td><td>0.0074746652</td><td>10</td><td>3_27</td><td>0.9650441</td><td>2711</td><td>35</td></tr>\n",
       "\t<tr><td>3</td><td>26</td><td>0.0069379115</td><td>10</td><td>3_26</td><td>0.9685130</td><td>2721</td><td>36</td></tr>\n",
       "\t<tr><td>3</td><td>30</td><td>0.0064091351</td><td> 8</td><td>3_30</td><td>0.9717176</td><td>2729</td><td>37</td></tr>\n",
       "\t<tr><td>3</td><td>25</td><td>0.0064011578</td><td>10</td><td>3_25</td><td>0.9749182</td><td>2739</td><td>38</td></tr>\n",
       "\t<tr><td>3</td><td>41</td><td>0.0053436050</td><td> 6</td><td>3_41</td><td>0.9775900</td><td>2745</td><td>39</td></tr>\n",
       "\t<tr><td>3</td><td>28</td><td>0.0042740863</td><td> 5</td><td>3_28</td><td>0.9797270</td><td>2750</td><td>40</td></tr>\n",
       "\t<tr><td>3</td><td>57</td><td>0.0042740863</td><td> 5</td><td>3_57</td><td>0.9818641</td><td>2755</td><td>41</td></tr>\n",
       "\t<tr><td>3</td><td>32</td><td>0.0042700976</td><td> 6</td><td>3_32</td><td>0.9839991</td><td>2761</td><td>42</td></tr>\n",
       "\t<tr><td>3</td><td>31</td><td>0.0042621204</td><td> 8</td><td>3_31</td><td>0.9861302</td><td>2769</td><td>43</td></tr>\n",
       "\t<tr><td>3</td><td>43</td><td>0.0032045675</td><td> 4</td><td>3_43</td><td>0.9877324</td><td>2773</td><td>44</td></tr>\n",
       "\t<tr><td>3</td><td>56</td><td>0.0032045675</td><td> 4</td><td>3_56</td><td>0.9893347</td><td>2777</td><td>45</td></tr>\n",
       "\t<tr><td>3</td><td>45</td><td>0.0026678139</td><td> 4</td><td>3_45</td><td>0.9906686</td><td>2781</td><td>46</td></tr>\n",
       "\t<tr><td>3</td><td>38</td><td>0.0021310602</td><td> 4</td><td>3_38</td><td>0.9917342</td><td>2785</td><td>47</td></tr>\n",
       "\t<tr><td>3</td><td>39</td><td>0.0016022838</td><td> 2</td><td>3_39</td><td>0.9925353</td><td>2787</td><td>48</td></tr>\n",
       "\t<tr><td>3</td><td>48</td><td>0.0016022838</td><td> 2</td><td>3_48</td><td>0.9933364</td><td>2789</td><td>49</td></tr>\n",
       "\t<tr><td>3</td><td>51</td><td>0.0016022838</td><td> 2</td><td>3_51</td><td>0.9941376</td><td>2791</td><td>50</td></tr>\n",
       "\t<tr><td>3</td><td>34</td><td>0.0015982952</td><td> 3</td><td>3_34</td><td>0.9949367</td><td>2794</td><td>51</td></tr>\n",
       "\t<tr><td>3</td><td>35</td><td>0.0015982952</td><td> 3</td><td>3_35</td><td>0.9957359</td><td>2797</td><td>52</td></tr>\n",
       "\t<tr><td>3</td><td>42</td><td>0.0015982952</td><td> 3</td><td>3_42</td><td>0.9965350</td><td>2800</td><td>53</td></tr>\n",
       "\t<tr><td>3</td><td>44</td><td>0.0015982952</td><td> 3</td><td>3_44</td><td>0.9973342</td><td>2803</td><td>54</td></tr>\n",
       "\t<tr><td>3</td><td>49</td><td>0.0015982952</td><td> 3</td><td>3_49</td><td>0.9981333</td><td>2806</td><td>55</td></tr>\n",
       "\t<tr><td>3</td><td>54</td><td>0.0010695187</td><td> 1</td><td>3_54</td><td>0.9986681</td><td>2807</td><td>56</td></tr>\n",
       "\t<tr><td>3</td><td>52</td><td>0.0010655301</td><td> 2</td><td>3_52</td><td>0.9992009</td><td>2809</td><td>57</td></tr>\n",
       "\t<tr><td>3</td><td>58</td><td>0.0010655301</td><td> 2</td><td>3_58</td><td>0.9997336</td><td>2811</td><td>58</td></tr>\n",
       "\t<tr><td>3</td><td>46</td><td>0.0005327651</td><td> 1</td><td>3_46</td><td>1.0000000</td><td>2812</td><td>59</td></tr>\n",
       "</tbody>\n",
       "</table>\n"
      ],
      "text/latex": [
       "A tibble: 189 × 8\n",
       "\\begin{tabular}{llllllll}\n",
       " donor & lineage & norm.total & total & name & cdf.norm & cdf & index\\\\\n",
       " <fct> & <fct> & <dbl> & <int> & <fct> & <dbl> & <int> & <int>\\\\\n",
       "\\hline\n",
       "\t 0 & 54 & 0.370039880 & 590 & 0\\_54 & 0.1850199 &  590 &  1\\\\\n",
       "\t 0 & 0  & 0.279649287 & 460 & 0\\_0  & 0.3248446 & 1050 &  2\\\\\n",
       "\t 0 & 2  & 0.134546361 & 229 & 0\\_2  & 0.3921178 & 1279 &  3\\\\\n",
       "\t 0 & 1  & 0.127061463 & 228 & 0\\_1  & 0.4556485 & 1507 &  4\\\\\n",
       "\t 0 & 5  & 0.101583485 & 146 & 0\\_5  & 0.5064402 & 1653 &  5\\\\\n",
       "\t 0 & 4  & 0.092971087 & 184 & 0\\_4  & 0.5529258 & 1837 &  6\\\\\n",
       "\t 0 & 3  & 0.091293766 & 179 & 0\\_3  & 0.5985727 & 2016 &  7\\\\\n",
       "\t 0 & 6  & 0.064917014 & 123 & 0\\_6  & 0.6310312 & 2139 &  8\\\\\n",
       "\t 0 & 8  & 0.064862765 & 101 & 0\\_8  & 0.6634626 & 2240 &  9\\\\\n",
       "\t 0 & 7  & 0.051146560 & 103 & 0\\_7  & 0.6890358 & 2343 & 10\\\\\n",
       "\t 0 & 9  & 0.050033722 &  91 & 0\\_9  & 0.7140527 & 2434 & 11\\\\\n",
       "\t 0 & 11 & 0.044402088 &  85 & 0\\_11 & 0.7362537 & 2519 & 12\\\\\n",
       "\t 0 & 10 & 0.042160284 &  87 & 0\\_10 & 0.7573339 & 2606 & 13\\\\\n",
       "\t 0 & 13 & 0.037075538 &  75 & 0\\_13 & 0.7758716 & 2681 & 14\\\\\n",
       "\t 0 & 14 & 0.028089262 &  59 & 0\\_14 & 0.7899163 & 2740 & 15\\\\\n",
       "\t 0 & 39 & 0.027929447 &  43 & 0\\_39 & 0.8038810 & 2783 & 16\\\\\n",
       "\t 0 & 16 & 0.027364964 &  50 & 0\\_16 & 0.8175635 & 2833 & 17\\\\\n",
       "\t 0 & 15 & 0.026782887 &  58 & 0\\_15 & 0.8309549 & 2891 & 18\\\\\n",
       "\t 0 & 49 & 0.022756730 &  36 & 0\\_49 & 0.8423333 & 2927 & 19\\\\\n",
       "\t 0 & 38 & 0.022192247 &  43 & 0\\_38 & 0.8534294 & 2970 & 20\\\\\n",
       "\t 0 & 12 & 0.021344789 &  41 & 0\\_12 & 0.8641018 & 3011 & 21\\\\\n",
       "\t 0 & 46 & 0.019208551 &  37 & 0\\_46 & 0.8737061 & 3048 & 22\\\\\n",
       "\t 0 & 32 & 0.018837605 &  33 & 0\\_32 & 0.8831249 & 3081 & 23\\\\\n",
       "\t 0 & 17 & 0.018749633 &  38 & 0\\_17 & 0.8924997 & 3119 & 24\\\\\n",
       "\t 0 & 18 & 0.018378687 &  34 & 0\\_18 & 0.9016891 & 3153 & 25\\\\\n",
       "\t 0 & 45 & 0.017636795 &  26 & 0\\_45 & 0.9105074 & 3179 & 26\\\\\n",
       "\t 0 & 19 & 0.017513636 &  33 & 0\\_19 & 0.9192643 & 3212 & 27\\\\\n",
       "\t 0 & 40 & 0.015394991 &  28 & 0\\_40 & 0.9269618 & 3240 & 28\\\\\n",
       "\t 0 & 20 & 0.014900886 &  31 & 0\\_20 & 0.9344122 & 3271 & 29\\\\\n",
       "\t 0 & 53 & 0.009886517 &  15 & 0\\_53 & 0.9393555 & 3286 & 30\\\\\n",
       "\t ⋮ & ⋮ & ⋮ & ⋮ & ⋮ & ⋮ & ⋮ & ⋮\\\\\n",
       "\t 3 & 20 & 0.0101345018 & 16 & 3\\_20 & 0.9434292 & 2649 & 30\\\\\n",
       "\t 3 & 24 & 0.0096137026 & 12 & 3\\_24 & 0.9482360 & 2661 & 31\\\\\n",
       "\t 3 & 21 & 0.0095977481 & 16 & 3\\_21 & 0.9530349 & 2677 & 32\\\\\n",
       "\t 3 & 22 & 0.0085322180 & 14 & 3\\_22 & 0.9573010 & 2691 & 33\\\\\n",
       "\t 3 & 50 & 0.0080114188 & 10 & 3\\_50 & 0.9613067 & 2701 & 34\\\\\n",
       "\t 3 & 27 & 0.0074746652 & 10 & 3\\_27 & 0.9650441 & 2711 & 35\\\\\n",
       "\t 3 & 26 & 0.0069379115 & 10 & 3\\_26 & 0.9685130 & 2721 & 36\\\\\n",
       "\t 3 & 30 & 0.0064091351 &  8 & 3\\_30 & 0.9717176 & 2729 & 37\\\\\n",
       "\t 3 & 25 & 0.0064011578 & 10 & 3\\_25 & 0.9749182 & 2739 & 38\\\\\n",
       "\t 3 & 41 & 0.0053436050 &  6 & 3\\_41 & 0.9775900 & 2745 & 39\\\\\n",
       "\t 3 & 28 & 0.0042740863 &  5 & 3\\_28 & 0.9797270 & 2750 & 40\\\\\n",
       "\t 3 & 57 & 0.0042740863 &  5 & 3\\_57 & 0.9818641 & 2755 & 41\\\\\n",
       "\t 3 & 32 & 0.0042700976 &  6 & 3\\_32 & 0.9839991 & 2761 & 42\\\\\n",
       "\t 3 & 31 & 0.0042621204 &  8 & 3\\_31 & 0.9861302 & 2769 & 43\\\\\n",
       "\t 3 & 43 & 0.0032045675 &  4 & 3\\_43 & 0.9877324 & 2773 & 44\\\\\n",
       "\t 3 & 56 & 0.0032045675 &  4 & 3\\_56 & 0.9893347 & 2777 & 45\\\\\n",
       "\t 3 & 45 & 0.0026678139 &  4 & 3\\_45 & 0.9906686 & 2781 & 46\\\\\n",
       "\t 3 & 38 & 0.0021310602 &  4 & 3\\_38 & 0.9917342 & 2785 & 47\\\\\n",
       "\t 3 & 39 & 0.0016022838 &  2 & 3\\_39 & 0.9925353 & 2787 & 48\\\\\n",
       "\t 3 & 48 & 0.0016022838 &  2 & 3\\_48 & 0.9933364 & 2789 & 49\\\\\n",
       "\t 3 & 51 & 0.0016022838 &  2 & 3\\_51 & 0.9941376 & 2791 & 50\\\\\n",
       "\t 3 & 34 & 0.0015982952 &  3 & 3\\_34 & 0.9949367 & 2794 & 51\\\\\n",
       "\t 3 & 35 & 0.0015982952 &  3 & 3\\_35 & 0.9957359 & 2797 & 52\\\\\n",
       "\t 3 & 42 & 0.0015982952 &  3 & 3\\_42 & 0.9965350 & 2800 & 53\\\\\n",
       "\t 3 & 44 & 0.0015982952 &  3 & 3\\_44 & 0.9973342 & 2803 & 54\\\\\n",
       "\t 3 & 49 & 0.0015982952 &  3 & 3\\_49 & 0.9981333 & 2806 & 55\\\\\n",
       "\t 3 & 54 & 0.0010695187 &  1 & 3\\_54 & 0.9986681 & 2807 & 56\\\\\n",
       "\t 3 & 52 & 0.0010655301 &  2 & 3\\_52 & 0.9992009 & 2809 & 57\\\\\n",
       "\t 3 & 58 & 0.0010655301 &  2 & 3\\_58 & 0.9997336 & 2811 & 58\\\\\n",
       "\t 3 & 46 & 0.0005327651 &  1 & 3\\_46 & 1.0000000 & 2812 & 59\\\\\n",
       "\\end{tabular}\n"
      ],
      "text/markdown": [
       "\n",
       "A tibble: 189 × 8\n",
       "\n",
       "| donor &lt;fct&gt; | lineage &lt;fct&gt; | norm.total &lt;dbl&gt; | total &lt;int&gt; | name &lt;fct&gt; | cdf.norm &lt;dbl&gt; | cdf &lt;int&gt; | index &lt;int&gt; |\n",
       "|---|---|---|---|---|---|---|---|\n",
       "| 0 | 54 | 0.370039880 | 590 | 0_54 | 0.1850199 |  590 |  1 |\n",
       "| 0 | 0  | 0.279649287 | 460 | 0_0  | 0.3248446 | 1050 |  2 |\n",
       "| 0 | 2  | 0.134546361 | 229 | 0_2  | 0.3921178 | 1279 |  3 |\n",
       "| 0 | 1  | 0.127061463 | 228 | 0_1  | 0.4556485 | 1507 |  4 |\n",
       "| 0 | 5  | 0.101583485 | 146 | 0_5  | 0.5064402 | 1653 |  5 |\n",
       "| 0 | 4  | 0.092971087 | 184 | 0_4  | 0.5529258 | 1837 |  6 |\n",
       "| 0 | 3  | 0.091293766 | 179 | 0_3  | 0.5985727 | 2016 |  7 |\n",
       "| 0 | 6  | 0.064917014 | 123 | 0_6  | 0.6310312 | 2139 |  8 |\n",
       "| 0 | 8  | 0.064862765 | 101 | 0_8  | 0.6634626 | 2240 |  9 |\n",
       "| 0 | 7  | 0.051146560 | 103 | 0_7  | 0.6890358 | 2343 | 10 |\n",
       "| 0 | 9  | 0.050033722 |  91 | 0_9  | 0.7140527 | 2434 | 11 |\n",
       "| 0 | 11 | 0.044402088 |  85 | 0_11 | 0.7362537 | 2519 | 12 |\n",
       "| 0 | 10 | 0.042160284 |  87 | 0_10 | 0.7573339 | 2606 | 13 |\n",
       "| 0 | 13 | 0.037075538 |  75 | 0_13 | 0.7758716 | 2681 | 14 |\n",
       "| 0 | 14 | 0.028089262 |  59 | 0_14 | 0.7899163 | 2740 | 15 |\n",
       "| 0 | 39 | 0.027929447 |  43 | 0_39 | 0.8038810 | 2783 | 16 |\n",
       "| 0 | 16 | 0.027364964 |  50 | 0_16 | 0.8175635 | 2833 | 17 |\n",
       "| 0 | 15 | 0.026782887 |  58 | 0_15 | 0.8309549 | 2891 | 18 |\n",
       "| 0 | 49 | 0.022756730 |  36 | 0_49 | 0.8423333 | 2927 | 19 |\n",
       "| 0 | 38 | 0.022192247 |  43 | 0_38 | 0.8534294 | 2970 | 20 |\n",
       "| 0 | 12 | 0.021344789 |  41 | 0_12 | 0.8641018 | 3011 | 21 |\n",
       "| 0 | 46 | 0.019208551 |  37 | 0_46 | 0.8737061 | 3048 | 22 |\n",
       "| 0 | 32 | 0.018837605 |  33 | 0_32 | 0.8831249 | 3081 | 23 |\n",
       "| 0 | 17 | 0.018749633 |  38 | 0_17 | 0.8924997 | 3119 | 24 |\n",
       "| 0 | 18 | 0.018378687 |  34 | 0_18 | 0.9016891 | 3153 | 25 |\n",
       "| 0 | 45 | 0.017636795 |  26 | 0_45 | 0.9105074 | 3179 | 26 |\n",
       "| 0 | 19 | 0.017513636 |  33 | 0_19 | 0.9192643 | 3212 | 27 |\n",
       "| 0 | 40 | 0.015394991 |  28 | 0_40 | 0.9269618 | 3240 | 28 |\n",
       "| 0 | 20 | 0.014900886 |  31 | 0_20 | 0.9344122 | 3271 | 29 |\n",
       "| 0 | 53 | 0.009886517 |  15 | 0_53 | 0.9393555 | 3286 | 30 |\n",
       "| ⋮ | ⋮ | ⋮ | ⋮ | ⋮ | ⋮ | ⋮ | ⋮ |\n",
       "| 3 | 20 | 0.0101345018 | 16 | 3_20 | 0.9434292 | 2649 | 30 |\n",
       "| 3 | 24 | 0.0096137026 | 12 | 3_24 | 0.9482360 | 2661 | 31 |\n",
       "| 3 | 21 | 0.0095977481 | 16 | 3_21 | 0.9530349 | 2677 | 32 |\n",
       "| 3 | 22 | 0.0085322180 | 14 | 3_22 | 0.9573010 | 2691 | 33 |\n",
       "| 3 | 50 | 0.0080114188 | 10 | 3_50 | 0.9613067 | 2701 | 34 |\n",
       "| 3 | 27 | 0.0074746652 | 10 | 3_27 | 0.9650441 | 2711 | 35 |\n",
       "| 3 | 26 | 0.0069379115 | 10 | 3_26 | 0.9685130 | 2721 | 36 |\n",
       "| 3 | 30 | 0.0064091351 |  8 | 3_30 | 0.9717176 | 2729 | 37 |\n",
       "| 3 | 25 | 0.0064011578 | 10 | 3_25 | 0.9749182 | 2739 | 38 |\n",
       "| 3 | 41 | 0.0053436050 |  6 | 3_41 | 0.9775900 | 2745 | 39 |\n",
       "| 3 | 28 | 0.0042740863 |  5 | 3_28 | 0.9797270 | 2750 | 40 |\n",
       "| 3 | 57 | 0.0042740863 |  5 | 3_57 | 0.9818641 | 2755 | 41 |\n",
       "| 3 | 32 | 0.0042700976 |  6 | 3_32 | 0.9839991 | 2761 | 42 |\n",
       "| 3 | 31 | 0.0042621204 |  8 | 3_31 | 0.9861302 | 2769 | 43 |\n",
       "| 3 | 43 | 0.0032045675 |  4 | 3_43 | 0.9877324 | 2773 | 44 |\n",
       "| 3 | 56 | 0.0032045675 |  4 | 3_56 | 0.9893347 | 2777 | 45 |\n",
       "| 3 | 45 | 0.0026678139 |  4 | 3_45 | 0.9906686 | 2781 | 46 |\n",
       "| 3 | 38 | 0.0021310602 |  4 | 3_38 | 0.9917342 | 2785 | 47 |\n",
       "| 3 | 39 | 0.0016022838 |  2 | 3_39 | 0.9925353 | 2787 | 48 |\n",
       "| 3 | 48 | 0.0016022838 |  2 | 3_48 | 0.9933364 | 2789 | 49 |\n",
       "| 3 | 51 | 0.0016022838 |  2 | 3_51 | 0.9941376 | 2791 | 50 |\n",
       "| 3 | 34 | 0.0015982952 |  3 | 3_34 | 0.9949367 | 2794 | 51 |\n",
       "| 3 | 35 | 0.0015982952 |  3 | 3_35 | 0.9957359 | 2797 | 52 |\n",
       "| 3 | 42 | 0.0015982952 |  3 | 3_42 | 0.9965350 | 2800 | 53 |\n",
       "| 3 | 44 | 0.0015982952 |  3 | 3_44 | 0.9973342 | 2803 | 54 |\n",
       "| 3 | 49 | 0.0015982952 |  3 | 3_49 | 0.9981333 | 2806 | 55 |\n",
       "| 3 | 54 | 0.0010695187 |  1 | 3_54 | 0.9986681 | 2807 | 56 |\n",
       "| 3 | 52 | 0.0010655301 |  2 | 3_52 | 0.9992009 | 2809 | 57 |\n",
       "| 3 | 58 | 0.0010655301 |  2 | 3_58 | 0.9997336 | 2811 | 58 |\n",
       "| 3 | 46 | 0.0005327651 |  1 | 3_46 | 1.0000000 | 2812 | 59 |\n",
       "\n"
      ],
      "text/plain": [
       "    donor lineage norm.total   total name cdf.norm  cdf  index\n",
       "1   0     54      0.370039880  590   0_54 0.1850199  590  1   \n",
       "2   0     0       0.279649287  460   0_0  0.3248446 1050  2   \n",
       "3   0     2       0.134546361  229   0_2  0.3921178 1279  3   \n",
       "4   0     1       0.127061463  228   0_1  0.4556485 1507  4   \n",
       "5   0     5       0.101583485  146   0_5  0.5064402 1653  5   \n",
       "6   0     4       0.092971087  184   0_4  0.5529258 1837  6   \n",
       "7   0     3       0.091293766  179   0_3  0.5985727 2016  7   \n",
       "8   0     6       0.064917014  123   0_6  0.6310312 2139  8   \n",
       "9   0     8       0.064862765  101   0_8  0.6634626 2240  9   \n",
       "10  0     7       0.051146560  103   0_7  0.6890358 2343 10   \n",
       "11  0     9       0.050033722   91   0_9  0.7140527 2434 11   \n",
       "12  0     11      0.044402088   85   0_11 0.7362537 2519 12   \n",
       "13  0     10      0.042160284   87   0_10 0.7573339 2606 13   \n",
       "14  0     13      0.037075538   75   0_13 0.7758716 2681 14   \n",
       "15  0     14      0.028089262   59   0_14 0.7899163 2740 15   \n",
       "16  0     39      0.027929447   43   0_39 0.8038810 2783 16   \n",
       "17  0     16      0.027364964   50   0_16 0.8175635 2833 17   \n",
       "18  0     15      0.026782887   58   0_15 0.8309549 2891 18   \n",
       "19  0     49      0.022756730   36   0_49 0.8423333 2927 19   \n",
       "20  0     38      0.022192247   43   0_38 0.8534294 2970 20   \n",
       "21  0     12      0.021344789   41   0_12 0.8641018 3011 21   \n",
       "22  0     46      0.019208551   37   0_46 0.8737061 3048 22   \n",
       "23  0     32      0.018837605   33   0_32 0.8831249 3081 23   \n",
       "24  0     17      0.018749633   38   0_17 0.8924997 3119 24   \n",
       "25  0     18      0.018378687   34   0_18 0.9016891 3153 25   \n",
       "26  0     45      0.017636795   26   0_45 0.9105074 3179 26   \n",
       "27  0     19      0.017513636   33   0_19 0.9192643 3212 27   \n",
       "28  0     40      0.015394991   28   0_40 0.9269618 3240 28   \n",
       "29  0     20      0.014900886   31   0_20 0.9344122 3271 29   \n",
       "30  0     53      0.009886517   15   0_53 0.9393555 3286 30   \n",
       "⋮   ⋮     ⋮       ⋮            ⋮     ⋮    ⋮         ⋮    ⋮    \n",
       "160 3     20      0.0101345018 16    3_20 0.9434292 2649 30   \n",
       "161 3     24      0.0096137026 12    3_24 0.9482360 2661 31   \n",
       "162 3     21      0.0095977481 16    3_21 0.9530349 2677 32   \n",
       "163 3     22      0.0085322180 14    3_22 0.9573010 2691 33   \n",
       "164 3     50      0.0080114188 10    3_50 0.9613067 2701 34   \n",
       "165 3     27      0.0074746652 10    3_27 0.9650441 2711 35   \n",
       "166 3     26      0.0069379115 10    3_26 0.9685130 2721 36   \n",
       "167 3     30      0.0064091351  8    3_30 0.9717176 2729 37   \n",
       "168 3     25      0.0064011578 10    3_25 0.9749182 2739 38   \n",
       "169 3     41      0.0053436050  6    3_41 0.9775900 2745 39   \n",
       "170 3     28      0.0042740863  5    3_28 0.9797270 2750 40   \n",
       "171 3     57      0.0042740863  5    3_57 0.9818641 2755 41   \n",
       "172 3     32      0.0042700976  6    3_32 0.9839991 2761 42   \n",
       "173 3     31      0.0042621204  8    3_31 0.9861302 2769 43   \n",
       "174 3     43      0.0032045675  4    3_43 0.9877324 2773 44   \n",
       "175 3     56      0.0032045675  4    3_56 0.9893347 2777 45   \n",
       "176 3     45      0.0026678139  4    3_45 0.9906686 2781 46   \n",
       "177 3     38      0.0021310602  4    3_38 0.9917342 2785 47   \n",
       "178 3     39      0.0016022838  2    3_39 0.9925353 2787 48   \n",
       "179 3     48      0.0016022838  2    3_48 0.9933364 2789 49   \n",
       "180 3     51      0.0016022838  2    3_51 0.9941376 2791 50   \n",
       "181 3     34      0.0015982952  3    3_34 0.9949367 2794 51   \n",
       "182 3     35      0.0015982952  3    3_35 0.9957359 2797 52   \n",
       "183 3     42      0.0015982952  3    3_42 0.9965350 2800 53   \n",
       "184 3     44      0.0015982952  3    3_44 0.9973342 2803 54   \n",
       "185 3     49      0.0015982952  3    3_49 0.9981333 2806 55   \n",
       "186 3     54      0.0010695187  1    3_54 0.9986681 2807 56   \n",
       "187 3     52      0.0010655301  2    3_52 0.9992009 2809 57   \n",
       "188 3     58      0.0010655301  2    3_58 0.9997336 2811 58   \n",
       "189 3     46      0.0005327651  1    3_46 1.0000000 2812 59   "
      ]
     },
     "metadata": {},
     "output_type": "display_data"
    }
   ],
   "source": [
    "clone.sizes"
   ]
  },
  {
   "cell_type": "code",
   "execution_count": 15,
   "id": "93c23bda",
   "metadata": {
    "execution": {
     "iopub.execute_input": "2021-12-03T21:04:36.035251Z",
     "iopub.status.busy": "2021-12-03T21:04:36.033619Z",
     "iopub.status.idle": "2021-12-03T21:04:36.122925Z",
     "shell.execute_reply": "2021-12-03T21:04:36.121900Z"
    },
    "papermill": {
     "duration": 0.195179,
     "end_time": "2021-12-03T21:04:36.123192",
     "exception": false,
     "start_time": "2021-12-03T21:04:35.928013",
     "status": "completed"
    },
    "scrolled": true,
    "tags": []
   },
   "outputs": [
    {
     "name": "stdout",
     "output_type": "stream",
     "text": [
      "[1] 4\n",
      "[1] \"i 1 donor 1\"\n",
      "[1] \"i 2 donor 2\"\n",
      "[1] \"i 3 donor 3\"\n",
      "[1] \"i 4 donor 4\"\n"
     ]
    },
    {
     "data": {
      "text/html": [
       "<table class=\"dataframe\">\n",
       "<caption>A tibble: 27 × 8</caption>\n",
       "<thead>\n",
       "\t<tr><th scope=col>donor</th><th scope=col>lineage</th><th scope=col>norm.total</th><th scope=col>total</th><th scope=col>name</th><th scope=col>cdf.norm</th><th scope=col>cdf</th><th scope=col>index</th></tr>\n",
       "\t<tr><th scope=col>&lt;fct&gt;</th><th scope=col>&lt;fct&gt;</th><th scope=col>&lt;dbl&gt;</th><th scope=col>&lt;int&gt;</th><th scope=col>&lt;fct&gt;</th><th scope=col>&lt;dbl&gt;</th><th scope=col>&lt;int&gt;</th><th scope=col>&lt;int&gt;</th></tr>\n",
       "</thead>\n",
       "<tbody>\n",
       "\t<tr><td>0</td><td>54</td><td>0.37003988</td><td>590</td><td>0_54</td><td>0.18501994</td><td> 590</td><td>1</td></tr>\n",
       "\t<tr><td>0</td><td>0 </td><td>0.27964929</td><td>460</td><td>0_0 </td><td>0.32484458</td><td>1050</td><td>2</td></tr>\n",
       "\t<tr><td>0</td><td>2 </td><td>0.13454636</td><td>229</td><td>0_2 </td><td>0.39211776</td><td>1279</td><td>3</td></tr>\n",
       "\t<tr><td>0</td><td>1 </td><td>0.12706146</td><td>228</td><td>0_1 </td><td>0.45564850</td><td>1507</td><td>4</td></tr>\n",
       "\t<tr><td>1</td><td>1 </td><td>0.13525775</td><td>209</td><td>1_1 </td><td>0.06762887</td><td> 209</td><td>1</td></tr>\n",
       "\t<tr><td>1</td><td>0 </td><td>0.13289089</td><td>207</td><td>1_0 </td><td>0.13407432</td><td> 416</td><td>2</td></tr>\n",
       "\t<tr><td>1</td><td>2 </td><td>0.13039440</td><td>189</td><td>1_2 </td><td>0.19927152</td><td> 605</td><td>3</td></tr>\n",
       "\t<tr><td>1</td><td>6 </td><td>0.10412874</td><td>156</td><td>1_6 </td><td>0.25133589</td><td> 761</td><td>4</td></tr>\n",
       "\t<tr><td>1</td><td>5 </td><td>0.09919395</td><td>162</td><td>1_5 </td><td>0.30093286</td><td> 923</td><td>5</td></tr>\n",
       "\t<tr><td>1</td><td>7 </td><td>0.09841265</td><td>141</td><td>1_7 </td><td>0.35013919</td><td>1064</td><td>6</td></tr>\n",
       "\t<tr><td>1</td><td>9 </td><td>0.09666838</td><td>123</td><td>1_9 </td><td>0.39847338</td><td>1187</td><td>7</td></tr>\n",
       "\t<tr><td>1</td><td>14</td><td>0.09591616</td><td>123</td><td>1_14</td><td>0.44643146</td><td>1310</td><td>8</td></tr>\n",
       "\t<tr><td>1</td><td>3 </td><td>0.09400961</td><td>143</td><td>1_3 </td><td>0.49343626</td><td>1453</td><td>9</td></tr>\n",
       "\t<tr><td>2</td><td>1 </td><td>0.13974295</td><td>154</td><td>2_1 </td><td>0.06987147</td><td> 154</td><td>1</td></tr>\n",
       "\t<tr><td>2</td><td>0 </td><td>0.13237426</td><td>169</td><td>2_0 </td><td>0.13605860</td><td> 323</td><td>2</td></tr>\n",
       "\t<tr><td>2</td><td>3 </td><td>0.12481599</td><td>150</td><td>2_3 </td><td>0.19846660</td><td> 473</td><td>3</td></tr>\n",
       "\t<tr><td>2</td><td>5 </td><td>0.10570146</td><td>124</td><td>2_5 </td><td>0.25131733</td><td> 597</td><td>4</td></tr>\n",
       "\t<tr><td>2</td><td>2 </td><td>0.10566800</td><td>118</td><td>2_2 </td><td>0.30415133</td><td> 715</td><td>5</td></tr>\n",
       "\t<tr><td>2</td><td>4 </td><td>0.10497937</td><td>116</td><td>2_4 </td><td>0.35664102</td><td> 831</td><td>6</td></tr>\n",
       "\t<tr><td>2</td><td>10</td><td>0.10411788</td><td> 83</td><td>2_10</td><td>0.40869996</td><td> 914</td><td>7</td></tr>\n",
       "\t<tr><td>2</td><td>6 </td><td>0.09402810</td><td> 96</td><td>2_6 </td><td>0.45571401</td><td>1010</td><td>8</td></tr>\n",
       "\t<tr><td>2</td><td>11</td><td>0.08782480</td><td> 77</td><td>2_11</td><td>0.49962641</td><td>1087</td><td>9</td></tr>\n",
       "\t<tr><td>3</td><td>0 </td><td>0.30696213</td><td>419</td><td>3_0 </td><td>0.15348106</td><td> 419</td><td>1</td></tr>\n",
       "\t<tr><td>3</td><td>1 </td><td>0.25185200</td><td>375</td><td>3_1 </td><td>0.27940706</td><td> 794</td><td>2</td></tr>\n",
       "\t<tr><td>3</td><td>2 </td><td>0.14952122</td><td>193</td><td>3_2 </td><td>0.35416768</td><td> 987</td><td>3</td></tr>\n",
       "\t<tr><td>3</td><td>47</td><td>0.14311209</td><td>185</td><td>3_47</td><td>0.42572372</td><td>1172</td><td>4</td></tr>\n",
       "\t<tr><td>3</td><td>53</td><td>0.12290291</td><td>138</td><td>3_53</td><td>0.48717518</td><td>1310</td><td>5</td></tr>\n",
       "</tbody>\n",
       "</table>\n"
      ],
      "text/latex": [
       "A tibble: 27 × 8\n",
       "\\begin{tabular}{llllllll}\n",
       " donor & lineage & norm.total & total & name & cdf.norm & cdf & index\\\\\n",
       " <fct> & <fct> & <dbl> & <int> & <fct> & <dbl> & <int> & <int>\\\\\n",
       "\\hline\n",
       "\t 0 & 54 & 0.37003988 & 590 & 0\\_54 & 0.18501994 &  590 & 1\\\\\n",
       "\t 0 & 0  & 0.27964929 & 460 & 0\\_0  & 0.32484458 & 1050 & 2\\\\\n",
       "\t 0 & 2  & 0.13454636 & 229 & 0\\_2  & 0.39211776 & 1279 & 3\\\\\n",
       "\t 0 & 1  & 0.12706146 & 228 & 0\\_1  & 0.45564850 & 1507 & 4\\\\\n",
       "\t 1 & 1  & 0.13525775 & 209 & 1\\_1  & 0.06762887 &  209 & 1\\\\\n",
       "\t 1 & 0  & 0.13289089 & 207 & 1\\_0  & 0.13407432 &  416 & 2\\\\\n",
       "\t 1 & 2  & 0.13039440 & 189 & 1\\_2  & 0.19927152 &  605 & 3\\\\\n",
       "\t 1 & 6  & 0.10412874 & 156 & 1\\_6  & 0.25133589 &  761 & 4\\\\\n",
       "\t 1 & 5  & 0.09919395 & 162 & 1\\_5  & 0.30093286 &  923 & 5\\\\\n",
       "\t 1 & 7  & 0.09841265 & 141 & 1\\_7  & 0.35013919 & 1064 & 6\\\\\n",
       "\t 1 & 9  & 0.09666838 & 123 & 1\\_9  & 0.39847338 & 1187 & 7\\\\\n",
       "\t 1 & 14 & 0.09591616 & 123 & 1\\_14 & 0.44643146 & 1310 & 8\\\\\n",
       "\t 1 & 3  & 0.09400961 & 143 & 1\\_3  & 0.49343626 & 1453 & 9\\\\\n",
       "\t 2 & 1  & 0.13974295 & 154 & 2\\_1  & 0.06987147 &  154 & 1\\\\\n",
       "\t 2 & 0  & 0.13237426 & 169 & 2\\_0  & 0.13605860 &  323 & 2\\\\\n",
       "\t 2 & 3  & 0.12481599 & 150 & 2\\_3  & 0.19846660 &  473 & 3\\\\\n",
       "\t 2 & 5  & 0.10570146 & 124 & 2\\_5  & 0.25131733 &  597 & 4\\\\\n",
       "\t 2 & 2  & 0.10566800 & 118 & 2\\_2  & 0.30415133 &  715 & 5\\\\\n",
       "\t 2 & 4  & 0.10497937 & 116 & 2\\_4  & 0.35664102 &  831 & 6\\\\\n",
       "\t 2 & 10 & 0.10411788 &  83 & 2\\_10 & 0.40869996 &  914 & 7\\\\\n",
       "\t 2 & 6  & 0.09402810 &  96 & 2\\_6  & 0.45571401 & 1010 & 8\\\\\n",
       "\t 2 & 11 & 0.08782480 &  77 & 2\\_11 & 0.49962641 & 1087 & 9\\\\\n",
       "\t 3 & 0  & 0.30696213 & 419 & 3\\_0  & 0.15348106 &  419 & 1\\\\\n",
       "\t 3 & 1  & 0.25185200 & 375 & 3\\_1  & 0.27940706 &  794 & 2\\\\\n",
       "\t 3 & 2  & 0.14952122 & 193 & 3\\_2  & 0.35416768 &  987 & 3\\\\\n",
       "\t 3 & 47 & 0.14311209 & 185 & 3\\_47 & 0.42572372 & 1172 & 4\\\\\n",
       "\t 3 & 53 & 0.12290291 & 138 & 3\\_53 & 0.48717518 & 1310 & 5\\\\\n",
       "\\end{tabular}\n"
      ],
      "text/markdown": [
       "\n",
       "A tibble: 27 × 8\n",
       "\n",
       "| donor &lt;fct&gt; | lineage &lt;fct&gt; | norm.total &lt;dbl&gt; | total &lt;int&gt; | name &lt;fct&gt; | cdf.norm &lt;dbl&gt; | cdf &lt;int&gt; | index &lt;int&gt; |\n",
       "|---|---|---|---|---|---|---|---|\n",
       "| 0 | 54 | 0.37003988 | 590 | 0_54 | 0.18501994 |  590 | 1 |\n",
       "| 0 | 0  | 0.27964929 | 460 | 0_0  | 0.32484458 | 1050 | 2 |\n",
       "| 0 | 2  | 0.13454636 | 229 | 0_2  | 0.39211776 | 1279 | 3 |\n",
       "| 0 | 1  | 0.12706146 | 228 | 0_1  | 0.45564850 | 1507 | 4 |\n",
       "| 1 | 1  | 0.13525775 | 209 | 1_1  | 0.06762887 |  209 | 1 |\n",
       "| 1 | 0  | 0.13289089 | 207 | 1_0  | 0.13407432 |  416 | 2 |\n",
       "| 1 | 2  | 0.13039440 | 189 | 1_2  | 0.19927152 |  605 | 3 |\n",
       "| 1 | 6  | 0.10412874 | 156 | 1_6  | 0.25133589 |  761 | 4 |\n",
       "| 1 | 5  | 0.09919395 | 162 | 1_5  | 0.30093286 |  923 | 5 |\n",
       "| 1 | 7  | 0.09841265 | 141 | 1_7  | 0.35013919 | 1064 | 6 |\n",
       "| 1 | 9  | 0.09666838 | 123 | 1_9  | 0.39847338 | 1187 | 7 |\n",
       "| 1 | 14 | 0.09591616 | 123 | 1_14 | 0.44643146 | 1310 | 8 |\n",
       "| 1 | 3  | 0.09400961 | 143 | 1_3  | 0.49343626 | 1453 | 9 |\n",
       "| 2 | 1  | 0.13974295 | 154 | 2_1  | 0.06987147 |  154 | 1 |\n",
       "| 2 | 0  | 0.13237426 | 169 | 2_0  | 0.13605860 |  323 | 2 |\n",
       "| 2 | 3  | 0.12481599 | 150 | 2_3  | 0.19846660 |  473 | 3 |\n",
       "| 2 | 5  | 0.10570146 | 124 | 2_5  | 0.25131733 |  597 | 4 |\n",
       "| 2 | 2  | 0.10566800 | 118 | 2_2  | 0.30415133 |  715 | 5 |\n",
       "| 2 | 4  | 0.10497937 | 116 | 2_4  | 0.35664102 |  831 | 6 |\n",
       "| 2 | 10 | 0.10411788 |  83 | 2_10 | 0.40869996 |  914 | 7 |\n",
       "| 2 | 6  | 0.09402810 |  96 | 2_6  | 0.45571401 | 1010 | 8 |\n",
       "| 2 | 11 | 0.08782480 |  77 | 2_11 | 0.49962641 | 1087 | 9 |\n",
       "| 3 | 0  | 0.30696213 | 419 | 3_0  | 0.15348106 |  419 | 1 |\n",
       "| 3 | 1  | 0.25185200 | 375 | 3_1  | 0.27940706 |  794 | 2 |\n",
       "| 3 | 2  | 0.14952122 | 193 | 3_2  | 0.35416768 |  987 | 3 |\n",
       "| 3 | 47 | 0.14311209 | 185 | 3_47 | 0.42572372 | 1172 | 4 |\n",
       "| 3 | 53 | 0.12290291 | 138 | 3_53 | 0.48717518 | 1310 | 5 |\n",
       "\n"
      ],
      "text/plain": [
       "   donor lineage norm.total total name cdf.norm   cdf  index\n",
       "1  0     54      0.37003988 590   0_54 0.18501994  590 1    \n",
       "2  0     0       0.27964929 460   0_0  0.32484458 1050 2    \n",
       "3  0     2       0.13454636 229   0_2  0.39211776 1279 3    \n",
       "4  0     1       0.12706146 228   0_1  0.45564850 1507 4    \n",
       "5  1     1       0.13525775 209   1_1  0.06762887  209 1    \n",
       "6  1     0       0.13289089 207   1_0  0.13407432  416 2    \n",
       "7  1     2       0.13039440 189   1_2  0.19927152  605 3    \n",
       "8  1     6       0.10412874 156   1_6  0.25133589  761 4    \n",
       "9  1     5       0.09919395 162   1_5  0.30093286  923 5    \n",
       "10 1     7       0.09841265 141   1_7  0.35013919 1064 6    \n",
       "11 1     9       0.09666838 123   1_9  0.39847338 1187 7    \n",
       "12 1     14      0.09591616 123   1_14 0.44643146 1310 8    \n",
       "13 1     3       0.09400961 143   1_3  0.49343626 1453 9    \n",
       "14 2     1       0.13974295 154   2_1  0.06987147  154 1    \n",
       "15 2     0       0.13237426 169   2_0  0.13605860  323 2    \n",
       "16 2     3       0.12481599 150   2_3  0.19846660  473 3    \n",
       "17 2     5       0.10570146 124   2_5  0.25131733  597 4    \n",
       "18 2     2       0.10566800 118   2_2  0.30415133  715 5    \n",
       "19 2     4       0.10497937 116   2_4  0.35664102  831 6    \n",
       "20 2     10      0.10411788  83   2_10 0.40869996  914 7    \n",
       "21 2     6       0.09402810  96   2_6  0.45571401 1010 8    \n",
       "22 2     11      0.08782480  77   2_11 0.49962641 1087 9    \n",
       "23 3     0       0.30696213 419   3_0  0.15348106  419 1    \n",
       "24 3     1       0.25185200 375   3_1  0.27940706  794 2    \n",
       "25 3     2       0.14952122 193   3_2  0.35416768  987 3    \n",
       "26 3     47      0.14311209 185   3_47 0.42572372 1172 4    \n",
       "27 3     53      0.12290291 138   3_53 0.48717518 1310 5    "
      ]
     },
     "metadata": {},
     "output_type": "display_data"
    }
   ],
   "source": [
    "large.clones <- clone.sizes %>% filter(cdf.norm<cdf_thresh)\n",
    "large.clones <- check.if.one.clone(large.clones, clone.sizes, n_top_clones)\n",
    "#large.clones$name = factor(paste0(large.clones$donor,\"_\", large.clones$lineage))\n",
    "write.csv(large.clones, \n",
    "          file=file.path(outdir, \"large_clones.csv\"), quote=F)\n",
    "\n",
    "large.clones"
   ]
  },
  {
   "cell_type": "code",
   "execution_count": 16,
   "id": "308e6966",
   "metadata": {
    "execution": {
     "iopub.execute_input": "2021-12-03T21:04:36.415457Z",
     "iopub.status.busy": "2021-12-03T21:04:36.413557Z",
     "iopub.status.idle": "2021-12-03T21:04:37.105200Z",
     "shell.execute_reply": "2021-12-03T21:04:37.106108Z"
    },
    "papermill": {
     "duration": 0.876611,
     "end_time": "2021-12-03T21:04:37.106407",
     "exception": false,
     "start_time": "2021-12-03T21:04:36.229796",
     "status": "completed"
    },
    "tags": []
   },
   "outputs": [
    {
     "name": "stderr",
     "output_type": "stream",
     "text": [
      "Saving 6.67 x 6.67 in image\n",
      "\n"
     ]
    },
    {
     "data": {
      "image/png": "[encoded data removed]",
      "text/plain": [
       "plot without title"
      ]
     },
     "metadata": {
      "image/png": {
       "height": 420,
       "width": 420
      }
     },
     "output_type": "display_data"
    }
   ],
   "source": [
    "ggplot(data=large.clones, aes(x=index,y=total, fill = factor(donor))) + \n",
    "        geom_col(position='dodge') +\n",
    "       ggtitle(paste0(\"Top clones (\", cdf_thresh,\n",
    "                      \"fraction of clones) in each donor cell size\"))\n",
    "\n",
    "ggsave(file.path(outdir, \"topClonesSize.png\"))"
   ]
  },
  {
   "cell_type": "markdown",
   "id": "5564da63",
   "metadata": {
    "papermill": {
     "duration": 0.106429,
     "end_time": "2021-12-03T21:04:37.319138",
     "exception": false,
     "start_time": "2021-12-03T21:04:37.212709",
     "status": "completed"
    },
    "tags": []
   },
   "source": [
    "## TF DE"
   ]
  },
  {
   "cell_type": "markdown",
   "id": "b6a80a03",
   "metadata": {
    "papermill": {
     "duration": 0.106421,
     "end_time": "2021-12-03T21:04:37.530298",
     "exception": false,
     "start_time": "2021-12-03T21:04:37.423877",
     "status": "completed"
    },
    "tags": []
   },
   "source": [
    "## Filter se for cells in the large clones"
   ]
  },
  {
   "cell_type": "code",
   "execution_count": 17,
   "id": "8ec3001e",
   "metadata": {
    "execution": {
     "iopub.execute_input": "2021-12-03T21:04:37.750774Z",
     "iopub.status.busy": "2021-12-03T21:04:37.748214Z",
     "iopub.status.idle": "2021-12-03T21:04:37.791776Z",
     "shell.execute_reply": "2021-12-03T21:04:37.792714Z"
    },
    "papermill": {
     "duration": 0.156201,
     "end_time": "2021-12-03T21:04:37.793011",
     "exception": false,
     "start_time": "2021-12-03T21:04:37.636810",
     "status": "completed"
    },
    "scrolled": true,
    "tags": []
   },
   "outputs": [
    {
     "data": {
      "text/html": [
       "<table class=\"dataframe\">\n",
       "<caption>A tibble: 27 × 8</caption>\n",
       "<thead>\n",
       "\t<tr><th scope=col>donor</th><th scope=col>lineage</th><th scope=col>norm.total</th><th scope=col>total</th><th scope=col>name</th><th scope=col>cdf.norm</th><th scope=col>cdf</th><th scope=col>index</th></tr>\n",
       "\t<tr><th scope=col>&lt;fct&gt;</th><th scope=col>&lt;fct&gt;</th><th scope=col>&lt;dbl&gt;</th><th scope=col>&lt;int&gt;</th><th scope=col>&lt;fct&gt;</th><th scope=col>&lt;dbl&gt;</th><th scope=col>&lt;int&gt;</th><th scope=col>&lt;int&gt;</th></tr>\n",
       "</thead>\n",
       "<tbody>\n",
       "\t<tr><td>0</td><td>54</td><td>0.37003988</td><td>590</td><td>0_54</td><td>0.18501994</td><td> 590</td><td>1</td></tr>\n",
       "\t<tr><td>0</td><td>0 </td><td>0.27964929</td><td>460</td><td>0_0 </td><td>0.32484458</td><td>1050</td><td>2</td></tr>\n",
       "\t<tr><td>0</td><td>2 </td><td>0.13454636</td><td>229</td><td>0_2 </td><td>0.39211776</td><td>1279</td><td>3</td></tr>\n",
       "\t<tr><td>0</td><td>1 </td><td>0.12706146</td><td>228</td><td>0_1 </td><td>0.45564850</td><td>1507</td><td>4</td></tr>\n",
       "\t<tr><td>1</td><td>1 </td><td>0.13525775</td><td>209</td><td>1_1 </td><td>0.06762887</td><td> 209</td><td>1</td></tr>\n",
       "\t<tr><td>1</td><td>0 </td><td>0.13289089</td><td>207</td><td>1_0 </td><td>0.13407432</td><td> 416</td><td>2</td></tr>\n",
       "\t<tr><td>1</td><td>2 </td><td>0.13039440</td><td>189</td><td>1_2 </td><td>0.19927152</td><td> 605</td><td>3</td></tr>\n",
       "\t<tr><td>1</td><td>6 </td><td>0.10412874</td><td>156</td><td>1_6 </td><td>0.25133589</td><td> 761</td><td>4</td></tr>\n",
       "\t<tr><td>1</td><td>5 </td><td>0.09919395</td><td>162</td><td>1_5 </td><td>0.30093286</td><td> 923</td><td>5</td></tr>\n",
       "\t<tr><td>1</td><td>7 </td><td>0.09841265</td><td>141</td><td>1_7 </td><td>0.35013919</td><td>1064</td><td>6</td></tr>\n",
       "\t<tr><td>1</td><td>9 </td><td>0.09666838</td><td>123</td><td>1_9 </td><td>0.39847338</td><td>1187</td><td>7</td></tr>\n",
       "\t<tr><td>1</td><td>14</td><td>0.09591616</td><td>123</td><td>1_14</td><td>0.44643146</td><td>1310</td><td>8</td></tr>\n",
       "\t<tr><td>1</td><td>3 </td><td>0.09400961</td><td>143</td><td>1_3 </td><td>0.49343626</td><td>1453</td><td>9</td></tr>\n",
       "\t<tr><td>2</td><td>1 </td><td>0.13974295</td><td>154</td><td>2_1 </td><td>0.06987147</td><td> 154</td><td>1</td></tr>\n",
       "\t<tr><td>2</td><td>0 </td><td>0.13237426</td><td>169</td><td>2_0 </td><td>0.13605860</td><td> 323</td><td>2</td></tr>\n",
       "\t<tr><td>2</td><td>3 </td><td>0.12481599</td><td>150</td><td>2_3 </td><td>0.19846660</td><td> 473</td><td>3</td></tr>\n",
       "\t<tr><td>2</td><td>5 </td><td>0.10570146</td><td>124</td><td>2_5 </td><td>0.25131733</td><td> 597</td><td>4</td></tr>\n",
       "\t<tr><td>2</td><td>2 </td><td>0.10566800</td><td>118</td><td>2_2 </td><td>0.30415133</td><td> 715</td><td>5</td></tr>\n",
       "\t<tr><td>2</td><td>4 </td><td>0.10497937</td><td>116</td><td>2_4 </td><td>0.35664102</td><td> 831</td><td>6</td></tr>\n",
       "\t<tr><td>2</td><td>10</td><td>0.10411788</td><td> 83</td><td>2_10</td><td>0.40869996</td><td> 914</td><td>7</td></tr>\n",
       "\t<tr><td>2</td><td>6 </td><td>0.09402810</td><td> 96</td><td>2_6 </td><td>0.45571401</td><td>1010</td><td>8</td></tr>\n",
       "\t<tr><td>2</td><td>11</td><td>0.08782480</td><td> 77</td><td>2_11</td><td>0.49962641</td><td>1087</td><td>9</td></tr>\n",
       "\t<tr><td>3</td><td>0 </td><td>0.30696213</td><td>419</td><td>3_0 </td><td>0.15348106</td><td> 419</td><td>1</td></tr>\n",
       "\t<tr><td>3</td><td>1 </td><td>0.25185200</td><td>375</td><td>3_1 </td><td>0.27940706</td><td> 794</td><td>2</td></tr>\n",
       "\t<tr><td>3</td><td>2 </td><td>0.14952122</td><td>193</td><td>3_2 </td><td>0.35416768</td><td> 987</td><td>3</td></tr>\n",
       "\t<tr><td>3</td><td>47</td><td>0.14311209</td><td>185</td><td>3_47</td><td>0.42572372</td><td>1172</td><td>4</td></tr>\n",
       "\t<tr><td>3</td><td>53</td><td>0.12290291</td><td>138</td><td>3_53</td><td>0.48717518</td><td>1310</td><td>5</td></tr>\n",
       "</tbody>\n",
       "</table>\n"
      ],
      "text/latex": [
       "A tibble: 27 × 8\n",
       "\\begin{tabular}{llllllll}\n",
       " donor & lineage & norm.total & total & name & cdf.norm & cdf & index\\\\\n",
       " <fct> & <fct> & <dbl> & <int> & <fct> & <dbl> & <int> & <int>\\\\\n",
       "\\hline\n",
       "\t 0 & 54 & 0.37003988 & 590 & 0\\_54 & 0.18501994 &  590 & 1\\\\\n",
       "\t 0 & 0  & 0.27964929 & 460 & 0\\_0  & 0.32484458 & 1050 & 2\\\\\n",
       "\t 0 & 2  & 0.13454636 & 229 & 0\\_2  & 0.39211776 & 1279 & 3\\\\\n",
       "\t 0 & 1  & 0.12706146 & 228 & 0\\_1  & 0.45564850 & 1507 & 4\\\\\n",
       "\t 1 & 1  & 0.13525775 & 209 & 1\\_1  & 0.06762887 &  209 & 1\\\\\n",
       "\t 1 & 0  & 0.13289089 & 207 & 1\\_0  & 0.13407432 &  416 & 2\\\\\n",
       "\t 1 & 2  & 0.13039440 & 189 & 1\\_2  & 0.19927152 &  605 & 3\\\\\n",
       "\t 1 & 6  & 0.10412874 & 156 & 1\\_6  & 0.25133589 &  761 & 4\\\\\n",
       "\t 1 & 5  & 0.09919395 & 162 & 1\\_5  & 0.30093286 &  923 & 5\\\\\n",
       "\t 1 & 7  & 0.09841265 & 141 & 1\\_7  & 0.35013919 & 1064 & 6\\\\\n",
       "\t 1 & 9  & 0.09666838 & 123 & 1\\_9  & 0.39847338 & 1187 & 7\\\\\n",
       "\t 1 & 14 & 0.09591616 & 123 & 1\\_14 & 0.44643146 & 1310 & 8\\\\\n",
       "\t 1 & 3  & 0.09400961 & 143 & 1\\_3  & 0.49343626 & 1453 & 9\\\\\n",
       "\t 2 & 1  & 0.13974295 & 154 & 2\\_1  & 0.06987147 &  154 & 1\\\\\n",
       "\t 2 & 0  & 0.13237426 & 169 & 2\\_0  & 0.13605860 &  323 & 2\\\\\n",
       "\t 2 & 3  & 0.12481599 & 150 & 2\\_3  & 0.19846660 &  473 & 3\\\\\n",
       "\t 2 & 5  & 0.10570146 & 124 & 2\\_5  & 0.25131733 &  597 & 4\\\\\n",
       "\t 2 & 2  & 0.10566800 & 118 & 2\\_2  & 0.30415133 &  715 & 5\\\\\n",
       "\t 2 & 4  & 0.10497937 & 116 & 2\\_4  & 0.35664102 &  831 & 6\\\\\n",
       "\t 2 & 10 & 0.10411788 &  83 & 2\\_10 & 0.40869996 &  914 & 7\\\\\n",
       "\t 2 & 6  & 0.09402810 &  96 & 2\\_6  & 0.45571401 & 1010 & 8\\\\\n",
       "\t 2 & 11 & 0.08782480 &  77 & 2\\_11 & 0.49962641 & 1087 & 9\\\\\n",
       "\t 3 & 0  & 0.30696213 & 419 & 3\\_0  & 0.15348106 &  419 & 1\\\\\n",
       "\t 3 & 1  & 0.25185200 & 375 & 3\\_1  & 0.27940706 &  794 & 2\\\\\n",
       "\t 3 & 2  & 0.14952122 & 193 & 3\\_2  & 0.35416768 &  987 & 3\\\\\n",
       "\t 3 & 47 & 0.14311209 & 185 & 3\\_47 & 0.42572372 & 1172 & 4\\\\\n",
       "\t 3 & 53 & 0.12290291 & 138 & 3\\_53 & 0.48717518 & 1310 & 5\\\\\n",
       "\\end{tabular}\n"
      ],
      "text/markdown": [
       "\n",
       "A tibble: 27 × 8\n",
       "\n",
       "| donor &lt;fct&gt; | lineage &lt;fct&gt; | norm.total &lt;dbl&gt; | total &lt;int&gt; | name &lt;fct&gt; | cdf.norm &lt;dbl&gt; | cdf &lt;int&gt; | index &lt;int&gt; |\n",
       "|---|---|---|---|---|---|---|---|\n",
       "| 0 | 54 | 0.37003988 | 590 | 0_54 | 0.18501994 |  590 | 1 |\n",
       "| 0 | 0  | 0.27964929 | 460 | 0_0  | 0.32484458 | 1050 | 2 |\n",
       "| 0 | 2  | 0.13454636 | 229 | 0_2  | 0.39211776 | 1279 | 3 |\n",
       "| 0 | 1  | 0.12706146 | 228 | 0_1  | 0.45564850 | 1507 | 4 |\n",
       "| 1 | 1  | 0.13525775 | 209 | 1_1  | 0.06762887 |  209 | 1 |\n",
       "| 1 | 0  | 0.13289089 | 207 | 1_0  | 0.13407432 |  416 | 2 |\n",
       "| 1 | 2  | 0.13039440 | 189 | 1_2  | 0.19927152 |  605 | 3 |\n",
       "| 1 | 6  | 0.10412874 | 156 | 1_6  | 0.25133589 |  761 | 4 |\n",
       "| 1 | 5  | 0.09919395 | 162 | 1_5  | 0.30093286 |  923 | 5 |\n",
       "| 1 | 7  | 0.09841265 | 141 | 1_7  | 0.35013919 | 1064 | 6 |\n",
       "| 1 | 9  | 0.09666838 | 123 | 1_9  | 0.39847338 | 1187 | 7 |\n",
       "| 1 | 14 | 0.09591616 | 123 | 1_14 | 0.44643146 | 1310 | 8 |\n",
       "| 1 | 3  | 0.09400961 | 143 | 1_3  | 0.49343626 | 1453 | 9 |\n",
       "| 2 | 1  | 0.13974295 | 154 | 2_1  | 0.06987147 |  154 | 1 |\n",
       "| 2 | 0  | 0.13237426 | 169 | 2_0  | 0.13605860 |  323 | 2 |\n",
       "| 2 | 3  | 0.12481599 | 150 | 2_3  | 0.19846660 |  473 | 3 |\n",
       "| 2 | 5  | 0.10570146 | 124 | 2_5  | 0.25131733 |  597 | 4 |\n",
       "| 2 | 2  | 0.10566800 | 118 | 2_2  | 0.30415133 |  715 | 5 |\n",
       "| 2 | 4  | 0.10497937 | 116 | 2_4  | 0.35664102 |  831 | 6 |\n",
       "| 2 | 10 | 0.10411788 |  83 | 2_10 | 0.40869996 |  914 | 7 |\n",
       "| 2 | 6  | 0.09402810 |  96 | 2_6  | 0.45571401 | 1010 | 8 |\n",
       "| 2 | 11 | 0.08782480 |  77 | 2_11 | 0.49962641 | 1087 | 9 |\n",
       "| 3 | 0  | 0.30696213 | 419 | 3_0  | 0.15348106 |  419 | 1 |\n",
       "| 3 | 1  | 0.25185200 | 375 | 3_1  | 0.27940706 |  794 | 2 |\n",
       "| 3 | 2  | 0.14952122 | 193 | 3_2  | 0.35416768 |  987 | 3 |\n",
       "| 3 | 47 | 0.14311209 | 185 | 3_47 | 0.42572372 | 1172 | 4 |\n",
       "| 3 | 53 | 0.12290291 | 138 | 3_53 | 0.48717518 | 1310 | 5 |\n",
       "\n"
      ],
      "text/plain": [
       "   donor lineage norm.total total name cdf.norm   cdf  index\n",
       "1  0     54      0.37003988 590   0_54 0.18501994  590 1    \n",
       "2  0     0       0.27964929 460   0_0  0.32484458 1050 2    \n",
       "3  0     2       0.13454636 229   0_2  0.39211776 1279 3    \n",
       "4  0     1       0.12706146 228   0_1  0.45564850 1507 4    \n",
       "5  1     1       0.13525775 209   1_1  0.06762887  209 1    \n",
       "6  1     0       0.13289089 207   1_0  0.13407432  416 2    \n",
       "7  1     2       0.13039440 189   1_2  0.19927152  605 3    \n",
       "8  1     6       0.10412874 156   1_6  0.25133589  761 4    \n",
       "9  1     5       0.09919395 162   1_5  0.30093286  923 5    \n",
       "10 1     7       0.09841265 141   1_7  0.35013919 1064 6    \n",
       "11 1     9       0.09666838 123   1_9  0.39847338 1187 7    \n",
       "12 1     14      0.09591616 123   1_14 0.44643146 1310 8    \n",
       "13 1     3       0.09400961 143   1_3  0.49343626 1453 9    \n",
       "14 2     1       0.13974295 154   2_1  0.06987147  154 1    \n",
       "15 2     0       0.13237426 169   2_0  0.13605860  323 2    \n",
       "16 2     3       0.12481599 150   2_3  0.19846660  473 3    \n",
       "17 2     5       0.10570146 124   2_5  0.25131733  597 4    \n",
       "18 2     2       0.10566800 118   2_2  0.30415133  715 5    \n",
       "19 2     4       0.10497937 116   2_4  0.35664102  831 6    \n",
       "20 2     10      0.10411788  83   2_10 0.40869996  914 7    \n",
       "21 2     6       0.09402810  96   2_6  0.45571401 1010 8    \n",
       "22 2     11      0.08782480  77   2_11 0.49962641 1087 9    \n",
       "23 3     0       0.30696213 419   3_0  0.15348106  419 1    \n",
       "24 3     1       0.25185200 375   3_1  0.27940706  794 2    \n",
       "25 3     2       0.14952122 193   3_2  0.35416768  987 3    \n",
       "26 3     47      0.14311209 185   3_47 0.42572372 1172 4    \n",
       "27 3     53      0.12290291 138   3_53 0.48717518 1310 5    "
      ]
     },
     "metadata": {},
     "output_type": "display_data"
    }
   ],
   "source": [
    "large.clones"
   ]
  },
  {
   "cell_type": "code",
   "execution_count": 18,
   "id": "abe394ac",
   "metadata": {
    "execution": {
     "iopub.execute_input": "2021-12-03T21:04:38.026303Z",
     "iopub.status.busy": "2021-12-03T21:04:38.023049Z",
     "iopub.status.idle": "2021-12-03T21:04:45.213702Z",
     "shell.execute_reply": "2021-12-03T21:04:45.212571Z"
    },
    "papermill": {
     "duration": 7.309758,
     "end_time": "2021-12-03T21:04:45.213951",
     "exception": false,
     "start_time": "2021-12-03T21:04:37.904193",
     "status": "completed"
    },
    "scrolled": false,
    "tags": []
   },
   "outputs": [
    {
     "data": {
      "text/plain": [
       "An object of class Seurat \n",
       "170811 features across 5357 samples within 4 assays \n",
       "Active assay: chromvarnames (633 features, 0 variable features)\n",
       " 3 other assays present: ATAC, RNA, chromvar\n",
       " 2 dimensional reductions calculated: integrated_lsi, umap"
      ]
     },
     "metadata": {},
     "output_type": "display_data"
    }
   ],
   "source": [
    "se <- subset(se, subset= name %in% factor(large.clones$name))\n",
    "se"
   ]
  },
  {
   "cell_type": "code",
   "execution_count": 19,
   "id": "cca27e11",
   "metadata": {
    "execution": {
     "iopub.execute_input": "2021-12-03T21:04:45.475327Z",
     "iopub.status.busy": "2021-12-03T21:04:45.472451Z",
     "iopub.status.idle": "2021-12-03T21:05:45.552632Z",
     "shell.execute_reply": "2021-12-03T21:05:45.551408Z"
    },
    "papermill": {
     "duration": 60.19746,
     "end_time": "2021-12-03T21:05:45.552880",
     "exception": false,
     "start_time": "2021-12-03T21:04:45.355420",
     "status": "completed"
    },
    "tags": []
   },
   "outputs": [],
   "source": [
    "saveRDS(object=se, file=file.path(outdir, \"se.clonesfilt.rds\"))    "
   ]
  },
  {
   "cell_type": "markdown",
   "id": "1aa2150f",
   "metadata": {
    "papermill": {
     "duration": 0.112344,
     "end_time": "2021-12-03T21:05:45.790852",
     "exception": false,
     "start_time": "2021-12-03T21:05:45.678508",
     "status": "completed"
    },
    "tags": []
   },
   "source": [
    "## Run DE"
   ]
  },
  {
   "cell_type": "code",
   "execution_count": 20,
   "id": "9c5b398c",
   "metadata": {
    "execution": {
     "iopub.execute_input": "2021-12-03T21:05:46.029637Z",
     "iopub.status.busy": "2021-12-03T21:05:46.025279Z",
     "iopub.status.idle": "2021-12-03T21:05:46.045749Z",
     "shell.execute_reply": "2021-12-03T21:05:46.044281Z"
    },
    "papermill": {
     "duration": 0.142264,
     "end_time": "2021-12-03T21:05:46.045953",
     "exception": false,
     "start_time": "2021-12-03T21:05:45.903689",
     "status": "completed"
    },
    "scrolled": true,
    "tags": []
   },
   "outputs": [],
   "source": [
    "# for (d in 0:(n_donors-1)){\n",
    "#     print('donor')\n",
    "#     print(d)\n",
    "#     curr.outdir <- file.path(outdir, paste0(\"donor\", d, \"_TF\"))\n",
    "#     dir.create(curr.outdir)\n",
    "#     donor.large.clones <- large.clones %>% filter(donor==d)\n",
    "#     clones.filt.ids <- sort(donor.large.clones$lineage)\n",
    "#     print('clones')\n",
    "#     print(clones.filt.ids)\n",
    "#     print(length(clones.filt.ids))\n",
    "#     se.filt <- subset(se, subset = (donor==d) & (lineage %in% donor.large.clones$lineage))\n",
    "#     Idents(se.filt) <- se.filt$lineage  \n",
    "#     print('se.filt')\n",
    "#     print(dim(se.filt[[]]))\n",
    "\n",
    "#     pairs = combn(clones.filt.ids,2)\n",
    "#     for (i in 1:dim(combn(clones.filt.ids,2))[2]){\n",
    "#         DefaultAssay(se.filt) <- \"chromvarnames\"\n",
    "#         print(pairs[,i])\n",
    "#         try({\n",
    "#             print(paste(\"clones\", i))\n",
    "#             a = pairs[1,i]\n",
    "#             b = pairs[2,i]\n",
    "#             da <- FindMarkers(\n",
    "#               object = se.filt,\n",
    "#               ident.1 = a,\n",
    "#               ident.2 = b,\n",
    "#               only.pos = FALSE,\n",
    "#               mean.fxn = rowMeans,\n",
    "#               logfc.threshold = 0.1,\n",
    "#               min.pct = min_pct,\n",
    "#               latent.vars=latent.vars,\n",
    "#               fc.name = \"avg_diff\")\n",
    "#             da$p_val_adj_BH <- stats::p.adjust(da$p_val, method = \"BH\", n = length(da$p_val))\n",
    "#             write.csv(da, \n",
    "#                       file=file.path(curr.outdir, paste0(\"clones_\",a,\"__\", b,\".DE.TF.csv\")))\n",
    "#             gally <- GGally::ggpairs(da[,c(\"p_val\", \"p_val_adj\")], aes(alpha = 0.4))\n",
    "#             ggsave(object=gally, file=file.path(curr.outdir, paste0(\"clones_\",a,\"__\", b,\".DE.TF.pvalHist.png\")))\n",
    "#             #plotDE(se, da, c, clust_outdir)\n",
    "#             # Save motifs\n",
    "#             DefaultAssay(se.filt) <- \"ATAC\"\n",
    "#             raw.ids <- names(Motifs(se.filt)@motif.names)\n",
    "#             rownames(curr.tf.da) <- sapply((curr.tf.da$X), function(x){raw.ids[match(x, Motifs(se.filt)@motif.names)]})\n",
    "#             m <- MotifPlot(\n",
    "#               object = se.filt,\n",
    "#               motifs = head(rownames(curr.tf.da)),\n",
    "#               assay = 'ATAC'\n",
    "#             )\n",
    "#             ggsave(plot=m, \n",
    "#                        file=file.path(curr.outdir, paste0(\"clones_\",a,\"__\", b,\".DE.TF.motif.top.png\")))\n",
    "\n",
    "\n",
    "\n",
    "\n",
    "#     })\n",
    "#         }\n",
    "#     }"
   ]
  },
  {
   "cell_type": "code",
   "execution_count": null,
   "id": "1692a487",
   "metadata": {
    "papermill": {
     "duration": 0.111356,
     "end_time": "2021-12-03T21:05:46.276163",
     "exception": false,
     "start_time": "2021-12-03T21:05:46.164807",
     "status": "completed"
    },
    "tags": []
   },
   "outputs": [],
   "source": []
  },
  {
   "cell_type": "code",
   "execution_count": null,
   "id": "a9884ca6",
   "metadata": {
    "papermill": {
     "duration": 0.107594,
     "end_time": "2021-12-03T21:05:46.495454",
     "exception": false,
     "start_time": "2021-12-03T21:05:46.387860",
     "status": "completed"
    },
    "tags": []
   },
   "outputs": [],
   "source": []
  }
 ],
 "metadata": {
  "celltoolbar": "Tags",
  "kernelspec": {
   "display_name": "R",
   "language": "R",
   "name": "ir"
  },
  "language_info": {
   "codemirror_mode": "r",
   "file_extension": ".r",
   "mimetype": "text/x-r-source",
   "name": "R",
   "pygments_lexer": "r",
   "version": "4.1.1"
  },
  "papermill": {
   "default_parameters": {},
   "duration": 906.326329,
   "end_time": "2021-12-03T21:05:47.122297",
   "environment_variables": {},
   "exception": null,
   "input_path": "/mnt/md0/isshamie/Projects/Mito_Trace/R_scripts/annotation_clones/setup_motifs_large_clones.ipynb",
   "output_path": "/data/Mito_Trace/output/pipeline/cd34norm/MTblacklist/data/merged/MT/cellr_True/numread_200/filters/minC10_minR50_topN0_hetT0.001_hetC10_hetCount5_bq20/mgatk/vireoIn/clones/variants_init/knn/kparam_3/concat/annotation_clones/DE_large/output.ipynb",
   "parameters": {
    "n_donors": 4,
    "outdir": "/data/Mito_Trace/output/pipeline/cd34norm/MTblacklist/data/merged/MT/cellr_True/numread_200/filters/minC10_minR50_topN0_hetT0.001_hetC10_hetCount5_bq20/mgatk/vireoIn/clones/variants_init/knn/kparam_3/concat/annotation_clones/DE_large",
    "se_f": "/data/Mito_Trace/output/pipeline/cd34norm/MTblacklist/data/merged/MT/cellr_True/numread_200/filters/minC10_minR50_topN0_hetT0.001_hetC10_hetCount5_bq20/mgatk/vireoIn/clones/variants_init/knn/kparam_3/concat/annotation_clones/SE.rds"
   },
   "start_time": "2021-12-03T20:50:40.795968",
   "version": "2.3.3"
  }
 },
 "nbformat": 4,
 "nbformat_minor": 5
}