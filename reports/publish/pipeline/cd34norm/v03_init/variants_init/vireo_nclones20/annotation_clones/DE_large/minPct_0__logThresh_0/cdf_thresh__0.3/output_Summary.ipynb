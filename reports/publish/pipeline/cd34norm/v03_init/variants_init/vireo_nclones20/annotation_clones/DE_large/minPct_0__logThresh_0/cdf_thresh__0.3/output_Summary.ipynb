{
 "cells": [
  {
   "cell_type": "code",
   "execution_count": 1,
   "id": "4246cc89",
   "metadata": {
    "execution": {
     "iopub.execute_input": "2021-12-03T20:29:38.851247Z",
     "iopub.status.busy": "2021-12-03T20:29:38.845727Z",
     "iopub.status.idle": "2021-12-03T20:29:38.891264Z",
     "shell.execute_reply": "2021-12-03T20:29:38.890173Z"
    },
    "papermill": {
     "duration": 0.099573,
     "end_time": "2021-12-03T20:29:38.891505",
     "exception": false,
     "start_time": "2021-12-03T20:29:38.791932",
     "status": "completed"
    },
    "tags": [
     "parameters"
    ]
   },
   "outputs": [],
   "source": [
    "#indir = \"/data/Mito_Trace/output/annotation_clones/data/cd34norm/MTblacklist/DE_large\"\n",
    "indir = \"/data/Mito_Trace/output/pipeline/cd34norm/MTblacklist/data/merged/MT/cellr_True/numread_200/filters/minC10_minR50_topN0_hetT0.001_hetC10_hetCount5_bq20/mgatk/vireoIn/clones/variants_init/vireo/nclones20/annotation_clones/DE_large/minPct_0.01__logThresh_0\"\n",
    "\n",
    "se_indir = \"/data/Mito_Trace/output/pipeline/cd34norm/MTblacklist/data/merged/MT/cellr_True/numread_200/filters/minC10_minR50_topN0_hetT0.001_hetC10_hetCount5_bq20/mgatk/vireoIn/clones/variants_init/vireo/nclones20/annotation_clones/DE_large\"\n",
    "n_donors = 4\n",
    "cdf_thresh = 0.3\n",
    "\n",
    "n_top_genes = 5\n",
    "n_top_clones = 3\n",
    "utils_script <- \"/data/Mito_Trace/R_scripts/seurat_utils.R\"\n"
   ]
  },
  {
   "cell_type": "code",
   "execution_count": 2,
   "id": "e7e7b35a",
   "metadata": {
    "execution": {
     "iopub.execute_input": "2021-12-03T20:29:39.034628Z",
     "iopub.status.busy": "2021-12-03T20:29:38.995754Z",
     "iopub.status.idle": "2021-12-03T20:29:39.051750Z",
     "shell.execute_reply": "2021-12-03T20:29:39.050552Z"
    },
    "papermill": {
     "duration": 0.110162,
     "end_time": "2021-12-03T20:29:39.052074",
     "exception": false,
     "start_time": "2021-12-03T20:29:38.941912",
     "status": "completed"
    },
    "tags": [
     "injected-parameters"
    ]
   },
   "outputs": [],
   "source": [
    "# Parameters\n",
    "indir = \"/data/Mito_Trace/output/pipeline/cd34norm/MTblacklist/data/merged/MT/cellr_True/numread_200/filters/minC10_minR50_topN0_hetT0.001_hetC10_hetCount5_bq20/mgatk/vireoIn/clones/variants_init/vireo/nclones20/annotation_clones/DE_large/minPct_0__logThresh_0\"\n",
    "se_indir = \"/data/Mito_Trace/output/pipeline/cd34norm/MTblacklist/data/merged/MT/cellr_True/numread_200/filters/minC10_minR50_topN0_hetT0.001_hetC10_hetCount5_bq20/mgatk/vireoIn/clones/variants_init/vireo/nclones20/annotation_clones/DE_large\"\n",
    "n_donors = 4\n",
    "cdf_thresh = 0.3\n"
   ]
  },
  {
   "cell_type": "code",
   "execution_count": 3,
   "id": "126002f9",
   "metadata": {
    "execution": {
     "iopub.execute_input": "2021-12-03T20:29:39.181618Z",
     "iopub.status.busy": "2021-12-03T20:29:39.178227Z",
     "iopub.status.idle": "2021-12-03T20:29:46.589306Z",
     "shell.execute_reply": "2021-12-03T20:29:46.588158Z"
    },
    "papermill": {
     "duration": 7.478717,
     "end_time": "2021-12-03T20:29:46.589578",
     "exception": false,
     "start_time": "2021-12-03T20:29:39.110861",
     "status": "completed"
    },
    "scrolled": true,
    "tags": []
   },
   "outputs": [
    {
     "name": "stderr",
     "output_type": "stream",
     "text": [
      "Attaching SeuratObject\n",
      "\n"
     ]
    }
   ],
   "source": [
    "source(utils_script)"
   ]
  },
  {
   "cell_type": "code",
   "execution_count": 4,
   "id": "3657ef25",
   "metadata": {
    "execution": {
     "iopub.execute_input": "2021-12-03T20:29:46.717309Z",
     "iopub.status.busy": "2021-12-03T20:29:46.713659Z",
     "iopub.status.idle": "2021-12-03T20:29:46.733738Z",
     "shell.execute_reply": "2021-12-03T20:29:46.732556Z"
    },
    "papermill": {
     "duration": 0.086648,
     "end_time": "2021-12-03T20:29:46.733982",
     "exception": false,
     "start_time": "2021-12-03T20:29:46.647334",
     "status": "completed"
    },
    "scrolled": true,
    "tags": []
   },
   "outputs": [
    {
     "name": "stderr",
     "output_type": "stream",
     "text": [
      "Warning message in dir.create(outdir):\n",
      "“'/data/Mito_Trace/output/pipeline/cd34norm/MTblacklist/data/merged/MT/cellr_True/numread_200/filters/minC10_minR50_topN0_hetT0.001_hetC10_hetCount5_bq20/mgatk/vireoIn/clones/variants_init/vireo/nclones20/annotation_clones/DE_large/minPct_0__logThresh_0/cdf_thresh__0.3' already exists”\n"
     ]
    }
   ],
   "source": [
    "outdir <- paste0(indir, \"/\", \"cdf_thresh__\", (cdf_thresh))\n",
    "dir.create(outdir)"
   ]
  },
  {
   "cell_type": "code",
   "execution_count": 5,
   "id": "5d9ca2e3",
   "metadata": {
    "execution": {
     "iopub.execute_input": "2021-12-03T20:29:46.857991Z",
     "iopub.status.busy": "2021-12-03T20:29:46.855127Z",
     "iopub.status.idle": "2021-12-03T20:29:54.296216Z",
     "shell.execute_reply": "2021-12-03T20:29:54.295363Z"
    },
    "papermill": {
     "duration": 7.503045,
     "end_time": "2021-12-03T20:29:54.296397",
     "exception": false,
     "start_time": "2021-12-03T20:29:46.793352",
     "status": "completed"
    },
    "scrolled": true,
    "tags": []
   },
   "outputs": [
    {
     "name": "stderr",
     "output_type": "stream",
     "text": [
      "\n",
      "Attaching package: ‘cowplot’\n",
      "\n",
      "\n"
     ]
    },
    {
     "name": "stderr",
     "output_type": "stream",
     "text": [
      "The following object is masked from ‘package:patchwork’:\n",
      "\n",
      "    align_plots\n",
      "\n",
      "\n"
     ]
    },
    {
     "name": "stderr",
     "output_type": "stream",
     "text": [
      "\n",
      "Attaching package: ‘dplyr’\n",
      "\n",
      "\n"
     ]
    },
    {
     "name": "stderr",
     "output_type": "stream",
     "text": [
      "The following objects are masked from ‘package:stats’:\n",
      "\n",
      "    filter, lag\n",
      "\n",
      "\n"
     ]
    },
    {
     "name": "stderr",
     "output_type": "stream",
     "text": [
      "The following objects are masked from ‘package:base’:\n",
      "\n",
      "    intersect, setdiff, setequal, union\n",
      "\n",
      "\n"
     ]
    },
    {
     "name": "stderr",
     "output_type": "stream",
     "text": [
      "Loading required package: grid\n",
      "\n"
     ]
    },
    {
     "name": "stderr",
     "output_type": "stream",
     "text": [
      "========================================\n",
      "ComplexHeatmap version 2.10.0\n",
      "Bioconductor page: http://bioconductor.org/packages/ComplexHeatmap/\n",
      "Github page: https://github.com/jokergoo/ComplexHeatmap\n",
      "Documentation: http://jokergoo.github.io/ComplexHeatmap-reference\n",
      "\n",
      "If you use it in published research, please cite:\n",
      "Gu, Z. Complex heatmaps reveal patterns and correlations in multidimensional \n",
      "  genomic data. Bioinformatics 2016.\n",
      "\n",
      "The new InteractiveComplexHeatmap package can directly export static \n",
      "complex heatmaps into an interactive Shiny app with zero effort. Have a try!\n",
      "\n",
      "This message can be suppressed by:\n",
      "  suppressPackageStartupMessages(library(ComplexHeatmap))\n",
      "========================================\n",
      "\n",
      "\n"
     ]
    },
    {
     "name": "stderr",
     "output_type": "stream",
     "text": [
      "\n",
      "\n"
     ]
    },
    {
     "name": "stderr",
     "output_type": "stream",
     "text": [
      "Loading required package: BSgenome\n",
      "\n"
     ]
    },
    {
     "name": "stderr",
     "output_type": "stream",
     "text": [
      "Loading required package: BiocGenerics\n",
      "\n"
     ]
    },
    {
     "name": "stderr",
     "output_type": "stream",
     "text": [
      "\n",
      "Attaching package: ‘BiocGenerics’\n",
      "\n",
      "\n"
     ]
    },
    {
     "name": "stderr",
     "output_type": "stream",
     "text": [
      "The following objects are masked from ‘package:dplyr’:\n",
      "\n",
      "    combine, intersect, setdiff, union\n",
      "\n",
      "\n"
     ]
    },
    {
     "name": "stderr",
     "output_type": "stream",
     "text": [
      "The following objects are masked from ‘package:stats’:\n",
      "\n",
      "    IQR, mad, sd, var, xtabs\n",
      "\n",
      "\n"
     ]
    },
    {
     "name": "stderr",
     "output_type": "stream",
     "text": [
      "The following objects are masked from ‘package:base’:\n",
      "\n",
      "    anyDuplicated, append, as.data.frame, basename, cbind, colnames,\n",
      "    dirname, do.call, duplicated, eval, evalq, Filter, Find, get, grep,\n",
      "    grepl, intersect, is.unsorted, lapply, Map, mapply, match, mget,\n",
      "    order, paste, pmax, pmax.int, pmin, pmin.int, Position, rank,\n",
      "    rbind, Reduce, rownames, sapply, setdiff, sort, table, tapply,\n",
      "    union, unique, unsplit, which.max, which.min\n",
      "\n",
      "\n"
     ]
    },
    {
     "name": "stderr",
     "output_type": "stream",
     "text": [
      "Loading required package: S4Vectors\n",
      "\n"
     ]
    },
    {
     "name": "stderr",
     "output_type": "stream",
     "text": [
      "Loading required package: stats4\n",
      "\n"
     ]
    },
    {
     "name": "stderr",
     "output_type": "stream",
     "text": [
      "\n",
      "Attaching package: ‘S4Vectors’\n",
      "\n",
      "\n"
     ]
    },
    {
     "name": "stderr",
     "output_type": "stream",
     "text": [
      "The following object is masked from ‘package:future’:\n",
      "\n",
      "    values\n",
      "\n",
      "\n"
     ]
    },
    {
     "name": "stderr",
     "output_type": "stream",
     "text": [
      "The following objects are masked from ‘package:dplyr’:\n",
      "\n",
      "    first, rename\n",
      "\n",
      "\n"
     ]
    },
    {
     "name": "stderr",
     "output_type": "stream",
     "text": [
      "The following objects are masked from ‘package:base’:\n",
      "\n",
      "    expand.grid, I, unname\n",
      "\n",
      "\n"
     ]
    },
    {
     "name": "stderr",
     "output_type": "stream",
     "text": [
      "Loading required package: IRanges\n",
      "\n"
     ]
    },
    {
     "name": "stderr",
     "output_type": "stream",
     "text": [
      "\n",
      "Attaching package: ‘IRanges’\n",
      "\n",
      "\n"
     ]
    },
    {
     "name": "stderr",
     "output_type": "stream",
     "text": [
      "The following objects are masked from ‘package:dplyr’:\n",
      "\n",
      "    collapse, desc, slice\n",
      "\n",
      "\n"
     ]
    },
    {
     "name": "stderr",
     "output_type": "stream",
     "text": [
      "Loading required package: GenomeInfoDb\n",
      "\n"
     ]
    },
    {
     "name": "stderr",
     "output_type": "stream",
     "text": [
      "Loading required package: GenomicRanges\n",
      "\n"
     ]
    },
    {
     "name": "stderr",
     "output_type": "stream",
     "text": [
      "Loading required package: Biostrings\n",
      "\n"
     ]
    },
    {
     "name": "stderr",
     "output_type": "stream",
     "text": [
      "Loading required package: XVector\n",
      "\n"
     ]
    },
    {
     "name": "stderr",
     "output_type": "stream",
     "text": [
      "\n",
      "Attaching package: ‘Biostrings’\n",
      "\n",
      "\n"
     ]
    },
    {
     "name": "stderr",
     "output_type": "stream",
     "text": [
      "The following object is masked from ‘package:grid’:\n",
      "\n",
      "    pattern\n",
      "\n",
      "\n"
     ]
    },
    {
     "name": "stderr",
     "output_type": "stream",
     "text": [
      "The following object is masked from ‘package:base’:\n",
      "\n",
      "    strsplit\n",
      "\n",
      "\n"
     ]
    },
    {
     "name": "stderr",
     "output_type": "stream",
     "text": [
      "Loading required package: rtracklayer\n",
      "\n"
     ]
    }
   ],
   "source": [
    "library(Seurat)\n",
    "library(Signac)\n",
    "library(ggplot2)\n",
    "library(patchwork)\n",
    "set.seed(1234)\n",
    "library(magrittr)\n",
    "library(cowplot)\n",
    "library(metap)\n",
    "library(dplyr)\n",
    "library(future)\n",
    "library(\"ComplexHeatmap\")\n",
    "library(motifmatchr)\n",
    "library(JASPAR2020)\n",
    "library(TFBSTools)\n",
    "library(BSgenome.Hsapiens.UCSC.hg38)\n"
   ]
  },
  {
   "cell_type": "markdown",
   "id": "e8a7d7b5",
   "metadata": {
    "papermill": {
     "duration": 0.085166,
     "end_time": "2021-12-03T20:29:54.470394",
     "exception": false,
     "start_time": "2021-12-03T20:29:54.385228",
     "status": "completed"
    },
    "tags": []
   },
   "source": [
    "## Import seurat object"
   ]
  },
  {
   "cell_type": "code",
   "execution_count": 6,
   "id": "2ef3a56c",
   "metadata": {
    "execution": {
     "iopub.execute_input": "2021-12-03T20:29:54.648755Z",
     "iopub.status.busy": "2021-12-03T20:29:54.644862Z",
     "iopub.status.idle": "2021-12-03T20:30:12.028254Z",
     "shell.execute_reply": "2021-12-03T20:30:12.026823Z"
    },
    "papermill": {
     "duration": 17.474304,
     "end_time": "2021-12-03T20:30:12.028434",
     "exception": false,
     "start_time": "2021-12-03T20:29:54.554130",
     "status": "completed"
    },
    "scrolled": true,
    "tags": []
   },
   "outputs": [
    {
     "name": "stdout",
     "output_type": "stream",
     "text": [
      "[1] 4\n",
      "[1] \"i 1 donor 0\"\n",
      "[1] \"only 1 clone. Using top 3 clones\"\n",
      "[1] \"i 2 donor 1\"\n",
      "[1] \"only 1 clone. Using top 3 clones\"\n",
      "[1] \"i 3 donor 2\"\n",
      "[1] \"only 1 clone. Using top 3 clones\"\n",
      "[1] \"i 4 donor 3\"\n"
     ]
    },
    {
     "data": {
      "text/html": [
       "<table class=\"dataframe\">\n",
       "<caption>A data.frame: 11 × 9</caption>\n",
       "<thead>\n",
       "\t<tr><th scope=col>X</th><th scope=col>donor</th><th scope=col>lineage</th><th scope=col>norm.total</th><th scope=col>total</th><th scope=col>name</th><th scope=col>cdf.norm</th><th scope=col>cdf</th><th scope=col>index</th></tr>\n",
       "\t<tr><th scope=col>&lt;int&gt;</th><th scope=col>&lt;int&gt;</th><th scope=col>&lt;int&gt;</th><th scope=col>&lt;dbl&gt;</th><th scope=col>&lt;int&gt;</th><th scope=col>&lt;chr&gt;</th><th scope=col>&lt;dbl&gt;</th><th scope=col>&lt;int&gt;</th><th scope=col>&lt;int&gt;</th></tr>\n",
       "</thead>\n",
       "<tbody>\n",
       "\t<tr><td> 7</td><td>3</td><td>12</td><td>0.2208095</td><td>117</td><td>3_12</td><td>0.1104048</td><td>117</td><td>1</td></tr>\n",
       "\t<tr><td> 8</td><td>3</td><td>15</td><td>0.1734742</td><td>124</td><td>3_15</td><td>0.1971419</td><td>241</td><td>2</td></tr>\n",
       "\t<tr><td> 9</td><td>3</td><td> 8</td><td>0.1666302</td><td>115</td><td>3_8 </td><td>0.2804570</td><td>356</td><td>3</td></tr>\n",
       "\t<tr><td> 1</td><td>0</td><td> 8</td><td>0.2505675</td><td>193</td><td>0_8 </td><td>0.1252838</td><td>193</td><td>1</td></tr>\n",
       "\t<tr><td> 2</td><td>0</td><td>15</td><td>0.2256514</td><td>137</td><td>0_15</td><td>0.2381095</td><td>330</td><td>2</td></tr>\n",
       "\t<tr><td> 3</td><td>0</td><td> 0</td><td>0.1866681</td><td>129</td><td>0_0 </td><td>0.3314435</td><td>459</td><td>3</td></tr>\n",
       "\t<tr><td> 5</td><td>1</td><td> 4</td><td>0.4680898</td><td>330</td><td>1_4 </td><td>0.2340449</td><td>330</td><td>1</td></tr>\n",
       "\t<tr><td> 6</td><td>1</td><td>13</td><td>0.2878923</td><td>203</td><td>1_13</td><td>0.3779910</td><td>533</td><td>2</td></tr>\n",
       "\t<tr><td>12</td><td>2</td><td> 4</td><td>0.2622976</td><td>132</td><td>2_4 </td><td>0.1311488</td><td>132</td><td>1</td></tr>\n",
       "\t<tr><td>13</td><td>2</td><td> 9</td><td>0.2591610</td><td>124</td><td>2_9 </td><td>0.2607293</td><td>256</td><td>2</td></tr>\n",
       "\t<tr><td>14</td><td>2</td><td> 5</td><td>0.2522377</td><td>131</td><td>2_5 </td><td>0.3868481</td><td>387</td><td>3</td></tr>\n",
       "</tbody>\n",
       "</table>\n"
      ],
      "text/latex": [
       "A data.frame: 11 × 9\n",
       "\\begin{tabular}{lllllllll}\n",
       " X & donor & lineage & norm.total & total & name & cdf.norm & cdf & index\\\\\n",
       " <int> & <int> & <int> & <dbl> & <int> & <chr> & <dbl> & <int> & <int>\\\\\n",
       "\\hline\n",
       "\t  7 & 3 & 12 & 0.2208095 & 117 & 3\\_12 & 0.1104048 & 117 & 1\\\\\n",
       "\t  8 & 3 & 15 & 0.1734742 & 124 & 3\\_15 & 0.1971419 & 241 & 2\\\\\n",
       "\t  9 & 3 &  8 & 0.1666302 & 115 & 3\\_8  & 0.2804570 & 356 & 3\\\\\n",
       "\t  1 & 0 &  8 & 0.2505675 & 193 & 0\\_8  & 0.1252838 & 193 & 1\\\\\n",
       "\t  2 & 0 & 15 & 0.2256514 & 137 & 0\\_15 & 0.2381095 & 330 & 2\\\\\n",
       "\t  3 & 0 &  0 & 0.1866681 & 129 & 0\\_0  & 0.3314435 & 459 & 3\\\\\n",
       "\t  5 & 1 &  4 & 0.4680898 & 330 & 1\\_4  & 0.2340449 & 330 & 1\\\\\n",
       "\t  6 & 1 & 13 & 0.2878923 & 203 & 1\\_13 & 0.3779910 & 533 & 2\\\\\n",
       "\t 12 & 2 &  4 & 0.2622976 & 132 & 2\\_4  & 0.1311488 & 132 & 1\\\\\n",
       "\t 13 & 2 &  9 & 0.2591610 & 124 & 2\\_9  & 0.2607293 & 256 & 2\\\\\n",
       "\t 14 & 2 &  5 & 0.2522377 & 131 & 2\\_5  & 0.3868481 & 387 & 3\\\\\n",
       "\\end{tabular}\n"
      ],
      "text/markdown": [
       "\n",
       "A data.frame: 11 × 9\n",
       "\n",
       "| X &lt;int&gt; | donor &lt;int&gt; | lineage &lt;int&gt; | norm.total &lt;dbl&gt; | total &lt;int&gt; | name &lt;chr&gt; | cdf.norm &lt;dbl&gt; | cdf &lt;int&gt; | index &lt;int&gt; |\n",
       "|---|---|---|---|---|---|---|---|---|\n",
       "|  7 | 3 | 12 | 0.2208095 | 117 | 3_12 | 0.1104048 | 117 | 1 |\n",
       "|  8 | 3 | 15 | 0.1734742 | 124 | 3_15 | 0.1971419 | 241 | 2 |\n",
       "|  9 | 3 |  8 | 0.1666302 | 115 | 3_8  | 0.2804570 | 356 | 3 |\n",
       "|  1 | 0 |  8 | 0.2505675 | 193 | 0_8  | 0.1252838 | 193 | 1 |\n",
       "|  2 | 0 | 15 | 0.2256514 | 137 | 0_15 | 0.2381095 | 330 | 2 |\n",
       "|  3 | 0 |  0 | 0.1866681 | 129 | 0_0  | 0.3314435 | 459 | 3 |\n",
       "|  5 | 1 |  4 | 0.4680898 | 330 | 1_4  | 0.2340449 | 330 | 1 |\n",
       "|  6 | 1 | 13 | 0.2878923 | 203 | 1_13 | 0.3779910 | 533 | 2 |\n",
       "| 12 | 2 |  4 | 0.2622976 | 132 | 2_4  | 0.1311488 | 132 | 1 |\n",
       "| 13 | 2 |  9 | 0.2591610 | 124 | 2_9  | 0.2607293 | 256 | 2 |\n",
       "| 14 | 2 |  5 | 0.2522377 | 131 | 2_5  | 0.3868481 | 387 | 3 |\n",
       "\n"
      ],
      "text/plain": [
       "   X  donor lineage norm.total total name cdf.norm  cdf index\n",
       "1   7 3     12      0.2208095  117   3_12 0.1104048 117 1    \n",
       "2   8 3     15      0.1734742  124   3_15 0.1971419 241 2    \n",
       "3   9 3      8      0.1666302  115   3_8  0.2804570 356 3    \n",
       "4   1 0      8      0.2505675  193   0_8  0.1252838 193 1    \n",
       "5   2 0     15      0.2256514  137   0_15 0.2381095 330 2    \n",
       "6   3 0      0      0.1866681  129   0_0  0.3314435 459 3    \n",
       "7   5 1      4      0.4680898  330   1_4  0.2340449 330 1    \n",
       "8   6 1     13      0.2878923  203   1_13 0.3779910 533 2    \n",
       "9  12 2      4      0.2622976  132   2_4  0.1311488 132 1    \n",
       "10 13 2      9      0.2591610  124   2_9  0.2607293 256 2    \n",
       "11 14 2      5      0.2522377  131   2_5  0.3868481 387 3    "
      ]
     },
     "metadata": {},
     "output_type": "display_data"
    }
   ],
   "source": [
    "se <- readRDS(file.path(se_indir, \"se.clonesfilt.rds\"))\n",
    "init.large.clones <- read.csv(file.path(se_indir, \"large_clones.csv\"))\n",
    "large.clones <- init.large.clones %>% filter(cdf.norm<cdf_thresh)\n",
    "\n",
    "large.clones <- check.if.one.clone(large.clones, init.large.clones, n_top_clones)\n",
    "large.clones"
   ]
  },
  {
   "cell_type": "code",
   "execution_count": 7,
   "id": "ec910a21",
   "metadata": {
    "execution": {
     "iopub.execute_input": "2021-12-03T20:30:12.197624Z",
     "iopub.status.busy": "2021-12-03T20:30:12.194062Z",
     "iopub.status.idle": "2021-12-03T20:30:17.099437Z",
     "shell.execute_reply": "2021-12-03T20:30:17.098272Z"
    },
    "papermill": {
     "duration": 4.989327,
     "end_time": "2021-12-03T20:30:17.099681",
     "exception": false,
     "start_time": "2021-12-03T20:30:12.110354",
     "status": "completed"
    },
    "tags": []
   },
   "outputs": [],
   "source": [
    "se <- subset(se, subset= name %in% factor(large.clones$name))"
   ]
  },
  {
   "cell_type": "code",
   "execution_count": 8,
   "id": "c1f91a07",
   "metadata": {
    "execution": {
     "iopub.execute_input": "2021-12-03T20:30:17.292521Z",
     "iopub.status.busy": "2021-12-03T20:30:17.289618Z",
     "iopub.status.idle": "2021-12-03T20:30:17.318581Z",
     "shell.execute_reply": "2021-12-03T20:30:17.317135Z"
    },
    "papermill": {
     "duration": 0.12372,
     "end_time": "2021-12-03T20:30:17.318850",
     "exception": false,
     "start_time": "2021-12-03T20:30:17.195130",
     "status": "completed"
    },
    "tags": []
   },
   "outputs": [],
   "source": [
    "Idents(se) <- \"name\""
   ]
  },
  {
   "cell_type": "code",
   "execution_count": 9,
   "id": "8f207cb1",
   "metadata": {
    "execution": {
     "iopub.execute_input": "2021-12-03T20:30:17.509973Z",
     "iopub.status.busy": "2021-12-03T20:30:17.506626Z",
     "iopub.status.idle": "2021-12-03T20:30:18.482272Z",
     "shell.execute_reply": "2021-12-03T20:30:18.483019Z"
    },
    "papermill": {
     "duration": 1.071246,
     "end_time": "2021-12-03T20:30:18.483259",
     "exception": false,
     "start_time": "2021-12-03T20:30:17.412013",
     "status": "completed"
    },
    "scrolled": true,
    "tags": []
   },
   "outputs": [
    {
     "name": "stderr",
     "output_type": "stream",
     "text": [
      "Saving 6.67 x 6.67 in image\n",
      "\n"
     ]
    },
    {
     "data": {
      "image/png": "[encoded data removed]",
      "text/plain": [
       "plot without title"
      ]
     },
     "metadata": {
      "image/png": {
       "height": 420,
       "width": 420
      }
     },
     "output_type": "display_data"
    }
   ],
   "source": [
    "p <- ggplot(data = large.clones, aes(index, cdf.norm)) +\n",
    "  geom_point(color = \"steelblue\", size = 1) +\n",
    "  facet_wrap(~ donor) \n",
    "\n",
    "p <- p + geom_hline(yintercept=cdf_thresh, color='green') \n",
    "p\n",
    "ggsave(file.path(outdir, \"large.clones.cdf.png\"))\n",
    "\n"
   ]
  },
  {
   "cell_type": "code",
   "execution_count": 10,
   "id": "c28a1ffa",
   "metadata": {
    "execution": {
     "iopub.execute_input": "2021-12-03T20:30:18.680200Z",
     "iopub.status.busy": "2021-12-03T20:30:18.676399Z",
     "iopub.status.idle": "2021-12-03T20:30:18.691789Z",
     "shell.execute_reply": "2021-12-03T20:30:18.690732Z"
    },
    "papermill": {
     "duration": 0.11421,
     "end_time": "2021-12-03T20:30:18.692020",
     "exception": false,
     "start_time": "2021-12-03T20:30:18.577810",
     "status": "completed"
    },
    "tags": []
   },
   "outputs": [],
   "source": [
    "## Get motif names\n",
    "\n",
    "# DefaultAssay(se) <- \"chromvar\"\n",
    "# chrom.var.names <- GetAssayData(se)\n",
    "# DefaultAssay(se) <- \"ATAC\"\n",
    "# motifs <- Motifs(se)\n",
    "# #Motifs(se)@motif.names\n",
    "\n",
    "# head(chrom.var.names)\n",
    "# row.names(chrom.var.names) <- sapply(row.names(chrom.var.names), function(x) {Motifs(se)@motif.names[[x]]})\n",
    "# head(chrom.var.names)\n",
    "\n",
    "\n"
   ]
  },
  {
   "cell_type": "markdown",
   "id": "5564da63",
   "metadata": {
    "papermill": {
     "duration": 0.079989,
     "end_time": "2021-12-03T20:30:18.858591",
     "exception": false,
     "start_time": "2021-12-03T20:30:18.778602",
     "status": "completed"
    },
    "tags": []
   },
   "source": [
    "## TF DE"
   ]
  },
  {
   "cell_type": "markdown",
   "id": "e7def62d",
   "metadata": {
    "papermill": {
     "duration": 0.083544,
     "end_time": "2021-12-03T20:30:19.025529",
     "exception": false,
     "start_time": "2021-12-03T20:30:18.941985",
     "status": "completed"
    },
    "tags": []
   },
   "source": [
    "## Summarize results"
   ]
  },
  {
   "cell_type": "code",
   "execution_count": 11,
   "id": "c7854307",
   "metadata": {
    "execution": {
     "iopub.execute_input": "2021-12-03T20:30:19.201472Z",
     "iopub.status.busy": "2021-12-03T20:30:19.197514Z",
     "iopub.status.idle": "2021-12-03T20:30:19.212974Z",
     "shell.execute_reply": "2021-12-03T20:30:19.211538Z"
    },
    "papermill": {
     "duration": 0.104897,
     "end_time": "2021-12-03T20:30:19.213205",
     "exception": false,
     "start_time": "2021-12-03T20:30:19.108308",
     "status": "completed"
    },
    "scrolled": true,
    "tags": []
   },
   "outputs": [],
   "source": [
    "# all.names.sig <- c()\n",
    "# DefaultAssay(se) <- \"chromvarnames\"\n",
    "# for (d in 0:(n_donors-1)){\n",
    "#     print('donor')\n",
    "#     print(d)\n",
    "#     curr.indir <- file.path(indir, paste0(\"donor\", d, \"_TF\"))\n",
    "#     #curr.outdir <- file.path(outdir, paste0(\"donor\", d, \"_TF\"))\n",
    "#     #dir.create(curr.outdir)\n",
    "#     donor.large.clones <- large.clones %>% filter(donor==d)\n",
    "#     clones.filt.ids <- sort(donor.large.clones$lineage)\n",
    "#     se.filt <- subset(se, subset = (donor==d) & (lineage %in% donor.large.clones$lineage))\n",
    "#     if (length(clones.filt.ids) < 2){\n",
    "#         print(\"0 or 1 clone found. not running\")\n",
    "#         next\n",
    "#     }\n",
    "#     pairs = combn(clones.filt.ids,2)\n",
    "#     names.sig <- c()\n",
    "\n",
    "#     for (i in 1:dim(pairs)[2]){\n",
    "#         print(pairs[,i])\n",
    "#         print(paste(\"comparison #\", i))\n",
    "#         a = pairs[1,i]\n",
    "#         b = pairs[2,i]\n",
    "#         curr.tf.da <- read.csv(file.path(curr.indir, \n",
    "#                                          paste0(\"clones_\",a,\"__\", b,\".DE.TF.csv\"))) %>% \n",
    "#                       arrange(p_val)\n",
    "#         row.names(curr.tf.da) <- curr.tf.da$X  #sapply(curr.tf.da$X, function(m) {motifs@motif.names[[m]]})\n",
    "#         names.sig <- c(names.sig, head(row.names(curr.tf.da), n_top_genes))\n",
    "#         all.names.sig <- c(all.names.sig, head(row.names(curr.tf.da), n_top_genes))\n",
    "#         }\n",
    "#     names.sig <- unique(names.sig)\n",
    "    \n",
    "#     gally <- GGally::ggpairs(curr.tf.da[,c(\"p_val\", \"p_val_adj\")], aes(alpha = 0.4))\n",
    "# }\n"
   ]
  },
  {
   "cell_type": "code",
   "execution_count": 12,
   "id": "78949989",
   "metadata": {
    "execution": {
     "iopub.execute_input": "2021-12-03T20:30:19.417910Z",
     "iopub.status.busy": "2021-12-03T20:30:19.414317Z",
     "iopub.status.idle": "2021-12-03T20:31:22.322128Z",
     "shell.execute_reply": "2021-12-03T20:31:22.320923Z"
    },
    "papermill": {
     "duration": 63.010193,
     "end_time": "2021-12-03T20:31:22.322430",
     "exception": false,
     "start_time": "2021-12-03T20:30:19.312237",
     "status": "completed"
    },
    "scrolled": true,
    "tags": []
   },
   "outputs": [
    {
     "name": "stdout",
     "output_type": "stream",
     "text": [
      "[1] \"donor\"\n",
      "[1] 0\n"
     ]
    },
    {
     "name": "stderr",
     "output_type": "stream",
     "text": [
      "Warning message in dir.create(curr.outdir):\n",
      "“'/data/Mito_Trace/output/pipeline/cd34norm/MTblacklist/data/merged/MT/cellr_True/numread_200/filters/minC10_minR50_topN0_hetT0.001_hetC10_hetCount5_bq20/mgatk/vireoIn/clones/variants_init/vireo/nclones20/annotation_clones/DE_large/minPct_0__logThresh_0/cdf_thresh__0.3/donor0_TF' already exists”\n"
     ]
    },
    {
     "name": "stdout",
     "output_type": "stream",
     "text": [
      "[1] 0 8\n",
      "[1] \"comparison # 1\"\n",
      "           X       p_val   avg_diff pct.1 pct.2 p_val_adj p_val_adj_BH\n",
      "1     NKX6-3 0.002731037  0.2777895 0.628 0.430         1    0.7856269\n",
      "2 RARA::RXRA 0.009106314 -0.2718858 0.434 0.518         1    0.7856269\n",
      "3      RREB1 0.009605585 -0.2316763 0.395 0.539         1    0.7856269\n",
      "4      BARX1 0.011570796  0.2801968 0.589 0.487         1    0.7856269\n",
      "5        YY1 0.013101645 -0.2300536 0.434 0.565         1    0.7856269\n",
      "6        JUN 0.013696965 -0.3312497 0.434 0.580         1    0.7856269\n"
     ]
    },
    {
     "name": "stderr",
     "output_type": "stream",
     "text": [
      "Registered S3 method overwritten by 'GGally':\n",
      "  method from   \n",
      "  +.gg   ggplot2\n",
      "\n"
     ]
    },
    {
     "name": "stderr",
     "output_type": "stream",
     "text": [
      "Saving 6.67 x 6.67 in image\n",
      "\n"
     ]
    },
    {
     "name": "stderr",
     "output_type": "stream",
     "text": [
      "Warning message in cor(x, y):\n",
      "“the standard deviation is zero”\n"
     ]
    },
    {
     "name": "stderr",
     "output_type": "stream",
     "text": [
      "Warning message in cor(x, y):\n",
      "“the standard deviation is zero”\n"
     ]
    },
    {
     "name": "stderr",
     "output_type": "stream",
     "text": [
      "Warning message:\n",
      "“`guides(<scale> = FALSE)` is deprecated. Please use `guides(<scale> = \"none\")` instead.”\n"
     ]
    },
    {
     "name": "stderr",
     "output_type": "stream",
     "text": [
      "Saving 6.67 x 6.67 in image\n",
      "\n"
     ]
    },
    {
     "name": "stdout",
     "output_type": "stream",
     "text": [
      "[1]  0 15\n",
      "[1] \"comparison # 2\"\n",
      "              X       p_val   avg_diff pct.1 pct.2 p_val_adj p_val_adj_BH\n",
      "1          NFYB 0.001297572 -0.3312051 0.411 0.555 0.8213629    0.8213629\n",
      "2         KLF16 0.003628902 -0.2103726 0.349 0.540 1.0000000    0.8221843\n",
      "3 SREBF2(var.2) 0.003896608 -0.3562309 0.395 0.620 1.0000000    0.8221843\n",
      "4         NR2C2 0.006517074 -0.2728687 0.442 0.584 1.0000000    0.9916857\n",
      "5         KLF15 0.012290777 -0.2172182 0.395 0.533 1.0000000    0.9916857\n",
      "6         HNF4A 0.016393807 -0.2368724 0.388 0.540 1.0000000    0.9916857\n"
     ]
    },
    {
     "name": "stderr",
     "output_type": "stream",
     "text": [
      "Saving 6.67 x 6.67 in image\n",
      "\n"
     ]
    },
    {
     "name": "stderr",
     "output_type": "stream",
     "text": [
      "Warning message:\n",
      "“`guides(<scale> = FALSE)` is deprecated. Please use `guides(<scale> = \"none\")` instead.”\n"
     ]
    },
    {
     "name": "stderr",
     "output_type": "stream",
     "text": [
      "Saving 6.67 x 6.67 in image\n",
      "\n"
     ]
    },
    {
     "name": "stdout",
     "output_type": "stream",
     "text": [
      "[1]  8 15\n",
      "[1] \"comparison # 3\"\n",
      "          X        p_val   avg_diff pct.1 pct.2 p_val_adj p_val_adj_BH\n",
      "1     BATF3 0.0004186062  0.7166495 0.420 0.285 0.2649778    0.1263972\n",
      "2      BATF 0.0005191220  0.7519254 0.389 0.270 0.3286042    0.1263972\n",
      "3 BATF::JUN 0.0005990388  0.7565707 0.394 0.277 0.3791916    0.1263972\n",
      "4    NKX6-3 0.0010517190 -0.3122707 0.430 0.599 0.6657381    0.1664345\n",
      "5     FOSL1 0.0022070328  0.7236281 0.415 0.270 1.0000000    0.1817460\n",
      "6     FOSL2 0.0024707476  0.8543804 0.394 0.270 1.0000000    0.1817460\n"
     ]
    },
    {
     "name": "stderr",
     "output_type": "stream",
     "text": [
      "Saving 6.67 x 6.67 in image\n",
      "\n"
     ]
    },
    {
     "name": "stderr",
     "output_type": "stream",
     "text": [
      "Warning message:\n",
      "“`guides(<scale> = FALSE)` is deprecated. Please use `guides(<scale> = \"none\")` instead.”\n"
     ]
    },
    {
     "name": "stderr",
     "output_type": "stream",
     "text": [
      "Saving 6.67 x 6.67 in image\n",
      "\n"
     ]
    },
    {
     "name": "stderr",
     "output_type": "stream",
     "text": [
      "'magick' package is suggested to install to give better rasterization.\n",
      "\n",
      "Set `ht_opt$message = FALSE` to turn off this message.\n",
      "\n"
     ]
    },
    {
     "name": "stderr",
     "output_type": "stream",
     "text": [
      "Saving 6.67 x 6.67 in image\n",
      "\n"
     ]
    },
    {
     "name": "stderr",
     "output_type": "stream",
     "text": [
      "Saving 6.67 x 6.67 in image\n",
      "\n"
     ]
    },
    {
     "name": "stderr",
     "output_type": "stream",
     "text": [
      "Saving 6.67 x 6.67 in image\n",
      "\n"
     ]
    },
    {
     "name": "stdout",
     "output_type": "stream",
     "text": [
      "[1] \"donor\"\n",
      "[1] 1\n"
     ]
    },
    {
     "name": "stderr",
     "output_type": "stream",
     "text": [
      "Warning message in dir.create(curr.outdir):\n",
      "“'/data/Mito_Trace/output/pipeline/cd34norm/MTblacklist/data/merged/MT/cellr_True/numread_200/filters/minC10_minR50_topN0_hetT0.001_hetC10_hetCount5_bq20/mgatk/vireoIn/clones/variants_init/vireo/nclones20/annotation_clones/DE_large/minPct_0__logThresh_0/cdf_thresh__0.3/donor1_TF' already exists”\n"
     ]
    },
    {
     "name": "stdout",
     "output_type": "stream",
     "text": [
      "[1]  4 13\n",
      "[1] \"comparison # 1\"\n",
      "       X      p_val   avg_diff pct.1 pct.2 p_val_adj p_val_adj_BH\n",
      "1  ARGFX 0.02047126 -0.2403765 0.430 0.517         1    0.9978384\n",
      "2   SOX4 0.02250781 -0.1771229 0.409 0.468         1    0.9978384\n",
      "3  HIF1A 0.02288697 -0.1958708 0.430 0.527         1    0.9978384\n",
      "4 TFAP2B 0.03108329  0.1493525 0.503 0.419         1    0.9978384\n",
      "5   OTX1 0.03703804 -0.2005159 0.476 0.532         1    0.9978384\n",
      "6   CDX2 0.03996904  0.1224985 0.518 0.448         1    0.9978384\n"
     ]
    },
    {
     "name": "stderr",
     "output_type": "stream",
     "text": [
      "Saving 6.67 x 6.67 in image\n",
      "\n"
     ]
    },
    {
     "name": "stderr",
     "output_type": "stream",
     "text": [
      "Warning message in cor(x, y):\n",
      "“the standard deviation is zero”\n"
     ]
    },
    {
     "name": "stderr",
     "output_type": "stream",
     "text": [
      "Warning message in cor(x, y):\n",
      "“the standard deviation is zero”\n"
     ]
    },
    {
     "name": "stderr",
     "output_type": "stream",
     "text": [
      "Warning message:\n",
      "“`guides(<scale> = FALSE)` is deprecated. Please use `guides(<scale> = \"none\")` instead.”\n"
     ]
    },
    {
     "name": "stderr",
     "output_type": "stream",
     "text": [
      "Saving 6.67 x 6.67 in image\n",
      "\n"
     ]
    },
    {
     "name": "stderr",
     "output_type": "stream",
     "text": [
      "'magick' package is suggested to install to give better rasterization.\n",
      "\n",
      "Set `ht_opt$message = FALSE` to turn off this message.\n",
      "\n"
     ]
    },
    {
     "name": "stderr",
     "output_type": "stream",
     "text": [
      "Saving 6.67 x 6.67 in image\n",
      "\n"
     ]
    },
    {
     "name": "stderr",
     "output_type": "stream",
     "text": [
      "Saving 6.67 x 6.67 in image\n",
      "\n"
     ]
    },
    {
     "name": "stderr",
     "output_type": "stream",
     "text": [
      "Saving 6.67 x 6.67 in image\n",
      "\n"
     ]
    },
    {
     "name": "stdout",
     "output_type": "stream",
     "text": [
      "[1] \"donor\"\n",
      "[1] 2\n"
     ]
    },
    {
     "name": "stderr",
     "output_type": "stream",
     "text": [
      "Warning message in dir.create(curr.outdir):\n",
      "“'/data/Mito_Trace/output/pipeline/cd34norm/MTblacklist/data/merged/MT/cellr_True/numread_200/filters/minC10_minR50_topN0_hetT0.001_hetC10_hetCount5_bq20/mgatk/vireoIn/clones/variants_init/vireo/nclones20/annotation_clones/DE_large/minPct_0__logThresh_0/cdf_thresh__0.3/donor2_TF' already exists”\n"
     ]
    },
    {
     "name": "stdout",
     "output_type": "stream",
     "text": [
      "[1] 4 5\n",
      "[1] \"comparison # 1\"\n",
      "       X        p_val   avg_diff pct.1 pct.2 p_val_adj p_val_adj_BH\n",
      "1 ZBTB14 0.0004981242 -0.4585816 0.477 0.641 0.3153126    0.3153126\n",
      "2 MLXIPL 0.0016914015 -0.3720222 0.455 0.588 1.0000000    0.4850562\n",
      "3 ZNF410 0.0026408350 -0.3951396 0.402 0.534 1.0000000    0.4850562\n",
      "4   SPIB 0.0036584978  0.3954699 0.189 0.145 1.0000000    0.4850562\n",
      "5   SPI1 0.0040560181  0.4246676 0.235 0.122 1.0000000    0.4850562\n",
      "6    MLX 0.0047022452 -0.3351496 0.470 0.618 1.0000000    0.4850562\n"
     ]
    },
    {
     "name": "stderr",
     "output_type": "stream",
     "text": [
      "Saving 6.67 x 6.67 in image\n",
      "\n"
     ]
    },
    {
     "name": "stderr",
     "output_type": "stream",
     "text": [
      "Warning message:\n",
      "“`guides(<scale> = FALSE)` is deprecated. Please use `guides(<scale> = \"none\")` instead.”\n"
     ]
    },
    {
     "name": "stderr",
     "output_type": "stream",
     "text": [
      "Saving 6.67 x 6.67 in image\n",
      "\n"
     ]
    },
    {
     "name": "stdout",
     "output_type": "stream",
     "text": [
      "[1] 4 9\n",
      "[1] \"comparison # 2\"\n",
      "            X       p_val   avg_diff pct.1 pct.2 p_val_adj p_val_adj_BH\n",
      "1        NFYC 0.003487949 -0.3731992 0.523 0.677         1    0.4311939\n",
      "2        IRF6 0.003603101 -0.3875121 0.386 0.532         1    0.4311939\n",
      "3        HES5 0.005392429  0.3143682 0.508 0.315         1    0.4311939\n",
      "4 RORA(var.2) 0.006492699 -0.2869924 0.409 0.597         1    0.4311939\n",
      "5        RORC 0.006525957 -0.3364789 0.379 0.532         1    0.4311939\n",
      "6      POU1F1 0.009738061 -0.3453429 0.462 0.589         1    0.4311939\n"
     ]
    },
    {
     "name": "stderr",
     "output_type": "stream",
     "text": [
      "Saving 6.67 x 6.67 in image\n",
      "\n"
     ]
    },
    {
     "name": "stderr",
     "output_type": "stream",
     "text": [
      "Warning message in cor(x, y):\n",
      "“the standard deviation is zero”\n"
     ]
    },
    {
     "name": "stderr",
     "output_type": "stream",
     "text": [
      "Warning message in cor(x, y):\n",
      "“the standard deviation is zero”\n"
     ]
    },
    {
     "name": "stderr",
     "output_type": "stream",
     "text": [
      "Warning message:\n",
      "“`guides(<scale> = FALSE)` is deprecated. Please use `guides(<scale> = \"none\")` instead.”\n"
     ]
    },
    {
     "name": "stderr",
     "output_type": "stream",
     "text": [
      "Saving 6.67 x 6.67 in image\n",
      "\n"
     ]
    },
    {
     "name": "stdout",
     "output_type": "stream",
     "text": [
      "[1] 5 9\n",
      "[1] \"comparison # 3\"\n",
      "       X       p_val   avg_diff pct.1 pct.2 p_val_adj p_val_adj_BH\n",
      "1   OTX2 0.001336382  0.3967455 0.603 0.492   0.84593    0.8459300\n",
      "2   HEY2 0.003974288  0.3750360 0.504 0.371   1.00000    0.9461125\n",
      "3  ATOH7 0.006551603 -0.3762767 0.458 0.613   1.00000    0.9461125\n",
      "4 ZNF282 0.006931238 -0.2760212 0.405 0.605   1.00000    0.9461125\n",
      "5   TFEC 0.009187393  0.3017857 0.550 0.435   1.00000    0.9461125\n",
      "6  PPARG 0.012550259 -0.2889481 0.427 0.556   1.00000    0.9461125\n"
     ]
    },
    {
     "name": "stderr",
     "output_type": "stream",
     "text": [
      "Saving 6.67 x 6.67 in image\n",
      "\n"
     ]
    },
    {
     "name": "stderr",
     "output_type": "stream",
     "text": [
      "Warning message:\n",
      "“`guides(<scale> = FALSE)` is deprecated. Please use `guides(<scale> = \"none\")` instead.”\n"
     ]
    },
    {
     "name": "stderr",
     "output_type": "stream",
     "text": [
      "Saving 6.67 x 6.67 in image\n",
      "\n"
     ]
    },
    {
     "name": "stderr",
     "output_type": "stream",
     "text": [
      "'magick' package is suggested to install to give better rasterization.\n",
      "\n",
      "Set `ht_opt$message = FALSE` to turn off this message.\n",
      "\n"
     ]
    },
    {
     "name": "stderr",
     "output_type": "stream",
     "text": [
      "Saving 6.67 x 6.67 in image\n",
      "\n"
     ]
    },
    {
     "name": "stderr",
     "output_type": "stream",
     "text": [
      "Saving 6.67 x 6.67 in image\n",
      "\n"
     ]
    },
    {
     "name": "stderr",
     "output_type": "stream",
     "text": [
      "Saving 6.67 x 6.67 in image\n",
      "\n"
     ]
    },
    {
     "name": "stdout",
     "output_type": "stream",
     "text": [
      "[1] \"donor\"\n",
      "[1] 3\n"
     ]
    },
    {
     "name": "stderr",
     "output_type": "stream",
     "text": [
      "Warning message in dir.create(curr.outdir):\n",
      "“'/data/Mito_Trace/output/pipeline/cd34norm/MTblacklist/data/merged/MT/cellr_True/numread_200/filters/minC10_minR50_topN0_hetT0.001_hetC10_hetCount5_bq20/mgatk/vireoIn/clones/variants_init/vireo/nclones20/annotation_clones/DE_large/minPct_0__logThresh_0/cdf_thresh__0.3/donor3_TF' already exists”\n"
     ]
    },
    {
     "name": "stdout",
     "output_type": "stream",
     "text": [
      "[1]  8 12\n",
      "[1] \"comparison # 1\"\n",
      "           X        p_val avg_diff pct.1 pct.2   p_val_adj p_val_adj_BH\n",
      "1  FOS::JUND 1.843653e-06 1.279360 0.591 0.359 0.001167032  0.000520721\n",
      "2      BATF3 2.215801e-06 1.164437 0.600 0.325 0.001402602  0.000520721\n",
      "3       BATF 3.279981e-06 1.182890 0.609 0.325 0.002076228  0.000520721\n",
      "4  BATF::JUN 4.232303e-06 1.174589 0.600 0.342 0.002679048  0.000520721\n",
      "5 FOSL1::JUN 5.008784e-06 1.228944 0.626 0.368 0.003170560  0.000520721\n",
      "6      FOSL2 5.652552e-06 1.284641 0.609 0.333 0.003578065  0.000520721\n"
     ]
    },
    {
     "name": "stderr",
     "output_type": "stream",
     "text": [
      "Saving 6.67 x 6.67 in image\n",
      "\n"
     ]
    },
    {
     "name": "stderr",
     "output_type": "stream",
     "text": [
      "Warning message:\n",
      "“`guides(<scale> = FALSE)` is deprecated. Please use `guides(<scale> = \"none\")` instead.”\n"
     ]
    },
    {
     "name": "stderr",
     "output_type": "stream",
     "text": [
      "Saving 6.67 x 6.67 in image\n",
      "\n"
     ]
    },
    {
     "name": "stdout",
     "output_type": "stream",
     "text": [
      "[1]  8 15\n",
      "[1] \"comparison # 2\"\n",
      "      X       p_val  avg_diff pct.1 pct.2 p_val_adj p_val_adj_BH\n",
      "1   REL 0.001960161 0.3686916 0.522 0.363         1    0.4380775\n",
      "2 KLF10 0.003044047 0.2498808 0.530 0.363         1    0.4380775\n",
      "3  PDX1 0.004569338 0.3729713 0.574 0.419         1    0.4380775\n",
      "4  EMX1 0.004569338 0.3729713 0.574 0.419         1    0.4380775\n",
      "5 HOXB2 0.004569338 0.3729713 0.574 0.419         1    0.4380775\n",
      "6 HOXD3 0.004569338 0.3729713 0.574 0.419         1    0.4380775\n"
     ]
    },
    {
     "name": "stderr",
     "output_type": "stream",
     "text": [
      "Saving 6.67 x 6.67 in image\n",
      "\n"
     ]
    },
    {
     "name": "stderr",
     "output_type": "stream",
     "text": [
      "Warning message in cor(x, y):\n",
      "“the standard deviation is zero”\n"
     ]
    },
    {
     "name": "stderr",
     "output_type": "stream",
     "text": [
      "Warning message in cor(x, y):\n",
      "“the standard deviation is zero”\n"
     ]
    },
    {
     "name": "stderr",
     "output_type": "stream",
     "text": [
      "Warning message:\n",
      "“`guides(<scale> = FALSE)` is deprecated. Please use `guides(<scale> = \"none\")` instead.”\n"
     ]
    },
    {
     "name": "stderr",
     "output_type": "stream",
     "text": [
      "Saving 6.67 x 6.67 in image\n",
      "\n"
     ]
    },
    {
     "name": "stdout",
     "output_type": "stream",
     "text": [
      "[1] 12 15\n",
      "[1] \"comparison # 3\"\n",
      "          X        p_val   avg_diff pct.1 pct.2   p_val_adj p_val_adj_BH\n",
      "1     BATF3 1.193487e-05 -0.9421304 0.325 0.581 0.007554772  0.007554772\n",
      "2      BATF 3.047801e-05 -0.9063026 0.325 0.565 0.019292579  0.008256567\n",
      "3 BATF::JUN 3.913065e-05 -0.8929631 0.342 0.565 0.024769701  0.008256567\n",
      "4      JDP2 6.002286e-05 -0.7814122 0.342 0.565 0.037994470  0.009498617\n",
      "5     FOSL2 8.190013e-05 -0.9979700 0.333 0.540 0.051842785  0.009599394\n",
      "6 JUN::JUNB 9.995415e-05 -0.7694307 0.376 0.589 0.063270979  0.009599394\n"
     ]
    },
    {
     "name": "stderr",
     "output_type": "stream",
     "text": [
      "Saving 6.67 x 6.67 in image\n",
      "\n"
     ]
    },
    {
     "name": "stderr",
     "output_type": "stream",
     "text": [
      "Warning message:\n",
      "“`guides(<scale> = FALSE)` is deprecated. Please use `guides(<scale> = \"none\")` instead.”\n"
     ]
    },
    {
     "name": "stderr",
     "output_type": "stream",
     "text": [
      "Saving 6.67 x 6.67 in image\n",
      "\n"
     ]
    },
    {
     "name": "stderr",
     "output_type": "stream",
     "text": [
      "'magick' package is suggested to install to give better rasterization.\n",
      "\n",
      "Set `ht_opt$message = FALSE` to turn off this message.\n",
      "\n"
     ]
    },
    {
     "name": "stderr",
     "output_type": "stream",
     "text": [
      "Saving 6.67 x 6.67 in image\n",
      "\n"
     ]
    },
    {
     "name": "stderr",
     "output_type": "stream",
     "text": [
      "Saving 6.67 x 6.67 in image\n",
      "\n"
     ]
    },
    {
     "name": "stderr",
     "output_type": "stream",
     "text": [
      "Saving 6.67 x 6.67 in image\n",
      "\n"
     ]
    }
   ],
   "source": [
    "all.names.sig <- c()\n",
    "DefaultAssay(se) <- \"chromvarnames\"\n",
    "for (d in 0:(n_donors-1)){\n",
    "    print('donor')\n",
    "    print(d)\n",
    "    curr.indir <- file.path(indir, paste0(\"donor\", d, \"_TF\"))\n",
    "    curr.outdir <- file.path(outdir, paste0(\"donor\", d, \"_TF\"))\n",
    "    dir.create(curr.outdir)\n",
    "    donor.large.clones <- large.clones %>% filter(donor==d)\n",
    "    if (dim(donor.large.clones)[1] < 2){\n",
    "        print('no donor')\n",
    "        next\n",
    "    }\n",
    "    clones.filt.ids <- sort(donor.large.clones$lineage)\n",
    "    se.filt <- subset(se, subset = (donor==d) & (lineage %in% donor.large.clones$lineage))\n",
    "    if (length(clones.filt.ids) < 2){\n",
    "        print(\"0 or 1 clone found. not running\")\n",
    "        next\n",
    "    }\n",
    "    pairs = combn(clones.filt.ids,2)\n",
    "    names.sig <- c()\n",
    "\n",
    "    for (i in 1:dim(pairs)[2]){\n",
    "        print(pairs[,i])\n",
    "        print(paste(\"comparison #\", i))\n",
    "        a = pairs[1,i]\n",
    "        b = pairs[2,i]\n",
    "        curr.tf.da <- read.csv(file.path(curr.indir, \n",
    "                                         paste0(\"clones_\",a,\"__\", b,\".DE.TF.csv\"))) %>% \n",
    "                      arrange(p_val)\n",
    "        print(head(curr.tf.da))\n",
    "        row.names(curr.tf.da) <- curr.tf.da$X  #sapply(curr.tf.da$X, function(m) {motifs@motif.names[[m]]})\n",
    "        #curr.tf.da\n",
    "        names.sig <- c(names.sig, head(row.names(curr.tf.da), n_top_genes))\n",
    "        all.names.sig <- c(all.names.sig, head(row.names(curr.tf.da), n_top_genes))\n",
    "        gally <- GGally::ggpairs(curr.tf.da[,c(\"p_val\", \"p_val_adj\", \"avg_diff\")], aes(alpha = 0.4))\n",
    "        ggsave(plot=gally, \n",
    "                   file=file.path(curr.outdir, paste0(\"clones_\",a,\"__\", b,\".DE.TF.pvalHist.top.png\")))\n",
    "        DefaultAssay(se.filt) <- \"ATAC\"\n",
    "        raw.ids <- names(Motifs(se.filt)@motif.names)\n",
    "        rownames(curr.tf.da) <- sapply((curr.tf.da$X), function(x){raw.ids[match(x, Motifs(se.filt)@motif.names)]})\n",
    "        m <- MotifPlot(\n",
    "          object = se.filt,\n",
    "          motifs = head(rownames(curr.tf.da)),\n",
    "          assay = 'ATAC'\n",
    "        )\n",
    "        ggsave(plot=m, \n",
    "                   file=file.path(curr.outdir, paste0(\"clones_\",a,\"__\", b,\".DE.TF.motif.top.png\")))\n",
    "\n",
    "\n",
    "        }\n",
    "    DefaultAssay(se.filt) <- \"chromvarnames\"\n",
    "    names.sig <- unique(names.sig)\n",
    "    \n",
    "\n",
    "    feat <- FeaturePlot(se.filt,  features=names.sig)\n",
    "\n",
    "    vln <- VlnPlot(se.filt,  features=names.sig, pt.size = 0)\n",
    "\n",
    "    dot <- DotPlot(se.filt, features = names.sig) + RotatedAxis()\n",
    "\n",
    "    # split by a vector\n",
    "    pdf((file.path(curr.outdir, \"heatmap.top.pdf\")), width=8,height=8)\n",
    "    \n",
    "    heat <- ComplexHeatmap::Heatmap(GetAssayData(se.filt)[names.sig,], \n",
    "            name = paste0(\"donor\",d),\n",
    "            column_split = se.filt[[]][\"lineage\"],\n",
    "            show_column_names = FALSE, use_raster=TRUE\n",
    "           )\n",
    "    ComplexHeatmap::draw(heat)\n",
    "    dev.off()\n",
    "    \n",
    "    ggsave(plot=feat, \n",
    "           file=file.path(curr.outdir, (\"embedFeat.top.png\")))\n",
    "    ggsave(plot=dot, \n",
    "           file=file.path(curr.outdir, (\"dot.top.png\")))\n",
    "    ggsave(plot=vln, \n",
    "           file=file.path(curr.outdir, (\"violin.top.png\")))\n",
    "    }\n",
    "all.names.sig <- unique(all.names.sig)"
   ]
  },
  {
   "cell_type": "markdown",
   "id": "0bb45042",
   "metadata": {
    "papermill": {
     "duration": 0.195175,
     "end_time": "2021-12-03T20:31:22.671849",
     "exception": false,
     "start_time": "2021-12-03T20:31:22.476674",
     "status": "completed"
    },
    "tags": []
   },
   "source": [
    "## Dotplot for all donors"
   ]
  },
  {
   "cell_type": "code",
   "execution_count": 13,
   "id": "4219fb55",
   "metadata": {
    "execution": {
     "iopub.execute_input": "2021-12-03T20:31:23.007732Z",
     "iopub.status.busy": "2021-12-03T20:31:23.005003Z",
     "iopub.status.idle": "2021-12-03T20:31:23.281535Z",
     "shell.execute_reply": "2021-12-03T20:31:23.282459Z"
    },
    "papermill": {
     "duration": 0.459952,
     "end_time": "2021-12-03T20:31:23.282744",
     "exception": false,
     "start_time": "2021-12-03T20:31:22.822792",
     "status": "completed"
    },
    "tags": []
   },
   "outputs": [
    {
     "data": {
      "text/html": [
       "<strong>png:</strong> 2"
      ],
      "text/latex": [
       "\\textbf{png:} 2"
      ],
      "text/markdown": [
       "**png:** 2"
      ],
      "text/plain": [
       "png \n",
       "  2 "
      ]
     },
     "metadata": {},
     "output_type": "display_data"
    }
   ],
   "source": [
    "pdf(file = file.path(outdir, \"./dotplot.allDonors.top.pdf\"), width = 8, height = 8)\n",
    "dot <- DotPlot(se, features = all.names.sig, group.by=\"donor\") + RotatedAxis()\n",
    "dot\n",
    "dev.off()"
   ]
  },
  {
   "cell_type": "code",
   "execution_count": 14,
   "id": "337318ad",
   "metadata": {
    "execution": {
     "iopub.execute_input": "2021-12-03T20:31:23.553335Z",
     "iopub.status.busy": "2021-12-03T20:31:23.550617Z",
     "iopub.status.idle": "2021-12-03T20:31:23.866008Z",
     "shell.execute_reply": "2021-12-03T20:31:23.866953Z"
    },
    "papermill": {
     "duration": 0.451261,
     "end_time": "2021-12-03T20:31:23.867249",
     "exception": false,
     "start_time": "2021-12-03T20:31:23.415988",
     "status": "completed"
    },
    "tags": []
   },
   "outputs": [
    {
     "data": {
      "text/html": [
       "<strong>png:</strong> 2"
      ],
      "text/latex": [
       "\\textbf{png:} 2"
      ],
      "text/markdown": [
       "**png:** 2"
      ],
      "text/plain": [
       "png \n",
       "  2 "
      ]
     },
     "metadata": {},
     "output_type": "display_data"
    }
   ],
   "source": [
    "pdf(file = file.path(outdir, \"./dotplot.allDonors.clones.top.pdf\"), width = 8, height = 8)\n",
    "dot <- DotPlot(se, features = all.names.sig, group.by=\"name\", cluster.idents=T) + RotatedAxis()\n",
    "dot\n",
    "dev.off()"
   ]
  },
  {
   "cell_type": "markdown",
   "id": "b78aba1f",
   "metadata": {
    "papermill": {
     "duration": 0.130831,
     "end_time": "2021-12-03T20:31:24.131379",
     "exception": false,
     "start_time": "2021-12-03T20:31:24.000548",
     "status": "completed"
    },
    "tags": []
   },
   "source": [
    "## Heatmap for all donors"
   ]
  },
  {
   "cell_type": "code",
   "execution_count": 15,
   "id": "ca052607",
   "metadata": {
    "execution": {
     "iopub.execute_input": "2021-12-03T20:31:24.404203Z",
     "iopub.status.busy": "2021-12-03T20:31:24.401410Z",
     "iopub.status.idle": "2021-12-03T20:31:26.891739Z",
     "shell.execute_reply": "2021-12-03T20:31:26.892667Z"
    },
    "papermill": {
     "duration": 2.629113,
     "end_time": "2021-12-03T20:31:26.892943",
     "exception": false,
     "start_time": "2021-12-03T20:31:24.263830",
     "status": "completed"
    },
    "scrolled": false,
    "tags": []
   },
   "outputs": [
    {
     "data": {
      "text/html": [
       "<strong>png:</strong> 2"
      ],
      "text/latex": [
       "\\textbf{png:} 2"
      ],
      "text/markdown": [
       "**png:** 2"
      ],
      "text/plain": [
       "png \n",
       "  2 "
      ]
     },
     "metadata": {},
     "output_type": "display_data"
    }
   ],
   "source": [
    "pdf((file.path(outdir, \"heatmap.allDonors.top.pdf\")), width=8,height=8)\n",
    "heat <- ComplexHeatmap::Heatmap(GetAssayData(se)[names.sig,], \n",
    "        top_annotation = HeatmapAnnotation(donor=as.character(se$donor)),\n",
    "        show_column_names = FALSE, \n",
    "        column_split = se[[\"name\"]],\n",
    "       )\n",
    "\n",
    "ComplexHeatmap::draw(heat)\n",
    "dev.off()"
   ]
  },
  {
   "cell_type": "code",
   "execution_count": 16,
   "id": "ffb06010",
   "metadata": {
    "execution": {
     "iopub.execute_input": "2021-12-03T20:31:27.204158Z",
     "iopub.status.busy": "2021-12-03T20:31:27.201443Z",
     "iopub.status.idle": "2021-12-03T20:31:27.214865Z",
     "shell.execute_reply": "2021-12-03T20:31:27.213511Z"
    },
    "papermill": {
     "duration": 0.157896,
     "end_time": "2021-12-03T20:31:27.215061",
     "exception": false,
     "start_time": "2021-12-03T20:31:27.057165",
     "status": "completed"
    },
    "scrolled": false,
    "tags": []
   },
   "outputs": [],
   "source": [
    "# pdf((file.path(outdir, \"heatmap.allDonors.anno.top.pdf\")), width=8,height=8)\n",
    "# heat <- ComplexHeatmap::Heatmap(GetAssayData(se)[all.names.sig,], \n",
    "#         top_annotation = HeatmapAnnotation(donor=as.character(se$donor), clone=as.character(se$lineage), \n",
    "#                                            depth=anno_barplot(log10(se$peak_region_fragments))),\n",
    "#         show_column_names = FALSE\n",
    "#        )\n",
    "\n",
    "# ComplexHeatmap::draw(heat)\n",
    "# dev.off()"
   ]
  },
  {
   "cell_type": "code",
   "execution_count": 17,
   "id": "a8b61392",
   "metadata": {
    "execution": {
     "iopub.execute_input": "2021-12-03T20:31:27.502911Z",
     "iopub.status.busy": "2021-12-03T20:31:27.500235Z",
     "iopub.status.idle": "2021-12-03T20:31:30.049621Z",
     "shell.execute_reply": "2021-12-03T20:31:30.050457Z"
    },
    "papermill": {
     "duration": 2.694903,
     "end_time": "2021-12-03T20:31:30.050778",
     "exception": false,
     "start_time": "2021-12-03T20:31:27.355875",
     "status": "completed"
    },
    "tags": []
   },
   "outputs": [
    {
     "data": {
      "text/html": [
       "<strong>png:</strong> 2"
      ],
      "text/latex": [
       "\\textbf{png:} 2"
      ],
      "text/markdown": [
       "**png:** 2"
      ],
      "text/plain": [
       "png \n",
       "  2 "
      ]
     },
     "metadata": {},
     "output_type": "display_data"
    }
   ],
   "source": [
    "pdf((file.path(outdir, \"heatmap.allDonors.split.top.pdf\")), width=8,height=8)\n",
    "heat <- ComplexHeatmap::Heatmap(GetAssayData(se)[all.names.sig,], \n",
    "        top_annotation = HeatmapAnnotation(donor=as.character(se$donor)),\n",
    "        show_column_names = FALSE, \n",
    "        column_split = se[[\"name\"]],\n",
    "       )\n",
    "\n",
    "ComplexHeatmap::draw(heat)\n",
    "dev.off()"
   ]
  },
  {
   "cell_type": "code",
   "execution_count": null,
   "id": "cdc2fbd4",
   "metadata": {
    "papermill": {
     "duration": 0.143272,
     "end_time": "2021-12-03T20:31:30.338104",
     "exception": false,
     "start_time": "2021-12-03T20:31:30.194832",
     "status": "completed"
    },
    "tags": []
   },
   "outputs": [],
   "source": []
  },
  {
   "cell_type": "code",
   "execution_count": null,
   "id": "2d955085",
   "metadata": {
    "papermill": {
     "duration": 0.147676,
     "end_time": "2021-12-03T20:31:30.629645",
     "exception": false,
     "start_time": "2021-12-03T20:31:30.481969",
     "status": "completed"
    },
    "tags": []
   },
   "outputs": [],
   "source": []
  }
 ],
 "metadata": {
  "celltoolbar": "Tags",
  "kernelspec": {
   "display_name": "R",
   "language": "R",
   "name": "ir"
  },
  "language_info": {
   "codemirror_mode": "r",
   "file_extension": ".r",
   "mimetype": "text/x-r-source",
   "name": "R",
   "pygments_lexer": "r",
   "version": "4.1.1"
  },
  "papermill": {
   "default_parameters": {},
   "duration": 113.779475,
   "end_time": "2021-12-03T20:31:31.189156",
   "environment_variables": {},
   "exception": null,
   "input_path": "/mnt/md0/isshamie/Projects/Mito_Trace/R_scripts/annotation_clones/DE_clones.TF.summaryPlot.ipynb",
   "output_path": "/data/Mito_Trace/output/pipeline/cd34norm/MTblacklist/data/merged/MT/cellr_True/numread_200/filters/minC10_minR50_topN0_hetT0.001_hetC10_hetCount5_bq20/mgatk/vireoIn/clones/variants_init/vireo/nclones20/annotation_clones/DE_large/minPct_0__logThresh_0/cdf_thresh__0.3/output_Summary.ipynb",
   "parameters": {
    "cdf_thresh": 0.3,
    "indir": "/data/Mito_Trace/output/pipeline/cd34norm/MTblacklist/data/merged/MT/cellr_True/numread_200/filters/minC10_minR50_topN0_hetT0.001_hetC10_hetCount5_bq20/mgatk/vireoIn/clones/variants_init/vireo/nclones20/annotation_clones/DE_large/minPct_0__logThresh_0",
    "n_donors": 4,
    "se_indir": "/data/Mito_Trace/output/pipeline/cd34norm/MTblacklist/data/merged/MT/cellr_True/numread_200/filters/minC10_minR50_topN0_hetT0.001_hetC10_hetCount5_bq20/mgatk/vireoIn/clones/variants_init/vireo/nclones20/annotation_clones/DE_large"
   },
   "start_time": "2021-12-03T20:29:37.409681",
   "version": "2.3.3"
  }
 },
 "nbformat": 4,
 "nbformat_minor": 5
}