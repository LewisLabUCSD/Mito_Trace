{
 "cells": [
  {
   "cell_type": "code",
   "execution_count": 1,
   "id": "4246cc89",
   "metadata": {
    "execution": {
     "iopub.execute_input": "2021-12-03T20:03:40.637518Z",
     "iopub.status.busy": "2021-12-03T20:03:40.633976Z",
     "iopub.status.idle": "2021-12-03T20:03:40.688084Z",
     "shell.execute_reply": "2021-12-03T20:03:40.686654Z"
    },
    "papermill": {
     "duration": 0.217897,
     "end_time": "2021-12-03T20:03:40.688374",
     "exception": false,
     "start_time": "2021-12-03T20:03:40.470477",
     "status": "completed"
    },
    "tags": [
     "parameters"
    ]
   },
   "outputs": [],
   "source": [
    "# se_f = \"~/data/Projects/Mito_Trace/output/pipeline/cd34norm/MTblacklist/data/merged/MT/cellr_True/numread_200/filters/minC10_minR50_topN0_hetT0.001_hetC10_hetCount5_bq20/mgatk/vireoIn/clones/variants_mgatkdonor/vireo/nclones20/enrichment/annotation_clones/SE.rds\"\n",
    "# outdir = \"~/data/Projects/Mito_Trace/output/pipeline/cd34norm/MTblacklist/data/merged/MT/cellr_True/numread_200/filters/minC10_minR50_topN0_hetT0.001_hetC10_hetCount5_bq20/mgatk/vireoIn/clones/variants_mgatkdonor/vireo/nclones20/enrichment/annotation_clones/DE_large\"\n",
    "# n_donors = 4\n",
    "\n",
    "se_f = \"/home/isshamie/data/Projects/Mito_Trace/output/pipeline/CHIP_nameFix_april08_2021/MTblacklist/data/merged/MT/cellr_True/numread_200/filters/minC10_minR50_topN0_hetT0.001_hetC10_hetCount5_bq20/mgatk/vireoIn/clones/variants_mgatkdonor/vireo/nclones20/annotation_clones/SE.rds\"\n",
    "outdir = \"/home/isshamie/data/Projects/Mito_Trace/output/pipeline/CHIP_nameFix_april08_2021/MTblacklist/data/merged/MT/cellr_True/numread_200/filters/minC10_minR50_topN0_hetT0.001_hetC10_hetCount5_bq20/mgatk/vireoIn/clones/variants_mgatkdonor/vireo/nclones20/annotation_clones/DE_large\"\n",
    "n_donors = 5\n",
    "\n",
    "\n",
    "\n",
    "# If more than 2 clones pass the cdf_thresh, use that, o.w use n_top_clones\n",
    "cdf_thresh = 0.5\n",
    "n_top_clones = 3\n",
    "\n",
    "min_pct = 0.01\n",
    "use_latent_vars = FALSE\n",
    "genome = \"/data/Mito_Trace/data/external/GRCh38_MT_blacklist/fasta/genome.fa\"\n",
    "cores=16\n",
    "utils_script <- \"/data/Mito_Trace/R_scripts/seurat_utils.R\""
   ]
  },
  {
   "cell_type": "code",
   "execution_count": 2,
   "id": "da9d2738",
   "metadata": {
    "execution": {
     "iopub.execute_input": "2021-12-03T20:03:40.872511Z",
     "iopub.status.busy": "2021-12-03T20:03:40.828303Z",
     "iopub.status.idle": "2021-12-03T20:03:40.889940Z",
     "shell.execute_reply": "2021-12-03T20:03:40.888598Z"
    },
    "papermill": {
     "duration": 0.134674,
     "end_time": "2021-12-03T20:03:40.890233",
     "exception": false,
     "start_time": "2021-12-03T20:03:40.755559",
     "status": "completed"
    },
    "tags": [
     "injected-parameters"
    ]
   },
   "outputs": [],
   "source": [
    "# Parameters\n",
    "se_f = \"/data/Mito_Trace/output/pipeline/cd34norm/MTblacklist/data/merged/MT/cellr_True/numread_200/filters/minC10_minR50_topN0_hetT0.001_hetC10_hetCount5_bq20/mgatk/vireoIn/clones/variants_init/vireo/nclones20/annotation_clones/SE.rds\"\n",
    "outdir = \"/data/Mito_Trace/output/pipeline/cd34norm/MTblacklist/data/merged/MT/cellr_True/numread_200/filters/minC10_minR50_topN0_hetT0.001_hetC10_hetCount5_bq20/mgatk/vireoIn/clones/variants_init/vireo/nclones20/annotation_clones/DE_large\"\n",
    "n_donors = 4\n"
   ]
  },
  {
   "cell_type": "code",
   "execution_count": 3,
   "id": "e72d3a57",
   "metadata": {
    "execution": {
     "iopub.execute_input": "2021-12-03T20:03:41.029446Z",
     "iopub.status.busy": "2021-12-03T20:03:41.025459Z",
     "iopub.status.idle": "2021-12-03T20:03:41.046766Z",
     "shell.execute_reply": "2021-12-03T20:03:41.040735Z"
    },
    "papermill": {
     "duration": 0.091438,
     "end_time": "2021-12-03T20:03:41.046977",
     "exception": false,
     "start_time": "2021-12-03T20:03:40.955539",
     "status": "completed"
    },
    "tags": []
   },
   "outputs": [],
   "source": [
    "if (use_latent_vars){\n",
    "    latent.vars = \"peaks_depth\"\n",
    "}else{\n",
    "    latent.vars=NULL\n",
    "}"
   ]
  },
  {
   "cell_type": "code",
   "execution_count": 4,
   "id": "b44903ca",
   "metadata": {
    "execution": {
     "iopub.execute_input": "2021-12-03T20:03:41.182946Z",
     "iopub.status.busy": "2021-12-03T20:03:41.181443Z",
     "iopub.status.idle": "2021-12-03T20:03:49.416261Z",
     "shell.execute_reply": "2021-12-03T20:03:49.414261Z"
    },
    "papermill": {
     "duration": 8.303172,
     "end_time": "2021-12-03T20:03:49.416591",
     "exception": false,
     "start_time": "2021-12-03T20:03:41.113419",
     "status": "completed"
    },
    "tags": []
   },
   "outputs": [
    {
     "name": "stderr",
     "output_type": "stream",
     "text": [
      "Attaching SeuratObject\n",
      "\n"
     ]
    }
   ],
   "source": [
    "source(utils_script)"
   ]
  },
  {
   "cell_type": "code",
   "execution_count": 5,
   "id": "5d9ca2e3",
   "metadata": {
    "execution": {
     "iopub.execute_input": "2021-12-03T20:03:49.556277Z",
     "iopub.status.busy": "2021-12-03T20:03:49.554049Z",
     "iopub.status.idle": "2021-12-03T20:03:50.037098Z",
     "shell.execute_reply": "2021-12-03T20:03:50.036134Z"
    },
    "papermill": {
     "duration": 0.552103,
     "end_time": "2021-12-03T20:03:50.037301",
     "exception": false,
     "start_time": "2021-12-03T20:03:49.485198",
     "status": "completed"
    },
    "scrolled": true,
    "tags": []
   },
   "outputs": [
    {
     "name": "stderr",
     "output_type": "stream",
     "text": [
      "\n",
      "Attaching package: ‘cowplot’\n",
      "\n",
      "\n"
     ]
    },
    {
     "name": "stderr",
     "output_type": "stream",
     "text": [
      "The following object is masked from ‘package:patchwork’:\n",
      "\n",
      "    align_plots\n",
      "\n",
      "\n"
     ]
    },
    {
     "name": "stderr",
     "output_type": "stream",
     "text": [
      "\n",
      "Attaching package: ‘dplyr’\n",
      "\n",
      "\n"
     ]
    },
    {
     "name": "stderr",
     "output_type": "stream",
     "text": [
      "The following objects are masked from ‘package:stats’:\n",
      "\n",
      "    filter, lag\n",
      "\n",
      "\n"
     ]
    },
    {
     "name": "stderr",
     "output_type": "stream",
     "text": [
      "The following objects are masked from ‘package:base’:\n",
      "\n",
      "    intersect, setdiff, setequal, union\n",
      "\n",
      "\n"
     ]
    },
    {
     "name": "stderr",
     "output_type": "stream",
     "text": [
      "Warning message:\n",
      "“Strategy 'multiprocess' is deprecated in future (>= 1.20.0). Instead, explicitly specify either 'multisession' or 'multicore'. In the current R session, 'multiprocess' equals 'multicore'.”\n"
     ]
    },
    {
     "name": "stderr",
     "output_type": "stream",
     "text": [
      "Loading required package: grid\n",
      "\n"
     ]
    },
    {
     "name": "stderr",
     "output_type": "stream",
     "text": [
      "========================================\n",
      "ComplexHeatmap version 2.10.0\n",
      "Bioconductor page: http://bioconductor.org/packages/ComplexHeatmap/\n",
      "Github page: https://github.com/jokergoo/ComplexHeatmap\n",
      "Documentation: http://jokergoo.github.io/ComplexHeatmap-reference\n",
      "\n",
      "If you use it in published research, please cite:\n",
      "Gu, Z. Complex heatmaps reveal patterns and correlations in multidimensional \n",
      "  genomic data. Bioinformatics 2016.\n",
      "\n",
      "The new InteractiveComplexHeatmap package can directly export static \n",
      "complex heatmaps into an interactive Shiny app with zero effort. Have a try!\n",
      "\n",
      "This message can be suppressed by:\n",
      "  suppressPackageStartupMessages(library(ComplexHeatmap))\n",
      "========================================\n",
      "\n",
      "\n"
     ]
    }
   ],
   "source": [
    "library(Seurat)\n",
    "library(Signac)\n",
    "library(ggplot2)\n",
    "library(patchwork)\n",
    "set.seed(1234)\n",
    "library(magrittr)\n",
    "library(cowplot)\n",
    "library(metap)\n",
    "library(dplyr)\n",
    "library(future)\n",
    "plan(\"multiprocess\", workers = cores)\n",
    "#options(future.globals.maxSize = 50000 * 1024^2) # for 50 Gb RAM\n",
    "options(future.globals.maxSize = 8000 * 1024^2)\n",
    "library(\"ComplexHeatmap\")"
   ]
  },
  {
   "cell_type": "markdown",
   "id": "e8a7d7b5",
   "metadata": {
    "papermill": {
     "duration": 0.071341,
     "end_time": "2021-12-03T20:03:50.184355",
     "exception": false,
     "start_time": "2021-12-03T20:03:50.113014",
     "status": "completed"
    },
    "tags": []
   },
   "source": [
    "## Import seurat object"
   ]
  },
  {
   "cell_type": "code",
   "execution_count": 6,
   "id": "2ef3a56c",
   "metadata": {
    "execution": {
     "iopub.execute_input": "2021-12-03T20:03:50.331219Z",
     "iopub.status.busy": "2021-12-03T20:03:50.327781Z",
     "iopub.status.idle": "2021-12-03T20:21:55.556764Z",
     "shell.execute_reply": "2021-12-03T20:21:55.555127Z"
    },
    "papermill": {
     "duration": 1085.300388,
     "end_time": "2021-12-03T20:21:55.557107",
     "exception": false,
     "start_time": "2021-12-03T20:03:50.256719",
     "status": "completed"
    },
    "scrolled": true,
    "tags": []
   },
   "outputs": [
    {
     "name": "stdout",
     "output_type": "stream",
     "text": [
      "[1] \"Running chromvar\"\n"
     ]
    },
    {
     "name": "stderr",
     "output_type": "stream",
     "text": [
      "\n",
      "\n"
     ]
    },
    {
     "name": "stderr",
     "output_type": "stream",
     "text": [
      "Loading required package: BSgenome\n",
      "\n"
     ]
    },
    {
     "name": "stderr",
     "output_type": "stream",
     "text": [
      "Loading required package: BiocGenerics\n",
      "\n"
     ]
    },
    {
     "name": "stderr",
     "output_type": "stream",
     "text": [
      "\n",
      "Attaching package: ‘BiocGenerics’\n",
      "\n",
      "\n"
     ]
    },
    {
     "name": "stderr",
     "output_type": "stream",
     "text": [
      "The following objects are masked from ‘package:dplyr’:\n",
      "\n",
      "    combine, intersect, setdiff, union\n",
      "\n",
      "\n"
     ]
    },
    {
     "name": "stderr",
     "output_type": "stream",
     "text": [
      "The following objects are masked from ‘package:stats’:\n",
      "\n",
      "    IQR, mad, sd, var, xtabs\n",
      "\n",
      "\n"
     ]
    },
    {
     "name": "stderr",
     "output_type": "stream",
     "text": [
      "The following objects are masked from ‘package:base’:\n",
      "\n",
      "    anyDuplicated, append, as.data.frame, basename, cbind, colnames,\n",
      "    dirname, do.call, duplicated, eval, evalq, Filter, Find, get, grep,\n",
      "    grepl, intersect, is.unsorted, lapply, Map, mapply, match, mget,\n",
      "    order, paste, pmax, pmax.int, pmin, pmin.int, Position, rank,\n",
      "    rbind, Reduce, rownames, sapply, setdiff, sort, table, tapply,\n",
      "    union, unique, unsplit, which.max, which.min\n",
      "\n",
      "\n"
     ]
    },
    {
     "name": "stderr",
     "output_type": "stream",
     "text": [
      "Loading required package: S4Vectors\n",
      "\n"
     ]
    },
    {
     "name": "stderr",
     "output_type": "stream",
     "text": [
      "Loading required package: stats4\n",
      "\n"
     ]
    },
    {
     "name": "stderr",
     "output_type": "stream",
     "text": [
      "\n",
      "Attaching package: ‘S4Vectors’\n",
      "\n",
      "\n"
     ]
    },
    {
     "name": "stderr",
     "output_type": "stream",
     "text": [
      "The following object is masked from ‘package:future’:\n",
      "\n",
      "    values\n",
      "\n",
      "\n"
     ]
    },
    {
     "name": "stderr",
     "output_type": "stream",
     "text": [
      "The following objects are masked from ‘package:dplyr’:\n",
      "\n",
      "    first, rename\n",
      "\n",
      "\n"
     ]
    },
    {
     "name": "stderr",
     "output_type": "stream",
     "text": [
      "The following objects are masked from ‘package:base’:\n",
      "\n",
      "    expand.grid, I, unname\n",
      "\n",
      "\n"
     ]
    },
    {
     "name": "stderr",
     "output_type": "stream",
     "text": [
      "Loading required package: IRanges\n",
      "\n"
     ]
    },
    {
     "name": "stderr",
     "output_type": "stream",
     "text": [
      "\n",
      "Attaching package: ‘IRanges’\n",
      "\n",
      "\n"
     ]
    },
    {
     "name": "stderr",
     "output_type": "stream",
     "text": [
      "The following objects are masked from ‘package:dplyr’:\n",
      "\n",
      "    collapse, desc, slice\n",
      "\n",
      "\n"
     ]
    },
    {
     "name": "stderr",
     "output_type": "stream",
     "text": [
      "Loading required package: GenomeInfoDb\n",
      "\n"
     ]
    },
    {
     "name": "stderr",
     "output_type": "stream",
     "text": [
      "Loading required package: GenomicRanges\n",
      "\n"
     ]
    },
    {
     "name": "stderr",
     "output_type": "stream",
     "text": [
      "Loading required package: Biostrings\n",
      "\n"
     ]
    },
    {
     "name": "stderr",
     "output_type": "stream",
     "text": [
      "Loading required package: XVector\n",
      "\n"
     ]
    },
    {
     "name": "stderr",
     "output_type": "stream",
     "text": [
      "\n",
      "Attaching package: ‘Biostrings’\n",
      "\n",
      "\n"
     ]
    },
    {
     "name": "stderr",
     "output_type": "stream",
     "text": [
      "The following object is masked from ‘package:grid’:\n",
      "\n",
      "    pattern\n",
      "\n",
      "\n"
     ]
    },
    {
     "name": "stderr",
     "output_type": "stream",
     "text": [
      "The following object is masked from ‘package:base’:\n",
      "\n",
      "    strsplit\n",
      "\n",
      "\n"
     ]
    },
    {
     "name": "stderr",
     "output_type": "stream",
     "text": [
      "Loading required package: rtracklayer\n",
      "\n"
     ]
    },
    {
     "name": "stderr",
     "output_type": "stream",
     "text": [
      "Building motif matrix\n",
      "\n"
     ]
    },
    {
     "name": "stderr",
     "output_type": "stream",
     "text": [
      "Finding motif positions\n",
      "\n"
     ]
    },
    {
     "name": "stderr",
     "output_type": "stream",
     "text": [
      "Creating Motif object\n",
      "\n"
     ]
    },
    {
     "name": "stderr",
     "output_type": "stream",
     "text": [
      "Computing GC bias per region\n",
      "\n"
     ]
    },
    {
     "name": "stderr",
     "output_type": "stream",
     "text": [
      "Selecting background regions\n",
      "\n"
     ]
    },
    {
     "name": "stderr",
     "output_type": "stream",
     "text": [
      "Computing deviations from background\n",
      "\n"
     ]
    },
    {
     "name": "stderr",
     "output_type": "stream",
     "text": [
      "Constructing chromVAR assay\n",
      "\n"
     ]
    }
   ],
   "source": [
    "# if (file.exists(file.path(outdir, \"se.chromvar.rds\"))){\n",
    "#     print(\"Loading se with chromvar\")\n",
    "#     se <- readRDS(file=file.path(outdir, \"se.chromvar.rds\"))    \n",
    "# }else{\n",
    "#     print(\"Running chromvar\")\n",
    "#     se = readRDS(se_f)\n",
    "# #     source(\"~/data/Projects/Mito_Trace/R_scripts/addPWM.R\")\n",
    "#     se <- get.pwm(se, genome=genome)\n",
    "#     saveRDS(object=se, file=file.path(outdir, \"se.chromvar.rds\"))    \n",
    "# }\n",
    "\n",
    "print(\"Running chromvar\")\n",
    "se = readRDS(se_f)\n",
    "se <- get.pwm(se, genome=genome)\n",
    "saveRDS(object=se, file=file.path(outdir, \"se.chromvar.rds\"))\n",
    "\n",
    "\n",
    "# cells.meta = se[[]]\n",
    "# cells.meta$name = paste0(cells.meta$donor,\"_\", cells.meta$lineage)\n",
    "# cells.meta$name = factor(cells.meta$name)\n",
    "# cells.meta\n",
    "\n",
    "\n",
    "# se <- AddMetaData(\n",
    "#   object = se,\n",
    "#   metadata = cells.meta[\"name\"],\n",
    "#   col.name = \"name\"\n",
    "# )\n",
    "# se[[]]"
   ]
  },
  {
   "cell_type": "code",
   "execution_count": 7,
   "id": "3f8f8c43",
   "metadata": {
    "execution": {
     "iopub.execute_input": "2021-12-03T20:21:55.781582Z",
     "iopub.status.busy": "2021-12-03T20:21:55.777151Z",
     "iopub.status.idle": "2021-12-03T20:21:55.986839Z",
     "shell.execute_reply": "2021-12-03T20:21:55.987651Z"
    },
    "papermill": {
     "duration": 0.325271,
     "end_time": "2021-12-03T20:21:55.987979",
     "exception": false,
     "start_time": "2021-12-03T20:21:55.662708",
     "status": "completed"
    },
    "scrolled": true,
    "tags": []
   },
   "outputs": [
    {
     "name": "stderr",
     "output_type": "stream",
     "text": [
      "`summarise()` has grouped output by 'condition', 'donor', 'lineage'. You can override using the `.groups` argument.\n",
      "\n"
     ]
    },
    {
     "data": {
      "text/html": [
       "<table class=\"dataframe\">\n",
       "<caption>A grouped_df: 149 × 5</caption>\n",
       "<thead>\n",
       "\t<tr><th scope=col>condition</th><th scope=col>donor</th><th scope=col>lineage</th><th scope=col>name</th><th scope=col>size</th></tr>\n",
       "\t<tr><th scope=col>&lt;fct&gt;</th><th scope=col>&lt;fct&gt;</th><th scope=col>&lt;fct&gt;</th><th scope=col>&lt;fct&gt;</th><th scope=col>&lt;int&gt;</th></tr>\n",
       "</thead>\n",
       "<tbody>\n",
       "\t<tr><td>Control</td><td>0</td><td>0 </td><td>0_0 </td><td> 60</td></tr>\n",
       "\t<tr><td>Control</td><td>0</td><td>1 </td><td>0_1 </td><td> 30</td></tr>\n",
       "\t<tr><td>Control</td><td>0</td><td>2 </td><td>0_2 </td><td>  8</td></tr>\n",
       "\t<tr><td>Control</td><td>0</td><td>3 </td><td>0_3 </td><td>  5</td></tr>\n",
       "\t<tr><td>Control</td><td>0</td><td>4 </td><td>0_4 </td><td> 54</td></tr>\n",
       "\t<tr><td>Control</td><td>0</td><td>6 </td><td>0_6 </td><td>  2</td></tr>\n",
       "\t<tr><td>Control</td><td>0</td><td>7 </td><td>0_7 </td><td> 11</td></tr>\n",
       "\t<tr><td>Control</td><td>0</td><td>8 </td><td>0_8 </td><td> 57</td></tr>\n",
       "\t<tr><td>Control</td><td>0</td><td>9 </td><td>0_9 </td><td> 10</td></tr>\n",
       "\t<tr><td>Control</td><td>0</td><td>10</td><td>0_10</td><td> 55</td></tr>\n",
       "\t<tr><td>Control</td><td>0</td><td>11</td><td>0_11</td><td>  4</td></tr>\n",
       "\t<tr><td>Control</td><td>0</td><td>12</td><td>0_12</td><td>  4</td></tr>\n",
       "\t<tr><td>Control</td><td>0</td><td>13</td><td>0_13</td><td> 18</td></tr>\n",
       "\t<tr><td>Control</td><td>0</td><td>14</td><td>0_14</td><td> 19</td></tr>\n",
       "\t<tr><td>Control</td><td>0</td><td>15</td><td>0_15</td><td> 95</td></tr>\n",
       "\t<tr><td>Control</td><td>0</td><td>16</td><td>0_16</td><td> 34</td></tr>\n",
       "\t<tr><td>Control</td><td>0</td><td>17</td><td>0_17</td><td>  3</td></tr>\n",
       "\t<tr><td>Control</td><td>0</td><td>18</td><td>0_18</td><td> 46</td></tr>\n",
       "\t<tr><td>Control</td><td>0</td><td>19</td><td>0_19</td><td>  7</td></tr>\n",
       "\t<tr><td>Control</td><td>1</td><td>0 </td><td>1_0 </td><td>  6</td></tr>\n",
       "\t<tr><td>Control</td><td>1</td><td>1 </td><td>1_1 </td><td>  2</td></tr>\n",
       "\t<tr><td>Control</td><td>1</td><td>2 </td><td>1_2 </td><td> 25</td></tr>\n",
       "\t<tr><td>Control</td><td>1</td><td>3 </td><td>1_3 </td><td>  4</td></tr>\n",
       "\t<tr><td>Control</td><td>1</td><td>4 </td><td>1_4 </td><td>135</td></tr>\n",
       "\t<tr><td>Control</td><td>1</td><td>5 </td><td>1_5 </td><td>  5</td></tr>\n",
       "\t<tr><td>Control</td><td>1</td><td>7 </td><td>1_7 </td><td>  9</td></tr>\n",
       "\t<tr><td>Control</td><td>1</td><td>8 </td><td>1_8 </td><td> 15</td></tr>\n",
       "\t<tr><td>Control</td><td>1</td><td>9 </td><td>1_9 </td><td>  1</td></tr>\n",
       "\t<tr><td>Control</td><td>1</td><td>10</td><td>1_10</td><td>  6</td></tr>\n",
       "\t<tr><td>Control</td><td>1</td><td>11</td><td>1_11</td><td>  5</td></tr>\n",
       "\t<tr><td>⋮</td><td>⋮</td><td>⋮</td><td>⋮</td><td>⋮</td></tr>\n",
       "\t<tr><td>Flt3l</td><td>2</td><td>10</td><td>2_10</td><td> 17</td></tr>\n",
       "\t<tr><td>Flt3l</td><td>2</td><td>11</td><td>2_11</td><td> 13</td></tr>\n",
       "\t<tr><td>Flt3l</td><td>2</td><td>12</td><td>2_12</td><td> 65</td></tr>\n",
       "\t<tr><td>Flt3l</td><td>2</td><td>13</td><td>2_13</td><td> 13</td></tr>\n",
       "\t<tr><td>Flt3l</td><td>2</td><td>14</td><td>2_14</td><td> 11</td></tr>\n",
       "\t<tr><td>Flt3l</td><td>2</td><td>15</td><td>2_15</td><td> 83</td></tr>\n",
       "\t<tr><td>Flt3l</td><td>2</td><td>16</td><td>2_16</td><td>  5</td></tr>\n",
       "\t<tr><td>Flt3l</td><td>2</td><td>17</td><td>2_17</td><td> 16</td></tr>\n",
       "\t<tr><td>Flt3l</td><td>2</td><td>18</td><td>2_18</td><td> 50</td></tr>\n",
       "\t<tr><td>Flt3l</td><td>2</td><td>19</td><td>2_19</td><td> 19</td></tr>\n",
       "\t<tr><td>Flt3l</td><td>3</td><td>0 </td><td>3_0 </td><td> 49</td></tr>\n",
       "\t<tr><td>Flt3l</td><td>3</td><td>1 </td><td>3_1 </td><td> 44</td></tr>\n",
       "\t<tr><td>Flt3l</td><td>3</td><td>2 </td><td>3_2 </td><td> 13</td></tr>\n",
       "\t<tr><td>Flt3l</td><td>3</td><td>3 </td><td>3_3 </td><td> 47</td></tr>\n",
       "\t<tr><td>Flt3l</td><td>3</td><td>4 </td><td>3_4 </td><td> 19</td></tr>\n",
       "\t<tr><td>Flt3l</td><td>3</td><td>5 </td><td>3_5 </td><td> 12</td></tr>\n",
       "\t<tr><td>Flt3l</td><td>3</td><td>6 </td><td>3_6 </td><td> 17</td></tr>\n",
       "\t<tr><td>Flt3l</td><td>3</td><td>7 </td><td>3_7 </td><td> 51</td></tr>\n",
       "\t<tr><td>Flt3l</td><td>3</td><td>8 </td><td>3_8 </td><td> 87</td></tr>\n",
       "\t<tr><td>Flt3l</td><td>3</td><td>9 </td><td>3_9 </td><td> 39</td></tr>\n",
       "\t<tr><td>Flt3l</td><td>3</td><td>10</td><td>3_10</td><td> 50</td></tr>\n",
       "\t<tr><td>Flt3l</td><td>3</td><td>11</td><td>3_11</td><td>  9</td></tr>\n",
       "\t<tr><td>Flt3l</td><td>3</td><td>12</td><td>3_12</td><td> 29</td></tr>\n",
       "\t<tr><td>Flt3l</td><td>3</td><td>13</td><td>3_13</td><td> 57</td></tr>\n",
       "\t<tr><td>Flt3l</td><td>3</td><td>14</td><td>3_14</td><td> 32</td></tr>\n",
       "\t<tr><td>Flt3l</td><td>3</td><td>15</td><td>3_15</td><td>101</td></tr>\n",
       "\t<tr><td>Flt3l</td><td>3</td><td>16</td><td>3_16</td><td>  8</td></tr>\n",
       "\t<tr><td>Flt3l</td><td>3</td><td>17</td><td>3_17</td><td> 64</td></tr>\n",
       "\t<tr><td>Flt3l</td><td>3</td><td>18</td><td>3_18</td><td> 38</td></tr>\n",
       "\t<tr><td>Flt3l</td><td>3</td><td>19</td><td>3_19</td><td> 41</td></tr>\n",
       "</tbody>\n",
       "</table>\n"
      ],
      "text/latex": [
       "A grouped\\_df: 149 × 5\n",
       "\\begin{tabular}{lllll}\n",
       " condition & donor & lineage & name & size\\\\\n",
       " <fct> & <fct> & <fct> & <fct> & <int>\\\\\n",
       "\\hline\n",
       "\t Control & 0 & 0  & 0\\_0  &  60\\\\\n",
       "\t Control & 0 & 1  & 0\\_1  &  30\\\\\n",
       "\t Control & 0 & 2  & 0\\_2  &   8\\\\\n",
       "\t Control & 0 & 3  & 0\\_3  &   5\\\\\n",
       "\t Control & 0 & 4  & 0\\_4  &  54\\\\\n",
       "\t Control & 0 & 6  & 0\\_6  &   2\\\\\n",
       "\t Control & 0 & 7  & 0\\_7  &  11\\\\\n",
       "\t Control & 0 & 8  & 0\\_8  &  57\\\\\n",
       "\t Control & 0 & 9  & 0\\_9  &  10\\\\\n",
       "\t Control & 0 & 10 & 0\\_10 &  55\\\\\n",
       "\t Control & 0 & 11 & 0\\_11 &   4\\\\\n",
       "\t Control & 0 & 12 & 0\\_12 &   4\\\\\n",
       "\t Control & 0 & 13 & 0\\_13 &  18\\\\\n",
       "\t Control & 0 & 14 & 0\\_14 &  19\\\\\n",
       "\t Control & 0 & 15 & 0\\_15 &  95\\\\\n",
       "\t Control & 0 & 16 & 0\\_16 &  34\\\\\n",
       "\t Control & 0 & 17 & 0\\_17 &   3\\\\\n",
       "\t Control & 0 & 18 & 0\\_18 &  46\\\\\n",
       "\t Control & 0 & 19 & 0\\_19 &   7\\\\\n",
       "\t Control & 1 & 0  & 1\\_0  &   6\\\\\n",
       "\t Control & 1 & 1  & 1\\_1  &   2\\\\\n",
       "\t Control & 1 & 2  & 1\\_2  &  25\\\\\n",
       "\t Control & 1 & 3  & 1\\_3  &   4\\\\\n",
       "\t Control & 1 & 4  & 1\\_4  & 135\\\\\n",
       "\t Control & 1 & 5  & 1\\_5  &   5\\\\\n",
       "\t Control & 1 & 7  & 1\\_7  &   9\\\\\n",
       "\t Control & 1 & 8  & 1\\_8  &  15\\\\\n",
       "\t Control & 1 & 9  & 1\\_9  &   1\\\\\n",
       "\t Control & 1 & 10 & 1\\_10 &   6\\\\\n",
       "\t Control & 1 & 11 & 1\\_11 &   5\\\\\n",
       "\t ⋮ & ⋮ & ⋮ & ⋮ & ⋮\\\\\n",
       "\t Flt3l & 2 & 10 & 2\\_10 &  17\\\\\n",
       "\t Flt3l & 2 & 11 & 2\\_11 &  13\\\\\n",
       "\t Flt3l & 2 & 12 & 2\\_12 &  65\\\\\n",
       "\t Flt3l & 2 & 13 & 2\\_13 &  13\\\\\n",
       "\t Flt3l & 2 & 14 & 2\\_14 &  11\\\\\n",
       "\t Flt3l & 2 & 15 & 2\\_15 &  83\\\\\n",
       "\t Flt3l & 2 & 16 & 2\\_16 &   5\\\\\n",
       "\t Flt3l & 2 & 17 & 2\\_17 &  16\\\\\n",
       "\t Flt3l & 2 & 18 & 2\\_18 &  50\\\\\n",
       "\t Flt3l & 2 & 19 & 2\\_19 &  19\\\\\n",
       "\t Flt3l & 3 & 0  & 3\\_0  &  49\\\\\n",
       "\t Flt3l & 3 & 1  & 3\\_1  &  44\\\\\n",
       "\t Flt3l & 3 & 2  & 3\\_2  &  13\\\\\n",
       "\t Flt3l & 3 & 3  & 3\\_3  &  47\\\\\n",
       "\t Flt3l & 3 & 4  & 3\\_4  &  19\\\\\n",
       "\t Flt3l & 3 & 5  & 3\\_5  &  12\\\\\n",
       "\t Flt3l & 3 & 6  & 3\\_6  &  17\\\\\n",
       "\t Flt3l & 3 & 7  & 3\\_7  &  51\\\\\n",
       "\t Flt3l & 3 & 8  & 3\\_8  &  87\\\\\n",
       "\t Flt3l & 3 & 9  & 3\\_9  &  39\\\\\n",
       "\t Flt3l & 3 & 10 & 3\\_10 &  50\\\\\n",
       "\t Flt3l & 3 & 11 & 3\\_11 &   9\\\\\n",
       "\t Flt3l & 3 & 12 & 3\\_12 &  29\\\\\n",
       "\t Flt3l & 3 & 13 & 3\\_13 &  57\\\\\n",
       "\t Flt3l & 3 & 14 & 3\\_14 &  32\\\\\n",
       "\t Flt3l & 3 & 15 & 3\\_15 & 101\\\\\n",
       "\t Flt3l & 3 & 16 & 3\\_16 &   8\\\\\n",
       "\t Flt3l & 3 & 17 & 3\\_17 &  64\\\\\n",
       "\t Flt3l & 3 & 18 & 3\\_18 &  38\\\\\n",
       "\t Flt3l & 3 & 19 & 3\\_19 &  41\\\\\n",
       "\\end{tabular}\n"
      ],
      "text/markdown": [
       "\n",
       "A grouped_df: 149 × 5\n",
       "\n",
       "| condition &lt;fct&gt; | donor &lt;fct&gt; | lineage &lt;fct&gt; | name &lt;fct&gt; | size &lt;int&gt; |\n",
       "|---|---|---|---|---|\n",
       "| Control | 0 | 0  | 0_0  |  60 |\n",
       "| Control | 0 | 1  | 0_1  |  30 |\n",
       "| Control | 0 | 2  | 0_2  |   8 |\n",
       "| Control | 0 | 3  | 0_3  |   5 |\n",
       "| Control | 0 | 4  | 0_4  |  54 |\n",
       "| Control | 0 | 6  | 0_6  |   2 |\n",
       "| Control | 0 | 7  | 0_7  |  11 |\n",
       "| Control | 0 | 8  | 0_8  |  57 |\n",
       "| Control | 0 | 9  | 0_9  |  10 |\n",
       "| Control | 0 | 10 | 0_10 |  55 |\n",
       "| Control | 0 | 11 | 0_11 |   4 |\n",
       "| Control | 0 | 12 | 0_12 |   4 |\n",
       "| Control | 0 | 13 | 0_13 |  18 |\n",
       "| Control | 0 | 14 | 0_14 |  19 |\n",
       "| Control | 0 | 15 | 0_15 |  95 |\n",
       "| Control | 0 | 16 | 0_16 |  34 |\n",
       "| Control | 0 | 17 | 0_17 |   3 |\n",
       "| Control | 0 | 18 | 0_18 |  46 |\n",
       "| Control | 0 | 19 | 0_19 |   7 |\n",
       "| Control | 1 | 0  | 1_0  |   6 |\n",
       "| Control | 1 | 1  | 1_1  |   2 |\n",
       "| Control | 1 | 2  | 1_2  |  25 |\n",
       "| Control | 1 | 3  | 1_3  |   4 |\n",
       "| Control | 1 | 4  | 1_4  | 135 |\n",
       "| Control | 1 | 5  | 1_5  |   5 |\n",
       "| Control | 1 | 7  | 1_7  |   9 |\n",
       "| Control | 1 | 8  | 1_8  |  15 |\n",
       "| Control | 1 | 9  | 1_9  |   1 |\n",
       "| Control | 1 | 10 | 1_10 |   6 |\n",
       "| Control | 1 | 11 | 1_11 |   5 |\n",
       "| ⋮ | ⋮ | ⋮ | ⋮ | ⋮ |\n",
       "| Flt3l | 2 | 10 | 2_10 |  17 |\n",
       "| Flt3l | 2 | 11 | 2_11 |  13 |\n",
       "| Flt3l | 2 | 12 | 2_12 |  65 |\n",
       "| Flt3l | 2 | 13 | 2_13 |  13 |\n",
       "| Flt3l | 2 | 14 | 2_14 |  11 |\n",
       "| Flt3l | 2 | 15 | 2_15 |  83 |\n",
       "| Flt3l | 2 | 16 | 2_16 |   5 |\n",
       "| Flt3l | 2 | 17 | 2_17 |  16 |\n",
       "| Flt3l | 2 | 18 | 2_18 |  50 |\n",
       "| Flt3l | 2 | 19 | 2_19 |  19 |\n",
       "| Flt3l | 3 | 0  | 3_0  |  49 |\n",
       "| Flt3l | 3 | 1  | 3_1  |  44 |\n",
       "| Flt3l | 3 | 2  | 3_2  |  13 |\n",
       "| Flt3l | 3 | 3  | 3_3  |  47 |\n",
       "| Flt3l | 3 | 4  | 3_4  |  19 |\n",
       "| Flt3l | 3 | 5  | 3_5  |  12 |\n",
       "| Flt3l | 3 | 6  | 3_6  |  17 |\n",
       "| Flt3l | 3 | 7  | 3_7  |  51 |\n",
       "| Flt3l | 3 | 8  | 3_8  |  87 |\n",
       "| Flt3l | 3 | 9  | 3_9  |  39 |\n",
       "| Flt3l | 3 | 10 | 3_10 |  50 |\n",
       "| Flt3l | 3 | 11 | 3_11 |   9 |\n",
       "| Flt3l | 3 | 12 | 3_12 |  29 |\n",
       "| Flt3l | 3 | 13 | 3_13 |  57 |\n",
       "| Flt3l | 3 | 14 | 3_14 |  32 |\n",
       "| Flt3l | 3 | 15 | 3_15 | 101 |\n",
       "| Flt3l | 3 | 16 | 3_16 |   8 |\n",
       "| Flt3l | 3 | 17 | 3_17 |  64 |\n",
       "| Flt3l | 3 | 18 | 3_18 |  38 |\n",
       "| Flt3l | 3 | 19 | 3_19 |  41 |\n",
       "\n"
      ],
      "text/plain": [
       "    condition donor lineage name size\n",
       "1   Control   0     0       0_0   60 \n",
       "2   Control   0     1       0_1   30 \n",
       "3   Control   0     2       0_2    8 \n",
       "4   Control   0     3       0_3    5 \n",
       "5   Control   0     4       0_4   54 \n",
       "6   Control   0     6       0_6    2 \n",
       "7   Control   0     7       0_7   11 \n",
       "8   Control   0     8       0_8   57 \n",
       "9   Control   0     9       0_9   10 \n",
       "10  Control   0     10      0_10  55 \n",
       "11  Control   0     11      0_11   4 \n",
       "12  Control   0     12      0_12   4 \n",
       "13  Control   0     13      0_13  18 \n",
       "14  Control   0     14      0_14  19 \n",
       "15  Control   0     15      0_15  95 \n",
       "16  Control   0     16      0_16  34 \n",
       "17  Control   0     17      0_17   3 \n",
       "18  Control   0     18      0_18  46 \n",
       "19  Control   0     19      0_19   7 \n",
       "20  Control   1     0       1_0    6 \n",
       "21  Control   1     1       1_1    2 \n",
       "22  Control   1     2       1_2   25 \n",
       "23  Control   1     3       1_3    4 \n",
       "24  Control   1     4       1_4  135 \n",
       "25  Control   1     5       1_5    5 \n",
       "26  Control   1     7       1_7    9 \n",
       "27  Control   1     8       1_8   15 \n",
       "28  Control   1     9       1_9    1 \n",
       "29  Control   1     10      1_10   6 \n",
       "30  Control   1     11      1_11   5 \n",
       "⋮   ⋮         ⋮     ⋮       ⋮    ⋮   \n",
       "120 Flt3l     2     10      2_10  17 \n",
       "121 Flt3l     2     11      2_11  13 \n",
       "122 Flt3l     2     12      2_12  65 \n",
       "123 Flt3l     2     13      2_13  13 \n",
       "124 Flt3l     2     14      2_14  11 \n",
       "125 Flt3l     2     15      2_15  83 \n",
       "126 Flt3l     2     16      2_16   5 \n",
       "127 Flt3l     2     17      2_17  16 \n",
       "128 Flt3l     2     18      2_18  50 \n",
       "129 Flt3l     2     19      2_19  19 \n",
       "130 Flt3l     3     0       3_0   49 \n",
       "131 Flt3l     3     1       3_1   44 \n",
       "132 Flt3l     3     2       3_2   13 \n",
       "133 Flt3l     3     3       3_3   47 \n",
       "134 Flt3l     3     4       3_4   19 \n",
       "135 Flt3l     3     5       3_5   12 \n",
       "136 Flt3l     3     6       3_6   17 \n",
       "137 Flt3l     3     7       3_7   51 \n",
       "138 Flt3l     3     8       3_8   87 \n",
       "139 Flt3l     3     9       3_9   39 \n",
       "140 Flt3l     3     10      3_10  50 \n",
       "141 Flt3l     3     11      3_11   9 \n",
       "142 Flt3l     3     12      3_12  29 \n",
       "143 Flt3l     3     13      3_13  57 \n",
       "144 Flt3l     3     14      3_14  32 \n",
       "145 Flt3l     3     15      3_15 101 \n",
       "146 Flt3l     3     16      3_16   8 \n",
       "147 Flt3l     3     17      3_17  64 \n",
       "148 Flt3l     3     18      3_18  38 \n",
       "149 Flt3l     3     19      3_19  41 "
      ]
     },
     "metadata": {},
     "output_type": "display_data"
    }
   ],
   "source": [
    "counts <- se[[]] %>%\n",
    "          group_by(condition, donor, lineage, name) %>%\n",
    "          summarize(size=n()) %>% filter(!name==\"None\")\n",
    "counts"
   ]
  },
  {
   "cell_type": "code",
   "execution_count": 8,
   "id": "c042aa55",
   "metadata": {
    "execution": {
     "iopub.execute_input": "2021-12-03T20:21:56.223156Z",
     "iopub.status.busy": "2021-12-03T20:21:56.218724Z",
     "iopub.status.idle": "2021-12-03T20:21:56.350904Z",
     "shell.execute_reply": "2021-12-03T20:21:56.350006Z"
    },
    "papermill": {
     "duration": 0.240132,
     "end_time": "2021-12-03T20:21:56.351096",
     "exception": false,
     "start_time": "2021-12-03T20:21:56.110964",
     "status": "completed"
    },
    "scrolled": true,
    "tags": []
   },
   "outputs": [
    {
     "data": {
      "text/html": [
       "<table class=\"dataframe\">\n",
       "<caption>A tibble: 149 × 7</caption>\n",
       "<thead>\n",
       "\t<tr><th scope=col>condition</th><th scope=col>donor</th><th scope=col>lineage</th><th scope=col>name</th><th scope=col>size</th><th scope=col>total</th><th scope=col>norm</th></tr>\n",
       "\t<tr><th scope=col>&lt;fct&gt;</th><th scope=col>&lt;fct&gt;</th><th scope=col>&lt;fct&gt;</th><th scope=col>&lt;fct&gt;</th><th scope=col>&lt;int&gt;</th><th scope=col>&lt;int&gt;</th><th scope=col>&lt;dbl&gt;</th></tr>\n",
       "</thead>\n",
       "<tbody>\n",
       "\t<tr><td>Control</td><td>0</td><td>0 </td><td>0_0 </td><td> 60</td><td>522</td><td>0.114942529</td></tr>\n",
       "\t<tr><td>Control</td><td>0</td><td>1 </td><td>0_1 </td><td> 30</td><td>522</td><td>0.057471264</td></tr>\n",
       "\t<tr><td>Control</td><td>0</td><td>2 </td><td>0_2 </td><td>  8</td><td>522</td><td>0.015325670</td></tr>\n",
       "\t<tr><td>Control</td><td>0</td><td>3 </td><td>0_3 </td><td>  5</td><td>522</td><td>0.009578544</td></tr>\n",
       "\t<tr><td>Control</td><td>0</td><td>4 </td><td>0_4 </td><td> 54</td><td>522</td><td>0.103448276</td></tr>\n",
       "\t<tr><td>Control</td><td>0</td><td>6 </td><td>0_6 </td><td>  2</td><td>522</td><td>0.003831418</td></tr>\n",
       "\t<tr><td>Control</td><td>0</td><td>7 </td><td>0_7 </td><td> 11</td><td>522</td><td>0.021072797</td></tr>\n",
       "\t<tr><td>Control</td><td>0</td><td>8 </td><td>0_8 </td><td> 57</td><td>522</td><td>0.109195402</td></tr>\n",
       "\t<tr><td>Control</td><td>0</td><td>9 </td><td>0_9 </td><td> 10</td><td>522</td><td>0.019157088</td></tr>\n",
       "\t<tr><td>Control</td><td>0</td><td>10</td><td>0_10</td><td> 55</td><td>522</td><td>0.105363985</td></tr>\n",
       "\t<tr><td>Control</td><td>0</td><td>11</td><td>0_11</td><td>  4</td><td>522</td><td>0.007662835</td></tr>\n",
       "\t<tr><td>Control</td><td>0</td><td>12</td><td>0_12</td><td>  4</td><td>522</td><td>0.007662835</td></tr>\n",
       "\t<tr><td>Control</td><td>0</td><td>13</td><td>0_13</td><td> 18</td><td>522</td><td>0.034482759</td></tr>\n",
       "\t<tr><td>Control</td><td>0</td><td>14</td><td>0_14</td><td> 19</td><td>522</td><td>0.036398467</td></tr>\n",
       "\t<tr><td>Control</td><td>0</td><td>15</td><td>0_15</td><td> 95</td><td>522</td><td>0.181992337</td></tr>\n",
       "\t<tr><td>Control</td><td>0</td><td>16</td><td>0_16</td><td> 34</td><td>522</td><td>0.065134100</td></tr>\n",
       "\t<tr><td>Control</td><td>0</td><td>17</td><td>0_17</td><td>  3</td><td>522</td><td>0.005747126</td></tr>\n",
       "\t<tr><td>Control</td><td>0</td><td>18</td><td>0_18</td><td> 46</td><td>522</td><td>0.088122605</td></tr>\n",
       "\t<tr><td>Control</td><td>0</td><td>19</td><td>0_19</td><td>  7</td><td>522</td><td>0.013409962</td></tr>\n",
       "\t<tr><td>Control</td><td>1</td><td>0 </td><td>1_0 </td><td>  6</td><td>472</td><td>0.012711864</td></tr>\n",
       "\t<tr><td>Control</td><td>1</td><td>1 </td><td>1_1 </td><td>  2</td><td>472</td><td>0.004237288</td></tr>\n",
       "\t<tr><td>Control</td><td>1</td><td>2 </td><td>1_2 </td><td> 25</td><td>472</td><td>0.052966102</td></tr>\n",
       "\t<tr><td>Control</td><td>1</td><td>3 </td><td>1_3 </td><td>  4</td><td>472</td><td>0.008474576</td></tr>\n",
       "\t<tr><td>Control</td><td>1</td><td>4 </td><td>1_4 </td><td>135</td><td>472</td><td>0.286016949</td></tr>\n",
       "\t<tr><td>Control</td><td>1</td><td>5 </td><td>1_5 </td><td>  5</td><td>472</td><td>0.010593220</td></tr>\n",
       "\t<tr><td>Control</td><td>1</td><td>7 </td><td>1_7 </td><td>  9</td><td>472</td><td>0.019067797</td></tr>\n",
       "\t<tr><td>Control</td><td>1</td><td>8 </td><td>1_8 </td><td> 15</td><td>472</td><td>0.031779661</td></tr>\n",
       "\t<tr><td>Control</td><td>1</td><td>9 </td><td>1_9 </td><td>  1</td><td>472</td><td>0.002118644</td></tr>\n",
       "\t<tr><td>Control</td><td>1</td><td>10</td><td>1_10</td><td>  6</td><td>472</td><td>0.012711864</td></tr>\n",
       "\t<tr><td>Control</td><td>1</td><td>11</td><td>1_11</td><td>  5</td><td>472</td><td>0.010593220</td></tr>\n",
       "\t<tr><td>⋮</td><td>⋮</td><td>⋮</td><td>⋮</td><td>⋮</td><td>⋮</td><td>⋮</td></tr>\n",
       "\t<tr><td>Flt3l</td><td>2</td><td>10</td><td>2_10</td><td> 17</td><td>682</td><td>0.024926686</td></tr>\n",
       "\t<tr><td>Flt3l</td><td>2</td><td>11</td><td>2_11</td><td> 13</td><td>682</td><td>0.019061584</td></tr>\n",
       "\t<tr><td>Flt3l</td><td>2</td><td>12</td><td>2_12</td><td> 65</td><td>682</td><td>0.095307918</td></tr>\n",
       "\t<tr><td>Flt3l</td><td>2</td><td>13</td><td>2_13</td><td> 13</td><td>682</td><td>0.019061584</td></tr>\n",
       "\t<tr><td>Flt3l</td><td>2</td><td>14</td><td>2_14</td><td> 11</td><td>682</td><td>0.016129032</td></tr>\n",
       "\t<tr><td>Flt3l</td><td>2</td><td>15</td><td>2_15</td><td> 83</td><td>682</td><td>0.121700880</td></tr>\n",
       "\t<tr><td>Flt3l</td><td>2</td><td>16</td><td>2_16</td><td>  5</td><td>682</td><td>0.007331378</td></tr>\n",
       "\t<tr><td>Flt3l</td><td>2</td><td>17</td><td>2_17</td><td> 16</td><td>682</td><td>0.023460411</td></tr>\n",
       "\t<tr><td>Flt3l</td><td>2</td><td>18</td><td>2_18</td><td> 50</td><td>682</td><td>0.073313783</td></tr>\n",
       "\t<tr><td>Flt3l</td><td>2</td><td>19</td><td>2_19</td><td> 19</td><td>682</td><td>0.027859238</td></tr>\n",
       "\t<tr><td>Flt3l</td><td>3</td><td>0 </td><td>3_0 </td><td> 49</td><td>807</td><td>0.060718711</td></tr>\n",
       "\t<tr><td>Flt3l</td><td>3</td><td>1 </td><td>3_1 </td><td> 44</td><td>807</td><td>0.054522924</td></tr>\n",
       "\t<tr><td>Flt3l</td><td>3</td><td>2 </td><td>3_2 </td><td> 13</td><td>807</td><td>0.016109046</td></tr>\n",
       "\t<tr><td>Flt3l</td><td>3</td><td>3 </td><td>3_3 </td><td> 47</td><td>807</td><td>0.058240397</td></tr>\n",
       "\t<tr><td>Flt3l</td><td>3</td><td>4 </td><td>3_4 </td><td> 19</td><td>807</td><td>0.023543990</td></tr>\n",
       "\t<tr><td>Flt3l</td><td>3</td><td>5 </td><td>3_5 </td><td> 12</td><td>807</td><td>0.014869888</td></tr>\n",
       "\t<tr><td>Flt3l</td><td>3</td><td>6 </td><td>3_6 </td><td> 17</td><td>807</td><td>0.021065675</td></tr>\n",
       "\t<tr><td>Flt3l</td><td>3</td><td>7 </td><td>3_7 </td><td> 51</td><td>807</td><td>0.063197026</td></tr>\n",
       "\t<tr><td>Flt3l</td><td>3</td><td>8 </td><td>3_8 </td><td> 87</td><td>807</td><td>0.107806691</td></tr>\n",
       "\t<tr><td>Flt3l</td><td>3</td><td>9 </td><td>3_9 </td><td> 39</td><td>807</td><td>0.048327138</td></tr>\n",
       "\t<tr><td>Flt3l</td><td>3</td><td>10</td><td>3_10</td><td> 50</td><td>807</td><td>0.061957869</td></tr>\n",
       "\t<tr><td>Flt3l</td><td>3</td><td>11</td><td>3_11</td><td>  9</td><td>807</td><td>0.011152416</td></tr>\n",
       "\t<tr><td>Flt3l</td><td>3</td><td>12</td><td>3_12</td><td> 29</td><td>807</td><td>0.035935564</td></tr>\n",
       "\t<tr><td>Flt3l</td><td>3</td><td>13</td><td>3_13</td><td> 57</td><td>807</td><td>0.070631970</td></tr>\n",
       "\t<tr><td>Flt3l</td><td>3</td><td>14</td><td>3_14</td><td> 32</td><td>807</td><td>0.039653036</td></tr>\n",
       "\t<tr><td>Flt3l</td><td>3</td><td>15</td><td>3_15</td><td>101</td><td>807</td><td>0.125154895</td></tr>\n",
       "\t<tr><td>Flt3l</td><td>3</td><td>16</td><td>3_16</td><td>  8</td><td>807</td><td>0.009913259</td></tr>\n",
       "\t<tr><td>Flt3l</td><td>3</td><td>17</td><td>3_17</td><td> 64</td><td>807</td><td>0.079306072</td></tr>\n",
       "\t<tr><td>Flt3l</td><td>3</td><td>18</td><td>3_18</td><td> 38</td><td>807</td><td>0.047087980</td></tr>\n",
       "\t<tr><td>Flt3l</td><td>3</td><td>19</td><td>3_19</td><td> 41</td><td>807</td><td>0.050805452</td></tr>\n",
       "</tbody>\n",
       "</table>\n"
      ],
      "text/latex": [
       "A tibble: 149 × 7\n",
       "\\begin{tabular}{lllllll}\n",
       " condition & donor & lineage & name & size & total & norm\\\\\n",
       " <fct> & <fct> & <fct> & <fct> & <int> & <int> & <dbl>\\\\\n",
       "\\hline\n",
       "\t Control & 0 & 0  & 0\\_0  &  60 & 522 & 0.114942529\\\\\n",
       "\t Control & 0 & 1  & 0\\_1  &  30 & 522 & 0.057471264\\\\\n",
       "\t Control & 0 & 2  & 0\\_2  &   8 & 522 & 0.015325670\\\\\n",
       "\t Control & 0 & 3  & 0\\_3  &   5 & 522 & 0.009578544\\\\\n",
       "\t Control & 0 & 4  & 0\\_4  &  54 & 522 & 0.103448276\\\\\n",
       "\t Control & 0 & 6  & 0\\_6  &   2 & 522 & 0.003831418\\\\\n",
       "\t Control & 0 & 7  & 0\\_7  &  11 & 522 & 0.021072797\\\\\n",
       "\t Control & 0 & 8  & 0\\_8  &  57 & 522 & 0.109195402\\\\\n",
       "\t Control & 0 & 9  & 0\\_9  &  10 & 522 & 0.019157088\\\\\n",
       "\t Control & 0 & 10 & 0\\_10 &  55 & 522 & 0.105363985\\\\\n",
       "\t Control & 0 & 11 & 0\\_11 &   4 & 522 & 0.007662835\\\\\n",
       "\t Control & 0 & 12 & 0\\_12 &   4 & 522 & 0.007662835\\\\\n",
       "\t Control & 0 & 13 & 0\\_13 &  18 & 522 & 0.034482759\\\\\n",
       "\t Control & 0 & 14 & 0\\_14 &  19 & 522 & 0.036398467\\\\\n",
       "\t Control & 0 & 15 & 0\\_15 &  95 & 522 & 0.181992337\\\\\n",
       "\t Control & 0 & 16 & 0\\_16 &  34 & 522 & 0.065134100\\\\\n",
       "\t Control & 0 & 17 & 0\\_17 &   3 & 522 & 0.005747126\\\\\n",
       "\t Control & 0 & 18 & 0\\_18 &  46 & 522 & 0.088122605\\\\\n",
       "\t Control & 0 & 19 & 0\\_19 &   7 & 522 & 0.013409962\\\\\n",
       "\t Control & 1 & 0  & 1\\_0  &   6 & 472 & 0.012711864\\\\\n",
       "\t Control & 1 & 1  & 1\\_1  &   2 & 472 & 0.004237288\\\\\n",
       "\t Control & 1 & 2  & 1\\_2  &  25 & 472 & 0.052966102\\\\\n",
       "\t Control & 1 & 3  & 1\\_3  &   4 & 472 & 0.008474576\\\\\n",
       "\t Control & 1 & 4  & 1\\_4  & 135 & 472 & 0.286016949\\\\\n",
       "\t Control & 1 & 5  & 1\\_5  &   5 & 472 & 0.010593220\\\\\n",
       "\t Control & 1 & 7  & 1\\_7  &   9 & 472 & 0.019067797\\\\\n",
       "\t Control & 1 & 8  & 1\\_8  &  15 & 472 & 0.031779661\\\\\n",
       "\t Control & 1 & 9  & 1\\_9  &   1 & 472 & 0.002118644\\\\\n",
       "\t Control & 1 & 10 & 1\\_10 &   6 & 472 & 0.012711864\\\\\n",
       "\t Control & 1 & 11 & 1\\_11 &   5 & 472 & 0.010593220\\\\\n",
       "\t ⋮ & ⋮ & ⋮ & ⋮ & ⋮ & ⋮ & ⋮\\\\\n",
       "\t Flt3l & 2 & 10 & 2\\_10 &  17 & 682 & 0.024926686\\\\\n",
       "\t Flt3l & 2 & 11 & 2\\_11 &  13 & 682 & 0.019061584\\\\\n",
       "\t Flt3l & 2 & 12 & 2\\_12 &  65 & 682 & 0.095307918\\\\\n",
       "\t Flt3l & 2 & 13 & 2\\_13 &  13 & 682 & 0.019061584\\\\\n",
       "\t Flt3l & 2 & 14 & 2\\_14 &  11 & 682 & 0.016129032\\\\\n",
       "\t Flt3l & 2 & 15 & 2\\_15 &  83 & 682 & 0.121700880\\\\\n",
       "\t Flt3l & 2 & 16 & 2\\_16 &   5 & 682 & 0.007331378\\\\\n",
       "\t Flt3l & 2 & 17 & 2\\_17 &  16 & 682 & 0.023460411\\\\\n",
       "\t Flt3l & 2 & 18 & 2\\_18 &  50 & 682 & 0.073313783\\\\\n",
       "\t Flt3l & 2 & 19 & 2\\_19 &  19 & 682 & 0.027859238\\\\\n",
       "\t Flt3l & 3 & 0  & 3\\_0  &  49 & 807 & 0.060718711\\\\\n",
       "\t Flt3l & 3 & 1  & 3\\_1  &  44 & 807 & 0.054522924\\\\\n",
       "\t Flt3l & 3 & 2  & 3\\_2  &  13 & 807 & 0.016109046\\\\\n",
       "\t Flt3l & 3 & 3  & 3\\_3  &  47 & 807 & 0.058240397\\\\\n",
       "\t Flt3l & 3 & 4  & 3\\_4  &  19 & 807 & 0.023543990\\\\\n",
       "\t Flt3l & 3 & 5  & 3\\_5  &  12 & 807 & 0.014869888\\\\\n",
       "\t Flt3l & 3 & 6  & 3\\_6  &  17 & 807 & 0.021065675\\\\\n",
       "\t Flt3l & 3 & 7  & 3\\_7  &  51 & 807 & 0.063197026\\\\\n",
       "\t Flt3l & 3 & 8  & 3\\_8  &  87 & 807 & 0.107806691\\\\\n",
       "\t Flt3l & 3 & 9  & 3\\_9  &  39 & 807 & 0.048327138\\\\\n",
       "\t Flt3l & 3 & 10 & 3\\_10 &  50 & 807 & 0.061957869\\\\\n",
       "\t Flt3l & 3 & 11 & 3\\_11 &   9 & 807 & 0.011152416\\\\\n",
       "\t Flt3l & 3 & 12 & 3\\_12 &  29 & 807 & 0.035935564\\\\\n",
       "\t Flt3l & 3 & 13 & 3\\_13 &  57 & 807 & 0.070631970\\\\\n",
       "\t Flt3l & 3 & 14 & 3\\_14 &  32 & 807 & 0.039653036\\\\\n",
       "\t Flt3l & 3 & 15 & 3\\_15 & 101 & 807 & 0.125154895\\\\\n",
       "\t Flt3l & 3 & 16 & 3\\_16 &   8 & 807 & 0.009913259\\\\\n",
       "\t Flt3l & 3 & 17 & 3\\_17 &  64 & 807 & 0.079306072\\\\\n",
       "\t Flt3l & 3 & 18 & 3\\_18 &  38 & 807 & 0.047087980\\\\\n",
       "\t Flt3l & 3 & 19 & 3\\_19 &  41 & 807 & 0.050805452\\\\\n",
       "\\end{tabular}\n"
      ],
      "text/markdown": [
       "\n",
       "A tibble: 149 × 7\n",
       "\n",
       "| condition &lt;fct&gt; | donor &lt;fct&gt; | lineage &lt;fct&gt; | name &lt;fct&gt; | size &lt;int&gt; | total &lt;int&gt; | norm &lt;dbl&gt; |\n",
       "|---|---|---|---|---|---|---|\n",
       "| Control | 0 | 0  | 0_0  |  60 | 522 | 0.114942529 |\n",
       "| Control | 0 | 1  | 0_1  |  30 | 522 | 0.057471264 |\n",
       "| Control | 0 | 2  | 0_2  |   8 | 522 | 0.015325670 |\n",
       "| Control | 0 | 3  | 0_3  |   5 | 522 | 0.009578544 |\n",
       "| Control | 0 | 4  | 0_4  |  54 | 522 | 0.103448276 |\n",
       "| Control | 0 | 6  | 0_6  |   2 | 522 | 0.003831418 |\n",
       "| Control | 0 | 7  | 0_7  |  11 | 522 | 0.021072797 |\n",
       "| Control | 0 | 8  | 0_8  |  57 | 522 | 0.109195402 |\n",
       "| Control | 0 | 9  | 0_9  |  10 | 522 | 0.019157088 |\n",
       "| Control | 0 | 10 | 0_10 |  55 | 522 | 0.105363985 |\n",
       "| Control | 0 | 11 | 0_11 |   4 | 522 | 0.007662835 |\n",
       "| Control | 0 | 12 | 0_12 |   4 | 522 | 0.007662835 |\n",
       "| Control | 0 | 13 | 0_13 |  18 | 522 | 0.034482759 |\n",
       "| Control | 0 | 14 | 0_14 |  19 | 522 | 0.036398467 |\n",
       "| Control | 0 | 15 | 0_15 |  95 | 522 | 0.181992337 |\n",
       "| Control | 0 | 16 | 0_16 |  34 | 522 | 0.065134100 |\n",
       "| Control | 0 | 17 | 0_17 |   3 | 522 | 0.005747126 |\n",
       "| Control | 0 | 18 | 0_18 |  46 | 522 | 0.088122605 |\n",
       "| Control | 0 | 19 | 0_19 |   7 | 522 | 0.013409962 |\n",
       "| Control | 1 | 0  | 1_0  |   6 | 472 | 0.012711864 |\n",
       "| Control | 1 | 1  | 1_1  |   2 | 472 | 0.004237288 |\n",
       "| Control | 1 | 2  | 1_2  |  25 | 472 | 0.052966102 |\n",
       "| Control | 1 | 3  | 1_3  |   4 | 472 | 0.008474576 |\n",
       "| Control | 1 | 4  | 1_4  | 135 | 472 | 0.286016949 |\n",
       "| Control | 1 | 5  | 1_5  |   5 | 472 | 0.010593220 |\n",
       "| Control | 1 | 7  | 1_7  |   9 | 472 | 0.019067797 |\n",
       "| Control | 1 | 8  | 1_8  |  15 | 472 | 0.031779661 |\n",
       "| Control | 1 | 9  | 1_9  |   1 | 472 | 0.002118644 |\n",
       "| Control | 1 | 10 | 1_10 |   6 | 472 | 0.012711864 |\n",
       "| Control | 1 | 11 | 1_11 |   5 | 472 | 0.010593220 |\n",
       "| ⋮ | ⋮ | ⋮ | ⋮ | ⋮ | ⋮ | ⋮ |\n",
       "| Flt3l | 2 | 10 | 2_10 |  17 | 682 | 0.024926686 |\n",
       "| Flt3l | 2 | 11 | 2_11 |  13 | 682 | 0.019061584 |\n",
       "| Flt3l | 2 | 12 | 2_12 |  65 | 682 | 0.095307918 |\n",
       "| Flt3l | 2 | 13 | 2_13 |  13 | 682 | 0.019061584 |\n",
       "| Flt3l | 2 | 14 | 2_14 |  11 | 682 | 0.016129032 |\n",
       "| Flt3l | 2 | 15 | 2_15 |  83 | 682 | 0.121700880 |\n",
       "| Flt3l | 2 | 16 | 2_16 |   5 | 682 | 0.007331378 |\n",
       "| Flt3l | 2 | 17 | 2_17 |  16 | 682 | 0.023460411 |\n",
       "| Flt3l | 2 | 18 | 2_18 |  50 | 682 | 0.073313783 |\n",
       "| Flt3l | 2 | 19 | 2_19 |  19 | 682 | 0.027859238 |\n",
       "| Flt3l | 3 | 0  | 3_0  |  49 | 807 | 0.060718711 |\n",
       "| Flt3l | 3 | 1  | 3_1  |  44 | 807 | 0.054522924 |\n",
       "| Flt3l | 3 | 2  | 3_2  |  13 | 807 | 0.016109046 |\n",
       "| Flt3l | 3 | 3  | 3_3  |  47 | 807 | 0.058240397 |\n",
       "| Flt3l | 3 | 4  | 3_4  |  19 | 807 | 0.023543990 |\n",
       "| Flt3l | 3 | 5  | 3_5  |  12 | 807 | 0.014869888 |\n",
       "| Flt3l | 3 | 6  | 3_6  |  17 | 807 | 0.021065675 |\n",
       "| Flt3l | 3 | 7  | 3_7  |  51 | 807 | 0.063197026 |\n",
       "| Flt3l | 3 | 8  | 3_8  |  87 | 807 | 0.107806691 |\n",
       "| Flt3l | 3 | 9  | 3_9  |  39 | 807 | 0.048327138 |\n",
       "| Flt3l | 3 | 10 | 3_10 |  50 | 807 | 0.061957869 |\n",
       "| Flt3l | 3 | 11 | 3_11 |   9 | 807 | 0.011152416 |\n",
       "| Flt3l | 3 | 12 | 3_12 |  29 | 807 | 0.035935564 |\n",
       "| Flt3l | 3 | 13 | 3_13 |  57 | 807 | 0.070631970 |\n",
       "| Flt3l | 3 | 14 | 3_14 |  32 | 807 | 0.039653036 |\n",
       "| Flt3l | 3 | 15 | 3_15 | 101 | 807 | 0.125154895 |\n",
       "| Flt3l | 3 | 16 | 3_16 |   8 | 807 | 0.009913259 |\n",
       "| Flt3l | 3 | 17 | 3_17 |  64 | 807 | 0.079306072 |\n",
       "| Flt3l | 3 | 18 | 3_18 |  38 | 807 | 0.047087980 |\n",
       "| Flt3l | 3 | 19 | 3_19 |  41 | 807 | 0.050805452 |\n",
       "\n"
      ],
      "text/plain": [
       "    condition donor lineage name size total norm       \n",
       "1   Control   0     0       0_0   60  522   0.114942529\n",
       "2   Control   0     1       0_1   30  522   0.057471264\n",
       "3   Control   0     2       0_2    8  522   0.015325670\n",
       "4   Control   0     3       0_3    5  522   0.009578544\n",
       "5   Control   0     4       0_4   54  522   0.103448276\n",
       "6   Control   0     6       0_6    2  522   0.003831418\n",
       "7   Control   0     7       0_7   11  522   0.021072797\n",
       "8   Control   0     8       0_8   57  522   0.109195402\n",
       "9   Control   0     9       0_9   10  522   0.019157088\n",
       "10  Control   0     10      0_10  55  522   0.105363985\n",
       "11  Control   0     11      0_11   4  522   0.007662835\n",
       "12  Control   0     12      0_12   4  522   0.007662835\n",
       "13  Control   0     13      0_13  18  522   0.034482759\n",
       "14  Control   0     14      0_14  19  522   0.036398467\n",
       "15  Control   0     15      0_15  95  522   0.181992337\n",
       "16  Control   0     16      0_16  34  522   0.065134100\n",
       "17  Control   0     17      0_17   3  522   0.005747126\n",
       "18  Control   0     18      0_18  46  522   0.088122605\n",
       "19  Control   0     19      0_19   7  522   0.013409962\n",
       "20  Control   1     0       1_0    6  472   0.012711864\n",
       "21  Control   1     1       1_1    2  472   0.004237288\n",
       "22  Control   1     2       1_2   25  472   0.052966102\n",
       "23  Control   1     3       1_3    4  472   0.008474576\n",
       "24  Control   1     4       1_4  135  472   0.286016949\n",
       "25  Control   1     5       1_5    5  472   0.010593220\n",
       "26  Control   1     7       1_7    9  472   0.019067797\n",
       "27  Control   1     8       1_8   15  472   0.031779661\n",
       "28  Control   1     9       1_9    1  472   0.002118644\n",
       "29  Control   1     10      1_10   6  472   0.012711864\n",
       "30  Control   1     11      1_11   5  472   0.010593220\n",
       "⋮   ⋮         ⋮     ⋮       ⋮    ⋮    ⋮     ⋮          \n",
       "120 Flt3l     2     10      2_10  17  682   0.024926686\n",
       "121 Flt3l     2     11      2_11  13  682   0.019061584\n",
       "122 Flt3l     2     12      2_12  65  682   0.095307918\n",
       "123 Flt3l     2     13      2_13  13  682   0.019061584\n",
       "124 Flt3l     2     14      2_14  11  682   0.016129032\n",
       "125 Flt3l     2     15      2_15  83  682   0.121700880\n",
       "126 Flt3l     2     16      2_16   5  682   0.007331378\n",
       "127 Flt3l     2     17      2_17  16  682   0.023460411\n",
       "128 Flt3l     2     18      2_18  50  682   0.073313783\n",
       "129 Flt3l     2     19      2_19  19  682   0.027859238\n",
       "130 Flt3l     3     0       3_0   49  807   0.060718711\n",
       "131 Flt3l     3     1       3_1   44  807   0.054522924\n",
       "132 Flt3l     3     2       3_2   13  807   0.016109046\n",
       "133 Flt3l     3     3       3_3   47  807   0.058240397\n",
       "134 Flt3l     3     4       3_4   19  807   0.023543990\n",
       "135 Flt3l     3     5       3_5   12  807   0.014869888\n",
       "136 Flt3l     3     6       3_6   17  807   0.021065675\n",
       "137 Flt3l     3     7       3_7   51  807   0.063197026\n",
       "138 Flt3l     3     8       3_8   87  807   0.107806691\n",
       "139 Flt3l     3     9       3_9   39  807   0.048327138\n",
       "140 Flt3l     3     10      3_10  50  807   0.061957869\n",
       "141 Flt3l     3     11      3_11   9  807   0.011152416\n",
       "142 Flt3l     3     12      3_12  29  807   0.035935564\n",
       "143 Flt3l     3     13      3_13  57  807   0.070631970\n",
       "144 Flt3l     3     14      3_14  32  807   0.039653036\n",
       "145 Flt3l     3     15      3_15 101  807   0.125154895\n",
       "146 Flt3l     3     16      3_16   8  807   0.009913259\n",
       "147 Flt3l     3     17      3_17  64  807   0.079306072\n",
       "148 Flt3l     3     18      3_18  38  807   0.047087980\n",
       "149 Flt3l     3     19      3_19  41  807   0.050805452"
      ]
     },
     "metadata": {},
     "output_type": "display_data"
    }
   ],
   "source": [
    "counts.norm <- counts %>% group_by(condition, donor) %>% mutate(total=sum(size)) %>% ungroup() %>% mutate(norm=size/total)\n",
    "\n",
    "counts.norm "
   ]
  },
  {
   "cell_type": "code",
   "execution_count": 9,
   "id": "b15ba9af",
   "metadata": {
    "execution": {
     "iopub.execute_input": "2021-12-03T20:21:56.567918Z",
     "iopub.status.busy": "2021-12-03T20:21:56.565524Z",
     "iopub.status.idle": "2021-12-03T20:21:56.696067Z",
     "shell.execute_reply": "2021-12-03T20:21:56.694933Z"
    },
    "papermill": {
     "duration": 0.242392,
     "end_time": "2021-12-03T20:21:56.696359",
     "exception": false,
     "start_time": "2021-12-03T20:21:56.453967",
     "status": "completed"
    },
    "scrolled": true,
    "tags": []
   },
   "outputs": [
    {
     "name": "stderr",
     "output_type": "stream",
     "text": [
      "Warning message in xtfrm.data.frame(x):\n",
      "“cannot xtfrm data frames”\n"
     ]
    },
    {
     "data": {
      "text/html": [
       "<table class=\"dataframe\">\n",
       "<caption>A tibble: 149 × 7</caption>\n",
       "<thead>\n",
       "\t<tr><th scope=col>condition</th><th scope=col>donor</th><th scope=col>lineage</th><th scope=col>name</th><th scope=col>size</th><th scope=col>total</th><th scope=col>norm</th></tr>\n",
       "\t<tr><th scope=col>&lt;fct&gt;</th><th scope=col>&lt;fct&gt;</th><th scope=col>&lt;fct&gt;</th><th scope=col>&lt;fct&gt;</th><th scope=col>&lt;int&gt;</th><th scope=col>&lt;int&gt;</th><th scope=col>&lt;dbl&gt;</th></tr>\n",
       "</thead>\n",
       "<tbody>\n",
       "\t<tr><td>Control</td><td>1</td><td>4 </td><td>1_4 </td><td>135</td><td> 472</td><td>0.28601695</td></tr>\n",
       "\t<tr><td>Control</td><td>3</td><td>12</td><td>3_12</td><td> 88</td><td> 476</td><td>0.18487395</td></tr>\n",
       "\t<tr><td>Flt3l  </td><td>1</td><td>4 </td><td>1_4 </td><td>195</td><td>1071</td><td>0.18207283</td></tr>\n",
       "\t<tr><td>Control</td><td>0</td><td>15</td><td>0_15</td><td> 95</td><td> 522</td><td>0.18199234</td></tr>\n",
       "\t<tr><td>Control</td><td>1</td><td>13</td><td>1_13</td><td> 83</td><td> 472</td><td>0.17584746</td></tr>\n",
       "\t<tr><td>Control</td><td>2</td><td>3 </td><td>2_3 </td><td> 58</td><td> 345</td><td>0.16811594</td></tr>\n",
       "\t<tr><td>Control</td><td>1</td><td>18</td><td>1_18</td><td> 77</td><td> 472</td><td>0.16313559</td></tr>\n",
       "\t<tr><td>Control</td><td>2</td><td>9 </td><td>2_9 </td><td> 54</td><td> 345</td><td>0.15652174</td></tr>\n",
       "\t<tr><td>Flt3l  </td><td>2</td><td>7 </td><td>2_7 </td><td>100</td><td> 682</td><td>0.14662757</td></tr>\n",
       "\t<tr><td>Flt3l  </td><td>0</td><td>8 </td><td>0_8 </td><td>136</td><td> 962</td><td>0.14137214</td></tr>\n",
       "\t<tr><td>Control</td><td>2</td><td>4 </td><td>2_4 </td><td> 48</td><td> 345</td><td>0.13913043</td></tr>\n",
       "\t<tr><td>Control</td><td>1</td><td>16</td><td>1_16</td><td> 62</td><td> 472</td><td>0.13135593</td></tr>\n",
       "\t<tr><td>Flt3l  </td><td>2</td><td>5 </td><td>2_5 </td><td> 89</td><td> 682</td><td>0.13049853</td></tr>\n",
       "\t<tr><td>Control</td><td>2</td><td>15</td><td>2_15</td><td> 44</td><td> 345</td><td>0.12753623</td></tr>\n",
       "\t<tr><td>Flt3l  </td><td>3</td><td>15</td><td>3_15</td><td>101</td><td> 807</td><td>0.12515489</td></tr>\n",
       "\t<tr><td>Flt3l  </td><td>2</td><td>4 </td><td>2_4 </td><td> 84</td><td> 682</td><td>0.12316716</td></tr>\n",
       "\t<tr><td>Control</td><td>2</td><td>5 </td><td>2_5 </td><td> 42</td><td> 345</td><td>0.12173913</td></tr>\n",
       "\t<tr><td>Flt3l  </td><td>2</td><td>15</td><td>2_15</td><td> 83</td><td> 682</td><td>0.12170088</td></tr>\n",
       "\t<tr><td>Flt3l  </td><td>1</td><td>18</td><td>1_18</td><td>126</td><td>1071</td><td>0.11764706</td></tr>\n",
       "\t<tr><td>Control</td><td>0</td><td>0 </td><td>0_0 </td><td> 60</td><td> 522</td><td>0.11494253</td></tr>\n",
       "\t<tr><td>Flt3l  </td><td>1</td><td>13</td><td>1_13</td><td>120</td><td>1071</td><td>0.11204482</td></tr>\n",
       "\t<tr><td>Control</td><td>3</td><td>19</td><td>3_19</td><td> 52</td><td> 476</td><td>0.10924370</td></tr>\n",
       "\t<tr><td>Flt3l  </td><td>1</td><td>12</td><td>1_12</td><td>117</td><td>1071</td><td>0.10924370</td></tr>\n",
       "\t<tr><td>Control</td><td>0</td><td>8 </td><td>0_8 </td><td> 57</td><td> 522</td><td>0.10919540</td></tr>\n",
       "\t<tr><td>Flt3l  </td><td>3</td><td>8 </td><td>3_8 </td><td> 87</td><td> 807</td><td>0.10780669</td></tr>\n",
       "\t<tr><td>Flt3l  </td><td>1</td><td>16</td><td>1_16</td><td>113</td><td>1071</td><td>0.10550887</td></tr>\n",
       "\t<tr><td>Control</td><td>0</td><td>10</td><td>0_10</td><td> 55</td><td> 522</td><td>0.10536398</td></tr>\n",
       "\t<tr><td>Control</td><td>0</td><td>4 </td><td>0_4 </td><td> 54</td><td> 522</td><td>0.10344828</td></tr>\n",
       "\t<tr><td>Flt3l  </td><td>2</td><td>9 </td><td>2_9 </td><td> 70</td><td> 682</td><td>0.10263930</td></tr>\n",
       "\t<tr><td>Flt3l  </td><td>2</td><td>12</td><td>2_12</td><td> 65</td><td> 682</td><td>0.09530792</td></tr>\n",
       "\t<tr><td>⋮</td><td>⋮</td><td>⋮</td><td>⋮</td><td>⋮</td><td>⋮</td><td>⋮</td></tr>\n",
       "\t<tr><td>Control</td><td>1</td><td>11</td><td>1_11</td><td> 5</td><td> 472</td><td>0.010593220</td></tr>\n",
       "\t<tr><td>Control</td><td>3</td><td>11</td><td>3_11</td><td> 5</td><td> 476</td><td>0.010504202</td></tr>\n",
       "\t<tr><td>Flt3l  </td><td>3</td><td>16</td><td>3_16</td><td> 8</td><td> 807</td><td>0.009913259</td></tr>\n",
       "\t<tr><td>Control</td><td>0</td><td>3 </td><td>0_3 </td><td> 5</td><td> 522</td><td>0.009578544</td></tr>\n",
       "\t<tr><td>Flt3l  </td><td>1</td><td>10</td><td>1_10</td><td>10</td><td>1071</td><td>0.009337068</td></tr>\n",
       "\t<tr><td>Control</td><td>2</td><td>2 </td><td>2_2 </td><td> 3</td><td> 345</td><td>0.008695652</td></tr>\n",
       "\t<tr><td>Control</td><td>2</td><td>10</td><td>2_10</td><td> 3</td><td> 345</td><td>0.008695652</td></tr>\n",
       "\t<tr><td>Control</td><td>2</td><td>14</td><td>2_14</td><td> 3</td><td> 345</td><td>0.008695652</td></tr>\n",
       "\t<tr><td>Control</td><td>1</td><td>3 </td><td>1_3 </td><td> 4</td><td> 472</td><td>0.008474576</td></tr>\n",
       "\t<tr><td>Control</td><td>1</td><td>14</td><td>1_14</td><td> 4</td><td> 472</td><td>0.008474576</td></tr>\n",
       "\t<tr><td>Control</td><td>3</td><td>14</td><td>3_14</td><td> 4</td><td> 476</td><td>0.008403361</td></tr>\n",
       "\t<tr><td>Control</td><td>0</td><td>11</td><td>0_11</td><td> 4</td><td> 522</td><td>0.007662835</td></tr>\n",
       "\t<tr><td>Control</td><td>0</td><td>12</td><td>0_12</td><td> 4</td><td> 522</td><td>0.007662835</td></tr>\n",
       "\t<tr><td>Flt3l  </td><td>2</td><td>16</td><td>2_16</td><td> 5</td><td> 682</td><td>0.007331378</td></tr>\n",
       "\t<tr><td>Control</td><td>3</td><td>5 </td><td>3_5 </td><td> 3</td><td> 476</td><td>0.006302521</td></tr>\n",
       "\t<tr><td>Control</td><td>2</td><td>1 </td><td>2_1 </td><td> 2</td><td> 345</td><td>0.005797101</td></tr>\n",
       "\t<tr><td>Control</td><td>2</td><td>16</td><td>2_16</td><td> 2</td><td> 345</td><td>0.005797101</td></tr>\n",
       "\t<tr><td>Control</td><td>2</td><td>17</td><td>2_17</td><td> 2</td><td> 345</td><td>0.005797101</td></tr>\n",
       "\t<tr><td>Control</td><td>0</td><td>17</td><td>0_17</td><td> 3</td><td> 522</td><td>0.005747126</td></tr>\n",
       "\t<tr><td>Flt3l  </td><td>1</td><td>3 </td><td>1_3 </td><td> 6</td><td>1071</td><td>0.005602241</td></tr>\n",
       "\t<tr><td>Control</td><td>1</td><td>1 </td><td>1_1 </td><td> 2</td><td> 472</td><td>0.004237288</td></tr>\n",
       "\t<tr><td>Control</td><td>0</td><td>6 </td><td>0_6 </td><td> 2</td><td> 522</td><td>0.003831418</td></tr>\n",
       "\t<tr><td>Flt3l  </td><td>0</td><td>11</td><td>0_11</td><td> 3</td><td> 962</td><td>0.003118503</td></tr>\n",
       "\t<tr><td>Flt3l  </td><td>0</td><td>17</td><td>0_17</td><td> 3</td><td> 962</td><td>0.003118503</td></tr>\n",
       "\t<tr><td>Flt3l  </td><td>2</td><td>2 </td><td>2_2 </td><td> 2</td><td> 682</td><td>0.002932551</td></tr>\n",
       "\t<tr><td>Flt3l  </td><td>2</td><td>8 </td><td>2_8 </td><td> 2</td><td> 682</td><td>0.002932551</td></tr>\n",
       "\t<tr><td>Control</td><td>2</td><td>19</td><td>2_19</td><td> 1</td><td> 345</td><td>0.002898551</td></tr>\n",
       "\t<tr><td>Flt3l  </td><td>1</td><td>5 </td><td>1_5 </td><td> 3</td><td>1071</td><td>0.002801120</td></tr>\n",
       "\t<tr><td>Control</td><td>1</td><td>9 </td><td>1_9 </td><td> 1</td><td> 472</td><td>0.002118644</td></tr>\n",
       "\t<tr><td>Flt3l  </td><td>2</td><td>6 </td><td>2_6 </td><td> 1</td><td> 682</td><td>0.001466276</td></tr>\n",
       "</tbody>\n",
       "</table>\n"
      ],
      "text/latex": [
       "A tibble: 149 × 7\n",
       "\\begin{tabular}{lllllll}\n",
       " condition & donor & lineage & name & size & total & norm\\\\\n",
       " <fct> & <fct> & <fct> & <fct> & <int> & <int> & <dbl>\\\\\n",
       "\\hline\n",
       "\t Control & 1 & 4  & 1\\_4  & 135 &  472 & 0.28601695\\\\\n",
       "\t Control & 3 & 12 & 3\\_12 &  88 &  476 & 0.18487395\\\\\n",
       "\t Flt3l   & 1 & 4  & 1\\_4  & 195 & 1071 & 0.18207283\\\\\n",
       "\t Control & 0 & 15 & 0\\_15 &  95 &  522 & 0.18199234\\\\\n",
       "\t Control & 1 & 13 & 1\\_13 &  83 &  472 & 0.17584746\\\\\n",
       "\t Control & 2 & 3  & 2\\_3  &  58 &  345 & 0.16811594\\\\\n",
       "\t Control & 1 & 18 & 1\\_18 &  77 &  472 & 0.16313559\\\\\n",
       "\t Control & 2 & 9  & 2\\_9  &  54 &  345 & 0.15652174\\\\\n",
       "\t Flt3l   & 2 & 7  & 2\\_7  & 100 &  682 & 0.14662757\\\\\n",
       "\t Flt3l   & 0 & 8  & 0\\_8  & 136 &  962 & 0.14137214\\\\\n",
       "\t Control & 2 & 4  & 2\\_4  &  48 &  345 & 0.13913043\\\\\n",
       "\t Control & 1 & 16 & 1\\_16 &  62 &  472 & 0.13135593\\\\\n",
       "\t Flt3l   & 2 & 5  & 2\\_5  &  89 &  682 & 0.13049853\\\\\n",
       "\t Control & 2 & 15 & 2\\_15 &  44 &  345 & 0.12753623\\\\\n",
       "\t Flt3l   & 3 & 15 & 3\\_15 & 101 &  807 & 0.12515489\\\\\n",
       "\t Flt3l   & 2 & 4  & 2\\_4  &  84 &  682 & 0.12316716\\\\\n",
       "\t Control & 2 & 5  & 2\\_5  &  42 &  345 & 0.12173913\\\\\n",
       "\t Flt3l   & 2 & 15 & 2\\_15 &  83 &  682 & 0.12170088\\\\\n",
       "\t Flt3l   & 1 & 18 & 1\\_18 & 126 & 1071 & 0.11764706\\\\\n",
       "\t Control & 0 & 0  & 0\\_0  &  60 &  522 & 0.11494253\\\\\n",
       "\t Flt3l   & 1 & 13 & 1\\_13 & 120 & 1071 & 0.11204482\\\\\n",
       "\t Control & 3 & 19 & 3\\_19 &  52 &  476 & 0.10924370\\\\\n",
       "\t Flt3l   & 1 & 12 & 1\\_12 & 117 & 1071 & 0.10924370\\\\\n",
       "\t Control & 0 & 8  & 0\\_8  &  57 &  522 & 0.10919540\\\\\n",
       "\t Flt3l   & 3 & 8  & 3\\_8  &  87 &  807 & 0.10780669\\\\\n",
       "\t Flt3l   & 1 & 16 & 1\\_16 & 113 & 1071 & 0.10550887\\\\\n",
       "\t Control & 0 & 10 & 0\\_10 &  55 &  522 & 0.10536398\\\\\n",
       "\t Control & 0 & 4  & 0\\_4  &  54 &  522 & 0.10344828\\\\\n",
       "\t Flt3l   & 2 & 9  & 2\\_9  &  70 &  682 & 0.10263930\\\\\n",
       "\t Flt3l   & 2 & 12 & 2\\_12 &  65 &  682 & 0.09530792\\\\\n",
       "\t ⋮ & ⋮ & ⋮ & ⋮ & ⋮ & ⋮ & ⋮\\\\\n",
       "\t Control & 1 & 11 & 1\\_11 &  5 &  472 & 0.010593220\\\\\n",
       "\t Control & 3 & 11 & 3\\_11 &  5 &  476 & 0.010504202\\\\\n",
       "\t Flt3l   & 3 & 16 & 3\\_16 &  8 &  807 & 0.009913259\\\\\n",
       "\t Control & 0 & 3  & 0\\_3  &  5 &  522 & 0.009578544\\\\\n",
       "\t Flt3l   & 1 & 10 & 1\\_10 & 10 & 1071 & 0.009337068\\\\\n",
       "\t Control & 2 & 2  & 2\\_2  &  3 &  345 & 0.008695652\\\\\n",
       "\t Control & 2 & 10 & 2\\_10 &  3 &  345 & 0.008695652\\\\\n",
       "\t Control & 2 & 14 & 2\\_14 &  3 &  345 & 0.008695652\\\\\n",
       "\t Control & 1 & 3  & 1\\_3  &  4 &  472 & 0.008474576\\\\\n",
       "\t Control & 1 & 14 & 1\\_14 &  4 &  472 & 0.008474576\\\\\n",
       "\t Control & 3 & 14 & 3\\_14 &  4 &  476 & 0.008403361\\\\\n",
       "\t Control & 0 & 11 & 0\\_11 &  4 &  522 & 0.007662835\\\\\n",
       "\t Control & 0 & 12 & 0\\_12 &  4 &  522 & 0.007662835\\\\\n",
       "\t Flt3l   & 2 & 16 & 2\\_16 &  5 &  682 & 0.007331378\\\\\n",
       "\t Control & 3 & 5  & 3\\_5  &  3 &  476 & 0.006302521\\\\\n",
       "\t Control & 2 & 1  & 2\\_1  &  2 &  345 & 0.005797101\\\\\n",
       "\t Control & 2 & 16 & 2\\_16 &  2 &  345 & 0.005797101\\\\\n",
       "\t Control & 2 & 17 & 2\\_17 &  2 &  345 & 0.005797101\\\\\n",
       "\t Control & 0 & 17 & 0\\_17 &  3 &  522 & 0.005747126\\\\\n",
       "\t Flt3l   & 1 & 3  & 1\\_3  &  6 & 1071 & 0.005602241\\\\\n",
       "\t Control & 1 & 1  & 1\\_1  &  2 &  472 & 0.004237288\\\\\n",
       "\t Control & 0 & 6  & 0\\_6  &  2 &  522 & 0.003831418\\\\\n",
       "\t Flt3l   & 0 & 11 & 0\\_11 &  3 &  962 & 0.003118503\\\\\n",
       "\t Flt3l   & 0 & 17 & 0\\_17 &  3 &  962 & 0.003118503\\\\\n",
       "\t Flt3l   & 2 & 2  & 2\\_2  &  2 &  682 & 0.002932551\\\\\n",
       "\t Flt3l   & 2 & 8  & 2\\_8  &  2 &  682 & 0.002932551\\\\\n",
       "\t Control & 2 & 19 & 2\\_19 &  1 &  345 & 0.002898551\\\\\n",
       "\t Flt3l   & 1 & 5  & 1\\_5  &  3 & 1071 & 0.002801120\\\\\n",
       "\t Control & 1 & 9  & 1\\_9  &  1 &  472 & 0.002118644\\\\\n",
       "\t Flt3l   & 2 & 6  & 2\\_6  &  1 &  682 & 0.001466276\\\\\n",
       "\\end{tabular}\n"
      ],
      "text/markdown": [
       "\n",
       "A tibble: 149 × 7\n",
       "\n",
       "| condition &lt;fct&gt; | donor &lt;fct&gt; | lineage &lt;fct&gt; | name &lt;fct&gt; | size &lt;int&gt; | total &lt;int&gt; | norm &lt;dbl&gt; |\n",
       "|---|---|---|---|---|---|---|\n",
       "| Control | 1 | 4  | 1_4  | 135 |  472 | 0.28601695 |\n",
       "| Control | 3 | 12 | 3_12 |  88 |  476 | 0.18487395 |\n",
       "| Flt3l   | 1 | 4  | 1_4  | 195 | 1071 | 0.18207283 |\n",
       "| Control | 0 | 15 | 0_15 |  95 |  522 | 0.18199234 |\n",
       "| Control | 1 | 13 | 1_13 |  83 |  472 | 0.17584746 |\n",
       "| Control | 2 | 3  | 2_3  |  58 |  345 | 0.16811594 |\n",
       "| Control | 1 | 18 | 1_18 |  77 |  472 | 0.16313559 |\n",
       "| Control | 2 | 9  | 2_9  |  54 |  345 | 0.15652174 |\n",
       "| Flt3l   | 2 | 7  | 2_7  | 100 |  682 | 0.14662757 |\n",
       "| Flt3l   | 0 | 8  | 0_8  | 136 |  962 | 0.14137214 |\n",
       "| Control | 2 | 4  | 2_4  |  48 |  345 | 0.13913043 |\n",
       "| Control | 1 | 16 | 1_16 |  62 |  472 | 0.13135593 |\n",
       "| Flt3l   | 2 | 5  | 2_5  |  89 |  682 | 0.13049853 |\n",
       "| Control | 2 | 15 | 2_15 |  44 |  345 | 0.12753623 |\n",
       "| Flt3l   | 3 | 15 | 3_15 | 101 |  807 | 0.12515489 |\n",
       "| Flt3l   | 2 | 4  | 2_4  |  84 |  682 | 0.12316716 |\n",
       "| Control | 2 | 5  | 2_5  |  42 |  345 | 0.12173913 |\n",
       "| Flt3l   | 2 | 15 | 2_15 |  83 |  682 | 0.12170088 |\n",
       "| Flt3l   | 1 | 18 | 1_18 | 126 | 1071 | 0.11764706 |\n",
       "| Control | 0 | 0  | 0_0  |  60 |  522 | 0.11494253 |\n",
       "| Flt3l   | 1 | 13 | 1_13 | 120 | 1071 | 0.11204482 |\n",
       "| Control | 3 | 19 | 3_19 |  52 |  476 | 0.10924370 |\n",
       "| Flt3l   | 1 | 12 | 1_12 | 117 | 1071 | 0.10924370 |\n",
       "| Control | 0 | 8  | 0_8  |  57 |  522 | 0.10919540 |\n",
       "| Flt3l   | 3 | 8  | 3_8  |  87 |  807 | 0.10780669 |\n",
       "| Flt3l   | 1 | 16 | 1_16 | 113 | 1071 | 0.10550887 |\n",
       "| Control | 0 | 10 | 0_10 |  55 |  522 | 0.10536398 |\n",
       "| Control | 0 | 4  | 0_4  |  54 |  522 | 0.10344828 |\n",
       "| Flt3l   | 2 | 9  | 2_9  |  70 |  682 | 0.10263930 |\n",
       "| Flt3l   | 2 | 12 | 2_12 |  65 |  682 | 0.09530792 |\n",
       "| ⋮ | ⋮ | ⋮ | ⋮ | ⋮ | ⋮ | ⋮ |\n",
       "| Control | 1 | 11 | 1_11 |  5 |  472 | 0.010593220 |\n",
       "| Control | 3 | 11 | 3_11 |  5 |  476 | 0.010504202 |\n",
       "| Flt3l   | 3 | 16 | 3_16 |  8 |  807 | 0.009913259 |\n",
       "| Control | 0 | 3  | 0_3  |  5 |  522 | 0.009578544 |\n",
       "| Flt3l   | 1 | 10 | 1_10 | 10 | 1071 | 0.009337068 |\n",
       "| Control | 2 | 2  | 2_2  |  3 |  345 | 0.008695652 |\n",
       "| Control | 2 | 10 | 2_10 |  3 |  345 | 0.008695652 |\n",
       "| Control | 2 | 14 | 2_14 |  3 |  345 | 0.008695652 |\n",
       "| Control | 1 | 3  | 1_3  |  4 |  472 | 0.008474576 |\n",
       "| Control | 1 | 14 | 1_14 |  4 |  472 | 0.008474576 |\n",
       "| Control | 3 | 14 | 3_14 |  4 |  476 | 0.008403361 |\n",
       "| Control | 0 | 11 | 0_11 |  4 |  522 | 0.007662835 |\n",
       "| Control | 0 | 12 | 0_12 |  4 |  522 | 0.007662835 |\n",
       "| Flt3l   | 2 | 16 | 2_16 |  5 |  682 | 0.007331378 |\n",
       "| Control | 3 | 5  | 3_5  |  3 |  476 | 0.006302521 |\n",
       "| Control | 2 | 1  | 2_1  |  2 |  345 | 0.005797101 |\n",
       "| Control | 2 | 16 | 2_16 |  2 |  345 | 0.005797101 |\n",
       "| Control | 2 | 17 | 2_17 |  2 |  345 | 0.005797101 |\n",
       "| Control | 0 | 17 | 0_17 |  3 |  522 | 0.005747126 |\n",
       "| Flt3l   | 1 | 3  | 1_3  |  6 | 1071 | 0.005602241 |\n",
       "| Control | 1 | 1  | 1_1  |  2 |  472 | 0.004237288 |\n",
       "| Control | 0 | 6  | 0_6  |  2 |  522 | 0.003831418 |\n",
       "| Flt3l   | 0 | 11 | 0_11 |  3 |  962 | 0.003118503 |\n",
       "| Flt3l   | 0 | 17 | 0_17 |  3 |  962 | 0.003118503 |\n",
       "| Flt3l   | 2 | 2  | 2_2  |  2 |  682 | 0.002932551 |\n",
       "| Flt3l   | 2 | 8  | 2_8  |  2 |  682 | 0.002932551 |\n",
       "| Control | 2 | 19 | 2_19 |  1 |  345 | 0.002898551 |\n",
       "| Flt3l   | 1 | 5  | 1_5  |  3 | 1071 | 0.002801120 |\n",
       "| Control | 1 | 9  | 1_9  |  1 |  472 | 0.002118644 |\n",
       "| Flt3l   | 2 | 6  | 2_6  |  1 |  682 | 0.001466276 |\n",
       "\n"
      ],
      "text/plain": [
       "    condition donor lineage name size total norm       \n",
       "1   Control   1     4       1_4  135   472  0.28601695 \n",
       "2   Control   3     12      3_12  88   476  0.18487395 \n",
       "3   Flt3l     1     4       1_4  195  1071  0.18207283 \n",
       "4   Control   0     15      0_15  95   522  0.18199234 \n",
       "5   Control   1     13      1_13  83   472  0.17584746 \n",
       "6   Control   2     3       2_3   58   345  0.16811594 \n",
       "7   Control   1     18      1_18  77   472  0.16313559 \n",
       "8   Control   2     9       2_9   54   345  0.15652174 \n",
       "9   Flt3l     2     7       2_7  100   682  0.14662757 \n",
       "10  Flt3l     0     8       0_8  136   962  0.14137214 \n",
       "11  Control   2     4       2_4   48   345  0.13913043 \n",
       "12  Control   1     16      1_16  62   472  0.13135593 \n",
       "13  Flt3l     2     5       2_5   89   682  0.13049853 \n",
       "14  Control   2     15      2_15  44   345  0.12753623 \n",
       "15  Flt3l     3     15      3_15 101   807  0.12515489 \n",
       "16  Flt3l     2     4       2_4   84   682  0.12316716 \n",
       "17  Control   2     5       2_5   42   345  0.12173913 \n",
       "18  Flt3l     2     15      2_15  83   682  0.12170088 \n",
       "19  Flt3l     1     18      1_18 126  1071  0.11764706 \n",
       "20  Control   0     0       0_0   60   522  0.11494253 \n",
       "21  Flt3l     1     13      1_13 120  1071  0.11204482 \n",
       "22  Control   3     19      3_19  52   476  0.10924370 \n",
       "23  Flt3l     1     12      1_12 117  1071  0.10924370 \n",
       "24  Control   0     8       0_8   57   522  0.10919540 \n",
       "25  Flt3l     3     8       3_8   87   807  0.10780669 \n",
       "26  Flt3l     1     16      1_16 113  1071  0.10550887 \n",
       "27  Control   0     10      0_10  55   522  0.10536398 \n",
       "28  Control   0     4       0_4   54   522  0.10344828 \n",
       "29  Flt3l     2     9       2_9   70   682  0.10263930 \n",
       "30  Flt3l     2     12      2_12  65   682  0.09530792 \n",
       "⋮   ⋮         ⋮     ⋮       ⋮    ⋮    ⋮     ⋮          \n",
       "120 Control   1     11      1_11  5    472  0.010593220\n",
       "121 Control   3     11      3_11  5    476  0.010504202\n",
       "122 Flt3l     3     16      3_16  8    807  0.009913259\n",
       "123 Control   0     3       0_3   5    522  0.009578544\n",
       "124 Flt3l     1     10      1_10 10   1071  0.009337068\n",
       "125 Control   2     2       2_2   3    345  0.008695652\n",
       "126 Control   2     10      2_10  3    345  0.008695652\n",
       "127 Control   2     14      2_14  3    345  0.008695652\n",
       "128 Control   1     3       1_3   4    472  0.008474576\n",
       "129 Control   1     14      1_14  4    472  0.008474576\n",
       "130 Control   3     14      3_14  4    476  0.008403361\n",
       "131 Control   0     11      0_11  4    522  0.007662835\n",
       "132 Control   0     12      0_12  4    522  0.007662835\n",
       "133 Flt3l     2     16      2_16  5    682  0.007331378\n",
       "134 Control   3     5       3_5   3    476  0.006302521\n",
       "135 Control   2     1       2_1   2    345  0.005797101\n",
       "136 Control   2     16      2_16  2    345  0.005797101\n",
       "137 Control   2     17      2_17  2    345  0.005797101\n",
       "138 Control   0     17      0_17  3    522  0.005747126\n",
       "139 Flt3l     1     3       1_3   6   1071  0.005602241\n",
       "140 Control   1     1       1_1   2    472  0.004237288\n",
       "141 Control   0     6       0_6   2    522  0.003831418\n",
       "142 Flt3l     0     11      0_11  3    962  0.003118503\n",
       "143 Flt3l     0     17      0_17  3    962  0.003118503\n",
       "144 Flt3l     2     2       2_2   2    682  0.002932551\n",
       "145 Flt3l     2     8       2_8   2    682  0.002932551\n",
       "146 Control   2     19      2_19  1    345  0.002898551\n",
       "147 Flt3l     1     5       1_5   3   1071  0.002801120\n",
       "148 Control   1     9       1_9   1    472  0.002118644\n",
       "149 Flt3l     2     6       2_6   1    682  0.001466276"
      ]
     },
     "metadata": {},
     "output_type": "display_data"
    }
   ],
   "source": [
    "counts.norm.sizes = counts.norm[order(counts.norm[,\"norm\"], decreasing=T),]\n",
    "counts.norm.sizes"
   ]
  },
  {
   "cell_type": "code",
   "execution_count": 10,
   "id": "67b08dba",
   "metadata": {
    "execution": {
     "iopub.execute_input": "2021-12-03T20:21:56.920486Z",
     "iopub.status.busy": "2021-12-03T20:21:56.916815Z",
     "iopub.status.idle": "2021-12-03T20:21:57.060367Z",
     "shell.execute_reply": "2021-12-03T20:21:57.059246Z"
    },
    "papermill": {
     "duration": 0.253016,
     "end_time": "2021-12-03T20:21:57.060600",
     "exception": false,
     "start_time": "2021-12-03T20:21:56.807584",
     "status": "completed"
    },
    "scrolled": true,
    "tags": []
   },
   "outputs": [
    {
     "name": "stderr",
     "output_type": "stream",
     "text": [
      "`summarise()` has grouped output by 'donor'. You can override using the `.groups` argument.\n",
      "\n"
     ]
    },
    {
     "data": {
      "text/html": [
       "<table class=\"dataframe\">\n",
       "<caption>A grouped_df: 76 × 5</caption>\n",
       "<thead>\n",
       "\t<tr><th scope=col>donor</th><th scope=col>lineage</th><th scope=col>norm.total</th><th scope=col>total</th><th scope=col>name</th></tr>\n",
       "\t<tr><th scope=col>&lt;fct&gt;</th><th scope=col>&lt;fct&gt;</th><th scope=col>&lt;dbl&gt;</th><th scope=col>&lt;int&gt;</th><th scope=col>&lt;fct&gt;</th></tr>\n",
       "</thead>\n",
       "<tbody>\n",
       "\t<tr><td>1</td><td>4 </td><td>0.4680898</td><td>330</td><td>1_4 </td></tr>\n",
       "\t<tr><td>1</td><td>13</td><td>0.2878923</td><td>203</td><td>1_13</td></tr>\n",
       "\t<tr><td>1</td><td>18</td><td>0.2807827</td><td>203</td><td>1_18</td></tr>\n",
       "\t<tr><td>2</td><td>4 </td><td>0.2622976</td><td>132</td><td>2_4 </td></tr>\n",
       "\t<tr><td>2</td><td>9 </td><td>0.2591610</td><td>124</td><td>2_9 </td></tr>\n",
       "\t<tr><td>2</td><td>5 </td><td>0.2522377</td><td>131</td><td>2_5 </td></tr>\n",
       "\t<tr><td>0</td><td>8 </td><td>0.2505675</td><td>193</td><td>0_8 </td></tr>\n",
       "\t<tr><td>2</td><td>15</td><td>0.2492371</td><td>127</td><td>2_15</td></tr>\n",
       "\t<tr><td>2</td><td>7 </td><td>0.2393812</td><td>132</td><td>2_7 </td></tr>\n",
       "\t<tr><td>1</td><td>16</td><td>0.2368648</td><td>175</td><td>1_16</td></tr>\n",
       "\t<tr><td>0</td><td>15</td><td>0.2256514</td><td>137</td><td>0_15</td></tr>\n",
       "\t<tr><td>3</td><td>12</td><td>0.2208095</td><td>117</td><td>3_12</td></tr>\n",
       "\t<tr><td>2</td><td>3 </td><td>0.2165030</td><td> 91</td><td>2_3 </td></tr>\n",
       "\t<tr><td>0</td><td>0 </td><td>0.1866681</td><td>129</td><td>0_0 </td></tr>\n",
       "\t<tr><td>0</td><td>4 </td><td>0.1845294</td><td>132</td><td>0_4 </td></tr>\n",
       "\t<tr><td>2</td><td>12</td><td>0.1793659</td><td> 94</td><td>2_12</td></tr>\n",
       "\t<tr><td>0</td><td>18</td><td>0.1775197</td><td>132</td><td>0_18</td></tr>\n",
       "\t<tr><td>3</td><td>15</td><td>0.1734742</td><td>124</td><td>3_15</td></tr>\n",
       "\t<tr><td>3</td><td>8 </td><td>0.1666302</td><td>115</td><td>3_8 </td></tr>\n",
       "\t<tr><td>3</td><td>17</td><td>0.1633397</td><td>104</td><td>3_17</td></tr>\n",
       "\t<tr><td>1</td><td>12</td><td>0.1622098</td><td>142</td><td>1_12</td></tr>\n",
       "\t<tr><td>3</td><td>19</td><td>0.1600491</td><td> 93</td><td>3_19</td></tr>\n",
       "\t<tr><td>0</td><td>10</td><td>0.1542205</td><td>102</td><td>0_10</td></tr>\n",
       "\t<tr><td>1</td><td>2 </td><td>0.1416682</td><td>120</td><td>1_2 </td></tr>\n",
       "\t<tr><td>3</td><td>7 </td><td>0.1304239</td><td> 83</td><td>3_7 </td></tr>\n",
       "\t<tr><td>0</td><td>1 </td><td>0.1250388</td><td> 95</td><td>0_1 </td></tr>\n",
       "\t<tr><td>0</td><td>16</td><td>0.1212672</td><td> 88</td><td>0_16</td></tr>\n",
       "\t<tr><td>3</td><td>13</td><td>0.1189513</td><td> 80</td><td>3_13</td></tr>\n",
       "\t<tr><td>3</td><td>10</td><td>0.1186806</td><td> 77</td><td>3_10</td></tr>\n",
       "\t<tr><td>1</td><td>8 </td><td>0.1139459</td><td>103</td><td>1_8 </td></tr>\n",
       "\t<tr><td>⋮</td><td>⋮</td><td>⋮</td><td>⋮</td><td>⋮</td></tr>\n",
       "\t<tr><td>2</td><td>11</td><td>0.042249989</td><td>21</td><td>2_11</td></tr>\n",
       "\t<tr><td>0</td><td>19</td><td>0.041476490</td><td>34</td><td>0_19</td></tr>\n",
       "\t<tr><td>3</td><td>6 </td><td>0.037872398</td><td>25</td><td>3_6 </td></tr>\n",
       "\t<tr><td>1</td><td>7 </td><td>0.037741933</td><td>29</td><td>1_7 </td></tr>\n",
       "\t<tr><td>3</td><td>2 </td><td>0.037117449</td><td>23</td><td>3_2 </td></tr>\n",
       "\t<tr><td>2</td><td>13</td><td>0.036452888</td><td>19</td><td>2_13</td></tr>\n",
       "\t<tr><td>0</td><td>6 </td><td>0.036055950</td><td>33</td><td>0_6 </td></tr>\n",
       "\t<tr><td>2</td><td>10</td><td>0.033622338</td><td>20</td><td>2_10</td></tr>\n",
       "\t<tr><td>1</td><td>1 </td><td>0.033182199</td><td>33</td><td>1_1 </td></tr>\n",
       "\t<tr><td>3</td><td>16</td><td>0.033022503</td><td>19</td><td>3_16</td></tr>\n",
       "\t<tr><td>1</td><td>14</td><td>0.032750953</td><td>30</td><td>1_14</td></tr>\n",
       "\t<tr><td>0</td><td>12</td><td>0.032610860</td><td>28</td><td>0_12</td></tr>\n",
       "\t<tr><td>2</td><td>19</td><td>0.030757788</td><td>20</td><td>2_19</td></tr>\n",
       "\t<tr><td>2</td><td>17</td><td>0.029257512</td><td>18</td><td>2_17</td></tr>\n",
       "\t<tr><td>1</td><td>0 </td><td>0.025783760</td><td>20</td><td>1_0 </td></tr>\n",
       "\t<tr><td>2</td><td>14</td><td>0.024824684</td><td>14</td><td>2_14</td></tr>\n",
       "\t<tr><td>1</td><td>10</td><td>0.022048933</td><td>16</td><td>1_10</td></tr>\n",
       "\t<tr><td>3</td><td>11</td><td>0.021656618</td><td>14</td><td>3_11</td></tr>\n",
       "\t<tr><td>3</td><td>5 </td><td>0.021172409</td><td>15</td><td>3_5 </td></tr>\n",
       "\t<tr><td>2</td><td>1 </td><td>0.018993582</td><td>11</td><td>2_1 </td></tr>\n",
       "\t<tr><td>1</td><td>9 </td><td>0.017991660</td><td>18</td><td>1_9 </td></tr>\n",
       "\t<tr><td>1</td><td>15</td><td>0.014939309</td><td>16</td><td>1_15</td></tr>\n",
       "\t<tr><td>1</td><td>3 </td><td>0.014076817</td><td>10</td><td>1_3 </td></tr>\n",
       "\t<tr><td>1</td><td>5 </td><td>0.013394341</td><td> 8</td><td>1_5 </td></tr>\n",
       "\t<tr><td>2</td><td>16</td><td>0.013128480</td><td> 7</td><td>2_16</td></tr>\n",
       "\t<tr><td>2</td><td>2 </td><td>0.011628203</td><td> 5</td><td>2_2 </td></tr>\n",
       "\t<tr><td>0</td><td>11</td><td>0.010781338</td><td> 7</td><td>0_11</td></tr>\n",
       "\t<tr><td>0</td><td>17</td><td>0.008865630</td><td> 6</td><td>0_17</td></tr>\n",
       "\t<tr><td>2</td><td>8 </td><td>0.002932551</td><td> 2</td><td>2_8 </td></tr>\n",
       "\t<tr><td>2</td><td>6 </td><td>0.001466276</td><td> 1</td><td>2_6 </td></tr>\n",
       "</tbody>\n",
       "</table>\n"
      ],
      "text/latex": [
       "A grouped\\_df: 76 × 5\n",
       "\\begin{tabular}{lllll}\n",
       " donor & lineage & norm.total & total & name\\\\\n",
       " <fct> & <fct> & <dbl> & <int> & <fct>\\\\\n",
       "\\hline\n",
       "\t 1 & 4  & 0.4680898 & 330 & 1\\_4 \\\\\n",
       "\t 1 & 13 & 0.2878923 & 203 & 1\\_13\\\\\n",
       "\t 1 & 18 & 0.2807827 & 203 & 1\\_18\\\\\n",
       "\t 2 & 4  & 0.2622976 & 132 & 2\\_4 \\\\\n",
       "\t 2 & 9  & 0.2591610 & 124 & 2\\_9 \\\\\n",
       "\t 2 & 5  & 0.2522377 & 131 & 2\\_5 \\\\\n",
       "\t 0 & 8  & 0.2505675 & 193 & 0\\_8 \\\\\n",
       "\t 2 & 15 & 0.2492371 & 127 & 2\\_15\\\\\n",
       "\t 2 & 7  & 0.2393812 & 132 & 2\\_7 \\\\\n",
       "\t 1 & 16 & 0.2368648 & 175 & 1\\_16\\\\\n",
       "\t 0 & 15 & 0.2256514 & 137 & 0\\_15\\\\\n",
       "\t 3 & 12 & 0.2208095 & 117 & 3\\_12\\\\\n",
       "\t 2 & 3  & 0.2165030 &  91 & 2\\_3 \\\\\n",
       "\t 0 & 0  & 0.1866681 & 129 & 0\\_0 \\\\\n",
       "\t 0 & 4  & 0.1845294 & 132 & 0\\_4 \\\\\n",
       "\t 2 & 12 & 0.1793659 &  94 & 2\\_12\\\\\n",
       "\t 0 & 18 & 0.1775197 & 132 & 0\\_18\\\\\n",
       "\t 3 & 15 & 0.1734742 & 124 & 3\\_15\\\\\n",
       "\t 3 & 8  & 0.1666302 & 115 & 3\\_8 \\\\\n",
       "\t 3 & 17 & 0.1633397 & 104 & 3\\_17\\\\\n",
       "\t 1 & 12 & 0.1622098 & 142 & 1\\_12\\\\\n",
       "\t 3 & 19 & 0.1600491 &  93 & 3\\_19\\\\\n",
       "\t 0 & 10 & 0.1542205 & 102 & 0\\_10\\\\\n",
       "\t 1 & 2  & 0.1416682 & 120 & 1\\_2 \\\\\n",
       "\t 3 & 7  & 0.1304239 &  83 & 3\\_7 \\\\\n",
       "\t 0 & 1  & 0.1250388 &  95 & 0\\_1 \\\\\n",
       "\t 0 & 16 & 0.1212672 &  88 & 0\\_16\\\\\n",
       "\t 3 & 13 & 0.1189513 &  80 & 3\\_13\\\\\n",
       "\t 3 & 10 & 0.1186806 &  77 & 3\\_10\\\\\n",
       "\t 1 & 8  & 0.1139459 & 103 & 1\\_8 \\\\\n",
       "\t ⋮ & ⋮ & ⋮ & ⋮ & ⋮\\\\\n",
       "\t 2 & 11 & 0.042249989 & 21 & 2\\_11\\\\\n",
       "\t 0 & 19 & 0.041476490 & 34 & 0\\_19\\\\\n",
       "\t 3 & 6  & 0.037872398 & 25 & 3\\_6 \\\\\n",
       "\t 1 & 7  & 0.037741933 & 29 & 1\\_7 \\\\\n",
       "\t 3 & 2  & 0.037117449 & 23 & 3\\_2 \\\\\n",
       "\t 2 & 13 & 0.036452888 & 19 & 2\\_13\\\\\n",
       "\t 0 & 6  & 0.036055950 & 33 & 0\\_6 \\\\\n",
       "\t 2 & 10 & 0.033622338 & 20 & 2\\_10\\\\\n",
       "\t 1 & 1  & 0.033182199 & 33 & 1\\_1 \\\\\n",
       "\t 3 & 16 & 0.033022503 & 19 & 3\\_16\\\\\n",
       "\t 1 & 14 & 0.032750953 & 30 & 1\\_14\\\\\n",
       "\t 0 & 12 & 0.032610860 & 28 & 0\\_12\\\\\n",
       "\t 2 & 19 & 0.030757788 & 20 & 2\\_19\\\\\n",
       "\t 2 & 17 & 0.029257512 & 18 & 2\\_17\\\\\n",
       "\t 1 & 0  & 0.025783760 & 20 & 1\\_0 \\\\\n",
       "\t 2 & 14 & 0.024824684 & 14 & 2\\_14\\\\\n",
       "\t 1 & 10 & 0.022048933 & 16 & 1\\_10\\\\\n",
       "\t 3 & 11 & 0.021656618 & 14 & 3\\_11\\\\\n",
       "\t 3 & 5  & 0.021172409 & 15 & 3\\_5 \\\\\n",
       "\t 2 & 1  & 0.018993582 & 11 & 2\\_1 \\\\\n",
       "\t 1 & 9  & 0.017991660 & 18 & 1\\_9 \\\\\n",
       "\t 1 & 15 & 0.014939309 & 16 & 1\\_15\\\\\n",
       "\t 1 & 3  & 0.014076817 & 10 & 1\\_3 \\\\\n",
       "\t 1 & 5  & 0.013394341 &  8 & 1\\_5 \\\\\n",
       "\t 2 & 16 & 0.013128480 &  7 & 2\\_16\\\\\n",
       "\t 2 & 2  & 0.011628203 &  5 & 2\\_2 \\\\\n",
       "\t 0 & 11 & 0.010781338 &  7 & 0\\_11\\\\\n",
       "\t 0 & 17 & 0.008865630 &  6 & 0\\_17\\\\\n",
       "\t 2 & 8  & 0.002932551 &  2 & 2\\_8 \\\\\n",
       "\t 2 & 6  & 0.001466276 &  1 & 2\\_6 \\\\\n",
       "\\end{tabular}\n"
      ],
      "text/markdown": [
       "\n",
       "A grouped_df: 76 × 5\n",
       "\n",
       "| donor &lt;fct&gt; | lineage &lt;fct&gt; | norm.total &lt;dbl&gt; | total &lt;int&gt; | name &lt;fct&gt; |\n",
       "|---|---|---|---|---|\n",
       "| 1 | 4  | 0.4680898 | 330 | 1_4  |\n",
       "| 1 | 13 | 0.2878923 | 203 | 1_13 |\n",
       "| 1 | 18 | 0.2807827 | 203 | 1_18 |\n",
       "| 2 | 4  | 0.2622976 | 132 | 2_4  |\n",
       "| 2 | 9  | 0.2591610 | 124 | 2_9  |\n",
       "| 2 | 5  | 0.2522377 | 131 | 2_5  |\n",
       "| 0 | 8  | 0.2505675 | 193 | 0_8  |\n",
       "| 2 | 15 | 0.2492371 | 127 | 2_15 |\n",
       "| 2 | 7  | 0.2393812 | 132 | 2_7  |\n",
       "| 1 | 16 | 0.2368648 | 175 | 1_16 |\n",
       "| 0 | 15 | 0.2256514 | 137 | 0_15 |\n",
       "| 3 | 12 | 0.2208095 | 117 | 3_12 |\n",
       "| 2 | 3  | 0.2165030 |  91 | 2_3  |\n",
       "| 0 | 0  | 0.1866681 | 129 | 0_0  |\n",
       "| 0 | 4  | 0.1845294 | 132 | 0_4  |\n",
       "| 2 | 12 | 0.1793659 |  94 | 2_12 |\n",
       "| 0 | 18 | 0.1775197 | 132 | 0_18 |\n",
       "| 3 | 15 | 0.1734742 | 124 | 3_15 |\n",
       "| 3 | 8  | 0.1666302 | 115 | 3_8  |\n",
       "| 3 | 17 | 0.1633397 | 104 | 3_17 |\n",
       "| 1 | 12 | 0.1622098 | 142 | 1_12 |\n",
       "| 3 | 19 | 0.1600491 |  93 | 3_19 |\n",
       "| 0 | 10 | 0.1542205 | 102 | 0_10 |\n",
       "| 1 | 2  | 0.1416682 | 120 | 1_2  |\n",
       "| 3 | 7  | 0.1304239 |  83 | 3_7  |\n",
       "| 0 | 1  | 0.1250388 |  95 | 0_1  |\n",
       "| 0 | 16 | 0.1212672 |  88 | 0_16 |\n",
       "| 3 | 13 | 0.1189513 |  80 | 3_13 |\n",
       "| 3 | 10 | 0.1186806 |  77 | 3_10 |\n",
       "| 1 | 8  | 0.1139459 | 103 | 1_8  |\n",
       "| ⋮ | ⋮ | ⋮ | ⋮ | ⋮ |\n",
       "| 2 | 11 | 0.042249989 | 21 | 2_11 |\n",
       "| 0 | 19 | 0.041476490 | 34 | 0_19 |\n",
       "| 3 | 6  | 0.037872398 | 25 | 3_6  |\n",
       "| 1 | 7  | 0.037741933 | 29 | 1_7  |\n",
       "| 3 | 2  | 0.037117449 | 23 | 3_2  |\n",
       "| 2 | 13 | 0.036452888 | 19 | 2_13 |\n",
       "| 0 | 6  | 0.036055950 | 33 | 0_6  |\n",
       "| 2 | 10 | 0.033622338 | 20 | 2_10 |\n",
       "| 1 | 1  | 0.033182199 | 33 | 1_1  |\n",
       "| 3 | 16 | 0.033022503 | 19 | 3_16 |\n",
       "| 1 | 14 | 0.032750953 | 30 | 1_14 |\n",
       "| 0 | 12 | 0.032610860 | 28 | 0_12 |\n",
       "| 2 | 19 | 0.030757788 | 20 | 2_19 |\n",
       "| 2 | 17 | 0.029257512 | 18 | 2_17 |\n",
       "| 1 | 0  | 0.025783760 | 20 | 1_0  |\n",
       "| 2 | 14 | 0.024824684 | 14 | 2_14 |\n",
       "| 1 | 10 | 0.022048933 | 16 | 1_10 |\n",
       "| 3 | 11 | 0.021656618 | 14 | 3_11 |\n",
       "| 3 | 5  | 0.021172409 | 15 | 3_5  |\n",
       "| 2 | 1  | 0.018993582 | 11 | 2_1  |\n",
       "| 1 | 9  | 0.017991660 | 18 | 1_9  |\n",
       "| 1 | 15 | 0.014939309 | 16 | 1_15 |\n",
       "| 1 | 3  | 0.014076817 | 10 | 1_3  |\n",
       "| 1 | 5  | 0.013394341 |  8 | 1_5  |\n",
       "| 2 | 16 | 0.013128480 |  7 | 2_16 |\n",
       "| 2 | 2  | 0.011628203 |  5 | 2_2  |\n",
       "| 0 | 11 | 0.010781338 |  7 | 0_11 |\n",
       "| 0 | 17 | 0.008865630 |  6 | 0_17 |\n",
       "| 2 | 8  | 0.002932551 |  2 | 2_8  |\n",
       "| 2 | 6  | 0.001466276 |  1 | 2_6  |\n",
       "\n"
      ],
      "text/plain": [
       "   donor lineage norm.total  total name\n",
       "1  1     4       0.4680898   330   1_4 \n",
       "2  1     13      0.2878923   203   1_13\n",
       "3  1     18      0.2807827   203   1_18\n",
       "4  2     4       0.2622976   132   2_4 \n",
       "5  2     9       0.2591610   124   2_9 \n",
       "6  2     5       0.2522377   131   2_5 \n",
       "7  0     8       0.2505675   193   0_8 \n",
       "8  2     15      0.2492371   127   2_15\n",
       "9  2     7       0.2393812   132   2_7 \n",
       "10 1     16      0.2368648   175   1_16\n",
       "11 0     15      0.2256514   137   0_15\n",
       "12 3     12      0.2208095   117   3_12\n",
       "13 2     3       0.2165030    91   2_3 \n",
       "14 0     0       0.1866681   129   0_0 \n",
       "15 0     4       0.1845294   132   0_4 \n",
       "16 2     12      0.1793659    94   2_12\n",
       "17 0     18      0.1775197   132   0_18\n",
       "18 3     15      0.1734742   124   3_15\n",
       "19 3     8       0.1666302   115   3_8 \n",
       "20 3     17      0.1633397   104   3_17\n",
       "21 1     12      0.1622098   142   1_12\n",
       "22 3     19      0.1600491    93   3_19\n",
       "23 0     10      0.1542205   102   0_10\n",
       "24 1     2       0.1416682   120   1_2 \n",
       "25 3     7       0.1304239    83   3_7 \n",
       "26 0     1       0.1250388    95   0_1 \n",
       "27 0     16      0.1212672    88   0_16\n",
       "28 3     13      0.1189513    80   3_13\n",
       "29 3     10      0.1186806    77   3_10\n",
       "30 1     8       0.1139459   103   1_8 \n",
       "⋮  ⋮     ⋮       ⋮           ⋮     ⋮   \n",
       "47 2     11      0.042249989 21    2_11\n",
       "48 0     19      0.041476490 34    0_19\n",
       "49 3     6       0.037872398 25    3_6 \n",
       "50 1     7       0.037741933 29    1_7 \n",
       "51 3     2       0.037117449 23    3_2 \n",
       "52 2     13      0.036452888 19    2_13\n",
       "53 0     6       0.036055950 33    0_6 \n",
       "54 2     10      0.033622338 20    2_10\n",
       "55 1     1       0.033182199 33    1_1 \n",
       "56 3     16      0.033022503 19    3_16\n",
       "57 1     14      0.032750953 30    1_14\n",
       "58 0     12      0.032610860 28    0_12\n",
       "59 2     19      0.030757788 20    2_19\n",
       "60 2     17      0.029257512 18    2_17\n",
       "61 1     0       0.025783760 20    1_0 \n",
       "62 2     14      0.024824684 14    2_14\n",
       "63 1     10      0.022048933 16    1_10\n",
       "64 3     11      0.021656618 14    3_11\n",
       "65 3     5       0.021172409 15    3_5 \n",
       "66 2     1       0.018993582 11    2_1 \n",
       "67 1     9       0.017991660 18    1_9 \n",
       "68 1     15      0.014939309 16    1_15\n",
       "69 1     3       0.014076817 10    1_3 \n",
       "70 1     5       0.013394341  8    1_5 \n",
       "71 2     16      0.013128480  7    2_16\n",
       "72 2     2       0.011628203  5    2_2 \n",
       "73 0     11      0.010781338  7    0_11\n",
       "74 0     17      0.008865630  6    0_17\n",
       "75 2     8       0.002932551  2    2_8 \n",
       "76 2     6       0.001466276  1    2_6 "
      ]
     },
     "metadata": {},
     "output_type": "display_data"
    }
   ],
   "source": [
    "clone.sizes <- counts.norm.sizes %>% \n",
    "               group_by(donor,lineage) %>% \n",
    "               summarize(norm.total=sum(norm), total=sum(size)) %>% \n",
    "               arrange(desc(norm.total)) %>% \n",
    "               mutate(name=factor(paste0(donor,\"_\", lineage)))\n",
    "\n",
    "\n",
    "clone.sizes"
   ]
  },
  {
   "cell_type": "code",
   "execution_count": 11,
   "id": "c5259eb4",
   "metadata": {
    "execution": {
     "iopub.execute_input": "2021-12-03T20:21:57.282176Z",
     "iopub.status.busy": "2021-12-03T20:21:57.278306Z",
     "iopub.status.idle": "2021-12-03T20:21:57.323128Z",
     "shell.execute_reply": "2021-12-03T20:21:57.320677Z"
    },
    "papermill": {
     "duration": 0.156616,
     "end_time": "2021-12-03T20:21:57.323484",
     "exception": false,
     "start_time": "2021-12-03T20:21:57.166868",
     "status": "completed"
    },
    "scrolled": true,
    "tags": []
   },
   "outputs": [],
   "source": [
    "clone.sizes <- clone.sizes %>% group_by(donor) %>% arrange(donor, desc(norm.total)) %>% \n",
    "                               mutate(cdf.norm=cumsum(norm.total)/2, cdf =cumsum(total),\n",
    "                                      index=1:n()) %>% \n",
    "                               ungroup %>% arrange(donor, desc(norm.total)) \n",
    "#head(clone.sizes,100)"
   ]
  },
  {
   "cell_type": "code",
   "execution_count": null,
   "id": "2817d47e",
   "metadata": {
    "papermill": {
     "duration": 0.105843,
     "end_time": "2021-12-03T20:21:57.539808",
     "exception": false,
     "start_time": "2021-12-03T20:21:57.433965",
     "status": "completed"
    },
    "tags": []
   },
   "outputs": [],
   "source": []
  },
  {
   "cell_type": "code",
   "execution_count": 12,
   "id": "fde9c568",
   "metadata": {
    "execution": {
     "iopub.execute_input": "2021-12-03T20:21:57.763598Z",
     "iopub.status.busy": "2021-12-03T20:21:57.759776Z",
     "iopub.status.idle": "2021-12-03T20:21:59.021871Z",
     "shell.execute_reply": "2021-12-03T20:21:59.022676Z"
    },
    "papermill": {
     "duration": 1.375878,
     "end_time": "2021-12-03T20:21:59.022938",
     "exception": false,
     "start_time": "2021-12-03T20:21:57.647060",
     "status": "completed"
    },
    "scrolled": true,
    "tags": []
   },
   "outputs": [
    {
     "name": "stderr",
     "output_type": "stream",
     "text": [
      "Saving 6.67 x 6.67 in image\n",
      "\n"
     ]
    },
    {
     "data": {
      "image/png": "[encoded data removed]",
      "text/plain": [
       "plot without title"
      ]
     },
     "metadata": {
      "image/png": {
       "height": 420,
       "width": 420
      }
     },
     "output_type": "display_data"
    }
   ],
   "source": [
    "p <- ggplot(data = clone.sizes, aes(index, cdf.norm)) +\n",
    "  geom_point(color = \"steelblue\", size = 1) +\n",
    "  facet_wrap(~ donor) \n",
    "\n",
    "p <- p + geom_hline(yintercept=cdf_thresh, color='green') \n",
    "ggsave(file.path(outdir, \"clones.cdf.png\"))\n",
    "p\n"
   ]
  },
  {
   "cell_type": "code",
   "execution_count": 13,
   "id": "10e0018a",
   "metadata": {
    "execution": {
     "iopub.execute_input": "2021-12-03T20:21:59.283806Z",
     "iopub.status.busy": "2021-12-03T20:21:59.280050Z",
     "iopub.status.idle": "2021-12-03T20:21:59.311384Z",
     "shell.execute_reply": "2021-12-03T20:21:59.309624Z"
    },
    "papermill": {
     "duration": 0.162496,
     "end_time": "2021-12-03T20:21:59.311564",
     "exception": false,
     "start_time": "2021-12-03T20:21:59.149068",
     "status": "completed"
    },
    "tags": []
   },
   "outputs": [
    {
     "data": {
      "text/html": [
       "0.110404756698218"
      ],
      "text/latex": [
       "0.110404756698218"
      ],
      "text/markdown": [
       "0.110404756698218"
      ],
      "text/plain": [
       "[1] 0.1104048"
      ]
     },
     "metadata": {},
     "output_type": "display_data"
    },
    {
     "data": {
      "text/html": [
       "1"
      ],
      "text/latex": [
       "1"
      ],
      "text/markdown": [
       "1"
      ],
      "text/plain": [
       "[1] 1"
      ]
     },
     "metadata": {},
     "output_type": "display_data"
    }
   ],
   "source": [
    "min(clone.sizes$cdf.norm)\n",
    "max(clone.sizes$cdf.norm)"
   ]
  },
  {
   "cell_type": "code",
   "execution_count": 14,
   "id": "d172f01e",
   "metadata": {
    "execution": {
     "iopub.execute_input": "2021-12-03T20:21:59.573579Z",
     "iopub.status.busy": "2021-12-03T20:21:59.569654Z",
     "iopub.status.idle": "2021-12-03T20:21:59.680537Z",
     "shell.execute_reply": "2021-12-03T20:21:59.679604Z"
    },
    "papermill": {
     "duration": 0.237056,
     "end_time": "2021-12-03T20:21:59.680773",
     "exception": false,
     "start_time": "2021-12-03T20:21:59.443717",
     "status": "completed"
    },
    "scrolled": true,
    "tags": []
   },
   "outputs": [
    {
     "data": {
      "text/html": [
       "<table class=\"dataframe\">\n",
       "<caption>A tibble: 76 × 8</caption>\n",
       "<thead>\n",
       "\t<tr><th scope=col>donor</th><th scope=col>lineage</th><th scope=col>norm.total</th><th scope=col>total</th><th scope=col>name</th><th scope=col>cdf.norm</th><th scope=col>cdf</th><th scope=col>index</th></tr>\n",
       "\t<tr><th scope=col>&lt;fct&gt;</th><th scope=col>&lt;fct&gt;</th><th scope=col>&lt;dbl&gt;</th><th scope=col>&lt;int&gt;</th><th scope=col>&lt;fct&gt;</th><th scope=col>&lt;dbl&gt;</th><th scope=col>&lt;int&gt;</th><th scope=col>&lt;int&gt;</th></tr>\n",
       "</thead>\n",
       "<tbody>\n",
       "\t<tr><td>0</td><td>8 </td><td>0.25056754</td><td>193</td><td>0_8 </td><td>0.1252838</td><td> 193</td><td> 1</td></tr>\n",
       "\t<tr><td>0</td><td>15</td><td>0.22565138</td><td>137</td><td>0_15</td><td>0.2381095</td><td> 330</td><td> 2</td></tr>\n",
       "\t<tr><td>0</td><td>0 </td><td>0.18666810</td><td>129</td><td>0_0 </td><td>0.3314435</td><td> 459</td><td> 3</td></tr>\n",
       "\t<tr><td>0</td><td>4 </td><td>0.18452936</td><td>132</td><td>0_4 </td><td>0.4237082</td><td> 591</td><td> 4</td></tr>\n",
       "\t<tr><td>0</td><td>18</td><td>0.17751969</td><td>132</td><td>0_18</td><td>0.5124680</td><td> 723</td><td> 5</td></tr>\n",
       "\t<tr><td>0</td><td>10</td><td>0.15422053</td><td>102</td><td>0_10</td><td>0.5895783</td><td> 825</td><td> 6</td></tr>\n",
       "\t<tr><td>0</td><td>1 </td><td>0.12503883</td><td> 95</td><td>0_1 </td><td>0.6520977</td><td> 920</td><td> 7</td></tr>\n",
       "\t<tr><td>0</td><td>16</td><td>0.12126716</td><td> 88</td><td>0_16</td><td>0.7127313</td><td>1008</td><td> 8</td></tr>\n",
       "\t<tr><td>0</td><td>14</td><td>0.09876853</td><td> 79</td><td>0_14</td><td>0.7621156</td><td>1087</td><td> 9</td></tr>\n",
       "\t<tr><td>0</td><td>7 </td><td>0.09279837</td><td> 80</td><td>0_7 </td><td>0.8085147</td><td>1167</td><td>10</td></tr>\n",
       "\t<tr><td>0</td><td>13</td><td>0.07710230</td><td> 59</td><td>0_13</td><td>0.8470659</td><td>1226</td><td>11</td></tr>\n",
       "\t<tr><td>0</td><td>9 </td><td>0.07632965</td><td> 65</td><td>0_9 </td><td>0.8852307</td><td>1291</td><td>12</td></tr>\n",
       "\t<tr><td>0</td><td>2 </td><td>0.05690571</td><td> 48</td><td>0_2 </td><td>0.9136836</td><td>1339</td><td>13</td></tr>\n",
       "\t<tr><td>0</td><td>3 </td><td>0.04284258</td><td> 37</td><td>0_3 </td><td>0.9351049</td><td>1376</td><td>14</td></tr>\n",
       "\t<tr><td>0</td><td>19</td><td>0.04147649</td><td> 34</td><td>0_19</td><td>0.9558431</td><td>1410</td><td>15</td></tr>\n",
       "\t<tr><td>0</td><td>6 </td><td>0.03605595</td><td> 33</td><td>0_6 </td><td>0.9738711</td><td>1443</td><td>16</td></tr>\n",
       "\t<tr><td>0</td><td>12</td><td>0.03261086</td><td> 28</td><td>0_12</td><td>0.9901765</td><td>1471</td><td>17</td></tr>\n",
       "\t<tr><td>0</td><td>11</td><td>0.01078134</td><td>  7</td><td>0_11</td><td>0.9955672</td><td>1478</td><td>18</td></tr>\n",
       "\t<tr><td>0</td><td>17</td><td>0.00886563</td><td>  6</td><td>0_17</td><td>1.0000000</td><td>1484</td><td>19</td></tr>\n",
       "\t<tr><td>1</td><td>4 </td><td>0.46808978</td><td>330</td><td>1_4 </td><td>0.2340449</td><td> 330</td><td> 1</td></tr>\n",
       "\t<tr><td>1</td><td>13</td><td>0.28789228</td><td>203</td><td>1_13</td><td>0.3779910</td><td> 533</td><td> 2</td></tr>\n",
       "\t<tr><td>1</td><td>18</td><td>0.28078265</td><td>203</td><td>1_18</td><td>0.5183824</td><td> 736</td><td> 3</td></tr>\n",
       "\t<tr><td>1</td><td>16</td><td>0.23686480</td><td>175</td><td>1_16</td><td>0.6368148</td><td> 911</td><td> 4</td></tr>\n",
       "\t<tr><td>1</td><td>12</td><td>0.16220980</td><td>142</td><td>1_12</td><td>0.7179197</td><td>1053</td><td> 5</td></tr>\n",
       "\t<tr><td>1</td><td>2 </td><td>0.14166825</td><td>120</td><td>1_2 </td><td>0.7887538</td><td>1173</td><td> 6</td></tr>\n",
       "\t<tr><td>1</td><td>8 </td><td>0.11394586</td><td>103</td><td>1_8 </td><td>0.8457267</td><td>1276</td><td> 7</td></tr>\n",
       "\t<tr><td>1</td><td>17</td><td>0.05243001</td><td> 46</td><td>1_17</td><td>0.8719417</td><td>1322</td><td> 8</td></tr>\n",
       "\t<tr><td>1</td><td>11</td><td>0.04420667</td><td> 41</td><td>1_11</td><td>0.8940450</td><td>1363</td><td> 9</td></tr>\n",
       "\t<tr><td>1</td><td>7 </td><td>0.03774193</td><td> 29</td><td>1_7 </td><td>0.9129160</td><td>1392</td><td>10</td></tr>\n",
       "\t<tr><td>1</td><td>1 </td><td>0.03318220</td><td> 33</td><td>1_1 </td><td>0.9295071</td><td>1425</td><td>11</td></tr>\n",
       "\t<tr><td>⋮</td><td>⋮</td><td>⋮</td><td>⋮</td><td>⋮</td><td>⋮</td><td>⋮</td><td>⋮</td></tr>\n",
       "\t<tr><td>2</td><td>13</td><td>0.036452888</td><td> 19</td><td>2_13</td><td>0.9166943</td><td> 929</td><td>10</td></tr>\n",
       "\t<tr><td>2</td><td>10</td><td>0.033622338</td><td> 20</td><td>2_10</td><td>0.9335055</td><td> 949</td><td>11</td></tr>\n",
       "\t<tr><td>2</td><td>19</td><td>0.030757788</td><td> 20</td><td>2_19</td><td>0.9488844</td><td> 969</td><td>12</td></tr>\n",
       "\t<tr><td>2</td><td>17</td><td>0.029257512</td><td> 18</td><td>2_17</td><td>0.9635131</td><td> 987</td><td>13</td></tr>\n",
       "\t<tr><td>2</td><td>14</td><td>0.024824684</td><td> 14</td><td>2_14</td><td>0.9759255</td><td>1001</td><td>14</td></tr>\n",
       "\t<tr><td>2</td><td>1 </td><td>0.018993582</td><td> 11</td><td>2_1 </td><td>0.9854222</td><td>1012</td><td>15</td></tr>\n",
       "\t<tr><td>2</td><td>16</td><td>0.013128480</td><td>  7</td><td>2_16</td><td>0.9919865</td><td>1019</td><td>16</td></tr>\n",
       "\t<tr><td>2</td><td>2 </td><td>0.011628203</td><td>  5</td><td>2_2 </td><td>0.9978006</td><td>1024</td><td>17</td></tr>\n",
       "\t<tr><td>2</td><td>8 </td><td>0.002932551</td><td>  2</td><td>2_8 </td><td>0.9992669</td><td>1026</td><td>18</td></tr>\n",
       "\t<tr><td>2</td><td>6 </td><td>0.001466276</td><td>  1</td><td>2_6 </td><td>1.0000000</td><td>1027</td><td>19</td></tr>\n",
       "\t<tr><td>3</td><td>12</td><td>0.220809513</td><td>117</td><td>3_12</td><td>0.1104048</td><td> 117</td><td> 1</td></tr>\n",
       "\t<tr><td>3</td><td>15</td><td>0.173474222</td><td>124</td><td>3_15</td><td>0.1971419</td><td> 241</td><td> 2</td></tr>\n",
       "\t<tr><td>3</td><td>8 </td><td>0.166630221</td><td>115</td><td>3_8 </td><td>0.2804570</td><td> 356</td><td> 3</td></tr>\n",
       "\t<tr><td>3</td><td>17</td><td>0.163339685</td><td>104</td><td>3_17</td><td>0.3621268</td><td> 460</td><td> 4</td></tr>\n",
       "\t<tr><td>3</td><td>19</td><td>0.160049150</td><td> 93</td><td>3_19</td><td>0.4421514</td><td> 553</td><td> 5</td></tr>\n",
       "\t<tr><td>3</td><td>7 </td><td>0.130423917</td><td> 83</td><td>3_7 </td><td>0.5073634</td><td> 636</td><td> 6</td></tr>\n",
       "\t<tr><td>3</td><td>13</td><td>0.118951298</td><td> 80</td><td>3_13</td><td>0.5668390</td><td> 716</td><td> 7</td></tr>\n",
       "\t<tr><td>3</td><td>10</td><td>0.118680558</td><td> 77</td><td>3_10</td><td>0.6261793</td><td> 793</td><td> 8</td></tr>\n",
       "\t<tr><td>3</td><td>1 </td><td>0.111245613</td><td> 71</td><td>3_1 </td><td>0.6818021</td><td> 864</td><td> 9</td></tr>\n",
       "\t<tr><td>3</td><td>3 </td><td>0.108660565</td><td> 71</td><td>3_3 </td><td>0.7361324</td><td> 935</td><td>10</td></tr>\n",
       "\t<tr><td>3</td><td>9 </td><td>0.088243104</td><td> 58</td><td>3_9 </td><td>0.7802539</td><td> 993</td><td>11</td></tr>\n",
       "\t<tr><td>3</td><td>0 </td><td>0.088029636</td><td> 62</td><td>3_0 </td><td>0.8242687</td><td>1055</td><td>12</td></tr>\n",
       "\t<tr><td>3</td><td>18</td><td>0.082802266</td><td> 55</td><td>3_18</td><td>0.8656699</td><td>1110</td><td>13</td></tr>\n",
       "\t<tr><td>3</td><td>4 </td><td>0.069762477</td><td> 41</td><td>3_4 </td><td>0.9005511</td><td>1151</td><td>14</td></tr>\n",
       "\t<tr><td>3</td><td>14</td><td>0.048056397</td><td> 36</td><td>3_14</td><td>0.9245793</td><td>1187</td><td>15</td></tr>\n",
       "\t<tr><td>3</td><td>6 </td><td>0.037872398</td><td> 25</td><td>3_6 </td><td>0.9435155</td><td>1212</td><td>16</td></tr>\n",
       "\t<tr><td>3</td><td>2 </td><td>0.037117449</td><td> 23</td><td>3_2 </td><td>0.9620742</td><td>1235</td><td>17</td></tr>\n",
       "\t<tr><td>3</td><td>16</td><td>0.033022503</td><td> 19</td><td>3_16</td><td>0.9785855</td><td>1254</td><td>18</td></tr>\n",
       "\t<tr><td>3</td><td>11</td><td>0.021656618</td><td> 14</td><td>3_11</td><td>0.9894138</td><td>1268</td><td>19</td></tr>\n",
       "\t<tr><td>3</td><td>5 </td><td>0.021172409</td><td> 15</td><td>3_5 </td><td>1.0000000</td><td>1283</td><td>20</td></tr>\n",
       "</tbody>\n",
       "</table>\n"
      ],
      "text/latex": [
       "A tibble: 76 × 8\n",
       "\\begin{tabular}{llllllll}\n",
       " donor & lineage & norm.total & total & name & cdf.norm & cdf & index\\\\\n",
       " <fct> & <fct> & <dbl> & <int> & <fct> & <dbl> & <int> & <int>\\\\\n",
       "\\hline\n",
       "\t 0 & 8  & 0.25056754 & 193 & 0\\_8  & 0.1252838 &  193 &  1\\\\\n",
       "\t 0 & 15 & 0.22565138 & 137 & 0\\_15 & 0.2381095 &  330 &  2\\\\\n",
       "\t 0 & 0  & 0.18666810 & 129 & 0\\_0  & 0.3314435 &  459 &  3\\\\\n",
       "\t 0 & 4  & 0.18452936 & 132 & 0\\_4  & 0.4237082 &  591 &  4\\\\\n",
       "\t 0 & 18 & 0.17751969 & 132 & 0\\_18 & 0.5124680 &  723 &  5\\\\\n",
       "\t 0 & 10 & 0.15422053 & 102 & 0\\_10 & 0.5895783 &  825 &  6\\\\\n",
       "\t 0 & 1  & 0.12503883 &  95 & 0\\_1  & 0.6520977 &  920 &  7\\\\\n",
       "\t 0 & 16 & 0.12126716 &  88 & 0\\_16 & 0.7127313 & 1008 &  8\\\\\n",
       "\t 0 & 14 & 0.09876853 &  79 & 0\\_14 & 0.7621156 & 1087 &  9\\\\\n",
       "\t 0 & 7  & 0.09279837 &  80 & 0\\_7  & 0.8085147 & 1167 & 10\\\\\n",
       "\t 0 & 13 & 0.07710230 &  59 & 0\\_13 & 0.8470659 & 1226 & 11\\\\\n",
       "\t 0 & 9  & 0.07632965 &  65 & 0\\_9  & 0.8852307 & 1291 & 12\\\\\n",
       "\t 0 & 2  & 0.05690571 &  48 & 0\\_2  & 0.9136836 & 1339 & 13\\\\\n",
       "\t 0 & 3  & 0.04284258 &  37 & 0\\_3  & 0.9351049 & 1376 & 14\\\\\n",
       "\t 0 & 19 & 0.04147649 &  34 & 0\\_19 & 0.9558431 & 1410 & 15\\\\\n",
       "\t 0 & 6  & 0.03605595 &  33 & 0\\_6  & 0.9738711 & 1443 & 16\\\\\n",
       "\t 0 & 12 & 0.03261086 &  28 & 0\\_12 & 0.9901765 & 1471 & 17\\\\\n",
       "\t 0 & 11 & 0.01078134 &   7 & 0\\_11 & 0.9955672 & 1478 & 18\\\\\n",
       "\t 0 & 17 & 0.00886563 &   6 & 0\\_17 & 1.0000000 & 1484 & 19\\\\\n",
       "\t 1 & 4  & 0.46808978 & 330 & 1\\_4  & 0.2340449 &  330 &  1\\\\\n",
       "\t 1 & 13 & 0.28789228 & 203 & 1\\_13 & 0.3779910 &  533 &  2\\\\\n",
       "\t 1 & 18 & 0.28078265 & 203 & 1\\_18 & 0.5183824 &  736 &  3\\\\\n",
       "\t 1 & 16 & 0.23686480 & 175 & 1\\_16 & 0.6368148 &  911 &  4\\\\\n",
       "\t 1 & 12 & 0.16220980 & 142 & 1\\_12 & 0.7179197 & 1053 &  5\\\\\n",
       "\t 1 & 2  & 0.14166825 & 120 & 1\\_2  & 0.7887538 & 1173 &  6\\\\\n",
       "\t 1 & 8  & 0.11394586 & 103 & 1\\_8  & 0.8457267 & 1276 &  7\\\\\n",
       "\t 1 & 17 & 0.05243001 &  46 & 1\\_17 & 0.8719417 & 1322 &  8\\\\\n",
       "\t 1 & 11 & 0.04420667 &  41 & 1\\_11 & 0.8940450 & 1363 &  9\\\\\n",
       "\t 1 & 7  & 0.03774193 &  29 & 1\\_7  & 0.9129160 & 1392 & 10\\\\\n",
       "\t 1 & 1  & 0.03318220 &  33 & 1\\_1  & 0.9295071 & 1425 & 11\\\\\n",
       "\t ⋮ & ⋮ & ⋮ & ⋮ & ⋮ & ⋮ & ⋮ & ⋮\\\\\n",
       "\t 2 & 13 & 0.036452888 &  19 & 2\\_13 & 0.9166943 &  929 & 10\\\\\n",
       "\t 2 & 10 & 0.033622338 &  20 & 2\\_10 & 0.9335055 &  949 & 11\\\\\n",
       "\t 2 & 19 & 0.030757788 &  20 & 2\\_19 & 0.9488844 &  969 & 12\\\\\n",
       "\t 2 & 17 & 0.029257512 &  18 & 2\\_17 & 0.9635131 &  987 & 13\\\\\n",
       "\t 2 & 14 & 0.024824684 &  14 & 2\\_14 & 0.9759255 & 1001 & 14\\\\\n",
       "\t 2 & 1  & 0.018993582 &  11 & 2\\_1  & 0.9854222 & 1012 & 15\\\\\n",
       "\t 2 & 16 & 0.013128480 &   7 & 2\\_16 & 0.9919865 & 1019 & 16\\\\\n",
       "\t 2 & 2  & 0.011628203 &   5 & 2\\_2  & 0.9978006 & 1024 & 17\\\\\n",
       "\t 2 & 8  & 0.002932551 &   2 & 2\\_8  & 0.9992669 & 1026 & 18\\\\\n",
       "\t 2 & 6  & 0.001466276 &   1 & 2\\_6  & 1.0000000 & 1027 & 19\\\\\n",
       "\t 3 & 12 & 0.220809513 & 117 & 3\\_12 & 0.1104048 &  117 &  1\\\\\n",
       "\t 3 & 15 & 0.173474222 & 124 & 3\\_15 & 0.1971419 &  241 &  2\\\\\n",
       "\t 3 & 8  & 0.166630221 & 115 & 3\\_8  & 0.2804570 &  356 &  3\\\\\n",
       "\t 3 & 17 & 0.163339685 & 104 & 3\\_17 & 0.3621268 &  460 &  4\\\\\n",
       "\t 3 & 19 & 0.160049150 &  93 & 3\\_19 & 0.4421514 &  553 &  5\\\\\n",
       "\t 3 & 7  & 0.130423917 &  83 & 3\\_7  & 0.5073634 &  636 &  6\\\\\n",
       "\t 3 & 13 & 0.118951298 &  80 & 3\\_13 & 0.5668390 &  716 &  7\\\\\n",
       "\t 3 & 10 & 0.118680558 &  77 & 3\\_10 & 0.6261793 &  793 &  8\\\\\n",
       "\t 3 & 1  & 0.111245613 &  71 & 3\\_1  & 0.6818021 &  864 &  9\\\\\n",
       "\t 3 & 3  & 0.108660565 &  71 & 3\\_3  & 0.7361324 &  935 & 10\\\\\n",
       "\t 3 & 9  & 0.088243104 &  58 & 3\\_9  & 0.7802539 &  993 & 11\\\\\n",
       "\t 3 & 0  & 0.088029636 &  62 & 3\\_0  & 0.8242687 & 1055 & 12\\\\\n",
       "\t 3 & 18 & 0.082802266 &  55 & 3\\_18 & 0.8656699 & 1110 & 13\\\\\n",
       "\t 3 & 4  & 0.069762477 &  41 & 3\\_4  & 0.9005511 & 1151 & 14\\\\\n",
       "\t 3 & 14 & 0.048056397 &  36 & 3\\_14 & 0.9245793 & 1187 & 15\\\\\n",
       "\t 3 & 6  & 0.037872398 &  25 & 3\\_6  & 0.9435155 & 1212 & 16\\\\\n",
       "\t 3 & 2  & 0.037117449 &  23 & 3\\_2  & 0.9620742 & 1235 & 17\\\\\n",
       "\t 3 & 16 & 0.033022503 &  19 & 3\\_16 & 0.9785855 & 1254 & 18\\\\\n",
       "\t 3 & 11 & 0.021656618 &  14 & 3\\_11 & 0.9894138 & 1268 & 19\\\\\n",
       "\t 3 & 5  & 0.021172409 &  15 & 3\\_5  & 1.0000000 & 1283 & 20\\\\\n",
       "\\end{tabular}\n"
      ],
      "text/markdown": [
       "\n",
       "A tibble: 76 × 8\n",
       "\n",
       "| donor &lt;fct&gt; | lineage &lt;fct&gt; | norm.total &lt;dbl&gt; | total &lt;int&gt; | name &lt;fct&gt; | cdf.norm &lt;dbl&gt; | cdf &lt;int&gt; | index &lt;int&gt; |\n",
       "|---|---|---|---|---|---|---|---|\n",
       "| 0 | 8  | 0.25056754 | 193 | 0_8  | 0.1252838 |  193 |  1 |\n",
       "| 0 | 15 | 0.22565138 | 137 | 0_15 | 0.2381095 |  330 |  2 |\n",
       "| 0 | 0  | 0.18666810 | 129 | 0_0  | 0.3314435 |  459 |  3 |\n",
       "| 0 | 4  | 0.18452936 | 132 | 0_4  | 0.4237082 |  591 |  4 |\n",
       "| 0 | 18 | 0.17751969 | 132 | 0_18 | 0.5124680 |  723 |  5 |\n",
       "| 0 | 10 | 0.15422053 | 102 | 0_10 | 0.5895783 |  825 |  6 |\n",
       "| 0 | 1  | 0.12503883 |  95 | 0_1  | 0.6520977 |  920 |  7 |\n",
       "| 0 | 16 | 0.12126716 |  88 | 0_16 | 0.7127313 | 1008 |  8 |\n",
       "| 0 | 14 | 0.09876853 |  79 | 0_14 | 0.7621156 | 1087 |  9 |\n",
       "| 0 | 7  | 0.09279837 |  80 | 0_7  | 0.8085147 | 1167 | 10 |\n",
       "| 0 | 13 | 0.07710230 |  59 | 0_13 | 0.8470659 | 1226 | 11 |\n",
       "| 0 | 9  | 0.07632965 |  65 | 0_9  | 0.8852307 | 1291 | 12 |\n",
       "| 0 | 2  | 0.05690571 |  48 | 0_2  | 0.9136836 | 1339 | 13 |\n",
       "| 0 | 3  | 0.04284258 |  37 | 0_3  | 0.9351049 | 1376 | 14 |\n",
       "| 0 | 19 | 0.04147649 |  34 | 0_19 | 0.9558431 | 1410 | 15 |\n",
       "| 0 | 6  | 0.03605595 |  33 | 0_6  | 0.9738711 | 1443 | 16 |\n",
       "| 0 | 12 | 0.03261086 |  28 | 0_12 | 0.9901765 | 1471 | 17 |\n",
       "| 0 | 11 | 0.01078134 |   7 | 0_11 | 0.9955672 | 1478 | 18 |\n",
       "| 0 | 17 | 0.00886563 |   6 | 0_17 | 1.0000000 | 1484 | 19 |\n",
       "| 1 | 4  | 0.46808978 | 330 | 1_4  | 0.2340449 |  330 |  1 |\n",
       "| 1 | 13 | 0.28789228 | 203 | 1_13 | 0.3779910 |  533 |  2 |\n",
       "| 1 | 18 | 0.28078265 | 203 | 1_18 | 0.5183824 |  736 |  3 |\n",
       "| 1 | 16 | 0.23686480 | 175 | 1_16 | 0.6368148 |  911 |  4 |\n",
       "| 1 | 12 | 0.16220980 | 142 | 1_12 | 0.7179197 | 1053 |  5 |\n",
       "| 1 | 2  | 0.14166825 | 120 | 1_2  | 0.7887538 | 1173 |  6 |\n",
       "| 1 | 8  | 0.11394586 | 103 | 1_8  | 0.8457267 | 1276 |  7 |\n",
       "| 1 | 17 | 0.05243001 |  46 | 1_17 | 0.8719417 | 1322 |  8 |\n",
       "| 1 | 11 | 0.04420667 |  41 | 1_11 | 0.8940450 | 1363 |  9 |\n",
       "| 1 | 7  | 0.03774193 |  29 | 1_7  | 0.9129160 | 1392 | 10 |\n",
       "| 1 | 1  | 0.03318220 |  33 | 1_1  | 0.9295071 | 1425 | 11 |\n",
       "| ⋮ | ⋮ | ⋮ | ⋮ | ⋮ | ⋮ | ⋮ | ⋮ |\n",
       "| 2 | 13 | 0.036452888 |  19 | 2_13 | 0.9166943 |  929 | 10 |\n",
       "| 2 | 10 | 0.033622338 |  20 | 2_10 | 0.9335055 |  949 | 11 |\n",
       "| 2 | 19 | 0.030757788 |  20 | 2_19 | 0.9488844 |  969 | 12 |\n",
       "| 2 | 17 | 0.029257512 |  18 | 2_17 | 0.9635131 |  987 | 13 |\n",
       "| 2 | 14 | 0.024824684 |  14 | 2_14 | 0.9759255 | 1001 | 14 |\n",
       "| 2 | 1  | 0.018993582 |  11 | 2_1  | 0.9854222 | 1012 | 15 |\n",
       "| 2 | 16 | 0.013128480 |   7 | 2_16 | 0.9919865 | 1019 | 16 |\n",
       "| 2 | 2  | 0.011628203 |   5 | 2_2  | 0.9978006 | 1024 | 17 |\n",
       "| 2 | 8  | 0.002932551 |   2 | 2_8  | 0.9992669 | 1026 | 18 |\n",
       "| 2 | 6  | 0.001466276 |   1 | 2_6  | 1.0000000 | 1027 | 19 |\n",
       "| 3 | 12 | 0.220809513 | 117 | 3_12 | 0.1104048 |  117 |  1 |\n",
       "| 3 | 15 | 0.173474222 | 124 | 3_15 | 0.1971419 |  241 |  2 |\n",
       "| 3 | 8  | 0.166630221 | 115 | 3_8  | 0.2804570 |  356 |  3 |\n",
       "| 3 | 17 | 0.163339685 | 104 | 3_17 | 0.3621268 |  460 |  4 |\n",
       "| 3 | 19 | 0.160049150 |  93 | 3_19 | 0.4421514 |  553 |  5 |\n",
       "| 3 | 7  | 0.130423917 |  83 | 3_7  | 0.5073634 |  636 |  6 |\n",
       "| 3 | 13 | 0.118951298 |  80 | 3_13 | 0.5668390 |  716 |  7 |\n",
       "| 3 | 10 | 0.118680558 |  77 | 3_10 | 0.6261793 |  793 |  8 |\n",
       "| 3 | 1  | 0.111245613 |  71 | 3_1  | 0.6818021 |  864 |  9 |\n",
       "| 3 | 3  | 0.108660565 |  71 | 3_3  | 0.7361324 |  935 | 10 |\n",
       "| 3 | 9  | 0.088243104 |  58 | 3_9  | 0.7802539 |  993 | 11 |\n",
       "| 3 | 0  | 0.088029636 |  62 | 3_0  | 0.8242687 | 1055 | 12 |\n",
       "| 3 | 18 | 0.082802266 |  55 | 3_18 | 0.8656699 | 1110 | 13 |\n",
       "| 3 | 4  | 0.069762477 |  41 | 3_4  | 0.9005511 | 1151 | 14 |\n",
       "| 3 | 14 | 0.048056397 |  36 | 3_14 | 0.9245793 | 1187 | 15 |\n",
       "| 3 | 6  | 0.037872398 |  25 | 3_6  | 0.9435155 | 1212 | 16 |\n",
       "| 3 | 2  | 0.037117449 |  23 | 3_2  | 0.9620742 | 1235 | 17 |\n",
       "| 3 | 16 | 0.033022503 |  19 | 3_16 | 0.9785855 | 1254 | 18 |\n",
       "| 3 | 11 | 0.021656618 |  14 | 3_11 | 0.9894138 | 1268 | 19 |\n",
       "| 3 | 5  | 0.021172409 |  15 | 3_5  | 1.0000000 | 1283 | 20 |\n",
       "\n"
      ],
      "text/plain": [
       "   donor lineage norm.total  total name cdf.norm  cdf  index\n",
       "1  0     8       0.25056754  193   0_8  0.1252838  193  1   \n",
       "2  0     15      0.22565138  137   0_15 0.2381095  330  2   \n",
       "3  0     0       0.18666810  129   0_0  0.3314435  459  3   \n",
       "4  0     4       0.18452936  132   0_4  0.4237082  591  4   \n",
       "5  0     18      0.17751969  132   0_18 0.5124680  723  5   \n",
       "6  0     10      0.15422053  102   0_10 0.5895783  825  6   \n",
       "7  0     1       0.12503883   95   0_1  0.6520977  920  7   \n",
       "8  0     16      0.12126716   88   0_16 0.7127313 1008  8   \n",
       "9  0     14      0.09876853   79   0_14 0.7621156 1087  9   \n",
       "10 0     7       0.09279837   80   0_7  0.8085147 1167 10   \n",
       "11 0     13      0.07710230   59   0_13 0.8470659 1226 11   \n",
       "12 0     9       0.07632965   65   0_9  0.8852307 1291 12   \n",
       "13 0     2       0.05690571   48   0_2  0.9136836 1339 13   \n",
       "14 0     3       0.04284258   37   0_3  0.9351049 1376 14   \n",
       "15 0     19      0.04147649   34   0_19 0.9558431 1410 15   \n",
       "16 0     6       0.03605595   33   0_6  0.9738711 1443 16   \n",
       "17 0     12      0.03261086   28   0_12 0.9901765 1471 17   \n",
       "18 0     11      0.01078134    7   0_11 0.9955672 1478 18   \n",
       "19 0     17      0.00886563    6   0_17 1.0000000 1484 19   \n",
       "20 1     4       0.46808978  330   1_4  0.2340449  330  1   \n",
       "21 1     13      0.28789228  203   1_13 0.3779910  533  2   \n",
       "22 1     18      0.28078265  203   1_18 0.5183824  736  3   \n",
       "23 1     16      0.23686480  175   1_16 0.6368148  911  4   \n",
       "24 1     12      0.16220980  142   1_12 0.7179197 1053  5   \n",
       "25 1     2       0.14166825  120   1_2  0.7887538 1173  6   \n",
       "26 1     8       0.11394586  103   1_8  0.8457267 1276  7   \n",
       "27 1     17      0.05243001   46   1_17 0.8719417 1322  8   \n",
       "28 1     11      0.04420667   41   1_11 0.8940450 1363  9   \n",
       "29 1     7       0.03774193   29   1_7  0.9129160 1392 10   \n",
       "30 1     1       0.03318220   33   1_1  0.9295071 1425 11   \n",
       "⋮  ⋮     ⋮       ⋮           ⋮     ⋮    ⋮         ⋮    ⋮    \n",
       "47 2     13      0.036452888  19   2_13 0.9166943  929 10   \n",
       "48 2     10      0.033622338  20   2_10 0.9335055  949 11   \n",
       "49 2     19      0.030757788  20   2_19 0.9488844  969 12   \n",
       "50 2     17      0.029257512  18   2_17 0.9635131  987 13   \n",
       "51 2     14      0.024824684  14   2_14 0.9759255 1001 14   \n",
       "52 2     1       0.018993582  11   2_1  0.9854222 1012 15   \n",
       "53 2     16      0.013128480   7   2_16 0.9919865 1019 16   \n",
       "54 2     2       0.011628203   5   2_2  0.9978006 1024 17   \n",
       "55 2     8       0.002932551   2   2_8  0.9992669 1026 18   \n",
       "56 2     6       0.001466276   1   2_6  1.0000000 1027 19   \n",
       "57 3     12      0.220809513 117   3_12 0.1104048  117  1   \n",
       "58 3     15      0.173474222 124   3_15 0.1971419  241  2   \n",
       "59 3     8       0.166630221 115   3_8  0.2804570  356  3   \n",
       "60 3     17      0.163339685 104   3_17 0.3621268  460  4   \n",
       "61 3     19      0.160049150  93   3_19 0.4421514  553  5   \n",
       "62 3     7       0.130423917  83   3_7  0.5073634  636  6   \n",
       "63 3     13      0.118951298  80   3_13 0.5668390  716  7   \n",
       "64 3     10      0.118680558  77   3_10 0.6261793  793  8   \n",
       "65 3     1       0.111245613  71   3_1  0.6818021  864  9   \n",
       "66 3     3       0.108660565  71   3_3  0.7361324  935 10   \n",
       "67 3     9       0.088243104  58   3_9  0.7802539  993 11   \n",
       "68 3     0       0.088029636  62   3_0  0.8242687 1055 12   \n",
       "69 3     18      0.082802266  55   3_18 0.8656699 1110 13   \n",
       "70 3     4       0.069762477  41   3_4  0.9005511 1151 14   \n",
       "71 3     14      0.048056397  36   3_14 0.9245793 1187 15   \n",
       "72 3     6       0.037872398  25   3_6  0.9435155 1212 16   \n",
       "73 3     2       0.037117449  23   3_2  0.9620742 1235 17   \n",
       "74 3     16      0.033022503  19   3_16 0.9785855 1254 18   \n",
       "75 3     11      0.021656618  14   3_11 0.9894138 1268 19   \n",
       "76 3     5       0.021172409  15   3_5  1.0000000 1283 20   "
      ]
     },
     "metadata": {},
     "output_type": "display_data"
    }
   ],
   "source": [
    "clone.sizes"
   ]
  },
  {
   "cell_type": "code",
   "execution_count": 15,
   "id": "93c23bda",
   "metadata": {
    "execution": {
     "iopub.execute_input": "2021-12-03T20:21:59.939602Z",
     "iopub.status.busy": "2021-12-03T20:21:59.937154Z",
     "iopub.status.idle": "2021-12-03T20:22:00.035535Z",
     "shell.execute_reply": "2021-12-03T20:22:00.034345Z"
    },
    "papermill": {
     "duration": 0.229083,
     "end_time": "2021-12-03T20:22:00.035823",
     "exception": false,
     "start_time": "2021-12-03T20:21:59.806740",
     "status": "completed"
    },
    "scrolled": true,
    "tags": []
   },
   "outputs": [
    {
     "name": "stdout",
     "output_type": "stream",
     "text": [
      "[1] 4\n",
      "[1] \"i 1 donor 1\"\n",
      "[1] \"i 2 donor 2\"\n",
      "[1] \"only 1 clone. Using top 3 clones\"\n",
      "[1] \"i 3 donor 3\"\n",
      "[1] \"i 4 donor 4\"\n"
     ]
    },
    {
     "data": {
      "text/html": [
       "<table class=\"dataframe\">\n",
       "<caption>A tibble: 14 × 8</caption>\n",
       "<thead>\n",
       "\t<tr><th scope=col>donor</th><th scope=col>lineage</th><th scope=col>norm.total</th><th scope=col>total</th><th scope=col>name</th><th scope=col>cdf.norm</th><th scope=col>cdf</th><th scope=col>index</th></tr>\n",
       "\t<tr><th scope=col>&lt;fct&gt;</th><th scope=col>&lt;fct&gt;</th><th scope=col>&lt;dbl&gt;</th><th scope=col>&lt;int&gt;</th><th scope=col>&lt;fct&gt;</th><th scope=col>&lt;dbl&gt;</th><th scope=col>&lt;int&gt;</th><th scope=col>&lt;int&gt;</th></tr>\n",
       "</thead>\n",
       "<tbody>\n",
       "\t<tr><td>0</td><td>8 </td><td>0.2505675</td><td>193</td><td>0_8 </td><td>0.1252838</td><td>193</td><td>1</td></tr>\n",
       "\t<tr><td>0</td><td>15</td><td>0.2256514</td><td>137</td><td>0_15</td><td>0.2381095</td><td>330</td><td>2</td></tr>\n",
       "\t<tr><td>0</td><td>0 </td><td>0.1866681</td><td>129</td><td>0_0 </td><td>0.3314435</td><td>459</td><td>3</td></tr>\n",
       "\t<tr><td>0</td><td>4 </td><td>0.1845294</td><td>132</td><td>0_4 </td><td>0.4237082</td><td>591</td><td>4</td></tr>\n",
       "\t<tr><td>1</td><td>4 </td><td>0.4680898</td><td>330</td><td>1_4 </td><td>0.2340449</td><td>330</td><td>1</td></tr>\n",
       "\t<tr><td>1</td><td>13</td><td>0.2878923</td><td>203</td><td>1_13</td><td>0.3779910</td><td>533</td><td>2</td></tr>\n",
       "\t<tr><td>3</td><td>12</td><td>0.2208095</td><td>117</td><td>3_12</td><td>0.1104048</td><td>117</td><td>1</td></tr>\n",
       "\t<tr><td>3</td><td>15</td><td>0.1734742</td><td>124</td><td>3_15</td><td>0.1971419</td><td>241</td><td>2</td></tr>\n",
       "\t<tr><td>3</td><td>8 </td><td>0.1666302</td><td>115</td><td>3_8 </td><td>0.2804570</td><td>356</td><td>3</td></tr>\n",
       "\t<tr><td>3</td><td>17</td><td>0.1633397</td><td>104</td><td>3_17</td><td>0.3621268</td><td>460</td><td>4</td></tr>\n",
       "\t<tr><td>3</td><td>19</td><td>0.1600491</td><td> 93</td><td>3_19</td><td>0.4421514</td><td>553</td><td>5</td></tr>\n",
       "\t<tr><td>2</td><td>4 </td><td>0.2622976</td><td>132</td><td>2_4 </td><td>0.1311488</td><td>132</td><td>1</td></tr>\n",
       "\t<tr><td>2</td><td>9 </td><td>0.2591610</td><td>124</td><td>2_9 </td><td>0.2607293</td><td>256</td><td>2</td></tr>\n",
       "\t<tr><td>2</td><td>5 </td><td>0.2522377</td><td>131</td><td>2_5 </td><td>0.3868481</td><td>387</td><td>3</td></tr>\n",
       "</tbody>\n",
       "</table>\n"
      ],
      "text/latex": [
       "A tibble: 14 × 8\n",
       "\\begin{tabular}{llllllll}\n",
       " donor & lineage & norm.total & total & name & cdf.norm & cdf & index\\\\\n",
       " <fct> & <fct> & <dbl> & <int> & <fct> & <dbl> & <int> & <int>\\\\\n",
       "\\hline\n",
       "\t 0 & 8  & 0.2505675 & 193 & 0\\_8  & 0.1252838 & 193 & 1\\\\\n",
       "\t 0 & 15 & 0.2256514 & 137 & 0\\_15 & 0.2381095 & 330 & 2\\\\\n",
       "\t 0 & 0  & 0.1866681 & 129 & 0\\_0  & 0.3314435 & 459 & 3\\\\\n",
       "\t 0 & 4  & 0.1845294 & 132 & 0\\_4  & 0.4237082 & 591 & 4\\\\\n",
       "\t 1 & 4  & 0.4680898 & 330 & 1\\_4  & 0.2340449 & 330 & 1\\\\\n",
       "\t 1 & 13 & 0.2878923 & 203 & 1\\_13 & 0.3779910 & 533 & 2\\\\\n",
       "\t 3 & 12 & 0.2208095 & 117 & 3\\_12 & 0.1104048 & 117 & 1\\\\\n",
       "\t 3 & 15 & 0.1734742 & 124 & 3\\_15 & 0.1971419 & 241 & 2\\\\\n",
       "\t 3 & 8  & 0.1666302 & 115 & 3\\_8  & 0.2804570 & 356 & 3\\\\\n",
       "\t 3 & 17 & 0.1633397 & 104 & 3\\_17 & 0.3621268 & 460 & 4\\\\\n",
       "\t 3 & 19 & 0.1600491 &  93 & 3\\_19 & 0.4421514 & 553 & 5\\\\\n",
       "\t 2 & 4  & 0.2622976 & 132 & 2\\_4  & 0.1311488 & 132 & 1\\\\\n",
       "\t 2 & 9  & 0.2591610 & 124 & 2\\_9  & 0.2607293 & 256 & 2\\\\\n",
       "\t 2 & 5  & 0.2522377 & 131 & 2\\_5  & 0.3868481 & 387 & 3\\\\\n",
       "\\end{tabular}\n"
      ],
      "text/markdown": [
       "\n",
       "A tibble: 14 × 8\n",
       "\n",
       "| donor &lt;fct&gt; | lineage &lt;fct&gt; | norm.total &lt;dbl&gt; | total &lt;int&gt; | name &lt;fct&gt; | cdf.norm &lt;dbl&gt; | cdf &lt;int&gt; | index &lt;int&gt; |\n",
       "|---|---|---|---|---|---|---|---|\n",
       "| 0 | 8  | 0.2505675 | 193 | 0_8  | 0.1252838 | 193 | 1 |\n",
       "| 0 | 15 | 0.2256514 | 137 | 0_15 | 0.2381095 | 330 | 2 |\n",
       "| 0 | 0  | 0.1866681 | 129 | 0_0  | 0.3314435 | 459 | 3 |\n",
       "| 0 | 4  | 0.1845294 | 132 | 0_4  | 0.4237082 | 591 | 4 |\n",
       "| 1 | 4  | 0.4680898 | 330 | 1_4  | 0.2340449 | 330 | 1 |\n",
       "| 1 | 13 | 0.2878923 | 203 | 1_13 | 0.3779910 | 533 | 2 |\n",
       "| 3 | 12 | 0.2208095 | 117 | 3_12 | 0.1104048 | 117 | 1 |\n",
       "| 3 | 15 | 0.1734742 | 124 | 3_15 | 0.1971419 | 241 | 2 |\n",
       "| 3 | 8  | 0.1666302 | 115 | 3_8  | 0.2804570 | 356 | 3 |\n",
       "| 3 | 17 | 0.1633397 | 104 | 3_17 | 0.3621268 | 460 | 4 |\n",
       "| 3 | 19 | 0.1600491 |  93 | 3_19 | 0.4421514 | 553 | 5 |\n",
       "| 2 | 4  | 0.2622976 | 132 | 2_4  | 0.1311488 | 132 | 1 |\n",
       "| 2 | 9  | 0.2591610 | 124 | 2_9  | 0.2607293 | 256 | 2 |\n",
       "| 2 | 5  | 0.2522377 | 131 | 2_5  | 0.3868481 | 387 | 3 |\n",
       "\n"
      ],
      "text/plain": [
       "   donor lineage norm.total total name cdf.norm  cdf index\n",
       "1  0     8       0.2505675  193   0_8  0.1252838 193 1    \n",
       "2  0     15      0.2256514  137   0_15 0.2381095 330 2    \n",
       "3  0     0       0.1866681  129   0_0  0.3314435 459 3    \n",
       "4  0     4       0.1845294  132   0_4  0.4237082 591 4    \n",
       "5  1     4       0.4680898  330   1_4  0.2340449 330 1    \n",
       "6  1     13      0.2878923  203   1_13 0.3779910 533 2    \n",
       "7  3     12      0.2208095  117   3_12 0.1104048 117 1    \n",
       "8  3     15      0.1734742  124   3_15 0.1971419 241 2    \n",
       "9  3     8       0.1666302  115   3_8  0.2804570 356 3    \n",
       "10 3     17      0.1633397  104   3_17 0.3621268 460 4    \n",
       "11 3     19      0.1600491   93   3_19 0.4421514 553 5    \n",
       "12 2     4       0.2622976  132   2_4  0.1311488 132 1    \n",
       "13 2     9       0.2591610  124   2_9  0.2607293 256 2    \n",
       "14 2     5       0.2522377  131   2_5  0.3868481 387 3    "
      ]
     },
     "metadata": {},
     "output_type": "display_data"
    }
   ],
   "source": [
    "large.clones <- clone.sizes %>% filter(cdf.norm<cdf_thresh)\n",
    "large.clones <- check.if.one.clone(large.clones, clone.sizes, n_top_clones)\n",
    "#large.clones$name = factor(paste0(large.clones$donor,\"_\", large.clones$lineage))\n",
    "write.csv(large.clones, \n",
    "          file=file.path(outdir, \"large_clones.csv\"), quote=F)\n",
    "\n",
    "large.clones"
   ]
  },
  {
   "cell_type": "code",
   "execution_count": 16,
   "id": "308e6966",
   "metadata": {
    "execution": {
     "iopub.execute_input": "2021-12-03T20:22:00.349237Z",
     "iopub.status.busy": "2021-12-03T20:22:00.345719Z",
     "iopub.status.idle": "2021-12-03T20:22:01.201571Z",
     "shell.execute_reply": "2021-12-03T20:22:01.202425Z"
    },
    "papermill": {
     "duration": 1.037356,
     "end_time": "2021-12-03T20:22:01.202706",
     "exception": false,
     "start_time": "2021-12-03T20:22:00.165350",
     "status": "completed"
    },
    "tags": []
   },
   "outputs": [
    {
     "name": "stderr",
     "output_type": "stream",
     "text": [
      "Saving 6.67 x 6.67 in image\n",
      "\n"
     ]
    },
    {
     "data": {
      "image/png": "[encoded data removed]",
      "text/plain": [
       "plot without title"
      ]
     },
     "metadata": {
      "image/png": {
       "height": 420,
       "width": 420
      }
     },
     "output_type": "display_data"
    }
   ],
   "source": [
    "ggplot(data=large.clones, aes(x=index,y=total, fill = factor(donor))) + \n",
    "        geom_col(position='dodge') +\n",
    "       ggtitle(paste0(\"Top clones (\", cdf_thresh,\n",
    "                      \"fraction of clones) in each donor cell size\"))\n",
    "\n",
    "ggsave(file.path(outdir, \"topClonesSize.png\"))"
   ]
  },
  {
   "cell_type": "markdown",
   "id": "5564da63",
   "metadata": {
    "papermill": {
     "duration": 0.124881,
     "end_time": "2021-12-03T20:22:01.458970",
     "exception": false,
     "start_time": "2021-12-03T20:22:01.334089",
     "status": "completed"
    },
    "tags": []
   },
   "source": [
    "## TF DE"
   ]
  },
  {
   "cell_type": "markdown",
   "id": "b6a80a03",
   "metadata": {
    "papermill": {
     "duration": 0.129166,
     "end_time": "2021-12-03T20:22:01.711713",
     "exception": false,
     "start_time": "2021-12-03T20:22:01.582547",
     "status": "completed"
    },
    "tags": []
   },
   "source": [
    "## Filter se for cells in the large clones"
   ]
  },
  {
   "cell_type": "code",
   "execution_count": 17,
   "id": "8ec3001e",
   "metadata": {
    "execution": {
     "iopub.execute_input": "2021-12-03T20:22:01.970839Z",
     "iopub.status.busy": "2021-12-03T20:22:01.968482Z",
     "iopub.status.idle": "2021-12-03T20:22:02.004430Z",
     "shell.execute_reply": "2021-12-03T20:22:02.002436Z"
    },
    "papermill": {
     "duration": 0.165403,
     "end_time": "2021-12-03T20:22:02.004593",
     "exception": false,
     "start_time": "2021-12-03T20:22:01.839190",
     "status": "completed"
    },
    "scrolled": true,
    "tags": []
   },
   "outputs": [
    {
     "data": {
      "text/html": [
       "<table class=\"dataframe\">\n",
       "<caption>A tibble: 14 × 8</caption>\n",
       "<thead>\n",
       "\t<tr><th scope=col>donor</th><th scope=col>lineage</th><th scope=col>norm.total</th><th scope=col>total</th><th scope=col>name</th><th scope=col>cdf.norm</th><th scope=col>cdf</th><th scope=col>index</th></tr>\n",
       "\t<tr><th scope=col>&lt;fct&gt;</th><th scope=col>&lt;fct&gt;</th><th scope=col>&lt;dbl&gt;</th><th scope=col>&lt;int&gt;</th><th scope=col>&lt;fct&gt;</th><th scope=col>&lt;dbl&gt;</th><th scope=col>&lt;int&gt;</th><th scope=col>&lt;int&gt;</th></tr>\n",
       "</thead>\n",
       "<tbody>\n",
       "\t<tr><td>0</td><td>8 </td><td>0.2505675</td><td>193</td><td>0_8 </td><td>0.1252838</td><td>193</td><td>1</td></tr>\n",
       "\t<tr><td>0</td><td>15</td><td>0.2256514</td><td>137</td><td>0_15</td><td>0.2381095</td><td>330</td><td>2</td></tr>\n",
       "\t<tr><td>0</td><td>0 </td><td>0.1866681</td><td>129</td><td>0_0 </td><td>0.3314435</td><td>459</td><td>3</td></tr>\n",
       "\t<tr><td>0</td><td>4 </td><td>0.1845294</td><td>132</td><td>0_4 </td><td>0.4237082</td><td>591</td><td>4</td></tr>\n",
       "\t<tr><td>1</td><td>4 </td><td>0.4680898</td><td>330</td><td>1_4 </td><td>0.2340449</td><td>330</td><td>1</td></tr>\n",
       "\t<tr><td>1</td><td>13</td><td>0.2878923</td><td>203</td><td>1_13</td><td>0.3779910</td><td>533</td><td>2</td></tr>\n",
       "\t<tr><td>3</td><td>12</td><td>0.2208095</td><td>117</td><td>3_12</td><td>0.1104048</td><td>117</td><td>1</td></tr>\n",
       "\t<tr><td>3</td><td>15</td><td>0.1734742</td><td>124</td><td>3_15</td><td>0.1971419</td><td>241</td><td>2</td></tr>\n",
       "\t<tr><td>3</td><td>8 </td><td>0.1666302</td><td>115</td><td>3_8 </td><td>0.2804570</td><td>356</td><td>3</td></tr>\n",
       "\t<tr><td>3</td><td>17</td><td>0.1633397</td><td>104</td><td>3_17</td><td>0.3621268</td><td>460</td><td>4</td></tr>\n",
       "\t<tr><td>3</td><td>19</td><td>0.1600491</td><td> 93</td><td>3_19</td><td>0.4421514</td><td>553</td><td>5</td></tr>\n",
       "\t<tr><td>2</td><td>4 </td><td>0.2622976</td><td>132</td><td>2_4 </td><td>0.1311488</td><td>132</td><td>1</td></tr>\n",
       "\t<tr><td>2</td><td>9 </td><td>0.2591610</td><td>124</td><td>2_9 </td><td>0.2607293</td><td>256</td><td>2</td></tr>\n",
       "\t<tr><td>2</td><td>5 </td><td>0.2522377</td><td>131</td><td>2_5 </td><td>0.3868481</td><td>387</td><td>3</td></tr>\n",
       "</tbody>\n",
       "</table>\n"
      ],
      "text/latex": [
       "A tibble: 14 × 8\n",
       "\\begin{tabular}{llllllll}\n",
       " donor & lineage & norm.total & total & name & cdf.norm & cdf & index\\\\\n",
       " <fct> & <fct> & <dbl> & <int> & <fct> & <dbl> & <int> & <int>\\\\\n",
       "\\hline\n",
       "\t 0 & 8  & 0.2505675 & 193 & 0\\_8  & 0.1252838 & 193 & 1\\\\\n",
       "\t 0 & 15 & 0.2256514 & 137 & 0\\_15 & 0.2381095 & 330 & 2\\\\\n",
       "\t 0 & 0  & 0.1866681 & 129 & 0\\_0  & 0.3314435 & 459 & 3\\\\\n",
       "\t 0 & 4  & 0.1845294 & 132 & 0\\_4  & 0.4237082 & 591 & 4\\\\\n",
       "\t 1 & 4  & 0.4680898 & 330 & 1\\_4  & 0.2340449 & 330 & 1\\\\\n",
       "\t 1 & 13 & 0.2878923 & 203 & 1\\_13 & 0.3779910 & 533 & 2\\\\\n",
       "\t 3 & 12 & 0.2208095 & 117 & 3\\_12 & 0.1104048 & 117 & 1\\\\\n",
       "\t 3 & 15 & 0.1734742 & 124 & 3\\_15 & 0.1971419 & 241 & 2\\\\\n",
       "\t 3 & 8  & 0.1666302 & 115 & 3\\_8  & 0.2804570 & 356 & 3\\\\\n",
       "\t 3 & 17 & 0.1633397 & 104 & 3\\_17 & 0.3621268 & 460 & 4\\\\\n",
       "\t 3 & 19 & 0.1600491 &  93 & 3\\_19 & 0.4421514 & 553 & 5\\\\\n",
       "\t 2 & 4  & 0.2622976 & 132 & 2\\_4  & 0.1311488 & 132 & 1\\\\\n",
       "\t 2 & 9  & 0.2591610 & 124 & 2\\_9  & 0.2607293 & 256 & 2\\\\\n",
       "\t 2 & 5  & 0.2522377 & 131 & 2\\_5  & 0.3868481 & 387 & 3\\\\\n",
       "\\end{tabular}\n"
      ],
      "text/markdown": [
       "\n",
       "A tibble: 14 × 8\n",
       "\n",
       "| donor &lt;fct&gt; | lineage &lt;fct&gt; | norm.total &lt;dbl&gt; | total &lt;int&gt; | name &lt;fct&gt; | cdf.norm &lt;dbl&gt; | cdf &lt;int&gt; | index &lt;int&gt; |\n",
       "|---|---|---|---|---|---|---|---|\n",
       "| 0 | 8  | 0.2505675 | 193 | 0_8  | 0.1252838 | 193 | 1 |\n",
       "| 0 | 15 | 0.2256514 | 137 | 0_15 | 0.2381095 | 330 | 2 |\n",
       "| 0 | 0  | 0.1866681 | 129 | 0_0  | 0.3314435 | 459 | 3 |\n",
       "| 0 | 4  | 0.1845294 | 132 | 0_4  | 0.4237082 | 591 | 4 |\n",
       "| 1 | 4  | 0.4680898 | 330 | 1_4  | 0.2340449 | 330 | 1 |\n",
       "| 1 | 13 | 0.2878923 | 203 | 1_13 | 0.3779910 | 533 | 2 |\n",
       "| 3 | 12 | 0.2208095 | 117 | 3_12 | 0.1104048 | 117 | 1 |\n",
       "| 3 | 15 | 0.1734742 | 124 | 3_15 | 0.1971419 | 241 | 2 |\n",
       "| 3 | 8  | 0.1666302 | 115 | 3_8  | 0.2804570 | 356 | 3 |\n",
       "| 3 | 17 | 0.1633397 | 104 | 3_17 | 0.3621268 | 460 | 4 |\n",
       "| 3 | 19 | 0.1600491 |  93 | 3_19 | 0.4421514 | 553 | 5 |\n",
       "| 2 | 4  | 0.2622976 | 132 | 2_4  | 0.1311488 | 132 | 1 |\n",
       "| 2 | 9  | 0.2591610 | 124 | 2_9  | 0.2607293 | 256 | 2 |\n",
       "| 2 | 5  | 0.2522377 | 131 | 2_5  | 0.3868481 | 387 | 3 |\n",
       "\n"
      ],
      "text/plain": [
       "   donor lineage norm.total total name cdf.norm  cdf index\n",
       "1  0     8       0.2505675  193   0_8  0.1252838 193 1    \n",
       "2  0     15      0.2256514  137   0_15 0.2381095 330 2    \n",
       "3  0     0       0.1866681  129   0_0  0.3314435 459 3    \n",
       "4  0     4       0.1845294  132   0_4  0.4237082 591 4    \n",
       "5  1     4       0.4680898  330   1_4  0.2340449 330 1    \n",
       "6  1     13      0.2878923  203   1_13 0.3779910 533 2    \n",
       "7  3     12      0.2208095  117   3_12 0.1104048 117 1    \n",
       "8  3     15      0.1734742  124   3_15 0.1971419 241 2    \n",
       "9  3     8       0.1666302  115   3_8  0.2804570 356 3    \n",
       "10 3     17      0.1633397  104   3_17 0.3621268 460 4    \n",
       "11 3     19      0.1600491   93   3_19 0.4421514 553 5    \n",
       "12 2     4       0.2622976  132   2_4  0.1311488 132 1    \n",
       "13 2     9       0.2591610  124   2_9  0.2607293 256 2    \n",
       "14 2     5       0.2522377  131   2_5  0.3868481 387 3    "
      ]
     },
     "metadata": {},
     "output_type": "display_data"
    }
   ],
   "source": [
    "large.clones"
   ]
  },
  {
   "cell_type": "code",
   "execution_count": 18,
   "id": "abe394ac",
   "metadata": {
    "execution": {
     "iopub.execute_input": "2021-12-03T20:22:02.267876Z",
     "iopub.status.busy": "2021-12-03T20:22:02.265358Z",
     "iopub.status.idle": "2021-12-03T20:22:05.861427Z",
     "shell.execute_reply": "2021-12-03T20:22:05.859472Z"
    },
    "papermill": {
     "duration": 3.72907,
     "end_time": "2021-12-03T20:22:05.861592",
     "exception": false,
     "start_time": "2021-12-03T20:22:02.132522",
     "status": "completed"
    },
    "scrolled": false,
    "tags": []
   },
   "outputs": [
    {
     "data": {
      "text/plain": [
       "An object of class Seurat \n",
       "170811 features across 2064 samples within 4 assays \n",
       "Active assay: chromvarnames (633 features, 0 variable features)\n",
       " 3 other assays present: ATAC, RNA, chromvar\n",
       " 2 dimensional reductions calculated: integrated_lsi, umap"
      ]
     },
     "metadata": {},
     "output_type": "display_data"
    }
   ],
   "source": [
    "se <- subset(se, subset= name %in% factor(large.clones$name))\n",
    "se"
   ]
  },
  {
   "cell_type": "code",
   "execution_count": 19,
   "id": "cca27e11",
   "metadata": {
    "execution": {
     "iopub.execute_input": "2021-12-03T20:22:06.129876Z",
     "iopub.status.busy": "2021-12-03T20:22:06.128129Z",
     "iopub.status.idle": "2021-12-03T20:22:44.797274Z",
     "shell.execute_reply": "2021-12-03T20:22:44.796019Z"
    },
    "papermill": {
     "duration": 38.805231,
     "end_time": "2021-12-03T20:22:44.797577",
     "exception": false,
     "start_time": "2021-12-03T20:22:05.992346",
     "status": "completed"
    },
    "tags": []
   },
   "outputs": [],
   "source": [
    "saveRDS(object=se, file=file.path(outdir, \"se.clonesfilt.rds\"))    "
   ]
  },
  {
   "cell_type": "markdown",
   "id": "1aa2150f",
   "metadata": {
    "papermill": {
     "duration": 0.134597,
     "end_time": "2021-12-03T20:22:45.082347",
     "exception": false,
     "start_time": "2021-12-03T20:22:44.947750",
     "status": "completed"
    },
    "tags": []
   },
   "source": [
    "## Run DE"
   ]
  },
  {
   "cell_type": "code",
   "execution_count": 20,
   "id": "9c5b398c",
   "metadata": {
    "execution": {
     "iopub.execute_input": "2021-12-03T20:22:45.350027Z",
     "iopub.status.busy": "2021-12-03T20:22:45.346378Z",
     "iopub.status.idle": "2021-12-03T20:22:45.364205Z",
     "shell.execute_reply": "2021-12-03T20:22:45.363020Z"
    },
    "papermill": {
     "duration": 0.153456,
     "end_time": "2021-12-03T20:22:45.364414",
     "exception": false,
     "start_time": "2021-12-03T20:22:45.210958",
     "status": "completed"
    },
    "scrolled": true,
    "tags": []
   },
   "outputs": [],
   "source": [
    "# for (d in 0:(n_donors-1)){\n",
    "#     print('donor')\n",
    "#     print(d)\n",
    "#     curr.outdir <- file.path(outdir, paste0(\"donor\", d, \"_TF\"))\n",
    "#     dir.create(curr.outdir)\n",
    "#     donor.large.clones <- large.clones %>% filter(donor==d)\n",
    "#     clones.filt.ids <- sort(donor.large.clones$lineage)\n",
    "#     print('clones')\n",
    "#     print(clones.filt.ids)\n",
    "#     print(length(clones.filt.ids))\n",
    "#     se.filt <- subset(se, subset = (donor==d) & (lineage %in% donor.large.clones$lineage))\n",
    "#     Idents(se.filt) <- se.filt$lineage  \n",
    "#     print('se.filt')\n",
    "#     print(dim(se.filt[[]]))\n",
    "\n",
    "#     pairs = combn(clones.filt.ids,2)\n",
    "#     for (i in 1:dim(combn(clones.filt.ids,2))[2]){\n",
    "#         DefaultAssay(se.filt) <- \"chromvarnames\"\n",
    "#         print(pairs[,i])\n",
    "#         try({\n",
    "#             print(paste(\"clones\", i))\n",
    "#             a = pairs[1,i]\n",
    "#             b = pairs[2,i]\n",
    "#             da <- FindMarkers(\n",
    "#               object = se.filt,\n",
    "#               ident.1 = a,\n",
    "#               ident.2 = b,\n",
    "#               only.pos = FALSE,\n",
    "#               mean.fxn = rowMeans,\n",
    "#               logfc.threshold = 0.1,\n",
    "#               min.pct = min_pct,\n",
    "#               latent.vars=latent.vars,\n",
    "#               fc.name = \"avg_diff\")\n",
    "#             da$p_val_adj_BH <- stats::p.adjust(da$p_val, method = \"BH\", n = length(da$p_val))\n",
    "#             write.csv(da, \n",
    "#                       file=file.path(curr.outdir, paste0(\"clones_\",a,\"__\", b,\".DE.TF.csv\")))\n",
    "#             gally <- GGally::ggpairs(da[,c(\"p_val\", \"p_val_adj\")], aes(alpha = 0.4))\n",
    "#             ggsave(object=gally, file=file.path(curr.outdir, paste0(\"clones_\",a,\"__\", b,\".DE.TF.pvalHist.png\")))\n",
    "#             #plotDE(se, da, c, clust_outdir)\n",
    "#             # Save motifs\n",
    "#             DefaultAssay(se.filt) <- \"ATAC\"\n",
    "#             raw.ids <- names(Motifs(se.filt)@motif.names)\n",
    "#             rownames(curr.tf.da) <- sapply((curr.tf.da$X), function(x){raw.ids[match(x, Motifs(se.filt)@motif.names)]})\n",
    "#             m <- MotifPlot(\n",
    "#               object = se.filt,\n",
    "#               motifs = head(rownames(curr.tf.da)),\n",
    "#               assay = 'ATAC'\n",
    "#             )\n",
    "#             ggsave(plot=m, \n",
    "#                        file=file.path(curr.outdir, paste0(\"clones_\",a,\"__\", b,\".DE.TF.motif.top.png\")))\n",
    "\n",
    "\n",
    "\n",
    "\n",
    "#     })\n",
    "#         }\n",
    "#     }"
   ]
  },
  {
   "cell_type": "code",
   "execution_count": null,
   "id": "1692a487",
   "metadata": {
    "papermill": {
     "duration": 0.128828,
     "end_time": "2021-12-03T20:22:45.623439",
     "exception": false,
     "start_time": "2021-12-03T20:22:45.494611",
     "status": "completed"
    },
    "tags": []
   },
   "outputs": [],
   "source": []
  },
  {
   "cell_type": "code",
   "execution_count": null,
   "id": "a9884ca6",
   "metadata": {
    "papermill": {
     "duration": 0.12803,
     "end_time": "2021-12-03T20:22:45.879369",
     "exception": false,
     "start_time": "2021-12-03T20:22:45.751339",
     "status": "completed"
    },
    "tags": []
   },
   "outputs": [],
   "source": []
  }
 ],
 "metadata": {
  "celltoolbar": "Tags",
  "kernelspec": {
   "display_name": "R",
   "language": "R",
   "name": "ir"
  },
  "language_info": {
   "codemirror_mode": "r",
   "file_extension": ".r",
   "mimetype": "text/x-r-source",
   "name": "R",
   "pygments_lexer": "r",
   "version": "4.1.1"
  },
  "papermill": {
   "default_parameters": {},
   "duration": 1147.122834,
   "end_time": "2021-12-03T20:22:46.427928",
   "environment_variables": {},
   "exception": null,
   "input_path": "/mnt/md0/isshamie/Projects/Mito_Trace/R_scripts/annotation_clones/setup_motifs_large_clones.ipynb",
   "output_path": "/data/Mito_Trace/output/pipeline/cd34norm/MTblacklist/data/merged/MT/cellr_True/numread_200/filters/minC10_minR50_topN0_hetT0.001_hetC10_hetCount5_bq20/mgatk/vireoIn/clones/variants_init/vireo/nclones20/annotation_clones/DE_large/output.ipynb",
   "parameters": {
    "n_donors": 4,
    "outdir": "/data/Mito_Trace/output/pipeline/cd34norm/MTblacklist/data/merged/MT/cellr_True/numread_200/filters/minC10_minR50_topN0_hetT0.001_hetC10_hetCount5_bq20/mgatk/vireoIn/clones/variants_init/vireo/nclones20/annotation_clones/DE_large",
    "se_f": "/data/Mito_Trace/output/pipeline/cd34norm/MTblacklist/data/merged/MT/cellr_True/numread_200/filters/minC10_minR50_topN0_hetT0.001_hetC10_hetCount5_bq20/mgatk/vireoIn/clones/variants_init/vireo/nclones20/annotation_clones/SE.rds"
   },
   "start_time": "2021-12-03T20:03:39.305094",
   "version": "2.3.3"
  }
 },
 "nbformat": 4,
 "nbformat_minor": 5
}