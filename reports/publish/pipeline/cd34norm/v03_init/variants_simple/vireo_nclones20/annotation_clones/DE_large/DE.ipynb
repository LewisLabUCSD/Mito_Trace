{
 "cells": [
  {
   "cell_type": "code",
   "execution_count": 1,
   "id": "4246cc89",
   "metadata": {
    "execution": {
     "iopub.execute_input": "2021-11-03T21:38:03.651019Z",
     "iopub.status.busy": "2021-11-03T21:38:03.644528Z",
     "iopub.status.idle": "2021-11-03T21:38:03.694381Z",
     "shell.execute_reply": "2021-11-03T21:38:03.693285Z"
    },
    "papermill": {
     "duration": 0.081048,
     "end_time": "2021-11-03T21:38:03.694597",
     "exception": false,
     "start_time": "2021-11-03T21:38:03.613549",
     "status": "completed"
    },
    "tags": [
     "parameters"
    ]
   },
   "outputs": [],
   "source": [
    "se_f = \"/data2/mito_lineage/output/pipeline/cd34norm/MTblacklist/data/merged/MT/cellr_True/numread_200/filters/minC10_minR50_topN0_hetT0.001_hetC10_hetCount5_bq20/mgatk/vireoIn/clones/variants_mgatkdonor/vireo/nclones20/enrichment/annotation_clones/SE.rds\"\n",
    "outdir = \"/data2/mito_lineage/output/pipeline/cd34norm/MTblacklist/data/merged/MT/cellr_True/numread_200/filters/minC10_minR50_topN0_hetT0.001_hetC10_hetCount5_bq20/mgatk/vireoIn/clones/variants_mgatkdonor/vireo/nclones20/enrichment/annotation_clones/DE_large\"\n",
    "n_donors = 4\n",
    "# se_f = \"/data2/mito_lineage/output/annotation_clones/data/cd34norm/MTblacklist/SE.rds\"\n",
    "# outdir = \"/data2/mito_lineage/output/annotation_clones/data/cd34norm/MTblacklist/DE_large\"\n",
    "\n",
    "# If more than 2 clones pass the cdf_thresh, use that, o.w use n_top_clones\n",
    "cdf_thresh = 0.5\n",
    "n_top_clones = 3\n",
    "\n",
    "genome = \"/data2/mito_lineage/data/external/GRCh38_MT_blacklist/fasta/genome.fa\"\n",
    "cores=16\n",
    "utils_script <- \"/data2/mito_lineage/R_scripts/seurat_utils.R\""
   ]
  },
  {
   "cell_type": "code",
   "execution_count": 2,
   "id": "2c16e4c4",
   "metadata": {
    "execution": {
     "iopub.execute_input": "2021-11-03T21:38:03.790536Z",
     "iopub.status.busy": "2021-11-03T21:38:03.748380Z",
     "iopub.status.idle": "2021-11-03T21:38:03.806788Z",
     "shell.execute_reply": "2021-11-03T21:38:03.805236Z"
    },
    "papermill": {
     "duration": 0.088962,
     "end_time": "2021-11-03T21:38:03.806912",
     "exception": false,
     "start_time": "2021-11-03T21:38:03.717950",
     "status": "completed"
    },
    "tags": [
     "injected-parameters"
    ]
   },
   "outputs": [],
   "source": [
    "# Parameters\n",
    "se_f = \"/data2/mito_lineage/output/pipeline/cd34norm/MTblacklist/data/merged/MT/cellr_True/numread_200/filters/minC10_minR50_topN0_hetT0.001_hetC10_hetCount5_bq20/mgatk/vireoIn/clones/variants_simple/vireo/nclones20/enrichment/annotation_clones/SE.rds\"\n",
    "outdir = \"/data2/mito_lineage/output/pipeline/cd34norm/MTblacklist/data/merged/MT/cellr_True/numread_200/filters/minC10_minR50_topN0_hetT0.001_hetC10_hetCount5_bq20/mgatk/vireoIn/clones/variants_simple/vireo/nclones20/enrichment/annotation_clones/DE_large\"\n",
    "n_donors = 4\n"
   ]
  },
  {
   "cell_type": "code",
   "execution_count": 3,
   "id": "fcde8835",
   "metadata": {
    "execution": {
     "iopub.execute_input": "2021-11-03T21:38:03.862301Z",
     "iopub.status.busy": "2021-11-03T21:38:03.858274Z",
     "iopub.status.idle": "2021-11-03T21:38:14.899707Z",
     "shell.execute_reply": "2021-11-03T21:38:14.898126Z"
    },
    "papermill": {
     "duration": 11.070722,
     "end_time": "2021-11-03T21:38:14.899884",
     "exception": false,
     "start_time": "2021-11-03T21:38:03.829162",
     "status": "completed"
    },
    "tags": []
   },
   "outputs": [
    {
     "name": "stderr",
     "output_type": "stream",
     "text": [
      "Attaching SeuratObject\n",
      "\n"
     ]
    }
   ],
   "source": [
    "source(utils_script)"
   ]
  },
  {
   "cell_type": "code",
   "execution_count": 4,
   "id": "5d9ca2e3",
   "metadata": {
    "execution": {
     "iopub.execute_input": "2021-11-03T21:38:14.960997Z",
     "iopub.status.busy": "2021-11-03T21:38:14.957236Z",
     "iopub.status.idle": "2021-11-03T21:38:16.947847Z",
     "shell.execute_reply": "2021-11-03T21:38:16.946453Z"
    },
    "papermill": {
     "duration": 2.020478,
     "end_time": "2021-11-03T21:38:16.947995",
     "exception": false,
     "start_time": "2021-11-03T21:38:14.927517",
     "status": "completed"
    },
    "scrolled": true,
    "tags": []
   },
   "outputs": [
    {
     "name": "stderr",
     "output_type": "stream",
     "text": [
      "\n",
      "Attaching package: ‘cowplot’\n",
      "\n",
      "\n"
     ]
    },
    {
     "name": "stderr",
     "output_type": "stream",
     "text": [
      "The following object is masked from ‘package:patchwork’:\n",
      "\n",
      "    align_plots\n",
      "\n",
      "\n"
     ]
    },
    {
     "name": "stderr",
     "output_type": "stream",
     "text": [
      "\n",
      "Attaching package: ‘dplyr’\n",
      "\n",
      "\n"
     ]
    },
    {
     "name": "stderr",
     "output_type": "stream",
     "text": [
      "The following objects are masked from ‘package:stats’:\n",
      "\n",
      "    filter, lag\n",
      "\n",
      "\n"
     ]
    },
    {
     "name": "stderr",
     "output_type": "stream",
     "text": [
      "The following objects are masked from ‘package:base’:\n",
      "\n",
      "    intersect, setdiff, setequal, union\n",
      "\n",
      "\n"
     ]
    },
    {
     "name": "stderr",
     "output_type": "stream",
     "text": [
      "Warning message:\n",
      "“Strategy 'multiprocess' is deprecated in future (>= 1.20.0). Instead, explicitly specify either 'multisession' or 'multicore'. In the current R session, 'multiprocess' equals 'multicore'.”\n"
     ]
    },
    {
     "name": "stderr",
     "output_type": "stream",
     "text": [
      "Loading required package: grid\n",
      "\n"
     ]
    },
    {
     "name": "stderr",
     "output_type": "stream",
     "text": [
      "========================================\n",
      "ComplexHeatmap version 2.9.4\n",
      "Bioconductor page: http://bioconductor.org/packages/ComplexHeatmap/\n",
      "Github page: https://github.com/jokergoo/ComplexHeatmap\n",
      "Documentation: http://jokergoo.github.io/ComplexHeatmap-reference\n",
      "\n",
      "If you use it in published research, please cite:\n",
      "Gu, Z. Complex heatmaps reveal patterns and correlations in multidimensional \n",
      "  genomic data. Bioinformatics 2016.\n",
      "\n",
      "The new InteractiveComplexHeatmap package can directly export static \n",
      "complex heatmaps into an interactive Shiny app with zero effort. Have a try!\n",
      "\n",
      "This message can be suppressed by:\n",
      "  suppressPackageStartupMessages(library(ComplexHeatmap))\n",
      "========================================\n",
      "\n",
      "\n"
     ]
    }
   ],
   "source": [
    "library(Seurat)\n",
    "library(Signac)\n",
    "library(ggplot2)\n",
    "library(patchwork)\n",
    "set.seed(1234)\n",
    "library(magrittr)\n",
    "library(cowplot)\n",
    "library(metap)\n",
    "library(dplyr)\n",
    "library(future)\n",
    "plan(\"multiprocess\", workers = cores)\n",
    "#options(future.globals.maxSize = 50000 * 1024^2) # for 50 Gb RAM\n",
    "options(future.globals.maxSize = 8000 * 1024^2)\n",
    "library(\"ComplexHeatmap\")"
   ]
  },
  {
   "cell_type": "markdown",
   "id": "e8a7d7b5",
   "metadata": {
    "papermill": {
     "duration": 0.023995,
     "end_time": "2021-11-03T21:38:16.997984",
     "exception": false,
     "start_time": "2021-11-03T21:38:16.973989",
     "status": "completed"
    },
    "tags": []
   },
   "source": [
    "## Import seurat object"
   ]
  },
  {
   "cell_type": "code",
   "execution_count": 5,
   "id": "2ef3a56c",
   "metadata": {
    "execution": {
     "iopub.execute_input": "2021-11-03T21:38:17.055325Z",
     "iopub.status.busy": "2021-11-03T21:38:17.052427Z",
     "iopub.status.idle": "2021-11-03T21:54:42.773832Z",
     "shell.execute_reply": "2021-11-03T21:54:42.772243Z"
    },
    "papermill": {
     "duration": 985.751412,
     "end_time": "2021-11-03T21:54:42.774202",
     "exception": false,
     "start_time": "2021-11-03T21:38:17.022790",
     "status": "completed"
    },
    "scrolled": true,
    "tags": []
   },
   "outputs": [
    {
     "name": "stdout",
     "output_type": "stream",
     "text": [
      "[1] \"Running chromvar\"\n"
     ]
    },
    {
     "name": "stderr",
     "output_type": "stream",
     "text": [
      "\n",
      "\n"
     ]
    },
    {
     "name": "stderr",
     "output_type": "stream",
     "text": [
      "Loading required package: BSgenome\n",
      "\n"
     ]
    },
    {
     "name": "stderr",
     "output_type": "stream",
     "text": [
      "Loading required package: BiocGenerics\n",
      "\n"
     ]
    },
    {
     "name": "stderr",
     "output_type": "stream",
     "text": [
      "Loading required package: parallel\n",
      "\n"
     ]
    },
    {
     "name": "stderr",
     "output_type": "stream",
     "text": [
      "\n",
      "Attaching package: ‘BiocGenerics’\n",
      "\n",
      "\n"
     ]
    },
    {
     "name": "stderr",
     "output_type": "stream",
     "text": [
      "The following objects are masked from ‘package:parallel’:\n",
      "\n",
      "    clusterApply, clusterApplyLB, clusterCall, clusterEvalQ,\n",
      "    clusterExport, clusterMap, parApply, parCapply, parLapply,\n",
      "    parLapplyLB, parRapply, parSapply, parSapplyLB\n",
      "\n",
      "\n"
     ]
    },
    {
     "name": "stderr",
     "output_type": "stream",
     "text": [
      "The following objects are masked from ‘package:dplyr’:\n",
      "\n",
      "    combine, intersect, setdiff, union\n",
      "\n",
      "\n"
     ]
    },
    {
     "name": "stderr",
     "output_type": "stream",
     "text": [
      "The following objects are masked from ‘package:stats’:\n",
      "\n",
      "    IQR, mad, sd, var, xtabs\n",
      "\n",
      "\n"
     ]
    },
    {
     "name": "stderr",
     "output_type": "stream",
     "text": [
      "The following objects are masked from ‘package:base’:\n",
      "\n",
      "    anyDuplicated, append, as.data.frame, basename, cbind, colnames,\n",
      "    dirname, do.call, duplicated, eval, evalq, Filter, Find, get, grep,\n",
      "    grepl, intersect, is.unsorted, lapply, Map, mapply, match, mget,\n",
      "    order, paste, pmax, pmax.int, pmin, pmin.int, Position, rank,\n",
      "    rbind, Reduce, rownames, sapply, setdiff, sort, table, tapply,\n",
      "    union, unique, unsplit, which.max, which.min\n",
      "\n",
      "\n"
     ]
    },
    {
     "name": "stderr",
     "output_type": "stream",
     "text": [
      "Loading required package: S4Vectors\n",
      "\n"
     ]
    },
    {
     "name": "stderr",
     "output_type": "stream",
     "text": [
      "Loading required package: stats4\n",
      "\n"
     ]
    },
    {
     "name": "stderr",
     "output_type": "stream",
     "text": [
      "\n",
      "Attaching package: ‘S4Vectors’\n",
      "\n",
      "\n"
     ]
    },
    {
     "name": "stderr",
     "output_type": "stream",
     "text": [
      "The following object is masked from ‘package:future’:\n",
      "\n",
      "    values\n",
      "\n",
      "\n"
     ]
    },
    {
     "name": "stderr",
     "output_type": "stream",
     "text": [
      "The following objects are masked from ‘package:dplyr’:\n",
      "\n",
      "    first, rename\n",
      "\n",
      "\n"
     ]
    },
    {
     "name": "stderr",
     "output_type": "stream",
     "text": [
      "The following objects are masked from ‘package:base’:\n",
      "\n",
      "    expand.grid, I, unname\n",
      "\n",
      "\n"
     ]
    },
    {
     "name": "stderr",
     "output_type": "stream",
     "text": [
      "Loading required package: IRanges\n",
      "\n"
     ]
    },
    {
     "name": "stderr",
     "output_type": "stream",
     "text": [
      "\n",
      "Attaching package: ‘IRanges’\n",
      "\n",
      "\n"
     ]
    },
    {
     "name": "stderr",
     "output_type": "stream",
     "text": [
      "The following objects are masked from ‘package:dplyr’:\n",
      "\n",
      "    collapse, desc, slice\n",
      "\n",
      "\n"
     ]
    },
    {
     "name": "stderr",
     "output_type": "stream",
     "text": [
      "Loading required package: GenomeInfoDb\n",
      "\n"
     ]
    },
    {
     "name": "stderr",
     "output_type": "stream",
     "text": [
      "Loading required package: GenomicRanges\n",
      "\n"
     ]
    },
    {
     "name": "stderr",
     "output_type": "stream",
     "text": [
      "Loading required package: Biostrings\n",
      "\n"
     ]
    },
    {
     "name": "stderr",
     "output_type": "stream",
     "text": [
      "Loading required package: XVector\n",
      "\n"
     ]
    },
    {
     "name": "stderr",
     "output_type": "stream",
     "text": [
      "\n",
      "Attaching package: ‘Biostrings’\n",
      "\n",
      "\n"
     ]
    },
    {
     "name": "stderr",
     "output_type": "stream",
     "text": [
      "The following object is masked from ‘package:grid’:\n",
      "\n",
      "    pattern\n",
      "\n",
      "\n"
     ]
    },
    {
     "name": "stderr",
     "output_type": "stream",
     "text": [
      "The following object is masked from ‘package:base’:\n",
      "\n",
      "    strsplit\n",
      "\n",
      "\n"
     ]
    },
    {
     "name": "stderr",
     "output_type": "stream",
     "text": [
      "Loading required package: rtracklayer\n",
      "\n"
     ]
    },
    {
     "name": "stderr",
     "output_type": "stream",
     "text": [
      "Building motif matrix\n",
      "\n"
     ]
    },
    {
     "name": "stderr",
     "output_type": "stream",
     "text": [
      "Finding motif positions\n",
      "\n"
     ]
    },
    {
     "name": "stderr",
     "output_type": "stream",
     "text": [
      "Creating Motif object\n",
      "\n"
     ]
    },
    {
     "name": "stderr",
     "output_type": "stream",
     "text": [
      "Computing GC bias per region\n",
      "\n"
     ]
    },
    {
     "name": "stderr",
     "output_type": "stream",
     "text": [
      "Selecting background regions\n",
      "\n"
     ]
    },
    {
     "name": "stderr",
     "output_type": "stream",
     "text": [
      "Computing deviations from background\n",
      "\n"
     ]
    },
    {
     "name": "stderr",
     "output_type": "stream",
     "text": [
      "Constructing chromVAR assay\n",
      "\n"
     ]
    }
   ],
   "source": [
    "if (file.exists(file.path(outdir, \"se.chromvar.rds\"))){\n",
    "    print(\"Loading se with chromvar\")\n",
    "    se <- readRDS(file=file.path(outdir, \"se.chromvar.rds\"))    \n",
    "}else{\n",
    "    print(\"Running chromvar\")\n",
    "    se = readRDS(se_f)\n",
    "#     source(\"/data2/mito_lineage/R_scripts/addPWM.R\")\n",
    "    se <- get.pwm(se, genome=genome)\n",
    "    saveRDS(object=se, file=file.path(outdir, \"se.chromvar.rds\"))    \n",
    "}\n",
    "# print(\"Running chromvar\")\n",
    "# se = readRDS(se_f)\n",
    "# source(\"/data2/mito_lineage/R_scripts/addPWM.R\")\n",
    "# se <- get.pwm(se, genome=genome)\n",
    "# saveRDS(object=se, file=file.path(outdir, \"se.chromvar.rds\"))\n",
    "\n",
    "\n",
    "# cells.meta = se[[]]\n",
    "# cells.meta$name = paste0(cells.meta$donor,\"_\", cells.meta$lineage)\n",
    "# cells.meta$name = factor(cells.meta$name)\n",
    "# cells.meta\n",
    "\n",
    "\n",
    "# se <- AddMetaData(\n",
    "#   object = se,\n",
    "#   metadata = cells.meta[\"name\"],\n",
    "#   col.name = \"name\"\n",
    "# )\n",
    "# se[[]]"
   ]
  },
  {
   "cell_type": "code",
   "execution_count": 6,
   "id": "f1dfb829",
   "metadata": {
    "execution": {
     "iopub.execute_input": "2021-11-03T21:54:42.907759Z",
     "iopub.status.busy": "2021-11-03T21:54:42.904957Z",
     "iopub.status.idle": "2021-11-03T21:54:43.072665Z",
     "shell.execute_reply": "2021-11-03T21:54:43.070592Z"
    },
    "papermill": {
     "duration": 0.257293,
     "end_time": "2021-11-03T21:54:43.072797",
     "exception": false,
     "start_time": "2021-11-03T21:54:42.815504",
     "status": "completed"
    },
    "scrolled": true,
    "tags": []
   },
   "outputs": [
    {
     "name": "stderr",
     "output_type": "stream",
     "text": [
      "`summarise()` has grouped output by 'condition', 'donor', 'lineage'. You can override using the `.groups` argument.\n",
      "\n"
     ]
    },
    {
     "data": {
      "text/html": [
       "<table class=\"dataframe\">\n",
       "<caption>A grouped_df: 158 × 5</caption>\n",
       "<thead>\n",
       "\t<tr><th scope=col>condition</th><th scope=col>donor</th><th scope=col>lineage</th><th scope=col>name</th><th scope=col>size</th></tr>\n",
       "\t<tr><th scope=col>&lt;fct&gt;</th><th scope=col>&lt;fct&gt;</th><th scope=col>&lt;fct&gt;</th><th scope=col>&lt;fct&gt;</th><th scope=col>&lt;int&gt;</th></tr>\n",
       "</thead>\n",
       "<tbody>\n",
       "\t<tr><td>Control</td><td>0</td><td>0 </td><td>0_0 </td><td>  7</td></tr>\n",
       "\t<tr><td>Control</td><td>0</td><td>1 </td><td>0_1 </td><td>  4</td></tr>\n",
       "\t<tr><td>Control</td><td>0</td><td>2 </td><td>0_2 </td><td> 19</td></tr>\n",
       "\t<tr><td>Control</td><td>0</td><td>3 </td><td>0_3 </td><td>185</td></tr>\n",
       "\t<tr><td>Control</td><td>0</td><td>4 </td><td>0_4 </td><td>  6</td></tr>\n",
       "\t<tr><td>Control</td><td>0</td><td>5 </td><td>0_5 </td><td> 14</td></tr>\n",
       "\t<tr><td>Control</td><td>0</td><td>6 </td><td>0_6 </td><td>  6</td></tr>\n",
       "\t<tr><td>Control</td><td>0</td><td>7 </td><td>0_7 </td><td> 23</td></tr>\n",
       "\t<tr><td>Control</td><td>0</td><td>8 </td><td>0_8 </td><td> 13</td></tr>\n",
       "\t<tr><td>Control</td><td>0</td><td>9 </td><td>0_9 </td><td> 13</td></tr>\n",
       "\t<tr><td>Control</td><td>0</td><td>10</td><td>0_10</td><td> 31</td></tr>\n",
       "\t<tr><td>Control</td><td>0</td><td>11</td><td>0_11</td><td> 35</td></tr>\n",
       "\t<tr><td>Control</td><td>0</td><td>12</td><td>0_12</td><td> 17</td></tr>\n",
       "\t<tr><td>Control</td><td>0</td><td>13</td><td>0_13</td><td>  2</td></tr>\n",
       "\t<tr><td>Control</td><td>0</td><td>14</td><td>0_14</td><td> 13</td></tr>\n",
       "\t<tr><td>Control</td><td>0</td><td>15</td><td>0_15</td><td> 20</td></tr>\n",
       "\t<tr><td>Control</td><td>0</td><td>16</td><td>0_16</td><td>  5</td></tr>\n",
       "\t<tr><td>Control</td><td>0</td><td>17</td><td>0_17</td><td> 23</td></tr>\n",
       "\t<tr><td>Control</td><td>0</td><td>18</td><td>0_18</td><td> 28</td></tr>\n",
       "\t<tr><td>Control</td><td>0</td><td>19</td><td>0_19</td><td> 28</td></tr>\n",
       "\t<tr><td>Control</td><td>1</td><td>0 </td><td>1_0 </td><td> 13</td></tr>\n",
       "\t<tr><td>Control</td><td>1</td><td>2 </td><td>1_2 </td><td> 27</td></tr>\n",
       "\t<tr><td>Control</td><td>1</td><td>3 </td><td>1_3 </td><td> 18</td></tr>\n",
       "\t<tr><td>Control</td><td>1</td><td>4 </td><td>1_4 </td><td>  6</td></tr>\n",
       "\t<tr><td>Control</td><td>1</td><td>5 </td><td>1_5 </td><td>  8</td></tr>\n",
       "\t<tr><td>Control</td><td>1</td><td>7 </td><td>1_7 </td><td> 12</td></tr>\n",
       "\t<tr><td>Control</td><td>1</td><td>8 </td><td>1_8 </td><td> 11</td></tr>\n",
       "\t<tr><td>Control</td><td>1</td><td>9 </td><td>1_9 </td><td>  8</td></tr>\n",
       "\t<tr><td>Control</td><td>1</td><td>10</td><td>1_10</td><td>  7</td></tr>\n",
       "\t<tr><td>Control</td><td>1</td><td>11</td><td>1_11</td><td> 31</td></tr>\n",
       "\t<tr><td>⋮</td><td>⋮</td><td>⋮</td><td>⋮</td><td>⋮</td></tr>\n",
       "\t<tr><td>Flt3l</td><td>2</td><td>10</td><td>2_10</td><td> 16</td></tr>\n",
       "\t<tr><td>Flt3l</td><td>2</td><td>11</td><td>2_11</td><td> 19</td></tr>\n",
       "\t<tr><td>Flt3l</td><td>2</td><td>12</td><td>2_12</td><td> 20</td></tr>\n",
       "\t<tr><td>Flt3l</td><td>2</td><td>13</td><td>2_13</td><td> 13</td></tr>\n",
       "\t<tr><td>Flt3l</td><td>2</td><td>14</td><td>2_14</td><td> 19</td></tr>\n",
       "\t<tr><td>Flt3l</td><td>2</td><td>15</td><td>2_15</td><td> 29</td></tr>\n",
       "\t<tr><td>Flt3l</td><td>2</td><td>16</td><td>2_16</td><td> 19</td></tr>\n",
       "\t<tr><td>Flt3l</td><td>2</td><td>17</td><td>2_17</td><td> 36</td></tr>\n",
       "\t<tr><td>Flt3l</td><td>2</td><td>18</td><td>2_18</td><td> 39</td></tr>\n",
       "\t<tr><td>Flt3l</td><td>2</td><td>19</td><td>2_19</td><td> 39</td></tr>\n",
       "\t<tr><td>Flt3l</td><td>3</td><td>0 </td><td>3_0 </td><td> 58</td></tr>\n",
       "\t<tr><td>Flt3l</td><td>3</td><td>1 </td><td>3_1 </td><td> 27</td></tr>\n",
       "\t<tr><td>Flt3l</td><td>3</td><td>2 </td><td>3_2 </td><td> 72</td></tr>\n",
       "\t<tr><td>Flt3l</td><td>3</td><td>3 </td><td>3_3 </td><td> 69</td></tr>\n",
       "\t<tr><td>Flt3l</td><td>3</td><td>4 </td><td>3_4 </td><td> 18</td></tr>\n",
       "\t<tr><td>Flt3l</td><td>3</td><td>5 </td><td>3_5 </td><td> 34</td></tr>\n",
       "\t<tr><td>Flt3l</td><td>3</td><td>6 </td><td>3_6 </td><td> 47</td></tr>\n",
       "\t<tr><td>Flt3l</td><td>3</td><td>7 </td><td>3_7 </td><td> 51</td></tr>\n",
       "\t<tr><td>Flt3l</td><td>3</td><td>8 </td><td>3_8 </td><td> 48</td></tr>\n",
       "\t<tr><td>Flt3l</td><td>3</td><td>9 </td><td>3_9 </td><td> 30</td></tr>\n",
       "\t<tr><td>Flt3l</td><td>3</td><td>10</td><td>3_10</td><td> 37</td></tr>\n",
       "\t<tr><td>Flt3l</td><td>3</td><td>11</td><td>3_11</td><td>  7</td></tr>\n",
       "\t<tr><td>Flt3l</td><td>3</td><td>12</td><td>3_12</td><td> 82</td></tr>\n",
       "\t<tr><td>Flt3l</td><td>3</td><td>13</td><td>3_13</td><td> 26</td></tr>\n",
       "\t<tr><td>Flt3l</td><td>3</td><td>14</td><td>3_14</td><td> 43</td></tr>\n",
       "\t<tr><td>Flt3l</td><td>3</td><td>15</td><td>3_15</td><td> 70</td></tr>\n",
       "\t<tr><td>Flt3l</td><td>3</td><td>16</td><td>3_16</td><td> 68</td></tr>\n",
       "\t<tr><td>Flt3l</td><td>3</td><td>17</td><td>3_17</td><td> 36</td></tr>\n",
       "\t<tr><td>Flt3l</td><td>3</td><td>18</td><td>3_18</td><td>110</td></tr>\n",
       "\t<tr><td>Flt3l</td><td>3</td><td>19</td><td>3_19</td><td> 30</td></tr>\n",
       "</tbody>\n",
       "</table>\n"
      ],
      "text/latex": [
       "A grouped\\_df: 158 × 5\n",
       "\\begin{tabular}{lllll}\n",
       " condition & donor & lineage & name & size\\\\\n",
       " <fct> & <fct> & <fct> & <fct> & <int>\\\\\n",
       "\\hline\n",
       "\t Control & 0 & 0  & 0\\_0  &   7\\\\\n",
       "\t Control & 0 & 1  & 0\\_1  &   4\\\\\n",
       "\t Control & 0 & 2  & 0\\_2  &  19\\\\\n",
       "\t Control & 0 & 3  & 0\\_3  & 185\\\\\n",
       "\t Control & 0 & 4  & 0\\_4  &   6\\\\\n",
       "\t Control & 0 & 5  & 0\\_5  &  14\\\\\n",
       "\t Control & 0 & 6  & 0\\_6  &   6\\\\\n",
       "\t Control & 0 & 7  & 0\\_7  &  23\\\\\n",
       "\t Control & 0 & 8  & 0\\_8  &  13\\\\\n",
       "\t Control & 0 & 9  & 0\\_9  &  13\\\\\n",
       "\t Control & 0 & 10 & 0\\_10 &  31\\\\\n",
       "\t Control & 0 & 11 & 0\\_11 &  35\\\\\n",
       "\t Control & 0 & 12 & 0\\_12 &  17\\\\\n",
       "\t Control & 0 & 13 & 0\\_13 &   2\\\\\n",
       "\t Control & 0 & 14 & 0\\_14 &  13\\\\\n",
       "\t Control & 0 & 15 & 0\\_15 &  20\\\\\n",
       "\t Control & 0 & 16 & 0\\_16 &   5\\\\\n",
       "\t Control & 0 & 17 & 0\\_17 &  23\\\\\n",
       "\t Control & 0 & 18 & 0\\_18 &  28\\\\\n",
       "\t Control & 0 & 19 & 0\\_19 &  28\\\\\n",
       "\t Control & 1 & 0  & 1\\_0  &  13\\\\\n",
       "\t Control & 1 & 2  & 1\\_2  &  27\\\\\n",
       "\t Control & 1 & 3  & 1\\_3  &  18\\\\\n",
       "\t Control & 1 & 4  & 1\\_4  &   6\\\\\n",
       "\t Control & 1 & 5  & 1\\_5  &   8\\\\\n",
       "\t Control & 1 & 7  & 1\\_7  &  12\\\\\n",
       "\t Control & 1 & 8  & 1\\_8  &  11\\\\\n",
       "\t Control & 1 & 9  & 1\\_9  &   8\\\\\n",
       "\t Control & 1 & 10 & 1\\_10 &   7\\\\\n",
       "\t Control & 1 & 11 & 1\\_11 &  31\\\\\n",
       "\t ⋮ & ⋮ & ⋮ & ⋮ & ⋮\\\\\n",
       "\t Flt3l & 2 & 10 & 2\\_10 &  16\\\\\n",
       "\t Flt3l & 2 & 11 & 2\\_11 &  19\\\\\n",
       "\t Flt3l & 2 & 12 & 2\\_12 &  20\\\\\n",
       "\t Flt3l & 2 & 13 & 2\\_13 &  13\\\\\n",
       "\t Flt3l & 2 & 14 & 2\\_14 &  19\\\\\n",
       "\t Flt3l & 2 & 15 & 2\\_15 &  29\\\\\n",
       "\t Flt3l & 2 & 16 & 2\\_16 &  19\\\\\n",
       "\t Flt3l & 2 & 17 & 2\\_17 &  36\\\\\n",
       "\t Flt3l & 2 & 18 & 2\\_18 &  39\\\\\n",
       "\t Flt3l & 2 & 19 & 2\\_19 &  39\\\\\n",
       "\t Flt3l & 3 & 0  & 3\\_0  &  58\\\\\n",
       "\t Flt3l & 3 & 1  & 3\\_1  &  27\\\\\n",
       "\t Flt3l & 3 & 2  & 3\\_2  &  72\\\\\n",
       "\t Flt3l & 3 & 3  & 3\\_3  &  69\\\\\n",
       "\t Flt3l & 3 & 4  & 3\\_4  &  18\\\\\n",
       "\t Flt3l & 3 & 5  & 3\\_5  &  34\\\\\n",
       "\t Flt3l & 3 & 6  & 3\\_6  &  47\\\\\n",
       "\t Flt3l & 3 & 7  & 3\\_7  &  51\\\\\n",
       "\t Flt3l & 3 & 8  & 3\\_8  &  48\\\\\n",
       "\t Flt3l & 3 & 9  & 3\\_9  &  30\\\\\n",
       "\t Flt3l & 3 & 10 & 3\\_10 &  37\\\\\n",
       "\t Flt3l & 3 & 11 & 3\\_11 &   7\\\\\n",
       "\t Flt3l & 3 & 12 & 3\\_12 &  82\\\\\n",
       "\t Flt3l & 3 & 13 & 3\\_13 &  26\\\\\n",
       "\t Flt3l & 3 & 14 & 3\\_14 &  43\\\\\n",
       "\t Flt3l & 3 & 15 & 3\\_15 &  70\\\\\n",
       "\t Flt3l & 3 & 16 & 3\\_16 &  68\\\\\n",
       "\t Flt3l & 3 & 17 & 3\\_17 &  36\\\\\n",
       "\t Flt3l & 3 & 18 & 3\\_18 & 110\\\\\n",
       "\t Flt3l & 3 & 19 & 3\\_19 &  30\\\\\n",
       "\\end{tabular}\n"
      ],
      "text/markdown": [
       "\n",
       "A grouped_df: 158 × 5\n",
       "\n",
       "| condition &lt;fct&gt; | donor &lt;fct&gt; | lineage &lt;fct&gt; | name &lt;fct&gt; | size &lt;int&gt; |\n",
       "|---|---|---|---|---|\n",
       "| Control | 0 | 0  | 0_0  |   7 |\n",
       "| Control | 0 | 1  | 0_1  |   4 |\n",
       "| Control | 0 | 2  | 0_2  |  19 |\n",
       "| Control | 0 | 3  | 0_3  | 185 |\n",
       "| Control | 0 | 4  | 0_4  |   6 |\n",
       "| Control | 0 | 5  | 0_5  |  14 |\n",
       "| Control | 0 | 6  | 0_6  |   6 |\n",
       "| Control | 0 | 7  | 0_7  |  23 |\n",
       "| Control | 0 | 8  | 0_8  |  13 |\n",
       "| Control | 0 | 9  | 0_9  |  13 |\n",
       "| Control | 0 | 10 | 0_10 |  31 |\n",
       "| Control | 0 | 11 | 0_11 |  35 |\n",
       "| Control | 0 | 12 | 0_12 |  17 |\n",
       "| Control | 0 | 13 | 0_13 |   2 |\n",
       "| Control | 0 | 14 | 0_14 |  13 |\n",
       "| Control | 0 | 15 | 0_15 |  20 |\n",
       "| Control | 0 | 16 | 0_16 |   5 |\n",
       "| Control | 0 | 17 | 0_17 |  23 |\n",
       "| Control | 0 | 18 | 0_18 |  28 |\n",
       "| Control | 0 | 19 | 0_19 |  28 |\n",
       "| Control | 1 | 0  | 1_0  |  13 |\n",
       "| Control | 1 | 2  | 1_2  |  27 |\n",
       "| Control | 1 | 3  | 1_3  |  18 |\n",
       "| Control | 1 | 4  | 1_4  |   6 |\n",
       "| Control | 1 | 5  | 1_5  |   8 |\n",
       "| Control | 1 | 7  | 1_7  |  12 |\n",
       "| Control | 1 | 8  | 1_8  |  11 |\n",
       "| Control | 1 | 9  | 1_9  |   8 |\n",
       "| Control | 1 | 10 | 1_10 |   7 |\n",
       "| Control | 1 | 11 | 1_11 |  31 |\n",
       "| ⋮ | ⋮ | ⋮ | ⋮ | ⋮ |\n",
       "| Flt3l | 2 | 10 | 2_10 |  16 |\n",
       "| Flt3l | 2 | 11 | 2_11 |  19 |\n",
       "| Flt3l | 2 | 12 | 2_12 |  20 |\n",
       "| Flt3l | 2 | 13 | 2_13 |  13 |\n",
       "| Flt3l | 2 | 14 | 2_14 |  19 |\n",
       "| Flt3l | 2 | 15 | 2_15 |  29 |\n",
       "| Flt3l | 2 | 16 | 2_16 |  19 |\n",
       "| Flt3l | 2 | 17 | 2_17 |  36 |\n",
       "| Flt3l | 2 | 18 | 2_18 |  39 |\n",
       "| Flt3l | 2 | 19 | 2_19 |  39 |\n",
       "| Flt3l | 3 | 0  | 3_0  |  58 |\n",
       "| Flt3l | 3 | 1  | 3_1  |  27 |\n",
       "| Flt3l | 3 | 2  | 3_2  |  72 |\n",
       "| Flt3l | 3 | 3  | 3_3  |  69 |\n",
       "| Flt3l | 3 | 4  | 3_4  |  18 |\n",
       "| Flt3l | 3 | 5  | 3_5  |  34 |\n",
       "| Flt3l | 3 | 6  | 3_6  |  47 |\n",
       "| Flt3l | 3 | 7  | 3_7  |  51 |\n",
       "| Flt3l | 3 | 8  | 3_8  |  48 |\n",
       "| Flt3l | 3 | 9  | 3_9  |  30 |\n",
       "| Flt3l | 3 | 10 | 3_10 |  37 |\n",
       "| Flt3l | 3 | 11 | 3_11 |   7 |\n",
       "| Flt3l | 3 | 12 | 3_12 |  82 |\n",
       "| Flt3l | 3 | 13 | 3_13 |  26 |\n",
       "| Flt3l | 3 | 14 | 3_14 |  43 |\n",
       "| Flt3l | 3 | 15 | 3_15 |  70 |\n",
       "| Flt3l | 3 | 16 | 3_16 |  68 |\n",
       "| Flt3l | 3 | 17 | 3_17 |  36 |\n",
       "| Flt3l | 3 | 18 | 3_18 | 110 |\n",
       "| Flt3l | 3 | 19 | 3_19 |  30 |\n",
       "\n"
      ],
      "text/plain": [
       "    condition donor lineage name size\n",
       "1   Control   0     0       0_0    7 \n",
       "2   Control   0     1       0_1    4 \n",
       "3   Control   0     2       0_2   19 \n",
       "4   Control   0     3       0_3  185 \n",
       "5   Control   0     4       0_4    6 \n",
       "6   Control   0     5       0_5   14 \n",
       "7   Control   0     6       0_6    6 \n",
       "8   Control   0     7       0_7   23 \n",
       "9   Control   0     8       0_8   13 \n",
       "10  Control   0     9       0_9   13 \n",
       "11  Control   0     10      0_10  31 \n",
       "12  Control   0     11      0_11  35 \n",
       "13  Control   0     12      0_12  17 \n",
       "14  Control   0     13      0_13   2 \n",
       "15  Control   0     14      0_14  13 \n",
       "16  Control   0     15      0_15  20 \n",
       "17  Control   0     16      0_16   5 \n",
       "18  Control   0     17      0_17  23 \n",
       "19  Control   0     18      0_18  28 \n",
       "20  Control   0     19      0_19  28 \n",
       "21  Control   1     0       1_0   13 \n",
       "22  Control   1     2       1_2   27 \n",
       "23  Control   1     3       1_3   18 \n",
       "24  Control   1     4       1_4    6 \n",
       "25  Control   1     5       1_5    8 \n",
       "26  Control   1     7       1_7   12 \n",
       "27  Control   1     8       1_8   11 \n",
       "28  Control   1     9       1_9    8 \n",
       "29  Control   1     10      1_10   7 \n",
       "30  Control   1     11      1_11  31 \n",
       "⋮   ⋮         ⋮     ⋮       ⋮    ⋮   \n",
       "129 Flt3l     2     10      2_10  16 \n",
       "130 Flt3l     2     11      2_11  19 \n",
       "131 Flt3l     2     12      2_12  20 \n",
       "132 Flt3l     2     13      2_13  13 \n",
       "133 Flt3l     2     14      2_14  19 \n",
       "134 Flt3l     2     15      2_15  29 \n",
       "135 Flt3l     2     16      2_16  19 \n",
       "136 Flt3l     2     17      2_17  36 \n",
       "137 Flt3l     2     18      2_18  39 \n",
       "138 Flt3l     2     19      2_19  39 \n",
       "139 Flt3l     3     0       3_0   58 \n",
       "140 Flt3l     3     1       3_1   27 \n",
       "141 Flt3l     3     2       3_2   72 \n",
       "142 Flt3l     3     3       3_3   69 \n",
       "143 Flt3l     3     4       3_4   18 \n",
       "144 Flt3l     3     5       3_5   34 \n",
       "145 Flt3l     3     6       3_6   47 \n",
       "146 Flt3l     3     7       3_7   51 \n",
       "147 Flt3l     3     8       3_8   48 \n",
       "148 Flt3l     3     9       3_9   30 \n",
       "149 Flt3l     3     10      3_10  37 \n",
       "150 Flt3l     3     11      3_11   7 \n",
       "151 Flt3l     3     12      3_12  82 \n",
       "152 Flt3l     3     13      3_13  26 \n",
       "153 Flt3l     3     14      3_14  43 \n",
       "154 Flt3l     3     15      3_15  70 \n",
       "155 Flt3l     3     16      3_16  68 \n",
       "156 Flt3l     3     17      3_17  36 \n",
       "157 Flt3l     3     18      3_18 110 \n",
       "158 Flt3l     3     19      3_19  30 "
      ]
     },
     "metadata": {},
     "output_type": "display_data"
    }
   ],
   "source": [
    "counts <- se[[]] %>%\n",
    "          group_by(condition, donor, lineage, name) %>%\n",
    "          summarize(size=n()) %>% filter(!name==\"None\")\n",
    "counts"
   ]
  },
  {
   "cell_type": "code",
   "execution_count": 7,
   "id": "c042aa55",
   "metadata": {
    "execution": {
     "iopub.execute_input": "2021-11-03T21:54:43.226450Z",
     "iopub.status.busy": "2021-11-03T21:54:43.222758Z",
     "iopub.status.idle": "2021-11-03T21:54:43.340945Z",
     "shell.execute_reply": "2021-11-03T21:54:43.339144Z"
    },
    "papermill": {
     "duration": 0.165787,
     "end_time": "2021-11-03T21:54:43.341070",
     "exception": false,
     "start_time": "2021-11-03T21:54:43.175283",
     "status": "completed"
    },
    "scrolled": true,
    "tags": []
   },
   "outputs": [
    {
     "data": {
      "text/html": [
       "<table class=\"dataframe\">\n",
       "<caption>A tibble: 158 × 7</caption>\n",
       "<thead>\n",
       "\t<tr><th scope=col>condition</th><th scope=col>donor</th><th scope=col>lineage</th><th scope=col>name</th><th scope=col>size</th><th scope=col>total</th><th scope=col>norm</th></tr>\n",
       "\t<tr><th scope=col>&lt;fct&gt;</th><th scope=col>&lt;fct&gt;</th><th scope=col>&lt;fct&gt;</th><th scope=col>&lt;fct&gt;</th><th scope=col>&lt;int&gt;</th><th scope=col>&lt;int&gt;</th><th scope=col>&lt;dbl&gt;</th></tr>\n",
       "</thead>\n",
       "<tbody>\n",
       "\t<tr><td>Control</td><td>0</td><td>0 </td><td>0_0 </td><td>  7</td><td>492</td><td>0.014227642</td></tr>\n",
       "\t<tr><td>Control</td><td>0</td><td>1 </td><td>0_1 </td><td>  4</td><td>492</td><td>0.008130081</td></tr>\n",
       "\t<tr><td>Control</td><td>0</td><td>2 </td><td>0_2 </td><td> 19</td><td>492</td><td>0.038617886</td></tr>\n",
       "\t<tr><td>Control</td><td>0</td><td>3 </td><td>0_3 </td><td>185</td><td>492</td><td>0.376016260</td></tr>\n",
       "\t<tr><td>Control</td><td>0</td><td>4 </td><td>0_4 </td><td>  6</td><td>492</td><td>0.012195122</td></tr>\n",
       "\t<tr><td>Control</td><td>0</td><td>5 </td><td>0_5 </td><td> 14</td><td>492</td><td>0.028455285</td></tr>\n",
       "\t<tr><td>Control</td><td>0</td><td>6 </td><td>0_6 </td><td>  6</td><td>492</td><td>0.012195122</td></tr>\n",
       "\t<tr><td>Control</td><td>0</td><td>7 </td><td>0_7 </td><td> 23</td><td>492</td><td>0.046747967</td></tr>\n",
       "\t<tr><td>Control</td><td>0</td><td>8 </td><td>0_8 </td><td> 13</td><td>492</td><td>0.026422764</td></tr>\n",
       "\t<tr><td>Control</td><td>0</td><td>9 </td><td>0_9 </td><td> 13</td><td>492</td><td>0.026422764</td></tr>\n",
       "\t<tr><td>Control</td><td>0</td><td>10</td><td>0_10</td><td> 31</td><td>492</td><td>0.063008130</td></tr>\n",
       "\t<tr><td>Control</td><td>0</td><td>11</td><td>0_11</td><td> 35</td><td>492</td><td>0.071138211</td></tr>\n",
       "\t<tr><td>Control</td><td>0</td><td>12</td><td>0_12</td><td> 17</td><td>492</td><td>0.034552846</td></tr>\n",
       "\t<tr><td>Control</td><td>0</td><td>13</td><td>0_13</td><td>  2</td><td>492</td><td>0.004065041</td></tr>\n",
       "\t<tr><td>Control</td><td>0</td><td>14</td><td>0_14</td><td> 13</td><td>492</td><td>0.026422764</td></tr>\n",
       "\t<tr><td>Control</td><td>0</td><td>15</td><td>0_15</td><td> 20</td><td>492</td><td>0.040650407</td></tr>\n",
       "\t<tr><td>Control</td><td>0</td><td>16</td><td>0_16</td><td>  5</td><td>492</td><td>0.010162602</td></tr>\n",
       "\t<tr><td>Control</td><td>0</td><td>17</td><td>0_17</td><td> 23</td><td>492</td><td>0.046747967</td></tr>\n",
       "\t<tr><td>Control</td><td>0</td><td>18</td><td>0_18</td><td> 28</td><td>492</td><td>0.056910569</td></tr>\n",
       "\t<tr><td>Control</td><td>0</td><td>19</td><td>0_19</td><td> 28</td><td>492</td><td>0.056910569</td></tr>\n",
       "\t<tr><td>Control</td><td>1</td><td>0 </td><td>1_0 </td><td> 13</td><td>341</td><td>0.038123167</td></tr>\n",
       "\t<tr><td>Control</td><td>1</td><td>2 </td><td>1_2 </td><td> 27</td><td>341</td><td>0.079178886</td></tr>\n",
       "\t<tr><td>Control</td><td>1</td><td>3 </td><td>1_3 </td><td> 18</td><td>341</td><td>0.052785924</td></tr>\n",
       "\t<tr><td>Control</td><td>1</td><td>4 </td><td>1_4 </td><td>  6</td><td>341</td><td>0.017595308</td></tr>\n",
       "\t<tr><td>Control</td><td>1</td><td>5 </td><td>1_5 </td><td>  8</td><td>341</td><td>0.023460411</td></tr>\n",
       "\t<tr><td>Control</td><td>1</td><td>7 </td><td>1_7 </td><td> 12</td><td>341</td><td>0.035190616</td></tr>\n",
       "\t<tr><td>Control</td><td>1</td><td>8 </td><td>1_8 </td><td> 11</td><td>341</td><td>0.032258065</td></tr>\n",
       "\t<tr><td>Control</td><td>1</td><td>9 </td><td>1_9 </td><td>  8</td><td>341</td><td>0.023460411</td></tr>\n",
       "\t<tr><td>Control</td><td>1</td><td>10</td><td>1_10</td><td>  7</td><td>341</td><td>0.020527859</td></tr>\n",
       "\t<tr><td>Control</td><td>1</td><td>11</td><td>1_11</td><td> 31</td><td>341</td><td>0.090909091</td></tr>\n",
       "\t<tr><td>⋮</td><td>⋮</td><td>⋮</td><td>⋮</td><td>⋮</td><td>⋮</td><td>⋮</td></tr>\n",
       "\t<tr><td>Flt3l</td><td>2</td><td>10</td><td>2_10</td><td> 16</td><td>478</td><td>0.033472803</td></tr>\n",
       "\t<tr><td>Flt3l</td><td>2</td><td>11</td><td>2_11</td><td> 19</td><td>478</td><td>0.039748954</td></tr>\n",
       "\t<tr><td>Flt3l</td><td>2</td><td>12</td><td>2_12</td><td> 20</td><td>478</td><td>0.041841004</td></tr>\n",
       "\t<tr><td>Flt3l</td><td>2</td><td>13</td><td>2_13</td><td> 13</td><td>478</td><td>0.027196653</td></tr>\n",
       "\t<tr><td>Flt3l</td><td>2</td><td>14</td><td>2_14</td><td> 19</td><td>478</td><td>0.039748954</td></tr>\n",
       "\t<tr><td>Flt3l</td><td>2</td><td>15</td><td>2_15</td><td> 29</td><td>478</td><td>0.060669456</td></tr>\n",
       "\t<tr><td>Flt3l</td><td>2</td><td>16</td><td>2_16</td><td> 19</td><td>478</td><td>0.039748954</td></tr>\n",
       "\t<tr><td>Flt3l</td><td>2</td><td>17</td><td>2_17</td><td> 36</td><td>478</td><td>0.075313808</td></tr>\n",
       "\t<tr><td>Flt3l</td><td>2</td><td>18</td><td>2_18</td><td> 39</td><td>478</td><td>0.081589958</td></tr>\n",
       "\t<tr><td>Flt3l</td><td>2</td><td>19</td><td>2_19</td><td> 39</td><td>478</td><td>0.081589958</td></tr>\n",
       "\t<tr><td>Flt3l</td><td>3</td><td>0 </td><td>3_0 </td><td> 58</td><td>963</td><td>0.060228453</td></tr>\n",
       "\t<tr><td>Flt3l</td><td>3</td><td>1 </td><td>3_1 </td><td> 27</td><td>963</td><td>0.028037383</td></tr>\n",
       "\t<tr><td>Flt3l</td><td>3</td><td>2 </td><td>3_2 </td><td> 72</td><td>963</td><td>0.074766355</td></tr>\n",
       "\t<tr><td>Flt3l</td><td>3</td><td>3 </td><td>3_3 </td><td> 69</td><td>963</td><td>0.071651090</td></tr>\n",
       "\t<tr><td>Flt3l</td><td>3</td><td>4 </td><td>3_4 </td><td> 18</td><td>963</td><td>0.018691589</td></tr>\n",
       "\t<tr><td>Flt3l</td><td>3</td><td>5 </td><td>3_5 </td><td> 34</td><td>963</td><td>0.035306334</td></tr>\n",
       "\t<tr><td>Flt3l</td><td>3</td><td>6 </td><td>3_6 </td><td> 47</td><td>963</td><td>0.048805815</td></tr>\n",
       "\t<tr><td>Flt3l</td><td>3</td><td>7 </td><td>3_7 </td><td> 51</td><td>963</td><td>0.052959502</td></tr>\n",
       "\t<tr><td>Flt3l</td><td>3</td><td>8 </td><td>3_8 </td><td> 48</td><td>963</td><td>0.049844237</td></tr>\n",
       "\t<tr><td>Flt3l</td><td>3</td><td>9 </td><td>3_9 </td><td> 30</td><td>963</td><td>0.031152648</td></tr>\n",
       "\t<tr><td>Flt3l</td><td>3</td><td>10</td><td>3_10</td><td> 37</td><td>963</td><td>0.038421599</td></tr>\n",
       "\t<tr><td>Flt3l</td><td>3</td><td>11</td><td>3_11</td><td>  7</td><td>963</td><td>0.007268951</td></tr>\n",
       "\t<tr><td>Flt3l</td><td>3</td><td>12</td><td>3_12</td><td> 82</td><td>963</td><td>0.085150571</td></tr>\n",
       "\t<tr><td>Flt3l</td><td>3</td><td>13</td><td>3_13</td><td> 26</td><td>963</td><td>0.026998962</td></tr>\n",
       "\t<tr><td>Flt3l</td><td>3</td><td>14</td><td>3_14</td><td> 43</td><td>963</td><td>0.044652129</td></tr>\n",
       "\t<tr><td>Flt3l</td><td>3</td><td>15</td><td>3_15</td><td> 70</td><td>963</td><td>0.072689512</td></tr>\n",
       "\t<tr><td>Flt3l</td><td>3</td><td>16</td><td>3_16</td><td> 68</td><td>963</td><td>0.070612669</td></tr>\n",
       "\t<tr><td>Flt3l</td><td>3</td><td>17</td><td>3_17</td><td> 36</td><td>963</td><td>0.037383178</td></tr>\n",
       "\t<tr><td>Flt3l</td><td>3</td><td>18</td><td>3_18</td><td>110</td><td>963</td><td>0.114226376</td></tr>\n",
       "\t<tr><td>Flt3l</td><td>3</td><td>19</td><td>3_19</td><td> 30</td><td>963</td><td>0.031152648</td></tr>\n",
       "</tbody>\n",
       "</table>\n"
      ],
      "text/latex": [
       "A tibble: 158 × 7\n",
       "\\begin{tabular}{lllllll}\n",
       " condition & donor & lineage & name & size & total & norm\\\\\n",
       " <fct> & <fct> & <fct> & <fct> & <int> & <int> & <dbl>\\\\\n",
       "\\hline\n",
       "\t Control & 0 & 0  & 0\\_0  &   7 & 492 & 0.014227642\\\\\n",
       "\t Control & 0 & 1  & 0\\_1  &   4 & 492 & 0.008130081\\\\\n",
       "\t Control & 0 & 2  & 0\\_2  &  19 & 492 & 0.038617886\\\\\n",
       "\t Control & 0 & 3  & 0\\_3  & 185 & 492 & 0.376016260\\\\\n",
       "\t Control & 0 & 4  & 0\\_4  &   6 & 492 & 0.012195122\\\\\n",
       "\t Control & 0 & 5  & 0\\_5  &  14 & 492 & 0.028455285\\\\\n",
       "\t Control & 0 & 6  & 0\\_6  &   6 & 492 & 0.012195122\\\\\n",
       "\t Control & 0 & 7  & 0\\_7  &  23 & 492 & 0.046747967\\\\\n",
       "\t Control & 0 & 8  & 0\\_8  &  13 & 492 & 0.026422764\\\\\n",
       "\t Control & 0 & 9  & 0\\_9  &  13 & 492 & 0.026422764\\\\\n",
       "\t Control & 0 & 10 & 0\\_10 &  31 & 492 & 0.063008130\\\\\n",
       "\t Control & 0 & 11 & 0\\_11 &  35 & 492 & 0.071138211\\\\\n",
       "\t Control & 0 & 12 & 0\\_12 &  17 & 492 & 0.034552846\\\\\n",
       "\t Control & 0 & 13 & 0\\_13 &   2 & 492 & 0.004065041\\\\\n",
       "\t Control & 0 & 14 & 0\\_14 &  13 & 492 & 0.026422764\\\\\n",
       "\t Control & 0 & 15 & 0\\_15 &  20 & 492 & 0.040650407\\\\\n",
       "\t Control & 0 & 16 & 0\\_16 &   5 & 492 & 0.010162602\\\\\n",
       "\t Control & 0 & 17 & 0\\_17 &  23 & 492 & 0.046747967\\\\\n",
       "\t Control & 0 & 18 & 0\\_18 &  28 & 492 & 0.056910569\\\\\n",
       "\t Control & 0 & 19 & 0\\_19 &  28 & 492 & 0.056910569\\\\\n",
       "\t Control & 1 & 0  & 1\\_0  &  13 & 341 & 0.038123167\\\\\n",
       "\t Control & 1 & 2  & 1\\_2  &  27 & 341 & 0.079178886\\\\\n",
       "\t Control & 1 & 3  & 1\\_3  &  18 & 341 & 0.052785924\\\\\n",
       "\t Control & 1 & 4  & 1\\_4  &   6 & 341 & 0.017595308\\\\\n",
       "\t Control & 1 & 5  & 1\\_5  &   8 & 341 & 0.023460411\\\\\n",
       "\t Control & 1 & 7  & 1\\_7  &  12 & 341 & 0.035190616\\\\\n",
       "\t Control & 1 & 8  & 1\\_8  &  11 & 341 & 0.032258065\\\\\n",
       "\t Control & 1 & 9  & 1\\_9  &   8 & 341 & 0.023460411\\\\\n",
       "\t Control & 1 & 10 & 1\\_10 &   7 & 341 & 0.020527859\\\\\n",
       "\t Control & 1 & 11 & 1\\_11 &  31 & 341 & 0.090909091\\\\\n",
       "\t ⋮ & ⋮ & ⋮ & ⋮ & ⋮ & ⋮ & ⋮\\\\\n",
       "\t Flt3l & 2 & 10 & 2\\_10 &  16 & 478 & 0.033472803\\\\\n",
       "\t Flt3l & 2 & 11 & 2\\_11 &  19 & 478 & 0.039748954\\\\\n",
       "\t Flt3l & 2 & 12 & 2\\_12 &  20 & 478 & 0.041841004\\\\\n",
       "\t Flt3l & 2 & 13 & 2\\_13 &  13 & 478 & 0.027196653\\\\\n",
       "\t Flt3l & 2 & 14 & 2\\_14 &  19 & 478 & 0.039748954\\\\\n",
       "\t Flt3l & 2 & 15 & 2\\_15 &  29 & 478 & 0.060669456\\\\\n",
       "\t Flt3l & 2 & 16 & 2\\_16 &  19 & 478 & 0.039748954\\\\\n",
       "\t Flt3l & 2 & 17 & 2\\_17 &  36 & 478 & 0.075313808\\\\\n",
       "\t Flt3l & 2 & 18 & 2\\_18 &  39 & 478 & 0.081589958\\\\\n",
       "\t Flt3l & 2 & 19 & 2\\_19 &  39 & 478 & 0.081589958\\\\\n",
       "\t Flt3l & 3 & 0  & 3\\_0  &  58 & 963 & 0.060228453\\\\\n",
       "\t Flt3l & 3 & 1  & 3\\_1  &  27 & 963 & 0.028037383\\\\\n",
       "\t Flt3l & 3 & 2  & 3\\_2  &  72 & 963 & 0.074766355\\\\\n",
       "\t Flt3l & 3 & 3  & 3\\_3  &  69 & 963 & 0.071651090\\\\\n",
       "\t Flt3l & 3 & 4  & 3\\_4  &  18 & 963 & 0.018691589\\\\\n",
       "\t Flt3l & 3 & 5  & 3\\_5  &  34 & 963 & 0.035306334\\\\\n",
       "\t Flt3l & 3 & 6  & 3\\_6  &  47 & 963 & 0.048805815\\\\\n",
       "\t Flt3l & 3 & 7  & 3\\_7  &  51 & 963 & 0.052959502\\\\\n",
       "\t Flt3l & 3 & 8  & 3\\_8  &  48 & 963 & 0.049844237\\\\\n",
       "\t Flt3l & 3 & 9  & 3\\_9  &  30 & 963 & 0.031152648\\\\\n",
       "\t Flt3l & 3 & 10 & 3\\_10 &  37 & 963 & 0.038421599\\\\\n",
       "\t Flt3l & 3 & 11 & 3\\_11 &   7 & 963 & 0.007268951\\\\\n",
       "\t Flt3l & 3 & 12 & 3\\_12 &  82 & 963 & 0.085150571\\\\\n",
       "\t Flt3l & 3 & 13 & 3\\_13 &  26 & 963 & 0.026998962\\\\\n",
       "\t Flt3l & 3 & 14 & 3\\_14 &  43 & 963 & 0.044652129\\\\\n",
       "\t Flt3l & 3 & 15 & 3\\_15 &  70 & 963 & 0.072689512\\\\\n",
       "\t Flt3l & 3 & 16 & 3\\_16 &  68 & 963 & 0.070612669\\\\\n",
       "\t Flt3l & 3 & 17 & 3\\_17 &  36 & 963 & 0.037383178\\\\\n",
       "\t Flt3l & 3 & 18 & 3\\_18 & 110 & 963 & 0.114226376\\\\\n",
       "\t Flt3l & 3 & 19 & 3\\_19 &  30 & 963 & 0.031152648\\\\\n",
       "\\end{tabular}\n"
      ],
      "text/markdown": [
       "\n",
       "A tibble: 158 × 7\n",
       "\n",
       "| condition &lt;fct&gt; | donor &lt;fct&gt; | lineage &lt;fct&gt; | name &lt;fct&gt; | size &lt;int&gt; | total &lt;int&gt; | norm &lt;dbl&gt; |\n",
       "|---|---|---|---|---|---|---|\n",
       "| Control | 0 | 0  | 0_0  |   7 | 492 | 0.014227642 |\n",
       "| Control | 0 | 1  | 0_1  |   4 | 492 | 0.008130081 |\n",
       "| Control | 0 | 2  | 0_2  |  19 | 492 | 0.038617886 |\n",
       "| Control | 0 | 3  | 0_3  | 185 | 492 | 0.376016260 |\n",
       "| Control | 0 | 4  | 0_4  |   6 | 492 | 0.012195122 |\n",
       "| Control | 0 | 5  | 0_5  |  14 | 492 | 0.028455285 |\n",
       "| Control | 0 | 6  | 0_6  |   6 | 492 | 0.012195122 |\n",
       "| Control | 0 | 7  | 0_7  |  23 | 492 | 0.046747967 |\n",
       "| Control | 0 | 8  | 0_8  |  13 | 492 | 0.026422764 |\n",
       "| Control | 0 | 9  | 0_9  |  13 | 492 | 0.026422764 |\n",
       "| Control | 0 | 10 | 0_10 |  31 | 492 | 0.063008130 |\n",
       "| Control | 0 | 11 | 0_11 |  35 | 492 | 0.071138211 |\n",
       "| Control | 0 | 12 | 0_12 |  17 | 492 | 0.034552846 |\n",
       "| Control | 0 | 13 | 0_13 |   2 | 492 | 0.004065041 |\n",
       "| Control | 0 | 14 | 0_14 |  13 | 492 | 0.026422764 |\n",
       "| Control | 0 | 15 | 0_15 |  20 | 492 | 0.040650407 |\n",
       "| Control | 0 | 16 | 0_16 |   5 | 492 | 0.010162602 |\n",
       "| Control | 0 | 17 | 0_17 |  23 | 492 | 0.046747967 |\n",
       "| Control | 0 | 18 | 0_18 |  28 | 492 | 0.056910569 |\n",
       "| Control | 0 | 19 | 0_19 |  28 | 492 | 0.056910569 |\n",
       "| Control | 1 | 0  | 1_0  |  13 | 341 | 0.038123167 |\n",
       "| Control | 1 | 2  | 1_2  |  27 | 341 | 0.079178886 |\n",
       "| Control | 1 | 3  | 1_3  |  18 | 341 | 0.052785924 |\n",
       "| Control | 1 | 4  | 1_4  |   6 | 341 | 0.017595308 |\n",
       "| Control | 1 | 5  | 1_5  |   8 | 341 | 0.023460411 |\n",
       "| Control | 1 | 7  | 1_7  |  12 | 341 | 0.035190616 |\n",
       "| Control | 1 | 8  | 1_8  |  11 | 341 | 0.032258065 |\n",
       "| Control | 1 | 9  | 1_9  |   8 | 341 | 0.023460411 |\n",
       "| Control | 1 | 10 | 1_10 |   7 | 341 | 0.020527859 |\n",
       "| Control | 1 | 11 | 1_11 |  31 | 341 | 0.090909091 |\n",
       "| ⋮ | ⋮ | ⋮ | ⋮ | ⋮ | ⋮ | ⋮ |\n",
       "| Flt3l | 2 | 10 | 2_10 |  16 | 478 | 0.033472803 |\n",
       "| Flt3l | 2 | 11 | 2_11 |  19 | 478 | 0.039748954 |\n",
       "| Flt3l | 2 | 12 | 2_12 |  20 | 478 | 0.041841004 |\n",
       "| Flt3l | 2 | 13 | 2_13 |  13 | 478 | 0.027196653 |\n",
       "| Flt3l | 2 | 14 | 2_14 |  19 | 478 | 0.039748954 |\n",
       "| Flt3l | 2 | 15 | 2_15 |  29 | 478 | 0.060669456 |\n",
       "| Flt3l | 2 | 16 | 2_16 |  19 | 478 | 0.039748954 |\n",
       "| Flt3l | 2 | 17 | 2_17 |  36 | 478 | 0.075313808 |\n",
       "| Flt3l | 2 | 18 | 2_18 |  39 | 478 | 0.081589958 |\n",
       "| Flt3l | 2 | 19 | 2_19 |  39 | 478 | 0.081589958 |\n",
       "| Flt3l | 3 | 0  | 3_0  |  58 | 963 | 0.060228453 |\n",
       "| Flt3l | 3 | 1  | 3_1  |  27 | 963 | 0.028037383 |\n",
       "| Flt3l | 3 | 2  | 3_2  |  72 | 963 | 0.074766355 |\n",
       "| Flt3l | 3 | 3  | 3_3  |  69 | 963 | 0.071651090 |\n",
       "| Flt3l | 3 | 4  | 3_4  |  18 | 963 | 0.018691589 |\n",
       "| Flt3l | 3 | 5  | 3_5  |  34 | 963 | 0.035306334 |\n",
       "| Flt3l | 3 | 6  | 3_6  |  47 | 963 | 0.048805815 |\n",
       "| Flt3l | 3 | 7  | 3_7  |  51 | 963 | 0.052959502 |\n",
       "| Flt3l | 3 | 8  | 3_8  |  48 | 963 | 0.049844237 |\n",
       "| Flt3l | 3 | 9  | 3_9  |  30 | 963 | 0.031152648 |\n",
       "| Flt3l | 3 | 10 | 3_10 |  37 | 963 | 0.038421599 |\n",
       "| Flt3l | 3 | 11 | 3_11 |   7 | 963 | 0.007268951 |\n",
       "| Flt3l | 3 | 12 | 3_12 |  82 | 963 | 0.085150571 |\n",
       "| Flt3l | 3 | 13 | 3_13 |  26 | 963 | 0.026998962 |\n",
       "| Flt3l | 3 | 14 | 3_14 |  43 | 963 | 0.044652129 |\n",
       "| Flt3l | 3 | 15 | 3_15 |  70 | 963 | 0.072689512 |\n",
       "| Flt3l | 3 | 16 | 3_16 |  68 | 963 | 0.070612669 |\n",
       "| Flt3l | 3 | 17 | 3_17 |  36 | 963 | 0.037383178 |\n",
       "| Flt3l | 3 | 18 | 3_18 | 110 | 963 | 0.114226376 |\n",
       "| Flt3l | 3 | 19 | 3_19 |  30 | 963 | 0.031152648 |\n",
       "\n"
      ],
      "text/plain": [
       "    condition donor lineage name size total norm       \n",
       "1   Control   0     0       0_0    7  492   0.014227642\n",
       "2   Control   0     1       0_1    4  492   0.008130081\n",
       "3   Control   0     2       0_2   19  492   0.038617886\n",
       "4   Control   0     3       0_3  185  492   0.376016260\n",
       "5   Control   0     4       0_4    6  492   0.012195122\n",
       "6   Control   0     5       0_5   14  492   0.028455285\n",
       "7   Control   0     6       0_6    6  492   0.012195122\n",
       "8   Control   0     7       0_7   23  492   0.046747967\n",
       "9   Control   0     8       0_8   13  492   0.026422764\n",
       "10  Control   0     9       0_9   13  492   0.026422764\n",
       "11  Control   0     10      0_10  31  492   0.063008130\n",
       "12  Control   0     11      0_11  35  492   0.071138211\n",
       "13  Control   0     12      0_12  17  492   0.034552846\n",
       "14  Control   0     13      0_13   2  492   0.004065041\n",
       "15  Control   0     14      0_14  13  492   0.026422764\n",
       "16  Control   0     15      0_15  20  492   0.040650407\n",
       "17  Control   0     16      0_16   5  492   0.010162602\n",
       "18  Control   0     17      0_17  23  492   0.046747967\n",
       "19  Control   0     18      0_18  28  492   0.056910569\n",
       "20  Control   0     19      0_19  28  492   0.056910569\n",
       "21  Control   1     0       1_0   13  341   0.038123167\n",
       "22  Control   1     2       1_2   27  341   0.079178886\n",
       "23  Control   1     3       1_3   18  341   0.052785924\n",
       "24  Control   1     4       1_4    6  341   0.017595308\n",
       "25  Control   1     5       1_5    8  341   0.023460411\n",
       "26  Control   1     7       1_7   12  341   0.035190616\n",
       "27  Control   1     8       1_8   11  341   0.032258065\n",
       "28  Control   1     9       1_9    8  341   0.023460411\n",
       "29  Control   1     10      1_10   7  341   0.020527859\n",
       "30  Control   1     11      1_11  31  341   0.090909091\n",
       "⋮   ⋮         ⋮     ⋮       ⋮    ⋮    ⋮     ⋮          \n",
       "129 Flt3l     2     10      2_10  16  478   0.033472803\n",
       "130 Flt3l     2     11      2_11  19  478   0.039748954\n",
       "131 Flt3l     2     12      2_12  20  478   0.041841004\n",
       "132 Flt3l     2     13      2_13  13  478   0.027196653\n",
       "133 Flt3l     2     14      2_14  19  478   0.039748954\n",
       "134 Flt3l     2     15      2_15  29  478   0.060669456\n",
       "135 Flt3l     2     16      2_16  19  478   0.039748954\n",
       "136 Flt3l     2     17      2_17  36  478   0.075313808\n",
       "137 Flt3l     2     18      2_18  39  478   0.081589958\n",
       "138 Flt3l     2     19      2_19  39  478   0.081589958\n",
       "139 Flt3l     3     0       3_0   58  963   0.060228453\n",
       "140 Flt3l     3     1       3_1   27  963   0.028037383\n",
       "141 Flt3l     3     2       3_2   72  963   0.074766355\n",
       "142 Flt3l     3     3       3_3   69  963   0.071651090\n",
       "143 Flt3l     3     4       3_4   18  963   0.018691589\n",
       "144 Flt3l     3     5       3_5   34  963   0.035306334\n",
       "145 Flt3l     3     6       3_6   47  963   0.048805815\n",
       "146 Flt3l     3     7       3_7   51  963   0.052959502\n",
       "147 Flt3l     3     8       3_8   48  963   0.049844237\n",
       "148 Flt3l     3     9       3_9   30  963   0.031152648\n",
       "149 Flt3l     3     10      3_10  37  963   0.038421599\n",
       "150 Flt3l     3     11      3_11   7  963   0.007268951\n",
       "151 Flt3l     3     12      3_12  82  963   0.085150571\n",
       "152 Flt3l     3     13      3_13  26  963   0.026998962\n",
       "153 Flt3l     3     14      3_14  43  963   0.044652129\n",
       "154 Flt3l     3     15      3_15  70  963   0.072689512\n",
       "155 Flt3l     3     16      3_16  68  963   0.070612669\n",
       "156 Flt3l     3     17      3_17  36  963   0.037383178\n",
       "157 Flt3l     3     18      3_18 110  963   0.114226376\n",
       "158 Flt3l     3     19      3_19  30  963   0.031152648"
      ]
     },
     "metadata": {},
     "output_type": "display_data"
    }
   ],
   "source": [
    "counts.norm <- counts %>% group_by(condition, donor) %>% mutate(total=sum(size)) %>% ungroup() %>% mutate(norm=size/total)\n",
    "\n",
    "counts.norm "
   ]
  },
  {
   "cell_type": "code",
   "execution_count": 8,
   "id": "b15ba9af",
   "metadata": {
    "execution": {
     "iopub.execute_input": "2021-11-03T21:54:43.432032Z",
     "iopub.status.busy": "2021-11-03T21:54:43.428423Z",
     "iopub.status.idle": "2021-11-03T21:54:43.538920Z",
     "shell.execute_reply": "2021-11-03T21:54:43.536746Z"
    },
    "papermill": {
     "duration": 0.157754,
     "end_time": "2021-11-03T21:54:43.539039",
     "exception": false,
     "start_time": "2021-11-03T21:54:43.381285",
     "status": "completed"
    },
    "scrolled": true,
    "tags": []
   },
   "outputs": [
    {
     "name": "stderr",
     "output_type": "stream",
     "text": [
      "Warning message in xtfrm.data.frame(x):\n",
      "“cannot xtfrm data frames”\n"
     ]
    },
    {
     "data": {
      "text/html": [
       "<table class=\"dataframe\">\n",
       "<caption>A tibble: 158 × 7</caption>\n",
       "<thead>\n",
       "\t<tr><th scope=col>condition</th><th scope=col>donor</th><th scope=col>lineage</th><th scope=col>name</th><th scope=col>size</th><th scope=col>total</th><th scope=col>norm</th></tr>\n",
       "\t<tr><th scope=col>&lt;fct&gt;</th><th scope=col>&lt;fct&gt;</th><th scope=col>&lt;fct&gt;</th><th scope=col>&lt;fct&gt;</th><th scope=col>&lt;int&gt;</th><th scope=col>&lt;int&gt;</th><th scope=col>&lt;dbl&gt;</th></tr>\n",
       "</thead>\n",
       "<tbody>\n",
       "\t<tr><td>Control</td><td>0</td><td>3 </td><td>0_3 </td><td>185</td><td>492</td><td>0.37601626</td></tr>\n",
       "\t<tr><td>Control</td><td>1</td><td>16</td><td>1_16</td><td> 75</td><td>341</td><td>0.21994135</td></tr>\n",
       "\t<tr><td>Flt3l  </td><td>1</td><td>16</td><td>1_16</td><td>140</td><td>743</td><td>0.18842530</td></tr>\n",
       "\t<tr><td>Control</td><td>2</td><td>17</td><td>2_17</td><td> 74</td><td>402</td><td>0.18407960</td></tr>\n",
       "\t<tr><td>Control</td><td>1</td><td>19</td><td>1_19</td><td> 50</td><td>341</td><td>0.14662757</td></tr>\n",
       "\t<tr><td>Flt3l  </td><td>0</td><td>11</td><td>0_11</td><td> 95</td><td>650</td><td>0.14615385</td></tr>\n",
       "\t<tr><td>Control</td><td>3</td><td>18</td><td>3_18</td><td> 60</td><td>428</td><td>0.14018692</td></tr>\n",
       "\t<tr><td>Flt3l  </td><td>0</td><td>3 </td><td>0_3 </td><td> 90</td><td>650</td><td>0.13846154</td></tr>\n",
       "\t<tr><td>Flt3l  </td><td>1</td><td>19</td><td>1_19</td><td> 93</td><td>743</td><td>0.12516824</td></tr>\n",
       "\t<tr><td>Flt3l  </td><td>3</td><td>18</td><td>3_18</td><td>110</td><td>963</td><td>0.11422638</td></tr>\n",
       "\t<tr><td>Control</td><td>3</td><td>2 </td><td>3_2 </td><td> 48</td><td>428</td><td>0.11214953</td></tr>\n",
       "\t<tr><td>Flt3l  </td><td>1</td><td>14</td><td>1_14</td><td> 83</td><td>743</td><td>0.11170929</td></tr>\n",
       "\t<tr><td>Control</td><td>3</td><td>14</td><td>3_14</td><td> 46</td><td>428</td><td>0.10747664</td></tr>\n",
       "\t<tr><td>Control</td><td>2</td><td>9 </td><td>2_9 </td><td> 40</td><td>402</td><td>0.09950249</td></tr>\n",
       "\t<tr><td>Flt3l  </td><td>0</td><td>14</td><td>0_14</td><td> 64</td><td>650</td><td>0.09846154</td></tr>\n",
       "\t<tr><td>Flt3l  </td><td>1</td><td>11</td><td>1_11</td><td> 73</td><td>743</td><td>0.09825034</td></tr>\n",
       "\t<tr><td>Flt3l  </td><td>0</td><td>7 </td><td>0_7 </td><td> 62</td><td>650</td><td>0.09538462</td></tr>\n",
       "\t<tr><td>Flt3l  </td><td>2</td><td>9 </td><td>2_9 </td><td> 45</td><td>478</td><td>0.09414226</td></tr>\n",
       "\t<tr><td>Control</td><td>1</td><td>11</td><td>1_11</td><td> 31</td><td>341</td><td>0.09090909</td></tr>\n",
       "\t<tr><td>Flt3l  </td><td>3</td><td>12</td><td>3_12</td><td> 82</td><td>963</td><td>0.08515057</td></tr>\n",
       "\t<tr><td>Flt3l  </td><td>1</td><td>2 </td><td>1_2 </td><td> 62</td><td>743</td><td>0.08344549</td></tr>\n",
       "\t<tr><td>Control</td><td>2</td><td>1 </td><td>2_1 </td><td> 33</td><td>402</td><td>0.08208955</td></tr>\n",
       "\t<tr><td>Control</td><td>3</td><td>6 </td><td>3_6 </td><td> 35</td><td>428</td><td>0.08177570</td></tr>\n",
       "\t<tr><td>Control</td><td>3</td><td>9 </td><td>3_9 </td><td> 35</td><td>428</td><td>0.08177570</td></tr>\n",
       "\t<tr><td>Flt3l  </td><td>2</td><td>18</td><td>2_18</td><td> 39</td><td>478</td><td>0.08158996</td></tr>\n",
       "\t<tr><td>Flt3l  </td><td>2</td><td>19</td><td>2_19</td><td> 39</td><td>478</td><td>0.08158996</td></tr>\n",
       "\t<tr><td>Control</td><td>2</td><td>18</td><td>2_18</td><td> 32</td><td>402</td><td>0.07960199</td></tr>\n",
       "\t<tr><td>Control</td><td>3</td><td>12</td><td>3_12</td><td> 34</td><td>428</td><td>0.07943925</td></tr>\n",
       "\t<tr><td>Control</td><td>1</td><td>2 </td><td>1_2 </td><td> 27</td><td>341</td><td>0.07917889</td></tr>\n",
       "\t<tr><td>Control</td><td>1</td><td>18</td><td>1_18</td><td> 26</td><td>341</td><td>0.07624633</td></tr>\n",
       "\t<tr><td>⋮</td><td>⋮</td><td>⋮</td><td>⋮</td><td>⋮</td><td>⋮</td><td>⋮</td></tr>\n",
       "\t<tr><td>Control</td><td>3</td><td>7 </td><td>3_7 </td><td> 8</td><td>428</td><td>0.018691589</td></tr>\n",
       "\t<tr><td>Control</td><td>3</td><td>11</td><td>3_11</td><td> 8</td><td>428</td><td>0.018691589</td></tr>\n",
       "\t<tr><td>Flt3l  </td><td>3</td><td>4 </td><td>3_4 </td><td>18</td><td>963</td><td>0.018691589</td></tr>\n",
       "\t<tr><td>Control</td><td>1</td><td>4 </td><td>1_4 </td><td> 6</td><td>341</td><td>0.017595308</td></tr>\n",
       "\t<tr><td>Control</td><td>1</td><td>15</td><td>1_15</td><td> 6</td><td>341</td><td>0.017595308</td></tr>\n",
       "\t<tr><td>Flt3l  </td><td>1</td><td>4 </td><td>1_4 </td><td>12</td><td>743</td><td>0.016150740</td></tr>\n",
       "\t<tr><td>Control</td><td>2</td><td>12</td><td>2_12</td><td> 6</td><td>402</td><td>0.014925373</td></tr>\n",
       "\t<tr><td>Control</td><td>0</td><td>0 </td><td>0_0 </td><td> 7</td><td>492</td><td>0.014227642</td></tr>\n",
       "\t<tr><td>Flt3l  </td><td>0</td><td>0 </td><td>0_0 </td><td> 9</td><td>650</td><td>0.013846154</td></tr>\n",
       "\t<tr><td>Flt3l  </td><td>0</td><td>8 </td><td>0_8 </td><td> 8</td><td>650</td><td>0.012307692</td></tr>\n",
       "\t<tr><td>Control</td><td>0</td><td>4 </td><td>0_4 </td><td> 6</td><td>492</td><td>0.012195122</td></tr>\n",
       "\t<tr><td>Control</td><td>0</td><td>6 </td><td>0_6 </td><td> 6</td><td>492</td><td>0.012195122</td></tr>\n",
       "\t<tr><td>Flt3l  </td><td>1</td><td>5 </td><td>1_5 </td><td> 9</td><td>743</td><td>0.012113055</td></tr>\n",
       "\t<tr><td>Control</td><td>3</td><td>16</td><td>3_16</td><td> 5</td><td>428</td><td>0.011682243</td></tr>\n",
       "\t<tr><td>Control</td><td>0</td><td>16</td><td>0_16</td><td> 5</td><td>492</td><td>0.010162602</td></tr>\n",
       "\t<tr><td>Control</td><td>2</td><td>3 </td><td>2_3 </td><td> 4</td><td>402</td><td>0.009950249</td></tr>\n",
       "\t<tr><td>Control</td><td>1</td><td>13</td><td>1_13</td><td> 3</td><td>341</td><td>0.008797654</td></tr>\n",
       "\t<tr><td>Control</td><td>0</td><td>1 </td><td>0_1 </td><td> 4</td><td>492</td><td>0.008130081</td></tr>\n",
       "\t<tr><td>Flt3l  </td><td>1</td><td>10</td><td>1_10</td><td> 6</td><td>743</td><td>0.008075370</td></tr>\n",
       "\t<tr><td>Flt3l  </td><td>0</td><td>16</td><td>0_16</td><td> 5</td><td>650</td><td>0.007692308</td></tr>\n",
       "\t<tr><td>Control</td><td>2</td><td>13</td><td>2_13</td><td> 3</td><td>402</td><td>0.007462687</td></tr>\n",
       "\t<tr><td>Flt3l  </td><td>3</td><td>11</td><td>3_11</td><td> 7</td><td>963</td><td>0.007268951</td></tr>\n",
       "\t<tr><td>Control</td><td>3</td><td>17</td><td>3_17</td><td> 3</td><td>428</td><td>0.007009346</td></tr>\n",
       "\t<tr><td>Flt3l  </td><td>0</td><td>13</td><td>0_13</td><td> 4</td><td>650</td><td>0.006153846</td></tr>\n",
       "\t<tr><td>Control</td><td>2</td><td>11</td><td>2_11</td><td> 2</td><td>402</td><td>0.004975124</td></tr>\n",
       "\t<tr><td>Control</td><td>3</td><td>1 </td><td>3_1 </td><td> 2</td><td>428</td><td>0.004672897</td></tr>\n",
       "\t<tr><td>Flt3l  </td><td>0</td><td>6 </td><td>0_6 </td><td> 3</td><td>650</td><td>0.004615385</td></tr>\n",
       "\t<tr><td>Control</td><td>0</td><td>13</td><td>0_13</td><td> 2</td><td>492</td><td>0.004065041</td></tr>\n",
       "\t<tr><td>Flt3l  </td><td>1</td><td>6 </td><td>1_6 </td><td> 3</td><td>743</td><td>0.004037685</td></tr>\n",
       "\t<tr><td>Control</td><td>3</td><td>5 </td><td>3_5 </td><td> 1</td><td>428</td><td>0.002336449</td></tr>\n",
       "</tbody>\n",
       "</table>\n"
      ],
      "text/latex": [
       "A tibble: 158 × 7\n",
       "\\begin{tabular}{lllllll}\n",
       " condition & donor & lineage & name & size & total & norm\\\\\n",
       " <fct> & <fct> & <fct> & <fct> & <int> & <int> & <dbl>\\\\\n",
       "\\hline\n",
       "\t Control & 0 & 3  & 0\\_3  & 185 & 492 & 0.37601626\\\\\n",
       "\t Control & 1 & 16 & 1\\_16 &  75 & 341 & 0.21994135\\\\\n",
       "\t Flt3l   & 1 & 16 & 1\\_16 & 140 & 743 & 0.18842530\\\\\n",
       "\t Control & 2 & 17 & 2\\_17 &  74 & 402 & 0.18407960\\\\\n",
       "\t Control & 1 & 19 & 1\\_19 &  50 & 341 & 0.14662757\\\\\n",
       "\t Flt3l   & 0 & 11 & 0\\_11 &  95 & 650 & 0.14615385\\\\\n",
       "\t Control & 3 & 18 & 3\\_18 &  60 & 428 & 0.14018692\\\\\n",
       "\t Flt3l   & 0 & 3  & 0\\_3  &  90 & 650 & 0.13846154\\\\\n",
       "\t Flt3l   & 1 & 19 & 1\\_19 &  93 & 743 & 0.12516824\\\\\n",
       "\t Flt3l   & 3 & 18 & 3\\_18 & 110 & 963 & 0.11422638\\\\\n",
       "\t Control & 3 & 2  & 3\\_2  &  48 & 428 & 0.11214953\\\\\n",
       "\t Flt3l   & 1 & 14 & 1\\_14 &  83 & 743 & 0.11170929\\\\\n",
       "\t Control & 3 & 14 & 3\\_14 &  46 & 428 & 0.10747664\\\\\n",
       "\t Control & 2 & 9  & 2\\_9  &  40 & 402 & 0.09950249\\\\\n",
       "\t Flt3l   & 0 & 14 & 0\\_14 &  64 & 650 & 0.09846154\\\\\n",
       "\t Flt3l   & 1 & 11 & 1\\_11 &  73 & 743 & 0.09825034\\\\\n",
       "\t Flt3l   & 0 & 7  & 0\\_7  &  62 & 650 & 0.09538462\\\\\n",
       "\t Flt3l   & 2 & 9  & 2\\_9  &  45 & 478 & 0.09414226\\\\\n",
       "\t Control & 1 & 11 & 1\\_11 &  31 & 341 & 0.09090909\\\\\n",
       "\t Flt3l   & 3 & 12 & 3\\_12 &  82 & 963 & 0.08515057\\\\\n",
       "\t Flt3l   & 1 & 2  & 1\\_2  &  62 & 743 & 0.08344549\\\\\n",
       "\t Control & 2 & 1  & 2\\_1  &  33 & 402 & 0.08208955\\\\\n",
       "\t Control & 3 & 6  & 3\\_6  &  35 & 428 & 0.08177570\\\\\n",
       "\t Control & 3 & 9  & 3\\_9  &  35 & 428 & 0.08177570\\\\\n",
       "\t Flt3l   & 2 & 18 & 2\\_18 &  39 & 478 & 0.08158996\\\\\n",
       "\t Flt3l   & 2 & 19 & 2\\_19 &  39 & 478 & 0.08158996\\\\\n",
       "\t Control & 2 & 18 & 2\\_18 &  32 & 402 & 0.07960199\\\\\n",
       "\t Control & 3 & 12 & 3\\_12 &  34 & 428 & 0.07943925\\\\\n",
       "\t Control & 1 & 2  & 1\\_2  &  27 & 341 & 0.07917889\\\\\n",
       "\t Control & 1 & 18 & 1\\_18 &  26 & 341 & 0.07624633\\\\\n",
       "\t ⋮ & ⋮ & ⋮ & ⋮ & ⋮ & ⋮ & ⋮\\\\\n",
       "\t Control & 3 & 7  & 3\\_7  &  8 & 428 & 0.018691589\\\\\n",
       "\t Control & 3 & 11 & 3\\_11 &  8 & 428 & 0.018691589\\\\\n",
       "\t Flt3l   & 3 & 4  & 3\\_4  & 18 & 963 & 0.018691589\\\\\n",
       "\t Control & 1 & 4  & 1\\_4  &  6 & 341 & 0.017595308\\\\\n",
       "\t Control & 1 & 15 & 1\\_15 &  6 & 341 & 0.017595308\\\\\n",
       "\t Flt3l   & 1 & 4  & 1\\_4  & 12 & 743 & 0.016150740\\\\\n",
       "\t Control & 2 & 12 & 2\\_12 &  6 & 402 & 0.014925373\\\\\n",
       "\t Control & 0 & 0  & 0\\_0  &  7 & 492 & 0.014227642\\\\\n",
       "\t Flt3l   & 0 & 0  & 0\\_0  &  9 & 650 & 0.013846154\\\\\n",
       "\t Flt3l   & 0 & 8  & 0\\_8  &  8 & 650 & 0.012307692\\\\\n",
       "\t Control & 0 & 4  & 0\\_4  &  6 & 492 & 0.012195122\\\\\n",
       "\t Control & 0 & 6  & 0\\_6  &  6 & 492 & 0.012195122\\\\\n",
       "\t Flt3l   & 1 & 5  & 1\\_5  &  9 & 743 & 0.012113055\\\\\n",
       "\t Control & 3 & 16 & 3\\_16 &  5 & 428 & 0.011682243\\\\\n",
       "\t Control & 0 & 16 & 0\\_16 &  5 & 492 & 0.010162602\\\\\n",
       "\t Control & 2 & 3  & 2\\_3  &  4 & 402 & 0.009950249\\\\\n",
       "\t Control & 1 & 13 & 1\\_13 &  3 & 341 & 0.008797654\\\\\n",
       "\t Control & 0 & 1  & 0\\_1  &  4 & 492 & 0.008130081\\\\\n",
       "\t Flt3l   & 1 & 10 & 1\\_10 &  6 & 743 & 0.008075370\\\\\n",
       "\t Flt3l   & 0 & 16 & 0\\_16 &  5 & 650 & 0.007692308\\\\\n",
       "\t Control & 2 & 13 & 2\\_13 &  3 & 402 & 0.007462687\\\\\n",
       "\t Flt3l   & 3 & 11 & 3\\_11 &  7 & 963 & 0.007268951\\\\\n",
       "\t Control & 3 & 17 & 3\\_17 &  3 & 428 & 0.007009346\\\\\n",
       "\t Flt3l   & 0 & 13 & 0\\_13 &  4 & 650 & 0.006153846\\\\\n",
       "\t Control & 2 & 11 & 2\\_11 &  2 & 402 & 0.004975124\\\\\n",
       "\t Control & 3 & 1  & 3\\_1  &  2 & 428 & 0.004672897\\\\\n",
       "\t Flt3l   & 0 & 6  & 0\\_6  &  3 & 650 & 0.004615385\\\\\n",
       "\t Control & 0 & 13 & 0\\_13 &  2 & 492 & 0.004065041\\\\\n",
       "\t Flt3l   & 1 & 6  & 1\\_6  &  3 & 743 & 0.004037685\\\\\n",
       "\t Control & 3 & 5  & 3\\_5  &  1 & 428 & 0.002336449\\\\\n",
       "\\end{tabular}\n"
      ],
      "text/markdown": [
       "\n",
       "A tibble: 158 × 7\n",
       "\n",
       "| condition &lt;fct&gt; | donor &lt;fct&gt; | lineage &lt;fct&gt; | name &lt;fct&gt; | size &lt;int&gt; | total &lt;int&gt; | norm &lt;dbl&gt; |\n",
       "|---|---|---|---|---|---|---|\n",
       "| Control | 0 | 3  | 0_3  | 185 | 492 | 0.37601626 |\n",
       "| Control | 1 | 16 | 1_16 |  75 | 341 | 0.21994135 |\n",
       "| Flt3l   | 1 | 16 | 1_16 | 140 | 743 | 0.18842530 |\n",
       "| Control | 2 | 17 | 2_17 |  74 | 402 | 0.18407960 |\n",
       "| Control | 1 | 19 | 1_19 |  50 | 341 | 0.14662757 |\n",
       "| Flt3l   | 0 | 11 | 0_11 |  95 | 650 | 0.14615385 |\n",
       "| Control | 3 | 18 | 3_18 |  60 | 428 | 0.14018692 |\n",
       "| Flt3l   | 0 | 3  | 0_3  |  90 | 650 | 0.13846154 |\n",
       "| Flt3l   | 1 | 19 | 1_19 |  93 | 743 | 0.12516824 |\n",
       "| Flt3l   | 3 | 18 | 3_18 | 110 | 963 | 0.11422638 |\n",
       "| Control | 3 | 2  | 3_2  |  48 | 428 | 0.11214953 |\n",
       "| Flt3l   | 1 | 14 | 1_14 |  83 | 743 | 0.11170929 |\n",
       "| Control | 3 | 14 | 3_14 |  46 | 428 | 0.10747664 |\n",
       "| Control | 2 | 9  | 2_9  |  40 | 402 | 0.09950249 |\n",
       "| Flt3l   | 0 | 14 | 0_14 |  64 | 650 | 0.09846154 |\n",
       "| Flt3l   | 1 | 11 | 1_11 |  73 | 743 | 0.09825034 |\n",
       "| Flt3l   | 0 | 7  | 0_7  |  62 | 650 | 0.09538462 |\n",
       "| Flt3l   | 2 | 9  | 2_9  |  45 | 478 | 0.09414226 |\n",
       "| Control | 1 | 11 | 1_11 |  31 | 341 | 0.09090909 |\n",
       "| Flt3l   | 3 | 12 | 3_12 |  82 | 963 | 0.08515057 |\n",
       "| Flt3l   | 1 | 2  | 1_2  |  62 | 743 | 0.08344549 |\n",
       "| Control | 2 | 1  | 2_1  |  33 | 402 | 0.08208955 |\n",
       "| Control | 3 | 6  | 3_6  |  35 | 428 | 0.08177570 |\n",
       "| Control | 3 | 9  | 3_9  |  35 | 428 | 0.08177570 |\n",
       "| Flt3l   | 2 | 18 | 2_18 |  39 | 478 | 0.08158996 |\n",
       "| Flt3l   | 2 | 19 | 2_19 |  39 | 478 | 0.08158996 |\n",
       "| Control | 2 | 18 | 2_18 |  32 | 402 | 0.07960199 |\n",
       "| Control | 3 | 12 | 3_12 |  34 | 428 | 0.07943925 |\n",
       "| Control | 1 | 2  | 1_2  |  27 | 341 | 0.07917889 |\n",
       "| Control | 1 | 18 | 1_18 |  26 | 341 | 0.07624633 |\n",
       "| ⋮ | ⋮ | ⋮ | ⋮ | ⋮ | ⋮ | ⋮ |\n",
       "| Control | 3 | 7  | 3_7  |  8 | 428 | 0.018691589 |\n",
       "| Control | 3 | 11 | 3_11 |  8 | 428 | 0.018691589 |\n",
       "| Flt3l   | 3 | 4  | 3_4  | 18 | 963 | 0.018691589 |\n",
       "| Control | 1 | 4  | 1_4  |  6 | 341 | 0.017595308 |\n",
       "| Control | 1 | 15 | 1_15 |  6 | 341 | 0.017595308 |\n",
       "| Flt3l   | 1 | 4  | 1_4  | 12 | 743 | 0.016150740 |\n",
       "| Control | 2 | 12 | 2_12 |  6 | 402 | 0.014925373 |\n",
       "| Control | 0 | 0  | 0_0  |  7 | 492 | 0.014227642 |\n",
       "| Flt3l   | 0 | 0  | 0_0  |  9 | 650 | 0.013846154 |\n",
       "| Flt3l   | 0 | 8  | 0_8  |  8 | 650 | 0.012307692 |\n",
       "| Control | 0 | 4  | 0_4  |  6 | 492 | 0.012195122 |\n",
       "| Control | 0 | 6  | 0_6  |  6 | 492 | 0.012195122 |\n",
       "| Flt3l   | 1 | 5  | 1_5  |  9 | 743 | 0.012113055 |\n",
       "| Control | 3 | 16 | 3_16 |  5 | 428 | 0.011682243 |\n",
       "| Control | 0 | 16 | 0_16 |  5 | 492 | 0.010162602 |\n",
       "| Control | 2 | 3  | 2_3  |  4 | 402 | 0.009950249 |\n",
       "| Control | 1 | 13 | 1_13 |  3 | 341 | 0.008797654 |\n",
       "| Control | 0 | 1  | 0_1  |  4 | 492 | 0.008130081 |\n",
       "| Flt3l   | 1 | 10 | 1_10 |  6 | 743 | 0.008075370 |\n",
       "| Flt3l   | 0 | 16 | 0_16 |  5 | 650 | 0.007692308 |\n",
       "| Control | 2 | 13 | 2_13 |  3 | 402 | 0.007462687 |\n",
       "| Flt3l   | 3 | 11 | 3_11 |  7 | 963 | 0.007268951 |\n",
       "| Control | 3 | 17 | 3_17 |  3 | 428 | 0.007009346 |\n",
       "| Flt3l   | 0 | 13 | 0_13 |  4 | 650 | 0.006153846 |\n",
       "| Control | 2 | 11 | 2_11 |  2 | 402 | 0.004975124 |\n",
       "| Control | 3 | 1  | 3_1  |  2 | 428 | 0.004672897 |\n",
       "| Flt3l   | 0 | 6  | 0_6  |  3 | 650 | 0.004615385 |\n",
       "| Control | 0 | 13 | 0_13 |  2 | 492 | 0.004065041 |\n",
       "| Flt3l   | 1 | 6  | 1_6  |  3 | 743 | 0.004037685 |\n",
       "| Control | 3 | 5  | 3_5  |  1 | 428 | 0.002336449 |\n",
       "\n"
      ],
      "text/plain": [
       "    condition donor lineage name size total norm       \n",
       "1   Control   0     3       0_3  185  492   0.37601626 \n",
       "2   Control   1     16      1_16  75  341   0.21994135 \n",
       "3   Flt3l     1     16      1_16 140  743   0.18842530 \n",
       "4   Control   2     17      2_17  74  402   0.18407960 \n",
       "5   Control   1     19      1_19  50  341   0.14662757 \n",
       "6   Flt3l     0     11      0_11  95  650   0.14615385 \n",
       "7   Control   3     18      3_18  60  428   0.14018692 \n",
       "8   Flt3l     0     3       0_3   90  650   0.13846154 \n",
       "9   Flt3l     1     19      1_19  93  743   0.12516824 \n",
       "10  Flt3l     3     18      3_18 110  963   0.11422638 \n",
       "11  Control   3     2       3_2   48  428   0.11214953 \n",
       "12  Flt3l     1     14      1_14  83  743   0.11170929 \n",
       "13  Control   3     14      3_14  46  428   0.10747664 \n",
       "14  Control   2     9       2_9   40  402   0.09950249 \n",
       "15  Flt3l     0     14      0_14  64  650   0.09846154 \n",
       "16  Flt3l     1     11      1_11  73  743   0.09825034 \n",
       "17  Flt3l     0     7       0_7   62  650   0.09538462 \n",
       "18  Flt3l     2     9       2_9   45  478   0.09414226 \n",
       "19  Control   1     11      1_11  31  341   0.09090909 \n",
       "20  Flt3l     3     12      3_12  82  963   0.08515057 \n",
       "21  Flt3l     1     2       1_2   62  743   0.08344549 \n",
       "22  Control   2     1       2_1   33  402   0.08208955 \n",
       "23  Control   3     6       3_6   35  428   0.08177570 \n",
       "24  Control   3     9       3_9   35  428   0.08177570 \n",
       "25  Flt3l     2     18      2_18  39  478   0.08158996 \n",
       "26  Flt3l     2     19      2_19  39  478   0.08158996 \n",
       "27  Control   2     18      2_18  32  402   0.07960199 \n",
       "28  Control   3     12      3_12  34  428   0.07943925 \n",
       "29  Control   1     2       1_2   27  341   0.07917889 \n",
       "30  Control   1     18      1_18  26  341   0.07624633 \n",
       "⋮   ⋮         ⋮     ⋮       ⋮    ⋮    ⋮     ⋮          \n",
       "129 Control   3     7       3_7   8   428   0.018691589\n",
       "130 Control   3     11      3_11  8   428   0.018691589\n",
       "131 Flt3l     3     4       3_4  18   963   0.018691589\n",
       "132 Control   1     4       1_4   6   341   0.017595308\n",
       "133 Control   1     15      1_15  6   341   0.017595308\n",
       "134 Flt3l     1     4       1_4  12   743   0.016150740\n",
       "135 Control   2     12      2_12  6   402   0.014925373\n",
       "136 Control   0     0       0_0   7   492   0.014227642\n",
       "137 Flt3l     0     0       0_0   9   650   0.013846154\n",
       "138 Flt3l     0     8       0_8   8   650   0.012307692\n",
       "139 Control   0     4       0_4   6   492   0.012195122\n",
       "140 Control   0     6       0_6   6   492   0.012195122\n",
       "141 Flt3l     1     5       1_5   9   743   0.012113055\n",
       "142 Control   3     16      3_16  5   428   0.011682243\n",
       "143 Control   0     16      0_16  5   492   0.010162602\n",
       "144 Control   2     3       2_3   4   402   0.009950249\n",
       "145 Control   1     13      1_13  3   341   0.008797654\n",
       "146 Control   0     1       0_1   4   492   0.008130081\n",
       "147 Flt3l     1     10      1_10  6   743   0.008075370\n",
       "148 Flt3l     0     16      0_16  5   650   0.007692308\n",
       "149 Control   2     13      2_13  3   402   0.007462687\n",
       "150 Flt3l     3     11      3_11  7   963   0.007268951\n",
       "151 Control   3     17      3_17  3   428   0.007009346\n",
       "152 Flt3l     0     13      0_13  4   650   0.006153846\n",
       "153 Control   2     11      2_11  2   402   0.004975124\n",
       "154 Control   3     1       3_1   2   428   0.004672897\n",
       "155 Flt3l     0     6       0_6   3   650   0.004615385\n",
       "156 Control   0     13      0_13  2   492   0.004065041\n",
       "157 Flt3l     1     6       1_6   3   743   0.004037685\n",
       "158 Control   3     5       3_5   1   428   0.002336449"
      ]
     },
     "metadata": {},
     "output_type": "display_data"
    }
   ],
   "source": [
    "counts.norm.sizes = counts.norm[order(counts.norm[,\"norm\"], decreasing=T),]\n",
    "counts.norm.sizes"
   ]
  },
  {
   "cell_type": "code",
   "execution_count": 9,
   "id": "67b08dba",
   "metadata": {
    "execution": {
     "iopub.execute_input": "2021-11-03T21:54:43.633747Z",
     "iopub.status.busy": "2021-11-03T21:54:43.629946Z",
     "iopub.status.idle": "2021-11-03T21:54:43.754420Z",
     "shell.execute_reply": "2021-11-03T21:54:43.752671Z"
    },
    "papermill": {
     "duration": 0.173879,
     "end_time": "2021-11-03T21:54:43.754555",
     "exception": false,
     "start_time": "2021-11-03T21:54:43.580676",
     "status": "completed"
    },
    "scrolled": true,
    "tags": []
   },
   "outputs": [
    {
     "name": "stderr",
     "output_type": "stream",
     "text": [
      "`summarise()` has grouped output by 'donor'. You can override using the `.groups` argument.\n",
      "\n"
     ]
    },
    {
     "data": {
      "text/html": [
       "<table class=\"dataframe\">\n",
       "<caption>A grouped_df: 80 × 5</caption>\n",
       "<thead>\n",
       "\t<tr><th scope=col>donor</th><th scope=col>lineage</th><th scope=col>norm.total</th><th scope=col>total</th><th scope=col>name</th></tr>\n",
       "\t<tr><th scope=col>&lt;fct&gt;</th><th scope=col>&lt;fct&gt;</th><th scope=col>&lt;dbl&gt;</th><th scope=col>&lt;int&gt;</th><th scope=col>&lt;fct&gt;</th></tr>\n",
       "</thead>\n",
       "<tbody>\n",
       "\t<tr><td>0</td><td>3 </td><td>0.5144778</td><td>275</td><td>0_3 </td></tr>\n",
       "\t<tr><td>1</td><td>16</td><td>0.4083667</td><td>215</td><td>1_16</td></tr>\n",
       "\t<tr><td>1</td><td>19</td><td>0.2717958</td><td>143</td><td>1_19</td></tr>\n",
       "\t<tr><td>2</td><td>17</td><td>0.2593934</td><td>110</td><td>2_17</td></tr>\n",
       "\t<tr><td>3</td><td>18</td><td>0.2544133</td><td>170</td><td>3_18</td></tr>\n",
       "\t<tr><td>0</td><td>11</td><td>0.2172921</td><td>130</td><td>0_11</td></tr>\n",
       "\t<tr><td>2</td><td>9 </td><td>0.1936447</td><td> 85</td><td>2_9 </td></tr>\n",
       "\t<tr><td>1</td><td>11</td><td>0.1891594</td><td>104</td><td>1_11</td></tr>\n",
       "\t<tr><td>3</td><td>2 </td><td>0.1869159</td><td>120</td><td>3_2 </td></tr>\n",
       "\t<tr><td>3</td><td>12</td><td>0.1645898</td><td>116</td><td>3_12</td></tr>\n",
       "\t<tr><td>1</td><td>2 </td><td>0.1626244</td><td> 89</td><td>1_2 </td></tr>\n",
       "\t<tr><td>2</td><td>18</td><td>0.1611919</td><td> 71</td><td>2_18</td></tr>\n",
       "\t<tr><td>3</td><td>14</td><td>0.1521288</td><td> 89</td><td>3_14</td></tr>\n",
       "\t<tr><td>1</td><td>14</td><td>0.1468999</td><td> 95</td><td>1_14</td></tr>\n",
       "\t<tr><td>3</td><td>3 </td><td>0.1440810</td><td>100</td><td>3_3 </td></tr>\n",
       "\t<tr><td>0</td><td>7 </td><td>0.1421326</td><td> 85</td><td>0_7 </td></tr>\n",
       "\t<tr><td>2</td><td>19</td><td>0.1363163</td><td> 61</td><td>2_19</td></tr>\n",
       "\t<tr><td>1</td><td>12</td><td>0.1329160</td><td> 74</td><td>1_12</td></tr>\n",
       "\t<tr><td>2</td><td>1 </td><td>0.1322988</td><td> 57</td><td>2_1 </td></tr>\n",
       "\t<tr><td>3</td><td>6 </td><td>0.1305815</td><td> 82</td><td>3_6 </td></tr>\n",
       "\t<tr><td>0</td><td>19</td><td>0.1292183</td><td> 75</td><td>0_19</td></tr>\n",
       "\t<tr><td>0</td><td>10</td><td>0.1276235</td><td> 73</td><td>0_10</td></tr>\n",
       "\t<tr><td>0</td><td>14</td><td>0.1248843</td><td> 77</td><td>0_14</td></tr>\n",
       "\t<tr><td>2</td><td>2 </td><td>0.1136993</td><td> 50</td><td>2_2 </td></tr>\n",
       "\t<tr><td>3</td><td>9 </td><td>0.1129283</td><td> 65</td><td>3_9 </td></tr>\n",
       "\t<tr><td>2</td><td>15</td><td>0.1129083</td><td> 50</td><td>2_15</td></tr>\n",
       "\t<tr><td>2</td><td>6 </td><td>0.1101917</td><td> 47</td><td>2_6 </td></tr>\n",
       "\t<tr><td>3</td><td>15</td><td>0.1077362</td><td> 85</td><td>3_15</td></tr>\n",
       "\t<tr><td>0</td><td>2 </td><td>0.1047717</td><td> 62</td><td>0_2 </td></tr>\n",
       "\t<tr><td>1</td><td>18</td><td>0.1031642</td><td> 46</td><td>1_18</td></tr>\n",
       "\t<tr><td>⋮</td><td>⋮</td><td>⋮</td><td>⋮</td><td>⋮</td></tr>\n",
       "\t<tr><td>2</td><td>0 </td><td>0.060325985</td><td>26</td><td>2_0 </td></tr>\n",
       "\t<tr><td>2</td><td>10</td><td>0.058348425</td><td>26</td><td>2_10</td></tr>\n",
       "\t<tr><td>0</td><td>12</td><td>0.057629769</td><td>32</td><td>0_12</td></tr>\n",
       "\t<tr><td>0</td><td>9 </td><td>0.057191995</td><td>33</td><td>0_9 </td></tr>\n",
       "\t<tr><td>1</td><td>0 </td><td>0.056965697</td><td>27</td><td>1_0 </td></tr>\n",
       "\t<tr><td>2</td><td>12</td><td>0.056766377</td><td>26</td><td>2_12</td></tr>\n",
       "\t<tr><td>1</td><td>7 </td><td>0.055379041</td><td>27</td><td>1_7 </td></tr>\n",
       "\t<tr><td>3</td><td>13</td><td>0.055036345</td><td>38</td><td>3_13</td></tr>\n",
       "\t<tr><td>0</td><td>4 </td><td>0.050656660</td><td>31</td><td>0_4 </td></tr>\n",
       "\t<tr><td>1</td><td>9 </td><td>0.050378311</td><td>28</td><td>1_9 </td></tr>\n",
       "\t<tr><td>1</td><td>13</td><td>0.049174505</td><td>33</td><td>1_13</td></tr>\n",
       "\t<tr><td>1</td><td>15</td><td>0.048550893</td><td>29</td><td>1_15</td></tr>\n",
       "\t<tr><td>2</td><td>11</td><td>0.044724078</td><td>21</td><td>2_11</td></tr>\n",
       "\t<tr><td>3</td><td>17</td><td>0.044392523</td><td>39</td><td>3_17</td></tr>\n",
       "\t<tr><td>1</td><td>17</td><td>0.043408075</td><td>24</td><td>1_17</td></tr>\n",
       "\t<tr><td>0</td><td>8 </td><td>0.038730457</td><td>21</td><td>0_8 </td></tr>\n",
       "\t<tr><td>3</td><td>5 </td><td>0.037642783</td><td>35</td><td>3_5 </td></tr>\n",
       "\t<tr><td>0</td><td>1 </td><td>0.037360851</td><td>23</td><td>0_1 </td></tr>\n",
       "\t<tr><td>1</td><td>5 </td><td>0.035573466</td><td>17</td><td>1_5 </td></tr>\n",
       "\t<tr><td>2</td><td>13</td><td>0.034659339</td><td>16</td><td>2_13</td></tr>\n",
       "\t<tr><td>1</td><td>4 </td><td>0.033746048</td><td>18</td><td>1_4 </td></tr>\n",
       "\t<tr><td>3</td><td>1 </td><td>0.032710280</td><td>29</td><td>3_1 </td></tr>\n",
       "\t<tr><td>1</td><td>10</td><td>0.028603229</td><td>13</td><td>1_10</td></tr>\n",
       "\t<tr><td>0</td><td>0 </td><td>0.028073796</td><td>16</td><td>0_0 </td></tr>\n",
       "\t<tr><td>3</td><td>11</td><td>0.025960540</td><td>15</td><td>3_11</td></tr>\n",
       "\t<tr><td>1</td><td>1 </td><td>0.021534320</td><td>16</td><td>1_1 </td></tr>\n",
       "\t<tr><td>0</td><td>16</td><td>0.017854909</td><td>10</td><td>0_16</td></tr>\n",
       "\t<tr><td>0</td><td>6 </td><td>0.016810507</td><td> 9</td><td>0_6 </td></tr>\n",
       "\t<tr><td>0</td><td>13</td><td>0.010218887</td><td> 6</td><td>0_13</td></tr>\n",
       "\t<tr><td>1</td><td>6 </td><td>0.004037685</td><td> 3</td><td>1_6 </td></tr>\n",
       "</tbody>\n",
       "</table>\n"
      ],
      "text/latex": [
       "A grouped\\_df: 80 × 5\n",
       "\\begin{tabular}{lllll}\n",
       " donor & lineage & norm.total & total & name\\\\\n",
       " <fct> & <fct> & <dbl> & <int> & <fct>\\\\\n",
       "\\hline\n",
       "\t 0 & 3  & 0.5144778 & 275 & 0\\_3 \\\\\n",
       "\t 1 & 16 & 0.4083667 & 215 & 1\\_16\\\\\n",
       "\t 1 & 19 & 0.2717958 & 143 & 1\\_19\\\\\n",
       "\t 2 & 17 & 0.2593934 & 110 & 2\\_17\\\\\n",
       "\t 3 & 18 & 0.2544133 & 170 & 3\\_18\\\\\n",
       "\t 0 & 11 & 0.2172921 & 130 & 0\\_11\\\\\n",
       "\t 2 & 9  & 0.1936447 &  85 & 2\\_9 \\\\\n",
       "\t 1 & 11 & 0.1891594 & 104 & 1\\_11\\\\\n",
       "\t 3 & 2  & 0.1869159 & 120 & 3\\_2 \\\\\n",
       "\t 3 & 12 & 0.1645898 & 116 & 3\\_12\\\\\n",
       "\t 1 & 2  & 0.1626244 &  89 & 1\\_2 \\\\\n",
       "\t 2 & 18 & 0.1611919 &  71 & 2\\_18\\\\\n",
       "\t 3 & 14 & 0.1521288 &  89 & 3\\_14\\\\\n",
       "\t 1 & 14 & 0.1468999 &  95 & 1\\_14\\\\\n",
       "\t 3 & 3  & 0.1440810 & 100 & 3\\_3 \\\\\n",
       "\t 0 & 7  & 0.1421326 &  85 & 0\\_7 \\\\\n",
       "\t 2 & 19 & 0.1363163 &  61 & 2\\_19\\\\\n",
       "\t 1 & 12 & 0.1329160 &  74 & 1\\_12\\\\\n",
       "\t 2 & 1  & 0.1322988 &  57 & 2\\_1 \\\\\n",
       "\t 3 & 6  & 0.1305815 &  82 & 3\\_6 \\\\\n",
       "\t 0 & 19 & 0.1292183 &  75 & 0\\_19\\\\\n",
       "\t 0 & 10 & 0.1276235 &  73 & 0\\_10\\\\\n",
       "\t 0 & 14 & 0.1248843 &  77 & 0\\_14\\\\\n",
       "\t 2 & 2  & 0.1136993 &  50 & 2\\_2 \\\\\n",
       "\t 3 & 9  & 0.1129283 &  65 & 3\\_9 \\\\\n",
       "\t 2 & 15 & 0.1129083 &  50 & 2\\_15\\\\\n",
       "\t 2 & 6  & 0.1101917 &  47 & 2\\_6 \\\\\n",
       "\t 3 & 15 & 0.1077362 &  85 & 3\\_15\\\\\n",
       "\t 0 & 2  & 0.1047717 &  62 & 0\\_2 \\\\\n",
       "\t 1 & 18 & 0.1031642 &  46 & 1\\_18\\\\\n",
       "\t ⋮ & ⋮ & ⋮ & ⋮ & ⋮\\\\\n",
       "\t 2 & 0  & 0.060325985 & 26 & 2\\_0 \\\\\n",
       "\t 2 & 10 & 0.058348425 & 26 & 2\\_10\\\\\n",
       "\t 0 & 12 & 0.057629769 & 32 & 0\\_12\\\\\n",
       "\t 0 & 9  & 0.057191995 & 33 & 0\\_9 \\\\\n",
       "\t 1 & 0  & 0.056965697 & 27 & 1\\_0 \\\\\n",
       "\t 2 & 12 & 0.056766377 & 26 & 2\\_12\\\\\n",
       "\t 1 & 7  & 0.055379041 & 27 & 1\\_7 \\\\\n",
       "\t 3 & 13 & 0.055036345 & 38 & 3\\_13\\\\\n",
       "\t 0 & 4  & 0.050656660 & 31 & 0\\_4 \\\\\n",
       "\t 1 & 9  & 0.050378311 & 28 & 1\\_9 \\\\\n",
       "\t 1 & 13 & 0.049174505 & 33 & 1\\_13\\\\\n",
       "\t 1 & 15 & 0.048550893 & 29 & 1\\_15\\\\\n",
       "\t 2 & 11 & 0.044724078 & 21 & 2\\_11\\\\\n",
       "\t 3 & 17 & 0.044392523 & 39 & 3\\_17\\\\\n",
       "\t 1 & 17 & 0.043408075 & 24 & 1\\_17\\\\\n",
       "\t 0 & 8  & 0.038730457 & 21 & 0\\_8 \\\\\n",
       "\t 3 & 5  & 0.037642783 & 35 & 3\\_5 \\\\\n",
       "\t 0 & 1  & 0.037360851 & 23 & 0\\_1 \\\\\n",
       "\t 1 & 5  & 0.035573466 & 17 & 1\\_5 \\\\\n",
       "\t 2 & 13 & 0.034659339 & 16 & 2\\_13\\\\\n",
       "\t 1 & 4  & 0.033746048 & 18 & 1\\_4 \\\\\n",
       "\t 3 & 1  & 0.032710280 & 29 & 3\\_1 \\\\\n",
       "\t 1 & 10 & 0.028603229 & 13 & 1\\_10\\\\\n",
       "\t 0 & 0  & 0.028073796 & 16 & 0\\_0 \\\\\n",
       "\t 3 & 11 & 0.025960540 & 15 & 3\\_11\\\\\n",
       "\t 1 & 1  & 0.021534320 & 16 & 1\\_1 \\\\\n",
       "\t 0 & 16 & 0.017854909 & 10 & 0\\_16\\\\\n",
       "\t 0 & 6  & 0.016810507 &  9 & 0\\_6 \\\\\n",
       "\t 0 & 13 & 0.010218887 &  6 & 0\\_13\\\\\n",
       "\t 1 & 6  & 0.004037685 &  3 & 1\\_6 \\\\\n",
       "\\end{tabular}\n"
      ],
      "text/markdown": [
       "\n",
       "A grouped_df: 80 × 5\n",
       "\n",
       "| donor &lt;fct&gt; | lineage &lt;fct&gt; | norm.total &lt;dbl&gt; | total &lt;int&gt; | name &lt;fct&gt; |\n",
       "|---|---|---|---|---|\n",
       "| 0 | 3  | 0.5144778 | 275 | 0_3  |\n",
       "| 1 | 16 | 0.4083667 | 215 | 1_16 |\n",
       "| 1 | 19 | 0.2717958 | 143 | 1_19 |\n",
       "| 2 | 17 | 0.2593934 | 110 | 2_17 |\n",
       "| 3 | 18 | 0.2544133 | 170 | 3_18 |\n",
       "| 0 | 11 | 0.2172921 | 130 | 0_11 |\n",
       "| 2 | 9  | 0.1936447 |  85 | 2_9  |\n",
       "| 1 | 11 | 0.1891594 | 104 | 1_11 |\n",
       "| 3 | 2  | 0.1869159 | 120 | 3_2  |\n",
       "| 3 | 12 | 0.1645898 | 116 | 3_12 |\n",
       "| 1 | 2  | 0.1626244 |  89 | 1_2  |\n",
       "| 2 | 18 | 0.1611919 |  71 | 2_18 |\n",
       "| 3 | 14 | 0.1521288 |  89 | 3_14 |\n",
       "| 1 | 14 | 0.1468999 |  95 | 1_14 |\n",
       "| 3 | 3  | 0.1440810 | 100 | 3_3  |\n",
       "| 0 | 7  | 0.1421326 |  85 | 0_7  |\n",
       "| 2 | 19 | 0.1363163 |  61 | 2_19 |\n",
       "| 1 | 12 | 0.1329160 |  74 | 1_12 |\n",
       "| 2 | 1  | 0.1322988 |  57 | 2_1  |\n",
       "| 3 | 6  | 0.1305815 |  82 | 3_6  |\n",
       "| 0 | 19 | 0.1292183 |  75 | 0_19 |\n",
       "| 0 | 10 | 0.1276235 |  73 | 0_10 |\n",
       "| 0 | 14 | 0.1248843 |  77 | 0_14 |\n",
       "| 2 | 2  | 0.1136993 |  50 | 2_2  |\n",
       "| 3 | 9  | 0.1129283 |  65 | 3_9  |\n",
       "| 2 | 15 | 0.1129083 |  50 | 2_15 |\n",
       "| 2 | 6  | 0.1101917 |  47 | 2_6  |\n",
       "| 3 | 15 | 0.1077362 |  85 | 3_15 |\n",
       "| 0 | 2  | 0.1047717 |  62 | 0_2  |\n",
       "| 1 | 18 | 0.1031642 |  46 | 1_18 |\n",
       "| ⋮ | ⋮ | ⋮ | ⋮ | ⋮ |\n",
       "| 2 | 0  | 0.060325985 | 26 | 2_0  |\n",
       "| 2 | 10 | 0.058348425 | 26 | 2_10 |\n",
       "| 0 | 12 | 0.057629769 | 32 | 0_12 |\n",
       "| 0 | 9  | 0.057191995 | 33 | 0_9  |\n",
       "| 1 | 0  | 0.056965697 | 27 | 1_0  |\n",
       "| 2 | 12 | 0.056766377 | 26 | 2_12 |\n",
       "| 1 | 7  | 0.055379041 | 27 | 1_7  |\n",
       "| 3 | 13 | 0.055036345 | 38 | 3_13 |\n",
       "| 0 | 4  | 0.050656660 | 31 | 0_4  |\n",
       "| 1 | 9  | 0.050378311 | 28 | 1_9  |\n",
       "| 1 | 13 | 0.049174505 | 33 | 1_13 |\n",
       "| 1 | 15 | 0.048550893 | 29 | 1_15 |\n",
       "| 2 | 11 | 0.044724078 | 21 | 2_11 |\n",
       "| 3 | 17 | 0.044392523 | 39 | 3_17 |\n",
       "| 1 | 17 | 0.043408075 | 24 | 1_17 |\n",
       "| 0 | 8  | 0.038730457 | 21 | 0_8  |\n",
       "| 3 | 5  | 0.037642783 | 35 | 3_5  |\n",
       "| 0 | 1  | 0.037360851 | 23 | 0_1  |\n",
       "| 1 | 5  | 0.035573466 | 17 | 1_5  |\n",
       "| 2 | 13 | 0.034659339 | 16 | 2_13 |\n",
       "| 1 | 4  | 0.033746048 | 18 | 1_4  |\n",
       "| 3 | 1  | 0.032710280 | 29 | 3_1  |\n",
       "| 1 | 10 | 0.028603229 | 13 | 1_10 |\n",
       "| 0 | 0  | 0.028073796 | 16 | 0_0  |\n",
       "| 3 | 11 | 0.025960540 | 15 | 3_11 |\n",
       "| 1 | 1  | 0.021534320 | 16 | 1_1  |\n",
       "| 0 | 16 | 0.017854909 | 10 | 0_16 |\n",
       "| 0 | 6  | 0.016810507 |  9 | 0_6  |\n",
       "| 0 | 13 | 0.010218887 |  6 | 0_13 |\n",
       "| 1 | 6  | 0.004037685 |  3 | 1_6  |\n",
       "\n"
      ],
      "text/plain": [
       "   donor lineage norm.total  total name\n",
       "1  0     3       0.5144778   275   0_3 \n",
       "2  1     16      0.4083667   215   1_16\n",
       "3  1     19      0.2717958   143   1_19\n",
       "4  2     17      0.2593934   110   2_17\n",
       "5  3     18      0.2544133   170   3_18\n",
       "6  0     11      0.2172921   130   0_11\n",
       "7  2     9       0.1936447    85   2_9 \n",
       "8  1     11      0.1891594   104   1_11\n",
       "9  3     2       0.1869159   120   3_2 \n",
       "10 3     12      0.1645898   116   3_12\n",
       "11 1     2       0.1626244    89   1_2 \n",
       "12 2     18      0.1611919    71   2_18\n",
       "13 3     14      0.1521288    89   3_14\n",
       "14 1     14      0.1468999    95   1_14\n",
       "15 3     3       0.1440810   100   3_3 \n",
       "16 0     7       0.1421326    85   0_7 \n",
       "17 2     19      0.1363163    61   2_19\n",
       "18 1     12      0.1329160    74   1_12\n",
       "19 2     1       0.1322988    57   2_1 \n",
       "20 3     6       0.1305815    82   3_6 \n",
       "21 0     19      0.1292183    75   0_19\n",
       "22 0     10      0.1276235    73   0_10\n",
       "23 0     14      0.1248843    77   0_14\n",
       "24 2     2       0.1136993    50   2_2 \n",
       "25 3     9       0.1129283    65   3_9 \n",
       "26 2     15      0.1129083    50   2_15\n",
       "27 2     6       0.1101917    47   2_6 \n",
       "28 3     15      0.1077362    85   3_15\n",
       "29 0     2       0.1047717    62   0_2 \n",
       "30 1     18      0.1031642    46   1_18\n",
       "⋮  ⋮     ⋮       ⋮           ⋮     ⋮   \n",
       "51 2     0       0.060325985 26    2_0 \n",
       "52 2     10      0.058348425 26    2_10\n",
       "53 0     12      0.057629769 32    0_12\n",
       "54 0     9       0.057191995 33    0_9 \n",
       "55 1     0       0.056965697 27    1_0 \n",
       "56 2     12      0.056766377 26    2_12\n",
       "57 1     7       0.055379041 27    1_7 \n",
       "58 3     13      0.055036345 38    3_13\n",
       "59 0     4       0.050656660 31    0_4 \n",
       "60 1     9       0.050378311 28    1_9 \n",
       "61 1     13      0.049174505 33    1_13\n",
       "62 1     15      0.048550893 29    1_15\n",
       "63 2     11      0.044724078 21    2_11\n",
       "64 3     17      0.044392523 39    3_17\n",
       "65 1     17      0.043408075 24    1_17\n",
       "66 0     8       0.038730457 21    0_8 \n",
       "67 3     5       0.037642783 35    3_5 \n",
       "68 0     1       0.037360851 23    0_1 \n",
       "69 1     5       0.035573466 17    1_5 \n",
       "70 2     13      0.034659339 16    2_13\n",
       "71 1     4       0.033746048 18    1_4 \n",
       "72 3     1       0.032710280 29    3_1 \n",
       "73 1     10      0.028603229 13    1_10\n",
       "74 0     0       0.028073796 16    0_0 \n",
       "75 3     11      0.025960540 15    3_11\n",
       "76 1     1       0.021534320 16    1_1 \n",
       "77 0     16      0.017854909 10    0_16\n",
       "78 0     6       0.016810507  9    0_6 \n",
       "79 0     13      0.010218887  6    0_13\n",
       "80 1     6       0.004037685  3    1_6 "
      ]
     },
     "metadata": {},
     "output_type": "display_data"
    }
   ],
   "source": [
    "clone.sizes <- counts.norm.sizes %>% \n",
    "               group_by(donor,lineage) %>% \n",
    "               summarize(norm.total=sum(norm), total=sum(size)) %>% \n",
    "               arrange(desc(norm.total)) %>% \n",
    "               mutate(name=factor(paste0(donor,\"_\", lineage)))\n",
    "\n",
    "\n",
    "clone.sizes"
   ]
  },
  {
   "cell_type": "code",
   "execution_count": 10,
   "id": "c5259eb4",
   "metadata": {
    "execution": {
     "iopub.execute_input": "2021-11-03T21:54:43.854685Z",
     "iopub.status.busy": "2021-11-03T21:54:43.850929Z",
     "iopub.status.idle": "2021-11-03T21:54:43.883830Z",
     "shell.execute_reply": "2021-11-03T21:54:43.882109Z"
    },
    "papermill": {
     "duration": 0.085311,
     "end_time": "2021-11-03T21:54:43.883948",
     "exception": false,
     "start_time": "2021-11-03T21:54:43.798637",
     "status": "completed"
    },
    "scrolled": true,
    "tags": []
   },
   "outputs": [],
   "source": [
    "clone.sizes <- clone.sizes %>% group_by(donor) %>% arrange(donor, desc(norm.total)) %>% \n",
    "                               mutate(cdf.norm=cumsum(norm.total)/2, cdf =cumsum(total),\n",
    "                                      index=1:n()) %>% \n",
    "                               ungroup %>% arrange(donor, desc(norm.total)) \n",
    "#head(clone.sizes,100)"
   ]
  },
  {
   "cell_type": "code",
   "execution_count": null,
   "id": "96d9e53b",
   "metadata": {
    "papermill": {
     "duration": 0.044657,
     "end_time": "2021-11-03T21:54:43.973961",
     "exception": false,
     "start_time": "2021-11-03T21:54:43.929304",
     "status": "completed"
    },
    "tags": []
   },
   "outputs": [],
   "source": []
  },
  {
   "cell_type": "code",
   "execution_count": 11,
   "id": "fde9c568",
   "metadata": {
    "execution": {
     "iopub.execute_input": "2021-11-03T21:54:44.074116Z",
     "iopub.status.busy": "2021-11-03T21:54:44.070370Z",
     "iopub.status.idle": "2021-11-03T21:54:45.275543Z",
     "shell.execute_reply": "2021-11-03T21:54:45.273688Z"
    },
    "papermill": {
     "duration": 1.256725,
     "end_time": "2021-11-03T21:54:45.275676",
     "exception": false,
     "start_time": "2021-11-03T21:54:44.018951",
     "status": "completed"
    },
    "scrolled": true,
    "tags": []
   },
   "outputs": [
    {
     "name": "stderr",
     "output_type": "stream",
     "text": [
      "Saving 6.67 x 6.67 in image\n",
      "\n"
     ]
    },
    {
     "data": {
      "image/png": "[encoded data removed]",
      "text/plain": [
       "plot without title"
      ]
     },
     "metadata": {
      "image/png": {
       "height": 420,
       "width": 420
      }
     },
     "output_type": "display_data"
    }
   ],
   "source": [
    "p <- ggplot(data = clone.sizes, aes(index, cdf.norm)) +\n",
    "  geom_point(color = \"steelblue\", size = 1) +\n",
    "  facet_wrap(~ donor) \n",
    "\n",
    "p <- p + geom_hline(yintercept=cdf_thresh, color='green') \n",
    "ggsave(file.path(outdir, \"clones.cdf.png\"))\n",
    "p\n"
   ]
  },
  {
   "cell_type": "code",
   "execution_count": 12,
   "id": "d1425c6e",
   "metadata": {
    "execution": {
     "iopub.execute_input": "2021-11-03T21:54:45.381494Z",
     "iopub.status.busy": "2021-11-03T21:54:45.377992Z",
     "iopub.status.idle": "2021-11-03T21:54:45.406238Z",
     "shell.execute_reply": "2021-11-03T21:54:45.404559Z"
    },
    "papermill": {
     "duration": 0.082071,
     "end_time": "2021-11-03T21:54:45.406359",
     "exception": false,
     "start_time": "2021-11-03T21:54:45.324288",
     "status": "completed"
    },
    "tags": []
   },
   "outputs": [
    {
     "data": {
      "text/html": [
       "0.127206645898235"
      ],
      "text/latex": [
       "0.127206645898235"
      ],
      "text/markdown": [
       "0.127206645898235"
      ],
      "text/plain": [
       "[1] 0.1272066"
      ]
     },
     "metadata": {},
     "output_type": "display_data"
    },
    {
     "data": {
      "text/html": [
       "1"
      ],
      "text/latex": [
       "1"
      ],
      "text/markdown": [
       "1"
      ],
      "text/plain": [
       "[1] 1"
      ]
     },
     "metadata": {},
     "output_type": "display_data"
    }
   ],
   "source": [
    "min(clone.sizes$cdf.norm)\n",
    "max(clone.sizes$cdf.norm)"
   ]
  },
  {
   "cell_type": "code",
   "execution_count": 13,
   "id": "dee1a57c",
   "metadata": {
    "execution": {
     "iopub.execute_input": "2021-11-03T21:54:45.513405Z",
     "iopub.status.busy": "2021-11-03T21:54:45.509686Z",
     "iopub.status.idle": "2021-11-03T21:54:45.728914Z",
     "shell.execute_reply": "2021-11-03T21:54:45.727320Z"
    },
    "papermill": {
     "duration": 0.274769,
     "end_time": "2021-11-03T21:54:45.729040",
     "exception": false,
     "start_time": "2021-11-03T21:54:45.454271",
     "status": "completed"
    },
    "scrolled": true,
    "tags": []
   },
   "outputs": [
    {
     "data": {
      "text/html": [
       "<table class=\"dataframe\">\n",
       "<caption>A tibble: 80 × 8</caption>\n",
       "<thead>\n",
       "\t<tr><th scope=col>donor</th><th scope=col>lineage</th><th scope=col>norm.total</th><th scope=col>total</th><th scope=col>name</th><th scope=col>cdf.norm</th><th scope=col>cdf</th><th scope=col>index</th></tr>\n",
       "\t<tr><th scope=col>&lt;fct&gt;</th><th scope=col>&lt;fct&gt;</th><th scope=col>&lt;dbl&gt;</th><th scope=col>&lt;int&gt;</th><th scope=col>&lt;fct&gt;</th><th scope=col>&lt;dbl&gt;</th><th scope=col>&lt;int&gt;</th><th scope=col>&lt;int&gt;</th></tr>\n",
       "</thead>\n",
       "<tbody>\n",
       "\t<tr><td>0</td><td>3 </td><td>0.51447780</td><td>275</td><td>0_3 </td><td>0.2572389</td><td> 275</td><td> 1</td></tr>\n",
       "\t<tr><td>0</td><td>11</td><td>0.21729206</td><td>130</td><td>0_11</td><td>0.3658849</td><td> 405</td><td> 2</td></tr>\n",
       "\t<tr><td>0</td><td>7 </td><td>0.14213258</td><td> 85</td><td>0_7 </td><td>0.4369512</td><td> 490</td><td> 3</td></tr>\n",
       "\t<tr><td>0</td><td>19</td><td>0.12921826</td><td> 75</td><td>0_19</td><td>0.5015604</td><td> 565</td><td> 4</td></tr>\n",
       "\t<tr><td>0</td><td>10</td><td>0.12762351</td><td> 73</td><td>0_10</td><td>0.5653721</td><td> 638</td><td> 5</td></tr>\n",
       "\t<tr><td>0</td><td>14</td><td>0.12488430</td><td> 77</td><td>0_14</td><td>0.6278143</td><td> 715</td><td> 6</td></tr>\n",
       "\t<tr><td>0</td><td>2 </td><td>0.10477173</td><td> 62</td><td>0_2 </td><td>0.6802001</td><td> 777</td><td> 7</td></tr>\n",
       "\t<tr><td>0</td><td>18</td><td>0.09383365</td><td> 52</td><td>0_18</td><td>0.7271169</td><td> 829</td><td> 8</td></tr>\n",
       "\t<tr><td>0</td><td>5 </td><td>0.08076298</td><td> 48</td><td>0_5 </td><td>0.7674984</td><td> 877</td><td> 9</td></tr>\n",
       "\t<tr><td>0</td><td>15</td><td>0.08065041</td><td> 46</td><td>0_15</td><td>0.8078236</td><td> 923</td><td>10</td></tr>\n",
       "\t<tr><td>0</td><td>17</td><td>0.06982489</td><td> 38</td><td>0_17</td><td>0.8427361</td><td> 961</td><td>11</td></tr>\n",
       "\t<tr><td>0</td><td>12</td><td>0.05762977</td><td> 32</td><td>0_12</td><td>0.8715510</td><td> 993</td><td>12</td></tr>\n",
       "\t<tr><td>0</td><td>9 </td><td>0.05719199</td><td> 33</td><td>0_9 </td><td>0.9001470</td><td>1026</td><td>13</td></tr>\n",
       "\t<tr><td>0</td><td>4 </td><td>0.05065666</td><td> 31</td><td>0_4 </td><td>0.9254753</td><td>1057</td><td>14</td></tr>\n",
       "\t<tr><td>0</td><td>8 </td><td>0.03873046</td><td> 21</td><td>0_8 </td><td>0.9448405</td><td>1078</td><td>15</td></tr>\n",
       "\t<tr><td>0</td><td>1 </td><td>0.03736085</td><td> 23</td><td>0_1 </td><td>0.9635210</td><td>1101</td><td>16</td></tr>\n",
       "\t<tr><td>0</td><td>0 </td><td>0.02807380</td><td> 16</td><td>0_0 </td><td>0.9775578</td><td>1117</td><td>17</td></tr>\n",
       "\t<tr><td>0</td><td>16</td><td>0.01785491</td><td> 10</td><td>0_16</td><td>0.9864853</td><td>1127</td><td>18</td></tr>\n",
       "\t<tr><td>0</td><td>6 </td><td>0.01681051</td><td>  9</td><td>0_6 </td><td>0.9948906</td><td>1136</td><td>19</td></tr>\n",
       "\t<tr><td>0</td><td>13</td><td>0.01021889</td><td>  6</td><td>0_13</td><td>1.0000000</td><td>1142</td><td>20</td></tr>\n",
       "\t<tr><td>1</td><td>16</td><td>0.40836665</td><td>215</td><td>1_16</td><td>0.2041833</td><td> 215</td><td> 1</td></tr>\n",
       "\t<tr><td>1</td><td>19</td><td>0.27179580</td><td>143</td><td>1_19</td><td>0.3400812</td><td> 358</td><td> 2</td></tr>\n",
       "\t<tr><td>1</td><td>11</td><td>0.18915943</td><td>104</td><td>1_11</td><td>0.4346609</td><td> 462</td><td> 3</td></tr>\n",
       "\t<tr><td>1</td><td>2 </td><td>0.16262438</td><td> 89</td><td>1_2 </td><td>0.5159731</td><td> 551</td><td> 4</td></tr>\n",
       "\t<tr><td>1</td><td>14</td><td>0.14689990</td><td> 95</td><td>1_14</td><td>0.5894231</td><td> 646</td><td> 5</td></tr>\n",
       "\t<tr><td>1</td><td>12</td><td>0.13291601</td><td> 74</td><td>1_12</td><td>0.6558811</td><td> 720</td><td> 6</td></tr>\n",
       "\t<tr><td>1</td><td>18</td><td>0.10316423</td><td> 46</td><td>1_18</td><td>0.7074632</td><td> 766</td><td> 7</td></tr>\n",
       "\t<tr><td>1</td><td>3 </td><td>0.09047098</td><td> 46</td><td>1_3 </td><td>0.7526987</td><td> 812</td><td> 8</td></tr>\n",
       "\t<tr><td>1</td><td>8 </td><td>0.06725134</td><td> 37</td><td>1_8 </td><td>0.7863244</td><td> 849</td><td> 9</td></tr>\n",
       "\t<tr><td>1</td><td>0 </td><td>0.05696570</td><td> 27</td><td>1_0 </td><td>0.8148072</td><td> 876</td><td>10</td></tr>\n",
       "\t<tr><td>⋮</td><td>⋮</td><td>⋮</td><td>⋮</td><td>⋮</td><td>⋮</td><td>⋮</td><td>⋮</td></tr>\n",
       "\t<tr><td>2</td><td>3 </td><td>0.07480381</td><td> 35</td><td>2_3 </td><td>0.7411062</td><td> 648</td><td>11</td></tr>\n",
       "\t<tr><td>2</td><td>8 </td><td>0.06920419</td><td> 31</td><td>2_8 </td><td>0.7757083</td><td> 679</td><td>12</td></tr>\n",
       "\t<tr><td>2</td><td>16</td><td>0.06711214</td><td> 30</td><td>2_16</td><td>0.8092643</td><td> 709</td><td>13</td></tr>\n",
       "\t<tr><td>2</td><td>4 </td><td>0.06620662</td><td> 29</td><td>2_4 </td><td>0.8423677</td><td> 738</td><td>14</td></tr>\n",
       "\t<tr><td>2</td><td>5 </td><td>0.06044048</td><td> 27</td><td>2_5 </td><td>0.8725879</td><td> 765</td><td>15</td></tr>\n",
       "\t<tr><td>2</td><td>0 </td><td>0.06032599</td><td> 26</td><td>2_0 </td><td>0.9027509</td><td> 791</td><td>16</td></tr>\n",
       "\t<tr><td>2</td><td>10</td><td>0.05834843</td><td> 26</td><td>2_10</td><td>0.9319251</td><td> 817</td><td>17</td></tr>\n",
       "\t<tr><td>2</td><td>12</td><td>0.05676638</td><td> 26</td><td>2_12</td><td>0.9603083</td><td> 843</td><td>18</td></tr>\n",
       "\t<tr><td>2</td><td>11</td><td>0.04472408</td><td> 21</td><td>2_11</td><td>0.9826703</td><td> 864</td><td>19</td></tr>\n",
       "\t<tr><td>2</td><td>13</td><td>0.03465934</td><td> 16</td><td>2_13</td><td>1.0000000</td><td> 880</td><td>20</td></tr>\n",
       "\t<tr><td>3</td><td>18</td><td>0.25441329</td><td>170</td><td>3_18</td><td>0.1272066</td><td> 170</td><td> 1</td></tr>\n",
       "\t<tr><td>3</td><td>2 </td><td>0.18691589</td><td>120</td><td>3_2 </td><td>0.2206646</td><td> 290</td><td> 2</td></tr>\n",
       "\t<tr><td>3</td><td>12</td><td>0.16458982</td><td>116</td><td>3_12</td><td>0.3029595</td><td> 406</td><td> 3</td></tr>\n",
       "\t<tr><td>3</td><td>14</td><td>0.15212876</td><td> 89</td><td>3_14</td><td>0.3790239</td><td> 495</td><td> 4</td></tr>\n",
       "\t<tr><td>3</td><td>3 </td><td>0.14408100</td><td>100</td><td>3_3 </td><td>0.4510644</td><td> 595</td><td> 5</td></tr>\n",
       "\t<tr><td>3</td><td>6 </td><td>0.13058152</td><td> 82</td><td>3_6 </td><td>0.5163551</td><td> 677</td><td> 6</td></tr>\n",
       "\t<tr><td>3</td><td>9 </td><td>0.11292835</td><td> 65</td><td>3_9 </td><td>0.5728193</td><td> 742</td><td> 7</td></tr>\n",
       "\t<tr><td>3</td><td>15</td><td>0.10773624</td><td> 85</td><td>3_15</td><td>0.6266874</td><td> 827</td><td> 8</td></tr>\n",
       "\t<tr><td>3</td><td>19</td><td>0.09423676</td><td> 57</td><td>3_19</td><td>0.6738058</td><td> 884</td><td> 9</td></tr>\n",
       "\t<tr><td>3</td><td>0 </td><td>0.08359294</td><td> 68</td><td>3_0 </td><td>0.7156023</td><td> 952</td><td>10</td></tr>\n",
       "\t<tr><td>3</td><td>16</td><td>0.08229491</td><td> 73</td><td>3_16</td><td>0.7567497</td><td>1025</td><td>11</td></tr>\n",
       "\t<tr><td>3</td><td>8 </td><td>0.07788162</td><td> 60</td><td>3_8 </td><td>0.7956906</td><td>1085</td><td>12</td></tr>\n",
       "\t<tr><td>3</td><td>4 </td><td>0.07710280</td><td> 43</td><td>3_4 </td><td>0.8342420</td><td>1128</td><td>13</td></tr>\n",
       "\t<tr><td>3</td><td>7 </td><td>0.07165109</td><td> 59</td><td>3_7 </td><td>0.8700675</td><td>1187</td><td>14</td></tr>\n",
       "\t<tr><td>3</td><td>10</td><td>0.06412253</td><td> 48</td><td>3_10</td><td>0.9021288</td><td>1235</td><td>15</td></tr>\n",
       "\t<tr><td>3</td><td>13</td><td>0.05503634</td><td> 38</td><td>3_13</td><td>0.9296469</td><td>1273</td><td>16</td></tr>\n",
       "\t<tr><td>3</td><td>17</td><td>0.04439252</td><td> 39</td><td>3_17</td><td>0.9518432</td><td>1312</td><td>17</td></tr>\n",
       "\t<tr><td>3</td><td>5 </td><td>0.03764278</td><td> 35</td><td>3_5 </td><td>0.9706646</td><td>1347</td><td>18</td></tr>\n",
       "\t<tr><td>3</td><td>1 </td><td>0.03271028</td><td> 29</td><td>3_1 </td><td>0.9870197</td><td>1376</td><td>19</td></tr>\n",
       "\t<tr><td>3</td><td>11</td><td>0.02596054</td><td> 15</td><td>3_11</td><td>1.0000000</td><td>1391</td><td>20</td></tr>\n",
       "</tbody>\n",
       "</table>\n"
      ],
      "text/latex": [
       "A tibble: 80 × 8\n",
       "\\begin{tabular}{llllllll}\n",
       " donor & lineage & norm.total & total & name & cdf.norm & cdf & index\\\\\n",
       " <fct> & <fct> & <dbl> & <int> & <fct> & <dbl> & <int> & <int>\\\\\n",
       "\\hline\n",
       "\t 0 & 3  & 0.51447780 & 275 & 0\\_3  & 0.2572389 &  275 &  1\\\\\n",
       "\t 0 & 11 & 0.21729206 & 130 & 0\\_11 & 0.3658849 &  405 &  2\\\\\n",
       "\t 0 & 7  & 0.14213258 &  85 & 0\\_7  & 0.4369512 &  490 &  3\\\\\n",
       "\t 0 & 19 & 0.12921826 &  75 & 0\\_19 & 0.5015604 &  565 &  4\\\\\n",
       "\t 0 & 10 & 0.12762351 &  73 & 0\\_10 & 0.5653721 &  638 &  5\\\\\n",
       "\t 0 & 14 & 0.12488430 &  77 & 0\\_14 & 0.6278143 &  715 &  6\\\\\n",
       "\t 0 & 2  & 0.10477173 &  62 & 0\\_2  & 0.6802001 &  777 &  7\\\\\n",
       "\t 0 & 18 & 0.09383365 &  52 & 0\\_18 & 0.7271169 &  829 &  8\\\\\n",
       "\t 0 & 5  & 0.08076298 &  48 & 0\\_5  & 0.7674984 &  877 &  9\\\\\n",
       "\t 0 & 15 & 0.08065041 &  46 & 0\\_15 & 0.8078236 &  923 & 10\\\\\n",
       "\t 0 & 17 & 0.06982489 &  38 & 0\\_17 & 0.8427361 &  961 & 11\\\\\n",
       "\t 0 & 12 & 0.05762977 &  32 & 0\\_12 & 0.8715510 &  993 & 12\\\\\n",
       "\t 0 & 9  & 0.05719199 &  33 & 0\\_9  & 0.9001470 & 1026 & 13\\\\\n",
       "\t 0 & 4  & 0.05065666 &  31 & 0\\_4  & 0.9254753 & 1057 & 14\\\\\n",
       "\t 0 & 8  & 0.03873046 &  21 & 0\\_8  & 0.9448405 & 1078 & 15\\\\\n",
       "\t 0 & 1  & 0.03736085 &  23 & 0\\_1  & 0.9635210 & 1101 & 16\\\\\n",
       "\t 0 & 0  & 0.02807380 &  16 & 0\\_0  & 0.9775578 & 1117 & 17\\\\\n",
       "\t 0 & 16 & 0.01785491 &  10 & 0\\_16 & 0.9864853 & 1127 & 18\\\\\n",
       "\t 0 & 6  & 0.01681051 &   9 & 0\\_6  & 0.9948906 & 1136 & 19\\\\\n",
       "\t 0 & 13 & 0.01021889 &   6 & 0\\_13 & 1.0000000 & 1142 & 20\\\\\n",
       "\t 1 & 16 & 0.40836665 & 215 & 1\\_16 & 0.2041833 &  215 &  1\\\\\n",
       "\t 1 & 19 & 0.27179580 & 143 & 1\\_19 & 0.3400812 &  358 &  2\\\\\n",
       "\t 1 & 11 & 0.18915943 & 104 & 1\\_11 & 0.4346609 &  462 &  3\\\\\n",
       "\t 1 & 2  & 0.16262438 &  89 & 1\\_2  & 0.5159731 &  551 &  4\\\\\n",
       "\t 1 & 14 & 0.14689990 &  95 & 1\\_14 & 0.5894231 &  646 &  5\\\\\n",
       "\t 1 & 12 & 0.13291601 &  74 & 1\\_12 & 0.6558811 &  720 &  6\\\\\n",
       "\t 1 & 18 & 0.10316423 &  46 & 1\\_18 & 0.7074632 &  766 &  7\\\\\n",
       "\t 1 & 3  & 0.09047098 &  46 & 1\\_3  & 0.7526987 &  812 &  8\\\\\n",
       "\t 1 & 8  & 0.06725134 &  37 & 1\\_8  & 0.7863244 &  849 &  9\\\\\n",
       "\t 1 & 0  & 0.05696570 &  27 & 1\\_0  & 0.8148072 &  876 & 10\\\\\n",
       "\t ⋮ & ⋮ & ⋮ & ⋮ & ⋮ & ⋮ & ⋮ & ⋮\\\\\n",
       "\t 2 & 3  & 0.07480381 &  35 & 2\\_3  & 0.7411062 &  648 & 11\\\\\n",
       "\t 2 & 8  & 0.06920419 &  31 & 2\\_8  & 0.7757083 &  679 & 12\\\\\n",
       "\t 2 & 16 & 0.06711214 &  30 & 2\\_16 & 0.8092643 &  709 & 13\\\\\n",
       "\t 2 & 4  & 0.06620662 &  29 & 2\\_4  & 0.8423677 &  738 & 14\\\\\n",
       "\t 2 & 5  & 0.06044048 &  27 & 2\\_5  & 0.8725879 &  765 & 15\\\\\n",
       "\t 2 & 0  & 0.06032599 &  26 & 2\\_0  & 0.9027509 &  791 & 16\\\\\n",
       "\t 2 & 10 & 0.05834843 &  26 & 2\\_10 & 0.9319251 &  817 & 17\\\\\n",
       "\t 2 & 12 & 0.05676638 &  26 & 2\\_12 & 0.9603083 &  843 & 18\\\\\n",
       "\t 2 & 11 & 0.04472408 &  21 & 2\\_11 & 0.9826703 &  864 & 19\\\\\n",
       "\t 2 & 13 & 0.03465934 &  16 & 2\\_13 & 1.0000000 &  880 & 20\\\\\n",
       "\t 3 & 18 & 0.25441329 & 170 & 3\\_18 & 0.1272066 &  170 &  1\\\\\n",
       "\t 3 & 2  & 0.18691589 & 120 & 3\\_2  & 0.2206646 &  290 &  2\\\\\n",
       "\t 3 & 12 & 0.16458982 & 116 & 3\\_12 & 0.3029595 &  406 &  3\\\\\n",
       "\t 3 & 14 & 0.15212876 &  89 & 3\\_14 & 0.3790239 &  495 &  4\\\\\n",
       "\t 3 & 3  & 0.14408100 & 100 & 3\\_3  & 0.4510644 &  595 &  5\\\\\n",
       "\t 3 & 6  & 0.13058152 &  82 & 3\\_6  & 0.5163551 &  677 &  6\\\\\n",
       "\t 3 & 9  & 0.11292835 &  65 & 3\\_9  & 0.5728193 &  742 &  7\\\\\n",
       "\t 3 & 15 & 0.10773624 &  85 & 3\\_15 & 0.6266874 &  827 &  8\\\\\n",
       "\t 3 & 19 & 0.09423676 &  57 & 3\\_19 & 0.6738058 &  884 &  9\\\\\n",
       "\t 3 & 0  & 0.08359294 &  68 & 3\\_0  & 0.7156023 &  952 & 10\\\\\n",
       "\t 3 & 16 & 0.08229491 &  73 & 3\\_16 & 0.7567497 & 1025 & 11\\\\\n",
       "\t 3 & 8  & 0.07788162 &  60 & 3\\_8  & 0.7956906 & 1085 & 12\\\\\n",
       "\t 3 & 4  & 0.07710280 &  43 & 3\\_4  & 0.8342420 & 1128 & 13\\\\\n",
       "\t 3 & 7  & 0.07165109 &  59 & 3\\_7  & 0.8700675 & 1187 & 14\\\\\n",
       "\t 3 & 10 & 0.06412253 &  48 & 3\\_10 & 0.9021288 & 1235 & 15\\\\\n",
       "\t 3 & 13 & 0.05503634 &  38 & 3\\_13 & 0.9296469 & 1273 & 16\\\\\n",
       "\t 3 & 17 & 0.04439252 &  39 & 3\\_17 & 0.9518432 & 1312 & 17\\\\\n",
       "\t 3 & 5  & 0.03764278 &  35 & 3\\_5  & 0.9706646 & 1347 & 18\\\\\n",
       "\t 3 & 1  & 0.03271028 &  29 & 3\\_1  & 0.9870197 & 1376 & 19\\\\\n",
       "\t 3 & 11 & 0.02596054 &  15 & 3\\_11 & 1.0000000 & 1391 & 20\\\\\n",
       "\\end{tabular}\n"
      ],
      "text/markdown": [
       "\n",
       "A tibble: 80 × 8\n",
       "\n",
       "| donor &lt;fct&gt; | lineage &lt;fct&gt; | norm.total &lt;dbl&gt; | total &lt;int&gt; | name &lt;fct&gt; | cdf.norm &lt;dbl&gt; | cdf &lt;int&gt; | index &lt;int&gt; |\n",
       "|---|---|---|---|---|---|---|---|\n",
       "| 0 | 3  | 0.51447780 | 275 | 0_3  | 0.2572389 |  275 |  1 |\n",
       "| 0 | 11 | 0.21729206 | 130 | 0_11 | 0.3658849 |  405 |  2 |\n",
       "| 0 | 7  | 0.14213258 |  85 | 0_7  | 0.4369512 |  490 |  3 |\n",
       "| 0 | 19 | 0.12921826 |  75 | 0_19 | 0.5015604 |  565 |  4 |\n",
       "| 0 | 10 | 0.12762351 |  73 | 0_10 | 0.5653721 |  638 |  5 |\n",
       "| 0 | 14 | 0.12488430 |  77 | 0_14 | 0.6278143 |  715 |  6 |\n",
       "| 0 | 2  | 0.10477173 |  62 | 0_2  | 0.6802001 |  777 |  7 |\n",
       "| 0 | 18 | 0.09383365 |  52 | 0_18 | 0.7271169 |  829 |  8 |\n",
       "| 0 | 5  | 0.08076298 |  48 | 0_5  | 0.7674984 |  877 |  9 |\n",
       "| 0 | 15 | 0.08065041 |  46 | 0_15 | 0.8078236 |  923 | 10 |\n",
       "| 0 | 17 | 0.06982489 |  38 | 0_17 | 0.8427361 |  961 | 11 |\n",
       "| 0 | 12 | 0.05762977 |  32 | 0_12 | 0.8715510 |  993 | 12 |\n",
       "| 0 | 9  | 0.05719199 |  33 | 0_9  | 0.9001470 | 1026 | 13 |\n",
       "| 0 | 4  | 0.05065666 |  31 | 0_4  | 0.9254753 | 1057 | 14 |\n",
       "| 0 | 8  | 0.03873046 |  21 | 0_8  | 0.9448405 | 1078 | 15 |\n",
       "| 0 | 1  | 0.03736085 |  23 | 0_1  | 0.9635210 | 1101 | 16 |\n",
       "| 0 | 0  | 0.02807380 |  16 | 0_0  | 0.9775578 | 1117 | 17 |\n",
       "| 0 | 16 | 0.01785491 |  10 | 0_16 | 0.9864853 | 1127 | 18 |\n",
       "| 0 | 6  | 0.01681051 |   9 | 0_6  | 0.9948906 | 1136 | 19 |\n",
       "| 0 | 13 | 0.01021889 |   6 | 0_13 | 1.0000000 | 1142 | 20 |\n",
       "| 1 | 16 | 0.40836665 | 215 | 1_16 | 0.2041833 |  215 |  1 |\n",
       "| 1 | 19 | 0.27179580 | 143 | 1_19 | 0.3400812 |  358 |  2 |\n",
       "| 1 | 11 | 0.18915943 | 104 | 1_11 | 0.4346609 |  462 |  3 |\n",
       "| 1 | 2  | 0.16262438 |  89 | 1_2  | 0.5159731 |  551 |  4 |\n",
       "| 1 | 14 | 0.14689990 |  95 | 1_14 | 0.5894231 |  646 |  5 |\n",
       "| 1 | 12 | 0.13291601 |  74 | 1_12 | 0.6558811 |  720 |  6 |\n",
       "| 1 | 18 | 0.10316423 |  46 | 1_18 | 0.7074632 |  766 |  7 |\n",
       "| 1 | 3  | 0.09047098 |  46 | 1_3  | 0.7526987 |  812 |  8 |\n",
       "| 1 | 8  | 0.06725134 |  37 | 1_8  | 0.7863244 |  849 |  9 |\n",
       "| 1 | 0  | 0.05696570 |  27 | 1_0  | 0.8148072 |  876 | 10 |\n",
       "| ⋮ | ⋮ | ⋮ | ⋮ | ⋮ | ⋮ | ⋮ | ⋮ |\n",
       "| 2 | 3  | 0.07480381 |  35 | 2_3  | 0.7411062 |  648 | 11 |\n",
       "| 2 | 8  | 0.06920419 |  31 | 2_8  | 0.7757083 |  679 | 12 |\n",
       "| 2 | 16 | 0.06711214 |  30 | 2_16 | 0.8092643 |  709 | 13 |\n",
       "| 2 | 4  | 0.06620662 |  29 | 2_4  | 0.8423677 |  738 | 14 |\n",
       "| 2 | 5  | 0.06044048 |  27 | 2_5  | 0.8725879 |  765 | 15 |\n",
       "| 2 | 0  | 0.06032599 |  26 | 2_0  | 0.9027509 |  791 | 16 |\n",
       "| 2 | 10 | 0.05834843 |  26 | 2_10 | 0.9319251 |  817 | 17 |\n",
       "| 2 | 12 | 0.05676638 |  26 | 2_12 | 0.9603083 |  843 | 18 |\n",
       "| 2 | 11 | 0.04472408 |  21 | 2_11 | 0.9826703 |  864 | 19 |\n",
       "| 2 | 13 | 0.03465934 |  16 | 2_13 | 1.0000000 |  880 | 20 |\n",
       "| 3 | 18 | 0.25441329 | 170 | 3_18 | 0.1272066 |  170 |  1 |\n",
       "| 3 | 2  | 0.18691589 | 120 | 3_2  | 0.2206646 |  290 |  2 |\n",
       "| 3 | 12 | 0.16458982 | 116 | 3_12 | 0.3029595 |  406 |  3 |\n",
       "| 3 | 14 | 0.15212876 |  89 | 3_14 | 0.3790239 |  495 |  4 |\n",
       "| 3 | 3  | 0.14408100 | 100 | 3_3  | 0.4510644 |  595 |  5 |\n",
       "| 3 | 6  | 0.13058152 |  82 | 3_6  | 0.5163551 |  677 |  6 |\n",
       "| 3 | 9  | 0.11292835 |  65 | 3_9  | 0.5728193 |  742 |  7 |\n",
       "| 3 | 15 | 0.10773624 |  85 | 3_15 | 0.6266874 |  827 |  8 |\n",
       "| 3 | 19 | 0.09423676 |  57 | 3_19 | 0.6738058 |  884 |  9 |\n",
       "| 3 | 0  | 0.08359294 |  68 | 3_0  | 0.7156023 |  952 | 10 |\n",
       "| 3 | 16 | 0.08229491 |  73 | 3_16 | 0.7567497 | 1025 | 11 |\n",
       "| 3 | 8  | 0.07788162 |  60 | 3_8  | 0.7956906 | 1085 | 12 |\n",
       "| 3 | 4  | 0.07710280 |  43 | 3_4  | 0.8342420 | 1128 | 13 |\n",
       "| 3 | 7  | 0.07165109 |  59 | 3_7  | 0.8700675 | 1187 | 14 |\n",
       "| 3 | 10 | 0.06412253 |  48 | 3_10 | 0.9021288 | 1235 | 15 |\n",
       "| 3 | 13 | 0.05503634 |  38 | 3_13 | 0.9296469 | 1273 | 16 |\n",
       "| 3 | 17 | 0.04439252 |  39 | 3_17 | 0.9518432 | 1312 | 17 |\n",
       "| 3 | 5  | 0.03764278 |  35 | 3_5  | 0.9706646 | 1347 | 18 |\n",
       "| 3 | 1  | 0.03271028 |  29 | 3_1  | 0.9870197 | 1376 | 19 |\n",
       "| 3 | 11 | 0.02596054 |  15 | 3_11 | 1.0000000 | 1391 | 20 |\n",
       "\n"
      ],
      "text/plain": [
       "   donor lineage norm.total total name cdf.norm  cdf  index\n",
       "1  0     3       0.51447780 275   0_3  0.2572389  275  1   \n",
       "2  0     11      0.21729206 130   0_11 0.3658849  405  2   \n",
       "3  0     7       0.14213258  85   0_7  0.4369512  490  3   \n",
       "4  0     19      0.12921826  75   0_19 0.5015604  565  4   \n",
       "5  0     10      0.12762351  73   0_10 0.5653721  638  5   \n",
       "6  0     14      0.12488430  77   0_14 0.6278143  715  6   \n",
       "7  0     2       0.10477173  62   0_2  0.6802001  777  7   \n",
       "8  0     18      0.09383365  52   0_18 0.7271169  829  8   \n",
       "9  0     5       0.08076298  48   0_5  0.7674984  877  9   \n",
       "10 0     15      0.08065041  46   0_15 0.8078236  923 10   \n",
       "11 0     17      0.06982489  38   0_17 0.8427361  961 11   \n",
       "12 0     12      0.05762977  32   0_12 0.8715510  993 12   \n",
       "13 0     9       0.05719199  33   0_9  0.9001470 1026 13   \n",
       "14 0     4       0.05065666  31   0_4  0.9254753 1057 14   \n",
       "15 0     8       0.03873046  21   0_8  0.9448405 1078 15   \n",
       "16 0     1       0.03736085  23   0_1  0.9635210 1101 16   \n",
       "17 0     0       0.02807380  16   0_0  0.9775578 1117 17   \n",
       "18 0     16      0.01785491  10   0_16 0.9864853 1127 18   \n",
       "19 0     6       0.01681051   9   0_6  0.9948906 1136 19   \n",
       "20 0     13      0.01021889   6   0_13 1.0000000 1142 20   \n",
       "21 1     16      0.40836665 215   1_16 0.2041833  215  1   \n",
       "22 1     19      0.27179580 143   1_19 0.3400812  358  2   \n",
       "23 1     11      0.18915943 104   1_11 0.4346609  462  3   \n",
       "24 1     2       0.16262438  89   1_2  0.5159731  551  4   \n",
       "25 1     14      0.14689990  95   1_14 0.5894231  646  5   \n",
       "26 1     12      0.13291601  74   1_12 0.6558811  720  6   \n",
       "27 1     18      0.10316423  46   1_18 0.7074632  766  7   \n",
       "28 1     3       0.09047098  46   1_3  0.7526987  812  8   \n",
       "29 1     8       0.06725134  37   1_8  0.7863244  849  9   \n",
       "30 1     0       0.05696570  27   1_0  0.8148072  876 10   \n",
       "⋮  ⋮     ⋮       ⋮          ⋮     ⋮    ⋮         ⋮    ⋮    \n",
       "51 2     3       0.07480381  35   2_3  0.7411062  648 11   \n",
       "52 2     8       0.06920419  31   2_8  0.7757083  679 12   \n",
       "53 2     16      0.06711214  30   2_16 0.8092643  709 13   \n",
       "54 2     4       0.06620662  29   2_4  0.8423677  738 14   \n",
       "55 2     5       0.06044048  27   2_5  0.8725879  765 15   \n",
       "56 2     0       0.06032599  26   2_0  0.9027509  791 16   \n",
       "57 2     10      0.05834843  26   2_10 0.9319251  817 17   \n",
       "58 2     12      0.05676638  26   2_12 0.9603083  843 18   \n",
       "59 2     11      0.04472408  21   2_11 0.9826703  864 19   \n",
       "60 2     13      0.03465934  16   2_13 1.0000000  880 20   \n",
       "61 3     18      0.25441329 170   3_18 0.1272066  170  1   \n",
       "62 3     2       0.18691589 120   3_2  0.2206646  290  2   \n",
       "63 3     12      0.16458982 116   3_12 0.3029595  406  3   \n",
       "64 3     14      0.15212876  89   3_14 0.3790239  495  4   \n",
       "65 3     3       0.14408100 100   3_3  0.4510644  595  5   \n",
       "66 3     6       0.13058152  82   3_6  0.5163551  677  6   \n",
       "67 3     9       0.11292835  65   3_9  0.5728193  742  7   \n",
       "68 3     15      0.10773624  85   3_15 0.6266874  827  8   \n",
       "69 3     19      0.09423676  57   3_19 0.6738058  884  9   \n",
       "70 3     0       0.08359294  68   3_0  0.7156023  952 10   \n",
       "71 3     16      0.08229491  73   3_16 0.7567497 1025 11   \n",
       "72 3     8       0.07788162  60   3_8  0.7956906 1085 12   \n",
       "73 3     4       0.07710280  43   3_4  0.8342420 1128 13   \n",
       "74 3     7       0.07165109  59   3_7  0.8700675 1187 14   \n",
       "75 3     10      0.06412253  48   3_10 0.9021288 1235 15   \n",
       "76 3     13      0.05503634  38   3_13 0.9296469 1273 16   \n",
       "77 3     17      0.04439252  39   3_17 0.9518432 1312 17   \n",
       "78 3     5       0.03764278  35   3_5  0.9706646 1347 18   \n",
       "79 3     1       0.03271028  29   3_1  0.9870197 1376 19   \n",
       "80 3     11      0.02596054  15   3_11 1.0000000 1391 20   "
      ]
     },
     "metadata": {},
     "output_type": "display_data"
    }
   ],
   "source": [
    "clone.sizes"
   ]
  },
  {
   "cell_type": "code",
   "execution_count": 14,
   "id": "93c23bda",
   "metadata": {
    "execution": {
     "iopub.execute_input": "2021-11-03T21:54:45.839316Z",
     "iopub.status.busy": "2021-11-03T21:54:45.835833Z",
     "iopub.status.idle": "2021-11-03T21:54:45.926399Z",
     "shell.execute_reply": "2021-11-03T21:54:45.924840Z"
    },
    "papermill": {
     "duration": 0.147372,
     "end_time": "2021-11-03T21:54:45.926526",
     "exception": false,
     "start_time": "2021-11-03T21:54:45.779154",
     "status": "completed"
    },
    "scrolled": true,
    "tags": []
   },
   "outputs": [
    {
     "name": "stdout",
     "output_type": "stream",
     "text": [
      "[1] 4\n",
      "[1] \"i 1 donor 1\"\n",
      "[1] \"i 2 donor 2\"\n",
      "[1] \"i 3 donor 3\"\n",
      "[1] \"i 4 donor 4\"\n"
     ]
    },
    {
     "data": {
      "text/html": [
       "<table class=\"dataframe\">\n",
       "<caption>A tibble: 17 × 8</caption>\n",
       "<thead>\n",
       "\t<tr><th scope=col>donor</th><th scope=col>lineage</th><th scope=col>norm.total</th><th scope=col>total</th><th scope=col>name</th><th scope=col>cdf.norm</th><th scope=col>cdf</th><th scope=col>index</th></tr>\n",
       "\t<tr><th scope=col>&lt;fct&gt;</th><th scope=col>&lt;fct&gt;</th><th scope=col>&lt;dbl&gt;</th><th scope=col>&lt;int&gt;</th><th scope=col>&lt;fct&gt;</th><th scope=col>&lt;dbl&gt;</th><th scope=col>&lt;int&gt;</th><th scope=col>&lt;int&gt;</th></tr>\n",
       "</thead>\n",
       "<tbody>\n",
       "\t<tr><td>0</td><td>3 </td><td>0.5144778</td><td>275</td><td>0_3 </td><td>0.2572389</td><td>275</td><td>1</td></tr>\n",
       "\t<tr><td>0</td><td>11</td><td>0.2172921</td><td>130</td><td>0_11</td><td>0.3658849</td><td>405</td><td>2</td></tr>\n",
       "\t<tr><td>0</td><td>7 </td><td>0.1421326</td><td> 85</td><td>0_7 </td><td>0.4369512</td><td>490</td><td>3</td></tr>\n",
       "\t<tr><td>1</td><td>16</td><td>0.4083667</td><td>215</td><td>1_16</td><td>0.2041833</td><td>215</td><td>1</td></tr>\n",
       "\t<tr><td>1</td><td>19</td><td>0.2717958</td><td>143</td><td>1_19</td><td>0.3400812</td><td>358</td><td>2</td></tr>\n",
       "\t<tr><td>1</td><td>11</td><td>0.1891594</td><td>104</td><td>1_11</td><td>0.4346609</td><td>462</td><td>3</td></tr>\n",
       "\t<tr><td>2</td><td>17</td><td>0.2593934</td><td>110</td><td>2_17</td><td>0.1296967</td><td>110</td><td>1</td></tr>\n",
       "\t<tr><td>2</td><td>9 </td><td>0.1936447</td><td> 85</td><td>2_9 </td><td>0.2265191</td><td>195</td><td>2</td></tr>\n",
       "\t<tr><td>2</td><td>18</td><td>0.1611919</td><td> 71</td><td>2_18</td><td>0.3071151</td><td>266</td><td>3</td></tr>\n",
       "\t<tr><td>2</td><td>19</td><td>0.1363163</td><td> 61</td><td>2_19</td><td>0.3752732</td><td>327</td><td>4</td></tr>\n",
       "\t<tr><td>2</td><td>1 </td><td>0.1322988</td><td> 57</td><td>2_1 </td><td>0.4414226</td><td>384</td><td>5</td></tr>\n",
       "\t<tr><td>2</td><td>2 </td><td>0.1136993</td><td> 50</td><td>2_2 </td><td>0.4982722</td><td>434</td><td>6</td></tr>\n",
       "\t<tr><td>3</td><td>18</td><td>0.2544133</td><td>170</td><td>3_18</td><td>0.1272066</td><td>170</td><td>1</td></tr>\n",
       "\t<tr><td>3</td><td>2 </td><td>0.1869159</td><td>120</td><td>3_2 </td><td>0.2206646</td><td>290</td><td>2</td></tr>\n",
       "\t<tr><td>3</td><td>12</td><td>0.1645898</td><td>116</td><td>3_12</td><td>0.3029595</td><td>406</td><td>3</td></tr>\n",
       "\t<tr><td>3</td><td>14</td><td>0.1521288</td><td> 89</td><td>3_14</td><td>0.3790239</td><td>495</td><td>4</td></tr>\n",
       "\t<tr><td>3</td><td>3 </td><td>0.1440810</td><td>100</td><td>3_3 </td><td>0.4510644</td><td>595</td><td>5</td></tr>\n",
       "</tbody>\n",
       "</table>\n"
      ],
      "text/latex": [
       "A tibble: 17 × 8\n",
       "\\begin{tabular}{llllllll}\n",
       " donor & lineage & norm.total & total & name & cdf.norm & cdf & index\\\\\n",
       " <fct> & <fct> & <dbl> & <int> & <fct> & <dbl> & <int> & <int>\\\\\n",
       "\\hline\n",
       "\t 0 & 3  & 0.5144778 & 275 & 0\\_3  & 0.2572389 & 275 & 1\\\\\n",
       "\t 0 & 11 & 0.2172921 & 130 & 0\\_11 & 0.3658849 & 405 & 2\\\\\n",
       "\t 0 & 7  & 0.1421326 &  85 & 0\\_7  & 0.4369512 & 490 & 3\\\\\n",
       "\t 1 & 16 & 0.4083667 & 215 & 1\\_16 & 0.2041833 & 215 & 1\\\\\n",
       "\t 1 & 19 & 0.2717958 & 143 & 1\\_19 & 0.3400812 & 358 & 2\\\\\n",
       "\t 1 & 11 & 0.1891594 & 104 & 1\\_11 & 0.4346609 & 462 & 3\\\\\n",
       "\t 2 & 17 & 0.2593934 & 110 & 2\\_17 & 0.1296967 & 110 & 1\\\\\n",
       "\t 2 & 9  & 0.1936447 &  85 & 2\\_9  & 0.2265191 & 195 & 2\\\\\n",
       "\t 2 & 18 & 0.1611919 &  71 & 2\\_18 & 0.3071151 & 266 & 3\\\\\n",
       "\t 2 & 19 & 0.1363163 &  61 & 2\\_19 & 0.3752732 & 327 & 4\\\\\n",
       "\t 2 & 1  & 0.1322988 &  57 & 2\\_1  & 0.4414226 & 384 & 5\\\\\n",
       "\t 2 & 2  & 0.1136993 &  50 & 2\\_2  & 0.4982722 & 434 & 6\\\\\n",
       "\t 3 & 18 & 0.2544133 & 170 & 3\\_18 & 0.1272066 & 170 & 1\\\\\n",
       "\t 3 & 2  & 0.1869159 & 120 & 3\\_2  & 0.2206646 & 290 & 2\\\\\n",
       "\t 3 & 12 & 0.1645898 & 116 & 3\\_12 & 0.3029595 & 406 & 3\\\\\n",
       "\t 3 & 14 & 0.1521288 &  89 & 3\\_14 & 0.3790239 & 495 & 4\\\\\n",
       "\t 3 & 3  & 0.1440810 & 100 & 3\\_3  & 0.4510644 & 595 & 5\\\\\n",
       "\\end{tabular}\n"
      ],
      "text/markdown": [
       "\n",
       "A tibble: 17 × 8\n",
       "\n",
       "| donor &lt;fct&gt; | lineage &lt;fct&gt; | norm.total &lt;dbl&gt; | total &lt;int&gt; | name &lt;fct&gt; | cdf.norm &lt;dbl&gt; | cdf &lt;int&gt; | index &lt;int&gt; |\n",
       "|---|---|---|---|---|---|---|---|\n",
       "| 0 | 3  | 0.5144778 | 275 | 0_3  | 0.2572389 | 275 | 1 |\n",
       "| 0 | 11 | 0.2172921 | 130 | 0_11 | 0.3658849 | 405 | 2 |\n",
       "| 0 | 7  | 0.1421326 |  85 | 0_7  | 0.4369512 | 490 | 3 |\n",
       "| 1 | 16 | 0.4083667 | 215 | 1_16 | 0.2041833 | 215 | 1 |\n",
       "| 1 | 19 | 0.2717958 | 143 | 1_19 | 0.3400812 | 358 | 2 |\n",
       "| 1 | 11 | 0.1891594 | 104 | 1_11 | 0.4346609 | 462 | 3 |\n",
       "| 2 | 17 | 0.2593934 | 110 | 2_17 | 0.1296967 | 110 | 1 |\n",
       "| 2 | 9  | 0.1936447 |  85 | 2_9  | 0.2265191 | 195 | 2 |\n",
       "| 2 | 18 | 0.1611919 |  71 | 2_18 | 0.3071151 | 266 | 3 |\n",
       "| 2 | 19 | 0.1363163 |  61 | 2_19 | 0.3752732 | 327 | 4 |\n",
       "| 2 | 1  | 0.1322988 |  57 | 2_1  | 0.4414226 | 384 | 5 |\n",
       "| 2 | 2  | 0.1136993 |  50 | 2_2  | 0.4982722 | 434 | 6 |\n",
       "| 3 | 18 | 0.2544133 | 170 | 3_18 | 0.1272066 | 170 | 1 |\n",
       "| 3 | 2  | 0.1869159 | 120 | 3_2  | 0.2206646 | 290 | 2 |\n",
       "| 3 | 12 | 0.1645898 | 116 | 3_12 | 0.3029595 | 406 | 3 |\n",
       "| 3 | 14 | 0.1521288 |  89 | 3_14 | 0.3790239 | 495 | 4 |\n",
       "| 3 | 3  | 0.1440810 | 100 | 3_3  | 0.4510644 | 595 | 5 |\n",
       "\n"
      ],
      "text/plain": [
       "   donor lineage norm.total total name cdf.norm  cdf index\n",
       "1  0     3       0.5144778  275   0_3  0.2572389 275 1    \n",
       "2  0     11      0.2172921  130   0_11 0.3658849 405 2    \n",
       "3  0     7       0.1421326   85   0_7  0.4369512 490 3    \n",
       "4  1     16      0.4083667  215   1_16 0.2041833 215 1    \n",
       "5  1     19      0.2717958  143   1_19 0.3400812 358 2    \n",
       "6  1     11      0.1891594  104   1_11 0.4346609 462 3    \n",
       "7  2     17      0.2593934  110   2_17 0.1296967 110 1    \n",
       "8  2     9       0.1936447   85   2_9  0.2265191 195 2    \n",
       "9  2     18      0.1611919   71   2_18 0.3071151 266 3    \n",
       "10 2     19      0.1363163   61   2_19 0.3752732 327 4    \n",
       "11 2     1       0.1322988   57   2_1  0.4414226 384 5    \n",
       "12 2     2       0.1136993   50   2_2  0.4982722 434 6    \n",
       "13 3     18      0.2544133  170   3_18 0.1272066 170 1    \n",
       "14 3     2       0.1869159  120   3_2  0.2206646 290 2    \n",
       "15 3     12      0.1645898  116   3_12 0.3029595 406 3    \n",
       "16 3     14      0.1521288   89   3_14 0.3790239 495 4    \n",
       "17 3     3       0.1440810  100   3_3  0.4510644 595 5    "
      ]
     },
     "metadata": {},
     "output_type": "display_data"
    }
   ],
   "source": [
    "large.clones <- clone.sizes %>% filter(cdf.norm<cdf_thresh)\n",
    "large.clones <- check.if.one.clone(large.clones, clone.sizes, n_top_clones)\n",
    "#large.clones$name = factor(paste0(large.clones$donor,\"_\", large.clones$lineage))\n",
    "write.csv(large.clones, \n",
    "          file=file.path(outdir, \"large_clones.csv\"), quote=F)\n",
    "\n",
    "large.clones"
   ]
  },
  {
   "cell_type": "code",
   "execution_count": 15,
   "id": "308e6966",
   "metadata": {
    "execution": {
     "iopub.execute_input": "2021-11-03T21:54:46.040337Z",
     "iopub.status.busy": "2021-11-03T21:54:46.036740Z",
     "iopub.status.idle": "2021-11-03T21:54:46.756271Z",
     "shell.execute_reply": "2021-11-03T21:54:46.754604Z"
    },
    "papermill": {
     "duration": 0.777513,
     "end_time": "2021-11-03T21:54:46.756411",
     "exception": false,
     "start_time": "2021-11-03T21:54:45.978898",
     "status": "completed"
    },
    "tags": []
   },
   "outputs": [
    {
     "name": "stderr",
     "output_type": "stream",
     "text": [
      "Saving 6.67 x 6.67 in image\n",
      "\n"
     ]
    },
    {
     "data": {
      "image/png": "[encoded data removed]",
      "text/plain": [
       "plot without title"
      ]
     },
     "metadata": {
      "image/png": {
       "height": 420,
       "width": 420
      }
     },
     "output_type": "display_data"
    }
   ],
   "source": [
    "ggplot(data=large.clones, aes(x=index,y=total, fill = factor(donor))) + \n",
    "        geom_col(position='dodge') +\n",
    "       ggtitle(paste0(\"Top clones (\", cdf_thresh,\n",
    "                      \"fraction of clones) in each donor cell size\"))\n",
    "\n",
    "ggsave(file.path(outdir, \"topClonesSize.png\"))"
   ]
  },
  {
   "cell_type": "markdown",
   "id": "5564da63",
   "metadata": {
    "papermill": {
     "duration": 0.054711,
     "end_time": "2021-11-03T21:54:46.866685",
     "exception": false,
     "start_time": "2021-11-03T21:54:46.811974",
     "status": "completed"
    },
    "tags": []
   },
   "source": [
    "## TF DE"
   ]
  },
  {
   "cell_type": "markdown",
   "id": "b6a80a03",
   "metadata": {
    "papermill": {
     "duration": 0.053861,
     "end_time": "2021-11-03T21:54:46.974878",
     "exception": false,
     "start_time": "2021-11-03T21:54:46.921017",
     "status": "completed"
    },
    "tags": []
   },
   "source": [
    "## Filter se for cells in the large clones"
   ]
  },
  {
   "cell_type": "code",
   "execution_count": 16,
   "id": "dd4449a4",
   "metadata": {
    "execution": {
     "iopub.execute_input": "2021-11-03T21:54:47.098824Z",
     "iopub.status.busy": "2021-11-03T21:54:47.097105Z",
     "iopub.status.idle": "2021-11-03T21:54:47.133066Z",
     "shell.execute_reply": "2021-11-03T21:54:47.131380Z"
    },
    "papermill": {
     "duration": 0.103259,
     "end_time": "2021-11-03T21:54:47.133187",
     "exception": false,
     "start_time": "2021-11-03T21:54:47.029928",
     "status": "completed"
    },
    "scrolled": true,
    "tags": []
   },
   "outputs": [
    {
     "data": {
      "text/html": [
       "<table class=\"dataframe\">\n",
       "<caption>A tibble: 17 × 8</caption>\n",
       "<thead>\n",
       "\t<tr><th scope=col>donor</th><th scope=col>lineage</th><th scope=col>norm.total</th><th scope=col>total</th><th scope=col>name</th><th scope=col>cdf.norm</th><th scope=col>cdf</th><th scope=col>index</th></tr>\n",
       "\t<tr><th scope=col>&lt;fct&gt;</th><th scope=col>&lt;fct&gt;</th><th scope=col>&lt;dbl&gt;</th><th scope=col>&lt;int&gt;</th><th scope=col>&lt;fct&gt;</th><th scope=col>&lt;dbl&gt;</th><th scope=col>&lt;int&gt;</th><th scope=col>&lt;int&gt;</th></tr>\n",
       "</thead>\n",
       "<tbody>\n",
       "\t<tr><td>0</td><td>3 </td><td>0.5144778</td><td>275</td><td>0_3 </td><td>0.2572389</td><td>275</td><td>1</td></tr>\n",
       "\t<tr><td>0</td><td>11</td><td>0.2172921</td><td>130</td><td>0_11</td><td>0.3658849</td><td>405</td><td>2</td></tr>\n",
       "\t<tr><td>0</td><td>7 </td><td>0.1421326</td><td> 85</td><td>0_7 </td><td>0.4369512</td><td>490</td><td>3</td></tr>\n",
       "\t<tr><td>1</td><td>16</td><td>0.4083667</td><td>215</td><td>1_16</td><td>0.2041833</td><td>215</td><td>1</td></tr>\n",
       "\t<tr><td>1</td><td>19</td><td>0.2717958</td><td>143</td><td>1_19</td><td>0.3400812</td><td>358</td><td>2</td></tr>\n",
       "\t<tr><td>1</td><td>11</td><td>0.1891594</td><td>104</td><td>1_11</td><td>0.4346609</td><td>462</td><td>3</td></tr>\n",
       "\t<tr><td>2</td><td>17</td><td>0.2593934</td><td>110</td><td>2_17</td><td>0.1296967</td><td>110</td><td>1</td></tr>\n",
       "\t<tr><td>2</td><td>9 </td><td>0.1936447</td><td> 85</td><td>2_9 </td><td>0.2265191</td><td>195</td><td>2</td></tr>\n",
       "\t<tr><td>2</td><td>18</td><td>0.1611919</td><td> 71</td><td>2_18</td><td>0.3071151</td><td>266</td><td>3</td></tr>\n",
       "\t<tr><td>2</td><td>19</td><td>0.1363163</td><td> 61</td><td>2_19</td><td>0.3752732</td><td>327</td><td>4</td></tr>\n",
       "\t<tr><td>2</td><td>1 </td><td>0.1322988</td><td> 57</td><td>2_1 </td><td>0.4414226</td><td>384</td><td>5</td></tr>\n",
       "\t<tr><td>2</td><td>2 </td><td>0.1136993</td><td> 50</td><td>2_2 </td><td>0.4982722</td><td>434</td><td>6</td></tr>\n",
       "\t<tr><td>3</td><td>18</td><td>0.2544133</td><td>170</td><td>3_18</td><td>0.1272066</td><td>170</td><td>1</td></tr>\n",
       "\t<tr><td>3</td><td>2 </td><td>0.1869159</td><td>120</td><td>3_2 </td><td>0.2206646</td><td>290</td><td>2</td></tr>\n",
       "\t<tr><td>3</td><td>12</td><td>0.1645898</td><td>116</td><td>3_12</td><td>0.3029595</td><td>406</td><td>3</td></tr>\n",
       "\t<tr><td>3</td><td>14</td><td>0.1521288</td><td> 89</td><td>3_14</td><td>0.3790239</td><td>495</td><td>4</td></tr>\n",
       "\t<tr><td>3</td><td>3 </td><td>0.1440810</td><td>100</td><td>3_3 </td><td>0.4510644</td><td>595</td><td>5</td></tr>\n",
       "</tbody>\n",
       "</table>\n"
      ],
      "text/latex": [
       "A tibble: 17 × 8\n",
       "\\begin{tabular}{llllllll}\n",
       " donor & lineage & norm.total & total & name & cdf.norm & cdf & index\\\\\n",
       " <fct> & <fct> & <dbl> & <int> & <fct> & <dbl> & <int> & <int>\\\\\n",
       "\\hline\n",
       "\t 0 & 3  & 0.5144778 & 275 & 0\\_3  & 0.2572389 & 275 & 1\\\\\n",
       "\t 0 & 11 & 0.2172921 & 130 & 0\\_11 & 0.3658849 & 405 & 2\\\\\n",
       "\t 0 & 7  & 0.1421326 &  85 & 0\\_7  & 0.4369512 & 490 & 3\\\\\n",
       "\t 1 & 16 & 0.4083667 & 215 & 1\\_16 & 0.2041833 & 215 & 1\\\\\n",
       "\t 1 & 19 & 0.2717958 & 143 & 1\\_19 & 0.3400812 & 358 & 2\\\\\n",
       "\t 1 & 11 & 0.1891594 & 104 & 1\\_11 & 0.4346609 & 462 & 3\\\\\n",
       "\t 2 & 17 & 0.2593934 & 110 & 2\\_17 & 0.1296967 & 110 & 1\\\\\n",
       "\t 2 & 9  & 0.1936447 &  85 & 2\\_9  & 0.2265191 & 195 & 2\\\\\n",
       "\t 2 & 18 & 0.1611919 &  71 & 2\\_18 & 0.3071151 & 266 & 3\\\\\n",
       "\t 2 & 19 & 0.1363163 &  61 & 2\\_19 & 0.3752732 & 327 & 4\\\\\n",
       "\t 2 & 1  & 0.1322988 &  57 & 2\\_1  & 0.4414226 & 384 & 5\\\\\n",
       "\t 2 & 2  & 0.1136993 &  50 & 2\\_2  & 0.4982722 & 434 & 6\\\\\n",
       "\t 3 & 18 & 0.2544133 & 170 & 3\\_18 & 0.1272066 & 170 & 1\\\\\n",
       "\t 3 & 2  & 0.1869159 & 120 & 3\\_2  & 0.2206646 & 290 & 2\\\\\n",
       "\t 3 & 12 & 0.1645898 & 116 & 3\\_12 & 0.3029595 & 406 & 3\\\\\n",
       "\t 3 & 14 & 0.1521288 &  89 & 3\\_14 & 0.3790239 & 495 & 4\\\\\n",
       "\t 3 & 3  & 0.1440810 & 100 & 3\\_3  & 0.4510644 & 595 & 5\\\\\n",
       "\\end{tabular}\n"
      ],
      "text/markdown": [
       "\n",
       "A tibble: 17 × 8\n",
       "\n",
       "| donor &lt;fct&gt; | lineage &lt;fct&gt; | norm.total &lt;dbl&gt; | total &lt;int&gt; | name &lt;fct&gt; | cdf.norm &lt;dbl&gt; | cdf &lt;int&gt; | index &lt;int&gt; |\n",
       "|---|---|---|---|---|---|---|---|\n",
       "| 0 | 3  | 0.5144778 | 275 | 0_3  | 0.2572389 | 275 | 1 |\n",
       "| 0 | 11 | 0.2172921 | 130 | 0_11 | 0.3658849 | 405 | 2 |\n",
       "| 0 | 7  | 0.1421326 |  85 | 0_7  | 0.4369512 | 490 | 3 |\n",
       "| 1 | 16 | 0.4083667 | 215 | 1_16 | 0.2041833 | 215 | 1 |\n",
       "| 1 | 19 | 0.2717958 | 143 | 1_19 | 0.3400812 | 358 | 2 |\n",
       "| 1 | 11 | 0.1891594 | 104 | 1_11 | 0.4346609 | 462 | 3 |\n",
       "| 2 | 17 | 0.2593934 | 110 | 2_17 | 0.1296967 | 110 | 1 |\n",
       "| 2 | 9  | 0.1936447 |  85 | 2_9  | 0.2265191 | 195 | 2 |\n",
       "| 2 | 18 | 0.1611919 |  71 | 2_18 | 0.3071151 | 266 | 3 |\n",
       "| 2 | 19 | 0.1363163 |  61 | 2_19 | 0.3752732 | 327 | 4 |\n",
       "| 2 | 1  | 0.1322988 |  57 | 2_1  | 0.4414226 | 384 | 5 |\n",
       "| 2 | 2  | 0.1136993 |  50 | 2_2  | 0.4982722 | 434 | 6 |\n",
       "| 3 | 18 | 0.2544133 | 170 | 3_18 | 0.1272066 | 170 | 1 |\n",
       "| 3 | 2  | 0.1869159 | 120 | 3_2  | 0.2206646 | 290 | 2 |\n",
       "| 3 | 12 | 0.1645898 | 116 | 3_12 | 0.3029595 | 406 | 3 |\n",
       "| 3 | 14 | 0.1521288 |  89 | 3_14 | 0.3790239 | 495 | 4 |\n",
       "| 3 | 3  | 0.1440810 | 100 | 3_3  | 0.4510644 | 595 | 5 |\n",
       "\n"
      ],
      "text/plain": [
       "   donor lineage norm.total total name cdf.norm  cdf index\n",
       "1  0     3       0.5144778  275   0_3  0.2572389 275 1    \n",
       "2  0     11      0.2172921  130   0_11 0.3658849 405 2    \n",
       "3  0     7       0.1421326   85   0_7  0.4369512 490 3    \n",
       "4  1     16      0.4083667  215   1_16 0.2041833 215 1    \n",
       "5  1     19      0.2717958  143   1_19 0.3400812 358 2    \n",
       "6  1     11      0.1891594  104   1_11 0.4346609 462 3    \n",
       "7  2     17      0.2593934  110   2_17 0.1296967 110 1    \n",
       "8  2     9       0.1936447   85   2_9  0.2265191 195 2    \n",
       "9  2     18      0.1611919   71   2_18 0.3071151 266 3    \n",
       "10 2     19      0.1363163   61   2_19 0.3752732 327 4    \n",
       "11 2     1       0.1322988   57   2_1  0.4414226 384 5    \n",
       "12 2     2       0.1136993   50   2_2  0.4982722 434 6    \n",
       "13 3     18      0.2544133  170   3_18 0.1272066 170 1    \n",
       "14 3     2       0.1869159  120   3_2  0.2206646 290 2    \n",
       "15 3     12      0.1645898  116   3_12 0.3029595 406 3    \n",
       "16 3     14      0.1521288   89   3_14 0.3790239 495 4    \n",
       "17 3     3       0.1440810  100   3_3  0.4510644 595 5    "
      ]
     },
     "metadata": {},
     "output_type": "display_data"
    }
   ],
   "source": [
    "large.clones"
   ]
  },
  {
   "cell_type": "code",
   "execution_count": 17,
   "id": "abe394ac",
   "metadata": {
    "execution": {
     "iopub.execute_input": "2021-11-03T21:54:47.258306Z",
     "iopub.status.busy": "2021-11-03T21:54:47.256132Z",
     "iopub.status.idle": "2021-11-03T21:54:50.304376Z",
     "shell.execute_reply": "2021-11-03T21:54:50.302634Z"
    },
    "papermill": {
     "duration": 3.113332,
     "end_time": "2021-11-03T21:54:50.304554",
     "exception": false,
     "start_time": "2021-11-03T21:54:47.191222",
     "status": "completed"
    },
    "scrolled": false,
    "tags": []
   },
   "outputs": [
    {
     "data": {
      "text/plain": [
       "An object of class Seurat \n",
       "170811 features across 1981 samples within 4 assays \n",
       "Active assay: chromvarnames (633 features, 0 variable features)\n",
       " 3 other assays present: ATAC, RNA, chromvar\n",
       " 2 dimensional reductions calculated: integrated_lsi, umap"
      ]
     },
     "metadata": {},
     "output_type": "display_data"
    }
   ],
   "source": [
    "se <- subset(se, subset= name %in% factor(large.clones$name))\n",
    "se"
   ]
  },
  {
   "cell_type": "code",
   "execution_count": 18,
   "id": "cca27e11",
   "metadata": {
    "execution": {
     "iopub.execute_input": "2021-11-03T21:54:50.428829Z",
     "iopub.status.busy": "2021-11-03T21:54:50.426112Z",
     "iopub.status.idle": "2021-11-03T21:55:28.064670Z",
     "shell.execute_reply": "2021-11-03T21:55:28.063190Z"
    },
    "papermill": {
     "duration": 37.70154,
     "end_time": "2021-11-03T21:55:28.064832",
     "exception": false,
     "start_time": "2021-11-03T21:54:50.363292",
     "status": "completed"
    },
    "tags": []
   },
   "outputs": [],
   "source": [
    "saveRDS(object=se, file=file.path(outdir, \"se.clonesfilt.rds\"))    "
   ]
  },
  {
   "cell_type": "markdown",
   "id": "1aa2150f",
   "metadata": {
    "papermill": {
     "duration": 0.05983,
     "end_time": "2021-11-03T21:55:28.188649",
     "exception": false,
     "start_time": "2021-11-03T21:55:28.128819",
     "status": "completed"
    },
    "tags": []
   },
   "source": [
    "## Run DE"
   ]
  },
  {
   "cell_type": "code",
   "execution_count": 19,
   "id": "9c5b398c",
   "metadata": {
    "execution": {
     "iopub.execute_input": "2021-11-03T21:55:28.310421Z",
     "iopub.status.busy": "2021-11-03T21:55:28.307750Z",
     "iopub.status.idle": "2021-11-03T21:56:51.938597Z",
     "shell.execute_reply": "2021-11-03T21:56:51.939213Z"
    },
    "papermill": {
     "duration": 83.69378,
     "end_time": "2021-11-03T21:56:51.939480",
     "exception": false,
     "start_time": "2021-11-03T21:55:28.245700",
     "status": "completed"
    },
    "scrolled": true,
    "tags": []
   },
   "outputs": [
    {
     "name": "stdout",
     "output_type": "stream",
     "text": [
      "[1] \"donor\"\n",
      "[1] 0\n",
      "[1] \"clones\"\n",
      "[1] 3  7  11\n",
      "Levels: 0 1 2 3 4 5 6 7 8 9 10 11 12 13 14 15 16 17 18 19 None\n",
      "[1] 3\n",
      "[1] \"se.filt\"\n",
      "[1] 490  46\n",
      "[1] 3 7\n",
      "Levels: 0 1 2 3 4 5 6 7 8 9 10 11 12 13 14 15 16 17 18 19 None\n",
      "[1] \"clones 1\"\n"
     ]
    },
    {
     "name": "stderr",
     "output_type": "stream",
     "text": [
      "For a more efficient implementation of the Wilcoxon Rank Sum Test,\n",
      "(default method for FindMarkers) please install the limma package\n",
      "--------------------------------------------\n",
      "install.packages('BiocManager')\n",
      "BiocManager::install('limma')\n",
      "--------------------------------------------\n",
      "After installation of limma, Seurat will automatically use the more \n",
      "efficient implementation (no further action necessary).\n",
      "This message will be shown once per session\n",
      "\n"
     ]
    },
    {
     "name": "stdout",
     "output_type": "stream",
     "text": [
      "[1] 3  11\n",
      "Levels: 0 1 2 3 4 5 6 7 8 9 10 11 12 13 14 15 16 17 18 19 None\n",
      "[1] \"clones 2\"\n",
      "[1] 7  11\n",
      "Levels: 0 1 2 3 4 5 6 7 8 9 10 11 12 13 14 15 16 17 18 19 None\n",
      "[1] \"clones 3\"\n",
      "[1] \"donor\"\n",
      "[1] 1\n",
      "[1] \"clones\"\n",
      "[1] 11 16 19\n",
      "Levels: 0 1 2 3 4 5 6 7 8 9 10 11 12 13 14 15 16 17 18 19 None\n",
      "[1] 3\n",
      "[1] \"se.filt\"\n",
      "[1] 462  46\n",
      "[1] 11 16\n",
      "Levels: 0 1 2 3 4 5 6 7 8 9 10 11 12 13 14 15 16 17 18 19 None\n",
      "[1] \"clones 1\"\n",
      "[1] 11 19\n",
      "Levels: 0 1 2 3 4 5 6 7 8 9 10 11 12 13 14 15 16 17 18 19 None\n",
      "[1] \"clones 2\"\n",
      "[1] 16 19\n",
      "Levels: 0 1 2 3 4 5 6 7 8 9 10 11 12 13 14 15 16 17 18 19 None\n",
      "[1] \"clones 3\"\n",
      "[1] \"donor\"\n",
      "[1] 2\n",
      "[1] \"clones\"\n",
      "[1] 1  2  9  17 18 19\n",
      "Levels: 0 1 2 3 4 5 6 7 8 9 10 11 12 13 14 15 16 17 18 19 None\n",
      "[1] 6\n",
      "[1] \"se.filt\"\n",
      "[1] 434  46\n",
      "[1] 1 2\n",
      "Levels: 0 1 2 3 4 5 6 7 8 9 10 11 12 13 14 15 16 17 18 19 None\n",
      "[1] \"clones 1\"\n",
      "[1] 1 9\n",
      "Levels: 0 1 2 3 4 5 6 7 8 9 10 11 12 13 14 15 16 17 18 19 None\n",
      "[1] \"clones 2\"\n",
      "[1] 1  17\n",
      "Levels: 0 1 2 3 4 5 6 7 8 9 10 11 12 13 14 15 16 17 18 19 None\n",
      "[1] \"clones 3\"\n",
      "[1] 1  18\n",
      "Levels: 0 1 2 3 4 5 6 7 8 9 10 11 12 13 14 15 16 17 18 19 None\n",
      "[1] \"clones 4\"\n",
      "[1] 1  19\n",
      "Levels: 0 1 2 3 4 5 6 7 8 9 10 11 12 13 14 15 16 17 18 19 None\n",
      "[1] \"clones 5\"\n",
      "[1] 2 9\n",
      "Levels: 0 1 2 3 4 5 6 7 8 9 10 11 12 13 14 15 16 17 18 19 None\n",
      "[1] \"clones 6\"\n",
      "[1] 2  17\n",
      "Levels: 0 1 2 3 4 5 6 7 8 9 10 11 12 13 14 15 16 17 18 19 None\n",
      "[1] \"clones 7\"\n",
      "[1] 2  18\n",
      "Levels: 0 1 2 3 4 5 6 7 8 9 10 11 12 13 14 15 16 17 18 19 None\n",
      "[1] \"clones 8\"\n",
      "[1] 2  19\n",
      "Levels: 0 1 2 3 4 5 6 7 8 9 10 11 12 13 14 15 16 17 18 19 None\n",
      "[1] \"clones 9\"\n",
      "[1] 9  17\n",
      "Levels: 0 1 2 3 4 5 6 7 8 9 10 11 12 13 14 15 16 17 18 19 None\n",
      "[1] \"clones 10\"\n",
      "[1] 9  18\n",
      "Levels: 0 1 2 3 4 5 6 7 8 9 10 11 12 13 14 15 16 17 18 19 None\n",
      "[1] \"clones 11\"\n",
      "[1] 9  19\n",
      "Levels: 0 1 2 3 4 5 6 7 8 9 10 11 12 13 14 15 16 17 18 19 None\n",
      "[1] \"clones 12\"\n",
      "[1] 17 18\n",
      "Levels: 0 1 2 3 4 5 6 7 8 9 10 11 12 13 14 15 16 17 18 19 None\n",
      "[1] \"clones 13\"\n",
      "[1] 17 19\n",
      "Levels: 0 1 2 3 4 5 6 7 8 9 10 11 12 13 14 15 16 17 18 19 None\n",
      "[1] \"clones 14\"\n",
      "[1] 18 19\n",
      "Levels: 0 1 2 3 4 5 6 7 8 9 10 11 12 13 14 15 16 17 18 19 None\n",
      "[1] \"clones 15\"\n",
      "[1] \"donor\"\n",
      "[1] 3\n",
      "[1] \"clones\"\n",
      "[1] 2  3  12 14 18\n",
      "Levels: 0 1 2 3 4 5 6 7 8 9 10 11 12 13 14 15 16 17 18 19 None\n",
      "[1] 5\n",
      "[1] \"se.filt\"\n",
      "[1] 595  46\n",
      "[1] 2 3\n",
      "Levels: 0 1 2 3 4 5 6 7 8 9 10 11 12 13 14 15 16 17 18 19 None\n",
      "[1] \"clones 1\"\n",
      "[1] 2  12\n",
      "Levels: 0 1 2 3 4 5 6 7 8 9 10 11 12 13 14 15 16 17 18 19 None\n",
      "[1] \"clones 2\"\n",
      "[1] 2  14\n",
      "Levels: 0 1 2 3 4 5 6 7 8 9 10 11 12 13 14 15 16 17 18 19 None\n",
      "[1] \"clones 3\"\n",
      "[1] 2  18\n",
      "Levels: 0 1 2 3 4 5 6 7 8 9 10 11 12 13 14 15 16 17 18 19 None\n",
      "[1] \"clones 4\"\n",
      "[1] 3  12\n",
      "Levels: 0 1 2 3 4 5 6 7 8 9 10 11 12 13 14 15 16 17 18 19 None\n",
      "[1] \"clones 5\"\n",
      "[1] 3  14\n",
      "Levels: 0 1 2 3 4 5 6 7 8 9 10 11 12 13 14 15 16 17 18 19 None\n",
      "[1] \"clones 6\"\n",
      "[1] 3  18\n",
      "Levels: 0 1 2 3 4 5 6 7 8 9 10 11 12 13 14 15 16 17 18 19 None\n",
      "[1] \"clones 7\"\n",
      "[1] 12 14\n",
      "Levels: 0 1 2 3 4 5 6 7 8 9 10 11 12 13 14 15 16 17 18 19 None\n",
      "[1] \"clones 8\"\n",
      "[1] 12 18\n",
      "Levels: 0 1 2 3 4 5 6 7 8 9 10 11 12 13 14 15 16 17 18 19 None\n",
      "[1] \"clones 9\"\n",
      "[1] 14 18\n",
      "Levels: 0 1 2 3 4 5 6 7 8 9 10 11 12 13 14 15 16 17 18 19 None\n",
      "[1] \"clones 10\"\n"
     ]
    }
   ],
   "source": [
    "for (d in 0:(n_donors-1)){\n",
    "    print('donor')\n",
    "    print(d)\n",
    "    curr.outdir <- file.path(outdir, paste0(\"donor\", d, \"_TF\"))\n",
    "    dir.create(curr.outdir)\n",
    "    donor.large.clones <- large.clones %>% filter(donor==d)\n",
    "    clones.filt.ids <- sort(donor.large.clones$lineage)\n",
    "    print('clones')\n",
    "    print(clones.filt.ids)\n",
    "    print(length(clones.filt.ids))\n",
    "    se.filt <- subset(se, subset = (donor==d) & (lineage %in% donor.large.clones$lineage))\n",
    "    Idents(se.filt) <- se.filt$lineage  \n",
    "    print('se.filt')\n",
    "    print(dim(se.filt[[]]))\n",
    "    DefaultAssay(se.filt) <- \"chromvarnames\"\n",
    "    pairs = combn(clones.filt.ids,2)\n",
    "    for (i in 1:dim(combn(clones.filt.ids,2))[2]){\n",
    "        print(pairs[,i])\n",
    "        try({\n",
    "            print(paste(\"clones\", i))\n",
    "            a = pairs[1,i]\n",
    "            b = pairs[2,i]\n",
    "            da <- FindMarkers(\n",
    "              object = se.filt,\n",
    "              ident.1 = a,\n",
    "              ident.2 = b,\n",
    "              only.pos = FALSE,\n",
    "              mean.fxn = rowMeans,\n",
    "              logfc.threshold = 0.1,\n",
    "              min.pct = 0.01,\n",
    "              fc.name = \"avg_diff\")\n",
    "            write.csv(da, \n",
    "                      file=file.path(curr.outdir, paste0(\"clones_\",a,\"__\", b,\".DE.TF.csv\")))\n",
    "\n",
    "            #plotDE(se, da, c, clust_outdir)\n",
    "\n",
    "    })\n",
    "        }\n",
    "    }"
   ]
  },
  {
   "cell_type": "code",
   "execution_count": null,
   "id": "1692a487",
   "metadata": {
    "papermill": {
     "duration": 0.063175,
     "end_time": "2021-11-03T21:56:52.066584",
     "exception": false,
     "start_time": "2021-11-03T21:56:52.003409",
     "status": "completed"
    },
    "tags": []
   },
   "outputs": [],
   "source": []
  },
  {
   "cell_type": "code",
   "execution_count": null,
   "id": "a9884ca6",
   "metadata": {
    "papermill": {
     "duration": 0.057491,
     "end_time": "2021-11-03T21:56:52.182223",
     "exception": false,
     "start_time": "2021-11-03T21:56:52.124732",
     "status": "completed"
    },
    "tags": []
   },
   "outputs": [],
   "source": []
  }
 ],
 "metadata": {
  "celltoolbar": "Tags",
  "kernelspec": {
   "display_name": "R",
   "language": "R",
   "name": "ir"
  },
  "language_info": {
   "codemirror_mode": "r",
   "file_extension": ".r",
   "mimetype": "text/x-r-source",
   "name": "R",
   "pygments_lexer": "r",
   "version": "4.1.1"
  },
  "papermill": {
   "default_parameters": {},
   "duration": 1131.005867,
   "end_time": "2021-11-03T21:56:52.760771",
   "environment_variables": {},
   "exception": null,
   "input_path": "/data2/mito_lineage/R_scripts/annotation_clones/DE_clones.TF.vCurrent.ipynb",
   "output_path": "/data2/mito_lineage/output/pipeline/cd34norm/MTblacklist/data/merged/MT/cellr_True/numread_200/filters/minC10_minR50_topN0_hetT0.001_hetC10_hetCount5_bq20/mgatk/vireoIn/clones/variants_simple/vireo/nclones20/enrichment/annotation_clones/DE_large/DE.ipynb",
   "parameters": {
    "n_donors": 4,
    "outdir": "/data2/mito_lineage/output/pipeline/cd34norm/MTblacklist/data/merged/MT/cellr_True/numread_200/filters/minC10_minR50_topN0_hetT0.001_hetC10_hetCount5_bq20/mgatk/vireoIn/clones/variants_simple/vireo/nclones20/enrichment/annotation_clones/DE_large",
    "se_f": "/data2/mito_lineage/output/pipeline/cd34norm/MTblacklist/data/merged/MT/cellr_True/numread_200/filters/minC10_minR50_topN0_hetT0.001_hetC10_hetCount5_bq20/mgatk/vireoIn/clones/variants_simple/vireo/nclones20/enrichment/annotation_clones/SE.rds"
   },
   "start_time": "2021-11-03T21:38:01.754904",
   "version": "2.3.3"
  }
 },
 "nbformat": 4,
 "nbformat_minor": 5
}