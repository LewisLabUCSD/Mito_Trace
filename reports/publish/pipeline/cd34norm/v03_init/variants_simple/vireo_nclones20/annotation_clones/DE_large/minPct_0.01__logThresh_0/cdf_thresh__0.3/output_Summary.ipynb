{
 "cells": [
  {
   "cell_type": "code",
   "execution_count": 1,
   "id": "4246cc89",
   "metadata": {
    "execution": {
     "iopub.execute_input": "2021-12-03T21:27:47.585577Z",
     "iopub.status.busy": "2021-12-03T21:27:47.582969Z",
     "iopub.status.idle": "2021-12-03T21:27:47.628708Z",
     "shell.execute_reply": "2021-12-03T21:27:47.627341Z"
    },
    "papermill": {
     "duration": 0.187446,
     "end_time": "2021-12-03T21:27:47.628964",
     "exception": false,
     "start_time": "2021-12-03T21:27:47.441518",
     "status": "completed"
    },
    "tags": [
     "parameters"
    ]
   },
   "outputs": [],
   "source": [
    "#indir = \"/data/Mito_Trace/output/annotation_clones/data/cd34norm/MTblacklist/DE_large\"\n",
    "indir = \"/data/Mito_Trace/output/pipeline/cd34norm/MTblacklist/data/merged/MT/cellr_True/numread_200/filters/minC10_minR50_topN0_hetT0.001_hetC10_hetCount5_bq20/mgatk/vireoIn/clones/variants_init/vireo/nclones20/annotation_clones/DE_large/minPct_0.01__logThresh_0\"\n",
    "\n",
    "se_indir = \"/data/Mito_Trace/output/pipeline/cd34norm/MTblacklist/data/merged/MT/cellr_True/numread_200/filters/minC10_minR50_topN0_hetT0.001_hetC10_hetCount5_bq20/mgatk/vireoIn/clones/variants_init/vireo/nclones20/annotation_clones/DE_large\"\n",
    "n_donors = 4\n",
    "cdf_thresh = 0.3\n",
    "\n",
    "n_top_genes = 5\n",
    "n_top_clones = 3\n",
    "utils_script <- \"/data/Mito_Trace/R_scripts/seurat_utils.R\"\n"
   ]
  },
  {
   "cell_type": "code",
   "execution_count": 2,
   "id": "039749e1",
   "metadata": {
    "execution": {
     "iopub.execute_input": "2021-12-03T21:27:47.799865Z",
     "iopub.status.busy": "2021-12-03T21:27:47.759400Z",
     "iopub.status.idle": "2021-12-03T21:27:47.818362Z",
     "shell.execute_reply": "2021-12-03T21:27:47.816974Z"
    },
    "papermill": {
     "duration": 0.130082,
     "end_time": "2021-12-03T21:27:47.818558",
     "exception": false,
     "start_time": "2021-12-03T21:27:47.688476",
     "status": "completed"
    },
    "tags": [
     "injected-parameters"
    ]
   },
   "outputs": [],
   "source": [
    "# Parameters\n",
    "indir = \"/data/Mito_Trace/output/pipeline/cd34norm/MTblacklist/data/merged/MT/cellr_True/numread_200/filters/minC10_minR50_topN0_hetT0.001_hetC10_hetCount5_bq20/mgatk/vireoIn/clones/variants_simple/vireo/nclones20/annotation_clones/DE_large/minPct_0.01__logThresh_0\"\n",
    "se_indir = \"/data/Mito_Trace/output/pipeline/cd34norm/MTblacklist/data/merged/MT/cellr_True/numread_200/filters/minC10_minR50_topN0_hetT0.001_hetC10_hetCount5_bq20/mgatk/vireoIn/clones/variants_simple/vireo/nclones20/annotation_clones/DE_large\"\n",
    "n_donors = 4\n",
    "cdf_thresh = 0.3\n"
   ]
  },
  {
   "cell_type": "code",
   "execution_count": 3,
   "id": "126002f9",
   "metadata": {
    "execution": {
     "iopub.execute_input": "2021-12-03T21:27:47.948580Z",
     "iopub.status.busy": "2021-12-03T21:27:47.945968Z",
     "iopub.status.idle": "2021-12-03T21:27:54.581079Z",
     "shell.execute_reply": "2021-12-03T21:27:54.579276Z"
    },
    "papermill": {
     "duration": 6.700153,
     "end_time": "2021-12-03T21:27:54.581257",
     "exception": false,
     "start_time": "2021-12-03T21:27:47.881104",
     "status": "completed"
    },
    "scrolled": true,
    "tags": []
   },
   "outputs": [
    {
     "name": "stderr",
     "output_type": "stream",
     "text": [
      "Attaching SeuratObject\n",
      "\n"
     ]
    }
   ],
   "source": [
    "source(utils_script)"
   ]
  },
  {
   "cell_type": "code",
   "execution_count": 4,
   "id": "3657ef25",
   "metadata": {
    "execution": {
     "iopub.execute_input": "2021-12-03T21:27:54.698347Z",
     "iopub.status.busy": "2021-12-03T21:27:54.695364Z",
     "iopub.status.idle": "2021-12-03T21:27:54.721187Z",
     "shell.execute_reply": "2021-12-03T21:27:54.718993Z"
    },
    "papermill": {
     "duration": 0.085051,
     "end_time": "2021-12-03T21:27:54.721386",
     "exception": false,
     "start_time": "2021-12-03T21:27:54.636335",
     "status": "completed"
    },
    "scrolled": true,
    "tags": []
   },
   "outputs": [
    {
     "name": "stderr",
     "output_type": "stream",
     "text": [
      "Warning message in dir.create(outdir):\n",
      "“'/data/Mito_Trace/output/pipeline/cd34norm/MTblacklist/data/merged/MT/cellr_True/numread_200/filters/minC10_minR50_topN0_hetT0.001_hetC10_hetCount5_bq20/mgatk/vireoIn/clones/variants_simple/vireo/nclones20/annotation_clones/DE_large/minPct_0.01__logThresh_0/cdf_thresh__0.3' already exists”\n"
     ]
    }
   ],
   "source": [
    "outdir <- paste0(indir, \"/\", \"cdf_thresh__\", (cdf_thresh))\n",
    "dir.create(outdir)"
   ]
  },
  {
   "cell_type": "code",
   "execution_count": 5,
   "id": "5d9ca2e3",
   "metadata": {
    "execution": {
     "iopub.execute_input": "2021-12-03T21:27:54.843472Z",
     "iopub.status.busy": "2021-12-03T21:27:54.840540Z",
     "iopub.status.idle": "2021-12-03T21:28:01.971275Z",
     "shell.execute_reply": "2021-12-03T21:28:01.970289Z"
    },
    "papermill": {
     "duration": 7.192009,
     "end_time": "2021-12-03T21:28:01.971503",
     "exception": false,
     "start_time": "2021-12-03T21:27:54.779494",
     "status": "completed"
    },
    "scrolled": true,
    "tags": []
   },
   "outputs": [
    {
     "name": "stderr",
     "output_type": "stream",
     "text": [
      "\n",
      "Attaching package: ‘cowplot’\n",
      "\n",
      "\n"
     ]
    },
    {
     "name": "stderr",
     "output_type": "stream",
     "text": [
      "The following object is masked from ‘package:patchwork’:\n",
      "\n",
      "    align_plots\n",
      "\n",
      "\n"
     ]
    },
    {
     "name": "stderr",
     "output_type": "stream",
     "text": [
      "\n",
      "Attaching package: ‘dplyr’\n",
      "\n",
      "\n"
     ]
    },
    {
     "name": "stderr",
     "output_type": "stream",
     "text": [
      "The following objects are masked from ‘package:stats’:\n",
      "\n",
      "    filter, lag\n",
      "\n",
      "\n"
     ]
    },
    {
     "name": "stderr",
     "output_type": "stream",
     "text": [
      "The following objects are masked from ‘package:base’:\n",
      "\n",
      "    intersect, setdiff, setequal, union\n",
      "\n",
      "\n"
     ]
    },
    {
     "name": "stderr",
     "output_type": "stream",
     "text": [
      "Loading required package: grid\n",
      "\n"
     ]
    },
    {
     "name": "stderr",
     "output_type": "stream",
     "text": [
      "========================================\n",
      "ComplexHeatmap version 2.10.0\n",
      "Bioconductor page: http://bioconductor.org/packages/ComplexHeatmap/\n",
      "Github page: https://github.com/jokergoo/ComplexHeatmap\n",
      "Documentation: http://jokergoo.github.io/ComplexHeatmap-reference\n",
      "\n",
      "If you use it in published research, please cite:\n",
      "Gu, Z. Complex heatmaps reveal patterns and correlations in multidimensional \n",
      "  genomic data. Bioinformatics 2016.\n",
      "\n",
      "The new InteractiveComplexHeatmap package can directly export static \n",
      "complex heatmaps into an interactive Shiny app with zero effort. Have a try!\n",
      "\n",
      "This message can be suppressed by:\n",
      "  suppressPackageStartupMessages(library(ComplexHeatmap))\n",
      "========================================\n",
      "\n",
      "\n"
     ]
    },
    {
     "name": "stderr",
     "output_type": "stream",
     "text": [
      "\n",
      "\n"
     ]
    },
    {
     "name": "stderr",
     "output_type": "stream",
     "text": [
      "Loading required package: BSgenome\n",
      "\n"
     ]
    },
    {
     "name": "stderr",
     "output_type": "stream",
     "text": [
      "Loading required package: BiocGenerics\n",
      "\n"
     ]
    },
    {
     "name": "stderr",
     "output_type": "stream",
     "text": [
      "\n",
      "Attaching package: ‘BiocGenerics’\n",
      "\n",
      "\n"
     ]
    },
    {
     "name": "stderr",
     "output_type": "stream",
     "text": [
      "The following objects are masked from ‘package:dplyr’:\n",
      "\n",
      "    combine, intersect, setdiff, union\n",
      "\n",
      "\n"
     ]
    },
    {
     "name": "stderr",
     "output_type": "stream",
     "text": [
      "The following objects are masked from ‘package:stats’:\n",
      "\n",
      "    IQR, mad, sd, var, xtabs\n",
      "\n",
      "\n"
     ]
    },
    {
     "name": "stderr",
     "output_type": "stream",
     "text": [
      "The following objects are masked from ‘package:base’:\n",
      "\n",
      "    anyDuplicated, append, as.data.frame, basename, cbind, colnames,\n",
      "    dirname, do.call, duplicated, eval, evalq, Filter, Find, get, grep,\n",
      "    grepl, intersect, is.unsorted, lapply, Map, mapply, match, mget,\n",
      "    order, paste, pmax, pmax.int, pmin, pmin.int, Position, rank,\n",
      "    rbind, Reduce, rownames, sapply, setdiff, sort, table, tapply,\n",
      "    union, unique, unsplit, which.max, which.min\n",
      "\n",
      "\n"
     ]
    },
    {
     "name": "stderr",
     "output_type": "stream",
     "text": [
      "Loading required package: S4Vectors\n",
      "\n"
     ]
    },
    {
     "name": "stderr",
     "output_type": "stream",
     "text": [
      "Loading required package: stats4\n",
      "\n"
     ]
    },
    {
     "name": "stderr",
     "output_type": "stream",
     "text": [
      "\n",
      "Attaching package: ‘S4Vectors’\n",
      "\n",
      "\n"
     ]
    },
    {
     "name": "stderr",
     "output_type": "stream",
     "text": [
      "The following object is masked from ‘package:future’:\n",
      "\n",
      "    values\n",
      "\n",
      "\n"
     ]
    },
    {
     "name": "stderr",
     "output_type": "stream",
     "text": [
      "The following objects are masked from ‘package:dplyr’:\n",
      "\n",
      "    first, rename\n",
      "\n",
      "\n"
     ]
    },
    {
     "name": "stderr",
     "output_type": "stream",
     "text": [
      "The following objects are masked from ‘package:base’:\n",
      "\n",
      "    expand.grid, I, unname\n",
      "\n",
      "\n"
     ]
    },
    {
     "name": "stderr",
     "output_type": "stream",
     "text": [
      "Loading required package: IRanges\n",
      "\n"
     ]
    },
    {
     "name": "stderr",
     "output_type": "stream",
     "text": [
      "\n",
      "Attaching package: ‘IRanges’\n",
      "\n",
      "\n"
     ]
    },
    {
     "name": "stderr",
     "output_type": "stream",
     "text": [
      "The following objects are masked from ‘package:dplyr’:\n",
      "\n",
      "    collapse, desc, slice\n",
      "\n",
      "\n"
     ]
    },
    {
     "name": "stderr",
     "output_type": "stream",
     "text": [
      "Loading required package: GenomeInfoDb\n",
      "\n"
     ]
    },
    {
     "name": "stderr",
     "output_type": "stream",
     "text": [
      "Loading required package: GenomicRanges\n",
      "\n"
     ]
    },
    {
     "name": "stderr",
     "output_type": "stream",
     "text": [
      "Loading required package: Biostrings\n",
      "\n"
     ]
    },
    {
     "name": "stderr",
     "output_type": "stream",
     "text": [
      "Loading required package: XVector\n",
      "\n"
     ]
    },
    {
     "name": "stderr",
     "output_type": "stream",
     "text": [
      "\n",
      "Attaching package: ‘Biostrings’\n",
      "\n",
      "\n"
     ]
    },
    {
     "name": "stderr",
     "output_type": "stream",
     "text": [
      "The following object is masked from ‘package:grid’:\n",
      "\n",
      "    pattern\n",
      "\n",
      "\n"
     ]
    },
    {
     "name": "stderr",
     "output_type": "stream",
     "text": [
      "The following object is masked from ‘package:base’:\n",
      "\n",
      "    strsplit\n",
      "\n",
      "\n"
     ]
    },
    {
     "name": "stderr",
     "output_type": "stream",
     "text": [
      "Loading required package: rtracklayer\n",
      "\n"
     ]
    }
   ],
   "source": [
    "library(Seurat)\n",
    "library(Signac)\n",
    "library(ggplot2)\n",
    "library(patchwork)\n",
    "set.seed(1234)\n",
    "library(magrittr)\n",
    "library(cowplot)\n",
    "library(metap)\n",
    "library(dplyr)\n",
    "library(future)\n",
    "library(\"ComplexHeatmap\")\n",
    "library(motifmatchr)\n",
    "library(JASPAR2020)\n",
    "library(TFBSTools)\n",
    "library(BSgenome.Hsapiens.UCSC.hg38)\n"
   ]
  },
  {
   "cell_type": "markdown",
   "id": "e8a7d7b5",
   "metadata": {
    "papermill": {
     "duration": 0.093786,
     "end_time": "2021-12-03T21:28:02.155289",
     "exception": false,
     "start_time": "2021-12-03T21:28:02.061503",
     "status": "completed"
    },
    "tags": []
   },
   "source": [
    "## Import seurat object"
   ]
  },
  {
   "cell_type": "code",
   "execution_count": 6,
   "id": "2ef3a56c",
   "metadata": {
    "execution": {
     "iopub.execute_input": "2021-12-03T21:28:02.324556Z",
     "iopub.status.busy": "2021-12-03T21:28:02.321786Z",
     "iopub.status.idle": "2021-12-03T21:28:17.138302Z",
     "shell.execute_reply": "2021-12-03T21:28:17.139212Z"
    },
    "papermill": {
     "duration": 14.899779,
     "end_time": "2021-12-03T21:28:17.139532",
     "exception": false,
     "start_time": "2021-12-03T21:28:02.239753",
     "status": "completed"
    },
    "scrolled": true,
    "tags": []
   },
   "outputs": [
    {
     "name": "stdout",
     "output_type": "stream",
     "text": [
      "[1] 4\n",
      "[1] \"i 1 donor 0\"\n",
      "[1] \"only 1 clone. Using top 3 clones\"\n",
      "[1] \"i 2 donor 1\"\n",
      "[1] \"only 1 clone. Using top 3 clones\"\n",
      "[1] \"i 3 donor 2\"\n",
      "[1] \"only 1 clone. Using top 3 clones\"\n",
      "[1] \"i 4 donor 3\"\n"
     ]
    },
    {
     "data": {
      "text/html": [
       "<table class=\"dataframe\">\n",
       "<caption>A data.frame: 12 × 9</caption>\n",
       "<thead>\n",
       "\t<tr><th scope=col>X</th><th scope=col>donor</th><th scope=col>lineage</th><th scope=col>norm.total</th><th scope=col>total</th><th scope=col>name</th><th scope=col>cdf.norm</th><th scope=col>cdf</th><th scope=col>index</th></tr>\n",
       "\t<tr><th scope=col>&lt;int&gt;</th><th scope=col>&lt;int&gt;</th><th scope=col>&lt;int&gt;</th><th scope=col>&lt;dbl&gt;</th><th scope=col>&lt;int&gt;</th><th scope=col>&lt;chr&gt;</th><th scope=col>&lt;dbl&gt;</th><th scope=col>&lt;int&gt;</th><th scope=col>&lt;int&gt;</th></tr>\n",
       "</thead>\n",
       "<tbody>\n",
       "\t<tr><td>14</td><td>3</td><td> 7</td><td>0.1862740</td><td>111</td><td>3_7 </td><td>0.0931370</td><td>111</td><td>1</td></tr>\n",
       "\t<tr><td>15</td><td>3</td><td> 3</td><td>0.1837243</td><td> 82</td><td>3_3 </td><td>0.1849992</td><td>193</td><td>2</td></tr>\n",
       "\t<tr><td>16</td><td>3</td><td>15</td><td>0.1593575</td><td> 66</td><td>3_15</td><td>0.2646779</td><td>259</td><td>3</td></tr>\n",
       "\t<tr><td> 1</td><td>0</td><td>19</td><td>0.2550973</td><td>116</td><td>0_19</td><td>0.1275487</td><td>116</td><td>1</td></tr>\n",
       "\t<tr><td> 2</td><td>0</td><td>17</td><td>0.2175510</td><td> 73</td><td>0_17</td><td>0.2363242</td><td>189</td><td>2</td></tr>\n",
       "\t<tr><td> 3</td><td>0</td><td>16</td><td>0.2136721</td><td> 95</td><td>0_16</td><td>0.3431602</td><td>284</td><td>3</td></tr>\n",
       "\t<tr><td> 5</td><td>1</td><td>10</td><td>0.2807542</td><td>111</td><td>1_10</td><td>0.1403771</td><td>111</td><td>1</td></tr>\n",
       "\t<tr><td> 6</td><td>1</td><td> 3</td><td>0.2069468</td><td> 72</td><td>1_3 </td><td>0.2438505</td><td>183</td><td>2</td></tr>\n",
       "\t<tr><td> 7</td><td>1</td><td>17</td><td>0.1512981</td><td> 60</td><td>1_17</td><td>0.3194996</td><td>243</td><td>3</td></tr>\n",
       "\t<tr><td>10</td><td>2</td><td> 2</td><td>0.4485496</td><td>146</td><td>2_2 </td><td>0.2242748</td><td>146</td><td>1</td></tr>\n",
       "\t<tr><td>11</td><td>2</td><td>19</td><td>0.2036210</td><td> 75</td><td>2_19</td><td>0.3260853</td><td>221</td><td>2</td></tr>\n",
       "\t<tr><td>12</td><td>2</td><td>10</td><td>0.1799957</td><td> 62</td><td>2_10</td><td>0.4160831</td><td>283</td><td>3</td></tr>\n",
       "</tbody>\n",
       "</table>\n"
      ],
      "text/latex": [
       "A data.frame: 12 × 9\n",
       "\\begin{tabular}{lllllllll}\n",
       " X & donor & lineage & norm.total & total & name & cdf.norm & cdf & index\\\\\n",
       " <int> & <int> & <int> & <dbl> & <int> & <chr> & <dbl> & <int> & <int>\\\\\n",
       "\\hline\n",
       "\t 14 & 3 &  7 & 0.1862740 & 111 & 3\\_7  & 0.0931370 & 111 & 1\\\\\n",
       "\t 15 & 3 &  3 & 0.1837243 &  82 & 3\\_3  & 0.1849992 & 193 & 2\\\\\n",
       "\t 16 & 3 & 15 & 0.1593575 &  66 & 3\\_15 & 0.2646779 & 259 & 3\\\\\n",
       "\t  1 & 0 & 19 & 0.2550973 & 116 & 0\\_19 & 0.1275487 & 116 & 1\\\\\n",
       "\t  2 & 0 & 17 & 0.2175510 &  73 & 0\\_17 & 0.2363242 & 189 & 2\\\\\n",
       "\t  3 & 0 & 16 & 0.2136721 &  95 & 0\\_16 & 0.3431602 & 284 & 3\\\\\n",
       "\t  5 & 1 & 10 & 0.2807542 & 111 & 1\\_10 & 0.1403771 & 111 & 1\\\\\n",
       "\t  6 & 1 &  3 & 0.2069468 &  72 & 1\\_3  & 0.2438505 & 183 & 2\\\\\n",
       "\t  7 & 1 & 17 & 0.1512981 &  60 & 1\\_17 & 0.3194996 & 243 & 3\\\\\n",
       "\t 10 & 2 &  2 & 0.4485496 & 146 & 2\\_2  & 0.2242748 & 146 & 1\\\\\n",
       "\t 11 & 2 & 19 & 0.2036210 &  75 & 2\\_19 & 0.3260853 & 221 & 2\\\\\n",
       "\t 12 & 2 & 10 & 0.1799957 &  62 & 2\\_10 & 0.4160831 & 283 & 3\\\\\n",
       "\\end{tabular}\n"
      ],
      "text/markdown": [
       "\n",
       "A data.frame: 12 × 9\n",
       "\n",
       "| X &lt;int&gt; | donor &lt;int&gt; | lineage &lt;int&gt; | norm.total &lt;dbl&gt; | total &lt;int&gt; | name &lt;chr&gt; | cdf.norm &lt;dbl&gt; | cdf &lt;int&gt; | index &lt;int&gt; |\n",
       "|---|---|---|---|---|---|---|---|---|\n",
       "| 14 | 3 |  7 | 0.1862740 | 111 | 3_7  | 0.0931370 | 111 | 1 |\n",
       "| 15 | 3 |  3 | 0.1837243 |  82 | 3_3  | 0.1849992 | 193 | 2 |\n",
       "| 16 | 3 | 15 | 0.1593575 |  66 | 3_15 | 0.2646779 | 259 | 3 |\n",
       "|  1 | 0 | 19 | 0.2550973 | 116 | 0_19 | 0.1275487 | 116 | 1 |\n",
       "|  2 | 0 | 17 | 0.2175510 |  73 | 0_17 | 0.2363242 | 189 | 2 |\n",
       "|  3 | 0 | 16 | 0.2136721 |  95 | 0_16 | 0.3431602 | 284 | 3 |\n",
       "|  5 | 1 | 10 | 0.2807542 | 111 | 1_10 | 0.1403771 | 111 | 1 |\n",
       "|  6 | 1 |  3 | 0.2069468 |  72 | 1_3  | 0.2438505 | 183 | 2 |\n",
       "|  7 | 1 | 17 | 0.1512981 |  60 | 1_17 | 0.3194996 | 243 | 3 |\n",
       "| 10 | 2 |  2 | 0.4485496 | 146 | 2_2  | 0.2242748 | 146 | 1 |\n",
       "| 11 | 2 | 19 | 0.2036210 |  75 | 2_19 | 0.3260853 | 221 | 2 |\n",
       "| 12 | 2 | 10 | 0.1799957 |  62 | 2_10 | 0.4160831 | 283 | 3 |\n",
       "\n"
      ],
      "text/plain": [
       "   X  donor lineage norm.total total name cdf.norm  cdf index\n",
       "1  14 3      7      0.1862740  111   3_7  0.0931370 111 1    \n",
       "2  15 3      3      0.1837243   82   3_3  0.1849992 193 2    \n",
       "3  16 3     15      0.1593575   66   3_15 0.2646779 259 3    \n",
       "4   1 0     19      0.2550973  116   0_19 0.1275487 116 1    \n",
       "5   2 0     17      0.2175510   73   0_17 0.2363242 189 2    \n",
       "6   3 0     16      0.2136721   95   0_16 0.3431602 284 3    \n",
       "7   5 1     10      0.2807542  111   1_10 0.1403771 111 1    \n",
       "8   6 1      3      0.2069468   72   1_3  0.2438505 183 2    \n",
       "9   7 1     17      0.1512981   60   1_17 0.3194996 243 3    \n",
       "10 10 2      2      0.4485496  146   2_2  0.2242748 146 1    \n",
       "11 11 2     19      0.2036210   75   2_19 0.3260853 221 2    \n",
       "12 12 2     10      0.1799957   62   2_10 0.4160831 283 3    "
      ]
     },
     "metadata": {},
     "output_type": "display_data"
    }
   ],
   "source": [
    "se <- readRDS(file.path(se_indir, \"se.clonesfilt.rds\"))\n",
    "init.large.clones <- read.csv(file.path(se_indir, \"large_clones.csv\"))\n",
    "large.clones <- init.large.clones %>% filter(cdf.norm<cdf_thresh)\n",
    "\n",
    "large.clones <- check.if.one.clone(large.clones, init.large.clones, n_top_clones)\n",
    "large.clones"
   ]
  },
  {
   "cell_type": "code",
   "execution_count": 7,
   "id": "ec910a21",
   "metadata": {
    "execution": {
     "iopub.execute_input": "2021-12-03T21:28:17.293773Z",
     "iopub.status.busy": "2021-12-03T21:28:17.291129Z",
     "iopub.status.idle": "2021-12-03T21:28:22.598211Z",
     "shell.execute_reply": "2021-12-03T21:28:22.596959Z"
    },
    "papermill": {
     "duration": 5.384456,
     "end_time": "2021-12-03T21:28:22.598473",
     "exception": false,
     "start_time": "2021-12-03T21:28:17.214017",
     "status": "completed"
    },
    "tags": []
   },
   "outputs": [],
   "source": [
    "se <- subset(se, subset= name %in% factor(large.clones$name))"
   ]
  },
  {
   "cell_type": "code",
   "execution_count": 8,
   "id": "c1f91a07",
   "metadata": {
    "execution": {
     "iopub.execute_input": "2021-12-03T21:28:22.790620Z",
     "iopub.status.busy": "2021-12-03T21:28:22.788863Z",
     "iopub.status.idle": "2021-12-03T21:28:22.817440Z",
     "shell.execute_reply": "2021-12-03T21:28:22.816190Z"
    },
    "papermill": {
     "duration": 0.125542,
     "end_time": "2021-12-03T21:28:22.817762",
     "exception": false,
     "start_time": "2021-12-03T21:28:22.692220",
     "status": "completed"
    },
    "tags": []
   },
   "outputs": [],
   "source": [
    "Idents(se) <- \"name\""
   ]
  },
  {
   "cell_type": "code",
   "execution_count": 9,
   "id": "8f207cb1",
   "metadata": {
    "execution": {
     "iopub.execute_input": "2021-12-03T21:28:23.001603Z",
     "iopub.status.busy": "2021-12-03T21:28:22.998061Z",
     "iopub.status.idle": "2021-12-03T21:28:23.910616Z",
     "shell.execute_reply": "2021-12-03T21:28:23.911542Z"
    },
    "papermill": {
     "duration": 1.001976,
     "end_time": "2021-12-03T21:28:23.911840",
     "exception": false,
     "start_time": "2021-12-03T21:28:22.909864",
     "status": "completed"
    },
    "scrolled": true,
    "tags": []
   },
   "outputs": [
    {
     "name": "stderr",
     "output_type": "stream",
     "text": [
      "Saving 6.67 x 6.67 in image\n",
      "\n"
     ]
    },
    {
     "data": {
      "image/png": "[encoded data removed]",
      "text/plain": [
       "plot without title"
      ]
     },
     "metadata": {
      "image/png": {
       "height": 420,
       "width": 420
      }
     },
     "output_type": "display_data"
    }
   ],
   "source": [
    "p <- ggplot(data = large.clones, aes(index, cdf.norm)) +\n",
    "  geom_point(color = \"steelblue\", size = 1) +\n",
    "  facet_wrap(~ donor) \n",
    "\n",
    "p <- p + geom_hline(yintercept=cdf_thresh, color='green') \n",
    "p\n",
    "ggsave(file.path(outdir, \"large.clones.cdf.png\"))\n",
    "\n"
   ]
  },
  {
   "cell_type": "code",
   "execution_count": 10,
   "id": "c28a1ffa",
   "metadata": {
    "execution": {
     "iopub.execute_input": "2021-12-03T21:28:24.108449Z",
     "iopub.status.busy": "2021-12-03T21:28:24.105969Z",
     "iopub.status.idle": "2021-12-03T21:28:24.118662Z",
     "shell.execute_reply": "2021-12-03T21:28:24.117346Z"
    },
    "papermill": {
     "duration": 0.110411,
     "end_time": "2021-12-03T21:28:24.118860",
     "exception": false,
     "start_time": "2021-12-03T21:28:24.008449",
     "status": "completed"
    },
    "tags": []
   },
   "outputs": [],
   "source": [
    "## Get motif names\n",
    "\n",
    "# DefaultAssay(se) <- \"chromvar\"\n",
    "# chrom.var.names <- GetAssayData(se)\n",
    "# DefaultAssay(se) <- \"ATAC\"\n",
    "# motifs <- Motifs(se)\n",
    "# #Motifs(se)@motif.names\n",
    "\n",
    "# head(chrom.var.names)\n",
    "# row.names(chrom.var.names) <- sapply(row.names(chrom.var.names), function(x) {Motifs(se)@motif.names[[x]]})\n",
    "# head(chrom.var.names)\n",
    "\n",
    "\n"
   ]
  },
  {
   "cell_type": "markdown",
   "id": "5564da63",
   "metadata": {
    "papermill": {
     "duration": 0.092435,
     "end_time": "2021-12-03T21:28:24.305298",
     "exception": false,
     "start_time": "2021-12-03T21:28:24.212863",
     "status": "completed"
    },
    "tags": []
   },
   "source": [
    "## TF DE"
   ]
  },
  {
   "cell_type": "markdown",
   "id": "e7def62d",
   "metadata": {
    "papermill": {
     "duration": 0.07839,
     "end_time": "2021-12-03T21:28:24.462934",
     "exception": false,
     "start_time": "2021-12-03T21:28:24.384544",
     "status": "completed"
    },
    "tags": []
   },
   "source": [
    "## Summarize results"
   ]
  },
  {
   "cell_type": "code",
   "execution_count": 11,
   "id": "c7854307",
   "metadata": {
    "execution": {
     "iopub.execute_input": "2021-12-03T21:28:24.634619Z",
     "iopub.status.busy": "2021-12-03T21:28:24.631448Z",
     "iopub.status.idle": "2021-12-03T21:28:24.646580Z",
     "shell.execute_reply": "2021-12-03T21:28:24.645478Z"
    },
    "papermill": {
     "duration": 0.104371,
     "end_time": "2021-12-03T21:28:24.646791",
     "exception": false,
     "start_time": "2021-12-03T21:28:24.542420",
     "status": "completed"
    },
    "scrolled": true,
    "tags": []
   },
   "outputs": [],
   "source": [
    "# all.names.sig <- c()\n",
    "# DefaultAssay(se) <- \"chromvarnames\"\n",
    "# for (d in 0:(n_donors-1)){\n",
    "#     print('donor')\n",
    "#     print(d)\n",
    "#     curr.indir <- file.path(indir, paste0(\"donor\", d, \"_TF\"))\n",
    "#     #curr.outdir <- file.path(outdir, paste0(\"donor\", d, \"_TF\"))\n",
    "#     #dir.create(curr.outdir)\n",
    "#     donor.large.clones <- large.clones %>% filter(donor==d)\n",
    "#     clones.filt.ids <- sort(donor.large.clones$lineage)\n",
    "#     se.filt <- subset(se, subset = (donor==d) & (lineage %in% donor.large.clones$lineage))\n",
    "#     if (length(clones.filt.ids) < 2){\n",
    "#         print(\"0 or 1 clone found. not running\")\n",
    "#         next\n",
    "#     }\n",
    "#     pairs = combn(clones.filt.ids,2)\n",
    "#     names.sig <- c()\n",
    "\n",
    "#     for (i in 1:dim(pairs)[2]){\n",
    "#         print(pairs[,i])\n",
    "#         print(paste(\"comparison #\", i))\n",
    "#         a = pairs[1,i]\n",
    "#         b = pairs[2,i]\n",
    "#         curr.tf.da <- read.csv(file.path(curr.indir, \n",
    "#                                          paste0(\"clones_\",a,\"__\", b,\".DE.TF.csv\"))) %>% \n",
    "#                       arrange(p_val)\n",
    "#         row.names(curr.tf.da) <- curr.tf.da$X  #sapply(curr.tf.da$X, function(m) {motifs@motif.names[[m]]})\n",
    "#         names.sig <- c(names.sig, head(row.names(curr.tf.da), n_top_genes))\n",
    "#         all.names.sig <- c(all.names.sig, head(row.names(curr.tf.da), n_top_genes))\n",
    "#         }\n",
    "#     names.sig <- unique(names.sig)\n",
    "    \n",
    "#     gally <- GGally::ggpairs(curr.tf.da[,c(\"p_val\", \"p_val_adj\")], aes(alpha = 0.4))\n",
    "# }\n"
   ]
  },
  {
   "cell_type": "code",
   "execution_count": 12,
   "id": "78949989",
   "metadata": {
    "execution": {
     "iopub.execute_input": "2021-12-03T21:28:24.825554Z",
     "iopub.status.busy": "2021-12-03T21:28:24.821463Z",
     "iopub.status.idle": "2021-12-03T21:29:33.580672Z",
     "shell.execute_reply": "2021-12-03T21:29:33.579747Z"
    },
    "papermill": {
     "duration": 68.84733,
     "end_time": "2021-12-03T21:29:33.580915",
     "exception": false,
     "start_time": "2021-12-03T21:28:24.733585",
     "status": "completed"
    },
    "scrolled": true,
    "tags": []
   },
   "outputs": [
    {
     "name": "stdout",
     "output_type": "stream",
     "text": [
      "[1] \"donor\"\n",
      "[1] 0\n"
     ]
    },
    {
     "name": "stderr",
     "output_type": "stream",
     "text": [
      "Warning message in dir.create(curr.outdir):\n",
      "“'/data/Mito_Trace/output/pipeline/cd34norm/MTblacklist/data/merged/MT/cellr_True/numread_200/filters/minC10_minR50_topN0_hetT0.001_hetC10_hetCount5_bq20/mgatk/vireoIn/clones/variants_simple/vireo/nclones20/annotation_clones/DE_large/minPct_0.01__logThresh_0/cdf_thresh__0.3/donor0_TF' already exists”\n"
     ]
    },
    {
     "name": "stdout",
     "output_type": "stream",
     "text": [
      "[1] 16 17\n",
      "[1] \"comparison # 1\"\n",
      "            X        p_val  avg_diff pct.1 pct.2   p_val_adj p_val_adj_BH\n",
      "1        KLF3 5.200615e-06 0.7348441 0.537 0.247 0.003291989  0.003291989\n",
      "2       ZBTB6 1.452699e-05 0.5966839 0.684 0.397 0.009195585  0.003754015\n",
      "3        KLF6 1.779154e-05 0.7320658 0.589 0.288 0.011262046  0.003754015\n",
      "4         MAF 4.698149e-05 0.6888013 0.632 0.329 0.029739283  0.007434821\n",
      "5 RARB(var.3) 9.853659e-05 0.6046655 0.600 0.397 0.062373661  0.012474732\n",
      "6       KLF10 1.615716e-04 0.5531102 0.621 0.329 0.102274821  0.014990127\n"
     ]
    },
    {
     "name": "stderr",
     "output_type": "stream",
     "text": [
      "Registered S3 method overwritten by 'GGally':\n",
      "  method from   \n",
      "  +.gg   ggplot2\n",
      "\n"
     ]
    },
    {
     "name": "stderr",
     "output_type": "stream",
     "text": [
      "Saving 6.67 x 6.67 in image\n",
      "\n"
     ]
    },
    {
     "name": "stderr",
     "output_type": "stream",
     "text": [
      "Warning message:\n",
      "“`guides(<scale> = FALSE)` is deprecated. Please use `guides(<scale> = \"none\")` instead.”\n"
     ]
    },
    {
     "name": "stderr",
     "output_type": "stream",
     "text": [
      "Saving 6.67 x 6.67 in image\n",
      "\n"
     ]
    },
    {
     "name": "stdout",
     "output_type": "stream",
     "text": [
      "[1] 16 19\n",
      "[1] \"comparison # 2\"\n",
      "      X        p_val   avg_diff pct.1 pct.2  p_val_adj p_val_adj_BH\n",
      "1 ZBTB6 3.312182e-05  0.5182015 0.684 0.388 0.02096611   0.02096611\n",
      "2   SP1 1.151453e-04  0.4862495 0.611 0.414 0.07288698   0.03644349\n",
      "3  TFE3 4.724933e-04  0.4808557 0.558 0.328 0.29908825   0.09969608\n",
      "4 PROP1 3.299579e-03  0.3843456 0.589 0.440 1.00000000   0.33390426\n",
      "5  OSR1 3.323782e-03  0.4282751 0.579 0.414 1.00000000   0.33390426\n",
      "6  JDP2 3.870892e-03 -0.6139841 0.347 0.500 1.00000000   0.33390426\n"
     ]
    },
    {
     "name": "stderr",
     "output_type": "stream",
     "text": [
      "Saving 6.67 x 6.67 in image\n",
      "\n"
     ]
    },
    {
     "name": "stderr",
     "output_type": "stream",
     "text": [
      "Warning message:\n",
      "“`guides(<scale> = FALSE)` is deprecated. Please use `guides(<scale> = \"none\")` instead.”\n"
     ]
    },
    {
     "name": "stderr",
     "output_type": "stream",
     "text": [
      "Saving 6.67 x 6.67 in image\n",
      "\n"
     ]
    },
    {
     "name": "stdout",
     "output_type": "stream",
     "text": [
      "[1] 17 19\n",
      "[1] \"comparison # 3\"\n",
      "            X        p_val   avg_diff pct.1 pct.2    p_val_adj p_val_adj_BH\n",
      "1        MAFK 1.385624e-06 -0.8847575 0.247 0.526 0.0008771002 0.0004928844\n",
      "2  FOSB::JUNB 2.083714e-06 -1.3971638 0.247 0.491 0.0013189909 0.0004928844\n",
      "3 FOSL2::JUNB 3.282902e-06 -1.3805025 0.205 0.483 0.0020780768 0.0004928844\n",
      "4       FOSL2 3.897522e-06 -1.4840172 0.247 0.517 0.0024671312 0.0004928844\n",
      "5       BACH1 5.063165e-06 -1.0449934 0.247 0.526 0.0032049833 0.0004928844\n",
      "6         FOS 5.264529e-06 -1.4214973 0.260 0.517 0.0033324472 0.0004928844\n"
     ]
    },
    {
     "name": "stderr",
     "output_type": "stream",
     "text": [
      "Saving 6.67 x 6.67 in image\n",
      "\n"
     ]
    },
    {
     "name": "stderr",
     "output_type": "stream",
     "text": [
      "Warning message:\n",
      "“`guides(<scale> = FALSE)` is deprecated. Please use `guides(<scale> = \"none\")` instead.”\n"
     ]
    },
    {
     "name": "stderr",
     "output_type": "stream",
     "text": [
      "Saving 6.67 x 6.67 in image\n",
      "\n"
     ]
    },
    {
     "name": "stderr",
     "output_type": "stream",
     "text": [
      "'magick' package is suggested to install to give better rasterization.\n",
      "\n",
      "Set `ht_opt$message = FALSE` to turn off this message.\n",
      "\n"
     ]
    },
    {
     "name": "stderr",
     "output_type": "stream",
     "text": [
      "Saving 6.67 x 6.67 in image\n",
      "\n"
     ]
    },
    {
     "name": "stderr",
     "output_type": "stream",
     "text": [
      "Saving 6.67 x 6.67 in image\n",
      "\n"
     ]
    },
    {
     "name": "stderr",
     "output_type": "stream",
     "text": [
      "Saving 6.67 x 6.67 in image\n",
      "\n"
     ]
    },
    {
     "name": "stdout",
     "output_type": "stream",
     "text": [
      "[1] \"donor\"\n",
      "[1] 1\n"
     ]
    },
    {
     "name": "stderr",
     "output_type": "stream",
     "text": [
      "Warning message in dir.create(curr.outdir):\n",
      "“'/data/Mito_Trace/output/pipeline/cd34norm/MTblacklist/data/merged/MT/cellr_True/numread_200/filters/minC10_minR50_topN0_hetT0.001_hetC10_hetCount5_bq20/mgatk/vireoIn/clones/variants_simple/vireo/nclones20/annotation_clones/DE_large/minPct_0.01__logThresh_0/cdf_thresh__0.3/donor1_TF' already exists”\n"
     ]
    },
    {
     "name": "stdout",
     "output_type": "stream",
     "text": [
      "[1]  3 10\n",
      "[1] \"comparison # 1\"\n",
      "       X       p_val   avg_diff pct.1 pct.2 p_val_adj p_val_adj_BH\n",
      "1  SPDEF 0.002165140 -0.4366922 0.375 0.559         1     0.748074\n",
      "2   MYF5 0.004378962 -0.3789006 0.333 0.586         1     0.748074\n",
      "3    SP3 0.007792036 -0.3104640 0.264 0.495         1     0.748074\n",
      "4   KLF6 0.008916356 -0.3830102 0.306 0.486         1     0.748074\n",
      "5 ZBTB26 0.012485293 -0.3666975 0.403 0.550         1     0.748074\n",
      "6 TFAP2C 0.014647051 -0.3112421 0.389 0.459         1     0.748074\n"
     ]
    },
    {
     "name": "stderr",
     "output_type": "stream",
     "text": [
      "Saving 6.67 x 6.67 in image\n",
      "\n"
     ]
    },
    {
     "name": "stderr",
     "output_type": "stream",
     "text": [
      "Warning message in cor(x, y):\n",
      "“the standard deviation is zero”\n"
     ]
    },
    {
     "name": "stderr",
     "output_type": "stream",
     "text": [
      "Warning message in cor(x, y):\n",
      "“the standard deviation is zero”\n"
     ]
    },
    {
     "name": "stderr",
     "output_type": "stream",
     "text": [
      "Warning message:\n",
      "“`guides(<scale> = FALSE)` is deprecated. Please use `guides(<scale> = \"none\")` instead.”\n"
     ]
    },
    {
     "name": "stderr",
     "output_type": "stream",
     "text": [
      "Saving 6.67 x 6.67 in image\n",
      "\n"
     ]
    },
    {
     "name": "stdout",
     "output_type": "stream",
     "text": [
      "[1]  3 17\n",
      "[1] \"comparison # 2\"\n",
      "            X       p_val   avg_diff pct.1 pct.2 p_val_adj p_val_adj_BH\n",
      "1        MYF5 0.008768882 -0.3814926 0.333 0.550         1    0.8933692\n",
      "2       MEF2B 0.010840010 -0.4483480 0.333 0.567         1    0.8933692\n",
      "3        KLF6 0.014033175 -0.3702648 0.306 0.417         1    0.8933692\n",
      "4       NR1D1 0.014951046 -0.4067903 0.375 0.600         1    0.8933692\n",
      "5        MAFK 0.016529827 -0.3831279 0.347 0.500         1    0.8933692\n",
      "6 MZF1(var.2) 0.020131873  0.3152325 0.486 0.300         1    0.8933692\n"
     ]
    },
    {
     "name": "stderr",
     "output_type": "stream",
     "text": [
      "Saving 6.67 x 6.67 in image\n",
      "\n"
     ]
    },
    {
     "name": "stderr",
     "output_type": "stream",
     "text": [
      "Warning message in cor(x, y):\n",
      "“the standard deviation is zero”\n"
     ]
    },
    {
     "name": "stderr",
     "output_type": "stream",
     "text": [
      "Warning message in cor(x, y):\n",
      "“the standard deviation is zero”\n"
     ]
    },
    {
     "name": "stderr",
     "output_type": "stream",
     "text": [
      "Warning message:\n",
      "“`guides(<scale> = FALSE)` is deprecated. Please use `guides(<scale> = \"none\")` instead.”\n"
     ]
    },
    {
     "name": "stderr",
     "output_type": "stream",
     "text": [
      "Saving 6.67 x 6.67 in image\n",
      "\n"
     ]
    },
    {
     "name": "stdout",
     "output_type": "stream",
     "text": [
      "[1] 10 17\n",
      "[1] \"comparison # 3\"\n",
      "      X       p_val   avg_diff pct.1 pct.2 p_val_adj p_val_adj_BH\n",
      "1  FLI1 0.003868783  0.4164286 0.568 0.317         1    0.8728152\n",
      "2  IRF6 0.004988861 -0.4508403 0.387 0.550         1    0.8728152\n",
      "3 ATOH7 0.005404846 -0.3856702 0.378 0.533         1    0.8728152\n",
      "4  ETS1 0.006147967  0.4722383 0.586 0.450         1    0.8728152\n",
      "5   ERG 0.009393984  0.3860953 0.532 0.333         1    0.8728152\n",
      "6 ZFP42 0.010126480  0.4038391 0.523 0.367         1    0.8728152\n"
     ]
    },
    {
     "name": "stderr",
     "output_type": "stream",
     "text": [
      "Saving 6.67 x 6.67 in image\n",
      "\n"
     ]
    },
    {
     "name": "stderr",
     "output_type": "stream",
     "text": [
      "Warning message in cor(x, y):\n",
      "“the standard deviation is zero”\n"
     ]
    },
    {
     "name": "stderr",
     "output_type": "stream",
     "text": [
      "Warning message in cor(x, y):\n",
      "“the standard deviation is zero”\n"
     ]
    },
    {
     "name": "stderr",
     "output_type": "stream",
     "text": [
      "Warning message:\n",
      "“`guides(<scale> = FALSE)` is deprecated. Please use `guides(<scale> = \"none\")` instead.”\n"
     ]
    },
    {
     "name": "stderr",
     "output_type": "stream",
     "text": [
      "Saving 6.67 x 6.67 in image\n",
      "\n"
     ]
    },
    {
     "name": "stderr",
     "output_type": "stream",
     "text": [
      "'magick' package is suggested to install to give better rasterization.\n",
      "\n",
      "Set `ht_opt$message = FALSE` to turn off this message.\n",
      "\n"
     ]
    },
    {
     "name": "stderr",
     "output_type": "stream",
     "text": [
      "Saving 6.67 x 6.67 in image\n",
      "\n"
     ]
    },
    {
     "name": "stderr",
     "output_type": "stream",
     "text": [
      "Saving 6.67 x 6.67 in image\n",
      "\n"
     ]
    },
    {
     "name": "stderr",
     "output_type": "stream",
     "text": [
      "Saving 6.67 x 6.67 in image\n",
      "\n"
     ]
    },
    {
     "name": "stdout",
     "output_type": "stream",
     "text": [
      "[1] \"donor\"\n",
      "[1] 2\n"
     ]
    },
    {
     "name": "stderr",
     "output_type": "stream",
     "text": [
      "Warning message in dir.create(curr.outdir):\n",
      "“'/data/Mito_Trace/output/pipeline/cd34norm/MTblacklist/data/merged/MT/cellr_True/numread_200/filters/minC10_minR50_topN0_hetT0.001_hetC10_hetCount5_bq20/mgatk/vireoIn/clones/variants_simple/vireo/nclones20/annotation_clones/DE_large/minPct_0.01__logThresh_0/cdf_thresh__0.3/donor2_TF' already exists”\n"
     ]
    },
    {
     "name": "stdout",
     "output_type": "stream",
     "text": [
      "[1]  2 10\n",
      "[1] \"comparison # 1\"\n",
      "      X        p_val   avg_diff pct.1 pct.2 p_val_adj p_val_adj_BH\n",
      "1  TBX6 0.0004446233  0.5588168 0.445 0.177 0.2814465    0.2814465\n",
      "2 NR1D2 0.0012055828  0.4969084 0.493 0.306 0.7631339    0.3815670\n",
      "3  SOX9 0.0024575568 -0.4505186 0.384 0.597 1.0000000    0.4392575\n",
      "4 HINFP 0.0029238736  0.4877435 0.719 0.548 1.0000000    0.4392575\n",
      "5  TBX3 0.0034696484  0.4646765 0.418 0.226 1.0000000    0.4392575\n",
      "6  TBR1 0.0054495385  0.4203605 0.521 0.371 1.0000000    0.5749263\n"
     ]
    },
    {
     "name": "stderr",
     "output_type": "stream",
     "text": [
      "Saving 6.67 x 6.67 in image\n",
      "\n"
     ]
    },
    {
     "name": "stderr",
     "output_type": "stream",
     "text": [
      "Warning message:\n",
      "“`guides(<scale> = FALSE)` is deprecated. Please use `guides(<scale> = \"none\")` instead.”\n"
     ]
    },
    {
     "name": "stderr",
     "output_type": "stream",
     "text": [
      "Saving 6.67 x 6.67 in image\n",
      "\n"
     ]
    },
    {
     "name": "stdout",
     "output_type": "stream",
     "text": [
      "[1]  2 19\n",
      "[1] \"comparison # 2\"\n",
      "           X        p_val   avg_diff pct.1 pct.2 p_val_adj p_val_adj_BH\n",
      "1       ELF1 0.0004131032 -0.5094148 0.151 0.347 0.2614943    0.2238654\n",
      "2       ETV1 0.0007843280 -0.5863357 0.240 0.387 0.4964796    0.2238654\n",
      "3 EWSR1-FLI1 0.0010609733 -0.3142335 0.260 0.493 0.6715961    0.2238654\n",
      "4       SPIB 0.0026364807 -0.5970783 0.116 0.107 1.0000000    0.4042352\n",
      "5      HINFP 0.0035693864  0.4411400 0.719 0.560 1.0000000    0.4042352\n",
      "6      GABPA 0.0038589801 -0.5030174 0.219 0.360 1.0000000    0.4042352\n"
     ]
    },
    {
     "name": "stderr",
     "output_type": "stream",
     "text": [
      "Saving 6.67 x 6.67 in image\n",
      "\n"
     ]
    },
    {
     "name": "stderr",
     "output_type": "stream",
     "text": [
      "Warning message:\n",
      "“`guides(<scale> = FALSE)` is deprecated. Please use `guides(<scale> = \"none\")` instead.”\n"
     ]
    },
    {
     "name": "stderr",
     "output_type": "stream",
     "text": [
      "Saving 6.67 x 6.67 in image\n",
      "\n"
     ]
    },
    {
     "name": "stdout",
     "output_type": "stream",
     "text": [
      "[1] 10 19\n",
      "[1] \"comparison # 3\"\n",
      "      X        p_val   avg_diff pct.1 pct.2 p_val_adj p_val_adj_BH\n",
      "1  TBX6 0.0009318982 -0.5258490 0.177 0.387 0.5898916    0.5898916\n",
      "2  TBX3 0.0034877125 -0.4683749 0.226 0.440 1.0000000    0.6185191\n",
      "3 CEBPE 0.0040587977 -0.7155695 0.177 0.453 1.0000000    0.6185191\n",
      "4 CEBPG 0.0043454183 -0.7135663 0.145 0.360 1.0000000    0.6185191\n",
      "5  ETS1 0.0056845050 -0.4422344 0.339 0.587 1.0000000    0.6185191\n",
      "6 CEBPA 0.0076763142 -0.7400251 0.194 0.413 1.0000000    0.6185191\n"
     ]
    },
    {
     "name": "stderr",
     "output_type": "stream",
     "text": [
      "Saving 6.67 x 6.67 in image\n",
      "\n"
     ]
    },
    {
     "name": "stderr",
     "output_type": "stream",
     "text": [
      "Warning message:\n",
      "“`guides(<scale> = FALSE)` is deprecated. Please use `guides(<scale> = \"none\")` instead.”\n"
     ]
    },
    {
     "name": "stderr",
     "output_type": "stream",
     "text": [
      "Saving 6.67 x 6.67 in image\n",
      "\n"
     ]
    },
    {
     "name": "stderr",
     "output_type": "stream",
     "text": [
      "'magick' package is suggested to install to give better rasterization.\n",
      "\n",
      "Set `ht_opt$message = FALSE` to turn off this message.\n",
      "\n"
     ]
    },
    {
     "name": "stderr",
     "output_type": "stream",
     "text": [
      "Saving 6.67 x 6.67 in image\n",
      "\n"
     ]
    },
    {
     "name": "stderr",
     "output_type": "stream",
     "text": [
      "Saving 6.67 x 6.67 in image\n",
      "\n"
     ]
    },
    {
     "name": "stderr",
     "output_type": "stream",
     "text": [
      "Saving 6.67 x 6.67 in image\n",
      "\n"
     ]
    },
    {
     "name": "stdout",
     "output_type": "stream",
     "text": [
      "[1] \"donor\"\n",
      "[1] 3\n"
     ]
    },
    {
     "name": "stderr",
     "output_type": "stream",
     "text": [
      "Warning message in dir.create(curr.outdir):\n",
      "“'/data/Mito_Trace/output/pipeline/cd34norm/MTblacklist/data/merged/MT/cellr_True/numread_200/filters/minC10_minR50_topN0_hetT0.001_hetC10_hetCount5_bq20/mgatk/vireoIn/clones/variants_simple/vireo/nclones20/annotation_clones/DE_large/minPct_0.01__logThresh_0/cdf_thresh__0.3/donor3_TF' already exists”\n"
     ]
    },
    {
     "name": "stdout",
     "output_type": "stream",
     "text": [
      "[1] 3 7\n",
      "[1] \"comparison # 1\"\n",
      "       X        p_val  avg_diff pct.1 pct.2  p_val_adj p_val_adj_BH\n",
      "1  LMX1A 0.0001211204 0.6071146 0.610 0.387 0.07666922   0.07666922\n",
      "2 NKX6-1 0.0008757094 0.4655427 0.476 0.333 0.55432403   0.13858101\n",
      "3 NKX6-2 0.0008757094 0.4655427 0.476 0.333 0.55432403   0.13858101\n",
      "4   LHX5 0.0008757094 0.4655427 0.476 0.333 0.55432403   0.13858101\n",
      "5  HOXC8 0.0020338480 0.4319604 0.549 0.369 1.00000000   0.18875140\n",
      "6   VAX1 0.0026836692 0.4111082 0.463 0.369 1.00000000   0.18875140\n"
     ]
    },
    {
     "name": "stderr",
     "output_type": "stream",
     "text": [
      "Saving 6.67 x 6.67 in image\n",
      "\n"
     ]
    },
    {
     "name": "stderr",
     "output_type": "stream",
     "text": [
      "Warning message:\n",
      "“`guides(<scale> = FALSE)` is deprecated. Please use `guides(<scale> = \"none\")` instead.”\n"
     ]
    },
    {
     "name": "stderr",
     "output_type": "stream",
     "text": [
      "Saving 6.67 x 6.67 in image\n",
      "\n"
     ]
    },
    {
     "name": "stdout",
     "output_type": "stream",
     "text": [
      "[1]  3 15\n",
      "[1] \"comparison # 2\"\n",
      "              X       p_val   avg_diff pct.1 pct.2 p_val_adj p_val_adj_BH\n",
      "1   RXRG(var.2) 0.001888003 -0.4171194 0.341 0.576         1    0.4601575\n",
      "2         FOXC2 0.002205877  0.4130165 0.549 0.364         1    0.4601575\n",
      "3         MYOD1 0.002918940  0.4252138 0.585 0.379         1    0.4601575\n",
      "4          MYF6 0.004495376  0.4942065 0.585 0.379         1    0.4601575\n",
      "5 TFAP2C(var.3) 0.004550055  0.3938264 0.524 0.364         1    0.4601575\n",
      "6 TFAP2A(var.3) 0.004661224  0.3922717 0.524 0.288         1    0.4601575\n"
     ]
    },
    {
     "name": "stderr",
     "output_type": "stream",
     "text": [
      "Saving 6.67 x 6.67 in image\n",
      "\n"
     ]
    },
    {
     "name": "stderr",
     "output_type": "stream",
     "text": [
      "Warning message in cor(x, y):\n",
      "“the standard deviation is zero”\n"
     ]
    },
    {
     "name": "stderr",
     "output_type": "stream",
     "text": [
      "Warning message in cor(x, y):\n",
      "“the standard deviation is zero”\n"
     ]
    },
    {
     "name": "stderr",
     "output_type": "stream",
     "text": [
      "Warning message:\n",
      "“`guides(<scale> = FALSE)` is deprecated. Please use `guides(<scale> = \"none\")` instead.”\n"
     ]
    },
    {
     "name": "stderr",
     "output_type": "stream",
     "text": [
      "Saving 6.67 x 6.67 in image\n",
      "\n"
     ]
    },
    {
     "name": "stdout",
     "output_type": "stream",
     "text": [
      "[1]  7 15\n",
      "[1] \"comparison # 3\"\n",
      "              X       p_val   avg_diff pct.1 pct.2 p_val_adj p_val_adj_BH\n",
      "1 TFAP2A(var.3) 0.001682501  0.4099752 0.541 0.288         1    0.2613156\n",
      "2          GBX1 0.002478629 -0.3544413 0.405 0.591         1    0.2613156\n",
      "3           REL 0.002658397  0.4293550 0.459 0.258         1    0.2613156\n",
      "4         NR1H4 0.002907026  0.4569029 0.523 0.394         1    0.2613156\n",
      "5          NFYC 0.003303731 -0.3864457 0.432 0.591         1    0.2613156\n",
      "6 TFAP2C(var.3) 0.003641778  0.4030146 0.486 0.364         1    0.2613156\n"
     ]
    },
    {
     "name": "stderr",
     "output_type": "stream",
     "text": [
      "Saving 6.67 x 6.67 in image\n",
      "\n"
     ]
    },
    {
     "name": "stderr",
     "output_type": "stream",
     "text": [
      "Warning message in cor(x, y):\n",
      "“the standard deviation is zero”\n"
     ]
    },
    {
     "name": "stderr",
     "output_type": "stream",
     "text": [
      "Warning message in cor(x, y):\n",
      "“the standard deviation is zero”\n"
     ]
    },
    {
     "name": "stderr",
     "output_type": "stream",
     "text": [
      "Warning message:\n",
      "“`guides(<scale> = FALSE)` is deprecated. Please use `guides(<scale> = \"none\")` instead.”\n"
     ]
    },
    {
     "name": "stderr",
     "output_type": "stream",
     "text": [
      "Saving 6.67 x 6.67 in image\n",
      "\n"
     ]
    },
    {
     "name": "stderr",
     "output_type": "stream",
     "text": [
      "'magick' package is suggested to install to give better rasterization.\n",
      "\n",
      "Set `ht_opt$message = FALSE` to turn off this message.\n",
      "\n"
     ]
    },
    {
     "name": "stderr",
     "output_type": "stream",
     "text": [
      "Saving 6.67 x 6.67 in image\n",
      "\n"
     ]
    },
    {
     "name": "stderr",
     "output_type": "stream",
     "text": [
      "Saving 6.67 x 6.67 in image\n",
      "\n"
     ]
    },
    {
     "name": "stderr",
     "output_type": "stream",
     "text": [
      "Saving 6.67 x 6.67 in image\n",
      "\n"
     ]
    }
   ],
   "source": [
    "all.names.sig <- c()\n",
    "DefaultAssay(se) <- \"chromvarnames\"\n",
    "for (d in 0:(n_donors-1)){\n",
    "    print('donor')\n",
    "    print(d)\n",
    "    curr.indir <- file.path(indir, paste0(\"donor\", d, \"_TF\"))\n",
    "    curr.outdir <- file.path(outdir, paste0(\"donor\", d, \"_TF\"))\n",
    "    dir.create(curr.outdir)\n",
    "    donor.large.clones <- large.clones %>% filter(donor==d)\n",
    "    if (dim(donor.large.clones)[1] < 2){\n",
    "        print('no donor')\n",
    "        next\n",
    "    }\n",
    "    clones.filt.ids <- sort(donor.large.clones$lineage)\n",
    "    se.filt <- subset(se, subset = (donor==d) & (lineage %in% donor.large.clones$lineage))\n",
    "    if (length(clones.filt.ids) < 2){\n",
    "        print(\"0 or 1 clone found. not running\")\n",
    "        next\n",
    "    }\n",
    "    pairs = combn(clones.filt.ids,2)\n",
    "    names.sig <- c()\n",
    "\n",
    "    for (i in 1:dim(pairs)[2]){\n",
    "        print(pairs[,i])\n",
    "        print(paste(\"comparison #\", i))\n",
    "        a = pairs[1,i]\n",
    "        b = pairs[2,i]\n",
    "        curr.tf.da <- read.csv(file.path(curr.indir, \n",
    "                                         paste0(\"clones_\",a,\"__\", b,\".DE.TF.csv\"))) %>% \n",
    "                      arrange(p_val)\n",
    "        print(head(curr.tf.da))\n",
    "        row.names(curr.tf.da) <- curr.tf.da$X  #sapply(curr.tf.da$X, function(m) {motifs@motif.names[[m]]})\n",
    "        #curr.tf.da\n",
    "        names.sig <- c(names.sig, head(row.names(curr.tf.da), n_top_genes))\n",
    "        all.names.sig <- c(all.names.sig, head(row.names(curr.tf.da), n_top_genes))\n",
    "        gally <- GGally::ggpairs(curr.tf.da[,c(\"p_val\", \"p_val_adj\", \"avg_diff\")], aes(alpha = 0.4))\n",
    "        ggsave(plot=gally, \n",
    "                   file=file.path(curr.outdir, paste0(\"clones_\",a,\"__\", b,\".DE.TF.pvalHist.top.png\")))\n",
    "        DefaultAssay(se.filt) <- \"ATAC\"\n",
    "        raw.ids <- names(Motifs(se.filt)@motif.names)\n",
    "        rownames(curr.tf.da) <- sapply((curr.tf.da$X), function(x){raw.ids[match(x, Motifs(se.filt)@motif.names)]})\n",
    "        m <- MotifPlot(\n",
    "          object = se.filt,\n",
    "          motifs = head(rownames(curr.tf.da)),\n",
    "          assay = 'ATAC'\n",
    "        )\n",
    "        ggsave(plot=m, \n",
    "                   file=file.path(curr.outdir, paste0(\"clones_\",a,\"__\", b,\".DE.TF.motif.top.png\")))\n",
    "\n",
    "\n",
    "        }\n",
    "    DefaultAssay(se.filt) <- \"chromvarnames\"\n",
    "    names.sig <- unique(names.sig)\n",
    "    \n",
    "\n",
    "    feat <- FeaturePlot(se.filt,  features=names.sig)\n",
    "\n",
    "    vln <- VlnPlot(se.filt,  features=names.sig, pt.size = 0)\n",
    "\n",
    "    dot <- DotPlot(se.filt, features = names.sig) + RotatedAxis()\n",
    "\n",
    "    # split by a vector\n",
    "    pdf((file.path(curr.outdir, \"heatmap.top.pdf\")), width=8,height=8)\n",
    "    \n",
    "    heat <- ComplexHeatmap::Heatmap(GetAssayData(se.filt)[names.sig,], \n",
    "            name = paste0(\"donor\",d),\n",
    "            column_split = se.filt[[]][\"lineage\"],\n",
    "            show_column_names = FALSE, use_raster=TRUE\n",
    "           )\n",
    "    ComplexHeatmap::draw(heat)\n",
    "    dev.off()\n",
    "    \n",
    "    ggsave(plot=feat, \n",
    "           file=file.path(curr.outdir, (\"embedFeat.top.png\")))\n",
    "    ggsave(plot=dot, \n",
    "           file=file.path(curr.outdir, (\"dot.top.png\")))\n",
    "    ggsave(plot=vln, \n",
    "           file=file.path(curr.outdir, (\"violin.top.png\")))\n",
    "    }\n",
    "all.names.sig <- unique(all.names.sig)"
   ]
  },
  {
   "cell_type": "markdown",
   "id": "0bb45042",
   "metadata": {
    "papermill": {
     "duration": 0.156212,
     "end_time": "2021-12-03T21:29:33.919025",
     "exception": false,
     "start_time": "2021-12-03T21:29:33.762813",
     "status": "completed"
    },
    "tags": []
   },
   "source": [
    "## Dotplot for all donors"
   ]
  },
  {
   "cell_type": "code",
   "execution_count": 13,
   "id": "4219fb55",
   "metadata": {
    "execution": {
     "iopub.execute_input": "2021-12-03T21:29:34.226938Z",
     "iopub.status.busy": "2021-12-03T21:29:34.226067Z",
     "iopub.status.idle": "2021-12-03T21:29:34.638884Z",
     "shell.execute_reply": "2021-12-03T21:29:34.639967Z"
    },
    "papermill": {
     "duration": 0.570394,
     "end_time": "2021-12-03T21:29:34.640398",
     "exception": false,
     "start_time": "2021-12-03T21:29:34.070004",
     "status": "completed"
    },
    "tags": []
   },
   "outputs": [
    {
     "data": {
      "text/html": [
       "<strong>png:</strong> 2"
      ],
      "text/latex": [
       "\\textbf{png:} 2"
      ],
      "text/markdown": [
       "**png:** 2"
      ],
      "text/plain": [
       "png \n",
       "  2 "
      ]
     },
     "metadata": {},
     "output_type": "display_data"
    }
   ],
   "source": [
    "pdf(file = file.path(outdir, \"./dotplot.allDonors.top.pdf\"), width = 8, height = 8)\n",
    "dot <- DotPlot(se, features = all.names.sig, group.by=\"donor\") + RotatedAxis()\n",
    "dot\n",
    "dev.off()"
   ]
  },
  {
   "cell_type": "code",
   "execution_count": 14,
   "id": "337318ad",
   "metadata": {
    "execution": {
     "iopub.execute_input": "2021-12-03T21:29:35.099765Z",
     "iopub.status.busy": "2021-12-03T21:29:35.097623Z",
     "iopub.status.idle": "2021-12-03T21:29:35.454946Z",
     "shell.execute_reply": "2021-12-03T21:29:35.455853Z"
    },
    "papermill": {
     "duration": 0.577842,
     "end_time": "2021-12-03T21:29:35.456177",
     "exception": false,
     "start_time": "2021-12-03T21:29:34.878335",
     "status": "completed"
    },
    "tags": []
   },
   "outputs": [
    {
     "data": {
      "text/html": [
       "<strong>png:</strong> 2"
      ],
      "text/latex": [
       "\\textbf{png:} 2"
      ],
      "text/markdown": [
       "**png:** 2"
      ],
      "text/plain": [
       "png \n",
       "  2 "
      ]
     },
     "metadata": {},
     "output_type": "display_data"
    }
   ],
   "source": [
    "pdf(file = file.path(outdir, \"./dotplot.allDonors.clones.top.pdf\"), width = 8, height = 8)\n",
    "dot <- DotPlot(se, features = all.names.sig, group.by=\"name\", cluster.idents=T) + RotatedAxis()\n",
    "dot\n",
    "dev.off()"
   ]
  },
  {
   "cell_type": "markdown",
   "id": "b78aba1f",
   "metadata": {
    "papermill": {
     "duration": 0.147573,
     "end_time": "2021-12-03T21:29:35.758702",
     "exception": false,
     "start_time": "2021-12-03T21:29:35.611129",
     "status": "completed"
    },
    "tags": []
   },
   "source": [
    "## Heatmap for all donors"
   ]
  },
  {
   "cell_type": "code",
   "execution_count": 15,
   "id": "ca052607",
   "metadata": {
    "execution": {
     "iopub.execute_input": "2021-12-03T21:29:36.067947Z",
     "iopub.status.busy": "2021-12-03T21:29:36.065058Z",
     "iopub.status.idle": "2021-12-03T21:29:38.007391Z",
     "shell.execute_reply": "2021-12-03T21:29:38.008341Z"
    },
    "papermill": {
     "duration": 2.099653,
     "end_time": "2021-12-03T21:29:38.008637",
     "exception": false,
     "start_time": "2021-12-03T21:29:35.908984",
     "status": "completed"
    },
    "scrolled": false,
    "tags": []
   },
   "outputs": [
    {
     "data": {
      "text/html": [
       "<strong>png:</strong> 2"
      ],
      "text/latex": [
       "\\textbf{png:} 2"
      ],
      "text/markdown": [
       "**png:** 2"
      ],
      "text/plain": [
       "png \n",
       "  2 "
      ]
     },
     "metadata": {},
     "output_type": "display_data"
    }
   ],
   "source": [
    "pdf((file.path(outdir, \"heatmap.allDonors.top.pdf\")), width=8,height=8)\n",
    "heat <- ComplexHeatmap::Heatmap(GetAssayData(se)[names.sig,], \n",
    "        top_annotation = HeatmapAnnotation(donor=as.character(se$donor)),\n",
    "        show_column_names = FALSE, \n",
    "        column_split = se[[\"name\"]],\n",
    "       )\n",
    "\n",
    "ComplexHeatmap::draw(heat)\n",
    "dev.off()"
   ]
  },
  {
   "cell_type": "code",
   "execution_count": 16,
   "id": "ffb06010",
   "metadata": {
    "execution": {
     "iopub.execute_input": "2021-12-03T21:29:38.354277Z",
     "iopub.status.busy": "2021-12-03T21:29:38.351094Z",
     "iopub.status.idle": "2021-12-03T21:29:38.364541Z",
     "shell.execute_reply": "2021-12-03T21:29:38.363569Z"
    },
    "papermill": {
     "duration": 0.174701,
     "end_time": "2021-12-03T21:29:38.364750",
     "exception": false,
     "start_time": "2021-12-03T21:29:38.190049",
     "status": "completed"
    },
    "scrolled": false,
    "tags": []
   },
   "outputs": [],
   "source": [
    "# pdf((file.path(outdir, \"heatmap.allDonors.anno.top.pdf\")), width=8,height=8)\n",
    "# heat <- ComplexHeatmap::Heatmap(GetAssayData(se)[all.names.sig,], \n",
    "#         top_annotation = HeatmapAnnotation(donor=as.character(se$donor), clone=as.character(se$lineage), \n",
    "#                                            depth=anno_barplot(log10(se$peak_region_fragments))),\n",
    "#         show_column_names = FALSE\n",
    "#        )\n",
    "\n",
    "# ComplexHeatmap::draw(heat)\n",
    "# dev.off()"
   ]
  },
  {
   "cell_type": "code",
   "execution_count": 17,
   "id": "a8b61392",
   "metadata": {
    "execution": {
     "iopub.execute_input": "2021-12-03T21:29:38.684468Z",
     "iopub.status.busy": "2021-12-03T21:29:38.682729Z",
     "iopub.status.idle": "2021-12-03T21:29:40.763704Z",
     "shell.execute_reply": "2021-12-03T21:29:40.764690Z"
    },
    "papermill": {
     "duration": 2.243422,
     "end_time": "2021-12-03T21:29:40.765071",
     "exception": false,
     "start_time": "2021-12-03T21:29:38.521649",
     "status": "completed"
    },
    "tags": []
   },
   "outputs": [
    {
     "name": "stderr",
     "output_type": "stream",
     "text": [
      "The automatically generated colors map from the minus and plus 99^th of\n",
      "the absolute values in the matrix. There are outliers in the matrix\n",
      "whose patterns might be hidden by this color mapping. You can manually\n",
      "set the color to `col` argument.\n",
      "\n",
      "Use `suppressMessages()` to turn off this message.\n",
      "\n"
     ]
    },
    {
     "data": {
      "text/html": [
       "<strong>png:</strong> 2"
      ],
      "text/latex": [
       "\\textbf{png:} 2"
      ],
      "text/markdown": [
       "**png:** 2"
      ],
      "text/plain": [
       "png \n",
       "  2 "
      ]
     },
     "metadata": {},
     "output_type": "display_data"
    }
   ],
   "source": [
    "pdf((file.path(outdir, \"heatmap.allDonors.split.top.pdf\")), width=8,height=8)\n",
    "heat <- ComplexHeatmap::Heatmap(GetAssayData(se)[all.names.sig,], \n",
    "        top_annotation = HeatmapAnnotation(donor=as.character(se$donor)),\n",
    "        show_column_names = FALSE, \n",
    "        column_split = se[[\"name\"]],\n",
    "       )\n",
    "\n",
    "ComplexHeatmap::draw(heat)\n",
    "dev.off()"
   ]
  },
  {
   "cell_type": "code",
   "execution_count": null,
   "id": "cdc2fbd4",
   "metadata": {
    "papermill": {
     "duration": 0.154036,
     "end_time": "2021-12-03T21:29:41.103405",
     "exception": false,
     "start_time": "2021-12-03T21:29:40.949369",
     "status": "completed"
    },
    "tags": []
   },
   "outputs": [],
   "source": []
  },
  {
   "cell_type": "code",
   "execution_count": null,
   "id": "2d955085",
   "metadata": {
    "papermill": {
     "duration": 0.154495,
     "end_time": "2021-12-03T21:29:41.412378",
     "exception": false,
     "start_time": "2021-12-03T21:29:41.257883",
     "status": "completed"
    },
    "tags": []
   },
   "outputs": [],
   "source": []
  }
 ],
 "metadata": {
  "celltoolbar": "Tags",
  "kernelspec": {
   "display_name": "R",
   "language": "R",
   "name": "ir"
  },
  "language_info": {
   "codemirror_mode": "r",
   "file_extension": ".r",
   "mimetype": "text/x-r-source",
   "name": "R",
   "pygments_lexer": "r",
   "version": "4.1.1"
  },
  "papermill": {
   "default_parameters": {},
   "duration": 118.474567,
   "end_time": "2021-12-03T21:29:41.881350",
   "environment_variables": {},
   "exception": null,
   "input_path": "/mnt/md0/isshamie/Projects/Mito_Trace/R_scripts/annotation_clones/DE_clones.TF.summaryPlot.ipynb",
   "output_path": "/data/Mito_Trace/output/pipeline/cd34norm/MTblacklist/data/merged/MT/cellr_True/numread_200/filters/minC10_minR50_topN0_hetT0.001_hetC10_hetCount5_bq20/mgatk/vireoIn/clones/variants_simple/vireo/nclones20/annotation_clones/DE_large/minPct_0.01__logThresh_0/cdf_thresh__0.3/output_Summary.ipynb",
   "parameters": {
    "cdf_thresh": 0.3,
    "indir": "/data/Mito_Trace/output/pipeline/cd34norm/MTblacklist/data/merged/MT/cellr_True/numread_200/filters/minC10_minR50_topN0_hetT0.001_hetC10_hetCount5_bq20/mgatk/vireoIn/clones/variants_simple/vireo/nclones20/annotation_clones/DE_large/minPct_0.01__logThresh_0",
    "n_donors": 4,
    "se_indir": "/data/Mito_Trace/output/pipeline/cd34norm/MTblacklist/data/merged/MT/cellr_True/numread_200/filters/minC10_minR50_topN0_hetT0.001_hetC10_hetCount5_bq20/mgatk/vireoIn/clones/variants_simple/vireo/nclones20/annotation_clones/DE_large"
   },
   "start_time": "2021-12-03T21:27:43.406783",
   "version": "2.3.3"
  }
 },
 "nbformat": 4,
 "nbformat_minor": 5
}