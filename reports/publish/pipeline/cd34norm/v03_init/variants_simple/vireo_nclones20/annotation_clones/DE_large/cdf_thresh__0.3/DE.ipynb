{
 "cells": [
  {
   "cell_type": "code",
   "execution_count": 1,
   "id": "4246cc89",
   "metadata": {
    "execution": {
     "iopub.execute_input": "2021-11-03T22:16:04.642497Z",
     "iopub.status.busy": "2021-11-03T22:16:04.637708Z",
     "iopub.status.idle": "2021-11-03T22:16:04.686779Z",
     "shell.execute_reply": "2021-11-03T22:16:04.685264Z"
    },
    "papermill": {
     "duration": 0.081306,
     "end_time": "2021-11-03T22:16:04.686945",
     "exception": false,
     "start_time": "2021-11-03T22:16:04.605639",
     "status": "completed"
    },
    "tags": [
     "parameters"
    ]
   },
   "outputs": [],
   "source": [
    "#indir = \"/data2/mito_lineage/output/annotation_clones/data/cd34norm/MTblacklist/DE_large\"\n",
    "indir = \"/data2/mito_lineage/output/pipeline/cd34norm/MTblacklist/data/merged/MT/cellr_True/numread_200/filters/minC10_minR50_topN0_hetT0.001_hetC10_hetCount5_bq20/mgatk/vireoIn/clones/variants_mgatkdonor/vireo/nclones20/enrichment/annotation_clones/DE_large\"\n",
    "n_donors = 4\n",
    "cdf_thresh = 0.3\n",
    "n_top_genes = 5\n",
    "n_top_clones = 3\n",
    "utils_script <- \"/data2/mito_lineage/R_scripts/seurat_utils.R\"\n"
   ]
  },
  {
   "cell_type": "code",
   "execution_count": 2,
   "id": "3f121ed2",
   "metadata": {
    "execution": {
     "iopub.execute_input": "2021-11-03T22:16:04.779621Z",
     "iopub.status.busy": "2021-11-03T22:16:04.735932Z",
     "iopub.status.idle": "2021-11-03T22:16:04.794927Z",
     "shell.execute_reply": "2021-11-03T22:16:04.793233Z"
    },
    "papermill": {
     "duration": 0.084346,
     "end_time": "2021-11-03T22:16:04.795073",
     "exception": false,
     "start_time": "2021-11-03T22:16:04.710727",
     "status": "completed"
    },
    "tags": [
     "injected-parameters"
    ]
   },
   "outputs": [],
   "source": [
    "# Parameters\n",
    "indir = \"/data2/mito_lineage/output/pipeline/cd34norm/MTblacklist/data/merged/MT/cellr_True/numread_200/filters/minC10_minR50_topN0_hetT0.001_hetC10_hetCount5_bq20/mgatk/vireoIn/clones/variants_simple/vireo/nclones20/enrichment/annotation_clones/DE_large\"\n",
    "n_donors = 4\n"
   ]
  },
  {
   "cell_type": "code",
   "execution_count": 3,
   "id": "7e3a4cb0",
   "metadata": {
    "execution": {
     "iopub.execute_input": "2021-11-03T22:16:04.846164Z",
     "iopub.status.busy": "2021-11-03T22:16:04.844013Z",
     "iopub.status.idle": "2021-11-03T22:16:12.850574Z",
     "shell.execute_reply": "2021-11-03T22:16:12.849045Z"
    },
    "papermill": {
     "duration": 8.032346,
     "end_time": "2021-11-03T22:16:12.850726",
     "exception": false,
     "start_time": "2021-11-03T22:16:04.818380",
     "status": "completed"
    },
    "tags": []
   },
   "outputs": [
    {
     "name": "stderr",
     "output_type": "stream",
     "text": [
      "Attaching SeuratObject\n",
      "\n"
     ]
    }
   ],
   "source": [
    "source(utils_script)"
   ]
  },
  {
   "cell_type": "code",
   "execution_count": 4,
   "id": "3657ef25",
   "metadata": {
    "execution": {
     "iopub.execute_input": "2021-11-03T22:16:12.906697Z",
     "iopub.status.busy": "2021-11-03T22:16:12.904499Z",
     "iopub.status.idle": "2021-11-03T22:16:12.924190Z",
     "shell.execute_reply": "2021-11-03T22:16:12.922545Z"
    },
    "papermill": {
     "duration": 0.045617,
     "end_time": "2021-11-03T22:16:12.924410",
     "exception": false,
     "start_time": "2021-11-03T22:16:12.878793",
     "status": "completed"
    },
    "tags": []
   },
   "outputs": [
    {
     "name": "stderr",
     "output_type": "stream",
     "text": [
      "Warning message in dir.create(outdir):\n",
      "“'/data2/mito_lineage/output/pipeline/cd34norm/MTblacklist/data/merged/MT/cellr_True/numread_200/filters/minC10_minR50_topN0_hetT0.001_hetC10_hetCount5_bq20/mgatk/vireoIn/clones/variants_simple/vireo/nclones20/enrichment/annotation_clones/DE_large/cdf_thresh__30' already exists”\n"
     ]
    }
   ],
   "source": [
    "outdir <- paste0(indir, \"/\", \"cdf_thresh__\", (100*cdf_thresh))\n",
    "dir.create(outdir)"
   ]
  },
  {
   "cell_type": "code",
   "execution_count": 5,
   "id": "5d9ca2e3",
   "metadata": {
    "execution": {
     "iopub.execute_input": "2021-11-03T22:16:12.977943Z",
     "iopub.status.busy": "2021-11-03T22:16:12.976507Z",
     "iopub.status.idle": "2021-11-03T22:16:20.910886Z",
     "shell.execute_reply": "2021-11-03T22:16:20.909604Z"
    },
    "papermill": {
     "duration": 7.960213,
     "end_time": "2021-11-03T22:16:20.911088",
     "exception": false,
     "start_time": "2021-11-03T22:16:12.950875",
     "status": "completed"
    },
    "scrolled": true,
    "tags": []
   },
   "outputs": [
    {
     "name": "stderr",
     "output_type": "stream",
     "text": [
      "\n",
      "Attaching package: ‘cowplot’\n",
      "\n",
      "\n"
     ]
    },
    {
     "name": "stderr",
     "output_type": "stream",
     "text": [
      "The following object is masked from ‘package:patchwork’:\n",
      "\n",
      "    align_plots\n",
      "\n",
      "\n"
     ]
    },
    {
     "name": "stderr",
     "output_type": "stream",
     "text": [
      "\n",
      "Attaching package: ‘dplyr’\n",
      "\n",
      "\n"
     ]
    },
    {
     "name": "stderr",
     "output_type": "stream",
     "text": [
      "The following objects are masked from ‘package:stats’:\n",
      "\n",
      "    filter, lag\n",
      "\n",
      "\n"
     ]
    },
    {
     "name": "stderr",
     "output_type": "stream",
     "text": [
      "The following objects are masked from ‘package:base’:\n",
      "\n",
      "    intersect, setdiff, setequal, union\n",
      "\n",
      "\n"
     ]
    },
    {
     "name": "stderr",
     "output_type": "stream",
     "text": [
      "Loading required package: grid\n",
      "\n"
     ]
    },
    {
     "name": "stderr",
     "output_type": "stream",
     "text": [
      "========================================\n",
      "ComplexHeatmap version 2.9.4\n",
      "Bioconductor page: http://bioconductor.org/packages/ComplexHeatmap/\n",
      "Github page: https://github.com/jokergoo/ComplexHeatmap\n",
      "Documentation: http://jokergoo.github.io/ComplexHeatmap-reference\n",
      "\n",
      "If you use it in published research, please cite:\n",
      "Gu, Z. Complex heatmaps reveal patterns and correlations in multidimensional \n",
      "  genomic data. Bioinformatics 2016.\n",
      "\n",
      "The new InteractiveComplexHeatmap package can directly export static \n",
      "complex heatmaps into an interactive Shiny app with zero effort. Have a try!\n",
      "\n",
      "This message can be suppressed by:\n",
      "  suppressPackageStartupMessages(library(ComplexHeatmap))\n",
      "========================================\n",
      "\n",
      "\n"
     ]
    },
    {
     "name": "stderr",
     "output_type": "stream",
     "text": [
      "\n",
      "\n"
     ]
    },
    {
     "name": "stderr",
     "output_type": "stream",
     "text": [
      "Loading required package: BSgenome\n",
      "\n"
     ]
    },
    {
     "name": "stderr",
     "output_type": "stream",
     "text": [
      "Loading required package: BiocGenerics\n",
      "\n"
     ]
    },
    {
     "name": "stderr",
     "output_type": "stream",
     "text": [
      "Loading required package: parallel\n",
      "\n"
     ]
    },
    {
     "name": "stderr",
     "output_type": "stream",
     "text": [
      "\n",
      "Attaching package: ‘BiocGenerics’\n",
      "\n",
      "\n"
     ]
    },
    {
     "name": "stderr",
     "output_type": "stream",
     "text": [
      "The following objects are masked from ‘package:parallel’:\n",
      "\n",
      "    clusterApply, clusterApplyLB, clusterCall, clusterEvalQ,\n",
      "    clusterExport, clusterMap, parApply, parCapply, parLapply,\n",
      "    parLapplyLB, parRapply, parSapply, parSapplyLB\n",
      "\n",
      "\n"
     ]
    },
    {
     "name": "stderr",
     "output_type": "stream",
     "text": [
      "The following objects are masked from ‘package:dplyr’:\n",
      "\n",
      "    combine, intersect, setdiff, union\n",
      "\n",
      "\n"
     ]
    },
    {
     "name": "stderr",
     "output_type": "stream",
     "text": [
      "The following objects are masked from ‘package:stats’:\n",
      "\n",
      "    IQR, mad, sd, var, xtabs\n",
      "\n",
      "\n"
     ]
    },
    {
     "name": "stderr",
     "output_type": "stream",
     "text": [
      "The following objects are masked from ‘package:base’:\n",
      "\n",
      "    anyDuplicated, append, as.data.frame, basename, cbind, colnames,\n",
      "    dirname, do.call, duplicated, eval, evalq, Filter, Find, get, grep,\n",
      "    grepl, intersect, is.unsorted, lapply, Map, mapply, match, mget,\n",
      "    order, paste, pmax, pmax.int, pmin, pmin.int, Position, rank,\n",
      "    rbind, Reduce, rownames, sapply, setdiff, sort, table, tapply,\n",
      "    union, unique, unsplit, which.max, which.min\n",
      "\n",
      "\n"
     ]
    },
    {
     "name": "stderr",
     "output_type": "stream",
     "text": [
      "Loading required package: S4Vectors\n",
      "\n"
     ]
    },
    {
     "name": "stderr",
     "output_type": "stream",
     "text": [
      "Loading required package: stats4\n",
      "\n"
     ]
    },
    {
     "name": "stderr",
     "output_type": "stream",
     "text": [
      "\n",
      "Attaching package: ‘S4Vectors’\n",
      "\n",
      "\n"
     ]
    },
    {
     "name": "stderr",
     "output_type": "stream",
     "text": [
      "The following object is masked from ‘package:future’:\n",
      "\n",
      "    values\n",
      "\n",
      "\n"
     ]
    },
    {
     "name": "stderr",
     "output_type": "stream",
     "text": [
      "The following objects are masked from ‘package:dplyr’:\n",
      "\n",
      "    first, rename\n",
      "\n",
      "\n"
     ]
    },
    {
     "name": "stderr",
     "output_type": "stream",
     "text": [
      "The following objects are masked from ‘package:base’:\n",
      "\n",
      "    expand.grid, I, unname\n",
      "\n",
      "\n"
     ]
    },
    {
     "name": "stderr",
     "output_type": "stream",
     "text": [
      "Loading required package: IRanges\n",
      "\n"
     ]
    },
    {
     "name": "stderr",
     "output_type": "stream",
     "text": [
      "\n",
      "Attaching package: ‘IRanges’\n",
      "\n",
      "\n"
     ]
    },
    {
     "name": "stderr",
     "output_type": "stream",
     "text": [
      "The following objects are masked from ‘package:dplyr’:\n",
      "\n",
      "    collapse, desc, slice\n",
      "\n",
      "\n"
     ]
    },
    {
     "name": "stderr",
     "output_type": "stream",
     "text": [
      "Loading required package: GenomeInfoDb\n",
      "\n"
     ]
    },
    {
     "name": "stderr",
     "output_type": "stream",
     "text": [
      "Loading required package: GenomicRanges\n",
      "\n"
     ]
    },
    {
     "name": "stderr",
     "output_type": "stream",
     "text": [
      "Loading required package: Biostrings\n",
      "\n"
     ]
    },
    {
     "name": "stderr",
     "output_type": "stream",
     "text": [
      "Loading required package: XVector\n",
      "\n"
     ]
    },
    {
     "name": "stderr",
     "output_type": "stream",
     "text": [
      "\n",
      "Attaching package: ‘Biostrings’\n",
      "\n",
      "\n"
     ]
    },
    {
     "name": "stderr",
     "output_type": "stream",
     "text": [
      "The following object is masked from ‘package:grid’:\n",
      "\n",
      "    pattern\n",
      "\n",
      "\n"
     ]
    },
    {
     "name": "stderr",
     "output_type": "stream",
     "text": [
      "The following object is masked from ‘package:base’:\n",
      "\n",
      "    strsplit\n",
      "\n",
      "\n"
     ]
    },
    {
     "name": "stderr",
     "output_type": "stream",
     "text": [
      "Loading required package: rtracklayer\n",
      "\n"
     ]
    }
   ],
   "source": [
    "library(Seurat)\n",
    "library(Signac)\n",
    "library(ggplot2)\n",
    "library(patchwork)\n",
    "set.seed(1234)\n",
    "library(magrittr)\n",
    "library(cowplot)\n",
    "library(metap)\n",
    "library(dplyr)\n",
    "library(future)\n",
    "library(\"ComplexHeatmap\")\n",
    "library(motifmatchr)\n",
    "library(JASPAR2020)\n",
    "library(TFBSTools)\n",
    "library(BSgenome.Hsapiens.UCSC.hg38)"
   ]
  },
  {
   "cell_type": "markdown",
   "id": "e8a7d7b5",
   "metadata": {
    "papermill": {
     "duration": 0.03261,
     "end_time": "2021-11-03T22:16:20.983823",
     "exception": false,
     "start_time": "2021-11-03T22:16:20.951213",
     "status": "completed"
    },
    "tags": []
   },
   "source": [
    "## Import seurat object"
   ]
  },
  {
   "cell_type": "code",
   "execution_count": 6,
   "id": "2ef3a56c",
   "metadata": {
    "execution": {
     "iopub.execute_input": "2021-11-03T22:16:21.054385Z",
     "iopub.status.busy": "2021-11-03T22:16:21.052094Z",
     "iopub.status.idle": "2021-11-03T22:16:48.072569Z",
     "shell.execute_reply": "2021-11-03T22:16:48.071009Z"
    },
    "papermill": {
     "duration": 27.057288,
     "end_time": "2021-11-03T22:16:48.072724",
     "exception": false,
     "start_time": "2021-11-03T22:16:21.015436",
     "status": "completed"
    },
    "scrolled": true,
    "tags": []
   },
   "outputs": [
    {
     "name": "stdout",
     "output_type": "stream",
     "text": [
      "[1] 4\n",
      "[1] \"i 1 donor 0\"\n",
      "[1] \"only 1 clone. Using top 3 clones\"\n",
      "[1] \"i 2 donor 1\"\n",
      "[1] \"only 1 clone. Using top 3 clones\"\n",
      "[1] \"i 3 donor 2\"\n",
      "[1] \"only 1 clone. Using top 3 clones\"\n",
      "[1] \"i 4 donor 3\"\n",
      "[1] \"only 1 clone. Using top 3 clones\"\n"
     ]
    },
    {
     "data": {
      "text/html": [
       "<table class=\"dataframe\">\n",
       "<caption>A data.frame: 12 × 9</caption>\n",
       "<thead>\n",
       "\t<tr><th scope=col>X</th><th scope=col>donor</th><th scope=col>lineage</th><th scope=col>norm.total</th><th scope=col>total</th><th scope=col>name</th><th scope=col>cdf.norm</th><th scope=col>cdf</th><th scope=col>index</th></tr>\n",
       "\t<tr><th scope=col>&lt;int&gt;</th><th scope=col>&lt;int&gt;</th><th scope=col>&lt;int&gt;</th><th scope=col>&lt;dbl&gt;</th><th scope=col>&lt;int&gt;</th><th scope=col>&lt;chr&gt;</th><th scope=col>&lt;dbl&gt;</th><th scope=col>&lt;int&gt;</th><th scope=col>&lt;int&gt;</th></tr>\n",
       "</thead>\n",
       "<tbody>\n",
       "\t<tr><td> 1</td><td>0</td><td> 3</td><td>0.5144778</td><td>275</td><td>0_3 </td><td>0.2572389</td><td>275</td><td>1</td></tr>\n",
       "\t<tr><td> 2</td><td>0</td><td>11</td><td>0.2172921</td><td>130</td><td>0_11</td><td>0.3658849</td><td>405</td><td>2</td></tr>\n",
       "\t<tr><td> 3</td><td>0</td><td> 7</td><td>0.1421326</td><td> 85</td><td>0_7 </td><td>0.4369512</td><td>490</td><td>3</td></tr>\n",
       "\t<tr><td> 4</td><td>1</td><td>16</td><td>0.4083667</td><td>215</td><td>1_16</td><td>0.2041833</td><td>215</td><td>1</td></tr>\n",
       "\t<tr><td> 5</td><td>1</td><td>19</td><td>0.2717958</td><td>143</td><td>1_19</td><td>0.3400812</td><td>358</td><td>2</td></tr>\n",
       "\t<tr><td> 6</td><td>1</td><td>11</td><td>0.1891594</td><td>104</td><td>1_11</td><td>0.4346609</td><td>462</td><td>3</td></tr>\n",
       "\t<tr><td> 7</td><td>2</td><td>17</td><td>0.2593934</td><td>110</td><td>2_17</td><td>0.1296967</td><td>110</td><td>1</td></tr>\n",
       "\t<tr><td> 8</td><td>2</td><td> 9</td><td>0.1936447</td><td> 85</td><td>2_9 </td><td>0.2265191</td><td>195</td><td>2</td></tr>\n",
       "\t<tr><td> 9</td><td>2</td><td>18</td><td>0.1611919</td><td> 71</td><td>2_18</td><td>0.3071151</td><td>266</td><td>3</td></tr>\n",
       "\t<tr><td>13</td><td>3</td><td>18</td><td>0.2544133</td><td>170</td><td>3_18</td><td>0.1272066</td><td>170</td><td>1</td></tr>\n",
       "\t<tr><td>14</td><td>3</td><td> 2</td><td>0.1869159</td><td>120</td><td>3_2 </td><td>0.2206646</td><td>290</td><td>2</td></tr>\n",
       "\t<tr><td>15</td><td>3</td><td>12</td><td>0.1645898</td><td>116</td><td>3_12</td><td>0.3029595</td><td>406</td><td>3</td></tr>\n",
       "</tbody>\n",
       "</table>\n"
      ],
      "text/latex": [
       "A data.frame: 12 × 9\n",
       "\\begin{tabular}{lllllllll}\n",
       " X & donor & lineage & norm.total & total & name & cdf.norm & cdf & index\\\\\n",
       " <int> & <int> & <int> & <dbl> & <int> & <chr> & <dbl> & <int> & <int>\\\\\n",
       "\\hline\n",
       "\t  1 & 0 &  3 & 0.5144778 & 275 & 0\\_3  & 0.2572389 & 275 & 1\\\\\n",
       "\t  2 & 0 & 11 & 0.2172921 & 130 & 0\\_11 & 0.3658849 & 405 & 2\\\\\n",
       "\t  3 & 0 &  7 & 0.1421326 &  85 & 0\\_7  & 0.4369512 & 490 & 3\\\\\n",
       "\t  4 & 1 & 16 & 0.4083667 & 215 & 1\\_16 & 0.2041833 & 215 & 1\\\\\n",
       "\t  5 & 1 & 19 & 0.2717958 & 143 & 1\\_19 & 0.3400812 & 358 & 2\\\\\n",
       "\t  6 & 1 & 11 & 0.1891594 & 104 & 1\\_11 & 0.4346609 & 462 & 3\\\\\n",
       "\t  7 & 2 & 17 & 0.2593934 & 110 & 2\\_17 & 0.1296967 & 110 & 1\\\\\n",
       "\t  8 & 2 &  9 & 0.1936447 &  85 & 2\\_9  & 0.2265191 & 195 & 2\\\\\n",
       "\t  9 & 2 & 18 & 0.1611919 &  71 & 2\\_18 & 0.3071151 & 266 & 3\\\\\n",
       "\t 13 & 3 & 18 & 0.2544133 & 170 & 3\\_18 & 0.1272066 & 170 & 1\\\\\n",
       "\t 14 & 3 &  2 & 0.1869159 & 120 & 3\\_2  & 0.2206646 & 290 & 2\\\\\n",
       "\t 15 & 3 & 12 & 0.1645898 & 116 & 3\\_12 & 0.3029595 & 406 & 3\\\\\n",
       "\\end{tabular}\n"
      ],
      "text/markdown": [
       "\n",
       "A data.frame: 12 × 9\n",
       "\n",
       "| X &lt;int&gt; | donor &lt;int&gt; | lineage &lt;int&gt; | norm.total &lt;dbl&gt; | total &lt;int&gt; | name &lt;chr&gt; | cdf.norm &lt;dbl&gt; | cdf &lt;int&gt; | index &lt;int&gt; |\n",
       "|---|---|---|---|---|---|---|---|---|\n",
       "|  1 | 0 |  3 | 0.5144778 | 275 | 0_3  | 0.2572389 | 275 | 1 |\n",
       "|  2 | 0 | 11 | 0.2172921 | 130 | 0_11 | 0.3658849 | 405 | 2 |\n",
       "|  3 | 0 |  7 | 0.1421326 |  85 | 0_7  | 0.4369512 | 490 | 3 |\n",
       "|  4 | 1 | 16 | 0.4083667 | 215 | 1_16 | 0.2041833 | 215 | 1 |\n",
       "|  5 | 1 | 19 | 0.2717958 | 143 | 1_19 | 0.3400812 | 358 | 2 |\n",
       "|  6 | 1 | 11 | 0.1891594 | 104 | 1_11 | 0.4346609 | 462 | 3 |\n",
       "|  7 | 2 | 17 | 0.2593934 | 110 | 2_17 | 0.1296967 | 110 | 1 |\n",
       "|  8 | 2 |  9 | 0.1936447 |  85 | 2_9  | 0.2265191 | 195 | 2 |\n",
       "|  9 | 2 | 18 | 0.1611919 |  71 | 2_18 | 0.3071151 | 266 | 3 |\n",
       "| 13 | 3 | 18 | 0.2544133 | 170 | 3_18 | 0.1272066 | 170 | 1 |\n",
       "| 14 | 3 |  2 | 0.1869159 | 120 | 3_2  | 0.2206646 | 290 | 2 |\n",
       "| 15 | 3 | 12 | 0.1645898 | 116 | 3_12 | 0.3029595 | 406 | 3 |\n",
       "\n"
      ],
      "text/plain": [
       "   X  donor lineage norm.total total name cdf.norm  cdf index\n",
       "1   1 0      3      0.5144778  275   0_3  0.2572389 275 1    \n",
       "2   2 0     11      0.2172921  130   0_11 0.3658849 405 2    \n",
       "3   3 0      7      0.1421326   85   0_7  0.4369512 490 3    \n",
       "4   4 1     16      0.4083667  215   1_16 0.2041833 215 1    \n",
       "5   5 1     19      0.2717958  143   1_19 0.3400812 358 2    \n",
       "6   6 1     11      0.1891594  104   1_11 0.4346609 462 3    \n",
       "7   7 2     17      0.2593934  110   2_17 0.1296967 110 1    \n",
       "8   8 2      9      0.1936447   85   2_9  0.2265191 195 2    \n",
       "9   9 2     18      0.1611919   71   2_18 0.3071151 266 3    \n",
       "10 13 3     18      0.2544133  170   3_18 0.1272066 170 1    \n",
       "11 14 3      2      0.1869159  120   3_2  0.2206646 290 2    \n",
       "12 15 3     12      0.1645898  116   3_12 0.3029595 406 3    "
      ]
     },
     "metadata": {},
     "output_type": "display_data"
    }
   ],
   "source": [
    "se <- readRDS(file.path(indir, \"se.clonesfilt.rds\"))\n",
    "init.large.clones <- read.csv(file.path(indir, \"large_clones.csv\"))\n",
    "large.clones <- init.large.clones %>% filter(cdf.norm<cdf_thresh)\n",
    "\n",
    "large.clones <- check.if.one.clone(large.clones, init.large.clones, n_top_clones)\n",
    "large.clones"
   ]
  },
  {
   "cell_type": "code",
   "execution_count": 7,
   "id": "f238ad67",
   "metadata": {
    "execution": {
     "iopub.execute_input": "2021-11-03T22:16:48.149488Z",
     "iopub.status.busy": "2021-11-03T22:16:48.147916Z",
     "iopub.status.idle": "2021-11-03T22:16:54.635661Z",
     "shell.execute_reply": "2021-11-03T22:16:54.634571Z"
    },
    "papermill": {
     "duration": 6.526669,
     "end_time": "2021-11-03T22:16:54.635839",
     "exception": false,
     "start_time": "2021-11-03T22:16:48.109170",
     "status": "completed"
    },
    "tags": []
   },
   "outputs": [],
   "source": [
    "se <- subset(se, subset= name %in% factor(large.clones$name))"
   ]
  },
  {
   "cell_type": "code",
   "execution_count": 8,
   "id": "c1f91a07",
   "metadata": {
    "execution": {
     "iopub.execute_input": "2021-11-03T22:16:54.713479Z",
     "iopub.status.busy": "2021-11-03T22:16:54.711792Z",
     "iopub.status.idle": "2021-11-03T22:16:54.742191Z",
     "shell.execute_reply": "2021-11-03T22:16:54.740770Z"
    },
    "papermill": {
     "duration": 0.069338,
     "end_time": "2021-11-03T22:16:54.742348",
     "exception": false,
     "start_time": "2021-11-03T22:16:54.673010",
     "status": "completed"
    },
    "tags": []
   },
   "outputs": [],
   "source": [
    "Idents(se) <- \"name\""
   ]
  },
  {
   "cell_type": "code",
   "execution_count": 9,
   "id": "8f207cb1",
   "metadata": {
    "execution": {
     "iopub.execute_input": "2021-11-03T22:16:54.854421Z",
     "iopub.status.busy": "2021-11-03T22:16:54.852748Z",
     "iopub.status.idle": "2021-11-03T22:16:55.873485Z",
     "shell.execute_reply": "2021-11-03T22:16:55.872027Z"
    },
    "papermill": {
     "duration": 1.095438,
     "end_time": "2021-11-03T22:16:55.873634",
     "exception": false,
     "start_time": "2021-11-03T22:16:54.778196",
     "status": "completed"
    },
    "scrolled": false,
    "tags": []
   },
   "outputs": [
    {
     "name": "stderr",
     "output_type": "stream",
     "text": [
      "Saving 6.67 x 6.67 in image\n",
      "\n"
     ]
    },
    {
     "data": {
      "image/png": "[encoded data removed]",
      "text/plain": [
       "plot without title"
      ]
     },
     "metadata": {
      "image/png": {
       "height": 420,
       "width": 420
      }
     },
     "output_type": "display_data"
    }
   ],
   "source": [
    "p <- ggplot(data = large.clones, aes(index, cdf.norm)) +\n",
    "  geom_point(color = \"steelblue\", size = 1) +\n",
    "  facet_wrap(~ donor) \n",
    "\n",
    "p <- p + geom_hline(yintercept=cdf_thresh, color='green') \n",
    "p\n",
    "ggsave(file.path(outdir, \"large.clones.cdf.png\"))\n",
    "\n"
   ]
  },
  {
   "cell_type": "code",
   "execution_count": 10,
   "id": "c28a1ffa",
   "metadata": {
    "execution": {
     "iopub.execute_input": "2021-11-03T22:16:55.966288Z",
     "iopub.status.busy": "2021-11-03T22:16:55.964455Z",
     "iopub.status.idle": "2021-11-03T22:16:55.978313Z",
     "shell.execute_reply": "2021-11-03T22:16:55.976866Z"
    },
    "papermill": {
     "duration": 0.055572,
     "end_time": "2021-11-03T22:16:55.978523",
     "exception": false,
     "start_time": "2021-11-03T22:16:55.922951",
     "status": "completed"
    },
    "tags": []
   },
   "outputs": [],
   "source": [
    "## Get motif names\n",
    "\n",
    "# DefaultAssay(se) <- \"chromvar\"\n",
    "# chrom.var.names <- GetAssayData(se)\n",
    "# DefaultAssay(se) <- \"ATAC\"\n",
    "# motifs <- Motifs(se)\n",
    "# #Motifs(se)@motif.names\n",
    "\n",
    "# head(chrom.var.names)\n",
    "# row.names(chrom.var.names) <- sapply(row.names(chrom.var.names), function(x) {Motifs(se)@motif.names[[x]]})\n",
    "# head(chrom.var.names)\n",
    "\n",
    "\n"
   ]
  },
  {
   "cell_type": "markdown",
   "id": "5564da63",
   "metadata": {
    "papermill": {
     "duration": 0.036456,
     "end_time": "2021-11-03T22:16:56.051518",
     "exception": false,
     "start_time": "2021-11-03T22:16:56.015062",
     "status": "completed"
    },
    "tags": []
   },
   "source": [
    "## TF DE"
   ]
  },
  {
   "cell_type": "markdown",
   "id": "e7def62d",
   "metadata": {
    "papermill": {
     "duration": 0.038015,
     "end_time": "2021-11-03T22:16:56.127269",
     "exception": false,
     "start_time": "2021-11-03T22:16:56.089254",
     "status": "completed"
    },
    "tags": []
   },
   "source": [
    "## Summarize results"
   ]
  },
  {
   "cell_type": "code",
   "execution_count": 11,
   "id": "78949989",
   "metadata": {
    "execution": {
     "iopub.execute_input": "2021-11-03T22:16:56.210214Z",
     "iopub.status.busy": "2021-11-03T22:16:56.208210Z",
     "iopub.status.idle": "2021-11-03T22:17:27.828350Z",
     "shell.execute_reply": "2021-11-03T22:17:27.827268Z"
    },
    "papermill": {
     "duration": 31.663869,
     "end_time": "2021-11-03T22:17:27.828508",
     "exception": false,
     "start_time": "2021-11-03T22:16:56.164639",
     "status": "completed"
    },
    "scrolled": true,
    "tags": []
   },
   "outputs": [
    {
     "name": "stdout",
     "output_type": "stream",
     "text": [
      "[1] \"donor\"\n",
      "[1] 0\n",
      "[1] 3 7\n",
      "[1] \"comparison # 1\"\n",
      "            X        p_val  avg_diff pct.1 pct.2    p_val_adj\n",
      "1       FOSL2 1.506388e-08 -1.252946 0.233 0.424 9.535437e-06\n",
      "2         FOS 1.932878e-08 -1.249761 0.236 0.494 1.223512e-05\n",
      "3 FOSL2::JUND 3.080242e-08 -1.134561 0.236 0.435 1.949793e-05\n",
      "4   FOS::JUND 4.122183e-08 -1.182091 0.247 0.447 2.609342e-05\n",
      "5 FOSL1::JUNB 4.877398e-08 -1.143651 0.233 0.459 3.087393e-05\n",
      "6  JUN(var.2) 5.250687e-08 -1.143545 0.240 0.447 3.323685e-05\n",
      "[1]  3 11\n",
      "[1] \"comparison # 2\"\n",
      "           X        p_val  avg_diff pct.1 pct.2    p_val_adj\n",
      "1      FOSL2 3.388534e-09 -1.286276 0.233 0.454 2.144942e-06\n",
      "2 JUN(var.2) 3.680782e-09 -1.207069 0.240 0.477 2.329935e-06\n",
      "3  BATF::JUN 7.165235e-09 -1.142267 0.240 0.446 4.535594e-06\n",
      "4      BATF3 9.084200e-09 -1.075839 0.225 0.454 5.750298e-06\n",
      "5       BATF 1.033270e-08 -1.129820 0.240 0.431 6.540598e-06\n",
      "6       NFE2 1.072724e-08 -0.966861 0.233 0.462 6.790340e-06\n",
      "[1]  7 11\n",
      "[1] \"comparison # 3\"\n",
      "             X       p_val   avg_diff pct.1 pct.2 p_val_adj\n",
      "1 TFAP4(var.2) 0.001469597 -0.4429018 0.365 0.515 0.9302546\n",
      "2  NR1H2::RXRA 0.002979448 -0.3011462 0.400 0.546 1.0000000\n",
      "3        FOXC2 0.006122611  0.3964212 0.494 0.346 1.0000000\n",
      "4        TFCP2 0.027279992  0.2432791 0.612 0.508 1.0000000\n",
      "5        FOXK1 0.032336943  0.2817014 0.565 0.431 1.0000000\n",
      "6 MEIS1(var.2) 0.036337238  0.3593472 0.494 0.431 1.0000000\n"
     ]
    },
    {
     "name": "stderr",
     "output_type": "stream",
     "text": [
      "'magick' package is suggested to install to give better rasterization.\n",
      "\n",
      "Set `ht_opt$message = FALSE` to turn off this message.\n",
      "\n"
     ]
    },
    {
     "name": "stderr",
     "output_type": "stream",
     "text": [
      "Saving 6.67 x 6.67 in image\n",
      "\n"
     ]
    },
    {
     "name": "stderr",
     "output_type": "stream",
     "text": [
      "Saving 6.67 x 6.67 in image\n",
      "\n"
     ]
    },
    {
     "name": "stdout",
     "output_type": "stream",
     "text": [
      "[1] \"donor\"\n",
      "[1] 1\n",
      "[1] 11 16\n",
      "[1] \"comparison # 1\"\n",
      "             X        p_val  avg_diff pct.1 pct.2    p_val_adj\n",
      "1 STAT1::STAT2 1.416296e-09 0.8739502 0.538 0.233 8.965156e-07\n",
      "2         IRF1 5.905502e-07 0.5579551 0.500 0.265 3.738183e-04\n",
      "3         IRF2 6.644772e-06 0.6354089 0.519 0.335 4.206141e-03\n",
      "4         ETV6 1.628811e-05 0.7190388 0.635 0.442 1.031037e-02\n",
      "5         SPIB 1.696908e-05 0.9365879 0.529 0.330 1.074143e-02\n",
      "6         ETV5 4.478717e-05 0.5169874 0.625 0.405 2.835028e-02\n",
      "[1] 11 19\n",
      "[1] \"comparison # 2\"\n",
      "     X       p_val   avg_diff pct.1 pct.2 p_val_adj\n",
      "1 SHOX 0.000900721 -0.4648928 0.337 0.531 0.5701564\n",
      "2  ISX 0.001127160 -0.4663201 0.346 0.559 0.7134922\n",
      "3 RAX2 0.001127160 -0.4663201 0.346 0.559 0.7134922\n",
      "4 SPI1 0.001405267  0.5978200 0.548 0.364 0.8895343\n",
      "5 ETV6 0.001960422  0.5412156 0.635 0.490 1.0000000\n",
      "6 LBX1 0.002033189 -0.4051703 0.346 0.538 1.0000000\n",
      "[1] 16 19\n",
      "[1] \"comparison # 3\"\n",
      "             X        p_val   avg_diff pct.1 pct.2  p_val_adj\n",
      "1 STAT1::STAT2 6.312598e-05 -0.4905775 0.233 0.385 0.03995874\n",
      "2         IRF3 1.354415e-03 -0.3158844 0.316 0.448 0.85734470\n",
      "3 MEIS1(var.2) 1.493000e-03 -0.3520822 0.395 0.566 0.94506926\n",
      "4        HOXB4 1.753310e-03 -0.3298628 0.419 0.559 1.00000000\n",
      "5         ELK4 3.977811e-03 -0.2955719 0.419 0.538 1.00000000\n",
      "6         IRF7 4.030749e-03 -0.3211469 0.330 0.469 1.00000000\n"
     ]
    },
    {
     "name": "stderr",
     "output_type": "stream",
     "text": [
      "'magick' package is suggested to install to give better rasterization.\n",
      "\n",
      "Set `ht_opt$message = FALSE` to turn off this message.\n",
      "\n"
     ]
    },
    {
     "name": "stderr",
     "output_type": "stream",
     "text": [
      "Saving 6.67 x 6.67 in image\n",
      "\n"
     ]
    },
    {
     "name": "stderr",
     "output_type": "stream",
     "text": [
      "Saving 6.67 x 6.67 in image\n",
      "\n"
     ]
    },
    {
     "name": "stdout",
     "output_type": "stream",
     "text": [
      "[1] \"donor\"\n",
      "[1] 2\n",
      "[1]  9 17\n",
      "[1] \"comparison # 1\"\n",
      "     X        p_val  avg_diff pct.1 pct.2    p_val_adj\n",
      "1  EHF 1.059816e-07 0.9924877 0.400 0.191 6.708635e-05\n",
      "2 ELF1 1.461841e-07 0.8658287 0.400 0.136 9.253455e-05\n",
      "3 SPI1 6.583564e-07 0.9181952 0.282 0.109 4.167396e-04\n",
      "4 ETV6 9.505339e-07 0.7416039 0.435 0.164 6.016880e-04\n",
      "5 ETV4 3.184992e-06 0.8047525 0.435 0.218 2.016100e-03\n",
      "6 IRF1 3.431186e-06 0.6077353 0.459 0.164 2.171940e-03\n",
      "[1]  9 18\n",
      "[1] \"comparison # 2\"\n",
      "             X       p_val   avg_diff pct.1 pct.2 p_val_adj\n",
      "1         ELK1 0.001446962  0.4013915 0.741 0.479  0.915927\n",
      "2 STAT1::STAT2 0.002828159  0.3673430 0.376 0.197  1.000000\n",
      "3        HOXA2 0.003899524 -0.4954688 0.447 0.648  1.000000\n",
      "4         PDX1 0.006341301 -0.4530340 0.424 0.606  1.000000\n",
      "5         EMX1 0.006341301 -0.4530340 0.424 0.606  1.000000\n",
      "6        HOXB2 0.006341301 -0.4530340 0.424 0.606  1.000000\n",
      "[1] 17 18\n",
      "[1] \"comparison # 3\"\n",
      "      X        p_val   avg_diff pct.1 pct.2   p_val_adj\n",
      "1  ELF1 4.636200e-06 -0.7322995 0.136 0.366 0.002934715\n",
      "2 GABPA 1.250999e-05 -0.7476776 0.227 0.394 0.007918824\n",
      "3  ESR1 4.110241e-05 -0.5940855 0.255 0.535 0.026017825\n",
      "4  ELF3 7.624196e-05 -0.7587601 0.191 0.324 0.048261160\n",
      "5   EHF 7.811696e-05 -0.7917897 0.191 0.197 0.049448038\n",
      "6  ETV1 1.613831e-04 -0.6652927 0.273 0.423 0.102155475\n"
     ]
    },
    {
     "name": "stderr",
     "output_type": "stream",
     "text": [
      "'magick' package is suggested to install to give better rasterization.\n",
      "\n",
      "Set `ht_opt$message = FALSE` to turn off this message.\n",
      "\n"
     ]
    },
    {
     "name": "stderr",
     "output_type": "stream",
     "text": [
      "Saving 6.67 x 6.67 in image\n",
      "\n"
     ]
    },
    {
     "name": "stderr",
     "output_type": "stream",
     "text": [
      "Saving 6.67 x 6.67 in image\n",
      "\n"
     ]
    },
    {
     "name": "stdout",
     "output_type": "stream",
     "text": [
      "[1] \"donor\"\n",
      "[1] 3\n",
      "[1]  2 12\n",
      "[1] \"comparison # 1\"\n",
      "      X        p_val  avg_diff pct.1 pct.2    p_val_adj\n",
      "1   DBP 3.238985e-09 0.8611782 0.625 0.302 2.050277e-06\n",
      "2   TEF 3.088283e-07 0.8140839 0.583 0.319 1.954883e-04\n",
      "3   HLF 5.182510e-06 0.7631889 0.658 0.397 3.280529e-03\n",
      "4 SOX15 4.105884e-05 0.4660870 0.583 0.353 2.599024e-02\n",
      "5 GLIS2 5.786882e-05 0.4778339 0.617 0.405 3.663096e-02\n",
      "6 LMX1A 1.051905e-04 0.4943607 0.542 0.328 6.658556e-02\n",
      "[1]  2 18\n",
      "[1] \"comparison # 2\"\n",
      "             X        p_val  avg_diff pct.1 pct.2  p_val_adj\n",
      "1        CEBPA 2.230959e-05 0.8338234 0.667 0.441 0.01412197\n",
      "2        PLAG1 2.979537e-05 0.3828695 0.583 0.382 0.01886047\n",
      "3          HLF 6.884505e-05 0.6338413 0.658 0.453 0.04357891\n",
      "4          DBP 7.135804e-05 0.5650410 0.625 0.447 0.04516964\n",
      "5        ZFP57 8.835515e-05 0.4551399 0.550 0.324 0.05592881\n",
      "6 CEBPG(var.2) 8.940361e-05 0.7331179 0.625 0.429 0.05659248\n",
      "[1] 12 18\n",
      "[1] \"comparison # 3\"\n",
      "      X       p_val   avg_diff pct.1 pct.2 p_val_adj\n",
      "1 NR1I3 0.002380056 -0.3459252 0.336 0.512         1\n",
      "2  PAX5 0.002570726  0.3388481 0.552 0.429         1\n",
      "3 ZNF24 0.003275477 -0.2988418 0.345 0.459         1\n",
      "4  VAX1 0.006456166 -0.2867608 0.310 0.482         1\n",
      "5  VAX2 0.006456166 -0.2867608 0.310 0.482         1\n",
      "6  DRGX 0.006456166 -0.2867608 0.310 0.482         1\n"
     ]
    },
    {
     "name": "stderr",
     "output_type": "stream",
     "text": [
      "'magick' package is suggested to install to give better rasterization.\n",
      "\n",
      "Set `ht_opt$message = FALSE` to turn off this message.\n",
      "\n"
     ]
    },
    {
     "name": "stderr",
     "output_type": "stream",
     "text": [
      "Saving 6.67 x 6.67 in image\n",
      "\n"
     ]
    },
    {
     "name": "stderr",
     "output_type": "stream",
     "text": [
      "Saving 6.67 x 6.67 in image\n",
      "\n"
     ]
    }
   ],
   "source": [
    "all.names.sig <- c()\n",
    "DefaultAssay(se) <- \"chromvarnames\"\n",
    "for (d in 0:(n_donors-1)){\n",
    "    print('donor')\n",
    "    print(d)\n",
    "    curr.indir <- file.path(indir, paste0(\"donor\", d, \"_TF\"))\n",
    "    curr.outdir <- file.path(outdir, paste0(\"donor\", d, \"_TF\"))\n",
    "    dir.create(curr.outdir)\n",
    "    donor.large.clones <- large.clones %>% filter(donor==d)\n",
    "    clones.filt.ids <- sort(donor.large.clones$lineage)\n",
    "    se.filt <- subset(se, subset = (donor==d) & (lineage %in% donor.large.clones$lineage))\n",
    "    if (length(clones.filt.ids) < 2){\n",
    "        print(\"0 or 1 clone found. not running\")\n",
    "        next\n",
    "    }\n",
    "    pairs = combn(clones.filt.ids,2)\n",
    "    names.sig <- c()\n",
    "\n",
    "    for (i in 1:dim(pairs)[2]){\n",
    "        print(pairs[,i])\n",
    "        print(paste(\"comparison #\", i))\n",
    "        a = pairs[1,i]\n",
    "        b = pairs[2,i]\n",
    "        curr.tf.da <- read.csv(file.path(curr.indir, \n",
    "                                         paste0(\"clones_\",a,\"__\", b,\".DE.TF.csv\"))) %>% \n",
    "                      arrange(p_val)\n",
    "        print(head(curr.tf.da))\n",
    "        row.names(curr.tf.da) <- curr.tf.da$X  #sapply(curr.tf.da$X, function(m) {motifs@motif.names[[m]]})\n",
    "        #curr.tf.da\n",
    "        names.sig <- c(names.sig, head(row.names(curr.tf.da), n_top_genes))\n",
    "        all.names.sig <- c(all.names.sig, head(row.names(curr.tf.da), n_top_genes))\n",
    "        }\n",
    "    names.sig <- unique(names.sig)\n",
    "    names.sig\n",
    "\n",
    "    #feat <- FeaturePlot(se.filt,  features=names.sig)\n",
    "\n",
    "    vln <- VlnPlot(se.filt,  features=names.sig)\n",
    "\n",
    "    dot <- DotPlot(se.filt, features = names.sig) + RotatedAxis()\n",
    "\n",
    "    # split by a vector\n",
    "    pdf((file.path(curr.outdir, \"heatmap.top.pdf\")), width=8,height=8)\n",
    "    \n",
    "    heat <- ComplexHeatmap::Heatmap(GetAssayData(se.filt)[names.sig,], \n",
    "            name = paste0(\"donor\",d),\n",
    "            column_split = se.filt[[]][\"lineage\"],\n",
    "            show_column_names = FALSE, use_raster=TRUE\n",
    "           )\n",
    "    ComplexHeatmap::draw(heat)\n",
    "    dev.off()\n",
    "    \n",
    "    ggsave(plot=dot, \n",
    "           file=file.path(curr.outdir, (\"dot.top.png\")))\n",
    "    ggsave(plot=vln, \n",
    "           file=file.path(curr.outdir, (\"violin.top.png\")))\n",
    "    }\n",
    "all.names.sig <- unique(all.names.sig)"
   ]
  },
  {
   "cell_type": "markdown",
   "id": "1e258005",
   "metadata": {
    "papermill": {
     "duration": 0.041744,
     "end_time": "2021-11-03T22:17:27.912764",
     "exception": false,
     "start_time": "2021-11-03T22:17:27.871020",
     "status": "completed"
    },
    "tags": []
   },
   "source": [
    "## Dotplot for all donors"
   ]
  },
  {
   "cell_type": "code",
   "execution_count": 12,
   "id": "a3923f5b",
   "metadata": {
    "execution": {
     "iopub.execute_input": "2021-11-03T22:17:28.003361Z",
     "iopub.status.busy": "2021-11-03T22:17:28.001561Z",
     "iopub.status.idle": "2021-11-03T22:17:28.019186Z",
     "shell.execute_reply": "2021-11-03T22:17:28.017532Z"
    },
    "papermill": {
     "duration": 0.06536,
     "end_time": "2021-11-03T22:17:28.019688",
     "exception": false,
     "start_time": "2021-11-03T22:17:27.954328",
     "status": "completed"
    },
    "tags": []
   },
   "outputs": [
    {
     "data": {
      "text/html": [
       "'/data2/mito_lineage/output/pipeline/cd34norm/MTblacklist/data/merged/MT/cellr_True/numread_200/filters/minC10_minR50_topN0_hetT0.001_hetC10_hetCount5_bq20/mgatk/vireoIn/clones/variants_simple/vireo/nclones20/enrichment/annotation_clones/DE_large/cdf_thresh__30'"
      ],
      "text/latex": [
       "'/data2/mito\\_lineage/output/pipeline/cd34norm/MTblacklist/data/merged/MT/cellr\\_True/numread\\_200/filters/minC10\\_minR50\\_topN0\\_hetT0.001\\_hetC10\\_hetCount5\\_bq20/mgatk/vireoIn/clones/variants\\_simple/vireo/nclones20/enrichment/annotation\\_clones/DE\\_large/cdf\\_thresh\\_\\_30'"
      ],
      "text/markdown": [
       "'/data2/mito_lineage/output/pipeline/cd34norm/MTblacklist/data/merged/MT/cellr_True/numread_200/filters/minC10_minR50_topN0_hetT0.001_hetC10_hetCount5_bq20/mgatk/vireoIn/clones/variants_simple/vireo/nclones20/enrichment/annotation_clones/DE_large/cdf_thresh__30'"
      ],
      "text/plain": [
       "[1] \"/data2/mito_lineage/output/pipeline/cd34norm/MTblacklist/data/merged/MT/cellr_True/numread_200/filters/minC10_minR50_topN0_hetT0.001_hetC10_hetCount5_bq20/mgatk/vireoIn/clones/variants_simple/vireo/nclones20/enrichment/annotation_clones/DE_large/cdf_thresh__30\""
      ]
     },
     "metadata": {},
     "output_type": "display_data"
    }
   ],
   "source": [
    "outdir"
   ]
  },
  {
   "cell_type": "code",
   "execution_count": 13,
   "id": "c97ca3a2",
   "metadata": {
    "execution": {
     "iopub.execute_input": "2021-11-03T22:17:28.109850Z",
     "iopub.status.busy": "2021-11-03T22:17:28.108185Z",
     "iopub.status.idle": "2021-11-03T22:17:28.536139Z",
     "shell.execute_reply": "2021-11-03T22:17:28.534578Z"
    },
    "papermill": {
     "duration": 0.473926,
     "end_time": "2021-11-03T22:17:28.536290",
     "exception": false,
     "start_time": "2021-11-03T22:17:28.062364",
     "status": "completed"
    },
    "tags": []
   },
   "outputs": [
    {
     "data": {
      "text/html": [
       "<strong>png:</strong> 2"
      ],
      "text/latex": [
       "\\textbf{png:} 2"
      ],
      "text/markdown": [
       "**png:** 2"
      ],
      "text/plain": [
       "png \n",
       "  2 "
      ]
     },
     "metadata": {},
     "output_type": "display_data"
    }
   ],
   "source": [
    "pdf(file = file.path(outdir, \"./dotplot.allDonors.top.pdf\"), width = 8, height = 8)\n",
    "dot <- DotPlot(se, features = all.names.sig, group.by=\"donor\") + RotatedAxis()\n",
    "dot\n",
    "dev.off()"
   ]
  },
  {
   "cell_type": "code",
   "execution_count": 14,
   "id": "cc4a9da6",
   "metadata": {
    "execution": {
     "iopub.execute_input": "2021-11-03T22:17:28.628767Z",
     "iopub.status.busy": "2021-11-03T22:17:28.627158Z",
     "iopub.status.idle": "2021-11-03T22:17:28.990505Z",
     "shell.execute_reply": "2021-11-03T22:17:28.988963Z"
    },
    "papermill": {
     "duration": 0.410889,
     "end_time": "2021-11-03T22:17:28.990653",
     "exception": false,
     "start_time": "2021-11-03T22:17:28.579764",
     "status": "completed"
    },
    "tags": []
   },
   "outputs": [
    {
     "data": {
      "text/html": [
       "<strong>png:</strong> 2"
      ],
      "text/latex": [
       "\\textbf{png:} 2"
      ],
      "text/markdown": [
       "**png:** 2"
      ],
      "text/plain": [
       "png \n",
       "  2 "
      ]
     },
     "metadata": {},
     "output_type": "display_data"
    }
   ],
   "source": [
    "pdf(file = file.path(outdir, \"./dotplot.allDonors.clones.top.pdf\"), width = 8, height = 8)\n",
    "dot <- DotPlot(se, features = all.names.sig, group.by=\"name\", cluster.idents=T) + RotatedAxis()\n",
    "dot\n",
    "dev.off()"
   ]
  },
  {
   "cell_type": "markdown",
   "id": "b78aba1f",
   "metadata": {
    "papermill": {
     "duration": 0.043935,
     "end_time": "2021-11-03T22:17:29.078985",
     "exception": false,
     "start_time": "2021-11-03T22:17:29.035050",
     "status": "completed"
    },
    "tags": []
   },
   "source": [
    "## Heatmap for all donors"
   ]
  },
  {
   "cell_type": "code",
   "execution_count": 15,
   "id": "ca052607",
   "metadata": {
    "execution": {
     "iopub.execute_input": "2021-11-03T22:17:29.173016Z",
     "iopub.status.busy": "2021-11-03T22:17:29.171404Z",
     "iopub.status.idle": "2021-11-03T22:17:32.366747Z",
     "shell.execute_reply": "2021-11-03T22:17:32.365144Z"
    },
    "papermill": {
     "duration": 3.243602,
     "end_time": "2021-11-03T22:17:32.366919",
     "exception": false,
     "start_time": "2021-11-03T22:17:29.123317",
     "status": "completed"
    },
    "scrolled": false,
    "tags": []
   },
   "outputs": [
    {
     "data": {
      "text/html": [
       "<strong>png:</strong> 2"
      ],
      "text/latex": [
       "\\textbf{png:} 2"
      ],
      "text/markdown": [
       "**png:** 2"
      ],
      "text/plain": [
       "png \n",
       "  2 "
      ]
     },
     "metadata": {},
     "output_type": "display_data"
    }
   ],
   "source": [
    "pdf((file.path(outdir, \"heatmap.allDonors.top.pdf\")), width=8,height=8)\n",
    "heat <- ComplexHeatmap::Heatmap(GetAssayData(se)[names.sig,], \n",
    "        top_annotation = HeatmapAnnotation(donor=as.character(se$donor)),\n",
    "        show_column_names = FALSE, \n",
    "        column_split = se[[\"name\"]],\n",
    "       )\n",
    "\n",
    "ComplexHeatmap::draw(heat)\n",
    "dev.off()"
   ]
  },
  {
   "cell_type": "code",
   "execution_count": 16,
   "id": "ffb06010",
   "metadata": {
    "execution": {
     "iopub.execute_input": "2021-11-03T22:17:32.549136Z",
     "iopub.status.busy": "2021-11-03T22:17:32.464334Z",
     "iopub.status.idle": "2021-11-03T22:17:32.560380Z",
     "shell.execute_reply": "2021-11-03T22:17:32.558861Z"
    },
    "papermill": {
     "duration": 0.145605,
     "end_time": "2021-11-03T22:17:32.560531",
     "exception": false,
     "start_time": "2021-11-03T22:17:32.414926",
     "status": "completed"
    },
    "scrolled": false,
    "tags": []
   },
   "outputs": [],
   "source": [
    "# pdf((file.path(outdir, \"heatmap.allDonors.anno.top.pdf\")), width=8,height=8)\n",
    "# heat <- ComplexHeatmap::Heatmap(GetAssayData(se)[all.names.sig,], \n",
    "#         top_annotation = HeatmapAnnotation(donor=as.character(se$donor), clone=as.character(se$lineage), \n",
    "#                                            depth=anno_barplot(log10(se$peak_region_fragments))),\n",
    "#         show_column_names = FALSE\n",
    "#        )\n",
    "\n",
    "# ComplexHeatmap::draw(heat)\n",
    "# dev.off()"
   ]
  },
  {
   "cell_type": "code",
   "execution_count": 17,
   "id": "a8b61392",
   "metadata": {
    "execution": {
     "iopub.execute_input": "2021-11-03T22:17:32.717669Z",
     "iopub.status.busy": "2021-11-03T22:17:32.716162Z",
     "iopub.status.idle": "2021-11-03T22:17:36.045846Z",
     "shell.execute_reply": "2021-11-03T22:17:36.044227Z"
    },
    "papermill": {
     "duration": 3.438689,
     "end_time": "2021-11-03T22:17:36.046008",
     "exception": false,
     "start_time": "2021-11-03T22:17:32.607319",
     "status": "completed"
    },
    "tags": []
   },
   "outputs": [
    {
     "name": "stderr",
     "output_type": "stream",
     "text": [
      "The automatically generated colors map from the minus and plus 99^th of\n",
      "the absolute values in the matrix. There are outliers in the matrix\n",
      "whose patterns might be hidden by this color mapping. You can manually\n",
      "set the color to `col` argument.\n",
      "\n",
      "Use `suppressMessages()` to turn off this message.\n",
      "\n"
     ]
    },
    {
     "data": {
      "text/html": [
       "<strong>png:</strong> 2"
      ],
      "text/latex": [
       "\\textbf{png:} 2"
      ],
      "text/markdown": [
       "**png:** 2"
      ],
      "text/plain": [
       "png \n",
       "  2 "
      ]
     },
     "metadata": {},
     "output_type": "display_data"
    }
   ],
   "source": [
    "pdf((file.path(outdir, \"heatmap.allDonors.split.top.pdf\")), width=8,height=8)\n",
    "heat <- ComplexHeatmap::Heatmap(GetAssayData(se)[all.names.sig,], \n",
    "        top_annotation = HeatmapAnnotation(donor=as.character(se$donor)),\n",
    "        show_column_names = FALSE, \n",
    "        column_split = se[[\"name\"]],\n",
    "       )\n",
    "\n",
    "ComplexHeatmap::draw(heat)\n",
    "dev.off()"
   ]
  },
  {
   "cell_type": "code",
   "execution_count": null,
   "id": "cdc2fbd4",
   "metadata": {
    "papermill": {
     "duration": 0.047777,
     "end_time": "2021-11-03T22:17:36.147833",
     "exception": false,
     "start_time": "2021-11-03T22:17:36.100056",
     "status": "completed"
    },
    "tags": []
   },
   "outputs": [],
   "source": []
  },
  {
   "cell_type": "code",
   "execution_count": null,
   "id": "2d955085",
   "metadata": {
    "papermill": {
     "duration": 0.047858,
     "end_time": "2021-11-03T22:17:36.243444",
     "exception": false,
     "start_time": "2021-11-03T22:17:36.195586",
     "status": "completed"
    },
    "tags": []
   },
   "outputs": [],
   "source": []
  }
 ],
 "metadata": {
  "celltoolbar": "Tags",
  "kernelspec": {
   "display_name": "R",
   "language": "R",
   "name": "ir"
  },
  "language_info": {
   "codemirror_mode": "r",
   "file_extension": ".r",
   "mimetype": "text/x-r-source",
   "name": "R",
   "pygments_lexer": "r",
   "version": "4.1.1"
  },
  "papermill": {
   "default_parameters": {},
   "duration": 94.420281,
   "end_time": "2021-11-03T22:17:36.808548",
   "environment_variables": {},
   "exception": null,
   "input_path": "/data2/mito_lineage/R_scripts/annotation_clones/DE_clones.TF.summaryPlot.ipynb",
   "output_path": "/data2/mito_lineage/output/pipeline/cd34norm/MTblacklist/data/merged/MT/cellr_True/numread_200/filters/minC10_minR50_topN0_hetT0.001_hetC10_hetCount5_bq20/mgatk/vireoIn/clones/variants_simple/vireo/nclones20/enrichment/annotation_clones/DE_large/cdf_thresh__0.3/DE.ipynb",
   "parameters": {
    "indir": "/data2/mito_lineage/output/pipeline/cd34norm/MTblacklist/data/merged/MT/cellr_True/numread_200/filters/minC10_minR50_topN0_hetT0.001_hetC10_hetCount5_bq20/mgatk/vireoIn/clones/variants_simple/vireo/nclones20/enrichment/annotation_clones/DE_large",
    "n_donors": 4
   },
   "start_time": "2021-11-03T22:16:02.388267",
   "version": "2.3.3"
  }
 },
 "nbformat": 4,
 "nbformat_minor": 5
}