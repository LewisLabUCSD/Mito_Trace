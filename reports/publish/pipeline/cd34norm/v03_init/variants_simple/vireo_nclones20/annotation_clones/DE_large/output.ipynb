{
 "cells": [
  {
   "cell_type": "code",
   "execution_count": 1,
   "id": "4246cc89",
   "metadata": {
    "execution": {
     "iopub.execute_input": "2021-12-03T21:08:04.988853Z",
     "iopub.status.busy": "2021-12-03T21:08:04.986394Z",
     "iopub.status.idle": "2021-12-03T21:08:05.028556Z",
     "shell.execute_reply": "2021-12-03T21:08:05.027234Z"
    },
    "papermill": {
     "duration": 0.194709,
     "end_time": "2021-12-03T21:08:05.028798",
     "exception": false,
     "start_time": "2021-12-03T21:08:04.834089",
     "status": "completed"
    },
    "tags": [
     "parameters"
    ]
   },
   "outputs": [],
   "source": [
    "# se_f = \"~/data/Projects/Mito_Trace/output/pipeline/cd34norm/MTblacklist/data/merged/MT/cellr_True/numread_200/filters/minC10_minR50_topN0_hetT0.001_hetC10_hetCount5_bq20/mgatk/vireoIn/clones/variants_mgatkdonor/vireo/nclones20/enrichment/annotation_clones/SE.rds\"\n",
    "# outdir = \"~/data/Projects/Mito_Trace/output/pipeline/cd34norm/MTblacklist/data/merged/MT/cellr_True/numread_200/filters/minC10_minR50_topN0_hetT0.001_hetC10_hetCount5_bq20/mgatk/vireoIn/clones/variants_mgatkdonor/vireo/nclones20/enrichment/annotation_clones/DE_large\"\n",
    "# n_donors = 4\n",
    "\n",
    "se_f = \"/home/isshamie/data/Projects/Mito_Trace/output/pipeline/CHIP_nameFix_april08_2021/MTblacklist/data/merged/MT/cellr_True/numread_200/filters/minC10_minR50_topN0_hetT0.001_hetC10_hetCount5_bq20/mgatk/vireoIn/clones/variants_mgatkdonor/vireo/nclones20/annotation_clones/SE.rds\"\n",
    "outdir = \"/home/isshamie/data/Projects/Mito_Trace/output/pipeline/CHIP_nameFix_april08_2021/MTblacklist/data/merged/MT/cellr_True/numread_200/filters/minC10_minR50_topN0_hetT0.001_hetC10_hetCount5_bq20/mgatk/vireoIn/clones/variants_mgatkdonor/vireo/nclones20/annotation_clones/DE_large\"\n",
    "n_donors = 5\n",
    "\n",
    "\n",
    "\n",
    "# If more than 2 clones pass the cdf_thresh, use that, o.w use n_top_clones\n",
    "cdf_thresh = 0.5\n",
    "n_top_clones = 3\n",
    "\n",
    "min_pct = 0.01\n",
    "use_latent_vars = FALSE\n",
    "genome = \"/data/Mito_Trace/data/external/GRCh38_MT_blacklist/fasta/genome.fa\"\n",
    "cores=16\n",
    "utils_script <- \"/data/Mito_Trace/R_scripts/seurat_utils.R\""
   ]
  },
  {
   "cell_type": "code",
   "execution_count": 2,
   "id": "24c69b2a",
   "metadata": {
    "execution": {
     "iopub.execute_input": "2021-12-03T21:08:05.205063Z",
     "iopub.status.busy": "2021-12-03T21:08:05.169709Z",
     "iopub.status.idle": "2021-12-03T21:08:05.218664Z",
     "shell.execute_reply": "2021-12-03T21:08:05.217522Z"
    },
    "papermill": {
     "duration": 0.117158,
     "end_time": "2021-12-03T21:08:05.218869",
     "exception": false,
     "start_time": "2021-12-03T21:08:05.101711",
     "status": "completed"
    },
    "tags": [
     "injected-parameters"
    ]
   },
   "outputs": [],
   "source": [
    "# Parameters\n",
    "se_f = \"/data/Mito_Trace/output/pipeline/cd34norm/MTblacklist/data/merged/MT/cellr_True/numread_200/filters/minC10_minR50_topN0_hetT0.001_hetC10_hetCount5_bq20/mgatk/vireoIn/clones/variants_simple/vireo/nclones20/annotation_clones/SE.rds\"\n",
    "outdir = \"/data/Mito_Trace/output/pipeline/cd34norm/MTblacklist/data/merged/MT/cellr_True/numread_200/filters/minC10_minR50_topN0_hetT0.001_hetC10_hetCount5_bq20/mgatk/vireoIn/clones/variants_simple/vireo/nclones20/annotation_clones/DE_large\"\n",
    "n_donors = 4\n"
   ]
  },
  {
   "cell_type": "code",
   "execution_count": 3,
   "id": "e72d3a57",
   "metadata": {
    "execution": {
     "iopub.execute_input": "2021-12-03T21:08:05.361088Z",
     "iopub.status.busy": "2021-12-03T21:08:05.357585Z",
     "iopub.status.idle": "2021-12-03T21:08:05.375722Z",
     "shell.execute_reply": "2021-12-03T21:08:05.371755Z"
    },
    "papermill": {
     "duration": 0.089748,
     "end_time": "2021-12-03T21:08:05.375995",
     "exception": false,
     "start_time": "2021-12-03T21:08:05.286247",
     "status": "completed"
    },
    "tags": []
   },
   "outputs": [],
   "source": [
    "if (use_latent_vars){\n",
    "    latent.vars = \"peaks_depth\"\n",
    "}else{\n",
    "    latent.vars=NULL\n",
    "}"
   ]
  },
  {
   "cell_type": "code",
   "execution_count": 4,
   "id": "b44903ca",
   "metadata": {
    "execution": {
     "iopub.execute_input": "2021-12-03T21:08:05.510624Z",
     "iopub.status.busy": "2021-12-03T21:08:05.508641Z",
     "iopub.status.idle": "2021-12-03T21:08:11.434471Z",
     "shell.execute_reply": "2021-12-03T21:08:11.433310Z"
    },
    "papermill": {
     "duration": 5.993312,
     "end_time": "2021-12-03T21:08:11.434724",
     "exception": false,
     "start_time": "2021-12-03T21:08:05.441412",
     "status": "completed"
    },
    "tags": []
   },
   "outputs": [
    {
     "name": "stderr",
     "output_type": "stream",
     "text": [
      "Attaching SeuratObject\n",
      "\n"
     ]
    }
   ],
   "source": [
    "source(utils_script)"
   ]
  },
  {
   "cell_type": "code",
   "execution_count": 5,
   "id": "5d9ca2e3",
   "metadata": {
    "execution": {
     "iopub.execute_input": "2021-12-03T21:08:11.574320Z",
     "iopub.status.busy": "2021-12-03T21:08:11.570835Z",
     "iopub.status.idle": "2021-12-03T21:08:11.932079Z",
     "shell.execute_reply": "2021-12-03T21:08:11.930953Z"
    },
    "papermill": {
     "duration": 0.430315,
     "end_time": "2021-12-03T21:08:11.932273",
     "exception": false,
     "start_time": "2021-12-03T21:08:11.501958",
     "status": "completed"
    },
    "scrolled": true,
    "tags": []
   },
   "outputs": [
    {
     "name": "stderr",
     "output_type": "stream",
     "text": [
      "\n",
      "Attaching package: ‘cowplot’\n",
      "\n",
      "\n"
     ]
    },
    {
     "name": "stderr",
     "output_type": "stream",
     "text": [
      "The following object is masked from ‘package:patchwork’:\n",
      "\n",
      "    align_plots\n",
      "\n",
      "\n"
     ]
    },
    {
     "name": "stderr",
     "output_type": "stream",
     "text": [
      "\n",
      "Attaching package: ‘dplyr’\n",
      "\n",
      "\n"
     ]
    },
    {
     "name": "stderr",
     "output_type": "stream",
     "text": [
      "The following objects are masked from ‘package:stats’:\n",
      "\n",
      "    filter, lag\n",
      "\n",
      "\n"
     ]
    },
    {
     "name": "stderr",
     "output_type": "stream",
     "text": [
      "The following objects are masked from ‘package:base’:\n",
      "\n",
      "    intersect, setdiff, setequal, union\n",
      "\n",
      "\n"
     ]
    },
    {
     "name": "stderr",
     "output_type": "stream",
     "text": [
      "Warning message:\n",
      "“Strategy 'multiprocess' is deprecated in future (>= 1.20.0). Instead, explicitly specify either 'multisession' or 'multicore'. In the current R session, 'multiprocess' equals 'multicore'.”\n"
     ]
    },
    {
     "name": "stderr",
     "output_type": "stream",
     "text": [
      "Loading required package: grid\n",
      "\n"
     ]
    },
    {
     "name": "stderr",
     "output_type": "stream",
     "text": [
      "========================================\n",
      "ComplexHeatmap version 2.10.0\n",
      "Bioconductor page: http://bioconductor.org/packages/ComplexHeatmap/\n",
      "Github page: https://github.com/jokergoo/ComplexHeatmap\n",
      "Documentation: http://jokergoo.github.io/ComplexHeatmap-reference\n",
      "\n",
      "If you use it in published research, please cite:\n",
      "Gu, Z. Complex heatmaps reveal patterns and correlations in multidimensional \n",
      "  genomic data. Bioinformatics 2016.\n",
      "\n",
      "The new InteractiveComplexHeatmap package can directly export static \n",
      "complex heatmaps into an interactive Shiny app with zero effort. Have a try!\n",
      "\n",
      "This message can be suppressed by:\n",
      "  suppressPackageStartupMessages(library(ComplexHeatmap))\n",
      "========================================\n",
      "\n",
      "\n"
     ]
    }
   ],
   "source": [
    "library(Seurat)\n",
    "library(Signac)\n",
    "library(ggplot2)\n",
    "library(patchwork)\n",
    "set.seed(1234)\n",
    "library(magrittr)\n",
    "library(cowplot)\n",
    "library(metap)\n",
    "library(dplyr)\n",
    "library(future)\n",
    "plan(\"multiprocess\", workers = cores)\n",
    "#options(future.globals.maxSize = 50000 * 1024^2) # for 50 Gb RAM\n",
    "options(future.globals.maxSize = 8000 * 1024^2)\n",
    "library(\"ComplexHeatmap\")"
   ]
  },
  {
   "cell_type": "markdown",
   "id": "e8a7d7b5",
   "metadata": {
    "papermill": {
     "duration": 0.072923,
     "end_time": "2021-12-03T21:08:12.078062",
     "exception": false,
     "start_time": "2021-12-03T21:08:12.005139",
     "status": "completed"
    },
    "tags": []
   },
   "source": [
    "## Import seurat object"
   ]
  },
  {
   "cell_type": "code",
   "execution_count": 6,
   "id": "2ef3a56c",
   "metadata": {
    "execution": {
     "iopub.execute_input": "2021-12-03T21:08:12.226565Z",
     "iopub.status.busy": "2021-12-03T21:08:12.223266Z",
     "iopub.status.idle": "2021-12-03T21:21:50.358104Z",
     "shell.execute_reply": "2021-12-03T21:21:50.356776Z"
    },
    "papermill": {
     "duration": 818.206203,
     "end_time": "2021-12-03T21:21:50.358323",
     "exception": false,
     "start_time": "2021-12-03T21:08:12.152120",
     "status": "completed"
    },
    "scrolled": true,
    "tags": []
   },
   "outputs": [
    {
     "name": "stdout",
     "output_type": "stream",
     "text": [
      "[1] \"Running chromvar\"\n"
     ]
    },
    {
     "name": "stderr",
     "output_type": "stream",
     "text": [
      "\n",
      "\n"
     ]
    },
    {
     "name": "stderr",
     "output_type": "stream",
     "text": [
      "Loading required package: BSgenome\n",
      "\n"
     ]
    },
    {
     "name": "stderr",
     "output_type": "stream",
     "text": [
      "Loading required package: BiocGenerics\n",
      "\n"
     ]
    },
    {
     "name": "stderr",
     "output_type": "stream",
     "text": [
      "\n",
      "Attaching package: ‘BiocGenerics’\n",
      "\n",
      "\n"
     ]
    },
    {
     "name": "stderr",
     "output_type": "stream",
     "text": [
      "The following objects are masked from ‘package:dplyr’:\n",
      "\n",
      "    combine, intersect, setdiff, union\n",
      "\n",
      "\n"
     ]
    },
    {
     "name": "stderr",
     "output_type": "stream",
     "text": [
      "The following objects are masked from ‘package:stats’:\n",
      "\n",
      "    IQR, mad, sd, var, xtabs\n",
      "\n",
      "\n"
     ]
    },
    {
     "name": "stderr",
     "output_type": "stream",
     "text": [
      "The following objects are masked from ‘package:base’:\n",
      "\n",
      "    anyDuplicated, append, as.data.frame, basename, cbind, colnames,\n",
      "    dirname, do.call, duplicated, eval, evalq, Filter, Find, get, grep,\n",
      "    grepl, intersect, is.unsorted, lapply, Map, mapply, match, mget,\n",
      "    order, paste, pmax, pmax.int, pmin, pmin.int, Position, rank,\n",
      "    rbind, Reduce, rownames, sapply, setdiff, sort, table, tapply,\n",
      "    union, unique, unsplit, which.max, which.min\n",
      "\n",
      "\n"
     ]
    },
    {
     "name": "stderr",
     "output_type": "stream",
     "text": [
      "Loading required package: S4Vectors\n",
      "\n"
     ]
    },
    {
     "name": "stderr",
     "output_type": "stream",
     "text": [
      "Loading required package: stats4\n",
      "\n"
     ]
    },
    {
     "name": "stderr",
     "output_type": "stream",
     "text": [
      "\n",
      "Attaching package: ‘S4Vectors’\n",
      "\n",
      "\n"
     ]
    },
    {
     "name": "stderr",
     "output_type": "stream",
     "text": [
      "The following object is masked from ‘package:future’:\n",
      "\n",
      "    values\n",
      "\n",
      "\n"
     ]
    },
    {
     "name": "stderr",
     "output_type": "stream",
     "text": [
      "The following objects are masked from ‘package:dplyr’:\n",
      "\n",
      "    first, rename\n",
      "\n",
      "\n"
     ]
    },
    {
     "name": "stderr",
     "output_type": "stream",
     "text": [
      "The following objects are masked from ‘package:base’:\n",
      "\n",
      "    expand.grid, I, unname\n",
      "\n",
      "\n"
     ]
    },
    {
     "name": "stderr",
     "output_type": "stream",
     "text": [
      "Loading required package: IRanges\n",
      "\n"
     ]
    },
    {
     "name": "stderr",
     "output_type": "stream",
     "text": [
      "\n",
      "Attaching package: ‘IRanges’\n",
      "\n",
      "\n"
     ]
    },
    {
     "name": "stderr",
     "output_type": "stream",
     "text": [
      "The following objects are masked from ‘package:dplyr’:\n",
      "\n",
      "    collapse, desc, slice\n",
      "\n",
      "\n"
     ]
    },
    {
     "name": "stderr",
     "output_type": "stream",
     "text": [
      "Loading required package: GenomeInfoDb\n",
      "\n"
     ]
    },
    {
     "name": "stderr",
     "output_type": "stream",
     "text": [
      "Loading required package: GenomicRanges\n",
      "\n"
     ]
    },
    {
     "name": "stderr",
     "output_type": "stream",
     "text": [
      "Loading required package: Biostrings\n",
      "\n"
     ]
    },
    {
     "name": "stderr",
     "output_type": "stream",
     "text": [
      "Loading required package: XVector\n",
      "\n"
     ]
    },
    {
     "name": "stderr",
     "output_type": "stream",
     "text": [
      "\n",
      "Attaching package: ‘Biostrings’\n",
      "\n",
      "\n"
     ]
    },
    {
     "name": "stderr",
     "output_type": "stream",
     "text": [
      "The following object is masked from ‘package:grid’:\n",
      "\n",
      "    pattern\n",
      "\n",
      "\n"
     ]
    },
    {
     "name": "stderr",
     "output_type": "stream",
     "text": [
      "The following object is masked from ‘package:base’:\n",
      "\n",
      "    strsplit\n",
      "\n",
      "\n"
     ]
    },
    {
     "name": "stderr",
     "output_type": "stream",
     "text": [
      "Loading required package: rtracklayer\n",
      "\n"
     ]
    },
    {
     "name": "stderr",
     "output_type": "stream",
     "text": [
      "Building motif matrix\n",
      "\n"
     ]
    },
    {
     "name": "stderr",
     "output_type": "stream",
     "text": [
      "Finding motif positions\n",
      "\n"
     ]
    },
    {
     "name": "stderr",
     "output_type": "stream",
     "text": [
      "Creating Motif object\n",
      "\n"
     ]
    },
    {
     "name": "stderr",
     "output_type": "stream",
     "text": [
      "Computing GC bias per region\n",
      "\n"
     ]
    },
    {
     "name": "stderr",
     "output_type": "stream",
     "text": [
      "Selecting background regions\n",
      "\n"
     ]
    },
    {
     "name": "stderr",
     "output_type": "stream",
     "text": [
      "Computing deviations from background\n",
      "\n"
     ]
    },
    {
     "name": "stderr",
     "output_type": "stream",
     "text": [
      "Constructing chromVAR assay\n",
      "\n"
     ]
    }
   ],
   "source": [
    "# if (file.exists(file.path(outdir, \"se.chromvar.rds\"))){\n",
    "#     print(\"Loading se with chromvar\")\n",
    "#     se <- readRDS(file=file.path(outdir, \"se.chromvar.rds\"))    \n",
    "# }else{\n",
    "#     print(\"Running chromvar\")\n",
    "#     se = readRDS(se_f)\n",
    "# #     source(\"~/data/Projects/Mito_Trace/R_scripts/addPWM.R\")\n",
    "#     se <- get.pwm(se, genome=genome)\n",
    "#     saveRDS(object=se, file=file.path(outdir, \"se.chromvar.rds\"))    \n",
    "# }\n",
    "\n",
    "print(\"Running chromvar\")\n",
    "se = readRDS(se_f)\n",
    "se <- get.pwm(se, genome=genome)\n",
    "saveRDS(object=se, file=file.path(outdir, \"se.chromvar.rds\"))\n",
    "\n",
    "\n",
    "# cells.meta = se[[]]\n",
    "# cells.meta$name = paste0(cells.meta$donor,\"_\", cells.meta$lineage)\n",
    "# cells.meta$name = factor(cells.meta$name)\n",
    "# cells.meta\n",
    "\n",
    "\n",
    "# se <- AddMetaData(\n",
    "#   object = se,\n",
    "#   metadata = cells.meta[\"name\"],\n",
    "#   col.name = \"name\"\n",
    "# )\n",
    "# se[[]]"
   ]
  },
  {
   "cell_type": "code",
   "execution_count": 7,
   "id": "3f8f8c43",
   "metadata": {
    "execution": {
     "iopub.execute_input": "2021-12-03T21:21:50.575483Z",
     "iopub.status.busy": "2021-12-03T21:21:50.572473Z",
     "iopub.status.idle": "2021-12-03T21:21:50.723827Z",
     "shell.execute_reply": "2021-12-03T21:21:50.724405Z"
    },
    "papermill": {
     "duration": 0.263419,
     "end_time": "2021-12-03T21:21:50.724585",
     "exception": false,
     "start_time": "2021-12-03T21:21:50.461166",
     "status": "completed"
    },
    "scrolled": true,
    "tags": []
   },
   "outputs": [
    {
     "name": "stderr",
     "output_type": "stream",
     "text": [
      "`summarise()` has grouped output by 'condition', 'donor', 'lineage'. You can override using the `.groups` argument.\n",
      "\n"
     ]
    },
    {
     "data": {
      "text/html": [
       "<table class=\"dataframe\">\n",
       "<caption>A grouped_df: 158 × 5</caption>\n",
       "<thead>\n",
       "\t<tr><th scope=col>condition</th><th scope=col>donor</th><th scope=col>lineage</th><th scope=col>name</th><th scope=col>size</th></tr>\n",
       "\t<tr><th scope=col>&lt;fct&gt;</th><th scope=col>&lt;fct&gt;</th><th scope=col>&lt;fct&gt;</th><th scope=col>&lt;fct&gt;</th><th scope=col>&lt;int&gt;</th></tr>\n",
       "</thead>\n",
       "<tbody>\n",
       "\t<tr><td>Control</td><td>0</td><td>0 </td><td>0_0 </td><td> 8</td></tr>\n",
       "\t<tr><td>Control</td><td>0</td><td>1 </td><td>0_1 </td><td>25</td></tr>\n",
       "\t<tr><td>Control</td><td>0</td><td>2 </td><td>0_2 </td><td>10</td></tr>\n",
       "\t<tr><td>Control</td><td>0</td><td>3 </td><td>0_3 </td><td>27</td></tr>\n",
       "\t<tr><td>Control</td><td>0</td><td>4 </td><td>0_4 </td><td> 8</td></tr>\n",
       "\t<tr><td>Control</td><td>0</td><td>5 </td><td>0_5 </td><td>16</td></tr>\n",
       "\t<tr><td>Control</td><td>0</td><td>6 </td><td>0_6 </td><td> 1</td></tr>\n",
       "\t<tr><td>Control</td><td>0</td><td>7 </td><td>0_7 </td><td>18</td></tr>\n",
       "\t<tr><td>Control</td><td>0</td><td>8 </td><td>0_8 </td><td> 2</td></tr>\n",
       "\t<tr><td>Control</td><td>0</td><td>9 </td><td>0_9 </td><td> 3</td></tr>\n",
       "\t<tr><td>Control</td><td>0</td><td>10</td><td>0_10</td><td> 9</td></tr>\n",
       "\t<tr><td>Control</td><td>0</td><td>11</td><td>0_11</td><td> 1</td></tr>\n",
       "\t<tr><td>Control</td><td>0</td><td>12</td><td>0_12</td><td>14</td></tr>\n",
       "\t<tr><td>Control</td><td>0</td><td>13</td><td>0_13</td><td>19</td></tr>\n",
       "\t<tr><td>Control</td><td>0</td><td>14</td><td>0_14</td><td>22</td></tr>\n",
       "\t<tr><td>Control</td><td>0</td><td>15</td><td>0_15</td><td> 1</td></tr>\n",
       "\t<tr><td>Control</td><td>0</td><td>16</td><td>0_16</td><td>24</td></tr>\n",
       "\t<tr><td>Control</td><td>0</td><td>17</td><td>0_17</td><td>58</td></tr>\n",
       "\t<tr><td>Control</td><td>0</td><td>18</td><td>0_18</td><td>16</td></tr>\n",
       "\t<tr><td>Control</td><td>0</td><td>19</td><td>0_19</td><td>25</td></tr>\n",
       "\t<tr><td>Control</td><td>1</td><td>2 </td><td>1_2 </td><td> 3</td></tr>\n",
       "\t<tr><td>Control</td><td>1</td><td>3 </td><td>1_3 </td><td>41</td></tr>\n",
       "\t<tr><td>Control</td><td>1</td><td>4 </td><td>1_4 </td><td>10</td></tr>\n",
       "\t<tr><td>Control</td><td>1</td><td>5 </td><td>1_5 </td><td> 5</td></tr>\n",
       "\t<tr><td>Control</td><td>1</td><td>6 </td><td>1_6 </td><td>15</td></tr>\n",
       "\t<tr><td>Control</td><td>1</td><td>7 </td><td>1_7 </td><td> 2</td></tr>\n",
       "\t<tr><td>Control</td><td>1</td><td>8 </td><td>1_8 </td><td>17</td></tr>\n",
       "\t<tr><td>Control</td><td>1</td><td>9 </td><td>1_9 </td><td>10</td></tr>\n",
       "\t<tr><td>Control</td><td>1</td><td>10</td><td>1_10</td><td>43</td></tr>\n",
       "\t<tr><td>Control</td><td>1</td><td>11</td><td>1_11</td><td>25</td></tr>\n",
       "\t<tr><td>⋮</td><td>⋮</td><td>⋮</td><td>⋮</td><td>⋮</td></tr>\n",
       "\t<tr><td>Flt3l</td><td>2</td><td>10</td><td>2_10</td><td>27</td></tr>\n",
       "\t<tr><td>Flt3l</td><td>2</td><td>11</td><td>2_11</td><td>38</td></tr>\n",
       "\t<tr><td>Flt3l</td><td>2</td><td>12</td><td>2_12</td><td>23</td></tr>\n",
       "\t<tr><td>Flt3l</td><td>2</td><td>13</td><td>2_13</td><td>28</td></tr>\n",
       "\t<tr><td>Flt3l</td><td>2</td><td>14</td><td>2_14</td><td>18</td></tr>\n",
       "\t<tr><td>Flt3l</td><td>2</td><td>15</td><td>2_15</td><td>13</td></tr>\n",
       "\t<tr><td>Flt3l</td><td>2</td><td>16</td><td>2_16</td><td>25</td></tr>\n",
       "\t<tr><td>Flt3l</td><td>2</td><td>17</td><td>2_17</td><td>10</td></tr>\n",
       "\t<tr><td>Flt3l</td><td>2</td><td>18</td><td>2_18</td><td>15</td></tr>\n",
       "\t<tr><td>Flt3l</td><td>2</td><td>19</td><td>2_19</td><td>45</td></tr>\n",
       "\t<tr><td>Flt3l</td><td>3</td><td>0 </td><td>3_0 </td><td>43</td></tr>\n",
       "\t<tr><td>Flt3l</td><td>3</td><td>1 </td><td>3_1 </td><td>41</td></tr>\n",
       "\t<tr><td>Flt3l</td><td>3</td><td>2 </td><td>3_2 </td><td>28</td></tr>\n",
       "\t<tr><td>Flt3l</td><td>3</td><td>3 </td><td>3_3 </td><td>44</td></tr>\n",
       "\t<tr><td>Flt3l</td><td>3</td><td>4 </td><td>3_4 </td><td>54</td></tr>\n",
       "\t<tr><td>Flt3l</td><td>3</td><td>5 </td><td>3_5 </td><td> 4</td></tr>\n",
       "\t<tr><td>Flt3l</td><td>3</td><td>6 </td><td>3_6 </td><td>26</td></tr>\n",
       "\t<tr><td>Flt3l</td><td>3</td><td>7 </td><td>3_7 </td><td>89</td></tr>\n",
       "\t<tr><td>Flt3l</td><td>3</td><td>8 </td><td>3_8 </td><td>40</td></tr>\n",
       "\t<tr><td>Flt3l</td><td>3</td><td>9 </td><td>3_9 </td><td>37</td></tr>\n",
       "\t<tr><td>Flt3l</td><td>3</td><td>10</td><td>3_10</td><td>52</td></tr>\n",
       "\t<tr><td>Flt3l</td><td>3</td><td>11</td><td>3_11</td><td>44</td></tr>\n",
       "\t<tr><td>Flt3l</td><td>3</td><td>12</td><td>3_12</td><td>41</td></tr>\n",
       "\t<tr><td>Flt3l</td><td>3</td><td>13</td><td>3_13</td><td>46</td></tr>\n",
       "\t<tr><td>Flt3l</td><td>3</td><td>14</td><td>3_14</td><td>58</td></tr>\n",
       "\t<tr><td>Flt3l</td><td>3</td><td>15</td><td>3_15</td><td>30</td></tr>\n",
       "\t<tr><td>Flt3l</td><td>3</td><td>16</td><td>3_16</td><td>38</td></tr>\n",
       "\t<tr><td>Flt3l</td><td>3</td><td>17</td><td>3_17</td><td>33</td></tr>\n",
       "\t<tr><td>Flt3l</td><td>3</td><td>18</td><td>3_18</td><td>31</td></tr>\n",
       "\t<tr><td>Flt3l</td><td>3</td><td>19</td><td>3_19</td><td>16</td></tr>\n",
       "</tbody>\n",
       "</table>\n"
      ],
      "text/latex": [
       "A grouped\\_df: 158 × 5\n",
       "\\begin{tabular}{lllll}\n",
       " condition & donor & lineage & name & size\\\\\n",
       " <fct> & <fct> & <fct> & <fct> & <int>\\\\\n",
       "\\hline\n",
       "\t Control & 0 & 0  & 0\\_0  &  8\\\\\n",
       "\t Control & 0 & 1  & 0\\_1  & 25\\\\\n",
       "\t Control & 0 & 2  & 0\\_2  & 10\\\\\n",
       "\t Control & 0 & 3  & 0\\_3  & 27\\\\\n",
       "\t Control & 0 & 4  & 0\\_4  &  8\\\\\n",
       "\t Control & 0 & 5  & 0\\_5  & 16\\\\\n",
       "\t Control & 0 & 6  & 0\\_6  &  1\\\\\n",
       "\t Control & 0 & 7  & 0\\_7  & 18\\\\\n",
       "\t Control & 0 & 8  & 0\\_8  &  2\\\\\n",
       "\t Control & 0 & 9  & 0\\_9  &  3\\\\\n",
       "\t Control & 0 & 10 & 0\\_10 &  9\\\\\n",
       "\t Control & 0 & 11 & 0\\_11 &  1\\\\\n",
       "\t Control & 0 & 12 & 0\\_12 & 14\\\\\n",
       "\t Control & 0 & 13 & 0\\_13 & 19\\\\\n",
       "\t Control & 0 & 14 & 0\\_14 & 22\\\\\n",
       "\t Control & 0 & 15 & 0\\_15 &  1\\\\\n",
       "\t Control & 0 & 16 & 0\\_16 & 24\\\\\n",
       "\t Control & 0 & 17 & 0\\_17 & 58\\\\\n",
       "\t Control & 0 & 18 & 0\\_18 & 16\\\\\n",
       "\t Control & 0 & 19 & 0\\_19 & 25\\\\\n",
       "\t Control & 1 & 2  & 1\\_2  &  3\\\\\n",
       "\t Control & 1 & 3  & 1\\_3  & 41\\\\\n",
       "\t Control & 1 & 4  & 1\\_4  & 10\\\\\n",
       "\t Control & 1 & 5  & 1\\_5  &  5\\\\\n",
       "\t Control & 1 & 6  & 1\\_6  & 15\\\\\n",
       "\t Control & 1 & 7  & 1\\_7  &  2\\\\\n",
       "\t Control & 1 & 8  & 1\\_8  & 17\\\\\n",
       "\t Control & 1 & 9  & 1\\_9  & 10\\\\\n",
       "\t Control & 1 & 10 & 1\\_10 & 43\\\\\n",
       "\t Control & 1 & 11 & 1\\_11 & 25\\\\\n",
       "\t ⋮ & ⋮ & ⋮ & ⋮ & ⋮\\\\\n",
       "\t Flt3l & 2 & 10 & 2\\_10 & 27\\\\\n",
       "\t Flt3l & 2 & 11 & 2\\_11 & 38\\\\\n",
       "\t Flt3l & 2 & 12 & 2\\_12 & 23\\\\\n",
       "\t Flt3l & 2 & 13 & 2\\_13 & 28\\\\\n",
       "\t Flt3l & 2 & 14 & 2\\_14 & 18\\\\\n",
       "\t Flt3l & 2 & 15 & 2\\_15 & 13\\\\\n",
       "\t Flt3l & 2 & 16 & 2\\_16 & 25\\\\\n",
       "\t Flt3l & 2 & 17 & 2\\_17 & 10\\\\\n",
       "\t Flt3l & 2 & 18 & 2\\_18 & 15\\\\\n",
       "\t Flt3l & 2 & 19 & 2\\_19 & 45\\\\\n",
       "\t Flt3l & 3 & 0  & 3\\_0  & 43\\\\\n",
       "\t Flt3l & 3 & 1  & 3\\_1  & 41\\\\\n",
       "\t Flt3l & 3 & 2  & 3\\_2  & 28\\\\\n",
       "\t Flt3l & 3 & 3  & 3\\_3  & 44\\\\\n",
       "\t Flt3l & 3 & 4  & 3\\_4  & 54\\\\\n",
       "\t Flt3l & 3 & 5  & 3\\_5  &  4\\\\\n",
       "\t Flt3l & 3 & 6  & 3\\_6  & 26\\\\\n",
       "\t Flt3l & 3 & 7  & 3\\_7  & 89\\\\\n",
       "\t Flt3l & 3 & 8  & 3\\_8  & 40\\\\\n",
       "\t Flt3l & 3 & 9  & 3\\_9  & 37\\\\\n",
       "\t Flt3l & 3 & 10 & 3\\_10 & 52\\\\\n",
       "\t Flt3l & 3 & 11 & 3\\_11 & 44\\\\\n",
       "\t Flt3l & 3 & 12 & 3\\_12 & 41\\\\\n",
       "\t Flt3l & 3 & 13 & 3\\_13 & 46\\\\\n",
       "\t Flt3l & 3 & 14 & 3\\_14 & 58\\\\\n",
       "\t Flt3l & 3 & 15 & 3\\_15 & 30\\\\\n",
       "\t Flt3l & 3 & 16 & 3\\_16 & 38\\\\\n",
       "\t Flt3l & 3 & 17 & 3\\_17 & 33\\\\\n",
       "\t Flt3l & 3 & 18 & 3\\_18 & 31\\\\\n",
       "\t Flt3l & 3 & 19 & 3\\_19 & 16\\\\\n",
       "\\end{tabular}\n"
      ],
      "text/markdown": [
       "\n",
       "A grouped_df: 158 × 5\n",
       "\n",
       "| condition &lt;fct&gt; | donor &lt;fct&gt; | lineage &lt;fct&gt; | name &lt;fct&gt; | size &lt;int&gt; |\n",
       "|---|---|---|---|---|\n",
       "| Control | 0 | 0  | 0_0  |  8 |\n",
       "| Control | 0 | 1  | 0_1  | 25 |\n",
       "| Control | 0 | 2  | 0_2  | 10 |\n",
       "| Control | 0 | 3  | 0_3  | 27 |\n",
       "| Control | 0 | 4  | 0_4  |  8 |\n",
       "| Control | 0 | 5  | 0_5  | 16 |\n",
       "| Control | 0 | 6  | 0_6  |  1 |\n",
       "| Control | 0 | 7  | 0_7  | 18 |\n",
       "| Control | 0 | 8  | 0_8  |  2 |\n",
       "| Control | 0 | 9  | 0_9  |  3 |\n",
       "| Control | 0 | 10 | 0_10 |  9 |\n",
       "| Control | 0 | 11 | 0_11 |  1 |\n",
       "| Control | 0 | 12 | 0_12 | 14 |\n",
       "| Control | 0 | 13 | 0_13 | 19 |\n",
       "| Control | 0 | 14 | 0_14 | 22 |\n",
       "| Control | 0 | 15 | 0_15 |  1 |\n",
       "| Control | 0 | 16 | 0_16 | 24 |\n",
       "| Control | 0 | 17 | 0_17 | 58 |\n",
       "| Control | 0 | 18 | 0_18 | 16 |\n",
       "| Control | 0 | 19 | 0_19 | 25 |\n",
       "| Control | 1 | 2  | 1_2  |  3 |\n",
       "| Control | 1 | 3  | 1_3  | 41 |\n",
       "| Control | 1 | 4  | 1_4  | 10 |\n",
       "| Control | 1 | 5  | 1_5  |  5 |\n",
       "| Control | 1 | 6  | 1_6  | 15 |\n",
       "| Control | 1 | 7  | 1_7  |  2 |\n",
       "| Control | 1 | 8  | 1_8  | 17 |\n",
       "| Control | 1 | 9  | 1_9  | 10 |\n",
       "| Control | 1 | 10 | 1_10 | 43 |\n",
       "| Control | 1 | 11 | 1_11 | 25 |\n",
       "| ⋮ | ⋮ | ⋮ | ⋮ | ⋮ |\n",
       "| Flt3l | 2 | 10 | 2_10 | 27 |\n",
       "| Flt3l | 2 | 11 | 2_11 | 38 |\n",
       "| Flt3l | 2 | 12 | 2_12 | 23 |\n",
       "| Flt3l | 2 | 13 | 2_13 | 28 |\n",
       "| Flt3l | 2 | 14 | 2_14 | 18 |\n",
       "| Flt3l | 2 | 15 | 2_15 | 13 |\n",
       "| Flt3l | 2 | 16 | 2_16 | 25 |\n",
       "| Flt3l | 2 | 17 | 2_17 | 10 |\n",
       "| Flt3l | 2 | 18 | 2_18 | 15 |\n",
       "| Flt3l | 2 | 19 | 2_19 | 45 |\n",
       "| Flt3l | 3 | 0  | 3_0  | 43 |\n",
       "| Flt3l | 3 | 1  | 3_1  | 41 |\n",
       "| Flt3l | 3 | 2  | 3_2  | 28 |\n",
       "| Flt3l | 3 | 3  | 3_3  | 44 |\n",
       "| Flt3l | 3 | 4  | 3_4  | 54 |\n",
       "| Flt3l | 3 | 5  | 3_5  |  4 |\n",
       "| Flt3l | 3 | 6  | 3_6  | 26 |\n",
       "| Flt3l | 3 | 7  | 3_7  | 89 |\n",
       "| Flt3l | 3 | 8  | 3_8  | 40 |\n",
       "| Flt3l | 3 | 9  | 3_9  | 37 |\n",
       "| Flt3l | 3 | 10 | 3_10 | 52 |\n",
       "| Flt3l | 3 | 11 | 3_11 | 44 |\n",
       "| Flt3l | 3 | 12 | 3_12 | 41 |\n",
       "| Flt3l | 3 | 13 | 3_13 | 46 |\n",
       "| Flt3l | 3 | 14 | 3_14 | 58 |\n",
       "| Flt3l | 3 | 15 | 3_15 | 30 |\n",
       "| Flt3l | 3 | 16 | 3_16 | 38 |\n",
       "| Flt3l | 3 | 17 | 3_17 | 33 |\n",
       "| Flt3l | 3 | 18 | 3_18 | 31 |\n",
       "| Flt3l | 3 | 19 | 3_19 | 16 |\n",
       "\n"
      ],
      "text/plain": [
       "    condition donor lineage name size\n",
       "1   Control   0     0       0_0   8  \n",
       "2   Control   0     1       0_1  25  \n",
       "3   Control   0     2       0_2  10  \n",
       "4   Control   0     3       0_3  27  \n",
       "5   Control   0     4       0_4   8  \n",
       "6   Control   0     5       0_5  16  \n",
       "7   Control   0     6       0_6   1  \n",
       "8   Control   0     7       0_7  18  \n",
       "9   Control   0     8       0_8   2  \n",
       "10  Control   0     9       0_9   3  \n",
       "11  Control   0     10      0_10  9  \n",
       "12  Control   0     11      0_11  1  \n",
       "13  Control   0     12      0_12 14  \n",
       "14  Control   0     13      0_13 19  \n",
       "15  Control   0     14      0_14 22  \n",
       "16  Control   0     15      0_15  1  \n",
       "17  Control   0     16      0_16 24  \n",
       "18  Control   0     17      0_17 58  \n",
       "19  Control   0     18      0_18 16  \n",
       "20  Control   0     19      0_19 25  \n",
       "21  Control   1     2       1_2   3  \n",
       "22  Control   1     3       1_3  41  \n",
       "23  Control   1     4       1_4  10  \n",
       "24  Control   1     5       1_5   5  \n",
       "25  Control   1     6       1_6  15  \n",
       "26  Control   1     7       1_7   2  \n",
       "27  Control   1     8       1_8  17  \n",
       "28  Control   1     9       1_9  10  \n",
       "29  Control   1     10      1_10 43  \n",
       "30  Control   1     11      1_11 25  \n",
       "⋮   ⋮         ⋮     ⋮       ⋮    ⋮   \n",
       "129 Flt3l     2     10      2_10 27  \n",
       "130 Flt3l     2     11      2_11 38  \n",
       "131 Flt3l     2     12      2_12 23  \n",
       "132 Flt3l     2     13      2_13 28  \n",
       "133 Flt3l     2     14      2_14 18  \n",
       "134 Flt3l     2     15      2_15 13  \n",
       "135 Flt3l     2     16      2_16 25  \n",
       "136 Flt3l     2     17      2_17 10  \n",
       "137 Flt3l     2     18      2_18 15  \n",
       "138 Flt3l     2     19      2_19 45  \n",
       "139 Flt3l     3     0       3_0  43  \n",
       "140 Flt3l     3     1       3_1  41  \n",
       "141 Flt3l     3     2       3_2  28  \n",
       "142 Flt3l     3     3       3_3  44  \n",
       "143 Flt3l     3     4       3_4  54  \n",
       "144 Flt3l     3     5       3_5   4  \n",
       "145 Flt3l     3     6       3_6  26  \n",
       "146 Flt3l     3     7       3_7  89  \n",
       "147 Flt3l     3     8       3_8  40  \n",
       "148 Flt3l     3     9       3_9  37  \n",
       "149 Flt3l     3     10      3_10 52  \n",
       "150 Flt3l     3     11      3_11 44  \n",
       "151 Flt3l     3     12      3_12 41  \n",
       "152 Flt3l     3     13      3_13 46  \n",
       "153 Flt3l     3     14      3_14 58  \n",
       "154 Flt3l     3     15      3_15 30  \n",
       "155 Flt3l     3     16      3_16 38  \n",
       "156 Flt3l     3     17      3_17 33  \n",
       "157 Flt3l     3     18      3_18 31  \n",
       "158 Flt3l     3     19      3_19 16  "
      ]
     },
     "metadata": {},
     "output_type": "display_data"
    }
   ],
   "source": [
    "counts <- se[[]] %>%\n",
    "          group_by(condition, donor, lineage, name) %>%\n",
    "          summarize(size=n()) %>% filter(!name==\"None\")\n",
    "counts"
   ]
  },
  {
   "cell_type": "code",
   "execution_count": 8,
   "id": "c042aa55",
   "metadata": {
    "execution": {
     "iopub.execute_input": "2021-12-03T21:21:50.937583Z",
     "iopub.status.busy": "2021-12-03T21:21:50.934730Z",
     "iopub.status.idle": "2021-12-03T21:21:51.042775Z",
     "shell.execute_reply": "2021-12-03T21:21:51.043721Z"
    },
    "papermill": {
     "duration": 0.213179,
     "end_time": "2021-12-03T21:21:51.044066",
     "exception": false,
     "start_time": "2021-12-03T21:21:50.830887",
     "status": "completed"
    },
    "scrolled": true,
    "tags": []
   },
   "outputs": [
    {
     "data": {
      "text/html": [
       "<table class=\"dataframe\">\n",
       "<caption>A tibble: 158 × 7</caption>\n",
       "<thead>\n",
       "\t<tr><th scope=col>condition</th><th scope=col>donor</th><th scope=col>lineage</th><th scope=col>name</th><th scope=col>size</th><th scope=col>total</th><th scope=col>norm</th></tr>\n",
       "\t<tr><th scope=col>&lt;fct&gt;</th><th scope=col>&lt;fct&gt;</th><th scope=col>&lt;fct&gt;</th><th scope=col>&lt;fct&gt;</th><th scope=col>&lt;int&gt;</th><th scope=col>&lt;int&gt;</th><th scope=col>&lt;dbl&gt;</th></tr>\n",
       "</thead>\n",
       "<tbody>\n",
       "\t<tr><td>Control</td><td>0</td><td>0 </td><td>0_0 </td><td> 8</td><td>307</td><td>0.026058632</td></tr>\n",
       "\t<tr><td>Control</td><td>0</td><td>1 </td><td>0_1 </td><td>25</td><td>307</td><td>0.081433225</td></tr>\n",
       "\t<tr><td>Control</td><td>0</td><td>2 </td><td>0_2 </td><td>10</td><td>307</td><td>0.032573290</td></tr>\n",
       "\t<tr><td>Control</td><td>0</td><td>3 </td><td>0_3 </td><td>27</td><td>307</td><td>0.087947883</td></tr>\n",
       "\t<tr><td>Control</td><td>0</td><td>4 </td><td>0_4 </td><td> 8</td><td>307</td><td>0.026058632</td></tr>\n",
       "\t<tr><td>Control</td><td>0</td><td>5 </td><td>0_5 </td><td>16</td><td>307</td><td>0.052117264</td></tr>\n",
       "\t<tr><td>Control</td><td>0</td><td>6 </td><td>0_6 </td><td> 1</td><td>307</td><td>0.003257329</td></tr>\n",
       "\t<tr><td>Control</td><td>0</td><td>7 </td><td>0_7 </td><td>18</td><td>307</td><td>0.058631922</td></tr>\n",
       "\t<tr><td>Control</td><td>0</td><td>8 </td><td>0_8 </td><td> 2</td><td>307</td><td>0.006514658</td></tr>\n",
       "\t<tr><td>Control</td><td>0</td><td>9 </td><td>0_9 </td><td> 3</td><td>307</td><td>0.009771987</td></tr>\n",
       "\t<tr><td>Control</td><td>0</td><td>10</td><td>0_10</td><td> 9</td><td>307</td><td>0.029315961</td></tr>\n",
       "\t<tr><td>Control</td><td>0</td><td>11</td><td>0_11</td><td> 1</td><td>307</td><td>0.003257329</td></tr>\n",
       "\t<tr><td>Control</td><td>0</td><td>12</td><td>0_12</td><td>14</td><td>307</td><td>0.045602606</td></tr>\n",
       "\t<tr><td>Control</td><td>0</td><td>13</td><td>0_13</td><td>19</td><td>307</td><td>0.061889251</td></tr>\n",
       "\t<tr><td>Control</td><td>0</td><td>14</td><td>0_14</td><td>22</td><td>307</td><td>0.071661238</td></tr>\n",
       "\t<tr><td>Control</td><td>0</td><td>15</td><td>0_15</td><td> 1</td><td>307</td><td>0.003257329</td></tr>\n",
       "\t<tr><td>Control</td><td>0</td><td>16</td><td>0_16</td><td>24</td><td>307</td><td>0.078175896</td></tr>\n",
       "\t<tr><td>Control</td><td>0</td><td>17</td><td>0_17</td><td>58</td><td>307</td><td>0.188925081</td></tr>\n",
       "\t<tr><td>Control</td><td>0</td><td>18</td><td>0_18</td><td>16</td><td>307</td><td>0.052117264</td></tr>\n",
       "\t<tr><td>Control</td><td>0</td><td>19</td><td>0_19</td><td>25</td><td>307</td><td>0.081433225</td></tr>\n",
       "\t<tr><td>Control</td><td>1</td><td>2 </td><td>1_2 </td><td> 3</td><td>271</td><td>0.011070111</td></tr>\n",
       "\t<tr><td>Control</td><td>1</td><td>3 </td><td>1_3 </td><td>41</td><td>271</td><td>0.151291513</td></tr>\n",
       "\t<tr><td>Control</td><td>1</td><td>4 </td><td>1_4 </td><td>10</td><td>271</td><td>0.036900369</td></tr>\n",
       "\t<tr><td>Control</td><td>1</td><td>5 </td><td>1_5 </td><td> 5</td><td>271</td><td>0.018450185</td></tr>\n",
       "\t<tr><td>Control</td><td>1</td><td>6 </td><td>1_6 </td><td>15</td><td>271</td><td>0.055350554</td></tr>\n",
       "\t<tr><td>Control</td><td>1</td><td>7 </td><td>1_7 </td><td> 2</td><td>271</td><td>0.007380074</td></tr>\n",
       "\t<tr><td>Control</td><td>1</td><td>8 </td><td>1_8 </td><td>17</td><td>271</td><td>0.062730627</td></tr>\n",
       "\t<tr><td>Control</td><td>1</td><td>9 </td><td>1_9 </td><td>10</td><td>271</td><td>0.036900369</td></tr>\n",
       "\t<tr><td>Control</td><td>1</td><td>10</td><td>1_10</td><td>43</td><td>271</td><td>0.158671587</td></tr>\n",
       "\t<tr><td>Control</td><td>1</td><td>11</td><td>1_11</td><td>25</td><td>271</td><td>0.092250923</td></tr>\n",
       "\t<tr><td>⋮</td><td>⋮</td><td>⋮</td><td>⋮</td><td>⋮</td><td>⋮</td><td>⋮</td></tr>\n",
       "\t<tr><td>Flt3l</td><td>2</td><td>10</td><td>2_10</td><td>27</td><td>443</td><td>0.060948081</td></tr>\n",
       "\t<tr><td>Flt3l</td><td>2</td><td>11</td><td>2_11</td><td>38</td><td>443</td><td>0.085778781</td></tr>\n",
       "\t<tr><td>Flt3l</td><td>2</td><td>12</td><td>2_12</td><td>23</td><td>443</td><td>0.051918736</td></tr>\n",
       "\t<tr><td>Flt3l</td><td>2</td><td>13</td><td>2_13</td><td>28</td><td>443</td><td>0.063205418</td></tr>\n",
       "\t<tr><td>Flt3l</td><td>2</td><td>14</td><td>2_14</td><td>18</td><td>443</td><td>0.040632054</td></tr>\n",
       "\t<tr><td>Flt3l</td><td>2</td><td>15</td><td>2_15</td><td>13</td><td>443</td><td>0.029345372</td></tr>\n",
       "\t<tr><td>Flt3l</td><td>2</td><td>16</td><td>2_16</td><td>25</td><td>443</td><td>0.056433409</td></tr>\n",
       "\t<tr><td>Flt3l</td><td>2</td><td>17</td><td>2_17</td><td>10</td><td>443</td><td>0.022573363</td></tr>\n",
       "\t<tr><td>Flt3l</td><td>2</td><td>18</td><td>2_18</td><td>15</td><td>443</td><td>0.033860045</td></tr>\n",
       "\t<tr><td>Flt3l</td><td>2</td><td>19</td><td>2_19</td><td>45</td><td>443</td><td>0.101580135</td></tr>\n",
       "\t<tr><td>Flt3l</td><td>3</td><td>0 </td><td>3_0 </td><td>43</td><td>795</td><td>0.054088050</td></tr>\n",
       "\t<tr><td>Flt3l</td><td>3</td><td>1 </td><td>3_1 </td><td>41</td><td>795</td><td>0.051572327</td></tr>\n",
       "\t<tr><td>Flt3l</td><td>3</td><td>2 </td><td>3_2 </td><td>28</td><td>795</td><td>0.035220126</td></tr>\n",
       "\t<tr><td>Flt3l</td><td>3</td><td>3 </td><td>3_3 </td><td>44</td><td>795</td><td>0.055345912</td></tr>\n",
       "\t<tr><td>Flt3l</td><td>3</td><td>4 </td><td>3_4 </td><td>54</td><td>795</td><td>0.067924528</td></tr>\n",
       "\t<tr><td>Flt3l</td><td>3</td><td>5 </td><td>3_5 </td><td> 4</td><td>795</td><td>0.005031447</td></tr>\n",
       "\t<tr><td>Flt3l</td><td>3</td><td>6 </td><td>3_6 </td><td>26</td><td>795</td><td>0.032704403</td></tr>\n",
       "\t<tr><td>Flt3l</td><td>3</td><td>7 </td><td>3_7 </td><td>89</td><td>795</td><td>0.111949686</td></tr>\n",
       "\t<tr><td>Flt3l</td><td>3</td><td>8 </td><td>3_8 </td><td>40</td><td>795</td><td>0.050314465</td></tr>\n",
       "\t<tr><td>Flt3l</td><td>3</td><td>9 </td><td>3_9 </td><td>37</td><td>795</td><td>0.046540881</td></tr>\n",
       "\t<tr><td>Flt3l</td><td>3</td><td>10</td><td>3_10</td><td>52</td><td>795</td><td>0.065408805</td></tr>\n",
       "\t<tr><td>Flt3l</td><td>3</td><td>11</td><td>3_11</td><td>44</td><td>795</td><td>0.055345912</td></tr>\n",
       "\t<tr><td>Flt3l</td><td>3</td><td>12</td><td>3_12</td><td>41</td><td>795</td><td>0.051572327</td></tr>\n",
       "\t<tr><td>Flt3l</td><td>3</td><td>13</td><td>3_13</td><td>46</td><td>795</td><td>0.057861635</td></tr>\n",
       "\t<tr><td>Flt3l</td><td>3</td><td>14</td><td>3_14</td><td>58</td><td>795</td><td>0.072955975</td></tr>\n",
       "\t<tr><td>Flt3l</td><td>3</td><td>15</td><td>3_15</td><td>30</td><td>795</td><td>0.037735849</td></tr>\n",
       "\t<tr><td>Flt3l</td><td>3</td><td>16</td><td>3_16</td><td>38</td><td>795</td><td>0.047798742</td></tr>\n",
       "\t<tr><td>Flt3l</td><td>3</td><td>17</td><td>3_17</td><td>33</td><td>795</td><td>0.041509434</td></tr>\n",
       "\t<tr><td>Flt3l</td><td>3</td><td>18</td><td>3_18</td><td>31</td><td>795</td><td>0.038993711</td></tr>\n",
       "\t<tr><td>Flt3l</td><td>3</td><td>19</td><td>3_19</td><td>16</td><td>795</td><td>0.020125786</td></tr>\n",
       "</tbody>\n",
       "</table>\n"
      ],
      "text/latex": [
       "A tibble: 158 × 7\n",
       "\\begin{tabular}{lllllll}\n",
       " condition & donor & lineage & name & size & total & norm\\\\\n",
       " <fct> & <fct> & <fct> & <fct> & <int> & <int> & <dbl>\\\\\n",
       "\\hline\n",
       "\t Control & 0 & 0  & 0\\_0  &  8 & 307 & 0.026058632\\\\\n",
       "\t Control & 0 & 1  & 0\\_1  & 25 & 307 & 0.081433225\\\\\n",
       "\t Control & 0 & 2  & 0\\_2  & 10 & 307 & 0.032573290\\\\\n",
       "\t Control & 0 & 3  & 0\\_3  & 27 & 307 & 0.087947883\\\\\n",
       "\t Control & 0 & 4  & 0\\_4  &  8 & 307 & 0.026058632\\\\\n",
       "\t Control & 0 & 5  & 0\\_5  & 16 & 307 & 0.052117264\\\\\n",
       "\t Control & 0 & 6  & 0\\_6  &  1 & 307 & 0.003257329\\\\\n",
       "\t Control & 0 & 7  & 0\\_7  & 18 & 307 & 0.058631922\\\\\n",
       "\t Control & 0 & 8  & 0\\_8  &  2 & 307 & 0.006514658\\\\\n",
       "\t Control & 0 & 9  & 0\\_9  &  3 & 307 & 0.009771987\\\\\n",
       "\t Control & 0 & 10 & 0\\_10 &  9 & 307 & 0.029315961\\\\\n",
       "\t Control & 0 & 11 & 0\\_11 &  1 & 307 & 0.003257329\\\\\n",
       "\t Control & 0 & 12 & 0\\_12 & 14 & 307 & 0.045602606\\\\\n",
       "\t Control & 0 & 13 & 0\\_13 & 19 & 307 & 0.061889251\\\\\n",
       "\t Control & 0 & 14 & 0\\_14 & 22 & 307 & 0.071661238\\\\\n",
       "\t Control & 0 & 15 & 0\\_15 &  1 & 307 & 0.003257329\\\\\n",
       "\t Control & 0 & 16 & 0\\_16 & 24 & 307 & 0.078175896\\\\\n",
       "\t Control & 0 & 17 & 0\\_17 & 58 & 307 & 0.188925081\\\\\n",
       "\t Control & 0 & 18 & 0\\_18 & 16 & 307 & 0.052117264\\\\\n",
       "\t Control & 0 & 19 & 0\\_19 & 25 & 307 & 0.081433225\\\\\n",
       "\t Control & 1 & 2  & 1\\_2  &  3 & 271 & 0.011070111\\\\\n",
       "\t Control & 1 & 3  & 1\\_3  & 41 & 271 & 0.151291513\\\\\n",
       "\t Control & 1 & 4  & 1\\_4  & 10 & 271 & 0.036900369\\\\\n",
       "\t Control & 1 & 5  & 1\\_5  &  5 & 271 & 0.018450185\\\\\n",
       "\t Control & 1 & 6  & 1\\_6  & 15 & 271 & 0.055350554\\\\\n",
       "\t Control & 1 & 7  & 1\\_7  &  2 & 271 & 0.007380074\\\\\n",
       "\t Control & 1 & 8  & 1\\_8  & 17 & 271 & 0.062730627\\\\\n",
       "\t Control & 1 & 9  & 1\\_9  & 10 & 271 & 0.036900369\\\\\n",
       "\t Control & 1 & 10 & 1\\_10 & 43 & 271 & 0.158671587\\\\\n",
       "\t Control & 1 & 11 & 1\\_11 & 25 & 271 & 0.092250923\\\\\n",
       "\t ⋮ & ⋮ & ⋮ & ⋮ & ⋮ & ⋮ & ⋮\\\\\n",
       "\t Flt3l & 2 & 10 & 2\\_10 & 27 & 443 & 0.060948081\\\\\n",
       "\t Flt3l & 2 & 11 & 2\\_11 & 38 & 443 & 0.085778781\\\\\n",
       "\t Flt3l & 2 & 12 & 2\\_12 & 23 & 443 & 0.051918736\\\\\n",
       "\t Flt3l & 2 & 13 & 2\\_13 & 28 & 443 & 0.063205418\\\\\n",
       "\t Flt3l & 2 & 14 & 2\\_14 & 18 & 443 & 0.040632054\\\\\n",
       "\t Flt3l & 2 & 15 & 2\\_15 & 13 & 443 & 0.029345372\\\\\n",
       "\t Flt3l & 2 & 16 & 2\\_16 & 25 & 443 & 0.056433409\\\\\n",
       "\t Flt3l & 2 & 17 & 2\\_17 & 10 & 443 & 0.022573363\\\\\n",
       "\t Flt3l & 2 & 18 & 2\\_18 & 15 & 443 & 0.033860045\\\\\n",
       "\t Flt3l & 2 & 19 & 2\\_19 & 45 & 443 & 0.101580135\\\\\n",
       "\t Flt3l & 3 & 0  & 3\\_0  & 43 & 795 & 0.054088050\\\\\n",
       "\t Flt3l & 3 & 1  & 3\\_1  & 41 & 795 & 0.051572327\\\\\n",
       "\t Flt3l & 3 & 2  & 3\\_2  & 28 & 795 & 0.035220126\\\\\n",
       "\t Flt3l & 3 & 3  & 3\\_3  & 44 & 795 & 0.055345912\\\\\n",
       "\t Flt3l & 3 & 4  & 3\\_4  & 54 & 795 & 0.067924528\\\\\n",
       "\t Flt3l & 3 & 5  & 3\\_5  &  4 & 795 & 0.005031447\\\\\n",
       "\t Flt3l & 3 & 6  & 3\\_6  & 26 & 795 & 0.032704403\\\\\n",
       "\t Flt3l & 3 & 7  & 3\\_7  & 89 & 795 & 0.111949686\\\\\n",
       "\t Flt3l & 3 & 8  & 3\\_8  & 40 & 795 & 0.050314465\\\\\n",
       "\t Flt3l & 3 & 9  & 3\\_9  & 37 & 795 & 0.046540881\\\\\n",
       "\t Flt3l & 3 & 10 & 3\\_10 & 52 & 795 & 0.065408805\\\\\n",
       "\t Flt3l & 3 & 11 & 3\\_11 & 44 & 795 & 0.055345912\\\\\n",
       "\t Flt3l & 3 & 12 & 3\\_12 & 41 & 795 & 0.051572327\\\\\n",
       "\t Flt3l & 3 & 13 & 3\\_13 & 46 & 795 & 0.057861635\\\\\n",
       "\t Flt3l & 3 & 14 & 3\\_14 & 58 & 795 & 0.072955975\\\\\n",
       "\t Flt3l & 3 & 15 & 3\\_15 & 30 & 795 & 0.037735849\\\\\n",
       "\t Flt3l & 3 & 16 & 3\\_16 & 38 & 795 & 0.047798742\\\\\n",
       "\t Flt3l & 3 & 17 & 3\\_17 & 33 & 795 & 0.041509434\\\\\n",
       "\t Flt3l & 3 & 18 & 3\\_18 & 31 & 795 & 0.038993711\\\\\n",
       "\t Flt3l & 3 & 19 & 3\\_19 & 16 & 795 & 0.020125786\\\\\n",
       "\\end{tabular}\n"
      ],
      "text/markdown": [
       "\n",
       "A tibble: 158 × 7\n",
       "\n",
       "| condition &lt;fct&gt; | donor &lt;fct&gt; | lineage &lt;fct&gt; | name &lt;fct&gt; | size &lt;int&gt; | total &lt;int&gt; | norm &lt;dbl&gt; |\n",
       "|---|---|---|---|---|---|---|\n",
       "| Control | 0 | 0  | 0_0  |  8 | 307 | 0.026058632 |\n",
       "| Control | 0 | 1  | 0_1  | 25 | 307 | 0.081433225 |\n",
       "| Control | 0 | 2  | 0_2  | 10 | 307 | 0.032573290 |\n",
       "| Control | 0 | 3  | 0_3  | 27 | 307 | 0.087947883 |\n",
       "| Control | 0 | 4  | 0_4  |  8 | 307 | 0.026058632 |\n",
       "| Control | 0 | 5  | 0_5  | 16 | 307 | 0.052117264 |\n",
       "| Control | 0 | 6  | 0_6  |  1 | 307 | 0.003257329 |\n",
       "| Control | 0 | 7  | 0_7  | 18 | 307 | 0.058631922 |\n",
       "| Control | 0 | 8  | 0_8  |  2 | 307 | 0.006514658 |\n",
       "| Control | 0 | 9  | 0_9  |  3 | 307 | 0.009771987 |\n",
       "| Control | 0 | 10 | 0_10 |  9 | 307 | 0.029315961 |\n",
       "| Control | 0 | 11 | 0_11 |  1 | 307 | 0.003257329 |\n",
       "| Control | 0 | 12 | 0_12 | 14 | 307 | 0.045602606 |\n",
       "| Control | 0 | 13 | 0_13 | 19 | 307 | 0.061889251 |\n",
       "| Control | 0 | 14 | 0_14 | 22 | 307 | 0.071661238 |\n",
       "| Control | 0 | 15 | 0_15 |  1 | 307 | 0.003257329 |\n",
       "| Control | 0 | 16 | 0_16 | 24 | 307 | 0.078175896 |\n",
       "| Control | 0 | 17 | 0_17 | 58 | 307 | 0.188925081 |\n",
       "| Control | 0 | 18 | 0_18 | 16 | 307 | 0.052117264 |\n",
       "| Control | 0 | 19 | 0_19 | 25 | 307 | 0.081433225 |\n",
       "| Control | 1 | 2  | 1_2  |  3 | 271 | 0.011070111 |\n",
       "| Control | 1 | 3  | 1_3  | 41 | 271 | 0.151291513 |\n",
       "| Control | 1 | 4  | 1_4  | 10 | 271 | 0.036900369 |\n",
       "| Control | 1 | 5  | 1_5  |  5 | 271 | 0.018450185 |\n",
       "| Control | 1 | 6  | 1_6  | 15 | 271 | 0.055350554 |\n",
       "| Control | 1 | 7  | 1_7  |  2 | 271 | 0.007380074 |\n",
       "| Control | 1 | 8  | 1_8  | 17 | 271 | 0.062730627 |\n",
       "| Control | 1 | 9  | 1_9  | 10 | 271 | 0.036900369 |\n",
       "| Control | 1 | 10 | 1_10 | 43 | 271 | 0.158671587 |\n",
       "| Control | 1 | 11 | 1_11 | 25 | 271 | 0.092250923 |\n",
       "| ⋮ | ⋮ | ⋮ | ⋮ | ⋮ | ⋮ | ⋮ |\n",
       "| Flt3l | 2 | 10 | 2_10 | 27 | 443 | 0.060948081 |\n",
       "| Flt3l | 2 | 11 | 2_11 | 38 | 443 | 0.085778781 |\n",
       "| Flt3l | 2 | 12 | 2_12 | 23 | 443 | 0.051918736 |\n",
       "| Flt3l | 2 | 13 | 2_13 | 28 | 443 | 0.063205418 |\n",
       "| Flt3l | 2 | 14 | 2_14 | 18 | 443 | 0.040632054 |\n",
       "| Flt3l | 2 | 15 | 2_15 | 13 | 443 | 0.029345372 |\n",
       "| Flt3l | 2 | 16 | 2_16 | 25 | 443 | 0.056433409 |\n",
       "| Flt3l | 2 | 17 | 2_17 | 10 | 443 | 0.022573363 |\n",
       "| Flt3l | 2 | 18 | 2_18 | 15 | 443 | 0.033860045 |\n",
       "| Flt3l | 2 | 19 | 2_19 | 45 | 443 | 0.101580135 |\n",
       "| Flt3l | 3 | 0  | 3_0  | 43 | 795 | 0.054088050 |\n",
       "| Flt3l | 3 | 1  | 3_1  | 41 | 795 | 0.051572327 |\n",
       "| Flt3l | 3 | 2  | 3_2  | 28 | 795 | 0.035220126 |\n",
       "| Flt3l | 3 | 3  | 3_3  | 44 | 795 | 0.055345912 |\n",
       "| Flt3l | 3 | 4  | 3_4  | 54 | 795 | 0.067924528 |\n",
       "| Flt3l | 3 | 5  | 3_5  |  4 | 795 | 0.005031447 |\n",
       "| Flt3l | 3 | 6  | 3_6  | 26 | 795 | 0.032704403 |\n",
       "| Flt3l | 3 | 7  | 3_7  | 89 | 795 | 0.111949686 |\n",
       "| Flt3l | 3 | 8  | 3_8  | 40 | 795 | 0.050314465 |\n",
       "| Flt3l | 3 | 9  | 3_9  | 37 | 795 | 0.046540881 |\n",
       "| Flt3l | 3 | 10 | 3_10 | 52 | 795 | 0.065408805 |\n",
       "| Flt3l | 3 | 11 | 3_11 | 44 | 795 | 0.055345912 |\n",
       "| Flt3l | 3 | 12 | 3_12 | 41 | 795 | 0.051572327 |\n",
       "| Flt3l | 3 | 13 | 3_13 | 46 | 795 | 0.057861635 |\n",
       "| Flt3l | 3 | 14 | 3_14 | 58 | 795 | 0.072955975 |\n",
       "| Flt3l | 3 | 15 | 3_15 | 30 | 795 | 0.037735849 |\n",
       "| Flt3l | 3 | 16 | 3_16 | 38 | 795 | 0.047798742 |\n",
       "| Flt3l | 3 | 17 | 3_17 | 33 | 795 | 0.041509434 |\n",
       "| Flt3l | 3 | 18 | 3_18 | 31 | 795 | 0.038993711 |\n",
       "| Flt3l | 3 | 19 | 3_19 | 16 | 795 | 0.020125786 |\n",
       "\n"
      ],
      "text/plain": [
       "    condition donor lineage name size total norm       \n",
       "1   Control   0     0       0_0   8   307   0.026058632\n",
       "2   Control   0     1       0_1  25   307   0.081433225\n",
       "3   Control   0     2       0_2  10   307   0.032573290\n",
       "4   Control   0     3       0_3  27   307   0.087947883\n",
       "5   Control   0     4       0_4   8   307   0.026058632\n",
       "6   Control   0     5       0_5  16   307   0.052117264\n",
       "7   Control   0     6       0_6   1   307   0.003257329\n",
       "8   Control   0     7       0_7  18   307   0.058631922\n",
       "9   Control   0     8       0_8   2   307   0.006514658\n",
       "10  Control   0     9       0_9   3   307   0.009771987\n",
       "11  Control   0     10      0_10  9   307   0.029315961\n",
       "12  Control   0     11      0_11  1   307   0.003257329\n",
       "13  Control   0     12      0_12 14   307   0.045602606\n",
       "14  Control   0     13      0_13 19   307   0.061889251\n",
       "15  Control   0     14      0_14 22   307   0.071661238\n",
       "16  Control   0     15      0_15  1   307   0.003257329\n",
       "17  Control   0     16      0_16 24   307   0.078175896\n",
       "18  Control   0     17      0_17 58   307   0.188925081\n",
       "19  Control   0     18      0_18 16   307   0.052117264\n",
       "20  Control   0     19      0_19 25   307   0.081433225\n",
       "21  Control   1     2       1_2   3   271   0.011070111\n",
       "22  Control   1     3       1_3  41   271   0.151291513\n",
       "23  Control   1     4       1_4  10   271   0.036900369\n",
       "24  Control   1     5       1_5   5   271   0.018450185\n",
       "25  Control   1     6       1_6  15   271   0.055350554\n",
       "26  Control   1     7       1_7   2   271   0.007380074\n",
       "27  Control   1     8       1_8  17   271   0.062730627\n",
       "28  Control   1     9       1_9  10   271   0.036900369\n",
       "29  Control   1     10      1_10 43   271   0.158671587\n",
       "30  Control   1     11      1_11 25   271   0.092250923\n",
       "⋮   ⋮         ⋮     ⋮       ⋮    ⋮    ⋮     ⋮          \n",
       "129 Flt3l     2     10      2_10 27   443   0.060948081\n",
       "130 Flt3l     2     11      2_11 38   443   0.085778781\n",
       "131 Flt3l     2     12      2_12 23   443   0.051918736\n",
       "132 Flt3l     2     13      2_13 28   443   0.063205418\n",
       "133 Flt3l     2     14      2_14 18   443   0.040632054\n",
       "134 Flt3l     2     15      2_15 13   443   0.029345372\n",
       "135 Flt3l     2     16      2_16 25   443   0.056433409\n",
       "136 Flt3l     2     17      2_17 10   443   0.022573363\n",
       "137 Flt3l     2     18      2_18 15   443   0.033860045\n",
       "138 Flt3l     2     19      2_19 45   443   0.101580135\n",
       "139 Flt3l     3     0       3_0  43   795   0.054088050\n",
       "140 Flt3l     3     1       3_1  41   795   0.051572327\n",
       "141 Flt3l     3     2       3_2  28   795   0.035220126\n",
       "142 Flt3l     3     3       3_3  44   795   0.055345912\n",
       "143 Flt3l     3     4       3_4  54   795   0.067924528\n",
       "144 Flt3l     3     5       3_5   4   795   0.005031447\n",
       "145 Flt3l     3     6       3_6  26   795   0.032704403\n",
       "146 Flt3l     3     7       3_7  89   795   0.111949686\n",
       "147 Flt3l     3     8       3_8  40   795   0.050314465\n",
       "148 Flt3l     3     9       3_9  37   795   0.046540881\n",
       "149 Flt3l     3     10      3_10 52   795   0.065408805\n",
       "150 Flt3l     3     11      3_11 44   795   0.055345912\n",
       "151 Flt3l     3     12      3_12 41   795   0.051572327\n",
       "152 Flt3l     3     13      3_13 46   795   0.057861635\n",
       "153 Flt3l     3     14      3_14 58   795   0.072955975\n",
       "154 Flt3l     3     15      3_15 30   795   0.037735849\n",
       "155 Flt3l     3     16      3_16 38   795   0.047798742\n",
       "156 Flt3l     3     17      3_17 33   795   0.041509434\n",
       "157 Flt3l     3     18      3_18 31   795   0.038993711\n",
       "158 Flt3l     3     19      3_19 16   795   0.020125786"
      ]
     },
     "metadata": {},
     "output_type": "display_data"
    }
   ],
   "source": [
    "counts.norm <- counts %>% group_by(condition, donor) %>% mutate(total=sum(size)) %>% ungroup() %>% mutate(norm=size/total)\n",
    "\n",
    "counts.norm "
   ]
  },
  {
   "cell_type": "code",
   "execution_count": 9,
   "id": "b15ba9af",
   "metadata": {
    "execution": {
     "iopub.execute_input": "2021-12-03T21:21:51.227203Z",
     "iopub.status.busy": "2021-12-03T21:21:51.225022Z",
     "iopub.status.idle": "2021-12-03T21:21:51.326530Z",
     "shell.execute_reply": "2021-12-03T21:21:51.327450Z"
    },
    "papermill": {
     "duration": 0.195216,
     "end_time": "2021-12-03T21:21:51.327738",
     "exception": false,
     "start_time": "2021-12-03T21:21:51.132522",
     "status": "completed"
    },
    "scrolled": true,
    "tags": []
   },
   "outputs": [
    {
     "name": "stderr",
     "output_type": "stream",
     "text": [
      "Warning message in xtfrm.data.frame(x):\n",
      "“cannot xtfrm data frames”\n"
     ]
    },
    {
     "data": {
      "text/html": [
       "<table class=\"dataframe\">\n",
       "<caption>A tibble: 158 × 7</caption>\n",
       "<thead>\n",
       "\t<tr><th scope=col>condition</th><th scope=col>donor</th><th scope=col>lineage</th><th scope=col>name</th><th scope=col>size</th><th scope=col>total</th><th scope=col>norm</th></tr>\n",
       "\t<tr><th scope=col>&lt;fct&gt;</th><th scope=col>&lt;fct&gt;</th><th scope=col>&lt;fct&gt;</th><th scope=col>&lt;fct&gt;</th><th scope=col>&lt;int&gt;</th><th scope=col>&lt;int&gt;</th><th scope=col>&lt;dbl&gt;</th></tr>\n",
       "</thead>\n",
       "<tbody>\n",
       "\t<tr><td>Control</td><td>2</td><td>2 </td><td>2_2 </td><td>104</td><td>294</td><td>0.35374150</td></tr>\n",
       "\t<tr><td>Control</td><td>0</td><td>17</td><td>0_17</td><td> 58</td><td>307</td><td>0.18892508</td></tr>\n",
       "\t<tr><td>Flt3l  </td><td>0</td><td>19</td><td>0_19</td><td> 91</td><td>524</td><td>0.17366412</td></tr>\n",
       "\t<tr><td>Control</td><td>1</td><td>10</td><td>1_10</td><td> 43</td><td>271</td><td>0.15867159</td></tr>\n",
       "\t<tr><td>Control</td><td>1</td><td>3 </td><td>1_3 </td><td> 41</td><td>271</td><td>0.15129151</td></tr>\n",
       "\t<tr><td>Flt3l  </td><td>0</td><td>16</td><td>0_16</td><td> 71</td><td>524</td><td>0.13549618</td></tr>\n",
       "\t<tr><td>Control</td><td>3</td><td>3 </td><td>3_3 </td><td> 38</td><td>296</td><td>0.12837838</td></tr>\n",
       "\t<tr><td>Flt3l  </td><td>0</td><td>13</td><td>0_13</td><td> 65</td><td>524</td><td>0.12404580</td></tr>\n",
       "\t<tr><td>Flt3l  </td><td>1</td><td>10</td><td>1_10</td><td> 68</td><td>557</td><td>0.12208259</td></tr>\n",
       "\t<tr><td>Control</td><td>3</td><td>15</td><td>3_15</td><td> 36</td><td>296</td><td>0.12162162</td></tr>\n",
       "\t<tr><td>Control</td><td>2</td><td>10</td><td>2_10</td><td> 35</td><td>294</td><td>0.11904762</td></tr>\n",
       "\t<tr><td>Flt3l  </td><td>3</td><td>7 </td><td>3_7 </td><td> 89</td><td>795</td><td>0.11194969</td></tr>\n",
       "\t<tr><td>Flt3l  </td><td>0</td><td>2 </td><td>0_2 </td><td> 57</td><td>524</td><td>0.10877863</td></tr>\n",
       "\t<tr><td>Control</td><td>2</td><td>19</td><td>2_19</td><td> 30</td><td>294</td><td>0.10204082</td></tr>\n",
       "\t<tr><td>Flt3l  </td><td>2</td><td>19</td><td>2_19</td><td> 45</td><td>443</td><td>0.10158014</td></tr>\n",
       "\t<tr><td>Control</td><td>3</td><td>19</td><td>3_19</td><td> 29</td><td>296</td><td>0.09797297</td></tr>\n",
       "\t<tr><td>Flt3l  </td><td>2</td><td>2 </td><td>2_2 </td><td> 42</td><td>443</td><td>0.09480813</td></tr>\n",
       "\t<tr><td>Control</td><td>1</td><td>11</td><td>1_11</td><td> 25</td><td>271</td><td>0.09225092</td></tr>\n",
       "\t<tr><td>Control</td><td>3</td><td>9 </td><td>3_9 </td><td> 27</td><td>296</td><td>0.09121622</td></tr>\n",
       "\t<tr><td>Flt3l  </td><td>1</td><td>13</td><td>1_13</td><td> 49</td><td>557</td><td>0.08797127</td></tr>\n",
       "\t<tr><td>Control</td><td>0</td><td>3 </td><td>0_3 </td><td> 27</td><td>307</td><td>0.08794788</td></tr>\n",
       "\t<tr><td>Flt3l  </td><td>2</td><td>11</td><td>2_11</td><td> 38</td><td>443</td><td>0.08577878</td></tr>\n",
       "\t<tr><td>Control</td><td>1</td><td>17</td><td>1_17</td><td> 23</td><td>271</td><td>0.08487085</td></tr>\n",
       "\t<tr><td>Control</td><td>0</td><td>1 </td><td>0_1 </td><td> 25</td><td>307</td><td>0.08143322</td></tr>\n",
       "\t<tr><td>Control</td><td>0</td><td>19</td><td>0_19</td><td> 25</td><td>307</td><td>0.08143322</td></tr>\n",
       "\t<tr><td>Flt3l  </td><td>1</td><td>16</td><td>1_16</td><td> 45</td><td>557</td><td>0.08078995</td></tr>\n",
       "\t<tr><td>Flt3l  </td><td>1</td><td>6 </td><td>1_6 </td><td> 44</td><td>557</td><td>0.07899461</td></tr>\n",
       "\t<tr><td>Control</td><td>0</td><td>16</td><td>0_16</td><td> 24</td><td>307</td><td>0.07817590</td></tr>\n",
       "\t<tr><td>Flt3l  </td><td>0</td><td>5 </td><td>0_5 </td><td> 40</td><td>524</td><td>0.07633588</td></tr>\n",
       "\t<tr><td>Control</td><td>3</td><td>7 </td><td>3_7 </td><td> 22</td><td>296</td><td>0.07432432</td></tr>\n",
       "\t<tr><td>⋮</td><td>⋮</td><td>⋮</td><td>⋮</td><td>⋮</td><td>⋮</td><td>⋮</td></tr>\n",
       "\t<tr><td>Control</td><td>2</td><td>9 </td><td>2_9 </td><td>5</td><td>294</td><td>0.017006803</td></tr>\n",
       "\t<tr><td>Control</td><td>2</td><td>18</td><td>2_18</td><td>5</td><td>294</td><td>0.017006803</td></tr>\n",
       "\t<tr><td>Control</td><td>3</td><td>1 </td><td>3_1 </td><td>5</td><td>296</td><td>0.016891892</td></tr>\n",
       "\t<tr><td>Control</td><td>3</td><td>12</td><td>3_12</td><td>5</td><td>296</td><td>0.016891892</td></tr>\n",
       "\t<tr><td>Flt3l  </td><td>0</td><td>4 </td><td>0_4 </td><td>8</td><td>524</td><td>0.015267176</td></tr>\n",
       "\t<tr><td>Control</td><td>2</td><td>1 </td><td>2_1 </td><td>4</td><td>294</td><td>0.013605442</td></tr>\n",
       "\t<tr><td>Flt3l  </td><td>0</td><td>0 </td><td>0_0 </td><td>6</td><td>524</td><td>0.011450382</td></tr>\n",
       "\t<tr><td>Control</td><td>1</td><td>2 </td><td>1_2 </td><td>3</td><td>271</td><td>0.011070111</td></tr>\n",
       "\t<tr><td>Control</td><td>2</td><td>0 </td><td>2_0 </td><td>3</td><td>294</td><td>0.010204082</td></tr>\n",
       "\t<tr><td>Control</td><td>2</td><td>11</td><td>2_11</td><td>3</td><td>294</td><td>0.010204082</td></tr>\n",
       "\t<tr><td>Control</td><td>2</td><td>12</td><td>2_12</td><td>3</td><td>294</td><td>0.010204082</td></tr>\n",
       "\t<tr><td>Control</td><td>3</td><td>4 </td><td>3_4 </td><td>3</td><td>296</td><td>0.010135135</td></tr>\n",
       "\t<tr><td>Control</td><td>3</td><td>16</td><td>3_16</td><td>3</td><td>296</td><td>0.010135135</td></tr>\n",
       "\t<tr><td>Control</td><td>0</td><td>9 </td><td>0_9 </td><td>3</td><td>307</td><td>0.009771987</td></tr>\n",
       "\t<tr><td>Flt3l  </td><td>1</td><td>7 </td><td>1_7 </td><td>5</td><td>557</td><td>0.008976661</td></tr>\n",
       "\t<tr><td>Flt3l  </td><td>0</td><td>9 </td><td>0_9 </td><td>4</td><td>524</td><td>0.007633588</td></tr>\n",
       "\t<tr><td>Flt3l  </td><td>0</td><td>11</td><td>0_11</td><td>4</td><td>524</td><td>0.007633588</td></tr>\n",
       "\t<tr><td>Flt3l  </td><td>0</td><td>15</td><td>0_15</td><td>4</td><td>524</td><td>0.007633588</td></tr>\n",
       "\t<tr><td>Control</td><td>1</td><td>7 </td><td>1_7 </td><td>2</td><td>271</td><td>0.007380074</td></tr>\n",
       "\t<tr><td>Control</td><td>1</td><td>18</td><td>1_18</td><td>2</td><td>271</td><td>0.007380074</td></tr>\n",
       "\t<tr><td>Flt3l  </td><td>1</td><td>5 </td><td>1_5 </td><td>4</td><td>557</td><td>0.007181329</td></tr>\n",
       "\t<tr><td>Control</td><td>3</td><td>17</td><td>3_17</td><td>2</td><td>296</td><td>0.006756757</td></tr>\n",
       "\t<tr><td>Control</td><td>0</td><td>8 </td><td>0_8 </td><td>2</td><td>307</td><td>0.006514658</td></tr>\n",
       "\t<tr><td>Flt3l  </td><td>3</td><td>5 </td><td>3_5 </td><td>4</td><td>795</td><td>0.005031447</td></tr>\n",
       "\t<tr><td>Control</td><td>2</td><td>6 </td><td>2_6 </td><td>1</td><td>294</td><td>0.003401361</td></tr>\n",
       "\t<tr><td>Control</td><td>3</td><td>18</td><td>3_18</td><td>1</td><td>296</td><td>0.003378378</td></tr>\n",
       "\t<tr><td>Control</td><td>0</td><td>6 </td><td>0_6 </td><td>1</td><td>307</td><td>0.003257329</td></tr>\n",
       "\t<tr><td>Control</td><td>0</td><td>11</td><td>0_11</td><td>1</td><td>307</td><td>0.003257329</td></tr>\n",
       "\t<tr><td>Control</td><td>0</td><td>15</td><td>0_15</td><td>1</td><td>307</td><td>0.003257329</td></tr>\n",
       "\t<tr><td>Flt3l  </td><td>0</td><td>6 </td><td>0_6 </td><td>1</td><td>524</td><td>0.001908397</td></tr>\n",
       "</tbody>\n",
       "</table>\n"
      ],
      "text/latex": [
       "A tibble: 158 × 7\n",
       "\\begin{tabular}{lllllll}\n",
       " condition & donor & lineage & name & size & total & norm\\\\\n",
       " <fct> & <fct> & <fct> & <fct> & <int> & <int> & <dbl>\\\\\n",
       "\\hline\n",
       "\t Control & 2 & 2  & 2\\_2  & 104 & 294 & 0.35374150\\\\\n",
       "\t Control & 0 & 17 & 0\\_17 &  58 & 307 & 0.18892508\\\\\n",
       "\t Flt3l   & 0 & 19 & 0\\_19 &  91 & 524 & 0.17366412\\\\\n",
       "\t Control & 1 & 10 & 1\\_10 &  43 & 271 & 0.15867159\\\\\n",
       "\t Control & 1 & 3  & 1\\_3  &  41 & 271 & 0.15129151\\\\\n",
       "\t Flt3l   & 0 & 16 & 0\\_16 &  71 & 524 & 0.13549618\\\\\n",
       "\t Control & 3 & 3  & 3\\_3  &  38 & 296 & 0.12837838\\\\\n",
       "\t Flt3l   & 0 & 13 & 0\\_13 &  65 & 524 & 0.12404580\\\\\n",
       "\t Flt3l   & 1 & 10 & 1\\_10 &  68 & 557 & 0.12208259\\\\\n",
       "\t Control & 3 & 15 & 3\\_15 &  36 & 296 & 0.12162162\\\\\n",
       "\t Control & 2 & 10 & 2\\_10 &  35 & 294 & 0.11904762\\\\\n",
       "\t Flt3l   & 3 & 7  & 3\\_7  &  89 & 795 & 0.11194969\\\\\n",
       "\t Flt3l   & 0 & 2  & 0\\_2  &  57 & 524 & 0.10877863\\\\\n",
       "\t Control & 2 & 19 & 2\\_19 &  30 & 294 & 0.10204082\\\\\n",
       "\t Flt3l   & 2 & 19 & 2\\_19 &  45 & 443 & 0.10158014\\\\\n",
       "\t Control & 3 & 19 & 3\\_19 &  29 & 296 & 0.09797297\\\\\n",
       "\t Flt3l   & 2 & 2  & 2\\_2  &  42 & 443 & 0.09480813\\\\\n",
       "\t Control & 1 & 11 & 1\\_11 &  25 & 271 & 0.09225092\\\\\n",
       "\t Control & 3 & 9  & 3\\_9  &  27 & 296 & 0.09121622\\\\\n",
       "\t Flt3l   & 1 & 13 & 1\\_13 &  49 & 557 & 0.08797127\\\\\n",
       "\t Control & 0 & 3  & 0\\_3  &  27 & 307 & 0.08794788\\\\\n",
       "\t Flt3l   & 2 & 11 & 2\\_11 &  38 & 443 & 0.08577878\\\\\n",
       "\t Control & 1 & 17 & 1\\_17 &  23 & 271 & 0.08487085\\\\\n",
       "\t Control & 0 & 1  & 0\\_1  &  25 & 307 & 0.08143322\\\\\n",
       "\t Control & 0 & 19 & 0\\_19 &  25 & 307 & 0.08143322\\\\\n",
       "\t Flt3l   & 1 & 16 & 1\\_16 &  45 & 557 & 0.08078995\\\\\n",
       "\t Flt3l   & 1 & 6  & 1\\_6  &  44 & 557 & 0.07899461\\\\\n",
       "\t Control & 0 & 16 & 0\\_16 &  24 & 307 & 0.07817590\\\\\n",
       "\t Flt3l   & 0 & 5  & 0\\_5  &  40 & 524 & 0.07633588\\\\\n",
       "\t Control & 3 & 7  & 3\\_7  &  22 & 296 & 0.07432432\\\\\n",
       "\t ⋮ & ⋮ & ⋮ & ⋮ & ⋮ & ⋮ & ⋮\\\\\n",
       "\t Control & 2 & 9  & 2\\_9  & 5 & 294 & 0.017006803\\\\\n",
       "\t Control & 2 & 18 & 2\\_18 & 5 & 294 & 0.017006803\\\\\n",
       "\t Control & 3 & 1  & 3\\_1  & 5 & 296 & 0.016891892\\\\\n",
       "\t Control & 3 & 12 & 3\\_12 & 5 & 296 & 0.016891892\\\\\n",
       "\t Flt3l   & 0 & 4  & 0\\_4  & 8 & 524 & 0.015267176\\\\\n",
       "\t Control & 2 & 1  & 2\\_1  & 4 & 294 & 0.013605442\\\\\n",
       "\t Flt3l   & 0 & 0  & 0\\_0  & 6 & 524 & 0.011450382\\\\\n",
       "\t Control & 1 & 2  & 1\\_2  & 3 & 271 & 0.011070111\\\\\n",
       "\t Control & 2 & 0  & 2\\_0  & 3 & 294 & 0.010204082\\\\\n",
       "\t Control & 2 & 11 & 2\\_11 & 3 & 294 & 0.010204082\\\\\n",
       "\t Control & 2 & 12 & 2\\_12 & 3 & 294 & 0.010204082\\\\\n",
       "\t Control & 3 & 4  & 3\\_4  & 3 & 296 & 0.010135135\\\\\n",
       "\t Control & 3 & 16 & 3\\_16 & 3 & 296 & 0.010135135\\\\\n",
       "\t Control & 0 & 9  & 0\\_9  & 3 & 307 & 0.009771987\\\\\n",
       "\t Flt3l   & 1 & 7  & 1\\_7  & 5 & 557 & 0.008976661\\\\\n",
       "\t Flt3l   & 0 & 9  & 0\\_9  & 4 & 524 & 0.007633588\\\\\n",
       "\t Flt3l   & 0 & 11 & 0\\_11 & 4 & 524 & 0.007633588\\\\\n",
       "\t Flt3l   & 0 & 15 & 0\\_15 & 4 & 524 & 0.007633588\\\\\n",
       "\t Control & 1 & 7  & 1\\_7  & 2 & 271 & 0.007380074\\\\\n",
       "\t Control & 1 & 18 & 1\\_18 & 2 & 271 & 0.007380074\\\\\n",
       "\t Flt3l   & 1 & 5  & 1\\_5  & 4 & 557 & 0.007181329\\\\\n",
       "\t Control & 3 & 17 & 3\\_17 & 2 & 296 & 0.006756757\\\\\n",
       "\t Control & 0 & 8  & 0\\_8  & 2 & 307 & 0.006514658\\\\\n",
       "\t Flt3l   & 3 & 5  & 3\\_5  & 4 & 795 & 0.005031447\\\\\n",
       "\t Control & 2 & 6  & 2\\_6  & 1 & 294 & 0.003401361\\\\\n",
       "\t Control & 3 & 18 & 3\\_18 & 1 & 296 & 0.003378378\\\\\n",
       "\t Control & 0 & 6  & 0\\_6  & 1 & 307 & 0.003257329\\\\\n",
       "\t Control & 0 & 11 & 0\\_11 & 1 & 307 & 0.003257329\\\\\n",
       "\t Control & 0 & 15 & 0\\_15 & 1 & 307 & 0.003257329\\\\\n",
       "\t Flt3l   & 0 & 6  & 0\\_6  & 1 & 524 & 0.001908397\\\\\n",
       "\\end{tabular}\n"
      ],
      "text/markdown": [
       "\n",
       "A tibble: 158 × 7\n",
       "\n",
       "| condition &lt;fct&gt; | donor &lt;fct&gt; | lineage &lt;fct&gt; | name &lt;fct&gt; | size &lt;int&gt; | total &lt;int&gt; | norm &lt;dbl&gt; |\n",
       "|---|---|---|---|---|---|---|\n",
       "| Control | 2 | 2  | 2_2  | 104 | 294 | 0.35374150 |\n",
       "| Control | 0 | 17 | 0_17 |  58 | 307 | 0.18892508 |\n",
       "| Flt3l   | 0 | 19 | 0_19 |  91 | 524 | 0.17366412 |\n",
       "| Control | 1 | 10 | 1_10 |  43 | 271 | 0.15867159 |\n",
       "| Control | 1 | 3  | 1_3  |  41 | 271 | 0.15129151 |\n",
       "| Flt3l   | 0 | 16 | 0_16 |  71 | 524 | 0.13549618 |\n",
       "| Control | 3 | 3  | 3_3  |  38 | 296 | 0.12837838 |\n",
       "| Flt3l   | 0 | 13 | 0_13 |  65 | 524 | 0.12404580 |\n",
       "| Flt3l   | 1 | 10 | 1_10 |  68 | 557 | 0.12208259 |\n",
       "| Control | 3 | 15 | 3_15 |  36 | 296 | 0.12162162 |\n",
       "| Control | 2 | 10 | 2_10 |  35 | 294 | 0.11904762 |\n",
       "| Flt3l   | 3 | 7  | 3_7  |  89 | 795 | 0.11194969 |\n",
       "| Flt3l   | 0 | 2  | 0_2  |  57 | 524 | 0.10877863 |\n",
       "| Control | 2 | 19 | 2_19 |  30 | 294 | 0.10204082 |\n",
       "| Flt3l   | 2 | 19 | 2_19 |  45 | 443 | 0.10158014 |\n",
       "| Control | 3 | 19 | 3_19 |  29 | 296 | 0.09797297 |\n",
       "| Flt3l   | 2 | 2  | 2_2  |  42 | 443 | 0.09480813 |\n",
       "| Control | 1 | 11 | 1_11 |  25 | 271 | 0.09225092 |\n",
       "| Control | 3 | 9  | 3_9  |  27 | 296 | 0.09121622 |\n",
       "| Flt3l   | 1 | 13 | 1_13 |  49 | 557 | 0.08797127 |\n",
       "| Control | 0 | 3  | 0_3  |  27 | 307 | 0.08794788 |\n",
       "| Flt3l   | 2 | 11 | 2_11 |  38 | 443 | 0.08577878 |\n",
       "| Control | 1 | 17 | 1_17 |  23 | 271 | 0.08487085 |\n",
       "| Control | 0 | 1  | 0_1  |  25 | 307 | 0.08143322 |\n",
       "| Control | 0 | 19 | 0_19 |  25 | 307 | 0.08143322 |\n",
       "| Flt3l   | 1 | 16 | 1_16 |  45 | 557 | 0.08078995 |\n",
       "| Flt3l   | 1 | 6  | 1_6  |  44 | 557 | 0.07899461 |\n",
       "| Control | 0 | 16 | 0_16 |  24 | 307 | 0.07817590 |\n",
       "| Flt3l   | 0 | 5  | 0_5  |  40 | 524 | 0.07633588 |\n",
       "| Control | 3 | 7  | 3_7  |  22 | 296 | 0.07432432 |\n",
       "| ⋮ | ⋮ | ⋮ | ⋮ | ⋮ | ⋮ | ⋮ |\n",
       "| Control | 2 | 9  | 2_9  | 5 | 294 | 0.017006803 |\n",
       "| Control | 2 | 18 | 2_18 | 5 | 294 | 0.017006803 |\n",
       "| Control | 3 | 1  | 3_1  | 5 | 296 | 0.016891892 |\n",
       "| Control | 3 | 12 | 3_12 | 5 | 296 | 0.016891892 |\n",
       "| Flt3l   | 0 | 4  | 0_4  | 8 | 524 | 0.015267176 |\n",
       "| Control | 2 | 1  | 2_1  | 4 | 294 | 0.013605442 |\n",
       "| Flt3l   | 0 | 0  | 0_0  | 6 | 524 | 0.011450382 |\n",
       "| Control | 1 | 2  | 1_2  | 3 | 271 | 0.011070111 |\n",
       "| Control | 2 | 0  | 2_0  | 3 | 294 | 0.010204082 |\n",
       "| Control | 2 | 11 | 2_11 | 3 | 294 | 0.010204082 |\n",
       "| Control | 2 | 12 | 2_12 | 3 | 294 | 0.010204082 |\n",
       "| Control | 3 | 4  | 3_4  | 3 | 296 | 0.010135135 |\n",
       "| Control | 3 | 16 | 3_16 | 3 | 296 | 0.010135135 |\n",
       "| Control | 0 | 9  | 0_9  | 3 | 307 | 0.009771987 |\n",
       "| Flt3l   | 1 | 7  | 1_7  | 5 | 557 | 0.008976661 |\n",
       "| Flt3l   | 0 | 9  | 0_9  | 4 | 524 | 0.007633588 |\n",
       "| Flt3l   | 0 | 11 | 0_11 | 4 | 524 | 0.007633588 |\n",
       "| Flt3l   | 0 | 15 | 0_15 | 4 | 524 | 0.007633588 |\n",
       "| Control | 1 | 7  | 1_7  | 2 | 271 | 0.007380074 |\n",
       "| Control | 1 | 18 | 1_18 | 2 | 271 | 0.007380074 |\n",
       "| Flt3l   | 1 | 5  | 1_5  | 4 | 557 | 0.007181329 |\n",
       "| Control | 3 | 17 | 3_17 | 2 | 296 | 0.006756757 |\n",
       "| Control | 0 | 8  | 0_8  | 2 | 307 | 0.006514658 |\n",
       "| Flt3l   | 3 | 5  | 3_5  | 4 | 795 | 0.005031447 |\n",
       "| Control | 2 | 6  | 2_6  | 1 | 294 | 0.003401361 |\n",
       "| Control | 3 | 18 | 3_18 | 1 | 296 | 0.003378378 |\n",
       "| Control | 0 | 6  | 0_6  | 1 | 307 | 0.003257329 |\n",
       "| Control | 0 | 11 | 0_11 | 1 | 307 | 0.003257329 |\n",
       "| Control | 0 | 15 | 0_15 | 1 | 307 | 0.003257329 |\n",
       "| Flt3l   | 0 | 6  | 0_6  | 1 | 524 | 0.001908397 |\n",
       "\n"
      ],
      "text/plain": [
       "    condition donor lineage name size total norm       \n",
       "1   Control   2     2       2_2  104  294   0.35374150 \n",
       "2   Control   0     17      0_17  58  307   0.18892508 \n",
       "3   Flt3l     0     19      0_19  91  524   0.17366412 \n",
       "4   Control   1     10      1_10  43  271   0.15867159 \n",
       "5   Control   1     3       1_3   41  271   0.15129151 \n",
       "6   Flt3l     0     16      0_16  71  524   0.13549618 \n",
       "7   Control   3     3       3_3   38  296   0.12837838 \n",
       "8   Flt3l     0     13      0_13  65  524   0.12404580 \n",
       "9   Flt3l     1     10      1_10  68  557   0.12208259 \n",
       "10  Control   3     15      3_15  36  296   0.12162162 \n",
       "11  Control   2     10      2_10  35  294   0.11904762 \n",
       "12  Flt3l     3     7       3_7   89  795   0.11194969 \n",
       "13  Flt3l     0     2       0_2   57  524   0.10877863 \n",
       "14  Control   2     19      2_19  30  294   0.10204082 \n",
       "15  Flt3l     2     19      2_19  45  443   0.10158014 \n",
       "16  Control   3     19      3_19  29  296   0.09797297 \n",
       "17  Flt3l     2     2       2_2   42  443   0.09480813 \n",
       "18  Control   1     11      1_11  25  271   0.09225092 \n",
       "19  Control   3     9       3_9   27  296   0.09121622 \n",
       "20  Flt3l     1     13      1_13  49  557   0.08797127 \n",
       "21  Control   0     3       0_3   27  307   0.08794788 \n",
       "22  Flt3l     2     11      2_11  38  443   0.08577878 \n",
       "23  Control   1     17      1_17  23  271   0.08487085 \n",
       "24  Control   0     1       0_1   25  307   0.08143322 \n",
       "25  Control   0     19      0_19  25  307   0.08143322 \n",
       "26  Flt3l     1     16      1_16  45  557   0.08078995 \n",
       "27  Flt3l     1     6       1_6   44  557   0.07899461 \n",
       "28  Control   0     16      0_16  24  307   0.07817590 \n",
       "29  Flt3l     0     5       0_5   40  524   0.07633588 \n",
       "30  Control   3     7       3_7   22  296   0.07432432 \n",
       "⋮   ⋮         ⋮     ⋮       ⋮    ⋮    ⋮     ⋮          \n",
       "129 Control   2     9       2_9  5    294   0.017006803\n",
       "130 Control   2     18      2_18 5    294   0.017006803\n",
       "131 Control   3     1       3_1  5    296   0.016891892\n",
       "132 Control   3     12      3_12 5    296   0.016891892\n",
       "133 Flt3l     0     4       0_4  8    524   0.015267176\n",
       "134 Control   2     1       2_1  4    294   0.013605442\n",
       "135 Flt3l     0     0       0_0  6    524   0.011450382\n",
       "136 Control   1     2       1_2  3    271   0.011070111\n",
       "137 Control   2     0       2_0  3    294   0.010204082\n",
       "138 Control   2     11      2_11 3    294   0.010204082\n",
       "139 Control   2     12      2_12 3    294   0.010204082\n",
       "140 Control   3     4       3_4  3    296   0.010135135\n",
       "141 Control   3     16      3_16 3    296   0.010135135\n",
       "142 Control   0     9       0_9  3    307   0.009771987\n",
       "143 Flt3l     1     7       1_7  5    557   0.008976661\n",
       "144 Flt3l     0     9       0_9  4    524   0.007633588\n",
       "145 Flt3l     0     11      0_11 4    524   0.007633588\n",
       "146 Flt3l     0     15      0_15 4    524   0.007633588\n",
       "147 Control   1     7       1_7  2    271   0.007380074\n",
       "148 Control   1     18      1_18 2    271   0.007380074\n",
       "149 Flt3l     1     5       1_5  4    557   0.007181329\n",
       "150 Control   3     17      3_17 2    296   0.006756757\n",
       "151 Control   0     8       0_8  2    307   0.006514658\n",
       "152 Flt3l     3     5       3_5  4    795   0.005031447\n",
       "153 Control   2     6       2_6  1    294   0.003401361\n",
       "154 Control   3     18      3_18 1    296   0.003378378\n",
       "155 Control   0     6       0_6  1    307   0.003257329\n",
       "156 Control   0     11      0_11 1    307   0.003257329\n",
       "157 Control   0     15      0_15 1    307   0.003257329\n",
       "158 Flt3l     0     6       0_6  1    524   0.001908397"
      ]
     },
     "metadata": {},
     "output_type": "display_data"
    }
   ],
   "source": [
    "counts.norm.sizes = counts.norm[order(counts.norm[,\"norm\"], decreasing=T),]\n",
    "counts.norm.sizes"
   ]
  },
  {
   "cell_type": "code",
   "execution_count": 10,
   "id": "67b08dba",
   "metadata": {
    "execution": {
     "iopub.execute_input": "2021-12-03T21:21:51.523500Z",
     "iopub.status.busy": "2021-12-03T21:21:51.520727Z",
     "iopub.status.idle": "2021-12-03T21:21:51.632583Z",
     "shell.execute_reply": "2021-12-03T21:21:51.633144Z"
    },
    "papermill": {
     "duration": 0.213012,
     "end_time": "2021-12-03T21:21:51.633379",
     "exception": false,
     "start_time": "2021-12-03T21:21:51.420367",
     "status": "completed"
    },
    "scrolled": true,
    "tags": []
   },
   "outputs": [
    {
     "name": "stderr",
     "output_type": "stream",
     "text": [
      "`summarise()` has grouped output by 'donor'. You can override using the `.groups` argument.\n",
      "\n"
     ]
    },
    {
     "data": {
      "text/html": [
       "<table class=\"dataframe\">\n",
       "<caption>A grouped_df: 80 × 5</caption>\n",
       "<thead>\n",
       "\t<tr><th scope=col>donor</th><th scope=col>lineage</th><th scope=col>norm.total</th><th scope=col>total</th><th scope=col>name</th></tr>\n",
       "\t<tr><th scope=col>&lt;fct&gt;</th><th scope=col>&lt;fct&gt;</th><th scope=col>&lt;dbl&gt;</th><th scope=col>&lt;int&gt;</th><th scope=col>&lt;fct&gt;</th></tr>\n",
       "</thead>\n",
       "<tbody>\n",
       "\t<tr><td>2</td><td>2 </td><td>0.4485496</td><td>146</td><td>2_2 </td></tr>\n",
       "\t<tr><td>1</td><td>10</td><td>0.2807542</td><td>111</td><td>1_10</td></tr>\n",
       "\t<tr><td>0</td><td>19</td><td>0.2550973</td><td>116</td><td>0_19</td></tr>\n",
       "\t<tr><td>0</td><td>17</td><td>0.2175510</td><td> 73</td><td>0_17</td></tr>\n",
       "\t<tr><td>0</td><td>16</td><td>0.2136721</td><td> 95</td><td>0_16</td></tr>\n",
       "\t<tr><td>1</td><td>3 </td><td>0.2069468</td><td> 72</td><td>1_3 </td></tr>\n",
       "\t<tr><td>2</td><td>19</td><td>0.2036210</td><td> 75</td><td>2_19</td></tr>\n",
       "\t<tr><td>3</td><td>7 </td><td>0.1862740</td><td>111</td><td>3_7 </td></tr>\n",
       "\t<tr><td>0</td><td>13</td><td>0.1859351</td><td> 84</td><td>0_13</td></tr>\n",
       "\t<tr><td>3</td><td>3 </td><td>0.1837243</td><td> 82</td><td>3_3 </td></tr>\n",
       "\t<tr><td>2</td><td>10</td><td>0.1799957</td><td> 62</td><td>2_10</td></tr>\n",
       "\t<tr><td>3</td><td>15</td><td>0.1593575</td><td> 66</td><td>3_15</td></tr>\n",
       "\t<tr><td>1</td><td>17</td><td>0.1512981</td><td> 60</td><td>1_17</td></tr>\n",
       "\t<tr><td>1</td><td>16</td><td>0.1472106</td><td> 63</td><td>1_16</td></tr>\n",
       "\t<tr><td>0</td><td>2 </td><td>0.1413519</td><td> 67</td><td>0_2 </td></tr>\n",
       "\t<tr><td>3</td><td>9 </td><td>0.1377571</td><td> 64</td><td>3_9 </td></tr>\n",
       "\t<tr><td>3</td><td>10</td><td>0.1363548</td><td> 73</td><td>3_10</td></tr>\n",
       "\t<tr><td>1</td><td>6 </td><td>0.1343452</td><td> 59</td><td>1_6 </td></tr>\n",
       "\t<tr><td>3</td><td>14</td><td>0.1303884</td><td> 75</td><td>3_14</td></tr>\n",
       "\t<tr><td>1</td><td>11</td><td>0.1299529</td><td> 46</td><td>1_11</td></tr>\n",
       "\t<tr><td>0</td><td>5 </td><td>0.1284531</td><td> 56</td><td>0_5 </td></tr>\n",
       "\t<tr><td>0</td><td>3 </td><td>0.1280242</td><td> 48</td><td>0_3 </td></tr>\n",
       "\t<tr><td>1</td><td>8 </td><td>0.1273626</td><td> 53</td><td>1_8 </td></tr>\n",
       "\t<tr><td>3</td><td>11</td><td>0.1262919</td><td> 65</td><td>3_11</td></tr>\n",
       "\t<tr><td>2</td><td>5 </td><td>0.1221419</td><td> 46</td><td>2_5 </td></tr>\n",
       "\t<tr><td>0</td><td>14</td><td>0.1212796</td><td> 48</td><td>0_14</td></tr>\n",
       "\t<tr><td>3</td><td>19</td><td>0.1180988</td><td> 45</td><td>3_19</td></tr>\n",
       "\t<tr><td>2</td><td>16</td><td>0.1176579</td><td> 43</td><td>2_16</td></tr>\n",
       "\t<tr><td>0</td><td>1 </td><td>0.1119676</td><td> 41</td><td>0_1 </td></tr>\n",
       "\t<tr><td>1</td><td>13</td><td>0.1101115</td><td> 55</td><td>1_13</td></tr>\n",
       "\t<tr><td>⋮</td><td>⋮</td><td>⋮</td><td>⋮</td><td>⋮</td></tr>\n",
       "\t<tr><td>3</td><td>12</td><td>0.068464219</td><td>46</td><td>3_12</td></tr>\n",
       "\t<tr><td>1</td><td>4 </td><td>0.063830351</td><td>25</td><td>1_4 </td></tr>\n",
       "\t<tr><td>2</td><td>7 </td><td>0.062245666</td><td>22</td><td>2_7 </td></tr>\n",
       "\t<tr><td>2</td><td>12</td><td>0.062122818</td><td>26</td><td>2_12</td></tr>\n",
       "\t<tr><td>2</td><td>1 </td><td>0.058752169</td><td>24</td><td>2_1 </td></tr>\n",
       "\t<tr><td>3</td><td>16</td><td>0.057933877</td><td>41</td><td>3_16</td></tr>\n",
       "\t<tr><td>2</td><td>9 </td><td>0.057638857</td><td>23</td><td>2_9 </td></tr>\n",
       "\t<tr><td>1</td><td>2 </td><td>0.055953414</td><td>28</td><td>1_2 </td></tr>\n",
       "\t<tr><td>1</td><td>18</td><td>0.055854041</td><td>29</td><td>1_18</td></tr>\n",
       "\t<tr><td>0</td><td>10</td><td>0.054125121</td><td>22</td><td>0_10</td></tr>\n",
       "\t<tr><td>2</td><td>15</td><td>0.053154896</td><td>20</td><td>2_15</td></tr>\n",
       "\t<tr><td>2</td><td>18</td><td>0.050866848</td><td>20</td><td>2_18</td></tr>\n",
       "\t<tr><td>3</td><td>17</td><td>0.048266191</td><td>35</td><td>3_17</td></tr>\n",
       "\t<tr><td>2</td><td>0 </td><td>0.046321463</td><td>19</td><td>2_0 </td></tr>\n",
       "\t<tr><td>2</td><td>17</td><td>0.042981527</td><td>16</td><td>2_17</td></tr>\n",
       "\t<tr><td>3</td><td>18</td><td>0.042372089</td><td>32</td><td>3_18</td></tr>\n",
       "\t<tr><td>0</td><td>4 </td><td>0.041325807</td><td>16</td><td>0_4 </td></tr>\n",
       "\t<tr><td>0</td><td>0 </td><td>0.037509014</td><td>14</td><td>0_0 </td></tr>\n",
       "\t<tr><td>2</td><td>4 </td><td>0.037322830</td><td>14</td><td>2_4 </td></tr>\n",
       "\t<tr><td>0</td><td>8 </td><td>0.035140612</td><td>17</td><td>0_8 </td></tr>\n",
       "\t<tr><td>2</td><td>6 </td><td>0.035004069</td><td>15</td><td>2_6 </td></tr>\n",
       "\t<tr><td>1</td><td>0 </td><td>0.028725314</td><td>16</td><td>1_0 </td></tr>\n",
       "\t<tr><td>1</td><td>5 </td><td>0.025631513</td><td> 9</td><td>1_5 </td></tr>\n",
       "\t<tr><td>3</td><td>5 </td><td>0.025301717</td><td>10</td><td>3_5 </td></tr>\n",
       "\t<tr><td>1</td><td>1 </td><td>0.025134650</td><td>14</td><td>1_1 </td></tr>\n",
       "\t<tr><td>0</td><td>9 </td><td>0.017405575</td><td> 7</td><td>0_9 </td></tr>\n",
       "\t<tr><td>1</td><td>7 </td><td>0.016356734</td><td> 7</td><td>1_7 </td></tr>\n",
       "\t<tr><td>0</td><td>11</td><td>0.010890917</td><td> 5</td><td>0_11</td></tr>\n",
       "\t<tr><td>0</td><td>15</td><td>0.010890917</td><td> 5</td><td>0_15</td></tr>\n",
       "\t<tr><td>0</td><td>6 </td><td>0.005165726</td><td> 2</td><td>0_6 </td></tr>\n",
       "</tbody>\n",
       "</table>\n"
      ],
      "text/latex": [
       "A grouped\\_df: 80 × 5\n",
       "\\begin{tabular}{lllll}\n",
       " donor & lineage & norm.total & total & name\\\\\n",
       " <fct> & <fct> & <dbl> & <int> & <fct>\\\\\n",
       "\\hline\n",
       "\t 2 & 2  & 0.4485496 & 146 & 2\\_2 \\\\\n",
       "\t 1 & 10 & 0.2807542 & 111 & 1\\_10\\\\\n",
       "\t 0 & 19 & 0.2550973 & 116 & 0\\_19\\\\\n",
       "\t 0 & 17 & 0.2175510 &  73 & 0\\_17\\\\\n",
       "\t 0 & 16 & 0.2136721 &  95 & 0\\_16\\\\\n",
       "\t 1 & 3  & 0.2069468 &  72 & 1\\_3 \\\\\n",
       "\t 2 & 19 & 0.2036210 &  75 & 2\\_19\\\\\n",
       "\t 3 & 7  & 0.1862740 & 111 & 3\\_7 \\\\\n",
       "\t 0 & 13 & 0.1859351 &  84 & 0\\_13\\\\\n",
       "\t 3 & 3  & 0.1837243 &  82 & 3\\_3 \\\\\n",
       "\t 2 & 10 & 0.1799957 &  62 & 2\\_10\\\\\n",
       "\t 3 & 15 & 0.1593575 &  66 & 3\\_15\\\\\n",
       "\t 1 & 17 & 0.1512981 &  60 & 1\\_17\\\\\n",
       "\t 1 & 16 & 0.1472106 &  63 & 1\\_16\\\\\n",
       "\t 0 & 2  & 0.1413519 &  67 & 0\\_2 \\\\\n",
       "\t 3 & 9  & 0.1377571 &  64 & 3\\_9 \\\\\n",
       "\t 3 & 10 & 0.1363548 &  73 & 3\\_10\\\\\n",
       "\t 1 & 6  & 0.1343452 &  59 & 1\\_6 \\\\\n",
       "\t 3 & 14 & 0.1303884 &  75 & 3\\_14\\\\\n",
       "\t 1 & 11 & 0.1299529 &  46 & 1\\_11\\\\\n",
       "\t 0 & 5  & 0.1284531 &  56 & 0\\_5 \\\\\n",
       "\t 0 & 3  & 0.1280242 &  48 & 0\\_3 \\\\\n",
       "\t 1 & 8  & 0.1273626 &  53 & 1\\_8 \\\\\n",
       "\t 3 & 11 & 0.1262919 &  65 & 3\\_11\\\\\n",
       "\t 2 & 5  & 0.1221419 &  46 & 2\\_5 \\\\\n",
       "\t 0 & 14 & 0.1212796 &  48 & 0\\_14\\\\\n",
       "\t 3 & 19 & 0.1180988 &  45 & 3\\_19\\\\\n",
       "\t 2 & 16 & 0.1176579 &  43 & 2\\_16\\\\\n",
       "\t 0 & 1  & 0.1119676 &  41 & 0\\_1 \\\\\n",
       "\t 1 & 13 & 0.1101115 &  55 & 1\\_13\\\\\n",
       "\t ⋮ & ⋮ & ⋮ & ⋮ & ⋮\\\\\n",
       "\t 3 & 12 & 0.068464219 & 46 & 3\\_12\\\\\n",
       "\t 1 & 4  & 0.063830351 & 25 & 1\\_4 \\\\\n",
       "\t 2 & 7  & 0.062245666 & 22 & 2\\_7 \\\\\n",
       "\t 2 & 12 & 0.062122818 & 26 & 2\\_12\\\\\n",
       "\t 2 & 1  & 0.058752169 & 24 & 2\\_1 \\\\\n",
       "\t 3 & 16 & 0.057933877 & 41 & 3\\_16\\\\\n",
       "\t 2 & 9  & 0.057638857 & 23 & 2\\_9 \\\\\n",
       "\t 1 & 2  & 0.055953414 & 28 & 1\\_2 \\\\\n",
       "\t 1 & 18 & 0.055854041 & 29 & 1\\_18\\\\\n",
       "\t 0 & 10 & 0.054125121 & 22 & 0\\_10\\\\\n",
       "\t 2 & 15 & 0.053154896 & 20 & 2\\_15\\\\\n",
       "\t 2 & 18 & 0.050866848 & 20 & 2\\_18\\\\\n",
       "\t 3 & 17 & 0.048266191 & 35 & 3\\_17\\\\\n",
       "\t 2 & 0  & 0.046321463 & 19 & 2\\_0 \\\\\n",
       "\t 2 & 17 & 0.042981527 & 16 & 2\\_17\\\\\n",
       "\t 3 & 18 & 0.042372089 & 32 & 3\\_18\\\\\n",
       "\t 0 & 4  & 0.041325807 & 16 & 0\\_4 \\\\\n",
       "\t 0 & 0  & 0.037509014 & 14 & 0\\_0 \\\\\n",
       "\t 2 & 4  & 0.037322830 & 14 & 2\\_4 \\\\\n",
       "\t 0 & 8  & 0.035140612 & 17 & 0\\_8 \\\\\n",
       "\t 2 & 6  & 0.035004069 & 15 & 2\\_6 \\\\\n",
       "\t 1 & 0  & 0.028725314 & 16 & 1\\_0 \\\\\n",
       "\t 1 & 5  & 0.025631513 &  9 & 1\\_5 \\\\\n",
       "\t 3 & 5  & 0.025301717 & 10 & 3\\_5 \\\\\n",
       "\t 1 & 1  & 0.025134650 & 14 & 1\\_1 \\\\\n",
       "\t 0 & 9  & 0.017405575 &  7 & 0\\_9 \\\\\n",
       "\t 1 & 7  & 0.016356734 &  7 & 1\\_7 \\\\\n",
       "\t 0 & 11 & 0.010890917 &  5 & 0\\_11\\\\\n",
       "\t 0 & 15 & 0.010890917 &  5 & 0\\_15\\\\\n",
       "\t 0 & 6  & 0.005165726 &  2 & 0\\_6 \\\\\n",
       "\\end{tabular}\n"
      ],
      "text/markdown": [
       "\n",
       "A grouped_df: 80 × 5\n",
       "\n",
       "| donor &lt;fct&gt; | lineage &lt;fct&gt; | norm.total &lt;dbl&gt; | total &lt;int&gt; | name &lt;fct&gt; |\n",
       "|---|---|---|---|---|\n",
       "| 2 | 2  | 0.4485496 | 146 | 2_2  |\n",
       "| 1 | 10 | 0.2807542 | 111 | 1_10 |\n",
       "| 0 | 19 | 0.2550973 | 116 | 0_19 |\n",
       "| 0 | 17 | 0.2175510 |  73 | 0_17 |\n",
       "| 0 | 16 | 0.2136721 |  95 | 0_16 |\n",
       "| 1 | 3  | 0.2069468 |  72 | 1_3  |\n",
       "| 2 | 19 | 0.2036210 |  75 | 2_19 |\n",
       "| 3 | 7  | 0.1862740 | 111 | 3_7  |\n",
       "| 0 | 13 | 0.1859351 |  84 | 0_13 |\n",
       "| 3 | 3  | 0.1837243 |  82 | 3_3  |\n",
       "| 2 | 10 | 0.1799957 |  62 | 2_10 |\n",
       "| 3 | 15 | 0.1593575 |  66 | 3_15 |\n",
       "| 1 | 17 | 0.1512981 |  60 | 1_17 |\n",
       "| 1 | 16 | 0.1472106 |  63 | 1_16 |\n",
       "| 0 | 2  | 0.1413519 |  67 | 0_2  |\n",
       "| 3 | 9  | 0.1377571 |  64 | 3_9  |\n",
       "| 3 | 10 | 0.1363548 |  73 | 3_10 |\n",
       "| 1 | 6  | 0.1343452 |  59 | 1_6  |\n",
       "| 3 | 14 | 0.1303884 |  75 | 3_14 |\n",
       "| 1 | 11 | 0.1299529 |  46 | 1_11 |\n",
       "| 0 | 5  | 0.1284531 |  56 | 0_5  |\n",
       "| 0 | 3  | 0.1280242 |  48 | 0_3  |\n",
       "| 1 | 8  | 0.1273626 |  53 | 1_8  |\n",
       "| 3 | 11 | 0.1262919 |  65 | 3_11 |\n",
       "| 2 | 5  | 0.1221419 |  46 | 2_5  |\n",
       "| 0 | 14 | 0.1212796 |  48 | 0_14 |\n",
       "| 3 | 19 | 0.1180988 |  45 | 3_19 |\n",
       "| 2 | 16 | 0.1176579 |  43 | 2_16 |\n",
       "| 0 | 1  | 0.1119676 |  41 | 0_1  |\n",
       "| 1 | 13 | 0.1101115 |  55 | 1_13 |\n",
       "| ⋮ | ⋮ | ⋮ | ⋮ | ⋮ |\n",
       "| 3 | 12 | 0.068464219 | 46 | 3_12 |\n",
       "| 1 | 4  | 0.063830351 | 25 | 1_4  |\n",
       "| 2 | 7  | 0.062245666 | 22 | 2_7  |\n",
       "| 2 | 12 | 0.062122818 | 26 | 2_12 |\n",
       "| 2 | 1  | 0.058752169 | 24 | 2_1  |\n",
       "| 3 | 16 | 0.057933877 | 41 | 3_16 |\n",
       "| 2 | 9  | 0.057638857 | 23 | 2_9  |\n",
       "| 1 | 2  | 0.055953414 | 28 | 1_2  |\n",
       "| 1 | 18 | 0.055854041 | 29 | 1_18 |\n",
       "| 0 | 10 | 0.054125121 | 22 | 0_10 |\n",
       "| 2 | 15 | 0.053154896 | 20 | 2_15 |\n",
       "| 2 | 18 | 0.050866848 | 20 | 2_18 |\n",
       "| 3 | 17 | 0.048266191 | 35 | 3_17 |\n",
       "| 2 | 0  | 0.046321463 | 19 | 2_0  |\n",
       "| 2 | 17 | 0.042981527 | 16 | 2_17 |\n",
       "| 3 | 18 | 0.042372089 | 32 | 3_18 |\n",
       "| 0 | 4  | 0.041325807 | 16 | 0_4  |\n",
       "| 0 | 0  | 0.037509014 | 14 | 0_0  |\n",
       "| 2 | 4  | 0.037322830 | 14 | 2_4  |\n",
       "| 0 | 8  | 0.035140612 | 17 | 0_8  |\n",
       "| 2 | 6  | 0.035004069 | 15 | 2_6  |\n",
       "| 1 | 0  | 0.028725314 | 16 | 1_0  |\n",
       "| 1 | 5  | 0.025631513 |  9 | 1_5  |\n",
       "| 3 | 5  | 0.025301717 | 10 | 3_5  |\n",
       "| 1 | 1  | 0.025134650 | 14 | 1_1  |\n",
       "| 0 | 9  | 0.017405575 |  7 | 0_9  |\n",
       "| 1 | 7  | 0.016356734 |  7 | 1_7  |\n",
       "| 0 | 11 | 0.010890917 |  5 | 0_11 |\n",
       "| 0 | 15 | 0.010890917 |  5 | 0_15 |\n",
       "| 0 | 6  | 0.005165726 |  2 | 0_6  |\n",
       "\n"
      ],
      "text/plain": [
       "   donor lineage norm.total  total name\n",
       "1  2     2       0.4485496   146   2_2 \n",
       "2  1     10      0.2807542   111   1_10\n",
       "3  0     19      0.2550973   116   0_19\n",
       "4  0     17      0.2175510    73   0_17\n",
       "5  0     16      0.2136721    95   0_16\n",
       "6  1     3       0.2069468    72   1_3 \n",
       "7  2     19      0.2036210    75   2_19\n",
       "8  3     7       0.1862740   111   3_7 \n",
       "9  0     13      0.1859351    84   0_13\n",
       "10 3     3       0.1837243    82   3_3 \n",
       "11 2     10      0.1799957    62   2_10\n",
       "12 3     15      0.1593575    66   3_15\n",
       "13 1     17      0.1512981    60   1_17\n",
       "14 1     16      0.1472106    63   1_16\n",
       "15 0     2       0.1413519    67   0_2 \n",
       "16 3     9       0.1377571    64   3_9 \n",
       "17 3     10      0.1363548    73   3_10\n",
       "18 1     6       0.1343452    59   1_6 \n",
       "19 3     14      0.1303884    75   3_14\n",
       "20 1     11      0.1299529    46   1_11\n",
       "21 0     5       0.1284531    56   0_5 \n",
       "22 0     3       0.1280242    48   0_3 \n",
       "23 1     8       0.1273626    53   1_8 \n",
       "24 3     11      0.1262919    65   3_11\n",
       "25 2     5       0.1221419    46   2_5 \n",
       "26 0     14      0.1212796    48   0_14\n",
       "27 3     19      0.1180988    45   3_19\n",
       "28 2     16      0.1176579    43   2_16\n",
       "29 0     1       0.1119676    41   0_1 \n",
       "30 1     13      0.1101115    55   1_13\n",
       "⋮  ⋮     ⋮       ⋮           ⋮     ⋮   \n",
       "51 3     12      0.068464219 46    3_12\n",
       "52 1     4       0.063830351 25    1_4 \n",
       "53 2     7       0.062245666 22    2_7 \n",
       "54 2     12      0.062122818 26    2_12\n",
       "55 2     1       0.058752169 24    2_1 \n",
       "56 3     16      0.057933877 41    3_16\n",
       "57 2     9       0.057638857 23    2_9 \n",
       "58 1     2       0.055953414 28    1_2 \n",
       "59 1     18      0.055854041 29    1_18\n",
       "60 0     10      0.054125121 22    0_10\n",
       "61 2     15      0.053154896 20    2_15\n",
       "62 2     18      0.050866848 20    2_18\n",
       "63 3     17      0.048266191 35    3_17\n",
       "64 2     0       0.046321463 19    2_0 \n",
       "65 2     17      0.042981527 16    2_17\n",
       "66 3     18      0.042372089 32    3_18\n",
       "67 0     4       0.041325807 16    0_4 \n",
       "68 0     0       0.037509014 14    0_0 \n",
       "69 2     4       0.037322830 14    2_4 \n",
       "70 0     8       0.035140612 17    0_8 \n",
       "71 2     6       0.035004069 15    2_6 \n",
       "72 1     0       0.028725314 16    1_0 \n",
       "73 1     5       0.025631513  9    1_5 \n",
       "74 3     5       0.025301717 10    3_5 \n",
       "75 1     1       0.025134650 14    1_1 \n",
       "76 0     9       0.017405575  7    0_9 \n",
       "77 1     7       0.016356734  7    1_7 \n",
       "78 0     11      0.010890917  5    0_11\n",
       "79 0     15      0.010890917  5    0_15\n",
       "80 0     6       0.005165726  2    0_6 "
      ]
     },
     "metadata": {},
     "output_type": "display_data"
    }
   ],
   "source": [
    "clone.sizes <- counts.norm.sizes %>% \n",
    "               group_by(donor,lineage) %>% \n",
    "               summarize(norm.total=sum(norm), total=sum(size)) %>% \n",
    "               arrange(desc(norm.total)) %>% \n",
    "               mutate(name=factor(paste0(donor,\"_\", lineage)))\n",
    "\n",
    "\n",
    "clone.sizes"
   ]
  },
  {
   "cell_type": "code",
   "execution_count": 11,
   "id": "c5259eb4",
   "metadata": {
    "execution": {
     "iopub.execute_input": "2021-12-03T21:21:51.836079Z",
     "iopub.status.busy": "2021-12-03T21:21:51.833882Z",
     "iopub.status.idle": "2021-12-03T21:21:51.862763Z",
     "shell.execute_reply": "2021-12-03T21:21:51.861544Z"
    },
    "papermill": {
     "duration": 0.1316,
     "end_time": "2021-12-03T21:21:51.863012",
     "exception": false,
     "start_time": "2021-12-03T21:21:51.731412",
     "status": "completed"
    },
    "scrolled": true,
    "tags": []
   },
   "outputs": [],
   "source": [
    "clone.sizes <- clone.sizes %>% group_by(donor) %>% arrange(donor, desc(norm.total)) %>% \n",
    "                               mutate(cdf.norm=cumsum(norm.total)/2, cdf =cumsum(total),\n",
    "                                      index=1:n()) %>% \n",
    "                               ungroup %>% arrange(donor, desc(norm.total)) \n",
    "#head(clone.sizes,100)"
   ]
  },
  {
   "cell_type": "code",
   "execution_count": null,
   "id": "2817d47e",
   "metadata": {
    "papermill": {
     "duration": 0.093296,
     "end_time": "2021-12-03T21:21:52.058185",
     "exception": false,
     "start_time": "2021-12-03T21:21:51.964889",
     "status": "completed"
    },
    "tags": []
   },
   "outputs": [],
   "source": []
  },
  {
   "cell_type": "code",
   "execution_count": 12,
   "id": "fde9c568",
   "metadata": {
    "execution": {
     "iopub.execute_input": "2021-12-03T21:21:52.256555Z",
     "iopub.status.busy": "2021-12-03T21:21:52.253160Z",
     "iopub.status.idle": "2021-12-03T21:21:53.335761Z",
     "shell.execute_reply": "2021-12-03T21:21:53.333932Z"
    },
    "papermill": {
     "duration": 1.184856,
     "end_time": "2021-12-03T21:21:53.335921",
     "exception": false,
     "start_time": "2021-12-03T21:21:52.151065",
     "status": "completed"
    },
    "scrolled": true,
    "tags": []
   },
   "outputs": [
    {
     "name": "stderr",
     "output_type": "stream",
     "text": [
      "Saving 6.67 x 6.67 in image\n",
      "\n"
     ]
    },
    {
     "data": {
      "image/png": "[encoded data removed]",
      "text/plain": [
       "plot without title"
      ]
     },
     "metadata": {
      "image/png": {
       "height": 420,
       "width": 420
      }
     },
     "output_type": "display_data"
    }
   ],
   "source": [
    "p <- ggplot(data = clone.sizes, aes(index, cdf.norm)) +\n",
    "  geom_point(color = \"steelblue\", size = 1) +\n",
    "  facet_wrap(~ donor) \n",
    "\n",
    "p <- p + geom_hline(yintercept=cdf_thresh, color='green') \n",
    "ggsave(file.path(outdir, \"clones.cdf.png\"))\n",
    "p\n"
   ]
  },
  {
   "cell_type": "code",
   "execution_count": 13,
   "id": "10e0018a",
   "metadata": {
    "execution": {
     "iopub.execute_input": "2021-12-03T21:21:53.594540Z",
     "iopub.status.busy": "2021-12-03T21:21:53.591185Z",
     "iopub.status.idle": "2021-12-03T21:21:53.614364Z",
     "shell.execute_reply": "2021-12-03T21:21:53.613039Z"
    },
    "papermill": {
     "duration": 0.150958,
     "end_time": "2021-12-03T21:21:53.614524",
     "exception": false,
     "start_time": "2021-12-03T21:21:53.463566",
     "status": "completed"
    },
    "tags": []
   },
   "outputs": [
    {
     "data": {
      "text/html": [
       "0.0931370049294578"
      ],
      "text/latex": [
       "0.0931370049294578"
      ],
      "text/markdown": [
       "0.0931370049294578"
      ],
      "text/plain": [
       "[1] 0.093137"
      ]
     },
     "metadata": {},
     "output_type": "display_data"
    },
    {
     "data": {
      "text/html": [
       "1"
      ],
      "text/latex": [
       "1"
      ],
      "text/markdown": [
       "1"
      ],
      "text/plain": [
       "[1] 1"
      ]
     },
     "metadata": {},
     "output_type": "display_data"
    }
   ],
   "source": [
    "min(clone.sizes$cdf.norm)\n",
    "max(clone.sizes$cdf.norm)"
   ]
  },
  {
   "cell_type": "code",
   "execution_count": 14,
   "id": "d172f01e",
   "metadata": {
    "execution": {
     "iopub.execute_input": "2021-12-03T21:21:53.877278Z",
     "iopub.status.busy": "2021-12-03T21:21:53.874228Z",
     "iopub.status.idle": "2021-12-03T21:21:53.964183Z",
     "shell.execute_reply": "2021-12-03T21:21:53.962999Z"
    },
    "papermill": {
     "duration": 0.222361,
     "end_time": "2021-12-03T21:21:53.964326",
     "exception": false,
     "start_time": "2021-12-03T21:21:53.741965",
     "status": "completed"
    },
    "scrolled": true,
    "tags": []
   },
   "outputs": [
    {
     "data": {
      "text/html": [
       "<table class=\"dataframe\">\n",
       "<caption>A tibble: 80 × 8</caption>\n",
       "<thead>\n",
       "\t<tr><th scope=col>donor</th><th scope=col>lineage</th><th scope=col>norm.total</th><th scope=col>total</th><th scope=col>name</th><th scope=col>cdf.norm</th><th scope=col>cdf</th><th scope=col>index</th></tr>\n",
       "\t<tr><th scope=col>&lt;fct&gt;</th><th scope=col>&lt;fct&gt;</th><th scope=col>&lt;dbl&gt;</th><th scope=col>&lt;int&gt;</th><th scope=col>&lt;fct&gt;</th><th scope=col>&lt;dbl&gt;</th><th scope=col>&lt;int&gt;</th><th scope=col>&lt;int&gt;</th></tr>\n",
       "</thead>\n",
       "<tbody>\n",
       "\t<tr><td>0</td><td>19</td><td>0.255097347</td><td>116</td><td>0_19</td><td>0.1275487</td><td>116</td><td> 1</td></tr>\n",
       "\t<tr><td>0</td><td>17</td><td>0.217551036</td><td> 73</td><td>0_17</td><td>0.2363242</td><td>189</td><td> 2</td></tr>\n",
       "\t<tr><td>0</td><td>16</td><td>0.213672079</td><td> 95</td><td>0_16</td><td>0.3431602</td><td>284</td><td> 3</td></tr>\n",
       "\t<tr><td>0</td><td>13</td><td>0.185935052</td><td> 84</td><td>0_13</td><td>0.4361278</td><td>368</td><td> 4</td></tr>\n",
       "\t<tr><td>0</td><td>2 </td><td>0.141351916</td><td> 67</td><td>0_2 </td><td>0.5068037</td><td>435</td><td> 5</td></tr>\n",
       "\t<tr><td>0</td><td>5 </td><td>0.128453142</td><td> 56</td><td>0_5 </td><td>0.5710303</td><td>491</td><td> 6</td></tr>\n",
       "\t<tr><td>0</td><td>3 </td><td>0.128024219</td><td> 48</td><td>0_3 </td><td>0.6350424</td><td>539</td><td> 7</td></tr>\n",
       "\t<tr><td>0</td><td>14</td><td>0.121279558</td><td> 48</td><td>0_14</td><td>0.6956822</td><td>587</td><td> 8</td></tr>\n",
       "\t<tr><td>0</td><td>1 </td><td>0.111967576</td><td> 41</td><td>0_1 </td><td>0.7516660</td><td>628</td><td> 9</td></tr>\n",
       "\t<tr><td>0</td><td>12</td><td>0.108579705</td><td> 47</td><td>0_12</td><td>0.8059558</td><td>675</td><td>10</td></tr>\n",
       "\t<tr><td>0</td><td>18</td><td>0.097918791</td><td> 40</td><td>0_18</td><td>0.8549152</td><td>715</td><td>11</td></tr>\n",
       "\t<tr><td>0</td><td>7 </td><td>0.077715891</td><td> 28</td><td>0_7 </td><td>0.8937732</td><td>743</td><td>12</td></tr>\n",
       "\t<tr><td>0</td><td>10</td><td>0.054125121</td><td> 22</td><td>0_10</td><td>0.9208357</td><td>765</td><td>13</td></tr>\n",
       "\t<tr><td>0</td><td>4 </td><td>0.041325807</td><td> 16</td><td>0_4 </td><td>0.9414986</td><td>781</td><td>14</td></tr>\n",
       "\t<tr><td>0</td><td>0 </td><td>0.037509014</td><td> 14</td><td>0_0 </td><td>0.9602531</td><td>795</td><td>15</td></tr>\n",
       "\t<tr><td>0</td><td>8 </td><td>0.035140612</td><td> 17</td><td>0_8 </td><td>0.9778234</td><td>812</td><td>16</td></tr>\n",
       "\t<tr><td>0</td><td>9 </td><td>0.017405575</td><td>  7</td><td>0_9 </td><td>0.9865262</td><td>819</td><td>17</td></tr>\n",
       "\t<tr><td>0</td><td>11</td><td>0.010890917</td><td>  5</td><td>0_11</td><td>0.9919717</td><td>824</td><td>18</td></tr>\n",
       "\t<tr><td>0</td><td>15</td><td>0.010890917</td><td>  5</td><td>0_15</td><td>0.9974171</td><td>829</td><td>19</td></tr>\n",
       "\t<tr><td>0</td><td>6 </td><td>0.005165726</td><td>  2</td><td>0_6 </td><td>1.0000000</td><td>831</td><td>20</td></tr>\n",
       "\t<tr><td>1</td><td>10</td><td>0.280754172</td><td>111</td><td>1_10</td><td>0.1403771</td><td>111</td><td> 1</td></tr>\n",
       "\t<tr><td>1</td><td>3 </td><td>0.206946809</td><td> 72</td><td>1_3 </td><td>0.2438505</td><td>183</td><td> 2</td></tr>\n",
       "\t<tr><td>1</td><td>17</td><td>0.151298138</td><td> 60</td><td>1_17</td><td>0.3194996</td><td>243</td><td> 3</td></tr>\n",
       "\t<tr><td>1</td><td>16</td><td>0.147210610</td><td> 63</td><td>1_16</td><td>0.3931049</td><td>306</td><td> 4</td></tr>\n",
       "\t<tr><td>1</td><td>6 </td><td>0.134345168</td><td> 59</td><td>1_6 </td><td>0.4602774</td><td>365</td><td> 5</td></tr>\n",
       "\t<tr><td>1</td><td>11</td><td>0.129952897</td><td> 46</td><td>1_11</td><td>0.5252539</td><td>411</td><td> 6</td></tr>\n",
       "\t<tr><td>1</td><td>8 </td><td>0.127362584</td><td> 53</td><td>1_8 </td><td>0.5889352</td><td>464</td><td> 7</td></tr>\n",
       "\t<tr><td>1</td><td>13</td><td>0.110111496</td><td> 55</td><td>1_13</td><td>0.6439909</td><td>519</td><td> 8</td></tr>\n",
       "\t<tr><td>1</td><td>12</td><td>0.098637270</td><td> 37</td><td>1_12</td><td>0.6933096</td><td>556</td><td> 9</td></tr>\n",
       "\t<tr><td>1</td><td>15</td><td>0.096245702</td><td> 42</td><td>1_15</td><td>0.7414324</td><td>598</td><td>10</td></tr>\n",
       "\t<tr><td>⋮</td><td>⋮</td><td>⋮</td><td>⋮</td><td>⋮</td><td>⋮</td><td>⋮</td><td>⋮</td></tr>\n",
       "\t<tr><td>2</td><td>7 </td><td>0.06224567</td><td> 22</td><td>2_7 </td><td>0.7779173</td><td> 560</td><td>11</td></tr>\n",
       "\t<tr><td>2</td><td>12</td><td>0.06212282</td><td> 26</td><td>2_12</td><td>0.8089787</td><td> 586</td><td>12</td></tr>\n",
       "\t<tr><td>2</td><td>1 </td><td>0.05875217</td><td> 24</td><td>2_1 </td><td>0.8383548</td><td> 610</td><td>13</td></tr>\n",
       "\t<tr><td>2</td><td>9 </td><td>0.05763886</td><td> 23</td><td>2_9 </td><td>0.8671742</td><td> 633</td><td>14</td></tr>\n",
       "\t<tr><td>2</td><td>15</td><td>0.05315490</td><td> 20</td><td>2_15</td><td>0.8937516</td><td> 653</td><td>15</td></tr>\n",
       "\t<tr><td>2</td><td>18</td><td>0.05086685</td><td> 20</td><td>2_18</td><td>0.9191851</td><td> 673</td><td>16</td></tr>\n",
       "\t<tr><td>2</td><td>0 </td><td>0.04632146</td><td> 19</td><td>2_0 </td><td>0.9423458</td><td> 692</td><td>17</td></tr>\n",
       "\t<tr><td>2</td><td>17</td><td>0.04298153</td><td> 16</td><td>2_17</td><td>0.9638366</td><td> 708</td><td>18</td></tr>\n",
       "\t<tr><td>2</td><td>4 </td><td>0.03732283</td><td> 14</td><td>2_4 </td><td>0.9824980</td><td> 722</td><td>19</td></tr>\n",
       "\t<tr><td>2</td><td>6 </td><td>0.03500407</td><td> 15</td><td>2_6 </td><td>1.0000000</td><td> 737</td><td>20</td></tr>\n",
       "\t<tr><td>3</td><td>7 </td><td>0.18627401</td><td>111</td><td>3_7 </td><td>0.0931370</td><td> 111</td><td> 1</td></tr>\n",
       "\t<tr><td>3</td><td>3 </td><td>0.18372429</td><td> 82</td><td>3_3 </td><td>0.1849992</td><td> 193</td><td> 2</td></tr>\n",
       "\t<tr><td>3</td><td>15</td><td>0.15935747</td><td> 66</td><td>3_15</td><td>0.2646779</td><td> 259</td><td> 3</td></tr>\n",
       "\t<tr><td>3</td><td>9 </td><td>0.13775710</td><td> 64</td><td>3_9 </td><td>0.3335564</td><td> 323</td><td> 4</td></tr>\n",
       "\t<tr><td>3</td><td>10</td><td>0.13635475</td><td> 73</td><td>3_10</td><td>0.4017338</td><td> 396</td><td> 5</td></tr>\n",
       "\t<tr><td>3</td><td>14</td><td>0.13038841</td><td> 75</td><td>3_14</td><td>0.4669280</td><td> 471</td><td> 6</td></tr>\n",
       "\t<tr><td>3</td><td>11</td><td>0.12629186</td><td> 65</td><td>3_11</td><td>0.5300739</td><td> 536</td><td> 7</td></tr>\n",
       "\t<tr><td>3</td><td>19</td><td>0.11809876</td><td> 45</td><td>3_19</td><td>0.5891233</td><td> 581</td><td> 8</td></tr>\n",
       "\t<tr><td>3</td><td>8 </td><td>0.10099014</td><td> 55</td><td>3_8 </td><td>0.6396184</td><td> 636</td><td> 9</td></tr>\n",
       "\t<tr><td>3</td><td>2 </td><td>0.09940931</td><td> 47</td><td>3_2 </td><td>0.6893230</td><td> 683</td><td>10</td></tr>\n",
       "\t<tr><td>3</td><td>0 </td><td>0.08449346</td><td> 52</td><td>3_0 </td><td>0.7315698</td><td> 735</td><td>11</td></tr>\n",
       "\t<tr><td>3</td><td>13</td><td>0.07813191</td><td> 52</td><td>3_13</td><td>0.7706357</td><td> 787</td><td>12</td></tr>\n",
       "\t<tr><td>3</td><td>4 </td><td>0.07805966</td><td> 57</td><td>3_4 </td><td>0.8096656</td><td> 844</td><td>13</td></tr>\n",
       "\t<tr><td>3</td><td>6 </td><td>0.06986656</td><td> 37</td><td>3_6 </td><td>0.8445988</td><td> 881</td><td>14</td></tr>\n",
       "\t<tr><td>3</td><td>1 </td><td>0.06846422</td><td> 46</td><td>3_1 </td><td>0.8788310</td><td> 927</td><td>15</td></tr>\n",
       "\t<tr><td>3</td><td>12</td><td>0.06846422</td><td> 46</td><td>3_12</td><td>0.9130631</td><td> 973</td><td>16</td></tr>\n",
       "\t<tr><td>3</td><td>16</td><td>0.05793388</td><td> 41</td><td>3_16</td><td>0.9420300</td><td>1014</td><td>17</td></tr>\n",
       "\t<tr><td>3</td><td>17</td><td>0.04826619</td><td> 35</td><td>3_17</td><td>0.9661631</td><td>1049</td><td>18</td></tr>\n",
       "\t<tr><td>3</td><td>18</td><td>0.04237209</td><td> 32</td><td>3_18</td><td>0.9873491</td><td>1081</td><td>19</td></tr>\n",
       "\t<tr><td>3</td><td>5 </td><td>0.02530172</td><td> 10</td><td>3_5 </td><td>1.0000000</td><td>1091</td><td>20</td></tr>\n",
       "</tbody>\n",
       "</table>\n"
      ],
      "text/latex": [
       "A tibble: 80 × 8\n",
       "\\begin{tabular}{llllllll}\n",
       " donor & lineage & norm.total & total & name & cdf.norm & cdf & index\\\\\n",
       " <fct> & <fct> & <dbl> & <int> & <fct> & <dbl> & <int> & <int>\\\\\n",
       "\\hline\n",
       "\t 0 & 19 & 0.255097347 & 116 & 0\\_19 & 0.1275487 & 116 &  1\\\\\n",
       "\t 0 & 17 & 0.217551036 &  73 & 0\\_17 & 0.2363242 & 189 &  2\\\\\n",
       "\t 0 & 16 & 0.213672079 &  95 & 0\\_16 & 0.3431602 & 284 &  3\\\\\n",
       "\t 0 & 13 & 0.185935052 &  84 & 0\\_13 & 0.4361278 & 368 &  4\\\\\n",
       "\t 0 & 2  & 0.141351916 &  67 & 0\\_2  & 0.5068037 & 435 &  5\\\\\n",
       "\t 0 & 5  & 0.128453142 &  56 & 0\\_5  & 0.5710303 & 491 &  6\\\\\n",
       "\t 0 & 3  & 0.128024219 &  48 & 0\\_3  & 0.6350424 & 539 &  7\\\\\n",
       "\t 0 & 14 & 0.121279558 &  48 & 0\\_14 & 0.6956822 & 587 &  8\\\\\n",
       "\t 0 & 1  & 0.111967576 &  41 & 0\\_1  & 0.7516660 & 628 &  9\\\\\n",
       "\t 0 & 12 & 0.108579705 &  47 & 0\\_12 & 0.8059558 & 675 & 10\\\\\n",
       "\t 0 & 18 & 0.097918791 &  40 & 0\\_18 & 0.8549152 & 715 & 11\\\\\n",
       "\t 0 & 7  & 0.077715891 &  28 & 0\\_7  & 0.8937732 & 743 & 12\\\\\n",
       "\t 0 & 10 & 0.054125121 &  22 & 0\\_10 & 0.9208357 & 765 & 13\\\\\n",
       "\t 0 & 4  & 0.041325807 &  16 & 0\\_4  & 0.9414986 & 781 & 14\\\\\n",
       "\t 0 & 0  & 0.037509014 &  14 & 0\\_0  & 0.9602531 & 795 & 15\\\\\n",
       "\t 0 & 8  & 0.035140612 &  17 & 0\\_8  & 0.9778234 & 812 & 16\\\\\n",
       "\t 0 & 9  & 0.017405575 &   7 & 0\\_9  & 0.9865262 & 819 & 17\\\\\n",
       "\t 0 & 11 & 0.010890917 &   5 & 0\\_11 & 0.9919717 & 824 & 18\\\\\n",
       "\t 0 & 15 & 0.010890917 &   5 & 0\\_15 & 0.9974171 & 829 & 19\\\\\n",
       "\t 0 & 6  & 0.005165726 &   2 & 0\\_6  & 1.0000000 & 831 & 20\\\\\n",
       "\t 1 & 10 & 0.280754172 & 111 & 1\\_10 & 0.1403771 & 111 &  1\\\\\n",
       "\t 1 & 3  & 0.206946809 &  72 & 1\\_3  & 0.2438505 & 183 &  2\\\\\n",
       "\t 1 & 17 & 0.151298138 &  60 & 1\\_17 & 0.3194996 & 243 &  3\\\\\n",
       "\t 1 & 16 & 0.147210610 &  63 & 1\\_16 & 0.3931049 & 306 &  4\\\\\n",
       "\t 1 & 6  & 0.134345168 &  59 & 1\\_6  & 0.4602774 & 365 &  5\\\\\n",
       "\t 1 & 11 & 0.129952897 &  46 & 1\\_11 & 0.5252539 & 411 &  6\\\\\n",
       "\t 1 & 8  & 0.127362584 &  53 & 1\\_8  & 0.5889352 & 464 &  7\\\\\n",
       "\t 1 & 13 & 0.110111496 &  55 & 1\\_13 & 0.6439909 & 519 &  8\\\\\n",
       "\t 1 & 12 & 0.098637270 &  37 & 1\\_12 & 0.6933096 & 556 &  9\\\\\n",
       "\t 1 & 15 & 0.096245702 &  42 & 1\\_15 & 0.7414324 & 598 & 10\\\\\n",
       "\t ⋮ & ⋮ & ⋮ & ⋮ & ⋮ & ⋮ & ⋮ & ⋮\\\\\n",
       "\t 2 & 7  & 0.06224567 &  22 & 2\\_7  & 0.7779173 &  560 & 11\\\\\n",
       "\t 2 & 12 & 0.06212282 &  26 & 2\\_12 & 0.8089787 &  586 & 12\\\\\n",
       "\t 2 & 1  & 0.05875217 &  24 & 2\\_1  & 0.8383548 &  610 & 13\\\\\n",
       "\t 2 & 9  & 0.05763886 &  23 & 2\\_9  & 0.8671742 &  633 & 14\\\\\n",
       "\t 2 & 15 & 0.05315490 &  20 & 2\\_15 & 0.8937516 &  653 & 15\\\\\n",
       "\t 2 & 18 & 0.05086685 &  20 & 2\\_18 & 0.9191851 &  673 & 16\\\\\n",
       "\t 2 & 0  & 0.04632146 &  19 & 2\\_0  & 0.9423458 &  692 & 17\\\\\n",
       "\t 2 & 17 & 0.04298153 &  16 & 2\\_17 & 0.9638366 &  708 & 18\\\\\n",
       "\t 2 & 4  & 0.03732283 &  14 & 2\\_4  & 0.9824980 &  722 & 19\\\\\n",
       "\t 2 & 6  & 0.03500407 &  15 & 2\\_6  & 1.0000000 &  737 & 20\\\\\n",
       "\t 3 & 7  & 0.18627401 & 111 & 3\\_7  & 0.0931370 &  111 &  1\\\\\n",
       "\t 3 & 3  & 0.18372429 &  82 & 3\\_3  & 0.1849992 &  193 &  2\\\\\n",
       "\t 3 & 15 & 0.15935747 &  66 & 3\\_15 & 0.2646779 &  259 &  3\\\\\n",
       "\t 3 & 9  & 0.13775710 &  64 & 3\\_9  & 0.3335564 &  323 &  4\\\\\n",
       "\t 3 & 10 & 0.13635475 &  73 & 3\\_10 & 0.4017338 &  396 &  5\\\\\n",
       "\t 3 & 14 & 0.13038841 &  75 & 3\\_14 & 0.4669280 &  471 &  6\\\\\n",
       "\t 3 & 11 & 0.12629186 &  65 & 3\\_11 & 0.5300739 &  536 &  7\\\\\n",
       "\t 3 & 19 & 0.11809876 &  45 & 3\\_19 & 0.5891233 &  581 &  8\\\\\n",
       "\t 3 & 8  & 0.10099014 &  55 & 3\\_8  & 0.6396184 &  636 &  9\\\\\n",
       "\t 3 & 2  & 0.09940931 &  47 & 3\\_2  & 0.6893230 &  683 & 10\\\\\n",
       "\t 3 & 0  & 0.08449346 &  52 & 3\\_0  & 0.7315698 &  735 & 11\\\\\n",
       "\t 3 & 13 & 0.07813191 &  52 & 3\\_13 & 0.7706357 &  787 & 12\\\\\n",
       "\t 3 & 4  & 0.07805966 &  57 & 3\\_4  & 0.8096656 &  844 & 13\\\\\n",
       "\t 3 & 6  & 0.06986656 &  37 & 3\\_6  & 0.8445988 &  881 & 14\\\\\n",
       "\t 3 & 1  & 0.06846422 &  46 & 3\\_1  & 0.8788310 &  927 & 15\\\\\n",
       "\t 3 & 12 & 0.06846422 &  46 & 3\\_12 & 0.9130631 &  973 & 16\\\\\n",
       "\t 3 & 16 & 0.05793388 &  41 & 3\\_16 & 0.9420300 & 1014 & 17\\\\\n",
       "\t 3 & 17 & 0.04826619 &  35 & 3\\_17 & 0.9661631 & 1049 & 18\\\\\n",
       "\t 3 & 18 & 0.04237209 &  32 & 3\\_18 & 0.9873491 & 1081 & 19\\\\\n",
       "\t 3 & 5  & 0.02530172 &  10 & 3\\_5  & 1.0000000 & 1091 & 20\\\\\n",
       "\\end{tabular}\n"
      ],
      "text/markdown": [
       "\n",
       "A tibble: 80 × 8\n",
       "\n",
       "| donor &lt;fct&gt; | lineage &lt;fct&gt; | norm.total &lt;dbl&gt; | total &lt;int&gt; | name &lt;fct&gt; | cdf.norm &lt;dbl&gt; | cdf &lt;int&gt; | index &lt;int&gt; |\n",
       "|---|---|---|---|---|---|---|---|\n",
       "| 0 | 19 | 0.255097347 | 116 | 0_19 | 0.1275487 | 116 |  1 |\n",
       "| 0 | 17 | 0.217551036 |  73 | 0_17 | 0.2363242 | 189 |  2 |\n",
       "| 0 | 16 | 0.213672079 |  95 | 0_16 | 0.3431602 | 284 |  3 |\n",
       "| 0 | 13 | 0.185935052 |  84 | 0_13 | 0.4361278 | 368 |  4 |\n",
       "| 0 | 2  | 0.141351916 |  67 | 0_2  | 0.5068037 | 435 |  5 |\n",
       "| 0 | 5  | 0.128453142 |  56 | 0_5  | 0.5710303 | 491 |  6 |\n",
       "| 0 | 3  | 0.128024219 |  48 | 0_3  | 0.6350424 | 539 |  7 |\n",
       "| 0 | 14 | 0.121279558 |  48 | 0_14 | 0.6956822 | 587 |  8 |\n",
       "| 0 | 1  | 0.111967576 |  41 | 0_1  | 0.7516660 | 628 |  9 |\n",
       "| 0 | 12 | 0.108579705 |  47 | 0_12 | 0.8059558 | 675 | 10 |\n",
       "| 0 | 18 | 0.097918791 |  40 | 0_18 | 0.8549152 | 715 | 11 |\n",
       "| 0 | 7  | 0.077715891 |  28 | 0_7  | 0.8937732 | 743 | 12 |\n",
       "| 0 | 10 | 0.054125121 |  22 | 0_10 | 0.9208357 | 765 | 13 |\n",
       "| 0 | 4  | 0.041325807 |  16 | 0_4  | 0.9414986 | 781 | 14 |\n",
       "| 0 | 0  | 0.037509014 |  14 | 0_0  | 0.9602531 | 795 | 15 |\n",
       "| 0 | 8  | 0.035140612 |  17 | 0_8  | 0.9778234 | 812 | 16 |\n",
       "| 0 | 9  | 0.017405575 |   7 | 0_9  | 0.9865262 | 819 | 17 |\n",
       "| 0 | 11 | 0.010890917 |   5 | 0_11 | 0.9919717 | 824 | 18 |\n",
       "| 0 | 15 | 0.010890917 |   5 | 0_15 | 0.9974171 | 829 | 19 |\n",
       "| 0 | 6  | 0.005165726 |   2 | 0_6  | 1.0000000 | 831 | 20 |\n",
       "| 1 | 10 | 0.280754172 | 111 | 1_10 | 0.1403771 | 111 |  1 |\n",
       "| 1 | 3  | 0.206946809 |  72 | 1_3  | 0.2438505 | 183 |  2 |\n",
       "| 1 | 17 | 0.151298138 |  60 | 1_17 | 0.3194996 | 243 |  3 |\n",
       "| 1 | 16 | 0.147210610 |  63 | 1_16 | 0.3931049 | 306 |  4 |\n",
       "| 1 | 6  | 0.134345168 |  59 | 1_6  | 0.4602774 | 365 |  5 |\n",
       "| 1 | 11 | 0.129952897 |  46 | 1_11 | 0.5252539 | 411 |  6 |\n",
       "| 1 | 8  | 0.127362584 |  53 | 1_8  | 0.5889352 | 464 |  7 |\n",
       "| 1 | 13 | 0.110111496 |  55 | 1_13 | 0.6439909 | 519 |  8 |\n",
       "| 1 | 12 | 0.098637270 |  37 | 1_12 | 0.6933096 | 556 |  9 |\n",
       "| 1 | 15 | 0.096245702 |  42 | 1_15 | 0.7414324 | 598 | 10 |\n",
       "| ⋮ | ⋮ | ⋮ | ⋮ | ⋮ | ⋮ | ⋮ | ⋮ |\n",
       "| 2 | 7  | 0.06224567 |  22 | 2_7  | 0.7779173 |  560 | 11 |\n",
       "| 2 | 12 | 0.06212282 |  26 | 2_12 | 0.8089787 |  586 | 12 |\n",
       "| 2 | 1  | 0.05875217 |  24 | 2_1  | 0.8383548 |  610 | 13 |\n",
       "| 2 | 9  | 0.05763886 |  23 | 2_9  | 0.8671742 |  633 | 14 |\n",
       "| 2 | 15 | 0.05315490 |  20 | 2_15 | 0.8937516 |  653 | 15 |\n",
       "| 2 | 18 | 0.05086685 |  20 | 2_18 | 0.9191851 |  673 | 16 |\n",
       "| 2 | 0  | 0.04632146 |  19 | 2_0  | 0.9423458 |  692 | 17 |\n",
       "| 2 | 17 | 0.04298153 |  16 | 2_17 | 0.9638366 |  708 | 18 |\n",
       "| 2 | 4  | 0.03732283 |  14 | 2_4  | 0.9824980 |  722 | 19 |\n",
       "| 2 | 6  | 0.03500407 |  15 | 2_6  | 1.0000000 |  737 | 20 |\n",
       "| 3 | 7  | 0.18627401 | 111 | 3_7  | 0.0931370 |  111 |  1 |\n",
       "| 3 | 3  | 0.18372429 |  82 | 3_3  | 0.1849992 |  193 |  2 |\n",
       "| 3 | 15 | 0.15935747 |  66 | 3_15 | 0.2646779 |  259 |  3 |\n",
       "| 3 | 9  | 0.13775710 |  64 | 3_9  | 0.3335564 |  323 |  4 |\n",
       "| 3 | 10 | 0.13635475 |  73 | 3_10 | 0.4017338 |  396 |  5 |\n",
       "| 3 | 14 | 0.13038841 |  75 | 3_14 | 0.4669280 |  471 |  6 |\n",
       "| 3 | 11 | 0.12629186 |  65 | 3_11 | 0.5300739 |  536 |  7 |\n",
       "| 3 | 19 | 0.11809876 |  45 | 3_19 | 0.5891233 |  581 |  8 |\n",
       "| 3 | 8  | 0.10099014 |  55 | 3_8  | 0.6396184 |  636 |  9 |\n",
       "| 3 | 2  | 0.09940931 |  47 | 3_2  | 0.6893230 |  683 | 10 |\n",
       "| 3 | 0  | 0.08449346 |  52 | 3_0  | 0.7315698 |  735 | 11 |\n",
       "| 3 | 13 | 0.07813191 |  52 | 3_13 | 0.7706357 |  787 | 12 |\n",
       "| 3 | 4  | 0.07805966 |  57 | 3_4  | 0.8096656 |  844 | 13 |\n",
       "| 3 | 6  | 0.06986656 |  37 | 3_6  | 0.8445988 |  881 | 14 |\n",
       "| 3 | 1  | 0.06846422 |  46 | 3_1  | 0.8788310 |  927 | 15 |\n",
       "| 3 | 12 | 0.06846422 |  46 | 3_12 | 0.9130631 |  973 | 16 |\n",
       "| 3 | 16 | 0.05793388 |  41 | 3_16 | 0.9420300 | 1014 | 17 |\n",
       "| 3 | 17 | 0.04826619 |  35 | 3_17 | 0.9661631 | 1049 | 18 |\n",
       "| 3 | 18 | 0.04237209 |  32 | 3_18 | 0.9873491 | 1081 | 19 |\n",
       "| 3 | 5  | 0.02530172 |  10 | 3_5  | 1.0000000 | 1091 | 20 |\n",
       "\n"
      ],
      "text/plain": [
       "   donor lineage norm.total  total name cdf.norm  cdf  index\n",
       "1  0     19      0.255097347 116   0_19 0.1275487 116   1   \n",
       "2  0     17      0.217551036  73   0_17 0.2363242 189   2   \n",
       "3  0     16      0.213672079  95   0_16 0.3431602 284   3   \n",
       "4  0     13      0.185935052  84   0_13 0.4361278 368   4   \n",
       "5  0     2       0.141351916  67   0_2  0.5068037 435   5   \n",
       "6  0     5       0.128453142  56   0_5  0.5710303 491   6   \n",
       "7  0     3       0.128024219  48   0_3  0.6350424 539   7   \n",
       "8  0     14      0.121279558  48   0_14 0.6956822 587   8   \n",
       "9  0     1       0.111967576  41   0_1  0.7516660 628   9   \n",
       "10 0     12      0.108579705  47   0_12 0.8059558 675  10   \n",
       "11 0     18      0.097918791  40   0_18 0.8549152 715  11   \n",
       "12 0     7       0.077715891  28   0_7  0.8937732 743  12   \n",
       "13 0     10      0.054125121  22   0_10 0.9208357 765  13   \n",
       "14 0     4       0.041325807  16   0_4  0.9414986 781  14   \n",
       "15 0     0       0.037509014  14   0_0  0.9602531 795  15   \n",
       "16 0     8       0.035140612  17   0_8  0.9778234 812  16   \n",
       "17 0     9       0.017405575   7   0_9  0.9865262 819  17   \n",
       "18 0     11      0.010890917   5   0_11 0.9919717 824  18   \n",
       "19 0     15      0.010890917   5   0_15 0.9974171 829  19   \n",
       "20 0     6       0.005165726   2   0_6  1.0000000 831  20   \n",
       "21 1     10      0.280754172 111   1_10 0.1403771 111   1   \n",
       "22 1     3       0.206946809  72   1_3  0.2438505 183   2   \n",
       "23 1     17      0.151298138  60   1_17 0.3194996 243   3   \n",
       "24 1     16      0.147210610  63   1_16 0.3931049 306   4   \n",
       "25 1     6       0.134345168  59   1_6  0.4602774 365   5   \n",
       "26 1     11      0.129952897  46   1_11 0.5252539 411   6   \n",
       "27 1     8       0.127362584  53   1_8  0.5889352 464   7   \n",
       "28 1     13      0.110111496  55   1_13 0.6439909 519   8   \n",
       "29 1     12      0.098637270  37   1_12 0.6933096 556   9   \n",
       "30 1     15      0.096245702  42   1_15 0.7414324 598  10   \n",
       "⋮  ⋮     ⋮       ⋮           ⋮     ⋮    ⋮         ⋮    ⋮    \n",
       "51 2     7       0.06224567   22   2_7  0.7779173  560 11   \n",
       "52 2     12      0.06212282   26   2_12 0.8089787  586 12   \n",
       "53 2     1       0.05875217   24   2_1  0.8383548  610 13   \n",
       "54 2     9       0.05763886   23   2_9  0.8671742  633 14   \n",
       "55 2     15      0.05315490   20   2_15 0.8937516  653 15   \n",
       "56 2     18      0.05086685   20   2_18 0.9191851  673 16   \n",
       "57 2     0       0.04632146   19   2_0  0.9423458  692 17   \n",
       "58 2     17      0.04298153   16   2_17 0.9638366  708 18   \n",
       "59 2     4       0.03732283   14   2_4  0.9824980  722 19   \n",
       "60 2     6       0.03500407   15   2_6  1.0000000  737 20   \n",
       "61 3     7       0.18627401  111   3_7  0.0931370  111  1   \n",
       "62 3     3       0.18372429   82   3_3  0.1849992  193  2   \n",
       "63 3     15      0.15935747   66   3_15 0.2646779  259  3   \n",
       "64 3     9       0.13775710   64   3_9  0.3335564  323  4   \n",
       "65 3     10      0.13635475   73   3_10 0.4017338  396  5   \n",
       "66 3     14      0.13038841   75   3_14 0.4669280  471  6   \n",
       "67 3     11      0.12629186   65   3_11 0.5300739  536  7   \n",
       "68 3     19      0.11809876   45   3_19 0.5891233  581  8   \n",
       "69 3     8       0.10099014   55   3_8  0.6396184  636  9   \n",
       "70 3     2       0.09940931   47   3_2  0.6893230  683 10   \n",
       "71 3     0       0.08449346   52   3_0  0.7315698  735 11   \n",
       "72 3     13      0.07813191   52   3_13 0.7706357  787 12   \n",
       "73 3     4       0.07805966   57   3_4  0.8096656  844 13   \n",
       "74 3     6       0.06986656   37   3_6  0.8445988  881 14   \n",
       "75 3     1       0.06846422   46   3_1  0.8788310  927 15   \n",
       "76 3     12      0.06846422   46   3_12 0.9130631  973 16   \n",
       "77 3     16      0.05793388   41   3_16 0.9420300 1014 17   \n",
       "78 3     17      0.04826619   35   3_17 0.9661631 1049 18   \n",
       "79 3     18      0.04237209   32   3_18 0.9873491 1081 19   \n",
       "80 3     5       0.02530172   10   3_5  1.0000000 1091 20   "
      ]
     },
     "metadata": {},
     "output_type": "display_data"
    }
   ],
   "source": [
    "clone.sizes"
   ]
  },
  {
   "cell_type": "code",
   "execution_count": 15,
   "id": "93c23bda",
   "metadata": {
    "execution": {
     "iopub.execute_input": "2021-12-03T21:21:54.212414Z",
     "iopub.status.busy": "2021-12-03T21:21:54.209289Z",
     "iopub.status.idle": "2021-12-03T21:21:54.284422Z",
     "shell.execute_reply": "2021-12-03T21:21:54.285222Z"
    },
    "papermill": {
     "duration": 0.191945,
     "end_time": "2021-12-03T21:21:54.285484",
     "exception": false,
     "start_time": "2021-12-03T21:21:54.093539",
     "status": "completed"
    },
    "scrolled": true,
    "tags": []
   },
   "outputs": [
    {
     "name": "stdout",
     "output_type": "stream",
     "text": [
      "[1] 4\n",
      "[1] \"i 1 donor 1\"\n",
      "[1] \"i 2 donor 2\"\n",
      "[1] \"i 3 donor 3\"\n",
      "[1] \"i 4 donor 4\"\n"
     ]
    },
    {
     "data": {
      "text/html": [
       "<table class=\"dataframe\">\n",
       "<caption>A tibble: 19 × 8</caption>\n",
       "<thead>\n",
       "\t<tr><th scope=col>donor</th><th scope=col>lineage</th><th scope=col>norm.total</th><th scope=col>total</th><th scope=col>name</th><th scope=col>cdf.norm</th><th scope=col>cdf</th><th scope=col>index</th></tr>\n",
       "\t<tr><th scope=col>&lt;fct&gt;</th><th scope=col>&lt;fct&gt;</th><th scope=col>&lt;dbl&gt;</th><th scope=col>&lt;int&gt;</th><th scope=col>&lt;fct&gt;</th><th scope=col>&lt;dbl&gt;</th><th scope=col>&lt;int&gt;</th><th scope=col>&lt;int&gt;</th></tr>\n",
       "</thead>\n",
       "<tbody>\n",
       "\t<tr><td>0</td><td>19</td><td>0.2550973</td><td>116</td><td>0_19</td><td>0.1275487</td><td>116</td><td>1</td></tr>\n",
       "\t<tr><td>0</td><td>17</td><td>0.2175510</td><td> 73</td><td>0_17</td><td>0.2363242</td><td>189</td><td>2</td></tr>\n",
       "\t<tr><td>0</td><td>16</td><td>0.2136721</td><td> 95</td><td>0_16</td><td>0.3431602</td><td>284</td><td>3</td></tr>\n",
       "\t<tr><td>0</td><td>13</td><td>0.1859351</td><td> 84</td><td>0_13</td><td>0.4361278</td><td>368</td><td>4</td></tr>\n",
       "\t<tr><td>1</td><td>10</td><td>0.2807542</td><td>111</td><td>1_10</td><td>0.1403771</td><td>111</td><td>1</td></tr>\n",
       "\t<tr><td>1</td><td>3 </td><td>0.2069468</td><td> 72</td><td>1_3 </td><td>0.2438505</td><td>183</td><td>2</td></tr>\n",
       "\t<tr><td>1</td><td>17</td><td>0.1512981</td><td> 60</td><td>1_17</td><td>0.3194996</td><td>243</td><td>3</td></tr>\n",
       "\t<tr><td>1</td><td>16</td><td>0.1472106</td><td> 63</td><td>1_16</td><td>0.3931049</td><td>306</td><td>4</td></tr>\n",
       "\t<tr><td>1</td><td>6 </td><td>0.1343452</td><td> 59</td><td>1_6 </td><td>0.4602774</td><td>365</td><td>5</td></tr>\n",
       "\t<tr><td>2</td><td>2 </td><td>0.4485496</td><td>146</td><td>2_2 </td><td>0.2242748</td><td>146</td><td>1</td></tr>\n",
       "\t<tr><td>2</td><td>19</td><td>0.2036210</td><td> 75</td><td>2_19</td><td>0.3260853</td><td>221</td><td>2</td></tr>\n",
       "\t<tr><td>2</td><td>10</td><td>0.1799957</td><td> 62</td><td>2_10</td><td>0.4160831</td><td>283</td><td>3</td></tr>\n",
       "\t<tr><td>2</td><td>5 </td><td>0.1221419</td><td> 46</td><td>2_5 </td><td>0.4771541</td><td>329</td><td>4</td></tr>\n",
       "\t<tr><td>3</td><td>7 </td><td>0.1862740</td><td>111</td><td>3_7 </td><td>0.0931370</td><td>111</td><td>1</td></tr>\n",
       "\t<tr><td>3</td><td>3 </td><td>0.1837243</td><td> 82</td><td>3_3 </td><td>0.1849992</td><td>193</td><td>2</td></tr>\n",
       "\t<tr><td>3</td><td>15</td><td>0.1593575</td><td> 66</td><td>3_15</td><td>0.2646779</td><td>259</td><td>3</td></tr>\n",
       "\t<tr><td>3</td><td>9 </td><td>0.1377571</td><td> 64</td><td>3_9 </td><td>0.3335564</td><td>323</td><td>4</td></tr>\n",
       "\t<tr><td>3</td><td>10</td><td>0.1363548</td><td> 73</td><td>3_10</td><td>0.4017338</td><td>396</td><td>5</td></tr>\n",
       "\t<tr><td>3</td><td>14</td><td>0.1303884</td><td> 75</td><td>3_14</td><td>0.4669280</td><td>471</td><td>6</td></tr>\n",
       "</tbody>\n",
       "</table>\n"
      ],
      "text/latex": [
       "A tibble: 19 × 8\n",
       "\\begin{tabular}{llllllll}\n",
       " donor & lineage & norm.total & total & name & cdf.norm & cdf & index\\\\\n",
       " <fct> & <fct> & <dbl> & <int> & <fct> & <dbl> & <int> & <int>\\\\\n",
       "\\hline\n",
       "\t 0 & 19 & 0.2550973 & 116 & 0\\_19 & 0.1275487 & 116 & 1\\\\\n",
       "\t 0 & 17 & 0.2175510 &  73 & 0\\_17 & 0.2363242 & 189 & 2\\\\\n",
       "\t 0 & 16 & 0.2136721 &  95 & 0\\_16 & 0.3431602 & 284 & 3\\\\\n",
       "\t 0 & 13 & 0.1859351 &  84 & 0\\_13 & 0.4361278 & 368 & 4\\\\\n",
       "\t 1 & 10 & 0.2807542 & 111 & 1\\_10 & 0.1403771 & 111 & 1\\\\\n",
       "\t 1 & 3  & 0.2069468 &  72 & 1\\_3  & 0.2438505 & 183 & 2\\\\\n",
       "\t 1 & 17 & 0.1512981 &  60 & 1\\_17 & 0.3194996 & 243 & 3\\\\\n",
       "\t 1 & 16 & 0.1472106 &  63 & 1\\_16 & 0.3931049 & 306 & 4\\\\\n",
       "\t 1 & 6  & 0.1343452 &  59 & 1\\_6  & 0.4602774 & 365 & 5\\\\\n",
       "\t 2 & 2  & 0.4485496 & 146 & 2\\_2  & 0.2242748 & 146 & 1\\\\\n",
       "\t 2 & 19 & 0.2036210 &  75 & 2\\_19 & 0.3260853 & 221 & 2\\\\\n",
       "\t 2 & 10 & 0.1799957 &  62 & 2\\_10 & 0.4160831 & 283 & 3\\\\\n",
       "\t 2 & 5  & 0.1221419 &  46 & 2\\_5  & 0.4771541 & 329 & 4\\\\\n",
       "\t 3 & 7  & 0.1862740 & 111 & 3\\_7  & 0.0931370 & 111 & 1\\\\\n",
       "\t 3 & 3  & 0.1837243 &  82 & 3\\_3  & 0.1849992 & 193 & 2\\\\\n",
       "\t 3 & 15 & 0.1593575 &  66 & 3\\_15 & 0.2646779 & 259 & 3\\\\\n",
       "\t 3 & 9  & 0.1377571 &  64 & 3\\_9  & 0.3335564 & 323 & 4\\\\\n",
       "\t 3 & 10 & 0.1363548 &  73 & 3\\_10 & 0.4017338 & 396 & 5\\\\\n",
       "\t 3 & 14 & 0.1303884 &  75 & 3\\_14 & 0.4669280 & 471 & 6\\\\\n",
       "\\end{tabular}\n"
      ],
      "text/markdown": [
       "\n",
       "A tibble: 19 × 8\n",
       "\n",
       "| donor &lt;fct&gt; | lineage &lt;fct&gt; | norm.total &lt;dbl&gt; | total &lt;int&gt; | name &lt;fct&gt; | cdf.norm &lt;dbl&gt; | cdf &lt;int&gt; | index &lt;int&gt; |\n",
       "|---|---|---|---|---|---|---|---|\n",
       "| 0 | 19 | 0.2550973 | 116 | 0_19 | 0.1275487 | 116 | 1 |\n",
       "| 0 | 17 | 0.2175510 |  73 | 0_17 | 0.2363242 | 189 | 2 |\n",
       "| 0 | 16 | 0.2136721 |  95 | 0_16 | 0.3431602 | 284 | 3 |\n",
       "| 0 | 13 | 0.1859351 |  84 | 0_13 | 0.4361278 | 368 | 4 |\n",
       "| 1 | 10 | 0.2807542 | 111 | 1_10 | 0.1403771 | 111 | 1 |\n",
       "| 1 | 3  | 0.2069468 |  72 | 1_3  | 0.2438505 | 183 | 2 |\n",
       "| 1 | 17 | 0.1512981 |  60 | 1_17 | 0.3194996 | 243 | 3 |\n",
       "| 1 | 16 | 0.1472106 |  63 | 1_16 | 0.3931049 | 306 | 4 |\n",
       "| 1 | 6  | 0.1343452 |  59 | 1_6  | 0.4602774 | 365 | 5 |\n",
       "| 2 | 2  | 0.4485496 | 146 | 2_2  | 0.2242748 | 146 | 1 |\n",
       "| 2 | 19 | 0.2036210 |  75 | 2_19 | 0.3260853 | 221 | 2 |\n",
       "| 2 | 10 | 0.1799957 |  62 | 2_10 | 0.4160831 | 283 | 3 |\n",
       "| 2 | 5  | 0.1221419 |  46 | 2_5  | 0.4771541 | 329 | 4 |\n",
       "| 3 | 7  | 0.1862740 | 111 | 3_7  | 0.0931370 | 111 | 1 |\n",
       "| 3 | 3  | 0.1837243 |  82 | 3_3  | 0.1849992 | 193 | 2 |\n",
       "| 3 | 15 | 0.1593575 |  66 | 3_15 | 0.2646779 | 259 | 3 |\n",
       "| 3 | 9  | 0.1377571 |  64 | 3_9  | 0.3335564 | 323 | 4 |\n",
       "| 3 | 10 | 0.1363548 |  73 | 3_10 | 0.4017338 | 396 | 5 |\n",
       "| 3 | 14 | 0.1303884 |  75 | 3_14 | 0.4669280 | 471 | 6 |\n",
       "\n"
      ],
      "text/plain": [
       "   donor lineage norm.total total name cdf.norm  cdf index\n",
       "1  0     19      0.2550973  116   0_19 0.1275487 116 1    \n",
       "2  0     17      0.2175510   73   0_17 0.2363242 189 2    \n",
       "3  0     16      0.2136721   95   0_16 0.3431602 284 3    \n",
       "4  0     13      0.1859351   84   0_13 0.4361278 368 4    \n",
       "5  1     10      0.2807542  111   1_10 0.1403771 111 1    \n",
       "6  1     3       0.2069468   72   1_3  0.2438505 183 2    \n",
       "7  1     17      0.1512981   60   1_17 0.3194996 243 3    \n",
       "8  1     16      0.1472106   63   1_16 0.3931049 306 4    \n",
       "9  1     6       0.1343452   59   1_6  0.4602774 365 5    \n",
       "10 2     2       0.4485496  146   2_2  0.2242748 146 1    \n",
       "11 2     19      0.2036210   75   2_19 0.3260853 221 2    \n",
       "12 2     10      0.1799957   62   2_10 0.4160831 283 3    \n",
       "13 2     5       0.1221419   46   2_5  0.4771541 329 4    \n",
       "14 3     7       0.1862740  111   3_7  0.0931370 111 1    \n",
       "15 3     3       0.1837243   82   3_3  0.1849992 193 2    \n",
       "16 3     15      0.1593575   66   3_15 0.2646779 259 3    \n",
       "17 3     9       0.1377571   64   3_9  0.3335564 323 4    \n",
       "18 3     10      0.1363548   73   3_10 0.4017338 396 5    \n",
       "19 3     14      0.1303884   75   3_14 0.4669280 471 6    "
      ]
     },
     "metadata": {},
     "output_type": "display_data"
    }
   ],
   "source": [
    "large.clones <- clone.sizes %>% filter(cdf.norm<cdf_thresh)\n",
    "large.clones <- check.if.one.clone(large.clones, clone.sizes, n_top_clones)\n",
    "#large.clones$name = factor(paste0(large.clones$donor,\"_\", large.clones$lineage))\n",
    "write.csv(large.clones, \n",
    "          file=file.path(outdir, \"large_clones.csv\"), quote=F)\n",
    "\n",
    "large.clones"
   ]
  },
  {
   "cell_type": "code",
   "execution_count": 16,
   "id": "308e6966",
   "metadata": {
    "execution": {
     "iopub.execute_input": "2021-12-03T21:21:54.575772Z",
     "iopub.status.busy": "2021-12-03T21:21:54.572680Z",
     "iopub.status.idle": "2021-12-03T21:21:55.206628Z",
     "shell.execute_reply": "2021-12-03T21:21:55.207547Z"
    },
    "papermill": {
     "duration": 0.788455,
     "end_time": "2021-12-03T21:21:55.207863",
     "exception": false,
     "start_time": "2021-12-03T21:21:54.419408",
     "status": "completed"
    },
    "tags": []
   },
   "outputs": [
    {
     "name": "stderr",
     "output_type": "stream",
     "text": [
      "Saving 6.67 x 6.67 in image\n",
      "\n"
     ]
    },
    {
     "data": {
      "image/png": "[encoded data removed]",
      "text/plain": [
       "plot without title"
      ]
     },
     "metadata": {
      "image/png": {
       "height": 420,
       "width": 420
      }
     },
     "output_type": "display_data"
    }
   ],
   "source": [
    "ggplot(data=large.clones, aes(x=index,y=total, fill = factor(donor))) + \n",
    "        geom_col(position='dodge') +\n",
    "       ggtitle(paste0(\"Top clones (\", cdf_thresh,\n",
    "                      \"fraction of clones) in each donor cell size\"))\n",
    "\n",
    "ggsave(file.path(outdir, \"topClonesSize.png\"))"
   ]
  },
  {
   "cell_type": "markdown",
   "id": "5564da63",
   "metadata": {
    "papermill": {
     "duration": 0.112013,
     "end_time": "2021-12-03T21:21:55.438414",
     "exception": false,
     "start_time": "2021-12-03T21:21:55.326401",
     "status": "completed"
    },
    "tags": []
   },
   "source": [
    "## TF DE"
   ]
  },
  {
   "cell_type": "markdown",
   "id": "b6a80a03",
   "metadata": {
    "papermill": {
     "duration": 0.112017,
     "end_time": "2021-12-03T21:21:55.663704",
     "exception": false,
     "start_time": "2021-12-03T21:21:55.551687",
     "status": "completed"
    },
    "tags": []
   },
   "source": [
    "## Filter se for cells in the large clones"
   ]
  },
  {
   "cell_type": "code",
   "execution_count": 17,
   "id": "8ec3001e",
   "metadata": {
    "execution": {
     "iopub.execute_input": "2021-12-03T21:21:55.895646Z",
     "iopub.status.busy": "2021-12-03T21:21:55.893068Z",
     "iopub.status.idle": "2021-12-03T21:21:55.928128Z",
     "shell.execute_reply": "2021-12-03T21:21:55.927285Z"
    },
    "papermill": {
     "duration": 0.153763,
     "end_time": "2021-12-03T21:21:55.928328",
     "exception": false,
     "start_time": "2021-12-03T21:21:55.774565",
     "status": "completed"
    },
    "scrolled": true,
    "tags": []
   },
   "outputs": [
    {
     "data": {
      "text/html": [
       "<table class=\"dataframe\">\n",
       "<caption>A tibble: 19 × 8</caption>\n",
       "<thead>\n",
       "\t<tr><th scope=col>donor</th><th scope=col>lineage</th><th scope=col>norm.total</th><th scope=col>total</th><th scope=col>name</th><th scope=col>cdf.norm</th><th scope=col>cdf</th><th scope=col>index</th></tr>\n",
       "\t<tr><th scope=col>&lt;fct&gt;</th><th scope=col>&lt;fct&gt;</th><th scope=col>&lt;dbl&gt;</th><th scope=col>&lt;int&gt;</th><th scope=col>&lt;fct&gt;</th><th scope=col>&lt;dbl&gt;</th><th scope=col>&lt;int&gt;</th><th scope=col>&lt;int&gt;</th></tr>\n",
       "</thead>\n",
       "<tbody>\n",
       "\t<tr><td>0</td><td>19</td><td>0.2550973</td><td>116</td><td>0_19</td><td>0.1275487</td><td>116</td><td>1</td></tr>\n",
       "\t<tr><td>0</td><td>17</td><td>0.2175510</td><td> 73</td><td>0_17</td><td>0.2363242</td><td>189</td><td>2</td></tr>\n",
       "\t<tr><td>0</td><td>16</td><td>0.2136721</td><td> 95</td><td>0_16</td><td>0.3431602</td><td>284</td><td>3</td></tr>\n",
       "\t<tr><td>0</td><td>13</td><td>0.1859351</td><td> 84</td><td>0_13</td><td>0.4361278</td><td>368</td><td>4</td></tr>\n",
       "\t<tr><td>1</td><td>10</td><td>0.2807542</td><td>111</td><td>1_10</td><td>0.1403771</td><td>111</td><td>1</td></tr>\n",
       "\t<tr><td>1</td><td>3 </td><td>0.2069468</td><td> 72</td><td>1_3 </td><td>0.2438505</td><td>183</td><td>2</td></tr>\n",
       "\t<tr><td>1</td><td>17</td><td>0.1512981</td><td> 60</td><td>1_17</td><td>0.3194996</td><td>243</td><td>3</td></tr>\n",
       "\t<tr><td>1</td><td>16</td><td>0.1472106</td><td> 63</td><td>1_16</td><td>0.3931049</td><td>306</td><td>4</td></tr>\n",
       "\t<tr><td>1</td><td>6 </td><td>0.1343452</td><td> 59</td><td>1_6 </td><td>0.4602774</td><td>365</td><td>5</td></tr>\n",
       "\t<tr><td>2</td><td>2 </td><td>0.4485496</td><td>146</td><td>2_2 </td><td>0.2242748</td><td>146</td><td>1</td></tr>\n",
       "\t<tr><td>2</td><td>19</td><td>0.2036210</td><td> 75</td><td>2_19</td><td>0.3260853</td><td>221</td><td>2</td></tr>\n",
       "\t<tr><td>2</td><td>10</td><td>0.1799957</td><td> 62</td><td>2_10</td><td>0.4160831</td><td>283</td><td>3</td></tr>\n",
       "\t<tr><td>2</td><td>5 </td><td>0.1221419</td><td> 46</td><td>2_5 </td><td>0.4771541</td><td>329</td><td>4</td></tr>\n",
       "\t<tr><td>3</td><td>7 </td><td>0.1862740</td><td>111</td><td>3_7 </td><td>0.0931370</td><td>111</td><td>1</td></tr>\n",
       "\t<tr><td>3</td><td>3 </td><td>0.1837243</td><td> 82</td><td>3_3 </td><td>0.1849992</td><td>193</td><td>2</td></tr>\n",
       "\t<tr><td>3</td><td>15</td><td>0.1593575</td><td> 66</td><td>3_15</td><td>0.2646779</td><td>259</td><td>3</td></tr>\n",
       "\t<tr><td>3</td><td>9 </td><td>0.1377571</td><td> 64</td><td>3_9 </td><td>0.3335564</td><td>323</td><td>4</td></tr>\n",
       "\t<tr><td>3</td><td>10</td><td>0.1363548</td><td> 73</td><td>3_10</td><td>0.4017338</td><td>396</td><td>5</td></tr>\n",
       "\t<tr><td>3</td><td>14</td><td>0.1303884</td><td> 75</td><td>3_14</td><td>0.4669280</td><td>471</td><td>6</td></tr>\n",
       "</tbody>\n",
       "</table>\n"
      ],
      "text/latex": [
       "A tibble: 19 × 8\n",
       "\\begin{tabular}{llllllll}\n",
       " donor & lineage & norm.total & total & name & cdf.norm & cdf & index\\\\\n",
       " <fct> & <fct> & <dbl> & <int> & <fct> & <dbl> & <int> & <int>\\\\\n",
       "\\hline\n",
       "\t 0 & 19 & 0.2550973 & 116 & 0\\_19 & 0.1275487 & 116 & 1\\\\\n",
       "\t 0 & 17 & 0.2175510 &  73 & 0\\_17 & 0.2363242 & 189 & 2\\\\\n",
       "\t 0 & 16 & 0.2136721 &  95 & 0\\_16 & 0.3431602 & 284 & 3\\\\\n",
       "\t 0 & 13 & 0.1859351 &  84 & 0\\_13 & 0.4361278 & 368 & 4\\\\\n",
       "\t 1 & 10 & 0.2807542 & 111 & 1\\_10 & 0.1403771 & 111 & 1\\\\\n",
       "\t 1 & 3  & 0.2069468 &  72 & 1\\_3  & 0.2438505 & 183 & 2\\\\\n",
       "\t 1 & 17 & 0.1512981 &  60 & 1\\_17 & 0.3194996 & 243 & 3\\\\\n",
       "\t 1 & 16 & 0.1472106 &  63 & 1\\_16 & 0.3931049 & 306 & 4\\\\\n",
       "\t 1 & 6  & 0.1343452 &  59 & 1\\_6  & 0.4602774 & 365 & 5\\\\\n",
       "\t 2 & 2  & 0.4485496 & 146 & 2\\_2  & 0.2242748 & 146 & 1\\\\\n",
       "\t 2 & 19 & 0.2036210 &  75 & 2\\_19 & 0.3260853 & 221 & 2\\\\\n",
       "\t 2 & 10 & 0.1799957 &  62 & 2\\_10 & 0.4160831 & 283 & 3\\\\\n",
       "\t 2 & 5  & 0.1221419 &  46 & 2\\_5  & 0.4771541 & 329 & 4\\\\\n",
       "\t 3 & 7  & 0.1862740 & 111 & 3\\_7  & 0.0931370 & 111 & 1\\\\\n",
       "\t 3 & 3  & 0.1837243 &  82 & 3\\_3  & 0.1849992 & 193 & 2\\\\\n",
       "\t 3 & 15 & 0.1593575 &  66 & 3\\_15 & 0.2646779 & 259 & 3\\\\\n",
       "\t 3 & 9  & 0.1377571 &  64 & 3\\_9  & 0.3335564 & 323 & 4\\\\\n",
       "\t 3 & 10 & 0.1363548 &  73 & 3\\_10 & 0.4017338 & 396 & 5\\\\\n",
       "\t 3 & 14 & 0.1303884 &  75 & 3\\_14 & 0.4669280 & 471 & 6\\\\\n",
       "\\end{tabular}\n"
      ],
      "text/markdown": [
       "\n",
       "A tibble: 19 × 8\n",
       "\n",
       "| donor &lt;fct&gt; | lineage &lt;fct&gt; | norm.total &lt;dbl&gt; | total &lt;int&gt; | name &lt;fct&gt; | cdf.norm &lt;dbl&gt; | cdf &lt;int&gt; | index &lt;int&gt; |\n",
       "|---|---|---|---|---|---|---|---|\n",
       "| 0 | 19 | 0.2550973 | 116 | 0_19 | 0.1275487 | 116 | 1 |\n",
       "| 0 | 17 | 0.2175510 |  73 | 0_17 | 0.2363242 | 189 | 2 |\n",
       "| 0 | 16 | 0.2136721 |  95 | 0_16 | 0.3431602 | 284 | 3 |\n",
       "| 0 | 13 | 0.1859351 |  84 | 0_13 | 0.4361278 | 368 | 4 |\n",
       "| 1 | 10 | 0.2807542 | 111 | 1_10 | 0.1403771 | 111 | 1 |\n",
       "| 1 | 3  | 0.2069468 |  72 | 1_3  | 0.2438505 | 183 | 2 |\n",
       "| 1 | 17 | 0.1512981 |  60 | 1_17 | 0.3194996 | 243 | 3 |\n",
       "| 1 | 16 | 0.1472106 |  63 | 1_16 | 0.3931049 | 306 | 4 |\n",
       "| 1 | 6  | 0.1343452 |  59 | 1_6  | 0.4602774 | 365 | 5 |\n",
       "| 2 | 2  | 0.4485496 | 146 | 2_2  | 0.2242748 | 146 | 1 |\n",
       "| 2 | 19 | 0.2036210 |  75 | 2_19 | 0.3260853 | 221 | 2 |\n",
       "| 2 | 10 | 0.1799957 |  62 | 2_10 | 0.4160831 | 283 | 3 |\n",
       "| 2 | 5  | 0.1221419 |  46 | 2_5  | 0.4771541 | 329 | 4 |\n",
       "| 3 | 7  | 0.1862740 | 111 | 3_7  | 0.0931370 | 111 | 1 |\n",
       "| 3 | 3  | 0.1837243 |  82 | 3_3  | 0.1849992 | 193 | 2 |\n",
       "| 3 | 15 | 0.1593575 |  66 | 3_15 | 0.2646779 | 259 | 3 |\n",
       "| 3 | 9  | 0.1377571 |  64 | 3_9  | 0.3335564 | 323 | 4 |\n",
       "| 3 | 10 | 0.1363548 |  73 | 3_10 | 0.4017338 | 396 | 5 |\n",
       "| 3 | 14 | 0.1303884 |  75 | 3_14 | 0.4669280 | 471 | 6 |\n",
       "\n"
      ],
      "text/plain": [
       "   donor lineage norm.total total name cdf.norm  cdf index\n",
       "1  0     19      0.2550973  116   0_19 0.1275487 116 1    \n",
       "2  0     17      0.2175510   73   0_17 0.2363242 189 2    \n",
       "3  0     16      0.2136721   95   0_16 0.3431602 284 3    \n",
       "4  0     13      0.1859351   84   0_13 0.4361278 368 4    \n",
       "5  1     10      0.2807542  111   1_10 0.1403771 111 1    \n",
       "6  1     3       0.2069468   72   1_3  0.2438505 183 2    \n",
       "7  1     17      0.1512981   60   1_17 0.3194996 243 3    \n",
       "8  1     16      0.1472106   63   1_16 0.3931049 306 4    \n",
       "9  1     6       0.1343452   59   1_6  0.4602774 365 5    \n",
       "10 2     2       0.4485496  146   2_2  0.2242748 146 1    \n",
       "11 2     19      0.2036210   75   2_19 0.3260853 221 2    \n",
       "12 2     10      0.1799957   62   2_10 0.4160831 283 3    \n",
       "13 2     5       0.1221419   46   2_5  0.4771541 329 4    \n",
       "14 3     7       0.1862740  111   3_7  0.0931370 111 1    \n",
       "15 3     3       0.1837243   82   3_3  0.1849992 193 2    \n",
       "16 3     15      0.1593575   66   3_15 0.2646779 259 3    \n",
       "17 3     9       0.1377571   64   3_9  0.3335564 323 4    \n",
       "18 3     10      0.1363548   73   3_10 0.4017338 396 5    \n",
       "19 3     14      0.1303884   75   3_14 0.4669280 471 6    "
      ]
     },
     "metadata": {},
     "output_type": "display_data"
    }
   ],
   "source": [
    "large.clones"
   ]
  },
  {
   "cell_type": "code",
   "execution_count": 18,
   "id": "abe394ac",
   "metadata": {
    "execution": {
     "iopub.execute_input": "2021-12-03T21:21:56.166264Z",
     "iopub.status.busy": "2021-12-03T21:21:56.163202Z",
     "iopub.status.idle": "2021-12-03T21:21:58.812571Z",
     "shell.execute_reply": "2021-12-03T21:21:58.811393Z"
    },
    "papermill": {
     "duration": 2.76569,
     "end_time": "2021-12-03T21:21:58.812820",
     "exception": false,
     "start_time": "2021-12-03T21:21:56.047130",
     "status": "completed"
    },
    "scrolled": false,
    "tags": []
   },
   "outputs": [
    {
     "data": {
      "text/plain": [
       "An object of class Seurat \n",
       "170811 features across 1533 samples within 4 assays \n",
       "Active assay: chromvarnames (633 features, 0 variable features)\n",
       " 3 other assays present: ATAC, RNA, chromvar\n",
       " 2 dimensional reductions calculated: integrated_lsi, umap"
      ]
     },
     "metadata": {},
     "output_type": "display_data"
    }
   ],
   "source": [
    "se <- subset(se, subset= name %in% factor(large.clones$name))\n",
    "se"
   ]
  },
  {
   "cell_type": "code",
   "execution_count": 19,
   "id": "cca27e11",
   "metadata": {
    "execution": {
     "iopub.execute_input": "2021-12-03T21:21:59.088778Z",
     "iopub.status.busy": "2021-12-03T21:21:59.085984Z",
     "iopub.status.idle": "2021-12-03T21:22:31.249213Z",
     "shell.execute_reply": "2021-12-03T21:22:31.247942Z"
    },
    "papermill": {
     "duration": 32.285952,
     "end_time": "2021-12-03T21:22:31.249467",
     "exception": false,
     "start_time": "2021-12-03T21:21:58.963515",
     "status": "completed"
    },
    "tags": []
   },
   "outputs": [],
   "source": [
    "saveRDS(object=se, file=file.path(outdir, \"se.clonesfilt.rds\"))    "
   ]
  },
  {
   "cell_type": "markdown",
   "id": "1aa2150f",
   "metadata": {
    "papermill": {
     "duration": 0.122644,
     "end_time": "2021-12-03T21:22:31.522276",
     "exception": false,
     "start_time": "2021-12-03T21:22:31.399632",
     "status": "completed"
    },
    "tags": []
   },
   "source": [
    "## Run DE"
   ]
  },
  {
   "cell_type": "code",
   "execution_count": 20,
   "id": "9c5b398c",
   "metadata": {
    "execution": {
     "iopub.execute_input": "2021-12-03T21:22:31.772037Z",
     "iopub.status.busy": "2021-12-03T21:22:31.768059Z",
     "iopub.status.idle": "2021-12-03T21:22:31.786741Z",
     "shell.execute_reply": "2021-12-03T21:22:31.785530Z"
    },
    "papermill": {
     "duration": 0.149174,
     "end_time": "2021-12-03T21:22:31.786989",
     "exception": false,
     "start_time": "2021-12-03T21:22:31.637815",
     "status": "completed"
    },
    "scrolled": true,
    "tags": []
   },
   "outputs": [],
   "source": [
    "# for (d in 0:(n_donors-1)){\n",
    "#     print('donor')\n",
    "#     print(d)\n",
    "#     curr.outdir <- file.path(outdir, paste0(\"donor\", d, \"_TF\"))\n",
    "#     dir.create(curr.outdir)\n",
    "#     donor.large.clones <- large.clones %>% filter(donor==d)\n",
    "#     clones.filt.ids <- sort(donor.large.clones$lineage)\n",
    "#     print('clones')\n",
    "#     print(clones.filt.ids)\n",
    "#     print(length(clones.filt.ids))\n",
    "#     se.filt <- subset(se, subset = (donor==d) & (lineage %in% donor.large.clones$lineage))\n",
    "#     Idents(se.filt) <- se.filt$lineage  \n",
    "#     print('se.filt')\n",
    "#     print(dim(se.filt[[]]))\n",
    "\n",
    "#     pairs = combn(clones.filt.ids,2)\n",
    "#     for (i in 1:dim(combn(clones.filt.ids,2))[2]){\n",
    "#         DefaultAssay(se.filt) <- \"chromvarnames\"\n",
    "#         print(pairs[,i])\n",
    "#         try({\n",
    "#             print(paste(\"clones\", i))\n",
    "#             a = pairs[1,i]\n",
    "#             b = pairs[2,i]\n",
    "#             da <- FindMarkers(\n",
    "#               object = se.filt,\n",
    "#               ident.1 = a,\n",
    "#               ident.2 = b,\n",
    "#               only.pos = FALSE,\n",
    "#               mean.fxn = rowMeans,\n",
    "#               logfc.threshold = 0.1,\n",
    "#               min.pct = min_pct,\n",
    "#               latent.vars=latent.vars,\n",
    "#               fc.name = \"avg_diff\")\n",
    "#             da$p_val_adj_BH <- stats::p.adjust(da$p_val, method = \"BH\", n = length(da$p_val))\n",
    "#             write.csv(da, \n",
    "#                       file=file.path(curr.outdir, paste0(\"clones_\",a,\"__\", b,\".DE.TF.csv\")))\n",
    "#             gally <- GGally::ggpairs(da[,c(\"p_val\", \"p_val_adj\")], aes(alpha = 0.4))\n",
    "#             ggsave(object=gally, file=file.path(curr.outdir, paste0(\"clones_\",a,\"__\", b,\".DE.TF.pvalHist.png\")))\n",
    "#             #plotDE(se, da, c, clust_outdir)\n",
    "#             # Save motifs\n",
    "#             DefaultAssay(se.filt) <- \"ATAC\"\n",
    "#             raw.ids <- names(Motifs(se.filt)@motif.names)\n",
    "#             rownames(curr.tf.da) <- sapply((curr.tf.da$X), function(x){raw.ids[match(x, Motifs(se.filt)@motif.names)]})\n",
    "#             m <- MotifPlot(\n",
    "#               object = se.filt,\n",
    "#               motifs = head(rownames(curr.tf.da)),\n",
    "#               assay = 'ATAC'\n",
    "#             )\n",
    "#             ggsave(plot=m, \n",
    "#                        file=file.path(curr.outdir, paste0(\"clones_\",a,\"__\", b,\".DE.TF.motif.top.png\")))\n",
    "\n",
    "\n",
    "\n",
    "\n",
    "#     })\n",
    "#         }\n",
    "#     }"
   ]
  },
  {
   "cell_type": "code",
   "execution_count": null,
   "id": "1692a487",
   "metadata": {
    "papermill": {
     "duration": 0.126627,
     "end_time": "2021-12-03T21:22:32.041804",
     "exception": false,
     "start_time": "2021-12-03T21:22:31.915177",
     "status": "completed"
    },
    "tags": []
   },
   "outputs": [],
   "source": []
  },
  {
   "cell_type": "code",
   "execution_count": null,
   "id": "a9884ca6",
   "metadata": {
    "papermill": {
     "duration": 0.124843,
     "end_time": "2021-12-03T21:22:32.296404",
     "exception": false,
     "start_time": "2021-12-03T21:22:32.171561",
     "status": "completed"
    },
    "tags": []
   },
   "outputs": [],
   "source": []
  }
 ],
 "metadata": {
  "celltoolbar": "Tags",
  "kernelspec": {
   "display_name": "R",
   "language": "R",
   "name": "ir"
  },
  "language_info": {
   "codemirror_mode": "r",
   "file_extension": ".r",
   "mimetype": "text/x-r-source",
   "name": "R",
   "pygments_lexer": "r",
   "version": "4.1.1"
  },
  "papermill": {
   "default_parameters": {},
   "duration": 869.046616,
   "end_time": "2021-12-03T21:22:32.829039",
   "environment_variables": {},
   "exception": null,
   "input_path": "/mnt/md0/isshamie/Projects/Mito_Trace/R_scripts/annotation_clones/setup_motifs_large_clones.ipynb",
   "output_path": "/data/Mito_Trace/output/pipeline/cd34norm/MTblacklist/data/merged/MT/cellr_True/numread_200/filters/minC10_minR50_topN0_hetT0.001_hetC10_hetCount5_bq20/mgatk/vireoIn/clones/variants_simple/vireo/nclones20/annotation_clones/DE_large/output.ipynb",
   "parameters": {
    "n_donors": 4,
    "outdir": "/data/Mito_Trace/output/pipeline/cd34norm/MTblacklist/data/merged/MT/cellr_True/numread_200/filters/minC10_minR50_topN0_hetT0.001_hetC10_hetCount5_bq20/mgatk/vireoIn/clones/variants_simple/vireo/nclones20/annotation_clones/DE_large",
    "se_f": "/data/Mito_Trace/output/pipeline/cd34norm/MTblacklist/data/merged/MT/cellr_True/numread_200/filters/minC10_minR50_topN0_hetT0.001_hetC10_hetCount5_bq20/mgatk/vireoIn/clones/variants_simple/vireo/nclones20/annotation_clones/SE.rds"
   },
   "start_time": "2021-12-03T21:08:03.782423",
   "version": "2.3.3"
  }
 },
 "nbformat": 4,
 "nbformat_minor": 5
}