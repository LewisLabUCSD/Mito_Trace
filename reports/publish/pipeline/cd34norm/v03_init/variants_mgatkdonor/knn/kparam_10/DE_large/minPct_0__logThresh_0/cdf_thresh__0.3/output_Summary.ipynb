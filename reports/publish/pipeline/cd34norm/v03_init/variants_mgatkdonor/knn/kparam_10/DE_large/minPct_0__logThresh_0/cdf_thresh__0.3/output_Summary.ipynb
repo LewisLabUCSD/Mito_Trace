{
 "cells": [
  {
   "cell_type": "code",
   "execution_count": 1,
   "id": "4246cc89",
   "metadata": {
    "execution": {
     "iopub.execute_input": "2021-12-03T16:13:21.814699Z",
     "iopub.status.busy": "2021-12-03T16:13:21.807790Z",
     "iopub.status.idle": "2021-12-03T16:13:21.855411Z",
     "shell.execute_reply": "2021-12-03T16:13:21.854085Z"
    },
    "papermill": {
     "duration": 0.110472,
     "end_time": "2021-12-03T16:13:21.855678",
     "exception": false,
     "start_time": "2021-12-03T16:13:21.745206",
     "status": "completed"
    },
    "tags": [
     "parameters"
    ]
   },
   "outputs": [],
   "source": [
    "#indir = \"/data/Mito_Trace/output/annotation_clones/data/cd34norm/MTblacklist/DE_large\"\n",
    "indir = \"/data/Mito_Trace/output/pipeline/cd34norm/MTblacklist/data/merged/MT/cellr_True/numread_200/filters/minC10_minR50_topN0_hetT0.001_hetC10_hetCount5_bq20/mgatk/vireoIn/clones/variants_init/vireo/nclones20/annotation_clones/DE_large/minPct_0.01__logThresh_0\"\n",
    "\n",
    "se_indir = \"/data/Mito_Trace/output/pipeline/cd34norm/MTblacklist/data/merged/MT/cellr_True/numread_200/filters/minC10_minR50_topN0_hetT0.001_hetC10_hetCount5_bq20/mgatk/vireoIn/clones/variants_init/vireo/nclones20/annotation_clones/DE_large\"\n",
    "n_donors = 4\n",
    "cdf_thresh = 0.3\n",
    "\n",
    "n_top_genes = 5\n",
    "n_top_clones = 3\n",
    "utils_script <- \"/data/Mito_Trace/R_scripts/seurat_utils.R\"\n"
   ]
  },
  {
   "cell_type": "code",
   "execution_count": 2,
   "id": "f1c646b2",
   "metadata": {
    "execution": {
     "iopub.execute_input": "2021-12-03T16:13:22.009509Z",
     "iopub.status.busy": "2021-12-03T16:13:21.972227Z",
     "iopub.status.idle": "2021-12-03T16:13:22.027643Z",
     "shell.execute_reply": "2021-12-03T16:13:22.026408Z"
    },
    "papermill": {
     "duration": 0.113298,
     "end_time": "2021-12-03T16:13:22.027887",
     "exception": false,
     "start_time": "2021-12-03T16:13:21.914589",
     "status": "completed"
    },
    "tags": [
     "injected-parameters"
    ]
   },
   "outputs": [],
   "source": [
    "# Parameters\n",
    "indir = \"/data/Mito_Trace/output/pipeline/cd34norm/MTblacklist/data/merged/MT/cellr_True/numread_200/filters/minC10_minR50_topN0_hetT0.001_hetC10_hetCount5_bq20/mgatk/vireoIn/clones/variants_mgatkdonor/knn/kparam_10/concat/annotation_clones/DE_large/minPct_0__logThresh_0\"\n",
    "se_indir = \"/data/Mito_Trace/output/pipeline/cd34norm/MTblacklist/data/merged/MT/cellr_True/numread_200/filters/minC10_minR50_topN0_hetT0.001_hetC10_hetCount5_bq20/mgatk/vireoIn/clones/variants_mgatkdonor/knn/kparam_10/concat/annotation_clones/DE_large\"\n",
    "n_donors = 4\n",
    "cdf_thresh = 0.3\n"
   ]
  },
  {
   "cell_type": "code",
   "execution_count": 3,
   "id": "126002f9",
   "metadata": {
    "execution": {
     "iopub.execute_input": "2021-12-03T16:13:22.154000Z",
     "iopub.status.busy": "2021-12-03T16:13:22.151074Z",
     "iopub.status.idle": "2021-12-03T16:13:29.092258Z",
     "shell.execute_reply": "2021-12-03T16:13:29.091017Z"
    },
    "papermill": {
     "duration": 7.002284,
     "end_time": "2021-12-03T16:13:29.092547",
     "exception": false,
     "start_time": "2021-12-03T16:13:22.090263",
     "status": "completed"
    },
    "scrolled": true,
    "tags": []
   },
   "outputs": [
    {
     "name": "stderr",
     "output_type": "stream",
     "text": [
      "Attaching SeuratObject\n",
      "\n"
     ]
    }
   ],
   "source": [
    "source(utils_script)"
   ]
  },
  {
   "cell_type": "code",
   "execution_count": 4,
   "id": "3657ef25",
   "metadata": {
    "execution": {
     "iopub.execute_input": "2021-12-03T16:13:29.213757Z",
     "iopub.status.busy": "2021-12-03T16:13:29.210216Z",
     "iopub.status.idle": "2021-12-03T16:13:29.230932Z",
     "shell.execute_reply": "2021-12-03T16:13:29.229661Z"
    },
    "papermill": {
     "duration": 0.080734,
     "end_time": "2021-12-03T16:13:29.231104",
     "exception": false,
     "start_time": "2021-12-03T16:13:29.150370",
     "status": "completed"
    },
    "scrolled": true,
    "tags": []
   },
   "outputs": [
    {
     "name": "stderr",
     "output_type": "stream",
     "text": [
      "Warning message in dir.create(outdir):\n",
      "“'/data/Mito_Trace/output/pipeline/cd34norm/MTblacklist/data/merged/MT/cellr_True/numread_200/filters/minC10_minR50_topN0_hetT0.001_hetC10_hetCount5_bq20/mgatk/vireoIn/clones/variants_mgatkdonor/knn/kparam_10/concat/annotation_clones/DE_large/minPct_0__logThresh_0/cdf_thresh__0.3' already exists”\n"
     ]
    }
   ],
   "source": [
    "outdir <- paste0(indir, \"/\", \"cdf_thresh__\", (cdf_thresh))\n",
    "dir.create(outdir)"
   ]
  },
  {
   "cell_type": "code",
   "execution_count": 5,
   "id": "5d9ca2e3",
   "metadata": {
    "execution": {
     "iopub.execute_input": "2021-12-03T16:13:29.352911Z",
     "iopub.status.busy": "2021-12-03T16:13:29.349872Z",
     "iopub.status.idle": "2021-12-03T16:13:35.854285Z",
     "shell.execute_reply": "2021-12-03T16:13:35.853120Z"
    },
    "papermill": {
     "duration": 6.564926,
     "end_time": "2021-12-03T16:13:35.854526",
     "exception": false,
     "start_time": "2021-12-03T16:13:29.289600",
     "status": "completed"
    },
    "scrolled": true,
    "tags": []
   },
   "outputs": [
    {
     "name": "stderr",
     "output_type": "stream",
     "text": [
      "\n",
      "Attaching package: ‘cowplot’\n",
      "\n",
      "\n"
     ]
    },
    {
     "name": "stderr",
     "output_type": "stream",
     "text": [
      "The following object is masked from ‘package:patchwork’:\n",
      "\n",
      "    align_plots\n",
      "\n",
      "\n"
     ]
    },
    {
     "name": "stderr",
     "output_type": "stream",
     "text": [
      "\n",
      "Attaching package: ‘dplyr’\n",
      "\n",
      "\n"
     ]
    },
    {
     "name": "stderr",
     "output_type": "stream",
     "text": [
      "The following objects are masked from ‘package:stats’:\n",
      "\n",
      "    filter, lag\n",
      "\n",
      "\n"
     ]
    },
    {
     "name": "stderr",
     "output_type": "stream",
     "text": [
      "The following objects are masked from ‘package:base’:\n",
      "\n",
      "    intersect, setdiff, setequal, union\n",
      "\n",
      "\n"
     ]
    },
    {
     "name": "stderr",
     "output_type": "stream",
     "text": [
      "Loading required package: grid\n",
      "\n"
     ]
    },
    {
     "name": "stderr",
     "output_type": "stream",
     "text": [
      "========================================\n",
      "ComplexHeatmap version 2.10.0\n",
      "Bioconductor page: http://bioconductor.org/packages/ComplexHeatmap/\n",
      "Github page: https://github.com/jokergoo/ComplexHeatmap\n",
      "Documentation: http://jokergoo.github.io/ComplexHeatmap-reference\n",
      "\n",
      "If you use it in published research, please cite:\n",
      "Gu, Z. Complex heatmaps reveal patterns and correlations in multidimensional \n",
      "  genomic data. Bioinformatics 2016.\n",
      "\n",
      "The new InteractiveComplexHeatmap package can directly export static \n",
      "complex heatmaps into an interactive Shiny app with zero effort. Have a try!\n",
      "\n",
      "This message can be suppressed by:\n",
      "  suppressPackageStartupMessages(library(ComplexHeatmap))\n",
      "========================================\n",
      "\n",
      "\n"
     ]
    },
    {
     "name": "stderr",
     "output_type": "stream",
     "text": [
      "\n",
      "\n"
     ]
    },
    {
     "name": "stderr",
     "output_type": "stream",
     "text": [
      "Loading required package: BSgenome\n",
      "\n"
     ]
    },
    {
     "name": "stderr",
     "output_type": "stream",
     "text": [
      "Loading required package: BiocGenerics\n",
      "\n"
     ]
    },
    {
     "name": "stderr",
     "output_type": "stream",
     "text": [
      "\n",
      "Attaching package: ‘BiocGenerics’\n",
      "\n",
      "\n"
     ]
    },
    {
     "name": "stderr",
     "output_type": "stream",
     "text": [
      "The following objects are masked from ‘package:dplyr’:\n",
      "\n",
      "    combine, intersect, setdiff, union\n",
      "\n",
      "\n"
     ]
    },
    {
     "name": "stderr",
     "output_type": "stream",
     "text": [
      "The following objects are masked from ‘package:stats’:\n",
      "\n",
      "    IQR, mad, sd, var, xtabs\n",
      "\n",
      "\n"
     ]
    },
    {
     "name": "stderr",
     "output_type": "stream",
     "text": [
      "The following objects are masked from ‘package:base’:\n",
      "\n",
      "    anyDuplicated, append, as.data.frame, basename, cbind, colnames,\n",
      "    dirname, do.call, duplicated, eval, evalq, Filter, Find, get, grep,\n",
      "    grepl, intersect, is.unsorted, lapply, Map, mapply, match, mget,\n",
      "    order, paste, pmax, pmax.int, pmin, pmin.int, Position, rank,\n",
      "    rbind, Reduce, rownames, sapply, setdiff, sort, table, tapply,\n",
      "    union, unique, unsplit, which.max, which.min\n",
      "\n",
      "\n"
     ]
    },
    {
     "name": "stderr",
     "output_type": "stream",
     "text": [
      "Loading required package: S4Vectors\n",
      "\n"
     ]
    },
    {
     "name": "stderr",
     "output_type": "stream",
     "text": [
      "Loading required package: stats4\n",
      "\n"
     ]
    },
    {
     "name": "stderr",
     "output_type": "stream",
     "text": [
      "\n",
      "Attaching package: ‘S4Vectors’\n",
      "\n",
      "\n"
     ]
    },
    {
     "name": "stderr",
     "output_type": "stream",
     "text": [
      "The following object is masked from ‘package:future’:\n",
      "\n",
      "    values\n",
      "\n",
      "\n"
     ]
    },
    {
     "name": "stderr",
     "output_type": "stream",
     "text": [
      "The following objects are masked from ‘package:dplyr’:\n",
      "\n",
      "    first, rename\n",
      "\n",
      "\n"
     ]
    },
    {
     "name": "stderr",
     "output_type": "stream",
     "text": [
      "The following objects are masked from ‘package:base’:\n",
      "\n",
      "    expand.grid, I, unname\n",
      "\n",
      "\n"
     ]
    },
    {
     "name": "stderr",
     "output_type": "stream",
     "text": [
      "Loading required package: IRanges\n",
      "\n"
     ]
    },
    {
     "name": "stderr",
     "output_type": "stream",
     "text": [
      "\n",
      "Attaching package: ‘IRanges’\n",
      "\n",
      "\n"
     ]
    },
    {
     "name": "stderr",
     "output_type": "stream",
     "text": [
      "The following objects are masked from ‘package:dplyr’:\n",
      "\n",
      "    collapse, desc, slice\n",
      "\n",
      "\n"
     ]
    },
    {
     "name": "stderr",
     "output_type": "stream",
     "text": [
      "Loading required package: GenomeInfoDb\n",
      "\n"
     ]
    },
    {
     "name": "stderr",
     "output_type": "stream",
     "text": [
      "Loading required package: GenomicRanges\n",
      "\n"
     ]
    },
    {
     "name": "stderr",
     "output_type": "stream",
     "text": [
      "Loading required package: Biostrings\n",
      "\n"
     ]
    },
    {
     "name": "stderr",
     "output_type": "stream",
     "text": [
      "Loading required package: XVector\n",
      "\n"
     ]
    },
    {
     "name": "stderr",
     "output_type": "stream",
     "text": [
      "\n",
      "Attaching package: ‘Biostrings’\n",
      "\n",
      "\n"
     ]
    },
    {
     "name": "stderr",
     "output_type": "stream",
     "text": [
      "The following object is masked from ‘package:grid’:\n",
      "\n",
      "    pattern\n",
      "\n",
      "\n"
     ]
    },
    {
     "name": "stderr",
     "output_type": "stream",
     "text": [
      "The following object is masked from ‘package:base’:\n",
      "\n",
      "    strsplit\n",
      "\n",
      "\n"
     ]
    },
    {
     "name": "stderr",
     "output_type": "stream",
     "text": [
      "Loading required package: rtracklayer\n",
      "\n"
     ]
    }
   ],
   "source": [
    "library(Seurat)\n",
    "library(Signac)\n",
    "library(ggplot2)\n",
    "library(patchwork)\n",
    "set.seed(1234)\n",
    "library(magrittr)\n",
    "library(cowplot)\n",
    "library(metap)\n",
    "library(dplyr)\n",
    "library(future)\n",
    "library(\"ComplexHeatmap\")\n",
    "library(motifmatchr)\n",
    "library(JASPAR2020)\n",
    "library(TFBSTools)\n",
    "library(BSgenome.Hsapiens.UCSC.hg38)\n"
   ]
  },
  {
   "cell_type": "markdown",
   "id": "e8a7d7b5",
   "metadata": {
    "papermill": {
     "duration": 0.083432,
     "end_time": "2021-12-03T16:13:36.026117",
     "exception": false,
     "start_time": "2021-12-03T16:13:35.942685",
     "status": "completed"
    },
    "tags": []
   },
   "source": [
    "## Import seurat object"
   ]
  },
  {
   "cell_type": "code",
   "execution_count": 6,
   "id": "2ef3a56c",
   "metadata": {
    "execution": {
     "iopub.execute_input": "2021-12-03T16:13:36.202995Z",
     "iopub.status.busy": "2021-12-03T16:13:36.198962Z",
     "iopub.status.idle": "2021-12-03T16:13:55.006738Z",
     "shell.execute_reply": "2021-12-03T16:13:55.007522Z"
    },
    "papermill": {
     "duration": 18.898015,
     "end_time": "2021-12-03T16:13:55.007780",
     "exception": false,
     "start_time": "2021-12-03T16:13:36.109765",
     "status": "completed"
    },
    "scrolled": true,
    "tags": []
   },
   "outputs": [
    {
     "name": "stdout",
     "output_type": "stream",
     "text": [
      "[1] 4\n",
      "[1] \"i 1 donor 0\"\n",
      "[1] \"i 2 donor 1\"\n",
      "[1] \"i 3 donor 2\"\n",
      "[1] \"only 1 clone. Using top 3 clones\"\n",
      "[1] \"i 4 donor 3\"\n",
      "[1] \"only 1 clone. Using top 3 clones\"\n"
     ]
    },
    {
     "data": {
      "text/html": [
       "<table class=\"dataframe\">\n",
       "<caption>A data.frame: 12 × 9</caption>\n",
       "<thead>\n",
       "\t<tr><th scope=col>X</th><th scope=col>donor</th><th scope=col>lineage</th><th scope=col>norm.total</th><th scope=col>total</th><th scope=col>name</th><th scope=col>cdf.norm</th><th scope=col>cdf</th><th scope=col>index</th></tr>\n",
       "\t<tr><th scope=col>&lt;int&gt;</th><th scope=col>&lt;int&gt;</th><th scope=col>&lt;int&gt;</th><th scope=col>&lt;dbl&gt;</th><th scope=col>&lt;int&gt;</th><th scope=col>&lt;chr&gt;</th><th scope=col>&lt;dbl&gt;</th><th scope=col>&lt;int&gt;</th><th scope=col>&lt;int&gt;</th></tr>\n",
       "</thead>\n",
       "<tbody>\n",
       "\t<tr><td> 1</td><td>0</td><td>0</td><td>0.2503592</td><td>394</td><td>0_0</td><td>0.1251796</td><td> 394</td><td>1</td></tr>\n",
       "\t<tr><td> 2</td><td>0</td><td>1</td><td>0.1887998</td><td>331</td><td>0_1</td><td>0.2195795</td><td> 725</td><td>2</td></tr>\n",
       "\t<tr><td> 3</td><td>0</td><td>3</td><td>0.1456689</td><td>249</td><td>0_3</td><td>0.2924139</td><td> 974</td><td>3</td></tr>\n",
       "\t<tr><td> 8</td><td>1</td><td>1</td><td>0.2135230</td><td>312</td><td>1_1</td><td>0.1067615</td><td> 312</td><td>1</td></tr>\n",
       "\t<tr><td> 9</td><td>1</td><td>0</td><td>0.1804063</td><td>298</td><td>1_0</td><td>0.1969646</td><td> 610</td><td>2</td></tr>\n",
       "\t<tr><td>10</td><td>1</td><td>3</td><td>0.1517253</td><td>228</td><td>1_3</td><td>0.2728272</td><td> 838</td><td>3</td></tr>\n",
       "\t<tr><td>14</td><td>2</td><td>0</td><td>0.4747909</td><td>585</td><td>2_0</td><td>0.2373954</td><td> 585</td><td>1</td></tr>\n",
       "\t<tr><td>15</td><td>2</td><td>2</td><td>0.2269404</td><td>240</td><td>2_2</td><td>0.3508657</td><td> 825</td><td>2</td></tr>\n",
       "\t<tr><td>16</td><td>2</td><td>1</td><td>0.1983802</td><td>221</td><td>2_1</td><td>0.4500558</td><td>1046</td><td>3</td></tr>\n",
       "\t<tr><td>17</td><td>3</td><td>0</td><td>0.2978971</td><td>404</td><td>3_0</td><td>0.1489486</td><td> 404</td><td>1</td></tr>\n",
       "\t<tr><td>18</td><td>3</td><td>1</td><td>0.2385129</td><td>355</td><td>3_1</td><td>0.2682050</td><td> 759</td><td>2</td></tr>\n",
       "\t<tr><td>19</td><td>3</td><td>2</td><td>0.1511195</td><td>196</td><td>3_2</td><td>0.3437648</td><td> 955</td><td>3</td></tr>\n",
       "</tbody>\n",
       "</table>\n"
      ],
      "text/latex": [
       "A data.frame: 12 × 9\n",
       "\\begin{tabular}{lllllllll}\n",
       " X & donor & lineage & norm.total & total & name & cdf.norm & cdf & index\\\\\n",
       " <int> & <int> & <int> & <dbl> & <int> & <chr> & <dbl> & <int> & <int>\\\\\n",
       "\\hline\n",
       "\t  1 & 0 & 0 & 0.2503592 & 394 & 0\\_0 & 0.1251796 &  394 & 1\\\\\n",
       "\t  2 & 0 & 1 & 0.1887998 & 331 & 0\\_1 & 0.2195795 &  725 & 2\\\\\n",
       "\t  3 & 0 & 3 & 0.1456689 & 249 & 0\\_3 & 0.2924139 &  974 & 3\\\\\n",
       "\t  8 & 1 & 1 & 0.2135230 & 312 & 1\\_1 & 0.1067615 &  312 & 1\\\\\n",
       "\t  9 & 1 & 0 & 0.1804063 & 298 & 1\\_0 & 0.1969646 &  610 & 2\\\\\n",
       "\t 10 & 1 & 3 & 0.1517253 & 228 & 1\\_3 & 0.2728272 &  838 & 3\\\\\n",
       "\t 14 & 2 & 0 & 0.4747909 & 585 & 2\\_0 & 0.2373954 &  585 & 1\\\\\n",
       "\t 15 & 2 & 2 & 0.2269404 & 240 & 2\\_2 & 0.3508657 &  825 & 2\\\\\n",
       "\t 16 & 2 & 1 & 0.1983802 & 221 & 2\\_1 & 0.4500558 & 1046 & 3\\\\\n",
       "\t 17 & 3 & 0 & 0.2978971 & 404 & 3\\_0 & 0.1489486 &  404 & 1\\\\\n",
       "\t 18 & 3 & 1 & 0.2385129 & 355 & 3\\_1 & 0.2682050 &  759 & 2\\\\\n",
       "\t 19 & 3 & 2 & 0.1511195 & 196 & 3\\_2 & 0.3437648 &  955 & 3\\\\\n",
       "\\end{tabular}\n"
      ],
      "text/markdown": [
       "\n",
       "A data.frame: 12 × 9\n",
       "\n",
       "| X &lt;int&gt; | donor &lt;int&gt; | lineage &lt;int&gt; | norm.total &lt;dbl&gt; | total &lt;int&gt; | name &lt;chr&gt; | cdf.norm &lt;dbl&gt; | cdf &lt;int&gt; | index &lt;int&gt; |\n",
       "|---|---|---|---|---|---|---|---|---|\n",
       "|  1 | 0 | 0 | 0.2503592 | 394 | 0_0 | 0.1251796 |  394 | 1 |\n",
       "|  2 | 0 | 1 | 0.1887998 | 331 | 0_1 | 0.2195795 |  725 | 2 |\n",
       "|  3 | 0 | 3 | 0.1456689 | 249 | 0_3 | 0.2924139 |  974 | 3 |\n",
       "|  8 | 1 | 1 | 0.2135230 | 312 | 1_1 | 0.1067615 |  312 | 1 |\n",
       "|  9 | 1 | 0 | 0.1804063 | 298 | 1_0 | 0.1969646 |  610 | 2 |\n",
       "| 10 | 1 | 3 | 0.1517253 | 228 | 1_3 | 0.2728272 |  838 | 3 |\n",
       "| 14 | 2 | 0 | 0.4747909 | 585 | 2_0 | 0.2373954 |  585 | 1 |\n",
       "| 15 | 2 | 2 | 0.2269404 | 240 | 2_2 | 0.3508657 |  825 | 2 |\n",
       "| 16 | 2 | 1 | 0.1983802 | 221 | 2_1 | 0.4500558 | 1046 | 3 |\n",
       "| 17 | 3 | 0 | 0.2978971 | 404 | 3_0 | 0.1489486 |  404 | 1 |\n",
       "| 18 | 3 | 1 | 0.2385129 | 355 | 3_1 | 0.2682050 |  759 | 2 |\n",
       "| 19 | 3 | 2 | 0.1511195 | 196 | 3_2 | 0.3437648 |  955 | 3 |\n",
       "\n"
      ],
      "text/plain": [
       "   X  donor lineage norm.total total name cdf.norm  cdf  index\n",
       "1   1 0     0       0.2503592  394   0_0  0.1251796  394 1    \n",
       "2   2 0     1       0.1887998  331   0_1  0.2195795  725 2    \n",
       "3   3 0     3       0.1456689  249   0_3  0.2924139  974 3    \n",
       "4   8 1     1       0.2135230  312   1_1  0.1067615  312 1    \n",
       "5   9 1     0       0.1804063  298   1_0  0.1969646  610 2    \n",
       "6  10 1     3       0.1517253  228   1_3  0.2728272  838 3    \n",
       "7  14 2     0       0.4747909  585   2_0  0.2373954  585 1    \n",
       "8  15 2     2       0.2269404  240   2_2  0.3508657  825 2    \n",
       "9  16 2     1       0.1983802  221   2_1  0.4500558 1046 3    \n",
       "10 17 3     0       0.2978971  404   3_0  0.1489486  404 1    \n",
       "11 18 3     1       0.2385129  355   3_1  0.2682050  759 2    \n",
       "12 19 3     2       0.1511195  196   3_2  0.3437648  955 3    "
      ]
     },
     "metadata": {},
     "output_type": "display_data"
    }
   ],
   "source": [
    "se <- readRDS(file.path(se_indir, \"se.clonesfilt.rds\"))\n",
    "init.large.clones <- read.csv(file.path(se_indir, \"large_clones.csv\"))\n",
    "large.clones <- init.large.clones %>% filter(cdf.norm<cdf_thresh)\n",
    "\n",
    "large.clones <- check.if.one.clone(large.clones, init.large.clones, n_top_clones)\n",
    "large.clones"
   ]
  },
  {
   "cell_type": "code",
   "execution_count": 7,
   "id": "ec910a21",
   "metadata": {
    "execution": {
     "iopub.execute_input": "2021-12-03T16:13:55.192046Z",
     "iopub.status.busy": "2021-12-03T16:13:55.190315Z",
     "iopub.status.idle": "2021-12-03T16:14:01.777448Z",
     "shell.execute_reply": "2021-12-03T16:14:01.776277Z"
    },
    "papermill": {
     "duration": 6.67887,
     "end_time": "2021-12-03T16:14:01.777688",
     "exception": false,
     "start_time": "2021-12-03T16:13:55.098818",
     "status": "completed"
    },
    "tags": []
   },
   "outputs": [],
   "source": [
    "se <- subset(se, subset= name %in% factor(large.clones$name))"
   ]
  },
  {
   "cell_type": "code",
   "execution_count": 8,
   "id": "c1f91a07",
   "metadata": {
    "execution": {
     "iopub.execute_input": "2021-12-03T16:14:01.966437Z",
     "iopub.status.busy": "2021-12-03T16:14:01.963639Z",
     "iopub.status.idle": "2021-12-03T16:14:01.991681Z",
     "shell.execute_reply": "2021-12-03T16:14:01.990530Z"
    },
    "papermill": {
     "duration": 0.121218,
     "end_time": "2021-12-03T16:14:01.991976",
     "exception": false,
     "start_time": "2021-12-03T16:14:01.870758",
     "status": "completed"
    },
    "tags": []
   },
   "outputs": [],
   "source": [
    "Idents(se) <- \"name\""
   ]
  },
  {
   "cell_type": "code",
   "execution_count": 9,
   "id": "8f207cb1",
   "metadata": {
    "execution": {
     "iopub.execute_input": "2021-12-03T16:14:02.178996Z",
     "iopub.status.busy": "2021-12-03T16:14:02.176257Z",
     "iopub.status.idle": "2021-12-03T16:14:03.004645Z",
     "shell.execute_reply": "2021-12-03T16:14:03.005554Z"
    },
    "papermill": {
     "duration": 0.922348,
     "end_time": "2021-12-03T16:14:03.005831",
     "exception": false,
     "start_time": "2021-12-03T16:14:02.083483",
     "status": "completed"
    },
    "scrolled": true,
    "tags": []
   },
   "outputs": [
    {
     "name": "stderr",
     "output_type": "stream",
     "text": [
      "Saving 6.67 x 6.67 in image\n",
      "\n"
     ]
    },
    {
     "data": {
      "image/png": "[encoded data removed]",
      "text/plain": [
       "plot without title"
      ]
     },
     "metadata": {
      "image/png": {
       "height": 420,
       "width": 420
      }
     },
     "output_type": "display_data"
    }
   ],
   "source": [
    "p <- ggplot(data = large.clones, aes(index, cdf.norm)) +\n",
    "  geom_point(color = \"steelblue\", size = 1) +\n",
    "  facet_wrap(~ donor) \n",
    "\n",
    "p <- p + geom_hline(yintercept=cdf_thresh, color='green') \n",
    "p\n",
    "ggsave(file.path(outdir, \"large.clones.cdf.png\"))\n",
    "\n"
   ]
  },
  {
   "cell_type": "code",
   "execution_count": 10,
   "id": "c28a1ffa",
   "metadata": {
    "execution": {
     "iopub.execute_input": "2021-12-03T16:14:03.194041Z",
     "iopub.status.busy": "2021-12-03T16:14:03.190584Z",
     "iopub.status.idle": "2021-12-03T16:14:03.206901Z",
     "shell.execute_reply": "2021-12-03T16:14:03.205547Z"
    },
    "papermill": {
     "duration": 0.106985,
     "end_time": "2021-12-03T16:14:03.207097",
     "exception": false,
     "start_time": "2021-12-03T16:14:03.100112",
     "status": "completed"
    },
    "tags": []
   },
   "outputs": [],
   "source": [
    "## Get motif names\n",
    "\n",
    "# DefaultAssay(se) <- \"chromvar\"\n",
    "# chrom.var.names <- GetAssayData(se)\n",
    "# DefaultAssay(se) <- \"ATAC\"\n",
    "# motifs <- Motifs(se)\n",
    "# #Motifs(se)@motif.names\n",
    "\n",
    "# head(chrom.var.names)\n",
    "# row.names(chrom.var.names) <- sapply(row.names(chrom.var.names), function(x) {Motifs(se)@motif.names[[x]]})\n",
    "# head(chrom.var.names)\n",
    "\n",
    "\n"
   ]
  },
  {
   "cell_type": "markdown",
   "id": "5564da63",
   "metadata": {
    "papermill": {
     "duration": 0.072419,
     "end_time": "2021-12-03T16:14:03.358653",
     "exception": false,
     "start_time": "2021-12-03T16:14:03.286234",
     "status": "completed"
    },
    "tags": []
   },
   "source": [
    "## TF DE"
   ]
  },
  {
   "cell_type": "markdown",
   "id": "e7def62d",
   "metadata": {
    "papermill": {
     "duration": 0.07233,
     "end_time": "2021-12-03T16:14:03.504101",
     "exception": false,
     "start_time": "2021-12-03T16:14:03.431771",
     "status": "completed"
    },
    "tags": []
   },
   "source": [
    "## Summarize results"
   ]
  },
  {
   "cell_type": "code",
   "execution_count": 11,
   "id": "c7854307",
   "metadata": {
    "execution": {
     "iopub.execute_input": "2021-12-03T16:14:03.660526Z",
     "iopub.status.busy": "2021-12-03T16:14:03.656944Z",
     "iopub.status.idle": "2021-12-03T16:14:03.673058Z",
     "shell.execute_reply": "2021-12-03T16:14:03.671317Z"
    },
    "papermill": {
     "duration": 0.096285,
     "end_time": "2021-12-03T16:14:03.673297",
     "exception": false,
     "start_time": "2021-12-03T16:14:03.577012",
     "status": "completed"
    },
    "scrolled": true,
    "tags": []
   },
   "outputs": [],
   "source": [
    "# all.names.sig <- c()\n",
    "# DefaultAssay(se) <- \"chromvarnames\"\n",
    "# for (d in 0:(n_donors-1)){\n",
    "#     print('donor')\n",
    "#     print(d)\n",
    "#     curr.indir <- file.path(indir, paste0(\"donor\", d, \"_TF\"))\n",
    "#     #curr.outdir <- file.path(outdir, paste0(\"donor\", d, \"_TF\"))\n",
    "#     #dir.create(curr.outdir)\n",
    "#     donor.large.clones <- large.clones %>% filter(donor==d)\n",
    "#     clones.filt.ids <- sort(donor.large.clones$lineage)\n",
    "#     se.filt <- subset(se, subset = (donor==d) & (lineage %in% donor.large.clones$lineage))\n",
    "#     if (length(clones.filt.ids) < 2){\n",
    "#         print(\"0 or 1 clone found. not running\")\n",
    "#         next\n",
    "#     }\n",
    "#     pairs = combn(clones.filt.ids,2)\n",
    "#     names.sig <- c()\n",
    "\n",
    "#     for (i in 1:dim(pairs)[2]){\n",
    "#         print(pairs[,i])\n",
    "#         print(paste(\"comparison #\", i))\n",
    "#         a = pairs[1,i]\n",
    "#         b = pairs[2,i]\n",
    "#         curr.tf.da <- read.csv(file.path(curr.indir, \n",
    "#                                          paste0(\"clones_\",a,\"__\", b,\".DE.TF.csv\"))) %>% \n",
    "#                       arrange(p_val)\n",
    "#         row.names(curr.tf.da) <- curr.tf.da$X  #sapply(curr.tf.da$X, function(m) {motifs@motif.names[[m]]})\n",
    "#         names.sig <- c(names.sig, head(row.names(curr.tf.da), n_top_genes))\n",
    "#         all.names.sig <- c(all.names.sig, head(row.names(curr.tf.da), n_top_genes))\n",
    "#         }\n",
    "#     names.sig <- unique(names.sig)\n",
    "    \n",
    "#     gally <- GGally::ggpairs(curr.tf.da[,c(\"p_val\", \"p_val_adj\")], aes(alpha = 0.4))\n",
    "# }\n"
   ]
  },
  {
   "cell_type": "code",
   "execution_count": 12,
   "id": "78949989",
   "metadata": {
    "execution": {
     "iopub.execute_input": "2021-12-03T16:14:03.870399Z",
     "iopub.status.busy": "2021-12-03T16:14:03.866800Z",
     "iopub.status.idle": "2021-12-03T16:15:12.299385Z",
     "shell.execute_reply": "2021-12-03T16:15:12.298185Z"
    },
    "papermill": {
     "duration": 68.527623,
     "end_time": "2021-12-03T16:15:12.299674",
     "exception": false,
     "start_time": "2021-12-03T16:14:03.772051",
     "status": "completed"
    },
    "scrolled": true,
    "tags": []
   },
   "outputs": [
    {
     "name": "stdout",
     "output_type": "stream",
     "text": [
      "[1] \"donor\"\n",
      "[1] 0\n"
     ]
    },
    {
     "name": "stderr",
     "output_type": "stream",
     "text": [
      "Warning message in dir.create(curr.outdir):\n",
      "“'/data/Mito_Trace/output/pipeline/cd34norm/MTblacklist/data/merged/MT/cellr_True/numread_200/filters/minC10_minR50_topN0_hetT0.001_hetC10_hetCount5_bq20/mgatk/vireoIn/clones/variants_mgatkdonor/knn/kparam_10/concat/annotation_clones/DE_large/minPct_0__logThresh_0/cdf_thresh__0.3/donor0_TF' already exists”\n"
     ]
    },
    {
     "name": "stdout",
     "output_type": "stream",
     "text": [
      "[1] 0 1\n",
      "[1] \"comparison # 1\"\n",
      "            X        p_val   avg_diff pct.1 pct.2   p_val_adj p_val_adj_BH\n",
      "1       BACH1 1.935835e-06 -0.5880951 0.327 0.459 0.001225384 0.0007310309\n",
      "2  JUN(var.2) 2.462180e-06 -0.7392857 0.322 0.450 0.001558560 0.0007310309\n",
      "3 FOSL2::JUNB 4.692417e-06 -0.7118604 0.289 0.432 0.002970300 0.0007310309\n",
      "4        NFE2 4.716428e-06 -0.6064356 0.307 0.471 0.002985499 0.0007310309\n",
      "5 FOSL2::JUND 6.906050e-06 -0.7336469 0.307 0.426 0.004371530 0.0007310309\n",
      "6       FOSL2 6.929203e-06 -0.7738696 0.297 0.420 0.004386186 0.0007310309\n"
     ]
    },
    {
     "name": "stderr",
     "output_type": "stream",
     "text": [
      "Registered S3 method overwritten by 'GGally':\n",
      "  method from   \n",
      "  +.gg   ggplot2\n",
      "\n"
     ]
    },
    {
     "name": "stderr",
     "output_type": "stream",
     "text": [
      "Saving 6.67 x 6.67 in image\n",
      "\n"
     ]
    },
    {
     "name": "stderr",
     "output_type": "stream",
     "text": [
      "Warning message:\n",
      "“`guides(<scale> = FALSE)` is deprecated. Please use `guides(<scale> = \"none\")` instead.”\n"
     ]
    },
    {
     "name": "stderr",
     "output_type": "stream",
     "text": [
      "Saving 6.67 x 6.67 in image\n",
      "\n"
     ]
    },
    {
     "name": "stdout",
     "output_type": "stream",
     "text": [
      "[1] 0 3\n",
      "[1] \"comparison # 2\"\n",
      "       X       p_val   avg_diff pct.1 pct.2 p_val_adj p_val_adj_BH\n",
      "1   HSF2 0.004031196 -0.2071087 0.449 0.534         1    0.6561708\n",
      "2 POU4F3 0.005830417  0.1953664 0.536 0.450         1    0.6561708\n",
      "3  BARX2 0.006896088  0.2089528 0.556 0.430         1    0.6561708\n",
      "4 ZNF136 0.006905132  0.2316534 0.533 0.454         1    0.6561708\n",
      "5  NR1I3 0.008165101  0.1950124 0.536 0.450         1    0.6561708\n",
      "6  CENPB 0.009873475 -0.1776094 0.472 0.566         1    0.6561708\n"
     ]
    },
    {
     "name": "stderr",
     "output_type": "stream",
     "text": [
      "Saving 6.67 x 6.67 in image\n",
      "\n"
     ]
    },
    {
     "name": "stderr",
     "output_type": "stream",
     "text": [
      "Warning message in cor(x, y):\n",
      "“the standard deviation is zero”\n"
     ]
    },
    {
     "name": "stderr",
     "output_type": "stream",
     "text": [
      "Warning message in cor(x, y):\n",
      "“the standard deviation is zero”\n"
     ]
    },
    {
     "name": "stderr",
     "output_type": "stream",
     "text": [
      "Warning message:\n",
      "“`guides(<scale> = FALSE)` is deprecated. Please use `guides(<scale> = \"none\")` instead.”\n"
     ]
    },
    {
     "name": "stderr",
     "output_type": "stream",
     "text": [
      "Saving 6.67 x 6.67 in image\n",
      "\n"
     ]
    },
    {
     "name": "stdout",
     "output_type": "stream",
     "text": [
      "[1] 1 3\n",
      "[1] \"comparison # 3\"\n",
      "             X        p_val   avg_diff pct.1 pct.2  p_val_adj p_val_adj_BH\n",
      "1        NFIL3 0.0001328779 -0.3803111 0.474 0.622 0.08411173   0.08411173\n",
      "2         SIX1 0.0003907784  0.2755234 0.550 0.438 0.24736275   0.12368138\n",
      "3          HLF 0.0018918215 -0.3187566 0.459 0.574 1.00000000   0.34182685\n",
      "4         SIX2 0.0030960992  0.2553561 0.535 0.442 1.00000000   0.34182685\n",
      "5 CEBPG(var.2) 0.0031011310 -0.4172512 0.492 0.618 1.00000000   0.34182685\n",
      "6         ATF4 0.0050028292 -0.3126913 0.486 0.618 1.00000000   0.34182685\n"
     ]
    },
    {
     "name": "stderr",
     "output_type": "stream",
     "text": [
      "Saving 6.67 x 6.67 in image\n",
      "\n"
     ]
    },
    {
     "name": "stderr",
     "output_type": "stream",
     "text": [
      "Warning message:\n",
      "“`guides(<scale> = FALSE)` is deprecated. Please use `guides(<scale> = \"none\")` instead.”\n"
     ]
    },
    {
     "name": "stderr",
     "output_type": "stream",
     "text": [
      "Saving 6.67 x 6.67 in image\n",
      "\n"
     ]
    },
    {
     "name": "stderr",
     "output_type": "stream",
     "text": [
      "The automatically generated colors map from the minus and plus 99^th of\n",
      "the absolute values in the matrix. There are outliers in the matrix\n",
      "whose patterns might be hidden by this color mapping. You can manually\n",
      "set the color to `col` argument.\n",
      "\n",
      "Use `suppressMessages()` to turn off this message.\n",
      "\n"
     ]
    },
    {
     "name": "stderr",
     "output_type": "stream",
     "text": [
      "'magick' package is suggested to install to give better rasterization.\n",
      "\n",
      "Set `ht_opt$message = FALSE` to turn off this message.\n",
      "\n"
     ]
    },
    {
     "name": "stderr",
     "output_type": "stream",
     "text": [
      "Saving 6.67 x 6.67 in image\n",
      "\n"
     ]
    },
    {
     "name": "stderr",
     "output_type": "stream",
     "text": [
      "Saving 6.67 x 6.67 in image\n",
      "\n"
     ]
    },
    {
     "name": "stderr",
     "output_type": "stream",
     "text": [
      "Saving 6.67 x 6.67 in image\n",
      "\n"
     ]
    },
    {
     "name": "stdout",
     "output_type": "stream",
     "text": [
      "[1] \"donor\"\n",
      "[1] 1\n"
     ]
    },
    {
     "name": "stderr",
     "output_type": "stream",
     "text": [
      "Warning message in dir.create(curr.outdir):\n",
      "“'/data/Mito_Trace/output/pipeline/cd34norm/MTblacklist/data/merged/MT/cellr_True/numread_200/filters/minC10_minR50_topN0_hetT0.001_hetC10_hetCount5_bq20/mgatk/vireoIn/clones/variants_mgatkdonor/knn/kparam_10/concat/annotation_clones/DE_large/minPct_0__logThresh_0/cdf_thresh__0.3/donor1_TF' already exists”\n"
     ]
    },
    {
     "name": "stdout",
     "output_type": "stream",
     "text": [
      "[1] 0 1\n",
      "[1] \"comparison # 1\"\n",
      "             X        p_val  avg_diff pct.1 pct.2    p_val_adj p_val_adj_BH\n",
      "1      ZKSCAN5 5.807437e-07 0.4912057 0.493 0.311 0.0003676108 0.0003676108\n",
      "2 STAT1::STAT2 1.594885e-06 0.5493020 0.419 0.234 0.0010095625 0.0004114898\n",
      "3         IRF8 1.950189e-06 0.4627381 0.503 0.330 0.0012344694 0.0004114898\n",
      "4         ETV5 3.783479e-06 0.4076449 0.591 0.446 0.0023949421 0.0005120997\n",
      "5         IRF4 4.387203e-06 0.4847514 0.456 0.327 0.0027770994 0.0005120997\n",
      "6         SPIB 4.854025e-06 0.7539969 0.433 0.292 0.0030725981 0.0005120997\n"
     ]
    },
    {
     "name": "stderr",
     "output_type": "stream",
     "text": [
      "Saving 6.67 x 6.67 in image\n",
      "\n"
     ]
    },
    {
     "name": "stderr",
     "output_type": "stream",
     "text": [
      "Warning message:\n",
      "“`guides(<scale> = FALSE)` is deprecated. Please use `guides(<scale> = \"none\")` instead.”\n"
     ]
    },
    {
     "name": "stderr",
     "output_type": "stream",
     "text": [
      "Saving 6.67 x 6.67 in image\n",
      "\n"
     ]
    },
    {
     "name": "stdout",
     "output_type": "stream",
     "text": [
      "[1] 0 3\n",
      "[1] \"comparison # 2\"\n",
      "             X        p_val  avg_diff pct.1 pct.2  p_val_adj p_val_adj_BH\n",
      "1         NFIB 0.0001418760 0.3425781 0.557 0.443 0.08980752   0.08980752\n",
      "2          MAF 0.0005154788 0.3264411 0.574 0.465 0.32629811   0.11962611\n",
      "3       ZBTB12 0.0008290602 0.2694693 0.611 0.465 0.52479512   0.11962611\n",
      "4         IRF1 0.0009066033 0.3022327 0.440 0.342 0.57387989   0.11962611\n",
      "5      ZKSCAN5 0.0009449140 0.3567852 0.493 0.351 0.59813053   0.11962611\n",
      "6 STAT1::STAT2 0.0013774424 0.3689528 0.419 0.320 0.87192107   0.13477601\n"
     ]
    },
    {
     "name": "stderr",
     "output_type": "stream",
     "text": [
      "Saving 6.67 x 6.67 in image\n",
      "\n"
     ]
    },
    {
     "name": "stderr",
     "output_type": "stream",
     "text": [
      "Warning message:\n",
      "“`guides(<scale> = FALSE)` is deprecated. Please use `guides(<scale> = \"none\")` instead.”\n"
     ]
    },
    {
     "name": "stderr",
     "output_type": "stream",
     "text": [
      "Saving 6.67 x 6.67 in image\n",
      "\n"
     ]
    },
    {
     "name": "stdout",
     "output_type": "stream",
     "text": [
      "[1] 1 3\n",
      "[1] \"comparison # 3\"\n",
      "          X        p_val   avg_diff pct.1 pct.2 p_val_adj p_val_adj_BH\n",
      "1     TBX20 0.0003507464  0.2895232 0.571 0.469 0.2220225    0.1032699\n",
      "2     FOSL1 0.0007773261 -0.5641193 0.394 0.539 0.4920474    0.1032699\n",
      "3 JUN::JUNB 0.0010245928 -0.4837565 0.388 0.522 0.6485672    0.1032699\n",
      "4 FOS::JUNB 0.0011220090 -0.5572710 0.397 0.504 0.7102317    0.1032699\n",
      "5      JUNB 0.0011420429 -0.5418902 0.391 0.531 0.7229132    0.1032699\n",
      "6      BATF 0.0012668834 -0.5295898 0.407 0.509 0.8019372    0.1032699\n"
     ]
    },
    {
     "name": "stderr",
     "output_type": "stream",
     "text": [
      "Saving 6.67 x 6.67 in image\n",
      "\n"
     ]
    },
    {
     "name": "stderr",
     "output_type": "stream",
     "text": [
      "Warning message:\n",
      "“`guides(<scale> = FALSE)` is deprecated. Please use `guides(<scale> = \"none\")` instead.”\n"
     ]
    },
    {
     "name": "stderr",
     "output_type": "stream",
     "text": [
      "Saving 6.67 x 6.67 in image\n",
      "\n"
     ]
    },
    {
     "name": "stderr",
     "output_type": "stream",
     "text": [
      "'magick' package is suggested to install to give better rasterization.\n",
      "\n",
      "Set `ht_opt$message = FALSE` to turn off this message.\n",
      "\n"
     ]
    },
    {
     "name": "stderr",
     "output_type": "stream",
     "text": [
      "Saving 6.67 x 6.67 in image\n",
      "\n"
     ]
    },
    {
     "name": "stderr",
     "output_type": "stream",
     "text": [
      "Saving 6.67 x 6.67 in image\n",
      "\n"
     ]
    },
    {
     "name": "stderr",
     "output_type": "stream",
     "text": [
      "Saving 6.67 x 6.67 in image\n",
      "\n"
     ]
    },
    {
     "name": "stdout",
     "output_type": "stream",
     "text": [
      "[1] \"donor\"\n",
      "[1] 2\n"
     ]
    },
    {
     "name": "stderr",
     "output_type": "stream",
     "text": [
      "Warning message in dir.create(curr.outdir):\n",
      "“'/data/Mito_Trace/output/pipeline/cd34norm/MTblacklist/data/merged/MT/cellr_True/numread_200/filters/minC10_minR50_topN0_hetT0.001_hetC10_hetCount5_bq20/mgatk/vireoIn/clones/variants_mgatkdonor/knn/kparam_10/concat/annotation_clones/DE_large/minPct_0__logThresh_0/cdf_thresh__0.3/donor2_TF' already exists”\n"
     ]
    },
    {
     "name": "stdout",
     "output_type": "stream",
     "text": [
      "[1] 0 1\n",
      "[1] \"comparison # 1\"\n",
      "            X       p_val   avg_diff pct.1 pct.2 p_val_adj p_val_adj_BH\n",
      "1       GATA5 0.000223789  0.6861484 0.708 0.620 0.1416585    0.1416585\n",
      "2       GATA3 0.001014006  0.6105323 0.692 0.606 0.6418658    0.3040332\n",
      "3       GATA4 0.002250766  0.5800425 0.668 0.579 1.0000000    0.3040332\n",
      "4        SPI1 0.002619413 -0.2811272 0.173 0.267 1.0000000    0.3040332\n",
      "5 GATA1::TAL1 0.003179334  0.5961089 0.653 0.552 1.0000000    0.3040332\n",
      "6       GATA6 0.003561740  0.5224292 0.699 0.633 1.0000000    0.3040332\n"
     ]
    },
    {
     "name": "stderr",
     "output_type": "stream",
     "text": [
      "Saving 6.67 x 6.67 in image\n",
      "\n"
     ]
    },
    {
     "name": "stderr",
     "output_type": "stream",
     "text": [
      "Warning message:\n",
      "“`guides(<scale> = FALSE)` is deprecated. Please use `guides(<scale> = \"none\")` instead.”\n"
     ]
    },
    {
     "name": "stderr",
     "output_type": "stream",
     "text": [
      "Saving 6.67 x 6.67 in image\n",
      "\n"
     ]
    },
    {
     "name": "stdout",
     "output_type": "stream",
     "text": [
      "[1] 0 2\n",
      "[1] \"comparison # 2\"\n",
      "            X        p_val   avg_diff pct.1 pct.2  p_val_adj p_val_adj_BH\n",
      "1        ETV2 3.559987e-05  0.3484407 0.501 0.375 0.02253472   0.02253472\n",
      "2 RXRG(var.2) 1.039413e-03  0.2454644 0.496 0.383 0.65794840   0.32897420\n",
      "3         ERG 2.442806e-03  0.2333519 0.520 0.404 1.00000000   0.39405119\n",
      "4        ESR1 2.490055e-03  0.2011611 0.429 0.333 1.00000000   0.39405119\n",
      "5         ERF 4.351536e-03  0.1848829 0.496 0.379 1.00000000   0.48577757\n",
      "6       PROP1 4.604527e-03 -0.1873002 0.535 0.579 1.00000000   0.48577757\n"
     ]
    },
    {
     "name": "stderr",
     "output_type": "stream",
     "text": [
      "Saving 6.67 x 6.67 in image\n",
      "\n"
     ]
    },
    {
     "name": "stderr",
     "output_type": "stream",
     "text": [
      "Warning message:\n",
      "“`guides(<scale> = FALSE)` is deprecated. Please use `guides(<scale> = \"none\")` instead.”\n"
     ]
    },
    {
     "name": "stderr",
     "output_type": "stream",
     "text": [
      "Saving 6.67 x 6.67 in image\n",
      "\n"
     ]
    },
    {
     "name": "stdout",
     "output_type": "stream",
     "text": [
      "[1] 1 2\n",
      "[1] \"comparison # 3\"\n",
      "            X        p_val   avg_diff pct.1 pct.2  p_val_adj p_val_adj_BH\n",
      "1        SPI1 1.687595e-05  0.4686809 0.267 0.125 0.01068248   0.01068248\n",
      "2       GATA5 3.742716e-05 -0.9482675 0.620 0.733 0.02369139   0.01184570\n",
      "3 GATA1::TAL1 2.148864e-04 -0.9165341 0.552 0.696 0.13602308   0.04256836\n",
      "4       GATA4 2.973870e-04 -0.8521046 0.579 0.692 0.18824594   0.04256836\n",
      "5       IKZF1 3.715855e-04  0.3573608 0.439 0.283 0.23521365   0.04256836\n",
      "6       GATA3 4.034915e-04 -0.8126938 0.606 0.704 0.25541015   0.04256836\n"
     ]
    },
    {
     "name": "stderr",
     "output_type": "stream",
     "text": [
      "Saving 6.67 x 6.67 in image\n",
      "\n"
     ]
    },
    {
     "name": "stderr",
     "output_type": "stream",
     "text": [
      "Warning message:\n",
      "“`guides(<scale> = FALSE)` is deprecated. Please use `guides(<scale> = \"none\")` instead.”\n"
     ]
    },
    {
     "name": "stderr",
     "output_type": "stream",
     "text": [
      "Saving 6.67 x 6.67 in image\n",
      "\n"
     ]
    },
    {
     "name": "stderr",
     "output_type": "stream",
     "text": [
      "'magick' package is suggested to install to give better rasterization.\n",
      "\n",
      "Set `ht_opt$message = FALSE` to turn off this message.\n",
      "\n"
     ]
    },
    {
     "name": "stderr",
     "output_type": "stream",
     "text": [
      "Saving 6.67 x 6.67 in image\n",
      "\n"
     ]
    },
    {
     "name": "stderr",
     "output_type": "stream",
     "text": [
      "Saving 6.67 x 6.67 in image\n",
      "\n"
     ]
    },
    {
     "name": "stderr",
     "output_type": "stream",
     "text": [
      "Saving 6.67 x 6.67 in image\n",
      "\n"
     ]
    },
    {
     "name": "stdout",
     "output_type": "stream",
     "text": [
      "[1] \"donor\"\n",
      "[1] 3\n"
     ]
    },
    {
     "name": "stderr",
     "output_type": "stream",
     "text": [
      "Warning message in dir.create(curr.outdir):\n",
      "“'/data/Mito_Trace/output/pipeline/cd34norm/MTblacklist/data/merged/MT/cellr_True/numread_200/filters/minC10_minR50_topN0_hetT0.001_hetC10_hetCount5_bq20/mgatk/vireoIn/clones/variants_mgatkdonor/knn/kparam_10/concat/annotation_clones/DE_large/minPct_0__logThresh_0/cdf_thresh__0.3/donor3_TF' already exists”\n"
     ]
    },
    {
     "name": "stdout",
     "output_type": "stream",
     "text": [
      "[1] 0 1\n",
      "[1] \"comparison # 1\"\n",
      "       X       p_val   avg_diff pct.1 pct.2 p_val_adj p_val_adj_BH\n",
      "1  FOSL2 0.004084251 -0.3322632 0.399 0.470         1    0.5176413\n",
      "2  PRDM4 0.005175071 -0.1745735 0.438 0.541         1    0.5176413\n",
      "3 POU4F1 0.005276910  0.1625628 0.542 0.448         1    0.5176413\n",
      "4    EN2 0.005755027  0.2055507 0.527 0.445         1    0.5176413\n",
      "5  NR1I2 0.005908887 -0.2266344 0.443 0.496         1    0.5176413\n",
      "6  BACH1 0.006878024 -0.2389530 0.401 0.490         1    0.5176413\n"
     ]
    },
    {
     "name": "stderr",
     "output_type": "stream",
     "text": [
      "Saving 6.67 x 6.67 in image\n",
      "\n"
     ]
    },
    {
     "name": "stderr",
     "output_type": "stream",
     "text": [
      "Warning message in cor(x, y):\n",
      "“the standard deviation is zero”\n"
     ]
    },
    {
     "name": "stderr",
     "output_type": "stream",
     "text": [
      "Warning message in cor(x, y):\n",
      "“the standard deviation is zero”\n"
     ]
    },
    {
     "name": "stderr",
     "output_type": "stream",
     "text": [
      "Warning message:\n",
      "“`guides(<scale> = FALSE)` is deprecated. Please use `guides(<scale> = \"none\")` instead.”\n"
     ]
    },
    {
     "name": "stderr",
     "output_type": "stream",
     "text": [
      "Saving 6.67 x 6.67 in image\n",
      "\n"
     ]
    },
    {
     "name": "stdout",
     "output_type": "stream",
     "text": [
      "[1] 0 2\n",
      "[1] \"comparison # 2\"\n",
      "       X       p_val   avg_diff pct.1 pct.2 p_val_adj p_val_adj_BH\n",
      "1  FOXC2 0.003925260  0.2363177 0.495 0.418         1    0.9556263\n",
      "2   ZIC1 0.003944079  0.2053374 0.512 0.393         1    0.9556263\n",
      "3 TFAP2E 0.009109338 -0.1911032 0.428 0.546         1    0.9556263\n",
      "4 ZNF317 0.011584121  0.2143611 0.490 0.398         1    0.9556263\n",
      "5   NFIC 0.018909684 -0.1578526 0.453 0.566         1    0.9556263\n",
      "6   ZIC3 0.019740823  0.1978804 0.485 0.408         1    0.9556263\n"
     ]
    },
    {
     "name": "stderr",
     "output_type": "stream",
     "text": [
      "Saving 6.67 x 6.67 in image\n",
      "\n"
     ]
    },
    {
     "name": "stderr",
     "output_type": "stream",
     "text": [
      "Warning message in cor(x, y):\n",
      "“the standard deviation is zero”\n"
     ]
    },
    {
     "name": "stderr",
     "output_type": "stream",
     "text": [
      "Warning message in cor(x, y):\n",
      "“the standard deviation is zero”\n"
     ]
    },
    {
     "name": "stderr",
     "output_type": "stream",
     "text": [
      "Warning message:\n",
      "“`guides(<scale> = FALSE)` is deprecated. Please use `guides(<scale> = \"none\")` instead.”\n"
     ]
    },
    {
     "name": "stderr",
     "output_type": "stream",
     "text": [
      "Saving 6.67 x 6.67 in image\n",
      "\n"
     ]
    },
    {
     "name": "stdout",
     "output_type": "stream",
     "text": [
      "[1] 1 2\n",
      "[1] \"comparison # 3\"\n",
      "            X       p_val   avg_diff pct.1 pct.2 p_val_adj p_val_adj_BH\n",
      "1        RARA 0.006014365  0.2222014 0.518 0.429         1    0.9982321\n",
      "2 RARA(var.2) 0.012441120  0.1730556 0.513 0.429         1    0.9982321\n",
      "3       MEIS3 0.015003108  0.1995723 0.499 0.398         1    0.9982321\n",
      "4        KLF2 0.015712099  0.1766628 0.468 0.357         1    0.9982321\n",
      "5         SRY 0.017910416 -0.1649860 0.439 0.556         1    0.9982321\n",
      "6       GLIS2 0.017910416  0.1945277 0.518 0.408         1    0.9982321\n"
     ]
    },
    {
     "name": "stderr",
     "output_type": "stream",
     "text": [
      "Saving 6.67 x 6.67 in image\n",
      "\n"
     ]
    },
    {
     "name": "stderr",
     "output_type": "stream",
     "text": [
      "Warning message in cor(x, y):\n",
      "“the standard deviation is zero”\n"
     ]
    },
    {
     "name": "stderr",
     "output_type": "stream",
     "text": [
      "Warning message in cor(x, y):\n",
      "“the standard deviation is zero”\n"
     ]
    },
    {
     "name": "stderr",
     "output_type": "stream",
     "text": [
      "Warning message:\n",
      "“`guides(<scale> = FALSE)` is deprecated. Please use `guides(<scale> = \"none\")` instead.”\n"
     ]
    },
    {
     "name": "stderr",
     "output_type": "stream",
     "text": [
      "Saving 6.67 x 6.67 in image\n",
      "\n"
     ]
    },
    {
     "name": "stderr",
     "output_type": "stream",
     "text": [
      "The automatically generated colors map from the minus and plus 99^th of\n",
      "the absolute values in the matrix. There are outliers in the matrix\n",
      "whose patterns might be hidden by this color mapping. You can manually\n",
      "set the color to `col` argument.\n",
      "\n",
      "Use `suppressMessages()` to turn off this message.\n",
      "\n"
     ]
    },
    {
     "name": "stderr",
     "output_type": "stream",
     "text": [
      "'magick' package is suggested to install to give better rasterization.\n",
      "\n",
      "Set `ht_opt$message = FALSE` to turn off this message.\n",
      "\n"
     ]
    },
    {
     "name": "stderr",
     "output_type": "stream",
     "text": [
      "Saving 6.67 x 6.67 in image\n",
      "\n"
     ]
    },
    {
     "name": "stderr",
     "output_type": "stream",
     "text": [
      "Saving 6.67 x 6.67 in image\n",
      "\n"
     ]
    },
    {
     "name": "stderr",
     "output_type": "stream",
     "text": [
      "Saving 6.67 x 6.67 in image\n",
      "\n"
     ]
    }
   ],
   "source": [
    "all.names.sig <- c()\n",
    "DefaultAssay(se) <- \"chromvarnames\"\n",
    "for (d in 0:(n_donors-1)){\n",
    "    print('donor')\n",
    "    print(d)\n",
    "    curr.indir <- file.path(indir, paste0(\"donor\", d, \"_TF\"))\n",
    "    curr.outdir <- file.path(outdir, paste0(\"donor\", d, \"_TF\"))\n",
    "    dir.create(curr.outdir)\n",
    "    donor.large.clones <- large.clones %>% filter(donor==d)\n",
    "    if (dim(donor.large.clones)[1] < 2){\n",
    "        print('no donor')\n",
    "        next\n",
    "    }\n",
    "    clones.filt.ids <- sort(donor.large.clones$lineage)\n",
    "    se.filt <- subset(se, subset = (donor==d) & (lineage %in% donor.large.clones$lineage))\n",
    "    if (length(clones.filt.ids) < 2){\n",
    "        print(\"0 or 1 clone found. not running\")\n",
    "        next\n",
    "    }\n",
    "    pairs = combn(clones.filt.ids,2)\n",
    "    names.sig <- c()\n",
    "\n",
    "    for (i in 1:dim(pairs)[2]){\n",
    "        print(pairs[,i])\n",
    "        print(paste(\"comparison #\", i))\n",
    "        a = pairs[1,i]\n",
    "        b = pairs[2,i]\n",
    "        curr.tf.da <- read.csv(file.path(curr.indir, \n",
    "                                         paste0(\"clones_\",a,\"__\", b,\".DE.TF.csv\"))) %>% \n",
    "                      arrange(p_val)\n",
    "        print(head(curr.tf.da))\n",
    "        row.names(curr.tf.da) <- curr.tf.da$X  #sapply(curr.tf.da$X, function(m) {motifs@motif.names[[m]]})\n",
    "        #curr.tf.da\n",
    "        names.sig <- c(names.sig, head(row.names(curr.tf.da), n_top_genes))\n",
    "        all.names.sig <- c(all.names.sig, head(row.names(curr.tf.da), n_top_genes))\n",
    "        gally <- GGally::ggpairs(curr.tf.da[,c(\"p_val\", \"p_val_adj\", \"avg_diff\")], aes(alpha = 0.4))\n",
    "        ggsave(plot=gally, \n",
    "                   file=file.path(curr.outdir, paste0(\"clones_\",a,\"__\", b,\".DE.TF.pvalHist.top.png\")))\n",
    "        DefaultAssay(se.filt) <- \"ATAC\"\n",
    "        raw.ids <- names(Motifs(se.filt)@motif.names)\n",
    "        rownames(curr.tf.da) <- sapply((curr.tf.da$X), function(x){raw.ids[match(x, Motifs(se.filt)@motif.names)]})\n",
    "        m <- MotifPlot(\n",
    "          object = se.filt,\n",
    "          motifs = head(rownames(curr.tf.da)),\n",
    "          assay = 'ATAC'\n",
    "        )\n",
    "        ggsave(plot=m, \n",
    "                   file=file.path(curr.outdir, paste0(\"clones_\",a,\"__\", b,\".DE.TF.motif.top.png\")))\n",
    "\n",
    "\n",
    "        }\n",
    "    DefaultAssay(se.filt) <- \"chromvarnames\"\n",
    "    names.sig <- unique(names.sig)\n",
    "    \n",
    "\n",
    "    feat <- FeaturePlot(se.filt,  features=names.sig)\n",
    "\n",
    "    vln <- VlnPlot(se.filt,  features=names.sig, pt.size = 0)\n",
    "\n",
    "    dot <- DotPlot(se.filt, features = names.sig) + RotatedAxis()\n",
    "\n",
    "    # split by a vector\n",
    "    pdf((file.path(curr.outdir, \"heatmap.top.pdf\")), width=8,height=8)\n",
    "    \n",
    "    heat <- ComplexHeatmap::Heatmap(GetAssayData(se.filt)[names.sig,], \n",
    "            name = paste0(\"donor\",d),\n",
    "            column_split = se.filt[[]][\"lineage\"],\n",
    "            show_column_names = FALSE, use_raster=TRUE\n",
    "           )\n",
    "    ComplexHeatmap::draw(heat)\n",
    "    dev.off()\n",
    "    \n",
    "    ggsave(plot=feat, \n",
    "           file=file.path(curr.outdir, (\"embedFeat.top.png\")))\n",
    "    ggsave(plot=dot, \n",
    "           file=file.path(curr.outdir, (\"dot.top.png\")))\n",
    "    ggsave(plot=vln, \n",
    "           file=file.path(curr.outdir, (\"violin.top.png\")))\n",
    "    }\n",
    "all.names.sig <- unique(all.names.sig)"
   ]
  },
  {
   "cell_type": "markdown",
   "id": "0bb45042",
   "metadata": {
    "papermill": {
     "duration": 0.138838,
     "end_time": "2021-12-03T16:15:12.610800",
     "exception": false,
     "start_time": "2021-12-03T16:15:12.471962",
     "status": "completed"
    },
    "tags": []
   },
   "source": [
    "## Dotplot for all donors"
   ]
  },
  {
   "cell_type": "code",
   "execution_count": 13,
   "id": "4219fb55",
   "metadata": {
    "execution": {
     "iopub.execute_input": "2021-12-03T16:15:12.897119Z",
     "iopub.status.busy": "2021-12-03T16:15:12.894103Z",
     "iopub.status.idle": "2021-12-03T16:15:13.203234Z",
     "shell.execute_reply": "2021-12-03T16:15:13.204167Z"
    },
    "papermill": {
     "duration": 0.4519,
     "end_time": "2021-12-03T16:15:13.204464",
     "exception": false,
     "start_time": "2021-12-03T16:15:12.752564",
     "status": "completed"
    },
    "tags": []
   },
   "outputs": [
    {
     "data": {
      "text/html": [
       "<strong>png:</strong> 2"
      ],
      "text/latex": [
       "\\textbf{png:} 2"
      ],
      "text/markdown": [
       "**png:** 2"
      ],
      "text/plain": [
       "png \n",
       "  2 "
      ]
     },
     "metadata": {},
     "output_type": "display_data"
    }
   ],
   "source": [
    "pdf(file = file.path(outdir, \"./dotplot.allDonors.top.pdf\"), width = 8, height = 8)\n",
    "dot <- DotPlot(se, features = all.names.sig, group.by=\"donor\") + RotatedAxis()\n",
    "dot\n",
    "dev.off()"
   ]
  },
  {
   "cell_type": "code",
   "execution_count": 14,
   "id": "337318ad",
   "metadata": {
    "execution": {
     "iopub.execute_input": "2021-12-03T16:15:13.557873Z",
     "iopub.status.busy": "2021-12-03T16:15:13.557060Z",
     "iopub.status.idle": "2021-12-03T16:15:13.912236Z",
     "shell.execute_reply": "2021-12-03T16:15:13.913140Z"
    },
    "papermill": {
     "duration": 0.564005,
     "end_time": "2021-12-03T16:15:13.913427",
     "exception": false,
     "start_time": "2021-12-03T16:15:13.349422",
     "status": "completed"
    },
    "tags": []
   },
   "outputs": [
    {
     "data": {
      "text/html": [
       "<strong>png:</strong> 2"
      ],
      "text/latex": [
       "\\textbf{png:} 2"
      ],
      "text/markdown": [
       "**png:** 2"
      ],
      "text/plain": [
       "png \n",
       "  2 "
      ]
     },
     "metadata": {},
     "output_type": "display_data"
    }
   ],
   "source": [
    "pdf(file = file.path(outdir, \"./dotplot.allDonors.clones.top.pdf\"), width = 8, height = 8)\n",
    "dot <- DotPlot(se, features = all.names.sig, group.by=\"name\", cluster.idents=T) + RotatedAxis()\n",
    "dot\n",
    "dev.off()"
   ]
  },
  {
   "cell_type": "markdown",
   "id": "b78aba1f",
   "metadata": {
    "papermill": {
     "duration": 0.135641,
     "end_time": "2021-12-03T16:15:14.194592",
     "exception": false,
     "start_time": "2021-12-03T16:15:14.058951",
     "status": "completed"
    },
    "tags": []
   },
   "source": [
    "## Heatmap for all donors"
   ]
  },
  {
   "cell_type": "code",
   "execution_count": 15,
   "id": "ca052607",
   "metadata": {
    "execution": {
     "iopub.execute_input": "2021-12-03T16:15:14.474588Z",
     "iopub.status.busy": "2021-12-03T16:15:14.471754Z",
     "iopub.status.idle": "2021-12-03T16:15:19.377706Z",
     "shell.execute_reply": "2021-12-03T16:15:19.378617Z"
    },
    "papermill": {
     "duration": 5.048413,
     "end_time": "2021-12-03T16:15:19.378903",
     "exception": false,
     "start_time": "2021-12-03T16:15:14.330490",
     "status": "completed"
    },
    "scrolled": false,
    "tags": []
   },
   "outputs": [
    {
     "name": "stderr",
     "output_type": "stream",
     "text": [
      "The automatically generated colors map from the minus and plus 99^th of\n",
      "the absolute values in the matrix. There are outliers in the matrix\n",
      "whose patterns might be hidden by this color mapping. You can manually\n",
      "set the color to `col` argument.\n",
      "\n",
      "Use `suppressMessages()` to turn off this message.\n",
      "\n"
     ]
    },
    {
     "name": "stderr",
     "output_type": "stream",
     "text": [
      "`use_raster` is automatically set to TRUE for a matrix with more than\n",
      "2000 columns You can control `use_raster` argument by explicitly\n",
      "setting TRUE/FALSE to it.\n",
      "\n",
      "Set `ht_opt$message = FALSE` to turn off this message.\n",
      "\n"
     ]
    },
    {
     "name": "stderr",
     "output_type": "stream",
     "text": [
      "'magick' package is suggested to install to give better rasterization.\n",
      "\n",
      "Set `ht_opt$message = FALSE` to turn off this message.\n",
      "\n"
     ]
    },
    {
     "data": {
      "text/html": [
       "<strong>png:</strong> 2"
      ],
      "text/latex": [
       "\\textbf{png:} 2"
      ],
      "text/markdown": [
       "**png:** 2"
      ],
      "text/plain": [
       "png \n",
       "  2 "
      ]
     },
     "metadata": {},
     "output_type": "display_data"
    }
   ],
   "source": [
    "pdf((file.path(outdir, \"heatmap.allDonors.top.pdf\")), width=8,height=8)\n",
    "heat <- ComplexHeatmap::Heatmap(GetAssayData(se)[names.sig,], \n",
    "        top_annotation = HeatmapAnnotation(donor=as.character(se$donor)),\n",
    "        show_column_names = FALSE, \n",
    "        column_split = se[[\"name\"]],\n",
    "       )\n",
    "\n",
    "ComplexHeatmap::draw(heat)\n",
    "dev.off()"
   ]
  },
  {
   "cell_type": "code",
   "execution_count": 16,
   "id": "ffb06010",
   "metadata": {
    "execution": {
     "iopub.execute_input": "2021-12-03T16:15:19.710181Z",
     "iopub.status.busy": "2021-12-03T16:15:19.707302Z",
     "iopub.status.idle": "2021-12-03T16:15:19.722746Z",
     "shell.execute_reply": "2021-12-03T16:15:19.721728Z"
    },
    "papermill": {
     "duration": 0.160767,
     "end_time": "2021-12-03T16:15:19.722961",
     "exception": false,
     "start_time": "2021-12-03T16:15:19.562194",
     "status": "completed"
    },
    "scrolled": false,
    "tags": []
   },
   "outputs": [],
   "source": [
    "# pdf((file.path(outdir, \"heatmap.allDonors.anno.top.pdf\")), width=8,height=8)\n",
    "# heat <- ComplexHeatmap::Heatmap(GetAssayData(se)[all.names.sig,], \n",
    "#         top_annotation = HeatmapAnnotation(donor=as.character(se$donor), clone=as.character(se$lineage), \n",
    "#                                            depth=anno_barplot(log10(se$peak_region_fragments))),\n",
    "#         show_column_names = FALSE\n",
    "#        )\n",
    "\n",
    "# ComplexHeatmap::draw(heat)\n",
    "# dev.off()"
   ]
  },
  {
   "cell_type": "code",
   "execution_count": 17,
   "id": "a8b61392",
   "metadata": {
    "execution": {
     "iopub.execute_input": "2021-12-03T16:15:20.020301Z",
     "iopub.status.busy": "2021-12-03T16:15:20.017589Z",
     "iopub.status.idle": "2021-12-03T16:15:25.277824Z",
     "shell.execute_reply": "2021-12-03T16:15:25.278781Z"
    },
    "papermill": {
     "duration": 5.407598,
     "end_time": "2021-12-03T16:15:25.279130",
     "exception": false,
     "start_time": "2021-12-03T16:15:19.871532",
     "status": "completed"
    },
    "tags": []
   },
   "outputs": [
    {
     "name": "stderr",
     "output_type": "stream",
     "text": [
      "The automatically generated colors map from the minus and plus 99^th of\n",
      "the absolute values in the matrix. There are outliers in the matrix\n",
      "whose patterns might be hidden by this color mapping. You can manually\n",
      "set the color to `col` argument.\n",
      "\n",
      "Use `suppressMessages()` to turn off this message.\n",
      "\n"
     ]
    },
    {
     "name": "stderr",
     "output_type": "stream",
     "text": [
      "`use_raster` is automatically set to TRUE for a matrix with more than\n",
      "2000 columns You can control `use_raster` argument by explicitly\n",
      "setting TRUE/FALSE to it.\n",
      "\n",
      "Set `ht_opt$message = FALSE` to turn off this message.\n",
      "\n"
     ]
    },
    {
     "name": "stderr",
     "output_type": "stream",
     "text": [
      "'magick' package is suggested to install to give better rasterization.\n",
      "\n",
      "Set `ht_opt$message = FALSE` to turn off this message.\n",
      "\n"
     ]
    },
    {
     "data": {
      "text/html": [
       "<strong>png:</strong> 2"
      ],
      "text/latex": [
       "\\textbf{png:} 2"
      ],
      "text/markdown": [
       "**png:** 2"
      ],
      "text/plain": [
       "png \n",
       "  2 "
      ]
     },
     "metadata": {},
     "output_type": "display_data"
    }
   ],
   "source": [
    "pdf((file.path(outdir, \"heatmap.allDonors.split.top.pdf\")), width=8,height=8)\n",
    "heat <- ComplexHeatmap::Heatmap(GetAssayData(se)[all.names.sig,], \n",
    "        top_annotation = HeatmapAnnotation(donor=as.character(se$donor)),\n",
    "        show_column_names = FALSE, \n",
    "        column_split = se[[\"name\"]],\n",
    "       )\n",
    "\n",
    "ComplexHeatmap::draw(heat)\n",
    "dev.off()"
   ]
  },
  {
   "cell_type": "code",
   "execution_count": null,
   "id": "cdc2fbd4",
   "metadata": {
    "papermill": {
     "duration": 0.147768,
     "end_time": "2021-12-03T16:15:25.616036",
     "exception": false,
     "start_time": "2021-12-03T16:15:25.468268",
     "status": "completed"
    },
    "tags": []
   },
   "outputs": [],
   "source": []
  },
  {
   "cell_type": "code",
   "execution_count": null,
   "id": "2d955085",
   "metadata": {
    "papermill": {
     "duration": 0.145477,
     "end_time": "2021-12-03T16:15:25.904885",
     "exception": false,
     "start_time": "2021-12-03T16:15:25.759408",
     "status": "completed"
    },
    "tags": []
   },
   "outputs": [],
   "source": []
  }
 ],
 "metadata": {
  "celltoolbar": "Tags",
  "kernelspec": {
   "display_name": "R",
   "language": "R",
   "name": "ir"
  },
  "language_info": {
   "codemirror_mode": "r",
   "file_extension": ".r",
   "mimetype": "text/x-r-source",
   "name": "R",
   "pygments_lexer": "r",
   "version": "4.1.1"
  },
  "papermill": {
   "default_parameters": {},
   "duration": 128.97718,
   "end_time": "2021-12-03T16:15:26.366287",
   "environment_variables": {},
   "exception": null,
   "input_path": "/mnt/md0/isshamie/Projects/Mito_Trace/R_scripts/annotation_clones/DE_clones.TF.summaryPlot.ipynb",
   "output_path": "/data/Mito_Trace/output/pipeline/cd34norm/MTblacklist/data/merged/MT/cellr_True/numread_200/filters/minC10_minR50_topN0_hetT0.001_hetC10_hetCount5_bq20/mgatk/vireoIn/clones/variants_mgatkdonor/knn/kparam_10/concat/annotation_clones/DE_large/minPct_0__logThresh_0/cdf_thresh__0.3/output_Summary.ipynb",
   "parameters": {
    "cdf_thresh": 0.3,
    "indir": "/data/Mito_Trace/output/pipeline/cd34norm/MTblacklist/data/merged/MT/cellr_True/numread_200/filters/minC10_minR50_topN0_hetT0.001_hetC10_hetCount5_bq20/mgatk/vireoIn/clones/variants_mgatkdonor/knn/kparam_10/concat/annotation_clones/DE_large/minPct_0__logThresh_0",
    "n_donors": 4,
    "se_indir": "/data/Mito_Trace/output/pipeline/cd34norm/MTblacklist/data/merged/MT/cellr_True/numread_200/filters/minC10_minR50_topN0_hetT0.001_hetC10_hetCount5_bq20/mgatk/vireoIn/clones/variants_mgatkdonor/knn/kparam_10/concat/annotation_clones/DE_large"
   },
   "start_time": "2021-12-03T16:13:17.389107",
   "version": "2.3.3"
  }
 },
 "nbformat": 4,
 "nbformat_minor": 5
}