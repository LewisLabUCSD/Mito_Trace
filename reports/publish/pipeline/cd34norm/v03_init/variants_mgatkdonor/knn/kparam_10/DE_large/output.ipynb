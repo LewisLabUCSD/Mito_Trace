{
 "cells": [
  {
   "cell_type": "code",
   "execution_count": 1,
   "id": "4246cc89",
   "metadata": {
    "execution": {
     "iopub.execute_input": "2021-12-03T02:42:24.151964Z",
     "iopub.status.busy": "2021-12-03T02:42:24.149317Z",
     "iopub.status.idle": "2021-12-03T02:42:24.193167Z",
     "shell.execute_reply": "2021-12-03T02:42:24.192121Z"
    },
    "papermill": {
     "duration": 0.208454,
     "end_time": "2021-12-03T02:42:24.193358",
     "exception": false,
     "start_time": "2021-12-03T02:42:23.984904",
     "status": "completed"
    },
    "tags": [
     "parameters"
    ]
   },
   "outputs": [],
   "source": [
    "# se_f = \"~/data/Projects/Mito_Trace/output/pipeline/cd34norm/MTblacklist/data/merged/MT/cellr_True/numread_200/filters/minC10_minR50_topN0_hetT0.001_hetC10_hetCount5_bq20/mgatk/vireoIn/clones/variants_mgatkdonor/vireo/nclones20/enrichment/annotation_clones/SE.rds\"\n",
    "# outdir = \"~/data/Projects/Mito_Trace/output/pipeline/cd34norm/MTblacklist/data/merged/MT/cellr_True/numread_200/filters/minC10_minR50_topN0_hetT0.001_hetC10_hetCount5_bq20/mgatk/vireoIn/clones/variants_mgatkdonor/vireo/nclones20/enrichment/annotation_clones/DE_large\"\n",
    "# n_donors = 4\n",
    "\n",
    "se_f = \"/home/isshamie/data/Projects/Mito_Trace/output/pipeline/CHIP_nameFix_april08_2021/MTblacklist/data/merged/MT/cellr_True/numread_200/filters/minC10_minR50_topN0_hetT0.001_hetC10_hetCount5_bq20/mgatk/vireoIn/clones/variants_mgatkdonor/vireo/nclones20/annotation_clones/SE.rds\"\n",
    "outdir = \"/home/isshamie/data/Projects/Mito_Trace/output/pipeline/CHIP_nameFix_april08_2021/MTblacklist/data/merged/MT/cellr_True/numread_200/filters/minC10_minR50_topN0_hetT0.001_hetC10_hetCount5_bq20/mgatk/vireoIn/clones/variants_mgatkdonor/vireo/nclones20/annotation_clones/DE_large\"\n",
    "n_donors = 5\n",
    "\n",
    "\n",
    "\n",
    "# If more than 2 clones pass the cdf_thresh, use that, o.w use n_top_clones\n",
    "cdf_thresh = 0.5\n",
    "n_top_clones = 3\n",
    "\n",
    "min_pct = 0.01\n",
    "use_latent_vars = FALSE\n",
    "genome = \"/data/Mito_Trace/data/external/GRCh38_MT_blacklist/fasta/genome.fa\"\n",
    "cores=16\n",
    "utils_script <- \"/data/Mito_Trace/R_scripts/seurat_utils.R\""
   ]
  },
  {
   "cell_type": "code",
   "execution_count": 2,
   "id": "6ef1565e",
   "metadata": {
    "execution": {
     "iopub.execute_input": "2021-12-03T02:42:24.367318Z",
     "iopub.status.busy": "2021-12-03T02:42:24.332308Z",
     "iopub.status.idle": "2021-12-03T02:42:24.381566Z",
     "shell.execute_reply": "2021-12-03T02:42:24.380353Z"
    },
    "papermill": {
     "duration": 0.123954,
     "end_time": "2021-12-03T02:42:24.381874",
     "exception": false,
     "start_time": "2021-12-03T02:42:24.257920",
     "status": "completed"
    },
    "tags": [
     "injected-parameters"
    ]
   },
   "outputs": [],
   "source": [
    "# Parameters\n",
    "se_f = \"/data/Mito_Trace/output/pipeline/cd34norm/MTblacklist/data/merged/MT/cellr_True/numread_200/filters/minC10_minR50_topN0_hetT0.001_hetC10_hetCount5_bq20/mgatk/vireoIn/clones/variants_mgatkdonor/knn/kparam_10/concat/annotation_clones/SE.rds\"\n",
    "outdir = \"/data/Mito_Trace/output/pipeline/cd34norm/MTblacklist/data/merged/MT/cellr_True/numread_200/filters/minC10_minR50_topN0_hetT0.001_hetC10_hetCount5_bq20/mgatk/vireoIn/clones/variants_mgatkdonor/knn/kparam_10/concat/annotation_clones/DE_large\"\n",
    "n_donors = 4\n"
   ]
  },
  {
   "cell_type": "code",
   "execution_count": 3,
   "id": "e72d3a57",
   "metadata": {
    "execution": {
     "iopub.execute_input": "2021-12-03T02:42:24.519460Z",
     "iopub.status.busy": "2021-12-03T02:42:24.516033Z",
     "iopub.status.idle": "2021-12-03T02:42:24.535981Z",
     "shell.execute_reply": "2021-12-03T02:42:24.531221Z"
    },
    "papermill": {
     "duration": 0.086486,
     "end_time": "2021-12-03T02:42:24.536220",
     "exception": false,
     "start_time": "2021-12-03T02:42:24.449734",
     "status": "completed"
    },
    "tags": []
   },
   "outputs": [],
   "source": [
    "if (use_latent_vars){\n",
    "    latent.vars = \"peaks_depth\"\n",
    "}else{\n",
    "    latent.vars=NULL\n",
    "}"
   ]
  },
  {
   "cell_type": "code",
   "execution_count": 4,
   "id": "b44903ca",
   "metadata": {
    "execution": {
     "iopub.execute_input": "2021-12-03T02:42:24.668389Z",
     "iopub.status.busy": "2021-12-03T02:42:24.665923Z",
     "iopub.status.idle": "2021-12-03T02:42:30.900475Z",
     "shell.execute_reply": "2021-12-03T02:42:30.899372Z"
    },
    "papermill": {
     "duration": 6.300537,
     "end_time": "2021-12-03T02:42:30.900672",
     "exception": false,
     "start_time": "2021-12-03T02:42:24.600135",
     "status": "completed"
    },
    "tags": []
   },
   "outputs": [
    {
     "name": "stderr",
     "output_type": "stream",
     "text": [
      "Attaching SeuratObject\n",
      "\n"
     ]
    }
   ],
   "source": [
    "source(utils_script)"
   ]
  },
  {
   "cell_type": "code",
   "execution_count": 5,
   "id": "5d9ca2e3",
   "metadata": {
    "execution": {
     "iopub.execute_input": "2021-12-03T02:42:31.036202Z",
     "iopub.status.busy": "2021-12-03T02:42:31.032636Z",
     "iopub.status.idle": "2021-12-03T02:42:31.406306Z",
     "shell.execute_reply": "2021-12-03T02:42:31.405233Z"
    },
    "papermill": {
     "duration": 0.441123,
     "end_time": "2021-12-03T02:42:31.406537",
     "exception": false,
     "start_time": "2021-12-03T02:42:30.965414",
     "status": "completed"
    },
    "scrolled": true,
    "tags": []
   },
   "outputs": [
    {
     "name": "stderr",
     "output_type": "stream",
     "text": [
      "\n",
      "Attaching package: ‘cowplot’\n",
      "\n",
      "\n"
     ]
    },
    {
     "name": "stderr",
     "output_type": "stream",
     "text": [
      "The following object is masked from ‘package:patchwork’:\n",
      "\n",
      "    align_plots\n",
      "\n",
      "\n"
     ]
    },
    {
     "name": "stderr",
     "output_type": "stream",
     "text": [
      "\n",
      "Attaching package: ‘dplyr’\n",
      "\n",
      "\n"
     ]
    },
    {
     "name": "stderr",
     "output_type": "stream",
     "text": [
      "The following objects are masked from ‘package:stats’:\n",
      "\n",
      "    filter, lag\n",
      "\n",
      "\n"
     ]
    },
    {
     "name": "stderr",
     "output_type": "stream",
     "text": [
      "The following objects are masked from ‘package:base’:\n",
      "\n",
      "    intersect, setdiff, setequal, union\n",
      "\n",
      "\n"
     ]
    },
    {
     "name": "stderr",
     "output_type": "stream",
     "text": [
      "Warning message:\n",
      "“Strategy 'multiprocess' is deprecated in future (>= 1.20.0). Instead, explicitly specify either 'multisession' or 'multicore'. In the current R session, 'multiprocess' equals 'multicore'.”\n"
     ]
    },
    {
     "name": "stderr",
     "output_type": "stream",
     "text": [
      "Loading required package: grid\n",
      "\n"
     ]
    },
    {
     "name": "stderr",
     "output_type": "stream",
     "text": [
      "========================================\n",
      "ComplexHeatmap version 2.10.0\n",
      "Bioconductor page: http://bioconductor.org/packages/ComplexHeatmap/\n",
      "Github page: https://github.com/jokergoo/ComplexHeatmap\n",
      "Documentation: http://jokergoo.github.io/ComplexHeatmap-reference\n",
      "\n",
      "If you use it in published research, please cite:\n",
      "Gu, Z. Complex heatmaps reveal patterns and correlations in multidimensional \n",
      "  genomic data. Bioinformatics 2016.\n",
      "\n",
      "The new InteractiveComplexHeatmap package can directly export static \n",
      "complex heatmaps into an interactive Shiny app with zero effort. Have a try!\n",
      "\n",
      "This message can be suppressed by:\n",
      "  suppressPackageStartupMessages(library(ComplexHeatmap))\n",
      "========================================\n",
      "\n",
      "\n"
     ]
    }
   ],
   "source": [
    "library(Seurat)\n",
    "library(Signac)\n",
    "library(ggplot2)\n",
    "library(patchwork)\n",
    "set.seed(1234)\n",
    "library(magrittr)\n",
    "library(cowplot)\n",
    "library(metap)\n",
    "library(dplyr)\n",
    "library(future)\n",
    "plan(\"multiprocess\", workers = cores)\n",
    "#options(future.globals.maxSize = 50000 * 1024^2) # for 50 Gb RAM\n",
    "options(future.globals.maxSize = 8000 * 1024^2)\n",
    "library(\"ComplexHeatmap\")"
   ]
  },
  {
   "cell_type": "markdown",
   "id": "e8a7d7b5",
   "metadata": {
    "papermill": {
     "duration": 0.069035,
     "end_time": "2021-12-03T02:42:31.545583",
     "exception": false,
     "start_time": "2021-12-03T02:42:31.476548",
     "status": "completed"
    },
    "tags": []
   },
   "source": [
    "## Import seurat object"
   ]
  },
  {
   "cell_type": "code",
   "execution_count": 6,
   "id": "2ef3a56c",
   "metadata": {
    "execution": {
     "iopub.execute_input": "2021-12-03T02:42:31.664113Z",
     "iopub.status.busy": "2021-12-03T02:42:31.660526Z",
     "iopub.status.idle": "2021-12-03T02:55:26.315626Z",
     "shell.execute_reply": "2021-12-03T02:55:26.314232Z"
    },
    "papermill": {
     "duration": 774.71418,
     "end_time": "2021-12-03T02:55:26.316068",
     "exception": false,
     "start_time": "2021-12-03T02:42:31.601888",
     "status": "completed"
    },
    "scrolled": true,
    "tags": []
   },
   "outputs": [
    {
     "name": "stdout",
     "output_type": "stream",
     "text": [
      "[1] \"Running chromvar\"\n"
     ]
    },
    {
     "name": "stderr",
     "output_type": "stream",
     "text": [
      "\n",
      "\n"
     ]
    },
    {
     "name": "stderr",
     "output_type": "stream",
     "text": [
      "Loading required package: BSgenome\n",
      "\n"
     ]
    },
    {
     "name": "stderr",
     "output_type": "stream",
     "text": [
      "Loading required package: BiocGenerics\n",
      "\n"
     ]
    },
    {
     "name": "stderr",
     "output_type": "stream",
     "text": [
      "\n",
      "Attaching package: ‘BiocGenerics’\n",
      "\n",
      "\n"
     ]
    },
    {
     "name": "stderr",
     "output_type": "stream",
     "text": [
      "The following objects are masked from ‘package:dplyr’:\n",
      "\n",
      "    combine, intersect, setdiff, union\n",
      "\n",
      "\n"
     ]
    },
    {
     "name": "stderr",
     "output_type": "stream",
     "text": [
      "The following objects are masked from ‘package:stats’:\n",
      "\n",
      "    IQR, mad, sd, var, xtabs\n",
      "\n",
      "\n"
     ]
    },
    {
     "name": "stderr",
     "output_type": "stream",
     "text": [
      "The following objects are masked from ‘package:base’:\n",
      "\n",
      "    anyDuplicated, append, as.data.frame, basename, cbind, colnames,\n",
      "    dirname, do.call, duplicated, eval, evalq, Filter, Find, get, grep,\n",
      "    grepl, intersect, is.unsorted, lapply, Map, mapply, match, mget,\n",
      "    order, paste, pmax, pmax.int, pmin, pmin.int, Position, rank,\n",
      "    rbind, Reduce, rownames, sapply, setdiff, sort, table, tapply,\n",
      "    union, unique, unsplit, which.max, which.min\n",
      "\n",
      "\n"
     ]
    },
    {
     "name": "stderr",
     "output_type": "stream",
     "text": [
      "Loading required package: S4Vectors\n",
      "\n"
     ]
    },
    {
     "name": "stderr",
     "output_type": "stream",
     "text": [
      "Loading required package: stats4\n",
      "\n"
     ]
    },
    {
     "name": "stderr",
     "output_type": "stream",
     "text": [
      "\n",
      "Attaching package: ‘S4Vectors’\n",
      "\n",
      "\n"
     ]
    },
    {
     "name": "stderr",
     "output_type": "stream",
     "text": [
      "The following object is masked from ‘package:future’:\n",
      "\n",
      "    values\n",
      "\n",
      "\n"
     ]
    },
    {
     "name": "stderr",
     "output_type": "stream",
     "text": [
      "The following objects are masked from ‘package:dplyr’:\n",
      "\n",
      "    first, rename\n",
      "\n",
      "\n"
     ]
    },
    {
     "name": "stderr",
     "output_type": "stream",
     "text": [
      "The following objects are masked from ‘package:base’:\n",
      "\n",
      "    expand.grid, I, unname\n",
      "\n",
      "\n"
     ]
    },
    {
     "name": "stderr",
     "output_type": "stream",
     "text": [
      "Loading required package: IRanges\n",
      "\n"
     ]
    },
    {
     "name": "stderr",
     "output_type": "stream",
     "text": [
      "\n",
      "Attaching package: ‘IRanges’\n",
      "\n",
      "\n"
     ]
    },
    {
     "name": "stderr",
     "output_type": "stream",
     "text": [
      "The following objects are masked from ‘package:dplyr’:\n",
      "\n",
      "    collapse, desc, slice\n",
      "\n",
      "\n"
     ]
    },
    {
     "name": "stderr",
     "output_type": "stream",
     "text": [
      "Loading required package: GenomeInfoDb\n",
      "\n"
     ]
    },
    {
     "name": "stderr",
     "output_type": "stream",
     "text": [
      "Loading required package: GenomicRanges\n",
      "\n"
     ]
    },
    {
     "name": "stderr",
     "output_type": "stream",
     "text": [
      "Loading required package: Biostrings\n",
      "\n"
     ]
    },
    {
     "name": "stderr",
     "output_type": "stream",
     "text": [
      "Loading required package: XVector\n",
      "\n"
     ]
    },
    {
     "name": "stderr",
     "output_type": "stream",
     "text": [
      "\n",
      "Attaching package: ‘Biostrings’\n",
      "\n",
      "\n"
     ]
    },
    {
     "name": "stderr",
     "output_type": "stream",
     "text": [
      "The following object is masked from ‘package:grid’:\n",
      "\n",
      "    pattern\n",
      "\n",
      "\n"
     ]
    },
    {
     "name": "stderr",
     "output_type": "stream",
     "text": [
      "The following object is masked from ‘package:base’:\n",
      "\n",
      "    strsplit\n",
      "\n",
      "\n"
     ]
    },
    {
     "name": "stderr",
     "output_type": "stream",
     "text": [
      "Loading required package: rtracklayer\n",
      "\n"
     ]
    },
    {
     "name": "stderr",
     "output_type": "stream",
     "text": [
      "Building motif matrix\n",
      "\n"
     ]
    },
    {
     "name": "stderr",
     "output_type": "stream",
     "text": [
      "Finding motif positions\n",
      "\n"
     ]
    },
    {
     "name": "stderr",
     "output_type": "stream",
     "text": [
      "Creating Motif object\n",
      "\n"
     ]
    },
    {
     "name": "stderr",
     "output_type": "stream",
     "text": [
      "Computing GC bias per region\n",
      "\n"
     ]
    },
    {
     "name": "stderr",
     "output_type": "stream",
     "text": [
      "Selecting background regions\n",
      "\n"
     ]
    },
    {
     "name": "stderr",
     "output_type": "stream",
     "text": [
      "Computing deviations from background\n",
      "\n"
     ]
    },
    {
     "name": "stderr",
     "output_type": "stream",
     "text": [
      "Constructing chromVAR assay\n",
      "\n"
     ]
    }
   ],
   "source": [
    "# if (file.exists(file.path(outdir, \"se.chromvar.rds\"))){\n",
    "#     print(\"Loading se with chromvar\")\n",
    "#     se <- readRDS(file=file.path(outdir, \"se.chromvar.rds\"))    \n",
    "# }else{\n",
    "#     print(\"Running chromvar\")\n",
    "#     se = readRDS(se_f)\n",
    "# #     source(\"~/data/Projects/Mito_Trace/R_scripts/addPWM.R\")\n",
    "#     se <- get.pwm(se, genome=genome)\n",
    "#     saveRDS(object=se, file=file.path(outdir, \"se.chromvar.rds\"))    \n",
    "# }\n",
    "\n",
    "print(\"Running chromvar\")\n",
    "se = readRDS(se_f)\n",
    "se <- get.pwm(se, genome=genome)\n",
    "saveRDS(object=se, file=file.path(outdir, \"se.chromvar.rds\"))\n",
    "\n",
    "\n",
    "# cells.meta = se[[]]\n",
    "# cells.meta$name = paste0(cells.meta$donor,\"_\", cells.meta$lineage)\n",
    "# cells.meta$name = factor(cells.meta$name)\n",
    "# cells.meta\n",
    "\n",
    "\n",
    "# se <- AddMetaData(\n",
    "#   object = se,\n",
    "#   metadata = cells.meta[\"name\"],\n",
    "#   col.name = \"name\"\n",
    "# )\n",
    "# se[[]]"
   ]
  },
  {
   "cell_type": "code",
   "execution_count": 7,
   "id": "3f8f8c43",
   "metadata": {
    "execution": {
     "iopub.execute_input": "2021-12-03T02:55:26.524003Z",
     "iopub.status.busy": "2021-12-03T02:55:26.520883Z",
     "iopub.status.idle": "2021-12-03T02:55:26.690773Z",
     "shell.execute_reply": "2021-12-03T02:55:26.691650Z"
    },
    "papermill": {
     "duration": 0.266132,
     "end_time": "2021-12-03T02:55:26.691970",
     "exception": false,
     "start_time": "2021-12-03T02:55:26.425838",
     "status": "completed"
    },
    "scrolled": true,
    "tags": []
   },
   "outputs": [
    {
     "name": "stderr",
     "output_type": "stream",
     "text": [
      "`summarise()` has grouped output by 'condition', 'donor', 'lineage'. You can override using the `.groups` argument.\n",
      "\n"
     ]
    },
    {
     "data": {
      "text/html": [
       "<table class=\"dataframe\">\n",
       "<caption>A grouped_df: 507 × 5</caption>\n",
       "<thead>\n",
       "\t<tr><th scope=col>condition</th><th scope=col>donor</th><th scope=col>lineage</th><th scope=col>name</th><th scope=col>size</th></tr>\n",
       "\t<tr><th scope=col>&lt;fct&gt;</th><th scope=col>&lt;fct&gt;</th><th scope=col>&lt;fct&gt;</th><th scope=col>&lt;fct&gt;</th><th scope=col>&lt;int&gt;</th></tr>\n",
       "</thead>\n",
       "<tbody>\n",
       "\t<tr><td>Control</td><td>0</td><td>0 </td><td>0_0 </td><td>189</td></tr>\n",
       "\t<tr><td>Control</td><td>0</td><td>1 </td><td>0_1 </td><td>110</td></tr>\n",
       "\t<tr><td>Control</td><td>0</td><td>2 </td><td>0_2 </td><td> 44</td></tr>\n",
       "\t<tr><td>Control</td><td>0</td><td>3 </td><td>0_3 </td><td> 91</td></tr>\n",
       "\t<tr><td>Control</td><td>0</td><td>4 </td><td>0_4 </td><td> 32</td></tr>\n",
       "\t<tr><td>Control</td><td>0</td><td>5 </td><td>0_5 </td><td> 23</td></tr>\n",
       "\t<tr><td>Control</td><td>0</td><td>6 </td><td>0_6 </td><td> 14</td></tr>\n",
       "\t<tr><td>Control</td><td>0</td><td>7 </td><td>0_7 </td><td> 17</td></tr>\n",
       "\t<tr><td>Control</td><td>0</td><td>8 </td><td>0_8 </td><td> 12</td></tr>\n",
       "\t<tr><td>Control</td><td>0</td><td>9 </td><td>0_9 </td><td> 16</td></tr>\n",
       "\t<tr><td>Control</td><td>0</td><td>10</td><td>0_10</td><td> 14</td></tr>\n",
       "\t<tr><td>Control</td><td>0</td><td>11</td><td>0_11</td><td> 18</td></tr>\n",
       "\t<tr><td>Control</td><td>0</td><td>12</td><td>0_12</td><td> 11</td></tr>\n",
       "\t<tr><td>Control</td><td>0</td><td>13</td><td>0_13</td><td> 15</td></tr>\n",
       "\t<tr><td>Control</td><td>0</td><td>14</td><td>0_14</td><td>  8</td></tr>\n",
       "\t<tr><td>Control</td><td>0</td><td>15</td><td>0_15</td><td> 11</td></tr>\n",
       "\t<tr><td>Control</td><td>0</td><td>16</td><td>0_16</td><td> 18</td></tr>\n",
       "\t<tr><td>Control</td><td>0</td><td>17</td><td>0_17</td><td>  7</td></tr>\n",
       "\t<tr><td>Control</td><td>0</td><td>18</td><td>0_18</td><td>  6</td></tr>\n",
       "\t<tr><td>Control</td><td>0</td><td>19</td><td>0_19</td><td>  6</td></tr>\n",
       "\t<tr><td>Control</td><td>0</td><td>20</td><td>0_20</td><td>  4</td></tr>\n",
       "\t<tr><td>Control</td><td>0</td><td>21</td><td>0_21</td><td>  3</td></tr>\n",
       "\t<tr><td>Control</td><td>0</td><td>22</td><td>0_22</td><td>  6</td></tr>\n",
       "\t<tr><td>Control</td><td>0</td><td>23</td><td>0_23</td><td>  4</td></tr>\n",
       "\t<tr><td>Control</td><td>0</td><td>24</td><td>0_24</td><td>  6</td></tr>\n",
       "\t<tr><td>Control</td><td>0</td><td>25</td><td>0_25</td><td>  3</td></tr>\n",
       "\t<tr><td>Control</td><td>0</td><td>26</td><td>0_26</td><td>  7</td></tr>\n",
       "\t<tr><td>Control</td><td>0</td><td>27</td><td>0_27</td><td>  4</td></tr>\n",
       "\t<tr><td>Control</td><td>0</td><td>28</td><td>0_28</td><td>  5</td></tr>\n",
       "\t<tr><td>Control</td><td>0</td><td>29</td><td>0_29</td><td>  2</td></tr>\n",
       "\t<tr><td>⋮</td><td>⋮</td><td>⋮</td><td>⋮</td><td>⋮</td></tr>\n",
       "\t<tr><td>Flt3l</td><td>3</td><td>48</td><td>3_48</td><td> 1</td></tr>\n",
       "\t<tr><td>Flt3l</td><td>3</td><td>49</td><td>3_49</td><td> 1</td></tr>\n",
       "\t<tr><td>Flt3l</td><td>3</td><td>50</td><td>3_50</td><td> 1</td></tr>\n",
       "\t<tr><td>Flt3l</td><td>3</td><td>51</td><td>3_51</td><td>22</td></tr>\n",
       "\t<tr><td>Flt3l</td><td>3</td><td>52</td><td>3_52</td><td> 1</td></tr>\n",
       "\t<tr><td>Flt3l</td><td>3</td><td>53</td><td>3_53</td><td> 1</td></tr>\n",
       "\t<tr><td>Flt3l</td><td>3</td><td>54</td><td>3_54</td><td> 2</td></tr>\n",
       "\t<tr><td>Flt3l</td><td>3</td><td>55</td><td>3_55</td><td> 8</td></tr>\n",
       "\t<tr><td>Flt3l</td><td>3</td><td>56</td><td>3_56</td><td> 5</td></tr>\n",
       "\t<tr><td>Flt3l</td><td>3</td><td>57</td><td>3_57</td><td>11</td></tr>\n",
       "\t<tr><td>Flt3l</td><td>3</td><td>58</td><td>3_58</td><td> 1</td></tr>\n",
       "\t<tr><td>Flt3l</td><td>3</td><td>59</td><td>3_59</td><td> 6</td></tr>\n",
       "\t<tr><td>Flt3l</td><td>3</td><td>61</td><td>3_61</td><td> 2</td></tr>\n",
       "\t<tr><td>Flt3l</td><td>3</td><td>63</td><td>3_63</td><td> 1</td></tr>\n",
       "\t<tr><td>Flt3l</td><td>3</td><td>64</td><td>3_64</td><td> 3</td></tr>\n",
       "\t<tr><td>Flt3l</td><td>3</td><td>65</td><td>3_65</td><td> 1</td></tr>\n",
       "\t<tr><td>Flt3l</td><td>3</td><td>66</td><td>3_66</td><td> 7</td></tr>\n",
       "\t<tr><td>Flt3l</td><td>3</td><td>67</td><td>3_67</td><td> 2</td></tr>\n",
       "\t<tr><td>Flt3l</td><td>3</td><td>68</td><td>3_68</td><td> 5</td></tr>\n",
       "\t<tr><td>Flt3l</td><td>3</td><td>69</td><td>3_69</td><td> 3</td></tr>\n",
       "\t<tr><td>Flt3l</td><td>3</td><td>70</td><td>3_70</td><td>14</td></tr>\n",
       "\t<tr><td>Flt3l</td><td>3</td><td>71</td><td>3_71</td><td> 2</td></tr>\n",
       "\t<tr><td>Flt3l</td><td>3</td><td>72</td><td>3_72</td><td> 6</td></tr>\n",
       "\t<tr><td>Flt3l</td><td>3</td><td>73</td><td>3_73</td><td> 4</td></tr>\n",
       "\t<tr><td>Flt3l</td><td>3</td><td>75</td><td>3_75</td><td>17</td></tr>\n",
       "\t<tr><td>Flt3l</td><td>3</td><td>76</td><td>3_76</td><td>10</td></tr>\n",
       "\t<tr><td>Flt3l</td><td>3</td><td>77</td><td>3_77</td><td> 7</td></tr>\n",
       "\t<tr><td>Flt3l</td><td>3</td><td>78</td><td>3_78</td><td> 3</td></tr>\n",
       "\t<tr><td>Flt3l</td><td>3</td><td>79</td><td>3_79</td><td> 4</td></tr>\n",
       "\t<tr><td>Flt3l</td><td>3</td><td>80</td><td>3_80</td><td> 9</td></tr>\n",
       "</tbody>\n",
       "</table>\n"
      ],
      "text/latex": [
       "A grouped\\_df: 507 × 5\n",
       "\\begin{tabular}{lllll}\n",
       " condition & donor & lineage & name & size\\\\\n",
       " <fct> & <fct> & <fct> & <fct> & <int>\\\\\n",
       "\\hline\n",
       "\t Control & 0 & 0  & 0\\_0  & 189\\\\\n",
       "\t Control & 0 & 1  & 0\\_1  & 110\\\\\n",
       "\t Control & 0 & 2  & 0\\_2  &  44\\\\\n",
       "\t Control & 0 & 3  & 0\\_3  &  91\\\\\n",
       "\t Control & 0 & 4  & 0\\_4  &  32\\\\\n",
       "\t Control & 0 & 5  & 0\\_5  &  23\\\\\n",
       "\t Control & 0 & 6  & 0\\_6  &  14\\\\\n",
       "\t Control & 0 & 7  & 0\\_7  &  17\\\\\n",
       "\t Control & 0 & 8  & 0\\_8  &  12\\\\\n",
       "\t Control & 0 & 9  & 0\\_9  &  16\\\\\n",
       "\t Control & 0 & 10 & 0\\_10 &  14\\\\\n",
       "\t Control & 0 & 11 & 0\\_11 &  18\\\\\n",
       "\t Control & 0 & 12 & 0\\_12 &  11\\\\\n",
       "\t Control & 0 & 13 & 0\\_13 &  15\\\\\n",
       "\t Control & 0 & 14 & 0\\_14 &   8\\\\\n",
       "\t Control & 0 & 15 & 0\\_15 &  11\\\\\n",
       "\t Control & 0 & 16 & 0\\_16 &  18\\\\\n",
       "\t Control & 0 & 17 & 0\\_17 &   7\\\\\n",
       "\t Control & 0 & 18 & 0\\_18 &   6\\\\\n",
       "\t Control & 0 & 19 & 0\\_19 &   6\\\\\n",
       "\t Control & 0 & 20 & 0\\_20 &   4\\\\\n",
       "\t Control & 0 & 21 & 0\\_21 &   3\\\\\n",
       "\t Control & 0 & 22 & 0\\_22 &   6\\\\\n",
       "\t Control & 0 & 23 & 0\\_23 &   4\\\\\n",
       "\t Control & 0 & 24 & 0\\_24 &   6\\\\\n",
       "\t Control & 0 & 25 & 0\\_25 &   3\\\\\n",
       "\t Control & 0 & 26 & 0\\_26 &   7\\\\\n",
       "\t Control & 0 & 27 & 0\\_27 &   4\\\\\n",
       "\t Control & 0 & 28 & 0\\_28 &   5\\\\\n",
       "\t Control & 0 & 29 & 0\\_29 &   2\\\\\n",
       "\t ⋮ & ⋮ & ⋮ & ⋮ & ⋮\\\\\n",
       "\t Flt3l & 3 & 48 & 3\\_48 &  1\\\\\n",
       "\t Flt3l & 3 & 49 & 3\\_49 &  1\\\\\n",
       "\t Flt3l & 3 & 50 & 3\\_50 &  1\\\\\n",
       "\t Flt3l & 3 & 51 & 3\\_51 & 22\\\\\n",
       "\t Flt3l & 3 & 52 & 3\\_52 &  1\\\\\n",
       "\t Flt3l & 3 & 53 & 3\\_53 &  1\\\\\n",
       "\t Flt3l & 3 & 54 & 3\\_54 &  2\\\\\n",
       "\t Flt3l & 3 & 55 & 3\\_55 &  8\\\\\n",
       "\t Flt3l & 3 & 56 & 3\\_56 &  5\\\\\n",
       "\t Flt3l & 3 & 57 & 3\\_57 & 11\\\\\n",
       "\t Flt3l & 3 & 58 & 3\\_58 &  1\\\\\n",
       "\t Flt3l & 3 & 59 & 3\\_59 &  6\\\\\n",
       "\t Flt3l & 3 & 61 & 3\\_61 &  2\\\\\n",
       "\t Flt3l & 3 & 63 & 3\\_63 &  1\\\\\n",
       "\t Flt3l & 3 & 64 & 3\\_64 &  3\\\\\n",
       "\t Flt3l & 3 & 65 & 3\\_65 &  1\\\\\n",
       "\t Flt3l & 3 & 66 & 3\\_66 &  7\\\\\n",
       "\t Flt3l & 3 & 67 & 3\\_67 &  2\\\\\n",
       "\t Flt3l & 3 & 68 & 3\\_68 &  5\\\\\n",
       "\t Flt3l & 3 & 69 & 3\\_69 &  3\\\\\n",
       "\t Flt3l & 3 & 70 & 3\\_70 & 14\\\\\n",
       "\t Flt3l & 3 & 71 & 3\\_71 &  2\\\\\n",
       "\t Flt3l & 3 & 72 & 3\\_72 &  6\\\\\n",
       "\t Flt3l & 3 & 73 & 3\\_73 &  4\\\\\n",
       "\t Flt3l & 3 & 75 & 3\\_75 & 17\\\\\n",
       "\t Flt3l & 3 & 76 & 3\\_76 & 10\\\\\n",
       "\t Flt3l & 3 & 77 & 3\\_77 &  7\\\\\n",
       "\t Flt3l & 3 & 78 & 3\\_78 &  3\\\\\n",
       "\t Flt3l & 3 & 79 & 3\\_79 &  4\\\\\n",
       "\t Flt3l & 3 & 80 & 3\\_80 &  9\\\\\n",
       "\\end{tabular}\n"
      ],
      "text/markdown": [
       "\n",
       "A grouped_df: 507 × 5\n",
       "\n",
       "| condition &lt;fct&gt; | donor &lt;fct&gt; | lineage &lt;fct&gt; | name &lt;fct&gt; | size &lt;int&gt; |\n",
       "|---|---|---|---|---|\n",
       "| Control | 0 | 0  | 0_0  | 189 |\n",
       "| Control | 0 | 1  | 0_1  | 110 |\n",
       "| Control | 0 | 2  | 0_2  |  44 |\n",
       "| Control | 0 | 3  | 0_3  |  91 |\n",
       "| Control | 0 | 4  | 0_4  |  32 |\n",
       "| Control | 0 | 5  | 0_5  |  23 |\n",
       "| Control | 0 | 6  | 0_6  |  14 |\n",
       "| Control | 0 | 7  | 0_7  |  17 |\n",
       "| Control | 0 | 8  | 0_8  |  12 |\n",
       "| Control | 0 | 9  | 0_9  |  16 |\n",
       "| Control | 0 | 10 | 0_10 |  14 |\n",
       "| Control | 0 | 11 | 0_11 |  18 |\n",
       "| Control | 0 | 12 | 0_12 |  11 |\n",
       "| Control | 0 | 13 | 0_13 |  15 |\n",
       "| Control | 0 | 14 | 0_14 |   8 |\n",
       "| Control | 0 | 15 | 0_15 |  11 |\n",
       "| Control | 0 | 16 | 0_16 |  18 |\n",
       "| Control | 0 | 17 | 0_17 |   7 |\n",
       "| Control | 0 | 18 | 0_18 |   6 |\n",
       "| Control | 0 | 19 | 0_19 |   6 |\n",
       "| Control | 0 | 20 | 0_20 |   4 |\n",
       "| Control | 0 | 21 | 0_21 |   3 |\n",
       "| Control | 0 | 22 | 0_22 |   6 |\n",
       "| Control | 0 | 23 | 0_23 |   4 |\n",
       "| Control | 0 | 24 | 0_24 |   6 |\n",
       "| Control | 0 | 25 | 0_25 |   3 |\n",
       "| Control | 0 | 26 | 0_26 |   7 |\n",
       "| Control | 0 | 27 | 0_27 |   4 |\n",
       "| Control | 0 | 28 | 0_28 |   5 |\n",
       "| Control | 0 | 29 | 0_29 |   2 |\n",
       "| ⋮ | ⋮ | ⋮ | ⋮ | ⋮ |\n",
       "| Flt3l | 3 | 48 | 3_48 |  1 |\n",
       "| Flt3l | 3 | 49 | 3_49 |  1 |\n",
       "| Flt3l | 3 | 50 | 3_50 |  1 |\n",
       "| Flt3l | 3 | 51 | 3_51 | 22 |\n",
       "| Flt3l | 3 | 52 | 3_52 |  1 |\n",
       "| Flt3l | 3 | 53 | 3_53 |  1 |\n",
       "| Flt3l | 3 | 54 | 3_54 |  2 |\n",
       "| Flt3l | 3 | 55 | 3_55 |  8 |\n",
       "| Flt3l | 3 | 56 | 3_56 |  5 |\n",
       "| Flt3l | 3 | 57 | 3_57 | 11 |\n",
       "| Flt3l | 3 | 58 | 3_58 |  1 |\n",
       "| Flt3l | 3 | 59 | 3_59 |  6 |\n",
       "| Flt3l | 3 | 61 | 3_61 |  2 |\n",
       "| Flt3l | 3 | 63 | 3_63 |  1 |\n",
       "| Flt3l | 3 | 64 | 3_64 |  3 |\n",
       "| Flt3l | 3 | 65 | 3_65 |  1 |\n",
       "| Flt3l | 3 | 66 | 3_66 |  7 |\n",
       "| Flt3l | 3 | 67 | 3_67 |  2 |\n",
       "| Flt3l | 3 | 68 | 3_68 |  5 |\n",
       "| Flt3l | 3 | 69 | 3_69 |  3 |\n",
       "| Flt3l | 3 | 70 | 3_70 | 14 |\n",
       "| Flt3l | 3 | 71 | 3_71 |  2 |\n",
       "| Flt3l | 3 | 72 | 3_72 |  6 |\n",
       "| Flt3l | 3 | 73 | 3_73 |  4 |\n",
       "| Flt3l | 3 | 75 | 3_75 | 17 |\n",
       "| Flt3l | 3 | 76 | 3_76 | 10 |\n",
       "| Flt3l | 3 | 77 | 3_77 |  7 |\n",
       "| Flt3l | 3 | 78 | 3_78 |  3 |\n",
       "| Flt3l | 3 | 79 | 3_79 |  4 |\n",
       "| Flt3l | 3 | 80 | 3_80 |  9 |\n",
       "\n"
      ],
      "text/plain": [
       "    condition donor lineage name size\n",
       "1   Control   0     0       0_0  189 \n",
       "2   Control   0     1       0_1  110 \n",
       "3   Control   0     2       0_2   44 \n",
       "4   Control   0     3       0_3   91 \n",
       "5   Control   0     4       0_4   32 \n",
       "6   Control   0     5       0_5   23 \n",
       "7   Control   0     6       0_6   14 \n",
       "8   Control   0     7       0_7   17 \n",
       "9   Control   0     8       0_8   12 \n",
       "10  Control   0     9       0_9   16 \n",
       "11  Control   0     10      0_10  14 \n",
       "12  Control   0     11      0_11  18 \n",
       "13  Control   0     12      0_12  11 \n",
       "14  Control   0     13      0_13  15 \n",
       "15  Control   0     14      0_14   8 \n",
       "16  Control   0     15      0_15  11 \n",
       "17  Control   0     16      0_16  18 \n",
       "18  Control   0     17      0_17   7 \n",
       "19  Control   0     18      0_18   6 \n",
       "20  Control   0     19      0_19   6 \n",
       "21  Control   0     20      0_20   4 \n",
       "22  Control   0     21      0_21   3 \n",
       "23  Control   0     22      0_22   6 \n",
       "24  Control   0     23      0_23   4 \n",
       "25  Control   0     24      0_24   6 \n",
       "26  Control   0     25      0_25   3 \n",
       "27  Control   0     26      0_26   7 \n",
       "28  Control   0     27      0_27   4 \n",
       "29  Control   0     28      0_28   5 \n",
       "30  Control   0     29      0_29   2 \n",
       "⋮   ⋮         ⋮     ⋮       ⋮    ⋮   \n",
       "478 Flt3l     3     48      3_48  1  \n",
       "479 Flt3l     3     49      3_49  1  \n",
       "480 Flt3l     3     50      3_50  1  \n",
       "481 Flt3l     3     51      3_51 22  \n",
       "482 Flt3l     3     52      3_52  1  \n",
       "483 Flt3l     3     53      3_53  1  \n",
       "484 Flt3l     3     54      3_54  2  \n",
       "485 Flt3l     3     55      3_55  8  \n",
       "486 Flt3l     3     56      3_56  5  \n",
       "487 Flt3l     3     57      3_57 11  \n",
       "488 Flt3l     3     58      3_58  1  \n",
       "489 Flt3l     3     59      3_59  6  \n",
       "490 Flt3l     3     61      3_61  2  \n",
       "491 Flt3l     3     63      3_63  1  \n",
       "492 Flt3l     3     64      3_64  3  \n",
       "493 Flt3l     3     65      3_65  1  \n",
       "494 Flt3l     3     66      3_66  7  \n",
       "495 Flt3l     3     67      3_67  2  \n",
       "496 Flt3l     3     68      3_68  5  \n",
       "497 Flt3l     3     69      3_69  3  \n",
       "498 Flt3l     3     70      3_70 14  \n",
       "499 Flt3l     3     71      3_71  2  \n",
       "500 Flt3l     3     72      3_72  6  \n",
       "501 Flt3l     3     73      3_73  4  \n",
       "502 Flt3l     3     75      3_75 17  \n",
       "503 Flt3l     3     76      3_76 10  \n",
       "504 Flt3l     3     77      3_77  7  \n",
       "505 Flt3l     3     78      3_78  3  \n",
       "506 Flt3l     3     79      3_79  4  \n",
       "507 Flt3l     3     80      3_80  9  "
      ]
     },
     "metadata": {},
     "output_type": "display_data"
    }
   ],
   "source": [
    "counts <- se[[]] %>%\n",
    "          group_by(condition, donor, lineage, name) %>%\n",
    "          summarize(size=n()) %>% filter(!name==\"None\")\n",
    "counts"
   ]
  },
  {
   "cell_type": "code",
   "execution_count": 8,
   "id": "c042aa55",
   "metadata": {
    "execution": {
     "iopub.execute_input": "2021-12-03T02:55:26.860900Z",
     "iopub.status.busy": "2021-12-03T02:55:26.857938Z",
     "iopub.status.idle": "2021-12-03T02:55:26.968905Z",
     "shell.execute_reply": "2021-12-03T02:55:26.969843Z"
    },
    "papermill": {
     "duration": 0.19875,
     "end_time": "2021-12-03T02:55:26.970144",
     "exception": false,
     "start_time": "2021-12-03T02:55:26.771394",
     "status": "completed"
    },
    "scrolled": true,
    "tags": []
   },
   "outputs": [
    {
     "data": {
      "text/html": [
       "<table class=\"dataframe\">\n",
       "<caption>A tibble: 507 × 7</caption>\n",
       "<thead>\n",
       "\t<tr><th scope=col>condition</th><th scope=col>donor</th><th scope=col>lineage</th><th scope=col>name</th><th scope=col>size</th><th scope=col>total</th><th scope=col>norm</th></tr>\n",
       "\t<tr><th scope=col>&lt;fct&gt;</th><th scope=col>&lt;fct&gt;</th><th scope=col>&lt;fct&gt;</th><th scope=col>&lt;fct&gt;</th><th scope=col>&lt;int&gt;</th><th scope=col>&lt;int&gt;</th><th scope=col>&lt;dbl&gt;</th></tr>\n",
       "</thead>\n",
       "<tbody>\n",
       "\t<tr><td>Control</td><td>0</td><td>0 </td><td>0_0 </td><td>189</td><td>1156</td><td>0.163494810</td></tr>\n",
       "\t<tr><td>Control</td><td>0</td><td>1 </td><td>0_1 </td><td>110</td><td>1156</td><td>0.095155709</td></tr>\n",
       "\t<tr><td>Control</td><td>0</td><td>2 </td><td>0_2 </td><td> 44</td><td>1156</td><td>0.038062284</td></tr>\n",
       "\t<tr><td>Control</td><td>0</td><td>3 </td><td>0_3 </td><td> 91</td><td>1156</td><td>0.078719723</td></tr>\n",
       "\t<tr><td>Control</td><td>0</td><td>4 </td><td>0_4 </td><td> 32</td><td>1156</td><td>0.027681661</td></tr>\n",
       "\t<tr><td>Control</td><td>0</td><td>5 </td><td>0_5 </td><td> 23</td><td>1156</td><td>0.019896194</td></tr>\n",
       "\t<tr><td>Control</td><td>0</td><td>6 </td><td>0_6 </td><td> 14</td><td>1156</td><td>0.012110727</td></tr>\n",
       "\t<tr><td>Control</td><td>0</td><td>7 </td><td>0_7 </td><td> 17</td><td>1156</td><td>0.014705882</td></tr>\n",
       "\t<tr><td>Control</td><td>0</td><td>8 </td><td>0_8 </td><td> 12</td><td>1156</td><td>0.010380623</td></tr>\n",
       "\t<tr><td>Control</td><td>0</td><td>9 </td><td>0_9 </td><td> 16</td><td>1156</td><td>0.013840830</td></tr>\n",
       "\t<tr><td>Control</td><td>0</td><td>10</td><td>0_10</td><td> 14</td><td>1156</td><td>0.012110727</td></tr>\n",
       "\t<tr><td>Control</td><td>0</td><td>11</td><td>0_11</td><td> 18</td><td>1156</td><td>0.015570934</td></tr>\n",
       "\t<tr><td>Control</td><td>0</td><td>12</td><td>0_12</td><td> 11</td><td>1156</td><td>0.009515571</td></tr>\n",
       "\t<tr><td>Control</td><td>0</td><td>13</td><td>0_13</td><td> 15</td><td>1156</td><td>0.012975779</td></tr>\n",
       "\t<tr><td>Control</td><td>0</td><td>14</td><td>0_14</td><td>  8</td><td>1156</td><td>0.006920415</td></tr>\n",
       "\t<tr><td>Control</td><td>0</td><td>15</td><td>0_15</td><td> 11</td><td>1156</td><td>0.009515571</td></tr>\n",
       "\t<tr><td>Control</td><td>0</td><td>16</td><td>0_16</td><td> 18</td><td>1156</td><td>0.015570934</td></tr>\n",
       "\t<tr><td>Control</td><td>0</td><td>17</td><td>0_17</td><td>  7</td><td>1156</td><td>0.006055363</td></tr>\n",
       "\t<tr><td>Control</td><td>0</td><td>18</td><td>0_18</td><td>  6</td><td>1156</td><td>0.005190311</td></tr>\n",
       "\t<tr><td>Control</td><td>0</td><td>19</td><td>0_19</td><td>  6</td><td>1156</td><td>0.005190311</td></tr>\n",
       "\t<tr><td>Control</td><td>0</td><td>20</td><td>0_20</td><td>  4</td><td>1156</td><td>0.003460208</td></tr>\n",
       "\t<tr><td>Control</td><td>0</td><td>21</td><td>0_21</td><td>  3</td><td>1156</td><td>0.002595156</td></tr>\n",
       "\t<tr><td>Control</td><td>0</td><td>22</td><td>0_22</td><td>  6</td><td>1156</td><td>0.005190311</td></tr>\n",
       "\t<tr><td>Control</td><td>0</td><td>23</td><td>0_23</td><td>  4</td><td>1156</td><td>0.003460208</td></tr>\n",
       "\t<tr><td>Control</td><td>0</td><td>24</td><td>0_24</td><td>  6</td><td>1156</td><td>0.005190311</td></tr>\n",
       "\t<tr><td>Control</td><td>0</td><td>25</td><td>0_25</td><td>  3</td><td>1156</td><td>0.002595156</td></tr>\n",
       "\t<tr><td>Control</td><td>0</td><td>26</td><td>0_26</td><td>  7</td><td>1156</td><td>0.006055363</td></tr>\n",
       "\t<tr><td>Control</td><td>0</td><td>27</td><td>0_27</td><td>  4</td><td>1156</td><td>0.003460208</td></tr>\n",
       "\t<tr><td>Control</td><td>0</td><td>28</td><td>0_28</td><td>  5</td><td>1156</td><td>0.004325260</td></tr>\n",
       "\t<tr><td>Control</td><td>0</td><td>29</td><td>0_29</td><td>  2</td><td>1156</td><td>0.001730104</td></tr>\n",
       "\t<tr><td>⋮</td><td>⋮</td><td>⋮</td><td>⋮</td><td>⋮</td><td>⋮</td><td>⋮</td></tr>\n",
       "\t<tr><td>Flt3l</td><td>3</td><td>48</td><td>3_48</td><td> 1</td><td>1877</td><td>0.0005327651</td></tr>\n",
       "\t<tr><td>Flt3l</td><td>3</td><td>49</td><td>3_49</td><td> 1</td><td>1877</td><td>0.0005327651</td></tr>\n",
       "\t<tr><td>Flt3l</td><td>3</td><td>50</td><td>3_50</td><td> 1</td><td>1877</td><td>0.0005327651</td></tr>\n",
       "\t<tr><td>Flt3l</td><td>3</td><td>51</td><td>3_51</td><td>22</td><td>1877</td><td>0.0117208311</td></tr>\n",
       "\t<tr><td>Flt3l</td><td>3</td><td>52</td><td>3_52</td><td> 1</td><td>1877</td><td>0.0005327651</td></tr>\n",
       "\t<tr><td>Flt3l</td><td>3</td><td>53</td><td>3_53</td><td> 1</td><td>1877</td><td>0.0005327651</td></tr>\n",
       "\t<tr><td>Flt3l</td><td>3</td><td>54</td><td>3_54</td><td> 2</td><td>1877</td><td>0.0010655301</td></tr>\n",
       "\t<tr><td>Flt3l</td><td>3</td><td>55</td><td>3_55</td><td> 8</td><td>1877</td><td>0.0042621204</td></tr>\n",
       "\t<tr><td>Flt3l</td><td>3</td><td>56</td><td>3_56</td><td> 5</td><td>1877</td><td>0.0026638253</td></tr>\n",
       "\t<tr><td>Flt3l</td><td>3</td><td>57</td><td>3_57</td><td>11</td><td>1877</td><td>0.0058604156</td></tr>\n",
       "\t<tr><td>Flt3l</td><td>3</td><td>58</td><td>3_58</td><td> 1</td><td>1877</td><td>0.0005327651</td></tr>\n",
       "\t<tr><td>Flt3l</td><td>3</td><td>59</td><td>3_59</td><td> 6</td><td>1877</td><td>0.0031965903</td></tr>\n",
       "\t<tr><td>Flt3l</td><td>3</td><td>61</td><td>3_61</td><td> 2</td><td>1877</td><td>0.0010655301</td></tr>\n",
       "\t<tr><td>Flt3l</td><td>3</td><td>63</td><td>3_63</td><td> 1</td><td>1877</td><td>0.0005327651</td></tr>\n",
       "\t<tr><td>Flt3l</td><td>3</td><td>64</td><td>3_64</td><td> 3</td><td>1877</td><td>0.0015982952</td></tr>\n",
       "\t<tr><td>Flt3l</td><td>3</td><td>65</td><td>3_65</td><td> 1</td><td>1877</td><td>0.0005327651</td></tr>\n",
       "\t<tr><td>Flt3l</td><td>3</td><td>66</td><td>3_66</td><td> 7</td><td>1877</td><td>0.0037293554</td></tr>\n",
       "\t<tr><td>Flt3l</td><td>3</td><td>67</td><td>3_67</td><td> 2</td><td>1877</td><td>0.0010655301</td></tr>\n",
       "\t<tr><td>Flt3l</td><td>3</td><td>68</td><td>3_68</td><td> 5</td><td>1877</td><td>0.0026638253</td></tr>\n",
       "\t<tr><td>Flt3l</td><td>3</td><td>69</td><td>3_69</td><td> 3</td><td>1877</td><td>0.0015982952</td></tr>\n",
       "\t<tr><td>Flt3l</td><td>3</td><td>70</td><td>3_70</td><td>14</td><td>1877</td><td>0.0074587107</td></tr>\n",
       "\t<tr><td>Flt3l</td><td>3</td><td>71</td><td>3_71</td><td> 2</td><td>1877</td><td>0.0010655301</td></tr>\n",
       "\t<tr><td>Flt3l</td><td>3</td><td>72</td><td>3_72</td><td> 6</td><td>1877</td><td>0.0031965903</td></tr>\n",
       "\t<tr><td>Flt3l</td><td>3</td><td>73</td><td>3_73</td><td> 4</td><td>1877</td><td>0.0021310602</td></tr>\n",
       "\t<tr><td>Flt3l</td><td>3</td><td>75</td><td>3_75</td><td>17</td><td>1877</td><td>0.0090570059</td></tr>\n",
       "\t<tr><td>Flt3l</td><td>3</td><td>76</td><td>3_76</td><td>10</td><td>1877</td><td>0.0053276505</td></tr>\n",
       "\t<tr><td>Flt3l</td><td>3</td><td>77</td><td>3_77</td><td> 7</td><td>1877</td><td>0.0037293554</td></tr>\n",
       "\t<tr><td>Flt3l</td><td>3</td><td>78</td><td>3_78</td><td> 3</td><td>1877</td><td>0.0015982952</td></tr>\n",
       "\t<tr><td>Flt3l</td><td>3</td><td>79</td><td>3_79</td><td> 4</td><td>1877</td><td>0.0021310602</td></tr>\n",
       "\t<tr><td>Flt3l</td><td>3</td><td>80</td><td>3_80</td><td> 9</td><td>1877</td><td>0.0047948855</td></tr>\n",
       "</tbody>\n",
       "</table>\n"
      ],
      "text/latex": [
       "A tibble: 507 × 7\n",
       "\\begin{tabular}{lllllll}\n",
       " condition & donor & lineage & name & size & total & norm\\\\\n",
       " <fct> & <fct> & <fct> & <fct> & <int> & <int> & <dbl>\\\\\n",
       "\\hline\n",
       "\t Control & 0 & 0  & 0\\_0  & 189 & 1156 & 0.163494810\\\\\n",
       "\t Control & 0 & 1  & 0\\_1  & 110 & 1156 & 0.095155709\\\\\n",
       "\t Control & 0 & 2  & 0\\_2  &  44 & 1156 & 0.038062284\\\\\n",
       "\t Control & 0 & 3  & 0\\_3  &  91 & 1156 & 0.078719723\\\\\n",
       "\t Control & 0 & 4  & 0\\_4  &  32 & 1156 & 0.027681661\\\\\n",
       "\t Control & 0 & 5  & 0\\_5  &  23 & 1156 & 0.019896194\\\\\n",
       "\t Control & 0 & 6  & 0\\_6  &  14 & 1156 & 0.012110727\\\\\n",
       "\t Control & 0 & 7  & 0\\_7  &  17 & 1156 & 0.014705882\\\\\n",
       "\t Control & 0 & 8  & 0\\_8  &  12 & 1156 & 0.010380623\\\\\n",
       "\t Control & 0 & 9  & 0\\_9  &  16 & 1156 & 0.013840830\\\\\n",
       "\t Control & 0 & 10 & 0\\_10 &  14 & 1156 & 0.012110727\\\\\n",
       "\t Control & 0 & 11 & 0\\_11 &  18 & 1156 & 0.015570934\\\\\n",
       "\t Control & 0 & 12 & 0\\_12 &  11 & 1156 & 0.009515571\\\\\n",
       "\t Control & 0 & 13 & 0\\_13 &  15 & 1156 & 0.012975779\\\\\n",
       "\t Control & 0 & 14 & 0\\_14 &   8 & 1156 & 0.006920415\\\\\n",
       "\t Control & 0 & 15 & 0\\_15 &  11 & 1156 & 0.009515571\\\\\n",
       "\t Control & 0 & 16 & 0\\_16 &  18 & 1156 & 0.015570934\\\\\n",
       "\t Control & 0 & 17 & 0\\_17 &   7 & 1156 & 0.006055363\\\\\n",
       "\t Control & 0 & 18 & 0\\_18 &   6 & 1156 & 0.005190311\\\\\n",
       "\t Control & 0 & 19 & 0\\_19 &   6 & 1156 & 0.005190311\\\\\n",
       "\t Control & 0 & 20 & 0\\_20 &   4 & 1156 & 0.003460208\\\\\n",
       "\t Control & 0 & 21 & 0\\_21 &   3 & 1156 & 0.002595156\\\\\n",
       "\t Control & 0 & 22 & 0\\_22 &   6 & 1156 & 0.005190311\\\\\n",
       "\t Control & 0 & 23 & 0\\_23 &   4 & 1156 & 0.003460208\\\\\n",
       "\t Control & 0 & 24 & 0\\_24 &   6 & 1156 & 0.005190311\\\\\n",
       "\t Control & 0 & 25 & 0\\_25 &   3 & 1156 & 0.002595156\\\\\n",
       "\t Control & 0 & 26 & 0\\_26 &   7 & 1156 & 0.006055363\\\\\n",
       "\t Control & 0 & 27 & 0\\_27 &   4 & 1156 & 0.003460208\\\\\n",
       "\t Control & 0 & 28 & 0\\_28 &   5 & 1156 & 0.004325260\\\\\n",
       "\t Control & 0 & 29 & 0\\_29 &   2 & 1156 & 0.001730104\\\\\n",
       "\t ⋮ & ⋮ & ⋮ & ⋮ & ⋮ & ⋮ & ⋮\\\\\n",
       "\t Flt3l & 3 & 48 & 3\\_48 &  1 & 1877 & 0.0005327651\\\\\n",
       "\t Flt3l & 3 & 49 & 3\\_49 &  1 & 1877 & 0.0005327651\\\\\n",
       "\t Flt3l & 3 & 50 & 3\\_50 &  1 & 1877 & 0.0005327651\\\\\n",
       "\t Flt3l & 3 & 51 & 3\\_51 & 22 & 1877 & 0.0117208311\\\\\n",
       "\t Flt3l & 3 & 52 & 3\\_52 &  1 & 1877 & 0.0005327651\\\\\n",
       "\t Flt3l & 3 & 53 & 3\\_53 &  1 & 1877 & 0.0005327651\\\\\n",
       "\t Flt3l & 3 & 54 & 3\\_54 &  2 & 1877 & 0.0010655301\\\\\n",
       "\t Flt3l & 3 & 55 & 3\\_55 &  8 & 1877 & 0.0042621204\\\\\n",
       "\t Flt3l & 3 & 56 & 3\\_56 &  5 & 1877 & 0.0026638253\\\\\n",
       "\t Flt3l & 3 & 57 & 3\\_57 & 11 & 1877 & 0.0058604156\\\\\n",
       "\t Flt3l & 3 & 58 & 3\\_58 &  1 & 1877 & 0.0005327651\\\\\n",
       "\t Flt3l & 3 & 59 & 3\\_59 &  6 & 1877 & 0.0031965903\\\\\n",
       "\t Flt3l & 3 & 61 & 3\\_61 &  2 & 1877 & 0.0010655301\\\\\n",
       "\t Flt3l & 3 & 63 & 3\\_63 &  1 & 1877 & 0.0005327651\\\\\n",
       "\t Flt3l & 3 & 64 & 3\\_64 &  3 & 1877 & 0.0015982952\\\\\n",
       "\t Flt3l & 3 & 65 & 3\\_65 &  1 & 1877 & 0.0005327651\\\\\n",
       "\t Flt3l & 3 & 66 & 3\\_66 &  7 & 1877 & 0.0037293554\\\\\n",
       "\t Flt3l & 3 & 67 & 3\\_67 &  2 & 1877 & 0.0010655301\\\\\n",
       "\t Flt3l & 3 & 68 & 3\\_68 &  5 & 1877 & 0.0026638253\\\\\n",
       "\t Flt3l & 3 & 69 & 3\\_69 &  3 & 1877 & 0.0015982952\\\\\n",
       "\t Flt3l & 3 & 70 & 3\\_70 & 14 & 1877 & 0.0074587107\\\\\n",
       "\t Flt3l & 3 & 71 & 3\\_71 &  2 & 1877 & 0.0010655301\\\\\n",
       "\t Flt3l & 3 & 72 & 3\\_72 &  6 & 1877 & 0.0031965903\\\\\n",
       "\t Flt3l & 3 & 73 & 3\\_73 &  4 & 1877 & 0.0021310602\\\\\n",
       "\t Flt3l & 3 & 75 & 3\\_75 & 17 & 1877 & 0.0090570059\\\\\n",
       "\t Flt3l & 3 & 76 & 3\\_76 & 10 & 1877 & 0.0053276505\\\\\n",
       "\t Flt3l & 3 & 77 & 3\\_77 &  7 & 1877 & 0.0037293554\\\\\n",
       "\t Flt3l & 3 & 78 & 3\\_78 &  3 & 1877 & 0.0015982952\\\\\n",
       "\t Flt3l & 3 & 79 & 3\\_79 &  4 & 1877 & 0.0021310602\\\\\n",
       "\t Flt3l & 3 & 80 & 3\\_80 &  9 & 1877 & 0.0047948855\\\\\n",
       "\\end{tabular}\n"
      ],
      "text/markdown": [
       "\n",
       "A tibble: 507 × 7\n",
       "\n",
       "| condition &lt;fct&gt; | donor &lt;fct&gt; | lineage &lt;fct&gt; | name &lt;fct&gt; | size &lt;int&gt; | total &lt;int&gt; | norm &lt;dbl&gt; |\n",
       "|---|---|---|---|---|---|---|\n",
       "| Control | 0 | 0  | 0_0  | 189 | 1156 | 0.163494810 |\n",
       "| Control | 0 | 1  | 0_1  | 110 | 1156 | 0.095155709 |\n",
       "| Control | 0 | 2  | 0_2  |  44 | 1156 | 0.038062284 |\n",
       "| Control | 0 | 3  | 0_3  |  91 | 1156 | 0.078719723 |\n",
       "| Control | 0 | 4  | 0_4  |  32 | 1156 | 0.027681661 |\n",
       "| Control | 0 | 5  | 0_5  |  23 | 1156 | 0.019896194 |\n",
       "| Control | 0 | 6  | 0_6  |  14 | 1156 | 0.012110727 |\n",
       "| Control | 0 | 7  | 0_7  |  17 | 1156 | 0.014705882 |\n",
       "| Control | 0 | 8  | 0_8  |  12 | 1156 | 0.010380623 |\n",
       "| Control | 0 | 9  | 0_9  |  16 | 1156 | 0.013840830 |\n",
       "| Control | 0 | 10 | 0_10 |  14 | 1156 | 0.012110727 |\n",
       "| Control | 0 | 11 | 0_11 |  18 | 1156 | 0.015570934 |\n",
       "| Control | 0 | 12 | 0_12 |  11 | 1156 | 0.009515571 |\n",
       "| Control | 0 | 13 | 0_13 |  15 | 1156 | 0.012975779 |\n",
       "| Control | 0 | 14 | 0_14 |   8 | 1156 | 0.006920415 |\n",
       "| Control | 0 | 15 | 0_15 |  11 | 1156 | 0.009515571 |\n",
       "| Control | 0 | 16 | 0_16 |  18 | 1156 | 0.015570934 |\n",
       "| Control | 0 | 17 | 0_17 |   7 | 1156 | 0.006055363 |\n",
       "| Control | 0 | 18 | 0_18 |   6 | 1156 | 0.005190311 |\n",
       "| Control | 0 | 19 | 0_19 |   6 | 1156 | 0.005190311 |\n",
       "| Control | 0 | 20 | 0_20 |   4 | 1156 | 0.003460208 |\n",
       "| Control | 0 | 21 | 0_21 |   3 | 1156 | 0.002595156 |\n",
       "| Control | 0 | 22 | 0_22 |   6 | 1156 | 0.005190311 |\n",
       "| Control | 0 | 23 | 0_23 |   4 | 1156 | 0.003460208 |\n",
       "| Control | 0 | 24 | 0_24 |   6 | 1156 | 0.005190311 |\n",
       "| Control | 0 | 25 | 0_25 |   3 | 1156 | 0.002595156 |\n",
       "| Control | 0 | 26 | 0_26 |   7 | 1156 | 0.006055363 |\n",
       "| Control | 0 | 27 | 0_27 |   4 | 1156 | 0.003460208 |\n",
       "| Control | 0 | 28 | 0_28 |   5 | 1156 | 0.004325260 |\n",
       "| Control | 0 | 29 | 0_29 |   2 | 1156 | 0.001730104 |\n",
       "| ⋮ | ⋮ | ⋮ | ⋮ | ⋮ | ⋮ | ⋮ |\n",
       "| Flt3l | 3 | 48 | 3_48 |  1 | 1877 | 0.0005327651 |\n",
       "| Flt3l | 3 | 49 | 3_49 |  1 | 1877 | 0.0005327651 |\n",
       "| Flt3l | 3 | 50 | 3_50 |  1 | 1877 | 0.0005327651 |\n",
       "| Flt3l | 3 | 51 | 3_51 | 22 | 1877 | 0.0117208311 |\n",
       "| Flt3l | 3 | 52 | 3_52 |  1 | 1877 | 0.0005327651 |\n",
       "| Flt3l | 3 | 53 | 3_53 |  1 | 1877 | 0.0005327651 |\n",
       "| Flt3l | 3 | 54 | 3_54 |  2 | 1877 | 0.0010655301 |\n",
       "| Flt3l | 3 | 55 | 3_55 |  8 | 1877 | 0.0042621204 |\n",
       "| Flt3l | 3 | 56 | 3_56 |  5 | 1877 | 0.0026638253 |\n",
       "| Flt3l | 3 | 57 | 3_57 | 11 | 1877 | 0.0058604156 |\n",
       "| Flt3l | 3 | 58 | 3_58 |  1 | 1877 | 0.0005327651 |\n",
       "| Flt3l | 3 | 59 | 3_59 |  6 | 1877 | 0.0031965903 |\n",
       "| Flt3l | 3 | 61 | 3_61 |  2 | 1877 | 0.0010655301 |\n",
       "| Flt3l | 3 | 63 | 3_63 |  1 | 1877 | 0.0005327651 |\n",
       "| Flt3l | 3 | 64 | 3_64 |  3 | 1877 | 0.0015982952 |\n",
       "| Flt3l | 3 | 65 | 3_65 |  1 | 1877 | 0.0005327651 |\n",
       "| Flt3l | 3 | 66 | 3_66 |  7 | 1877 | 0.0037293554 |\n",
       "| Flt3l | 3 | 67 | 3_67 |  2 | 1877 | 0.0010655301 |\n",
       "| Flt3l | 3 | 68 | 3_68 |  5 | 1877 | 0.0026638253 |\n",
       "| Flt3l | 3 | 69 | 3_69 |  3 | 1877 | 0.0015982952 |\n",
       "| Flt3l | 3 | 70 | 3_70 | 14 | 1877 | 0.0074587107 |\n",
       "| Flt3l | 3 | 71 | 3_71 |  2 | 1877 | 0.0010655301 |\n",
       "| Flt3l | 3 | 72 | 3_72 |  6 | 1877 | 0.0031965903 |\n",
       "| Flt3l | 3 | 73 | 3_73 |  4 | 1877 | 0.0021310602 |\n",
       "| Flt3l | 3 | 75 | 3_75 | 17 | 1877 | 0.0090570059 |\n",
       "| Flt3l | 3 | 76 | 3_76 | 10 | 1877 | 0.0053276505 |\n",
       "| Flt3l | 3 | 77 | 3_77 |  7 | 1877 | 0.0037293554 |\n",
       "| Flt3l | 3 | 78 | 3_78 |  3 | 1877 | 0.0015982952 |\n",
       "| Flt3l | 3 | 79 | 3_79 |  4 | 1877 | 0.0021310602 |\n",
       "| Flt3l | 3 | 80 | 3_80 |  9 | 1877 | 0.0047948855 |\n",
       "\n"
      ],
      "text/plain": [
       "    condition donor lineage name size total norm        \n",
       "1   Control   0     0       0_0  189  1156  0.163494810 \n",
       "2   Control   0     1       0_1  110  1156  0.095155709 \n",
       "3   Control   0     2       0_2   44  1156  0.038062284 \n",
       "4   Control   0     3       0_3   91  1156  0.078719723 \n",
       "5   Control   0     4       0_4   32  1156  0.027681661 \n",
       "6   Control   0     5       0_5   23  1156  0.019896194 \n",
       "7   Control   0     6       0_6   14  1156  0.012110727 \n",
       "8   Control   0     7       0_7   17  1156  0.014705882 \n",
       "9   Control   0     8       0_8   12  1156  0.010380623 \n",
       "10  Control   0     9       0_9   16  1156  0.013840830 \n",
       "11  Control   0     10      0_10  14  1156  0.012110727 \n",
       "12  Control   0     11      0_11  18  1156  0.015570934 \n",
       "13  Control   0     12      0_12  11  1156  0.009515571 \n",
       "14  Control   0     13      0_13  15  1156  0.012975779 \n",
       "15  Control   0     14      0_14   8  1156  0.006920415 \n",
       "16  Control   0     15      0_15  11  1156  0.009515571 \n",
       "17  Control   0     16      0_16  18  1156  0.015570934 \n",
       "18  Control   0     17      0_17   7  1156  0.006055363 \n",
       "19  Control   0     18      0_18   6  1156  0.005190311 \n",
       "20  Control   0     19      0_19   6  1156  0.005190311 \n",
       "21  Control   0     20      0_20   4  1156  0.003460208 \n",
       "22  Control   0     21      0_21   3  1156  0.002595156 \n",
       "23  Control   0     22      0_22   6  1156  0.005190311 \n",
       "24  Control   0     23      0_23   4  1156  0.003460208 \n",
       "25  Control   0     24      0_24   6  1156  0.005190311 \n",
       "26  Control   0     25      0_25   3  1156  0.002595156 \n",
       "27  Control   0     26      0_26   7  1156  0.006055363 \n",
       "28  Control   0     27      0_27   4  1156  0.003460208 \n",
       "29  Control   0     28      0_28   5  1156  0.004325260 \n",
       "30  Control   0     29      0_29   2  1156  0.001730104 \n",
       "⋮   ⋮         ⋮     ⋮       ⋮    ⋮    ⋮     ⋮           \n",
       "478 Flt3l     3     48      3_48  1   1877  0.0005327651\n",
       "479 Flt3l     3     49      3_49  1   1877  0.0005327651\n",
       "480 Flt3l     3     50      3_50  1   1877  0.0005327651\n",
       "481 Flt3l     3     51      3_51 22   1877  0.0117208311\n",
       "482 Flt3l     3     52      3_52  1   1877  0.0005327651\n",
       "483 Flt3l     3     53      3_53  1   1877  0.0005327651\n",
       "484 Flt3l     3     54      3_54  2   1877  0.0010655301\n",
       "485 Flt3l     3     55      3_55  8   1877  0.0042621204\n",
       "486 Flt3l     3     56      3_56  5   1877  0.0026638253\n",
       "487 Flt3l     3     57      3_57 11   1877  0.0058604156\n",
       "488 Flt3l     3     58      3_58  1   1877  0.0005327651\n",
       "489 Flt3l     3     59      3_59  6   1877  0.0031965903\n",
       "490 Flt3l     3     61      3_61  2   1877  0.0010655301\n",
       "491 Flt3l     3     63      3_63  1   1877  0.0005327651\n",
       "492 Flt3l     3     64      3_64  3   1877  0.0015982952\n",
       "493 Flt3l     3     65      3_65  1   1877  0.0005327651\n",
       "494 Flt3l     3     66      3_66  7   1877  0.0037293554\n",
       "495 Flt3l     3     67      3_67  2   1877  0.0010655301\n",
       "496 Flt3l     3     68      3_68  5   1877  0.0026638253\n",
       "497 Flt3l     3     69      3_69  3   1877  0.0015982952\n",
       "498 Flt3l     3     70      3_70 14   1877  0.0074587107\n",
       "499 Flt3l     3     71      3_71  2   1877  0.0010655301\n",
       "500 Flt3l     3     72      3_72  6   1877  0.0031965903\n",
       "501 Flt3l     3     73      3_73  4   1877  0.0021310602\n",
       "502 Flt3l     3     75      3_75 17   1877  0.0090570059\n",
       "503 Flt3l     3     76      3_76 10   1877  0.0053276505\n",
       "504 Flt3l     3     77      3_77  7   1877  0.0037293554\n",
       "505 Flt3l     3     78      3_78  3   1877  0.0015982952\n",
       "506 Flt3l     3     79      3_79  4   1877  0.0021310602\n",
       "507 Flt3l     3     80      3_80  9   1877  0.0047948855"
      ]
     },
     "metadata": {},
     "output_type": "display_data"
    }
   ],
   "source": [
    "counts.norm <- counts %>% group_by(condition, donor) %>% mutate(total=sum(size)) %>% ungroup() %>% mutate(norm=size/total)\n",
    "\n",
    "counts.norm "
   ]
  },
  {
   "cell_type": "code",
   "execution_count": 9,
   "id": "b15ba9af",
   "metadata": {
    "execution": {
     "iopub.execute_input": "2021-12-03T02:55:27.147520Z",
     "iopub.status.busy": "2021-12-03T02:55:27.144577Z",
     "iopub.status.idle": "2021-12-03T02:55:27.246788Z",
     "shell.execute_reply": "2021-12-03T02:55:27.247709Z"
    },
    "papermill": {
     "duration": 0.190665,
     "end_time": "2021-12-03T02:55:27.248057",
     "exception": false,
     "start_time": "2021-12-03T02:55:27.057392",
     "status": "completed"
    },
    "scrolled": true,
    "tags": []
   },
   "outputs": [
    {
     "name": "stderr",
     "output_type": "stream",
     "text": [
      "Warning message in xtfrm.data.frame(x):\n",
      "“cannot xtfrm data frames”\n"
     ]
    },
    {
     "data": {
      "text/html": [
       "<table class=\"dataframe\">\n",
       "<caption>A tibble: 507 × 7</caption>\n",
       "<thead>\n",
       "\t<tr><th scope=col>condition</th><th scope=col>donor</th><th scope=col>lineage</th><th scope=col>name</th><th scope=col>size</th><th scope=col>total</th><th scope=col>norm</th></tr>\n",
       "\t<tr><th scope=col>&lt;fct&gt;</th><th scope=col>&lt;fct&gt;</th><th scope=col>&lt;fct&gt;</th><th scope=col>&lt;fct&gt;</th><th scope=col>&lt;int&gt;</th><th scope=col>&lt;int&gt;</th><th scope=col>&lt;dbl&gt;</th></tr>\n",
       "</thead>\n",
       "<tbody>\n",
       "\t<tr><td>Flt3l  </td><td>2</td><td>0 </td><td>2_0 </td><td>474</td><td>1464</td><td>0.32377049</td></tr>\n",
       "\t<tr><td>Control</td><td>2</td><td>44</td><td>2_44</td><td>122</td><td> 735</td><td>0.16598639</td></tr>\n",
       "\t<tr><td>Control</td><td>3</td><td>0 </td><td>3_0 </td><td>154</td><td> 935</td><td>0.16470588</td></tr>\n",
       "\t<tr><td>Control</td><td>0</td><td>0 </td><td>0_0 </td><td>189</td><td>1156</td><td>0.16349481</td></tr>\n",
       "\t<tr><td>Control</td><td>2</td><td>0 </td><td>2_0 </td><td>111</td><td> 735</td><td>0.15102041</td></tr>\n",
       "\t<tr><td>Flt3l  </td><td>3</td><td>1 </td><td>3_1 </td><td>263</td><td>1877</td><td>0.14011721</td></tr>\n",
       "\t<tr><td>Flt3l  </td><td>3</td><td>0 </td><td>3_0 </td><td>250</td><td>1877</td><td>0.13319126</td></tr>\n",
       "\t<tr><td>Control</td><td>2</td><td>2 </td><td>2_2 </td><td> 93</td><td> 735</td><td>0.12653061</td></tr>\n",
       "\t<tr><td>Control</td><td>1</td><td>1 </td><td>1_1 </td><td>105</td><td> 845</td><td>0.12426036</td></tr>\n",
       "\t<tr><td>Flt3l  </td><td>2</td><td>1 </td><td>2_1 </td><td>151</td><td>1464</td><td>0.10314208</td></tr>\n",
       "\t<tr><td>Control</td><td>1</td><td>4 </td><td>1_4 </td><td> 86</td><td> 845</td><td>0.10177515</td></tr>\n",
       "\t<tr><td>Flt3l  </td><td>2</td><td>2 </td><td>2_2 </td><td>147</td><td>1464</td><td>0.10040984</td></tr>\n",
       "\t<tr><td>Flt3l  </td><td>1</td><td>0 </td><td>1_0 </td><td>229</td><td>2319</td><td>0.09874946</td></tr>\n",
       "\t<tr><td>Control</td><td>3</td><td>1 </td><td>3_1 </td><td> 92</td><td> 935</td><td>0.09839572</td></tr>\n",
       "\t<tr><td>Control</td><td>2</td><td>1 </td><td>2_1 </td><td> 70</td><td> 735</td><td>0.09523810</td></tr>\n",
       "\t<tr><td>Control</td><td>0</td><td>1 </td><td>0_1 </td><td>110</td><td>1156</td><td>0.09515571</td></tr>\n",
       "\t<tr><td>Flt3l  </td><td>0</td><td>1 </td><td>0_1 </td><td>221</td><td>2360</td><td>0.09364407</td></tr>\n",
       "\t<tr><td>Control</td><td>3</td><td>2 </td><td>3_2 </td><td> 87</td><td> 935</td><td>0.09304813</td></tr>\n",
       "\t<tr><td>Flt3l  </td><td>0</td><td>2 </td><td>0_2 </td><td>213</td><td>2360</td><td>0.09025424</td></tr>\n",
       "\t<tr><td>Flt3l  </td><td>1</td><td>1 </td><td>1_1 </td><td>207</td><td>2319</td><td>0.08926261</td></tr>\n",
       "\t<tr><td>Flt3l  </td><td>0</td><td>0 </td><td>0_0 </td><td>205</td><td>2360</td><td>0.08686441</td></tr>\n",
       "\t<tr><td>Control</td><td>1</td><td>6 </td><td>1_6 </td><td> 72</td><td> 845</td><td>0.08520710</td></tr>\n",
       "\t<tr><td>Control</td><td>1</td><td>3 </td><td>1_3 </td><td> 71</td><td> 845</td><td>0.08402367</td></tr>\n",
       "\t<tr><td>Control</td><td>1</td><td>0 </td><td>1_0 </td><td> 69</td><td> 845</td><td>0.08165680</td></tr>\n",
       "\t<tr><td>Control</td><td>0</td><td>3 </td><td>0_3 </td><td> 91</td><td>1156</td><td>0.07871972</td></tr>\n",
       "\t<tr><td>Control</td><td>3</td><td>3 </td><td>3_3 </td><td> 68</td><td> 935</td><td>0.07272727</td></tr>\n",
       "\t<tr><td>Flt3l  </td><td>1</td><td>8 </td><td>1_8 </td><td>164</td><td>2319</td><td>0.07072014</td></tr>\n",
       "\t<tr><td>Flt3l  </td><td>1</td><td>9 </td><td>1_9 </td><td>158</td><td>2319</td><td>0.06813282</td></tr>\n",
       "\t<tr><td>Flt3l  </td><td>1</td><td>2 </td><td>1_2 </td><td>157</td><td>2319</td><td>0.06770160</td></tr>\n",
       "\t<tr><td>Flt3l  </td><td>1</td><td>3 </td><td>1_3 </td><td>157</td><td>2319</td><td>0.06770160</td></tr>\n",
       "\t<tr><td>⋮</td><td>⋮</td><td>⋮</td><td>⋮</td><td>⋮</td><td>⋮</td><td>⋮</td></tr>\n",
       "\t<tr><td>Flt3l</td><td>2</td><td>41 </td><td>2_41 </td><td>1</td><td>1464</td><td>0.0006830601</td></tr>\n",
       "\t<tr><td>Flt3l</td><td>2</td><td>45 </td><td>2_45 </td><td>1</td><td>1464</td><td>0.0006830601</td></tr>\n",
       "\t<tr><td>Flt3l</td><td>2</td><td>46 </td><td>2_46 </td><td>1</td><td>1464</td><td>0.0006830601</td></tr>\n",
       "\t<tr><td>Flt3l</td><td>2</td><td>52 </td><td>2_52 </td><td>1</td><td>1464</td><td>0.0006830601</td></tr>\n",
       "\t<tr><td>Flt3l</td><td>2</td><td>53 </td><td>2_53 </td><td>1</td><td>1464</td><td>0.0006830601</td></tr>\n",
       "\t<tr><td>Flt3l</td><td>3</td><td>31 </td><td>3_31 </td><td>1</td><td>1877</td><td>0.0005327651</td></tr>\n",
       "\t<tr><td>Flt3l</td><td>3</td><td>41 </td><td>3_41 </td><td>1</td><td>1877</td><td>0.0005327651</td></tr>\n",
       "\t<tr><td>Flt3l</td><td>3</td><td>48 </td><td>3_48 </td><td>1</td><td>1877</td><td>0.0005327651</td></tr>\n",
       "\t<tr><td>Flt3l</td><td>3</td><td>49 </td><td>3_49 </td><td>1</td><td>1877</td><td>0.0005327651</td></tr>\n",
       "\t<tr><td>Flt3l</td><td>3</td><td>50 </td><td>3_50 </td><td>1</td><td>1877</td><td>0.0005327651</td></tr>\n",
       "\t<tr><td>Flt3l</td><td>3</td><td>52 </td><td>3_52 </td><td>1</td><td>1877</td><td>0.0005327651</td></tr>\n",
       "\t<tr><td>Flt3l</td><td>3</td><td>53 </td><td>3_53 </td><td>1</td><td>1877</td><td>0.0005327651</td></tr>\n",
       "\t<tr><td>Flt3l</td><td>3</td><td>58 </td><td>3_58 </td><td>1</td><td>1877</td><td>0.0005327651</td></tr>\n",
       "\t<tr><td>Flt3l</td><td>3</td><td>63 </td><td>3_63 </td><td>1</td><td>1877</td><td>0.0005327651</td></tr>\n",
       "\t<tr><td>Flt3l</td><td>3</td><td>65 </td><td>3_65 </td><td>1</td><td>1877</td><td>0.0005327651</td></tr>\n",
       "\t<tr><td>Flt3l</td><td>1</td><td>20 </td><td>1_20 </td><td>1</td><td>2319</td><td>0.0004312204</td></tr>\n",
       "\t<tr><td>Flt3l</td><td>1</td><td>21 </td><td>1_21 </td><td>1</td><td>2319</td><td>0.0004312204</td></tr>\n",
       "\t<tr><td>Flt3l</td><td>0</td><td>56 </td><td>0_56 </td><td>1</td><td>2360</td><td>0.0004237288</td></tr>\n",
       "\t<tr><td>Flt3l</td><td>0</td><td>71 </td><td>0_71 </td><td>1</td><td>2360</td><td>0.0004237288</td></tr>\n",
       "\t<tr><td>Flt3l</td><td>0</td><td>73 </td><td>0_73 </td><td>1</td><td>2360</td><td>0.0004237288</td></tr>\n",
       "\t<tr><td>Flt3l</td><td>0</td><td>77 </td><td>0_77 </td><td>1</td><td>2360</td><td>0.0004237288</td></tr>\n",
       "\t<tr><td>Flt3l</td><td>0</td><td>78 </td><td>0_78 </td><td>1</td><td>2360</td><td>0.0004237288</td></tr>\n",
       "\t<tr><td>Flt3l</td><td>0</td><td>82 </td><td>0_82 </td><td>1</td><td>2360</td><td>0.0004237288</td></tr>\n",
       "\t<tr><td>Flt3l</td><td>0</td><td>83 </td><td>0_83 </td><td>1</td><td>2360</td><td>0.0004237288</td></tr>\n",
       "\t<tr><td>Flt3l</td><td>0</td><td>93 </td><td>0_93 </td><td>1</td><td>2360</td><td>0.0004237288</td></tr>\n",
       "\t<tr><td>Flt3l</td><td>0</td><td>96 </td><td>0_96 </td><td>1</td><td>2360</td><td>0.0004237288</td></tr>\n",
       "\t<tr><td>Flt3l</td><td>0</td><td>99 </td><td>0_99 </td><td>1</td><td>2360</td><td>0.0004237288</td></tr>\n",
       "\t<tr><td>Flt3l</td><td>0</td><td>102</td><td>0_102</td><td>1</td><td>2360</td><td>0.0004237288</td></tr>\n",
       "\t<tr><td>Flt3l</td><td>0</td><td>108</td><td>0_108</td><td>1</td><td>2360</td><td>0.0004237288</td></tr>\n",
       "\t<tr><td>Flt3l</td><td>0</td><td>120</td><td>0_120</td><td>1</td><td>2360</td><td>0.0004237288</td></tr>\n",
       "</tbody>\n",
       "</table>\n"
      ],
      "text/latex": [
       "A tibble: 507 × 7\n",
       "\\begin{tabular}{lllllll}\n",
       " condition & donor & lineage & name & size & total & norm\\\\\n",
       " <fct> & <fct> & <fct> & <fct> & <int> & <int> & <dbl>\\\\\n",
       "\\hline\n",
       "\t Flt3l   & 2 & 0  & 2\\_0  & 474 & 1464 & 0.32377049\\\\\n",
       "\t Control & 2 & 44 & 2\\_44 & 122 &  735 & 0.16598639\\\\\n",
       "\t Control & 3 & 0  & 3\\_0  & 154 &  935 & 0.16470588\\\\\n",
       "\t Control & 0 & 0  & 0\\_0  & 189 & 1156 & 0.16349481\\\\\n",
       "\t Control & 2 & 0  & 2\\_0  & 111 &  735 & 0.15102041\\\\\n",
       "\t Flt3l   & 3 & 1  & 3\\_1  & 263 & 1877 & 0.14011721\\\\\n",
       "\t Flt3l   & 3 & 0  & 3\\_0  & 250 & 1877 & 0.13319126\\\\\n",
       "\t Control & 2 & 2  & 2\\_2  &  93 &  735 & 0.12653061\\\\\n",
       "\t Control & 1 & 1  & 1\\_1  & 105 &  845 & 0.12426036\\\\\n",
       "\t Flt3l   & 2 & 1  & 2\\_1  & 151 & 1464 & 0.10314208\\\\\n",
       "\t Control & 1 & 4  & 1\\_4  &  86 &  845 & 0.10177515\\\\\n",
       "\t Flt3l   & 2 & 2  & 2\\_2  & 147 & 1464 & 0.10040984\\\\\n",
       "\t Flt3l   & 1 & 0  & 1\\_0  & 229 & 2319 & 0.09874946\\\\\n",
       "\t Control & 3 & 1  & 3\\_1  &  92 &  935 & 0.09839572\\\\\n",
       "\t Control & 2 & 1  & 2\\_1  &  70 &  735 & 0.09523810\\\\\n",
       "\t Control & 0 & 1  & 0\\_1  & 110 & 1156 & 0.09515571\\\\\n",
       "\t Flt3l   & 0 & 1  & 0\\_1  & 221 & 2360 & 0.09364407\\\\\n",
       "\t Control & 3 & 2  & 3\\_2  &  87 &  935 & 0.09304813\\\\\n",
       "\t Flt3l   & 0 & 2  & 0\\_2  & 213 & 2360 & 0.09025424\\\\\n",
       "\t Flt3l   & 1 & 1  & 1\\_1  & 207 & 2319 & 0.08926261\\\\\n",
       "\t Flt3l   & 0 & 0  & 0\\_0  & 205 & 2360 & 0.08686441\\\\\n",
       "\t Control & 1 & 6  & 1\\_6  &  72 &  845 & 0.08520710\\\\\n",
       "\t Control & 1 & 3  & 1\\_3  &  71 &  845 & 0.08402367\\\\\n",
       "\t Control & 1 & 0  & 1\\_0  &  69 &  845 & 0.08165680\\\\\n",
       "\t Control & 0 & 3  & 0\\_3  &  91 & 1156 & 0.07871972\\\\\n",
       "\t Control & 3 & 3  & 3\\_3  &  68 &  935 & 0.07272727\\\\\n",
       "\t Flt3l   & 1 & 8  & 1\\_8  & 164 & 2319 & 0.07072014\\\\\n",
       "\t Flt3l   & 1 & 9  & 1\\_9  & 158 & 2319 & 0.06813282\\\\\n",
       "\t Flt3l   & 1 & 2  & 1\\_2  & 157 & 2319 & 0.06770160\\\\\n",
       "\t Flt3l   & 1 & 3  & 1\\_3  & 157 & 2319 & 0.06770160\\\\\n",
       "\t ⋮ & ⋮ & ⋮ & ⋮ & ⋮ & ⋮ & ⋮\\\\\n",
       "\t Flt3l & 2 & 41  & 2\\_41  & 1 & 1464 & 0.0006830601\\\\\n",
       "\t Flt3l & 2 & 45  & 2\\_45  & 1 & 1464 & 0.0006830601\\\\\n",
       "\t Flt3l & 2 & 46  & 2\\_46  & 1 & 1464 & 0.0006830601\\\\\n",
       "\t Flt3l & 2 & 52  & 2\\_52  & 1 & 1464 & 0.0006830601\\\\\n",
       "\t Flt3l & 2 & 53  & 2\\_53  & 1 & 1464 & 0.0006830601\\\\\n",
       "\t Flt3l & 3 & 31  & 3\\_31  & 1 & 1877 & 0.0005327651\\\\\n",
       "\t Flt3l & 3 & 41  & 3\\_41  & 1 & 1877 & 0.0005327651\\\\\n",
       "\t Flt3l & 3 & 48  & 3\\_48  & 1 & 1877 & 0.0005327651\\\\\n",
       "\t Flt3l & 3 & 49  & 3\\_49  & 1 & 1877 & 0.0005327651\\\\\n",
       "\t Flt3l & 3 & 50  & 3\\_50  & 1 & 1877 & 0.0005327651\\\\\n",
       "\t Flt3l & 3 & 52  & 3\\_52  & 1 & 1877 & 0.0005327651\\\\\n",
       "\t Flt3l & 3 & 53  & 3\\_53  & 1 & 1877 & 0.0005327651\\\\\n",
       "\t Flt3l & 3 & 58  & 3\\_58  & 1 & 1877 & 0.0005327651\\\\\n",
       "\t Flt3l & 3 & 63  & 3\\_63  & 1 & 1877 & 0.0005327651\\\\\n",
       "\t Flt3l & 3 & 65  & 3\\_65  & 1 & 1877 & 0.0005327651\\\\\n",
       "\t Flt3l & 1 & 20  & 1\\_20  & 1 & 2319 & 0.0004312204\\\\\n",
       "\t Flt3l & 1 & 21  & 1\\_21  & 1 & 2319 & 0.0004312204\\\\\n",
       "\t Flt3l & 0 & 56  & 0\\_56  & 1 & 2360 & 0.0004237288\\\\\n",
       "\t Flt3l & 0 & 71  & 0\\_71  & 1 & 2360 & 0.0004237288\\\\\n",
       "\t Flt3l & 0 & 73  & 0\\_73  & 1 & 2360 & 0.0004237288\\\\\n",
       "\t Flt3l & 0 & 77  & 0\\_77  & 1 & 2360 & 0.0004237288\\\\\n",
       "\t Flt3l & 0 & 78  & 0\\_78  & 1 & 2360 & 0.0004237288\\\\\n",
       "\t Flt3l & 0 & 82  & 0\\_82  & 1 & 2360 & 0.0004237288\\\\\n",
       "\t Flt3l & 0 & 83  & 0\\_83  & 1 & 2360 & 0.0004237288\\\\\n",
       "\t Flt3l & 0 & 93  & 0\\_93  & 1 & 2360 & 0.0004237288\\\\\n",
       "\t Flt3l & 0 & 96  & 0\\_96  & 1 & 2360 & 0.0004237288\\\\\n",
       "\t Flt3l & 0 & 99  & 0\\_99  & 1 & 2360 & 0.0004237288\\\\\n",
       "\t Flt3l & 0 & 102 & 0\\_102 & 1 & 2360 & 0.0004237288\\\\\n",
       "\t Flt3l & 0 & 108 & 0\\_108 & 1 & 2360 & 0.0004237288\\\\\n",
       "\t Flt3l & 0 & 120 & 0\\_120 & 1 & 2360 & 0.0004237288\\\\\n",
       "\\end{tabular}\n"
      ],
      "text/markdown": [
       "\n",
       "A tibble: 507 × 7\n",
       "\n",
       "| condition &lt;fct&gt; | donor &lt;fct&gt; | lineage &lt;fct&gt; | name &lt;fct&gt; | size &lt;int&gt; | total &lt;int&gt; | norm &lt;dbl&gt; |\n",
       "|---|---|---|---|---|---|---|\n",
       "| Flt3l   | 2 | 0  | 2_0  | 474 | 1464 | 0.32377049 |\n",
       "| Control | 2 | 44 | 2_44 | 122 |  735 | 0.16598639 |\n",
       "| Control | 3 | 0  | 3_0  | 154 |  935 | 0.16470588 |\n",
       "| Control | 0 | 0  | 0_0  | 189 | 1156 | 0.16349481 |\n",
       "| Control | 2 | 0  | 2_0  | 111 |  735 | 0.15102041 |\n",
       "| Flt3l   | 3 | 1  | 3_1  | 263 | 1877 | 0.14011721 |\n",
       "| Flt3l   | 3 | 0  | 3_0  | 250 | 1877 | 0.13319126 |\n",
       "| Control | 2 | 2  | 2_2  |  93 |  735 | 0.12653061 |\n",
       "| Control | 1 | 1  | 1_1  | 105 |  845 | 0.12426036 |\n",
       "| Flt3l   | 2 | 1  | 2_1  | 151 | 1464 | 0.10314208 |\n",
       "| Control | 1 | 4  | 1_4  |  86 |  845 | 0.10177515 |\n",
       "| Flt3l   | 2 | 2  | 2_2  | 147 | 1464 | 0.10040984 |\n",
       "| Flt3l   | 1 | 0  | 1_0  | 229 | 2319 | 0.09874946 |\n",
       "| Control | 3 | 1  | 3_1  |  92 |  935 | 0.09839572 |\n",
       "| Control | 2 | 1  | 2_1  |  70 |  735 | 0.09523810 |\n",
       "| Control | 0 | 1  | 0_1  | 110 | 1156 | 0.09515571 |\n",
       "| Flt3l   | 0 | 1  | 0_1  | 221 | 2360 | 0.09364407 |\n",
       "| Control | 3 | 2  | 3_2  |  87 |  935 | 0.09304813 |\n",
       "| Flt3l   | 0 | 2  | 0_2  | 213 | 2360 | 0.09025424 |\n",
       "| Flt3l   | 1 | 1  | 1_1  | 207 | 2319 | 0.08926261 |\n",
       "| Flt3l   | 0 | 0  | 0_0  | 205 | 2360 | 0.08686441 |\n",
       "| Control | 1 | 6  | 1_6  |  72 |  845 | 0.08520710 |\n",
       "| Control | 1 | 3  | 1_3  |  71 |  845 | 0.08402367 |\n",
       "| Control | 1 | 0  | 1_0  |  69 |  845 | 0.08165680 |\n",
       "| Control | 0 | 3  | 0_3  |  91 | 1156 | 0.07871972 |\n",
       "| Control | 3 | 3  | 3_3  |  68 |  935 | 0.07272727 |\n",
       "| Flt3l   | 1 | 8  | 1_8  | 164 | 2319 | 0.07072014 |\n",
       "| Flt3l   | 1 | 9  | 1_9  | 158 | 2319 | 0.06813282 |\n",
       "| Flt3l   | 1 | 2  | 1_2  | 157 | 2319 | 0.06770160 |\n",
       "| Flt3l   | 1 | 3  | 1_3  | 157 | 2319 | 0.06770160 |\n",
       "| ⋮ | ⋮ | ⋮ | ⋮ | ⋮ | ⋮ | ⋮ |\n",
       "| Flt3l | 2 | 41  | 2_41  | 1 | 1464 | 0.0006830601 |\n",
       "| Flt3l | 2 | 45  | 2_45  | 1 | 1464 | 0.0006830601 |\n",
       "| Flt3l | 2 | 46  | 2_46  | 1 | 1464 | 0.0006830601 |\n",
       "| Flt3l | 2 | 52  | 2_52  | 1 | 1464 | 0.0006830601 |\n",
       "| Flt3l | 2 | 53  | 2_53  | 1 | 1464 | 0.0006830601 |\n",
       "| Flt3l | 3 | 31  | 3_31  | 1 | 1877 | 0.0005327651 |\n",
       "| Flt3l | 3 | 41  | 3_41  | 1 | 1877 | 0.0005327651 |\n",
       "| Flt3l | 3 | 48  | 3_48  | 1 | 1877 | 0.0005327651 |\n",
       "| Flt3l | 3 | 49  | 3_49  | 1 | 1877 | 0.0005327651 |\n",
       "| Flt3l | 3 | 50  | 3_50  | 1 | 1877 | 0.0005327651 |\n",
       "| Flt3l | 3 | 52  | 3_52  | 1 | 1877 | 0.0005327651 |\n",
       "| Flt3l | 3 | 53  | 3_53  | 1 | 1877 | 0.0005327651 |\n",
       "| Flt3l | 3 | 58  | 3_58  | 1 | 1877 | 0.0005327651 |\n",
       "| Flt3l | 3 | 63  | 3_63  | 1 | 1877 | 0.0005327651 |\n",
       "| Flt3l | 3 | 65  | 3_65  | 1 | 1877 | 0.0005327651 |\n",
       "| Flt3l | 1 | 20  | 1_20  | 1 | 2319 | 0.0004312204 |\n",
       "| Flt3l | 1 | 21  | 1_21  | 1 | 2319 | 0.0004312204 |\n",
       "| Flt3l | 0 | 56  | 0_56  | 1 | 2360 | 0.0004237288 |\n",
       "| Flt3l | 0 | 71  | 0_71  | 1 | 2360 | 0.0004237288 |\n",
       "| Flt3l | 0 | 73  | 0_73  | 1 | 2360 | 0.0004237288 |\n",
       "| Flt3l | 0 | 77  | 0_77  | 1 | 2360 | 0.0004237288 |\n",
       "| Flt3l | 0 | 78  | 0_78  | 1 | 2360 | 0.0004237288 |\n",
       "| Flt3l | 0 | 82  | 0_82  | 1 | 2360 | 0.0004237288 |\n",
       "| Flt3l | 0 | 83  | 0_83  | 1 | 2360 | 0.0004237288 |\n",
       "| Flt3l | 0 | 93  | 0_93  | 1 | 2360 | 0.0004237288 |\n",
       "| Flt3l | 0 | 96  | 0_96  | 1 | 2360 | 0.0004237288 |\n",
       "| Flt3l | 0 | 99  | 0_99  | 1 | 2360 | 0.0004237288 |\n",
       "| Flt3l | 0 | 102 | 0_102 | 1 | 2360 | 0.0004237288 |\n",
       "| Flt3l | 0 | 108 | 0_108 | 1 | 2360 | 0.0004237288 |\n",
       "| Flt3l | 0 | 120 | 0_120 | 1 | 2360 | 0.0004237288 |\n",
       "\n"
      ],
      "text/plain": [
       "    condition donor lineage name  size total norm        \n",
       "1   Flt3l     2     0       2_0   474  1464  0.32377049  \n",
       "2   Control   2     44      2_44  122   735  0.16598639  \n",
       "3   Control   3     0       3_0   154   935  0.16470588  \n",
       "4   Control   0     0       0_0   189  1156  0.16349481  \n",
       "5   Control   2     0       2_0   111   735  0.15102041  \n",
       "6   Flt3l     3     1       3_1   263  1877  0.14011721  \n",
       "7   Flt3l     3     0       3_0   250  1877  0.13319126  \n",
       "8   Control   2     2       2_2    93   735  0.12653061  \n",
       "9   Control   1     1       1_1   105   845  0.12426036  \n",
       "10  Flt3l     2     1       2_1   151  1464  0.10314208  \n",
       "11  Control   1     4       1_4    86   845  0.10177515  \n",
       "12  Flt3l     2     2       2_2   147  1464  0.10040984  \n",
       "13  Flt3l     1     0       1_0   229  2319  0.09874946  \n",
       "14  Control   3     1       3_1    92   935  0.09839572  \n",
       "15  Control   2     1       2_1    70   735  0.09523810  \n",
       "16  Control   0     1       0_1   110  1156  0.09515571  \n",
       "17  Flt3l     0     1       0_1   221  2360  0.09364407  \n",
       "18  Control   3     2       3_2    87   935  0.09304813  \n",
       "19  Flt3l     0     2       0_2   213  2360  0.09025424  \n",
       "20  Flt3l     1     1       1_1   207  2319  0.08926261  \n",
       "21  Flt3l     0     0       0_0   205  2360  0.08686441  \n",
       "22  Control   1     6       1_6    72   845  0.08520710  \n",
       "23  Control   1     3       1_3    71   845  0.08402367  \n",
       "24  Control   1     0       1_0    69   845  0.08165680  \n",
       "25  Control   0     3       0_3    91  1156  0.07871972  \n",
       "26  Control   3     3       3_3    68   935  0.07272727  \n",
       "27  Flt3l     1     8       1_8   164  2319  0.07072014  \n",
       "28  Flt3l     1     9       1_9   158  2319  0.06813282  \n",
       "29  Flt3l     1     2       1_2   157  2319  0.06770160  \n",
       "30  Flt3l     1     3       1_3   157  2319  0.06770160  \n",
       "⋮   ⋮         ⋮     ⋮       ⋮     ⋮    ⋮     ⋮           \n",
       "478 Flt3l     2     41      2_41  1    1464  0.0006830601\n",
       "479 Flt3l     2     45      2_45  1    1464  0.0006830601\n",
       "480 Flt3l     2     46      2_46  1    1464  0.0006830601\n",
       "481 Flt3l     2     52      2_52  1    1464  0.0006830601\n",
       "482 Flt3l     2     53      2_53  1    1464  0.0006830601\n",
       "483 Flt3l     3     31      3_31  1    1877  0.0005327651\n",
       "484 Flt3l     3     41      3_41  1    1877  0.0005327651\n",
       "485 Flt3l     3     48      3_48  1    1877  0.0005327651\n",
       "486 Flt3l     3     49      3_49  1    1877  0.0005327651\n",
       "487 Flt3l     3     50      3_50  1    1877  0.0005327651\n",
       "488 Flt3l     3     52      3_52  1    1877  0.0005327651\n",
       "489 Flt3l     3     53      3_53  1    1877  0.0005327651\n",
       "490 Flt3l     3     58      3_58  1    1877  0.0005327651\n",
       "491 Flt3l     3     63      3_63  1    1877  0.0005327651\n",
       "492 Flt3l     3     65      3_65  1    1877  0.0005327651\n",
       "493 Flt3l     1     20      1_20  1    2319  0.0004312204\n",
       "494 Flt3l     1     21      1_21  1    2319  0.0004312204\n",
       "495 Flt3l     0     56      0_56  1    2360  0.0004237288\n",
       "496 Flt3l     0     71      0_71  1    2360  0.0004237288\n",
       "497 Flt3l     0     73      0_73  1    2360  0.0004237288\n",
       "498 Flt3l     0     77      0_77  1    2360  0.0004237288\n",
       "499 Flt3l     0     78      0_78  1    2360  0.0004237288\n",
       "500 Flt3l     0     82      0_82  1    2360  0.0004237288\n",
       "501 Flt3l     0     83      0_83  1    2360  0.0004237288\n",
       "502 Flt3l     0     93      0_93  1    2360  0.0004237288\n",
       "503 Flt3l     0     96      0_96  1    2360  0.0004237288\n",
       "504 Flt3l     0     99      0_99  1    2360  0.0004237288\n",
       "505 Flt3l     0     102     0_102 1    2360  0.0004237288\n",
       "506 Flt3l     0     108     0_108 1    2360  0.0004237288\n",
       "507 Flt3l     0     120     0_120 1    2360  0.0004237288"
      ]
     },
     "metadata": {},
     "output_type": "display_data"
    }
   ],
   "source": [
    "counts.norm.sizes = counts.norm[order(counts.norm[,\"norm\"], decreasing=T),]\n",
    "counts.norm.sizes"
   ]
  },
  {
   "cell_type": "code",
   "execution_count": 10,
   "id": "67b08dba",
   "metadata": {
    "execution": {
     "iopub.execute_input": "2021-12-03T02:55:27.433016Z",
     "iopub.status.busy": "2021-12-03T02:55:27.430012Z",
     "iopub.status.idle": "2021-12-03T02:55:27.554514Z",
     "shell.execute_reply": "2021-12-03T02:55:27.553651Z"
    },
    "papermill": {
     "duration": 0.216436,
     "end_time": "2021-12-03T02:55:27.554711",
     "exception": false,
     "start_time": "2021-12-03T02:55:27.338275",
     "status": "completed"
    },
    "scrolled": true,
    "tags": []
   },
   "outputs": [
    {
     "name": "stderr",
     "output_type": "stream",
     "text": [
      "`summarise()` has grouped output by 'donor'. You can override using the `.groups` argument.\n",
      "\n"
     ]
    },
    {
     "data": {
      "text/html": [
       "<table class=\"dataframe\">\n",
       "<caption>A grouped_df: 282 × 5</caption>\n",
       "<thead>\n",
       "\t<tr><th scope=col>donor</th><th scope=col>lineage</th><th scope=col>norm.total</th><th scope=col>total</th><th scope=col>name</th></tr>\n",
       "\t<tr><th scope=col>&lt;fct&gt;</th><th scope=col>&lt;fct&gt;</th><th scope=col>&lt;dbl&gt;</th><th scope=col>&lt;int&gt;</th><th scope=col>&lt;fct&gt;</th></tr>\n",
       "</thead>\n",
       "<tbody>\n",
       "\t<tr><td>2</td><td>0  </td><td>0.47479090</td><td>585</td><td>2_0  </td></tr>\n",
       "\t<tr><td>3</td><td>0  </td><td>0.29789715</td><td>404</td><td>3_0  </td></tr>\n",
       "\t<tr><td>0</td><td>0  </td><td>0.25035922</td><td>394</td><td>0_0  </td></tr>\n",
       "\t<tr><td>3</td><td>1  </td><td>0.23851293</td><td>355</td><td>3_1  </td></tr>\n",
       "\t<tr><td>2</td><td>2  </td><td>0.22694045</td><td>240</td><td>2_2  </td></tr>\n",
       "\t<tr><td>1</td><td>1  </td><td>0.21352297</td><td>312</td><td>1_1  </td></tr>\n",
       "\t<tr><td>2</td><td>1  </td><td>0.19838017</td><td>221</td><td>2_1  </td></tr>\n",
       "\t<tr><td>0</td><td>1  </td><td>0.18879978</td><td>331</td><td>0_1  </td></tr>\n",
       "\t<tr><td>2</td><td>44 </td><td>0.18716126</td><td>153</td><td>2_44 </td></tr>\n",
       "\t<tr><td>1</td><td>0  </td><td>0.18040627</td><td>298</td><td>1_0  </td></tr>\n",
       "\t<tr><td>1</td><td>3  </td><td>0.15172526</td><td>228</td><td>1_3  </td></tr>\n",
       "\t<tr><td>3</td><td>2  </td><td>0.15111952</td><td>196</td><td>3_2  </td></tr>\n",
       "\t<tr><td>0</td><td>3  </td><td>0.14566888</td><td>249</td><td>0_3  </td></tr>\n",
       "\t<tr><td>1</td><td>6  </td><td>0.13522866</td><td>188</td><td>1_6  </td></tr>\n",
       "\t<tr><td>1</td><td>2  </td><td>0.13515722</td><td>214</td><td>1_2  </td></tr>\n",
       "\t<tr><td>0</td><td>2  </td><td>0.12831652</td><td>257</td><td>0_2  </td></tr>\n",
       "\t<tr><td>1</td><td>4  </td><td>0.12764837</td><td>146</td><td>1_4  </td></tr>\n",
       "\t<tr><td>2</td><td>3  </td><td>0.12406602</td><td>137</td><td>2_3  </td></tr>\n",
       "\t<tr><td>3</td><td>3  </td><td>0.11321742</td><td>144</td><td>3_3  </td></tr>\n",
       "\t<tr><td>1</td><td>5  </td><td>0.10662523</td><td>174</td><td>1_5  </td></tr>\n",
       "\t<tr><td>1</td><td>10 </td><td>0.10413844</td><td>163</td><td>1_10 </td></tr>\n",
       "\t<tr><td>1</td><td>9  </td><td>0.10363577</td><td>188</td><td>1_9  </td></tr>\n",
       "\t<tr><td>1</td><td>7  </td><td>0.09930418</td><td>164</td><td>1_7  </td></tr>\n",
       "\t<tr><td>2</td><td>5  </td><td>0.09473904</td><td>102</td><td>2_5  </td></tr>\n",
       "\t<tr><td>1</td><td>8  </td><td>0.09320535</td><td>183</td><td>1_8  </td></tr>\n",
       "\t<tr><td>0</td><td>4  </td><td>0.09251217</td><td>185</td><td>0_4  </td></tr>\n",
       "\t<tr><td>1</td><td>13 </td><td>0.09207397</td><td>142</td><td>1_13 </td></tr>\n",
       "\t<tr><td>1</td><td>14 </td><td>0.09152282</td><td>132</td><td>1_14 </td></tr>\n",
       "\t<tr><td>0</td><td>103</td><td>0.08034573</td><td>124</td><td>0_103</td></tr>\n",
       "\t<tr><td>1</td><td>11 </td><td>0.07906591</td><td>138</td><td>1_11 </td></tr>\n",
       "\t<tr><td>⋮</td><td>⋮</td><td>⋮</td><td>⋮</td><td>⋮</td></tr>\n",
       "\t<tr><td>0</td><td>73 </td><td>0.0012887807</td><td>2</td><td>0_73 </td></tr>\n",
       "\t<tr><td>0</td><td>102</td><td>0.0012887807</td><td>2</td><td>0_102</td></tr>\n",
       "\t<tr><td>0</td><td>53 </td><td>0.0012711864</td><td>3</td><td>0_53 </td></tr>\n",
       "\t<tr><td>0</td><td>54 </td><td>0.0012711864</td><td>3</td><td>0_54 </td></tr>\n",
       "\t<tr><td>0</td><td>60 </td><td>0.0012711864</td><td>3</td><td>0_60 </td></tr>\n",
       "\t<tr><td>3</td><td>60 </td><td>0.0010695187</td><td>1</td><td>3_60 </td></tr>\n",
       "\t<tr><td>3</td><td>54 </td><td>0.0010655301</td><td>2</td><td>3_54 </td></tr>\n",
       "\t<tr><td>3</td><td>61 </td><td>0.0010655301</td><td>2</td><td>3_61 </td></tr>\n",
       "\t<tr><td>0</td><td>80 </td><td>0.0008650519</td><td>1</td><td>0_80 </td></tr>\n",
       "\t<tr><td>0</td><td>79 </td><td>0.0008474576</td><td>2</td><td>0_79 </td></tr>\n",
       "\t<tr><td>0</td><td>85 </td><td>0.0008474576</td><td>2</td><td>0_85 </td></tr>\n",
       "\t<tr><td>0</td><td>87 </td><td>0.0008474576</td><td>2</td><td>0_87 </td></tr>\n",
       "\t<tr><td>0</td><td>90 </td><td>0.0008474576</td><td>2</td><td>0_90 </td></tr>\n",
       "\t<tr><td>0</td><td>110</td><td>0.0008474576</td><td>2</td><td>0_110</td></tr>\n",
       "\t<tr><td>0</td><td>114</td><td>0.0008474576</td><td>2</td><td>0_114</td></tr>\n",
       "\t<tr><td>0</td><td>115</td><td>0.0008474576</td><td>2</td><td>0_115</td></tr>\n",
       "\t<tr><td>0</td><td>123</td><td>0.0008474576</td><td>2</td><td>0_123</td></tr>\n",
       "\t<tr><td>2</td><td>41 </td><td>0.0006830601</td><td>1</td><td>2_41 </td></tr>\n",
       "\t<tr><td>3</td><td>50 </td><td>0.0005327651</td><td>1</td><td>3_50 </td></tr>\n",
       "\t<tr><td>3</td><td>58 </td><td>0.0005327651</td><td>1</td><td>3_58 </td></tr>\n",
       "\t<tr><td>3</td><td>63 </td><td>0.0005327651</td><td>1</td><td>3_63 </td></tr>\n",
       "\t<tr><td>1</td><td>20 </td><td>0.0004312204</td><td>1</td><td>1_20 </td></tr>\n",
       "\t<tr><td>0</td><td>71 </td><td>0.0004237288</td><td>1</td><td>0_71 </td></tr>\n",
       "\t<tr><td>0</td><td>77 </td><td>0.0004237288</td><td>1</td><td>0_77 </td></tr>\n",
       "\t<tr><td>0</td><td>82 </td><td>0.0004237288</td><td>1</td><td>0_82 </td></tr>\n",
       "\t<tr><td>0</td><td>93 </td><td>0.0004237288</td><td>1</td><td>0_93 </td></tr>\n",
       "\t<tr><td>0</td><td>96 </td><td>0.0004237288</td><td>1</td><td>0_96 </td></tr>\n",
       "\t<tr><td>0</td><td>99 </td><td>0.0004237288</td><td>1</td><td>0_99 </td></tr>\n",
       "\t<tr><td>0</td><td>108</td><td>0.0004237288</td><td>1</td><td>0_108</td></tr>\n",
       "\t<tr><td>0</td><td>120</td><td>0.0004237288</td><td>1</td><td>0_120</td></tr>\n",
       "</tbody>\n",
       "</table>\n"
      ],
      "text/latex": [
       "A grouped\\_df: 282 × 5\n",
       "\\begin{tabular}{lllll}\n",
       " donor & lineage & norm.total & total & name\\\\\n",
       " <fct> & <fct> & <dbl> & <int> & <fct>\\\\\n",
       "\\hline\n",
       "\t 2 & 0   & 0.47479090 & 585 & 2\\_0  \\\\\n",
       "\t 3 & 0   & 0.29789715 & 404 & 3\\_0  \\\\\n",
       "\t 0 & 0   & 0.25035922 & 394 & 0\\_0  \\\\\n",
       "\t 3 & 1   & 0.23851293 & 355 & 3\\_1  \\\\\n",
       "\t 2 & 2   & 0.22694045 & 240 & 2\\_2  \\\\\n",
       "\t 1 & 1   & 0.21352297 & 312 & 1\\_1  \\\\\n",
       "\t 2 & 1   & 0.19838017 & 221 & 2\\_1  \\\\\n",
       "\t 0 & 1   & 0.18879978 & 331 & 0\\_1  \\\\\n",
       "\t 2 & 44  & 0.18716126 & 153 & 2\\_44 \\\\\n",
       "\t 1 & 0   & 0.18040627 & 298 & 1\\_0  \\\\\n",
       "\t 1 & 3   & 0.15172526 & 228 & 1\\_3  \\\\\n",
       "\t 3 & 2   & 0.15111952 & 196 & 3\\_2  \\\\\n",
       "\t 0 & 3   & 0.14566888 & 249 & 0\\_3  \\\\\n",
       "\t 1 & 6   & 0.13522866 & 188 & 1\\_6  \\\\\n",
       "\t 1 & 2   & 0.13515722 & 214 & 1\\_2  \\\\\n",
       "\t 0 & 2   & 0.12831652 & 257 & 0\\_2  \\\\\n",
       "\t 1 & 4   & 0.12764837 & 146 & 1\\_4  \\\\\n",
       "\t 2 & 3   & 0.12406602 & 137 & 2\\_3  \\\\\n",
       "\t 3 & 3   & 0.11321742 & 144 & 3\\_3  \\\\\n",
       "\t 1 & 5   & 0.10662523 & 174 & 1\\_5  \\\\\n",
       "\t 1 & 10  & 0.10413844 & 163 & 1\\_10 \\\\\n",
       "\t 1 & 9   & 0.10363577 & 188 & 1\\_9  \\\\\n",
       "\t 1 & 7   & 0.09930418 & 164 & 1\\_7  \\\\\n",
       "\t 2 & 5   & 0.09473904 & 102 & 2\\_5  \\\\\n",
       "\t 1 & 8   & 0.09320535 & 183 & 1\\_8  \\\\\n",
       "\t 0 & 4   & 0.09251217 & 185 & 0\\_4  \\\\\n",
       "\t 1 & 13  & 0.09207397 & 142 & 1\\_13 \\\\\n",
       "\t 1 & 14  & 0.09152282 & 132 & 1\\_14 \\\\\n",
       "\t 0 & 103 & 0.08034573 & 124 & 0\\_103\\\\\n",
       "\t 1 & 11  & 0.07906591 & 138 & 1\\_11 \\\\\n",
       "\t ⋮ & ⋮ & ⋮ & ⋮ & ⋮\\\\\n",
       "\t 0 & 73  & 0.0012887807 & 2 & 0\\_73 \\\\\n",
       "\t 0 & 102 & 0.0012887807 & 2 & 0\\_102\\\\\n",
       "\t 0 & 53  & 0.0012711864 & 3 & 0\\_53 \\\\\n",
       "\t 0 & 54  & 0.0012711864 & 3 & 0\\_54 \\\\\n",
       "\t 0 & 60  & 0.0012711864 & 3 & 0\\_60 \\\\\n",
       "\t 3 & 60  & 0.0010695187 & 1 & 3\\_60 \\\\\n",
       "\t 3 & 54  & 0.0010655301 & 2 & 3\\_54 \\\\\n",
       "\t 3 & 61  & 0.0010655301 & 2 & 3\\_61 \\\\\n",
       "\t 0 & 80  & 0.0008650519 & 1 & 0\\_80 \\\\\n",
       "\t 0 & 79  & 0.0008474576 & 2 & 0\\_79 \\\\\n",
       "\t 0 & 85  & 0.0008474576 & 2 & 0\\_85 \\\\\n",
       "\t 0 & 87  & 0.0008474576 & 2 & 0\\_87 \\\\\n",
       "\t 0 & 90  & 0.0008474576 & 2 & 0\\_90 \\\\\n",
       "\t 0 & 110 & 0.0008474576 & 2 & 0\\_110\\\\\n",
       "\t 0 & 114 & 0.0008474576 & 2 & 0\\_114\\\\\n",
       "\t 0 & 115 & 0.0008474576 & 2 & 0\\_115\\\\\n",
       "\t 0 & 123 & 0.0008474576 & 2 & 0\\_123\\\\\n",
       "\t 2 & 41  & 0.0006830601 & 1 & 2\\_41 \\\\\n",
       "\t 3 & 50  & 0.0005327651 & 1 & 3\\_50 \\\\\n",
       "\t 3 & 58  & 0.0005327651 & 1 & 3\\_58 \\\\\n",
       "\t 3 & 63  & 0.0005327651 & 1 & 3\\_63 \\\\\n",
       "\t 1 & 20  & 0.0004312204 & 1 & 1\\_20 \\\\\n",
       "\t 0 & 71  & 0.0004237288 & 1 & 0\\_71 \\\\\n",
       "\t 0 & 77  & 0.0004237288 & 1 & 0\\_77 \\\\\n",
       "\t 0 & 82  & 0.0004237288 & 1 & 0\\_82 \\\\\n",
       "\t 0 & 93  & 0.0004237288 & 1 & 0\\_93 \\\\\n",
       "\t 0 & 96  & 0.0004237288 & 1 & 0\\_96 \\\\\n",
       "\t 0 & 99  & 0.0004237288 & 1 & 0\\_99 \\\\\n",
       "\t 0 & 108 & 0.0004237288 & 1 & 0\\_108\\\\\n",
       "\t 0 & 120 & 0.0004237288 & 1 & 0\\_120\\\\\n",
       "\\end{tabular}\n"
      ],
      "text/markdown": [
       "\n",
       "A grouped_df: 282 × 5\n",
       "\n",
       "| donor &lt;fct&gt; | lineage &lt;fct&gt; | norm.total &lt;dbl&gt; | total &lt;int&gt; | name &lt;fct&gt; |\n",
       "|---|---|---|---|---|\n",
       "| 2 | 0   | 0.47479090 | 585 | 2_0   |\n",
       "| 3 | 0   | 0.29789715 | 404 | 3_0   |\n",
       "| 0 | 0   | 0.25035922 | 394 | 0_0   |\n",
       "| 3 | 1   | 0.23851293 | 355 | 3_1   |\n",
       "| 2 | 2   | 0.22694045 | 240 | 2_2   |\n",
       "| 1 | 1   | 0.21352297 | 312 | 1_1   |\n",
       "| 2 | 1   | 0.19838017 | 221 | 2_1   |\n",
       "| 0 | 1   | 0.18879978 | 331 | 0_1   |\n",
       "| 2 | 44  | 0.18716126 | 153 | 2_44  |\n",
       "| 1 | 0   | 0.18040627 | 298 | 1_0   |\n",
       "| 1 | 3   | 0.15172526 | 228 | 1_3   |\n",
       "| 3 | 2   | 0.15111952 | 196 | 3_2   |\n",
       "| 0 | 3   | 0.14566888 | 249 | 0_3   |\n",
       "| 1 | 6   | 0.13522866 | 188 | 1_6   |\n",
       "| 1 | 2   | 0.13515722 | 214 | 1_2   |\n",
       "| 0 | 2   | 0.12831652 | 257 | 0_2   |\n",
       "| 1 | 4   | 0.12764837 | 146 | 1_4   |\n",
       "| 2 | 3   | 0.12406602 | 137 | 2_3   |\n",
       "| 3 | 3   | 0.11321742 | 144 | 3_3   |\n",
       "| 1 | 5   | 0.10662523 | 174 | 1_5   |\n",
       "| 1 | 10  | 0.10413844 | 163 | 1_10  |\n",
       "| 1 | 9   | 0.10363577 | 188 | 1_9   |\n",
       "| 1 | 7   | 0.09930418 | 164 | 1_7   |\n",
       "| 2 | 5   | 0.09473904 | 102 | 2_5   |\n",
       "| 1 | 8   | 0.09320535 | 183 | 1_8   |\n",
       "| 0 | 4   | 0.09251217 | 185 | 0_4   |\n",
       "| 1 | 13  | 0.09207397 | 142 | 1_13  |\n",
       "| 1 | 14  | 0.09152282 | 132 | 1_14  |\n",
       "| 0 | 103 | 0.08034573 | 124 | 0_103 |\n",
       "| 1 | 11  | 0.07906591 | 138 | 1_11  |\n",
       "| ⋮ | ⋮ | ⋮ | ⋮ | ⋮ |\n",
       "| 0 | 73  | 0.0012887807 | 2 | 0_73  |\n",
       "| 0 | 102 | 0.0012887807 | 2 | 0_102 |\n",
       "| 0 | 53  | 0.0012711864 | 3 | 0_53  |\n",
       "| 0 | 54  | 0.0012711864 | 3 | 0_54  |\n",
       "| 0 | 60  | 0.0012711864 | 3 | 0_60  |\n",
       "| 3 | 60  | 0.0010695187 | 1 | 3_60  |\n",
       "| 3 | 54  | 0.0010655301 | 2 | 3_54  |\n",
       "| 3 | 61  | 0.0010655301 | 2 | 3_61  |\n",
       "| 0 | 80  | 0.0008650519 | 1 | 0_80  |\n",
       "| 0 | 79  | 0.0008474576 | 2 | 0_79  |\n",
       "| 0 | 85  | 0.0008474576 | 2 | 0_85  |\n",
       "| 0 | 87  | 0.0008474576 | 2 | 0_87  |\n",
       "| 0 | 90  | 0.0008474576 | 2 | 0_90  |\n",
       "| 0 | 110 | 0.0008474576 | 2 | 0_110 |\n",
       "| 0 | 114 | 0.0008474576 | 2 | 0_114 |\n",
       "| 0 | 115 | 0.0008474576 | 2 | 0_115 |\n",
       "| 0 | 123 | 0.0008474576 | 2 | 0_123 |\n",
       "| 2 | 41  | 0.0006830601 | 1 | 2_41  |\n",
       "| 3 | 50  | 0.0005327651 | 1 | 3_50  |\n",
       "| 3 | 58  | 0.0005327651 | 1 | 3_58  |\n",
       "| 3 | 63  | 0.0005327651 | 1 | 3_63  |\n",
       "| 1 | 20  | 0.0004312204 | 1 | 1_20  |\n",
       "| 0 | 71  | 0.0004237288 | 1 | 0_71  |\n",
       "| 0 | 77  | 0.0004237288 | 1 | 0_77  |\n",
       "| 0 | 82  | 0.0004237288 | 1 | 0_82  |\n",
       "| 0 | 93  | 0.0004237288 | 1 | 0_93  |\n",
       "| 0 | 96  | 0.0004237288 | 1 | 0_96  |\n",
       "| 0 | 99  | 0.0004237288 | 1 | 0_99  |\n",
       "| 0 | 108 | 0.0004237288 | 1 | 0_108 |\n",
       "| 0 | 120 | 0.0004237288 | 1 | 0_120 |\n",
       "\n"
      ],
      "text/plain": [
       "    donor lineage norm.total   total name \n",
       "1   2     0       0.47479090   585   2_0  \n",
       "2   3     0       0.29789715   404   3_0  \n",
       "3   0     0       0.25035922   394   0_0  \n",
       "4   3     1       0.23851293   355   3_1  \n",
       "5   2     2       0.22694045   240   2_2  \n",
       "6   1     1       0.21352297   312   1_1  \n",
       "7   2     1       0.19838017   221   2_1  \n",
       "8   0     1       0.18879978   331   0_1  \n",
       "9   2     44      0.18716126   153   2_44 \n",
       "10  1     0       0.18040627   298   1_0  \n",
       "11  1     3       0.15172526   228   1_3  \n",
       "12  3     2       0.15111952   196   3_2  \n",
       "13  0     3       0.14566888   249   0_3  \n",
       "14  1     6       0.13522866   188   1_6  \n",
       "15  1     2       0.13515722   214   1_2  \n",
       "16  0     2       0.12831652   257   0_2  \n",
       "17  1     4       0.12764837   146   1_4  \n",
       "18  2     3       0.12406602   137   2_3  \n",
       "19  3     3       0.11321742   144   3_3  \n",
       "20  1     5       0.10662523   174   1_5  \n",
       "21  1     10      0.10413844   163   1_10 \n",
       "22  1     9       0.10363577   188   1_9  \n",
       "23  1     7       0.09930418   164   1_7  \n",
       "24  2     5       0.09473904   102   2_5  \n",
       "25  1     8       0.09320535   183   1_8  \n",
       "26  0     4       0.09251217   185   0_4  \n",
       "27  1     13      0.09207397   142   1_13 \n",
       "28  1     14      0.09152282   132   1_14 \n",
       "29  0     103     0.08034573   124   0_103\n",
       "30  1     11      0.07906591   138   1_11 \n",
       "⋮   ⋮     ⋮       ⋮            ⋮     ⋮    \n",
       "253 0     73      0.0012887807 2     0_73 \n",
       "254 0     102     0.0012887807 2     0_102\n",
       "255 0     53      0.0012711864 3     0_53 \n",
       "256 0     54      0.0012711864 3     0_54 \n",
       "257 0     60      0.0012711864 3     0_60 \n",
       "258 3     60      0.0010695187 1     3_60 \n",
       "259 3     54      0.0010655301 2     3_54 \n",
       "260 3     61      0.0010655301 2     3_61 \n",
       "261 0     80      0.0008650519 1     0_80 \n",
       "262 0     79      0.0008474576 2     0_79 \n",
       "263 0     85      0.0008474576 2     0_85 \n",
       "264 0     87      0.0008474576 2     0_87 \n",
       "265 0     90      0.0008474576 2     0_90 \n",
       "266 0     110     0.0008474576 2     0_110\n",
       "267 0     114     0.0008474576 2     0_114\n",
       "268 0     115     0.0008474576 2     0_115\n",
       "269 0     123     0.0008474576 2     0_123\n",
       "270 2     41      0.0006830601 1     2_41 \n",
       "271 3     50      0.0005327651 1     3_50 \n",
       "272 3     58      0.0005327651 1     3_58 \n",
       "273 3     63      0.0005327651 1     3_63 \n",
       "274 1     20      0.0004312204 1     1_20 \n",
       "275 0     71      0.0004237288 1     0_71 \n",
       "276 0     77      0.0004237288 1     0_77 \n",
       "277 0     82      0.0004237288 1     0_82 \n",
       "278 0     93      0.0004237288 1     0_93 \n",
       "279 0     96      0.0004237288 1     0_96 \n",
       "280 0     99      0.0004237288 1     0_99 \n",
       "281 0     108     0.0004237288 1     0_108\n",
       "282 0     120     0.0004237288 1     0_120"
      ]
     },
     "metadata": {},
     "output_type": "display_data"
    }
   ],
   "source": [
    "clone.sizes <- counts.norm.sizes %>% \n",
    "               group_by(donor,lineage) %>% \n",
    "               summarize(norm.total=sum(norm), total=sum(size)) %>% \n",
    "               arrange(desc(norm.total)) %>% \n",
    "               mutate(name=factor(paste0(donor,\"_\", lineage)))\n",
    "\n",
    "\n",
    "clone.sizes"
   ]
  },
  {
   "cell_type": "code",
   "execution_count": 11,
   "id": "c5259eb4",
   "metadata": {
    "execution": {
     "iopub.execute_input": "2021-12-03T02:55:27.748802Z",
     "iopub.status.busy": "2021-12-03T02:55:27.745508Z",
     "iopub.status.idle": "2021-12-03T02:55:27.775948Z",
     "shell.execute_reply": "2021-12-03T02:55:27.774727Z"
    },
    "papermill": {
     "duration": 0.127688,
     "end_time": "2021-12-03T02:55:27.776237",
     "exception": false,
     "start_time": "2021-12-03T02:55:27.648549",
     "status": "completed"
    },
    "scrolled": true,
    "tags": []
   },
   "outputs": [],
   "source": [
    "clone.sizes <- clone.sizes %>% group_by(donor) %>% arrange(donor, desc(norm.total)) %>% \n",
    "                               mutate(cdf.norm=cumsum(norm.total)/2, cdf =cumsum(total),\n",
    "                                      index=1:n()) %>% \n",
    "                               ungroup %>% arrange(donor, desc(norm.total)) \n",
    "#head(clone.sizes,100)"
   ]
  },
  {
   "cell_type": "code",
   "execution_count": null,
   "id": "2817d47e",
   "metadata": {
    "papermill": {
     "duration": 0.088094,
     "end_time": "2021-12-03T02:55:27.958062",
     "exception": false,
     "start_time": "2021-12-03T02:55:27.869968",
     "status": "completed"
    },
    "tags": []
   },
   "outputs": [],
   "source": []
  },
  {
   "cell_type": "code",
   "execution_count": 12,
   "id": "fde9c568",
   "metadata": {
    "execution": {
     "iopub.execute_input": "2021-12-03T02:55:28.144377Z",
     "iopub.status.busy": "2021-12-03T02:55:28.140942Z",
     "iopub.status.idle": "2021-12-03T02:55:29.232522Z",
     "shell.execute_reply": "2021-12-03T02:55:29.233394Z"
    },
    "papermill": {
     "duration": 1.18763,
     "end_time": "2021-12-03T02:55:29.233669",
     "exception": false,
     "start_time": "2021-12-03T02:55:28.046039",
     "status": "completed"
    },
    "scrolled": true,
    "tags": []
   },
   "outputs": [
    {
     "name": "stderr",
     "output_type": "stream",
     "text": [
      "Saving 6.67 x 6.67 in image\n",
      "\n"
     ]
    },
    {
     "data": {
      "image/png": "[encoded data removed]",
      "text/plain": [
       "plot without title"
      ]
     },
     "metadata": {
      "image/png": {
       "height": 420,
       "width": 420
      }
     },
     "output_type": "display_data"
    }
   ],
   "source": [
    "p <- ggplot(data = clone.sizes, aes(index, cdf.norm)) +\n",
    "  geom_point(color = \"steelblue\", size = 1) +\n",
    "  facet_wrap(~ donor) \n",
    "\n",
    "p <- p + geom_hline(yintercept=cdf_thresh, color='green') \n",
    "ggsave(file.path(outdir, \"clones.cdf.png\"))\n",
    "p\n"
   ]
  },
  {
   "cell_type": "code",
   "execution_count": 13,
   "id": "10e0018a",
   "metadata": {
    "execution": {
     "iopub.execute_input": "2021-12-03T02:55:29.428981Z",
     "iopub.status.busy": "2021-12-03T02:55:29.425789Z",
     "iopub.status.idle": "2021-12-03T02:55:29.452525Z",
     "shell.execute_reply": "2021-12-03T02:55:29.451558Z"
    },
    "papermill": {
     "duration": 0.123904,
     "end_time": "2021-12-03T02:55:29.452645",
     "exception": false,
     "start_time": "2021-12-03T02:55:29.328741",
     "status": "completed"
    },
    "tags": []
   },
   "outputs": [
    {
     "data": {
      "text/html": [
       "0.106761484112464"
      ],
      "text/latex": [
       "0.106761484112464"
      ],
      "text/markdown": [
       "0.106761484112464"
      ],
      "text/plain": [
       "[1] 0.1067615"
      ]
     },
     "metadata": {},
     "output_type": "display_data"
    },
    {
     "data": {
      "text/html": [
       "1"
      ],
      "text/latex": [
       "1"
      ],
      "text/markdown": [
       "1"
      ],
      "text/plain": [
       "[1] 1"
      ]
     },
     "metadata": {},
     "output_type": "display_data"
    }
   ],
   "source": [
    "min(clone.sizes$cdf.norm)\n",
    "max(clone.sizes$cdf.norm)"
   ]
  },
  {
   "cell_type": "code",
   "execution_count": 14,
   "id": "d172f01e",
   "metadata": {
    "execution": {
     "iopub.execute_input": "2021-12-03T02:55:29.654025Z",
     "iopub.status.busy": "2021-12-03T02:55:29.650723Z",
     "iopub.status.idle": "2021-12-03T02:55:29.754931Z",
     "shell.execute_reply": "2021-12-03T02:55:29.755864Z"
    },
    "papermill": {
     "duration": 0.207184,
     "end_time": "2021-12-03T02:55:29.756198",
     "exception": false,
     "start_time": "2021-12-03T02:55:29.549014",
     "status": "completed"
    },
    "scrolled": true,
    "tags": []
   },
   "outputs": [
    {
     "data": {
      "text/html": [
       "<table class=\"dataframe\">\n",
       "<caption>A tibble: 282 × 8</caption>\n",
       "<thead>\n",
       "\t<tr><th scope=col>donor</th><th scope=col>lineage</th><th scope=col>norm.total</th><th scope=col>total</th><th scope=col>name</th><th scope=col>cdf.norm</th><th scope=col>cdf</th><th scope=col>index</th></tr>\n",
       "\t<tr><th scope=col>&lt;fct&gt;</th><th scope=col>&lt;fct&gt;</th><th scope=col>&lt;dbl&gt;</th><th scope=col>&lt;int&gt;</th><th scope=col>&lt;fct&gt;</th><th scope=col>&lt;dbl&gt;</th><th scope=col>&lt;int&gt;</th><th scope=col>&lt;int&gt;</th></tr>\n",
       "</thead>\n",
       "<tbody>\n",
       "\t<tr><td>0</td><td>0  </td><td>0.25035922</td><td>394</td><td>0_0  </td><td>0.1251796</td><td> 394</td><td> 1</td></tr>\n",
       "\t<tr><td>0</td><td>1  </td><td>0.18879978</td><td>331</td><td>0_1  </td><td>0.2195795</td><td> 725</td><td> 2</td></tr>\n",
       "\t<tr><td>0</td><td>3  </td><td>0.14566888</td><td>249</td><td>0_3  </td><td>0.2924139</td><td> 974</td><td> 3</td></tr>\n",
       "\t<tr><td>0</td><td>2  </td><td>0.12831652</td><td>257</td><td>0_2  </td><td>0.3565722</td><td>1231</td><td> 4</td></tr>\n",
       "\t<tr><td>0</td><td>4  </td><td>0.09251217</td><td>185</td><td>0_4  </td><td>0.4028283</td><td>1416</td><td> 5</td></tr>\n",
       "\t<tr><td>0</td><td>103</td><td>0.08034573</td><td>124</td><td>0_103</td><td>0.4430011</td><td>1540</td><td> 6</td></tr>\n",
       "\t<tr><td>0</td><td>5  </td><td>0.07286230</td><td>148</td><td>0_5  </td><td>0.4794323</td><td>1688</td><td> 7</td></tr>\n",
       "\t<tr><td>0</td><td>105</td><td>0.06156091</td><td> 88</td><td>0_105</td><td>0.5102127</td><td>1776</td><td> 8</td></tr>\n",
       "\t<tr><td>0</td><td>6  </td><td>0.05236496</td><td>109</td><td>0_6  </td><td>0.5363952</td><td>1885</td><td> 9</td></tr>\n",
       "\t<tr><td>0</td><td>7  </td><td>0.05157029</td><td>104</td><td>0_7  </td><td>0.5621804</td><td>1989</td><td>10</td></tr>\n",
       "\t<tr><td>0</td><td>8  </td><td>0.04682130</td><td> 98</td><td>0_8  </td><td>0.5855910</td><td>2087</td><td>11</td></tr>\n",
       "\t<tr><td>0</td><td>121</td><td>0.04600757</td><td> 69</td><td>0_121</td><td>0.6085948</td><td>2156</td><td>12</td></tr>\n",
       "\t<tr><td>0</td><td>10 </td><td>0.03880564</td><td> 77</td><td>0_10 </td><td>0.6279976</td><td>2233</td><td>13</td></tr>\n",
       "\t<tr><td>0</td><td>109</td><td>0.03785115</td><td> 56</td><td>0_109</td><td>0.6469232</td><td>2289</td><td>14</td></tr>\n",
       "\t<tr><td>0</td><td>9  </td><td>0.03756964</td><td> 72</td><td>0_9  </td><td>0.6657080</td><td>2361</td><td>15</td></tr>\n",
       "\t<tr><td>0</td><td>13 </td><td>0.03161985</td><td> 59</td><td>0_13 </td><td>0.6815179</td><td>2420</td><td>16</td></tr>\n",
       "\t<tr><td>0</td><td>11 </td><td>0.02997771</td><td> 52</td><td>0_11 </td><td>0.6965068</td><td>2472</td><td>17</td></tr>\n",
       "\t<tr><td>0</td><td>12 </td><td>0.02815964</td><td> 55</td><td>0_12 </td><td>0.7105866</td><td>2527</td><td>18</td></tr>\n",
       "\t<tr><td>0</td><td>14 </td><td>0.02471703</td><td> 50</td><td>0_14 </td><td>0.7229451</td><td>2577</td><td>19</td></tr>\n",
       "\t<tr><td>0</td><td>16 </td><td>0.02446924</td><td> 39</td><td>0_16 </td><td>0.7351798</td><td>2616</td><td>20</td></tr>\n",
       "\t<tr><td>0</td><td>112</td><td>0.02409829</td><td> 35</td><td>0_112</td><td>0.7472289</td><td>2651</td><td>21</td></tr>\n",
       "\t<tr><td>0</td><td>15 </td><td>0.02180371</td><td> 40</td><td>0_15 </td><td>0.7581308</td><td>2691</td><td>22</td></tr>\n",
       "\t<tr><td>0</td><td>17 </td><td>0.01791977</td><td> 35</td><td>0_17 </td><td>0.7670906</td><td>2726</td><td>23</td></tr>\n",
       "\t<tr><td>0</td><td>122</td><td>0.01765439</td><td> 25</td><td>0_122</td><td>0.7759178</td><td>2751</td><td>24</td></tr>\n",
       "\t<tr><td>0</td><td>97 </td><td>0.01724826</td><td> 23</td><td>0_97 </td><td>0.7845420</td><td>2774</td><td>25</td></tr>\n",
       "\t<tr><td>0</td><td>119</td><td>0.01677174</td><td> 25</td><td>0_119</td><td>0.7929278</td><td>2799</td><td>26</td></tr>\n",
       "\t<tr><td>0</td><td>18 </td><td>0.01366489</td><td> 26</td><td>0_18 </td><td>0.7997603</td><td>2825</td><td>27</td></tr>\n",
       "\t<tr><td>0</td><td>20 </td><td>0.01320597</td><td> 27</td><td>0_20 </td><td>0.8063633</td><td>2852</td><td>28</td></tr>\n",
       "\t<tr><td>0</td><td>67 </td><td>0.01294059</td><td> 17</td><td>0_67 </td><td>0.8128336</td><td>2869</td><td>29</td></tr>\n",
       "\t<tr><td>0</td><td>84 </td><td>0.01242889</td><td> 21</td><td>0_84 </td><td>0.8190480</td><td>2890</td><td>30</td></tr>\n",
       "\t<tr><td>⋮</td><td>⋮</td><td>⋮</td><td>⋮</td><td>⋮</td><td>⋮</td><td>⋮</td><td>⋮</td></tr>\n",
       "\t<tr><td>3</td><td>40</td><td>0.0037333440</td><td>6</td><td>3_40</td><td>0.9679763</td><td>2721</td><td>52</td></tr>\n",
       "\t<tr><td>3</td><td>68</td><td>0.0037333440</td><td>6</td><td>3_68</td><td>0.9698429</td><td>2727</td><td>53</td></tr>\n",
       "\t<tr><td>3</td><td>42</td><td>0.0032085561</td><td>3</td><td>3_42</td><td>0.9714472</td><td>2730</td><td>54</td></tr>\n",
       "\t<tr><td>3</td><td>35</td><td>0.0032005789</td><td>5</td><td>3_35</td><td>0.9730475</td><td>2735</td><td>55</td></tr>\n",
       "\t<tr><td>3</td><td>36</td><td>0.0032005789</td><td>5</td><td>3_36</td><td>0.9746478</td><td>2740</td><td>56</td></tr>\n",
       "\t<tr><td>3</td><td>37</td><td>0.0032005789</td><td>5</td><td>3_37</td><td>0.9762481</td><td>2745</td><td>57</td></tr>\n",
       "\t<tr><td>3</td><td>41</td><td>0.0026718025</td><td>3</td><td>3_41</td><td>0.9775840</td><td>2748</td><td>58</td></tr>\n",
       "\t<tr><td>3</td><td>48</td><td>0.0026718025</td><td>3</td><td>3_48</td><td>0.9789199</td><td>2751</td><td>59</td></tr>\n",
       "\t<tr><td>3</td><td>49</td><td>0.0026718025</td><td>3</td><td>3_49</td><td>0.9802558</td><td>2754</td><td>60</td></tr>\n",
       "\t<tr><td>3</td><td>52</td><td>0.0026718025</td><td>3</td><td>3_52</td><td>0.9815917</td><td>2757</td><td>61</td></tr>\n",
       "\t<tr><td>3</td><td>53</td><td>0.0026718025</td><td>3</td><td>3_53</td><td>0.9829276</td><td>2760</td><td>62</td></tr>\n",
       "\t<tr><td>3</td><td>65</td><td>0.0026718025</td><td>3</td><td>3_65</td><td>0.9842635</td><td>2763</td><td>63</td></tr>\n",
       "\t<tr><td>3</td><td>38</td><td>0.0026678139</td><td>4</td><td>3_38</td><td>0.9855974</td><td>2767</td><td>64</td></tr>\n",
       "\t<tr><td>3</td><td>64</td><td>0.0026678139</td><td>4</td><td>3_64</td><td>0.9869313</td><td>2771</td><td>65</td></tr>\n",
       "\t<tr><td>3</td><td>69</td><td>0.0026678139</td><td>4</td><td>3_69</td><td>0.9882652</td><td>2775</td><td>66</td></tr>\n",
       "\t<tr><td>3</td><td>56</td><td>0.0026638253</td><td>5</td><td>3_56</td><td>0.9895971</td><td>2780</td><td>67</td></tr>\n",
       "\t<tr><td>3</td><td>62</td><td>0.0021390374</td><td>2</td><td>3_62</td><td>0.9906666</td><td>2782</td><td>68</td></tr>\n",
       "\t<tr><td>3</td><td>81</td><td>0.0021390374</td><td>2</td><td>3_81</td><td>0.9917362</td><td>2784</td><td>69</td></tr>\n",
       "\t<tr><td>3</td><td>47</td><td>0.0021350488</td><td>3</td><td>3_47</td><td>0.9928037</td><td>2787</td><td>70</td></tr>\n",
       "\t<tr><td>3</td><td>67</td><td>0.0021350488</td><td>3</td><td>3_67</td><td>0.9938712</td><td>2790</td><td>71</td></tr>\n",
       "\t<tr><td>3</td><td>73</td><td>0.0021310602</td><td>4</td><td>3_73</td><td>0.9949367</td><td>2794</td><td>72</td></tr>\n",
       "\t<tr><td>3</td><td>79</td><td>0.0021310602</td><td>4</td><td>3_79</td><td>0.9960023</td><td>2798</td><td>73</td></tr>\n",
       "\t<tr><td>3</td><td>46</td><td>0.0015982952</td><td>3</td><td>3_46</td><td>0.9968014</td><td>2801</td><td>74</td></tr>\n",
       "\t<tr><td>3</td><td>78</td><td>0.0015982952</td><td>3</td><td>3_78</td><td>0.9976006</td><td>2804</td><td>75</td></tr>\n",
       "\t<tr><td>3</td><td>60</td><td>0.0010695187</td><td>1</td><td>3_60</td><td>0.9981353</td><td>2805</td><td>76</td></tr>\n",
       "\t<tr><td>3</td><td>54</td><td>0.0010655301</td><td>2</td><td>3_54</td><td>0.9986681</td><td>2807</td><td>77</td></tr>\n",
       "\t<tr><td>3</td><td>61</td><td>0.0010655301</td><td>2</td><td>3_61</td><td>0.9992009</td><td>2809</td><td>78</td></tr>\n",
       "\t<tr><td>3</td><td>50</td><td>0.0005327651</td><td>1</td><td>3_50</td><td>0.9994672</td><td>2810</td><td>79</td></tr>\n",
       "\t<tr><td>3</td><td>58</td><td>0.0005327651</td><td>1</td><td>3_58</td><td>0.9997336</td><td>2811</td><td>80</td></tr>\n",
       "\t<tr><td>3</td><td>63</td><td>0.0005327651</td><td>1</td><td>3_63</td><td>1.0000000</td><td>2812</td><td>81</td></tr>\n",
       "</tbody>\n",
       "</table>\n"
      ],
      "text/latex": [
       "A tibble: 282 × 8\n",
       "\\begin{tabular}{llllllll}\n",
       " donor & lineage & norm.total & total & name & cdf.norm & cdf & index\\\\\n",
       " <fct> & <fct> & <dbl> & <int> & <fct> & <dbl> & <int> & <int>\\\\\n",
       "\\hline\n",
       "\t 0 & 0   & 0.25035922 & 394 & 0\\_0   & 0.1251796 &  394 &  1\\\\\n",
       "\t 0 & 1   & 0.18879978 & 331 & 0\\_1   & 0.2195795 &  725 &  2\\\\\n",
       "\t 0 & 3   & 0.14566888 & 249 & 0\\_3   & 0.2924139 &  974 &  3\\\\\n",
       "\t 0 & 2   & 0.12831652 & 257 & 0\\_2   & 0.3565722 & 1231 &  4\\\\\n",
       "\t 0 & 4   & 0.09251217 & 185 & 0\\_4   & 0.4028283 & 1416 &  5\\\\\n",
       "\t 0 & 103 & 0.08034573 & 124 & 0\\_103 & 0.4430011 & 1540 &  6\\\\\n",
       "\t 0 & 5   & 0.07286230 & 148 & 0\\_5   & 0.4794323 & 1688 &  7\\\\\n",
       "\t 0 & 105 & 0.06156091 &  88 & 0\\_105 & 0.5102127 & 1776 &  8\\\\\n",
       "\t 0 & 6   & 0.05236496 & 109 & 0\\_6   & 0.5363952 & 1885 &  9\\\\\n",
       "\t 0 & 7   & 0.05157029 & 104 & 0\\_7   & 0.5621804 & 1989 & 10\\\\\n",
       "\t 0 & 8   & 0.04682130 &  98 & 0\\_8   & 0.5855910 & 2087 & 11\\\\\n",
       "\t 0 & 121 & 0.04600757 &  69 & 0\\_121 & 0.6085948 & 2156 & 12\\\\\n",
       "\t 0 & 10  & 0.03880564 &  77 & 0\\_10  & 0.6279976 & 2233 & 13\\\\\n",
       "\t 0 & 109 & 0.03785115 &  56 & 0\\_109 & 0.6469232 & 2289 & 14\\\\\n",
       "\t 0 & 9   & 0.03756964 &  72 & 0\\_9   & 0.6657080 & 2361 & 15\\\\\n",
       "\t 0 & 13  & 0.03161985 &  59 & 0\\_13  & 0.6815179 & 2420 & 16\\\\\n",
       "\t 0 & 11  & 0.02997771 &  52 & 0\\_11  & 0.6965068 & 2472 & 17\\\\\n",
       "\t 0 & 12  & 0.02815964 &  55 & 0\\_12  & 0.7105866 & 2527 & 18\\\\\n",
       "\t 0 & 14  & 0.02471703 &  50 & 0\\_14  & 0.7229451 & 2577 & 19\\\\\n",
       "\t 0 & 16  & 0.02446924 &  39 & 0\\_16  & 0.7351798 & 2616 & 20\\\\\n",
       "\t 0 & 112 & 0.02409829 &  35 & 0\\_112 & 0.7472289 & 2651 & 21\\\\\n",
       "\t 0 & 15  & 0.02180371 &  40 & 0\\_15  & 0.7581308 & 2691 & 22\\\\\n",
       "\t 0 & 17  & 0.01791977 &  35 & 0\\_17  & 0.7670906 & 2726 & 23\\\\\n",
       "\t 0 & 122 & 0.01765439 &  25 & 0\\_122 & 0.7759178 & 2751 & 24\\\\\n",
       "\t 0 & 97  & 0.01724826 &  23 & 0\\_97  & 0.7845420 & 2774 & 25\\\\\n",
       "\t 0 & 119 & 0.01677174 &  25 & 0\\_119 & 0.7929278 & 2799 & 26\\\\\n",
       "\t 0 & 18  & 0.01366489 &  26 & 0\\_18  & 0.7997603 & 2825 & 27\\\\\n",
       "\t 0 & 20  & 0.01320597 &  27 & 0\\_20  & 0.8063633 & 2852 & 28\\\\\n",
       "\t 0 & 67  & 0.01294059 &  17 & 0\\_67  & 0.8128336 & 2869 & 29\\\\\n",
       "\t 0 & 84  & 0.01242889 &  21 & 0\\_84  & 0.8190480 & 2890 & 30\\\\\n",
       "\t ⋮ & ⋮ & ⋮ & ⋮ & ⋮ & ⋮ & ⋮ & ⋮\\\\\n",
       "\t 3 & 40 & 0.0037333440 & 6 & 3\\_40 & 0.9679763 & 2721 & 52\\\\\n",
       "\t 3 & 68 & 0.0037333440 & 6 & 3\\_68 & 0.9698429 & 2727 & 53\\\\\n",
       "\t 3 & 42 & 0.0032085561 & 3 & 3\\_42 & 0.9714472 & 2730 & 54\\\\\n",
       "\t 3 & 35 & 0.0032005789 & 5 & 3\\_35 & 0.9730475 & 2735 & 55\\\\\n",
       "\t 3 & 36 & 0.0032005789 & 5 & 3\\_36 & 0.9746478 & 2740 & 56\\\\\n",
       "\t 3 & 37 & 0.0032005789 & 5 & 3\\_37 & 0.9762481 & 2745 & 57\\\\\n",
       "\t 3 & 41 & 0.0026718025 & 3 & 3\\_41 & 0.9775840 & 2748 & 58\\\\\n",
       "\t 3 & 48 & 0.0026718025 & 3 & 3\\_48 & 0.9789199 & 2751 & 59\\\\\n",
       "\t 3 & 49 & 0.0026718025 & 3 & 3\\_49 & 0.9802558 & 2754 & 60\\\\\n",
       "\t 3 & 52 & 0.0026718025 & 3 & 3\\_52 & 0.9815917 & 2757 & 61\\\\\n",
       "\t 3 & 53 & 0.0026718025 & 3 & 3\\_53 & 0.9829276 & 2760 & 62\\\\\n",
       "\t 3 & 65 & 0.0026718025 & 3 & 3\\_65 & 0.9842635 & 2763 & 63\\\\\n",
       "\t 3 & 38 & 0.0026678139 & 4 & 3\\_38 & 0.9855974 & 2767 & 64\\\\\n",
       "\t 3 & 64 & 0.0026678139 & 4 & 3\\_64 & 0.9869313 & 2771 & 65\\\\\n",
       "\t 3 & 69 & 0.0026678139 & 4 & 3\\_69 & 0.9882652 & 2775 & 66\\\\\n",
       "\t 3 & 56 & 0.0026638253 & 5 & 3\\_56 & 0.9895971 & 2780 & 67\\\\\n",
       "\t 3 & 62 & 0.0021390374 & 2 & 3\\_62 & 0.9906666 & 2782 & 68\\\\\n",
       "\t 3 & 81 & 0.0021390374 & 2 & 3\\_81 & 0.9917362 & 2784 & 69\\\\\n",
       "\t 3 & 47 & 0.0021350488 & 3 & 3\\_47 & 0.9928037 & 2787 & 70\\\\\n",
       "\t 3 & 67 & 0.0021350488 & 3 & 3\\_67 & 0.9938712 & 2790 & 71\\\\\n",
       "\t 3 & 73 & 0.0021310602 & 4 & 3\\_73 & 0.9949367 & 2794 & 72\\\\\n",
       "\t 3 & 79 & 0.0021310602 & 4 & 3\\_79 & 0.9960023 & 2798 & 73\\\\\n",
       "\t 3 & 46 & 0.0015982952 & 3 & 3\\_46 & 0.9968014 & 2801 & 74\\\\\n",
       "\t 3 & 78 & 0.0015982952 & 3 & 3\\_78 & 0.9976006 & 2804 & 75\\\\\n",
       "\t 3 & 60 & 0.0010695187 & 1 & 3\\_60 & 0.9981353 & 2805 & 76\\\\\n",
       "\t 3 & 54 & 0.0010655301 & 2 & 3\\_54 & 0.9986681 & 2807 & 77\\\\\n",
       "\t 3 & 61 & 0.0010655301 & 2 & 3\\_61 & 0.9992009 & 2809 & 78\\\\\n",
       "\t 3 & 50 & 0.0005327651 & 1 & 3\\_50 & 0.9994672 & 2810 & 79\\\\\n",
       "\t 3 & 58 & 0.0005327651 & 1 & 3\\_58 & 0.9997336 & 2811 & 80\\\\\n",
       "\t 3 & 63 & 0.0005327651 & 1 & 3\\_63 & 1.0000000 & 2812 & 81\\\\\n",
       "\\end{tabular}\n"
      ],
      "text/markdown": [
       "\n",
       "A tibble: 282 × 8\n",
       "\n",
       "| donor &lt;fct&gt; | lineage &lt;fct&gt; | norm.total &lt;dbl&gt; | total &lt;int&gt; | name &lt;fct&gt; | cdf.norm &lt;dbl&gt; | cdf &lt;int&gt; | index &lt;int&gt; |\n",
       "|---|---|---|---|---|---|---|---|\n",
       "| 0 | 0   | 0.25035922 | 394 | 0_0   | 0.1251796 |  394 |  1 |\n",
       "| 0 | 1   | 0.18879978 | 331 | 0_1   | 0.2195795 |  725 |  2 |\n",
       "| 0 | 3   | 0.14566888 | 249 | 0_3   | 0.2924139 |  974 |  3 |\n",
       "| 0 | 2   | 0.12831652 | 257 | 0_2   | 0.3565722 | 1231 |  4 |\n",
       "| 0 | 4   | 0.09251217 | 185 | 0_4   | 0.4028283 | 1416 |  5 |\n",
       "| 0 | 103 | 0.08034573 | 124 | 0_103 | 0.4430011 | 1540 |  6 |\n",
       "| 0 | 5   | 0.07286230 | 148 | 0_5   | 0.4794323 | 1688 |  7 |\n",
       "| 0 | 105 | 0.06156091 |  88 | 0_105 | 0.5102127 | 1776 |  8 |\n",
       "| 0 | 6   | 0.05236496 | 109 | 0_6   | 0.5363952 | 1885 |  9 |\n",
       "| 0 | 7   | 0.05157029 | 104 | 0_7   | 0.5621804 | 1989 | 10 |\n",
       "| 0 | 8   | 0.04682130 |  98 | 0_8   | 0.5855910 | 2087 | 11 |\n",
       "| 0 | 121 | 0.04600757 |  69 | 0_121 | 0.6085948 | 2156 | 12 |\n",
       "| 0 | 10  | 0.03880564 |  77 | 0_10  | 0.6279976 | 2233 | 13 |\n",
       "| 0 | 109 | 0.03785115 |  56 | 0_109 | 0.6469232 | 2289 | 14 |\n",
       "| 0 | 9   | 0.03756964 |  72 | 0_9   | 0.6657080 | 2361 | 15 |\n",
       "| 0 | 13  | 0.03161985 |  59 | 0_13  | 0.6815179 | 2420 | 16 |\n",
       "| 0 | 11  | 0.02997771 |  52 | 0_11  | 0.6965068 | 2472 | 17 |\n",
       "| 0 | 12  | 0.02815964 |  55 | 0_12  | 0.7105866 | 2527 | 18 |\n",
       "| 0 | 14  | 0.02471703 |  50 | 0_14  | 0.7229451 | 2577 | 19 |\n",
       "| 0 | 16  | 0.02446924 |  39 | 0_16  | 0.7351798 | 2616 | 20 |\n",
       "| 0 | 112 | 0.02409829 |  35 | 0_112 | 0.7472289 | 2651 | 21 |\n",
       "| 0 | 15  | 0.02180371 |  40 | 0_15  | 0.7581308 | 2691 | 22 |\n",
       "| 0 | 17  | 0.01791977 |  35 | 0_17  | 0.7670906 | 2726 | 23 |\n",
       "| 0 | 122 | 0.01765439 |  25 | 0_122 | 0.7759178 | 2751 | 24 |\n",
       "| 0 | 97  | 0.01724826 |  23 | 0_97  | 0.7845420 | 2774 | 25 |\n",
       "| 0 | 119 | 0.01677174 |  25 | 0_119 | 0.7929278 | 2799 | 26 |\n",
       "| 0 | 18  | 0.01366489 |  26 | 0_18  | 0.7997603 | 2825 | 27 |\n",
       "| 0 | 20  | 0.01320597 |  27 | 0_20  | 0.8063633 | 2852 | 28 |\n",
       "| 0 | 67  | 0.01294059 |  17 | 0_67  | 0.8128336 | 2869 | 29 |\n",
       "| 0 | 84  | 0.01242889 |  21 | 0_84  | 0.8190480 | 2890 | 30 |\n",
       "| ⋮ | ⋮ | ⋮ | ⋮ | ⋮ | ⋮ | ⋮ | ⋮ |\n",
       "| 3 | 40 | 0.0037333440 | 6 | 3_40 | 0.9679763 | 2721 | 52 |\n",
       "| 3 | 68 | 0.0037333440 | 6 | 3_68 | 0.9698429 | 2727 | 53 |\n",
       "| 3 | 42 | 0.0032085561 | 3 | 3_42 | 0.9714472 | 2730 | 54 |\n",
       "| 3 | 35 | 0.0032005789 | 5 | 3_35 | 0.9730475 | 2735 | 55 |\n",
       "| 3 | 36 | 0.0032005789 | 5 | 3_36 | 0.9746478 | 2740 | 56 |\n",
       "| 3 | 37 | 0.0032005789 | 5 | 3_37 | 0.9762481 | 2745 | 57 |\n",
       "| 3 | 41 | 0.0026718025 | 3 | 3_41 | 0.9775840 | 2748 | 58 |\n",
       "| 3 | 48 | 0.0026718025 | 3 | 3_48 | 0.9789199 | 2751 | 59 |\n",
       "| 3 | 49 | 0.0026718025 | 3 | 3_49 | 0.9802558 | 2754 | 60 |\n",
       "| 3 | 52 | 0.0026718025 | 3 | 3_52 | 0.9815917 | 2757 | 61 |\n",
       "| 3 | 53 | 0.0026718025 | 3 | 3_53 | 0.9829276 | 2760 | 62 |\n",
       "| 3 | 65 | 0.0026718025 | 3 | 3_65 | 0.9842635 | 2763 | 63 |\n",
       "| 3 | 38 | 0.0026678139 | 4 | 3_38 | 0.9855974 | 2767 | 64 |\n",
       "| 3 | 64 | 0.0026678139 | 4 | 3_64 | 0.9869313 | 2771 | 65 |\n",
       "| 3 | 69 | 0.0026678139 | 4 | 3_69 | 0.9882652 | 2775 | 66 |\n",
       "| 3 | 56 | 0.0026638253 | 5 | 3_56 | 0.9895971 | 2780 | 67 |\n",
       "| 3 | 62 | 0.0021390374 | 2 | 3_62 | 0.9906666 | 2782 | 68 |\n",
       "| 3 | 81 | 0.0021390374 | 2 | 3_81 | 0.9917362 | 2784 | 69 |\n",
       "| 3 | 47 | 0.0021350488 | 3 | 3_47 | 0.9928037 | 2787 | 70 |\n",
       "| 3 | 67 | 0.0021350488 | 3 | 3_67 | 0.9938712 | 2790 | 71 |\n",
       "| 3 | 73 | 0.0021310602 | 4 | 3_73 | 0.9949367 | 2794 | 72 |\n",
       "| 3 | 79 | 0.0021310602 | 4 | 3_79 | 0.9960023 | 2798 | 73 |\n",
       "| 3 | 46 | 0.0015982952 | 3 | 3_46 | 0.9968014 | 2801 | 74 |\n",
       "| 3 | 78 | 0.0015982952 | 3 | 3_78 | 0.9976006 | 2804 | 75 |\n",
       "| 3 | 60 | 0.0010695187 | 1 | 3_60 | 0.9981353 | 2805 | 76 |\n",
       "| 3 | 54 | 0.0010655301 | 2 | 3_54 | 0.9986681 | 2807 | 77 |\n",
       "| 3 | 61 | 0.0010655301 | 2 | 3_61 | 0.9992009 | 2809 | 78 |\n",
       "| 3 | 50 | 0.0005327651 | 1 | 3_50 | 0.9994672 | 2810 | 79 |\n",
       "| 3 | 58 | 0.0005327651 | 1 | 3_58 | 0.9997336 | 2811 | 80 |\n",
       "| 3 | 63 | 0.0005327651 | 1 | 3_63 | 1.0000000 | 2812 | 81 |\n",
       "\n"
      ],
      "text/plain": [
       "    donor lineage norm.total   total name  cdf.norm  cdf  index\n",
       "1   0     0       0.25035922   394   0_0   0.1251796  394  1   \n",
       "2   0     1       0.18879978   331   0_1   0.2195795  725  2   \n",
       "3   0     3       0.14566888   249   0_3   0.2924139  974  3   \n",
       "4   0     2       0.12831652   257   0_2   0.3565722 1231  4   \n",
       "5   0     4       0.09251217   185   0_4   0.4028283 1416  5   \n",
       "6   0     103     0.08034573   124   0_103 0.4430011 1540  6   \n",
       "7   0     5       0.07286230   148   0_5   0.4794323 1688  7   \n",
       "8   0     105     0.06156091    88   0_105 0.5102127 1776  8   \n",
       "9   0     6       0.05236496   109   0_6   0.5363952 1885  9   \n",
       "10  0     7       0.05157029   104   0_7   0.5621804 1989 10   \n",
       "11  0     8       0.04682130    98   0_8   0.5855910 2087 11   \n",
       "12  0     121     0.04600757    69   0_121 0.6085948 2156 12   \n",
       "13  0     10      0.03880564    77   0_10  0.6279976 2233 13   \n",
       "14  0     109     0.03785115    56   0_109 0.6469232 2289 14   \n",
       "15  0     9       0.03756964    72   0_9   0.6657080 2361 15   \n",
       "16  0     13      0.03161985    59   0_13  0.6815179 2420 16   \n",
       "17  0     11      0.02997771    52   0_11  0.6965068 2472 17   \n",
       "18  0     12      0.02815964    55   0_12  0.7105866 2527 18   \n",
       "19  0     14      0.02471703    50   0_14  0.7229451 2577 19   \n",
       "20  0     16      0.02446924    39   0_16  0.7351798 2616 20   \n",
       "21  0     112     0.02409829    35   0_112 0.7472289 2651 21   \n",
       "22  0     15      0.02180371    40   0_15  0.7581308 2691 22   \n",
       "23  0     17      0.01791977    35   0_17  0.7670906 2726 23   \n",
       "24  0     122     0.01765439    25   0_122 0.7759178 2751 24   \n",
       "25  0     97      0.01724826    23   0_97  0.7845420 2774 25   \n",
       "26  0     119     0.01677174    25   0_119 0.7929278 2799 26   \n",
       "27  0     18      0.01366489    26   0_18  0.7997603 2825 27   \n",
       "28  0     20      0.01320597    27   0_20  0.8063633 2852 28   \n",
       "29  0     67      0.01294059    17   0_67  0.8128336 2869 29   \n",
       "30  0     84      0.01242889    21   0_84  0.8190480 2890 30   \n",
       "⋮   ⋮     ⋮       ⋮            ⋮     ⋮     ⋮         ⋮    ⋮    \n",
       "253 3     40      0.0037333440 6     3_40  0.9679763 2721 52   \n",
       "254 3     68      0.0037333440 6     3_68  0.9698429 2727 53   \n",
       "255 3     42      0.0032085561 3     3_42  0.9714472 2730 54   \n",
       "256 3     35      0.0032005789 5     3_35  0.9730475 2735 55   \n",
       "257 3     36      0.0032005789 5     3_36  0.9746478 2740 56   \n",
       "258 3     37      0.0032005789 5     3_37  0.9762481 2745 57   \n",
       "259 3     41      0.0026718025 3     3_41  0.9775840 2748 58   \n",
       "260 3     48      0.0026718025 3     3_48  0.9789199 2751 59   \n",
       "261 3     49      0.0026718025 3     3_49  0.9802558 2754 60   \n",
       "262 3     52      0.0026718025 3     3_52  0.9815917 2757 61   \n",
       "263 3     53      0.0026718025 3     3_53  0.9829276 2760 62   \n",
       "264 3     65      0.0026718025 3     3_65  0.9842635 2763 63   \n",
       "265 3     38      0.0026678139 4     3_38  0.9855974 2767 64   \n",
       "266 3     64      0.0026678139 4     3_64  0.9869313 2771 65   \n",
       "267 3     69      0.0026678139 4     3_69  0.9882652 2775 66   \n",
       "268 3     56      0.0026638253 5     3_56  0.9895971 2780 67   \n",
       "269 3     62      0.0021390374 2     3_62  0.9906666 2782 68   \n",
       "270 3     81      0.0021390374 2     3_81  0.9917362 2784 69   \n",
       "271 3     47      0.0021350488 3     3_47  0.9928037 2787 70   \n",
       "272 3     67      0.0021350488 3     3_67  0.9938712 2790 71   \n",
       "273 3     73      0.0021310602 4     3_73  0.9949367 2794 72   \n",
       "274 3     79      0.0021310602 4     3_79  0.9960023 2798 73   \n",
       "275 3     46      0.0015982952 3     3_46  0.9968014 2801 74   \n",
       "276 3     78      0.0015982952 3     3_78  0.9976006 2804 75   \n",
       "277 3     60      0.0010695187 1     3_60  0.9981353 2805 76   \n",
       "278 3     54      0.0010655301 2     3_54  0.9986681 2807 77   \n",
       "279 3     61      0.0010655301 2     3_61  0.9992009 2809 78   \n",
       "280 3     50      0.0005327651 1     3_50  0.9994672 2810 79   \n",
       "281 3     58      0.0005327651 1     3_58  0.9997336 2811 80   \n",
       "282 3     63      0.0005327651 1     3_63  1.0000000 2812 81   "
      ]
     },
     "metadata": {},
     "output_type": "display_data"
    }
   ],
   "source": [
    "clone.sizes"
   ]
  },
  {
   "cell_type": "code",
   "execution_count": 15,
   "id": "93c23bda",
   "metadata": {
    "execution": {
     "iopub.execute_input": "2021-12-03T02:55:29.962509Z",
     "iopub.status.busy": "2021-12-03T02:55:29.959579Z",
     "iopub.status.idle": "2021-12-03T02:55:30.046750Z",
     "shell.execute_reply": "2021-12-03T02:55:30.047665Z"
    },
    "papermill": {
     "duration": 0.190939,
     "end_time": "2021-12-03T02:55:30.047972",
     "exception": false,
     "start_time": "2021-12-03T02:55:29.857033",
     "status": "completed"
    },
    "scrolled": true,
    "tags": []
   },
   "outputs": [
    {
     "name": "stdout",
     "output_type": "stream",
     "text": [
      "[1] 4\n",
      "[1] \"i 1 donor 1\"\n",
      "[1] \"i 2 donor 2\"\n",
      "[1] \"i 3 donor 3\"\n",
      "[1] \"i 4 donor 4\"\n"
     ]
    },
    {
     "data": {
      "text/html": [
       "<table class=\"dataframe\">\n",
       "<caption>A tibble: 22 × 8</caption>\n",
       "<thead>\n",
       "\t<tr><th scope=col>donor</th><th scope=col>lineage</th><th scope=col>norm.total</th><th scope=col>total</th><th scope=col>name</th><th scope=col>cdf.norm</th><th scope=col>cdf</th><th scope=col>index</th></tr>\n",
       "\t<tr><th scope=col>&lt;fct&gt;</th><th scope=col>&lt;fct&gt;</th><th scope=col>&lt;dbl&gt;</th><th scope=col>&lt;int&gt;</th><th scope=col>&lt;fct&gt;</th><th scope=col>&lt;dbl&gt;</th><th scope=col>&lt;int&gt;</th><th scope=col>&lt;int&gt;</th></tr>\n",
       "</thead>\n",
       "<tbody>\n",
       "\t<tr><td>0</td><td>0  </td><td>0.25035922</td><td>394</td><td>0_0  </td><td>0.1251796</td><td> 394</td><td>1</td></tr>\n",
       "\t<tr><td>0</td><td>1  </td><td>0.18879978</td><td>331</td><td>0_1  </td><td>0.2195795</td><td> 725</td><td>2</td></tr>\n",
       "\t<tr><td>0</td><td>3  </td><td>0.14566888</td><td>249</td><td>0_3  </td><td>0.2924139</td><td> 974</td><td>3</td></tr>\n",
       "\t<tr><td>0</td><td>2  </td><td>0.12831652</td><td>257</td><td>0_2  </td><td>0.3565722</td><td>1231</td><td>4</td></tr>\n",
       "\t<tr><td>0</td><td>4  </td><td>0.09251217</td><td>185</td><td>0_4  </td><td>0.4028283</td><td>1416</td><td>5</td></tr>\n",
       "\t<tr><td>0</td><td>103</td><td>0.08034573</td><td>124</td><td>0_103</td><td>0.4430011</td><td>1540</td><td>6</td></tr>\n",
       "\t<tr><td>0</td><td>5  </td><td>0.07286230</td><td>148</td><td>0_5  </td><td>0.4794323</td><td>1688</td><td>7</td></tr>\n",
       "\t<tr><td>1</td><td>1  </td><td>0.21352297</td><td>312</td><td>1_1  </td><td>0.1067615</td><td> 312</td><td>1</td></tr>\n",
       "\t<tr><td>1</td><td>0  </td><td>0.18040627</td><td>298</td><td>1_0  </td><td>0.1969646</td><td> 610</td><td>2</td></tr>\n",
       "\t<tr><td>1</td><td>3  </td><td>0.15172526</td><td>228</td><td>1_3  </td><td>0.2728272</td><td> 838</td><td>3</td></tr>\n",
       "\t<tr><td>1</td><td>6  </td><td>0.13522866</td><td>188</td><td>1_6  </td><td>0.3404416</td><td>1026</td><td>4</td></tr>\n",
       "\t<tr><td>1</td><td>2  </td><td>0.13515722</td><td>214</td><td>1_2  </td><td>0.4080202</td><td>1240</td><td>5</td></tr>\n",
       "\t<tr><td>1</td><td>4  </td><td>0.12764837</td><td>146</td><td>1_4  </td><td>0.4718444</td><td>1386</td><td>6</td></tr>\n",
       "\t<tr><td>2</td><td>0  </td><td>0.47479090</td><td>585</td><td>2_0  </td><td>0.2373954</td><td> 585</td><td>1</td></tr>\n",
       "\t<tr><td>2</td><td>2  </td><td>0.22694045</td><td>240</td><td>2_2  </td><td>0.3508657</td><td> 825</td><td>2</td></tr>\n",
       "\t<tr><td>2</td><td>1  </td><td>0.19838017</td><td>221</td><td>2_1  </td><td>0.4500558</td><td>1046</td><td>3</td></tr>\n",
       "\t<tr><td>3</td><td>0  </td><td>0.29789715</td><td>404</td><td>3_0  </td><td>0.1489486</td><td> 404</td><td>1</td></tr>\n",
       "\t<tr><td>3</td><td>1  </td><td>0.23851293</td><td>355</td><td>3_1  </td><td>0.2682050</td><td> 759</td><td>2</td></tr>\n",
       "\t<tr><td>3</td><td>2  </td><td>0.15111952</td><td>196</td><td>3_2  </td><td>0.3437648</td><td> 955</td><td>3</td></tr>\n",
       "\t<tr><td>3</td><td>3  </td><td>0.11321742</td><td>144</td><td>3_3  </td><td>0.4003735</td><td>1099</td><td>4</td></tr>\n",
       "\t<tr><td>3</td><td>6  </td><td>0.07634096</td><td>104</td><td>3_6  </td><td>0.4385440</td><td>1203</td><td>5</td></tr>\n",
       "\t<tr><td>3</td><td>4  </td><td>0.06292611</td><td>103</td><td>3_4  </td><td>0.4700070</td><td>1306</td><td>6</td></tr>\n",
       "</tbody>\n",
       "</table>\n"
      ],
      "text/latex": [
       "A tibble: 22 × 8\n",
       "\\begin{tabular}{llllllll}\n",
       " donor & lineage & norm.total & total & name & cdf.norm & cdf & index\\\\\n",
       " <fct> & <fct> & <dbl> & <int> & <fct> & <dbl> & <int> & <int>\\\\\n",
       "\\hline\n",
       "\t 0 & 0   & 0.25035922 & 394 & 0\\_0   & 0.1251796 &  394 & 1\\\\\n",
       "\t 0 & 1   & 0.18879978 & 331 & 0\\_1   & 0.2195795 &  725 & 2\\\\\n",
       "\t 0 & 3   & 0.14566888 & 249 & 0\\_3   & 0.2924139 &  974 & 3\\\\\n",
       "\t 0 & 2   & 0.12831652 & 257 & 0\\_2   & 0.3565722 & 1231 & 4\\\\\n",
       "\t 0 & 4   & 0.09251217 & 185 & 0\\_4   & 0.4028283 & 1416 & 5\\\\\n",
       "\t 0 & 103 & 0.08034573 & 124 & 0\\_103 & 0.4430011 & 1540 & 6\\\\\n",
       "\t 0 & 5   & 0.07286230 & 148 & 0\\_5   & 0.4794323 & 1688 & 7\\\\\n",
       "\t 1 & 1   & 0.21352297 & 312 & 1\\_1   & 0.1067615 &  312 & 1\\\\\n",
       "\t 1 & 0   & 0.18040627 & 298 & 1\\_0   & 0.1969646 &  610 & 2\\\\\n",
       "\t 1 & 3   & 0.15172526 & 228 & 1\\_3   & 0.2728272 &  838 & 3\\\\\n",
       "\t 1 & 6   & 0.13522866 & 188 & 1\\_6   & 0.3404416 & 1026 & 4\\\\\n",
       "\t 1 & 2   & 0.13515722 & 214 & 1\\_2   & 0.4080202 & 1240 & 5\\\\\n",
       "\t 1 & 4   & 0.12764837 & 146 & 1\\_4   & 0.4718444 & 1386 & 6\\\\\n",
       "\t 2 & 0   & 0.47479090 & 585 & 2\\_0   & 0.2373954 &  585 & 1\\\\\n",
       "\t 2 & 2   & 0.22694045 & 240 & 2\\_2   & 0.3508657 &  825 & 2\\\\\n",
       "\t 2 & 1   & 0.19838017 & 221 & 2\\_1   & 0.4500558 & 1046 & 3\\\\\n",
       "\t 3 & 0   & 0.29789715 & 404 & 3\\_0   & 0.1489486 &  404 & 1\\\\\n",
       "\t 3 & 1   & 0.23851293 & 355 & 3\\_1   & 0.2682050 &  759 & 2\\\\\n",
       "\t 3 & 2   & 0.15111952 & 196 & 3\\_2   & 0.3437648 &  955 & 3\\\\\n",
       "\t 3 & 3   & 0.11321742 & 144 & 3\\_3   & 0.4003735 & 1099 & 4\\\\\n",
       "\t 3 & 6   & 0.07634096 & 104 & 3\\_6   & 0.4385440 & 1203 & 5\\\\\n",
       "\t 3 & 4   & 0.06292611 & 103 & 3\\_4   & 0.4700070 & 1306 & 6\\\\\n",
       "\\end{tabular}\n"
      ],
      "text/markdown": [
       "\n",
       "A tibble: 22 × 8\n",
       "\n",
       "| donor &lt;fct&gt; | lineage &lt;fct&gt; | norm.total &lt;dbl&gt; | total &lt;int&gt; | name &lt;fct&gt; | cdf.norm &lt;dbl&gt; | cdf &lt;int&gt; | index &lt;int&gt; |\n",
       "|---|---|---|---|---|---|---|---|\n",
       "| 0 | 0   | 0.25035922 | 394 | 0_0   | 0.1251796 |  394 | 1 |\n",
       "| 0 | 1   | 0.18879978 | 331 | 0_1   | 0.2195795 |  725 | 2 |\n",
       "| 0 | 3   | 0.14566888 | 249 | 0_3   | 0.2924139 |  974 | 3 |\n",
       "| 0 | 2   | 0.12831652 | 257 | 0_2   | 0.3565722 | 1231 | 4 |\n",
       "| 0 | 4   | 0.09251217 | 185 | 0_4   | 0.4028283 | 1416 | 5 |\n",
       "| 0 | 103 | 0.08034573 | 124 | 0_103 | 0.4430011 | 1540 | 6 |\n",
       "| 0 | 5   | 0.07286230 | 148 | 0_5   | 0.4794323 | 1688 | 7 |\n",
       "| 1 | 1   | 0.21352297 | 312 | 1_1   | 0.1067615 |  312 | 1 |\n",
       "| 1 | 0   | 0.18040627 | 298 | 1_0   | 0.1969646 |  610 | 2 |\n",
       "| 1 | 3   | 0.15172526 | 228 | 1_3   | 0.2728272 |  838 | 3 |\n",
       "| 1 | 6   | 0.13522866 | 188 | 1_6   | 0.3404416 | 1026 | 4 |\n",
       "| 1 | 2   | 0.13515722 | 214 | 1_2   | 0.4080202 | 1240 | 5 |\n",
       "| 1 | 4   | 0.12764837 | 146 | 1_4   | 0.4718444 | 1386 | 6 |\n",
       "| 2 | 0   | 0.47479090 | 585 | 2_0   | 0.2373954 |  585 | 1 |\n",
       "| 2 | 2   | 0.22694045 | 240 | 2_2   | 0.3508657 |  825 | 2 |\n",
       "| 2 | 1   | 0.19838017 | 221 | 2_1   | 0.4500558 | 1046 | 3 |\n",
       "| 3 | 0   | 0.29789715 | 404 | 3_0   | 0.1489486 |  404 | 1 |\n",
       "| 3 | 1   | 0.23851293 | 355 | 3_1   | 0.2682050 |  759 | 2 |\n",
       "| 3 | 2   | 0.15111952 | 196 | 3_2   | 0.3437648 |  955 | 3 |\n",
       "| 3 | 3   | 0.11321742 | 144 | 3_3   | 0.4003735 | 1099 | 4 |\n",
       "| 3 | 6   | 0.07634096 | 104 | 3_6   | 0.4385440 | 1203 | 5 |\n",
       "| 3 | 4   | 0.06292611 | 103 | 3_4   | 0.4700070 | 1306 | 6 |\n",
       "\n"
      ],
      "text/plain": [
       "   donor lineage norm.total total name  cdf.norm  cdf  index\n",
       "1  0     0       0.25035922 394   0_0   0.1251796  394 1    \n",
       "2  0     1       0.18879978 331   0_1   0.2195795  725 2    \n",
       "3  0     3       0.14566888 249   0_3   0.2924139  974 3    \n",
       "4  0     2       0.12831652 257   0_2   0.3565722 1231 4    \n",
       "5  0     4       0.09251217 185   0_4   0.4028283 1416 5    \n",
       "6  0     103     0.08034573 124   0_103 0.4430011 1540 6    \n",
       "7  0     5       0.07286230 148   0_5   0.4794323 1688 7    \n",
       "8  1     1       0.21352297 312   1_1   0.1067615  312 1    \n",
       "9  1     0       0.18040627 298   1_0   0.1969646  610 2    \n",
       "10 1     3       0.15172526 228   1_3   0.2728272  838 3    \n",
       "11 1     6       0.13522866 188   1_6   0.3404416 1026 4    \n",
       "12 1     2       0.13515722 214   1_2   0.4080202 1240 5    \n",
       "13 1     4       0.12764837 146   1_4   0.4718444 1386 6    \n",
       "14 2     0       0.47479090 585   2_0   0.2373954  585 1    \n",
       "15 2     2       0.22694045 240   2_2   0.3508657  825 2    \n",
       "16 2     1       0.19838017 221   2_1   0.4500558 1046 3    \n",
       "17 3     0       0.29789715 404   3_0   0.1489486  404 1    \n",
       "18 3     1       0.23851293 355   3_1   0.2682050  759 2    \n",
       "19 3     2       0.15111952 196   3_2   0.3437648  955 3    \n",
       "20 3     3       0.11321742 144   3_3   0.4003735 1099 4    \n",
       "21 3     6       0.07634096 104   3_6   0.4385440 1203 5    \n",
       "22 3     4       0.06292611 103   3_4   0.4700070 1306 6    "
      ]
     },
     "metadata": {},
     "output_type": "display_data"
    }
   ],
   "source": [
    "large.clones <- clone.sizes %>% filter(cdf.norm<cdf_thresh)\n",
    "large.clones <- check.if.one.clone(large.clones, clone.sizes, n_top_clones)\n",
    "#large.clones$name = factor(paste0(large.clones$donor,\"_\", large.clones$lineage))\n",
    "write.csv(large.clones, \n",
    "          file=file.path(outdir, \"large_clones.csv\"), quote=F)\n",
    "\n",
    "large.clones"
   ]
  },
  {
   "cell_type": "code",
   "execution_count": 16,
   "id": "308e6966",
   "metadata": {
    "execution": {
     "iopub.execute_input": "2021-12-03T02:55:30.305676Z",
     "iopub.status.busy": "2021-12-03T02:55:30.302227Z",
     "iopub.status.idle": "2021-12-03T02:55:30.950070Z",
     "shell.execute_reply": "2021-12-03T02:55:30.950990Z"
    },
    "papermill": {
     "duration": 0.799213,
     "end_time": "2021-12-03T02:55:30.951285",
     "exception": false,
     "start_time": "2021-12-03T02:55:30.152072",
     "status": "completed"
    },
    "tags": []
   },
   "outputs": [
    {
     "name": "stderr",
     "output_type": "stream",
     "text": [
      "Saving 6.67 x 6.67 in image\n",
      "\n"
     ]
    },
    {
     "data": {
      "image/png": "[encoded data removed]",
      "text/plain": [
       "plot without title"
      ]
     },
     "metadata": {
      "image/png": {
       "height": 420,
       "width": 420
      }
     },
     "output_type": "display_data"
    }
   ],
   "source": [
    "ggplot(data=large.clones, aes(x=index,y=total, fill = factor(donor))) + \n",
    "        geom_col(position='dodge') +\n",
    "       ggtitle(paste0(\"Top clones (\", cdf_thresh,\n",
    "                      \"fraction of clones) in each donor cell size\"))\n",
    "\n",
    "ggsave(file.path(outdir, \"topClonesSize.png\"))"
   ]
  },
  {
   "cell_type": "markdown",
   "id": "5564da63",
   "metadata": {
    "papermill": {
     "duration": 0.103202,
     "end_time": "2021-12-03T02:55:31.161053",
     "exception": false,
     "start_time": "2021-12-03T02:55:31.057851",
     "status": "completed"
    },
    "tags": []
   },
   "source": [
    "## TF DE"
   ]
  },
  {
   "cell_type": "markdown",
   "id": "b6a80a03",
   "metadata": {
    "papermill": {
     "duration": 0.103733,
     "end_time": "2021-12-03T02:55:31.370602",
     "exception": false,
     "start_time": "2021-12-03T02:55:31.266869",
     "status": "completed"
    },
    "tags": []
   },
   "source": [
    "## Filter se for cells in the large clones"
   ]
  },
  {
   "cell_type": "code",
   "execution_count": 17,
   "id": "8ec3001e",
   "metadata": {
    "execution": {
     "iopub.execute_input": "2021-12-03T02:55:31.585842Z",
     "iopub.status.busy": "2021-12-03T02:55:31.583185Z",
     "iopub.status.idle": "2021-12-03T02:55:31.621321Z",
     "shell.execute_reply": "2021-12-03T02:55:31.622065Z"
    },
    "papermill": {
     "duration": 0.147968,
     "end_time": "2021-12-03T02:55:31.622336",
     "exception": false,
     "start_time": "2021-12-03T02:55:31.474368",
     "status": "completed"
    },
    "scrolled": true,
    "tags": []
   },
   "outputs": [
    {
     "data": {
      "text/html": [
       "<table class=\"dataframe\">\n",
       "<caption>A tibble: 22 × 8</caption>\n",
       "<thead>\n",
       "\t<tr><th scope=col>donor</th><th scope=col>lineage</th><th scope=col>norm.total</th><th scope=col>total</th><th scope=col>name</th><th scope=col>cdf.norm</th><th scope=col>cdf</th><th scope=col>index</th></tr>\n",
       "\t<tr><th scope=col>&lt;fct&gt;</th><th scope=col>&lt;fct&gt;</th><th scope=col>&lt;dbl&gt;</th><th scope=col>&lt;int&gt;</th><th scope=col>&lt;fct&gt;</th><th scope=col>&lt;dbl&gt;</th><th scope=col>&lt;int&gt;</th><th scope=col>&lt;int&gt;</th></tr>\n",
       "</thead>\n",
       "<tbody>\n",
       "\t<tr><td>0</td><td>0  </td><td>0.25035922</td><td>394</td><td>0_0  </td><td>0.1251796</td><td> 394</td><td>1</td></tr>\n",
       "\t<tr><td>0</td><td>1  </td><td>0.18879978</td><td>331</td><td>0_1  </td><td>0.2195795</td><td> 725</td><td>2</td></tr>\n",
       "\t<tr><td>0</td><td>3  </td><td>0.14566888</td><td>249</td><td>0_3  </td><td>0.2924139</td><td> 974</td><td>3</td></tr>\n",
       "\t<tr><td>0</td><td>2  </td><td>0.12831652</td><td>257</td><td>0_2  </td><td>0.3565722</td><td>1231</td><td>4</td></tr>\n",
       "\t<tr><td>0</td><td>4  </td><td>0.09251217</td><td>185</td><td>0_4  </td><td>0.4028283</td><td>1416</td><td>5</td></tr>\n",
       "\t<tr><td>0</td><td>103</td><td>0.08034573</td><td>124</td><td>0_103</td><td>0.4430011</td><td>1540</td><td>6</td></tr>\n",
       "\t<tr><td>0</td><td>5  </td><td>0.07286230</td><td>148</td><td>0_5  </td><td>0.4794323</td><td>1688</td><td>7</td></tr>\n",
       "\t<tr><td>1</td><td>1  </td><td>0.21352297</td><td>312</td><td>1_1  </td><td>0.1067615</td><td> 312</td><td>1</td></tr>\n",
       "\t<tr><td>1</td><td>0  </td><td>0.18040627</td><td>298</td><td>1_0  </td><td>0.1969646</td><td> 610</td><td>2</td></tr>\n",
       "\t<tr><td>1</td><td>3  </td><td>0.15172526</td><td>228</td><td>1_3  </td><td>0.2728272</td><td> 838</td><td>3</td></tr>\n",
       "\t<tr><td>1</td><td>6  </td><td>0.13522866</td><td>188</td><td>1_6  </td><td>0.3404416</td><td>1026</td><td>4</td></tr>\n",
       "\t<tr><td>1</td><td>2  </td><td>0.13515722</td><td>214</td><td>1_2  </td><td>0.4080202</td><td>1240</td><td>5</td></tr>\n",
       "\t<tr><td>1</td><td>4  </td><td>0.12764837</td><td>146</td><td>1_4  </td><td>0.4718444</td><td>1386</td><td>6</td></tr>\n",
       "\t<tr><td>2</td><td>0  </td><td>0.47479090</td><td>585</td><td>2_0  </td><td>0.2373954</td><td> 585</td><td>1</td></tr>\n",
       "\t<tr><td>2</td><td>2  </td><td>0.22694045</td><td>240</td><td>2_2  </td><td>0.3508657</td><td> 825</td><td>2</td></tr>\n",
       "\t<tr><td>2</td><td>1  </td><td>0.19838017</td><td>221</td><td>2_1  </td><td>0.4500558</td><td>1046</td><td>3</td></tr>\n",
       "\t<tr><td>3</td><td>0  </td><td>0.29789715</td><td>404</td><td>3_0  </td><td>0.1489486</td><td> 404</td><td>1</td></tr>\n",
       "\t<tr><td>3</td><td>1  </td><td>0.23851293</td><td>355</td><td>3_1  </td><td>0.2682050</td><td> 759</td><td>2</td></tr>\n",
       "\t<tr><td>3</td><td>2  </td><td>0.15111952</td><td>196</td><td>3_2  </td><td>0.3437648</td><td> 955</td><td>3</td></tr>\n",
       "\t<tr><td>3</td><td>3  </td><td>0.11321742</td><td>144</td><td>3_3  </td><td>0.4003735</td><td>1099</td><td>4</td></tr>\n",
       "\t<tr><td>3</td><td>6  </td><td>0.07634096</td><td>104</td><td>3_6  </td><td>0.4385440</td><td>1203</td><td>5</td></tr>\n",
       "\t<tr><td>3</td><td>4  </td><td>0.06292611</td><td>103</td><td>3_4  </td><td>0.4700070</td><td>1306</td><td>6</td></tr>\n",
       "</tbody>\n",
       "</table>\n"
      ],
      "text/latex": [
       "A tibble: 22 × 8\n",
       "\\begin{tabular}{llllllll}\n",
       " donor & lineage & norm.total & total & name & cdf.norm & cdf & index\\\\\n",
       " <fct> & <fct> & <dbl> & <int> & <fct> & <dbl> & <int> & <int>\\\\\n",
       "\\hline\n",
       "\t 0 & 0   & 0.25035922 & 394 & 0\\_0   & 0.1251796 &  394 & 1\\\\\n",
       "\t 0 & 1   & 0.18879978 & 331 & 0\\_1   & 0.2195795 &  725 & 2\\\\\n",
       "\t 0 & 3   & 0.14566888 & 249 & 0\\_3   & 0.2924139 &  974 & 3\\\\\n",
       "\t 0 & 2   & 0.12831652 & 257 & 0\\_2   & 0.3565722 & 1231 & 4\\\\\n",
       "\t 0 & 4   & 0.09251217 & 185 & 0\\_4   & 0.4028283 & 1416 & 5\\\\\n",
       "\t 0 & 103 & 0.08034573 & 124 & 0\\_103 & 0.4430011 & 1540 & 6\\\\\n",
       "\t 0 & 5   & 0.07286230 & 148 & 0\\_5   & 0.4794323 & 1688 & 7\\\\\n",
       "\t 1 & 1   & 0.21352297 & 312 & 1\\_1   & 0.1067615 &  312 & 1\\\\\n",
       "\t 1 & 0   & 0.18040627 & 298 & 1\\_0   & 0.1969646 &  610 & 2\\\\\n",
       "\t 1 & 3   & 0.15172526 & 228 & 1\\_3   & 0.2728272 &  838 & 3\\\\\n",
       "\t 1 & 6   & 0.13522866 & 188 & 1\\_6   & 0.3404416 & 1026 & 4\\\\\n",
       "\t 1 & 2   & 0.13515722 & 214 & 1\\_2   & 0.4080202 & 1240 & 5\\\\\n",
       "\t 1 & 4   & 0.12764837 & 146 & 1\\_4   & 0.4718444 & 1386 & 6\\\\\n",
       "\t 2 & 0   & 0.47479090 & 585 & 2\\_0   & 0.2373954 &  585 & 1\\\\\n",
       "\t 2 & 2   & 0.22694045 & 240 & 2\\_2   & 0.3508657 &  825 & 2\\\\\n",
       "\t 2 & 1   & 0.19838017 & 221 & 2\\_1   & 0.4500558 & 1046 & 3\\\\\n",
       "\t 3 & 0   & 0.29789715 & 404 & 3\\_0   & 0.1489486 &  404 & 1\\\\\n",
       "\t 3 & 1   & 0.23851293 & 355 & 3\\_1   & 0.2682050 &  759 & 2\\\\\n",
       "\t 3 & 2   & 0.15111952 & 196 & 3\\_2   & 0.3437648 &  955 & 3\\\\\n",
       "\t 3 & 3   & 0.11321742 & 144 & 3\\_3   & 0.4003735 & 1099 & 4\\\\\n",
       "\t 3 & 6   & 0.07634096 & 104 & 3\\_6   & 0.4385440 & 1203 & 5\\\\\n",
       "\t 3 & 4   & 0.06292611 & 103 & 3\\_4   & 0.4700070 & 1306 & 6\\\\\n",
       "\\end{tabular}\n"
      ],
      "text/markdown": [
       "\n",
       "A tibble: 22 × 8\n",
       "\n",
       "| donor &lt;fct&gt; | lineage &lt;fct&gt; | norm.total &lt;dbl&gt; | total &lt;int&gt; | name &lt;fct&gt; | cdf.norm &lt;dbl&gt; | cdf &lt;int&gt; | index &lt;int&gt; |\n",
       "|---|---|---|---|---|---|---|---|\n",
       "| 0 | 0   | 0.25035922 | 394 | 0_0   | 0.1251796 |  394 | 1 |\n",
       "| 0 | 1   | 0.18879978 | 331 | 0_1   | 0.2195795 |  725 | 2 |\n",
       "| 0 | 3   | 0.14566888 | 249 | 0_3   | 0.2924139 |  974 | 3 |\n",
       "| 0 | 2   | 0.12831652 | 257 | 0_2   | 0.3565722 | 1231 | 4 |\n",
       "| 0 | 4   | 0.09251217 | 185 | 0_4   | 0.4028283 | 1416 | 5 |\n",
       "| 0 | 103 | 0.08034573 | 124 | 0_103 | 0.4430011 | 1540 | 6 |\n",
       "| 0 | 5   | 0.07286230 | 148 | 0_5   | 0.4794323 | 1688 | 7 |\n",
       "| 1 | 1   | 0.21352297 | 312 | 1_1   | 0.1067615 |  312 | 1 |\n",
       "| 1 | 0   | 0.18040627 | 298 | 1_0   | 0.1969646 |  610 | 2 |\n",
       "| 1 | 3   | 0.15172526 | 228 | 1_3   | 0.2728272 |  838 | 3 |\n",
       "| 1 | 6   | 0.13522866 | 188 | 1_6   | 0.3404416 | 1026 | 4 |\n",
       "| 1 | 2   | 0.13515722 | 214 | 1_2   | 0.4080202 | 1240 | 5 |\n",
       "| 1 | 4   | 0.12764837 | 146 | 1_4   | 0.4718444 | 1386 | 6 |\n",
       "| 2 | 0   | 0.47479090 | 585 | 2_0   | 0.2373954 |  585 | 1 |\n",
       "| 2 | 2   | 0.22694045 | 240 | 2_2   | 0.3508657 |  825 | 2 |\n",
       "| 2 | 1   | 0.19838017 | 221 | 2_1   | 0.4500558 | 1046 | 3 |\n",
       "| 3 | 0   | 0.29789715 | 404 | 3_0   | 0.1489486 |  404 | 1 |\n",
       "| 3 | 1   | 0.23851293 | 355 | 3_1   | 0.2682050 |  759 | 2 |\n",
       "| 3 | 2   | 0.15111952 | 196 | 3_2   | 0.3437648 |  955 | 3 |\n",
       "| 3 | 3   | 0.11321742 | 144 | 3_3   | 0.4003735 | 1099 | 4 |\n",
       "| 3 | 6   | 0.07634096 | 104 | 3_6   | 0.4385440 | 1203 | 5 |\n",
       "| 3 | 4   | 0.06292611 | 103 | 3_4   | 0.4700070 | 1306 | 6 |\n",
       "\n"
      ],
      "text/plain": [
       "   donor lineage norm.total total name  cdf.norm  cdf  index\n",
       "1  0     0       0.25035922 394   0_0   0.1251796  394 1    \n",
       "2  0     1       0.18879978 331   0_1   0.2195795  725 2    \n",
       "3  0     3       0.14566888 249   0_3   0.2924139  974 3    \n",
       "4  0     2       0.12831652 257   0_2   0.3565722 1231 4    \n",
       "5  0     4       0.09251217 185   0_4   0.4028283 1416 5    \n",
       "6  0     103     0.08034573 124   0_103 0.4430011 1540 6    \n",
       "7  0     5       0.07286230 148   0_5   0.4794323 1688 7    \n",
       "8  1     1       0.21352297 312   1_1   0.1067615  312 1    \n",
       "9  1     0       0.18040627 298   1_0   0.1969646  610 2    \n",
       "10 1     3       0.15172526 228   1_3   0.2728272  838 3    \n",
       "11 1     6       0.13522866 188   1_6   0.3404416 1026 4    \n",
       "12 1     2       0.13515722 214   1_2   0.4080202 1240 5    \n",
       "13 1     4       0.12764837 146   1_4   0.4718444 1386 6    \n",
       "14 2     0       0.47479090 585   2_0   0.2373954  585 1    \n",
       "15 2     2       0.22694045 240   2_2   0.3508657  825 2    \n",
       "16 2     1       0.19838017 221   2_1   0.4500558 1046 3    \n",
       "17 3     0       0.29789715 404   3_0   0.1489486  404 1    \n",
       "18 3     1       0.23851293 355   3_1   0.2682050  759 2    \n",
       "19 3     2       0.15111952 196   3_2   0.3437648  955 3    \n",
       "20 3     3       0.11321742 144   3_3   0.4003735 1099 4    \n",
       "21 3     6       0.07634096 104   3_6   0.4385440 1203 5    \n",
       "22 3     4       0.06292611 103   3_4   0.4700070 1306 6    "
      ]
     },
     "metadata": {},
     "output_type": "display_data"
    }
   ],
   "source": [
    "large.clones"
   ]
  },
  {
   "cell_type": "code",
   "execution_count": 18,
   "id": "abe394ac",
   "metadata": {
    "execution": {
     "iopub.execute_input": "2021-12-03T02:55:31.843577Z",
     "iopub.status.busy": "2021-12-03T02:55:31.840854Z",
     "iopub.status.idle": "2021-12-03T02:55:38.293455Z",
     "shell.execute_reply": "2021-12-03T02:55:38.292294Z"
    },
    "papermill": {
     "duration": 6.562892,
     "end_time": "2021-12-03T02:55:38.293700",
     "exception": false,
     "start_time": "2021-12-03T02:55:31.730808",
     "status": "completed"
    },
    "scrolled": false,
    "tags": []
   },
   "outputs": [
    {
     "data": {
      "text/plain": [
       "An object of class Seurat \n",
       "170811 features across 5426 samples within 4 assays \n",
       "Active assay: chromvarnames (633 features, 0 variable features)\n",
       " 3 other assays present: ATAC, RNA, chromvar\n",
       " 2 dimensional reductions calculated: integrated_lsi, umap"
      ]
     },
     "metadata": {},
     "output_type": "display_data"
    }
   ],
   "source": [
    "se <- subset(se, subset= name %in% factor(large.clones$name))\n",
    "se"
   ]
  },
  {
   "cell_type": "code",
   "execution_count": 19,
   "id": "cca27e11",
   "metadata": {
    "execution": {
     "iopub.execute_input": "2021-12-03T02:55:38.547949Z",
     "iopub.status.busy": "2021-12-03T02:55:38.544889Z",
     "iopub.status.idle": "2021-12-03T02:56:34.417443Z",
     "shell.execute_reply": "2021-12-03T02:56:34.415539Z"
    },
    "papermill": {
     "duration": 55.985562,
     "end_time": "2021-12-03T02:56:34.417693",
     "exception": false,
     "start_time": "2021-12-03T02:55:38.432131",
     "status": "completed"
    },
    "tags": []
   },
   "outputs": [],
   "source": [
    "saveRDS(object=se, file=file.path(outdir, \"se.clonesfilt.rds\"))    "
   ]
  },
  {
   "cell_type": "markdown",
   "id": "1aa2150f",
   "metadata": {
    "papermill": {
     "duration": 0.107617,
     "end_time": "2021-12-03T02:56:34.656847",
     "exception": false,
     "start_time": "2021-12-03T02:56:34.549230",
     "status": "completed"
    },
    "tags": []
   },
   "source": [
    "## Run DE"
   ]
  },
  {
   "cell_type": "code",
   "execution_count": 20,
   "id": "9c5b398c",
   "metadata": {
    "execution": {
     "iopub.execute_input": "2021-12-03T02:56:34.886893Z",
     "iopub.status.busy": "2021-12-03T02:56:34.882508Z",
     "iopub.status.idle": "2021-12-03T02:56:34.905750Z",
     "shell.execute_reply": "2021-12-03T02:56:34.903615Z"
    },
    "papermill": {
     "duration": 0.142401,
     "end_time": "2021-12-03T02:56:34.905996",
     "exception": false,
     "start_time": "2021-12-03T02:56:34.763595",
     "status": "completed"
    },
    "scrolled": true,
    "tags": []
   },
   "outputs": [],
   "source": [
    "# for (d in 0:(n_donors-1)){\n",
    "#     print('donor')\n",
    "#     print(d)\n",
    "#     curr.outdir <- file.path(outdir, paste0(\"donor\", d, \"_TF\"))\n",
    "#     dir.create(curr.outdir)\n",
    "#     donor.large.clones <- large.clones %>% filter(donor==d)\n",
    "#     clones.filt.ids <- sort(donor.large.clones$lineage)\n",
    "#     print('clones')\n",
    "#     print(clones.filt.ids)\n",
    "#     print(length(clones.filt.ids))\n",
    "#     se.filt <- subset(se, subset = (donor==d) & (lineage %in% donor.large.clones$lineage))\n",
    "#     Idents(se.filt) <- se.filt$lineage  \n",
    "#     print('se.filt')\n",
    "#     print(dim(se.filt[[]]))\n",
    "\n",
    "#     pairs = combn(clones.filt.ids,2)\n",
    "#     for (i in 1:dim(combn(clones.filt.ids,2))[2]){\n",
    "#         DefaultAssay(se.filt) <- \"chromvarnames\"\n",
    "#         print(pairs[,i])\n",
    "#         try({\n",
    "#             print(paste(\"clones\", i))\n",
    "#             a = pairs[1,i]\n",
    "#             b = pairs[2,i]\n",
    "#             da <- FindMarkers(\n",
    "#               object = se.filt,\n",
    "#               ident.1 = a,\n",
    "#               ident.2 = b,\n",
    "#               only.pos = FALSE,\n",
    "#               mean.fxn = rowMeans,\n",
    "#               logfc.threshold = 0.1,\n",
    "#               min.pct = min_pct,\n",
    "#               latent.vars=latent.vars,\n",
    "#               fc.name = \"avg_diff\")\n",
    "#             da$p_val_adj_BH <- stats::p.adjust(da$p_val, method = \"BH\", n = length(da$p_val))\n",
    "#             write.csv(da, \n",
    "#                       file=file.path(curr.outdir, paste0(\"clones_\",a,\"__\", b,\".DE.TF.csv\")))\n",
    "#             gally <- GGally::ggpairs(da[,c(\"p_val\", \"p_val_adj\")], aes(alpha = 0.4))\n",
    "#             ggsave(object=gally, file=file.path(curr.outdir, paste0(\"clones_\",a,\"__\", b,\".DE.TF.pvalHist.png\")))\n",
    "#             #plotDE(se, da, c, clust_outdir)\n",
    "#             # Save motifs\n",
    "#             DefaultAssay(se.filt) <- \"ATAC\"\n",
    "#             raw.ids <- names(Motifs(se.filt)@motif.names)\n",
    "#             rownames(curr.tf.da) <- sapply((curr.tf.da$X), function(x){raw.ids[match(x, Motifs(se.filt)@motif.names)]})\n",
    "#             m <- MotifPlot(\n",
    "#               object = se.filt,\n",
    "#               motifs = head(rownames(curr.tf.da)),\n",
    "#               assay = 'ATAC'\n",
    "#             )\n",
    "#             ggsave(plot=m, \n",
    "#                        file=file.path(curr.outdir, paste0(\"clones_\",a,\"__\", b,\".DE.TF.motif.top.png\")))\n",
    "\n",
    "\n",
    "\n",
    "\n",
    "#     })\n",
    "#         }\n",
    "#     }"
   ]
  },
  {
   "cell_type": "code",
   "execution_count": null,
   "id": "1692a487",
   "metadata": {
    "papermill": {
     "duration": 0.106636,
     "end_time": "2021-12-03T02:56:35.124688",
     "exception": false,
     "start_time": "2021-12-03T02:56:35.018052",
     "status": "completed"
    },
    "tags": []
   },
   "outputs": [],
   "source": []
  },
  {
   "cell_type": "code",
   "execution_count": null,
   "id": "a9884ca6",
   "metadata": {
    "papermill": {
     "duration": 0.106376,
     "end_time": "2021-12-03T02:56:35.338465",
     "exception": false,
     "start_time": "2021-12-03T02:56:35.232089",
     "status": "completed"
    },
    "tags": []
   },
   "outputs": [],
   "source": []
  }
 ],
 "metadata": {
  "celltoolbar": "Tags",
  "kernelspec": {
   "display_name": "R",
   "language": "R",
   "name": "ir"
  },
  "language_info": {
   "codemirror_mode": "r",
   "file_extension": ".r",
   "mimetype": "text/x-r-source",
   "name": "R",
   "pygments_lexer": "r",
   "version": "4.1.1"
  },
  "papermill": {
   "default_parameters": {},
   "duration": 855.658508,
   "end_time": "2021-12-03T02:56:35.870283",
   "environment_variables": {},
   "exception": null,
   "input_path": "/mnt/md0/isshamie/Projects/Mito_Trace/R_scripts/annotation_clones/setup_motifs_large_clones.ipynb",
   "output_path": "/data/Mito_Trace/output/pipeline/cd34norm/MTblacklist/data/merged/MT/cellr_True/numread_200/filters/minC10_minR50_topN0_hetT0.001_hetC10_hetCount5_bq20/mgatk/vireoIn/clones/variants_mgatkdonor/knn/kparam_10/concat/annotation_clones/DE_large/output.ipynb",
   "parameters": {
    "n_donors": 4,
    "outdir": "/data/Mito_Trace/output/pipeline/cd34norm/MTblacklist/data/merged/MT/cellr_True/numread_200/filters/minC10_minR50_topN0_hetT0.001_hetC10_hetCount5_bq20/mgatk/vireoIn/clones/variants_mgatkdonor/knn/kparam_10/concat/annotation_clones/DE_large",
    "se_f": "/data/Mito_Trace/output/pipeline/cd34norm/MTblacklist/data/merged/MT/cellr_True/numread_200/filters/minC10_minR50_topN0_hetT0.001_hetC10_hetCount5_bq20/mgatk/vireoIn/clones/variants_mgatkdonor/knn/kparam_10/concat/annotation_clones/SE.rds"
   },
   "start_time": "2021-12-03T02:42:20.211775",
   "version": "2.3.3"
  }
 },
 "nbformat": 4,
 "nbformat_minor": 5
}