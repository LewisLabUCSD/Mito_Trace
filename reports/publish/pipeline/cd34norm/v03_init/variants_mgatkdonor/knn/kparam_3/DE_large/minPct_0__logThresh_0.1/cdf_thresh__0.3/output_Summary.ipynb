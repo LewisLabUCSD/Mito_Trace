{
 "cells": [
  {
   "cell_type": "code",
   "execution_count": 1,
   "id": "4246cc89",
   "metadata": {
    "execution": {
     "iopub.execute_input": "2021-12-03T16:19:08.331886Z",
     "iopub.status.busy": "2021-12-03T16:19:08.329056Z",
     "iopub.status.idle": "2021-12-03T16:19:08.375844Z",
     "shell.execute_reply": "2021-12-03T16:19:08.374508Z"
    },
    "papermill": {
     "duration": 0.181401,
     "end_time": "2021-12-03T16:19:08.376177",
     "exception": false,
     "start_time": "2021-12-03T16:19:08.194776",
     "status": "completed"
    },
    "tags": [
     "parameters"
    ]
   },
   "outputs": [],
   "source": [
    "#indir = \"/data/Mito_Trace/output/annotation_clones/data/cd34norm/MTblacklist/DE_large\"\n",
    "indir = \"/data/Mito_Trace/output/pipeline/cd34norm/MTblacklist/data/merged/MT/cellr_True/numread_200/filters/minC10_minR50_topN0_hetT0.001_hetC10_hetCount5_bq20/mgatk/vireoIn/clones/variants_init/vireo/nclones20/annotation_clones/DE_large/minPct_0.01__logThresh_0\"\n",
    "\n",
    "se_indir = \"/data/Mito_Trace/output/pipeline/cd34norm/MTblacklist/data/merged/MT/cellr_True/numread_200/filters/minC10_minR50_topN0_hetT0.001_hetC10_hetCount5_bq20/mgatk/vireoIn/clones/variants_init/vireo/nclones20/annotation_clones/DE_large\"\n",
    "n_donors = 4\n",
    "cdf_thresh = 0.3\n",
    "\n",
    "n_top_genes = 5\n",
    "n_top_clones = 3\n",
    "utils_script <- \"/data/Mito_Trace/R_scripts/seurat_utils.R\"\n"
   ]
  },
  {
   "cell_type": "code",
   "execution_count": 2,
   "id": "2a76f748",
   "metadata": {
    "execution": {
     "iopub.execute_input": "2021-12-03T16:19:08.520546Z",
     "iopub.status.busy": "2021-12-03T16:19:08.478196Z",
     "iopub.status.idle": "2021-12-03T16:19:08.538846Z",
     "shell.execute_reply": "2021-12-03T16:19:08.537638Z"
    },
    "papermill": {
     "duration": 0.110851,
     "end_time": "2021-12-03T16:19:08.539060",
     "exception": false,
     "start_time": "2021-12-03T16:19:08.428209",
     "status": "completed"
    },
    "tags": [
     "injected-parameters"
    ]
   },
   "outputs": [],
   "source": [
    "# Parameters\n",
    "indir = \"/data/Mito_Trace/output/pipeline/cd34norm/MTblacklist/data/merged/MT/cellr_True/numread_200/filters/minC10_minR50_topN0_hetT0.001_hetC10_hetCount5_bq20/mgatk/vireoIn/clones/variants_mgatkdonor/knn/kparam_3/concat/annotation_clones/DE_large/minPct_0__logThresh_0.1\"\n",
    "se_indir = \"/data/Mito_Trace/output/pipeline/cd34norm/MTblacklist/data/merged/MT/cellr_True/numread_200/filters/minC10_minR50_topN0_hetT0.001_hetC10_hetCount5_bq20/mgatk/vireoIn/clones/variants_mgatkdonor/knn/kparam_3/concat/annotation_clones/DE_large\"\n",
    "n_donors = 4\n",
    "cdf_thresh = 0.3\n"
   ]
  },
  {
   "cell_type": "code",
   "execution_count": 3,
   "id": "126002f9",
   "metadata": {
    "execution": {
     "iopub.execute_input": "2021-12-03T16:19:08.651353Z",
     "iopub.status.busy": "2021-12-03T16:19:08.649300Z",
     "iopub.status.idle": "2021-12-03T16:19:14.744634Z",
     "shell.execute_reply": "2021-12-03T16:19:14.743607Z"
    },
    "papermill": {
     "duration": 6.151103,
     "end_time": "2021-12-03T16:19:14.744829",
     "exception": false,
     "start_time": "2021-12-03T16:19:08.593726",
     "status": "completed"
    },
    "scrolled": true,
    "tags": []
   },
   "outputs": [
    {
     "name": "stderr",
     "output_type": "stream",
     "text": [
      "Attaching SeuratObject\n",
      "\n"
     ]
    }
   ],
   "source": [
    "source(utils_script)"
   ]
  },
  {
   "cell_type": "code",
   "execution_count": 4,
   "id": "3657ef25",
   "metadata": {
    "execution": {
     "iopub.execute_input": "2021-12-03T16:19:14.871932Z",
     "iopub.status.busy": "2021-12-03T16:19:14.868770Z",
     "iopub.status.idle": "2021-12-03T16:19:14.887532Z",
     "shell.execute_reply": "2021-12-03T16:19:14.886463Z"
    },
    "papermill": {
     "duration": 0.082907,
     "end_time": "2021-12-03T16:19:14.887747",
     "exception": false,
     "start_time": "2021-12-03T16:19:14.804840",
     "status": "completed"
    },
    "scrolled": true,
    "tags": []
   },
   "outputs": [
    {
     "name": "stderr",
     "output_type": "stream",
     "text": [
      "Warning message in dir.create(outdir):\n",
      "“'/data/Mito_Trace/output/pipeline/cd34norm/MTblacklist/data/merged/MT/cellr_True/numread_200/filters/minC10_minR50_topN0_hetT0.001_hetC10_hetCount5_bq20/mgatk/vireoIn/clones/variants_mgatkdonor/knn/kparam_3/concat/annotation_clones/DE_large/minPct_0__logThresh_0.1/cdf_thresh__0.3' already exists”\n"
     ]
    }
   ],
   "source": [
    "outdir <- paste0(indir, \"/\", \"cdf_thresh__\", (cdf_thresh))\n",
    "dir.create(outdir)"
   ]
  },
  {
   "cell_type": "code",
   "execution_count": 5,
   "id": "5d9ca2e3",
   "metadata": {
    "execution": {
     "iopub.execute_input": "2021-12-03T16:19:15.011531Z",
     "iopub.status.busy": "2021-12-03T16:19:15.008630Z",
     "iopub.status.idle": "2021-12-03T16:19:21.353487Z",
     "shell.execute_reply": "2021-12-03T16:19:21.352598Z"
    },
    "papermill": {
     "duration": 6.406203,
     "end_time": "2021-12-03T16:19:21.353682",
     "exception": false,
     "start_time": "2021-12-03T16:19:14.947479",
     "status": "completed"
    },
    "scrolled": true,
    "tags": []
   },
   "outputs": [
    {
     "name": "stderr",
     "output_type": "stream",
     "text": [
      "\n",
      "Attaching package: ‘cowplot’\n",
      "\n",
      "\n"
     ]
    },
    {
     "name": "stderr",
     "output_type": "stream",
     "text": [
      "The following object is masked from ‘package:patchwork’:\n",
      "\n",
      "    align_plots\n",
      "\n",
      "\n"
     ]
    },
    {
     "name": "stderr",
     "output_type": "stream",
     "text": [
      "\n",
      "Attaching package: ‘dplyr’\n",
      "\n",
      "\n"
     ]
    },
    {
     "name": "stderr",
     "output_type": "stream",
     "text": [
      "The following objects are masked from ‘package:stats’:\n",
      "\n",
      "    filter, lag\n",
      "\n",
      "\n"
     ]
    },
    {
     "name": "stderr",
     "output_type": "stream",
     "text": [
      "The following objects are masked from ‘package:base’:\n",
      "\n",
      "    intersect, setdiff, setequal, union\n",
      "\n",
      "\n"
     ]
    },
    {
     "name": "stderr",
     "output_type": "stream",
     "text": [
      "Loading required package: grid\n",
      "\n"
     ]
    },
    {
     "name": "stderr",
     "output_type": "stream",
     "text": [
      "========================================\n",
      "ComplexHeatmap version 2.10.0\n",
      "Bioconductor page: http://bioconductor.org/packages/ComplexHeatmap/\n",
      "Github page: https://github.com/jokergoo/ComplexHeatmap\n",
      "Documentation: http://jokergoo.github.io/ComplexHeatmap-reference\n",
      "\n",
      "If you use it in published research, please cite:\n",
      "Gu, Z. Complex heatmaps reveal patterns and correlations in multidimensional \n",
      "  genomic data. Bioinformatics 2016.\n",
      "\n",
      "The new InteractiveComplexHeatmap package can directly export static \n",
      "complex heatmaps into an interactive Shiny app with zero effort. Have a try!\n",
      "\n",
      "This message can be suppressed by:\n",
      "  suppressPackageStartupMessages(library(ComplexHeatmap))\n",
      "========================================\n",
      "\n",
      "\n"
     ]
    },
    {
     "name": "stderr",
     "output_type": "stream",
     "text": [
      "\n",
      "\n"
     ]
    },
    {
     "name": "stderr",
     "output_type": "stream",
     "text": [
      "Loading required package: BSgenome\n",
      "\n"
     ]
    },
    {
     "name": "stderr",
     "output_type": "stream",
     "text": [
      "Loading required package: BiocGenerics\n",
      "\n"
     ]
    },
    {
     "name": "stderr",
     "output_type": "stream",
     "text": [
      "\n",
      "Attaching package: ‘BiocGenerics’\n",
      "\n",
      "\n"
     ]
    },
    {
     "name": "stderr",
     "output_type": "stream",
     "text": [
      "The following objects are masked from ‘package:dplyr’:\n",
      "\n",
      "    combine, intersect, setdiff, union\n",
      "\n",
      "\n"
     ]
    },
    {
     "name": "stderr",
     "output_type": "stream",
     "text": [
      "The following objects are masked from ‘package:stats’:\n",
      "\n",
      "    IQR, mad, sd, var, xtabs\n",
      "\n",
      "\n"
     ]
    },
    {
     "name": "stderr",
     "output_type": "stream",
     "text": [
      "The following objects are masked from ‘package:base’:\n",
      "\n",
      "    anyDuplicated, append, as.data.frame, basename, cbind, colnames,\n",
      "    dirname, do.call, duplicated, eval, evalq, Filter, Find, get, grep,\n",
      "    grepl, intersect, is.unsorted, lapply, Map, mapply, match, mget,\n",
      "    order, paste, pmax, pmax.int, pmin, pmin.int, Position, rank,\n",
      "    rbind, Reduce, rownames, sapply, setdiff, sort, table, tapply,\n",
      "    union, unique, unsplit, which.max, which.min\n",
      "\n",
      "\n"
     ]
    },
    {
     "name": "stderr",
     "output_type": "stream",
     "text": [
      "Loading required package: S4Vectors\n",
      "\n"
     ]
    },
    {
     "name": "stderr",
     "output_type": "stream",
     "text": [
      "Loading required package: stats4\n",
      "\n"
     ]
    },
    {
     "name": "stderr",
     "output_type": "stream",
     "text": [
      "\n",
      "Attaching package: ‘S4Vectors’\n",
      "\n",
      "\n"
     ]
    },
    {
     "name": "stderr",
     "output_type": "stream",
     "text": [
      "The following object is masked from ‘package:future’:\n",
      "\n",
      "    values\n",
      "\n",
      "\n"
     ]
    },
    {
     "name": "stderr",
     "output_type": "stream",
     "text": [
      "The following objects are masked from ‘package:dplyr’:\n",
      "\n",
      "    first, rename\n",
      "\n",
      "\n"
     ]
    },
    {
     "name": "stderr",
     "output_type": "stream",
     "text": [
      "The following objects are masked from ‘package:base’:\n",
      "\n",
      "    expand.grid, I, unname\n",
      "\n",
      "\n"
     ]
    },
    {
     "name": "stderr",
     "output_type": "stream",
     "text": [
      "Loading required package: IRanges\n",
      "\n"
     ]
    },
    {
     "name": "stderr",
     "output_type": "stream",
     "text": [
      "\n",
      "Attaching package: ‘IRanges’\n",
      "\n",
      "\n"
     ]
    },
    {
     "name": "stderr",
     "output_type": "stream",
     "text": [
      "The following objects are masked from ‘package:dplyr’:\n",
      "\n",
      "    collapse, desc, slice\n",
      "\n",
      "\n"
     ]
    },
    {
     "name": "stderr",
     "output_type": "stream",
     "text": [
      "Loading required package: GenomeInfoDb\n",
      "\n"
     ]
    },
    {
     "name": "stderr",
     "output_type": "stream",
     "text": [
      "Loading required package: GenomicRanges\n",
      "\n"
     ]
    },
    {
     "name": "stderr",
     "output_type": "stream",
     "text": [
      "Loading required package: Biostrings\n",
      "\n"
     ]
    },
    {
     "name": "stderr",
     "output_type": "stream",
     "text": [
      "Loading required package: XVector\n",
      "\n"
     ]
    },
    {
     "name": "stderr",
     "output_type": "stream",
     "text": [
      "\n",
      "Attaching package: ‘Biostrings’\n",
      "\n",
      "\n"
     ]
    },
    {
     "name": "stderr",
     "output_type": "stream",
     "text": [
      "The following object is masked from ‘package:grid’:\n",
      "\n",
      "    pattern\n",
      "\n",
      "\n"
     ]
    },
    {
     "name": "stderr",
     "output_type": "stream",
     "text": [
      "The following object is masked from ‘package:base’:\n",
      "\n",
      "    strsplit\n",
      "\n",
      "\n"
     ]
    },
    {
     "name": "stderr",
     "output_type": "stream",
     "text": [
      "Loading required package: rtracklayer\n",
      "\n"
     ]
    }
   ],
   "source": [
    "library(Seurat)\n",
    "library(Signac)\n",
    "library(ggplot2)\n",
    "library(patchwork)\n",
    "set.seed(1234)\n",
    "library(magrittr)\n",
    "library(cowplot)\n",
    "library(metap)\n",
    "library(dplyr)\n",
    "library(future)\n",
    "library(\"ComplexHeatmap\")\n",
    "library(motifmatchr)\n",
    "library(JASPAR2020)\n",
    "library(TFBSTools)\n",
    "library(BSgenome.Hsapiens.UCSC.hg38)\n"
   ]
  },
  {
   "cell_type": "markdown",
   "id": "e8a7d7b5",
   "metadata": {
    "papermill": {
     "duration": 0.085308,
     "end_time": "2021-12-03T16:19:21.528817",
     "exception": false,
     "start_time": "2021-12-03T16:19:21.443509",
     "status": "completed"
    },
    "tags": []
   },
   "source": [
    "## Import seurat object"
   ]
  },
  {
   "cell_type": "code",
   "execution_count": 6,
   "id": "2ef3a56c",
   "metadata": {
    "execution": {
     "iopub.execute_input": "2021-12-03T16:19:21.703079Z",
     "iopub.status.busy": "2021-12-03T16:19:21.699395Z",
     "iopub.status.idle": "2021-12-03T16:19:40.442539Z",
     "shell.execute_reply": "2021-12-03T16:19:40.443279Z"
    },
    "papermill": {
     "duration": 18.829643,
     "end_time": "2021-12-03T16:19:40.443522",
     "exception": false,
     "start_time": "2021-12-03T16:19:21.613879",
     "status": "completed"
    },
    "scrolled": true,
    "tags": []
   },
   "outputs": [
    {
     "name": "stdout",
     "output_type": "stream",
     "text": [
      "[1] 4\n",
      "[1] \"i 1 donor 0\"\n",
      "[1] \"i 2 donor 1\"\n",
      "[1] \"i 3 donor 2\"\n",
      "[1] \"only 1 clone. Using top 3 clones\"\n",
      "[1] \"i 4 donor 3\"\n",
      "[1] \"only 1 clone. Using top 3 clones\"\n"
     ]
    },
    {
     "data": {
      "text/html": [
       "<table class=\"dataframe\">\n",
       "<caption>A data.frame: 14 × 9</caption>\n",
       "<thead>\n",
       "\t<tr><th scope=col>X</th><th scope=col>donor</th><th scope=col>lineage</th><th scope=col>norm.total</th><th scope=col>total</th><th scope=col>name</th><th scope=col>cdf.norm</th><th scope=col>cdf</th><th scope=col>index</th></tr>\n",
       "\t<tr><th scope=col>&lt;int&gt;</th><th scope=col>&lt;int&gt;</th><th scope=col>&lt;int&gt;</th><th scope=col>&lt;dbl&gt;</th><th scope=col>&lt;int&gt;</th><th scope=col>&lt;chr&gt;</th><th scope=col>&lt;dbl&gt;</th><th scope=col>&lt;int&gt;</th><th scope=col>&lt;int&gt;</th></tr>\n",
       "</thead>\n",
       "<tbody>\n",
       "\t<tr><td> 1</td><td>0</td><td> 0</td><td>0.17990440</td><td>360</td><td>0_0 </td><td>0.08995220</td><td> 360</td><td>1</td></tr>\n",
       "\t<tr><td> 2</td><td>0</td><td> 2</td><td>0.15394845</td><td>255</td><td>0_2 </td><td>0.16692643</td><td> 615</td><td>2</td></tr>\n",
       "\t<tr><td> 3</td><td>0</td><td> 4</td><td>0.13733505</td><td>221</td><td>0_4 </td><td>0.23559395</td><td> 836</td><td>3</td></tr>\n",
       "\t<tr><td> 8</td><td>1</td><td> 0</td><td>0.14526665</td><td>220</td><td>1_0 </td><td>0.07263333</td><td> 220</td><td>1</td></tr>\n",
       "\t<tr><td> 9</td><td>1</td><td> 1</td><td>0.11478933</td><td>172</td><td>1_1 </td><td>0.13002799</td><td> 392</td><td>2</td></tr>\n",
       "\t<tr><td>10</td><td>1</td><td> 2</td><td>0.10036769</td><td>156</td><td>1_2 </td><td>0.18021183</td><td> 548</td><td>3</td></tr>\n",
       "\t<tr><td>11</td><td>1</td><td> 5</td><td>0.09456075</td><td>153</td><td>1_5 </td><td>0.22749221</td><td> 701</td><td>4</td></tr>\n",
       "\t<tr><td>12</td><td>1</td><td>10</td><td>0.09365953</td><td>123</td><td>1_10</td><td>0.27432198</td><td> 824</td><td>5</td></tr>\n",
       "\t<tr><td>18</td><td>2</td><td> 0</td><td>0.25786216</td><td>318</td><td>2_0 </td><td>0.12893108</td><td> 318</td><td>1</td></tr>\n",
       "\t<tr><td>19</td><td>2</td><td> 1</td><td>0.20588268</td><td>230</td><td>2_1 </td><td>0.23187242</td><td> 548</td><td>2</td></tr>\n",
       "\t<tr><td>20</td><td>2</td><td> 2</td><td>0.16432196</td><td>188</td><td>2_2 </td><td>0.31403340</td><td> 736</td><td>3</td></tr>\n",
       "\t<tr><td>23</td><td>3</td><td> 0</td><td>0.32016160</td><td>474</td><td>3_0 </td><td>0.16008080</td><td> 474</td><td>1</td></tr>\n",
       "\t<tr><td>24</td><td>3</td><td> 1</td><td>0.25119160</td><td>406</td><td>3_1 </td><td>0.28567660</td><td> 880</td><td>2</td></tr>\n",
       "\t<tr><td>25</td><td>3</td><td>36</td><td>0.24311807</td><td>277</td><td>3_36</td><td>0.40723563</td><td>1157</td><td>3</td></tr>\n",
       "</tbody>\n",
       "</table>\n"
      ],
      "text/latex": [
       "A data.frame: 14 × 9\n",
       "\\begin{tabular}{lllllllll}\n",
       " X & donor & lineage & norm.total & total & name & cdf.norm & cdf & index\\\\\n",
       " <int> & <int> & <int> & <dbl> & <int> & <chr> & <dbl> & <int> & <int>\\\\\n",
       "\\hline\n",
       "\t  1 & 0 &  0 & 0.17990440 & 360 & 0\\_0  & 0.08995220 &  360 & 1\\\\\n",
       "\t  2 & 0 &  2 & 0.15394845 & 255 & 0\\_2  & 0.16692643 &  615 & 2\\\\\n",
       "\t  3 & 0 &  4 & 0.13733505 & 221 & 0\\_4  & 0.23559395 &  836 & 3\\\\\n",
       "\t  8 & 1 &  0 & 0.14526665 & 220 & 1\\_0  & 0.07263333 &  220 & 1\\\\\n",
       "\t  9 & 1 &  1 & 0.11478933 & 172 & 1\\_1  & 0.13002799 &  392 & 2\\\\\n",
       "\t 10 & 1 &  2 & 0.10036769 & 156 & 1\\_2  & 0.18021183 &  548 & 3\\\\\n",
       "\t 11 & 1 &  5 & 0.09456075 & 153 & 1\\_5  & 0.22749221 &  701 & 4\\\\\n",
       "\t 12 & 1 & 10 & 0.09365953 & 123 & 1\\_10 & 0.27432198 &  824 & 5\\\\\n",
       "\t 18 & 2 &  0 & 0.25786216 & 318 & 2\\_0  & 0.12893108 &  318 & 1\\\\\n",
       "\t 19 & 2 &  1 & 0.20588268 & 230 & 2\\_1  & 0.23187242 &  548 & 2\\\\\n",
       "\t 20 & 2 &  2 & 0.16432196 & 188 & 2\\_2  & 0.31403340 &  736 & 3\\\\\n",
       "\t 23 & 3 &  0 & 0.32016160 & 474 & 3\\_0  & 0.16008080 &  474 & 1\\\\\n",
       "\t 24 & 3 &  1 & 0.25119160 & 406 & 3\\_1  & 0.28567660 &  880 & 2\\\\\n",
       "\t 25 & 3 & 36 & 0.24311807 & 277 & 3\\_36 & 0.40723563 & 1157 & 3\\\\\n",
       "\\end{tabular}\n"
      ],
      "text/markdown": [
       "\n",
       "A data.frame: 14 × 9\n",
       "\n",
       "| X &lt;int&gt; | donor &lt;int&gt; | lineage &lt;int&gt; | norm.total &lt;dbl&gt; | total &lt;int&gt; | name &lt;chr&gt; | cdf.norm &lt;dbl&gt; | cdf &lt;int&gt; | index &lt;int&gt; |\n",
       "|---|---|---|---|---|---|---|---|---|\n",
       "|  1 | 0 |  0 | 0.17990440 | 360 | 0_0  | 0.08995220 |  360 | 1 |\n",
       "|  2 | 0 |  2 | 0.15394845 | 255 | 0_2  | 0.16692643 |  615 | 2 |\n",
       "|  3 | 0 |  4 | 0.13733505 | 221 | 0_4  | 0.23559395 |  836 | 3 |\n",
       "|  8 | 1 |  0 | 0.14526665 | 220 | 1_0  | 0.07263333 |  220 | 1 |\n",
       "|  9 | 1 |  1 | 0.11478933 | 172 | 1_1  | 0.13002799 |  392 | 2 |\n",
       "| 10 | 1 |  2 | 0.10036769 | 156 | 1_2  | 0.18021183 |  548 | 3 |\n",
       "| 11 | 1 |  5 | 0.09456075 | 153 | 1_5  | 0.22749221 |  701 | 4 |\n",
       "| 12 | 1 | 10 | 0.09365953 | 123 | 1_10 | 0.27432198 |  824 | 5 |\n",
       "| 18 | 2 |  0 | 0.25786216 | 318 | 2_0  | 0.12893108 |  318 | 1 |\n",
       "| 19 | 2 |  1 | 0.20588268 | 230 | 2_1  | 0.23187242 |  548 | 2 |\n",
       "| 20 | 2 |  2 | 0.16432196 | 188 | 2_2  | 0.31403340 |  736 | 3 |\n",
       "| 23 | 3 |  0 | 0.32016160 | 474 | 3_0  | 0.16008080 |  474 | 1 |\n",
       "| 24 | 3 |  1 | 0.25119160 | 406 | 3_1  | 0.28567660 |  880 | 2 |\n",
       "| 25 | 3 | 36 | 0.24311807 | 277 | 3_36 | 0.40723563 | 1157 | 3 |\n",
       "\n"
      ],
      "text/plain": [
       "   X  donor lineage norm.total total name cdf.norm   cdf  index\n",
       "1   1 0      0      0.17990440 360   0_0  0.08995220  360 1    \n",
       "2   2 0      2      0.15394845 255   0_2  0.16692643  615 2    \n",
       "3   3 0      4      0.13733505 221   0_4  0.23559395  836 3    \n",
       "4   8 1      0      0.14526665 220   1_0  0.07263333  220 1    \n",
       "5   9 1      1      0.11478933 172   1_1  0.13002799  392 2    \n",
       "6  10 1      2      0.10036769 156   1_2  0.18021183  548 3    \n",
       "7  11 1      5      0.09456075 153   1_5  0.22749221  701 4    \n",
       "8  12 1     10      0.09365953 123   1_10 0.27432198  824 5    \n",
       "9  18 2      0      0.25786216 318   2_0  0.12893108  318 1    \n",
       "10 19 2      1      0.20588268 230   2_1  0.23187242  548 2    \n",
       "11 20 2      2      0.16432196 188   2_2  0.31403340  736 3    \n",
       "12 23 3      0      0.32016160 474   3_0  0.16008080  474 1    \n",
       "13 24 3      1      0.25119160 406   3_1  0.28567660  880 2    \n",
       "14 25 3     36      0.24311807 277   3_36 0.40723563 1157 3    "
      ]
     },
     "metadata": {},
     "output_type": "display_data"
    }
   ],
   "source": [
    "se <- readRDS(file.path(se_indir, \"se.clonesfilt.rds\"))\n",
    "init.large.clones <- read.csv(file.path(se_indir, \"large_clones.csv\"))\n",
    "large.clones <- init.large.clones %>% filter(cdf.norm<cdf_thresh)\n",
    "\n",
    "large.clones <- check.if.one.clone(large.clones, init.large.clones, n_top_clones)\n",
    "large.clones"
   ]
  },
  {
   "cell_type": "code",
   "execution_count": 7,
   "id": "ec910a21",
   "metadata": {
    "execution": {
     "iopub.execute_input": "2021-12-03T16:19:40.630340Z",
     "iopub.status.busy": "2021-12-03T16:19:40.628031Z",
     "iopub.status.idle": "2021-12-03T16:19:46.984473Z",
     "shell.execute_reply": "2021-12-03T16:19:46.983238Z"
    },
    "papermill": {
     "duration": 6.448582,
     "end_time": "2021-12-03T16:19:46.984718",
     "exception": false,
     "start_time": "2021-12-03T16:19:40.536136",
     "status": "completed"
    },
    "tags": []
   },
   "outputs": [],
   "source": [
    "se <- subset(se, subset= name %in% factor(large.clones$name))"
   ]
  },
  {
   "cell_type": "code",
   "execution_count": 8,
   "id": "c1f91a07",
   "metadata": {
    "execution": {
     "iopub.execute_input": "2021-12-03T16:19:47.177012Z",
     "iopub.status.busy": "2021-12-03T16:19:47.174264Z",
     "iopub.status.idle": "2021-12-03T16:19:47.202890Z",
     "shell.execute_reply": "2021-12-03T16:19:47.201906Z"
    },
    "papermill": {
     "duration": 0.1213,
     "end_time": "2021-12-03T16:19:47.203092",
     "exception": false,
     "start_time": "2021-12-03T16:19:47.081792",
     "status": "completed"
    },
    "tags": []
   },
   "outputs": [],
   "source": [
    "Idents(se) <- \"name\""
   ]
  },
  {
   "cell_type": "code",
   "execution_count": 9,
   "id": "8f207cb1",
   "metadata": {
    "execution": {
     "iopub.execute_input": "2021-12-03T16:19:47.361029Z",
     "iopub.status.busy": "2021-12-03T16:19:47.357915Z",
     "iopub.status.idle": "2021-12-03T16:19:48.217867Z",
     "shell.execute_reply": "2021-12-03T16:19:48.218486Z"
    },
    "papermill": {
     "duration": 0.937774,
     "end_time": "2021-12-03T16:19:48.218690",
     "exception": false,
     "start_time": "2021-12-03T16:19:47.280916",
     "status": "completed"
    },
    "scrolled": true,
    "tags": []
   },
   "outputs": [
    {
     "name": "stderr",
     "output_type": "stream",
     "text": [
      "Saving 6.67 x 6.67 in image\n",
      "\n"
     ]
    },
    {
     "data": {
      "image/png": "[encoded data removed]",
      "text/plain": [
       "plot without title"
      ]
     },
     "metadata": {
      "image/png": {
       "height": 420,
       "width": 420
      }
     },
     "output_type": "display_data"
    }
   ],
   "source": [
    "p <- ggplot(data = large.clones, aes(index, cdf.norm)) +\n",
    "  geom_point(color = \"steelblue\", size = 1) +\n",
    "  facet_wrap(~ donor) \n",
    "\n",
    "p <- p + geom_hline(yintercept=cdf_thresh, color='green') \n",
    "p\n",
    "ggsave(file.path(outdir, \"large.clones.cdf.png\"))\n",
    "\n"
   ]
  },
  {
   "cell_type": "code",
   "execution_count": 10,
   "id": "c28a1ffa",
   "metadata": {
    "execution": {
     "iopub.execute_input": "2021-12-03T16:19:48.420362Z",
     "iopub.status.busy": "2021-12-03T16:19:48.418234Z",
     "iopub.status.idle": "2021-12-03T16:19:48.432969Z",
     "shell.execute_reply": "2021-12-03T16:19:48.431959Z"
    },
    "papermill": {
     "duration": 0.117144,
     "end_time": "2021-12-03T16:19:48.433156",
     "exception": false,
     "start_time": "2021-12-03T16:19:48.316012",
     "status": "completed"
    },
    "tags": []
   },
   "outputs": [],
   "source": [
    "## Get motif names\n",
    "\n",
    "# DefaultAssay(se) <- \"chromvar\"\n",
    "# chrom.var.names <- GetAssayData(se)\n",
    "# DefaultAssay(se) <- \"ATAC\"\n",
    "# motifs <- Motifs(se)\n",
    "# #Motifs(se)@motif.names\n",
    "\n",
    "# head(chrom.var.names)\n",
    "# row.names(chrom.var.names) <- sapply(row.names(chrom.var.names), function(x) {Motifs(se)@motif.names[[x]]})\n",
    "# head(chrom.var.names)\n",
    "\n",
    "\n"
   ]
  },
  {
   "cell_type": "markdown",
   "id": "5564da63",
   "metadata": {
    "papermill": {
     "duration": 0.107348,
     "end_time": "2021-12-03T16:19:48.667147",
     "exception": false,
     "start_time": "2021-12-03T16:19:48.559799",
     "status": "completed"
    },
    "tags": []
   },
   "source": [
    "## TF DE"
   ]
  },
  {
   "cell_type": "markdown",
   "id": "e7def62d",
   "metadata": {
    "papermill": {
     "duration": 0.073808,
     "end_time": "2021-12-03T16:19:48.827291",
     "exception": false,
     "start_time": "2021-12-03T16:19:48.753483",
     "status": "completed"
    },
    "tags": []
   },
   "source": [
    "## Summarize results"
   ]
  },
  {
   "cell_type": "code",
   "execution_count": 11,
   "id": "c7854307",
   "metadata": {
    "execution": {
     "iopub.execute_input": "2021-12-03T16:19:48.985431Z",
     "iopub.status.busy": "2021-12-03T16:19:48.981769Z",
     "iopub.status.idle": "2021-12-03T16:19:49.000805Z",
     "shell.execute_reply": "2021-12-03T16:19:48.999314Z"
    },
    "papermill": {
     "duration": 0.099815,
     "end_time": "2021-12-03T16:19:49.001045",
     "exception": false,
     "start_time": "2021-12-03T16:19:48.901230",
     "status": "completed"
    },
    "scrolled": true,
    "tags": []
   },
   "outputs": [],
   "source": [
    "# all.names.sig <- c()\n",
    "# DefaultAssay(se) <- \"chromvarnames\"\n",
    "# for (d in 0:(n_donors-1)){\n",
    "#     print('donor')\n",
    "#     print(d)\n",
    "#     curr.indir <- file.path(indir, paste0(\"donor\", d, \"_TF\"))\n",
    "#     #curr.outdir <- file.path(outdir, paste0(\"donor\", d, \"_TF\"))\n",
    "#     #dir.create(curr.outdir)\n",
    "#     donor.large.clones <- large.clones %>% filter(donor==d)\n",
    "#     clones.filt.ids <- sort(donor.large.clones$lineage)\n",
    "#     se.filt <- subset(se, subset = (donor==d) & (lineage %in% donor.large.clones$lineage))\n",
    "#     if (length(clones.filt.ids) < 2){\n",
    "#         print(\"0 or 1 clone found. not running\")\n",
    "#         next\n",
    "#     }\n",
    "#     pairs = combn(clones.filt.ids,2)\n",
    "#     names.sig <- c()\n",
    "\n",
    "#     for (i in 1:dim(pairs)[2]){\n",
    "#         print(pairs[,i])\n",
    "#         print(paste(\"comparison #\", i))\n",
    "#         a = pairs[1,i]\n",
    "#         b = pairs[2,i]\n",
    "#         curr.tf.da <- read.csv(file.path(curr.indir, \n",
    "#                                          paste0(\"clones_\",a,\"__\", b,\".DE.TF.csv\"))) %>% \n",
    "#                       arrange(p_val)\n",
    "#         row.names(curr.tf.da) <- curr.tf.da$X  #sapply(curr.tf.da$X, function(m) {motifs@motif.names[[m]]})\n",
    "#         names.sig <- c(names.sig, head(row.names(curr.tf.da), n_top_genes))\n",
    "#         all.names.sig <- c(all.names.sig, head(row.names(curr.tf.da), n_top_genes))\n",
    "#         }\n",
    "#     names.sig <- unique(names.sig)\n",
    "    \n",
    "#     gally <- GGally::ggpairs(curr.tf.da[,c(\"p_val\", \"p_val_adj\")], aes(alpha = 0.4))\n",
    "# }\n"
   ]
  },
  {
   "cell_type": "code",
   "execution_count": 12,
   "id": "78949989",
   "metadata": {
    "execution": {
     "iopub.execute_input": "2021-12-03T16:19:49.167846Z",
     "iopub.status.busy": "2021-12-03T16:19:49.164305Z",
     "iopub.status.idle": "2021-12-03T16:21:16.120603Z",
     "shell.execute_reply": "2021-12-03T16:21:16.119350Z"
    },
    "papermill": {
     "duration": 87.039747,
     "end_time": "2021-12-03T16:21:16.120911",
     "exception": false,
     "start_time": "2021-12-03T16:19:49.081164",
     "status": "completed"
    },
    "scrolled": true,
    "tags": []
   },
   "outputs": [
    {
     "name": "stdout",
     "output_type": "stream",
     "text": [
      "[1] \"donor\"\n",
      "[1] 0\n"
     ]
    },
    {
     "name": "stderr",
     "output_type": "stream",
     "text": [
      "Warning message in dir.create(curr.outdir):\n",
      "“'/data/Mito_Trace/output/pipeline/cd34norm/MTblacklist/data/merged/MT/cellr_True/numread_200/filters/minC10_minR50_topN0_hetT0.001_hetC10_hetCount5_bq20/mgatk/vireoIn/clones/variants_mgatkdonor/knn/kparam_3/concat/annotation_clones/DE_large/minPct_0__logThresh_0.1/cdf_thresh__0.3/donor0_TF' already exists”\n"
     ]
    },
    {
     "name": "stdout",
     "output_type": "stream",
     "text": [
      "[1] 0 2\n",
      "[1] \"comparison # 1\"\n",
      "       X        p_val   avg_diff pct.1 pct.2  p_val_adj p_val_adj_BH\n",
      "1   CREM 0.0000618460  0.3117807 0.539 0.380 0.03914852  0.009462438\n",
      "2  BACH1 0.0001930992  0.4638114 0.469 0.365 0.12223178  0.011917884\n",
      "3   NRF1 0.0002336840 -0.2344037 0.317 0.463 0.14792197  0.011917884\n",
      "4   MAFK 0.0003699259  0.3021710 0.519 0.400 0.23416308  0.014149665\n",
      "5 ZBTB7C 0.0014395373 -0.2242271 0.408 0.545 0.91122713  0.030314480\n",
      "6   HES7 0.0018153544 -0.2527923 0.486 0.624 1.00000000  0.030314480\n"
     ]
    },
    {
     "name": "stderr",
     "output_type": "stream",
     "text": [
      "Registered S3 method overwritten by 'GGally':\n",
      "  method from   \n",
      "  +.gg   ggplot2\n",
      "\n"
     ]
    },
    {
     "name": "stderr",
     "output_type": "stream",
     "text": [
      "Saving 6.67 x 6.67 in image\n",
      "\n"
     ]
    },
    {
     "name": "stderr",
     "output_type": "stream",
     "text": [
      "Warning message:\n",
      "“`guides(<scale> = FALSE)` is deprecated. Please use `guides(<scale> = \"none\")` instead.”\n"
     ]
    },
    {
     "name": "stderr",
     "output_type": "stream",
     "text": [
      "Saving 6.67 x 6.67 in image\n",
      "\n"
     ]
    },
    {
     "name": "stdout",
     "output_type": "stream",
     "text": [
      "[1] 0 4\n",
      "[1] \"comparison # 2\"\n",
      "      X        p_val   avg_diff pct.1 pct.2   p_val_adj p_val_adj_BH\n",
      "1 NFIL3 6.731556e-06 -0.5318342 0.486 0.647 0.004261075  0.001252229\n",
      "2 BACH1 1.176689e-05  0.6021077 0.469 0.321 0.007448442  0.001252229\n",
      "3  JDP2 1.662251e-05  0.6217233 0.422 0.299 0.010522047  0.001252229\n",
      "4  MAFK 2.802810e-05  0.3866248 0.519 0.394 0.017741787  0.001384698\n",
      "5 CEBPD 3.336166e-05 -0.7525843 0.511 0.652 0.021117930  0.001384698\n",
      "6   HLF 4.809241e-05 -0.5433095 0.486 0.602 0.030442495  0.001384698\n"
     ]
    },
    {
     "name": "stderr",
     "output_type": "stream",
     "text": [
      "Saving 6.67 x 6.67 in image\n",
      "\n"
     ]
    },
    {
     "name": "stderr",
     "output_type": "stream",
     "text": [
      "Warning message:\n",
      "“`guides(<scale> = FALSE)` is deprecated. Please use `guides(<scale> = \"none\")` instead.”\n"
     ]
    },
    {
     "name": "stderr",
     "output_type": "stream",
     "text": [
      "Saving 6.67 x 6.67 in image\n",
      "\n"
     ]
    },
    {
     "name": "stdout",
     "output_type": "stream",
     "text": [
      "[1] 2 4\n",
      "[1] \"comparison # 3\"\n",
      "             X        p_val  avg_diff pct.1 pct.2  p_val_adj p_val_adj_BH\n",
      "1 STAT1::STAT2 0.0001425501 0.5175651 0.518 0.357 0.09023423   0.01800331\n",
      "2        NR1I3 0.0002218067 0.3346455 0.545 0.403 0.14040366   0.01800331\n",
      "3         IRF1 0.0002443888 0.4270029 0.525 0.407 0.15469811   0.01800331\n",
      "4         ELF4 0.0003739355 0.3676753 0.553 0.412 0.23670120   0.02065994\n",
      "5         ETV5 0.0007963932 0.3305793 0.549 0.421 0.50411692   0.03520058\n",
      "6         ELF5 0.0010991055 0.3696612 0.569 0.452 0.69573380   0.04048372\n"
     ]
    },
    {
     "name": "stderr",
     "output_type": "stream",
     "text": [
      "Saving 6.67 x 6.67 in image\n",
      "\n"
     ]
    },
    {
     "name": "stderr",
     "output_type": "stream",
     "text": [
      "Warning message:\n",
      "“`guides(<scale> = FALSE)` is deprecated. Please use `guides(<scale> = \"none\")` instead.”\n"
     ]
    },
    {
     "name": "stderr",
     "output_type": "stream",
     "text": [
      "Saving 6.67 x 6.67 in image\n",
      "\n"
     ]
    },
    {
     "name": "stderr",
     "output_type": "stream",
     "text": [
      "'magick' package is suggested to install to give better rasterization.\n",
      "\n",
      "Set `ht_opt$message = FALSE` to turn off this message.\n",
      "\n"
     ]
    },
    {
     "name": "stderr",
     "output_type": "stream",
     "text": [
      "Saving 6.67 x 6.67 in image\n",
      "\n"
     ]
    },
    {
     "name": "stderr",
     "output_type": "stream",
     "text": [
      "Saving 6.67 x 6.67 in image\n",
      "\n"
     ]
    },
    {
     "name": "stderr",
     "output_type": "stream",
     "text": [
      "Saving 6.67 x 6.67 in image\n",
      "\n"
     ]
    },
    {
     "name": "stdout",
     "output_type": "stream",
     "text": [
      "[1] \"donor\"\n",
      "[1] 1\n"
     ]
    },
    {
     "name": "stderr",
     "output_type": "stream",
     "text": [
      "Warning message in dir.create(curr.outdir):\n",
      "“'/data/Mito_Trace/output/pipeline/cd34norm/MTblacklist/data/merged/MT/cellr_True/numread_200/filters/minC10_minR50_topN0_hetT0.001_hetC10_hetCount5_bq20/mgatk/vireoIn/clones/variants_mgatkdonor/knn/kparam_3/concat/annotation_clones/DE_large/minPct_0__logThresh_0.1/cdf_thresh__0.3/donor1_TF' already exists”\n"
     ]
    },
    {
     "name": "stdout",
     "output_type": "stream",
     "text": [
      "[1] 0 1\n",
      "[1] \"comparison # 1\"\n",
      "              X       p_val   avg_diff pct.1 pct.2 p_val_adj p_val_adj_BH\n",
      "1 TFAP2C(var.2) 0.001011498 -0.2405968 0.414 0.622  0.640278    0.1845462\n",
      "2        ZNF136 0.002154064 -0.3134018 0.436 0.547  1.000000    0.1845462\n",
      "3         INSM1 0.002847994 -0.2283016 0.400 0.535  1.000000    0.1845462\n",
      "4        ZNF135 0.003362637 -0.2988917 0.455 0.564  1.000000    0.1845462\n",
      "5        ZNF384 0.004168636 -0.2442675 0.441 0.529  1.000000    0.1845462\n",
      "6          MAFF 0.005004850 -0.2761956 0.450 0.552  1.000000    0.1845462\n"
     ]
    },
    {
     "name": "stderr",
     "output_type": "stream",
     "text": [
      "Saving 6.67 x 6.67 in image\n",
      "\n"
     ]
    },
    {
     "name": "stderr",
     "output_type": "stream",
     "text": [
      "Warning message:\n",
      "“`guides(<scale> = FALSE)` is deprecated. Please use `guides(<scale> = \"none\")` instead.”\n"
     ]
    },
    {
     "name": "stderr",
     "output_type": "stream",
     "text": [
      "Saving 6.67 x 6.67 in image\n",
      "\n"
     ]
    },
    {
     "name": "stdout",
     "output_type": "stream",
     "text": [
      "[1] 0 2\n",
      "[1] \"comparison # 2\"\n",
      "            X        p_val   avg_diff pct.1 pct.2 p_val_adj p_val_adj_BH\n",
      "1      SREBF2 0.0004666182 -0.3373098 0.459 0.647 0.2953693    0.1045225\n",
      "2      HOXA10 0.0016186450  0.2776383 0.491 0.391 1.0000000    0.1466041\n",
      "3      PKNOX1 0.0019634479 -0.2830924 0.427 0.590 1.0000000    0.1466041\n",
      "4      ZNF341 0.0055199599 -0.2354219 0.441 0.571 1.0000000    0.2561564\n",
      "5 RXRG(var.2) 0.0066215023 -0.2779655 0.445 0.558 1.0000000    0.2561564\n",
      "6        NFYC 0.0091221336 -0.2688040 0.400 0.519 1.0000000    0.2561564\n"
     ]
    },
    {
     "name": "stderr",
     "output_type": "stream",
     "text": [
      "Saving 6.67 x 6.67 in image\n",
      "\n"
     ]
    },
    {
     "name": "stderr",
     "output_type": "stream",
     "text": [
      "Warning message:\n",
      "“`guides(<scale> = FALSE)` is deprecated. Please use `guides(<scale> = \"none\")` instead.”\n"
     ]
    },
    {
     "name": "stderr",
     "output_type": "stream",
     "text": [
      "Saving 6.67 x 6.67 in image\n",
      "\n"
     ]
    },
    {
     "name": "stdout",
     "output_type": "stream",
     "text": [
      "[1] 0 5\n",
      "[1] \"comparison # 3\"\n",
      "              X        p_val   avg_diff pct.1 pct.2 p_val_adj p_val_adj_BH\n",
      "1         TBX20 0.0002116462 -0.3512160 0.473 0.614 0.1339720   0.05248826\n",
      "2        PHOX2B 0.0013886448 -0.3219001 0.395 0.536 0.8790122   0.17219196\n",
      "3         PITX3 0.0025829526 -0.3232076 0.423 0.516 1.0000000   0.21352408\n",
      "4   RORA(var.2) 0.0037292960 -0.2699349 0.455 0.575 1.0000000   0.22127261\n",
      "5 TFAP2B(var.2) 0.0044611414 -0.2145591 0.386 0.569 1.0000000   0.22127261\n",
      "6        RHOXF1 0.0097148566 -0.2758764 0.459 0.562 1.0000000   0.35703118\n"
     ]
    },
    {
     "name": "stderr",
     "output_type": "stream",
     "text": [
      "Saving 6.67 x 6.67 in image\n",
      "\n"
     ]
    },
    {
     "name": "stderr",
     "output_type": "stream",
     "text": [
      "Warning message:\n",
      "“`guides(<scale> = FALSE)` is deprecated. Please use `guides(<scale> = \"none\")` instead.”\n"
     ]
    },
    {
     "name": "stderr",
     "output_type": "stream",
     "text": [
      "Saving 6.67 x 6.67 in image\n",
      "\n"
     ]
    },
    {
     "name": "stdout",
     "output_type": "stream",
     "text": [
      "[1]  0 10\n",
      "[1] \"comparison # 4\"\n",
      "          X        p_val   avg_diff pct.1 pct.2 p_val_adj p_val_adj_BH\n",
      "1      JDP2 0.0009904793  0.6504706 0.514 0.366 0.6269734   0.09904764\n",
      "2     BATF3 0.0018754200  0.6941268 0.518 0.382 1.0000000   0.09904764\n",
      "3      JUNB 0.0018898860  0.7252379 0.532 0.374 1.0000000   0.09904764\n",
      "4    HOXB13 0.0023834922 -0.3653937 0.445 0.602 1.0000000   0.09904764\n",
      "5     FOSL1 0.0027073439  0.7011283 0.532 0.390 1.0000000   0.09904764\n",
      "6 JUN::JUNB 0.0027788182  0.6185930 0.518 0.374 1.0000000   0.09904764\n"
     ]
    },
    {
     "name": "stderr",
     "output_type": "stream",
     "text": [
      "Saving 6.67 x 6.67 in image\n",
      "\n"
     ]
    },
    {
     "name": "stderr",
     "output_type": "stream",
     "text": [
      "Warning message:\n",
      "“`guides(<scale> = FALSE)` is deprecated. Please use `guides(<scale> = \"none\")` instead.”\n"
     ]
    },
    {
     "name": "stderr",
     "output_type": "stream",
     "text": [
      "Saving 6.67 x 6.67 in image\n",
      "\n"
     ]
    },
    {
     "name": "stdout",
     "output_type": "stream",
     "text": [
      "[1] 1 2\n",
      "[1] \"comparison # 5\"\n",
      "       X       p_val   avg_diff pct.1 pct.2 p_val_adj p_val_adj_BH\n",
      "1 HOXA10 0.001336570  0.3394540 0.488 0.391 0.8460488    0.3158586\n",
      "2   NFYB 0.002458044 -0.2882444 0.488 0.641 1.0000000    0.3158586\n",
      "3  ZNF24 0.011050196  0.2759283 0.517 0.436 1.0000000    0.4091084\n",
      "4 POU5F1 0.012125806  0.2249413 0.570 0.410 1.0000000    0.4091084\n",
      "5 ZNF135 0.016762753  0.2523032 0.564 0.449 1.0000000    0.4091084\n",
      "6  CEBPA 0.016923165  0.4657607 0.634 0.487 1.0000000    0.4091084\n"
     ]
    },
    {
     "name": "stderr",
     "output_type": "stream",
     "text": [
      "Saving 6.67 x 6.67 in image\n",
      "\n"
     ]
    },
    {
     "name": "stderr",
     "output_type": "stream",
     "text": [
      "Warning message:\n",
      "“`guides(<scale> = FALSE)` is deprecated. Please use `guides(<scale> = \"none\")` instead.”\n"
     ]
    },
    {
     "name": "stderr",
     "output_type": "stream",
     "text": [
      "Saving 6.67 x 6.67 in image\n",
      "\n"
     ]
    },
    {
     "name": "stdout",
     "output_type": "stream",
     "text": [
      "[1] 1 5\n",
      "[1] \"comparison # 6\"\n",
      "       X        p_val   avg_diff pct.1 pct.2 p_val_adj p_val_adj_BH\n",
      "1 HOXC12 0.0003366488 -0.3656126 0.395 0.621 0.2130987   0.08247896\n",
      "2   THRB 0.0053390461  0.2982038 0.570 0.425 1.0000000   0.31200876\n",
      "3  RUNX3 0.0086652466  0.2447632 0.535 0.425 1.0000000   0.31200876\n",
      "4   MNX1 0.0089090474 -0.2793118 0.459 0.582 1.0000000   0.31200876\n",
      "5 TFAP2B 0.0094801321  0.2447516 0.558 0.425 1.0000000   0.31200876\n",
      "6   IRF8 0.0098787746  0.3198795 0.471 0.320 1.0000000   0.31200876\n"
     ]
    },
    {
     "name": "stderr",
     "output_type": "stream",
     "text": [
      "Saving 6.67 x 6.67 in image\n",
      "\n"
     ]
    },
    {
     "name": "stderr",
     "output_type": "stream",
     "text": [
      "Warning message:\n",
      "“`guides(<scale> = FALSE)` is deprecated. Please use `guides(<scale> = \"none\")` instead.”\n"
     ]
    },
    {
     "name": "stderr",
     "output_type": "stream",
     "text": [
      "Saving 6.67 x 6.67 in image\n",
      "\n"
     ]
    },
    {
     "name": "stdout",
     "output_type": "stream",
     "text": [
      "[1]  1 10\n",
      "[1] \"comparison # 7\"\n",
      "             X        p_val   avg_diff pct.1 pct.2 p_val_adj p_val_adj_BH\n",
      "1        HOXB6 0.0008558529 -0.4167543 0.488 0.642 0.5417549    0.1231786\n",
      "2        MEOX2 0.0008644113 -0.3854614 0.442 0.585 0.5471723    0.1231786\n",
      "3 STAT1::STAT2 0.0026713624  0.3650960 0.326 0.220 1.0000000    0.2328821\n",
      "4        CREB1 0.0038559564  0.3361912 0.523 0.374 1.0000000    0.2328821\n",
      "5        HOXA6 0.0064575394 -0.3446259 0.459 0.593 1.0000000    0.2328821\n",
      "6         SPI1 0.0069038363  0.3317739 0.395 0.293 1.0000000    0.2328821\n"
     ]
    },
    {
     "name": "stderr",
     "output_type": "stream",
     "text": [
      "Saving 6.67 x 6.67 in image\n",
      "\n"
     ]
    },
    {
     "name": "stderr",
     "output_type": "stream",
     "text": [
      "Warning message:\n",
      "“`guides(<scale> = FALSE)` is deprecated. Please use `guides(<scale> = \"none\")` instead.”\n"
     ]
    },
    {
     "name": "stderr",
     "output_type": "stream",
     "text": [
      "Saving 6.67 x 6.67 in image\n",
      "\n"
     ]
    },
    {
     "name": "stdout",
     "output_type": "stream",
     "text": [
      "[1] 2 5\n",
      "[1] \"comparison # 8\"\n",
      "       X        p_val   avg_diff pct.1 pct.2 p_val_adj p_val_adj_BH\n",
      "1   CDX1 0.0005647047 -0.3630975 0.397 0.569 0.3574581   0.08758636\n",
      "2 HOXC12 0.0006440174 -0.3742088 0.449 0.621 0.4076630   0.08758636\n",
      "3 HOXD11 0.0014189178 -0.3669010 0.404 0.562 0.8981750   0.10534601\n",
      "4  HOXC9 0.0015492060 -0.3849629 0.481 0.588 0.9806474   0.10534601\n",
      "5 HOXD10 0.0024740908 -0.3604769 0.423 0.575 1.0000000   0.13459054\n",
      "6 HOXC11 0.0035489483 -0.3535528 0.404 0.516 1.0000000   0.13610390\n"
     ]
    },
    {
     "name": "stderr",
     "output_type": "stream",
     "text": [
      "Saving 6.67 x 6.67 in image\n",
      "\n"
     ]
    },
    {
     "name": "stderr",
     "output_type": "stream",
     "text": [
      "Warning message:\n",
      "“`guides(<scale> = FALSE)` is deprecated. Please use `guides(<scale> = \"none\")` instead.”\n"
     ]
    },
    {
     "name": "stderr",
     "output_type": "stream",
     "text": [
      "Saving 6.67 x 6.67 in image\n",
      "\n"
     ]
    },
    {
     "name": "stdout",
     "output_type": "stream",
     "text": [
      "[1]  2 10\n",
      "[1] \"comparison # 9\"\n",
      "       X        p_val   avg_diff pct.1 pct.2  p_val_adj p_val_adj_BH\n",
      "1   CDX1 3.141791e-05 -0.4534703 0.397 0.618 0.01988753   0.01087060\n",
      "2   NFYB 9.330322e-05  0.3797871 0.641 0.407 0.05906094   0.01614146\n",
      "3   CDX4 1.538146e-04 -0.3967733 0.417 0.642 0.09736465   0.01630101\n",
      "4 HOXA10 1.884510e-04 -0.4233695 0.391 0.577 0.11928945   0.01630101\n",
      "5  HOXD9 3.763012e-04 -0.4244447 0.442 0.626 0.23819869   0.02604005\n",
      "6  NFIL3 7.741258e-04 -0.5397604 0.455 0.618 0.49002164   0.04464125\n"
     ]
    },
    {
     "name": "stderr",
     "output_type": "stream",
     "text": [
      "Saving 6.67 x 6.67 in image\n",
      "\n"
     ]
    },
    {
     "name": "stderr",
     "output_type": "stream",
     "text": [
      "Warning message:\n",
      "“`guides(<scale> = FALSE)` is deprecated. Please use `guides(<scale> = \"none\")` instead.”\n"
     ]
    },
    {
     "name": "stderr",
     "output_type": "stream",
     "text": [
      "Saving 6.67 x 6.67 in image\n",
      "\n"
     ]
    },
    {
     "name": "stdout",
     "output_type": "stream",
     "text": [
      "[1]  5 10\n",
      "[1] \"comparison # 10\"\n",
      "            X       p_val   avg_diff pct.1 pct.2 p_val_adj p_val_adj_BH\n",
      "1        RELA 0.003980418 -0.3534455 0.464 0.577         1     0.421854\n",
      "2       HOXB6 0.008708333 -0.3148745 0.503 0.642         1     0.421854\n",
      "3       FOXA1 0.011042015 -0.3001936 0.484 0.585         1     0.421854\n",
      "4 RXRB(var.2) 0.011186616  0.3663703 0.510 0.415         1     0.421854\n",
      "5       FOXA2 0.013395008 -0.3436238 0.477 0.618         1     0.421854\n",
      "6       FOXC1 0.017502037 -0.2846032 0.471 0.602         1     0.421854\n"
     ]
    },
    {
     "name": "stderr",
     "output_type": "stream",
     "text": [
      "Saving 6.67 x 6.67 in image\n",
      "\n"
     ]
    },
    {
     "name": "stderr",
     "output_type": "stream",
     "text": [
      "Warning message in cor(x, y):\n",
      "“the standard deviation is zero”\n"
     ]
    },
    {
     "name": "stderr",
     "output_type": "stream",
     "text": [
      "Warning message in cor(x, y):\n",
      "“the standard deviation is zero”\n"
     ]
    },
    {
     "name": "stderr",
     "output_type": "stream",
     "text": [
      "Warning message:\n",
      "“`guides(<scale> = FALSE)` is deprecated. Please use `guides(<scale> = \"none\")` instead.”\n"
     ]
    },
    {
     "name": "stderr",
     "output_type": "stream",
     "text": [
      "Saving 6.67 x 6.67 in image\n",
      "\n"
     ]
    },
    {
     "name": "stderr",
     "output_type": "stream",
     "text": [
      "'magick' package is suggested to install to give better rasterization.\n",
      "\n",
      "Set `ht_opt$message = FALSE` to turn off this message.\n",
      "\n"
     ]
    },
    {
     "name": "stderr",
     "output_type": "stream",
     "text": [
      "Saving 6.67 x 6.67 in image\n",
      "\n"
     ]
    },
    {
     "name": "stderr",
     "output_type": "stream",
     "text": [
      "Saving 6.67 x 6.67 in image\n",
      "\n"
     ]
    },
    {
     "name": "stderr",
     "output_type": "stream",
     "text": [
      "Saving 6.67 x 6.67 in image\n",
      "\n"
     ]
    },
    {
     "name": "stdout",
     "output_type": "stream",
     "text": [
      "[1] \"donor\"\n",
      "[1] 2\n"
     ]
    },
    {
     "name": "stderr",
     "output_type": "stream",
     "text": [
      "Warning message in dir.create(curr.outdir):\n",
      "“'/data/Mito_Trace/output/pipeline/cd34norm/MTblacklist/data/merged/MT/cellr_True/numread_200/filters/minC10_minR50_topN0_hetT0.001_hetC10_hetCount5_bq20/mgatk/vireoIn/clones/variants_mgatkdonor/knn/kparam_3/concat/annotation_clones/DE_large/minPct_0__logThresh_0.1/cdf_thresh__0.3/donor2_TF' already exists”\n"
     ]
    },
    {
     "name": "stdout",
     "output_type": "stream",
     "text": [
      "[1] 0 1\n",
      "[1] \"comparison # 1\"\n",
      "      X        p_val   avg_diff pct.1 pct.2 p_val_adj p_val_adj_BH\n",
      "1 BARX1 0.0008381047 -0.2676425 0.421 0.530 0.5305203    0.0963849\n",
      "2  ELK3 0.0012786939  0.2571110 0.538 0.430 0.8094132    0.0963849\n",
      "3 FOXE1 0.0016255002 -0.2586227 0.465 0.596 1.0000000    0.0963849\n",
      "4  ELF2 0.0021183495  0.2841329 0.462 0.409 1.0000000    0.0963849\n",
      "5 CTCFL 0.0037013105 -0.1664679 0.503 0.630 1.0000000    0.1037078\n",
      "6  ELF4 0.0037993731  0.2539715 0.425 0.317 1.0000000    0.1037078\n"
     ]
    },
    {
     "name": "stderr",
     "output_type": "stream",
     "text": [
      "Saving 6.67 x 6.67 in image\n",
      "\n"
     ]
    },
    {
     "name": "stderr",
     "output_type": "stream",
     "text": [
      "Warning message:\n",
      "“`guides(<scale> = FALSE)` is deprecated. Please use `guides(<scale> = \"none\")` instead.”\n"
     ]
    },
    {
     "name": "stderr",
     "output_type": "stream",
     "text": [
      "Saving 6.67 x 6.67 in image\n",
      "\n"
     ]
    },
    {
     "name": "stdout",
     "output_type": "stream",
     "text": [
      "[1] 0 2\n",
      "[1] \"comparison # 2\"\n",
      "            X       p_val   avg_diff pct.1 pct.2 p_val_adj p_val_adj_BH\n",
      "1        TBXT 0.004346085 -0.2771293 0.481 0.590         1    0.1812753\n",
      "2   RXRA::VDR 0.004987497  0.2640894 0.472 0.394         1    0.1812753\n",
      "3       NR2F2 0.005869451  0.2113429 0.506 0.335         1    0.1812753\n",
      "4       TBX19 0.006889614 -0.2276715 0.472 0.569         1    0.1812753\n",
      "5 RARG(var.3) 0.007195430 -0.2615997 0.434 0.548         1    0.1812753\n",
      "6      ZBTB33 0.007770928 -0.2684089 0.465 0.559         1    0.1812753\n"
     ]
    },
    {
     "name": "stderr",
     "output_type": "stream",
     "text": [
      "Saving 6.67 x 6.67 in image\n",
      "\n"
     ]
    },
    {
     "name": "stderr",
     "output_type": "stream",
     "text": [
      "Warning message in cor(x, y):\n",
      "“the standard deviation is zero”\n"
     ]
    },
    {
     "name": "stderr",
     "output_type": "stream",
     "text": [
      "Warning message in cor(x, y):\n",
      "“the standard deviation is zero”\n"
     ]
    },
    {
     "name": "stderr",
     "output_type": "stream",
     "text": [
      "Warning message:\n",
      "“`guides(<scale> = FALSE)` is deprecated. Please use `guides(<scale> = \"none\")` instead.”\n"
     ]
    },
    {
     "name": "stderr",
     "output_type": "stream",
     "text": [
      "Saving 6.67 x 6.67 in image\n",
      "\n"
     ]
    },
    {
     "name": "stdout",
     "output_type": "stream",
     "text": [
      "[1] 1 2\n",
      "[1] \"comparison # 3\"\n",
      "          X       p_val   avg_diff pct.1 pct.2 p_val_adj p_val_adj_BH\n",
      "1       FEV 0.002264656 -0.3074327 0.426 0.521         1    0.1431773\n",
      "2 RXRA::VDR 0.002333150  0.2833214 0.457 0.394         1    0.1431773\n",
      "3      ELF4 0.003386974 -0.2454609 0.317 0.436         1    0.1431773\n",
      "4     KLF14 0.004331850 -0.2555002 0.474 0.559         1    0.1431773\n",
      "5      FLI1 0.004410140 -0.2740694 0.422 0.559         1    0.1431773\n",
      "6       ERG 0.004593926 -0.2767095 0.422 0.527         1    0.1431773\n"
     ]
    },
    {
     "name": "stderr",
     "output_type": "stream",
     "text": [
      "Saving 6.67 x 6.67 in image\n",
      "\n"
     ]
    },
    {
     "name": "stderr",
     "output_type": "stream",
     "text": [
      "Warning message in cor(x, y):\n",
      "“the standard deviation is zero”\n"
     ]
    },
    {
     "name": "stderr",
     "output_type": "stream",
     "text": [
      "Warning message in cor(x, y):\n",
      "“the standard deviation is zero”\n"
     ]
    },
    {
     "name": "stderr",
     "output_type": "stream",
     "text": [
      "Warning message:\n",
      "“`guides(<scale> = FALSE)` is deprecated. Please use `guides(<scale> = \"none\")` instead.”\n"
     ]
    },
    {
     "name": "stderr",
     "output_type": "stream",
     "text": [
      "Saving 6.67 x 6.67 in image\n",
      "\n"
     ]
    },
    {
     "name": "stderr",
     "output_type": "stream",
     "text": [
      "'magick' package is suggested to install to give better rasterization.\n",
      "\n",
      "Set `ht_opt$message = FALSE` to turn off this message.\n",
      "\n"
     ]
    },
    {
     "name": "stderr",
     "output_type": "stream",
     "text": [
      "Saving 6.67 x 6.67 in image\n",
      "\n"
     ]
    },
    {
     "name": "stderr",
     "output_type": "stream",
     "text": [
      "Saving 6.67 x 6.67 in image\n",
      "\n"
     ]
    },
    {
     "name": "stderr",
     "output_type": "stream",
     "text": [
      "Saving 6.67 x 6.67 in image\n",
      "\n"
     ]
    },
    {
     "name": "stdout",
     "output_type": "stream",
     "text": [
      "[1] \"donor\"\n",
      "[1] 3\n"
     ]
    },
    {
     "name": "stderr",
     "output_type": "stream",
     "text": [
      "Warning message in dir.create(curr.outdir):\n",
      "“'/data/Mito_Trace/output/pipeline/cd34norm/MTblacklist/data/merged/MT/cellr_True/numread_200/filters/minC10_minR50_topN0_hetT0.001_hetC10_hetCount5_bq20/mgatk/vireoIn/clones/variants_mgatkdonor/knn/kparam_3/concat/annotation_clones/DE_large/minPct_0__logThresh_0.1/cdf_thresh__0.3/donor3_TF' already exists”\n"
     ]
    },
    {
     "name": "stdout",
     "output_type": "stream",
     "text": [
      "[1] 0 1\n",
      "[1] \"comparison # 1\"\n",
      "           X        p_val   avg_diff pct.1 pct.2 p_val_adj p_val_adj_BH\n",
      "1      MYOD1 0.0003629829  0.2211512 0.496 0.401 0.2297682   0.04296679\n",
      "2     POU4F2 0.0007327938  0.2178665 0.498 0.399 0.4638585   0.04296679\n",
      "3     POU4F3 0.0010453110  0.2106745 0.483 0.404 0.6616819   0.04296679\n",
      "4  JUN::JUNB 0.0012984740 -0.3286246 0.447 0.554 0.8219341   0.04296679\n",
      "5      NR4A2 0.0025346026 -0.1969197 0.466 0.552 1.0000000   0.04296679\n",
      "6 JUN(var.2) 0.0028643406 -0.3417262 0.456 0.557 1.0000000   0.04296679\n"
     ]
    },
    {
     "name": "stderr",
     "output_type": "stream",
     "text": [
      "Saving 6.67 x 6.67 in image\n",
      "\n"
     ]
    },
    {
     "name": "stderr",
     "output_type": "stream",
     "text": [
      "Warning message:\n",
      "“`guides(<scale> = FALSE)` is deprecated. Please use `guides(<scale> = \"none\")` instead.”\n"
     ]
    },
    {
     "name": "stderr",
     "output_type": "stream",
     "text": [
      "Saving 6.67 x 6.67 in image\n",
      "\n"
     ]
    },
    {
     "name": "stdout",
     "output_type": "stream",
     "text": [
      "[1]  0 36\n",
      "[1] \"comparison # 2\"\n",
      "      X        p_val   avg_diff pct.1 pct.2 p_val_adj p_val_adj_BH\n",
      "1 CEBPD 0.0008202096 -0.4246582 0.555 0.682 0.5191927   0.06177650\n",
      "2 KLF11 0.0010127295  0.1999982 0.409 0.314 0.6410578   0.06177650\n",
      "3 MEF2A 0.0018961595  0.2060336 0.530 0.404 1.0000000   0.07711049\n",
      "4 CEBPA 0.0041045044 -0.3644256 0.563 0.646 1.0000000   0.09300836\n",
      "5 CEBPB 0.0043651412 -0.2993937 0.555 0.653 1.0000000   0.09300836\n",
      "6   SP3 0.0059388811  0.1653471 0.420 0.321 1.0000000   0.09300836\n"
     ]
    },
    {
     "name": "stderr",
     "output_type": "stream",
     "text": [
      "Saving 6.67 x 6.67 in image\n",
      "\n"
     ]
    },
    {
     "name": "stderr",
     "output_type": "stream",
     "text": [
      "Warning message:\n",
      "“`guides(<scale> = FALSE)` is deprecated. Please use `guides(<scale> = \"none\")` instead.”\n"
     ]
    },
    {
     "name": "stderr",
     "output_type": "stream",
     "text": [
      "Saving 6.67 x 6.67 in image\n",
      "\n"
     ]
    },
    {
     "name": "stdout",
     "output_type": "stream",
     "text": [
      "[1]  1 36\n",
      "[1] \"comparison # 3\"\n",
      "             X        p_val   avg_diff pct.1 pct.2  p_val_adj p_val_adj_BH\n",
      "1          FOS 0.0001162604  0.5109081 0.564 0.419 0.07359284   0.00732923\n",
      "2        CEBPD 0.0001243986 -0.5107645 0.586 0.682 0.07874432   0.00732923\n",
      "3        BATF3 0.0001759978  0.4440260 0.564 0.404 0.11140661   0.00732923\n",
      "4        FOSL2 0.0002201387  0.4926101 0.547 0.412 0.13934778   0.00732923\n",
      "5 CEBPG(var.2) 0.0002927409 -0.4012902 0.520 0.646 0.18530497   0.00732923\n",
      "6        CEBPA 0.0003271338 -0.4789694 0.537 0.646 0.20707568   0.00732923\n"
     ]
    },
    {
     "name": "stderr",
     "output_type": "stream",
     "text": [
      "Saving 6.67 x 6.67 in image\n",
      "\n"
     ]
    },
    {
     "name": "stderr",
     "output_type": "stream",
     "text": [
      "Warning message:\n",
      "“`guides(<scale> = FALSE)` is deprecated. Please use `guides(<scale> = \"none\")` instead.”\n"
     ]
    },
    {
     "name": "stderr",
     "output_type": "stream",
     "text": [
      "Saving 6.67 x 6.67 in image\n",
      "\n"
     ]
    },
    {
     "name": "stderr",
     "output_type": "stream",
     "text": [
      "'magick' package is suggested to install to give better rasterization.\n",
      "\n",
      "Set `ht_opt$message = FALSE` to turn off this message.\n",
      "\n"
     ]
    },
    {
     "name": "stderr",
     "output_type": "stream",
     "text": [
      "Saving 6.67 x 6.67 in image\n",
      "\n"
     ]
    },
    {
     "name": "stderr",
     "output_type": "stream",
     "text": [
      "Saving 6.67 x 6.67 in image\n",
      "\n"
     ]
    },
    {
     "name": "stderr",
     "output_type": "stream",
     "text": [
      "Saving 6.67 x 6.67 in image\n",
      "\n"
     ]
    }
   ],
   "source": [
    "all.names.sig <- c()\n",
    "DefaultAssay(se) <- \"chromvarnames\"\n",
    "for (d in 0:(n_donors-1)){\n",
    "    print('donor')\n",
    "    print(d)\n",
    "    curr.indir <- file.path(indir, paste0(\"donor\", d, \"_TF\"))\n",
    "    curr.outdir <- file.path(outdir, paste0(\"donor\", d, \"_TF\"))\n",
    "    dir.create(curr.outdir)\n",
    "    donor.large.clones <- large.clones %>% filter(donor==d)\n",
    "    if (dim(donor.large.clones)[1] < 2){\n",
    "        print('no donor')\n",
    "        next\n",
    "    }\n",
    "    clones.filt.ids <- sort(donor.large.clones$lineage)\n",
    "    se.filt <- subset(se, subset = (donor==d) & (lineage %in% donor.large.clones$lineage))\n",
    "    if (length(clones.filt.ids) < 2){\n",
    "        print(\"0 or 1 clone found. not running\")\n",
    "        next\n",
    "    }\n",
    "    pairs = combn(clones.filt.ids,2)\n",
    "    names.sig <- c()\n",
    "\n",
    "    for (i in 1:dim(pairs)[2]){\n",
    "        print(pairs[,i])\n",
    "        print(paste(\"comparison #\", i))\n",
    "        a = pairs[1,i]\n",
    "        b = pairs[2,i]\n",
    "        curr.tf.da <- read.csv(file.path(curr.indir, \n",
    "                                         paste0(\"clones_\",a,\"__\", b,\".DE.TF.csv\"))) %>% \n",
    "                      arrange(p_val)\n",
    "        print(head(curr.tf.da))\n",
    "        row.names(curr.tf.da) <- curr.tf.da$X  #sapply(curr.tf.da$X, function(m) {motifs@motif.names[[m]]})\n",
    "        #curr.tf.da\n",
    "        names.sig <- c(names.sig, head(row.names(curr.tf.da), n_top_genes))\n",
    "        all.names.sig <- c(all.names.sig, head(row.names(curr.tf.da), n_top_genes))\n",
    "        gally <- GGally::ggpairs(curr.tf.da[,c(\"p_val\", \"p_val_adj\", \"avg_diff\")], aes(alpha = 0.4))\n",
    "        ggsave(plot=gally, \n",
    "                   file=file.path(curr.outdir, paste0(\"clones_\",a,\"__\", b,\".DE.TF.pvalHist.top.png\")))\n",
    "        DefaultAssay(se.filt) <- \"ATAC\"\n",
    "        raw.ids <- names(Motifs(se.filt)@motif.names)\n",
    "        rownames(curr.tf.da) <- sapply((curr.tf.da$X), function(x){raw.ids[match(x, Motifs(se.filt)@motif.names)]})\n",
    "        m <- MotifPlot(\n",
    "          object = se.filt,\n",
    "          motifs = head(rownames(curr.tf.da)),\n",
    "          assay = 'ATAC'\n",
    "        )\n",
    "        ggsave(plot=m, \n",
    "                   file=file.path(curr.outdir, paste0(\"clones_\",a,\"__\", b,\".DE.TF.motif.top.png\")))\n",
    "\n",
    "\n",
    "        }\n",
    "    DefaultAssay(se.filt) <- \"chromvarnames\"\n",
    "    names.sig <- unique(names.sig)\n",
    "    \n",
    "\n",
    "    feat <- FeaturePlot(se.filt,  features=names.sig)\n",
    "\n",
    "    vln <- VlnPlot(se.filt,  features=names.sig, pt.size = 0)\n",
    "\n",
    "    dot <- DotPlot(se.filt, features = names.sig) + RotatedAxis()\n",
    "\n",
    "    # split by a vector\n",
    "    pdf((file.path(curr.outdir, \"heatmap.top.pdf\")), width=8,height=8)\n",
    "    \n",
    "    heat <- ComplexHeatmap::Heatmap(GetAssayData(se.filt)[names.sig,], \n",
    "            name = paste0(\"donor\",d),\n",
    "            column_split = se.filt[[]][\"lineage\"],\n",
    "            show_column_names = FALSE, use_raster=TRUE\n",
    "           )\n",
    "    ComplexHeatmap::draw(heat)\n",
    "    dev.off()\n",
    "    \n",
    "    ggsave(plot=feat, \n",
    "           file=file.path(curr.outdir, (\"embedFeat.top.png\")))\n",
    "    ggsave(plot=dot, \n",
    "           file=file.path(curr.outdir, (\"dot.top.png\")))\n",
    "    ggsave(plot=vln, \n",
    "           file=file.path(curr.outdir, (\"violin.top.png\")))\n",
    "    }\n",
    "all.names.sig <- unique(all.names.sig)"
   ]
  },
  {
   "cell_type": "markdown",
   "id": "0bb45042",
   "metadata": {
    "papermill": {
     "duration": 0.210733,
     "end_time": "2021-12-03T16:21:16.519730",
     "exception": false,
     "start_time": "2021-12-03T16:21:16.308997",
     "status": "completed"
    },
    "tags": []
   },
   "source": [
    "## Dotplot for all donors"
   ]
  },
  {
   "cell_type": "code",
   "execution_count": 13,
   "id": "4219fb55",
   "metadata": {
    "execution": {
     "iopub.execute_input": "2021-12-03T16:21:16.854673Z",
     "iopub.status.busy": "2021-12-03T16:21:16.852581Z",
     "iopub.status.idle": "2021-12-03T16:21:17.232759Z",
     "shell.execute_reply": "2021-12-03T16:21:17.233681Z"
    },
    "papermill": {
     "duration": 0.550255,
     "end_time": "2021-12-03T16:21:17.233977",
     "exception": false,
     "start_time": "2021-12-03T16:21:16.683722",
     "status": "completed"
    },
    "tags": []
   },
   "outputs": [
    {
     "data": {
      "text/html": [
       "<strong>png:</strong> 2"
      ],
      "text/latex": [
       "\\textbf{png:} 2"
      ],
      "text/markdown": [
       "**png:** 2"
      ],
      "text/plain": [
       "png \n",
       "  2 "
      ]
     },
     "metadata": {},
     "output_type": "display_data"
    }
   ],
   "source": [
    "pdf(file = file.path(outdir, \"./dotplot.allDonors.top.pdf\"), width = 8, height = 8)\n",
    "dot <- DotPlot(se, features = all.names.sig, group.by=\"donor\") + RotatedAxis()\n",
    "dot\n",
    "dev.off()"
   ]
  },
  {
   "cell_type": "code",
   "execution_count": 14,
   "id": "337318ad",
   "metadata": {
    "execution": {
     "iopub.execute_input": "2021-12-03T16:21:17.581813Z",
     "iopub.status.busy": "2021-12-03T16:21:17.578817Z",
     "iopub.status.idle": "2021-12-03T16:21:18.136731Z",
     "shell.execute_reply": "2021-12-03T16:21:18.137642Z"
    },
    "papermill": {
     "duration": 0.731772,
     "end_time": "2021-12-03T16:21:18.137941",
     "exception": false,
     "start_time": "2021-12-03T16:21:17.406169",
     "status": "completed"
    },
    "tags": []
   },
   "outputs": [
    {
     "data": {
      "text/html": [
       "<strong>png:</strong> 2"
      ],
      "text/latex": [
       "\\textbf{png:} 2"
      ],
      "text/markdown": [
       "**png:** 2"
      ],
      "text/plain": [
       "png \n",
       "  2 "
      ]
     },
     "metadata": {},
     "output_type": "display_data"
    }
   ],
   "source": [
    "pdf(file = file.path(outdir, \"./dotplot.allDonors.clones.top.pdf\"), width = 8, height = 8)\n",
    "dot <- DotPlot(se, features = all.names.sig, group.by=\"name\", cluster.idents=T) + RotatedAxis()\n",
    "dot\n",
    "dev.off()"
   ]
  },
  {
   "cell_type": "markdown",
   "id": "b78aba1f",
   "metadata": {
    "papermill": {
     "duration": 0.166754,
     "end_time": "2021-12-03T16:21:18.477439",
     "exception": false,
     "start_time": "2021-12-03T16:21:18.310685",
     "status": "completed"
    },
    "tags": []
   },
   "source": [
    "## Heatmap for all donors"
   ]
  },
  {
   "cell_type": "code",
   "execution_count": 15,
   "id": "ca052607",
   "metadata": {
    "execution": {
     "iopub.execute_input": "2021-12-03T16:21:18.821682Z",
     "iopub.status.busy": "2021-12-03T16:21:18.818454Z",
     "iopub.status.idle": "2021-12-03T16:21:23.688002Z",
     "shell.execute_reply": "2021-12-03T16:21:23.688924Z"
    },
    "papermill": {
     "duration": 5.043801,
     "end_time": "2021-12-03T16:21:23.689220",
     "exception": false,
     "start_time": "2021-12-03T16:21:18.645419",
     "status": "completed"
    },
    "scrolled": false,
    "tags": []
   },
   "outputs": [
    {
     "name": "stderr",
     "output_type": "stream",
     "text": [
      "`use_raster` is automatically set to TRUE for a matrix with more than\n",
      "2000 columns You can control `use_raster` argument by explicitly\n",
      "setting TRUE/FALSE to it.\n",
      "\n",
      "Set `ht_opt$message = FALSE` to turn off this message.\n",
      "\n"
     ]
    },
    {
     "name": "stderr",
     "output_type": "stream",
     "text": [
      "'magick' package is suggested to install to give better rasterization.\n",
      "\n",
      "Set `ht_opt$message = FALSE` to turn off this message.\n",
      "\n"
     ]
    },
    {
     "data": {
      "text/html": [
       "<strong>png:</strong> 2"
      ],
      "text/latex": [
       "\\textbf{png:} 2"
      ],
      "text/markdown": [
       "**png:** 2"
      ],
      "text/plain": [
       "png \n",
       "  2 "
      ]
     },
     "metadata": {},
     "output_type": "display_data"
    }
   ],
   "source": [
    "pdf((file.path(outdir, \"heatmap.allDonors.top.pdf\")), width=8,height=8)\n",
    "heat <- ComplexHeatmap::Heatmap(GetAssayData(se)[names.sig,], \n",
    "        top_annotation = HeatmapAnnotation(donor=as.character(se$donor)),\n",
    "        show_column_names = FALSE, \n",
    "        column_split = se[[\"name\"]],\n",
    "       )\n",
    "\n",
    "ComplexHeatmap::draw(heat)\n",
    "dev.off()"
   ]
  },
  {
   "cell_type": "code",
   "execution_count": 16,
   "id": "ffb06010",
   "metadata": {
    "execution": {
     "iopub.execute_input": "2021-12-03T16:21:24.048871Z",
     "iopub.status.busy": "2021-12-03T16:21:24.046301Z",
     "iopub.status.idle": "2021-12-03T16:21:24.062040Z",
     "shell.execute_reply": "2021-12-03T16:21:24.061156Z"
    },
    "papermill": {
     "duration": 0.195687,
     "end_time": "2021-12-03T16:21:24.062277",
     "exception": false,
     "start_time": "2021-12-03T16:21:23.866590",
     "status": "completed"
    },
    "scrolled": false,
    "tags": []
   },
   "outputs": [],
   "source": [
    "# pdf((file.path(outdir, \"heatmap.allDonors.anno.top.pdf\")), width=8,height=8)\n",
    "# heat <- ComplexHeatmap::Heatmap(GetAssayData(se)[all.names.sig,], \n",
    "#         top_annotation = HeatmapAnnotation(donor=as.character(se$donor), clone=as.character(se$lineage), \n",
    "#                                            depth=anno_barplot(log10(se$peak_region_fragments))),\n",
    "#         show_column_names = FALSE\n",
    "#        )\n",
    "\n",
    "# ComplexHeatmap::draw(heat)\n",
    "# dev.off()"
   ]
  },
  {
   "cell_type": "code",
   "execution_count": 17,
   "id": "a8b61392",
   "metadata": {
    "execution": {
     "iopub.execute_input": "2021-12-03T16:21:24.418047Z",
     "iopub.status.busy": "2021-12-03T16:21:24.415265Z",
     "iopub.status.idle": "2021-12-03T16:21:29.897314Z",
     "shell.execute_reply": "2021-12-03T16:21:29.898247Z"
    },
    "papermill": {
     "duration": 5.660987,
     "end_time": "2021-12-03T16:21:29.898543",
     "exception": false,
     "start_time": "2021-12-03T16:21:24.237556",
     "status": "completed"
    },
    "tags": []
   },
   "outputs": [
    {
     "name": "stderr",
     "output_type": "stream",
     "text": [
      "The automatically generated colors map from the minus and plus 99^th of\n",
      "the absolute values in the matrix. There are outliers in the matrix\n",
      "whose patterns might be hidden by this color mapping. You can manually\n",
      "set the color to `col` argument.\n",
      "\n",
      "Use `suppressMessages()` to turn off this message.\n",
      "\n"
     ]
    },
    {
     "name": "stderr",
     "output_type": "stream",
     "text": [
      "`use_raster` is automatically set to TRUE for a matrix with more than\n",
      "2000 columns You can control `use_raster` argument by explicitly\n",
      "setting TRUE/FALSE to it.\n",
      "\n",
      "Set `ht_opt$message = FALSE` to turn off this message.\n",
      "\n"
     ]
    },
    {
     "name": "stderr",
     "output_type": "stream",
     "text": [
      "'magick' package is suggested to install to give better rasterization.\n",
      "\n",
      "Set `ht_opt$message = FALSE` to turn off this message.\n",
      "\n"
     ]
    },
    {
     "data": {
      "text/html": [
       "<strong>png:</strong> 2"
      ],
      "text/latex": [
       "\\textbf{png:} 2"
      ],
      "text/markdown": [
       "**png:** 2"
      ],
      "text/plain": [
       "png \n",
       "  2 "
      ]
     },
     "metadata": {},
     "output_type": "display_data"
    }
   ],
   "source": [
    "pdf((file.path(outdir, \"heatmap.allDonors.split.top.pdf\")), width=8,height=8)\n",
    "heat <- ComplexHeatmap::Heatmap(GetAssayData(se)[all.names.sig,], \n",
    "        top_annotation = HeatmapAnnotation(donor=as.character(se$donor)),\n",
    "        show_column_names = FALSE, \n",
    "        column_split = se[[\"name\"]],\n",
    "       )\n",
    "\n",
    "ComplexHeatmap::draw(heat)\n",
    "dev.off()"
   ]
  },
  {
   "cell_type": "code",
   "execution_count": null,
   "id": "cdc2fbd4",
   "metadata": {
    "papermill": {
     "duration": 0.17306,
     "end_time": "2021-12-03T16:21:30.273257",
     "exception": false,
     "start_time": "2021-12-03T16:21:30.100197",
     "status": "completed"
    },
    "tags": []
   },
   "outputs": [],
   "source": []
  },
  {
   "cell_type": "code",
   "execution_count": null,
   "id": "2d955085",
   "metadata": {
    "papermill": {
     "duration": 0.172857,
     "end_time": "2021-12-03T16:21:30.618939",
     "exception": false,
     "start_time": "2021-12-03T16:21:30.446082",
     "status": "completed"
    },
    "tags": []
   },
   "outputs": [],
   "source": []
  }
 ],
 "metadata": {
  "celltoolbar": "Tags",
  "kernelspec": {
   "display_name": "R",
   "language": "R",
   "name": "ir"
  },
  "language_info": {
   "codemirror_mode": "r",
   "file_extension": ".r",
   "mimetype": "text/x-r-source",
   "name": "R",
   "pygments_lexer": "r",
   "version": "4.1.1"
  },
  "papermill": {
   "default_parameters": {},
   "duration": 143.964373,
   "end_time": "2021-12-03T16:21:31.109757",
   "environment_variables": {},
   "exception": null,
   "input_path": "/mnt/md0/isshamie/Projects/Mito_Trace/R_scripts/annotation_clones/DE_clones.TF.summaryPlot.ipynb",
   "output_path": "/data/Mito_Trace/output/pipeline/cd34norm/MTblacklist/data/merged/MT/cellr_True/numread_200/filters/minC10_minR50_topN0_hetT0.001_hetC10_hetCount5_bq20/mgatk/vireoIn/clones/variants_mgatkdonor/knn/kparam_3/concat/annotation_clones/DE_large/minPct_0__logThresh_0.1/cdf_thresh__0.3/output_Summary.ipynb",
   "parameters": {
    "cdf_thresh": 0.3,
    "indir": "/data/Mito_Trace/output/pipeline/cd34norm/MTblacklist/data/merged/MT/cellr_True/numread_200/filters/minC10_minR50_topN0_hetT0.001_hetC10_hetCount5_bq20/mgatk/vireoIn/clones/variants_mgatkdonor/knn/kparam_3/concat/annotation_clones/DE_large/minPct_0__logThresh_0.1",
    "n_donors": 4,
    "se_indir": "/data/Mito_Trace/output/pipeline/cd34norm/MTblacklist/data/merged/MT/cellr_True/numread_200/filters/minC10_minR50_topN0_hetT0.001_hetC10_hetCount5_bq20/mgatk/vireoIn/clones/variants_mgatkdonor/knn/kparam_3/concat/annotation_clones/DE_large"
   },
   "start_time": "2021-12-03T16:19:07.145384",
   "version": "2.3.3"
  }
 },
 "nbformat": 4,
 "nbformat_minor": 5
}