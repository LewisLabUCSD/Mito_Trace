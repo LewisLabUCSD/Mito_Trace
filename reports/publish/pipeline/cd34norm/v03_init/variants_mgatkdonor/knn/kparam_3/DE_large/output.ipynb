{
 "cells": [
  {
   "cell_type": "code",
   "execution_count": 1,
   "id": "4246cc89",
   "metadata": {
    "execution": {
     "iopub.execute_input": "2021-12-03T15:54:13.876201Z",
     "iopub.status.busy": "2021-12-03T15:54:13.873131Z",
     "iopub.status.idle": "2021-12-03T15:54:13.918750Z",
     "shell.execute_reply": "2021-12-03T15:54:13.917591Z"
    },
    "papermill": {
     "duration": 0.179531,
     "end_time": "2021-12-03T15:54:13.918878",
     "exception": false,
     "start_time": "2021-12-03T15:54:13.739347",
     "status": "completed"
    },
    "tags": [
     "parameters"
    ]
   },
   "outputs": [],
   "source": [
    "# se_f = \"~/data/Projects/Mito_Trace/output/pipeline/cd34norm/MTblacklist/data/merged/MT/cellr_True/numread_200/filters/minC10_minR50_topN0_hetT0.001_hetC10_hetCount5_bq20/mgatk/vireoIn/clones/variants_mgatkdonor/vireo/nclones20/enrichment/annotation_clones/SE.rds\"\n",
    "# outdir = \"~/data/Projects/Mito_Trace/output/pipeline/cd34norm/MTblacklist/data/merged/MT/cellr_True/numread_200/filters/minC10_minR50_topN0_hetT0.001_hetC10_hetCount5_bq20/mgatk/vireoIn/clones/variants_mgatkdonor/vireo/nclones20/enrichment/annotation_clones/DE_large\"\n",
    "# n_donors = 4\n",
    "\n",
    "se_f = \"/home/isshamie/data/Projects/Mito_Trace/output/pipeline/CHIP_nameFix_april08_2021/MTblacklist/data/merged/MT/cellr_True/numread_200/filters/minC10_minR50_topN0_hetT0.001_hetC10_hetCount5_bq20/mgatk/vireoIn/clones/variants_mgatkdonor/vireo/nclones20/annotation_clones/SE.rds\"\n",
    "outdir = \"/home/isshamie/data/Projects/Mito_Trace/output/pipeline/CHIP_nameFix_april08_2021/MTblacklist/data/merged/MT/cellr_True/numread_200/filters/minC10_minR50_topN0_hetT0.001_hetC10_hetCount5_bq20/mgatk/vireoIn/clones/variants_mgatkdonor/vireo/nclones20/annotation_clones/DE_large\"\n",
    "n_donors = 5\n",
    "\n",
    "\n",
    "\n",
    "# If more than 2 clones pass the cdf_thresh, use that, o.w use n_top_clones\n",
    "cdf_thresh = 0.5\n",
    "n_top_clones = 3\n",
    "\n",
    "min_pct = 0.01\n",
    "use_latent_vars = FALSE\n",
    "genome = \"/data/Mito_Trace/data/external/GRCh38_MT_blacklist/fasta/genome.fa\"\n",
    "cores=16\n",
    "utils_script <- \"/data/Mito_Trace/R_scripts/seurat_utils.R\""
   ]
  },
  {
   "cell_type": "code",
   "execution_count": 2,
   "id": "f41d7072",
   "metadata": {
    "execution": {
     "iopub.execute_input": "2021-12-03T15:54:14.048627Z",
     "iopub.status.busy": "2021-12-03T15:54:14.018099Z",
     "iopub.status.idle": "2021-12-03T15:54:14.062593Z",
     "shell.execute_reply": "2021-12-03T15:54:14.061243Z"
    },
    "papermill": {
     "duration": 0.093599,
     "end_time": "2021-12-03T15:54:14.062704",
     "exception": false,
     "start_time": "2021-12-03T15:54:13.969105",
     "status": "completed"
    },
    "tags": [
     "injected-parameters"
    ]
   },
   "outputs": [],
   "source": [
    "# Parameters\n",
    "se_f = \"/data/Mito_Trace/output/pipeline/cd34norm/MTblacklist/data/merged/MT/cellr_True/numread_200/filters/minC10_minR50_topN0_hetT0.001_hetC10_hetCount5_bq20/mgatk/vireoIn/clones/variants_mgatkdonor/knn/kparam_3/concat/annotation_clones/SE.rds\"\n",
    "outdir = \"/data/Mito_Trace/output/pipeline/cd34norm/MTblacklist/data/merged/MT/cellr_True/numread_200/filters/minC10_minR50_topN0_hetT0.001_hetC10_hetCount5_bq20/mgatk/vireoIn/clones/variants_mgatkdonor/knn/kparam_3/concat/annotation_clones/DE_large\"\n",
    "n_donors = 4\n"
   ]
  },
  {
   "cell_type": "code",
   "execution_count": 3,
   "id": "e72d3a57",
   "metadata": {
    "execution": {
     "iopub.execute_input": "2021-12-03T15:54:14.164758Z",
     "iopub.status.busy": "2021-12-03T15:54:14.163648Z",
     "iopub.status.idle": "2021-12-03T15:54:14.176537Z",
     "shell.execute_reply": "2021-12-03T15:54:14.172557Z"
    },
    "papermill": {
     "duration": 0.066326,
     "end_time": "2021-12-03T15:54:14.176761",
     "exception": false,
     "start_time": "2021-12-03T15:54:14.110435",
     "status": "completed"
    },
    "tags": []
   },
   "outputs": [],
   "source": [
    "if (use_latent_vars){\n",
    "    latent.vars = \"peaks_depth\"\n",
    "}else{\n",
    "    latent.vars=NULL\n",
    "}"
   ]
  },
  {
   "cell_type": "code",
   "execution_count": 4,
   "id": "b44903ca",
   "metadata": {
    "execution": {
     "iopub.execute_input": "2021-12-03T15:54:14.307352Z",
     "iopub.status.busy": "2021-12-03T15:54:14.304639Z",
     "iopub.status.idle": "2021-12-03T15:54:20.170656Z",
     "shell.execute_reply": "2021-12-03T15:54:20.169579Z"
    },
    "papermill": {
     "duration": 5.931877,
     "end_time": "2021-12-03T15:54:20.170881",
     "exception": false,
     "start_time": "2021-12-03T15:54:14.239004",
     "status": "completed"
    },
    "tags": []
   },
   "outputs": [
    {
     "name": "stderr",
     "output_type": "stream",
     "text": [
      "Attaching SeuratObject\n",
      "\n"
     ]
    }
   ],
   "source": [
    "source(utils_script)"
   ]
  },
  {
   "cell_type": "code",
   "execution_count": 5,
   "id": "5d9ca2e3",
   "metadata": {
    "execution": {
     "iopub.execute_input": "2021-12-03T15:54:20.305667Z",
     "iopub.status.busy": "2021-12-03T15:54:20.302174Z",
     "iopub.status.idle": "2021-12-03T15:54:20.659011Z",
     "shell.execute_reply": "2021-12-03T15:54:20.657872Z"
    },
    "papermill": {
     "duration": 0.423842,
     "end_time": "2021-12-03T15:54:20.659251",
     "exception": false,
     "start_time": "2021-12-03T15:54:20.235409",
     "status": "completed"
    },
    "scrolled": true,
    "tags": []
   },
   "outputs": [
    {
     "name": "stderr",
     "output_type": "stream",
     "text": [
      "\n",
      "Attaching package: ‘cowplot’\n",
      "\n",
      "\n"
     ]
    },
    {
     "name": "stderr",
     "output_type": "stream",
     "text": [
      "The following object is masked from ‘package:patchwork’:\n",
      "\n",
      "    align_plots\n",
      "\n",
      "\n"
     ]
    },
    {
     "name": "stderr",
     "output_type": "stream",
     "text": [
      "\n",
      "Attaching package: ‘dplyr’\n",
      "\n",
      "\n"
     ]
    },
    {
     "name": "stderr",
     "output_type": "stream",
     "text": [
      "The following objects are masked from ‘package:stats’:\n",
      "\n",
      "    filter, lag\n",
      "\n",
      "\n"
     ]
    },
    {
     "name": "stderr",
     "output_type": "stream",
     "text": [
      "The following objects are masked from ‘package:base’:\n",
      "\n",
      "    intersect, setdiff, setequal, union\n",
      "\n",
      "\n"
     ]
    },
    {
     "name": "stderr",
     "output_type": "stream",
     "text": [
      "Warning message:\n",
      "“Strategy 'multiprocess' is deprecated in future (>= 1.20.0). Instead, explicitly specify either 'multisession' or 'multicore'. In the current R session, 'multiprocess' equals 'multicore'.”\n"
     ]
    },
    {
     "name": "stderr",
     "output_type": "stream",
     "text": [
      "Loading required package: grid\n",
      "\n"
     ]
    },
    {
     "name": "stderr",
     "output_type": "stream",
     "text": [
      "========================================\n",
      "ComplexHeatmap version 2.10.0\n",
      "Bioconductor page: http://bioconductor.org/packages/ComplexHeatmap/\n",
      "Github page: https://github.com/jokergoo/ComplexHeatmap\n",
      "Documentation: http://jokergoo.github.io/ComplexHeatmap-reference\n",
      "\n",
      "If you use it in published research, please cite:\n",
      "Gu, Z. Complex heatmaps reveal patterns and correlations in multidimensional \n",
      "  genomic data. Bioinformatics 2016.\n",
      "\n",
      "The new InteractiveComplexHeatmap package can directly export static \n",
      "complex heatmaps into an interactive Shiny app with zero effort. Have a try!\n",
      "\n",
      "This message can be suppressed by:\n",
      "  suppressPackageStartupMessages(library(ComplexHeatmap))\n",
      "========================================\n",
      "\n",
      "\n"
     ]
    }
   ],
   "source": [
    "library(Seurat)\n",
    "library(Signac)\n",
    "library(ggplot2)\n",
    "library(patchwork)\n",
    "set.seed(1234)\n",
    "library(magrittr)\n",
    "library(cowplot)\n",
    "library(metap)\n",
    "library(dplyr)\n",
    "library(future)\n",
    "plan(\"multiprocess\", workers = cores)\n",
    "#options(future.globals.maxSize = 50000 * 1024^2) # for 50 Gb RAM\n",
    "options(future.globals.maxSize = 8000 * 1024^2)\n",
    "library(\"ComplexHeatmap\")"
   ]
  },
  {
   "cell_type": "markdown",
   "id": "e8a7d7b5",
   "metadata": {
    "papermill": {
     "duration": 0.069801,
     "end_time": "2021-12-03T15:54:20.800828",
     "exception": false,
     "start_time": "2021-12-03T15:54:20.731027",
     "status": "completed"
    },
    "tags": []
   },
   "source": [
    "## Import seurat object"
   ]
  },
  {
   "cell_type": "code",
   "execution_count": 6,
   "id": "2ef3a56c",
   "metadata": {
    "execution": {
     "iopub.execute_input": "2021-12-03T15:54:20.936055Z",
     "iopub.status.busy": "2021-12-03T15:54:20.932526Z",
     "iopub.status.idle": "2021-12-03T16:07:20.187777Z",
     "shell.execute_reply": "2021-12-03T16:07:20.186532Z"
    },
    "papermill": {
     "duration": 779.31725,
     "end_time": "2021-12-03T16:07:20.188165",
     "exception": false,
     "start_time": "2021-12-03T15:54:20.870915",
     "status": "completed"
    },
    "scrolled": true,
    "tags": []
   },
   "outputs": [
    {
     "name": "stdout",
     "output_type": "stream",
     "text": [
      "[1] \"Running chromvar\"\n"
     ]
    },
    {
     "name": "stderr",
     "output_type": "stream",
     "text": [
      "\n",
      "\n"
     ]
    },
    {
     "name": "stderr",
     "output_type": "stream",
     "text": [
      "Loading required package: BSgenome\n",
      "\n"
     ]
    },
    {
     "name": "stderr",
     "output_type": "stream",
     "text": [
      "Loading required package: BiocGenerics\n",
      "\n"
     ]
    },
    {
     "name": "stderr",
     "output_type": "stream",
     "text": [
      "\n",
      "Attaching package: ‘BiocGenerics’\n",
      "\n",
      "\n"
     ]
    },
    {
     "name": "stderr",
     "output_type": "stream",
     "text": [
      "The following objects are masked from ‘package:dplyr’:\n",
      "\n",
      "    combine, intersect, setdiff, union\n",
      "\n",
      "\n"
     ]
    },
    {
     "name": "stderr",
     "output_type": "stream",
     "text": [
      "The following objects are masked from ‘package:stats’:\n",
      "\n",
      "    IQR, mad, sd, var, xtabs\n",
      "\n",
      "\n"
     ]
    },
    {
     "name": "stderr",
     "output_type": "stream",
     "text": [
      "The following objects are masked from ‘package:base’:\n",
      "\n",
      "    anyDuplicated, append, as.data.frame, basename, cbind, colnames,\n",
      "    dirname, do.call, duplicated, eval, evalq, Filter, Find, get, grep,\n",
      "    grepl, intersect, is.unsorted, lapply, Map, mapply, match, mget,\n",
      "    order, paste, pmax, pmax.int, pmin, pmin.int, Position, rank,\n",
      "    rbind, Reduce, rownames, sapply, setdiff, sort, table, tapply,\n",
      "    union, unique, unsplit, which.max, which.min\n",
      "\n",
      "\n"
     ]
    },
    {
     "name": "stderr",
     "output_type": "stream",
     "text": [
      "Loading required package: S4Vectors\n",
      "\n"
     ]
    },
    {
     "name": "stderr",
     "output_type": "stream",
     "text": [
      "Loading required package: stats4\n",
      "\n"
     ]
    },
    {
     "name": "stderr",
     "output_type": "stream",
     "text": [
      "\n",
      "Attaching package: ‘S4Vectors’\n",
      "\n",
      "\n"
     ]
    },
    {
     "name": "stderr",
     "output_type": "stream",
     "text": [
      "The following object is masked from ‘package:future’:\n",
      "\n",
      "    values\n",
      "\n",
      "\n"
     ]
    },
    {
     "name": "stderr",
     "output_type": "stream",
     "text": [
      "The following objects are masked from ‘package:dplyr’:\n",
      "\n",
      "    first, rename\n",
      "\n",
      "\n"
     ]
    },
    {
     "name": "stderr",
     "output_type": "stream",
     "text": [
      "The following objects are masked from ‘package:base’:\n",
      "\n",
      "    expand.grid, I, unname\n",
      "\n",
      "\n"
     ]
    },
    {
     "name": "stderr",
     "output_type": "stream",
     "text": [
      "Loading required package: IRanges\n",
      "\n"
     ]
    },
    {
     "name": "stderr",
     "output_type": "stream",
     "text": [
      "\n",
      "Attaching package: ‘IRanges’\n",
      "\n",
      "\n"
     ]
    },
    {
     "name": "stderr",
     "output_type": "stream",
     "text": [
      "The following objects are masked from ‘package:dplyr’:\n",
      "\n",
      "    collapse, desc, slice\n",
      "\n",
      "\n"
     ]
    },
    {
     "name": "stderr",
     "output_type": "stream",
     "text": [
      "Loading required package: GenomeInfoDb\n",
      "\n"
     ]
    },
    {
     "name": "stderr",
     "output_type": "stream",
     "text": [
      "Loading required package: GenomicRanges\n",
      "\n"
     ]
    },
    {
     "name": "stderr",
     "output_type": "stream",
     "text": [
      "Loading required package: Biostrings\n",
      "\n"
     ]
    },
    {
     "name": "stderr",
     "output_type": "stream",
     "text": [
      "Loading required package: XVector\n",
      "\n"
     ]
    },
    {
     "name": "stderr",
     "output_type": "stream",
     "text": [
      "\n",
      "Attaching package: ‘Biostrings’\n",
      "\n",
      "\n"
     ]
    },
    {
     "name": "stderr",
     "output_type": "stream",
     "text": [
      "The following object is masked from ‘package:grid’:\n",
      "\n",
      "    pattern\n",
      "\n",
      "\n"
     ]
    },
    {
     "name": "stderr",
     "output_type": "stream",
     "text": [
      "The following object is masked from ‘package:base’:\n",
      "\n",
      "    strsplit\n",
      "\n",
      "\n"
     ]
    },
    {
     "name": "stderr",
     "output_type": "stream",
     "text": [
      "Loading required package: rtracklayer\n",
      "\n"
     ]
    },
    {
     "name": "stderr",
     "output_type": "stream",
     "text": [
      "Building motif matrix\n",
      "\n"
     ]
    },
    {
     "name": "stderr",
     "output_type": "stream",
     "text": [
      "Finding motif positions\n",
      "\n"
     ]
    },
    {
     "name": "stderr",
     "output_type": "stream",
     "text": [
      "Creating Motif object\n",
      "\n"
     ]
    },
    {
     "name": "stderr",
     "output_type": "stream",
     "text": [
      "Computing GC bias per region\n",
      "\n"
     ]
    },
    {
     "name": "stderr",
     "output_type": "stream",
     "text": [
      "Selecting background regions\n",
      "\n"
     ]
    },
    {
     "name": "stderr",
     "output_type": "stream",
     "text": [
      "Computing deviations from background\n",
      "\n"
     ]
    },
    {
     "name": "stderr",
     "output_type": "stream",
     "text": [
      "Constructing chromVAR assay\n",
      "\n"
     ]
    }
   ],
   "source": [
    "# if (file.exists(file.path(outdir, \"se.chromvar.rds\"))){\n",
    "#     print(\"Loading se with chromvar\")\n",
    "#     se <- readRDS(file=file.path(outdir, \"se.chromvar.rds\"))    \n",
    "# }else{\n",
    "#     print(\"Running chromvar\")\n",
    "#     se = readRDS(se_f)\n",
    "# #     source(\"~/data/Projects/Mito_Trace/R_scripts/addPWM.R\")\n",
    "#     se <- get.pwm(se, genome=genome)\n",
    "#     saveRDS(object=se, file=file.path(outdir, \"se.chromvar.rds\"))    \n",
    "# }\n",
    "\n",
    "print(\"Running chromvar\")\n",
    "se = readRDS(se_f)\n",
    "se <- get.pwm(se, genome=genome)\n",
    "saveRDS(object=se, file=file.path(outdir, \"se.chromvar.rds\"))\n",
    "\n",
    "\n",
    "# cells.meta = se[[]]\n",
    "# cells.meta$name = paste0(cells.meta$donor,\"_\", cells.meta$lineage)\n",
    "# cells.meta$name = factor(cells.meta$name)\n",
    "# cells.meta\n",
    "\n",
    "\n",
    "# se <- AddMetaData(\n",
    "#   object = se,\n",
    "#   metadata = cells.meta[\"name\"],\n",
    "#   col.name = \"name\"\n",
    "# )\n",
    "# se[[]]"
   ]
  },
  {
   "cell_type": "code",
   "execution_count": 7,
   "id": "3f8f8c43",
   "metadata": {
    "execution": {
     "iopub.execute_input": "2021-12-03T16:07:20.390992Z",
     "iopub.status.busy": "2021-12-03T16:07:20.387880Z",
     "iopub.status.idle": "2021-12-03T16:07:20.540477Z",
     "shell.execute_reply": "2021-12-03T16:07:20.541313Z"
    },
    "papermill": {
     "duration": 0.247775,
     "end_time": "2021-12-03T16:07:20.541592",
     "exception": false,
     "start_time": "2021-12-03T16:07:20.293817",
     "status": "completed"
    },
    "scrolled": true,
    "tags": []
   },
   "outputs": [
    {
     "name": "stderr",
     "output_type": "stream",
     "text": [
      "`summarise()` has grouped output by 'condition', 'donor', 'lineage'. You can override using the `.groups` argument.\n",
      "\n"
     ]
    },
    {
     "data": {
      "text/html": [
       "<table class=\"dataframe\">\n",
       "<caption>A grouped_df: 333 × 5</caption>\n",
       "<thead>\n",
       "\t<tr><th scope=col>condition</th><th scope=col>donor</th><th scope=col>lineage</th><th scope=col>name</th><th scope=col>size</th></tr>\n",
       "\t<tr><th scope=col>&lt;fct&gt;</th><th scope=col>&lt;fct&gt;</th><th scope=col>&lt;fct&gt;</th><th scope=col>&lt;fct&gt;</th><th scope=col>&lt;int&gt;</th></tr>\n",
       "</thead>\n",
       "<tbody>\n",
       "\t<tr><td>Control</td><td>0</td><td>0 </td><td>0_0 </td><td> 62</td></tr>\n",
       "\t<tr><td>Control</td><td>0</td><td>1 </td><td>0_1 </td><td> 46</td></tr>\n",
       "\t<tr><td>Control</td><td>0</td><td>2 </td><td>0_2 </td><td>104</td></tr>\n",
       "\t<tr><td>Control</td><td>0</td><td>3 </td><td>0_3 </td><td> 80</td></tr>\n",
       "\t<tr><td>Control</td><td>0</td><td>4 </td><td>0_4 </td><td> 99</td></tr>\n",
       "\t<tr><td>Control</td><td>0</td><td>5 </td><td>0_5 </td><td> 30</td></tr>\n",
       "\t<tr><td>Control</td><td>0</td><td>6 </td><td>0_6 </td><td> 70</td></tr>\n",
       "\t<tr><td>Control</td><td>0</td><td>7 </td><td>0_7 </td><td> 51</td></tr>\n",
       "\t<tr><td>Control</td><td>0</td><td>8 </td><td>0_8 </td><td> 29</td></tr>\n",
       "\t<tr><td>Control</td><td>0</td><td>9 </td><td>0_9 </td><td> 32</td></tr>\n",
       "\t<tr><td>Control</td><td>0</td><td>10</td><td>0_10</td><td> 56</td></tr>\n",
       "\t<tr><td>Control</td><td>0</td><td>11</td><td>0_11</td><td> 88</td></tr>\n",
       "\t<tr><td>Control</td><td>0</td><td>12</td><td>0_12</td><td> 17</td></tr>\n",
       "\t<tr><td>Control</td><td>0</td><td>13</td><td>0_13</td><td> 15</td></tr>\n",
       "\t<tr><td>Control</td><td>0</td><td>14</td><td>0_14</td><td> 18</td></tr>\n",
       "\t<tr><td>Control</td><td>0</td><td>15</td><td>0_15</td><td> 15</td></tr>\n",
       "\t<tr><td>Control</td><td>0</td><td>16</td><td>0_16</td><td> 12</td></tr>\n",
       "\t<tr><td>Control</td><td>0</td><td>17</td><td>0_17</td><td> 11</td></tr>\n",
       "\t<tr><td>Control</td><td>0</td><td>18</td><td>0_18</td><td>  6</td></tr>\n",
       "\t<tr><td>Control</td><td>0</td><td>19</td><td>0_19</td><td> 10</td></tr>\n",
       "\t<tr><td>Control</td><td>0</td><td>20</td><td>0_20</td><td>  8</td></tr>\n",
       "\t<tr><td>Control</td><td>0</td><td>21</td><td>0_21</td><td>  5</td></tr>\n",
       "\t<tr><td>Control</td><td>0</td><td>22</td><td>0_22</td><td> 13</td></tr>\n",
       "\t<tr><td>Control</td><td>0</td><td>23</td><td>0_23</td><td>  9</td></tr>\n",
       "\t<tr><td>Control</td><td>0</td><td>24</td><td>0_24</td><td>  9</td></tr>\n",
       "\t<tr><td>Control</td><td>0</td><td>25</td><td>0_25</td><td>  4</td></tr>\n",
       "\t<tr><td>Control</td><td>0</td><td>26</td><td>0_26</td><td>  4</td></tr>\n",
       "\t<tr><td>Control</td><td>0</td><td>27</td><td>0_27</td><td>  6</td></tr>\n",
       "\t<tr><td>Control</td><td>0</td><td>28</td><td>0_28</td><td>  2</td></tr>\n",
       "\t<tr><td>Control</td><td>0</td><td>29</td><td>0_29</td><td>  5</td></tr>\n",
       "\t<tr><td>⋮</td><td>⋮</td><td>⋮</td><td>⋮</td><td>⋮</td></tr>\n",
       "\t<tr><td>Flt3l</td><td>3</td><td>8 </td><td>3_8 </td><td>68</td></tr>\n",
       "\t<tr><td>Flt3l</td><td>3</td><td>9 </td><td>3_9 </td><td>60</td></tr>\n",
       "\t<tr><td>Flt3l</td><td>3</td><td>10</td><td>3_10</td><td>63</td></tr>\n",
       "\t<tr><td>Flt3l</td><td>3</td><td>11</td><td>3_11</td><td>33</td></tr>\n",
       "\t<tr><td>Flt3l</td><td>3</td><td>12</td><td>3_12</td><td>42</td></tr>\n",
       "\t<tr><td>Flt3l</td><td>3</td><td>13</td><td>3_13</td><td>32</td></tr>\n",
       "\t<tr><td>Flt3l</td><td>3</td><td>14</td><td>3_14</td><td>22</td></tr>\n",
       "\t<tr><td>Flt3l</td><td>3</td><td>15</td><td>3_15</td><td>14</td></tr>\n",
       "\t<tr><td>Flt3l</td><td>3</td><td>16</td><td>3_16</td><td>12</td></tr>\n",
       "\t<tr><td>Flt3l</td><td>3</td><td>17</td><td>3_17</td><td>13</td></tr>\n",
       "\t<tr><td>Flt3l</td><td>3</td><td>18</td><td>3_18</td><td>14</td></tr>\n",
       "\t<tr><td>Flt3l</td><td>3</td><td>19</td><td>3_19</td><td>11</td></tr>\n",
       "\t<tr><td>Flt3l</td><td>3</td><td>20</td><td>3_20</td><td> 8</td></tr>\n",
       "\t<tr><td>Flt3l</td><td>3</td><td>21</td><td>3_21</td><td> 5</td></tr>\n",
       "\t<tr><td>Flt3l</td><td>3</td><td>22</td><td>3_22</td><td> 4</td></tr>\n",
       "\t<tr><td>Flt3l</td><td>3</td><td>23</td><td>3_23</td><td> 3</td></tr>\n",
       "\t<tr><td>Flt3l</td><td>3</td><td>24</td><td>3_24</td><td> 7</td></tr>\n",
       "\t<tr><td>Flt3l</td><td>3</td><td>25</td><td>3_25</td><td> 7</td></tr>\n",
       "\t<tr><td>Flt3l</td><td>3</td><td>26</td><td>3_26</td><td> 6</td></tr>\n",
       "\t<tr><td>Flt3l</td><td>3</td><td>27</td><td>3_27</td><td> 4</td></tr>\n",
       "\t<tr><td>Flt3l</td><td>3</td><td>28</td><td>3_28</td><td> 4</td></tr>\n",
       "\t<tr><td>Flt3l</td><td>3</td><td>29</td><td>3_29</td><td> 4</td></tr>\n",
       "\t<tr><td>Flt3l</td><td>3</td><td>30</td><td>3_30</td><td> 2</td></tr>\n",
       "\t<tr><td>Flt3l</td><td>3</td><td>31</td><td>3_31</td><td> 2</td></tr>\n",
       "\t<tr><td>Flt3l</td><td>3</td><td>32</td><td>3_32</td><td> 3</td></tr>\n",
       "\t<tr><td>Flt3l</td><td>3</td><td>33</td><td>3_33</td><td> 4</td></tr>\n",
       "\t<tr><td>Flt3l</td><td>3</td><td>34</td><td>3_34</td><td> 2</td></tr>\n",
       "\t<tr><td>Flt3l</td><td>3</td><td>35</td><td>3_35</td><td> 1</td></tr>\n",
       "\t<tr><td>Flt3l</td><td>3</td><td>36</td><td>3_36</td><td>99</td></tr>\n",
       "\t<tr><td>Flt3l</td><td>3</td><td>37</td><td>3_37</td><td> 2</td></tr>\n",
       "</tbody>\n",
       "</table>\n"
      ],
      "text/latex": [
       "A grouped\\_df: 333 × 5\n",
       "\\begin{tabular}{lllll}\n",
       " condition & donor & lineage & name & size\\\\\n",
       " <fct> & <fct> & <fct> & <fct> & <int>\\\\\n",
       "\\hline\n",
       "\t Control & 0 & 0  & 0\\_0  &  62\\\\\n",
       "\t Control & 0 & 1  & 0\\_1  &  46\\\\\n",
       "\t Control & 0 & 2  & 0\\_2  & 104\\\\\n",
       "\t Control & 0 & 3  & 0\\_3  &  80\\\\\n",
       "\t Control & 0 & 4  & 0\\_4  &  99\\\\\n",
       "\t Control & 0 & 5  & 0\\_5  &  30\\\\\n",
       "\t Control & 0 & 6  & 0\\_6  &  70\\\\\n",
       "\t Control & 0 & 7  & 0\\_7  &  51\\\\\n",
       "\t Control & 0 & 8  & 0\\_8  &  29\\\\\n",
       "\t Control & 0 & 9  & 0\\_9  &  32\\\\\n",
       "\t Control & 0 & 10 & 0\\_10 &  56\\\\\n",
       "\t Control & 0 & 11 & 0\\_11 &  88\\\\\n",
       "\t Control & 0 & 12 & 0\\_12 &  17\\\\\n",
       "\t Control & 0 & 13 & 0\\_13 &  15\\\\\n",
       "\t Control & 0 & 14 & 0\\_14 &  18\\\\\n",
       "\t Control & 0 & 15 & 0\\_15 &  15\\\\\n",
       "\t Control & 0 & 16 & 0\\_16 &  12\\\\\n",
       "\t Control & 0 & 17 & 0\\_17 &  11\\\\\n",
       "\t Control & 0 & 18 & 0\\_18 &   6\\\\\n",
       "\t Control & 0 & 19 & 0\\_19 &  10\\\\\n",
       "\t Control & 0 & 20 & 0\\_20 &   8\\\\\n",
       "\t Control & 0 & 21 & 0\\_21 &   5\\\\\n",
       "\t Control & 0 & 22 & 0\\_22 &  13\\\\\n",
       "\t Control & 0 & 23 & 0\\_23 &   9\\\\\n",
       "\t Control & 0 & 24 & 0\\_24 &   9\\\\\n",
       "\t Control & 0 & 25 & 0\\_25 &   4\\\\\n",
       "\t Control & 0 & 26 & 0\\_26 &   4\\\\\n",
       "\t Control & 0 & 27 & 0\\_27 &   6\\\\\n",
       "\t Control & 0 & 28 & 0\\_28 &   2\\\\\n",
       "\t Control & 0 & 29 & 0\\_29 &   5\\\\\n",
       "\t ⋮ & ⋮ & ⋮ & ⋮ & ⋮\\\\\n",
       "\t Flt3l & 3 & 8  & 3\\_8  & 68\\\\\n",
       "\t Flt3l & 3 & 9  & 3\\_9  & 60\\\\\n",
       "\t Flt3l & 3 & 10 & 3\\_10 & 63\\\\\n",
       "\t Flt3l & 3 & 11 & 3\\_11 & 33\\\\\n",
       "\t Flt3l & 3 & 12 & 3\\_12 & 42\\\\\n",
       "\t Flt3l & 3 & 13 & 3\\_13 & 32\\\\\n",
       "\t Flt3l & 3 & 14 & 3\\_14 & 22\\\\\n",
       "\t Flt3l & 3 & 15 & 3\\_15 & 14\\\\\n",
       "\t Flt3l & 3 & 16 & 3\\_16 & 12\\\\\n",
       "\t Flt3l & 3 & 17 & 3\\_17 & 13\\\\\n",
       "\t Flt3l & 3 & 18 & 3\\_18 & 14\\\\\n",
       "\t Flt3l & 3 & 19 & 3\\_19 & 11\\\\\n",
       "\t Flt3l & 3 & 20 & 3\\_20 &  8\\\\\n",
       "\t Flt3l & 3 & 21 & 3\\_21 &  5\\\\\n",
       "\t Flt3l & 3 & 22 & 3\\_22 &  4\\\\\n",
       "\t Flt3l & 3 & 23 & 3\\_23 &  3\\\\\n",
       "\t Flt3l & 3 & 24 & 3\\_24 &  7\\\\\n",
       "\t Flt3l & 3 & 25 & 3\\_25 &  7\\\\\n",
       "\t Flt3l & 3 & 26 & 3\\_26 &  6\\\\\n",
       "\t Flt3l & 3 & 27 & 3\\_27 &  4\\\\\n",
       "\t Flt3l & 3 & 28 & 3\\_28 &  4\\\\\n",
       "\t Flt3l & 3 & 29 & 3\\_29 &  4\\\\\n",
       "\t Flt3l & 3 & 30 & 3\\_30 &  2\\\\\n",
       "\t Flt3l & 3 & 31 & 3\\_31 &  2\\\\\n",
       "\t Flt3l & 3 & 32 & 3\\_32 &  3\\\\\n",
       "\t Flt3l & 3 & 33 & 3\\_33 &  4\\\\\n",
       "\t Flt3l & 3 & 34 & 3\\_34 &  2\\\\\n",
       "\t Flt3l & 3 & 35 & 3\\_35 &  1\\\\\n",
       "\t Flt3l & 3 & 36 & 3\\_36 & 99\\\\\n",
       "\t Flt3l & 3 & 37 & 3\\_37 &  2\\\\\n",
       "\\end{tabular}\n"
      ],
      "text/markdown": [
       "\n",
       "A grouped_df: 333 × 5\n",
       "\n",
       "| condition &lt;fct&gt; | donor &lt;fct&gt; | lineage &lt;fct&gt; | name &lt;fct&gt; | size &lt;int&gt; |\n",
       "|---|---|---|---|---|\n",
       "| Control | 0 | 0  | 0_0  |  62 |\n",
       "| Control | 0 | 1  | 0_1  |  46 |\n",
       "| Control | 0 | 2  | 0_2  | 104 |\n",
       "| Control | 0 | 3  | 0_3  |  80 |\n",
       "| Control | 0 | 4  | 0_4  |  99 |\n",
       "| Control | 0 | 5  | 0_5  |  30 |\n",
       "| Control | 0 | 6  | 0_6  |  70 |\n",
       "| Control | 0 | 7  | 0_7  |  51 |\n",
       "| Control | 0 | 8  | 0_8  |  29 |\n",
       "| Control | 0 | 9  | 0_9  |  32 |\n",
       "| Control | 0 | 10 | 0_10 |  56 |\n",
       "| Control | 0 | 11 | 0_11 |  88 |\n",
       "| Control | 0 | 12 | 0_12 |  17 |\n",
       "| Control | 0 | 13 | 0_13 |  15 |\n",
       "| Control | 0 | 14 | 0_14 |  18 |\n",
       "| Control | 0 | 15 | 0_15 |  15 |\n",
       "| Control | 0 | 16 | 0_16 |  12 |\n",
       "| Control | 0 | 17 | 0_17 |  11 |\n",
       "| Control | 0 | 18 | 0_18 |   6 |\n",
       "| Control | 0 | 19 | 0_19 |  10 |\n",
       "| Control | 0 | 20 | 0_20 |   8 |\n",
       "| Control | 0 | 21 | 0_21 |   5 |\n",
       "| Control | 0 | 22 | 0_22 |  13 |\n",
       "| Control | 0 | 23 | 0_23 |   9 |\n",
       "| Control | 0 | 24 | 0_24 |   9 |\n",
       "| Control | 0 | 25 | 0_25 |   4 |\n",
       "| Control | 0 | 26 | 0_26 |   4 |\n",
       "| Control | 0 | 27 | 0_27 |   6 |\n",
       "| Control | 0 | 28 | 0_28 |   2 |\n",
       "| Control | 0 | 29 | 0_29 |   5 |\n",
       "| ⋮ | ⋮ | ⋮ | ⋮ | ⋮ |\n",
       "| Flt3l | 3 | 8  | 3_8  | 68 |\n",
       "| Flt3l | 3 | 9  | 3_9  | 60 |\n",
       "| Flt3l | 3 | 10 | 3_10 | 63 |\n",
       "| Flt3l | 3 | 11 | 3_11 | 33 |\n",
       "| Flt3l | 3 | 12 | 3_12 | 42 |\n",
       "| Flt3l | 3 | 13 | 3_13 | 32 |\n",
       "| Flt3l | 3 | 14 | 3_14 | 22 |\n",
       "| Flt3l | 3 | 15 | 3_15 | 14 |\n",
       "| Flt3l | 3 | 16 | 3_16 | 12 |\n",
       "| Flt3l | 3 | 17 | 3_17 | 13 |\n",
       "| Flt3l | 3 | 18 | 3_18 | 14 |\n",
       "| Flt3l | 3 | 19 | 3_19 | 11 |\n",
       "| Flt3l | 3 | 20 | 3_20 |  8 |\n",
       "| Flt3l | 3 | 21 | 3_21 |  5 |\n",
       "| Flt3l | 3 | 22 | 3_22 |  4 |\n",
       "| Flt3l | 3 | 23 | 3_23 |  3 |\n",
       "| Flt3l | 3 | 24 | 3_24 |  7 |\n",
       "| Flt3l | 3 | 25 | 3_25 |  7 |\n",
       "| Flt3l | 3 | 26 | 3_26 |  6 |\n",
       "| Flt3l | 3 | 27 | 3_27 |  4 |\n",
       "| Flt3l | 3 | 28 | 3_28 |  4 |\n",
       "| Flt3l | 3 | 29 | 3_29 |  4 |\n",
       "| Flt3l | 3 | 30 | 3_30 |  2 |\n",
       "| Flt3l | 3 | 31 | 3_31 |  2 |\n",
       "| Flt3l | 3 | 32 | 3_32 |  3 |\n",
       "| Flt3l | 3 | 33 | 3_33 |  4 |\n",
       "| Flt3l | 3 | 34 | 3_34 |  2 |\n",
       "| Flt3l | 3 | 35 | 3_35 |  1 |\n",
       "| Flt3l | 3 | 36 | 3_36 | 99 |\n",
       "| Flt3l | 3 | 37 | 3_37 |  2 |\n",
       "\n"
      ],
      "text/plain": [
       "    condition donor lineage name size\n",
       "1   Control   0     0       0_0   62 \n",
       "2   Control   0     1       0_1   46 \n",
       "3   Control   0     2       0_2  104 \n",
       "4   Control   0     3       0_3   80 \n",
       "5   Control   0     4       0_4   99 \n",
       "6   Control   0     5       0_5   30 \n",
       "7   Control   0     6       0_6   70 \n",
       "8   Control   0     7       0_7   51 \n",
       "9   Control   0     8       0_8   29 \n",
       "10  Control   0     9       0_9   32 \n",
       "11  Control   0     10      0_10  56 \n",
       "12  Control   0     11      0_11  88 \n",
       "13  Control   0     12      0_12  17 \n",
       "14  Control   0     13      0_13  15 \n",
       "15  Control   0     14      0_14  18 \n",
       "16  Control   0     15      0_15  15 \n",
       "17  Control   0     16      0_16  12 \n",
       "18  Control   0     17      0_17  11 \n",
       "19  Control   0     18      0_18   6 \n",
       "20  Control   0     19      0_19  10 \n",
       "21  Control   0     20      0_20   8 \n",
       "22  Control   0     21      0_21   5 \n",
       "23  Control   0     22      0_22  13 \n",
       "24  Control   0     23      0_23   9 \n",
       "25  Control   0     24      0_24   9 \n",
       "26  Control   0     25      0_25   4 \n",
       "27  Control   0     26      0_26   4 \n",
       "28  Control   0     27      0_27   6 \n",
       "29  Control   0     28      0_28   2 \n",
       "30  Control   0     29      0_29   5 \n",
       "⋮   ⋮         ⋮     ⋮       ⋮    ⋮   \n",
       "304 Flt3l     3     8       3_8  68  \n",
       "305 Flt3l     3     9       3_9  60  \n",
       "306 Flt3l     3     10      3_10 63  \n",
       "307 Flt3l     3     11      3_11 33  \n",
       "308 Flt3l     3     12      3_12 42  \n",
       "309 Flt3l     3     13      3_13 32  \n",
       "310 Flt3l     3     14      3_14 22  \n",
       "311 Flt3l     3     15      3_15 14  \n",
       "312 Flt3l     3     16      3_16 12  \n",
       "313 Flt3l     3     17      3_17 13  \n",
       "314 Flt3l     3     18      3_18 14  \n",
       "315 Flt3l     3     19      3_19 11  \n",
       "316 Flt3l     3     20      3_20  8  \n",
       "317 Flt3l     3     21      3_21  5  \n",
       "318 Flt3l     3     22      3_22  4  \n",
       "319 Flt3l     3     23      3_23  3  \n",
       "320 Flt3l     3     24      3_24  7  \n",
       "321 Flt3l     3     25      3_25  7  \n",
       "322 Flt3l     3     26      3_26  6  \n",
       "323 Flt3l     3     27      3_27  4  \n",
       "324 Flt3l     3     28      3_28  4  \n",
       "325 Flt3l     3     29      3_29  4  \n",
       "326 Flt3l     3     30      3_30  2  \n",
       "327 Flt3l     3     31      3_31  2  \n",
       "328 Flt3l     3     32      3_32  3  \n",
       "329 Flt3l     3     33      3_33  4  \n",
       "330 Flt3l     3     34      3_34  2  \n",
       "331 Flt3l     3     35      3_35  1  \n",
       "332 Flt3l     3     36      3_36 99  \n",
       "333 Flt3l     3     37      3_37  2  "
      ]
     },
     "metadata": {},
     "output_type": "display_data"
    }
   ],
   "source": [
    "counts <- se[[]] %>%\n",
    "          group_by(condition, donor, lineage, name) %>%\n",
    "          summarize(size=n()) %>% filter(!name==\"None\")\n",
    "counts"
   ]
  },
  {
   "cell_type": "code",
   "execution_count": 8,
   "id": "c042aa55",
   "metadata": {
    "execution": {
     "iopub.execute_input": "2021-12-03T16:07:20.721691Z",
     "iopub.status.busy": "2021-12-03T16:07:20.717872Z",
     "iopub.status.idle": "2021-12-03T16:07:20.819510Z",
     "shell.execute_reply": "2021-12-03T16:07:20.818710Z"
    },
    "papermill": {
     "duration": 0.191291,
     "end_time": "2021-12-03T16:07:20.819710",
     "exception": false,
     "start_time": "2021-12-03T16:07:20.628419",
     "status": "completed"
    },
    "scrolled": true,
    "tags": []
   },
   "outputs": [
    {
     "data": {
      "text/html": [
       "<table class=\"dataframe\">\n",
       "<caption>A tibble: 333 × 7</caption>\n",
       "<thead>\n",
       "\t<tr><th scope=col>condition</th><th scope=col>donor</th><th scope=col>lineage</th><th scope=col>name</th><th scope=col>size</th><th scope=col>total</th><th scope=col>norm</th></tr>\n",
       "\t<tr><th scope=col>&lt;fct&gt;</th><th scope=col>&lt;fct&gt;</th><th scope=col>&lt;fct&gt;</th><th scope=col>&lt;fct&gt;</th><th scope=col>&lt;int&gt;</th><th scope=col>&lt;int&gt;</th><th scope=col>&lt;dbl&gt;</th></tr>\n",
       "</thead>\n",
       "<tbody>\n",
       "\t<tr><td>Control</td><td>0</td><td>0 </td><td>0_0 </td><td> 62</td><td>1156</td><td>0.053633218</td></tr>\n",
       "\t<tr><td>Control</td><td>0</td><td>1 </td><td>0_1 </td><td> 46</td><td>1156</td><td>0.039792388</td></tr>\n",
       "\t<tr><td>Control</td><td>0</td><td>2 </td><td>0_2 </td><td>104</td><td>1156</td><td>0.089965398</td></tr>\n",
       "\t<tr><td>Control</td><td>0</td><td>3 </td><td>0_3 </td><td> 80</td><td>1156</td><td>0.069204152</td></tr>\n",
       "\t<tr><td>Control</td><td>0</td><td>4 </td><td>0_4 </td><td> 99</td><td>1156</td><td>0.085640138</td></tr>\n",
       "\t<tr><td>Control</td><td>0</td><td>5 </td><td>0_5 </td><td> 30</td><td>1156</td><td>0.025951557</td></tr>\n",
       "\t<tr><td>Control</td><td>0</td><td>6 </td><td>0_6 </td><td> 70</td><td>1156</td><td>0.060553633</td></tr>\n",
       "\t<tr><td>Control</td><td>0</td><td>7 </td><td>0_7 </td><td> 51</td><td>1156</td><td>0.044117647</td></tr>\n",
       "\t<tr><td>Control</td><td>0</td><td>8 </td><td>0_8 </td><td> 29</td><td>1156</td><td>0.025086505</td></tr>\n",
       "\t<tr><td>Control</td><td>0</td><td>9 </td><td>0_9 </td><td> 32</td><td>1156</td><td>0.027681661</td></tr>\n",
       "\t<tr><td>Control</td><td>0</td><td>10</td><td>0_10</td><td> 56</td><td>1156</td><td>0.048442907</td></tr>\n",
       "\t<tr><td>Control</td><td>0</td><td>11</td><td>0_11</td><td> 88</td><td>1156</td><td>0.076124567</td></tr>\n",
       "\t<tr><td>Control</td><td>0</td><td>12</td><td>0_12</td><td> 17</td><td>1156</td><td>0.014705882</td></tr>\n",
       "\t<tr><td>Control</td><td>0</td><td>13</td><td>0_13</td><td> 15</td><td>1156</td><td>0.012975779</td></tr>\n",
       "\t<tr><td>Control</td><td>0</td><td>14</td><td>0_14</td><td> 18</td><td>1156</td><td>0.015570934</td></tr>\n",
       "\t<tr><td>Control</td><td>0</td><td>15</td><td>0_15</td><td> 15</td><td>1156</td><td>0.012975779</td></tr>\n",
       "\t<tr><td>Control</td><td>0</td><td>16</td><td>0_16</td><td> 12</td><td>1156</td><td>0.010380623</td></tr>\n",
       "\t<tr><td>Control</td><td>0</td><td>17</td><td>0_17</td><td> 11</td><td>1156</td><td>0.009515571</td></tr>\n",
       "\t<tr><td>Control</td><td>0</td><td>18</td><td>0_18</td><td>  6</td><td>1156</td><td>0.005190311</td></tr>\n",
       "\t<tr><td>Control</td><td>0</td><td>19</td><td>0_19</td><td> 10</td><td>1156</td><td>0.008650519</td></tr>\n",
       "\t<tr><td>Control</td><td>0</td><td>20</td><td>0_20</td><td>  8</td><td>1156</td><td>0.006920415</td></tr>\n",
       "\t<tr><td>Control</td><td>0</td><td>21</td><td>0_21</td><td>  5</td><td>1156</td><td>0.004325260</td></tr>\n",
       "\t<tr><td>Control</td><td>0</td><td>22</td><td>0_22</td><td> 13</td><td>1156</td><td>0.011245675</td></tr>\n",
       "\t<tr><td>Control</td><td>0</td><td>23</td><td>0_23</td><td>  9</td><td>1156</td><td>0.007785467</td></tr>\n",
       "\t<tr><td>Control</td><td>0</td><td>24</td><td>0_24</td><td>  9</td><td>1156</td><td>0.007785467</td></tr>\n",
       "\t<tr><td>Control</td><td>0</td><td>25</td><td>0_25</td><td>  4</td><td>1156</td><td>0.003460208</td></tr>\n",
       "\t<tr><td>Control</td><td>0</td><td>26</td><td>0_26</td><td>  4</td><td>1156</td><td>0.003460208</td></tr>\n",
       "\t<tr><td>Control</td><td>0</td><td>27</td><td>0_27</td><td>  6</td><td>1156</td><td>0.005190311</td></tr>\n",
       "\t<tr><td>Control</td><td>0</td><td>28</td><td>0_28</td><td>  2</td><td>1156</td><td>0.001730104</td></tr>\n",
       "\t<tr><td>Control</td><td>0</td><td>29</td><td>0_29</td><td>  5</td><td>1156</td><td>0.004325260</td></tr>\n",
       "\t<tr><td>⋮</td><td>⋮</td><td>⋮</td><td>⋮</td><td>⋮</td><td>⋮</td><td>⋮</td></tr>\n",
       "\t<tr><td>Flt3l</td><td>3</td><td>8 </td><td>3_8 </td><td>68</td><td>1877</td><td>0.0362280234</td></tr>\n",
       "\t<tr><td>Flt3l</td><td>3</td><td>9 </td><td>3_9 </td><td>60</td><td>1877</td><td>0.0319659030</td></tr>\n",
       "\t<tr><td>Flt3l</td><td>3</td><td>10</td><td>3_10</td><td>63</td><td>1877</td><td>0.0335641982</td></tr>\n",
       "\t<tr><td>Flt3l</td><td>3</td><td>11</td><td>3_11</td><td>33</td><td>1877</td><td>0.0175812467</td></tr>\n",
       "\t<tr><td>Flt3l</td><td>3</td><td>12</td><td>3_12</td><td>42</td><td>1877</td><td>0.0223761321</td></tr>\n",
       "\t<tr><td>Flt3l</td><td>3</td><td>13</td><td>3_13</td><td>32</td><td>1877</td><td>0.0170484816</td></tr>\n",
       "\t<tr><td>Flt3l</td><td>3</td><td>14</td><td>3_14</td><td>22</td><td>1877</td><td>0.0117208311</td></tr>\n",
       "\t<tr><td>Flt3l</td><td>3</td><td>15</td><td>3_15</td><td>14</td><td>1877</td><td>0.0074587107</td></tr>\n",
       "\t<tr><td>Flt3l</td><td>3</td><td>16</td><td>3_16</td><td>12</td><td>1877</td><td>0.0063931806</td></tr>\n",
       "\t<tr><td>Flt3l</td><td>3</td><td>17</td><td>3_17</td><td>13</td><td>1877</td><td>0.0069259457</td></tr>\n",
       "\t<tr><td>Flt3l</td><td>3</td><td>18</td><td>3_18</td><td>14</td><td>1877</td><td>0.0074587107</td></tr>\n",
       "\t<tr><td>Flt3l</td><td>3</td><td>19</td><td>3_19</td><td>11</td><td>1877</td><td>0.0058604156</td></tr>\n",
       "\t<tr><td>Flt3l</td><td>3</td><td>20</td><td>3_20</td><td> 8</td><td>1877</td><td>0.0042621204</td></tr>\n",
       "\t<tr><td>Flt3l</td><td>3</td><td>21</td><td>3_21</td><td> 5</td><td>1877</td><td>0.0026638253</td></tr>\n",
       "\t<tr><td>Flt3l</td><td>3</td><td>22</td><td>3_22</td><td> 4</td><td>1877</td><td>0.0021310602</td></tr>\n",
       "\t<tr><td>Flt3l</td><td>3</td><td>23</td><td>3_23</td><td> 3</td><td>1877</td><td>0.0015982952</td></tr>\n",
       "\t<tr><td>Flt3l</td><td>3</td><td>24</td><td>3_24</td><td> 7</td><td>1877</td><td>0.0037293554</td></tr>\n",
       "\t<tr><td>Flt3l</td><td>3</td><td>25</td><td>3_25</td><td> 7</td><td>1877</td><td>0.0037293554</td></tr>\n",
       "\t<tr><td>Flt3l</td><td>3</td><td>26</td><td>3_26</td><td> 6</td><td>1877</td><td>0.0031965903</td></tr>\n",
       "\t<tr><td>Flt3l</td><td>3</td><td>27</td><td>3_27</td><td> 4</td><td>1877</td><td>0.0021310602</td></tr>\n",
       "\t<tr><td>Flt3l</td><td>3</td><td>28</td><td>3_28</td><td> 4</td><td>1877</td><td>0.0021310602</td></tr>\n",
       "\t<tr><td>Flt3l</td><td>3</td><td>29</td><td>3_29</td><td> 4</td><td>1877</td><td>0.0021310602</td></tr>\n",
       "\t<tr><td>Flt3l</td><td>3</td><td>30</td><td>3_30</td><td> 2</td><td>1877</td><td>0.0010655301</td></tr>\n",
       "\t<tr><td>Flt3l</td><td>3</td><td>31</td><td>3_31</td><td> 2</td><td>1877</td><td>0.0010655301</td></tr>\n",
       "\t<tr><td>Flt3l</td><td>3</td><td>32</td><td>3_32</td><td> 3</td><td>1877</td><td>0.0015982952</td></tr>\n",
       "\t<tr><td>Flt3l</td><td>3</td><td>33</td><td>3_33</td><td> 4</td><td>1877</td><td>0.0021310602</td></tr>\n",
       "\t<tr><td>Flt3l</td><td>3</td><td>34</td><td>3_34</td><td> 2</td><td>1877</td><td>0.0010655301</td></tr>\n",
       "\t<tr><td>Flt3l</td><td>3</td><td>35</td><td>3_35</td><td> 1</td><td>1877</td><td>0.0005327651</td></tr>\n",
       "\t<tr><td>Flt3l</td><td>3</td><td>36</td><td>3_36</td><td>99</td><td>1877</td><td>0.0527437400</td></tr>\n",
       "\t<tr><td>Flt3l</td><td>3</td><td>37</td><td>3_37</td><td> 2</td><td>1877</td><td>0.0010655301</td></tr>\n",
       "</tbody>\n",
       "</table>\n"
      ],
      "text/latex": [
       "A tibble: 333 × 7\n",
       "\\begin{tabular}{lllllll}\n",
       " condition & donor & lineage & name & size & total & norm\\\\\n",
       " <fct> & <fct> & <fct> & <fct> & <int> & <int> & <dbl>\\\\\n",
       "\\hline\n",
       "\t Control & 0 & 0  & 0\\_0  &  62 & 1156 & 0.053633218\\\\\n",
       "\t Control & 0 & 1  & 0\\_1  &  46 & 1156 & 0.039792388\\\\\n",
       "\t Control & 0 & 2  & 0\\_2  & 104 & 1156 & 0.089965398\\\\\n",
       "\t Control & 0 & 3  & 0\\_3  &  80 & 1156 & 0.069204152\\\\\n",
       "\t Control & 0 & 4  & 0\\_4  &  99 & 1156 & 0.085640138\\\\\n",
       "\t Control & 0 & 5  & 0\\_5  &  30 & 1156 & 0.025951557\\\\\n",
       "\t Control & 0 & 6  & 0\\_6  &  70 & 1156 & 0.060553633\\\\\n",
       "\t Control & 0 & 7  & 0\\_7  &  51 & 1156 & 0.044117647\\\\\n",
       "\t Control & 0 & 8  & 0\\_8  &  29 & 1156 & 0.025086505\\\\\n",
       "\t Control & 0 & 9  & 0\\_9  &  32 & 1156 & 0.027681661\\\\\n",
       "\t Control & 0 & 10 & 0\\_10 &  56 & 1156 & 0.048442907\\\\\n",
       "\t Control & 0 & 11 & 0\\_11 &  88 & 1156 & 0.076124567\\\\\n",
       "\t Control & 0 & 12 & 0\\_12 &  17 & 1156 & 0.014705882\\\\\n",
       "\t Control & 0 & 13 & 0\\_13 &  15 & 1156 & 0.012975779\\\\\n",
       "\t Control & 0 & 14 & 0\\_14 &  18 & 1156 & 0.015570934\\\\\n",
       "\t Control & 0 & 15 & 0\\_15 &  15 & 1156 & 0.012975779\\\\\n",
       "\t Control & 0 & 16 & 0\\_16 &  12 & 1156 & 0.010380623\\\\\n",
       "\t Control & 0 & 17 & 0\\_17 &  11 & 1156 & 0.009515571\\\\\n",
       "\t Control & 0 & 18 & 0\\_18 &   6 & 1156 & 0.005190311\\\\\n",
       "\t Control & 0 & 19 & 0\\_19 &  10 & 1156 & 0.008650519\\\\\n",
       "\t Control & 0 & 20 & 0\\_20 &   8 & 1156 & 0.006920415\\\\\n",
       "\t Control & 0 & 21 & 0\\_21 &   5 & 1156 & 0.004325260\\\\\n",
       "\t Control & 0 & 22 & 0\\_22 &  13 & 1156 & 0.011245675\\\\\n",
       "\t Control & 0 & 23 & 0\\_23 &   9 & 1156 & 0.007785467\\\\\n",
       "\t Control & 0 & 24 & 0\\_24 &   9 & 1156 & 0.007785467\\\\\n",
       "\t Control & 0 & 25 & 0\\_25 &   4 & 1156 & 0.003460208\\\\\n",
       "\t Control & 0 & 26 & 0\\_26 &   4 & 1156 & 0.003460208\\\\\n",
       "\t Control & 0 & 27 & 0\\_27 &   6 & 1156 & 0.005190311\\\\\n",
       "\t Control & 0 & 28 & 0\\_28 &   2 & 1156 & 0.001730104\\\\\n",
       "\t Control & 0 & 29 & 0\\_29 &   5 & 1156 & 0.004325260\\\\\n",
       "\t ⋮ & ⋮ & ⋮ & ⋮ & ⋮ & ⋮ & ⋮\\\\\n",
       "\t Flt3l & 3 & 8  & 3\\_8  & 68 & 1877 & 0.0362280234\\\\\n",
       "\t Flt3l & 3 & 9  & 3\\_9  & 60 & 1877 & 0.0319659030\\\\\n",
       "\t Flt3l & 3 & 10 & 3\\_10 & 63 & 1877 & 0.0335641982\\\\\n",
       "\t Flt3l & 3 & 11 & 3\\_11 & 33 & 1877 & 0.0175812467\\\\\n",
       "\t Flt3l & 3 & 12 & 3\\_12 & 42 & 1877 & 0.0223761321\\\\\n",
       "\t Flt3l & 3 & 13 & 3\\_13 & 32 & 1877 & 0.0170484816\\\\\n",
       "\t Flt3l & 3 & 14 & 3\\_14 & 22 & 1877 & 0.0117208311\\\\\n",
       "\t Flt3l & 3 & 15 & 3\\_15 & 14 & 1877 & 0.0074587107\\\\\n",
       "\t Flt3l & 3 & 16 & 3\\_16 & 12 & 1877 & 0.0063931806\\\\\n",
       "\t Flt3l & 3 & 17 & 3\\_17 & 13 & 1877 & 0.0069259457\\\\\n",
       "\t Flt3l & 3 & 18 & 3\\_18 & 14 & 1877 & 0.0074587107\\\\\n",
       "\t Flt3l & 3 & 19 & 3\\_19 & 11 & 1877 & 0.0058604156\\\\\n",
       "\t Flt3l & 3 & 20 & 3\\_20 &  8 & 1877 & 0.0042621204\\\\\n",
       "\t Flt3l & 3 & 21 & 3\\_21 &  5 & 1877 & 0.0026638253\\\\\n",
       "\t Flt3l & 3 & 22 & 3\\_22 &  4 & 1877 & 0.0021310602\\\\\n",
       "\t Flt3l & 3 & 23 & 3\\_23 &  3 & 1877 & 0.0015982952\\\\\n",
       "\t Flt3l & 3 & 24 & 3\\_24 &  7 & 1877 & 0.0037293554\\\\\n",
       "\t Flt3l & 3 & 25 & 3\\_25 &  7 & 1877 & 0.0037293554\\\\\n",
       "\t Flt3l & 3 & 26 & 3\\_26 &  6 & 1877 & 0.0031965903\\\\\n",
       "\t Flt3l & 3 & 27 & 3\\_27 &  4 & 1877 & 0.0021310602\\\\\n",
       "\t Flt3l & 3 & 28 & 3\\_28 &  4 & 1877 & 0.0021310602\\\\\n",
       "\t Flt3l & 3 & 29 & 3\\_29 &  4 & 1877 & 0.0021310602\\\\\n",
       "\t Flt3l & 3 & 30 & 3\\_30 &  2 & 1877 & 0.0010655301\\\\\n",
       "\t Flt3l & 3 & 31 & 3\\_31 &  2 & 1877 & 0.0010655301\\\\\n",
       "\t Flt3l & 3 & 32 & 3\\_32 &  3 & 1877 & 0.0015982952\\\\\n",
       "\t Flt3l & 3 & 33 & 3\\_33 &  4 & 1877 & 0.0021310602\\\\\n",
       "\t Flt3l & 3 & 34 & 3\\_34 &  2 & 1877 & 0.0010655301\\\\\n",
       "\t Flt3l & 3 & 35 & 3\\_35 &  1 & 1877 & 0.0005327651\\\\\n",
       "\t Flt3l & 3 & 36 & 3\\_36 & 99 & 1877 & 0.0527437400\\\\\n",
       "\t Flt3l & 3 & 37 & 3\\_37 &  2 & 1877 & 0.0010655301\\\\\n",
       "\\end{tabular}\n"
      ],
      "text/markdown": [
       "\n",
       "A tibble: 333 × 7\n",
       "\n",
       "| condition &lt;fct&gt; | donor &lt;fct&gt; | lineage &lt;fct&gt; | name &lt;fct&gt; | size &lt;int&gt; | total &lt;int&gt; | norm &lt;dbl&gt; |\n",
       "|---|---|---|---|---|---|---|\n",
       "| Control | 0 | 0  | 0_0  |  62 | 1156 | 0.053633218 |\n",
       "| Control | 0 | 1  | 0_1  |  46 | 1156 | 0.039792388 |\n",
       "| Control | 0 | 2  | 0_2  | 104 | 1156 | 0.089965398 |\n",
       "| Control | 0 | 3  | 0_3  |  80 | 1156 | 0.069204152 |\n",
       "| Control | 0 | 4  | 0_4  |  99 | 1156 | 0.085640138 |\n",
       "| Control | 0 | 5  | 0_5  |  30 | 1156 | 0.025951557 |\n",
       "| Control | 0 | 6  | 0_6  |  70 | 1156 | 0.060553633 |\n",
       "| Control | 0 | 7  | 0_7  |  51 | 1156 | 0.044117647 |\n",
       "| Control | 0 | 8  | 0_8  |  29 | 1156 | 0.025086505 |\n",
       "| Control | 0 | 9  | 0_9  |  32 | 1156 | 0.027681661 |\n",
       "| Control | 0 | 10 | 0_10 |  56 | 1156 | 0.048442907 |\n",
       "| Control | 0 | 11 | 0_11 |  88 | 1156 | 0.076124567 |\n",
       "| Control | 0 | 12 | 0_12 |  17 | 1156 | 0.014705882 |\n",
       "| Control | 0 | 13 | 0_13 |  15 | 1156 | 0.012975779 |\n",
       "| Control | 0 | 14 | 0_14 |  18 | 1156 | 0.015570934 |\n",
       "| Control | 0 | 15 | 0_15 |  15 | 1156 | 0.012975779 |\n",
       "| Control | 0 | 16 | 0_16 |  12 | 1156 | 0.010380623 |\n",
       "| Control | 0 | 17 | 0_17 |  11 | 1156 | 0.009515571 |\n",
       "| Control | 0 | 18 | 0_18 |   6 | 1156 | 0.005190311 |\n",
       "| Control | 0 | 19 | 0_19 |  10 | 1156 | 0.008650519 |\n",
       "| Control | 0 | 20 | 0_20 |   8 | 1156 | 0.006920415 |\n",
       "| Control | 0 | 21 | 0_21 |   5 | 1156 | 0.004325260 |\n",
       "| Control | 0 | 22 | 0_22 |  13 | 1156 | 0.011245675 |\n",
       "| Control | 0 | 23 | 0_23 |   9 | 1156 | 0.007785467 |\n",
       "| Control | 0 | 24 | 0_24 |   9 | 1156 | 0.007785467 |\n",
       "| Control | 0 | 25 | 0_25 |   4 | 1156 | 0.003460208 |\n",
       "| Control | 0 | 26 | 0_26 |   4 | 1156 | 0.003460208 |\n",
       "| Control | 0 | 27 | 0_27 |   6 | 1156 | 0.005190311 |\n",
       "| Control | 0 | 28 | 0_28 |   2 | 1156 | 0.001730104 |\n",
       "| Control | 0 | 29 | 0_29 |   5 | 1156 | 0.004325260 |\n",
       "| ⋮ | ⋮ | ⋮ | ⋮ | ⋮ | ⋮ | ⋮ |\n",
       "| Flt3l | 3 | 8  | 3_8  | 68 | 1877 | 0.0362280234 |\n",
       "| Flt3l | 3 | 9  | 3_9  | 60 | 1877 | 0.0319659030 |\n",
       "| Flt3l | 3 | 10 | 3_10 | 63 | 1877 | 0.0335641982 |\n",
       "| Flt3l | 3 | 11 | 3_11 | 33 | 1877 | 0.0175812467 |\n",
       "| Flt3l | 3 | 12 | 3_12 | 42 | 1877 | 0.0223761321 |\n",
       "| Flt3l | 3 | 13 | 3_13 | 32 | 1877 | 0.0170484816 |\n",
       "| Flt3l | 3 | 14 | 3_14 | 22 | 1877 | 0.0117208311 |\n",
       "| Flt3l | 3 | 15 | 3_15 | 14 | 1877 | 0.0074587107 |\n",
       "| Flt3l | 3 | 16 | 3_16 | 12 | 1877 | 0.0063931806 |\n",
       "| Flt3l | 3 | 17 | 3_17 | 13 | 1877 | 0.0069259457 |\n",
       "| Flt3l | 3 | 18 | 3_18 | 14 | 1877 | 0.0074587107 |\n",
       "| Flt3l | 3 | 19 | 3_19 | 11 | 1877 | 0.0058604156 |\n",
       "| Flt3l | 3 | 20 | 3_20 |  8 | 1877 | 0.0042621204 |\n",
       "| Flt3l | 3 | 21 | 3_21 |  5 | 1877 | 0.0026638253 |\n",
       "| Flt3l | 3 | 22 | 3_22 |  4 | 1877 | 0.0021310602 |\n",
       "| Flt3l | 3 | 23 | 3_23 |  3 | 1877 | 0.0015982952 |\n",
       "| Flt3l | 3 | 24 | 3_24 |  7 | 1877 | 0.0037293554 |\n",
       "| Flt3l | 3 | 25 | 3_25 |  7 | 1877 | 0.0037293554 |\n",
       "| Flt3l | 3 | 26 | 3_26 |  6 | 1877 | 0.0031965903 |\n",
       "| Flt3l | 3 | 27 | 3_27 |  4 | 1877 | 0.0021310602 |\n",
       "| Flt3l | 3 | 28 | 3_28 |  4 | 1877 | 0.0021310602 |\n",
       "| Flt3l | 3 | 29 | 3_29 |  4 | 1877 | 0.0021310602 |\n",
       "| Flt3l | 3 | 30 | 3_30 |  2 | 1877 | 0.0010655301 |\n",
       "| Flt3l | 3 | 31 | 3_31 |  2 | 1877 | 0.0010655301 |\n",
       "| Flt3l | 3 | 32 | 3_32 |  3 | 1877 | 0.0015982952 |\n",
       "| Flt3l | 3 | 33 | 3_33 |  4 | 1877 | 0.0021310602 |\n",
       "| Flt3l | 3 | 34 | 3_34 |  2 | 1877 | 0.0010655301 |\n",
       "| Flt3l | 3 | 35 | 3_35 |  1 | 1877 | 0.0005327651 |\n",
       "| Flt3l | 3 | 36 | 3_36 | 99 | 1877 | 0.0527437400 |\n",
       "| Flt3l | 3 | 37 | 3_37 |  2 | 1877 | 0.0010655301 |\n",
       "\n"
      ],
      "text/plain": [
       "    condition donor lineage name size total norm        \n",
       "1   Control   0     0       0_0   62  1156  0.053633218 \n",
       "2   Control   0     1       0_1   46  1156  0.039792388 \n",
       "3   Control   0     2       0_2  104  1156  0.089965398 \n",
       "4   Control   0     3       0_3   80  1156  0.069204152 \n",
       "5   Control   0     4       0_4   99  1156  0.085640138 \n",
       "6   Control   0     5       0_5   30  1156  0.025951557 \n",
       "7   Control   0     6       0_6   70  1156  0.060553633 \n",
       "8   Control   0     7       0_7   51  1156  0.044117647 \n",
       "9   Control   0     8       0_8   29  1156  0.025086505 \n",
       "10  Control   0     9       0_9   32  1156  0.027681661 \n",
       "11  Control   0     10      0_10  56  1156  0.048442907 \n",
       "12  Control   0     11      0_11  88  1156  0.076124567 \n",
       "13  Control   0     12      0_12  17  1156  0.014705882 \n",
       "14  Control   0     13      0_13  15  1156  0.012975779 \n",
       "15  Control   0     14      0_14  18  1156  0.015570934 \n",
       "16  Control   0     15      0_15  15  1156  0.012975779 \n",
       "17  Control   0     16      0_16  12  1156  0.010380623 \n",
       "18  Control   0     17      0_17  11  1156  0.009515571 \n",
       "19  Control   0     18      0_18   6  1156  0.005190311 \n",
       "20  Control   0     19      0_19  10  1156  0.008650519 \n",
       "21  Control   0     20      0_20   8  1156  0.006920415 \n",
       "22  Control   0     21      0_21   5  1156  0.004325260 \n",
       "23  Control   0     22      0_22  13  1156  0.011245675 \n",
       "24  Control   0     23      0_23   9  1156  0.007785467 \n",
       "25  Control   0     24      0_24   9  1156  0.007785467 \n",
       "26  Control   0     25      0_25   4  1156  0.003460208 \n",
       "27  Control   0     26      0_26   4  1156  0.003460208 \n",
       "28  Control   0     27      0_27   6  1156  0.005190311 \n",
       "29  Control   0     28      0_28   2  1156  0.001730104 \n",
       "30  Control   0     29      0_29   5  1156  0.004325260 \n",
       "⋮   ⋮         ⋮     ⋮       ⋮    ⋮    ⋮     ⋮           \n",
       "304 Flt3l     3     8       3_8  68   1877  0.0362280234\n",
       "305 Flt3l     3     9       3_9  60   1877  0.0319659030\n",
       "306 Flt3l     3     10      3_10 63   1877  0.0335641982\n",
       "307 Flt3l     3     11      3_11 33   1877  0.0175812467\n",
       "308 Flt3l     3     12      3_12 42   1877  0.0223761321\n",
       "309 Flt3l     3     13      3_13 32   1877  0.0170484816\n",
       "310 Flt3l     3     14      3_14 22   1877  0.0117208311\n",
       "311 Flt3l     3     15      3_15 14   1877  0.0074587107\n",
       "312 Flt3l     3     16      3_16 12   1877  0.0063931806\n",
       "313 Flt3l     3     17      3_17 13   1877  0.0069259457\n",
       "314 Flt3l     3     18      3_18 14   1877  0.0074587107\n",
       "315 Flt3l     3     19      3_19 11   1877  0.0058604156\n",
       "316 Flt3l     3     20      3_20  8   1877  0.0042621204\n",
       "317 Flt3l     3     21      3_21  5   1877  0.0026638253\n",
       "318 Flt3l     3     22      3_22  4   1877  0.0021310602\n",
       "319 Flt3l     3     23      3_23  3   1877  0.0015982952\n",
       "320 Flt3l     3     24      3_24  7   1877  0.0037293554\n",
       "321 Flt3l     3     25      3_25  7   1877  0.0037293554\n",
       "322 Flt3l     3     26      3_26  6   1877  0.0031965903\n",
       "323 Flt3l     3     27      3_27  4   1877  0.0021310602\n",
       "324 Flt3l     3     28      3_28  4   1877  0.0021310602\n",
       "325 Flt3l     3     29      3_29  4   1877  0.0021310602\n",
       "326 Flt3l     3     30      3_30  2   1877  0.0010655301\n",
       "327 Flt3l     3     31      3_31  2   1877  0.0010655301\n",
       "328 Flt3l     3     32      3_32  3   1877  0.0015982952\n",
       "329 Flt3l     3     33      3_33  4   1877  0.0021310602\n",
       "330 Flt3l     3     34      3_34  2   1877  0.0010655301\n",
       "331 Flt3l     3     35      3_35  1   1877  0.0005327651\n",
       "332 Flt3l     3     36      3_36 99   1877  0.0527437400\n",
       "333 Flt3l     3     37      3_37  2   1877  0.0010655301"
      ]
     },
     "metadata": {},
     "output_type": "display_data"
    }
   ],
   "source": [
    "counts.norm <- counts %>% group_by(condition, donor) %>% mutate(total=sum(size)) %>% ungroup() %>% mutate(norm=size/total)\n",
    "\n",
    "counts.norm "
   ]
  },
  {
   "cell_type": "code",
   "execution_count": 9,
   "id": "b15ba9af",
   "metadata": {
    "execution": {
     "iopub.execute_input": "2021-12-03T16:07:21.003421Z",
     "iopub.status.busy": "2021-12-03T16:07:21.000417Z",
     "iopub.status.idle": "2021-12-03T16:07:21.096952Z",
     "shell.execute_reply": "2021-12-03T16:07:21.097806Z"
    },
    "papermill": {
     "duration": 0.190685,
     "end_time": "2021-12-03T16:07:21.098073",
     "exception": false,
     "start_time": "2021-12-03T16:07:20.907388",
     "status": "completed"
    },
    "scrolled": true,
    "tags": []
   },
   "outputs": [
    {
     "name": "stderr",
     "output_type": "stream",
     "text": [
      "Warning message in xtfrm.data.frame(x):\n",
      "“cannot xtfrm data frames”\n"
     ]
    },
    {
     "data": {
      "text/html": [
       "<table class=\"dataframe\">\n",
       "<caption>A tibble: 333 × 7</caption>\n",
       "<thead>\n",
       "\t<tr><th scope=col>condition</th><th scope=col>donor</th><th scope=col>lineage</th><th scope=col>name</th><th scope=col>size</th><th scope=col>total</th><th scope=col>norm</th></tr>\n",
       "\t<tr><th scope=col>&lt;fct&gt;</th><th scope=col>&lt;fct&gt;</th><th scope=col>&lt;fct&gt;</th><th scope=col>&lt;fct&gt;</th><th scope=col>&lt;int&gt;</th><th scope=col>&lt;int&gt;</th><th scope=col>&lt;dbl&gt;</th></tr>\n",
       "</thead>\n",
       "<tbody>\n",
       "\t<tr><td>Control</td><td>3</td><td>36</td><td>3_36</td><td>178</td><td> 935</td><td>0.19037433</td></tr>\n",
       "\t<tr><td>Flt3l  </td><td>3</td><td>0 </td><td>3_0 </td><td>348</td><td>1877</td><td>0.18540224</td></tr>\n",
       "\t<tr><td>Flt3l  </td><td>3</td><td>1 </td><td>3_1 </td><td>341</td><td>1877</td><td>0.18167288</td></tr>\n",
       "\t<tr><td>Flt3l  </td><td>2</td><td>0 </td><td>2_0 </td><td>258</td><td>1464</td><td>0.17622951</td></tr>\n",
       "\t<tr><td>Control</td><td>3</td><td>2 </td><td>3_2 </td><td>132</td><td> 935</td><td>0.14117647</td></tr>\n",
       "\t<tr><td>Control</td><td>3</td><td>0 </td><td>3_0 </td><td>126</td><td> 935</td><td>0.13475936</td></tr>\n",
       "\t<tr><td>Flt3l  </td><td>0</td><td>0 </td><td>0_0 </td><td>298</td><td>2360</td><td>0.12627119</td></tr>\n",
       "\t<tr><td>Flt3l  </td><td>2</td><td>1 </td><td>2_1 </td><td>158</td><td>1464</td><td>0.10792350</td></tr>\n",
       "\t<tr><td>Control</td><td>0</td><td>52</td><td>0_52</td><td>123</td><td>1156</td><td>0.10640138</td></tr>\n",
       "\t<tr><td>Control</td><td>2</td><td>1 </td><td>2_1 </td><td> 72</td><td> 735</td><td>0.09795918</td></tr>\n",
       "\t<tr><td>Flt3l  </td><td>0</td><td>1 </td><td>0_1 </td><td>230</td><td>2360</td><td>0.09745763</td></tr>\n",
       "\t<tr><td>Flt3l  </td><td>3</td><td>2 </td><td>3_2 </td><td>176</td><td>1877</td><td>0.09376665</td></tr>\n",
       "\t<tr><td>Flt3l  </td><td>2</td><td>2 </td><td>2_2 </td><td>135</td><td>1464</td><td>0.09221311</td></tr>\n",
       "\t<tr><td>Control</td><td>3</td><td>3 </td><td>3_3 </td><td> 85</td><td> 935</td><td>0.09090909</td></tr>\n",
       "\t<tr><td>Control</td><td>0</td><td>2 </td><td>0_2 </td><td>104</td><td>1156</td><td>0.08996540</td></tr>\n",
       "\t<tr><td>Control</td><td>2</td><td>6 </td><td>2_6 </td><td> 63</td><td> 735</td><td>0.08571429</td></tr>\n",
       "\t<tr><td>Control</td><td>0</td><td>4 </td><td>0_4 </td><td> 99</td><td>1156</td><td>0.08564014</td></tr>\n",
       "\t<tr><td>Control</td><td>2</td><td>0 </td><td>2_0 </td><td> 60</td><td> 735</td><td>0.08163265</td></tr>\n",
       "\t<tr><td>Control</td><td>1</td><td>0 </td><td>1_0 </td><td> 67</td><td> 845</td><td>0.07928994</td></tr>\n",
       "\t<tr><td>Control</td><td>2</td><td>3 </td><td>2_3 </td><td> 58</td><td> 735</td><td>0.07891156</td></tr>\n",
       "\t<tr><td>Control</td><td>0</td><td>11</td><td>0_11</td><td> 88</td><td>1156</td><td>0.07612457</td></tr>\n",
       "\t<tr><td>Control</td><td>3</td><td>6 </td><td>3_6 </td><td> 69</td><td> 935</td><td>0.07379679</td></tr>\n",
       "\t<tr><td>Control</td><td>2</td><td>2 </td><td>2_2 </td><td> 53</td><td> 735</td><td>0.07210884</td></tr>\n",
       "\t<tr><td>Flt3l  </td><td>2</td><td>5 </td><td>2_5 </td><td>103</td><td>1464</td><td>0.07035519</td></tr>\n",
       "\t<tr><td>Control</td><td>3</td><td>1 </td><td>3_1 </td><td> 65</td><td> 935</td><td>0.06951872</td></tr>\n",
       "\t<tr><td>Control</td><td>0</td><td>3 </td><td>0_3 </td><td> 80</td><td>1156</td><td>0.06920415</td></tr>\n",
       "\t<tr><td>Flt3l  </td><td>1</td><td>0 </td><td>1_0 </td><td>153</td><td>2319</td><td>0.06597671</td></tr>\n",
       "\t<tr><td>Flt3l  </td><td>2</td><td>3 </td><td>2_3 </td><td> 96</td><td>1464</td><td>0.06557377</td></tr>\n",
       "\t<tr><td>Flt3l  </td><td>0</td><td>2 </td><td>0_2 </td><td>151</td><td>2360</td><td>0.06398305</td></tr>\n",
       "\t<tr><td>Control</td><td>2</td><td>8 </td><td>2_8 </td><td> 47</td><td> 735</td><td>0.06394558</td></tr>\n",
       "\t<tr><td>⋮</td><td>⋮</td><td>⋮</td><td>⋮</td><td>⋮</td><td>⋮</td><td>⋮</td></tr>\n",
       "\t<tr><td>Control</td><td>0</td><td>43</td><td>0_43</td><td>1</td><td>1156</td><td>0.0008650519</td></tr>\n",
       "\t<tr><td>Control</td><td>0</td><td>45</td><td>0_45</td><td>1</td><td>1156</td><td>0.0008650519</td></tr>\n",
       "\t<tr><td>Control</td><td>0</td><td>46</td><td>0_46</td><td>1</td><td>1156</td><td>0.0008650519</td></tr>\n",
       "\t<tr><td>Control</td><td>0</td><td>47</td><td>0_47</td><td>1</td><td>1156</td><td>0.0008650519</td></tr>\n",
       "\t<tr><td>Control</td><td>0</td><td>48</td><td>0_48</td><td>1</td><td>1156</td><td>0.0008650519</td></tr>\n",
       "\t<tr><td>Control</td><td>0</td><td>50</td><td>0_50</td><td>1</td><td>1156</td><td>0.0008650519</td></tr>\n",
       "\t<tr><td>Control</td><td>0</td><td>55</td><td>0_55</td><td>1</td><td>1156</td><td>0.0008650519</td></tr>\n",
       "\t<tr><td>Control</td><td>0</td><td>56</td><td>0_56</td><td>1</td><td>1156</td><td>0.0008650519</td></tr>\n",
       "\t<tr><td>Flt3l  </td><td>0</td><td>40</td><td>0_40</td><td>2</td><td>2360</td><td>0.0008474576</td></tr>\n",
       "\t<tr><td>Flt3l  </td><td>0</td><td>42</td><td>0_42</td><td>2</td><td>2360</td><td>0.0008474576</td></tr>\n",
       "\t<tr><td>Flt3l  </td><td>0</td><td>47</td><td>0_47</td><td>2</td><td>2360</td><td>0.0008474576</td></tr>\n",
       "\t<tr><td>Flt3l  </td><td>0</td><td>59</td><td>0_59</td><td>2</td><td>2360</td><td>0.0008474576</td></tr>\n",
       "\t<tr><td>Flt3l  </td><td>2</td><td>29</td><td>2_29</td><td>1</td><td>1464</td><td>0.0006830601</td></tr>\n",
       "\t<tr><td>Flt3l  </td><td>2</td><td>32</td><td>2_32</td><td>1</td><td>1464</td><td>0.0006830601</td></tr>\n",
       "\t<tr><td>Flt3l  </td><td>2</td><td>33</td><td>2_33</td><td>1</td><td>1464</td><td>0.0006830601</td></tr>\n",
       "\t<tr><td>Flt3l  </td><td>2</td><td>36</td><td>2_36</td><td>1</td><td>1464</td><td>0.0006830601</td></tr>\n",
       "\t<tr><td>Flt3l  </td><td>2</td><td>37</td><td>2_37</td><td>1</td><td>1464</td><td>0.0006830601</td></tr>\n",
       "\t<tr><td>Flt3l  </td><td>3</td><td>35</td><td>3_35</td><td>1</td><td>1877</td><td>0.0005327651</td></tr>\n",
       "\t<tr><td>Flt3l  </td><td>1</td><td>34</td><td>1_34</td><td>1</td><td>2319</td><td>0.0004312204</td></tr>\n",
       "\t<tr><td>Flt3l  </td><td>1</td><td>35</td><td>1_35</td><td>1</td><td>2319</td><td>0.0004312204</td></tr>\n",
       "\t<tr><td>Flt3l  </td><td>0</td><td>39</td><td>0_39</td><td>1</td><td>2360</td><td>0.0004237288</td></tr>\n",
       "\t<tr><td>Flt3l  </td><td>0</td><td>43</td><td>0_43</td><td>1</td><td>2360</td><td>0.0004237288</td></tr>\n",
       "\t<tr><td>Flt3l  </td><td>0</td><td>44</td><td>0_44</td><td>1</td><td>2360</td><td>0.0004237288</td></tr>\n",
       "\t<tr><td>Flt3l  </td><td>0</td><td>49</td><td>0_49</td><td>1</td><td>2360</td><td>0.0004237288</td></tr>\n",
       "\t<tr><td>Flt3l  </td><td>0</td><td>50</td><td>0_50</td><td>1</td><td>2360</td><td>0.0004237288</td></tr>\n",
       "\t<tr><td>Flt3l  </td><td>0</td><td>51</td><td>0_51</td><td>1</td><td>2360</td><td>0.0004237288</td></tr>\n",
       "\t<tr><td>Flt3l  </td><td>0</td><td>54</td><td>0_54</td><td>1</td><td>2360</td><td>0.0004237288</td></tr>\n",
       "\t<tr><td>Flt3l  </td><td>0</td><td>55</td><td>0_55</td><td>1</td><td>2360</td><td>0.0004237288</td></tr>\n",
       "\t<tr><td>Flt3l  </td><td>0</td><td>56</td><td>0_56</td><td>1</td><td>2360</td><td>0.0004237288</td></tr>\n",
       "\t<tr><td>Flt3l  </td><td>0</td><td>58</td><td>0_58</td><td>1</td><td>2360</td><td>0.0004237288</td></tr>\n",
       "</tbody>\n",
       "</table>\n"
      ],
      "text/latex": [
       "A tibble: 333 × 7\n",
       "\\begin{tabular}{lllllll}\n",
       " condition & donor & lineage & name & size & total & norm\\\\\n",
       " <fct> & <fct> & <fct> & <fct> & <int> & <int> & <dbl>\\\\\n",
       "\\hline\n",
       "\t Control & 3 & 36 & 3\\_36 & 178 &  935 & 0.19037433\\\\\n",
       "\t Flt3l   & 3 & 0  & 3\\_0  & 348 & 1877 & 0.18540224\\\\\n",
       "\t Flt3l   & 3 & 1  & 3\\_1  & 341 & 1877 & 0.18167288\\\\\n",
       "\t Flt3l   & 2 & 0  & 2\\_0  & 258 & 1464 & 0.17622951\\\\\n",
       "\t Control & 3 & 2  & 3\\_2  & 132 &  935 & 0.14117647\\\\\n",
       "\t Control & 3 & 0  & 3\\_0  & 126 &  935 & 0.13475936\\\\\n",
       "\t Flt3l   & 0 & 0  & 0\\_0  & 298 & 2360 & 0.12627119\\\\\n",
       "\t Flt3l   & 2 & 1  & 2\\_1  & 158 & 1464 & 0.10792350\\\\\n",
       "\t Control & 0 & 52 & 0\\_52 & 123 & 1156 & 0.10640138\\\\\n",
       "\t Control & 2 & 1  & 2\\_1  &  72 &  735 & 0.09795918\\\\\n",
       "\t Flt3l   & 0 & 1  & 0\\_1  & 230 & 2360 & 0.09745763\\\\\n",
       "\t Flt3l   & 3 & 2  & 3\\_2  & 176 & 1877 & 0.09376665\\\\\n",
       "\t Flt3l   & 2 & 2  & 2\\_2  & 135 & 1464 & 0.09221311\\\\\n",
       "\t Control & 3 & 3  & 3\\_3  &  85 &  935 & 0.09090909\\\\\n",
       "\t Control & 0 & 2  & 0\\_2  & 104 & 1156 & 0.08996540\\\\\n",
       "\t Control & 2 & 6  & 2\\_6  &  63 &  735 & 0.08571429\\\\\n",
       "\t Control & 0 & 4  & 0\\_4  &  99 & 1156 & 0.08564014\\\\\n",
       "\t Control & 2 & 0  & 2\\_0  &  60 &  735 & 0.08163265\\\\\n",
       "\t Control & 1 & 0  & 1\\_0  &  67 &  845 & 0.07928994\\\\\n",
       "\t Control & 2 & 3  & 2\\_3  &  58 &  735 & 0.07891156\\\\\n",
       "\t Control & 0 & 11 & 0\\_11 &  88 & 1156 & 0.07612457\\\\\n",
       "\t Control & 3 & 6  & 3\\_6  &  69 &  935 & 0.07379679\\\\\n",
       "\t Control & 2 & 2  & 2\\_2  &  53 &  735 & 0.07210884\\\\\n",
       "\t Flt3l   & 2 & 5  & 2\\_5  & 103 & 1464 & 0.07035519\\\\\n",
       "\t Control & 3 & 1  & 3\\_1  &  65 &  935 & 0.06951872\\\\\n",
       "\t Control & 0 & 3  & 0\\_3  &  80 & 1156 & 0.06920415\\\\\n",
       "\t Flt3l   & 1 & 0  & 1\\_0  & 153 & 2319 & 0.06597671\\\\\n",
       "\t Flt3l   & 2 & 3  & 2\\_3  &  96 & 1464 & 0.06557377\\\\\n",
       "\t Flt3l   & 0 & 2  & 0\\_2  & 151 & 2360 & 0.06398305\\\\\n",
       "\t Control & 2 & 8  & 2\\_8  &  47 &  735 & 0.06394558\\\\\n",
       "\t ⋮ & ⋮ & ⋮ & ⋮ & ⋮ & ⋮ & ⋮\\\\\n",
       "\t Control & 0 & 43 & 0\\_43 & 1 & 1156 & 0.0008650519\\\\\n",
       "\t Control & 0 & 45 & 0\\_45 & 1 & 1156 & 0.0008650519\\\\\n",
       "\t Control & 0 & 46 & 0\\_46 & 1 & 1156 & 0.0008650519\\\\\n",
       "\t Control & 0 & 47 & 0\\_47 & 1 & 1156 & 0.0008650519\\\\\n",
       "\t Control & 0 & 48 & 0\\_48 & 1 & 1156 & 0.0008650519\\\\\n",
       "\t Control & 0 & 50 & 0\\_50 & 1 & 1156 & 0.0008650519\\\\\n",
       "\t Control & 0 & 55 & 0\\_55 & 1 & 1156 & 0.0008650519\\\\\n",
       "\t Control & 0 & 56 & 0\\_56 & 1 & 1156 & 0.0008650519\\\\\n",
       "\t Flt3l   & 0 & 40 & 0\\_40 & 2 & 2360 & 0.0008474576\\\\\n",
       "\t Flt3l   & 0 & 42 & 0\\_42 & 2 & 2360 & 0.0008474576\\\\\n",
       "\t Flt3l   & 0 & 47 & 0\\_47 & 2 & 2360 & 0.0008474576\\\\\n",
       "\t Flt3l   & 0 & 59 & 0\\_59 & 2 & 2360 & 0.0008474576\\\\\n",
       "\t Flt3l   & 2 & 29 & 2\\_29 & 1 & 1464 & 0.0006830601\\\\\n",
       "\t Flt3l   & 2 & 32 & 2\\_32 & 1 & 1464 & 0.0006830601\\\\\n",
       "\t Flt3l   & 2 & 33 & 2\\_33 & 1 & 1464 & 0.0006830601\\\\\n",
       "\t Flt3l   & 2 & 36 & 2\\_36 & 1 & 1464 & 0.0006830601\\\\\n",
       "\t Flt3l   & 2 & 37 & 2\\_37 & 1 & 1464 & 0.0006830601\\\\\n",
       "\t Flt3l   & 3 & 35 & 3\\_35 & 1 & 1877 & 0.0005327651\\\\\n",
       "\t Flt3l   & 1 & 34 & 1\\_34 & 1 & 2319 & 0.0004312204\\\\\n",
       "\t Flt3l   & 1 & 35 & 1\\_35 & 1 & 2319 & 0.0004312204\\\\\n",
       "\t Flt3l   & 0 & 39 & 0\\_39 & 1 & 2360 & 0.0004237288\\\\\n",
       "\t Flt3l   & 0 & 43 & 0\\_43 & 1 & 2360 & 0.0004237288\\\\\n",
       "\t Flt3l   & 0 & 44 & 0\\_44 & 1 & 2360 & 0.0004237288\\\\\n",
       "\t Flt3l   & 0 & 49 & 0\\_49 & 1 & 2360 & 0.0004237288\\\\\n",
       "\t Flt3l   & 0 & 50 & 0\\_50 & 1 & 2360 & 0.0004237288\\\\\n",
       "\t Flt3l   & 0 & 51 & 0\\_51 & 1 & 2360 & 0.0004237288\\\\\n",
       "\t Flt3l   & 0 & 54 & 0\\_54 & 1 & 2360 & 0.0004237288\\\\\n",
       "\t Flt3l   & 0 & 55 & 0\\_55 & 1 & 2360 & 0.0004237288\\\\\n",
       "\t Flt3l   & 0 & 56 & 0\\_56 & 1 & 2360 & 0.0004237288\\\\\n",
       "\t Flt3l   & 0 & 58 & 0\\_58 & 1 & 2360 & 0.0004237288\\\\\n",
       "\\end{tabular}\n"
      ],
      "text/markdown": [
       "\n",
       "A tibble: 333 × 7\n",
       "\n",
       "| condition &lt;fct&gt; | donor &lt;fct&gt; | lineage &lt;fct&gt; | name &lt;fct&gt; | size &lt;int&gt; | total &lt;int&gt; | norm &lt;dbl&gt; |\n",
       "|---|---|---|---|---|---|---|\n",
       "| Control | 3 | 36 | 3_36 | 178 |  935 | 0.19037433 |\n",
       "| Flt3l   | 3 | 0  | 3_0  | 348 | 1877 | 0.18540224 |\n",
       "| Flt3l   | 3 | 1  | 3_1  | 341 | 1877 | 0.18167288 |\n",
       "| Flt3l   | 2 | 0  | 2_0  | 258 | 1464 | 0.17622951 |\n",
       "| Control | 3 | 2  | 3_2  | 132 |  935 | 0.14117647 |\n",
       "| Control | 3 | 0  | 3_0  | 126 |  935 | 0.13475936 |\n",
       "| Flt3l   | 0 | 0  | 0_0  | 298 | 2360 | 0.12627119 |\n",
       "| Flt3l   | 2 | 1  | 2_1  | 158 | 1464 | 0.10792350 |\n",
       "| Control | 0 | 52 | 0_52 | 123 | 1156 | 0.10640138 |\n",
       "| Control | 2 | 1  | 2_1  |  72 |  735 | 0.09795918 |\n",
       "| Flt3l   | 0 | 1  | 0_1  | 230 | 2360 | 0.09745763 |\n",
       "| Flt3l   | 3 | 2  | 3_2  | 176 | 1877 | 0.09376665 |\n",
       "| Flt3l   | 2 | 2  | 2_2  | 135 | 1464 | 0.09221311 |\n",
       "| Control | 3 | 3  | 3_3  |  85 |  935 | 0.09090909 |\n",
       "| Control | 0 | 2  | 0_2  | 104 | 1156 | 0.08996540 |\n",
       "| Control | 2 | 6  | 2_6  |  63 |  735 | 0.08571429 |\n",
       "| Control | 0 | 4  | 0_4  |  99 | 1156 | 0.08564014 |\n",
       "| Control | 2 | 0  | 2_0  |  60 |  735 | 0.08163265 |\n",
       "| Control | 1 | 0  | 1_0  |  67 |  845 | 0.07928994 |\n",
       "| Control | 2 | 3  | 2_3  |  58 |  735 | 0.07891156 |\n",
       "| Control | 0 | 11 | 0_11 |  88 | 1156 | 0.07612457 |\n",
       "| Control | 3 | 6  | 3_6  |  69 |  935 | 0.07379679 |\n",
       "| Control | 2 | 2  | 2_2  |  53 |  735 | 0.07210884 |\n",
       "| Flt3l   | 2 | 5  | 2_5  | 103 | 1464 | 0.07035519 |\n",
       "| Control | 3 | 1  | 3_1  |  65 |  935 | 0.06951872 |\n",
       "| Control | 0 | 3  | 0_3  |  80 | 1156 | 0.06920415 |\n",
       "| Flt3l   | 1 | 0  | 1_0  | 153 | 2319 | 0.06597671 |\n",
       "| Flt3l   | 2 | 3  | 2_3  |  96 | 1464 | 0.06557377 |\n",
       "| Flt3l   | 0 | 2  | 0_2  | 151 | 2360 | 0.06398305 |\n",
       "| Control | 2 | 8  | 2_8  |  47 |  735 | 0.06394558 |\n",
       "| ⋮ | ⋮ | ⋮ | ⋮ | ⋮ | ⋮ | ⋮ |\n",
       "| Control | 0 | 43 | 0_43 | 1 | 1156 | 0.0008650519 |\n",
       "| Control | 0 | 45 | 0_45 | 1 | 1156 | 0.0008650519 |\n",
       "| Control | 0 | 46 | 0_46 | 1 | 1156 | 0.0008650519 |\n",
       "| Control | 0 | 47 | 0_47 | 1 | 1156 | 0.0008650519 |\n",
       "| Control | 0 | 48 | 0_48 | 1 | 1156 | 0.0008650519 |\n",
       "| Control | 0 | 50 | 0_50 | 1 | 1156 | 0.0008650519 |\n",
       "| Control | 0 | 55 | 0_55 | 1 | 1156 | 0.0008650519 |\n",
       "| Control | 0 | 56 | 0_56 | 1 | 1156 | 0.0008650519 |\n",
       "| Flt3l   | 0 | 40 | 0_40 | 2 | 2360 | 0.0008474576 |\n",
       "| Flt3l   | 0 | 42 | 0_42 | 2 | 2360 | 0.0008474576 |\n",
       "| Flt3l   | 0 | 47 | 0_47 | 2 | 2360 | 0.0008474576 |\n",
       "| Flt3l   | 0 | 59 | 0_59 | 2 | 2360 | 0.0008474576 |\n",
       "| Flt3l   | 2 | 29 | 2_29 | 1 | 1464 | 0.0006830601 |\n",
       "| Flt3l   | 2 | 32 | 2_32 | 1 | 1464 | 0.0006830601 |\n",
       "| Flt3l   | 2 | 33 | 2_33 | 1 | 1464 | 0.0006830601 |\n",
       "| Flt3l   | 2 | 36 | 2_36 | 1 | 1464 | 0.0006830601 |\n",
       "| Flt3l   | 2 | 37 | 2_37 | 1 | 1464 | 0.0006830601 |\n",
       "| Flt3l   | 3 | 35 | 3_35 | 1 | 1877 | 0.0005327651 |\n",
       "| Flt3l   | 1 | 34 | 1_34 | 1 | 2319 | 0.0004312204 |\n",
       "| Flt3l   | 1 | 35 | 1_35 | 1 | 2319 | 0.0004312204 |\n",
       "| Flt3l   | 0 | 39 | 0_39 | 1 | 2360 | 0.0004237288 |\n",
       "| Flt3l   | 0 | 43 | 0_43 | 1 | 2360 | 0.0004237288 |\n",
       "| Flt3l   | 0 | 44 | 0_44 | 1 | 2360 | 0.0004237288 |\n",
       "| Flt3l   | 0 | 49 | 0_49 | 1 | 2360 | 0.0004237288 |\n",
       "| Flt3l   | 0 | 50 | 0_50 | 1 | 2360 | 0.0004237288 |\n",
       "| Flt3l   | 0 | 51 | 0_51 | 1 | 2360 | 0.0004237288 |\n",
       "| Flt3l   | 0 | 54 | 0_54 | 1 | 2360 | 0.0004237288 |\n",
       "| Flt3l   | 0 | 55 | 0_55 | 1 | 2360 | 0.0004237288 |\n",
       "| Flt3l   | 0 | 56 | 0_56 | 1 | 2360 | 0.0004237288 |\n",
       "| Flt3l   | 0 | 58 | 0_58 | 1 | 2360 | 0.0004237288 |\n",
       "\n"
      ],
      "text/plain": [
       "    condition donor lineage name size total norm        \n",
       "1   Control   3     36      3_36 178   935  0.19037433  \n",
       "2   Flt3l     3     0       3_0  348  1877  0.18540224  \n",
       "3   Flt3l     3     1       3_1  341  1877  0.18167288  \n",
       "4   Flt3l     2     0       2_0  258  1464  0.17622951  \n",
       "5   Control   3     2       3_2  132   935  0.14117647  \n",
       "6   Control   3     0       3_0  126   935  0.13475936  \n",
       "7   Flt3l     0     0       0_0  298  2360  0.12627119  \n",
       "8   Flt3l     2     1       2_1  158  1464  0.10792350  \n",
       "9   Control   0     52      0_52 123  1156  0.10640138  \n",
       "10  Control   2     1       2_1   72   735  0.09795918  \n",
       "11  Flt3l     0     1       0_1  230  2360  0.09745763  \n",
       "12  Flt3l     3     2       3_2  176  1877  0.09376665  \n",
       "13  Flt3l     2     2       2_2  135  1464  0.09221311  \n",
       "14  Control   3     3       3_3   85   935  0.09090909  \n",
       "15  Control   0     2       0_2  104  1156  0.08996540  \n",
       "16  Control   2     6       2_6   63   735  0.08571429  \n",
       "17  Control   0     4       0_4   99  1156  0.08564014  \n",
       "18  Control   2     0       2_0   60   735  0.08163265  \n",
       "19  Control   1     0       1_0   67   845  0.07928994  \n",
       "20  Control   2     3       2_3   58   735  0.07891156  \n",
       "21  Control   0     11      0_11  88  1156  0.07612457  \n",
       "22  Control   3     6       3_6   69   935  0.07379679  \n",
       "23  Control   2     2       2_2   53   735  0.07210884  \n",
       "24  Flt3l     2     5       2_5  103  1464  0.07035519  \n",
       "25  Control   3     1       3_1   65   935  0.06951872  \n",
       "26  Control   0     3       0_3   80  1156  0.06920415  \n",
       "27  Flt3l     1     0       1_0  153  2319  0.06597671  \n",
       "28  Flt3l     2     3       2_3   96  1464  0.06557377  \n",
       "29  Flt3l     0     2       0_2  151  2360  0.06398305  \n",
       "30  Control   2     8       2_8   47   735  0.06394558  \n",
       "⋮   ⋮         ⋮     ⋮       ⋮    ⋮    ⋮     ⋮           \n",
       "304 Control   0     43      0_43 1    1156  0.0008650519\n",
       "305 Control   0     45      0_45 1    1156  0.0008650519\n",
       "306 Control   0     46      0_46 1    1156  0.0008650519\n",
       "307 Control   0     47      0_47 1    1156  0.0008650519\n",
       "308 Control   0     48      0_48 1    1156  0.0008650519\n",
       "309 Control   0     50      0_50 1    1156  0.0008650519\n",
       "310 Control   0     55      0_55 1    1156  0.0008650519\n",
       "311 Control   0     56      0_56 1    1156  0.0008650519\n",
       "312 Flt3l     0     40      0_40 2    2360  0.0008474576\n",
       "313 Flt3l     0     42      0_42 2    2360  0.0008474576\n",
       "314 Flt3l     0     47      0_47 2    2360  0.0008474576\n",
       "315 Flt3l     0     59      0_59 2    2360  0.0008474576\n",
       "316 Flt3l     2     29      2_29 1    1464  0.0006830601\n",
       "317 Flt3l     2     32      2_32 1    1464  0.0006830601\n",
       "318 Flt3l     2     33      2_33 1    1464  0.0006830601\n",
       "319 Flt3l     2     36      2_36 1    1464  0.0006830601\n",
       "320 Flt3l     2     37      2_37 1    1464  0.0006830601\n",
       "321 Flt3l     3     35      3_35 1    1877  0.0005327651\n",
       "322 Flt3l     1     34      1_34 1    2319  0.0004312204\n",
       "323 Flt3l     1     35      1_35 1    2319  0.0004312204\n",
       "324 Flt3l     0     39      0_39 1    2360  0.0004237288\n",
       "325 Flt3l     0     43      0_43 1    2360  0.0004237288\n",
       "326 Flt3l     0     44      0_44 1    2360  0.0004237288\n",
       "327 Flt3l     0     49      0_49 1    2360  0.0004237288\n",
       "328 Flt3l     0     50      0_50 1    2360  0.0004237288\n",
       "329 Flt3l     0     51      0_51 1    2360  0.0004237288\n",
       "330 Flt3l     0     54      0_54 1    2360  0.0004237288\n",
       "331 Flt3l     0     55      0_55 1    2360  0.0004237288\n",
       "332 Flt3l     0     56      0_56 1    2360  0.0004237288\n",
       "333 Flt3l     0     58      0_58 1    2360  0.0004237288"
      ]
     },
     "metadata": {},
     "output_type": "display_data"
    }
   ],
   "source": [
    "counts.norm.sizes = counts.norm[order(counts.norm[,\"norm\"], decreasing=T),]\n",
    "counts.norm.sizes"
   ]
  },
  {
   "cell_type": "code",
   "execution_count": 10,
   "id": "67b08dba",
   "metadata": {
    "execution": {
     "iopub.execute_input": "2021-12-03T16:07:21.285214Z",
     "iopub.status.busy": "2021-12-03T16:07:21.282704Z",
     "iopub.status.idle": "2021-12-03T16:07:21.396213Z",
     "shell.execute_reply": "2021-12-03T16:07:21.397059Z"
    },
    "papermill": {
     "duration": 0.211358,
     "end_time": "2021-12-03T16:07:21.397331",
     "exception": false,
     "start_time": "2021-12-03T16:07:21.185973",
     "status": "completed"
    },
    "scrolled": true,
    "tags": []
   },
   "outputs": [
    {
     "name": "stderr",
     "output_type": "stream",
     "text": [
      "`summarise()` has grouped output by 'donor'. You can override using the `.groups` argument.\n",
      "\n"
     ]
    },
    {
     "data": {
      "text/html": [
       "<table class=\"dataframe\">\n",
       "<caption>A grouped_df: 174 × 5</caption>\n",
       "<thead>\n",
       "\t<tr><th scope=col>donor</th><th scope=col>lineage</th><th scope=col>norm.total</th><th scope=col>total</th><th scope=col>name</th></tr>\n",
       "\t<tr><th scope=col>&lt;fct&gt;</th><th scope=col>&lt;fct&gt;</th><th scope=col>&lt;dbl&gt;</th><th scope=col>&lt;int&gt;</th><th scope=col>&lt;fct&gt;</th></tr>\n",
       "</thead>\n",
       "<tbody>\n",
       "\t<tr><td>3</td><td>0 </td><td>0.32016160</td><td>474</td><td>3_0 </td></tr>\n",
       "\t<tr><td>2</td><td>0 </td><td>0.25786216</td><td>318</td><td>2_0 </td></tr>\n",
       "\t<tr><td>3</td><td>1 </td><td>0.25119160</td><td>406</td><td>3_1 </td></tr>\n",
       "\t<tr><td>3</td><td>36</td><td>0.24311807</td><td>277</td><td>3_36</td></tr>\n",
       "\t<tr><td>3</td><td>2 </td><td>0.23494312</td><td>308</td><td>3_2 </td></tr>\n",
       "\t<tr><td>2</td><td>1 </td><td>0.20588268</td><td>230</td><td>2_1 </td></tr>\n",
       "\t<tr><td>0</td><td>0 </td><td>0.17990440</td><td>360</td><td>0_0 </td></tr>\n",
       "\t<tr><td>2</td><td>2 </td><td>0.16432196</td><td>188</td><td>2_2 </td></tr>\n",
       "\t<tr><td>0</td><td>2 </td><td>0.15394845</td><td>255</td><td>0_2 </td></tr>\n",
       "\t<tr><td>1</td><td>0 </td><td>0.14526665</td><td>220</td><td>1_0 </td></tr>\n",
       "\t<tr><td>3</td><td>3 </td><td>0.14525113</td><td>187</td><td>3_3 </td></tr>\n",
       "\t<tr><td>2</td><td>3 </td><td>0.14448534</td><td>154</td><td>2_3 </td></tr>\n",
       "\t<tr><td>0</td><td>4 </td><td>0.13733505</td><td>221</td><td>0_4 </td></tr>\n",
       "\t<tr><td>0</td><td>1 </td><td>0.13725001</td><td>276</td><td>0_1 </td></tr>\n",
       "\t<tr><td>0</td><td>52</td><td>0.13182511</td><td>183</td><td>0_52</td></tr>\n",
       "\t<tr><td>0</td><td>3 </td><td>0.12894991</td><td>221</td><td>0_3 </td></tr>\n",
       "\t<tr><td>2</td><td>6 </td><td>0.11645199</td><td>108</td><td>2_6 </td></tr>\n",
       "\t<tr><td>1</td><td>1 </td><td>0.11478933</td><td>172</td><td>1_1 </td></tr>\n",
       "\t<tr><td>3</td><td>6 </td><td>0.11428694</td><td>145</td><td>3_6 </td></tr>\n",
       "\t<tr><td>2</td><td>4 </td><td>0.11109903</td><td>120</td><td>2_4 </td></tr>\n",
       "\t<tr><td>2</td><td>5 </td><td>0.10981097</td><td>132</td><td>2_5 </td></tr>\n",
       "\t<tr><td>2</td><td>7 </td><td>0.10838352</td><td>119</td><td>2_7 </td></tr>\n",
       "\t<tr><td>1</td><td>2 </td><td>0.10036769</td><td>156</td><td>1_2 </td></tr>\n",
       "\t<tr><td>0</td><td>11</td><td>0.09858219</td><td>141</td><td>0_11</td></tr>\n",
       "\t<tr><td>1</td><td>5 </td><td>0.09456075</td><td>153</td><td>1_5 </td></tr>\n",
       "\t<tr><td>1</td><td>10</td><td>0.09365953</td><td>123</td><td>1_10</td></tr>\n",
       "\t<tr><td>0</td><td>6 </td><td>0.09318075</td><td>147</td><td>0_6 </td></tr>\n",
       "\t<tr><td>1</td><td>3 </td><td>0.09219389</td><td>151</td><td>1_3 </td></tr>\n",
       "\t<tr><td>1</td><td>6 </td><td>0.08973619</td><td>161</td><td>1_6 </td></tr>\n",
       "\t<tr><td>3</td><td>5 </td><td>0.08966008</td><td>129</td><td>3_5 </td></tr>\n",
       "\t<tr><td>⋮</td><td>⋮</td><td>⋮</td><td>⋮</td><td>⋮</td></tr>\n",
       "\t<tr><td>3</td><td>22</td><td>0.0032005789</td><td>5</td><td>3_22</td></tr>\n",
       "\t<tr><td>0</td><td>39</td><td>0.0030188845</td><td>4</td><td>0_39</td></tr>\n",
       "\t<tr><td>2</td><td>35</td><td>0.0027210884</td><td>2</td><td>2_35</td></tr>\n",
       "\t<tr><td>1</td><td>36</td><td>0.0023668639</td><td>2</td><td>1_36</td></tr>\n",
       "\t<tr><td>0</td><td>44</td><td>0.0021538326</td><td>3</td><td>0_44</td></tr>\n",
       "\t<tr><td>0</td><td>51</td><td>0.0021538326</td><td>3</td><td>0_51</td></tr>\n",
       "\t<tr><td>3</td><td>38</td><td>0.0021390374</td><td>2</td><td>3_38</td></tr>\n",
       "\t<tr><td>0</td><td>37</td><td>0.0021362383</td><td>4</td><td>0_37</td></tr>\n",
       "\t<tr><td>0</td><td>45</td><td>0.0021362383</td><td>4</td><td>0_45</td></tr>\n",
       "\t<tr><td>0</td><td>46</td><td>0.0021362383</td><td>4</td><td>0_46</td></tr>\n",
       "\t<tr><td>0</td><td>48</td><td>0.0021362383</td><td>4</td><td>0_48</td></tr>\n",
       "\t<tr><td>3</td><td>34</td><td>0.0021350488</td><td>3</td><td>3_34</td></tr>\n",
       "\t<tr><td>3</td><td>27</td><td>0.0021310602</td><td>4</td><td>3_27</td></tr>\n",
       "\t<tr><td>3</td><td>28</td><td>0.0021310602</td><td>4</td><td>3_28</td></tr>\n",
       "\t<tr><td>2</td><td>36</td><td>0.0020436043</td><td>2</td><td>2_36</td></tr>\n",
       "\t<tr><td>0</td><td>47</td><td>0.0017125095</td><td>3</td><td>0_47</td></tr>\n",
       "\t<tr><td>1</td><td>35</td><td>0.0016146523</td><td>2</td><td>1_35</td></tr>\n",
       "\t<tr><td>2</td><td>31</td><td>0.0013661202</td><td>2</td><td>2_31</td></tr>\n",
       "\t<tr><td>2</td><td>38</td><td>0.0013605442</td><td>1</td><td>2_38</td></tr>\n",
       "\t<tr><td>0</td><td>43</td><td>0.0012887807</td><td>2</td><td>0_43</td></tr>\n",
       "\t<tr><td>0</td><td>50</td><td>0.0012887807</td><td>2</td><td>0_50</td></tr>\n",
       "\t<tr><td>0</td><td>55</td><td>0.0012887807</td><td>2</td><td>0_55</td></tr>\n",
       "\t<tr><td>0</td><td>56</td><td>0.0012887807</td><td>2</td><td>0_56</td></tr>\n",
       "\t<tr><td>3</td><td>30</td><td>0.0010655301</td><td>2</td><td>3_30</td></tr>\n",
       "\t<tr><td>2</td><td>37</td><td>0.0006830601</td><td>1</td><td>2_37</td></tr>\n",
       "\t<tr><td>3</td><td>35</td><td>0.0005327651</td><td>1</td><td>3_35</td></tr>\n",
       "\t<tr><td>1</td><td>34</td><td>0.0004312204</td><td>1</td><td>1_34</td></tr>\n",
       "\t<tr><td>0</td><td>49</td><td>0.0004237288</td><td>1</td><td>0_49</td></tr>\n",
       "\t<tr><td>0</td><td>54</td><td>0.0004237288</td><td>1</td><td>0_54</td></tr>\n",
       "\t<tr><td>0</td><td>58</td><td>0.0004237288</td><td>1</td><td>0_58</td></tr>\n",
       "</tbody>\n",
       "</table>\n"
      ],
      "text/latex": [
       "A grouped\\_df: 174 × 5\n",
       "\\begin{tabular}{lllll}\n",
       " donor & lineage & norm.total & total & name\\\\\n",
       " <fct> & <fct> & <dbl> & <int> & <fct>\\\\\n",
       "\\hline\n",
       "\t 3 & 0  & 0.32016160 & 474 & 3\\_0 \\\\\n",
       "\t 2 & 0  & 0.25786216 & 318 & 2\\_0 \\\\\n",
       "\t 3 & 1  & 0.25119160 & 406 & 3\\_1 \\\\\n",
       "\t 3 & 36 & 0.24311807 & 277 & 3\\_36\\\\\n",
       "\t 3 & 2  & 0.23494312 & 308 & 3\\_2 \\\\\n",
       "\t 2 & 1  & 0.20588268 & 230 & 2\\_1 \\\\\n",
       "\t 0 & 0  & 0.17990440 & 360 & 0\\_0 \\\\\n",
       "\t 2 & 2  & 0.16432196 & 188 & 2\\_2 \\\\\n",
       "\t 0 & 2  & 0.15394845 & 255 & 0\\_2 \\\\\n",
       "\t 1 & 0  & 0.14526665 & 220 & 1\\_0 \\\\\n",
       "\t 3 & 3  & 0.14525113 & 187 & 3\\_3 \\\\\n",
       "\t 2 & 3  & 0.14448534 & 154 & 2\\_3 \\\\\n",
       "\t 0 & 4  & 0.13733505 & 221 & 0\\_4 \\\\\n",
       "\t 0 & 1  & 0.13725001 & 276 & 0\\_1 \\\\\n",
       "\t 0 & 52 & 0.13182511 & 183 & 0\\_52\\\\\n",
       "\t 0 & 3  & 0.12894991 & 221 & 0\\_3 \\\\\n",
       "\t 2 & 6  & 0.11645199 & 108 & 2\\_6 \\\\\n",
       "\t 1 & 1  & 0.11478933 & 172 & 1\\_1 \\\\\n",
       "\t 3 & 6  & 0.11428694 & 145 & 3\\_6 \\\\\n",
       "\t 2 & 4  & 0.11109903 & 120 & 2\\_4 \\\\\n",
       "\t 2 & 5  & 0.10981097 & 132 & 2\\_5 \\\\\n",
       "\t 2 & 7  & 0.10838352 & 119 & 2\\_7 \\\\\n",
       "\t 1 & 2  & 0.10036769 & 156 & 1\\_2 \\\\\n",
       "\t 0 & 11 & 0.09858219 & 141 & 0\\_11\\\\\n",
       "\t 1 & 5  & 0.09456075 & 153 & 1\\_5 \\\\\n",
       "\t 1 & 10 & 0.09365953 & 123 & 1\\_10\\\\\n",
       "\t 0 & 6  & 0.09318075 & 147 & 0\\_6 \\\\\n",
       "\t 1 & 3  & 0.09219389 & 151 & 1\\_3 \\\\\n",
       "\t 1 & 6  & 0.08973619 & 161 & 1\\_6 \\\\\n",
       "\t 3 & 5  & 0.08966008 & 129 & 3\\_5 \\\\\n",
       "\t ⋮ & ⋮ & ⋮ & ⋮ & ⋮\\\\\n",
       "\t 3 & 22 & 0.0032005789 & 5 & 3\\_22\\\\\n",
       "\t 0 & 39 & 0.0030188845 & 4 & 0\\_39\\\\\n",
       "\t 2 & 35 & 0.0027210884 & 2 & 2\\_35\\\\\n",
       "\t 1 & 36 & 0.0023668639 & 2 & 1\\_36\\\\\n",
       "\t 0 & 44 & 0.0021538326 & 3 & 0\\_44\\\\\n",
       "\t 0 & 51 & 0.0021538326 & 3 & 0\\_51\\\\\n",
       "\t 3 & 38 & 0.0021390374 & 2 & 3\\_38\\\\\n",
       "\t 0 & 37 & 0.0021362383 & 4 & 0\\_37\\\\\n",
       "\t 0 & 45 & 0.0021362383 & 4 & 0\\_45\\\\\n",
       "\t 0 & 46 & 0.0021362383 & 4 & 0\\_46\\\\\n",
       "\t 0 & 48 & 0.0021362383 & 4 & 0\\_48\\\\\n",
       "\t 3 & 34 & 0.0021350488 & 3 & 3\\_34\\\\\n",
       "\t 3 & 27 & 0.0021310602 & 4 & 3\\_27\\\\\n",
       "\t 3 & 28 & 0.0021310602 & 4 & 3\\_28\\\\\n",
       "\t 2 & 36 & 0.0020436043 & 2 & 2\\_36\\\\\n",
       "\t 0 & 47 & 0.0017125095 & 3 & 0\\_47\\\\\n",
       "\t 1 & 35 & 0.0016146523 & 2 & 1\\_35\\\\\n",
       "\t 2 & 31 & 0.0013661202 & 2 & 2\\_31\\\\\n",
       "\t 2 & 38 & 0.0013605442 & 1 & 2\\_38\\\\\n",
       "\t 0 & 43 & 0.0012887807 & 2 & 0\\_43\\\\\n",
       "\t 0 & 50 & 0.0012887807 & 2 & 0\\_50\\\\\n",
       "\t 0 & 55 & 0.0012887807 & 2 & 0\\_55\\\\\n",
       "\t 0 & 56 & 0.0012887807 & 2 & 0\\_56\\\\\n",
       "\t 3 & 30 & 0.0010655301 & 2 & 3\\_30\\\\\n",
       "\t 2 & 37 & 0.0006830601 & 1 & 2\\_37\\\\\n",
       "\t 3 & 35 & 0.0005327651 & 1 & 3\\_35\\\\\n",
       "\t 1 & 34 & 0.0004312204 & 1 & 1\\_34\\\\\n",
       "\t 0 & 49 & 0.0004237288 & 1 & 0\\_49\\\\\n",
       "\t 0 & 54 & 0.0004237288 & 1 & 0\\_54\\\\\n",
       "\t 0 & 58 & 0.0004237288 & 1 & 0\\_58\\\\\n",
       "\\end{tabular}\n"
      ],
      "text/markdown": [
       "\n",
       "A grouped_df: 174 × 5\n",
       "\n",
       "| donor &lt;fct&gt; | lineage &lt;fct&gt; | norm.total &lt;dbl&gt; | total &lt;int&gt; | name &lt;fct&gt; |\n",
       "|---|---|---|---|---|\n",
       "| 3 | 0  | 0.32016160 | 474 | 3_0  |\n",
       "| 2 | 0  | 0.25786216 | 318 | 2_0  |\n",
       "| 3 | 1  | 0.25119160 | 406 | 3_1  |\n",
       "| 3 | 36 | 0.24311807 | 277 | 3_36 |\n",
       "| 3 | 2  | 0.23494312 | 308 | 3_2  |\n",
       "| 2 | 1  | 0.20588268 | 230 | 2_1  |\n",
       "| 0 | 0  | 0.17990440 | 360 | 0_0  |\n",
       "| 2 | 2  | 0.16432196 | 188 | 2_2  |\n",
       "| 0 | 2  | 0.15394845 | 255 | 0_2  |\n",
       "| 1 | 0  | 0.14526665 | 220 | 1_0  |\n",
       "| 3 | 3  | 0.14525113 | 187 | 3_3  |\n",
       "| 2 | 3  | 0.14448534 | 154 | 2_3  |\n",
       "| 0 | 4  | 0.13733505 | 221 | 0_4  |\n",
       "| 0 | 1  | 0.13725001 | 276 | 0_1  |\n",
       "| 0 | 52 | 0.13182511 | 183 | 0_52 |\n",
       "| 0 | 3  | 0.12894991 | 221 | 0_3  |\n",
       "| 2 | 6  | 0.11645199 | 108 | 2_6  |\n",
       "| 1 | 1  | 0.11478933 | 172 | 1_1  |\n",
       "| 3 | 6  | 0.11428694 | 145 | 3_6  |\n",
       "| 2 | 4  | 0.11109903 | 120 | 2_4  |\n",
       "| 2 | 5  | 0.10981097 | 132 | 2_5  |\n",
       "| 2 | 7  | 0.10838352 | 119 | 2_7  |\n",
       "| 1 | 2  | 0.10036769 | 156 | 1_2  |\n",
       "| 0 | 11 | 0.09858219 | 141 | 0_11 |\n",
       "| 1 | 5  | 0.09456075 | 153 | 1_5  |\n",
       "| 1 | 10 | 0.09365953 | 123 | 1_10 |\n",
       "| 0 | 6  | 0.09318075 | 147 | 0_6  |\n",
       "| 1 | 3  | 0.09219389 | 151 | 1_3  |\n",
       "| 1 | 6  | 0.08973619 | 161 | 1_6  |\n",
       "| 3 | 5  | 0.08966008 | 129 | 3_5  |\n",
       "| ⋮ | ⋮ | ⋮ | ⋮ | ⋮ |\n",
       "| 3 | 22 | 0.0032005789 | 5 | 3_22 |\n",
       "| 0 | 39 | 0.0030188845 | 4 | 0_39 |\n",
       "| 2 | 35 | 0.0027210884 | 2 | 2_35 |\n",
       "| 1 | 36 | 0.0023668639 | 2 | 1_36 |\n",
       "| 0 | 44 | 0.0021538326 | 3 | 0_44 |\n",
       "| 0 | 51 | 0.0021538326 | 3 | 0_51 |\n",
       "| 3 | 38 | 0.0021390374 | 2 | 3_38 |\n",
       "| 0 | 37 | 0.0021362383 | 4 | 0_37 |\n",
       "| 0 | 45 | 0.0021362383 | 4 | 0_45 |\n",
       "| 0 | 46 | 0.0021362383 | 4 | 0_46 |\n",
       "| 0 | 48 | 0.0021362383 | 4 | 0_48 |\n",
       "| 3 | 34 | 0.0021350488 | 3 | 3_34 |\n",
       "| 3 | 27 | 0.0021310602 | 4 | 3_27 |\n",
       "| 3 | 28 | 0.0021310602 | 4 | 3_28 |\n",
       "| 2 | 36 | 0.0020436043 | 2 | 2_36 |\n",
       "| 0 | 47 | 0.0017125095 | 3 | 0_47 |\n",
       "| 1 | 35 | 0.0016146523 | 2 | 1_35 |\n",
       "| 2 | 31 | 0.0013661202 | 2 | 2_31 |\n",
       "| 2 | 38 | 0.0013605442 | 1 | 2_38 |\n",
       "| 0 | 43 | 0.0012887807 | 2 | 0_43 |\n",
       "| 0 | 50 | 0.0012887807 | 2 | 0_50 |\n",
       "| 0 | 55 | 0.0012887807 | 2 | 0_55 |\n",
       "| 0 | 56 | 0.0012887807 | 2 | 0_56 |\n",
       "| 3 | 30 | 0.0010655301 | 2 | 3_30 |\n",
       "| 2 | 37 | 0.0006830601 | 1 | 2_37 |\n",
       "| 3 | 35 | 0.0005327651 | 1 | 3_35 |\n",
       "| 1 | 34 | 0.0004312204 | 1 | 1_34 |\n",
       "| 0 | 49 | 0.0004237288 | 1 | 0_49 |\n",
       "| 0 | 54 | 0.0004237288 | 1 | 0_54 |\n",
       "| 0 | 58 | 0.0004237288 | 1 | 0_58 |\n",
       "\n"
      ],
      "text/plain": [
       "    donor lineage norm.total   total name\n",
       "1   3     0       0.32016160   474   3_0 \n",
       "2   2     0       0.25786216   318   2_0 \n",
       "3   3     1       0.25119160   406   3_1 \n",
       "4   3     36      0.24311807   277   3_36\n",
       "5   3     2       0.23494312   308   3_2 \n",
       "6   2     1       0.20588268   230   2_1 \n",
       "7   0     0       0.17990440   360   0_0 \n",
       "8   2     2       0.16432196   188   2_2 \n",
       "9   0     2       0.15394845   255   0_2 \n",
       "10  1     0       0.14526665   220   1_0 \n",
       "11  3     3       0.14525113   187   3_3 \n",
       "12  2     3       0.14448534   154   2_3 \n",
       "13  0     4       0.13733505   221   0_4 \n",
       "14  0     1       0.13725001   276   0_1 \n",
       "15  0     52      0.13182511   183   0_52\n",
       "16  0     3       0.12894991   221   0_3 \n",
       "17  2     6       0.11645199   108   2_6 \n",
       "18  1     1       0.11478933   172   1_1 \n",
       "19  3     6       0.11428694   145   3_6 \n",
       "20  2     4       0.11109903   120   2_4 \n",
       "21  2     5       0.10981097   132   2_5 \n",
       "22  2     7       0.10838352   119   2_7 \n",
       "23  1     2       0.10036769   156   1_2 \n",
       "24  0     11      0.09858219   141   0_11\n",
       "25  1     5       0.09456075   153   1_5 \n",
       "26  1     10      0.09365953   123   1_10\n",
       "27  0     6       0.09318075   147   0_6 \n",
       "28  1     3       0.09219389   151   1_3 \n",
       "29  1     6       0.08973619   161   1_6 \n",
       "30  3     5       0.08966008   129   3_5 \n",
       "⋮   ⋮     ⋮       ⋮            ⋮     ⋮   \n",
       "145 3     22      0.0032005789 5     3_22\n",
       "146 0     39      0.0030188845 4     0_39\n",
       "147 2     35      0.0027210884 2     2_35\n",
       "148 1     36      0.0023668639 2     1_36\n",
       "149 0     44      0.0021538326 3     0_44\n",
       "150 0     51      0.0021538326 3     0_51\n",
       "151 3     38      0.0021390374 2     3_38\n",
       "152 0     37      0.0021362383 4     0_37\n",
       "153 0     45      0.0021362383 4     0_45\n",
       "154 0     46      0.0021362383 4     0_46\n",
       "155 0     48      0.0021362383 4     0_48\n",
       "156 3     34      0.0021350488 3     3_34\n",
       "157 3     27      0.0021310602 4     3_27\n",
       "158 3     28      0.0021310602 4     3_28\n",
       "159 2     36      0.0020436043 2     2_36\n",
       "160 0     47      0.0017125095 3     0_47\n",
       "161 1     35      0.0016146523 2     1_35\n",
       "162 2     31      0.0013661202 2     2_31\n",
       "163 2     38      0.0013605442 1     2_38\n",
       "164 0     43      0.0012887807 2     0_43\n",
       "165 0     50      0.0012887807 2     0_50\n",
       "166 0     55      0.0012887807 2     0_55\n",
       "167 0     56      0.0012887807 2     0_56\n",
       "168 3     30      0.0010655301 2     3_30\n",
       "169 2     37      0.0006830601 1     2_37\n",
       "170 3     35      0.0005327651 1     3_35\n",
       "171 1     34      0.0004312204 1     1_34\n",
       "172 0     49      0.0004237288 1     0_49\n",
       "173 0     54      0.0004237288 1     0_54\n",
       "174 0     58      0.0004237288 1     0_58"
      ]
     },
     "metadata": {},
     "output_type": "display_data"
    }
   ],
   "source": [
    "clone.sizes <- counts.norm.sizes %>% \n",
    "               group_by(donor,lineage) %>% \n",
    "               summarize(norm.total=sum(norm), total=sum(size)) %>% \n",
    "               arrange(desc(norm.total)) %>% \n",
    "               mutate(name=factor(paste0(donor,\"_\", lineage)))\n",
    "\n",
    "\n",
    "clone.sizes"
   ]
  },
  {
   "cell_type": "code",
   "execution_count": 11,
   "id": "c5259eb4",
   "metadata": {
    "execution": {
     "iopub.execute_input": "2021-12-03T16:07:21.627243Z",
     "iopub.status.busy": "2021-12-03T16:07:21.623948Z",
     "iopub.status.idle": "2021-12-03T16:07:21.653711Z",
     "shell.execute_reply": "2021-12-03T16:07:21.652613Z"
    },
    "papermill": {
     "duration": 0.140149,
     "end_time": "2021-12-03T16:07:21.653939",
     "exception": false,
     "start_time": "2021-12-03T16:07:21.513790",
     "status": "completed"
    },
    "scrolled": true,
    "tags": []
   },
   "outputs": [],
   "source": [
    "clone.sizes <- clone.sizes %>% group_by(donor) %>% arrange(donor, desc(norm.total)) %>% \n",
    "                               mutate(cdf.norm=cumsum(norm.total)/2, cdf =cumsum(total),\n",
    "                                      index=1:n()) %>% \n",
    "                               ungroup %>% arrange(donor, desc(norm.total)) \n",
    "#head(clone.sizes,100)"
   ]
  },
  {
   "cell_type": "code",
   "execution_count": null,
   "id": "2817d47e",
   "metadata": {
    "papermill": {
     "duration": 0.091287,
     "end_time": "2021-12-03T16:07:21.840500",
     "exception": false,
     "start_time": "2021-12-03T16:07:21.749213",
     "status": "completed"
    },
    "tags": []
   },
   "outputs": [],
   "source": []
  },
  {
   "cell_type": "code",
   "execution_count": 12,
   "id": "fde9c568",
   "metadata": {
    "execution": {
     "iopub.execute_input": "2021-12-03T16:07:22.031087Z",
     "iopub.status.busy": "2021-12-03T16:07:22.027811Z",
     "iopub.status.idle": "2021-12-03T16:07:23.102078Z",
     "shell.execute_reply": "2021-12-03T16:07:23.102982Z"
    },
    "papermill": {
     "duration": 1.172643,
     "end_time": "2021-12-03T16:07:23.103270",
     "exception": false,
     "start_time": "2021-12-03T16:07:21.930627",
     "status": "completed"
    },
    "scrolled": true,
    "tags": []
   },
   "outputs": [
    {
     "name": "stderr",
     "output_type": "stream",
     "text": [
      "Saving 6.67 x 6.67 in image\n",
      "\n"
     ]
    },
    {
     "data": {
      "image/png": "[encoded data removed]",
      "text/plain": [
       "plot without title"
      ]
     },
     "metadata": {
      "image/png": {
       "height": 420,
       "width": 420
      }
     },
     "output_type": "display_data"
    }
   ],
   "source": [
    "p <- ggplot(data = clone.sizes, aes(index, cdf.norm)) +\n",
    "  geom_point(color = \"steelblue\", size = 1) +\n",
    "  facet_wrap(~ donor) \n",
    "\n",
    "p <- p + geom_hline(yintercept=cdf_thresh, color='green') \n",
    "ggsave(file.path(outdir, \"clones.cdf.png\"))\n",
    "p\n"
   ]
  },
  {
   "cell_type": "code",
   "execution_count": 13,
   "id": "10e0018a",
   "metadata": {
    "execution": {
     "iopub.execute_input": "2021-12-03T16:07:23.306313Z",
     "iopub.status.busy": "2021-12-03T16:07:23.303220Z",
     "iopub.status.idle": "2021-12-03T16:07:23.327554Z",
     "shell.execute_reply": "2021-12-03T16:07:23.326017Z"
    },
    "papermill": {
     "duration": 0.126685,
     "end_time": "2021-12-03T16:07:23.327719",
     "exception": false,
     "start_time": "2021-12-03T16:07:23.201034",
     "status": "completed"
    },
    "tags": []
   },
   "outputs": [
    {
     "data": {
      "text/html": [
       "0.072633327464654"
      ],
      "text/latex": [
       "0.072633327464654"
      ],
      "text/markdown": [
       "0.072633327464654"
      ],
      "text/plain": [
       "[1] 0.07263333"
      ]
     },
     "metadata": {},
     "output_type": "display_data"
    },
    {
     "data": {
      "text/html": [
       "1"
      ],
      "text/latex": [
       "1"
      ],
      "text/markdown": [
       "1"
      ],
      "text/plain": [
       "[1] 1"
      ]
     },
     "metadata": {},
     "output_type": "display_data"
    }
   ],
   "source": [
    "min(clone.sizes$cdf.norm)\n",
    "max(clone.sizes$cdf.norm)"
   ]
  },
  {
   "cell_type": "code",
   "execution_count": 14,
   "id": "d172f01e",
   "metadata": {
    "execution": {
     "iopub.execute_input": "2021-12-03T16:07:23.540864Z",
     "iopub.status.busy": "2021-12-03T16:07:23.538252Z",
     "iopub.status.idle": "2021-12-03T16:07:23.628911Z",
     "shell.execute_reply": "2021-12-03T16:07:23.629856Z"
    },
    "papermill": {
     "duration": 0.200659,
     "end_time": "2021-12-03T16:07:23.630231",
     "exception": false,
     "start_time": "2021-12-03T16:07:23.429572",
     "status": "completed"
    },
    "scrolled": true,
    "tags": []
   },
   "outputs": [
    {
     "data": {
      "text/html": [
       "<table class=\"dataframe\">\n",
       "<caption>A tibble: 174 × 8</caption>\n",
       "<thead>\n",
       "\t<tr><th scope=col>donor</th><th scope=col>lineage</th><th scope=col>norm.total</th><th scope=col>total</th><th scope=col>name</th><th scope=col>cdf.norm</th><th scope=col>cdf</th><th scope=col>index</th></tr>\n",
       "\t<tr><th scope=col>&lt;fct&gt;</th><th scope=col>&lt;fct&gt;</th><th scope=col>&lt;dbl&gt;</th><th scope=col>&lt;int&gt;</th><th scope=col>&lt;fct&gt;</th><th scope=col>&lt;dbl&gt;</th><th scope=col>&lt;int&gt;</th><th scope=col>&lt;int&gt;</th></tr>\n",
       "</thead>\n",
       "<tbody>\n",
       "\t<tr><td>0</td><td>0 </td><td>0.17990440</td><td>360</td><td>0_0 </td><td>0.0899522</td><td> 360</td><td> 1</td></tr>\n",
       "\t<tr><td>0</td><td>2 </td><td>0.15394845</td><td>255</td><td>0_2 </td><td>0.1669264</td><td> 615</td><td> 2</td></tr>\n",
       "\t<tr><td>0</td><td>4 </td><td>0.13733505</td><td>221</td><td>0_4 </td><td>0.2355940</td><td> 836</td><td> 3</td></tr>\n",
       "\t<tr><td>0</td><td>1 </td><td>0.13725001</td><td>276</td><td>0_1 </td><td>0.3042190</td><td>1112</td><td> 4</td></tr>\n",
       "\t<tr><td>0</td><td>52</td><td>0.13182511</td><td>183</td><td>0_52</td><td>0.3701315</td><td>1295</td><td> 5</td></tr>\n",
       "\t<tr><td>0</td><td>3 </td><td>0.12894991</td><td>221</td><td>0_3 </td><td>0.4346065</td><td>1516</td><td> 6</td></tr>\n",
       "\t<tr><td>0</td><td>11</td><td>0.09858219</td><td>141</td><td>0_11</td><td>0.4838976</td><td>1657</td><td> 7</td></tr>\n",
       "\t<tr><td>0</td><td>6 </td><td>0.09318075</td><td>147</td><td>0_6 </td><td>0.5304879</td><td>1804</td><td> 8</td></tr>\n",
       "\t<tr><td>0</td><td>7 </td><td>0.08903290</td><td>157</td><td>0_7 </td><td>0.5750044</td><td>1961</td><td> 9</td></tr>\n",
       "\t<tr><td>0</td><td>5 </td><td>0.08739224</td><td>175</td><td>0_5 </td><td>0.6187005</td><td>2136</td><td>10</td></tr>\n",
       "\t<tr><td>0</td><td>10</td><td>0.07768019</td><td>125</td><td>0_10</td><td>0.6575406</td><td>2261</td><td>11</td></tr>\n",
       "\t<tr><td>0</td><td>8 </td><td>0.07635769</td><td>150</td><td>0_8 </td><td>0.6957195</td><td>2411</td><td>12</td></tr>\n",
       "\t<tr><td>0</td><td>9 </td><td>0.07302064</td><td>139</td><td>0_9 </td><td>0.7322298</td><td>2550</td><td>13</td></tr>\n",
       "\t<tr><td>0</td><td>12</td><td>0.05580758</td><td>114</td><td>0_12</td><td>0.7601336</td><td>2664</td><td>14</td></tr>\n",
       "\t<tr><td>0</td><td>53</td><td>0.05291039</td><td> 78</td><td>0_53</td><td>0.7865888</td><td>2742</td><td>15</td></tr>\n",
       "\t<tr><td>0</td><td>13</td><td>0.04517917</td><td> 91</td><td>0_13</td><td>0.8091783</td><td>2833</td><td>16</td></tr>\n",
       "\t<tr><td>0</td><td>14</td><td>0.04311331</td><td> 83</td><td>0_14</td><td>0.8307350</td><td>2916</td><td>17</td></tr>\n",
       "\t<tr><td>0</td><td>15</td><td>0.03585713</td><td> 69</td><td>0_15</td><td>0.8486636</td><td>2985</td><td>18</td></tr>\n",
       "\t<tr><td>0</td><td>16</td><td>0.02987215</td><td> 58</td><td>0_16</td><td>0.8635996</td><td>3043</td><td>19</td></tr>\n",
       "\t<tr><td>0</td><td>31</td><td>0.02833558</td><td> 45</td><td>0_31</td><td>0.8777674</td><td>3088</td><td>20</td></tr>\n",
       "\t<tr><td>0</td><td>17</td><td>0.02307489</td><td> 43</td><td>0_17</td><td>0.8893049</td><td>3131</td><td>21</td></tr>\n",
       "\t<tr><td>0</td><td>22</td><td>0.01633042</td><td> 25</td><td>0_22</td><td>0.8974701</td><td>3156</td><td>22</td></tr>\n",
       "\t<tr><td>0</td><td>19</td><td>0.01585391</td><td> 27</td><td>0_19</td><td>0.9053970</td><td>3183</td><td>23</td></tr>\n",
       "\t<tr><td>0</td><td>18</td><td>0.01578353</td><td> 31</td><td>0_18</td><td>0.9132888</td><td>3214</td><td>24</td></tr>\n",
       "\t<tr><td>0</td><td>23</td><td>0.01414140</td><td> 24</td><td>0_23</td><td>0.9203595</td><td>3238</td><td>25</td></tr>\n",
       "\t<tr><td>0</td><td>20</td><td>0.01242889</td><td> 21</td><td>0_20</td><td>0.9265740</td><td>3259</td><td>26</td></tr>\n",
       "\t<tr><td>0</td><td>21</td><td>0.01237611</td><td> 24</td><td>0_21</td><td>0.9327620</td><td>3283</td><td>27</td></tr>\n",
       "\t<tr><td>0</td><td>24</td><td>0.01159903</td><td> 18</td><td>0_24</td><td>0.9385615</td><td>3301</td><td>28</td></tr>\n",
       "\t<tr><td>0</td><td>25</td><td>0.01023987</td><td> 20</td><td>0_25</td><td>0.9436815</td><td>3321</td><td>29</td></tr>\n",
       "\t<tr><td>0</td><td>41</td><td>0.00942760</td><td> 16</td><td>0_41</td><td>0.9483953</td><td>3337</td><td>30</td></tr>\n",
       "\t<tr><td>⋮</td><td>⋮</td><td>⋮</td><td>⋮</td><td>⋮</td><td>⋮</td><td>⋮</td><td>⋮</td></tr>\n",
       "\t<tr><td>3</td><td>9 </td><td>0.0533562774</td><td>80</td><td>3_9 </td><td>0.8046690</td><td>2250</td><td>10</td></tr>\n",
       "\t<tr><td>3</td><td>8 </td><td>0.0512012855</td><td>82</td><td>3_8 </td><td>0.8302696</td><td>2332</td><td>11</td></tr>\n",
       "\t<tr><td>3</td><td>10</td><td>0.0496069789</td><td>78</td><td>3_10</td><td>0.8550731</td><td>2410</td><td>12</td></tr>\n",
       "\t<tr><td>3</td><td>11</td><td>0.0432496959</td><td>57</td><td>3_11</td><td>0.8766979</td><td>2467</td><td>13</td></tr>\n",
       "\t<tr><td>3</td><td>13</td><td>0.0395083747</td><td>53</td><td>3_13</td><td>0.8964521</td><td>2520</td><td>14</td></tr>\n",
       "\t<tr><td>3</td><td>12</td><td>0.0373493942</td><td>56</td><td>3_12</td><td>0.9151268</td><td>2576</td><td>15</td></tr>\n",
       "\t<tr><td>3</td><td>14</td><td>0.0256245744</td><td>35</td><td>3_14</td><td>0.9279391</td><td>2611</td><td>16</td></tr>\n",
       "\t<tr><td>3</td><td>15</td><td>0.0149453417</td><td>21</td><td>3_15</td><td>0.9354118</td><td>2632</td><td>17</td></tr>\n",
       "\t<tr><td>3</td><td>16</td><td>0.0138798116</td><td>19</td><td>3_16</td><td>0.9423517</td><td>2651</td><td>18</td></tr>\n",
       "\t<tr><td>3</td><td>19</td><td>0.0133470466</td><td>18</td><td>3_19</td><td>0.9490252</td><td>2669</td><td>19</td></tr>\n",
       "\t<tr><td>3</td><td>18</td><td>0.0117367856</td><td>18</td><td>3_18</td><td>0.9548936</td><td>2687</td><td>20</td></tr>\n",
       "\t<tr><td>3</td><td>20</td><td>0.0106792327</td><td>14</td><td>3_20</td><td>0.9602332</td><td>2701</td><td>21</td></tr>\n",
       "\t<tr><td>3</td><td>17</td><td>0.0101345018</td><td>16</td><td>3_17</td><td>0.9653005</td><td>2717</td><td>22</td></tr>\n",
       "\t<tr><td>3</td><td>25</td><td>0.0090769489</td><td>12</td><td>3_25</td><td>0.9698389</td><td>2729</td><td>23</td></tr>\n",
       "\t<tr><td>3</td><td>33</td><td>0.0074786538</td><td> 9</td><td>3_33</td><td>0.9735783</td><td>2738</td><td>24</td></tr>\n",
       "\t<tr><td>3</td><td>24</td><td>0.0069379115</td><td>10</td><td>3_24</td><td>0.9770472</td><td>2748</td><td>25</td></tr>\n",
       "\t<tr><td>3</td><td>32</td><td>0.0058763700</td><td> 7</td><td>3_32</td><td>0.9799854</td><td>2755</td><td>26</td></tr>\n",
       "\t<tr><td>3</td><td>21</td><td>0.0058723814</td><td> 8</td><td>3_21</td><td>0.9829216</td><td>2763</td><td>27</td></tr>\n",
       "\t<tr><td>3</td><td>23</td><td>0.0048068513</td><td> 6</td><td>3_23</td><td>0.9853250</td><td>2769</td><td>28</td></tr>\n",
       "\t<tr><td>3</td><td>37</td><td>0.0042740863</td><td> 5</td><td>3_37</td><td>0.9874621</td><td>2774</td><td>29</td></tr>\n",
       "\t<tr><td>3</td><td>29</td><td>0.0042700976</td><td> 6</td><td>3_29</td><td>0.9895971</td><td>2780</td><td>30</td></tr>\n",
       "\t<tr><td>3</td><td>26</td><td>0.0042661090</td><td> 7</td><td>3_26</td><td>0.9917302</td><td>2787</td><td>31</td></tr>\n",
       "\t<tr><td>3</td><td>31</td><td>0.0032045675</td><td> 4</td><td>3_31</td><td>0.9933325</td><td>2791</td><td>32</td></tr>\n",
       "\t<tr><td>3</td><td>22</td><td>0.0032005789</td><td> 5</td><td>3_22</td><td>0.9949327</td><td>2796</td><td>33</td></tr>\n",
       "\t<tr><td>3</td><td>38</td><td>0.0021390374</td><td> 2</td><td>3_38</td><td>0.9960023</td><td>2798</td><td>34</td></tr>\n",
       "\t<tr><td>3</td><td>34</td><td>0.0021350488</td><td> 3</td><td>3_34</td><td>0.9970698</td><td>2801</td><td>35</td></tr>\n",
       "\t<tr><td>3</td><td>27</td><td>0.0021310602</td><td> 4</td><td>3_27</td><td>0.9981353</td><td>2805</td><td>36</td></tr>\n",
       "\t<tr><td>3</td><td>28</td><td>0.0021310602</td><td> 4</td><td>3_28</td><td>0.9992009</td><td>2809</td><td>37</td></tr>\n",
       "\t<tr><td>3</td><td>30</td><td>0.0010655301</td><td> 2</td><td>3_30</td><td>0.9997336</td><td>2811</td><td>38</td></tr>\n",
       "\t<tr><td>3</td><td>35</td><td>0.0005327651</td><td> 1</td><td>3_35</td><td>1.0000000</td><td>2812</td><td>39</td></tr>\n",
       "</tbody>\n",
       "</table>\n"
      ],
      "text/latex": [
       "A tibble: 174 × 8\n",
       "\\begin{tabular}{llllllll}\n",
       " donor & lineage & norm.total & total & name & cdf.norm & cdf & index\\\\\n",
       " <fct> & <fct> & <dbl> & <int> & <fct> & <dbl> & <int> & <int>\\\\\n",
       "\\hline\n",
       "\t 0 & 0  & 0.17990440 & 360 & 0\\_0  & 0.0899522 &  360 &  1\\\\\n",
       "\t 0 & 2  & 0.15394845 & 255 & 0\\_2  & 0.1669264 &  615 &  2\\\\\n",
       "\t 0 & 4  & 0.13733505 & 221 & 0\\_4  & 0.2355940 &  836 &  3\\\\\n",
       "\t 0 & 1  & 0.13725001 & 276 & 0\\_1  & 0.3042190 & 1112 &  4\\\\\n",
       "\t 0 & 52 & 0.13182511 & 183 & 0\\_52 & 0.3701315 & 1295 &  5\\\\\n",
       "\t 0 & 3  & 0.12894991 & 221 & 0\\_3  & 0.4346065 & 1516 &  6\\\\\n",
       "\t 0 & 11 & 0.09858219 & 141 & 0\\_11 & 0.4838976 & 1657 &  7\\\\\n",
       "\t 0 & 6  & 0.09318075 & 147 & 0\\_6  & 0.5304879 & 1804 &  8\\\\\n",
       "\t 0 & 7  & 0.08903290 & 157 & 0\\_7  & 0.5750044 & 1961 &  9\\\\\n",
       "\t 0 & 5  & 0.08739224 & 175 & 0\\_5  & 0.6187005 & 2136 & 10\\\\\n",
       "\t 0 & 10 & 0.07768019 & 125 & 0\\_10 & 0.6575406 & 2261 & 11\\\\\n",
       "\t 0 & 8  & 0.07635769 & 150 & 0\\_8  & 0.6957195 & 2411 & 12\\\\\n",
       "\t 0 & 9  & 0.07302064 & 139 & 0\\_9  & 0.7322298 & 2550 & 13\\\\\n",
       "\t 0 & 12 & 0.05580758 & 114 & 0\\_12 & 0.7601336 & 2664 & 14\\\\\n",
       "\t 0 & 53 & 0.05291039 &  78 & 0\\_53 & 0.7865888 & 2742 & 15\\\\\n",
       "\t 0 & 13 & 0.04517917 &  91 & 0\\_13 & 0.8091783 & 2833 & 16\\\\\n",
       "\t 0 & 14 & 0.04311331 &  83 & 0\\_14 & 0.8307350 & 2916 & 17\\\\\n",
       "\t 0 & 15 & 0.03585713 &  69 & 0\\_15 & 0.8486636 & 2985 & 18\\\\\n",
       "\t 0 & 16 & 0.02987215 &  58 & 0\\_16 & 0.8635996 & 3043 & 19\\\\\n",
       "\t 0 & 31 & 0.02833558 &  45 & 0\\_31 & 0.8777674 & 3088 & 20\\\\\n",
       "\t 0 & 17 & 0.02307489 &  43 & 0\\_17 & 0.8893049 & 3131 & 21\\\\\n",
       "\t 0 & 22 & 0.01633042 &  25 & 0\\_22 & 0.8974701 & 3156 & 22\\\\\n",
       "\t 0 & 19 & 0.01585391 &  27 & 0\\_19 & 0.9053970 & 3183 & 23\\\\\n",
       "\t 0 & 18 & 0.01578353 &  31 & 0\\_18 & 0.9132888 & 3214 & 24\\\\\n",
       "\t 0 & 23 & 0.01414140 &  24 & 0\\_23 & 0.9203595 & 3238 & 25\\\\\n",
       "\t 0 & 20 & 0.01242889 &  21 & 0\\_20 & 0.9265740 & 3259 & 26\\\\\n",
       "\t 0 & 21 & 0.01237611 &  24 & 0\\_21 & 0.9327620 & 3283 & 27\\\\\n",
       "\t 0 & 24 & 0.01159903 &  18 & 0\\_24 & 0.9385615 & 3301 & 28\\\\\n",
       "\t 0 & 25 & 0.01023987 &  20 & 0\\_25 & 0.9436815 & 3321 & 29\\\\\n",
       "\t 0 & 41 & 0.00942760 &  16 & 0\\_41 & 0.9483953 & 3337 & 30\\\\\n",
       "\t ⋮ & ⋮ & ⋮ & ⋮ & ⋮ & ⋮ & ⋮ & ⋮\\\\\n",
       "\t 3 & 9  & 0.0533562774 & 80 & 3\\_9  & 0.8046690 & 2250 & 10\\\\\n",
       "\t 3 & 8  & 0.0512012855 & 82 & 3\\_8  & 0.8302696 & 2332 & 11\\\\\n",
       "\t 3 & 10 & 0.0496069789 & 78 & 3\\_10 & 0.8550731 & 2410 & 12\\\\\n",
       "\t 3 & 11 & 0.0432496959 & 57 & 3\\_11 & 0.8766979 & 2467 & 13\\\\\n",
       "\t 3 & 13 & 0.0395083747 & 53 & 3\\_13 & 0.8964521 & 2520 & 14\\\\\n",
       "\t 3 & 12 & 0.0373493942 & 56 & 3\\_12 & 0.9151268 & 2576 & 15\\\\\n",
       "\t 3 & 14 & 0.0256245744 & 35 & 3\\_14 & 0.9279391 & 2611 & 16\\\\\n",
       "\t 3 & 15 & 0.0149453417 & 21 & 3\\_15 & 0.9354118 & 2632 & 17\\\\\n",
       "\t 3 & 16 & 0.0138798116 & 19 & 3\\_16 & 0.9423517 & 2651 & 18\\\\\n",
       "\t 3 & 19 & 0.0133470466 & 18 & 3\\_19 & 0.9490252 & 2669 & 19\\\\\n",
       "\t 3 & 18 & 0.0117367856 & 18 & 3\\_18 & 0.9548936 & 2687 & 20\\\\\n",
       "\t 3 & 20 & 0.0106792327 & 14 & 3\\_20 & 0.9602332 & 2701 & 21\\\\\n",
       "\t 3 & 17 & 0.0101345018 & 16 & 3\\_17 & 0.9653005 & 2717 & 22\\\\\n",
       "\t 3 & 25 & 0.0090769489 & 12 & 3\\_25 & 0.9698389 & 2729 & 23\\\\\n",
       "\t 3 & 33 & 0.0074786538 &  9 & 3\\_33 & 0.9735783 & 2738 & 24\\\\\n",
       "\t 3 & 24 & 0.0069379115 & 10 & 3\\_24 & 0.9770472 & 2748 & 25\\\\\n",
       "\t 3 & 32 & 0.0058763700 &  7 & 3\\_32 & 0.9799854 & 2755 & 26\\\\\n",
       "\t 3 & 21 & 0.0058723814 &  8 & 3\\_21 & 0.9829216 & 2763 & 27\\\\\n",
       "\t 3 & 23 & 0.0048068513 &  6 & 3\\_23 & 0.9853250 & 2769 & 28\\\\\n",
       "\t 3 & 37 & 0.0042740863 &  5 & 3\\_37 & 0.9874621 & 2774 & 29\\\\\n",
       "\t 3 & 29 & 0.0042700976 &  6 & 3\\_29 & 0.9895971 & 2780 & 30\\\\\n",
       "\t 3 & 26 & 0.0042661090 &  7 & 3\\_26 & 0.9917302 & 2787 & 31\\\\\n",
       "\t 3 & 31 & 0.0032045675 &  4 & 3\\_31 & 0.9933325 & 2791 & 32\\\\\n",
       "\t 3 & 22 & 0.0032005789 &  5 & 3\\_22 & 0.9949327 & 2796 & 33\\\\\n",
       "\t 3 & 38 & 0.0021390374 &  2 & 3\\_38 & 0.9960023 & 2798 & 34\\\\\n",
       "\t 3 & 34 & 0.0021350488 &  3 & 3\\_34 & 0.9970698 & 2801 & 35\\\\\n",
       "\t 3 & 27 & 0.0021310602 &  4 & 3\\_27 & 0.9981353 & 2805 & 36\\\\\n",
       "\t 3 & 28 & 0.0021310602 &  4 & 3\\_28 & 0.9992009 & 2809 & 37\\\\\n",
       "\t 3 & 30 & 0.0010655301 &  2 & 3\\_30 & 0.9997336 & 2811 & 38\\\\\n",
       "\t 3 & 35 & 0.0005327651 &  1 & 3\\_35 & 1.0000000 & 2812 & 39\\\\\n",
       "\\end{tabular}\n"
      ],
      "text/markdown": [
       "\n",
       "A tibble: 174 × 8\n",
       "\n",
       "| donor &lt;fct&gt; | lineage &lt;fct&gt; | norm.total &lt;dbl&gt; | total &lt;int&gt; | name &lt;fct&gt; | cdf.norm &lt;dbl&gt; | cdf &lt;int&gt; | index &lt;int&gt; |\n",
       "|---|---|---|---|---|---|---|---|\n",
       "| 0 | 0  | 0.17990440 | 360 | 0_0  | 0.0899522 |  360 |  1 |\n",
       "| 0 | 2  | 0.15394845 | 255 | 0_2  | 0.1669264 |  615 |  2 |\n",
       "| 0 | 4  | 0.13733505 | 221 | 0_4  | 0.2355940 |  836 |  3 |\n",
       "| 0 | 1  | 0.13725001 | 276 | 0_1  | 0.3042190 | 1112 |  4 |\n",
       "| 0 | 52 | 0.13182511 | 183 | 0_52 | 0.3701315 | 1295 |  5 |\n",
       "| 0 | 3  | 0.12894991 | 221 | 0_3  | 0.4346065 | 1516 |  6 |\n",
       "| 0 | 11 | 0.09858219 | 141 | 0_11 | 0.4838976 | 1657 |  7 |\n",
       "| 0 | 6  | 0.09318075 | 147 | 0_6  | 0.5304879 | 1804 |  8 |\n",
       "| 0 | 7  | 0.08903290 | 157 | 0_7  | 0.5750044 | 1961 |  9 |\n",
       "| 0 | 5  | 0.08739224 | 175 | 0_5  | 0.6187005 | 2136 | 10 |\n",
       "| 0 | 10 | 0.07768019 | 125 | 0_10 | 0.6575406 | 2261 | 11 |\n",
       "| 0 | 8  | 0.07635769 | 150 | 0_8  | 0.6957195 | 2411 | 12 |\n",
       "| 0 | 9  | 0.07302064 | 139 | 0_9  | 0.7322298 | 2550 | 13 |\n",
       "| 0 | 12 | 0.05580758 | 114 | 0_12 | 0.7601336 | 2664 | 14 |\n",
       "| 0 | 53 | 0.05291039 |  78 | 0_53 | 0.7865888 | 2742 | 15 |\n",
       "| 0 | 13 | 0.04517917 |  91 | 0_13 | 0.8091783 | 2833 | 16 |\n",
       "| 0 | 14 | 0.04311331 |  83 | 0_14 | 0.8307350 | 2916 | 17 |\n",
       "| 0 | 15 | 0.03585713 |  69 | 0_15 | 0.8486636 | 2985 | 18 |\n",
       "| 0 | 16 | 0.02987215 |  58 | 0_16 | 0.8635996 | 3043 | 19 |\n",
       "| 0 | 31 | 0.02833558 |  45 | 0_31 | 0.8777674 | 3088 | 20 |\n",
       "| 0 | 17 | 0.02307489 |  43 | 0_17 | 0.8893049 | 3131 | 21 |\n",
       "| 0 | 22 | 0.01633042 |  25 | 0_22 | 0.8974701 | 3156 | 22 |\n",
       "| 0 | 19 | 0.01585391 |  27 | 0_19 | 0.9053970 | 3183 | 23 |\n",
       "| 0 | 18 | 0.01578353 |  31 | 0_18 | 0.9132888 | 3214 | 24 |\n",
       "| 0 | 23 | 0.01414140 |  24 | 0_23 | 0.9203595 | 3238 | 25 |\n",
       "| 0 | 20 | 0.01242889 |  21 | 0_20 | 0.9265740 | 3259 | 26 |\n",
       "| 0 | 21 | 0.01237611 |  24 | 0_21 | 0.9327620 | 3283 | 27 |\n",
       "| 0 | 24 | 0.01159903 |  18 | 0_24 | 0.9385615 | 3301 | 28 |\n",
       "| 0 | 25 | 0.01023987 |  20 | 0_25 | 0.9436815 | 3321 | 29 |\n",
       "| 0 | 41 | 0.00942760 |  16 | 0_41 | 0.9483953 | 3337 | 30 |\n",
       "| ⋮ | ⋮ | ⋮ | ⋮ | ⋮ | ⋮ | ⋮ | ⋮ |\n",
       "| 3 | 9  | 0.0533562774 | 80 | 3_9  | 0.8046690 | 2250 | 10 |\n",
       "| 3 | 8  | 0.0512012855 | 82 | 3_8  | 0.8302696 | 2332 | 11 |\n",
       "| 3 | 10 | 0.0496069789 | 78 | 3_10 | 0.8550731 | 2410 | 12 |\n",
       "| 3 | 11 | 0.0432496959 | 57 | 3_11 | 0.8766979 | 2467 | 13 |\n",
       "| 3 | 13 | 0.0395083747 | 53 | 3_13 | 0.8964521 | 2520 | 14 |\n",
       "| 3 | 12 | 0.0373493942 | 56 | 3_12 | 0.9151268 | 2576 | 15 |\n",
       "| 3 | 14 | 0.0256245744 | 35 | 3_14 | 0.9279391 | 2611 | 16 |\n",
       "| 3 | 15 | 0.0149453417 | 21 | 3_15 | 0.9354118 | 2632 | 17 |\n",
       "| 3 | 16 | 0.0138798116 | 19 | 3_16 | 0.9423517 | 2651 | 18 |\n",
       "| 3 | 19 | 0.0133470466 | 18 | 3_19 | 0.9490252 | 2669 | 19 |\n",
       "| 3 | 18 | 0.0117367856 | 18 | 3_18 | 0.9548936 | 2687 | 20 |\n",
       "| 3 | 20 | 0.0106792327 | 14 | 3_20 | 0.9602332 | 2701 | 21 |\n",
       "| 3 | 17 | 0.0101345018 | 16 | 3_17 | 0.9653005 | 2717 | 22 |\n",
       "| 3 | 25 | 0.0090769489 | 12 | 3_25 | 0.9698389 | 2729 | 23 |\n",
       "| 3 | 33 | 0.0074786538 |  9 | 3_33 | 0.9735783 | 2738 | 24 |\n",
       "| 3 | 24 | 0.0069379115 | 10 | 3_24 | 0.9770472 | 2748 | 25 |\n",
       "| 3 | 32 | 0.0058763700 |  7 | 3_32 | 0.9799854 | 2755 | 26 |\n",
       "| 3 | 21 | 0.0058723814 |  8 | 3_21 | 0.9829216 | 2763 | 27 |\n",
       "| 3 | 23 | 0.0048068513 |  6 | 3_23 | 0.9853250 | 2769 | 28 |\n",
       "| 3 | 37 | 0.0042740863 |  5 | 3_37 | 0.9874621 | 2774 | 29 |\n",
       "| 3 | 29 | 0.0042700976 |  6 | 3_29 | 0.9895971 | 2780 | 30 |\n",
       "| 3 | 26 | 0.0042661090 |  7 | 3_26 | 0.9917302 | 2787 | 31 |\n",
       "| 3 | 31 | 0.0032045675 |  4 | 3_31 | 0.9933325 | 2791 | 32 |\n",
       "| 3 | 22 | 0.0032005789 |  5 | 3_22 | 0.9949327 | 2796 | 33 |\n",
       "| 3 | 38 | 0.0021390374 |  2 | 3_38 | 0.9960023 | 2798 | 34 |\n",
       "| 3 | 34 | 0.0021350488 |  3 | 3_34 | 0.9970698 | 2801 | 35 |\n",
       "| 3 | 27 | 0.0021310602 |  4 | 3_27 | 0.9981353 | 2805 | 36 |\n",
       "| 3 | 28 | 0.0021310602 |  4 | 3_28 | 0.9992009 | 2809 | 37 |\n",
       "| 3 | 30 | 0.0010655301 |  2 | 3_30 | 0.9997336 | 2811 | 38 |\n",
       "| 3 | 35 | 0.0005327651 |  1 | 3_35 | 1.0000000 | 2812 | 39 |\n",
       "\n"
      ],
      "text/plain": [
       "    donor lineage norm.total   total name cdf.norm  cdf  index\n",
       "1   0     0       0.17990440   360   0_0  0.0899522  360  1   \n",
       "2   0     2       0.15394845   255   0_2  0.1669264  615  2   \n",
       "3   0     4       0.13733505   221   0_4  0.2355940  836  3   \n",
       "4   0     1       0.13725001   276   0_1  0.3042190 1112  4   \n",
       "5   0     52      0.13182511   183   0_52 0.3701315 1295  5   \n",
       "6   0     3       0.12894991   221   0_3  0.4346065 1516  6   \n",
       "7   0     11      0.09858219   141   0_11 0.4838976 1657  7   \n",
       "8   0     6       0.09318075   147   0_6  0.5304879 1804  8   \n",
       "9   0     7       0.08903290   157   0_7  0.5750044 1961  9   \n",
       "10  0     5       0.08739224   175   0_5  0.6187005 2136 10   \n",
       "11  0     10      0.07768019   125   0_10 0.6575406 2261 11   \n",
       "12  0     8       0.07635769   150   0_8  0.6957195 2411 12   \n",
       "13  0     9       0.07302064   139   0_9  0.7322298 2550 13   \n",
       "14  0     12      0.05580758   114   0_12 0.7601336 2664 14   \n",
       "15  0     53      0.05291039    78   0_53 0.7865888 2742 15   \n",
       "16  0     13      0.04517917    91   0_13 0.8091783 2833 16   \n",
       "17  0     14      0.04311331    83   0_14 0.8307350 2916 17   \n",
       "18  0     15      0.03585713    69   0_15 0.8486636 2985 18   \n",
       "19  0     16      0.02987215    58   0_16 0.8635996 3043 19   \n",
       "20  0     31      0.02833558    45   0_31 0.8777674 3088 20   \n",
       "21  0     17      0.02307489    43   0_17 0.8893049 3131 21   \n",
       "22  0     22      0.01633042    25   0_22 0.8974701 3156 22   \n",
       "23  0     19      0.01585391    27   0_19 0.9053970 3183 23   \n",
       "24  0     18      0.01578353    31   0_18 0.9132888 3214 24   \n",
       "25  0     23      0.01414140    24   0_23 0.9203595 3238 25   \n",
       "26  0     20      0.01242889    21   0_20 0.9265740 3259 26   \n",
       "27  0     21      0.01237611    24   0_21 0.9327620 3283 27   \n",
       "28  0     24      0.01159903    18   0_24 0.9385615 3301 28   \n",
       "29  0     25      0.01023987    20   0_25 0.9436815 3321 29   \n",
       "30  0     41      0.00942760    16   0_41 0.9483953 3337 30   \n",
       "⋮   ⋮     ⋮       ⋮            ⋮     ⋮    ⋮         ⋮    ⋮    \n",
       "145 3     9       0.0533562774 80    3_9  0.8046690 2250 10   \n",
       "146 3     8       0.0512012855 82    3_8  0.8302696 2332 11   \n",
       "147 3     10      0.0496069789 78    3_10 0.8550731 2410 12   \n",
       "148 3     11      0.0432496959 57    3_11 0.8766979 2467 13   \n",
       "149 3     13      0.0395083747 53    3_13 0.8964521 2520 14   \n",
       "150 3     12      0.0373493942 56    3_12 0.9151268 2576 15   \n",
       "151 3     14      0.0256245744 35    3_14 0.9279391 2611 16   \n",
       "152 3     15      0.0149453417 21    3_15 0.9354118 2632 17   \n",
       "153 3     16      0.0138798116 19    3_16 0.9423517 2651 18   \n",
       "154 3     19      0.0133470466 18    3_19 0.9490252 2669 19   \n",
       "155 3     18      0.0117367856 18    3_18 0.9548936 2687 20   \n",
       "156 3     20      0.0106792327 14    3_20 0.9602332 2701 21   \n",
       "157 3     17      0.0101345018 16    3_17 0.9653005 2717 22   \n",
       "158 3     25      0.0090769489 12    3_25 0.9698389 2729 23   \n",
       "159 3     33      0.0074786538  9    3_33 0.9735783 2738 24   \n",
       "160 3     24      0.0069379115 10    3_24 0.9770472 2748 25   \n",
       "161 3     32      0.0058763700  7    3_32 0.9799854 2755 26   \n",
       "162 3     21      0.0058723814  8    3_21 0.9829216 2763 27   \n",
       "163 3     23      0.0048068513  6    3_23 0.9853250 2769 28   \n",
       "164 3     37      0.0042740863  5    3_37 0.9874621 2774 29   \n",
       "165 3     29      0.0042700976  6    3_29 0.9895971 2780 30   \n",
       "166 3     26      0.0042661090  7    3_26 0.9917302 2787 31   \n",
       "167 3     31      0.0032045675  4    3_31 0.9933325 2791 32   \n",
       "168 3     22      0.0032005789  5    3_22 0.9949327 2796 33   \n",
       "169 3     38      0.0021390374  2    3_38 0.9960023 2798 34   \n",
       "170 3     34      0.0021350488  3    3_34 0.9970698 2801 35   \n",
       "171 3     27      0.0021310602  4    3_27 0.9981353 2805 36   \n",
       "172 3     28      0.0021310602  4    3_28 0.9992009 2809 37   \n",
       "173 3     30      0.0010655301  2    3_30 0.9997336 2811 38   \n",
       "174 3     35      0.0005327651  1    3_35 1.0000000 2812 39   "
      ]
     },
     "metadata": {},
     "output_type": "display_data"
    }
   ],
   "source": [
    "clone.sizes"
   ]
  },
  {
   "cell_type": "code",
   "execution_count": 15,
   "id": "93c23bda",
   "metadata": {
    "execution": {
     "iopub.execute_input": "2021-12-03T16:07:23.844081Z",
     "iopub.status.busy": "2021-12-03T16:07:23.841055Z",
     "iopub.status.idle": "2021-12-03T16:07:23.922577Z",
     "shell.execute_reply": "2021-12-03T16:07:23.921747Z"
    },
    "papermill": {
     "duration": 0.189307,
     "end_time": "2021-12-03T16:07:23.922785",
     "exception": false,
     "start_time": "2021-12-03T16:07:23.733478",
     "status": "completed"
    },
    "scrolled": true,
    "tags": []
   },
   "outputs": [
    {
     "name": "stdout",
     "output_type": "stream",
     "text": [
      "[1] 4\n",
      "[1] \"i 1 donor 1\"\n",
      "[1] \"i 2 donor 2\"\n",
      "[1] \"i 3 donor 3\"\n",
      "[1] \"i 4 donor 4\"\n"
     ]
    },
    {
     "data": {
      "text/html": [
       "<table class=\"dataframe\">\n",
       "<caption>A tibble: 25 × 8</caption>\n",
       "<thead>\n",
       "\t<tr><th scope=col>donor</th><th scope=col>lineage</th><th scope=col>norm.total</th><th scope=col>total</th><th scope=col>name</th><th scope=col>cdf.norm</th><th scope=col>cdf</th><th scope=col>index</th></tr>\n",
       "\t<tr><th scope=col>&lt;fct&gt;</th><th scope=col>&lt;fct&gt;</th><th scope=col>&lt;dbl&gt;</th><th scope=col>&lt;int&gt;</th><th scope=col>&lt;fct&gt;</th><th scope=col>&lt;dbl&gt;</th><th scope=col>&lt;int&gt;</th><th scope=col>&lt;int&gt;</th></tr>\n",
       "</thead>\n",
       "<tbody>\n",
       "\t<tr><td>0</td><td>0 </td><td>0.17990440</td><td>360</td><td>0_0 </td><td>0.08995220</td><td> 360</td><td> 1</td></tr>\n",
       "\t<tr><td>0</td><td>2 </td><td>0.15394845</td><td>255</td><td>0_2 </td><td>0.16692643</td><td> 615</td><td> 2</td></tr>\n",
       "\t<tr><td>0</td><td>4 </td><td>0.13733505</td><td>221</td><td>0_4 </td><td>0.23559395</td><td> 836</td><td> 3</td></tr>\n",
       "\t<tr><td>0</td><td>1 </td><td>0.13725001</td><td>276</td><td>0_1 </td><td>0.30421896</td><td>1112</td><td> 4</td></tr>\n",
       "\t<tr><td>0</td><td>52</td><td>0.13182511</td><td>183</td><td>0_52</td><td>0.37013152</td><td>1295</td><td> 5</td></tr>\n",
       "\t<tr><td>0</td><td>3 </td><td>0.12894991</td><td>221</td><td>0_3 </td><td>0.43460647</td><td>1516</td><td> 6</td></tr>\n",
       "\t<tr><td>0</td><td>11</td><td>0.09858219</td><td>141</td><td>0_11</td><td>0.48389757</td><td>1657</td><td> 7</td></tr>\n",
       "\t<tr><td>1</td><td>0 </td><td>0.14526665</td><td>220</td><td>1_0 </td><td>0.07263333</td><td> 220</td><td> 1</td></tr>\n",
       "\t<tr><td>1</td><td>1 </td><td>0.11478933</td><td>172</td><td>1_1 </td><td>0.13002799</td><td> 392</td><td> 2</td></tr>\n",
       "\t<tr><td>1</td><td>2 </td><td>0.10036769</td><td>156</td><td>1_2 </td><td>0.18021183</td><td> 548</td><td> 3</td></tr>\n",
       "\t<tr><td>1</td><td>5 </td><td>0.09456075</td><td>153</td><td>1_5 </td><td>0.22749221</td><td> 701</td><td> 4</td></tr>\n",
       "\t<tr><td>1</td><td>10</td><td>0.09365953</td><td>123</td><td>1_10</td><td>0.27432198</td><td> 824</td><td> 5</td></tr>\n",
       "\t<tr><td>1</td><td>3 </td><td>0.09219389</td><td>151</td><td>1_3 </td><td>0.32041892</td><td> 975</td><td> 6</td></tr>\n",
       "\t<tr><td>1</td><td>6 </td><td>0.08973619</td><td>161</td><td>1_6 </td><td>0.36528702</td><td>1136</td><td> 7</td></tr>\n",
       "\t<tr><td>1</td><td>4 </td><td>0.08175377</td><td>139</td><td>1_4 </td><td>0.40616390</td><td>1275</td><td> 8</td></tr>\n",
       "\t<tr><td>1</td><td>8 </td><td>0.07882606</td><td>120</td><td>1_8 </td><td>0.44557693</td><td>1395</td><td> 9</td></tr>\n",
       "\t<tr><td>1</td><td>7 </td><td>0.07649798</td><td>146</td><td>1_7 </td><td>0.48382592</td><td>1541</td><td>10</td></tr>\n",
       "\t<tr><td>2</td><td>0 </td><td>0.25786216</td><td>318</td><td>2_0 </td><td>0.12893108</td><td> 318</td><td> 1</td></tr>\n",
       "\t<tr><td>2</td><td>1 </td><td>0.20588268</td><td>230</td><td>2_1 </td><td>0.23187242</td><td> 548</td><td> 2</td></tr>\n",
       "\t<tr><td>2</td><td>2 </td><td>0.16432196</td><td>188</td><td>2_2 </td><td>0.31403340</td><td> 736</td><td> 3</td></tr>\n",
       "\t<tr><td>2</td><td>3 </td><td>0.14448534</td><td>154</td><td>2_3 </td><td>0.38627607</td><td> 890</td><td> 4</td></tr>\n",
       "\t<tr><td>2</td><td>6 </td><td>0.11645199</td><td>108</td><td>2_6 </td><td>0.44450206</td><td> 998</td><td> 5</td></tr>\n",
       "\t<tr><td>3</td><td>0 </td><td>0.32016160</td><td>474</td><td>3_0 </td><td>0.16008080</td><td> 474</td><td> 1</td></tr>\n",
       "\t<tr><td>3</td><td>1 </td><td>0.25119160</td><td>406</td><td>3_1 </td><td>0.28567660</td><td> 880</td><td> 2</td></tr>\n",
       "\t<tr><td>3</td><td>36</td><td>0.24311807</td><td>277</td><td>3_36</td><td>0.40723563</td><td>1157</td><td> 3</td></tr>\n",
       "</tbody>\n",
       "</table>\n"
      ],
      "text/latex": [
       "A tibble: 25 × 8\n",
       "\\begin{tabular}{llllllll}\n",
       " donor & lineage & norm.total & total & name & cdf.norm & cdf & index\\\\\n",
       " <fct> & <fct> & <dbl> & <int> & <fct> & <dbl> & <int> & <int>\\\\\n",
       "\\hline\n",
       "\t 0 & 0  & 0.17990440 & 360 & 0\\_0  & 0.08995220 &  360 &  1\\\\\n",
       "\t 0 & 2  & 0.15394845 & 255 & 0\\_2  & 0.16692643 &  615 &  2\\\\\n",
       "\t 0 & 4  & 0.13733505 & 221 & 0\\_4  & 0.23559395 &  836 &  3\\\\\n",
       "\t 0 & 1  & 0.13725001 & 276 & 0\\_1  & 0.30421896 & 1112 &  4\\\\\n",
       "\t 0 & 52 & 0.13182511 & 183 & 0\\_52 & 0.37013152 & 1295 &  5\\\\\n",
       "\t 0 & 3  & 0.12894991 & 221 & 0\\_3  & 0.43460647 & 1516 &  6\\\\\n",
       "\t 0 & 11 & 0.09858219 & 141 & 0\\_11 & 0.48389757 & 1657 &  7\\\\\n",
       "\t 1 & 0  & 0.14526665 & 220 & 1\\_0  & 0.07263333 &  220 &  1\\\\\n",
       "\t 1 & 1  & 0.11478933 & 172 & 1\\_1  & 0.13002799 &  392 &  2\\\\\n",
       "\t 1 & 2  & 0.10036769 & 156 & 1\\_2  & 0.18021183 &  548 &  3\\\\\n",
       "\t 1 & 5  & 0.09456075 & 153 & 1\\_5  & 0.22749221 &  701 &  4\\\\\n",
       "\t 1 & 10 & 0.09365953 & 123 & 1\\_10 & 0.27432198 &  824 &  5\\\\\n",
       "\t 1 & 3  & 0.09219389 & 151 & 1\\_3  & 0.32041892 &  975 &  6\\\\\n",
       "\t 1 & 6  & 0.08973619 & 161 & 1\\_6  & 0.36528702 & 1136 &  7\\\\\n",
       "\t 1 & 4  & 0.08175377 & 139 & 1\\_4  & 0.40616390 & 1275 &  8\\\\\n",
       "\t 1 & 8  & 0.07882606 & 120 & 1\\_8  & 0.44557693 & 1395 &  9\\\\\n",
       "\t 1 & 7  & 0.07649798 & 146 & 1\\_7  & 0.48382592 & 1541 & 10\\\\\n",
       "\t 2 & 0  & 0.25786216 & 318 & 2\\_0  & 0.12893108 &  318 &  1\\\\\n",
       "\t 2 & 1  & 0.20588268 & 230 & 2\\_1  & 0.23187242 &  548 &  2\\\\\n",
       "\t 2 & 2  & 0.16432196 & 188 & 2\\_2  & 0.31403340 &  736 &  3\\\\\n",
       "\t 2 & 3  & 0.14448534 & 154 & 2\\_3  & 0.38627607 &  890 &  4\\\\\n",
       "\t 2 & 6  & 0.11645199 & 108 & 2\\_6  & 0.44450206 &  998 &  5\\\\\n",
       "\t 3 & 0  & 0.32016160 & 474 & 3\\_0  & 0.16008080 &  474 &  1\\\\\n",
       "\t 3 & 1  & 0.25119160 & 406 & 3\\_1  & 0.28567660 &  880 &  2\\\\\n",
       "\t 3 & 36 & 0.24311807 & 277 & 3\\_36 & 0.40723563 & 1157 &  3\\\\\n",
       "\\end{tabular}\n"
      ],
      "text/markdown": [
       "\n",
       "A tibble: 25 × 8\n",
       "\n",
       "| donor &lt;fct&gt; | lineage &lt;fct&gt; | norm.total &lt;dbl&gt; | total &lt;int&gt; | name &lt;fct&gt; | cdf.norm &lt;dbl&gt; | cdf &lt;int&gt; | index &lt;int&gt; |\n",
       "|---|---|---|---|---|---|---|---|\n",
       "| 0 | 0  | 0.17990440 | 360 | 0_0  | 0.08995220 |  360 |  1 |\n",
       "| 0 | 2  | 0.15394845 | 255 | 0_2  | 0.16692643 |  615 |  2 |\n",
       "| 0 | 4  | 0.13733505 | 221 | 0_4  | 0.23559395 |  836 |  3 |\n",
       "| 0 | 1  | 0.13725001 | 276 | 0_1  | 0.30421896 | 1112 |  4 |\n",
       "| 0 | 52 | 0.13182511 | 183 | 0_52 | 0.37013152 | 1295 |  5 |\n",
       "| 0 | 3  | 0.12894991 | 221 | 0_3  | 0.43460647 | 1516 |  6 |\n",
       "| 0 | 11 | 0.09858219 | 141 | 0_11 | 0.48389757 | 1657 |  7 |\n",
       "| 1 | 0  | 0.14526665 | 220 | 1_0  | 0.07263333 |  220 |  1 |\n",
       "| 1 | 1  | 0.11478933 | 172 | 1_1  | 0.13002799 |  392 |  2 |\n",
       "| 1 | 2  | 0.10036769 | 156 | 1_2  | 0.18021183 |  548 |  3 |\n",
       "| 1 | 5  | 0.09456075 | 153 | 1_5  | 0.22749221 |  701 |  4 |\n",
       "| 1 | 10 | 0.09365953 | 123 | 1_10 | 0.27432198 |  824 |  5 |\n",
       "| 1 | 3  | 0.09219389 | 151 | 1_3  | 0.32041892 |  975 |  6 |\n",
       "| 1 | 6  | 0.08973619 | 161 | 1_6  | 0.36528702 | 1136 |  7 |\n",
       "| 1 | 4  | 0.08175377 | 139 | 1_4  | 0.40616390 | 1275 |  8 |\n",
       "| 1 | 8  | 0.07882606 | 120 | 1_8  | 0.44557693 | 1395 |  9 |\n",
       "| 1 | 7  | 0.07649798 | 146 | 1_7  | 0.48382592 | 1541 | 10 |\n",
       "| 2 | 0  | 0.25786216 | 318 | 2_0  | 0.12893108 |  318 |  1 |\n",
       "| 2 | 1  | 0.20588268 | 230 | 2_1  | 0.23187242 |  548 |  2 |\n",
       "| 2 | 2  | 0.16432196 | 188 | 2_2  | 0.31403340 |  736 |  3 |\n",
       "| 2 | 3  | 0.14448534 | 154 | 2_3  | 0.38627607 |  890 |  4 |\n",
       "| 2 | 6  | 0.11645199 | 108 | 2_6  | 0.44450206 |  998 |  5 |\n",
       "| 3 | 0  | 0.32016160 | 474 | 3_0  | 0.16008080 |  474 |  1 |\n",
       "| 3 | 1  | 0.25119160 | 406 | 3_1  | 0.28567660 |  880 |  2 |\n",
       "| 3 | 36 | 0.24311807 | 277 | 3_36 | 0.40723563 | 1157 |  3 |\n",
       "\n"
      ],
      "text/plain": [
       "   donor lineage norm.total total name cdf.norm   cdf  index\n",
       "1  0     0       0.17990440 360   0_0  0.08995220  360  1   \n",
       "2  0     2       0.15394845 255   0_2  0.16692643  615  2   \n",
       "3  0     4       0.13733505 221   0_4  0.23559395  836  3   \n",
       "4  0     1       0.13725001 276   0_1  0.30421896 1112  4   \n",
       "5  0     52      0.13182511 183   0_52 0.37013152 1295  5   \n",
       "6  0     3       0.12894991 221   0_3  0.43460647 1516  6   \n",
       "7  0     11      0.09858219 141   0_11 0.48389757 1657  7   \n",
       "8  1     0       0.14526665 220   1_0  0.07263333  220  1   \n",
       "9  1     1       0.11478933 172   1_1  0.13002799  392  2   \n",
       "10 1     2       0.10036769 156   1_2  0.18021183  548  3   \n",
       "11 1     5       0.09456075 153   1_5  0.22749221  701  4   \n",
       "12 1     10      0.09365953 123   1_10 0.27432198  824  5   \n",
       "13 1     3       0.09219389 151   1_3  0.32041892  975  6   \n",
       "14 1     6       0.08973619 161   1_6  0.36528702 1136  7   \n",
       "15 1     4       0.08175377 139   1_4  0.40616390 1275  8   \n",
       "16 1     8       0.07882606 120   1_8  0.44557693 1395  9   \n",
       "17 1     7       0.07649798 146   1_7  0.48382592 1541 10   \n",
       "18 2     0       0.25786216 318   2_0  0.12893108  318  1   \n",
       "19 2     1       0.20588268 230   2_1  0.23187242  548  2   \n",
       "20 2     2       0.16432196 188   2_2  0.31403340  736  3   \n",
       "21 2     3       0.14448534 154   2_3  0.38627607  890  4   \n",
       "22 2     6       0.11645199 108   2_6  0.44450206  998  5   \n",
       "23 3     0       0.32016160 474   3_0  0.16008080  474  1   \n",
       "24 3     1       0.25119160 406   3_1  0.28567660  880  2   \n",
       "25 3     36      0.24311807 277   3_36 0.40723563 1157  3   "
      ]
     },
     "metadata": {},
     "output_type": "display_data"
    }
   ],
   "source": [
    "large.clones <- clone.sizes %>% filter(cdf.norm<cdf_thresh)\n",
    "large.clones <- check.if.one.clone(large.clones, clone.sizes, n_top_clones)\n",
    "#large.clones$name = factor(paste0(large.clones$donor,\"_\", large.clones$lineage))\n",
    "write.csv(large.clones, \n",
    "          file=file.path(outdir, \"large_clones.csv\"), quote=F)\n",
    "\n",
    "large.clones"
   ]
  },
  {
   "cell_type": "code",
   "execution_count": 16,
   "id": "308e6966",
   "metadata": {
    "execution": {
     "iopub.execute_input": "2021-12-03T16:07:24.170642Z",
     "iopub.status.busy": "2021-12-03T16:07:24.167864Z",
     "iopub.status.idle": "2021-12-03T16:07:24.809457Z",
     "shell.execute_reply": "2021-12-03T16:07:24.810315Z"
    },
    "papermill": {
     "duration": 0.778136,
     "end_time": "2021-12-03T16:07:24.810584",
     "exception": false,
     "start_time": "2021-12-03T16:07:24.032448",
     "status": "completed"
    },
    "tags": []
   },
   "outputs": [
    {
     "name": "stderr",
     "output_type": "stream",
     "text": [
      "Saving 6.67 x 6.67 in image\n",
      "\n"
     ]
    },
    {
     "data": {
      "image/png": "[encoded data removed]",
      "text/plain": [
       "plot without title"
      ]
     },
     "metadata": {
      "image/png": {
       "height": 420,
       "width": 420
      }
     },
     "output_type": "display_data"
    }
   ],
   "source": [
    "ggplot(data=large.clones, aes(x=index,y=total, fill = factor(donor))) + \n",
    "        geom_col(position='dodge') +\n",
    "       ggtitle(paste0(\"Top clones (\", cdf_thresh,\n",
    "                      \"fraction of clones) in each donor cell size\"))\n",
    "\n",
    "ggsave(file.path(outdir, \"topClonesSize.png\"))"
   ]
  },
  {
   "cell_type": "markdown",
   "id": "5564da63",
   "metadata": {
    "papermill": {
     "duration": 0.147779,
     "end_time": "2021-12-03T16:07:25.096545",
     "exception": false,
     "start_time": "2021-12-03T16:07:24.948766",
     "status": "completed"
    },
    "tags": []
   },
   "source": [
    "## TF DE"
   ]
  },
  {
   "cell_type": "markdown",
   "id": "b6a80a03",
   "metadata": {
    "papermill": {
     "duration": 0.109998,
     "end_time": "2021-12-03T16:07:25.314602",
     "exception": false,
     "start_time": "2021-12-03T16:07:25.204604",
     "status": "completed"
    },
    "tags": []
   },
   "source": [
    "## Filter se for cells in the large clones"
   ]
  },
  {
   "cell_type": "code",
   "execution_count": 17,
   "id": "8ec3001e",
   "metadata": {
    "execution": {
     "iopub.execute_input": "2021-12-03T16:07:25.535729Z",
     "iopub.status.busy": "2021-12-03T16:07:25.532656Z",
     "iopub.status.idle": "2021-12-03T16:07:25.574952Z",
     "shell.execute_reply": "2021-12-03T16:07:25.574172Z"
    },
    "papermill": {
     "duration": 0.15563,
     "end_time": "2021-12-03T16:07:25.575139",
     "exception": false,
     "start_time": "2021-12-03T16:07:25.419509",
     "status": "completed"
    },
    "scrolled": true,
    "tags": []
   },
   "outputs": [
    {
     "data": {
      "text/html": [
       "<table class=\"dataframe\">\n",
       "<caption>A tibble: 25 × 8</caption>\n",
       "<thead>\n",
       "\t<tr><th scope=col>donor</th><th scope=col>lineage</th><th scope=col>norm.total</th><th scope=col>total</th><th scope=col>name</th><th scope=col>cdf.norm</th><th scope=col>cdf</th><th scope=col>index</th></tr>\n",
       "\t<tr><th scope=col>&lt;fct&gt;</th><th scope=col>&lt;fct&gt;</th><th scope=col>&lt;dbl&gt;</th><th scope=col>&lt;int&gt;</th><th scope=col>&lt;fct&gt;</th><th scope=col>&lt;dbl&gt;</th><th scope=col>&lt;int&gt;</th><th scope=col>&lt;int&gt;</th></tr>\n",
       "</thead>\n",
       "<tbody>\n",
       "\t<tr><td>0</td><td>0 </td><td>0.17990440</td><td>360</td><td>0_0 </td><td>0.08995220</td><td> 360</td><td> 1</td></tr>\n",
       "\t<tr><td>0</td><td>2 </td><td>0.15394845</td><td>255</td><td>0_2 </td><td>0.16692643</td><td> 615</td><td> 2</td></tr>\n",
       "\t<tr><td>0</td><td>4 </td><td>0.13733505</td><td>221</td><td>0_4 </td><td>0.23559395</td><td> 836</td><td> 3</td></tr>\n",
       "\t<tr><td>0</td><td>1 </td><td>0.13725001</td><td>276</td><td>0_1 </td><td>0.30421896</td><td>1112</td><td> 4</td></tr>\n",
       "\t<tr><td>0</td><td>52</td><td>0.13182511</td><td>183</td><td>0_52</td><td>0.37013152</td><td>1295</td><td> 5</td></tr>\n",
       "\t<tr><td>0</td><td>3 </td><td>0.12894991</td><td>221</td><td>0_3 </td><td>0.43460647</td><td>1516</td><td> 6</td></tr>\n",
       "\t<tr><td>0</td><td>11</td><td>0.09858219</td><td>141</td><td>0_11</td><td>0.48389757</td><td>1657</td><td> 7</td></tr>\n",
       "\t<tr><td>1</td><td>0 </td><td>0.14526665</td><td>220</td><td>1_0 </td><td>0.07263333</td><td> 220</td><td> 1</td></tr>\n",
       "\t<tr><td>1</td><td>1 </td><td>0.11478933</td><td>172</td><td>1_1 </td><td>0.13002799</td><td> 392</td><td> 2</td></tr>\n",
       "\t<tr><td>1</td><td>2 </td><td>0.10036769</td><td>156</td><td>1_2 </td><td>0.18021183</td><td> 548</td><td> 3</td></tr>\n",
       "\t<tr><td>1</td><td>5 </td><td>0.09456075</td><td>153</td><td>1_5 </td><td>0.22749221</td><td> 701</td><td> 4</td></tr>\n",
       "\t<tr><td>1</td><td>10</td><td>0.09365953</td><td>123</td><td>1_10</td><td>0.27432198</td><td> 824</td><td> 5</td></tr>\n",
       "\t<tr><td>1</td><td>3 </td><td>0.09219389</td><td>151</td><td>1_3 </td><td>0.32041892</td><td> 975</td><td> 6</td></tr>\n",
       "\t<tr><td>1</td><td>6 </td><td>0.08973619</td><td>161</td><td>1_6 </td><td>0.36528702</td><td>1136</td><td> 7</td></tr>\n",
       "\t<tr><td>1</td><td>4 </td><td>0.08175377</td><td>139</td><td>1_4 </td><td>0.40616390</td><td>1275</td><td> 8</td></tr>\n",
       "\t<tr><td>1</td><td>8 </td><td>0.07882606</td><td>120</td><td>1_8 </td><td>0.44557693</td><td>1395</td><td> 9</td></tr>\n",
       "\t<tr><td>1</td><td>7 </td><td>0.07649798</td><td>146</td><td>1_7 </td><td>0.48382592</td><td>1541</td><td>10</td></tr>\n",
       "\t<tr><td>2</td><td>0 </td><td>0.25786216</td><td>318</td><td>2_0 </td><td>0.12893108</td><td> 318</td><td> 1</td></tr>\n",
       "\t<tr><td>2</td><td>1 </td><td>0.20588268</td><td>230</td><td>2_1 </td><td>0.23187242</td><td> 548</td><td> 2</td></tr>\n",
       "\t<tr><td>2</td><td>2 </td><td>0.16432196</td><td>188</td><td>2_2 </td><td>0.31403340</td><td> 736</td><td> 3</td></tr>\n",
       "\t<tr><td>2</td><td>3 </td><td>0.14448534</td><td>154</td><td>2_3 </td><td>0.38627607</td><td> 890</td><td> 4</td></tr>\n",
       "\t<tr><td>2</td><td>6 </td><td>0.11645199</td><td>108</td><td>2_6 </td><td>0.44450206</td><td> 998</td><td> 5</td></tr>\n",
       "\t<tr><td>3</td><td>0 </td><td>0.32016160</td><td>474</td><td>3_0 </td><td>0.16008080</td><td> 474</td><td> 1</td></tr>\n",
       "\t<tr><td>3</td><td>1 </td><td>0.25119160</td><td>406</td><td>3_1 </td><td>0.28567660</td><td> 880</td><td> 2</td></tr>\n",
       "\t<tr><td>3</td><td>36</td><td>0.24311807</td><td>277</td><td>3_36</td><td>0.40723563</td><td>1157</td><td> 3</td></tr>\n",
       "</tbody>\n",
       "</table>\n"
      ],
      "text/latex": [
       "A tibble: 25 × 8\n",
       "\\begin{tabular}{llllllll}\n",
       " donor & lineage & norm.total & total & name & cdf.norm & cdf & index\\\\\n",
       " <fct> & <fct> & <dbl> & <int> & <fct> & <dbl> & <int> & <int>\\\\\n",
       "\\hline\n",
       "\t 0 & 0  & 0.17990440 & 360 & 0\\_0  & 0.08995220 &  360 &  1\\\\\n",
       "\t 0 & 2  & 0.15394845 & 255 & 0\\_2  & 0.16692643 &  615 &  2\\\\\n",
       "\t 0 & 4  & 0.13733505 & 221 & 0\\_4  & 0.23559395 &  836 &  3\\\\\n",
       "\t 0 & 1  & 0.13725001 & 276 & 0\\_1  & 0.30421896 & 1112 &  4\\\\\n",
       "\t 0 & 52 & 0.13182511 & 183 & 0\\_52 & 0.37013152 & 1295 &  5\\\\\n",
       "\t 0 & 3  & 0.12894991 & 221 & 0\\_3  & 0.43460647 & 1516 &  6\\\\\n",
       "\t 0 & 11 & 0.09858219 & 141 & 0\\_11 & 0.48389757 & 1657 &  7\\\\\n",
       "\t 1 & 0  & 0.14526665 & 220 & 1\\_0  & 0.07263333 &  220 &  1\\\\\n",
       "\t 1 & 1  & 0.11478933 & 172 & 1\\_1  & 0.13002799 &  392 &  2\\\\\n",
       "\t 1 & 2  & 0.10036769 & 156 & 1\\_2  & 0.18021183 &  548 &  3\\\\\n",
       "\t 1 & 5  & 0.09456075 & 153 & 1\\_5  & 0.22749221 &  701 &  4\\\\\n",
       "\t 1 & 10 & 0.09365953 & 123 & 1\\_10 & 0.27432198 &  824 &  5\\\\\n",
       "\t 1 & 3  & 0.09219389 & 151 & 1\\_3  & 0.32041892 &  975 &  6\\\\\n",
       "\t 1 & 6  & 0.08973619 & 161 & 1\\_6  & 0.36528702 & 1136 &  7\\\\\n",
       "\t 1 & 4  & 0.08175377 & 139 & 1\\_4  & 0.40616390 & 1275 &  8\\\\\n",
       "\t 1 & 8  & 0.07882606 & 120 & 1\\_8  & 0.44557693 & 1395 &  9\\\\\n",
       "\t 1 & 7  & 0.07649798 & 146 & 1\\_7  & 0.48382592 & 1541 & 10\\\\\n",
       "\t 2 & 0  & 0.25786216 & 318 & 2\\_0  & 0.12893108 &  318 &  1\\\\\n",
       "\t 2 & 1  & 0.20588268 & 230 & 2\\_1  & 0.23187242 &  548 &  2\\\\\n",
       "\t 2 & 2  & 0.16432196 & 188 & 2\\_2  & 0.31403340 &  736 &  3\\\\\n",
       "\t 2 & 3  & 0.14448534 & 154 & 2\\_3  & 0.38627607 &  890 &  4\\\\\n",
       "\t 2 & 6  & 0.11645199 & 108 & 2\\_6  & 0.44450206 &  998 &  5\\\\\n",
       "\t 3 & 0  & 0.32016160 & 474 & 3\\_0  & 0.16008080 &  474 &  1\\\\\n",
       "\t 3 & 1  & 0.25119160 & 406 & 3\\_1  & 0.28567660 &  880 &  2\\\\\n",
       "\t 3 & 36 & 0.24311807 & 277 & 3\\_36 & 0.40723563 & 1157 &  3\\\\\n",
       "\\end{tabular}\n"
      ],
      "text/markdown": [
       "\n",
       "A tibble: 25 × 8\n",
       "\n",
       "| donor &lt;fct&gt; | lineage &lt;fct&gt; | norm.total &lt;dbl&gt; | total &lt;int&gt; | name &lt;fct&gt; | cdf.norm &lt;dbl&gt; | cdf &lt;int&gt; | index &lt;int&gt; |\n",
       "|---|---|---|---|---|---|---|---|\n",
       "| 0 | 0  | 0.17990440 | 360 | 0_0  | 0.08995220 |  360 |  1 |\n",
       "| 0 | 2  | 0.15394845 | 255 | 0_2  | 0.16692643 |  615 |  2 |\n",
       "| 0 | 4  | 0.13733505 | 221 | 0_4  | 0.23559395 |  836 |  3 |\n",
       "| 0 | 1  | 0.13725001 | 276 | 0_1  | 0.30421896 | 1112 |  4 |\n",
       "| 0 | 52 | 0.13182511 | 183 | 0_52 | 0.37013152 | 1295 |  5 |\n",
       "| 0 | 3  | 0.12894991 | 221 | 0_3  | 0.43460647 | 1516 |  6 |\n",
       "| 0 | 11 | 0.09858219 | 141 | 0_11 | 0.48389757 | 1657 |  7 |\n",
       "| 1 | 0  | 0.14526665 | 220 | 1_0  | 0.07263333 |  220 |  1 |\n",
       "| 1 | 1  | 0.11478933 | 172 | 1_1  | 0.13002799 |  392 |  2 |\n",
       "| 1 | 2  | 0.10036769 | 156 | 1_2  | 0.18021183 |  548 |  3 |\n",
       "| 1 | 5  | 0.09456075 | 153 | 1_5  | 0.22749221 |  701 |  4 |\n",
       "| 1 | 10 | 0.09365953 | 123 | 1_10 | 0.27432198 |  824 |  5 |\n",
       "| 1 | 3  | 0.09219389 | 151 | 1_3  | 0.32041892 |  975 |  6 |\n",
       "| 1 | 6  | 0.08973619 | 161 | 1_6  | 0.36528702 | 1136 |  7 |\n",
       "| 1 | 4  | 0.08175377 | 139 | 1_4  | 0.40616390 | 1275 |  8 |\n",
       "| 1 | 8  | 0.07882606 | 120 | 1_8  | 0.44557693 | 1395 |  9 |\n",
       "| 1 | 7  | 0.07649798 | 146 | 1_7  | 0.48382592 | 1541 | 10 |\n",
       "| 2 | 0  | 0.25786216 | 318 | 2_0  | 0.12893108 |  318 |  1 |\n",
       "| 2 | 1  | 0.20588268 | 230 | 2_1  | 0.23187242 |  548 |  2 |\n",
       "| 2 | 2  | 0.16432196 | 188 | 2_2  | 0.31403340 |  736 |  3 |\n",
       "| 2 | 3  | 0.14448534 | 154 | 2_3  | 0.38627607 |  890 |  4 |\n",
       "| 2 | 6  | 0.11645199 | 108 | 2_6  | 0.44450206 |  998 |  5 |\n",
       "| 3 | 0  | 0.32016160 | 474 | 3_0  | 0.16008080 |  474 |  1 |\n",
       "| 3 | 1  | 0.25119160 | 406 | 3_1  | 0.28567660 |  880 |  2 |\n",
       "| 3 | 36 | 0.24311807 | 277 | 3_36 | 0.40723563 | 1157 |  3 |\n",
       "\n"
      ],
      "text/plain": [
       "   donor lineage norm.total total name cdf.norm   cdf  index\n",
       "1  0     0       0.17990440 360   0_0  0.08995220  360  1   \n",
       "2  0     2       0.15394845 255   0_2  0.16692643  615  2   \n",
       "3  0     4       0.13733505 221   0_4  0.23559395  836  3   \n",
       "4  0     1       0.13725001 276   0_1  0.30421896 1112  4   \n",
       "5  0     52      0.13182511 183   0_52 0.37013152 1295  5   \n",
       "6  0     3       0.12894991 221   0_3  0.43460647 1516  6   \n",
       "7  0     11      0.09858219 141   0_11 0.48389757 1657  7   \n",
       "8  1     0       0.14526665 220   1_0  0.07263333  220  1   \n",
       "9  1     1       0.11478933 172   1_1  0.13002799  392  2   \n",
       "10 1     2       0.10036769 156   1_2  0.18021183  548  3   \n",
       "11 1     5       0.09456075 153   1_5  0.22749221  701  4   \n",
       "12 1     10      0.09365953 123   1_10 0.27432198  824  5   \n",
       "13 1     3       0.09219389 151   1_3  0.32041892  975  6   \n",
       "14 1     6       0.08973619 161   1_6  0.36528702 1136  7   \n",
       "15 1     4       0.08175377 139   1_4  0.40616390 1275  8   \n",
       "16 1     8       0.07882606 120   1_8  0.44557693 1395  9   \n",
       "17 1     7       0.07649798 146   1_7  0.48382592 1541 10   \n",
       "18 2     0       0.25786216 318   2_0  0.12893108  318  1   \n",
       "19 2     1       0.20588268 230   2_1  0.23187242  548  2   \n",
       "20 2     2       0.16432196 188   2_2  0.31403340  736  3   \n",
       "21 2     3       0.14448534 154   2_3  0.38627607  890  4   \n",
       "22 2     6       0.11645199 108   2_6  0.44450206  998  5   \n",
       "23 3     0       0.32016160 474   3_0  0.16008080  474  1   \n",
       "24 3     1       0.25119160 406   3_1  0.28567660  880  2   \n",
       "25 3     36      0.24311807 277   3_36 0.40723563 1157  3   "
      ]
     },
     "metadata": {},
     "output_type": "display_data"
    }
   ],
   "source": [
    "large.clones"
   ]
  },
  {
   "cell_type": "code",
   "execution_count": 18,
   "id": "abe394ac",
   "metadata": {
    "execution": {
     "iopub.execute_input": "2021-12-03T16:07:25.809298Z",
     "iopub.status.busy": "2021-12-03T16:07:25.805989Z",
     "iopub.status.idle": "2021-12-03T16:07:32.026427Z",
     "shell.execute_reply": "2021-12-03T16:07:32.025305Z"
    },
    "papermill": {
     "duration": 6.339412,
     "end_time": "2021-12-03T16:07:32.026667",
     "exception": false,
     "start_time": "2021-12-03T16:07:25.687255",
     "status": "completed"
    },
    "scrolled": false,
    "tags": []
   },
   "outputs": [
    {
     "data": {
      "text/plain": [
       "An object of class Seurat \n",
       "170811 features across 5353 samples within 4 assays \n",
       "Active assay: chromvarnames (633 features, 0 variable features)\n",
       " 3 other assays present: ATAC, RNA, chromvar\n",
       " 2 dimensional reductions calculated: integrated_lsi, umap"
      ]
     },
     "metadata": {},
     "output_type": "display_data"
    }
   ],
   "source": [
    "se <- subset(se, subset= name %in% factor(large.clones$name))\n",
    "se"
   ]
  },
  {
   "cell_type": "code",
   "execution_count": 19,
   "id": "cca27e11",
   "metadata": {
    "execution": {
     "iopub.execute_input": "2021-12-03T16:07:32.289498Z",
     "iopub.status.busy": "2021-12-03T16:07:32.286605Z",
     "iopub.status.idle": "2021-12-03T16:08:27.491628Z",
     "shell.execute_reply": "2021-12-03T16:08:27.490479Z"
    },
    "papermill": {
     "duration": 55.323589,
     "end_time": "2021-12-03T16:08:27.491870",
     "exception": false,
     "start_time": "2021-12-03T16:07:32.168281",
     "status": "completed"
    },
    "tags": []
   },
   "outputs": [],
   "source": [
    "saveRDS(object=se, file=file.path(outdir, \"se.clonesfilt.rds\"))    "
   ]
  },
  {
   "cell_type": "markdown",
   "id": "1aa2150f",
   "metadata": {
    "papermill": {
     "duration": 0.115076,
     "end_time": "2021-12-03T16:08:27.751955",
     "exception": false,
     "start_time": "2021-12-03T16:08:27.636879",
     "status": "completed"
    },
    "tags": []
   },
   "source": [
    "## Run DE"
   ]
  },
  {
   "cell_type": "code",
   "execution_count": 20,
   "id": "9c5b398c",
   "metadata": {
    "execution": {
     "iopub.execute_input": "2021-12-03T16:08:27.984206Z",
     "iopub.status.busy": "2021-12-03T16:08:27.980690Z",
     "iopub.status.idle": "2021-12-03T16:08:27.998091Z",
     "shell.execute_reply": "2021-12-03T16:08:27.996873Z"
    },
    "papermill": {
     "duration": 0.136031,
     "end_time": "2021-12-03T16:08:27.998335",
     "exception": false,
     "start_time": "2021-12-03T16:08:27.862304",
     "status": "completed"
    },
    "scrolled": true,
    "tags": []
   },
   "outputs": [],
   "source": [
    "# for (d in 0:(n_donors-1)){\n",
    "#     print('donor')\n",
    "#     print(d)\n",
    "#     curr.outdir <- file.path(outdir, paste0(\"donor\", d, \"_TF\"))\n",
    "#     dir.create(curr.outdir)\n",
    "#     donor.large.clones <- large.clones %>% filter(donor==d)\n",
    "#     clones.filt.ids <- sort(donor.large.clones$lineage)\n",
    "#     print('clones')\n",
    "#     print(clones.filt.ids)\n",
    "#     print(length(clones.filt.ids))\n",
    "#     se.filt <- subset(se, subset = (donor==d) & (lineage %in% donor.large.clones$lineage))\n",
    "#     Idents(se.filt) <- se.filt$lineage  \n",
    "#     print('se.filt')\n",
    "#     print(dim(se.filt[[]]))\n",
    "\n",
    "#     pairs = combn(clones.filt.ids,2)\n",
    "#     for (i in 1:dim(combn(clones.filt.ids,2))[2]){\n",
    "#         DefaultAssay(se.filt) <- \"chromvarnames\"\n",
    "#         print(pairs[,i])\n",
    "#         try({\n",
    "#             print(paste(\"clones\", i))\n",
    "#             a = pairs[1,i]\n",
    "#             b = pairs[2,i]\n",
    "#             da <- FindMarkers(\n",
    "#               object = se.filt,\n",
    "#               ident.1 = a,\n",
    "#               ident.2 = b,\n",
    "#               only.pos = FALSE,\n",
    "#               mean.fxn = rowMeans,\n",
    "#               logfc.threshold = 0.1,\n",
    "#               min.pct = min_pct,\n",
    "#               latent.vars=latent.vars,\n",
    "#               fc.name = \"avg_diff\")\n",
    "#             da$p_val_adj_BH <- stats::p.adjust(da$p_val, method = \"BH\", n = length(da$p_val))\n",
    "#             write.csv(da, \n",
    "#                       file=file.path(curr.outdir, paste0(\"clones_\",a,\"__\", b,\".DE.TF.csv\")))\n",
    "#             gally <- GGally::ggpairs(da[,c(\"p_val\", \"p_val_adj\")], aes(alpha = 0.4))\n",
    "#             ggsave(object=gally, file=file.path(curr.outdir, paste0(\"clones_\",a,\"__\", b,\".DE.TF.pvalHist.png\")))\n",
    "#             #plotDE(se, da, c, clust_outdir)\n",
    "#             # Save motifs\n",
    "#             DefaultAssay(se.filt) <- \"ATAC\"\n",
    "#             raw.ids <- names(Motifs(se.filt)@motif.names)\n",
    "#             rownames(curr.tf.da) <- sapply((curr.tf.da$X), function(x){raw.ids[match(x, Motifs(se.filt)@motif.names)]})\n",
    "#             m <- MotifPlot(\n",
    "#               object = se.filt,\n",
    "#               motifs = head(rownames(curr.tf.da)),\n",
    "#               assay = 'ATAC'\n",
    "#             )\n",
    "#             ggsave(plot=m, \n",
    "#                        file=file.path(curr.outdir, paste0(\"clones_\",a,\"__\", b,\".DE.TF.motif.top.png\")))\n",
    "\n",
    "\n",
    "\n",
    "\n",
    "#     })\n",
    "#         }\n",
    "#     }"
   ]
  },
  {
   "cell_type": "code",
   "execution_count": null,
   "id": "1692a487",
   "metadata": {
    "papermill": {
     "duration": 0.111457,
     "end_time": "2021-12-03T16:08:28.224818",
     "exception": false,
     "start_time": "2021-12-03T16:08:28.113361",
     "status": "completed"
    },
    "tags": []
   },
   "outputs": [],
   "source": []
  },
  {
   "cell_type": "code",
   "execution_count": null,
   "id": "a9884ca6",
   "metadata": {
    "papermill": {
     "duration": 0.110379,
     "end_time": "2021-12-03T16:08:28.445857",
     "exception": false,
     "start_time": "2021-12-03T16:08:28.335478",
     "status": "completed"
    },
    "tags": []
   },
   "outputs": [],
   "source": []
  }
 ],
 "metadata": {
  "celltoolbar": "Tags",
  "kernelspec": {
   "display_name": "R",
   "language": "R",
   "name": "ir"
  },
  "language_info": {
   "codemirror_mode": "r",
   "file_extension": ".r",
   "mimetype": "text/x-r-source",
   "name": "R",
   "pygments_lexer": "r",
   "version": "4.1.1"
  },
  "papermill": {
   "default_parameters": {},
   "duration": 859.311156,
   "end_time": "2021-12-03T16:08:28.972860",
   "environment_variables": {},
   "exception": null,
   "input_path": "/mnt/md0/isshamie/Projects/Mito_Trace/R_scripts/annotation_clones/setup_motifs_large_clones.ipynb",
   "output_path": "/data/Mito_Trace/output/pipeline/cd34norm/MTblacklist/data/merged/MT/cellr_True/numread_200/filters/minC10_minR50_topN0_hetT0.001_hetC10_hetCount5_bq20/mgatk/vireoIn/clones/variants_mgatkdonor/knn/kparam_3/concat/annotation_clones/DE_large/output.ipynb",
   "parameters": {
    "n_donors": 4,
    "outdir": "/data/Mito_Trace/output/pipeline/cd34norm/MTblacklist/data/merged/MT/cellr_True/numread_200/filters/minC10_minR50_topN0_hetT0.001_hetC10_hetCount5_bq20/mgatk/vireoIn/clones/variants_mgatkdonor/knn/kparam_3/concat/annotation_clones/DE_large",
    "se_f": "/data/Mito_Trace/output/pipeline/cd34norm/MTblacklist/data/merged/MT/cellr_True/numread_200/filters/minC10_minR50_topN0_hetT0.001_hetC10_hetCount5_bq20/mgatk/vireoIn/clones/variants_mgatkdonor/knn/kparam_3/concat/annotation_clones/SE.rds"
   },
   "start_time": "2021-12-03T15:54:09.661704",
   "version": "2.3.3"
  }
 },
 "nbformat": 4,
 "nbformat_minor": 5
}