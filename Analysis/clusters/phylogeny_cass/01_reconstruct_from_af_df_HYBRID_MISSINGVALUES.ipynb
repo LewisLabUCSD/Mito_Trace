{
 "cells": [
  {
   "cell_type": "code",
   "execution_count": 1,
   "id": "1f4daef8",
   "metadata": {
    "scrolled": false
   },
   "outputs": [
    {
     "name": "stdout",
     "output_type": "stream",
     "text": [
      "INFO: Pandarallel will run on 32 workers.\n",
      "INFO: Pandarallel will use Memory file system to transfer data between the main process and workers.\n"
     ]
    }
   ],
   "source": [
    "import pandas as pd\n",
    "import numpy as np\n",
    "import cassiopeia as cas\n",
    "import seaborn as sns\n",
    "from os.path import join, exists\n",
    "from os import makedirs, getcwd\n",
    "from pandarallel import pandarallel\n",
    "import networkx as nx\n",
    "import matplotlib.pyplot as plt\n",
    "from networkx.drawing.nx_agraph import write_dot, graphviz_layout\n",
    "\n",
    "pandarallel.initialize(nb_workers=32)\n",
    "\n",
    "import pickle"
   ]
  },
  {
   "cell_type": "code",
   "execution_count": 2,
   "id": "155dde71",
   "metadata": {
    "tags": [
     "parameters"
    ]
   },
   "outputs": [],
   "source": [
    "af_f = \"/data2/mito_lineage/data/processed/mttrace/TcellDupi_may17_2021/MTblacklist/post/filters/minC10_minR50_topN0_hetT0.001_hetC10_hetCount5_bq20/af_by_cell.tsv\"\n",
    "dp_f = \"/data2/mito_lineage/data/processed/mttrace/TcellDupi_may17_2021/MTblacklist/post/filters/minC10_minR50_topN0_hetT0.001_hetC10_hetCount5_bq20/af_by_cell.DP.tsv\"\n",
    "ad_f = \"/data2/mito_lineage/data/processed/mttrace/TcellDupi_may17_2021/MTblacklist/post/filters/minC10_minR50_topN0_hetT0.001_hetC10_hetCount5_bq20/af_by_cell.AD.tsv\"\n",
    "#donors = \"/data2/mito_lineage/data/processed/mttrace/TcellDupi_may17_2021/MTblacklist/merged/filters/minC10_minR50_topN0_hetT0.001_hetC10_hetCount5_bq20/filter_mgatk/vireoIn/multiplex/cells_meta.tsv\"\n",
    "prefix= \"TcellDupi_may17_2021/MTblacklist\"\n",
    "name = \"post_cass_test_missingV\"\n",
    "outdir = \"./output/data/\"\n",
    "af_thresh = 0.01\n",
    "dp_thresh = 2"
   ]
  },
  {
   "cell_type": "code",
   "execution_count": 3,
   "id": "6825afcf",
   "metadata": {},
   "outputs": [],
   "source": [
    "outdir = join(outdir, prefix)\n",
    "if not exists(outdir):\n",
    "    print(f\"Making outdir {outdir} in folder {getcwd()}\")\n",
    "    makedirs(outdir)"
   ]
  },
  {
   "cell_type": "code",
   "execution_count": 4,
   "id": "39d59dab",
   "metadata": {
    "scrolled": true
   },
   "outputs": [],
   "source": [
    "af = pd.read_csv(af_f, index_col=0, sep='\\t')\n",
    "dp = pd.read_csv(dp_f, index_col=0, sep='\\t').astype(int)\n",
    "ad = pd.read_csv(ad_f, index_col=0, sep='\\t').astype(int)\n"
   ]
  },
  {
   "cell_type": "markdown",
   "id": "307e71d1",
   "metadata": {},
   "source": [
    "## Create character matrix - binarize af by af_thresh, and set any element under dp_thresh to -1"
   ]
  },
  {
   "cell_type": "code",
   "execution_count": 5,
   "id": "e0bf9693",
   "metadata": {
    "scrolled": true
   },
   "outputs": [
    {
     "data": {
      "text/html": [
       "<div>\n",
       "<style scoped>\n",
       "    .dataframe tbody tr th:only-of-type {\n",
       "        vertical-align: middle;\n",
       "    }\n",
       "\n",
       "    .dataframe tbody tr th {\n",
       "        vertical-align: top;\n",
       "    }\n",
       "\n",
       "    .dataframe thead th {\n",
       "        text-align: right;\n",
       "    }\n",
       "</style>\n",
       "<table border=\"1\" class=\"dataframe\">\n",
       "  <thead>\n",
       "    <tr style=\"text-align: right;\">\n",
       "      <th></th>\n",
       "      <th>1040C</th>\n",
       "      <th>10634C</th>\n",
       "      <th>10646T</th>\n",
       "      <th>1082G</th>\n",
       "      <th>10912A</th>\n",
       "      <th>1095C</th>\n",
       "      <th>11123A</th>\n",
       "      <th>11137C</th>\n",
       "      <th>11175C</th>\n",
       "      <th>11204A</th>\n",
       "      <th>...</th>\n",
       "      <th>9531G</th>\n",
       "      <th>954G</th>\n",
       "      <th>9590T</th>\n",
       "      <th>9640T</th>\n",
       "      <th>9658G</th>\n",
       "      <th>971C</th>\n",
       "      <th>9750A</th>\n",
       "      <th>9823A</th>\n",
       "      <th>983T</th>\n",
       "      <th>9861G</th>\n",
       "    </tr>\n",
       "    <tr>\n",
       "      <th>Cell</th>\n",
       "      <th></th>\n",
       "      <th></th>\n",
       "      <th></th>\n",
       "      <th></th>\n",
       "      <th></th>\n",
       "      <th></th>\n",
       "      <th></th>\n",
       "      <th></th>\n",
       "      <th></th>\n",
       "      <th></th>\n",
       "      <th></th>\n",
       "      <th></th>\n",
       "      <th></th>\n",
       "      <th></th>\n",
       "      <th></th>\n",
       "      <th></th>\n",
       "      <th></th>\n",
       "      <th></th>\n",
       "      <th></th>\n",
       "      <th></th>\n",
       "      <th></th>\n",
       "    </tr>\n",
       "  </thead>\n",
       "  <tbody>\n",
       "    <tr>\n",
       "      <th>AAACGAAAGAACAGGA-1</th>\n",
       "      <td>0</td>\n",
       "      <td>0</td>\n",
       "      <td>0</td>\n",
       "      <td>0</td>\n",
       "      <td>0</td>\n",
       "      <td>0</td>\n",
       "      <td>0</td>\n",
       "      <td>0</td>\n",
       "      <td>0</td>\n",
       "      <td>0</td>\n",
       "      <td>...</td>\n",
       "      <td>1</td>\n",
       "      <td>0</td>\n",
       "      <td>0</td>\n",
       "      <td>0</td>\n",
       "      <td>0</td>\n",
       "      <td>0</td>\n",
       "      <td>0</td>\n",
       "      <td>0</td>\n",
       "      <td>0</td>\n",
       "      <td>0</td>\n",
       "    </tr>\n",
       "    <tr>\n",
       "      <th>AAACGAAAGATTGACA-1</th>\n",
       "      <td>0</td>\n",
       "      <td>0</td>\n",
       "      <td>0</td>\n",
       "      <td>0</td>\n",
       "      <td>0</td>\n",
       "      <td>0</td>\n",
       "      <td>0</td>\n",
       "      <td>0</td>\n",
       "      <td>0</td>\n",
       "      <td>0</td>\n",
       "      <td>...</td>\n",
       "      <td>1</td>\n",
       "      <td>0</td>\n",
       "      <td>0</td>\n",
       "      <td>0</td>\n",
       "      <td>0</td>\n",
       "      <td>0</td>\n",
       "      <td>0</td>\n",
       "      <td>0</td>\n",
       "      <td>0</td>\n",
       "      <td>0</td>\n",
       "    </tr>\n",
       "    <tr>\n",
       "      <th>AAACGAAAGCGTTGCC-1</th>\n",
       "      <td>0</td>\n",
       "      <td>0</td>\n",
       "      <td>0</td>\n",
       "      <td>0</td>\n",
       "      <td>0</td>\n",
       "      <td>0</td>\n",
       "      <td>0</td>\n",
       "      <td>0</td>\n",
       "      <td>0</td>\n",
       "      <td>0</td>\n",
       "      <td>...</td>\n",
       "      <td>0</td>\n",
       "      <td>0</td>\n",
       "      <td>0</td>\n",
       "      <td>0</td>\n",
       "      <td>0</td>\n",
       "      <td>0</td>\n",
       "      <td>0</td>\n",
       "      <td>0</td>\n",
       "      <td>0</td>\n",
       "      <td>0</td>\n",
       "    </tr>\n",
       "    <tr>\n",
       "      <th>AAACGAAAGGTACTCT-1</th>\n",
       "      <td>0</td>\n",
       "      <td>0</td>\n",
       "      <td>0</td>\n",
       "      <td>0</td>\n",
       "      <td>0</td>\n",
       "      <td>0</td>\n",
       "      <td>0</td>\n",
       "      <td>0</td>\n",
       "      <td>0</td>\n",
       "      <td>0</td>\n",
       "      <td>...</td>\n",
       "      <td>1</td>\n",
       "      <td>0</td>\n",
       "      <td>0</td>\n",
       "      <td>0</td>\n",
       "      <td>0</td>\n",
       "      <td>0</td>\n",
       "      <td>0</td>\n",
       "      <td>0</td>\n",
       "      <td>1</td>\n",
       "      <td>0</td>\n",
       "    </tr>\n",
       "    <tr>\n",
       "      <th>AAACGAAAGGTTAACA-1</th>\n",
       "      <td>0</td>\n",
       "      <td>0</td>\n",
       "      <td>0</td>\n",
       "      <td>0</td>\n",
       "      <td>0</td>\n",
       "      <td>0</td>\n",
       "      <td>1</td>\n",
       "      <td>0</td>\n",
       "      <td>0</td>\n",
       "      <td>0</td>\n",
       "      <td>...</td>\n",
       "      <td>0</td>\n",
       "      <td>0</td>\n",
       "      <td>0</td>\n",
       "      <td>0</td>\n",
       "      <td>0</td>\n",
       "      <td>0</td>\n",
       "      <td>0</td>\n",
       "      <td>0</td>\n",
       "      <td>0</td>\n",
       "      <td>0</td>\n",
       "    </tr>\n",
       "    <tr>\n",
       "      <th>...</th>\n",
       "      <td>...</td>\n",
       "      <td>...</td>\n",
       "      <td>...</td>\n",
       "      <td>...</td>\n",
       "      <td>...</td>\n",
       "      <td>...</td>\n",
       "      <td>...</td>\n",
       "      <td>...</td>\n",
       "      <td>...</td>\n",
       "      <td>...</td>\n",
       "      <td>...</td>\n",
       "      <td>...</td>\n",
       "      <td>...</td>\n",
       "      <td>...</td>\n",
       "      <td>...</td>\n",
       "      <td>...</td>\n",
       "      <td>...</td>\n",
       "      <td>...</td>\n",
       "      <td>...</td>\n",
       "      <td>...</td>\n",
       "      <td>...</td>\n",
       "    </tr>\n",
       "    <tr>\n",
       "      <th>TTTGTGTTCCGGAAAG-1</th>\n",
       "      <td>0</td>\n",
       "      <td>0</td>\n",
       "      <td>0</td>\n",
       "      <td>0</td>\n",
       "      <td>0</td>\n",
       "      <td>0</td>\n",
       "      <td>0</td>\n",
       "      <td>0</td>\n",
       "      <td>0</td>\n",
       "      <td>0</td>\n",
       "      <td>...</td>\n",
       "      <td>1</td>\n",
       "      <td>0</td>\n",
       "      <td>0</td>\n",
       "      <td>0</td>\n",
       "      <td>0</td>\n",
       "      <td>0</td>\n",
       "      <td>0</td>\n",
       "      <td>0</td>\n",
       "      <td>0</td>\n",
       "      <td>0</td>\n",
       "    </tr>\n",
       "    <tr>\n",
       "      <th>TTTGTGTTCCTGACCT-1</th>\n",
       "      <td>0</td>\n",
       "      <td>0</td>\n",
       "      <td>0</td>\n",
       "      <td>0</td>\n",
       "      <td>0</td>\n",
       "      <td>0</td>\n",
       "      <td>0</td>\n",
       "      <td>0</td>\n",
       "      <td>0</td>\n",
       "      <td>0</td>\n",
       "      <td>...</td>\n",
       "      <td>1</td>\n",
       "      <td>0</td>\n",
       "      <td>0</td>\n",
       "      <td>0</td>\n",
       "      <td>0</td>\n",
       "      <td>0</td>\n",
       "      <td>0</td>\n",
       "      <td>0</td>\n",
       "      <td>0</td>\n",
       "      <td>0</td>\n",
       "    </tr>\n",
       "    <tr>\n",
       "      <th>TTTGTGTTCGGATGTT-1</th>\n",
       "      <td>0</td>\n",
       "      <td>0</td>\n",
       "      <td>0</td>\n",
       "      <td>0</td>\n",
       "      <td>0</td>\n",
       "      <td>0</td>\n",
       "      <td>0</td>\n",
       "      <td>0</td>\n",
       "      <td>0</td>\n",
       "      <td>0</td>\n",
       "      <td>...</td>\n",
       "      <td>0</td>\n",
       "      <td>0</td>\n",
       "      <td>0</td>\n",
       "      <td>0</td>\n",
       "      <td>0</td>\n",
       "      <td>0</td>\n",
       "      <td>0</td>\n",
       "      <td>0</td>\n",
       "      <td>0</td>\n",
       "      <td>0</td>\n",
       "    </tr>\n",
       "    <tr>\n",
       "      <th>TTTGTGTTCTTAATCC-1</th>\n",
       "      <td>0</td>\n",
       "      <td>0</td>\n",
       "      <td>0</td>\n",
       "      <td>0</td>\n",
       "      <td>0</td>\n",
       "      <td>1</td>\n",
       "      <td>0</td>\n",
       "      <td>0</td>\n",
       "      <td>0</td>\n",
       "      <td>0</td>\n",
       "      <td>...</td>\n",
       "      <td>1</td>\n",
       "      <td>0</td>\n",
       "      <td>0</td>\n",
       "      <td>0</td>\n",
       "      <td>0</td>\n",
       "      <td>0</td>\n",
       "      <td>0</td>\n",
       "      <td>0</td>\n",
       "      <td>0</td>\n",
       "      <td>0</td>\n",
       "    </tr>\n",
       "    <tr>\n",
       "      <th>TTTGTGTTCTTGCGCT-1</th>\n",
       "      <td>0</td>\n",
       "      <td>0</td>\n",
       "      <td>0</td>\n",
       "      <td>0</td>\n",
       "      <td>0</td>\n",
       "      <td>0</td>\n",
       "      <td>0</td>\n",
       "      <td>0</td>\n",
       "      <td>0</td>\n",
       "      <td>0</td>\n",
       "      <td>...</td>\n",
       "      <td>0</td>\n",
       "      <td>0</td>\n",
       "      <td>0</td>\n",
       "      <td>0</td>\n",
       "      <td>0</td>\n",
       "      <td>0</td>\n",
       "      <td>0</td>\n",
       "      <td>0</td>\n",
       "      <td>0</td>\n",
       "      <td>0</td>\n",
       "    </tr>\n",
       "  </tbody>\n",
       "</table>\n",
       "<p>10051 rows × 268 columns</p>\n",
       "</div>"
      ],
      "text/plain": [
       "                    1040C  10634C  10646T  1082G  10912A  1095C  11123A  \\\n",
       "Cell                                                                      \n",
       "AAACGAAAGAACAGGA-1      0       0       0      0       0      0       0   \n",
       "AAACGAAAGATTGACA-1      0       0       0      0       0      0       0   \n",
       "AAACGAAAGCGTTGCC-1      0       0       0      0       0      0       0   \n",
       "AAACGAAAGGTACTCT-1      0       0       0      0       0      0       0   \n",
       "AAACGAAAGGTTAACA-1      0       0       0      0       0      0       1   \n",
       "...                   ...     ...     ...    ...     ...    ...     ...   \n",
       "TTTGTGTTCCGGAAAG-1      0       0       0      0       0      0       0   \n",
       "TTTGTGTTCCTGACCT-1      0       0       0      0       0      0       0   \n",
       "TTTGTGTTCGGATGTT-1      0       0       0      0       0      0       0   \n",
       "TTTGTGTTCTTAATCC-1      0       0       0      0       0      1       0   \n",
       "TTTGTGTTCTTGCGCT-1      0       0       0      0       0      0       0   \n",
       "\n",
       "                    11137C  11175C  11204A  ...  9531G  954G  9590T  9640T  \\\n",
       "Cell                                        ...                              \n",
       "AAACGAAAGAACAGGA-1       0       0       0  ...      1     0      0      0   \n",
       "AAACGAAAGATTGACA-1       0       0       0  ...      1     0      0      0   \n",
       "AAACGAAAGCGTTGCC-1       0       0       0  ...      0     0      0      0   \n",
       "AAACGAAAGGTACTCT-1       0       0       0  ...      1     0      0      0   \n",
       "AAACGAAAGGTTAACA-1       0       0       0  ...      0     0      0      0   \n",
       "...                    ...     ...     ...  ...    ...   ...    ...    ...   \n",
       "TTTGTGTTCCGGAAAG-1       0       0       0  ...      1     0      0      0   \n",
       "TTTGTGTTCCTGACCT-1       0       0       0  ...      1     0      0      0   \n",
       "TTTGTGTTCGGATGTT-1       0       0       0  ...      0     0      0      0   \n",
       "TTTGTGTTCTTAATCC-1       0       0       0  ...      1     0      0      0   \n",
       "TTTGTGTTCTTGCGCT-1       0       0       0  ...      0     0      0      0   \n",
       "\n",
       "                    9658G  971C  9750A  9823A  983T  9861G  \n",
       "Cell                                                        \n",
       "AAACGAAAGAACAGGA-1      0     0      0      0     0      0  \n",
       "AAACGAAAGATTGACA-1      0     0      0      0     0      0  \n",
       "AAACGAAAGCGTTGCC-1      0     0      0      0     0      0  \n",
       "AAACGAAAGGTACTCT-1      0     0      0      0     1      0  \n",
       "AAACGAAAGGTTAACA-1      0     0      0      0     0      0  \n",
       "...                   ...   ...    ...    ...   ...    ...  \n",
       "TTTGTGTTCCGGAAAG-1      0     0      0      0     0      0  \n",
       "TTTGTGTTCCTGACCT-1      0     0      0      0     0      0  \n",
       "TTTGTGTTCGGATGTT-1      0     0      0      0     0      0  \n",
       "TTTGTGTTCTTAATCC-1      0     0      0      0     0      0  \n",
       "TTTGTGTTCTTGCGCT-1      0     0      0      0     0      0  \n",
       "\n",
       "[10051 rows x 268 columns]"
      ]
     },
     "execution_count": 5,
     "metadata": {},
     "output_type": "execute_result"
    }
   ],
   "source": [
    "#Binarize\n",
    "af = af.applymap(lambda x: 0 if x<af_thresh else 1)\n",
    "af"
   ]
  },
  {
   "cell_type": "markdown",
   "id": "66a03097",
   "metadata": {},
   "source": [
    "## Log fraction of 0s for af and dp"
   ]
  },
  {
   "cell_type": "code",
   "execution_count": 6,
   "id": "4ccde2dc",
   "metadata": {
    "scrolled": true
   },
   "outputs": [
    {
     "name": "stdout",
     "output_type": "stream",
     "text": [
      "2403838\n",
      "2693668\n"
     ]
    },
    {
     "data": {
      "text/plain": [
       "0.8924032211839024"
      ]
     },
     "execution_count": 6,
     "metadata": {},
     "output_type": "execute_result"
    }
   ],
   "source": [
    "print((af == 0).sum().sum())\n",
    "\n",
    "print(af.shape[0]*af.shape[1])\n",
    "\n",
    "(af == 0).sum().sum()/(af.shape[0]*af.shape[1])"
   ]
  },
  {
   "cell_type": "code",
   "execution_count": 7,
   "id": "358b5d06",
   "metadata": {
    "scrolled": true
   },
   "outputs": [
    {
     "name": "stdout",
     "output_type": "stream",
     "text": [
      "2356952\n",
      "2693668\n"
     ]
    },
    {
     "data": {
      "text/plain": [
       "0.8749972156925055"
      ]
     },
     "execution_count": 7,
     "metadata": {},
     "output_type": "execute_result"
    }
   ],
   "source": [
    "print((dp == 0).sum().sum())\n",
    "\n",
    "print(dp.shape[0]*dp.shape[1])\n",
    "\n",
    "(dp == 0).sum().sum()/(dp.shape[0]*dp.shape[1])"
   ]
  },
  {
   "cell_type": "code",
   "execution_count": 8,
   "id": "16098cea",
   "metadata": {
    "scrolled": true
   },
   "outputs": [],
   "source": [
    "def dp_where(x, dp, dp_thresh):\n",
    "#    print('name', x.name)\n",
    "    curr = dp.loc[x.name]<dp_thresh\n",
    "    x.loc[curr] = -1 #\"-\"\n",
    "    return x\n",
    "af = af.parallel_apply(dp_where, axis=1, args=(dp, dp_thresh))"
   ]
  },
  {
   "cell_type": "markdown",
   "id": "8ae41132",
   "metadata": {},
   "source": [
    "## Few are just empty AFs, most dont have enough depth"
   ]
  },
  {
   "cell_type": "code",
   "execution_count": 9,
   "id": "1a26b4a5",
   "metadata": {
    "scrolled": false
   },
   "outputs": [
    {
     "name": "stdout",
     "output_type": "stream",
     "text": [
      "Number of afs as 0 0.017405634250397598\n",
      "2356953\n",
      "2693668\n"
     ]
    },
    {
     "data": {
      "text/plain": [
       "0.8749975869335048"
      ]
     },
     "execution_count": 9,
     "metadata": {},
     "output_type": "execute_result"
    }
   ],
   "source": [
    "print(\"Number of afs as 0\",(af == 0).sum().sum()/(af.shape[0]*af.shape[1]))\n",
    "\n",
    "print((af == -1).sum().sum())\n",
    "\n",
    "print(af.shape[0]*af.shape[1])\n",
    "\n",
    "(af == -1).sum().sum()/(af.shape[0]*af.shape[1])"
   ]
  },
  {
   "cell_type": "code",
   "execution_count": 10,
   "id": "31f03769",
   "metadata": {
    "scrolled": true
   },
   "outputs": [
    {
     "data": {
      "text/html": [
       "<div>\n",
       "<style scoped>\n",
       "    .dataframe tbody tr th:only-of-type {\n",
       "        vertical-align: middle;\n",
       "    }\n",
       "\n",
       "    .dataframe tbody tr th {\n",
       "        vertical-align: top;\n",
       "    }\n",
       "\n",
       "    .dataframe thead th {\n",
       "        text-align: right;\n",
       "    }\n",
       "</style>\n",
       "<table border=\"1\" class=\"dataframe\">\n",
       "  <thead>\n",
       "    <tr style=\"text-align: right;\">\n",
       "      <th></th>\n",
       "      <th>1040C</th>\n",
       "      <th>10634C</th>\n",
       "      <th>10646T</th>\n",
       "      <th>1082G</th>\n",
       "      <th>10912A</th>\n",
       "      <th>1095C</th>\n",
       "      <th>11123A</th>\n",
       "      <th>11137C</th>\n",
       "      <th>11175C</th>\n",
       "      <th>11204A</th>\n",
       "      <th>...</th>\n",
       "      <th>9531G</th>\n",
       "      <th>954G</th>\n",
       "      <th>9590T</th>\n",
       "      <th>9640T</th>\n",
       "      <th>9658G</th>\n",
       "      <th>971C</th>\n",
       "      <th>9750A</th>\n",
       "      <th>9823A</th>\n",
       "      <th>983T</th>\n",
       "      <th>9861G</th>\n",
       "    </tr>\n",
       "    <tr>\n",
       "      <th>Cell</th>\n",
       "      <th></th>\n",
       "      <th></th>\n",
       "      <th></th>\n",
       "      <th></th>\n",
       "      <th></th>\n",
       "      <th></th>\n",
       "      <th></th>\n",
       "      <th></th>\n",
       "      <th></th>\n",
       "      <th></th>\n",
       "      <th></th>\n",
       "      <th></th>\n",
       "      <th></th>\n",
       "      <th></th>\n",
       "      <th></th>\n",
       "      <th></th>\n",
       "      <th></th>\n",
       "      <th></th>\n",
       "      <th></th>\n",
       "      <th></th>\n",
       "      <th></th>\n",
       "    </tr>\n",
       "  </thead>\n",
       "  <tbody>\n",
       "    <tr>\n",
       "      <th>AAACGAAAGAACAGGA-1</th>\n",
       "      <td>-1</td>\n",
       "      <td>0</td>\n",
       "      <td>-1</td>\n",
       "      <td>-1</td>\n",
       "      <td>-1</td>\n",
       "      <td>-1</td>\n",
       "      <td>-1</td>\n",
       "      <td>-1</td>\n",
       "      <td>-1</td>\n",
       "      <td>-1</td>\n",
       "      <td>...</td>\n",
       "      <td>1</td>\n",
       "      <td>-1</td>\n",
       "      <td>-1</td>\n",
       "      <td>-1</td>\n",
       "      <td>-1</td>\n",
       "      <td>-1</td>\n",
       "      <td>-1</td>\n",
       "      <td>-1</td>\n",
       "      <td>-1</td>\n",
       "      <td>-1</td>\n",
       "    </tr>\n",
       "    <tr>\n",
       "      <th>AAACGAAAGATTGACA-1</th>\n",
       "      <td>-1</td>\n",
       "      <td>-1</td>\n",
       "      <td>-1</td>\n",
       "      <td>-1</td>\n",
       "      <td>-1</td>\n",
       "      <td>-1</td>\n",
       "      <td>-1</td>\n",
       "      <td>-1</td>\n",
       "      <td>-1</td>\n",
       "      <td>-1</td>\n",
       "      <td>...</td>\n",
       "      <td>1</td>\n",
       "      <td>-1</td>\n",
       "      <td>-1</td>\n",
       "      <td>-1</td>\n",
       "      <td>-1</td>\n",
       "      <td>-1</td>\n",
       "      <td>-1</td>\n",
       "      <td>-1</td>\n",
       "      <td>-1</td>\n",
       "      <td>-1</td>\n",
       "    </tr>\n",
       "    <tr>\n",
       "      <th>AAACGAAAGCGTTGCC-1</th>\n",
       "      <td>-1</td>\n",
       "      <td>-1</td>\n",
       "      <td>-1</td>\n",
       "      <td>-1</td>\n",
       "      <td>-1</td>\n",
       "      <td>-1</td>\n",
       "      <td>-1</td>\n",
       "      <td>-1</td>\n",
       "      <td>-1</td>\n",
       "      <td>-1</td>\n",
       "      <td>...</td>\n",
       "      <td>-1</td>\n",
       "      <td>-1</td>\n",
       "      <td>-1</td>\n",
       "      <td>-1</td>\n",
       "      <td>-1</td>\n",
       "      <td>-1</td>\n",
       "      <td>-1</td>\n",
       "      <td>-1</td>\n",
       "      <td>-1</td>\n",
       "      <td>-1</td>\n",
       "    </tr>\n",
       "    <tr>\n",
       "      <th>AAACGAAAGGTACTCT-1</th>\n",
       "      <td>-1</td>\n",
       "      <td>-1</td>\n",
       "      <td>-1</td>\n",
       "      <td>-1</td>\n",
       "      <td>-1</td>\n",
       "      <td>-1</td>\n",
       "      <td>-1</td>\n",
       "      <td>-1</td>\n",
       "      <td>-1</td>\n",
       "      <td>-1</td>\n",
       "      <td>...</td>\n",
       "      <td>1</td>\n",
       "      <td>-1</td>\n",
       "      <td>-1</td>\n",
       "      <td>-1</td>\n",
       "      <td>-1</td>\n",
       "      <td>-1</td>\n",
       "      <td>-1</td>\n",
       "      <td>-1</td>\n",
       "      <td>1</td>\n",
       "      <td>-1</td>\n",
       "    </tr>\n",
       "    <tr>\n",
       "      <th>AAACGAAAGGTTAACA-1</th>\n",
       "      <td>-1</td>\n",
       "      <td>-1</td>\n",
       "      <td>-1</td>\n",
       "      <td>-1</td>\n",
       "      <td>-1</td>\n",
       "      <td>-1</td>\n",
       "      <td>1</td>\n",
       "      <td>0</td>\n",
       "      <td>-1</td>\n",
       "      <td>-1</td>\n",
       "      <td>...</td>\n",
       "      <td>-1</td>\n",
       "      <td>-1</td>\n",
       "      <td>-1</td>\n",
       "      <td>-1</td>\n",
       "      <td>-1</td>\n",
       "      <td>-1</td>\n",
       "      <td>-1</td>\n",
       "      <td>-1</td>\n",
       "      <td>-1</td>\n",
       "      <td>-1</td>\n",
       "    </tr>\n",
       "    <tr>\n",
       "      <th>...</th>\n",
       "      <td>...</td>\n",
       "      <td>...</td>\n",
       "      <td>...</td>\n",
       "      <td>...</td>\n",
       "      <td>...</td>\n",
       "      <td>...</td>\n",
       "      <td>...</td>\n",
       "      <td>...</td>\n",
       "      <td>...</td>\n",
       "      <td>...</td>\n",
       "      <td>...</td>\n",
       "      <td>...</td>\n",
       "      <td>...</td>\n",
       "      <td>...</td>\n",
       "      <td>...</td>\n",
       "      <td>...</td>\n",
       "      <td>...</td>\n",
       "      <td>...</td>\n",
       "      <td>...</td>\n",
       "      <td>...</td>\n",
       "      <td>...</td>\n",
       "    </tr>\n",
       "    <tr>\n",
       "      <th>TTTGTGTTCCGGAAAG-1</th>\n",
       "      <td>-1</td>\n",
       "      <td>-1</td>\n",
       "      <td>-1</td>\n",
       "      <td>-1</td>\n",
       "      <td>-1</td>\n",
       "      <td>-1</td>\n",
       "      <td>-1</td>\n",
       "      <td>-1</td>\n",
       "      <td>-1</td>\n",
       "      <td>-1</td>\n",
       "      <td>...</td>\n",
       "      <td>1</td>\n",
       "      <td>-1</td>\n",
       "      <td>-1</td>\n",
       "      <td>-1</td>\n",
       "      <td>-1</td>\n",
       "      <td>-1</td>\n",
       "      <td>-1</td>\n",
       "      <td>-1</td>\n",
       "      <td>-1</td>\n",
       "      <td>-1</td>\n",
       "    </tr>\n",
       "    <tr>\n",
       "      <th>TTTGTGTTCCTGACCT-1</th>\n",
       "      <td>-1</td>\n",
       "      <td>-1</td>\n",
       "      <td>-1</td>\n",
       "      <td>-1</td>\n",
       "      <td>-1</td>\n",
       "      <td>-1</td>\n",
       "      <td>-1</td>\n",
       "      <td>-1</td>\n",
       "      <td>-1</td>\n",
       "      <td>-1</td>\n",
       "      <td>...</td>\n",
       "      <td>1</td>\n",
       "      <td>-1</td>\n",
       "      <td>-1</td>\n",
       "      <td>-1</td>\n",
       "      <td>-1</td>\n",
       "      <td>-1</td>\n",
       "      <td>-1</td>\n",
       "      <td>-1</td>\n",
       "      <td>-1</td>\n",
       "      <td>-1</td>\n",
       "    </tr>\n",
       "    <tr>\n",
       "      <th>TTTGTGTTCGGATGTT-1</th>\n",
       "      <td>-1</td>\n",
       "      <td>-1</td>\n",
       "      <td>-1</td>\n",
       "      <td>-1</td>\n",
       "      <td>-1</td>\n",
       "      <td>-1</td>\n",
       "      <td>-1</td>\n",
       "      <td>-1</td>\n",
       "      <td>-1</td>\n",
       "      <td>-1</td>\n",
       "      <td>...</td>\n",
       "      <td>-1</td>\n",
       "      <td>-1</td>\n",
       "      <td>-1</td>\n",
       "      <td>-1</td>\n",
       "      <td>-1</td>\n",
       "      <td>-1</td>\n",
       "      <td>-1</td>\n",
       "      <td>-1</td>\n",
       "      <td>-1</td>\n",
       "      <td>-1</td>\n",
       "    </tr>\n",
       "    <tr>\n",
       "      <th>TTTGTGTTCTTAATCC-1</th>\n",
       "      <td>-1</td>\n",
       "      <td>-1</td>\n",
       "      <td>-1</td>\n",
       "      <td>-1</td>\n",
       "      <td>-1</td>\n",
       "      <td>1</td>\n",
       "      <td>-1</td>\n",
       "      <td>-1</td>\n",
       "      <td>-1</td>\n",
       "      <td>-1</td>\n",
       "      <td>...</td>\n",
       "      <td>1</td>\n",
       "      <td>-1</td>\n",
       "      <td>-1</td>\n",
       "      <td>-1</td>\n",
       "      <td>-1</td>\n",
       "      <td>-1</td>\n",
       "      <td>-1</td>\n",
       "      <td>-1</td>\n",
       "      <td>-1</td>\n",
       "      <td>-1</td>\n",
       "    </tr>\n",
       "    <tr>\n",
       "      <th>TTTGTGTTCTTGCGCT-1</th>\n",
       "      <td>-1</td>\n",
       "      <td>-1</td>\n",
       "      <td>-1</td>\n",
       "      <td>-1</td>\n",
       "      <td>-1</td>\n",
       "      <td>-1</td>\n",
       "      <td>-1</td>\n",
       "      <td>-1</td>\n",
       "      <td>-1</td>\n",
       "      <td>-1</td>\n",
       "      <td>...</td>\n",
       "      <td>-1</td>\n",
       "      <td>-1</td>\n",
       "      <td>0</td>\n",
       "      <td>-1</td>\n",
       "      <td>-1</td>\n",
       "      <td>-1</td>\n",
       "      <td>-1</td>\n",
       "      <td>-1</td>\n",
       "      <td>-1</td>\n",
       "      <td>-1</td>\n",
       "    </tr>\n",
       "  </tbody>\n",
       "</table>\n",
       "<p>10051 rows × 268 columns</p>\n",
       "</div>"
      ],
      "text/plain": [
       "                    1040C  10634C  10646T  1082G  10912A  1095C  11123A  \\\n",
       "Cell                                                                      \n",
       "AAACGAAAGAACAGGA-1     -1       0      -1     -1      -1     -1      -1   \n",
       "AAACGAAAGATTGACA-1     -1      -1      -1     -1      -1     -1      -1   \n",
       "AAACGAAAGCGTTGCC-1     -1      -1      -1     -1      -1     -1      -1   \n",
       "AAACGAAAGGTACTCT-1     -1      -1      -1     -1      -1     -1      -1   \n",
       "AAACGAAAGGTTAACA-1     -1      -1      -1     -1      -1     -1       1   \n",
       "...                   ...     ...     ...    ...     ...    ...     ...   \n",
       "TTTGTGTTCCGGAAAG-1     -1      -1      -1     -1      -1     -1      -1   \n",
       "TTTGTGTTCCTGACCT-1     -1      -1      -1     -1      -1     -1      -1   \n",
       "TTTGTGTTCGGATGTT-1     -1      -1      -1     -1      -1     -1      -1   \n",
       "TTTGTGTTCTTAATCC-1     -1      -1      -1     -1      -1      1      -1   \n",
       "TTTGTGTTCTTGCGCT-1     -1      -1      -1     -1      -1     -1      -1   \n",
       "\n",
       "                    11137C  11175C  11204A  ...  9531G  954G  9590T  9640T  \\\n",
       "Cell                                        ...                              \n",
       "AAACGAAAGAACAGGA-1      -1      -1      -1  ...      1    -1     -1     -1   \n",
       "AAACGAAAGATTGACA-1      -1      -1      -1  ...      1    -1     -1     -1   \n",
       "AAACGAAAGCGTTGCC-1      -1      -1      -1  ...     -1    -1     -1     -1   \n",
       "AAACGAAAGGTACTCT-1      -1      -1      -1  ...      1    -1     -1     -1   \n",
       "AAACGAAAGGTTAACA-1       0      -1      -1  ...     -1    -1     -1     -1   \n",
       "...                    ...     ...     ...  ...    ...   ...    ...    ...   \n",
       "TTTGTGTTCCGGAAAG-1      -1      -1      -1  ...      1    -1     -1     -1   \n",
       "TTTGTGTTCCTGACCT-1      -1      -1      -1  ...      1    -1     -1     -1   \n",
       "TTTGTGTTCGGATGTT-1      -1      -1      -1  ...     -1    -1     -1     -1   \n",
       "TTTGTGTTCTTAATCC-1      -1      -1      -1  ...      1    -1     -1     -1   \n",
       "TTTGTGTTCTTGCGCT-1      -1      -1      -1  ...     -1    -1      0     -1   \n",
       "\n",
       "                    9658G  971C  9750A  9823A  983T  9861G  \n",
       "Cell                                                        \n",
       "AAACGAAAGAACAGGA-1     -1    -1     -1     -1    -1     -1  \n",
       "AAACGAAAGATTGACA-1     -1    -1     -1     -1    -1     -1  \n",
       "AAACGAAAGCGTTGCC-1     -1    -1     -1     -1    -1     -1  \n",
       "AAACGAAAGGTACTCT-1     -1    -1     -1     -1     1     -1  \n",
       "AAACGAAAGGTTAACA-1     -1    -1     -1     -1    -1     -1  \n",
       "...                   ...   ...    ...    ...   ...    ...  \n",
       "TTTGTGTTCCGGAAAG-1     -1    -1     -1     -1    -1     -1  \n",
       "TTTGTGTTCCTGACCT-1     -1    -1     -1     -1    -1     -1  \n",
       "TTTGTGTTCGGATGTT-1     -1    -1     -1     -1    -1     -1  \n",
       "TTTGTGTTCTTAATCC-1     -1    -1     -1     -1    -1     -1  \n",
       "TTTGTGTTCTTGCGCT-1     -1    -1     -1     -1    -1     -1  \n",
       "\n",
       "[10051 rows x 268 columns]"
      ]
     },
     "execution_count": 10,
     "metadata": {},
     "output_type": "execute_result"
    }
   ],
   "source": [
    "character_matrix = af.copy()\n",
    "#character_matrix = af.parallel_apply(dp_where, axis=1, args=(dp,dp_thresh))\n",
    "character_matrix"
   ]
  },
  {
   "cell_type": "markdown",
   "id": "3f96f8c2",
   "metadata": {},
   "source": [
    "## Each cell has at least one variant, and each variant seen in each cell (following 2 lines)"
   ]
  },
  {
   "cell_type": "code",
   "execution_count": 11,
   "id": "b1e24ecb",
   "metadata": {},
   "outputs": [
    {
     "data": {
      "text/plain": [
       "False"
      ]
     },
     "execution_count": 11,
     "metadata": {},
     "output_type": "execute_result"
    }
   ],
   "source": [
    "((character_matrix==0) | (character_matrix==-1)).all(axis=0).any()"
   ]
  },
  {
   "cell_type": "code",
   "execution_count": 12,
   "id": "42502ec3",
   "metadata": {},
   "outputs": [
    {
     "data": {
      "text/plain": [
       "False"
      ]
     },
     "execution_count": 12,
     "metadata": {},
     "output_type": "execute_result"
    }
   ],
   "source": [
    "((character_matrix==0) | (character_matrix==-1)).all(axis=1).any()"
   ]
  },
  {
   "cell_type": "markdown",
   "id": "a69a535f",
   "metadata": {},
   "source": [
    "## Rename variants"
   ]
  },
  {
   "cell_type": "code",
   "execution_count": 13,
   "id": "9e712132",
   "metadata": {},
   "outputs": [],
   "source": [
    "var_map = {val:f\"r{i}\" for i, val in enumerate(character_matrix.columns) }\n",
    "character_matrix = character_matrix.rename(var_map, axis=1)"
   ]
  },
  {
   "cell_type": "code",
   "execution_count": 14,
   "id": "993b7c25",
   "metadata": {},
   "outputs": [],
   "source": [
    "character_matrix.to_csv(join(outdir, \"missing.csv\"))"
   ]
  },
  {
   "cell_type": "markdown",
   "id": "9db7a1cc",
   "metadata": {},
   "source": [
    "## Reconstructing Trees"
   ]
  },
  {
   "cell_type": "code",
   "execution_count": 15,
   "id": "2a38ee11",
   "metadata": {
    "scrolled": true
   },
   "outputs": [
    {
     "data": {
      "text/html": [
       "<div>\n",
       "<style scoped>\n",
       "    .dataframe tbody tr th:only-of-type {\n",
       "        vertical-align: middle;\n",
       "    }\n",
       "\n",
       "    .dataframe tbody tr th {\n",
       "        vertical-align: top;\n",
       "    }\n",
       "\n",
       "    .dataframe thead th {\n",
       "        text-align: right;\n",
       "    }\n",
       "</style>\n",
       "<table border=\"1\" class=\"dataframe\">\n",
       "  <thead>\n",
       "    <tr style=\"text-align: right;\">\n",
       "      <th></th>\n",
       "      <th>r0</th>\n",
       "      <th>r1</th>\n",
       "      <th>r2</th>\n",
       "      <th>r3</th>\n",
       "      <th>r4</th>\n",
       "      <th>r5</th>\n",
       "      <th>r6</th>\n",
       "      <th>r7</th>\n",
       "      <th>r8</th>\n",
       "      <th>r9</th>\n",
       "      <th>...</th>\n",
       "      <th>r258</th>\n",
       "      <th>r259</th>\n",
       "      <th>r260</th>\n",
       "      <th>r261</th>\n",
       "      <th>r262</th>\n",
       "      <th>r263</th>\n",
       "      <th>r264</th>\n",
       "      <th>r265</th>\n",
       "      <th>r266</th>\n",
       "      <th>r267</th>\n",
       "    </tr>\n",
       "    <tr>\n",
       "      <th>Cell</th>\n",
       "      <th></th>\n",
       "      <th></th>\n",
       "      <th></th>\n",
       "      <th></th>\n",
       "      <th></th>\n",
       "      <th></th>\n",
       "      <th></th>\n",
       "      <th></th>\n",
       "      <th></th>\n",
       "      <th></th>\n",
       "      <th></th>\n",
       "      <th></th>\n",
       "      <th></th>\n",
       "      <th></th>\n",
       "      <th></th>\n",
       "      <th></th>\n",
       "      <th></th>\n",
       "      <th></th>\n",
       "      <th></th>\n",
       "      <th></th>\n",
       "      <th></th>\n",
       "    </tr>\n",
       "  </thead>\n",
       "  <tbody>\n",
       "    <tr>\n",
       "      <th>AAACGAAAGAACAGGA-1</th>\n",
       "      <td>-1</td>\n",
       "      <td>0</td>\n",
       "      <td>-1</td>\n",
       "      <td>-1</td>\n",
       "      <td>-1</td>\n",
       "      <td>-1</td>\n",
       "      <td>-1</td>\n",
       "      <td>-1</td>\n",
       "      <td>-1</td>\n",
       "      <td>-1</td>\n",
       "      <td>...</td>\n",
       "      <td>1</td>\n",
       "      <td>-1</td>\n",
       "      <td>-1</td>\n",
       "      <td>-1</td>\n",
       "      <td>-1</td>\n",
       "      <td>-1</td>\n",
       "      <td>-1</td>\n",
       "      <td>-1</td>\n",
       "      <td>-1</td>\n",
       "      <td>-1</td>\n",
       "    </tr>\n",
       "    <tr>\n",
       "      <th>AAACGAAAGATTGACA-1</th>\n",
       "      <td>-1</td>\n",
       "      <td>-1</td>\n",
       "      <td>-1</td>\n",
       "      <td>-1</td>\n",
       "      <td>-1</td>\n",
       "      <td>-1</td>\n",
       "      <td>-1</td>\n",
       "      <td>-1</td>\n",
       "      <td>-1</td>\n",
       "      <td>-1</td>\n",
       "      <td>...</td>\n",
       "      <td>1</td>\n",
       "      <td>-1</td>\n",
       "      <td>-1</td>\n",
       "      <td>-1</td>\n",
       "      <td>-1</td>\n",
       "      <td>-1</td>\n",
       "      <td>-1</td>\n",
       "      <td>-1</td>\n",
       "      <td>-1</td>\n",
       "      <td>-1</td>\n",
       "    </tr>\n",
       "    <tr>\n",
       "      <th>AAACGAAAGCGTTGCC-1</th>\n",
       "      <td>-1</td>\n",
       "      <td>-1</td>\n",
       "      <td>-1</td>\n",
       "      <td>-1</td>\n",
       "      <td>-1</td>\n",
       "      <td>-1</td>\n",
       "      <td>-1</td>\n",
       "      <td>-1</td>\n",
       "      <td>-1</td>\n",
       "      <td>-1</td>\n",
       "      <td>...</td>\n",
       "      <td>-1</td>\n",
       "      <td>-1</td>\n",
       "      <td>-1</td>\n",
       "      <td>-1</td>\n",
       "      <td>-1</td>\n",
       "      <td>-1</td>\n",
       "      <td>-1</td>\n",
       "      <td>-1</td>\n",
       "      <td>-1</td>\n",
       "      <td>-1</td>\n",
       "    </tr>\n",
       "    <tr>\n",
       "      <th>AAACGAAAGGTACTCT-1</th>\n",
       "      <td>-1</td>\n",
       "      <td>-1</td>\n",
       "      <td>-1</td>\n",
       "      <td>-1</td>\n",
       "      <td>-1</td>\n",
       "      <td>-1</td>\n",
       "      <td>-1</td>\n",
       "      <td>-1</td>\n",
       "      <td>-1</td>\n",
       "      <td>-1</td>\n",
       "      <td>...</td>\n",
       "      <td>1</td>\n",
       "      <td>-1</td>\n",
       "      <td>-1</td>\n",
       "      <td>-1</td>\n",
       "      <td>-1</td>\n",
       "      <td>-1</td>\n",
       "      <td>-1</td>\n",
       "      <td>-1</td>\n",
       "      <td>1</td>\n",
       "      <td>-1</td>\n",
       "    </tr>\n",
       "    <tr>\n",
       "      <th>AAACGAAAGGTTAACA-1</th>\n",
       "      <td>-1</td>\n",
       "      <td>-1</td>\n",
       "      <td>-1</td>\n",
       "      <td>-1</td>\n",
       "      <td>-1</td>\n",
       "      <td>-1</td>\n",
       "      <td>1</td>\n",
       "      <td>0</td>\n",
       "      <td>-1</td>\n",
       "      <td>-1</td>\n",
       "      <td>...</td>\n",
       "      <td>-1</td>\n",
       "      <td>-1</td>\n",
       "      <td>-1</td>\n",
       "      <td>-1</td>\n",
       "      <td>-1</td>\n",
       "      <td>-1</td>\n",
       "      <td>-1</td>\n",
       "      <td>-1</td>\n",
       "      <td>-1</td>\n",
       "      <td>-1</td>\n",
       "    </tr>\n",
       "  </tbody>\n",
       "</table>\n",
       "<p>5 rows × 268 columns</p>\n",
       "</div>"
      ],
      "text/plain": [
       "                    r0  r1  r2  r3  r4  r5  r6  r7  r8  r9  ...  r258  r259  \\\n",
       "Cell                                                        ...               \n",
       "AAACGAAAGAACAGGA-1  -1   0  -1  -1  -1  -1  -1  -1  -1  -1  ...     1    -1   \n",
       "AAACGAAAGATTGACA-1  -1  -1  -1  -1  -1  -1  -1  -1  -1  -1  ...     1    -1   \n",
       "AAACGAAAGCGTTGCC-1  -1  -1  -1  -1  -1  -1  -1  -1  -1  -1  ...    -1    -1   \n",
       "AAACGAAAGGTACTCT-1  -1  -1  -1  -1  -1  -1  -1  -1  -1  -1  ...     1    -1   \n",
       "AAACGAAAGGTTAACA-1  -1  -1  -1  -1  -1  -1   1   0  -1  -1  ...    -1    -1   \n",
       "\n",
       "                    r260  r261  r262  r263  r264  r265  r266  r267  \n",
       "Cell                                                                \n",
       "AAACGAAAGAACAGGA-1    -1    -1    -1    -1    -1    -1    -1    -1  \n",
       "AAACGAAAGATTGACA-1    -1    -1    -1    -1    -1    -1    -1    -1  \n",
       "AAACGAAAGCGTTGCC-1    -1    -1    -1    -1    -1    -1    -1    -1  \n",
       "AAACGAAAGGTACTCT-1    -1    -1    -1    -1    -1    -1     1    -1  \n",
       "AAACGAAAGGTTAACA-1    -1    -1    -1    -1    -1    -1    -1    -1  \n",
       "\n",
       "[5 rows x 268 columns]"
      ]
     },
     "execution_count": 15,
     "metadata": {},
     "output_type": "execute_result"
    }
   ],
   "source": [
    "priors=None\n",
    "if priors is not None:\n",
    "    cas_tree = cas.data.CassiopeiaTree(character_matrix=character_matrix, priors=priors)\n",
    "else:\n",
    "    cas_tree = cas.data.CassiopeiaTree(character_matrix=character_matrix)\n",
    "cas_tree.character_matrix.head(5)\n"
   ]
  },
  {
   "cell_type": "code",
   "execution_count": 16,
   "id": "b3644501",
   "metadata": {
    "scrolled": true
   },
   "outputs": [
    {
     "data": {
      "text/plain": [
       "(10051, 268)"
      ]
     },
     "execution_count": 16,
     "metadata": {},
     "output_type": "execute_result"
    }
   ],
   "source": [
    "cas_tree.n_cell, cas_tree.n_character,\n"
   ]
  },
  {
   "cell_type": "code",
   "execution_count": 17,
   "id": "797c6514",
   "metadata": {},
   "outputs": [],
   "source": [
    "# cell_meta = clone_allele_table.groupby('cellBC').agg({\"intBC\": 'nunique', 'UMI': 'sum', 'sampleID': 'unique'})\n",
    "# cell_meta['sampleID'] = [x[0] for x in cell_meta['sampleID']]\n",
    "\n",
    "# missing_proportion = (character_matrix == -1).sum(axis=0) / character_matrix.shape[0]\n",
    "# uncut_proportion = (character_matrix == 0).sum(axis=0) / character_matrix.shape[0]\n",
    "# n_unique_states = character_matrix.apply(lambda x: len(np.unique(x[(x != 0) & (x != -1)])), axis=0)\n",
    "\n",
    "# character_meta = pd.DataFrame([missing_proportion, uncut_proportion, n_unique_states], index = ['missing_prop', 'uncut_prop', 'n_unique_states']).T\n",
    "\n",
    "# cas_tree.cell_meta = cell_meta\n",
    "# cas_tree.character_meta = character_meta"
   ]
  },
  {
   "cell_type": "markdown",
   "id": "4a525314",
   "metadata": {},
   "source": [
    "## HybridSolver \n",
    "1. Top-down greedy solver followed by\n",
    "2. Bottom-solve of any tipe. "
   ]
  },
  {
   "cell_type": "code",
   "execution_count": 18,
   "id": "82fb37a7",
   "metadata": {},
   "outputs": [],
   "source": [
    "# REINSTANTIATE the bottom and top solvers\n",
    "vanilla_greedy = cas.solver.VanillaGreedySolver()\n",
    "if priors is not None:\n",
    "    ilp_solver = cas.solver.ILPSolver(convergence_time_limit=500, maximum_potential_graph_layer_size=10000, weighted=True, seed=1234)\n",
    "else:\n",
    "    ilp_solver = cas.solver.ILPSolver(convergence_time_limit=500, maximum_potential_graph_layer_size=10000, weighted=False, seed=1234)\n"
   ]
  },
  {
   "cell_type": "code",
   "execution_count": null,
   "id": "6cef2708",
   "metadata": {
    "scrolled": true
   },
   "outputs": [
    {
     "name": "stdout",
     "output_type": "stream",
     "text": [
      "example_hybrid.log\n",
      "None\n",
      "subtree 0\n"
     ]
    },
    {
     "name": "stderr",
     "output_type": "stream",
     "text": [
      "[2021-08-18 18:03:20,855]    INFO [ILPSolver] Solving tree with the following parameters.\n",
      "[2021-08-18 18:03:20,858]    INFO [ILPSolver] Convergence time limit: 500\n",
      "[2021-08-18 18:03:20,861]    INFO [ILPSolver] Convergence iteration limit: 0\n",
      "[2021-08-18 18:03:20,864]    INFO [ILPSolver] Max potential graph layer size: 10000\n",
      "[2021-08-18 18:03:20,866]    INFO [ILPSolver] Max potential graph lca distance: None\n",
      "[2021-08-18 18:03:20,869]    INFO [ILPSolver] MIP gap: 0.01\n"
     ]
    },
    {
     "name": "stdout",
     "output_type": "stream",
     "text": [
      "subtree 0\n"
     ]
    },
    {
     "name": "stderr",
     "output_type": "stream",
     "text": [
      "[2021-08-18 18:03:20,912]    INFO [ILPSolver] Solving tree with the following parameters.\n",
      "[2021-08-18 18:03:20,915]    INFO [ILPSolver] Convergence time limit: 500\n",
      "[2021-08-18 18:03:20,919]    INFO [ILPSolver] Convergence iteration limit: 0\n",
      "[2021-08-18 18:03:20,921]    INFO [ILPSolver] Max potential graph layer size: 10000\n",
      "[2021-08-18 18:03:20,924]    INFO [ILPSolver] Max potential graph lca distance: None\n",
      "[2021-08-18 18:03:20,926]    INFO [ILPSolver] MIP gap: 0.01\n"
     ]
    },
    {
     "name": "stdout",
     "output_type": "stream",
     "text": [
      "subtree 0\n"
     ]
    },
    {
     "name": "stderr",
     "output_type": "stream",
     "text": [
      "[2021-08-18 18:03:20,982]    INFO [ILPSolver] Solving tree with the following parameters.\n",
      "[2021-08-18 18:03:20,985]    INFO [ILPSolver] Convergence time limit: 500\n",
      "[2021-08-18 18:03:20,988]    INFO [ILPSolver] Convergence iteration limit: 0\n",
      "[2021-08-18 18:03:20,990]    INFO [ILPSolver] Max potential graph layer size: 10000\n",
      "[2021-08-18 18:03:20,993]    INFO [ILPSolver] Max potential graph lca distance: None\n",
      "[2021-08-18 18:03:20,995]    INFO [ILPSolver] MIP gap: 0.01\n"
     ]
    },
    {
     "name": "stdout",
     "output_type": "stream",
     "text": [
      "subtree 0\n"
     ]
    },
    {
     "name": "stderr",
     "output_type": "stream",
     "text": [
      "[2021-08-18 18:03:21,057]    INFO [ILPSolver] Solving tree with the following parameters.\n",
      "[2021-08-18 18:03:21,060]    INFO [ILPSolver] Convergence time limit: 500\n",
      "[2021-08-18 18:03:21,062]    INFO [ILPSolver] Convergence iteration limit: 0\n",
      "[2021-08-18 18:03:21,065]    INFO [ILPSolver] Max potential graph layer size: 10000\n",
      "[2021-08-18 18:03:21,067]    INFO [ILPSolver] Max potential graph lca distance: None\n",
      "[2021-08-18 18:03:21,070]    INFO [ILPSolver] MIP gap: 0.01\n"
     ]
    },
    {
     "name": "stdout",
     "output_type": "stream",
     "text": [
      "subtree 0\n"
     ]
    },
    {
     "name": "stderr",
     "output_type": "stream",
     "text": [
      "[2021-08-18 18:03:21,123]    INFO [ILPSolver] Solving tree with the following parameters.\n",
      "[2021-08-18 18:03:21,126]    INFO [ILPSolver] Convergence time limit: 500\n",
      "[2021-08-18 18:03:21,129]    INFO [ILPSolver] Convergence iteration limit: 0\n",
      "[2021-08-18 18:03:21,132]    INFO [ILPSolver] Max potential graph layer size: 10000\n",
      "[2021-08-18 18:03:21,134]    INFO [ILPSolver] Max potential graph lca distance: None\n",
      "[2021-08-18 18:03:21,137]    INFO [ILPSolver] MIP gap: 0.01\n"
     ]
    },
    {
     "name": "stdout",
     "output_type": "stream",
     "text": [
      "subtree 0\n"
     ]
    },
    {
     "name": "stderr",
     "output_type": "stream",
     "text": [
      "[2021-08-18 18:03:21,195]    INFO [ILPSolver] Solving tree with the following parameters.\n",
      "[2021-08-18 18:03:21,199]    INFO [ILPSolver] Convergence time limit: 500\n",
      "[2021-08-18 18:03:21,201]    INFO [ILPSolver] Convergence iteration limit: 0\n",
      "[2021-08-18 18:03:21,204]    INFO [ILPSolver] Max potential graph layer size: 10000\n",
      "[2021-08-18 18:03:21,206]    INFO [ILPSolver] Max potential graph lca distance: None\n",
      "[2021-08-18 18:03:21,209]    INFO [ILPSolver] MIP gap: 0.01\n"
     ]
    },
    {
     "name": "stdout",
     "output_type": "stream",
     "text": [
      "subtree 0\n"
     ]
    },
    {
     "name": "stderr",
     "output_type": "stream",
     "text": [
      "[2021-08-18 18:03:21,265]    INFO [ILPSolver] Solving tree with the following parameters.\n",
      "[2021-08-18 18:03:21,269]    INFO [ILPSolver] Convergence time limit: 500\n",
      "[2021-08-18 18:03:21,271]    INFO [ILPSolver] Convergence iteration limit: 0\n",
      "[2021-08-18 18:03:21,274]    INFO [ILPSolver] Max potential graph layer size: 10000\n",
      "[2021-08-18 18:03:21,277]    INFO [ILPSolver] Max potential graph lca distance: None\n",
      "[2021-08-18 18:03:21,280]    INFO [ILPSolver] MIP gap: 0.01\n"
     ]
    },
    {
     "name": "stdout",
     "output_type": "stream",
     "text": [
      "subtree 0\n"
     ]
    },
    {
     "name": "stderr",
     "output_type": "stream",
     "text": [
      "[2021-08-18 18:03:21,336]    INFO [ILPSolver] Solving tree with the following parameters.\n",
      "[2021-08-18 18:03:21,339]    INFO [ILPSolver] Convergence time limit: 500\n",
      "[2021-08-18 18:03:21,342]    INFO [ILPSolver] Convergence iteration limit: 0\n",
      "[2021-08-18 18:03:21,345]    INFO [ILPSolver] Max potential graph layer size: 10000\n",
      "[2021-08-18 18:03:21,348]    INFO [ILPSolver] Max potential graph lca distance: None\n",
      "[2021-08-18 18:03:21,350]    INFO [ILPSolver] MIP gap: 0.01\n"
     ]
    },
    {
     "name": "stdout",
     "output_type": "stream",
     "text": [
      "subtree 0\n"
     ]
    },
    {
     "name": "stderr",
     "output_type": "stream",
     "text": [
      "[2021-08-18 18:03:21,407]    INFO [ILPSolver] Solving tree with the following parameters.\n",
      "[2021-08-18 18:03:21,411]    INFO [ILPSolver] Convergence time limit: 500\n",
      "[2021-08-18 18:03:21,414]    INFO [ILPSolver] Convergence iteration limit: 0\n",
      "[2021-08-18 18:03:21,416]    INFO [ILPSolver] Max potential graph layer size: 10000\n",
      "[2021-08-18 18:03:21,419]    INFO [ILPSolver] Max potential graph lca distance: None\n",
      "[2021-08-18 18:03:21,421]    INFO [ILPSolver] MIP gap: 0.01\n"
     ]
    },
    {
     "name": "stdout",
     "output_type": "stream",
     "text": [
      "subtree 0\n"
     ]
    },
    {
     "name": "stderr",
     "output_type": "stream",
     "text": [
      "[2021-08-18 18:03:21,476]    INFO [ILPSolver] Solving tree with the following parameters.\n",
      "[2021-08-18 18:03:21,479]    INFO [ILPSolver] Convergence time limit: 500\n",
      "[2021-08-18 18:03:21,483]    INFO [ILPSolver] Convergence iteration limit: 0\n",
      "[2021-08-18 18:03:21,485]    INFO [ILPSolver] Max potential graph layer size: 10000\n",
      "[2021-08-18 18:03:21,488]    INFO [ILPSolver] Max potential graph lca distance: None\n",
      "[2021-08-18 18:03:21,491]    INFO [ILPSolver] MIP gap: 0.01\n"
     ]
    },
    {
     "name": "stdout",
     "output_type": "stream",
     "text": [
      "subtree 0\n"
     ]
    },
    {
     "name": "stderr",
     "output_type": "stream",
     "text": [
      "[2021-08-18 18:03:21,552]    INFO [ILPSolver] Solving tree with the following parameters.\n",
      "[2021-08-18 18:03:21,555]    INFO [ILPSolver] Convergence time limit: 500\n",
      "[2021-08-18 18:03:21,558]    INFO [ILPSolver] Convergence iteration limit: 0\n",
      "[2021-08-18 18:03:21,561]    INFO [ILPSolver] Max potential graph layer size: 10000\n",
      "[2021-08-18 18:03:21,564]    INFO [ILPSolver] Max potential graph lca distance: None\n",
      "[2021-08-18 18:03:21,566]    INFO [ILPSolver] MIP gap: 0.01\n"
     ]
    },
    {
     "name": "stdout",
     "output_type": "stream",
     "text": [
      "subtree 0\n"
     ]
    },
    {
     "name": "stderr",
     "output_type": "stream",
     "text": [
      "[2021-08-18 18:03:21,624]    INFO [ILPSolver] Solving tree with the following parameters.\n",
      "[2021-08-18 18:03:21,627]    INFO [ILPSolver] Convergence time limit: 500\n",
      "[2021-08-18 18:03:21,630]    INFO [ILPSolver] Convergence iteration limit: 0\n",
      "[2021-08-18 18:03:21,632]    INFO [ILPSolver] Max potential graph layer size: 10000\n",
      "[2021-08-18 18:03:21,634]    INFO [ILPSolver] Max potential graph lca distance: None\n",
      "[2021-08-18 18:03:21,637]    INFO [ILPSolver] MIP gap: 0.01\n"
     ]
    },
    {
     "name": "stdout",
     "output_type": "stream",
     "text": [
      "subtree 0\n"
     ]
    },
    {
     "name": "stderr",
     "output_type": "stream",
     "text": [
      "[2021-08-18 18:03:21,696]    INFO [ILPSolver] Solving tree with the following parameters.\n",
      "[2021-08-18 18:03:21,699]    INFO [ILPSolver] Convergence time limit: 500\n",
      "[2021-08-18 18:03:21,701]    INFO [ILPSolver] Convergence iteration limit: 0\n",
      "[2021-08-18 18:03:21,703]    INFO [ILPSolver] Max potential graph layer size: 10000\n",
      "[2021-08-18 18:03:21,706]    INFO [ILPSolver] Max potential graph lca distance: None\n",
      "[2021-08-18 18:03:21,708]    INFO [ILPSolver] MIP gap: 0.01\n"
     ]
    },
    {
     "name": "stdout",
     "output_type": "stream",
     "text": [
      "subtree 0\n"
     ]
    },
    {
     "name": "stderr",
     "output_type": "stream",
     "text": [
      "[2021-08-18 18:03:21,762]    INFO [ILPSolver] Solving tree with the following parameters.\n",
      "[2021-08-18 18:03:21,765]    INFO [ILPSolver] Convergence time limit: 500\n",
      "[2021-08-18 18:03:21,767]    INFO [ILPSolver] Convergence iteration limit: 0\n",
      "[2021-08-18 18:03:21,770]    INFO [ILPSolver] Max potential graph layer size: 10000\n",
      "[2021-08-18 18:03:21,772]    INFO [ILPSolver] Max potential graph lca distance: None\n",
      "[2021-08-18 18:03:21,774]    INFO [ILPSolver] MIP gap: 0.01\n"
     ]
    },
    {
     "name": "stdout",
     "output_type": "stream",
     "text": [
      "subtree 0\n"
     ]
    },
    {
     "name": "stderr",
     "output_type": "stream",
     "text": [
      "[2021-08-18 18:03:21,830]    INFO [ILPSolver] Solving tree with the following parameters.\n",
      "[2021-08-18 18:03:21,834]    INFO [ILPSolver] Convergence time limit: 500\n",
      "[2021-08-18 18:03:21,836]    INFO [ILPSolver] Convergence iteration limit: 0\n",
      "[2021-08-18 18:03:21,839]    INFO [ILPSolver] Max potential graph layer size: 10000\n",
      "[2021-08-18 18:03:21,841]    INFO [ILPSolver] Max potential graph lca distance: None\n",
      "[2021-08-18 18:03:21,844]    INFO [ILPSolver] MIP gap: 0.01\n"
     ]
    },
    {
     "name": "stdout",
     "output_type": "stream",
     "text": [
      "subtree 0\n"
     ]
    },
    {
     "name": "stderr",
     "output_type": "stream",
     "text": [
      "[2021-08-18 18:03:21,897]    INFO [ILPSolver] Solving tree with the following parameters.\n",
      "[2021-08-18 18:03:21,900]    INFO [ILPSolver] Convergence time limit: 500\n",
      "[2021-08-18 18:03:21,903]    INFO [ILPSolver] Convergence iteration limit: 0\n",
      "[2021-08-18 18:03:21,905]    INFO [ILPSolver] Max potential graph layer size: 10000\n",
      "[2021-08-18 18:03:21,908]    INFO [ILPSolver] Max potential graph lca distance: None\n",
      "[2021-08-18 18:03:21,910]    INFO [ILPSolver] MIP gap: 0.01\n"
     ]
    },
    {
     "name": "stdout",
     "output_type": "stream",
     "text": [
      "subtree 0\n"
     ]
    },
    {
     "name": "stderr",
     "output_type": "stream",
     "text": [
      "[2021-08-18 18:03:21,964]    INFO [ILPSolver] Solving tree with the following parameters.\n",
      "[2021-08-18 18:03:21,966]    INFO [ILPSolver] Convergence time limit: 500\n",
      "[2021-08-18 18:03:21,969]    INFO [ILPSolver] Convergence iteration limit: 0\n",
      "[2021-08-18 18:03:21,971]    INFO [ILPSolver] Max potential graph layer size: 10000\n",
      "[2021-08-18 18:03:21,974]    INFO [ILPSolver] Max potential graph lca distance: None\n",
      "[2021-08-18 18:03:21,976]    INFO [ILPSolver] MIP gap: 0.01\n"
     ]
    },
    {
     "name": "stdout",
     "output_type": "stream",
     "text": [
      "subtree 0\n"
     ]
    },
    {
     "name": "stderr",
     "output_type": "stream",
     "text": [
      "[2021-08-18 18:03:22,032]    INFO [ILPSolver] Solving tree with the following parameters.\n",
      "[2021-08-18 18:03:22,034]    INFO [ILPSolver] Convergence time limit: 500\n",
      "[2021-08-18 18:03:22,037]    INFO [ILPSolver] Convergence iteration limit: 0\n",
      "[2021-08-18 18:03:22,039]    INFO [ILPSolver] Max potential graph layer size: 10000\n",
      "[2021-08-18 18:03:22,041]    INFO [ILPSolver] Max potential graph lca distance: None\n",
      "[2021-08-18 18:03:22,043]    INFO [ILPSolver] MIP gap: 0.01\n"
     ]
    },
    {
     "name": "stdout",
     "output_type": "stream",
     "text": [
      "subtree 0\n"
     ]
    },
    {
     "name": "stderr",
     "output_type": "stream",
     "text": [
      "[2021-08-18 18:03:22,100]    INFO [ILPSolver] Solving tree with the following parameters.\n",
      "[2021-08-18 18:03:22,103]    INFO [ILPSolver] Convergence time limit: 500\n",
      "[2021-08-18 18:03:22,105]    INFO [ILPSolver] Convergence iteration limit: 0\n",
      "[2021-08-18 18:03:22,108]    INFO [ILPSolver] Max potential graph layer size: 10000\n",
      "[2021-08-18 18:03:22,111]    INFO [ILPSolver] Max potential graph lca distance: None\n",
      "[2021-08-18 18:03:22,114]    INFO [ILPSolver] MIP gap: 0.01\n"
     ]
    },
    {
     "name": "stdout",
     "output_type": "stream",
     "text": [
      "subtree 0\n"
     ]
    },
    {
     "name": "stderr",
     "output_type": "stream",
     "text": [
      "[2021-08-18 18:03:22,173]    INFO [ILPSolver] Solving tree with the following parameters.\n",
      "[2021-08-18 18:03:22,176]    INFO [ILPSolver] Convergence time limit: 500\n",
      "[2021-08-18 18:03:22,178]    INFO [ILPSolver] Convergence iteration limit: 0\n",
      "[2021-08-18 18:03:22,181]    INFO [ILPSolver] Max potential graph layer size: 10000\n",
      "[2021-08-18 18:03:22,185]    INFO [ILPSolver] Max potential graph lca distance: None\n",
      "[2021-08-18 18:03:22,187]    INFO [ILPSolver] MIP gap: 0.01\n"
     ]
    },
    {
     "name": "stdout",
     "output_type": "stream",
     "text": [
      "subtree 0\n"
     ]
    },
    {
     "name": "stderr",
     "output_type": "stream",
     "text": [
      "[2021-08-18 18:03:22,247]    INFO [ILPSolver] Solving tree with the following parameters.\n",
      "[2021-08-18 18:03:22,250]    INFO [ILPSolver] Convergence time limit: 500\n",
      "[2021-08-18 18:03:22,254]    INFO [ILPSolver] Convergence iteration limit: 0\n",
      "[2021-08-18 18:03:22,257]    INFO [ILPSolver] Max potential graph layer size: 10000\n",
      "[2021-08-18 18:03:22,260]    INFO [ILPSolver] Max potential graph lca distance: None\n",
      "[2021-08-18 18:03:22,262]    INFO [ILPSolver] MIP gap: 0.01\n"
     ]
    },
    {
     "name": "stdout",
     "output_type": "stream",
     "text": [
      "subtree 0\n"
     ]
    },
    {
     "name": "stderr",
     "output_type": "stream",
     "text": [
      "[2021-08-18 18:03:22,348]    INFO [ILPSolver] Solving tree with the following parameters.\n",
      "[2021-08-18 18:03:22,353]    INFO [ILPSolver] Convergence time limit: 500\n",
      "[2021-08-18 18:03:22,355]    INFO [ILPSolver] Convergence iteration limit: 0\n",
      "[2021-08-18 18:03:22,358]    INFO [ILPSolver] Max potential graph layer size: 10000\n",
      "[2021-08-18 18:03:22,360]    INFO [ILPSolver] Max potential graph lca distance: None\n",
      "[2021-08-18 18:03:22,363]    INFO [ILPSolver] MIP gap: 0.01\n"
     ]
    },
    {
     "name": "stdout",
     "output_type": "stream",
     "text": [
      "subtree 0\n"
     ]
    },
    {
     "name": "stderr",
     "output_type": "stream",
     "text": [
      "[2021-08-18 18:03:22,436]    INFO [ILPSolver] Solving tree with the following parameters.\n",
      "[2021-08-18 18:03:22,441]    INFO [ILPSolver] Convergence time limit: 500\n",
      "[2021-08-18 18:03:22,445]    INFO [ILPSolver] Convergence iteration limit: 0\n",
      "[2021-08-18 18:03:22,449]    INFO [ILPSolver] Max potential graph layer size: 10000\n",
      "[2021-08-18 18:03:22,453]    INFO [ILPSolver] Max potential graph lca distance: None\n",
      "[2021-08-18 18:03:22,457]    INFO [ILPSolver] MIP gap: 0.01\n"
     ]
    },
    {
     "name": "stdout",
     "output_type": "stream",
     "text": [
      "subtree 0\n"
     ]
    },
    {
     "name": "stderr",
     "output_type": "stream",
     "text": [
      "[2021-08-18 18:03:22,524]    INFO [ILPSolver] Solving tree with the following parameters.\n",
      "[2021-08-18 18:03:22,527]    INFO [ILPSolver] Convergence time limit: 500\n",
      "[2021-08-18 18:03:22,530]    INFO [ILPSolver] Convergence iteration limit: 0\n",
      "[2021-08-18 18:03:22,533]    INFO [ILPSolver] Max potential graph layer size: 10000\n",
      "[2021-08-18 18:03:22,536]    INFO [ILPSolver] Max potential graph lca distance: None\n",
      "[2021-08-18 18:03:22,540]    INFO [ILPSolver] MIP gap: 0.01\n",
      "[2021-08-18 18:03:24,049]    INFO [ILPSolver] (Process: a617f453959ba5cf4fc355fe9b129c69) Estimating a potential graph with a maximum layer size of 10000 and a maximum LCA distance of 8.\n",
      "[2021-08-18 18:03:24,105]    INFO [ILPSolver] (Process: fefab27b440f2c88182b4ea54676fce9) Estimating a potential graph with a maximum layer size of 10000 and a maximum LCA distance of 5.\n",
      "[2021-08-18 18:03:24,115]    INFO [ILPSolver] (Process: 15b8a1eb6982403ab4c2abe4b32232ea) Estimating a potential graph with a maximum layer size of 10000 and a maximum LCA distance of 3.\n",
      "[2021-08-18 18:03:24,120]    INFO [ILPSolver] (Process: b7ef1ae48b38389042b4132f11ab7e27) Estimating a potential graph with a maximum layer size of 10000 and a maximum LCA distance of 6.[2021-08-18 18:03:24,120]    INFO [ILPSolver] (Process: 2101369de14223466bd0ec05c227b6c1) Estimating a potential graph with a maximum layer size of 10000 and a maximum LCA distance of 5.\n",
      "\n",
      "[2021-08-18 18:03:24,139]    INFO [ILPSolver] (Process: 2cbfbc61225ec04d0bea3e23018ff7fe) Estimating a potential graph with a maximum layer size of 10000 and a maximum LCA distance of 4.\n",
      "[2021-08-18 18:03:24,151]    INFO [ILPSolver] (Process: d747cf508b271dd4ee9f8a16eb7a2255) Estimating a potential graph with a maximum layer size of 10000 and a maximum LCA distance of 6.\n",
      "[2021-08-18 18:03:24,203]    INFO [ILPSolver] (Process: 639693e6f2e4e56cc46d5469f7f4bdce) Estimating a potential graph with a maximum layer size of 10000 and a maximum LCA distance of 17.\n",
      "[2021-08-18 18:03:24,233]    INFO [ILPSolver] (Process: dde02409b9be78c0c4b2d337605b0aca) Estimating a potential graph with a maximum layer size of 10000 and a maximum LCA distance of 6.\n",
      "[2021-08-18 18:03:24,239]    INFO [ILPSolver] (Process: 2cbfbc61225ec04d0bea3e23018ff7fe) LCA distance 0 completed with a neighborhood size of 11.\n",
      "[2021-08-18 18:03:24,276]    INFO [ILPSolver] (Process: dde02409b9be78c0c4b2d337605b0aca) LCA distance 0 completed with a neighborhood size of 7.\n",
      "[2021-08-18 18:03:24,278]    INFO [ILPSolver] (Process: 4753d60d667f09378e2d8e17cf698b6c) Estimating a potential graph with a maximum layer size of 10000 and a maximum LCA distance of 3.\n",
      "[2021-08-18 18:03:24,282]    INFO [ILPSolver] (Process: 3b4691f42584c3e752fa96d3204ae7d9) Estimating a potential graph with a maximum layer size of 10000 and a maximum LCA distance of 7.\n",
      "[2021-08-18 18:03:24,317]    INFO [ILPSolver] (Process: dde02409b9be78c0c4b2d337605b0aca) LCA distance 1 completed with a neighborhood size of 7.\n",
      "[2021-08-18 18:03:24,323]    INFO [ILPSolver] (Process: 326a26b363647af00c8f56e09c16775a) Estimating a potential graph with a maximum layer size of 10000 and a maximum LCA distance of 18.\n",
      "[2021-08-18 18:03:24,345]    INFO [ILPSolver] (Process: 2cbfbc61225ec04d0bea3e23018ff7fe) LCA distance 1 completed with a neighborhood size of 11.\n",
      "[2021-08-18 18:03:24,348]    INFO [ILPSolver] (Process: a617f453959ba5cf4fc355fe9b129c69) LCA distance 0 completed with a neighborhood size of 16.\n",
      "[2021-08-18 18:03:24,499]    INFO [ILPSolver] (Process: 79547c8432ae9b3df9d5797f7423c8ba) Estimating a potential graph with a maximum layer size of 10000 and a maximum LCA distance of 9.\n",
      "[2021-08-18 18:03:24,514]    INFO [ILPSolver] (Process: dde02409b9be78c0c4b2d337605b0aca) LCA distance 2 completed with a neighborhood size of 18.\n",
      "[2021-08-18 18:03:24,722]    INFO [ILPSolver] (Process: a617f453959ba5cf4fc355fe9b129c69) LCA distance 1 completed with a neighborhood size of 16.\n",
      "[2021-08-18 18:03:24,747]    INFO [ILPSolver] (Process: cadb5d4f034368e6bbd749399e9161dc) Estimating a potential graph with a maximum layer size of 10000 and a maximum LCA distance of 7.\n",
      "[2021-08-18 18:03:24,798]    INFO [ILPSolver] (Process: 4753d60d667f09378e2d8e17cf698b6c) LCA distance 0 completed with a neighborhood size of 29.\n",
      "[2021-08-18 18:03:24,817]    INFO [ILPSolver] (Process: 3b4691f42584c3e752fa96d3204ae7d9) LCA distance 0 completed with a neighborhood size of 24.\n",
      "[2021-08-18 18:03:24,818]    INFO [ILPSolver] (Process: 2cbfbc61225ec04d0bea3e23018ff7fe) LCA distance 2 completed with a neighborhood size of 30.\n",
      "[2021-08-18 18:03:24,901]    INFO [ILPSolver] (Process: b6c45c3b584cfa36b613850afc954e69) Estimating a potential graph with a maximum layer size of 10000 and a maximum LCA distance of 6.\n",
      "[2021-08-18 18:03:24,948]    INFO [ILPSolver] (Process: dde02409b9be78c0c4b2d337605b0aca) LCA distance 3 completed with a neighborhood size of 27.\n",
      "[2021-08-18 18:03:24,956]    INFO [ILPSolver] (Process: 55c688584e5c0032f676b435cb203b76) Estimating a potential graph with a maximum layer size of 10000 and a maximum LCA distance of 3.\n",
      "[2021-08-18 18:03:24,999]    INFO [ILPSolver] (Process: b6c45c3b584cfa36b613850afc954e69) LCA distance 0 completed with a neighborhood size of 11.\n",
      "[2021-08-18 18:03:25,002]    INFO [ILPSolver] (Process: 31239d3150b08c17beb0bf62f596b727) Estimating a potential graph with a maximum layer size of 10000 and a maximum LCA distance of 7.\n",
      "[2021-08-18 18:03:25,042]    INFO [ILPSolver] (Process: cc2c0a199e8e77f8319db2bebbc60649) Estimating a potential graph with a maximum layer size of 10000 and a maximum LCA distance of 6.\n",
      "[2021-08-18 18:03:25,087]    INFO [ILPSolver] (Process: 21d5e5ecf03e011df676abfa0db8389e) Estimating a potential graph with a maximum layer size of 10000 and a maximum LCA distance of 3.\n",
      "[2021-08-18 18:03:25,093]    INFO [ILPSolver] (Process: b6c45c3b584cfa36b613850afc954e69) LCA distance 1 completed with a neighborhood size of 11.\n",
      "[2021-08-18 18:03:25,102]    INFO [ILPSolver] (Process: 8ea11f307b348ea50893a872c0d3d1a9) Estimating a potential graph with a maximum layer size of 10000 and a maximum LCA distance of 7.\n",
      "[2021-08-18 18:03:25,132]    INFO [ILPSolver] (Process: cc2c0a199e8e77f8319db2bebbc60649) LCA distance 0 completed with a neighborhood size of 9.\n",
      "[2021-08-18 18:03:25,149]    INFO [ILPSolver] (Process: 881331dd1c09fd3d0eea76fc029c0b56) Estimating a potential graph with a maximum layer size of 10000 and a maximum LCA distance of 7.\n",
      "[2021-08-18 18:03:25,193]    INFO [ILPSolver] (Process: 51f3cef1d99f22967218eaebe9f1445c) Estimating a potential graph with a maximum layer size of 10000 and a maximum LCA distance of 8.\n",
      "[2021-08-18 18:03:25,203]    INFO [ILPSolver] (Process: 55c688584e5c0032f676b435cb203b76) LCA distance 0 completed with a neighborhood size of 20.\n",
      "[2021-08-18 18:03:25,204]    INFO [ILPSolver] (Process: cc2c0a199e8e77f8319db2bebbc60649) LCA distance 1 completed with a neighborhood size of 9.\n",
      "[2021-08-18 18:03:25,229]    INFO [ILPSolver] (Process: 30418f754398fd6e1f2cc9c2d2d273f3) Estimating a potential graph with a maximum layer size of 10000 and a maximum LCA distance of 9.\n",
      "[2021-08-18 18:03:25,325]    INFO [ILPSolver] (Process: a430fb76aed0c48a08b354b006f563ac) Estimating a potential graph with a maximum layer size of 10000 and a maximum LCA distance of 4.\n",
      "[2021-08-18 18:03:25,370]    INFO [ILPSolver] (Process: 4753d60d667f09378e2d8e17cf698b6c) LCA distance 1 completed with a neighborhood size of 29.\n",
      "[2021-08-18 18:03:25,418]    INFO [ILPSolver] (Process: b6c45c3b584cfa36b613850afc954e69) LCA distance 2 completed with a neighborhood size of 22.\n",
      "[2021-08-18 18:03:25,445]    INFO [ILPSolver] (Process: 55c688584e5c0032f676b435cb203b76) LCA distance 1 completed with a neighborhood size of 20.\n",
      "[2021-08-18 18:03:25,510]    INFO [ILPSolver] (Process: 2cbfbc61225ec04d0bea3e23018ff7fe) LCA distance 3 completed with a neighborhood size of 35.\n",
      "[2021-08-18 18:03:25,545]    INFO [ILPSolver] (Process: cc2c0a199e8e77f8319db2bebbc60649) LCA distance 2 completed with a neighborhood size of 16.\n",
      "[2021-08-18 18:03:25,557]    INFO [ILPSolver] (Process: d747cf508b271dd4ee9f8a16eb7a2255) LCA distance 0 completed with a neighborhood size of 39.\n"
     ]
    },
    {
     "name": "stderr",
     "output_type": "stream",
     "text": [
      "[2021-08-18 18:03:25,571]    INFO [ILPSolver] (Process: 3b4691f42584c3e752fa96d3204ae7d9) LCA distance 1 completed with a neighborhood size of 24.\n",
      "[2021-08-18 18:03:25,611]    INFO [ILPSolver] (Process: dde02409b9be78c0c4b2d337605b0aca) LCA distance 4 completed with a neighborhood size of 35.\n",
      "[2021-08-18 18:03:25,860]    INFO [ILPSolver] (Process: b6c45c3b584cfa36b613850afc954e69) LCA distance 3 completed with a neighborhood size of 28.\n",
      "[2021-08-18 18:03:26,111]    INFO [ILPSolver] (Process: 55c688584e5c0032f676b435cb203b76) LCA distance 2 completed with a neighborhood size of 35.\n",
      "[2021-08-18 18:03:26,166]    INFO [ILPSolver] (Process: 2cbfbc61225ec04d0bea3e23018ff7fe) LCA distance 4 completed with a neighborhood size of 35.\n",
      "[2021-08-18 18:03:26,301]    INFO [ILPSolver] (Process: dde02409b9be78c0c4b2d337605b0aca) LCA distance 5 completed with a neighborhood size of 35.\n",
      "[2021-08-18 18:03:26,334]    INFO [ILPSolver] (Process: a430fb76aed0c48a08b354b006f563ac) LCA distance 0 completed with a neighborhood size of 33.\n"
     ]
    },
    {
     "name": "stdout",
     "output_type": "stream",
     "text": [
      "Academic license - for non-commercial use only - expires 2022-07-17\n",
      "Using license file /home/isshamie/gurobi.lic\n"
     ]
    },
    {
     "name": "stderr",
     "output_type": "stream",
     "text": [
      "[2021-08-18 18:03:26,482]    INFO [ILPSolver] (Process: cc2c0a199e8e77f8319db2bebbc60649) LCA distance 3 completed with a neighborhood size of 32.\n",
      "[2021-08-18 18:03:26,491]    INFO [ILPSolver] (Process: b6c45c3b584cfa36b613850afc954e69) LCA distance 4 completed with a neighborhood size of 34.\n",
      "[2021-08-18 18:03:26,807]    INFO [ILPSolver] (Process: 55c688584e5c0032f676b435cb203b76) LCA distance 3 completed with a neighborhood size of 35.\n",
      "[2021-08-18 18:03:27,120]    INFO [ILPSolver] (Process: cc2c0a199e8e77f8319db2bebbc60649) LCA distance 4 completed with a neighborhood size of 34.\n",
      "[2021-08-18 18:03:27,141]    INFO [ILPSolver] (Process: b6c45c3b584cfa36b613850afc954e69) LCA distance 5 completed with a neighborhood size of 35.\n"
     ]
    },
    {
     "name": "stdout",
     "output_type": "stream",
     "text": [
      "Academic license - for non-commercial use only - expires 2022-07-17\n",
      "Using license file /home/isshamie/gurobi.lic\n"
     ]
    },
    {
     "name": "stderr",
     "output_type": "stream",
     "text": [
      "[2021-08-18 18:03:27,486]    INFO [ILPSolver] (Process: dde02409b9be78c0c4b2d337605b0aca) LCA distance 6 completed with a neighborhood size of 35.\n",
      "[2021-08-18 18:03:27,506]    INFO [ILPSolver] (Process 55c688584e5c0032f676b435cb203b76) Steiner tree solving tool 0 days, 0 hours, 0 minutes, and 0 seconds.\n",
      "[2021-08-18 18:03:27,533]    INFO [ILPSolver] (Process: d747cf508b271dd4ee9f8a16eb7a2255) LCA distance 1 completed with a neighborhood size of 39.\n"
     ]
    },
    {
     "name": "stdout",
     "output_type": "stream",
     "text": [
      "subtree 0\n"
     ]
    },
    {
     "name": "stderr",
     "output_type": "stream",
     "text": [
      "[2021-08-18 18:03:27,623]    INFO [ILPSolver] Solving tree with the following parameters.\n",
      "[2021-08-18 18:03:27,626]    INFO [ILPSolver] Convergence time limit: 500\n",
      "[2021-08-18 18:03:27,629]    INFO [ILPSolver] Convergence iteration limit: 0\n",
      "[2021-08-18 18:03:27,632]    INFO [ILPSolver] Max potential graph layer size: 10000\n",
      "[2021-08-18 18:03:27,634]    INFO [ILPSolver] Max potential graph lca distance: None\n",
      "[2021-08-18 18:03:27,637]    INFO [ILPSolver] MIP gap: 0.01\n",
      "[2021-08-18 18:03:27,714]    INFO [ILPSolver] (Process: a430fb76aed0c48a08b354b006f563ac) LCA distance 1 completed with a neighborhood size of 38.\n",
      "[2021-08-18 18:03:27,762]    INFO [ILPSolver] (Process: 8a66342487a35fd8e4976652b175a2ca) Estimating a potential graph with a maximum layer size of 10000 and a maximum LCA distance of 16.\n",
      "[2021-08-18 18:03:27,800]    INFO [ILPSolver] (Process: b6c45c3b584cfa36b613850afc954e69) LCA distance 6 completed with a neighborhood size of 35.\n"
     ]
    },
    {
     "name": "stdout",
     "output_type": "stream",
     "text": [
      "Academic license - for non-commercial use only - expires 2022-07-17\n",
      "Using license file /home/isshamie/gurobi.lic\n"
     ]
    },
    {
     "name": "stderr",
     "output_type": "stream",
     "text": [
      "[2021-08-18 18:03:27,970]    INFO [ILPSolver] (Process: cc2c0a199e8e77f8319db2bebbc60649) LCA distance 5 completed with a neighborhood size of 35.\n"
     ]
    },
    {
     "name": "stdout",
     "output_type": "stream",
     "text": [
      "Academic license - for non-commercial use only - expires 2022-07-17\n",
      "Using license file /home/isshamie/gurobi.lic\n"
     ]
    },
    {
     "name": "stderr",
     "output_type": "stream",
     "text": [
      "[2021-08-18 18:03:28,154]    INFO [ILPSolver] (Process: 21d5e5ecf03e011df676abfa0db8389e) LCA distance 0 completed with a neighborhood size of 62.\n",
      "[2021-08-18 18:03:28,629]    INFO [ILPSolver] (Process: cc2c0a199e8e77f8319db2bebbc60649) LCA distance 6 completed with a neighborhood size of 35.\n",
      "[2021-08-18 18:03:28,870]    INFO [ILPSolver] (Process: 4753d60d667f09378e2d8e17cf698b6c) LCA distance 2 completed with a neighborhood size of 70.\n"
     ]
    },
    {
     "name": "stdout",
     "output_type": "stream",
     "text": [
      "Academic license - for non-commercial use only - expires 2022-07-17\n",
      "Using license file /home/isshamie/gurobi.lic\n"
     ]
    },
    {
     "name": "stderr",
     "output_type": "stream",
     "text": [
      "[2021-08-18 18:03:30,002]    INFO [ILPSolver] (Process cc2c0a199e8e77f8319db2bebbc60649) Steiner tree solving tool 0 days, 0 hours, 0 minutes, and 0 seconds.\n"
     ]
    },
    {
     "name": "stdout",
     "output_type": "stream",
     "text": [
      "subtree 0\n"
     ]
    },
    {
     "name": "stderr",
     "output_type": "stream",
     "text": [
      "[2021-08-18 18:03:30,061]    INFO [ILPSolver] Solving tree with the following parameters.\n",
      "[2021-08-18 18:03:30,064]    INFO [ILPSolver] Convergence time limit: 500\n",
      "[2021-08-18 18:03:30,066]    INFO [ILPSolver] Convergence iteration limit: 0\n",
      "[2021-08-18 18:03:30,069]    INFO [ILPSolver] Max potential graph layer size: 10000\n",
      "[2021-08-18 18:03:30,072]    INFO [ILPSolver] Max potential graph lca distance: None\n",
      "[2021-08-18 18:03:30,075]    INFO [ILPSolver] MIP gap: 0.01\n",
      "[2021-08-18 18:03:30,113]    INFO [ILPSolver] (Process 2cbfbc61225ec04d0bea3e23018ff7fe) Steiner tree solving tool 0 days, 0 hours, 0 minutes, and 3 seconds.\n",
      "[2021-08-18 18:03:30,155]    INFO [ILPSolver] (Process: 3bc7ea5c9c7873312a5213445d5da982) Estimating a potential graph with a maximum layer size of 10000 and a maximum LCA distance of 18.\n"
     ]
    },
    {
     "name": "stdout",
     "output_type": "stream",
     "text": [
      "subtree 0\n"
     ]
    },
    {
     "name": "stderr",
     "output_type": "stream",
     "text": [
      "[2021-08-18 18:03:30,211]    INFO [ILPSolver] Solving tree with the following parameters.\n",
      "[2021-08-18 18:03:30,213]    INFO [ILPSolver] Convergence time limit: 500\n",
      "[2021-08-18 18:03:30,216]    INFO [ILPSolver] Convergence iteration limit: 0\n",
      "[2021-08-18 18:03:30,219]    INFO [ILPSolver] Max potential graph layer size: 10000\n",
      "[2021-08-18 18:03:30,222]    INFO [ILPSolver] Max potential graph lca distance: None\n",
      "[2021-08-18 18:03:30,225]    INFO [ILPSolver] MIP gap: 0.01\n",
      "[2021-08-18 18:03:30,346]    INFO [ILPSolver] (Process: 8c8e27f92821d6684f6acf532b09b47b) Estimating a potential graph with a maximum layer size of 10000 and a maximum LCA distance of 16.\n",
      "[2021-08-18 18:03:31,003]    INFO [ILPSolver] (Process: 15b8a1eb6982403ab4c2abe4b32232ea) LCA distance 0 completed with a neighborhood size of 95.\n",
      "[2021-08-18 18:03:31,702]    INFO [ILPSolver] (Process: 21d5e5ecf03e011df676abfa0db8389e) LCA distance 1 completed with a neighborhood size of 62.\n",
      "[2021-08-18 18:03:31,854]    INFO [ILPSolver] (Process dde02409b9be78c0c4b2d337605b0aca) Steiner tree solving tool 0 days, 0 hours, 0 minutes, and 3 seconds.\n"
     ]
    },
    {
     "name": "stdout",
     "output_type": "stream",
     "text": [
      "subtree 0\n"
     ]
    },
    {
     "name": "stderr",
     "output_type": "stream",
     "text": [
      "[2021-08-18 18:03:31,938]    INFO [ILPSolver] Solving tree with the following parameters.\n",
      "[2021-08-18 18:03:31,941]    INFO [ILPSolver] Convergence time limit: 500\n",
      "[2021-08-18 18:03:31,943]    INFO [ILPSolver] Convergence iteration limit: 0\n",
      "[2021-08-18 18:03:31,946]    INFO [ILPSolver] Max potential graph layer size: 10000\n",
      "[2021-08-18 18:03:31,949]    INFO [ILPSolver] Max potential graph lca distance: None\n",
      "[2021-08-18 18:03:31,952]    INFO [ILPSolver] MIP gap: 0.01\n",
      "[2021-08-18 18:03:31,961]    INFO [ILPSolver] (Process: a617f453959ba5cf4fc355fe9b129c69) LCA distance 2 completed with a neighborhood size of 89.\n",
      "[2021-08-18 18:03:32,036]    INFO [ILPSolver] (Process: ce0c9ae50f73b3bad2745c4300937338) Estimating a potential graph with a maximum layer size of 10000 and a maximum LCA distance of 2.\n",
      "[2021-08-18 18:03:32,041]    INFO [ILPSolver] (Process: ce0c9ae50f73b3bad2745c4300937338) LCA distance 0 completed with a neighborhood size of 1.\n",
      "[2021-08-18 18:03:32,046]    INFO [ILPSolver] (Process: ce0c9ae50f73b3bad2745c4300937338) LCA distance 1 completed with a neighborhood size of 1.\n",
      "[2021-08-18 18:03:32,050]    INFO [ILPSolver] (Process: ce0c9ae50f73b3bad2745c4300937338) LCA distance 2 completed with a neighborhood size of 1.\n",
      "[2021-08-18 18:03:32,060]    INFO [ILPSolver] (Process ce0c9ae50f73b3bad2745c4300937338) Steiner tree solving tool 0 days, 0 hours, 0 minutes, and 0 seconds.\n"
     ]
    },
    {
     "name": "stdout",
     "output_type": "stream",
     "text": [
      "subtree 0\n"
     ]
    },
    {
     "name": "stderr",
     "output_type": "stream",
     "text": [
      "[2021-08-18 18:03:32,098]    INFO [ILPSolver] Solving tree with the following parameters.\n",
      "[2021-08-18 18:03:32,100]    INFO [ILPSolver] Convergence time limit: 500\n",
      "[2021-08-18 18:03:32,103]    INFO [ILPSolver] Convergence iteration limit: 0\n",
      "[2021-08-18 18:03:32,106]    INFO [ILPSolver] Max potential graph layer size: 10000\n",
      "[2021-08-18 18:03:32,108]    INFO [ILPSolver] Max potential graph lca distance: None\n",
      "[2021-08-18 18:03:32,111]    INFO [ILPSolver] MIP gap: 0.01\n",
      "[2021-08-18 18:03:32,186]    INFO [ILPSolver] (Process: 0185f35b5ddeaad226187e2ada812081) Estimating a potential graph with a maximum layer size of 10000 and a maximum LCA distance of 24.\n",
      "[2021-08-18 18:03:32,422]    INFO [ILPSolver] (Process: 4753d60d667f09378e2d8e17cf698b6c) LCA distance 3 completed with a neighborhood size of 70.\n"
     ]
    },
    {
     "name": "stdout",
     "output_type": "stream",
     "text": [
      "Academic license - for non-commercial use only - expires 2022-07-17\n",
      "Using license file /home/isshamie/gurobi.lic\n"
     ]
    },
    {
     "name": "stderr",
     "output_type": "stream",
     "text": [
      "[2021-08-18 18:03:33,432]    INFO [ILPSolver] (Process b6c45c3b584cfa36b613850afc954e69) Steiner tree solving tool 0 days, 0 hours, 0 minutes, and 5 seconds.\n",
      "[2021-08-18 18:03:33,538]    INFO [ILPSolver] (Process 4753d60d667f09378e2d8e17cf698b6c) Steiner tree solving tool 0 days, 0 hours, 0 minutes, and 0 seconds.\n"
     ]
    },
    {
     "name": "stdout",
     "output_type": "stream",
     "text": [
      "subtree 0\n"
     ]
    },
    {
     "name": "stderr",
     "output_type": "stream",
     "text": [
      "[2021-08-18 18:03:33,552]    INFO [ILPSolver] Solving tree with the following parameters.\n",
      "[2021-08-18 18:03:33,555]    INFO [ILPSolver] Convergence time limit: 500\n",
      "[2021-08-18 18:03:33,558]    INFO [ILPSolver] Convergence iteration limit: 0\n",
      "[2021-08-18 18:03:33,561]    INFO [ILPSolver] Max potential graph layer size: 10000\n",
      "[2021-08-18 18:03:33,564]    INFO [ILPSolver] Max potential graph lca distance: None\n",
      "[2021-08-18 18:03:33,566]    INFO [ILPSolver] MIP gap: 0.01\n"
     ]
    },
    {
     "name": "stdout",
     "output_type": "stream",
     "text": [
      "subtree 0\n"
     ]
    },
    {
     "name": "stderr",
     "output_type": "stream",
     "text": [
      "[2021-08-18 18:03:33,670]    INFO [ILPSolver] (Process: 8be0d19bfbbc0993fd44fd41684eefa4) Estimating a potential graph with a maximum layer size of 10000 and a maximum LCA distance of 18.\n",
      "[2021-08-18 18:03:33,675]    INFO [ILPSolver] Solving tree with the following parameters.\n",
      "[2021-08-18 18:03:33,677]    INFO [ILPSolver] Convergence time limit: 500\n",
      "[2021-08-18 18:03:33,680]    INFO [ILPSolver] Convergence iteration limit: 0\n",
      "[2021-08-18 18:03:33,683]    INFO [ILPSolver] Max potential graph layer size: 10000\n",
      "[2021-08-18 18:03:33,686]    INFO [ILPSolver] Max potential graph lca distance: None\n",
      "[2021-08-18 18:03:33,689]    INFO [ILPSolver] MIP gap: 0.01\n",
      "[2021-08-18 18:03:33,781]    INFO [ILPSolver] (Process: 122463388a915d3b76c0ef56c9ba7d23) Estimating a potential graph with a maximum layer size of 10000 and a maximum LCA distance of 3.\n",
      "[2021-08-18 18:03:35,241]    INFO [ILPSolver] (Process: 122463388a915d3b76c0ef56c9ba7d23) LCA distance 0 completed with a neighborhood size of 46.\n",
      "[2021-08-18 18:03:37,303]    INFO [ILPSolver] (Process: 122463388a915d3b76c0ef56c9ba7d23) LCA distance 1 completed with a neighborhood size of 46.\n",
      "[2021-08-18 18:03:38,158]    INFO [ILPSolver] (Process: 15b8a1eb6982403ab4c2abe4b32232ea) LCA distance 1 completed with a neighborhood size of 95.\n",
      "[2021-08-18 18:03:38,246]    INFO [ILPSolver] (Process: 79547c8432ae9b3df9d5797f7423c8ba) LCA distance 0 completed with a neighborhood size of 102.\n",
      "[2021-08-18 18:03:39,238]    INFO [ILPSolver] (Process: cadb5d4f034368e6bbd749399e9161dc) LCA distance 0 completed with a neighborhood size of 134.\n",
      "[2021-08-18 18:03:39,597]    INFO [ILPSolver] (Process: fefab27b440f2c88182b4ea54676fce9) LCA distance 0 completed with a neighborhood size of 142.\n",
      "[2021-08-18 18:03:40,368]    INFO [ILPSolver] (Process: 8be0d19bfbbc0993fd44fd41684eefa4) LCA distance 0 completed with a neighborhood size of 53.\n",
      "[2021-08-18 18:03:41,010]    INFO [ILPSolver] (Process: 881331dd1c09fd3d0eea76fc029c0b56) LCA distance 0 completed with a neighborhood size of 128.\n",
      "[2021-08-18 18:03:44,147]    INFO [ILPSolver] (Process: b7ef1ae48b38389042b4132f11ab7e27) LCA distance 0 completed with a neighborhood size of 139.\n",
      "[2021-08-18 18:03:46,841]    INFO [ILPSolver] (Process: a430fb76aed0c48a08b354b006f563ac) LCA distance 2 completed with a neighborhood size of 163.\n",
      "[2021-08-18 18:03:46,878]    INFO [ILPSolver] (Process: 51f3cef1d99f22967218eaebe9f1445c) LCA distance 0 completed with a neighborhood size of 166.\n",
      "[2021-08-18 18:03:47,314]    INFO [ILPSolver] (Process: 8be0d19bfbbc0993fd44fd41684eefa4) LCA distance 1 completed with a neighborhood size of 65.\n",
      "[2021-08-18 18:03:49,228]    INFO [ILPSolver] (Process: a617f453959ba5cf4fc355fe9b129c69) LCA distance 3 completed with a neighborhood size of 159.\n",
      "[2021-08-18 18:03:49,429]    INFO [ILPSolver] (Process: 21d5e5ecf03e011df676abfa0db8389e) LCA distance 2 completed with a neighborhood size of 163.\n",
      "[2021-08-18 18:03:54,791]    INFO [ILPSolver] (Process: 3b4691f42584c3e752fa96d3204ae7d9) LCA distance 2 completed with a neighborhood size of 193.\n",
      "[2021-08-18 18:03:56,177]    INFO [ILPSolver] (Process: 15b8a1eb6982403ab4c2abe4b32232ea) LCA distance 2 completed with a neighborhood size of 163.\n",
      "[2021-08-18 18:03:57,391]    INFO [ILPSolver] (Process: 79547c8432ae9b3df9d5797f7423c8ba) LCA distance 1 completed with a neighborhood size of 121.\n",
      "[2021-08-18 18:03:58,459]    INFO [ILPSolver] (Process: fefab27b440f2c88182b4ea54676fce9) LCA distance 1 completed with a neighborhood size of 142.\n",
      "[2021-08-18 18:04:00,616]    INFO [ILPSolver] (Process: d747cf508b271dd4ee9f8a16eb7a2255) LCA distance 2 completed with a neighborhood size of 206.\n",
      "[2021-08-18 18:04:03,460]    INFO [ILPSolver] (Process: 122463388a915d3b76c0ef56c9ba7d23) LCA distance 2 completed with a neighborhood size of 163.\n",
      "[2021-08-18 18:04:04,380]    INFO [ILPSolver] (Process: a430fb76aed0c48a08b354b006f563ac) LCA distance 3 completed with a neighborhood size of 163.\n",
      "[2021-08-18 18:04:06,933]    INFO [ILPSolver] (Process: a617f453959ba5cf4fc355fe9b129c69) LCA distance 4 completed with a neighborhood size of 163.\n",
      "[2021-08-18 18:04:07,177]    INFO [ILPSolver] (Process: 21d5e5ecf03e011df676abfa0db8389e) LCA distance 3 completed with a neighborhood size of 163.\n"
     ]
    },
    {
     "name": "stdout",
     "output_type": "stream",
     "text": [
      "Academic license - for non-commercial use only - expires 2022-07-17\n",
      "Using license file /home/isshamie/gurobi.lic\n"
     ]
    },
    {
     "name": "stderr",
     "output_type": "stream",
     "text": [
      "[2021-08-18 18:04:13,851]    INFO [ILPSolver] (Process: 881331dd1c09fd3d0eea76fc029c0b56) LCA distance 1 completed with a neighborhood size of 135.\n",
      "[2021-08-18 18:04:14,059]    INFO [ILPSolver] (Process: 15b8a1eb6982403ab4c2abe4b32232ea) LCA distance 3 completed with a neighborhood size of 163.\n"
     ]
    },
    {
     "name": "stdout",
     "output_type": "stream",
     "text": [
      "Academic license - for non-commercial use only - expires 2022-07-17\n",
      "Using license file /home/isshamie/gurobi.lic\n"
     ]
    },
    {
     "name": "stderr",
     "output_type": "stream",
     "text": [
      "[2021-08-18 18:04:18,883]    INFO [ILPSolver] (Process 15b8a1eb6982403ab4c2abe4b32232ea) Steiner tree solving tool 0 days, 0 hours, 0 minutes, and 1 seconds.\n"
     ]
    },
    {
     "name": "stdout",
     "output_type": "stream",
     "text": [
      "subtree 0\n"
     ]
    },
    {
     "name": "stderr",
     "output_type": "stream",
     "text": [
      "[2021-08-18 18:04:19,035]    INFO [ILPSolver] Solving tree with the following parameters.\n",
      "[2021-08-18 18:04:19,038]    INFO [ILPSolver] Convergence time limit: 500\n",
      "[2021-08-18 18:04:19,041]    INFO [ILPSolver] Convergence iteration limit: 0\n",
      "[2021-08-18 18:04:19,044]    INFO [ILPSolver] Max potential graph layer size: 10000\n",
      "[2021-08-18 18:04:19,047]    INFO [ILPSolver] Max potential graph lca distance: None\n",
      "[2021-08-18 18:04:19,050]    INFO [ILPSolver] MIP gap: 0.01\n",
      "[2021-08-18 18:04:19,179]    INFO [ILPSolver] (Process: 8eff1741635d23610192c549ffcc9a42) Estimating a potential graph with a maximum layer size of 10000 and a maximum LCA distance of 22.\n",
      "[2021-08-18 18:04:20,932]    INFO [ILPSolver] (Process: 122463388a915d3b76c0ef56c9ba7d23) LCA distance 3 completed with a neighborhood size of 163.\n",
      "[2021-08-18 18:04:21,984]    INFO [ILPSolver] (Process: a430fb76aed0c48a08b354b006f563ac) LCA distance 4 completed with a neighborhood size of 163.\n"
     ]
    },
    {
     "name": "stdout",
     "output_type": "stream",
     "text": [
      "Academic license - for non-commercial use only - expires 2022-07-17\n",
      "Using license file /home/isshamie/gurobi.lic\n"
     ]
    },
    {
     "name": "stderr",
     "output_type": "stream",
     "text": [
      "[2021-08-18 18:04:25,090]    INFO [ILPSolver] (Process: a617f453959ba5cf4fc355fe9b129c69) LCA distance 5 completed with a neighborhood size of 163.\n",
      "[2021-08-18 18:04:42,836]    INFO [ILPSolver] (Process: a617f453959ba5cf4fc355fe9b129c69) LCA distance 6 completed with a neighborhood size of 163.\n",
      "[2021-08-18 18:04:49,340]    INFO [ILPSolver] (Process: 0185f35b5ddeaad226187e2ada812081) Maximum layer size exceeded, returning network.\n"
     ]
    },
    {
     "name": "stdout",
     "output_type": "stream",
     "text": [
      "subtree 0\n"
     ]
    },
    {
     "name": "stderr",
     "output_type": "stream",
     "text": [
      "[2021-08-18 18:04:49,414]    INFO [ILPSolver] Solving tree with the following parameters.\n",
      "[2021-08-18 18:04:49,416]    INFO [ILPSolver] Convergence time limit: 500\n",
      "[2021-08-18 18:04:49,419]    INFO [ILPSolver] Convergence iteration limit: 0\n",
      "[2021-08-18 18:04:49,422]    INFO [ILPSolver] Max potential graph layer size: 10000\n",
      "[2021-08-18 18:04:49,425]    INFO [ILPSolver] Max potential graph lca distance: None\n",
      "[2021-08-18 18:04:49,428]    INFO [ILPSolver] MIP gap: 0.01\n",
      "[2021-08-18 18:04:49,532]    INFO [ILPSolver] (Process: 1398bcadd75d7668da3acdc35717c396) Estimating a potential graph with a maximum layer size of 10000 and a maximum LCA distance of 8.\n",
      "[2021-08-18 18:05:01,951]    INFO [ILPSolver] (Process: a617f453959ba5cf4fc355fe9b129c69) LCA distance 7 completed with a neighborhood size of 163.\n",
      "[2021-08-18 18:05:04,322]    INFO [ILPSolver] (Process: 8a66342487a35fd8e4976652b175a2ca) Maximum layer size exceeded, returning network.\n"
     ]
    },
    {
     "name": "stdout",
     "output_type": "stream",
     "text": [
      "subtree 0\n"
     ]
    },
    {
     "name": "stderr",
     "output_type": "stream",
     "text": [
      "[2021-08-18 18:05:04,430]    INFO [ILPSolver] Solving tree with the following parameters.\n",
      "[2021-08-18 18:05:04,433]    INFO [ILPSolver] Convergence time limit: 500\n",
      "[2021-08-18 18:05:04,436]    INFO [ILPSolver] Convergence iteration limit: 0\n",
      "[2021-08-18 18:05:04,439]    INFO [ILPSolver] Max potential graph layer size: 10000\n",
      "[2021-08-18 18:05:04,442]    INFO [ILPSolver] Max potential graph lca distance: None\n",
      "[2021-08-18 18:05:04,445]    INFO [ILPSolver] MIP gap: 0.01\n",
      "[2021-08-18 18:05:04,544]    INFO [ILPSolver] (Process: 6bebe2f5e8be5b7c00d4bfbc752b148b) Estimating a potential graph with a maximum layer size of 10000 and a maximum LCA distance of 5.\n",
      "[2021-08-18 18:05:08,016]    INFO [ILPSolver] (Process: 6bebe2f5e8be5b7c00d4bfbc752b148b) LCA distance 0 completed with a neighborhood size of 56.\n",
      "[2021-08-18 18:05:12,748]    INFO [ILPSolver] (Process: 6bebe2f5e8be5b7c00d4bfbc752b148b) LCA distance 1 completed with a neighborhood size of 56.\n",
      "[2021-08-18 18:05:19,993]    INFO [ILPSolver] (Process: a617f453959ba5cf4fc355fe9b129c69) LCA distance 8 completed with a neighborhood size of 163.\n",
      "[2021-08-18 18:05:22,798]    INFO [ILPSolver] (Process: 3bc7ea5c9c7873312a5213445d5da982) Maximum layer size exceeded, returning network.\n"
     ]
    },
    {
     "name": "stdout",
     "output_type": "stream",
     "text": [
      "Academic license - for non-commercial use only - expires 2022-07-17\n",
      "Using license file /home/isshamie/gurobi.lic\n",
      "subtree 0\n"
     ]
    },
    {
     "name": "stderr",
     "output_type": "stream",
     "text": [
      "[2021-08-18 18:05:22,940]    INFO [ILPSolver] Solving tree with the following parameters.\n",
      "[2021-08-18 18:05:22,943]    INFO [ILPSolver] Convergence time limit: 500\n",
      "[2021-08-18 18:05:22,945]    INFO [ILPSolver] Convergence iteration limit: 0\n",
      "[2021-08-18 18:05:22,947]    INFO [ILPSolver] Max potential graph layer size: 10000\n",
      "[2021-08-18 18:05:22,949]    INFO [ILPSolver] Max potential graph lca distance: None\n",
      "[2021-08-18 18:05:22,952]    INFO [ILPSolver] MIP gap: 0.01\n",
      "[2021-08-18 18:05:23,018]    INFO [ILPSolver] (Process: c901afdbe0ced9610b44f1304466c79c) Estimating a potential graph with a maximum layer size of 10000 and a maximum LCA distance of 9.\n",
      "[2021-08-18 18:05:23,304]    INFO [ILPSolver] (Process: 3b4691f42584c3e752fa96d3204ae7d9) LCA distance 3 completed with a neighborhood size of 372.\n",
      "[2021-08-18 18:05:28,825]    INFO [ILPSolver] (Process: d747cf508b271dd4ee9f8a16eb7a2255) LCA distance 3 completed with a neighborhood size of 375.\n",
      "[2021-08-18 18:05:29,998]    INFO [ILPSolver] (Process: 6bebe2f5e8be5b7c00d4bfbc752b148b) LCA distance 2 completed with a neighborhood size of 161.\n",
      "[2021-08-18 18:05:39,959]    INFO [ILPSolver] (Process 21d5e5ecf03e011df676abfa0db8389e) Steiner tree solving tool 0 days, 0 hours, 1 minutes, and 29 seconds.\n"
     ]
    },
    {
     "name": "stdout",
     "output_type": "stream",
     "text": [
      "subtree 0\n"
     ]
    },
    {
     "name": "stderr",
     "output_type": "stream",
     "text": [
      "[2021-08-18 18:05:40,106]    INFO [ILPSolver] Solving tree with the following parameters.\n",
      "[2021-08-18 18:05:40,108]    INFO [ILPSolver] Convergence time limit: 500\n",
      "[2021-08-18 18:05:40,111]    INFO [ILPSolver] Convergence iteration limit: 0\n",
      "[2021-08-18 18:05:40,114]    INFO [ILPSolver] Max potential graph layer size: 10000\n",
      "[2021-08-18 18:05:40,117]    INFO [ILPSolver] Max potential graph lca distance: None\n",
      "[2021-08-18 18:05:40,120]    INFO [ILPSolver] MIP gap: 0.01\n",
      "[2021-08-18 18:05:40,229]    INFO [ILPSolver] (Process: d86f53577fbcbd37bd2a48ae56ddaf23) Estimating a potential graph with a maximum layer size of 10000 and a maximum LCA distance of 9.\n",
      "[2021-08-18 18:05:47,469]    INFO [ILPSolver] (Process: 6bebe2f5e8be5b7c00d4bfbc752b148b) LCA distance 3 completed with a neighborhood size of 163.\n",
      "[2021-08-18 18:05:51,295]    INFO [ILPSolver] (Process: fefab27b440f2c88182b4ea54676fce9) LCA distance 2 completed with a neighborhood size of 381.\n",
      "[2021-08-18 18:05:57,019]    INFO [ILPSolver] (Process: 8eff1741635d23610192c549ffcc9a42) Maximum layer size exceeded, returning network.\n"
     ]
    },
    {
     "name": "stdout",
     "output_type": "stream",
     "text": [
      "subtree 0\n"
     ]
    },
    {
     "name": "stderr",
     "output_type": "stream",
     "text": [
      "[2021-08-18 18:05:57,113]    INFO [ILPSolver] Solving tree with the following parameters.\n",
      "[2021-08-18 18:05:57,116]    INFO [ILPSolver] Convergence time limit: 500\n",
      "[2021-08-18 18:05:57,120]    INFO [ILPSolver] Convergence iteration limit: 0\n",
      "[2021-08-18 18:05:57,123]    INFO [ILPSolver] Max potential graph layer size: 10000\n",
      "[2021-08-18 18:05:57,125]    INFO [ILPSolver] Max potential graph lca distance: None\n",
      "[2021-08-18 18:05:57,129]    INFO [ILPSolver] MIP gap: 0.01\n",
      "[2021-08-18 18:05:57,218]    INFO [ILPSolver] (Process: 5614d919ff5a26b7a626efe7c4d9733f) Estimating a potential graph with a maximum layer size of 10000 and a maximum LCA distance of 23.\n",
      "[2021-08-18 18:06:03,120]    INFO [ILPSolver] (Process: cadb5d4f034368e6bbd749399e9161dc) LCA distance 1 completed with a neighborhood size of 406.\n",
      "[2021-08-18 18:06:04,857]    INFO [ILPSolver] (Process: 6bebe2f5e8be5b7c00d4bfbc752b148b) LCA distance 4 completed with a neighborhood size of 163.\n",
      "[2021-08-18 18:06:19,291]    INFO [ILPSolver] (Process: 8ea11f307b348ea50893a872c0d3d1a9) LCA distance 0 completed with a neighborhood size of 494.\n",
      "[2021-08-18 18:06:22,241]    INFO [ILPSolver] (Process: 6bebe2f5e8be5b7c00d4bfbc752b148b) LCA distance 5 completed with a neighborhood size of 163.\n",
      "[2021-08-18 18:06:51,954]    INFO [ILPSolver] (Process: 51f3cef1d99f22967218eaebe9f1445c) LCA distance 1 completed with a neighborhood size of 453.\n",
      "[2021-08-18 18:06:53,968]    INFO [ILPSolver] (Process: 3b4691f42584c3e752fa96d3204ae7d9) LCA distance 4 completed with a neighborhood size of 379.\n",
      "[2021-08-18 18:06:59,683]    INFO [ILPSolver] (Process: d747cf508b271dd4ee9f8a16eb7a2255) LCA distance 4 completed with a neighborhood size of 381.\n",
      "[2021-08-18 18:07:04,310]    INFO [ILPSolver] (Process: b7ef1ae48b38389042b4132f11ab7e27) LCA distance 1 completed with a neighborhood size of 480.\n",
      "[2021-08-18 18:07:16,651]    INFO [ILPSolver] (Process: 5614d919ff5a26b7a626efe7c4d9733f) Maximum layer size exceeded, returning network.\n"
     ]
    },
    {
     "name": "stdout",
     "output_type": "stream",
     "text": [
      "subtree 0\n"
     ]
    },
    {
     "name": "stderr",
     "output_type": "stream",
     "text": [
      "[2021-08-18 18:07:16,758]    INFO [ILPSolver] Solving tree with the following parameters.\n",
      "[2021-08-18 18:07:16,762]    INFO [ILPSolver] Convergence time limit: 500\n",
      "[2021-08-18 18:07:16,765]    INFO [ILPSolver] Convergence iteration limit: 0\n",
      "[2021-08-18 18:07:16,768]    INFO [ILPSolver] Max potential graph layer size: 10000\n",
      "[2021-08-18 18:07:16,771]    INFO [ILPSolver] Max potential graph lca distance: None\n",
      "[2021-08-18 18:07:16,774]    INFO [ILPSolver] MIP gap: 0.01\n",
      "[2021-08-18 18:07:16,877]    INFO [ILPSolver] (Process: 94556162b05a9464f6f6fb2359a25865) Estimating a potential graph with a maximum layer size of 10000 and a maximum LCA distance of 14.\n",
      "[2021-08-18 18:07:26,146]    INFO [ILPSolver] (Process: fefab27b440f2c88182b4ea54676fce9) LCA distance 3 completed with a neighborhood size of 381.\n",
      "[2021-08-18 18:07:31,278]    INFO [ILPSolver] (Process: 1398bcadd75d7668da3acdc35717c396) LCA distance 0 completed with a neighborhood size of 379.\n",
      "[2021-08-18 18:08:27,625]    INFO [ILPSolver] (Process: 3b4691f42584c3e752fa96d3204ae7d9) LCA distance 5 completed with a neighborhood size of 381.\n",
      "[2021-08-18 18:08:33,438]    INFO [ILPSolver] (Process: d747cf508b271dd4ee9f8a16eb7a2255) LCA distance 5 completed with a neighborhood size of 381.\n",
      "[2021-08-18 18:09:02,224]    INFO [ILPSolver] (Process: fefab27b440f2c88182b4ea54676fce9) LCA distance 4 completed with a neighborhood size of 381.\n",
      "[2021-08-18 18:10:05,231]    INFO [ILPSolver] (Process: 3b4691f42584c3e752fa96d3204ae7d9) LCA distance 6 completed with a neighborhood size of 381.\n",
      "[2021-08-18 18:10:12,362]    INFO [ILPSolver] (Process: d747cf508b271dd4ee9f8a16eb7a2255) LCA distance 6 completed with a neighborhood size of 381.\n"
     ]
    },
    {
     "name": "stdout",
     "output_type": "stream",
     "text": [
      "Academic license - for non-commercial use only - expires 2022-07-17\n",
      "Using license file /home/isshamie/gurobi.lic\n"
     ]
    },
    {
     "name": "stderr",
     "output_type": "stream",
     "text": [
      "[2021-08-18 18:10:38,710]    INFO [ILPSolver] (Process: fefab27b440f2c88182b4ea54676fce9) LCA distance 5 completed with a neighborhood size of 381.\n"
     ]
    },
    {
     "name": "stdout",
     "output_type": "stream",
     "text": [
      "Academic license - for non-commercial use only - expires 2022-07-17\n",
      "Using license file /home/isshamie/gurobi.lic\n"
     ]
    },
    {
     "name": "stderr",
     "output_type": "stream",
     "text": [
      "[2021-08-18 18:11:42,015]    INFO [ILPSolver] (Process: 3b4691f42584c3e752fa96d3204ae7d9) LCA distance 7 completed with a neighborhood size of 381.\n"
     ]
    },
    {
     "name": "stdout",
     "output_type": "stream",
     "text": [
      "Academic license - for non-commercial use only - expires 2022-07-17\n",
      "Using license file /home/isshamie/gurobi.lic\n"
     ]
    },
    {
     "name": "stderr",
     "output_type": "stream",
     "text": [
      "[2021-08-18 18:12:43,932]    INFO [ILPSolver] (Process 122463388a915d3b76c0ef56c9ba7d23) Steiner tree solving tool 0 days, 0 hours, 8 minutes, and 20 seconds.\n",
      "[2021-08-18 18:12:43,936]    INFO [ILPSolver] (Process 122463388a915d3b76c0ef56c9ba7d23) Warning: Steiner tree solving did not result in an optimal model.\n"
     ]
    },
    {
     "name": "stdout",
     "output_type": "stream",
     "text": [
      "subtree 0\n"
     ]
    },
    {
     "name": "stderr",
     "output_type": "stream",
     "text": [
      "[2021-08-18 18:12:44,169]    INFO [ILPSolver] Solving tree with the following parameters.\n",
      "[2021-08-18 18:12:44,173]    INFO [ILPSolver] Convergence time limit: 500\n",
      "[2021-08-18 18:12:44,176]    INFO [ILPSolver] Convergence iteration limit: 0\n",
      "[2021-08-18 18:12:44,179]    INFO [ILPSolver] Max potential graph layer size: 10000\n",
      "[2021-08-18 18:12:44,183]    INFO [ILPSolver] Max potential graph lca distance: None\n",
      "[2021-08-18 18:12:44,186]    INFO [ILPSolver] MIP gap: 0.01\n",
      "[2021-08-18 18:12:44,311]    INFO [ILPSolver] (Process: a38a0a96e7649b194769bd2c0a6a1600) Estimating a potential graph with a maximum layer size of 10000 and a maximum LCA distance of 20.\n",
      "[2021-08-18 18:12:45,077]    INFO [ILPSolver] (Process a430fb76aed0c48a08b354b006f563ac) Steiner tree solving tool 0 days, 0 hours, 8 minutes, and 20 seconds.\n",
      "[2021-08-18 18:12:45,082]    INFO [ILPSolver] (Process a430fb76aed0c48a08b354b006f563ac) Warning: Steiner tree solving did not result in an optimal model.\n"
     ]
    },
    {
     "name": "stdout",
     "output_type": "stream",
     "text": [
      "subtree 0\n"
     ]
    },
    {
     "name": "stderr",
     "output_type": "stream",
     "text": [
      "[2021-08-18 18:12:45,553]    INFO [ILPSolver] Solving tree with the following parameters.\n",
      "[2021-08-18 18:12:45,558]    INFO [ILPSolver] Convergence time limit: 500\n",
      "[2021-08-18 18:12:45,561]    INFO [ILPSolver] Convergence iteration limit: 0\n",
      "[2021-08-18 18:12:45,565]    INFO [ILPSolver] Max potential graph layer size: 10000\n",
      "[2021-08-18 18:12:45,568]    INFO [ILPSolver] Max potential graph lca distance: None\n",
      "[2021-08-18 18:12:45,571]    INFO [ILPSolver] MIP gap: 0.01\n",
      "[2021-08-18 18:12:45,723]    INFO [ILPSolver] (Process: 2c14cd3db06de9ee5bfd2b0086fadffc) Estimating a potential graph with a maximum layer size of 10000 and a maximum LCA distance of 17.\n",
      "[2021-08-18 18:13:43,192]    INFO [ILPSolver] (Process a617f453959ba5cf4fc355fe9b129c69) Steiner tree solving tool 0 days, 0 hours, 8 minutes, and 20 seconds.\n",
      "[2021-08-18 18:13:43,197]    INFO [ILPSolver] (Process a617f453959ba5cf4fc355fe9b129c69) Warning: Steiner tree solving did not result in an optimal model.\n"
     ]
    },
    {
     "name": "stdout",
     "output_type": "stream",
     "text": [
      "subtree 0\n"
     ]
    },
    {
     "name": "stderr",
     "output_type": "stream",
     "text": [
      "[2021-08-18 18:13:43,460]    INFO [ILPSolver] Solving tree with the following parameters.\n",
      "[2021-08-18 18:13:43,463]    INFO [ILPSolver] Convergence time limit: 500\n",
      "[2021-08-18 18:13:43,466]    INFO [ILPSolver] Convergence iteration limit: 0\n",
      "[2021-08-18 18:13:43,469]    INFO [ILPSolver] Max potential graph layer size: 10000\n",
      "[2021-08-18 18:13:43,473]    INFO [ILPSolver] Max potential graph lca distance: None\n",
      "[2021-08-18 18:13:43,475]    INFO [ILPSolver] MIP gap: 0.01\n",
      "[2021-08-18 18:13:43,608]    INFO [ILPSolver] (Process: 5ef1bca2a49024f4deae7e81948f17a0) Estimating a potential graph with a maximum layer size of 10000 and a maximum LCA distance of 14.\n",
      "[2021-08-18 18:14:47,997]    INFO [ILPSolver] (Process 6bebe2f5e8be5b7c00d4bfbc752b148b) Steiner tree solving tool 0 days, 0 hours, 8 minutes, and 20 seconds.\n",
      "[2021-08-18 18:14:48,004]    INFO [ILPSolver] (Process 6bebe2f5e8be5b7c00d4bfbc752b148b) Warning: Steiner tree solving did not result in an optimal model.\n"
     ]
    },
    {
     "name": "stdout",
     "output_type": "stream",
     "text": [
      "subtree 0\n"
     ]
    },
    {
     "name": "stderr",
     "output_type": "stream",
     "text": [
      "[2021-08-18 18:14:48,319]    INFO [ILPSolver] Solving tree with the following parameters.\n",
      "[2021-08-18 18:14:48,322]    INFO [ILPSolver] Convergence time limit: 500\n",
      "[2021-08-18 18:14:48,325]    INFO [ILPSolver] Convergence iteration limit: 0\n",
      "[2021-08-18 18:14:48,328]    INFO [ILPSolver] Max potential graph layer size: 10000\n",
      "[2021-08-18 18:14:48,332]    INFO [ILPSolver] Max potential graph lca distance: None\n",
      "[2021-08-18 18:14:48,334]    INFO [ILPSolver] MIP gap: 0.01\n",
      "[2021-08-18 18:14:48,461]    INFO [ILPSolver] (Process: c3246bf07cc86ad88c6631b8249ffb4e) Estimating a potential graph with a maximum layer size of 10000 and a maximum LCA distance of 19.\n",
      "[2021-08-18 18:15:15,471]    INFO [ILPSolver] (Process: 51f3cef1d99f22967218eaebe9f1445c) LCA distance 2 completed with a neighborhood size of 724.\n",
      "[2021-08-18 18:17:38,422]    INFO [ILPSolver] (Process: c3246bf07cc86ad88c6631b8249ffb4e) Maximum layer size exceeded, returning network.\n"
     ]
    },
    {
     "name": "stdout",
     "output_type": "stream",
     "text": [
      "subtree 0\n"
     ]
    },
    {
     "name": "stderr",
     "output_type": "stream",
     "text": [
      "[2021-08-18 18:17:38,567]    INFO [ILPSolver] Solving tree with the following parameters.\n",
      "[2021-08-18 18:17:38,570]    INFO [ILPSolver] Convergence time limit: 500\n",
      "[2021-08-18 18:17:38,573]    INFO [ILPSolver] Convergence iteration limit: 0\n",
      "[2021-08-18 18:17:38,577]    INFO [ILPSolver] Max potential graph layer size: 10000\n",
      "[2021-08-18 18:17:38,580]    INFO [ILPSolver] Max potential graph lca distance: None\n",
      "[2021-08-18 18:17:38,583]    INFO [ILPSolver] MIP gap: 0.01\n",
      "[2021-08-18 18:17:38,679]    INFO [ILPSolver] (Process: c5f3409bd9f27800eaaa1cddbe24a630) Estimating a potential graph with a maximum layer size of 10000 and a maximum LCA distance of 2.\n",
      "[2021-08-18 18:17:39,498]    INFO [ILPSolver] (Process: c5f3409bd9f27800eaaa1cddbe24a630) LCA distance 0 completed with a neighborhood size of 26.\n",
      "[2021-08-18 18:17:40,315]    INFO [ILPSolver] (Process: c5f3409bd9f27800eaaa1cddbe24a630) LCA distance 1 completed with a neighborhood size of 26.\n",
      "[2021-08-18 18:17:41,588]    INFO [ILPSolver] (Process: c5f3409bd9f27800eaaa1cddbe24a630) LCA distance 2 completed with a neighborhood size of 35.\n",
      "[2021-08-18 18:17:42,089]    INFO [ILPSolver] (Process c5f3409bd9f27800eaaa1cddbe24a630) Steiner tree solving tool 0 days, 0 hours, 0 minutes, and 0 seconds.\n"
     ]
    },
    {
     "name": "stdout",
     "output_type": "stream",
     "text": [
      "subtree 0\n"
     ]
    },
    {
     "name": "stderr",
     "output_type": "stream",
     "text": [
      "[2021-08-18 18:17:42,172]    INFO [ILPSolver] Solving tree with the following parameters.\n",
      "[2021-08-18 18:17:42,176]    INFO [ILPSolver] Convergence time limit: 500\n",
      "[2021-08-18 18:17:42,179]    INFO [ILPSolver] Convergence iteration limit: 0\n",
      "[2021-08-18 18:17:42,182]    INFO [ILPSolver] Max potential graph layer size: 10000\n",
      "[2021-08-18 18:17:42,185]    INFO [ILPSolver] Max potential graph lca distance: None\n",
      "[2021-08-18 18:17:42,188]    INFO [ILPSolver] MIP gap: 0.01\n",
      "[2021-08-18 18:17:42,312]    INFO [ILPSolver] (Process: e19397ac9d25a8dfbda5d2ff5ed8bbeb) Estimating a potential graph with a maximum layer size of 10000 and a maximum LCA distance of 20.\n",
      "[2021-08-18 18:18:45,527]    INFO [ILPSolver] (Process d747cf508b271dd4ee9f8a16eb7a2255) Steiner tree solving tool 0 days, 0 hours, 8 minutes, and 20 seconds.\n",
      "[2021-08-18 18:18:45,533]    INFO [ILPSolver] (Process d747cf508b271dd4ee9f8a16eb7a2255) Warning: Steiner tree solving did not result in an optimal model.\n"
     ]
    },
    {
     "name": "stdout",
     "output_type": "stream",
     "text": [
      "subtree 0\n"
     ]
    },
    {
     "name": "stderr",
     "output_type": "stream",
     "text": [
      "[2021-08-18 18:18:45,973]    INFO [ILPSolver] Solving tree with the following parameters.\n",
      "[2021-08-18 18:18:45,976]    INFO [ILPSolver] Convergence time limit: 500\n",
      "[2021-08-18 18:18:45,979]    INFO [ILPSolver] Convergence iteration limit: 0\n",
      "[2021-08-18 18:18:45,982]    INFO [ILPSolver] Max potential graph layer size: 10000\n",
      "[2021-08-18 18:18:45,985]    INFO [ILPSolver] Max potential graph lca distance: None\n",
      "[2021-08-18 18:18:45,988]    INFO [ILPSolver] MIP gap: 0.01\n",
      "[2021-08-18 18:18:46,088]    INFO [ILPSolver] (Process: 7914bb9a8544c221cfe7a01e76b35286) Estimating a potential graph with a maximum layer size of 10000 and a maximum LCA distance of 5.\n",
      "[2021-08-18 18:18:48,330]    INFO [ILPSolver] (Process: 7914bb9a8544c221cfe7a01e76b35286) LCA distance 0 completed with a neighborhood size of 47.\n",
      "[2021-08-18 18:18:51,507]    INFO [ILPSolver] (Process: 7914bb9a8544c221cfe7a01e76b35286) LCA distance 1 completed with a neighborhood size of 47.\n",
      "[2021-08-18 18:19:07,353]    INFO [ILPSolver] (Process: 7914bb9a8544c221cfe7a01e76b35286) LCA distance 2 completed with a neighborhood size of 106.\n",
      "[2021-08-18 18:19:09,814]    INFO [ILPSolver] (Process fefab27b440f2c88182b4ea54676fce9) Steiner tree solving tool 0 days, 0 hours, 8 minutes, and 20 seconds.\n",
      "[2021-08-18 18:19:09,818]    INFO [ILPSolver] (Process fefab27b440f2c88182b4ea54676fce9) Warning: Steiner tree solving did not result in an optimal model.\n"
     ]
    },
    {
     "name": "stdout",
     "output_type": "stream",
     "text": [
      "subtree 0\n"
     ]
    },
    {
     "name": "stderr",
     "output_type": "stream",
     "text": [
      "[2021-08-18 18:19:10,301]    INFO [ILPSolver] Solving tree with the following parameters.\n",
      "[2021-08-18 18:19:10,304]    INFO [ILPSolver] Convergence time limit: 500\n",
      "[2021-08-18 18:19:10,307]    INFO [ILPSolver] Convergence iteration limit: 0\n",
      "[2021-08-18 18:19:10,310]    INFO [ILPSolver] Max potential graph layer size: 10000\n",
      "[2021-08-18 18:19:10,313]    INFO [ILPSolver] Max potential graph lca distance: None\n",
      "[2021-08-18 18:19:10,316]    INFO [ILPSolver] MIP gap: 0.01\n",
      "[2021-08-18 18:19:10,427]    INFO [ILPSolver] (Process: c1ecc042d1313199ad1fa787db5842c4) Estimating a potential graph with a maximum layer size of 10000 and a maximum LCA distance of 12.\n",
      "[2021-08-18 18:19:13,223]    INFO [ILPSolver] (Process: e19397ac9d25a8dfbda5d2ff5ed8bbeb) Maximum layer size exceeded, returning network.\n"
     ]
    },
    {
     "name": "stdout",
     "output_type": "stream",
     "text": [
      "subtree 0\n"
     ]
    },
    {
     "name": "stderr",
     "output_type": "stream",
     "text": [
      "[2021-08-18 18:19:13,314]    INFO [ILPSolver] Solving tree with the following parameters.\n",
      "[2021-08-18 18:19:13,317]    INFO [ILPSolver] Convergence time limit: 500\n",
      "[2021-08-18 18:19:13,321]    INFO [ILPSolver] Convergence iteration limit: 0\n",
      "[2021-08-18 18:19:13,323]    INFO [ILPSolver] Max potential graph layer size: 10000\n",
      "[2021-08-18 18:19:13,327]    INFO [ILPSolver] Max potential graph lca distance: None\n",
      "[2021-08-18 18:19:13,329]    INFO [ILPSolver] MIP gap: 0.01\n",
      "[2021-08-18 18:19:13,403]    INFO [ILPSolver] (Process: 7eb3eb735affde88b2717ae95858024b) Estimating a potential graph with a maximum layer size of 10000 and a maximum LCA distance of 17.\n",
      "[2021-08-18 18:19:25,103]    INFO [ILPSolver] (Process: 7914bb9a8544c221cfe7a01e76b35286) LCA distance 3 completed with a neighborhood size of 163.\n",
      "[2021-08-18 18:19:43,914]    INFO [ILPSolver] (Process: 7914bb9a8544c221cfe7a01e76b35286) LCA distance 4 completed with a neighborhood size of 163.\n",
      "[2021-08-18 18:20:02,372]    INFO [ILPSolver] (Process: 7914bb9a8544c221cfe7a01e76b35286) LCA distance 5 completed with a neighborhood size of 163.\n",
      "[2021-08-18 18:20:16,495]    INFO [ILPSolver] (Process 3b4691f42584c3e752fa96d3204ae7d9) Steiner tree solving tool 0 days, 0 hours, 8 minutes, and 20 seconds.\n",
      "[2021-08-18 18:20:16,501]    INFO [ILPSolver] (Process 3b4691f42584c3e752fa96d3204ae7d9) Warning: Steiner tree solving did not result in an optimal model.\n"
     ]
    },
    {
     "name": "stdout",
     "output_type": "stream",
     "text": [
      "subtree 0\n"
     ]
    },
    {
     "name": "stderr",
     "output_type": "stream",
     "text": [
      "[2021-08-18 18:20:16,931]    INFO [ILPSolver] Solving tree with the following parameters.\n",
      "[2021-08-18 18:20:16,933]    INFO [ILPSolver] Convergence time limit: 500\n",
      "[2021-08-18 18:20:16,936]    INFO [ILPSolver] Convergence iteration limit: 0\n",
      "[2021-08-18 18:20:16,939]    INFO [ILPSolver] Max potential graph layer size: 10000\n",
      "[2021-08-18 18:20:16,942]    INFO [ILPSolver] Max potential graph lca distance: None\n",
      "[2021-08-18 18:20:16,945]    INFO [ILPSolver] MIP gap: 0.01\n",
      "[2021-08-18 18:20:17,076]    INFO [ILPSolver] (Process: 7f15b587a2ea05ba6f85f640d5c623c4) Estimating a potential graph with a maximum layer size of 10000 and a maximum LCA distance of 7.\n",
      "[2021-08-18 18:20:20,321]    INFO [ILPSolver] (Process: 7eb3eb735affde88b2717ae95858024b) Maximum layer size exceeded, returning network.\n"
     ]
    },
    {
     "name": "stdout",
     "output_type": "stream",
     "text": [
      "subtree 0\n"
     ]
    },
    {
     "name": "stderr",
     "output_type": "stream",
     "text": [
      "[2021-08-18 18:20:20,386]    INFO [ILPSolver] Solving tree with the following parameters.\n",
      "[2021-08-18 18:20:20,390]    INFO [ILPSolver] Convergence time limit: 500\n",
      "[2021-08-18 18:20:20,393]    INFO [ILPSolver] Convergence iteration limit: 0\n",
      "[2021-08-18 18:20:20,396]    INFO [ILPSolver] Max potential graph layer size: 10000\n",
      "[2021-08-18 18:20:20,399]    INFO [ILPSolver] Max potential graph lca distance: None\n",
      "[2021-08-18 18:20:20,402]    INFO [ILPSolver] MIP gap: 0.01\n",
      "[2021-08-18 18:20:20,520]    INFO [ILPSolver] (Process: 9d1dc5dbf73f25db020357da5a24ec24) Estimating a potential graph with a maximum layer size of 10000 and a maximum LCA distance of 16.\n",
      "[2021-08-18 18:20:34,130]    INFO [ILPSolver] (Process 7914bb9a8544c221cfe7a01e76b35286) Steiner tree solving tool 0 days, 0 hours, 0 minutes, and 27 seconds.\n"
     ]
    },
    {
     "name": "stdout",
     "output_type": "stream",
     "text": [
      "subtree 0\n"
     ]
    },
    {
     "name": "stderr",
     "output_type": "stream",
     "text": [
      "[2021-08-18 18:20:34,336]    INFO [ILPSolver] Solving tree with the following parameters.\n",
      "[2021-08-18 18:20:34,339]    INFO [ILPSolver] Convergence time limit: 500\n",
      "[2021-08-18 18:20:34,342]    INFO [ILPSolver] Convergence iteration limit: 0\n",
      "[2021-08-18 18:20:34,345]    INFO [ILPSolver] Max potential graph layer size: 10000\n",
      "[2021-08-18 18:20:34,348]    INFO [ILPSolver] Max potential graph lca distance: None\n",
      "[2021-08-18 18:20:34,351]    INFO [ILPSolver] MIP gap: 0.01\n",
      "[2021-08-18 18:20:34,456]    INFO [ILPSolver] (Process: 09de86bce1917734f329742d2f3c2348) Estimating a potential graph with a maximum layer size of 10000 and a maximum LCA distance of 19.\n",
      "[2021-08-18 18:21:28,042]    INFO [ILPSolver] (Process: 09de86bce1917734f329742d2f3c2348) Maximum layer size exceeded, returning network.\n"
     ]
    },
    {
     "name": "stdout",
     "output_type": "stream",
     "text": [
      "subtree 0\n"
     ]
    },
    {
     "name": "stderr",
     "output_type": "stream",
     "text": [
      "[2021-08-18 18:21:28,111]    INFO [ILPSolver] Solving tree with the following parameters.\n",
      "[2021-08-18 18:21:28,114]    INFO [ILPSolver] Convergence time limit: 500\n",
      "[2021-08-18 18:21:28,118]    INFO [ILPSolver] Convergence iteration limit: 0\n",
      "[2021-08-18 18:21:28,120]    INFO [ILPSolver] Max potential graph layer size: 10000\n",
      "[2021-08-18 18:21:28,123]    INFO [ILPSolver] Max potential graph lca distance: None\n",
      "[2021-08-18 18:21:28,126]    INFO [ILPSolver] MIP gap: 0.01\n",
      "[2021-08-18 18:21:28,241]    INFO [ILPSolver] (Process: ac8b9514b4a39ad9a73b76d995198a22) Estimating a potential graph with a maximum layer size of 10000 and a maximum LCA distance of 22.\n",
      "[2021-08-18 18:21:48,773]    INFO [ILPSolver] (Process: 9d1dc5dbf73f25db020357da5a24ec24) Maximum layer size exceeded, returning network.\n"
     ]
    },
    {
     "name": "stdout",
     "output_type": "stream",
     "text": [
      "subtree 0\n"
     ]
    },
    {
     "name": "stderr",
     "output_type": "stream",
     "text": [
      "[2021-08-18 18:21:48,875]    INFO [ILPSolver] Solving tree with the following parameters.\n",
      "[2021-08-18 18:21:48,879]    INFO [ILPSolver] Convergence time limit: 500\n",
      "[2021-08-18 18:21:48,882]    INFO [ILPSolver] Convergence iteration limit: 0\n",
      "[2021-08-18 18:21:48,885]    INFO [ILPSolver] Max potential graph layer size: 10000\n",
      "[2021-08-18 18:21:48,889]    INFO [ILPSolver] Max potential graph lca distance: None\n",
      "[2021-08-18 18:21:48,892]    INFO [ILPSolver] MIP gap: 0.01\n",
      "[2021-08-18 18:21:48,986]    INFO [ILPSolver] (Process: a5c620e9bd8cf4fda39dd5ce8fb52aef) Estimating a potential graph with a maximum layer size of 10000 and a maximum LCA distance of 9.\n",
      "[2021-08-18 18:21:49,847]    INFO [ILPSolver] (Process: a5c620e9bd8cf4fda39dd5ce8fb52aef) LCA distance 0 completed with a neighborhood size of 20.\n",
      "[2021-08-18 18:21:50,353]    INFO [ILPSolver] (Process: a5c620e9bd8cf4fda39dd5ce8fb52aef) LCA distance 1 completed with a neighborhood size of 20.\n",
      "[2021-08-18 18:21:52,125]    INFO [ILPSolver] (Process: 8ea11f307b348ea50893a872c0d3d1a9) LCA distance 1 completed with a neighborhood size of 975.\n",
      "[2021-08-18 18:21:57,550]    INFO [ILPSolver] (Process: a5c620e9bd8cf4fda39dd5ce8fb52aef) LCA distance 2 completed with a neighborhood size of 96.\n",
      "[2021-08-18 18:22:13,973]    INFO [ILPSolver] (Process: a5c620e9bd8cf4fda39dd5ce8fb52aef) LCA distance 3 completed with a neighborhood size of 158.\n",
      "[2021-08-18 18:22:45,244]    INFO [ILPSolver] (Process: a5c620e9bd8cf4fda39dd5ce8fb52aef) LCA distance 4 completed with a neighborhood size of 162.\n",
      "[2021-08-18 18:23:04,422]    INFO [ILPSolver] (Process: a5c620e9bd8cf4fda39dd5ce8fb52aef) LCA distance 5 completed with a neighborhood size of 162.\n",
      "[2021-08-18 18:23:06,588]    INFO [ILPSolver] (Process: 2101369de14223466bd0ec05c227b6c1) LCA distance 0 completed with a neighborhood size of 1218.\n",
      "[2021-08-18 18:23:22,793]    INFO [ILPSolver] (Process: a5c620e9bd8cf4fda39dd5ce8fb52aef) LCA distance 6 completed with a neighborhood size of 163.\n",
      "[2021-08-18 18:23:56,819]    INFO [ILPSolver] (Process: a5c620e9bd8cf4fda39dd5ce8fb52aef) LCA distance 7 completed with a neighborhood size of 163.\n",
      "[2021-08-18 18:24:25,860]    INFO [ILPSolver] (Process: a5c620e9bd8cf4fda39dd5ce8fb52aef) LCA distance 8 completed with a neighborhood size of 163.\n",
      "[2021-08-18 18:24:33,348]    INFO [ILPSolver] (Process: 881331dd1c09fd3d0eea76fc029c0b56) LCA distance 2 completed with a neighborhood size of 1013.\n",
      "[2021-08-18 18:24:43,694]    INFO [ILPSolver] (Process: a5c620e9bd8cf4fda39dd5ce8fb52aef) LCA distance 9 completed with a neighborhood size of 163.\n",
      "[2021-08-18 18:29:20,660]    INFO [ILPSolver] (Process: 30418f754398fd6e1f2cc9c2d2d273f3) LCA distance 0 completed with a neighborhood size of 1451.\n",
      "[2021-08-18 18:29:39,773]    INFO [ILPSolver] (Process: 79547c8432ae9b3df9d5797f7423c8ba) LCA distance 2 completed with a neighborhood size of 1290.\n",
      "[2021-08-18 18:33:08,553]    INFO [ILPSolver] (Process a5c620e9bd8cf4fda39dd5ce8fb52aef) Steiner tree solving tool 0 days, 0 hours, 8 minutes, and 20 seconds.\n",
      "[2021-08-18 18:33:08,556]    INFO [ILPSolver] (Process a5c620e9bd8cf4fda39dd5ce8fb52aef) Warning: Steiner tree solving did not result in an optimal model.\n"
     ]
    },
    {
     "name": "stdout",
     "output_type": "stream",
     "text": [
      "subtree 0\n"
     ]
    },
    {
     "name": "stderr",
     "output_type": "stream",
     "text": [
      "[2021-08-18 18:33:08,747]    INFO [ILPSolver] Solving tree with the following parameters.\n",
      "[2021-08-18 18:33:08,750]    INFO [ILPSolver] Convergence time limit: 500\n",
      "[2021-08-18 18:33:08,753]    INFO [ILPSolver] Convergence iteration limit: 0\n",
      "[2021-08-18 18:33:08,756]    INFO [ILPSolver] Max potential graph layer size: 10000\n",
      "[2021-08-18 18:33:08,759]    INFO [ILPSolver] Max potential graph lca distance: None\n",
      "[2021-08-18 18:33:08,762]    INFO [ILPSolver] MIP gap: 0.01\n",
      "[2021-08-18 18:33:08,859]    INFO [ILPSolver] (Process: 000abea7bd147c94e6887a284c2992f4) Estimating a potential graph with a maximum layer size of 10000 and a maximum LCA distance of 12.\n",
      "[2021-08-18 18:33:27,298]    INFO [ILPSolver] (Process: 000abea7bd147c94e6887a284c2992f4) LCA distance 0 completed with a neighborhood size of 129.\n",
      "[2021-08-18 18:37:04,535]    INFO [ILPSolver] (Process: 000abea7bd147c94e6887a284c2992f4) LCA distance 1 completed with a neighborhood size of 437.\n",
      "[2021-08-18 18:39:22,196]    INFO [ILPSolver] (Process: d86f53577fbcbd37bd2a48ae56ddaf23) Maximum layer size exceeded, returning network.\n"
     ]
    },
    {
     "name": "stdout",
     "output_type": "stream",
     "text": [
      "subtree 0\n"
     ]
    },
    {
     "name": "stderr",
     "output_type": "stream",
     "text": [
      "[2021-08-18 18:39:22,380]    INFO [ILPSolver] Solving tree with the following parameters.\n",
      "[2021-08-18 18:39:22,383]    INFO [ILPSolver] Convergence time limit: 500\n",
      "[2021-08-18 18:39:22,385]    INFO [ILPSolver] Convergence iteration limit: 0\n",
      "[2021-08-18 18:39:22,388]    INFO [ILPSolver] Max potential graph layer size: 10000\n",
      "[2021-08-18 18:39:22,391]    INFO [ILPSolver] Max potential graph lca distance: None\n",
      "[2021-08-18 18:39:22,395]    INFO [ILPSolver] MIP gap: 0.01\n",
      "[2021-08-18 18:39:22,483]    INFO [ILPSolver] (Process: f93d92b46dee5d562ca6b08d9f1d91b7) Estimating a potential graph with a maximum layer size of 10000 and a maximum LCA distance of 17.\n",
      "[2021-08-18 18:40:52,321]    INFO [ILPSolver] (Process: c901afdbe0ced9610b44f1304466c79c) Maximum layer size exceeded, returning network.\n"
     ]
    },
    {
     "name": "stdout",
     "output_type": "stream",
     "text": [
      "subtree 0\n"
     ]
    },
    {
     "name": "stderr",
     "output_type": "stream",
     "text": [
      "[2021-08-18 18:40:52,558]    INFO [ILPSolver] Solving tree with the following parameters.\n",
      "[2021-08-18 18:40:52,561]    INFO [ILPSolver] Convergence time limit: 500\n",
      "[2021-08-18 18:40:52,565]    INFO [ILPSolver] Convergence iteration limit: 0\n",
      "[2021-08-18 18:40:52,568]    INFO [ILPSolver] Max potential graph layer size: 10000\n",
      "[2021-08-18 18:40:52,571]    INFO [ILPSolver] Max potential graph lca distance: None\n",
      "[2021-08-18 18:40:52,574]    INFO [ILPSolver] MIP gap: 0.01\n",
      "[2021-08-18 18:40:52,673]    INFO [ILPSolver] (Process: a32e6b3daa81e96f60d0f66f97b644a6) Estimating a potential graph with a maximum layer size of 10000 and a maximum LCA distance of 7.\n",
      "[2021-08-18 18:40:54,358]    INFO [ILPSolver] (Process: a32e6b3daa81e96f60d0f66f97b644a6) LCA distance 0 completed with a neighborhood size of 39.\n",
      "[2021-08-18 18:40:56,009]    INFO [ILPSolver] (Process: a32e6b3daa81e96f60d0f66f97b644a6) LCA distance 1 completed with a neighborhood size of 39.\n",
      "[2021-08-18 18:40:58,002]    INFO [ILPSolver] (Process: a32e6b3daa81e96f60d0f66f97b644a6) LCA distance 2 completed with a neighborhood size of 41.\n",
      "[2021-08-18 18:41:03,431]    INFO [ILPSolver] (Process: a32e6b3daa81e96f60d0f66f97b644a6) LCA distance 3 completed with a neighborhood size of 65.\n",
      "[2021-08-18 18:41:06,797]    INFO [ILPSolver] (Process: a32e6b3daa81e96f60d0f66f97b644a6) LCA distance 4 completed with a neighborhood size of 69.\n",
      "[2021-08-18 18:41:10,170]    INFO [ILPSolver] (Process: a32e6b3daa81e96f60d0f66f97b644a6) LCA distance 5 completed with a neighborhood size of 70.\n",
      "[2021-08-18 18:41:13,544]    INFO [ILPSolver] (Process: a32e6b3daa81e96f60d0f66f97b644a6) LCA distance 6 completed with a neighborhood size of 70.\n",
      "[2021-08-18 18:41:16,976]    INFO [ILPSolver] (Process: a32e6b3daa81e96f60d0f66f97b644a6) LCA distance 7 completed with a neighborhood size of 70.\n",
      "[2021-08-18 18:42:04,651]    INFO [ILPSolver] (Process a32e6b3daa81e96f60d0f66f97b644a6) Steiner tree solving tool 0 days, 0 hours, 0 minutes, and 46 seconds.\n"
     ]
    },
    {
     "name": "stdout",
     "output_type": "stream",
     "text": [
      "subtree 0\n"
     ]
    },
    {
     "name": "stderr",
     "output_type": "stream",
     "text": [
      "[2021-08-18 18:42:04,775]    INFO [ILPSolver] Solving tree with the following parameters.\n",
      "[2021-08-18 18:42:04,778]    INFO [ILPSolver] Convergence time limit: 500\n",
      "[2021-08-18 18:42:04,781]    INFO [ILPSolver] Convergence iteration limit: 0\n",
      "[2021-08-18 18:42:04,784]    INFO [ILPSolver] Max potential graph layer size: 10000\n",
      "[2021-08-18 18:42:04,787]    INFO [ILPSolver] Max potential graph lca distance: None\n",
      "[2021-08-18 18:42:04,790]    INFO [ILPSolver] MIP gap: 0.01\n",
      "[2021-08-18 18:42:04,896]    INFO [ILPSolver] (Process: fcce2bb71fbd410caeda23bd403f9f7a) Estimating a potential graph with a maximum layer size of 10000 and a maximum LCA distance of 6.\n",
      "[2021-08-18 18:42:48,369]    INFO [ILPSolver] (Process: fcce2bb71fbd410caeda23bd403f9f7a) LCA distance 0 completed with a neighborhood size of 216.\n",
      "[2021-08-18 18:43:58,450]    INFO [ILPSolver] (Process: fcce2bb71fbd410caeda23bd403f9f7a) LCA distance 1 completed with a neighborhood size of 223.\n",
      "[2021-08-18 18:44:46,129]    INFO [ILPSolver] (Process: 8be0d19bfbbc0993fd44fd41684eefa4) LCA distance 2 completed with a neighborhood size of 1558.\n",
      "[2021-08-18 18:44:50,571]    INFO [ILPSolver] (Process: 1398bcadd75d7668da3acdc35717c396) LCA distance 1 completed with a neighborhood size of 1493.\n",
      "[2021-08-18 18:57:02,807]    INFO [ILPSolver] (Process: 51f3cef1d99f22967218eaebe9f1445c) LCA distance 3 completed with a neighborhood size of 1676.\n",
      "[2021-08-18 19:01:55,956]    INFO [ILPSolver] (Process: fcce2bb71fbd410caeda23bd403f9f7a) LCA distance 2 completed with a neighborhood size of 997.\n",
      "[2021-08-18 19:03:30,320]    INFO [ILPSolver] (Process: 881331dd1c09fd3d0eea76fc029c0b56) LCA distance 3 completed with a neighborhood size of 1628.\n",
      "[2021-08-18 19:11:33,888]    INFO [ILPSolver] (Process: 79547c8432ae9b3df9d5797f7423c8ba) LCA distance 3 completed with a neighborhood size of 1679.\n",
      "[2021-08-18 19:22:54,494]    INFO [ILPSolver] (Process: 94556162b05a9464f6f6fb2359a25865) Maximum layer size exceeded, returning network.\n"
     ]
    },
    {
     "name": "stdout",
     "output_type": "stream",
     "text": [
      "subtree 0\n"
     ]
    },
    {
     "name": "stderr",
     "output_type": "stream",
     "text": [
      "[2021-08-18 19:22:54,746]    INFO [ILPSolver] Solving tree with the following parameters.\n",
      "[2021-08-18 19:22:54,749]    INFO [ILPSolver] Convergence time limit: 500\n",
      "[2021-08-18 19:22:54,752]    INFO [ILPSolver] Convergence iteration limit: 0\n",
      "[2021-08-18 19:22:54,755]    INFO [ILPSolver] Max potential graph layer size: 10000\n",
      "[2021-08-18 19:22:54,758]    INFO [ILPSolver] Max potential graph lca distance: None\n",
      "[2021-08-18 19:22:54,762]    INFO [ILPSolver] MIP gap: 0.01\n",
      "[2021-08-18 19:22:54,882]    INFO [ILPSolver] (Process: 301c56d059d02deafa1c5267f48bbb94) Estimating a potential graph with a maximum layer size of 10000 and a maximum LCA distance of 20.\n",
      "[2021-08-18 19:26:56,988]    INFO [ILPSolver] (Process: b7ef1ae48b38389042b4132f11ab7e27) LCA distance 2 completed with a neighborhood size of 2185.\n",
      "[2021-08-18 19:29:22,371]    INFO [ILPSolver] (Process: c1ecc042d1313199ad1fa787db5842c4) LCA distance 0 completed with a neighborhood size of 1947.\n",
      "[2021-08-18 19:39:31,934]    INFO [ILPSolver] (Process: 51f3cef1d99f22967218eaebe9f1445c) LCA distance 4 completed with a neighborhood size of 1749.\n",
      "[2021-08-18 19:44:02,757]    INFO [ILPSolver] (Process: fcce2bb71fbd410caeda23bd403f9f7a) LCA distance 3 completed with a neighborhood size of 1650.\n",
      "[2021-08-18 19:47:28,266]    INFO [ILPSolver] (Process: 881331dd1c09fd3d0eea76fc029c0b56) LCA distance 4 completed with a neighborhood size of 1734.\n",
      "[2021-08-18 19:53:47,169]    INFO [ILPSolver] (Process: ac8b9514b4a39ad9a73b76d995198a22) Maximum layer size exceeded, returning network.\n"
     ]
    },
    {
     "name": "stdout",
     "output_type": "stream",
     "text": [
      "subtree 0\n"
     ]
    },
    {
     "name": "stderr",
     "output_type": "stream",
     "text": [
      "[2021-08-18 19:53:47,332]    INFO [ILPSolver] Solving tree with the following parameters.\n",
      "[2021-08-18 19:53:47,335]    INFO [ILPSolver] Convergence time limit: 500\n",
      "[2021-08-18 19:53:47,338]    INFO [ILPSolver] Convergence iteration limit: 0\n",
      "[2021-08-18 19:53:47,341]    INFO [ILPSolver] Max potential graph layer size: 10000\n",
      "[2021-08-18 19:53:47,344]    INFO [ILPSolver] Max potential graph lca distance: None\n",
      "[2021-08-18 19:53:47,348]    INFO [ILPSolver] MIP gap: 0.01\n",
      "[2021-08-18 19:53:47,471]    INFO [ILPSolver] (Process: ebf13f388672531047b274e55bc1362a) Estimating a potential graph with a maximum layer size of 10000 and a maximum LCA distance of 22.\n",
      "[2021-08-18 19:54:56,474]    INFO [ILPSolver] (Process: 79547c8432ae9b3df9d5797f7423c8ba) LCA distance 4 completed with a neighborhood size of 1749.\n",
      "[2021-08-18 19:55:00,345]    INFO [ILPSolver] (Process: ebf13f388672531047b274e55bc1362a) Maximum layer size exceeded, returning network.\n"
     ]
    },
    {
     "name": "stdout",
     "output_type": "stream",
     "text": [
      "subtree 0\n"
     ]
    },
    {
     "name": "stderr",
     "output_type": "stream",
     "text": [
      "[2021-08-18 19:55:00,412]    INFO [ILPSolver] Solving tree with the following parameters.\n",
      "[2021-08-18 19:55:00,415]    INFO [ILPSolver] Convergence time limit: 500\n",
      "[2021-08-18 19:55:00,419]    INFO [ILPSolver] Convergence iteration limit: 0\n",
      "[2021-08-18 19:55:00,422]    INFO [ILPSolver] Max potential graph layer size: 10000\n",
      "[2021-08-18 19:55:00,425]    INFO [ILPSolver] Max potential graph lca distance: None\n",
      "[2021-08-18 19:55:00,428]    INFO [ILPSolver] MIP gap: 0.01\n",
      "[2021-08-18 19:55:00,495]    INFO [ILPSolver] (Process: db03fa4972c35f589ab5448242a4903c) Estimating a potential graph with a maximum layer size of 10000 and a maximum LCA distance of 8.\n",
      "[2021-08-18 19:55:01,396]    INFO [ILPSolver] (Process: db03fa4972c35f589ab5448242a4903c) LCA distance 0 completed with a neighborhood size of 38.\n",
      "[2021-08-18 19:55:02,441]    INFO [ILPSolver] (Process: db03fa4972c35f589ab5448242a4903c) LCA distance 1 completed with a neighborhood size of 38.\n",
      "[2021-08-18 19:55:07,937]    INFO [ILPSolver] (Process: db03fa4972c35f589ab5448242a4903c) LCA distance 2 completed with a neighborhood size of 78.\n",
      "[2021-08-18 19:55:15,748]    INFO [ILPSolver] (Process: db03fa4972c35f589ab5448242a4903c) LCA distance 3 completed with a neighborhood size of 89.\n",
      "[2021-08-18 19:55:32,862]    INFO [ILPSolver] (Process: db03fa4972c35f589ab5448242a4903c) LCA distance 4 completed with a neighborhood size of 163.\n",
      "[2021-08-18 19:55:50,096]    INFO [ILPSolver] (Process: db03fa4972c35f589ab5448242a4903c) LCA distance 5 completed with a neighborhood size of 163.\n",
      "[2021-08-18 19:56:07,524]    INFO [ILPSolver] (Process: db03fa4972c35f589ab5448242a4903c) LCA distance 6 completed with a neighborhood size of 163.\n",
      "[2021-08-18 19:56:24,913]    INFO [ILPSolver] (Process: db03fa4972c35f589ab5448242a4903c) LCA distance 7 completed with a neighborhood size of 163.\n",
      "[2021-08-18 19:56:41,196]    INFO [ILPSolver] (Process: cadb5d4f034368e6bbd749399e9161dc) LCA distance 2 completed with a neighborhood size of 2455.\n",
      "[2021-08-18 19:56:42,892]    INFO [ILPSolver] (Process: db03fa4972c35f589ab5448242a4903c) LCA distance 8 completed with a neighborhood size of 163.\n",
      "[2021-08-18 20:05:06,242]    INFO [ILPSolver] (Process db03fa4972c35f589ab5448242a4903c) Steiner tree solving tool 0 days, 0 hours, 8 minutes, and 20 seconds.\n",
      "[2021-08-18 20:05:06,246]    INFO [ILPSolver] (Process db03fa4972c35f589ab5448242a4903c) Warning: Steiner tree solving did not result in an optimal model.\n"
     ]
    },
    {
     "name": "stdout",
     "output_type": "stream",
     "text": [
      "subtree 0\n"
     ]
    },
    {
     "name": "stderr",
     "output_type": "stream",
     "text": [
      "[2021-08-18 20:05:06,586]    INFO [ILPSolver] Solving tree with the following parameters.\n",
      "[2021-08-18 20:05:06,590]    INFO [ILPSolver] Convergence time limit: 500\n",
      "[2021-08-18 20:05:06,592]    INFO [ILPSolver] Convergence iteration limit: 0\n",
      "[2021-08-18 20:05:06,595]    INFO [ILPSolver] Max potential graph layer size: 10000\n",
      "[2021-08-18 20:05:06,598]    INFO [ILPSolver] Max potential graph lca distance: None\n",
      "[2021-08-18 20:05:06,601]    INFO [ILPSolver] MIP gap: 0.01\n",
      "[2021-08-18 20:05:06,663]    INFO [ILPSolver] (Process: ed3a51d58e00a0e178cbe4a80fb148b3) Estimating a potential graph with a maximum layer size of 10000 and a maximum LCA distance of 10.\n",
      "[2021-08-18 20:05:55,718]    INFO [ILPSolver] (Process: ed3a51d58e00a0e178cbe4a80fb148b3) LCA distance 0 completed with a neighborhood size of 236.\n",
      "[2021-08-18 20:09:15,919]    INFO [ILPSolver] (Process: ed3a51d58e00a0e178cbe4a80fb148b3) LCA distance 1 completed with a neighborhood size of 474.\n",
      "[2021-08-18 20:18:24,305]    INFO [ILPSolver] (Process: 51f3cef1d99f22967218eaebe9f1445c) LCA distance 5 completed with a neighborhood size of 1749.\n",
      "[2021-08-18 20:19:03,541]    INFO [ILPSolver] (Process: 31239d3150b08c17beb0bf62f596b727) LCA distance 0 completed with a neighborhood size of 3308.\n",
      "[2021-08-18 20:20:21,294]    INFO [ILPSolver] (Process c1ecc042d1313199ad1fa787db5842c4) Steiner tree solving tool 0 days, 0 hours, 8 minutes, and 20 seconds.\n",
      "[2021-08-18 20:20:21,298]    INFO [ILPSolver] (Process c1ecc042d1313199ad1fa787db5842c4) Warning: Steiner tree solving did not result in an optimal model.\n"
     ]
    },
    {
     "name": "stdout",
     "output_type": "stream",
     "text": [
      "subtree 0\n"
     ]
    },
    {
     "name": "stderr",
     "output_type": "stream",
     "text": [
      "[2021-08-18 20:20:22,919]    INFO [ILPSolver] Solving tree with the following parameters.\n",
      "[2021-08-18 20:20:22,922]    INFO [ILPSolver] Convergence time limit: 500\n",
      "[2021-08-18 20:20:22,925]    INFO [ILPSolver] Convergence iteration limit: 0\n",
      "[2021-08-18 20:20:22,928]    INFO [ILPSolver] Max potential graph layer size: 10000\n",
      "[2021-08-18 20:20:22,931]    INFO [ILPSolver] Max potential graph lca distance: None\n",
      "[2021-08-18 20:20:22,934]    INFO [ILPSolver] MIP gap: 0.01\n",
      "[2021-08-18 20:20:23,043]    INFO [ILPSolver] (Process: 7cea555ed72642f5a36e5aaecbfbb174) Estimating a potential graph with a maximum layer size of 10000 and a maximum LCA distance of 16.\n",
      "[2021-08-18 20:21:30,248]    INFO [ILPSolver] (Process: fcce2bb71fbd410caeda23bd403f9f7a) LCA distance 4 completed with a neighborhood size of 1732.\n",
      "[2021-08-18 20:25:50,735]    INFO [ILPSolver] (Process: 881331dd1c09fd3d0eea76fc029c0b56) LCA distance 5 completed with a neighborhood size of 1748.\n",
      "[2021-08-18 20:33:45,384]    INFO [ILPSolver] (Process: 79547c8432ae9b3df9d5797f7423c8ba) LCA distance 5 completed with a neighborhood size of 1749.\n",
      "[2021-08-18 20:34:28,109]    INFO [ILPSolver] (Process: 5ef1bca2a49024f4deae7e81948f17a0) Maximum layer size exceeded, returning network.\n"
     ]
    },
    {
     "name": "stdout",
     "output_type": "stream",
     "text": [
      "subtree 0\n"
     ]
    },
    {
     "name": "stderr",
     "output_type": "stream",
     "text": [
      "[2021-08-18 20:34:28,402]    INFO [ILPSolver] Solving tree with the following parameters.\n",
      "[2021-08-18 20:34:28,405]    INFO [ILPSolver] Convergence time limit: 500\n",
      "[2021-08-18 20:34:28,408]    INFO [ILPSolver] Convergence iteration limit: 0\n",
      "[2021-08-18 20:34:28,411]    INFO [ILPSolver] Max potential graph layer size: 10000\n",
      "[2021-08-18 20:34:28,413]    INFO [ILPSolver] Max potential graph lca distance: None\n",
      "[2021-08-18 20:34:28,417]    INFO [ILPSolver] MIP gap: 0.01\n",
      "[2021-08-18 20:34:28,532]    INFO [ILPSolver] (Process: 9507df51b5abf722f8b540b5cc25ccbb) Estimating a potential graph with a maximum layer size of 10000 and a maximum LCA distance of 18.\n",
      "[2021-08-18 20:57:06,725]    INFO [ILPSolver] (Process: 51f3cef1d99f22967218eaebe9f1445c) LCA distance 6 completed with a neighborhood size of 1749.\n",
      "[2021-08-18 20:59:24,129]    INFO [ILPSolver] (Process: fcce2bb71fbd410caeda23bd403f9f7a) LCA distance 5 completed with a neighborhood size of 1749.\n",
      "[2021-08-18 21:00:46,683]    INFO [ILPSolver] (Process: 7cea555ed72642f5a36e5aaecbfbb174) LCA distance 0 completed with a neighborhood size of 1753.\n",
      "[2021-08-18 21:01:47,326]    INFO [ILPSolver] (Process: 7f15b587a2ea05ba6f85f640d5c623c4) LCA distance 0 completed with a neighborhood size of 3647.\n",
      "[2021-08-18 21:04:04,040]    INFO [ILPSolver] (Process: 881331dd1c09fd3d0eea76fc029c0b56) LCA distance 6 completed with a neighborhood size of 1749.\n",
      "[2021-08-18 21:12:29,926]    INFO [ILPSolver] (Process: 79547c8432ae9b3df9d5797f7423c8ba) LCA distance 6 completed with a neighborhood size of 1749.\n",
      "[2021-08-18 21:36:08,191]    INFO [ILPSolver] (Process: 51f3cef1d99f22967218eaebe9f1445c) LCA distance 7 completed with a neighborhood size of 1749.\n",
      "[2021-08-18 21:37:27,883]    INFO [ILPSolver] (Process: fcce2bb71fbd410caeda23bd403f9f7a) LCA distance 6 completed with a neighborhood size of 1749.\n"
     ]
    },
    {
     "name": "stdout",
     "output_type": "stream",
     "text": [
      "Academic license - for non-commercial use only - expires 2022-07-17\n",
      "Using license file /home/isshamie/gurobi.lic\n"
     ]
    },
    {
     "name": "stderr",
     "output_type": "stream",
     "text": [
      "[2021-08-18 21:42:59,250]    INFO [ILPSolver] (Process: 881331dd1c09fd3d0eea76fc029c0b56) LCA distance 7 completed with a neighborhood size of 1749.\n"
     ]
    },
    {
     "name": "stdout",
     "output_type": "stream",
     "text": [
      "Academic license - for non-commercial use only - expires 2022-07-17\n",
      "Using license file /home/isshamie/gurobi.lic\n"
     ]
    },
    {
     "name": "stderr",
     "output_type": "stream",
     "text": [
      "[2021-08-18 21:45:16,598]    INFO [ILPSolver] (Process: 8be0d19bfbbc0993fd44fd41684eefa4) LCA distance 3 completed with a neighborhood size of 3301.\n",
      "[2021-08-18 21:47:47,282]    INFO [ILPSolver] (Process fcce2bb71fbd410caeda23bd403f9f7a) Steiner tree solving tool 0 days, 0 hours, 8 minutes, and 21 seconds.\n",
      "[2021-08-18 21:47:47,286]    INFO [ILPSolver] (Process fcce2bb71fbd410caeda23bd403f9f7a) Warning: Steiner tree solving did not result in an optimal model.\n"
     ]
    },
    {
     "name": "stdout",
     "output_type": "stream",
     "text": [
      "subtree 0\n"
     ]
    },
    {
     "name": "stderr",
     "output_type": "stream",
     "text": [
      "[2021-08-18 21:47:51,429]    INFO [ILPSolver] Solving tree with the following parameters.\n",
      "[2021-08-18 21:47:51,433]    INFO [ILPSolver] Convergence time limit: 500\n",
      "[2021-08-18 21:47:51,436]    INFO [ILPSolver] Convergence iteration limit: 0\n",
      "[2021-08-18 21:47:51,439]    INFO [ILPSolver] Max potential graph layer size: 10000\n",
      "[2021-08-18 21:47:51,442]    INFO [ILPSolver] Max potential graph lca distance: None\n",
      "[2021-08-18 21:47:51,445]    INFO [ILPSolver] MIP gap: 0.01\n",
      "[2021-08-18 21:47:51,545]    INFO [ILPSolver] (Process: bd546f4937ca738d31a354c9c5851748) Estimating a potential graph with a maximum layer size of 10000 and a maximum LCA distance of 13.\n",
      "[2021-08-18 21:47:51,982]    INFO [ILPSolver] (Process: bd546f4937ca738d31a354c9c5851748) LCA distance 0 completed with a neighborhood size of 18.\n",
      "[2021-08-18 21:47:52,516]    INFO [ILPSolver] (Process: bd546f4937ca738d31a354c9c5851748) LCA distance 1 completed with a neighborhood size of 18.\n",
      "[2021-08-18 21:47:54,141]    INFO [ILPSolver] (Process: bd546f4937ca738d31a354c9c5851748) LCA distance 2 completed with a neighborhood size of 45.\n",
      "[2021-08-18 21:48:00,997]    INFO [ILPSolver] (Process: bd546f4937ca738d31a354c9c5851748) LCA distance 3 completed with a neighborhood size of 89.\n",
      "[2021-08-18 21:48:13,275]    INFO [ILPSolver] (Process: bd546f4937ca738d31a354c9c5851748) LCA distance 4 completed with a neighborhood size of 129.\n",
      "[2021-08-18 21:48:29,017]    INFO [ILPSolver] (Process: bd546f4937ca738d31a354c9c5851748) LCA distance 5 completed with a neighborhood size of 151.\n",
      "[2021-08-18 21:48:31,368]    INFO [ILPSolver] (Process: ed3a51d58e00a0e178cbe4a80fb148b3) LCA distance 2 completed with a neighborhood size of 2462.\n",
      "[2021-08-18 21:48:38,974]    INFO [ILPSolver] (Process 2101369de14223466bd0ec05c227b6c1) Steiner tree solving tool 0 days, 0 hours, 8 minutes, and 20 seconds.\n",
      "[2021-08-18 21:48:38,981]    INFO [ILPSolver] (Process 2101369de14223466bd0ec05c227b6c1) Warning: Steiner tree solving did not result in an optimal model.\n"
     ]
    },
    {
     "name": "stdout",
     "output_type": "stream",
     "text": [
      "subtree 0\n"
     ]
    },
    {
     "name": "stderr",
     "output_type": "stream",
     "text": [
      "[2021-08-18 21:48:39,855]    INFO [ILPSolver] Solving tree with the following parameters.\n",
      "[2021-08-18 21:48:39,858]    INFO [ILPSolver] Convergence time limit: 500\n",
      "[2021-08-18 21:48:39,861]    INFO [ILPSolver] Convergence iteration limit: 0\n",
      "[2021-08-18 21:48:39,863]    INFO [ILPSolver] Max potential graph layer size: 10000\n",
      "[2021-08-18 21:48:39,866]    INFO [ILPSolver] Max potential graph lca distance: None\n",
      "[2021-08-18 21:48:39,869]    INFO [ILPSolver] MIP gap: 0.01\n",
      "[2021-08-18 21:48:39,972]    INFO [ILPSolver] (Process: 55d8e55fb5b5e5e9dc0c1eafd6dd12a8) Estimating a potential graph with a maximum layer size of 10000 and a maximum LCA distance of 9.\n",
      "[2021-08-18 21:48:46,059]    INFO [ILPSolver] (Process: bd546f4937ca738d31a354c9c5851748) LCA distance 6 completed with a neighborhood size of 158.\n",
      "[2021-08-18 21:49:03,619]    INFO [ILPSolver] (Process: bd546f4937ca738d31a354c9c5851748) LCA distance 7 completed with a neighborhood size of 162.\n",
      "[2021-08-18 21:49:22,002]    INFO [ILPSolver] (Process: bd546f4937ca738d31a354c9c5851748) LCA distance 8 completed with a neighborhood size of 163.\n",
      "[2021-08-18 21:49:40,178]    INFO [ILPSolver] (Process: bd546f4937ca738d31a354c9c5851748) LCA distance 9 completed with a neighborhood size of 163.\n",
      "[2021-08-18 21:49:58,332]    INFO [ILPSolver] (Process: bd546f4937ca738d31a354c9c5851748) LCA distance 10 completed with a neighborhood size of 163.\n",
      "[2021-08-18 21:50:16,045]    INFO [ILPSolver] (Process: bd546f4937ca738d31a354c9c5851748) LCA distance 11 completed with a neighborhood size of 163.\n",
      "[2021-08-18 21:50:33,783]    INFO [ILPSolver] (Process: bd546f4937ca738d31a354c9c5851748) LCA distance 12 completed with a neighborhood size of 163.\n",
      "[2021-08-18 21:50:51,726]    INFO [ILPSolver] (Process: bd546f4937ca738d31a354c9c5851748) LCA distance 13 completed with a neighborhood size of 163.\n",
      "[2021-08-18 21:51:30,881]    INFO [ILPSolver] (Process: 79547c8432ae9b3df9d5797f7423c8ba) LCA distance 7 completed with a neighborhood size of 1749.\n",
      "[2021-08-18 21:53:25,607]    INFO [ILPSolver] (Process 881331dd1c09fd3d0eea76fc029c0b56) Steiner tree solving tool 0 days, 0 hours, 8 minutes, and 21 seconds.\n",
      "[2021-08-18 21:53:25,611]    INFO [ILPSolver] (Process 881331dd1c09fd3d0eea76fc029c0b56) Warning: Steiner tree solving did not result in an optimal model.\n"
     ]
    },
    {
     "name": "stdout",
     "output_type": "stream",
     "text": [
      "subtree 0\n"
     ]
    },
    {
     "name": "stderr",
     "output_type": "stream",
     "text": [
      "[2021-08-18 21:53:29,172]    INFO [ILPSolver] Solving tree with the following parameters.\n",
      "[2021-08-18 21:53:29,175]    INFO [ILPSolver] Convergence time limit: 500\n",
      "[2021-08-18 21:53:29,178]    INFO [ILPSolver] Convergence iteration limit: 0\n",
      "[2021-08-18 21:53:29,180]    INFO [ILPSolver] Max potential graph layer size: 10000\n",
      "[2021-08-18 21:53:29,183]    INFO [ILPSolver] Max potential graph lca distance: None\n",
      "[2021-08-18 21:53:29,186]    INFO [ILPSolver] MIP gap: 0.01\n",
      "[2021-08-18 21:53:29,278]    INFO [ILPSolver] (Process: 9af3c0e20d5c1611a492179a2629d409) Estimating a potential graph with a maximum layer size of 10000 and a maximum LCA distance of 15.\n",
      "[2021-08-18 21:59:14,767]    INFO [ILPSolver] (Process bd546f4937ca738d31a354c9c5851748) Steiner tree solving tool 0 days, 0 hours, 8 minutes, and 20 seconds.\n",
      "[2021-08-18 21:59:14,770]    INFO [ILPSolver] (Process bd546f4937ca738d31a354c9c5851748) Warning: Steiner tree solving did not result in an optimal model.\n"
     ]
    },
    {
     "name": "stdout",
     "output_type": "stream",
     "text": [
      "subtree 0\n"
     ]
    },
    {
     "name": "stderr",
     "output_type": "stream",
     "text": [
      "[2021-08-18 21:59:14,967]    INFO [ILPSolver] Solving tree with the following parameters.\n",
      "[2021-08-18 21:59:14,970]    INFO [ILPSolver] Convergence time limit: 500\n",
      "[2021-08-18 21:59:14,972]    INFO [ILPSolver] Convergence iteration limit: 0\n",
      "[2021-08-18 21:59:14,975]    INFO [ILPSolver] Max potential graph layer size: 10000\n",
      "[2021-08-18 21:59:14,978]    INFO [ILPSolver] Max potential graph lca distance: None\n",
      "[2021-08-18 21:59:14,981]    INFO [ILPSolver] MIP gap: 0.01\n",
      "[2021-08-18 21:59:15,097]    INFO [ILPSolver] (Process: 16caf6772193537ebb8fd544b706f776) Estimating a potential graph with a maximum layer size of 10000 and a maximum LCA distance of 20.\n"
     ]
    },
    {
     "name": "stdout",
     "output_type": "stream",
     "text": [
      "Academic license - for non-commercial use only - expires 2022-07-17\n",
      "Using license file /home/isshamie/gurobi.lic\n"
     ]
    },
    {
     "name": "stderr",
     "output_type": "stream",
     "text": [
      "[2021-08-18 22:15:17,990]    INFO [ILPSolver] (Process: 55d8e55fb5b5e5e9dc0c1eafd6dd12a8) LCA distance 0 completed with a neighborhood size of 1464.\n",
      "[2021-08-18 22:16:02,634]    INFO [ILPSolver] (Process 31239d3150b08c17beb0bf62f596b727) Steiner tree solving tool 0 days, 0 hours, 8 minutes, and 21 seconds.\n",
      "[2021-08-18 22:16:02,638]    INFO [ILPSolver] (Process 31239d3150b08c17beb0bf62f596b727) Warning: Steiner tree solving did not result in an optimal model.\n"
     ]
    },
    {
     "name": "stdout",
     "output_type": "stream",
     "text": [
      "subtree 0\n"
     ]
    },
    {
     "name": "stderr",
     "output_type": "stream",
     "text": [
      "[2021-08-18 22:16:08,382]    INFO [ILPSolver] Solving tree with the following parameters.\n",
      "[2021-08-18 22:16:08,397]    INFO [ILPSolver] Convergence time limit: 500\n",
      "[2021-08-18 22:16:08,399]    INFO [ILPSolver] Convergence iteration limit: 0\n",
      "[2021-08-18 22:16:08,401]    INFO [ILPSolver] Max potential graph layer size: 10000\n",
      "[2021-08-18 22:16:08,404]    INFO [ILPSolver] Max potential graph lca distance: None\n",
      "[2021-08-18 22:16:08,406]    INFO [ILPSolver] MIP gap: 0.01\n",
      "[2021-08-18 22:16:08,467]    INFO [ILPSolver] (Process: b9fd9564a9b1edec76ad59848e25c79e) Estimating a potential graph with a maximum layer size of 10000 and a maximum LCA distance of 10.\n",
      "[2021-08-18 22:16:24,776]    INFO [ILPSolver] (Process: 51f3cef1d99f22967218eaebe9f1445c) LCA distance 8 completed with a neighborhood size of 1749.\n"
     ]
    },
    {
     "name": "stdout",
     "output_type": "stream",
     "text": [
      "Academic license - for non-commercial use only - expires 2022-07-17\n",
      "Using license file /home/isshamie/gurobi.lic\n"
     ]
    },
    {
     "name": "stderr",
     "output_type": "stream",
     "text": [
      "[2021-08-18 22:23:59,546]    INFO [ILPSolver] (Process: b9fd9564a9b1edec76ad59848e25c79e) LCA distance 0 completed with a neighborhood size of 832.\n",
      "[2021-08-18 22:27:15,893]    INFO [ILPSolver] (Process 51f3cef1d99f22967218eaebe9f1445c) Steiner tree solving tool 0 days, 0 hours, 8 minutes, and 21 seconds.\n",
      "[2021-08-18 22:27:15,898]    INFO [ILPSolver] (Process 51f3cef1d99f22967218eaebe9f1445c) Warning: Steiner tree solving did not result in an optimal model.\n",
      "[2021-08-18 22:27:18,273]    INFO [ILPSolver] (Process: b7ef1ae48b38389042b4132f11ab7e27) LCA distance 3 completed with a neighborhood size of 3323.\n"
     ]
    },
    {
     "name": "stdout",
     "output_type": "stream",
     "text": [
      "subtree 0\n"
     ]
    },
    {
     "name": "stderr",
     "output_type": "stream",
     "text": [
      "[2021-08-18 22:27:20,187]    INFO [ILPSolver] Solving tree with the following parameters.\n",
      "[2021-08-18 22:27:20,190]    INFO [ILPSolver] Convergence time limit: 500\n",
      "[2021-08-18 22:27:20,192]    INFO [ILPSolver] Convergence iteration limit: 0\n",
      "[2021-08-18 22:27:20,196]    INFO [ILPSolver] Max potential graph layer size: 10000\n",
      "[2021-08-18 22:27:20,198]    INFO [ILPSolver] Max potential graph lca distance: None\n",
      "[2021-08-18 22:27:20,201]    INFO [ILPSolver] MIP gap: 0.01\n",
      "[2021-08-18 22:27:20,306]    INFO [ILPSolver] (Process: fad688e3bb03838c86061e10cb05ea7a) Estimating a potential graph with a maximum layer size of 10000 and a maximum LCA distance of 7.\n",
      "[2021-08-18 22:27:23,851]    INFO [ILPSolver] (Process: fad688e3bb03838c86061e10cb05ea7a) LCA distance 0 completed with a neighborhood size of 72.\n",
      "[2021-08-18 22:27:31,790]    INFO [ILPSolver] (Process: fad688e3bb03838c86061e10cb05ea7a) LCA distance 1 completed with a neighborhood size of 79.\n",
      "[2021-08-18 22:29:00,521]    INFO [ILPSolver] (Process: fad688e3bb03838c86061e10cb05ea7a) LCA distance 2 completed with a neighborhood size of 359.\n",
      "[2021-08-18 22:30:32,308]    INFO [ILPSolver] (Process: fad688e3bb03838c86061e10cb05ea7a) LCA distance 3 completed with a neighborhood size of 377.\n",
      "[2021-08-18 22:30:57,933]    INFO [ILPSolver] (Process: 79547c8432ae9b3df9d5797f7423c8ba) LCA distance 8 completed with a neighborhood size of 1749.\n",
      "[2021-08-18 22:32:06,897]    INFO [ILPSolver] (Process: fad688e3bb03838c86061e10cb05ea7a) LCA distance 4 completed with a neighborhood size of 381.\n",
      "[2021-08-18 22:33:40,569]    INFO [ILPSolver] (Process: fad688e3bb03838c86061e10cb05ea7a) LCA distance 5 completed with a neighborhood size of 381.\n",
      "[2021-08-18 22:35:13,769]    INFO [ILPSolver] (Process: fad688e3bb03838c86061e10cb05ea7a) LCA distance 6 completed with a neighborhood size of 381.\n",
      "[2021-08-18 22:36:47,267]    INFO [ILPSolver] (Process: fad688e3bb03838c86061e10cb05ea7a) LCA distance 7 completed with a neighborhood size of 381.\n",
      "[2021-08-18 22:45:18,636]    INFO [ILPSolver] (Process fad688e3bb03838c86061e10cb05ea7a) Steiner tree solving tool 0 days, 0 hours, 8 minutes, and 20 seconds.\n",
      "[2021-08-18 22:45:18,640]    INFO [ILPSolver] (Process fad688e3bb03838c86061e10cb05ea7a) Warning: Steiner tree solving did not result in an optimal model.\n"
     ]
    },
    {
     "name": "stdout",
     "output_type": "stream",
     "text": [
      "subtree 0\n"
     ]
    },
    {
     "name": "stderr",
     "output_type": "stream",
     "text": [
      "[2021-08-18 22:45:19,284]    INFO [ILPSolver] Solving tree with the following parameters.\n",
      "[2021-08-18 22:45:19,286]    INFO [ILPSolver] Convergence time limit: 500\n",
      "[2021-08-18 22:45:19,288]    INFO [ILPSolver] Convergence iteration limit: 0\n",
      "[2021-08-18 22:45:19,291]    INFO [ILPSolver] Max potential graph layer size: 10000\n",
      "[2021-08-18 22:45:19,293]    INFO [ILPSolver] Max potential graph lca distance: None\n",
      "[2021-08-18 22:45:19,296]    INFO [ILPSolver] MIP gap: 0.01\n",
      "[2021-08-18 22:45:19,361]    INFO [ILPSolver] (Process: b7c6faa0a64b57c0aa0a946ca43d3974) Estimating a potential graph with a maximum layer size of 10000 and a maximum LCA distance of 8.\n",
      "[2021-08-18 22:50:51,842]    INFO [ILPSolver] (Process: cadb5d4f034368e6bbd749399e9161dc) LCA distance 3 completed with a neighborhood size of 3256.\n",
      "[2021-08-18 22:52:18,377]    INFO [ILPSolver] (Process: 2c14cd3db06de9ee5bfd2b0086fadffc) Maximum layer size exceeded, returning network.\n"
     ]
    },
    {
     "name": "stdout",
     "output_type": "stream",
     "text": [
      "subtree 0\n"
     ]
    },
    {
     "name": "stderr",
     "output_type": "stream",
     "text": [
      "[2021-08-18 22:52:18,758]    INFO [ILPSolver] Solving tree with the following parameters.\n",
      "[2021-08-18 22:52:18,760]    INFO [ILPSolver] Convergence time limit: 500\n",
      "[2021-08-18 22:52:18,763]    INFO [ILPSolver] Convergence iteration limit: 0\n",
      "[2021-08-18 22:52:18,766]    INFO [ILPSolver] Max potential graph layer size: 10000\n",
      "[2021-08-18 22:52:18,769]    INFO [ILPSolver] Max potential graph lca distance: None\n",
      "[2021-08-18 22:52:18,772]    INFO [ILPSolver] MIP gap: 0.01\n",
      "[2021-08-18 22:52:18,897]    INFO [ILPSolver] (Process: 9220920f9e3c8a3763bbbb4f70e67e9e) Estimating a potential graph with a maximum layer size of 10000 and a maximum LCA distance of 22.\n",
      "[2021-08-18 22:53:31,863]    INFO [ILPSolver] (Process: 9220920f9e3c8a3763bbbb4f70e67e9e) Maximum layer size exceeded, returning network.\n"
     ]
    },
    {
     "name": "stdout",
     "output_type": "stream",
     "text": [
      "subtree 0\n"
     ]
    },
    {
     "name": "stderr",
     "output_type": "stream",
     "text": [
      "[2021-08-18 22:53:31,953]    INFO [ILPSolver] Solving tree with the following parameters.\n",
      "[2021-08-18 22:53:31,957]    INFO [ILPSolver] Convergence time limit: 500\n",
      "[2021-08-18 22:53:31,959]    INFO [ILPSolver] Convergence iteration limit: 0\n",
      "[2021-08-18 22:53:31,962]    INFO [ILPSolver] Max potential graph layer size: 10000\n",
      "[2021-08-18 22:53:31,965]    INFO [ILPSolver] Max potential graph lca distance: None\n",
      "[2021-08-18 22:53:31,968]    INFO [ILPSolver] MIP gap: 0.01\n",
      "[2021-08-18 22:53:32,031]    INFO [ILPSolver] (Process: bc86ffd2b69cf9dbd3011777faac0a7c) Estimating a potential graph with a maximum layer size of 10000 and a maximum LCA distance of 14.\n",
      "[2021-08-18 22:55:03,890]    INFO [ILPSolver] (Process: bc86ffd2b69cf9dbd3011777faac0a7c) LCA distance 0 completed with a neighborhood size of 253.\n",
      "[2021-08-18 22:58:58,366]    INFO [ILPSolver] (Process: b7c6faa0a64b57c0aa0a946ca43d3974) LCA distance 0 completed with a neighborhood size of 1055.\n",
      "[2021-08-18 23:10:10,167]    INFO [ILPSolver] (Process: 79547c8432ae9b3df9d5797f7423c8ba) LCA distance 9 completed with a neighborhood size of 1749.\n"
     ]
    },
    {
     "name": "stdout",
     "output_type": "stream",
     "text": [
      "Academic license - for non-commercial use only - expires 2022-07-17\n",
      "Using license file /home/isshamie/gurobi.lic\n"
     ]
    },
    {
     "name": "stderr",
     "output_type": "stream",
     "text": [
      "[2021-08-18 23:20:34,774]    INFO [ILPSolver] (Process 79547c8432ae9b3df9d5797f7423c8ba) Steiner tree solving tool 0 days, 0 hours, 8 minutes, and 21 seconds.\n",
      "[2021-08-18 23:20:34,777]    INFO [ILPSolver] (Process 79547c8432ae9b3df9d5797f7423c8ba) Warning: Steiner tree solving did not result in an optimal model.\n"
     ]
    },
    {
     "name": "stdout",
     "output_type": "stream",
     "text": [
      "subtree 0\n"
     ]
    },
    {
     "name": "stderr",
     "output_type": "stream",
     "text": [
      "[2021-08-18 23:20:38,356]    INFO [ILPSolver] Solving tree with the following parameters.\n",
      "[2021-08-18 23:20:38,358]    INFO [ILPSolver] Convergence time limit: 500\n",
      "[2021-08-18 23:20:38,361]    INFO [ILPSolver] Convergence iteration limit: 0\n",
      "[2021-08-18 23:20:38,364]    INFO [ILPSolver] Max potential graph layer size: 10000\n",
      "[2021-08-18 23:20:38,367]    INFO [ILPSolver] Max potential graph lca distance: None\n",
      "[2021-08-18 23:20:38,370]    INFO [ILPSolver] MIP gap: 0.01\n",
      "[2021-08-18 23:20:38,475]    INFO [ILPSolver] (Process: b9849f0313e5051ab8bc0ab799dafeb2) Estimating a potential graph with a maximum layer size of 10000 and a maximum LCA distance of 14.\n",
      "[2021-08-18 23:21:41,857]    INFO [ILPSolver] (Process 7f15b587a2ea05ba6f85f640d5c623c4) Steiner tree solving tool 0 days, 0 hours, 8 minutes, and 21 seconds.\n",
      "[2021-08-18 23:21:41,860]    INFO [ILPSolver] (Process 7f15b587a2ea05ba6f85f640d5c623c4) Warning: Steiner tree solving did not result in an optimal model.\n"
     ]
    },
    {
     "name": "stdout",
     "output_type": "stream",
     "text": [
      "subtree 0\n"
     ]
    },
    {
     "name": "stderr",
     "output_type": "stream",
     "text": [
      "[2021-08-18 23:21:48,094]    INFO [ILPSolver] Solving tree with the following parameters.\n",
      "[2021-08-18 23:21:48,097]    INFO [ILPSolver] Convergence time limit: 500\n",
      "[2021-08-18 23:21:48,100]    INFO [ILPSolver] Convergence iteration limit: 0\n",
      "[2021-08-18 23:21:48,103]    INFO [ILPSolver] Max potential graph layer size: 10000\n",
      "[2021-08-18 23:21:48,106]    INFO [ILPSolver] Max potential graph lca distance: None\n",
      "[2021-08-18 23:21:48,108]    INFO [ILPSolver] MIP gap: 0.01\n",
      "[2021-08-18 23:21:48,176]    INFO [ILPSolver] (Process: 708ad16f2aa1f7e07afafb62e8cd2b57) Estimating a potential graph with a maximum layer size of 10000 and a maximum LCA distance of 11.\n",
      "[2021-08-18 23:22:12,807]    INFO [ILPSolver] (Process: 708ad16f2aa1f7e07afafb62e8cd2b57) LCA distance 0 completed with a neighborhood size of 159.\n",
      "[2021-08-18 23:26:44,732]    INFO [ILPSolver] (Process: 708ad16f2aa1f7e07afafb62e8cd2b57) LCA distance 1 completed with a neighborhood size of 566.\n",
      "[2021-08-18 23:47:14,309]    INFO [ILPSolver] (Process: 639693e6f2e4e56cc46d5469f7f4bdce) Maximum layer size exceeded, returning network.\n"
     ]
    },
    {
     "name": "stdout",
     "output_type": "stream",
     "text": [
      "subtree 0\n"
     ]
    },
    {
     "name": "stderr",
     "output_type": "stream",
     "text": [
      "[2021-08-18 23:47:15,464]    INFO [ILPSolver] Solving tree with the following parameters.\n",
      "[2021-08-18 23:47:15,467]    INFO [ILPSolver] Convergence time limit: 500\n",
      "[2021-08-18 23:47:15,470]    INFO [ILPSolver] Convergence iteration limit: 0\n",
      "[2021-08-18 23:47:15,473]    INFO [ILPSolver] Max potential graph layer size: 10000\n",
      "[2021-08-18 23:47:15,476]    INFO [ILPSolver] Max potential graph lca distance: None\n",
      "[2021-08-18 23:47:15,480]    INFO [ILPSolver] MIP gap: 0.01\n",
      "[2021-08-18 23:47:15,580]    INFO [ILPSolver] (Process: c5dedb8fc57041f6d6a43cef1c8da0e4) Estimating a potential graph with a maximum layer size of 10000 and a maximum LCA distance of 3.\n",
      "[2021-08-18 23:47:16,900]    INFO [ILPSolver] (Process: c5dedb8fc57041f6d6a43cef1c8da0e4) LCA distance 0 completed with a neighborhood size of 45.\n",
      "[2021-08-18 23:47:18,170]    INFO [ILPSolver] (Process: c5dedb8fc57041f6d6a43cef1c8da0e4) LCA distance 1 completed with a neighborhood size of 45.\n",
      "[2021-08-18 23:47:21,636]    INFO [ILPSolver] (Process: c5dedb8fc57041f6d6a43cef1c8da0e4) LCA distance 2 completed with a neighborhood size of 70.\n",
      "[2021-08-18 23:47:25,069]    INFO [ILPSolver] (Process: c5dedb8fc57041f6d6a43cef1c8da0e4) LCA distance 3 completed with a neighborhood size of 70.\n"
     ]
    },
    {
     "name": "stdout",
     "output_type": "stream",
     "text": [
      "Academic license - for non-commercial use only - expires 2022-07-17\n",
      "Using license file /home/isshamie/gurobi.lic\n"
     ]
    },
    {
     "name": "stderr",
     "output_type": "stream",
     "text": [
      "[2021-08-18 23:47:26,390]    INFO [ILPSolver] (Process c5dedb8fc57041f6d6a43cef1c8da0e4) Steiner tree solving tool 0 days, 0 hours, 0 minutes, and 0 seconds.\n"
     ]
    },
    {
     "name": "stdout",
     "output_type": "stream",
     "text": [
      "subtree 0\n"
     ]
    },
    {
     "name": "stderr",
     "output_type": "stream",
     "text": [
      "[2021-08-18 23:47:26,491]    INFO [ILPSolver] Solving tree with the following parameters.\n",
      "[2021-08-18 23:47:26,494]    INFO [ILPSolver] Convergence time limit: 500\n",
      "[2021-08-18 23:47:26,497]    INFO [ILPSolver] Convergence iteration limit: 0\n",
      "[2021-08-18 23:47:26,500]    INFO [ILPSolver] Max potential graph layer size: 10000\n",
      "[2021-08-18 23:47:26,503]    INFO [ILPSolver] Max potential graph lca distance: None\n",
      "[2021-08-18 23:47:26,506]    INFO [ILPSolver] MIP gap: 0.01\n",
      "[2021-08-18 23:47:26,609]    INFO [ILPSolver] (Process: 11971a116788f352084b8c5401b89fcf) Estimating a potential graph with a maximum layer size of 10000 and a maximum LCA distance of 10.\n",
      "[2021-08-18 23:48:50,894]    INFO [ILPSolver] (Process: 11971a116788f352084b8c5401b89fcf) LCA distance 0 completed with a neighborhood size of 307.\n",
      "[2021-08-18 23:57:04,092]    INFO [ILPSolver] (Process: f93d92b46dee5d562ca6b08d9f1d91b7) Maximum layer size exceeded, returning network.\n"
     ]
    },
    {
     "name": "stdout",
     "output_type": "stream",
     "text": [
      "subtree 0\n"
     ]
    },
    {
     "name": "stderr",
     "output_type": "stream",
     "text": [
      "[2021-08-18 23:57:05,059]    INFO [ILPSolver] Solving tree with the following parameters.\n",
      "[2021-08-18 23:57:05,063]    INFO [ILPSolver] Convergence time limit: 500\n",
      "[2021-08-18 23:57:05,066]    INFO [ILPSolver] Convergence iteration limit: 0\n",
      "[2021-08-18 23:57:05,069]    INFO [ILPSolver] Max potential graph layer size: 10000\n",
      "[2021-08-18 23:57:05,072]    INFO [ILPSolver] Max potential graph lca distance: None\n",
      "[2021-08-18 23:57:05,075]    INFO [ILPSolver] MIP gap: 0.01\n",
      "[2021-08-18 23:57:05,146]    INFO [ILPSolver] (Process: 1bb05998a64bcdccfb275adeefe6b54f) Estimating a potential graph with a maximum layer size of 10000 and a maximum LCA distance of 5.\n",
      "[2021-08-18 23:57:05,305]    INFO [ILPSolver] (Process: 1bb05998a64bcdccfb275adeefe6b54f) LCA distance 0 completed with a neighborhood size of 9.\n",
      "[2021-08-18 23:57:05,406]    INFO [ILPSolver] (Process: 1bb05998a64bcdccfb275adeefe6b54f) LCA distance 1 completed with a neighborhood size of 9.\n",
      "[2021-08-18 23:57:05,572]    INFO [ILPSolver] (Process: 1bb05998a64bcdccfb275adeefe6b54f) LCA distance 2 completed with a neighborhood size of 13.\n",
      "[2021-08-18 23:57:05,806]    INFO [ILPSolver] (Process: 1bb05998a64bcdccfb275adeefe6b54f) LCA distance 3 completed with a neighborhood size of 15.\n",
      "[2021-08-18 23:57:06,040]    INFO [ILPSolver] (Process: 1bb05998a64bcdccfb275adeefe6b54f) LCA distance 4 completed with a neighborhood size of 15.\n",
      "[2021-08-18 23:57:06,218]    INFO [ILPSolver] (Process: 1bb05998a64bcdccfb275adeefe6b54f) LCA distance 5 completed with a neighborhood size of 15.\n",
      "[2021-08-18 23:57:06,355]    INFO [ILPSolver] (Process 1bb05998a64bcdccfb275adeefe6b54f) Steiner tree solving tool 0 days, 0 hours, 0 minutes, and 0 seconds.\n"
     ]
    },
    {
     "name": "stdout",
     "output_type": "stream",
     "text": [
      "subtree 0\n"
     ]
    },
    {
     "name": "stderr",
     "output_type": "stream",
     "text": [
      "[2021-08-18 23:57:06,391]    INFO [ILPSolver] Solving tree with the following parameters.\n",
      "[2021-08-18 23:57:06,394]    INFO [ILPSolver] Convergence time limit: 500\n",
      "[2021-08-18 23:57:06,397]    INFO [ILPSolver] Convergence iteration limit: 0\n",
      "[2021-08-18 23:57:06,400]    INFO [ILPSolver] Max potential graph layer size: 10000\n",
      "[2021-08-18 23:57:06,403]    INFO [ILPSolver] Max potential graph lca distance: None\n",
      "[2021-08-18 23:57:06,406]    INFO [ILPSolver] MIP gap: 0.01\n",
      "[2021-08-18 23:57:06,514]    INFO [ILPSolver] (Process: 94929ca1e4e849ebd7c7306c3df6b81b) Estimating a potential graph with a maximum layer size of 10000 and a maximum LCA distance of 12.\n",
      "[2021-08-19 00:29:51,928]    INFO [ILPSolver] (Process: 326a26b363647af00c8f56e09c16775a) LCA distance 0 completed with a neighborhood size of 5505.\n",
      "[2021-08-19 00:38:23,630]    INFO [ILPSolver] (Process: ed3a51d58e00a0e178cbe4a80fb148b3) LCA distance 3 completed with a neighborhood size of 3238.\n",
      "[2021-08-19 00:52:58,251]    INFO [ILPSolver] (Process: 8ea11f307b348ea50893a872c0d3d1a9) LCA distance 2 completed with a neighborhood size of 4279.\n",
      "[2021-08-19 01:08:18,358]    INFO [ILPSolver] (Process: b9fd9564a9b1edec76ad59848e25c79e) LCA distance 1 completed with a neighborhood size of 3402.\n",
      "[2021-08-19 01:24:18,384]    INFO [ILPSolver] (Process: 301c56d059d02deafa1c5267f48bbb94) Maximum layer size exceeded, returning network.\n"
     ]
    },
    {
     "name": "stdout",
     "output_type": "stream",
     "text": [
      "subtree 0\n"
     ]
    },
    {
     "name": "stderr",
     "output_type": "stream",
     "text": [
      "[2021-08-19 01:24:18,951]    INFO [ILPSolver] Solving tree with the following parameters.\n",
      "[2021-08-19 01:24:18,959]    INFO [ILPSolver] Convergence time limit: 500\n",
      "[2021-08-19 01:24:18,962]    INFO [ILPSolver] Convergence iteration limit: 0\n",
      "[2021-08-19 01:24:18,964]    INFO [ILPSolver] Max potential graph layer size: 10000\n",
      "[2021-08-19 01:24:18,966]    INFO [ILPSolver] Max potential graph lca distance: None\n",
      "[2021-08-19 01:24:18,969]    INFO [ILPSolver] MIP gap: 0.01\n",
      "[2021-08-19 01:24:19,064]    INFO [ILPSolver] (Process: 61cc1a3102fd586036a35ca4078908ee) Estimating a potential graph with a maximum layer size of 10000 and a maximum LCA distance of 4.\n",
      "[2021-08-19 01:24:19,410]    INFO [ILPSolver] (Process: 61cc1a3102fd586036a35ca4078908ee) LCA distance 0 completed with a neighborhood size of 6.\n",
      "[2021-08-19 01:24:19,456]    INFO [ILPSolver] (Process: 61cc1a3102fd586036a35ca4078908ee) LCA distance 1 completed with a neighborhood size of 6.\n",
      "[2021-08-19 01:24:19,589]    INFO [ILPSolver] (Process: 61cc1a3102fd586036a35ca4078908ee) LCA distance 2 completed with a neighborhood size of 13.\n",
      "[2021-08-19 01:24:19,746]    INFO [ILPSolver] (Process: 61cc1a3102fd586036a35ca4078908ee) LCA distance 3 completed with a neighborhood size of 15.\n",
      "[2021-08-19 01:24:19,892]    INFO [ILPSolver] (Process: 61cc1a3102fd586036a35ca4078908ee) LCA distance 4 completed with a neighborhood size of 15.\n",
      "[2021-08-19 01:24:20,058]    INFO [ILPSolver] (Process 61cc1a3102fd586036a35ca4078908ee) Steiner tree solving tool 0 days, 0 hours, 0 minutes, and 0 seconds.\n"
     ]
    },
    {
     "name": "stdout",
     "output_type": "stream",
     "text": [
      "subtree 0\n"
     ]
    },
    {
     "name": "stderr",
     "output_type": "stream",
     "text": [
      "[2021-08-19 01:24:20,097]    INFO [ILPSolver] Solving tree with the following parameters.\n",
      "[2021-08-19 01:24:20,100]    INFO [ILPSolver] Convergence time limit: 500\n",
      "[2021-08-19 01:24:20,103]    INFO [ILPSolver] Convergence iteration limit: 0\n",
      "[2021-08-19 01:24:20,107]    INFO [ILPSolver] Max potential graph layer size: 10000\n",
      "[2021-08-19 01:24:20,110]    INFO [ILPSolver] Max potential graph lca distance: None\n",
      "[2021-08-19 01:24:20,113]    INFO [ILPSolver] MIP gap: 0.01\n",
      "[2021-08-19 01:24:20,226]    INFO [ILPSolver] (Process: b8c57aa51f137c008c223d1c15fb7455) Estimating a potential graph with a maximum layer size of 10000 and a maximum LCA distance of 17.\n",
      "[2021-08-19 01:25:39,721]    INFO [ILPSolver] (Process: a38a0a96e7649b194769bd2c0a6a1600) Maximum layer size exceeded, returning network.\n"
     ]
    },
    {
     "name": "stdout",
     "output_type": "stream",
     "text": [
      "subtree 0\n"
     ]
    },
    {
     "name": "stderr",
     "output_type": "stream",
     "text": [
      "[2021-08-19 01:25:40,504]    INFO [ILPSolver] Solving tree with the following parameters.\n",
      "[2021-08-19 01:25:40,507]    INFO [ILPSolver] Convergence time limit: 500\n",
      "[2021-08-19 01:25:40,511]    INFO [ILPSolver] Convergence iteration limit: 0\n",
      "[2021-08-19 01:25:40,514]    INFO [ILPSolver] Max potential graph layer size: 10000\n",
      "[2021-08-19 01:25:40,517]    INFO [ILPSolver] Max potential graph lca distance: None\n",
      "[2021-08-19 01:25:40,520]    INFO [ILPSolver] MIP gap: 0.01\n",
      "[2021-08-19 01:25:40,661]    INFO [ILPSolver] (Process: 196a7ee2180ecb0f1af6d791a0d70f39) Estimating a potential graph with a maximum layer size of 10000 and a maximum LCA distance of 19.\n",
      "[2021-08-19 01:28:28,444]    INFO [ILPSolver] (Process: 196a7ee2180ecb0f1af6d791a0d70f39) Maximum layer size exceeded, returning network.\n"
     ]
    },
    {
     "name": "stdout",
     "output_type": "stream",
     "text": [
      "subtree 0\n"
     ]
    },
    {
     "name": "stderr",
     "output_type": "stream",
     "text": [
      "[2021-08-19 01:28:28,555]    INFO [ILPSolver] Solving tree with the following parameters.\n",
      "[2021-08-19 01:28:28,559]    INFO [ILPSolver] Convergence time limit: 500\n",
      "[2021-08-19 01:28:28,562]    INFO [ILPSolver] Convergence iteration limit: 0\n",
      "[2021-08-19 01:28:28,565]    INFO [ILPSolver] Max potential graph layer size: 10000\n",
      "[2021-08-19 01:28:28,568]    INFO [ILPSolver] Max potential graph lca distance: None\n",
      "[2021-08-19 01:28:28,571]    INFO [ILPSolver] MIP gap: 0.01\n",
      "[2021-08-19 01:28:28,664]    INFO [ILPSolver] (Process: bcdc9f4ee1c3eb065614d21f30cade45) Estimating a potential graph with a maximum layer size of 10000 and a maximum LCA distance of 10.\n",
      "[2021-08-19 01:28:50,146]    INFO [ILPSolver] (Process: bcdc9f4ee1c3eb065614d21f30cade45) LCA distance 0 completed with a neighborhood size of 123.\n",
      "[2021-08-19 01:29:21,895]    INFO [ILPSolver] (Process 55d8e55fb5b5e5e9dc0c1eafd6dd12a8) Steiner tree solving tool 0 days, 0 hours, 8 minutes, and 20 seconds.\n",
      "[2021-08-19 01:29:21,900]    INFO [ILPSolver] (Process 55d8e55fb5b5e5e9dc0c1eafd6dd12a8) Warning: Steiner tree solving did not result in an optimal model.\n"
     ]
    },
    {
     "name": "stdout",
     "output_type": "stream",
     "text": [
      "subtree 0\n"
     ]
    },
    {
     "name": "stderr",
     "output_type": "stream",
     "text": [
      "[2021-08-19 01:29:23,194]    INFO [ILPSolver] Solving tree with the following parameters.\n",
      "[2021-08-19 01:29:23,197]    INFO [ILPSolver] Convergence time limit: 500\n",
      "[2021-08-19 01:29:23,200]    INFO [ILPSolver] Convergence iteration limit: 0\n",
      "[2021-08-19 01:29:23,203]    INFO [ILPSolver] Max potential graph layer size: 10000\n",
      "[2021-08-19 01:29:23,206]    INFO [ILPSolver] Max potential graph lca distance: None\n",
      "[2021-08-19 01:29:23,209]    INFO [ILPSolver] MIP gap: 0.01\n",
      "[2021-08-19 01:29:23,312]    INFO [ILPSolver] (Process: 6e34a4ef64f51b7912fa130e7ed0cc98) Estimating a potential graph with a maximum layer size of 10000 and a maximum LCA distance of 8.\n",
      "[2021-08-19 01:29:23,524]    INFO [ILPSolver] (Process: 6e34a4ef64f51b7912fa130e7ed0cc98) LCA distance 0 completed with a neighborhood size of 17.\n",
      "[2021-08-19 01:29:23,773]    INFO [ILPSolver] (Process: 6e34a4ef64f51b7912fa130e7ed0cc98) LCA distance 1 completed with a neighborhood size of 17.\n",
      "[2021-08-19 01:29:25,404]    INFO [ILPSolver] (Process: 6e34a4ef64f51b7912fa130e7ed0cc98) LCA distance 2 completed with a neighborhood size of 47.\n",
      "[2021-08-19 01:29:28,650]    INFO [ILPSolver] (Process: 6e34a4ef64f51b7912fa130e7ed0cc98) LCA distance 3 completed with a neighborhood size of 68.\n",
      "[2021-08-19 01:29:32,006]    INFO [ILPSolver] (Process: 6e34a4ef64f51b7912fa130e7ed0cc98) LCA distance 4 completed with a neighborhood size of 70.\n",
      "[2021-08-19 01:29:35,404]    INFO [ILPSolver] (Process: 6e34a4ef64f51b7912fa130e7ed0cc98) LCA distance 5 completed with a neighborhood size of 70.\n",
      "[2021-08-19 01:29:38,799]    INFO [ILPSolver] (Process: 6e34a4ef64f51b7912fa130e7ed0cc98) LCA distance 6 completed with a neighborhood size of 70.\n",
      "[2021-08-19 01:29:42,300]    INFO [ILPSolver] (Process: 6e34a4ef64f51b7912fa130e7ed0cc98) LCA distance 7 completed with a neighborhood size of 70.\n",
      "[2021-08-19 01:29:45,672]    INFO [ILPSolver] (Process: 6e34a4ef64f51b7912fa130e7ed0cc98) LCA distance 8 completed with a neighborhood size of 70.\n",
      "[2021-08-19 01:30:31,282]    INFO [ILPSolver] (Process: bcdc9f4ee1c3eb065614d21f30cade45) LCA distance 1 completed with a neighborhood size of 337.\n",
      "[2021-08-19 01:38:06,525]    INFO [ILPSolver] (Process 6e34a4ef64f51b7912fa130e7ed0cc98) Steiner tree solving tool 0 days, 0 hours, 8 minutes, and 20 seconds.\n",
      "[2021-08-19 01:38:06,529]    INFO [ILPSolver] (Process 6e34a4ef64f51b7912fa130e7ed0cc98) Warning: Steiner tree solving did not result in an optimal model.\n"
     ]
    },
    {
     "name": "stdout",
     "output_type": "stream",
     "text": [
      "subtree 0\n"
     ]
    },
    {
     "name": "stderr",
     "output_type": "stream",
     "text": [
      "[2021-08-19 01:38:06,762]    INFO [ILPSolver] Solving tree with the following parameters.\n",
      "[2021-08-19 01:38:06,764]    INFO [ILPSolver] Convergence time limit: 500\n",
      "[2021-08-19 01:38:06,767]    INFO [ILPSolver] Convergence iteration limit: 0\n",
      "[2021-08-19 01:38:06,770]    INFO [ILPSolver] Max potential graph layer size: 10000\n",
      "[2021-08-19 01:38:06,773]    INFO [ILPSolver] Max potential graph lca distance: None\n",
      "[2021-08-19 01:38:06,776]    INFO [ILPSolver] MIP gap: 0.01\n",
      "[2021-08-19 01:38:06,862]    INFO [ILPSolver] (Process: f1b73b2d514526832dbaa593d326a8e3) Estimating a potential graph with a maximum layer size of 10000 and a maximum LCA distance of 11.\n",
      "[2021-08-19 01:38:24,469]    INFO [ILPSolver] (Process: f1b73b2d514526832dbaa593d326a8e3) LCA distance 0 completed with a neighborhood size of 101.\n",
      "[2021-08-19 01:40:35,773]    INFO [ILPSolver] (Process: f1b73b2d514526832dbaa593d326a8e3) LCA distance 1 completed with a neighborhood size of 282.\n",
      "[2021-08-19 01:45:23,482]    INFO [ILPSolver] (Process: 708ad16f2aa1f7e07afafb62e8cd2b57) LCA distance 2 completed with a neighborhood size of 2499.\n",
      "[2021-08-19 01:47:22,814]    INFO [ILPSolver] (Process: bcdc9f4ee1c3eb065614d21f30cade45) LCA distance 2 completed with a neighborhood size of 990.\n",
      "[2021-08-19 01:47:44,385]    INFO [ILPSolver] (Process: b7ef1ae48b38389042b4132f11ab7e27) LCA distance 4 completed with a neighborhood size of 3480.\n",
      "[2021-08-19 02:05:35,594]    INFO [ILPSolver] (Process: cadb5d4f034368e6bbd749399e9161dc) LCA distance 4 completed with a neighborhood size of 3433.\n",
      "[2021-08-19 02:08:56,417]    INFO [ILPSolver] (Process: 94929ca1e4e849ebd7c7306c3df6b81b) LCA distance 0 completed with a neighborhood size of 3100.\n",
      "[2021-08-19 02:22:00,361]    INFO [ILPSolver] (Process: bcdc9f4ee1c3eb065614d21f30cade45) LCA distance 3 completed with a neighborhood size of 1410.\n",
      "[2021-08-19 02:53:46,137]    INFO [ILPSolver] (Process 7cea555ed72642f5a36e5aaecbfbb174) Steiner tree solving tool 0 days, 0 hours, 8 minutes, and 20 seconds.\n",
      "[2021-08-19 02:53:46,141]    INFO [ILPSolver] (Process 7cea555ed72642f5a36e5aaecbfbb174) Warning: Steiner tree solving did not result in an optimal model.\n"
     ]
    },
    {
     "name": "stdout",
     "output_type": "stream",
     "text": [
      "subtree 0\n"
     ]
    },
    {
     "name": "stderr",
     "output_type": "stream",
     "text": [
      "[2021-08-19 02:53:47,606]    INFO [ILPSolver] Solving tree with the following parameters.\n",
      "[2021-08-19 02:53:47,609]    INFO [ILPSolver] Convergence time limit: 500\n",
      "[2021-08-19 02:53:47,611]    INFO [ILPSolver] Convergence iteration limit: 0\n",
      "[2021-08-19 02:53:47,614]    INFO [ILPSolver] Max potential graph layer size: 10000\n",
      "[2021-08-19 02:53:47,617]    INFO [ILPSolver] Max potential graph lca distance: None\n",
      "[2021-08-19 02:53:47,620]    INFO [ILPSolver] MIP gap: 0.01\n",
      "[2021-08-19 02:53:47,704]    INFO [ILPSolver] (Process: 844d2bb3f3ec9490f7bd9f2c0948f3f2) Estimating a potential graph with a maximum layer size of 10000 and a maximum LCA distance of 4.\n",
      "[2021-08-19 02:53:50,975]    INFO [ILPSolver] (Process: 844d2bb3f3ec9490f7bd9f2c0948f3f2) LCA distance 0 completed with a neighborhood size of 75.\n",
      "[2021-08-19 02:53:55,854]    INFO [ILPSolver] (Process: 844d2bb3f3ec9490f7bd9f2c0948f3f2) LCA distance 1 completed with a neighborhood size of 75.\n",
      "[2021-08-19 02:54:13,165]    INFO [ILPSolver] (Process: 844d2bb3f3ec9490f7bd9f2c0948f3f2) LCA distance 2 completed with a neighborhood size of 163.\n",
      "[2021-08-19 02:54:33,814]    INFO [ILPSolver] (Process: 844d2bb3f3ec9490f7bd9f2c0948f3f2) LCA distance 3 completed with a neighborhood size of 163.\n",
      "[2021-08-19 02:55:07,541]    INFO [ILPSolver] (Process: 844d2bb3f3ec9490f7bd9f2c0948f3f2) LCA distance 4 completed with a neighborhood size of 163.\n",
      "[2021-08-19 02:56:01,242]    INFO [ILPSolver] (Process 844d2bb3f3ec9490f7bd9f2c0948f3f2) Steiner tree solving tool 0 days, 0 hours, 0 minutes, and 47 seconds.\n"
     ]
    },
    {
     "name": "stdout",
     "output_type": "stream",
     "text": [
      "subtree 0\n"
     ]
    },
    {
     "name": "stderr",
     "output_type": "stream",
     "text": [
      "[2021-08-19 02:56:01,475]    INFO [ILPSolver] Solving tree with the following parameters.\n",
      "[2021-08-19 02:56:01,478]    INFO [ILPSolver] Convergence time limit: 500\n",
      "[2021-08-19 02:56:01,481]    INFO [ILPSolver] Convergence iteration limit: 0\n",
      "[2021-08-19 02:56:01,483]    INFO [ILPSolver] Max potential graph layer size: 10000\n",
      "[2021-08-19 02:56:01,486]    INFO [ILPSolver] Max potential graph lca distance: None\n",
      "[2021-08-19 02:56:01,489]    INFO [ILPSolver] MIP gap: 0.01\n",
      "[2021-08-19 02:56:01,595]    INFO [ILPSolver] (Process: 566c440e0cfd3c568053b54654a4805f) Estimating a potential graph with a maximum layer size of 10000 and a maximum LCA distance of 6.\n",
      "[2021-08-19 02:56:02,767]    INFO [ILPSolver] (Process: 566c440e0cfd3c568053b54654a4805f) LCA distance 0 completed with a neighborhood size of 32.\n",
      "[2021-08-19 02:56:04,016]    INFO [ILPSolver] (Process: 566c440e0cfd3c568053b54654a4805f) LCA distance 1 completed with a neighborhood size of 32.\n",
      "[2021-08-19 02:56:13,985]    INFO [ILPSolver] (Process: 566c440e0cfd3c568053b54654a4805f) LCA distance 2 completed with a neighborhood size of 75.\n",
      "[2021-08-19 02:56:37,738]    INFO [ILPSolver] (Process: 566c440e0cfd3c568053b54654a4805f) LCA distance 3 completed with a neighborhood size of 133.\n",
      "[2021-08-19 02:57:12,031]    INFO [ILPSolver] (Process: 566c440e0cfd3c568053b54654a4805f) LCA distance 4 completed with a neighborhood size of 163.\n",
      "[2021-08-19 02:57:46,387]    INFO [ILPSolver] (Process: 566c440e0cfd3c568053b54654a4805f) LCA distance 5 completed with a neighborhood size of 163.\n",
      "[2021-08-19 02:58:20,861]    INFO [ILPSolver] (Process: 566c440e0cfd3c568053b54654a4805f) LCA distance 6 completed with a neighborhood size of 163.\n",
      "[2021-08-19 03:02:51,984]    INFO [ILPSolver] (Process: 000abea7bd147c94e6887a284c2992f4) LCA distance 2 completed with a neighborhood size of 5077.\n",
      "[2021-08-19 03:06:46,675]    INFO [ILPSolver] (Process 566c440e0cfd3c568053b54654a4805f) Steiner tree solving tool 0 days, 0 hours, 8 minutes, and 20 seconds.\n",
      "[2021-08-19 03:06:46,679]    INFO [ILPSolver] (Process 566c440e0cfd3c568053b54654a4805f) Warning: Steiner tree solving did not result in an optimal model.\n"
     ]
    },
    {
     "name": "stdout",
     "output_type": "stream",
     "text": [
      "subtree 0\n"
     ]
    },
    {
     "name": "stderr",
     "output_type": "stream",
     "text": [
      "[2021-08-19 03:06:46,867]    INFO [ILPSolver] Solving tree with the following parameters.\n",
      "[2021-08-19 03:06:46,870]    INFO [ILPSolver] Convergence time limit: 500\n",
      "[2021-08-19 03:06:46,873]    INFO [ILPSolver] Convergence iteration limit: 0\n",
      "[2021-08-19 03:06:46,876]    INFO [ILPSolver] Max potential graph layer size: 10000\n",
      "[2021-08-19 03:06:46,879]    INFO [ILPSolver] Max potential graph lca distance: None\n",
      "[2021-08-19 03:06:46,882]    INFO [ILPSolver] MIP gap: 0.01\n",
      "[2021-08-19 03:06:47,023]    INFO [ILPSolver] (Process: 3e38bf60b0f4aee3c8f6159b51040f38) Estimating a potential graph with a maximum layer size of 10000 and a maximum LCA distance of 17.\n",
      "[2021-08-19 03:07:31,787]    INFO [ILPSolver] (Process: bcdc9f4ee1c3eb065614d21f30cade45) LCA distance 4 completed with a neighborhood size of 1745.\n",
      "[2021-08-19 03:09:58,292]    INFO [ILPSolver] (Process: 3e38bf60b0f4aee3c8f6159b51040f38) Maximum layer size exceeded, returning network.\n"
     ]
    },
    {
     "name": "stdout",
     "output_type": "stream",
     "text": [
      "subtree 0\n"
     ]
    },
    {
     "name": "stderr",
     "output_type": "stream",
     "text": [
      "[2021-08-19 03:09:58,439]    INFO [ILPSolver] Solving tree with the following parameters.\n",
      "[2021-08-19 03:09:58,442]    INFO [ILPSolver] Convergence time limit: 500\n",
      "[2021-08-19 03:09:58,445]    INFO [ILPSolver] Convergence iteration limit: 0\n",
      "[2021-08-19 03:09:58,448]    INFO [ILPSolver] Max potential graph layer size: 10000\n",
      "[2021-08-19 03:09:58,451]    INFO [ILPSolver] Max potential graph lca distance: None\n",
      "[2021-08-19 03:09:58,454]    INFO [ILPSolver] MIP gap: 0.01\n",
      "[2021-08-19 03:09:58,559]    INFO [ILPSolver] (Process: 83e0f2933c35256ee5b242466da1a674) Estimating a potential graph with a maximum layer size of 10000 and a maximum LCA distance of 10.\n",
      "[2021-08-19 03:14:34,459]    INFO [ILPSolver] (Process: 83e0f2933c35256ee5b242466da1a674) LCA distance 0 completed with a neighborhood size of 505.\n",
      "[2021-08-19 03:16:31,214]    INFO [ILPSolver] (Process: 9af3c0e20d5c1611a492179a2629d409) Maximum layer size exceeded, returning network.\n"
     ]
    },
    {
     "name": "stdout",
     "output_type": "stream",
     "text": [
      "subtree 0\n"
     ]
    },
    {
     "name": "stderr",
     "output_type": "stream",
     "text": [
      "[2021-08-19 03:16:33,234]    INFO [ILPSolver] Solving tree with the following parameters.\n",
      "[2021-08-19 03:16:33,237]    INFO [ILPSolver] Convergence time limit: 500\n",
      "[2021-08-19 03:16:33,240]    INFO [ILPSolver] Convergence iteration limit: 0\n",
      "[2021-08-19 03:16:33,243]    INFO [ILPSolver] Max potential graph layer size: 10000\n",
      "[2021-08-19 03:16:33,246]    INFO [ILPSolver] Max potential graph lca distance: None\n",
      "[2021-08-19 03:16:33,248]    INFO [ILPSolver] MIP gap: 0.01\n",
      "[2021-08-19 03:16:33,358]    INFO [ILPSolver] (Process: 26432258cb502b81601262e0301a43f4) Estimating a potential graph with a maximum layer size of 10000 and a maximum LCA distance of 14.\n",
      "[2021-08-19 03:29:03,963]    INFO [ILPSolver] (Process: 8c8e27f92821d6684f6acf532b09b47b) Maximum layer size exceeded, returning network.\n"
     ]
    },
    {
     "name": "stdout",
     "output_type": "stream",
     "text": [
      "subtree 0\n"
     ]
    },
    {
     "name": "stderr",
     "output_type": "stream",
     "text": [
      "[2021-08-19 03:29:05,578]    INFO [ILPSolver] Solving tree with the following parameters.\n",
      "[2021-08-19 03:29:05,581]    INFO [ILPSolver] Convergence time limit: 500\n",
      "[2021-08-19 03:29:05,584]    INFO [ILPSolver] Convergence iteration limit: 0\n",
      "[2021-08-19 03:29:05,588]    INFO [ILPSolver] Max potential graph layer size: 10000\n",
      "[2021-08-19 03:29:05,591]    INFO [ILPSolver] Max potential graph lca distance: None\n",
      "[2021-08-19 03:29:05,594]    INFO [ILPSolver] MIP gap: 0.01\n",
      "[2021-08-19 03:29:05,684]    INFO [ILPSolver] (Process: c0d4b39783cf8353cd5b319caf13fda7) Estimating a potential graph with a maximum layer size of 10000 and a maximum LCA distance of 10.\n",
      "[2021-08-19 03:35:57,617]    INFO [ILPSolver] (Process: 26432258cb502b81601262e0301a43f4) LCA distance 0 completed with a neighborhood size of 894.\n",
      "[2021-08-19 03:39:41,157]    INFO [ILPSolver] (Process: b8c57aa51f137c008c223d1c15fb7455) Maximum layer size exceeded, returning network.\n"
     ]
    },
    {
     "name": "stdout",
     "output_type": "stream",
     "text": [
      "subtree 0\n"
     ]
    },
    {
     "name": "stderr",
     "output_type": "stream",
     "text": [
      "[2021-08-19 03:39:41,494]    INFO [ILPSolver] Solving tree with the following parameters.\n",
      "[2021-08-19 03:39:41,497]    INFO [ILPSolver] Convergence time limit: 500\n",
      "[2021-08-19 03:39:41,500]    INFO [ILPSolver] Convergence iteration limit: 0\n",
      "[2021-08-19 03:39:41,502]    INFO [ILPSolver] Max potential graph layer size: 10000\n",
      "[2021-08-19 03:39:41,505]    INFO [ILPSolver] Max potential graph lca distance: None\n",
      "[2021-08-19 03:39:41,509]    INFO [ILPSolver] MIP gap: 0.01\n",
      "[2021-08-19 03:39:41,630]    INFO [ILPSolver] (Process: 2ec8bb91aa889ff3e5e23592c68e02f6) Estimating a potential graph with a maximum layer size of 10000 and a maximum LCA distance of 19.\n",
      "[2021-08-19 03:51:18,328]    INFO [ILPSolver] (Process: bcdc9f4ee1c3eb065614d21f30cade45) LCA distance 5 completed with a neighborhood size of 1749.\n",
      "[2021-08-19 04:04:30,131]    INFO [ILPSolver] (Process: ed3a51d58e00a0e178cbe4a80fb148b3) LCA distance 4 completed with a neighborhood size of 3447.\n",
      "[2021-08-19 04:05:33,611]    INFO [ILPSolver] (Process 94929ca1e4e849ebd7c7306c3df6b81b) Steiner tree solving tool 0 days, 0 hours, 8 minutes, and 22 seconds.\n",
      "[2021-08-19 04:05:33,615]    INFO [ILPSolver] (Process 94929ca1e4e849ebd7c7306c3df6b81b) Warning: Steiner tree solving did not result in an optimal model.\n"
     ]
    },
    {
     "name": "stdout",
     "output_type": "stream",
     "text": [
      "subtree 0\n"
     ]
    },
    {
     "name": "stderr",
     "output_type": "stream",
     "text": [
      "[2021-08-19 04:05:38,939]    INFO [ILPSolver] Solving tree with the following parameters.\n",
      "[2021-08-19 04:05:38,943]    INFO [ILPSolver] Convergence time limit: 500\n",
      "[2021-08-19 04:05:38,946]    INFO [ILPSolver] Convergence iteration limit: 0\n",
      "[2021-08-19 04:05:38,949]    INFO [ILPSolver] Max potential graph layer size: 10000\n",
      "[2021-08-19 04:05:38,952]    INFO [ILPSolver] Max potential graph lca distance: None\n",
      "[2021-08-19 04:05:38,955]    INFO [ILPSolver] MIP gap: 0.01\n",
      "[2021-08-19 04:05:39,047]    INFO [ILPSolver] (Process: 2a7a5bb80ff1d1431d33c626acdca598) Estimating a potential graph with a maximum layer size of 10000 and a maximum LCA distance of 7.\n",
      "[2021-08-19 04:05:39,177]    INFO [ILPSolver] (Process: 2a7a5bb80ff1d1431d33c626acdca598) LCA distance 0 completed with a neighborhood size of 9.\n",
      "[2021-08-19 04:05:39,326]    INFO [ILPSolver] (Process: 2a7a5bb80ff1d1431d33c626acdca598) LCA distance 1 completed with a neighborhood size of 9.\n",
      "[2021-08-19 04:05:39,892]    INFO [ILPSolver] (Process: 2a7a5bb80ff1d1431d33c626acdca598) LCA distance 2 completed with a neighborhood size of 22.\n",
      "[2021-08-19 04:05:41,050]    INFO [ILPSolver] (Process: 2a7a5bb80ff1d1431d33c626acdca598) LCA distance 3 completed with a neighborhood size of 33.\n",
      "[2021-08-19 04:05:42,298]    INFO [ILPSolver] (Process: 2a7a5bb80ff1d1431d33c626acdca598) LCA distance 4 completed with a neighborhood size of 35.\n",
      "[2021-08-19 04:05:43,551]    INFO [ILPSolver] (Process: 2a7a5bb80ff1d1431d33c626acdca598) LCA distance 5 completed with a neighborhood size of 35.\n",
      "[2021-08-19 04:05:44,801]    INFO [ILPSolver] (Process: 2a7a5bb80ff1d1431d33c626acdca598) LCA distance 6 completed with a neighborhood size of 35.\n",
      "[2021-08-19 04:05:46,053]    INFO [ILPSolver] (Process: 2a7a5bb80ff1d1431d33c626acdca598) LCA distance 7 completed with a neighborhood size of 35.\n",
      "[2021-08-19 04:05:48,173]    INFO [ILPSolver] (Process 2a7a5bb80ff1d1431d33c626acdca598) Steiner tree solving tool 0 days, 0 hours, 0 minutes, and 1 seconds.\n"
     ]
    },
    {
     "name": "stdout",
     "output_type": "stream",
     "text": [
      "subtree 0\n"
     ]
    },
    {
     "name": "stderr",
     "output_type": "stream",
     "text": [
      "[2021-08-19 04:05:48,241]    INFO [ILPSolver] Solving tree with the following parameters.\n",
      "[2021-08-19 04:05:48,245]    INFO [ILPSolver] Convergence time limit: 500\n",
      "[2021-08-19 04:05:48,248]    INFO [ILPSolver] Convergence iteration limit: 0\n",
      "[2021-08-19 04:05:48,251]    INFO [ILPSolver] Max potential graph layer size: 10000\n",
      "[2021-08-19 04:05:48,254]    INFO [ILPSolver] Max potential graph lca distance: None\n",
      "[2021-08-19 04:05:48,257]    INFO [ILPSolver] MIP gap: 0.01\n",
      "[2021-08-19 04:05:48,354]    INFO [ILPSolver] (Process: 1da117b904a49646c752844ccd1ca320) Estimating a potential graph with a maximum layer size of 10000 and a maximum LCA distance of 5.\n",
      "[2021-08-19 04:05:56,670]    INFO [ILPSolver] (Process: 1da117b904a49646c752844ccd1ca320) LCA distance 0 completed with a neighborhood size of 73.\n",
      "[2021-08-19 04:06:01,414]    INFO [ILPSolver] (Process: 1da117b904a49646c752844ccd1ca320) LCA distance 1 completed with a neighborhood size of 73.\n",
      "[2021-08-19 04:06:09,111]    INFO [ILPSolver] (Process: 1da117b904a49646c752844ccd1ca320) LCA distance 2 completed with a neighborhood size of 101.\n",
      "[2021-08-19 04:06:26,003]    INFO [ILPSolver] (Process: 1da117b904a49646c752844ccd1ca320) LCA distance 3 completed with a neighborhood size of 161.\n",
      "[2021-08-19 04:06:43,334]    INFO [ILPSolver] (Process: 1da117b904a49646c752844ccd1ca320) LCA distance 4 completed with a neighborhood size of 163.\n",
      "[2021-08-19 04:07:10,323]    INFO [ILPSolver] (Process: 1da117b904a49646c752844ccd1ca320) LCA distance 5 completed with a neighborhood size of 163.\n",
      "[2021-08-19 04:15:33,346]    INFO [ILPSolver] (Process 1da117b904a49646c752844ccd1ca320) Steiner tree solving tool 0 days, 0 hours, 8 minutes, and 20 seconds.\n",
      "[2021-08-19 04:15:33,350]    INFO [ILPSolver] (Process 1da117b904a49646c752844ccd1ca320) Warning: Steiner tree solving did not result in an optimal model.\n"
     ]
    },
    {
     "name": "stdout",
     "output_type": "stream",
     "text": [
      "subtree 0\n"
     ]
    },
    {
     "name": "stderr",
     "output_type": "stream",
     "text": [
      "[2021-08-19 04:15:33,618]    INFO [ILPSolver] Solving tree with the following parameters.\n",
      "[2021-08-19 04:15:33,621]    INFO [ILPSolver] Convergence time limit: 500\n",
      "[2021-08-19 04:15:33,624]    INFO [ILPSolver] Convergence iteration limit: 0\n",
      "[2021-08-19 04:15:33,628]    INFO [ILPSolver] Max potential graph layer size: 10000\n",
      "[2021-08-19 04:15:33,630]    INFO [ILPSolver] Max potential graph lca distance: None\n",
      "[2021-08-19 04:15:33,633]    INFO [ILPSolver] MIP gap: 0.01\n",
      "[2021-08-19 04:15:33,732]    INFO [ILPSolver] (Process: d37e2f5ff1ddd6c926cb220981e5004d) Estimating a potential graph with a maximum layer size of 10000 and a maximum LCA distance of 13.\n",
      "[2021-08-19 04:17:01,061]    INFO [ILPSolver] (Process: d37e2f5ff1ddd6c926cb220981e5004d) Maximum layer size exceeded, returning network.\n"
     ]
    },
    {
     "name": "stdout",
     "output_type": "stream",
     "text": [
      "subtree 0\n"
     ]
    },
    {
     "name": "stderr",
     "output_type": "stream",
     "text": [
      "[2021-08-19 04:17:01,144]    INFO [ILPSolver] Solving tree with the following parameters.\n",
      "[2021-08-19 04:17:01,147]    INFO [ILPSolver] Convergence time limit: 500\n",
      "[2021-08-19 04:17:01,151]    INFO [ILPSolver] Convergence iteration limit: 0\n",
      "[2021-08-19 04:17:01,153]    INFO [ILPSolver] Max potential graph layer size: 10000\n",
      "[2021-08-19 04:17:01,156]    INFO [ILPSolver] Max potential graph lca distance: None\n",
      "[2021-08-19 04:17:01,159]    INFO [ILPSolver] MIP gap: 0.01\n",
      "[2021-08-19 04:17:01,267]    INFO [ILPSolver] (Process: 76015f4870887e4eacc982f13c03d7e7) Estimating a potential graph with a maximum layer size of 10000 and a maximum LCA distance of 16.\n",
      "[2021-08-19 04:30:00,848]    INFO [ILPSolver] (Process: f1b73b2d514526832dbaa593d326a8e3) LCA distance 2 completed with a neighborhood size of 3401.\n",
      "[2021-08-19 04:36:39,741]    INFO [ILPSolver] (Process: bcdc9f4ee1c3eb065614d21f30cade45) LCA distance 6 completed with a neighborhood size of 1749.\n",
      "[2021-08-19 04:59:12,615]    INFO [ILPSolver] (Process 26432258cb502b81601262e0301a43f4) Steiner tree solving tool 0 days, 0 hours, 8 minutes, and 20 seconds.\n",
      "[2021-08-19 04:59:12,619]    INFO [ILPSolver] (Process 26432258cb502b81601262e0301a43f4) Warning: Steiner tree solving did not result in an optimal model.\n"
     ]
    },
    {
     "name": "stdout",
     "output_type": "stream",
     "text": [
      "subtree 0\n"
     ]
    },
    {
     "name": "stderr",
     "output_type": "stream",
     "text": [
      "[2021-08-19 04:59:13,767]    INFO [ILPSolver] Solving tree with the following parameters.\n",
      "[2021-08-19 04:59:13,770]    INFO [ILPSolver] Convergence time limit: 500\n",
      "[2021-08-19 04:59:13,773]    INFO [ILPSolver] Convergence iteration limit: 0\n",
      "[2021-08-19 04:59:13,776]    INFO [ILPSolver] Max potential graph layer size: 10000\n",
      "[2021-08-19 04:59:13,780]    INFO [ILPSolver] Max potential graph lca distance: None\n",
      "[2021-08-19 04:59:13,783]    INFO [ILPSolver] MIP gap: 0.01\n",
      "[2021-08-19 04:59:13,889]    INFO [ILPSolver] (Process: 5e24a4d22588767feb00cbdd81df01c3) Estimating a potential graph with a maximum layer size of 10000 and a maximum LCA distance of 10.\n",
      "[2021-08-19 05:01:21,020]    INFO [ILPSolver] (Process: 11971a116788f352084b8c5401b89fcf) LCA distance 1 completed with a neighborhood size of 4374.\n",
      "[2021-08-19 05:03:47,848]    INFO [ILPSolver] (Process: 83e0f2933c35256ee5b242466da1a674) LCA distance 1 completed with a neighborhood size of 2508.\n",
      "[2021-08-19 05:04:28,640]    INFO [ILPSolver] (Process: b7ef1ae48b38389042b4132f11ab7e27) LCA distance 5 completed with a neighborhood size of 3498.\n",
      "[2021-08-19 05:20:01,612]    INFO [ILPSolver] (Process: 5e24a4d22588767feb00cbdd81df01c3) LCA distance 0 completed with a neighborhood size of 991.\n",
      "[2021-08-19 05:23:22,332]    INFO [ILPSolver] (Process: bcdc9f4ee1c3eb065614d21f30cade45) LCA distance 7 completed with a neighborhood size of 1749.\n",
      "[2021-08-19 05:27:21,195]    INFO [ILPSolver] (Process: cadb5d4f034368e6bbd749399e9161dc) LCA distance 5 completed with a neighborhood size of 3490.\n",
      "[2021-08-19 05:29:28,002]    INFO [ILPSolver] (Process 83e0f2933c35256ee5b242466da1a674) Steiner tree solving tool 0 days, 0 hours, 8 minutes, and 21 seconds.\n",
      "[2021-08-19 05:29:28,009]    INFO [ILPSolver] (Process 83e0f2933c35256ee5b242466da1a674) Warning: Steiner tree solving did not result in an optimal model.\n"
     ]
    },
    {
     "name": "stdout",
     "output_type": "stream",
     "text": [
      "subtree 0\n"
     ]
    },
    {
     "name": "stderr",
     "output_type": "stream",
     "text": [
      "[2021-08-19 05:29:32,906]    INFO [ILPSolver] Solving tree with the following parameters.\n",
      "[2021-08-19 05:29:32,909]    INFO [ILPSolver] Convergence time limit: 500\n",
      "[2021-08-19 05:29:32,912]    INFO [ILPSolver] Convergence iteration limit: 0\n",
      "[2021-08-19 05:29:32,914]    INFO [ILPSolver] Max potential graph layer size: 10000\n",
      "[2021-08-19 05:29:32,918]    INFO [ILPSolver] Max potential graph lca distance: None\n",
      "[2021-08-19 05:29:32,921]    INFO [ILPSolver] MIP gap: 0.01\n",
      "[2021-08-19 05:29:33,054]    INFO [ILPSolver] (Process: c00bc1402adacb044c5c4d271ceda35d) Estimating a potential graph with a maximum layer size of 10000 and a maximum LCA distance of 23.\n",
      "[2021-08-19 05:31:35,158]    INFO [ILPSolver] (Process: c00bc1402adacb044c5c4d271ceda35d) Maximum layer size exceeded, returning network.\n"
     ]
    },
    {
     "name": "stdout",
     "output_type": "stream",
     "text": [
      "subtree 0\n"
     ]
    },
    {
     "name": "stderr",
     "output_type": "stream",
     "text": [
      "[2021-08-19 05:31:35,278]    INFO [ILPSolver] Solving tree with the following parameters.\n",
      "[2021-08-19 05:31:35,281]    INFO [ILPSolver] Convergence time limit: 500\n",
      "[2021-08-19 05:31:35,284]    INFO [ILPSolver] Convergence iteration limit: 0\n",
      "[2021-08-19 05:31:35,287]    INFO [ILPSolver] Max potential graph layer size: 10000\n",
      "[2021-08-19 05:31:35,289]    INFO [ILPSolver] Max potential graph lca distance: None\n",
      "[2021-08-19 05:31:35,292]    INFO [ILPSolver] MIP gap: 0.01\n",
      "[2021-08-19 05:31:35,405]    INFO [ILPSolver] (Process: 86cb2711edac1ec081311e73ba6e85e5) Estimating a potential graph with a maximum layer size of 10000 and a maximum LCA distance of 14.\n",
      "[2021-08-19 05:45:05,690]    INFO [ILPSolver] (Process: bc86ffd2b69cf9dbd3011777faac0a7c) LCA distance 1 completed with a neighborhood size of 4513.\n",
      "[2021-08-19 05:52:58,206]    INFO [ILPSolver] (Process: 30418f754398fd6e1f2cc9c2d2d273f3) LCA distance 1 completed with a neighborhood size of 6215.\n",
      "[2021-08-19 06:07:42,969]    INFO [ILPSolver] (Process: bcdc9f4ee1c3eb065614d21f30cade45) LCA distance 8 completed with a neighborhood size of 1749.\n"
     ]
    },
    {
     "name": "stdout",
     "output_type": "stream",
     "text": [
      "Academic license - for non-commercial use only - expires 2022-07-17\n",
      "Using license file /home/isshamie/gurobi.lic\n"
     ]
    },
    {
     "name": "stderr",
     "output_type": "stream",
     "text": [
      "[2021-08-19 06:16:36,456]    INFO [ILPSolver] (Process 326a26b363647af00c8f56e09c16775a) Steiner tree solving tool 0 days, 0 hours, 8 minutes, and 22 seconds.\n",
      "[2021-08-19 06:16:36,460]    INFO [ILPSolver] (Process 326a26b363647af00c8f56e09c16775a) Warning: Steiner tree solving did not result in an optimal model.\n"
     ]
    },
    {
     "name": "stdout",
     "output_type": "stream",
     "text": [
      "subtree 0\n"
     ]
    },
    {
     "name": "stderr",
     "output_type": "stream",
     "text": [
      "[2021-08-19 06:16:43,046]    INFO [ILPSolver] Solving tree with the following parameters.\n",
      "[2021-08-19 06:16:43,048]    INFO [ILPSolver] Convergence time limit: 500\n",
      "[2021-08-19 06:16:43,051]    INFO [ILPSolver] Convergence iteration limit: 0\n",
      "[2021-08-19 06:16:43,054]    INFO [ILPSolver] Max potential graph layer size: 10000\n",
      "[2021-08-19 06:16:43,057]    INFO [ILPSolver] Max potential graph lca distance: None\n",
      "[2021-08-19 06:16:43,060]    INFO [ILPSolver] MIP gap: 0.01\n",
      "[2021-08-19 06:16:43,159]    INFO [ILPSolver] (Process: 0185182cb4c81a62d1ae887690e96e6a) Estimating a potential graph with a maximum layer size of 10000 and a maximum LCA distance of 6.\n",
      "[2021-08-19 06:16:44,718]    INFO [ILPSolver] (Process: 0185182cb4c81a62d1ae887690e96e6a) LCA distance 0 completed with a neighborhood size of 51.\n",
      "[2021-08-19 06:16:46,944]    INFO [ILPSolver] (Process: 0185182cb4c81a62d1ae887690e96e6a) LCA distance 1 completed with a neighborhood size of 51.\n",
      "[2021-08-19 06:16:56,117]    INFO [ILPSolver] (Process: 0185182cb4c81a62d1ae887690e96e6a) LCA distance 2 completed with a neighborhood size of 108.\n",
      "[2021-08-19 06:17:16,326]    INFO [ILPSolver] (Process: 0185182cb4c81a62d1ae887690e96e6a) LCA distance 3 completed with a neighborhood size of 163.\n"
     ]
    },
    {
     "name": "stdout",
     "output_type": "stream",
     "text": [
      "Academic license - for non-commercial use only - expires 2022-07-17\n",
      "Using license file /home/isshamie/gurobi.lic\n"
     ]
    },
    {
     "name": "stderr",
     "output_type": "stream",
     "text": [
      "[2021-08-19 06:17:34,434]    INFO [ILPSolver] (Process: 0185182cb4c81a62d1ae887690e96e6a) LCA distance 4 completed with a neighborhood size of 163.\n",
      "[2021-08-19 06:17:52,304]    INFO [ILPSolver] (Process: 0185182cb4c81a62d1ae887690e96e6a) LCA distance 5 completed with a neighborhood size of 163.\n",
      "[2021-08-19 06:18:09,971]    INFO [ILPSolver] (Process: 0185182cb4c81a62d1ae887690e96e6a) LCA distance 6 completed with a neighborhood size of 163.\n",
      "[2021-08-19 06:18:55,467]    INFO [ILPSolver] (Process 0185182cb4c81a62d1ae887690e96e6a) Steiner tree solving tool 0 days, 0 hours, 0 minutes, and 42 seconds.\n"
     ]
    },
    {
     "name": "stdout",
     "output_type": "stream",
     "text": [
      "subtree 0\n"
     ]
    },
    {
     "name": "stderr",
     "output_type": "stream",
     "text": [
      "[2021-08-19 06:18:55,618]    INFO [ILPSolver] Solving tree with the following parameters.\n",
      "[2021-08-19 06:18:55,622]    INFO [ILPSolver] Convergence time limit: 500\n",
      "[2021-08-19 06:18:55,625]    INFO [ILPSolver] Convergence iteration limit: 0\n",
      "[2021-08-19 06:18:55,627]    INFO [ILPSolver] Max potential graph layer size: 10000\n",
      "[2021-08-19 06:18:55,630]    INFO [ILPSolver] Max potential graph lca distance: None\n",
      "[2021-08-19 06:18:55,633]    INFO [ILPSolver] MIP gap: 0.01\n",
      "[2021-08-19 06:18:55,723]    INFO [ILPSolver] (Process: ad3d9a946329def5b0a0568346f95f46) Estimating a potential graph with a maximum layer size of 10000 and a maximum LCA distance of 11.\n",
      "[2021-08-19 06:26:30,373]    INFO [ILPSolver] (Process 30418f754398fd6e1f2cc9c2d2d273f3) Steiner tree solving tool 0 days, 0 hours, 8 minutes, and 26 seconds.\n",
      "[2021-08-19 06:26:30,379]    INFO [ILPSolver] (Process 30418f754398fd6e1f2cc9c2d2d273f3) Warning: Steiner tree solving did not result in an optimal model.\n"
     ]
    },
    {
     "name": "stdout",
     "output_type": "stream",
     "text": [
      "subtree 0\n"
     ]
    },
    {
     "name": "stderr",
     "output_type": "stream",
     "text": [
      "[2021-08-19 06:27:11,702]    INFO [ILPSolver] Solving tree with the following parameters.\n",
      "[2021-08-19 06:27:11,705]    INFO [ILPSolver] Convergence time limit: 500\n",
      "[2021-08-19 06:27:11,708]    INFO [ILPSolver] Convergence iteration limit: 0\n",
      "[2021-08-19 06:27:11,711]    INFO [ILPSolver] Max potential graph layer size: 10000\n",
      "[2021-08-19 06:27:11,713]    INFO [ILPSolver] Max potential graph lca distance: None\n",
      "[2021-08-19 06:27:11,716]    INFO [ILPSolver] MIP gap: 0.01\n",
      "[2021-08-19 06:27:11,842]    INFO [ILPSolver] (Process: 45e9381bb6dd238afc614a8ac2821784) Estimating a potential graph with a maximum layer size of 10000 and a maximum LCA distance of 16.\n",
      "[2021-08-19 06:29:06,813]    INFO [ILPSolver] (Process: 45e9381bb6dd238afc614a8ac2821784) Maximum layer size exceeded, returning network.\n"
     ]
    },
    {
     "name": "stdout",
     "output_type": "stream",
     "text": [
      "subtree 0\n"
     ]
    },
    {
     "name": "stderr",
     "output_type": "stream",
     "text": [
      "[2021-08-19 06:29:06,917]    INFO [ILPSolver] Solving tree with the following parameters.\n",
      "[2021-08-19 06:29:06,920]    INFO [ILPSolver] Convergence time limit: 500\n",
      "[2021-08-19 06:29:06,923]    INFO [ILPSolver] Convergence iteration limit: 0\n",
      "[2021-08-19 06:29:06,926]    INFO [ILPSolver] Max potential graph layer size: 10000\n",
      "[2021-08-19 06:29:06,929]    INFO [ILPSolver] Max potential graph lca distance: None\n",
      "[2021-08-19 06:29:06,932]    INFO [ILPSolver] MIP gap: 0.01\n",
      "[2021-08-19 06:29:07,033]    INFO [ILPSolver] (Process: 260b5809fd76969bcd753c735150ef7f) Estimating a potential graph with a maximum layer size of 10000 and a maximum LCA distance of 9.\n",
      "[2021-08-19 06:31:01,988]    INFO [ILPSolver] (Process: 260b5809fd76969bcd753c735150ef7f) LCA distance 0 completed with a neighborhood size of 324.\n",
      "[2021-08-19 06:45:47,631]    INFO [ILPSolver] (Process: 260b5809fd76969bcd753c735150ef7f) LCA distance 1 completed with a neighborhood size of 873.\n",
      "[2021-08-19 06:53:20,388]    INFO [ILPSolver] (Process: bcdc9f4ee1c3eb065614d21f30cade45) LCA distance 9 completed with a neighborhood size of 1749.\n",
      "[2021-08-19 07:21:51,730]    INFO [ILPSolver] (Process: 8be0d19bfbbc0993fd44fd41684eefa4) LCA distance 4 completed with a neighborhood size of 5427.\n",
      "[2021-08-19 07:24:54,628]    INFO [ILPSolver] (Process: ad3d9a946329def5b0a0568346f95f46) Maximum layer size exceeded, returning network.\n"
     ]
    },
    {
     "name": "stdout",
     "output_type": "stream",
     "text": [
      "subtree 0\n"
     ]
    },
    {
     "name": "stderr",
     "output_type": "stream",
     "text": [
      "[2021-08-19 07:24:54,844]    INFO [ILPSolver] Solving tree with the following parameters.\n",
      "[2021-08-19 07:24:54,847]    INFO [ILPSolver] Convergence time limit: 500\n",
      "[2021-08-19 07:24:54,849]    INFO [ILPSolver] Convergence iteration limit: 0\n",
      "[2021-08-19 07:24:54,852]    INFO [ILPSolver] Max potential graph layer size: 10000\n",
      "[2021-08-19 07:24:54,856]    INFO [ILPSolver] Max potential graph lca distance: None\n",
      "[2021-08-19 07:24:54,859]    INFO [ILPSolver] MIP gap: 0.01\n",
      "[2021-08-19 07:24:54,972]    INFO [ILPSolver] (Process: 4119e968be4fc010889fd4d381d113df) Estimating a potential graph with a maximum layer size of 10000 and a maximum LCA distance of 11.\n"
     ]
    }
   ],
   "source": [
    "hybrid_solver = cas.solver.HybridSolver(top_solver=vanilla_greedy, bottom_solver=ilp_solver, cell_cutoff=40, threads=24)\n",
    "hybrid_solver.solve(cas_tree, logfile='example_hybrid.log')\n"
   ]
  },
  {
   "cell_type": "code",
   "execution_count": null,
   "id": "b243cbbe",
   "metadata": {},
   "outputs": [],
   "source": [
    "character_matrix.duplicated().any()"
   ]
  },
  {
   "cell_type": "code",
   "execution_count": null,
   "id": "479fc7dc",
   "metadata": {
    "scrolled": true
   },
   "outputs": [],
   "source": [
    "character_matrix.duplicated()"
   ]
  },
  {
   "cell_type": "code",
   "execution_count": null,
   "id": "6c7bf2d4",
   "metadata": {
    "scrolled": true
   },
   "outputs": [],
   "source": [
    "!ls | grep 'example_hybrid'\n"
   ]
  },
  {
   "cell_type": "code",
   "execution_count": null,
   "id": "6e4727f4",
   "metadata": {},
   "outputs": [],
   "source": [
    "rndict = {}\n",
    "_iter = 0\n",
    "for n in cas_tree.nodes:\n",
    "    if ',' in n:\n",
    "        rndict[n] = f'node{_iter}'\n",
    "        _iter += 1\n",
    "\n",
    "cas_tree.relabel_nodes(rndict)"
   ]
  },
  {
   "cell_type": "code",
   "execution_count": null,
   "id": "890c6cf3",
   "metadata": {},
   "outputs": [],
   "source": [
    "pickle.dump(cas_tree, open(join(outdir, name+\".full.missingV.castree.p\"), 'wb'))"
   ]
  },
  {
   "cell_type": "markdown",
   "id": "08641fc3",
   "metadata": {},
   "source": [
    "# Plot tree "
   ]
  },
  {
   "cell_type": "markdown",
   "id": "c4521b65",
   "metadata": {},
   "source": [
    "## Plot with networkx\n"
   ]
  },
  {
   "cell_type": "code",
   "execution_count": null,
   "id": "11f94f16",
   "metadata": {
    "scrolled": true
   },
   "outputs": [],
   "source": [
    "G = nx.DiGraph()\n",
    "G.add_nodes_from(cas_tree.nodes)\n",
    "G.add_edges_from(cas_tree.edges)\n",
    "G\n",
    "\n",
    "# write dot file to use with graphviz\n",
    "# run \"dot -Tpng test.dot >test.png\"\n",
    "\n",
    "f = plt.figure(figsize=(10,10), dpi=300)\n",
    "write_dot(G,join(outdir, f'{name}_hybrid.dot'))\n",
    "\n",
    "\n",
    "# same layout using matplotlib with no labels\n",
    "plt.title('draw_networkx')\n",
    "pos = graphviz_layout(G, prog='dot', root=cas_tree.root)\n",
    "nx.draw(G, pos, with_labels=False, arrows=True)\n",
    "\n",
    "# color_map = []\n",
    "# for node in G:\n",
    "#     if node < 10:\n",
    "#         color_map.append('blue')\n",
    "#     else: \n",
    "#         color_map.append('green')\n",
    "# nx.draw(G, pos, node_color=color_map, with_labels=False)\n",
    "\n",
    "\n",
    "plt.savefig(join(outdir, f'{name}_hybrid.png'))\n"
   ]
  },
  {
   "cell_type": "markdown",
   "id": "72f81839",
   "metadata": {},
   "source": [
    "## Plot with itol (only with valid itol account)"
   ]
  },
  {
   "cell_type": "code",
   "execution_count": null,
   "id": "4fda5f43",
   "metadata": {
    "scrolled": true
   },
   "outputs": [],
   "source": [
    "# plot tree\n",
    "cas.pl.upload_and_export_itol(cas_tree, itol_config=\"~/.itolconfig_hidden\",\n",
    "                              tree_name = \"example_hybrid_tree\", export_filepath=\"example_hybrid_tree.png\")\n"
   ]
  },
  {
   "cell_type": "code",
   "execution_count": null,
   "id": "0f984f30",
   "metadata": {},
   "outputs": [],
   "source": []
  },
  {
   "cell_type": "code",
   "execution_count": null,
   "id": "4aacb48b",
   "metadata": {},
   "outputs": [],
   "source": []
  },
  {
   "cell_type": "code",
   "execution_count": null,
   "id": "552126e6",
   "metadata": {},
   "outputs": [],
   "source": []
  },
  {
   "cell_type": "code",
   "execution_count": null,
   "id": "d8c75baf",
   "metadata": {},
   "outputs": [],
   "source": []
  },
  {
   "cell_type": "markdown",
   "id": "ff8caac9",
   "metadata": {},
   "source": [
    "## Test a sample of the data"
   ]
  },
  {
   "cell_type": "code",
   "execution_count": null,
   "id": "f0c3116d",
   "metadata": {
    "scrolled": true
   },
   "outputs": [],
   "source": [
    "priors=None\n",
    "if priors is not None:\n",
    "    cas_tree = cas.data.CassiopeiaTree(character_matrix=character_matrix.sample(100).iloc[:,:50], priors=priors)\n",
    "else:\n",
    "    cas_tree = cas.data.CassiopeiaTree(character_matrix=character_matrix.sample(100).iloc[:,:50])\n",
    "# REINSTANTIATE the bottom and top solvers\n",
    "vanilla_greedy = cas.solver.VanillaGreedySolver()\n",
    "if priors is not None:\n",
    "    ilp_solver = cas.solver.ILPSolver(convergence_time_limit=500, maximum_potential_graph_layer_size=500, weighted=True, seed=1234)\n",
    "else:\n",
    "    ilp_solver = cas.solver.ILPSolver(convergence_time_limit=500, maximum_potential_graph_layer_size=500, weighted=False, seed=1234)\n",
    "\n",
    "hybrid_solver = cas.solver.HybridSolver(top_solver=vanilla_greedy, bottom_solver=ilp_solver, cell_cutoff=40, threads=10)\n",
    "hybrid_solver.solve(cas_tree, logfile='example_hybrid.log')\n"
   ]
  },
  {
   "cell_type": "code",
   "execution_count": null,
   "id": "1b4aec7e",
   "metadata": {},
   "outputs": [],
   "source": [
    "cas_tree.character_matrix.shape"
   ]
  },
  {
   "cell_type": "code",
   "execution_count": null,
   "id": "493899d1",
   "metadata": {},
   "outputs": [],
   "source": [
    "G = nx.DiGraph()\n",
    "G.add_nodes_from(cas_tree.nodes)\n",
    "G.add_edges_from(cas_tree.edges)\n",
    "G\n",
    "\n",
    "# write dot file to use with graphviz\n",
    "# run \"dot -Tpng test.dot >test.png\"\n",
    "\n",
    "f = plt.figure(figsize=(10,10), dpi=300)\n",
    "write_dot(G,join(outdir, f'{name}_hybrid.dot'))\n",
    "\n",
    "# same layout using matplotlib with no labels\n",
    "plt.title('draw_networkx')\n",
    "pos = graphviz_layout(G, prog='dot', root=cas_tree.root)\n",
    "nx.draw(G, pos, with_labels=False, arrows=True)\n",
    "\n",
    "plt.savefig(join(outdir, f'{name}_smallSample_hybrid.png'))\n"
   ]
  },
  {
   "cell_type": "code",
   "execution_count": null,
   "id": "45761be9",
   "metadata": {},
   "outputs": [],
   "source": [
    "print"
   ]
  }
 ],
 "metadata": {
  "celltoolbar": "Tags",
  "kernelspec": {
   "display_name": "Python [conda env:mito_trace] *",
   "language": "python",
   "name": "conda-env-mito_trace-py"
  },
  "language_info": {
   "codemirror_mode": {
    "name": "ipython",
    "version": 3
   },
   "file_extension": ".py",
   "mimetype": "text/x-python",
   "name": "python",
   "nbconvert_exporter": "python",
   "pygments_lexer": "ipython3",
   "version": "3.6.13"
  }
 },
 "nbformat": 4,
 "nbformat_minor": 5
}
