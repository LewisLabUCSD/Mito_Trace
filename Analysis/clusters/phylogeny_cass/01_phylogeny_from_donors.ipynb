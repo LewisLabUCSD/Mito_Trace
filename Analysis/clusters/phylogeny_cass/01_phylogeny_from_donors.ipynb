{
 "cells": [
  {
   "cell_type": "code",
   "execution_count": 1,
   "id": "1f4daef8",
   "metadata": {
    "scrolled": false
   },
   "outputs": [
    {
     "name": "stdout",
     "output_type": "stream",
     "text": [
      "INFO: Pandarallel will run on 32 workers.\n",
      "INFO: Pandarallel will use Memory file system to transfer data between the main process and workers.\n"
     ]
    }
   ],
   "source": [
    "import pandas as pd\n",
    "import numpy as np\n",
    "import cassiopeia as cas\n",
    "import seaborn as sns\n",
    "from os.path import join, exists\n",
    "from os import makedirs, getcwd\n",
    "from pandarallel import pandarallel\n",
    "import networkx as nx\n",
    "import matplotlib.pyplot as plt\n",
    "from networkx.drawing.nx_agraph import write_dot, graphviz_layout\n",
    "\n",
    "pandarallel.initialize(nb_workers=32)\n",
    "\n",
    "# importing the sys module\n",
    "import sys\n",
    "\n",
    "# the setrecursionlimit function is\n",
    "# used to modify the default recursion\n",
    "# limit set by python. Using this,\n",
    "# we can increase the recursion limit\n",
    "# to satisfy our needs\n",
    " \n",
    "sys.setrecursionlimit(10**6)\n",
    "import pickle"
   ]
  },
  {
   "cell_type": "code",
   "execution_count": 2,
   "id": "155dde71",
   "metadata": {
    "tags": [
     "parameters"
    ]
   },
   "outputs": [],
   "source": [
    "indir = \"/data2/mito_lineage/data/processed/mttrace/jan21_2021/MTblacklist/merged/filters/minC10_minR50_topN0_hetT0.001_hetC10_hetCount5_bq20/filter_mgatk/vireoIn/multiplex/\"\n",
    "\n",
    "donors = \"/data2/mito_lineage/data/processed/mttrace/jan21_2021/MTblacklist/merged/filters/minC10_minR50_topN0_hetT0.001_hetC10_hetCount5_bq20/filter_mgatk/vireoIn/multiplex/cells_meta.tsv\"\n",
    "prefix= \"jan21_2021/MTblacklist\"\n",
    "name = \"merged_missingV\"\n",
    "outdir = \"output/cass/data\"\n",
    "af_thresh = 0.01\n",
    "dp_thresh = 2\n",
    "set_missing = False"
   ]
  },
  {
   "cell_type": "code",
   "execution_count": 3,
   "id": "852a5095",
   "metadata": {},
   "outputs": [
    {
     "name": "stdout",
     "output_type": "stream",
     "text": [
      "Project Directory: /data2/mito_lineage\n"
     ]
    }
   ],
   "source": [
    "import os\n",
    "from src.config import ROOT_DIR\n",
    "#os.chdir(ROOT_DIR)"
   ]
  },
  {
   "cell_type": "code",
   "execution_count": 4,
   "id": "6825afcf",
   "metadata": {},
   "outputs": [],
   "source": [
    "# outdir = join(outdir, prefix)\n",
    "# if not exists(outdir):\n",
    "#     print(f\"Making outdir {outdir} in folder {getcwd()}\")\n",
    "#     makedirs(outdir)"
   ]
  },
  {
   "cell_type": "code",
   "execution_count": 5,
   "id": "566c77ee",
   "metadata": {},
   "outputs": [
    {
     "data": {
      "text/html": [
       "<div>\n",
       "<style scoped>\n",
       "    .dataframe tbody tr th:only-of-type {\n",
       "        vertical-align: middle;\n",
       "    }\n",
       "\n",
       "    .dataframe tbody tr th {\n",
       "        vertical-align: top;\n",
       "    }\n",
       "\n",
       "    .dataframe thead th {\n",
       "        text-align: right;\n",
       "    }\n",
       "</style>\n",
       "<table border=\"1\" class=\"dataframe\">\n",
       "  <thead>\n",
       "    <tr style=\"text-align: right;\">\n",
       "      <th></th>\n",
       "      <th>new index</th>\n",
       "      <th>ID</th>\n",
       "      <th>raw ID</th>\n",
       "      <th>condition</th>\n",
       "      <th>donor</th>\n",
       "      <th>donor_index</th>\n",
       "    </tr>\n",
       "  </thead>\n",
       "  <tbody>\n",
       "    <tr>\n",
       "      <th>0</th>\n",
       "      <td>1</td>\n",
       "      <td>AAACGAAAGAGGTCCA-1_Control</td>\n",
       "      <td>AAACGAAAGAGGTCCA-1</td>\n",
       "      <td>Control</td>\n",
       "      <td>1</td>\n",
       "      <td>1</td>\n",
       "    </tr>\n",
       "    <tr>\n",
       "      <th>1</th>\n",
       "      <td>2</td>\n",
       "      <td>AAACGAAAGCGATACG-1_Control</td>\n",
       "      <td>AAACGAAAGCGATACG-1</td>\n",
       "      <td>Control</td>\n",
       "      <td>0</td>\n",
       "      <td>1</td>\n",
       "    </tr>\n",
       "    <tr>\n",
       "      <th>2</th>\n",
       "      <td>3</td>\n",
       "      <td>AAACGAAAGTCGTGAG-1_Control</td>\n",
       "      <td>AAACGAAAGTCGTGAG-1</td>\n",
       "      <td>Control</td>\n",
       "      <td>3</td>\n",
       "      <td>1</td>\n",
       "    </tr>\n",
       "    <tr>\n",
       "      <th>3</th>\n",
       "      <td>4</td>\n",
       "      <td>AAACGAACAATAGTGA-1_Control</td>\n",
       "      <td>AAACGAACAATAGTGA-1</td>\n",
       "      <td>Control</td>\n",
       "      <td>1</td>\n",
       "      <td>2</td>\n",
       "    </tr>\n",
       "    <tr>\n",
       "      <th>4</th>\n",
       "      <td>5</td>\n",
       "      <td>AAACGAACACAATAAG-1_Control</td>\n",
       "      <td>AAACGAACACAATAAG-1</td>\n",
       "      <td>Control</td>\n",
       "      <td>3</td>\n",
       "      <td>2</td>\n",
       "    </tr>\n",
       "    <tr>\n",
       "      <th>...</th>\n",
       "      <td>...</td>\n",
       "      <td>...</td>\n",
       "      <td>...</td>\n",
       "      <td>...</td>\n",
       "      <td>...</td>\n",
       "      <td>...</td>\n",
       "    </tr>\n",
       "    <tr>\n",
       "      <th>17401</th>\n",
       "      <td>17402</td>\n",
       "      <td>TTTGTGTTCGAGTTAC-1_Flt3l</td>\n",
       "      <td>TTTGTGTTCGAGTTAC-1</td>\n",
       "      <td>Flt3l</td>\n",
       "      <td>3</td>\n",
       "      <td>4205</td>\n",
       "    </tr>\n",
       "    <tr>\n",
       "      <th>17402</th>\n",
       "      <td>17403</td>\n",
       "      <td>TTTGTGTTCGCATAAC-1_Flt3l</td>\n",
       "      <td>TTTGTGTTCGCATAAC-1</td>\n",
       "      <td>Flt3l</td>\n",
       "      <td>&lt;NA&gt;</td>\n",
       "      <td>&lt;NA&gt;</td>\n",
       "    </tr>\n",
       "    <tr>\n",
       "      <th>17403</th>\n",
       "      <td>17404</td>\n",
       "      <td>TTTGTGTTCGTGGTAT-1_Flt3l</td>\n",
       "      <td>TTTGTGTTCGTGGTAT-1</td>\n",
       "      <td>Flt3l</td>\n",
       "      <td>0</td>\n",
       "      <td>3853</td>\n",
       "    </tr>\n",
       "    <tr>\n",
       "      <th>17404</th>\n",
       "      <td>17405</td>\n",
       "      <td>TTTGTGTTCGTTACAG-1_Flt3l</td>\n",
       "      <td>TTTGTGTTCGTTACAG-1</td>\n",
       "      <td>Flt3l</td>\n",
       "      <td>1</td>\n",
       "      <td>3750</td>\n",
       "    </tr>\n",
       "    <tr>\n",
       "      <th>17405</th>\n",
       "      <td>17406</td>\n",
       "      <td>TTTGTGTTCTCCTTGG-1_Flt3l</td>\n",
       "      <td>TTTGTGTTCTCCTTGG-1</td>\n",
       "      <td>Flt3l</td>\n",
       "      <td>1</td>\n",
       "      <td>3751</td>\n",
       "    </tr>\n",
       "  </tbody>\n",
       "</table>\n",
       "<p>17406 rows × 6 columns</p>\n",
       "</div>"
      ],
      "text/plain": [
       "       new index                          ID              raw ID condition  \\\n",
       "0              1  AAACGAAAGAGGTCCA-1_Control  AAACGAAAGAGGTCCA-1   Control   \n",
       "1              2  AAACGAAAGCGATACG-1_Control  AAACGAAAGCGATACG-1   Control   \n",
       "2              3  AAACGAAAGTCGTGAG-1_Control  AAACGAAAGTCGTGAG-1   Control   \n",
       "3              4  AAACGAACAATAGTGA-1_Control  AAACGAACAATAGTGA-1   Control   \n",
       "4              5  AAACGAACACAATAAG-1_Control  AAACGAACACAATAAG-1   Control   \n",
       "...          ...                         ...                 ...       ...   \n",
       "17401      17402    TTTGTGTTCGAGTTAC-1_Flt3l  TTTGTGTTCGAGTTAC-1     Flt3l   \n",
       "17402      17403    TTTGTGTTCGCATAAC-1_Flt3l  TTTGTGTTCGCATAAC-1     Flt3l   \n",
       "17403      17404    TTTGTGTTCGTGGTAT-1_Flt3l  TTTGTGTTCGTGGTAT-1     Flt3l   \n",
       "17404      17405    TTTGTGTTCGTTACAG-1_Flt3l  TTTGTGTTCGTTACAG-1     Flt3l   \n",
       "17405      17406    TTTGTGTTCTCCTTGG-1_Flt3l  TTTGTGTTCTCCTTGG-1     Flt3l   \n",
       "\n",
       "       donor  donor_index  \n",
       "0          1            1  \n",
       "1          0            1  \n",
       "2          3            1  \n",
       "3          1            2  \n",
       "4          3            2  \n",
       "...      ...          ...  \n",
       "17401      3         4205  \n",
       "17402   <NA>         <NA>  \n",
       "17403      0         3853  \n",
       "17404      1         3750  \n",
       "17405      1         3751  \n",
       "\n",
       "[17406 rows x 6 columns]"
      ]
     },
     "execution_count": 5,
     "metadata": {},
     "output_type": "execute_result"
    }
   ],
   "source": [
    "donors_df = pd.read_csv(donors, sep='\\t').astype({\"donor\":\"Int32\", \"donor_index\":\"Int32\"})\n",
    "donors_df"
   ]
  },
  {
   "cell_type": "markdown",
   "id": "a1ee18eb",
   "metadata": {},
   "source": [
    "## Loop through each donor and load their depth and allele depth matrices"
   ]
  },
  {
   "cell_type": "code",
   "execution_count": 6,
   "id": "73da9f0e",
   "metadata": {},
   "outputs": [],
   "source": [
    "from src.utils.data_io import wrap_load_mtx_df"
   ]
  },
  {
   "cell_type": "code",
   "execution_count": null,
   "id": "d57a6c8a",
   "metadata": {
    "scrolled": true
   },
   "outputs": [],
   "source": []
  },
  {
   "cell_type": "code",
   "execution_count": 7,
   "id": "a04cb3b3",
   "metadata": {
    "scrolled": true
   },
   "outputs": [
    {
     "name": "stdout",
     "output_type": "stream",
     "text": [
      "donor 0\n",
      "donor0\n",
      "skipping 0 rows\n",
      "  index_x #CHROM    POS     REF ALT  strand_correlation_x     vmr_x  \\\n",
      "0     NaN   chrM  16525  16525A   C                   NaN       NaN   \n",
      "1   49A>T   chrM     49     49A   T              0.942121  0.030517   \n",
      "2   49A>G   chrM     49     49A   G              0.905935  0.042452   \n",
      "3   49A>C   chrM     49     49A   C              1.000000  0.027458   \n",
      "4   64C>A   chrM     64     64C   A              1.000000  0.021621   \n",
      "\n",
      "   n_cells_over_5_x  n_cells_over_20_x  \\\n",
      "0               NaN                NaN   \n",
      "1               2.0                0.0   \n",
      "2              18.0                0.0   \n",
      "3               1.0                0.0   \n",
      "4               0.0                0.0   \n",
      "\n",
      "   old data/processed/mttrace/jan21_2021/MTblacklist/Control/filters/minC10_minR50_topN0_hetT0.001_hetC10_hetCount5_bq20/filter_mgatk/vireoIn  \\\n",
      "0                                                NaN                                                                                            \n",
      "1                                                1.0                                                                                            \n",
      "2                                                2.0                                                                                            \n",
      "3                                                3.0                                                                                            \n",
      "4                                                4.0                                                                                            \n",
      "\n",
      "    index_y  strand_correlation_y     vmr_y  n_cells_over_5_y  \\\n",
      "0  16525A>C              0.885921  0.046499              70.0   \n",
      "1     49A>T              0.714286  0.029521               2.0   \n",
      "2     49A>G              0.833620  0.040460              51.0   \n",
      "3       NaN                   NaN       NaN               NaN   \n",
      "4       NaN                   NaN       NaN               NaN   \n",
      "\n",
      "   n_cells_over_20_y  \\\n",
      "0                1.0   \n",
      "1                0.0   \n",
      "2                0.0   \n",
      "3                NaN   \n",
      "4                NaN   \n",
      "\n",
      "   old data/processed/mttrace/jan21_2021/MTblacklist/Flt3l/filters/minC10_minR50_topN0_hetT0.001_hetC10_hetCount5_bq20/filter_mgatk/vireoIn  \\\n",
      "0                                              726.0                                                                                          \n",
      "1                                                2.0                                                                                          \n",
      "2                                                1.0                                                                                          \n",
      "3                                                NaN                                                                                          \n",
      "4                                                NaN                                                                                          \n",
      "\n",
      "   new ID  \n",
      "0    1022  \n",
      "1       1  \n",
      "2       2  \n",
      "3       3  \n",
      "4       4  \n",
      "donor 1\n",
      "donor1\n",
      "skipping 0 rows\n",
      "  index_x #CHROM    POS     REF ALT  strand_correlation_x     vmr_x  \\\n",
      "0     NaN   chrM  16525  16525A   C                   NaN       NaN   \n",
      "1   49A>T   chrM     49     49A   T              0.942121  0.030517   \n",
      "2   49A>C   chrM     49     49A   C              1.000000  0.027458   \n",
      "3   64C>A   chrM     64     64C   A              1.000000  0.021621   \n",
      "4   64C>G   chrM     64     64C   G              1.000000  0.033538   \n",
      "\n",
      "   n_cells_over_5_x  n_cells_over_20_x  \\\n",
      "0               NaN                NaN   \n",
      "1               2.0                0.0   \n",
      "2               1.0                0.0   \n",
      "3               0.0                0.0   \n",
      "4               0.0                0.0   \n",
      "\n",
      "   old data/processed/mttrace/jan21_2021/MTblacklist/Control/filters/minC10_minR50_topN0_hetT0.001_hetC10_hetCount5_bq20/filter_mgatk/vireoIn  \\\n",
      "0                                                NaN                                                                                            \n",
      "1                                                1.0                                                                                            \n",
      "2                                                3.0                                                                                            \n",
      "3                                                4.0                                                                                            \n",
      "4                                                6.0                                                                                            \n",
      "\n",
      "    index_y  strand_correlation_y     vmr_y  n_cells_over_5_y  \\\n",
      "0  16525A>C              0.885921  0.046499              70.0   \n",
      "1     49A>T              0.714286  0.029521               2.0   \n",
      "2       NaN                   NaN       NaN               NaN   \n",
      "3       NaN                   NaN       NaN               NaN   \n",
      "4       NaN                   NaN       NaN               NaN   \n",
      "\n",
      "   n_cells_over_20_y  \\\n",
      "0                1.0   \n",
      "1                0.0   \n",
      "2                NaN   \n",
      "3                NaN   \n",
      "4                NaN   \n",
      "\n",
      "   old data/processed/mttrace/jan21_2021/MTblacklist/Flt3l/filters/minC10_minR50_topN0_hetT0.001_hetC10_hetCount5_bq20/filter_mgatk/vireoIn  \\\n",
      "0                                              726.0                                                                                          \n",
      "1                                                2.0                                                                                          \n",
      "2                                                NaN                                                                                          \n",
      "3                                                NaN                                                                                          \n",
      "4                                                NaN                                                                                          \n",
      "\n",
      "   new ID  \n",
      "0    1022  \n",
      "1       1  \n",
      "2       3  \n",
      "3       4  \n",
      "4       6  \n",
      "donor 2\n",
      "donor2\n",
      "skipping 0 rows\n",
      "  index_x #CHROM    POS     REF ALT  strand_correlation_x     vmr_x  \\\n",
      "0     NaN   chrM  16525  16525A   C                   NaN       NaN   \n",
      "1   49A>T   chrM     49     49A   T              0.942121  0.030517   \n",
      "2   49A>G   chrM     49     49A   G              0.905935  0.042452   \n",
      "3   49A>C   chrM     49     49A   C              1.000000  0.027458   \n",
      "4   64C>A   chrM     64     64C   A              1.000000  0.021621   \n",
      "\n",
      "   n_cells_over_5_x  n_cells_over_20_x  \\\n",
      "0               NaN                NaN   \n",
      "1               2.0                0.0   \n",
      "2              18.0                0.0   \n",
      "3               1.0                0.0   \n",
      "4               0.0                0.0   \n",
      "\n",
      "   old data/processed/mttrace/jan21_2021/MTblacklist/Control/filters/minC10_minR50_topN0_hetT0.001_hetC10_hetCount5_bq20/filter_mgatk/vireoIn  \\\n",
      "0                                                NaN                                                                                            \n",
      "1                                                1.0                                                                                            \n",
      "2                                                2.0                                                                                            \n",
      "3                                                3.0                                                                                            \n",
      "4                                                4.0                                                                                            \n",
      "\n",
      "    index_y  strand_correlation_y     vmr_y  n_cells_over_5_y  \\\n",
      "0  16525A>C              0.885921  0.046499              70.0   \n",
      "1     49A>T              0.714286  0.029521               2.0   \n",
      "2     49A>G              0.833620  0.040460              51.0   \n",
      "3       NaN                   NaN       NaN               NaN   \n",
      "4       NaN                   NaN       NaN               NaN   \n",
      "\n",
      "   n_cells_over_20_y  \\\n",
      "0                1.0   \n",
      "1                0.0   \n",
      "2                0.0   \n",
      "3                NaN   \n",
      "4                NaN   \n",
      "\n",
      "   old data/processed/mttrace/jan21_2021/MTblacklist/Flt3l/filters/minC10_minR50_topN0_hetT0.001_hetC10_hetCount5_bq20/filter_mgatk/vireoIn  \\\n",
      "0                                              726.0                                                                                          \n",
      "1                                                2.0                                                                                          \n",
      "2                                                1.0                                                                                          \n",
      "3                                                NaN                                                                                          \n",
      "4                                                NaN                                                                                          \n",
      "\n",
      "   new ID  \n",
      "0    1022  \n",
      "1       1  \n",
      "2       2  \n",
      "3       3  \n",
      "4       4  \n"
     ]
    },
    {
     "name": "stdout",
     "output_type": "stream",
     "text": [
      "donor 3\n",
      "donor3\n",
      "skipping 0 rows\n",
      "  index_x #CHROM    POS     REF ALT  strand_correlation_x     vmr_x  \\\n",
      "0     NaN   chrM  16525  16525A   C                   NaN       NaN   \n",
      "1   49A>T   chrM     49     49A   T              0.942121  0.030517   \n",
      "2   49A>G   chrM     49     49A   G              0.905935  0.042452   \n",
      "3   49A>C   chrM     49     49A   C              1.000000  0.027458   \n",
      "4   64C>A   chrM     64     64C   A              1.000000  0.021621   \n",
      "\n",
      "   n_cells_over_5_x  n_cells_over_20_x  \\\n",
      "0               NaN                NaN   \n",
      "1               2.0                0.0   \n",
      "2              18.0                0.0   \n",
      "3               1.0                0.0   \n",
      "4               0.0                0.0   \n",
      "\n",
      "   old data/processed/mttrace/jan21_2021/MTblacklist/Control/filters/minC10_minR50_topN0_hetT0.001_hetC10_hetCount5_bq20/filter_mgatk/vireoIn  \\\n",
      "0                                                NaN                                                                                            \n",
      "1                                                1.0                                                                                            \n",
      "2                                                2.0                                                                                            \n",
      "3                                                3.0                                                                                            \n",
      "4                                                4.0                                                                                            \n",
      "\n",
      "    index_y  strand_correlation_y     vmr_y  n_cells_over_5_y  \\\n",
      "0  16525A>C              0.885921  0.046499              70.0   \n",
      "1     49A>T              0.714286  0.029521               2.0   \n",
      "2     49A>G              0.833620  0.040460              51.0   \n",
      "3       NaN                   NaN       NaN               NaN   \n",
      "4       NaN                   NaN       NaN               NaN   \n",
      "\n",
      "   n_cells_over_20_y  \\\n",
      "0                1.0   \n",
      "1                0.0   \n",
      "2                0.0   \n",
      "3                NaN   \n",
      "4                NaN   \n",
      "\n",
      "   old data/processed/mttrace/jan21_2021/MTblacklist/Flt3l/filters/minC10_minR50_topN0_hetT0.001_hetC10_hetCount5_bq20/filter_mgatk/vireoIn  \\\n",
      "0                                              726.0                                                                                          \n",
      "1                                                2.0                                                                                          \n",
      "2                                                1.0                                                                                          \n",
      "3                                                NaN                                                                                          \n",
      "4                                                NaN                                                                                          \n",
      "\n",
      "   new ID  \n",
      "0    1022  \n",
      "1       1  \n",
      "2       2  \n",
      "3       3  \n",
      "4       4  \n"
     ]
    }
   ],
   "source": [
    "allAD = {}\n",
    "allDP = {}\n",
    "allAF = {}\n",
    "for d, df in donors_df.dropna(axis=0, subset=[\"donor\"]).groupby(\"donor\"):\n",
    "    print('donor', d)\n",
    "    allAD[d], allDP[d] = wrap_load_mtx_df(indir, oth_f=False, prefix=f\"donor{d}\",\n",
    "                             columns=('Variant', 'Cell', 'integer'), inc_af=False,\n",
    "                             as_dense=True, var_names=True, vcf_prefix=f\"donor{d}\")\n",
    "    \n",
    "    allAD[d] = allAD[d].transpose()\n",
    "    allDP[d] = allDP[d].transpose()\n",
    "    allAD[d].index = df[\"ID\"].values\n",
    "    allDP[d].index = df[\"ID\"].values\n",
    "    allAF[d] = allAD[d]/allDP[d]\n",
    "    allAF[d].fillna(-1)"
   ]
  },
  {
   "cell_type": "code",
   "execution_count": 8,
   "id": "4c6c2746",
   "metadata": {},
   "outputs": [],
   "source": [
    "def dp_where(x, dp, dp_thresh):\n",
    "#    print('name', x.name)\n",
    "    curr = dp.loc[x.name]<dp_thresh\n",
    "    x.loc[curr] = -1 #\"-\"\n",
    "    return x\n",
    "\n",
    "\n",
    "def plot_network(cas_tree, outdir, name):\n",
    "    G = nx.DiGraph()\n",
    "    G.add_nodes_from(cas_tree.nodes)\n",
    "    G.add_edges_from(cas_tree.edges)\n",
    "\n",
    "    # write dot file to use with graphviz\n",
    "    # run \"dot -Tpng test.dot >test.png\"\n",
    "    f = plt.figure(figsize=(10,10), dpi=300)\n",
    "    write_dot(G,join(outdir, f'{name}_hybrid.dot'))\n",
    "\n",
    "    # same layout using matplotlib with no labels\n",
    "    plt.title('draw_networkx')\n",
    "    pos = graphviz_layout(G, prog='dot', root=cas_tree.root)\n",
    "    nx.draw(G, pos, with_labels=False, arrows=True)\n",
    "    plt.savefig(join(outdir, f'{name}_hybrid.png'))\n",
    "\n",
    "def run_cass(af, outdir, name, to_bin=True, dp=None, af_thresh=None, dp_thresh=None, priors=None):\n",
    "    if to_bin and af_thresh is not None:\n",
    "        #Binarize\n",
    "        af = af.applymap(lambda x: 0 if x<af_thresh else 1)\n",
    "    if dp is not None and dp_thresh is not None:\n",
    "        af = af.parallel_apply(dp_where, axis=1, args=(dp, dp_thresh))\n",
    "    character_matrix = af.copy()\n",
    "    #character_matrix = af.parallel_apply(dp_where, axis=1, args=(dp,dp_thresh))\n",
    "    var_map = {val:f\"r{i}\" for i, val in enumerate(character_matrix.columns) }\n",
    "    character_matrix = character_matrix.rename(var_map, axis=1)\n",
    "    print('character mat')\n",
    "    print(character_matrix.shape)\n",
    "    print(character_matrix.head())\n",
    "    if priors is not None:\n",
    "        cas_tree = cas.data.CassiopeiaTree(character_matrix=character_matrix, priors=priors)\n",
    "    else:\n",
    "        cas_tree = cas.data.CassiopeiaTree(character_matrix=character_matrix)\n",
    "    cas_tree.character_matrix.head(5)\n",
    "    \n",
    "    # REINSTANTIATE the bottom and top solvers\n",
    "    vanilla_greedy = cas.solver.VanillaGreedySolver()\n",
    "    if priors is not None:\n",
    "        ilp_solver = cas.solver.ILPSolver(convergence_time_limit=12600, maximum_potential_graph_layer_size=10000, weighted=True, seed=1234)\n",
    "    else:\n",
    "        ilp_solver = cas.solver.ILPSolver(convergence_time_limit=12600, maximum_potential_graph_layer_size=10000, weighted=False, seed=1234)\n",
    "    hybrid_solver = cas.solver.HybridSolver(top_solver=vanilla_greedy, bottom_solver=ilp_solver, cell_cutoff=40, threads=24)\n",
    "    hybrid_solver.solve(cas_tree, logfile=join(outdir, f\"{name}.hybrid.log\"))\n",
    "    rndict = {}\n",
    "    _iter = 0\n",
    "    for n in cas_tree.nodes:\n",
    "        if ',' in n:\n",
    "            rndict[n] = f'node{_iter}'\n",
    "            _iter += 1\n",
    "    cas_tree.relabel_nodes(rndict)                         \n",
    "    pickle.dump(cas_tree, open(join(outdir, name+\".full.missingV.castree.p\"), 'wb'))\n",
    "    \n",
    "    plot_network(cas_tree, outdir, name)\n",
    "    return cas_tree"
   ]
  },
  {
   "cell_type": "code",
   "execution_count": 9,
   "id": "f17b7a04",
   "metadata": {
    "scrolled": true
   },
   "outputs": [
    {
     "name": "stdout",
     "output_type": "stream",
     "text": [
      "donor 0\n",
      "num cells: 3853\n",
      "character mat\n",
      "(3853, 992)\n",
      "                            r0  r1  r2  r3  r4  r5  r6  r7  r8  r9  ...  r982  \\\n",
      "AAACGAAAGCGATACG-1_Control   1   1   1   1   1   1   1   1   1   1  ...     1   \n",
      "AAACGAAGTACCAAGG-1_Control   1   1   1   1   1   1   1   1   1   1  ...     1   \n",
      "AAACTCGCACAAGGGT-1_Control   1   1   1   1   1   1   1   1   1   1  ...     1   \n",
      "AAACTCGCACCTCGTT-1_Control   1   1   1   1   1   1   1   1   1   1  ...     1   \n",
      "AAACTCGGTGCCCTAG-1_Control   1   1   1   1   1   1   1   1   1   1  ...     1   \n",
      "\n",
      "                            r983  r984  r985  r986  r987  r988  r989  r990  \\\n",
      "AAACGAAAGCGATACG-1_Control     1     1     1     1     1     1     1     1   \n",
      "AAACGAAGTACCAAGG-1_Control     1     1     1     1     1     1     1     1   \n",
      "AAACTCGCACAAGGGT-1_Control     1     1     1     1     1     1     1     1   \n",
      "AAACTCGCACCTCGTT-1_Control     1     1     1     1     1     1     1     1   \n",
      "AAACTCGGTGCCCTAG-1_Control     1     1     1     1     1     1     1     1   \n",
      "\n",
      "                            r991  \n",
      "AAACGAAAGCGATACG-1_Control     1  \n",
      "AAACGAAGTACCAAGG-1_Control     1  \n",
      "AAACTCGCACAAGGGT-1_Control     1  \n",
      "AAACTCGCACCTCGTT-1_Control     1  \n",
      "AAACTCGGTGCCCTAG-1_Control     1  \n",
      "\n",
      "[5 rows x 992 columns]\n",
      "output/cass/data/merged_missingV_donor0_noMissingVals.hybrid.log\n",
      "None\n",
      "subtree 0\n"
     ]
    },
    {
     "name": "stderr",
     "output_type": "stream",
     "text": [
      "[2021-08-13 21:09:30,700]    INFO [ILPSolver] Solving tree with the following parameters.\n",
      "[2021-08-13 21:09:30,704]    INFO [ILPSolver] Convergence time limit: 12600\n",
      "[2021-08-13 21:09:30,708]    INFO [ILPSolver] Convergence iteration limit: 0\n",
      "[2021-08-13 21:09:30,711]    INFO [ILPSolver] Max potential graph layer size: 10000\n",
      "[2021-08-13 21:09:30,715]    INFO [ILPSolver] Max potential graph lca distance: None\n",
      "[2021-08-13 21:09:30,718]    INFO [ILPSolver] MIP gap: 0.01\n"
     ]
    },
    {
     "name": "stdout",
     "output_type": "stream",
     "text": [
      "subtree 0\n"
     ]
    },
    {
     "name": "stderr",
     "output_type": "stream",
     "text": [
      "[2021-08-13 21:09:30,776]    INFO [ILPSolver] Solving tree with the following parameters.\n",
      "[2021-08-13 21:09:30,780]    INFO [ILPSolver] Convergence time limit: 12600\n",
      "[2021-08-13 21:09:30,783]    INFO [ILPSolver] Convergence iteration limit: 0\n",
      "[2021-08-13 21:09:30,785]    INFO [ILPSolver] Max potential graph layer size: 10000\n",
      "[2021-08-13 21:09:30,788]    INFO [ILPSolver] Max potential graph lca distance: None\n",
      "[2021-08-13 21:09:30,790]    INFO [ILPSolver] MIP gap: 0.01\n"
     ]
    },
    {
     "name": "stdout",
     "output_type": "stream",
     "text": [
      "subtree 0\n"
     ]
    },
    {
     "name": "stderr",
     "output_type": "stream",
     "text": [
      "[2021-08-13 21:09:30,839]    INFO [ILPSolver] Solving tree with the following parameters.\n",
      "[2021-08-13 21:09:30,841]    INFO [ILPSolver] Convergence time limit: 12600\n",
      "[2021-08-13 21:09:30,844]    INFO [ILPSolver] Convergence iteration limit: 0\n",
      "[2021-08-13 21:09:30,846]    INFO [ILPSolver] Max potential graph layer size: 10000\n",
      "[2021-08-13 21:09:30,849]    INFO [ILPSolver] Max potential graph lca distance: None\n",
      "[2021-08-13 21:09:30,852]    INFO [ILPSolver] MIP gap: 0.01\n"
     ]
    },
    {
     "name": "stdout",
     "output_type": "stream",
     "text": [
      "subtree 0\n"
     ]
    },
    {
     "name": "stderr",
     "output_type": "stream",
     "text": [
      "[2021-08-13 21:09:30,914]    INFO [ILPSolver] Solving tree with the following parameters.\n",
      "[2021-08-13 21:09:30,917]    INFO [ILPSolver] Convergence time limit: 12600\n",
      "[2021-08-13 21:09:30,919]    INFO [ILPSolver] Convergence iteration limit: 0\n",
      "[2021-08-13 21:09:30,922]    INFO [ILPSolver] Max potential graph layer size: 10000\n",
      "[2021-08-13 21:09:30,924]    INFO [ILPSolver] Max potential graph lca distance: None\n",
      "[2021-08-13 21:09:30,926]    INFO [ILPSolver] MIP gap: 0.01\n"
     ]
    },
    {
     "name": "stdout",
     "output_type": "stream",
     "text": [
      "subtree 0\n"
     ]
    },
    {
     "name": "stderr",
     "output_type": "stream",
     "text": [
      "[2021-08-13 21:09:30,990]    INFO [ILPSolver] Solving tree with the following parameters.\n",
      "[2021-08-13 21:09:30,993]    INFO [ILPSolver] Convergence time limit: 12600\n",
      "[2021-08-13 21:09:30,995]    INFO [ILPSolver] Convergence iteration limit: 0\n",
      "[2021-08-13 21:09:30,997]    INFO [ILPSolver] Max potential graph layer size: 10000\n",
      "[2021-08-13 21:09:30,999]    INFO [ILPSolver] Max potential graph lca distance: None\n",
      "[2021-08-13 21:09:31,002]    INFO [ILPSolver] MIP gap: 0.01\n"
     ]
    },
    {
     "name": "stdout",
     "output_type": "stream",
     "text": [
      "subtree 0\n"
     ]
    },
    {
     "name": "stderr",
     "output_type": "stream",
     "text": [
      "[2021-08-13 21:09:31,063]    INFO [ILPSolver] Solving tree with the following parameters.\n",
      "[2021-08-13 21:09:31,066]    INFO [ILPSolver] Convergence time limit: 12600\n",
      "[2021-08-13 21:09:31,068]    INFO [ILPSolver] Convergence iteration limit: 0\n",
      "[2021-08-13 21:09:31,070]    INFO [ILPSolver] Max potential graph layer size: 10000\n",
      "[2021-08-13 21:09:31,073]    INFO [ILPSolver] Max potential graph lca distance: None\n",
      "[2021-08-13 21:09:31,076]    INFO [ILPSolver] MIP gap: 0.01\n"
     ]
    },
    {
     "name": "stdout",
     "output_type": "stream",
     "text": [
      "subtree 0\n"
     ]
    },
    {
     "name": "stderr",
     "output_type": "stream",
     "text": [
      "[2021-08-13 21:09:31,134]    INFO [ILPSolver] Solving tree with the following parameters.\n",
      "[2021-08-13 21:09:31,137]    INFO [ILPSolver] Convergence time limit: 12600\n",
      "[2021-08-13 21:09:31,140]    INFO [ILPSolver] Convergence iteration limit: 0\n",
      "[2021-08-13 21:09:31,142]    INFO [ILPSolver] Max potential graph layer size: 10000\n",
      "[2021-08-13 21:09:31,144]    INFO [ILPSolver] Max potential graph lca distance: None\n",
      "[2021-08-13 21:09:31,147]    INFO [ILPSolver] MIP gap: 0.01\n",
      "[2021-08-13 21:09:41,512]    INFO [ILPSolver] (Process: 05bc47e4651e3fbbbc3a5dae74240ad2) Estimating a potential graph with a maximum layer size of 10000 and a maximum LCA distance of 3.\n",
      "[2021-08-13 21:09:41,519]    INFO [ILPSolver] (Process: 05bc47e4651e3fbbbc3a5dae74240ad2) LCA distance 0 completed with a neighborhood size of 1.\n",
      "[2021-08-13 21:09:41,524]    INFO [ILPSolver] (Process: 05bc47e4651e3fbbbc3a5dae74240ad2) LCA distance 1 completed with a neighborhood size of 1.\n",
      "[2021-08-13 21:09:41,529]    INFO [ILPSolver] (Process: 05bc47e4651e3fbbbc3a5dae74240ad2) LCA distance 2 completed with a neighborhood size of 1.\n",
      "[2021-08-13 21:09:41,534]    INFO [ILPSolver] (Process: 05bc47e4651e3fbbbc3a5dae74240ad2) LCA distance 3 completed with a neighborhood size of 1.\n",
      "[2021-08-13 21:09:41,565]    INFO [ILPSolver] (Process: a039ff1d57f24ec047f1691904662ec4) Estimating a potential graph with a maximum layer size of 10000 and a maximum LCA distance of 3.[2021-08-13 21:09:41,565]    INFO [ILPSolver] (Process: b6216b2862f381869d7bce39ea97856e) Estimating a potential graph with a maximum layer size of 10000 and a maximum LCA distance of 2.\n",
      "\n"
     ]
    },
    {
     "name": "stdout",
     "output_type": "stream",
     "text": [
      "Academic license - for non-commercial use only - expires 2022-07-17\n",
      "Using license file /home/isshamie/gurobi.lic\n"
     ]
    },
    {
     "name": "stderr",
     "output_type": "stream",
     "text": [
      "[2021-08-13 21:09:41,577]    INFO [ILPSolver] (Process: b6216b2862f381869d7bce39ea97856e) LCA distance 0 completed with a neighborhood size of 1.[2021-08-13 21:09:41,578]    INFO [ILPSolver] (Process: a039ff1d57f24ec047f1691904662ec4) LCA distance 0 completed with a neighborhood size of 1.\n",
      "\n",
      "[2021-08-13 21:09:41,583]    INFO [ILPSolver] (Process: b6216b2862f381869d7bce39ea97856e) LCA distance 1 completed with a neighborhood size of 1.\n",
      "[2021-08-13 21:09:41,584]    INFO [ILPSolver] (Process: a039ff1d57f24ec047f1691904662ec4) LCA distance 1 completed with a neighborhood size of 1.[2021-08-13 21:09:41,584]    INFO [ILPSolver] (Process 05bc47e4651e3fbbbc3a5dae74240ad2) Steiner tree solving tool 0 days, 0 hours, 0 minutes, and 0 seconds.\n",
      "\n",
      "[2021-08-13 21:09:41,588]    INFO [ILPSolver] (Process: b6216b2862f381869d7bce39ea97856e) LCA distance 2 completed with a neighborhood size of 1.\n",
      "[2021-08-13 21:09:41,589]    INFO [ILPSolver] (Process: a039ff1d57f24ec047f1691904662ec4) LCA distance 2 completed with a neighborhood size of 1.\n",
      "[2021-08-13 21:09:41,595]    INFO [ILPSolver] (Process: a039ff1d57f24ec047f1691904662ec4) LCA distance 3 completed with a neighborhood size of 1.\n"
     ]
    },
    {
     "name": "stdout",
     "output_type": "stream",
     "text": [
      "Academic license - for non-commercial use only - expires 2022-07-17\n",
      "Using license file /home/isshamie/gurobi.lic\n",
      "Academic license - for non-commercial use only - expires 2022-07-17\n",
      "Using license file /home/isshamie/gurobi.lic\n"
     ]
    },
    {
     "name": "stderr",
     "output_type": "stream",
     "text": [
      "[2021-08-13 21:09:41,621]    INFO [ILPSolver] (Process b6216b2862f381869d7bce39ea97856e) Steiner tree solving tool 0 days, 0 hours, 0 minutes, and 0 seconds.[2021-08-13 21:09:41,622]    INFO [ILPSolver] (Process a039ff1d57f24ec047f1691904662ec4) Steiner tree solving tool 0 days, 0 hours, 0 minutes, and 0 seconds.\n",
      "\n"
     ]
    },
    {
     "name": "stdout",
     "output_type": "stream",
     "text": [
      "subtree 0\n"
     ]
    },
    {
     "name": "stderr",
     "output_type": "stream",
     "text": [
      "[2021-08-13 21:09:41,637]    INFO [ILPSolver] Solving tree with the following parameters.\n",
      "[2021-08-13 21:09:41,639]    INFO [ILPSolver] Convergence time limit: 12600\n",
      "[2021-08-13 21:09:41,641]    INFO [ILPSolver] Convergence iteration limit: 0\n",
      "[2021-08-13 21:09:41,644]    INFO [ILPSolver] Max potential graph layer size: 10000\n",
      "[2021-08-13 21:09:41,646]    INFO [ILPSolver] Max potential graph lca distance: None\n",
      "[2021-08-13 21:09:41,649]    INFO [ILPSolver] MIP gap: 0.01\n"
     ]
    },
    {
     "name": "stdout",
     "output_type": "stream",
     "text": [
      "subtreesubtree  00\n",
      "\n"
     ]
    },
    {
     "name": "stderr",
     "output_type": "stream",
     "text": [
      "[2021-08-13 21:09:41,720]    INFO [ILPSolver] Solving tree with the following parameters.[2021-08-13 21:09:41,720]    INFO [ILPSolver] Solving tree with the following parameters.\n",
      "\n",
      "[2021-08-13 21:09:41,723]    INFO [ILPSolver] Convergence time limit: 12600[2021-08-13 21:09:41,723]    INFO [ILPSolver] Convergence time limit: 12600\n",
      "\n",
      "[2021-08-13 21:09:41,725]    INFO [ILPSolver] Convergence iteration limit: 0[2021-08-13 21:09:41,726]    INFO [ILPSolver] Convergence iteration limit: 0\n",
      "\n",
      "[2021-08-13 21:09:41,728]    INFO [ILPSolver] Max potential graph layer size: 10000[2021-08-13 21:09:41,728]    INFO [ILPSolver] Max potential graph layer size: 10000\n",
      "\n",
      "[2021-08-13 21:09:41,730]    INFO [ILPSolver] Max potential graph lca distance: None[2021-08-13 21:09:41,730]    INFO [ILPSolver] Max potential graph lca distance: None\n",
      "\n",
      "[2021-08-13 21:09:41,732]    INFO [ILPSolver] MIP gap: 0.01[2021-08-13 21:09:41,733]    INFO [ILPSolver] MIP gap: 0.01\n",
      "\n",
      "[2021-08-13 21:09:41,788]    INFO [ILPSolver] (Process: f90888e289933cc05163eea4df3b583a) Estimating a potential graph with a maximum layer size of 10000 and a maximum LCA distance of 5.\n",
      "[2021-08-13 21:09:41,795]    INFO [ILPSolver] (Process: f90888e289933cc05163eea4df3b583a) LCA distance 0 completed with a neighborhood size of 1.\n",
      "[2021-08-13 21:09:41,800]    INFO [ILPSolver] (Process: f90888e289933cc05163eea4df3b583a) LCA distance 1 completed with a neighborhood size of 1.\n",
      "[2021-08-13 21:09:41,805]    INFO [ILPSolver] (Process: f90888e289933cc05163eea4df3b583a) LCA distance 2 completed with a neighborhood size of 1.\n",
      "[2021-08-13 21:09:41,810]    INFO [ILPSolver] (Process: f90888e289933cc05163eea4df3b583a) LCA distance 3 completed with a neighborhood size of 1.\n",
      "[2021-08-13 21:09:41,815]    INFO [ILPSolver] (Process: f90888e289933cc05163eea4df3b583a) LCA distance 4 completed with a neighborhood size of 1.\n",
      "[2021-08-13 21:09:41,820]    INFO [ILPSolver] (Process: f90888e289933cc05163eea4df3b583a) LCA distance 5 completed with a neighborhood size of 1.\n",
      "[2021-08-13 21:09:41,834]    INFO [ILPSolver] (Process: fdc2cfac5d9e1588868b1d063d7d508e) Estimating a potential graph with a maximum layer size of 10000 and a maximum LCA distance of 11.\n",
      "[2021-08-13 21:09:41,840]    INFO [ILPSolver] (Process: fdc2cfac5d9e1588868b1d063d7d508e) LCA distance 0 completed with a neighborhood size of 1."
     ]
    },
    {
     "name": "stdout",
     "output_type": "stream",
     "text": [
      "Academic license - for non-commercial use only - expires 2022-07-17\n"
     ]
    },
    {
     "name": "stderr",
     "output_type": "stream",
     "text": [
      "\n"
     ]
    },
    {
     "name": "stdout",
     "output_type": "stream",
     "text": [
      "Using license file /home/isshamie/gurobi.lic\n"
     ]
    },
    {
     "name": "stderr",
     "output_type": "stream",
     "text": [
      "[2021-08-13 21:09:41,845]    INFO [ILPSolver] (Process: fdc2cfac5d9e1588868b1d063d7d508e) LCA distance 1 completed with a neighborhood size of 1.\n",
      "[2021-08-13 21:09:41,850]    INFO [ILPSolver] (Process: fdc2cfac5d9e1588868b1d063d7d508e) LCA distance 2 completed with a neighborhood size of 1.[2021-08-13 21:09:41,851]    INFO [ILPSolver] (Process f90888e289933cc05163eea4df3b583a) Steiner tree solving tool 0 days, 0 hours, 0 minutes, and 0 seconds.\n",
      "\n",
      "[2021-08-13 21:09:41,855]    INFO [ILPSolver] (Process: fdc2cfac5d9e1588868b1d063d7d508e) LCA distance 3 completed with a neighborhood size of 1.\n",
      "[2021-08-13 21:09:41,861]    INFO [ILPSolver] (Process: fdc2cfac5d9e1588868b1d063d7d508e) LCA distance 4 completed with a neighborhood size of 1.\n",
      "[2021-08-13 21:09:41,866]    INFO [ILPSolver] (Process: fdc2cfac5d9e1588868b1d063d7d508e) LCA distance 5 completed with a neighborhood size of 1.\n",
      "[2021-08-13 21:09:41,871]    INFO [ILPSolver] (Process: fdc2cfac5d9e1588868b1d063d7d508e) LCA distance 6 completed with a neighborhood size of 1.\n",
      "[2021-08-13 21:09:41,876]    INFO [ILPSolver] (Process: fdc2cfac5d9e1588868b1d063d7d508e) LCA distance 7 completed with a neighborhood size of 1.\n",
      "[2021-08-13 21:09:41,880]    INFO [ILPSolver] (Process: fdc2cfac5d9e1588868b1d063d7d508e) LCA distance 8 completed with a neighborhood size of 1.\n",
      "[2021-08-13 21:09:41,885]    INFO [ILPSolver] (Process: fdc2cfac5d9e1588868b1d063d7d508e) LCA distance 9 completed with a neighborhood size of 1.\n",
      "[2021-08-13 21:09:41,890]    INFO [ILPSolver] (Process: fdc2cfac5d9e1588868b1d063d7d508e) LCA distance 10 completed with a neighborhood size of 1.\n",
      "[2021-08-13 21:09:41,895]    INFO [ILPSolver] (Process: fdc2cfac5d9e1588868b1d063d7d508e) LCA distance 11 completed with a neighborhood size of 1.\n",
      "[2021-08-13 21:09:41,906]    INFO [ILPSolver] (Process fdc2cfac5d9e1588868b1d063d7d508e) Steiner tree solving tool 0 days, 0 hours, 0 minutes, and 0 seconds.\n",
      "[2021-08-13 21:09:41,916]    INFO [ILPSolver] (Process: 0ed0a6a0c7af676db893c51b7e29f18c) Estimating a potential graph with a maximum layer size of 10000 and a maximum LCA distance of 5.\n",
      "[2021-08-13 21:09:41,920]    INFO [ILPSolver] (Process: 10095b2070909ec57f4211ca0ba25431) Estimating a potential graph with a maximum layer size of 10000 and a maximum LCA distance of 6.\n",
      "[2021-08-13 21:09:41,921]    INFO [ILPSolver] (Process: 0ed0a6a0c7af676db893c51b7e29f18c) LCA distance 0 completed with a neighborhood size of 1.\n",
      "[2021-08-13 21:09:41,925]    INFO [ILPSolver] (Process: 10095b2070909ec57f4211ca0ba25431) LCA distance 0 completed with a neighborhood size of 1.[2021-08-13 21:09:41,926]    INFO [ILPSolver] (Process: 0ed0a6a0c7af676db893c51b7e29f18c) LCA distance 1 completed with a neighborhood size of 1.\n",
      "\n",
      "[2021-08-13 21:09:41,932]    INFO [ILPSolver] (Process: 0ed0a6a0c7af676db893c51b7e29f18c) LCA distance 2 completed with a neighborhood size of 1.[2021-08-13 21:09:41,932]    INFO [ILPSolver] (Process: 10095b2070909ec57f4211ca0ba25431) LCA distance 1 completed with a neighborhood size of 1.\n",
      "\n",
      "[2021-08-13 21:09:41,937]    INFO [ILPSolver] (Process: 0ed0a6a0c7af676db893c51b7e29f18c) LCA distance 3 completed with a neighborhood size of 1.\n",
      "[2021-08-13 21:09:41,939]    INFO [ILPSolver] (Process: 10095b2070909ec57f4211ca0ba25431) LCA distance 2 completed with a neighborhood size of 1.\n",
      "[2021-08-13 21:09:41,944]    INFO [ILPSolver] (Process: 0ed0a6a0c7af676db893c51b7e29f18c) LCA distance 4 completed with a neighborhood size of 1.[2021-08-13 21:09:41,944]    INFO [ILPSolver] (Process: 10095b2070909ec57f4211ca0ba25431) LCA distance 3 completed with a neighborhood size of 1.\n",
      "\n",
      "[2021-08-13 21:09:41,950]    INFO [ILPSolver] (Process: 10095b2070909ec57f4211ca0ba25431) LCA distance 4 completed with a neighborhood size of 1.[2021-08-13 21:09:41,950]    INFO [ILPSolver] (Process: 0ed0a6a0c7af676db893c51b7e29f18c) LCA distance 5 completed with a neighborhood size of 1.\n",
      "\n",
      "[2021-08-13 21:09:41,955]    INFO [ILPSolver] (Process: 10095b2070909ec57f4211ca0ba25431) LCA distance 5 completed with a neighborhood size of 1.\n",
      "[2021-08-13 21:09:41,961]    INFO [ILPSolver] (Process: 10095b2070909ec57f4211ca0ba25431) LCA distance 6 completed with a neighborhood size of 1.[2021-08-13 21:09:41,961]    INFO [ILPSolver] (Process 0ed0a6a0c7af676db893c51b7e29f18c) Steiner tree solving tool 0 days, 0 hours, 0 minutes, and 0 seconds.\n",
      "\n",
      "[2021-08-13 21:09:41,971]    INFO [ILPSolver] (Process 10095b2070909ec57f4211ca0ba25431) Steiner tree solving tool 0 days, 0 hours, 0 minutes, and 0 seconds.\n"
     ]
    },
    {
     "name": "stdout",
     "output_type": "stream",
     "text": [
      "subtree 0\n"
     ]
    },
    {
     "name": "stderr",
     "output_type": "stream",
     "text": [
      "[2021-08-13 21:09:41,990]    INFO [ILPSolver] Solving tree with the following parameters.\n",
      "[2021-08-13 21:09:41,993]    INFO [ILPSolver] Convergence time limit: 12600\n",
      "[2021-08-13 21:09:41,995]    INFO [ILPSolver] Convergence iteration limit: 0\n",
      "[2021-08-13 21:09:41,998]    INFO [ILPSolver] Max potential graph layer size: 10000\n",
      "[2021-08-13 21:09:42,001]    INFO [ILPSolver] Max potential graph lca distance: None\n",
      "[2021-08-13 21:09:42,004]    INFO [ILPSolver] MIP gap: 0.01\n",
      "[2021-08-13 21:09:42,092]    INFO [ILPSolver] (Process: 442158b669db4633fe102ec511b97ed9) Estimating a potential graph with a maximum layer size of 10000 and a maximum LCA distance of 4.\n",
      "[2021-08-13 21:09:42,104]    INFO [ILPSolver] (Process: 442158b669db4633fe102ec511b97ed9) LCA distance 0 completed with a neighborhood size of 1.\n",
      "[2021-08-13 21:09:42,110]    INFO [ILPSolver] (Process: 442158b669db4633fe102ec511b97ed9) LCA distance 1 completed with a neighborhood size of 1.\n",
      "[2021-08-13 21:09:42,115]    INFO [ILPSolver] (Process: 442158b669db4633fe102ec511b97ed9) LCA distance 2 completed with a neighborhood size of 1.\n",
      "[2021-08-13 21:09:42,120]    INFO [ILPSolver] (Process: 442158b669db4633fe102ec511b97ed9) LCA distance 3 completed with a neighborhood size of 1.\n",
      "[2021-08-13 21:09:42,126]    INFO [ILPSolver] (Process: 442158b669db4633fe102ec511b97ed9) LCA distance 4 completed with a neighborhood size of 1.\n"
     ]
    },
    {
     "name": "stdout",
     "output_type": "stream",
     "text": [
      "Academic license - for non-commercial use only - expires 2022-07-17\n",
      "Using license file /home/isshamie/gurobi.lic\n"
     ]
    },
    {
     "name": "stderr",
     "output_type": "stream",
     "text": [
      "[2021-08-13 21:09:42,160]    INFO [ILPSolver] (Process 442158b669db4633fe102ec511b97ed9) Steiner tree solving tool 0 days, 0 hours, 0 minutes, and 0 seconds.\n",
      "[2021-08-13 21:09:42,197]    INFO [ILPSolver] (Process: 4338a66e61e28f6d72336d3f06a891d7) Estimating a potential graph with a maximum layer size of 10000 and a maximum LCA distance of 2.\n",
      "[2021-08-13 21:09:42,207]    INFO [ILPSolver] (Process: 4338a66e61e28f6d72336d3f06a891d7) LCA distance 0 completed with a neighborhood size of 1.\n",
      "[2021-08-13 21:09:42,213]    INFO [ILPSolver] (Process: 4338a66e61e28f6d72336d3f06a891d7) LCA distance 1 completed with a neighborhood size of 1.\n",
      "[2021-08-13 21:09:42,219]    INFO [ILPSolver] (Process: 4338a66e61e28f6d72336d3f06a891d7) LCA distance 2 completed with a neighborhood size of 1.\n",
      "[2021-08-13 21:09:42,232]    INFO [ILPSolver] (Process 4338a66e61e28f6d72336d3f06a891d7) Steiner tree solving tool 0 days, 0 hours, 0 minutes, and 0 seconds.\n",
      "[2021-08-13 21:09:42,238]    INFO [ILPSolver] (Process: 05823d9dc2b81cc2d925e1e7927759cc) Estimating a potential graph with a maximum layer size of 10000 and a maximum LCA distance of 2.\n",
      "[2021-08-13 21:09:42,245]    INFO [ILPSolver] (Process: 05823d9dc2b81cc2d925e1e7927759cc) LCA distance 0 completed with a neighborhood size of 1.\n",
      "[2021-08-13 21:09:42,248]    INFO [ILPSolver] (Process: 9f405a1a1e788ef783f693d7709f6ec8) Estimating a potential graph with a maximum layer size of 10000 and a maximum LCA distance of 2.\n",
      "[2021-08-13 21:09:42,250]    INFO [ILPSolver] (Process: 05823d9dc2b81cc2d925e1e7927759cc) LCA distance 1 completed with a neighborhood size of 1.\n",
      "[2021-08-13 21:09:42,254]    INFO [ILPSolver] (Process: 9f405a1a1e788ef783f693d7709f6ec8) LCA distance 0 completed with a neighborhood size of 1.[2021-08-13 21:09:42,255]    INFO [ILPSolver] (Process: 05823d9dc2b81cc2d925e1e7927759cc) LCA distance 2 completed with a neighborhood size of 1.\n",
      "\n"
     ]
    },
    {
     "name": "stdout",
     "output_type": "stream",
     "text": [
      "subtree"
     ]
    },
    {
     "name": "stderr",
     "output_type": "stream",
     "text": [
      "[2021-08-13 21:09:42,259]    INFO [ILPSolver] (Process: 9f405a1a1e788ef783f693d7709f6ec8) LCA distance 1 completed with a neighborhood size of 1."
     ]
    },
    {
     "name": "stdout",
     "output_type": "stream",
     "text": [
      " "
     ]
    },
    {
     "name": "stderr",
     "output_type": "stream",
     "text": [
      "\n"
     ]
    },
    {
     "name": "stdout",
     "output_type": "stream",
     "text": [
      "0\n"
     ]
    },
    {
     "name": "stderr",
     "output_type": "stream",
     "text": [
      "[2021-08-13 21:09:42,265]    INFO [ILPSolver] (Process: 9f405a1a1e788ef783f693d7709f6ec8) LCA distance 2 completed with a neighborhood size of 1.\n",
      "[2021-08-13 21:09:42,266]    INFO [ILPSolver] Solving tree with the following parameters.\n",
      "[2021-08-13 21:09:42,269]    INFO [ILPSolver] Convergence time limit: 12600\n",
      "[2021-08-13 21:09:42,271]    INFO [ILPSolver] Convergence iteration limit: 0\n",
      "[2021-08-13 21:09:42,274]    INFO [ILPSolver] Max potential graph layer size: 10000"
     ]
    },
    {
     "name": "stdout",
     "output_type": "stream",
     "text": [
      "Academic license - for non-commercial use only - expires 2022-07-17\n"
     ]
    },
    {
     "name": "stderr",
     "output_type": "stream",
     "text": [
      "\n"
     ]
    },
    {
     "name": "stdout",
     "output_type": "stream",
     "text": [
      "Using license file /home/isshamie/gurobi.lic\n"
     ]
    },
    {
     "name": "stderr",
     "output_type": "stream",
     "text": [
      "[2021-08-13 21:09:42,277]    INFO [ILPSolver] Max potential graph lca distance: None\n",
      "[2021-08-13 21:09:42,279]    INFO [ILPSolver] MIP gap: 0.01\n"
     ]
    },
    {
     "name": "stdout",
     "output_type": "stream",
     "text": [
      "Academic license - for non-commercial use only - expires 2022-07-17\n",
      "Using license file /home/isshamie/gurobi.lic\n"
     ]
    },
    {
     "name": "stderr",
     "output_type": "stream",
     "text": [
      "[2021-08-13 21:09:42,286]    INFO [ILPSolver] (Process 05823d9dc2b81cc2d925e1e7927759cc) Steiner tree solving tool 0 days, 0 hours, 0 minutes, and 0 seconds.\n",
      "[2021-08-13 21:09:42,295]    INFO [ILPSolver] (Process 9f405a1a1e788ef783f693d7709f6ec8) Steiner tree solving tool 0 days, 0 hours, 0 minutes, and 0 seconds.\n"
     ]
    },
    {
     "name": "stdout",
     "output_type": "stream",
     "text": [
      "subtree 0\n"
     ]
    },
    {
     "name": "stderr",
     "output_type": "stream",
     "text": [
      "[2021-08-13 21:09:42,320]    INFO [ILPSolver] Solving tree with the following parameters.\n",
      "[2021-08-13 21:09:42,322]    INFO [ILPSolver] Convergence time limit: 12600"
     ]
    },
    {
     "name": "stdout",
     "output_type": "stream",
     "text": [
      "subtree"
     ]
    },
    {
     "name": "stderr",
     "output_type": "stream",
     "text": [
      "\n"
     ]
    },
    {
     "name": "stdout",
     "output_type": "stream",
     "text": [
      " "
     ]
    },
    {
     "name": "stderr",
     "output_type": "stream",
     "text": [
      "[2021-08-13 21:09:42,325]    INFO [ILPSolver] Convergence iteration limit: 0"
     ]
    },
    {
     "name": "stdout",
     "output_type": "stream",
     "text": [
      "0"
     ]
    },
    {
     "name": "stderr",
     "output_type": "stream",
     "text": [
      "\n"
     ]
    },
    {
     "name": "stdout",
     "output_type": "stream",
     "text": [
      "\n"
     ]
    },
    {
     "name": "stderr",
     "output_type": "stream",
     "text": [
      "[2021-08-13 21:09:42,327]    INFO [ILPSolver] Max potential graph layer size: 10000\n",
      "[2021-08-13 21:09:42,330]    INFO [ILPSolver] Max potential graph lca distance: None[2021-08-13 21:09:42,330]    INFO [ILPSolver] Solving tree with the following parameters.\n",
      "\n",
      "[2021-08-13 21:09:42,333]    INFO [ILPSolver] MIP gap: 0.01[2021-08-13 21:09:42,333]    INFO [ILPSolver] Convergence time limit: 12600\n",
      "\n",
      "[2021-08-13 21:09:42,336]    INFO [ILPSolver] Convergence iteration limit: 0\n",
      "[2021-08-13 21:09:42,338]    INFO [ILPSolver] Max potential graph layer size: 10000\n",
      "[2021-08-13 21:09:42,340]    INFO [ILPSolver] Max potential graph lca distance: None\n",
      "[2021-08-13 21:09:42,343]    INFO [ILPSolver] MIP gap: 0.01\n",
      "[2021-08-13 21:09:42,457]    INFO [ILPSolver] (Process: a6a903e8c9d7e689e54708b66266b4ed) Estimating a potential graph with a maximum layer size of 10000 and a maximum LCA distance of 3.\n",
      "[2021-08-13 21:09:42,462]    INFO [ILPSolver] (Process: a6a903e8c9d7e689e54708b66266b4ed) LCA distance 0 completed with a neighborhood size of 1.\n",
      "[2021-08-13 21:09:42,467]    INFO [ILPSolver] (Process: a6a903e8c9d7e689e54708b66266b4ed) LCA distance 1 completed with a neighborhood size of 1.\n",
      "[2021-08-13 21:09:42,474]    INFO [ILPSolver] (Process: a6a903e8c9d7e689e54708b66266b4ed) LCA distance 2 completed with a neighborhood size of 1.\n",
      "[2021-08-13 21:09:42,481]    INFO [ILPSolver] (Process: a6a903e8c9d7e689e54708b66266b4ed) LCA distance 3 completed with a neighborhood size of 1.\n",
      "[2021-08-13 21:09:42,494]    INFO [ILPSolver] (Process a6a903e8c9d7e689e54708b66266b4ed) Steiner tree solving tool 0 days, 0 hours, 0 minutes, and 0 seconds.\n",
      "[2021-08-13 21:09:42,516]    INFO [ILPSolver] (Process: 1f951febaae8d08fff76e3c1da0b633f) Estimating a potential graph with a maximum layer size of 10000 and a maximum LCA distance of 2.\n",
      "[2021-08-13 21:09:42,519]    INFO [ILPSolver] (Process: d62f87142e6f9c9dd098ba347877ce8c) Estimating a potential graph with a maximum layer size of 10000 and a maximum LCA distance of 2.\n",
      "[2021-08-13 21:09:42,527]    INFO [ILPSolver] (Process: 1f951febaae8d08fff76e3c1da0b633f) LCA distance 0 completed with a neighborhood size of 1.\n",
      "[2021-08-13 21:09:42,529]    INFO [ILPSolver] (Process: d62f87142e6f9c9dd098ba347877ce8c) LCA distance 0 completed with a neighborhood size of 1.\n",
      "[2021-08-13 21:09:42,535]    INFO [ILPSolver] (Process: 1f951febaae8d08fff76e3c1da0b633f) LCA distance 1 completed with a neighborhood size of 1.[2021-08-13 21:09:42,536]    INFO [ILPSolver] (Process: d62f87142e6f9c9dd098ba347877ce8c) LCA distance 1 completed with a neighborhood size of 1.\n",
      "\n",
      "[2021-08-13 21:09:42,541]    INFO [ILPSolver] (Process: 1f951febaae8d08fff76e3c1da0b633f) LCA distance 2 completed with a neighborhood size of 1.[2021-08-13 21:09:42,542]    INFO [ILPSolver] (Process: d62f87142e6f9c9dd098ba347877ce8c) LCA distance 2 completed with a neighborhood size of 1.\n",
      "\n",
      "[2021-08-13 21:09:42,554]    INFO [ILPSolver] (Process d62f87142e6f9c9dd098ba347877ce8c) Steiner tree solving tool 0 days, 0 hours, 0 minutes, and 0 seconds.[2021-08-13 21:09:42,554]    INFO [ILPSolver] (Process 1f951febaae8d08fff76e3c1da0b633f) Steiner tree solving tool 0 days, 0 hours, 0 minutes, and 0 seconds.\n",
      "\n"
     ]
    },
    {
     "name": "stdout",
     "output_type": "stream",
     "text": [
      "subtree 0\n"
     ]
    },
    {
     "name": "stderr",
     "output_type": "stream",
     "text": [
      "[2021-08-13 21:09:42,586]    INFO [ILPSolver] Solving tree with the following parameters."
     ]
    },
    {
     "name": "stdout",
     "output_type": "stream",
     "text": [
      "subtree"
     ]
    },
    {
     "name": "stderr",
     "output_type": "stream",
     "text": [
      "\n"
     ]
    },
    {
     "name": "stdout",
     "output_type": "stream",
     "text": [
      " "
     ]
    },
    {
     "name": "stderr",
     "output_type": "stream",
     "text": [
      "[2021-08-13 21:09:42,589]    INFO [ILPSolver] Convergence time limit: 12600\n"
     ]
    },
    {
     "name": "stdout",
     "output_type": "stream",
     "text": [
      "0\n"
     ]
    },
    {
     "name": "stderr",
     "output_type": "stream",
     "text": [
      "[2021-08-13 21:09:42,592]    INFO [ILPSolver] Convergence iteration limit: 0\n",
      "[2021-08-13 21:09:42,595]    INFO [ILPSolver] Max potential graph layer size: 10000[2021-08-13 21:09:42,596]    INFO [ILPSolver] Solving tree with the following parameters.\n",
      "\n",
      "[2021-08-13 21:09:42,597]    INFO [ILPSolver] Max potential graph lca distance: None[2021-08-13 21:09:42,598]    INFO [ILPSolver] Convergence time limit: 12600\n",
      "\n",
      "[2021-08-13 21:09:42,600]    INFO [ILPSolver] MIP gap: 0.01[2021-08-13 21:09:42,600]    INFO [ILPSolver] Convergence iteration limit: 0\n",
      "\n",
      "[2021-08-13 21:09:42,603]    INFO [ILPSolver] Max potential graph layer size: 10000\n",
      "[2021-08-13 21:09:42,606]    INFO [ILPSolver] Max potential graph lca distance: None\n",
      "[2021-08-13 21:09:42,609]    INFO [ILPSolver] MIP gap: 0.01\n",
      "[2021-08-13 21:09:42,767]    INFO [ILPSolver] (Process: a063a6fee9b1cb1d6a33be3419c01ce4) Estimating a potential graph with a maximum layer size of 10000 and a maximum LCA distance of 2.\n",
      "[2021-08-13 21:09:42,779]    INFO [ILPSolver] (Process: a063a6fee9b1cb1d6a33be3419c01ce4) LCA distance 0 completed with a neighborhood size of 1.\n",
      "[2021-08-13 21:09:42,781]    INFO [ILPSolver] (Process: 05953320c1d8b2dde292406dde39fe35) Estimating a potential graph with a maximum layer size of 10000 and a maximum LCA distance of 2.\n",
      "[2021-08-13 21:09:42,784]    INFO [ILPSolver] (Process: a063a6fee9b1cb1d6a33be3419c01ce4) LCA distance 1 completed with a neighborhood size of 1.\n",
      "[2021-08-13 21:09:42,786]    INFO [ILPSolver] (Process: 05953320c1d8b2dde292406dde39fe35) LCA distance 0 completed with a neighborhood size of 1.\n",
      "[2021-08-13 21:09:42,790]    INFO [ILPSolver] (Process: a063a6fee9b1cb1d6a33be3419c01ce4) LCA distance 2 completed with a neighborhood size of 1.\n",
      "[2021-08-13 21:09:42,793]    INFO [ILPSolver] (Process: 05953320c1d8b2dde292406dde39fe35) LCA distance 1 completed with a neighborhood size of 1.\n",
      "[2021-08-13 21:09:42,799]    INFO [ILPSolver] (Process: 05953320c1d8b2dde292406dde39fe35) LCA distance 2 completed with a neighborhood size of 1.\n",
      "[2021-08-13 21:09:42,804]    INFO [ILPSolver] (Process a063a6fee9b1cb1d6a33be3419c01ce4) Steiner tree solving tool 0 days, 0 hours, 0 minutes, and 0 seconds.\n",
      "[2021-08-13 21:09:42,809]    INFO [ILPSolver] (Process 05953320c1d8b2dde292406dde39fe35) Steiner tree solving tool 0 days, 0 hours, 0 minutes, and 0 seconds.\n"
     ]
    },
    {
     "name": "stdout",
     "output_type": "stream",
     "text": [
      "subtree 0\n"
     ]
    },
    {
     "name": "stderr",
     "output_type": "stream",
     "text": [
      "[2021-08-13 21:09:42,840]    INFO [ILPSolver] Solving tree with the following parameters.\n",
      "[2021-08-13 21:09:42,843]    INFO [ILPSolver] Convergence time limit: 12600\n",
      "[2021-08-13 21:09:42,846]    INFO [ILPSolver] Convergence iteration limit: 0\n",
      "[2021-08-13 21:09:42,849]    INFO [ILPSolver] Max potential graph layer size: 10000"
     ]
    },
    {
     "name": "stdout",
     "output_type": "stream",
     "text": [
      "subtree"
     ]
    },
    {
     "name": "stderr",
     "output_type": "stream",
     "text": [
      "\n"
     ]
    },
    {
     "name": "stdout",
     "output_type": "stream",
     "text": [
      " "
     ]
    },
    {
     "name": "stderr",
     "output_type": "stream",
     "text": [
      "[2021-08-13 21:09:42,852]    INFO [ILPSolver] Max potential graph lca distance: None"
     ]
    },
    {
     "name": "stdout",
     "output_type": "stream",
     "text": [
      "0"
     ]
    },
    {
     "name": "stderr",
     "output_type": "stream",
     "text": [
      "\n"
     ]
    },
    {
     "name": "stdout",
     "output_type": "stream",
     "text": [
      "\n"
     ]
    },
    {
     "name": "stderr",
     "output_type": "stream",
     "text": [
      "[2021-08-13 21:09:42,854]    INFO [ILPSolver] MIP gap: 0.01\n",
      "[2021-08-13 21:09:42,856]    INFO [ILPSolver] Solving tree with the following parameters.\n",
      "[2021-08-13 21:09:42,858]    INFO [ILPSolver] Convergence time limit: 12600\n",
      "[2021-08-13 21:09:42,860]    INFO [ILPSolver] Convergence iteration limit: 0\n",
      "[2021-08-13 21:09:42,862]    INFO [ILPSolver] Max potential graph layer size: 10000\n",
      "[2021-08-13 21:09:42,865]    INFO [ILPSolver] Max potential graph lca distance: None\n",
      "[2021-08-13 21:09:42,868]    INFO [ILPSolver] MIP gap: 0.01\n",
      "[2021-08-13 21:09:43,032]    INFO [ILPSolver] (Process: a130e8fe6f399f767c0394ee33833ebe) Estimating a potential graph with a maximum layer size of 10000 and a maximum LCA distance of 4.\n",
      "[2021-08-13 21:09:43,043]    INFO [ILPSolver] (Process: a130e8fe6f399f767c0394ee33833ebe) LCA distance 0 completed with a neighborhood size of 1.\n",
      "[2021-08-13 21:09:43,048]    INFO [ILPSolver] (Process: a130e8fe6f399f767c0394ee33833ebe) LCA distance 1 completed with a neighborhood size of 1.\n",
      "[2021-08-13 21:09:43,056]    INFO [ILPSolver] (Process: a130e8fe6f399f767c0394ee33833ebe) LCA distance 2 completed with a neighborhood size of 1.\n",
      "[2021-08-13 21:09:43,066]    INFO [ILPSolver] (Process: a130e8fe6f399f767c0394ee33833ebe) LCA distance 3 completed with a neighborhood size of 1.\n",
      "[2021-08-13 21:09:43,071]    INFO [ILPSolver] (Process: a130e8fe6f399f767c0394ee33833ebe) LCA distance 4 completed with a neighborhood size of 1.\n",
      "[2021-08-13 21:09:43,083]    INFO [ILPSolver] (Process a130e8fe6f399f767c0394ee33833ebe) Steiner tree solving tool 0 days, 0 hours, 0 minutes, and 0 seconds.\n",
      "[2021-08-13 21:09:43,103]    INFO [ILPSolver] (Process: 77ef318f6cc8ac0677f5e4f8f1265aef) Estimating a potential graph with a maximum layer size of 10000 and a maximum LCA distance of 46.\n"
     ]
    },
    {
     "name": "stdout",
     "output_type": "stream",
     "text": [
      "subtree 0\n"
     ]
    },
    {
     "name": "stderr",
     "output_type": "stream",
     "text": [
      "[2021-08-13 21:09:43,121]    INFO [ILPSolver] Solving tree with the following parameters.\n",
      "[2021-08-13 21:09:43,123]    INFO [ILPSolver] Convergence time limit: 12600\n",
      "[2021-08-13 21:09:43,126]    INFO [ILPSolver] Convergence iteration limit: 0\n",
      "[2021-08-13 21:09:43,128]    INFO [ILPSolver] Max potential graph layer size: 10000\n",
      "[2021-08-13 21:09:43,131]    INFO [ILPSolver] Max potential graph lca distance: None\n",
      "[2021-08-13 21:09:43,133]    INFO [ILPSolver] MIP gap: 0.01\n",
      "[2021-08-13 21:09:43,308]    INFO [ILPSolver] (Process: 687306830f5723198d5f24ab050c1319) Estimating a potential graph with a maximum layer size of 10000 and a maximum LCA distance of 2.\n",
      "[2021-08-13 21:09:43,313]    INFO [ILPSolver] (Process: 687306830f5723198d5f24ab050c1319) LCA distance 0 completed with a neighborhood size of 1.\n",
      "[2021-08-13 21:09:43,318]    INFO [ILPSolver] (Process: 687306830f5723198d5f24ab050c1319) LCA distance 1 completed with a neighborhood size of 1.\n",
      "[2021-08-13 21:09:43,322]    INFO [ILPSolver] (Process: 687306830f5723198d5f24ab050c1319) LCA distance 2 completed with a neighborhood size of 1.\n",
      "[2021-08-13 21:09:43,332]    INFO [ILPSolver] (Process 687306830f5723198d5f24ab050c1319) Steiner tree solving tool 0 days, 0 hours, 0 minutes, and 0 seconds.\n"
     ]
    },
    {
     "name": "stdout",
     "output_type": "stream",
     "text": [
      "subtree 0\n"
     ]
    },
    {
     "name": "stderr",
     "output_type": "stream",
     "text": [
      "[2021-08-13 21:09:43,365]    INFO [ILPSolver] Solving tree with the following parameters.\n",
      "[2021-08-13 21:09:43,367]    INFO [ILPSolver] Convergence time limit: 12600\n",
      "[2021-08-13 21:09:43,370]    INFO [ILPSolver] Convergence iteration limit: 0\n",
      "[2021-08-13 21:09:43,372]    INFO [ILPSolver] Max potential graph layer size: 10000\n",
      "[2021-08-13 21:09:43,375]    INFO [ILPSolver] Max potential graph lca distance: None\n",
      "[2021-08-13 21:09:43,378]    INFO [ILPSolver] MIP gap: 0.01\n",
      "[2021-08-13 21:09:43,551]    INFO [ILPSolver] (Process: 242765ae9b3c0a7afa59cbaa5096f8b9) Estimating a potential graph with a maximum layer size of 10000 and a maximum LCA distance of 4.\n",
      "[2021-08-13 21:09:43,557]    INFO [ILPSolver] (Process: 242765ae9b3c0a7afa59cbaa5096f8b9) LCA distance 0 completed with a neighborhood size of 1.\n",
      "[2021-08-13 21:09:43,561]    INFO [ILPSolver] (Process: 242765ae9b3c0a7afa59cbaa5096f8b9) LCA distance 1 completed with a neighborhood size of 1.\n",
      "[2021-08-13 21:09:43,567]    INFO [ILPSolver] (Process: 242765ae9b3c0a7afa59cbaa5096f8b9) LCA distance 2 completed with a neighborhood size of 1.\n",
      "[2021-08-13 21:09:43,573]    INFO [ILPSolver] (Process: 242765ae9b3c0a7afa59cbaa5096f8b9) LCA distance 3 completed with a neighborhood size of 1.\n",
      "[2021-08-13 21:09:43,581]    INFO [ILPSolver] (Process: 242765ae9b3c0a7afa59cbaa5096f8b9) LCA distance 4 completed with a neighborhood size of 1.\n",
      "[2021-08-13 21:09:43,594]    INFO [ILPSolver] (Process 242765ae9b3c0a7afa59cbaa5096f8b9) Steiner tree solving tool 0 days, 0 hours, 0 minutes, and 0 seconds.\n",
      "[2021-08-14 03:15:26,533]    INFO [ILPSolver] (Process: 77ef318f6cc8ac0677f5e4f8f1265aef) Maximum layer size exceeded, returning network.\n"
     ]
    },
    {
     "ename": "KeyError",
     "evalue": "(1, 1, 1, 1, 1, 1, 1, 1, 1, 1, 1, 1, 1, 1, 1, 1, 1, 1, 1, 1, 1, 1, 1, 1, 1, 1, 1, 1, 1, 1, 1, 1, 1, 1, 1, 1, 1, 1, 1, 1, 1, 1, 1, 1, 1, 1, 1, 1, 1, 1, 1, 1, 1, 1, 1, 1, 1, 1, 1, 1, 1, 1, 1, 1, 1, 1, 1, 1, 1, 1, 1, 1, 1, 1, 1, 1, 1, 1, 1, 1, 1, 1, 1, 1, 1, 1, 1, 1, 1, 1, 1, 1, 1, 1, 1, 1, 1, 1, 1, 1, 1, 1, 1, 1, 1, 1, 1, 1, 1, 1, 1, 1, 1, 1, 1, 1, 1, 1, 1, 1, 1, 1, 1, 1, 1, 1, 1, 1, 1, 1, 1, 1, 1, 1, 1, 1, 1, 1, 1, 1, 1, 1, 1, 1, 1, 1, 1, 1, 1, 1, 1, 1, 1, 1, 1, 1, 1, 1, 1, 1, 1, 1, 1, 1, 1, 1, 1, 1, 1, 1, 1, 1, 1, 1, 1, 1, 1, 1, 1, 1, 1, 1, 1, 1, 1, 1, 1, 1, 1, 1, 1, 1, 1, 1, 1, 1, 1, 1, 1, 1, 1, 1, 1, 1, 1, 1, 1, 1, 1, 1, 1, 1, 1, 1, 1, 1, 1, 1, 1, 1, 1, 1, 1, 1, 1, 1, 1, 1, 1, 1, 1, 1, 1, 1, 1, 1, 1, 1, 1, 1, 1, 1, 1, 1, 1, 1, 1, 1, 1, 1, 1, 1, 1, 1, 1, 1, 1, 1, 1, 1, 1, 1, 1, 1, 1, 1, 1, 1, 1, 1, 1, 1, 1, 1, 1, 1, 1, 1, 1, 1, 1, 1, 1, 1, 1, 1, 1, 1, 1, 1, 1, 1, 1, 1, 1, 1, 1, 1, 1, 1, 1, 1, 1, 1, 1, 1, 1, 1, 1, 1, 1, 1, 1, 1, 1, 1, 1, 1, 1, 1, 1, 1, 1, 1, 1, 1, 1, 1, 1, 1, 1, 1, 1, 1, 1, 1, 1, 1, 1, 1, 1, 1, 1, 1, 1, 1, 1, 1, 1, 1, 1, 1, 1, 1, 1, 1, 1, 1, 1, 1, 1, 1, 1, 1, 1, 1, 1, 1, 1, 1, 1, 1, 1, 1, 1, 1, 1, 1, 1, 1, 1, 1, 1, 1, 1, 1, 1, 1, 1, 1, 1, 1, 1, 1, 1, 1, 1, 1, 1, 1, 1, 1, 1, 1, 1, 1, 1, 1, 1, 1, 1, 1, 1, 1, 1, 1, 1, 1, 1, 1, 1, 1, 1, 1, 1, 1, 1, 1, 1, 1, 1, 1, 1, 1, 1, 1, 1, 1, 1, 1, 1, 1, 1, 1, 1, 1, 1, 1, 1, 1, 1, 1, 1, 1, 1, 1, 1, 1, 1, 1, 1, 1, 1, 1, 1, 1, 1, 1, 1, 1, 1, 1, 1, 1, 1, 1, 1, 1, 1, 1, 1, 1, 1, 1, 1, 1, 1, 1, 1, 1, 1, 1, 1, 1, 1, 1, 1, 1, 1, 1, 1, 1, 1, 1, 1, 1, 1, 1, 1, 1, 1, 1, 1, 1, 1, 1, 1, 1, 1, 1, 1, 1, 1, 1, 1, 1, 1, 1, 1, 1, 1, 1, 1, 1, 1, 1, 1, 1, 1, 1, 1, 1, 1, 1, 1, 1, 1, 1, 1, 1, 1, 1, 1, 1, 1, 1, 1, 1, 1, 1, 1, 1, 1, 1, 1, 1, 1, 1, 1, 1, 1, 1, 1, 1, 1, 1, 1, 1, 1, 1, 1, 1, 1, 1, 1, 1, 1, 1, 1, 1, 1, 1, 1, 1, 1, 1, 1, 1, 1, 1, 1, 1, 1, 1, 1, 1, 1, 1, 1, 1, 1, 1, 1, 1, 1, 1, 1, 1, 1, 1, 1, 1, 1, 1, 1, 1, 1, 1, 1, 1, 1, 1, 1, 1, 1, 1, 1, 1, 1, 1, 1, 1, 1, 1, 1, 1, 1, 1, 1, 1, 1, 1, 1, 1, 1, 1, 1, 1, 1, 1, 1, 1, 1, 1, 1, 1, 1, 1, 1, 1, 1, 1, 1, 1, 1, 1, 1, 1, 1, 1, 1, 1, 1, 1, 1, 1, 1, 1, 1, 1, 1, 1, 1, 1, 1, 1, 1, 1, 1, 1, 1, 1, 1, 1, 1, 1, 1, 1, 1, 1, 1, 1, 1, 1, 1, 1, 1, 1, 1, 1, 1, 1, 1, 1, 1, 1, 1, 1, 1, 1, 1, 1, 1, 1, 1, 1, 1, 1, 1, 1, 1, 1, 1, 1, 1, 1, 1, 1, 1, 1, 1, 1, 1, 1, 1, 1, 1, 1, 1, 1, 1, 1, 1, 1, 1, 1, 1, 1, 1, 1, 1, 1, 1, 1, 1, 1, 1, 1, 1, 1, 1, 1, 1, 1, 1, 1, 1, 1, 1, 1, 1, 1, 1, 1, 1, 1, 1, 1, 1, 1, 1, 1, 1, 1, 1, 1, 1, 1, 1, 1, 1, 1, 1, 1, 1, 1, 1, 1, 1, 1, 1, 1, 1, 1, 1, 1, 1, 1, 1, 1, 1, 1, 1, 1, 1, 1, 1, 1, 1, 1, 1, 1, 1, 1, 1, 1, 1, 1, 1, 1, 1, 1, 1, 1, 1, 1, 1, 1, 1, 1, 1, 1, 1, 1, 1, 1, 1, 1, 1, 1, 1, 1, 1, 1, 1, 1, 1, 1, 1, 1, 1, 1, 1, 1, 1, 1, 1, 1, 1, 1, 1, 1, 1, 1, 1, 1, 1, 1, 1, 1, 1, 1, 1, 1, 1, 1, 1, 1, 1, 1, 1, 1, 1, 1, 1, 1, 1, 1, 1, 1, 1, 1, 1, 1, 1, 1, 1, 1, 1, 1, 1, 1, 1, 1, 1, 1, 1, 1, 1, 1, 1, 1, 1, 1, 1, 1, 1, 1, 1, 1, 1, 1, 1, 1, 1, 1, 1, 1, 1, 1, 1, 1, 1, 1, 1, 1, 1, 1, 1, 1, 1, 1, 1, 1, 1, 1, 1, 1, 1, 1, 1, 1, 1, 1, 1, 1, 1, 1, 1, 1, 1, 1)",
     "output_type": "error",
     "traceback": [
      "\u001b[0;31m---------------------------------------------------------------------------\u001b[0m",
      "\u001b[0;31mRemoteTraceback\u001b[0m                           Traceback (most recent call last)",
      "\u001b[0;31mRemoteTraceback\u001b[0m: \n\"\"\"\nTraceback (most recent call last):\n  File \"/data/isshamie/software/anaconda3/envs/mito_trace/lib/python3.6/multiprocessing/pool.py\", line 119, in worker\n    result = (True, func(*args, **kwds))\n  File \"/data/isshamie/software/anaconda3/envs/mito_trace/lib/python3.6/multiprocessing/pool.py\", line 47, in starmapstar\n    return list(itertools.starmap(args[0], args[1]))\n  File \"/data/isshamie/software/anaconda3/envs/mito_trace/lib/python3.6/site-packages/cassiopeia/solver/HybridSolver.py\", line 339, in apply_bottom_solver\n    self.bottom_solver.solve(subtree, logfile=logfile)\n  File \"/data/isshamie/software/anaconda3/envs/mito_trace/lib/python3.6/site-packages/ngs_tools/logging.py\", line 62, in inner\n    return func(*args, **kwargs)\n  File \"/data/isshamie/software/anaconda3/envs/mito_trace/lib/python3.6/site-packages/cassiopeia/solver/ILPSolver.py\", line 222, in solve\n    _targets = list(map(lambda x: encoder[x], targets))\n  File \"/data/isshamie/software/anaconda3/envs/mito_trace/lib/python3.6/site-packages/cassiopeia/solver/ILPSolver.py\", line 222, in <lambda>\n    _targets = list(map(lambda x: encoder[x], targets))\nKeyError: (1, 1, 1, 1, 1, 1, 1, 1, 1, 1, 1, 1, 1, 1, 1, 1, 1, 1, 1, 1, 1, 1, 1, 1, 1, 1, 1, 1, 1, 1, 1, 1, 1, 1, 1, 1, 1, 1, 1, 1, 1, 1, 1, 1, 1, 1, 1, 1, 1, 1, 1, 1, 1, 1, 1, 1, 1, 1, 1, 1, 1, 1, 1, 1, 1, 1, 1, 1, 1, 1, 1, 1, 1, 1, 1, 1, 1, 1, 1, 1, 1, 1, 1, 1, 1, 1, 1, 1, 1, 1, 1, 1, 1, 1, 1, 1, 1, 1, 1, 1, 1, 1, 1, 1, 1, 1, 1, 1, 1, 1, 1, 1, 1, 1, 1, 1, 1, 1, 1, 1, 1, 1, 1, 1, 1, 1, 1, 1, 1, 1, 1, 1, 1, 1, 1, 1, 1, 1, 1, 1, 1, 1, 1, 1, 1, 1, 1, 1, 1, 1, 1, 1, 1, 1, 1, 1, 1, 1, 1, 1, 1, 1, 1, 1, 1, 1, 1, 1, 1, 1, 1, 1, 1, 1, 1, 1, 1, 1, 1, 1, 1, 1, 1, 1, 1, 1, 1, 1, 1, 1, 1, 1, 1, 1, 1, 1, 1, 1, 1, 1, 1, 1, 1, 1, 1, 1, 1, 1, 1, 1, 1, 1, 1, 1, 1, 1, 1, 1, 1, 1, 1, 1, 1, 1, 1, 1, 1, 1, 1, 1, 1, 1, 1, 1, 1, 1, 1, 1, 1, 1, 1, 1, 1, 1, 1, 1, 1, 1, 1, 1, 1, 1, 1, 1, 1, 1, 1, 1, 1, 1, 1, 1, 1, 1, 1, 1, 1, 1, 1, 1, 1, 1, 1, 1, 1, 1, 1, 1, 1, 1, 1, 1, 1, 1, 1, 1, 1, 1, 1, 1, 1, 1, 1, 1, 1, 1, 1, 1, 1, 1, 1, 1, 1, 1, 1, 1, 1, 1, 1, 1, 1, 1, 1, 1, 1, 1, 1, 1, 1, 1, 1, 1, 1, 1, 1, 1, 1, 1, 1, 1, 1, 1, 1, 1, 1, 1, 1, 1, 1, 1, 1, 1, 1, 1, 1, 1, 1, 1, 1, 1, 1, 1, 1, 1, 1, 1, 1, 1, 1, 1, 1, 1, 1, 1, 1, 1, 1, 1, 1, 1, 1, 1, 1, 1, 1, 1, 1, 1, 1, 1, 1, 1, 1, 1, 1, 1, 1, 1, 1, 1, 1, 1, 1, 1, 1, 1, 1, 1, 1, 1, 1, 1, 1, 1, 1, 1, 1, 1, 1, 1, 1, 1, 1, 1, 1, 1, 1, 1, 1, 1, 1, 1, 1, 1, 1, 1, 1, 1, 1, 1, 1, 1, 1, 1, 1, 1, 1, 1, 1, 1, 1, 1, 1, 1, 1, 1, 1, 1, 1, 1, 1, 1, 1, 1, 1, 1, 1, 1, 1, 1, 1, 1, 1, 1, 1, 1, 1, 1, 1, 1, 1, 1, 1, 1, 1, 1, 1, 1, 1, 1, 1, 1, 1, 1, 1, 1, 1, 1, 1, 1, 1, 1, 1, 1, 1, 1, 1, 1, 1, 1, 1, 1, 1, 1, 1, 1, 1, 1, 1, 1, 1, 1, 1, 1, 1, 1, 1, 1, 1, 1, 1, 1, 1, 1, 1, 1, 1, 1, 1, 1, 1, 1, 1, 1, 1, 1, 1, 1, 1, 1, 1, 1, 1, 1, 1, 1, 1, 1, 1, 1, 1, 1, 1, 1, 1, 1, 1, 1, 1, 1, 1, 1, 1, 1, 1, 1, 1, 1, 1, 1, 1, 1, 1, 1, 1, 1, 1, 1, 1, 1, 1, 1, 1, 1, 1, 1, 1, 1, 1, 1, 1, 1, 1, 1, 1, 1, 1, 1, 1, 1, 1, 1, 1, 1, 1, 1, 1, 1, 1, 1, 1, 1, 1, 1, 1, 1, 1, 1, 1, 1, 1, 1, 1, 1, 1, 1, 1, 1, 1, 1, 1, 1, 1, 1, 1, 1, 1, 1, 1, 1, 1, 1, 1, 1, 1, 1, 1, 1, 1, 1, 1, 1, 1, 1, 1, 1, 1, 1, 1, 1, 1, 1, 1, 1, 1, 1, 1, 1, 1, 1, 1, 1, 1, 1, 1, 1, 1, 1, 1, 1, 1, 1, 1, 1, 1, 1, 1, 1, 1, 1, 1, 1, 1, 1, 1, 1, 1, 1, 1, 1, 1, 1, 1, 1, 1, 1, 1, 1, 1, 1, 1, 1, 1, 1, 1, 1, 1, 1, 1, 1, 1, 1, 1, 1, 1, 1, 1, 1, 1, 1, 1, 1, 1, 1, 1, 1, 1, 1, 1, 1, 1, 1, 1, 1, 1, 1, 1, 1, 1, 1, 1, 1, 1, 1, 1, 1, 1, 1, 1, 1, 1, 1, 1, 1, 1, 1, 1, 1, 1, 1, 1, 1, 1, 1, 1, 1, 1, 1, 1, 1, 1, 1, 1, 1, 1, 1, 1, 1, 1, 1, 1, 1, 1, 1, 1, 1, 1, 1, 1, 1, 1, 1, 1, 1, 1, 1, 1, 1, 1, 1, 1, 1, 1, 1, 1, 1, 1, 1, 1, 1, 1, 1, 1, 1, 1, 1, 1, 1, 1, 1, 1, 1, 1, 1, 1, 1, 1, 1, 1, 1, 1, 1, 1, 1, 1, 1, 1, 1, 1, 1, 1, 1, 1, 1, 1, 1, 1, 1, 1, 1, 1, 1, 1, 1, 1, 1, 1, 1, 1, 1, 1, 1, 1, 1, 1, 1, 1, 1, 1, 1, 1, 1, 1, 1, 1, 1, 1, 1, 1, 1, 1, 1, 1, 1, 1, 1, 1, 1, 1, 1, 1, 1, 1, 1, 1, 1, 1, 1, 1, 1, 1, 1, 1, 1, 1, 1, 1, 1, 1, 1, 1, 1, 1, 1, 1, 1, 1, 1, 1, 1, 1, 1, 1, 1, 1, 1, 1, 1, 1, 1, 1, 1, 1, 1, 1, 1, 1, 1, 1, 1, 1, 1, 1, 1, 1, 1, 1, 1, 1, 1, 1, 1, 1, 1, 1, 1, 1, 1, 1, 1, 1, 1, 1, 1, 1, 1, 1, 1, 1, 1, 1, 1, 1, 1, 1, 1, 1, 1, 1, 1, 1, 1)\n\"\"\"",
      "\nThe above exception was the direct cause of the following exception:\n",
      "\u001b[0;31mKeyError\u001b[0m                                  Traceback (most recent call last)",
      "\u001b[0;32m<ipython-input-9-9b0d80fc39bd>\u001b[0m in \u001b[0;36m<module>\u001b[0;34m\u001b[0m\n\u001b[1;32m     10\u001b[0m         \u001b[0mprint\u001b[0m\u001b[0;34m(\u001b[0m\u001b[0;34m\"num cells:\"\u001b[0m\u001b[0;34m,\u001b[0m \u001b[0mallAF\u001b[0m\u001b[0;34m[\u001b[0m\u001b[0md\u001b[0m\u001b[0;34m]\u001b[0m\u001b[0;34m.\u001b[0m\u001b[0mshape\u001b[0m\u001b[0;34m[\u001b[0m\u001b[0;36m0\u001b[0m\u001b[0;34m]\u001b[0m\u001b[0;34m)\u001b[0m\u001b[0;34m\u001b[0m\u001b[0;34m\u001b[0m\u001b[0m\n\u001b[1;32m     11\u001b[0m         run_cass(allAF[d], outdir, name=f\"{name}_donor{d}_noMissingVals\", to_bin=True, dp=None, \n\u001b[0;32m---> 12\u001b[0;31m                  af_thresh=af_thresh, dp_thresh=None, priors=None,)    \n\u001b[0m",
      "\u001b[0;32m<ipython-input-8-d0e4deea967d>\u001b[0m in \u001b[0;36mrun_cass\u001b[0;34m(af, outdir, name, to_bin, dp, af_thresh, dp_thresh, priors)\u001b[0m\n\u001b[1;32m     48\u001b[0m         \u001b[0milp_solver\u001b[0m \u001b[0;34m=\u001b[0m \u001b[0mcas\u001b[0m\u001b[0;34m.\u001b[0m\u001b[0msolver\u001b[0m\u001b[0;34m.\u001b[0m\u001b[0mILPSolver\u001b[0m\u001b[0;34m(\u001b[0m\u001b[0mconvergence_time_limit\u001b[0m\u001b[0;34m=\u001b[0m\u001b[0;36m12600\u001b[0m\u001b[0;34m,\u001b[0m \u001b[0mmaximum_potential_graph_layer_size\u001b[0m\u001b[0;34m=\u001b[0m\u001b[0;36m10000\u001b[0m\u001b[0;34m,\u001b[0m \u001b[0mweighted\u001b[0m\u001b[0;34m=\u001b[0m\u001b[0;32mFalse\u001b[0m\u001b[0;34m,\u001b[0m \u001b[0mseed\u001b[0m\u001b[0;34m=\u001b[0m\u001b[0;36m1234\u001b[0m\u001b[0;34m)\u001b[0m\u001b[0;34m\u001b[0m\u001b[0;34m\u001b[0m\u001b[0m\n\u001b[1;32m     49\u001b[0m     \u001b[0mhybrid_solver\u001b[0m \u001b[0;34m=\u001b[0m \u001b[0mcas\u001b[0m\u001b[0;34m.\u001b[0m\u001b[0msolver\u001b[0m\u001b[0;34m.\u001b[0m\u001b[0mHybridSolver\u001b[0m\u001b[0;34m(\u001b[0m\u001b[0mtop_solver\u001b[0m\u001b[0;34m=\u001b[0m\u001b[0mvanilla_greedy\u001b[0m\u001b[0;34m,\u001b[0m \u001b[0mbottom_solver\u001b[0m\u001b[0;34m=\u001b[0m\u001b[0milp_solver\u001b[0m\u001b[0;34m,\u001b[0m \u001b[0mcell_cutoff\u001b[0m\u001b[0;34m=\u001b[0m\u001b[0;36m40\u001b[0m\u001b[0;34m,\u001b[0m \u001b[0mthreads\u001b[0m\u001b[0;34m=\u001b[0m\u001b[0;36m24\u001b[0m\u001b[0;34m)\u001b[0m\u001b[0;34m\u001b[0m\u001b[0;34m\u001b[0m\u001b[0m\n\u001b[0;32m---> 50\u001b[0;31m     \u001b[0mhybrid_solver\u001b[0m\u001b[0;34m.\u001b[0m\u001b[0msolve\u001b[0m\u001b[0;34m(\u001b[0m\u001b[0mcas_tree\u001b[0m\u001b[0;34m,\u001b[0m \u001b[0mlogfile\u001b[0m\u001b[0;34m=\u001b[0m\u001b[0mjoin\u001b[0m\u001b[0;34m(\u001b[0m\u001b[0moutdir\u001b[0m\u001b[0;34m,\u001b[0m \u001b[0;34mf\"{name}.hybrid.log\"\u001b[0m\u001b[0;34m)\u001b[0m\u001b[0;34m)\u001b[0m\u001b[0;34m\u001b[0m\u001b[0;34m\u001b[0m\u001b[0m\n\u001b[0m\u001b[1;32m     51\u001b[0m     \u001b[0mrndict\u001b[0m \u001b[0;34m=\u001b[0m \u001b[0;34m{\u001b[0m\u001b[0;34m}\u001b[0m\u001b[0;34m\u001b[0m\u001b[0;34m\u001b[0m\u001b[0m\n\u001b[1;32m     52\u001b[0m     \u001b[0m_iter\u001b[0m \u001b[0;34m=\u001b[0m \u001b[0;36m0\u001b[0m\u001b[0;34m\u001b[0m\u001b[0;34m\u001b[0m\u001b[0m\n",
      "\u001b[0;32m/data/isshamie/software/anaconda3/envs/mito_trace/lib/python3.6/site-packages/cassiopeia/solver/HybridSolver.py\u001b[0m in \u001b[0;36msolve\u001b[0;34m(self, cassiopeia_tree, layer, collapse_mutationless_edges, logfile)\u001b[0m\n\u001b[1;32m    159\u001b[0m                                 \u001b[0mlayer\u001b[0m\u001b[0;34m,\u001b[0m\u001b[0;34m\u001b[0m\u001b[0;34m\u001b[0m\u001b[0m\n\u001b[1;32m    160\u001b[0m                             )\n\u001b[0;32m--> 161\u001b[0;31m                             \u001b[0;32mfor\u001b[0m \u001b[0msubproblem\u001b[0m \u001b[0;32min\u001b[0m \u001b[0msubproblems\u001b[0m\u001b[0;34m\u001b[0m\u001b[0;34m\u001b[0m\u001b[0m\n\u001b[0m\u001b[1;32m    162\u001b[0m                         ],\n\u001b[1;32m    163\u001b[0m                     ),\n",
      "\u001b[0;32m/data/isshamie/software/anaconda3/envs/mito_trace/lib/python3.6/multiprocessing/pool.py\u001b[0m in \u001b[0;36mstarmap\u001b[0;34m(self, func, iterable, chunksize)\u001b[0m\n\u001b[1;32m    272\u001b[0m         \u001b[0;31m`\u001b[0m\u001b[0mfunc\u001b[0m\u001b[0;31m`\u001b[0m \u001b[0;32mand\u001b[0m \u001b[0;34m(\u001b[0m\u001b[0ma\u001b[0m\u001b[0;34m,\u001b[0m \u001b[0mb\u001b[0m\u001b[0;34m)\u001b[0m \u001b[0mbecomes\u001b[0m \u001b[0mfunc\u001b[0m\u001b[0;34m(\u001b[0m\u001b[0ma\u001b[0m\u001b[0;34m,\u001b[0m \u001b[0mb\u001b[0m\u001b[0;34m)\u001b[0m\u001b[0;34m.\u001b[0m\u001b[0;34m\u001b[0m\u001b[0;34m\u001b[0m\u001b[0m\n\u001b[1;32m    273\u001b[0m         '''\n\u001b[0;32m--> 274\u001b[0;31m         \u001b[0;32mreturn\u001b[0m \u001b[0mself\u001b[0m\u001b[0;34m.\u001b[0m\u001b[0m_map_async\u001b[0m\u001b[0;34m(\u001b[0m\u001b[0mfunc\u001b[0m\u001b[0;34m,\u001b[0m \u001b[0miterable\u001b[0m\u001b[0;34m,\u001b[0m \u001b[0mstarmapstar\u001b[0m\u001b[0;34m,\u001b[0m \u001b[0mchunksize\u001b[0m\u001b[0;34m)\u001b[0m\u001b[0;34m.\u001b[0m\u001b[0mget\u001b[0m\u001b[0;34m(\u001b[0m\u001b[0;34m)\u001b[0m\u001b[0;34m\u001b[0m\u001b[0;34m\u001b[0m\u001b[0m\n\u001b[0m\u001b[1;32m    275\u001b[0m \u001b[0;34m\u001b[0m\u001b[0m\n\u001b[1;32m    276\u001b[0m     def starmap_async(self, func, iterable, chunksize=None, callback=None,\n",
      "\u001b[0;32m/data/isshamie/software/anaconda3/envs/mito_trace/lib/python3.6/multiprocessing/pool.py\u001b[0m in \u001b[0;36mget\u001b[0;34m(self, timeout)\u001b[0m\n\u001b[1;32m    642\u001b[0m             \u001b[0;32mreturn\u001b[0m \u001b[0mself\u001b[0m\u001b[0;34m.\u001b[0m\u001b[0m_value\u001b[0m\u001b[0;34m\u001b[0m\u001b[0;34m\u001b[0m\u001b[0m\n\u001b[1;32m    643\u001b[0m         \u001b[0;32melse\u001b[0m\u001b[0;34m:\u001b[0m\u001b[0;34m\u001b[0m\u001b[0;34m\u001b[0m\u001b[0m\n\u001b[0;32m--> 644\u001b[0;31m             \u001b[0;32mraise\u001b[0m \u001b[0mself\u001b[0m\u001b[0;34m.\u001b[0m\u001b[0m_value\u001b[0m\u001b[0;34m\u001b[0m\u001b[0;34m\u001b[0m\u001b[0m\n\u001b[0m\u001b[1;32m    645\u001b[0m \u001b[0;34m\u001b[0m\u001b[0m\n\u001b[1;32m    646\u001b[0m     \u001b[0;32mdef\u001b[0m \u001b[0m_set\u001b[0m\u001b[0;34m(\u001b[0m\u001b[0mself\u001b[0m\u001b[0;34m,\u001b[0m \u001b[0mi\u001b[0m\u001b[0;34m,\u001b[0m \u001b[0mobj\u001b[0m\u001b[0;34m)\u001b[0m\u001b[0;34m:\u001b[0m\u001b[0;34m\u001b[0m\u001b[0;34m\u001b[0m\u001b[0m\n",
      "\u001b[0;31mKeyError\u001b[0m: (1, 1, 1, 1, 1, 1, 1, 1, 1, 1, 1, 1, 1, 1, 1, 1, 1, 1, 1, 1, 1, 1, 1, 1, 1, 1, 1, 1, 1, 1, 1, 1, 1, 1, 1, 1, 1, 1, 1, 1, 1, 1, 1, 1, 1, 1, 1, 1, 1, 1, 1, 1, 1, 1, 1, 1, 1, 1, 1, 1, 1, 1, 1, 1, 1, 1, 1, 1, 1, 1, 1, 1, 1, 1, 1, 1, 1, 1, 1, 1, 1, 1, 1, 1, 1, 1, 1, 1, 1, 1, 1, 1, 1, 1, 1, 1, 1, 1, 1, 1, 1, 1, 1, 1, 1, 1, 1, 1, 1, 1, 1, 1, 1, 1, 1, 1, 1, 1, 1, 1, 1, 1, 1, 1, 1, 1, 1, 1, 1, 1, 1, 1, 1, 1, 1, 1, 1, 1, 1, 1, 1, 1, 1, 1, 1, 1, 1, 1, 1, 1, 1, 1, 1, 1, 1, 1, 1, 1, 1, 1, 1, 1, 1, 1, 1, 1, 1, 1, 1, 1, 1, 1, 1, 1, 1, 1, 1, 1, 1, 1, 1, 1, 1, 1, 1, 1, 1, 1, 1, 1, 1, 1, 1, 1, 1, 1, 1, 1, 1, 1, 1, 1, 1, 1, 1, 1, 1, 1, 1, 1, 1, 1, 1, 1, 1, 1, 1, 1, 1, 1, 1, 1, 1, 1, 1, 1, 1, 1, 1, 1, 1, 1, 1, 1, 1, 1, 1, 1, 1, 1, 1, 1, 1, 1, 1, 1, 1, 1, 1, 1, 1, 1, 1, 1, 1, 1, 1, 1, 1, 1, 1, 1, 1, 1, 1, 1, 1, 1, 1, 1, 1, 1, 1, 1, 1, 1, 1, 1, 1, 1, 1, 1, 1, 1, 1, 1, 1, 1, 1, 1, 1, 1, 1, 1, 1, 1, 1, 1, 1, 1, 1, 1, 1, 1, 1, 1, 1, 1, 1, 1, 1, 1, 1, 1, 1, 1, 1, 1, 1, 1, 1, 1, 1, 1, 1, 1, 1, 1, 1, 1, 1, 1, 1, 1, 1, 1, 1, 1, 1, 1, 1, 1, 1, 1, 1, 1, 1, 1, 1, 1, 1, 1, 1, 1, 1, 1, 1, 1, 1, 1, 1, 1, 1, 1, 1, 1, 1, 1, 1, 1, 1, 1, 1, 1, 1, 1, 1, 1, 1, 1, 1, 1, 1, 1, 1, 1, 1, 1, 1, 1, 1, 1, 1, 1, 1, 1, 1, 1, 1, 1, 1, 1, 1, 1, 1, 1, 1, 1, 1, 1, 1, 1, 1, 1, 1, 1, 1, 1, 1, 1, 1, 1, 1, 1, 1, 1, 1, 1, 1, 1, 1, 1, 1, 1, 1, 1, 1, 1, 1, 1, 1, 1, 1, 1, 1, 1, 1, 1, 1, 1, 1, 1, 1, 1, 1, 1, 1, 1, 1, 1, 1, 1, 1, 1, 1, 1, 1, 1, 1, 1, 1, 1, 1, 1, 1, 1, 1, 1, 1, 1, 1, 1, 1, 1, 1, 1, 1, 1, 1, 1, 1, 1, 1, 1, 1, 1, 1, 1, 1, 1, 1, 1, 1, 1, 1, 1, 1, 1, 1, 1, 1, 1, 1, 1, 1, 1, 1, 1, 1, 1, 1, 1, 1, 1, 1, 1, 1, 1, 1, 1, 1, 1, 1, 1, 1, 1, 1, 1, 1, 1, 1, 1, 1, 1, 1, 1, 1, 1, 1, 1, 1, 1, 1, 1, 1, 1, 1, 1, 1, 1, 1, 1, 1, 1, 1, 1, 1, 1, 1, 1, 1, 1, 1, 1, 1, 1, 1, 1, 1, 1, 1, 1, 1, 1, 1, 1, 1, 1, 1, 1, 1, 1, 1, 1, 1, 1, 1, 1, 1, 1, 1, 1, 1, 1, 1, 1, 1, 1, 1, 1, 1, 1, 1, 1, 1, 1, 1, 1, 1, 1, 1, 1, 1, 1, 1, 1, 1, 1, 1, 1, 1, 1, 1, 1, 1, 1, 1, 1, 1, 1, 1, 1, 1, 1, 1, 1, 1, 1, 1, 1, 1, 1, 1, 1, 1, 1, 1, 1, 1, 1, 1, 1, 1, 1, 1, 1, 1, 1, 1, 1, 1, 1, 1, 1, 1, 1, 1, 1, 1, 1, 1, 1, 1, 1, 1, 1, 1, 1, 1, 1, 1, 1, 1, 1, 1, 1, 1, 1, 1, 1, 1, 1, 1, 1, 1, 1, 1, 1, 1, 1, 1, 1, 1, 1, 1, 1, 1, 1, 1, 1, 1, 1, 1, 1, 1, 1, 1, 1, 1, 1, 1, 1, 1, 1, 1, 1, 1, 1, 1, 1, 1, 1, 1, 1, 1, 1, 1, 1, 1, 1, 1, 1, 1, 1, 1, 1, 1, 1, 1, 1, 1, 1, 1, 1, 1, 1, 1, 1, 1, 1, 1, 1, 1, 1, 1, 1, 1, 1, 1, 1, 1, 1, 1, 1, 1, 1, 1, 1, 1, 1, 1, 1, 1, 1, 1, 1, 1, 1, 1, 1, 1, 1, 1, 1, 1, 1, 1, 1, 1, 1, 1, 1, 1, 1, 1, 1, 1, 1, 1, 1, 1, 1, 1, 1, 1, 1, 1, 1, 1, 1, 1, 1, 1, 1, 1, 1, 1, 1, 1, 1, 1, 1, 1, 1, 1, 1, 1, 1, 1, 1, 1, 1, 1, 1, 1, 1, 1, 1, 1, 1, 1, 1, 1, 1, 1, 1, 1, 1, 1, 1, 1, 1, 1, 1, 1, 1, 1, 1, 1, 1, 1, 1, 1, 1, 1, 1, 1, 1, 1, 1, 1, 1, 1, 1, 1, 1, 1, 1, 1, 1, 1, 1, 1, 1, 1, 1, 1, 1, 1, 1, 1, 1, 1, 1, 1, 1, 1, 1, 1, 1, 1, 1, 1, 1, 1, 1, 1, 1, 1, 1, 1, 1, 1, 1, 1, 1, 1, 1, 1, 1, 1, 1, 1, 1, 1, 1, 1, 1, 1, 1, 1, 1, 1, 1, 1, 1, 1, 1, 1, 1, 1, 1, 1, 1, 1, 1, 1, 1, 1, 1, 1, 1, 1, 1, 1, 1, 1, 1, 1, 1, 1, 1, 1, 1, 1, 1, 1, 1, 1, 1, 1, 1)"
     ]
    }
   ],
   "source": [
    "if set_missing:\n",
    "    for d in allAD:\n",
    "        print('donor', d)\n",
    "        print(\"num cells:\", allAF[d].shape[0])\n",
    "        run_cass(allAF[d], outdir, name=f\"{name}_donor{d}\", to_bin=True, dp=allDP[d], \n",
    "                 af_thresh=af_thresh, dp_thresh=dp_thresh, priors=None,)\n",
    "else:\n",
    "    for d in allAD:\n",
    "        print('donor', d)\n",
    "        print(\"num cells:\", allAF[d].shape[0])\n",
    "        run_cass(allAF[d], outdir, name=f\"{name}_donor{d}_noMissingVals\", to_bin=True, dp=None, \n",
    "                 af_thresh=af_thresh, dp_thresh=None, priors=None,)    "
   ]
  },
  {
   "cell_type": "code",
   "execution_count": null,
   "id": "718343f4",
   "metadata": {},
   "outputs": [],
   "source": []
  },
  {
   "cell_type": "code",
   "execution_count": null,
   "id": "63453a63",
   "metadata": {},
   "outputs": [],
   "source": []
  },
  {
   "cell_type": "code",
   "execution_count": null,
   "id": "85efd7d8",
   "metadata": {},
   "outputs": [],
   "source": []
  },
  {
   "cell_type": "code",
   "execution_count": null,
   "id": "096fb8d5",
   "metadata": {},
   "outputs": [],
   "source": []
  },
  {
   "cell_type": "code",
   "execution_count": null,
   "id": "03dde23f",
   "metadata": {},
   "outputs": [],
   "source": []
  }
 ],
 "metadata": {
  "celltoolbar": "Tags",
  "kernelspec": {
   "display_name": "Python [conda env:mito_trace] *",
   "language": "python",
   "name": "conda-env-mito_trace-py"
  },
  "language_info": {
   "codemirror_mode": {
    "name": "ipython",
    "version": 3
   },
   "file_extension": ".py",
   "mimetype": "text/x-python",
   "name": "python",
   "nbconvert_exporter": "python",
   "pygments_lexer": "ipython3",
   "version": "3.6.13"
  }
 },
 "nbformat": 4,
 "nbformat_minor": 5
}
