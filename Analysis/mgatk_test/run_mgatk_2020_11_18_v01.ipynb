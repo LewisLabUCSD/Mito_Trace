{
 "cells": [
  {
   "cell_type": "code",
   "execution_count": 3,
   "metadata": {
    "ExecuteTime": {
     "end_time": "2020-11-23T04:08:18.092552Z",
     "start_time": "2020-11-23T04:08:17.964098Z"
    }
   },
   "outputs": [],
   "source": [
    "from src.utils.parse_config import read_config_file"
   ]
  },
  {
   "cell_type": "code",
   "execution_count": 4,
   "metadata": {
    "ExecuteTime": {
     "end_time": "2020-11-23T04:08:18.739635Z",
     "start_time": "2020-11-23T04:08:18.736790Z"
    }
   },
   "outputs": [],
   "source": [
    "params_f = \"parameters/2020_11_18.yaml\""
   ]
  },
  {
   "cell_type": "code",
   "execution_count": 5,
   "metadata": {
    "ExecuteTime": {
     "end_time": "2020-11-23T04:08:19.817743Z",
     "start_time": "2020-11-23T04:08:19.810635Z"
    }
   },
   "outputs": [],
   "source": [
    "p = read_config_file(params_f)"
   ]
  },
  {
   "cell_type": "code",
   "execution_count": 7,
   "metadata": {
    "ExecuteTime": {
     "end_time": "2020-11-23T04:08:24.136517Z",
     "start_time": "2020-11-23T04:08:24.125827Z"
    }
   },
   "outputs": [
    {
     "data": {
      "text/plain": [
       "{'bam_f': '/data2/isshamie/mito_lineage/data/processed/mtscATAC/2020_11_18_Croker/PBMC_J/outs/possorted_bam.bam',\n",
       " 'outdir': 'results/',\n",
       " 'feature_barcodes': '/data2/isshamie/mito_lineage/data/processed/mtscATAC/2020_11_18_Croker/PBMC_J/outs/filtered_peak_bc_matrix/barcodes.tsv.gz'}"
      ]
     },
     "execution_count": 7,
     "metadata": {},
     "output_type": "execute_result"
    }
   ],
   "source": [
    "p"
   ]
  },
  {
   "cell_type": "code",
   "execution_count": 12,
   "metadata": {
    "ExecuteTime": {
     "end_time": "2020-11-23T04:09:12.094823Z",
     "start_time": "2020-11-23T04:09:10.230612Z"
    }
   },
   "outputs": [
    {
     "name": "stdout",
     "output_type": "stream",
     "text": [
      "mgatk tenx -i /data2/isshamie/mito_lineage/data/processed/mtscATAC/2020_11_18_Croker/PBMC_J/outs/possorted_bam.bam -b /data2/isshamie/mito_lineage/data/processed/mtscATAC/2020_11_18_Croker/PBMC_J/outs/filtered_peak_bc_matrix/barcodes.tsv.gz\n",
      "Mon Nov 23 04:09:10 UTC 2020: mgatk v0.5.9\n",
      "ERROR: in `tenx` mode, must specify a valid read tag ID (generally two letters).\n"
     ]
    }
   ],
   "source": [
    "cmd = f\"mgatk tenx -i {p['bam_f']} -b {p['feature_barcodes']} \"\n",
    "print(cmd)\n",
    "!{cmd}"
   ]
  }
 ],
 "metadata": {
  "kernelspec": {
   "display_name": "Python 3",
   "language": "python",
   "name": "python3"
  },
  "language_info": {
   "codemirror_mode": {
    "name": "ipython",
    "version": 3
   },
   "file_extension": ".py",
   "mimetype": "text/x-python",
   "name": "python",
   "nbconvert_exporter": "python",
   "pygments_lexer": "ipython3",
   "version": "3.7.3"
  }
 },
 "nbformat": 4,
 "nbformat_minor": 2
}
