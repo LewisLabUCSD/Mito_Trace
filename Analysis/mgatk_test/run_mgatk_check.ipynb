{
 "cells": [
  {
   "cell_type": "code",
   "execution_count": 2,
   "metadata": {
    "ExecuteTime": {
     "end_time": "2020-11-05T21:21:31.485368Z",
     "start_time": "2020-11-05T21:21:31.460499Z"
    }
   },
   "outputs": [],
   "source": [
    "from src.utils.parse_config import read_config_file"
   ]
  },
  {
   "cell_type": "code",
   "execution_count": 3,
   "metadata": {
    "ExecuteTime": {
     "end_time": "2020-11-05T21:21:33.283820Z",
     "start_time": "2020-11-05T21:21:33.278551Z"
    },
    "tags": [
     "parameters"
    ]
   },
   "outputs": [],
   "source": [
    "params_f = 'parameters/2020_09_07_v01.yaml'"
   ]
  },
  {
   "cell_type": "code",
   "execution_count": 4,
   "metadata": {
    "ExecuteTime": {
     "end_time": "2020-11-05T21:21:33.828276Z",
     "start_time": "2020-11-05T21:21:33.770170Z"
    }
   },
   "outputs": [],
   "source": [
    "p = read_config_file(params_f)"
   ]
  },
  {
   "cell_type": "code",
   "execution_count": 6,
   "metadata": {
    "ExecuteTime": {
     "end_time": "2020-11-05T23:43:12.597016Z",
     "start_time": "2020-11-05T23:43:12.584667Z"
    }
   },
   "outputs": [
    {
     "data": {
      "text/plain": [
       "{'bam_f': '/data2/isshamie/mito_lineage/data/processed/2020_09_07_Croker_mito/CD34_PolydT_fiveprime/outs/possorted_genome_bam.bam',\n",
       " 'bam_dir': '/data2/isshamie/mito_lineage/data/processed/2020_09_07_Croker_mito/CD34_PolydT_fiveprime/outs/',\n",
       " 'outdir': 'results/',\n",
       " 'feature_barcodes': '/data2/isshamie/mito_lineage/data/processed/2020_09_07_Croker_mito/CD34_PolydT_fiveprime/outs/filtered_feature_bc_matrix/barcodes.tsv'}"
      ]
     },
     "execution_count": 6,
     "metadata": {},
     "output_type": "execute_result"
    }
   ],
   "source": [
    "p"
   ]
  },
  {
   "cell_type": "code",
   "execution_count": 5,
   "metadata": {
    "ExecuteTime": {
     "end_time": "2020-11-05T21:21:35.522872Z",
     "start_time": "2020-11-05T21:21:34.645694Z"
    },
    "slideshow": {
     "slide_type": "-"
    }
   },
   "outputs": [
    {
     "name": "stdout",
     "output_type": "stream",
     "text": [
      "mgatk check -i /data2/isshamie/mito_lineage/data/processed/2020_09_07_Croker_mito/CD34_PolydT_fiveprime/outs/ -b /data2/isshamie/mito_lineage/data/processed/2020_09_07_Croker_mito/CD34_PolydT_fiveprime/outs/filtered_feature_bc_matrix/barcodes.tsv -o results//mgatk_out -g GRCh38\n",
      "Thu Nov 05 21:21:35 UTC 2020: mgatk v0.5.9\n",
      "Thu Nov 05 21:21:35 UTC 2020: checking dependencies...\n",
      "Thu Nov 05 21:21:35 UTC 2020: mgatk check passed! mgatk will process 1 samples if same parameters are run in `call` mode\n"
     ]
    }
   ],
   "source": [
    "cmd = f\"mgatk check -i {p['bam_dir']} -b {p['feature_barcodes']} -o {p['outdir']}/mgatk_out -g GRCh38\"\n",
    "print(cmd)\n",
    "!{cmd}"
   ]
  }
 ],
 "metadata": {
  "celltoolbar": "Tags",
  "kernelspec": {
   "display_name": "Python 3",
   "language": "python",
   "name": "python3"
  },
  "language_info": {
   "codemirror_mode": {
    "name": "ipython",
    "version": 3
   },
   "file_extension": ".py",
   "mimetype": "text/x-python",
   "name": "python",
   "nbconvert_exporter": "python",
   "pygments_lexer": "ipython3",
   "version": "3.7.3"
  }
 },
 "nbformat": 4,
 "nbformat_minor": 2
}
