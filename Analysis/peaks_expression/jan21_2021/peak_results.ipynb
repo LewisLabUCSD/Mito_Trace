{
 "cells": [
  {
   "cell_type": "code",
   "execution_count": 1,
   "metadata": {
    "ExecuteTime": {
     "end_time": "2021-02-03T08:08:12.467602Z",
     "start_time": "2021-02-03T08:08:12.382701Z"
    }
   },
   "outputs": [
    {
     "data": {
      "text/plain": [
       "'/data2/mito_lineage/Analysis/peaks_expression/jan21_2021'"
      ]
     },
     "execution_count": 1,
     "metadata": {},
     "output_type": "execute_result"
    }
   ],
   "source": [
    "pwd"
   ]
  },
  {
   "cell_type": "code",
   "execution_count": 2,
   "metadata": {
    "ExecuteTime": {
     "end_time": "2021-02-03T08:08:13.750673Z",
     "start_time": "2021-02-03T08:08:13.723998Z"
    },
    "tags": [
     "parameters"
    ]
   },
   "outputs": [],
   "source": [
    "config_f = \"config.yaml\""
   ]
  },
  {
   "cell_type": "code",
   "execution_count": 3,
   "metadata": {
    "ExecuteTime": {
     "end_time": "2021-02-03T08:08:27.372181Z",
     "start_time": "2021-02-03T08:08:21.558431Z"
    }
   },
   "outputs": [
    {
     "data": {
      "text/plain": [
       "{'global': 'PROJECT',\n",
       " 'indir': '/data2/isshamie/mito_lineage/data/processed/mtscATAC/jan21_2021/MTblacklist',\n",
       " 'experiment': 'jan21_2021',\n",
       " 'genome': 'MTblacklist',\n",
       " 'samples': ['J2', 'P2']}"
      ]
     },
     "execution_count": 3,
     "metadata": {},
     "output_type": "execute_result"
    }
   ],
   "source": [
    "from src.utils.parse_config import read_config_file\n",
    "from os.path import join, dirname\n",
    "import pandas as pd\n",
    "from glob import glob\n",
    "config = read_config_file(config_f)\n",
    "import seaborn as sns\n",
    "import numpy as np\n",
    "import matplotlib.pyplot as plt\n",
    "config"
   ]
  },
  {
   "cell_type": "markdown",
   "metadata": {},
   "source": [
    "### Load:\n",
    "1. Raw cells barcode w qc info\n",
    "2. filtered cells barcode list\n",
    "3. Peak-by-cell sparse matrix\n",
    "4. Peak gene annotations \n",
    "5. Graph clustering filtered cells cluster label\n",
    "6. TF-by-cell sparse count matrix\n",
    "7. TF labels"
   ]
  },
  {
   "cell_type": "code",
   "execution_count": 4,
   "metadata": {
    "ExecuteTime": {
     "end_time": "2021-02-03T08:09:05.805870Z",
     "start_time": "2021-02-03T08:08:37.765552Z"
    },
    "scrolled": true
   },
   "outputs": [
    {
     "data": {
      "image/png": "[encoded data removed]",
      "text/plain": [
       "<Figure size 432x288 with 1 Axes>"
      ]
     },
     "metadata": {
      "needs_background": "light"
     },
     "output_type": "display_data"
    }
   ],
   "source": [
    "curr_in = join(config[\"indir\"], config['samples'][0], 'outs')\n",
    "\n",
    "### Create 1-based cell barcode index \n",
    "\n",
    "cells = pd.read_csv(join(curr_in,\"singlecell.csv\"))\n",
    "cells\n",
    "\n",
    "good_cells = cells[~(cells[\"cell_id\"]==\"None\")].copy()\n",
    "good_cells[\"ID\"] = np.arange(1,len(good_cells)+1)\n",
    "good_cells\n",
    "\n",
    "cell_inds = pd.read_csv(join(curr_in, \"filtered_peak_bc_matrix\",\"barcodes.tsv\"),header=None)\n",
    "cell_inds\n",
    "\n",
    "## Load peak annotations\n",
    "\n",
    "peak_annotations = pd.read_csv(join(config[\"indir\"], config['samples'][0], 'outs','peak_annotation.tsv'),sep='\\t')\n",
    "peak_annotations\n",
    "\n",
    "\n",
    "### Load clusters\n",
    "\n",
    "cluster_f = glob(join(config[\"indir\"], config['samples'][0], 'outs','analysis',\"clustering\", \"graphclust\",\"clusters.csv\"))\n",
    "clusters_df = pd.read_csv(cluster_f[0])\n",
    "clusters_df\n",
    "\n",
    "%matplotlib inline\n",
    "sns.countplot(clusters_df[\"Cluster\"])\n",
    "plt.title(\"Cell cluster membership distribution\")\n",
    "plt.ylabel(\"Number of cells in cluster\")\n",
    "plt.xlabel(\"Cluster\")\n",
    "## Load peaks matrix\n",
    "\n",
    "filename = join(config['indir'],config['samples'][0],'outs','filtered_peak_bc_matrix/matrix.mtx')\n",
    "peaks_sparse_mtx = pd.read_csv(filename,sep=' ',skiprows=2, header=None).iloc[1:]\n",
    "peaks_sparse_mtx.columns = [\"Peak\", \"Cell\", \"Count\"]"
   ]
  },
  {
   "cell_type": "code",
   "execution_count": 5,
   "metadata": {
    "ExecuteTime": {
     "end_time": "2021-02-03T08:09:05.952009Z",
     "start_time": "2021-02-03T08:09:05.839477Z"
    }
   },
   "outputs": [
    {
     "data": {
      "text/html": [
       "<div>\n",
       "<style scoped>\n",
       "    .dataframe tbody tr th:only-of-type {\n",
       "        vertical-align: middle;\n",
       "    }\n",
       "\n",
       "    .dataframe tbody tr th {\n",
       "        vertical-align: top;\n",
       "    }\n",
       "\n",
       "    .dataframe thead th {\n",
       "        text-align: right;\n",
       "    }\n",
       "</style>\n",
       "<table border=\"1\" class=\"dataframe\">\n",
       "  <thead>\n",
       "    <tr style=\"text-align: right;\">\n",
       "      <th></th>\n",
       "      <th>0</th>\n",
       "    </tr>\n",
       "  </thead>\n",
       "  <tbody>\n",
       "    <tr>\n",
       "      <th>0</th>\n",
       "      <td>AAACGAAAGAGCTCCC-1</td>\n",
       "    </tr>\n",
       "    <tr>\n",
       "      <th>1</th>\n",
       "      <td>AAACGAAAGCGATACG-1</td>\n",
       "    </tr>\n",
       "    <tr>\n",
       "      <th>2</th>\n",
       "      <td>AAACGAAAGGCTTCGC-1</td>\n",
       "    </tr>\n",
       "    <tr>\n",
       "      <th>3</th>\n",
       "      <td>AAACGAAAGTACAACA-1</td>\n",
       "    </tr>\n",
       "    <tr>\n",
       "      <th>4</th>\n",
       "      <td>AAACGAACAACGTACT-1</td>\n",
       "    </tr>\n",
       "    <tr>\n",
       "      <th>...</th>\n",
       "      <td>...</td>\n",
       "    </tr>\n",
       "    <tr>\n",
       "      <th>12004</th>\n",
       "      <td>TTTGTGTTCGAGTTAC-1</td>\n",
       "    </tr>\n",
       "    <tr>\n",
       "      <th>12005</th>\n",
       "      <td>TTTGTGTTCGCATAAC-1</td>\n",
       "    </tr>\n",
       "    <tr>\n",
       "      <th>12006</th>\n",
       "      <td>TTTGTGTTCGTGGTAT-1</td>\n",
       "    </tr>\n",
       "    <tr>\n",
       "      <th>12007</th>\n",
       "      <td>TTTGTGTTCGTTACAG-1</td>\n",
       "    </tr>\n",
       "    <tr>\n",
       "      <th>12008</th>\n",
       "      <td>TTTGTGTTCTCCTTGG-1</td>\n",
       "    </tr>\n",
       "  </tbody>\n",
       "</table>\n",
       "<p>12009 rows × 1 columns</p>\n",
       "</div>"
      ],
      "text/plain": [
       "                        0\n",
       "0      AAACGAAAGAGCTCCC-1\n",
       "1      AAACGAAAGCGATACG-1\n",
       "2      AAACGAAAGGCTTCGC-1\n",
       "3      AAACGAAAGTACAACA-1\n",
       "4      AAACGAACAACGTACT-1\n",
       "...                   ...\n",
       "12004  TTTGTGTTCGAGTTAC-1\n",
       "12005  TTTGTGTTCGCATAAC-1\n",
       "12006  TTTGTGTTCGTGGTAT-1\n",
       "12007  TTTGTGTTCGTTACAG-1\n",
       "12008  TTTGTGTTCTCCTTGG-1\n",
       "\n",
       "[12009 rows x 1 columns]"
      ]
     },
     "execution_count": 5,
     "metadata": {},
     "output_type": "execute_result"
    }
   ],
   "source": [
    "cell_inds"
   ]
  },
  {
   "cell_type": "code",
   "execution_count": 6,
   "metadata": {
    "ExecuteTime": {
     "end_time": "2021-02-03T08:09:06.017147Z",
     "start_time": "2021-02-03T08:09:05.967760Z"
    }
   },
   "outputs": [
    {
     "data": {
      "text/html": [
       "<div>\n",
       "<style scoped>\n",
       "    .dataframe tbody tr th:only-of-type {\n",
       "        vertical-align: middle;\n",
       "    }\n",
       "\n",
       "    .dataframe tbody tr th {\n",
       "        vertical-align: top;\n",
       "    }\n",
       "\n",
       "    .dataframe thead th {\n",
       "        text-align: right;\n",
       "    }\n",
       "</style>\n",
       "<table border=\"1\" class=\"dataframe\">\n",
       "  <thead>\n",
       "    <tr style=\"text-align: right;\">\n",
       "      <th></th>\n",
       "      <th>Barcode</th>\n",
       "      <th>Cluster</th>\n",
       "    </tr>\n",
       "  </thead>\n",
       "  <tbody>\n",
       "    <tr>\n",
       "      <th>0</th>\n",
       "      <td>AAACGAAAGAGCTCCC-1</td>\n",
       "      <td>2</td>\n",
       "    </tr>\n",
       "    <tr>\n",
       "      <th>1</th>\n",
       "      <td>AAACGAAAGCGATACG-1</td>\n",
       "      <td>7</td>\n",
       "    </tr>\n",
       "    <tr>\n",
       "      <th>2</th>\n",
       "      <td>AAACGAAAGGCTTCGC-1</td>\n",
       "      <td>5</td>\n",
       "    </tr>\n",
       "    <tr>\n",
       "      <th>3</th>\n",
       "      <td>AAACGAAAGTACAACA-1</td>\n",
       "      <td>1</td>\n",
       "    </tr>\n",
       "    <tr>\n",
       "      <th>4</th>\n",
       "      <td>AAACGAACAACGTACT-1</td>\n",
       "      <td>1</td>\n",
       "    </tr>\n",
       "  </tbody>\n",
       "</table>\n",
       "</div>"
      ],
      "text/plain": [
       "              Barcode  Cluster\n",
       "0  AAACGAAAGAGCTCCC-1        2\n",
       "1  AAACGAAAGCGATACG-1        7\n",
       "2  AAACGAAAGGCTTCGC-1        5\n",
       "3  AAACGAAAGTACAACA-1        1\n",
       "4  AAACGAACAACGTACT-1        1"
      ]
     },
     "execution_count": 6,
     "metadata": {},
     "output_type": "execute_result"
    }
   ],
   "source": [
    "clusters_df.head()"
   ]
  },
  {
   "cell_type": "code",
   "execution_count": 7,
   "metadata": {
    "ExecuteTime": {
     "end_time": "2021-02-03T08:09:06.095937Z",
     "start_time": "2021-02-03T08:09:06.034376Z"
    },
    "scrolled": true
   },
   "outputs": [
    {
     "data": {
      "text/html": [
       "<div>\n",
       "<style scoped>\n",
       "    .dataframe tbody tr th:only-of-type {\n",
       "        vertical-align: middle;\n",
       "    }\n",
       "\n",
       "    .dataframe tbody tr th {\n",
       "        vertical-align: top;\n",
       "    }\n",
       "\n",
       "    .dataframe thead th {\n",
       "        text-align: right;\n",
       "    }\n",
       "</style>\n",
       "<table border=\"1\" class=\"dataframe\">\n",
       "  <thead>\n",
       "    <tr style=\"text-align: right;\">\n",
       "      <th></th>\n",
       "      <th>Peak</th>\n",
       "      <th>Cell</th>\n",
       "      <th>Count</th>\n",
       "    </tr>\n",
       "  </thead>\n",
       "  <tbody>\n",
       "    <tr>\n",
       "      <th>1</th>\n",
       "      <td>144263</td>\n",
       "      <td>1</td>\n",
       "      <td>2</td>\n",
       "    </tr>\n",
       "    <tr>\n",
       "      <th>2</th>\n",
       "      <td>144256</td>\n",
       "      <td>1</td>\n",
       "      <td>1</td>\n",
       "    </tr>\n",
       "    <tr>\n",
       "      <th>3</th>\n",
       "      <td>144184</td>\n",
       "      <td>1</td>\n",
       "      <td>2</td>\n",
       "    </tr>\n",
       "    <tr>\n",
       "      <th>4</th>\n",
       "      <td>144153</td>\n",
       "      <td>1</td>\n",
       "      <td>1</td>\n",
       "    </tr>\n",
       "    <tr>\n",
       "      <th>5</th>\n",
       "      <td>144028</td>\n",
       "      <td>1</td>\n",
       "      <td>1</td>\n",
       "    </tr>\n",
       "    <tr>\n",
       "      <th>...</th>\n",
       "      <td>...</td>\n",
       "      <td>...</td>\n",
       "      <td>...</td>\n",
       "    </tr>\n",
       "    <tr>\n",
       "      <th>31366827</th>\n",
       "      <td>354</td>\n",
       "      <td>12009</td>\n",
       "      <td>4</td>\n",
       "    </tr>\n",
       "    <tr>\n",
       "      <th>31366828</th>\n",
       "      <td>271</td>\n",
       "      <td>12009</td>\n",
       "      <td>2</td>\n",
       "    </tr>\n",
       "    <tr>\n",
       "      <th>31366829</th>\n",
       "      <td>257</td>\n",
       "      <td>12009</td>\n",
       "      <td>1</td>\n",
       "    </tr>\n",
       "    <tr>\n",
       "      <th>31366830</th>\n",
       "      <td>70</td>\n",
       "      <td>12009</td>\n",
       "      <td>2</td>\n",
       "    </tr>\n",
       "    <tr>\n",
       "      <th>31366831</th>\n",
       "      <td>33</td>\n",
       "      <td>12009</td>\n",
       "      <td>2</td>\n",
       "    </tr>\n",
       "  </tbody>\n",
       "</table>\n",
       "<p>31366831 rows × 3 columns</p>\n",
       "</div>"
      ],
      "text/plain": [
       "            Peak   Cell  Count\n",
       "1         144263      1      2\n",
       "2         144256      1      1\n",
       "3         144184      1      2\n",
       "4         144153      1      1\n",
       "5         144028      1      1\n",
       "...          ...    ...    ...\n",
       "31366827     354  12009      4\n",
       "31366828     271  12009      2\n",
       "31366829     257  12009      1\n",
       "31366830      70  12009      2\n",
       "31366831      33  12009      2\n",
       "\n",
       "[31366831 rows x 3 columns]"
      ]
     },
     "execution_count": 7,
     "metadata": {},
     "output_type": "execute_result"
    }
   ],
   "source": [
    "peaks_sparse_mtx"
   ]
  },
  {
   "cell_type": "markdown",
   "metadata": {},
   "source": [
    "# Annotate peak count matrix with gene name"
   ]
  },
  {
   "cell_type": "code",
   "execution_count": 8,
   "metadata": {
    "ExecuteTime": {
     "end_time": "2021-02-03T08:29:09.139712Z",
     "start_time": "2021-02-03T08:09:06.111431Z"
    },
    "scrolled": true
   },
   "outputs": [
    {
     "data": {
      "text/html": [
       "<div>\n",
       "<style scoped>\n",
       "    .dataframe tbody tr th:only-of-type {\n",
       "        vertical-align: middle;\n",
       "    }\n",
       "\n",
       "    .dataframe tbody tr th {\n",
       "        vertical-align: top;\n",
       "    }\n",
       "\n",
       "    .dataframe thead th {\n",
       "        text-align: right;\n",
       "    }\n",
       "</style>\n",
       "<table border=\"1\" class=\"dataframe\">\n",
       "  <thead>\n",
       "    <tr style=\"text-align: right;\">\n",
       "      <th></th>\n",
       "      <th>Peak</th>\n",
       "      <th>Cell</th>\n",
       "      <th>Count</th>\n",
       "      <th>Cluster</th>\n",
       "    </tr>\n",
       "  </thead>\n",
       "  <tbody>\n",
       "    <tr>\n",
       "      <th>1</th>\n",
       "      <td>144263</td>\n",
       "      <td>1</td>\n",
       "      <td>2</td>\n",
       "      <td>2</td>\n",
       "    </tr>\n",
       "    <tr>\n",
       "      <th>2</th>\n",
       "      <td>144256</td>\n",
       "      <td>1</td>\n",
       "      <td>1</td>\n",
       "      <td>2</td>\n",
       "    </tr>\n",
       "    <tr>\n",
       "      <th>3</th>\n",
       "      <td>144184</td>\n",
       "      <td>1</td>\n",
       "      <td>2</td>\n",
       "      <td>2</td>\n",
       "    </tr>\n",
       "    <tr>\n",
       "      <th>4</th>\n",
       "      <td>144153</td>\n",
       "      <td>1</td>\n",
       "      <td>1</td>\n",
       "      <td>2</td>\n",
       "    </tr>\n",
       "    <tr>\n",
       "      <th>5</th>\n",
       "      <td>144028</td>\n",
       "      <td>1</td>\n",
       "      <td>1</td>\n",
       "      <td>2</td>\n",
       "    </tr>\n",
       "    <tr>\n",
       "      <th>...</th>\n",
       "      <td>...</td>\n",
       "      <td>...</td>\n",
       "      <td>...</td>\n",
       "      <td>...</td>\n",
       "    </tr>\n",
       "    <tr>\n",
       "      <th>31366827</th>\n",
       "      <td>354</td>\n",
       "      <td>12009</td>\n",
       "      <td>4</td>\n",
       "      <td>2</td>\n",
       "    </tr>\n",
       "    <tr>\n",
       "      <th>31366828</th>\n",
       "      <td>271</td>\n",
       "      <td>12009</td>\n",
       "      <td>2</td>\n",
       "      <td>2</td>\n",
       "    </tr>\n",
       "    <tr>\n",
       "      <th>31366829</th>\n",
       "      <td>257</td>\n",
       "      <td>12009</td>\n",
       "      <td>1</td>\n",
       "      <td>2</td>\n",
       "    </tr>\n",
       "    <tr>\n",
       "      <th>31366830</th>\n",
       "      <td>70</td>\n",
       "      <td>12009</td>\n",
       "      <td>2</td>\n",
       "      <td>2</td>\n",
       "    </tr>\n",
       "    <tr>\n",
       "      <th>31366831</th>\n",
       "      <td>33</td>\n",
       "      <td>12009</td>\n",
       "      <td>2</td>\n",
       "      <td>2</td>\n",
       "    </tr>\n",
       "  </tbody>\n",
       "</table>\n",
       "<p>31366831 rows × 4 columns</p>\n",
       "</div>"
      ],
      "text/plain": [
       "            Peak   Cell  Count  Cluster\n",
       "1         144263      1      2        2\n",
       "2         144256      1      1        2\n",
       "3         144184      1      2        2\n",
       "4         144153      1      1        2\n",
       "5         144028      1      1        2\n",
       "...          ...    ...    ...      ...\n",
       "31366827     354  12009      4        2\n",
       "31366828     271  12009      2        2\n",
       "31366829     257  12009      1        2\n",
       "31366830      70  12009      2        2\n",
       "31366831      33  12009      2        2\n",
       "\n",
       "[31366831 rows x 4 columns]"
      ]
     },
     "execution_count": 8,
     "metadata": {},
     "output_type": "execute_result"
    }
   ],
   "source": [
    "peaks_sparse_mtx[\"Cluster\"] = peaks_sparse_mtx[\"Cell\"].apply(lambda x: clusters_df.loc[x-1,\"Cluster\"])\n",
    "peaks_sparse_mtx"
   ]
  },
  {
   "cell_type": "code",
   "execution_count": 9,
   "metadata": {
    "ExecuteTime": {
     "end_time": "2021-02-03T08:49:30.907787Z",
     "start_time": "2021-02-03T08:29:09.153047Z"
    },
    "scrolled": true
   },
   "outputs": [],
   "source": [
    "peaks_sparse_mtx[\"gene\"] = peaks_sparse_mtx[\"Peak\"].apply(lambda x: peak_annotations.loc[x-1,\"gene\"])"
   ]
  },
  {
   "cell_type": "code",
   "execution_count": 10,
   "metadata": {
    "ExecuteTime": {
     "end_time": "2021-02-03T08:49:31.019547Z",
     "start_time": "2021-02-03T08:49:30.922867Z"
    }
   },
   "outputs": [
    {
     "data": {
      "text/html": [
       "<div>\n",
       "<style scoped>\n",
       "    .dataframe tbody tr th:only-of-type {\n",
       "        vertical-align: middle;\n",
       "    }\n",
       "\n",
       "    .dataframe tbody tr th {\n",
       "        vertical-align: top;\n",
       "    }\n",
       "\n",
       "    .dataframe thead th {\n",
       "        text-align: right;\n",
       "    }\n",
       "</style>\n",
       "<table border=\"1\" class=\"dataframe\">\n",
       "  <thead>\n",
       "    <tr style=\"text-align: right;\">\n",
       "      <th></th>\n",
       "      <th>Peak</th>\n",
       "      <th>Cell</th>\n",
       "      <th>Count</th>\n",
       "      <th>Cluster</th>\n",
       "      <th>gene</th>\n",
       "    </tr>\n",
       "  </thead>\n",
       "  <tbody>\n",
       "    <tr>\n",
       "      <th>1</th>\n",
       "      <td>144263</td>\n",
       "      <td>1</td>\n",
       "      <td>2</td>\n",
       "      <td>2</td>\n",
       "      <td>IL9R</td>\n",
       "    </tr>\n",
       "    <tr>\n",
       "      <th>2</th>\n",
       "      <td>144256</td>\n",
       "      <td>1</td>\n",
       "      <td>1</td>\n",
       "      <td>2</td>\n",
       "      <td>VAMP7</td>\n",
       "    </tr>\n",
       "    <tr>\n",
       "      <th>3</th>\n",
       "      <td>144184</td>\n",
       "      <td>1</td>\n",
       "      <td>2</td>\n",
       "      <td>2</td>\n",
       "      <td>EMD</td>\n",
       "    </tr>\n",
       "    <tr>\n",
       "      <th>4</th>\n",
       "      <td>144153</td>\n",
       "      <td>1</td>\n",
       "      <td>1</td>\n",
       "      <td>2</td>\n",
       "      <td>HCFC1</td>\n",
       "    </tr>\n",
       "    <tr>\n",
       "      <th>5</th>\n",
       "      <td>144028</td>\n",
       "      <td>1</td>\n",
       "      <td>1</td>\n",
       "      <td>2</td>\n",
       "      <td>CXorf40B</td>\n",
       "    </tr>\n",
       "    <tr>\n",
       "      <th>...</th>\n",
       "      <td>...</td>\n",
       "      <td>...</td>\n",
       "      <td>...</td>\n",
       "      <td>...</td>\n",
       "      <td>...</td>\n",
       "    </tr>\n",
       "    <tr>\n",
       "      <th>31366827</th>\n",
       "      <td>354</td>\n",
       "      <td>12009</td>\n",
       "      <td>4</td>\n",
       "      <td>2</td>\n",
       "      <td>KLHL21</td>\n",
       "    </tr>\n",
       "    <tr>\n",
       "      <th>31366828</th>\n",
       "      <td>271</td>\n",
       "      <td>12009</td>\n",
       "      <td>2</td>\n",
       "      <td>2</td>\n",
       "      <td>NaN</td>\n",
       "    </tr>\n",
       "    <tr>\n",
       "      <th>31366829</th>\n",
       "      <td>257</td>\n",
       "      <td>12009</td>\n",
       "      <td>1</td>\n",
       "      <td>2</td>\n",
       "      <td>AJAP1</td>\n",
       "    </tr>\n",
       "    <tr>\n",
       "      <th>31366830</th>\n",
       "      <td>70</td>\n",
       "      <td>12009</td>\n",
       "      <td>2</td>\n",
       "      <td>2</td>\n",
       "      <td>CCNL2</td>\n",
       "    </tr>\n",
       "    <tr>\n",
       "      <th>31366831</th>\n",
       "      <td>33</td>\n",
       "      <td>12009</td>\n",
       "      <td>2</td>\n",
       "      <td>2</td>\n",
       "      <td>ISG15</td>\n",
       "    </tr>\n",
       "  </tbody>\n",
       "</table>\n",
       "<p>31366831 rows × 5 columns</p>\n",
       "</div>"
      ],
      "text/plain": [
       "            Peak   Cell  Count  Cluster      gene\n",
       "1         144263      1      2        2      IL9R\n",
       "2         144256      1      1        2     VAMP7\n",
       "3         144184      1      2        2       EMD\n",
       "4         144153      1      1        2     HCFC1\n",
       "5         144028      1      1        2  CXorf40B\n",
       "...          ...    ...    ...      ...       ...\n",
       "31366827     354  12009      4        2    KLHL21\n",
       "31366828     271  12009      2        2       NaN\n",
       "31366829     257  12009      1        2     AJAP1\n",
       "31366830      70  12009      2        2     CCNL2\n",
       "31366831      33  12009      2        2     ISG15\n",
       "\n",
       "[31366831 rows x 5 columns]"
      ]
     },
     "execution_count": 10,
     "metadata": {},
     "output_type": "execute_result"
    }
   ],
   "source": [
    "peaks_sparse_mtx"
   ]
  },
  {
   "cell_type": "markdown",
   "metadata": {},
   "source": [
    "## See the number of cells within a peak and number of peaks within a cell."
   ]
  },
  {
   "cell_type": "code",
   "execution_count": 11,
   "metadata": {
    "ExecuteTime": {
     "end_time": "2021-02-03T09:01:33.543453Z",
     "start_time": "2021-02-03T08:49:31.051601Z"
    },
    "scrolled": true
   },
   "outputs": [
    {
     "name": "stdout",
     "output_type": "stream",
     "text": [
      "Cell\n",
      "1        4317\n",
      "2        2033\n",
      "3        3632\n",
      "4        1286\n",
      "5        2817\n",
      "         ... \n",
      "12005    2624\n",
      "12006    1339\n",
      "12007    1481\n",
      "12008    3992\n",
      "12009    1965\n",
      "Length: 12009, dtype: int64\n"
     ]
    }
   ],
   "source": [
    "peaks_dense = peaks_sparse_mtx.pivot(index=\"Peak\", columns=\"Cell\",values=\"Count\").fillna(0)\n",
    "print((peaks_dense>0).sum())"
   ]
  },
  {
   "cell_type": "code",
   "execution_count": 12,
   "metadata": {
    "ExecuteTime": {
     "end_time": "2021-02-03T09:02:53.251558Z",
     "start_time": "2021-02-03T09:01:33.558876Z"
    }
   },
   "outputs": [
    {
     "data": {
      "text/plain": [
       "Text(0.5, 1.0, 'Distribution of number of peaks seen in a cell across all cells')"
      ]
     },
     "execution_count": 12,
     "metadata": {},
     "output_type": "execute_result"
    },
    {
     "data": {
      "image/png": "[encoded data removed]",
      "text/plain": [
       "<Figure size 432x288 with 1 Axes>"
      ]
     },
     "metadata": {
      "needs_background": "light"
     },
     "output_type": "display_data"
    }
   ],
   "source": [
    "sns.distplot((peaks_dense>0).sum(axis=0))\n",
    "plt.title(\"Distribution of number of peaks seen in a cell across all cells\")"
   ]
  },
  {
   "cell_type": "code",
   "execution_count": 13,
   "metadata": {
    "ExecuteTime": {
     "end_time": "2021-02-03T09:04:14.933823Z",
     "start_time": "2021-02-03T09:02:53.275966Z"
    },
    "scrolled": true
   },
   "outputs": [
    {
     "data": {
      "text/plain": [
       "Text(0.5, 1.0, 'Distribution of the number of cells seen in a peak across all peaks')"
      ]
     },
     "execution_count": 13,
     "metadata": {},
     "output_type": "execute_result"
    },
    {
     "data": {
      "image/png": "[encoded data removed]",
      "text/plain": [
       "<Figure size 432x288 with 1 Axes>"
      ]
     },
     "metadata": {
      "needs_background": "light"
     },
     "output_type": "display_data"
    }
   ],
   "source": [
    "sns.distplot((peaks_dense>0).sum(axis=1))\n",
    "plt.title(\"Distribution of the number of cells seen in a peak across all peaks\")"
   ]
  },
  {
   "cell_type": "markdown",
   "metadata": {},
   "source": [
    "## Look at CHIP mutations\n",
    "- TP53\n",
    "- U2AF1\n",
    "- SF3B1\n",
    "- SRSF2\n",
    "- TET2\n",
    "- IDH1\n",
    "- IDH2  \n",
    "TP53 and the splicing factor U2AF1 conferred the highest risk of AML development with hazard ratios of 12.5 and 7.9, respectively.16 This contrasts with hazard ratios for DNMT3A and TET2 of 1.4 and 1.6, respectively. In the study by Desai et al, mutations of TP53 and spliceosome genes (U2AF1, SF3B1,or SRSF2) also conferred a higher risk of AML development, with odds ratios of 47.2 and 7.4, respectively.17\n",
    "They also identified IDH1, IDH2, and RUNX1 with PHF6 mutations as high-risk mutations. Re- markably, in this study, all persons with TP53 mutations (n 5 21) or IDH1/2 mutations (n 5 15) developed AML a median of 5 to 6 years from CH sampling."
   ]
  },
  {
   "cell_type": "code",
   "execution_count": 14,
   "metadata": {
    "ExecuteTime": {
     "end_time": "2021-02-03T09:04:14.994066Z",
     "start_time": "2021-02-03T09:04:14.963680Z"
    }
   },
   "outputs": [],
   "source": [
    "chip_genes = [\"TP53\", \"U2AF1\", \"SF3B1\", \"SRSF2\", \"TET2\", \"IDH1\", \"IDH2\"]"
   ]
  },
  {
   "cell_type": "code",
   "execution_count": 15,
   "metadata": {
    "ExecuteTime": {
     "end_time": "2021-02-03T09:04:15.267545Z",
     "start_time": "2021-02-03T09:04:15.004246Z"
    },
    "scrolled": true
   },
   "outputs": [
    {
     "name": "stderr",
     "output_type": "stream",
     "text": [
      "/home/isshamie/software/anaconda2/envs/mito_trace/lib/python3.7/site-packages/ipykernel_launcher.py:3: SettingWithCopyWarning: \n",
      "A value is trying to be set on a copy of a slice from a DataFrame.\n",
      "Try using .loc[row_indexer,col_indexer] = value instead\n",
      "\n",
      "See the caveats in the documentation: http://pandas.pydata.org/pandas-docs/stable/user_guide/indexing.html#returning-a-view-versus-a-copy\n",
      "  This is separate from the ipykernel package so we can avoid doing imports until\n"
     ]
    },
    {
     "data": {
      "text/html": [
       "<div>\n",
       "<style scoped>\n",
       "    .dataframe tbody tr th:only-of-type {\n",
       "        vertical-align: middle;\n",
       "    }\n",
       "\n",
       "    .dataframe tbody tr th {\n",
       "        vertical-align: top;\n",
       "    }\n",
       "\n",
       "    .dataframe thead th {\n",
       "        text-align: right;\n",
       "    }\n",
       "</style>\n",
       "<table border=\"1\" class=\"dataframe\">\n",
       "  <thead>\n",
       "    <tr style=\"text-align: right;\">\n",
       "      <th></th>\n",
       "      <th>peak</th>\n",
       "      <th>gene</th>\n",
       "      <th>distance</th>\n",
       "      <th>peak_type</th>\n",
       "      <th>ID</th>\n",
       "    </tr>\n",
       "  </thead>\n",
       "  <tbody>\n",
       "    <tr>\n",
       "      <th>23587</th>\n",
       "      <td>chr2_197378394_197378845</td>\n",
       "      <td>SF3B1</td>\n",
       "      <td>56182</td>\n",
       "      <td>distal</td>\n",
       "      <td>SF3B1_distal_56182</td>\n",
       "    </tr>\n",
       "    <tr>\n",
       "      <th>23588</th>\n",
       "      <td>chr2_197384108_197384681</td>\n",
       "      <td>SF3B1</td>\n",
       "      <td>50346</td>\n",
       "      <td>distal</td>\n",
       "      <td>SF3B1_distal_50346</td>\n",
       "    </tr>\n",
       "    <tr>\n",
       "      <th>23589</th>\n",
       "      <td>chr2_197387594_197388338</td>\n",
       "      <td>SF3B1</td>\n",
       "      <td>46689</td>\n",
       "      <td>distal</td>\n",
       "      <td>SF3B1_distal_46689</td>\n",
       "    </tr>\n",
       "    <tr>\n",
       "      <th>23590</th>\n",
       "      <td>chr2_197388942_197390096</td>\n",
       "      <td>SF3B1</td>\n",
       "      <td>44931</td>\n",
       "      <td>distal</td>\n",
       "      <td>SF3B1_distal_44931</td>\n",
       "    </tr>\n",
       "    <tr>\n",
       "      <th>23591</th>\n",
       "      <td>chr2_197391296_197391642</td>\n",
       "      <td>SF3B1</td>\n",
       "      <td>43385</td>\n",
       "      <td>distal</td>\n",
       "      <td>SF3B1_distal_43385</td>\n",
       "    </tr>\n",
       "    <tr>\n",
       "      <th>23592</th>\n",
       "      <td>chr2_197430781_197430842</td>\n",
       "      <td>SF3B1</td>\n",
       "      <td>4185</td>\n",
       "      <td>distal</td>\n",
       "      <td>SF3B1_distal_4185</td>\n",
       "    </tr>\n",
       "    <tr>\n",
       "      <th>23593</th>\n",
       "      <td>chr2_197431468_197431899</td>\n",
       "      <td>SF3B1</td>\n",
       "      <td>3128</td>\n",
       "      <td>distal</td>\n",
       "      <td>SF3B1_distal_3128</td>\n",
       "    </tr>\n",
       "    <tr>\n",
       "      <th>23594</th>\n",
       "      <td>chr2_197433709_197436375</td>\n",
       "      <td>SF3B1</td>\n",
       "      <td>0</td>\n",
       "      <td>promoter</td>\n",
       "      <td>SF3B1_promoter_0</td>\n",
       "    </tr>\n",
       "    <tr>\n",
       "      <th>23595</th>\n",
       "      <td>chr2_197442570_197444491</td>\n",
       "      <td>SF3B1</td>\n",
       "      <td>-7480</td>\n",
       "      <td>distal</td>\n",
       "      <td>SF3B1_distal_-7480</td>\n",
       "    </tr>\n",
       "    <tr>\n",
       "      <th>24239</th>\n",
       "      <td>chr2_208245752_208246210</td>\n",
       "      <td>IDH1</td>\n",
       "      <td>8112</td>\n",
       "      <td>distal</td>\n",
       "      <td>IDH1_distal_8112</td>\n",
       "    </tr>\n",
       "    <tr>\n",
       "      <th>24240</th>\n",
       "      <td>chr2_208250249_208251165</td>\n",
       "      <td>IDH1</td>\n",
       "      <td>3157</td>\n",
       "      <td>distal</td>\n",
       "      <td>IDH1_distal_3157</td>\n",
       "    </tr>\n",
       "    <tr>\n",
       "      <th>24241</th>\n",
       "      <td>chr2_208252206_208256794</td>\n",
       "      <td>IDH1</td>\n",
       "      <td>0</td>\n",
       "      <td>promoter</td>\n",
       "      <td>IDH1_promoter_0</td>\n",
       "    </tr>\n",
       "    <tr>\n",
       "      <th>40624</th>\n",
       "      <td>chr4_104966315_104967554</td>\n",
       "      <td>TET2</td>\n",
       "      <td>-178321</td>\n",
       "      <td>distal</td>\n",
       "      <td>TET2_distal_-178321</td>\n",
       "    </tr>\n",
       "    <tr>\n",
       "      <th>40625</th>\n",
       "      <td>chr4_104969494_104969717</td>\n",
       "      <td>TET2</td>\n",
       "      <td>-176158</td>\n",
       "      <td>distal</td>\n",
       "      <td>TET2_distal_-176158</td>\n",
       "    </tr>\n",
       "    <tr>\n",
       "      <th>40626</th>\n",
       "      <td>chr4_104976239_104976712</td>\n",
       "      <td>TET2</td>\n",
       "      <td>-169163</td>\n",
       "      <td>distal</td>\n",
       "      <td>TET2_distal_-169163</td>\n",
       "    </tr>\n",
       "    <tr>\n",
       "      <th>40627</th>\n",
       "      <td>chr4_104983564_104984101</td>\n",
       "      <td>TET2</td>\n",
       "      <td>-161774</td>\n",
       "      <td>distal</td>\n",
       "      <td>TET2_distal_-161774</td>\n",
       "    </tr>\n",
       "    <tr>\n",
       "      <th>40628</th>\n",
       "      <td>chr4_105014192_105015292</td>\n",
       "      <td>TET2</td>\n",
       "      <td>-130583</td>\n",
       "      <td>distal</td>\n",
       "      <td>TET2_distal_-130583</td>\n",
       "    </tr>\n",
       "    <tr>\n",
       "      <th>40629</th>\n",
       "      <td>chr4_105022600_105023712</td>\n",
       "      <td>TET2</td>\n",
       "      <td>-122163</td>\n",
       "      <td>distal</td>\n",
       "      <td>TET2_distal_-122163</td>\n",
       "    </tr>\n",
       "    <tr>\n",
       "      <th>40630</th>\n",
       "      <td>chr4_105025339_105025975</td>\n",
       "      <td>TET2</td>\n",
       "      <td>-119900</td>\n",
       "      <td>distal</td>\n",
       "      <td>TET2_distal_-119900</td>\n",
       "    </tr>\n",
       "    <tr>\n",
       "      <th>40631</th>\n",
       "      <td>chr4_105051005_105051021</td>\n",
       "      <td>TET2</td>\n",
       "      <td>-94854</td>\n",
       "      <td>distal</td>\n",
       "      <td>TET2_distal_-94854</td>\n",
       "    </tr>\n",
       "    <tr>\n",
       "      <th>40632</th>\n",
       "      <td>chr4_105053754_105054161</td>\n",
       "      <td>TET2</td>\n",
       "      <td>-91714</td>\n",
       "      <td>distal</td>\n",
       "      <td>TET2_distal_-91714</td>\n",
       "    </tr>\n",
       "    <tr>\n",
       "      <th>40633</th>\n",
       "      <td>chr4_105055523_105055917</td>\n",
       "      <td>TET2</td>\n",
       "      <td>-89958</td>\n",
       "      <td>distal</td>\n",
       "      <td>TET2_distal_-89958</td>\n",
       "    </tr>\n",
       "    <tr>\n",
       "      <th>40634</th>\n",
       "      <td>chr4_105057085_105062354</td>\n",
       "      <td>TET2</td>\n",
       "      <td>-83521</td>\n",
       "      <td>distal</td>\n",
       "      <td>TET2_distal_-83521</td>\n",
       "    </tr>\n",
       "    <tr>\n",
       "      <th>40635</th>\n",
       "      <td>chr4_105065226_105065981</td>\n",
       "      <td>TET2</td>\n",
       "      <td>-79894</td>\n",
       "      <td>distal</td>\n",
       "      <td>TET2_distal_-79894</td>\n",
       "    </tr>\n",
       "    <tr>\n",
       "      <th>40636</th>\n",
       "      <td>chr4_105088526_105089016</td>\n",
       "      <td>TET2</td>\n",
       "      <td>-56859</td>\n",
       "      <td>distal</td>\n",
       "      <td>TET2_distal_-56859</td>\n",
       "    </tr>\n",
       "    <tr>\n",
       "      <th>40637</th>\n",
       "      <td>chr4_105106730_105107651</td>\n",
       "      <td>TET2</td>\n",
       "      <td>-38224</td>\n",
       "      <td>distal</td>\n",
       "      <td>TET2_distal_-38224</td>\n",
       "    </tr>\n",
       "    <tr>\n",
       "      <th>40638</th>\n",
       "      <td>chr4_105113403_105114893</td>\n",
       "      <td>TET2</td>\n",
       "      <td>-30982</td>\n",
       "      <td>distal</td>\n",
       "      <td>TET2_distal_-30982</td>\n",
       "    </tr>\n",
       "    <tr>\n",
       "      <th>40639</th>\n",
       "      <td>chr4_105116363_105117356</td>\n",
       "      <td>TET2</td>\n",
       "      <td>-28519</td>\n",
       "      <td>distal</td>\n",
       "      <td>TET2_distal_-28519</td>\n",
       "    </tr>\n",
       "    <tr>\n",
       "      <th>40640</th>\n",
       "      <td>chr4_105119287_105119825</td>\n",
       "      <td>TET2</td>\n",
       "      <td>-26050</td>\n",
       "      <td>distal</td>\n",
       "      <td>TET2_distal_-26050</td>\n",
       "    </tr>\n",
       "    <tr>\n",
       "      <th>40641</th>\n",
       "      <td>chr4_105120376_105121170</td>\n",
       "      <td>TET2</td>\n",
       "      <td>-24705</td>\n",
       "      <td>distal</td>\n",
       "      <td>TET2_distal_-24705</td>\n",
       "    </tr>\n",
       "    <tr>\n",
       "      <th>40642</th>\n",
       "      <td>chr4_105128168_105128635</td>\n",
       "      <td>TET2</td>\n",
       "      <td>-17240</td>\n",
       "      <td>distal</td>\n",
       "      <td>TET2_distal_-17240</td>\n",
       "    </tr>\n",
       "    <tr>\n",
       "      <th>40643</th>\n",
       "      <td>chr4_105129312_105129633</td>\n",
       "      <td>TET2</td>\n",
       "      <td>-16242</td>\n",
       "      <td>distal</td>\n",
       "      <td>TET2_distal_-16242</td>\n",
       "    </tr>\n",
       "    <tr>\n",
       "      <th>40644</th>\n",
       "      <td>chr4_105131075_105131829</td>\n",
       "      <td>TET2</td>\n",
       "      <td>-14046</td>\n",
       "      <td>distal</td>\n",
       "      <td>TET2_distal_-14046</td>\n",
       "    </tr>\n",
       "    <tr>\n",
       "      <th>40645</th>\n",
       "      <td>chr4_105135494_105136563</td>\n",
       "      <td>TET2</td>\n",
       "      <td>-9312</td>\n",
       "      <td>distal</td>\n",
       "      <td>TET2_distal_-9312</td>\n",
       "    </tr>\n",
       "    <tr>\n",
       "      <th>40646</th>\n",
       "      <td>chr4_105137182_105137744</td>\n",
       "      <td>TET2</td>\n",
       "      <td>-8131</td>\n",
       "      <td>distal</td>\n",
       "      <td>TET2_distal_-8131</td>\n",
       "    </tr>\n",
       "    <tr>\n",
       "      <th>40647</th>\n",
       "      <td>chr4_105139624_105141257</td>\n",
       "      <td>TET2</td>\n",
       "      <td>-4618</td>\n",
       "      <td>distal</td>\n",
       "      <td>TET2_distal_-4618</td>\n",
       "    </tr>\n",
       "    <tr>\n",
       "      <th>40648</th>\n",
       "      <td>chr4_105144723_105148514</td>\n",
       "      <td>TET2</td>\n",
       "      <td>0</td>\n",
       "      <td>promoter</td>\n",
       "      <td>TET2_promoter_0</td>\n",
       "    </tr>\n",
       "    <tr>\n",
       "      <th>40649</th>\n",
       "      <td>chr4_105149383_105150243</td>\n",
       "      <td>TET2</td>\n",
       "      <td>2498</td>\n",
       "      <td>distal</td>\n",
       "      <td>TET2_distal_2498</td>\n",
       "    </tr>\n",
       "    <tr>\n",
       "      <th>40650</th>\n",
       "      <td>chr4_105153158_105153794</td>\n",
       "      <td>TET2</td>\n",
       "      <td>6273</td>\n",
       "      <td>distal</td>\n",
       "      <td>TET2_distal_6273</td>\n",
       "    </tr>\n",
       "    <tr>\n",
       "      <th>40651</th>\n",
       "      <td>chr4_105155373_105155873</td>\n",
       "      <td>TET2</td>\n",
       "      <td>8488</td>\n",
       "      <td>distal</td>\n",
       "      <td>TET2_distal_8488</td>\n",
       "    </tr>\n",
       "    <tr>\n",
       "      <th>40652</th>\n",
       "      <td>chr4_105158428_105159164</td>\n",
       "      <td>TET2</td>\n",
       "      <td>11543</td>\n",
       "      <td>distal</td>\n",
       "      <td>TET2_distal_11543</td>\n",
       "    </tr>\n",
       "    <tr>\n",
       "      <th>40653</th>\n",
       "      <td>chr4_105162163_105162586</td>\n",
       "      <td>TET2</td>\n",
       "      <td>15278</td>\n",
       "      <td>distal</td>\n",
       "      <td>TET2_distal_15278</td>\n",
       "    </tr>\n",
       "    <tr>\n",
       "      <th>40654</th>\n",
       "      <td>chr4_105164038_105164197</td>\n",
       "      <td>TET2</td>\n",
       "      <td>17153</td>\n",
       "      <td>distal</td>\n",
       "      <td>TET2_distal_17153</td>\n",
       "    </tr>\n",
       "    <tr>\n",
       "      <th>40655</th>\n",
       "      <td>chr4_105170653_105171185</td>\n",
       "      <td>TET2</td>\n",
       "      <td>23768</td>\n",
       "      <td>distal</td>\n",
       "      <td>TET2_distal_23768</td>\n",
       "    </tr>\n",
       "    <tr>\n",
       "      <th>40656</th>\n",
       "      <td>chr4_105184499_105184876</td>\n",
       "      <td>TET2</td>\n",
       "      <td>37614</td>\n",
       "      <td>distal</td>\n",
       "      <td>TET2_distal_37614</td>\n",
       "    </tr>\n",
       "    <tr>\n",
       "      <th>40657</th>\n",
       "      <td>chr4_105191442_105192245</td>\n",
       "      <td>TET2</td>\n",
       "      <td>44557</td>\n",
       "      <td>distal</td>\n",
       "      <td>TET2_distal_44557</td>\n",
       "    </tr>\n",
       "    <tr>\n",
       "      <th>40658</th>\n",
       "      <td>chr4_105193574_105193971</td>\n",
       "      <td>TET2</td>\n",
       "      <td>46689</td>\n",
       "      <td>distal</td>\n",
       "      <td>TET2_distal_46689</td>\n",
       "    </tr>\n",
       "    <tr>\n",
       "      <th>40659</th>\n",
       "      <td>chr4_105196001_105197206</td>\n",
       "      <td>TET2</td>\n",
       "      <td>49116</td>\n",
       "      <td>distal</td>\n",
       "      <td>TET2_distal_49116</td>\n",
       "    </tr>\n",
       "    <tr>\n",
       "      <th>40660</th>\n",
       "      <td>chr4_105225546_105225807</td>\n",
       "      <td>TET2</td>\n",
       "      <td>78661</td>\n",
       "      <td>distal</td>\n",
       "      <td>TET2_distal_78661</td>\n",
       "    </tr>\n",
       "    <tr>\n",
       "      <th>40661</th>\n",
       "      <td>chr4_105239439_105239482</td>\n",
       "      <td>TET2</td>\n",
       "      <td>92554</td>\n",
       "      <td>distal</td>\n",
       "      <td>TET2_distal_92554</td>\n",
       "    </tr>\n",
       "    <tr>\n",
       "      <th>40662</th>\n",
       "      <td>chr4_105293526_105293660</td>\n",
       "      <td>TET2</td>\n",
       "      <td>146641</td>\n",
       "      <td>distal</td>\n",
       "      <td>TET2_distal_146641</td>\n",
       "    </tr>\n",
       "    <tr>\n",
       "      <th>40663</th>\n",
       "      <td>chr4_105304902_105305351</td>\n",
       "      <td>TET2</td>\n",
       "      <td>158017</td>\n",
       "      <td>distal</td>\n",
       "      <td>TET2_distal_158017</td>\n",
       "    </tr>\n",
       "    <tr>\n",
       "      <th>40664</th>\n",
       "      <td>chr4_105306174_105306726</td>\n",
       "      <td>TET2</td>\n",
       "      <td>159289</td>\n",
       "      <td>distal</td>\n",
       "      <td>TET2_distal_159289</td>\n",
       "    </tr>\n",
       "    <tr>\n",
       "      <th>114703</th>\n",
       "      <td>chr15_90086718_90088155</td>\n",
       "      <td>IDH2</td>\n",
       "      <td>12540</td>\n",
       "      <td>distal</td>\n",
       "      <td>IDH2_distal_12540</td>\n",
       "    </tr>\n",
       "    <tr>\n",
       "      <th>114704</th>\n",
       "      <td>chr15_90097432_90098795</td>\n",
       "      <td>IDH2</td>\n",
       "      <td>1900</td>\n",
       "      <td>distal</td>\n",
       "      <td>IDH2_distal_1900</td>\n",
       "    </tr>\n",
       "    <tr>\n",
       "      <th>114705</th>\n",
       "      <td>chr15_90099722_90103091</td>\n",
       "      <td>IDH2</td>\n",
       "      <td>0</td>\n",
       "      <td>promoter</td>\n",
       "      <td>IDH2_promoter_0</td>\n",
       "    </tr>\n",
       "    <tr>\n",
       "      <th>114706</th>\n",
       "      <td>chr15_90142595_90143707</td>\n",
       "      <td>IDH2</td>\n",
       "      <td>-40092</td>\n",
       "      <td>distal</td>\n",
       "      <td>IDH2_distal_-40092</td>\n",
       "    </tr>\n",
       "    <tr>\n",
       "      <th>120495</th>\n",
       "      <td>chr17_7673264_7673578</td>\n",
       "      <td>TP53</td>\n",
       "      <td>1915</td>\n",
       "      <td>distal</td>\n",
       "      <td>TP53_distal_1915</td>\n",
       "    </tr>\n",
       "  </tbody>\n",
       "</table>\n",
       "</div>"
      ],
      "text/plain": [
       "                            peak   gene distance peak_type  \\\n",
       "23587   chr2_197378394_197378845  SF3B1    56182    distal   \n",
       "23588   chr2_197384108_197384681  SF3B1    50346    distal   \n",
       "23589   chr2_197387594_197388338  SF3B1    46689    distal   \n",
       "23590   chr2_197388942_197390096  SF3B1    44931    distal   \n",
       "23591   chr2_197391296_197391642  SF3B1    43385    distal   \n",
       "23592   chr2_197430781_197430842  SF3B1     4185    distal   \n",
       "23593   chr2_197431468_197431899  SF3B1     3128    distal   \n",
       "23594   chr2_197433709_197436375  SF3B1        0  promoter   \n",
       "23595   chr2_197442570_197444491  SF3B1    -7480    distal   \n",
       "24239   chr2_208245752_208246210   IDH1     8112    distal   \n",
       "24240   chr2_208250249_208251165   IDH1     3157    distal   \n",
       "24241   chr2_208252206_208256794   IDH1        0  promoter   \n",
       "40624   chr4_104966315_104967554   TET2  -178321    distal   \n",
       "40625   chr4_104969494_104969717   TET2  -176158    distal   \n",
       "40626   chr4_104976239_104976712   TET2  -169163    distal   \n",
       "40627   chr4_104983564_104984101   TET2  -161774    distal   \n",
       "40628   chr4_105014192_105015292   TET2  -130583    distal   \n",
       "40629   chr4_105022600_105023712   TET2  -122163    distal   \n",
       "40630   chr4_105025339_105025975   TET2  -119900    distal   \n",
       "40631   chr4_105051005_105051021   TET2   -94854    distal   \n",
       "40632   chr4_105053754_105054161   TET2   -91714    distal   \n",
       "40633   chr4_105055523_105055917   TET2   -89958    distal   \n",
       "40634   chr4_105057085_105062354   TET2   -83521    distal   \n",
       "40635   chr4_105065226_105065981   TET2   -79894    distal   \n",
       "40636   chr4_105088526_105089016   TET2   -56859    distal   \n",
       "40637   chr4_105106730_105107651   TET2   -38224    distal   \n",
       "40638   chr4_105113403_105114893   TET2   -30982    distal   \n",
       "40639   chr4_105116363_105117356   TET2   -28519    distal   \n",
       "40640   chr4_105119287_105119825   TET2   -26050    distal   \n",
       "40641   chr4_105120376_105121170   TET2   -24705    distal   \n",
       "40642   chr4_105128168_105128635   TET2   -17240    distal   \n",
       "40643   chr4_105129312_105129633   TET2   -16242    distal   \n",
       "40644   chr4_105131075_105131829   TET2   -14046    distal   \n",
       "40645   chr4_105135494_105136563   TET2    -9312    distal   \n",
       "40646   chr4_105137182_105137744   TET2    -8131    distal   \n",
       "40647   chr4_105139624_105141257   TET2    -4618    distal   \n",
       "40648   chr4_105144723_105148514   TET2        0  promoter   \n",
       "40649   chr4_105149383_105150243   TET2     2498    distal   \n",
       "40650   chr4_105153158_105153794   TET2     6273    distal   \n",
       "40651   chr4_105155373_105155873   TET2     8488    distal   \n",
       "40652   chr4_105158428_105159164   TET2    11543    distal   \n",
       "40653   chr4_105162163_105162586   TET2    15278    distal   \n",
       "40654   chr4_105164038_105164197   TET2    17153    distal   \n",
       "40655   chr4_105170653_105171185   TET2    23768    distal   \n",
       "40656   chr4_105184499_105184876   TET2    37614    distal   \n",
       "40657   chr4_105191442_105192245   TET2    44557    distal   \n",
       "40658   chr4_105193574_105193971   TET2    46689    distal   \n",
       "40659   chr4_105196001_105197206   TET2    49116    distal   \n",
       "40660   chr4_105225546_105225807   TET2    78661    distal   \n",
       "40661   chr4_105239439_105239482   TET2    92554    distal   \n",
       "40662   chr4_105293526_105293660   TET2   146641    distal   \n",
       "40663   chr4_105304902_105305351   TET2   158017    distal   \n",
       "40664   chr4_105306174_105306726   TET2   159289    distal   \n",
       "114703   chr15_90086718_90088155   IDH2    12540    distal   \n",
       "114704   chr15_90097432_90098795   IDH2     1900    distal   \n",
       "114705   chr15_90099722_90103091   IDH2        0  promoter   \n",
       "114706   chr15_90142595_90143707   IDH2   -40092    distal   \n",
       "120495     chr17_7673264_7673578   TP53     1915    distal   \n",
       "\n",
       "                         ID  \n",
       "23587    SF3B1_distal_56182  \n",
       "23588    SF3B1_distal_50346  \n",
       "23589    SF3B1_distal_46689  \n",
       "23590    SF3B1_distal_44931  \n",
       "23591    SF3B1_distal_43385  \n",
       "23592     SF3B1_distal_4185  \n",
       "23593     SF3B1_distal_3128  \n",
       "23594      SF3B1_promoter_0  \n",
       "23595    SF3B1_distal_-7480  \n",
       "24239      IDH1_distal_8112  \n",
       "24240      IDH1_distal_3157  \n",
       "24241       IDH1_promoter_0  \n",
       "40624   TET2_distal_-178321  \n",
       "40625   TET2_distal_-176158  \n",
       "40626   TET2_distal_-169163  \n",
       "40627   TET2_distal_-161774  \n",
       "40628   TET2_distal_-130583  \n",
       "40629   TET2_distal_-122163  \n",
       "40630   TET2_distal_-119900  \n",
       "40631    TET2_distal_-94854  \n",
       "40632    TET2_distal_-91714  \n",
       "40633    TET2_distal_-89958  \n",
       "40634    TET2_distal_-83521  \n",
       "40635    TET2_distal_-79894  \n",
       "40636    TET2_distal_-56859  \n",
       "40637    TET2_distal_-38224  \n",
       "40638    TET2_distal_-30982  \n",
       "40639    TET2_distal_-28519  \n",
       "40640    TET2_distal_-26050  \n",
       "40641    TET2_distal_-24705  \n",
       "40642    TET2_distal_-17240  \n",
       "40643    TET2_distal_-16242  \n",
       "40644    TET2_distal_-14046  \n",
       "40645     TET2_distal_-9312  \n",
       "40646     TET2_distal_-8131  \n",
       "40647     TET2_distal_-4618  \n",
       "40648       TET2_promoter_0  \n",
       "40649      TET2_distal_2498  \n",
       "40650      TET2_distal_6273  \n",
       "40651      TET2_distal_8488  \n",
       "40652     TET2_distal_11543  \n",
       "40653     TET2_distal_15278  \n",
       "40654     TET2_distal_17153  \n",
       "40655     TET2_distal_23768  \n",
       "40656     TET2_distal_37614  \n",
       "40657     TET2_distal_44557  \n",
       "40658     TET2_distal_46689  \n",
       "40659     TET2_distal_49116  \n",
       "40660     TET2_distal_78661  \n",
       "40661     TET2_distal_92554  \n",
       "40662    TET2_distal_146641  \n",
       "40663    TET2_distal_158017  \n",
       "40664    TET2_distal_159289  \n",
       "114703    IDH2_distal_12540  \n",
       "114704     IDH2_distal_1900  \n",
       "114705      IDH2_promoter_0  \n",
       "114706   IDH2_distal_-40092  \n",
       "120495     TP53_distal_1915  "
      ]
     },
     "execution_count": 15,
     "metadata": {},
     "output_type": "execute_result"
    }
   ],
   "source": [
    "chip_df = peak_annotations[peak_annotations[\"gene\"].isin(chip_genes)]\n",
    "chip_inds = peak_annotations[peak_annotations[\"gene\"].isin(chip_genes)].index\n",
    "chip_df[\"ID\"] = chip_df.apply(lambda x: x[\"gene\"]+\"_\"+x[\"peak_type\"]+\"_\"+x[\"distance\"],axis=1)\n",
    "chip_df"
   ]
  },
  {
   "cell_type": "code",
   "execution_count": 28,
   "metadata": {
    "ExecuteTime": {
     "end_time": "2021-02-03T18:14:26.917631Z",
     "start_time": "2021-02-03T18:14:23.080613Z"
    }
   },
   "outputs": [
    {
     "data": {
      "text/plain": [
       "ID\n",
       "SF3B1_distal_56182      165\n",
       "SF3B1_distal_50346      111\n",
       "SF3B1_distal_46689       84\n",
       "SF3B1_distal_44931      130\n",
       "SF3B1_distal_43385      198\n",
       "SF3B1_distal_4185        74\n",
       "SF3B1_distal_3128        14\n",
       "SF3B1_promoter_0         81\n",
       "SF3B1_distal_-7480     1210\n",
       "IDH1_distal_8112         20\n",
       "IDH1_distal_3157         98\n",
       "IDH1_promoter_0         282\n",
       "TET2_distal_-178321     172\n",
       "TET2_distal_-176158     553\n",
       "TET2_distal_-169163      56\n",
       "TET2_distal_-161774     123\n",
       "TET2_distal_-130583     153\n",
       "TET2_distal_-122163     441\n",
       "TET2_distal_-119900     408\n",
       "TET2_distal_-94854      103\n",
       "TET2_distal_-91714        1\n",
       "TET2_distal_-89958       88\n",
       "TET2_distal_-83521       90\n",
       "TET2_distal_-79894     2743\n",
       "TET2_distal_-56859      233\n",
       "TET2_distal_-38224      126\n",
       "TET2_distal_-30982      248\n",
       "TET2_distal_-28519      697\n",
       "TET2_distal_-26050      300\n",
       "TET2_distal_-24705      151\n",
       "TET2_distal_-17240      256\n",
       "TET2_distal_-16242      123\n",
       "TET2_distal_-14046       63\n",
       "TET2_distal_-9312        97\n",
       "TET2_distal_-8131       374\n",
       "TET2_distal_-4618       146\n",
       "TET2_promoter_0         247\n",
       "TET2_distal_2498       1633\n",
       "TET2_distal_6273        153\n",
       "TET2_distal_8488        109\n",
       "TET2_distal_11543        95\n",
       "TET2_distal_15278       174\n",
       "TET2_distal_17153        88\n",
       "TET2_distal_23768        33\n",
       "TET2_distal_37614       157\n",
       "TET2_distal_44557        79\n",
       "TET2_distal_46689       314\n",
       "TET2_distal_49116        87\n",
       "TET2_distal_78661       624\n",
       "TET2_distal_92554        53\n",
       "TET2_distal_146641       17\n",
       "TET2_distal_158017       38\n",
       "TET2_distal_159289       91\n",
       "IDH2_distal_12540       268\n",
       "IDH2_distal_1900        290\n",
       "IDH2_promoter_0         340\n",
       "IDH2_distal_-40092      754\n",
       "TP53_distal_1915        166\n",
       "dtype: int64"
      ]
     },
     "execution_count": 28,
     "metadata": {},
     "output_type": "execute_result"
    }
   ],
   "source": [
    "(pd.merge(peaks_dense, chip_df[[\"ID\"]], left_index=True, right_index=True).set_index(\"ID\")>0).sum(axis=1)"
   ]
  },
  {
   "cell_type": "code",
   "execution_count": 26,
   "metadata": {
    "ExecuteTime": {
     "end_time": "2021-02-03T18:13:45.634906Z",
     "start_time": "2021-02-03T18:13:40.275051Z"
    },
    "scrolled": true
   },
   "outputs": [
    {
     "name": "stderr",
     "output_type": "stream",
     "text": [
      "<string>:6: RuntimeWarning: Converting input from bool to <class 'numpy.uint8'> for compatibility.\n",
      "<string>:6: RuntimeWarning: Converting input from bool to <class 'numpy.uint8'> for compatibility.\n"
     ]
    },
    {
     "ename": "AttributeError",
     "evalue": "'tuple' object has no attribute 'sum'",
     "output_type": "error",
     "traceback": [
      "\u001b[0;31m---------------------------------------------------------------------------\u001b[0m",
      "\u001b[0;31mAttributeError\u001b[0m                            Traceback (most recent call last)",
      "\u001b[0;32m<ipython-input-26-f492e492a18c>\u001b[0m in \u001b[0;36m<module>\u001b[0;34m\u001b[0m\n\u001b[0;32m----> 1\u001b[0;31m \u001b[0mplt\u001b[0m\u001b[0;34m.\u001b[0m\u001b[0mhist\u001b[0m\u001b[0;34m(\u001b[0m\u001b[0mpd\u001b[0m\u001b[0;34m.\u001b[0m\u001b[0mmerge\u001b[0m\u001b[0;34m(\u001b[0m\u001b[0mpeaks_dense\u001b[0m\u001b[0;34m,\u001b[0m \u001b[0mchip_df\u001b[0m\u001b[0;34m[\u001b[0m\u001b[0;34m[\u001b[0m\u001b[0;34m\"ID\"\u001b[0m\u001b[0;34m]\u001b[0m\u001b[0;34m]\u001b[0m\u001b[0;34m,\u001b[0m \u001b[0mleft_index\u001b[0m\u001b[0;34m=\u001b[0m\u001b[0;32mTrue\u001b[0m\u001b[0;34m,\u001b[0m \u001b[0mright_index\u001b[0m\u001b[0;34m=\u001b[0m\u001b[0;32mTrue\u001b[0m\u001b[0;34m)\u001b[0m\u001b[0;34m.\u001b[0m\u001b[0mset_index\u001b[0m\u001b[0;34m(\u001b[0m\u001b[0;34m\"ID\"\u001b[0m\u001b[0;34m)\u001b[0m\u001b[0;34m>\u001b[0m\u001b[0;36m0\u001b[0m\u001b[0;34m)\u001b[0m\u001b[0;34m.\u001b[0m\u001b[0msum\u001b[0m\u001b[0;34m(\u001b[0m\u001b[0maxis\u001b[0m\u001b[0;34m=\u001b[0m\u001b[0;36m1\u001b[0m\u001b[0;34m)\u001b[0m\u001b[0;34m\u001b[0m\u001b[0;34m\u001b[0m\u001b[0m\n\u001b[0m",
      "\u001b[0;31mAttributeError\u001b[0m: 'tuple' object has no attribute 'sum'"
     ]
    },
    {
     "data": {
      "image/png": "[encoded data removed]",
      "text/plain": [
       "<Figure size 432x288 with 1 Axes>"
      ]
     },
     "metadata": {
      "needs_background": "light"
     },
     "output_type": "display_data"
    }
   ],
   "source": [
    "plt.hist(pd.merge(peaks_dense, chip_df[[\"ID\"]], left_index=True, right_index=True).set_index(\"ID\")>0).sum(axis=1)"
   ]
  },
  {
   "cell_type": "code",
   "execution_count": 22,
   "metadata": {
    "ExecuteTime": {
     "end_time": "2021-02-03T18:12:48.791694Z",
     "start_time": "2021-02-03T18:12:45.067237Z"
    },
    "scrolled": true
   },
   "outputs": [
    {
     "ename": "TypeError",
     "evalue": "'>' not supported between instances of 'str' and 'int'",
     "output_type": "error",
     "traceback": [
      "\u001b[0;31m---------------------------------------------------------------------------\u001b[0m",
      "\u001b[0;31mTypeError\u001b[0m                                 Traceback (most recent call last)",
      "\u001b[0;32m<ipython-input-22-5be6fc94b9c6>\u001b[0m in \u001b[0;36m<module>\u001b[0;34m\u001b[0m\n\u001b[0;32m----> 1\u001b[0;31m \u001b[0mchip_dist\u001b[0m \u001b[0;34m=\u001b[0m \u001b[0;34m(\u001b[0m\u001b[0mpd\u001b[0m\u001b[0;34m.\u001b[0m\u001b[0mmerge\u001b[0m\u001b[0;34m(\u001b[0m\u001b[0mpeaks_dense\u001b[0m\u001b[0;34m,\u001b[0m \u001b[0mchip_df\u001b[0m\u001b[0;34m[\u001b[0m\u001b[0;34m[\u001b[0m\u001b[0;34m\"ID\"\u001b[0m\u001b[0;34m]\u001b[0m\u001b[0;34m]\u001b[0m\u001b[0;34m,\u001b[0m \u001b[0mleft_index\u001b[0m\u001b[0;34m=\u001b[0m\u001b[0;32mTrue\u001b[0m\u001b[0;34m,\u001b[0m \u001b[0mright_index\u001b[0m\u001b[0;34m=\u001b[0m\u001b[0;32mTrue\u001b[0m\u001b[0;34m)\u001b[0m\u001b[0;34m>\u001b[0m\u001b[0;36m0\u001b[0m\u001b[0;34m)\u001b[0m\u001b[0;34m.\u001b[0m\u001b[0msum\u001b[0m\u001b[0;34m(\u001b[0m\u001b[0maxis\u001b[0m\u001b[0;34m=\u001b[0m\u001b[0;36m1\u001b[0m\u001b[0;34m)\u001b[0m\u001b[0;34m\u001b[0m\u001b[0;34m\u001b[0m\u001b[0m\n\u001b[0m\u001b[1;32m      2\u001b[0m \u001b[0mchip_dist\u001b[0m\u001b[0;34m\u001b[0m\u001b[0;34m\u001b[0m\u001b[0m\n",
      "\u001b[0;32m~/software/anaconda2/envs/mito_trace/lib/python3.7/site-packages/pandas/core/ops/__init__.py\u001b[0m in \u001b[0;36mf\u001b[0;34m(self, other)\u001b[0m\n\u001b[1;32m   1577\u001b[0m             \u001b[0;31m# straight boolean comparisons we want to allow all columns\u001b[0m\u001b[0;34m\u001b[0m\u001b[0;34m\u001b[0m\u001b[0;34m\u001b[0m\u001b[0m\n\u001b[1;32m   1578\u001b[0m             \u001b[0;31m# (regardless of dtype to pass thru) See #4537 for discussion.\u001b[0m\u001b[0;34m\u001b[0m\u001b[0;34m\u001b[0m\u001b[0;34m\u001b[0m\u001b[0m\n\u001b[0;32m-> 1579\u001b[0;31m             \u001b[0mres\u001b[0m \u001b[0;34m=\u001b[0m \u001b[0mself\u001b[0m\u001b[0;34m.\u001b[0m\u001b[0m_combine_const\u001b[0m\u001b[0;34m(\u001b[0m\u001b[0mother\u001b[0m\u001b[0;34m,\u001b[0m \u001b[0mfunc\u001b[0m\u001b[0;34m)\u001b[0m\u001b[0;34m\u001b[0m\u001b[0;34m\u001b[0m\u001b[0m\n\u001b[0m\u001b[1;32m   1580\u001b[0m             \u001b[0;32mreturn\u001b[0m \u001b[0mres\u001b[0m\u001b[0;34m.\u001b[0m\u001b[0mfillna\u001b[0m\u001b[0;34m(\u001b[0m\u001b[0;32mTrue\u001b[0m\u001b[0;34m)\u001b[0m\u001b[0;34m.\u001b[0m\u001b[0mastype\u001b[0m\u001b[0;34m(\u001b[0m\u001b[0mbool\u001b[0m\u001b[0;34m)\u001b[0m\u001b[0;34m\u001b[0m\u001b[0;34m\u001b[0m\u001b[0m\n\u001b[1;32m   1581\u001b[0m \u001b[0;34m\u001b[0m\u001b[0m\n",
      "\u001b[0;32m~/software/anaconda2/envs/mito_trace/lib/python3.7/site-packages/pandas/core/frame.py\u001b[0m in \u001b[0;36m_combine_const\u001b[0;34m(self, other, func)\u001b[0m\n\u001b[1;32m   5416\u001b[0m     \u001b[0;32mdef\u001b[0m \u001b[0m_combine_const\u001b[0m\u001b[0;34m(\u001b[0m\u001b[0mself\u001b[0m\u001b[0;34m,\u001b[0m \u001b[0mother\u001b[0m\u001b[0;34m,\u001b[0m \u001b[0mfunc\u001b[0m\u001b[0;34m)\u001b[0m\u001b[0;34m:\u001b[0m\u001b[0;34m\u001b[0m\u001b[0;34m\u001b[0m\u001b[0m\n\u001b[1;32m   5417\u001b[0m         \u001b[0;32massert\u001b[0m \u001b[0mlib\u001b[0m\u001b[0;34m.\u001b[0m\u001b[0mis_scalar\u001b[0m\u001b[0;34m(\u001b[0m\u001b[0mother\u001b[0m\u001b[0;34m)\u001b[0m \u001b[0;32mor\u001b[0m \u001b[0mnp\u001b[0m\u001b[0;34m.\u001b[0m\u001b[0mndim\u001b[0m\u001b[0;34m(\u001b[0m\u001b[0mother\u001b[0m\u001b[0;34m)\u001b[0m \u001b[0;34m==\u001b[0m \u001b[0;36m0\u001b[0m\u001b[0;34m\u001b[0m\u001b[0;34m\u001b[0m\u001b[0m\n\u001b[0;32m-> 5418\u001b[0;31m         \u001b[0;32mreturn\u001b[0m \u001b[0mops\u001b[0m\u001b[0;34m.\u001b[0m\u001b[0mdispatch_to_series\u001b[0m\u001b[0;34m(\u001b[0m\u001b[0mself\u001b[0m\u001b[0;34m,\u001b[0m \u001b[0mother\u001b[0m\u001b[0;34m,\u001b[0m \u001b[0mfunc\u001b[0m\u001b[0;34m)\u001b[0m\u001b[0;34m\u001b[0m\u001b[0;34m\u001b[0m\u001b[0m\n\u001b[0m\u001b[1;32m   5419\u001b[0m \u001b[0;34m\u001b[0m\u001b[0m\n\u001b[1;32m   5420\u001b[0m     \u001b[0;32mdef\u001b[0m \u001b[0mcombine\u001b[0m\u001b[0;34m(\u001b[0m\u001b[0mself\u001b[0m\u001b[0;34m,\u001b[0m \u001b[0mother\u001b[0m\u001b[0;34m,\u001b[0m \u001b[0mfunc\u001b[0m\u001b[0;34m,\u001b[0m \u001b[0mfill_value\u001b[0m\u001b[0;34m=\u001b[0m\u001b[0;32mNone\u001b[0m\u001b[0;34m,\u001b[0m \u001b[0moverwrite\u001b[0m\u001b[0;34m=\u001b[0m\u001b[0;32mTrue\u001b[0m\u001b[0;34m)\u001b[0m\u001b[0;34m:\u001b[0m\u001b[0;34m\u001b[0m\u001b[0;34m\u001b[0m\u001b[0m\n",
      "\u001b[0;32m~/software/anaconda2/envs/mito_trace/lib/python3.7/site-packages/pandas/core/ops/__init__.py\u001b[0m in \u001b[0;36mdispatch_to_series\u001b[0;34m(left, right, func, str_rep, axis)\u001b[0m\n\u001b[1;32m    594\u001b[0m         \u001b[0;32mraise\u001b[0m \u001b[0mNotImplementedError\u001b[0m\u001b[0;34m(\u001b[0m\u001b[0mright\u001b[0m\u001b[0;34m)\u001b[0m\u001b[0;34m\u001b[0m\u001b[0;34m\u001b[0m\u001b[0m\n\u001b[1;32m    595\u001b[0m \u001b[0;34m\u001b[0m\u001b[0m\n\u001b[0;32m--> 596\u001b[0;31m     \u001b[0mnew_data\u001b[0m \u001b[0;34m=\u001b[0m \u001b[0mexpressions\u001b[0m\u001b[0;34m.\u001b[0m\u001b[0mevaluate\u001b[0m\u001b[0;34m(\u001b[0m\u001b[0mcolumn_op\u001b[0m\u001b[0;34m,\u001b[0m \u001b[0mstr_rep\u001b[0m\u001b[0;34m,\u001b[0m \u001b[0mleft\u001b[0m\u001b[0;34m,\u001b[0m \u001b[0mright\u001b[0m\u001b[0;34m)\u001b[0m\u001b[0;34m\u001b[0m\u001b[0;34m\u001b[0m\u001b[0m\n\u001b[0m\u001b[1;32m    597\u001b[0m \u001b[0;34m\u001b[0m\u001b[0m\n\u001b[1;32m    598\u001b[0m     \u001b[0mresult\u001b[0m \u001b[0;34m=\u001b[0m \u001b[0mleft\u001b[0m\u001b[0;34m.\u001b[0m\u001b[0m_constructor\u001b[0m\u001b[0;34m(\u001b[0m\u001b[0mnew_data\u001b[0m\u001b[0;34m,\u001b[0m \u001b[0mindex\u001b[0m\u001b[0;34m=\u001b[0m\u001b[0mleft\u001b[0m\u001b[0;34m.\u001b[0m\u001b[0mindex\u001b[0m\u001b[0;34m,\u001b[0m \u001b[0mcopy\u001b[0m\u001b[0;34m=\u001b[0m\u001b[0;32mFalse\u001b[0m\u001b[0;34m)\u001b[0m\u001b[0;34m\u001b[0m\u001b[0;34m\u001b[0m\u001b[0m\n",
      "\u001b[0;32m~/software/anaconda2/envs/mito_trace/lib/python3.7/site-packages/pandas/core/computation/expressions.py\u001b[0m in \u001b[0;36mevaluate\u001b[0;34m(op, op_str, a, b, use_numexpr, **eval_kwargs)\u001b[0m\n\u001b[1;32m    219\u001b[0m     \u001b[0muse_numexpr\u001b[0m \u001b[0;34m=\u001b[0m \u001b[0muse_numexpr\u001b[0m \u001b[0;32mand\u001b[0m \u001b[0m_bool_arith_check\u001b[0m\u001b[0;34m(\u001b[0m\u001b[0mop_str\u001b[0m\u001b[0;34m,\u001b[0m \u001b[0ma\u001b[0m\u001b[0;34m,\u001b[0m \u001b[0mb\u001b[0m\u001b[0;34m)\u001b[0m\u001b[0;34m\u001b[0m\u001b[0;34m\u001b[0m\u001b[0m\n\u001b[1;32m    220\u001b[0m     \u001b[0;32mif\u001b[0m \u001b[0muse_numexpr\u001b[0m\u001b[0;34m:\u001b[0m\u001b[0;34m\u001b[0m\u001b[0;34m\u001b[0m\u001b[0m\n\u001b[0;32m--> 221\u001b[0;31m         \u001b[0;32mreturn\u001b[0m \u001b[0m_evaluate\u001b[0m\u001b[0;34m(\u001b[0m\u001b[0mop\u001b[0m\u001b[0;34m,\u001b[0m \u001b[0mop_str\u001b[0m\u001b[0;34m,\u001b[0m \u001b[0ma\u001b[0m\u001b[0;34m,\u001b[0m \u001b[0mb\u001b[0m\u001b[0;34m,\u001b[0m \u001b[0;34m**\u001b[0m\u001b[0meval_kwargs\u001b[0m\u001b[0;34m)\u001b[0m\u001b[0;34m\u001b[0m\u001b[0;34m\u001b[0m\u001b[0m\n\u001b[0m\u001b[1;32m    222\u001b[0m     \u001b[0;32mreturn\u001b[0m \u001b[0m_evaluate_standard\u001b[0m\u001b[0;34m(\u001b[0m\u001b[0mop\u001b[0m\u001b[0;34m,\u001b[0m \u001b[0mop_str\u001b[0m\u001b[0;34m,\u001b[0m \u001b[0ma\u001b[0m\u001b[0;34m,\u001b[0m \u001b[0mb\u001b[0m\u001b[0;34m)\u001b[0m\u001b[0;34m\u001b[0m\u001b[0;34m\u001b[0m\u001b[0m\n\u001b[1;32m    223\u001b[0m \u001b[0;34m\u001b[0m\u001b[0m\n",
      "\u001b[0;32m~/software/anaconda2/envs/mito_trace/lib/python3.7/site-packages/pandas/core/computation/expressions.py\u001b[0m in \u001b[0;36m_evaluate_standard\u001b[0;34m(op, op_str, a, b, **eval_kwargs)\u001b[0m\n\u001b[1;32m     68\u001b[0m         \u001b[0m_store_test_result\u001b[0m\u001b[0;34m(\u001b[0m\u001b[0;32mFalse\u001b[0m\u001b[0;34m)\u001b[0m\u001b[0;34m\u001b[0m\u001b[0;34m\u001b[0m\u001b[0m\n\u001b[1;32m     69\u001b[0m     \u001b[0;32mwith\u001b[0m \u001b[0mnp\u001b[0m\u001b[0;34m.\u001b[0m\u001b[0merrstate\u001b[0m\u001b[0;34m(\u001b[0m\u001b[0mall\u001b[0m\u001b[0;34m=\u001b[0m\u001b[0;34m\"ignore\"\u001b[0m\u001b[0;34m)\u001b[0m\u001b[0;34m:\u001b[0m\u001b[0;34m\u001b[0m\u001b[0;34m\u001b[0m\u001b[0m\n\u001b[0;32m---> 70\u001b[0;31m         \u001b[0;32mreturn\u001b[0m \u001b[0mop\u001b[0m\u001b[0;34m(\u001b[0m\u001b[0ma\u001b[0m\u001b[0;34m,\u001b[0m \u001b[0mb\u001b[0m\u001b[0;34m)\u001b[0m\u001b[0;34m\u001b[0m\u001b[0;34m\u001b[0m\u001b[0m\n\u001b[0m\u001b[1;32m     71\u001b[0m \u001b[0;34m\u001b[0m\u001b[0m\n\u001b[1;32m     72\u001b[0m \u001b[0;34m\u001b[0m\u001b[0m\n",
      "\u001b[0;32m~/software/anaconda2/envs/mito_trace/lib/python3.7/site-packages/pandas/core/ops/__init__.py\u001b[0m in \u001b[0;36mcolumn_op\u001b[0;34m(a, b)\u001b[0m\n\u001b[1;32m    568\u001b[0m \u001b[0;34m\u001b[0m\u001b[0m\n\u001b[1;32m    569\u001b[0m         \u001b[0;32mdef\u001b[0m \u001b[0mcolumn_op\u001b[0m\u001b[0;34m(\u001b[0m\u001b[0ma\u001b[0m\u001b[0;34m,\u001b[0m \u001b[0mb\u001b[0m\u001b[0;34m)\u001b[0m\u001b[0;34m:\u001b[0m\u001b[0;34m\u001b[0m\u001b[0;34m\u001b[0m\u001b[0m\n\u001b[0;32m--> 570\u001b[0;31m             \u001b[0;32mreturn\u001b[0m \u001b[0;34m{\u001b[0m\u001b[0mi\u001b[0m\u001b[0;34m:\u001b[0m \u001b[0mfunc\u001b[0m\u001b[0;34m(\u001b[0m\u001b[0ma\u001b[0m\u001b[0;34m.\u001b[0m\u001b[0miloc\u001b[0m\u001b[0;34m[\u001b[0m\u001b[0;34m:\u001b[0m\u001b[0;34m,\u001b[0m \u001b[0mi\u001b[0m\u001b[0;34m]\u001b[0m\u001b[0;34m,\u001b[0m \u001b[0mb\u001b[0m\u001b[0;34m)\u001b[0m \u001b[0;32mfor\u001b[0m \u001b[0mi\u001b[0m \u001b[0;32min\u001b[0m \u001b[0mrange\u001b[0m\u001b[0;34m(\u001b[0m\u001b[0mlen\u001b[0m\u001b[0;34m(\u001b[0m\u001b[0ma\u001b[0m\u001b[0;34m.\u001b[0m\u001b[0mcolumns\u001b[0m\u001b[0;34m)\u001b[0m\u001b[0;34m)\u001b[0m\u001b[0;34m}\u001b[0m\u001b[0;34m\u001b[0m\u001b[0;34m\u001b[0m\u001b[0m\n\u001b[0m\u001b[1;32m    571\u001b[0m \u001b[0;34m\u001b[0m\u001b[0m\n\u001b[1;32m    572\u001b[0m     \u001b[0;32melif\u001b[0m \u001b[0misinstance\u001b[0m\u001b[0;34m(\u001b[0m\u001b[0mright\u001b[0m\u001b[0;34m,\u001b[0m \u001b[0mABCDataFrame\u001b[0m\u001b[0;34m)\u001b[0m\u001b[0;34m:\u001b[0m\u001b[0;34m\u001b[0m\u001b[0;34m\u001b[0m\u001b[0m\n",
      "\u001b[0;32m~/software/anaconda2/envs/mito_trace/lib/python3.7/site-packages/pandas/core/ops/__init__.py\u001b[0m in \u001b[0;36m<dictcomp>\u001b[0;34m(.0)\u001b[0m\n\u001b[1;32m    568\u001b[0m \u001b[0;34m\u001b[0m\u001b[0m\n\u001b[1;32m    569\u001b[0m         \u001b[0;32mdef\u001b[0m \u001b[0mcolumn_op\u001b[0m\u001b[0;34m(\u001b[0m\u001b[0ma\u001b[0m\u001b[0;34m,\u001b[0m \u001b[0mb\u001b[0m\u001b[0;34m)\u001b[0m\u001b[0;34m:\u001b[0m\u001b[0;34m\u001b[0m\u001b[0;34m\u001b[0m\u001b[0m\n\u001b[0;32m--> 570\u001b[0;31m             \u001b[0;32mreturn\u001b[0m \u001b[0;34m{\u001b[0m\u001b[0mi\u001b[0m\u001b[0;34m:\u001b[0m \u001b[0mfunc\u001b[0m\u001b[0;34m(\u001b[0m\u001b[0ma\u001b[0m\u001b[0;34m.\u001b[0m\u001b[0miloc\u001b[0m\u001b[0;34m[\u001b[0m\u001b[0;34m:\u001b[0m\u001b[0;34m,\u001b[0m \u001b[0mi\u001b[0m\u001b[0;34m]\u001b[0m\u001b[0;34m,\u001b[0m \u001b[0mb\u001b[0m\u001b[0;34m)\u001b[0m \u001b[0;32mfor\u001b[0m \u001b[0mi\u001b[0m \u001b[0;32min\u001b[0m \u001b[0mrange\u001b[0m\u001b[0;34m(\u001b[0m\u001b[0mlen\u001b[0m\u001b[0;34m(\u001b[0m\u001b[0ma\u001b[0m\u001b[0;34m.\u001b[0m\u001b[0mcolumns\u001b[0m\u001b[0;34m)\u001b[0m\u001b[0;34m)\u001b[0m\u001b[0;34m}\u001b[0m\u001b[0;34m\u001b[0m\u001b[0;34m\u001b[0m\u001b[0m\n\u001b[0m\u001b[1;32m    571\u001b[0m \u001b[0;34m\u001b[0m\u001b[0m\n\u001b[1;32m    572\u001b[0m     \u001b[0;32melif\u001b[0m \u001b[0misinstance\u001b[0m\u001b[0;34m(\u001b[0m\u001b[0mright\u001b[0m\u001b[0;34m,\u001b[0m \u001b[0mABCDataFrame\u001b[0m\u001b[0;34m)\u001b[0m\u001b[0;34m:\u001b[0m\u001b[0;34m\u001b[0m\u001b[0;34m\u001b[0m\u001b[0m\n",
      "\u001b[0;32m~/software/anaconda2/envs/mito_trace/lib/python3.7/site-packages/pandas/core/ops/__init__.py\u001b[0m in \u001b[0;36mwrapper\u001b[0;34m(self, other, axis)\u001b[0m\n\u001b[1;32m   1227\u001b[0m \u001b[0;34m\u001b[0m\u001b[0m\n\u001b[1;32m   1228\u001b[0m             \u001b[0;32mwith\u001b[0m \u001b[0mnp\u001b[0m\u001b[0;34m.\u001b[0m\u001b[0merrstate\u001b[0m\u001b[0;34m(\u001b[0m\u001b[0mall\u001b[0m\u001b[0;34m=\u001b[0m\u001b[0;34m\"ignore\"\u001b[0m\u001b[0;34m)\u001b[0m\u001b[0;34m:\u001b[0m\u001b[0;34m\u001b[0m\u001b[0;34m\u001b[0m\u001b[0m\n\u001b[0;32m-> 1229\u001b[0;31m                 \u001b[0mres\u001b[0m \u001b[0;34m=\u001b[0m \u001b[0mna_op\u001b[0m\u001b[0;34m(\u001b[0m\u001b[0mvalues\u001b[0m\u001b[0;34m,\u001b[0m \u001b[0mother\u001b[0m\u001b[0;34m)\u001b[0m\u001b[0;34m\u001b[0m\u001b[0;34m\u001b[0m\u001b[0m\n\u001b[0m\u001b[1;32m   1230\u001b[0m             \u001b[0;32mif\u001b[0m \u001b[0mis_scalar\u001b[0m\u001b[0;34m(\u001b[0m\u001b[0mres\u001b[0m\u001b[0;34m)\u001b[0m\u001b[0;34m:\u001b[0m\u001b[0;34m\u001b[0m\u001b[0;34m\u001b[0m\u001b[0m\n\u001b[1;32m   1231\u001b[0m                 raise TypeError(\n",
      "\u001b[0;32m~/software/anaconda2/envs/mito_trace/lib/python3.7/site-packages/pandas/core/ops/__init__.py\u001b[0m in \u001b[0;36mna_op\u001b[0;34m(x, y)\u001b[0m\n\u001b[1;32m   1089\u001b[0m \u001b[0;34m\u001b[0m\u001b[0m\n\u001b[1;32m   1090\u001b[0m         \u001b[0;32mif\u001b[0m \u001b[0mis_object_dtype\u001b[0m\u001b[0;34m(\u001b[0m\u001b[0mx\u001b[0m\u001b[0;34m.\u001b[0m\u001b[0mdtype\u001b[0m\u001b[0;34m)\u001b[0m\u001b[0;34m:\u001b[0m\u001b[0;34m\u001b[0m\u001b[0;34m\u001b[0m\u001b[0m\n\u001b[0;32m-> 1091\u001b[0;31m             \u001b[0mresult\u001b[0m \u001b[0;34m=\u001b[0m \u001b[0m_comp_method_OBJECT_ARRAY\u001b[0m\u001b[0;34m(\u001b[0m\u001b[0mop\u001b[0m\u001b[0;34m,\u001b[0m \u001b[0mx\u001b[0m\u001b[0;34m,\u001b[0m \u001b[0my\u001b[0m\u001b[0;34m)\u001b[0m\u001b[0;34m\u001b[0m\u001b[0;34m\u001b[0m\u001b[0m\n\u001b[0m\u001b[1;32m   1092\u001b[0m \u001b[0;34m\u001b[0m\u001b[0m\n\u001b[1;32m   1093\u001b[0m         \u001b[0;32melif\u001b[0m \u001b[0mis_datetimelike_v_numeric\u001b[0m\u001b[0;34m(\u001b[0m\u001b[0mx\u001b[0m\u001b[0;34m,\u001b[0m \u001b[0my\u001b[0m\u001b[0;34m)\u001b[0m\u001b[0;34m:\u001b[0m\u001b[0;34m\u001b[0m\u001b[0;34m\u001b[0m\u001b[0m\n",
      "\u001b[0;32m~/software/anaconda2/envs/mito_trace/lib/python3.7/site-packages/pandas/core/ops/__init__.py\u001b[0m in \u001b[0;36m_comp_method_OBJECT_ARRAY\u001b[0;34m(op, x, y)\u001b[0m\n\u001b[1;32m   1067\u001b[0m         \u001b[0mresult\u001b[0m \u001b[0;34m=\u001b[0m \u001b[0mlibops\u001b[0m\u001b[0;34m.\u001b[0m\u001b[0mvec_compare\u001b[0m\u001b[0;34m(\u001b[0m\u001b[0mx\u001b[0m\u001b[0;34m,\u001b[0m \u001b[0my\u001b[0m\u001b[0;34m,\u001b[0m \u001b[0mop\u001b[0m\u001b[0;34m)\u001b[0m\u001b[0;34m\u001b[0m\u001b[0;34m\u001b[0m\u001b[0m\n\u001b[1;32m   1068\u001b[0m     \u001b[0;32melse\u001b[0m\u001b[0;34m:\u001b[0m\u001b[0;34m\u001b[0m\u001b[0;34m\u001b[0m\u001b[0m\n\u001b[0;32m-> 1069\u001b[0;31m         \u001b[0mresult\u001b[0m \u001b[0;34m=\u001b[0m \u001b[0mlibops\u001b[0m\u001b[0;34m.\u001b[0m\u001b[0mscalar_compare\u001b[0m\u001b[0;34m(\u001b[0m\u001b[0mx\u001b[0m\u001b[0;34m,\u001b[0m \u001b[0my\u001b[0m\u001b[0;34m,\u001b[0m \u001b[0mop\u001b[0m\u001b[0;34m)\u001b[0m\u001b[0;34m\u001b[0m\u001b[0;34m\u001b[0m\u001b[0m\n\u001b[0m\u001b[1;32m   1070\u001b[0m     \u001b[0;32mreturn\u001b[0m \u001b[0mresult\u001b[0m\u001b[0;34m\u001b[0m\u001b[0;34m\u001b[0m\u001b[0m\n\u001b[1;32m   1071\u001b[0m \u001b[0;34m\u001b[0m\u001b[0m\n",
      "\u001b[0;32mpandas/_libs/ops.pyx\u001b[0m in \u001b[0;36mpandas._libs.ops.scalar_compare\u001b[0;34m()\u001b[0m\n",
      "\u001b[0;31mTypeError\u001b[0m: '>' not supported between instances of 'str' and 'int'"
     ]
    }
   ],
   "source": [
    "chip_dist = (pd.merge(peaks_dense, chip_df[[\"ID\"]], left_index=True, right_index=True)>0).sum(axis=1)\n",
    "chip_dist"
   ]
  },
  {
   "cell_type": "code",
   "execution_count": null,
   "metadata": {},
   "outputs": [],
   "source": [
    "plt.hist(chip_dist"
   ]
  },
  {
   "cell_type": "code",
   "execution_count": 16,
   "metadata": {
    "ExecuteTime": {
     "end_time": "2021-02-03T09:04:17.919531Z",
     "start_time": "2021-02-03T09:04:15.280948Z"
    },
    "scrolled": true
   },
   "outputs": [
    {
     "data": {
      "text/plain": [
       "<matplotlib.axes._subplots.AxesSubplot at 0x7f168c79b1d0>"
      ]
     },
     "execution_count": 16,
     "metadata": {},
     "output_type": "execute_result"
    },
    {
     "data": {
      "image/png": "[encoded data removed]",
      "text/plain": [
       "<Figure size 432x288 with 1 Axes>"
      ]
     },
     "metadata": {
      "needs_background": "light"
     },
     "output_type": "display_data"
    }
   ],
   "source": [
    "sns.distplot(pd.merge(peaks_dense, chip_df[[\"ID\"]], left_index=True, right_index=True).set_index(\"ID\").sum(axis=1))"
   ]
  },
  {
   "cell_type": "markdown",
   "metadata": {},
   "source": [
    "## Look at how many T-cell annotated peaks (gene TRAC) were there and how many cells contained it"
   ]
  },
  {
   "cell_type": "code",
   "execution_count": 17,
   "metadata": {
    "ExecuteTime": {
     "end_time": "2021-02-03T09:04:18.035448Z",
     "start_time": "2021-02-03T09:04:17.932120Z"
    },
    "scrolled": true
   },
   "outputs": [
    {
     "data": {
      "text/html": [
       "<div>\n",
       "<style scoped>\n",
       "    .dataframe tbody tr th:only-of-type {\n",
       "        vertical-align: middle;\n",
       "    }\n",
       "\n",
       "    .dataframe tbody tr th {\n",
       "        vertical-align: top;\n",
       "    }\n",
       "\n",
       "    .dataframe thead th {\n",
       "        text-align: right;\n",
       "    }\n",
       "</style>\n",
       "<table border=\"1\" class=\"dataframe\">\n",
       "  <thead>\n",
       "    <tr style=\"text-align: right;\">\n",
       "      <th></th>\n",
       "      <th>peak</th>\n",
       "      <th>gene</th>\n",
       "      <th>distance</th>\n",
       "      <th>peak_type</th>\n",
       "    </tr>\n",
       "  </thead>\n",
       "  <tbody>\n",
       "    <tr>\n",
       "      <th>106644</th>\n",
       "      <td>chr14_22549907_22551963</td>\n",
       "      <td>TRAC</td>\n",
       "      <td>2402</td>\n",
       "      <td>distal</td>\n",
       "    </tr>\n",
       "    <tr>\n",
       "      <th>106645</th>\n",
       "      <td>chr14_22555210_22557756</td>\n",
       "      <td>TRAC</td>\n",
       "      <td>7705</td>\n",
       "      <td>distal</td>\n",
       "    </tr>\n",
       "    <tr>\n",
       "      <th>106646</th>\n",
       "      <td>chr14_22560663_22562367</td>\n",
       "      <td>TRAC</td>\n",
       "      <td>13158</td>\n",
       "      <td>distal</td>\n",
       "    </tr>\n",
       "  </tbody>\n",
       "</table>\n",
       "</div>"
      ],
      "text/plain": [
       "                           peak  gene distance peak_type\n",
       "106644  chr14_22549907_22551963  TRAC     2402    distal\n",
       "106645  chr14_22555210_22557756  TRAC     7705    distal\n",
       "106646  chr14_22560663_22562367  TRAC    13158    distal"
      ]
     },
     "execution_count": 17,
     "metadata": {},
     "output_type": "execute_result"
    }
   ],
   "source": [
    "peak_annotations[peak_annotations[\"gene\"] == \"TRAC\"]\n"
   ]
  },
  {
   "cell_type": "code",
   "execution_count": 18,
   "metadata": {
    "ExecuteTime": {
     "end_time": "2021-02-03T09:04:38.331354Z",
     "start_time": "2021-02-03T09:04:18.047423Z"
    }
   },
   "outputs": [],
   "source": [
    "trac_peaks = peaks_sparse_mtx[peaks_sparse_mtx[\"gene\"] == \"TRAC\"].groupby([\"Peak\", \"Cell\"]).size().reset_index().rename({0:\"Count\"},axis=1)"
   ]
  },
  {
   "cell_type": "code",
   "execution_count": 19,
   "metadata": {
    "ExecuteTime": {
     "end_time": "2021-02-03T09:04:38.387491Z",
     "start_time": "2021-02-03T09:04:38.343323Z"
    },
    "scrolled": true
   },
   "outputs": [
    {
     "name": "stdout",
     "output_type": "stream",
     "text": [
      "Number of cells for each peaks\n"
     ]
    },
    {
     "data": {
      "text/plain": [
       "Peak\n",
       "106645     274\n",
       "106646    1013\n",
       "106647     431\n",
       "dtype: int64"
      ]
     },
     "execution_count": 19,
     "metadata": {},
     "output_type": "execute_result"
    }
   ],
   "source": [
    "print(\"Number of cells for each peaks\")\n",
    "trac_peaks.groupby(\"Peak\").size()"
   ]
  },
  {
   "cell_type": "code",
   "execution_count": null,
   "metadata": {},
   "outputs": [],
   "source": []
  },
  {
   "cell_type": "code",
   "execution_count": 20,
   "metadata": {
    "ExecuteTime": {
     "end_time": "2021-02-03T09:04:38.547388Z",
     "start_time": "2021-02-03T09:04:38.397893Z"
    },
    "scrolled": false
   },
   "outputs": [
    {
     "name": "stdout",
     "output_type": "stream",
     "text": [
      "Number of cells with at least one peak\n",
      "Peak\n",
      "106645     274\n",
      "106646    1013\n",
      "106647     431\n",
      "dtype: int64\n",
      "\n",
      "\n",
      "Number Cells with at least one peak annotated as TRAC:\n",
      "1603\n"
     ]
    }
   ],
   "source": [
    "print(\"Number of cells with at least one peak\")\n",
    "print(trac_peaks.groupby(\"Peak\").size())\n",
    "print(\"\\n\")\n",
    "print(\"Number Cells with at least one peak annotated as TRAC:\")\n",
    "print((trac_peaks.pivot(\"Cell\", columns=\"Peak\").fillna(0)>0).any(axis=1).sum())"
   ]
  }
 ],
 "metadata": {
  "celltoolbar": "Tags",
  "kernelspec": {
   "display_name": "Python 2",
   "language": "python",
   "name": "python2"
  },
  "language_info": {
   "codemirror_mode": {
    "name": "ipython",
    "version": 3
   },
   "file_extension": ".py",
   "mimetype": "text/x-python",
   "name": "python",
   "nbconvert_exporter": "python",
   "pygments_lexer": "ipython3",
   "version": "3.7.3"
  }
 },
 "nbformat": 4,
 "nbformat_minor": 1
}
