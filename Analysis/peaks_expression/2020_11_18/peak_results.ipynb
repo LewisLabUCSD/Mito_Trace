{
 "cells": [
  {
   "cell_type": "code",
   "execution_count": 18,
   "metadata": {
    "ExecuteTime": {
     "end_time": "2021-02-03T07:10:49.929487Z",
     "start_time": "2021-02-03T07:10:48.734254Z"
    }
   },
   "outputs": [
    {
     "data": {
      "text/plain": [
       "'/data2/mito_lineage/Analysis/peaks_expression/2020_11_18'"
      ]
     },
     "execution_count": 18,
     "metadata": {},
     "output_type": "execute_result"
    }
   ],
   "source": [
    "pwd"
   ]
  },
  {
   "cell_type": "code",
   "execution_count": 2,
   "metadata": {
    "ExecuteTime": {
     "end_time": "2021-01-15T22:43:10.356692Z",
     "start_time": "2021-01-15T22:43:10.351615Z"
    },
    "tags": [
     "parameters"
    ]
   },
   "outputs": [],
   "source": [
    "config_f = \"config.yaml\""
   ]
  },
  {
   "cell_type": "code",
   "execution_count": 3,
   "metadata": {
    "ExecuteTime": {
     "end_time": "2021-01-15T22:43:11.233033Z",
     "start_time": "2021-01-15T22:43:10.371426Z"
    }
   },
   "outputs": [],
   "source": [
    "from src.utils.parse_config import read_config_file\n",
    "from os.path import join, dirname\n",
    "import pandas as pd\n",
    "from glob import glob\n",
    "config = read_config_file(config_f)\n",
    "import seaborn as sns\n",
    "import numpy as np\n",
    "import matplotlib.pyplot as plt\n"
   ]
  },
  {
   "cell_type": "markdown",
   "metadata": {},
   "source": [
    "### Load:\n",
    "1. Raw cells barcode w qc info\n",
    "2. filtered cells barcode list\n",
    "3. Peak-by-cell sparse matrix\n",
    "4. Peak gene annotations \n",
    "5. Graph clustering filtered cells cluster label\n",
    "6. TF-by-cell sparse count matrix\n",
    "7. TF labels"
   ]
  },
  {
   "cell_type": "code",
   "execution_count": 4,
   "metadata": {
    "ExecuteTime": {
     "end_time": "2021-01-15T22:43:12.715951Z",
     "start_time": "2021-01-15T22:43:11.235772Z"
    },
    "scrolled": true
   },
   "outputs": [
    {
     "data": {
      "image/png": "[encoded data removed]",
      "text/plain": [
       "<Figure size 432x288 with 1 Axes>"
      ]
     },
     "metadata": {
      "needs_background": "light"
     },
     "output_type": "display_data"
    }
   ],
   "source": [
    "curr_in = join(config[\"indir\"], config['samples'][0], 'outs')\n",
    "\n",
    "### Create 1-based cell barcode index \n",
    "\n",
    "cells = pd.read_csv(join(curr_in,\"singlecell.csv\"))\n",
    "cells\n",
    "\n",
    "good_cells = cells[~(cells[\"cell_id\"]==\"None\")].copy()\n",
    "good_cells[\"ID\"] = np.arange(1,len(good_cells)+1)\n",
    "good_cells\n",
    "\n",
    "cell_inds = pd.read_csv(join(curr_in, \"filtered_peak_bc_matrix\",\"barcodes.tsv\"),header=None)\n",
    "cell_inds\n",
    "\n",
    "## Load peak annotations\n",
    "\n",
    "peak_annotations = pd.read_csv(join(config[\"indir\"], config['samples'][0], 'outs','peak_annotation.tsv'),sep='\\t')\n",
    "peak_annotations\n",
    "\n",
    "\n",
    "### Load clusters\n",
    "\n",
    "cluster_f = glob(join(config[\"indir\"], config['samples'][0], 'outs','analysis',\"clustering\", \"graphclust\",\"clusters.csv\"))\n",
    "clusters_df = pd.read_csv(cluster_f[0])\n",
    "clusters_df\n",
    "\n",
    "%matplotlib inline\n",
    "sns.countplot(clusters_df[\"Cluster\"])\n",
    "plt.title(\"Cell cluster membership distribution\")\n",
    "plt.ylabel(\"Number of cells in cluster\")\n",
    "plt.xlabel(\"Cluster\")\n",
    "## Load peaks matrix\n",
    "\n",
    "filename = join(config['indir'],config['samples'][0],'outs','filtered_peak_bc_matrix/matrix.mtx')\n",
    "peaks_sparse_mtx = pd.read_csv(filename,sep=' ',skiprows=2, header=None).iloc[1:]\n",
    "peaks_sparse_mtx.columns = [\"Peak\", \"Cell\", \"Count\"]"
   ]
  },
  {
   "cell_type": "code",
   "execution_count": 39,
   "metadata": {
    "ExecuteTime": {
     "end_time": "2021-01-15T23:04:06.881853Z",
     "start_time": "2021-01-15T23:04:06.861739Z"
    }
   },
   "outputs": [
    {
     "data": {
      "text/html": [
       "<div>\n",
       "<style scoped>\n",
       "    .dataframe tbody tr th:only-of-type {\n",
       "        vertical-align: middle;\n",
       "    }\n",
       "\n",
       "    .dataframe tbody tr th {\n",
       "        vertical-align: top;\n",
       "    }\n",
       "\n",
       "    .dataframe thead th {\n",
       "        text-align: right;\n",
       "    }\n",
       "</style>\n",
       "<table border=\"1\" class=\"dataframe\">\n",
       "  <thead>\n",
       "    <tr style=\"text-align: right;\">\n",
       "      <th></th>\n",
       "      <th>0</th>\n",
       "    </tr>\n",
       "  </thead>\n",
       "  <tbody>\n",
       "    <tr>\n",
       "      <th>0</th>\n",
       "      <td>AAACGAAGTGTCCCAG-1</td>\n",
       "    </tr>\n",
       "    <tr>\n",
       "      <th>1</th>\n",
       "      <td>AAACTGCGTAGCGTTT-1</td>\n",
       "    </tr>\n",
       "    <tr>\n",
       "      <th>2</th>\n",
       "      <td>AAAGATGAGTCCGGAA-1</td>\n",
       "    </tr>\n",
       "    <tr>\n",
       "      <th>3</th>\n",
       "      <td>AAAGATGCAGGGCTTC-1</td>\n",
       "    </tr>\n",
       "    <tr>\n",
       "      <th>4</th>\n",
       "      <td>AAAGATGCATGTGGGA-1</td>\n",
       "    </tr>\n",
       "    <tr>\n",
       "      <th>...</th>\n",
       "      <td>...</td>\n",
       "    </tr>\n",
       "    <tr>\n",
       "      <th>738</th>\n",
       "      <td>TTTGAGGGTTTGTAGC-1</td>\n",
       "    </tr>\n",
       "    <tr>\n",
       "      <th>739</th>\n",
       "      <td>TTTGCGCCAACTCGAT-1</td>\n",
       "    </tr>\n",
       "    <tr>\n",
       "      <th>740</th>\n",
       "      <td>TTTGGCCCACCGAAAG-1</td>\n",
       "    </tr>\n",
       "    <tr>\n",
       "      <th>741</th>\n",
       "      <td>TTTGGTTTCTACATCT-1</td>\n",
       "    </tr>\n",
       "    <tr>\n",
       "      <th>742</th>\n",
       "      <td>TTTGTGTGTGCGTCCA-1</td>\n",
       "    </tr>\n",
       "  </tbody>\n",
       "</table>\n",
       "<p>743 rows × 1 columns</p>\n",
       "</div>"
      ],
      "text/plain": [
       "                      0\n",
       "0    AAACGAAGTGTCCCAG-1\n",
       "1    AAACTGCGTAGCGTTT-1\n",
       "2    AAAGATGAGTCCGGAA-1\n",
       "3    AAAGATGCAGGGCTTC-1\n",
       "4    AAAGATGCATGTGGGA-1\n",
       "..                  ...\n",
       "738  TTTGAGGGTTTGTAGC-1\n",
       "739  TTTGCGCCAACTCGAT-1\n",
       "740  TTTGGCCCACCGAAAG-1\n",
       "741  TTTGGTTTCTACATCT-1\n",
       "742  TTTGTGTGTGCGTCCA-1\n",
       "\n",
       "[743 rows x 1 columns]"
      ]
     },
     "execution_count": 39,
     "metadata": {},
     "output_type": "execute_result"
    }
   ],
   "source": [
    "cell_inds"
   ]
  },
  {
   "cell_type": "code",
   "execution_count": 5,
   "metadata": {
    "ExecuteTime": {
     "end_time": "2021-01-15T22:43:12.727512Z",
     "start_time": "2021-01-15T22:43:12.718704Z"
    }
   },
   "outputs": [
    {
     "data": {
      "text/html": [
       "<div>\n",
       "<style scoped>\n",
       "    .dataframe tbody tr th:only-of-type {\n",
       "        vertical-align: middle;\n",
       "    }\n",
       "\n",
       "    .dataframe tbody tr th {\n",
       "        vertical-align: top;\n",
       "    }\n",
       "\n",
       "    .dataframe thead th {\n",
       "        text-align: right;\n",
       "    }\n",
       "</style>\n",
       "<table border=\"1\" class=\"dataframe\">\n",
       "  <thead>\n",
       "    <tr style=\"text-align: right;\">\n",
       "      <th></th>\n",
       "      <th>Barcode</th>\n",
       "      <th>Cluster</th>\n",
       "    </tr>\n",
       "  </thead>\n",
       "  <tbody>\n",
       "    <tr>\n",
       "      <th>0</th>\n",
       "      <td>AAACGAAGTGTCCCAG-1</td>\n",
       "      <td>1</td>\n",
       "    </tr>\n",
       "    <tr>\n",
       "      <th>1</th>\n",
       "      <td>AAACTGCGTAGCGTTT-1</td>\n",
       "      <td>2</td>\n",
       "    </tr>\n",
       "    <tr>\n",
       "      <th>2</th>\n",
       "      <td>AAAGATGAGTCCGGAA-1</td>\n",
       "      <td>1</td>\n",
       "    </tr>\n",
       "    <tr>\n",
       "      <th>3</th>\n",
       "      <td>AAAGATGCAGGGCTTC-1</td>\n",
       "      <td>2</td>\n",
       "    </tr>\n",
       "    <tr>\n",
       "      <th>4</th>\n",
       "      <td>AAAGATGCATGTGGGA-1</td>\n",
       "      <td>2</td>\n",
       "    </tr>\n",
       "  </tbody>\n",
       "</table>\n",
       "</div>"
      ],
      "text/plain": [
       "              Barcode  Cluster\n",
       "0  AAACGAAGTGTCCCAG-1        1\n",
       "1  AAACTGCGTAGCGTTT-1        2\n",
       "2  AAAGATGAGTCCGGAA-1        1\n",
       "3  AAAGATGCAGGGCTTC-1        2\n",
       "4  AAAGATGCATGTGGGA-1        2"
      ]
     },
     "execution_count": 5,
     "metadata": {},
     "output_type": "execute_result"
    }
   ],
   "source": [
    "clusters_df.head()"
   ]
  },
  {
   "cell_type": "code",
   "execution_count": 6,
   "metadata": {
    "ExecuteTime": {
     "end_time": "2021-01-15T22:43:12.740012Z",
     "start_time": "2021-01-15T22:43:12.730154Z"
    },
    "scrolled": true
   },
   "outputs": [
    {
     "data": {
      "text/html": [
       "<div>\n",
       "<style scoped>\n",
       "    .dataframe tbody tr th:only-of-type {\n",
       "        vertical-align: middle;\n",
       "    }\n",
       "\n",
       "    .dataframe tbody tr th {\n",
       "        vertical-align: top;\n",
       "    }\n",
       "\n",
       "    .dataframe thead th {\n",
       "        text-align: right;\n",
       "    }\n",
       "</style>\n",
       "<table border=\"1\" class=\"dataframe\">\n",
       "  <thead>\n",
       "    <tr style=\"text-align: right;\">\n",
       "      <th></th>\n",
       "      <th>Peak</th>\n",
       "      <th>Cell</th>\n",
       "      <th>Count</th>\n",
       "    </tr>\n",
       "  </thead>\n",
       "  <tbody>\n",
       "    <tr>\n",
       "      <th>1</th>\n",
       "      <td>65796</td>\n",
       "      <td>1</td>\n",
       "      <td>2</td>\n",
       "    </tr>\n",
       "    <tr>\n",
       "      <th>2</th>\n",
       "      <td>65765</td>\n",
       "      <td>1</td>\n",
       "      <td>2</td>\n",
       "    </tr>\n",
       "    <tr>\n",
       "      <th>3</th>\n",
       "      <td>65672</td>\n",
       "      <td>1</td>\n",
       "      <td>2</td>\n",
       "    </tr>\n",
       "    <tr>\n",
       "      <th>4</th>\n",
       "      <td>65649</td>\n",
       "      <td>1</td>\n",
       "      <td>4</td>\n",
       "    </tr>\n",
       "    <tr>\n",
       "      <th>5</th>\n",
       "      <td>65425</td>\n",
       "      <td>1</td>\n",
       "      <td>1</td>\n",
       "    </tr>\n",
       "    <tr>\n",
       "      <th>...</th>\n",
       "      <td>...</td>\n",
       "      <td>...</td>\n",
       "      <td>...</td>\n",
       "    </tr>\n",
       "    <tr>\n",
       "      <th>2076830</th>\n",
       "      <td>49</td>\n",
       "      <td>743</td>\n",
       "      <td>2</td>\n",
       "    </tr>\n",
       "    <tr>\n",
       "      <th>2076831</th>\n",
       "      <td>47</td>\n",
       "      <td>743</td>\n",
       "      <td>2</td>\n",
       "    </tr>\n",
       "    <tr>\n",
       "      <th>2076832</th>\n",
       "      <td>46</td>\n",
       "      <td>743</td>\n",
       "      <td>4</td>\n",
       "    </tr>\n",
       "    <tr>\n",
       "      <th>2076833</th>\n",
       "      <td>16</td>\n",
       "      <td>743</td>\n",
       "      <td>4</td>\n",
       "    </tr>\n",
       "    <tr>\n",
       "      <th>2076834</th>\n",
       "      <td>14</td>\n",
       "      <td>743</td>\n",
       "      <td>1</td>\n",
       "    </tr>\n",
       "  </tbody>\n",
       "</table>\n",
       "<p>2076834 rows × 3 columns</p>\n",
       "</div>"
      ],
      "text/plain": [
       "          Peak  Cell  Count\n",
       "1        65796     1      2\n",
       "2        65765     1      2\n",
       "3        65672     1      2\n",
       "4        65649     1      4\n",
       "5        65425     1      1\n",
       "...        ...   ...    ...\n",
       "2076830     49   743      2\n",
       "2076831     47   743      2\n",
       "2076832     46   743      4\n",
       "2076833     16   743      4\n",
       "2076834     14   743      1\n",
       "\n",
       "[2076834 rows x 3 columns]"
      ]
     },
     "execution_count": 6,
     "metadata": {},
     "output_type": "execute_result"
    }
   ],
   "source": [
    "peaks_sparse_mtx"
   ]
  },
  {
   "cell_type": "markdown",
   "metadata": {},
   "source": [
    "# Annotate peak count matrix with gene name"
   ]
  },
  {
   "cell_type": "code",
   "execution_count": 7,
   "metadata": {
    "ExecuteTime": {
     "end_time": "2021-01-15T22:43:37.074830Z",
     "start_time": "2021-01-15T22:43:12.741828Z"
    },
    "scrolled": true
   },
   "outputs": [
    {
     "data": {
      "text/html": [
       "<div>\n",
       "<style scoped>\n",
       "    .dataframe tbody tr th:only-of-type {\n",
       "        vertical-align: middle;\n",
       "    }\n",
       "\n",
       "    .dataframe tbody tr th {\n",
       "        vertical-align: top;\n",
       "    }\n",
       "\n",
       "    .dataframe thead th {\n",
       "        text-align: right;\n",
       "    }\n",
       "</style>\n",
       "<table border=\"1\" class=\"dataframe\">\n",
       "  <thead>\n",
       "    <tr style=\"text-align: right;\">\n",
       "      <th></th>\n",
       "      <th>Peak</th>\n",
       "      <th>Cell</th>\n",
       "      <th>Count</th>\n",
       "      <th>Cluster</th>\n",
       "    </tr>\n",
       "  </thead>\n",
       "  <tbody>\n",
       "    <tr>\n",
       "      <th>1</th>\n",
       "      <td>65796</td>\n",
       "      <td>1</td>\n",
       "      <td>2</td>\n",
       "      <td>1</td>\n",
       "    </tr>\n",
       "    <tr>\n",
       "      <th>2</th>\n",
       "      <td>65765</td>\n",
       "      <td>1</td>\n",
       "      <td>2</td>\n",
       "      <td>1</td>\n",
       "    </tr>\n",
       "    <tr>\n",
       "      <th>3</th>\n",
       "      <td>65672</td>\n",
       "      <td>1</td>\n",
       "      <td>2</td>\n",
       "      <td>1</td>\n",
       "    </tr>\n",
       "    <tr>\n",
       "      <th>4</th>\n",
       "      <td>65649</td>\n",
       "      <td>1</td>\n",
       "      <td>4</td>\n",
       "      <td>1</td>\n",
       "    </tr>\n",
       "    <tr>\n",
       "      <th>5</th>\n",
       "      <td>65425</td>\n",
       "      <td>1</td>\n",
       "      <td>1</td>\n",
       "      <td>1</td>\n",
       "    </tr>\n",
       "    <tr>\n",
       "      <th>...</th>\n",
       "      <td>...</td>\n",
       "      <td>...</td>\n",
       "      <td>...</td>\n",
       "      <td>...</td>\n",
       "    </tr>\n",
       "    <tr>\n",
       "      <th>2076830</th>\n",
       "      <td>49</td>\n",
       "      <td>743</td>\n",
       "      <td>2</td>\n",
       "      <td>1</td>\n",
       "    </tr>\n",
       "    <tr>\n",
       "      <th>2076831</th>\n",
       "      <td>47</td>\n",
       "      <td>743</td>\n",
       "      <td>2</td>\n",
       "      <td>1</td>\n",
       "    </tr>\n",
       "    <tr>\n",
       "      <th>2076832</th>\n",
       "      <td>46</td>\n",
       "      <td>743</td>\n",
       "      <td>4</td>\n",
       "      <td>1</td>\n",
       "    </tr>\n",
       "    <tr>\n",
       "      <th>2076833</th>\n",
       "      <td>16</td>\n",
       "      <td>743</td>\n",
       "      <td>4</td>\n",
       "      <td>1</td>\n",
       "    </tr>\n",
       "    <tr>\n",
       "      <th>2076834</th>\n",
       "      <td>14</td>\n",
       "      <td>743</td>\n",
       "      <td>1</td>\n",
       "      <td>1</td>\n",
       "    </tr>\n",
       "  </tbody>\n",
       "</table>\n",
       "<p>2076834 rows × 4 columns</p>\n",
       "</div>"
      ],
      "text/plain": [
       "          Peak  Cell  Count  Cluster\n",
       "1        65796     1      2        1\n",
       "2        65765     1      2        1\n",
       "3        65672     1      2        1\n",
       "4        65649     1      4        1\n",
       "5        65425     1      1        1\n",
       "...        ...   ...    ...      ...\n",
       "2076830     49   743      2        1\n",
       "2076831     47   743      2        1\n",
       "2076832     46   743      4        1\n",
       "2076833     16   743      4        1\n",
       "2076834     14   743      1        1\n",
       "\n",
       "[2076834 rows x 4 columns]"
      ]
     },
     "execution_count": 7,
     "metadata": {},
     "output_type": "execute_result"
    }
   ],
   "source": [
    "peaks_sparse_mtx[\"Cluster\"] = peaks_sparse_mtx[\"Cell\"].apply(lambda x: clusters_df.loc[x-1,\"Cluster\"])\n",
    "peaks_sparse_mtx"
   ]
  },
  {
   "cell_type": "code",
   "execution_count": 8,
   "metadata": {
    "ExecuteTime": {
     "end_time": "2021-01-15T22:44:00.744759Z",
     "start_time": "2021-01-15T22:43:37.077857Z"
    },
    "scrolled": true
   },
   "outputs": [],
   "source": [
    "peaks_sparse_mtx[\"gene\"] = peaks_sparse_mtx[\"Peak\"].apply(lambda x: peak_annotations.loc[x-1,\"gene\"])"
   ]
  },
  {
   "cell_type": "code",
   "execution_count": 9,
   "metadata": {
    "ExecuteTime": {
     "end_time": "2021-01-15T22:44:00.760017Z",
     "start_time": "2021-01-15T22:44:00.747058Z"
    }
   },
   "outputs": [
    {
     "data": {
      "text/html": [
       "<div>\n",
       "<style scoped>\n",
       "    .dataframe tbody tr th:only-of-type {\n",
       "        vertical-align: middle;\n",
       "    }\n",
       "\n",
       "    .dataframe tbody tr th {\n",
       "        vertical-align: top;\n",
       "    }\n",
       "\n",
       "    .dataframe thead th {\n",
       "        text-align: right;\n",
       "    }\n",
       "</style>\n",
       "<table border=\"1\" class=\"dataframe\">\n",
       "  <thead>\n",
       "    <tr style=\"text-align: right;\">\n",
       "      <th></th>\n",
       "      <th>Peak</th>\n",
       "      <th>Cell</th>\n",
       "      <th>Count</th>\n",
       "      <th>Cluster</th>\n",
       "      <th>gene</th>\n",
       "    </tr>\n",
       "  </thead>\n",
       "  <tbody>\n",
       "    <tr>\n",
       "      <th>1</th>\n",
       "      <td>65796</td>\n",
       "      <td>1</td>\n",
       "      <td>2</td>\n",
       "      <td>1</td>\n",
       "      <td>VAMP7</td>\n",
       "    </tr>\n",
       "    <tr>\n",
       "      <th>2</th>\n",
       "      <td>65765</td>\n",
       "      <td>1</td>\n",
       "      <td>2</td>\n",
       "      <td>1</td>\n",
       "      <td>LAGE3</td>\n",
       "    </tr>\n",
       "    <tr>\n",
       "      <th>3</th>\n",
       "      <td>65672</td>\n",
       "      <td>1</td>\n",
       "      <td>2</td>\n",
       "      <td>1</td>\n",
       "      <td>CXorf40B</td>\n",
       "    </tr>\n",
       "    <tr>\n",
       "      <th>4</th>\n",
       "      <td>65649</td>\n",
       "      <td>1</td>\n",
       "      <td>4</td>\n",
       "      <td>1</td>\n",
       "      <td>AFF2</td>\n",
       "    </tr>\n",
       "    <tr>\n",
       "      <th>5</th>\n",
       "      <td>65425</td>\n",
       "      <td>1</td>\n",
       "      <td>1</td>\n",
       "      <td>1</td>\n",
       "      <td>SASH3;XPNPEP2</td>\n",
       "    </tr>\n",
       "    <tr>\n",
       "      <th>...</th>\n",
       "      <td>...</td>\n",
       "      <td>...</td>\n",
       "      <td>...</td>\n",
       "      <td>...</td>\n",
       "      <td>...</td>\n",
       "    </tr>\n",
       "    <tr>\n",
       "      <th>2076830</th>\n",
       "      <td>49</td>\n",
       "      <td>743</td>\n",
       "      <td>2</td>\n",
       "      <td>1</td>\n",
       "      <td>SLC35E2B</td>\n",
       "    </tr>\n",
       "    <tr>\n",
       "      <th>2076831</th>\n",
       "      <td>47</td>\n",
       "      <td>743</td>\n",
       "      <td>2</td>\n",
       "      <td>1</td>\n",
       "      <td>MIB2;MMP23B</td>\n",
       "    </tr>\n",
       "    <tr>\n",
       "      <th>2076832</th>\n",
       "      <td>46</td>\n",
       "      <td>743</td>\n",
       "      <td>4</td>\n",
       "      <td>1</td>\n",
       "      <td>MIB2</td>\n",
       "    </tr>\n",
       "    <tr>\n",
       "      <th>2076833</th>\n",
       "      <td>16</td>\n",
       "      <td>743</td>\n",
       "      <td>4</td>\n",
       "      <td>1</td>\n",
       "      <td>AGRN</td>\n",
       "    </tr>\n",
       "    <tr>\n",
       "      <th>2076834</th>\n",
       "      <td>14</td>\n",
       "      <td>743</td>\n",
       "      <td>1</td>\n",
       "      <td>1</td>\n",
       "      <td>ISG15</td>\n",
       "    </tr>\n",
       "  </tbody>\n",
       "</table>\n",
       "<p>2076834 rows × 5 columns</p>\n",
       "</div>"
      ],
      "text/plain": [
       "          Peak  Cell  Count  Cluster           gene\n",
       "1        65796     1      2        1          VAMP7\n",
       "2        65765     1      2        1          LAGE3\n",
       "3        65672     1      2        1       CXorf40B\n",
       "4        65649     1      4        1           AFF2\n",
       "5        65425     1      1        1  SASH3;XPNPEP2\n",
       "...        ...   ...    ...      ...            ...\n",
       "2076830     49   743      2        1       SLC35E2B\n",
       "2076831     47   743      2        1    MIB2;MMP23B\n",
       "2076832     46   743      4        1           MIB2\n",
       "2076833     16   743      4        1           AGRN\n",
       "2076834     14   743      1        1          ISG15\n",
       "\n",
       "[2076834 rows x 5 columns]"
      ]
     },
     "execution_count": 9,
     "metadata": {},
     "output_type": "execute_result"
    }
   ],
   "source": [
    "peaks_sparse_mtx"
   ]
  },
  {
   "cell_type": "markdown",
   "metadata": {},
   "source": [
    "## See the number of cells within a peak and number of peaks within a cell."
   ]
  },
  {
   "cell_type": "code",
   "execution_count": 29,
   "metadata": {
    "ExecuteTime": {
     "end_time": "2021-01-15T22:56:54.842389Z",
     "start_time": "2021-01-15T22:56:52.700941Z"
    },
    "scrolled": true
   },
   "outputs": [
    {
     "name": "stdout",
     "output_type": "stream",
     "text": [
      "Cell\n",
      "1      1692\n",
      "2      4168\n",
      "3       973\n",
      "4      1020\n",
      "5      1256\n",
      "       ... \n",
      "739    2691\n",
      "740      58\n",
      "741    1829\n",
      "742      72\n",
      "743    3395\n",
      "Length: 743, dtype: int64\n"
     ]
    }
   ],
   "source": [
    "peaks_dense = peaks_sparse_mtx.pivot(index=\"Peak\", columns=\"Cell\",values=\"Count\").fillna(0)\n",
    "print((peaks_dense>0).sum())"
   ]
  },
  {
   "cell_type": "code",
   "execution_count": 30,
   "metadata": {
    "ExecuteTime": {
     "end_time": "2021-01-15T22:56:58.668707Z",
     "start_time": "2021-01-15T22:56:58.026913Z"
    }
   },
   "outputs": [
    {
     "data": {
      "text/plain": [
       "Text(0.5, 1.0, 'Distribution of number of peaks seen in a cell across all cells')"
      ]
     },
     "execution_count": 30,
     "metadata": {},
     "output_type": "execute_result"
    },
    {
     "data": {
      "image/png": "[encoded data removed]",
      "text/plain": [
       "<Figure size 432x288 with 1 Axes>"
      ]
     },
     "metadata": {
      "needs_background": "light"
     },
     "output_type": "display_data"
    }
   ],
   "source": [
    "sns.distplot((peaks_dense>0).sum(axis=0))\n",
    "plt.title(\"Distribution of number of peaks seen in a cell across all cells\")"
   ]
  },
  {
   "cell_type": "code",
   "execution_count": 31,
   "metadata": {
    "ExecuteTime": {
     "end_time": "2021-01-15T22:57:01.273429Z",
     "start_time": "2021-01-15T22:57:00.564310Z"
    },
    "scrolled": true
   },
   "outputs": [
    {
     "data": {
      "text/plain": [
       "Text(0.5, 1.0, 'Distribution of the number of cells seen in a peak across all peaks')"
      ]
     },
     "execution_count": 31,
     "metadata": {},
     "output_type": "execute_result"
    },
    {
     "data": {
      "image/png": "[encoded data removed]",
      "text/plain": [
       "<Figure size 432x288 with 1 Axes>"
      ]
     },
     "metadata": {
      "needs_background": "light"
     },
     "output_type": "display_data"
    }
   ],
   "source": [
    "sns.distplot((peaks_dense>0).sum(axis=1))\n",
    "plt.title(\"Distribution of the number of cells seen in a peak across all peaks\")"
   ]
  },
  {
   "cell_type": "markdown",
   "metadata": {},
   "source": [
    "## Look at CHIP mutations\n",
    "- TP53\n",
    "- U2AF1\n",
    "- SF3B1\n",
    "- SRSF2\n",
    "- TET2\n",
    "- IDH1\n",
    "- IDH2  \n",
    "TP53 and the splicing factor U2AF1 conferred the highest risk of AML development with hazard ratios of 12.5 and 7.9, respectively.16 This contrasts with hazard ratios for DNMT3A and TET2 of 1.4 and 1.6, respectively. In the study by Desai et al, mutations of TP53 and spliceosome genes (U2AF1, SF3B1,or SRSF2) also conferred a higher risk of AML development, with odds ratios of 47.2 and 7.4, respectively.17\n",
    "They also identified IDH1, IDH2, and RUNX1 with PHF6 mutations as high-risk mutations. Re- markably, in this study, all persons with TP53 mutations (n 5 21) or IDH1/2 mutations (n 5 15) developed AML a median of 5 to 6 years from CH sampling."
   ]
  },
  {
   "cell_type": "code",
   "execution_count": 32,
   "metadata": {
    "ExecuteTime": {
     "end_time": "2021-01-15T22:57:03.332293Z",
     "start_time": "2021-01-15T22:57:03.326022Z"
    }
   },
   "outputs": [],
   "source": [
    "chip_genes = [\"TP53\", \"U2AF1\", \"SF3B1\", \"SRSF2\", \"TET2\", \"IDH1\", \"IDH2\"]"
   ]
  },
  {
   "cell_type": "code",
   "execution_count": 33,
   "metadata": {
    "ExecuteTime": {
     "end_time": "2021-01-15T22:57:04.847508Z",
     "start_time": "2021-01-15T22:57:04.814190Z"
    },
    "scrolled": true
   },
   "outputs": [
    {
     "name": "stderr",
     "output_type": "stream",
     "text": [
      "/home/isshamie/software/anaconda2/envs/mito_trace/lib/python3.7/site-packages/ipykernel_launcher.py:3: SettingWithCopyWarning: \n",
      "A value is trying to be set on a copy of a slice from a DataFrame.\n",
      "Try using .loc[row_indexer,col_indexer] = value instead\n",
      "\n",
      "See the caveats in the documentation: http://pandas.pydata.org/pandas-docs/stable/user_guide/indexing.html#returning-a-view-versus-a-copy\n",
      "  This is separate from the ipykernel package so we can avoid doing imports until\n"
     ]
    },
    {
     "data": {
      "text/html": [
       "<div>\n",
       "<style scoped>\n",
       "    .dataframe tbody tr th:only-of-type {\n",
       "        vertical-align: middle;\n",
       "    }\n",
       "\n",
       "    .dataframe tbody tr th {\n",
       "        vertical-align: top;\n",
       "    }\n",
       "\n",
       "    .dataframe thead th {\n",
       "        text-align: right;\n",
       "    }\n",
       "</style>\n",
       "<table border=\"1\" class=\"dataframe\">\n",
       "  <thead>\n",
       "    <tr style=\"text-align: right;\">\n",
       "      <th></th>\n",
       "      <th>peak</th>\n",
       "      <th>gene</th>\n",
       "      <th>distance</th>\n",
       "      <th>peak_type</th>\n",
       "      <th>ID</th>\n",
       "    </tr>\n",
       "  </thead>\n",
       "  <tbody>\n",
       "    <tr>\n",
       "      <th>10916</th>\n",
       "      <td>chr2_197434412_197435520</td>\n",
       "      <td>SF3B1</td>\n",
       "      <td>0</td>\n",
       "      <td>promoter</td>\n",
       "      <td>SF3B1_promoter_0</td>\n",
       "    </tr>\n",
       "    <tr>\n",
       "      <th>10917</th>\n",
       "      <td>chr2_197442667_197442850</td>\n",
       "      <td>SF3B1</td>\n",
       "      <td>-7577</td>\n",
       "      <td>distal</td>\n",
       "      <td>SF3B1_distal_-7577</td>\n",
       "    </tr>\n",
       "    <tr>\n",
       "      <th>11221</th>\n",
       "      <td>chr2_208254235_208255725</td>\n",
       "      <td>IDH1</td>\n",
       "      <td>0</td>\n",
       "      <td>promoter</td>\n",
       "      <td>IDH1_promoter_0</td>\n",
       "    </tr>\n",
       "    <tr>\n",
       "      <th>18383</th>\n",
       "      <td>chr4_104966594_104967100</td>\n",
       "      <td>TET2</td>\n",
       "      <td>-178775</td>\n",
       "      <td>distal</td>\n",
       "      <td>TET2_distal_-178775</td>\n",
       "    </tr>\n",
       "    <tr>\n",
       "      <th>18384</th>\n",
       "      <td>chr4_105057347_105058186</td>\n",
       "      <td>TET2</td>\n",
       "      <td>-87689</td>\n",
       "      <td>distal</td>\n",
       "      <td>TET2_distal_-87689</td>\n",
       "    </tr>\n",
       "    <tr>\n",
       "      <th>18385</th>\n",
       "      <td>chr4_105059241_105059853</td>\n",
       "      <td>TET2</td>\n",
       "      <td>-86022</td>\n",
       "      <td>distal</td>\n",
       "      <td>TET2_distal_-86022</td>\n",
       "    </tr>\n",
       "    <tr>\n",
       "      <th>18386</th>\n",
       "      <td>chr4_105060452_105061719</td>\n",
       "      <td>TET2</td>\n",
       "      <td>-84156</td>\n",
       "      <td>distal</td>\n",
       "      <td>TET2_distal_-84156</td>\n",
       "    </tr>\n",
       "    <tr>\n",
       "      <th>18387</th>\n",
       "      <td>chr4_105113744_105114295</td>\n",
       "      <td>TET2</td>\n",
       "      <td>-31580</td>\n",
       "      <td>distal</td>\n",
       "      <td>TET2_distal_-31580</td>\n",
       "    </tr>\n",
       "    <tr>\n",
       "      <th>18388</th>\n",
       "      <td>chr4_105135914_105136130</td>\n",
       "      <td>TET2</td>\n",
       "      <td>-9745</td>\n",
       "      <td>distal</td>\n",
       "      <td>TET2_distal_-9745</td>\n",
       "    </tr>\n",
       "    <tr>\n",
       "      <th>18389</th>\n",
       "      <td>chr4_105137189_105137898</td>\n",
       "      <td>TET2</td>\n",
       "      <td>-7977</td>\n",
       "      <td>distal</td>\n",
       "      <td>TET2_distal_-7977</td>\n",
       "    </tr>\n",
       "    <tr>\n",
       "      <th>18390</th>\n",
       "      <td>chr4_105144980_105148114</td>\n",
       "      <td>TET2</td>\n",
       "      <td>0</td>\n",
       "      <td>promoter</td>\n",
       "      <td>TET2_promoter_0</td>\n",
       "    </tr>\n",
       "    <tr>\n",
       "      <th>18391</th>\n",
       "      <td>chr4_105149080_105150220</td>\n",
       "      <td>TET2</td>\n",
       "      <td>2195</td>\n",
       "      <td>distal</td>\n",
       "      <td>TET2_distal_2195</td>\n",
       "    </tr>\n",
       "    <tr>\n",
       "      <th>18392</th>\n",
       "      <td>chr4_105158503_105158788</td>\n",
       "      <td>TET2</td>\n",
       "      <td>11618</td>\n",
       "      <td>distal</td>\n",
       "      <td>TET2_distal_11618</td>\n",
       "    </tr>\n",
       "    <tr>\n",
       "      <th>18393</th>\n",
       "      <td>chr4_105196376_105197000</td>\n",
       "      <td>TET2</td>\n",
       "      <td>49491</td>\n",
       "      <td>distal</td>\n",
       "      <td>TET2_distal_49491</td>\n",
       "    </tr>\n",
       "    <tr>\n",
       "      <th>18394</th>\n",
       "      <td>chr4_105304950_105305335</td>\n",
       "      <td>TET2</td>\n",
       "      <td>158065</td>\n",
       "      <td>distal</td>\n",
       "      <td>TET2_distal_158065</td>\n",
       "    </tr>\n",
       "    <tr>\n",
       "      <th>18395</th>\n",
       "      <td>chr4_105306357_105306620</td>\n",
       "      <td>TET2</td>\n",
       "      <td>159472</td>\n",
       "      <td>distal</td>\n",
       "      <td>TET2_distal_159472</td>\n",
       "    </tr>\n",
       "    <tr>\n",
       "      <th>51795</th>\n",
       "      <td>chr15_90086812_90087185</td>\n",
       "      <td>IDH2</td>\n",
       "      <td>13510</td>\n",
       "      <td>distal</td>\n",
       "      <td>IDH2_distal_13510</td>\n",
       "    </tr>\n",
       "    <tr>\n",
       "      <th>51796</th>\n",
       "      <td>chr15_90096915_90097957</td>\n",
       "      <td>IDH2</td>\n",
       "      <td>2738</td>\n",
       "      <td>distal</td>\n",
       "      <td>IDH2_distal_2738</td>\n",
       "    </tr>\n",
       "    <tr>\n",
       "      <th>51797</th>\n",
       "      <td>chr15_90099090_90099378</td>\n",
       "      <td>IDH2</td>\n",
       "      <td>1317</td>\n",
       "      <td>distal</td>\n",
       "      <td>IDH2_distal_1317</td>\n",
       "    </tr>\n",
       "    <tr>\n",
       "      <th>51798</th>\n",
       "      <td>chr15_90102250_90102879</td>\n",
       "      <td>IDH2</td>\n",
       "      <td>0</td>\n",
       "      <td>promoter</td>\n",
       "      <td>IDH2_promoter_0</td>\n",
       "    </tr>\n",
       "    <tr>\n",
       "      <th>51799</th>\n",
       "      <td>chr15_90142672_90143257</td>\n",
       "      <td>IDH2</td>\n",
       "      <td>-40169</td>\n",
       "      <td>distal</td>\n",
       "      <td>IDH2_distal_-40169</td>\n",
       "    </tr>\n",
       "    <tr>\n",
       "      <th>62787</th>\n",
       "      <td>chr21_43107381_43107727</td>\n",
       "      <td>U2AF1</td>\n",
       "      <td>0</td>\n",
       "      <td>promoter</td>\n",
       "      <td>U2AF1_promoter_0</td>\n",
       "    </tr>\n",
       "  </tbody>\n",
       "</table>\n",
       "</div>"
      ],
      "text/plain": [
       "                           peak   gene distance peak_type                   ID\n",
       "10916  chr2_197434412_197435520  SF3B1        0  promoter     SF3B1_promoter_0\n",
       "10917  chr2_197442667_197442850  SF3B1    -7577    distal   SF3B1_distal_-7577\n",
       "11221  chr2_208254235_208255725   IDH1        0  promoter      IDH1_promoter_0\n",
       "18383  chr4_104966594_104967100   TET2  -178775    distal  TET2_distal_-178775\n",
       "18384  chr4_105057347_105058186   TET2   -87689    distal   TET2_distal_-87689\n",
       "18385  chr4_105059241_105059853   TET2   -86022    distal   TET2_distal_-86022\n",
       "18386  chr4_105060452_105061719   TET2   -84156    distal   TET2_distal_-84156\n",
       "18387  chr4_105113744_105114295   TET2   -31580    distal   TET2_distal_-31580\n",
       "18388  chr4_105135914_105136130   TET2    -9745    distal    TET2_distal_-9745\n",
       "18389  chr4_105137189_105137898   TET2    -7977    distal    TET2_distal_-7977\n",
       "18390  chr4_105144980_105148114   TET2        0  promoter      TET2_promoter_0\n",
       "18391  chr4_105149080_105150220   TET2     2195    distal     TET2_distal_2195\n",
       "18392  chr4_105158503_105158788   TET2    11618    distal    TET2_distal_11618\n",
       "18393  chr4_105196376_105197000   TET2    49491    distal    TET2_distal_49491\n",
       "18394  chr4_105304950_105305335   TET2   158065    distal   TET2_distal_158065\n",
       "18395  chr4_105306357_105306620   TET2   159472    distal   TET2_distal_159472\n",
       "51795   chr15_90086812_90087185   IDH2    13510    distal    IDH2_distal_13510\n",
       "51796   chr15_90096915_90097957   IDH2     2738    distal     IDH2_distal_2738\n",
       "51797   chr15_90099090_90099378   IDH2     1317    distal     IDH2_distal_1317\n",
       "51798   chr15_90102250_90102879   IDH2        0  promoter      IDH2_promoter_0\n",
       "51799   chr15_90142672_90143257   IDH2   -40169    distal   IDH2_distal_-40169\n",
       "62787   chr21_43107381_43107727  U2AF1        0  promoter     U2AF1_promoter_0"
      ]
     },
     "execution_count": 33,
     "metadata": {},
     "output_type": "execute_result"
    }
   ],
   "source": [
    "chip_df = peak_annotations[peak_annotations[\"gene\"].isin(chip_genes)]\n",
    "chip_inds = peak_annotations[peak_annotations[\"gene\"].isin(chip_genes)].index\n",
    "chip_df[\"ID\"] = chip_df.apply(lambda x: x[\"gene\"]+\"_\"+x[\"peak_type\"]+\"_\"+x[\"distance\"],axis=1)\n",
    "chip_df"
   ]
  },
  {
   "cell_type": "code",
   "execution_count": 38,
   "metadata": {
    "ExecuteTime": {
     "end_time": "2021-01-15T23:03:35.797597Z",
     "start_time": "2021-01-15T23:03:34.822377Z"
    }
   },
   "outputs": [
    {
     "data": {
      "text/plain": [
       "<seaborn.matrix.ClusterGrid at 0x7f301fe4d9e8>"
      ]
     },
     "execution_count": 38,
     "metadata": {},
     "output_type": "execute_result"
    },
    {
     "data": {
      "image/png": "[encoded data removed]",
      "text/plain": [
       "<Figure size 720x720 with 4 Axes>"
      ]
     },
     "metadata": {
      "needs_background": "light"
     },
     "output_type": "display_data"
    }
   ],
   "source": [
    "sns.clustermap(pd.merge(peaks_dense, chip_df[[\"ID\"]], left_index=True, right_index=True).set_index(\"ID\"), \n",
    "               cmap=\"Blues\", vmax=12)"
   ]
  },
  {
   "cell_type": "markdown",
   "metadata": {},
   "source": [
    "## Look at how many T-cell annotated peaks (gene TRAC) were there and how many cells contained it"
   ]
  },
  {
   "cell_type": "code",
   "execution_count": 12,
   "metadata": {
    "ExecuteTime": {
     "end_time": "2021-01-12T21:48:39.710470Z",
     "start_time": "2021-01-12T21:48:39.684646Z"
    },
    "scrolled": true
   },
   "outputs": [
    {
     "data": {
      "text/html": [
       "<div>\n",
       "<style scoped>\n",
       "    .dataframe tbody tr th:only-of-type {\n",
       "        vertical-align: middle;\n",
       "    }\n",
       "\n",
       "    .dataframe tbody tr th {\n",
       "        vertical-align: top;\n",
       "    }\n",
       "\n",
       "    .dataframe thead th {\n",
       "        text-align: right;\n",
       "    }\n",
       "</style>\n",
       "<table border=\"1\" class=\"dataframe\">\n",
       "  <thead>\n",
       "    <tr style=\"text-align: right;\">\n",
       "      <th></th>\n",
       "      <th>peak</th>\n",
       "      <th>gene</th>\n",
       "      <th>distance</th>\n",
       "      <th>peak_type</th>\n",
       "    </tr>\n",
       "  </thead>\n",
       "  <tbody>\n",
       "    <tr>\n",
       "      <th>48329</th>\n",
       "      <td>chr14_22555471_22557563</td>\n",
       "      <td>TRAC</td>\n",
       "      <td>7966</td>\n",
       "      <td>distal</td>\n",
       "    </tr>\n",
       "    <tr>\n",
       "      <th>48330</th>\n",
       "      <td>chr14_22560970_22562388</td>\n",
       "      <td>TRAC</td>\n",
       "      <td>13465</td>\n",
       "      <td>distal</td>\n",
       "    </tr>\n",
       "  </tbody>\n",
       "</table>\n",
       "</div>"
      ],
      "text/plain": [
       "                          peak  gene distance peak_type\n",
       "48329  chr14_22555471_22557563  TRAC     7966    distal\n",
       "48330  chr14_22560970_22562388  TRAC    13465    distal"
      ]
     },
     "execution_count": 12,
     "metadata": {},
     "output_type": "execute_result"
    }
   ],
   "source": [
    "peak_annotations[peak_annotations[\"gene\"] == \"TRAC\"]\n"
   ]
  },
  {
   "cell_type": "code",
   "execution_count": 13,
   "metadata": {
    "ExecuteTime": {
     "end_time": "2021-01-12T21:48:39.931525Z",
     "start_time": "2021-01-12T21:48:39.712374Z"
    }
   },
   "outputs": [],
   "source": [
    "trac_peaks = peaks_sparse_mtx[peaks_sparse_mtx[\"gene\"] == \"TRAC\"].groupby([\"Peak\", \"Cell\"]).size().reset_index().rename({0:\"Count\"},axis=1)"
   ]
  },
  {
   "cell_type": "code",
   "execution_count": 14,
   "metadata": {
    "ExecuteTime": {
     "end_time": "2021-01-12T21:48:39.939740Z",
     "start_time": "2021-01-12T21:48:39.933578Z"
    },
    "scrolled": true
   },
   "outputs": [
    {
     "name": "stdout",
     "output_type": "stream",
     "text": [
      "Number of cells for each peaks\n"
     ]
    },
    {
     "data": {
      "text/plain": [
       "Peak\n",
       "48330    128\n",
       "48331     84\n",
       "dtype: int64"
      ]
     },
     "execution_count": 14,
     "metadata": {},
     "output_type": "execute_result"
    }
   ],
   "source": [
    "print(\"Number of cells for each peaks\")\n",
    "trac_peaks.groupby(\"Peak\").size()"
   ]
  },
  {
   "cell_type": "code",
   "execution_count": 15,
   "metadata": {
    "ExecuteTime": {
     "end_time": "2021-01-12T21:48:39.957017Z",
     "start_time": "2021-01-12T21:48:39.941317Z"
    },
    "scrolled": false
   },
   "outputs": [
    {
     "name": "stdout",
     "output_type": "stream",
     "text": [
      "Number of cells with at least one peak\n",
      "Peak\n",
      "48330    128\n",
      "48331     84\n",
      "dtype: int64\n",
      "\n",
      "\n",
      "Number Cells with at least one peak annotated as TRAC:\n",
      "181\n"
     ]
    }
   ],
   "source": [
    "print(\"Number of cells with at least one peak\")\n",
    "print(trac_peaks.groupby(\"Peak\").size())\n",
    "print(\"\\n\")\n",
    "print(\"Number Cells with at least one peak annotated as TRAC:\")\n",
    "print((trac_peaks.pivot(\"Cell\", columns=\"Peak\").fillna(0)>0).any(axis=1).sum())"
   ]
  },
  {
   "cell_type": "code",
   "execution_count": 16,
   "metadata": {
    "ExecuteTime": {
     "end_time": "2021-01-12T21:48:40.309953Z",
     "start_time": "2021-01-12T21:48:39.958527Z"
    }
   },
   "outputs": [
    {
     "data": {
      "text/plain": [
       "<seaborn.axisgrid.FacetGrid at 0x7f1067277dd8>"
      ]
     },
     "execution_count": 16,
     "metadata": {},
     "output_type": "execute_result"
    },
    {
     "data": {
      "image/png": "[encoded data removed]",
      "text/plain": [
       "<Figure size 360x360 with 1 Axes>"
      ]
     },
     "metadata": {
      "needs_background": "light"
     },
     "output_type": "display_data"
    }
   ],
   "source": [
    "sns.catplot(data=peaks_sparse_mtx[peaks_sparse_mtx[\"gene\"] == \"TRAC\"], x=\"Peak\", y=\"Count\", kind=\"violin\")"
   ]
  },
  {
   "cell_type": "markdown",
   "metadata": {},
   "source": [
    "### Conclusion: \n",
    "128+84 T-cell alpha receptor peaks were seen. They all have count of 1."
   ]
  },
  {
   "cell_type": "code",
   "execution_count": 17,
   "metadata": {
    "ExecuteTime": {
     "end_time": "2021-01-12T21:48:54.492281Z",
     "start_time": "2021-01-12T21:48:54.322265Z"
    },
    "scrolled": true
   },
   "outputs": [
    {
     "ename": "NameError",
     "evalue": "name 'joypy' is not defined",
     "output_type": "error",
     "traceback": [
      "\u001b[0;31m---------------------------------------------------------------------------\u001b[0m",
      "\u001b[0;31mNameError\u001b[0m                                 Traceback (most recent call last)",
      "\u001b[0;32m<ipython-input-17-32935e81d287>\u001b[0m in \u001b[0;36m<module>\u001b[0;34m\u001b[0m\n\u001b[1;32m      1\u001b[0m \u001b[0mlabels\u001b[0m\u001b[0;34m=\u001b[0m\u001b[0mtrac_peaks\u001b[0m\u001b[0;34m[\u001b[0m\u001b[0;34m\"Peak\"\u001b[0m\u001b[0;34m]\u001b[0m\u001b[0;34m.\u001b[0m\u001b[0munique\u001b[0m\u001b[0;34m(\u001b[0m\u001b[0;34m)\u001b[0m\u001b[0;34m\u001b[0m\u001b[0;34m\u001b[0m\u001b[0m\n\u001b[0;32m----> 2\u001b[0;31m joypy.joyplot(trac_peaks, by=\"Peak\", column=\"Count\", labels=labels, range_style='own',\n\u001b[0m\u001b[1;32m      3\u001b[0m                           \u001b[0mgrid\u001b[0m\u001b[0;34m=\u001b[0m\u001b[0;34m\"y\"\u001b[0m\u001b[0;34m,\u001b[0m \u001b[0mlinewidth\u001b[0m\u001b[0;34m=\u001b[0m\u001b[0;36m1\u001b[0m\u001b[0;34m,\u001b[0m \u001b[0mlegend\u001b[0m\u001b[0;34m=\u001b[0m\u001b[0;32mFalse\u001b[0m\u001b[0;34m,\u001b[0m \u001b[0mfigsize\u001b[0m\u001b[0;34m=\u001b[0m\u001b[0;34m(\u001b[0m\u001b[0;36m6\u001b[0m\u001b[0;34m,\u001b[0m\u001b[0;36m5\u001b[0m\u001b[0;34m)\u001b[0m\u001b[0;34m,\u001b[0m\u001b[0;34m\u001b[0m\u001b[0;34m\u001b[0m\u001b[0m\n\u001b[1;32m      4\u001b[0m                           \u001b[0mtitle\u001b[0m\u001b[0;34m=\u001b[0m\u001b[0;34m\"Peak counts across cells\"\u001b[0m\u001b[0;34m,\u001b[0m\u001b[0;34m\u001b[0m\u001b[0;34m\u001b[0m\u001b[0m\n\u001b[1;32m      5\u001b[0m                           colormap=cm.autumn_r)\n",
      "\u001b[0;31mNameError\u001b[0m: name 'joypy' is not defined"
     ]
    }
   ],
   "source": [
    "labels=trac_peaks[\"Peak\"].unique()\n",
    "joypy.joyplot(trac_peaks, by=\"Peak\", column=\"Count\", labels=labels, range_style='own',\n",
    "                          grid=\"y\", linewidth=1, legend=False, figsize=(6,5),\n",
    "                          title=\"Peak counts across cells\",\n",
    "                          colormap=cm.autumn_r)"
   ]
  },
  {
   "cell_type": "code",
   "execution_count": null,
   "metadata": {
    "ExecuteTime": {
     "end_time": "2021-01-12T21:48:54.494348Z",
     "start_time": "2021-01-12T21:48:54.312Z"
    }
   },
   "outputs": [],
   "source": [
    "sns.distplot(trac_peaks[\"Count\"])"
   ]
  },
  {
   "cell_type": "code",
   "execution_count": null,
   "metadata": {
    "ExecuteTime": {
     "end_time": "2021-01-12T21:48:54.495506Z",
     "start_time": "2021-01-12T21:48:54.313Z"
    }
   },
   "outputs": [],
   "source": [
    "#sns.heatmap(peaks_dense)"
   ]
  },
  {
   "cell_type": "markdown",
   "metadata": {},
   "source": [
    "## Look at the peak count distribution for non-zero values (since that's too sparse)"
   ]
  },
  {
   "cell_type": "code",
   "execution_count": null,
   "metadata": {
    "ExecuteTime": {
     "end_time": "2021-01-12T21:48:54.496542Z",
     "start_time": "2021-01-12T21:48:54.330Z"
    }
   },
   "outputs": [],
   "source": [
    "plt.hist(np.log10(peaks_sparse_mtx[\"Count\"]))\n",
    "plt.title(\"Log10 Count\")"
   ]
  },
  {
   "cell_type": "code",
   "execution_count": null,
   "metadata": {
    "ExecuteTime": {
     "end_time": "2021-01-12T21:48:54.497599Z",
     "start_time": "2021-01-12T21:48:54.331Z"
    }
   },
   "outputs": [],
   "source": [
    "import matplotlib.pyplot as plt\n",
    "plt.hist((peaks_sparse_mtx[\"Count\"]))\n",
    "plt.title(\"All Peaks-Cells Count distribution\")\n",
    "plt.yscale(\"log\")\n",
    "plt.ylabel(\"Log frequency\")\n",
    "plt.xlabel(\"Count\")"
   ]
  },
  {
   "cell_type": "markdown",
   "metadata": {},
   "source": [
    "## Two peak-cell elements have greater than 200"
   ]
  },
  {
   "cell_type": "code",
   "execution_count": null,
   "metadata": {
    "ExecuteTime": {
     "end_time": "2021-01-12T21:48:54.498787Z",
     "start_time": "2021-01-12T21:48:54.337Z"
    },
    "scrolled": false
   },
   "outputs": [],
   "source": [
    "peaks_sparse_mtx[peaks_sparse_mtx[\"Count\"]>200][\"Count\"]"
   ]
  },
  {
   "cell_type": "code",
   "execution_count": null,
   "metadata": {
    "ExecuteTime": {
     "end_time": "2021-01-12T21:48:54.499866Z",
     "start_time": "2021-01-12T21:48:54.338Z"
    }
   },
   "outputs": [],
   "source": [
    "plt.hist(np.log10(peaks_sparse_mtx[peaks_sparse_mtx[\"Count\"]>10][\"Count\"]))\n",
    "plt.title(\"Log 10 for counts over 10\")"
   ]
  },
  {
   "cell_type": "code",
   "execution_count": null,
   "metadata": {},
   "outputs": [],
   "source": []
  },
  {
   "cell_type": "code",
   "execution_count": null,
   "metadata": {
    "ExecuteTime": {
     "end_time": "2021-01-12T21:48:54.500874Z",
     "start_time": "2021-01-12T21:48:54.342Z"
    },
    "scrolled": true
   },
   "outputs": [],
   "source": [
    "peaks_dense = peaks_sparse_mtx.iloc[1:].pivot(index=\"Peak\", columns=\"Cell\",values=\"Count\").fillna(0)\n",
    "peaks_dense"
   ]
  },
  {
   "cell_type": "markdown",
   "metadata": {},
   "source": [
    "# Peak distribution values\n",
    "### Make peak as categorical. \n",
    "### Break the count distribution into 3 for the peaks with counts, and add 0 as the other.\n",
    "### Played with this b/c many are the same value and cant break it up easily.\n",
    "### Had to make 6 bins but it picks up 3"
   ]
  },
  {
   "cell_type": "code",
   "execution_count": null,
   "metadata": {
    "ExecuteTime": {
     "end_time": "2021-01-12T21:48:54.501973Z",
     "start_time": "2021-01-12T21:48:54.348Z"
    },
    "scrolled": true
   },
   "outputs": [],
   "source": [
    "q_df, bins = pd.qcut((peaks_sparse_mtx[\"Count\"]), 20, labels=np.arange(1,4), duplicates='drop', retbins=True)\n",
    "peaks_sparse_mtx[\"Bin Peak\"] = q_df\n",
    "peaks_sparse_mtx[\"Bin Peak\"] = peaks_sparse_mtx[\"Bin Peak\"].astype(int)"
   ]
  },
  {
   "cell_type": "code",
   "execution_count": null,
   "metadata": {
    "ExecuteTime": {
     "end_time": "2021-01-12T21:48:54.503095Z",
     "start_time": "2021-01-12T21:48:54.349Z"
    },
    "scrolled": true
   },
   "outputs": [],
   "source": [
    "sns.countplot(peaks_sparse_mtx[\"Bin Peak\"])"
   ]
  },
  {
   "cell_type": "code",
   "execution_count": 102,
   "metadata": {
    "ExecuteTime": {
     "end_time": "2021-01-12T20:53:25.528472Z",
     "start_time": "2021-01-12T20:52:21.484044Z"
    },
    "deletable": false,
    "editable": false,
    "run_control": {
     "frozen": true
    },
    "scrolled": false
   },
   "outputs": [
    {
     "data": {
      "text/plain": [
       "<matplotlib.axes._subplots.AxesSubplot at 0x7f893a0b2240>"
      ]
     },
     "execution_count": 102,
     "metadata": {},
     "output_type": "execute_result"
    },
    {
     "data": {
      "image/png": "[encoded data removed]",
      "text/plain": [
       "<Figure size 432x288 with 2 Axes>"
      ]
     },
     "metadata": {},
     "output_type": "display_data"
    }
   ],
   "source": [
    "# plt.style.use('dark_background')\n",
    "# sns.heatmap(peaks_sparse_mtx.pivot(index=\"Peak\", columns=\"Cell\",values=\"Bin Peak\").fillna(0)) #.astype(int)#.fillna(0)"
   ]
  },
  {
   "cell_type": "code",
   "execution_count": null,
   "metadata": {},
   "outputs": [],
   "source": []
  },
  {
   "cell_type": "code",
   "execution_count": 87,
   "metadata": {
    "ExecuteTime": {
     "end_time": "2021-01-12T20:44:46.038587Z",
     "start_time": "2021-01-12T20:44:18.723669Z"
    },
    "deletable": false,
    "editable": false,
    "run_control": {
     "frozen": true
    },
    "scrolled": true
   },
   "outputs": [
    {
     "ename": "KeyboardInterrupt",
     "evalue": "",
     "output_type": "error",
     "traceback": [
      "\u001b[0;31m---------------------------------------------------------------------------\u001b[0m",
      "\u001b[0;31mKeyboardInterrupt\u001b[0m                         Traceback (most recent call last)",
      "\u001b[0;32m<ipython-input-87-7be50e4ac6ad>\u001b[0m in \u001b[0;36m<module>\u001b[0;34m\u001b[0m\n\u001b[1;32m      2\u001b[0m \u001b[0;34m\u001b[0m\u001b[0m\n\u001b[1;32m      3\u001b[0m g = sns.catplot(x=\"Peak\", y=0, hue=\"Bin Peak\",\n\u001b[0;32m----> 4\u001b[0;31m                data=peak_cat, kind=\"violin\")\n\u001b[0m",
      "\u001b[0;32m~/software/anaconda2/envs/mito_trace/lib/python3.7/site-packages/seaborn/categorical.py\u001b[0m in \u001b[0;36mcatplot\u001b[0;34m(x, y, hue, data, row, col, col_wrap, estimator, ci, n_boot, units, order, hue_order, row_order, col_order, kind, height, aspect, orient, color, palette, legend, legend_out, sharex, sharey, margin_titles, facet_kws, **kwargs)\u001b[0m\n\u001b[1;32m   3714\u001b[0m     \u001b[0;31m# facets to ensure representation of all data in the final plot\u001b[0m\u001b[0;34m\u001b[0m\u001b[0;34m\u001b[0m\u001b[0;34m\u001b[0m\u001b[0m\n\u001b[1;32m   3715\u001b[0m     \u001b[0mp\u001b[0m \u001b[0;34m=\u001b[0m \u001b[0m_CategoricalPlotter\u001b[0m\u001b[0;34m(\u001b[0m\u001b[0;34m)\u001b[0m\u001b[0;34m\u001b[0m\u001b[0;34m\u001b[0m\u001b[0m\n\u001b[0;32m-> 3716\u001b[0;31m     \u001b[0mp\u001b[0m\u001b[0;34m.\u001b[0m\u001b[0mestablish_variables\u001b[0m\u001b[0;34m(\u001b[0m\u001b[0mx_\u001b[0m\u001b[0;34m,\u001b[0m \u001b[0my_\u001b[0m\u001b[0;34m,\u001b[0m \u001b[0mhue\u001b[0m\u001b[0;34m,\u001b[0m \u001b[0mdata\u001b[0m\u001b[0;34m,\u001b[0m \u001b[0morient\u001b[0m\u001b[0;34m,\u001b[0m \u001b[0morder\u001b[0m\u001b[0;34m,\u001b[0m \u001b[0mhue_order\u001b[0m\u001b[0;34m)\u001b[0m\u001b[0;34m\u001b[0m\u001b[0;34m\u001b[0m\u001b[0m\n\u001b[0m\u001b[1;32m   3717\u001b[0m     \u001b[0morder\u001b[0m \u001b[0;34m=\u001b[0m \u001b[0mp\u001b[0m\u001b[0;34m.\u001b[0m\u001b[0mgroup_names\u001b[0m\u001b[0;34m\u001b[0m\u001b[0;34m\u001b[0m\u001b[0m\n\u001b[1;32m   3718\u001b[0m     \u001b[0mhue_order\u001b[0m \u001b[0;34m=\u001b[0m \u001b[0mp\u001b[0m\u001b[0;34m.\u001b[0m\u001b[0mhue_names\u001b[0m\u001b[0;34m\u001b[0m\u001b[0;34m\u001b[0m\u001b[0m\n",
      "\u001b[0;32m~/software/anaconda2/envs/mito_trace/lib/python3.7/site-packages/seaborn/categorical.py\u001b[0m in \u001b[0;36mestablish_variables\u001b[0;34m(self, x, y, hue, data, orient, order, hue_order, units)\u001b[0m\n\u001b[1;32m    219\u001b[0m                     \u001b[0;31m# Group the hue data\u001b[0m\u001b[0;34m\u001b[0m\u001b[0;34m\u001b[0m\u001b[0;34m\u001b[0m\u001b[0m\n\u001b[1;32m    220\u001b[0m                     plot_hues, hue_title = self._group_longform(hue, groups,\n\u001b[0;32m--> 221\u001b[0;31m                                                                 group_names)\n\u001b[0m\u001b[1;32m    222\u001b[0m \u001b[0;34m\u001b[0m\u001b[0m\n\u001b[1;32m    223\u001b[0m                 \u001b[0;31m# Now handle the units for nested observations\u001b[0m\u001b[0;34m\u001b[0m\u001b[0;34m\u001b[0m\u001b[0;34m\u001b[0m\u001b[0m\n",
      "\u001b[0;32m~/software/anaconda2/envs/mito_trace/lib/python3.7/site-packages/seaborn/categorical.py\u001b[0m in \u001b[0;36m_group_longform\u001b[0;34m(self, vals, grouper, order)\u001b[0m\n\u001b[1;32m    251\u001b[0m         \u001b[0;32mfor\u001b[0m \u001b[0mg\u001b[0m \u001b[0;32min\u001b[0m \u001b[0morder\u001b[0m\u001b[0;34m:\u001b[0m\u001b[0;34m\u001b[0m\u001b[0;34m\u001b[0m\u001b[0m\n\u001b[1;32m    252\u001b[0m             \u001b[0;32mtry\u001b[0m\u001b[0;34m:\u001b[0m\u001b[0;34m\u001b[0m\u001b[0;34m\u001b[0m\u001b[0m\n\u001b[0;32m--> 253\u001b[0;31m                 \u001b[0mg_vals\u001b[0m \u001b[0;34m=\u001b[0m \u001b[0mnp\u001b[0m\u001b[0;34m.\u001b[0m\u001b[0masarray\u001b[0m\u001b[0;34m(\u001b[0m\u001b[0mgrouped_vals\u001b[0m\u001b[0;34m.\u001b[0m\u001b[0mget_group\u001b[0m\u001b[0;34m(\u001b[0m\u001b[0mg\u001b[0m\u001b[0;34m)\u001b[0m\u001b[0;34m)\u001b[0m\u001b[0;34m\u001b[0m\u001b[0;34m\u001b[0m\u001b[0m\n\u001b[0m\u001b[1;32m    254\u001b[0m             \u001b[0;32mexcept\u001b[0m \u001b[0mKeyError\u001b[0m\u001b[0;34m:\u001b[0m\u001b[0;34m\u001b[0m\u001b[0;34m\u001b[0m\u001b[0m\n\u001b[1;32m    255\u001b[0m                 \u001b[0mg_vals\u001b[0m \u001b[0;34m=\u001b[0m \u001b[0mnp\u001b[0m\u001b[0;34m.\u001b[0m\u001b[0marray\u001b[0m\u001b[0;34m(\u001b[0m\u001b[0;34m[\u001b[0m\u001b[0;34m]\u001b[0m\u001b[0;34m)\u001b[0m\u001b[0;34m\u001b[0m\u001b[0;34m\u001b[0m\u001b[0m\n",
      "\u001b[0;32m~/software/anaconda2/envs/mito_trace/lib/python3.7/site-packages/pandas/core/groupby/groupby.py\u001b[0m in \u001b[0;36mget_group\u001b[0;34m(self, name, obj)\u001b[0m\n\u001b[1;32m    680\u001b[0m             \u001b[0;32mraise\u001b[0m \u001b[0mKeyError\u001b[0m\u001b[0;34m(\u001b[0m\u001b[0mname\u001b[0m\u001b[0;34m)\u001b[0m\u001b[0;34m\u001b[0m\u001b[0;34m\u001b[0m\u001b[0m\n\u001b[1;32m    681\u001b[0m \u001b[0;34m\u001b[0m\u001b[0m\n\u001b[0;32m--> 682\u001b[0;31m         \u001b[0;32mreturn\u001b[0m \u001b[0mobj\u001b[0m\u001b[0;34m.\u001b[0m\u001b[0mtake\u001b[0m\u001b[0;34m(\u001b[0m\u001b[0minds\u001b[0m\u001b[0;34m,\u001b[0m \u001b[0maxis\u001b[0m\u001b[0;34m=\u001b[0m\u001b[0mself\u001b[0m\u001b[0;34m.\u001b[0m\u001b[0maxis\u001b[0m\u001b[0;34m)\u001b[0m\u001b[0;34m\u001b[0m\u001b[0;34m\u001b[0m\u001b[0m\n\u001b[0m\u001b[1;32m    683\u001b[0m \u001b[0;34m\u001b[0m\u001b[0m\n\u001b[1;32m    684\u001b[0m     \u001b[0;32mdef\u001b[0m \u001b[0m__iter__\u001b[0m\u001b[0;34m(\u001b[0m\u001b[0mself\u001b[0m\u001b[0;34m)\u001b[0m\u001b[0;34m:\u001b[0m\u001b[0;34m\u001b[0m\u001b[0;34m\u001b[0m\u001b[0m\n",
      "\u001b[0;32m~/software/anaconda2/envs/mito_trace/lib/python3.7/site-packages/pandas/core/series.py\u001b[0m in \u001b[0;36mtake\u001b[0;34m(self, indices, axis, is_copy, **kwargs)\u001b[0m\n\u001b[1;32m   4433\u001b[0m \u001b[0;34m\u001b[0m\u001b[0m\n\u001b[1;32m   4434\u001b[0m         \u001b[0mindices\u001b[0m \u001b[0;34m=\u001b[0m \u001b[0mensure_platform_int\u001b[0m\u001b[0;34m(\u001b[0m\u001b[0mindices\u001b[0m\u001b[0;34m)\u001b[0m\u001b[0;34m\u001b[0m\u001b[0;34m\u001b[0m\u001b[0m\n\u001b[0;32m-> 4435\u001b[0;31m         \u001b[0mnew_index\u001b[0m \u001b[0;34m=\u001b[0m \u001b[0mself\u001b[0m\u001b[0;34m.\u001b[0m\u001b[0mindex\u001b[0m\u001b[0;34m.\u001b[0m\u001b[0mtake\u001b[0m\u001b[0;34m(\u001b[0m\u001b[0mindices\u001b[0m\u001b[0;34m)\u001b[0m\u001b[0;34m\u001b[0m\u001b[0;34m\u001b[0m\u001b[0m\n\u001b[0m\u001b[1;32m   4436\u001b[0m \u001b[0;34m\u001b[0m\u001b[0m\n\u001b[1;32m   4437\u001b[0m         \u001b[0;32mif\u001b[0m \u001b[0mis_categorical_dtype\u001b[0m\u001b[0;34m(\u001b[0m\u001b[0mself\u001b[0m\u001b[0;34m)\u001b[0m\u001b[0;34m:\u001b[0m\u001b[0;34m\u001b[0m\u001b[0;34m\u001b[0m\u001b[0m\n",
      "\u001b[0;31mKeyboardInterrupt\u001b[0m: "
     ]
    }
   ],
   "source": [
    "peak_cat = peaks_sparse_mtx.groupby([\"Peak\",\"Bin Peak\"]).size().reset_index()\n",
    "\n",
    "g = sns.catplot(x=\"Peak\", y=0, hue=\"Bin Peak\",\n",
    "               data=peak_cat, kind=\"violin\")"
   ]
  },
  {
   "cell_type": "code",
   "execution_count": 10,
   "metadata": {
    "ExecuteTime": {
     "end_time": "2021-01-12T20:11:31.741710Z",
     "start_time": "2021-01-12T20:11:26.841432Z"
    },
    "deletable": false,
    "editable": false,
    "run_control": {
     "frozen": true
    },
    "scrolled": true
   },
   "outputs": [
    {
     "name": "stderr",
     "output_type": "stream",
     "text": [
      "ERROR:root:Internal Python error in the inspect module.\n",
      "Below is the traceback from this internal error.\n",
      "\n"
     ]
    },
    {
     "name": "stdout",
     "output_type": "stream",
     "text": [
      "Traceback (most recent call last):\n",
      "  File \"/home/isshamie/software/anaconda2/envs/mito_trace/lib/python3.7/site-packages/IPython/core/interactiveshell.py\", line 3326, in run_code\n",
      "    exec(code_obj, self.user_global_ns, self.user_ns)\n",
      "  File \"<ipython-input-10-18a6b85189b8>\", line 11, in <module>\n",
      "    colormap=cm.autumn_r)\n",
      "  File \"/home/isshamie/software/anaconda2/envs/mito_trace/lib/python3.7/site-packages/joypy/joyplot.py\", line 177, in joyplot\n",
      "    converted, _labels, sublabels = _grouped_df_to_standard(grouped, column)\n",
      "  File \"/home/isshamie/software/anaconda2/envs/mito_trace/lib/python3.7/site-packages/joypy/joyplot.py\", line 153, in _grouped_df_to_standard\n",
      "    group = group[column]\n",
      "  File \"/home/isshamie/software/anaconda2/envs/mito_trace/lib/python3.7/site-packages/pandas/core/frame.py\", line 3001, in __getitem__\n",
      "    indexer = self.loc._convert_to_indexer(key, axis=1, raise_missing=True)\n",
      "  File \"/home/isshamie/software/anaconda2/envs/mito_trace/lib/python3.7/site-packages/pandas/core/indexing.py\", line 1285, in _convert_to_indexer\n",
      "    return self._get_listlike_indexer(obj, axis, **kwargs)[1]\n",
      "  File \"/home/isshamie/software/anaconda2/envs/mito_trace/lib/python3.7/site-packages/pandas/core/indexing.py\", line 1075, in _get_listlike_indexer\n",
      "    indexer, keyarr = ax._convert_listlike_indexer(key, kind=self.name)\n",
      "KeyboardInterrupt\n",
      "\n",
      "During handling of the above exception, another exception occurred:\n",
      "\n",
      "Traceback (most recent call last):\n",
      "  File \"/home/isshamie/software/anaconda2/envs/mito_trace/lib/python3.7/site-packages/IPython/core/interactiveshell.py\", line 2040, in showtraceback\n",
      "    stb = value._render_traceback_()\n",
      "AttributeError: 'KeyboardInterrupt' object has no attribute '_render_traceback_'\n",
      "\n",
      "During handling of the above exception, another exception occurred:\n",
      "\n",
      "Traceback (most recent call last):\n",
      "  File \"/home/isshamie/software/anaconda2/envs/mito_trace/lib/python3.7/site-packages/IPython/core/ultratb.py\", line 1101, in get_records\n",
      "    return _fixed_getinnerframes(etb, number_of_lines_of_context, tb_offset)\n",
      "  File \"/home/isshamie/software/anaconda2/envs/mito_trace/lib/python3.7/site-packages/IPython/core/ultratb.py\", line 319, in wrapped\n",
      "    return f(*args, **kwargs)\n",
      "  File \"/home/isshamie/software/anaconda2/envs/mito_trace/lib/python3.7/site-packages/IPython/core/ultratb.py\", line 353, in _fixed_getinnerframes\n",
      "    records = fix_frame_records_filenames(inspect.getinnerframes(etb, context))\n",
      "  File \"/home/isshamie/software/anaconda2/envs/mito_trace/lib/python3.7/inspect.py\", line 1502, in getinnerframes\n",
      "    frameinfo = (tb.tb_frame,) + getframeinfo(tb, context)\n",
      "  File \"/home/isshamie/software/anaconda2/envs/mito_trace/lib/python3.7/inspect.py\", line 1460, in getframeinfo\n",
      "    filename = getsourcefile(frame) or getfile(frame)\n",
      "  File \"/home/isshamie/software/anaconda2/envs/mito_trace/lib/python3.7/inspect.py\", line 696, in getsourcefile\n",
      "    if getattr(getmodule(object, filename), '__loader__', None) is not None:\n",
      "  File \"/home/isshamie/software/anaconda2/envs/mito_trace/lib/python3.7/inspect.py\", line 742, in getmodule\n",
      "    os.path.realpath(f)] = module.__name__\n",
      "  File \"/home/isshamie/software/anaconda2/envs/mito_trace/lib/python3.7/posixpath.py\", line 395, in realpath\n",
      "    path, ok = _joinrealpath(filename[:0], filename, {})\n",
      "  File \"/home/isshamie/software/anaconda2/envs/mito_trace/lib/python3.7/posixpath.py\", line 428, in _joinrealpath\n",
      "    newpath = join(path, name)\n",
      "  File \"/home/isshamie/software/anaconda2/envs/mito_trace/lib/python3.7/posixpath.py\", line 86, in join\n",
      "    for b in map(os.fspath, p):\n",
      "KeyboardInterrupt\n"
     ]
    },
    {
     "ename": "KeyboardInterrupt",
     "evalue": "",
     "output_type": "error",
     "traceback": [
      "\u001b[0;31m---------------------------------------------------------------------------\u001b[0m"
     ]
    }
   ],
   "source": [
    "import joypy\n",
    "from matplotlib import cm\n",
    "\n",
    "\n",
    "#labels=[y if y%10==0 else None for y in list(temp.Year.unique())]\"n,\n",
    "labels = peaks_sparse_mtx[\"Peak\"].unique()\n",
    "#AF_joy[\"log AF\"] = np.log10(AF_joy[\"AF\"]+1)\n",
    "fig, axes = joypy.joyplot(peaks_sparse_mtx, by=\"Peak\", column=\"Count\", labels=labels, range_style='own',\n",
    "                          grid=\"y\", linewidth=1, legend=False, figsize=(6,5),\n",
    "                          title=\"Peak counts across cells\",\n",
    "                          colormap=cm.autumn_r)"
   ]
  }
 ],
 "metadata": {
  "celltoolbar": "Tags",
  "kernelspec": {
   "display_name": "Python 2",
   "language": "python",
   "name": "python2"
  },
  "language_info": {
   "codemirror_mode": {
    "name": "ipython",
    "version": 3
   },
   "file_extension": ".py",
   "mimetype": "text/x-python",
   "name": "python",
   "nbconvert_exporter": "python",
   "pygments_lexer": "ipython3",
   "version": "3.7.3"
  }
 },
 "nbformat": 4,
 "nbformat_minor": 1
}
