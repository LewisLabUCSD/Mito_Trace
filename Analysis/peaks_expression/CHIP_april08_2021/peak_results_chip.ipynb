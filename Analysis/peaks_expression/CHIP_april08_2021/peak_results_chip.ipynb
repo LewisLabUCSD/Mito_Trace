{
 "cells": [
  {
   "cell_type": "code",
   "execution_count": 1,
   "metadata": {
    "ExecuteTime": {
     "end_time": "2021-05-18T05:48:14.383479Z",
     "start_time": "2021-05-18T05:48:14.371959Z"
    },
    "scrolled": false
   },
   "outputs": [
    {
     "data": {
      "text/plain": [
       "'/data2/mito_lineage/Analysis/peaks_expression/CHIP_april08_2021'"
      ]
     },
     "execution_count": 1,
     "metadata": {},
     "output_type": "execute_result"
    }
   ],
   "source": [
    "pwd"
   ]
  },
  {
   "cell_type": "code",
   "execution_count": 2,
   "metadata": {
    "ExecuteTime": {
     "end_time": "2021-05-18T05:48:14.399873Z",
     "start_time": "2021-05-18T05:48:14.386168Z"
    },
    "tags": [
     "parameters"
    ]
   },
   "outputs": [],
   "source": [
    "config_f = \"config.yaml\"\n",
    "outdir=\"\""
   ]
  },
  {
   "cell_type": "code",
   "execution_count": null,
   "metadata": {},
   "outputs": [],
   "source": [
    "if outdir == \"\":\n",
    "    outdir=\"./output\"\n",
    "\n",
    "if not os.path.exists(outdir):\n",
    "    os.mkdir(outdir)"
   ]
  },
  {
   "cell_type": "code",
   "execution_count": 3,
   "metadata": {
    "ExecuteTime": {
     "end_time": "2021-05-18T05:48:15.279672Z",
     "start_time": "2021-05-18T05:48:14.402908Z"
    }
   },
   "outputs": [
    {
     "data": {
      "text/plain": [
       "{'global': 'PROJECT',\n",
       " 'indir': '/data2/isshamie/mito_lineage/data/processed/mtscATAC/CHIP_april08_2021_Croker/MTblacklist',\n",
       " 'experiment': 'CHIP_april08_2021',\n",
       " 'genome': 'MTblacklist',\n",
       " 'samples': ['Control', 'Flt3l', 'Input']}"
      ]
     },
     "execution_count": 3,
     "metadata": {},
     "output_type": "execute_result"
    }
   ],
   "source": [
    "from src.utils.parse_config import read_config_file\n",
    "from os.path import join, dirname\n",
    "import pandas as pd\n",
    "from glob import glob\n",
    "config = read_config_file(config_f)\n",
    "import seaborn as sns\n",
    "import numpy as np\n",
    "import matplotlib.pyplot as plt\n",
    "config"
   ]
  },
  {
   "cell_type": "markdown",
   "metadata": {},
   "source": [
    "### Load:\n",
    "1. Raw cells barcode w qc info\n",
    "2. filtered cells barcode list\n",
    "3. Peak-by-cell sparse matrix\n",
    "4. Peak gene annotations \n",
    "5. Graph clustering filtered cells cluster label\n",
    "6. TF-by-cell sparse count matrix\n",
    "7. TF labels"
   ]
  },
  {
   "cell_type": "code",
   "execution_count": 4,
   "metadata": {
    "ExecuteTime": {
     "end_time": "2021-05-18T05:48:17.088385Z",
     "start_time": "2021-05-18T05:48:15.281635Z"
    },
    "scrolled": false
   },
   "outputs": [
    {
     "data": {
      "image/png": "[encoded data removed]",
      "text/plain": [
       "<Figure size 432x288 with 1 Axes>"
      ]
     },
     "metadata": {
      "needs_background": "light"
     },
     "output_type": "display_data"
    }
   ],
   "source": [
    "curr_in = join(config[\"indir\"], config['samples'][0], 'outs')\n",
    "\n",
    "### Create 1-based cell barcode index \n",
    "\n",
    "cells = pd.read_csv(join(curr_in,\"singlecell.csv\"))\n",
    "cells\n",
    "\n",
    "good_cells = cells[~(cells[\"cell_id\"]==\"None\")].copy()\n",
    "good_cells[\"ID\"] = np.arange(1,len(good_cells)+1)\n",
    "good_cells\n",
    "\n",
    "cell_inds = pd.read_csv(join(curr_in, \"filtered_peak_bc_matrix\",\"barcodes.tsv\"),header=None)\n",
    "cell_inds\n",
    "\n",
    "## Load peak annotations\n",
    "\n",
    "peak_annotations = pd.read_csv(join(config[\"indir\"], config['samples'][0], 'outs','peak_annotation.tsv'),sep='\\t')\n",
    "peak_annotations\n",
    "\n",
    "\n",
    "### Load clusters\n",
    "\n",
    "cluster_f = glob(join(config[\"indir\"], config['samples'][0], 'outs','analysis',\"clustering\", \"graphclust\",\"clusters.csv\"))\n",
    "clusters_df = pd.read_csv(cluster_f[0])\n",
    "clusters_df\n",
    "\n",
    "%matplotlib inline\n",
    "sns.countplot(clusters_df[\"Cluster\"])\n",
    "plt.title(\"Cell cluster membership distribution\")\n",
    "plt.ylabel(\"Number of cells in cluster\")\n",
    "plt.xlabel(\"Cluster\")\n",
    "## Load peaks matrix\n",
    "\n",
    "filename = join(config['indir'],config['samples'][0],'outs','filtered_peak_bc_matrix/matrix.mtx')\n",
    "peaks_sparse_mtx = pd.read_csv(filename,sep=' ',skiprows=2, header=None).iloc[1:]\n",
    "peaks_sparse_mtx.columns = [\"Peak\", \"Cell\", \"Count\"]"
   ]
  },
  {
   "cell_type": "markdown",
   "metadata": {},
   "source": [
    "# Annotate peak count matrix with gene name"
   ]
  },
  {
   "cell_type": "code",
   "execution_count": 9,
   "metadata": {
    "ExecuteTime": {
     "end_time": "2021-05-18T05:49:31.193728Z",
     "start_time": "2021-05-18T05:48:18.861864Z"
    },
    "scrolled": true
   },
   "outputs": [
    {
     "data": {
      "text/html": [
       "<div>\n",
       "<style scoped>\n",
       "    .dataframe tbody tr th:only-of-type {\n",
       "        vertical-align: middle;\n",
       "    }\n",
       "\n",
       "    .dataframe tbody tr th {\n",
       "        vertical-align: top;\n",
       "    }\n",
       "\n",
       "    .dataframe thead th {\n",
       "        text-align: right;\n",
       "    }\n",
       "</style>\n",
       "<table border=\"1\" class=\"dataframe\">\n",
       "  <thead>\n",
       "    <tr style=\"text-align: right;\">\n",
       "      <th></th>\n",
       "      <th>Peak</th>\n",
       "      <th>Cell</th>\n",
       "      <th>Count</th>\n",
       "      <th>Cluster</th>\n",
       "    </tr>\n",
       "  </thead>\n",
       "  <tbody>\n",
       "    <tr>\n",
       "      <th>1</th>\n",
       "      <td>107868</td>\n",
       "      <td>1</td>\n",
       "      <td>2</td>\n",
       "      <td>2</td>\n",
       "    </tr>\n",
       "    <tr>\n",
       "      <th>2</th>\n",
       "      <td>107737</td>\n",
       "      <td>1</td>\n",
       "      <td>2</td>\n",
       "      <td>2</td>\n",
       "    </tr>\n",
       "    <tr>\n",
       "      <th>3</th>\n",
       "      <td>107289</td>\n",
       "      <td>1</td>\n",
       "      <td>2</td>\n",
       "      <td>2</td>\n",
       "    </tr>\n",
       "    <tr>\n",
       "      <th>4</th>\n",
       "      <td>107018</td>\n",
       "      <td>1</td>\n",
       "      <td>2</td>\n",
       "      <td>2</td>\n",
       "    </tr>\n",
       "    <tr>\n",
       "      <th>5</th>\n",
       "      <td>107001</td>\n",
       "      <td>1</td>\n",
       "      <td>2</td>\n",
       "      <td>2</td>\n",
       "    </tr>\n",
       "    <tr>\n",
       "      <th>...</th>\n",
       "      <td>...</td>\n",
       "      <td>...</td>\n",
       "      <td>...</td>\n",
       "      <td>...</td>\n",
       "    </tr>\n",
       "    <tr>\n",
       "      <th>6174919</th>\n",
       "      <td>84</td>\n",
       "      <td>843</td>\n",
       "      <td>2</td>\n",
       "      <td>3</td>\n",
       "    </tr>\n",
       "    <tr>\n",
       "      <th>6174920</th>\n",
       "      <td>76</td>\n",
       "      <td>843</td>\n",
       "      <td>2</td>\n",
       "      <td>3</td>\n",
       "    </tr>\n",
       "    <tr>\n",
       "      <th>6174921</th>\n",
       "      <td>40</td>\n",
       "      <td>843</td>\n",
       "      <td>2</td>\n",
       "      <td>3</td>\n",
       "    </tr>\n",
       "    <tr>\n",
       "      <th>6174922</th>\n",
       "      <td>30</td>\n",
       "      <td>843</td>\n",
       "      <td>2</td>\n",
       "      <td>3</td>\n",
       "    </tr>\n",
       "    <tr>\n",
       "      <th>6174923</th>\n",
       "      <td>11</td>\n",
       "      <td>843</td>\n",
       "      <td>2</td>\n",
       "      <td>3</td>\n",
       "    </tr>\n",
       "  </tbody>\n",
       "</table>\n",
       "<p>6174923 rows × 4 columns</p>\n",
       "</div>"
      ],
      "text/plain": [
       "           Peak  Cell  Count  Cluster\n",
       "1        107868     1      2        2\n",
       "2        107737     1      2        2\n",
       "3        107289     1      2        2\n",
       "4        107018     1      2        2\n",
       "5        107001     1      2        2\n",
       "...         ...   ...    ...      ...\n",
       "6174919      84   843      2        3\n",
       "6174920      76   843      2        3\n",
       "6174921      40   843      2        3\n",
       "6174922      30   843      2        3\n",
       "6174923      11   843      2        3\n",
       "\n",
       "[6174923 rows x 4 columns]"
      ]
     },
     "execution_count": 9,
     "metadata": {},
     "output_type": "execute_result"
    }
   ],
   "source": [
    "peaks_sparse_mtx[\"Cluster\"] = peaks_sparse_mtx[\"Cell\"].apply(lambda x: clusters_df.loc[x-1,\"Cluster\"])\n",
    "peaks_sparse_mtx"
   ]
  },
  {
   "cell_type": "code",
   "execution_count": 10,
   "metadata": {
    "ExecuteTime": {
     "end_time": "2021-05-18T05:50:40.877812Z",
     "start_time": "2021-05-18T05:49:31.197171Z"
    },
    "scrolled": true
   },
   "outputs": [],
   "source": [
    "peaks_sparse_mtx[\"gene\"] = peaks_sparse_mtx[\"Peak\"].apply(lambda x: peak_annotations.loc[x-1,\"gene\"])"
   ]
  },
  {
   "cell_type": "markdown",
   "metadata": {},
   "source": [
    "## See the number of cells within a peak and number of peaks within a cell."
   ]
  },
  {
   "cell_type": "code",
   "execution_count": 12,
   "metadata": {
    "ExecuteTime": {
     "end_time": "2021-05-18T05:50:46.651619Z",
     "start_time": "2021-05-18T05:50:40.896225Z"
    },
    "scrolled": true
   },
   "outputs": [
    {
     "name": "stdout",
     "output_type": "stream",
     "text": [
      "Cell\n",
      "1        195\n",
      "2        380\n",
      "3        972\n",
      "4      14849\n",
      "5        360\n",
      "       ...  \n",
      "839       79\n",
      "840     4590\n",
      "841      727\n",
      "842    10922\n",
      "843     7836\n",
      "Length: 843, dtype: int64\n"
     ]
    }
   ],
   "source": [
    "peaks_dense = peaks_sparse_mtx.pivot(index=\"Peak\", columns=\"Cell\",values=\"Count\").fillna(0)\n",
    "print((peaks_dense>0).sum())"
   ]
  },
  {
   "cell_type": "code",
   "execution_count": 13,
   "metadata": {
    "ExecuteTime": {
     "end_time": "2021-05-18T05:50:47.475785Z",
     "start_time": "2021-05-18T05:50:46.653968Z"
    }
   },
   "outputs": [
    {
     "data": {
      "text/plain": [
       "Text(0.5, 1.0, 'Distribution of number of peaks seen in a cell across all cells')"
      ]
     },
     "execution_count": 13,
     "metadata": {},
     "output_type": "execute_result"
    },
    {
     "data": {
      "image/png": "[encoded data removed]",
      "text/plain": [
       "<Figure size 432x288 with 1 Axes>"
      ]
     },
     "metadata": {
      "needs_background": "light"
     },
     "output_type": "display_data"
    }
   ],
   "source": [
    "sns.distplot((peaks_dense>0).sum(axis=0))\n",
    "plt.title(\"Distribution of number of peaks seen in a cell across all cells\")"
   ]
  },
  {
   "cell_type": "code",
   "execution_count": 14,
   "metadata": {
    "ExecuteTime": {
     "end_time": "2021-05-18T05:50:48.484364Z",
     "start_time": "2021-05-18T05:50:47.477459Z"
    },
    "scrolled": true
   },
   "outputs": [
    {
     "data": {
      "text/plain": [
       "Text(0.5, 1.0, 'Distribution of the number of cells seen in a peak across all peaks')"
      ]
     },
     "execution_count": 14,
     "metadata": {},
     "output_type": "execute_result"
    },
    {
     "data": {
      "image/png": "[encoded data removed]",
      "text/plain": [
       "<Figure size 432x288 with 1 Axes>"
      ]
     },
     "metadata": {
      "needs_background": "light"
     },
     "output_type": "display_data"
    }
   ],
   "source": [
    "sns.distplot((peaks_dense>0).sum(axis=1))\n",
    "plt.title(\"Distribution of the number of cells seen in a peak across all peaks\")"
   ]
  },
  {
   "cell_type": "markdown",
   "metadata": {},
   "source": [
    "## Look at CHIP mutations\n",
    "- TP53\n",
    "- U2AF1\n",
    "- SF3B1\n",
    "- SRSF2\n",
    "- TET2\n",
    "- IDH1\n",
    "- IDH2  \n",
    "TP53 and the splicing factor U2AF1 conferred the highest risk of AML development with hazard ratios of 12.5 and 7.9, respectively.16 This contrasts with hazard ratios for DNMT3A and TET2 of 1.4 and 1.6, respectively. In the study by Desai et al, mutations of TP53 and spliceosome genes (U2AF1, SF3B1,or SRSF2) also conferred a higher risk of AML development, with odds ratios of 47.2 and 7.4, respectively.17\n",
    "They also identified IDH1, IDH2, and RUNX1 with PHF6 mutations as high-risk mutations. Re- markably, in this study, all persons with TP53 mutations (n 5 21) or IDH1/2 mutations (n 5 15) developed AML a median of 5 to 6 years from CH sampling."
   ]
  },
  {
   "cell_type": "code",
   "execution_count": 15,
   "metadata": {
    "ExecuteTime": {
     "end_time": "2021-05-18T05:50:48.489106Z",
     "start_time": "2021-05-18T05:50:48.485971Z"
    }
   },
   "outputs": [],
   "source": [
    "chip_genes = [\"TP53\", \"U2AF1\", \"SF3B1\", \"SRSF2\", \"TET2\", \"IDH1\", \"IDH2\"]"
   ]
  },
  {
   "cell_type": "code",
   "execution_count": 16,
   "metadata": {
    "ExecuteTime": {
     "end_time": "2021-05-18T05:50:48.526466Z",
     "start_time": "2021-05-18T05:50:48.490653Z"
    },
    "scrolled": true
   },
   "outputs": [
    {
     "name": "stderr",
     "output_type": "stream",
     "text": [
      "/home/isshamie/software/anaconda2/envs/mito_trace/lib/python3.7/site-packages/ipykernel_launcher.py:3: SettingWithCopyWarning: \n",
      "A value is trying to be set on a copy of a slice from a DataFrame.\n",
      "Try using .loc[row_indexer,col_indexer] = value instead\n",
      "\n",
      "See the caveats in the documentation: http://pandas.pydata.org/pandas-docs/stable/user_guide/indexing.html#returning-a-view-versus-a-copy\n",
      "  This is separate from the ipykernel package so we can avoid doing imports until\n"
     ]
    },
    {
     "data": {
      "text/html": [
       "<div>\n",
       "<style scoped>\n",
       "    .dataframe tbody tr th:only-of-type {\n",
       "        vertical-align: middle;\n",
       "    }\n",
       "\n",
       "    .dataframe tbody tr th {\n",
       "        vertical-align: top;\n",
       "    }\n",
       "\n",
       "    .dataframe thead th {\n",
       "        text-align: right;\n",
       "    }\n",
       "</style>\n",
       "<table border=\"1\" class=\"dataframe\">\n",
       "  <thead>\n",
       "    <tr style=\"text-align: right;\">\n",
       "      <th></th>\n",
       "      <th>peak</th>\n",
       "      <th>gene</th>\n",
       "      <th>distance</th>\n",
       "      <th>peak_type</th>\n",
       "      <th>ID</th>\n",
       "    </tr>\n",
       "  </thead>\n",
       "  <tbody>\n",
       "    <tr>\n",
       "      <th>17340</th>\n",
       "      <td>chr2_197378451_197378865</td>\n",
       "      <td>SF3B1</td>\n",
       "      <td>56162</td>\n",
       "      <td>distal</td>\n",
       "      <td>SF3B1_distal_56162</td>\n",
       "    </tr>\n",
       "    <tr>\n",
       "      <th>17341</th>\n",
       "      <td>chr2_197425773_197425880</td>\n",
       "      <td>SF3B1</td>\n",
       "      <td>9147</td>\n",
       "      <td>distal</td>\n",
       "      <td>SF3B1_distal_9147</td>\n",
       "    </tr>\n",
       "    <tr>\n",
       "      <th>17342</th>\n",
       "      <td>chr2_197434412_197435641</td>\n",
       "      <td>SF3B1</td>\n",
       "      <td>0</td>\n",
       "      <td>promoter</td>\n",
       "      <td>SF3B1_promoter_0</td>\n",
       "    </tr>\n",
       "    <tr>\n",
       "      <th>17343</th>\n",
       "      <td>chr2_197442560_197443246</td>\n",
       "      <td>SF3B1</td>\n",
       "      <td>-7470</td>\n",
       "      <td>distal</td>\n",
       "      <td>SF3B1_distal_-7470</td>\n",
       "    </tr>\n",
       "    <tr>\n",
       "      <th>17344</th>\n",
       "      <td>chr2_197443765_197444364</td>\n",
       "      <td>SF3B1</td>\n",
       "      <td>-8675</td>\n",
       "      <td>distal</td>\n",
       "      <td>SF3B1_distal_-8675</td>\n",
       "    </tr>\n",
       "    <tr>\n",
       "      <th>17738</th>\n",
       "      <td>chr2_208228484_208228798</td>\n",
       "      <td>IDH1</td>\n",
       "      <td>25524</td>\n",
       "      <td>distal</td>\n",
       "      <td>IDH1_distal_25524</td>\n",
       "    </tr>\n",
       "    <tr>\n",
       "      <th>17739</th>\n",
       "      <td>chr2_208250394_208250839</td>\n",
       "      <td>IDH1</td>\n",
       "      <td>3483</td>\n",
       "      <td>distal</td>\n",
       "      <td>IDH1_distal_3483</td>\n",
       "    </tr>\n",
       "    <tr>\n",
       "      <th>17740</th>\n",
       "      <td>chr2_208252804_208255891</td>\n",
       "      <td>IDH1</td>\n",
       "      <td>0</td>\n",
       "      <td>promoter</td>\n",
       "      <td>IDH1_promoter_0</td>\n",
       "    </tr>\n",
       "    <tr>\n",
       "      <th>28815</th>\n",
       "      <td>chr4_104963858_104963885</td>\n",
       "      <td>TET2</td>\n",
       "      <td>-181990</td>\n",
       "      <td>distal</td>\n",
       "      <td>TET2_distal_-181990</td>\n",
       "    </tr>\n",
       "    <tr>\n",
       "      <th>28816</th>\n",
       "      <td>chr4_104966560_104967136</td>\n",
       "      <td>TET2</td>\n",
       "      <td>-178739</td>\n",
       "      <td>distal</td>\n",
       "      <td>TET2_distal_-178739</td>\n",
       "    </tr>\n",
       "    <tr>\n",
       "      <th>28817</th>\n",
       "      <td>chr4_104973777_104974081</td>\n",
       "      <td>TET2</td>\n",
       "      <td>-171794</td>\n",
       "      <td>distal</td>\n",
       "      <td>TET2_distal_-171794</td>\n",
       "    </tr>\n",
       "    <tr>\n",
       "      <th>28818</th>\n",
       "      <td>chr4_104976275_104976754</td>\n",
       "      <td>TET2</td>\n",
       "      <td>-169121</td>\n",
       "      <td>distal</td>\n",
       "      <td>TET2_distal_-169121</td>\n",
       "    </tr>\n",
       "    <tr>\n",
       "      <th>28819</th>\n",
       "      <td>chr4_104983883_104983900</td>\n",
       "      <td>TET2</td>\n",
       "      <td>-161975</td>\n",
       "      <td>distal</td>\n",
       "      <td>TET2_distal_-161975</td>\n",
       "    </tr>\n",
       "    <tr>\n",
       "      <th>28820</th>\n",
       "      <td>chr4_105014718_105015018</td>\n",
       "      <td>TET2</td>\n",
       "      <td>-130857</td>\n",
       "      <td>distal</td>\n",
       "      <td>TET2_distal_-130857</td>\n",
       "    </tr>\n",
       "    <tr>\n",
       "      <th>28821</th>\n",
       "      <td>chr4_105022747_105023446</td>\n",
       "      <td>TET2</td>\n",
       "      <td>-122429</td>\n",
       "      <td>distal</td>\n",
       "      <td>TET2_distal_-122429</td>\n",
       "    </tr>\n",
       "    <tr>\n",
       "      <th>28822</th>\n",
       "      <td>chr4_105057396_105058619</td>\n",
       "      <td>TET2</td>\n",
       "      <td>-87256</td>\n",
       "      <td>distal</td>\n",
       "      <td>TET2_distal_-87256</td>\n",
       "    </tr>\n",
       "    <tr>\n",
       "      <th>28823</th>\n",
       "      <td>chr4_105059507_105059650</td>\n",
       "      <td>TET2</td>\n",
       "      <td>-86225</td>\n",
       "      <td>distal</td>\n",
       "      <td>TET2_distal_-86225</td>\n",
       "    </tr>\n",
       "    <tr>\n",
       "      <th>28824</th>\n",
       "      <td>chr4_105060420_105062119</td>\n",
       "      <td>TET2</td>\n",
       "      <td>-83756</td>\n",
       "      <td>distal</td>\n",
       "      <td>TET2_distal_-83756</td>\n",
       "    </tr>\n",
       "    <tr>\n",
       "      <th>28825</th>\n",
       "      <td>chr4_105113684_105114274</td>\n",
       "      <td>TET2</td>\n",
       "      <td>-31601</td>\n",
       "      <td>distal</td>\n",
       "      <td>TET2_distal_-31601</td>\n",
       "    </tr>\n",
       "    <tr>\n",
       "      <th>28826</th>\n",
       "      <td>chr4_105116596_105116710</td>\n",
       "      <td>TET2</td>\n",
       "      <td>-29165</td>\n",
       "      <td>distal</td>\n",
       "      <td>TET2_distal_-29165</td>\n",
       "    </tr>\n",
       "    <tr>\n",
       "      <th>28827</th>\n",
       "      <td>chr4_105119612_105119621</td>\n",
       "      <td>TET2</td>\n",
       "      <td>-26254</td>\n",
       "      <td>distal</td>\n",
       "      <td>TET2_distal_-26254</td>\n",
       "    </tr>\n",
       "    <tr>\n",
       "      <th>28828</th>\n",
       "      <td>chr4_105135660_105136305</td>\n",
       "      <td>TET2</td>\n",
       "      <td>-9570</td>\n",
       "      <td>distal</td>\n",
       "      <td>TET2_distal_-9570</td>\n",
       "    </tr>\n",
       "    <tr>\n",
       "      <th>28829</th>\n",
       "      <td>chr4_105141120_105141221</td>\n",
       "      <td>TET2</td>\n",
       "      <td>-4654</td>\n",
       "      <td>distal</td>\n",
       "      <td>TET2_distal_-4654</td>\n",
       "    </tr>\n",
       "    <tr>\n",
       "      <th>28830</th>\n",
       "      <td>chr4_105144607_105148104</td>\n",
       "      <td>TET2</td>\n",
       "      <td>0</td>\n",
       "      <td>promoter</td>\n",
       "      <td>TET2_promoter_0</td>\n",
       "    </tr>\n",
       "    <tr>\n",
       "      <th>28831</th>\n",
       "      <td>chr4_105149797_105150220</td>\n",
       "      <td>TET2</td>\n",
       "      <td>2912</td>\n",
       "      <td>distal</td>\n",
       "      <td>TET2_distal_2912</td>\n",
       "    </tr>\n",
       "    <tr>\n",
       "      <th>28832</th>\n",
       "      <td>chr4_105155450_105155516</td>\n",
       "      <td>TET2</td>\n",
       "      <td>8565</td>\n",
       "      <td>distal</td>\n",
       "      <td>TET2_distal_8565</td>\n",
       "    </tr>\n",
       "    <tr>\n",
       "      <th>28833</th>\n",
       "      <td>chr4_105158508_105159030</td>\n",
       "      <td>TET2</td>\n",
       "      <td>11623</td>\n",
       "      <td>distal</td>\n",
       "      <td>TET2_distal_11623</td>\n",
       "    </tr>\n",
       "    <tr>\n",
       "      <th>28834</th>\n",
       "      <td>chr4_105170793_105170909</td>\n",
       "      <td>TET2</td>\n",
       "      <td>23908</td>\n",
       "      <td>distal</td>\n",
       "      <td>TET2_distal_23908</td>\n",
       "    </tr>\n",
       "    <tr>\n",
       "      <th>28835</th>\n",
       "      <td>chr4_105191597_105192216</td>\n",
       "      <td>TET2</td>\n",
       "      <td>44712</td>\n",
       "      <td>distal</td>\n",
       "      <td>TET2_distal_44712</td>\n",
       "    </tr>\n",
       "    <tr>\n",
       "      <th>28836</th>\n",
       "      <td>chr4_105196404_105197061</td>\n",
       "      <td>TET2</td>\n",
       "      <td>49519</td>\n",
       "      <td>distal</td>\n",
       "      <td>TET2_distal_49519</td>\n",
       "    </tr>\n",
       "    <tr>\n",
       "      <th>28837</th>\n",
       "      <td>chr4_105289158_105289175</td>\n",
       "      <td>TET2</td>\n",
       "      <td>142273</td>\n",
       "      <td>distal</td>\n",
       "      <td>TET2_distal_142273</td>\n",
       "    </tr>\n",
       "    <tr>\n",
       "      <th>28838</th>\n",
       "      <td>chr4_105293618_105293875</td>\n",
       "      <td>TET2</td>\n",
       "      <td>146733</td>\n",
       "      <td>distal</td>\n",
       "      <td>TET2_distal_146733</td>\n",
       "    </tr>\n",
       "    <tr>\n",
       "      <th>82832</th>\n",
       "      <td>chr15_90082419_90082719</td>\n",
       "      <td>IDH2</td>\n",
       "      <td>17976</td>\n",
       "      <td>distal</td>\n",
       "      <td>IDH2_distal_17976</td>\n",
       "    </tr>\n",
       "    <tr>\n",
       "      <th>82833</th>\n",
       "      <td>chr15_90083763_90083788</td>\n",
       "      <td>IDH2</td>\n",
       "      <td>16907</td>\n",
       "      <td>distal</td>\n",
       "      <td>IDH2_distal_16907</td>\n",
       "    </tr>\n",
       "    <tr>\n",
       "      <th>82834</th>\n",
       "      <td>chr15_90086756_90088002</td>\n",
       "      <td>IDH2</td>\n",
       "      <td>12693</td>\n",
       "      <td>distal</td>\n",
       "      <td>IDH2_distal_12693</td>\n",
       "    </tr>\n",
       "    <tr>\n",
       "      <th>82835</th>\n",
       "      <td>chr15_90097390_90098367</td>\n",
       "      <td>IDH2</td>\n",
       "      <td>2328</td>\n",
       "      <td>distal</td>\n",
       "      <td>IDH2_distal_2328</td>\n",
       "    </tr>\n",
       "    <tr>\n",
       "      <th>82836</th>\n",
       "      <td>chr15_90099055_90099142</td>\n",
       "      <td>IDH2</td>\n",
       "      <td>1553</td>\n",
       "      <td>distal</td>\n",
       "      <td>IDH2_distal_1553</td>\n",
       "    </tr>\n",
       "    <tr>\n",
       "      <th>82837</th>\n",
       "      <td>chr15_90099730_90103095</td>\n",
       "      <td>IDH2</td>\n",
       "      <td>0</td>\n",
       "      <td>promoter</td>\n",
       "      <td>IDH2_promoter_0</td>\n",
       "    </tr>\n",
       "    <tr>\n",
       "      <th>82838</th>\n",
       "      <td>chr15_90104510_90104846</td>\n",
       "      <td>IDH2</td>\n",
       "      <td>-2007</td>\n",
       "      <td>distal</td>\n",
       "      <td>IDH2_distal_-2007</td>\n",
       "    </tr>\n",
       "    <tr>\n",
       "      <th>82839</th>\n",
       "      <td>chr15_90126891_90127113</td>\n",
       "      <td>IDH2</td>\n",
       "      <td>-24388</td>\n",
       "      <td>distal</td>\n",
       "      <td>IDH2_distal_-24388</td>\n",
       "    </tr>\n",
       "    <tr>\n",
       "      <th>82840</th>\n",
       "      <td>chr15_90142544_90143715</td>\n",
       "      <td>IDH2</td>\n",
       "      <td>-40041</td>\n",
       "      <td>distal</td>\n",
       "      <td>IDH2_distal_-40041</td>\n",
       "    </tr>\n",
       "    <tr>\n",
       "      <th>103141</th>\n",
       "      <td>chr21_43107359_43107748</td>\n",
       "      <td>U2AF1</td>\n",
       "      <td>0</td>\n",
       "      <td>promoter</td>\n",
       "      <td>U2AF1_promoter_0</td>\n",
       "    </tr>\n",
       "  </tbody>\n",
       "</table>\n",
       "</div>"
      ],
      "text/plain": [
       "                            peak   gene distance peak_type  \\\n",
       "17340   chr2_197378451_197378865  SF3B1    56162    distal   \n",
       "17341   chr2_197425773_197425880  SF3B1     9147    distal   \n",
       "17342   chr2_197434412_197435641  SF3B1        0  promoter   \n",
       "17343   chr2_197442560_197443246  SF3B1    -7470    distal   \n",
       "17344   chr2_197443765_197444364  SF3B1    -8675    distal   \n",
       "17738   chr2_208228484_208228798   IDH1    25524    distal   \n",
       "17739   chr2_208250394_208250839   IDH1     3483    distal   \n",
       "17740   chr2_208252804_208255891   IDH1        0  promoter   \n",
       "28815   chr4_104963858_104963885   TET2  -181990    distal   \n",
       "28816   chr4_104966560_104967136   TET2  -178739    distal   \n",
       "28817   chr4_104973777_104974081   TET2  -171794    distal   \n",
       "28818   chr4_104976275_104976754   TET2  -169121    distal   \n",
       "28819   chr4_104983883_104983900   TET2  -161975    distal   \n",
       "28820   chr4_105014718_105015018   TET2  -130857    distal   \n",
       "28821   chr4_105022747_105023446   TET2  -122429    distal   \n",
       "28822   chr4_105057396_105058619   TET2   -87256    distal   \n",
       "28823   chr4_105059507_105059650   TET2   -86225    distal   \n",
       "28824   chr4_105060420_105062119   TET2   -83756    distal   \n",
       "28825   chr4_105113684_105114274   TET2   -31601    distal   \n",
       "28826   chr4_105116596_105116710   TET2   -29165    distal   \n",
       "28827   chr4_105119612_105119621   TET2   -26254    distal   \n",
       "28828   chr4_105135660_105136305   TET2    -9570    distal   \n",
       "28829   chr4_105141120_105141221   TET2    -4654    distal   \n",
       "28830   chr4_105144607_105148104   TET2        0  promoter   \n",
       "28831   chr4_105149797_105150220   TET2     2912    distal   \n",
       "28832   chr4_105155450_105155516   TET2     8565    distal   \n",
       "28833   chr4_105158508_105159030   TET2    11623    distal   \n",
       "28834   chr4_105170793_105170909   TET2    23908    distal   \n",
       "28835   chr4_105191597_105192216   TET2    44712    distal   \n",
       "28836   chr4_105196404_105197061   TET2    49519    distal   \n",
       "28837   chr4_105289158_105289175   TET2   142273    distal   \n",
       "28838   chr4_105293618_105293875   TET2   146733    distal   \n",
       "82832    chr15_90082419_90082719   IDH2    17976    distal   \n",
       "82833    chr15_90083763_90083788   IDH2    16907    distal   \n",
       "82834    chr15_90086756_90088002   IDH2    12693    distal   \n",
       "82835    chr15_90097390_90098367   IDH2     2328    distal   \n",
       "82836    chr15_90099055_90099142   IDH2     1553    distal   \n",
       "82837    chr15_90099730_90103095   IDH2        0  promoter   \n",
       "82838    chr15_90104510_90104846   IDH2    -2007    distal   \n",
       "82839    chr15_90126891_90127113   IDH2   -24388    distal   \n",
       "82840    chr15_90142544_90143715   IDH2   -40041    distal   \n",
       "103141   chr21_43107359_43107748  U2AF1        0  promoter   \n",
       "\n",
       "                         ID  \n",
       "17340    SF3B1_distal_56162  \n",
       "17341     SF3B1_distal_9147  \n",
       "17342      SF3B1_promoter_0  \n",
       "17343    SF3B1_distal_-7470  \n",
       "17344    SF3B1_distal_-8675  \n",
       "17738     IDH1_distal_25524  \n",
       "17739      IDH1_distal_3483  \n",
       "17740       IDH1_promoter_0  \n",
       "28815   TET2_distal_-181990  \n",
       "28816   TET2_distal_-178739  \n",
       "28817   TET2_distal_-171794  \n",
       "28818   TET2_distal_-169121  \n",
       "28819   TET2_distal_-161975  \n",
       "28820   TET2_distal_-130857  \n",
       "28821   TET2_distal_-122429  \n",
       "28822    TET2_distal_-87256  \n",
       "28823    TET2_distal_-86225  \n",
       "28824    TET2_distal_-83756  \n",
       "28825    TET2_distal_-31601  \n",
       "28826    TET2_distal_-29165  \n",
       "28827    TET2_distal_-26254  \n",
       "28828     TET2_distal_-9570  \n",
       "28829     TET2_distal_-4654  \n",
       "28830       TET2_promoter_0  \n",
       "28831      TET2_distal_2912  \n",
       "28832      TET2_distal_8565  \n",
       "28833     TET2_distal_11623  \n",
       "28834     TET2_distal_23908  \n",
       "28835     TET2_distal_44712  \n",
       "28836     TET2_distal_49519  \n",
       "28837    TET2_distal_142273  \n",
       "28838    TET2_distal_146733  \n",
       "82832     IDH2_distal_17976  \n",
       "82833     IDH2_distal_16907  \n",
       "82834     IDH2_distal_12693  \n",
       "82835      IDH2_distal_2328  \n",
       "82836      IDH2_distal_1553  \n",
       "82837       IDH2_promoter_0  \n",
       "82838     IDH2_distal_-2007  \n",
       "82839    IDH2_distal_-24388  \n",
       "82840    IDH2_distal_-40041  \n",
       "103141     U2AF1_promoter_0  "
      ]
     },
     "execution_count": 16,
     "metadata": {},
     "output_type": "execute_result"
    }
   ],
   "source": [
    "chip_df = peak_annotations[peak_annotations[\"gene\"].isin(chip_genes)]\n",
    "chip_inds = peak_annotations[peak_annotations[\"gene\"].isin(chip_genes)].index\n",
    "chip_df[\"ID\"] = chip_df.apply(lambda x: x[\"gene\"]+\"_\"+x[\"peak_type\"]+\"_\"+x[\"distance\"],axis=1)\n",
    "chip_df"
   ]
  },
  {
   "cell_type": "code",
   "execution_count": 17,
   "metadata": {
    "ExecuteTime": {
     "end_time": "2021-05-18T05:50:48.985581Z",
     "start_time": "2021-05-18T05:50:48.528216Z"
    }
   },
   "outputs": [
    {
     "data": {
      "text/plain": [
       "(array([24.,  5.,  2.,  1.,  0.,  1.,  0.,  1.,  1.,  2.]),\n",
       " array([  1. ,  29.5,  58. ,  86.5, 115. , 143.5, 172. , 200.5, 229. ,\n",
       "        257.5, 286. ]),\n",
       " <a list of 10 Patch objects>)"
      ]
     },
     "execution_count": 17,
     "metadata": {},
     "output_type": "execute_result"
    },
    {
     "data": {
      "image/png": "[encoded data removed]",
      "text/plain": [
       "<Figure size 432x288 with 1 Axes>"
      ]
     },
     "metadata": {
      "needs_background": "light"
     },
     "output_type": "display_data"
    }
   ],
   "source": [
    "plt.hist((pd.merge(peaks_dense, chip_df[[\"ID\"]], \n",
    "                  left_index=True, right_index=True).set_index(\"ID\")>0).sum(axis=1))"
   ]
  },
  {
   "cell_type": "code",
   "execution_count": 18,
   "metadata": {
    "ExecuteTime": {
     "end_time": "2021-05-18T05:50:49.255369Z",
     "start_time": "2021-05-18T05:50:48.987219Z"
    },
    "scrolled": true
   },
   "outputs": [
    {
     "data": {
      "text/plain": [
       "ID\n",
       "SF3B1_distal_56162      21\n",
       "SF3B1_distal_9147       18\n",
       "SF3B1_promoter_0         2\n",
       "SF3B1_distal_-7470     282\n",
       "SF3B1_distal_-8675      22\n",
       "IDH1_distal_25524       71\n",
       "IDH1_distal_3483        19\n",
       "IDH1_promoter_0         14\n",
       "TET2_distal_-181990    164\n",
       "TET2_distal_-178739      1\n",
       "TET2_distal_-171794     54\n",
       "TET2_distal_-169121     18\n",
       "TET2_distal_-161975     24\n",
       "TET2_distal_-130857      2\n",
       "TET2_distal_-122429     12\n",
       "TET2_distal_-87256      27\n",
       "TET2_distal_-86225      47\n",
       "TET2_distal_-83756      12\n",
       "TET2_distal_-31601     209\n",
       "TET2_distal_-29165      48\n",
       "TET2_distal_-26254       2\n",
       "TET2_distal_-9570        1\n",
       "TET2_distal_-4654       51\n",
       "TET2_promoter_0          6\n",
       "TET2_distal_2912       286\n",
       "TET2_distal_8565        22\n",
       "TET2_distal_11623        1\n",
       "TET2_distal_23908       19\n",
       "TET2_distal_44712        7\n",
       "TET2_distal_49519       29\n",
       "TET2_distal_142273      59\n",
       "IDH2_distal_16907       11\n",
       "IDH2_distal_2328        44\n",
       "IDH2_distal_1553       102\n",
       "IDH2_distal_-2007      243\n",
       "IDH2_distal_-24388       4\n",
       "IDH2_distal_-40041       3\n",
       "dtype: int64"
      ]
     },
     "execution_count": 18,
     "metadata": {},
     "output_type": "execute_result"
    }
   ],
   "source": [
    "chip_dist = (pd.merge(peaks_dense, chip_df[[\"ID\"]], \n",
    "                  left_index=True, right_index=True).set_index(\"ID\")>0).sum(axis=1)\n",
    "chip_dist"
   ]
  },
  {
   "cell_type": "code",
   "execution_count": 19,
   "metadata": {
    "ExecuteTime": {
     "end_time": "2021-05-18T05:50:50.059681Z",
     "start_time": "2021-05-18T05:50:49.256875Z"
    }
   },
   "outputs": [
    {
     "data": {
      "text/plain": [
       "<matplotlib.axes._subplots.AxesSubplot at 0x7f0a64a2aa20>"
      ]
     },
     "execution_count": 19,
     "metadata": {},
     "output_type": "execute_result"
    },
    {
     "data": {
      "image/png": "[encoded data removed]",
      "text/plain": [
       "<Figure size 432x288 with 2 Axes>"
      ]
     },
     "metadata": {
      "needs_background": "light"
     },
     "output_type": "display_data"
    }
   ],
   "source": [
    "sns.heatmap(np.log2(1+pd.merge(peaks_dense, chip_df[[\"ID\"]], \n",
    "                  left_index=True, right_index=True).set_index(\"ID\")))"
   ]
  },
  {
   "cell_type": "code",
   "execution_count": 20,
   "metadata": {
    "ExecuteTime": {
     "end_time": "2021-05-18T05:50:50.266100Z",
     "start_time": "2021-05-18T05:50:50.061246Z"
    },
    "scrolled": true
   },
   "outputs": [
    {
     "data": {
      "text/plain": [
       "<matplotlib.axes._subplots.AxesSubplot at 0x7f0a66662940>"
      ]
     },
     "execution_count": 20,
     "metadata": {},
     "output_type": "execute_result"
    },
    {
     "data": {
      "image/png": "[encoded data removed]",
      "text/plain": [
       "<Figure size 432x288 with 1 Axes>"
      ]
     },
     "metadata": {
      "needs_background": "light"
     },
     "output_type": "display_data"
    }
   ],
   "source": [
    "sns.distplot(pd.merge(peaks_dense, chip_df[[\"ID\"]], left_index=True, right_index=True).set_index(\"ID\").sum(axis=1))"
   ]
  },
  {
   "cell_type": "code",
   "execution_count": null,
   "metadata": {},
   "outputs": [],
   "source": []
  },
  {
   "cell_type": "code",
   "execution_count": null,
   "metadata": {},
   "outputs": [],
   "source": []
  },
  {
   "cell_type": "code",
   "execution_count": null,
   "metadata": {},
   "outputs": [],
   "source": []
  },
  {
   "cell_type": "code",
   "execution_count": null,
   "metadata": {},
   "outputs": [],
   "source": []
  },
  {
   "cell_type": "markdown",
   "metadata": {},
   "source": [
    "## Look at how many T-cell annotated peaks (gene TRAC) were there and how many cells contained it"
   ]
  },
  {
   "cell_type": "code",
   "execution_count": 21,
   "metadata": {
    "ExecuteTime": {
     "end_time": "2021-05-18T05:50:50.283770Z",
     "start_time": "2021-05-18T05:50:50.267645Z"
    },
    "scrolled": false
   },
   "outputs": [
    {
     "data": {
      "text/html": [
       "<div>\n",
       "<style scoped>\n",
       "    .dataframe tbody tr th:only-of-type {\n",
       "        vertical-align: middle;\n",
       "    }\n",
       "\n",
       "    .dataframe tbody tr th {\n",
       "        vertical-align: top;\n",
       "    }\n",
       "\n",
       "    .dataframe thead th {\n",
       "        text-align: right;\n",
       "    }\n",
       "</style>\n",
       "<table border=\"1\" class=\"dataframe\">\n",
       "  <thead>\n",
       "    <tr style=\"text-align: right;\">\n",
       "      <th></th>\n",
       "      <th>peak</th>\n",
       "      <th>gene</th>\n",
       "      <th>distance</th>\n",
       "      <th>peak_type</th>\n",
       "    </tr>\n",
       "  </thead>\n",
       "  <tbody>\n",
       "    <tr>\n",
       "      <th>76357</th>\n",
       "      <td>chr14_22549904_22550609</td>\n",
       "      <td>TRAC</td>\n",
       "      <td>2399</td>\n",
       "      <td>distal</td>\n",
       "    </tr>\n",
       "    <tr>\n",
       "      <th>76358</th>\n",
       "      <td>chr14_22555557_22557677</td>\n",
       "      <td>TRAC</td>\n",
       "      <td>8052</td>\n",
       "      <td>distal</td>\n",
       "    </tr>\n",
       "    <tr>\n",
       "      <th>76359</th>\n",
       "      <td>chr14_22560824_22562335</td>\n",
       "      <td>TRAC</td>\n",
       "      <td>13319</td>\n",
       "      <td>distal</td>\n",
       "    </tr>\n",
       "  </tbody>\n",
       "</table>\n",
       "</div>"
      ],
      "text/plain": [
       "                          peak  gene distance peak_type\n",
       "76357  chr14_22549904_22550609  TRAC     2399    distal\n",
       "76358  chr14_22555557_22557677  TRAC     8052    distal\n",
       "76359  chr14_22560824_22562335  TRAC    13319    distal"
      ]
     },
     "execution_count": 21,
     "metadata": {},
     "output_type": "execute_result"
    }
   ],
   "source": [
    "peak_annotations[peak_annotations[\"gene\"] == \"TRAC\"]\n"
   ]
  },
  {
   "cell_type": "code",
   "execution_count": 22,
   "metadata": {
    "ExecuteTime": {
     "end_time": "2021-05-18T05:50:50.920373Z",
     "start_time": "2021-05-18T05:50:50.285713Z"
    }
   },
   "outputs": [],
   "source": [
    "trac_peaks = peaks_sparse_mtx[peaks_sparse_mtx[\"gene\"] == \"TRAC\"].groupby([\"Peak\", \"Cell\"]).size().reset_index().rename({0:\"Count\"},axis=1)"
   ]
  },
  {
   "cell_type": "code",
   "execution_count": 23,
   "metadata": {
    "ExecuteTime": {
     "end_time": "2021-05-18T05:50:50.928311Z",
     "start_time": "2021-05-18T05:50:50.922153Z"
    },
    "scrolled": true
   },
   "outputs": [
    {
     "name": "stdout",
     "output_type": "stream",
     "text": [
      "Number of cells for each peaks\n"
     ]
    },
    {
     "data": {
      "text/plain": [
       "Peak\n",
       "76358     63\n",
       "76359    346\n",
       "76360    131\n",
       "dtype: int64"
      ]
     },
     "execution_count": 23,
     "metadata": {},
     "output_type": "execute_result"
    }
   ],
   "source": [
    "print(\"Number of cells for each peaks\")\n",
    "trac_peaks.groupby(\"Peak\").size()"
   ]
  },
  {
   "cell_type": "code",
   "execution_count": null,
   "metadata": {},
   "outputs": [],
   "source": []
  },
  {
   "cell_type": "code",
   "execution_count": 24,
   "metadata": {
    "ExecuteTime": {
     "end_time": "2021-05-18T05:50:50.945450Z",
     "start_time": "2021-05-18T05:50:50.929877Z"
    },
    "scrolled": false
   },
   "outputs": [
    {
     "name": "stdout",
     "output_type": "stream",
     "text": [
      "Number of cells with at least one peak\n",
      "Peak\n",
      "76358     63\n",
      "76359    346\n",
      "76360    131\n",
      "dtype: int64\n",
      "\n",
      "\n",
      "Number Cells with at least one peak annotated as TRAC:\n",
      "415\n"
     ]
    }
   ],
   "source": [
    "print(\"Number of cells with at least one peak\")\n",
    "print(trac_peaks.groupby(\"Peak\").size())\n",
    "print(\"\\n\")\n",
    "print(\"Number Cells with at least one peak annotated as TRAC:\")\n",
    "print((trac_peaks.pivot(\"Cell\", columns=\"Peak\").fillna(0)>0).any(axis=1).sum())"
   ]
  }
 ],
 "metadata": {
  "celltoolbar": "Tags",
  "kernelspec": {
   "display_name": "Python 2",
   "language": "python",
   "name": "python2"
  },
  "language_info": {
   "codemirror_mode": {
    "name": "ipython",
    "version": 3
   },
   "file_extension": ".py",
   "mimetype": "text/x-python",
   "name": "python",
   "nbconvert_exporter": "python",
   "pygments_lexer": "ipython3",
   "version": "3.7.3"
  }
 },
 "nbformat": 4,
 "nbformat_minor": 1
}
