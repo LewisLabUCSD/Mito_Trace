{
 "cells": [
  {
   "cell_type": "code",
   "execution_count": 1,
   "metadata": {
    "ExecuteTime": {
     "end_time": "2021-05-24T04:06:26.486512Z",
     "start_time": "2021-05-24T04:06:26.156242Z"
    }
   },
   "outputs": [],
   "source": [
    "%matplotlib inline"
   ]
  },
  {
   "cell_type": "code",
   "execution_count": 2,
   "metadata": {
    "ExecuteTime": {
     "end_time": "2021-05-24T04:06:26.493561Z",
     "start_time": "2021-05-24T04:06:26.488588Z"
    },
    "scrolled": true
   },
   "outputs": [
    {
     "data": {
      "text/plain": [
       "'/data2/mito_lineage/Analysis/peaks_expression/CHIP_april08_2021'"
      ]
     },
     "execution_count": 2,
     "metadata": {},
     "output_type": "execute_result"
    }
   ],
   "source": [
    "pwd"
   ]
  },
  {
   "cell_type": "code",
   "execution_count": 3,
   "metadata": {
    "ExecuteTime": {
     "end_time": "2021-05-24T04:06:26.502297Z",
     "start_time": "2021-05-24T04:06:26.495693Z"
    },
    "tags": [
     "parameters"
    ]
   },
   "outputs": [],
   "source": [
    "config_f = \"config.yaml\"\n",
    "outdir=\"\""
   ]
  },
  {
   "cell_type": "code",
   "execution_count": 4,
   "metadata": {
    "ExecuteTime": {
     "end_time": "2021-05-24T04:06:26.511959Z",
     "start_time": "2021-05-24T04:06:26.504251Z"
    }
   },
   "outputs": [],
   "source": [
    "import os\n",
    "if outdir == \"\":\n",
    "    outdir=\"./output\"\n",
    "\n",
    "if not os.path.exists(outdir):\n",
    "    os.mkdir(outdir)"
   ]
  },
  {
   "cell_type": "code",
   "execution_count": 5,
   "metadata": {
    "ExecuteTime": {
     "end_time": "2021-05-24T04:06:27.365171Z",
     "start_time": "2021-05-24T04:06:26.513673Z"
    },
    "scrolled": true
   },
   "outputs": [],
   "source": [
    "from src.utils.parse_config import read_config_file\n",
    "from os.path import join, dirname\n",
    "import pandas as pd\n",
    "from glob import glob\n",
    "import seaborn as sns\n",
    "import numpy as np\n",
    "import matplotlib.pyplot as plt\n",
    "import mplh.cluster_help as ch\n",
    "%load_ext autoreload\n",
    "%autoreload 2"
   ]
  },
  {
   "cell_type": "code",
   "execution_count": 6,
   "metadata": {
    "ExecuteTime": {
     "end_time": "2021-05-24T04:06:27.396849Z",
     "start_time": "2021-05-24T04:06:27.368274Z"
    },
    "scrolled": true
   },
   "outputs": [
    {
     "data": {
      "text/plain": [
       "{'global': 'PROJECT',\n",
       " 'indir': '/data2/isshamie/mito_lineage/data/processed/mtscATAC/CHIP_april08_2021_Croker/MTblacklist',\n",
       " 'experiment': 'CHIP_april08_2021',\n",
       " 'genome': 'MTblacklist',\n",
       " 'chip_genes': ['TP53', 'U2AF1', 'SF3B1', 'SRSF2', 'TET2', 'IDH1', 'IDH2'],\n",
       " 'samples': ['Control', 'Flt3l', 'Input']}"
      ]
     },
     "execution_count": 6,
     "metadata": {},
     "output_type": "execute_result"
    }
   ],
   "source": [
    "config = read_config_file(config_f)\n",
    "chip_genes = config[\"chip_genes\"]\n",
    "config\n"
   ]
  },
  {
   "cell_type": "code",
   "execution_count": 7,
   "metadata": {
    "ExecuteTime": {
     "end_time": "2021-05-24T04:06:27.415948Z",
     "start_time": "2021-05-24T04:06:27.398610Z"
    }
   },
   "outputs": [],
   "source": [
    "samples_dict = {ind+1: val for ind, val in enumerate(config[\"samples\"])}"
   ]
  },
  {
   "cell_type": "markdown",
   "metadata": {},
   "source": [
    "### Load:\n",
    "1. Raw cells barcode w qc info\n",
    "2. filtered cells barcode list\n",
    "3. Peak-by-cell sparse matrix\n",
    "4. Peak gene annotations \n",
    "5. Graph clustering filtered cells cluster label\n",
    "6. TF-by-cell sparse count matrix\n",
    "7. TF labels"
   ]
  },
  {
   "cell_type": "code",
   "execution_count": 8,
   "metadata": {
    "ExecuteTime": {
     "end_time": "2021-05-24T04:06:28.332931Z",
     "start_time": "2021-05-24T04:06:27.417656Z"
    },
    "scrolled": true
   },
   "outputs": [
    {
     "data": {
      "text/html": [
       "<div>\n",
       "<style scoped>\n",
       "    .dataframe tbody tr th:only-of-type {\n",
       "        vertical-align: middle;\n",
       "    }\n",
       "\n",
       "    .dataframe tbody tr th {\n",
       "        vertical-align: top;\n",
       "    }\n",
       "\n",
       "    .dataframe thead th {\n",
       "        text-align: right;\n",
       "    }\n",
       "</style>\n",
       "<table border=\"1\" class=\"dataframe\">\n",
       "  <thead>\n",
       "    <tr style=\"text-align: right;\">\n",
       "      <th></th>\n",
       "      <th>barcode</th>\n",
       "      <th>TSS_fragments</th>\n",
       "      <th>DNase_sensitive_region_fragments</th>\n",
       "      <th>enhancer_region_fragments</th>\n",
       "      <th>promoter_region_fragments</th>\n",
       "      <th>on_target_fragments</th>\n",
       "      <th>blacklist_region_fragments</th>\n",
       "      <th>peak_region_fragments</th>\n",
       "      <th>peak_region_cutsites</th>\n",
       "      <th>passed_filters</th>\n",
       "      <th>duplicate</th>\n",
       "      <th>cell_id</th>\n",
       "      <th>is__cell_barcode</th>\n",
       "      <th>Condition ID</th>\n",
       "      <th>Condition</th>\n",
       "    </tr>\n",
       "  </thead>\n",
       "  <tbody>\n",
       "    <tr>\n",
       "      <th>1</th>\n",
       "      <td>AAACGAAAGAAAGCAG-1</td>\n",
       "      <td>5</td>\n",
       "      <td>0</td>\n",
       "      <td>0</td>\n",
       "      <td>0</td>\n",
       "      <td>5</td>\n",
       "      <td>0</td>\n",
       "      <td>4</td>\n",
       "      <td>7</td>\n",
       "      <td>42</td>\n",
       "      <td>219</td>\n",
       "      <td>None</td>\n",
       "      <td>0</td>\n",
       "      <td>1</td>\n",
       "      <td>Control</td>\n",
       "    </tr>\n",
       "    <tr>\n",
       "      <th>2</th>\n",
       "      <td>AAACGAAAGAAAGCAG-2</td>\n",
       "      <td>10</td>\n",
       "      <td>0</td>\n",
       "      <td>0</td>\n",
       "      <td>0</td>\n",
       "      <td>10</td>\n",
       "      <td>0</td>\n",
       "      <td>4</td>\n",
       "      <td>8</td>\n",
       "      <td>84</td>\n",
       "      <td>61</td>\n",
       "      <td>None</td>\n",
       "      <td>0</td>\n",
       "      <td>2</td>\n",
       "      <td>Flt3l</td>\n",
       "    </tr>\n",
       "    <tr>\n",
       "      <th>3</th>\n",
       "      <td>AAACGAAAGAAATACC-1</td>\n",
       "      <td>0</td>\n",
       "      <td>0</td>\n",
       "      <td>0</td>\n",
       "      <td>0</td>\n",
       "      <td>0</td>\n",
       "      <td>0</td>\n",
       "      <td>0</td>\n",
       "      <td>0</td>\n",
       "      <td>1</td>\n",
       "      <td>0</td>\n",
       "      <td>None</td>\n",
       "      <td>0</td>\n",
       "      <td>1</td>\n",
       "      <td>Control</td>\n",
       "    </tr>\n",
       "    <tr>\n",
       "      <th>4</th>\n",
       "      <td>AAACGAAAGAACAGGA-2</td>\n",
       "      <td>3</td>\n",
       "      <td>0</td>\n",
       "      <td>0</td>\n",
       "      <td>0</td>\n",
       "      <td>3</td>\n",
       "      <td>0</td>\n",
       "      <td>3</td>\n",
       "      <td>6</td>\n",
       "      <td>5</td>\n",
       "      <td>6</td>\n",
       "      <td>None</td>\n",
       "      <td>0</td>\n",
       "      <td>2</td>\n",
       "      <td>Flt3l</td>\n",
       "    </tr>\n",
       "    <tr>\n",
       "      <th>5</th>\n",
       "      <td>AAACGAAAGAACCATA-2</td>\n",
       "      <td>0</td>\n",
       "      <td>0</td>\n",
       "      <td>0</td>\n",
       "      <td>0</td>\n",
       "      <td>0</td>\n",
       "      <td>0</td>\n",
       "      <td>0</td>\n",
       "      <td>0</td>\n",
       "      <td>1</td>\n",
       "      <td>0</td>\n",
       "      <td>None</td>\n",
       "      <td>0</td>\n",
       "      <td>2</td>\n",
       "      <td>Flt3l</td>\n",
       "    </tr>\n",
       "  </tbody>\n",
       "</table>\n",
       "</div>"
      ],
      "text/plain": [
       "              barcode  TSS_fragments  DNase_sensitive_region_fragments  \\\n",
       "1  AAACGAAAGAAAGCAG-1              5                                 0   \n",
       "2  AAACGAAAGAAAGCAG-2             10                                 0   \n",
       "3  AAACGAAAGAAATACC-1              0                                 0   \n",
       "4  AAACGAAAGAACAGGA-2              3                                 0   \n",
       "5  AAACGAAAGAACCATA-2              0                                 0   \n",
       "\n",
       "   enhancer_region_fragments  promoter_region_fragments  on_target_fragments  \\\n",
       "1                          0                          0                    5   \n",
       "2                          0                          0                   10   \n",
       "3                          0                          0                    0   \n",
       "4                          0                          0                    3   \n",
       "5                          0                          0                    0   \n",
       "\n",
       "   blacklist_region_fragments  peak_region_fragments  peak_region_cutsites  \\\n",
       "1                           0                      4                     7   \n",
       "2                           0                      4                     8   \n",
       "3                           0                      0                     0   \n",
       "4                           0                      3                     6   \n",
       "5                           0                      0                     0   \n",
       "\n",
       "   passed_filters  duplicate cell_id  is__cell_barcode Condition ID Condition  \n",
       "1              42        219    None                 0            1   Control  \n",
       "2              84         61    None                 0            2     Flt3l  \n",
       "3               1          0    None                 0            1   Control  \n",
       "4               5          6    None                 0            2     Flt3l  \n",
       "5               1          0    None                 0            2     Flt3l  "
      ]
     },
     "execution_count": 8,
     "metadata": {},
     "output_type": "execute_result"
    }
   ],
   "source": [
    "#curr_in = join(config[\"indir\"], config['CBs'][0], 'outs')\n",
    "\n",
    "curr_in = join(config[\"indir\"], \"aggregate\", \"outs\")\n",
    "#CBs = pd.read_csv(join(config[\"indir\"], \"barcodes_conditionInfo.csv\"), header=None)\n",
    "#CBs = CBs.drop(0,axis=1).rename({1:\"Condition\"}, axis=1)\n",
    "#CBs.index=CBs.index+1\n",
    "CBs = pd.read_csv(join(curr_in, \"singlecell.csv\"))\n",
    "CBs.index= CBs.index+1\n",
    "CBs[\"Condition ID\"] = CBs[\"barcode\"].apply(lambda x: x.split(\"-\")[-1])\n",
    "CBs[\"Condition\"] = CBs[\"Condition ID\"].astype(int).map(samples_dict)\n",
    "CBs.head()"
   ]
  },
  {
   "cell_type": "code",
   "execution_count": 9,
   "metadata": {
    "ExecuteTime": {
     "end_time": "2021-05-24T04:06:32.002037Z",
     "start_time": "2021-05-24T04:06:28.336527Z"
    }
   },
   "outputs": [],
   "source": [
    "cell_inds = pd.read_csv(join(curr_in, \"filtered_peak_bc_matrix\",\"barcodes.tsv\"),header=None)\n",
    "## Load peak annotations\n",
    "\n",
    "peak_annotations = pd.read_csv(join(curr_in,'peak_annotation.tsv'),sep='\\t')\n",
    "peak_annotations.index=peak_annotations.index+1\n",
    "peak_annotations[\"gene\"] = peak_annotations[\"gene\"].str.upper()\n",
    "peak_annotations[\"Peak\"]= peak_annotations.index\n",
    "# peak_annotations\n",
    "\n",
    "\n",
    "### Load clusters and add to CBs\n",
    "cluster_f = glob(join(curr_in,'analysis',\"clustering\", \"graphclust\",\"clusters.csv\"))\n",
    "clusters_df = pd.read_csv(cluster_f[0])\n",
    "clusters_df.index=clusters_df.index+1\n",
    "\n",
    "CBs=pd.concat((CBs,clusters_df), axis=1)\n",
    "\n",
    "## Load peaks matrix\n",
    "filename = join(curr_in,'filtered_peak_bc_matrix/matrix.mtx')\n",
    "peaks_sparse_mtx = pd.read_csv(filename,sep=' ',skiprows=2, header=None).iloc[1:].reset_index(drop=True)\n",
    "peaks_sparse_mtx.columns = [\"Peak\", \"Cell\", \"Count\"]\n",
    "\n"
   ]
  },
  {
   "cell_type": "markdown",
   "metadata": {},
   "source": [
    "## Look at marker genes from Lin et al"
   ]
  },
  {
   "cell_type": "code",
   "execution_count": 10,
   "metadata": {
    "ExecuteTime": {
     "end_time": "2021-05-24T04:06:32.023261Z",
     "start_time": "2021-05-24T04:06:32.004720Z"
    },
    "scrolled": true
   },
   "outputs": [],
   "source": [
    "# chip_markers ={\"cKit\":\"KIT\", \n",
    "#                  \"Sca1\": \"LY6E\", #\"Ly6a\",  #?? LY6K LY6E LY6H\n",
    "#                  \"CD11c\": \"ITGAX\",\n",
    "#                  \"CD150\": \"SLAMF1\", \n",
    "#                  \"CD34\": \"CD34\", \n",
    "#                  \"CD16/32\":\"FCGR3A\", \n",
    "#                  \"CD45.1\": \"PTPRC\",\n",
    "#                  \"CD45.2\":\"PTPRC\", \n",
    "#                  \"CD48\": \"SLAMF2\", # Other SLAMFs\n",
    "#                  \"IL7Ra\":\"IL7R\", \n",
    "#                  \"CD11b\":\"ITGAM\"}\n",
    "# chip_genes = list(chip_markers.values())\n",
    "# chip_genes"
   ]
  },
  {
   "cell_type": "markdown",
   "metadata": {},
   "source": [
    "## Filter for the chip genes \n",
    "Uses peak_annotations"
   ]
  },
  {
   "cell_type": "code",
   "execution_count": 11,
   "metadata": {
    "ExecuteTime": {
     "end_time": "2021-05-24T04:06:32.057630Z",
     "start_time": "2021-05-24T04:06:32.025401Z"
    },
    "scrolled": true
   },
   "outputs": [
    {
     "data": {
      "text/plain": [
       "{'distal',\n",
       " 'distal;distal',\n",
       " 'distal;distal;distal',\n",
       " 'distal;distal;distal;distal',\n",
       " 'distal;distal;distal;distal;distal',\n",
       " 'distal;distal;distal;distal;distal;distal',\n",
       " 'distal;distal;distal;distal;distal;distal;distal;distal;distal;distal;distal;distal;distal;distal',\n",
       " 'distal;distal;distal;distal;distal;distal;distal;distal;distal;distal;distal;distal;distal;distal;distal;distal;distal;distal;distal',\n",
       " 'distal;distal;distal;distal;distal;distal;distal;distal;distal;distal;distal;distal;distal;distal;distal;distal;distal;distal;distal;distal',\n",
       " 'distal;distal;distal;distal;distal;distal;distal;distal;distal;distal;distal;distal;distal;distal;distal;distal;distal;distal;distal;distal;distal;distal',\n",
       " 'distal;distal;distal;distal;distal;distal;distal;distal;distal;distal;distal;distal;distal;distal;distal;distal;distal;distal;distal;distal;distal;distal;distal',\n",
       " 'distal;distal;distal;distal;distal;distal;distal;distal;distal;distal;distal;distal;distal;distal;distal;distal;distal;distal;distal;promoter',\n",
       " 'distal;distal;distal;distal;distal;distal;distal;distal;distal;distal;distal;distal;distal;distal;distal;distal;promoter',\n",
       " 'distal;distal;distal;distal;distal;distal;distal;distal;distal;distal;distal;distal;distal;distal;promoter',\n",
       " 'distal;distal;distal;distal;distal;distal;distal;distal;distal;distal;distal;distal;promoter',\n",
       " 'distal;distal;distal;distal;distal;distal;distal;distal;distal;distal;promoter',\n",
       " 'distal;distal;distal;distal;distal;distal;distal;distal;promoter;distal;distal;distal;distal;distal',\n",
       " 'distal;distal;distal;distal;distal;distal;distal;promoter',\n",
       " 'distal;distal;distal;distal;distal;distal;promoter;distal;distal;distal',\n",
       " 'distal;distal;distal;distal;distal;promoter',\n",
       " 'distal;distal;distal;promoter',\n",
       " 'distal;distal;distal;promoter;distal;distal;distal;distal;distal;distal;distal;distal;distal;distal;distal;distal;distal;distal;distal',\n",
       " 'distal;distal;promoter',\n",
       " 'distal;distal;promoter;distal',\n",
       " 'distal;distal;promoter;distal;distal;distal;distal;distal;distal;distal;distal;distal;distal;distal;distal;distal;distal;distal',\n",
       " 'distal;distal;promoter;promoter',\n",
       " 'distal;promoter',\n",
       " 'distal;promoter;distal',\n",
       " 'distal;promoter;distal;distal',\n",
       " 'distal;promoter;distal;distal;distal;distal;distal;distal;distal;distal;distal;distal;distal;distal;distal;distal',\n",
       " 'distal;promoter;promoter',\n",
       " 'distal;promoter;promoter;distal',\n",
       " 'intergenic',\n",
       " 'promoter',\n",
       " 'promoter;distal',\n",
       " 'promoter;distal;distal',\n",
       " 'promoter;distal;distal;distal',\n",
       " 'promoter;distal;promoter',\n",
       " 'promoter;distal;promoter;distal',\n",
       " 'promoter;distal;promoter;promoter',\n",
       " 'promoter;promoter',\n",
       " 'promoter;promoter;distal',\n",
       " 'promoter;promoter;distal;distal',\n",
       " 'promoter;promoter;distal;promoter;distal',\n",
       " 'promoter;promoter;promoter',\n",
       " 'promoter;promoter;promoter;distal;distal',\n",
       " 'promoter;promoter;promoter;promoter',\n",
       " 'promoter;promoter;promoter;promoter;promoter',\n",
       " 'promoter;promoter;promoter;promoter;promoter;promoter;promoter'}"
      ]
     },
     "execution_count": 11,
     "metadata": {},
     "output_type": "execute_result"
    }
   ],
   "source": [
    "set(peak_annotations['peak_type'])"
   ]
  },
  {
   "cell_type": "code",
   "execution_count": 12,
   "metadata": {
    "ExecuteTime": {
     "end_time": "2021-05-24T04:06:32.095493Z",
     "start_time": "2021-05-24T04:06:32.059528Z"
    },
    "scrolled": true
   },
   "outputs": [
    {
     "data": {
      "text/html": [
       "<div>\n",
       "<style scoped>\n",
       "    .dataframe tbody tr th:only-of-type {\n",
       "        vertical-align: middle;\n",
       "    }\n",
       "\n",
       "    .dataframe tbody tr th {\n",
       "        vertical-align: top;\n",
       "    }\n",
       "\n",
       "    .dataframe thead th {\n",
       "        text-align: right;\n",
       "    }\n",
       "</style>\n",
       "<table border=\"1\" class=\"dataframe\">\n",
       "  <thead>\n",
       "    <tr style=\"text-align: right;\">\n",
       "      <th></th>\n",
       "      <th>peak</th>\n",
       "      <th>gene</th>\n",
       "      <th>distance</th>\n",
       "      <th>peak_type</th>\n",
       "    </tr>\n",
       "    <tr>\n",
       "      <th>Peak</th>\n",
       "      <th></th>\n",
       "      <th></th>\n",
       "      <th></th>\n",
       "      <th></th>\n",
       "    </tr>\n",
       "  </thead>\n",
       "  <tbody>\n",
       "    <tr>\n",
       "      <th>23273</th>\n",
       "      <td>chr2_197378400_197378845</td>\n",
       "      <td>SF3B1</td>\n",
       "      <td>56182</td>\n",
       "      <td>distal</td>\n",
       "    </tr>\n",
       "    <tr>\n",
       "      <th>23274</th>\n",
       "      <td>chr2_197433869_197436173</td>\n",
       "      <td>SF3B1</td>\n",
       "      <td>0</td>\n",
       "      <td>promoter</td>\n",
       "    </tr>\n",
       "    <tr>\n",
       "      <th>23275</th>\n",
       "      <td>chr2_197442806_197443246</td>\n",
       "      <td>SF3B1</td>\n",
       "      <td>-7716</td>\n",
       "      <td>distal</td>\n",
       "    </tr>\n",
       "    <tr>\n",
       "      <th>23276</th>\n",
       "      <td>chr2_197443756_197444291</td>\n",
       "      <td>SF3B1</td>\n",
       "      <td>-8666</td>\n",
       "      <td>distal</td>\n",
       "    </tr>\n",
       "    <tr>\n",
       "      <th>23858</th>\n",
       "      <td>chr2_208245818_208246098</td>\n",
       "      <td>IDH1</td>\n",
       "      <td>8224</td>\n",
       "      <td>distal</td>\n",
       "    </tr>\n",
       "  </tbody>\n",
       "</table>\n",
       "</div>"
      ],
      "text/plain": [
       "                           peak   gene distance peak_type\n",
       "Peak                                                     \n",
       "23273  chr2_197378400_197378845  SF3B1    56182    distal\n",
       "23274  chr2_197433869_197436173  SF3B1        0  promoter\n",
       "23275  chr2_197442806_197443246  SF3B1    -7716    distal\n",
       "23276  chr2_197443756_197444291  SF3B1    -8666    distal\n",
       "23858  chr2_208245818_208246098   IDH1     8224    distal"
      ]
     },
     "execution_count": 12,
     "metadata": {},
     "output_type": "execute_result"
    }
   ],
   "source": [
    "chip_anno = peak_annotations[peak_annotations[\"gene\"].isin(chip_genes)].set_index(\"Peak\", drop=True).copy()\n",
    "chip_anno.head()"
   ]
  },
  {
   "cell_type": "code",
   "execution_count": 13,
   "metadata": {
    "ExecuteTime": {
     "end_time": "2021-05-24T04:06:33.411934Z",
     "start_time": "2021-05-24T04:06:32.097550Z"
    },
    "scrolled": true
   },
   "outputs": [],
   "source": [
    "peaks_sparse_mtx = peaks_sparse_mtx.loc[peaks_sparse_mtx[\"Peak\"].isin(chip_anno.index)]\n",
    "peaks_sparse_mtx[\"gene\"] = peaks_sparse_mtx[\"Peak\"].map(peak_annotations[\"gene\"])\n",
    "peaks_sparse_mtx[\"Cluster\"] = peaks_sparse_mtx[\"Cell\"].map(clusters_df[\"Cluster\"])\n",
    "peaks_dense = peaks_sparse_mtx.pivot(index=\"Peak\", columns=\"Cell\",values=\"Count\").fillna(0)"
   ]
  },
  {
   "cell_type": "markdown",
   "metadata": {},
   "source": [
    "## The number of cells within a peak and number of peaks within a cell."
   ]
  },
  {
   "cell_type": "code",
   "execution_count": 14,
   "metadata": {
    "ExecuteTime": {
     "end_time": "2021-05-24T04:06:35.245472Z",
     "start_time": "2021-05-24T04:06:33.413969Z"
    }
   },
   "outputs": [
    {
     "name": "stderr",
     "output_type": "stream",
     "text": [
      "/data/isshamie/software/anaconda3/envs/mito_trace/lib/python3.6/site-packages/seaborn/distributions.py:2557: FutureWarning: `distplot` is a deprecated function and will be removed in a future version. Please adapt your code to use either `displot` (a figure-level function with similar flexibility) or `histplot` (an axes-level function for histograms).\n",
      "  warnings.warn(msg, FutureWarning)\n"
     ]
    },
    {
     "data": {
      "text/plain": [
       "Text(0.5, 1.0, 'Distribution of number of peaks seen in a cell across all cells')"
      ]
     },
     "execution_count": 14,
     "metadata": {},
     "output_type": "execute_result"
    },
    {
     "data": {
      "image/png": "[encoded data removed]",
      "text/plain": [
       "<Figure size 432x288 with 1 Axes>"
      ]
     },
     "metadata": {
      "needs_background": "light"
     },
     "output_type": "display_data"
    }
   ],
   "source": [
    "%matplotlib inline\n",
    "sns.distplot((peaks_dense>0).sum(axis=0))\n",
    "plt.title(\"Distribution of number of peaks seen in a cell across all cells\")"
   ]
  },
  {
   "cell_type": "code",
   "execution_count": 15,
   "metadata": {
    "ExecuteTime": {
     "end_time": "2021-05-24T04:06:36.888152Z",
     "start_time": "2021-05-24T04:06:35.247446Z"
    },
    "scrolled": true
   },
   "outputs": [
    {
     "name": "stderr",
     "output_type": "stream",
     "text": [
      "/data/isshamie/software/anaconda3/envs/mito_trace/lib/python3.6/site-packages/seaborn/distributions.py:2557: FutureWarning: `distplot` is a deprecated function and will be removed in a future version. Please adapt your code to use either `displot` (a figure-level function with similar flexibility) or `histplot` (an axes-level function for histograms).\n",
      "  warnings.warn(msg, FutureWarning)\n"
     ]
    },
    {
     "data": {
      "text/plain": [
       "Text(0.5, 1.0, 'Distribution of the number of cells seen in a peak across all peaks')"
      ]
     },
     "execution_count": 15,
     "metadata": {},
     "output_type": "execute_result"
    },
    {
     "data": {
      "image/png": "[encoded data removed]",
      "text/plain": [
       "<Figure size 432x288 with 1 Axes>"
      ]
     },
     "metadata": {
      "needs_background": "light"
     },
     "output_type": "display_data"
    }
   ],
   "source": [
    "%matplotlib inline\n",
    "sns.distplot((peaks_dense>0).sum(axis=1))\n",
    "plt.title(\"Distribution of the number of cells seen in a peak across all peaks\")"
   ]
  },
  {
   "cell_type": "code",
   "execution_count": 16,
   "metadata": {
    "ExecuteTime": {
     "end_time": "2021-05-24T04:06:36.920181Z",
     "start_time": "2021-05-24T04:06:36.890505Z"
    },
    "scrolled": true
   },
   "outputs": [],
   "source": [
    "#chip_anno = peak_annotations[peak_annotations[\"gene\"].isin(chip_genes)].copy()\n",
    "#chip_inds = peak_annotations.index\n",
    "chip_anno[\"ID\"] = chip_anno.apply(lambda x: x[\"gene\"]+\"_\"+x[\"peak_type\"]+\"_\"+x[\"distance\"],axis=1)\n",
    "chip_peaks_dense = peaks_dense.loc[chip_anno.index].copy()\n",
    "#chip_peaks_dense = chip_peaks_dense.rename(chip_anno.set_index(\"Peak\").apply(lambda x: x[\"gene\"]+\"_\"+x[\"peak_type\"],axis=1), axis=0)\n",
    "#chip_peaks_dense"
   ]
  },
  {
   "cell_type": "markdown",
   "metadata": {},
   "source": [
    "## Cluster based on CHIP genes "
   ]
  },
  {
   "cell_type": "markdown",
   "metadata": {},
   "source": [
    "### a. Dont cluster the chip peaks"
   ]
  },
  {
   "cell_type": "code",
   "execution_count": 17,
   "metadata": {
    "ExecuteTime": {
     "end_time": "2021-05-24T04:06:36.938637Z",
     "start_time": "2021-05-24T04:06:36.922046Z"
    },
    "scrolled": false
   },
   "outputs": [],
   "source": [
    "# %matplotlib inline\n",
    "# #rand_df = chip_peaks_dense.sample(n=500,axis=1)\n",
    "# ch.plot_cluster(chip_peaks_dense.fillna(0), row_meta=chip_anno[[\"gene\", \"peak_type\"]], \n",
    "#                 col_meta=CBs[[\"Condition\", \"Cluster\"]], to_row_clust=False, row_names=False,\n",
    "#                 metric='jaccard', to_legend=True, white_name=None )"
   ]
  },
  {
   "cell_type": "markdown",
   "metadata": {},
   "source": [
    "### b. Clustering the chip peaks as well\n",
    "and binarizing the results as 0 or >0"
   ]
  },
  {
   "cell_type": "code",
   "execution_count": 18,
   "metadata": {
    "ExecuteTime": {
     "end_time": "2021-05-24T04:06:55.232283Z",
     "start_time": "2021-05-24T04:06:36.940403Z"
    },
    "scrolled": false
   },
   "outputs": [
    {
     "name": "stdout",
     "output_type": "stream",
     "text": [
      "clustering\n",
      "cmap None\n"
     ]
    },
    {
     "data": {
      "image/png": "[encoded data removed]",
      "text/plain": [
       "<Figure size 720x720 with 6 Axes>"
      ]
     },
     "metadata": {
      "needs_background": "light"
     },
     "output_type": "display_data"
    }
   ],
   "source": [
    "#geneType_chip_anno = chip_anno.rename(chip_anno.apply(lambda x: x[\"gene\"]+\"_\"+x[\"peak_type\"],axis=1), axis=0)\n",
    "rand_df = chip_peaks_dense.sample(n=1000,axis=1)\n",
    "ch.plot_cluster(rand_df.fillna(0), row_meta=chip_anno[[\"gene\", \"peak_type\"]], \n",
    "                col_meta=CBs.drop([\"Barcode\",\"Cluster\"],axis=1).loc[rand_df.columns][[\"Condition\"]], to_row_clust=True, \n",
    "                metric='jaccard', to_legend=True, white_name=None, row_names=False )\n",
    "plt.savefig(join(outdir, \"CHIP_genes_chromatinFragments.png\"), bbox_inches='tight')"
   ]
  },
  {
   "cell_type": "markdown",
   "metadata": {},
   "source": [
    "## Countplots for each gene and peak type"
   ]
  },
  {
   "cell_type": "code",
   "execution_count": 19,
   "metadata": {
    "ExecuteTime": {
     "end_time": "2021-05-24T04:06:55.421329Z",
     "start_time": "2021-05-24T04:06:55.234225Z"
    },
    "scrolled": false
   },
   "outputs": [
    {
     "name": "stderr",
     "output_type": "stream",
     "text": [
      "/data/isshamie/software/anaconda3/envs/mito_trace/lib/python3.6/site-packages/seaborn/_decorators.py:43: FutureWarning: Pass the following variable as a keyword arg: x. From version 0.12, the only valid positional argument will be `data`, and passing other arguments without an explicit keyword will result in an error or misinterpretation.\n",
      "  FutureWarning\n"
     ]
    },
    {
     "data": {
      "text/plain": [
       "<AxesSubplot:xlabel='gene', ylabel='count'>"
      ]
     },
     "execution_count": 19,
     "metadata": {},
     "output_type": "execute_result"
    },
    {
     "data": {
      "image/png": "[encoded data removed]",
      "text/plain": [
       "<Figure size 432x288 with 1 Axes>"
      ]
     },
     "metadata": {
      "needs_background": "light"
     },
     "output_type": "display_data"
    }
   ],
   "source": [
    "sns.countplot(chip_anno[\"gene\"])"
   ]
  },
  {
   "cell_type": "code",
   "execution_count": 20,
   "metadata": {
    "ExecuteTime": {
     "end_time": "2021-05-24T04:06:55.565430Z",
     "start_time": "2021-05-24T04:06:55.423129Z"
    },
    "scrolled": false
   },
   "outputs": [
    {
     "name": "stderr",
     "output_type": "stream",
     "text": [
      "/data/isshamie/software/anaconda3/envs/mito_trace/lib/python3.6/site-packages/seaborn/_decorators.py:43: FutureWarning: Pass the following variable as a keyword arg: x. From version 0.12, the only valid positional argument will be `data`, and passing other arguments without an explicit keyword will result in an error or misinterpretation.\n",
      "  FutureWarning\n"
     ]
    },
    {
     "data": {
      "text/plain": [
       "<AxesSubplot:xlabel='peak_type', ylabel='count'>"
      ]
     },
     "execution_count": 20,
     "metadata": {},
     "output_type": "execute_result"
    },
    {
     "data": {
      "image/png": "[encoded data removed]",
      "text/plain": [
       "<Figure size 432x288 with 1 Axes>"
      ]
     },
     "metadata": {
      "needs_background": "light"
     },
     "output_type": "display_data"
    }
   ],
   "source": [
    "sns.countplot(chip_anno[\"peak_type\"])"
   ]
  },
  {
   "cell_type": "code",
   "execution_count": null,
   "metadata": {},
   "outputs": [],
   "source": []
  },
  {
   "cell_type": "code",
   "execution_count": null,
   "metadata": {},
   "outputs": [],
   "source": []
  }
 ],
 "metadata": {
  "celltoolbar": "Tags",
  "kernelspec": {
   "display_name": "Python 2",
   "language": "python",
   "name": "python2"
  },
  "language_info": {
   "codemirror_mode": {
    "name": "ipython",
    "version": 3
   },
   "file_extension": ".py",
   "mimetype": "text/x-python",
   "name": "python",
   "nbconvert_exporter": "python",
   "pygments_lexer": "ipython3",
   "version": "3.6.13"
  }
 },
 "nbformat": 4,
 "nbformat_minor": 1
}
