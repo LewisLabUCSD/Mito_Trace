{
 "cells": [
  {
   "cell_type": "code",
   "execution_count": 1,
   "metadata": {
    "ExecuteTime": {
     "end_time": "2021-01-10T22:44:52.614440Z",
     "start_time": "2021-01-10T22:44:52.611333Z"
    },
    "tags": [
     "parameters"
    ]
   },
   "outputs": [],
   "source": [
    "AD_F = \"cellSNP.tag.AD.mtx\"\n",
    "DP_F = \"cellSNP.tag.DP.mtx\"\n",
    "VCF_F = \"cellSNP.base.vcf\"\n",
    "INDIR='.'\n",
    "#OUTDIR='./results/'\n",
    "NUM_DONORS=2\n",
    "prob_threshold=0.8"
   ]
  },
  {
   "cell_type": "code",
   "execution_count": 2,
   "metadata": {
    "ExecuteTime": {
     "end_time": "2021-01-10T22:44:53.494152Z",
     "start_time": "2021-01-10T22:44:52.616300Z"
    }
   },
   "outputs": [],
   "source": [
    "import os\n",
    "import pandas as pd\n",
    "import seaborn as sns\n",
    "from glob import glob\n",
    "from scipy import stats\n",
    "from os.path import join\n"
   ]
  },
  {
   "cell_type": "code",
   "execution_count": 3,
   "metadata": {
    "ExecuteTime": {
     "end_time": "2021-01-10T22:44:53.498980Z",
     "start_time": "2021-01-10T22:44:53.496681Z"
    }
   },
   "outputs": [],
   "source": [
    "# if not os.path.exists(OUTDIR):\n",
    "#     os.mkdir(OUTDIR)"
   ]
  },
  {
   "cell_type": "code",
   "execution_count": 4,
   "metadata": {
    "ExecuteTime": {
     "end_time": "2021-01-10T22:44:53.504017Z",
     "start_time": "2021-01-10T22:44:53.501054Z"
    }
   },
   "outputs": [],
   "source": [
    "# data = [\"data/vireo/pseudo/numC1000_ispropFalse\", \n",
    "#  \"data/PBMC_J_cellSNP\", \"data/PBMC_P_cellSNP\", '--num_cells', 1000, '--is_prop', False]\n",
    "\n",
    "outdir = \"data/vireo/pseudo/numC1000_ispropFalse\"\n",
    "indirs = (\"data/PBMC_J_cellSNP\", \"data/PBMC_P_cellSNP\")\n",
    "num_cells_total = 2000\n",
    "is_proportional = False\n",
    "cell_subsample=0.1"
   ]
  },
  {
   "cell_type": "code",
   "execution_count": 5,
   "metadata": {
    "ExecuteTime": {
     "end_time": "2021-01-10T22:44:53.522573Z",
     "start_time": "2021-01-10T22:44:53.505731Z"
    },
    "code_folding": []
   },
   "outputs": [],
   "source": [
    "from os.path import join\n",
    "import os\n",
    "from numpy import random\n",
    "import numpy as np\n",
    "import pandas as pd\n",
    "import click\n",
    "import sys\n",
    "\n",
    "def load_mtx_df(in_f, skip_first=True):\n",
    "    df = pd.read_csv(in_f, comment=\"%\", header=None, sep=\"\\t\")\n",
    "    df.columns = [\"Variant\", \"Cell\", \"integer\"]\n",
    "    if skip_first:\n",
    "        df = df.iloc[1:] # Seems to be summary values\n",
    "    return df\n",
    "\n"
   ]
  },
  {
   "cell_type": "markdown",
   "metadata": {},
   "source": [
    "##  Merges the variant files called from cellSNP and creates the old to new map"
   ]
  },
  {
   "cell_type": "code",
   "execution_count": 6,
   "metadata": {
    "ExecuteTime": {
     "end_time": "2021-01-10T22:44:53.556361Z",
     "start_time": "2021-01-10T22:44:53.524272Z"
    },
    "scrolled": true
   },
   "outputs": [],
   "source": [
    "\"\"\" Merges the variant files called from cellSNP\n",
    "\n",
    ":param indirs:\n",
    ":return:\n",
    "\"\"\"\n",
    "variants = pd.read_csv(join(indirs[0], \"cellSNP.base.vcf\"),\n",
    "                       skiprows=1, sep=\"\\t\")\n",
    "old_variants = {}\n",
    "old_variants[indirs[0]] = variants.copy()\n",
    "old_variants[indirs[0]].loc[:,\"old\"] = 0\n",
    "old_variants[indirs[0]].loc[:,\"old\"] = old_variants[indirs[0]].index+1\n",
    "#variants[indirs[0]] = variants.index.values + 1\n",
    "for ind, val in enumerate(indirs[1:]):\n",
    "    curr = pd.read_csv(join(val, \"cellSNP.base.vcf\"), skiprows=1,\n",
    "                       sep=\"\\t\")\n",
    "    #curr[\"old index\"] = curr.index.values+1\n",
    "    #curr[val] = curr.index.values + 1\n",
    "    variants = pd.merge(variants, curr, on=[\"#CHROM\", \"POS\", \"ALT\"],\n",
    "                        how=\"outer\")\n",
    "    old_variants[val] = curr.copy()\n",
    "    old_variants[val][\"old\"] = 0 \n",
    "    old_variants[val][\"old\"] = curr.index.values+1"
   ]
  },
  {
   "cell_type": "code",
   "execution_count": 7,
   "metadata": {
    "ExecuteTime": {
     "end_time": "2021-01-10T22:44:53.620019Z",
     "start_time": "2021-01-10T22:44:53.558145Z"
    }
   },
   "outputs": [
    {
     "name": "stderr",
     "output_type": "stream",
     "text": [
      "/home/isshamie/software/anaconda2/envs/mito_trace/lib/python3.7/site-packages/ipykernel_launcher.py:20: FutureWarning: The signature of `Series.to_csv` was aligned to that of `DataFrame.to_csv`, and argument 'header' will change its default value from False to True: please pass an explicit value to suppress this warning.\n"
     ]
    }
   ],
   "source": [
    "\n",
    "# Loop again and map the coordinates\n",
    "vars_coords = dict()\n",
    "variants[\"new ID\"] = variants.index.values+1\n",
    "full_vars = variants.copy()\n",
    "\n",
    "# what the new index should be.\n",
    "for val in indirs:\n",
    "    curr_vars = pd.read_csv(join(val, \"cellSNP.base.vcf\"),\n",
    "                            skiprows=1, sep=\"\\t\")\n",
    "    curr_vars[\"old index\"] = curr_vars.index+1\n",
    "    curr_vars = pd.merge(curr_vars, full_vars, how=\"inner\", on=[\"#CHROM\", \"POS\", \"ALT\"])\n",
    "    curr_vars.index = curr_vars[\"old index\"]\n",
    "    vars_coords[val] = curr_vars[\"new ID\"]  # Pandas series\n",
    "\n",
    "if outdir is not None:\n",
    "    variants.to_csv(join(outdir, \"cellSNP.base.vcf\"), sep='\\t', index=False)\n",
    "    for ind, val in enumerate(indirs):\n",
    "        out_f = join(outdir, f\"variant_indices_{ind}.tsv\")\n",
    "        vars_coords[val].index.name = val\n",
    "        vars_coords[val].to_csv(out_f, sep=\"\\t\") #Use index + header\n",
    "\n",
    "#vars_coords, variants = merge_vcf_ids(indirs, outdir=outdir)"
   ]
  },
  {
   "cell_type": "markdown",
   "metadata": {},
   "source": [
    "### Get the number of cells for the proportion"
   ]
  },
  {
   "cell_type": "code",
   "execution_count": 8,
   "metadata": {
    "ExecuteTime": {
     "end_time": "2021-01-10T22:44:53.647520Z",
     "start_time": "2021-01-10T22:44:53.621763Z"
    }
   },
   "outputs": [
    {
     "name": "stdout",
     "output_type": "stream",
     "text": [
      "data/vireo/pseudo/numC1000_ispropFalse ('data/PBMC_J_cellSNP', 'data/PBMC_P_cellSNP') 0.1 2000 False\n",
      "<class 'bool'>\n",
      "cell proportion [0.53297953 0.46702047]\n"
     ]
    }
   ],
   "source": [
    "print(outdir, indirs, cell_subsample,\n",
    "                          num_cells_total,\n",
    "                          is_proportional)\n",
    "print(type(is_proportional))\n",
    "if outdir in indirs:\n",
    "    raise ValueError(\"Outdir is one of the indirs. This cant be. Please change one.\")\n",
    "# Count number of cells first\n",
    "cell_count = {}\n",
    "for i in indirs:\n",
    "    dp_f = join(i, \"cellSNP.tag.DP.mtx\")\n",
    "    dp = pd.read_csv(dp_f, comment=\"%\", header=None, sep=\"\\t\")\n",
    "    dp.columns = [\"Variant\", \"Cell\", \"integer\"]\n",
    "    dp = dp.iloc[1:]\n",
    "    cell_count[i] = len(set(dp[\"Cell\"].values))\n",
    "cell_proportion = np.array(list(cell_count.values()))/sum(cell_count.values())\n",
    "print('cell proportion', cell_proportion)\n",
    "\n",
    "# ad[\"Variant\"] = vars_coords[ad[\"Variant\"]]\n",
    "# dp[\"Variant\"] = vars_coords[dp[\"Variant\"]]\n",
    "# oth[\"Variant\"] = vars_coords[oth[\"Variant\"]]"
   ]
  },
  {
   "cell_type": "code",
   "execution_count": 9,
   "metadata": {
    "ExecuteTime": {
     "end_time": "2021-01-10T22:44:53.685017Z",
     "start_time": "2021-01-10T22:44:53.650006Z"
    }
   },
   "outputs": [],
   "source": [
    "all_ads = {}\n",
    "all_dps = {}\n",
    "all_oths = {}\n",
    "for i in indirs:\n",
    "    ad_f = join(i, \"cellSNP.tag.AD.mtx\")\n",
    "    dp_f = join(i, \"cellSNP.tag.DP.mtx\")\n",
    "    oth_f = join(i, \"cellSNP.tag.OTH.mtx\")\n",
    "\n",
    "    ad = load_mtx_df(ad_f, skip_first=False)\n",
    "    dp = load_mtx_df(dp_f, skip_first=False)\n",
    "    oth = load_mtx_df(oth_f, skip_first=False)\n",
    "    all_ads[i] = ad\n",
    "    all_dps[i] = dp\n",
    "    all_oths[i] = oth"
   ]
  },
  {
   "cell_type": "code",
   "execution_count": 10,
   "metadata": {
    "ExecuteTime": {
     "end_time": "2021-01-10T22:44:53.697891Z",
     "start_time": "2021-01-10T22:44:53.686864Z"
    },
    "scrolled": false
   },
   "outputs": [
    {
     "data": {
      "text/html": [
       "<div>\n",
       "<style scoped>\n",
       "    .dataframe tbody tr th:only-of-type {\n",
       "        vertical-align: middle;\n",
       "    }\n",
       "\n",
       "    .dataframe tbody tr th {\n",
       "        vertical-align: top;\n",
       "    }\n",
       "\n",
       "    .dataframe thead th {\n",
       "        text-align: right;\n",
       "    }\n",
       "</style>\n",
       "<table border=\"1\" class=\"dataframe\">\n",
       "  <thead>\n",
       "    <tr style=\"text-align: right;\">\n",
       "      <th></th>\n",
       "      <th>Variant</th>\n",
       "      <th>Cell</th>\n",
       "      <th>integer</th>\n",
       "    </tr>\n",
       "  </thead>\n",
       "  <tbody>\n",
       "    <tr>\n",
       "      <th>0</th>\n",
       "      <td>1003</td>\n",
       "      <td>663</td>\n",
       "      <td>8090</td>\n",
       "    </tr>\n",
       "    <tr>\n",
       "      <th>1</th>\n",
       "      <td>2</td>\n",
       "      <td>546</td>\n",
       "      <td>1</td>\n",
       "    </tr>\n",
       "    <tr>\n",
       "      <th>2</th>\n",
       "      <td>4</td>\n",
       "      <td>14</td>\n",
       "      <td>1</td>\n",
       "    </tr>\n",
       "    <tr>\n",
       "      <th>3</th>\n",
       "      <td>4</td>\n",
       "      <td>22</td>\n",
       "      <td>2</td>\n",
       "    </tr>\n",
       "    <tr>\n",
       "      <th>4</th>\n",
       "      <td>4</td>\n",
       "      <td>24</td>\n",
       "      <td>1</td>\n",
       "    </tr>\n",
       "    <tr>\n",
       "      <th>...</th>\n",
       "      <td>...</td>\n",
       "      <td>...</td>\n",
       "      <td>...</td>\n",
       "    </tr>\n",
       "    <tr>\n",
       "      <th>8086</th>\n",
       "      <td>996</td>\n",
       "      <td>520</td>\n",
       "      <td>1</td>\n",
       "    </tr>\n",
       "    <tr>\n",
       "      <th>8087</th>\n",
       "      <td>996</td>\n",
       "      <td>532</td>\n",
       "      <td>2</td>\n",
       "    </tr>\n",
       "    <tr>\n",
       "      <th>8088</th>\n",
       "      <td>996</td>\n",
       "      <td>533</td>\n",
       "      <td>2</td>\n",
       "    </tr>\n",
       "    <tr>\n",
       "      <th>8089</th>\n",
       "      <td>996</td>\n",
       "      <td>654</td>\n",
       "      <td>1</td>\n",
       "    </tr>\n",
       "    <tr>\n",
       "      <th>8090</th>\n",
       "      <td>1003</td>\n",
       "      <td>295</td>\n",
       "      <td>1</td>\n",
       "    </tr>\n",
       "  </tbody>\n",
       "</table>\n",
       "<p>8091 rows × 3 columns</p>\n",
       "</div>"
      ],
      "text/plain": [
       "      Variant  Cell  integer\n",
       "0        1003   663     8090\n",
       "1           2   546        1\n",
       "2           4    14        1\n",
       "3           4    22        2\n",
       "4           4    24        1\n",
       "...       ...   ...      ...\n",
       "8086      996   520        1\n",
       "8087      996   532        2\n",
       "8088      996   533        2\n",
       "8089      996   654        1\n",
       "8090     1003   295        1\n",
       "\n",
       "[8091 rows x 3 columns]"
      ]
     },
     "execution_count": 10,
     "metadata": {},
     "output_type": "execute_result"
    }
   ],
   "source": [
    "ad"
   ]
  },
  {
   "cell_type": "code",
   "execution_count": 11,
   "metadata": {
    "ExecuteTime": {
     "end_time": "2021-01-10T22:44:53.709073Z",
     "start_time": "2021-01-10T22:44:53.699620Z"
    }
   },
   "outputs": [
    {
     "data": {
      "text/html": [
       "<div>\n",
       "<style scoped>\n",
       "    .dataframe tbody tr th:only-of-type {\n",
       "        vertical-align: middle;\n",
       "    }\n",
       "\n",
       "    .dataframe tbody tr th {\n",
       "        vertical-align: top;\n",
       "    }\n",
       "\n",
       "    .dataframe thead th {\n",
       "        text-align: right;\n",
       "    }\n",
       "</style>\n",
       "<table border=\"1\" class=\"dataframe\">\n",
       "  <thead>\n",
       "    <tr style=\"text-align: right;\">\n",
       "      <th></th>\n",
       "      <th>Variant</th>\n",
       "      <th>Cell</th>\n",
       "      <th>integer</th>\n",
       "    </tr>\n",
       "  </thead>\n",
       "  <tbody>\n",
       "    <tr>\n",
       "      <th>0</th>\n",
       "      <td>1003</td>\n",
       "      <td>663</td>\n",
       "      <td>15947</td>\n",
       "    </tr>\n",
       "    <tr>\n",
       "      <th>1</th>\n",
       "      <td>1</td>\n",
       "      <td>50</td>\n",
       "      <td>1</td>\n",
       "    </tr>\n",
       "    <tr>\n",
       "      <th>2</th>\n",
       "      <td>1</td>\n",
       "      <td>53</td>\n",
       "      <td>2</td>\n",
       "    </tr>\n",
       "    <tr>\n",
       "      <th>3</th>\n",
       "      <td>1</td>\n",
       "      <td>57</td>\n",
       "      <td>2</td>\n",
       "    </tr>\n",
       "    <tr>\n",
       "      <th>4</th>\n",
       "      <td>1</td>\n",
       "      <td>61</td>\n",
       "      <td>2</td>\n",
       "    </tr>\n",
       "    <tr>\n",
       "      <th>...</th>\n",
       "      <td>...</td>\n",
       "      <td>...</td>\n",
       "      <td>...</td>\n",
       "    </tr>\n",
       "    <tr>\n",
       "      <th>15943</th>\n",
       "      <td>1002</td>\n",
       "      <td>135</td>\n",
       "      <td>1</td>\n",
       "    </tr>\n",
       "    <tr>\n",
       "      <th>15944</th>\n",
       "      <td>1002</td>\n",
       "      <td>257</td>\n",
       "      <td>1</td>\n",
       "    </tr>\n",
       "    <tr>\n",
       "      <th>15945</th>\n",
       "      <td>1002</td>\n",
       "      <td>572</td>\n",
       "      <td>1</td>\n",
       "    </tr>\n",
       "    <tr>\n",
       "      <th>15946</th>\n",
       "      <td>1002</td>\n",
       "      <td>614</td>\n",
       "      <td>1</td>\n",
       "    </tr>\n",
       "    <tr>\n",
       "      <th>15947</th>\n",
       "      <td>1003</td>\n",
       "      <td>295</td>\n",
       "      <td>1</td>\n",
       "    </tr>\n",
       "  </tbody>\n",
       "</table>\n",
       "<p>15948 rows × 3 columns</p>\n",
       "</div>"
      ],
      "text/plain": [
       "       Variant  Cell  integer\n",
       "0         1003   663    15947\n",
       "1            1    50        1\n",
       "2            1    53        2\n",
       "3            1    57        2\n",
       "4            1    61        2\n",
       "...        ...   ...      ...\n",
       "15943     1002   135        1\n",
       "15944     1002   257        1\n",
       "15945     1002   572        1\n",
       "15946     1002   614        1\n",
       "15947     1003   295        1\n",
       "\n",
       "[15948 rows x 3 columns]"
      ]
     },
     "execution_count": 11,
     "metadata": {},
     "output_type": "execute_result"
    }
   ],
   "source": [
    "dp"
   ]
  },
  {
   "cell_type": "code",
   "execution_count": 12,
   "metadata": {
    "ExecuteTime": {
     "end_time": "2021-01-10T22:44:53.723422Z",
     "start_time": "2021-01-10T22:44:53.710740Z"
    },
    "scrolled": true
   },
   "outputs": [
    {
     "data": {
      "text/html": [
       "<div>\n",
       "<style scoped>\n",
       "    .dataframe tbody tr th:only-of-type {\n",
       "        vertical-align: middle;\n",
       "    }\n",
       "\n",
       "    .dataframe tbody tr th {\n",
       "        vertical-align: top;\n",
       "    }\n",
       "\n",
       "    .dataframe thead th {\n",
       "        text-align: right;\n",
       "    }\n",
       "</style>\n",
       "<table border=\"1\" class=\"dataframe\">\n",
       "  <thead>\n",
       "    <tr style=\"text-align: right;\">\n",
       "      <th></th>\n",
       "      <th>Variant</th>\n",
       "      <th>Cell</th>\n",
       "      <th>integer</th>\n",
       "    </tr>\n",
       "  </thead>\n",
       "  <tbody>\n",
       "    <tr>\n",
       "      <th>0</th>\n",
       "      <td>1003</td>\n",
       "      <td>663</td>\n",
       "      <td>15020</td>\n",
       "    </tr>\n",
       "    <tr>\n",
       "      <th>1</th>\n",
       "      <td>1</td>\n",
       "      <td>289</td>\n",
       "      <td>1</td>\n",
       "    </tr>\n",
       "    <tr>\n",
       "      <th>2</th>\n",
       "      <td>1</td>\n",
       "      <td>388</td>\n",
       "      <td>1</td>\n",
       "    </tr>\n",
       "    <tr>\n",
       "      <th>3</th>\n",
       "      <td>3</td>\n",
       "      <td>13</td>\n",
       "      <td>2</td>\n",
       "    </tr>\n",
       "    <tr>\n",
       "      <th>4</th>\n",
       "      <td>3</td>\n",
       "      <td>14</td>\n",
       "      <td>4</td>\n",
       "    </tr>\n",
       "    <tr>\n",
       "      <th>...</th>\n",
       "      <td>...</td>\n",
       "      <td>...</td>\n",
       "      <td>...</td>\n",
       "    </tr>\n",
       "    <tr>\n",
       "      <th>15016</th>\n",
       "      <td>1003</td>\n",
       "      <td>535</td>\n",
       "      <td>2</td>\n",
       "    </tr>\n",
       "    <tr>\n",
       "      <th>15017</th>\n",
       "      <td>1003</td>\n",
       "      <td>549</td>\n",
       "      <td>1</td>\n",
       "    </tr>\n",
       "    <tr>\n",
       "      <th>15018</th>\n",
       "      <td>1003</td>\n",
       "      <td>592</td>\n",
       "      <td>2</td>\n",
       "    </tr>\n",
       "    <tr>\n",
       "      <th>15019</th>\n",
       "      <td>1003</td>\n",
       "      <td>597</td>\n",
       "      <td>1</td>\n",
       "    </tr>\n",
       "    <tr>\n",
       "      <th>15020</th>\n",
       "      <td>1003</td>\n",
       "      <td>656</td>\n",
       "      <td>2</td>\n",
       "    </tr>\n",
       "  </tbody>\n",
       "</table>\n",
       "<p>15021 rows × 3 columns</p>\n",
       "</div>"
      ],
      "text/plain": [
       "       Variant  Cell  integer\n",
       "0         1003   663    15020\n",
       "1            1   289        1\n",
       "2            1   388        1\n",
       "3            3    13        2\n",
       "4            3    14        4\n",
       "...        ...   ...      ...\n",
       "15016     1003   535        2\n",
       "15017     1003   549        1\n",
       "15018     1003   592        2\n",
       "15019     1003   597        1\n",
       "15020     1003   656        2\n",
       "\n",
       "[15021 rows x 3 columns]"
      ]
     },
     "execution_count": 12,
     "metadata": {},
     "output_type": "execute_result"
    }
   ],
   "source": [
    "oth"
   ]
  },
  {
   "cell_type": "code",
   "execution_count": 13,
   "metadata": {
    "ExecuteTime": {
     "end_time": "2021-01-10T22:45:36.510944Z",
     "start_time": "2021-01-10T22:45:36.499747Z"
    }
   },
   "outputs": [
    {
     "name": "stdout",
     "output_type": "stream",
     "text": [
      "oth 874\n",
      "dp 910\n",
      "ad 526\n"
     ]
    }
   ],
   "source": [
    "print('oth', len(set(oth[\"Variant\"].values)))\n",
    "print('dp', len(set(dp[\"Variant\"].values)))\n",
    "print('ad', len(set(ad[\"Variant\"].values)))"
   ]
  },
  {
   "cell_type": "code",
   "execution_count": 28,
   "metadata": {
    "ExecuteTime": {
     "end_time": "2021-01-10T23:07:49.676009Z",
     "start_time": "2021-01-10T23:07:49.662432Z"
    },
    "scrolled": true
   },
   "outputs": [
    {
     "data": {
      "text/html": [
       "<div>\n",
       "<style scoped>\n",
       "    .dataframe tbody tr th:only-of-type {\n",
       "        vertical-align: middle;\n",
       "    }\n",
       "\n",
       "    .dataframe tbody tr th {\n",
       "        vertical-align: top;\n",
       "    }\n",
       "\n",
       "    .dataframe thead th {\n",
       "        text-align: right;\n",
       "    }\n",
       "</style>\n",
       "<table border=\"1\" class=\"dataframe\">\n",
       "  <thead>\n",
       "    <tr style=\"text-align: right;\">\n",
       "      <th></th>\n",
       "      <th>Variant</th>\n",
       "      <th>Cell</th>\n",
       "      <th>integer</th>\n",
       "    </tr>\n",
       "  </thead>\n",
       "  <tbody>\n",
       "    <tr>\n",
       "      <th>0</th>\n",
       "      <td>1003</td>\n",
       "      <td>663</td>\n",
       "      <td>15020</td>\n",
       "    </tr>\n",
       "    <tr>\n",
       "      <th>1</th>\n",
       "      <td>1</td>\n",
       "      <td>289</td>\n",
       "      <td>1</td>\n",
       "    </tr>\n",
       "    <tr>\n",
       "      <th>2</th>\n",
       "      <td>1</td>\n",
       "      <td>388</td>\n",
       "      <td>1</td>\n",
       "    </tr>\n",
       "    <tr>\n",
       "      <th>3</th>\n",
       "      <td>3</td>\n",
       "      <td>13</td>\n",
       "      <td>2</td>\n",
       "    </tr>\n",
       "    <tr>\n",
       "      <th>4</th>\n",
       "      <td>3</td>\n",
       "      <td>14</td>\n",
       "      <td>4</td>\n",
       "    </tr>\n",
       "    <tr>\n",
       "      <th>...</th>\n",
       "      <td>...</td>\n",
       "      <td>...</td>\n",
       "      <td>...</td>\n",
       "    </tr>\n",
       "    <tr>\n",
       "      <th>15016</th>\n",
       "      <td>1003</td>\n",
       "      <td>535</td>\n",
       "      <td>2</td>\n",
       "    </tr>\n",
       "    <tr>\n",
       "      <th>15017</th>\n",
       "      <td>1003</td>\n",
       "      <td>549</td>\n",
       "      <td>1</td>\n",
       "    </tr>\n",
       "    <tr>\n",
       "      <th>15018</th>\n",
       "      <td>1003</td>\n",
       "      <td>592</td>\n",
       "      <td>2</td>\n",
       "    </tr>\n",
       "    <tr>\n",
       "      <th>15019</th>\n",
       "      <td>1003</td>\n",
       "      <td>597</td>\n",
       "      <td>1</td>\n",
       "    </tr>\n",
       "    <tr>\n",
       "      <th>15020</th>\n",
       "      <td>1003</td>\n",
       "      <td>656</td>\n",
       "      <td>2</td>\n",
       "    </tr>\n",
       "  </tbody>\n",
       "</table>\n",
       "<p>15021 rows × 3 columns</p>\n",
       "</div>"
      ],
      "text/plain": [
       "       Variant  Cell  integer\n",
       "0         1003   663    15020\n",
       "1            1   289        1\n",
       "2            1   388        1\n",
       "3            3    13        2\n",
       "4            3    14        4\n",
       "...        ...   ...      ...\n",
       "15016     1003   535        2\n",
       "15017     1003   549        1\n",
       "15018     1003   592        2\n",
       "15019     1003   597        1\n",
       "15020     1003   656        2\n",
       "\n",
       "[15021 rows x 3 columns]"
      ]
     },
     "execution_count": 28,
     "metadata": {},
     "output_type": "execute_result"
    }
   ],
   "source": [
    "oth"
   ]
  },
  {
   "cell_type": "markdown",
   "metadata": {},
   "source": [
    "## For the cells, Dp should include ad, but oth, which is not the reference or not the vcf alternative allele, can be unique, but ideally low. This is what we see below. \n",
    "Additionally, we see that the integers are missing, implying that some were filtered out.\n",
    "\n",
    "## For variants, we see it similarly. \n",
    "We see in this case though that no variants were filtered out. That doesn't always have to be the case I believe. "
   ]
  },
  {
   "cell_type": "markdown",
   "metadata": {},
   "source": [
    "### Variants"
   ]
  },
  {
   "cell_type": "code",
   "execution_count": 30,
   "metadata": {
    "ExecuteTime": {
     "end_time": "2021-01-10T23:11:21.824065Z",
     "start_time": "2021-01-10T23:11:21.629640Z"
    }
   },
   "outputs": [
    {
     "name": "stdout",
     "output_type": "stream",
     "text": [
      "Total number of unique Variants\n",
      "1003\n",
      "Max int of Variant\n",
      "ad 1003\n",
      "dp 1003\n",
      "oth 1003\n"
     ]
    },
    {
     "data": {
      "image/png": "[encoded data removed]",
      "text/plain": [
       "<Figure size 864x864 with 1 Axes>"
      ]
     },
     "metadata": {
      "needs_background": "light"
     },
     "output_type": "display_data"
    }
   ],
   "source": [
    "#from matplotlib.pyplot as plt\n",
    "from src.external.pyvenn import venn\n",
    "\n",
    "%matplotlib inline\n",
    "labels = venn.get_labels([set(oth[\"Variant\"].values),set(dp[\"Variant\"].values), set(ad[\"Variant\"].values) ])\n",
    "fig, ax = venn.venn3(labels, names=['oth', 'dp','ad'])\n",
    "print(\"Total number of unique Variants\")\n",
    "print(len(set(oth[\"Variant\"].values).union(set(dp[\"Variant\"].values).union(set(ad[\"Variant\"].values)))))\n",
    "\n",
    "print(\"Max int of Variant\")\n",
    "print(\"ad\", ad[\"Variant\"].max())\n",
    "print(\"dp\", dp[\"Variant\"].max())\n",
    "print(\"oth\", oth[\"Variant\"].max())"
   ]
  },
  {
   "cell_type": "code",
   "execution_count": 29,
   "metadata": {
    "ExecuteTime": {
     "end_time": "2021-01-10T23:08:39.808009Z",
     "start_time": "2021-01-10T23:08:39.615893Z"
    }
   },
   "outputs": [
    {
     "name": "stdout",
     "output_type": "stream",
     "text": [
      "Total number of unique Cells\n",
      "631\n",
      "Max int of cell\n",
      "ad 663\n",
      "dp 663\n",
      "oth 663\n"
     ]
    },
    {
     "data": {
      "image/png": "[encoded data removed]",
      "text/plain": [
       "<Figure size 864x864 with 1 Axes>"
      ]
     },
     "metadata": {
      "needs_background": "light"
     },
     "output_type": "display_data"
    }
   ],
   "source": [
    "#from matplotlib.pyplot as plt\n",
    "from src.external.pyvenn import venn\n",
    "\n",
    "%matplotlib inline\n",
    "labels = venn.get_labels([set(oth[\"Cell\"].values),set(dp[\"Cell\"].values), set(ad[\"Cell\"].values) ])\n",
    "fig, ax = venn.venn3(labels, names=['oth', 'dp','ad'])\n",
    "print(\"Total number of unique Cells\")\n",
    "print(len(set(oth[\"Cell\"].values).union(set(dp[\"Cell\"].values).union(set(ad[\"Cell\"].values)))))\n",
    "\n",
    "print(\"Max int of cell\")\n",
    "print(\"ad\", ad[\"Cell\"].max())\n",
    "print(\"dp\", dp[\"Cell\"].max())\n",
    "print(\"oth\", oth[\"Cell\"].max())"
   ]
  }
 ],
 "metadata": {
  "celltoolbar": "Tags",
  "kernelspec": {
   "display_name": "Python 3",
   "language": "python",
   "name": "python3"
  },
  "language_info": {
   "codemirror_mode": {
    "name": "ipython",
    "version": 3
   },
   "file_extension": ".py",
   "mimetype": "text/x-python",
   "name": "python",
   "nbconvert_exporter": "python",
   "pygments_lexer": "ipython3",
   "version": "3.7.3"
  }
 },
 "nbformat": 4,
 "nbformat_minor": 4
}
