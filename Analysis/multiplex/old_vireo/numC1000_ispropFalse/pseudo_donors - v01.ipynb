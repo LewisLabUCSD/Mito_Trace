{
 "cells": [
  {
   "cell_type": "code",
   "execution_count": 13,
   "metadata": {
    "ExecuteTime": {
     "end_time": "2021-01-11T06:52:37.027391Z",
     "start_time": "2021-01-11T06:52:37.022079Z"
    }
   },
   "outputs": [
    {
     "data": {
      "text/plain": [
       "'/data2/mito_lineage/Analysis/multiplex/data/vireo/pseudo/numC1000_ispropFalse'"
      ]
     },
     "execution_count": 13,
     "metadata": {},
     "output_type": "execute_result"
    }
   ],
   "source": [
    "pwd"
   ]
  },
  {
   "cell_type": "code",
   "execution_count": 3,
   "metadata": {
    "ExecuteTime": {
     "end_time": "2021-01-11T02:49:43.286677Z",
     "start_time": "2021-01-11T02:49:43.282710Z"
    },
    "tags": [
     "parameters"
    ]
   },
   "outputs": [],
   "source": [
    "AD_F = \"cellSNP.tag.AD.mtx\"\n",
    "DP_F = \"cellSNP.tag.DP.mtx\"\n",
    "VCF_F = \"cellSNP.base.vcf\"\n",
    "INDIR='.'\n",
    "OUTDIR='./results/'\n",
    "NUM_DONORS=2\n",
    "prob_threshold=0.8\n",
    "indirs = (\"data/PBMC_J_cellSNP\", \"data/PBMC_P_cellSNP\")"
   ]
  },
  {
   "cell_type": "code",
   "execution_count": 4,
   "metadata": {
    "ExecuteTime": {
     "end_time": "2021-01-11T02:49:44.200759Z",
     "start_time": "2021-01-11T02:49:43.288715Z"
    }
   },
   "outputs": [],
   "source": [
    "import os\n",
    "import pandas as pd\n",
    "import seaborn as sns\n",
    "from glob import glob\n",
    "from scipy import stats\n",
    "from os.path import join\n",
    "import numpy as np"
   ]
  },
  {
   "cell_type": "code",
   "execution_count": 5,
   "metadata": {
    "ExecuteTime": {
     "end_time": "2021-01-11T02:49:44.205982Z",
     "start_time": "2021-01-11T02:49:44.203086Z"
    }
   },
   "outputs": [],
   "source": [
    "if not os.path.exists(OUTDIR):\n",
    "    os.mkdir(OUTDIR)"
   ]
  },
  {
   "cell_type": "code",
   "execution_count": 6,
   "metadata": {
    "ExecuteTime": {
     "end_time": "2021-01-11T02:49:44.223437Z",
     "start_time": "2021-01-11T02:49:44.208037Z"
    },
    "scrolled": true
   },
   "outputs": [
    {
     "name": "stdout",
     "output_type": "stream",
     "text": [
      "./cell_indices_0.txt\n",
      "./cell_indices_1.txt\n"
     ]
    }
   ],
   "source": [
    "\n",
    "in_cell_f = glob(join(INDIR,\"cell_indices_*.txt\"))\n",
    "in_cell_names = []\n",
    "cell_map = {}\n",
    "for curr_cell_f in in_cell_f:\n",
    "    print(curr_cell_f)\n",
    "    with open(curr_cell_f, \"r\") as f:\n",
    "        count = 0\n",
    "        lines = []\n",
    "        for line in f: \n",
    "            if count == 0:\n",
    "                curr_f = line.strip()\n",
    "            else:\n",
    "                lines.append(line.strip().split(','))\n",
    "            count += 1\n",
    "    curr_df = pd.DataFrame(lines[1:], columns=lines[0])\n",
    "    cell_map[curr_f] = curr_df[\"new index\"].astype(int).values\n",
    "    in_cell_names.append(curr_f)"
   ]
  },
  {
   "cell_type": "code",
   "execution_count": 7,
   "metadata": {
    "ExecuteTime": {
     "end_time": "2021-01-11T02:49:44.230452Z",
     "start_time": "2021-01-11T02:49:44.225280Z"
    },
    "scrolled": true
   },
   "outputs": [
    {
     "data": {
      "text/plain": [
       "array([ 759,  760,  761,  762,  763,  764,  765,  766,  767,  768,  769,\n",
       "        770,  771,  772,  773,  774,  775,  776,  777,  778,  779,  780,\n",
       "        781,  782,  783,  784,  785,  786,  787,  788,  789,  790,  791,\n",
       "        792,  793,  794,  795,  796,  797,  798,  799,  800,  801,  802,\n",
       "        803,  804,  805,  806,  807,  808,  809,  810,  811,  812,  813,\n",
       "        814,  815,  816,  817,  818,  819,  820,  821,  822,  823,  824,\n",
       "        825,  826,  827,  828,  829,  830,  831,  832,  833,  834,  835,\n",
       "        836,  837,  838,  839,  840,  841,  842,  843,  844,  845,  846,\n",
       "        847,  848,  849,  850,  851,  852,  853,  854,  855,  856,  857,\n",
       "        858,  859,  860,  861,  862,  863,  864,  865,  866,  867,  868,\n",
       "        869,  870,  871,  872,  873,  874,  875,  876,  877,  878,  879,\n",
       "        880,  881,  882,  883,  884,  885,  886,  887,  888,  889,  890,\n",
       "        891,  892,  893,  894,  895,  896,  897,  898,  899,  900,  901,\n",
       "        902,  903,  904,  905,  906,  907,  908,  909,  910,  911,  912,\n",
       "        913,  914,  915,  916,  917,  918,  919,  920,  921,  922,  923,\n",
       "        924,  925,  926,  927,  928,  929,  930,  931,  932,  933,  934,\n",
       "        935,  936,  937,  938,  939,  940,  941,  942,  943,  944,  945,\n",
       "        946,  947,  948,  949,  950,  951,  952,  953,  954,  955,  956,\n",
       "        957,  958,  959,  960,  961,  962,  963,  964,  965,  966,  967,\n",
       "        968,  969,  970,  971,  972,  973,  974,  975,  976,  977,  978,\n",
       "        979,  980,  981,  982,  983,  984,  985,  986,  987,  988,  989,\n",
       "        990,  991,  992,  993,  994,  995,  996,  997,  998,  999, 1000,\n",
       "       1001, 1002, 1003, 1004, 1005, 1006, 1007, 1008, 1009, 1010, 1011,\n",
       "       1012, 1013, 1014, 1015, 1016, 1017, 1018, 1019, 1020, 1021, 1022,\n",
       "       1023, 1024, 1025, 1026, 1027, 1028, 1029, 1030, 1031, 1032, 1033,\n",
       "       1034, 1035, 1036, 1037, 1038, 1039, 1040, 1041, 1042, 1043, 1044,\n",
       "       1045, 1046, 1047, 1048, 1049, 1050, 1051, 1052, 1053, 1054, 1055,\n",
       "       1056, 1057, 1058, 1059, 1060, 1061, 1062, 1063, 1064, 1065, 1066,\n",
       "       1067, 1068, 1069, 1070, 1071, 1072, 1073, 1074, 1075, 1076, 1077,\n",
       "       1078, 1079, 1080, 1081, 1082, 1083, 1084, 1085, 1086, 1087, 1088,\n",
       "       1089, 1090, 1091, 1092, 1093, 1094, 1095, 1096, 1097, 1098, 1099,\n",
       "       1100, 1101, 1102, 1103, 1104, 1105, 1106, 1107, 1108, 1109, 1110,\n",
       "       1111, 1112, 1113, 1114, 1115, 1116, 1117, 1118, 1119, 1120, 1121,\n",
       "       1122, 1123, 1124, 1125, 1126, 1127, 1128, 1129, 1130, 1131, 1132,\n",
       "       1133, 1134, 1135, 1136, 1137, 1138, 1139, 1140, 1141, 1142, 1143,\n",
       "       1144, 1145, 1146, 1147, 1148, 1149, 1150, 1151, 1152, 1153, 1154,\n",
       "       1155, 1156, 1157, 1158, 1159, 1160, 1161, 1162, 1163, 1164, 1165,\n",
       "       1166, 1167, 1168, 1169, 1170, 1171, 1172, 1173, 1174, 1175, 1176,\n",
       "       1177, 1178, 1179, 1180, 1181, 1182, 1183, 1184, 1185, 1186, 1187,\n",
       "       1188, 1189, 1190, 1191, 1192, 1193, 1194, 1195, 1196, 1197, 1198,\n",
       "       1199, 1200, 1201, 1202, 1203, 1204, 1205, 1206, 1207, 1208, 1209,\n",
       "       1210, 1211, 1212, 1213, 1214, 1215, 1216, 1217, 1218, 1219, 1220,\n",
       "       1221, 1222, 1223, 1224, 1225, 1226, 1227, 1228, 1229, 1230, 1231,\n",
       "       1232, 1233, 1234, 1235, 1236, 1237, 1238, 1239, 1240, 1241, 1242,\n",
       "       1243, 1244, 1245, 1246, 1247, 1248, 1249, 1250, 1251, 1252, 1253,\n",
       "       1254, 1255, 1256, 1257, 1258, 1259, 1260, 1261, 1262, 1263, 1264,\n",
       "       1265, 1266, 1267, 1268, 1269, 1270, 1271, 1272, 1273, 1274, 1275,\n",
       "       1276, 1277, 1278, 1279, 1280, 1281, 1282, 1283, 1284, 1285, 1286,\n",
       "       1287, 1288, 1289, 1290, 1291, 1292, 1293, 1294, 1295, 1296, 1297,\n",
       "       1298, 1299, 1300, 1301, 1302, 1303, 1304, 1305, 1306, 1307, 1308,\n",
       "       1309, 1310, 1311, 1312, 1313, 1314, 1315, 1316, 1317, 1318, 1319,\n",
       "       1320, 1321, 1322, 1323, 1324, 1325, 1326, 1327, 1328, 1329, 1330,\n",
       "       1331, 1332, 1333, 1334, 1335, 1336, 1337, 1338, 1339, 1340, 1341,\n",
       "       1342, 1343, 1344, 1345, 1346, 1347, 1348, 1349, 1350, 1351, 1352,\n",
       "       1353, 1354, 1355, 1356, 1357, 1358, 1359, 1360, 1361, 1362, 1363,\n",
       "       1364, 1365, 1366, 1367, 1368, 1369, 1370, 1371, 1372, 1373, 1374,\n",
       "       1375, 1376, 1377, 1378, 1379, 1380, 1381, 1382, 1383, 1384, 1385,\n",
       "       1386, 1387, 1388, 1389, 1390, 1391, 1392, 1393, 1394, 1395, 1396,\n",
       "       1397, 1398, 1399, 1400, 1401, 1402, 1403, 1404, 1405, 1406, 1407,\n",
       "       1408, 1409, 1410, 1411, 1412, 1413, 1414, 1415, 1416, 1417, 1418,\n",
       "       1419, 1420, 1421])"
      ]
     },
     "execution_count": 7,
     "metadata": {},
     "output_type": "execute_result"
    }
   ],
   "source": [
    "cell_map[curr_f]"
   ]
  },
  {
   "cell_type": "code",
   "execution_count": 8,
   "metadata": {
    "ExecuteTime": {
     "end_time": "2021-01-11T02:49:44.243379Z",
     "start_time": "2021-01-11T02:49:44.232159Z"
    }
   },
   "outputs": [
    {
     "data": {
      "text/plain": [
       "['data/PBMC_J_cellSNP', 'data/PBMC_P_cellSNP']"
      ]
     },
     "execution_count": 8,
     "metadata": {},
     "output_type": "execute_result"
    }
   ],
   "source": [
    "in_cell_names"
   ]
  },
  {
   "cell_type": "markdown",
   "metadata": {},
   "source": [
    "# Examples of using vireoSNP for donor deconvolution"
   ]
  },
  {
   "cell_type": "code",
   "execution_count": 9,
   "metadata": {
    "ExecuteTime": {
     "end_time": "2021-01-11T02:49:44.267580Z",
     "start_time": "2021-01-11T02:49:44.245001Z"
    }
   },
   "outputs": [],
   "source": [
    "import vireoSNP\n",
    "import numpy as np\n",
    "from scipy import sparse\n",
    "from scipy.io import mmread"
   ]
  },
  {
   "cell_type": "markdown",
   "metadata": {},
   "source": [
    "## Load cellSNP data "
   ]
  },
  {
   "cell_type": "markdown",
   "metadata": {},
   "source": [
    "##### Option 1 - VCF format"
   ]
  },
  {
   "cell_type": "code",
   "execution_count": 10,
   "metadata": {
    "ExecuteTime": {
     "end_time": "2021-01-11T02:49:44.271942Z",
     "start_time": "2021-01-11T02:49:44.269856Z"
    },
    "scrolled": true
   },
   "outputs": [],
   "source": [
    "# cell_vcf = vireoSNP.load_VCF(VCF_F, biallelic_only=True)\n",
    "# cell_dat = vireoSNP.vcf.read_sparse_GeneINFO(cell_vcf['GenoINFO'], keys=['AD', 'DP'])\n",
    "\n",
    "# AD = cell_dat['AD']\n",
    "# DP = cell_dat['DP']"
   ]
  },
  {
   "cell_type": "markdown",
   "metadata": {},
   "source": [
    "##### Option 2 - sparse matrices"
   ]
  },
  {
   "cell_type": "code",
   "execution_count": 11,
   "metadata": {
    "ExecuteTime": {
     "end_time": "2021-01-11T02:49:44.385749Z",
     "start_time": "2021-01-11T02:49:44.273623Z"
    },
    "scrolled": true
   },
   "outputs": [],
   "source": [
    "AD = mmread(AD_F).tocsc()\n",
    "DP = mmread(DP_F).tocsc()\n",
    "vcf = pd.read_csv(VCF_F, sep='\\t')"
   ]
  },
  {
   "cell_type": "code",
   "execution_count": 12,
   "metadata": {
    "ExecuteTime": {
     "end_time": "2021-01-11T02:49:44.406071Z",
     "start_time": "2021-01-11T02:49:44.387710Z"
    }
   },
   "outputs": [
    {
     "data": {
      "text/html": [
       "<div>\n",
       "<style scoped>\n",
       "    .dataframe tbody tr th:only-of-type {\n",
       "        vertical-align: middle;\n",
       "    }\n",
       "\n",
       "    .dataframe tbody tr th {\n",
       "        vertical-align: top;\n",
       "    }\n",
       "\n",
       "    .dataframe thead th {\n",
       "        text-align: right;\n",
       "    }\n",
       "</style>\n",
       "<table border=\"1\" class=\"dataframe\">\n",
       "  <thead>\n",
       "    <tr style=\"text-align: right;\">\n",
       "      <th></th>\n",
       "      <th>#CHROM</th>\n",
       "      <th>POS</th>\n",
       "      <th>ID_x</th>\n",
       "      <th>REF_x</th>\n",
       "      <th>ALT</th>\n",
       "      <th>QUAL_x</th>\n",
       "      <th>FILTER_x</th>\n",
       "      <th>INFO_x</th>\n",
       "      <th>old data/PBMC_J_cellSNP</th>\n",
       "      <th>ID_y</th>\n",
       "      <th>REF_y</th>\n",
       "      <th>QUAL_y</th>\n",
       "      <th>FILTER_y</th>\n",
       "      <th>INFO_y</th>\n",
       "      <th>old data/PBMC_P_cellSNP</th>\n",
       "      <th>new ID</th>\n",
       "    </tr>\n",
       "  </thead>\n",
       "  <tbody>\n",
       "    <tr>\n",
       "      <th>0</th>\n",
       "      <td>chr1</td>\n",
       "      <td>2290818</td>\n",
       "      <td>.</td>\n",
       "      <td>G</td>\n",
       "      <td>C</td>\n",
       "      <td>.</td>\n",
       "      <td>PASS</td>\n",
       "      <td>AD=34;DP=34;OTH=2</td>\n",
       "      <td>1.0</td>\n",
       "      <td>NaN</td>\n",
       "      <td>NaN</td>\n",
       "      <td>NaN</td>\n",
       "      <td>NaN</td>\n",
       "      <td>NaN</td>\n",
       "      <td>NaN</td>\n",
       "      <td>1</td>\n",
       "    </tr>\n",
       "    <tr>\n",
       "      <th>1</th>\n",
       "      <td>chr1</td>\n",
       "      <td>3624769</td>\n",
       "      <td>.</td>\n",
       "      <td>C</td>\n",
       "      <td>T</td>\n",
       "      <td>.</td>\n",
       "      <td>PASS</td>\n",
       "      <td>AD=0;DP=23;OTH=1</td>\n",
       "      <td>2.0</td>\n",
       "      <td>NaN</td>\n",
       "      <td>NaN</td>\n",
       "      <td>NaN</td>\n",
       "      <td>NaN</td>\n",
       "      <td>NaN</td>\n",
       "      <td>NaN</td>\n",
       "      <td>2</td>\n",
       "    </tr>\n",
       "    <tr>\n",
       "      <th>2</th>\n",
       "      <td>chr1</td>\n",
       "      <td>16237293</td>\n",
       "      <td>.</td>\n",
       "      <td>G</td>\n",
       "      <td>T</td>\n",
       "      <td>.</td>\n",
       "      <td>PASS</td>\n",
       "      <td>AD=1;DP=1;OTH=19</td>\n",
       "      <td>3.0</td>\n",
       "      <td>NaN</td>\n",
       "      <td>NaN</td>\n",
       "      <td>NaN</td>\n",
       "      <td>NaN</td>\n",
       "      <td>NaN</td>\n",
       "      <td>NaN</td>\n",
       "      <td>3</td>\n",
       "    </tr>\n",
       "    <tr>\n",
       "      <th>3</th>\n",
       "      <td>chr1</td>\n",
       "      <td>16904143</td>\n",
       "      <td>.</td>\n",
       "      <td>A</td>\n",
       "      <td>C</td>\n",
       "      <td>.</td>\n",
       "      <td>PASS</td>\n",
       "      <td>AD=1;DP=1;OTH=29</td>\n",
       "      <td>4.0</td>\n",
       "      <td>NaN</td>\n",
       "      <td>NaN</td>\n",
       "      <td>NaN</td>\n",
       "      <td>NaN</td>\n",
       "      <td>NaN</td>\n",
       "      <td>NaN</td>\n",
       "      <td>4</td>\n",
       "    </tr>\n",
       "    <tr>\n",
       "      <th>4</th>\n",
       "      <td>chr1</td>\n",
       "      <td>21294734</td>\n",
       "      <td>.</td>\n",
       "      <td>G</td>\n",
       "      <td>A</td>\n",
       "      <td>.</td>\n",
       "      <td>PASS</td>\n",
       "      <td>AD=0;DP=90;OTH=1</td>\n",
       "      <td>5.0</td>\n",
       "      <td>NaN</td>\n",
       "      <td>NaN</td>\n",
       "      <td>NaN</td>\n",
       "      <td>NaN</td>\n",
       "      <td>NaN</td>\n",
       "      <td>NaN</td>\n",
       "      <td>5</td>\n",
       "    </tr>\n",
       "  </tbody>\n",
       "</table>\n",
       "</div>"
      ],
      "text/plain": [
       "  #CHROM       POS ID_x REF_x ALT QUAL_x FILTER_x             INFO_x  \\\n",
       "0   chr1   2290818    .     G   C      .     PASS  AD=34;DP=34;OTH=2   \n",
       "1   chr1   3624769    .     C   T      .     PASS   AD=0;DP=23;OTH=1   \n",
       "2   chr1  16237293    .     G   T      .     PASS   AD=1;DP=1;OTH=19   \n",
       "3   chr1  16904143    .     A   C      .     PASS   AD=1;DP=1;OTH=29   \n",
       "4   chr1  21294734    .     G   A      .     PASS   AD=0;DP=90;OTH=1   \n",
       "\n",
       "   old data/PBMC_J_cellSNP ID_y REF_y QUAL_y FILTER_y INFO_y  \\\n",
       "0                      1.0  NaN   NaN    NaN      NaN    NaN   \n",
       "1                      2.0  NaN   NaN    NaN      NaN    NaN   \n",
       "2                      3.0  NaN   NaN    NaN      NaN    NaN   \n",
       "3                      4.0  NaN   NaN    NaN      NaN    NaN   \n",
       "4                      5.0  NaN   NaN    NaN      NaN    NaN   \n",
       "\n",
       "   old data/PBMC_P_cellSNP  new ID  \n",
       "0                      NaN       1  \n",
       "1                      NaN       2  \n",
       "2                      NaN       3  \n",
       "3                      NaN       4  \n",
       "4                      NaN       5  "
      ]
     },
     "execution_count": 12,
     "metadata": {},
     "output_type": "execute_result"
    }
   ],
   "source": [
    "vcf.head()"
   ]
  },
  {
   "cell_type": "markdown",
   "metadata": {},
   "source": [
    "Note, `AD` and `DP` are sparse matrices, not `numpy.array`"
   ]
  },
  {
   "cell_type": "markdown",
   "metadata": {},
   "source": [
    "## Run Vireo\n",
    "For donor deconvolution, the `vireoSNP.vireo_wrap` function can be directly used, which contains multiple initialization and have options for different situtaions of donor genotype, fully missing, partially lack, or all available."
   ]
  },
  {
   "cell_type": "code",
   "execution_count": 11,
   "metadata": {
    "ExecuteTime": {
     "end_time": "2021-01-11T02:39:14.526195Z",
     "start_time": "2021-01-11T02:39:07.569830Z"
    },
    "scrolled": true
   },
   "outputs": [
    {
     "name": "stdout",
     "output_type": "stream",
     "text": [
      "[vireo] lower bound ranges [-1497.7, -1431.9, -1299.9]\n",
      "[vireo] allelic rate mean and concentrations:\n",
      "[[0.005 0.468 0.995]]\n",
      "[[23957.3  3990.4 24472.3]]\n",
      "[vireo] donor size before removing doublets:\n",
      "donor0\tdonor1\n",
      "657\t764\n"
     ]
    }
   ],
   "source": [
    "res = vireoSNP.vireo_wrap(AD, DP, n_donor=NUM_DONORS, learn_GT=True,\n",
    "                          n_extra_donor=0, ASE_mode=False, fix_beta_sum=False,\n",
    "                          n_init=50, check_doublet=True, random_seed=1)"
   ]
  },
  {
   "cell_type": "code",
   "execution_count": 12,
   "metadata": {
    "ExecuteTime": {
     "end_time": "2021-01-11T02:39:14.533543Z",
     "start_time": "2021-01-11T02:39:14.528758Z"
    }
   },
   "outputs": [
    {
     "data": {
      "text/plain": [
       "dict_keys(['ID_prob', 'GT_prob', 'doublet_prob', 'theta_shapes', 'theta_mean', 'theta_sum', 'LB_list', 'LB_doublet'])"
      ]
     },
     "execution_count": 12,
     "metadata": {},
     "output_type": "execute_result"
    }
   ],
   "source": [
    "res.keys()"
   ]
  },
  {
   "cell_type": "markdown",
   "metadata": {},
   "source": [
    "##### The donor assignment probability"
   ]
  },
  {
   "cell_type": "code",
   "execution_count": 13,
   "metadata": {
    "ExecuteTime": {
     "end_time": "2021-01-11T02:39:14.543709Z",
     "start_time": "2021-01-11T02:39:14.535155Z"
    }
   },
   "outputs": [
    {
     "data": {
      "text/plain": [
       "(1421, 2)"
      ]
     },
     "execution_count": 13,
     "metadata": {},
     "output_type": "execute_result"
    }
   ],
   "source": [
    "res[\"ID_prob\"].shape"
   ]
  },
  {
   "cell_type": "code",
   "execution_count": 14,
   "metadata": {
    "ExecuteTime": {
     "end_time": "2021-01-11T02:39:14.760400Z",
     "start_time": "2021-01-11T02:39:14.545340Z"
    },
    "scrolled": false
   },
   "outputs": [
    {
     "data": {
      "image/png": "[encoded data removed]",
      "text/plain": [
       "<Figure size 400x500 with 2 Axes>"
      ]
     },
     "metadata": {
      "needs_background": "light"
     },
     "output_type": "display_data"
    }
   ],
   "source": [
    "import matplotlib.pyplot as plt\n",
    "from vireoSNP.plot.base_plot import heat_matrix\n",
    "\n",
    "fig = plt.figure(figsize=(4, 5), dpi=100)\n",
    "# assign_prob_comb = res['ID_prob']\n",
    "assign_prob_comb = np.append(res['ID_prob'], \n",
    "                             np.sum(res['doublet_prob'], axis=1, \n",
    "                                    keepdims=True), axis=1)\n",
    "im = heat_matrix(assign_prob_comb,\n",
    "                 cmap=\"Oranges\", alpha=0.8,\n",
    "                 display_value=False, row_sort=False)\n",
    "plt.colorbar(im, fraction=0.046, pad=0.04)\n",
    "plt.title(\"cell assignment prob\")\n",
    "plt.xlabel(\"Donors\")\n",
    "plt.ylabel(\"%d cells\" %(res['ID_prob'].shape[0]))\n",
    "plt.yticks([])\n",
    "plt.xticks(np.arange(NUM_DONORS+1), np.append(np.arange(NUM_DONORS)+1,\"doublet\"))\n",
    "\n",
    "# plt.tight_layout()\n",
    "plt.show()"
   ]
  },
  {
   "cell_type": "code",
   "execution_count": 15,
   "metadata": {
    "ExecuteTime": {
     "end_time": "2021-01-11T02:39:14.936215Z",
     "start_time": "2021-01-11T02:39:14.762125Z"
    },
    "scrolled": false
   },
   "outputs": [
    {
     "data": {
      "image/png": "[encoded data removed]",
      "text/plain": [
       "<Figure size 400x500 with 2 Axes>"
      ]
     },
     "metadata": {
      "needs_background": "light"
     },
     "output_type": "display_data"
    }
   ],
   "source": [
    "import matplotlib.pyplot as plt\n",
    "from vireoSNP.plot.base_plot import heat_matrix\n",
    "\n",
    "fig = plt.figure(figsize=(4, 5), dpi=100)\n",
    "# assign_prob_comb = res['ID_prob']\n",
    "assign_prob_comb = np.append(res['ID_prob'], \n",
    "                             np.sum(res['doublet_prob'], axis=1, \n",
    "                                    keepdims=True), axis=1)\n",
    "im = heat_matrix(assign_prob_comb,\n",
    "                 cmap=\"Oranges\", alpha=0.8,\n",
    "                 display_value=False, row_sort=True)\n",
    "plt.colorbar(im, fraction=0.046, pad=0.04)\n",
    "plt.title(\"cell assignment prob\")\n",
    "plt.xlabel(\"Donors\")\n",
    "plt.ylabel(\"%d cells\" %(res['ID_prob'].shape[0]))\n",
    "plt.yticks([])\n",
    "plt.xticks(np.arange(NUM_DONORS+1), np.append(np.arange(NUM_DONORS)+1,\"doublet\"))\n",
    "\n",
    "# plt.tight_layout()\n",
    "plt.show()"
   ]
  },
  {
   "cell_type": "code",
   "execution_count": 16,
   "metadata": {
    "ExecuteTime": {
     "end_time": "2021-01-11T02:39:14.941628Z",
     "start_time": "2021-01-11T02:39:14.937897Z"
    }
   },
   "outputs": [
    {
     "data": {
      "text/plain": [
       "(1421, 2)"
      ]
     },
     "execution_count": 16,
     "metadata": {},
     "output_type": "execute_result"
    }
   ],
   "source": [
    "res[\"ID_prob\"].shape"
   ]
  },
  {
   "cell_type": "code",
   "execution_count": 17,
   "metadata": {
    "ExecuteTime": {
     "end_time": "2021-01-11T02:39:14.964987Z",
     "start_time": "2021-01-11T02:39:14.943261Z"
    }
   },
   "outputs": [
    {
     "data": {
      "text/plain": [
       "(1878, 1)"
      ]
     },
     "execution_count": 17,
     "metadata": {},
     "output_type": "execute_result"
    }
   ],
   "source": [
    "AD_dense = AD.todense()\n",
    "(AD_dense > 0).sum(axis=1).shape"
   ]
  },
  {
   "cell_type": "code",
   "execution_count": 18,
   "metadata": {
    "ExecuteTime": {
     "end_time": "2021-01-11T02:39:14.984772Z",
     "start_time": "2021-01-11T02:39:14.966842Z"
    }
   },
   "outputs": [
    {
     "data": {
      "text/plain": [
       "(1, 1421)"
      ]
     },
     "execution_count": 18,
     "metadata": {},
     "output_type": "execute_result"
    }
   ],
   "source": [
    "AD_dense = AD.todense()\n",
    "(AD_dense > 0).sum(axis=0).shape"
   ]
  },
  {
   "cell_type": "code",
   "execution_count": 19,
   "metadata": {
    "ExecuteTime": {
     "end_time": "2021-01-11T02:39:14.990252Z",
     "start_time": "2021-01-11T02:39:14.986442Z"
    }
   },
   "outputs": [
    {
     "data": {
      "text/plain": [
       "(1878, 1421)"
      ]
     },
     "execution_count": 19,
     "metadata": {},
     "output_type": "execute_result"
    }
   ],
   "source": [
    "AD_dense.shape"
   ]
  },
  {
   "cell_type": "markdown",
   "metadata": {},
   "source": [
    "## Compare cell IDs to known values"
   ]
  },
  {
   "cell_type": "code",
   "execution_count": 20,
   "metadata": {
    "ExecuteTime": {
     "end_time": "2021-01-11T02:39:14.999413Z",
     "start_time": "2021-01-11T02:39:14.991886Z"
    }
   },
   "outputs": [],
   "source": [
    "## donor id with highest probability\n",
    "donor_ids_best = np.argmax(res['ID_prob'], axis=1)"
   ]
  },
  {
   "cell_type": "code",
   "execution_count": 21,
   "metadata": {
    "ExecuteTime": {
     "end_time": "2021-01-11T02:39:15.012830Z",
     "start_time": "2021-01-11T02:39:15.001141Z"
    }
   },
   "outputs": [
    {
     "data": {
      "text/plain": [
       "{'data/PBMC_J_cellSNP': array([  1,   2,   3,   4,   5,   6,   7,   8,   9,  10,  11,  12,  13,\n",
       "         14,  15,  16,  17,  18,  19,  20,  21,  22,  23,  24,  25,  26,\n",
       "         27,  28,  29,  30,  31,  32,  33,  34,  35,  36,  37,  38,  39,\n",
       "         40,  41,  42,  43,  44,  45,  46,  47,  48,  49,  50,  51,  52,\n",
       "         53,  54,  55,  56,  57,  58,  59,  60,  61,  62,  63,  64,  65,\n",
       "         66,  67,  68,  69,  70,  71,  72,  73,  74,  75,  76,  77,  78,\n",
       "         79,  80,  81,  82,  83,  84,  85,  86,  87,  88,  89,  90,  91,\n",
       "         92,  93,  94,  95,  96,  97,  98,  99, 100, 101, 102, 103, 104,\n",
       "        105, 106, 107, 108, 109, 110, 111, 112, 113, 114, 115, 116, 117,\n",
       "        118, 119, 120, 121, 122, 123, 124, 125, 126, 127, 128, 129, 130,\n",
       "        131, 132, 133, 134, 135, 136, 137, 138, 139, 140, 141, 142, 143,\n",
       "        144, 145, 146, 147, 148, 149, 150, 151, 152, 153, 154, 155, 156,\n",
       "        157, 158, 159, 160, 161, 162, 163, 164, 165, 166, 167, 168, 169,\n",
       "        170, 171, 172, 173, 174, 175, 176, 177, 178, 179, 180, 181, 182,\n",
       "        183, 184, 185, 186, 187, 188, 189, 190, 191, 192, 193, 194, 195,\n",
       "        196, 197, 198, 199, 200, 201, 202, 203, 204, 205, 206, 207, 208,\n",
       "        209, 210, 211, 212, 213, 214, 215, 216, 217, 218, 219, 220, 221,\n",
       "        222, 223, 224, 225, 226, 227, 228, 229, 230, 231, 232, 233, 234,\n",
       "        235, 236, 237, 238, 239, 240, 241, 242, 243, 244, 245, 246, 247,\n",
       "        248, 249, 250, 251, 252, 253, 254, 255, 256, 257, 258, 259, 260,\n",
       "        261, 262, 263, 264, 265, 266, 267, 268, 269, 270, 271, 272, 273,\n",
       "        274, 275, 276, 277, 278, 279, 280, 281, 282, 283, 284, 285, 286,\n",
       "        287, 288, 289, 290, 291, 292, 293, 294, 295, 296, 297, 298, 299,\n",
       "        300, 301, 302, 303, 304, 305, 306, 307, 308, 309, 310, 311, 312,\n",
       "        313, 314, 315, 316, 317, 318, 319, 320, 321, 322, 323, 324, 325,\n",
       "        326, 327, 328, 329, 330, 331, 332, 333, 334, 335, 336, 337, 338,\n",
       "        339, 340, 341, 342, 343, 344, 345, 346, 347, 348, 349, 350, 351,\n",
       "        352, 353, 354, 355, 356, 357, 358, 359, 360, 361, 362, 363, 364,\n",
       "        365, 366, 367, 368, 369, 370, 371, 372, 373, 374, 375, 376, 377,\n",
       "        378, 379, 380, 381, 382, 383, 384, 385, 386, 387, 388, 389, 390,\n",
       "        391, 392, 393, 394, 395, 396, 397, 398, 399, 400, 401, 402, 403,\n",
       "        404, 405, 406, 407, 408, 409, 410, 411, 412, 413, 414, 415, 416,\n",
       "        417, 418, 419, 420, 421, 422, 423, 424, 425, 426, 427, 428, 429,\n",
       "        430, 431, 432, 433, 434, 435, 436, 437, 438, 439, 440, 441, 442,\n",
       "        443, 444, 445, 446, 447, 448, 449, 450, 451, 452, 453, 454, 455,\n",
       "        456, 457, 458, 459, 460, 461, 462, 463, 464, 465, 466, 467, 468,\n",
       "        469, 470, 471, 472, 473, 474, 475, 476, 477, 478, 479, 480, 481,\n",
       "        482, 483, 484, 485, 486, 487, 488, 489, 490, 491, 492, 493, 494,\n",
       "        495, 496, 497, 498, 499, 500, 501, 502, 503, 504, 505, 506, 507,\n",
       "        508, 509, 510, 511, 512, 513, 514, 515, 516, 517, 518, 519, 520,\n",
       "        521, 522, 523, 524, 525, 526, 527, 528, 529, 530, 531, 532, 533,\n",
       "        534, 535, 536, 537, 538, 539, 540, 541, 542, 543, 544, 545, 546,\n",
       "        547, 548, 549, 550, 551, 552, 553, 554, 555, 556, 557, 558, 559,\n",
       "        560, 561, 562, 563, 564, 565, 566, 567, 568, 569, 570, 571, 572,\n",
       "        573, 574, 575, 576, 577, 578, 579, 580, 581, 582, 583, 584, 585,\n",
       "        586, 587, 588, 589, 590, 591, 592, 593, 594, 595, 596, 597, 598,\n",
       "        599, 600, 601, 602, 603, 604, 605, 606, 607, 608, 609, 610, 611,\n",
       "        612, 613, 614, 615, 616, 617, 618, 619, 620, 621, 622, 623, 624,\n",
       "        625, 626, 627, 628, 629, 630, 631, 632, 633, 634, 635, 636, 637,\n",
       "        638, 639, 640, 641, 642, 643, 644, 645, 646, 647, 648, 649, 650,\n",
       "        651, 652, 653, 654, 655, 656, 657, 658, 659, 660, 661, 662, 663,\n",
       "        664, 665, 666, 667, 668, 669, 670, 671, 672, 673, 674, 675, 676,\n",
       "        677, 678, 679, 680, 681, 682, 683, 684, 685, 686, 687, 688, 689,\n",
       "        690, 691, 692, 693, 694, 695, 696, 697, 698, 699, 700, 701, 702,\n",
       "        703, 704, 705, 706, 707, 708, 709, 710, 711, 712, 713, 714, 715,\n",
       "        716, 717, 718, 719, 720, 721, 722, 723, 724, 725, 726, 727, 728,\n",
       "        729, 730, 731, 732, 733, 734, 735, 736, 737, 738, 739, 740, 741,\n",
       "        742, 743, 744, 745, 746, 747, 748, 749, 750, 751, 752, 753, 754,\n",
       "        755, 756, 757, 758]),\n",
       " 'data/PBMC_P_cellSNP': array([ 759,  760,  761,  762,  763,  764,  765,  766,  767,  768,  769,\n",
       "         770,  771,  772,  773,  774,  775,  776,  777,  778,  779,  780,\n",
       "         781,  782,  783,  784,  785,  786,  787,  788,  789,  790,  791,\n",
       "         792,  793,  794,  795,  796,  797,  798,  799,  800,  801,  802,\n",
       "         803,  804,  805,  806,  807,  808,  809,  810,  811,  812,  813,\n",
       "         814,  815,  816,  817,  818,  819,  820,  821,  822,  823,  824,\n",
       "         825,  826,  827,  828,  829,  830,  831,  832,  833,  834,  835,\n",
       "         836,  837,  838,  839,  840,  841,  842,  843,  844,  845,  846,\n",
       "         847,  848,  849,  850,  851,  852,  853,  854,  855,  856,  857,\n",
       "         858,  859,  860,  861,  862,  863,  864,  865,  866,  867,  868,\n",
       "         869,  870,  871,  872,  873,  874,  875,  876,  877,  878,  879,\n",
       "         880,  881,  882,  883,  884,  885,  886,  887,  888,  889,  890,\n",
       "         891,  892,  893,  894,  895,  896,  897,  898,  899,  900,  901,\n",
       "         902,  903,  904,  905,  906,  907,  908,  909,  910,  911,  912,\n",
       "         913,  914,  915,  916,  917,  918,  919,  920,  921,  922,  923,\n",
       "         924,  925,  926,  927,  928,  929,  930,  931,  932,  933,  934,\n",
       "         935,  936,  937,  938,  939,  940,  941,  942,  943,  944,  945,\n",
       "         946,  947,  948,  949,  950,  951,  952,  953,  954,  955,  956,\n",
       "         957,  958,  959,  960,  961,  962,  963,  964,  965,  966,  967,\n",
       "         968,  969,  970,  971,  972,  973,  974,  975,  976,  977,  978,\n",
       "         979,  980,  981,  982,  983,  984,  985,  986,  987,  988,  989,\n",
       "         990,  991,  992,  993,  994,  995,  996,  997,  998,  999, 1000,\n",
       "        1001, 1002, 1003, 1004, 1005, 1006, 1007, 1008, 1009, 1010, 1011,\n",
       "        1012, 1013, 1014, 1015, 1016, 1017, 1018, 1019, 1020, 1021, 1022,\n",
       "        1023, 1024, 1025, 1026, 1027, 1028, 1029, 1030, 1031, 1032, 1033,\n",
       "        1034, 1035, 1036, 1037, 1038, 1039, 1040, 1041, 1042, 1043, 1044,\n",
       "        1045, 1046, 1047, 1048, 1049, 1050, 1051, 1052, 1053, 1054, 1055,\n",
       "        1056, 1057, 1058, 1059, 1060, 1061, 1062, 1063, 1064, 1065, 1066,\n",
       "        1067, 1068, 1069, 1070, 1071, 1072, 1073, 1074, 1075, 1076, 1077,\n",
       "        1078, 1079, 1080, 1081, 1082, 1083, 1084, 1085, 1086, 1087, 1088,\n",
       "        1089, 1090, 1091, 1092, 1093, 1094, 1095, 1096, 1097, 1098, 1099,\n",
       "        1100, 1101, 1102, 1103, 1104, 1105, 1106, 1107, 1108, 1109, 1110,\n",
       "        1111, 1112, 1113, 1114, 1115, 1116, 1117, 1118, 1119, 1120, 1121,\n",
       "        1122, 1123, 1124, 1125, 1126, 1127, 1128, 1129, 1130, 1131, 1132,\n",
       "        1133, 1134, 1135, 1136, 1137, 1138, 1139, 1140, 1141, 1142, 1143,\n",
       "        1144, 1145, 1146, 1147, 1148, 1149, 1150, 1151, 1152, 1153, 1154,\n",
       "        1155, 1156, 1157, 1158, 1159, 1160, 1161, 1162, 1163, 1164, 1165,\n",
       "        1166, 1167, 1168, 1169, 1170, 1171, 1172, 1173, 1174, 1175, 1176,\n",
       "        1177, 1178, 1179, 1180, 1181, 1182, 1183, 1184, 1185, 1186, 1187,\n",
       "        1188, 1189, 1190, 1191, 1192, 1193, 1194, 1195, 1196, 1197, 1198,\n",
       "        1199, 1200, 1201, 1202, 1203, 1204, 1205, 1206, 1207, 1208, 1209,\n",
       "        1210, 1211, 1212, 1213, 1214, 1215, 1216, 1217, 1218, 1219, 1220,\n",
       "        1221, 1222, 1223, 1224, 1225, 1226, 1227, 1228, 1229, 1230, 1231,\n",
       "        1232, 1233, 1234, 1235, 1236, 1237, 1238, 1239, 1240, 1241, 1242,\n",
       "        1243, 1244, 1245, 1246, 1247, 1248, 1249, 1250, 1251, 1252, 1253,\n",
       "        1254, 1255, 1256, 1257, 1258, 1259, 1260, 1261, 1262, 1263, 1264,\n",
       "        1265, 1266, 1267, 1268, 1269, 1270, 1271, 1272, 1273, 1274, 1275,\n",
       "        1276, 1277, 1278, 1279, 1280, 1281, 1282, 1283, 1284, 1285, 1286,\n",
       "        1287, 1288, 1289, 1290, 1291, 1292, 1293, 1294, 1295, 1296, 1297,\n",
       "        1298, 1299, 1300, 1301, 1302, 1303, 1304, 1305, 1306, 1307, 1308,\n",
       "        1309, 1310, 1311, 1312, 1313, 1314, 1315, 1316, 1317, 1318, 1319,\n",
       "        1320, 1321, 1322, 1323, 1324, 1325, 1326, 1327, 1328, 1329, 1330,\n",
       "        1331, 1332, 1333, 1334, 1335, 1336, 1337, 1338, 1339, 1340, 1341,\n",
       "        1342, 1343, 1344, 1345, 1346, 1347, 1348, 1349, 1350, 1351, 1352,\n",
       "        1353, 1354, 1355, 1356, 1357, 1358, 1359, 1360, 1361, 1362, 1363,\n",
       "        1364, 1365, 1366, 1367, 1368, 1369, 1370, 1371, 1372, 1373, 1374,\n",
       "        1375, 1376, 1377, 1378, 1379, 1380, 1381, 1382, 1383, 1384, 1385,\n",
       "        1386, 1387, 1388, 1389, 1390, 1391, 1392, 1393, 1394, 1395, 1396,\n",
       "        1397, 1398, 1399, 1400, 1401, 1402, 1403, 1404, 1405, 1406, 1407,\n",
       "        1408, 1409, 1410, 1411, 1412, 1413, 1414, 1415, 1416, 1417, 1418,\n",
       "        1419, 1420, 1421])}"
      ]
     },
     "execution_count": 21,
     "metadata": {},
     "output_type": "execute_result"
    }
   ],
   "source": [
    "cell_map"
   ]
  },
  {
   "cell_type": "code",
   "execution_count": 22,
   "metadata": {
    "ExecuteTime": {
     "end_time": "2021-01-11T02:39:15.022022Z",
     "start_time": "2021-01-11T02:39:15.014315Z"
    }
   },
   "outputs": [
    {
     "data": {
      "text/plain": [
       "['data/PBMC_J_cellSNP', 'data/PBMC_P_cellSNP']"
      ]
     },
     "execution_count": 22,
     "metadata": {},
     "output_type": "execute_result"
    }
   ],
   "source": [
    "in_cell_names"
   ]
  },
  {
   "cell_type": "code",
   "execution_count": 23,
   "metadata": {
    "ExecuteTime": {
     "end_time": "2021-01-11T02:39:15.033418Z",
     "start_time": "2021-01-11T02:39:15.023653Z"
    },
    "scrolled": false
   },
   "outputs": [
    {
     "data": {
      "text/plain": [
       "array([0., 0., 0., ..., 1., 1., 1.])"
      ]
     },
     "execution_count": 23,
     "metadata": {},
     "output_type": "execute_result"
    }
   ],
   "source": [
    "max_v = 0\n",
    "for i in in_cell_names:\n",
    "    max_v = max(max_v, max(cell_map[i]))\n",
    "    \n",
    "# create index map:\n",
    "cell_ind_map = {}\n",
    "count = 0\n",
    "for i in in_cell_names: \n",
    "    cell_ind_map[i] = count\n",
    "    count += 1\n",
    "\n",
    "cell_inds = -1*np.ones(max_v)\n",
    "for i in in_cell_names:\n",
    "    cell_inds[cell_map[i]-1] = cell_ind_map[i] #cell_map[i]\n",
    "cell_inds"
   ]
  },
  {
   "cell_type": "code",
   "execution_count": 24,
   "metadata": {
    "ExecuteTime": {
     "end_time": "2021-01-11T02:39:15.641548Z",
     "start_time": "2021-01-11T02:39:15.035058Z"
    },
    "scrolled": false
   },
   "outputs": [
    {
     "data": {
      "text/plain": [
       "<seaborn.matrix.ClusterGrid at 0x7f43e037f1d0>"
      ]
     },
     "execution_count": 24,
     "metadata": {},
     "output_type": "execute_result"
    },
    {
     "data": {
      "image/png": "[encoded data removed]",
      "text/plain": [
       "<Figure size 720x720 with 5 Axes>"
      ]
     },
     "metadata": {
      "needs_background": "light"
     },
     "output_type": "display_data"
    }
   ],
   "source": [
    "colors = {0:\"blue\", 1:\"red\"}\n",
    "cell_colors = [colors[x] for x in cell_inds]\n",
    "\n",
    "sns.clustermap(data=assign_prob_comb, row_cluster=False, col_cluster=False,\n",
    "              row_colors=cell_colors)"
   ]
  },
  {
   "cell_type": "code",
   "execution_count": null,
   "metadata": {},
   "outputs": [],
   "source": []
  },
  {
   "cell_type": "code",
   "execution_count": 25,
   "metadata": {
    "ExecuteTime": {
     "end_time": "2021-01-11T02:39:16.404134Z",
     "start_time": "2021-01-11T02:39:15.643258Z"
    },
    "scrolled": false
   },
   "outputs": [
    {
     "data": {
      "text/plain": [
       "<seaborn.matrix.ClusterGrid at 0x7f43e01b48d0>"
      ]
     },
     "execution_count": 25,
     "metadata": {},
     "output_type": "execute_result"
    },
    {
     "data": {
      "image/png": "[encoded data removed]",
      "text/plain": [
       "<Figure size 720x720 with 5 Axes>"
      ]
     },
     "metadata": {
      "needs_background": "light"
     },
     "output_type": "display_data"
    }
   ],
   "source": [
    "colors = {0:\"blue\", 1:\"red\"}\n",
    "cell_colors = [colors[x] for x in cell_inds]\n",
    "\n",
    "sns.clustermap(data=assign_prob_comb, row_cluster=True, col_cluster=False,\n",
    "              row_colors=cell_colors)"
   ]
  },
  {
   "cell_type": "code",
   "execution_count": 26,
   "metadata": {
    "ExecuteTime": {
     "end_time": "2021-01-11T02:39:16.511991Z",
     "start_time": "2021-01-11T02:39:16.405792Z"
    }
   },
   "outputs": [
    {
     "data": {
      "text/plain": [
       "(217, 541, 317, 346)"
      ]
     },
     "execution_count": 26,
     "metadata": {},
     "output_type": "execute_result"
    }
   ],
   "source": [
    "from sklearn.metrics import confusion_matrix\n",
    "\n",
    "tn, fp, fn, tp = confusion_matrix(cell_inds, donor_ids_best).ravel()\n",
    "(tn, fp, fn, tp)"
   ]
  },
  {
   "cell_type": "markdown",
   "metadata": {},
   "source": [
    "### Assignment probability threshold"
   ]
  },
  {
   "cell_type": "code",
   "execution_count": 27,
   "metadata": {
    "ExecuteTime": {
     "end_time": "2021-01-11T02:39:16.531223Z",
     "start_time": "2021-01-11T02:39:16.515922Z"
    }
   },
   "outputs": [
    {
     "name": "stdout",
     "output_type": "stream",
     "text": [
      "0 cells are called doublet\n",
      "960 cells are unassigned to singlet or doublets\n"
     ]
    }
   ],
   "source": [
    "## doublet rate\n",
    "\n",
    "doublet_threshold = 0.9\n",
    "is_doublet = np.sum(res['doublet_prob'], axis=1) > doublet_threshold\n",
    "print(\"%d cells are called doublet\" %(sum(is_doublet)))\n",
    "\n",
    "prob_threshold = prob_threshold #0.9\n",
    "is_unassigned = (np.max(res['ID_prob'], axis=1) < prob_threshold) & (~is_doublet)\n",
    "print(\"%d cells are unassigned to singlet or doublets\" %(sum(is_unassigned)))"
   ]
  },
  {
   "cell_type": "markdown",
   "metadata": {},
   "source": [
    "### Allelic ratio per variant per donor"
   ]
  },
  {
   "cell_type": "code",
   "execution_count": 28,
   "metadata": {
    "ExecuteTime": {
     "end_time": "2021-01-11T02:39:16.541231Z",
     "start_time": "2021-01-11T02:39:16.533063Z"
    }
   },
   "outputs": [],
   "source": [
    "## If ASE_mode is False\n",
    "AF_SNPs = np.tensordot(res['GT_prob'], res['theta_mean'][0, :], axes=[2, 0])"
   ]
  },
  {
   "cell_type": "markdown",
   "metadata": {},
   "source": [
    "## Get the top averaged SNP AF , print out the AD counts in each sample and get the vcf"
   ]
  },
  {
   "cell_type": "code",
   "execution_count": 29,
   "metadata": {
    "ExecuteTime": {
     "end_time": "2021-01-11T02:39:16.821585Z",
     "start_time": "2021-01-11T02:39:16.544538Z"
    },
    "scrolled": false
   },
   "outputs": [
    {
     "data": {
      "image/png": "[encoded data removed]",
      "text/plain": [
       "<Figure size 400x500 with 2 Axes>"
      ]
     },
     "metadata": {
      "needs_background": "light"
     },
     "output_type": "display_data"
    }
   ],
   "source": [
    "import matplotlib.pyplot as plt\n",
    "%matplotlib inline\n",
    "from vireoSNP.plot.base_plot import heat_matrix\n",
    "\n",
    "fig = plt.figure(figsize=(4, 5), dpi=100)\n",
    "im = heat_matrix(AF_SNPs, cmap=\"GnBu\", alpha=0.8,\n",
    "                 display_value=False, row_sort=True)\n",
    "plt.colorbar(im, fraction=0.046, pad=0.04)\n",
    "plt.title(\"Mean allelic ratio\")\n",
    "plt.xlabel(\"Donors\")\n",
    "plt.ylabel(\"%d SNPs\" %(AF_SNPs.shape[0]))\n",
    "plt.yticks([])\n",
    "plt.xticks(np.arange(AF_SNPs.shape[1]))\n",
    "\n",
    "plt.tight_layout()\n",
    "#plt.show()"
   ]
  },
  {
   "cell_type": "code",
   "execution_count": 30,
   "metadata": {
    "ExecuteTime": {
     "end_time": "2021-01-11T02:39:16.859189Z",
     "start_time": "2021-01-11T02:39:16.823450Z"
    },
    "scrolled": true
   },
   "outputs": [
    {
     "data": {
      "text/html": [
       "<div>\n",
       "<style scoped>\n",
       "    .dataframe tbody tr th:only-of-type {\n",
       "        vertical-align: middle;\n",
       "    }\n",
       "\n",
       "    .dataframe tbody tr th {\n",
       "        vertical-align: top;\n",
       "    }\n",
       "\n",
       "    .dataframe thead th {\n",
       "        text-align: right;\n",
       "    }\n",
       "</style>\n",
       "<table border=\"1\" class=\"dataframe\">\n",
       "  <thead>\n",
       "    <tr style=\"text-align: right;\">\n",
       "      <th></th>\n",
       "      <th>#CHROM</th>\n",
       "      <th>POS</th>\n",
       "      <th>ID_x</th>\n",
       "      <th>REF_x</th>\n",
       "      <th>ALT</th>\n",
       "      <th>QUAL_x</th>\n",
       "      <th>FILTER_x</th>\n",
       "      <th>INFO_x</th>\n",
       "      <th>old data/PBMC_J_cellSNP</th>\n",
       "      <th>ID_y</th>\n",
       "      <th>REF_y</th>\n",
       "      <th>QUAL_y</th>\n",
       "      <th>FILTER_y</th>\n",
       "      <th>INFO_y</th>\n",
       "      <th>old data/PBMC_P_cellSNP</th>\n",
       "      <th>new ID</th>\n",
       "      <th>AF 0</th>\n",
       "      <th>AF 1</th>\n",
       "    </tr>\n",
       "  </thead>\n",
       "  <tbody>\n",
       "    <tr>\n",
       "      <th>796</th>\n",
       "      <td>chr16</td>\n",
       "      <td>10744182</td>\n",
       "      <td>.</td>\n",
       "      <td>C</td>\n",
       "      <td>T</td>\n",
       "      <td>.</td>\n",
       "      <td>PASS</td>\n",
       "      <td>AD=107;DP=107;OTH=2</td>\n",
       "      <td>797.0</td>\n",
       "      <td>NaN</td>\n",
       "      <td>NaN</td>\n",
       "      <td>NaN</td>\n",
       "      <td>NaN</td>\n",
       "      <td>NaN</td>\n",
       "      <td>NaN</td>\n",
       "      <td>797</td>\n",
       "      <td>0.994589</td>\n",
       "      <td>0.994589</td>\n",
       "    </tr>\n",
       "    <tr>\n",
       "      <th>1481</th>\n",
       "      <td>chr9</td>\n",
       "      <td>85742147</td>\n",
       "      <td>NaN</td>\n",
       "      <td>NaN</td>\n",
       "      <td>C</td>\n",
       "      <td>NaN</td>\n",
       "      <td>NaN</td>\n",
       "      <td>NaN</td>\n",
       "      <td>NaN</td>\n",
       "      <td>.</td>\n",
       "      <td>G</td>\n",
       "      <td>.</td>\n",
       "      <td>PASS</td>\n",
       "      <td>AD=86;DP=98;OTH=0</td>\n",
       "      <td>501.0</td>\n",
       "      <td>1482</td>\n",
       "      <td>0.468103</td>\n",
       "      <td>0.994589</td>\n",
       "    </tr>\n",
       "    <tr>\n",
       "      <th>1006</th>\n",
       "      <td>chr19</td>\n",
       "      <td>53867486</td>\n",
       "      <td>.</td>\n",
       "      <td>C</td>\n",
       "      <td>T</td>\n",
       "      <td>.</td>\n",
       "      <td>PASS</td>\n",
       "      <td>AD=62;DP=64;OTH=0</td>\n",
       "      <td>1007.0</td>\n",
       "      <td>.</td>\n",
       "      <td>C</td>\n",
       "      <td>.</td>\n",
       "      <td>PASS</td>\n",
       "      <td>AD=63;DP=64;OTH=0</td>\n",
       "      <td>935.0</td>\n",
       "      <td>1007</td>\n",
       "      <td>0.994589</td>\n",
       "      <td>0.994589</td>\n",
       "    </tr>\n",
       "    <tr>\n",
       "      <th>402</th>\n",
       "      <td>chr6</td>\n",
       "      <td>159762417</td>\n",
       "      <td>.</td>\n",
       "      <td>T</td>\n",
       "      <td>G</td>\n",
       "      <td>.</td>\n",
       "      <td>PASS</td>\n",
       "      <td>AD=123;DP=123;OTH=3</td>\n",
       "      <td>403.0</td>\n",
       "      <td>NaN</td>\n",
       "      <td>NaN</td>\n",
       "      <td>NaN</td>\n",
       "      <td>NaN</td>\n",
       "      <td>NaN</td>\n",
       "      <td>NaN</td>\n",
       "      <td>403</td>\n",
       "      <td>0.994589</td>\n",
       "      <td>0.994589</td>\n",
       "    </tr>\n",
       "    <tr>\n",
       "      <th>119</th>\n",
       "      <td>chr2</td>\n",
       "      <td>113890000</td>\n",
       "      <td>.</td>\n",
       "      <td>C</td>\n",
       "      <td>T</td>\n",
       "      <td>.</td>\n",
       "      <td>PASS</td>\n",
       "      <td>AD=98;DP=98;OTH=1</td>\n",
       "      <td>120.0</td>\n",
       "      <td>NaN</td>\n",
       "      <td>NaN</td>\n",
       "      <td>NaN</td>\n",
       "      <td>NaN</td>\n",
       "      <td>NaN</td>\n",
       "      <td>NaN</td>\n",
       "      <td>120</td>\n",
       "      <td>0.994589</td>\n",
       "      <td>0.994589</td>\n",
       "    </tr>\n",
       "    <tr>\n",
       "      <th>...</th>\n",
       "      <td>...</td>\n",
       "      <td>...</td>\n",
       "      <td>...</td>\n",
       "      <td>...</td>\n",
       "      <td>...</td>\n",
       "      <td>...</td>\n",
       "      <td>...</td>\n",
       "      <td>...</td>\n",
       "      <td>...</td>\n",
       "      <td>...</td>\n",
       "      <td>...</td>\n",
       "      <td>...</td>\n",
       "      <td>...</td>\n",
       "      <td>...</td>\n",
       "      <td>...</td>\n",
       "      <td>...</td>\n",
       "      <td>...</td>\n",
       "      <td>...</td>\n",
       "    </tr>\n",
       "    <tr>\n",
       "      <th>388</th>\n",
       "      <td>chr6</td>\n",
       "      <td>131199894</td>\n",
       "      <td>.</td>\n",
       "      <td>C</td>\n",
       "      <td>T</td>\n",
       "      <td>.</td>\n",
       "      <td>PASS</td>\n",
       "      <td>AD=0;DP=55;OTH=1</td>\n",
       "      <td>389.0</td>\n",
       "      <td>.</td>\n",
       "      <td>C</td>\n",
       "      <td>.</td>\n",
       "      <td>PASS</td>\n",
       "      <td>AD=0;DP=82;OTH=1</td>\n",
       "      <td>389.0</td>\n",
       "      <td>389</td>\n",
       "      <td>0.005142</td>\n",
       "      <td>0.005142</td>\n",
       "    </tr>\n",
       "    <tr>\n",
       "      <th>523</th>\n",
       "      <td>chr9</td>\n",
       "      <td>83921549</td>\n",
       "      <td>.</td>\n",
       "      <td>G</td>\n",
       "      <td>A</td>\n",
       "      <td>.</td>\n",
       "      <td>PASS</td>\n",
       "      <td>AD=0;DP=67;OTH=1</td>\n",
       "      <td>524.0</td>\n",
       "      <td>.</td>\n",
       "      <td>G</td>\n",
       "      <td>.</td>\n",
       "      <td>PASS</td>\n",
       "      <td>AD=0;DP=90;OTH=1</td>\n",
       "      <td>499.0</td>\n",
       "      <td>524</td>\n",
       "      <td>0.005142</td>\n",
       "      <td>0.005142</td>\n",
       "    </tr>\n",
       "    <tr>\n",
       "      <th>840</th>\n",
       "      <td>chr17</td>\n",
       "      <td>7615037</td>\n",
       "      <td>.</td>\n",
       "      <td>G</td>\n",
       "      <td>A</td>\n",
       "      <td>.</td>\n",
       "      <td>PASS</td>\n",
       "      <td>AD=0;DP=146;OTH=2</td>\n",
       "      <td>841.0</td>\n",
       "      <td>.</td>\n",
       "      <td>G</td>\n",
       "      <td>.</td>\n",
       "      <td>PASS</td>\n",
       "      <td>AD=0;DP=99;OTH=1</td>\n",
       "      <td>798.0</td>\n",
       "      <td>841</td>\n",
       "      <td>0.005142</td>\n",
       "      <td>0.005142</td>\n",
       "    </tr>\n",
       "    <tr>\n",
       "      <th>830</th>\n",
       "      <td>chr16</td>\n",
       "      <td>89874292</td>\n",
       "      <td>.</td>\n",
       "      <td>A</td>\n",
       "      <td>G</td>\n",
       "      <td>.</td>\n",
       "      <td>PASS</td>\n",
       "      <td>AD=0;DP=88;OTH=1</td>\n",
       "      <td>831.0</td>\n",
       "      <td>.</td>\n",
       "      <td>A</td>\n",
       "      <td>.</td>\n",
       "      <td>PASS</td>\n",
       "      <td>AD=1;DP=89;OTH=0</td>\n",
       "      <td>786.0</td>\n",
       "      <td>831</td>\n",
       "      <td>0.005142</td>\n",
       "      <td>0.005142</td>\n",
       "    </tr>\n",
       "    <tr>\n",
       "      <th>369</th>\n",
       "      <td>chr6</td>\n",
       "      <td>37819066</td>\n",
       "      <td>.</td>\n",
       "      <td>C</td>\n",
       "      <td>T</td>\n",
       "      <td>.</td>\n",
       "      <td>PASS</td>\n",
       "      <td>AD=0;DP=78;OTH=1</td>\n",
       "      <td>370.0</td>\n",
       "      <td>.</td>\n",
       "      <td>C</td>\n",
       "      <td>.</td>\n",
       "      <td>PASS</td>\n",
       "      <td>AD=0;DP=58;OTH=1</td>\n",
       "      <td>367.0</td>\n",
       "      <td>370</td>\n",
       "      <td>0.005142</td>\n",
       "      <td>0.005142</td>\n",
       "    </tr>\n",
       "  </tbody>\n",
       "</table>\n",
       "<p>1878 rows × 18 columns</p>\n",
       "</div>"
      ],
      "text/plain": [
       "     #CHROM        POS ID_x REF_x ALT QUAL_x FILTER_x               INFO_x  \\\n",
       "796   chr16   10744182    .     C   T      .     PASS  AD=107;DP=107;OTH=2   \n",
       "1481   chr9   85742147  NaN   NaN   C    NaN      NaN                  NaN   \n",
       "1006  chr19   53867486    .     C   T      .     PASS    AD=62;DP=64;OTH=0   \n",
       "402    chr6  159762417    .     T   G      .     PASS  AD=123;DP=123;OTH=3   \n",
       "119    chr2  113890000    .     C   T      .     PASS    AD=98;DP=98;OTH=1   \n",
       "...     ...        ...  ...   ...  ..    ...      ...                  ...   \n",
       "388    chr6  131199894    .     C   T      .     PASS     AD=0;DP=55;OTH=1   \n",
       "523    chr9   83921549    .     G   A      .     PASS     AD=0;DP=67;OTH=1   \n",
       "840   chr17    7615037    .     G   A      .     PASS    AD=0;DP=146;OTH=2   \n",
       "830   chr16   89874292    .     A   G      .     PASS     AD=0;DP=88;OTH=1   \n",
       "369    chr6   37819066    .     C   T      .     PASS     AD=0;DP=78;OTH=1   \n",
       "\n",
       "      old data/PBMC_J_cellSNP ID_y REF_y QUAL_y FILTER_y             INFO_y  \\\n",
       "796                     797.0  NaN   NaN    NaN      NaN                NaN   \n",
       "1481                      NaN    .     G      .     PASS  AD=86;DP=98;OTH=0   \n",
       "1006                   1007.0    .     C      .     PASS  AD=63;DP=64;OTH=0   \n",
       "402                     403.0  NaN   NaN    NaN      NaN                NaN   \n",
       "119                     120.0  NaN   NaN    NaN      NaN                NaN   \n",
       "...                       ...  ...   ...    ...      ...                ...   \n",
       "388                     389.0    .     C      .     PASS   AD=0;DP=82;OTH=1   \n",
       "523                     524.0    .     G      .     PASS   AD=0;DP=90;OTH=1   \n",
       "840                     841.0    .     G      .     PASS   AD=0;DP=99;OTH=1   \n",
       "830                     831.0    .     A      .     PASS   AD=1;DP=89;OTH=0   \n",
       "369                     370.0    .     C      .     PASS   AD=0;DP=58;OTH=1   \n",
       "\n",
       "      old data/PBMC_P_cellSNP  new ID      AF 0      AF 1  \n",
       "796                       NaN     797  0.994589  0.994589  \n",
       "1481                    501.0    1482  0.468103  0.994589  \n",
       "1006                    935.0    1007  0.994589  0.994589  \n",
       "402                       NaN     403  0.994589  0.994589  \n",
       "119                       NaN     120  0.994589  0.994589  \n",
       "...                       ...     ...       ...       ...  \n",
       "388                     389.0     389  0.005142  0.005142  \n",
       "523                     499.0     524  0.005142  0.005142  \n",
       "840                     798.0     841  0.005142  0.005142  \n",
       "830                     786.0     831  0.005142  0.005142  \n",
       "369                     367.0     370  0.005142  0.005142  \n",
       "\n",
       "[1878 rows x 18 columns]"
      ]
     },
     "execution_count": 30,
     "metadata": {},
     "output_type": "execute_result"
    }
   ],
   "source": [
    "for ind, val in enumerate(in_cell_names):\n",
    "    vcf[\"AF \" + str(ind)] = AF_SNPs[:, ind]\n",
    "#vcf.iloc[ind.argsort()[::-1]].head(100)\n",
    "vcf.iloc[vcf[\"AF \" + str(ind)].argsort()[::-1].values]"
   ]
  },
  {
   "cell_type": "code",
   "execution_count": 31,
   "metadata": {
    "ExecuteTime": {
     "end_time": "2021-01-11T02:39:17.313228Z",
     "start_time": "2021-01-11T02:39:16.860811Z"
    },
    "scrolled": false
   },
   "outputs": [
    {
     "data": {
      "text/plain": [
       "<matplotlib.axes._subplots.AxesSubplot at 0x7f43e048f940>"
      ]
     },
     "execution_count": 31,
     "metadata": {},
     "output_type": "execute_result"
    },
    {
     "data": {
      "image/png": "[encoded data removed]",
      "text/plain": [
       "<Figure size 432x288 with 1 Axes>"
      ]
     },
     "metadata": {
      "needs_background": "light"
     },
     "output_type": "display_data"
    }
   ],
   "source": [
    "sns.regplot(data=vcf, x =\"AF 0\" , y=\"AF 1\")"
   ]
  },
  {
   "cell_type": "code",
   "execution_count": 32,
   "metadata": {
    "ExecuteTime": {
     "end_time": "2021-01-11T02:39:18.445177Z",
     "start_time": "2021-01-11T02:39:17.315053Z"
    }
   },
   "outputs": [
    {
     "data": {
      "text/plain": [
       "<seaborn.axisgrid.PairGrid at 0x7f43ddaf70f0>"
      ]
     },
     "execution_count": 32,
     "metadata": {},
     "output_type": "execute_result"
    },
    {
     "data": {
      "image/png": "[encoded data removed]",
      "text/plain": [
       "<Figure size 360x360 with 6 Axes>"
      ]
     },
     "metadata": {
      "needs_background": "light"
     },
     "output_type": "display_data"
    }
   ],
   "source": [
    "sns.pairplot(data=vcf, vars=[\"AF 0\", \"AF 1\"])"
   ]
  },
  {
   "cell_type": "code",
   "execution_count": 33,
   "metadata": {
    "ExecuteTime": {
     "end_time": "2021-01-11T02:39:19.220091Z",
     "start_time": "2021-01-11T02:39:18.446937Z"
    },
    "scrolled": true
   },
   "outputs": [
    {
     "data": {
      "text/plain": [
       "<seaborn.matrix.ClusterGrid at 0x7f43dd89f470>"
      ]
     },
     "execution_count": 33,
     "metadata": {},
     "output_type": "execute_result"
    },
    {
     "data": {
      "text/plain": [
       "<Figure size 3000x3000 with 0 Axes>"
      ]
     },
     "metadata": {},
     "output_type": "display_data"
    },
    {
     "data": {
      "image/png": "[encoded data removed]",
      "text/plain": [
       "<Figure size 720x720 with 4 Axes>"
      ]
     },
     "metadata": {
      "needs_background": "light"
     },
     "output_type": "display_data"
    }
   ],
   "source": [
    "f = plt.figure(figsize=(10,10), dpi=300)\n",
    "sns.clustermap(data=vcf[[\"AF 0\" , \"AF 1\"]])"
   ]
  },
  {
   "cell_type": "code",
   "execution_count": 34,
   "metadata": {
    "ExecuteTime": {
     "end_time": "2021-01-11T02:39:20.256661Z",
     "start_time": "2021-01-11T02:39:19.221992Z"
    }
   },
   "outputs": [
    {
     "data": {
      "text/plain": [
       "32313"
      ]
     },
     "execution_count": 34,
     "metadata": {},
     "output_type": "execute_result"
    }
   ],
   "source": [
    "dense_ad = pd.DataFrame(AD.todense())\n",
    "(dense_ad>0).sum().sum()\n",
    "\n",
    "dense_dp = pd.DataFrame(DP.todense())\n",
    "(dense_dp>0).sum().sum()"
   ]
  },
  {
   "cell_type": "code",
   "execution_count": 35,
   "metadata": {
    "ExecuteTime": {
     "end_time": "2021-01-11T02:39:20.262367Z",
     "start_time": "2021-01-11T02:39:20.258413Z"
    },
    "scrolled": true
   },
   "outputs": [
    {
     "name": "stdout",
     "output_type": "stream",
     "text": [
      "Number of same exact allele freq: 6\n"
     ]
    }
   ],
   "source": [
    "print(f\"Number of same exact allele freq: {(vcf['old data/PBMC_J_cellSNP']==vcf['old data/PBMC_P_cellSNP']).sum()}\")"
   ]
  },
  {
   "cell_type": "code",
   "execution_count": 36,
   "metadata": {
    "ExecuteTime": {
     "end_time": "2021-01-11T02:39:20.272444Z",
     "start_time": "2021-01-11T02:39:20.264169Z"
    }
   },
   "outputs": [
    {
     "name": "stdout",
     "output_type": "stream",
     "text": [
      "Number of variants with 99.5% AF: 427\n"
     ]
    }
   ],
   "source": [
    "print(f\"Number of variants with 99.5% AF: {len(AF_SNPs[(np.absolute(AF_SNPs[:,0]-0.99518961))<0.01])}\")"
   ]
  },
  {
   "cell_type": "code",
   "execution_count": 37,
   "metadata": {
    "ExecuteTime": {
     "end_time": "2021-01-11T02:39:20.309194Z",
     "start_time": "2021-01-11T02:39:20.274242Z"
    }
   },
   "outputs": [
    {
     "data": {
      "text/html": [
       "<div>\n",
       "<style scoped>\n",
       "    .dataframe tbody tr th:only-of-type {\n",
       "        vertical-align: middle;\n",
       "    }\n",
       "\n",
       "    .dataframe tbody tr th {\n",
       "        vertical-align: top;\n",
       "    }\n",
       "\n",
       "    .dataframe thead th {\n",
       "        text-align: right;\n",
       "    }\n",
       "</style>\n",
       "<table border=\"1\" class=\"dataframe\">\n",
       "  <thead>\n",
       "    <tr style=\"text-align: right;\">\n",
       "      <th></th>\n",
       "      <th>#CHROM</th>\n",
       "      <th>POS</th>\n",
       "      <th>ID_x</th>\n",
       "      <th>REF_x</th>\n",
       "      <th>ALT</th>\n",
       "      <th>QUAL_x</th>\n",
       "      <th>FILTER_x</th>\n",
       "      <th>INFO_x</th>\n",
       "      <th>old data/PBMC_J_cellSNP</th>\n",
       "      <th>ID_y</th>\n",
       "      <th>REF_y</th>\n",
       "      <th>QUAL_y</th>\n",
       "      <th>FILTER_y</th>\n",
       "      <th>INFO_y</th>\n",
       "      <th>old data/PBMC_P_cellSNP</th>\n",
       "      <th>new ID</th>\n",
       "      <th>AF 0</th>\n",
       "      <th>AF 1</th>\n",
       "    </tr>\n",
       "  </thead>\n",
       "  <tbody>\n",
       "    <tr>\n",
       "      <th>0</th>\n",
       "      <td>chr1</td>\n",
       "      <td>2290818</td>\n",
       "      <td>.</td>\n",
       "      <td>G</td>\n",
       "      <td>C</td>\n",
       "      <td>.</td>\n",
       "      <td>PASS</td>\n",
       "      <td>AD=34;DP=34;OTH=2</td>\n",
       "      <td>1.0</td>\n",
       "      <td>NaN</td>\n",
       "      <td>NaN</td>\n",
       "      <td>NaN</td>\n",
       "      <td>NaN</td>\n",
       "      <td>NaN</td>\n",
       "      <td>NaN</td>\n",
       "      <td>1</td>\n",
       "      <td>0.994519</td>\n",
       "      <td>0.994588</td>\n",
       "    </tr>\n",
       "    <tr>\n",
       "      <th>1</th>\n",
       "      <td>chr1</td>\n",
       "      <td>3624769</td>\n",
       "      <td>.</td>\n",
       "      <td>C</td>\n",
       "      <td>T</td>\n",
       "      <td>.</td>\n",
       "      <td>PASS</td>\n",
       "      <td>AD=0;DP=23;OTH=1</td>\n",
       "      <td>2.0</td>\n",
       "      <td>NaN</td>\n",
       "      <td>NaN</td>\n",
       "      <td>NaN</td>\n",
       "      <td>NaN</td>\n",
       "      <td>NaN</td>\n",
       "      <td>NaN</td>\n",
       "      <td>2</td>\n",
       "      <td>0.005877</td>\n",
       "      <td>0.005334</td>\n",
       "    </tr>\n",
       "    <tr>\n",
       "      <th>2</th>\n",
       "      <td>chr1</td>\n",
       "      <td>16237293</td>\n",
       "      <td>.</td>\n",
       "      <td>G</td>\n",
       "      <td>T</td>\n",
       "      <td>.</td>\n",
       "      <td>PASS</td>\n",
       "      <td>AD=1;DP=1;OTH=19</td>\n",
       "      <td>3.0</td>\n",
       "      <td>NaN</td>\n",
       "      <td>NaN</td>\n",
       "      <td>NaN</td>\n",
       "      <td>NaN</td>\n",
       "      <td>NaN</td>\n",
       "      <td>NaN</td>\n",
       "      <td>3</td>\n",
       "      <td>0.489280</td>\n",
       "      <td>0.823032</td>\n",
       "    </tr>\n",
       "    <tr>\n",
       "      <th>3</th>\n",
       "      <td>chr1</td>\n",
       "      <td>16904143</td>\n",
       "      <td>.</td>\n",
       "      <td>A</td>\n",
       "      <td>C</td>\n",
       "      <td>.</td>\n",
       "      <td>PASS</td>\n",
       "      <td>AD=1;DP=1;OTH=29</td>\n",
       "      <td>4.0</td>\n",
       "      <td>NaN</td>\n",
       "      <td>NaN</td>\n",
       "      <td>NaN</td>\n",
       "      <td>NaN</td>\n",
       "      <td>NaN</td>\n",
       "      <td>NaN</td>\n",
       "      <td>4</td>\n",
       "      <td>0.489534</td>\n",
       "      <td>0.822543</td>\n",
       "    </tr>\n",
       "    <tr>\n",
       "      <th>4</th>\n",
       "      <td>chr1</td>\n",
       "      <td>21294734</td>\n",
       "      <td>.</td>\n",
       "      <td>G</td>\n",
       "      <td>A</td>\n",
       "      <td>.</td>\n",
       "      <td>PASS</td>\n",
       "      <td>AD=0;DP=90;OTH=1</td>\n",
       "      <td>5.0</td>\n",
       "      <td>NaN</td>\n",
       "      <td>NaN</td>\n",
       "      <td>NaN</td>\n",
       "      <td>NaN</td>\n",
       "      <td>NaN</td>\n",
       "      <td>NaN</td>\n",
       "      <td>5</td>\n",
       "      <td>0.005142</td>\n",
       "      <td>0.005142</td>\n",
       "    </tr>\n",
       "    <tr>\n",
       "      <th>...</th>\n",
       "      <td>...</td>\n",
       "      <td>...</td>\n",
       "      <td>...</td>\n",
       "      <td>...</td>\n",
       "      <td>...</td>\n",
       "      <td>...</td>\n",
       "      <td>...</td>\n",
       "      <td>...</td>\n",
       "      <td>...</td>\n",
       "      <td>...</td>\n",
       "      <td>...</td>\n",
       "      <td>...</td>\n",
       "      <td>...</td>\n",
       "      <td>...</td>\n",
       "      <td>...</td>\n",
       "      <td>...</td>\n",
       "      <td>...</td>\n",
       "      <td>...</td>\n",
       "    </tr>\n",
       "    <tr>\n",
       "      <th>1873</th>\n",
       "      <td>chrX</td>\n",
       "      <td>129906125</td>\n",
       "      <td>NaN</td>\n",
       "      <td>NaN</td>\n",
       "      <td>C</td>\n",
       "      <td>NaN</td>\n",
       "      <td>NaN</td>\n",
       "      <td>NaN</td>\n",
       "      <td>NaN</td>\n",
       "      <td>.</td>\n",
       "      <td>T</td>\n",
       "      <td>.</td>\n",
       "      <td>PASS</td>\n",
       "      <td>AD=0;DP=1;OTH=60</td>\n",
       "      <td>998.0</td>\n",
       "      <td>1874</td>\n",
       "      <td>0.174965</td>\n",
       "      <td>0.447590</td>\n",
       "    </tr>\n",
       "    <tr>\n",
       "      <th>1874</th>\n",
       "      <td>chrX</td>\n",
       "      <td>135098900</td>\n",
       "      <td>NaN</td>\n",
       "      <td>NaN</td>\n",
       "      <td>A</td>\n",
       "      <td>NaN</td>\n",
       "      <td>NaN</td>\n",
       "      <td>NaN</td>\n",
       "      <td>NaN</td>\n",
       "      <td>.</td>\n",
       "      <td>G</td>\n",
       "      <td>.</td>\n",
       "      <td>PASS</td>\n",
       "      <td>AD=0;DP=83;OTH=1</td>\n",
       "      <td>999.0</td>\n",
       "      <td>1875</td>\n",
       "      <td>0.005142</td>\n",
       "      <td>0.005142</td>\n",
       "    </tr>\n",
       "    <tr>\n",
       "      <th>1875</th>\n",
       "      <td>chrX</td>\n",
       "      <td>149938651</td>\n",
       "      <td>NaN</td>\n",
       "      <td>NaN</td>\n",
       "      <td>G</td>\n",
       "      <td>NaN</td>\n",
       "      <td>NaN</td>\n",
       "      <td>NaN</td>\n",
       "      <td>NaN</td>\n",
       "      <td>.</td>\n",
       "      <td>C</td>\n",
       "      <td>.</td>\n",
       "      <td>PASS</td>\n",
       "      <td>AD=0;DP=70;OTH=1</td>\n",
       "      <td>1000.0</td>\n",
       "      <td>1876</td>\n",
       "      <td>0.005142</td>\n",
       "      <td>0.005142</td>\n",
       "    </tr>\n",
       "    <tr>\n",
       "      <th>1876</th>\n",
       "      <td>chrX</td>\n",
       "      <td>150898821</td>\n",
       "      <td>NaN</td>\n",
       "      <td>NaN</td>\n",
       "      <td>A</td>\n",
       "      <td>NaN</td>\n",
       "      <td>NaN</td>\n",
       "      <td>NaN</td>\n",
       "      <td>NaN</td>\n",
       "      <td>.</td>\n",
       "      <td>G</td>\n",
       "      <td>.</td>\n",
       "      <td>PASS</td>\n",
       "      <td>AD=0;DP=4;OTH=41</td>\n",
       "      <td>1002.0</td>\n",
       "      <td>1877</td>\n",
       "      <td>0.164153</td>\n",
       "      <td>0.070630</td>\n",
       "    </tr>\n",
       "    <tr>\n",
       "      <th>1877</th>\n",
       "      <td>chrX</td>\n",
       "      <td>154378630</td>\n",
       "      <td>NaN</td>\n",
       "      <td>NaN</td>\n",
       "      <td>G</td>\n",
       "      <td>NaN</td>\n",
       "      <td>NaN</td>\n",
       "      <td>NaN</td>\n",
       "      <td>NaN</td>\n",
       "      <td>.</td>\n",
       "      <td>A</td>\n",
       "      <td>.</td>\n",
       "      <td>PASS</td>\n",
       "      <td>AD=1;DP=1;OTH=34</td>\n",
       "      <td>1003.0</td>\n",
       "      <td>1878</td>\n",
       "      <td>0.493847</td>\n",
       "      <td>0.821375</td>\n",
       "    </tr>\n",
       "  </tbody>\n",
       "</table>\n",
       "<p>1878 rows × 18 columns</p>\n",
       "</div>"
      ],
      "text/plain": [
       "     #CHROM        POS ID_x REF_x ALT QUAL_x FILTER_x             INFO_x  \\\n",
       "0      chr1    2290818    .     G   C      .     PASS  AD=34;DP=34;OTH=2   \n",
       "1      chr1    3624769    .     C   T      .     PASS   AD=0;DP=23;OTH=1   \n",
       "2      chr1   16237293    .     G   T      .     PASS   AD=1;DP=1;OTH=19   \n",
       "3      chr1   16904143    .     A   C      .     PASS   AD=1;DP=1;OTH=29   \n",
       "4      chr1   21294734    .     G   A      .     PASS   AD=0;DP=90;OTH=1   \n",
       "...     ...        ...  ...   ...  ..    ...      ...                ...   \n",
       "1873   chrX  129906125  NaN   NaN   C    NaN      NaN                NaN   \n",
       "1874   chrX  135098900  NaN   NaN   A    NaN      NaN                NaN   \n",
       "1875   chrX  149938651  NaN   NaN   G    NaN      NaN                NaN   \n",
       "1876   chrX  150898821  NaN   NaN   A    NaN      NaN                NaN   \n",
       "1877   chrX  154378630  NaN   NaN   G    NaN      NaN                NaN   \n",
       "\n",
       "      old data/PBMC_J_cellSNP ID_y REF_y QUAL_y FILTER_y            INFO_y  \\\n",
       "0                         1.0  NaN   NaN    NaN      NaN               NaN   \n",
       "1                         2.0  NaN   NaN    NaN      NaN               NaN   \n",
       "2                         3.0  NaN   NaN    NaN      NaN               NaN   \n",
       "3                         4.0  NaN   NaN    NaN      NaN               NaN   \n",
       "4                         5.0  NaN   NaN    NaN      NaN               NaN   \n",
       "...                       ...  ...   ...    ...      ...               ...   \n",
       "1873                      NaN    .     T      .     PASS  AD=0;DP=1;OTH=60   \n",
       "1874                      NaN    .     G      .     PASS  AD=0;DP=83;OTH=1   \n",
       "1875                      NaN    .     C      .     PASS  AD=0;DP=70;OTH=1   \n",
       "1876                      NaN    .     G      .     PASS  AD=0;DP=4;OTH=41   \n",
       "1877                      NaN    .     A      .     PASS  AD=1;DP=1;OTH=34   \n",
       "\n",
       "      old data/PBMC_P_cellSNP  new ID      AF 0      AF 1  \n",
       "0                         NaN       1  0.994519  0.994588  \n",
       "1                         NaN       2  0.005877  0.005334  \n",
       "2                         NaN       3  0.489280  0.823032  \n",
       "3                         NaN       4  0.489534  0.822543  \n",
       "4                         NaN       5  0.005142  0.005142  \n",
       "...                       ...     ...       ...       ...  \n",
       "1873                    998.0    1874  0.174965  0.447590  \n",
       "1874                    999.0    1875  0.005142  0.005142  \n",
       "1875                   1000.0    1876  0.005142  0.005142  \n",
       "1876                   1002.0    1877  0.164153  0.070630  \n",
       "1877                   1003.0    1878  0.493847  0.821375  \n",
       "\n",
       "[1878 rows x 18 columns]"
      ]
     },
     "execution_count": 37,
     "metadata": {},
     "output_type": "execute_result"
    }
   ],
   "source": [
    "vcf"
   ]
  },
  {
   "cell_type": "code",
   "execution_count": 38,
   "metadata": {
    "ExecuteTime": {
     "end_time": "2021-01-11T02:39:20.346076Z",
     "start_time": "2021-01-11T02:39:20.311006Z"
    },
    "scrolled": false
   },
   "outputs": [
    {
     "data": {
      "text/html": [
       "<div>\n",
       "<style scoped>\n",
       "    .dataframe tbody tr th:only-of-type {\n",
       "        vertical-align: middle;\n",
       "    }\n",
       "\n",
       "    .dataframe tbody tr th {\n",
       "        vertical-align: top;\n",
       "    }\n",
       "\n",
       "    .dataframe thead th {\n",
       "        text-align: right;\n",
       "    }\n",
       "</style>\n",
       "<table border=\"1\" class=\"dataframe\">\n",
       "  <thead>\n",
       "    <tr style=\"text-align: right;\">\n",
       "      <th></th>\n",
       "      <th>#CHROM</th>\n",
       "      <th>POS</th>\n",
       "      <th>ID_x</th>\n",
       "      <th>REF_x</th>\n",
       "      <th>ALT</th>\n",
       "      <th>QUAL_x</th>\n",
       "      <th>FILTER_x</th>\n",
       "      <th>INFO_x</th>\n",
       "      <th>old data/PBMC_J_cellSNP</th>\n",
       "      <th>ID_y</th>\n",
       "      <th>REF_y</th>\n",
       "      <th>QUAL_y</th>\n",
       "      <th>FILTER_y</th>\n",
       "      <th>INFO_y</th>\n",
       "      <th>old data/PBMC_P_cellSNP</th>\n",
       "      <th>new ID</th>\n",
       "      <th>AF 0</th>\n",
       "      <th>AF 1</th>\n",
       "    </tr>\n",
       "  </thead>\n",
       "  <tbody>\n",
       "    <tr>\n",
       "      <th>0</th>\n",
       "      <td>chr1</td>\n",
       "      <td>2290818</td>\n",
       "      <td>.</td>\n",
       "      <td>G</td>\n",
       "      <td>C</td>\n",
       "      <td>.</td>\n",
       "      <td>PASS</td>\n",
       "      <td>AD=34;DP=34;OTH=2</td>\n",
       "      <td>1.0</td>\n",
       "      <td>NaN</td>\n",
       "      <td>NaN</td>\n",
       "      <td>NaN</td>\n",
       "      <td>NaN</td>\n",
       "      <td>NaN</td>\n",
       "      <td>NaN</td>\n",
       "      <td>1</td>\n",
       "      <td>0.994519</td>\n",
       "      <td>0.994588</td>\n",
       "    </tr>\n",
       "    <tr>\n",
       "      <th>7</th>\n",
       "      <td>chr1</td>\n",
       "      <td>24416958</td>\n",
       "      <td>.</td>\n",
       "      <td>G</td>\n",
       "      <td>A</td>\n",
       "      <td>.</td>\n",
       "      <td>PASS</td>\n",
       "      <td>AD=31;DP=32;OTH=0</td>\n",
       "      <td>8.0</td>\n",
       "      <td>NaN</td>\n",
       "      <td>NaN</td>\n",
       "      <td>NaN</td>\n",
       "      <td>NaN</td>\n",
       "      <td>NaN</td>\n",
       "      <td>NaN</td>\n",
       "      <td>8</td>\n",
       "      <td>0.993572</td>\n",
       "      <td>0.994586</td>\n",
       "    </tr>\n",
       "    <tr>\n",
       "      <th>10</th>\n",
       "      <td>chr1</td>\n",
       "      <td>28648779</td>\n",
       "      <td>.</td>\n",
       "      <td>C</td>\n",
       "      <td>G</td>\n",
       "      <td>.</td>\n",
       "      <td>PASS</td>\n",
       "      <td>AD=60;DP=60;OTH=2</td>\n",
       "      <td>11.0</td>\n",
       "      <td>NaN</td>\n",
       "      <td>NaN</td>\n",
       "      <td>NaN</td>\n",
       "      <td>NaN</td>\n",
       "      <td>NaN</td>\n",
       "      <td>NaN</td>\n",
       "      <td>11</td>\n",
       "      <td>0.994589</td>\n",
       "      <td>0.994589</td>\n",
       "    </tr>\n",
       "    <tr>\n",
       "      <th>21</th>\n",
       "      <td>chr1</td>\n",
       "      <td>66336070</td>\n",
       "      <td>.</td>\n",
       "      <td>G</td>\n",
       "      <td>A</td>\n",
       "      <td>.</td>\n",
       "      <td>PASS</td>\n",
       "      <td>AD=73;DP=73;OTH=1</td>\n",
       "      <td>22.0</td>\n",
       "      <td>NaN</td>\n",
       "      <td>NaN</td>\n",
       "      <td>NaN</td>\n",
       "      <td>NaN</td>\n",
       "      <td>NaN</td>\n",
       "      <td>NaN</td>\n",
       "      <td>22</td>\n",
       "      <td>0.994589</td>\n",
       "      <td>0.994589</td>\n",
       "    </tr>\n",
       "    <tr>\n",
       "      <th>27</th>\n",
       "      <td>chr1</td>\n",
       "      <td>85062230</td>\n",
       "      <td>.</td>\n",
       "      <td>G</td>\n",
       "      <td>A</td>\n",
       "      <td>.</td>\n",
       "      <td>PASS</td>\n",
       "      <td>AD=81;DP=81;OTH=1</td>\n",
       "      <td>28.0</td>\n",
       "      <td>NaN</td>\n",
       "      <td>NaN</td>\n",
       "      <td>NaN</td>\n",
       "      <td>NaN</td>\n",
       "      <td>NaN</td>\n",
       "      <td>NaN</td>\n",
       "      <td>28</td>\n",
       "      <td>0.994589</td>\n",
       "      <td>0.994589</td>\n",
       "    </tr>\n",
       "    <tr>\n",
       "      <th>...</th>\n",
       "      <td>...</td>\n",
       "      <td>...</td>\n",
       "      <td>...</td>\n",
       "      <td>...</td>\n",
       "      <td>...</td>\n",
       "      <td>...</td>\n",
       "      <td>...</td>\n",
       "      <td>...</td>\n",
       "      <td>...</td>\n",
       "      <td>...</td>\n",
       "      <td>...</td>\n",
       "      <td>...</td>\n",
       "      <td>...</td>\n",
       "      <td>...</td>\n",
       "      <td>...</td>\n",
       "      <td>...</td>\n",
       "      <td>...</td>\n",
       "      <td>...</td>\n",
       "    </tr>\n",
       "    <tr>\n",
       "      <th>1860</th>\n",
       "      <td>chrX</td>\n",
       "      <td>13653194</td>\n",
       "      <td>NaN</td>\n",
       "      <td>NaN</td>\n",
       "      <td>T</td>\n",
       "      <td>NaN</td>\n",
       "      <td>NaN</td>\n",
       "      <td>NaN</td>\n",
       "      <td>NaN</td>\n",
       "      <td>.</td>\n",
       "      <td>C</td>\n",
       "      <td>.</td>\n",
       "      <td>PASS</td>\n",
       "      <td>AD=39;DP=39;OTH=1</td>\n",
       "      <td>983.0</td>\n",
       "      <td>1861</td>\n",
       "      <td>0.994588</td>\n",
       "      <td>0.994588</td>\n",
       "    </tr>\n",
       "    <tr>\n",
       "      <th>1861</th>\n",
       "      <td>chrX</td>\n",
       "      <td>47233421</td>\n",
       "      <td>NaN</td>\n",
       "      <td>NaN</td>\n",
       "      <td>G</td>\n",
       "      <td>NaN</td>\n",
       "      <td>NaN</td>\n",
       "      <td>NaN</td>\n",
       "      <td>NaN</td>\n",
       "      <td>.</td>\n",
       "      <td>A</td>\n",
       "      <td>.</td>\n",
       "      <td>PASS</td>\n",
       "      <td>AD=71;DP=71;OTH=1</td>\n",
       "      <td>985.0</td>\n",
       "      <td>1862</td>\n",
       "      <td>0.994589</td>\n",
       "      <td>0.994589</td>\n",
       "    </tr>\n",
       "    <tr>\n",
       "      <th>1863</th>\n",
       "      <td>chrX</td>\n",
       "      <td>51893333</td>\n",
       "      <td>NaN</td>\n",
       "      <td>NaN</td>\n",
       "      <td>G</td>\n",
       "      <td>NaN</td>\n",
       "      <td>NaN</td>\n",
       "      <td>NaN</td>\n",
       "      <td>NaN</td>\n",
       "      <td>.</td>\n",
       "      <td>A</td>\n",
       "      <td>.</td>\n",
       "      <td>PASS</td>\n",
       "      <td>AD=20;DP=20;OTH=1</td>\n",
       "      <td>987.0</td>\n",
       "      <td>1864</td>\n",
       "      <td>0.991022</td>\n",
       "      <td>0.994562</td>\n",
       "    </tr>\n",
       "    <tr>\n",
       "      <th>1868</th>\n",
       "      <td>chrX</td>\n",
       "      <td>80809940</td>\n",
       "      <td>NaN</td>\n",
       "      <td>NaN</td>\n",
       "      <td>T</td>\n",
       "      <td>NaN</td>\n",
       "      <td>NaN</td>\n",
       "      <td>NaN</td>\n",
       "      <td>NaN</td>\n",
       "      <td>.</td>\n",
       "      <td>C</td>\n",
       "      <td>.</td>\n",
       "      <td>PASS</td>\n",
       "      <td>AD=98;DP=98;OTH=1</td>\n",
       "      <td>993.0</td>\n",
       "      <td>1869</td>\n",
       "      <td>0.994589</td>\n",
       "      <td>0.994589</td>\n",
       "    </tr>\n",
       "    <tr>\n",
       "      <th>1871</th>\n",
       "      <td>chrX</td>\n",
       "      <td>120561661</td>\n",
       "      <td>NaN</td>\n",
       "      <td>NaN</td>\n",
       "      <td>A</td>\n",
       "      <td>NaN</td>\n",
       "      <td>NaN</td>\n",
       "      <td>NaN</td>\n",
       "      <td>NaN</td>\n",
       "      <td>.</td>\n",
       "      <td>G</td>\n",
       "      <td>.</td>\n",
       "      <td>PASS</td>\n",
       "      <td>AD=28;DP=28;OTH=1</td>\n",
       "      <td>996.0</td>\n",
       "      <td>1872</td>\n",
       "      <td>0.994404</td>\n",
       "      <td>0.994587</td>\n",
       "    </tr>\n",
       "  </tbody>\n",
       "</table>\n",
       "<p>434 rows × 18 columns</p>\n",
       "</div>"
      ],
      "text/plain": [
       "     #CHROM        POS ID_x REF_x ALT QUAL_x FILTER_x             INFO_x  \\\n",
       "0      chr1    2290818    .     G   C      .     PASS  AD=34;DP=34;OTH=2   \n",
       "7      chr1   24416958    .     G   A      .     PASS  AD=31;DP=32;OTH=0   \n",
       "10     chr1   28648779    .     C   G      .     PASS  AD=60;DP=60;OTH=2   \n",
       "21     chr1   66336070    .     G   A      .     PASS  AD=73;DP=73;OTH=1   \n",
       "27     chr1   85062230    .     G   A      .     PASS  AD=81;DP=81;OTH=1   \n",
       "...     ...        ...  ...   ...  ..    ...      ...                ...   \n",
       "1860   chrX   13653194  NaN   NaN   T    NaN      NaN                NaN   \n",
       "1861   chrX   47233421  NaN   NaN   G    NaN      NaN                NaN   \n",
       "1863   chrX   51893333  NaN   NaN   G    NaN      NaN                NaN   \n",
       "1868   chrX   80809940  NaN   NaN   T    NaN      NaN                NaN   \n",
       "1871   chrX  120561661  NaN   NaN   A    NaN      NaN                NaN   \n",
       "\n",
       "      old data/PBMC_J_cellSNP ID_y REF_y QUAL_y FILTER_y             INFO_y  \\\n",
       "0                         1.0  NaN   NaN    NaN      NaN                NaN   \n",
       "7                         8.0  NaN   NaN    NaN      NaN                NaN   \n",
       "10                       11.0  NaN   NaN    NaN      NaN                NaN   \n",
       "21                       22.0  NaN   NaN    NaN      NaN                NaN   \n",
       "27                       28.0  NaN   NaN    NaN      NaN                NaN   \n",
       "...                       ...  ...   ...    ...      ...                ...   \n",
       "1860                      NaN    .     C      .     PASS  AD=39;DP=39;OTH=1   \n",
       "1861                      NaN    .     A      .     PASS  AD=71;DP=71;OTH=1   \n",
       "1863                      NaN    .     A      .     PASS  AD=20;DP=20;OTH=1   \n",
       "1868                      NaN    .     C      .     PASS  AD=98;DP=98;OTH=1   \n",
       "1871                      NaN    .     G      .     PASS  AD=28;DP=28;OTH=1   \n",
       "\n",
       "      old data/PBMC_P_cellSNP  new ID      AF 0      AF 1  \n",
       "0                         NaN       1  0.994519  0.994588  \n",
       "7                         NaN       8  0.993572  0.994586  \n",
       "10                        NaN      11  0.994589  0.994589  \n",
       "21                        NaN      22  0.994589  0.994589  \n",
       "27                        NaN      28  0.994589  0.994589  \n",
       "...                       ...     ...       ...       ...  \n",
       "1860                    983.0    1861  0.994588  0.994588  \n",
       "1861                    985.0    1862  0.994589  0.994589  \n",
       "1863                    987.0    1864  0.991022  0.994562  \n",
       "1868                    993.0    1869  0.994589  0.994589  \n",
       "1871                    996.0    1872  0.994404  0.994587  \n",
       "\n",
       "[434 rows x 18 columns]"
      ]
     },
     "execution_count": 38,
     "metadata": {},
     "output_type": "execute_result"
    }
   ],
   "source": [
    "vcf[(vcf[\"AF 0\"]>0.9) & (vcf[\"AF 1\"]>0.9)]"
   ]
  },
  {
   "cell_type": "code",
   "execution_count": 39,
   "metadata": {
    "ExecuteTime": {
     "end_time": "2021-01-11T02:39:20.380322Z",
     "start_time": "2021-01-11T02:39:20.347815Z"
    },
    "scrolled": false
   },
   "outputs": [
    {
     "data": {
      "text/html": [
       "<div>\n",
       "<style scoped>\n",
       "    .dataframe tbody tr th:only-of-type {\n",
       "        vertical-align: middle;\n",
       "    }\n",
       "\n",
       "    .dataframe tbody tr th {\n",
       "        vertical-align: top;\n",
       "    }\n",
       "\n",
       "    .dataframe thead th {\n",
       "        text-align: right;\n",
       "    }\n",
       "</style>\n",
       "<table border=\"1\" class=\"dataframe\">\n",
       "  <thead>\n",
       "    <tr style=\"text-align: right;\">\n",
       "      <th></th>\n",
       "      <th>#CHROM</th>\n",
       "      <th>POS</th>\n",
       "      <th>ID_x</th>\n",
       "      <th>REF_x</th>\n",
       "      <th>ALT</th>\n",
       "      <th>QUAL_x</th>\n",
       "      <th>FILTER_x</th>\n",
       "      <th>INFO_x</th>\n",
       "      <th>old data/PBMC_J_cellSNP</th>\n",
       "      <th>ID_y</th>\n",
       "      <th>REF_y</th>\n",
       "      <th>QUAL_y</th>\n",
       "      <th>FILTER_y</th>\n",
       "      <th>INFO_y</th>\n",
       "      <th>old data/PBMC_P_cellSNP</th>\n",
       "      <th>new ID</th>\n",
       "      <th>AF 0</th>\n",
       "      <th>AF 1</th>\n",
       "    </tr>\n",
       "  </thead>\n",
       "  <tbody>\n",
       "    <tr>\n",
       "      <th>0</th>\n",
       "      <td>chr1</td>\n",
       "      <td>2290818</td>\n",
       "      <td>.</td>\n",
       "      <td>G</td>\n",
       "      <td>C</td>\n",
       "      <td>.</td>\n",
       "      <td>PASS</td>\n",
       "      <td>AD=34;DP=34;OTH=2</td>\n",
       "      <td>1.0</td>\n",
       "      <td>NaN</td>\n",
       "      <td>NaN</td>\n",
       "      <td>NaN</td>\n",
       "      <td>NaN</td>\n",
       "      <td>NaN</td>\n",
       "      <td>NaN</td>\n",
       "      <td>1</td>\n",
       "      <td>0.994519</td>\n",
       "      <td>0.994588</td>\n",
       "    </tr>\n",
       "    <tr>\n",
       "      <th>7</th>\n",
       "      <td>chr1</td>\n",
       "      <td>24416958</td>\n",
       "      <td>.</td>\n",
       "      <td>G</td>\n",
       "      <td>A</td>\n",
       "      <td>.</td>\n",
       "      <td>PASS</td>\n",
       "      <td>AD=31;DP=32;OTH=0</td>\n",
       "      <td>8.0</td>\n",
       "      <td>NaN</td>\n",
       "      <td>NaN</td>\n",
       "      <td>NaN</td>\n",
       "      <td>NaN</td>\n",
       "      <td>NaN</td>\n",
       "      <td>NaN</td>\n",
       "      <td>8</td>\n",
       "      <td>0.993572</td>\n",
       "      <td>0.994586</td>\n",
       "    </tr>\n",
       "    <tr>\n",
       "      <th>10</th>\n",
       "      <td>chr1</td>\n",
       "      <td>28648779</td>\n",
       "      <td>.</td>\n",
       "      <td>C</td>\n",
       "      <td>G</td>\n",
       "      <td>.</td>\n",
       "      <td>PASS</td>\n",
       "      <td>AD=60;DP=60;OTH=2</td>\n",
       "      <td>11.0</td>\n",
       "      <td>NaN</td>\n",
       "      <td>NaN</td>\n",
       "      <td>NaN</td>\n",
       "      <td>NaN</td>\n",
       "      <td>NaN</td>\n",
       "      <td>NaN</td>\n",
       "      <td>11</td>\n",
       "      <td>0.994589</td>\n",
       "      <td>0.994589</td>\n",
       "    </tr>\n",
       "    <tr>\n",
       "      <th>21</th>\n",
       "      <td>chr1</td>\n",
       "      <td>66336070</td>\n",
       "      <td>.</td>\n",
       "      <td>G</td>\n",
       "      <td>A</td>\n",
       "      <td>.</td>\n",
       "      <td>PASS</td>\n",
       "      <td>AD=73;DP=73;OTH=1</td>\n",
       "      <td>22.0</td>\n",
       "      <td>NaN</td>\n",
       "      <td>NaN</td>\n",
       "      <td>NaN</td>\n",
       "      <td>NaN</td>\n",
       "      <td>NaN</td>\n",
       "      <td>NaN</td>\n",
       "      <td>22</td>\n",
       "      <td>0.994589</td>\n",
       "      <td>0.994589</td>\n",
       "    </tr>\n",
       "    <tr>\n",
       "      <th>27</th>\n",
       "      <td>chr1</td>\n",
       "      <td>85062230</td>\n",
       "      <td>.</td>\n",
       "      <td>G</td>\n",
       "      <td>A</td>\n",
       "      <td>.</td>\n",
       "      <td>PASS</td>\n",
       "      <td>AD=81;DP=81;OTH=1</td>\n",
       "      <td>28.0</td>\n",
       "      <td>NaN</td>\n",
       "      <td>NaN</td>\n",
       "      <td>NaN</td>\n",
       "      <td>NaN</td>\n",
       "      <td>NaN</td>\n",
       "      <td>NaN</td>\n",
       "      <td>28</td>\n",
       "      <td>0.994589</td>\n",
       "      <td>0.994589</td>\n",
       "    </tr>\n",
       "    <tr>\n",
       "      <th>...</th>\n",
       "      <td>...</td>\n",
       "      <td>...</td>\n",
       "      <td>...</td>\n",
       "      <td>...</td>\n",
       "      <td>...</td>\n",
       "      <td>...</td>\n",
       "      <td>...</td>\n",
       "      <td>...</td>\n",
       "      <td>...</td>\n",
       "      <td>...</td>\n",
       "      <td>...</td>\n",
       "      <td>...</td>\n",
       "      <td>...</td>\n",
       "      <td>...</td>\n",
       "      <td>...</td>\n",
       "      <td>...</td>\n",
       "      <td>...</td>\n",
       "      <td>...</td>\n",
       "    </tr>\n",
       "    <tr>\n",
       "      <th>1860</th>\n",
       "      <td>chrX</td>\n",
       "      <td>13653194</td>\n",
       "      <td>NaN</td>\n",
       "      <td>NaN</td>\n",
       "      <td>T</td>\n",
       "      <td>NaN</td>\n",
       "      <td>NaN</td>\n",
       "      <td>NaN</td>\n",
       "      <td>NaN</td>\n",
       "      <td>.</td>\n",
       "      <td>C</td>\n",
       "      <td>.</td>\n",
       "      <td>PASS</td>\n",
       "      <td>AD=39;DP=39;OTH=1</td>\n",
       "      <td>983.0</td>\n",
       "      <td>1861</td>\n",
       "      <td>0.994588</td>\n",
       "      <td>0.994588</td>\n",
       "    </tr>\n",
       "    <tr>\n",
       "      <th>1861</th>\n",
       "      <td>chrX</td>\n",
       "      <td>47233421</td>\n",
       "      <td>NaN</td>\n",
       "      <td>NaN</td>\n",
       "      <td>G</td>\n",
       "      <td>NaN</td>\n",
       "      <td>NaN</td>\n",
       "      <td>NaN</td>\n",
       "      <td>NaN</td>\n",
       "      <td>.</td>\n",
       "      <td>A</td>\n",
       "      <td>.</td>\n",
       "      <td>PASS</td>\n",
       "      <td>AD=71;DP=71;OTH=1</td>\n",
       "      <td>985.0</td>\n",
       "      <td>1862</td>\n",
       "      <td>0.994589</td>\n",
       "      <td>0.994589</td>\n",
       "    </tr>\n",
       "    <tr>\n",
       "      <th>1863</th>\n",
       "      <td>chrX</td>\n",
       "      <td>51893333</td>\n",
       "      <td>NaN</td>\n",
       "      <td>NaN</td>\n",
       "      <td>G</td>\n",
       "      <td>NaN</td>\n",
       "      <td>NaN</td>\n",
       "      <td>NaN</td>\n",
       "      <td>NaN</td>\n",
       "      <td>.</td>\n",
       "      <td>A</td>\n",
       "      <td>.</td>\n",
       "      <td>PASS</td>\n",
       "      <td>AD=20;DP=20;OTH=1</td>\n",
       "      <td>987.0</td>\n",
       "      <td>1864</td>\n",
       "      <td>0.991022</td>\n",
       "      <td>0.994562</td>\n",
       "    </tr>\n",
       "    <tr>\n",
       "      <th>1868</th>\n",
       "      <td>chrX</td>\n",
       "      <td>80809940</td>\n",
       "      <td>NaN</td>\n",
       "      <td>NaN</td>\n",
       "      <td>T</td>\n",
       "      <td>NaN</td>\n",
       "      <td>NaN</td>\n",
       "      <td>NaN</td>\n",
       "      <td>NaN</td>\n",
       "      <td>.</td>\n",
       "      <td>C</td>\n",
       "      <td>.</td>\n",
       "      <td>PASS</td>\n",
       "      <td>AD=98;DP=98;OTH=1</td>\n",
       "      <td>993.0</td>\n",
       "      <td>1869</td>\n",
       "      <td>0.994589</td>\n",
       "      <td>0.994589</td>\n",
       "    </tr>\n",
       "    <tr>\n",
       "      <th>1871</th>\n",
       "      <td>chrX</td>\n",
       "      <td>120561661</td>\n",
       "      <td>NaN</td>\n",
       "      <td>NaN</td>\n",
       "      <td>A</td>\n",
       "      <td>NaN</td>\n",
       "      <td>NaN</td>\n",
       "      <td>NaN</td>\n",
       "      <td>NaN</td>\n",
       "      <td>.</td>\n",
       "      <td>G</td>\n",
       "      <td>.</td>\n",
       "      <td>PASS</td>\n",
       "      <td>AD=28;DP=28;OTH=1</td>\n",
       "      <td>996.0</td>\n",
       "      <td>1872</td>\n",
       "      <td>0.994404</td>\n",
       "      <td>0.994587</td>\n",
       "    </tr>\n",
       "  </tbody>\n",
       "</table>\n",
       "<p>432 rows × 18 columns</p>\n",
       "</div>"
      ],
      "text/plain": [
       "     #CHROM        POS ID_x REF_x ALT QUAL_x FILTER_x             INFO_x  \\\n",
       "0      chr1    2290818    .     G   C      .     PASS  AD=34;DP=34;OTH=2   \n",
       "7      chr1   24416958    .     G   A      .     PASS  AD=31;DP=32;OTH=0   \n",
       "10     chr1   28648779    .     C   G      .     PASS  AD=60;DP=60;OTH=2   \n",
       "21     chr1   66336070    .     G   A      .     PASS  AD=73;DP=73;OTH=1   \n",
       "27     chr1   85062230    .     G   A      .     PASS  AD=81;DP=81;OTH=1   \n",
       "...     ...        ...  ...   ...  ..    ...      ...                ...   \n",
       "1860   chrX   13653194  NaN   NaN   T    NaN      NaN                NaN   \n",
       "1861   chrX   47233421  NaN   NaN   G    NaN      NaN                NaN   \n",
       "1863   chrX   51893333  NaN   NaN   G    NaN      NaN                NaN   \n",
       "1868   chrX   80809940  NaN   NaN   T    NaN      NaN                NaN   \n",
       "1871   chrX  120561661  NaN   NaN   A    NaN      NaN                NaN   \n",
       "\n",
       "      old data/PBMC_J_cellSNP ID_y REF_y QUAL_y FILTER_y             INFO_y  \\\n",
       "0                         1.0  NaN   NaN    NaN      NaN                NaN   \n",
       "7                         8.0  NaN   NaN    NaN      NaN                NaN   \n",
       "10                       11.0  NaN   NaN    NaN      NaN                NaN   \n",
       "21                       22.0  NaN   NaN    NaN      NaN                NaN   \n",
       "27                       28.0  NaN   NaN    NaN      NaN                NaN   \n",
       "...                       ...  ...   ...    ...      ...                ...   \n",
       "1860                      NaN    .     C      .     PASS  AD=39;DP=39;OTH=1   \n",
       "1861                      NaN    .     A      .     PASS  AD=71;DP=71;OTH=1   \n",
       "1863                      NaN    .     A      .     PASS  AD=20;DP=20;OTH=1   \n",
       "1868                      NaN    .     C      .     PASS  AD=98;DP=98;OTH=1   \n",
       "1871                      NaN    .     G      .     PASS  AD=28;DP=28;OTH=1   \n",
       "\n",
       "      old data/PBMC_P_cellSNP  new ID      AF 0      AF 1  \n",
       "0                         NaN       1  0.994519  0.994588  \n",
       "7                         NaN       8  0.993572  0.994586  \n",
       "10                        NaN      11  0.994589  0.994589  \n",
       "21                        NaN      22  0.994589  0.994589  \n",
       "27                        NaN      28  0.994589  0.994589  \n",
       "...                       ...     ...       ...       ...  \n",
       "1860                    983.0    1861  0.994588  0.994588  \n",
       "1861                    985.0    1862  0.994589  0.994589  \n",
       "1863                    987.0    1864  0.991022  0.994562  \n",
       "1868                    993.0    1869  0.994589  0.994589  \n",
       "1871                    996.0    1872  0.994404  0.994587  \n",
       "\n",
       "[432 rows x 18 columns]"
      ]
     },
     "execution_count": 39,
     "metadata": {},
     "output_type": "execute_result"
    }
   ],
   "source": [
    "vcf[(vcf[\"AF 0\"]>0.95) & (vcf[\"AF 1\"]>0.95)]"
   ]
  },
  {
   "cell_type": "code",
   "execution_count": null,
   "metadata": {},
   "outputs": [],
   "source": []
  },
  {
   "cell_type": "markdown",
   "metadata": {},
   "source": [
    "## Choose the number of donors"
   ]
  },
  {
   "cell_type": "markdown",
   "metadata": {},
   "source": [
    "Unsually, the number of donors are known. In case you are not sure on this, you could try a set of numbers, e.g., from 2 to 6 here, and pick the one when the evidence lower bound (ELBO) stops increasing, e.g., \n",
    "[Figure 2A in Vireo paper](https://genomebiology.biomedcentral.com/articles/10.1186/s13059-019-1865-2/figures/2)\n",
    "\n",
    "In this data set, `n_donor=4` is a sensible choice."
   ]
  },
  {
   "cell_type": "code",
   "execution_count": 40,
   "metadata": {
    "ExecuteTime": {
     "end_time": "2021-01-11T02:40:18.846291Z",
     "start_time": "2021-01-11T02:39:20.381961Z"
    },
    "scrolled": true
   },
   "outputs": [
    {
     "name": "stdout",
     "output_type": "stream",
     "text": [
      "[vireo] lower bound ranges [-1497.7, -1431.9, -1299.9]\n",
      "[vireo] allelic rate mean and concentrations:\n",
      "[[0.005 0.468 0.995]]\n",
      "[[23957.3  3990.4 24472.3]]\n",
      "[vireo] donor size before removing doublets:\n",
      "donor0\tdonor1\n",
      "657\t764\n",
      "[vireo] lower bound ranges [-51.4, 121.0, 318.4]\n",
      "[vireo] allelic rate mean and concentrations:\n",
      "[[0.004 0.465 0.996]]\n",
      "[[24030.9  3809.9 24579.2]]\n",
      "[vireo] donor size before removing doublets:\n",
      "donor0\tdonor1\tdonor2\n",
      "433\t529\t460\n",
      "[vireo] lower bound ranges [1168.7, 1486.4, 1679.4]\n",
      "[vireo] allelic rate mean and concentrations:\n",
      "[[0.003 0.453 0.996]]\n",
      "[[24083.1  3632.4 24704.5]]\n",
      "[vireo] donor size before removing doublets:\n",
      "donor0\tdonor1\tdonor2\tdonor3\n",
      "339\t379\t267\t436\n",
      "[vireo] lower bound ranges [1930.8, 2304.7, 2668.0]\n",
      "[vireo] allelic rate mean and concentrations:\n",
      "[[0.002 0.447 0.997]]\n",
      "[[23905.4  3943.9 24570.8]]\n",
      "[vireo] donor size before removing doublets:\n",
      "donor0\tdonor1\tdonor2\tdonor3\tdonor4\n",
      "292\t370\t331\t115\t312\n",
      "[vireo] lower bound ranges [2324.1, 2985.4, 3237.3]\n",
      "[vireo] allelic rate mean and concentrations:\n",
      "[[0.002 0.464 0.997]]\n",
      "[[24045.1  3796.3 24578.7]]\n",
      "[vireo] donor size before removing doublets:\n",
      "donor0\tdonor1\tdonor2\tdonor3\tdonor4\tdonor5\n",
      "239\t176\t79\t374\t284\t268\n"
     ]
    }
   ],
   "source": [
    "n_donor_list = np.arange(2, 7)\n",
    "ELBO_list_all = []\n",
    "for _n_don in n_donor_list:\n",
    "    res = vireoSNP.vireo_wrap(AD, DP, n_donor=_n_don, learn_GT=True,\n",
    "                              n_extra_donor=0, ASE_mode=False, fix_beta_sum=False,\n",
    "                              n_init=50, check_doublet=True, random_seed=1)\n",
    "    ELBO_list_all.append(res['LB_list'])"
   ]
  },
  {
   "cell_type": "code",
   "execution_count": 41,
   "metadata": {
    "ExecuteTime": {
     "end_time": "2021-01-11T02:40:19.086313Z",
     "start_time": "2021-01-11T02:40:18.849947Z"
    },
    "scrolled": true
   },
   "outputs": [
    {
     "data": {
      "image/png": "[encoded data removed]",
      "text/plain": [
       "<Figure size 500x400 with 1 Axes>"
      ]
     },
     "metadata": {
      "needs_background": "light"
     },
     "output_type": "display_data"
    },
    {
     "data": {
      "text/plain": [
       "<Figure size 432x288 with 0 Axes>"
      ]
     },
     "metadata": {},
     "output_type": "display_data"
    }
   ],
   "source": [
    "import matplotlib.pyplot as plt\n",
    "from vireoSNP.plot.base_plot import heat_matrix\n",
    "\n",
    "fig = plt.figure(figsize=(5, 4), dpi=100)\n",
    "plt.plot(n_donor_list - 1, np.max(ELBO_list_all, axis=1))\n",
    "plt.boxplot(ELBO_list_all)\n",
    "plt.xticks(n_donor_list - 1, n_donor_list)\n",
    "plt.ylabel(\"ELBO\")\n",
    "plt.xlabel(\"n_clones\")\n",
    "plt.show()\n",
    "\n",
    "plt.savefig(join(OUTDIR, \"number_of_donors_ELBO.png\"))"
   ]
  }
 ],
 "metadata": {
  "celltoolbar": "Tags",
  "kernelspec": {
   "display_name": "Python 3",
   "language": "python",
   "name": "python3"
  },
  "language_info": {
   "codemirror_mode": {
    "name": "ipython",
    "version": 3
   },
   "file_extension": ".py",
   "mimetype": "text/x-python",
   "name": "python",
   "nbconvert_exporter": "python",
   "pygments_lexer": "ipython3",
   "version": "3.7.3"
  }
 },
 "nbformat": 4,
 "nbformat_minor": 4
}
