{
 "cells": [
  {
   "cell_type": "markdown",
   "metadata": {},
   "source": [
    "# Examples of using vireoSNP for donor deconvolution"
   ]
  },
  {
   "cell_type": "code",
   "execution_count": 1,
   "metadata": {
    "ExecuteTime": {
     "end_time": "2021-01-11T02:14:34.718306Z",
     "start_time": "2021-01-11T02:14:34.302433Z"
    }
   },
   "outputs": [],
   "source": [
    "import vireoSNP\n",
    "import numpy as np\n",
    "\n",
    "from scipy import sparse\n",
    "from scipy.io import mmread"
   ]
  },
  {
   "cell_type": "markdown",
   "metadata": {},
   "source": [
    "## Load cellSNP data "
   ]
  },
  {
   "cell_type": "markdown",
   "metadata": {},
   "source": [
    "##### Option 1 - VCF format"
   ]
  },
  {
   "cell_type": "code",
   "execution_count": 2,
   "metadata": {
    "ExecuteTime": {
     "end_time": "2021-01-11T02:14:36.168165Z",
     "start_time": "2021-01-11T02:14:34.720423Z"
    }
   },
   "outputs": [],
   "source": [
    "cell_vcf = vireoSNP.load_VCF(\"data/cells.cellSNP.vcf.gz\", biallelic_only=True)\n",
    "cell_dat = vireoSNP.vcf.read_sparse_GeneINFO(cell_vcf['GenoINFO'], keys=['AD', 'DP'])\n",
    "\n",
    "AD = cell_dat['AD']\n",
    "DP = cell_dat['DP']"
   ]
  },
  {
   "cell_type": "markdown",
   "metadata": {},
   "source": [
    "##### Option 2 - sparse matrices"
   ]
  },
  {
   "cell_type": "code",
   "execution_count": 3,
   "metadata": {
    "ExecuteTime": {
     "end_time": "2021-01-11T02:14:36.392938Z",
     "start_time": "2021-01-11T02:14:36.170632Z"
    }
   },
   "outputs": [],
   "source": [
    "AD = mmread(\"data/cellSNP_mat/cellSNP.tag.AD.mtx\").tocsc()\n",
    "DP = mmread(\"data/cellSNP_mat/cellSNP.tag.DP.mtx\").tocsc()"
   ]
  },
  {
   "cell_type": "markdown",
   "metadata": {},
   "source": [
    "Note, `AD` and `DP` are sparse matrices, not `numpy.array`"
   ]
  },
  {
   "cell_type": "markdown",
   "metadata": {},
   "source": [
    "## Run Vireo\n",
    "For donor deconvolution, the `vireoSNP.vireo_wrap` function can be directly used, which contains multiple initialization and have options for different situtaions of donor genotype, fully missing, partially lack, or all available."
   ]
  },
  {
   "cell_type": "code",
   "execution_count": 4,
   "metadata": {
    "ExecuteTime": {
     "end_time": "2021-01-11T02:14:52.466104Z",
     "start_time": "2021-01-11T02:14:36.395214Z"
    }
   },
   "outputs": [
    {
     "name": "stdout",
     "output_type": "stream",
     "text": [
      "[vireo] lower bound ranges [-29456.1, -25592.6, -19155.3]\n",
      "[vireo] allelic rate mean and concentrations:\n",
      "[[0.017 0.462 0.941]]\n",
      "[[28199.7 38020.2 21634.1]]\n",
      "[vireo] donor size before removing doublets:\n",
      "donor0\tdonor1\tdonor2\tdonor3\n",
      "241\t246\t234\t231\n"
     ]
    }
   ],
   "source": [
    "res = vireoSNP.vireo_wrap(AD, DP, n_donor=4, learn_GT=True,\n",
    "                          n_extra_donor=0, ASE_mode=False, fix_beta_sum=False,\n",
    "                          n_init=50, check_doublet=True, random_seed=1)"
   ]
  },
  {
   "cell_type": "markdown",
   "metadata": {},
   "source": [
    "##### The donor assignment probability"
   ]
  },
  {
   "cell_type": "code",
   "execution_count": 5,
   "metadata": {
    "ExecuteTime": {
     "end_time": "2021-01-11T02:14:52.682834Z",
     "start_time": "2021-01-11T02:14:52.468500Z"
    }
   },
   "outputs": [],
   "source": [
    "import matplotlib.pyplot as plt\n",
    "from vireoSNP.plot.base_plot import heat_matrix\n",
    "\n",
    "fig = plt.figure(figsize=(2, 2.5), dpi=200)"
   ]
  },
  {
   "cell_type": "code",
   "execution_count": 6,
   "metadata": {
    "ExecuteTime": {
     "end_time": "2021-01-11T02:14:52.916964Z",
     "start_time": "2021-01-11T02:14:52.684810Z"
    }
   },
   "outputs": [
    {
     "data": {
      "image/png": "[encoded data removed]",
      "text/plain": [
       "<Figure size 400x500 with 2 Axes>"
      ]
     },
     "metadata": {
      "needs_background": "light"
     },
     "output_type": "display_data"
    }
   ],
   "source": [
    "import matplotlib.pyplot as plt\n",
    "from vireoSNP.plot.base_plot import heat_matrix\n",
    "\n",
    "fig = plt.figure(figsize=(4, 5), dpi=100)\n",
    "# assign_prob_comb = res['ID_prob']\n",
    "assign_prob_comb = np.append(res['ID_prob'], \n",
    "                             np.sum(res['doublet_prob'], axis=1, \n",
    "                                    keepdims=True), axis=1)\n",
    "im = heat_matrix(assign_prob_comb, \n",
    "                 cmap=\"Oranges\", alpha=0.8,\n",
    "                 display_value=False, row_sort=True)\n",
    "plt.colorbar(im, fraction=0.046, pad=0.04)\n",
    "plt.title(\"cell assignment prob\")\n",
    "plt.xlabel(\"Donors\")\n",
    "plt.ylabel(\"%d cells\" %(res['ID_prob'].shape[0]))\n",
    "plt.yticks([])\n",
    "plt.xticks([0, 1, 2, 3, 4], [1, 2, 3, 4, \"doublet\"])\n",
    "\n",
    "# plt.tight_layout()\n",
    "plt.show()"
   ]
  },
  {
   "cell_type": "code",
   "execution_count": 7,
   "metadata": {
    "ExecuteTime": {
     "end_time": "2021-01-11T02:14:52.921507Z",
     "start_time": "2021-01-11T02:14:52.918778Z"
    }
   },
   "outputs": [],
   "source": [
    "## donor id with highest probability\n",
    "donor_ids_best = np.argmax(res['ID_prob'], axis=1)"
   ]
  },
  {
   "cell_type": "code",
   "execution_count": 8,
   "metadata": {
    "ExecuteTime": {
     "end_time": "2021-01-11T02:14:52.940126Z",
     "start_time": "2021-01-11T02:14:52.924058Z"
    }
   },
   "outputs": [
    {
     "name": "stdout",
     "output_type": "stream",
     "text": [
      "13 cells are called doublet\n",
      "4 cells are unassigned to singlet or doublets\n"
     ]
    }
   ],
   "source": [
    "## doublet rate\n",
    "\n",
    "doublet_threshold = 0.9\n",
    "is_doublet = np.sum(res['doublet_prob'], axis=1) > doublet_threshold\n",
    "print(\"%d cells are called doublet\" %(sum(is_doublet)))\n",
    "\n",
    "prob_threshold = 0.9\n",
    "is_unassigned = (np.max(res['ID_prob'], axis=1) < prob_threshold) & (~is_doublet)\n",
    "print(\"%d cells are unassigned to singlet or doublets\" %(sum(is_unassigned)))"
   ]
  },
  {
   "cell_type": "markdown",
   "metadata": {},
   "source": [
    "### Allelic ratio per variant per donor"
   ]
  },
  {
   "cell_type": "code",
   "execution_count": 9,
   "metadata": {
    "ExecuteTime": {
     "end_time": "2021-01-11T02:14:52.969676Z",
     "start_time": "2021-01-11T02:14:52.941968Z"
    }
   },
   "outputs": [],
   "source": [
    "## If ASE_mode is False\n",
    "AF_SNPs = np.tensordot(res['GT_prob'], res['theta_mean'][0, :], axes=[2, 0])"
   ]
  },
  {
   "cell_type": "code",
   "execution_count": 10,
   "metadata": {
    "ExecuteTime": {
     "end_time": "2021-01-11T02:14:53.276918Z",
     "start_time": "2021-01-11T02:14:52.973057Z"
    }
   },
   "outputs": [
    {
     "data": {
      "image/png": "[encoded data removed]",
      "text/plain": [
       "<Figure size 400x500 with 2 Axes>"
      ]
     },
     "metadata": {
      "needs_background": "light"
     },
     "output_type": "display_data"
    }
   ],
   "source": [
    "import matplotlib.pyplot as plt\n",
    "from vireoSNP.plot.base_plot import heat_matrix\n",
    "\n",
    "fig = plt.figure(figsize=(4, 5), dpi=100)\n",
    "im = heat_matrix(AF_SNPs, cmap=\"GnBu\", alpha=0.8,\n",
    "                 display_value=False, row_sort=True)\n",
    "plt.colorbar(im, fraction=0.046, pad=0.04)\n",
    "plt.title(\"Mean allelic ratio\")\n",
    "plt.xlabel(\"Donors\")\n",
    "plt.ylabel(\"%d SNPs\" %(AF_SNPs.shape[0]))\n",
    "plt.yticks([])\n",
    "plt.xticks([0, 1, 2, 3])\n",
    "\n",
    "plt.tight_layout()\n",
    "plt.show()"
   ]
  },
  {
   "cell_type": "markdown",
   "metadata": {},
   "source": [
    "## Choose the number of donors"
   ]
  },
  {
   "cell_type": "markdown",
   "metadata": {},
   "source": [
    "Unsually, the number of donors are known. In case you are not sure on this, you could try a set of numbers, e.g., from 2 to 6 here, and pick the one when the evidence lower bound (ELBO) stops increasing, e.g., \n",
    "[Figure 2A in Vireo paper](https://genomebiology.biomedcentral.com/articles/10.1186/s13059-019-1865-2/figures/2)\n",
    "\n",
    "In this data set, `n_donor=4` is a sensible choice."
   ]
  },
  {
   "cell_type": "code",
   "execution_count": 11,
   "metadata": {
    "ExecuteTime": {
     "end_time": "2021-01-11T02:16:25.441677Z",
     "start_time": "2021-01-11T02:14:53.278864Z"
    }
   },
   "outputs": [
    {
     "name": "stdout",
     "output_type": "stream",
     "text": [
      "[vireo] lower bound ranges [-42583.3, -34775.1, -33917.3]\n",
      "[vireo] allelic rate mean and concentrations:\n",
      "[[0.064 0.437 0.849]]\n",
      "[[24679.1 40819.5 22355.4]]\n",
      "[vireo] donor size before removing doublets:\n",
      "donor0\tdonor1\n",
      "483\t469\n",
      "[vireo] lower bound ranges [-33921.1, -27814.6, -25535.5]\n",
      "[vireo] allelic rate mean and concentrations:\n",
      "[[0.026 0.445 0.91 ]]\n",
      "[[25407.2 40997.2 21449.6]]\n",
      "[vireo] donor size before removing doublets:\n",
      "donor0\tdonor1\tdonor2\n",
      "241\t242\t469\n",
      "[vireo] lower bound ranges [-29456.1, -25592.6, -19155.3]\n",
      "[vireo] allelic rate mean and concentrations:\n",
      "[[0.017 0.462 0.941]]\n",
      "[[28199.7 38020.2 21634.1]]\n",
      "[vireo] donor size before removing doublets:\n",
      "donor0\tdonor1\tdonor2\tdonor3\n",
      "241\t246\t234\t231\n",
      "[vireo] lower bound ranges [-29997.3, -24381.9, -18709.2]\n",
      "[vireo] allelic rate mean and concentrations:\n",
      "[[0.019 0.457 0.929]]\n",
      "[[28304.3 37007.5 22542.2]]\n",
      "[vireo] donor size before removing doublets:\n",
      "donor0\tdonor1\tdonor2\tdonor3\tdonor4\n",
      "51\t233\t223\t236\t209\n",
      "[vireo] lower bound ranges [-28605.3, -23995.5, -19379.3]\n",
      "[vireo] allelic rate mean and concentrations:\n",
      "[[0.027 0.452 0.911]]\n",
      "[[28677.7 35500.7 23675.6]]\n",
      "[vireo] donor size before removing doublets:\n",
      "donor0\tdonor1\tdonor2\tdonor3\tdonor4\tdonor5\n",
      "240\t165\t76\t131\t105\t235\n"
     ]
    }
   ],
   "source": [
    "n_donor_list = np.arange(2, 7)\n",
    "ELBO_list_all = []\n",
    "for _n_don in n_donor_list:\n",
    "    res = vireoSNP.vireo_wrap(AD, DP, n_donor=_n_don, learn_GT=True,\n",
    "                              n_extra_donor=0, ASE_mode=False, fix_beta_sum=False,\n",
    "                              n_init=50, check_doublet=True, random_seed=1)\n",
    "    ELBO_list_all.append(res['LB_list'])"
   ]
  },
  {
   "cell_type": "code",
   "execution_count": 12,
   "metadata": {
    "ExecuteTime": {
     "end_time": "2021-01-11T02:16:25.674320Z",
     "start_time": "2021-01-11T02:16:25.443885Z"
    }
   },
   "outputs": [
    {
     "data": {
      "image/png": "[encoded data removed]",
      "text/plain": [
       "<Figure size 500x400 with 1 Axes>"
      ]
     },
     "metadata": {
      "needs_background": "light"
     },
     "output_type": "display_data"
    }
   ],
   "source": [
    "import matplotlib.pyplot as plt\n",
    "from vireoSNP.plot.base_plot import heat_matrix\n",
    "\n",
    "fig = plt.figure(figsize=(5, 4), dpi=100)\n",
    "plt.plot(n_donor_list - 1, np.max(ELBO_list_all, axis=1))\n",
    "plt.boxplot(ELBO_list_all)\n",
    "plt.xticks(n_donor_list - 1, n_donor_list)\n",
    "plt.ylabel(\"ELBO\")\n",
    "plt.xlabel(\"n_clones\")\n",
    "plt.show()"
   ]
  },
  {
   "cell_type": "code",
   "execution_count": null,
   "metadata": {},
   "outputs": [],
   "source": []
  }
 ],
 "metadata": {
  "kernelspec": {
   "display_name": "Python 3",
   "language": "python",
   "name": "python3"
  },
  "language_info": {
   "codemirror_mode": {
    "name": "ipython",
    "version": 3
   },
   "file_extension": ".py",
   "mimetype": "text/x-python",
   "name": "python",
   "nbconvert_exporter": "python",
   "pygments_lexer": "ipython3",
   "version": "3.7.3"
  }
 },
 "nbformat": 4,
 "nbformat_minor": 4
}
