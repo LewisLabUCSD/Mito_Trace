{
 "cells": [
  {
   "cell_type": "code",
   "execution_count": 1,
   "metadata": {
    "ExecuteTime": {
     "end_time": "2021-01-07T22:17:00.753670Z",
     "start_time": "2021-01-07T22:17:00.746914Z"
    },
    "execution": {
     "iopub.execute_input": "2021-01-27T08:30:53.440350Z",
     "iopub.status.busy": "2021-01-27T08:30:53.437900Z",
     "iopub.status.idle": "2021-01-27T08:30:53.465588Z",
     "shell.execute_reply": "2021-01-27T08:30:53.467253Z"
    },
    "papermill": {
     "duration": 0.093712,
     "end_time": "2021-01-27T08:30:53.468230",
     "exception": false,
     "start_time": "2021-01-27T08:30:53.374518",
     "status": "completed"
    },
    "tags": []
   },
   "outputs": [
    {
     "data": {
      "text/plain": [
       "'/data2/mito_lineage/Analysis/multiplex'"
      ]
     },
     "execution_count": 1,
     "metadata": {},
     "output_type": "execute_result"
    }
   ],
   "source": [
    "pwd"
   ]
  },
  {
   "cell_type": "code",
   "execution_count": 2,
   "metadata": {
    "collapsed": true,
    "execution": {
     "iopub.execute_input": "2021-01-27T08:30:53.605497Z",
     "iopub.status.busy": "2021-01-27T08:30:53.601260Z",
     "iopub.status.idle": "2021-01-27T08:30:53.611152Z",
     "shell.execute_reply": "2021-01-27T08:30:53.612706Z"
    },
    "papermill": {
     "duration": 0.083577,
     "end_time": "2021-01-27T08:30:53.613379",
     "exception": false,
     "start_time": "2021-01-27T08:30:53.529802",
     "status": "completed"
    },
    "tags": [
     "parameters"
    ]
   },
   "outputs": [],
   "source": [
    "AD_F = \"../data/mitoDNA/cellSNP.tag.AD.mtx\"\n",
    "DP_F = \"../data/mitoDNA/cellSNP.tag.DP.mtx\""
   ]
  },
  {
   "cell_type": "code",
   "execution_count": 3,
   "metadata": {
    "execution": {
     "iopub.execute_input": "2021-01-27T08:30:53.752365Z",
     "iopub.status.busy": "2021-01-27T08:30:53.749894Z",
     "iopub.status.idle": "2021-01-27T08:30:53.754795Z",
     "shell.execute_reply": "2021-01-27T08:30:53.755842Z"
    },
    "papermill": {
     "duration": 0.083272,
     "end_time": "2021-01-27T08:30:53.756771",
     "exception": false,
     "start_time": "2021-01-27T08:30:53.673499",
     "status": "completed"
    },
    "tags": [
     "injected-parameters"
    ]
   },
   "outputs": [],
   "source": [
    "# Parameters\n",
    "AD_F = \"data/jan21_2021/chrM/P2_cellSNP_minC200_minAF0.01/cellSNP.tag.AD.mtx\"\n",
    "DP_F = \"data/jan21_2021/chrM/P2_cellSNP_minC200_minAF0.01/cellSNP.tag.DP.mtx\"\n"
   ]
  },
  {
   "cell_type": "code",
   "execution_count": 4,
   "metadata": {
    "ExecuteTime": {
     "end_time": "2021-01-07T22:11:17.977334Z",
     "start_time": "2021-01-07T22:11:17.962011Z"
    },
    "execution": {
     "iopub.execute_input": "2021-01-27T08:30:53.890506Z",
     "iopub.status.busy": "2021-01-27T08:30:53.888204Z",
     "iopub.status.idle": "2021-01-27T08:30:53.899648Z",
     "shell.execute_reply": "2021-01-27T08:30:53.901429Z"
    },
    "papermill": {
     "duration": 0.085528,
     "end_time": "2021-01-27T08:30:53.902044",
     "exception": false,
     "start_time": "2021-01-27T08:30:53.816516",
     "status": "completed"
    },
    "tags": []
   },
   "outputs": [
    {
     "data": {
      "text/plain": [
       "'/data2/mito_lineage/Analysis/multiplex'"
      ]
     },
     "execution_count": 4,
     "metadata": {},
     "output_type": "execute_result"
    }
   ],
   "source": [
    "pwd"
   ]
  },
  {
   "cell_type": "markdown",
   "metadata": {
    "papermill": {
     "duration": 0.047745,
     "end_time": "2021-01-27T08:30:54.010679",
     "exception": false,
     "start_time": "2021-01-27T08:30:53.962934",
     "status": "completed"
    },
    "tags": []
   },
   "source": [
    "# Using vireo for clonal reconstruction - mitochondrial mutations"
   ]
  },
  {
   "cell_type": "markdown",
   "metadata": {
    "papermill": {
     "duration": 0.3043,
     "end_time": "2021-01-27T08:30:54.367961",
     "exception": false,
     "start_time": "2021-01-27T08:30:54.063661",
     "status": "completed"
    },
    "tags": []
   },
   "source": [
    "The mitochondrial mutations data set is extracted from [Ludwig et al, Cell, 2019](https://doi.org/10.1016/j.cell.2019.01.022), the 9 variants used here are from Supp Fig. 2F (and main Fig. 2F).\n",
    "\n",
    "For clonal reconstruction, we are using the core class `vireoSNP.Vireo` with multiple initializations"
   ]
  },
  {
   "cell_type": "code",
   "execution_count": 5,
   "metadata": {
    "execution": {
     "iopub.execute_input": "2021-01-27T08:30:54.500687Z",
     "iopub.status.busy": "2021-01-27T08:30:54.498056Z",
     "iopub.status.idle": "2021-01-27T08:30:58.445143Z",
     "shell.execute_reply": "2021-01-27T08:30:58.446480Z"
    },
    "papermill": {
     "duration": 4.023636,
     "end_time": "2021-01-27T08:30:58.447108",
     "exception": false,
     "start_time": "2021-01-27T08:30:54.423472",
     "status": "completed"
    },
    "tags": []
   },
   "outputs": [
    {
     "name": "stdout",
     "output_type": "stream",
     "text": [
      "0.4.2\n"
     ]
    }
   ],
   "source": [
    "import vireoSNP\n",
    "import numpy as np\n",
    "from scipy import sparse\n",
    "from scipy.io import mmread\n",
    "import matplotlib.pyplot as plt\n",
    "\n",
    "print(vireoSNP.__version__)"
   ]
  },
  {
   "cell_type": "code",
   "execution_count": 6,
   "metadata": {
    "collapsed": true,
    "execution": {
     "iopub.execute_input": "2021-01-27T08:30:58.591556Z",
     "iopub.status.busy": "2021-01-27T08:30:58.589747Z",
     "iopub.status.idle": "2021-01-27T08:30:58.595785Z",
     "shell.execute_reply": "2021-01-27T08:30:58.597375Z"
    },
    "papermill": {
     "duration": 0.08872,
     "end_time": "2021-01-27T08:30:58.597995",
     "exception": false,
     "start_time": "2021-01-27T08:30:58.509275",
     "status": "completed"
    },
    "tags": []
   },
   "outputs": [],
   "source": [
    "np.set_printoptions(formatter={'float': lambda x: format(x, '.5f')})"
   ]
  },
  {
   "cell_type": "code",
   "execution_count": 7,
   "metadata": {
    "collapsed": true,
    "execution": {
     "iopub.execute_input": "2021-01-27T08:30:58.733722Z",
     "iopub.status.busy": "2021-01-27T08:30:58.731514Z",
     "iopub.status.idle": "2021-01-27T08:31:11.479507Z",
     "shell.execute_reply": "2021-01-27T08:31:11.480844Z"
    },
    "papermill": {
     "duration": 12.824224,
     "end_time": "2021-01-27T08:31:11.481566",
     "exception": false,
     "start_time": "2021-01-27T08:30:58.657342",
     "status": "completed"
    },
    "tags": []
   },
   "outputs": [],
   "source": [
    "AD = mmread(AD_F).tocsc()\n",
    "DP = mmread(DP_F).tocsc()"
   ]
  },
  {
   "cell_type": "code",
   "execution_count": 8,
   "metadata": {
    "execution": {
     "iopub.execute_input": "2021-01-27T08:31:11.620802Z",
     "iopub.status.busy": "2021-01-27T08:31:11.619013Z",
     "iopub.status.idle": "2021-01-27T08:31:11.659738Z",
     "shell.execute_reply": "2021-01-27T08:31:11.658183Z"
    },
    "papermill": {
     "duration": 0.119457,
     "end_time": "2021-01-27T08:31:11.660184",
     "exception": false,
     "start_time": "2021-01-27T08:31:11.540727",
     "status": "completed"
    },
    "tags": []
   },
   "outputs": [],
   "source": [
    "AD_shape = AD.todense().shape"
   ]
  },
  {
   "cell_type": "markdown",
   "metadata": {
    "papermill": {
     "duration": 0.05643,
     "end_time": "2021-01-27T08:31:11.772577",
     "exception": false,
     "start_time": "2021-01-27T08:31:11.716147",
     "status": "completed"
    },
    "tags": []
   },
   "source": [
    "## New implementation in v0.3.0"
   ]
  },
  {
   "cell_type": "code",
   "execution_count": 9,
   "metadata": {
    "collapsed": true,
    "execution": {
     "iopub.execute_input": "2021-01-27T08:31:11.927444Z",
     "iopub.status.busy": "2021-01-27T08:31:11.925454Z",
     "iopub.status.idle": "2021-01-27T08:31:11.936134Z",
     "shell.execute_reply": "2021-01-27T08:31:11.934100Z"
    },
    "papermill": {
     "duration": 0.098977,
     "end_time": "2021-01-27T08:31:11.936724",
     "exception": false,
     "start_time": "2021-01-27T08:31:11.837747",
     "status": "completed"
    },
    "tags": []
   },
   "outputs": [],
   "source": [
    "from vireoSNP import Vireo"
   ]
  },
  {
   "cell_type": "markdown",
   "metadata": {
    "papermill": {
     "duration": 0.069395,
     "end_time": "2021-01-27T08:31:12.077067",
     "exception": false,
     "start_time": "2021-01-27T08:31:12.007672",
     "status": "completed"
    },
    "tags": []
   },
   "source": [
    "Note, there are a few key parameters:\n",
    "\n",
    "* `n_donor`: it means number of clones here, but you need to determine yourself. You can choose the one with highest ELBO (see next section)\n",
    "* `n_GT`: number of different genotype. For somatic mutations, we could assume that there are only two, namely present or absent\n",
    "* `is_theta_ASE`: whether allelic ratio is variant specific. For mitochondrial mutations, we choose True as allelic ratio can different from variant to variant"
   ]
  },
  {
   "cell_type": "markdown",
   "metadata": {
    "papermill": {
     "duration": 0.065868,
     "end_time": "2021-01-27T08:31:12.212138",
     "exception": false,
     "start_time": "2021-01-27T08:31:12.146270",
     "status": "completed"
    },
    "tags": []
   },
   "source": [
    "### Multiple initialization is needed to avoid local optima"
   ]
  },
  {
   "cell_type": "code",
   "execution_count": 10,
   "metadata": {
    "collapsed": true,
    "execution": {
     "iopub.execute_input": "2021-01-27T08:31:12.359110Z",
     "iopub.status.busy": "2021-01-27T08:31:12.357298Z",
     "iopub.status.idle": "2021-01-27T08:51:09.953111Z",
     "shell.execute_reply": "2021-01-27T08:51:09.950831Z"
    },
    "papermill": {
     "duration": 1197.674022,
     "end_time": "2021-01-27T08:51:09.953842",
     "exception": false,
     "start_time": "2021-01-27T08:31:12.279820",
     "status": "completed"
    },
    "tags": []
   },
   "outputs": [],
   "source": [
    "np.random.seed(1)\n",
    "\n",
    "n_initials = 50\n",
    "_models_all = []\n",
    "for i in range(n_initials):\n",
    "    _modelCA = Vireo(n_var=AD_shape[0], n_cell=AD_shape[1], n_donor=3, n_GT=2,\n",
    "                     fix_beta_sum=False, ASE_mode=True)\n",
    "    _modelCA.set_prior(beta_mu_prior=np.array([[0.01, 0.5]]))\n",
    "    _modelCA.fit(AD, DP, min_iter=20, verbose=False, delay_fit_theta=0)\n",
    "    _models_all.append(_modelCA)"
   ]
  },
  {
   "cell_type": "code",
   "execution_count": 11,
   "metadata": {
    "collapsed": true,
    "execution": {
     "iopub.execute_input": "2021-01-27T08:51:10.101455Z",
     "iopub.status.busy": "2021-01-27T08:51:10.099907Z",
     "iopub.status.idle": "2021-01-27T08:51:10.105073Z",
     "shell.execute_reply": "2021-01-27T08:51:10.106146Z"
    },
    "papermill": {
     "duration": 0.086994,
     "end_time": "2021-01-27T08:51:10.106753",
     "exception": false,
     "start_time": "2021-01-27T08:51:10.019759",
     "status": "completed"
    },
    "tags": []
   },
   "outputs": [],
   "source": [
    "## Choose the model giving highest ELBO\n",
    "\n",
    "_idx = np.argmax([x.ELBO_[-1] for x in _models_all])\n",
    "modelCA = _models_all[_idx]\n",
    "_losses = modelCA.ELBO_"
   ]
  },
  {
   "cell_type": "code",
   "execution_count": 12,
   "metadata": {
    "execution": {
     "iopub.execute_input": "2021-01-27T08:51:10.241979Z",
     "iopub.status.busy": "2021-01-27T08:51:10.239881Z",
     "iopub.status.idle": "2021-01-27T08:51:11.603348Z",
     "shell.execute_reply": "2021-01-27T08:51:11.605053Z"
    },
    "papermill": {
     "duration": 1.441691,
     "end_time": "2021-01-27T08:51:11.606071",
     "exception": false,
     "start_time": "2021-01-27T08:51:10.164380",
     "status": "completed"
    },
    "tags": []
   },
   "outputs": [
    {
     "data": {
      "image/png": "[encoded data removed]",
      "text/plain": [
       "<Figure size 792x288 with 2 Axes>"
      ]
     },
     "metadata": {
      "needs_background": "light"
     },
     "output_type": "display_data"
    }
   ],
   "source": [
    "fig = plt.figure(figsize=(11, 4))\n",
    "plt.subplot(1, 2, 1)\n",
    "plt.hist([x.ELBO_[-1] for x in _models_all])\n",
    "plt.ylabel(\"Frequency\")\n",
    "plt.xlabel(\"ELBO with multiple initializations\")\n",
    "\n",
    "plt.subplot(1, 2, 2)\n",
    "plt.plot(_losses)\n",
    "plt.xlabel(\"Iterations\")\n",
    "plt.ylabel(\"ELBO in a single run\")\n",
    "\n",
    "plt.tight_layout()\n",
    "plt.show()"
   ]
  },
  {
   "cell_type": "code",
   "execution_count": 13,
   "metadata": {
    "execution": {
     "iopub.execute_input": "2021-01-27T08:51:11.763004Z",
     "iopub.status.busy": "2021-01-27T08:51:11.760758Z",
     "iopub.status.idle": "2021-01-27T08:51:11.772757Z",
     "shell.execute_reply": "2021-01-27T08:51:11.774299Z"
    },
    "papermill": {
     "duration": 0.103104,
     "end_time": "2021-01-27T08:51:11.775106",
     "exception": false,
     "start_time": "2021-01-27T08:51:11.672002",
     "status": "completed"
    },
    "tags": []
   },
   "outputs": [
    {
     "name": "stdout",
     "output_type": "stream",
     "text": [
      "[[0.44198 0.01237]\n",
      " [0.03038 0.49589]\n",
      " [0.01299 0.47904]\n",
      " [0.44901 0.01151]\n",
      " [0.92128 0.02880]\n",
      " [0.02946 0.92455]\n",
      " [0.48260 0.01087]\n",
      " [0.00142 0.24024]\n",
      " [0.45087 0.02793]\n",
      " [0.01175 0.01731]\n",
      " [0.02989 0.03679]\n",
      " [0.01447 0.01076]\n",
      " [0.02396 0.04830]\n",
      " [0.02815 0.01070]\n",
      " [0.10500 0.67217]\n",
      " [0.01284 0.01375]\n",
      " [0.01570 0.01688]\n",
      " [0.01483 0.01616]\n",
      " [0.01196 0.50000]\n",
      " [0.01915 0.02082]\n",
      " [0.01023 0.01109]\n",
      " [0.01839 0.01904]\n",
      " [0.01894 0.01908]\n",
      " [0.01118 0.01187]\n",
      " [0.01058 0.01133]\n",
      " [0.01189 0.01199]\n",
      " [0.03436 0.94893]\n",
      " [0.01746 0.01907]\n",
      " [0.02330 0.02501]\n",
      " [0.02565 0.02710]\n",
      " [0.00124 0.02966]\n",
      " [0.03520 0.04234]\n",
      " [0.00894 0.01183]\n",
      " [0.02292 0.03437]\n",
      " [0.01184 0.01765]\n",
      " [0.00922 0.01313]\n",
      " [0.00767 0.02634]\n",
      " [0.00658 0.01582]\n",
      " [0.01077 0.01814]\n",
      " [0.00746 0.01478]\n",
      " [0.01305 0.00825]\n",
      " [0.01273 0.45258]\n",
      " [0.48542 0.03124]\n",
      " [0.01863 0.01934]\n",
      " [0.01040 0.01102]\n",
      " [0.48419 0.02978]\n",
      " [0.01237 0.45485]\n",
      " [0.94351 0.03231]\n",
      " [0.03035 0.48632]\n",
      " [0.01234 0.01338]\n",
      " [0.01083 0.01169]\n",
      " [0.43641 0.43766]\n",
      " [0.92298 0.02893]\n",
      " [0.91696 0.02853]\n",
      " [0.03456 0.94457]\n",
      " [0.10219 0.10794]\n",
      " [0.02780 0.02946]\n",
      " [0.13511 0.14227]\n",
      " [0.02581 0.02817]\n",
      " [0.01922 0.02033]\n",
      " [0.02028 0.02079]\n",
      " [0.17812 0.18142]\n",
      " [0.01654 0.01759]\n",
      " [0.01015 0.01085]\n",
      " [0.10478 0.10502]\n",
      " [0.01047 0.01089]\n",
      " [0.10003 0.10162]\n",
      " [0.03263 0.03340]\n",
      " [0.03990 0.04110]\n",
      " [0.02174 0.02264]\n",
      " [0.02915 0.02926]\n",
      " [0.01277 0.50000]\n",
      " [0.03121 0.03228]\n",
      " [0.02388 0.02274]\n",
      " [0.01874 0.01979]\n",
      " [0.01239 0.45415]\n",
      " [0.01059 0.50000]\n",
      " [0.46139 0.01742]\n",
      " [0.01087 0.01099]\n",
      " [0.94911 0.03706]\n",
      " [0.45856 0.02858]\n",
      " [0.44636 0.01336]\n",
      " [0.01071 0.01095]\n",
      " [0.00937 0.01146]\n",
      " [0.02901 0.91018]\n",
      " [0.91832 0.02828]\n",
      " [0.48854 0.03192]\n",
      " [0.94487 0.03512]\n",
      " [0.45357 0.01246]\n",
      " [0.03759 0.03897]\n",
      " [0.01323 0.44221]\n",
      " [0.03405 0.02381]\n",
      " [0.01355 0.00994]\n",
      " [0.00976 0.01564]\n",
      " [0.45183 0.01235]\n",
      " [0.02290 0.02306]\n",
      " [0.03445 0.94612]\n",
      " [0.01040 0.01144]\n",
      " [0.92876 0.04033]\n",
      " [0.43983 0.01275]\n",
      " [0.48820 0.03299]\n",
      " [0.03538 0.94771]\n",
      " [0.92109 0.02811]\n",
      " [0.00776 0.01139]\n",
      " [0.03768 0.92771]\n",
      " [0.95146 0.03736]\n",
      " [0.00133 0.01304]\n",
      " [0.05635 0.92783]\n",
      " [0.03194 0.03456]\n",
      " [0.01482 0.01904]\n",
      " [0.06033 0.04715]\n",
      " [0.01685 0.02160]\n",
      " [0.91899 0.02799]\n",
      " [0.06944 0.95889]\n",
      " [0.03327 0.94514]\n",
      " [0.94396 0.03406]\n",
      " [0.06858 0.95790]\n",
      " [0.08669 0.08682]\n",
      " [0.01151 0.01172]\n",
      " [0.04342 0.04366]\n",
      " [0.02541 0.02554]\n",
      " [0.01908 0.02021]\n",
      " [0.03137 0.03187]\n",
      " [0.03405 0.03254]\n",
      " [0.04312 0.04327]\n",
      " [0.02576 0.02710]\n",
      " [0.01450 0.01504]\n",
      " [0.01611 0.01622]\n",
      " [0.00913 0.01074]\n",
      " [0.01371 0.01436]\n",
      " [0.01484 0.01265]\n",
      " [0.01467 0.01480]\n",
      " [0.01129 0.01138]\n",
      " [0.01138 0.01223]\n",
      " [0.02938 0.91626]\n",
      " [0.06899 0.00230]\n",
      " [0.45414 0.01162]\n",
      " [0.01008 0.01114]\n",
      " [0.49417 0.03275]\n",
      " [0.94343 0.03349]\n",
      " [0.01180 0.44719]\n",
      " [0.94645 0.03341]\n",
      " [0.01255 0.44663]\n",
      " [0.03478 0.94605]\n",
      " [0.48281 0.03060]\n",
      " [0.45627 0.01285]\n",
      " [0.03057 0.92538]\n",
      " [0.92111 0.02864]\n",
      " [0.94595 0.03468]\n",
      " [0.01230 0.01253]\n",
      " [0.01040 0.01114]\n",
      " [0.01402 0.01414]\n",
      " [0.01419 0.01496]\n",
      " [0.01860 0.01886]\n",
      " [0.02402 0.02471]\n",
      " [0.02693 0.02885]\n",
      " [0.01894 0.01909]\n",
      " [0.01141 0.01222]\n",
      " [0.05392 0.05405]\n",
      " [0.05781 0.05793]\n",
      " [0.01018 0.01032]\n",
      " [0.04014 0.04138]\n",
      " [0.02896 0.02910]\n",
      " [0.01165 0.01219]\n",
      " [0.01297 0.50000]\n",
      " [0.01191 0.01233]\n",
      " [0.01801 0.50000]\n",
      " [0.01417 0.50000]\n",
      " [0.02719 0.02734]\n",
      " [0.02225 0.02243]\n",
      " [0.01037 0.50000]\n",
      " [0.01294 0.01306]\n",
      " [0.01684 0.50000]\n",
      " [0.01147 0.50000]\n",
      " [0.91599 0.02850]\n",
      " [0.01643 0.01733]\n",
      " [0.03465 0.94652]\n",
      " [0.02630 0.91440]\n",
      " [0.49120 0.03120]\n",
      " [0.03559 0.94843]\n",
      " [0.03302 0.94425]\n",
      " [0.00727 0.28183]\n",
      " [0.06798 0.95714]\n",
      " [0.91802 0.02763]\n",
      " [0.03106 0.48318]\n",
      " [0.02185 0.02288]\n",
      " [0.01349 0.01357]\n",
      " [0.01504 0.01590]\n",
      " [0.03112 0.03531]\n",
      " [0.03132 0.03438]\n",
      " [0.01209 0.01298]\n",
      " [0.01405 0.01485]\n",
      " [0.01345 0.01479]\n",
      " [0.94571 0.03405]\n",
      " [0.91942 0.02775]\n",
      " [0.03296 0.94921]\n",
      " [0.01101 0.43844]\n",
      " [0.92983 0.03228]\n",
      " [0.03476 0.95086]\n",
      " [0.01505 0.29898]\n",
      " [0.38785 0.02198]\n",
      " [0.91814 0.02757]\n",
      " [0.01075 0.45020]\n",
      " [0.03746 0.95006]\n",
      " [0.44206 0.00967]\n",
      " [0.94205 0.03320]\n",
      " [0.94413 0.03315]\n",
      " [0.03040 0.61761]\n",
      " [0.04346 0.00187]\n",
      " [0.92217 0.03004]]\n",
      "[[369511.76158 340904.23842]\n",
      " [346010.30732 379366.69268]\n",
      " [175992.17119 191012.82881]\n",
      " [192575.79358 182961.20642]\n",
      " [69581.16606 254478.83394]\n",
      " [255387.45322 71013.54678]\n",
      " [180584.70576 176082.29424]\n",
      " [302825.29105 14364.70895]\n",
      " [254868.84344 241344.15656]\n",
      " [396313.02910 108436.97090]\n",
      " [254488.24870 229721.75130]\n",
      " [222088.75558 240993.24442]\n",
      " [212298.83449 219539.16551]\n",
      " [225557.16988 215016.83012]\n",
      " [186454.81135 201422.18865]\n",
      " [460552.98616 172931.01384]\n",
      " [317408.19013 286754.80987]\n",
      " [304968.17485 287035.82515]\n",
      " [547699.00000 50.00000]\n",
      " [423109.83256 111971.16744]\n",
      " [366493.66326 168592.33674]\n",
      " [389215.11970 164887.88030]\n",
      " [294752.78264 241129.21736]\n",
      " [445385.60203 152305.39797]\n",
      " [425242.74445 152698.25555]\n",
      " [297200.14702 273981.85298]\n",
      " [427197.07311 166802.92689]\n",
      " [407878.59781 163986.40219]\n",
      " [439154.14063 172998.85937]\n",
      " [444557.09902 176550.90098]\n",
      " [183339.37378 238171.62622]\n",
      " [340503.17765 354285.82235]\n",
      " [364560.20969 381610.79031]\n",
      " [337197.21405 352321.78595]\n",
      " [353199.96338 369132.03662]\n",
      " [339519.01738 349511.98262]\n",
      " [329288.03502 340943.96498]\n",
      " [327701.83871 329280.16129]\n",
      " [339739.20075 349285.79925]\n",
      " [317001.14222 329743.85778]\n",
      " [334395.67690 319519.32310]\n",
      " [315017.33719 342746.66281]\n",
      " [402273.67013 375872.32987]\n",
      " [258528.88982 455127.11018]\n",
      " [126690.75346 532120.24654]\n",
      " [322633.72005 303748.27995]\n",
      " [276561.99399 304890.00601]\n",
      " [167874.17248 467981.82752]\n",
      " [335467.05694 367151.94306]\n",
      " [453169.68335 108811.31665]\n",
      " [532719.40682 125691.59318]\n",
      " [22646.11707 25753.88293]\n",
      " [158156.05028 590826.94972]\n",
      " [155622.28089 600439.71911]\n",
      " [418448.63276 157619.36724]\n",
      " [129564.51617 337616.48383]\n",
      " [156285.87598 409883.12402]\n",
      " [154292.92864 404152.07136]\n",
      " [164482.66176 431683.33824]\n",
      " [150902.20877 393313.79123]\n",
      " [217557.81336 349624.18664]\n",
      " [143571.18739 380323.81261]\n",
      " [254637.66781 317625.33219]\n",
      " [462133.80611 100593.19389]\n",
      " [324697.89446 270171.10554]\n",
      " [471808.53799 157519.46201]\n",
      " [403788.02709 175882.97291]\n",
      " [389738.56274 155857.43726]\n",
      " [425068.37616 151212.62384]\n",
      " [335599.54413 253204.45587]\n",
      " [310647.20529 290458.79471]\n",
      " [586030.00000 50.00000]\n",
      " [376458.74985 224908.25015]\n",
      " [165984.75728 440724.24272]\n",
      " [375398.71911 237260.28089]\n",
      " [283898.42154 310418.57846]\n",
      " [466649.00000 50.00000]\n",
      " [259883.94090 238858.05910]\n",
      " [342698.39347 253685.60653]\n",
      " [110777.63730 277985.36270]\n",
      " [236786.14727 230392.85273]\n",
      " [343771.31502 320861.68498]\n",
      " [215180.79741 249698.20259]\n",
      " [100354.10782 384610.89218]\n",
      " [422749.74856 107309.25144]\n",
      " [139749.14589 537884.85411]\n",
      " [336808.37230 312338.62770]\n",
      " [215752.18512 568539.81488]\n",
      " [249062.15520 228450.84480]\n",
      " [351046.09171 203256.90829]\n",
      " [290510.86091 308421.13909]\n",
      " [328021.98401 359324.01599]\n",
      " [323768.11855 354622.88145]\n",
      " [343737.73373 314456.26627]\n",
      " [326879.16040 298438.83960]\n",
      " [243624.30967 242335.69033]\n",
      " [421917.44763 161019.55237]\n",
      " [150580.53927 396976.46073]\n",
      " [294741.48793 279454.51207]\n",
      " [360426.92480 323295.07520]\n",
      " [367120.99738 334612.00262]\n",
      " [404733.10014 157401.89986]\n",
      " [145725.47461 551639.52539]\n",
      " [182767.81663 448789.18337]\n",
      " [341155.14725 345026.85275]\n",
      " [197945.18855 486474.81145]\n",
      " [89581.51502 318265.48498]\n",
      " [314873.48221 89049.51779]\n",
      " [311377.71915 86696.28085]\n",
      " [317042.55389 88439.44611]\n",
      " [85779.52066 308651.47934]\n",
      " [318632.55389 89038.44611]\n",
      " [121847.66406 470123.33594]\n",
      " [249070.61749 230772.38251]\n",
      " [340992.95478 124602.04522]\n",
      " [215148.02958 579523.97042]\n",
      " [272531.36157 251162.63843]\n",
      " [232825.35800 220936.64200]\n",
      " [293979.28460 187469.71540]\n",
      " [222342.61663 256381.38337]\n",
      " [228722.89138 231696.10862]\n",
      " [209902.84070 250585.15930]\n",
      " [158298.24360 281755.75640]\n",
      " [351313.90446 89643.09554]\n",
      " [228958.95806 228873.04194]\n",
      " [413265.87023 89663.12977]\n",
      " [428930.86889 110119.13111]\n",
      " [266622.91617 231302.08383]\n",
      " [105321.40437 405444.59563]\n",
      " [396860.14228 168742.85772]\n",
      " [438253.07105 115330.92895]\n",
      " [294209.17315 281921.82685]\n",
      " [326798.34211 294268.65789]\n",
      " [125916.34558 490717.65442]\n",
      " [477234.76376 124972.23624]\n",
      " [184152.40632 496695.59368]\n",
      " [395862.17826 360890.82174]\n",
      " [542389.24845 140048.75155]\n",
      " [329773.30464 294681.69536]\n",
      " [174944.39457 474638.60543]\n",
      " [329535.61408 360191.38592]\n",
      " [167727.50653 458245.49347]\n",
      " [292095.52859 318885.47141]\n",
      " [447282.84055 168238.15945]\n",
      " [232726.15005 210974.84995]\n",
      " [281489.34292 255866.65708]\n",
      " [473315.50036 130635.49964]\n",
      " [129847.85615 492271.14385]\n",
      " [191480.72438 497353.27562]\n",
      " [225897.03594 280460.96406]\n",
      " [430250.16132 189261.83868]\n",
      " [302902.48081 277590.51919]\n",
      " [456261.36512 132341.63488]\n",
      " [378312.71958 204107.28042]\n",
      " [413623.02403 185976.97597]\n",
      " [301072.30769 277032.69231]\n",
      " [368025.88615 272789.11385]\n",
      " [397025.29439 146611.70561]\n",
      " [242308.16379 220273.83621]\n",
      " [251336.26999 238320.73001]\n",
      " [243624.16099 241587.83901]\n",
      " [211065.22464 280629.77536]\n",
      " [259421.42684 235338.57316]\n",
      " [383372.33455 107854.66545]\n",
      " [487983.00000 50.00000]\n",
      " [186883.92335 301835.07665]\n",
      " [498881.00000 50.00000]\n",
      " [496374.00000 50.00000]\n",
      " [256953.53045 232912.46955]\n",
      " [229390.65526 257690.34474]\n",
      " [534234.00000 50.00000]\n",
      " [263553.61760 252993.38240]\n",
      " [516857.00000 50.00000]\n",
      " [529722.00000 50.00000]\n",
      " [115572.99982 444574.00018]\n",
      " [259329.76173 317647.23827]\n",
      " [430309.38737 167128.61263]\n",
      " [420181.78253 109424.21747]\n",
      " [286562.64221 266698.35779]\n",
      " [389159.56920 157876.43080]\n",
      " [441675.68907 163841.31093]\n",
      " [312456.82819 331734.17181]\n",
      " [376119.56122 347451.43878]\n",
      " [145370.52458 573934.47542]\n",
      " [339078.91691 374848.08309]\n",
      " [377441.65341 337419.34659]\n",
      " [346937.95280 325686.04720]\n",
      " [490614.79465 175172.20535]\n",
      " [469165.55311 175815.44689]\n",
      " [489572.56633 183702.43367]\n",
      " [491730.13945 180152.86055]\n",
      " [402703.12271 252390.87729]\n",
      " [179604.16925 478935.83075]\n",
      " [169084.57727 449784.42273]\n",
      " [122751.56577 457348.43423]\n",
      " [508103.20158 189033.79842]\n",
      " [255871.01997 251262.98003]\n",
      " [118970.16318 395963.83682]\n",
      " [452142.15617 174866.84383]\n",
      " [341500.43546 274427.56454]\n",
      " [342524.91184 375045.08816]\n",
      " [129207.32448 500751.67552]\n",
      " [281099.61854 282791.38146]\n",
      " [395886.30743 163361.69257]\n",
      " [246237.04869 248733.95131]\n",
      " [134740.91609 359150.08391]\n",
      " [144907.88081 391193.11919]\n",
      " [192516.77201 504305.22799]\n",
      " [385851.59072 351887.40928]\n",
      " [130127.66892 488419.33108]]\n"
     ]
    }
   ],
   "source": [
    "print(modelCA.beta_mu),\n",
    "print(modelCA.beta_sum)"
   ]
  },
  {
   "cell_type": "code",
   "execution_count": 14,
   "metadata": {
    "execution": {
     "iopub.execute_input": "2021-01-27T08:51:11.936668Z",
     "iopub.status.busy": "2021-01-27T08:51:11.934790Z",
     "iopub.status.idle": "2021-01-27T08:51:13.553215Z",
     "shell.execute_reply": "2021-01-27T08:51:13.556407Z"
    },
    "papermill": {
     "duration": 1.71261,
     "end_time": "2021-01-27T08:51:13.557090",
     "exception": false,
     "start_time": "2021-01-27T08:51:11.844480",
     "status": "completed"
    },
    "tags": []
   },
   "outputs": [
    {
     "data": {
      "image/png": "[encoded data removed]",
      "text/plain": [
       "<Figure size 700x400 with 4 Axes>"
      ]
     },
     "metadata": {
      "needs_background": "light"
     },
     "output_type": "display_data"
    }
   ],
   "source": [
    "import matplotlib.pyplot as plt\n",
    "from vireoSNP.plot.base_plot import heat_matrix\n",
    "\n",
    "fig = plt.figure(figsize=(7, 4), dpi=100)\n",
    "plt.subplot(1, 2, 1)\n",
    "im = heat_matrix(modelCA.ID_prob, cmap=\"Oranges\", alpha=0.8,\n",
    "                 display_value=False, row_sort=True)\n",
    "plt.colorbar(im, fraction=0.046, pad=0.04)\n",
    "plt.title(\"Assignment probability\")\n",
    "plt.xlabel(\"Clone\")\n",
    "plt.ylabel(\"%d cells\" %(modelCA.n_cell))\n",
    "plt.xticks(range(modelCA.n_donor))\n",
    "\n",
    "\n",
    "plt.subplot(1, 2, 2)\n",
    "AF_SNPs = np.sum(modelCA.GT_prob * \n",
    "                 np.expand_dims(modelCA.beta_mu, 1), axis=2)\n",
    "im = heat_matrix(AF_SNPs, cmap=\"Blues\", alpha=0.8, \n",
    "                 display_value=False, row_sort=True)\n",
    "plt.colorbar(im, fraction=0.046, pad=0.04)\n",
    "plt.title(\"Mean allelic ratio\")\n",
    "plt.xlabel(\"Clone\")\n",
    "plt.ylabel(\"%d SNPs\" %(modelCA.n_var))\n",
    "plt.xticks(range(modelCA.n_donor))\n",
    "\n",
    "plt.tight_layout()\n",
    "plt.show()"
   ]
  },
  {
   "cell_type": "code",
   "execution_count": 15,
   "metadata": {
    "execution": {
     "iopub.execute_input": "2021-01-27T08:51:13.704642Z",
     "iopub.status.busy": "2021-01-27T08:51:13.702684Z",
     "iopub.status.idle": "2021-01-27T08:51:14.000904Z",
     "shell.execute_reply": "2021-01-27T08:51:14.002353Z"
    },
    "papermill": {
     "duration": 0.379043,
     "end_time": "2021-01-27T08:51:14.003157",
     "exception": false,
     "start_time": "2021-01-27T08:51:13.624114",
     "status": "completed"
    },
    "tags": []
   },
   "outputs": [
    {
     "data": {
      "text/plain": [
       "549.875544525905"
      ]
     },
     "execution_count": 15,
     "metadata": {},
     "output_type": "execute_result"
    }
   ],
   "source": [
    "np.sum(modelCA.predict_doublet(AD, DP)[0])"
   ]
  },
  {
   "cell_type": "code",
   "execution_count": null,
   "metadata": {
    "collapsed": true,
    "papermill": {
     "duration": 0.085953,
     "end_time": "2021-01-27T08:51:14.174850",
     "exception": false,
     "start_time": "2021-01-27T08:51:14.088897",
     "status": "completed"
    },
    "tags": []
   },
   "outputs": [],
   "source": []
  },
  {
   "cell_type": "markdown",
   "metadata": {
    "papermill": {
     "duration": 0.074389,
     "end_time": "2021-01-27T08:51:14.322374",
     "exception": false,
     "start_time": "2021-01-27T08:51:14.247985",
     "status": "completed"
    },
    "tags": []
   },
   "source": [
    "### Choose the number of clones\n",
    "We can choose the number of clones where ELBO stops increasing. Here, the best number of clone is 3.\n",
    "\n",
    "Note, for a certain number of clone, e.g., n_clone=3, the ELBO may not the same for multiple initializations. This is becaused VI can only guarantee a local optima, so please choose the highest ELBO for each `n_clone` to represent its \"global\" optima."
   ]
  },
  {
   "cell_type": "code",
   "execution_count": 16,
   "metadata": {
    "collapsed": true,
    "execution": {
     "iopub.execute_input": "2021-01-27T08:51:14.487078Z",
     "iopub.status.busy": "2021-01-27T08:51:14.485293Z",
     "iopub.status.idle": "2021-01-27T09:47:34.005859Z",
     "shell.execute_reply": "2021-01-27T09:47:34.007674Z"
    },
    "papermill": {
     "duration": 3379.609781,
     "end_time": "2021-01-27T09:47:34.008579",
     "exception": false,
     "start_time": "2021-01-27T08:51:14.398798",
     "status": "completed"
    },
    "tags": []
   },
   "outputs": [],
   "source": [
    "n_initials = 50\n",
    "n_clone_list = np.arange(2, 6)\n",
    "\n",
    "_ELBO_mat = [] \n",
    "for k in n_clone_list:\n",
    "    _elbo_temp = []\n",
    "    for i in range(50):\n",
    "        _modelCA = Vireo(n_var=AD_shape[0], n_cell=AD_shape[1], n_donor=k, n_GT=2,\n",
    "                         fix_beta_sum=False, ASE_mode=True)\n",
    "        _modelCA.set_prior(beta_mu_prior=np.array([[0.01, 0.5]]))\n",
    "        _modelCA.fit(AD, DP, min_iter=20, verbose=False)\n",
    "        _elbo_temp.append(_modelCA.ELBO_[-1])\n",
    "    _ELBO_mat.append(_elbo_temp)"
   ]
  },
  {
   "cell_type": "code",
   "execution_count": 17,
   "metadata": {
    "execution": {
     "iopub.execute_input": "2021-01-27T09:47:34.187179Z",
     "iopub.status.busy": "2021-01-27T09:47:34.170715Z",
     "iopub.status.idle": "2021-01-27T09:47:34.851545Z",
     "shell.execute_reply": "2021-01-27T09:47:34.853040Z"
    },
    "papermill": {
     "duration": 0.775495,
     "end_time": "2021-01-27T09:47:34.853956",
     "exception": false,
     "start_time": "2021-01-27T09:47:34.078461",
     "status": "completed"
    },
    "tags": []
   },
   "outputs": [
    {
     "data": {
      "image/png": "[encoded data removed]",
      "text/plain": [
       "<Figure size 432x288 with 1 Axes>"
      ]
     },
     "metadata": {
      "needs_background": "light"
     },
     "output_type": "display_data"
    }
   ],
   "source": [
    "plt.plot([1, 2, 3, 4], np.max(_ELBO_mat, axis=1))\n",
    "plt.boxplot(_ELBO_mat)\n",
    "plt.xticks(n_clone_list - 1, n_clone_list)\n",
    "plt.ylabel(\"ELBO\")\n",
    "plt.xlabel(\"n_clones\")\n",
    "plt.show()"
   ]
  },
  {
   "cell_type": "code",
   "execution_count": null,
   "metadata": {
    "collapsed": true,
    "papermill": {
     "duration": 0.068147,
     "end_time": "2021-01-27T09:47:34.992991",
     "exception": false,
     "start_time": "2021-01-27T09:47:34.924844",
     "status": "completed"
    },
    "tags": []
   },
   "outputs": [],
   "source": []
  },
  {
   "cell_type": "code",
   "execution_count": null,
   "metadata": {
    "collapsed": true,
    "papermill": {
     "duration": 0.070003,
     "end_time": "2021-01-27T09:47:35.128304",
     "exception": false,
     "start_time": "2021-01-27T09:47:35.058301",
     "status": "completed"
    },
    "tags": []
   },
   "outputs": [],
   "source": []
  },
  {
   "cell_type": "code",
   "execution_count": null,
   "metadata": {
    "collapsed": true,
    "papermill": {
     "duration": 0.069653,
     "end_time": "2021-01-27T09:47:35.275238",
     "exception": false,
     "start_time": "2021-01-27T09:47:35.205585",
     "status": "completed"
    },
    "tags": []
   },
   "outputs": [],
   "source": []
  },
  {
   "cell_type": "markdown",
   "metadata": {
    "papermill": {
     "duration": 0.06405,
     "end_time": "2021-01-27T09:47:35.409501",
     "exception": false,
     "start_time": "2021-01-27T09:47:35.345451",
     "status": "completed"
    },
    "tags": []
   },
   "source": [
    "### Old version\n",
    "\n",
    "The old version seem more likely to end up at local optima in this data set."
   ]
  },
  {
   "cell_type": "code",
   "execution_count": 18,
   "metadata": {
    "collapsed": true,
    "execution": {
     "iopub.execute_input": "2021-01-27T09:47:35.548972Z",
     "iopub.status.busy": "2021-01-27T09:47:35.547208Z",
     "iopub.status.idle": "2021-01-27T09:47:35.587008Z",
     "shell.execute_reply": "2021-01-27T09:47:35.588304Z"
    },
    "papermill": {
     "duration": 0.114738,
     "end_time": "2021-01-27T09:47:35.588890",
     "exception": false,
     "start_time": "2021-01-27T09:47:35.474152",
     "status": "completed"
    },
    "tags": []
   },
   "outputs": [],
   "source": [
    "from vireoSNP.utils.vireo_wrap_v02 import vireo_flock"
   ]
  },
  {
   "cell_type": "code",
   "execution_count": 19,
   "metadata": {
    "execution": {
     "iopub.execute_input": "2021-01-27T09:47:35.766072Z",
     "iopub.status.busy": "2021-01-27T09:47:35.763606Z",
     "iopub.status.idle": "2021-01-27T09:49:54.083842Z",
     "shell.execute_reply": "2021-01-27T09:49:54.081251Z"
    },
    "papermill": {
     "duration": 138.422268,
     "end_time": "2021-01-27T09:49:54.084689",
     "exception": false,
     "start_time": "2021-01-27T09:47:35.662421",
     "status": "completed"
    },
    "scrolled": true,
    "tags": []
   },
   "outputs": [
    {
     "name": "stdout",
     "output_type": "stream",
     "text": [
      "[vireo] warm-up: 50 random initializations for 3 clusters...\n",
      "[vireo] donor size with searching extra 0 donors:\n",
      "donor0\tdonor1\tdonor2\n",
      "2319\t2278\t2278\n",
      "[vireo] warm-up: lower bound ranges [-35769272.9, -35769272.9, -35767490.5]\n",
      "[vireo] main RUN with warm initials and tuned GT ...\n",
      "[vireo] main RUN: 37 iterations; lower bound -35767490.5\n",
      "[vireo] beta parameters for binomial rate:\n",
      "[[[0.10 0.10 0.10 0.10 0.10 0.10 0.10 3854.10 0.10 6508.10 16034.10\n",
      "   5781.10 15665.10 8625.10 0.10 8264.10 9799.10 9136.10 6549.10\n",
      "   10408.10 5593.10 10272.10 10158.10 6761.10 6203.10 6794.10 0.10\n",
      "   10223.10 14534.10 16161.10 7267.10 26958.10 7747.10 19813.10 10671.10\n",
      "   7694.10 11479.10 7342.10 9970.10 7213.10 6973.10 0.10 0.10 13593.10\n",
      "   7156.10 0.10 0.10 0.10 0.10 7024.10 7214.10 0.10 0.10 0.10 0.10 0.10\n",
      "   16394.10 0.10 16378.10 10870.10 11657.10 0.10 9774.10 5757.10 0.10\n",
      "   6628.10 0.10 17897.10 23150.10 13002.10 17530.10 7483.10 18982.10\n",
      "   13962.10 11706.10 0.10 4943.10 0.10 6487.10 0.10 0.10 0.10 5013.10\n",
      "   5323.10 0.10 0.10 0.10 0.10 0.10 21091.10 0.10 19702.10 7886.10\n",
      "   8248.10 0.10 11141.10 0.10 6082.10 0.10 0.10 0.10 0.10 0.10 6506.10\n",
      "   0.10 0.10 4243.10 0.10 12918.10 6356.10 19702.10 7268.10 0.10 0.10\n",
      "   0.10 0.10 0.10 0.10 5555.10 20822.10 11703.10 9042.10 13921.10\n",
      "   14854.10 19751.10 13049.10 7850.10 8020.10 5289.10 7839.10 7935.10\n",
      "   8464.10 7012.10 7410.10 0.10 13823.10 0.10 7003.10 0.10 0.10 0.10\n",
      "   0.10 0.10 0.10 0.10 0.10 0.10 0.10 0.10 6269.10 6555.10 8146.10\n",
      "   8428.10 10862.10 14505.10 16076.10 12154.10 6295.10 14046.63 16365.90\n",
      "   4947.10 20058.10 14336.10 5754.10 6328.10 5923.10 8982.10 7034.10\n",
      "   13328.10 10859.10 5537.10 6689.10 8705.10 6076.10 0.10 9741.10 0.10\n",
      "   0.10 0.10 0.10 0.10 0.10 0.10 0.10 0.10 15942.10 9071.10 10139.10\n",
      "   20781.10 21624.10 8257.10 9378.10 9471.10 0.10 0.10 0.10 0.10 0.10\n",
      "   0.10 0.10 0.10 0.10 0.10 0.10 0.10 0.10 0.10 0.10 17401.10 0.10]\n",
      "  [10.00 10.00 10.00 10.00 10.00 10.00 10.00 313246.00 10.00 498152.00\n",
      "   468086.00 457211.00 416083.00 431859.00 10.00 625130.00 594274.00\n",
      "   582778.00 541110.00 524583.00 529403.00 543741.00 525634.00 590840.00\n",
      "   571648.00 564298.00 10.00 561552.00 597529.00 604857.00 414154.00\n",
      "   667741.00 738334.00 669616.00 711571.00 681247.00 658663.00 649550.00\n",
      "   678965.00 639442.00 646852.00 10.00 10.00 699973.00 651565.00 10.00\n",
      "   10.00 10.00 10.00 554867.00 651107.00 10.00 10.00 10.00 10.00 10.00\n",
      "   549685.00 10.00 579698.00 533256.00 555435.00 10.00 562399.00\n",
      "   556880.00 10.00 622610.00 10.00 527609.00 553041.00 575712.00\n",
      "   583486.00 578507.00 582295.00 592657.00 600863.00 10.00 461666.00\n",
      "   10.00 589807.00 10.00 10.00 10.00 459776.00 479552.00 10.00 10.00\n",
      "   10.00 10.00 10.00 533122.00 10.00 667554.00 670415.00 649856.00 10.00\n",
      "   474729.00 10.00 541385.00 10.00 10.00 10.00 10.00 10.00 624961.00\n",
      "   10.00 10.00 403514.00 10.00 385066.00 399036.00 374639.00 400313.00\n",
      "   10.00 10.00 10.00 10.00 10.00 10.00 475804.00 457812.00 448626.00\n",
      "   451356.00 426043.00 426013.00 437991.00 489790.00 531110.00 489815.00\n",
      "   505387.00 557674.00 545559.00 567577.00 613965.00 609134.00 10.00\n",
      "   666935.00 10.00 675345.00 10.00 10.00 10.00 10.00 10.00 10.00 10.00\n",
      "   10.00 10.00 10.00 10.00 499999.00 612867.00 572257.00 580085.00\n",
      "   571468.00 585005.00 561939.00 628571.00 537252.00 291458.69 306805.12\n",
      "   480175.00 471547.00 480334.00 485383.00 481615.00 482706.00 489859.00\n",
      "   489300.00 476448.00 476132.00 528657.00 509768.00 508112.00 523606.00\n",
      "   10.00 567146.00 10.00 10.00 10.00 10.00 10.00 10.00 10.00 10.00 10.00\n",
      "   698829.00 663463.00 655558.00 624110.00 651561.00 663536.00 645626.00\n",
      "   648979.00 10.00 10.00 10.00 10.00 10.00 10.00 10.00 10.00 10.00 10.00\n",
      "   10.00 10.00 10.00 10.00 10.00 720248.00 10.00]]\n",
      "\n",
      " [[167514.00 198615.00 93768.00 88553.00 71412.00 73160.00 89043.00 5.00\n",
      "   121634.00 5.00 5.00 5.00 5.00 5.00 154946.00 5.00 5.00 5.00 5.00 5.00\n",
      "   5.00 5.00 5.00 5.00 5.00 5.00 172944.00 5.00 5.00 5.00 5.00 5.00 5.00\n",
      "   5.00 5.00 5.00 5.00 5.00 5.00 5.00 5.00 159109.00 206995.00 5.00 5.00\n",
      "   165242.00 142080.00 173491.00 188714.00 5.00 5.00 21134.00 163048.00\n",
      "   159808.00 163322.00 49663.00 5.00 78324.00 5.00 5.00 5.00 94553.00\n",
      "   5.00 5.00 62374.00 5.00 58246.00 5.00 5.00 5.00 5.00 5.00 5.00 5.00\n",
      "   5.00 144473.00 5.00 124049.00 5.00 115421.00 115145.00 157710.00 5.00\n",
      "   5.00 109916.00 143526.00 174496.00 223802.00 115793.00 5.00 140210.00\n",
      "   5.00 5.00 5.00 151359.00 5.00 166859.00 5.00 284992.00 162631.00\n",
      "   190248.00 163469.00 149712.00 5.00 332921.00 206491.00 5.00 100347.00\n",
      "   5.00 5.00 5.00 5.00 125116.00 238560.00 129091.00 222807.00 259259.00\n",
      "   39345.00 5.00 5.00 5.00 5.00 5.00 5.00 5.00 5.00 5.00 5.00 5.00 5.00\n",
      "   5.00 5.00 5.00 5.00 128508.00 5.00 183949.00 5.00 172593.00 180921.00\n",
      "   164944.00 174036.00 146071.00 174700.00 118800.00 131702.00 135338.00\n",
      "   133684.00 198358.00 5.00 5.00 5.00 5.00 5.00 5.00 5.00 5.00 5.00\n",
      "   10904.47 11948.20 5.00 5.00 5.00 5.00 5.00 5.00 5.00 5.00 5.00 5.00\n",
      "   5.00 5.00 5.00 5.00 118513.00 5.00 173082.00 111087.00 149062.00\n",
      "   163565.00 169269.00 95743.00 358111.00 149289.00 191630.00 5.00 5.00\n",
      "   5.00 5.00 5.00 5.00 5.00 5.00 175198.00 125533.00 196162.00 112960.00\n",
      "   123383.00 181971.00 87168.00 141071.00 132415.00 130313.00 170012.00\n",
      "   111235.00 138837.00 149760.00 317296.00 5.00 134652.00]\n",
      "  [542812.00 526672.00 273147.00 286894.00 252558.00 253151.00 267534.00\n",
      "   5.00 374489.00 5.00 5.00 5.00 5.00 5.00 232841.00 5.00 5.00 5.00 5.00\n",
      "   5.00 5.00 5.00 5.00 5.00 5.00 5.00 420966.00 5.00 5.00 5.00 5.00 5.00\n",
      "   5.00 5.00 5.00 5.00 5.00 5.00 5.00 5.00 5.00 498565.00 571061.00 5.00\n",
      "   5.00 461050.00 439282.00 462275.00 513815.00 5.00 5.00 27176.00\n",
      "   585845.00 596164.00 412656.00 417428.00 5.00 480031.00 5.00 5.00 5.00\n",
      "   429252.00 5.00 5.00 532405.00 5.00 521335.00 5.00 5.00 5.00 5.00 5.00\n",
      "   5.00 5.00 5.00 449754.00 5.00 374603.00 5.00 273252.00 351944.00\n",
      "   506833.00 5.00 5.00 420053.00 534018.00 474561.00 560400.00 361630.00\n",
      "   5.00 458632.00 5.00 5.00 5.00 473869.00 5.00 415988.00 5.00 289114.00\n",
      "   521001.00 511395.00 398576.00 547563.00 5.00 353171.00 477839.00 5.00\n",
      "   303486.00 5.00 5.00 5.00 5.00 466765.00 241193.00 336414.00 571775.00\n",
      "   264345.00 414327.00 5.00 5.00 5.00 5.00 5.00 5.00 5.00 5.00 5.00 5.00\n",
      "   5.00 5.00 5.00 5.00 5.00 5.00 473609.00 5.00 572714.00 5.00 451772.00\n",
      "   468572.00 524693.00 451847.00 464820.00 440731.00 324811.00 405564.00\n",
      "   468523.00 488345.00 490386.00 5.00 5.00 5.00 5.00 5.00 5.00 5.00 5.00\n",
      "   5.00 146092.31 154457.88 5.00 5.00 5.00 5.00 5.00 5.00 5.00 5.00 5.00\n",
      "   5.00 5.00 5.00 5.00 5.00 441544.00 5.00 424266.00 418429.00 404109.00\n",
      "   383381.00 436158.00 548358.00 365370.00 569926.00 522207.00 5.00 5.00\n",
      "   5.00 5.00 5.00 5.00 5.00 5.00 443581.00 454477.00 500885.00 394084.00\n",
      "   391461.00 444948.00 528670.00 576409.00 497454.00 433488.00 389146.00\n",
      "   383646.00 354964.00 386251.00 379436.00 5.00 483805.00]]]\n"
     ]
    }
   ],
   "source": [
    "# theta_prior = np.array([[0.01, 10], [0.4, 10], [5, 5]])\n",
    "theta_prior = np.array([[0.1, 10], [5, 5]])\n",
    "res = vireo_flock(AD, DP, n_donor=3, learn_GT=True,\n",
    "                  n_extra_donor=0, ASE_mode=True,\n",
    "                  theta_prior=theta_prior, learn_theta=True,\n",
    "                  n_init=50, check_doublet=False, random_seed=1)"
   ]
  },
  {
   "cell_type": "code",
   "execution_count": 20,
   "metadata": {
    "execution": {
     "iopub.execute_input": "2021-01-27T09:49:54.280970Z",
     "iopub.status.busy": "2021-01-27T09:49:54.276522Z",
     "iopub.status.idle": "2021-01-27T09:49:54.778116Z",
     "shell.execute_reply": "2021-01-27T09:49:54.779556Z"
    },
    "papermill": {
     "duration": 0.598315,
     "end_time": "2021-01-27T09:49:54.780363",
     "exception": false,
     "start_time": "2021-01-27T09:49:54.182048",
     "status": "completed"
    },
    "tags": []
   },
   "outputs": [
    {
     "data": {
      "image/png": "[encoded data removed]",
      "text/plain": [
       "<Figure size 432x288 with 1 Axes>"
      ]
     },
     "metadata": {
      "needs_background": "light"
     },
     "output_type": "display_data"
    }
   ],
   "source": [
    "plt.plot(res['LB_list'])\n",
    "plt.xlabel(\"Iterations\")\n",
    "plt.ylabel(\"ELBO in a single run\")\n",
    "plt.show()"
   ]
  },
  {
   "cell_type": "raw",
   "metadata": {
    "papermill": {
     "duration": 0.076386,
     "end_time": "2021-01-27T09:49:54.960989",
     "exception": false,
     "start_time": "2021-01-27T09:49:54.884603",
     "status": "completed"
    },
    "tags": []
   },
   "source": [
    "## If ASE_mode is False\n",
    "AF_mean = res['theta_shapes'][:, 0] / np.sum(res['theta_shapes'], axis=1)\n",
    "AF_SNPs = np.tensordot(res['GT_prob'], AF_mean, axes=[2, 0])"
   ]
  },
  {
   "cell_type": "code",
   "execution_count": 21,
   "metadata": {
    "collapsed": true,
    "execution": {
     "iopub.execute_input": "2021-01-27T09:49:55.136330Z",
     "iopub.status.busy": "2021-01-27T09:49:55.134458Z",
     "iopub.status.idle": "2021-01-27T09:49:55.139841Z",
     "shell.execute_reply": "2021-01-27T09:49:55.141153Z"
    },
    "papermill": {
     "duration": 0.104945,
     "end_time": "2021-01-27T09:49:55.141743",
     "exception": false,
     "start_time": "2021-01-27T09:49:55.036798",
     "status": "completed"
    },
    "tags": []
   },
   "outputs": [],
   "source": [
    "## If ASE_mode is True\n",
    "AF_mean = res['theta_shapes'][:, 0] / np.sum(res['theta_shapes'], axis=1)\n",
    "\n",
    "_new_shape = (AF_mean.shape[1], 1, AF_mean.shape[0])\n",
    "AF_SNPs = np.sum(res['GT_prob'] * AF_mean.transpose().reshape(_new_shape), axis=2)"
   ]
  },
  {
   "cell_type": "code",
   "execution_count": 22,
   "metadata": {
    "execution": {
     "iopub.execute_input": "2021-01-27T09:49:55.320744Z",
     "iopub.status.busy": "2021-01-27T09:49:55.318390Z",
     "iopub.status.idle": "2021-01-27T09:49:56.992938Z",
     "shell.execute_reply": "2021-01-27T09:49:56.994803Z"
    },
    "papermill": {
     "duration": 1.772975,
     "end_time": "2021-01-27T09:49:56.995531",
     "exception": false,
     "start_time": "2021-01-27T09:49:55.222556",
     "status": "completed"
    },
    "tags": []
   },
   "outputs": [
    {
     "data": {
      "image/png": "[encoded data removed]",
      "text/plain": [
       "<Figure size 700x400 with 4 Axes>"
      ]
     },
     "metadata": {
      "needs_background": "light"
     },
     "output_type": "display_data"
    }
   ],
   "source": [
    "import matplotlib.pyplot as plt\n",
    "from vireoSNP.plot.base_plot import heat_matrix\n",
    "\n",
    "fig = plt.figure(figsize=(7, 4), dpi=100)\n",
    "plt.subplot(1, 2, 1)\n",
    "im = heat_matrix(res['ID_prob'], cmap=\"Oranges\", alpha=0.8,\n",
    "                 display_value=False, row_sort=True)\n",
    "plt.colorbar(im, fraction=0.046, pad=0.04)\n",
    "plt.title(\"Assignment probability\")\n",
    "plt.ylabel(\"%d cells\" %(res['ID_prob'].shape[0]))\n",
    "plt.xlabel(\"Clone\")\n",
    "plt.xticks([0, 1, 2])\n",
    "\n",
    "plt.subplot(1, 2, 2)\n",
    "im = heat_matrix(AF_SNPs, cmap=\"Blues\", alpha=0.8, \n",
    "                 display_value=False, row_sort=True)\n",
    "plt.colorbar(im, fraction=0.046, pad=0.04)\n",
    "plt.title(\"Mean allelic ratio\")\n",
    "plt.xlabel(\"Clone\")\n",
    "plt.ylabel(\"%d SNPs\" %(AF_SNPs.shape[0]))\n",
    "plt.xticks([0, 1, 2])\n",
    "plt.xlim(-0.5, 2.5)\n",
    "\n",
    "plt.tight_layout()\n",
    "plt.show()"
   ]
  },
  {
   "cell_type": "markdown",
   "metadata": {
    "collapsed": true,
    "papermill": {
     "duration": 0.095705,
     "end_time": "2021-01-27T09:49:57.185888",
     "exception": false,
     "start_time": "2021-01-27T09:49:57.090183",
     "status": "completed"
    },
    "tags": []
   },
   "source": [
    "## Plot K=4"
   ]
  },
  {
   "cell_type": "code",
   "execution_count": 23,
   "metadata": {
    "execution": {
     "iopub.execute_input": "2021-01-27T09:49:57.380622Z",
     "iopub.status.busy": "2021-01-27T09:49:57.378682Z",
     "iopub.status.idle": "2021-01-27T10:03:29.201221Z",
     "shell.execute_reply": "2021-01-27T10:03:29.202678Z"
    },
    "papermill": {
     "duration": 811.919326,
     "end_time": "2021-01-27T10:03:29.203391",
     "exception": false,
     "start_time": "2021-01-27T09:49:57.284065",
     "status": "completed"
    },
    "tags": []
   },
   "outputs": [
    {
     "data": {
      "image/png": "[encoded data removed]",
      "text/plain": [
       "<Figure size 700x400 with 4 Axes>"
      ]
     },
     "metadata": {
      "needs_background": "light"
     },
     "output_type": "display_data"
    }
   ],
   "source": [
    "np.random.seed(1)\n",
    "\n",
    "n_initials = 50\n",
    "_models_all = []\n",
    "for i in range(n_initials):\n",
    "    _modelCA = Vireo(n_var=AD_shape[0], n_cell=AD_shape[1], n_donor=4, n_GT=2,\n",
    "                     fix_beta_sum=False, ASE_mode=True)\n",
    "    _modelCA.set_prior(beta_mu_prior=np.array([[0.01, 0.5]]))\n",
    "    _modelCA.fit(AD, DP, min_iter=20, verbose=False, delay_fit_theta=0)\n",
    "    _models_all.append(_modelCA)\n",
    "    \n",
    "## Choose the model giving highest ELBO\n",
    "\n",
    "_idx = np.argmax([x.ELBO_[-1] for x in _models_all])\n",
    "modelCA = _models_all[_idx]\n",
    "_losses = modelCA.ELBO_\n",
    "\n",
    "\n",
    "import matplotlib.pyplot as plt\n",
    "from vireoSNP.plot.base_plot import heat_matrix\n",
    "\n",
    "fig = plt.figure(figsize=(7, 4), dpi=100)\n",
    "plt.subplot(1, 2, 1)\n",
    "im = heat_matrix(modelCA.ID_prob, cmap=\"Oranges\", alpha=0.8,\n",
    "                 display_value=False, row_sort=True)\n",
    "plt.colorbar(im, fraction=0.046, pad=0.04)\n",
    "plt.title(\"Assignment probability\")\n",
    "plt.xlabel(\"Clone\")\n",
    "plt.ylabel(\"%d cells\" %(modelCA.n_cell))\n",
    "plt.xticks(range(modelCA.n_donor))\n",
    "\n",
    "\n",
    "plt.subplot(1, 2, 2)\n",
    "AF_SNPs = np.sum(modelCA.GT_prob * \n",
    "                 np.expand_dims(modelCA.beta_mu, 1), axis=2)\n",
    "im = heat_matrix(AF_SNPs, cmap=\"Blues\", alpha=0.8, \n",
    "                 display_value=False, row_sort=True)\n",
    "plt.colorbar(im, fraction=0.046, pad=0.04)\n",
    "plt.title(\"Mean allelic ratio\")\n",
    "plt.xlabel(\"Clone\")\n",
    "plt.ylabel(\"%d SNPs\" %(modelCA.n_var))\n",
    "plt.xticks(range(modelCA.n_donor))\n",
    "\n",
    "plt.tight_layout()\n",
    "plt.show()"
   ]
  }
 ],
 "metadata": {
  "celltoolbar": "Tags",
  "kernelspec": {
   "display_name": "Python 3",
   "language": "python",
   "name": "python3"
  },
  "language_info": {
   "codemirror_mode": {
    "name": "ipython",
    "version": 3
   },
   "file_extension": ".py",
   "mimetype": "text/x-python",
   "name": "python",
   "nbconvert_exporter": "python",
   "pygments_lexer": "ipython3",
   "version": "3.7.3"
  },
  "papermill": {
   "default_parameters": {},
   "duration": 5560.364131,
   "end_time": "2021-01-27T10:03:31.625455",
   "environment_variables": {},
   "exception": null,
   "input_path": "/data2/mito_lineage/src/vireo/vireoSNP_clones.ipynb",
   "output_path": "results/jan21_2021/chrM/P2_cellSNP_minC200_minAF0.01/lineage_chrM.ipynb",
   "parameters": {
    "AD_F": "data/jan21_2021/chrM/P2_cellSNP_minC200_minAF0.01/cellSNP.tag.AD.mtx",
    "DP_F": "data/jan21_2021/chrM/P2_cellSNP_minC200_minAF0.01/cellSNP.tag.DP.mtx"
   },
   "start_time": "2021-01-27T08:30:51.261324",
   "version": "2.2.0"
  }
 },
 "nbformat": 4,
 "nbformat_minor": 4
}
