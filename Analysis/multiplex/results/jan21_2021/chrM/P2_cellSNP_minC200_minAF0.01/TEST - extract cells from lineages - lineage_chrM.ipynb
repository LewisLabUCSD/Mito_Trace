{
 "cells": [
  {
   "cell_type": "code",
   "execution_count": 99,
   "metadata": {
    "ExecuteTime": {
     "end_time": "2021-01-29T04:20:24.210238Z",
     "start_time": "2021-01-29T04:20:24.203624Z"
    }
   },
   "outputs": [
    {
     "data": {
      "text/plain": [
       "'/data2/mito_lineage/Analysis/multiplex/results/jan21_2021/chrM/P2_cellSNP_minC200_minAF0.01'"
      ]
     },
     "execution_count": 99,
     "metadata": {},
     "output_type": "execute_result"
    }
   ],
   "source": [
    "pwd"
   ]
  },
  {
   "cell_type": "code",
   "execution_count": 1,
   "metadata": {
    "ExecuteTime": {
     "end_time": "2021-01-28T22:07:00.950039Z",
     "start_time": "2021-01-28T22:07:00.947300Z"
    },
    "execution": {
     "iopub.execute_input": "2021-01-27T08:30:53.605497Z",
     "iopub.status.busy": "2021-01-27T08:30:53.601260Z",
     "iopub.status.idle": "2021-01-27T08:30:53.611152Z",
     "shell.execute_reply": "2021-01-27T08:30:53.612706Z"
    },
    "papermill": {
     "duration": 0.083577,
     "end_time": "2021-01-27T08:30:53.613379",
     "exception": false,
     "start_time": "2021-01-27T08:30:53.529802",
     "status": "completed"
    },
    "tags": [
     "parameters"
    ]
   },
   "outputs": [],
   "source": [
    "# Parameters\n",
    "INDIR=\"\"\n",
    "N_DONORS=4\n",
    "OUTDIR=\"\""
   ]
  },
  {
   "cell_type": "code",
   "execution_count": null,
   "metadata": {},
   "outputs": [],
   "source": [
    "from os.path import join, exists, dirname"
   ]
  },
  {
   "cell_type": "code",
   "execution_count": null,
   "metadata": {},
   "outputs": [],
   "source": [
    "AD_F = join(INDIR, AD_F)\n",
    "DP_F = join(INDIR, DP_F)\n",
    "cell_inds_names = join(INDIR,\"cell_indices_*.txt\")"
   ]
  },
  {
   "cell_type": "markdown",
   "metadata": {
    "papermill": {
     "duration": 0.047745,
     "end_time": "2021-01-27T08:30:54.010679",
     "exception": false,
     "start_time": "2021-01-27T08:30:53.962934",
     "status": "completed"
    },
    "tags": []
   },
   "source": [
    "# Using vireo for clonal reconstruction - mitochondrial mutations"
   ]
  },
  {
   "cell_type": "markdown",
   "metadata": {
    "papermill": {
     "duration": 0.3043,
     "end_time": "2021-01-27T08:30:54.367961",
     "exception": false,
     "start_time": "2021-01-27T08:30:54.063661",
     "status": "completed"
    },
    "tags": []
   },
   "source": [
    "The mitochondrial mutations data set is extracted from [Ludwig et al, Cell, 2019](https://doi.org/10.1016/j.cell.2019.01.022), the 9 variants used here are from Supp Fig. 2F (and main Fig. 2F).\n",
    "\n",
    "For clonal reconstruction, we are using the core class `vireoSNP.Vireo` with multiple initializations"
   ]
  },
  {
   "cell_type": "code",
   "execution_count": 16,
   "metadata": {
    "ExecuteTime": {
     "end_time": "2021-01-28T22:37:12.293826Z",
     "start_time": "2021-01-28T22:37:12.288434Z"
    },
    "execution": {
     "iopub.execute_input": "2021-01-27T08:30:54.500687Z",
     "iopub.status.busy": "2021-01-27T08:30:54.498056Z",
     "iopub.status.idle": "2021-01-27T08:30:58.445143Z",
     "shell.execute_reply": "2021-01-27T08:30:58.446480Z"
    },
    "papermill": {
     "duration": 4.023636,
     "end_time": "2021-01-27T08:30:58.447108",
     "exception": false,
     "start_time": "2021-01-27T08:30:54.423472",
     "status": "completed"
    },
    "tags": []
   },
   "outputs": [
    {
     "name": "stdout",
     "output_type": "stream",
     "text": [
      "0.4.2\n"
     ]
    }
   ],
   "source": [
    "import vireoSNP\n",
    "import numpy as np\n",
    "from scipy import sparse\n",
    "from scipy.io import mmread\n",
    "import matplotlib.pyplot as plt\n",
    "\n",
    "print(vireoSNP.__version__)\n",
    "\n",
    "import pandas as pd\n"
   ]
  },
  {
   "cell_type": "code",
   "execution_count": 3,
   "metadata": {
    "ExecuteTime": {
     "end_time": "2021-01-28T22:07:03.639533Z",
     "start_time": "2021-01-28T22:07:03.636238Z"
    },
    "execution": {
     "iopub.execute_input": "2021-01-27T08:30:58.591556Z",
     "iopub.status.busy": "2021-01-27T08:30:58.589747Z",
     "iopub.status.idle": "2021-01-27T08:30:58.595785Z",
     "shell.execute_reply": "2021-01-27T08:30:58.597375Z"
    },
    "papermill": {
     "duration": 0.08872,
     "end_time": "2021-01-27T08:30:58.597995",
     "exception": false,
     "start_time": "2021-01-27T08:30:58.509275",
     "status": "completed"
    },
    "tags": []
   },
   "outputs": [],
   "source": [
    "np.set_printoptions(formatter={'float': lambda x: format(x, '.5f')})"
   ]
  },
  {
   "cell_type": "code",
   "execution_count": 4,
   "metadata": {
    "ExecuteTime": {
     "end_time": "2021-01-28T22:07:09.078804Z",
     "start_time": "2021-01-28T22:07:03.641815Z"
    },
    "execution": {
     "iopub.execute_input": "2021-01-27T08:30:58.733722Z",
     "iopub.status.busy": "2021-01-27T08:30:58.731514Z",
     "iopub.status.idle": "2021-01-27T08:31:11.479507Z",
     "shell.execute_reply": "2021-01-27T08:31:11.480844Z"
    },
    "papermill": {
     "duration": 12.824224,
     "end_time": "2021-01-27T08:31:11.481566",
     "exception": false,
     "start_time": "2021-01-27T08:30:58.657342",
     "status": "completed"
    },
    "tags": []
   },
   "outputs": [],
   "source": [
    "AD = mmread(AD_F).tocsc()\n",
    "DP = mmread(DP_F).tocsc()\n",
    "\n",
    "AD_shape = AD.todense().shape"
   ]
  },
  {
   "cell_type": "code",
   "execution_count": 21,
   "metadata": {
    "ExecuteTime": {
     "end_time": "2021-01-28T22:38:03.138139Z",
     "start_time": "2021-01-28T22:38:03.121996Z"
    },
    "scrolled": true
   },
   "outputs": [
    {
     "data": {
      "text/html": [
       "<div>\n",
       "<style scoped>\n",
       "    .dataframe tbody tr th:only-of-type {\n",
       "        vertical-align: middle;\n",
       "    }\n",
       "\n",
       "    .dataframe tbody tr th {\n",
       "        vertical-align: top;\n",
       "    }\n",
       "\n",
       "    .dataframe thead th {\n",
       "        text-align: right;\n",
       "    }\n",
       "</style>\n",
       "<table border=\"1\" class=\"dataframe\">\n",
       "  <thead>\n",
       "    <tr style=\"text-align: right;\">\n",
       "      <th></th>\n",
       "      <th>0</th>\n",
       "    </tr>\n",
       "  </thead>\n",
       "  <tbody>\n",
       "    <tr>\n",
       "      <th>0</th>\n",
       "      <td>AAACGAAAGAGGTCCA-1</td>\n",
       "    </tr>\n",
       "    <tr>\n",
       "      <th>1</th>\n",
       "      <td>AAACGAAAGCGATACG-1</td>\n",
       "    </tr>\n",
       "    <tr>\n",
       "      <th>2</th>\n",
       "      <td>AAACGAAAGTCGTGAG-1</td>\n",
       "    </tr>\n",
       "    <tr>\n",
       "      <th>3</th>\n",
       "      <td>AAACGAACAATAGTGA-1</td>\n",
       "    </tr>\n",
       "    <tr>\n",
       "      <th>4</th>\n",
       "      <td>AAACGAACACAATAAG-1</td>\n",
       "    </tr>\n",
       "    <tr>\n",
       "      <th>...</th>\n",
       "      <td>...</td>\n",
       "    </tr>\n",
       "    <tr>\n",
       "      <th>6870</th>\n",
       "      <td>TTTGTGTTCCAAACCA-1</td>\n",
       "    </tr>\n",
       "    <tr>\n",
       "      <th>6871</th>\n",
       "      <td>TTTGTGTTCCGATGCG-1</td>\n",
       "    </tr>\n",
       "    <tr>\n",
       "      <th>6872</th>\n",
       "      <td>TTTGTGTTCCTAGAGT-1</td>\n",
       "    </tr>\n",
       "    <tr>\n",
       "      <th>6873</th>\n",
       "      <td>TTTGTGTTCGCTCGGA-1</td>\n",
       "    </tr>\n",
       "    <tr>\n",
       "      <th>6874</th>\n",
       "      <td>TTTGTGTTCTTCCACG-1</td>\n",
       "    </tr>\n",
       "  </tbody>\n",
       "</table>\n",
       "<p>6875 rows × 1 columns</p>\n",
       "</div>"
      ],
      "text/plain": [
       "                       0\n",
       "0     AAACGAAAGAGGTCCA-1\n",
       "1     AAACGAAAGCGATACG-1\n",
       "2     AAACGAAAGTCGTGAG-1\n",
       "3     AAACGAACAATAGTGA-1\n",
       "4     AAACGAACACAATAAG-1\n",
       "...                  ...\n",
       "6870  TTTGTGTTCCAAACCA-1\n",
       "6871  TTTGTGTTCCGATGCG-1\n",
       "6872  TTTGTGTTCCTAGAGT-1\n",
       "6873  TTTGTGTTCGCTCGGA-1\n",
       "6874  TTTGTGTTCTTCCACG-1\n",
       "\n",
       "[6875 rows x 1 columns]"
      ]
     },
     "execution_count": 21,
     "metadata": {},
     "output_type": "execute_result"
    }
   ],
   "source": [
    "cells = pd.read_csv(join(dirname(AD_F), \"cellSNP.samples.tsv\"), header=None)\n",
    "cells"
   ]
  },
  {
   "cell_type": "markdown",
   "metadata": {
    "papermill": {
     "duration": 0.05643,
     "end_time": "2021-01-27T08:31:11.772577",
     "exception": false,
     "start_time": "2021-01-27T08:31:11.716147",
     "status": "completed"
    },
    "tags": []
   },
   "source": [
    "## New implementation in v0.3.0"
   ]
  },
  {
   "cell_type": "code",
   "execution_count": 6,
   "metadata": {
    "ExecuteTime": {
     "end_time": "2021-01-28T22:07:09.116692Z",
     "start_time": "2021-01-28T22:07:09.093811Z"
    },
    "execution": {
     "iopub.execute_input": "2021-01-27T08:31:11.927444Z",
     "iopub.status.busy": "2021-01-27T08:31:11.925454Z",
     "iopub.status.idle": "2021-01-27T08:31:11.936134Z",
     "shell.execute_reply": "2021-01-27T08:31:11.934100Z"
    },
    "papermill": {
     "duration": 0.098977,
     "end_time": "2021-01-27T08:31:11.936724",
     "exception": false,
     "start_time": "2021-01-27T08:31:11.837747",
     "status": "completed"
    },
    "tags": []
   },
   "outputs": [],
   "source": [
    "from vireoSNP import Vireo"
   ]
  },
  {
   "cell_type": "markdown",
   "metadata": {
    "papermill": {
     "duration": 0.069395,
     "end_time": "2021-01-27T08:31:12.077067",
     "exception": false,
     "start_time": "2021-01-27T08:31:12.007672",
     "status": "completed"
    },
    "tags": []
   },
   "source": [
    "Note, there are a few key parameters:\n",
    "\n",
    "* `n_donor`: it means number of clones here, but you need to determine yourself. You can choose the one with highest ELBO (see next section)\n",
    "* `n_GT`: number of different genotype. For somatic mutations, we could assume that there are only two, namely present or absent\n",
    "* `is_theta_ASE`: whether allelic ratio is variant specific. For mitochondrial mutations, we choose True as allelic ratio can different from variant to variant"
   ]
  },
  {
   "cell_type": "markdown",
   "metadata": {
    "papermill": {
     "duration": 0.065868,
     "end_time": "2021-01-27T08:31:12.212138",
     "exception": false,
     "start_time": "2021-01-27T08:31:12.146270",
     "status": "completed"
    },
    "tags": []
   },
   "source": [
    "### Multiple initialization is needed to avoid local optima"
   ]
  },
  {
   "cell_type": "code",
   "execution_count": 7,
   "metadata": {
    "ExecuteTime": {
     "end_time": "2021-01-28T22:12:38.542984Z",
     "start_time": "2021-01-28T22:07:09.118569Z"
    },
    "execution": {
     "iopub.execute_input": "2021-01-27T08:31:12.359110Z",
     "iopub.status.busy": "2021-01-27T08:31:12.357298Z",
     "iopub.status.idle": "2021-01-27T08:51:09.953111Z",
     "shell.execute_reply": "2021-01-27T08:51:09.950831Z"
    },
    "papermill": {
     "duration": 1197.674022,
     "end_time": "2021-01-27T08:51:09.953842",
     "exception": false,
     "start_time": "2021-01-27T08:31:12.279820",
     "status": "completed"
    },
    "tags": []
   },
   "outputs": [],
   "source": [
    "np.random.seed(1)\n",
    "\n",
    "n_initials = 50\n",
    "_models_all = []\n",
    "for i in range(n_initials):\n",
    "    _modelCA = Vireo(n_var=AD_shape[0], n_cell=AD_shape[1], n_donor=N_DONORS, n_GT=2,\n",
    "                     fix_beta_sum=False, ASE_mode=True)\n",
    "    _modelCA.set_prior(beta_mu_prior=np.array([[0.01, 0.5]]))\n",
    "    _modelCA.fit(AD, DP, min_iter=20, verbose=False, delay_fit_theta=0)\n",
    "    _models_all.append(_modelCA)"
   ]
  },
  {
   "cell_type": "code",
   "execution_count": 8,
   "metadata": {
    "ExecuteTime": {
     "end_time": "2021-01-28T22:12:38.554028Z",
     "start_time": "2021-01-28T22:12:38.548469Z"
    },
    "execution": {
     "iopub.execute_input": "2021-01-27T08:51:10.101455Z",
     "iopub.status.busy": "2021-01-27T08:51:10.099907Z",
     "iopub.status.idle": "2021-01-27T08:51:10.105073Z",
     "shell.execute_reply": "2021-01-27T08:51:10.106146Z"
    },
    "papermill": {
     "duration": 0.086994,
     "end_time": "2021-01-27T08:51:10.106753",
     "exception": false,
     "start_time": "2021-01-27T08:51:10.019759",
     "status": "completed"
    },
    "tags": []
   },
   "outputs": [],
   "source": [
    "## Choose the model giving highest ELBO\n",
    "\n",
    "_idx = np.argmax([x.ELBO_[-1] for x in _models_all])\n",
    "modelCA = _models_all[_idx]\n",
    "_losses = modelCA.ELBO_"
   ]
  },
  {
   "cell_type": "code",
   "execution_count": 9,
   "metadata": {
    "ExecuteTime": {
     "end_time": "2021-01-28T22:12:39.061166Z",
     "start_time": "2021-01-28T22:12:38.556029Z"
    },
    "execution": {
     "iopub.execute_input": "2021-01-27T08:51:10.241979Z",
     "iopub.status.busy": "2021-01-27T08:51:10.239881Z",
     "iopub.status.idle": "2021-01-27T08:51:11.603348Z",
     "shell.execute_reply": "2021-01-27T08:51:11.605053Z"
    },
    "papermill": {
     "duration": 1.441691,
     "end_time": "2021-01-27T08:51:11.606071",
     "exception": false,
     "start_time": "2021-01-27T08:51:10.164380",
     "status": "completed"
    },
    "tags": []
   },
   "outputs": [
    {
     "data": {
      "image/png": "[encoded data removed]",
      "text/plain": [
       "<Figure size 792x288 with 2 Axes>"
      ]
     },
     "metadata": {
      "needs_background": "light"
     },
     "output_type": "display_data"
    }
   ],
   "source": [
    "fig = plt.figure(figsize=(11, 4))\n",
    "plt.subplot(1, 2, 1)\n",
    "plt.hist([x.ELBO_[-1] for x in _models_all])\n",
    "plt.ylabel(\"Frequency\")\n",
    "plt.xlabel(\"ELBO with multiple initializations\")\n",
    "\n",
    "plt.subplot(1, 2, 2)\n",
    "plt.plot(_losses)\n",
    "plt.xlabel(\"Iterations\")\n",
    "plt.ylabel(\"ELBO in a single run\")\n",
    "\n",
    "plt.tight_layout()\n",
    "plt.show()"
   ]
  },
  {
   "cell_type": "code",
   "execution_count": 10,
   "metadata": {
    "ExecuteTime": {
     "end_time": "2021-01-28T22:12:39.072943Z",
     "start_time": "2021-01-28T22:12:39.064201Z"
    },
    "execution": {
     "iopub.execute_input": "2021-01-27T08:51:11.763004Z",
     "iopub.status.busy": "2021-01-27T08:51:11.760758Z",
     "iopub.status.idle": "2021-01-27T08:51:11.772757Z",
     "shell.execute_reply": "2021-01-27T08:51:11.774299Z"
    },
    "papermill": {
     "duration": 0.103104,
     "end_time": "2021-01-27T08:51:11.775106",
     "exception": false,
     "start_time": "2021-01-27T08:51:11.672002",
     "status": "completed"
    },
    "tags": []
   },
   "outputs": [
    {
     "name": "stdout",
     "output_type": "stream",
     "text": [
      "[[0.88238 0.01623]\n",
      " [0.03759 0.93691]\n",
      " [0.88731 0.02828]\n",
      " [0.87865 0.01607]\n",
      " [0.02757 0.91787]\n",
      " [0.92073 0.02836]\n",
      " [0.88780 0.01547]\n",
      " [0.22108 0.00146]\n",
      " [0.92582 0.03382]\n",
      " [0.01174 0.01730]\n",
      " [0.02980 0.03678]\n",
      " [0.01441 0.01076]\n",
      " [0.02409 0.04852]\n",
      " [0.01070 0.02840]\n",
      " [0.10864 0.67668]\n",
      " [0.01280 0.01380]\n",
      " [0.01568 0.01687]\n",
      " [0.01478 0.01618]\n",
      " [0.01192 0.01210]\n",
      " [0.01818 0.01994]\n",
      " [0.01020 0.01115]\n",
      " [0.01828 0.01898]\n",
      " [0.01881 0.01920]\n",
      " [0.01096 0.01166]\n",
      " [0.01060 0.01104]\n",
      " [0.01188 0.01200]\n",
      " [0.93966 0.03151]\n",
      " [0.01696 0.01867]\n",
      " [0.02247 0.02490]\n",
      " [0.02324 0.02699]\n",
      " [0.00150 0.09029]\n",
      " [0.03429 0.05260]\n",
      " [0.00882 0.01520]\n",
      " [0.04792 0.02245]\n",
      " [0.01155 0.02467]\n",
      " [0.01828 0.00892]\n",
      " [0.04551 0.00788]\n",
      " [0.00650 0.02643]\n",
      " [0.01073 0.02642]\n",
      " [0.00733 0.02303]\n",
      " [0.00809 0.01863]\n",
      " [0.88500 0.01609]\n",
      " [0.03802 0.93314]\n",
      " [0.01871 0.02017]\n",
      " [0.01070 0.01115]\n",
      " [0.93120 0.03619]\n",
      " [0.01679 0.88412]\n",
      " [0.93376 0.02965]\n",
      " [0.93160 0.03749]\n",
      " [0.01236 0.01334]\n",
      " [0.01083 0.01166]\n",
      " [0.43487 0.43908]\n",
      " [0.91967 0.02811]\n",
      " [0.91373 0.02737]\n",
      " [0.93453 0.03162]\n",
      " [0.10235 0.10792]\n",
      " [0.02785 0.02947]\n",
      " [0.13506 0.14234]\n",
      " [0.02593 0.02814]\n",
      " [0.01954 0.02048]\n",
      " [0.02033 0.02122]\n",
      " [0.17812 0.18324]\n",
      " [0.01670 0.01835]\n",
      " [0.01003 0.01055]\n",
      " [0.10208 0.10583]\n",
      " [0.01042 0.01076]\n",
      " [0.09960 0.10124]\n",
      " [0.03251 0.03321]\n",
      " [0.03877 0.04082]\n",
      " [0.02085 0.02256]\n",
      " [0.02872 0.02961]\n",
      " [0.01244 0.01304]\n",
      " [0.03030 0.03205]\n",
      " [0.02236 0.02363]\n",
      " [0.01875 0.01971]\n",
      " [0.88279 0.01695]\n",
      " [0.01058 0.01072]\n",
      " [0.88334 0.02153]\n",
      " [0.01085 0.01100]\n",
      " [0.94042 0.03434]\n",
      " [0.03410 0.92423]\n",
      " [0.01678 0.88090]\n",
      " [0.01067 0.01106]\n",
      " [0.00942 0.01145]\n",
      " [0.02784 0.90601]\n",
      " [0.02741 0.91582]\n",
      " [0.03830 0.93177]\n",
      " [0.03222 0.93494]\n",
      " [0.01696 0.88710]\n",
      " [0.03512 0.03911]\n",
      " [0.87943 0.01637]\n",
      " [0.01304 0.03419]\n",
      " [0.00577 0.01372]\n",
      " [0.00397 0.01557]\n",
      " [0.88161 0.01719]\n",
      " [0.02242 0.02352]\n",
      " [0.93690 0.03182]\n",
      " [0.01039 0.01145]\n",
      " [0.93568 0.04578]\n",
      " [0.01643 0.88024]\n",
      " [0.93403 0.03921]\n",
      " [0.93906 0.03246]\n",
      " [0.02691 0.91773]\n",
      " [0.00787 0.01138]\n",
      " [0.93474 0.04291]\n",
      " [0.94266 0.03423]\n",
      " [0.00131 0.01307]\n",
      " [0.92502 0.05497]\n",
      " [0.03198 0.03442]\n",
      " [0.01484 0.01892]\n",
      " [0.04707 0.06047]\n",
      " [0.01686 0.02154]\n",
      " [0.02696 0.91608]\n",
      " [0.95357 0.06309]\n",
      " [0.03064 0.93545]\n",
      " [0.03118 0.93430]\n",
      " [0.06176 0.95287]\n",
      " [0.08670 0.08681]\n",
      " [0.01151 0.01169]\n",
      " [0.04343 0.04367]\n",
      " [0.02540 0.02555]\n",
      " [0.01919 0.02025]\n",
      " [0.03151 0.03188]\n",
      " [0.03231 0.03412]\n",
      " [0.04276 0.04366]\n",
      " [0.02529 0.02681]\n",
      " [0.01452 0.01472]\n",
      " [0.01611 0.01621]\n",
      " [0.00915 0.01073]\n",
      " [0.01363 0.01423]\n",
      " [0.01249 0.01488]\n",
      " [0.01452 0.01496]\n",
      " [0.01127 0.01140]\n",
      " [0.01159 0.01246]\n",
      " [0.91329 0.02805]\n",
      " [0.06867 0.00195]\n",
      " [0.01587 0.88496]\n",
      " [0.00935 0.01063]\n",
      " [0.93244 0.04144]\n",
      " [0.03053 0.93450]\n",
      " [0.88203 0.01547]\n",
      " [0.03048 0.93727]\n",
      " [0.01639 0.87911]\n",
      " [0.03195 0.93704]\n",
      " [0.93318 0.03715]\n",
      " [0.01651 0.88732]\n",
      " [0.02920 0.92166]\n",
      " [0.91684 0.02761]\n",
      " [0.03168 0.93679]\n",
      " [0.01216 0.01323]\n",
      " [0.01037 0.01125]\n",
      " [0.01402 0.01414]\n",
      " [0.01412 0.01466]\n",
      " [0.01812 0.01896]\n",
      " [0.02397 0.02455]\n",
      " [0.02690 0.02886]\n",
      " [0.01849 0.01931]\n",
      " [0.01138 0.01208]\n",
      " [0.05353 0.05444]\n",
      " [0.05779 0.05795]\n",
      " [0.01017 0.01033]\n",
      " [0.04032 0.04139]\n",
      " [0.02885 0.02922]\n",
      " [0.01159 0.01200]\n",
      " [0.01284 0.01383]\n",
      " [0.01206 0.01231]\n",
      " [0.01780 0.01833]\n",
      " [0.01379 0.01457]\n",
      " [0.02715 0.02737]\n",
      " [0.02227 0.02243]\n",
      " [0.01032 0.01052]\n",
      " [0.01294 0.01306]\n",
      " [0.01675 0.01704]\n",
      " [0.01136 0.01170]\n",
      " [0.91264 0.02732]\n",
      " [0.01657 0.01795]\n",
      " [0.93724 0.03206]\n",
      " [0.91160 0.02490]\n",
      " [0.03781 0.93278]\n",
      " [0.93962 0.03250]\n",
      " [0.03018 0.93495]\n",
      " [0.00936 0.56087]\n",
      " [0.06111 0.95187]\n",
      " [0.02634 0.91479]\n",
      " [0.93373 0.03801]\n",
      " [0.02153 0.02266]\n",
      " [0.01348 0.01357]\n",
      " [0.01503 0.01587]\n",
      " [0.03110 0.03527]\n",
      " [0.03135 0.03424]\n",
      " [0.01184 0.01277]\n",
      " [0.01406 0.01493]\n",
      " [0.01337 0.01482]\n",
      " [0.03105 0.93686]\n",
      " [0.02680 0.91657]\n",
      " [0.93951 0.03020]\n",
      " [0.01515 0.87333]\n",
      " [0.92751 0.03123]\n",
      " [0.03195 0.94137]\n",
      " [0.86235 0.01845]\n",
      " [0.90383 0.02672]\n",
      " [0.91673 0.02666]\n",
      " [0.01458 0.87701]\n",
      " [0.94118 0.03426]\n",
      " [0.87342 0.01384]\n",
      " [0.93300 0.03061]\n",
      " [0.93484 0.03063]\n",
      " [0.92488 0.03952]\n",
      " [0.00358 0.08134]\n",
      " [0.91910 0.02924]]\n",
      "[[180110.99912 530305.00088]\n",
      " [534823.72734 190553.27266]\n",
      " [97097.99955 269907.00045]\n",
      " [95687.99953 279849.00047]\n",
      " [253861.09841 70198.90159]\n",
      " [71634.37697 254766.62303]\n",
      " [95773.99952 260893.00048]\n",
      " [15557.39376 301632.60624]\n",
      " [117571.62630 378641.37370]\n",
      " [395266.15756 109483.84244]\n",
      " [250981.35384 233228.64616]\n",
      " [225442.59038 237639.40962]\n",
      " [215428.85265 216409.14735]\n",
      " [218211.64611 222362.35389]\n",
      " [189251.41662 198625.58338]\n",
      " [452751.20250 180732.79750]\n",
      " [309749.90063 294413.09937]\n",
      " [298188.98358 293815.01642]\n",
      " [289570.26341 258178.73659]\n",
      " [133759.02619 401321.97381]\n",
      " [367590.90005 167495.09995]\n",
      " [315757.84307 238345.15693]\n",
      " [273423.93187 262458.06813]\n",
      " [260868.56876 336822.43124]\n",
      " [349785.76353 228155.23647]\n",
      " [294011.13603 277170.86397]\n",
      " [169847.82990 424152.17010]\n",
      " [250628.18294 321236.81706]\n",
      " [281933.89691 330219.10309]\n",
      " [153561.94492 467546.05508]\n",
      " [346510.27688 75000.72312]\n",
      " [522097.00067 172691.99933]\n",
      " [559226.00073 186944.99927]\n",
      " [171219.99930 518299.00070]\n",
      " [543092.00076 179239.99924]\n",
      " [168105.99923 520925.00077]\n",
      " [165299.99926 504932.00074]\n",
      " [501733.00076 155248.99924]\n",
      " [523022.00080 166002.99920]\n",
      " [487627.00056 159117.99944]\n",
      " [491992.00054 161922.99946]\n",
      " [170955.99938 486808.00062]\n",
      " [579928.47829 198217.52171]\n",
      " [531878.98333 181777.01667]\n",
      " [359308.09006 299502.90994]\n",
      " [159320.23684 467061.76316]\n",
      " [428872.00067 152579.99933]\n",
      " [171062.31112 464793.68888]\n",
      " [181627.88103 520991.11897]\n",
      " [454422.20685 107558.79315]\n",
      " [528273.94860 130137.05140]\n",
      " [23060.88390 25339.11610]\n",
      " [159289.04799 589693.95201]\n",
      " [156976.29034 599085.70966]\n",
      " [160735.16891 415332.83109]\n",
      " [132031.42099 335149.57901]\n",
      " [162610.12119 403558.87881]\n",
      " [157185.63514 401259.36486]\n",
      " [168134.95229 428031.04771]\n",
      " [265930.59340 278285.40660]\n",
      " [397464.36496 169717.63504]\n",
      " [278344.57881 245550.42119]\n",
      " [424133.30103 148129.69897]\n",
      " [299650.36978 263076.63022]\n",
      " [150081.35017 444787.64983]\n",
      " [351577.20791 277750.79209]\n",
      " [254603.22274 325067.77726]\n",
      " [280656.17744 264939.82256]\n",
      " [170193.95456 406087.04544]\n",
      " [149098.55451 439705.44549]\n",
      " [270697.03378 330408.96622]\n",
      " [227163.69542 358916.30458]\n",
      " [153655.41825 447711.58175]\n",
      " [275836.51056 330872.48944]\n",
      " [359101.09551 253557.90449]\n",
      " [155245.99926 439071.00074]\n",
      " [248665.82984 218033.17016]\n",
      " [131505.99943 367236.00057]\n",
      " [312172.54961 284211.45039]\n",
      " [112673.50540 276089.49460]\n",
      " [355695.19970 111483.80030]\n",
      " [495008.00073 169624.99927]\n",
      " [260472.87785 204406.12215]\n",
      " [101237.63909 383727.36091]\n",
      " [421674.88521 108384.11479]\n",
      " [536962.11820 140671.88180]\n",
      " [481647.81938 167499.18062]\n",
      " [564346.73372 219945.26628]\n",
      " [353721.00061 123791.99939]\n",
      " [140519.00268 413783.99732]\n",
      " [151118.99889 447813.00111]\n",
      " [178442.99906 508903.00094]\n",
      " [175930.99912 502460.00088]\n",
      " [170469.99914 487724.00086]\n",
      " [162688.99922 462629.00078]\n",
      " [239415.71614 246544.28386]\n",
      " [163886.58443 419050.41557]\n",
      " [152464.09869 395092.90131]\n",
      " [290734.83572 283461.16428]\n",
      " [508431.00081 175290.99919]\n",
      " [181885.47907 519847.52093]\n",
      " [160204.50339 401930.49661]\n",
      " [550345.66042 147019.33958]\n",
      " [186060.69808 445496.30192]\n",
      " [340308.14689 345873.85311]\n",
      " [201539.22494 482880.77506]\n",
      " [90388.53086 317458.46914]\n",
      " [89839.57235 314083.42765]\n",
      " [310644.68097 87429.31903]\n",
      " [316240.99378 89241.00622]\n",
      " [307859.42767 86571.57233]\n",
      " [317823.99378 89847.00622]\n",
      " [469181.35452 122789.64548]\n",
      " [233927.38067 245915.61933]\n",
      " [338667.66714 126927.33286]\n",
      " [575379.63745 219292.36255]\n",
      " [269027.82923 254666.17077]\n",
      " [227718.67446 226043.32554]\n",
      " [261851.45249 219597.54751]\n",
      " [244662.11966 234061.88034]\n",
      " [235325.42215 225093.57785]\n",
      " [244173.68204 216314.31796]\n",
      " [223057.29472 216996.70528]\n",
      " [92344.76922 348612.23078]\n",
      " [236080.61902 221751.38098]\n",
      " [269403.74619 233525.25381]\n",
      " [288884.60872 250165.39128]\n",
      " [255539.90497 242385.09503]\n",
      " [106223.73753 404542.26247]\n",
      " [310159.89987 255443.10013]\n",
      " [116366.18772 437217.81228]\n",
      " [297399.91808 278731.08192]\n",
      " [322594.52376 298472.47624]\n",
      " [282569.67702 334064.32298]\n",
      " [126105.75170 476101.24830]\n",
      " [187670.49784 493177.50216]\n",
      " [558888.00065 197864.99935]\n",
      " [177574.83807 504863.16193]\n",
      " [164688.54802 459766.45198]\n",
      " [471359.06159 178223.93841]\n",
      " [178055.99912 511671.00088]\n",
      " [455065.55231 170907.44769]\n",
      " [453248.00058 157732.99942]\n",
      " [444207.73716 171313.26284]\n",
      " [114212.68539 329488.31461]\n",
      " [396279.00073 141076.99927]\n",
      " [472040.65059 131910.34941]\n",
      " [131042.71024 491076.28976]\n",
      " [493770.10641 195063.89359]\n",
      " [377740.09417 128617.90583]\n",
      " [441799.50052 177712.49948]\n",
      " [297188.03014 283304.96986]\n",
      " [326762.62348 261840.37652]\n",
      " [183787.52455 398632.47545]\n",
      " [330436.16043 269163.83957]\n",
      " [296978.33962 281126.66038]\n",
      " [235500.60116 405314.39884]\n",
      " [350432.60415 193204.39585]\n",
      " [232808.83052 229773.16948]\n",
      " [246454.85085 243202.14915]\n",
      " [258728.66641 226483.33359]\n",
      " [249458.86696 242236.13304]\n",
      " [253316.92201 241443.07799]\n",
      " [280448.38878 210778.61122]\n",
      " [399994.36507 88038.63493]\n",
      " [268781.40302 219937.59698]\n",
      " [261534.41532 237396.58468]\n",
      " [224114.98247 272309.01753]\n",
      " [248707.86433 241158.13567]\n",
      " [249483.17538 237597.82462]\n",
      " [284811.94083 249472.05917]\n",
      " [268509.93481 248037.06519]\n",
      " [271867.56085 245039.43915]\n",
      " [288734.65984 241037.34016]\n",
      " [116600.04784 443546.95216]\n",
      " [429027.57173 147949.42827]\n",
      " [170076.40913 427361.59087]\n",
      " [110434.04559 419171.95441]\n",
      " [410055.84233 143205.15767]\n",
      " [160735.33620 386300.66380]\n",
      " [438606.23354 166910.76646]\n",
      " [481484.00066 162706.99934]\n",
      " [371160.47490 352410.52510]\n",
      " [572572.38594 146732.61406]\n",
      " [183668.29865 530258.70135]\n",
      " [206181.00536 508679.99464]\n",
      " [343144.30777 329479.69223]\n",
      " [477857.41188 187929.58812]\n",
      " [465998.89102 178982.10898]\n",
      " [486253.76900 187021.23100]\n",
      " [317437.69698 354445.30302]\n",
      " [430737.18328 224356.81672]\n",
      " [182791.26282 475748.73718]\n",
      " [446646.66596 172222.33404]\n",
      " [456462.69980 123637.30020]\n",
      " [192593.89589 504543.10411]\n",
      " [384433.00075 122700.99925]\n",
      " [119738.97466 395195.02534]\n",
      " [448917.36224 178091.63776]\n",
      " [89850.79388 526077.20612]\n",
      " [138998.61376 578571.38624]\n",
      " [129920.49710 500038.50290]\n",
      " [422298.00066 141592.99934]\n",
      " [166358.60938 392889.39062]\n",
      " [121458.99942 373512.00058]\n",
      " [137125.55680 356765.44320]\n",
      " [147489.77759 388611.22241]\n",
      " [327300.41926 369521.58074]\n",
      " [547567.37920 190171.62080]\n",
      " [131014.81933 487532.18067]]\n"
     ]
    }
   ],
   "source": [
    "print(modelCA.beta_mu),\n",
    "print(modelCA.beta_sum)"
   ]
  },
  {
   "cell_type": "code",
   "execution_count": 11,
   "metadata": {
    "ExecuteTime": {
     "end_time": "2021-01-28T22:12:39.708640Z",
     "start_time": "2021-01-28T22:12:39.075019Z"
    },
    "execution": {
     "iopub.execute_input": "2021-01-27T08:51:11.936668Z",
     "iopub.status.busy": "2021-01-27T08:51:11.934790Z",
     "iopub.status.idle": "2021-01-27T08:51:13.553215Z",
     "shell.execute_reply": "2021-01-27T08:51:13.556407Z"
    },
    "papermill": {
     "duration": 1.71261,
     "end_time": "2021-01-27T08:51:13.557090",
     "exception": false,
     "start_time": "2021-01-27T08:51:11.844480",
     "status": "completed"
    },
    "scrolled": true,
    "tags": []
   },
   "outputs": [
    {
     "data": {
      "image/png": "[encoded data removed]",
      "text/plain": [
       "<Figure size 700x400 with 4 Axes>"
      ]
     },
     "metadata": {
      "needs_background": "light"
     },
     "output_type": "display_data"
    }
   ],
   "source": [
    "import matplotlib.pyplot as plt\n",
    "from vireoSNP.plot.base_plot import heat_matrix\n",
    "\n",
    "fig = plt.figure(figsize=(7, 4), dpi=100)\n",
    "plt.subplot(1, 2, 1)\n",
    "im = heat_matrix(modelCA.ID_prob, cmap=\"Oranges\", alpha=0.8,\n",
    "                 display_value=False, row_sort=True)\n",
    "plt.colorbar(im, fraction=0.046, pad=0.04)\n",
    "plt.title(\"Assignment probability\")\n",
    "plt.xlabel(\"Clone\")\n",
    "plt.ylabel(\"%d cells\" %(modelCA.n_cell))\n",
    "plt.xticks(range(modelCA.n_donor))\n",
    "\n",
    "\n",
    "plt.subplot(1, 2, 2)\n",
    "AF_SNPs = np.sum(modelCA.GT_prob * \n",
    "                 np.expand_dims(modelCA.beta_mu, 1), axis=2)\n",
    "im = heat_matrix(AF_SNPs, cmap=\"Blues\", alpha=0.8, \n",
    "                 display_value=False, row_sort=True)\n",
    "plt.colorbar(im, fraction=0.046, pad=0.04)\n",
    "plt.title(\"Mean allelic ratio\")\n",
    "plt.xlabel(\"Clone\")\n",
    "plt.ylabel(\"%d SNPs\" %(modelCA.n_var))\n",
    "plt.xticks(range(modelCA.n_donor))\n",
    "\n",
    "plt.tight_layout()\n",
    "plt.show()"
   ]
  },
  {
   "cell_type": "markdown",
   "metadata": {},
   "source": [
    "## Add in cell IDs"
   ]
  },
  {
   "cell_type": "code",
   "execution_count": null,
   "metadata": {},
   "outputs": [],
   "source": [
    "\n",
    "in_cell_f = glob(cell_inds_names)\n",
    "print('cell inds', in_cell_f)\n",
    "in_cell_names = []\n",
    "cell_map = {}\n",
    "for curr_cell_f in in_cell_f:\n",
    "    print(curr_cell_f)\n",
    "    with open(curr_cell_f, \"r\") as f:\n",
    "        count = 0\n",
    "        lines = []\n",
    "        for line in f: \n",
    "            if count == 0:\n",
    "                curr_f = line.strip()\n",
    "            else:\n",
    "                lines.append(line.strip().split(','))\n",
    "            count += 1\n",
    "    curr_df = pd.DataFrame(lines[1:], columns=lines[0])\n",
    "    cell_map[curr_f] = curr_df[\"new index\"].astype(int).values\n",
    "    in_cell_names.append(curr_f)\n",
    "    \n",
    "max_v = 0\n",
    "for i in in_cell_names:\n",
    "    max_v = max(max_v, max(cell_map[i]))\n",
    "    \n",
    "# create index map:\n",
    "cell_ind_map = {}\n",
    "count = 0\n",
    "for i in in_cell_names: \n",
    "    cell_ind_map[i] = count\n",
    "    count += 1\n",
    "\n",
    "cell_inds = -1*np.ones(max_v)\n",
    "for i in in_cell_names:\n",
    "    cell_inds[cell_map[i]-1] = cell_ind_map[i] #cell_map[i]\n",
    "\n",
    "\n",
    "colors = {0:\"blue\", 1:\"red\"}\n",
    "cell_colors = [colors[x] for x in cell_inds]\n",
    "cell_colors = pd.Series(cell_colors, name=\"sample ID\")\n",
    "g = sns.clustermap(data=pd.DataFrame(modelCA.ID_prob, columns=[f\"AF {x+1}\" for x in np.arange(modelCA.ID_prob.shape[1])]), row_cluster=False, col_cluster=False,\n",
    "              row_colors=cell_colors)\n",
    "#plt.ylabel(\"Cell\")\n",
    "#plt.xlabel(\"Predicted Genotype Cluster\")\n",
    "g.fig.suptitle(\"Probability of being in cluster\\nColors on left is sample ID\")\n",
    "g.ax_heatmap.set_xlabel(\"Predicted Genotype Cluster\")\n",
    "g.ax_heatmap.set_ylabel(\"Cell\")\n",
    "plt.savefig(join(OUTDIR, \"clusters_with_sampleIDs.png\"))\n",
    "#plt.savefig(\"pseudo_multiplex_with_cellIDs.png\")"
   ]
  },
  {
   "cell_type": "markdown",
   "metadata": {},
   "source": [
    "## Save confident cell IDs in a line-separated text file for each cluster. Additionally, save AD and DP files. If mixed samples, create a sample id file as well for all the barcodes combined. "
   ]
  },
  {
   "cell_type": "code",
   "execution_count": 53,
   "metadata": {
    "ExecuteTime": {
     "end_time": "2021-01-28T22:54:43.118920Z",
     "start_time": "2021-01-28T22:54:42.769222Z"
    },
    "scrolled": true
   },
   "outputs": [
    {
     "name": "stdout",
     "output_type": "stream",
     "text": [
      "Cluster 0: 1574 cells \n",
      "(330540, 3)\n",
      "(330540, 3)\n",
      "Cluster 1: 1957 cells \n",
      "(410970, 3)\n",
      "(410970, 3)\n",
      "Cluster 2: 1686 cells \n",
      "(354060, 3)\n",
      "(354060, 3)\n",
      "Cluster 3: 1656 cells \n",
      "(347760, 3)\n",
      "(347760, 3)\n"
     ]
    },
    {
     "data": {
      "text/plain": [
       "{0: array(['AAACGAAAGCGATACG-1', 'AAACGAAGTACCAAGG-1', 'AAACTCGCACAAGGGT-1',\n",
       "        ..., 'TTTGTGTTCACTACCC-1', 'TTTGTGTTCCAAACCA-1',\n",
       "        'TTTGTGTTCCGATGCG-1'], dtype=object),\n",
       " 1: array(['AAACGAAAGTCGTGAG-1', 'AAACGAACACAATAAG-1', 'AAACGAAGTAAGTCTC-1',\n",
       "        ..., 'TTTGTGTAGACCGCAA-1', 'TTTGTGTTCCTAGAGT-1',\n",
       "        'TTTGTGTTCGCTCGGA-1'], dtype=object),\n",
       " 2: array(['AAACGAACACTGATAC-1', 'AAACGAACAGTAACCT-1', 'AAACGAAGTCCCGTGA-1',\n",
       "        ..., 'TTTGGTTTCCTGACCT-1', 'TTTGTGTAGACTTCCA-1',\n",
       "        'TTTGTGTTCTTCCACG-1'], dtype=object),\n",
       " 3: array(['AAACGAAAGAGGTCCA-1', 'AAACGAACAATAGTGA-1', 'AAACGAACATCGTGAT-1',\n",
       "        ..., 'TTTGGTTCAGTGCGTC-1', 'TTTGGTTCATGGATGG-1',\n",
       "        'TTTGGTTTCGCGGCAT-1'], dtype=object)}"
      ]
     },
     "execution_count": 53,
     "metadata": {},
     "output_type": "execute_result"
    }
   ],
   "source": [
    "prob_thresh=0.9\n",
    "cell_clusters = dict()\n",
    "cell_clusters_names = dict()\n",
    "for n in range(N_DONORS):\n",
    "    cell_clusters[n] = np.flatnonzero((modelCA.ID_prob[:,n]>prob_thresh))\n",
    "    cell_clusters_names[n] = cells.loc[cell_clusters[n],0].values\n",
    "    # Change the index to the sparse matrix index\n",
    "    curr_ad = pd.DataFrame(AD.todense()[:, cell_clusters[n]]).reset_index().melt(id_vars='index', var_name=\"Position\", value_name=\"Count\").rename({\"index\":\"Cell\"}, axis=1)\n",
    "    curr_dp = pd.DataFrame(DP.todense()[:, cell_clusters[n]]).reset_index().melt(id_vars='index', var_name=\"Position\", value_name=\"Count\").rename({\"index\":\"Cell\"}, axis=1)\n",
    "    print(f\"Cluster {n}: {len(cell_clusters[n])} cells \")\n",
    "    print(curr_dp.shape)\n",
    "    print(curr_ad.shape)\n",
    "    \n",
    "    cell_clusters[n] += 1\n",
    "    # Get their IDs \n",
    "    if OUTDIR != \"\" and exists(OUTDIR):\n",
    "        curr_out = join(OUTDIR, f\"cluster{n}_cells.txt\")\n",
    "        curr_str = \"\\n\".join(cell_clusters_names[n].astype(str))\n",
    "        with open(curr_out,\"w\") as f:\n",
    "            f.write(curr_str)\n",
    "        \n",
    "        curr_ad_f = join(OUTDIR, f\"cluster{n}.AD.txt\")\n",
    "        curr_dp_f = join(OUTDIR, f\"cluster{n}.DP.txt\")\n",
    "        #curr_ad.to_csv(join(OUTDIR, f\"cluster{n}.AD.txt\"), sep=\"\\t\")\n",
    "        #curr_dp.to_csv(join(OUTDIR, f\"cluster{n}.DP.txt\"), sep=\"\\t\")\n",
    "        \n",
    "        header = \"%%MatrixMarket matrix coordinate integer general\\n%\\n\"\n",
    "\n",
    "        if os.path.exists(curr_ad_f):\n",
    "            os.remove(curr_ad_f)\n",
    "        if os.path.exists(curr_dp_f):\n",
    "            os.remove(curr_dp_f)\n",
    "\n",
    "        with open(curr_ad_f, 'a') as file:\n",
    "            file.write(header)\n",
    "            curr_ad = pd.concat((pd.DataFrame(\n",
    "                {\"Position\": curr_ad[\"Position\"].max(),\n",
    "                 \"Cell\": curr_ad[\"Cell\"].max(),\n",
    "                 \"Count\": curr_ad.shape[0]}, index=[\"Meta\"]),\n",
    "                                 curr_ad.sort_values([\"Position\", \"Cell\"])))\n",
    "            curr_ad.to_csv(file, sep=\"\\t\", header=False, index=False)\n",
    "\n",
    "        with open(curr_dp_f, 'a') as file:\n",
    "            file.write(header)\n",
    "            curr_dp = pd.concat((pd.DataFrame(\n",
    "                {\"Position\": curr_dp[\"Position\"].max(),\n",
    "                 \"Cell\": curr_dp[\"Cell\"].max(),\n",
    "                 \"Count\": curr_dp.shape[0]}, index=[\"Meta\"]),\n",
    "                                 curr_dp.sort_values([\"Position\", \"Cell\"])))\n",
    "            curr_dp.to_csv(file, sep=\"\\t\", header=False, index=False)\n",
    "\n",
    "if OUTDIR!=\"\":\n",
    "    pd.DataFrame(AF_SNPs, columns = [f\"Cluster {x}\" for x in range(AF_SNPs.shape[1])]).to_csv(join(OUTDIR, \"AF_SNPs.csv\"), index=False)\n",
    "cell_clusters_names"
   ]
  },
  {
   "cell_type": "markdown",
   "metadata": {},
   "source": [
    "## Run each lineage separately"
   ]
  },
  {
   "cell_type": "code",
   "execution_count": null,
   "metadata": {},
   "outputs": [],
   "source": [
    "for n in range(N_DONORS):\n",
    "    curr_ad_f = join(OUTDIR, f\"cluster{n}.AD.txt\")\n",
    "    curr_dp_f = join(OUTDIR, f\"cluster{n}.DP.txt\")\n",
    "    curr_ad = mmread(AD_F).tocsc()\n",
    "    curr_dp = mmread(DP_F).tocsc()\n",
    "    run_elbo(curr_ad, curr_dp, join(OUTDIR, f\"cluster{n}_lineage_elbow.png\") )\n",
    "\n",
    "### Run lineage tracing for each cluster individually\n",
    "\n",
    "def run_elbo(ad, dp, out_f=\"\", n_clone_list=None):\n",
    "    n_initials = 50\n",
    "    if n_clone_list is None:\n",
    "        n_clone_list = np.arange(1,7)\n",
    "    _ELBO_mat = [] \n",
    "    for k in n_clone_list:\n",
    "        _elbo_temp = []\n",
    "        for i in range(50):\n",
    "            _modelCA = Vireo(n_var=ad.todense().shape[0], n_cell=ad.todense().shape[1], n_donor=k, n_GT=2,\n",
    "                             fix_beta_sum=False, ASE_mode=True)\n",
    "            _modelCA.set_prior(beta_mu_prior=np.array([[0.01, 0.5]]))\n",
    "            _modelCA.fit(ad, dp, min_iter=20, verbose=False)\n",
    "            _elbo_temp.append(_modelCA.ELBO_[-1])\n",
    "        _ELBO_mat.append(_elbo_temp)\n",
    "    \n",
    "    plt.boxplot(_ELBO_mat)\n",
    "    plt.plot(np.arange(1,len(n_clone_list)+1), np.max(_ELBO_mat, axis=1))\n",
    "    #plt.xticks(n_clone_list)\n",
    "    plt.gca().set_xticklabels(n_clone_list)\n",
    "    plt.ylabel(\"ELBO\")\n",
    "    plt.xlabel(\"n_clones\")\n",
    "    plt.show()\n",
    "    if out_f != \"\":\n",
    "        plt.savefig(out_f)\n",
    "    return _ELBO_mat, n_clone_list"
   ]
  },
  {
   "cell_type": "code",
   "execution_count": null,
   "metadata": {
    "ExecuteTime": {
     "end_time": "2021-01-28T22:12:39.904791Z",
     "start_time": "2021-01-28T22:07:00.951Z"
    },
    "execution": {
     "iopub.execute_input": "2021-01-27T08:51:13.704642Z",
     "iopub.status.busy": "2021-01-27T08:51:13.702684Z",
     "iopub.status.idle": "2021-01-27T08:51:14.000904Z",
     "shell.execute_reply": "2021-01-27T08:51:14.002353Z"
    },
    "papermill": {
     "duration": 0.379043,
     "end_time": "2021-01-27T08:51:14.003157",
     "exception": false,
     "start_time": "2021-01-27T08:51:13.624114",
     "status": "completed"
    },
    "scrolled": true,
    "tags": []
   },
   "outputs": [],
   "source": [
    "np.sum(modelCA.predict_doublet(AD, DP, update_GT=False, update_ID=False)[0])"
   ]
  },
  {
   "cell_type": "markdown",
   "metadata": {
    "papermill": {
     "duration": 0.074389,
     "end_time": "2021-01-27T08:51:14.322374",
     "exception": false,
     "start_time": "2021-01-27T08:51:14.247985",
     "status": "completed"
    },
    "tags": []
   },
   "source": [
    "### See if the N_DONOR satisfies the elbow loss rule\n",
    "We can choose the number of clones where ELBO stops increasing. Here, the best number of clone is 3.\n",
    "\n",
    "Note, for a certain number of clone, e.g., n_clone=3, the ELBO may not the same for multiple initializations. This is becaused VI can only guarantee a local optima, so please choose the highest ELBO for each `n_clone` to represent its \"global\" optima."
   ]
  },
  {
   "cell_type": "code",
   "execution_count": 72,
   "metadata": {
    "ExecuteTime": {
     "end_time": "2021-01-29T02:01:11.533373Z",
     "start_time": "2021-01-29T01:33:43.474169Z"
    },
    "execution": {
     "iopub.execute_input": "2021-01-27T08:51:14.487078Z",
     "iopub.status.busy": "2021-01-27T08:51:14.485293Z",
     "iopub.status.idle": "2021-01-27T09:47:34.005859Z",
     "shell.execute_reply": "2021-01-27T09:47:34.007674Z"
    },
    "papermill": {
     "duration": 3379.609781,
     "end_time": "2021-01-27T09:47:34.008579",
     "exception": false,
     "start_time": "2021-01-27T08:51:14.398798",
     "status": "completed"
    },
    "scrolled": true,
    "tags": []
   },
   "outputs": [],
   "source": [
    "n_initials = 50\n",
    "n_clone_list = np.arange(N_DONORS-2, N_DONORS+3)\n",
    "\n",
    "_ELBO_mat = [] \n",
    "for k in n_clone_list:\n",
    "    _elbo_temp = []\n",
    "    for i in range(50):\n",
    "        _modelCA = Vireo(n_var=AD_shape[0], n_cell=AD_shape[1], n_donor=k, n_GT=2,\n",
    "                         fix_beta_sum=False, ASE_mode=True)\n",
    "        _modelCA.set_prior(beta_mu_prior=np.array([[0.01, 0.5]]))\n",
    "        _modelCA.fit(AD, DP, min_iter=20, verbose=False)\n",
    "        _elbo_temp.append(_modelCA.ELBO_[-1])\n",
    "    _ELBO_mat.append(_elbo_temp)"
   ]
  },
  {
   "cell_type": "code",
   "execution_count": 98,
   "metadata": {
    "ExecuteTime": {
     "end_time": "2021-01-29T03:32:49.536273Z",
     "start_time": "2021-01-29T03:32:49.302567Z"
    },
    "execution": {
     "iopub.execute_input": "2021-01-27T09:47:34.187179Z",
     "iopub.status.busy": "2021-01-27T09:47:34.170715Z",
     "iopub.status.idle": "2021-01-27T09:47:34.851545Z",
     "shell.execute_reply": "2021-01-27T09:47:34.853040Z"
    },
    "papermill": {
     "duration": 0.775495,
     "end_time": "2021-01-27T09:47:34.853956",
     "exception": false,
     "start_time": "2021-01-27T09:47:34.078461",
     "status": "completed"
    },
    "scrolled": false,
    "tags": []
   },
   "outputs": [
    {
     "data": {
      "image/png": "[encoded data removed]",
      "text/plain": [
       "<Figure size 432x288 with 1 Axes>"
      ]
     },
     "metadata": {
      "needs_background": "light"
     },
     "output_type": "display_data"
    }
   ],
   "source": [
    "plt.boxplot(_ELBO_mat)\n",
    "plt.plot(np.arange(1,len(n_clone_list)+1), np.max(_ELBO_mat, axis=1))\n",
    "#plt.xticks(n_clone_list)\n",
    "plt.gca().set_xticklabels(n_clone_list)\n",
    "plt.ylabel(\"ELBO\")\n",
    "plt.xlabel(\"n_clones\")\n",
    "plt.show()"
   ]
  }
 ],
 "metadata": {
  "celltoolbar": "Tags",
  "kernelspec": {
   "display_name": "Python 3",
   "language": "python",
   "name": "python3"
  },
  "language_info": {
   "codemirror_mode": {
    "name": "ipython",
    "version": 3
   },
   "file_extension": ".py",
   "mimetype": "text/x-python",
   "name": "python",
   "nbconvert_exporter": "python",
   "pygments_lexer": "ipython3",
   "version": "3.7.3"
  },
  "papermill": {
   "default_parameters": {},
   "duration": 5560.364131,
   "end_time": "2021-01-27T10:03:31.625455",
   "environment_variables": {},
   "exception": null,
   "input_path": "/data2/mito_lineage/src/vireo/vireoSNP_clones.ipynb",
   "output_path": "results/jan21_2021/chrM/P2_cellSNP_minC200_minAF0.01/lineage_chrM.ipynb",
   "parameters": {
    "AD_F": "data/jan21_2021/chrM/P2_cellSNP_minC200_minAF0.01/cellSNP.tag.AD.mtx",
    "DP_F": "data/jan21_2021/chrM/P2_cellSNP_minC200_minAF0.01/cellSNP.tag.DP.mtx"
   },
   "start_time": "2021-01-27T08:30:51.261324",
   "version": "2.2.0"
  }
 },
 "nbformat": 4,
 "nbformat_minor": 4
}
