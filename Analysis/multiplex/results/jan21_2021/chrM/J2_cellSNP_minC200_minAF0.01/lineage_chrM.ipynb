{
 "cells": [
  {
   "cell_type": "code",
   "execution_count": 1,
   "metadata": {
    "ExecuteTime": {
     "end_time": "2021-01-07T22:17:00.753670Z",
     "start_time": "2021-01-07T22:17:00.746914Z"
    },
    "execution": {
     "iopub.execute_input": "2021-01-29T11:19:13.482484Z",
     "iopub.status.busy": "2021-01-29T11:19:13.481798Z",
     "iopub.status.idle": "2021-01-29T11:19:13.484938Z",
     "shell.execute_reply": "2021-01-29T11:19:13.485416Z"
    },
    "papermill": {
     "duration": 0.053908,
     "end_time": "2021-01-29T11:19:13.485615",
     "exception": false,
     "start_time": "2021-01-29T11:19:13.431707",
     "status": "completed"
    },
    "tags": []
   },
   "outputs": [
    {
     "data": {
      "text/plain": [
       "'/data2/mito_lineage/Analysis/multiplex'"
      ]
     },
     "execution_count": 1,
     "metadata": {},
     "output_type": "execute_result"
    }
   ],
   "source": [
    "pwd"
   ]
  },
  {
   "cell_type": "code",
   "execution_count": 2,
   "metadata": {
    "collapsed": true,
    "execution": {
     "iopub.execute_input": "2021-01-29T11:19:13.541386Z",
     "iopub.status.busy": "2021-01-29T11:19:13.540783Z",
     "iopub.status.idle": "2021-01-29T11:19:13.544090Z",
     "shell.execute_reply": "2021-01-29T11:19:13.543412Z"
    },
    "papermill": {
     "duration": 0.03145,
     "end_time": "2021-01-29T11:19:13.544238",
     "exception": false,
     "start_time": "2021-01-29T11:19:13.512788",
     "status": "completed"
    },
    "tags": [
     "parameters"
    ]
   },
   "outputs": [],
   "source": [
    "AD_F = \"../data/mitoDNA/cellSNP.tag.AD.mtx\"\n",
    "DP_F = \"../data/mitoDNA/cellSNP.tag.DP.mtx\""
   ]
  },
  {
   "cell_type": "code",
   "execution_count": 3,
   "metadata": {
    "execution": {
     "iopub.execute_input": "2021-01-29T11:19:13.606670Z",
     "iopub.status.busy": "2021-01-29T11:19:13.606056Z",
     "iopub.status.idle": "2021-01-29T11:19:13.608223Z",
     "shell.execute_reply": "2021-01-29T11:19:13.608756Z"
    },
    "papermill": {
     "duration": 0.034005,
     "end_time": "2021-01-29T11:19:13.608895",
     "exception": false,
     "start_time": "2021-01-29T11:19:13.574890",
     "status": "completed"
    },
    "tags": [
     "injected-parameters"
    ]
   },
   "outputs": [],
   "source": [
    "# Parameters\n",
    "AD_F = \"data/jan21_2021/chrM/J2_cellSNP_minC200_minAF0.01/cellSNP.tag.AD.mtx\"\n",
    "DP_F = \"data/jan21_2021/chrM/J2_cellSNP_minC200_minAF0.01/cellSNP.tag.DP.mtx\"\n"
   ]
  },
  {
   "cell_type": "code",
   "execution_count": 4,
   "metadata": {
    "ExecuteTime": {
     "end_time": "2021-01-07T22:11:17.977334Z",
     "start_time": "2021-01-07T22:11:17.962011Z"
    },
    "execution": {
     "iopub.execute_input": "2021-01-29T11:19:13.671257Z",
     "iopub.status.busy": "2021-01-29T11:19:13.670568Z",
     "iopub.status.idle": "2021-01-29T11:19:13.674027Z",
     "shell.execute_reply": "2021-01-29T11:19:13.675115Z"
    },
    "papermill": {
     "duration": 0.038272,
     "end_time": "2021-01-29T11:19:13.675323",
     "exception": false,
     "start_time": "2021-01-29T11:19:13.637051",
     "status": "completed"
    },
    "tags": []
   },
   "outputs": [
    {
     "data": {
      "text/plain": [
       "'/data2/mito_lineage/Analysis/multiplex'"
      ]
     },
     "execution_count": 4,
     "metadata": {},
     "output_type": "execute_result"
    }
   ],
   "source": [
    "pwd"
   ]
  },
  {
   "cell_type": "markdown",
   "metadata": {
    "papermill": {
     "duration": 0.027159,
     "end_time": "2021-01-29T11:19:13.735333",
     "exception": false,
     "start_time": "2021-01-29T11:19:13.708174",
     "status": "completed"
    },
    "tags": []
   },
   "source": [
    "# Using vireo for clonal reconstruction - mitochondrial mutations"
   ]
  },
  {
   "cell_type": "markdown",
   "metadata": {
    "papermill": {
     "duration": 0.053784,
     "end_time": "2021-01-29T11:19:13.821254",
     "exception": false,
     "start_time": "2021-01-29T11:19:13.767470",
     "status": "completed"
    },
    "tags": []
   },
   "source": [
    "The mitochondrial mutations data set is extracted from [Ludwig et al, Cell, 2019](https://doi.org/10.1016/j.cell.2019.01.022), the 9 variants used here are from Supp Fig. 2F (and main Fig. 2F).\n",
    "\n",
    "For clonal reconstruction, we are using the core class `vireoSNP.Vireo` with multiple initializations"
   ]
  },
  {
   "cell_type": "code",
   "execution_count": 5,
   "metadata": {
    "execution": {
     "iopub.execute_input": "2021-01-29T11:19:13.894432Z",
     "iopub.status.busy": "2021-01-29T11:19:13.893778Z",
     "iopub.status.idle": "2021-01-29T11:19:14.655528Z",
     "shell.execute_reply": "2021-01-29T11:19:14.654890Z"
    },
    "papermill": {
     "duration": 0.796884,
     "end_time": "2021-01-29T11:19:14.655701",
     "exception": false,
     "start_time": "2021-01-29T11:19:13.858817",
     "status": "completed"
    },
    "tags": []
   },
   "outputs": [
    {
     "name": "stdout",
     "output_type": "stream",
     "text": [
      "0.4.2\n"
     ]
    }
   ],
   "source": [
    "import vireoSNP\n",
    "import numpy as np\n",
    "from scipy import sparse\n",
    "from scipy.io import mmread\n",
    "import matplotlib.pyplot as plt\n",
    "\n",
    "print(vireoSNP.__version__)"
   ]
  },
  {
   "cell_type": "code",
   "execution_count": 6,
   "metadata": {
    "collapsed": true,
    "execution": {
     "iopub.execute_input": "2021-01-29T11:19:14.746598Z",
     "iopub.status.busy": "2021-01-29T11:19:14.745689Z",
     "iopub.status.idle": "2021-01-29T11:19:14.749608Z",
     "shell.execute_reply": "2021-01-29T11:19:14.748815Z"
    },
    "papermill": {
     "duration": 0.046591,
     "end_time": "2021-01-29T11:19:14.749796",
     "exception": false,
     "start_time": "2021-01-29T11:19:14.703205",
     "status": "completed"
    },
    "tags": []
   },
   "outputs": [],
   "source": [
    "np.set_printoptions(formatter={'float': lambda x: format(x, '.5f')})"
   ]
  },
  {
   "cell_type": "code",
   "execution_count": 7,
   "metadata": {
    "collapsed": true,
    "execution": {
     "iopub.execute_input": "2021-01-29T11:19:14.892982Z",
     "iopub.status.busy": "2021-01-29T11:19:14.892013Z",
     "iopub.status.idle": "2021-01-29T11:19:25.157598Z",
     "shell.execute_reply": "2021-01-29T11:19:25.158152Z"
    },
    "papermill": {
     "duration": 10.298917,
     "end_time": "2021-01-29T11:19:25.158362",
     "exception": false,
     "start_time": "2021-01-29T11:19:14.859445",
     "status": "completed"
    },
    "tags": []
   },
   "outputs": [],
   "source": [
    "AD = mmread(AD_F).tocsc()\n",
    "DP = mmread(DP_F).tocsc()"
   ]
  },
  {
   "cell_type": "code",
   "execution_count": 8,
   "metadata": {
    "execution": {
     "iopub.execute_input": "2021-01-29T11:19:25.222840Z",
     "iopub.status.busy": "2021-01-29T11:19:25.221905Z",
     "iopub.status.idle": "2021-01-29T11:19:25.242947Z",
     "shell.execute_reply": "2021-01-29T11:19:25.242362Z"
    },
    "papermill": {
     "duration": 0.053243,
     "end_time": "2021-01-29T11:19:25.243146",
     "exception": false,
     "start_time": "2021-01-29T11:19:25.189903",
     "status": "completed"
    },
    "tags": []
   },
   "outputs": [],
   "source": [
    "AD_shape = AD.todense().shape"
   ]
  },
  {
   "cell_type": "markdown",
   "metadata": {
    "papermill": {
     "duration": 0.028162,
     "end_time": "2021-01-29T11:19:25.302126",
     "exception": false,
     "start_time": "2021-01-29T11:19:25.273964",
     "status": "completed"
    },
    "tags": []
   },
   "source": [
    "## New implementation in v0.3.0"
   ]
  },
  {
   "cell_type": "code",
   "execution_count": 9,
   "metadata": {
    "collapsed": true,
    "execution": {
     "iopub.execute_input": "2021-01-29T11:19:25.362383Z",
     "iopub.status.busy": "2021-01-29T11:19:25.361702Z",
     "iopub.status.idle": "2021-01-29T11:19:25.364376Z",
     "shell.execute_reply": "2021-01-29T11:19:25.364994Z"
    },
    "papermill": {
     "duration": 0.035226,
     "end_time": "2021-01-29T11:19:25.365177",
     "exception": false,
     "start_time": "2021-01-29T11:19:25.329951",
     "status": "completed"
    },
    "tags": []
   },
   "outputs": [],
   "source": [
    "from vireoSNP import Vireo"
   ]
  },
  {
   "cell_type": "markdown",
   "metadata": {
    "papermill": {
     "duration": 0.028823,
     "end_time": "2021-01-29T11:19:25.423571",
     "exception": false,
     "start_time": "2021-01-29T11:19:25.394748",
     "status": "completed"
    },
    "tags": []
   },
   "source": [
    "Note, there are a few key parameters:\n",
    "\n",
    "* `n_donor`: it means number of clones here, but you need to determine yourself. You can choose the one with highest ELBO (see next section)\n",
    "* `n_GT`: number of different genotype. For somatic mutations, we could assume that there are only two, namely present or absent\n",
    "* `is_theta_ASE`: whether allelic ratio is variant specific. For mitochondrial mutations, we choose True as allelic ratio can different from variant to variant"
   ]
  },
  {
   "cell_type": "markdown",
   "metadata": {
    "papermill": {
     "duration": 0.030173,
     "end_time": "2021-01-29T11:19:25.483145",
     "exception": false,
     "start_time": "2021-01-29T11:19:25.452972",
     "status": "completed"
    },
    "tags": []
   },
   "source": [
    "### Multiple initialization is needed to avoid local optima"
   ]
  },
  {
   "cell_type": "code",
   "execution_count": 10,
   "metadata": {
    "collapsed": true,
    "execution": {
     "iopub.execute_input": "2021-01-29T11:19:25.548787Z",
     "iopub.status.busy": "2021-01-29T11:19:25.548083Z",
     "iopub.status.idle": "2021-01-29T11:27:07.643947Z",
     "shell.execute_reply": "2021-01-29T11:27:07.644565Z"
    },
    "papermill": {
     "duration": 462.133288,
     "end_time": "2021-01-29T11:27:07.644775",
     "exception": false,
     "start_time": "2021-01-29T11:19:25.511487",
     "status": "completed"
    },
    "tags": []
   },
   "outputs": [],
   "source": [
    "np.random.seed(1)\n",
    "\n",
    "n_initials = 50\n",
    "_models_all = []\n",
    "for i in range(n_initials):\n",
    "    _modelCA = Vireo(n_var=AD_shape[0], n_cell=AD_shape[1], n_donor=3, n_GT=2,\n",
    "                     fix_beta_sum=False, ASE_mode=True)\n",
    "    _modelCA.set_prior(beta_mu_prior=np.array([[0.01, 0.5]]))\n",
    "    _modelCA.fit(AD, DP, min_iter=20, verbose=False, delay_fit_theta=0)\n",
    "    _models_all.append(_modelCA)"
   ]
  },
  {
   "cell_type": "code",
   "execution_count": 11,
   "metadata": {
    "collapsed": true,
    "execution": {
     "iopub.execute_input": "2021-01-29T11:27:07.721869Z",
     "iopub.status.busy": "2021-01-29T11:27:07.720614Z",
     "iopub.status.idle": "2021-01-29T11:27:07.723230Z",
     "shell.execute_reply": "2021-01-29T11:27:07.723990Z"
    },
    "papermill": {
     "duration": 0.043852,
     "end_time": "2021-01-29T11:27:07.724248",
     "exception": false,
     "start_time": "2021-01-29T11:27:07.680396",
     "status": "completed"
    },
    "tags": []
   },
   "outputs": [],
   "source": [
    "## Choose the model giving highest ELBO\n",
    "\n",
    "_idx = np.argmax([x.ELBO_[-1] for x in _models_all])\n",
    "modelCA = _models_all[_idx]\n",
    "_losses = modelCA.ELBO_"
   ]
  },
  {
   "cell_type": "code",
   "execution_count": 12,
   "metadata": {
    "execution": {
     "iopub.execute_input": "2021-01-29T11:27:07.809665Z",
     "iopub.status.busy": "2021-01-29T11:27:07.805360Z",
     "iopub.status.idle": "2021-01-29T11:27:08.268527Z",
     "shell.execute_reply": "2021-01-29T11:27:08.269173Z"
    },
    "papermill": {
     "duration": 0.513226,
     "end_time": "2021-01-29T11:27:08.269368",
     "exception": false,
     "start_time": "2021-01-29T11:27:07.756142",
     "status": "completed"
    },
    "tags": []
   },
   "outputs": [
    {
     "data": {
      "image/png": "[encoded data removed]",
      "text/plain": [
       "<Figure size 792x288 with 2 Axes>"
      ]
     },
     "metadata": {
      "needs_background": "light"
     },
     "output_type": "display_data"
    }
   ],
   "source": [
    "fig = plt.figure(figsize=(11, 4))\n",
    "plt.subplot(1, 2, 1)\n",
    "plt.hist([x.ELBO_[-1] for x in _models_all])\n",
    "plt.ylabel(\"Frequency\")\n",
    "plt.xlabel(\"ELBO with multiple initializations\")\n",
    "\n",
    "plt.subplot(1, 2, 2)\n",
    "plt.plot(_losses)\n",
    "plt.xlabel(\"Iterations\")\n",
    "plt.ylabel(\"ELBO in a single run\")\n",
    "\n",
    "plt.tight_layout()\n",
    "plt.show()"
   ]
  },
  {
   "cell_type": "code",
   "execution_count": 13,
   "metadata": {
    "execution": {
     "iopub.execute_input": "2021-01-29T11:27:08.345949Z",
     "iopub.status.busy": "2021-01-29T11:27:08.344360Z",
     "iopub.status.idle": "2021-01-29T11:27:08.349402Z",
     "shell.execute_reply": "2021-01-29T11:27:08.350002Z"
    },
    "papermill": {
     "duration": 0.048336,
     "end_time": "2021-01-29T11:27:08.350168",
     "exception": false,
     "start_time": "2021-01-29T11:27:08.301832",
     "status": "completed"
    },
    "tags": []
   },
   "outputs": [
    {
     "name": "stdout",
     "output_type": "stream",
     "text": [
      "[[0.04013 0.86800]\n",
      " [0.44216 0.04484]\n",
      " [0.87248 0.05187]\n",
      " [0.04063 0.86198]\n",
      " [0.05024 0.50776]\n",
      " [0.05090 0.51468]\n",
      " [0.87281 0.04348]\n",
      " [0.00178 0.13195]\n",
      " [0.04043 0.40477]\n",
      " [0.01108 0.01367]\n",
      " [0.03016 0.03366]\n",
      " [0.01020 0.01244]\n",
      " [0.02896 0.04546]\n",
      " [0.01523 0.02794]\n",
      " [0.28544 0.66328]\n",
      " [0.01061 0.01070]\n",
      " [0.01287 0.01358]\n",
      " [0.01242 0.01337]\n",
      " [0.01593 0.01603]\n",
      " [0.01460 0.01540]\n",
      " [0.01499 0.01509]\n",
      " [0.01812 0.01826]\n",
      " [0.85987 0.03895]\n",
      " [0.01204 0.01360]\n",
      " [0.01673 0.01744]\n",
      " [0.01819 0.01991]\n",
      " [0.01422 0.09494]\n",
      " [0.03756 0.02524]\n",
      " [0.01718 0.03534]\n",
      " [0.01005 0.02026]\n",
      " [0.00780 0.01572]\n",
      " [0.04781 0.00870]\n",
      " [0.00662 0.02345]\n",
      " [0.02447 0.01032]\n",
      " [0.00777 0.02155]\n",
      " [0.00834 0.01748]\n",
      " [0.86933 0.04235]\n",
      " [0.42657 0.04227]\n",
      " [0.01968 0.01994]\n",
      " [0.01098 0.01105]\n",
      " [0.04235 0.42313]\n",
      " [0.87034 0.04222]\n",
      " [0.03737 0.84908]\n",
      " [0.43835 0.04315]\n",
      " [0.01409 0.01475]\n",
      " [0.01266 0.01289]\n",
      " [0.44640 0.44858]\n",
      " [0.50375 0.05068]\n",
      " [0.48981 0.04776]\n",
      " [0.85168 0.04123]\n",
      " [0.09872 0.10347]\n",
      " [0.02498 0.02664]\n",
      " [0.12747 0.13344]\n",
      " [0.02519 0.02599]\n",
      " [0.01779 0.01849]\n",
      " [0.01901 0.01911]\n",
      " [0.16685 0.16986]\n",
      " [0.01502 0.01512]\n",
      " [0.09471 0.09538]\n",
      " [0.08752 0.08768]\n",
      " [0.02816 0.02936]\n",
      " [0.03461 0.03475]\n",
      " [0.01865 0.01878]\n",
      " [0.02426 0.02502]\n",
      " [0.01077 0.01083]\n",
      " [0.02554 0.02706]\n",
      " [0.01840 0.01911]\n",
      " [0.01494 0.01588]\n",
      " [0.87196 0.04306]\n",
      " [0.01062 0.50000]\n",
      " [0.04930 0.87411]\n",
      " [0.01030 0.01077]\n",
      " [0.86254 0.04505]\n",
      " [0.03992 0.40406]\n",
      " [0.04219 0.86609]\n",
      " [0.01211 0.01222]\n",
      " [0.01070 0.01113]\n",
      " [0.47722 0.04631]\n",
      " [0.05067 0.49050]\n",
      " [0.42877 0.04353]\n",
      " [0.85142 0.04081]\n",
      " [0.04445 0.87545]\n",
      " [0.01035 0.01094]\n",
      " [0.03738 0.03910]\n",
      " [0.04073 0.86159]\n",
      " [0.01274 0.03299]\n",
      " [0.00541 0.01291]\n",
      " [0.00426 0.01500]\n",
      " [0.86873 0.04351]\n",
      " [0.02027 0.02120]\n",
      " [0.85147 0.03997]\n",
      " [0.01093 0.01176]\n",
      " [0.29059 0.90432]\n",
      " [0.86643 0.04141]\n",
      " [0.04364 0.43779]\n",
      " [0.85956 0.04156]\n",
      " [0.49527 0.04990]\n",
      " [0.00867 0.01129]\n",
      " [0.29722 0.90904]\n",
      " [0.04242 0.86227]\n",
      " [0.53627 0.07875]\n",
      " [0.03397 0.03627]\n",
      " [0.01591 0.01813]\n",
      " [0.05123 0.05866]\n",
      " [0.02032 0.01826]\n",
      " [0.49777 0.04981]\n",
      " [0.09121 0.69639]\n",
      " [0.84868 0.03853]\n",
      " [0.84796 0.03848]\n",
      " [0.08902 0.69418]\n",
      " [0.08376 0.08559]\n",
      " [0.01094 0.01103]\n",
      " [0.04217 0.04308]\n",
      " [0.02457 0.02465]\n",
      " [0.01844 0.01966]\n",
      " [0.03174 0.03263]\n",
      " [0.03273 0.03357]\n",
      " [0.04279 0.04414]\n",
      " [0.02489 0.02546]\n",
      " [0.01350 0.01376]\n",
      " [0.01542 0.01576]\n",
      " [0.01292 0.01305]\n",
      " [0.01318 0.01413]\n",
      " [0.01357 0.01363]\n",
      " [0.01025 0.01050]\n",
      " [0.01067 0.01105]\n",
      " [0.05004 0.49564]\n",
      " [0.00286 0.05769]\n",
      " [0.04272 0.86917]\n",
      " [0.04635 0.44676]\n",
      " [0.03915 0.85097]\n",
      " [0.04169 0.86753]\n",
      " [0.85055 0.03804]\n",
      " [0.86757 0.04247]\n",
      " [0.02269 0.02367]\n",
      " [0.04057 0.85527]\n",
      " [0.04343 0.43503]\n",
      " [0.04353 0.87264]\n",
      " [0.01066 0.01131]\n",
      " [0.05304 0.51031]\n",
      " [0.04939 0.49325]\n",
      " [0.01081 0.01147]\n",
      " [0.85482 0.04086]\n",
      " [0.01224 0.01255]\n",
      " [0.01162 0.01221]\n",
      " [0.01282 0.01308]\n",
      " [0.01622 0.01638]\n",
      " [0.02070 0.02147]\n",
      " [0.02364 0.02402]\n",
      " [0.01622 0.01633]\n",
      " [0.01077 0.01131]\n",
      " [0.05024 0.05115]\n",
      " [0.05504 0.05512]\n",
      " [0.03923 0.04017]\n",
      " [0.02708 0.02720]\n",
      " [0.01044 0.01107]\n",
      " [0.01257 0.01312]\n",
      " [0.01194 0.01204]\n",
      " [0.01657 0.01734]\n",
      " [0.01283 0.01358]\n",
      " [0.02506 0.02589]\n",
      " [0.02089 0.02140]\n",
      " [0.01140 0.01182]\n",
      " [0.01489 0.01530]\n",
      " [0.01074 0.01091]\n",
      " [0.48790 0.04885]\n",
      " [0.01436 0.01447]\n",
      " [0.85850 0.04244]\n",
      " [0.49272 0.04794]\n",
      " [0.43646 0.04355]\n",
      " [0.04318 0.86261]\n",
      " [0.84996 0.03883]\n",
      " [0.02642 0.54713]\n",
      " [0.68738 0.08859]\n",
      " [0.47859 0.04762]\n",
      " [0.44391 0.04396]\n",
      " [0.01970 0.01911]\n",
      " [0.01237 0.01264]\n",
      " [0.01351 0.01399]\n",
      " [0.02627 0.02867]\n",
      " [0.02701 0.02852]\n",
      " [0.01167 0.01299]\n",
      " [0.01214 0.01225]\n",
      " [0.01067 0.01209]\n",
      " [0.85316 0.03986]\n",
      " [0.51622 0.05194]\n",
      " [0.03716 0.85360]\n",
      " [0.03701 0.84927]\n",
      " [0.06023 0.54749]\n",
      " [0.03833 0.85504]\n",
      " [0.24681 0.02116]\n",
      " [0.33643 0.03163]\n",
      " [0.51032 0.05069]\n",
      " [0.03693 0.85577]\n",
      " [0.04390 0.86814]\n",
      " [0.85086 0.03557]\n",
      " [0.85220 0.03752]\n",
      " [0.03715 0.84986]\n",
      " [0.28712 0.89681]\n",
      " [0.00494 0.05168]\n",
      " [0.05363 0.50212]]\n",
      "[[579926.02048 274862.97952]\n",
      " [347384.42551 528791.57449]\n",
      " [149853.61201 300527.38799]\n",
      " [305482.32822 145491.67178]\n",
      " [232831.68751 143532.31249]\n",
      " [231920.71181 142835.28819]\n",
      " [127622.83029 252811.16971]\n",
      " [316068.34627 27518.65373]\n",
      " [331787.07007 204234.92993]\n",
      " [189898.13095 364763.86905]\n",
      " [182123.00024 353272.99976]\n",
      " [174137.92925 340995.07075]\n",
      " [322185.98238 160156.01762]\n",
      " [327839.28289 164084.71711]\n",
      " [293081.36388 149982.63612]\n",
      " [407216.95393 382637.04607]\n",
      " [256447.90827 493637.09173]\n",
      " [518195.06551 209211.93449]\n",
      " [338752.87187 323333.12813]\n",
      " [494814.66272 190595.33728]\n",
      " [340819.08823 315135.91177]\n",
      " [385268.24320 334263.75680]\n",
      " [220455.99192 533420.00808]\n",
      " [516094.08166 218319.91834]\n",
      " [541844.73026 260011.26974]\n",
      " [552944.53868 260816.46132]\n",
      " [431702.57902 74655.42098]\n",
      " [293194.48197 634511.51803]\n",
      " [627065.61218 288840.38782]\n",
      " [646218.04699 298277.95301]\n",
      " [620107.02198 279279.97802]\n",
      " [275698.34634 601647.65366]\n",
      " [605921.14365 262773.85635]\n",
      " [279433.05986 626951.94014]\n",
      " [581370.51190 266678.48810]\n",
      " [583181.33241 269254.66759]\n",
      " [283505.94331 569431.05669]\n",
      " [398660.60784 631840.39216]\n",
      " [462847.00449 455208.99551]\n",
      " [444551.82122 399474.17878]\n",
      " [533028.77968 329465.22032]\n",
      " [261605.93016 518505.06984]\n",
      " [629965.43113 243685.56887]\n",
      " [380277.45613 603075.54387]\n",
      " [465849.66589 301122.33411]\n",
      " [425510.87835 440610.12165]\n",
      " [28955.46805 33841.53195]\n",
      " [383022.87050 602304.12950]\n",
      " [397648.34352 643946.65648]\n",
      " [228058.25208 574179.74792]\n",
      " [179083.31912 442881.68088]\n",
      " [218829.38898 542028.61102]\n",
      " [216813.38851 536170.61149]\n",
      " [232318.75975 573799.24025]\n",
      " [215045.91202 512172.08798]\n",
      " [385355.01403 375076.98597]\n",
      " [204534.81989 505935.18011]\n",
      " [393839.52426 378179.47574]\n",
      " [353329.58894 459280.41106]\n",
      " [409283.58895 387880.41105]\n",
      " [537396.00480 214736.99520]\n",
      " [418806.98026 380122.01974]\n",
      " [435227.04893 381359.95107]\n",
      " [342725.69241 493507.30759]\n",
      " [420907.94427 393357.05573]\n",
      " [604386.03175 244034.96825]\n",
      " [624647.02689 229960.97311]\n",
      " [327855.86535 519744.13465]\n",
      " [275992.93721 543427.06279]\n",
      " [635928.00000 50.00000]\n",
      " [428956.84333 218317.15667]\n",
      " [375213.00804 496260.99196]\n",
      " [155084.18153 358263.81847]\n",
      " [376189.29757 225274.70243]\n",
      " [634852.66412 311957.33588]\n",
      " [376568.78196 318707.21804]\n",
      " [481797.73537 256736.26463]\n",
      " [312596.10924 513362.89076]\n",
      " [584012.79836 364758.20164]\n",
      " [351224.47498 553812.52502]\n",
      " [339105.79910 843530.20090]\n",
      " [453710.72133 235681.27867]\n",
      " [467291.13854 349325.86146]\n",
      " [261083.88936 530758.11064]\n",
      " [579425.79838 277976.20162]\n",
      " [335682.00772 672341.99228]\n",
      " [331445.01800 664364.98200]\n",
      " [322468.91817 647382.08183]\n",
      " [310296.30599 621128.69401]\n",
      " [275036.45200 404934.54800]\n",
      " [245306.27892 619151.72108]\n",
      " [215417.93988 554293.06012]\n",
      " [529386.26378 255493.73622]\n",
      " [316652.85577 644212.14423]\n",
      " [631462.73150 398908.26850]\n",
      " [229006.85196 549235.14804]\n",
      " [383106.69907 618841.30093]\n",
      " [259369.22809 613179.77191]\n",
      " [643960.53489 308142.46511]\n",
      " [666905.88680 282729.11320]\n",
      " [195570.90640 308349.09360]\n",
      " [306150.21179 192471.78821]\n",
      " [312107.70270 196465.29730]\n",
      " [302709.06428 190322.93572]\n",
      " [197753.93011 313876.06989]\n",
      " [305059.64807 496574.35193]\n",
      " [201485.32591 406112.67409]\n",
      " [164437.11712 421931.88288]\n",
      " [320492.22689 826835.77311]\n",
      " [245408.55149 497321.44851]\n",
      " [200648.62381 476135.37619]\n",
      " [385977.45819 334830.54181]\n",
      " [480140.18482 238894.81518]\n",
      " [353241.79092 338759.20908]\n",
      " [197308.72057 494768.27943]\n",
      " [325105.89321 333052.10679]\n",
      " [366063.84986 293964.15014]\n",
      " [431344.98117 249737.01883]\n",
      " [472232.58078 262983.41922]\n",
      " [401038.36378 380354.63622]\n",
      " [340704.59274 375554.40726]\n",
      " [441898.92063 393322.07937]\n",
      " [315227.35182 499079.64818]\n",
      " [438975.43690 414054.56310]\n",
      " [559593.78484 360562.21516]\n",
      " [607904.38538 305591.61462]\n",
      " [543859.65091 341361.34909]\n",
      " [704529.58985 278311.41015]\n",
      " [738513.83997 369586.16003]\n",
      " [583862.86962 370078.13038]\n",
      " [662599.66340 258861.33660]\n",
      " [630274.88750 313466.11250]\n",
      " [248028.91133 635415.08867]\n",
      " [280168.04414 565773.95586]\n",
      " [560420.64407 276367.35593]\n",
      " [618961.55616 250697.44384]\n",
      " [345889.50099 213550.49901]\n",
      " [475174.63019 244686.36981]\n",
      " [592961.82384 289750.17616]\n",
      " [506372.69068 324465.30932]\n",
      " [550086.73706 341709.26294]\n",
      " [576675.89917 281621.10083]\n",
      " [285221.37879 704378.62121]\n",
      " [426472.07660 266553.92340]\n",
      " [347700.12170 499682.87830]\n",
      " [504790.02454 352939.97546]\n",
      " [468096.84426 382839.15574]\n",
      " [368926.19800 508372.80200]\n",
      " [491424.01168 358274.98832]\n",
      " [474762.01173 468486.98827]\n",
      " [502737.97498 280125.02502]\n",
      " [391172.07142 283356.92858]\n",
      " [359813.41389 353478.58611]\n",
      " [308138.78681 409277.21319]\n",
      " [364538.24568 358017.75432]\n",
      " [537687.18899 183689.81101]\n",
      " [574325.34069 140574.65931]\n",
      " [382405.21813 337575.78187]\n",
      " [454922.74449 281061.25551]\n",
      " [284826.01581 446268.98419]\n",
      " [492732.51068 231553.48932]\n",
      " [380017.91191 340594.08809]\n",
      " [405178.54790 361861.45210]\n",
      " [479306.38864 286711.61136]\n",
      " [430965.83772 347330.16228]\n",
      " [306606.90311 496938.09689]\n",
      " [454929.79975 403076.20025]\n",
      " [244566.33750 588241.66250]\n",
      " [271647.73256 449633.26744]\n",
      " [289456.98672 467570.01328]\n",
      " [530022.75888 224394.24112]\n",
      " [240146.29714 609446.70286]\n",
      " [577077.91108 283216.08892]\n",
      " [650022.26171 324005.73829]\n",
      " [374851.91520 606495.08480]\n",
      " [375982.98489 606965.01511]\n",
      " [578834.64528 413034.35472]\n",
      " [551802.58439 358039.41561]\n",
      " [660126.30974 239853.69026]\n",
      " [623904.38713 249491.61287]\n",
      " [649647.64896 260187.35104]\n",
      " [648112.44549 259485.55451]\n",
      " [479223.59803 399599.40197]\n",
      " [252410.66799 630951.33201]\n",
      " [237012.63815 591535.36185]\n",
      " [270155.08465 426456.91535]\n",
      " [601434.16264 236760.83736]\n",
      " [400162.96165 177399.03835]\n",
      " [348003.82339 237780.17661]\n",
      " [508724.50050 203609.49950]\n",
      " [251877.16852 488780.83148]\n",
      " [305287.04357 538106.95643]\n",
      " [279241.46709 459306.53291]\n",
      " [443308.18865 199952.81135]\n",
      " [438634.93047 193466.06953]\n",
      " [165623.10116 376947.89884]\n",
      " [154523.20402 392581.79598]\n",
      " [432865.83552 168917.16448]\n",
      " [586121.43807 232990.56193]\n",
      " [547179.65778 351998.34222]\n",
      " [452198.73114 294597.26886]]\n"
     ]
    }
   ],
   "source": [
    "print(modelCA.beta_mu),\n",
    "print(modelCA.beta_sum)"
   ]
  },
  {
   "cell_type": "code",
   "execution_count": 14,
   "metadata": {
    "execution": {
     "iopub.execute_input": "2021-01-29T11:27:08.439148Z",
     "iopub.status.busy": "2021-01-29T11:27:08.433863Z",
     "iopub.status.idle": "2021-01-29T11:27:09.049842Z",
     "shell.execute_reply": "2021-01-29T11:27:09.048936Z"
    },
    "papermill": {
     "duration": 0.66649,
     "end_time": "2021-01-29T11:27:09.050049",
     "exception": false,
     "start_time": "2021-01-29T11:27:08.383559",
     "status": "completed"
    },
    "tags": []
   },
   "outputs": [
    {
     "data": {
      "image/png": "[encoded data removed]",
      "text/plain": [
       "<Figure size 700x400 with 4 Axes>"
      ]
     },
     "metadata": {
      "needs_background": "light"
     },
     "output_type": "display_data"
    }
   ],
   "source": [
    "import matplotlib.pyplot as plt\n",
    "from vireoSNP.plot.base_plot import heat_matrix\n",
    "\n",
    "fig = plt.figure(figsize=(7, 4), dpi=100)\n",
    "plt.subplot(1, 2, 1)\n",
    "im = heat_matrix(modelCA.ID_prob, cmap=\"Oranges\", alpha=0.8,\n",
    "                 display_value=False, row_sort=True)\n",
    "plt.colorbar(im, fraction=0.046, pad=0.04)\n",
    "plt.title(\"Assignment probability\")\n",
    "plt.xlabel(\"Clone\")\n",
    "plt.ylabel(\"%d cells\" %(modelCA.n_cell))\n",
    "plt.xticks(range(modelCA.n_donor))\n",
    "\n",
    "\n",
    "plt.subplot(1, 2, 2)\n",
    "AF_SNPs = np.sum(modelCA.GT_prob * \n",
    "                 np.expand_dims(modelCA.beta_mu, 1), axis=2)\n",
    "im = heat_matrix(AF_SNPs, cmap=\"Blues\", alpha=0.8, \n",
    "                 display_value=False, row_sort=True)\n",
    "plt.colorbar(im, fraction=0.046, pad=0.04)\n",
    "plt.title(\"Mean allelic ratio\")\n",
    "plt.xlabel(\"Clone\")\n",
    "plt.ylabel(\"%d SNPs\" %(modelCA.n_var))\n",
    "plt.xticks(range(modelCA.n_donor))\n",
    "\n",
    "plt.tight_layout()\n",
    "plt.show()"
   ]
  },
  {
   "cell_type": "code",
   "execution_count": 15,
   "metadata": {
    "execution": {
     "iopub.execute_input": "2021-01-29T11:27:09.122933Z",
     "iopub.status.busy": "2021-01-29T11:27:09.122153Z",
     "iopub.status.idle": "2021-01-29T11:27:09.382937Z",
     "shell.execute_reply": "2021-01-29T11:27:09.382275Z"
    },
    "papermill": {
     "duration": 0.298299,
     "end_time": "2021-01-29T11:27:09.383158",
     "exception": false,
     "start_time": "2021-01-29T11:27:09.084859",
     "status": "completed"
    },
    "tags": []
   },
   "outputs": [
    {
     "data": {
      "text/plain": [
       "1682.1993114953034"
      ]
     },
     "execution_count": 15,
     "metadata": {},
     "output_type": "execute_result"
    }
   ],
   "source": [
    "np.sum(modelCA.predict_doublet(AD, DP)[0])"
   ]
  },
  {
   "cell_type": "code",
   "execution_count": null,
   "metadata": {
    "collapsed": true,
    "papermill": {
     "duration": 0.033039,
     "end_time": "2021-01-29T11:27:09.452197",
     "exception": false,
     "start_time": "2021-01-29T11:27:09.419158",
     "status": "completed"
    },
    "tags": []
   },
   "outputs": [],
   "source": []
  },
  {
   "cell_type": "markdown",
   "metadata": {
    "papermill": {
     "duration": 0.03316,
     "end_time": "2021-01-29T11:27:09.519799",
     "exception": false,
     "start_time": "2021-01-29T11:27:09.486639",
     "status": "completed"
    },
    "tags": []
   },
   "source": [
    "### Choose the number of clones\n",
    "We can choose the number of clones where ELBO stops increasing. Here, the best number of clone is 3.\n",
    "\n",
    "Note, for a certain number of clone, e.g., n_clone=3, the ELBO may not the same for multiple initializations. This is becaused VI can only guarantee a local optima, so please choose the highest ELBO for each `n_clone` to represent its \"global\" optima."
   ]
  },
  {
   "cell_type": "code",
   "execution_count": 16,
   "metadata": {
    "collapsed": true,
    "execution": {
     "iopub.execute_input": "2021-01-29T11:27:09.595482Z",
     "iopub.status.busy": "2021-01-29T11:27:09.594714Z",
     "iopub.status.idle": "2021-01-29T12:08:05.826466Z",
     "shell.execute_reply": "2021-01-29T12:08:05.825835Z"
    },
    "papermill": {
     "duration": 2456.273543,
     "end_time": "2021-01-29T12:08:05.826626",
     "exception": false,
     "start_time": "2021-01-29T11:27:09.553083",
     "status": "completed"
    },
    "tags": []
   },
   "outputs": [],
   "source": [
    "n_initials = 50\n",
    "n_clone_list = np.arange(2, 6)\n",
    "\n",
    "_ELBO_mat = [] \n",
    "for k in n_clone_list:\n",
    "    _elbo_temp = []\n",
    "    for i in range(50):\n",
    "        _modelCA = Vireo(n_var=AD_shape[0], n_cell=AD_shape[1], n_donor=k, n_GT=2,\n",
    "                         fix_beta_sum=False, ASE_mode=True)\n",
    "        _modelCA.set_prior(beta_mu_prior=np.array([[0.01, 0.5]]))\n",
    "        _modelCA.fit(AD, DP, min_iter=20, verbose=False)\n",
    "        _elbo_temp.append(_modelCA.ELBO_[-1])\n",
    "    _ELBO_mat.append(_elbo_temp)"
   ]
  },
  {
   "cell_type": "code",
   "execution_count": 17,
   "metadata": {
    "execution": {
     "iopub.execute_input": "2021-01-29T12:08:05.920897Z",
     "iopub.status.busy": "2021-01-29T12:08:05.919325Z",
     "iopub.status.idle": "2021-01-29T12:08:06.153383Z",
     "shell.execute_reply": "2021-01-29T12:08:06.152823Z"
    },
    "papermill": {
     "duration": 0.28546,
     "end_time": "2021-01-29T12:08:06.153520",
     "exception": false,
     "start_time": "2021-01-29T12:08:05.868060",
     "status": "completed"
    },
    "tags": []
   },
   "outputs": [
    {
     "data": {
      "image/png": "[encoded data removed]",
      "text/plain": [
       "<Figure size 432x288 with 1 Axes>"
      ]
     },
     "metadata": {
      "needs_background": "light"
     },
     "output_type": "display_data"
    }
   ],
   "source": [
    "plt.plot([1, 2, 3, 4], np.max(_ELBO_mat, axis=1))\n",
    "plt.boxplot(_ELBO_mat)\n",
    "plt.xticks(n_clone_list - 1, n_clone_list)\n",
    "plt.ylabel(\"ELBO\")\n",
    "plt.xlabel(\"n_clones\")\n",
    "plt.show()"
   ]
  },
  {
   "cell_type": "code",
   "execution_count": null,
   "metadata": {
    "collapsed": true,
    "papermill": {
     "duration": 0.034532,
     "end_time": "2021-01-29T12:08:06.223826",
     "exception": false,
     "start_time": "2021-01-29T12:08:06.189294",
     "status": "completed"
    },
    "tags": []
   },
   "outputs": [],
   "source": []
  },
  {
   "cell_type": "code",
   "execution_count": null,
   "metadata": {
    "collapsed": true,
    "papermill": {
     "duration": 0.036702,
     "end_time": "2021-01-29T12:08:06.294711",
     "exception": false,
     "start_time": "2021-01-29T12:08:06.258009",
     "status": "completed"
    },
    "tags": []
   },
   "outputs": [],
   "source": []
  },
  {
   "cell_type": "code",
   "execution_count": null,
   "metadata": {
    "collapsed": true,
    "papermill": {
     "duration": 0.036015,
     "end_time": "2021-01-29T12:08:06.366566",
     "exception": false,
     "start_time": "2021-01-29T12:08:06.330551",
     "status": "completed"
    },
    "tags": []
   },
   "outputs": [],
   "source": []
  },
  {
   "cell_type": "markdown",
   "metadata": {
    "papermill": {
     "duration": 0.036573,
     "end_time": "2021-01-29T12:08:06.439905",
     "exception": false,
     "start_time": "2021-01-29T12:08:06.403332",
     "status": "completed"
    },
    "tags": []
   },
   "source": [
    "### Old version\n",
    "\n",
    "The old version seem more likely to end up at local optima in this data set."
   ]
  },
  {
   "cell_type": "code",
   "execution_count": 18,
   "metadata": {
    "collapsed": true,
    "execution": {
     "iopub.execute_input": "2021-01-29T12:08:06.516281Z",
     "iopub.status.busy": "2021-01-29T12:08:06.515639Z",
     "iopub.status.idle": "2021-01-29T12:08:06.525848Z",
     "shell.execute_reply": "2021-01-29T12:08:06.525255Z"
    },
    "papermill": {
     "duration": 0.049442,
     "end_time": "2021-01-29T12:08:06.525979",
     "exception": false,
     "start_time": "2021-01-29T12:08:06.476537",
     "status": "completed"
    },
    "tags": []
   },
   "outputs": [],
   "source": [
    "from vireoSNP.utils.vireo_wrap_v02 import vireo_flock"
   ]
  },
  {
   "cell_type": "code",
   "execution_count": 19,
   "metadata": {
    "execution": {
     "iopub.execute_input": "2021-01-29T12:08:06.602821Z",
     "iopub.status.busy": "2021-01-29T12:08:06.602068Z",
     "iopub.status.idle": "2021-01-29T12:09:02.580441Z",
     "shell.execute_reply": "2021-01-29T12:09:02.580969Z"
    },
    "papermill": {
     "duration": 56.01942,
     "end_time": "2021-01-29T12:09:02.581205",
     "exception": false,
     "start_time": "2021-01-29T12:08:06.561785",
     "status": "completed"
    },
    "scrolled": true,
    "tags": []
   },
   "outputs": [
    {
     "name": "stdout",
     "output_type": "stream",
     "text": [
      "[vireo] warm-up: 50 random initializations for 3 clusters...\n",
      "[vireo] donor size with searching extra 0 donors:\n",
      "donor0\tdonor1\tdonor2\n",
      "4003\t4003\t4003\n",
      "[vireo] warm-up: lower bound ranges [-47052431.1, -47052431.1, -47052431.1]\n",
      "[vireo] main RUN with warm initials and tuned GT ...\n",
      "[vireo] main RUN: 22 iterations; lower bound -47052431.1\n",
      "[vireo] beta parameters for binomial rate:\n",
      "[[[0.10 0.10 0.10 0.10 0.10 0.10 0.10 4167.10 0.10 7065.10 17359.10\n",
      "   5992.10 16587.10 9551.10 0.10 8388.10 9978.10 9209.10 10554.10\n",
      "   10132.10 9837.10 13060.10 0.10 9155.10 13575.10 15225.10 13203.10\n",
      "   27001.10 20957.10 12510.10 9203.10 18393.10 10150.10 13284.10\n",
      "   10235.10 9546.10 0.10 0.10 18162.10 9267.10 0.10 0.10 0.10 0.10\n",
      "   10980.10 11038.10 0.10 0.10 0.10 0.10 0.10 19882.10 0.10 20738.10\n",
      "   13271.10 14466.10 0.10 11610.10 0.10 0.10 21411.10 27677.10 15253.10\n",
      "   20638.10 8767.10 22014.10 15866.10 13124.10 0.10 6752.10 0.10 9182.10\n",
      "   0.10 0.10 0.10 8429.10 7988.10 0.10 0.10 0.10 0.10 0.10 8633.10\n",
      "   30489.10 0.10 26431.10 10344.10 11060.10 0.10 14133.10 0.10 8846.10\n",
      "   0.10 0.10 0.10 0.10 0.10 9142.10 0.10 0.10 0.10 17355.10 8502.10\n",
      "   26647.10 9725.10 0.10 0.10 0.10 0.10 0.10 0.10 7890.10 30514.10\n",
      "   17004.10 13338.10 21160.10 21826.10 29454.10 18421.10 10622.10\n",
      "   11148.10 10813.10 11180.10 11577.10 9495.10 9836.10 0.10 18044.10\n",
      "   0.10 0.10 0.10 0.10 0.10 0.10 19228.10 0.10 0.10 0.10 9573.10 0.10\n",
      "   0.10 9439.10 0.10 8541.10 10112.10 11063.10 13840.10 18525.10\n",
      "   20200.10 15324.10 8555.10 34120.10 39262.10 28503.10 19584.10 7623.10\n",
      "   9035.10 8605.10 12385.10 9687.10 18320.10 15201.10 8872.10 11497.10\n",
      "   8394.10 0.10 12339.10 0.10 0.10 0.10 0.10 0.10 0.10 0.10 0.10 0.10\n",
      "   19273.10 11327.10 12248.10 23517.10 24940.10 10912.10 10684.10\n",
      "   10299.10 0.10 0.10 0.10 0.10 0.10 0.10 0.10 0.10 0.10 0.10 0.10 0.10\n",
      "   0.10 0.10 0.10 20866.10 0.10]\n",
      "  [10.00 10.00 10.00 10.00 10.00 10.00 10.00 339330.00 10.00 547507.00\n",
      "   517947.00 509051.00 465665.00 482283.00 10.00 781376.00 740017.00\n",
      "   718108.00 651442.00 675188.00 646028.00 706382.00 10.00 725169.00\n",
      "   788191.00 798446.00 493065.00 900615.00 894859.00 931896.00 890094.00\n",
      "   858863.00 858455.00 893011.00 837724.00 842800.00 10.00 10.00\n",
      "   899804.00 834669.00 10.00 10.00 10.00 10.00 755902.00 854993.00 10.00\n",
      "   10.00 10.00 10.00 10.00 740886.00 10.00 785290.00 713857.00 745876.00\n",
      "   10.00 760319.00 10.00 10.00 730632.00 771162.00 801244.00 815505.00\n",
      "   805408.00 826317.00 838652.00 834386.00 10.00 629136.00 10.00\n",
      "   862202.00 10.00 10.00 10.00 686757.00 730456.00 10.00 10.00 10.00\n",
      "   10.00 10.00 807894.00 761263.00 10.00 981503.00 985376.00 958701.00\n",
      "   10.00 665748.00 10.00 760775.00 10.00 10.00 10.00 10.00 10.00\n",
      "   863317.00 10.00 10.00 10.00 481177.00 499981.00 466295.00 501815.00\n",
      "   10.00 10.00 10.00 10.00 10.00 10.00 712828.00 688431.00 674907.00\n",
      "   678649.00 636908.00 638112.00 651538.00 716705.00 770681.00 705021.00\n",
      "   824318.00 803037.00 841363.00 910571.00 903570.00 10.00 964707.00\n",
      "   10.00 10.00 10.00 10.00 10.00 10.00 817470.00 10.00 10.00 10.00\n",
      "   873049.00 10.00 10.00 848768.00 10.00 684395.00 837181.00 846577.00\n",
      "   837006.00 858684.00 829409.00 927835.00 774218.00 640319.00 673940.00\n",
      "   688823.00 702882.00 713664.00 705775.00 711286.00 723509.00 721318.00\n",
      "   705876.00 705321.00 758078.00 754431.00 769812.00 10.00 845577.00\n",
      "   10.00 10.00 10.00 10.00 10.00 10.00 10.00 10.00 10.00 972506.00\n",
      "   898425.00 887642.00 849789.00 884805.00 896596.00 868049.00 872973.00\n",
      "   10.00 10.00 10.00 10.00 10.00 10.00 10.00 10.00 10.00 10.00 10.00\n",
      "   10.00 10.00 10.00 10.00 878222.00 10.00]]\n",
      "\n",
      " [[261831.00 177290.00 146312.00 137803.00 84557.00 85299.00 122362.00\n",
      "   5.00 96062.00 5.00 5.00 5.00 5.00 5.00 183117.00 5.00 5.00 5.00 5.00\n",
      "   5.00 5.00 5.00 210319.00 5.00 5.00 5.00 5.00 5.00 5.00 5.00 5.00 5.00\n",
      "   5.00 5.00 5.00 5.00 270557.00 196740.00 5.00 5.00 161959.00 249558.00\n",
      "   230431.00 192695.00 5.00 5.00 28086.00 223451.00 225510.00 217888.00\n",
      "   63484.00 5.00 99165.00 5.00 5.00 5.00 120044.00 5.00 77250.00\n",
      "   69808.00 5.00 5.00 5.00 5.00 5.00 5.00 5.00 5.00 264034.00 5.00\n",
      "   211959.00 5.00 149887.00 106022.00 296949.00 5.00 5.00 172927.00\n",
      "   208485.00 174681.00 323124.00 226474.00 5.00 5.00 263081.00 5.00 5.00\n",
      "   5.00 296568.00 5.00 233598.00 5.00 384862.00 301017.00 202177.00\n",
      "   219648.00 220599.00 5.00 471491.00 272058.00 129141.00 5.00 5.00 5.00\n",
      "   5.00 176563.00 301172.00 155790.00 303557.00 367056.00 57536.00 5.00\n",
      "   5.00 5.00 5.00 5.00 5.00 5.00 5.00 5.00 5.00 5.00 5.00 5.00 5.00 5.00\n",
      "   196387.00 5.00 352767.00 192374.00 246204.00 298195.00 235114.00\n",
      "   267072.00 5.00 239504.00 107902.00 234187.00 5.00 192413.00 195698.00\n",
      "   5.00 272573.00 5.00 5.00 5.00 5.00 5.00 5.00 5.00 5.00 5.00 5.00 5.00\n",
      "   5.00 5.00 5.00 5.00 5.00 5.00 5.00 5.00 5.00 5.00 5.00 173848.00 5.00\n",
      "   234907.00 155382.00 146681.00 216429.00 227760.00 170181.00 475496.00\n",
      "   208259.00 193567.00 5.00 5.00 5.00 5.00 5.00 5.00 5.00 5.00 225769.00\n",
      "   161589.00 224425.00 165450.00 151120.00 193575.00 72489.00 119708.00\n",
      "   165763.00 187463.00 187191.00 154308.00 146394.00 159618.00 377217.00\n",
      "   5.00 172153.00]\n",
      "  [592868.00 698796.00 303979.00 313081.00 291717.00 289367.00 257982.00\n",
      "   5.00 439870.00 5.00 5.00 5.00 5.00 5.00 259857.00 5.00 5.00 5.00 5.00\n",
      "   5.00 5.00 5.00 543467.00 5.00 5.00 5.00 5.00 5.00 5.00 5.00 5.00 5.00\n",
      "   5.00 5.00 5.00 5.00 582290.00 833671.00 5.00 5.00 700445.00 530463.00\n",
      "   643130.00 790568.00 5.00 5.00 34621.00 761786.00 815995.00 584260.00\n",
      "   558391.00 5.00 653729.00 5.00 5.00 5.00 590336.00 5.00 735270.00\n",
      "   727266.00 5.00 5.00 5.00 5.00 5.00 5.00 5.00 5.00 555296.00 5.00\n",
      "   435225.00 5.00 363371.00 495352.00 649771.00 5.00 5.00 652942.00\n",
      "   740196.00 730266.00 859422.00 462828.00 5.00 5.00 594231.00 5.00 5.00\n",
      "   5.00 634767.00 5.00 630770.00 5.00 399928.00 659758.00 828104.00\n",
      "   558504.00 781259.00 5.00 480522.00 677487.00 374689.00 5.00 5.00 5.00\n",
      "   5.00 624981.00 306336.00 430489.00 843681.00 375584.00 619158.00 5.00\n",
      "   5.00 5.00 5.00 5.00 5.00 5.00 5.00 5.00 5.00 5.00 5.00 5.00 5.00 5.00\n",
      "   688744.00 5.00 755243.00 761477.00 675167.00 645456.00 648240.00\n",
      "   578780.00 5.00 630065.00 451448.00 485584.00 5.00 638335.00 696008.00\n",
      "   5.00 716937.00 5.00 5.00 5.00 5.00 5.00 5.00 5.00 5.00 5.00 5.00 5.00\n",
      "   5.00 5.00 5.00 5.00 5.00 5.00 5.00 5.00 5.00 5.00 5.00 629607.00 5.00\n",
      "   597811.00 565809.00 610256.00 537898.00 621743.00 690023.00 498442.00\n",
      "   772998.00 789291.00 5.00 5.00 5.00 5.00 5.00 5.00 5.00 5.00 602689.00\n",
      "   534933.00 613680.00 412022.00 434574.00 518669.00 668079.00 723596.00\n",
      "   572695.00 455708.00 444820.00 388173.00 400621.00 442075.00 441805.00\n",
      "   5.00 574553.00]]]\n"
     ]
    }
   ],
   "source": [
    "# theta_prior = np.array([[0.01, 10], [0.4, 10], [5, 5]])\n",
    "theta_prior = np.array([[0.1, 10], [5, 5]])\n",
    "res = vireo_flock(AD, DP, n_donor=3, learn_GT=True,\n",
    "                  n_extra_donor=0, ASE_mode=True,\n",
    "                  theta_prior=theta_prior, learn_theta=True,\n",
    "                  n_init=50, check_doublet=False, random_seed=1)"
   ]
  },
  {
   "cell_type": "code",
   "execution_count": 20,
   "metadata": {
    "execution": {
     "iopub.execute_input": "2021-01-29T12:09:02.674470Z",
     "iopub.status.busy": "2021-01-29T12:09:02.672058Z",
     "iopub.status.idle": "2021-01-29T12:09:02.839450Z",
     "shell.execute_reply": "2021-01-29T12:09:02.839967Z"
    },
    "papermill": {
     "duration": 0.219148,
     "end_time": "2021-01-29T12:09:02.840123",
     "exception": false,
     "start_time": "2021-01-29T12:09:02.620975",
     "status": "completed"
    },
    "tags": []
   },
   "outputs": [
    {
     "data": {
      "image/png": "[encoded data removed]",
      "text/plain": [
       "<Figure size 432x288 with 1 Axes>"
      ]
     },
     "metadata": {
      "needs_background": "light"
     },
     "output_type": "display_data"
    }
   ],
   "source": [
    "plt.plot(res['LB_list'])\n",
    "plt.xlabel(\"Iterations\")\n",
    "plt.ylabel(\"ELBO in a single run\")\n",
    "plt.show()"
   ]
  },
  {
   "cell_type": "raw",
   "metadata": {
    "papermill": {
     "duration": 0.037693,
     "end_time": "2021-01-29T12:09:02.916854",
     "exception": false,
     "start_time": "2021-01-29T12:09:02.879161",
     "status": "completed"
    },
    "tags": []
   },
   "source": [
    "## If ASE_mode is False\n",
    "AF_mean = res['theta_shapes'][:, 0] / np.sum(res['theta_shapes'], axis=1)\n",
    "AF_SNPs = np.tensordot(res['GT_prob'], AF_mean, axes=[2, 0])"
   ]
  },
  {
   "cell_type": "code",
   "execution_count": 21,
   "metadata": {
    "collapsed": true,
    "execution": {
     "iopub.execute_input": "2021-01-29T12:09:02.998650Z",
     "iopub.status.busy": "2021-01-29T12:09:02.998001Z",
     "iopub.status.idle": "2021-01-29T12:09:03.000785Z",
     "shell.execute_reply": "2021-01-29T12:09:03.001524Z"
    },
    "papermill": {
     "duration": 0.047865,
     "end_time": "2021-01-29T12:09:03.001746",
     "exception": false,
     "start_time": "2021-01-29T12:09:02.953881",
     "status": "completed"
    },
    "tags": []
   },
   "outputs": [],
   "source": [
    "## If ASE_mode is True\n",
    "AF_mean = res['theta_shapes'][:, 0] / np.sum(res['theta_shapes'], axis=1)\n",
    "\n",
    "_new_shape = (AF_mean.shape[1], 1, AF_mean.shape[0])\n",
    "AF_SNPs = np.sum(res['GT_prob'] * AF_mean.transpose().reshape(_new_shape), axis=2)"
   ]
  },
  {
   "cell_type": "code",
   "execution_count": 22,
   "metadata": {
    "execution": {
     "iopub.execute_input": "2021-01-29T12:09:03.097783Z",
     "iopub.status.busy": "2021-01-29T12:09:03.091693Z",
     "iopub.status.idle": "2021-01-29T12:09:03.662571Z",
     "shell.execute_reply": "2021-01-29T12:09:03.662013Z"
    },
    "papermill": {
     "duration": 0.622115,
     "end_time": "2021-01-29T12:09:03.662753",
     "exception": false,
     "start_time": "2021-01-29T12:09:03.040638",
     "status": "completed"
    },
    "tags": []
   },
   "outputs": [
    {
     "data": {
      "image/png": "[encoded data removed]",
      "text/plain": [
       "<Figure size 700x400 with 4 Axes>"
      ]
     },
     "metadata": {
      "needs_background": "light"
     },
     "output_type": "display_data"
    }
   ],
   "source": [
    "import matplotlib.pyplot as plt\n",
    "from vireoSNP.plot.base_plot import heat_matrix\n",
    "\n",
    "fig = plt.figure(figsize=(7, 4), dpi=100)\n",
    "plt.subplot(1, 2, 1)\n",
    "im = heat_matrix(res['ID_prob'], cmap=\"Oranges\", alpha=0.8,\n",
    "                 display_value=False, row_sort=True)\n",
    "plt.colorbar(im, fraction=0.046, pad=0.04)\n",
    "plt.title(\"Assignment probability\")\n",
    "plt.ylabel(\"%d cells\" %(res['ID_prob'].shape[0]))\n",
    "plt.xlabel(\"Clone\")\n",
    "plt.xticks([0, 1, 2])\n",
    "\n",
    "plt.subplot(1, 2, 2)\n",
    "im = heat_matrix(AF_SNPs, cmap=\"Blues\", alpha=0.8, \n",
    "                 display_value=False, row_sort=True)\n",
    "plt.colorbar(im, fraction=0.046, pad=0.04)\n",
    "plt.title(\"Mean allelic ratio\")\n",
    "plt.xlabel(\"Clone\")\n",
    "plt.ylabel(\"%d SNPs\" %(AF_SNPs.shape[0]))\n",
    "plt.xticks([0, 1, 2])\n",
    "plt.xlim(-0.5, 2.5)\n",
    "\n",
    "plt.tight_layout()\n",
    "plt.show()"
   ]
  },
  {
   "cell_type": "markdown",
   "metadata": {
    "collapsed": true,
    "papermill": {
     "duration": 0.044118,
     "end_time": "2021-01-29T12:09:03.747313",
     "exception": false,
     "start_time": "2021-01-29T12:09:03.703195",
     "status": "completed"
    },
    "tags": []
   },
   "source": [
    "## Plot K=4"
   ]
  },
  {
   "cell_type": "code",
   "execution_count": 23,
   "metadata": {
    "execution": {
     "iopub.execute_input": "2021-01-29T12:09:03.846875Z",
     "iopub.status.busy": "2021-01-29T12:09:03.846000Z",
     "iopub.status.idle": "2021-01-29T12:18:00.587716Z",
     "shell.execute_reply": "2021-01-29T12:18:00.588324Z"
    },
    "papermill": {
     "duration": 536.800936,
     "end_time": "2021-01-29T12:18:00.588578",
     "exception": false,
     "start_time": "2021-01-29T12:09:03.787642",
     "status": "completed"
    },
    "tags": []
   },
   "outputs": [
    {
     "data": {
      "image/png": "[encoded data removed]",
      "text/plain": [
       "<Figure size 700x400 with 4 Axes>"
      ]
     },
     "metadata": {
      "needs_background": "light"
     },
     "output_type": "display_data"
    }
   ],
   "source": [
    "np.random.seed(1)\n",
    "\n",
    "n_initials = 50\n",
    "_models_all = []\n",
    "for i in range(n_initials):\n",
    "    _modelCA = Vireo(n_var=AD_shape[0], n_cell=AD_shape[1], n_donor=4, n_GT=2,\n",
    "                     fix_beta_sum=False, ASE_mode=True)\n",
    "    _modelCA.set_prior(beta_mu_prior=np.array([[0.01, 0.5]]))\n",
    "    _modelCA.fit(AD, DP, min_iter=20, verbose=False, delay_fit_theta=0)\n",
    "    _models_all.append(_modelCA)\n",
    "    \n",
    "## Choose the model giving highest ELBO\n",
    "\n",
    "_idx = np.argmax([x.ELBO_[-1] for x in _models_all])\n",
    "modelCA = _models_all[_idx]\n",
    "_losses = modelCA.ELBO_\n",
    "\n",
    "\n",
    "import matplotlib.pyplot as plt\n",
    "from vireoSNP.plot.base_plot import heat_matrix\n",
    "\n",
    "fig = plt.figure(figsize=(7, 4), dpi=100)\n",
    "plt.subplot(1, 2, 1)\n",
    "im = heat_matrix(modelCA.ID_prob, cmap=\"Oranges\", alpha=0.8,\n",
    "                 display_value=False, row_sort=True)\n",
    "plt.colorbar(im, fraction=0.046, pad=0.04)\n",
    "plt.title(\"Assignment probability\")\n",
    "plt.xlabel(\"Clone\")\n",
    "plt.ylabel(\"%d cells\" %(modelCA.n_cell))\n",
    "plt.xticks(range(modelCA.n_donor))\n",
    "\n",
    "\n",
    "plt.subplot(1, 2, 2)\n",
    "AF_SNPs = np.sum(modelCA.GT_prob * \n",
    "                 np.expand_dims(modelCA.beta_mu, 1), axis=2)\n",
    "im = heat_matrix(AF_SNPs, cmap=\"Blues\", alpha=0.8, \n",
    "                 display_value=False, row_sort=True)\n",
    "plt.colorbar(im, fraction=0.046, pad=0.04)\n",
    "plt.title(\"Mean allelic ratio\")\n",
    "plt.xlabel(\"Clone\")\n",
    "plt.ylabel(\"%d SNPs\" %(modelCA.n_var))\n",
    "plt.xticks(range(modelCA.n_donor))\n",
    "\n",
    "plt.tight_layout()\n",
    "plt.show()"
   ]
  }
 ],
 "metadata": {
  "celltoolbar": "Tags",
  "kernelspec": {
   "display_name": "Python 3",
   "language": "python",
   "name": "python3"
  },
  "language_info": {
   "codemirror_mode": {
    "name": "ipython",
    "version": 3
   },
   "file_extension": ".py",
   "mimetype": "text/x-python",
   "name": "python",
   "nbconvert_exporter": "python",
   "pygments_lexer": "ipython3",
   "version": "3.7.3"
  },
  "papermill": {
   "default_parameters": {},
   "duration": 3528.442576,
   "end_time": "2021-01-29T12:18:00.939098",
   "environment_variables": {},
   "exception": null,
   "input_path": "/data2/mito_lineage/src/vireo/vireoSNP_clones.ipynb",
   "output_path": "results/jan21_2021/chrM/J2_cellSNP_minC200_minAF0.01/lineage_chrM.ipynb",
   "parameters": {
    "AD_F": "data/jan21_2021/chrM/J2_cellSNP_minC200_minAF0.01/cellSNP.tag.AD.mtx",
    "DP_F": "data/jan21_2021/chrM/J2_cellSNP_minC200_minAF0.01/cellSNP.tag.DP.mtx"
   },
   "start_time": "2021-01-29T11:19:12.496522",
   "version": "2.2.0"
  }
 },
 "nbformat": 4,
 "nbformat_minor": 4
}
