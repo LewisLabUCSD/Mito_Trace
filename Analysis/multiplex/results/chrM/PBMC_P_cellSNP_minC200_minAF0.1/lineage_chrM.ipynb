{
 "cells": [
  {
   "cell_type": "code",
   "execution_count": 1,
   "metadata": {
    "ExecuteTime": {
     "end_time": "2021-01-07T22:17:00.753670Z",
     "start_time": "2021-01-07T22:17:00.746914Z"
    },
    "execution": {
     "iopub.execute_input": "2021-01-13T20:56:37.876740Z",
     "iopub.status.busy": "2021-01-13T20:56:37.876060Z",
     "iopub.status.idle": "2021-01-13T20:56:37.879223Z",
     "shell.execute_reply": "2021-01-13T20:56:37.879725Z"
    },
    "papermill": {
     "duration": 0.14086,
     "end_time": "2021-01-13T20:56:37.879930",
     "exception": false,
     "start_time": "2021-01-13T20:56:37.739070",
     "status": "completed"
    },
    "tags": []
   },
   "outputs": [
    {
     "data": {
      "text/plain": [
       "'/data2/mito_lineage/Analysis/multiplex'"
      ]
     },
     "execution_count": 1,
     "metadata": {},
     "output_type": "execute_result"
    }
   ],
   "source": [
    "pwd"
   ]
  },
  {
   "cell_type": "code",
   "execution_count": 2,
   "metadata": {
    "collapsed": true,
    "execution": {
     "iopub.execute_input": "2021-01-13T20:56:37.933853Z",
     "iopub.status.busy": "2021-01-13T20:56:37.933196Z",
     "iopub.status.idle": "2021-01-13T20:56:37.935447Z",
     "shell.execute_reply": "2021-01-13T20:56:37.935963Z"
    },
    "papermill": {
     "duration": 0.030591,
     "end_time": "2021-01-13T20:56:37.936106",
     "exception": false,
     "start_time": "2021-01-13T20:56:37.905515",
     "status": "completed"
    },
    "tags": [
     "parameters"
    ]
   },
   "outputs": [],
   "source": [
    "AD_F = \"../data/mitoDNA/cellSNP.tag.AD.mtx\"\n",
    "DP_F = \"../data/mitoDNA/cellSNP.tag.DP.mtx\""
   ]
  },
  {
   "cell_type": "code",
   "execution_count": 3,
   "metadata": {
    "execution": {
     "iopub.execute_input": "2021-01-13T20:56:37.992167Z",
     "iopub.status.busy": "2021-01-13T20:56:37.991539Z",
     "iopub.status.idle": "2021-01-13T20:56:37.993900Z",
     "shell.execute_reply": "2021-01-13T20:56:37.994394Z"
    },
    "papermill": {
     "duration": 0.032111,
     "end_time": "2021-01-13T20:56:37.994540",
     "exception": false,
     "start_time": "2021-01-13T20:56:37.962429",
     "status": "completed"
    },
    "tags": [
     "injected-parameters"
    ]
   },
   "outputs": [],
   "source": [
    "# Parameters\n",
    "AD_F = \"data/chrM/PBMC_P_cellSNP_minC200_minAF0.1/cellSNP.tag.AD.mtx\"\n",
    "DP_F = \"data/chrM/PBMC_P_cellSNP_minC200_minAF0.1/cellSNP.tag.DP.mtx\"\n"
   ]
  },
  {
   "cell_type": "code",
   "execution_count": 4,
   "metadata": {
    "ExecuteTime": {
     "end_time": "2021-01-07T22:11:17.977334Z",
     "start_time": "2021-01-07T22:11:17.962011Z"
    },
    "execution": {
     "iopub.execute_input": "2021-01-13T20:56:38.049608Z",
     "iopub.status.busy": "2021-01-13T20:56:38.048986Z",
     "iopub.status.idle": "2021-01-13T20:56:38.051946Z",
     "shell.execute_reply": "2021-01-13T20:56:38.052439Z"
    },
    "papermill": {
     "duration": 0.032275,
     "end_time": "2021-01-13T20:56:38.052587",
     "exception": false,
     "start_time": "2021-01-13T20:56:38.020312",
     "status": "completed"
    },
    "tags": []
   },
   "outputs": [
    {
     "data": {
      "text/plain": [
       "'/data2/mito_lineage/Analysis/multiplex'"
      ]
     },
     "execution_count": 4,
     "metadata": {},
     "output_type": "execute_result"
    }
   ],
   "source": [
    "pwd"
   ]
  },
  {
   "cell_type": "markdown",
   "metadata": {
    "papermill": {
     "duration": 0.025407,
     "end_time": "2021-01-13T20:56:38.106145",
     "exception": false,
     "start_time": "2021-01-13T20:56:38.080738",
     "status": "completed"
    },
    "tags": []
   },
   "source": [
    "# Using vireo for clonal reconstruction - mitochondrial mutations"
   ]
  },
  {
   "cell_type": "markdown",
   "metadata": {
    "papermill": {
     "duration": 0.058247,
     "end_time": "2021-01-13T20:56:38.190094",
     "exception": false,
     "start_time": "2021-01-13T20:56:38.131847",
     "status": "completed"
    },
    "tags": []
   },
   "source": [
    "The mitochondrial mutations data set is extracted from [Ludwig et al, Cell, 2019](https://doi.org/10.1016/j.cell.2019.01.022), the 9 variants used here are from Supp Fig. 2F (and main Fig. 2F).\n",
    "\n",
    "For clonal reconstruction, we are using the core class `vireoSNP.Vireo` with multiple initializations"
   ]
  },
  {
   "cell_type": "code",
   "execution_count": 5,
   "metadata": {
    "execution": {
     "iopub.execute_input": "2021-01-13T20:56:38.257794Z",
     "iopub.status.busy": "2021-01-13T20:56:38.256581Z",
     "iopub.status.idle": "2021-01-13T20:56:38.976787Z",
     "shell.execute_reply": "2021-01-13T20:56:38.976232Z"
    },
    "papermill": {
     "duration": 0.759897,
     "end_time": "2021-01-13T20:56:38.976936",
     "exception": false,
     "start_time": "2021-01-13T20:56:38.217039",
     "status": "completed"
    },
    "tags": []
   },
   "outputs": [
    {
     "name": "stdout",
     "output_type": "stream",
     "text": [
      "0.4.2\n"
     ]
    }
   ],
   "source": [
    "import vireoSNP\n",
    "import numpy as np\n",
    "from scipy import sparse\n",
    "from scipy.io import mmread\n",
    "import matplotlib.pyplot as plt\n",
    "\n",
    "print(vireoSNP.__version__)"
   ]
  },
  {
   "cell_type": "code",
   "execution_count": 6,
   "metadata": {
    "collapsed": true,
    "execution": {
     "iopub.execute_input": "2021-01-13T20:56:39.034890Z",
     "iopub.status.busy": "2021-01-13T20:56:39.034208Z",
     "iopub.status.idle": "2021-01-13T20:56:39.036575Z",
     "shell.execute_reply": "2021-01-13T20:56:39.037069Z"
    },
    "papermill": {
     "duration": 0.033803,
     "end_time": "2021-01-13T20:56:39.037218",
     "exception": false,
     "start_time": "2021-01-13T20:56:39.003415",
     "status": "completed"
    },
    "tags": []
   },
   "outputs": [],
   "source": [
    "np.set_printoptions(formatter={'float': lambda x: format(x, '.5f')})"
   ]
  },
  {
   "cell_type": "code",
   "execution_count": 7,
   "metadata": {
    "collapsed": true,
    "execution": {
     "iopub.execute_input": "2021-01-13T20:56:39.093936Z",
     "iopub.status.busy": "2021-01-13T20:56:39.093263Z",
     "iopub.status.idle": "2021-01-13T20:56:39.114714Z",
     "shell.execute_reply": "2021-01-13T20:56:39.115234Z"
    },
    "papermill": {
     "duration": 0.052155,
     "end_time": "2021-01-13T20:56:39.115377",
     "exception": false,
     "start_time": "2021-01-13T20:56:39.063222",
     "status": "completed"
    },
    "tags": []
   },
   "outputs": [],
   "source": [
    "AD = mmread(AD_F).tocsc()\n",
    "DP = mmread(DP_F).tocsc()"
   ]
  },
  {
   "cell_type": "code",
   "execution_count": 8,
   "metadata": {
    "execution": {
     "iopub.execute_input": "2021-01-13T20:56:39.173118Z",
     "iopub.status.busy": "2021-01-13T20:56:39.172463Z",
     "iopub.status.idle": "2021-01-13T20:56:39.175276Z",
     "shell.execute_reply": "2021-01-13T20:56:39.174761Z"
    },
    "papermill": {
     "duration": 0.033381,
     "end_time": "2021-01-13T20:56:39.175405",
     "exception": false,
     "start_time": "2021-01-13T20:56:39.142024",
     "status": "completed"
    },
    "tags": []
   },
   "outputs": [],
   "source": [
    "AD_shape = AD.todense().shape"
   ]
  },
  {
   "cell_type": "markdown",
   "metadata": {
    "papermill": {
     "duration": 0.026523,
     "end_time": "2021-01-13T20:56:39.228938",
     "exception": false,
     "start_time": "2021-01-13T20:56:39.202415",
     "status": "completed"
    },
    "tags": []
   },
   "source": [
    "## New implementation in v0.3.0"
   ]
  },
  {
   "cell_type": "code",
   "execution_count": 9,
   "metadata": {
    "collapsed": true,
    "execution": {
     "iopub.execute_input": "2021-01-13T20:56:39.286920Z",
     "iopub.status.busy": "2021-01-13T20:56:39.286286Z",
     "iopub.status.idle": "2021-01-13T20:56:39.289244Z",
     "shell.execute_reply": "2021-01-13T20:56:39.288585Z"
    },
    "papermill": {
     "duration": 0.033784,
     "end_time": "2021-01-13T20:56:39.289367",
     "exception": false,
     "start_time": "2021-01-13T20:56:39.255583",
     "status": "completed"
    },
    "tags": []
   },
   "outputs": [],
   "source": [
    "from vireoSNP import Vireo"
   ]
  },
  {
   "cell_type": "markdown",
   "metadata": {
    "papermill": {
     "duration": 0.028417,
     "end_time": "2021-01-13T20:56:39.344595",
     "exception": false,
     "start_time": "2021-01-13T20:56:39.316178",
     "status": "completed"
    },
    "tags": []
   },
   "source": [
    "Note, there are a few key parameters:\n",
    "\n",
    "* `n_donor`: it means number of clones here, but you need to determine yourself. You can choose the one with highest ELBO (see next section)\n",
    "* `n_GT`: number of different genotype. For somatic mutations, we could assume that there are only two, namely present or absent\n",
    "* `is_theta_ASE`: whether allelic ratio is variant specific. For mitochondrial mutations, we choose True as allelic ratio can different from variant to variant"
   ]
  },
  {
   "cell_type": "markdown",
   "metadata": {
    "papermill": {
     "duration": 0.02732,
     "end_time": "2021-01-13T20:56:39.399523",
     "exception": false,
     "start_time": "2021-01-13T20:56:39.372203",
     "status": "completed"
    },
    "tags": []
   },
   "source": [
    "### Multiple initialization is needed to avoid local optima"
   ]
  },
  {
   "cell_type": "code",
   "execution_count": 10,
   "metadata": {
    "collapsed": true,
    "execution": {
     "iopub.execute_input": "2021-01-13T20:56:39.463500Z",
     "iopub.status.busy": "2021-01-13T20:56:39.462819Z",
     "iopub.status.idle": "2021-01-13T20:56:56.034043Z",
     "shell.execute_reply": "2021-01-13T20:56:56.034533Z"
    },
    "papermill": {
     "duration": 16.606571,
     "end_time": "2021-01-13T20:56:56.034752",
     "exception": false,
     "start_time": "2021-01-13T20:56:39.428181",
     "status": "completed"
    },
    "tags": []
   },
   "outputs": [],
   "source": [
    "np.random.seed(1)\n",
    "\n",
    "n_initials = 50\n",
    "_models_all = []\n",
    "for i in range(n_initials):\n",
    "    _modelCA = Vireo(n_var=AD_shape[0], n_cell=AD_shape[1], n_donor=3, n_GT=2,\n",
    "                     fix_beta_sum=False, ASE_mode=True)\n",
    "    _modelCA.set_prior(beta_mu_prior=np.array([[0.01, 0.5]]))\n",
    "    _modelCA.fit(AD, DP, min_iter=20, verbose=False, delay_fit_theta=0)\n",
    "    _models_all.append(_modelCA)"
   ]
  },
  {
   "cell_type": "code",
   "execution_count": 11,
   "metadata": {
    "collapsed": true,
    "execution": {
     "iopub.execute_input": "2021-01-13T20:56:56.093879Z",
     "iopub.status.busy": "2021-01-13T20:56:56.093251Z",
     "iopub.status.idle": "2021-01-13T20:56:56.095869Z",
     "shell.execute_reply": "2021-01-13T20:56:56.095383Z"
    },
    "papermill": {
     "duration": 0.034035,
     "end_time": "2021-01-13T20:56:56.095990",
     "exception": false,
     "start_time": "2021-01-13T20:56:56.061955",
     "status": "completed"
    },
    "tags": []
   },
   "outputs": [],
   "source": [
    "## Choose the model giving highest ELBO\n",
    "\n",
    "_idx = np.argmax([x.ELBO_[-1] for x in _models_all])\n",
    "modelCA = _models_all[_idx]\n",
    "_losses = modelCA.ELBO_"
   ]
  },
  {
   "cell_type": "code",
   "execution_count": 12,
   "metadata": {
    "execution": {
     "iopub.execute_input": "2021-01-13T20:56:56.165113Z",
     "iopub.status.busy": "2021-01-13T20:56:56.162968Z",
     "iopub.status.idle": "2021-01-13T20:56:56.533267Z",
     "shell.execute_reply": "2021-01-13T20:56:56.533750Z"
    },
    "papermill": {
     "duration": 0.411327,
     "end_time": "2021-01-13T20:56:56.533922",
     "exception": false,
     "start_time": "2021-01-13T20:56:56.122595",
     "status": "completed"
    },
    "tags": []
   },
   "outputs": [
    {
     "data": {
      "image/png": "[encoded data removed]",
      "text/plain": [
       "<Figure size 792x288 with 2 Axes>"
      ]
     },
     "metadata": {
      "needs_background": "light"
     },
     "output_type": "display_data"
    }
   ],
   "source": [
    "fig = plt.figure(figsize=(11, 4))\n",
    "plt.subplot(1, 2, 1)\n",
    "plt.hist([x.ELBO_[-1] for x in _models_all])\n",
    "plt.ylabel(\"Frequency\")\n",
    "plt.xlabel(\"ELBO with multiple initializations\")\n",
    "\n",
    "plt.subplot(1, 2, 2)\n",
    "plt.plot(_losses)\n",
    "plt.xlabel(\"Iterations\")\n",
    "plt.ylabel(\"ELBO in a single run\")\n",
    "\n",
    "plt.tight_layout()\n",
    "plt.show()"
   ]
  },
  {
   "cell_type": "code",
   "execution_count": 13,
   "metadata": {
    "execution": {
     "iopub.execute_input": "2021-01-13T20:56:56.593465Z",
     "iopub.status.busy": "2021-01-13T20:56:56.592818Z",
     "iopub.status.idle": "2021-01-13T20:56:56.595663Z",
     "shell.execute_reply": "2021-01-13T20:56:56.596128Z"
    },
    "papermill": {
     "duration": 0.034228,
     "end_time": "2021-01-13T20:56:56.596267",
     "exception": false,
     "start_time": "2021-01-13T20:56:56.562039",
     "status": "completed"
    },
    "tags": []
   },
   "outputs": [
    {
     "name": "stdout",
     "output_type": "stream",
     "text": [
      "[[0.19674 0.25105]\n",
      " [0.02874 0.30429]\n",
      " [0.02271 0.51600]\n",
      " [0.16240 0.17170]\n",
      " [0.22116 0.22833]\n",
      " [0.20630 0.21596]\n",
      " [0.14012 0.50000]\n",
      " [0.12699 0.50000]]\n",
      "[[1947.07472 4482.92528]\n",
      " [1156.13769 654.86231]\n",
      " [280.16590 544.83410]\n",
      " [4436.08375 2836.91625]\n",
      " [4149.12970 4063.87030]\n",
      " [3765.06108 3818.93892]\n",
      " [7861.00000 50.00000]\n",
      " [7839.00000 50.00000]]\n"
     ]
    }
   ],
   "source": [
    "print(modelCA.beta_mu),\n",
    "print(modelCA.beta_sum)"
   ]
  },
  {
   "cell_type": "code",
   "execution_count": 14,
   "metadata": {
    "execution": {
     "iopub.execute_input": "2021-01-13T20:56:56.668508Z",
     "iopub.status.busy": "2021-01-13T20:56:56.667094Z",
     "iopub.status.idle": "2021-01-13T20:56:57.182155Z",
     "shell.execute_reply": "2021-01-13T20:56:57.182664Z"
    },
    "papermill": {
     "duration": 0.55876,
     "end_time": "2021-01-13T20:56:57.182864",
     "exception": false,
     "start_time": "2021-01-13T20:56:56.624104",
     "status": "completed"
    },
    "tags": []
   },
   "outputs": [
    {
     "data": {
      "image/png": "[encoded data removed]",
      "text/plain": [
       "<Figure size 700x400 with 4 Axes>"
      ]
     },
     "metadata": {
      "needs_background": "light"
     },
     "output_type": "display_data"
    }
   ],
   "source": [
    "import matplotlib.pyplot as plt\n",
    "from vireoSNP.plot.base_plot import heat_matrix\n",
    "\n",
    "fig = plt.figure(figsize=(7, 4), dpi=100)\n",
    "plt.subplot(1, 2, 1)\n",
    "im = heat_matrix(modelCA.ID_prob, cmap=\"Oranges\", alpha=0.8,\n",
    "                 display_value=False, row_sort=True)\n",
    "plt.colorbar(im, fraction=0.046, pad=0.04)\n",
    "plt.title(\"Assignment probability\")\n",
    "plt.xlabel(\"Clone\")\n",
    "plt.ylabel(\"%d cells\" %(modelCA.n_cell))\n",
    "plt.xticks(range(modelCA.n_donor))\n",
    "\n",
    "\n",
    "plt.subplot(1, 2, 2)\n",
    "AF_SNPs = np.sum(modelCA.GT_prob * \n",
    "                 np.expand_dims(modelCA.beta_mu, 1), axis=2)\n",
    "im = heat_matrix(AF_SNPs, cmap=\"Blues\", alpha=0.8, \n",
    "                 display_value=False, row_sort=True)\n",
    "plt.colorbar(im, fraction=0.046, pad=0.04)\n",
    "plt.title(\"Mean allelic ratio\")\n",
    "plt.xlabel(\"Clone\")\n",
    "plt.ylabel(\"%d SNPs\" %(modelCA.n_var))\n",
    "plt.xticks(range(modelCA.n_donor))\n",
    "\n",
    "plt.tight_layout()\n",
    "plt.show()"
   ]
  },
  {
   "cell_type": "code",
   "execution_count": 15,
   "metadata": {
    "execution": {
     "iopub.execute_input": "2021-01-13T20:56:57.248863Z",
     "iopub.status.busy": "2021-01-13T20:56:57.248240Z",
     "iopub.status.idle": "2021-01-13T20:56:57.254776Z",
     "shell.execute_reply": "2021-01-13T20:56:57.255279Z"
    },
    "papermill": {
     "duration": 0.042009,
     "end_time": "2021-01-13T20:56:57.255429",
     "exception": false,
     "start_time": "2021-01-13T20:56:57.213420",
     "status": "completed"
    },
    "tags": []
   },
   "outputs": [
    {
     "data": {
      "text/plain": [
       "4.5257820590786935"
      ]
     },
     "execution_count": 15,
     "metadata": {},
     "output_type": "execute_result"
    }
   ],
   "source": [
    "np.sum(modelCA.predict_doublet(AD, DP)[0])"
   ]
  },
  {
   "cell_type": "code",
   "execution_count": null,
   "metadata": {
    "collapsed": true,
    "papermill": {
     "duration": 0.030479,
     "end_time": "2021-01-13T20:56:57.317331",
     "exception": false,
     "start_time": "2021-01-13T20:56:57.286852",
     "status": "completed"
    },
    "tags": []
   },
   "outputs": [],
   "source": []
  },
  {
   "cell_type": "markdown",
   "metadata": {
    "papermill": {
     "duration": 0.03649,
     "end_time": "2021-01-13T20:56:57.383497",
     "exception": false,
     "start_time": "2021-01-13T20:56:57.347007",
     "status": "completed"
    },
    "tags": []
   },
   "source": [
    "### Choose the number of clones\n",
    "We can choose the number of clones where ELBO stops increasing. Here, the best number of clone is 3.\n",
    "\n",
    "Note, for a certain number of clone, e.g., n_clone=3, the ELBO may not the same for multiple initializations. This is becaused VI can only guarantee a local optima, so please choose the highest ELBO for each `n_clone` to represent its \"global\" optima."
   ]
  },
  {
   "cell_type": "code",
   "execution_count": 16,
   "metadata": {
    "collapsed": true,
    "execution": {
     "iopub.execute_input": "2021-01-13T20:56:57.453890Z",
     "iopub.status.busy": "2021-01-13T20:56:57.453246Z",
     "iopub.status.idle": "2021-01-13T20:57:31.317628Z",
     "shell.execute_reply": "2021-01-13T20:57:31.318244Z"
    },
    "papermill": {
     "duration": 33.903015,
     "end_time": "2021-01-13T20:57:31.318531",
     "exception": false,
     "start_time": "2021-01-13T20:56:57.415516",
     "status": "completed"
    },
    "tags": []
   },
   "outputs": [],
   "source": [
    "n_initials = 50\n",
    "n_clone_list = np.arange(2, 6)\n",
    "\n",
    "_ELBO_mat = [] \n",
    "for k in n_clone_list:\n",
    "    _elbo_temp = []\n",
    "    for i in range(50):\n",
    "        _modelCA = Vireo(n_var=AD_shape[0], n_cell=AD_shape[1], n_donor=k, n_GT=2,\n",
    "                         fix_beta_sum=False, ASE_mode=True)\n",
    "        _modelCA.set_prior(beta_mu_prior=np.array([[0.01, 0.5]]))\n",
    "        _modelCA.fit(AD, DP, min_iter=20, verbose=False)\n",
    "        _elbo_temp.append(_modelCA.ELBO_[-1])\n",
    "    _ELBO_mat.append(_elbo_temp)"
   ]
  },
  {
   "cell_type": "code",
   "execution_count": 17,
   "metadata": {
    "execution": {
     "iopub.execute_input": "2021-01-13T20:57:31.397382Z",
     "iopub.status.busy": "2021-01-13T20:57:31.396472Z",
     "iopub.status.idle": "2021-01-13T20:57:31.585684Z",
     "shell.execute_reply": "2021-01-13T20:57:31.586169Z"
    },
    "papermill": {
     "duration": 0.234062,
     "end_time": "2021-01-13T20:57:31.586318",
     "exception": false,
     "start_time": "2021-01-13T20:57:31.352256",
     "status": "completed"
    },
    "tags": []
   },
   "outputs": [
    {
     "data": {
      "image/png": "[encoded data removed]",
      "text/plain": [
       "<Figure size 432x288 with 1 Axes>"
      ]
     },
     "metadata": {
      "needs_background": "light"
     },
     "output_type": "display_data"
    }
   ],
   "source": [
    "plt.plot([1, 2, 3, 4], np.max(_ELBO_mat, axis=1))\n",
    "plt.boxplot(_ELBO_mat)\n",
    "plt.xticks(n_clone_list - 1, n_clone_list)\n",
    "plt.ylabel(\"ELBO\")\n",
    "plt.xlabel(\"n_clones\")\n",
    "plt.show()"
   ]
  },
  {
   "cell_type": "code",
   "execution_count": null,
   "metadata": {
    "collapsed": true,
    "papermill": {
     "duration": 0.032888,
     "end_time": "2021-01-13T20:57:31.652279",
     "exception": false,
     "start_time": "2021-01-13T20:57:31.619391",
     "status": "completed"
    },
    "tags": []
   },
   "outputs": [],
   "source": []
  },
  {
   "cell_type": "code",
   "execution_count": null,
   "metadata": {
    "collapsed": true,
    "papermill": {
     "duration": 0.03329,
     "end_time": "2021-01-13T20:57:31.719098",
     "exception": false,
     "start_time": "2021-01-13T20:57:31.685808",
     "status": "completed"
    },
    "tags": []
   },
   "outputs": [],
   "source": []
  },
  {
   "cell_type": "code",
   "execution_count": null,
   "metadata": {
    "collapsed": true,
    "papermill": {
     "duration": 0.030586,
     "end_time": "2021-01-13T20:57:31.781926",
     "exception": false,
     "start_time": "2021-01-13T20:57:31.751340",
     "status": "completed"
    },
    "tags": []
   },
   "outputs": [],
   "source": []
  },
  {
   "cell_type": "markdown",
   "metadata": {
    "papermill": {
     "duration": 0.02948,
     "end_time": "2021-01-13T20:57:31.842139",
     "exception": false,
     "start_time": "2021-01-13T20:57:31.812659",
     "status": "completed"
    },
    "tags": []
   },
   "source": [
    "### Old version\n",
    "\n",
    "The old version seem more likely to end up at local optima in this data set."
   ]
  },
  {
   "cell_type": "code",
   "execution_count": 18,
   "metadata": {
    "collapsed": true,
    "execution": {
     "iopub.execute_input": "2021-01-13T20:57:31.909255Z",
     "iopub.status.busy": "2021-01-13T20:57:31.908272Z",
     "iopub.status.idle": "2021-01-13T20:57:31.911533Z",
     "shell.execute_reply": "2021-01-13T20:57:31.912028Z"
    },
    "papermill": {
     "duration": 0.038316,
     "end_time": "2021-01-13T20:57:31.912167",
     "exception": false,
     "start_time": "2021-01-13T20:57:31.873851",
     "status": "completed"
    },
    "tags": []
   },
   "outputs": [],
   "source": [
    "from vireoSNP.utils.vireo_wrap_v02 import vireo_flock"
   ]
  },
  {
   "cell_type": "code",
   "execution_count": 19,
   "metadata": {
    "execution": {
     "iopub.execute_input": "2021-01-13T20:57:31.980832Z",
     "iopub.status.busy": "2021-01-13T20:57:31.980216Z",
     "iopub.status.idle": "2021-01-13T20:57:32.871457Z",
     "shell.execute_reply": "2021-01-13T20:57:32.870868Z"
    },
    "papermill": {
     "duration": 0.927161,
     "end_time": "2021-01-13T20:57:32.871624",
     "exception": false,
     "start_time": "2021-01-13T20:57:31.944463",
     "status": "completed"
    },
    "tags": []
   },
   "outputs": [
    {
     "name": "stdout",
     "output_type": "stream",
     "text": [
      "[vireo] warm-up: 50 random initializations for 3 clusters...\n"
     ]
    },
    {
     "name": "stdout",
     "output_type": "stream",
     "text": [
      "[vireo] donor size with searching extra 0 donors:\n",
      "donor0\tdonor1\tdonor2\n",
      "221\t221\t221\n",
      "[vireo] warm-up: lower bound ranges [-22033.3, -22033.3, -22033.3]\n",
      "[vireo] main RUN with warm initials and tuned GT ...\n",
      "[vireo] main RUN: 22 iterations; lower bound -22033.3\n",
      "[vireo] beta parameters for binomial rate:\n",
      "[[[0.10 0.10 0.10 0.10 0.10 0.10 0.10 0.10]\n",
      "  [10.00 10.00 10.00 10.00 10.00 10.00 10.00 10.00]]\n",
      "\n",
      " [[1488.00 212.00 267.00 1187.00 1825.00 1581.00 1106.00 1000.00]\n",
      "  [4852.00 1509.00 468.00 5996.00 6298.00 5913.00 6715.00 6799.00]]]\n"
     ]
    }
   ],
   "source": [
    "# theta_prior = np.array([[0.01, 10], [0.4, 10], [5, 5]])\n",
    "theta_prior = np.array([[0.1, 10], [5, 5]])\n",
    "res = vireo_flock(AD, DP, n_donor=3, learn_GT=True,\n",
    "                  n_extra_donor=0, ASE_mode=True,\n",
    "                  theta_prior=theta_prior, learn_theta=True,\n",
    "                  n_init=50, check_doublet=False, random_seed=1)"
   ]
  },
  {
   "cell_type": "code",
   "execution_count": 20,
   "metadata": {
    "execution": {
     "iopub.execute_input": "2021-01-13T20:57:32.951033Z",
     "iopub.status.busy": "2021-01-13T20:57:32.949889Z",
     "iopub.status.idle": "2021-01-13T20:57:33.106374Z",
     "shell.execute_reply": "2021-01-13T20:57:33.106936Z"
    },
    "papermill": {
     "duration": 0.199833,
     "end_time": "2021-01-13T20:57:33.107143",
     "exception": false,
     "start_time": "2021-01-13T20:57:32.907310",
     "status": "completed"
    },
    "tags": []
   },
   "outputs": [
    {
     "data": {
      "image/png": "[encoded data removed]",
      "text/plain": [
       "<Figure size 432x288 with 1 Axes>"
      ]
     },
     "metadata": {
      "needs_background": "light"
     },
     "output_type": "display_data"
    }
   ],
   "source": [
    "plt.plot(res['LB_list'])\n",
    "plt.xlabel(\"Iterations\")\n",
    "plt.ylabel(\"ELBO in a single run\")\n",
    "plt.show()"
   ]
  },
  {
   "cell_type": "raw",
   "metadata": {
    "papermill": {
     "duration": 0.034912,
     "end_time": "2021-01-13T20:57:33.176745",
     "exception": false,
     "start_time": "2021-01-13T20:57:33.141833",
     "status": "completed"
    },
    "tags": []
   },
   "source": [
    "## If ASE_mode is False\n",
    "AF_mean = res['theta_shapes'][:, 0] / np.sum(res['theta_shapes'], axis=1)\n",
    "AF_SNPs = np.tensordot(res['GT_prob'], AF_mean, axes=[2, 0])"
   ]
  },
  {
   "cell_type": "code",
   "execution_count": 21,
   "metadata": {
    "collapsed": true,
    "execution": {
     "iopub.execute_input": "2021-01-13T20:57:33.249380Z",
     "iopub.status.busy": "2021-01-13T20:57:33.248759Z",
     "iopub.status.idle": "2021-01-13T20:57:33.250863Z",
     "shell.execute_reply": "2021-01-13T20:57:33.251351Z"
    },
    "papermill": {
     "duration": 0.04138,
     "end_time": "2021-01-13T20:57:33.251501",
     "exception": false,
     "start_time": "2021-01-13T20:57:33.210121",
     "status": "completed"
    },
    "tags": []
   },
   "outputs": [],
   "source": [
    "## If ASE_mode is True\n",
    "AF_mean = res['theta_shapes'][:, 0] / np.sum(res['theta_shapes'], axis=1)\n",
    "\n",
    "_new_shape = (AF_mean.shape[1], 1, AF_mean.shape[0])\n",
    "AF_SNPs = np.sum(res['GT_prob'] * AF_mean.transpose().reshape(_new_shape), axis=2)"
   ]
  },
  {
   "cell_type": "code",
   "execution_count": 22,
   "metadata": {
    "execution": {
     "iopub.execute_input": "2021-01-13T20:57:33.335796Z",
     "iopub.status.busy": "2021-01-13T20:57:33.333750Z",
     "iopub.status.idle": "2021-01-13T20:57:33.815211Z",
     "shell.execute_reply": "2021-01-13T20:57:33.815723Z"
    },
    "papermill": {
     "duration": 0.529392,
     "end_time": "2021-01-13T20:57:33.815903",
     "exception": false,
     "start_time": "2021-01-13T20:57:33.286511",
     "status": "completed"
    },
    "tags": []
   },
   "outputs": [
    {
     "data": {
      "image/png": "[encoded data removed]",
      "text/plain": [
       "<Figure size 700x400 with 4 Axes>"
      ]
     },
     "metadata": {
      "needs_background": "light"
     },
     "output_type": "display_data"
    }
   ],
   "source": [
    "import matplotlib.pyplot as plt\n",
    "from vireoSNP.plot.base_plot import heat_matrix\n",
    "\n",
    "fig = plt.figure(figsize=(7, 4), dpi=100)\n",
    "plt.subplot(1, 2, 1)\n",
    "im = heat_matrix(res['ID_prob'], cmap=\"Oranges\", alpha=0.8,\n",
    "                 display_value=False, row_sort=True)\n",
    "plt.colorbar(im, fraction=0.046, pad=0.04)\n",
    "plt.title(\"Assignment probability\")\n",
    "plt.ylabel(\"%d cells\" %(res['ID_prob'].shape[0]))\n",
    "plt.xlabel(\"Clone\")\n",
    "plt.xticks([0, 1, 2])\n",
    "\n",
    "plt.subplot(1, 2, 2)\n",
    "im = heat_matrix(AF_SNPs, cmap=\"Blues\", alpha=0.8, \n",
    "                 display_value=False, row_sort=True)\n",
    "plt.colorbar(im, fraction=0.046, pad=0.04)\n",
    "plt.title(\"Mean allelic ratio\")\n",
    "plt.xlabel(\"Clone\")\n",
    "plt.ylabel(\"%d SNPs\" %(AF_SNPs.shape[0]))\n",
    "plt.xticks([0, 1, 2])\n",
    "plt.xlim(-0.5, 2.5)\n",
    "\n",
    "plt.tight_layout()\n",
    "plt.show()"
   ]
  },
  {
   "cell_type": "markdown",
   "metadata": {
    "collapsed": true,
    "papermill": {
     "duration": 0.035563,
     "end_time": "2021-01-13T20:57:33.887247",
     "exception": false,
     "start_time": "2021-01-13T20:57:33.851684",
     "status": "completed"
    },
    "tags": []
   },
   "source": [
    "## Plot K=4"
   ]
  },
  {
   "cell_type": "code",
   "execution_count": 23,
   "metadata": {
    "execution": {
     "iopub.execute_input": "2021-01-13T20:57:33.973732Z",
     "iopub.status.busy": "2021-01-13T20:57:33.972992Z",
     "iopub.status.idle": "2021-01-13T20:57:39.714243Z",
     "shell.execute_reply": "2021-01-13T20:57:39.714715Z"
    },
    "papermill": {
     "duration": 5.792651,
     "end_time": "2021-01-13T20:57:39.714940",
     "exception": false,
     "start_time": "2021-01-13T20:57:33.922289",
     "status": "completed"
    },
    "tags": []
   },
   "outputs": [
    {
     "data": {
      "image/png": "[encoded data removed]",
      "text/plain": [
       "<Figure size 700x400 with 4 Axes>"
      ]
     },
     "metadata": {
      "needs_background": "light"
     },
     "output_type": "display_data"
    }
   ],
   "source": [
    "np.random.seed(1)\n",
    "\n",
    "n_initials = 50\n",
    "_models_all = []\n",
    "for i in range(n_initials):\n",
    "    _modelCA = Vireo(n_var=AD_shape[0], n_cell=AD_shape[1], n_donor=4, n_GT=2,\n",
    "                     fix_beta_sum=False, ASE_mode=True)\n",
    "    _modelCA.set_prior(beta_mu_prior=np.array([[0.01, 0.5]]))\n",
    "    _modelCA.fit(AD, DP, min_iter=20, verbose=False, delay_fit_theta=0)\n",
    "    _models_all.append(_modelCA)\n",
    "    \n",
    "## Choose the model giving highest ELBO\n",
    "\n",
    "_idx = np.argmax([x.ELBO_[-1] for x in _models_all])\n",
    "modelCA = _models_all[_idx]\n",
    "_losses = modelCA.ELBO_\n",
    "\n",
    "\n",
    "import matplotlib.pyplot as plt\n",
    "from vireoSNP.plot.base_plot import heat_matrix\n",
    "\n",
    "fig = plt.figure(figsize=(7, 4), dpi=100)\n",
    "plt.subplot(1, 2, 1)\n",
    "im = heat_matrix(modelCA.ID_prob, cmap=\"Oranges\", alpha=0.8,\n",
    "                 display_value=False, row_sort=True)\n",
    "plt.colorbar(im, fraction=0.046, pad=0.04)\n",
    "plt.title(\"Assignment probability\")\n",
    "plt.xlabel(\"Clone\")\n",
    "plt.ylabel(\"%d cells\" %(modelCA.n_cell))\n",
    "plt.xticks(range(modelCA.n_donor))\n",
    "\n",
    "\n",
    "plt.subplot(1, 2, 2)\n",
    "AF_SNPs = np.sum(modelCA.GT_prob * \n",
    "                 np.expand_dims(modelCA.beta_mu, 1), axis=2)\n",
    "im = heat_matrix(AF_SNPs, cmap=\"Blues\", alpha=0.8, \n",
    "                 display_value=False, row_sort=True)\n",
    "plt.colorbar(im, fraction=0.046, pad=0.04)\n",
    "plt.title(\"Mean allelic ratio\")\n",
    "plt.xlabel(\"Clone\")\n",
    "plt.ylabel(\"%d SNPs\" %(modelCA.n_var))\n",
    "plt.xticks(range(modelCA.n_donor))\n",
    "\n",
    "plt.tight_layout()\n",
    "plt.show()"
   ]
  }
 ],
 "metadata": {
  "celltoolbar": "Tags",
  "kernelspec": {
   "display_name": "Python 3",
   "language": "python",
   "name": "python3"
  },
  "language_info": {
   "codemirror_mode": {
    "name": "ipython",
    "version": 3
   },
   "file_extension": ".py",
   "mimetype": "text/x-python",
   "name": "python",
   "nbconvert_exporter": "python",
   "pygments_lexer": "ipython3",
   "version": "3.7.3"
  },
  "papermill": {
   "default_parameters": {},
   "duration": 63.020635,
   "end_time": "2021-01-13T20:57:40.059121",
   "environment_variables": {},
   "exception": null,
   "input_path": "/data2/mito_lineage/src/vireo/vireoSNP_clones.ipynb",
   "output_path": "results/chrM/PBMC_P_cellSNP_minC200_minAF0.1/lineage_chrM.ipynb",
   "parameters": {
    "AD_F": "data/chrM/PBMC_P_cellSNP_minC200_minAF0.1/cellSNP.tag.AD.mtx",
    "DP_F": "data/chrM/PBMC_P_cellSNP_minC200_minAF0.1/cellSNP.tag.DP.mtx"
   },
   "start_time": "2021-01-13T20:56:37.038486",
   "version": "2.2.0"
  }
 },
 "nbformat": 4,
 "nbformat_minor": 4
}