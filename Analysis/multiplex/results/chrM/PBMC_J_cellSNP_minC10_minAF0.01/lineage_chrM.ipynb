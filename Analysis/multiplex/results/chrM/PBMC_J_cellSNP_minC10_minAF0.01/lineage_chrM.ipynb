{
 "cells": [
  {
   "cell_type": "code",
   "execution_count": 1,
   "metadata": {
    "ExecuteTime": {
     "end_time": "2021-01-07T22:17:00.753670Z",
     "start_time": "2021-01-07T22:17:00.746914Z"
    },
    "execution": {
     "iopub.execute_input": "2021-01-14T00:39:36.227595Z",
     "iopub.status.busy": "2021-01-14T00:39:36.226893Z",
     "iopub.status.idle": "2021-01-14T00:39:36.230106Z",
     "shell.execute_reply": "2021-01-14T00:39:36.229494Z"
    },
    "papermill": {
     "duration": 0.041108,
     "end_time": "2021-01-14T00:39:36.230292",
     "exception": false,
     "start_time": "2021-01-14T00:39:36.189184",
     "status": "completed"
    },
    "tags": []
   },
   "outputs": [
    {
     "data": {
      "text/plain": [
       "'/data2/mito_lineage/Analysis/multiplex'"
      ]
     },
     "execution_count": 1,
     "metadata": {},
     "output_type": "execute_result"
    }
   ],
   "source": [
    "pwd"
   ]
  },
  {
   "cell_type": "code",
   "execution_count": 2,
   "metadata": {
    "collapsed": true,
    "execution": {
     "iopub.execute_input": "2021-01-14T00:39:36.288042Z",
     "iopub.status.busy": "2021-01-14T00:39:36.287345Z",
     "iopub.status.idle": "2021-01-14T00:39:36.289294Z",
     "shell.execute_reply": "2021-01-14T00:39:36.289823Z"
    },
    "papermill": {
     "duration": 0.03258,
     "end_time": "2021-01-14T00:39:36.290013",
     "exception": false,
     "start_time": "2021-01-14T00:39:36.257433",
     "status": "completed"
    },
    "tags": [
     "parameters"
    ]
   },
   "outputs": [],
   "source": [
    "AD_F = \"../data/mitoDNA/cellSNP.tag.AD.mtx\"\n",
    "DP_F = \"../data/mitoDNA/cellSNP.tag.DP.mtx\""
   ]
  },
  {
   "cell_type": "code",
   "execution_count": 3,
   "metadata": {
    "execution": {
     "iopub.execute_input": "2021-01-14T00:39:36.352297Z",
     "iopub.status.busy": "2021-01-14T00:39:36.351590Z",
     "iopub.status.idle": "2021-01-14T00:39:36.354205Z",
     "shell.execute_reply": "2021-01-14T00:39:36.353574Z"
    },
    "papermill": {
     "duration": 0.038373,
     "end_time": "2021-01-14T00:39:36.354357",
     "exception": false,
     "start_time": "2021-01-14T00:39:36.315984",
     "status": "completed"
    },
    "tags": [
     "injected-parameters"
    ]
   },
   "outputs": [],
   "source": [
    "# Parameters\n",
    "AD_F = \"data/chrM/PBMC_J_cellSNP_minC10_minAF0.01/cellSNP.tag.AD.mtx\"\n",
    "DP_F = \"data/chrM/PBMC_J_cellSNP_minC10_minAF0.01/cellSNP.tag.DP.mtx\"\n"
   ]
  },
  {
   "cell_type": "code",
   "execution_count": 4,
   "metadata": {
    "ExecuteTime": {
     "end_time": "2021-01-07T22:11:17.977334Z",
     "start_time": "2021-01-07T22:11:17.962011Z"
    },
    "execution": {
     "iopub.execute_input": "2021-01-14T00:39:36.412602Z",
     "iopub.status.busy": "2021-01-14T00:39:36.411939Z",
     "iopub.status.idle": "2021-01-14T00:39:36.414536Z",
     "shell.execute_reply": "2021-01-14T00:39:36.415095Z"
    },
    "papermill": {
     "duration": 0.034413,
     "end_time": "2021-01-14T00:39:36.415288",
     "exception": false,
     "start_time": "2021-01-14T00:39:36.380875",
     "status": "completed"
    },
    "tags": []
   },
   "outputs": [
    {
     "data": {
      "text/plain": [
       "'/data2/mito_lineage/Analysis/multiplex'"
      ]
     },
     "execution_count": 4,
     "metadata": {},
     "output_type": "execute_result"
    }
   ],
   "source": [
    "pwd"
   ]
  },
  {
   "cell_type": "markdown",
   "metadata": {
    "papermill": {
     "duration": 0.027121,
     "end_time": "2021-01-14T00:39:36.470525",
     "exception": false,
     "start_time": "2021-01-14T00:39:36.443404",
     "status": "completed"
    },
    "tags": []
   },
   "source": [
    "# Using vireo for clonal reconstruction - mitochondrial mutations"
   ]
  },
  {
   "cell_type": "markdown",
   "metadata": {
    "papermill": {
     "duration": 0.062267,
     "end_time": "2021-01-14T00:39:36.559986",
     "exception": false,
     "start_time": "2021-01-14T00:39:36.497719",
     "status": "completed"
    },
    "tags": []
   },
   "source": [
    "The mitochondrial mutations data set is extracted from [Ludwig et al, Cell, 2019](https://doi.org/10.1016/j.cell.2019.01.022), the 9 variants used here are from Supp Fig. 2F (and main Fig. 2F).\n",
    "\n",
    "For clonal reconstruction, we are using the core class `vireoSNP.Vireo` with multiple initializations"
   ]
  },
  {
   "cell_type": "code",
   "execution_count": 5,
   "metadata": {
    "execution": {
     "iopub.execute_input": "2021-01-14T00:39:36.619390Z",
     "iopub.status.busy": "2021-01-14T00:39:36.618714Z",
     "iopub.status.idle": "2021-01-14T00:39:37.339147Z",
     "shell.execute_reply": "2021-01-14T00:39:37.339672Z"
    },
    "papermill": {
     "duration": 0.752735,
     "end_time": "2021-01-14T00:39:37.339870",
     "exception": false,
     "start_time": "2021-01-14T00:39:36.587135",
     "status": "completed"
    },
    "tags": []
   },
   "outputs": [
    {
     "name": "stdout",
     "output_type": "stream",
     "text": [
      "0.4.2\n"
     ]
    }
   ],
   "source": [
    "import vireoSNP\n",
    "import numpy as np\n",
    "from scipy import sparse\n",
    "from scipy.io import mmread\n",
    "import matplotlib.pyplot as plt\n",
    "\n",
    "print(vireoSNP.__version__)"
   ]
  },
  {
   "cell_type": "code",
   "execution_count": 6,
   "metadata": {
    "collapsed": true,
    "execution": {
     "iopub.execute_input": "2021-01-14T00:39:37.402147Z",
     "iopub.status.busy": "2021-01-14T00:39:37.401510Z",
     "iopub.status.idle": "2021-01-14T00:39:37.404483Z",
     "shell.execute_reply": "2021-01-14T00:39:37.403938Z"
    },
    "papermill": {
     "duration": 0.03696,
     "end_time": "2021-01-14T00:39:37.404642",
     "exception": false,
     "start_time": "2021-01-14T00:39:37.367682",
     "status": "completed"
    },
    "tags": []
   },
   "outputs": [],
   "source": [
    "np.set_printoptions(formatter={'float': lambda x: format(x, '.5f')})"
   ]
  },
  {
   "cell_type": "code",
   "execution_count": 7,
   "metadata": {
    "collapsed": true,
    "execution": {
     "iopub.execute_input": "2021-01-14T00:39:37.466372Z",
     "iopub.status.busy": "2021-01-14T00:39:37.465658Z",
     "iopub.status.idle": "2021-01-14T00:39:37.718659Z",
     "shell.execute_reply": "2021-01-14T00:39:37.719242Z"
    },
    "papermill": {
     "duration": 0.287201,
     "end_time": "2021-01-14T00:39:37.719454",
     "exception": false,
     "start_time": "2021-01-14T00:39:37.432253",
     "status": "completed"
    },
    "tags": []
   },
   "outputs": [],
   "source": [
    "AD = mmread(AD_F).tocsc()\n",
    "DP = mmread(DP_F).tocsc()"
   ]
  },
  {
   "cell_type": "code",
   "execution_count": 8,
   "metadata": {
    "execution": {
     "iopub.execute_input": "2021-01-14T00:39:37.781188Z",
     "iopub.status.busy": "2021-01-14T00:39:37.780534Z",
     "iopub.status.idle": "2021-01-14T00:39:37.783570Z",
     "shell.execute_reply": "2021-01-14T00:39:37.784100Z"
    },
    "papermill": {
     "duration": 0.0365,
     "end_time": "2021-01-14T00:39:37.784293",
     "exception": false,
     "start_time": "2021-01-14T00:39:37.747793",
     "status": "completed"
    },
    "tags": []
   },
   "outputs": [],
   "source": [
    "AD_shape = AD.todense().shape"
   ]
  },
  {
   "cell_type": "markdown",
   "metadata": {
    "papermill": {
     "duration": 0.027876,
     "end_time": "2021-01-14T00:39:37.839726",
     "exception": false,
     "start_time": "2021-01-14T00:39:37.811850",
     "status": "completed"
    },
    "tags": []
   },
   "source": [
    "## New implementation in v0.3.0"
   ]
  },
  {
   "cell_type": "code",
   "execution_count": 9,
   "metadata": {
    "collapsed": true,
    "execution": {
     "iopub.execute_input": "2021-01-14T00:39:37.900161Z",
     "iopub.status.busy": "2021-01-14T00:39:37.899503Z",
     "iopub.status.idle": "2021-01-14T00:39:37.901764Z",
     "shell.execute_reply": "2021-01-14T00:39:37.902301Z"
    },
    "papermill": {
     "duration": 0.035125,
     "end_time": "2021-01-14T00:39:37.902486",
     "exception": false,
     "start_time": "2021-01-14T00:39:37.867361",
     "status": "completed"
    },
    "tags": []
   },
   "outputs": [],
   "source": [
    "from vireoSNP import Vireo"
   ]
  },
  {
   "cell_type": "markdown",
   "metadata": {
    "papermill": {
     "duration": 0.027962,
     "end_time": "2021-01-14T00:39:37.958592",
     "exception": false,
     "start_time": "2021-01-14T00:39:37.930630",
     "status": "completed"
    },
    "tags": []
   },
   "source": [
    "Note, there are a few key parameters:\n",
    "\n",
    "* `n_donor`: it means number of clones here, but you need to determine yourself. You can choose the one with highest ELBO (see next section)\n",
    "* `n_GT`: number of different genotype. For somatic mutations, we could assume that there are only two, namely present or absent\n",
    "* `is_theta_ASE`: whether allelic ratio is variant specific. For mitochondrial mutations, we choose True as allelic ratio can different from variant to variant"
   ]
  },
  {
   "cell_type": "markdown",
   "metadata": {
    "papermill": {
     "duration": 0.028436,
     "end_time": "2021-01-14T00:39:38.015391",
     "exception": false,
     "start_time": "2021-01-14T00:39:37.986955",
     "status": "completed"
    },
    "tags": []
   },
   "source": [
    "### Multiple initialization is needed to avoid local optima"
   ]
  },
  {
   "cell_type": "code",
   "execution_count": 10,
   "metadata": {
    "collapsed": true,
    "execution": {
     "iopub.execute_input": "2021-01-14T00:39:38.080222Z",
     "iopub.status.busy": "2021-01-14T00:39:38.079537Z",
     "iopub.status.idle": "2021-01-14T00:39:56.128010Z",
     "shell.execute_reply": "2021-01-14T00:39:56.127404Z"
    },
    "papermill": {
     "duration": 18.084674,
     "end_time": "2021-01-14T00:39:56.128173",
     "exception": false,
     "start_time": "2021-01-14T00:39:38.043499",
     "status": "completed"
    },
    "tags": []
   },
   "outputs": [],
   "source": [
    "np.random.seed(1)\n",
    "\n",
    "n_initials = 50\n",
    "_models_all = []\n",
    "for i in range(n_initials):\n",
    "    _modelCA = Vireo(n_var=AD_shape[0], n_cell=AD_shape[1], n_donor=3, n_GT=2,\n",
    "                     fix_beta_sum=False, ASE_mode=True)\n",
    "    _modelCA.set_prior(beta_mu_prior=np.array([[0.01, 0.5]]))\n",
    "    _modelCA.fit(AD, DP, min_iter=20, verbose=False, delay_fit_theta=0)\n",
    "    _models_all.append(_modelCA)"
   ]
  },
  {
   "cell_type": "code",
   "execution_count": 11,
   "metadata": {
    "collapsed": true,
    "execution": {
     "iopub.execute_input": "2021-01-14T00:39:56.194681Z",
     "iopub.status.busy": "2021-01-14T00:39:56.193863Z",
     "iopub.status.idle": "2021-01-14T00:39:56.196002Z",
     "shell.execute_reply": "2021-01-14T00:39:56.196531Z"
    },
    "papermill": {
     "duration": 0.037646,
     "end_time": "2021-01-14T00:39:56.196721",
     "exception": false,
     "start_time": "2021-01-14T00:39:56.159075",
     "status": "completed"
    },
    "tags": []
   },
   "outputs": [],
   "source": [
    "## Choose the model giving highest ELBO\n",
    "\n",
    "_idx = np.argmax([x.ELBO_[-1] for x in _models_all])\n",
    "modelCA = _models_all[_idx]\n",
    "_losses = modelCA.ELBO_"
   ]
  },
  {
   "cell_type": "code",
   "execution_count": 12,
   "metadata": {
    "execution": {
     "iopub.execute_input": "2021-01-14T00:39:56.270168Z",
     "iopub.status.busy": "2021-01-14T00:39:56.269457Z",
     "iopub.status.idle": "2021-01-14T00:39:56.667336Z",
     "shell.execute_reply": "2021-01-14T00:39:56.667855Z"
    },
    "papermill": {
     "duration": 0.443416,
     "end_time": "2021-01-14T00:39:56.668044",
     "exception": false,
     "start_time": "2021-01-14T00:39:56.224628",
     "status": "completed"
    },
    "tags": []
   },
   "outputs": [
    {
     "data": {
      "image/png": "[encoded data removed]",
      "text/plain": [
       "<Figure size 792x288 with 2 Axes>"
      ]
     },
     "metadata": {
      "needs_background": "light"
     },
     "output_type": "display_data"
    }
   ],
   "source": [
    "fig = plt.figure(figsize=(11, 4))\n",
    "plt.subplot(1, 2, 1)\n",
    "plt.hist([x.ELBO_[-1] for x in _models_all])\n",
    "plt.ylabel(\"Frequency\")\n",
    "plt.xlabel(\"ELBO with multiple initializations\")\n",
    "\n",
    "plt.subplot(1, 2, 2)\n",
    "plt.plot(_losses)\n",
    "plt.xlabel(\"Iterations\")\n",
    "plt.ylabel(\"ELBO in a single run\")\n",
    "\n",
    "plt.tight_layout()\n",
    "plt.show()"
   ]
  },
  {
   "cell_type": "code",
   "execution_count": 13,
   "metadata": {
    "execution": {
     "iopub.execute_input": "2021-01-14T00:39:56.735281Z",
     "iopub.status.busy": "2021-01-14T00:39:56.734330Z",
     "iopub.status.idle": "2021-01-14T00:39:56.738304Z",
     "shell.execute_reply": "2021-01-14T00:39:56.737737Z"
    },
    "papermill": {
     "duration": 0.040878,
     "end_time": "2021-01-14T00:39:56.738461",
     "exception": false,
     "start_time": "2021-01-14T00:39:56.697583",
     "status": "completed"
    },
    "tags": []
   },
   "outputs": [
    {
     "name": "stdout",
     "output_type": "stream",
     "text": [
      "[[0.01440 0.01609]\n",
      " [0.03514 0.50000]\n",
      " [0.01093 0.50000]\n",
      " [0.02982 0.50000]\n",
      " [0.01336 0.50000]\n",
      " [0.01044 0.50000]\n",
      " [0.15889 0.09564]\n",
      " [0.01095 0.01424]\n",
      " [0.01343 0.01613]\n",
      " [0.00964 0.01235]\n",
      " [0.01381 0.01765]\n",
      " [0.01127 0.01332]\n",
      " [0.01137 0.01580]\n",
      " [0.01314 0.01838]\n",
      " [0.11532 0.12500]\n",
      " [0.01110 0.01942]\n",
      " [0.01970 0.02798]\n",
      " [0.01582 0.02296]\n",
      " [0.01098 0.01123]\n",
      " [0.00965 0.01044]\n",
      " [0.02152 0.03033]\n",
      " [0.01080 0.50000]\n",
      " [0.01045 0.50000]\n",
      " [0.42951 0.40147]\n",
      " [0.01053 0.50000]\n",
      " [0.12648 0.14623]\n",
      " [0.01597 0.01992]\n",
      " [0.14587 0.18703]\n",
      " [0.02157 0.02788]\n",
      " [0.01094 0.01301]\n",
      " [0.01366 0.01687]\n",
      " [0.13323 0.17978]\n",
      " [0.06787 0.09828]\n",
      " [0.03341 0.06018]\n",
      " [0.01335 0.02178]\n",
      " [0.01517 0.02843]\n",
      " [0.00906 0.01671]\n",
      " [0.01003 0.01874]\n",
      " [0.01198 0.02277]\n",
      " [0.00774 0.01530]\n",
      " [0.00647 0.01363]\n",
      " [0.01620 0.01889]\n",
      " [0.03657 0.03941]\n",
      " [0.01352 0.50000]\n",
      " [0.01022 0.01130]\n",
      " [0.01039 0.01252]\n",
      " [0.01232 0.50000]\n",
      " [0.61925 0.00099]\n",
      " [0.00886 0.01146]\n",
      " [0.01423 0.01983]\n",
      " [0.02028 0.02737]\n",
      " [0.02899 0.03969]\n",
      " [0.08045 0.09445]\n",
      " [0.03302 0.03792]\n",
      " [0.01643 0.02101]\n",
      " [0.01262 0.01579]\n",
      " [0.02544 0.03144]\n",
      " [0.02765 0.03285]\n",
      " [0.04078 0.04469]\n",
      " [0.01622 0.01908]\n",
      " [0.01037 0.50000]\n",
      " [0.00932 0.01180]\n",
      " [0.00922 0.01254]\n",
      " [0.01205 0.50000]\n",
      " [0.01805 0.02002]\n",
      " [0.04094 0.04584]\n",
      " [0.04710 0.05325]\n",
      " [0.03655 0.04219]\n",
      " [0.02231 0.02676]\n",
      " [0.01129 0.01321]\n",
      " [0.01506 0.01674]\n",
      " [0.02628 0.03152]\n",
      " [0.02261 0.02778]\n",
      " [0.01118 0.01343]\n",
      " [0.01132 0.01301]\n",
      " [0.01383 0.01657]\n",
      " [0.01070 0.50000]\n",
      " [0.01172 0.01322]\n",
      " [0.02930 0.03207]\n",
      " [0.02398 0.02672]\n",
      " [0.01021 0.01135]]\n",
      "[[55980.52683 75735.47317]\n",
      " [123411.00000 50.00000]\n",
      " [116726.00000 50.00000]\n",
      " [111570.00000 50.00000]\n",
      " [111248.00000 50.00000]\n",
      " [110713.00000 50.00000]\n",
      " [43693.50214 60821.49786]\n",
      " [87002.53284 123792.46716]\n",
      " [87236.33570 123213.66430]\n",
      " [81317.77046 115047.22954]\n",
      " [90737.45535 125909.54465]\n",
      " [90866.77161 126625.22839]\n",
      " [110075.05406 152380.94594]\n",
      " [109500.19847 153391.80153]\n",
      " [31929.20305 42372.79695]\n",
      " [133916.90642 92120.09358]\n",
      " [119421.27358 153716.72642]\n",
      " [118268.04529 150022.95471]\n",
      " [157971.79331 101492.20669]\n",
      " [84743.75354 156280.24646]\n",
      " [256765.80315 7321.19685]\n",
      " [222200.00000 50.00000]\n",
      " [221296.00000 50.00000]\n",
      " [17086.88034 397.11966]\n",
      " [216151.00000 50.00000]\n",
      " [78656.20769 116385.79231]\n",
      " [107430.15188 142203.84812]\n",
      " [102618.43236 141343.56764]\n",
      " [111812.96180 152497.03820]\n",
      " [98627.56098 133977.43902]\n",
      " [102574.24884 138501.75116]\n",
      " [90728.05486 126595.94514]\n",
      " [108418.84208 147775.15792]\n",
      " [98844.59051 130920.40949]\n",
      " [99437.28651 126793.71349]\n",
      " [106725.75846 143956.24154]\n",
      " [109390.74790 147438.25210]\n",
      " [109670.92415 150235.07585]\n",
      " [123867.01550 145103.98450]\n",
      " [117534.32820 148797.67180]\n",
      " [110465.20314 143926.79686]\n",
      " [155680.51793 110004.48207]\n",
      " [101600.12418 137849.87582]\n",
      " [296044.00000 50.00000]\n",
      " [163463.26214 117698.73786]\n",
      " [91415.47561 128438.52439]\n",
      " [271195.00000 50.00000]\n",
      " [8152.54977 286114.45023]\n",
      " [88466.03250 116669.96750]\n",
      " [86647.83858 116326.16142]\n",
      " [87949.32202 114950.67798]\n",
      " [84765.58426 116239.41574]\n",
      " [82916.34381 115426.65619]\n",
      " [95641.79855 119394.20145]\n",
      " [93009.19555 116470.80445]\n",
      " [90344.74296 118494.25704]\n",
      " [81335.94643 111056.05357]\n",
      " [82522.19575 110026.80425]\n",
      " [81770.38981 108499.61019]\n",
      " [85846.17742 117633.82258]\n",
      " [217286.00000 50.00000]\n",
      " [82120.08958 110424.91042]\n",
      " [109254.28089 139829.71911]\n",
      " [303706.00000 50.00000]\n",
      " [106731.75129 153390.24871]\n",
      " [89394.71977 111840.28023]\n",
      " [92611.82206 118208.17794]\n",
      " [98069.35881 116197.64119]\n",
      " [99842.34845 116096.65155]\n",
      " [95990.13445 120761.86555]\n",
      " [91696.10475 121081.89525]\n",
      " [92235.08698 121363.91302]\n",
      " [91763.80044 119084.19956]\n",
      " [105508.23860 136875.76140]\n",
      " [103369.21151 131827.78849]\n",
      " [104197.13706 131674.86294]\n",
      " [243805.00000 50.00000]\n",
      " [116948.60040 153788.39960]\n",
      " [106619.02677 133786.97323]\n",
      " [105184.30142 146419.69858]\n",
      " [134379.35914 90275.64086]]\n"
     ]
    }
   ],
   "source": [
    "print(modelCA.beta_mu),\n",
    "print(modelCA.beta_sum)"
   ]
  },
  {
   "cell_type": "code",
   "execution_count": 14,
   "metadata": {
    "execution": {
     "iopub.execute_input": "2021-01-14T00:39:56.821877Z",
     "iopub.status.busy": "2021-01-14T00:39:56.818207Z",
     "iopub.status.idle": "2021-01-14T00:39:57.375522Z",
     "shell.execute_reply": "2021-01-14T00:39:57.376039Z"
    },
    "papermill": {
     "duration": 0.607048,
     "end_time": "2021-01-14T00:39:57.376229",
     "exception": false,
     "start_time": "2021-01-14T00:39:56.769181",
     "status": "completed"
    },
    "tags": []
   },
   "outputs": [
    {
     "data": {
      "image/png": "[encoded data removed]",
      "text/plain": [
       "<Figure size 700x400 with 4 Axes>"
      ]
     },
     "metadata": {
      "needs_background": "light"
     },
     "output_type": "display_data"
    }
   ],
   "source": [
    "import matplotlib.pyplot as plt\n",
    "from vireoSNP.plot.base_plot import heat_matrix\n",
    "\n",
    "fig = plt.figure(figsize=(7, 4), dpi=100)\n",
    "plt.subplot(1, 2, 1)\n",
    "im = heat_matrix(modelCA.ID_prob, cmap=\"Oranges\", alpha=0.8,\n",
    "                 display_value=False, row_sort=True)\n",
    "plt.colorbar(im, fraction=0.046, pad=0.04)\n",
    "plt.title(\"Assignment probability\")\n",
    "plt.xlabel(\"Clone\")\n",
    "plt.ylabel(\"%d cells\" %(modelCA.n_cell))\n",
    "plt.xticks(range(modelCA.n_donor))\n",
    "\n",
    "\n",
    "plt.subplot(1, 2, 2)\n",
    "AF_SNPs = np.sum(modelCA.GT_prob * \n",
    "                 np.expand_dims(modelCA.beta_mu, 1), axis=2)\n",
    "im = heat_matrix(AF_SNPs, cmap=\"Blues\", alpha=0.8, \n",
    "                 display_value=False, row_sort=True)\n",
    "plt.colorbar(im, fraction=0.046, pad=0.04)\n",
    "plt.title(\"Mean allelic ratio\")\n",
    "plt.xlabel(\"Clone\")\n",
    "plt.ylabel(\"%d SNPs\" %(modelCA.n_var))\n",
    "plt.xticks(range(modelCA.n_donor))\n",
    "\n",
    "plt.tight_layout()\n",
    "plt.show()"
   ]
  },
  {
   "cell_type": "code",
   "execution_count": 15,
   "metadata": {
    "execution": {
     "iopub.execute_input": "2021-01-14T00:39:57.446180Z",
     "iopub.status.busy": "2021-01-14T00:39:57.445524Z",
     "iopub.status.idle": "2021-01-14T00:39:57.459641Z",
     "shell.execute_reply": "2021-01-14T00:39:57.459068Z"
    },
    "papermill": {
     "duration": 0.051373,
     "end_time": "2021-01-14T00:39:57.459797",
     "exception": false,
     "start_time": "2021-01-14T00:39:57.408424",
     "status": "completed"
    },
    "tags": []
   },
   "outputs": [
    {
     "data": {
      "text/plain": [
       "62.46553469482931"
      ]
     },
     "execution_count": 15,
     "metadata": {},
     "output_type": "execute_result"
    }
   ],
   "source": [
    "np.sum(modelCA.predict_doublet(AD, DP)[0])"
   ]
  },
  {
   "cell_type": "code",
   "execution_count": null,
   "metadata": {
    "collapsed": true,
    "papermill": {
     "duration": 0.038295,
     "end_time": "2021-01-14T00:39:57.530762",
     "exception": false,
     "start_time": "2021-01-14T00:39:57.492467",
     "status": "completed"
    },
    "tags": []
   },
   "outputs": [],
   "source": []
  },
  {
   "cell_type": "markdown",
   "metadata": {
    "papermill": {
     "duration": 0.032454,
     "end_time": "2021-01-14T00:39:57.596976",
     "exception": false,
     "start_time": "2021-01-14T00:39:57.564522",
     "status": "completed"
    },
    "tags": []
   },
   "source": [
    "### Choose the number of clones\n",
    "We can choose the number of clones where ELBO stops increasing. Here, the best number of clone is 3.\n",
    "\n",
    "Note, for a certain number of clone, e.g., n_clone=3, the ELBO may not the same for multiple initializations. This is becaused VI can only guarantee a local optima, so please choose the highest ELBO for each `n_clone` to represent its \"global\" optima."
   ]
  },
  {
   "cell_type": "code",
   "execution_count": 16,
   "metadata": {
    "collapsed": true,
    "execution": {
     "iopub.execute_input": "2021-01-14T00:39:57.672456Z",
     "iopub.status.busy": "2021-01-14T00:39:57.671744Z",
     "iopub.status.idle": "2021-01-14T00:41:25.399488Z",
     "shell.execute_reply": "2021-01-14T00:41:25.400041Z"
    },
    "papermill": {
     "duration": 87.770813,
     "end_time": "2021-01-14T00:41:25.400330",
     "exception": false,
     "start_time": "2021-01-14T00:39:57.629517",
     "status": "completed"
    },
    "tags": []
   },
   "outputs": [],
   "source": [
    "n_initials = 50\n",
    "n_clone_list = np.arange(2, 6)\n",
    "\n",
    "_ELBO_mat = [] \n",
    "for k in n_clone_list:\n",
    "    _elbo_temp = []\n",
    "    for i in range(50):\n",
    "        _modelCA = Vireo(n_var=AD_shape[0], n_cell=AD_shape[1], n_donor=k, n_GT=2,\n",
    "                         fix_beta_sum=False, ASE_mode=True)\n",
    "        _modelCA.set_prior(beta_mu_prior=np.array([[0.01, 0.5]]))\n",
    "        _modelCA.fit(AD, DP, min_iter=20, verbose=False)\n",
    "        _elbo_temp.append(_modelCA.ELBO_[-1])\n",
    "    _ELBO_mat.append(_elbo_temp)"
   ]
  },
  {
   "cell_type": "code",
   "execution_count": 17,
   "metadata": {
    "execution": {
     "iopub.execute_input": "2021-01-14T00:41:25.487873Z",
     "iopub.status.busy": "2021-01-14T00:41:25.481045Z",
     "iopub.status.idle": "2021-01-14T00:41:25.692375Z",
     "shell.execute_reply": "2021-01-14T00:41:25.691785Z"
    },
    "papermill": {
     "duration": 0.258284,
     "end_time": "2021-01-14T00:41:25.692533",
     "exception": false,
     "start_time": "2021-01-14T00:41:25.434249",
     "status": "completed"
    },
    "tags": []
   },
   "outputs": [
    {
     "data": {
      "image/png": "[encoded data removed]",
      "text/plain": [
       "<Figure size 432x288 with 1 Axes>"
      ]
     },
     "metadata": {
      "needs_background": "light"
     },
     "output_type": "display_data"
    }
   ],
   "source": [
    "plt.plot([1, 2, 3, 4], np.max(_ELBO_mat, axis=1))\n",
    "plt.boxplot(_ELBO_mat)\n",
    "plt.xticks(n_clone_list - 1, n_clone_list)\n",
    "plt.ylabel(\"ELBO\")\n",
    "plt.xlabel(\"n_clones\")\n",
    "plt.show()"
   ]
  },
  {
   "cell_type": "code",
   "execution_count": null,
   "metadata": {
    "collapsed": true,
    "papermill": {
     "duration": 0.034388,
     "end_time": "2021-01-14T00:41:25.761977",
     "exception": false,
     "start_time": "2021-01-14T00:41:25.727589",
     "status": "completed"
    },
    "tags": []
   },
   "outputs": [],
   "source": []
  },
  {
   "cell_type": "code",
   "execution_count": null,
   "metadata": {
    "collapsed": true,
    "papermill": {
     "duration": 0.03496,
     "end_time": "2021-01-14T00:41:25.831320",
     "exception": false,
     "start_time": "2021-01-14T00:41:25.796360",
     "status": "completed"
    },
    "tags": []
   },
   "outputs": [],
   "source": []
  },
  {
   "cell_type": "code",
   "execution_count": null,
   "metadata": {
    "collapsed": true,
    "papermill": {
     "duration": 0.035373,
     "end_time": "2021-01-14T00:41:25.901354",
     "exception": false,
     "start_time": "2021-01-14T00:41:25.865981",
     "status": "completed"
    },
    "tags": []
   },
   "outputs": [],
   "source": []
  },
  {
   "cell_type": "markdown",
   "metadata": {
    "papermill": {
     "duration": 0.033583,
     "end_time": "2021-01-14T00:41:25.968766",
     "exception": false,
     "start_time": "2021-01-14T00:41:25.935183",
     "status": "completed"
    },
    "tags": []
   },
   "source": [
    "### Old version\n",
    "\n",
    "The old version seem more likely to end up at local optima in this data set."
   ]
  },
  {
   "cell_type": "code",
   "execution_count": 18,
   "metadata": {
    "collapsed": true,
    "execution": {
     "iopub.execute_input": "2021-01-14T00:41:26.043824Z",
     "iopub.status.busy": "2021-01-14T00:41:26.043125Z",
     "iopub.status.idle": "2021-01-14T00:41:26.046511Z",
     "shell.execute_reply": "2021-01-14T00:41:26.047057Z"
    },
    "papermill": {
     "duration": 0.043063,
     "end_time": "2021-01-14T00:41:26.047251",
     "exception": false,
     "start_time": "2021-01-14T00:41:26.004188",
     "status": "completed"
    },
    "tags": []
   },
   "outputs": [],
   "source": [
    "from vireoSNP.utils.vireo_wrap_v02 import vireo_flock"
   ]
  },
  {
   "cell_type": "code",
   "execution_count": 19,
   "metadata": {
    "execution": {
     "iopub.execute_input": "2021-01-14T00:41:26.122178Z",
     "iopub.status.busy": "2021-01-14T00:41:26.121506Z",
     "iopub.status.idle": "2021-01-14T00:41:28.401040Z",
     "shell.execute_reply": "2021-01-14T00:41:28.400476Z"
    },
    "papermill": {
     "duration": 2.319722,
     "end_time": "2021-01-14T00:41:28.401201",
     "exception": false,
     "start_time": "2021-01-14T00:41:26.081479",
     "status": "completed"
    },
    "tags": []
   },
   "outputs": [
    {
     "name": "stdout",
     "output_type": "stream",
     "text": [
      "[vireo] warm-up: 50 random initializations for 3 clusters...\n"
     ]
    },
    {
     "name": "stdout",
     "output_type": "stream",
     "text": [
      "[vireo] donor size with searching extra 0 donors:\n",
      "donor0\tdonor1\tdonor2\n",
      "248\t248\t248\n",
      "[vireo] warm-up: lower bound ranges [-1999444.9, -1999444.9, -1999444.9]\n",
      "[vireo] main RUN with warm initials and tuned GT ...\n",
      "[vireo] main RUN: 22 iterations; lower bound -1999444.9\n",
      "[vireo] beta parameters for binomial rate:\n",
      "[[[1999.10 4336.10 1275.10 3326.10 1486.10 1155.10 0.10 2690.10 3134.10\n",
      "   2180.10 3450.10 2686.10 3633.10 4233.10 0.10 3251.10 6628.10 5290.10\n",
      "   2849.10 2423.10 5722.10 2399.10 2312.10 0.10 2275.10 0.10 4523.10\n",
      "   0.10 6638.10 2797.10 3712.10 0.10 0.10 11156.10 4063.10 5686.10\n",
      "   3429.10 3889.10 4762.10 3161.10 2650.10 4574.10 9122.10 4003.10\n",
      "   2975.10 2533.10 3340.10 5306.10 2096.10 3514.10 4904.10 7046.10 0.10\n",
      "   7660.10 3950.10 2985.10 5535.10 5870.10 8158.10 3611.10 2252.10\n",
      "   2043.10 2735.10 3658.10 4971.10 8761.10 10631.10 8461.10 5308.10\n",
      "   2653.10 3382.10 6223.10 5358.10 2992.10 2860.10 3598.10 2609.10\n",
      "   3378.10 7389.10 6410.10 2372.10]\n",
      "  [129627.00 119035.00 115411.00 108204.00 109722.00 109518.00 10.00\n",
      "   208015.00 207226.00 194095.00 213107.00 214716.00 258733.00 258569.00\n",
      "   10.00 222696.00 266420.00 262911.00 256525.00 238511.00 258275.00\n",
      "   219761.00 218944.00 10.00 213836.00 10.00 245021.00 10.00 257582.00\n",
      "   229718.00 237274.00 10.00 10.00 218519.00 222078.00 244906.00\n",
      "   253310.00 255927.00 264119.00 263081.00 251652.00 261021.00 230238.00\n",
      "   292001.00 278097.00 217231.00 267815.00 288871.00 202950.00 199370.00\n",
      "   197906.00 193869.00 10.00 207286.00 205440.00 205764.00 186767.00\n",
      "   186589.00 182022.00 199779.00 214994.00 190412.00 246259.00 300008.00\n",
      "   255061.00 192384.00 200099.00 205716.00 210541.00 214009.00 209306.00\n",
      "   207286.00 205400.00 239302.00 232247.00 232184.00 241156.00 267269.00\n",
      "   232927.00 245104.00 222193.00]]\n",
      "\n",
      " [[5.00 5.00 5.00 5.00 5.00 5.00 12739.00 5.00 5.00 5.00 5.00 5.00 5.00\n",
      "   5.00 8958.00 5.00 5.00 5.00 5.00 5.00 5.00 5.00 5.00 7478.00 5.00\n",
      "   26947.00 5.00 41384.00 5.00 5.00 5.00 34827.00 21861.00 5.00 5.00\n",
      "   5.00 5.00 5.00 5.00 5.00 5.00 5.00 5.00 5.00 5.00 5.00 5.00 5.00 5.00\n",
      "   5.00 5.00 5.00 17552.00 5.00 5.00 5.00 5.00 5.00 5.00 5.00 5.00 5.00\n",
      "   5.00 5.00 5.00 5.00 5.00 5.00 5.00 5.00 5.00 5.00 5.00 5.00 5.00 5.00\n",
      "   5.00 5.00 5.00 5.00 5.00]\n",
      "  [5.00 5.00 5.00 5.00 5.00 5.00 91686.00 5.00 5.00 5.00 5.00 5.00 5.00\n",
      "   5.00 65254.00 5.00 5.00 5.00 5.00 5.00 5.00 5.00 5.00 9916.00 5.00\n",
      "   168005.00 5.00 202488.00 5.00 5.00 5.00 182407.00 234243.00 5.00 5.00\n",
      "   5.00 5.00 5.00 5.00 5.00 5.00 5.00 5.00 5.00 5.00 5.00 5.00 5.00 5.00\n",
      "   5.00 5.00 5.00 180701.00 5.00 5.00 5.00 5.00 5.00 5.00 5.00 5.00 5.00\n",
      "   5.00 5.00 5.00 5.00 5.00 5.00 5.00 5.00 5.00 5.00 5.00 5.00 5.00 5.00\n",
      "   5.00 5.00 5.00 5.00 5.00]]]\n"
     ]
    }
   ],
   "source": [
    "# theta_prior = np.array([[0.01, 10], [0.4, 10], [5, 5]])\n",
    "theta_prior = np.array([[0.1, 10], [5, 5]])\n",
    "res = vireo_flock(AD, DP, n_donor=3, learn_GT=True,\n",
    "                  n_extra_donor=0, ASE_mode=True,\n",
    "                  theta_prior=theta_prior, learn_theta=True,\n",
    "                  n_init=50, check_doublet=False, random_seed=1)"
   ]
  },
  {
   "cell_type": "code",
   "execution_count": 20,
   "metadata": {
    "execution": {
     "iopub.execute_input": "2021-01-14T00:41:28.484250Z",
     "iopub.status.busy": "2021-01-14T00:41:28.482905Z",
     "iopub.status.idle": "2021-01-14T00:41:28.640777Z",
     "shell.execute_reply": "2021-01-14T00:41:28.641294Z"
    },
    "papermill": {
     "duration": 0.204846,
     "end_time": "2021-01-14T00:41:28.641487",
     "exception": false,
     "start_time": "2021-01-14T00:41:28.436641",
     "status": "completed"
    },
    "tags": []
   },
   "outputs": [
    {
     "data": {
      "image/png": "[encoded data removed]",
      "text/plain": [
       "<Figure size 432x288 with 1 Axes>"
      ]
     },
     "metadata": {
      "needs_background": "light"
     },
     "output_type": "display_data"
    }
   ],
   "source": [
    "plt.plot(res['LB_list'])\n",
    "plt.xlabel(\"Iterations\")\n",
    "plt.ylabel(\"ELBO in a single run\")\n",
    "plt.show()"
   ]
  },
  {
   "cell_type": "raw",
   "metadata": {
    "papermill": {
     "duration": 0.035361,
     "end_time": "2021-01-14T00:41:28.714268",
     "exception": false,
     "start_time": "2021-01-14T00:41:28.678907",
     "status": "completed"
    },
    "tags": []
   },
   "source": [
    "## If ASE_mode is False\n",
    "AF_mean = res['theta_shapes'][:, 0] / np.sum(res['theta_shapes'], axis=1)\n",
    "AF_SNPs = np.tensordot(res['GT_prob'], AF_mean, axes=[2, 0])"
   ]
  },
  {
   "cell_type": "code",
   "execution_count": 21,
   "metadata": {
    "collapsed": true,
    "execution": {
     "iopub.execute_input": "2021-01-14T00:41:28.793347Z",
     "iopub.status.busy": "2021-01-14T00:41:28.792692Z",
     "iopub.status.idle": "2021-01-14T00:41:28.794761Z",
     "shell.execute_reply": "2021-01-14T00:41:28.795262Z"
    },
    "papermill": {
     "duration": 0.045755,
     "end_time": "2021-01-14T00:41:28.795448",
     "exception": false,
     "start_time": "2021-01-14T00:41:28.749693",
     "status": "completed"
    },
    "tags": []
   },
   "outputs": [],
   "source": [
    "## If ASE_mode is True\n",
    "AF_mean = res['theta_shapes'][:, 0] / np.sum(res['theta_shapes'], axis=1)\n",
    "\n",
    "_new_shape = (AF_mean.shape[1], 1, AF_mean.shape[0])\n",
    "AF_SNPs = np.sum(res['GT_prob'] * AF_mean.transpose().reshape(_new_shape), axis=2)"
   ]
  },
  {
   "cell_type": "code",
   "execution_count": 22,
   "metadata": {
    "execution": {
     "iopub.execute_input": "2021-01-14T00:41:28.886528Z",
     "iopub.status.busy": "2021-01-14T00:41:28.884976Z",
     "iopub.status.idle": "2021-01-14T00:41:29.426029Z",
     "shell.execute_reply": "2021-01-14T00:41:29.426564Z"
    },
    "papermill": {
     "duration": 0.59588,
     "end_time": "2021-01-14T00:41:29.426765",
     "exception": false,
     "start_time": "2021-01-14T00:41:28.830885",
     "status": "completed"
    },
    "tags": []
   },
   "outputs": [
    {
     "data": {
      "image/png": "[encoded data removed]",
      "text/plain": [
       "<Figure size 700x400 with 4 Axes>"
      ]
     },
     "metadata": {
      "needs_background": "light"
     },
     "output_type": "display_data"
    }
   ],
   "source": [
    "import matplotlib.pyplot as plt\n",
    "from vireoSNP.plot.base_plot import heat_matrix\n",
    "\n",
    "fig = plt.figure(figsize=(7, 4), dpi=100)\n",
    "plt.subplot(1, 2, 1)\n",
    "im = heat_matrix(res['ID_prob'], cmap=\"Oranges\", alpha=0.8,\n",
    "                 display_value=False, row_sort=True)\n",
    "plt.colorbar(im, fraction=0.046, pad=0.04)\n",
    "plt.title(\"Assignment probability\")\n",
    "plt.ylabel(\"%d cells\" %(res['ID_prob'].shape[0]))\n",
    "plt.xlabel(\"Clone\")\n",
    "plt.xticks([0, 1, 2])\n",
    "\n",
    "plt.subplot(1, 2, 2)\n",
    "im = heat_matrix(AF_SNPs, cmap=\"Blues\", alpha=0.8, \n",
    "                 display_value=False, row_sort=True)\n",
    "plt.colorbar(im, fraction=0.046, pad=0.04)\n",
    "plt.title(\"Mean allelic ratio\")\n",
    "plt.xlabel(\"Clone\")\n",
    "plt.ylabel(\"%d SNPs\" %(AF_SNPs.shape[0]))\n",
    "plt.xticks([0, 1, 2])\n",
    "plt.xlim(-0.5, 2.5)\n",
    "\n",
    "plt.tight_layout()\n",
    "plt.show()"
   ]
  },
  {
   "cell_type": "markdown",
   "metadata": {
    "collapsed": true,
    "papermill": {
     "duration": 0.038321,
     "end_time": "2021-01-14T00:41:29.552001",
     "exception": false,
     "start_time": "2021-01-14T00:41:29.513680",
     "status": "completed"
    },
    "tags": []
   },
   "source": [
    "## Plot K=4"
   ]
  },
  {
   "cell_type": "code",
   "execution_count": 23,
   "metadata": {
    "execution": {
     "iopub.execute_input": "2021-01-14T00:41:29.645491Z",
     "iopub.status.busy": "2021-01-14T00:41:29.644784Z",
     "iopub.status.idle": "2021-01-14T00:41:55.698861Z",
     "shell.execute_reply": "2021-01-14T00:41:55.699402Z"
    },
    "papermill": {
     "duration": 26.109816,
     "end_time": "2021-01-14T00:41:55.699590",
     "exception": false,
     "start_time": "2021-01-14T00:41:29.589774",
     "status": "completed"
    },
    "tags": []
   },
   "outputs": [
    {
     "data": {
      "image/png": "[encoded data removed]",
      "text/plain": [
       "<Figure size 700x400 with 4 Axes>"
      ]
     },
     "metadata": {
      "needs_background": "light"
     },
     "output_type": "display_data"
    }
   ],
   "source": [
    "np.random.seed(1)\n",
    "\n",
    "n_initials = 50\n",
    "_models_all = []\n",
    "for i in range(n_initials):\n",
    "    _modelCA = Vireo(n_var=AD_shape[0], n_cell=AD_shape[1], n_donor=4, n_GT=2,\n",
    "                     fix_beta_sum=False, ASE_mode=True)\n",
    "    _modelCA.set_prior(beta_mu_prior=np.array([[0.01, 0.5]]))\n",
    "    _modelCA.fit(AD, DP, min_iter=20, verbose=False, delay_fit_theta=0)\n",
    "    _models_all.append(_modelCA)\n",
    "    \n",
    "## Choose the model giving highest ELBO\n",
    "\n",
    "_idx = np.argmax([x.ELBO_[-1] for x in _models_all])\n",
    "modelCA = _models_all[_idx]\n",
    "_losses = modelCA.ELBO_\n",
    "\n",
    "\n",
    "import matplotlib.pyplot as plt\n",
    "from vireoSNP.plot.base_plot import heat_matrix\n",
    "\n",
    "fig = plt.figure(figsize=(7, 4), dpi=100)\n",
    "plt.subplot(1, 2, 1)\n",
    "im = heat_matrix(modelCA.ID_prob, cmap=\"Oranges\", alpha=0.8,\n",
    "                 display_value=False, row_sort=True)\n",
    "plt.colorbar(im, fraction=0.046, pad=0.04)\n",
    "plt.title(\"Assignment probability\")\n",
    "plt.xlabel(\"Clone\")\n",
    "plt.ylabel(\"%d cells\" %(modelCA.n_cell))\n",
    "plt.xticks(range(modelCA.n_donor))\n",
    "\n",
    "\n",
    "plt.subplot(1, 2, 2)\n",
    "AF_SNPs = np.sum(modelCA.GT_prob * \n",
    "                 np.expand_dims(modelCA.beta_mu, 1), axis=2)\n",
    "im = heat_matrix(AF_SNPs, cmap=\"Blues\", alpha=0.8, \n",
    "                 display_value=False, row_sort=True)\n",
    "plt.colorbar(im, fraction=0.046, pad=0.04)\n",
    "plt.title(\"Mean allelic ratio\")\n",
    "plt.xlabel(\"Clone\")\n",
    "plt.ylabel(\"%d SNPs\" %(modelCA.n_var))\n",
    "plt.xticks(range(modelCA.n_donor))\n",
    "\n",
    "plt.tight_layout()\n",
    "plt.show()"
   ]
  }
 ],
 "metadata": {
  "celltoolbar": "Tags",
  "kernelspec": {
   "display_name": "Python 3",
   "language": "python",
   "name": "python3"
  },
  "language_info": {
   "codemirror_mode": {
    "name": "ipython",
    "version": 3
   },
   "file_extension": ".py",
   "mimetype": "text/x-python",
   "name": "python",
   "nbconvert_exporter": "python",
   "pygments_lexer": "ipython3",
   "version": "3.7.3"
  },
  "papermill": {
   "default_parameters": {},
   "duration": 140.785627,
   "end_time": "2021-01-14T00:41:56.150971",
   "environment_variables": {},
   "exception": null,
   "input_path": "/data2/mito_lineage/src/vireo/vireoSNP_clones.ipynb",
   "output_path": "results/chrM/PBMC_J_cellSNP_minC10_minAF0.01/lineage_chrM.ipynb",
   "parameters": {
    "AD_F": "data/chrM/PBMC_J_cellSNP_minC10_minAF0.01/cellSNP.tag.AD.mtx",
    "DP_F": "data/chrM/PBMC_J_cellSNP_minC10_minAF0.01/cellSNP.tag.DP.mtx"
   },
   "start_time": "2021-01-14T00:39:35.365344",
   "version": "2.2.0"
  }
 },
 "nbformat": 4,
 "nbformat_minor": 4
}