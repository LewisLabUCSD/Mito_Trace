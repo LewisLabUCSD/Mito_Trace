{
 "cells": [
  {
   "cell_type": "code",
   "execution_count": 1,
   "metadata": {
    "ExecuteTime": {
     "end_time": "2021-01-07T22:17:00.753670Z",
     "start_time": "2021-01-07T22:17:00.746914Z"
    },
    "execution": {
     "iopub.execute_input": "2021-01-14T00:40:20.432411Z",
     "iopub.status.busy": "2021-01-14T00:40:20.431674Z",
     "iopub.status.idle": "2021-01-14T00:40:20.434633Z",
     "shell.execute_reply": "2021-01-14T00:40:20.435142Z"
    },
    "papermill": {
     "duration": 0.041157,
     "end_time": "2021-01-14T00:40:20.435396",
     "exception": false,
     "start_time": "2021-01-14T00:40:20.394239",
     "status": "completed"
    },
    "tags": []
   },
   "outputs": [
    {
     "data": {
      "text/plain": [
       "'/data2/mito_lineage/Analysis/multiplex'"
      ]
     },
     "execution_count": 1,
     "metadata": {},
     "output_type": "execute_result"
    }
   ],
   "source": [
    "pwd"
   ]
  },
  {
   "cell_type": "code",
   "execution_count": 2,
   "metadata": {
    "collapsed": true,
    "execution": {
     "iopub.execute_input": "2021-01-14T00:40:20.493212Z",
     "iopub.status.busy": "2021-01-14T00:40:20.492578Z",
     "iopub.status.idle": "2021-01-14T00:40:20.494617Z",
     "shell.execute_reply": "2021-01-14T00:40:20.495164Z"
    },
    "papermill": {
     "duration": 0.03358,
     "end_time": "2021-01-14T00:40:20.495362",
     "exception": false,
     "start_time": "2021-01-14T00:40:20.461782",
     "status": "completed"
    },
    "tags": [
     "parameters"
    ]
   },
   "outputs": [],
   "source": [
    "AD_F = \"../data/mitoDNA/cellSNP.tag.AD.mtx\"\n",
    "DP_F = \"../data/mitoDNA/cellSNP.tag.DP.mtx\""
   ]
  },
  {
   "cell_type": "code",
   "execution_count": 3,
   "metadata": {
    "execution": {
     "iopub.execute_input": "2021-01-14T00:40:20.552299Z",
     "iopub.status.busy": "2021-01-14T00:40:20.551680Z",
     "iopub.status.idle": "2021-01-14T00:40:20.554280Z",
     "shell.execute_reply": "2021-01-14T00:40:20.553731Z"
    },
    "papermill": {
     "duration": 0.032876,
     "end_time": "2021-01-14T00:40:20.554430",
     "exception": false,
     "start_time": "2021-01-14T00:40:20.521554",
     "status": "completed"
    },
    "tags": [
     "injected-parameters"
    ]
   },
   "outputs": [],
   "source": [
    "# Parameters\n",
    "AD_F = \"data/chrM/PBMC_J_cellSNP_minC20_minAF0.01/cellSNP.tag.AD.mtx\"\n",
    "DP_F = \"data/chrM/PBMC_J_cellSNP_minC20_minAF0.01/cellSNP.tag.DP.mtx\"\n"
   ]
  },
  {
   "cell_type": "code",
   "execution_count": 4,
   "metadata": {
    "ExecuteTime": {
     "end_time": "2021-01-07T22:11:17.977334Z",
     "start_time": "2021-01-07T22:11:17.962011Z"
    },
    "execution": {
     "iopub.execute_input": "2021-01-14T00:40:20.612638Z",
     "iopub.status.busy": "2021-01-14T00:40:20.612013Z",
     "iopub.status.idle": "2021-01-14T00:40:20.615315Z",
     "shell.execute_reply": "2021-01-14T00:40:20.614768Z"
    },
    "papermill": {
     "duration": 0.034518,
     "end_time": "2021-01-14T00:40:20.615469",
     "exception": false,
     "start_time": "2021-01-14T00:40:20.580951",
     "status": "completed"
    },
    "tags": []
   },
   "outputs": [
    {
     "data": {
      "text/plain": [
       "'/data2/mito_lineage/Analysis/multiplex'"
      ]
     },
     "execution_count": 4,
     "metadata": {},
     "output_type": "execute_result"
    }
   ],
   "source": [
    "pwd"
   ]
  },
  {
   "cell_type": "markdown",
   "metadata": {
    "papermill": {
     "duration": 0.026572,
     "end_time": "2021-01-14T00:40:20.670126",
     "exception": false,
     "start_time": "2021-01-14T00:40:20.643554",
     "status": "completed"
    },
    "tags": []
   },
   "source": [
    "# Using vireo for clonal reconstruction - mitochondrial mutations"
   ]
  },
  {
   "cell_type": "markdown",
   "metadata": {
    "papermill": {
     "duration": 0.065996,
     "end_time": "2021-01-14T00:40:20.763029",
     "exception": false,
     "start_time": "2021-01-14T00:40:20.697033",
     "status": "completed"
    },
    "tags": []
   },
   "source": [
    "The mitochondrial mutations data set is extracted from [Ludwig et al, Cell, 2019](https://doi.org/10.1016/j.cell.2019.01.022), the 9 variants used here are from Supp Fig. 2F (and main Fig. 2F).\n",
    "\n",
    "For clonal reconstruction, we are using the core class `vireoSNP.Vireo` with multiple initializations"
   ]
  },
  {
   "cell_type": "code",
   "execution_count": 5,
   "metadata": {
    "execution": {
     "iopub.execute_input": "2021-01-14T00:40:20.821168Z",
     "iopub.status.busy": "2021-01-14T00:40:20.820561Z",
     "iopub.status.idle": "2021-01-14T00:40:21.503943Z",
     "shell.execute_reply": "2021-01-14T00:40:21.504495Z"
    },
    "papermill": {
     "duration": 0.715588,
     "end_time": "2021-01-14T00:40:21.504715",
     "exception": false,
     "start_time": "2021-01-14T00:40:20.789127",
     "status": "completed"
    },
    "tags": []
   },
   "outputs": [
    {
     "name": "stdout",
     "output_type": "stream",
     "text": [
      "0.4.2\n"
     ]
    }
   ],
   "source": [
    "import vireoSNP\n",
    "import numpy as np\n",
    "from scipy import sparse\n",
    "from scipy.io import mmread\n",
    "import matplotlib.pyplot as plt\n",
    "\n",
    "print(vireoSNP.__version__)"
   ]
  },
  {
   "cell_type": "code",
   "execution_count": 6,
   "metadata": {
    "collapsed": true,
    "execution": {
     "iopub.execute_input": "2021-01-14T00:40:21.566656Z",
     "iopub.status.busy": "2021-01-14T00:40:21.565989Z",
     "iopub.status.idle": "2021-01-14T00:40:21.568353Z",
     "shell.execute_reply": "2021-01-14T00:40:21.568873Z"
    },
    "papermill": {
     "duration": 0.035777,
     "end_time": "2021-01-14T00:40:21.569088",
     "exception": false,
     "start_time": "2021-01-14T00:40:21.533311",
     "status": "completed"
    },
    "tags": []
   },
   "outputs": [],
   "source": [
    "np.set_printoptions(formatter={'float': lambda x: format(x, '.5f')})"
   ]
  },
  {
   "cell_type": "code",
   "execution_count": 7,
   "metadata": {
    "collapsed": true,
    "execution": {
     "iopub.execute_input": "2021-01-14T00:40:21.630288Z",
     "iopub.status.busy": "2021-01-14T00:40:21.629591Z",
     "iopub.status.idle": "2021-01-14T00:40:21.900899Z",
     "shell.execute_reply": "2021-01-14T00:40:21.900294Z"
    },
    "papermill": {
     "duration": 0.303948,
     "end_time": "2021-01-14T00:40:21.901077",
     "exception": false,
     "start_time": "2021-01-14T00:40:21.597129",
     "status": "completed"
    },
    "tags": []
   },
   "outputs": [],
   "source": [
    "AD = mmread(AD_F).tocsc()\n",
    "DP = mmread(DP_F).tocsc()"
   ]
  },
  {
   "cell_type": "code",
   "execution_count": 8,
   "metadata": {
    "execution": {
     "iopub.execute_input": "2021-01-14T00:40:21.961884Z",
     "iopub.status.busy": "2021-01-14T00:40:21.961225Z",
     "iopub.status.idle": "2021-01-14T00:40:21.964099Z",
     "shell.execute_reply": "2021-01-14T00:40:21.964644Z"
    },
    "papermill": {
     "duration": 0.035818,
     "end_time": "2021-01-14T00:40:21.964852",
     "exception": false,
     "start_time": "2021-01-14T00:40:21.929034",
     "status": "completed"
    },
    "tags": []
   },
   "outputs": [],
   "source": [
    "AD_shape = AD.todense().shape"
   ]
  },
  {
   "cell_type": "markdown",
   "metadata": {
    "papermill": {
     "duration": 0.028741,
     "end_time": "2021-01-14T00:40:22.022068",
     "exception": false,
     "start_time": "2021-01-14T00:40:21.993327",
     "status": "completed"
    },
    "tags": []
   },
   "source": [
    "## New implementation in v0.3.0"
   ]
  },
  {
   "cell_type": "code",
   "execution_count": 9,
   "metadata": {
    "collapsed": true,
    "execution": {
     "iopub.execute_input": "2021-01-14T00:40:22.084454Z",
     "iopub.status.busy": "2021-01-14T00:40:22.083777Z",
     "iopub.status.idle": "2021-01-14T00:40:22.085863Z",
     "shell.execute_reply": "2021-01-14T00:40:22.086409Z"
    },
    "papermill": {
     "duration": 0.036116,
     "end_time": "2021-01-14T00:40:22.086620",
     "exception": false,
     "start_time": "2021-01-14T00:40:22.050504",
     "status": "completed"
    },
    "tags": []
   },
   "outputs": [],
   "source": [
    "from vireoSNP import Vireo"
   ]
  },
  {
   "cell_type": "markdown",
   "metadata": {
    "papermill": {
     "duration": 0.028782,
     "end_time": "2021-01-14T00:40:22.144222",
     "exception": false,
     "start_time": "2021-01-14T00:40:22.115440",
     "status": "completed"
    },
    "tags": []
   },
   "source": [
    "Note, there are a few key parameters:\n",
    "\n",
    "* `n_donor`: it means number of clones here, but you need to determine yourself. You can choose the one with highest ELBO (see next section)\n",
    "* `n_GT`: number of different genotype. For somatic mutations, we could assume that there are only two, namely present or absent\n",
    "* `is_theta_ASE`: whether allelic ratio is variant specific. For mitochondrial mutations, we choose True as allelic ratio can different from variant to variant"
   ]
  },
  {
   "cell_type": "markdown",
   "metadata": {
    "papermill": {
     "duration": 0.028404,
     "end_time": "2021-01-14T00:40:22.201598",
     "exception": false,
     "start_time": "2021-01-14T00:40:22.173194",
     "status": "completed"
    },
    "tags": []
   },
   "source": [
    "### Multiple initialization is needed to avoid local optima"
   ]
  },
  {
   "cell_type": "code",
   "execution_count": 10,
   "metadata": {
    "collapsed": true,
    "execution": {
     "iopub.execute_input": "2021-01-14T00:40:22.267400Z",
     "iopub.status.busy": "2021-01-14T00:40:22.266684Z",
     "iopub.status.idle": "2021-01-14T00:40:39.793638Z",
     "shell.execute_reply": "2021-01-14T00:40:39.794187Z"
    },
    "papermill": {
     "duration": 17.564288,
     "end_time": "2021-01-14T00:40:39.794417",
     "exception": false,
     "start_time": "2021-01-14T00:40:22.230129",
     "status": "completed"
    },
    "tags": []
   },
   "outputs": [],
   "source": [
    "np.random.seed(1)\n",
    "\n",
    "n_initials = 50\n",
    "_models_all = []\n",
    "for i in range(n_initials):\n",
    "    _modelCA = Vireo(n_var=AD_shape[0], n_cell=AD_shape[1], n_donor=3, n_GT=2,\n",
    "                     fix_beta_sum=False, ASE_mode=True)\n",
    "    _modelCA.set_prior(beta_mu_prior=np.array([[0.01, 0.5]]))\n",
    "    _modelCA.fit(AD, DP, min_iter=20, verbose=False, delay_fit_theta=0)\n",
    "    _models_all.append(_modelCA)"
   ]
  },
  {
   "cell_type": "code",
   "execution_count": 11,
   "metadata": {
    "collapsed": true,
    "execution": {
     "iopub.execute_input": "2021-01-14T00:40:39.863499Z",
     "iopub.status.busy": "2021-01-14T00:40:39.862776Z",
     "iopub.status.idle": "2021-01-14T00:40:39.865602Z",
     "shell.execute_reply": "2021-01-14T00:40:39.864928Z"
    },
    "papermill": {
     "duration": 0.038722,
     "end_time": "2021-01-14T00:40:39.865772",
     "exception": false,
     "start_time": "2021-01-14T00:40:39.827050",
     "status": "completed"
    },
    "tags": []
   },
   "outputs": [],
   "source": [
    "## Choose the model giving highest ELBO\n",
    "\n",
    "_idx = np.argmax([x.ELBO_[-1] for x in _models_all])\n",
    "modelCA = _models_all[_idx]\n",
    "_losses = modelCA.ELBO_"
   ]
  },
  {
   "cell_type": "code",
   "execution_count": 12,
   "metadata": {
    "execution": {
     "iopub.execute_input": "2021-01-14T00:40:39.958006Z",
     "iopub.status.busy": "2021-01-14T00:40:39.946910Z",
     "iopub.status.idle": "2021-01-14T00:40:40.374478Z",
     "shell.execute_reply": "2021-01-14T00:40:40.375043Z"
    },
    "papermill": {
     "duration": 0.479362,
     "end_time": "2021-01-14T00:40:40.375262",
     "exception": false,
     "start_time": "2021-01-14T00:40:39.895900",
     "status": "completed"
    },
    "tags": []
   },
   "outputs": [
    {
     "data": {
      "image/png": "[encoded data removed]",
      "text/plain": [
       "<Figure size 792x288 with 2 Axes>"
      ]
     },
     "metadata": {
      "needs_background": "light"
     },
     "output_type": "display_data"
    }
   ],
   "source": [
    "fig = plt.figure(figsize=(11, 4))\n",
    "plt.subplot(1, 2, 1)\n",
    "plt.hist([x.ELBO_[-1] for x in _models_all])\n",
    "plt.ylabel(\"Frequency\")\n",
    "plt.xlabel(\"ELBO with multiple initializations\")\n",
    "\n",
    "plt.subplot(1, 2, 2)\n",
    "plt.plot(_losses)\n",
    "plt.xlabel(\"Iterations\")\n",
    "plt.ylabel(\"ELBO in a single run\")\n",
    "\n",
    "plt.tight_layout()\n",
    "plt.show()"
   ]
  },
  {
   "cell_type": "code",
   "execution_count": 13,
   "metadata": {
    "execution": {
     "iopub.execute_input": "2021-01-14T00:40:40.444186Z",
     "iopub.status.busy": "2021-01-14T00:40:40.443486Z",
     "iopub.status.idle": "2021-01-14T00:40:40.448524Z",
     "shell.execute_reply": "2021-01-14T00:40:40.447937Z"
    },
    "papermill": {
     "duration": 0.042666,
     "end_time": "2021-01-14T00:40:40.448709",
     "exception": false,
     "start_time": "2021-01-14T00:40:40.406043",
     "status": "completed"
    },
    "tags": []
   },
   "outputs": [
    {
     "name": "stdout",
     "output_type": "stream",
     "text": [
      "[[0.01440 0.01609]\n",
      " [0.03514 0.50000]\n",
      " [0.01093 0.50000]\n",
      " [0.02982 0.50000]\n",
      " [0.01336 0.50000]\n",
      " [0.01044 0.50000]\n",
      " [0.15889 0.09564]\n",
      " [0.01095 0.01424]\n",
      " [0.01343 0.01613]\n",
      " [0.00964 0.01235]\n",
      " [0.01381 0.01765]\n",
      " [0.01127 0.01332]\n",
      " [0.01137 0.01580]\n",
      " [0.01314 0.01838]\n",
      " [0.11532 0.12500]\n",
      " [0.01110 0.01942]\n",
      " [0.01970 0.02798]\n",
      " [0.01582 0.02296]\n",
      " [0.01098 0.01123]\n",
      " [0.00965 0.01044]\n",
      " [0.02152 0.03033]\n",
      " [0.01080 0.50000]\n",
      " [0.01045 0.50000]\n",
      " [0.42951 0.40147]\n",
      " [0.01053 0.50000]\n",
      " [0.12648 0.14623]\n",
      " [0.01597 0.01992]\n",
      " [0.14587 0.18703]\n",
      " [0.02157 0.02788]\n",
      " [0.01094 0.01301]\n",
      " [0.01366 0.01687]\n",
      " [0.13323 0.17978]\n",
      " [0.06787 0.09828]\n",
      " [0.03341 0.06018]\n",
      " [0.01335 0.02178]\n",
      " [0.01517 0.02843]\n",
      " [0.00906 0.01671]\n",
      " [0.01003 0.01874]\n",
      " [0.01198 0.02277]\n",
      " [0.00774 0.01530]\n",
      " [0.00647 0.01363]\n",
      " [0.01620 0.01889]\n",
      " [0.03657 0.03941]\n",
      " [0.01352 0.50000]\n",
      " [0.01022 0.01130]\n",
      " [0.01039 0.01252]\n",
      " [0.01232 0.50000]\n",
      " [0.61925 0.00099]\n",
      " [0.00886 0.01146]\n",
      " [0.01423 0.01983]\n",
      " [0.02028 0.02737]\n",
      " [0.02899 0.03969]\n",
      " [0.08045 0.09445]\n",
      " [0.03302 0.03792]\n",
      " [0.01643 0.02101]\n",
      " [0.01262 0.01579]\n",
      " [0.02544 0.03144]\n",
      " [0.02765 0.03285]\n",
      " [0.04078 0.04469]\n",
      " [0.01622 0.01908]\n",
      " [0.01037 0.50000]\n",
      " [0.00932 0.01180]\n",
      " [0.00922 0.01254]\n",
      " [0.01205 0.50000]\n",
      " [0.01805 0.02002]\n",
      " [0.04094 0.04584]\n",
      " [0.04710 0.05325]\n",
      " [0.03655 0.04219]\n",
      " [0.02231 0.02676]\n",
      " [0.01129 0.01321]\n",
      " [0.01506 0.01674]\n",
      " [0.02628 0.03152]\n",
      " [0.02261 0.02778]\n",
      " [0.01118 0.01343]\n",
      " [0.01132 0.01301]\n",
      " [0.01383 0.01657]\n",
      " [0.01070 0.50000]\n",
      " [0.01172 0.01322]\n",
      " [0.02930 0.03207]\n",
      " [0.02398 0.02672]\n",
      " [0.01021 0.01135]]\n",
      "[[55980.52683 75735.47317]\n",
      " [123411.00000 50.00000]\n",
      " [116726.00000 50.00000]\n",
      " [111570.00000 50.00000]\n",
      " [111248.00000 50.00000]\n",
      " [110713.00000 50.00000]\n",
      " [43693.50214 60821.49786]\n",
      " [87002.53284 123792.46716]\n",
      " [87236.33570 123213.66430]\n",
      " [81317.77046 115047.22954]\n",
      " [90737.45535 125909.54465]\n",
      " [90866.77161 126625.22839]\n",
      " [110075.05406 152380.94594]\n",
      " [109500.19847 153391.80153]\n",
      " [31929.20305 42372.79695]\n",
      " [133916.90642 92120.09358]\n",
      " [119421.27358 153716.72642]\n",
      " [118268.04529 150022.95471]\n",
      " [157971.79331 101492.20669]\n",
      " [84743.75354 156280.24646]\n",
      " [256765.80315 7321.19685]\n",
      " [222200.00000 50.00000]\n",
      " [221296.00000 50.00000]\n",
      " [17086.88034 397.11966]\n",
      " [216151.00000 50.00000]\n",
      " [78656.20769 116385.79231]\n",
      " [107430.15188 142203.84812]\n",
      " [102618.43236 141343.56764]\n",
      " [111812.96180 152497.03820]\n",
      " [98627.56098 133977.43902]\n",
      " [102574.24884 138501.75116]\n",
      " [90728.05486 126595.94514]\n",
      " [108418.84208 147775.15792]\n",
      " [98844.59051 130920.40949]\n",
      " [99437.28651 126793.71349]\n",
      " [106725.75846 143956.24154]\n",
      " [109390.74790 147438.25210]\n",
      " [109670.92415 150235.07585]\n",
      " [123867.01550 145103.98450]\n",
      " [117534.32820 148797.67180]\n",
      " [110465.20314 143926.79686]\n",
      " [155680.51793 110004.48207]\n",
      " [101600.12418 137849.87582]\n",
      " [296044.00000 50.00000]\n",
      " [163463.26214 117698.73786]\n",
      " [91415.47561 128438.52439]\n",
      " [271195.00000 50.00000]\n",
      " [8152.54977 286114.45023]\n",
      " [88466.03250 116669.96750]\n",
      " [86647.83858 116326.16142]\n",
      " [87949.32202 114950.67798]\n",
      " [84765.58426 116239.41574]\n",
      " [82916.34381 115426.65619]\n",
      " [95641.79855 119394.20145]\n",
      " [93009.19555 116470.80445]\n",
      " [90344.74296 118494.25704]\n",
      " [81335.94643 111056.05357]\n",
      " [82522.19575 110026.80425]\n",
      " [81770.38981 108499.61019]\n",
      " [85846.17742 117633.82258]\n",
      " [217286.00000 50.00000]\n",
      " [82120.08958 110424.91042]\n",
      " [109254.28089 139829.71911]\n",
      " [303706.00000 50.00000]\n",
      " [106731.75129 153390.24871]\n",
      " [89394.71977 111840.28023]\n",
      " [92611.82206 118208.17794]\n",
      " [98069.35881 116197.64119]\n",
      " [99842.34845 116096.65155]\n",
      " [95990.13445 120761.86555]\n",
      " [91696.10475 121081.89525]\n",
      " [92235.08698 121363.91302]\n",
      " [91763.80044 119084.19956]\n",
      " [105508.23860 136875.76140]\n",
      " [103369.21151 131827.78849]\n",
      " [104197.13706 131674.86294]\n",
      " [243805.00000 50.00000]\n",
      " [116948.60040 153788.39960]\n",
      " [106619.02677 133786.97323]\n",
      " [105184.30142 146419.69858]\n",
      " [134379.35914 90275.64086]]\n"
     ]
    }
   ],
   "source": [
    "print(modelCA.beta_mu),\n",
    "print(modelCA.beta_sum)"
   ]
  },
  {
   "cell_type": "code",
   "execution_count": 14,
   "metadata": {
    "execution": {
     "iopub.execute_input": "2021-01-14T00:40:40.533702Z",
     "iopub.status.busy": "2021-01-14T00:40:40.523564Z",
     "iopub.status.idle": "2021-01-14T00:40:41.065491Z",
     "shell.execute_reply": "2021-01-14T00:40:41.066037Z"
    },
    "papermill": {
     "duration": 0.586088,
     "end_time": "2021-01-14T00:40:41.066256",
     "exception": false,
     "start_time": "2021-01-14T00:40:40.480168",
     "status": "completed"
    },
    "tags": []
   },
   "outputs": [
    {
     "data": {
      "image/png": "[encoded data removed]",
      "text/plain": [
       "<Figure size 700x400 with 4 Axes>"
      ]
     },
     "metadata": {
      "needs_background": "light"
     },
     "output_type": "display_data"
    }
   ],
   "source": [
    "import matplotlib.pyplot as plt\n",
    "from vireoSNP.plot.base_plot import heat_matrix\n",
    "\n",
    "fig = plt.figure(figsize=(7, 4), dpi=100)\n",
    "plt.subplot(1, 2, 1)\n",
    "im = heat_matrix(modelCA.ID_prob, cmap=\"Oranges\", alpha=0.8,\n",
    "                 display_value=False, row_sort=True)\n",
    "plt.colorbar(im, fraction=0.046, pad=0.04)\n",
    "plt.title(\"Assignment probability\")\n",
    "plt.xlabel(\"Clone\")\n",
    "plt.ylabel(\"%d cells\" %(modelCA.n_cell))\n",
    "plt.xticks(range(modelCA.n_donor))\n",
    "\n",
    "\n",
    "plt.subplot(1, 2, 2)\n",
    "AF_SNPs = np.sum(modelCA.GT_prob * \n",
    "                 np.expand_dims(modelCA.beta_mu, 1), axis=2)\n",
    "im = heat_matrix(AF_SNPs, cmap=\"Blues\", alpha=0.8, \n",
    "                 display_value=False, row_sort=True)\n",
    "plt.colorbar(im, fraction=0.046, pad=0.04)\n",
    "plt.title(\"Mean allelic ratio\")\n",
    "plt.xlabel(\"Clone\")\n",
    "plt.ylabel(\"%d SNPs\" %(modelCA.n_var))\n",
    "plt.xticks(range(modelCA.n_donor))\n",
    "\n",
    "plt.tight_layout()\n",
    "plt.show()"
   ]
  },
  {
   "cell_type": "code",
   "execution_count": 15,
   "metadata": {
    "execution": {
     "iopub.execute_input": "2021-01-14T00:40:41.140819Z",
     "iopub.status.busy": "2021-01-14T00:40:41.140144Z",
     "iopub.status.idle": "2021-01-14T00:40:41.153693Z",
     "shell.execute_reply": "2021-01-14T00:40:41.153079Z"
    },
    "papermill": {
     "duration": 0.052351,
     "end_time": "2021-01-14T00:40:41.153867",
     "exception": false,
     "start_time": "2021-01-14T00:40:41.101516",
     "status": "completed"
    },
    "tags": []
   },
   "outputs": [
    {
     "data": {
      "text/plain": [
       "62.46553469482931"
      ]
     },
     "execution_count": 15,
     "metadata": {},
     "output_type": "execute_result"
    }
   ],
   "source": [
    "np.sum(modelCA.predict_doublet(AD, DP)[0])"
   ]
  },
  {
   "cell_type": "code",
   "execution_count": null,
   "metadata": {
    "collapsed": true,
    "papermill": {
     "duration": 0.041721,
     "end_time": "2021-01-14T00:40:41.229469",
     "exception": false,
     "start_time": "2021-01-14T00:40:41.187748",
     "status": "completed"
    },
    "tags": []
   },
   "outputs": [],
   "source": []
  },
  {
   "cell_type": "markdown",
   "metadata": {
    "papermill": {
     "duration": 0.033838,
     "end_time": "2021-01-14T00:40:41.300390",
     "exception": false,
     "start_time": "2021-01-14T00:40:41.266552",
     "status": "completed"
    },
    "tags": []
   },
   "source": [
    "### Choose the number of clones\n",
    "We can choose the number of clones where ELBO stops increasing. Here, the best number of clone is 3.\n",
    "\n",
    "Note, for a certain number of clone, e.g., n_clone=3, the ELBO may not the same for multiple initializations. This is becaused VI can only guarantee a local optima, so please choose the highest ELBO for each `n_clone` to represent its \"global\" optima."
   ]
  },
  {
   "cell_type": "code",
   "execution_count": 16,
   "metadata": {
    "collapsed": true,
    "execution": {
     "iopub.execute_input": "2021-01-14T00:40:41.378408Z",
     "iopub.status.busy": "2021-01-14T00:40:41.377706Z",
     "iopub.status.idle": "2021-01-14T00:42:06.658273Z",
     "shell.execute_reply": "2021-01-14T00:42:06.658907Z"
    },
    "papermill": {
     "duration": 85.325169,
     "end_time": "2021-01-14T00:42:06.659247",
     "exception": false,
     "start_time": "2021-01-14T00:40:41.334078",
     "status": "completed"
    },
    "tags": []
   },
   "outputs": [],
   "source": [
    "n_initials = 50\n",
    "n_clone_list = np.arange(2, 6)\n",
    "\n",
    "_ELBO_mat = [] \n",
    "for k in n_clone_list:\n",
    "    _elbo_temp = []\n",
    "    for i in range(50):\n",
    "        _modelCA = Vireo(n_var=AD_shape[0], n_cell=AD_shape[1], n_donor=k, n_GT=2,\n",
    "                         fix_beta_sum=False, ASE_mode=True)\n",
    "        _modelCA.set_prior(beta_mu_prior=np.array([[0.01, 0.5]]))\n",
    "        _modelCA.fit(AD, DP, min_iter=20, verbose=False)\n",
    "        _elbo_temp.append(_modelCA.ELBO_[-1])\n",
    "    _ELBO_mat.append(_elbo_temp)"
   ]
  },
  {
   "cell_type": "code",
   "execution_count": 17,
   "metadata": {
    "execution": {
     "iopub.execute_input": "2021-01-14T00:42:06.744448Z",
     "iopub.status.busy": "2021-01-14T00:42:06.741218Z",
     "iopub.status.idle": "2021-01-14T00:42:06.937048Z",
     "shell.execute_reply": "2021-01-14T00:42:06.936500Z"
    },
    "papermill": {
     "duration": 0.240855,
     "end_time": "2021-01-14T00:42:06.937207",
     "exception": false,
     "start_time": "2021-01-14T00:42:06.696352",
     "status": "completed"
    },
    "tags": []
   },
   "outputs": [
    {
     "data": {
      "image/png": "[encoded data removed]",
      "text/plain": [
       "<Figure size 432x288 with 1 Axes>"
      ]
     },
     "metadata": {
      "needs_background": "light"
     },
     "output_type": "display_data"
    }
   ],
   "source": [
    "plt.plot([1, 2, 3, 4], np.max(_ELBO_mat, axis=1))\n",
    "plt.boxplot(_ELBO_mat)\n",
    "plt.xticks(n_clone_list - 1, n_clone_list)\n",
    "plt.ylabel(\"ELBO\")\n",
    "plt.xlabel(\"n_clones\")\n",
    "plt.show()"
   ]
  },
  {
   "cell_type": "code",
   "execution_count": null,
   "metadata": {
    "collapsed": true,
    "papermill": {
     "duration": 0.033073,
     "end_time": "2021-01-14T00:42:07.074923",
     "exception": false,
     "start_time": "2021-01-14T00:42:07.041850",
     "status": "completed"
    },
    "tags": []
   },
   "outputs": [],
   "source": []
  },
  {
   "cell_type": "code",
   "execution_count": null,
   "metadata": {
    "collapsed": true,
    "papermill": {
     "duration": 0.079965,
     "end_time": "2021-01-14T00:42:07.187766",
     "exception": false,
     "start_time": "2021-01-14T00:42:07.107801",
     "status": "completed"
    },
    "tags": []
   },
   "outputs": [],
   "source": []
  },
  {
   "cell_type": "markdown",
   "metadata": {
    "collapsed": true,
    "papermill": {
     "duration": 0.038159,
     "end_time": "2021-01-14T00:42:10.485074",
     "exception": false,
     "start_time": "2021-01-14T00:42:10.446915",
     "status": "completed"
    },
    "tags": []
   },
   "source": [
    "## Plot K=4"
   ]
  },
  {
   "cell_type": "code",
   "execution_count": 23,
   "metadata": {
    "execution": {
     "iopub.execute_input": "2021-01-14T00:42:10.578943Z",
     "iopub.status.busy": "2021-01-14T00:42:10.578227Z",
     "iopub.status.idle": "2021-01-14T00:42:35.892271Z",
     "shell.execute_reply": "2021-01-14T00:42:35.892785Z"
    },
    "papermill": {
     "duration": 25.371014,
     "end_time": "2021-01-14T00:42:35.892999",
     "exception": false,
     "start_time": "2021-01-14T00:42:10.521985",
     "status": "completed"
    },
    "tags": []
   },
   "outputs": [
    {
     "data": {
      "image/png": "[encoded data removed]",
      "text/plain": [
       "<Figure size 700x400 with 4 Axes>"
      ]
     },
     "metadata": {
      "needs_background": "light"
     },
     "output_type": "display_data"
    }
   ],
   "source": [
    "np.random.seed(1)\n",
    "\n",
    "n_initials = 50\n",
    "_models_all = []\n",
    "for i in range(n_initials):\n",
    "    _modelCA = Vireo(n_var=AD_shape[0], n_cell=AD_shape[1], n_donor=4, n_GT=2,\n",
    "                     fix_beta_sum=False, ASE_mode=True)\n",
    "    _modelCA.set_prior(beta_mu_prior=np.array([[0.01, 0.5]]))\n",
    "    _modelCA.fit(AD, DP, min_iter=20, verbose=False, delay_fit_theta=0)\n",
    "    _models_all.append(_modelCA)\n",
    "    \n",
    "## Choose the model giving highest ELBO\n",
    "\n",
    "_idx = np.argmax([x.ELBO_[-1] for x in _models_all])\n",
    "modelCA = _models_all[_idx]\n",
    "_losses = modelCA.ELBO_\n",
    "\n",
    "\n",
    "import matplotlib.pyplot as plt\n",
    "from vireoSNP.plot.base_plot import heat_matrix\n",
    "\n",
    "fig = plt.figure(figsize=(7, 4), dpi=100)\n",
    "plt.subplot(1, 2, 1)\n",
    "im = heat_matrix(modelCA.ID_prob, cmap=\"Oranges\", alpha=0.8,\n",
    "                 display_value=False, row_sort=True)\n",
    "plt.colorbar(im, fraction=0.046, pad=0.04)\n",
    "plt.title(\"Assignment probability\")\n",
    "plt.xlabel(\"Clone\")\n",
    "plt.ylabel(\"%d cells\" %(modelCA.n_cell))\n",
    "plt.xticks(range(modelCA.n_donor))\n",
    "\n",
    "\n",
    "plt.subplot(1, 2, 2)\n",
    "AF_SNPs = np.sum(modelCA.GT_prob * \n",
    "                 np.expand_dims(modelCA.beta_mu, 1), axis=2)\n",
    "im = heat_matrix(AF_SNPs, cmap=\"Blues\", alpha=0.8, \n",
    "                 display_value=False, row_sort=True)\n",
    "plt.colorbar(im, fraction=0.046, pad=0.04)\n",
    "plt.title(\"Mean allelic ratio\")\n",
    "plt.xlabel(\"Clone\")\n",
    "plt.ylabel(\"%d SNPs\" %(modelCA.n_var))\n",
    "plt.xticks(range(modelCA.n_donor))\n",
    "\n",
    "plt.tight_layout()\n",
    "plt.show()"
   ]
  }
 ],
 "metadata": {
  "celltoolbar": "Tags",
  "kernelspec": {
   "display_name": "Python 3",
   "language": "python",
   "name": "python3"
  },
  "language_info": {
   "codemirror_mode": {
    "name": "ipython",
    "version": 3
   },
   "file_extension": ".py",
   "mimetype": "text/x-python",
   "name": "python",
   "nbconvert_exporter": "python",
   "pygments_lexer": "ipython3",
   "version": "3.7.3"
  },
  "papermill": {
   "default_parameters": {},
   "duration": 136.727224,
   "end_time": "2021-01-14T00:42:36.396535",
   "environment_variables": {},
   "exception": null,
   "input_path": "/data2/mito_lineage/src/vireo/vireoSNP_clones.ipynb",
   "output_path": "results/chrM/PBMC_J_cellSNP_minC20_minAF0.01/lineage_chrM.ipynb",
   "parameters": {
    "AD_F": "data/chrM/PBMC_J_cellSNP_minC20_minAF0.01/cellSNP.tag.AD.mtx",
    "DP_F": "data/chrM/PBMC_J_cellSNP_minC20_minAF0.01/cellSNP.tag.DP.mtx"
   },
   "start_time": "2021-01-14T00:40:19.669311",
   "version": "2.2.0"
  }
 },
 "nbformat": 4,
 "nbformat_minor": 4
}
