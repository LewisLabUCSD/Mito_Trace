{
 "cells": [
  {
   "cell_type": "code",
   "execution_count": 1,
   "metadata": {
    "ExecuteTime": {
     "end_time": "2021-01-07T22:17:00.753670Z",
     "start_time": "2021-01-07T22:17:00.746914Z"
    },
    "execution": {
     "iopub.execute_input": "2021-01-14T01:24:22.249398Z",
     "iopub.status.busy": "2021-01-14T01:24:22.248698Z",
     "iopub.status.idle": "2021-01-14T01:24:22.252536Z",
     "shell.execute_reply": "2021-01-14T01:24:22.251946Z"
    },
    "papermill": {
     "duration": 0.041847,
     "end_time": "2021-01-14T01:24:22.252719",
     "exception": false,
     "start_time": "2021-01-14T01:24:22.210872",
     "status": "completed"
    },
    "tags": []
   },
   "outputs": [
    {
     "data": {
      "text/plain": [
       "'/data2/mito_lineage/Analysis/multiplex'"
      ]
     },
     "execution_count": 1,
     "metadata": {},
     "output_type": "execute_result"
    }
   ],
   "source": [
    "pwd"
   ]
  },
  {
   "cell_type": "code",
   "execution_count": 2,
   "metadata": {
    "collapsed": true,
    "execution": {
     "iopub.execute_input": "2021-01-14T01:24:22.310323Z",
     "iopub.status.busy": "2021-01-14T01:24:22.309740Z",
     "iopub.status.idle": "2021-01-14T01:24:22.312534Z",
     "shell.execute_reply": "2021-01-14T01:24:22.312025Z"
    },
    "papermill": {
     "duration": 0.032563,
     "end_time": "2021-01-14T01:24:22.312666",
     "exception": false,
     "start_time": "2021-01-14T01:24:22.280103",
     "status": "completed"
    },
    "tags": [
     "parameters"
    ]
   },
   "outputs": [],
   "source": [
    "AD_F = \"../data/mitoDNA/cellSNP.tag.AD.mtx\"\n",
    "DP_F = \"../data/mitoDNA/cellSNP.tag.DP.mtx\""
   ]
  },
  {
   "cell_type": "code",
   "execution_count": 3,
   "metadata": {
    "execution": {
     "iopub.execute_input": "2021-01-14T01:24:22.364938Z",
     "iopub.status.busy": "2021-01-14T01:24:22.364272Z",
     "iopub.status.idle": "2021-01-14T01:24:22.367060Z",
     "shell.execute_reply": "2021-01-14T01:24:22.366502Z"
    },
    "papermill": {
     "duration": 0.030521,
     "end_time": "2021-01-14T01:24:22.367191",
     "exception": false,
     "start_time": "2021-01-14T01:24:22.336670",
     "status": "completed"
    },
    "tags": [
     "injected-parameters"
    ]
   },
   "outputs": [],
   "source": [
    "# Parameters\n",
    "AD_F = \"data/chrM/PBMC_P_cellSNP_minC20_minAF0.01/cellSNP.tag.AD.mtx\"\n",
    "DP_F = \"data/chrM/PBMC_P_cellSNP_minC20_minAF0.01/cellSNP.tag.DP.mtx\"\n"
   ]
  },
  {
   "cell_type": "code",
   "execution_count": 4,
   "metadata": {
    "ExecuteTime": {
     "end_time": "2021-01-07T22:11:17.977334Z",
     "start_time": "2021-01-07T22:11:17.962011Z"
    },
    "execution": {
     "iopub.execute_input": "2021-01-14T01:24:22.424640Z",
     "iopub.status.busy": "2021-01-14T01:24:22.423916Z",
     "iopub.status.idle": "2021-01-14T01:24:22.427778Z",
     "shell.execute_reply": "2021-01-14T01:24:22.427205Z"
    },
    "papermill": {
     "duration": 0.035058,
     "end_time": "2021-01-14T01:24:22.427935",
     "exception": false,
     "start_time": "2021-01-14T01:24:22.392877",
     "status": "completed"
    },
    "tags": []
   },
   "outputs": [
    {
     "data": {
      "text/plain": [
       "'/data2/mito_lineage/Analysis/multiplex'"
      ]
     },
     "execution_count": 4,
     "metadata": {},
     "output_type": "execute_result"
    }
   ],
   "source": [
    "pwd"
   ]
  },
  {
   "cell_type": "markdown",
   "metadata": {
    "papermill": {
     "duration": 0.025938,
     "end_time": "2021-01-14T01:24:22.497953",
     "exception": false,
     "start_time": "2021-01-14T01:24:22.472015",
     "status": "completed"
    },
    "tags": []
   },
   "source": [
    "# Using vireo for clonal reconstruction - mitochondrial mutations"
   ]
  },
  {
   "cell_type": "markdown",
   "metadata": {
    "papermill": {
     "duration": 0.05285,
     "end_time": "2021-01-14T01:24:22.576926",
     "exception": false,
     "start_time": "2021-01-14T01:24:22.524076",
     "status": "completed"
    },
    "tags": []
   },
   "source": [
    "The mitochondrial mutations data set is extracted from [Ludwig et al, Cell, 2019](https://doi.org/10.1016/j.cell.2019.01.022), the 9 variants used here are from Supp Fig. 2F (and main Fig. 2F).\n",
    "\n",
    "For clonal reconstruction, we are using the core class `vireoSNP.Vireo` with multiple initializations"
   ]
  },
  {
   "cell_type": "code",
   "execution_count": 5,
   "metadata": {
    "execution": {
     "iopub.execute_input": "2021-01-14T01:24:22.636461Z",
     "iopub.status.busy": "2021-01-14T01:24:22.635801Z",
     "iopub.status.idle": "2021-01-14T01:24:23.325927Z",
     "shell.execute_reply": "2021-01-14T01:24:23.326717Z"
    },
    "papermill": {
     "duration": 0.72389,
     "end_time": "2021-01-14T01:24:23.327018",
     "exception": false,
     "start_time": "2021-01-14T01:24:22.603128",
     "status": "completed"
    },
    "tags": []
   },
   "outputs": [
    {
     "name": "stdout",
     "output_type": "stream",
     "text": [
      "0.4.2\n"
     ]
    }
   ],
   "source": [
    "import vireoSNP\n",
    "import numpy as np\n",
    "from scipy import sparse\n",
    "from scipy.io import mmread\n",
    "import matplotlib.pyplot as plt\n",
    "\n",
    "print(vireoSNP.__version__)"
   ]
  },
  {
   "cell_type": "code",
   "execution_count": 6,
   "metadata": {
    "collapsed": true,
    "execution": {
     "iopub.execute_input": "2021-01-14T01:24:23.418233Z",
     "iopub.status.busy": "2021-01-14T01:24:23.417611Z",
     "iopub.status.idle": "2021-01-14T01:24:23.419931Z",
     "shell.execute_reply": "2021-01-14T01:24:23.420429Z"
    },
    "papermill": {
     "duration": 0.044641,
     "end_time": "2021-01-14T01:24:23.420589",
     "exception": false,
     "start_time": "2021-01-14T01:24:23.375948",
     "status": "completed"
    },
    "tags": []
   },
   "outputs": [],
   "source": [
    "np.set_printoptions(formatter={'float': lambda x: format(x, '.5f')})"
   ]
  },
  {
   "cell_type": "code",
   "execution_count": 7,
   "metadata": {
    "collapsed": true,
    "execution": {
     "iopub.execute_input": "2021-01-14T01:24:23.479498Z",
     "iopub.status.busy": "2021-01-14T01:24:23.478890Z",
     "iopub.status.idle": "2021-01-14T01:24:23.732571Z",
     "shell.execute_reply": "2021-01-14T01:24:23.733106Z"
    },
    "papermill": {
     "duration": 0.285651,
     "end_time": "2021-01-14T01:24:23.733334",
     "exception": false,
     "start_time": "2021-01-14T01:24:23.447683",
     "status": "completed"
    },
    "tags": []
   },
   "outputs": [],
   "source": [
    "AD = mmread(AD_F).tocsc()\n",
    "DP = mmread(DP_F).tocsc()"
   ]
  },
  {
   "cell_type": "code",
   "execution_count": 8,
   "metadata": {
    "execution": {
     "iopub.execute_input": "2021-01-14T01:24:23.792763Z",
     "iopub.status.busy": "2021-01-14T01:24:23.792105Z",
     "iopub.status.idle": "2021-01-14T01:24:23.794850Z",
     "shell.execute_reply": "2021-01-14T01:24:23.795376Z"
    },
    "papermill": {
     "duration": 0.034062,
     "end_time": "2021-01-14T01:24:23.795530",
     "exception": false,
     "start_time": "2021-01-14T01:24:23.761468",
     "status": "completed"
    },
    "tags": []
   },
   "outputs": [],
   "source": [
    "AD_shape = AD.todense().shape"
   ]
  },
  {
   "cell_type": "markdown",
   "metadata": {
    "papermill": {
     "duration": 0.026722,
     "end_time": "2021-01-14T01:24:23.849466",
     "exception": false,
     "start_time": "2021-01-14T01:24:23.822744",
     "status": "completed"
    },
    "tags": []
   },
   "source": [
    "## New implementation in v0.3.0"
   ]
  },
  {
   "cell_type": "code",
   "execution_count": 9,
   "metadata": {
    "collapsed": true,
    "execution": {
     "iopub.execute_input": "2021-01-14T01:24:23.906103Z",
     "iopub.status.busy": "2021-01-14T01:24:23.905488Z",
     "iopub.status.idle": "2021-01-14T01:24:23.907959Z",
     "shell.execute_reply": "2021-01-14T01:24:23.908471Z"
    },
    "papermill": {
     "duration": 0.032444,
     "end_time": "2021-01-14T01:24:23.908638",
     "exception": false,
     "start_time": "2021-01-14T01:24:23.876194",
     "status": "completed"
    },
    "tags": []
   },
   "outputs": [],
   "source": [
    "from vireoSNP import Vireo"
   ]
  },
  {
   "cell_type": "markdown",
   "metadata": {
    "papermill": {
     "duration": 0.049522,
     "end_time": "2021-01-14T01:24:23.985956",
     "exception": false,
     "start_time": "2021-01-14T01:24:23.936434",
     "status": "completed"
    },
    "tags": []
   },
   "source": [
    "Note, there are a few key parameters:\n",
    "\n",
    "* `n_donor`: it means number of clones here, but you need to determine yourself. You can choose the one with highest ELBO (see next section)\n",
    "* `n_GT`: number of different genotype. For somatic mutations, we could assume that there are only two, namely present or absent\n",
    "* `is_theta_ASE`: whether allelic ratio is variant specific. For mitochondrial mutations, we choose True as allelic ratio can different from variant to variant"
   ]
  },
  {
   "cell_type": "markdown",
   "metadata": {
    "papermill": {
     "duration": 0.02578,
     "end_time": "2021-01-14T01:24:24.037862",
     "exception": false,
     "start_time": "2021-01-14T01:24:24.012082",
     "status": "completed"
    },
    "tags": []
   },
   "source": [
    "### Multiple initialization is needed to avoid local optima"
   ]
  },
  {
   "cell_type": "code",
   "execution_count": 10,
   "metadata": {
    "collapsed": true,
    "execution": {
     "iopub.execute_input": "2021-01-14T01:24:24.099094Z",
     "iopub.status.busy": "2021-01-14T01:24:24.098425Z",
     "iopub.status.idle": "2021-01-14T01:24:42.301873Z",
     "shell.execute_reply": "2021-01-14T01:24:42.302413Z"
    },
    "papermill": {
     "duration": 18.237334,
     "end_time": "2021-01-14T01:24:42.302613",
     "exception": false,
     "start_time": "2021-01-14T01:24:24.065279",
     "status": "completed"
    },
    "tags": []
   },
   "outputs": [],
   "source": [
    "np.random.seed(1)\n",
    "\n",
    "n_initials = 50\n",
    "_models_all = []\n",
    "for i in range(n_initials):\n",
    "    _modelCA = Vireo(n_var=AD_shape[0], n_cell=AD_shape[1], n_donor=3, n_GT=2,\n",
    "                     fix_beta_sum=False, ASE_mode=True)\n",
    "    _modelCA.set_prior(beta_mu_prior=np.array([[0.01, 0.5]]))\n",
    "    _modelCA.fit(AD, DP, min_iter=20, verbose=False, delay_fit_theta=0)\n",
    "    _models_all.append(_modelCA)"
   ]
  },
  {
   "cell_type": "code",
   "execution_count": 11,
   "metadata": {
    "collapsed": true,
    "execution": {
     "iopub.execute_input": "2021-01-14T01:24:42.368030Z",
     "iopub.status.busy": "2021-01-14T01:24:42.367381Z",
     "iopub.status.idle": "2021-01-14T01:24:42.369516Z",
     "shell.execute_reply": "2021-01-14T01:24:42.370054Z"
    },
    "papermill": {
     "duration": 0.038475,
     "end_time": "2021-01-14T01:24:42.370219",
     "exception": false,
     "start_time": "2021-01-14T01:24:42.331744",
     "status": "completed"
    },
    "tags": []
   },
   "outputs": [],
   "source": [
    "## Choose the model giving highest ELBO\n",
    "\n",
    "_idx = np.argmax([x.ELBO_[-1] for x in _models_all])\n",
    "modelCA = _models_all[_idx]\n",
    "_losses = modelCA.ELBO_"
   ]
  },
  {
   "cell_type": "code",
   "execution_count": 12,
   "metadata": {
    "execution": {
     "iopub.execute_input": "2021-01-14T01:24:42.446117Z",
     "iopub.status.busy": "2021-01-14T01:24:42.445214Z",
     "iopub.status.idle": "2021-01-14T01:24:42.829191Z",
     "shell.execute_reply": "2021-01-14T01:24:42.828653Z"
    },
    "papermill": {
     "duration": 0.431588,
     "end_time": "2021-01-14T01:24:42.829337",
     "exception": false,
     "start_time": "2021-01-14T01:24:42.397749",
     "status": "completed"
    },
    "tags": []
   },
   "outputs": [
    {
     "data": {
      "image/png": "[encoded data removed]",
      "text/plain": [
       "<Figure size 792x288 with 2 Axes>"
      ]
     },
     "metadata": {
      "needs_background": "light"
     },
     "output_type": "display_data"
    }
   ],
   "source": [
    "fig = plt.figure(figsize=(11, 4))\n",
    "plt.subplot(1, 2, 1)\n",
    "plt.hist([x.ELBO_[-1] for x in _models_all])\n",
    "plt.ylabel(\"Frequency\")\n",
    "plt.xlabel(\"ELBO with multiple initializations\")\n",
    "\n",
    "plt.subplot(1, 2, 2)\n",
    "plt.plot(_losses)\n",
    "plt.xlabel(\"Iterations\")\n",
    "plt.ylabel(\"ELBO in a single run\")\n",
    "\n",
    "plt.tight_layout()\n",
    "plt.show()"
   ]
  },
  {
   "cell_type": "code",
   "execution_count": 13,
   "metadata": {
    "execution": {
     "iopub.execute_input": "2021-01-14T01:24:42.894021Z",
     "iopub.status.busy": "2021-01-14T01:24:42.893430Z",
     "iopub.status.idle": "2021-01-14T01:24:42.896407Z",
     "shell.execute_reply": "2021-01-14T01:24:42.896871Z"
    },
    "papermill": {
     "duration": 0.038448,
     "end_time": "2021-01-14T01:24:42.897022",
     "exception": false,
     "start_time": "2021-01-14T01:24:42.858574",
     "status": "completed"
    },
    "tags": []
   },
   "outputs": [
    {
     "name": "stdout",
     "output_type": "stream",
     "text": [
      "[[0.02230 0.02248]\n",
      " [0.04915 0.05160]\n",
      " [0.03654 0.03847]\n",
      " [0.26654 0.29098]\n",
      " [0.01388 0.01461]\n",
      " [0.01496 0.50000]\n",
      " [0.01235 0.01384]\n",
      " [0.01570 0.01729]\n",
      " [0.01222 0.01299]\n",
      " [0.01168 0.01284]\n",
      " [0.01358 0.01677]\n",
      " [0.14409 0.13057]\n",
      " [0.01154 0.01887]\n",
      " [0.02053 0.02194]\n",
      " [0.01645 0.01792]\n",
      " [0.01048 0.50000]\n",
      " [0.01027 0.01079]\n",
      " [0.01547 0.02240]\n",
      " [0.00873 0.01027]\n",
      " [0.00713 0.01684]\n",
      " [0.00627 0.01485]\n",
      " [0.37167 0.46466]\n",
      " [0.00982 0.01368]\n",
      " [0.13127 0.13652]\n",
      " [0.01713 0.01906]\n",
      " [0.16158 0.17405]\n",
      " [0.02485 0.02626]\n",
      " [0.01266 0.01411]\n",
      " [0.01501 0.01569]\n",
      " [0.14794 0.16543]\n",
      " [0.01121 0.01368]\n",
      " [0.08368 0.09687]\n",
      " [0.06197 0.07312]\n",
      " [0.01678 0.02203]\n",
      " [0.02054 0.02498]\n",
      " [0.01223 0.01492]\n",
      " [0.01245 0.01524]\n",
      " [0.01281 0.01519]\n",
      " [0.01846 0.02814]\n",
      " [0.03554 0.03729]\n",
      " [0.01369 0.01804]\n",
      " [0.00926 0.01092]\n",
      " [0.01089 0.01384]\n",
      " [0.01172 0.01202]\n",
      " [0.00745 0.01239]\n",
      " [0.01128 0.02012]\n",
      " [0.01492 0.02629]\n",
      " [0.02502 0.03963]\n",
      " [0.07946 0.09131]\n",
      " [0.03473 0.03601]\n",
      " [0.01739 0.01954]\n",
      " [0.01310 0.01404]\n",
      " [0.02501 0.02903]\n",
      " [0.02673 0.03030]\n",
      " [0.04026 0.04122]\n",
      " [0.01736 0.01832]\n",
      " [0.01047 0.50000]\n",
      " [0.01081 0.01158]\n",
      " [0.01032 0.01127]\n",
      " [0.01550 0.01687]\n",
      " [0.01124 0.01494]\n",
      " [0.01086 0.01728]\n",
      " [0.01924 0.02975]\n",
      " [0.00789 0.01427]\n",
      " [0.01961 0.03158]\n",
      " [0.03849 0.04335]\n",
      " [0.04360 0.04640]\n",
      " [0.03760 0.03942]\n",
      " [0.02326 0.02532]\n",
      " [0.01109 0.01190]\n",
      " [0.01374 0.01656]\n",
      " [0.02656 0.02895]\n",
      " [0.02159 0.02454]\n",
      " [0.01154 0.01299]\n",
      " [0.01151 0.01326]\n",
      " [0.01457 0.01618]\n",
      " [0.01136 0.01491]\n",
      " [0.00291 0.59687]\n",
      " [0.01126 0.50000]\n",
      " [0.04178 0.03016]\n",
      " [0.03549 0.02797]\n",
      " [0.01015 0.01253]]\n",
      "[[159078.50520 139889.49480]\n",
      " [134759.30223 132986.69777]\n",
      " [143794.83498 123689.16502]\n",
      " [130427.25543 134300.74457]\n",
      " [184907.32052 224991.67948]\n",
      " [402160.00000 50.00000]\n",
      " [175213.12789 206809.87211]\n",
      " [206659.39338 211128.60662]\n",
      " [220395.83709 190738.16291]\n",
      " [254085.00847 249244.99153]\n",
      " [473343.58888 28300.41112]\n",
      " [73486.02980 61828.97020]\n",
      " [242041.02008 191955.97992]\n",
      " [235683.14250 299313.85750]\n",
      " [228745.36895 293107.63105]\n",
      " [504218.00000 50.00000]\n",
      " [292273.00627 175044.99373]\n",
      " [219908.47964 279681.52036]\n",
      " [32632.01448 537749.98552]\n",
      " [234891.17159 188571.82841]\n",
      " [267869.68116 214516.31884]\n",
      " [14795.47604 14906.52396]\n",
      " [202080.31467 214590.68533]\n",
      " [178069.15042 199150.84958]\n",
      " [211374.98695 274709.01305]\n",
      " [206770.31121 269959.68879]\n",
      " [225976.36825 287435.63175]\n",
      " [196079.11119 249271.88881]\n",
      " [224217.35991 237352.64009]\n",
      " [184778.41640 235908.58360]\n",
      " [200906.84463 255734.15537]\n",
      " [212332.10902 268026.89098]\n",
      " [215940.14978 271308.85022]\n",
      " [197353.05046 243968.94954]\n",
      " [215074.01904 265933.98096]\n",
      " [221720.65343 273292.34657]\n",
      " [236838.56332 265767.43668]\n",
      " [268490.03567 263765.96433]\n",
      " [226604.83379 280302.16621]\n",
      " [219119.27268 249582.72732]\n",
      " [522618.58947 32490.41053]\n",
      " [270487.58647 269604.41353]\n",
      " [405266.56762 24740.43238]\n",
      " [284415.46218 256808.53782]\n",
      " [169757.48415 209978.51585]\n",
      " [168002.58789 207865.41211]\n",
      " [167766.77894 207374.22106]\n",
      " [166303.10746 205923.89254]\n",
      " [188889.97594 191696.02406]\n",
      " [225853.69575 188170.30425]\n",
      " [178192.38812 226064.61188]\n",
      " [186733.29360 216450.70640]\n",
      " [184523.33572 186725.66428]\n",
      " [173609.45289 197120.54711]\n",
      " [233672.77478 117878.22522]\n",
      " [210008.10012 161796.89988]\n",
      " [394955.00000 50.00000]\n",
      " [203695.32590 145757.67410]\n",
      " [225536.01787 248843.98213]\n",
      " [290581.85170 286454.14830]\n",
      " [254766.36706 307138.63294]\n",
      " [197339.86952 247985.13048]\n",
      " [194798.13609 245444.86391]\n",
      " [225124.37591 280674.62409]\n",
      " [228534.70108 285757.29892]\n",
      " [181283.39804 228207.60196]\n",
      " [221866.31436 207058.68564]\n",
      " [218516.83164 211806.16836]\n",
      " [222243.37586 211066.62414]\n",
      " [231068.03027 200208.96973]\n",
      " [238623.43198 184984.56802]\n",
      " [232822.16607 189722.83393]\n",
      " [234652.84427 185305.15573]\n",
      " [236888.58401 230602.41599]\n",
      " [257081.39801 200232.60199]\n",
      " [258405.80073 200687.19927]\n",
      " [206549.27434 263402.72566]\n",
      " [535378.77091 32206.22909]\n",
      " [526408.00000 50.00000]\n",
      " [255044.61316 202596.38684]\n",
      " [267490.71655 211156.28345]\n",
      " [198996.17315 254948.82685]]\n"
     ]
    }
   ],
   "source": [
    "print(modelCA.beta_mu),\n",
    "print(modelCA.beta_sum)"
   ]
  },
  {
   "cell_type": "code",
   "execution_count": 14,
   "metadata": {
    "execution": {
     "iopub.execute_input": "2021-01-14T01:24:42.974210Z",
     "iopub.status.busy": "2021-01-14T01:24:42.971491Z",
     "iopub.status.idle": "2021-01-14T01:24:43.448969Z",
     "shell.execute_reply": "2021-01-14T01:24:43.448364Z"
    },
    "papermill": {
     "duration": 0.524558,
     "end_time": "2021-01-14T01:24:43.449109",
     "exception": false,
     "start_time": "2021-01-14T01:24:42.924551",
     "status": "completed"
    },
    "tags": []
   },
   "outputs": [
    {
     "data": {
      "image/png": "[encoded data removed]",
      "text/plain": [
       "<Figure size 700x400 with 4 Axes>"
      ]
     },
     "metadata": {
      "needs_background": "light"
     },
     "output_type": "display_data"
    }
   ],
   "source": [
    "import matplotlib.pyplot as plt\n",
    "from vireoSNP.plot.base_plot import heat_matrix\n",
    "\n",
    "fig = plt.figure(figsize=(7, 4), dpi=100)\n",
    "plt.subplot(1, 2, 1)\n",
    "im = heat_matrix(modelCA.ID_prob, cmap=\"Oranges\", alpha=0.8,\n",
    "                 display_value=False, row_sort=True)\n",
    "plt.colorbar(im, fraction=0.046, pad=0.04)\n",
    "plt.title(\"Assignment probability\")\n",
    "plt.xlabel(\"Clone\")\n",
    "plt.ylabel(\"%d cells\" %(modelCA.n_cell))\n",
    "plt.xticks(range(modelCA.n_donor))\n",
    "\n",
    "\n",
    "plt.subplot(1, 2, 2)\n",
    "AF_SNPs = np.sum(modelCA.GT_prob * \n",
    "                 np.expand_dims(modelCA.beta_mu, 1), axis=2)\n",
    "im = heat_matrix(AF_SNPs, cmap=\"Blues\", alpha=0.8, \n",
    "                 display_value=False, row_sort=True)\n",
    "plt.colorbar(im, fraction=0.046, pad=0.04)\n",
    "plt.title(\"Mean allelic ratio\")\n",
    "plt.xlabel(\"Clone\")\n",
    "plt.ylabel(\"%d SNPs\" %(modelCA.n_var))\n",
    "plt.xticks(range(modelCA.n_donor))\n",
    "\n",
    "plt.tight_layout()\n",
    "plt.show()"
   ]
  },
  {
   "cell_type": "code",
   "execution_count": 15,
   "metadata": {
    "execution": {
     "iopub.execute_input": "2021-01-14T01:24:43.513507Z",
     "iopub.status.busy": "2021-01-14T01:24:43.512872Z",
     "iopub.status.idle": "2021-01-14T01:24:43.525250Z",
     "shell.execute_reply": "2021-01-14T01:24:43.524606Z"
    },
    "papermill": {
     "duration": 0.045369,
     "end_time": "2021-01-14T01:24:43.525382",
     "exception": false,
     "start_time": "2021-01-14T01:24:43.480013",
     "status": "completed"
    },
    "tags": []
   },
   "outputs": [
    {
     "data": {
      "text/plain": [
       "66.84258490200754"
      ]
     },
     "execution_count": 15,
     "metadata": {},
     "output_type": "execute_result"
    }
   ],
   "source": [
    "np.sum(modelCA.predict_doublet(AD, DP)[0])"
   ]
  },
  {
   "cell_type": "code",
   "execution_count": null,
   "metadata": {
    "collapsed": true,
    "papermill": {
     "duration": 0.030483,
     "end_time": "2021-01-14T01:24:43.587443",
     "exception": false,
     "start_time": "2021-01-14T01:24:43.556960",
     "status": "completed"
    },
    "tags": []
   },
   "outputs": [],
   "source": []
  },
  {
   "cell_type": "markdown",
   "metadata": {
    "papermill": {
     "duration": 0.039173,
     "end_time": "2021-01-14T01:24:43.658701",
     "exception": false,
     "start_time": "2021-01-14T01:24:43.619528",
     "status": "completed"
    },
    "tags": []
   },
   "source": [
    "### Choose the number of clones\n",
    "We can choose the number of clones where ELBO stops increasing. Here, the best number of clone is 3.\n",
    "\n",
    "Note, for a certain number of clone, e.g., n_clone=3, the ELBO may not the same for multiple initializations. This is becaused VI can only guarantee a local optima, so please choose the highest ELBO for each `n_clone` to represent its \"global\" optima."
   ]
  },
  {
   "cell_type": "code",
   "execution_count": 16,
   "metadata": {
    "collapsed": true,
    "execution": {
     "iopub.execute_input": "2021-01-14T01:24:43.727758Z",
     "iopub.status.busy": "2021-01-14T01:24:43.727160Z",
     "iopub.status.idle": "2021-01-14T01:26:07.576610Z",
     "shell.execute_reply": "2021-01-14T01:26:07.575918Z"
    },
    "papermill": {
     "duration": 83.887094,
     "end_time": "2021-01-14T01:26:07.576793",
     "exception": false,
     "start_time": "2021-01-14T01:24:43.689699",
     "status": "completed"
    },
    "tags": []
   },
   "outputs": [],
   "source": [
    "n_initials = 50\n",
    "n_clone_list = np.arange(2, 6)\n",
    "\n",
    "_ELBO_mat = [] \n",
    "for k in n_clone_list:\n",
    "    _elbo_temp = []\n",
    "    for i in range(50):\n",
    "        _modelCA = Vireo(n_var=AD_shape[0], n_cell=AD_shape[1], n_donor=k, n_GT=2,\n",
    "                         fix_beta_sum=False, ASE_mode=True)\n",
    "        _modelCA.set_prior(beta_mu_prior=np.array([[0.01, 0.5]]))\n",
    "        _modelCA.fit(AD, DP, min_iter=20, verbose=False)\n",
    "        _elbo_temp.append(_modelCA.ELBO_[-1])\n",
    "    _ELBO_mat.append(_elbo_temp)"
   ]
  },
  {
   "cell_type": "code",
   "execution_count": 17,
   "metadata": {
    "execution": {
     "iopub.execute_input": "2021-01-14T01:26:07.668157Z",
     "iopub.status.busy": "2021-01-14T01:26:07.656870Z",
     "iopub.status.idle": "2021-01-14T01:26:07.846510Z",
     "shell.execute_reply": "2021-01-14T01:26:07.845986Z"
    },
    "papermill": {
     "duration": 0.235485,
     "end_time": "2021-01-14T01:26:07.846634",
     "exception": false,
     "start_time": "2021-01-14T01:26:07.611149",
     "status": "completed"
    },
    "tags": []
   },
   "outputs": [
    {
     "data": {
      "image/png": "[encoded data removed]",
      "text/plain": [
       "<Figure size 432x288 with 1 Axes>"
      ]
     },
     "metadata": {
      "needs_background": "light"
     },
     "output_type": "display_data"
    }
   ],
   "source": [
    "plt.plot([1, 2, 3, 4], np.max(_ELBO_mat, axis=1))\n",
    "plt.boxplot(_ELBO_mat)\n",
    "plt.xticks(n_clone_list - 1, n_clone_list)\n",
    "plt.ylabel(\"ELBO\")\n",
    "plt.xlabel(\"n_clones\")\n",
    "plt.show()"
   ]
  },
  {
   "cell_type": "code",
   "execution_count": null,
   "metadata": {
    "collapsed": true,
    "papermill": {
     "duration": 0.031039,
     "end_time": "2021-01-14T01:26:07.909722",
     "exception": false,
     "start_time": "2021-01-14T01:26:07.878683",
     "status": "completed"
    },
    "tags": []
   },
   "outputs": [],
   "source": []
  },
  {
   "cell_type": "code",
   "execution_count": null,
   "metadata": {
    "collapsed": true,
    "papermill": {
     "duration": 0.032139,
     "end_time": "2021-01-14T01:26:07.973792",
     "exception": false,
     "start_time": "2021-01-14T01:26:07.941653",
     "status": "completed"
    },
    "tags": []
   },
   "outputs": [],
   "source": []
  },
  {
   "cell_type": "code",
   "execution_count": null,
   "metadata": {
    "collapsed": true,
    "papermill": {
     "duration": 0.033564,
     "end_time": "2021-01-14T01:26:08.041250",
     "exception": false,
     "start_time": "2021-01-14T01:26:08.007686",
     "status": "completed"
    },
    "tags": []
   },
   "outputs": [],
   "source": []
  },
  {
   "cell_type": "markdown",
   "metadata": {
    "collapsed": true,
    "papermill": {
     "duration": 0.033484,
     "end_time": "2021-01-14T01:26:11.047971",
     "exception": false,
     "start_time": "2021-01-14T01:26:11.014487",
     "status": "completed"
    },
    "tags": []
   },
   "source": [
    "## Plot K=4"
   ]
  },
  {
   "cell_type": "code",
   "execution_count": 23,
   "metadata": {
    "execution": {
     "iopub.execute_input": "2021-01-14T01:26:11.135143Z",
     "iopub.status.busy": "2021-01-14T01:26:11.134543Z",
     "iopub.status.idle": "2021-01-14T01:26:34.592608Z",
     "shell.execute_reply": "2021-01-14T01:26:34.592018Z"
    },
    "papermill": {
     "duration": 23.51038,
     "end_time": "2021-01-14T01:26:34.592756",
     "exception": false,
     "start_time": "2021-01-14T01:26:11.082376",
     "status": "completed"
    },
    "tags": []
   },
   "outputs": [
    {
     "data": {
      "image/png": "[encoded data removed]",
      "text/plain": [
       "<Figure size 700x400 with 4 Axes>"
      ]
     },
     "metadata": {
      "needs_background": "light"
     },
     "output_type": "display_data"
    }
   ],
   "source": [
    "np.random.seed(1)\n",
    "\n",
    "n_initials = 50\n",
    "_models_all = []\n",
    "for i in range(n_initials):\n",
    "    _modelCA = Vireo(n_var=AD_shape[0], n_cell=AD_shape[1], n_donor=4, n_GT=2,\n",
    "                     fix_beta_sum=False, ASE_mode=True)\n",
    "    _modelCA.set_prior(beta_mu_prior=np.array([[0.01, 0.5]]))\n",
    "    _modelCA.fit(AD, DP, min_iter=20, verbose=False, delay_fit_theta=0)\n",
    "    _models_all.append(_modelCA)\n",
    "    \n",
    "## Choose the model giving highest ELBO\n",
    "\n",
    "_idx = np.argmax([x.ELBO_[-1] for x in _models_all])\n",
    "modelCA = _models_all[_idx]\n",
    "_losses = modelCA.ELBO_\n",
    "\n",
    "\n",
    "import matplotlib.pyplot as plt\n",
    "from vireoSNP.plot.base_plot import heat_matrix\n",
    "\n",
    "fig = plt.figure(figsize=(7, 4), dpi=100)\n",
    "plt.subplot(1, 2, 1)\n",
    "im = heat_matrix(modelCA.ID_prob, cmap=\"Oranges\", alpha=0.8,\n",
    "                 display_value=False, row_sort=True)\n",
    "plt.colorbar(im, fraction=0.046, pad=0.04)\n",
    "plt.title(\"Assignment probability\")\n",
    "plt.xlabel(\"Clone\")\n",
    "plt.ylabel(\"%d cells\" %(modelCA.n_cell))\n",
    "plt.xticks(range(modelCA.n_donor))\n",
    "\n",
    "\n",
    "plt.subplot(1, 2, 2)\n",
    "AF_SNPs = np.sum(modelCA.GT_prob * \n",
    "                 np.expand_dims(modelCA.beta_mu, 1), axis=2)\n",
    "im = heat_matrix(AF_SNPs, cmap=\"Blues\", alpha=0.8, \n",
    "                 display_value=False, row_sort=True)\n",
    "plt.colorbar(im, fraction=0.046, pad=0.04)\n",
    "plt.title(\"Mean allelic ratio\")\n",
    "plt.xlabel(\"Clone\")\n",
    "plt.ylabel(\"%d SNPs\" %(modelCA.n_var))\n",
    "plt.xticks(range(modelCA.n_donor))\n",
    "\n",
    "plt.tight_layout()\n",
    "plt.show()"
   ]
  }
 ],
 "metadata": {
  "celltoolbar": "Tags",
  "kernelspec": {
   "display_name": "Python 3",
   "language": "python",
   "name": "python3"
  },
  "language_info": {
   "codemirror_mode": {
    "name": "ipython",
    "version": 3
   },
   "file_extension": ".py",
   "mimetype": "text/x-python",
   "name": "python",
   "nbconvert_exporter": "python",
   "pygments_lexer": "ipython3",
   "version": "3.7.3"
  },
  "papermill": {
   "default_parameters": {},
   "duration": 133.432912,
   "end_time": "2021-01-14T01:26:34.944163",
   "environment_variables": {},
   "exception": null,
   "input_path": "/data2/mito_lineage/src/vireo/vireoSNP_clones.ipynb",
   "output_path": "results/chrM/PBMC_P_cellSNP_minC20_minAF0.01/lineage_chrM.ipynb",
   "parameters": {
    "AD_F": "data/chrM/PBMC_P_cellSNP_minC20_minAF0.01/cellSNP.tag.AD.mtx",
    "DP_F": "data/chrM/PBMC_P_cellSNP_minC20_minAF0.01/cellSNP.tag.DP.mtx"
   },
   "start_time": "2021-01-14T01:24:21.511251",
   "version": "2.2.0"
  }
 },
 "nbformat": 4,
 "nbformat_minor": 4
}
