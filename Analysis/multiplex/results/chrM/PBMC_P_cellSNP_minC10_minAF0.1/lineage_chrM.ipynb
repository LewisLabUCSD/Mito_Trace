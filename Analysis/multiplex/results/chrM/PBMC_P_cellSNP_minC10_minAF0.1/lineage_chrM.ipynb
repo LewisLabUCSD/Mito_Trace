{
 "cells": [
  {
   "cell_type": "code",
   "execution_count": 1,
   "metadata": {
    "ExecuteTime": {
     "end_time": "2021-01-07T22:17:00.753670Z",
     "start_time": "2021-01-07T22:17:00.746914Z"
    },
    "execution": {
     "iopub.execute_input": "2021-01-14T01:23:43.619756Z",
     "iopub.status.busy": "2021-01-14T01:23:43.619096Z",
     "iopub.status.idle": "2021-01-14T01:23:43.622870Z",
     "shell.execute_reply": "2021-01-14T01:23:43.623422Z"
    },
    "papermill": {
     "duration": 0.043524,
     "end_time": "2021-01-14T01:23:43.623647",
     "exception": false,
     "start_time": "2021-01-14T01:23:43.580123",
     "status": "completed"
    },
    "tags": []
   },
   "outputs": [
    {
     "data": {
      "text/plain": [
       "'/data2/mito_lineage/Analysis/multiplex'"
      ]
     },
     "execution_count": 1,
     "metadata": {},
     "output_type": "execute_result"
    }
   ],
   "source": [
    "pwd"
   ]
  },
  {
   "cell_type": "code",
   "execution_count": 2,
   "metadata": {
    "collapsed": true,
    "execution": {
     "iopub.execute_input": "2021-01-14T01:23:43.682281Z",
     "iopub.status.busy": "2021-01-14T01:23:43.681627Z",
     "iopub.status.idle": "2021-01-14T01:23:43.684409Z",
     "shell.execute_reply": "2021-01-14T01:23:43.684941Z"
    },
    "papermill": {
     "duration": 0.034807,
     "end_time": "2021-01-14T01:23:43.685142",
     "exception": false,
     "start_time": "2021-01-14T01:23:43.650335",
     "status": "completed"
    },
    "tags": [
     "parameters"
    ]
   },
   "outputs": [],
   "source": [
    "AD_F = \"../data/mitoDNA/cellSNP.tag.AD.mtx\"\n",
    "DP_F = \"../data/mitoDNA/cellSNP.tag.DP.mtx\""
   ]
  },
  {
   "cell_type": "code",
   "execution_count": 3,
   "metadata": {
    "execution": {
     "iopub.execute_input": "2021-01-14T01:23:43.743634Z",
     "iopub.status.busy": "2021-01-14T01:23:43.742977Z",
     "iopub.status.idle": "2021-01-14T01:23:43.746568Z",
     "shell.execute_reply": "2021-01-14T01:23:43.746037Z"
    },
    "papermill": {
     "duration": 0.035594,
     "end_time": "2021-01-14T01:23:43.746757",
     "exception": false,
     "start_time": "2021-01-14T01:23:43.711163",
     "status": "completed"
    },
    "tags": [
     "injected-parameters"
    ]
   },
   "outputs": [],
   "source": [
    "# Parameters\n",
    "AD_F = \"data/chrM/PBMC_P_cellSNP_minC10_minAF0.1/cellSNP.tag.AD.mtx\"\n",
    "DP_F = \"data/chrM/PBMC_P_cellSNP_minC10_minAF0.1/cellSNP.tag.DP.mtx\"\n"
   ]
  },
  {
   "cell_type": "code",
   "execution_count": 4,
   "metadata": {
    "ExecuteTime": {
     "end_time": "2021-01-07T22:11:17.977334Z",
     "start_time": "2021-01-07T22:11:17.962011Z"
    },
    "execution": {
     "iopub.execute_input": "2021-01-14T01:23:43.806661Z",
     "iopub.status.busy": "2021-01-14T01:23:43.806019Z",
     "iopub.status.idle": "2021-01-14T01:23:43.810920Z",
     "shell.execute_reply": "2021-01-14T01:23:43.810258Z"
    },
    "papermill": {
     "duration": 0.037275,
     "end_time": "2021-01-14T01:23:43.811081",
     "exception": false,
     "start_time": "2021-01-14T01:23:43.773806",
     "status": "completed"
    },
    "tags": []
   },
   "outputs": [
    {
     "data": {
      "text/plain": [
       "'/data2/mito_lineage/Analysis/multiplex'"
      ]
     },
     "execution_count": 4,
     "metadata": {},
     "output_type": "execute_result"
    }
   ],
   "source": [
    "pwd"
   ]
  },
  {
   "cell_type": "markdown",
   "metadata": {
    "papermill": {
     "duration": 0.026479,
     "end_time": "2021-01-14T01:23:43.865044",
     "exception": false,
     "start_time": "2021-01-14T01:23:43.838565",
     "status": "completed"
    },
    "tags": []
   },
   "source": [
    "# Using vireo for clonal reconstruction - mitochondrial mutations"
   ]
  },
  {
   "cell_type": "markdown",
   "metadata": {
    "papermill": {
     "duration": 0.070563,
     "end_time": "2021-01-14T01:23:43.961877",
     "exception": false,
     "start_time": "2021-01-14T01:23:43.891314",
     "status": "completed"
    },
    "tags": []
   },
   "source": [
    "The mitochondrial mutations data set is extracted from [Ludwig et al, Cell, 2019](https://doi.org/10.1016/j.cell.2019.01.022), the 9 variants used here are from Supp Fig. 2F (and main Fig. 2F).\n",
    "\n",
    "For clonal reconstruction, we are using the core class `vireoSNP.Vireo` with multiple initializations"
   ]
  },
  {
   "cell_type": "code",
   "execution_count": 5,
   "metadata": {
    "execution": {
     "iopub.execute_input": "2021-01-14T01:23:44.022152Z",
     "iopub.status.busy": "2021-01-14T01:23:44.021504Z",
     "iopub.status.idle": "2021-01-14T01:23:44.681979Z",
     "shell.execute_reply": "2021-01-14T01:23:44.682525Z"
    },
    "papermill": {
     "duration": 0.69399,
     "end_time": "2021-01-14T01:23:44.682785",
     "exception": false,
     "start_time": "2021-01-14T01:23:43.988795",
     "status": "completed"
    },
    "tags": []
   },
   "outputs": [
    {
     "name": "stdout",
     "output_type": "stream",
     "text": [
      "0.4.2\n"
     ]
    }
   ],
   "source": [
    "import vireoSNP\n",
    "import numpy as np\n",
    "from scipy import sparse\n",
    "from scipy.io import mmread\n",
    "import matplotlib.pyplot as plt\n",
    "\n",
    "print(vireoSNP.__version__)"
   ]
  },
  {
   "cell_type": "code",
   "execution_count": 6,
   "metadata": {
    "collapsed": true,
    "execution": {
     "iopub.execute_input": "2021-01-14T01:23:44.745028Z",
     "iopub.status.busy": "2021-01-14T01:23:44.744377Z",
     "iopub.status.idle": "2021-01-14T01:23:44.747107Z",
     "shell.execute_reply": "2021-01-14T01:23:44.746542Z"
    },
    "papermill": {
     "duration": 0.036211,
     "end_time": "2021-01-14T01:23:44.747270",
     "exception": false,
     "start_time": "2021-01-14T01:23:44.711059",
     "status": "completed"
    },
    "tags": []
   },
   "outputs": [],
   "source": [
    "np.set_printoptions(formatter={'float': lambda x: format(x, '.5f')})"
   ]
  },
  {
   "cell_type": "code",
   "execution_count": 7,
   "metadata": {
    "collapsed": true,
    "execution": {
     "iopub.execute_input": "2021-01-14T01:23:44.811105Z",
     "iopub.status.busy": "2021-01-14T01:23:44.810400Z",
     "iopub.status.idle": "2021-01-14T01:23:44.835361Z",
     "shell.execute_reply": "2021-01-14T01:23:44.834729Z"
    },
    "papermill": {
     "duration": 0.059348,
     "end_time": "2021-01-14T01:23:44.835530",
     "exception": false,
     "start_time": "2021-01-14T01:23:44.776182",
     "status": "completed"
    },
    "tags": []
   },
   "outputs": [],
   "source": [
    "AD = mmread(AD_F).tocsc()\n",
    "DP = mmread(DP_F).tocsc()"
   ]
  },
  {
   "cell_type": "code",
   "execution_count": 8,
   "metadata": {
    "execution": {
     "iopub.execute_input": "2021-01-14T01:23:44.897868Z",
     "iopub.status.busy": "2021-01-14T01:23:44.897203Z",
     "iopub.status.idle": "2021-01-14T01:23:44.900642Z",
     "shell.execute_reply": "2021-01-14T01:23:44.900095Z"
    },
    "papermill": {
     "duration": 0.036088,
     "end_time": "2021-01-14T01:23:44.900795",
     "exception": false,
     "start_time": "2021-01-14T01:23:44.864707",
     "status": "completed"
    },
    "tags": []
   },
   "outputs": [],
   "source": [
    "AD_shape = AD.todense().shape"
   ]
  },
  {
   "cell_type": "markdown",
   "metadata": {
    "papermill": {
     "duration": 0.028026,
     "end_time": "2021-01-14T01:23:44.957280",
     "exception": false,
     "start_time": "2021-01-14T01:23:44.929254",
     "status": "completed"
    },
    "tags": []
   },
   "source": [
    "## New implementation in v0.3.0"
   ]
  },
  {
   "cell_type": "code",
   "execution_count": 9,
   "metadata": {
    "collapsed": true,
    "execution": {
     "iopub.execute_input": "2021-01-14T01:23:45.018412Z",
     "iopub.status.busy": "2021-01-14T01:23:45.017769Z",
     "iopub.status.idle": "2021-01-14T01:23:45.019892Z",
     "shell.execute_reply": "2021-01-14T01:23:45.020403Z"
    },
    "papermill": {
     "duration": 0.034836,
     "end_time": "2021-01-14T01:23:45.020583",
     "exception": false,
     "start_time": "2021-01-14T01:23:44.985747",
     "status": "completed"
    },
    "tags": []
   },
   "outputs": [],
   "source": [
    "from vireoSNP import Vireo"
   ]
  },
  {
   "cell_type": "markdown",
   "metadata": {
    "papermill": {
     "duration": 0.028387,
     "end_time": "2021-01-14T01:23:45.077150",
     "exception": false,
     "start_time": "2021-01-14T01:23:45.048763",
     "status": "completed"
    },
    "tags": []
   },
   "source": [
    "Note, there are a few key parameters:\n",
    "\n",
    "* `n_donor`: it means number of clones here, but you need to determine yourself. You can choose the one with highest ELBO (see next section)\n",
    "* `n_GT`: number of different genotype. For somatic mutations, we could assume that there are only two, namely present or absent\n",
    "* `is_theta_ASE`: whether allelic ratio is variant specific. For mitochondrial mutations, we choose True as allelic ratio can different from variant to variant"
   ]
  },
  {
   "cell_type": "markdown",
   "metadata": {
    "papermill": {
     "duration": 0.056539,
     "end_time": "2021-01-14T01:23:45.176798",
     "exception": false,
     "start_time": "2021-01-14T01:23:45.120259",
     "status": "completed"
    },
    "tags": []
   },
   "source": [
    "### Multiple initialization is needed to avoid local optima"
   ]
  },
  {
   "cell_type": "code",
   "execution_count": 10,
   "metadata": {
    "collapsed": true,
    "execution": {
     "iopub.execute_input": "2021-01-14T01:23:45.247328Z",
     "iopub.status.busy": "2021-01-14T01:23:45.246650Z",
     "iopub.status.idle": "2021-01-14T01:23:55.487693Z",
     "shell.execute_reply": "2021-01-14T01:23:55.488215Z"
    },
    "papermill": {
     "duration": 10.277075,
     "end_time": "2021-01-14T01:23:55.488437",
     "exception": false,
     "start_time": "2021-01-14T01:23:45.211362",
     "status": "completed"
    },
    "tags": []
   },
   "outputs": [],
   "source": [
    "np.random.seed(1)\n",
    "\n",
    "n_initials = 50\n",
    "_models_all = []\n",
    "for i in range(n_initials):\n",
    "    _modelCA = Vireo(n_var=AD_shape[0], n_cell=AD_shape[1], n_donor=3, n_GT=2,\n",
    "                     fix_beta_sum=False, ASE_mode=True)\n",
    "    _modelCA.set_prior(beta_mu_prior=np.array([[0.01, 0.5]]))\n",
    "    _modelCA.fit(AD, DP, min_iter=20, verbose=False, delay_fit_theta=0)\n",
    "    _models_all.append(_modelCA)"
   ]
  },
  {
   "cell_type": "code",
   "execution_count": 11,
   "metadata": {
    "collapsed": true,
    "execution": {
     "iopub.execute_input": "2021-01-14T01:23:55.554585Z",
     "iopub.status.busy": "2021-01-14T01:23:55.553962Z",
     "iopub.status.idle": "2021-01-14T01:23:55.557161Z",
     "shell.execute_reply": "2021-01-14T01:23:55.556595Z"
    },
    "papermill": {
     "duration": 0.040124,
     "end_time": "2021-01-14T01:23:55.557313",
     "exception": false,
     "start_time": "2021-01-14T01:23:55.517189",
     "status": "completed"
    },
    "tags": []
   },
   "outputs": [],
   "source": [
    "## Choose the model giving highest ELBO\n",
    "\n",
    "_idx = np.argmax([x.ELBO_[-1] for x in _models_all])\n",
    "modelCA = _models_all[_idx]\n",
    "_losses = modelCA.ELBO_"
   ]
  },
  {
   "cell_type": "code",
   "execution_count": 12,
   "metadata": {
    "execution": {
     "iopub.execute_input": "2021-01-14T01:23:55.624788Z",
     "iopub.status.busy": "2021-01-14T01:23:55.624147Z",
     "iopub.status.idle": "2021-01-14T01:23:56.044994Z",
     "shell.execute_reply": "2021-01-14T01:23:56.045544Z"
    },
    "papermill": {
     "duration": 0.460255,
     "end_time": "2021-01-14T01:23:56.045759",
     "exception": false,
     "start_time": "2021-01-14T01:23:55.585504",
     "status": "completed"
    },
    "tags": []
   },
   "outputs": [
    {
     "data": {
      "image/png": "[encoded data removed]",
      "text/plain": [
       "<Figure size 792x288 with 2 Axes>"
      ]
     },
     "metadata": {
      "needs_background": "light"
     },
     "output_type": "display_data"
    }
   ],
   "source": [
    "fig = plt.figure(figsize=(11, 4))\n",
    "plt.subplot(1, 2, 1)\n",
    "plt.hist([x.ELBO_[-1] for x in _models_all])\n",
    "plt.ylabel(\"Frequency\")\n",
    "plt.xlabel(\"ELBO with multiple initializations\")\n",
    "\n",
    "plt.subplot(1, 2, 2)\n",
    "plt.plot(_losses)\n",
    "plt.xlabel(\"Iterations\")\n",
    "plt.ylabel(\"ELBO in a single run\")\n",
    "\n",
    "plt.tight_layout()\n",
    "plt.show()"
   ]
  },
  {
   "cell_type": "code",
   "execution_count": 13,
   "metadata": {
    "execution": {
     "iopub.execute_input": "2021-01-14T01:23:56.108776Z",
     "iopub.status.busy": "2021-01-14T01:23:56.108167Z",
     "iopub.status.idle": "2021-01-14T01:23:56.111587Z",
     "shell.execute_reply": "2021-01-14T01:23:56.111065Z"
    },
    "papermill": {
     "duration": 0.036393,
     "end_time": "2021-01-14T01:23:56.111723",
     "exception": false,
     "start_time": "2021-01-14T01:23:56.075330",
     "status": "completed"
    },
    "tags": []
   },
   "outputs": [
    {
     "name": "stdout",
     "output_type": "stream",
     "text": [
      "[[0.28613 0.26301]\n",
      " [0.25636 0.08667]\n",
      " [0.27854 0.70917]\n",
      " [0.13258 0.13737]\n",
      " [0.16771 0.17077]\n",
      " [0.15762 0.15787]]\n",
      "[[182362.75932 82365.24068]\n",
      " [40859.36709 94455.63291]\n",
      " [20059.41264 9642.58736]\n",
      " [262355.17888 114864.82112]\n",
      " [331657.34143 145072.65857]\n",
      " [207181.20429 213505.79571]]\n"
     ]
    }
   ],
   "source": [
    "print(modelCA.beta_mu),\n",
    "print(modelCA.beta_sum)"
   ]
  },
  {
   "cell_type": "code",
   "execution_count": 14,
   "metadata": {
    "execution": {
     "iopub.execute_input": "2021-01-14T01:23:56.186530Z",
     "iopub.status.busy": "2021-01-14T01:23:56.185093Z",
     "iopub.status.idle": "2021-01-14T01:23:56.707124Z",
     "shell.execute_reply": "2021-01-14T01:23:56.706510Z"
    },
    "papermill": {
     "duration": 0.566966,
     "end_time": "2021-01-14T01:23:56.707282",
     "exception": false,
     "start_time": "2021-01-14T01:23:56.140316",
     "status": "completed"
    },
    "tags": []
   },
   "outputs": [
    {
     "data": {
      "image/png": "[encoded data removed]",
      "text/plain": [
       "<Figure size 700x400 with 4 Axes>"
      ]
     },
     "metadata": {
      "needs_background": "light"
     },
     "output_type": "display_data"
    }
   ],
   "source": [
    "import matplotlib.pyplot as plt\n",
    "from vireoSNP.plot.base_plot import heat_matrix\n",
    "\n",
    "fig = plt.figure(figsize=(7, 4), dpi=100)\n",
    "plt.subplot(1, 2, 1)\n",
    "im = heat_matrix(modelCA.ID_prob, cmap=\"Oranges\", alpha=0.8,\n",
    "                 display_value=False, row_sort=True)\n",
    "plt.colorbar(im, fraction=0.046, pad=0.04)\n",
    "plt.title(\"Assignment probability\")\n",
    "plt.xlabel(\"Clone\")\n",
    "plt.ylabel(\"%d cells\" %(modelCA.n_cell))\n",
    "plt.xticks(range(modelCA.n_donor))\n",
    "\n",
    "\n",
    "plt.subplot(1, 2, 2)\n",
    "AF_SNPs = np.sum(modelCA.GT_prob * \n",
    "                 np.expand_dims(modelCA.beta_mu, 1), axis=2)\n",
    "im = heat_matrix(AF_SNPs, cmap=\"Blues\", alpha=0.8, \n",
    "                 display_value=False, row_sort=True)\n",
    "plt.colorbar(im, fraction=0.046, pad=0.04)\n",
    "plt.title(\"Mean allelic ratio\")\n",
    "plt.xlabel(\"Clone\")\n",
    "plt.ylabel(\"%d SNPs\" %(modelCA.n_var))\n",
    "plt.xticks(range(modelCA.n_donor))\n",
    "\n",
    "plt.tight_layout()\n",
    "plt.show()"
   ]
  },
  {
   "cell_type": "code",
   "execution_count": 15,
   "metadata": {
    "execution": {
     "iopub.execute_input": "2021-01-14T01:23:56.776982Z",
     "iopub.status.busy": "2021-01-14T01:23:56.776332Z",
     "iopub.status.idle": "2021-01-14T01:23:56.786567Z",
     "shell.execute_reply": "2021-01-14T01:23:56.788602Z"
    },
    "papermill": {
     "duration": 0.049851,
     "end_time": "2021-01-14T01:23:56.789709",
     "exception": false,
     "start_time": "2021-01-14T01:23:56.739858",
     "status": "completed"
    },
    "tags": []
   },
   "outputs": [
    {
     "data": {
      "text/plain": [
       "75.06499111120984"
      ]
     },
     "execution_count": 15,
     "metadata": {},
     "output_type": "execute_result"
    }
   ],
   "source": [
    "np.sum(modelCA.predict_doublet(AD, DP)[0])"
   ]
  },
  {
   "cell_type": "code",
   "execution_count": null,
   "metadata": {
    "collapsed": true,
    "papermill": {
     "duration": 0.0326,
     "end_time": "2021-01-14T01:23:56.860674",
     "exception": false,
     "start_time": "2021-01-14T01:23:56.828074",
     "status": "completed"
    },
    "tags": []
   },
   "outputs": [],
   "source": []
  },
  {
   "cell_type": "markdown",
   "metadata": {
    "papermill": {
     "duration": 0.03184,
     "end_time": "2021-01-14T01:23:56.925341",
     "exception": false,
     "start_time": "2021-01-14T01:23:56.893501",
     "status": "completed"
    },
    "tags": []
   },
   "source": [
    "### Choose the number of clones\n",
    "We can choose the number of clones where ELBO stops increasing. Here, the best number of clone is 3.\n",
    "\n",
    "Note, for a certain number of clone, e.g., n_clone=3, the ELBO may not the same for multiple initializations. This is becaused VI can only guarantee a local optima, so please choose the highest ELBO for each `n_clone` to represent its \"global\" optima."
   ]
  },
  {
   "cell_type": "code",
   "execution_count": 16,
   "metadata": {
    "collapsed": true,
    "execution": {
     "iopub.execute_input": "2021-01-14T01:23:56.999729Z",
     "iopub.status.busy": "2021-01-14T01:23:56.998969Z",
     "iopub.status.idle": "2021-01-14T01:24:22.807062Z",
     "shell.execute_reply": "2021-01-14T01:24:22.807644Z"
    },
    "papermill": {
     "duration": 25.850679,
     "end_time": "2021-01-14T01:24:22.807863",
     "exception": false,
     "start_time": "2021-01-14T01:23:56.957184",
     "status": "completed"
    },
    "tags": []
   },
   "outputs": [],
   "source": [
    "n_initials = 50\n",
    "n_clone_list = np.arange(2, 6)\n",
    "\n",
    "_ELBO_mat = [] \n",
    "for k in n_clone_list:\n",
    "    _elbo_temp = []\n",
    "    for i in range(50):\n",
    "        _modelCA = Vireo(n_var=AD_shape[0], n_cell=AD_shape[1], n_donor=k, n_GT=2,\n",
    "                         fix_beta_sum=False, ASE_mode=True)\n",
    "        _modelCA.set_prior(beta_mu_prior=np.array([[0.01, 0.5]]))\n",
    "        _modelCA.fit(AD, DP, min_iter=20, verbose=False)\n",
    "        _elbo_temp.append(_modelCA.ELBO_[-1])\n",
    "    _ELBO_mat.append(_elbo_temp)"
   ]
  },
  {
   "cell_type": "code",
   "execution_count": 17,
   "metadata": {
    "execution": {
     "iopub.execute_input": "2021-01-14T01:24:22.939708Z",
     "iopub.status.busy": "2021-01-14T01:24:22.935761Z",
     "iopub.status.idle": "2021-01-14T01:24:23.138918Z",
     "shell.execute_reply": "2021-01-14T01:24:23.138287Z"
    },
    "papermill": {
     "duration": 0.289128,
     "end_time": "2021-01-14T01:24:23.139089",
     "exception": false,
     "start_time": "2021-01-14T01:24:22.849961",
     "status": "completed"
    },
    "tags": []
   },
   "outputs": [
    {
     "data": {
      "image/png": "[encoded data removed]",
      "text/plain": [
       "<Figure size 432x288 with 1 Axes>"
      ]
     },
     "metadata": {
      "needs_background": "light"
     },
     "output_type": "display_data"
    }
   ],
   "source": [
    "plt.plot([1, 2, 3, 4], np.max(_ELBO_mat, axis=1))\n",
    "plt.boxplot(_ELBO_mat)\n",
    "plt.xticks(n_clone_list - 1, n_clone_list)\n",
    "plt.ylabel(\"ELBO\")\n",
    "plt.xlabel(\"n_clones\")\n",
    "plt.show()"
   ]
  },
  {
   "cell_type": "code",
   "execution_count": null,
   "metadata": {
    "collapsed": true,
    "papermill": {
     "duration": 0.03401,
     "end_time": "2021-01-14T01:24:23.206360",
     "exception": false,
     "start_time": "2021-01-14T01:24:23.172350",
     "status": "completed"
    },
    "tags": []
   },
   "outputs": [],
   "source": []
  },
  {
   "cell_type": "code",
   "execution_count": null,
   "metadata": {
    "collapsed": true,
    "papermill": {
     "duration": 0.032606,
     "end_time": "2021-01-14T01:24:23.271927",
     "exception": false,
     "start_time": "2021-01-14T01:24:23.239321",
     "status": "completed"
    },
    "tags": []
   },
   "outputs": [],
   "source": []
  },
  {
   "cell_type": "code",
   "execution_count": null,
   "metadata": {
    "collapsed": true,
    "papermill": {
     "duration": 0.030986,
     "end_time": "2021-01-14T01:24:23.334137",
     "exception": false,
     "start_time": "2021-01-14T01:24:23.303151",
     "status": "completed"
    },
    "tags": []
   },
   "outputs": [],
   "source": []
  },
  {
   "cell_type": "markdown",
   "metadata": {
    "papermill": {
     "duration": 0.030902,
     "end_time": "2021-01-14T01:24:23.395366",
     "exception": false,
     "start_time": "2021-01-14T01:24:23.364464",
     "status": "completed"
    },
    "tags": []
   },
   "source": [
    "### Old version\n",
    "\n",
    "The old version seem more likely to end up at local optima in this data set."
   ]
  },
  {
   "cell_type": "code",
   "execution_count": 18,
   "metadata": {
    "collapsed": true,
    "execution": {
     "iopub.execute_input": "2021-01-14T01:24:23.462558Z",
     "iopub.status.busy": "2021-01-14T01:24:23.461943Z",
     "iopub.status.idle": "2021-01-14T01:24:23.465615Z",
     "shell.execute_reply": "2021-01-14T01:24:23.465105Z"
    },
    "papermill": {
     "duration": 0.039555,
     "end_time": "2021-01-14T01:24:23.465746",
     "exception": false,
     "start_time": "2021-01-14T01:24:23.426191",
     "status": "completed"
    },
    "tags": []
   },
   "outputs": [],
   "source": [
    "from vireoSNP.utils.vireo_wrap_v02 import vireo_flock"
   ]
  },
  {
   "cell_type": "code",
   "execution_count": 19,
   "metadata": {
    "execution": {
     "iopub.execute_input": "2021-01-14T01:24:23.535360Z",
     "iopub.status.busy": "2021-01-14T01:24:23.534672Z",
     "iopub.status.idle": "2021-01-14T01:24:24.403525Z",
     "shell.execute_reply": "2021-01-14T01:24:24.402995Z"
    },
    "papermill": {
     "duration": 0.90595,
     "end_time": "2021-01-14T01:24:24.403671",
     "exception": false,
     "start_time": "2021-01-14T01:24:23.497721",
     "status": "completed"
    },
    "tags": []
   },
   "outputs": [
    {
     "name": "stdout",
     "output_type": "stream",
     "text": [
      "[vireo] warm-up: 50 random initializations for 3 clusters...\n"
     ]
    },
    {
     "name": "stdout",
     "output_type": "stream",
     "text": [
      "[vireo] donor size with searching extra 0 donors:\n",
      "donor0\tdonor1\tdonor2\n",
      "221\t221\t221\n",
      "[vireo] warm-up: lower bound ranges [-779071.7, -779071.7, -779071.7]\n",
      "[vireo] main RUN with warm initials and tuned GT ...\n",
      "[vireo] main RUN: 22 iterations; lower bound -779071.7\n",
      "[vireo] beta parameters for binomial rate:\n",
      "[[[0.10 0.10 0.10 0.10 0.10 0.10]\n",
      "  [10.00 10.00 10.00 10.00 10.00 10.00]]\n",
      "\n",
      " [[73822.00 18641.00 12405.00 50541.00 80375.00 66341.00]\n",
      "  [190816.00 116584.00 17207.00 326589.00 396265.00 354256.00]]]\n"
     ]
    }
   ],
   "source": [
    "# theta_prior = np.array([[0.01, 10], [0.4, 10], [5, 5]])\n",
    "theta_prior = np.array([[0.1, 10], [5, 5]])\n",
    "res = vireo_flock(AD, DP, n_donor=3, learn_GT=True,\n",
    "                  n_extra_donor=0, ASE_mode=True,\n",
    "                  theta_prior=theta_prior, learn_theta=True,\n",
    "                  n_init=50, check_doublet=False, random_seed=1)"
   ]
  },
  {
   "cell_type": "code",
   "execution_count": 20,
   "metadata": {
    "execution": {
     "iopub.execute_input": "2021-01-14T01:24:24.481564Z",
     "iopub.status.busy": "2021-01-14T01:24:24.479286Z",
     "iopub.status.idle": "2021-01-14T01:24:24.622673Z",
     "shell.execute_reply": "2021-01-14T01:24:24.623174Z"
    },
    "papermill": {
     "duration": 0.185633,
     "end_time": "2021-01-14T01:24:24.623328",
     "exception": false,
     "start_time": "2021-01-14T01:24:24.437695",
     "status": "completed"
    },
    "tags": []
   },
   "outputs": [
    {
     "data": {
      "image/png": "[encoded data removed]",
      "text/plain": [
       "<Figure size 432x288 with 1 Axes>"
      ]
     },
     "metadata": {
      "needs_background": "light"
     },
     "output_type": "display_data"
    }
   ],
   "source": [
    "plt.plot(res['LB_list'])\n",
    "plt.xlabel(\"Iterations\")\n",
    "plt.ylabel(\"ELBO in a single run\")\n",
    "plt.show()"
   ]
  },
  {
   "cell_type": "raw",
   "metadata": {
    "papermill": {
     "duration": 0.034556,
     "end_time": "2021-01-14T01:24:24.692557",
     "exception": false,
     "start_time": "2021-01-14T01:24:24.658001",
     "status": "completed"
    },
    "tags": []
   },
   "source": [
    "## If ASE_mode is False\n",
    "AF_mean = res['theta_shapes'][:, 0] / np.sum(res['theta_shapes'], axis=1)\n",
    "AF_SNPs = np.tensordot(res['GT_prob'], AF_mean, axes=[2, 0])"
   ]
  },
  {
   "cell_type": "code",
   "execution_count": 21,
   "metadata": {
    "collapsed": true,
    "execution": {
     "iopub.execute_input": "2021-01-14T01:24:24.767813Z",
     "iopub.status.busy": "2021-01-14T01:24:24.767238Z",
     "iopub.status.idle": "2021-01-14T01:24:24.769508Z",
     "shell.execute_reply": "2021-01-14T01:24:24.769981Z"
    },
    "papermill": {
     "duration": 0.042577,
     "end_time": "2021-01-14T01:24:24.770134",
     "exception": false,
     "start_time": "2021-01-14T01:24:24.727557",
     "status": "completed"
    },
    "tags": []
   },
   "outputs": [],
   "source": [
    "## If ASE_mode is True\n",
    "AF_mean = res['theta_shapes'][:, 0] / np.sum(res['theta_shapes'], axis=1)\n",
    "\n",
    "_new_shape = (AF_mean.shape[1], 1, AF_mean.shape[0])\n",
    "AF_SNPs = np.sum(res['GT_prob'] * AF_mean.transpose().reshape(_new_shape), axis=2)"
   ]
  },
  {
   "cell_type": "code",
   "execution_count": 22,
   "metadata": {
    "execution": {
     "iopub.execute_input": "2021-01-14T01:24:24.852659Z",
     "iopub.status.busy": "2021-01-14T01:24:24.851151Z",
     "iopub.status.idle": "2021-01-14T01:24:25.377472Z",
     "shell.execute_reply": "2021-01-14T01:24:25.377962Z"
    },
    "papermill": {
     "duration": 0.574825,
     "end_time": "2021-01-14T01:24:25.378130",
     "exception": false,
     "start_time": "2021-01-14T01:24:24.803305",
     "status": "completed"
    },
    "tags": []
   },
   "outputs": [
    {
     "data": {
      "image/png": "[encoded data removed]",
      "text/plain": [
       "<Figure size 700x400 with 4 Axes>"
      ]
     },
     "metadata": {
      "needs_background": "light"
     },
     "output_type": "display_data"
    }
   ],
   "source": [
    "import matplotlib.pyplot as plt\n",
    "from vireoSNP.plot.base_plot import heat_matrix\n",
    "\n",
    "fig = plt.figure(figsize=(7, 4), dpi=100)\n",
    "plt.subplot(1, 2, 1)\n",
    "im = heat_matrix(res['ID_prob'], cmap=\"Oranges\", alpha=0.8,\n",
    "                 display_value=False, row_sort=True)\n",
    "plt.colorbar(im, fraction=0.046, pad=0.04)\n",
    "plt.title(\"Assignment probability\")\n",
    "plt.ylabel(\"%d cells\" %(res['ID_prob'].shape[0]))\n",
    "plt.xlabel(\"Clone\")\n",
    "plt.xticks([0, 1, 2])\n",
    "\n",
    "plt.subplot(1, 2, 2)\n",
    "im = heat_matrix(AF_SNPs, cmap=\"Blues\", alpha=0.8, \n",
    "                 display_value=False, row_sort=True)\n",
    "plt.colorbar(im, fraction=0.046, pad=0.04)\n",
    "plt.title(\"Mean allelic ratio\")\n",
    "plt.xlabel(\"Clone\")\n",
    "plt.ylabel(\"%d SNPs\" %(AF_SNPs.shape[0]))\n",
    "plt.xticks([0, 1, 2])\n",
    "plt.xlim(-0.5, 2.5)\n",
    "\n",
    "plt.tight_layout()\n",
    "plt.show()"
   ]
  },
  {
   "cell_type": "markdown",
   "metadata": {
    "collapsed": true,
    "papermill": {
     "duration": 0.074126,
     "end_time": "2021-01-14T01:24:25.489741",
     "exception": false,
     "start_time": "2021-01-14T01:24:25.415615",
     "status": "completed"
    },
    "tags": []
   },
   "source": [
    "## Plot K=4"
   ]
  },
  {
   "cell_type": "code",
   "execution_count": 23,
   "metadata": {
    "execution": {
     "iopub.execute_input": "2021-01-14T01:24:25.652138Z",
     "iopub.status.busy": "2021-01-14T01:24:25.651487Z",
     "iopub.status.idle": "2021-01-14T01:24:30.692177Z",
     "shell.execute_reply": "2021-01-14T01:24:30.692653Z"
    },
    "papermill": {
     "duration": 5.092733,
     "end_time": "2021-01-14T01:24:30.692818",
     "exception": false,
     "start_time": "2021-01-14T01:24:25.600085",
     "status": "completed"
    },
    "tags": []
   },
   "outputs": [
    {
     "data": {
      "image/png": "[encoded data removed]",
      "text/plain": [
       "<Figure size 700x400 with 4 Axes>"
      ]
     },
     "metadata": {
      "needs_background": "light"
     },
     "output_type": "display_data"
    }
   ],
   "source": [
    "np.random.seed(1)\n",
    "\n",
    "n_initials = 50\n",
    "_models_all = []\n",
    "for i in range(n_initials):\n",
    "    _modelCA = Vireo(n_var=AD_shape[0], n_cell=AD_shape[1], n_donor=4, n_GT=2,\n",
    "                     fix_beta_sum=False, ASE_mode=True)\n",
    "    _modelCA.set_prior(beta_mu_prior=np.array([[0.01, 0.5]]))\n",
    "    _modelCA.fit(AD, DP, min_iter=20, verbose=False, delay_fit_theta=0)\n",
    "    _models_all.append(_modelCA)\n",
    "    \n",
    "## Choose the model giving highest ELBO\n",
    "\n",
    "_idx = np.argmax([x.ELBO_[-1] for x in _models_all])\n",
    "modelCA = _models_all[_idx]\n",
    "_losses = modelCA.ELBO_\n",
    "\n",
    "\n",
    "import matplotlib.pyplot as plt\n",
    "from vireoSNP.plot.base_plot import heat_matrix\n",
    "\n",
    "fig = plt.figure(figsize=(7, 4), dpi=100)\n",
    "plt.subplot(1, 2, 1)\n",
    "im = heat_matrix(modelCA.ID_prob, cmap=\"Oranges\", alpha=0.8,\n",
    "                 display_value=False, row_sort=True)\n",
    "plt.colorbar(im, fraction=0.046, pad=0.04)\n",
    "plt.title(\"Assignment probability\")\n",
    "plt.xlabel(\"Clone\")\n",
    "plt.ylabel(\"%d cells\" %(modelCA.n_cell))\n",
    "plt.xticks(range(modelCA.n_donor))\n",
    "\n",
    "\n",
    "plt.subplot(1, 2, 2)\n",
    "AF_SNPs = np.sum(modelCA.GT_prob * \n",
    "                 np.expand_dims(modelCA.beta_mu, 1), axis=2)\n",
    "im = heat_matrix(AF_SNPs, cmap=\"Blues\", alpha=0.8, \n",
    "                 display_value=False, row_sort=True)\n",
    "plt.colorbar(im, fraction=0.046, pad=0.04)\n",
    "plt.title(\"Mean allelic ratio\")\n",
    "plt.xlabel(\"Clone\")\n",
    "plt.ylabel(\"%d SNPs\" %(modelCA.n_var))\n",
    "plt.xticks(range(modelCA.n_donor))\n",
    "\n",
    "plt.tight_layout()\n",
    "plt.show()"
   ]
  }
 ],
 "metadata": {
  "celltoolbar": "Tags",
  "kernelspec": {
   "display_name": "Python 3",
   "language": "python",
   "name": "python3"
  },
  "language_info": {
   "codemirror_mode": {
    "name": "ipython",
    "version": 3
   },
   "file_extension": ".py",
   "mimetype": "text/x-python",
   "name": "python",
   "nbconvert_exporter": "python",
   "pygments_lexer": "ipython3",
   "version": "3.7.3"
  },
  "papermill": {
   "default_parameters": {},
   "duration": 49.118527,
   "end_time": "2021-01-14T01:24:31.991392",
   "environment_variables": {},
   "exception": null,
   "input_path": "/data2/mito_lineage/src/vireo/vireoSNP_clones.ipynb",
   "output_path": "results/chrM/PBMC_P_cellSNP_minC10_minAF0.1/lineage_chrM.ipynb",
   "parameters": {
    "AD_F": "data/chrM/PBMC_P_cellSNP_minC10_minAF0.1/cellSNP.tag.AD.mtx",
    "DP_F": "data/chrM/PBMC_P_cellSNP_minC10_minAF0.1/cellSNP.tag.DP.mtx"
   },
   "start_time": "2021-01-14T01:23:42.872865",
   "version": "2.2.0"
  }
 },
 "nbformat": 4,
 "nbformat_minor": 4
}