{
 "cells": [
  {
   "cell_type": "code",
   "execution_count": 1,
   "metadata": {
    "ExecuteTime": {
     "end_time": "2021-01-07T22:17:00.753670Z",
     "start_time": "2021-01-07T22:17:00.746914Z"
    },
    "execution": {
     "iopub.execute_input": "2021-01-20T01:52:33.979934Z",
     "iopub.status.busy": "2021-01-20T01:52:33.979089Z",
     "iopub.status.idle": "2021-01-20T01:52:33.982404Z",
     "shell.execute_reply": "2021-01-20T01:52:33.982873Z"
    },
    "papermill": {
     "duration": 0.046192,
     "end_time": "2021-01-20T01:52:33.983050",
     "exception": false,
     "start_time": "2021-01-20T01:52:33.936858",
     "status": "completed"
    },
    "tags": []
   },
   "outputs": [
    {
     "data": {
      "text/plain": [
       "'/data2/mito_lineage/Analysis/multiplex'"
      ]
     },
     "execution_count": 1,
     "metadata": {},
     "output_type": "execute_result"
    }
   ],
   "source": [
    "pwd"
   ]
  },
  {
   "cell_type": "code",
   "execution_count": 2,
   "metadata": {
    "collapsed": true,
    "execution": {
     "iopub.execute_input": "2021-01-20T01:52:34.033401Z",
     "iopub.status.busy": "2021-01-20T01:52:34.032782Z",
     "iopub.status.idle": "2021-01-20T01:52:34.035032Z",
     "shell.execute_reply": "2021-01-20T01:52:34.035511Z"
    },
    "papermill": {
     "duration": 0.029125,
     "end_time": "2021-01-20T01:52:34.035658",
     "exception": false,
     "start_time": "2021-01-20T01:52:34.006533",
     "status": "completed"
    },
    "tags": [
     "parameters"
    ]
   },
   "outputs": [],
   "source": [
    "AD_F = \"../data/mitoDNA/cellSNP.tag.AD.mtx\"\n",
    "DP_F = \"../data/mitoDNA/cellSNP.tag.DP.mtx\""
   ]
  },
  {
   "cell_type": "code",
   "execution_count": 3,
   "metadata": {
    "execution": {
     "iopub.execute_input": "2021-01-20T01:52:34.088884Z",
     "iopub.status.busy": "2021-01-20T01:52:34.088301Z",
     "iopub.status.idle": "2021-01-20T01:52:34.090937Z",
     "shell.execute_reply": "2021-01-20T01:52:34.091546Z"
    },
    "papermill": {
     "duration": 0.031069,
     "end_time": "2021-01-20T01:52:34.091728",
     "exception": false,
     "start_time": "2021-01-20T01:52:34.060659",
     "status": "completed"
    },
    "tags": [
     "injected-parameters"
    ]
   },
   "outputs": [],
   "source": [
    "# Parameters\n",
    "AD_F = \"data/chrM/PBMC_J_cellSNP_minC1_minAF0.001/cellSNP.tag.AD.mtx\"\n",
    "DP_F = \"data/chrM/PBMC_J_cellSNP_minC1_minAF0.001/cellSNP.tag.DP.mtx\"\n"
   ]
  },
  {
   "cell_type": "code",
   "execution_count": 4,
   "metadata": {
    "ExecuteTime": {
     "end_time": "2021-01-07T22:11:17.977334Z",
     "start_time": "2021-01-07T22:11:17.962011Z"
    },
    "execution": {
     "iopub.execute_input": "2021-01-20T01:52:34.146222Z",
     "iopub.status.busy": "2021-01-20T01:52:34.145580Z",
     "iopub.status.idle": "2021-01-20T01:52:34.148428Z",
     "shell.execute_reply": "2021-01-20T01:52:34.148925Z"
    },
    "papermill": {
     "duration": 0.030767,
     "end_time": "2021-01-20T01:52:34.149055",
     "exception": false,
     "start_time": "2021-01-20T01:52:34.118288",
     "status": "completed"
    },
    "tags": []
   },
   "outputs": [
    {
     "data": {
      "text/plain": [
       "'/data2/mito_lineage/Analysis/multiplex'"
      ]
     },
     "execution_count": 4,
     "metadata": {},
     "output_type": "execute_result"
    }
   ],
   "source": [
    "pwd"
   ]
  },
  {
   "cell_type": "markdown",
   "metadata": {
    "papermill": {
     "duration": 0.024837,
     "end_time": "2021-01-20T01:52:34.201940",
     "exception": false,
     "start_time": "2021-01-20T01:52:34.177103",
     "status": "completed"
    },
    "tags": []
   },
   "source": [
    "# Using vireo for clonal reconstruction - mitochondrial mutations"
   ]
  },
  {
   "cell_type": "markdown",
   "metadata": {
    "papermill": {
     "duration": 0.045331,
     "end_time": "2021-01-20T01:52:34.272703",
     "exception": false,
     "start_time": "2021-01-20T01:52:34.227372",
     "status": "completed"
    },
    "tags": []
   },
   "source": [
    "The mitochondrial mutations data set is extracted from [Ludwig et al, Cell, 2019](https://doi.org/10.1016/j.cell.2019.01.022), the 9 variants used here are from Supp Fig. 2F (and main Fig. 2F).\n",
    "\n",
    "For clonal reconstruction, we are using the core class `vireoSNP.Vireo` with multiple initializations"
   ]
  },
  {
   "cell_type": "code",
   "execution_count": 5,
   "metadata": {
    "execution": {
     "iopub.execute_input": "2021-01-20T01:52:34.325896Z",
     "iopub.status.busy": "2021-01-20T01:52:34.325330Z",
     "iopub.status.idle": "2021-01-20T01:52:34.965660Z",
     "shell.execute_reply": "2021-01-20T01:52:34.966428Z"
    },
    "papermill": {
     "duration": 0.670033,
     "end_time": "2021-01-20T01:52:34.966689",
     "exception": false,
     "start_time": "2021-01-20T01:52:34.296656",
     "status": "completed"
    },
    "tags": []
   },
   "outputs": [
    {
     "name": "stdout",
     "output_type": "stream",
     "text": [
      "0.4.2\n"
     ]
    }
   ],
   "source": [
    "import vireoSNP\n",
    "import numpy as np\n",
    "from scipy import sparse\n",
    "from scipy.io import mmread\n",
    "import matplotlib.pyplot as plt\n",
    "\n",
    "print(vireoSNP.__version__)"
   ]
  },
  {
   "cell_type": "code",
   "execution_count": 6,
   "metadata": {
    "collapsed": true,
    "execution": {
     "iopub.execute_input": "2021-01-20T01:52:35.027875Z",
     "iopub.status.busy": "2021-01-20T01:52:35.027261Z",
     "iopub.status.idle": "2021-01-20T01:52:35.030033Z",
     "shell.execute_reply": "2021-01-20T01:52:35.029424Z"
    },
    "papermill": {
     "duration": 0.034166,
     "end_time": "2021-01-20T01:52:35.030158",
     "exception": false,
     "start_time": "2021-01-20T01:52:34.995992",
     "status": "completed"
    },
    "tags": []
   },
   "outputs": [],
   "source": [
    "np.set_printoptions(formatter={'float': lambda x: format(x, '.5f')})"
   ]
  },
  {
   "cell_type": "code",
   "execution_count": 7,
   "metadata": {
    "collapsed": true,
    "execution": {
     "iopub.execute_input": "2021-01-20T01:52:35.089399Z",
     "iopub.status.busy": "2021-01-20T01:52:35.088817Z",
     "iopub.status.idle": "2021-01-20T01:52:58.563540Z",
     "shell.execute_reply": "2021-01-20T01:52:58.563010Z"
    },
    "papermill": {
     "duration": 23.505219,
     "end_time": "2021-01-20T01:52:58.563694",
     "exception": false,
     "start_time": "2021-01-20T01:52:35.058475",
     "status": "completed"
    },
    "tags": []
   },
   "outputs": [],
   "source": [
    "AD = mmread(AD_F).tocsc()\n",
    "DP = mmread(DP_F).tocsc()"
   ]
  },
  {
   "cell_type": "code",
   "execution_count": 8,
   "metadata": {
    "execution": {
     "iopub.execute_input": "2021-01-20T01:52:58.629099Z",
     "iopub.status.busy": "2021-01-20T01:52:58.628535Z",
     "iopub.status.idle": "2021-01-20T01:52:58.672745Z",
     "shell.execute_reply": "2021-01-20T01:52:58.672218Z"
    },
    "papermill": {
     "duration": 0.077546,
     "end_time": "2021-01-20T01:52:58.672899",
     "exception": false,
     "start_time": "2021-01-20T01:52:58.595353",
     "status": "completed"
    },
    "tags": []
   },
   "outputs": [],
   "source": [
    "AD_shape = AD.todense().shape"
   ]
  },
  {
   "cell_type": "markdown",
   "metadata": {
    "papermill": {
     "duration": 0.024792,
     "end_time": "2021-01-20T01:52:58.725589",
     "exception": false,
     "start_time": "2021-01-20T01:52:58.700797",
     "status": "completed"
    },
    "tags": []
   },
   "source": [
    "## New implementation in v0.3.0"
   ]
  },
  {
   "cell_type": "code",
   "execution_count": 9,
   "metadata": {
    "collapsed": true,
    "execution": {
     "iopub.execute_input": "2021-01-20T01:52:58.781095Z",
     "iopub.status.busy": "2021-01-20T01:52:58.780532Z",
     "iopub.status.idle": "2021-01-20T01:52:58.783926Z",
     "shell.execute_reply": "2021-01-20T01:52:58.783291Z"
    },
    "papermill": {
     "duration": 0.032759,
     "end_time": "2021-01-20T01:52:58.784088",
     "exception": false,
     "start_time": "2021-01-20T01:52:58.751329",
     "status": "completed"
    },
    "tags": []
   },
   "outputs": [],
   "source": [
    "from vireoSNP import Vireo"
   ]
  },
  {
   "cell_type": "markdown",
   "metadata": {
    "papermill": {
     "duration": 0.026488,
     "end_time": "2021-01-20T01:52:58.838827",
     "exception": false,
     "start_time": "2021-01-20T01:52:58.812339",
     "status": "completed"
    },
    "tags": []
   },
   "source": [
    "Note, there are a few key parameters:\n",
    "\n",
    "* `n_donor`: it means number of clones here, but you need to determine yourself. You can choose the one with highest ELBO (see next section)\n",
    "* `n_GT`: number of different genotype. For somatic mutations, we could assume that there are only two, namely present or absent\n",
    "* `is_theta_ASE`: whether allelic ratio is variant specific. For mitochondrial mutations, we choose True as allelic ratio can different from variant to variant"
   ]
  },
  {
   "cell_type": "markdown",
   "metadata": {
    "papermill": {
     "duration": 0.025716,
     "end_time": "2021-01-20T01:52:58.890963",
     "exception": false,
     "start_time": "2021-01-20T01:52:58.865247",
     "status": "completed"
    },
    "tags": []
   },
   "source": [
    "### Multiple initialization is needed to avoid local optima"
   ]
  },
  {
   "cell_type": "code",
   "execution_count": 10,
   "metadata": {
    "collapsed": true,
    "execution": {
     "iopub.execute_input": "2021-01-20T01:52:58.950019Z",
     "iopub.status.busy": "2021-01-20T01:52:58.949418Z",
     "iopub.status.idle": "2021-01-20T02:25:50.396956Z",
     "shell.execute_reply": "2021-01-20T02:25:50.397461Z"
    },
    "papermill": {
     "duration": 1971.481394,
     "end_time": "2021-01-20T02:25:50.397646",
     "exception": false,
     "start_time": "2021-01-20T01:52:58.916252",
     "status": "completed"
    },
    "tags": []
   },
   "outputs": [],
   "source": [
    "np.random.seed(1)\n",
    "\n",
    "n_initials = 50\n",
    "_models_all = []\n",
    "for i in range(n_initials):\n",
    "    _modelCA = Vireo(n_var=AD_shape[0], n_cell=AD_shape[1], n_donor=3, n_GT=2,\n",
    "                     fix_beta_sum=False, ASE_mode=True)\n",
    "    _modelCA.set_prior(beta_mu_prior=np.array([[0.01, 0.5]]))\n",
    "    _modelCA.fit(AD, DP, min_iter=20, verbose=False, delay_fit_theta=0)\n",
    "    _models_all.append(_modelCA)"
   ]
  },
  {
   "cell_type": "code",
   "execution_count": 11,
   "metadata": {
    "collapsed": true,
    "execution": {
     "iopub.execute_input": "2021-01-20T02:25:50.462474Z",
     "iopub.status.busy": "2021-01-20T02:25:50.461872Z",
     "iopub.status.idle": "2021-01-20T02:25:50.463761Z",
     "shell.execute_reply": "2021-01-20T02:25:50.464323Z"
    },
    "papermill": {
     "duration": 0.034497,
     "end_time": "2021-01-20T02:25:50.464486",
     "exception": false,
     "start_time": "2021-01-20T02:25:50.429989",
     "status": "completed"
    },
    "tags": []
   },
   "outputs": [],
   "source": [
    "## Choose the model giving highest ELBO\n",
    "\n",
    "_idx = np.argmax([x.ELBO_[-1] for x in _models_all])\n",
    "modelCA = _models_all[_idx]\n",
    "_losses = modelCA.ELBO_"
   ]
  },
  {
   "cell_type": "code",
   "execution_count": 12,
   "metadata": {
    "execution": {
     "iopub.execute_input": "2021-01-20T02:25:50.541552Z",
     "iopub.status.busy": "2021-01-20T02:25:50.539210Z",
     "iopub.status.idle": "2021-01-20T02:25:50.916945Z",
     "shell.execute_reply": "2021-01-20T02:25:50.917448Z"
    },
    "papermill": {
     "duration": 0.427711,
     "end_time": "2021-01-20T02:25:50.917631",
     "exception": false,
     "start_time": "2021-01-20T02:25:50.489920",
     "status": "completed"
    },
    "tags": []
   },
   "outputs": [
    {
     "data": {
      "image/png": "[encoded data removed]",
      "text/plain": [
       "<Figure size 792x288 with 2 Axes>"
      ]
     },
     "metadata": {
      "needs_background": "light"
     },
     "output_type": "display_data"
    }
   ],
   "source": [
    "fig = plt.figure(figsize=(11, 4))\n",
    "plt.subplot(1, 2, 1)\n",
    "plt.hist([x.ELBO_[-1] for x in _models_all])\n",
    "plt.ylabel(\"Frequency\")\n",
    "plt.xlabel(\"ELBO with multiple initializations\")\n",
    "\n",
    "plt.subplot(1, 2, 2)\n",
    "plt.plot(_losses)\n",
    "plt.xlabel(\"Iterations\")\n",
    "plt.ylabel(\"ELBO in a single run\")\n",
    "\n",
    "plt.tight_layout()\n",
    "plt.show()"
   ]
  },
  {
   "cell_type": "code",
   "execution_count": 13,
   "metadata": {
    "execution": {
     "iopub.execute_input": "2021-01-20T02:25:50.979025Z",
     "iopub.status.busy": "2021-01-20T02:25:50.978335Z",
     "iopub.status.idle": "2021-01-20T02:25:50.981896Z",
     "shell.execute_reply": "2021-01-20T02:25:50.982381Z"
    },
    "papermill": {
     "duration": 0.036316,
     "end_time": "2021-01-20T02:25:50.982537",
     "exception": false,
     "start_time": "2021-01-20T02:25:50.946221",
     "status": "completed"
    },
    "tags": []
   },
   "outputs": [
    {
     "name": "stdout",
     "output_type": "stream",
     "text": [
      "[[0.00208 0.50000]\n",
      " [0.00112 0.50000]\n",
      " [0.00150 0.50000]\n",
      " ...\n",
      " [0.00105 0.50000]\n",
      " [0.00149 0.50000]\n",
      " [0.00106 0.50000]]\n",
      "[[61269.00000 50.00000]\n",
      " [72115.00000 50.00000]\n",
      " [83913.00000 50.00000]\n",
      " ...\n",
      " [140935.00000 50.00000]\n",
      " [139640.00000 50.00000]\n",
      " [119396.00000 50.00000]]\n"
     ]
    }
   ],
   "source": [
    "print(modelCA.beta_mu),\n",
    "print(modelCA.beta_sum)"
   ]
  },
  {
   "cell_type": "code",
   "execution_count": 14,
   "metadata": {
    "execution": {
     "iopub.execute_input": "2021-01-20T02:25:51.062792Z",
     "iopub.status.busy": "2021-01-20T02:25:51.049212Z",
     "iopub.status.idle": "2021-01-20T02:25:51.588623Z",
     "shell.execute_reply": "2021-01-20T02:25:51.589120Z"
    },
    "papermill": {
     "duration": 0.578895,
     "end_time": "2021-01-20T02:25:51.589301",
     "exception": false,
     "start_time": "2021-01-20T02:25:51.010406",
     "status": "completed"
    },
    "tags": []
   },
   "outputs": [
    {
     "data": {
      "image/png": "[encoded data removed]",
      "text/plain": [
       "<Figure size 700x400 with 4 Axes>"
      ]
     },
     "metadata": {
      "needs_background": "light"
     },
     "output_type": "display_data"
    }
   ],
   "source": [
    "import matplotlib.pyplot as plt\n",
    "from vireoSNP.plot.base_plot import heat_matrix\n",
    "\n",
    "fig = plt.figure(figsize=(7, 4), dpi=100)\n",
    "plt.subplot(1, 2, 1)\n",
    "im = heat_matrix(modelCA.ID_prob, cmap=\"Oranges\", alpha=0.8,\n",
    "                 display_value=False, row_sort=True)\n",
    "plt.colorbar(im, fraction=0.046, pad=0.04)\n",
    "plt.title(\"Assignment probability\")\n",
    "plt.xlabel(\"Clone\")\n",
    "plt.ylabel(\"%d cells\" %(modelCA.n_cell))\n",
    "plt.xticks(range(modelCA.n_donor))\n",
    "\n",
    "\n",
    "plt.subplot(1, 2, 2)\n",
    "AF_SNPs = np.sum(modelCA.GT_prob * \n",
    "                 np.expand_dims(modelCA.beta_mu, 1), axis=2)\n",
    "im = heat_matrix(AF_SNPs, cmap=\"Blues\", alpha=0.8, \n",
    "                 display_value=False, row_sort=True)\n",
    "plt.colorbar(im, fraction=0.046, pad=0.04)\n",
    "plt.title(\"Mean allelic ratio\")\n",
    "plt.xlabel(\"Clone\")\n",
    "plt.ylabel(\"%d SNPs\" %(modelCA.n_var))\n",
    "plt.xticks(range(modelCA.n_donor))\n",
    "\n",
    "plt.tight_layout()\n",
    "plt.show()"
   ]
  },
  {
   "cell_type": "code",
   "execution_count": 15,
   "metadata": {
    "execution": {
     "iopub.execute_input": "2021-01-20T02:25:51.652409Z",
     "iopub.status.busy": "2021-01-20T02:25:51.651839Z",
     "iopub.status.idle": "2021-01-20T02:25:52.366572Z",
     "shell.execute_reply": "2021-01-20T02:25:52.367085Z"
    },
    "papermill": {
     "duration": 0.748362,
     "end_time": "2021-01-20T02:25:52.367273",
     "exception": false,
     "start_time": "2021-01-20T02:25:51.618911",
     "status": "completed"
    },
    "tags": []
   },
   "outputs": [
    {
     "data": {
      "text/plain": [
       "93.87722193099384"
      ]
     },
     "execution_count": 15,
     "metadata": {},
     "output_type": "execute_result"
    }
   ],
   "source": [
    "np.sum(modelCA.predict_doublet(AD, DP)[0])"
   ]
  },
  {
   "cell_type": "code",
   "execution_count": null,
   "metadata": {
    "collapsed": true,
    "papermill": {
     "duration": 0.029306,
     "end_time": "2021-01-20T02:25:52.427811",
     "exception": false,
     "start_time": "2021-01-20T02:25:52.398505",
     "status": "completed"
    },
    "tags": []
   },
   "outputs": [],
   "source": []
  },
  {
   "cell_type": "markdown",
   "metadata": {
    "papermill": {
     "duration": 0.029061,
     "end_time": "2021-01-20T02:25:52.486320",
     "exception": false,
     "start_time": "2021-01-20T02:25:52.457259",
     "status": "completed"
    },
    "tags": []
   },
   "source": [
    "### Choose the number of clones\n",
    "We can choose the number of clones where ELBO stops increasing. Here, the best number of clone is 3.\n",
    "\n",
    "Note, for a certain number of clone, e.g., n_clone=3, the ELBO may not the same for multiple initializations. This is becaused VI can only guarantee a local optima, so please choose the highest ELBO for each `n_clone` to represent its \"global\" optima."
   ]
  },
  {
   "cell_type": "code",
   "execution_count": 16,
   "metadata": {
    "collapsed": true,
    "execution": {
     "iopub.execute_input": "2021-01-20T02:25:52.554220Z",
     "iopub.status.busy": "2021-01-20T02:25:52.553642Z",
     "iopub.status.idle": "2021-01-20T05:20:57.792512Z",
     "shell.execute_reply": "2021-01-20T05:20:57.793140Z"
    },
    "papermill": {
     "duration": 10505.277421,
     "end_time": "2021-01-20T05:20:57.793447",
     "exception": false,
     "start_time": "2021-01-20T02:25:52.516026",
     "status": "completed"
    },
    "tags": []
   },
   "outputs": [],
   "source": [
    "n_initials = 50\n",
    "n_clone_list = np.arange(2, 6)\n",
    "\n",
    "_ELBO_mat = [] \n",
    "for k in n_clone_list:\n",
    "    _elbo_temp = []\n",
    "    for i in range(50):\n",
    "        _modelCA = Vireo(n_var=AD_shape[0], n_cell=AD_shape[1], n_donor=k, n_GT=2,\n",
    "                         fix_beta_sum=False, ASE_mode=True)\n",
    "        _modelCA.set_prior(beta_mu_prior=np.array([[0.01, 0.5]]))\n",
    "        _modelCA.fit(AD, DP, min_iter=20, verbose=False)\n",
    "        _elbo_temp.append(_modelCA.ELBO_[-1])\n",
    "    _ELBO_mat.append(_elbo_temp)"
   ]
  },
  {
   "cell_type": "code",
   "execution_count": 17,
   "metadata": {
    "execution": {
     "iopub.execute_input": "2021-01-20T05:20:57.881878Z",
     "iopub.status.busy": "2021-01-20T05:20:57.874274Z",
     "iopub.status.idle": "2021-01-20T05:20:58.101629Z",
     "shell.execute_reply": "2021-01-20T05:20:58.102177Z"
    },
    "papermill": {
     "duration": 0.269615,
     "end_time": "2021-01-20T05:20:58.102368",
     "exception": false,
     "start_time": "2021-01-20T05:20:57.832753",
     "status": "completed"
    },
    "tags": []
   },
   "outputs": [
    {
     "data": {
      "image/png": "[encoded data removed]",
      "text/plain": [
       "<Figure size 432x288 with 1 Axes>"
      ]
     },
     "metadata": {
      "needs_background": "light"
     },
     "output_type": "display_data"
    }
   ],
   "source": [
    "plt.plot([1, 2, 3, 4], np.max(_ELBO_mat, axis=1))\n",
    "plt.boxplot(_ELBO_mat)\n",
    "plt.xticks(n_clone_list - 1, n_clone_list)\n",
    "plt.ylabel(\"ELBO\")\n",
    "plt.xlabel(\"n_clones\")\n",
    "plt.show()"
   ]
  },
  {
   "cell_type": "code",
   "execution_count": null,
   "metadata": {
    "collapsed": true,
    "papermill": {
     "duration": 0.039928,
     "end_time": "2021-01-20T05:20:58.177846",
     "exception": false,
     "start_time": "2021-01-20T05:20:58.137918",
     "status": "completed"
    },
    "tags": []
   },
   "outputs": [],
   "source": []
  },
  {
   "cell_type": "code",
   "execution_count": null,
   "metadata": {
    "collapsed": true,
    "papermill": {
     "duration": 0.034404,
     "end_time": "2021-01-20T05:20:58.246228",
     "exception": false,
     "start_time": "2021-01-20T05:20:58.211824",
     "status": "completed"
    },
    "tags": []
   },
   "outputs": [],
   "source": []
  },
  {
   "cell_type": "code",
   "execution_count": null,
   "metadata": {
    "collapsed": true,
    "papermill": {
     "duration": 0.034501,
     "end_time": "2021-01-20T05:20:58.315144",
     "exception": false,
     "start_time": "2021-01-20T05:20:58.280643",
     "status": "completed"
    },
    "tags": []
   },
   "outputs": [],
   "source": []
  },
  {
   "cell_type": "markdown",
   "metadata": {
    "papermill": {
     "duration": 0.033809,
     "end_time": "2021-01-20T05:20:58.383347",
     "exception": false,
     "start_time": "2021-01-20T05:20:58.349538",
     "status": "completed"
    },
    "tags": []
   },
   "source": [
    "### Old version\n",
    "\n",
    "The old version seem more likely to end up at local optima in this data set."
   ]
  },
  {
   "cell_type": "code",
   "execution_count": 18,
   "metadata": {
    "collapsed": true,
    "execution": {
     "iopub.execute_input": "2021-01-20T05:20:58.455974Z",
     "iopub.status.busy": "2021-01-20T05:20:58.455381Z",
     "iopub.status.idle": "2021-01-20T05:20:58.482870Z",
     "shell.execute_reply": "2021-01-20T05:20:58.482267Z"
    },
    "papermill": {
     "duration": 0.065996,
     "end_time": "2021-01-20T05:20:58.483051",
     "exception": false,
     "start_time": "2021-01-20T05:20:58.417055",
     "status": "completed"
    },
    "tags": []
   },
   "outputs": [],
   "source": [
    "from vireoSNP.utils.vireo_wrap_v02 import vireo_flock"
   ]
  },
  {
   "cell_type": "code",
   "execution_count": 19,
   "metadata": {
    "execution": {
     "iopub.execute_input": "2021-01-20T05:20:58.559496Z",
     "iopub.status.busy": "2021-01-20T05:20:58.558825Z",
     "iopub.status.idle": "2021-01-20T05:26:41.061486Z",
     "shell.execute_reply": "2021-01-20T05:26:41.062074Z"
    },
    "papermill": {
     "duration": 342.5439,
     "end_time": "2021-01-20T05:26:41.062333",
     "exception": false,
     "start_time": "2021-01-20T05:20:58.518433",
     "status": "completed"
    },
    "tags": []
   },
   "outputs": [
    {
     "name": "stdout",
     "output_type": "stream",
     "text": [
      "[vireo] warm-up: 50 random initializations for 3 clusters...\n"
     ]
    },
    {
     "name": "stdout",
     "output_type": "stream",
     "text": [
      "[vireo] donor size with searching extra 0 donors:\n",
      "donor0\tdonor1\tdonor2\n",
      "248\t248\t248\n",
      "[vireo] warm-up: lower bound ranges [-31015875.7, -31015875.7, -31015875.7]\n",
      "[vireo] main RUN with warm initials and tuned GT ...\n"
     ]
    },
    {
     "name": "stdout",
     "output_type": "stream",
     "text": [
      "[vireo] main RUN: 22 iterations; lower bound -31015875.7\n",
      "[vireo] beta parameters for binomial rate:\n",
      "[[[127.10 80.10 125.10 ... 148.10 208.10 126.10]\n",
      "  [61102.00 71995.00 83748.00 ... 140747.00 139392.00 119230.00]]\n",
      "\n",
      " [[5.00 5.00 5.00 ... 5.00 5.00 5.00]\n",
      "  [5.00 5.00 5.00 ... 5.00 5.00 5.00]]]\n"
     ]
    }
   ],
   "source": [
    "# theta_prior = np.array([[0.01, 10], [0.4, 10], [5, 5]])\n",
    "theta_prior = np.array([[0.1, 10], [5, 5]])\n",
    "res = vireo_flock(AD, DP, n_donor=3, learn_GT=True,\n",
    "                  n_extra_donor=0, ASE_mode=True,\n",
    "                  theta_prior=theta_prior, learn_theta=True,\n",
    "                  n_init=50, check_doublet=False, random_seed=1)"
   ]
  },
  {
   "cell_type": "code",
   "execution_count": 20,
   "metadata": {
    "execution": {
     "iopub.execute_input": "2021-01-20T05:26:41.164408Z",
     "iopub.status.busy": "2021-01-20T05:26:41.156088Z",
     "iopub.status.idle": "2021-01-20T05:26:41.321074Z",
     "shell.execute_reply": "2021-01-20T05:26:41.321633Z"
    },
    "papermill": {
     "duration": 0.222746,
     "end_time": "2021-01-20T05:26:41.321829",
     "exception": false,
     "start_time": "2021-01-20T05:26:41.099083",
     "status": "completed"
    },
    "tags": []
   },
   "outputs": [
    {
     "data": {
      "image/png": "[encoded data removed]",
      "text/plain": [
       "<Figure size 432x288 with 1 Axes>"
      ]
     },
     "metadata": {
      "needs_background": "light"
     },
     "output_type": "display_data"
    }
   ],
   "source": [
    "plt.plot(res['LB_list'])\n",
    "plt.xlabel(\"Iterations\")\n",
    "plt.ylabel(\"ELBO in a single run\")\n",
    "plt.show()"
   ]
  },
  {
   "cell_type": "raw",
   "metadata": {
    "papermill": {
     "duration": 0.037133,
     "end_time": "2021-01-20T05:26:41.396633",
     "exception": false,
     "start_time": "2021-01-20T05:26:41.359500",
     "status": "completed"
    },
    "tags": []
   },
   "source": [
    "## If ASE_mode is False\n",
    "AF_mean = res['theta_shapes'][:, 0] / np.sum(res['theta_shapes'], axis=1)\n",
    "AF_SNPs = np.tensordot(res['GT_prob'], AF_mean, axes=[2, 0])"
   ]
  },
  {
   "cell_type": "code",
   "execution_count": 21,
   "metadata": {
    "collapsed": true,
    "execution": {
     "iopub.execute_input": "2021-01-20T05:26:41.479096Z",
     "iopub.status.busy": "2021-01-20T05:26:41.478375Z",
     "iopub.status.idle": "2021-01-20T05:26:41.482758Z",
     "shell.execute_reply": "2021-01-20T05:26:41.482137Z"
    },
    "papermill": {
     "duration": 0.048904,
     "end_time": "2021-01-20T05:26:41.482922",
     "exception": false,
     "start_time": "2021-01-20T05:26:41.434018",
     "status": "completed"
    },
    "tags": []
   },
   "outputs": [],
   "source": [
    "## If ASE_mode is True\n",
    "AF_mean = res['theta_shapes'][:, 0] / np.sum(res['theta_shapes'], axis=1)\n",
    "\n",
    "_new_shape = (AF_mean.shape[1], 1, AF_mean.shape[0])\n",
    "AF_SNPs = np.sum(res['GT_prob'] * AF_mean.transpose().reshape(_new_shape), axis=2)"
   ]
  },
  {
   "cell_type": "code",
   "execution_count": 22,
   "metadata": {
    "execution": {
     "iopub.execute_input": "2021-01-20T05:26:41.580664Z",
     "iopub.status.busy": "2021-01-20T05:26:41.579096Z",
     "iopub.status.idle": "2021-01-20T05:26:42.209623Z",
     "shell.execute_reply": "2021-01-20T05:26:42.210214Z"
    },
    "papermill": {
     "duration": 0.689378,
     "end_time": "2021-01-20T05:26:42.210417",
     "exception": false,
     "start_time": "2021-01-20T05:26:41.521039",
     "status": "completed"
    },
    "tags": []
   },
   "outputs": [
    {
     "data": {
      "image/png": "[encoded data removed]",
      "text/plain": [
       "<Figure size 700x400 with 4 Axes>"
      ]
     },
     "metadata": {
      "needs_background": "light"
     },
     "output_type": "display_data"
    }
   ],
   "source": [
    "import matplotlib.pyplot as plt\n",
    "from vireoSNP.plot.base_plot import heat_matrix\n",
    "\n",
    "fig = plt.figure(figsize=(7, 4), dpi=100)\n",
    "plt.subplot(1, 2, 1)\n",
    "im = heat_matrix(res['ID_prob'], cmap=\"Oranges\", alpha=0.8,\n",
    "                 display_value=False, row_sort=True)\n",
    "plt.colorbar(im, fraction=0.046, pad=0.04)\n",
    "plt.title(\"Assignment probability\")\n",
    "plt.ylabel(\"%d cells\" %(res['ID_prob'].shape[0]))\n",
    "plt.xlabel(\"Clone\")\n",
    "plt.xticks([0, 1, 2])\n",
    "\n",
    "plt.subplot(1, 2, 2)\n",
    "im = heat_matrix(AF_SNPs, cmap=\"Blues\", alpha=0.8, \n",
    "                 display_value=False, row_sort=True)\n",
    "plt.colorbar(im, fraction=0.046, pad=0.04)\n",
    "plt.title(\"Mean allelic ratio\")\n",
    "plt.xlabel(\"Clone\")\n",
    "plt.ylabel(\"%d SNPs\" %(AF_SNPs.shape[0]))\n",
    "plt.xticks([0, 1, 2])\n",
    "plt.xlim(-0.5, 2.5)\n",
    "\n",
    "plt.tight_layout()\n",
    "plt.show()"
   ]
  },
  {
   "cell_type": "markdown",
   "metadata": {
    "collapsed": true,
    "papermill": {
     "duration": 0.039703,
     "end_time": "2021-01-20T05:26:42.293511",
     "exception": false,
     "start_time": "2021-01-20T05:26:42.253808",
     "status": "completed"
    },
    "tags": []
   },
   "source": [
    "## Plot K=4"
   ]
  },
  {
   "cell_type": "code",
   "execution_count": 23,
   "metadata": {
    "execution": {
     "iopub.execute_input": "2021-01-20T05:26:42.391359Z",
     "iopub.status.busy": "2021-01-20T05:26:42.390583Z",
     "iopub.status.idle": "2021-01-20T06:44:50.523129Z",
     "shell.execute_reply": "2021-01-20T06:44:50.523711Z"
    },
    "papermill": {
     "duration": 4688.191108,
     "end_time": "2021-01-20T06:44:50.523988",
     "exception": false,
     "start_time": "2021-01-20T05:26:42.332880",
     "status": "completed"
    },
    "tags": []
   },
   "outputs": [
    {
     "data": {
      "image/png": "[encoded data removed]",
      "text/plain": [
       "<Figure size 700x400 with 4 Axes>"
      ]
     },
     "metadata": {
      "needs_background": "light"
     },
     "output_type": "display_data"
    }
   ],
   "source": [
    "np.random.seed(1)\n",
    "\n",
    "n_initials = 50\n",
    "_models_all = []\n",
    "for i in range(n_initials):\n",
    "    _modelCA = Vireo(n_var=AD_shape[0], n_cell=AD_shape[1], n_donor=4, n_GT=2,\n",
    "                     fix_beta_sum=False, ASE_mode=True)\n",
    "    _modelCA.set_prior(beta_mu_prior=np.array([[0.01, 0.5]]))\n",
    "    _modelCA.fit(AD, DP, min_iter=20, verbose=False, delay_fit_theta=0)\n",
    "    _models_all.append(_modelCA)\n",
    "    \n",
    "## Choose the model giving highest ELBO\n",
    "\n",
    "_idx = np.argmax([x.ELBO_[-1] for x in _models_all])\n",
    "modelCA = _models_all[_idx]\n",
    "_losses = modelCA.ELBO_\n",
    "\n",
    "\n",
    "import matplotlib.pyplot as plt\n",
    "from vireoSNP.plot.base_plot import heat_matrix\n",
    "\n",
    "fig = plt.figure(figsize=(7, 4), dpi=100)\n",
    "plt.subplot(1, 2, 1)\n",
    "im = heat_matrix(modelCA.ID_prob, cmap=\"Oranges\", alpha=0.8,\n",
    "                 display_value=False, row_sort=True)\n",
    "plt.colorbar(im, fraction=0.046, pad=0.04)\n",
    "plt.title(\"Assignment probability\")\n",
    "plt.xlabel(\"Clone\")\n",
    "plt.ylabel(\"%d cells\" %(modelCA.n_cell))\n",
    "plt.xticks(range(modelCA.n_donor))\n",
    "\n",
    "\n",
    "plt.subplot(1, 2, 2)\n",
    "AF_SNPs = np.sum(modelCA.GT_prob * \n",
    "                 np.expand_dims(modelCA.beta_mu, 1), axis=2)\n",
    "im = heat_matrix(AF_SNPs, cmap=\"Blues\", alpha=0.8, \n",
    "                 display_value=False, row_sort=True)\n",
    "plt.colorbar(im, fraction=0.046, pad=0.04)\n",
    "plt.title(\"Mean allelic ratio\")\n",
    "plt.xlabel(\"Clone\")\n",
    "plt.ylabel(\"%d SNPs\" %(modelCA.n_var))\n",
    "plt.xticks(range(modelCA.n_donor))\n",
    "\n",
    "plt.tight_layout()\n",
    "plt.show()"
   ]
  }
 ],
 "metadata": {
  "celltoolbar": "Tags",
  "kernelspec": {
   "display_name": "Python 3",
   "language": "python",
   "name": "python3"
  },
  "language_info": {
   "codemirror_mode": {
    "name": "ipython",
    "version": 3
   },
   "file_extension": ".py",
   "mimetype": "text/x-python",
   "name": "python",
   "nbconvert_exporter": "python",
   "pygments_lexer": "ipython3",
   "version": "3.7.3"
  },
  "papermill": {
   "default_parameters": {},
   "duration": 17537.936914,
   "end_time": "2021-01-20T06:44:51.177126",
   "environment_variables": {},
   "exception": null,
   "input_path": "/data2/mito_lineage/src/vireo/vireoSNP_clones.ipynb",
   "output_path": "results/chrM/PBMC_J_cellSNP_minC1_minAF0.001/lineage_chrM.ipynb",
   "parameters": {
    "AD_F": "data/chrM/PBMC_J_cellSNP_minC1_minAF0.001/cellSNP.tag.AD.mtx",
    "DP_F": "data/chrM/PBMC_J_cellSNP_minC1_minAF0.001/cellSNP.tag.DP.mtx"
   },
   "start_time": "2021-01-20T01:52:33.240212",
   "version": "2.2.0"
  }
 },
 "nbformat": 4,
 "nbformat_minor": 4
}