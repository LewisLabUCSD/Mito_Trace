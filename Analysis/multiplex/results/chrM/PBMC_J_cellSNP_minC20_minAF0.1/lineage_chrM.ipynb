{
 "cells": [
  {
   "cell_type": "code",
   "execution_count": 1,
   "metadata": {
    "ExecuteTime": {
     "end_time": "2021-01-07T22:17:00.753670Z",
     "start_time": "2021-01-07T22:17:00.746914Z"
    },
    "execution": {
     "iopub.execute_input": "2021-01-13T20:56:37.878388Z",
     "iopub.status.busy": "2021-01-13T20:56:37.877708Z",
     "iopub.status.idle": "2021-01-13T20:56:37.881134Z",
     "shell.execute_reply": "2021-01-13T20:56:37.881665Z"
    },
    "papermill": {
     "duration": 0.131167,
     "end_time": "2021-01-13T20:56:37.881872",
     "exception": false,
     "start_time": "2021-01-13T20:56:37.750705",
     "status": "completed"
    },
    "tags": []
   },
   "outputs": [
    {
     "data": {
      "text/plain": [
       "'/data2/mito_lineage/Analysis/multiplex'"
      ]
     },
     "execution_count": 1,
     "metadata": {},
     "output_type": "execute_result"
    }
   ],
   "source": [
    "pwd"
   ]
  },
  {
   "cell_type": "code",
   "execution_count": 2,
   "metadata": {
    "collapsed": true,
    "execution": {
     "iopub.execute_input": "2021-01-13T20:56:37.937599Z",
     "iopub.status.busy": "2021-01-13T20:56:37.936950Z",
     "iopub.status.idle": "2021-01-13T20:56:37.939048Z",
     "shell.execute_reply": "2021-01-13T20:56:37.939654Z"
    },
    "papermill": {
     "duration": 0.031348,
     "end_time": "2021-01-13T20:56:37.939827",
     "exception": false,
     "start_time": "2021-01-13T20:56:37.908479",
     "status": "completed"
    },
    "tags": [
     "parameters"
    ]
   },
   "outputs": [],
   "source": [
    "AD_F = \"../data/mitoDNA/cellSNP.tag.AD.mtx\"\n",
    "DP_F = \"../data/mitoDNA/cellSNP.tag.DP.mtx\""
   ]
  },
  {
   "cell_type": "code",
   "execution_count": 3,
   "metadata": {
    "execution": {
     "iopub.execute_input": "2021-01-13T20:56:37.995954Z",
     "iopub.status.busy": "2021-01-13T20:56:37.995305Z",
     "iopub.status.idle": "2021-01-13T20:56:37.997696Z",
     "shell.execute_reply": "2021-01-13T20:56:37.998284Z"
    },
    "papermill": {
     "duration": 0.031966,
     "end_time": "2021-01-13T20:56:37.998447",
     "exception": false,
     "start_time": "2021-01-13T20:56:37.966481",
     "status": "completed"
    },
    "tags": [
     "injected-parameters"
    ]
   },
   "outputs": [],
   "source": [
    "# Parameters\n",
    "AD_F = \"data/chrM/PBMC_J_cellSNP_minC20_minAF0.1/cellSNP.tag.AD.mtx\"\n",
    "DP_F = \"data/chrM/PBMC_J_cellSNP_minC20_minAF0.1/cellSNP.tag.DP.mtx\"\n"
   ]
  },
  {
   "cell_type": "code",
   "execution_count": 4,
   "metadata": {
    "ExecuteTime": {
     "end_time": "2021-01-07T22:11:17.977334Z",
     "start_time": "2021-01-07T22:11:17.962011Z"
    },
    "execution": {
     "iopub.execute_input": "2021-01-13T20:56:38.054705Z",
     "iopub.status.busy": "2021-01-13T20:56:38.054030Z",
     "iopub.status.idle": "2021-01-13T20:56:38.057159Z",
     "shell.execute_reply": "2021-01-13T20:56:38.057765Z"
    },
    "papermill": {
     "duration": 0.033187,
     "end_time": "2021-01-13T20:56:38.057935",
     "exception": false,
     "start_time": "2021-01-13T20:56:38.024748",
     "status": "completed"
    },
    "tags": []
   },
   "outputs": [
    {
     "data": {
      "text/plain": [
       "'/data2/mito_lineage/Analysis/multiplex'"
      ]
     },
     "execution_count": 4,
     "metadata": {},
     "output_type": "execute_result"
    }
   ],
   "source": [
    "pwd"
   ]
  },
  {
   "cell_type": "markdown",
   "metadata": {
    "papermill": {
     "duration": 0.026195,
     "end_time": "2021-01-13T20:56:38.112324",
     "exception": false,
     "start_time": "2021-01-13T20:56:38.086129",
     "status": "completed"
    },
    "tags": []
   },
   "source": [
    "# Using vireo for clonal reconstruction - mitochondrial mutations"
   ]
  },
  {
   "cell_type": "markdown",
   "metadata": {
    "papermill": {
     "duration": 0.062807,
     "end_time": "2021-01-13T20:56:38.201691",
     "exception": false,
     "start_time": "2021-01-13T20:56:38.138884",
     "status": "completed"
    },
    "tags": []
   },
   "source": [
    "The mitochondrial mutations data set is extracted from [Ludwig et al, Cell, 2019](https://doi.org/10.1016/j.cell.2019.01.022), the 9 variants used here are from Supp Fig. 2F (and main Fig. 2F).\n",
    "\n",
    "For clonal reconstruction, we are using the core class `vireoSNP.Vireo` with multiple initializations"
   ]
  },
  {
   "cell_type": "code",
   "execution_count": 5,
   "metadata": {
    "execution": {
     "iopub.execute_input": "2021-01-13T20:56:38.277656Z",
     "iopub.status.busy": "2021-01-13T20:56:38.276458Z",
     "iopub.status.idle": "2021-01-13T20:56:38.992293Z",
     "shell.execute_reply": "2021-01-13T20:56:38.992839Z"
    },
    "papermill": {
     "duration": 0.764917,
     "end_time": "2021-01-13T20:56:38.993037",
     "exception": false,
     "start_time": "2021-01-13T20:56:38.228120",
     "status": "completed"
    },
    "tags": []
   },
   "outputs": [
    {
     "name": "stdout",
     "output_type": "stream",
     "text": [
      "0.4.2\n"
     ]
    }
   ],
   "source": [
    "import vireoSNP\n",
    "import numpy as np\n",
    "from scipy import sparse\n",
    "from scipy.io import mmread\n",
    "import matplotlib.pyplot as plt\n",
    "\n",
    "print(vireoSNP.__version__)"
   ]
  },
  {
   "cell_type": "code",
   "execution_count": 6,
   "metadata": {
    "collapsed": true,
    "execution": {
     "iopub.execute_input": "2021-01-13T20:56:39.052266Z",
     "iopub.status.busy": "2021-01-13T20:56:39.051627Z",
     "iopub.status.idle": "2021-01-13T20:56:39.053756Z",
     "shell.execute_reply": "2021-01-13T20:56:39.054270Z"
    },
    "papermill": {
     "duration": 0.034107,
     "end_time": "2021-01-13T20:56:39.054422",
     "exception": false,
     "start_time": "2021-01-13T20:56:39.020315",
     "status": "completed"
    },
    "tags": []
   },
   "outputs": [],
   "source": [
    "np.set_printoptions(formatter={'float': lambda x: format(x, '.5f')})"
   ]
  },
  {
   "cell_type": "code",
   "execution_count": 7,
   "metadata": {
    "collapsed": true,
    "execution": {
     "iopub.execute_input": "2021-01-13T20:56:39.112858Z",
     "iopub.status.busy": "2021-01-13T20:56:39.112215Z",
     "iopub.status.idle": "2021-01-13T20:56:39.133476Z",
     "shell.execute_reply": "2021-01-13T20:56:39.133972Z"
    },
    "papermill": {
     "duration": 0.052391,
     "end_time": "2021-01-13T20:56:39.134120",
     "exception": false,
     "start_time": "2021-01-13T20:56:39.081729",
     "status": "completed"
    },
    "tags": []
   },
   "outputs": [],
   "source": [
    "AD = mmread(AD_F).tocsc()\n",
    "DP = mmread(DP_F).tocsc()"
   ]
  },
  {
   "cell_type": "code",
   "execution_count": 8,
   "metadata": {
    "execution": {
     "iopub.execute_input": "2021-01-13T20:56:39.193406Z",
     "iopub.status.busy": "2021-01-13T20:56:39.192763Z",
     "iopub.status.idle": "2021-01-13T20:56:39.194950Z",
     "shell.execute_reply": "2021-01-13T20:56:39.195463Z"
    },
    "papermill": {
     "duration": 0.033924,
     "end_time": "2021-01-13T20:56:39.195616",
     "exception": false,
     "start_time": "2021-01-13T20:56:39.161692",
     "status": "completed"
    },
    "tags": []
   },
   "outputs": [],
   "source": [
    "AD_shape = AD.todense().shape"
   ]
  },
  {
   "cell_type": "markdown",
   "metadata": {
    "papermill": {
     "duration": 0.027198,
     "end_time": "2021-01-13T20:56:39.250137",
     "exception": false,
     "start_time": "2021-01-13T20:56:39.222939",
     "status": "completed"
    },
    "tags": []
   },
   "source": [
    "## New implementation in v0.3.0"
   ]
  },
  {
   "cell_type": "code",
   "execution_count": 9,
   "metadata": {
    "collapsed": true,
    "execution": {
     "iopub.execute_input": "2021-01-13T20:56:39.309591Z",
     "iopub.status.busy": "2021-01-13T20:56:39.308948Z",
     "iopub.status.idle": "2021-01-13T20:56:39.310973Z",
     "shell.execute_reply": "2021-01-13T20:56:39.311473Z"
    },
    "papermill": {
     "duration": 0.034145,
     "end_time": "2021-01-13T20:56:39.311634",
     "exception": false,
     "start_time": "2021-01-13T20:56:39.277489",
     "status": "completed"
    },
    "tags": []
   },
   "outputs": [],
   "source": [
    "from vireoSNP import Vireo"
   ]
  },
  {
   "cell_type": "markdown",
   "metadata": {
    "papermill": {
     "duration": 0.027097,
     "end_time": "2021-01-13T20:56:39.367676",
     "exception": false,
     "start_time": "2021-01-13T20:56:39.340579",
     "status": "completed"
    },
    "tags": []
   },
   "source": [
    "Note, there are a few key parameters:\n",
    "\n",
    "* `n_donor`: it means number of clones here, but you need to determine yourself. You can choose the one with highest ELBO (see next section)\n",
    "* `n_GT`: number of different genotype. For somatic mutations, we could assume that there are only two, namely present or absent\n",
    "* `is_theta_ASE`: whether allelic ratio is variant specific. For mitochondrial mutations, we choose True as allelic ratio can different from variant to variant"
   ]
  },
  {
   "cell_type": "markdown",
   "metadata": {
    "papermill": {
     "duration": 0.027936,
     "end_time": "2021-01-13T20:56:39.423153",
     "exception": false,
     "start_time": "2021-01-13T20:56:39.395217",
     "status": "completed"
    },
    "tags": []
   },
   "source": [
    "### Multiple initialization is needed to avoid local optima"
   ]
  },
  {
   "cell_type": "code",
   "execution_count": 10,
   "metadata": {
    "collapsed": true,
    "execution": {
     "iopub.execute_input": "2021-01-13T20:56:39.488981Z",
     "iopub.status.busy": "2021-01-13T20:56:39.488356Z",
     "iopub.status.idle": "2021-01-13T20:56:49.391650Z",
     "shell.execute_reply": "2021-01-13T20:56:49.391072Z"
    },
    "papermill": {
     "duration": 9.941324,
     "end_time": "2021-01-13T20:56:49.391818",
     "exception": false,
     "start_time": "2021-01-13T20:56:39.450494",
     "status": "completed"
    },
    "tags": []
   },
   "outputs": [],
   "source": [
    "np.random.seed(1)\n",
    "\n",
    "n_initials = 50\n",
    "_models_all = []\n",
    "for i in range(n_initials):\n",
    "    _modelCA = Vireo(n_var=AD_shape[0], n_cell=AD_shape[1], n_donor=3, n_GT=2,\n",
    "                     fix_beta_sum=False, ASE_mode=True)\n",
    "    _modelCA.set_prior(beta_mu_prior=np.array([[0.01, 0.5]]))\n",
    "    _modelCA.fit(AD, DP, min_iter=20, verbose=False, delay_fit_theta=0)\n",
    "    _models_all.append(_modelCA)"
   ]
  },
  {
   "cell_type": "code",
   "execution_count": 11,
   "metadata": {
    "collapsed": true,
    "execution": {
     "iopub.execute_input": "2021-01-13T20:56:49.453086Z",
     "iopub.status.busy": "2021-01-13T20:56:49.452496Z",
     "iopub.status.idle": "2021-01-13T20:56:49.455122Z",
     "shell.execute_reply": "2021-01-13T20:56:49.454620Z"
    },
    "papermill": {
     "duration": 0.0352,
     "end_time": "2021-01-13T20:56:49.455251",
     "exception": false,
     "start_time": "2021-01-13T20:56:49.420051",
     "status": "completed"
    },
    "tags": []
   },
   "outputs": [],
   "source": [
    "## Choose the model giving highest ELBO\n",
    "\n",
    "_idx = np.argmax([x.ELBO_[-1] for x in _models_all])\n",
    "modelCA = _models_all[_idx]\n",
    "_losses = modelCA.ELBO_"
   ]
  },
  {
   "cell_type": "code",
   "execution_count": 12,
   "metadata": {
    "execution": {
     "iopub.execute_input": "2021-01-13T20:56:49.521162Z",
     "iopub.status.busy": "2021-01-13T20:56:49.518871Z",
     "iopub.status.idle": "2021-01-13T20:56:49.908717Z",
     "shell.execute_reply": "2021-01-13T20:56:49.909223Z"
    },
    "papermill": {
     "duration": 0.4287,
     "end_time": "2021-01-13T20:56:49.909385",
     "exception": false,
     "start_time": "2021-01-13T20:56:49.480685",
     "status": "completed"
    },
    "tags": []
   },
   "outputs": [
    {
     "data": {
      "image/png": "[encoded data removed]",
      "text/plain": [
       "<Figure size 792x288 with 2 Axes>"
      ]
     },
     "metadata": {
      "needs_background": "light"
     },
     "output_type": "display_data"
    }
   ],
   "source": [
    "fig = plt.figure(figsize=(11, 4))\n",
    "plt.subplot(1, 2, 1)\n",
    "plt.hist([x.ELBO_[-1] for x in _models_all])\n",
    "plt.ylabel(\"Frequency\")\n",
    "plt.xlabel(\"ELBO with multiple initializations\")\n",
    "\n",
    "plt.subplot(1, 2, 2)\n",
    "plt.plot(_losses)\n",
    "plt.xlabel(\"Iterations\")\n",
    "plt.ylabel(\"ELBO in a single run\")\n",
    "\n",
    "plt.tight_layout()\n",
    "plt.show()"
   ]
  },
  {
   "cell_type": "code",
   "execution_count": 13,
   "metadata": {
    "execution": {
     "iopub.execute_input": "2021-01-13T20:56:49.971709Z",
     "iopub.status.busy": "2021-01-13T20:56:49.971066Z",
     "iopub.status.idle": "2021-01-13T20:56:49.973981Z",
     "shell.execute_reply": "2021-01-13T20:56:49.974463Z"
    },
    "papermill": {
     "duration": 0.03563,
     "end_time": "2021-01-13T20:56:49.974605",
     "exception": false,
     "start_time": "2021-01-13T20:56:49.938975",
     "status": "completed"
    },
    "tags": []
   },
   "outputs": [
    {
     "name": "stdout",
     "output_type": "stream",
     "text": [
      "[[0.09122 0.24140]\n",
      " [0.02614 0.32190]\n",
      " [0.01000 0.38286]\n",
      " [0.13893 0.17745]\n",
      " [0.20658 0.21624]\n",
      " [0.19727 0.20836]\n",
      " [0.13336 0.50000]]\n",
      "[[3510.46793 1728.53207]\n",
      " [1103.57380 626.42620]\n",
      " [50.00000 747.00000]\n",
      " [4977.39559 2355.60441]\n",
      " [4408.50126 3749.49874]\n",
      " [4430.61474 3088.38526]\n",
      " [7847.00000 50.00000]]\n"
     ]
    }
   ],
   "source": [
    "print(modelCA.beta_mu),\n",
    "print(modelCA.beta_sum)"
   ]
  },
  {
   "cell_type": "code",
   "execution_count": 14,
   "metadata": {
    "execution": {
     "iopub.execute_input": "2021-01-13T20:56:50.048527Z",
     "iopub.status.busy": "2021-01-13T20:56:50.047269Z",
     "iopub.status.idle": "2021-01-13T20:56:50.549915Z",
     "shell.execute_reply": "2021-01-13T20:56:50.550399Z"
    },
    "papermill": {
     "duration": 0.546276,
     "end_time": "2021-01-13T20:56:50.550550",
     "exception": false,
     "start_time": "2021-01-13T20:56:50.004274",
     "status": "completed"
    },
    "tags": []
   },
   "outputs": [
    {
     "data": {
      "image/png": "[encoded data removed]",
      "text/plain": [
       "<Figure size 700x400 with 4 Axes>"
      ]
     },
     "metadata": {
      "needs_background": "light"
     },
     "output_type": "display_data"
    }
   ],
   "source": [
    "import matplotlib.pyplot as plt\n",
    "from vireoSNP.plot.base_plot import heat_matrix\n",
    "\n",
    "fig = plt.figure(figsize=(7, 4), dpi=100)\n",
    "plt.subplot(1, 2, 1)\n",
    "im = heat_matrix(modelCA.ID_prob, cmap=\"Oranges\", alpha=0.8,\n",
    "                 display_value=False, row_sort=True)\n",
    "plt.colorbar(im, fraction=0.046, pad=0.04)\n",
    "plt.title(\"Assignment probability\")\n",
    "plt.xlabel(\"Clone\")\n",
    "plt.ylabel(\"%d cells\" %(modelCA.n_cell))\n",
    "plt.xticks(range(modelCA.n_donor))\n",
    "\n",
    "\n",
    "plt.subplot(1, 2, 2)\n",
    "AF_SNPs = np.sum(modelCA.GT_prob * \n",
    "                 np.expand_dims(modelCA.beta_mu, 1), axis=2)\n",
    "im = heat_matrix(AF_SNPs, cmap=\"Blues\", alpha=0.8, \n",
    "                 display_value=False, row_sort=True)\n",
    "plt.colorbar(im, fraction=0.046, pad=0.04)\n",
    "plt.title(\"Mean allelic ratio\")\n",
    "plt.xlabel(\"Clone\")\n",
    "plt.ylabel(\"%d SNPs\" %(modelCA.n_var))\n",
    "plt.xticks(range(modelCA.n_donor))\n",
    "\n",
    "plt.tight_layout()\n",
    "plt.show()"
   ]
  },
  {
   "cell_type": "code",
   "execution_count": 15,
   "metadata": {
    "execution": {
     "iopub.execute_input": "2021-01-13T20:56:50.617901Z",
     "iopub.status.busy": "2021-01-13T20:56:50.617300Z",
     "iopub.status.idle": "2021-01-13T20:56:50.624885Z",
     "shell.execute_reply": "2021-01-13T20:56:50.624384Z"
    },
    "papermill": {
     "duration": 0.042798,
     "end_time": "2021-01-13T20:56:50.625012",
     "exception": false,
     "start_time": "2021-01-13T20:56:50.582214",
     "status": "completed"
    },
    "tags": []
   },
   "outputs": [
    {
     "data": {
      "text/plain": [
       "5.8348576649402215"
      ]
     },
     "execution_count": 15,
     "metadata": {},
     "output_type": "execute_result"
    }
   ],
   "source": [
    "np.sum(modelCA.predict_doublet(AD, DP)[0])"
   ]
  },
  {
   "cell_type": "code",
   "execution_count": null,
   "metadata": {
    "collapsed": true,
    "papermill": {
     "duration": 0.039282,
     "end_time": "2021-01-13T20:56:50.697768",
     "exception": false,
     "start_time": "2021-01-13T20:56:50.658486",
     "status": "completed"
    },
    "tags": []
   },
   "outputs": [],
   "source": []
  },
  {
   "cell_type": "markdown",
   "metadata": {
    "papermill": {
     "duration": 0.035988,
     "end_time": "2021-01-13T20:56:50.767903",
     "exception": false,
     "start_time": "2021-01-13T20:56:50.731915",
     "status": "completed"
    },
    "tags": []
   },
   "source": [
    "### Choose the number of clones\n",
    "We can choose the number of clones where ELBO stops increasing. Here, the best number of clone is 3.\n",
    "\n",
    "Note, for a certain number of clone, e.g., n_clone=3, the ELBO may not the same for multiple initializations. This is becaused VI can only guarantee a local optima, so please choose the highest ELBO for each `n_clone` to represent its \"global\" optima."
   ]
  },
  {
   "cell_type": "code",
   "execution_count": 16,
   "metadata": {
    "collapsed": true,
    "execution": {
     "iopub.execute_input": "2021-01-13T20:56:50.840378Z",
     "iopub.status.busy": "2021-01-13T20:56:50.839737Z",
     "iopub.status.idle": "2021-01-13T20:57:33.622174Z",
     "shell.execute_reply": "2021-01-13T20:57:33.621505Z"
    },
    "papermill": {
     "duration": 42.822887,
     "end_time": "2021-01-13T20:57:33.622348",
     "exception": false,
     "start_time": "2021-01-13T20:56:50.799461",
     "status": "completed"
    },
    "tags": []
   },
   "outputs": [],
   "source": [
    "n_initials = 50\n",
    "n_clone_list = np.arange(2, 6)\n",
    "\n",
    "_ELBO_mat = [] \n",
    "for k in n_clone_list:\n",
    "    _elbo_temp = []\n",
    "    for i in range(50):\n",
    "        _modelCA = Vireo(n_var=AD_shape[0], n_cell=AD_shape[1], n_donor=k, n_GT=2,\n",
    "                         fix_beta_sum=False, ASE_mode=True)\n",
    "        _modelCA.set_prior(beta_mu_prior=np.array([[0.01, 0.5]]))\n",
    "        _modelCA.fit(AD, DP, min_iter=20, verbose=False)\n",
    "        _elbo_temp.append(_modelCA.ELBO_[-1])\n",
    "    _ELBO_mat.append(_elbo_temp)"
   ]
  },
  {
   "cell_type": "code",
   "execution_count": 17,
   "metadata": {
    "execution": {
     "iopub.execute_input": "2021-01-13T20:57:33.698344Z",
     "iopub.status.busy": "2021-01-13T20:57:33.695068Z",
     "iopub.status.idle": "2021-01-13T20:57:33.907210Z",
     "shell.execute_reply": "2021-01-13T20:57:33.907746Z"
    },
    "papermill": {
     "duration": 0.25253,
     "end_time": "2021-01-13T20:57:33.907902",
     "exception": false,
     "start_time": "2021-01-13T20:57:33.655372",
     "status": "completed"
    },
    "tags": []
   },
   "outputs": [
    {
     "data": {
      "image/png": "[encoded data removed]",
      "text/plain": [
       "<Figure size 432x288 with 1 Axes>"
      ]
     },
     "metadata": {
      "needs_background": "light"
     },
     "output_type": "display_data"
    }
   ],
   "source": [
    "plt.plot([1, 2, 3, 4], np.max(_ELBO_mat, axis=1))\n",
    "plt.boxplot(_ELBO_mat)\n",
    "plt.xticks(n_clone_list - 1, n_clone_list)\n",
    "plt.ylabel(\"ELBO\")\n",
    "plt.xlabel(\"n_clones\")\n",
    "plt.show()"
   ]
  },
  {
   "cell_type": "code",
   "execution_count": null,
   "metadata": {
    "collapsed": true,
    "papermill": {
     "duration": 0.032595,
     "end_time": "2021-01-13T20:57:33.974173",
     "exception": false,
     "start_time": "2021-01-13T20:57:33.941578",
     "status": "completed"
    },
    "tags": []
   },
   "outputs": [],
   "source": []
  },
  {
   "cell_type": "code",
   "execution_count": null,
   "metadata": {
    "collapsed": true,
    "papermill": {
     "duration": 0.032085,
     "end_time": "2021-01-13T20:57:34.037839",
     "exception": false,
     "start_time": "2021-01-13T20:57:34.005754",
     "status": "completed"
    },
    "tags": []
   },
   "outputs": [],
   "source": []
  },
  {
   "cell_type": "code",
   "execution_count": null,
   "metadata": {
    "collapsed": true,
    "papermill": {
     "duration": 0.033327,
     "end_time": "2021-01-13T20:57:34.104297",
     "exception": false,
     "start_time": "2021-01-13T20:57:34.070970",
     "status": "completed"
    },
    "tags": []
   },
   "outputs": [],
   "source": []
  },
  {
   "cell_type": "markdown",
   "metadata": {
    "papermill": {
     "duration": 0.034038,
     "end_time": "2021-01-13T20:57:34.172187",
     "exception": false,
     "start_time": "2021-01-13T20:57:34.138149",
     "status": "completed"
    },
    "tags": []
   },
   "source": [
    "### Old version\n",
    "\n",
    "The old version seem more likely to end up at local optima in this data set."
   ]
  },
  {
   "cell_type": "code",
   "execution_count": 18,
   "metadata": {
    "collapsed": true,
    "execution": {
     "iopub.execute_input": "2021-01-13T20:57:34.242284Z",
     "iopub.status.busy": "2021-01-13T20:57:34.241639Z",
     "iopub.status.idle": "2021-01-13T20:57:34.244625Z",
     "shell.execute_reply": "2021-01-13T20:57:34.245138Z"
    },
    "papermill": {
     "duration": 0.040197,
     "end_time": "2021-01-13T20:57:34.245300",
     "exception": false,
     "start_time": "2021-01-13T20:57:34.205103",
     "status": "completed"
    },
    "tags": []
   },
   "outputs": [],
   "source": [
    "from vireoSNP.utils.vireo_wrap_v02 import vireo_flock"
   ]
  },
  {
   "cell_type": "code",
   "execution_count": 19,
   "metadata": {
    "execution": {
     "iopub.execute_input": "2021-01-13T20:57:34.320095Z",
     "iopub.status.busy": "2021-01-13T20:57:34.319427Z",
     "iopub.status.idle": "2021-01-13T20:57:35.209190Z",
     "shell.execute_reply": "2021-01-13T20:57:35.209765Z"
    },
    "papermill": {
     "duration": 0.930523,
     "end_time": "2021-01-13T20:57:35.209992",
     "exception": false,
     "start_time": "2021-01-13T20:57:34.279469",
     "status": "completed"
    },
    "tags": []
   },
   "outputs": [
    {
     "name": "stdout",
     "output_type": "stream",
     "text": [
      "[vireo] warm-up: 50 random initializations for 3 clusters...\n",
      "[vireo] donor size with searching extra 0 donors:\n",
      "donor0\tdonor1\tdonor2\n",
      "248\t248\t248\n",
      "[vireo] warm-up: lower bound ranges [-17098.5, -17098.5, -17098.5]\n",
      "[vireo] main RUN with warm initials and tuned GT ...\n",
      "[vireo] main RUN: 22 iterations; lower bound -17098.5\n",
      "[vireo] beta parameters for binomial rate:\n",
      "[[[0.10 0.10 0.10 0.10 0.10 0.10 0.10]\n",
      "  [10.00 10.00 10.00 10.00 10.00 10.00 10.00]]\n",
      "\n",
      " [[717.00 210.00 266.00 1089.00 1701.00 1497.00 1051.00]\n",
      "  [4432.00 1430.00 441.00 6154.00 6367.00 5932.00 6756.00]]]\n"
     ]
    }
   ],
   "source": [
    "# theta_prior = np.array([[0.01, 10], [0.4, 10], [5, 5]])\n",
    "theta_prior = np.array([[0.1, 10], [5, 5]])\n",
    "res = vireo_flock(AD, DP, n_donor=3, learn_GT=True,\n",
    "                  n_extra_donor=0, ASE_mode=True,\n",
    "                  theta_prior=theta_prior, learn_theta=True,\n",
    "                  n_init=50, check_doublet=False, random_seed=1)"
   ]
  },
  {
   "cell_type": "code",
   "execution_count": 20,
   "metadata": {
    "execution": {
     "iopub.execute_input": "2021-01-13T20:57:35.291227Z",
     "iopub.status.busy": "2021-01-13T20:57:35.289229Z",
     "iopub.status.idle": "2021-01-13T20:57:35.429326Z",
     "shell.execute_reply": "2021-01-13T20:57:35.429807Z"
    },
    "papermill": {
     "duration": 0.183922,
     "end_time": "2021-01-13T20:57:35.429951",
     "exception": false,
     "start_time": "2021-01-13T20:57:35.246029",
     "status": "completed"
    },
    "tags": []
   },
   "outputs": [
    {
     "data": {
      "image/png": "[encoded data removed]",
      "text/plain": [
       "<Figure size 432x288 with 1 Axes>"
      ]
     },
     "metadata": {
      "needs_background": "light"
     },
     "output_type": "display_data"
    }
   ],
   "source": [
    "plt.plot(res['LB_list'])\n",
    "plt.xlabel(\"Iterations\")\n",
    "plt.ylabel(\"ELBO in a single run\")\n",
    "plt.show()"
   ]
  },
  {
   "cell_type": "raw",
   "metadata": {
    "papermill": {
     "duration": 0.035381,
     "end_time": "2021-01-13T20:57:35.500607",
     "exception": false,
     "start_time": "2021-01-13T20:57:35.465226",
     "status": "completed"
    },
    "tags": []
   },
   "source": [
    "## If ASE_mode is False\n",
    "AF_mean = res['theta_shapes'][:, 0] / np.sum(res['theta_shapes'], axis=1)\n",
    "AF_SNPs = np.tensordot(res['GT_prob'], AF_mean, axes=[2, 0])"
   ]
  },
  {
   "cell_type": "code",
   "execution_count": 21,
   "metadata": {
    "collapsed": true,
    "execution": {
     "iopub.execute_input": "2021-01-13T20:57:35.577756Z",
     "iopub.status.busy": "2021-01-13T20:57:35.577113Z",
     "iopub.status.idle": "2021-01-13T20:57:35.579168Z",
     "shell.execute_reply": "2021-01-13T20:57:35.579692Z"
    },
    "papermill": {
     "duration": 0.043317,
     "end_time": "2021-01-13T20:57:35.579840",
     "exception": false,
     "start_time": "2021-01-13T20:57:35.536523",
     "status": "completed"
    },
    "tags": []
   },
   "outputs": [],
   "source": [
    "## If ASE_mode is True\n",
    "AF_mean = res['theta_shapes'][:, 0] / np.sum(res['theta_shapes'], axis=1)\n",
    "\n",
    "_new_shape = (AF_mean.shape[1], 1, AF_mean.shape[0])\n",
    "AF_SNPs = np.sum(res['GT_prob'] * AF_mean.transpose().reshape(_new_shape), axis=2)"
   ]
  },
  {
   "cell_type": "code",
   "execution_count": 22,
   "metadata": {
    "execution": {
     "iopub.execute_input": "2021-01-13T20:57:35.668881Z",
     "iopub.status.busy": "2021-01-13T20:57:35.667007Z",
     "iopub.status.idle": "2021-01-13T20:57:36.164642Z",
     "shell.execute_reply": "2021-01-13T20:57:36.165146Z"
    },
    "papermill": {
     "duration": 0.549253,
     "end_time": "2021-01-13T20:57:36.165326",
     "exception": false,
     "start_time": "2021-01-13T20:57:35.616073",
     "status": "completed"
    },
    "tags": []
   },
   "outputs": [
    {
     "data": {
      "image/png": "[encoded data removed]",
      "text/plain": [
       "<Figure size 700x400 with 4 Axes>"
      ]
     },
     "metadata": {
      "needs_background": "light"
     },
     "output_type": "display_data"
    }
   ],
   "source": [
    "import matplotlib.pyplot as plt\n",
    "from vireoSNP.plot.base_plot import heat_matrix\n",
    "\n",
    "fig = plt.figure(figsize=(7, 4), dpi=100)\n",
    "plt.subplot(1, 2, 1)\n",
    "im = heat_matrix(res['ID_prob'], cmap=\"Oranges\", alpha=0.8,\n",
    "                 display_value=False, row_sort=True)\n",
    "plt.colorbar(im, fraction=0.046, pad=0.04)\n",
    "plt.title(\"Assignment probability\")\n",
    "plt.ylabel(\"%d cells\" %(res['ID_prob'].shape[0]))\n",
    "plt.xlabel(\"Clone\")\n",
    "plt.xticks([0, 1, 2])\n",
    "\n",
    "plt.subplot(1, 2, 2)\n",
    "im = heat_matrix(AF_SNPs, cmap=\"Blues\", alpha=0.8, \n",
    "                 display_value=False, row_sort=True)\n",
    "plt.colorbar(im, fraction=0.046, pad=0.04)\n",
    "plt.title(\"Mean allelic ratio\")\n",
    "plt.xlabel(\"Clone\")\n",
    "plt.ylabel(\"%d SNPs\" %(AF_SNPs.shape[0]))\n",
    "plt.xticks([0, 1, 2])\n",
    "plt.xlim(-0.5, 2.5)\n",
    "\n",
    "plt.tight_layout()\n",
    "plt.show()"
   ]
  },
  {
   "cell_type": "markdown",
   "metadata": {
    "collapsed": true,
    "papermill": {
     "duration": 0.035662,
     "end_time": "2021-01-13T20:57:36.238029",
     "exception": false,
     "start_time": "2021-01-13T20:57:36.202367",
     "status": "completed"
    },
    "tags": []
   },
   "source": [
    "## Plot K=4"
   ]
  },
  {
   "cell_type": "code",
   "execution_count": 23,
   "metadata": {
    "execution": {
     "iopub.execute_input": "2021-01-13T20:57:36.326146Z",
     "iopub.status.busy": "2021-01-13T20:57:36.325526Z",
     "iopub.status.idle": "2021-01-13T20:57:50.333262Z",
     "shell.execute_reply": "2021-01-13T20:57:50.332454Z"
    },
    "papermill": {
     "duration": 14.058189,
     "end_time": "2021-01-13T20:57:50.333483",
     "exception": false,
     "start_time": "2021-01-13T20:57:36.275294",
     "status": "completed"
    },
    "tags": []
   },
   "outputs": [
    {
     "data": {
      "image/png": "[encoded data removed]",
      "text/plain": [
       "<Figure size 700x400 with 4 Axes>"
      ]
     },
     "metadata": {
      "needs_background": "light"
     },
     "output_type": "display_data"
    }
   ],
   "source": [
    "np.random.seed(1)\n",
    "\n",
    "n_initials = 50\n",
    "_models_all = []\n",
    "for i in range(n_initials):\n",
    "    _modelCA = Vireo(n_var=AD_shape[0], n_cell=AD_shape[1], n_donor=4, n_GT=2,\n",
    "                     fix_beta_sum=False, ASE_mode=True)\n",
    "    _modelCA.set_prior(beta_mu_prior=np.array([[0.01, 0.5]]))\n",
    "    _modelCA.fit(AD, DP, min_iter=20, verbose=False, delay_fit_theta=0)\n",
    "    _models_all.append(_modelCA)\n",
    "    \n",
    "## Choose the model giving highest ELBO\n",
    "\n",
    "_idx = np.argmax([x.ELBO_[-1] for x in _models_all])\n",
    "modelCA = _models_all[_idx]\n",
    "_losses = modelCA.ELBO_\n",
    "\n",
    "\n",
    "import matplotlib.pyplot as plt\n",
    "from vireoSNP.plot.base_plot import heat_matrix\n",
    "\n",
    "fig = plt.figure(figsize=(7, 4), dpi=100)\n",
    "plt.subplot(1, 2, 1)\n",
    "im = heat_matrix(modelCA.ID_prob, cmap=\"Oranges\", alpha=0.8,\n",
    "                 display_value=False, row_sort=True)\n",
    "plt.colorbar(im, fraction=0.046, pad=0.04)\n",
    "plt.title(\"Assignment probability\")\n",
    "plt.xlabel(\"Clone\")\n",
    "plt.ylabel(\"%d cells\" %(modelCA.n_cell))\n",
    "plt.xticks(range(modelCA.n_donor))\n",
    "\n",
    "\n",
    "plt.subplot(1, 2, 2)\n",
    "AF_SNPs = np.sum(modelCA.GT_prob * \n",
    "                 np.expand_dims(modelCA.beta_mu, 1), axis=2)\n",
    "im = heat_matrix(AF_SNPs, cmap=\"Blues\", alpha=0.8, \n",
    "                 display_value=False, row_sort=True)\n",
    "plt.colorbar(im, fraction=0.046, pad=0.04)\n",
    "plt.title(\"Mean allelic ratio\")\n",
    "plt.xlabel(\"Clone\")\n",
    "plt.ylabel(\"%d SNPs\" %(modelCA.n_var))\n",
    "plt.xticks(range(modelCA.n_donor))\n",
    "\n",
    "plt.tight_layout()\n",
    "plt.show()"
   ]
  }
 ],
 "metadata": {
  "celltoolbar": "Tags",
  "kernelspec": {
   "display_name": "Python 3",
   "language": "python",
   "name": "python3"
  },
  "language_info": {
   "codemirror_mode": {
    "name": "ipython",
    "version": 3
   },
   "file_extension": ".py",
   "mimetype": "text/x-python",
   "name": "python",
   "nbconvert_exporter": "python",
   "pygments_lexer": "ipython3",
   "version": "3.7.3"
  },
  "papermill": {
   "default_parameters": {},
   "duration": 73.635294,
   "end_time": "2021-01-13T20:57:50.688139",
   "environment_variables": {},
   "exception": null,
   "input_path": "/data2/mito_lineage/src/vireo/vireoSNP_clones.ipynb",
   "output_path": "results/chrM/PBMC_J_cellSNP_minC20_minAF0.1/lineage_chrM.ipynb",
   "parameters": {
    "AD_F": "data/chrM/PBMC_J_cellSNP_minC20_minAF0.1/cellSNP.tag.AD.mtx",
    "DP_F": "data/chrM/PBMC_J_cellSNP_minC20_minAF0.1/cellSNP.tag.DP.mtx"
   },
   "start_time": "2021-01-13T20:56:37.052845",
   "version": "2.2.0"
  }
 },
 "nbformat": 4,
 "nbformat_minor": 4
}
