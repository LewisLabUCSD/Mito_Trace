{
 "cells": [
  {
   "cell_type": "code",
   "execution_count": 1,
   "metadata": {
    "ExecuteTime": {
     "end_time": "2021-01-07T22:17:00.753670Z",
     "start_time": "2021-01-07T22:17:00.746914Z"
    },
    "execution": {
     "iopub.execute_input": "2021-01-20T02:32:48.558788Z",
     "iopub.status.busy": "2021-01-20T02:32:48.558095Z",
     "iopub.status.idle": "2021-01-20T02:32:48.561515Z",
     "shell.execute_reply": "2021-01-20T02:32:48.561973Z"
    },
    "papermill": {
     "duration": 0.042468,
     "end_time": "2021-01-20T02:32:48.562167",
     "exception": false,
     "start_time": "2021-01-20T02:32:48.519699",
     "status": "completed"
    },
    "tags": []
   },
   "outputs": [
    {
     "data": {
      "text/plain": [
       "'/data2/mito_lineage/Analysis/multiplex'"
      ]
     },
     "execution_count": 1,
     "metadata": {},
     "output_type": "execute_result"
    }
   ],
   "source": [
    "pwd"
   ]
  },
  {
   "cell_type": "code",
   "execution_count": 2,
   "metadata": {
    "collapsed": true,
    "execution": {
     "iopub.execute_input": "2021-01-20T02:32:48.614861Z",
     "iopub.status.busy": "2021-01-20T02:32:48.614245Z",
     "iopub.status.idle": "2021-01-20T02:32:48.617413Z",
     "shell.execute_reply": "2021-01-20T02:32:48.616924Z"
    },
    "papermill": {
     "duration": 0.030339,
     "end_time": "2021-01-20T02:32:48.617531",
     "exception": false,
     "start_time": "2021-01-20T02:32:48.587192",
     "status": "completed"
    },
    "tags": [
     "parameters"
    ]
   },
   "outputs": [],
   "source": [
    "AD_F = \"../data/mitoDNA/cellSNP.tag.AD.mtx\"\n",
    "DP_F = \"../data/mitoDNA/cellSNP.tag.DP.mtx\""
   ]
  },
  {
   "cell_type": "code",
   "execution_count": 3,
   "metadata": {
    "execution": {
     "iopub.execute_input": "2021-01-20T02:32:48.670923Z",
     "iopub.status.busy": "2021-01-20T02:32:48.670346Z",
     "iopub.status.idle": "2021-01-20T02:32:48.672916Z",
     "shell.execute_reply": "2021-01-20T02:32:48.672442Z"
    },
    "papermill": {
     "duration": 0.028939,
     "end_time": "2021-01-20T02:32:48.673029",
     "exception": false,
     "start_time": "2021-01-20T02:32:48.644090",
     "status": "completed"
    },
    "tags": [
     "injected-parameters"
    ]
   },
   "outputs": [],
   "source": [
    "# Parameters\n",
    "AD_F = \"data/chrM/PBMC_P_cellSNP_minC1_minAF0.001/cellSNP.tag.AD.mtx\"\n",
    "DP_F = \"data/chrM/PBMC_P_cellSNP_minC1_minAF0.001/cellSNP.tag.DP.mtx\"\n"
   ]
  },
  {
   "cell_type": "code",
   "execution_count": 4,
   "metadata": {
    "ExecuteTime": {
     "end_time": "2021-01-07T22:11:17.977334Z",
     "start_time": "2021-01-07T22:11:17.962011Z"
    },
    "execution": {
     "iopub.execute_input": "2021-01-20T02:32:48.725207Z",
     "iopub.status.busy": "2021-01-20T02:32:48.724562Z",
     "iopub.status.idle": "2021-01-20T02:32:48.727647Z",
     "shell.execute_reply": "2021-01-20T02:32:48.728223Z"
    },
    "papermill": {
     "duration": 0.030893,
     "end_time": "2021-01-20T02:32:48.728384",
     "exception": false,
     "start_time": "2021-01-20T02:32:48.697491",
     "status": "completed"
    },
    "tags": []
   },
   "outputs": [
    {
     "data": {
      "text/plain": [
       "'/data2/mito_lineage/Analysis/multiplex'"
      ]
     },
     "execution_count": 4,
     "metadata": {},
     "output_type": "execute_result"
    }
   ],
   "source": [
    "pwd"
   ]
  },
  {
   "cell_type": "markdown",
   "metadata": {
    "papermill": {
     "duration": 0.024949,
     "end_time": "2021-01-20T02:32:48.781016",
     "exception": false,
     "start_time": "2021-01-20T02:32:48.756067",
     "status": "completed"
    },
    "tags": []
   },
   "source": [
    "# Using vireo for clonal reconstruction - mitochondrial mutations"
   ]
  },
  {
   "cell_type": "markdown",
   "metadata": {
    "papermill": {
     "duration": 0.051694,
     "end_time": "2021-01-20T02:32:48.857486",
     "exception": false,
     "start_time": "2021-01-20T02:32:48.805792",
     "status": "completed"
    },
    "tags": []
   },
   "source": [
    "The mitochondrial mutations data set is extracted from [Ludwig et al, Cell, 2019](https://doi.org/10.1016/j.cell.2019.01.022), the 9 variants used here are from Supp Fig. 2F (and main Fig. 2F).\n",
    "\n",
    "For clonal reconstruction, we are using the core class `vireoSNP.Vireo` with multiple initializations"
   ]
  },
  {
   "cell_type": "code",
   "execution_count": 5,
   "metadata": {
    "execution": {
     "iopub.execute_input": "2021-01-20T02:32:48.912279Z",
     "iopub.status.busy": "2021-01-20T02:32:48.911730Z",
     "iopub.status.idle": "2021-01-20T02:32:49.520989Z",
     "shell.execute_reply": "2021-01-20T02:32:49.521526Z"
    },
    "papermill": {
     "duration": 0.638797,
     "end_time": "2021-01-20T02:32:49.521733",
     "exception": false,
     "start_time": "2021-01-20T02:32:48.882936",
     "status": "completed"
    },
    "tags": []
   },
   "outputs": [
    {
     "name": "stdout",
     "output_type": "stream",
     "text": [
      "0.4.2\n"
     ]
    }
   ],
   "source": [
    "import vireoSNP\n",
    "import numpy as np\n",
    "from scipy import sparse\n",
    "from scipy.io import mmread\n",
    "import matplotlib.pyplot as plt\n",
    "\n",
    "print(vireoSNP.__version__)"
   ]
  },
  {
   "cell_type": "code",
   "execution_count": 6,
   "metadata": {
    "collapsed": true,
    "execution": {
     "iopub.execute_input": "2021-01-20T02:32:49.589677Z",
     "iopub.status.busy": "2021-01-20T02:32:49.588929Z",
     "iopub.status.idle": "2021-01-20T02:32:49.592658Z",
     "shell.execute_reply": "2021-01-20T02:32:49.591860Z"
    },
    "papermill": {
     "duration": 0.040656,
     "end_time": "2021-01-20T02:32:49.592866",
     "exception": false,
     "start_time": "2021-01-20T02:32:49.552210",
     "status": "completed"
    },
    "tags": []
   },
   "outputs": [],
   "source": [
    "np.set_printoptions(formatter={'float': lambda x: format(x, '.5f')})"
   ]
  },
  {
   "cell_type": "code",
   "execution_count": 7,
   "metadata": {
    "collapsed": true,
    "execution": {
     "iopub.execute_input": "2021-01-20T02:32:49.651506Z",
     "iopub.status.busy": "2021-01-20T02:32:49.650873Z",
     "iopub.status.idle": "2021-01-20T02:33:11.163595Z",
     "shell.execute_reply": "2021-01-20T02:33:11.164085Z"
    },
    "papermill": {
     "duration": 21.541854,
     "end_time": "2021-01-20T02:33:11.164293",
     "exception": false,
     "start_time": "2021-01-20T02:32:49.622439",
     "status": "completed"
    },
    "tags": []
   },
   "outputs": [],
   "source": [
    "AD = mmread(AD_F).tocsc()\n",
    "DP = mmread(DP_F).tocsc()"
   ]
  },
  {
   "cell_type": "code",
   "execution_count": 8,
   "metadata": {
    "execution": {
     "iopub.execute_input": "2021-01-20T02:33:11.227607Z",
     "iopub.status.busy": "2021-01-20T02:33:11.226963Z",
     "iopub.status.idle": "2021-01-20T02:33:11.266309Z",
     "shell.execute_reply": "2021-01-20T02:33:11.265773Z"
    },
    "papermill": {
     "duration": 0.071008,
     "end_time": "2021-01-20T02:33:11.266463",
     "exception": false,
     "start_time": "2021-01-20T02:33:11.195455",
     "status": "completed"
    },
    "tags": []
   },
   "outputs": [],
   "source": [
    "AD_shape = AD.todense().shape"
   ]
  },
  {
   "cell_type": "markdown",
   "metadata": {
    "papermill": {
     "duration": 0.027032,
     "end_time": "2021-01-20T02:33:11.319360",
     "exception": false,
     "start_time": "2021-01-20T02:33:11.292328",
     "status": "completed"
    },
    "tags": []
   },
   "source": [
    "## New implementation in v0.3.0"
   ]
  },
  {
   "cell_type": "code",
   "execution_count": 9,
   "metadata": {
    "collapsed": true,
    "execution": {
     "iopub.execute_input": "2021-01-20T02:33:11.377788Z",
     "iopub.status.busy": "2021-01-20T02:33:11.377189Z",
     "iopub.status.idle": "2021-01-20T02:33:11.379533Z",
     "shell.execute_reply": "2021-01-20T02:33:11.380015Z"
    },
    "papermill": {
     "duration": 0.033142,
     "end_time": "2021-01-20T02:33:11.380165",
     "exception": false,
     "start_time": "2021-01-20T02:33:11.347023",
     "status": "completed"
    },
    "tags": []
   },
   "outputs": [],
   "source": [
    "from vireoSNP import Vireo"
   ]
  },
  {
   "cell_type": "markdown",
   "metadata": {
    "papermill": {
     "duration": 0.025909,
     "end_time": "2021-01-20T02:33:11.431620",
     "exception": false,
     "start_time": "2021-01-20T02:33:11.405711",
     "status": "completed"
    },
    "tags": []
   },
   "source": [
    "Note, there are a few key parameters:\n",
    "\n",
    "* `n_donor`: it means number of clones here, but you need to determine yourself. You can choose the one with highest ELBO (see next section)\n",
    "* `n_GT`: number of different genotype. For somatic mutations, we could assume that there are only two, namely present or absent\n",
    "* `is_theta_ASE`: whether allelic ratio is variant specific. For mitochondrial mutations, we choose True as allelic ratio can different from variant to variant"
   ]
  },
  {
   "cell_type": "markdown",
   "metadata": {
    "papermill": {
     "duration": 0.027759,
     "end_time": "2021-01-20T02:33:11.486934",
     "exception": false,
     "start_time": "2021-01-20T02:33:11.459175",
     "status": "completed"
    },
    "tags": []
   },
   "source": [
    "### Multiple initialization is needed to avoid local optima"
   ]
  },
  {
   "cell_type": "code",
   "execution_count": 10,
   "metadata": {
    "collapsed": true,
    "execution": {
     "iopub.execute_input": "2021-01-20T02:33:11.546414Z",
     "iopub.status.busy": "2021-01-20T02:33:11.545813Z",
     "iopub.status.idle": "2021-01-20T03:23:49.832205Z",
     "shell.execute_reply": "2021-01-20T03:23:49.832807Z"
    },
    "papermill": {
     "duration": 3038.320267,
     "end_time": "2021-01-20T03:23:49.833104",
     "exception": false,
     "start_time": "2021-01-20T02:33:11.512837",
     "status": "completed"
    },
    "tags": []
   },
   "outputs": [],
   "source": [
    "np.random.seed(1)\n",
    "\n",
    "n_initials = 50\n",
    "_models_all = []\n",
    "for i in range(n_initials):\n",
    "    _modelCA = Vireo(n_var=AD_shape[0], n_cell=AD_shape[1], n_donor=3, n_GT=2,\n",
    "                     fix_beta_sum=False, ASE_mode=True)\n",
    "    _modelCA.set_prior(beta_mu_prior=np.array([[0.01, 0.5]]))\n",
    "    _modelCA.fit(AD, DP, min_iter=20, verbose=False, delay_fit_theta=0)\n",
    "    _models_all.append(_modelCA)"
   ]
  },
  {
   "cell_type": "code",
   "execution_count": 11,
   "metadata": {
    "collapsed": true,
    "execution": {
     "iopub.execute_input": "2021-01-20T03:23:49.901559Z",
     "iopub.status.busy": "2021-01-20T03:23:49.900889Z",
     "iopub.status.idle": "2021-01-20T03:23:49.902904Z",
     "shell.execute_reply": "2021-01-20T03:23:49.903398Z"
    },
    "papermill": {
     "duration": 0.037579,
     "end_time": "2021-01-20T03:23:49.903592",
     "exception": false,
     "start_time": "2021-01-20T03:23:49.866013",
     "status": "completed"
    },
    "tags": []
   },
   "outputs": [],
   "source": [
    "## Choose the model giving highest ELBO\n",
    "\n",
    "_idx = np.argmax([x.ELBO_[-1] for x in _models_all])\n",
    "modelCA = _models_all[_idx]\n",
    "_losses = modelCA.ELBO_"
   ]
  },
  {
   "cell_type": "code",
   "execution_count": 12,
   "metadata": {
    "execution": {
     "iopub.execute_input": "2021-01-20T03:23:49.991145Z",
     "iopub.status.busy": "2021-01-20T03:23:49.987354Z",
     "iopub.status.idle": "2021-01-20T03:23:50.383576Z",
     "shell.execute_reply": "2021-01-20T03:23:50.384107Z"
    },
    "papermill": {
     "duration": 0.453038,
     "end_time": "2021-01-20T03:23:50.384293",
     "exception": false,
     "start_time": "2021-01-20T03:23:49.931255",
     "status": "completed"
    },
    "tags": []
   },
   "outputs": [
    {
     "data": {
      "image/png": "[encoded data removed]",
      "text/plain": [
       "<Figure size 792x288 with 2 Axes>"
      ]
     },
     "metadata": {
      "needs_background": "light"
     },
     "output_type": "display_data"
    }
   ],
   "source": [
    "fig = plt.figure(figsize=(11, 4))\n",
    "plt.subplot(1, 2, 1)\n",
    "plt.hist([x.ELBO_[-1] for x in _models_all])\n",
    "plt.ylabel(\"Frequency\")\n",
    "plt.xlabel(\"ELBO with multiple initializations\")\n",
    "\n",
    "plt.subplot(1, 2, 2)\n",
    "plt.plot(_losses)\n",
    "plt.xlabel(\"Iterations\")\n",
    "plt.ylabel(\"ELBO in a single run\")\n",
    "\n",
    "plt.tight_layout()\n",
    "plt.show()"
   ]
  },
  {
   "cell_type": "code",
   "execution_count": 13,
   "metadata": {
    "execution": {
     "iopub.execute_input": "2021-01-20T03:23:50.449332Z",
     "iopub.status.busy": "2021-01-20T03:23:50.448615Z",
     "iopub.status.idle": "2021-01-20T03:23:50.452582Z",
     "shell.execute_reply": "2021-01-20T03:23:50.452023Z"
    },
    "papermill": {
     "duration": 0.038818,
     "end_time": "2021-01-20T03:23:50.452742",
     "exception": false,
     "start_time": "2021-01-20T03:23:50.413924",
     "status": "completed"
    },
    "tags": []
   },
   "outputs": [
    {
     "name": "stdout",
     "output_type": "stream",
     "text": [
      "[[0.00252 0.50000]\n",
      " [0.00129 0.50000]\n",
      " [0.00166 0.50000]\n",
      " ...\n",
      " [0.00108 0.50000]\n",
      " [0.00104 0.50000]\n",
      " [0.00115 0.50000]]\n",
      "[[113001.00000 50.00000]\n",
      " [133141.00000 50.00000]\n",
      " [156636.00000 50.00000]\n",
      " ...\n",
      " [294841.00000 50.00000]\n",
      " [261096.00000 50.00000]\n",
      " [258349.00000 50.00000]]\n"
     ]
    }
   ],
   "source": [
    "print(modelCA.beta_mu),\n",
    "print(modelCA.beta_sum)"
   ]
  },
  {
   "cell_type": "code",
   "execution_count": 14,
   "metadata": {
    "execution": {
     "iopub.execute_input": "2021-01-20T03:23:50.532166Z",
     "iopub.status.busy": "2021-01-20T03:23:50.529817Z",
     "iopub.status.idle": "2021-01-20T03:23:51.055060Z",
     "shell.execute_reply": "2021-01-20T03:23:51.055664Z"
    },
    "papermill": {
     "duration": 0.573669,
     "end_time": "2021-01-20T03:23:51.055870",
     "exception": false,
     "start_time": "2021-01-20T03:23:50.482201",
     "status": "completed"
    },
    "tags": []
   },
   "outputs": [
    {
     "data": {
      "image/png": "[encoded data removed]",
      "text/plain": [
       "<Figure size 700x400 with 4 Axes>"
      ]
     },
     "metadata": {
      "needs_background": "light"
     },
     "output_type": "display_data"
    }
   ],
   "source": [
    "import matplotlib.pyplot as plt\n",
    "from vireoSNP.plot.base_plot import heat_matrix\n",
    "\n",
    "fig = plt.figure(figsize=(7, 4), dpi=100)\n",
    "plt.subplot(1, 2, 1)\n",
    "im = heat_matrix(modelCA.ID_prob, cmap=\"Oranges\", alpha=0.8,\n",
    "                 display_value=False, row_sort=True)\n",
    "plt.colorbar(im, fraction=0.046, pad=0.04)\n",
    "plt.title(\"Assignment probability\")\n",
    "plt.xlabel(\"Clone\")\n",
    "plt.ylabel(\"%d cells\" %(modelCA.n_cell))\n",
    "plt.xticks(range(modelCA.n_donor))\n",
    "\n",
    "\n",
    "plt.subplot(1, 2, 2)\n",
    "AF_SNPs = np.sum(modelCA.GT_prob * \n",
    "                 np.expand_dims(modelCA.beta_mu, 1), axis=2)\n",
    "im = heat_matrix(AF_SNPs, cmap=\"Blues\", alpha=0.8, \n",
    "                 display_value=False, row_sort=True)\n",
    "plt.colorbar(im, fraction=0.046, pad=0.04)\n",
    "plt.title(\"Mean allelic ratio\")\n",
    "plt.xlabel(\"Clone\")\n",
    "plt.ylabel(\"%d SNPs\" %(modelCA.n_var))\n",
    "plt.xticks(range(modelCA.n_donor))\n",
    "\n",
    "plt.tight_layout()\n",
    "plt.show()"
   ]
  },
  {
   "cell_type": "code",
   "execution_count": 15,
   "metadata": {
    "execution": {
     "iopub.execute_input": "2021-01-20T03:23:51.123389Z",
     "iopub.status.busy": "2021-01-20T03:23:51.122796Z",
     "iopub.status.idle": "2021-01-20T03:23:51.983389Z",
     "shell.execute_reply": "2021-01-20T03:23:51.983908Z"
    },
    "papermill": {
     "duration": 0.897461,
     "end_time": "2021-01-20T03:23:51.984106",
     "exception": false,
     "start_time": "2021-01-20T03:23:51.086645",
     "status": "completed"
    },
    "tags": []
   },
   "outputs": [
    {
     "data": {
      "text/plain": [
       "81.3849385519523"
      ]
     },
     "execution_count": 15,
     "metadata": {},
     "output_type": "execute_result"
    }
   ],
   "source": [
    "np.sum(modelCA.predict_doublet(AD, DP)[0])"
   ]
  },
  {
   "cell_type": "code",
   "execution_count": null,
   "metadata": {
    "collapsed": true,
    "papermill": {
     "duration": 0.031143,
     "end_time": "2021-01-20T03:23:52.047617",
     "exception": false,
     "start_time": "2021-01-20T03:23:52.016474",
     "status": "completed"
    },
    "tags": []
   },
   "outputs": [],
   "source": []
  },
  {
   "cell_type": "markdown",
   "metadata": {
    "papermill": {
     "duration": 0.033472,
     "end_time": "2021-01-20T03:23:52.115133",
     "exception": false,
     "start_time": "2021-01-20T03:23:52.081661",
     "status": "completed"
    },
    "tags": []
   },
   "source": [
    "### Choose the number of clones\n",
    "We can choose the number of clones where ELBO stops increasing. Here, the best number of clone is 3.\n",
    "\n",
    "Note, for a certain number of clone, e.g., n_clone=3, the ELBO may not the same for multiple initializations. This is becaused VI can only guarantee a local optima, so please choose the highest ELBO for each `n_clone` to represent its \"global\" optima."
   ]
  },
  {
   "cell_type": "code",
   "execution_count": 16,
   "metadata": {
    "collapsed": true,
    "execution": {
     "iopub.execute_input": "2021-01-20T03:23:52.191228Z",
     "iopub.status.busy": "2021-01-20T03:23:52.190477Z",
     "iopub.status.idle": "2021-01-20T07:36:40.959878Z",
     "shell.execute_reply": "2021-01-20T07:36:40.960497Z"
    },
    "papermill": {
     "duration": 15168.811658,
     "end_time": "2021-01-20T07:36:40.960834",
     "exception": false,
     "start_time": "2021-01-20T03:23:52.149176",
     "status": "completed"
    },
    "tags": []
   },
   "outputs": [],
   "source": [
    "n_initials = 50\n",
    "n_clone_list = np.arange(2, 6)\n",
    "\n",
    "_ELBO_mat = [] \n",
    "for k in n_clone_list:\n",
    "    _elbo_temp = []\n",
    "    for i in range(50):\n",
    "        _modelCA = Vireo(n_var=AD_shape[0], n_cell=AD_shape[1], n_donor=k, n_GT=2,\n",
    "                         fix_beta_sum=False, ASE_mode=True)\n",
    "        _modelCA.set_prior(beta_mu_prior=np.array([[0.01, 0.5]]))\n",
    "        _modelCA.fit(AD, DP, min_iter=20, verbose=False)\n",
    "        _elbo_temp.append(_modelCA.ELBO_[-1])\n",
    "    _ELBO_mat.append(_elbo_temp)"
   ]
  },
  {
   "cell_type": "code",
   "execution_count": 17,
   "metadata": {
    "execution": {
     "iopub.execute_input": "2021-01-20T07:36:41.049482Z",
     "iopub.status.busy": "2021-01-20T07:36:41.047444Z",
     "iopub.status.idle": "2021-01-20T07:36:41.248082Z",
     "shell.execute_reply": "2021-01-20T07:36:41.248633Z"
    },
    "papermill": {
     "duration": 0.248964,
     "end_time": "2021-01-20T07:36:41.248872",
     "exception": false,
     "start_time": "2021-01-20T07:36:40.999908",
     "status": "completed"
    },
    "tags": []
   },
   "outputs": [
    {
     "data": {
      "image/png": "[encoded data removed]",
      "text/plain": [
       "<Figure size 432x288 with 1 Axes>"
      ]
     },
     "metadata": {
      "needs_background": "light"
     },
     "output_type": "display_data"
    }
   ],
   "source": [
    "plt.plot([1, 2, 3, 4], np.max(_ELBO_mat, axis=1))\n",
    "plt.boxplot(_ELBO_mat)\n",
    "plt.xticks(n_clone_list - 1, n_clone_list)\n",
    "plt.ylabel(\"ELBO\")\n",
    "plt.xlabel(\"n_clones\")\n",
    "plt.show()"
   ]
  },
  {
   "cell_type": "code",
   "execution_count": null,
   "metadata": {
    "collapsed": true,
    "papermill": {
     "duration": 0.03341,
     "end_time": "2021-01-20T07:36:41.318459",
     "exception": false,
     "start_time": "2021-01-20T07:36:41.285049",
     "status": "completed"
    },
    "tags": []
   },
   "outputs": [],
   "source": []
  },
  {
   "cell_type": "code",
   "execution_count": null,
   "metadata": {
    "collapsed": true,
    "papermill": {
     "duration": 0.033321,
     "end_time": "2021-01-20T07:36:41.385988",
     "exception": false,
     "start_time": "2021-01-20T07:36:41.352667",
     "status": "completed"
    },
    "tags": []
   },
   "outputs": [],
   "source": []
  },
  {
   "cell_type": "code",
   "execution_count": null,
   "metadata": {
    "collapsed": true,
    "papermill": {
     "duration": 0.032522,
     "end_time": "2021-01-20T07:36:41.450921",
     "exception": false,
     "start_time": "2021-01-20T07:36:41.418399",
     "status": "completed"
    },
    "tags": []
   },
   "outputs": [],
   "source": []
  },
  {
   "cell_type": "markdown",
   "metadata": {
    "papermill": {
     "duration": 0.033307,
     "end_time": "2021-01-20T07:36:41.517331",
     "exception": false,
     "start_time": "2021-01-20T07:36:41.484024",
     "status": "completed"
    },
    "tags": []
   },
   "source": [
    "### Old version\n",
    "\n",
    "The old version seem more likely to end up at local optima in this data set."
   ]
  },
  {
   "cell_type": "code",
   "execution_count": 18,
   "metadata": {
    "collapsed": true,
    "execution": {
     "iopub.execute_input": "2021-01-20T07:36:41.587383Z",
     "iopub.status.busy": "2021-01-20T07:36:41.586701Z",
     "iopub.status.idle": "2021-01-20T07:36:41.598240Z",
     "shell.execute_reply": "2021-01-20T07:36:41.597678Z"
    },
    "papermill": {
     "duration": 0.048423,
     "end_time": "2021-01-20T07:36:41.598395",
     "exception": false,
     "start_time": "2021-01-20T07:36:41.549972",
     "status": "completed"
    },
    "tags": []
   },
   "outputs": [],
   "source": [
    "from vireoSNP.utils.vireo_wrap_v02 import vireo_flock"
   ]
  },
  {
   "cell_type": "code",
   "execution_count": 19,
   "metadata": {
    "execution": {
     "iopub.execute_input": "2021-01-20T07:36:41.671680Z",
     "iopub.status.busy": "2021-01-20T07:36:41.670998Z",
     "iopub.status.idle": "2021-01-20T07:40:38.941286Z",
     "shell.execute_reply": "2021-01-20T07:40:38.940691Z"
    },
    "papermill": {
     "duration": 237.309034,
     "end_time": "2021-01-20T07:40:38.941453",
     "exception": false,
     "start_time": "2021-01-20T07:36:41.632419",
     "status": "completed"
    },
    "tags": []
   },
   "outputs": [
    {
     "name": "stdout",
     "output_type": "stream",
     "text": [
      "[vireo] warm-up: 50 random initializations for 3 clusters...\n"
     ]
    },
    {
     "name": "stdout",
     "output_type": "stream",
     "text": [
      "[vireo] donor size with searching extra 0 donors:\n",
      "donor0\tdonor1\tdonor2\n",
      "221\t221\t221\n",
      "[vireo] warm-up: lower bound ranges [-58025023.3, -58025023.3, -58025023.3]\n",
      "[vireo] main RUN with warm initials and tuned GT ...\n"
     ]
    },
    {
     "name": "stdout",
     "output_type": "stream",
     "text": [
      "[vireo] main RUN: 22 iterations; lower bound -58025023.3\n",
      "[vireo] beta parameters for binomial rate:\n",
      "[[[284.10 171.10 259.10 ... 318.10 272.10 296.10]\n",
      "  [112677.00 132930.00 156337.00 ... 294483.00 260784.00 258013.00]]\n",
      "\n",
      " [[5.00 5.00 5.00 ... 5.00 5.00 5.00]\n",
      "  [5.00 5.00 5.00 ... 5.00 5.00 5.00]]]\n"
     ]
    }
   ],
   "source": [
    "# theta_prior = np.array([[0.01, 10], [0.4, 10], [5, 5]])\n",
    "theta_prior = np.array([[0.1, 10], [5, 5]])\n",
    "res = vireo_flock(AD, DP, n_donor=3, learn_GT=True,\n",
    "                  n_extra_donor=0, ASE_mode=True,\n",
    "                  theta_prior=theta_prior, learn_theta=True,\n",
    "                  n_init=50, check_doublet=False, random_seed=1)"
   ]
  },
  {
   "cell_type": "code",
   "execution_count": 20,
   "metadata": {
    "execution": {
     "iopub.execute_input": "2021-01-20T07:40:39.033067Z",
     "iopub.status.busy": "2021-01-20T07:40:39.032366Z",
     "iopub.status.idle": "2021-01-20T07:40:39.168476Z",
     "shell.execute_reply": "2021-01-20T07:40:39.169019Z"
    },
    "papermill": {
     "duration": 0.191274,
     "end_time": "2021-01-20T07:40:39.169224",
     "exception": false,
     "start_time": "2021-01-20T07:40:38.977950",
     "status": "completed"
    },
    "tags": []
   },
   "outputs": [
    {
     "data": {
      "image/png": "[encoded data removed]",
      "text/plain": [
       "<Figure size 432x288 with 1 Axes>"
      ]
     },
     "metadata": {
      "needs_background": "light"
     },
     "output_type": "display_data"
    }
   ],
   "source": [
    "plt.plot(res['LB_list'])\n",
    "plt.xlabel(\"Iterations\")\n",
    "plt.ylabel(\"ELBO in a single run\")\n",
    "plt.show()"
   ]
  },
  {
   "cell_type": "raw",
   "metadata": {
    "papermill": {
     "duration": 0.038166,
     "end_time": "2021-01-20T07:40:39.244788",
     "exception": false,
     "start_time": "2021-01-20T07:40:39.206622",
     "status": "completed"
    },
    "tags": []
   },
   "source": [
    "## If ASE_mode is False\n",
    "AF_mean = res['theta_shapes'][:, 0] / np.sum(res['theta_shapes'], axis=1)\n",
    "AF_SNPs = np.tensordot(res['GT_prob'], AF_mean, axes=[2, 0])"
   ]
  },
  {
   "cell_type": "code",
   "execution_count": 21,
   "metadata": {
    "collapsed": true,
    "execution": {
     "iopub.execute_input": "2021-01-20T07:40:39.327855Z",
     "iopub.status.busy": "2021-01-20T07:40:39.327103Z",
     "iopub.status.idle": "2021-01-20T07:40:39.330415Z",
     "shell.execute_reply": "2021-01-20T07:40:39.330958Z"
    },
    "papermill": {
     "duration": 0.049465,
     "end_time": "2021-01-20T07:40:39.331224",
     "exception": false,
     "start_time": "2021-01-20T07:40:39.281759",
     "status": "completed"
    },
    "tags": []
   },
   "outputs": [],
   "source": [
    "## If ASE_mode is True\n",
    "AF_mean = res['theta_shapes'][:, 0] / np.sum(res['theta_shapes'], axis=1)\n",
    "\n",
    "_new_shape = (AF_mean.shape[1], 1, AF_mean.shape[0])\n",
    "AF_SNPs = np.sum(res['GT_prob'] * AF_mean.transpose().reshape(_new_shape), axis=2)"
   ]
  },
  {
   "cell_type": "code",
   "execution_count": 22,
   "metadata": {
    "execution": {
     "iopub.execute_input": "2021-01-20T07:40:39.429114Z",
     "iopub.status.busy": "2021-01-20T07:40:39.427331Z",
     "iopub.status.idle": "2021-01-20T07:40:39.974572Z",
     "shell.execute_reply": "2021-01-20T07:40:39.975128Z"
    },
    "papermill": {
     "duration": 0.604754,
     "end_time": "2021-01-20T07:40:39.975336",
     "exception": false,
     "start_time": "2021-01-20T07:40:39.370582",
     "status": "completed"
    },
    "tags": []
   },
   "outputs": [
    {
     "data": {
      "image/png": "[encoded data removed]",
      "text/plain": [
       "<Figure size 700x400 with 4 Axes>"
      ]
     },
     "metadata": {
      "needs_background": "light"
     },
     "output_type": "display_data"
    }
   ],
   "source": [
    "import matplotlib.pyplot as plt\n",
    "from vireoSNP.plot.base_plot import heat_matrix\n",
    "\n",
    "fig = plt.figure(figsize=(7, 4), dpi=100)\n",
    "plt.subplot(1, 2, 1)\n",
    "im = heat_matrix(res['ID_prob'], cmap=\"Oranges\", alpha=0.8,\n",
    "                 display_value=False, row_sort=True)\n",
    "plt.colorbar(im, fraction=0.046, pad=0.04)\n",
    "plt.title(\"Assignment probability\")\n",
    "plt.ylabel(\"%d cells\" %(res['ID_prob'].shape[0]))\n",
    "plt.xlabel(\"Clone\")\n",
    "plt.xticks([0, 1, 2])\n",
    "\n",
    "plt.subplot(1, 2, 2)\n",
    "im = heat_matrix(AF_SNPs, cmap=\"Blues\", alpha=0.8, \n",
    "                 display_value=False, row_sort=True)\n",
    "plt.colorbar(im, fraction=0.046, pad=0.04)\n",
    "plt.title(\"Mean allelic ratio\")\n",
    "plt.xlabel(\"Clone\")\n",
    "plt.ylabel(\"%d SNPs\" %(AF_SNPs.shape[0]))\n",
    "plt.xticks([0, 1, 2])\n",
    "plt.xlim(-0.5, 2.5)\n",
    "\n",
    "plt.tight_layout()\n",
    "plt.show()"
   ]
  },
  {
   "cell_type": "markdown",
   "metadata": {
    "collapsed": true,
    "papermill": {
     "duration": 0.039742,
     "end_time": "2021-01-20T07:40:40.054079",
     "exception": false,
     "start_time": "2021-01-20T07:40:40.014337",
     "status": "completed"
    },
    "tags": []
   },
   "source": [
    "## Plot K=4"
   ]
  },
  {
   "cell_type": "code",
   "execution_count": 23,
   "metadata": {
    "execution": {
     "iopub.execute_input": "2021-01-20T07:40:40.148777Z",
     "iopub.status.busy": "2021-01-20T07:40:40.148037Z",
     "iopub.status.idle": "2021-01-20T08:59:01.817453Z",
     "shell.execute_reply": "2021-01-20T08:59:01.818004Z"
    },
    "papermill": {
     "duration": 4701.725364,
     "end_time": "2021-01-20T08:59:01.818204",
     "exception": false,
     "start_time": "2021-01-20T07:40:40.092840",
     "status": "completed"
    },
    "tags": []
   },
   "outputs": [
    {
     "data": {
      "image/png": "[encoded data removed]",
      "text/plain": [
       "<Figure size 700x400 with 4 Axes>"
      ]
     },
     "metadata": {
      "needs_background": "light"
     },
     "output_type": "display_data"
    }
   ],
   "source": [
    "np.random.seed(1)\n",
    "\n",
    "n_initials = 50\n",
    "_models_all = []\n",
    "for i in range(n_initials):\n",
    "    _modelCA = Vireo(n_var=AD_shape[0], n_cell=AD_shape[1], n_donor=4, n_GT=2,\n",
    "                     fix_beta_sum=False, ASE_mode=True)\n",
    "    _modelCA.set_prior(beta_mu_prior=np.array([[0.01, 0.5]]))\n",
    "    _modelCA.fit(AD, DP, min_iter=20, verbose=False, delay_fit_theta=0)\n",
    "    _models_all.append(_modelCA)\n",
    "    \n",
    "## Choose the model giving highest ELBO\n",
    "\n",
    "_idx = np.argmax([x.ELBO_[-1] for x in _models_all])\n",
    "modelCA = _models_all[_idx]\n",
    "_losses = modelCA.ELBO_\n",
    "\n",
    "\n",
    "import matplotlib.pyplot as plt\n",
    "from vireoSNP.plot.base_plot import heat_matrix\n",
    "\n",
    "fig = plt.figure(figsize=(7, 4), dpi=100)\n",
    "plt.subplot(1, 2, 1)\n",
    "im = heat_matrix(modelCA.ID_prob, cmap=\"Oranges\", alpha=0.8,\n",
    "                 display_value=False, row_sort=True)\n",
    "plt.colorbar(im, fraction=0.046, pad=0.04)\n",
    "plt.title(\"Assignment probability\")\n",
    "plt.xlabel(\"Clone\")\n",
    "plt.ylabel(\"%d cells\" %(modelCA.n_cell))\n",
    "plt.xticks(range(modelCA.n_donor))\n",
    "\n",
    "\n",
    "plt.subplot(1, 2, 2)\n",
    "AF_SNPs = np.sum(modelCA.GT_prob * \n",
    "                 np.expand_dims(modelCA.beta_mu, 1), axis=2)\n",
    "im = heat_matrix(AF_SNPs, cmap=\"Blues\", alpha=0.8, \n",
    "                 display_value=False, row_sort=True)\n",
    "plt.colorbar(im, fraction=0.046, pad=0.04)\n",
    "plt.title(\"Mean allelic ratio\")\n",
    "plt.xlabel(\"Clone\")\n",
    "plt.ylabel(\"%d SNPs\" %(modelCA.n_var))\n",
    "plt.xticks(range(modelCA.n_donor))\n",
    "\n",
    "plt.tight_layout()\n",
    "plt.show()"
   ]
  }
 ],
 "metadata": {
  "celltoolbar": "Tags",
  "kernelspec": {
   "display_name": "Python 3",
   "language": "python",
   "name": "python3"
  },
  "language_info": {
   "codemirror_mode": {
    "name": "ipython",
    "version": 3
   },
   "file_extension": ".py",
   "mimetype": "text/x-python",
   "name": "python",
   "nbconvert_exporter": "python",
   "pygments_lexer": "ipython3",
   "version": "3.7.3"
  },
  "papermill": {
   "default_parameters": {},
   "duration": 23174.31762,
   "end_time": "2021-01-20T08:59:02.167197",
   "environment_variables": {},
   "exception": null,
   "input_path": "/data2/mito_lineage/src/vireo/vireoSNP_clones.ipynb",
   "output_path": "results/chrM/PBMC_P_cellSNP_minC1_minAF0.001/lineage_chrM.ipynb",
   "parameters": {
    "AD_F": "data/chrM/PBMC_P_cellSNP_minC1_minAF0.001/cellSNP.tag.AD.mtx",
    "DP_F": "data/chrM/PBMC_P_cellSNP_minC1_minAF0.001/cellSNP.tag.DP.mtx"
   },
   "start_time": "2021-01-20T02:32:47.849577",
   "version": "2.2.0"
  }
 },
 "nbformat": 4,
 "nbformat_minor": 4
}