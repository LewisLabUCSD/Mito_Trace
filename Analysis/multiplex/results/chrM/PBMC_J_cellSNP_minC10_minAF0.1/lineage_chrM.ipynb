{
 "cells": [
  {
   "cell_type": "code",
   "execution_count": 1,
   "metadata": {
    "ExecuteTime": {
     "end_time": "2021-01-07T22:17:00.753670Z",
     "start_time": "2021-01-07T22:17:00.746914Z"
    },
    "execution": {
     "iopub.execute_input": "2021-01-14T00:41:26.141196Z",
     "iopub.status.busy": "2021-01-14T00:41:26.140543Z",
     "iopub.status.idle": "2021-01-14T00:41:26.143898Z",
     "shell.execute_reply": "2021-01-14T00:41:26.144428Z"
    },
    "papermill": {
     "duration": 0.040332,
     "end_time": "2021-01-14T00:41:26.144648",
     "exception": false,
     "start_time": "2021-01-14T00:41:26.104316",
     "status": "completed"
    },
    "tags": []
   },
   "outputs": [
    {
     "data": {
      "text/plain": [
       "'/data2/mito_lineage/Analysis/multiplex'"
      ]
     },
     "execution_count": 1,
     "metadata": {},
     "output_type": "execute_result"
    }
   ],
   "source": [
    "pwd"
   ]
  },
  {
   "cell_type": "code",
   "execution_count": 2,
   "metadata": {
    "collapsed": true,
    "execution": {
     "iopub.execute_input": "2021-01-14T00:41:26.201474Z",
     "iopub.status.busy": "2021-01-14T00:41:26.200857Z",
     "iopub.status.idle": "2021-01-14T00:41:26.203498Z",
     "shell.execute_reply": "2021-01-14T00:41:26.202975Z"
    },
    "papermill": {
     "duration": 0.031836,
     "end_time": "2021-01-14T00:41:26.203631",
     "exception": false,
     "start_time": "2021-01-14T00:41:26.171795",
     "status": "completed"
    },
    "tags": [
     "parameters"
    ]
   },
   "outputs": [],
   "source": [
    "AD_F = \"../data/mitoDNA/cellSNP.tag.AD.mtx\"\n",
    "DP_F = \"../data/mitoDNA/cellSNP.tag.DP.mtx\""
   ]
  },
  {
   "cell_type": "code",
   "execution_count": 3,
   "metadata": {
    "execution": {
     "iopub.execute_input": "2021-01-14T00:41:26.259084Z",
     "iopub.status.busy": "2021-01-14T00:41:26.258416Z",
     "iopub.status.idle": "2021-01-14T00:41:26.261071Z",
     "shell.execute_reply": "2021-01-14T00:41:26.260554Z"
    },
    "papermill": {
     "duration": 0.032184,
     "end_time": "2021-01-14T00:41:26.261202",
     "exception": false,
     "start_time": "2021-01-14T00:41:26.229018",
     "status": "completed"
    },
    "tags": [
     "injected-parameters"
    ]
   },
   "outputs": [],
   "source": [
    "# Parameters\n",
    "AD_F = \"data/chrM/PBMC_J_cellSNP_minC10_minAF0.1/cellSNP.tag.AD.mtx\"\n",
    "DP_F = \"data/chrM/PBMC_J_cellSNP_minC10_minAF0.1/cellSNP.tag.DP.mtx\"\n"
   ]
  },
  {
   "cell_type": "code",
   "execution_count": 4,
   "metadata": {
    "ExecuteTime": {
     "end_time": "2021-01-07T22:11:17.977334Z",
     "start_time": "2021-01-07T22:11:17.962011Z"
    },
    "execution": {
     "iopub.execute_input": "2021-01-14T00:41:26.317980Z",
     "iopub.status.busy": "2021-01-14T00:41:26.317327Z",
     "iopub.status.idle": "2021-01-14T00:41:26.320828Z",
     "shell.execute_reply": "2021-01-14T00:41:26.320321Z"
    },
    "papermill": {
     "duration": 0.033566,
     "end_time": "2021-01-14T00:41:26.320966",
     "exception": false,
     "start_time": "2021-01-14T00:41:26.287400",
     "status": "completed"
    },
    "tags": []
   },
   "outputs": [
    {
     "data": {
      "text/plain": [
       "'/data2/mito_lineage/Analysis/multiplex'"
      ]
     },
     "execution_count": 4,
     "metadata": {},
     "output_type": "execute_result"
    }
   ],
   "source": [
    "pwd"
   ]
  },
  {
   "cell_type": "markdown",
   "metadata": {
    "papermill": {
     "duration": 0.026155,
     "end_time": "2021-01-14T00:41:26.374211",
     "exception": false,
     "start_time": "2021-01-14T00:41:26.348056",
     "status": "completed"
    },
    "tags": []
   },
   "source": [
    "# Using vireo for clonal reconstruction - mitochondrial mutations"
   ]
  },
  {
   "cell_type": "markdown",
   "metadata": {
    "papermill": {
     "duration": 0.056722,
     "end_time": "2021-01-14T00:41:26.457711",
     "exception": false,
     "start_time": "2021-01-14T00:41:26.400989",
     "status": "completed"
    },
    "tags": []
   },
   "source": [
    "The mitochondrial mutations data set is extracted from [Ludwig et al, Cell, 2019](https://doi.org/10.1016/j.cell.2019.01.022), the 9 variants used here are from Supp Fig. 2F (and main Fig. 2F).\n",
    "\n",
    "For clonal reconstruction, we are using the core class `vireoSNP.Vireo` with multiple initializations"
   ]
  },
  {
   "cell_type": "code",
   "execution_count": 5,
   "metadata": {
    "execution": {
     "iopub.execute_input": "2021-01-14T00:41:26.520765Z",
     "iopub.status.busy": "2021-01-14T00:41:26.520173Z",
     "iopub.status.idle": "2021-01-14T00:41:27.229881Z",
     "shell.execute_reply": "2021-01-14T00:41:27.230421Z"
    },
    "papermill": {
     "duration": 0.743234,
     "end_time": "2021-01-14T00:41:27.230634",
     "exception": false,
     "start_time": "2021-01-14T00:41:26.487400",
     "status": "completed"
    },
    "tags": []
   },
   "outputs": [
    {
     "name": "stdout",
     "output_type": "stream",
     "text": [
      "0.4.2\n"
     ]
    }
   ],
   "source": [
    "import vireoSNP\n",
    "import numpy as np\n",
    "from scipy import sparse\n",
    "from scipy.io import mmread\n",
    "import matplotlib.pyplot as plt\n",
    "\n",
    "print(vireoSNP.__version__)"
   ]
  },
  {
   "cell_type": "code",
   "execution_count": 6,
   "metadata": {
    "collapsed": true,
    "execution": {
     "iopub.execute_input": "2021-01-14T00:41:27.292949Z",
     "iopub.status.busy": "2021-01-14T00:41:27.292289Z",
     "iopub.status.idle": "2021-01-14T00:41:27.294981Z",
     "shell.execute_reply": "2021-01-14T00:41:27.294415Z"
    },
    "papermill": {
     "duration": 0.036523,
     "end_time": "2021-01-14T00:41:27.295150",
     "exception": false,
     "start_time": "2021-01-14T00:41:27.258627",
     "status": "completed"
    },
    "tags": []
   },
   "outputs": [],
   "source": [
    "np.set_printoptions(formatter={'float': lambda x: format(x, '.5f')})"
   ]
  },
  {
   "cell_type": "code",
   "execution_count": 7,
   "metadata": {
    "collapsed": true,
    "execution": {
     "iopub.execute_input": "2021-01-14T00:41:27.359223Z",
     "iopub.status.busy": "2021-01-14T00:41:27.358533Z",
     "iopub.status.idle": "2021-01-14T00:41:27.399671Z",
     "shell.execute_reply": "2021-01-14T00:41:27.400196Z"
    },
    "papermill": {
     "duration": 0.077128,
     "end_time": "2021-01-14T00:41:27.400422",
     "exception": false,
     "start_time": "2021-01-14T00:41:27.323294",
     "status": "completed"
    },
    "tags": []
   },
   "outputs": [],
   "source": [
    "AD = mmread(AD_F).tocsc()\n",
    "DP = mmread(DP_F).tocsc()"
   ]
  },
  {
   "cell_type": "code",
   "execution_count": 8,
   "metadata": {
    "execution": {
     "iopub.execute_input": "2021-01-14T00:41:27.461943Z",
     "iopub.status.busy": "2021-01-14T00:41:27.461285Z",
     "iopub.status.idle": "2021-01-14T00:41:27.463800Z",
     "shell.execute_reply": "2021-01-14T00:41:27.463256Z"
    },
    "papermill": {
     "duration": 0.035356,
     "end_time": "2021-01-14T00:41:27.463967",
     "exception": false,
     "start_time": "2021-01-14T00:41:27.428611",
     "status": "completed"
    },
    "tags": []
   },
   "outputs": [],
   "source": [
    "AD_shape = AD.todense().shape"
   ]
  },
  {
   "cell_type": "markdown",
   "metadata": {
    "papermill": {
     "duration": 0.02853,
     "end_time": "2021-01-14T00:41:27.520851",
     "exception": false,
     "start_time": "2021-01-14T00:41:27.492321",
     "status": "completed"
    },
    "tags": []
   },
   "source": [
    "## New implementation in v0.3.0"
   ]
  },
  {
   "cell_type": "code",
   "execution_count": 9,
   "metadata": {
    "collapsed": true,
    "execution": {
     "iopub.execute_input": "2021-01-14T00:41:27.581254Z",
     "iopub.status.busy": "2021-01-14T00:41:27.580650Z",
     "iopub.status.idle": "2021-01-14T00:41:27.582817Z",
     "shell.execute_reply": "2021-01-14T00:41:27.583340Z"
    },
    "papermill": {
     "duration": 0.03383,
     "end_time": "2021-01-14T00:41:27.583507",
     "exception": false,
     "start_time": "2021-01-14T00:41:27.549677",
     "status": "completed"
    },
    "tags": []
   },
   "outputs": [],
   "source": [
    "from vireoSNP import Vireo"
   ]
  },
  {
   "cell_type": "markdown",
   "metadata": {
    "papermill": {
     "duration": 0.026446,
     "end_time": "2021-01-14T00:41:27.636688",
     "exception": false,
     "start_time": "2021-01-14T00:41:27.610242",
     "status": "completed"
    },
    "tags": []
   },
   "source": [
    "Note, there are a few key parameters:\n",
    "\n",
    "* `n_donor`: it means number of clones here, but you need to determine yourself. You can choose the one with highest ELBO (see next section)\n",
    "* `n_GT`: number of different genotype. For somatic mutations, we could assume that there are only two, namely present or absent\n",
    "* `is_theta_ASE`: whether allelic ratio is variant specific. For mitochondrial mutations, we choose True as allelic ratio can different from variant to variant"
   ]
  },
  {
   "cell_type": "markdown",
   "metadata": {
    "papermill": {
     "duration": 0.026443,
     "end_time": "2021-01-14T00:41:27.690255",
     "exception": false,
     "start_time": "2021-01-14T00:41:27.663812",
     "status": "completed"
    },
    "tags": []
   },
   "source": [
    "### Multiple initialization is needed to avoid local optima"
   ]
  },
  {
   "cell_type": "code",
   "execution_count": 10,
   "metadata": {
    "collapsed": true,
    "execution": {
     "iopub.execute_input": "2021-01-14T00:41:27.751401Z",
     "iopub.status.busy": "2021-01-14T00:41:27.750765Z",
     "iopub.status.idle": "2021-01-14T00:41:35.765087Z",
     "shell.execute_reply": "2021-01-14T00:41:35.765596Z"
    },
    "papermill": {
     "duration": 8.049323,
     "end_time": "2021-01-14T00:41:35.765815",
     "exception": false,
     "start_time": "2021-01-14T00:41:27.716492",
     "status": "completed"
    },
    "tags": []
   },
   "outputs": [],
   "source": [
    "np.random.seed(1)\n",
    "\n",
    "n_initials = 50\n",
    "_models_all = []\n",
    "for i in range(n_initials):\n",
    "    _modelCA = Vireo(n_var=AD_shape[0], n_cell=AD_shape[1], n_donor=3, n_GT=2,\n",
    "                     fix_beta_sum=False, ASE_mode=True)\n",
    "    _modelCA.set_prior(beta_mu_prior=np.array([[0.01, 0.5]]))\n",
    "    _modelCA.fit(AD, DP, min_iter=20, verbose=False, delay_fit_theta=0)\n",
    "    _models_all.append(_modelCA)"
   ]
  },
  {
   "cell_type": "code",
   "execution_count": 11,
   "metadata": {
    "collapsed": true,
    "execution": {
     "iopub.execute_input": "2021-01-14T00:41:35.830554Z",
     "iopub.status.busy": "2021-01-14T00:41:35.829896Z",
     "iopub.status.idle": "2021-01-14T00:41:35.832000Z",
     "shell.execute_reply": "2021-01-14T00:41:35.832508Z"
    },
    "papermill": {
     "duration": 0.038228,
     "end_time": "2021-01-14T00:41:35.832710",
     "exception": false,
     "start_time": "2021-01-14T00:41:35.794482",
     "status": "completed"
    },
    "tags": []
   },
   "outputs": [],
   "source": [
    "## Choose the model giving highest ELBO\n",
    "\n",
    "_idx = np.argmax([x.ELBO_[-1] for x in _models_all])\n",
    "modelCA = _models_all[_idx]\n",
    "_losses = modelCA.ELBO_"
   ]
  },
  {
   "cell_type": "code",
   "execution_count": 12,
   "metadata": {
    "execution": {
     "iopub.execute_input": "2021-01-14T00:41:35.908566Z",
     "iopub.status.busy": "2021-01-14T00:41:35.907860Z",
     "iopub.status.idle": "2021-01-14T00:41:36.296331Z",
     "shell.execute_reply": "2021-01-14T00:41:36.295780Z"
    },
    "papermill": {
     "duration": 0.435173,
     "end_time": "2021-01-14T00:41:36.296502",
     "exception": false,
     "start_time": "2021-01-14T00:41:35.861329",
     "status": "completed"
    },
    "tags": []
   },
   "outputs": [
    {
     "data": {
      "image/png": "[encoded data removed]",
      "text/plain": [
       "<Figure size 792x288 with 2 Axes>"
      ]
     },
     "metadata": {
      "needs_background": "light"
     },
     "output_type": "display_data"
    }
   ],
   "source": [
    "fig = plt.figure(figsize=(11, 4))\n",
    "plt.subplot(1, 2, 1)\n",
    "plt.hist([x.ELBO_[-1] for x in _models_all])\n",
    "plt.ylabel(\"Frequency\")\n",
    "plt.xlabel(\"ELBO with multiple initializations\")\n",
    "\n",
    "plt.subplot(1, 2, 2)\n",
    "plt.plot(_losses)\n",
    "plt.xlabel(\"Iterations\")\n",
    "plt.ylabel(\"ELBO in a single run\")\n",
    "\n",
    "plt.tight_layout()\n",
    "plt.show()"
   ]
  },
  {
   "cell_type": "code",
   "execution_count": 13,
   "metadata": {
    "execution": {
     "iopub.execute_input": "2021-01-14T00:41:36.361709Z",
     "iopub.status.busy": "2021-01-14T00:41:36.361063Z",
     "iopub.status.idle": "2021-01-14T00:41:36.363889Z",
     "shell.execute_reply": "2021-01-14T00:41:36.364394Z"
    },
    "papermill": {
     "duration": 0.038684,
     "end_time": "2021-01-14T00:41:36.364587",
     "exception": false,
     "start_time": "2021-01-14T00:41:36.325903",
     "status": "completed"
    },
    "tags": []
   },
   "outputs": [
    {
     "name": "stdout",
     "output_type": "stream",
     "text": [
      "[[0.08041 0.19608]\n",
      " [0.08206 0.21204]\n",
      " [0.20286 0.54539]\n",
      " [0.13263 0.14130]\n",
      " [0.15789 0.17629]\n",
      " [0.14925 0.16642]]\n",
      "[[66859.92820 37655.07180]\n",
      " [52133.28531 22168.71469]\n",
      " [5947.22628 11536.77372]\n",
      " [68209.18731 126832.81269]\n",
      " [87150.43913 156811.56087]\n",
      " [76860.47763 140463.52237]]\n"
     ]
    }
   ],
   "source": [
    "print(modelCA.beta_mu),\n",
    "print(modelCA.beta_sum)"
   ]
  },
  {
   "cell_type": "code",
   "execution_count": 14,
   "metadata": {
    "execution": {
     "iopub.execute_input": "2021-01-14T00:41:36.443561Z",
     "iopub.status.busy": "2021-01-14T00:41:36.442711Z",
     "iopub.status.idle": "2021-01-14T00:41:36.983727Z",
     "shell.execute_reply": "2021-01-14T00:41:36.984260Z"
    },
    "papermill": {
     "duration": 0.589689,
     "end_time": "2021-01-14T00:41:36.984470",
     "exception": false,
     "start_time": "2021-01-14T00:41:36.394781",
     "status": "completed"
    },
    "tags": []
   },
   "outputs": [
    {
     "data": {
      "image/png": "[encoded data removed]",
      "text/plain": [
       "<Figure size 700x400 with 4 Axes>"
      ]
     },
     "metadata": {
      "needs_background": "light"
     },
     "output_type": "display_data"
    }
   ],
   "source": [
    "import matplotlib.pyplot as plt\n",
    "from vireoSNP.plot.base_plot import heat_matrix\n",
    "\n",
    "fig = plt.figure(figsize=(7, 4), dpi=100)\n",
    "plt.subplot(1, 2, 1)\n",
    "im = heat_matrix(modelCA.ID_prob, cmap=\"Oranges\", alpha=0.8,\n",
    "                 display_value=False, row_sort=True)\n",
    "plt.colorbar(im, fraction=0.046, pad=0.04)\n",
    "plt.title(\"Assignment probability\")\n",
    "plt.xlabel(\"Clone\")\n",
    "plt.ylabel(\"%d cells\" %(modelCA.n_cell))\n",
    "plt.xticks(range(modelCA.n_donor))\n",
    "\n",
    "\n",
    "plt.subplot(1, 2, 2)\n",
    "AF_SNPs = np.sum(modelCA.GT_prob * \n",
    "                 np.expand_dims(modelCA.beta_mu, 1), axis=2)\n",
    "im = heat_matrix(AF_SNPs, cmap=\"Blues\", alpha=0.8, \n",
    "                 display_value=False, row_sort=True)\n",
    "plt.colorbar(im, fraction=0.046, pad=0.04)\n",
    "plt.title(\"Mean allelic ratio\")\n",
    "plt.xlabel(\"Clone\")\n",
    "plt.ylabel(\"%d SNPs\" %(modelCA.n_var))\n",
    "plt.xticks(range(modelCA.n_donor))\n",
    "\n",
    "plt.tight_layout()\n",
    "plt.show()"
   ]
  },
  {
   "cell_type": "code",
   "execution_count": 15,
   "metadata": {
    "execution": {
     "iopub.execute_input": "2021-01-14T00:41:37.054434Z",
     "iopub.status.busy": "2021-01-14T00:41:37.053800Z",
     "iopub.status.idle": "2021-01-14T00:41:37.060342Z",
     "shell.execute_reply": "2021-01-14T00:41:37.060849Z"
    },
    "papermill": {
     "duration": 0.043874,
     "end_time": "2021-01-14T00:41:37.061060",
     "exception": false,
     "start_time": "2021-01-14T00:41:37.017186",
     "status": "completed"
    },
    "tags": []
   },
   "outputs": [
    {
     "data": {
      "text/plain": [
       "46.319238914506116"
      ]
     },
     "execution_count": 15,
     "metadata": {},
     "output_type": "execute_result"
    }
   ],
   "source": [
    "np.sum(modelCA.predict_doublet(AD, DP)[0])"
   ]
  },
  {
   "cell_type": "code",
   "execution_count": null,
   "metadata": {
    "collapsed": true,
    "papermill": {
     "duration": 0.035169,
     "end_time": "2021-01-14T00:41:37.128858",
     "exception": false,
     "start_time": "2021-01-14T00:41:37.093689",
     "status": "completed"
    },
    "tags": []
   },
   "outputs": [],
   "source": []
  },
  {
   "cell_type": "markdown",
   "metadata": {
    "papermill": {
     "duration": 0.034508,
     "end_time": "2021-01-14T00:41:37.195053",
     "exception": false,
     "start_time": "2021-01-14T00:41:37.160545",
     "status": "completed"
    },
    "tags": []
   },
   "source": [
    "### Choose the number of clones\n",
    "We can choose the number of clones where ELBO stops increasing. Here, the best number of clone is 3.\n",
    "\n",
    "Note, for a certain number of clone, e.g., n_clone=3, the ELBO may not the same for multiple initializations. This is becaused VI can only guarantee a local optima, so please choose the highest ELBO for each `n_clone` to represent its \"global\" optima."
   ]
  },
  {
   "cell_type": "code",
   "execution_count": 16,
   "metadata": {
    "collapsed": true,
    "execution": {
     "iopub.execute_input": "2021-01-14T00:41:37.266552Z",
     "iopub.status.busy": "2021-01-14T00:41:37.265921Z",
     "iopub.status.idle": "2021-01-14T00:42:19.028991Z",
     "shell.execute_reply": "2021-01-14T00:42:19.029642Z"
    },
    "papermill": {
     "duration": 41.804014,
     "end_time": "2021-01-14T00:42:19.029973",
     "exception": false,
     "start_time": "2021-01-14T00:41:37.225959",
     "status": "completed"
    },
    "tags": []
   },
   "outputs": [],
   "source": [
    "n_initials = 50\n",
    "n_clone_list = np.arange(2, 6)\n",
    "\n",
    "_ELBO_mat = [] \n",
    "for k in n_clone_list:\n",
    "    _elbo_temp = []\n",
    "    for i in range(50):\n",
    "        _modelCA = Vireo(n_var=AD_shape[0], n_cell=AD_shape[1], n_donor=k, n_GT=2,\n",
    "                         fix_beta_sum=False, ASE_mode=True)\n",
    "        _modelCA.set_prior(beta_mu_prior=np.array([[0.01, 0.5]]))\n",
    "        _modelCA.fit(AD, DP, min_iter=20, verbose=False)\n",
    "        _elbo_temp.append(_modelCA.ELBO_[-1])\n",
    "    _ELBO_mat.append(_elbo_temp)"
   ]
  },
  {
   "cell_type": "code",
   "execution_count": 17,
   "metadata": {
    "execution": {
     "iopub.execute_input": "2021-01-14T00:42:19.113545Z",
     "iopub.status.busy": "2021-01-14T00:42:19.109854Z",
     "iopub.status.idle": "2021-01-14T00:42:19.323807Z",
     "shell.execute_reply": "2021-01-14T00:42:19.324409Z"
    },
    "papermill": {
     "duration": 0.25841,
     "end_time": "2021-01-14T00:42:19.324634",
     "exception": false,
     "start_time": "2021-01-14T00:42:19.066224",
     "status": "completed"
    },
    "tags": []
   },
   "outputs": [
    {
     "data": {
      "image/png": "[encoded data removed]",
      "text/plain": [
       "<Figure size 432x288 with 1 Axes>"
      ]
     },
     "metadata": {
      "needs_background": "light"
     },
     "output_type": "display_data"
    }
   ],
   "source": [
    "plt.plot([1, 2, 3, 4], np.max(_ELBO_mat, axis=1))\n",
    "plt.boxplot(_ELBO_mat)\n",
    "plt.xticks(n_clone_list - 1, n_clone_list)\n",
    "plt.ylabel(\"ELBO\")\n",
    "plt.xlabel(\"n_clones\")\n",
    "plt.show()"
   ]
  },
  {
   "cell_type": "code",
   "execution_count": null,
   "metadata": {
    "collapsed": true,
    "papermill": {
     "duration": 0.03367,
     "end_time": "2021-01-14T00:42:19.392987",
     "exception": false,
     "start_time": "2021-01-14T00:42:19.359317",
     "status": "completed"
    },
    "tags": []
   },
   "outputs": [],
   "source": []
  },
  {
   "cell_type": "code",
   "execution_count": null,
   "metadata": {
    "collapsed": true,
    "papermill": {
     "duration": 0.034091,
     "end_time": "2021-01-14T00:42:19.461976",
     "exception": false,
     "start_time": "2021-01-14T00:42:19.427885",
     "status": "completed"
    },
    "tags": []
   },
   "outputs": [],
   "source": []
  },
  {
   "cell_type": "code",
   "execution_count": null,
   "metadata": {
    "collapsed": true,
    "papermill": {
     "duration": 0.034629,
     "end_time": "2021-01-14T00:42:19.531169",
     "exception": false,
     "start_time": "2021-01-14T00:42:19.496540",
     "status": "completed"
    },
    "tags": []
   },
   "outputs": [],
   "source": []
  },
  {
   "cell_type": "markdown",
   "metadata": {
    "papermill": {
     "duration": 0.034719,
     "end_time": "2021-01-14T00:42:19.599617",
     "exception": false,
     "start_time": "2021-01-14T00:42:19.564898",
     "status": "completed"
    },
    "tags": []
   },
   "source": [
    "### Old version\n",
    "\n",
    "The old version seem more likely to end up at local optima in this data set."
   ]
  },
  {
   "cell_type": "code",
   "execution_count": 18,
   "metadata": {
    "collapsed": true,
    "execution": {
     "iopub.execute_input": "2021-01-14T00:42:19.673566Z",
     "iopub.status.busy": "2021-01-14T00:42:19.672854Z",
     "iopub.status.idle": "2021-01-14T00:42:19.675909Z",
     "shell.execute_reply": "2021-01-14T00:42:19.676416Z"
    },
    "papermill": {
     "duration": 0.043426,
     "end_time": "2021-01-14T00:42:19.676631",
     "exception": false,
     "start_time": "2021-01-14T00:42:19.633205",
     "status": "completed"
    },
    "tags": []
   },
   "outputs": [],
   "source": [
    "from vireoSNP.utils.vireo_wrap_v02 import vireo_flock"
   ]
  },
  {
   "cell_type": "code",
   "execution_count": 19,
   "metadata": {
    "execution": {
     "iopub.execute_input": "2021-01-14T00:42:19.751863Z",
     "iopub.status.busy": "2021-01-14T00:42:19.751170Z",
     "iopub.status.idle": "2021-01-14T00:42:20.702169Z",
     "shell.execute_reply": "2021-01-14T00:42:20.701584Z"
    },
    "papermill": {
     "duration": 0.991292,
     "end_time": "2021-01-14T00:42:20.702339",
     "exception": false,
     "start_time": "2021-01-14T00:42:19.711047",
     "status": "completed"
    },
    "tags": []
   },
   "outputs": [
    {
     "name": "stdout",
     "output_type": "stream",
     "text": [
      "[vireo] warm-up: 50 random initializations for 3 clusters...\n"
     ]
    },
    {
     "name": "stdout",
     "output_type": "stream",
     "text": [
      "[vireo] donor size with searching extra 0 donors:\n",
      "donor0\tdonor1\tdonor2\n",
      "248\t248\t248\n",
      "[vireo] warm-up: lower bound ranges [-362841.7, -362841.7, -362841.7]\n",
      "[vireo] main RUN with warm initials and tuned GT ...\n",
      "[vireo] main RUN: 22 iterations; lower bound -362841.7\n",
      "[vireo] beta parameters for binomial rate:\n",
      "[[[0.10 0.10 0.10 0.10 0.10 0.10]\n",
      "  [10.00 10.00 10.00 10.00 10.00 10.00]]\n",
      "\n",
      " [[12739.00 8958.00 7478.00 26947.00 41384.00 34827.00]\n",
      "  [91686.00 65254.00 9916.00 168005.00 202488.00 182407.00]]]\n"
     ]
    }
   ],
   "source": [
    "# theta_prior = np.array([[0.01, 10], [0.4, 10], [5, 5]])\n",
    "theta_prior = np.array([[0.1, 10], [5, 5]])\n",
    "res = vireo_flock(AD, DP, n_donor=3, learn_GT=True,\n",
    "                  n_extra_donor=0, ASE_mode=True,\n",
    "                  theta_prior=theta_prior, learn_theta=True,\n",
    "                  n_init=50, check_doublet=False, random_seed=1)"
   ]
  },
  {
   "cell_type": "code",
   "execution_count": 20,
   "metadata": {
    "execution": {
     "iopub.execute_input": "2021-01-14T00:42:20.786071Z",
     "iopub.status.busy": "2021-01-14T00:42:20.784329Z",
     "iopub.status.idle": "2021-01-14T00:42:20.942559Z",
     "shell.execute_reply": "2021-01-14T00:42:20.943108Z"
    },
    "papermill": {
     "duration": 0.205422,
     "end_time": "2021-01-14T00:42:20.943321",
     "exception": false,
     "start_time": "2021-01-14T00:42:20.737899",
     "status": "completed"
    },
    "tags": []
   },
   "outputs": [
    {
     "data": {
      "image/png": "[encoded data removed]",
      "text/plain": [
       "<Figure size 432x288 with 1 Axes>"
      ]
     },
     "metadata": {
      "needs_background": "light"
     },
     "output_type": "display_data"
    }
   ],
   "source": [
    "plt.plot(res['LB_list'])\n",
    "plt.xlabel(\"Iterations\")\n",
    "plt.ylabel(\"ELBO in a single run\")\n",
    "plt.show()"
   ]
  },
  {
   "cell_type": "raw",
   "metadata": {
    "papermill": {
     "duration": 0.036459,
     "end_time": "2021-01-14T00:42:21.016845",
     "exception": false,
     "start_time": "2021-01-14T00:42:20.980386",
     "status": "completed"
    },
    "tags": []
   },
   "source": [
    "## If ASE_mode is False\n",
    "AF_mean = res['theta_shapes'][:, 0] / np.sum(res['theta_shapes'], axis=1)\n",
    "AF_SNPs = np.tensordot(res['GT_prob'], AF_mean, axes=[2, 0])"
   ]
  },
  {
   "cell_type": "code",
   "execution_count": 21,
   "metadata": {
    "collapsed": true,
    "execution": {
     "iopub.execute_input": "2021-01-14T00:42:21.098139Z",
     "iopub.status.busy": "2021-01-14T00:42:21.097483Z",
     "iopub.status.idle": "2021-01-14T00:42:21.100035Z",
     "shell.execute_reply": "2021-01-14T00:42:21.099463Z"
    },
    "papermill": {
     "duration": 0.045733,
     "end_time": "2021-01-14T00:42:21.100197",
     "exception": false,
     "start_time": "2021-01-14T00:42:21.054464",
     "status": "completed"
    },
    "tags": []
   },
   "outputs": [],
   "source": [
    "## If ASE_mode is True\n",
    "AF_mean = res['theta_shapes'][:, 0] / np.sum(res['theta_shapes'], axis=1)\n",
    "\n",
    "_new_shape = (AF_mean.shape[1], 1, AF_mean.shape[0])\n",
    "AF_SNPs = np.sum(res['GT_prob'] * AF_mean.transpose().reshape(_new_shape), axis=2)"
   ]
  },
  {
   "cell_type": "code",
   "execution_count": 22,
   "metadata": {
    "execution": {
     "iopub.execute_input": "2021-01-14T00:42:21.190906Z",
     "iopub.status.busy": "2021-01-14T00:42:21.190093Z",
     "iopub.status.idle": "2021-01-14T00:42:21.724815Z",
     "shell.execute_reply": "2021-01-14T00:42:21.725341Z"
    },
    "papermill": {
     "duration": 0.58928,
     "end_time": "2021-01-14T00:42:21.725550",
     "exception": false,
     "start_time": "2021-01-14T00:42:21.136270",
     "status": "completed"
    },
    "tags": []
   },
   "outputs": [
    {
     "data": {
      "image/png": "[encoded data removed]",
      "text/plain": [
       "<Figure size 700x400 with 4 Axes>"
      ]
     },
     "metadata": {
      "needs_background": "light"
     },
     "output_type": "display_data"
    }
   ],
   "source": [
    "import matplotlib.pyplot as plt\n",
    "from vireoSNP.plot.base_plot import heat_matrix\n",
    "\n",
    "fig = plt.figure(figsize=(7, 4), dpi=100)\n",
    "plt.subplot(1, 2, 1)\n",
    "im = heat_matrix(res['ID_prob'], cmap=\"Oranges\", alpha=0.8,\n",
    "                 display_value=False, row_sort=True)\n",
    "plt.colorbar(im, fraction=0.046, pad=0.04)\n",
    "plt.title(\"Assignment probability\")\n",
    "plt.ylabel(\"%d cells\" %(res['ID_prob'].shape[0]))\n",
    "plt.xlabel(\"Clone\")\n",
    "plt.xticks([0, 1, 2])\n",
    "\n",
    "plt.subplot(1, 2, 2)\n",
    "im = heat_matrix(AF_SNPs, cmap=\"Blues\", alpha=0.8, \n",
    "                 display_value=False, row_sort=True)\n",
    "plt.colorbar(im, fraction=0.046, pad=0.04)\n",
    "plt.title(\"Mean allelic ratio\")\n",
    "plt.xlabel(\"Clone\")\n",
    "plt.ylabel(\"%d SNPs\" %(AF_SNPs.shape[0]))\n",
    "plt.xticks([0, 1, 2])\n",
    "plt.xlim(-0.5, 2.5)\n",
    "\n",
    "plt.tight_layout()\n",
    "plt.show()"
   ]
  },
  {
   "cell_type": "markdown",
   "metadata": {
    "collapsed": true,
    "papermill": {
     "duration": 0.037689,
     "end_time": "2021-01-14T00:42:21.801107",
     "exception": false,
     "start_time": "2021-01-14T00:42:21.763418",
     "status": "completed"
    },
    "tags": []
   },
   "source": [
    "## Plot K=4"
   ]
  },
  {
   "cell_type": "code",
   "execution_count": 23,
   "metadata": {
    "execution": {
     "iopub.execute_input": "2021-01-14T00:42:21.894934Z",
     "iopub.status.busy": "2021-01-14T00:42:21.894183Z",
     "iopub.status.idle": "2021-01-14T00:42:30.850091Z",
     "shell.execute_reply": "2021-01-14T00:42:30.850618Z"
    },
    "papermill": {
     "duration": 9.01179,
     "end_time": "2021-01-14T00:42:30.850844",
     "exception": false,
     "start_time": "2021-01-14T00:42:21.839054",
     "status": "completed"
    },
    "tags": []
   },
   "outputs": [
    {
     "data": {
      "image/png": "[encoded data removed]",
      "text/plain": [
       "<Figure size 700x400 with 4 Axes>"
      ]
     },
     "metadata": {
      "needs_background": "light"
     },
     "output_type": "display_data"
    }
   ],
   "source": [
    "np.random.seed(1)\n",
    "\n",
    "n_initials = 50\n",
    "_models_all = []\n",
    "for i in range(n_initials):\n",
    "    _modelCA = Vireo(n_var=AD_shape[0], n_cell=AD_shape[1], n_donor=4, n_GT=2,\n",
    "                     fix_beta_sum=False, ASE_mode=True)\n",
    "    _modelCA.set_prior(beta_mu_prior=np.array([[0.01, 0.5]]))\n",
    "    _modelCA.fit(AD, DP, min_iter=20, verbose=False, delay_fit_theta=0)\n",
    "    _models_all.append(_modelCA)\n",
    "    \n",
    "## Choose the model giving highest ELBO\n",
    "\n",
    "_idx = np.argmax([x.ELBO_[-1] for x in _models_all])\n",
    "modelCA = _models_all[_idx]\n",
    "_losses = modelCA.ELBO_\n",
    "\n",
    "\n",
    "import matplotlib.pyplot as plt\n",
    "from vireoSNP.plot.base_plot import heat_matrix\n",
    "\n",
    "fig = plt.figure(figsize=(7, 4), dpi=100)\n",
    "plt.subplot(1, 2, 1)\n",
    "im = heat_matrix(modelCA.ID_prob, cmap=\"Oranges\", alpha=0.8,\n",
    "                 display_value=False, row_sort=True)\n",
    "plt.colorbar(im, fraction=0.046, pad=0.04)\n",
    "plt.title(\"Assignment probability\")\n",
    "plt.xlabel(\"Clone\")\n",
    "plt.ylabel(\"%d cells\" %(modelCA.n_cell))\n",
    "plt.xticks(range(modelCA.n_donor))\n",
    "\n",
    "\n",
    "plt.subplot(1, 2, 2)\n",
    "AF_SNPs = np.sum(modelCA.GT_prob * \n",
    "                 np.expand_dims(modelCA.beta_mu, 1), axis=2)\n",
    "im = heat_matrix(AF_SNPs, cmap=\"Blues\", alpha=0.8, \n",
    "                 display_value=False, row_sort=True)\n",
    "plt.colorbar(im, fraction=0.046, pad=0.04)\n",
    "plt.title(\"Mean allelic ratio\")\n",
    "plt.xlabel(\"Clone\")\n",
    "plt.ylabel(\"%d SNPs\" %(modelCA.n_var))\n",
    "plt.xticks(range(modelCA.n_donor))\n",
    "\n",
    "plt.tight_layout()\n",
    "plt.show()"
   ]
  }
 ],
 "metadata": {
  "celltoolbar": "Tags",
  "kernelspec": {
   "display_name": "Python 3",
   "language": "python",
   "name": "python3"
  },
  "language_info": {
   "codemirror_mode": {
    "name": "ipython",
    "version": 3
   },
   "file_extension": ".py",
   "mimetype": "text/x-python",
   "name": "python",
   "nbconvert_exporter": "python",
   "pygments_lexer": "ipython3",
   "version": "3.7.3"
  },
  "papermill": {
   "default_parameters": {},
   "duration": 65.907449,
   "end_time": "2021-01-14T00:42:31.302264",
   "environment_variables": {},
   "exception": null,
   "input_path": "/data2/mito_lineage/src/vireo/vireoSNP_clones.ipynb",
   "output_path": "results/chrM/PBMC_J_cellSNP_minC10_minAF0.1/lineage_chrM.ipynb",
   "parameters": {
    "AD_F": "data/chrM/PBMC_J_cellSNP_minC10_minAF0.1/cellSNP.tag.AD.mtx",
    "DP_F": "data/chrM/PBMC_J_cellSNP_minC10_minAF0.1/cellSNP.tag.DP.mtx"
   },
   "start_time": "2021-01-14T00:41:25.394815",
   "version": "2.2.0"
  }
 },
 "nbformat": 4,
 "nbformat_minor": 4
}