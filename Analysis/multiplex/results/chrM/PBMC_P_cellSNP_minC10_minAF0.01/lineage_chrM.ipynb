{
 "cells": [
  {
   "cell_type": "code",
   "execution_count": 1,
   "metadata": {
    "ExecuteTime": {
     "end_time": "2021-01-07T22:17:00.753670Z",
     "start_time": "2021-01-07T22:17:00.746914Z"
    },
    "execution": {
     "iopub.execute_input": "2021-01-14T01:22:55.819942Z",
     "iopub.status.busy": "2021-01-14T01:22:55.819303Z",
     "iopub.status.idle": "2021-01-14T01:22:55.822431Z",
     "shell.execute_reply": "2021-01-14T01:22:55.822972Z"
    },
    "papermill": {
     "duration": 0.043069,
     "end_time": "2021-01-14T01:22:55.823188",
     "exception": false,
     "start_time": "2021-01-14T01:22:55.780119",
     "status": "completed"
    },
    "tags": []
   },
   "outputs": [
    {
     "data": {
      "text/plain": [
       "'/data2/mito_lineage/Analysis/multiplex'"
      ]
     },
     "execution_count": 1,
     "metadata": {},
     "output_type": "execute_result"
    }
   ],
   "source": [
    "pwd"
   ]
  },
  {
   "cell_type": "code",
   "execution_count": 2,
   "metadata": {
    "collapsed": true,
    "execution": {
     "iopub.execute_input": "2021-01-14T01:22:55.878859Z",
     "iopub.status.busy": "2021-01-14T01:22:55.878226Z",
     "iopub.status.idle": "2021-01-14T01:22:55.880836Z",
     "shell.execute_reply": "2021-01-14T01:22:55.880310Z"
    },
    "papermill": {
     "duration": 0.032375,
     "end_time": "2021-01-14T01:22:55.880968",
     "exception": false,
     "start_time": "2021-01-14T01:22:55.848593",
     "status": "completed"
    },
    "tags": [
     "parameters"
    ]
   },
   "outputs": [],
   "source": [
    "AD_F = \"../data/mitoDNA/cellSNP.tag.AD.mtx\"\n",
    "DP_F = \"../data/mitoDNA/cellSNP.tag.DP.mtx\""
   ]
  },
  {
   "cell_type": "code",
   "execution_count": 3,
   "metadata": {
    "execution": {
     "iopub.execute_input": "2021-01-14T01:22:55.937347Z",
     "iopub.status.busy": "2021-01-14T01:22:55.936734Z",
     "iopub.status.idle": "2021-01-14T01:22:55.938920Z",
     "shell.execute_reply": "2021-01-14T01:22:55.939444Z"
    },
    "papermill": {
     "duration": 0.033312,
     "end_time": "2021-01-14T01:22:55.939597",
     "exception": false,
     "start_time": "2021-01-14T01:22:55.906285",
     "status": "completed"
    },
    "tags": [
     "injected-parameters"
    ]
   },
   "outputs": [],
   "source": [
    "# Parameters\n",
    "AD_F = \"data/chrM/PBMC_P_cellSNP_minC10_minAF0.01/cellSNP.tag.AD.mtx\"\n",
    "DP_F = \"data/chrM/PBMC_P_cellSNP_minC10_minAF0.01/cellSNP.tag.DP.mtx\"\n"
   ]
  },
  {
   "cell_type": "code",
   "execution_count": 4,
   "metadata": {
    "ExecuteTime": {
     "end_time": "2021-01-07T22:11:17.977334Z",
     "start_time": "2021-01-07T22:11:17.962011Z"
    },
    "execution": {
     "iopub.execute_input": "2021-01-14T01:22:55.996212Z",
     "iopub.status.busy": "2021-01-14T01:22:55.995595Z",
     "iopub.status.idle": "2021-01-14T01:22:55.998326Z",
     "shell.execute_reply": "2021-01-14T01:22:55.998834Z"
    },
    "papermill": {
     "duration": 0.034027,
     "end_time": "2021-01-14T01:22:55.998996",
     "exception": false,
     "start_time": "2021-01-14T01:22:55.964969",
     "status": "completed"
    },
    "tags": []
   },
   "outputs": [
    {
     "data": {
      "text/plain": [
       "'/data2/mito_lineage/Analysis/multiplex'"
      ]
     },
     "execution_count": 4,
     "metadata": {},
     "output_type": "execute_result"
    }
   ],
   "source": [
    "pwd"
   ]
  },
  {
   "cell_type": "markdown",
   "metadata": {
    "papermill": {
     "duration": 0.026599,
     "end_time": "2021-01-14T01:22:56.052396",
     "exception": false,
     "start_time": "2021-01-14T01:22:56.025797",
     "status": "completed"
    },
    "tags": []
   },
   "source": [
    "# Using vireo for clonal reconstruction - mitochondrial mutations"
   ]
  },
  {
   "cell_type": "markdown",
   "metadata": {
    "papermill": {
     "duration": 0.051859,
     "end_time": "2021-01-14T01:22:56.130054",
     "exception": false,
     "start_time": "2021-01-14T01:22:56.078195",
     "status": "completed"
    },
    "tags": []
   },
   "source": [
    "The mitochondrial mutations data set is extracted from [Ludwig et al, Cell, 2019](https://doi.org/10.1016/j.cell.2019.01.022), the 9 variants used here are from Supp Fig. 2F (and main Fig. 2F).\n",
    "\n",
    "For clonal reconstruction, we are using the core class `vireoSNP.Vireo` with multiple initializations"
   ]
  },
  {
   "cell_type": "code",
   "execution_count": 5,
   "metadata": {
    "execution": {
     "iopub.execute_input": "2021-01-14T01:22:56.187751Z",
     "iopub.status.busy": "2021-01-14T01:22:56.187150Z",
     "iopub.status.idle": "2021-01-14T01:22:56.825589Z",
     "shell.execute_reply": "2021-01-14T01:22:56.825001Z"
    },
    "papermill": {
     "duration": 0.669971,
     "end_time": "2021-01-14T01:22:56.825759",
     "exception": false,
     "start_time": "2021-01-14T01:22:56.155788",
     "status": "completed"
    },
    "tags": []
   },
   "outputs": [
    {
     "name": "stdout",
     "output_type": "stream",
     "text": [
      "0.4.2\n"
     ]
    }
   ],
   "source": [
    "import vireoSNP\n",
    "import numpy as np\n",
    "from scipy import sparse\n",
    "from scipy.io import mmread\n",
    "import matplotlib.pyplot as plt\n",
    "\n",
    "print(vireoSNP.__version__)"
   ]
  },
  {
   "cell_type": "code",
   "execution_count": 6,
   "metadata": {
    "collapsed": true,
    "execution": {
     "iopub.execute_input": "2021-01-14T01:22:56.888430Z",
     "iopub.status.busy": "2021-01-14T01:22:56.887786Z",
     "iopub.status.idle": "2021-01-14T01:22:56.889941Z",
     "shell.execute_reply": "2021-01-14T01:22:56.890472Z"
    },
    "papermill": {
     "duration": 0.036233,
     "end_time": "2021-01-14T01:22:56.890663",
     "exception": false,
     "start_time": "2021-01-14T01:22:56.854430",
     "status": "completed"
    },
    "tags": []
   },
   "outputs": [],
   "source": [
    "np.set_printoptions(formatter={'float': lambda x: format(x, '.5f')})"
   ]
  },
  {
   "cell_type": "code",
   "execution_count": 7,
   "metadata": {
    "collapsed": true,
    "execution": {
     "iopub.execute_input": "2021-01-14T01:22:56.952317Z",
     "iopub.status.busy": "2021-01-14T01:22:56.951691Z",
     "iopub.status.idle": "2021-01-14T01:22:57.187383Z",
     "shell.execute_reply": "2021-01-14T01:22:57.186776Z"
    },
    "papermill": {
     "duration": 0.268582,
     "end_time": "2021-01-14T01:22:57.187559",
     "exception": false,
     "start_time": "2021-01-14T01:22:56.918977",
     "status": "completed"
    },
    "tags": []
   },
   "outputs": [],
   "source": [
    "AD = mmread(AD_F).tocsc()\n",
    "DP = mmread(DP_F).tocsc()"
   ]
  },
  {
   "cell_type": "code",
   "execution_count": 8,
   "metadata": {
    "execution": {
     "iopub.execute_input": "2021-01-14T01:22:57.249678Z",
     "iopub.status.busy": "2021-01-14T01:22:57.249006Z",
     "iopub.status.idle": "2021-01-14T01:22:57.251730Z",
     "shell.execute_reply": "2021-01-14T01:22:57.252260Z"
    },
    "papermill": {
     "duration": 0.03582,
     "end_time": "2021-01-14T01:22:57.252450",
     "exception": false,
     "start_time": "2021-01-14T01:22:57.216630",
     "status": "completed"
    },
    "tags": []
   },
   "outputs": [],
   "source": [
    "AD_shape = AD.todense().shape"
   ]
  },
  {
   "cell_type": "markdown",
   "metadata": {
    "papermill": {
     "duration": 0.028858,
     "end_time": "2021-01-14T01:22:57.309940",
     "exception": false,
     "start_time": "2021-01-14T01:22:57.281082",
     "status": "completed"
    },
    "tags": []
   },
   "source": [
    "## New implementation in v0.3.0"
   ]
  },
  {
   "cell_type": "code",
   "execution_count": 9,
   "metadata": {
    "collapsed": true,
    "execution": {
     "iopub.execute_input": "2021-01-14T01:22:57.371322Z",
     "iopub.status.busy": "2021-01-14T01:22:57.370651Z",
     "iopub.status.idle": "2021-01-14T01:22:57.373446Z",
     "shell.execute_reply": "2021-01-14T01:22:57.372884Z"
    },
    "papermill": {
     "duration": 0.035345,
     "end_time": "2021-01-14T01:22:57.373598",
     "exception": false,
     "start_time": "2021-01-14T01:22:57.338253",
     "status": "completed"
    },
    "tags": []
   },
   "outputs": [],
   "source": [
    "from vireoSNP import Vireo"
   ]
  },
  {
   "cell_type": "markdown",
   "metadata": {
    "papermill": {
     "duration": 0.028618,
     "end_time": "2021-01-14T01:22:57.431888",
     "exception": false,
     "start_time": "2021-01-14T01:22:57.403270",
     "status": "completed"
    },
    "tags": []
   },
   "source": [
    "Note, there are a few key parameters:\n",
    "\n",
    "* `n_donor`: it means number of clones here, but you need to determine yourself. You can choose the one with highest ELBO (see next section)\n",
    "* `n_GT`: number of different genotype. For somatic mutations, we could assume that there are only two, namely present or absent\n",
    "* `is_theta_ASE`: whether allelic ratio is variant specific. For mitochondrial mutations, we choose True as allelic ratio can different from variant to variant"
   ]
  },
  {
   "cell_type": "markdown",
   "metadata": {
    "papermill": {
     "duration": 0.028218,
     "end_time": "2021-01-14T01:22:57.488919",
     "exception": false,
     "start_time": "2021-01-14T01:22:57.460701",
     "status": "completed"
    },
    "tags": []
   },
   "source": [
    "### Multiple initialization is needed to avoid local optima"
   ]
  },
  {
   "cell_type": "code",
   "execution_count": 10,
   "metadata": {
    "collapsed": true,
    "execution": {
     "iopub.execute_input": "2021-01-14T01:22:57.555505Z",
     "iopub.status.busy": "2021-01-14T01:22:57.554821Z",
     "iopub.status.idle": "2021-01-14T01:23:16.117579Z",
     "shell.execute_reply": "2021-01-14T01:23:16.118135Z"
    },
    "papermill": {
     "duration": 18.601075,
     "end_time": "2021-01-14T01:23:16.118360",
     "exception": false,
     "start_time": "2021-01-14T01:22:57.517285",
     "status": "completed"
    },
    "tags": []
   },
   "outputs": [],
   "source": [
    "np.random.seed(1)\n",
    "\n",
    "n_initials = 50\n",
    "_models_all = []\n",
    "for i in range(n_initials):\n",
    "    _modelCA = Vireo(n_var=AD_shape[0], n_cell=AD_shape[1], n_donor=3, n_GT=2,\n",
    "                     fix_beta_sum=False, ASE_mode=True)\n",
    "    _modelCA.set_prior(beta_mu_prior=np.array([[0.01, 0.5]]))\n",
    "    _modelCA.fit(AD, DP, min_iter=20, verbose=False, delay_fit_theta=0)\n",
    "    _models_all.append(_modelCA)"
   ]
  },
  {
   "cell_type": "code",
   "execution_count": 11,
   "metadata": {
    "collapsed": true,
    "execution": {
     "iopub.execute_input": "2021-01-14T01:23:16.188597Z",
     "iopub.status.busy": "2021-01-14T01:23:16.187958Z",
     "iopub.status.idle": "2021-01-14T01:23:16.190034Z",
     "shell.execute_reply": "2021-01-14T01:23:16.190592Z"
    },
    "papermill": {
     "duration": 0.039565,
     "end_time": "2021-01-14T01:23:16.190874",
     "exception": false,
     "start_time": "2021-01-14T01:23:16.151309",
     "status": "completed"
    },
    "tags": []
   },
   "outputs": [],
   "source": [
    "## Choose the model giving highest ELBO\n",
    "\n",
    "_idx = np.argmax([x.ELBO_[-1] for x in _models_all])\n",
    "modelCA = _models_all[_idx]\n",
    "_losses = modelCA.ELBO_"
   ]
  },
  {
   "cell_type": "code",
   "execution_count": 12,
   "metadata": {
    "execution": {
     "iopub.execute_input": "2021-01-14T01:23:16.273037Z",
     "iopub.status.busy": "2021-01-14T01:23:16.270708Z",
     "iopub.status.idle": "2021-01-14T01:23:16.693962Z",
     "shell.execute_reply": "2021-01-14T01:23:16.694493Z"
    },
    "papermill": {
     "duration": 0.472997,
     "end_time": "2021-01-14T01:23:16.694705",
     "exception": false,
     "start_time": "2021-01-14T01:23:16.221708",
     "status": "completed"
    },
    "tags": []
   },
   "outputs": [
    {
     "data": {
      "image/png": "[encoded data removed]",
      "text/plain": [
       "<Figure size 792x288 with 2 Axes>"
      ]
     },
     "metadata": {
      "needs_background": "light"
     },
     "output_type": "display_data"
    }
   ],
   "source": [
    "fig = plt.figure(figsize=(11, 4))\n",
    "plt.subplot(1, 2, 1)\n",
    "plt.hist([x.ELBO_[-1] for x in _models_all])\n",
    "plt.ylabel(\"Frequency\")\n",
    "plt.xlabel(\"ELBO with multiple initializations\")\n",
    "\n",
    "plt.subplot(1, 2, 2)\n",
    "plt.plot(_losses)\n",
    "plt.xlabel(\"Iterations\")\n",
    "plt.ylabel(\"ELBO in a single run\")\n",
    "\n",
    "plt.tight_layout()\n",
    "plt.show()"
   ]
  },
  {
   "cell_type": "code",
   "execution_count": 13,
   "metadata": {
    "execution": {
     "iopub.execute_input": "2021-01-14T01:23:16.764401Z",
     "iopub.status.busy": "2021-01-14T01:23:16.763730Z",
     "iopub.status.idle": "2021-01-14T01:23:16.766708Z",
     "shell.execute_reply": "2021-01-14T01:23:16.767254Z"
    },
    "papermill": {
     "duration": 0.040897,
     "end_time": "2021-01-14T01:23:16.767471",
     "exception": false,
     "start_time": "2021-01-14T01:23:16.726574",
     "status": "completed"
    },
    "tags": []
   },
   "outputs": [
    {
     "name": "stdout",
     "output_type": "stream",
     "text": [
      "[[0.02230 0.02248]\n",
      " [0.04915 0.05160]\n",
      " [0.03654 0.03847]\n",
      " [0.26654 0.29098]\n",
      " [0.01388 0.01461]\n",
      " [0.01496 0.50000]\n",
      " [0.01235 0.01384]\n",
      " [0.01570 0.01729]\n",
      " [0.01222 0.01299]\n",
      " [0.01168 0.01284]\n",
      " [0.01358 0.01677]\n",
      " [0.14409 0.13057]\n",
      " [0.01154 0.01887]\n",
      " [0.02053 0.02194]\n",
      " [0.01645 0.01792]\n",
      " [0.01048 0.50000]\n",
      " [0.01027 0.01079]\n",
      " [0.01547 0.02240]\n",
      " [0.00873 0.01027]\n",
      " [0.00713 0.01684]\n",
      " [0.00627 0.01485]\n",
      " [0.37167 0.46466]\n",
      " [0.00982 0.01368]\n",
      " [0.13127 0.13652]\n",
      " [0.01713 0.01906]\n",
      " [0.16158 0.17405]\n",
      " [0.02485 0.02626]\n",
      " [0.01266 0.01411]\n",
      " [0.01501 0.01569]\n",
      " [0.14794 0.16543]\n",
      " [0.01121 0.01368]\n",
      " [0.08368 0.09687]\n",
      " [0.06197 0.07312]\n",
      " [0.01678 0.02203]\n",
      " [0.02054 0.02498]\n",
      " [0.01223 0.01492]\n",
      " [0.01245 0.01524]\n",
      " [0.01281 0.01519]\n",
      " [0.01846 0.02814]\n",
      " [0.03554 0.03729]\n",
      " [0.01369 0.01804]\n",
      " [0.00926 0.01092]\n",
      " [0.01089 0.01384]\n",
      " [0.01172 0.01202]\n",
      " [0.00745 0.01239]\n",
      " [0.01128 0.02012]\n",
      " [0.01492 0.02629]\n",
      " [0.02502 0.03963]\n",
      " [0.07946 0.09131]\n",
      " [0.03473 0.03601]\n",
      " [0.01739 0.01954]\n",
      " [0.01310 0.01404]\n",
      " [0.02501 0.02903]\n",
      " [0.02673 0.03030]\n",
      " [0.04026 0.04122]\n",
      " [0.01736 0.01832]\n",
      " [0.01047 0.50000]\n",
      " [0.01081 0.01158]\n",
      " [0.01032 0.01127]\n",
      " [0.01550 0.01687]\n",
      " [0.01124 0.01494]\n",
      " [0.01086 0.01728]\n",
      " [0.01924 0.02975]\n",
      " [0.00789 0.01427]\n",
      " [0.01961 0.03158]\n",
      " [0.03849 0.04335]\n",
      " [0.04360 0.04640]\n",
      " [0.03760 0.03942]\n",
      " [0.02326 0.02532]\n",
      " [0.01109 0.01190]\n",
      " [0.01374 0.01656]\n",
      " [0.02656 0.02895]\n",
      " [0.02159 0.02454]\n",
      " [0.01154 0.01299]\n",
      " [0.01151 0.01326]\n",
      " [0.01457 0.01618]\n",
      " [0.01136 0.01491]\n",
      " [0.00291 0.59687]\n",
      " [0.01126 0.50000]\n",
      " [0.04178 0.03016]\n",
      " [0.03549 0.02797]\n",
      " [0.01015 0.01253]]\n",
      "[[159078.50520 139889.49480]\n",
      " [134759.30223 132986.69777]\n",
      " [143794.83498 123689.16502]\n",
      " [130427.25543 134300.74457]\n",
      " [184907.32052 224991.67948]\n",
      " [402160.00000 50.00000]\n",
      " [175213.12789 206809.87211]\n",
      " [206659.39338 211128.60662]\n",
      " [220395.83709 190738.16291]\n",
      " [254085.00847 249244.99153]\n",
      " [473343.58888 28300.41112]\n",
      " [73486.02980 61828.97020]\n",
      " [242041.02008 191955.97992]\n",
      " [235683.14250 299313.85750]\n",
      " [228745.36895 293107.63105]\n",
      " [504218.00000 50.00000]\n",
      " [292273.00627 175044.99373]\n",
      " [219908.47964 279681.52036]\n",
      " [32632.01448 537749.98552]\n",
      " [234891.17159 188571.82841]\n",
      " [267869.68116 214516.31884]\n",
      " [14795.47604 14906.52396]\n",
      " [202080.31467 214590.68533]\n",
      " [178069.15042 199150.84958]\n",
      " [211374.98695 274709.01305]\n",
      " [206770.31121 269959.68879]\n",
      " [225976.36825 287435.63175]\n",
      " [196079.11119 249271.88881]\n",
      " [224217.35991 237352.64009]\n",
      " [184778.41640 235908.58360]\n",
      " [200906.84463 255734.15537]\n",
      " [212332.10902 268026.89098]\n",
      " [215940.14978 271308.85022]\n",
      " [197353.05046 243968.94954]\n",
      " [215074.01904 265933.98096]\n",
      " [221720.65343 273292.34657]\n",
      " [236838.56332 265767.43668]\n",
      " [268490.03567 263765.96433]\n",
      " [226604.83379 280302.16621]\n",
      " [219119.27268 249582.72732]\n",
      " [522618.58947 32490.41053]\n",
      " [270487.58647 269604.41353]\n",
      " [405266.56762 24740.43238]\n",
      " [284415.46218 256808.53782]\n",
      " [169757.48415 209978.51585]\n",
      " [168002.58789 207865.41211]\n",
      " [167766.77894 207374.22106]\n",
      " [166303.10746 205923.89254]\n",
      " [188889.97594 191696.02406]\n",
      " [225853.69575 188170.30425]\n",
      " [178192.38812 226064.61188]\n",
      " [186733.29360 216450.70640]\n",
      " [184523.33572 186725.66428]\n",
      " [173609.45289 197120.54711]\n",
      " [233672.77478 117878.22522]\n",
      " [210008.10012 161796.89988]\n",
      " [394955.00000 50.00000]\n",
      " [203695.32590 145757.67410]\n",
      " [225536.01787 248843.98213]\n",
      " [290581.85170 286454.14830]\n",
      " [254766.36706 307138.63294]\n",
      " [197339.86952 247985.13048]\n",
      " [194798.13609 245444.86391]\n",
      " [225124.37591 280674.62409]\n",
      " [228534.70108 285757.29892]\n",
      " [181283.39804 228207.60196]\n",
      " [221866.31436 207058.68564]\n",
      " [218516.83164 211806.16836]\n",
      " [222243.37586 211066.62414]\n",
      " [231068.03027 200208.96973]\n",
      " [238623.43198 184984.56802]\n",
      " [232822.16607 189722.83393]\n",
      " [234652.84427 185305.15573]\n",
      " [236888.58401 230602.41599]\n",
      " [257081.39801 200232.60199]\n",
      " [258405.80073 200687.19927]\n",
      " [206549.27434 263402.72566]\n",
      " [535378.77091 32206.22909]\n",
      " [526408.00000 50.00000]\n",
      " [255044.61316 202596.38684]\n",
      " [267490.71655 211156.28345]\n",
      " [198996.17315 254948.82685]]\n"
     ]
    }
   ],
   "source": [
    "print(modelCA.beta_mu),\n",
    "print(modelCA.beta_sum)"
   ]
  },
  {
   "cell_type": "code",
   "execution_count": 14,
   "metadata": {
    "execution": {
     "iopub.execute_input": "2021-01-14T01:23:16.852534Z",
     "iopub.status.busy": "2021-01-14T01:23:16.849678Z",
     "iopub.status.idle": "2021-01-14T01:23:17.365017Z",
     "shell.execute_reply": "2021-01-14T01:23:17.365536Z"
    },
    "papermill": {
     "duration": 0.56627,
     "end_time": "2021-01-14T01:23:17.365760",
     "exception": false,
     "start_time": "2021-01-14T01:23:16.799490",
     "status": "completed"
    },
    "tags": []
   },
   "outputs": [
    {
     "data": {
      "image/png": "[encoded data removed]",
      "text/plain": [
       "<Figure size 700x400 with 4 Axes>"
      ]
     },
     "metadata": {
      "needs_background": "light"
     },
     "output_type": "display_data"
    }
   ],
   "source": [
    "import matplotlib.pyplot as plt\n",
    "from vireoSNP.plot.base_plot import heat_matrix\n",
    "\n",
    "fig = plt.figure(figsize=(7, 4), dpi=100)\n",
    "plt.subplot(1, 2, 1)\n",
    "im = heat_matrix(modelCA.ID_prob, cmap=\"Oranges\", alpha=0.8,\n",
    "                 display_value=False, row_sort=True)\n",
    "plt.colorbar(im, fraction=0.046, pad=0.04)\n",
    "plt.title(\"Assignment probability\")\n",
    "plt.xlabel(\"Clone\")\n",
    "plt.ylabel(\"%d cells\" %(modelCA.n_cell))\n",
    "plt.xticks(range(modelCA.n_donor))\n",
    "\n",
    "\n",
    "plt.subplot(1, 2, 2)\n",
    "AF_SNPs = np.sum(modelCA.GT_prob * \n",
    "                 np.expand_dims(modelCA.beta_mu, 1), axis=2)\n",
    "im = heat_matrix(AF_SNPs, cmap=\"Blues\", alpha=0.8, \n",
    "                 display_value=False, row_sort=True)\n",
    "plt.colorbar(im, fraction=0.046, pad=0.04)\n",
    "plt.title(\"Mean allelic ratio\")\n",
    "plt.xlabel(\"Clone\")\n",
    "plt.ylabel(\"%d SNPs\" %(modelCA.n_var))\n",
    "plt.xticks(range(modelCA.n_donor))\n",
    "\n",
    "plt.tight_layout()\n",
    "plt.show()"
   ]
  },
  {
   "cell_type": "code",
   "execution_count": 15,
   "metadata": {
    "execution": {
     "iopub.execute_input": "2021-01-14T01:23:17.496058Z",
     "iopub.status.busy": "2021-01-14T01:23:17.495419Z",
     "iopub.status.idle": "2021-01-14T01:23:17.507654Z",
     "shell.execute_reply": "2021-01-14T01:23:17.507077Z"
    },
    "papermill": {
     "duration": 0.050536,
     "end_time": "2021-01-14T01:23:17.507829",
     "exception": false,
     "start_time": "2021-01-14T01:23:17.457293",
     "status": "completed"
    },
    "tags": []
   },
   "outputs": [
    {
     "data": {
      "text/plain": [
       "66.84258490200754"
      ]
     },
     "execution_count": 15,
     "metadata": {},
     "output_type": "execute_result"
    }
   ],
   "source": [
    "np.sum(modelCA.predict_doublet(AD, DP)[0])"
   ]
  },
  {
   "cell_type": "code",
   "execution_count": null,
   "metadata": {
    "collapsed": true,
    "papermill": {
     "duration": 0.034211,
     "end_time": "2021-01-14T01:23:17.575987",
     "exception": false,
     "start_time": "2021-01-14T01:23:17.541776",
     "status": "completed"
    },
    "tags": []
   },
   "outputs": [],
   "source": []
  },
  {
   "cell_type": "markdown",
   "metadata": {
    "papermill": {
     "duration": 0.039247,
     "end_time": "2021-01-14T01:23:17.655471",
     "exception": false,
     "start_time": "2021-01-14T01:23:17.616224",
     "status": "completed"
    },
    "tags": []
   },
   "source": [
    "### Choose the number of clones\n",
    "We can choose the number of clones where ELBO stops increasing. Here, the best number of clone is 3.\n",
    "\n",
    "Note, for a certain number of clone, e.g., n_clone=3, the ELBO may not the same for multiple initializations. This is becaused VI can only guarantee a local optima, so please choose the highest ELBO for each `n_clone` to represent its \"global\" optima."
   ]
  },
  {
   "cell_type": "code",
   "execution_count": 16,
   "metadata": {
    "collapsed": true,
    "execution": {
     "iopub.execute_input": "2021-01-14T01:23:17.734965Z",
     "iopub.status.busy": "2021-01-14T01:23:17.734176Z",
     "iopub.status.idle": "2021-01-14T01:24:48.059868Z",
     "shell.execute_reply": "2021-01-14T01:24:48.060464Z"
    },
    "papermill": {
     "duration": 90.370716,
     "end_time": "2021-01-14T01:24:48.060767",
     "exception": false,
     "start_time": "2021-01-14T01:23:17.690051",
     "status": "completed"
    },
    "tags": []
   },
   "outputs": [],
   "source": [
    "n_initials = 50\n",
    "n_clone_list = np.arange(2, 6)\n",
    "\n",
    "_ELBO_mat = [] \n",
    "for k in n_clone_list:\n",
    "    _elbo_temp = []\n",
    "    for i in range(50):\n",
    "        _modelCA = Vireo(n_var=AD_shape[0], n_cell=AD_shape[1], n_donor=k, n_GT=2,\n",
    "                         fix_beta_sum=False, ASE_mode=True)\n",
    "        _modelCA.set_prior(beta_mu_prior=np.array([[0.01, 0.5]]))\n",
    "        _modelCA.fit(AD, DP, min_iter=20, verbose=False)\n",
    "        _elbo_temp.append(_modelCA.ELBO_[-1])\n",
    "    _ELBO_mat.append(_elbo_temp)"
   ]
  },
  {
   "cell_type": "code",
   "execution_count": 17,
   "metadata": {
    "execution": {
     "iopub.execute_input": "2021-01-14T01:24:48.140521Z",
     "iopub.status.busy": "2021-01-14T01:24:48.139392Z",
     "iopub.status.idle": "2021-01-14T01:24:48.334484Z",
     "shell.execute_reply": "2021-01-14T01:24:48.335036Z"
    },
    "papermill": {
     "duration": 0.240089,
     "end_time": "2021-01-14T01:24:48.335188",
     "exception": false,
     "start_time": "2021-01-14T01:24:48.095099",
     "status": "completed"
    },
    "tags": []
   },
   "outputs": [
    {
     "data": {
      "image/png": "[encoded data removed]",
      "text/plain": [
       "<Figure size 432x288 with 1 Axes>"
      ]
     },
     "metadata": {
      "needs_background": "light"
     },
     "output_type": "display_data"
    }
   ],
   "source": [
    "plt.plot([1, 2, 3, 4], np.max(_ELBO_mat, axis=1))\n",
    "plt.boxplot(_ELBO_mat)\n",
    "plt.xticks(n_clone_list - 1, n_clone_list)\n",
    "plt.ylabel(\"ELBO\")\n",
    "plt.xlabel(\"n_clones\")\n",
    "plt.show()"
   ]
  },
  {
   "cell_type": "code",
   "execution_count": null,
   "metadata": {
    "collapsed": true,
    "papermill": {
     "duration": 0.034592,
     "end_time": "2021-01-14T01:24:48.402227",
     "exception": false,
     "start_time": "2021-01-14T01:24:48.367635",
     "status": "completed"
    },
    "tags": []
   },
   "outputs": [],
   "source": []
  },
  {
   "cell_type": "code",
   "execution_count": null,
   "metadata": {
    "collapsed": true,
    "papermill": {
     "duration": 0.033345,
     "end_time": "2021-01-14T01:24:48.470465",
     "exception": false,
     "start_time": "2021-01-14T01:24:48.437120",
     "status": "completed"
    },
    "tags": []
   },
   "outputs": [],
   "source": []
  },
  {
   "cell_type": "code",
   "execution_count": null,
   "metadata": {
    "collapsed": true,
    "papermill": {
     "duration": 0.033095,
     "end_time": "2021-01-14T01:24:48.537731",
     "exception": false,
     "start_time": "2021-01-14T01:24:48.504636",
     "status": "completed"
    },
    "tags": []
   },
   "outputs": [],
   "source": []
  },
  {
   "cell_type": "markdown",
   "metadata": {
    "papermill": {
     "duration": 0.034349,
     "end_time": "2021-01-14T01:24:48.605962",
     "exception": false,
     "start_time": "2021-01-14T01:24:48.571613",
     "status": "completed"
    },
    "tags": []
   },
   "source": [
    "### Old version\n",
    "\n",
    "The old version seem more likely to end up at local optima in this data set."
   ]
  },
  {
   "cell_type": "code",
   "execution_count": 18,
   "metadata": {
    "collapsed": true,
    "execution": {
     "iopub.execute_input": "2021-01-14T01:24:48.679527Z",
     "iopub.status.busy": "2021-01-14T01:24:48.678853Z",
     "iopub.status.idle": "2021-01-14T01:24:48.681622Z",
     "shell.execute_reply": "2021-01-14T01:24:48.682510Z"
    },
    "papermill": {
     "duration": 0.04229,
     "end_time": "2021-01-14T01:24:48.682680",
     "exception": false,
     "start_time": "2021-01-14T01:24:48.640390",
     "status": "completed"
    },
    "tags": []
   },
   "outputs": [],
   "source": [
    "from vireoSNP.utils.vireo_wrap_v02 import vireo_flock"
   ]
  },
  {
   "cell_type": "code",
   "execution_count": 19,
   "metadata": {
    "execution": {
     "iopub.execute_input": "2021-01-14T01:24:48.757751Z",
     "iopub.status.busy": "2021-01-14T01:24:48.757070Z",
     "iopub.status.idle": "2021-01-14T01:24:50.605224Z",
     "shell.execute_reply": "2021-01-14T01:24:50.605728Z"
    },
    "papermill": {
     "duration": 1.888678,
     "end_time": "2021-01-14T01:24:50.605902",
     "exception": false,
     "start_time": "2021-01-14T01:24:48.717224",
     "status": "completed"
    },
    "tags": []
   },
   "outputs": [
    {
     "name": "stdout",
     "output_type": "stream",
     "text": [
      "[vireo] warm-up: 50 random initializations for 3 clusters...\n"
     ]
    },
    {
     "name": "stdout",
     "output_type": "stream",
     "text": [
      "[vireo] donor size with searching extra 0 donors:\n",
      "donor0\tdonor1\tdonor2\n",
      "221\t221\t221\n",
      "[vireo] warm-up: lower bound ranges [-4175541.1, -4175541.1, -4175541.1]\n",
      "[vireo] main RUN with warm initials and tuned GT ...\n",
      "[vireo] main RUN: 22 iterations; lower bound -4175541.1\n",
      "[vireo] beta parameters for binomial rate:\n",
      "[[[6667.10 13460.10 9987.10 0.10 5828.10 6014.10 5000.10 6870.10 5145.10\n",
      "   6142.10 6878.10 0.10 6389.10 11379.10 8989.10 5286.10 4866.10 9640.10\n",
      "   5780.10 4825.10 4841.10 0.10 4894.10 0.10 8830.10 0.10 13137.10\n",
      "   5973.10 7066.10 0.10 5725.10 0.10 0.10 8661.10 11035.10 6762.10\n",
      "   6973.10 7421.10 12045.10 17069.10 7715.10 5425.10 4730.10 6395.10\n",
      "   3842.10 6052.10 7929.10 12295.10 0.10 14593.10 7492.10 5459.10\n",
      "   10011.10 10587.10 14240.10 6585.10 4134.10 3865.10 5106.10 9312.10\n",
      "   7427.10 6403.10 11025.10 5755.10 13481.10 16845.10 19256.10 16540.10\n",
      "   10489.10 4920.10 6316.10 11649.10 9589.10 5704.10 5589.10 6987.10\n",
      "   6249.10 20753.10 5925.10 16741.10 15373.10 5190.10]\n",
      "  [292211.00 254196.00 257407.00 10.00 403981.00 396106.00 376933.00\n",
      "   410828.00 405899.00 497098.00 494676.00 10.00 427518.00 523528.00\n",
      "   512774.00 498892.00 462362.00 489860.00 564512.00 418548.00 477455.00\n",
      "   10.00 411687.00 10.00 477164.00 10.00 500185.00 439288.00 454414.00\n",
      "   10.00 450826.00 10.00 10.00 432571.00 469883.00 488161.00 495543.00\n",
      "   524745.00 494772.00 451543.00 547304.00 534577.00 425187.00 534739.00\n",
      "   375804.00 369726.00 367122.00 359842.00 10.00 399341.00 396675.00\n",
      "   397635.00 361148.00 360053.00 337221.00 365130.00 390781.00 345498.00\n",
      "   469184.00 567634.00 554388.00 438832.00 429128.00 499954.00 500721.00\n",
      "   392556.00 409579.00 413693.00 422731.00 426267.00 417202.00 410806.00\n",
      "   410279.00 461697.00 451635.00 452016.00 463613.00 546742.00 520443.00\n",
      "   440810.00 463184.00 448665.00]]\n",
      "\n",
      " [[5.00 5.00 5.00 73822.00 5.00 5.00 5.00 5.00 5.00 5.00 5.00 18641.00\n",
      "   5.00 5.00 5.00 5.00 5.00 5.00 5.00 5.00 5.00 12405.00 5.00 50541.00\n",
      "   5.00 80375.00 5.00 5.00 5.00 66341.00 5.00 43711.00 33198.00 5.00\n",
      "   5.00 5.00 5.00 5.00 5.00 5.00 5.00 5.00 5.00 5.00 5.00 5.00 5.00 5.00\n",
      "   32492.00 5.00 5.00 5.00 5.00 5.00 5.00 5.00 5.00 5.00 5.00 5.00 5.00\n",
      "   5.00 5.00 5.00 5.00 5.00 5.00 5.00 5.00 5.00 5.00 5.00 5.00 5.00 5.00\n",
      "   5.00 5.00 5.00 5.00 5.00 5.00 5.00]\n",
      "  [5.00 5.00 5.00 190816.00 5.00 5.00 5.00 5.00 5.00 5.00 5.00 116584.00\n",
      "   5.00 5.00 5.00 5.00 5.00 5.00 5.00 5.00 5.00 17207.00 5.00 326589.00\n",
      "   5.00 396265.00 5.00 5.00 5.00 354256.00 5.00 436558.00 453961.00 5.00\n",
      "   5.00 5.00 5.00 5.00 5.00 5.00 5.00 5.00 5.00 5.00 5.00 5.00 5.00 5.00\n",
      "   348004.00 5.00 5.00 5.00 5.00 5.00 5.00 5.00 5.00 5.00 5.00 5.00 5.00\n",
      "   5.00 5.00 5.00 5.00 5.00 5.00 5.00 5.00 5.00 5.00 5.00 5.00 5.00 5.00\n",
      "   5.00 5.00 5.00 5.00 5.00 5.00 5.00]]]\n"
     ]
    }
   ],
   "source": [
    "# theta_prior = np.array([[0.01, 10], [0.4, 10], [5, 5]])\n",
    "theta_prior = np.array([[0.1, 10], [5, 5]])\n",
    "res = vireo_flock(AD, DP, n_donor=3, learn_GT=True,\n",
    "                  n_extra_donor=0, ASE_mode=True,\n",
    "                  theta_prior=theta_prior, learn_theta=True,\n",
    "                  n_init=50, check_doublet=False, random_seed=1)"
   ]
  },
  {
   "cell_type": "code",
   "execution_count": 20,
   "metadata": {
    "execution": {
     "iopub.execute_input": "2021-01-14T01:24:50.687758Z",
     "iopub.status.busy": "2021-01-14T01:24:50.686271Z",
     "iopub.status.idle": "2021-01-14T01:24:50.831658Z",
     "shell.execute_reply": "2021-01-14T01:24:50.832153Z"
    },
    "papermill": {
     "duration": 0.190765,
     "end_time": "2021-01-14T01:24:50.832293",
     "exception": false,
     "start_time": "2021-01-14T01:24:50.641528",
     "status": "completed"
    },
    "tags": []
   },
   "outputs": [
    {
     "data": {
      "image/png": "[encoded data removed]",
      "text/plain": [
       "<Figure size 432x288 with 1 Axes>"
      ]
     },
     "metadata": {
      "needs_background": "light"
     },
     "output_type": "display_data"
    }
   ],
   "source": [
    "plt.plot(res['LB_list'])\n",
    "plt.xlabel(\"Iterations\")\n",
    "plt.ylabel(\"ELBO in a single run\")\n",
    "plt.show()"
   ]
  },
  {
   "cell_type": "raw",
   "metadata": {
    "papermill": {
     "duration": 0.035393,
     "end_time": "2021-01-14T01:24:50.918967",
     "exception": false,
     "start_time": "2021-01-14T01:24:50.883574",
     "status": "completed"
    },
    "tags": []
   },
   "source": [
    "## If ASE_mode is False\n",
    "AF_mean = res['theta_shapes'][:, 0] / np.sum(res['theta_shapes'], axis=1)\n",
    "AF_SNPs = np.tensordot(res['GT_prob'], AF_mean, axes=[2, 0])"
   ]
  },
  {
   "cell_type": "code",
   "execution_count": 21,
   "metadata": {
    "collapsed": true,
    "execution": {
     "iopub.execute_input": "2021-01-14T01:24:50.997633Z",
     "iopub.status.busy": "2021-01-14T01:24:50.996976Z",
     "iopub.status.idle": "2021-01-14T01:24:50.999674Z",
     "shell.execute_reply": "2021-01-14T01:24:50.999105Z"
    },
    "papermill": {
     "duration": 0.044937,
     "end_time": "2021-01-14T01:24:50.999807",
     "exception": false,
     "start_time": "2021-01-14T01:24:50.954870",
     "status": "completed"
    },
    "tags": []
   },
   "outputs": [],
   "source": [
    "## If ASE_mode is True\n",
    "AF_mean = res['theta_shapes'][:, 0] / np.sum(res['theta_shapes'], axis=1)\n",
    "\n",
    "_new_shape = (AF_mean.shape[1], 1, AF_mean.shape[0])\n",
    "AF_SNPs = np.sum(res['GT_prob'] * AF_mean.transpose().reshape(_new_shape), axis=2)"
   ]
  },
  {
   "cell_type": "code",
   "execution_count": 22,
   "metadata": {
    "execution": {
     "iopub.execute_input": "2021-01-14T01:24:51.093382Z",
     "iopub.status.busy": "2021-01-14T01:24:51.091453Z",
     "iopub.status.idle": "2021-01-14T01:24:51.565259Z",
     "shell.execute_reply": "2021-01-14T01:24:51.565758Z"
    },
    "papermill": {
     "duration": 0.528238,
     "end_time": "2021-01-14T01:24:51.565910",
     "exception": false,
     "start_time": "2021-01-14T01:24:51.037672",
     "status": "completed"
    },
    "tags": []
   },
   "outputs": [
    {
     "data": {
      "image/png": "[encoded data removed]",
      "text/plain": [
       "<Figure size 700x400 with 4 Axes>"
      ]
     },
     "metadata": {
      "needs_background": "light"
     },
     "output_type": "display_data"
    }
   ],
   "source": [
    "import matplotlib.pyplot as plt\n",
    "from vireoSNP.plot.base_plot import heat_matrix\n",
    "\n",
    "fig = plt.figure(figsize=(7, 4), dpi=100)\n",
    "plt.subplot(1, 2, 1)\n",
    "im = heat_matrix(res['ID_prob'], cmap=\"Oranges\", alpha=0.8,\n",
    "                 display_value=False, row_sort=True)\n",
    "plt.colorbar(im, fraction=0.046, pad=0.04)\n",
    "plt.title(\"Assignment probability\")\n",
    "plt.ylabel(\"%d cells\" %(res['ID_prob'].shape[0]))\n",
    "plt.xlabel(\"Clone\")\n",
    "plt.xticks([0, 1, 2])\n",
    "\n",
    "plt.subplot(1, 2, 2)\n",
    "im = heat_matrix(AF_SNPs, cmap=\"Blues\", alpha=0.8, \n",
    "                 display_value=False, row_sort=True)\n",
    "plt.colorbar(im, fraction=0.046, pad=0.04)\n",
    "plt.title(\"Mean allelic ratio\")\n",
    "plt.xlabel(\"Clone\")\n",
    "plt.ylabel(\"%d SNPs\" %(AF_SNPs.shape[0]))\n",
    "plt.xticks([0, 1, 2])\n",
    "plt.xlim(-0.5, 2.5)\n",
    "\n",
    "plt.tight_layout()\n",
    "plt.show()"
   ]
  },
  {
   "cell_type": "markdown",
   "metadata": {
    "collapsed": true,
    "papermill": {
     "duration": 0.040224,
     "end_time": "2021-01-14T01:24:51.642926",
     "exception": false,
     "start_time": "2021-01-14T01:24:51.602702",
     "status": "completed"
    },
    "tags": []
   },
   "source": [
    "## Plot K=4"
   ]
  },
  {
   "cell_type": "code",
   "execution_count": 23,
   "metadata": {
    "execution": {
     "iopub.execute_input": "2021-01-14T01:24:51.734366Z",
     "iopub.status.busy": "2021-01-14T01:24:51.733690Z",
     "iopub.status.idle": "2021-01-14T01:25:16.043469Z",
     "shell.execute_reply": "2021-01-14T01:25:16.043950Z"
    },
    "papermill": {
     "duration": 24.36402,
     "end_time": "2021-01-14T01:25:16.044110",
     "exception": false,
     "start_time": "2021-01-14T01:24:51.680090",
     "status": "completed"
    },
    "tags": []
   },
   "outputs": [
    {
     "data": {
      "image/png": "[encoded data removed]",
      "text/plain": [
       "<Figure size 700x400 with 4 Axes>"
      ]
     },
     "metadata": {
      "needs_background": "light"
     },
     "output_type": "display_data"
    }
   ],
   "source": [
    "np.random.seed(1)\n",
    "\n",
    "n_initials = 50\n",
    "_models_all = []\n",
    "for i in range(n_initials):\n",
    "    _modelCA = Vireo(n_var=AD_shape[0], n_cell=AD_shape[1], n_donor=4, n_GT=2,\n",
    "                     fix_beta_sum=False, ASE_mode=True)\n",
    "    _modelCA.set_prior(beta_mu_prior=np.array([[0.01, 0.5]]))\n",
    "    _modelCA.fit(AD, DP, min_iter=20, verbose=False, delay_fit_theta=0)\n",
    "    _models_all.append(_modelCA)\n",
    "    \n",
    "## Choose the model giving highest ELBO\n",
    "\n",
    "_idx = np.argmax([x.ELBO_[-1] for x in _models_all])\n",
    "modelCA = _models_all[_idx]\n",
    "_losses = modelCA.ELBO_\n",
    "\n",
    "\n",
    "import matplotlib.pyplot as plt\n",
    "from vireoSNP.plot.base_plot import heat_matrix\n",
    "\n",
    "fig = plt.figure(figsize=(7, 4), dpi=100)\n",
    "plt.subplot(1, 2, 1)\n",
    "im = heat_matrix(modelCA.ID_prob, cmap=\"Oranges\", alpha=0.8,\n",
    "                 display_value=False, row_sort=True)\n",
    "plt.colorbar(im, fraction=0.046, pad=0.04)\n",
    "plt.title(\"Assignment probability\")\n",
    "plt.xlabel(\"Clone\")\n",
    "plt.ylabel(\"%d cells\" %(modelCA.n_cell))\n",
    "plt.xticks(range(modelCA.n_donor))\n",
    "\n",
    "\n",
    "plt.subplot(1, 2, 2)\n",
    "AF_SNPs = np.sum(modelCA.GT_prob * \n",
    "                 np.expand_dims(modelCA.beta_mu, 1), axis=2)\n",
    "im = heat_matrix(AF_SNPs, cmap=\"Blues\", alpha=0.8, \n",
    "                 display_value=False, row_sort=True)\n",
    "plt.colorbar(im, fraction=0.046, pad=0.04)\n",
    "plt.title(\"Mean allelic ratio\")\n",
    "plt.xlabel(\"Clone\")\n",
    "plt.ylabel(\"%d SNPs\" %(modelCA.n_var))\n",
    "plt.xticks(range(modelCA.n_donor))\n",
    "\n",
    "plt.tight_layout()\n",
    "plt.show()"
   ]
  }
 ],
 "metadata": {
  "celltoolbar": "Tags",
  "kernelspec": {
   "display_name": "Python 3",
   "language": "python",
   "name": "python3"
  },
  "language_info": {
   "codemirror_mode": {
    "name": "ipython",
    "version": 3
   },
   "file_extension": ".py",
   "mimetype": "text/x-python",
   "name": "python",
   "nbconvert_exporter": "python",
   "pygments_lexer": "ipython3",
   "version": "3.7.3"
  },
  "papermill": {
   "default_parameters": {},
   "duration": 141.302834,
   "end_time": "2021-01-14T01:25:16.396275",
   "environment_variables": {},
   "exception": null,
   "input_path": "/data2/mito_lineage/src/vireo/vireoSNP_clones.ipynb",
   "output_path": "results/chrM/PBMC_P_cellSNP_minC10_minAF0.01/lineage_chrM.ipynb",
   "parameters": {
    "AD_F": "data/chrM/PBMC_P_cellSNP_minC10_minAF0.01/cellSNP.tag.AD.mtx",
    "DP_F": "data/chrM/PBMC_P_cellSNP_minC10_minAF0.01/cellSNP.tag.DP.mtx"
   },
   "start_time": "2021-01-14T01:22:55.093441",
   "version": "2.2.0"
  }
 },
 "nbformat": 4,
 "nbformat_minor": 4
}