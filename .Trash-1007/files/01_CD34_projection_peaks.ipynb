{
 "cells": [
  {
   "cell_type": "code",
   "execution_count": 1,
   "id": "d839d4be",
   "metadata": {
    "tags": [
     "parameters"
    ]
   },
   "outputs": [],
   "source": [
    "exp <- \"Flt3l\"\n",
    "outdir <- \"/data2/mito_lineage/Analysis/annotation/output/data/\"\n",
    "prefix <- \"CHIP_april08_2021_Croker/MTblacklist/\"\n",
    "external_dat_file <- \"granja_10X_CD34.rds\"\n",
    "#external_dat_dir <- \"/data2/mito_lineage/Analysis/annotation/output/data/\"\n",
    "nTop = 25000"
   ]
  },
  {
   "cell_type": "code",
   "execution_count": 2,
   "id": "f7e5fe79",
   "metadata": {
    "scrolled": true
   },
   "outputs": [
    {
     "name": "stderr",
     "output_type": "stream",
     "text": [
      "Attaching SeuratObject\n",
      "\n",
      "Loading required package: MatrixGenerics\n",
      "\n",
      "Loading required package: matrixStats\n",
      "\n",
      "\n",
      "Attaching package: ‘MatrixGenerics’\n",
      "\n",
      "\n",
      "The following objects are masked from ‘package:matrixStats’:\n",
      "\n",
      "    colAlls, colAnyNAs, colAnys, colAvgsPerRowSet, colCollapse,\n",
      "    colCounts, colCummaxs, colCummins, colCumprods, colCumsums,\n",
      "    colDiffs, colIQRDiffs, colIQRs, colLogSumExps, colMadDiffs,\n",
      "    colMads, colMaxs, colMeans2, colMedians, colMins, colOrderStats,\n",
      "    colProds, colQuantiles, colRanges, colRanks, colSdDiffs, colSds,\n",
      "    colSums2, colTabulates, colVarDiffs, colVars, colWeightedMads,\n",
      "    colWeightedMeans, colWeightedMedians, colWeightedSds,\n",
      "    colWeightedVars, rowAlls, rowAnyNAs, rowAnys, rowAvgsPerColSet,\n",
      "    rowCollapse, rowCounts, rowCummaxs, rowCummins, rowCumprods,\n",
      "    rowCumsums, rowDiffs, rowIQRDiffs, rowIQRs, rowLogSumExps,\n",
      "    rowMadDiffs, rowMads, rowMaxs, rowMeans2, rowMedians, rowMins,\n",
      "    rowOrderStats, rowProds, rowQuantiles, rowRanges, rowRanks,\n",
      "    rowSdDiffs, rowSds, rowSums2, rowTabulates, rowVarDiffs, rowVars,\n",
      "    rowWeightedMads, rowWeightedMeans, rowWeightedMedians,\n",
      "    rowWeightedSds, rowWeightedVars\n",
      "\n",
      "\n",
      "Loading required package: GenomicRanges\n",
      "\n",
      "Loading required package: stats4\n",
      "\n",
      "Loading required package: BiocGenerics\n",
      "\n",
      "Loading required package: parallel\n",
      "\n",
      "\n",
      "Attaching package: ‘BiocGenerics’\n",
      "\n",
      "\n",
      "The following objects are masked from ‘package:parallel’:\n",
      "\n",
      "    clusterApply, clusterApplyLB, clusterCall, clusterEvalQ,\n",
      "    clusterExport, clusterMap, parApply, parCapply, parLapply,\n",
      "    parLapplyLB, parRapply, parSapply, parSapplyLB\n",
      "\n",
      "\n",
      "The following objects are masked from ‘package:stats’:\n",
      "\n",
      "    IQR, mad, sd, var, xtabs\n",
      "\n",
      "\n",
      "The following objects are masked from ‘package:base’:\n",
      "\n",
      "    anyDuplicated, append, as.data.frame, basename, cbind, colnames,\n",
      "    dirname, do.call, duplicated, eval, evalq, Filter, Find, get, grep,\n",
      "    grepl, intersect, is.unsorted, lapply, Map, mapply, match, mget,\n",
      "    order, paste, pmax, pmax.int, pmin, pmin.int, Position, rank,\n",
      "    rbind, Reduce, rownames, sapply, setdiff, sort, table, tapply,\n",
      "    union, unique, unsplit, which.max, which.min\n",
      "\n",
      "\n",
      "Loading required package: S4Vectors\n",
      "\n",
      "\n",
      "Attaching package: ‘S4Vectors’\n",
      "\n",
      "\n",
      "The following object is masked from ‘package:base’:\n",
      "\n",
      "    expand.grid\n",
      "\n",
      "\n",
      "Loading required package: IRanges\n",
      "\n",
      "Loading required package: GenomeInfoDb\n",
      "\n",
      "Loading required package: Biobase\n",
      "\n",
      "Welcome to Bioconductor\n",
      "\n",
      "    Vignettes contain introductory material; view with\n",
      "    'browseVignettes()'. To cite Bioconductor, see\n",
      "    'citation(\"Biobase\")', and for packages 'citation(\"pkgname\")'.\n",
      "\n",
      "\n",
      "\n",
      "Attaching package: ‘Biobase’\n",
      "\n",
      "\n",
      "The following object is masked from ‘package:MatrixGenerics’:\n",
      "\n",
      "    rowMedians\n",
      "\n",
      "\n",
      "The following objects are masked from ‘package:matrixStats’:\n",
      "\n",
      "    anyMissing, rowMedians\n",
      "\n",
      "\n",
      "\n",
      "Attaching package: ‘SummarizedExperiment’\n",
      "\n",
      "\n",
      "The following object is masked from ‘package:SeuratObject’:\n",
      "\n",
      "    Assays\n",
      "\n",
      "\n",
      "The following object is masked from ‘package:Seurat’:\n",
      "\n",
      "    Assays\n",
      "\n",
      "\n"
     ]
    }
   ],
   "source": [
    "library(Seurat)\n",
    "#library(SeuratData)\n",
    "#InstallData(\"panc8\")\n",
    "\n",
    "library(SummarizedExperiment)"
   ]
  },
  {
   "cell_type": "code",
   "execution_count": 3,
   "id": "1d754aca",
   "metadata": {},
   "outputs": [
    {
     "name": "stderr",
     "output_type": "stream",
     "text": [
      "\n",
      "Attaching package: ‘patchwork’\n",
      "\n",
      "\n",
      "The following object is masked from ‘package:cowplot’:\n",
      "\n",
      "    align_plots\n",
      "\n",
      "\n"
     ]
    }
   ],
   "source": [
    "library(ggplot2)\n",
    "library(cowplot)\n",
    "library(patchwork)"
   ]
  },
  {
   "cell_type": "code",
   "execution_count": 4,
   "id": "a62b9358",
   "metadata": {
    "scrolled": true
   },
   "outputs": [
    {
     "data": {
      "text/html": [
       "'/data2/mito_lineage/Analysis/annotation/output/data//CHIP_april08_2021_Croker/MTblacklist/'"
      ],
      "text/latex": [
       "'/data2/mito\\_lineage/Analysis/annotation/output/data//CHIP\\_april08\\_2021\\_Croker/MTblacklist/'"
      ],
      "text/markdown": [
       "'/data2/mito_lineage/Analysis/annotation/output/data//CHIP_april08_2021_Croker/MTblacklist/'"
      ],
      "text/plain": [
       "[1] \"/data2/mito_lineage/Analysis/annotation/output/data//CHIP_april08_2021_Croker/MTblacklist/\""
      ]
     },
     "metadata": {},
     "output_type": "display_data"
    }
   ],
   "source": [
    "genedir <- outdir\n",
    "outdir <- file.path(outdir, prefix)\n",
    "outdir"
   ]
  },
  {
   "cell_type": "markdown",
   "id": "f9aa5c6e",
   "metadata": {},
   "source": [
    "## Import curr data and  granja data"
   ]
  },
  {
   "cell_type": "code",
   "execution_count": 5,
   "id": "69bbd091",
   "metadata": {},
   "outputs": [],
   "source": [
    "curr_SE <- readRDS(file.path(outdir, paste0(exp, \".cd34.rds\")))\n",
    "ext_SE <- readRDS(file.path(outdir, external_dat_file))\n",
    "\n",
    "curr_SE[['tech']] <- exp\n",
    "ext_SE[['tech']] <-'granja_cd34'\n",
    "\n",
    "C1boo <- subset(x = ext_SE, subset = Group %in% c(\"BM_pDC\", \"CLP\", \"CMP\", \"GMP\", \"HSC\", \"LMPP\", \"MEP\", \"Monocytes\", \"MPP\"))\n",
    "\n",
    "DefaultAssay(C1boo) <- 'peaks'\n",
    "DefaultAssay(curr_SE) <- 'peaks'\n",
    "\n",
    "\n",
    "scatac.list <- c(C1boo, curr_SE)\n"
   ]
  },
  {
   "cell_type": "code",
   "execution_count": 10,
   "id": "52408b53",
   "metadata": {},
   "outputs": [],
   "source": [
    "# colData <- fread(file.path(external_dat_dir, \"GSE129785_scATAC-Hematopoiesis-CD34.cell_barcodes.txt\")) %>% data.frame()\n",
    "# CD34boo <- colData$Group %in% c(\"CD34_Progenitors_Rep1\",\"CD34_Progenitors_Rep2\")\n",
    "# C1boo <-  colData$Group %in% c(\"BM_pDC\", \"CLP\", \"CMP\", \"GMP\", \"HSC\", \"LMPP\", \"MEP\", \"Monocytes\", \"MPP\")\n",
    "# SE_CD34 <- ext_SE[,CD34boo]\n",
    "# SE_C1 <- ext_SE[,C1boo]"
   ]
  },
  {
   "cell_type": "code",
   "execution_count": 13,
   "id": "844a2b3a",
   "metadata": {},
   "outputs": [],
   "source": [
    "# data(\"panc8\")\n",
    "# scatac.list <- SplitObject(panc8, split.by = \"tech\")\n",
    "# scatac.list <- scatac.list[c(\"celseq\", \"celseq2\", \"fluidigmc1\", \"smartseq2\")]"
   ]
  },
  {
   "cell_type": "code",
   "execution_count": null,
   "id": "4f70d523",
   "metadata": {},
   "outputs": [],
   "source": [
    "for (i in 1:length(scatac.list)) {\n",
    "    scatac.list[[i]] <- NormalizeData(scatac.list[[i]], verbose = FALSE)\n",
    "    scatac.list[[i]] <- FindVariableFeatures(scatac.list[[i]], nfeatures = 2000,\n",
    "        verbose = TRUE)\n",
    "}"
   ]
  },
  {
   "cell_type": "code",
   "execution_count": null,
   "id": "0eefa0db",
   "metadata": {
    "scrolled": true
   },
   "outputs": [],
   "source": [
    "reference.list <- scatac.list[c(1,2)]\n",
    "scatac.anchors <- FindIntegrationAnchors(object.list = reference.list, dims = 1:30, assay = c(\"RNA\",\"RNA\"))\n"
   ]
  },
  {
   "cell_type": "code",
   "execution_count": null,
   "id": "0bc26d13",
   "metadata": {
    "scrolled": true
   },
   "outputs": [],
   "source": [
    "scatac.integrated <- IntegrateData(anchorset = scatac.anchors, dims = 1:30)"
   ]
  },
  {
   "cell_type": "code",
   "execution_count": null,
   "id": "297b498f",
   "metadata": {
    "scrolled": false
   },
   "outputs": [],
   "source": [
    "\n",
    "# switch to integrated assay. The variable features of this assay are automatically set during\n",
    "# IntegrateData\n",
    "DefaultAssay(scatac.integrated) <- \"integrated\"\n",
    "# Run the standard workflow for visualization and clustering\n",
    "scatac.integrated <- ScaleData(scatac.integrated, verbose = FALSE)\n",
    "scatac.integrated <- RunPCA(scatac.integrated, npcs = 30, verbose = FALSE)\n",
    "scatac.integrated <- RunUMAP(scatac.integrated, reduction = \"pca\", dims = 1:30, verbose = FALSE)\n",
    "p1 <- DimPlot(scatac.integrated, reduction = \"umap\", group.by = \"tech\")\n",
    "p2 <- DimPlot(scatac.integrated, reduction = \"umap\", group.by = \"Group\", label = TRUE, repel = TRUE) +\n",
    "    NoLegend()\n",
    "p1 + p2"
   ]
  },
  {
   "cell_type": "code",
   "execution_count": null,
   "id": "ca0dee8e",
   "metadata": {},
   "outputs": [],
   "source": [
    "scatac.query <- scatac.list[[2]]\n",
    "scatac.anchors <- FindTransferAnchors(reference = scatac.integrated, query = scatac.query,\n",
    "    dims = 1:30, reference.reduction = \"pca\")\n",
    "predictions <- TransferData(anchorset = scatac.anchors, refdata = scatac.integrated$Group,\n",
    "    dims = 1:30)\n",
    "scatac.query <- AddMetaData(scatac.query, metadata = predictions)"
   ]
  },
  {
   "cell_type": "code",
   "execution_count": null,
   "id": "4697789e",
   "metadata": {},
   "outputs": [],
   "source": [
    "scatac.query$prediction.match <- scatac.query$predicted.id == scatac.query$Group\n",
    "table(scatac.query$prediction.match)\n"
   ]
  },
  {
   "cell_type": "code",
   "execution_count": null,
   "id": "38239582",
   "metadata": {},
   "outputs": [],
   "source": [
    "table(scatac.query$predicted.id)\n"
   ]
  },
  {
   "cell_type": "code",
   "execution_count": null,
   "id": "eb33c300",
   "metadata": {},
   "outputs": [],
   "source": [
    "scatac.integrated <- RunUMAP(scatac.integrated, dims = 1:30, reduction = \"pca\", return.model = TRUE)\n",
    "scatac.query <- MapQuery(anchorset = scatac.anchors, reference = scatac.integrated, query = scatac.query,\n",
    "    refdata = list(celltype = \"celltype\"), reference.reduction = \"pca\", reduction.model = \"umap\")"
   ]
  },
  {
   "cell_type": "code",
   "execution_count": null,
   "id": "f83aa7da",
   "metadata": {},
   "outputs": [],
   "source": [
    "p1 <- DimPlot(scatac.integrated, reduction = \"umap\", group.by = \"celltype\", label = TRUE, label.size = 3,\n",
    "    repel = TRUE) + NoLegend() + ggtitle(\"Reference annotations\")\n",
    "p2 <- DimPlot(scatac.query, reduction = \"ref.umap\", group.by = \"predicted.celltype\", label = TRUE,\n",
    "    label.size = 3, repel = TRUE) + NoLegend() + ggtitle(\"Query transferred labels\")\n",
    "p1 + p2"
   ]
  },
  {
   "cell_type": "code",
   "execution_count": null,
   "id": "0c8cd582",
   "metadata": {},
   "outputs": [],
   "source": []
  },
  {
   "cell_type": "markdown",
   "id": "68282514",
   "metadata": {},
   "source": [
    "# Unimodal UMAP Projection\n"
   ]
  },
  {
   "cell_type": "code",
   "execution_count": null,
   "id": "306ec699",
   "metadata": {},
   "outputs": [],
   "source": [
    "scatac.integrated <- RunUMAP(scatac.integrated, dims = 1:30, reduction = \"pca\", return.model = TRUE)\n",
    "scatac.query <- MapQuery(anchorset = scatac.anchors, reference = scatac.integrated, query = scatac.query,\n",
    "    refdata = list(celltype = \"celltype\"), reference.reduction = \"pca\", reduction.model = \"umap\")"
   ]
  },
  {
   "cell_type": "code",
   "execution_count": null,
   "id": "d14ad8fa",
   "metadata": {},
   "outputs": [],
   "source": [
    "scatac.query <- TransferData(anchorset = scatac.anchors, reference = scatac.integrated, query = scatac.query,\n",
    "    refdata = list(celltype = \"celltype\"))\n",
    "scatac.query <- IntegrateEmbeddings(anchorset = scatac.anchors, reference = scatac.integrated,\n",
    "    query = scatac.query, new.reduction.name = \"ref.pca\")\n",
    "scatac.query <- ProjectUMAP(query = scatac.query, query.reduction = \"ref.pca\", reference = scatac.integrated,\n",
    "    reference.reduction = \"pca\", reduction.model = \"umap\")\n"
   ]
  },
  {
   "cell_type": "code",
   "execution_count": null,
   "id": "8fdd3a55",
   "metadata": {},
   "outputs": [],
   "source": [
    "p1 <- DimPlot(scatac.integrated, reduction = \"umap\", group.by = \"celltype\", label = TRUE, label.size = 3,\n",
    "    repel = TRUE) + NoLegend() + ggtitle(\"Reference annotations\")\n",
    "p2 <- DimPlot(scatac.query, reduction = \"ref.umap\", group.by = \"predicted.celltype\", label = TRUE,\n",
    "    label.size = 3, repel = TRUE) + NoLegend() + ggtitle(\"Query transferred labels\")\n",
    "p1 + p2"
   ]
  }
 ],
 "metadata": {
  "celltoolbar": "Tags",
  "kernelspec": {
   "display_name": "R",
   "language": "R",
   "name": "ir"
  },
  "language_info": {
   "codemirror_mode": "r",
   "file_extension": ".r",
   "mimetype": "text/x-r-source",
   "name": "R",
   "pygments_lexer": "r",
   "version": "4.0.2"
  }
 },
 "nbformat": 4,
 "nbformat_minor": 5
}
