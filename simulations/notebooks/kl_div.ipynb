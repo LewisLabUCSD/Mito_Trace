{
 "cells": [
  {
   "cell_type": "code",
   "execution_count": 1,
   "metadata": {
    "ExecuteTime": {
     "end_time": "2020-06-02T01:07:26.260534Z",
     "start_time": "2020-06-02T01:07:25.934437Z"
    }
   },
   "outputs": [],
   "source": [
    "from kl_div import *"
   ]
  },
  {
   "cell_type": "code",
   "execution_count": 2,
   "metadata": {
    "ExecuteTime": {
     "end_time": "2020-06-02T01:07:26.274068Z",
     "start_time": "2020-06-02T01:07:26.262886Z"
    }
   },
   "outputs": [
    {
     "data": {
      "text/plain": [
       "0.1446215275432874"
      ]
     },
     "execution_count": 2,
     "metadata": {},
     "output_type": "execute_result"
    }
   ],
   "source": [
    "p = [1/3,1/3,1/3]\n",
    "q = [1/5,1/5,3/5]\n",
    "kl(p,q)"
   ]
  },
  {
   "cell_type": "code",
   "execution_count": 3,
   "metadata": {
    "ExecuteTime": {
     "end_time": "2020-06-02T01:07:26.286299Z",
     "start_time": "2020-06-02T01:07:26.276286Z"
    }
   },
   "outputs": [
    {
     "name": "stderr",
     "output_type": "stream",
     "text": [
      "/data2/mito_lineage/simulations/notebooks/kl_div.py:21: RuntimeWarning: divide by zero encountered in true_divide\n",
      "  return np.sum(np.where(p != 0, p * np.log(p / q), 0))\n"
     ]
    },
    {
     "data": {
      "text/plain": [
       "inf"
      ]
     },
     "execution_count": 3,
     "metadata": {},
     "output_type": "execute_result"
    }
   ],
   "source": [
    "p = [2/13, 8/13,3/13]\n",
    "q = [0,9/16,7/16]\n",
    "kl(p,q)"
   ]
  },
  {
   "cell_type": "code",
   "execution_count": 4,
   "metadata": {
    "ExecuteTime": {
     "end_time": "2020-06-02T01:07:26.293436Z",
     "start_time": "2020-06-02T01:07:26.288135Z"
    }
   },
   "outputs": [
    {
     "data": {
      "text/plain": [
       "0.08401562315916684"
      ]
     },
     "execution_count": 4,
     "metadata": {},
     "output_type": "execute_result"
    }
   ],
   "source": [
    "p = [2/9,3/9,4/9]\n",
    "q = [3/12,2/12,7/12]\n",
    "kl(p,q)"
   ]
  },
  {
   "cell_type": "code",
   "execution_count": 5,
   "metadata": {
    "ExecuteTime": {
     "end_time": "2020-06-02T01:07:42.333878Z",
     "start_time": "2020-06-02T01:07:42.328502Z"
    }
   },
   "outputs": [],
   "source": [
    "def kl(p, q):\n",
    "    \"\"\"Kullback-Leibler divergence D(P || Q) for discrete distributions\n",
    "    Parameters\n",
    "    ----------\n",
    "    p, q : array-like, dtype=float, shape=n\n",
    "    Discrete probability distributions.\n",
    "    \"\"\"\n",
    "    kl = 0\n",
    "    for ind, p_i in enumerate(p):\n",
    "        if q[ind] != 0:\n",
    "            kl += p_i*np.log2(p_i/q[ind])\n",
    "        else:\n",
    "            print('0 prob', ind)\n",
    "    return kl\n",
    "\n"
   ]
  },
  {
   "cell_type": "code",
   "execution_count": 6,
   "metadata": {
    "ExecuteTime": {
     "end_time": "2020-06-02T01:07:42.353025Z",
     "start_time": "2020-06-02T01:07:42.335849Z"
    }
   },
   "outputs": [
    {
     "data": {
      "text/plain": [
       "0.20864476059248732"
      ]
     },
     "execution_count": 6,
     "metadata": {},
     "output_type": "execute_result"
    }
   ],
   "source": [
    "p = [1/3,1/3,1/3]\n",
    "q = [1/5,1/5,3/5]\n",
    "kl(p,q)"
   ]
  },
  {
   "cell_type": "markdown",
   "metadata": {},
   "source": [
    "## This one doesnt work when 0 is kept , will lead to a negative value"
   ]
  },
  {
   "cell_type": "code",
   "execution_count": 7,
   "metadata": {
    "ExecuteTime": {
     "end_time": "2020-06-02T01:07:42.369935Z",
     "start_time": "2020-06-02T01:07:42.355048Z"
    }
   },
   "outputs": [
    {
     "name": "stdout",
     "output_type": "stream",
     "text": [
      "0 prob 0\n"
     ]
    },
    {
     "data": {
      "text/plain": [
       "-0.13318570577691197"
      ]
     },
     "execution_count": 7,
     "metadata": {},
     "output_type": "execute_result"
    }
   ],
   "source": [
    "p = [2/13, 8/13,3/13]\n",
    "q = [0,9/16,7/16]\n",
    "kl(p,q)"
   ]
  },
  {
   "cell_type": "code",
   "execution_count": 13,
   "metadata": {
    "ExecuteTime": {
     "end_time": "2020-06-02T01:11:38.580720Z",
     "start_time": "2020-06-02T01:11:38.574781Z"
    },
    "scrolled": true
   },
   "outputs": [
    {
     "data": {
      "text/plain": [
       "0.0836068108583535"
      ]
     },
     "execution_count": 13,
     "metadata": {},
     "output_type": "execute_result"
    }
   ],
   "source": [
    "p = [8/11,3/11]\n",
    "q = [9/16,7/16]\n",
    "kl(p,q)"
   ]
  },
  {
   "cell_type": "code",
   "execution_count": 16,
   "metadata": {
    "ExecuteTime": {
     "end_time": "2020-06-02T01:16:22.291708Z",
     "start_time": "2020-06-02T01:16:22.283171Z"
    }
   },
   "outputs": [
    {
     "data": {
      "text/plain": [
       "0.07391977357523952"
      ]
     },
     "execution_count": 16,
     "metadata": {},
     "output_type": "execute_result"
    }
   ],
   "source": [
    "p = [2/9,3/9,4/9]\n",
    "q = [3/10,2/10,5/10]\n",
    "kl(p,q)"
   ]
  },
  {
   "cell_type": "markdown",
   "metadata": {},
   "source": [
    "## See what happens when there are 0s"
   ]
  },
  {
   "cell_type": "code",
   "execution_count": 12,
   "metadata": {
    "ExecuteTime": {
     "end_time": "2020-06-02T01:10:33.230656Z",
     "start_time": "2020-06-02T01:10:33.220532Z"
    },
    "scrolled": true
   },
   "outputs": [
    {
     "data": {
      "text/plain": [
       "0.07993234757565426"
      ]
     },
     "execution_count": 12,
     "metadata": {},
     "output_type": "execute_result"
    }
   ],
   "source": [
    "p = [1/15,1/15,1/15,1/15,8/15,3/15]\n",
    "q = [1/20,1/20,1/20,1/20, 9/20,7/20]\n",
    "kl(p,q)"
   ]
  },
  {
   "cell_type": "code",
   "execution_count": 13,
   "metadata": {
    "ExecuteTime": {
     "end_time": "2020-06-02T01:11:38.580720Z",
     "start_time": "2020-06-02T01:11:38.574781Z"
    },
    "scrolled": true
   },
   "outputs": [
    {
     "data": {
      "text/plain": [
       "0.0836068108583535"
      ]
     },
     "execution_count": 13,
     "metadata": {},
     "output_type": "execute_result"
    }
   ],
   "source": [
    "p = [8/11,3/11]\n",
    "q = [9/16,7/16]\n",
    "kl(p,q)"
   ]
  },
  {
   "cell_type": "code",
   "execution_count": 14,
   "metadata": {
    "ExecuteTime": {
     "end_time": "2020-06-02T01:12:24.231849Z",
     "start_time": "2020-06-02T01:12:24.224500Z"
    },
    "scrolled": true
   },
   "outputs": [
    {
     "name": "stdout",
     "output_type": "stream",
     "text": [
      "0 prob 0\n",
      "0 prob 1\n",
      "0 prob 2\n",
      "0 prob 3\n"
     ]
    },
    {
     "data": {
      "text/plain": [
       "-0.26682492181610307"
      ]
     },
     "execution_count": 14,
     "metadata": {},
     "output_type": "execute_result"
    }
   ],
   "source": [
    "p = [1/15,1/15,1/15,1/15,8/15,3/15]\n",
    "q = [0,0,0,0,9/16,7/16]\n",
    "kl(p,q)"
   ]
  },
  {
   "cell_type": "markdown",
   "metadata": {},
   "source": [
    "----"
   ]
  }
 ],
 "metadata": {
  "kernelspec": {
   "display_name": "Python 3",
   "language": "python",
   "name": "python3"
  },
  "language_info": {
   "codemirror_mode": {
    "name": "ipython",
    "version": 3
   },
   "file_extension": ".py",
   "mimetype": "text/x-python",
   "name": "python",
   "nbconvert_exporter": "python",
   "pygments_lexer": "ipython3",
   "version": "3.7.3"
  }
 },
 "nbformat": 4,
 "nbformat_minor": 2
}
