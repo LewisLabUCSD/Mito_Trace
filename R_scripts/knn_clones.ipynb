{
 "cells": [
  {
   "cell_type": "markdown",
   "id": "84ad8d8d",
   "metadata": {},
   "source": [
    "## 01. Load mgatk variants (and filter if needed)"
   ]
  },
  {
   "cell_type": "code",
   "execution_count": 1,
   "id": "fec0e46a",
   "metadata": {
    "tags": [
     "parameters"
    ]
   },
   "outputs": [],
   "source": [
    "name = \"d1\"\n",
    "donor = 1\n",
    "cells_f = \"all\" #\"/data/isshamie/mito_lineage/output/pipeline/cd34norm/MTblacklist/data/merged/MT/cellr_True/numread_200/filters/minC10_minR50_topN0_hetT0.001_hetC10_hetCount5_bq20/mgatk/vireoIn/clones/variants_mgatkdonor/vireo/donor1/mgatk_donor/cells_meta.tsv\" \n",
    "outdir =  \"/data/isshamie/mito_lineage/output/pipeline/cd34norm/MTblacklist/data/merged/MT/cellr_True/numread_200/filters/minC10_minR50_topN0_hetT0.001_hetC10_hetCount5_bq20/mgatk/vireoIn/clones/variants_mgatkdonor/knn/kparam_3/donor1\"\n",
    "mgatk_in =  \"/data/isshamie/mito_lineage/output/pipeline/cd34norm/MTblacklist/data/merged/MT/cellr_True/numread_200/filters/minC10_minR50_topN0_hetT0.001_hetC10_hetCount5_bq20/mgatk/vireoIn//clones/variants_mgatkdonor/donor1/mgatk_donor/d1.af.tsv\" \n",
    "kparam = 3\n",
    "cells_col_val = 1\n",
    "#mgatk_in_full = \"/data/isshamie/mito_lineage/output/pipeline/cd34norm/MTblacklist/data/merged/MT/cellr_True/numread_200/filters/minC10_minR50_topN0_hetT0.001_hetC10_hetCount5_bq20/mgatk/vireoIn//clones/variants_mgatkdonor/donor1/mgatk_donor/d1.variant.rds\" \n",
    "\n",
    "# Cluster parameters\n",
    "#k.param <- 10\n",
    "# vars_f <- \"filter\" #filter, which uses additional filter parameters, or a tsv file where first column is variant names\n",
    "#cells_f <- \"all\" # all, or a cell tsv file where first column are the cell names\n",
    "cells_col <- \"donor\"\n",
    "cell_id_col <- \"ID\"\n",
    "\n",
    "\n",
    "# # Additional parameters if either vars or cells are do not have a file associated\n",
    "# n_cells_conf_detected <- 5\n",
    "# strand_correlation <- 0.65 \n",
    "# log10_vmr <- -2 \n",
    "# mean_coverage <- 20\n"
   ]
  },
  {
   "cell_type": "code",
   "execution_count": 2,
   "id": "1590b30a",
   "metadata": {},
   "outputs": [],
   "source": [
    "# SEall <- readRDS(mgatk_in) #\"/data2/mito_lineage/data/processed/mttrace/TcellDupi_may17_2021/MTblacklist/pre/filters/minC10_minR50_topN0_hetT0.001_hetC10_hetCount5_bq20/filter_mgatk/pre.signac.rds\")\n",
    "# SEall"
   ]
  },
  {
   "cell_type": "markdown",
   "id": "2021db31",
   "metadata": {},
   "source": [
    "## Subset on cells if given"
   ]
  },
  {
   "cell_type": "code",
   "execution_count": 3,
   "id": "2cfb5f5f",
   "metadata": {},
   "outputs": [],
   "source": [
    "modify_SEall <- function(se, cells){\n",
    "    ## Subset cells before calling variants\n",
    "    se$counts = se$counts[,which(rownames(se$depth) %in% cells)]\n",
    "    se$depth <- se$depth[which(rownames(se$depth) %in% cells), ]\n",
    "    return(se)\n",
    "}\n",
    "\n",
    "rowVars <- function(x, ...) {\n",
    "  Matrix::rowSums((x - Matrix::rowMeans(x, ...))^2, ...)/(dim(x)[2] - 1)\n",
    "}"
   ]
  },
  {
   "cell_type": "code",
   "execution_count": 4,
   "id": "89ad1cf4",
   "metadata": {
    "scrolled": true
   },
   "outputs": [],
   "source": [
    "if(cells_f != \"all\"){\n",
    "    SEall <- readRDS(stringr::str_replace(mgatk_in, \".variant.rds\", \".signac.rds\"))\n",
    "    cells <- read.table(cells_f, row.names=cell_id_col, sep=\"\\t\", header=T)\n",
    "    if(cells_col != \"\"){\n",
    "        cells <- cells[, cells_col==cells_col_val]\n",
    "    }\n",
    "    SEall <- SEall[rownames(SEall$depth) %in% rownames(cells), ]\n",
    "\n",
    "    cells <- rownames(SEall$depth)\n",
    "    se <- modify_SEall(SEall, cells)\n",
    "\n",
    "    se_mean <- (Matrix::rowMeans(se$counts))\n",
    "    se_var <- rowVars(se$counts)\n",
    "    se_vmr <- se_var/(se_mean + 0.00000000001)\n",
    "}"
   ]
  },
  {
   "cell_type": "markdown",
   "id": "3f4f86cf",
   "metadata": {},
   "source": [
    "### Load Libraries"
   ]
  },
  {
   "cell_type": "code",
   "execution_count": 5,
   "id": "a0ed2e78",
   "metadata": {
    "scrolled": true
   },
   "outputs": [
    {
     "name": "stderr",
     "output_type": "stream",
     "text": [
      "\n",
      "Attaching package: ‘dplyr’\n",
      "\n",
      "\n",
      "The following objects are masked from ‘package:data.table’:\n",
      "\n",
      "    between, first, last\n",
      "\n",
      "\n",
      "The following objects are masked from ‘package:stats’:\n",
      "\n",
      "    filter, lag\n",
      "\n",
      "\n",
      "The following objects are masked from ‘package:base’:\n",
      "\n",
      "    intersect, setdiff, setequal, union\n",
      "\n",
      "\n",
      "Loading required package: MatrixGenerics\n",
      "\n",
      "Loading required package: matrixStats\n",
      "\n",
      "\n",
      "Attaching package: ‘matrixStats’\n",
      "\n",
      "\n",
      "The following object is masked _by_ ‘.GlobalEnv’:\n",
      "\n",
      "    rowVars\n",
      "\n",
      "\n",
      "The following object is masked from ‘package:dplyr’:\n",
      "\n",
      "    count\n",
      "\n",
      "\n",
      "\n",
      "Attaching package: ‘MatrixGenerics’\n",
      "\n",
      "\n",
      "The following object is masked _by_ ‘.GlobalEnv’:\n",
      "\n",
      "    rowVars\n",
      "\n",
      "\n",
      "The following objects are masked from ‘package:matrixStats’:\n",
      "\n",
      "    colAlls, colAnyNAs, colAnys, colAvgsPerRowSet, colCollapse,\n",
      "    colCounts, colCummaxs, colCummins, colCumprods, colCumsums,\n",
      "    colDiffs, colIQRDiffs, colIQRs, colLogSumExps, colMadDiffs,\n",
      "    colMads, colMaxs, colMeans2, colMedians, colMins, colOrderStats,\n",
      "    colProds, colQuantiles, colRanges, colRanks, colSdDiffs, colSds,\n",
      "    colSums2, colTabulates, colVarDiffs, colVars, colWeightedMads,\n",
      "    colWeightedMeans, colWeightedMedians, colWeightedSds,\n",
      "    colWeightedVars, rowAlls, rowAnyNAs, rowAnys, rowAvgsPerColSet,\n",
      "    rowCollapse, rowCounts, rowCummaxs, rowCummins, rowCumprods,\n",
      "    rowCumsums, rowDiffs, rowIQRDiffs, rowIQRs, rowLogSumExps,\n",
      "    rowMadDiffs, rowMads, rowMaxs, rowMeans2, rowMedians, rowMins,\n",
      "    rowOrderStats, rowProds, rowQuantiles, rowRanges, rowRanks,\n",
      "    rowSdDiffs, rowSds, rowSums2, rowTabulates, rowVarDiffs, rowVars,\n",
      "    rowWeightedMads, rowWeightedMeans, rowWeightedMedians,\n",
      "    rowWeightedSds, rowWeightedVars\n",
      "\n",
      "\n",
      "Loading required package: GenomicRanges\n",
      "\n",
      "Loading required package: stats4\n",
      "\n",
      "Loading required package: BiocGenerics\n",
      "\n",
      "Loading required package: parallel\n",
      "\n",
      "\n",
      "Attaching package: ‘BiocGenerics’\n",
      "\n",
      "\n",
      "The following objects are masked from ‘package:parallel’:\n",
      "\n",
      "    clusterApply, clusterApplyLB, clusterCall, clusterEvalQ,\n",
      "    clusterExport, clusterMap, parApply, parCapply, parLapply,\n",
      "    parLapplyLB, parRapply, parSapply, parSapplyLB\n",
      "\n",
      "\n",
      "The following objects are masked from ‘package:dplyr’:\n",
      "\n",
      "    combine, intersect, setdiff, union\n",
      "\n",
      "\n",
      "The following objects are masked from ‘package:stats’:\n",
      "\n",
      "    IQR, mad, sd, var, xtabs\n",
      "\n",
      "\n",
      "The following objects are masked from ‘package:base’:\n",
      "\n",
      "    anyDuplicated, append, as.data.frame, basename, cbind, colnames,\n",
      "    dirname, do.call, duplicated, eval, evalq, Filter, Find, get, grep,\n",
      "    grepl, intersect, is.unsorted, lapply, Map, mapply, match, mget,\n",
      "    order, paste, pmax, pmax.int, pmin, pmin.int, Position, rank,\n",
      "    rbind, Reduce, rownames, sapply, setdiff, sort, table, tapply,\n",
      "    union, unique, unsplit, which.max, which.min\n",
      "\n",
      "\n",
      "Loading required package: S4Vectors\n",
      "\n",
      "\n",
      "Attaching package: ‘S4Vectors’\n",
      "\n",
      "\n",
      "The following objects are masked from ‘package:dplyr’:\n",
      "\n",
      "    first, rename\n",
      "\n",
      "\n",
      "The following objects are masked from ‘package:data.table’:\n",
      "\n",
      "    first, second\n",
      "\n",
      "\n",
      "The following object is masked from ‘package:base’:\n",
      "\n",
      "    expand.grid\n",
      "\n",
      "\n",
      "Loading required package: IRanges\n",
      "\n",
      "\n",
      "Attaching package: ‘IRanges’\n",
      "\n",
      "\n",
      "The following objects are masked from ‘package:dplyr’:\n",
      "\n",
      "    collapse, desc, slice\n",
      "\n",
      "\n",
      "The following object is masked from ‘package:data.table’:\n",
      "\n",
      "    shift\n",
      "\n",
      "\n",
      "Loading required package: GenomeInfoDb\n",
      "\n",
      "Loading required package: Biobase\n",
      "\n",
      "Welcome to Bioconductor\n",
      "\n",
      "    Vignettes contain introductory material; view with\n",
      "    'browseVignettes()'. To cite Bioconductor, see\n",
      "    'citation(\"Biobase\")', and for packages 'citation(\"pkgname\")'.\n",
      "\n",
      "\n",
      "\n",
      "Attaching package: ‘Biobase’\n",
      "\n",
      "\n",
      "The following object is masked from ‘package:MatrixGenerics’:\n",
      "\n",
      "    rowMedians\n",
      "\n",
      "\n",
      "The following objects are masked from ‘package:matrixStats’:\n",
      "\n",
      "    anyMissing, rowMedians\n",
      "\n",
      "\n",
      "\n",
      "Attaching package: ‘Matrix’\n",
      "\n",
      "\n",
      "The following object is masked from ‘package:S4Vectors’:\n",
      "\n",
      "    expand\n",
      "\n",
      "\n",
      "Loading required package: MASS\n",
      "\n",
      "\n",
      "Attaching package: ‘MASS’\n",
      "\n",
      "\n",
      "The following object is masked from ‘package:dplyr’:\n",
      "\n",
      "    select\n",
      "\n",
      "\n",
      "Loading required package: ggplot2\n",
      "\n",
      "\n",
      "Attaching package: ‘future’\n",
      "\n",
      "\n",
      "The following object is masked from ‘package:SummarizedExperiment’:\n",
      "\n",
      "    values\n",
      "\n",
      "\n",
      "The following object is masked from ‘package:GenomicRanges’:\n",
      "\n",
      "    values\n",
      "\n",
      "\n",
      "The following object is masked from ‘package:IRanges’:\n",
      "\n",
      "    values\n",
      "\n",
      "\n",
      "The following object is masked from ‘package:S4Vectors’:\n",
      "\n",
      "    values\n",
      "\n",
      "\n"
     ]
    },
    {
     "data": {
      "text/html": [
       "<pre class=language-r><code>structure(function (..., envir = parent.frame()) \n",
       "{\n",
       "<span style=white-space:pre-wrap>    future &lt;- SequentialFuture(..., envir = envir)</span>\n",
       "<span style=white-space:pre-wrap>    if (!future$lazy) </span>\n",
       "<span style=white-space:pre-wrap>        future &lt;- run(future)</span>\n",
       "<span style=white-space:pre-wrap>    invisible(future)</span>\n",
       "}, class = c(\"FutureStrategy\", \"sequential\", \"uniprocess\", \"future\", \n",
       "\"function\"))</code></pre>"
      ],
      "text/latex": [
       "\\begin{minted}{r}\n",
       "structure(function (..., envir = parent.frame()) \n",
       "\\{\n",
       "    future <- SequentialFuture(..., envir = envir)\n",
       "    if (!future\\$lazy) \n",
       "        future <- run(future)\n",
       "    invisible(future)\n",
       "\\}, class = c(\"FutureStrategy\", \"sequential\", \"uniprocess\", \"future\", \n",
       "\"function\"))\n",
       "\\end{minted}"
      ],
      "text/markdown": [
       "```r\n",
       "structure(function (..., envir = parent.frame()) \n",
       "{\n",
       "    future <- SequentialFuture(..., envir = envir)\n",
       "    if (!future$lazy) \n",
       "        future <- run(future)\n",
       "    invisible(future)\n",
       "}, class = c(\"FutureStrategy\", \"sequential\", \"uniprocess\", \"future\", \n",
       "\"function\"))\n",
       "```"
      ],
      "text/plain": [
       "sequential:\n",
       "- args: function (..., envir = parent.frame())\n",
       "- tweaked: FALSE\n",
       "- call: NULL"
      ]
     },
     "metadata": {},
     "output_type": "display_data"
    },
    {
     "name": "stderr",
     "output_type": "stream",
     "text": [
      "Attaching SeuratObject\n",
      "\n",
      "\n",
      "Attaching package: ‘Seurat’\n",
      "\n",
      "\n",
      "The following object is masked from ‘package:SummarizedExperiment’:\n",
      "\n",
      "    Assays\n",
      "\n",
      "\n"
     ]
    }
   ],
   "source": [
    "library(data.table)\n",
    "library(dplyr)\n",
    "library(SummarizedExperiment)\n",
    "library(Matrix)\n",
    "library(BuenColors)\n",
    "\n",
    "library(future)\n",
    "plan()\n",
    "#plan(\"multiprocess\", workers = workers)\n",
    "options(future.globals.maxSize = 8000 * 1024^2)\n",
    "\n",
    "library(Seurat)\n",
    "library(Signac)"
   ]
  },
  {
   "cell_type": "markdown",
   "id": "b98b7d2a",
   "metadata": {},
   "source": [
    "## 02. Cluster using Seurat FindNeighbors (S-NN graph ) and FindClusters (louvain)"
   ]
  },
  {
   "cell_type": "code",
   "execution_count": 6,
   "id": "0633457e",
   "metadata": {
    "scrolled": true
   },
   "outputs": [],
   "source": [
    "getNN <- function(mat_af, k.param = 10){\n",
    "  set.seed(1)\n",
    "  rownames(mat_af) <- make.unique(rownames(mat_af))\n",
    "  obj <- FindNeighbors(mat_af, k.param = k.param, annoy.metric = \"cosine\")\n",
    "  obj\n",
    "}\n",
    "\n",
    "# Function to use Seurat functions to call mitochondrial cluster clones\n",
    "seuratSNN_cosineDistance <- function(obj, resolution){\n",
    "  clusters <- FindClusters(object = obj$snn, resolution = resolution)\n",
    "  return(as.character(clusters[,1]))\n",
    "}\n"
   ]
  },
  {
   "cell_type": "code",
   "execution_count": 7,
   "id": "87d70ea4",
   "metadata": {
    "scrolled": true
   },
   "outputs": [],
   "source": [
    "plot_af_clusters <- function(afin, cluster_name){\n",
    "    mdf <- data.frame(cluster_name, t(afin), check.names=F) %>%\n",
    "    group_by(cluster_name) %>% dplyr::filter(n() >= 5) %>% summarize_all(.funs = mean)\n",
    "\n",
    "    melt_df <- reshape2::melt(mdf, id.vars = \"cluster_name\")\n",
    "\n",
    "    # This series of arrangements is for aesthetics\n",
    "    melt_df2 <- melt_df %>% mutate(g5 = value >= 0.05, g1 = value >= 0.01, sqrt = sqrt(value)) %>%  group_by(variable) %>%\n",
    "    mutate(total_g1 = sum(g1)) %>% mutate(total_g5 = sum(g5)) %>% \n",
    "    arrange(desc((g5)), desc((g1))) %>% dplyr::filter(total_g1 > 0) \n",
    "\n",
    "    # More aesthetics\n",
    "    melt_df2$cluster_name <- factor(as.character(melt_df2$cluster_name ), levels = rev(unique( as.character(melt_df2$cluster_name))))\n",
    "    melt_df2$variable <- factor(as.character(melt_df2$variable ), levels = (unique( as.character(melt_df2$variable))))\n",
    "    melt_df2$value <- ifelse(melt_df2$value > 0.05, 1, melt_df2$value)\n",
    "    melt_df2$value <- ifelse(melt_df2$value < 0.005, 0, melt_df2$value)\n",
    "    \n",
    "\n",
    "    # Visualize heatmap of clusters x variants number cells > 0.01\n",
    "    p.numvar1 <- ggplot(melt_df2 , aes(x = variable, y = cluster_name, fill = total_g5)) +\n",
    "    geom_tile() +\n",
    "    scale_fill_gradientn(colors = jdb_palette(\"solar_rojos\")) +\n",
    "    theme(axis.text.x=element_blank(),\n",
    "          axis.ticks.x=element_blank()) +\n",
    "    theme(axis.title.y=element_blank(),\n",
    "          axis.text.y=element_blank(),\n",
    "          axis.ticks.y=element_blank()) +\n",
    "    xlab(\"Variant\") +\n",
    "    ggtitle(\"Total number of cells greater than 0.05 in variant\") +\n",
    "    L_border() #+\n",
    "    #theme(legend.position = \"none\")\n",
    "    ggsave(file.path(outdir, paste0(name,\".variants.g5.png\")))\n",
    "    #ggsave(file.path(outdir, \"variants.png\"))\n",
    "    #cowplot::ggsave(p1, file = paste0(\"../plots/mutations_clones_\",what,\"_invivo_grid.pdf\"), width = 3.2, height = 1.5)\n",
    "    print(length(unique(melt_df2$variable)))\n",
    "    print(length(unique(melt_df2$cluster_name)))\n",
    "\n",
    "    # Visualize heatmap of clusters x variants\n",
    "    p.bin <- ggplot(melt_df2 , aes(x = variable, y = cluster_name, fill = value)) +\n",
    "    geom_tile() +\n",
    "    scale_fill_gradientn(colors = jdb_palette(\"solar_rojos\")) +\n",
    "    theme(axis.text.x=element_blank(),\n",
    "          axis.ticks.x=element_blank()) +\n",
    "    theme(axis.text.y=element_blank(),\n",
    "          axis.ticks.y=element_blank()) +\n",
    "    xlab(\"Variant\") +\n",
    "    ylab(\"Cluster\") +\n",
    "    ggtitle(\"Variant avg greater than 0.05 set to 1 and <0.005 to 0\") +\n",
    "    L_border() #+\n",
    "           \n",
    "    #theme(legend.position = \"none\")\n",
    "    print(\"Number of variants\")\n",
    "    print(length(unique(melt_df2$variable)))\n",
    "    print(\"Number of clusters\")\n",
    "    print(length(unique(melt_df2$cluster_name)))\n",
    "    ggsave(file.path(outdir, paste0(name, \".variants.binary.png\")))\n",
    "    \n",
    "    p.varmean <- ggplot(melt_df2 , aes(x = variable, y = cluster_name, fill = sqrt)) +\n",
    "    geom_tile() +\n",
    "    scale_fill_gradientn(colors = jdb_palette(\"solar_rojos\")) +\n",
    "    theme(axis.text.x=element_blank(),\n",
    "          axis.ticks.x=element_blank()) +\n",
    "    theme(axis.title.y=element_text(\"Cluster\"),\n",
    "          axis.text.y=element_blank(),\n",
    "          axis.ticks.y=element_blank()) +\n",
    "    xlab(\"Variant\") +\n",
    "    ylab(\"Cluster\") +\n",
    "    ggtitle(\"Sqrt Mean AF in each cluster\") +\n",
    "    L_border() #+\n",
    "    ggsave(file.path(outdir, paste0(name,\".variants.labels.png\")))\n",
    "    #theme(legend.position = \"none\")\n",
    "\n",
    "    return(c(melt_df2, p.numvar1, p.varmean))\n",
    "}"
   ]
  },
  {
   "cell_type": "code",
   "execution_count": 8,
   "id": "1b184dfd",
   "metadata": {},
   "outputs": [],
   "source": [
    "run_clones <- function(SE, curr_out, k.param){\n",
    "    afin <- data.matrix(assays(SE)[[\"allele_frequency\"]])\n",
    "    # Since the PBMCs alone undercalled the mutations, we will examine the mutations called in the PBMCs and CD34s together\n",
    "    obj <- getNN(t(sqrt(afin)), k.param=k.param)\n",
    "    clusters <- seuratSNN_cosineDistance(obj, resolution = 3.5) \n",
    "    cluster_name <- stringr::str_pad(as.character(clusters), 3, pad = \"0\")\n",
    "    table(cluster_name)\n",
    "    saveRDS(clusters, file.path(curr_out, \"clusters.rds\"))\n",
    "    saveRDS(obj, file.path(curr_out, \"af.dimRed.rds\"))\n",
    "    cell_clusters <- data.frame(ID=colnames(afin), lineage=cluster_name, donor=donor)\n",
    "    write.table(cell_clusters, file.path(curr_out, \"cells_meta.tsv\"), row.names=F, sep=\"\\t\", quote=F)\n",
    "    out <- plot_af_clusters(afin, cluster_name)\n",
    "    melt_df2 <- out[[1]]\n",
    "    write.table(melt_df2, file.path(curr_out, \"var_clusters.tsv\"), row.names=F, sep=\"\\t\", quote=F)\n",
    "    return(out)\n",
    "}"
   ]
  },
  {
   "cell_type": "markdown",
   "id": "cf0f8f3c",
   "metadata": {},
   "source": [
    "# Run workflow"
   ]
  },
  {
   "cell_type": "code",
   "execution_count": 9,
   "id": "4b6842a0",
   "metadata": {
    "scrolled": true
   },
   "outputs": [
    {
     "name": "stdout",
     "output_type": "stream",
     "text": [
      "[1] \"before filter\"\n",
      "[1] 49704  3750\n",
      "[1] \"after filter\"\n"
     ]
    }
   ],
   "source": [
    "mgatk <- read.table(mgatk_in, sep=\"\\t\", header=T, check.names=F) \n",
    "SE <- readRDS(stringr::str_replace(mgatk_in, \".af.tsv\",\".variant.rds\"))\n",
    "#SE <- readRDS(mgatk_in_full)\n",
    "print(\"before filter\")\n",
    "print(dim(assays(SE)[[\"allele_frequency\"]]))\n",
    "print(\"after filter\")\n",
    "SE <- SE[which(rownames(rowData(SE)) %in% rownames(mgatk)), which(colnames(assay(SE, \"allele_frequency\")) %in% colnames(mgatk))]"
   ]
  },
  {
   "cell_type": "code",
   "execution_count": 10,
   "id": "1c0479e1",
   "metadata": {
    "scrolled": true
   },
   "outputs": [
    {
     "name": "stdout",
     "output_type": "stream",
     "text": [
      "[1] \"clones w all cells\"\n"
     ]
    },
    {
     "name": "stderr",
     "output_type": "stream",
     "text": [
      "Computing nearest neighbor graph\n",
      "\n",
      "Computing SNN\n",
      "\n"
     ]
    },
    {
     "name": "stdout",
     "output_type": "stream",
     "text": [
      "Modularity Optimizer version 1.3.0 by Ludo Waltman and Nees Jan van Eck\n",
      "\n",
      "Number of nodes: 3750\n",
      "Number of edges: 409549\n",
      "\n",
      "Running Louvain algorithm...\n",
      "Maximum modularity in 10 random starts: 0.0776\n",
      "Number of communities: 517\n",
      "Elapsed time: 1 seconds\n"
     ]
    },
    {
     "name": "stderr",
     "output_type": "stream",
     "text": [
      "458 singletons identified. 59 final clusters.\n",
      "\n",
      "Saving 6.67 x 6.67 in image\n",
      "\n"
     ]
    },
    {
     "name": "stdout",
     "output_type": "stream",
     "text": [
      "[1] 99\n",
      "[1] 44\n",
      "[1] \"Number of variants\"\n",
      "[1] 99\n",
      "[1] \"Number of clusters\"\n",
      "[1] 44\n"
     ]
    },
    {
     "name": "stderr",
     "output_type": "stream",
     "text": [
      "Saving 6.67 x 6.67 in image\n",
      "\n",
      "Saving 6.67 x 6.67 in image\n",
      "\n"
     ]
    }
   ],
   "source": [
    "#colnames(SE) <- lapply(colnames(SE), function(x) paste0(x, name))\n",
    "print(\"clones w all cells\")\n",
    "#curr_SE <- SE #filt_vars(SE, cells_f, vars_f)\n",
    "out <- run_clones(SE, outdir, k.param=kparam)"
   ]
  },
  {
   "cell_type": "code",
   "execution_count": null,
   "id": "2ab251fb",
   "metadata": {},
   "outputs": [],
   "source": []
  },
  {
   "cell_type": "code",
   "execution_count": null,
   "id": "9f6bc2c9",
   "metadata": {},
   "outputs": [],
   "source": []
  },
  {
   "cell_type": "code",
   "execution_count": null,
   "id": "311cba2f",
   "metadata": {},
   "outputs": [],
   "source": []
  }
 ],
 "metadata": {
  "celltoolbar": "Tags",
  "kernelspec": {
   "display_name": "R",
   "language": "R",
   "name": "ir"
  },
  "language_info": {
   "codemirror_mode": "r",
   "file_extension": ".r",
   "mimetype": "text/x-r-source",
   "name": "R",
   "pygments_lexer": "r",
   "version": "4.1.1"
  }
 },
 "nbformat": 4,
 "nbformat_minor": 5
}
