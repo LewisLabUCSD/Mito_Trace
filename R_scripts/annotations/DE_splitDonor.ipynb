{
 "cells": [
  {
   "cell_type": "markdown",
   "id": "223d6f46",
   "metadata": {},
   "source": [
    "## Runs DE on different clusters. Also runs DE within each cluster for each condition"
   ]
  },
  {
   "cell_type": "code",
   "execution_count": null,
   "id": "235ae72f",
   "metadata": {
    "tags": [
     "parameters"
    ]
   },
   "outputs": [],
   "source": [
    "rm_clust = \"6\"\n",
    "integrated_f = \"/data2/isshamie/mito_lineage/output/annotation/TcellDupi_may17_2021/MTblacklist/mergedSamples/allSamples.integrated.rds\"\n",
    "outdir = \"/data2/isshamie/mito_lineage/output/annotation/TcellDupi_may17_2021/MTblacklist/mergedSamples/DErmClust/\" \n",
    "sample_names = \"pre,post\"\n",
    "\n",
    "nTop = 25000\n",
    "assay=\"RNA\"\n",
    "cores = 4\n",
    "comps_f = \"\""
   ]
  },
  {
   "cell_type": "code",
   "execution_count": null,
   "id": "f0586405",
   "metadata": {},
   "outputs": [],
   "source": [
    "clust_outdir = file.path(outdir, \"clusters\")\n",
    "clust_atac_outdir = file.path(outdir, \"clusters_atac\")\n",
    "cond_outdir = file.path(outdir, \"conditions_clusters\")\n",
    "cons_outdir = file.path(outdir, \"conditions_conserved\")\n",
    "dir.create(outdir, showWarnings = FALSE)\n",
    "dir.create(clust_outdir, showWarnings = FALSE)\n",
    "dir.create(cond_outdir, showWarnings = FALSE)\n",
    "dir.create(cons_outdir, showWarnings = FALSE)\n",
    "dir.create(clust_atac_outdir, showWarnings = FALSE)"
   ]
  },
  {
   "cell_type": "code",
   "execution_count": null,
   "id": "c2c99fc4",
   "metadata": {
    "scrolled": true
   },
   "outputs": [],
   "source": [
    "sample_names <- unlist(strsplit(sample_names, \",\")[[1]])\n",
    "#samples <- unlist(strsplit(samples, \",\"))\n",
    "\n",
    "sample_names"
   ]
  },
  {
   "cell_type": "code",
   "execution_count": null,
   "id": "aad4f638",
   "metadata": {
    "scrolled": true
   },
   "outputs": [],
   "source": [
    "library(GenomicRanges)\n",
    "library(Seurat)\n",
    "library(Signac)\n",
    "library(GenomeInfoDb)\n",
    "library(EnsDb.Hsapiens.v75)\n",
    "library(ggplot2)\n",
    "library(patchwork)\n",
    "set.seed(1234)\n",
    "library(data.table)\n",
    "library(magrittr)\n",
    "library(cowplot)\n",
    "library(metap)\n",
    "library(\"RColorBrewer\")\n",
    "\n",
    "library(future)\n",
    "plan()\n",
    "\n",
    "plan(\"multiprocess\", workers = cores)\n",
    "#options(future.globals.maxSize = 50000 * 1024^2) # for 50 Gb RAM\n",
    "options(future.globals.maxSize = 8000 * 1024^2)"
   ]
  },
  {
   "cell_type": "code",
   "execution_count": null,
   "id": "7cc056e3",
   "metadata": {
    "scrolled": true
   },
   "outputs": [],
   "source": [
    "integrated <- readRDS(integrated_f)#file.path(indir, paste0(\"allSamples.integrated.rds\")))\n",
    "integrated"
   ]
  },
  {
   "cell_type": "code",
   "execution_count": null,
   "id": "d2cf729d",
   "metadata": {
    "scrolled": true
   },
   "outputs": [],
   "source": [
    "integrated[['peak_region_fragments']]"
   ]
  },
  {
   "cell_type": "code",
   "execution_count": null,
   "id": "ed19d532",
   "metadata": {},
   "outputs": [],
   "source": [
    "integrated[[]]"
   ]
  },
  {
   "cell_type": "markdown",
   "id": "0ece3bc9",
   "metadata": {},
   "source": [
    "## Compute DE for each cluster"
   ]
  },
  {
   "cell_type": "code",
   "execution_count": null,
   "id": "4041788f",
   "metadata": {},
   "outputs": [],
   "source": [
    "plotDE <- function(integrated, de.results, i, outdir){\n",
    "    try\n",
    "    {\n",
    "    plot1 <- VlnPlot(\n",
    "      object = integrated,\n",
    "      features = rownames(de.results)[1],\n",
    "      pt.size = 0.1,\n",
    "      idents = i\n",
    "    )\n",
    "    plot2 <- FeaturePlot(\n",
    "      object = integrated,\n",
    "      features = rownames(de.results)[1],\n",
    "      pt.size = 0.1\n",
    "    )\n",
    "\n",
    "    plot3 <- FeaturePlot(\n",
    "      object = integrated,\n",
    "      features = rownames(de.results)[2],\n",
    "      pt.size = 0.1\n",
    "    )\n",
    "    \n",
    "    plot1 | plot2 | plot3\n",
    "    \n",
    "    ggsave(file.path(outdir,paste0(\"cluster_\",i,\".DE.GeneActivity.top2.png\")))\n",
    "    \n",
    "    return(c(plot1, plot2, plot3))\n",
    "    }\n",
    "    return\n",
    "}"
   ]
  },
  {
   "cell_type": "markdown",
   "id": "bd32ff64",
   "metadata": {},
   "source": [
    "## Loop through each cluster and run DA for RNA-seq"
   ]
  },
  {
   "cell_type": "code",
   "execution_count": null,
   "id": "6d434b00",
   "metadata": {
    "scrolled": true
   },
   "outputs": [],
   "source": [
    "\n",
    "cluster.ids <- sort(unique(integrated$seurat_clusters))\n",
    "for (i in cluster.ids){ #or however many clusters you have\n",
    "try({\n",
    "    print(paste(\"cluster\", i))\n",
    "    da.peaks <- FindMarkers(\n",
    "                  object = integrated,\n",
    "                  ident.1 = i, #\"CD4 Naive\",\n",
    "                  min.pct = 0.1,\n",
    "                  test.use = 'LR', latent.vars = 'peak_region_fragments'\n",
    "                )\n",
    "    print(file.path(clust_outdir, paste0(\"cluster_\",i,\".DE.GeneActivity.csv\")))\n",
    "    print(head(da.peaks))\n",
    "    write.csv(da.peaks, file=file.path(clust_outdir, paste0(\"cluster_\",i,\".DE.GeneActivity.csv\")))\n",
    "    print(paste('saved cluster', i))\n",
    "    plotDE(integrated, da.peaks, i, clust_outdir)\n",
    "    print(paste('plotted cluster', i))\n",
    "    \n",
    "})\n",
    "}"
   ]
  },
  {
   "cell_type": "markdown",
   "id": "c0c6178c",
   "metadata": {},
   "source": [
    "## Loop through each cluster and run DA for ATAC-seq"
   ]
  },
  {
   "cell_type": "code",
   "execution_count": null,
   "id": "20fe38a9",
   "metadata": {
    "scrolled": true
   },
   "outputs": [],
   "source": [
    "DefaultAssay(integrated) <- \"ATAC\"\n",
    "cluster.ids <- sort(unique(integrated$seurat_clusters))\n",
    "for (i in cluster.ids){ #or however many clusters you have\n",
    "try({\n",
    "    print(paste(\"cluster\", i))\n",
    "    da.peaks <- FindMarkers(\n",
    "                  object = integrated,\n",
    "                  ident.1 = i, #\"CD4 Naive\",\n",
    "                  min.pct = 0.1,\n",
    "                  test.use = 'LR', latent.vars = 'peak_region_fragments'\n",
    "                )\n",
    "    print(head(da.peaks))\n",
    "    write.csv(da.peaks, file=file.path(clust_atac_outdir, paste0(\"cluster_\",i,\".DE.PeakActivity.csv\")))\n",
    "    print(paste('saved cluster', i))\n",
    "    plotDE(integrated, da.peaks, i, clust_atac_outdir)\n",
    "    print(paste('plotted cluster', i))\n",
    "    \n",
    "})\n",
    "}\n",
    "\n",
    "# put back to RNA\n",
    "DefaultAssay(integrated) <- \"RNA\"\n"
   ]
  },
  {
   "cell_type": "markdown",
   "id": "07575123",
   "metadata": {},
   "source": [
    "## Stimulus specific response"
   ]
  },
  {
   "cell_type": "code",
   "execution_count": null,
   "id": "0ac005f6",
   "metadata": {},
   "outputs": [],
   "source": [
    "stimout <- function(outdir, sample_names){\n",
    "    cluster.ids <- sort(unique(integrated$seurat_clusters))\n",
    "    integrated$celltype.stim <- paste(integrated$seurat_clusters, integrated$orig.ident, sep = \"_\")\n",
    "    integrated$celltype <- integrated$seurat_clusters\n",
    "    Idents(integrated) <- \"celltype.stim\"\n",
    "\n",
    "    for (c in cluster.ids){\n",
    "        try({\n",
    "            response <- FindMarkers(integrated, \n",
    "                                    ident.1 = paste0(c, \"_\", sample_names[[1]]), \n",
    "                                    ident.2 = paste0(c, \"_\", sample_names[[2]]), \n",
    "                                    verbose = FALSE,\n",
    "                                    test.use = 'LR', min.pct = 0.1,\n",
    "                                    latent.vars = 'peak_region_fragments'\n",
    "                                   )\n",
    "            if (!(dim(response)[1]==0)){\n",
    "\n",
    "                print(head(response, n = 15))\n",
    "                curr_clust <- subset(integrated, seurat_clusters == c)\n",
    "                avg_curr_clust <- data.frame(log1p(AverageExpression(curr_clust, verbose = FALSE)$RNA))\n",
    "                avg_curr_clust$gene <- rownames(avg_curr_clust)\n",
    "\n",
    "                p1 <- ggplot(avg_curr_clust, aes_string(paste0(\"X\", c, \"_\", sample_names[[1]]), paste0(\"X\", c, \"_\", sample_names[[2]]))) + geom_point() + ggtitle(paste(\"Cluster\", c))\n",
    "                p1 <- LabelPoints(plot = p1, points = rownames(head(response, n = 15)), repel = TRUE)\n",
    "                plot_grid(p1)\n",
    "                write.csv(response, file=file.path(outdir,paste0(\"cluster_\",i,\".conditionDE.csv\")))\n",
    "                ggsave(file.path(outdir,paste0(\"cluster_\",i,\".conditionScatter.png\")))\n",
    "\n",
    "            }\n",
    "        })\n",
    "\n",
    "    }\n",
    "}\n",
    "\n"
   ]
  },
  {
   "cell_type": "code",
   "execution_count": null,
   "id": "a759c62a",
   "metadata": {
    "scrolled": true
   },
   "outputs": [],
   "source": [
    "if ((comps_f==\"\") | comps_f == \"NULL\"){\n",
    "    stimout(cond_outdir, sample_names)\n",
    "\n",
    "}else{\n",
    "    comps <- unlist(strsplit(comps_f, \";\")[[1]])\n",
    "    comps <- lapply(comps, function(x) unlist(strsplit(x, ',')[[1]]))\n",
    "    for (i in comps){\n",
    "        print(i)\n",
    "        curr_sample_names <- i[2:3]\n",
    "        curr_cond_outdir <- file.path(cond_outdir, i[1])\n",
    "        dir.create(curr_cond_outdir, showWarnings = FALSE)\n",
    "        stimout(curr_cond_outdir, curr_sample_names)\n",
    "    }\n",
    "}\n",
    "\n",
    "# comps_f <- \"A,preA,postA\"#;B,preB,postB\"\n",
    "# comps <- unlist(strsplit(comps_f, \";\")[[1]])\n",
    "# #samples <- unlist(strsplit(samples, \",\"))\n",
    "\n",
    "# comps <- lapply(comps, function(x) unlist(strsplit(x, ',')[[1]]))\n",
    "# comps\n",
    "# for (i in comps){\n",
    "#     print(i)\n",
    "#     sample_names <- i[2:3]\n",
    "# }\n",
    "# sample_names\n",
    "\n",
    "\n",
    "                    \n",
    "# cluster.ids <- sort(unique(integrated$seurat_clusters))\n",
    "# integrated$celltype.stim <- paste(integrated$seurat_clusters, integrated$orig.ident, sep = \"_\")\n",
    "# integrated$celltype <- integrated$seurat_clusters\n",
    "# Idents(integrated) <- \"celltype.stim\"\n",
    "\n",
    "# for (c in cluster.ids){\n",
    "#     try({\n",
    "#         response <- FindMarkers(integrated, \n",
    "#                                 ident.1 = paste0(c, \"_\", sample_names[[1]]), \n",
    "#                                 ident.2 = paste0(c, \"_\", sample_names[[2]]), \n",
    "#                                 verbose = FALSE,\n",
    "#                                 test.use = 'LR', min.pct = 0.1,\n",
    "#                                 latent.vars = 'peak_region_fragments'\n",
    "#                                )\n",
    "#         if (!(dim(response)[1]==0)){\n",
    "\n",
    "#             print(head(response, n = 15))\n",
    "#             curr_clust <- subset(integrated, seurat_clusters == c)\n",
    "#             avg_curr_clust <- data.frame(log1p(AverageExpression(curr_clust, verbose = FALSE)$RNA))\n",
    "#             avg_curr_clust$gene <- rownames(avg_curr_clust)\n",
    "\n",
    "#             p1 <- ggplot(avg_curr_clust, aes_string(paste0(\"X\", c, \"_\", sample_names[[1]]), paste0(\"X\", c, \"_\", sample_names[[2]]))) + geom_point() + ggtitle(paste(\"Cluster\", c))\n",
    "#             p1 <- LabelPoints(plot = p1, points = rownames(head(response, n = 15)), repel = TRUE)\n",
    "#             plot_grid(p1)\n",
    "#             write.csv(response, file=file.path(cond_outdir,paste0(\"cluster_\",i,\".conditionDE.csv\")))\n",
    "#             ggsave(file.path(cond_outdir,paste0(\"cluster_\",i,\".conditionScatter.png\")))\n",
    "\n",
    "#         }\n",
    "#     })\n",
    "\n",
    "# }"
   ]
  },
  {
   "cell_type": "markdown",
   "id": "8dd40c00",
   "metadata": {},
   "source": [
    "## Gene Markers plot"
   ]
  },
  {
   "cell_type": "code",
   "execution_count": null,
   "id": "98b23e45",
   "metadata": {
    "scrolled": true
   },
   "outputs": [],
   "source": [
    "clrs =  brewer.pal(n = length(sample_names), name = \"RdBu\")"
   ]
  },
  {
   "cell_type": "markdown",
   "id": "3b762935",
   "metadata": {},
   "source": [
    "### Immune markers taken from Seurat"
   ]
  },
  {
   "cell_type": "code",
   "execution_count": null,
   "id": "e9d01014",
   "metadata": {},
   "outputs": [],
   "source": [
    "Idents(integrated) <- \"seurat_clusters\""
   ]
  },
  {
   "cell_type": "code",
   "execution_count": null,
   "id": "3eaab569",
   "metadata": {
    "scrolled": true
   },
   "outputs": [],
   "source": [
    "FeaturePlot(integrated, features = c(\"CD3D\", \"SELL\", \"CREM\", \"CD8A\", \"GNLY\", \"CD79A\", \"FCGR3A\", \n",
    "    \"CCL2\", \"PPBP\"), min.cutoff = \"q9\")\n",
    "\n",
    "ggsave(file=file.path(outdir,\"seuratImmuneEmbed.png\"))\n"
   ]
  },
  {
   "cell_type": "code",
   "execution_count": null,
   "id": "9a0e5950",
   "metadata": {},
   "outputs": [],
   "source": [
    "markers.to.plot <- c(\"CD3D\", \"CREM\", \"HSPH1\", \"SELL\", \"GIMAP5\", \"CACYBP\", \"GNLY\", \"NKG7\", \"CCL5\", \n",
    "    \"CD8A\", \"MS4A1\", \"CD79A\", \"MIR155HG\", \"NME1\", \"FCGR3A\", \"VMO1\", \"CCL2\", \"S100A9\", \"HLA-DQA1\", \n",
    "    \"GPR183\", \"PPBP\", \"GNG11\", \"HBA2\", \"HBB\", \"TSPAN13\", \"IL3RA\", \"IGJ\")\n",
    "DotPlot(integrated, features = rev(markers.to.plot), dot.scale = 8, cols=clrs,  \n",
    "    split.by = \"orig.ident\") + RotatedAxis()\n",
    "ggsave(file=file.path(outdir,\"seuratImmuneDotPlot.png\"))"
   ]
  },
  {
   "cell_type": "markdown",
   "id": "deebbe0a",
   "metadata": {},
   "source": [
    "### Immune markers taken from Dawn Lin et al Flt3l paper"
   ]
  },
  {
   "cell_type": "code",
   "execution_count": null,
   "id": "8c57c669",
   "metadata": {
    "scrolled": true
   },
   "outputs": [],
   "source": [
    "immune.markers = c('KIT',\n",
    "                   'LY6E',\n",
    "                   'ITGAX',\n",
    "                   'SLAMF1',\n",
    "                   'CD34',\n",
    "                   'FCGR3A',\n",
    "                   'PTPRC',\n",
    "                   'SLAMF2',\n",
    "                   'IL7R',\n",
    "                   'ITGAM')\n",
    "\n",
    "DotPlot(integrated, features = rev(immune.markers), dot.scale = 8, \n",
    "        cols = clrs,\n",
    "    split.by = \"orig.ident\") + RotatedAxis()\n",
    "ggsave(file=file.path(outdir,\"linImmuneDotPlot.png\"))"
   ]
  },
  {
   "cell_type": "code",
   "execution_count": null,
   "id": "59cbabe0",
   "metadata": {
    "scrolled": false
   },
   "outputs": [],
   "source": [
    "FeaturePlot(integrated, features = immune.markers, min.cutoff = \"q9\")\n",
    "ggsave(file=file.path(outdir,\"linImmuneEmbed.png\"))"
   ]
  },
  {
   "cell_type": "markdown",
   "id": "e50833b9",
   "metadata": {},
   "source": [
    "## Conserved markers to help identify cell type"
   ]
  },
  {
   "cell_type": "code",
   "execution_count": null,
   "id": "75f7c456",
   "metadata": {
    "scrolled": true
   },
   "outputs": [],
   "source": [
    "topMarkers = c()\n",
    "for (i in cluster.ids){ #or however many clusters you have\n",
    "try({\n",
    "    print(paste(\"cluster\", i))\n",
    "    cons.markers <- FindConservedMarkers(integrated, ident.1 = i, \n",
    "                                         grouping.var = \"orig.ident\", verbose = TRUE)\n",
    "\n",
    "    write.csv(cons.markers, file=file.path(cons_outdir,paste0(\"cluster_\",i,\".conservedOverStim.GeneActivity.csv\")))\n",
    "    print(paste('saved cluster', i))\n",
    "    print(head(cons.markers))\n",
    "    topMarkers = c(topMarkers, rownames(cons.markers)[1])\n",
    "    print(topMarkers)\n",
    "})\n",
    "}\n",
    "\n",
    "head(cons.markers)"
   ]
  },
  {
   "cell_type": "code",
   "execution_count": null,
   "id": "c0daa6c8",
   "metadata": {},
   "outputs": [],
   "source": [
    "sessionInfo()"
   ]
  },
  {
   "cell_type": "code",
   "execution_count": null,
   "id": "62604c7e",
   "metadata": {},
   "outputs": [],
   "source": []
  }
 ],
 "metadata": {
  "celltoolbar": "Tags",
  "kernelspec": {
   "display_name": "R",
   "language": "R",
   "name": "ir"
  },
  "language_info": {
   "codemirror_mode": "r",
   "file_extension": ".r",
   "mimetype": "text/x-r-source",
   "name": "R",
   "pygments_lexer": "r",
   "version": "4.1.1"
  }
 },
 "nbformat": 4,
 "nbformat_minor": 5
}
