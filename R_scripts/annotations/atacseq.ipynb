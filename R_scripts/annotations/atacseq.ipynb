{
 "cells": [
  {
   "cell_type": "markdown",
   "id": "ba6dfac8",
   "metadata": {},
   "source": [
    "## Parameters"
   ]
  },
  {
   "cell_type": "code",
   "execution_count": 1,
   "id": "22dc95c9",
   "metadata": {
    "scrolled": true
   },
   "outputs": [
    {
     "name": "stderr",
     "output_type": "stream",
     "text": [
      "Attaching SeuratObject\n",
      "\n"
     ]
    }
   ],
   "source": [
    "library(Seurat)\n",
    "library(ggplot2)"
   ]
  },
  {
   "cell_type": "code",
   "execution_count": 12,
   "id": "9374f431",
   "metadata": {},
   "outputs": [],
   "source": [
    "library(Signac)"
   ]
  },
  {
   "cell_type": "code",
   "execution_count": 8,
   "id": "035db5d0",
   "metadata": {},
   "outputs": [],
   "source": [
    "library(patchwork)\n"
   ]
  },
  {
   "cell_type": "code",
   "execution_count": 2,
   "id": "1e693d6b",
   "metadata": {
    "tags": [
     "parameters"
    ]
   },
   "outputs": [],
   "source": [
    "indir <- \"/data2/isshamie/mito_lineage/data/processed/mtscATAC/CHIP_april08_2021_Croker/MTblacklist/Flt3l/outs/\"\n",
    "indir_mgatk <- \"/data2/mito_lineage/data/processed/mttrace/CHIP_april08_2021_Croker/MTblacklist/Flt3l/MT/cellr_True/Flt3l_200/filters/minC10_minR50_topN0_hetT0.001_hetC10_hetCount5_bq20/filter_mgatk/\"\n",
    "name <- \"Flt3l\"\n",
    "outdir <- \"/data2/mito_lineage/Analysis/annotation/output/data/\"\n"
   ]
  },
  {
   "cell_type": "code",
   "execution_count": 3,
   "id": "a70e171f",
   "metadata": {},
   "outputs": [],
   "source": [
    "anno_gtf <- \"/data/isshamie/mito_lineage/data/external/GRCh38_MT_blacklist/genes/genes.gtf\""
   ]
  },
  {
   "cell_type": "code",
   "execution_count": 4,
   "id": "f96d2d86",
   "metadata": {},
   "outputs": [],
   "source": [
    "peaks_cd34_f <- \"/data2/mito_lineage/Analysis/annotation/data/granja_cd34/GSE129785_scATAC-Hematopoiesis-CD34.peaks.bed\""
   ]
  },
  {
   "cell_type": "markdown",
   "id": "360ff3f7",
   "metadata": {},
   "source": [
    "## Gene activity quantification"
   ]
  },
  {
   "cell_type": "code",
   "execution_count": 5,
   "id": "f45bdeb5",
   "metadata": {
    "scrolled": false
   },
   "outputs": [
    {
     "name": "stderr",
     "output_type": "stream",
     "text": [
      "Warning message in sparseMatrix(i = indices[] + 1, p = indptr[], x = as.numeric(x = counts[]), :\n",
      "“'giveCsparse' has been deprecated; setting 'repr = \"T\"' for you”\n"
     ]
    }
   ],
   "source": [
    "peaks <- Read10X_h5(file.path(indir, \"filtered_peak_bc_matrix.h5\"))\n",
    "# create a gene activity matrix from the peak matrix and GTF, using chromosomes 1:22, X, and Y.\n",
    "# Peaks that fall within gene bodies, or 2kb upstream of a gene, are considered\n"
   ]
  },
  {
   "cell_type": "code",
   "execution_count": 10,
   "id": "000b152b",
   "metadata": {
    "scrolled": true
   },
   "outputs": [
    {
     "name": "stderr",
     "output_type": "stream",
     "text": [
      "also installing the dependencies ‘SnowballC’, ‘tweenr’, ‘slam’, ‘sparsesvd’, ‘docopt’, ‘ggseqlogo’, ‘fastmatch’, ‘lsa’, ‘RcppRoll’, ‘ggforce’, ‘qlcMatrix’\n",
      "\n",
      "\n",
      "Updating HTML index of packages in '.Library'\n",
      "\n",
      "Making 'packages.html' ...\n",
      " done\n",
      "\n",
      "Updating HTML index of packages in '.Library'\n",
      "\n",
      "Making 'packages.html' ...\n",
      " done\n",
      "\n",
      "Registered S3 method overwritten by 'cli':\n",
      "  method     from         \n",
      "  print.boxx spatstat.geom\n",
      "\n",
      "Downloading GitHub repo timoast/signac@develop\n",
      "\n"
     ]
    },
    {
     "name": "stdout",
     "output_type": "stream",
     "text": [
      "\n"
     ]
    },
    {
     "name": "stderr",
     "output_type": "stream",
     "text": [
      "Skipping 6 packages not available: BiocGenerics, S4Vectors, Rsamtools, IRanges, GenomicRanges, GenomeInfoDb\n",
      "\n"
     ]
    },
    {
     "name": "stdout",
     "output_type": "stream",
     "text": [
      "\u001b[32m✔\u001b[39m  \u001b[90mchecking for file ‘/tmp/RtmpEPZK0t/remotes4b6572716fa5/timoast-signac-5d1c5f4/DESCRIPTION’\u001b[39m\u001b[36m\u001b[39m\n",
      "\u001b[90m─\u001b[39m\u001b[90m  \u001b[39m\u001b[90mpreparing ‘Signac’:\u001b[39m\u001b[36m\u001b[39m\n",
      "\u001b[32m✔\u001b[39m  \u001b[90mchecking DESCRIPTION meta-information\u001b[39m\u001b[36m\u001b[39m\n",
      "\u001b[90m─\u001b[39m\u001b[90m  \u001b[39m\u001b[90mcleaning src\u001b[39m\u001b[36m\u001b[39m\n",
      "\u001b[90m─\u001b[39m\u001b[90m  \u001b[39m\u001b[90minstalling the package to process help pages\u001b[39m\u001b[36m\u001b[39m\n",
      "\u001b[90m─\u001b[39m\u001b[90m  \u001b[39m\u001b[90msaving partial Rd database\u001b[39m\u001b[36m\u001b[36m (58.6s)\u001b[36m\u001b[39m\n",
      "\u001b[90m─\u001b[39m\u001b[90m  \u001b[39m\u001b[90mcleaning src\u001b[39m\u001b[36m\u001b[39m\n",
      "\u001b[90m─\u001b[39m\u001b[90m  \u001b[39m\u001b[90mchecking for LF line-endings in source and make files and shell scripts\u001b[39m\u001b[36m\u001b[39m\n",
      "\u001b[90m─\u001b[39m\u001b[90m  \u001b[39m\u001b[90mchecking for empty or unneeded directories\u001b[39m\u001b[36m\u001b[39m\n",
      "   Removed empty directory ‘Signac/.github’\n",
      "   Removed empty directory ‘Signac/vignettes’\n",
      "\u001b[90m─\u001b[39m\u001b[90m  \u001b[39m\u001b[90mbuilding ‘Signac_1.2.1.9002.tar.gz’\u001b[39m\u001b[36m\u001b[39m\n",
      "   \n",
      "\r"
     ]
    }
   ],
   "source": [
    "\n",
    "# To install the current release\n",
    "install.packages(\"Signac\")\n",
    "\n",
    "# To install the development version\n",
    "install.packages(\"devtools\")\n",
    "devtools::install_github(\"timoast/signac\", ref = \"develop\")"
   ]
  },
  {
   "cell_type": "code",
   "execution_count": 11,
   "id": "d7623f3f",
   "metadata": {
    "scrolled": true
   },
   "outputs": [
    {
     "ename": "ERROR",
     "evalue": "Error in DefaultAssay(object = object): argument \"object\" is missing, with no default\n",
     "output_type": "error",
     "traceback": [
      "Error in DefaultAssay(object = object): argument \"object\" is missing, with no default\nTraceback:\n",
      "1. Signac::GeneActivity(peak.matrix = peaks, annotation.file = anno_gtf, \n .     seq.levels = c(1:22, \"X\", \"Y\"), upstream = 2000, verbose = TRUE)",
      "2. SetIfNull(x = assay, y = DefaultAssay(object = object))",
      "3. DefaultAssay(object = object)"
     ]
    }
   ],
   "source": [
    "activity.matrix <- Signac::GeneActivity(peak.matrix = peaks, annotation.file = anno_gtf, \n",
    "    seq.levels = c(1:22, \"X\", \"Y\"), upstream = 2000, verbose = TRUE)"
   ]
  },
  {
   "cell_type": "markdown",
   "id": "b7075eb2",
   "metadata": {},
   "source": [
    "## Object setup"
   ]
  },
  {
   "cell_type": "code",
   "execution_count": null,
   "id": "f0d07aa4",
   "metadata": {},
   "outputs": [],
   "source": [
    "pbmc.atac <- CreateSeuratObject(counts = peaks, assay = \"ATAC\", project = \"10x_ATAC\")\n",
    "pbmc.atac[[\"ACTIVITY\"]] <- CreateAssayObject(counts = activity.matrix)\n",
    "meta <- read.table(file.path(indir_mgatk,\"vireoIn\", \"cellSNP.samples.tsv\", sep = \",\", header = TRUE, row.names = 1, \n",
    "    stringsAsFactors = FALSE)\n",
    "meta <- meta[colnames(pbmc.atac), ]\n",
    "pbmc.atac <- AddMetaData(pbmc.atac, metadata = meta)\n",
    "pbmc.atac <- subset(pbmc.atac, subset = nCount_ATAC > 5000)\n",
    "pbmc.atac$tech <- \"atac\""
   ]
  },
  {
   "cell_type": "markdown",
   "id": "c7eca743",
   "metadata": {},
   "source": [
    "## Data preprocessing"
   ]
  },
  {
   "cell_type": "code",
   "execution_count": null,
   "id": "e2b815ea",
   "metadata": {},
   "outputs": [],
   "source": [
    "DefaultAssay(pbmc.atac) <- \"ACTIVITY\"\n",
    "pbmc.atac <- FindVariableFeatures(pbmc.atac)\n",
    "pbmc.atac <- NormalizeData(pbmc.atac)\n",
    "pbmc.atac <- ScaleData(pbmc.atac)"
   ]
  },
  {
   "cell_type": "code",
   "execution_count": null,
   "id": "abe6e312",
   "metadata": {},
   "outputs": [],
   "source": [
    "DefaultAssay(pbmc.atac) <- \"ATAC\"\n",
    "VariableFeatures(pbmc.atac) <- names(which(Matrix::rowSums(pbmc.atac) > 100))\n",
    "pbmc.atac <- RunLSI(pbmc.atac, n = 50, scale.max = NULL)\n",
    "pbmc.atac <- RunUMAP(pbmc.atac, reduction = \"lsi\", dims = 1:50)"
   ]
  },
  {
   "cell_type": "markdown",
   "id": "ee8ccc0f",
   "metadata": {},
   "source": [
    "## Plot"
   ]
  },
  {
   "cell_type": "code",
   "execution_count": null,
   "id": "d9d813c7",
   "metadata": {},
   "outputs": [],
   "source": [
    "p1 <- DimPlot(pbmc.atac, reduction = \"umap\") + NoLegend() + ggtitle(\"scATAC-seq\")"
   ]
  },
  {
   "cell_type": "code",
   "execution_count": null,
   "id": "9c7d9769",
   "metadata": {},
   "outputs": [],
   "source": []
  },
  {
   "cell_type": "markdown",
   "id": "df98ec82",
   "metadata": {},
   "source": [
    "## Incorporate RNA data"
   ]
  },
  {
   "cell_type": "code",
   "execution_count": null,
   "id": "a41ce04f",
   "metadata": {},
   "outputs": [],
   "source": [
    "pbmc.rna <- readRDS(\"../data/pbmc_10k_v3.rds\")\n",
    "pbmc.rna$tech <- \"rna\""
   ]
  },
  {
   "cell_type": "code",
   "execution_count": null,
   "id": "935a0e8d",
   "metadata": {},
   "outputs": [],
   "source": [
    "p1 <- DimPlot(pbmc.atac, reduction = \"umap\") + NoLegend() + ggtitle(\"scATAC-seq\")\n",
    "p2 <- DimPlot(pbmc.rna, group.by = \"celltype\", label = TRUE, repel = TRUE) + NoLegend() + ggtitle(\"scRNA-seq\")\n",
    "CombinePlots(plots = list(p1, p2))"
   ]
  },
  {
   "cell_type": "code",
   "execution_count": null,
   "id": "d7521448",
   "metadata": {},
   "outputs": [],
   "source": []
  },
  {
   "cell_type": "markdown",
   "id": "0027b45f",
   "metadata": {},
   "source": [
    "## Transfer labels from scRNA to scATAC"
   ]
  },
  {
   "cell_type": "code",
   "execution_count": null,
   "id": "88821283",
   "metadata": {},
   "outputs": [],
   "source": [
    "transfer.anchors <- FindTransferAnchors(reference = pbmc.rna, query = pbmc.atac, features = VariableFeatures(object = pbmc.rna), \n",
    "    reference.assay = \"RNA\", query.assay = \"ACTIVITY\", reduction = \"cca\")"
   ]
  },
  {
   "cell_type": "code",
   "execution_count": null,
   "id": "865e4dbb",
   "metadata": {},
   "outputs": [],
   "source": [
    "celltype.predictions <- TransferData(anchorset = transfer.anchors, refdata = pbmc.rna$celltype, \n",
    "    weight.reduction = pbmc.atac[[\"lsi\"]])\n",
    "pbmc.atac <- AddMetaData(pbmc.atac, metadata = celltype.predictions)"
   ]
  },
  {
   "cell_type": "code",
   "execution_count": null,
   "id": "4ade5381",
   "metadata": {},
   "outputs": [],
   "source": [
    "hist(pbmc.atac$prediction.score.max)\n",
    "abline(v = 0.5, col = \"red\")"
   ]
  },
  {
   "cell_type": "code",
   "execution_count": null,
   "id": "b1792f0e",
   "metadata": {},
   "outputs": [],
   "source": [
    "table(pbmc.atac$prediction.score.max > 0.5)\n"
   ]
  },
  {
   "cell_type": "code",
   "execution_count": null,
   "id": "41f21932",
   "metadata": {},
   "outputs": [],
   "source": [
    "pbmc.atac.filtered <- subset(pbmc.atac, subset = prediction.score.max > 0.5)\n",
    "pbmc.atac.filtered$predicted.id <- factor(pbmc.atac.filtered$predicted.id, levels = levels(pbmc.rna))  # to make the colors match\n",
    "p1 <- DimPlot(pbmc.atac.filtered, group.by = \"predicted.id\", label = TRUE, repel = TRUE) + ggtitle(\"scATAC-seq cells\") + \n",
    "    NoLegend() + scale_colour_hue(drop = FALSE)\n",
    "p2 <- DimPlot(pbmc.rna, group.by = \"celltype\", label = TRUE, repel = TRUE) + ggtitle(\"scRNA-seq cells\") + \n",
    "    NoLegend()\n",
    "CombinePlots(plots = list(p1, p2))"
   ]
  },
  {
   "cell_type": "code",
   "execution_count": null,
   "id": "e6c69c15",
   "metadata": {},
   "outputs": [],
   "source": [
    "# note that we restrict the imputation to variable genes from scRNA-seq, but could impute the\n",
    "# full transcriptome if we wanted to\n",
    "genes.use <- VariableFeatures(pbmc.rna)\n",
    "refdata <- GetAssayData(pbmc.rna, assay = \"RNA\", slot = \"data\")[genes.use, ]\n",
    "\n",
    "# refdata (input) contains a scRNA-seq expression matrix for the scRNA-seq cells.  imputation\n",
    "# (output) will contain an imputed scRNA-seq matrix for each of the ATAC cells\n",
    "imputation <- TransferData(anchorset = transfer.anchors, refdata = refdata, weight.reduction = pbmc.atac[[\"lsi\"]])\n",
    "\n",
    "# this line adds the imputed data matrix to the pbmc.atac object\n",
    "pbmc.atac[[\"RNA\"]] <- imputation\n",
    "coembed <- merge(x = pbmc.rna, y = pbmc.atac)\n",
    "\n",
    "# Finally, we run PCA and UMAP on this combined object, to visualize the co-embedding of both\n",
    "# datasets\n",
    "coembed <- ScaleData(coembed, features = genes.use, do.scale = FALSE)\n",
    "coembed <- RunPCA(coembed, features = genes.use, verbose = FALSE)\n",
    "coembed <- RunUMAP(coembed, dims = 1:30)\n",
    "coembed$celltype <- ifelse(!is.na(coembed$celltype), coembed$celltype, coembed$predicted.id)"
   ]
  },
  {
   "cell_type": "code",
   "execution_count": null,
   "id": "4dbaea34",
   "metadata": {},
   "outputs": [],
   "source": [
    "p1 <- DimPlot(coembed, group.by = \"tech\")\n",
    "p2 <- DimPlot(coembed, group.by = \"celltype\", label = TRUE, repel = TRUE)\n",
    "CombinePlots(list(p1, p2))"
   ]
  }
 ],
 "metadata": {
  "celltoolbar": "Tags",
  "kernelspec": {
   "display_name": "R [conda env:mito_trace] *",
   "language": "R",
   "name": "conda-env-mito_trace-r"
  },
  "language_info": {
   "codemirror_mode": "r",
   "file_extension": ".r",
   "mimetype": "text/x-r-source",
   "name": "R",
   "pygments_lexer": "r",
   "version": "4.0.2"
  }
 },
 "nbformat": 4,
 "nbformat_minor": 5
}
