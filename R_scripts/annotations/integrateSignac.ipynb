{
 "cells": [
  {
   "cell_type": "markdown",
   "id": "223d6f46",
   "metadata": {},
   "source": [
    "## Creates binarized Seurat objects, integrates conditions and annotates genes by nearby peaks"
   ]
  },
  {
   "cell_type": "code",
   "execution_count": null,
   "id": "663e2d4d",
   "metadata": {
    "tags": [
     "parameters"
    ]
   },
   "outputs": [],
   "source": [
    "# Input info\n",
    "outdir =  \"/data2/mito_lineage/output/annotation/data/CHIP_april08_2021/MTblacklist/\" \n",
    "sample_names = \"Control,Flt3l,Input\"\n",
    "samples = \"Control,Flt3l,Input\"\n",
    "lsi_start_comp = 2\n",
    "\n",
    "# Parameters\n",
    "nTop = 25000\n",
    "to.filt.cells = \"FALSE\"\n",
    "\n",
    "## QC parameters\n",
    "min_peak_region_fragments=1000\n",
    "max_peak_region_fragments=10000\n",
    "min_pct_reads_in_peaks=20\n",
    "max_blacklist_ratio=0.05\n",
    "max_nucleosome_signal=15\n",
    "min_TSS_enrichment=0.2\n",
    "\n",
    "cores = 24"
   ]
  },
  {
   "cell_type": "code",
   "execution_count": null,
   "id": "1ae9d6e3",
   "metadata": {},
   "outputs": [],
   "source": [
    "if ((to.filt.cells == \"T\") | (to.filt.cells == \"TRUE\")){\n",
    "    to.filt.cells = TRUE\n",
    "}else{to.filt.cells = FALSE}\n"
   ]
  },
  {
   "cell_type": "code",
   "execution_count": null,
   "id": "b62b75ff",
   "metadata": {},
   "outputs": [],
   "source": [
    "library(repr)\n",
    "options(repr.plot.width=12, repr.plot.height=12)"
   ]
  },
  {
   "cell_type": "code",
   "execution_count": null,
   "id": "c2c99fc4",
   "metadata": {
    "scrolled": true
   },
   "outputs": [],
   "source": [
    "samples <- unlist(strsplit(samples, \",\")[[1]])\n",
    "sample_names <- unlist(strsplit(sample_names, \",\"))\n",
    "\n",
    "samples"
   ]
  },
  {
   "cell_type": "code",
   "execution_count": null,
   "id": "aad4f638",
   "metadata": {
    "scrolled": true
   },
   "outputs": [],
   "source": [
    "library(GenomicRanges)\n",
    "library(Seurat)\n",
    "library(Signac)\n",
    "library(GenomeInfoDb)\n",
    "library(EnsDb.Hsapiens.v75)\n",
    "library(ggplot2)\n",
    "library(patchwork)\n",
    "set.seed(1234)\n",
    "library(data.table)\n",
    "library(magrittr)\n",
    "library(cowplot)\n",
    "library(metap)\n",
    "library(dplyr)\n",
    "library(\"patchwork\")\n",
    "library(future)\n",
    "\n",
    "plan(\"multiprocess\", workers = cores)\n",
    "options(future.globals.maxSize = 8000 * 1024^2)\n",
    "#options(future.globals.maxSize = 50000 * 1024^2) # for 50 Gb RAM\n",
    "#plan(\"multiprocess\", workers = workers)"
   ]
  },
  {
   "cell_type": "code",
   "execution_count": null,
   "id": "d092ef2c",
   "metadata": {
    "scrolled": false
   },
   "outputs": [],
   "source": [
    "allSE <- readRDS(file.path(outdir, paste0(\"allSamples.rds\")))"
   ]
  },
  {
   "cell_type": "markdown",
   "id": "c8c7675b",
   "metadata": {},
   "source": [
    "## Filter cells if parameters there"
   ]
  },
  {
   "cell_type": "code",
   "execution_count": null,
   "id": "34a1cd21",
   "metadata": {},
   "outputs": [],
   "source": [
    "filtCells <- function(se, min_peak_region_fragments=10,\n",
    "                      max_peak_region_fragments=15000,\n",
    "                     min_pct_reads_in_peaks=15,\n",
    "                     max_blacklist_ratio=0.05,\n",
    "                     max_nucleosome_signal=4,\n",
    "                     min_TSS_enrichment=2){\n",
    "    se <- subset(\n",
    "      x = se,\n",
    "      subset = peak_region_fragments > min_peak_region_fragments &\n",
    "               peak_region_fragments < max_peak_region_fragments &\n",
    "               pct_reads_in_peaks > min_pct_reads_in_peaks &\n",
    "               blacklist_ratio < max_blacklist_ratio &\n",
    "               nucleosome_signal < max_nucleosome_signal  &\n",
    "               TSS.enrichment > min_TSS_enrichment\n",
    "    )\n",
    "        return(se)\n",
    "}"
   ]
  },
  {
   "cell_type": "code",
   "execution_count": null,
   "id": "e80de44e",
   "metadata": {},
   "outputs": [],
   "source": [
    "if (to.filt.cells){\n",
    "    c <- lapply(allSE, filtCells,\n",
    "                    se, min_peak_region_fragments=min_peak_region_fragments,\n",
    "                      max_peak_region_fragments=max_peak_region_fragments,\n",
    "                     min_pct_reads_in_peaks=min_pct_reads_in_peaks,\n",
    "                     max_blacklist_ratio=max_blacklist_ratio,\n",
    "                     max_nucleosome_signal=max_nucleosome_signal,\n",
    "                     min_TSS_enrichment=min_TSS_enrichment)\n",
    "}"
   ]
  },
  {
   "cell_type": "markdown",
   "id": "77b0eb64",
   "metadata": {},
   "source": [
    "### plot qc"
   ]
  },
  {
   "cell_type": "code",
   "execution_count": null,
   "id": "8bd61889",
   "metadata": {},
   "outputs": [],
   "source": []
  },
  {
   "cell_type": "markdown",
   "id": "d3c2b704",
   "metadata": {},
   "source": [
    "# Merge:\n",
    "- get umap and clusters"
   ]
  },
  {
   "cell_type": "code",
   "execution_count": null,
   "id": "2860524c",
   "metadata": {},
   "outputs": [],
   "source": [
    "# Add sample names to cell prefix here.\n",
    "for (i in 1:length(allSE)){\n",
    "    print(i)\n",
    "    curr.SE <- allSE[[i]]\n",
    "    allSE[[i]] <- RenameCells(allSE[[i]], \n",
    "                    paste(curr.SE$orig.ident,colnames(curr.SE), sep=\"_\")\n",
    "                    )\n",
    "}\n",
    "\n",
    "combined <-  merge(\n",
    "  x = allSE[[1]],\n",
    "  #y = allSE[[3]],\n",
    "  y = allSE[[2]]\n",
    "  #add.cell.ids = sample_names[1:2]\n",
    "  )\n",
    "\n",
    "\n",
    "if (length(sample_names) > 2) {\n",
    "    for (i in 3:length(sample_names)){\n",
    "        combined <- merge(x=combined,\n",
    "                             y = allSE[[i]])\n",
    "        }\n",
    "}"
   ]
  },
  {
   "cell_type": "code",
   "execution_count": null,
   "id": "34ea5c1b",
   "metadata": {},
   "outputs": [],
   "source": [
    "combined <- FindTopFeatures(combined, min.cutoff = 20)\n",
    "combined"
   ]
  },
  {
   "cell_type": "code",
   "execution_count": null,
   "id": "85e65135",
   "metadata": {},
   "outputs": [],
   "source": [
    "combined$orig.ident <- factor(combined$orig.ident, levels = sample_names)\n",
    "\n",
    "VlnPlot(\n",
    "  object = combined,\n",
    "  features = c('nCount_ATAC', 'peak_region_fragments', 'passed_filters',\n",
    "               'duplicate', 'unmapped'),\n",
    "  split.by = \"orig.ident\",\n",
    "  pt.size = 0.1,\n",
    "  ncol = 3\n",
    ")"
   ]
  },
  {
   "cell_type": "code",
   "execution_count": null,
   "id": "b61df680",
   "metadata": {},
   "outputs": [],
   "source": [
    "# Binarize and run LSI\n",
    "combined <- BinarizeCounts(combined)\n",
    "combined <- RunTFIDF(combined)\n",
    "combined <- RunSVD(combined)\n",
    "combined <- RunUMAP(combined, dims = lsi_start_comp:50, reduction = 'lsi')\n",
    "DimPlot(combined, group.by = \"proj\", pt.size = 0.1)"
   ]
  },
  {
   "cell_type": "code",
   "execution_count": null,
   "id": "54de97fe",
   "metadata": {},
   "outputs": [],
   "source": [
    "pDepthCorr <- DepthCor(combined)\n",
    "pDepthCorr"
   ]
  },
  {
   "cell_type": "code",
   "execution_count": null,
   "id": "add5f3bb",
   "metadata": {},
   "outputs": [],
   "source": [
    "allSE <- lapply(sample_names,  function(x) subset(combined, subset = orig.ident == x))\n",
    "allSE"
   ]
  },
  {
   "cell_type": "markdown",
   "id": "5602c236",
   "metadata": {},
   "source": [
    "### QC first"
   ]
  },
  {
   "cell_type": "code",
   "execution_count": null,
   "id": "c0cc36cc",
   "metadata": {},
   "outputs": [],
   "source": [
    "library(Rsamtools)\n",
    "\n",
    "qc <- function(se){\n",
    "    # extract gene annotations from EnsDb\n",
    "    annotations <- GetGRangesFromEnsDb(ensdb = EnsDb.Hsapiens.v75)\n",
    "\n",
    "    # change to UCSC style since the data was mapped to hg19\n",
    "    seqlevelsStyle(annotations) <- 'UCSC'\n",
    "    genome(annotations) <- \"hg38\"\n",
    "    # add the gene information to the object\n",
    "    Annotation(se) <- annotations\n",
    "    gene.activities <- GeneActivity(se)\n",
    "    # compute nucleosome signal score per cell\n",
    "    se <- NucleosomeSignal(object = se)\n",
    "    \n",
    "    Annotation(se) <- annotations\n",
    "    # compute TSS enrichment score per cell\n",
    "    se <- TSSEnrichment(object = se, fast = FALSE)\n",
    "\n",
    "    # add blacklist ratio and fraction of reads in peaks\n",
    "    se$pct_reads_in_peaks <- se$peak_region_fragments / se$passed_filters * 100\n",
    "    se$blacklist_ratio <- se$blacklist_region_fragments / se$peak_region_fragments\n",
    "    se$high.tss <- ifelse(se$TSS.enrichment > 2, 'High', 'Low')\n",
    "    se$nucleosome_group <- ifelse(se$nucleosome_signal > 4, 'NS > 4', 'NS < 4')\n",
    "\n",
    "    return(se)\n",
    "}\n",
    "vPlot <- function(se){\n",
    "      vPlot <- VlnPlot(\n",
    "      object = se,\n",
    "      features = c('pct_reads_in_peaks', 'peak_region_fragments',\n",
    "                   'TSS.enrichment', 'blacklist_ratio', 'nucleosome_signal'),\n",
    "      pt.size = 0.1,\n",
    "      ncol = 5\n",
    "    )  \n",
    "    vPlot <- vPlot +    # Create grid of plots with title\n",
    "             plot_annotation(title = se$orig.ident[[1]]) & \n",
    "             theme(plot.title = element_text(hjust = 0.5, size=15))\n",
    "    #print(vPlot)\n",
    "    return(vPlot)\n",
    "}\n",
    "\n",
    "lapply(allSE,vPlot)\n",
    "ggsave(file.path(outdir, paste0(\"QC_02.png\")))\n",
    "ggsave(file.path(outdir, paste0(\"QC_02.pdf\")))\n",
    "allSE <- lapply(allSE, qc)\n",
    "allSE\n",
    "ggsave(file.path(outdir,\"integrated.batch.png\"), dpi=300)\n"
   ]
  },
  {
   "cell_type": "markdown",
   "id": "de2f9d3b",
   "metadata": {},
   "source": [
    "# Integrate"
   ]
  },
  {
   "cell_type": "code",
   "execution_count": null,
   "id": "526f4c22",
   "metadata": {},
   "outputs": [],
   "source": [
    "# find integration anchors\n",
    "integration.anchors <- FindIntegrationAnchors(\n",
    "  object.list = allSE, #c(ext,curr),\n",
    "  anchor.features = allSE[[1]], #rownames(ext),\n",
    "  reduction = \"rlsi\",\n",
    "  dims = lsi_start_comp:30\n",
    ")\n",
    "\n",
    "# integrate LSI embeddings\n",
    "integrated <- IntegrateEmbeddings(\n",
    "  anchorset = integration.anchors,\n",
    "  reductions = combined[[\"lsi\"]],\n",
    "  new.reduction.name = \"integrated_lsi\",\n",
    "  dims.to.integrate = 1:30\n",
    ")\n",
    "\n"
   ]
  },
  {
   "cell_type": "markdown",
   "id": "6c323e0c",
   "metadata": {},
   "source": [
    "## Run UMAP and plot"
   ]
  },
  {
   "cell_type": "code",
   "execution_count": null,
   "id": "7cce7c05",
   "metadata": {},
   "outputs": [],
   "source": [
    "p1 <- DimPlot(combined, group.by = \"proj\")"
   ]
  },
  {
   "cell_type": "code",
   "execution_count": null,
   "id": "1c1d8f5a",
   "metadata": {},
   "outputs": [],
   "source": [
    "# create a new UMAP using the integrated embeddings\n",
    "integrated <- RunUMAP(integrated, reduction = \"integrated_lsi\", dims = 2:30)\n",
    "p2 <- DimPlot(integrated, group.by = \"proj\")\n",
    "ggsave(file.path(outdir,\"integrated.batch.png\"), dpi=300)\n",
    "p2"
   ]
  },
  {
   "cell_type": "markdown",
   "id": "33ecb9d5",
   "metadata": {},
   "source": [
    "### Compare merged and integrated"
   ]
  },
  {
   "cell_type": "code",
   "execution_count": null,
   "id": "ab5dd282",
   "metadata": {},
   "outputs": [],
   "source": [
    "(p1 + ggtitle(\"Merged\")) | (p2 + ggtitle(\"Integrated\"))\n",
    "ggsave(file.path(outdir,\"integrated.merged.compare.png\"), dpi=300)"
   ]
  },
  {
   "cell_type": "markdown",
   "id": "4991f63a",
   "metadata": {},
   "source": [
    "## Correlation of LSI components and Depth"
   ]
  },
  {
   "cell_type": "code",
   "execution_count": null,
   "id": "950f9024",
   "metadata": {},
   "outputs": [],
   "source": [
    "pDepthCorr <- DepthCor(integrated, reduction='integrated_lsi')\n",
    "ggsave(file.path(outdir,\"integrated.depthCor.png\"), plot=pDepthCorr, dpi=300)\n",
    "\n",
    "pDepthCorr"
   ]
  },
  {
   "cell_type": "code",
   "execution_count": null,
   "id": "7289ac66",
   "metadata": {},
   "outputs": [],
   "source": []
  },
  {
   "cell_type": "markdown",
   "id": "3af8d543",
   "metadata": {},
   "source": [
    "## Cluster and plot"
   ]
  },
  {
   "cell_type": "code",
   "execution_count": null,
   "id": "9bcad6fe",
   "metadata": {},
   "outputs": [],
   "source": [
    "#integrated <- RunUMAP(object = integrated, reduction = 'integrated_lsi', dims = 2:30)\n",
    "integrated <- FindNeighbors(object = integrated, reduction = 'integrated_lsi', dims = 2:30)\n",
    "integrated <- FindClusters(object = integrated, verbose = FALSE, algorithm = 3)\n",
    "\n",
    "pclust <- DimPlot(object = integrated, label = TRUE) + NoLegend()\n",
    "ggsave(file.path(outdir, \"integrated.lsi.clusters.png\"), pclust)\n",
    "pclust"
   ]
  },
  {
   "cell_type": "code",
   "execution_count": null,
   "id": "76b96b1e",
   "metadata": {},
   "outputs": [],
   "source": []
  },
  {
   "cell_type": "markdown",
   "id": "4d0a4728",
   "metadata": {},
   "source": [
    "## Get gene activity results "
   ]
  },
  {
   "cell_type": "code",
   "execution_count": null,
   "id": "3fe4a474",
   "metadata": {},
   "outputs": [],
   "source": [
    "# extract gene annotations from EnsDb\n",
    "annotations <- GetGRangesFromEnsDb(ensdb = EnsDb.Hsapiens.v75)\n",
    "\n",
    "# change to UCSC style since the data was mapped to hg19\n",
    "seqlevelsStyle(annotations) <- 'UCSC'\n",
    "genome(annotations) <- \"hg38\"\n",
    "\n",
    "# add the gene information to the object\n",
    "Annotation(integrated) <- annotations\n",
    "\n",
    "\n",
    "gene.activities <- GeneActivity(integrated)\n"
   ]
  },
  {
   "cell_type": "code",
   "execution_count": null,
   "id": "937e4fe3",
   "metadata": {},
   "outputs": [],
   "source": [
    "# add the gene activity matrix to the Seurat object as a new assay and normalize it\n",
    "integrated[['RNA']] <- CreateAssayObject(counts = gene.activities)\n",
    "integrated <- NormalizeData(\n",
    "  object = integrated,\n",
    "  assay = 'RNA',\n",
    "  normalization.method = 'LogNormalize',\n",
    "  scale.factor = median(integrated$nCount_RNA)\n",
    ")"
   ]
  },
  {
   "cell_type": "code",
   "execution_count": null,
   "id": "970dbf12",
   "metadata": {},
   "outputs": [],
   "source": [
    "DefaultAssay(integrated) <- 'RNA'"
   ]
  },
  {
   "cell_type": "code",
   "execution_count": null,
   "id": "073649d5",
   "metadata": {},
   "outputs": [],
   "source": [
    "saveRDS(integrated, file.path(outdir, paste0(\"allSamples.integrated.rds\")))"
   ]
  },
  {
   "cell_type": "code",
   "execution_count": null,
   "id": "626a0538",
   "metadata": {},
   "outputs": [],
   "source": [
    "sessionInfo()"
   ]
  }
 ],
 "metadata": {
  "celltoolbar": "Tags",
  "kernelspec": {
   "display_name": "R",
   "language": "R",
   "name": "ir"
  },
  "language_info": {
   "codemirror_mode": "r",
   "file_extension": ".r",
   "mimetype": "text/x-r-source",
   "name": "R",
   "pygments_lexer": "r",
   "version": "4.1.1"
  }
 },
 "nbformat": 4,
 "nbformat_minor": 5
}
