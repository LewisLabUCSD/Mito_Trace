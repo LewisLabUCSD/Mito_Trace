{
 "cells": [
  {
   "cell_type": "markdown",
   "id": "69096284",
   "metadata": {},
   "source": [
    "## Parameters"
   ]
  },
  {
   "cell_type": "code",
   "execution_count": 1,
   "id": "af78dd90",
   "metadata": {
    "tags": [
     "parameters"
    ]
   },
   "outputs": [],
   "source": [
    "indir <- \"/data2/isshamie/mito_lineage/data/processed/mtscATAC/CHIP_april08_2021_Croker/MTblacklist/Flt3l/outs/filtered_peak_bc_matrix/\"\n",
    "frag_gz <- \"/data2/isshamie/mito_lineage/data/processed/mtscATAC/CHIP_april08_2021_Croker/MTblacklist/Flt3l/outs/fragments.tsv.gz\"\n",
    "indir_mgatk <- \"/data2/mito_lineage/data/processed/mttrace/CHIP_april08_2021/MTblacklist/Flt3l/MT/cellr_True/Flt3l_200/filters/minC10_minR50_topN0_hetT0.001_hetC10_hetCount5_bq20/filter_mgatk/\"\n",
    "name <- \"Flt3l\"\n",
    "outdir <- \"/data2/mito_lineage/Analysis/annotation/output/data/\"\n",
    "prefix <- \"CHIP_april08_2021_Croker/MTblacklist/\""
   ]
  },
  {
   "cell_type": "code",
   "execution_count": 2,
   "id": "321e05cd",
   "metadata": {},
   "outputs": [
    {
     "name": "stderr",
     "output_type": "stream",
     "text": [
      "Warning message in dir.create(outdir, recursive = TRUE, showWarnings = TRUE):\n",
      "“'/data2/mito_lineage/Analysis/annotation/output/data//CHIP_april08_2021_Croker/MTblacklist' already exists”\n"
     ]
    }
   ],
   "source": [
    "outdir <- file.path(outdir, prefix)\n",
    "dir.create(outdir, recursive=TRUE, showWarnings = TRUE)"
   ]
  },
  {
   "cell_type": "code",
   "execution_count": 3,
   "id": "c24b26a8",
   "metadata": {},
   "outputs": [],
   "source": [
    "peaks_cd34_f <- \"/data2/mito_lineage/Analysis/annotation/data/granja_cd34/GSE129785_scATAC-Hematopoiesis-CD34.peaks.bed\""
   ]
  },
  {
   "cell_type": "code",
   "execution_count": 4,
   "id": "f565a7a1",
   "metadata": {
    "scrolled": true
   },
   "outputs": [],
   "source": [
    "# install.packages(\"dplyr\")\n",
    "# install.packages(\"ggrastr\")\n",
    "# install.packages(\"SummarizedExperiment\")\n",
    "# install.packages(\"ggrastr\")\n",
    "# #if (!requireNamespace(\"BiocManager\", quietly = TRUE))\n",
    "# install.packages(\"BiocManager\")\n",
    "# BiocManager::install(\"GenomicRanges\")\n",
    "# install.packages('devtools')\n",
    "# devtools::install_github(\"caleblareau/BuenColors\")"
   ]
  },
  {
   "cell_type": "code",
   "execution_count": 5,
   "id": "08b1d56e",
   "metadata": {
    "scrolled": true
   },
   "outputs": [
    {
     "name": "stderr",
     "output_type": "stream",
     "text": [
      "Loading required package: MatrixGenerics\n",
      "\n",
      "Loading required package: matrixStats\n",
      "\n",
      "\n",
      "Attaching package: ‘MatrixGenerics’\n",
      "\n",
      "\n",
      "The following objects are masked from ‘package:matrixStats’:\n",
      "\n",
      "    colAlls, colAnyNAs, colAnys, colAvgsPerRowSet, colCollapse,\n",
      "    colCounts, colCummaxs, colCummins, colCumprods, colCumsums,\n",
      "    colDiffs, colIQRDiffs, colIQRs, colLogSumExps, colMadDiffs,\n",
      "    colMads, colMaxs, colMeans2, colMedians, colMins, colOrderStats,\n",
      "    colProds, colQuantiles, colRanges, colRanks, colSdDiffs, colSds,\n",
      "    colSums2, colTabulates, colVarDiffs, colVars, colWeightedMads,\n",
      "    colWeightedMeans, colWeightedMedians, colWeightedSds,\n",
      "    colWeightedVars, rowAlls, rowAnyNAs, rowAnys, rowAvgsPerColSet,\n",
      "    rowCollapse, rowCounts, rowCummaxs, rowCummins, rowCumprods,\n",
      "    rowCumsums, rowDiffs, rowIQRDiffs, rowIQRs, rowLogSumExps,\n",
      "    rowMadDiffs, rowMads, rowMaxs, rowMeans2, rowMedians, rowMins,\n",
      "    rowOrderStats, rowProds, rowQuantiles, rowRanges, rowRanks,\n",
      "    rowSdDiffs, rowSds, rowSums2, rowTabulates, rowVarDiffs, rowVars,\n",
      "    rowWeightedMads, rowWeightedMeans, rowWeightedMedians,\n",
      "    rowWeightedSds, rowWeightedVars\n",
      "\n",
      "\n",
      "Loading required package: GenomicRanges\n",
      "\n",
      "Loading required package: stats4\n",
      "\n",
      "Loading required package: BiocGenerics\n",
      "\n",
      "Loading required package: parallel\n",
      "\n",
      "\n",
      "Attaching package: ‘BiocGenerics’\n",
      "\n",
      "\n",
      "The following objects are masked from ‘package:parallel’:\n",
      "\n",
      "    clusterApply, clusterApplyLB, clusterCall, clusterEvalQ,\n",
      "    clusterExport, clusterMap, parApply, parCapply, parLapply,\n",
      "    parLapplyLB, parRapply, parSapply, parSapplyLB\n",
      "\n",
      "\n",
      "The following objects are masked from ‘package:stats’:\n",
      "\n",
      "    IQR, mad, sd, var, xtabs\n",
      "\n",
      "\n",
      "The following objects are masked from ‘package:base’:\n",
      "\n",
      "    anyDuplicated, append, as.data.frame, basename, cbind, colnames,\n",
      "    dirname, do.call, duplicated, eval, evalq, Filter, Find, get, grep,\n",
      "    grepl, intersect, is.unsorted, lapply, Map, mapply, match, mget,\n",
      "    order, paste, pmax, pmax.int, pmin, pmin.int, Position, rank,\n",
      "    rbind, Reduce, rownames, sapply, setdiff, sort, table, tapply,\n",
      "    union, unique, unsplit, which.max, which.min\n",
      "\n",
      "\n",
      "Loading required package: S4Vectors\n",
      "\n",
      "\n",
      "Attaching package: ‘S4Vectors’\n",
      "\n",
      "\n",
      "The following object is masked from ‘package:base’:\n",
      "\n",
      "    expand.grid\n",
      "\n",
      "\n",
      "Loading required package: IRanges\n",
      "\n",
      "Loading required package: GenomeInfoDb\n",
      "\n",
      "Loading required package: Biobase\n",
      "\n",
      "Welcome to Bioconductor\n",
      "\n",
      "    Vignettes contain introductory material; view with\n",
      "    'browseVignettes()'. To cite Bioconductor, see\n",
      "    'citation(\"Biobase\")', and for packages 'citation(\"pkgname\")'.\n",
      "\n",
      "\n",
      "\n",
      "Attaching package: ‘Biobase’\n",
      "\n",
      "\n",
      "The following object is masked from ‘package:MatrixGenerics’:\n",
      "\n",
      "    rowMedians\n",
      "\n",
      "\n",
      "The following objects are masked from ‘package:matrixStats’:\n",
      "\n",
      "    anyMissing, rowMedians\n",
      "\n",
      "\n",
      "\n",
      "Attaching package: ‘data.table’\n",
      "\n",
      "\n",
      "The following object is masked from ‘package:SummarizedExperiment’:\n",
      "\n",
      "    shift\n",
      "\n",
      "\n",
      "The following object is masked from ‘package:GenomicRanges’:\n",
      "\n",
      "    shift\n",
      "\n",
      "\n",
      "The following object is masked from ‘package:IRanges’:\n",
      "\n",
      "    shift\n",
      "\n",
      "\n",
      "The following objects are masked from ‘package:S4Vectors’:\n",
      "\n",
      "    first, second\n",
      "\n",
      "\n",
      "\n",
      "Attaching package: ‘dplyr’\n",
      "\n",
      "\n",
      "The following objects are masked from ‘package:data.table’:\n",
      "\n",
      "    between, first, last\n",
      "\n",
      "\n",
      "The following object is masked from ‘package:Biobase’:\n",
      "\n",
      "    combine\n",
      "\n",
      "\n",
      "The following objects are masked from ‘package:GenomicRanges’:\n",
      "\n",
      "    intersect, setdiff, union\n",
      "\n",
      "\n",
      "The following object is masked from ‘package:GenomeInfoDb’:\n",
      "\n",
      "    intersect\n",
      "\n",
      "\n",
      "The following objects are masked from ‘package:IRanges’:\n",
      "\n",
      "    collapse, desc, intersect, setdiff, slice, union\n",
      "\n",
      "\n",
      "The following objects are masked from ‘package:S4Vectors’:\n",
      "\n",
      "    first, intersect, rename, setdiff, setequal, union\n",
      "\n",
      "\n",
      "The following objects are masked from ‘package:BiocGenerics’:\n",
      "\n",
      "    combine, intersect, setdiff, union\n",
      "\n",
      "\n",
      "The following object is masked from ‘package:matrixStats’:\n",
      "\n",
      "    count\n",
      "\n",
      "\n",
      "The following objects are masked from ‘package:stats’:\n",
      "\n",
      "    filter, lag\n",
      "\n",
      "\n",
      "The following objects are masked from ‘package:base’:\n",
      "\n",
      "    intersect, setdiff, setequal, union\n",
      "\n",
      "\n",
      "Loading required package: MASS\n",
      "\n",
      "\n",
      "Attaching package: ‘MASS’\n",
      "\n",
      "\n",
      "The following object is masked from ‘package:dplyr’:\n",
      "\n",
      "    select\n",
      "\n",
      "\n",
      "Loading required package: ggplot2\n",
      "\n"
     ]
    }
   ],
   "source": [
    "library(SummarizedExperiment)\n",
    "library(data.table)\n",
    "library(GenomicRanges)\n",
    "library(dplyr)\n",
    "library(ggrastr)\n",
    "library(BuenColors)\n",
    "library(\"diffloop\")"
   ]
  },
  {
   "cell_type": "code",
   "execution_count": null,
   "id": "493f115e",
   "metadata": {},
   "outputs": [],
   "source": []
  },
  {
   "cell_type": "code",
   "execution_count": 6,
   "id": "3a6fbf6a",
   "metadata": {},
   "outputs": [],
   "source": [
    "frag_gz_file <- frag_gz\n",
    "exp <- 'Flt3l'\n",
    "frip_threshold <- 0.01"
   ]
  },
  {
   "cell_type": "code",
   "execution_count": 7,
   "id": "f3bf7421",
   "metadata": {
    "scrolled": false
   },
   "outputs": [
    {
     "name": "stdout",
     "output_type": "stream",
     "text": [
      "[1] \"V1\" \"V2\" \"V3\" \"V4\" \"V5\"\n"
     ]
    }
   ],
   "source": [
    "#peaks_pan_heme <-diffloop::bedToGRanges(\"../data/29August2017_EJCsamples_allReads_500bp.bed\")\n",
    "#peaks_cd34 <-diffloop::bedToGRanges(\"../data/granja_cd34/GSE129785_scATAC-Hematopoiesis-CD34.peaks.bed\")\n",
    "peaks_cd34 <-diffloop::bedToGRanges(peaks_cd34_f)\n",
    "peaks_external <- peaks_cd34\n",
    "\n",
    "# Import experiment to make an RDS of the SE and a basic qc plot\n",
    "qcdf <- fread(file.path(indir,\"barcodes.tsv\"), header = FALSE, sep = \",\", col.names=c('cell_id')) %>% \n",
    "data.frame() %>% filter(cell_id != \"None\")\n",
    "bc <- as.character(qcdf$cell_id)\n",
    "#SE <- getCountsFromFrags(frag_gz_file, peaks, bc) #), peaks, bc)\n",
    "# Make GRanges of fragments that are solid for the cells that we care about\n",
    "frags <- data.table::as.data.table(read.table(frag_gz_file, comment.char=\"%\",header=FALSE, sep = '\\t'))\n",
    "print(colnames(frags))\n",
    "frags_valid <- frags %>% data.frame() %>% filter(V4 %in% bc) %>% GenomicRanges::makeGRangesFromDataFrame(seqnames.field = \"V1\", start.field = \"V2\", end.field = \"V3\", keep.extra.columns = TRUE)\n"
   ]
  },
  {
   "cell_type": "code",
   "execution_count": 8,
   "id": "90935f85",
   "metadata": {},
   "outputs": [],
   "source": [
    "# Get a denominator, per cell\n",
    "denom <- table(GenomicRanges::mcols(frags_valid)$V4)\n",
    "barcodes_found <- names(denom)\n"
   ]
  },
  {
   "cell_type": "code",
   "execution_count": 9,
   "id": "0a64615c",
   "metadata": {},
   "outputs": [],
   "source": [
    "# Get the overlaps with peaks\n",
    "ovPEAK <- GenomicRanges::findOverlaps(peaks_external, frags_valid)\n"
   ]
  },
  {
   "cell_type": "code",
   "execution_count": 10,
   "id": "41136ad2",
   "metadata": {},
   "outputs": [
    {
     "name": "stderr",
     "output_type": "stream",
     "text": [
      "`summarise()` has grouped output by 'peaks'. You can override using the `.groups` argument.\n",
      "\n"
     ]
    }
   ],
   "source": [
    "# Establish a numeric index for the barcodes for sparse matrix purposes\n",
    "id <- factor(as.character(GenomicRanges::mcols(frags_valid)$V4), levels = barcodes_found)\n",
    "\n",
    "# Make sparse matrix with counts with peaks by  unique barcode\n",
    "countdf <- data.frame(peaks = S4Vectors::queryHits(ovPEAK),\n",
    "                    sample = as.numeric(id)[S4Vectors::subjectHits(ovPEAK)]) %>%\n",
    "dplyr::group_by(peaks,sample) %>% dplyr::summarise(count = n()) %>% data.matrix()\n",
    "\n",
    "m <- Matrix::sparseMatrix(i = c(countdf[,1], length(peaks_external)),\n",
    "                        j = c(countdf[,2], length(barcodes_found)),\n",
    "                        x = c(countdf[,3],0))\n",
    "colnames(m) <- barcodes_found\n",
    "\n",
    "# Make a polished colData\n",
    "colData <- data.frame(\n",
    "sample = barcodes_found,\n",
    "depth = as.numeric(denom),\n",
    "FRIP = Matrix::colSums(m)/as.numeric(denom)\n",
    ")\n",
    "# Make sure that the SE can be correctly constructed\n",
    "stopifnot(all(colData$sample == colnames(m)))\n",
    "\n",
    "# Make summarized Experiment\n",
    "SE <- SummarizedExperiment::SummarizedExperiment(\n",
    "rowRanges = peaks_external,\n",
    "assays = list(counts = m),\n",
    "colData = colData\n",
    ")\n"
   ]
  },
  {
   "cell_type": "code",
   "execution_count": 11,
   "id": "f0872d5a",
   "metadata": {
    "scrolled": true
   },
   "outputs": [
    {
     "data": {
      "text/plain": [
       "class: RangedSummarizedExperiment \n",
       "dim: 571389 5313 \n",
       "metadata(0):\n",
       "assays(1): counts\n",
       "rownames: NULL\n",
       "rowData names(0):\n",
       "colnames(5313): AAACGAAAGGAAACTT-1 AAACGAAGTCCAAGAG-1 ...\n",
       "  TTTGTGTTCTCTGTTA-1 TTTGTGTTCTTCTTCC-1\n",
       "colData names(3): sample depth FRIP"
      ]
     },
     "metadata": {},
     "output_type": "display_data"
    }
   ],
   "source": [
    "SE"
   ]
  },
  {
   "cell_type": "code",
   "execution_count": 12,
   "id": "9a74a092",
   "metadata": {
    "scrolled": true
   },
   "outputs": [
    {
     "data": {
      "image/png": "[encoded data removed]"
     },
     "metadata": {
      "image/png": {
       "height": 420,
       "width": 420
      }
     },
     "output_type": "display_data"
    }
   ],
   "source": [
    "options(jupyter.plot_mimetypes = 'image/png')\n",
    "\n",
    "df <- data.frame(colData(SE))\n",
    "\n",
    "if(TRUE){\n",
    "df$density <- get_density(log10(df$depth + 1), df$FRIP*100)\n",
    "p1 <- ggplot(df %>% arrange(density), aes(x = log10(depth + 1),  y = FRIP*100, color = density)) +\n",
    "  geom_point_rast(size = 0.1) + scale_color_gradientn(colors = jdb_palette(\"brewer_celsius\")) +\n",
    "  pretty_plot() + L_border() + labs(x = \"log10 # Fragments\", y = \"FRIP\") +\n",
    "  theme(legend.position = \"bottom\") + ggtitle(exp) +\n",
    "  geom_vline(xintercept = 3.5, linetype = 2) +\n",
    "  geom_hline(yintercept = frip_threshold*100, linetype = 2) +\n",
    "  scale_y_continuous(limits = c(0,100))\n",
    "}\n",
    "print(p1)"
   ]
  },
  {
   "cell_type": "code",
   "execution_count": 14,
   "id": "6d89a5fc",
   "metadata": {},
   "outputs": [],
   "source": [
    "# Import mtDNA DF\n",
    "cov_mtDNA <- data.frame(colData(readRDS(paste0(indir_mgatk, exp, \".variant.rds\"))))\n",
    "vec <- as.numeric(cov_mtDNA$depth); names(vec) <- as.character(cov_mtDNA$sample)\n",
    "colData(SE)$mtDNAcoverage <- vec[as.character(df$sample)] %>% unname()\n",
    "df$mtDNAcoverage <- vec[as.character(df$sample)] %>% unname()"
   ]
  },
  {
   "cell_type": "code",
   "execution_count": 24,
   "id": "24796671",
   "metadata": {},
   "outputs": [
    {
     "data": {
      "text/html": [
       "33"
      ],
      "text/latex": [
       "33"
      ],
      "text/markdown": [
       "33"
      ],
      "text/plain": [
       "[1] 33"
      ]
     },
     "metadata": {},
     "output_type": "display_data"
    }
   ],
   "source": [
    "sum(df$mtDNAcoverage < 20, na.rm=TRUE)\n"
   ]
  },
  {
   "cell_type": "code",
   "execution_count": 29,
   "id": "d7c0e0f5",
   "metadata": {
    "scrolled": true
   },
   "outputs": [
    {
     "name": "stderr",
     "output_type": "stream",
     "text": [
      "`stat_bin()` using `bins = 30`. Pick better value with `binwidth`.\n",
      "\n",
      "Warning message:\n",
      "“Removed 1190 rows containing non-finite values (stat_bin).”\n"
     ]
    },
    {
     "data": {
      "image/png": "[encoded data removed]"
     },
     "metadata": {
      "image/png": {
       "height": 420,
       "width": 420
      }
     },
     "output_type": "display_data"
    }
   ],
   "source": [
    "p<- ggplot(df, aes(x=mtDNAcoverage)) + geom_histogram()\n",
    "print(p)"
   ]
  },
  {
   "cell_type": "code",
   "execution_count": 16,
   "id": "f1743d3e",
   "metadata": {},
   "outputs": [],
   "source": [
    "df$keep <- log10(df$depth) >= 3 & df$FRIP >= frip_threshold & df$mtDNAcoverage >= 20\n",
    "\n",
    "df$keep[is.na(df$keep)]<-FALSE\n",
    "df$keep"
   ]
  },
  {
   "cell_type": "code",
   "execution_count": 30,
   "id": "2e5249ad",
   "metadata": {},
   "outputs": [
    {
     "name": "stdout",
     "output_type": "stream",
     "text": [
      "[1] 571389   4073\n"
     ]
    }
   ],
   "source": [
    "SE2 <- SE[, df$keep]\n",
    "saveRDS(SE2, file = file.path(outdir, paste0(exp, \".rds\")))\n",
    "write.table(df, file = file.path(outdir, paste0(exp, \".barcode_qc.tsv\")), sep = \"\\t\", quote = FALSE, row.names = FALSE, col.names = TRUE)\n",
    "print(dim(SE2))\n",
    "\n",
    "df$density <- get_density(log10(df$depth + 1), df$FRIP*100)\n",
    "\n",
    "\n"
   ]
  },
  {
   "cell_type": "code",
   "execution_count": 31,
   "id": "2bf8bb0b",
   "metadata": {},
   "outputs": [
    {
     "data": {
      "text/plain": [
       "class: RangedSummarizedExperiment \n",
       "dim: 571389 4073 \n",
       "metadata(0):\n",
       "assays(1): counts\n",
       "rownames: NULL\n",
       "rowData names(0):\n",
       "colnames(4073): AAACGAAAGGAAACTT-1 AAACGAAGTCCAAGAG-1 ...\n",
       "  TTTGTGTTCGCTATAG-1 TTTGTGTTCTTCTTCC-1\n",
       "colData names(4): sample depth FRIP mtDNAcoverage"
      ]
     },
     "metadata": {},
     "output_type": "display_data"
    }
   ],
   "source": [
    "SE2"
   ]
  },
  {
   "cell_type": "code",
   "execution_count": null,
   "id": "a4ca0290",
   "metadata": {},
   "outputs": [],
   "source": []
  },
  {
   "cell_type": "code",
   "execution_count": null,
   "id": "6debdfbb",
   "metadata": {},
   "outputs": [],
   "source": []
  }
 ],
 "metadata": {
  "celltoolbar": "Tags",
  "kernelspec": {
   "display_name": "R [conda env:mito_trace] *",
   "language": "R",
   "name": "conda-env-mito_trace-r"
  },
  "language_info": {
   "codemirror_mode": "r",
   "file_extension": ".r",
   "mimetype": "text/x-r-source",
   "name": "R",
   "pygments_lexer": "r",
   "version": "4.0.2"
  }
 },
 "nbformat": 4,
 "nbformat_minor": 5
}
