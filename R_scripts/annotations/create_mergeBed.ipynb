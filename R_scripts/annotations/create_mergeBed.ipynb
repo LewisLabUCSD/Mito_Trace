{
 "cells": [
  {
   "cell_type": "markdown",
   "id": "223d6f46",
   "metadata": {},
   "source": [
    "## Creates binarized Seurat objects, integrates conditions and annotates genes by nearby peaks"
   ]
  },
  {
   "cell_type": "code",
   "execution_count": 1,
   "id": "663e2d4d",
   "metadata": {
    "tags": [
     "parameters"
    ]
   },
   "outputs": [],
   "source": [
    "# Input info\n",
    "#cellr_in = \"/home/isaac/lewis/mito_lineage/output/mtscATAC/data/DUPI_april08_2021_Croker/MTblacklist_mtasnucl/\" \n",
    "#outdir = \"/mnt/md0/isshamie/Projects/Mito_Trace/output/pipeline/DUPI_april08_2021/MTblacklist_mtasnucl_Bonly/data/annotation/gff_hg38_1_2/mergedSamples/\"\n",
    "\n",
    "# Parameters\n",
    "cores = 24\n",
    "\n",
    "gff_id = \"A2_black\"\n",
    "\n",
    "annotations_indir = \"/mnt/md0/isshamie/Projects/Mito_Trace/data/processed/annotation_granges/\"\n",
    "config_f = \"/data/Mito_Trace/parameters/pipeline/cosmo_server_v02/chip_paper/CHIP_aggr_samples.yaml\"\n",
    "out_f = \"/mnt/md0/isshamie/Projects/Mito_Trace/output/CHIP_aggr/data/annotation/gff_A2/mergedSamples/merged_peaks.bed\""
   ]
  },
  {
   "cell_type": "code",
   "execution_count": 2,
   "id": "b62b75ff",
   "metadata": {},
   "outputs": [],
   "source": [
    "library(repr)\n",
    "options(repr.plot.width=12, repr.plot.height=12)"
   ]
  },
  {
   "cell_type": "code",
   "execution_count": 3,
   "id": "e7657658",
   "metadata": {},
   "outputs": [
    {
     "name": "stderr",
     "output_type": "stream",
     "text": [
      "Warning message in readLines(file):\n",
      "“incomplete final line found on '/data/Mito_Trace/parameters/pipeline/cosmo_server_v02/chip_paper/CHIP_aggr_samples.yaml'”\n"
     ]
    },
    {
     "data": {
      "text/html": [
       "<dl>\n",
       "\t<dt>$CHIP_b1</dt>\n",
       "\t\t<dd>'/data/Mito_Trace/parameters/pipeline/cosmo_server_v02/CHIP_dec172021/CHIP_b1_dec172021.csv'</dd>\n",
       "\t<dt>$CHIP_b2</dt>\n",
       "\t\t<dd>'/data/Mito_Trace/parameters/pipeline/cosmo_server_v02/CHIP_dec172021/InputOnly/CHIP_b2_dec172021.csv'</dd>\n",
       "\t<dt>$CHIP_a1</dt>\n",
       "\t\t<dd>'/data/Mito_Trace/parameters/pipeline/cosmo_server_v02/CHIP_Input_nameFix_april08_2021.csv'</dd>\n",
       "\t<dt>$cd34norm</dt>\n",
       "\t\t<dd>'/data/Mito_Trace/parameters/pipeline/cosmo_server_v02/cd34norm.csv'</dd>\n",
       "</dl>\n"
      ],
      "text/latex": [
       "\\begin{description}\n",
       "\\item[\\$CHIP\\_b1] '/data/Mito\\_Trace/parameters/pipeline/cosmo\\_server\\_v02/CHIP\\_dec172021/CHIP\\_b1\\_dec172021.csv'\n",
       "\\item[\\$CHIP\\_b2] '/data/Mito\\_Trace/parameters/pipeline/cosmo\\_server\\_v02/CHIP\\_dec172021/InputOnly/CHIP\\_b2\\_dec172021.csv'\n",
       "\\item[\\$CHIP\\_a1] '/data/Mito\\_Trace/parameters/pipeline/cosmo\\_server\\_v02/CHIP\\_Input\\_nameFix\\_april08\\_2021.csv'\n",
       "\\item[\\$cd34norm] '/data/Mito\\_Trace/parameters/pipeline/cosmo\\_server\\_v02/cd34norm.csv'\n",
       "\\end{description}\n"
      ],
      "text/markdown": [
       "$CHIP_b1\n",
       ":   '/data/Mito_Trace/parameters/pipeline/cosmo_server_v02/CHIP_dec172021/CHIP_b1_dec172021.csv'\n",
       "$CHIP_b2\n",
       ":   '/data/Mito_Trace/parameters/pipeline/cosmo_server_v02/CHIP_dec172021/InputOnly/CHIP_b2_dec172021.csv'\n",
       "$CHIP_a1\n",
       ":   '/data/Mito_Trace/parameters/pipeline/cosmo_server_v02/CHIP_Input_nameFix_april08_2021.csv'\n",
       "$cd34norm\n",
       ":   '/data/Mito_Trace/parameters/pipeline/cosmo_server_v02/cd34norm.csv'\n",
       "\n",
       "\n"
      ],
      "text/plain": [
       "$CHIP_b1\n",
       "[1] \"/data/Mito_Trace/parameters/pipeline/cosmo_server_v02/CHIP_dec172021/CHIP_b1_dec172021.csv\"\n",
       "\n",
       "$CHIP_b2\n",
       "[1] \"/data/Mito_Trace/parameters/pipeline/cosmo_server_v02/CHIP_dec172021/InputOnly/CHIP_b2_dec172021.csv\"\n",
       "\n",
       "$CHIP_a1\n",
       "[1] \"/data/Mito_Trace/parameters/pipeline/cosmo_server_v02/CHIP_Input_nameFix_april08_2021.csv\"\n",
       "\n",
       "$cd34norm\n",
       "[1] \"/data/Mito_Trace/parameters/pipeline/cosmo_server_v02/cd34norm.csv\"\n"
      ]
     },
     "metadata": {},
     "output_type": "display_data"
    }
   ],
   "source": [
    "library(yaml)\n",
    "\n",
    "samps <- read_yaml(config_f)$samples_csv\n",
    "samps"
   ]
  },
  {
   "cell_type": "code",
   "execution_count": 4,
   "id": "13b8908a",
   "metadata": {
    "scrolled": true
   },
   "outputs": [],
   "source": [
    "annotations <- readRDS(file.path(annotations_indir, paste0(gff_id, \".annotationGranges.rds\")))"
   ]
  },
  {
   "cell_type": "code",
   "execution_count": 5,
   "id": "b38edf7a",
   "metadata": {
    "scrolled": true
   },
   "outputs": [
    {
     "name": "stderr",
     "output_type": "stream",
     "text": [
      "Loading required package: GenomicRanges\n",
      "\n",
      "Loading required package: stats4\n",
      "\n",
      "Loading required package: BiocGenerics\n",
      "\n",
      "\n",
      "Attaching package: ‘BiocGenerics’\n",
      "\n",
      "\n",
      "The following objects are masked from ‘package:stats’:\n",
      "\n",
      "    IQR, mad, sd, var, xtabs\n",
      "\n",
      "\n",
      "The following objects are masked from ‘package:base’:\n",
      "\n",
      "    anyDuplicated, append, as.data.frame, basename, cbind, colnames,\n",
      "    dirname, do.call, duplicated, eval, evalq, Filter, Find, get, grep,\n",
      "    grepl, intersect, is.unsorted, lapply, Map, mapply, match, mget,\n",
      "    order, paste, pmax, pmax.int, pmin, pmin.int, Position, rank,\n",
      "    rbind, Reduce, rownames, sapply, setdiff, sort, table, tapply,\n",
      "    union, unique, unsplit, which.max, which.min\n",
      "\n",
      "\n",
      "Loading required package: S4Vectors\n",
      "\n",
      "\n",
      "Attaching package: ‘S4Vectors’\n",
      "\n",
      "\n",
      "The following objects are masked from ‘package:base’:\n",
      "\n",
      "    expand.grid, I, unname\n",
      "\n",
      "\n",
      "Loading required package: IRanges\n",
      "\n",
      "Loading required package: GenomeInfoDb\n",
      "\n"
     ]
    },
    {
     "data": {
      "text/plain": [
       "GRanges object with 2765969 ranges and 25 metadata columns:\n",
       "              seqnames        ranges strand |   source       type     score\n",
       "                 <Rle>     <IRanges>  <Rle> | <factor>   <factor> <numeric>\n",
       "        [1]       chr1   29554-31109      + |   HAVANA gene              NA\n",
       "        [2]       chr1   29554-31097      + |   HAVANA transcript        NA\n",
       "        [3]       chr1   29554-30039      + |   HAVANA exon              NA\n",
       "        [4]       chr1   30564-30667      + |   HAVANA exon              NA\n",
       "        [5]       chr1   30976-31097      + |   HAVANA exon              NA\n",
       "        ...        ...           ...    ... .      ...        ...       ...\n",
       "  [2765965] KI270734.1 138483-138667      - |  ENSEMBL CDS               NA\n",
       "  [2765966] KI270734.1 138480-138482      - |  ENSEMBL stop_codon        NA\n",
       "  [2765967] KI270734.1 161689-161852      - |  ENSEMBL UTR               NA\n",
       "  [2765968] KI270734.1 161587-161626      - |  ENSEMBL UTR               NA\n",
       "  [2765969] KI270734.1 138082-138482      - |  ENSEMBL UTR               NA\n",
       "                phase         gene_id gene_version      gene_type   gene_name\n",
       "            <integer>     <character>  <character>    <character> <character>\n",
       "        [1]      <NA> ENSG00000243485            5         lncRNA MIR1302-2HG\n",
       "        [2]      <NA> ENSG00000243485            5         lncRNA MIR1302-2HG\n",
       "        [3]      <NA> ENSG00000243485            5         lncRNA MIR1302-2HG\n",
       "        [4]      <NA> ENSG00000243485            5         lncRNA MIR1302-2HG\n",
       "        [5]      <NA> ENSG00000243485            5         lncRNA MIR1302-2HG\n",
       "        ...       ...             ...          ...            ...         ...\n",
       "  [2765965]         2 ENSG00000277196            4 protein_coding  AC007325.2\n",
       "  [2765966]         0 ENSG00000277196            4 protein_coding  AC007325.2\n",
       "  [2765967]      <NA> ENSG00000277196            4 protein_coding  AC007325.2\n",
       "  [2765968]      <NA> ENSG00000277196            4 protein_coding  AC007325.2\n",
       "  [2765969]      <NA> ENSG00000277196            4 protein_coding  AC007325.2\n",
       "                  level     hgnc_id         tag          havana_gene\n",
       "            <character> <character> <character>          <character>\n",
       "        [1]           2  HGNC:52482  ncRNA_host OTTHUMG00000000959.2\n",
       "        [2]           2  HGNC:52482       basic OTTHUMG00000000959.2\n",
       "        [3]           2  HGNC:52482       basic OTTHUMG00000000959.2\n",
       "        [4]           2  HGNC:52482       basic OTTHUMG00000000959.2\n",
       "        [5]           2  HGNC:52482       basic OTTHUMG00000000959.2\n",
       "        ...         ...         ...         ...                  ...\n",
       "  [2765965]           3        <NA>       basic                 <NA>\n",
       "  [2765966]           3        <NA>       basic                 <NA>\n",
       "  [2765967]           3        <NA>       basic                 <NA>\n",
       "  [2765968]           3        <NA>       basic                 <NA>\n",
       "  [2765969]           3        <NA>       basic                 <NA>\n",
       "              transcript_id transcript_version transcript_type transcript_name\n",
       "                <character>        <character>     <character>     <character>\n",
       "        [1]            <NA>               <NA>            <NA>            <NA>\n",
       "        [2] ENST00000473358                  1          lncRNA MIR1302-2HG-202\n",
       "        [3] ENST00000473358                  1          lncRNA MIR1302-2HG-202\n",
       "        [4] ENST00000473358                  1          lncRNA MIR1302-2HG-202\n",
       "        [5] ENST00000473358                  1          lncRNA MIR1302-2HG-202\n",
       "        ...             ...                ...             ...             ...\n",
       "  [2765965] ENST00000621424                  4  protein_coding  AC007325.2-201\n",
       "  [2765966] ENST00000621424                  4  protein_coding  AC007325.2-201\n",
       "  [2765967] ENST00000621424                  4  protein_coding  AC007325.2-201\n",
       "  [2765968] ENST00000621424                  4  protein_coding  AC007325.2-201\n",
       "  [2765969] ENST00000621424                  4  protein_coding  AC007325.2-201\n",
       "            transcript_support_level    havana_transcript exon_number\n",
       "                         <character>          <character> <character>\n",
       "        [1]                     <NA>                 <NA>        <NA>\n",
       "        [2]                        5 OTTHUMT00000002840.1        <NA>\n",
       "        [3]                        5 OTTHUMT00000002840.1           1\n",
       "        [4]                        5 OTTHUMT00000002840.1           2\n",
       "        [5]                        5 OTTHUMT00000002840.1           3\n",
       "        ...                      ...                  ...         ...\n",
       "  [2765965]                        1                 <NA>          15\n",
       "  [2765966]                        1                 <NA>          15\n",
       "  [2765967]                        1                 <NA>           1\n",
       "  [2765968]                        1                 <NA>           2\n",
       "  [2765969]                        1                 <NA>          15\n",
       "                    exon_id exon_version        protein_id      ccdsid\n",
       "                <character>  <character>       <character> <character>\n",
       "        [1]            <NA>         <NA>              <NA>        <NA>\n",
       "        [2]            <NA>         <NA>              <NA>        <NA>\n",
       "        [3] ENSE00001947070            1              <NA>        <NA>\n",
       "        [4] ENSE00001922571            1              <NA>        <NA>\n",
       "        [5] ENSE00001827679            1              <NA>        <NA>\n",
       "        ...             ...          ...               ...         ...\n",
       "  [2765965] ENSE00003753010            1 ENSP00000481127.1        <NA>\n",
       "  [2765966] ENSE00003753010            1 ENSP00000481127.1        <NA>\n",
       "  [2765967] ENSE00003746084            1 ENSP00000481127.1        <NA>\n",
       "  [2765968] ENSE00003719550            1 ENSP00000481127.1        <NA>\n",
       "  [2765969] ENSE00003753010            1 ENSP00000481127.1        <NA>\n",
       "                    ont   gene_biotype\n",
       "            <character>    <character>\n",
       "        [1]        <NA>         lncRNA\n",
       "        [2]        <NA>         lncRNA\n",
       "        [3]        <NA>         lncRNA\n",
       "        [4]        <NA>         lncRNA\n",
       "        [5]        <NA>         lncRNA\n",
       "        ...         ...            ...\n",
       "  [2765965]        <NA> protein_coding\n",
       "  [2765966]        <NA> protein_coding\n",
       "  [2765967]        <NA> protein_coding\n",
       "  [2765968]        <NA> protein_coding\n",
       "  [2765969]        <NA> protein_coding\n",
       "  -------\n",
       "  seqinfo: 40 sequences from hg38 genome; no seqlengths"
      ]
     },
     "metadata": {},
     "output_type": "display_data"
    }
   ],
   "source": [
    "annotations"
   ]
  },
  {
   "cell_type": "code",
   "execution_count": 6,
   "id": "aad4f638",
   "metadata": {
    "scrolled": true
   },
   "outputs": [
    {
     "name": "stderr",
     "output_type": "stream",
     "text": [
      "Attaching SeuratObject\n",
      "\n",
      "\n",
      "Attaching package: ‘data.table’\n",
      "\n",
      "\n",
      "The following object is masked from ‘package:GenomicRanges’:\n",
      "\n",
      "    shift\n",
      "\n",
      "\n",
      "The following object is masked from ‘package:IRanges’:\n",
      "\n",
      "    shift\n",
      "\n",
      "\n",
      "The following objects are masked from ‘package:S4Vectors’:\n",
      "\n",
      "    first, second\n",
      "\n",
      "\n",
      "\n",
      "Attaching package: ‘cowplot’\n",
      "\n",
      "\n",
      "The following object is masked from ‘package:patchwork’:\n",
      "\n",
      "    align_plots\n",
      "\n",
      "\n",
      "\n",
      "Attaching package: ‘dplyr’\n",
      "\n",
      "\n",
      "The following objects are masked from ‘package:data.table’:\n",
      "\n",
      "    between, first, last\n",
      "\n",
      "\n",
      "The following objects are masked from ‘package:GenomicRanges’:\n",
      "\n",
      "    intersect, setdiff, union\n",
      "\n",
      "\n",
      "The following object is masked from ‘package:GenomeInfoDb’:\n",
      "\n",
      "    intersect\n",
      "\n",
      "\n",
      "The following objects are masked from ‘package:IRanges’:\n",
      "\n",
      "    collapse, desc, intersect, setdiff, slice, union\n",
      "\n",
      "\n",
      "The following objects are masked from ‘package:S4Vectors’:\n",
      "\n",
      "    first, intersect, rename, setdiff, setequal, union\n",
      "\n",
      "\n",
      "The following objects are masked from ‘package:BiocGenerics’:\n",
      "\n",
      "    combine, intersect, setdiff, union\n",
      "\n",
      "\n",
      "The following objects are masked from ‘package:stats’:\n",
      "\n",
      "    filter, lag\n",
      "\n",
      "\n",
      "The following objects are masked from ‘package:base’:\n",
      "\n",
      "    intersect, setdiff, setequal, union\n",
      "\n",
      "\n",
      "\n",
      "Attaching package: ‘future’\n",
      "\n",
      "\n",
      "The following object is masked from ‘package:GenomicRanges’:\n",
      "\n",
      "    values\n",
      "\n",
      "\n",
      "The following object is masked from ‘package:S4Vectors’:\n",
      "\n",
      "    values\n",
      "\n",
      "\n",
      "Warning message:\n",
      "“Strategy 'multiprocess' is deprecated in future (>= 1.20.0). Instead, explicitly specify either 'multisession' or 'multicore'. In the current R session, 'multiprocess' equals 'multicore'.”\n"
     ]
    }
   ],
   "source": [
    "library(GenomicRanges)\n",
    "library(Seurat)\n",
    "library(Signac)\n",
    "library(GenomeInfoDb)\n",
    "#library(EnsDb.Hsapiens.v75)\n",
    "library(ggplot2)\n",
    "library(patchwork)\n",
    "set.seed(1234)\n",
    "library(data.table)\n",
    "library(magrittr)\n",
    "library(cowplot)\n",
    "library(metap)\n",
    "library(dplyr)\n",
    "library(future)\n",
    "\n",
    "plan(\"multiprocess\", workers = cores)\n",
    "options(future.globals.maxSize = 8000 * 1024^2)\n",
    "#options(future.globals.maxSize = 50000 * 1024^2) # for 50 Gb RAM\n",
    "#plan(\"multiprocess\", workers = workers)"
   ]
  },
  {
   "cell_type": "markdown",
   "id": "a53a3256",
   "metadata": {},
   "source": [
    "## Merge all peaks"
   ]
  },
  {
   "cell_type": "code",
   "execution_count": 7,
   "id": "f52cad3f",
   "metadata": {
    "scrolled": true
   },
   "outputs": [
    {
     "name": "stderr",
     "output_type": "stream",
     "text": [
      "\u001b[1mRows: \u001b[22m\u001b[34m3\u001b[39m \u001b[1mColumns: \u001b[22m\u001b[34m5\u001b[39m\n",
      "\u001b[36m──\u001b[39m \u001b[1mColumn specification\u001b[22m \u001b[36m──────────────────────────────────────────────────────────────────────────────────────────────────────────────────────────────────────────────────────────────────────────────────────────────────────────────────────\u001b[39m\n",
      "\u001b[1mDelimiter:\u001b[22m \",\"\n",
      "\u001b[31mchr\u001b[39m (5): sample_name, cellr_ID, fastq_ID, barcode_f, bam_f\n",
      "\n",
      "\u001b[36mℹ\u001b[39m Use `spec()` to retrieve the full column specification for this data.\n",
      "\u001b[36mℹ\u001b[39m Specify the column types or set `show_col_types = FALSE` to quiet this message.\n"
     ]
    },
    {
     "name": "stdout",
     "output_type": "stream",
     "text": [
      "\u001b[90m# A tibble: 3 × 5\u001b[39m\n",
      "  sample_name cellr_ID fastq_ID             barcode_f                      bam_f\n",
      "  \u001b[3m\u001b[90m<chr>\u001b[39m\u001b[23m       \u001b[3m\u001b[90m<chr>\u001b[39m\u001b[23m    \u001b[3m\u001b[90m<chr>\u001b[39m\u001b[23m                \u001b[3m\u001b[90m<chr>\u001b[39m\u001b[23m                          \u001b[3m\u001b[90m<chr>\u001b[39m\u001b[23m\n",
      "\u001b[90m1\u001b[39m Control     Control  BC_10xATAC_rxn1b_neg /home/isaac/lewis/mito_lineag… /hom…\n",
      "\u001b[90m2\u001b[39m Flt3l       Flt3l    BC_10xATAC_rxn1b_pos /home/isaac/lewis/mito_lineag… /hom…\n",
      "\u001b[90m3\u001b[39m Input       Input    BC_10xATAC_rxn1      /home/isaac/lewis/mito_lineag… /hom…\n",
      "[1] \"curr.samp\"\n",
      "[1] \"/home/isaac/lewis/mito_lineage/output/mtscATAC/data/CHIP_dec172021_b1/MTBlacklist_A2/Control/outs/filtered_peak_bc_matrix/barcodes.tsv\"\n",
      "[1] \"/home/isaac/lewis/mito_lineage/output/mtscATAC/data/CHIP_dec172021_b1/MTBlacklist_A2/Control/outs/filtered_peak_bc_matrix/peaks.bed\"\n",
      "[1] \"curr.samp\"\n",
      "[1] \"/home/isaac/lewis/mito_lineage/output/mtscATAC/data/CHIP_dec172021_b1/MTBlacklist_A2/Flt3l/outs/filtered_peak_bc_matrix/barcodes.tsv\"\n",
      "[1] \"/home/isaac/lewis/mito_lineage/output/mtscATAC/data/CHIP_dec172021_b1/MTBlacklist_A2/Flt3l/outs/filtered_peak_bc_matrix/peaks.bed\"\n",
      "[1] \"curr.samp\"\n",
      "[1] \"/home/isaac/lewis/mito_lineage/output/mtscATAC/data/CHIP_dec172021_b1/MTBlacklist_A2/Input/outs/filtered_peak_bc_matrix/barcodes.tsv\"\n",
      "[1] \"/home/isaac/lewis/mito_lineage/output/mtscATAC/data/CHIP_dec172021_b1/MTBlacklist_A2/Input/outs/filtered_peak_bc_matrix/peaks.bed\"\n"
     ]
    },
    {
     "name": "stderr",
     "output_type": "stream",
     "text": [
      "\u001b[1mRows: \u001b[22m\u001b[34m1\u001b[39m \u001b[1mColumns: \u001b[22m\u001b[34m5\u001b[39m\n",
      "\u001b[36m──\u001b[39m \u001b[1mColumn specification\u001b[22m \u001b[36m──────────────────────────────────────────────────────────────────────────────────────────────────────────────────────────────────────────────────────────────────────────────────────────────────────────────────────\u001b[39m\n",
      "\u001b[1mDelimiter:\u001b[22m \",\"\n",
      "\u001b[31mchr\u001b[39m (5): sample_name, cellr_ID, fastq_ID, barcode_f, bam_f\n",
      "\n",
      "\u001b[36mℹ\u001b[39m Use `spec()` to retrieve the full column specification for this data.\n",
      "\u001b[36mℹ\u001b[39m Specify the column types or set `show_col_types = FALSE` to quiet this message.\n"
     ]
    },
    {
     "name": "stdout",
     "output_type": "stream",
     "text": [
      "\u001b[90m# A tibble: 1 × 5\u001b[39m\n",
      "  sample_name cellr_ID fastq_ID        barcode_f                           bam_f\n",
      "  \u001b[3m\u001b[90m<chr>\u001b[39m\u001b[23m       \u001b[3m\u001b[90m<chr>\u001b[39m\u001b[23m    \u001b[3m\u001b[90m<chr>\u001b[39m\u001b[23m           \u001b[3m\u001b[90m<chr>\u001b[39m\u001b[23m                               \u001b[3m\u001b[90m<chr>\u001b[39m\u001b[23m\n",
      "\u001b[90m1\u001b[39m Input       Input    BC_10xATAC_rxn2 /home/isaac/lewis/mito_lineage/out… /hom…\n",
      "[1] \"curr.samp\"\n",
      "[1] \"/home/isaac/lewis/mito_lineage/output/mtscATAC/data/CHIP_dec172021_b2/MTBlacklist_A2/Input/outs/filtered_peak_bc_matrix/barcodes.tsv\"\n",
      "[1] \"/home/isaac/lewis/mito_lineage/output/mtscATAC/data/CHIP_dec172021_b2/MTBlacklist_A2/Input/outs/filtered_peak_bc_matrix/peaks.bed\"\n"
     ]
    },
    {
     "name": "stderr",
     "output_type": "stream",
     "text": [
      "\u001b[1mRows: \u001b[22m\u001b[34m2\u001b[39m \u001b[1mColumns: \u001b[22m\u001b[34m5\u001b[39m\n",
      "\u001b[36m──\u001b[39m \u001b[1mColumn specification\u001b[22m \u001b[36m──────────────────────────────────────────────────────────────────────────────────────────────────────────────────────────────────────────────────────────────────────────────────────────────────────────────────────\u001b[39m\n",
      "\u001b[1mDelimiter:\u001b[22m \",\"\n",
      "\u001b[31mchr\u001b[39m (5): sample_name, cellr_ID, fastq_ID, barcode_f, bam_f\n",
      "\n",
      "\u001b[36mℹ\u001b[39m Use `spec()` to retrieve the full column specification for this data.\n",
      "\u001b[36mℹ\u001b[39m Specify the column types or set `show_col_types = FALSE` to quiet this message.\n"
     ]
    },
    {
     "name": "stdout",
     "output_type": "stream",
     "text": [
      "\u001b[90m# A tibble: 2 × 5\u001b[39m\n",
      "  sample_name cellr_ID fastq_ID      barcode_f                             bam_f\n",
      "  \u001b[3m\u001b[90m<chr>\u001b[39m\u001b[23m       \u001b[3m\u001b[90m<chr>\u001b[39m\u001b[23m    \u001b[3m\u001b[90m<chr>\u001b[39m\u001b[23m         \u001b[3m\u001b[90m<chr>\u001b[39m\u001b[23m                                 \u001b[3m\u001b[90m<chr>\u001b[39m\u001b[23m\n",
      "\u001b[90m1\u001b[39m Input       Flt3l    BC_10xATAC_Fp /home/isaac/lewis/mito_lineage/outpu… /hom…\n",
      "\u001b[90m2\u001b[39m Flt3l       Control  BC_10xATAC_Fn /home/isaac/lewis/mito_lineage/outpu… /hom…\n",
      "[1] \"curr.samp\"\n",
      "[1] \"/home/isaac/lewis/mito_lineage/output/mtscATAC/data/CHIP_april08_2021_Croker/MTblacklist/Flt3l/outs/filtered_peak_bc_matrix/barcodes.tsv\"\n",
      "[1] \"/home/isaac/lewis/mito_lineage/output/mtscATAC/data/CHIP_april08_2021_Croker/MTblacklist/Flt3l/outs/filtered_peak_bc_matrix/peaks.bed\"\n",
      "[1] \"curr.samp\"\n",
      "[1] \"/home/isaac/lewis/mito_lineage/output/mtscATAC/data/CHIP_april08_2021_Croker/MTblacklist/Control/outs/filtered_peak_bc_matrix/barcodes.tsv\"\n",
      "[1] \"/home/isaac/lewis/mito_lineage/output/mtscATAC/data/CHIP_april08_2021_Croker/MTblacklist/Control/outs/filtered_peak_bc_matrix/peaks.bed\"\n"
     ]
    },
    {
     "name": "stderr",
     "output_type": "stream",
     "text": [
      "\u001b[1mRows: \u001b[22m\u001b[34m2\u001b[39m \u001b[1mColumns: \u001b[22m\u001b[34m5\u001b[39m\n",
      "\u001b[36m──\u001b[39m \u001b[1mColumn specification\u001b[22m \u001b[36m──────────────────────────────────────────────────────────────────────────────────────────────────────────────────────────────────────────────────────────────────────────────────────────────────────────────────────\u001b[39m\n",
      "\u001b[1mDelimiter:\u001b[22m \",\"\n",
      "\u001b[31mchr\u001b[39m (5): sample_name, cellr_ID, fastq_ID, barcode_f, bam_f\n",
      "\n",
      "\u001b[36mℹ\u001b[39m Use `spec()` to retrieve the full column specification for this data.\n",
      "\u001b[36mℹ\u001b[39m Specify the column types or set `show_col_types = FALSE` to quiet this message.\n"
     ]
    },
    {
     "name": "stdout",
     "output_type": "stream",
     "text": [
      "\u001b[90m# A tibble: 2 × 5\u001b[39m\n",
      "  sample_name cellr_ID fastq_ID      barcode_f                             bam_f\n",
      "  \u001b[3m\u001b[90m<chr>\u001b[39m\u001b[23m       \u001b[3m\u001b[90m<chr>\u001b[39m\u001b[23m    \u001b[3m\u001b[90m<chr>\u001b[39m\u001b[23m         \u001b[3m\u001b[90m<chr>\u001b[39m\u001b[23m                                 \u001b[3m\u001b[90m<chr>\u001b[39m\u001b[23m\n",
      "\u001b[90m1\u001b[39m Control     P2       BC_10xATAC_P2 /home/isaac/lewis/mito_lineage/outpu… /hom…\n",
      "\u001b[90m2\u001b[39m Flt3l       J2       BC_10xATAC_J2 /home/isaac/lewis/mito_lineage/outpu… /hom…\n",
      "[1] \"curr.samp\"\n",
      "[1] \"/home/isaac/lewis/mito_lineage/output/mtscATAC/data/jan21_2021/MTblacklist/P2/outs/filtered_peak_bc_matrix/barcodes.tsv\"\n",
      "[1] \"/home/isaac/lewis/mito_lineage/output/mtscATAC/data/jan21_2021/MTblacklist/P2/outs/filtered_peak_bc_matrix/peaks.bed\"\n",
      "[1] \"curr.samp\"\n",
      "[1] \"/home/isaac/lewis/mito_lineage/output/mtscATAC/data/jan21_2021/MTblacklist/J2/outs/filtered_peak_bc_matrix/barcodes.tsv\"\n",
      "[1] \"/home/isaac/lewis/mito_lineage/output/mtscATAC/data/jan21_2021/MTblacklist/J2/outs/filtered_peak_bc_matrix/peaks.bed\"\n"
     ]
    }
   ],
   "source": [
    "read.peaks <- function(curr.samp.f){\n",
    "    print('curr.samp')\n",
    "    print(curr.samp.f)\n",
    "    print(stringr::str_replace(curr.samp.f, \"barcodes.tsv\", \"peaks.bed\"))\n",
    "    peaks <- read.table(\n",
    "      file = stringr::str_replace(curr.samp.f, \"barcodes.tsv\", \"peaks.bed\"),\n",
    "      col.names = c(\"chr\", \"start\", \"end\")\n",
    "    )\n",
    "    # convert to genomic ranges\n",
    "    gr <- makeGRangesFromDataFrame(peaks)\n",
    "    return(gr)\n",
    "}\n",
    "\n",
    "\n",
    "run.experiments <- function(sample_csv){\n",
    "    curr.csv <- readr::read_csv(sample_csv)\n",
    "    print(curr.csv)\n",
    "    curr.grs <- sapply(curr.csv$barcode_f, read.peaks)\n",
    "    return(curr.grs)\n",
    "}\n",
    "\n",
    "gr.full <- sapply(samps, run.experiments)\n"
   ]
  },
  {
   "cell_type": "code",
   "execution_count": 8,
   "id": "50fb4900",
   "metadata": {},
   "outputs": [],
   "source": [
    "gr.full <- unlist(gr.full, recursive=FALSE, use.names=FALSE)\n"
   ]
  },
  {
   "cell_type": "code",
   "execution_count": 9,
   "id": "62849b8a",
   "metadata": {
    "scrolled": true
   },
   "outputs": [
    {
     "data": {
      "text/plain": [
       "GRanges object with 6 ranges and 0 metadata columns:\n",
       "      seqnames        ranges strand\n",
       "         <Rle>     <IRanges>  <Rle>\n",
       "  [1]     chr1    9866-10638      *\n",
       "  [2]     chr1   16106-16366      *\n",
       "  [3]     chr1   96454-96767      *\n",
       "  [4]     chr1 180685-181403      *\n",
       "  [5]     chr1 184126-184527      *\n",
       "  [6]     chr1 191059-192097      *\n",
       "  -------\n",
       "  seqinfo: 24 sequences from an unspecified genome; no seqlengths"
      ]
     },
     "metadata": {},
     "output_type": "display_data"
    }
   ],
   "source": [
    "gr.full.c <- gr.full[[1]]\n",
    "if (length(gr.full)>1){\n",
    "    for (i in 2:length(gr.full)){\n",
    "      gr.full.c <- c(gr.full.c, gr.full[[i]])\n",
    "    }\n",
    "}\n",
    "combined.peaks <- reduce(x = c(gr.full.c))\n",
    "\n",
    "# Filter out bad peaks based on length\n",
    "peakwidths <- width(combined.peaks)\n",
    "combined.peaks <- combined.peaks[peakwidths  < 10000 & peakwidths > 20]\n",
    "head(combined.peaks)"
   ]
  },
  {
   "cell_type": "code",
   "execution_count": 10,
   "id": "b933b0c8",
   "metadata": {},
   "outputs": [
    {
     "data": {
      "text/html": [
       "230725"
      ],
      "text/latex": [
       "230725"
      ],
      "text/markdown": [
       "230725"
      ],
      "text/plain": [
       "[1] 230725"
      ]
     },
     "metadata": {},
     "output_type": "display_data"
    }
   ],
   "source": [
    "length(combined.peaks)"
   ]
  },
  {
   "cell_type": "markdown",
   "id": "f9242485",
   "metadata": {},
   "source": [
    "## Are any peaks in the chrM"
   ]
  },
  {
   "cell_type": "code",
   "execution_count": 11,
   "id": "29cf7790",
   "metadata": {},
   "outputs": [
    {
     "data": {
      "text/html": [
       "230725"
      ],
      "text/latex": [
       "230725"
      ],
      "text/markdown": [
       "230725"
      ],
      "text/plain": [
       "[1] 230725"
      ]
     },
     "metadata": {},
     "output_type": "display_data"
    }
   ],
   "source": [
    "length(combined.peaks[seqnames(combined.peaks) != \"chrM\"])\n"
   ]
  },
  {
   "cell_type": "code",
   "execution_count": 12,
   "id": "27d61bd3",
   "metadata": {
    "scrolled": false
   },
   "outputs": [
    {
     "data": {
      "text/plain": [
       "GRanges object with 21709 ranges and 0 metadata columns:\n",
       "          seqnames              ranges strand\n",
       "             <Rle>           <IRanges>  <Rle>\n",
       "      [1]     chr1          9866-10638      *\n",
       "      [2]     chr1         16106-16366      *\n",
       "      [3]     chr1         96454-96767      *\n",
       "      [4]     chr1       180685-181403      *\n",
       "      [5]     chr1       184126-184527      *\n",
       "      ...      ...                 ...    ...\n",
       "  [21705]     chr1 248924437-248928616      *\n",
       "  [21706]     chr1 248930023-248930301      *\n",
       "  [21707]     chr1 248942373-248942525      *\n",
       "  [21708]     chr1 248944205-248944462      *\n",
       "  [21709]     chr1 248944909-248946333      *\n",
       "  -------\n",
       "  seqinfo: 24 sequences from an unspecified genome; no seqlengths"
      ]
     },
     "metadata": {},
     "output_type": "display_data"
    }
   ],
   "source": [
    "#combined.peaks[seqnames(combined.peaks) == \"chrM\"]\n",
    "\n",
    "combined.peaks[seqnames(combined.peaks) == \"chr1\"]\n"
   ]
  },
  {
   "cell_type": "markdown",
   "id": "fa630e1c",
   "metadata": {},
   "source": [
    "## Remove any peaks in the chrM"
   ]
  },
  {
   "cell_type": "code",
   "execution_count": 13,
   "id": "cb249d4a",
   "metadata": {},
   "outputs": [
    {
     "data": {
      "text/html": [
       "230725"
      ],
      "text/latex": [
       "230725"
      ],
      "text/markdown": [
       "230725"
      ],
      "text/plain": [
       "[1] 230725"
      ]
     },
     "metadata": {},
     "output_type": "display_data"
    }
   ],
   "source": [
    "combined.peaks = combined.peaks[seqnames(combined.peaks) != \"chrM\"]\n",
    "length(combined.peaks)"
   ]
  },
  {
   "cell_type": "markdown",
   "id": "9c5d066a",
   "metadata": {},
   "source": [
    "## Save merged peaks as bed"
   ]
  },
  {
   "cell_type": "code",
   "execution_count": 14,
   "id": "e97bc170",
   "metadata": {},
   "outputs": [],
   "source": [
    "gr <- unlist(as(gr.full, \"GRangesList\"))"
   ]
  },
  {
   "cell_type": "code",
   "execution_count": 15,
   "id": "c5e8b1ad",
   "metadata": {
    "scrolled": true
   },
   "outputs": [
    {
     "data": {
      "text/html": [
       "<table class=\"dataframe\">\n",
       "<caption>A data.frame: 1136127 × 6</caption>\n",
       "<thead>\n",
       "\t<tr><th scope=col>seqnames</th><th scope=col>starts</th><th scope=col>ends</th><th scope=col>names</th><th scope=col>scores</th><th scope=col>strands</th></tr>\n",
       "\t<tr><th scope=col>&lt;fct&gt;</th><th scope=col>&lt;int&gt;</th><th scope=col>&lt;int&gt;</th><th scope=col>&lt;int&gt;</th><th scope=col>&lt;chr&gt;</th><th scope=col>&lt;fct&gt;</th></tr>\n",
       "</thead>\n",
       "<tbody>\n",
       "\t<tr><td>chr1</td><td>  9866</td><td> 10609</td><td> 1</td><td>.</td><td>*</td></tr>\n",
       "\t<tr><td>chr1</td><td>180846</td><td>180976</td><td> 2</td><td>.</td><td>*</td></tr>\n",
       "\t<tr><td>chr1</td><td>184393</td><td>184458</td><td> 3</td><td>.</td><td>*</td></tr>\n",
       "\t<tr><td>chr1</td><td>191211</td><td>191970</td><td> 4</td><td>.</td><td>*</td></tr>\n",
       "\t<tr><td>chr1</td><td>267786</td><td>268257</td><td> 5</td><td>.</td><td>*</td></tr>\n",
       "\t<tr><td>chr1</td><td>271048</td><td>271558</td><td> 6</td><td>.</td><td>*</td></tr>\n",
       "\t<tr><td>chr1</td><td>586018</td><td>586368</td><td> 7</td><td>.</td><td>*</td></tr>\n",
       "\t<tr><td>chr1</td><td>605251</td><td>605792</td><td> 8</td><td>.</td><td>*</td></tr>\n",
       "\t<tr><td>chr1</td><td>778134</td><td>779417</td><td> 9</td><td>.</td><td>*</td></tr>\n",
       "\t<tr><td>chr1</td><td>816855</td><td>817645</td><td>10</td><td>.</td><td>*</td></tr>\n",
       "\t<tr><td>chr1</td><td>825192</td><td>825653</td><td>11</td><td>.</td><td>*</td></tr>\n",
       "\t<tr><td>chr1</td><td>826729</td><td>827922</td><td>12</td><td>.</td><td>*</td></tr>\n",
       "\t<tr><td>chr1</td><td>838084</td><td>838801</td><td>13</td><td>.</td><td>*</td></tr>\n",
       "\t<tr><td>chr1</td><td>842842</td><td>843103</td><td>14</td><td>.</td><td>*</td></tr>\n",
       "\t<tr><td>chr1</td><td>858100</td><td>858306</td><td>15</td><td>.</td><td>*</td></tr>\n",
       "\t<tr><td>chr1</td><td>869106</td><td>870233</td><td>16</td><td>.</td><td>*</td></tr>\n",
       "\t<tr><td>chr1</td><td>890737</td><td>891033</td><td>17</td><td>.</td><td>*</td></tr>\n",
       "\t<tr><td>chr1</td><td>897212</td><td>897762</td><td>18</td><td>.</td><td>*</td></tr>\n",
       "\t<tr><td>chr1</td><td>904367</td><td>905700</td><td>19</td><td>.</td><td>*</td></tr>\n",
       "\t<tr><td>chr1</td><td>906308</td><td>907412</td><td>20</td><td>.</td><td>*</td></tr>\n",
       "\t<tr><td>chr1</td><td>911102</td><td>911684</td><td>21</td><td>.</td><td>*</td></tr>\n",
       "\t<tr><td>chr1</td><td>912554</td><td>913314</td><td>22</td><td>.</td><td>*</td></tr>\n",
       "\t<tr><td>chr1</td><td>915728</td><td>915852</td><td>23</td><td>.</td><td>*</td></tr>\n",
       "\t<tr><td>chr1</td><td>916617</td><td>917014</td><td>24</td><td>.</td><td>*</td></tr>\n",
       "\t<tr><td>chr1</td><td>920790</td><td>921445</td><td>25</td><td>.</td><td>*</td></tr>\n",
       "\t<tr><td>chr1</td><td>923181</td><td>924045</td><td>26</td><td>.</td><td>*</td></tr>\n",
       "\t<tr><td>chr1</td><td>924794</td><td>925196</td><td>27</td><td>.</td><td>*</td></tr>\n",
       "\t<tr><td>chr1</td><td>931770</td><td>932123</td><td>28</td><td>.</td><td>*</td></tr>\n",
       "\t<tr><td>chr1</td><td>938041</td><td>938580</td><td>29</td><td>.</td><td>*</td></tr>\n",
       "\t<tr><td>chr1</td><td>940117</td><td>940936</td><td>30</td><td>.</td><td>*</td></tr>\n",
       "\t<tr><td>⋮</td><td>⋮</td><td>⋮</td><td>⋮</td><td>⋮</td><td>⋮</td></tr>\n",
       "\t<tr><td>chrY</td><td>21073588</td><td>21074201</td><td>1136098</td><td>.</td><td>*</td></tr>\n",
       "\t<tr><td>chrY</td><td>21121103</td><td>21121268</td><td>1136099</td><td>.</td><td>*</td></tr>\n",
       "\t<tr><td>chrY</td><td>21138351</td><td>21138610</td><td>1136100</td><td>.</td><td>*</td></tr>\n",
       "\t<tr><td>chrY</td><td>21169851</td><td>21170017</td><td>1136101</td><td>.</td><td>*</td></tr>\n",
       "\t<tr><td>chrY</td><td>21174587</td><td>21175410</td><td>1136102</td><td>.</td><td>*</td></tr>\n",
       "\t<tr><td>chrY</td><td>21177218</td><td>21177754</td><td>1136103</td><td>.</td><td>*</td></tr>\n",
       "\t<tr><td>chrY</td><td>21185378</td><td>21185381</td><td>1136104</td><td>.</td><td>*</td></tr>\n",
       "\t<tr><td>chrY</td><td>21192736</td><td>21193167</td><td>1136105</td><td>.</td><td>*</td></tr>\n",
       "\t<tr><td>chrY</td><td>21200284</td><td>21200698</td><td>1136106</td><td>.</td><td>*</td></tr>\n",
       "\t<tr><td>chrY</td><td>21239830</td><td>21241422</td><td>1136107</td><td>.</td><td>*</td></tr>\n",
       "\t<tr><td>chrY</td><td>21249466</td><td>21249969</td><td>1136108</td><td>.</td><td>*</td></tr>\n",
       "\t<tr><td>chrY</td><td>21256823</td><td>21257220</td><td>1136109</td><td>.</td><td>*</td></tr>\n",
       "\t<tr><td>chrY</td><td>21260332</td><td>21260717</td><td>1136110</td><td>.</td><td>*</td></tr>\n",
       "\t<tr><td>chrY</td><td>21295395</td><td>21295420</td><td>1136111</td><td>.</td><td>*</td></tr>\n",
       "\t<tr><td>chrY</td><td>21422192</td><td>21422563</td><td>1136112</td><td>.</td><td>*</td></tr>\n",
       "\t<tr><td>chrY</td><td>21440579</td><td>21440875</td><td>1136113</td><td>.</td><td>*</td></tr>\n",
       "\t<tr><td>chrY</td><td>26670186</td><td>26671904</td><td>1136114</td><td>.</td><td>*</td></tr>\n",
       "\t<tr><td>chrY</td><td>56685327</td><td>56685820</td><td>1136115</td><td>.</td><td>*</td></tr>\n",
       "\t<tr><td>chrY</td><td>56706937</td><td>56707463</td><td>1136116</td><td>.</td><td>*</td></tr>\n",
       "\t<tr><td>chrY</td><td>56727997</td><td>56728322</td><td>1136117</td><td>.</td><td>*</td></tr>\n",
       "\t<tr><td>chrY</td><td>56734606</td><td>56734971</td><td>1136118</td><td>.</td><td>*</td></tr>\n",
       "\t<tr><td>chrY</td><td>56763265</td><td>56763783</td><td>1136119</td><td>.</td><td>*</td></tr>\n",
       "\t<tr><td>chrY</td><td>56826520</td><td>56826658</td><td>1136120</td><td>.</td><td>*</td></tr>\n",
       "\t<tr><td>chrY</td><td>56829117</td><td>56840260</td><td>1136121</td><td>.</td><td>*</td></tr>\n",
       "\t<tr><td>chrY</td><td>56841414</td><td>56842686</td><td>1136122</td><td>.</td><td>*</td></tr>\n",
       "\t<tr><td>chrY</td><td>56843534</td><td>56844006</td><td>1136123</td><td>.</td><td>*</td></tr>\n",
       "\t<tr><td>chrY</td><td>56844768</td><td>56845155</td><td>1136124</td><td>.</td><td>*</td></tr>\n",
       "\t<tr><td>chrY</td><td>56846032</td><td>56848638</td><td>1136125</td><td>.</td><td>*</td></tr>\n",
       "\t<tr><td>chrY</td><td>56849233</td><td>56851581</td><td>1136126</td><td>.</td><td>*</td></tr>\n",
       "\t<tr><td>chrY</td><td>56873756</td><td>56874037</td><td>1136127</td><td>.</td><td>*</td></tr>\n",
       "</tbody>\n",
       "</table>\n"
      ],
      "text/latex": [
       "A data.frame: 1136127 × 6\n",
       "\\begin{tabular}{llllll}\n",
       " seqnames & starts & ends & names & scores & strands\\\\\n",
       " <fct> & <int> & <int> & <int> & <chr> & <fct>\\\\\n",
       "\\hline\n",
       "\t chr1 &   9866 &  10609 &  1 & . & *\\\\\n",
       "\t chr1 & 180846 & 180976 &  2 & . & *\\\\\n",
       "\t chr1 & 184393 & 184458 &  3 & . & *\\\\\n",
       "\t chr1 & 191211 & 191970 &  4 & . & *\\\\\n",
       "\t chr1 & 267786 & 268257 &  5 & . & *\\\\\n",
       "\t chr1 & 271048 & 271558 &  6 & . & *\\\\\n",
       "\t chr1 & 586018 & 586368 &  7 & . & *\\\\\n",
       "\t chr1 & 605251 & 605792 &  8 & . & *\\\\\n",
       "\t chr1 & 778134 & 779417 &  9 & . & *\\\\\n",
       "\t chr1 & 816855 & 817645 & 10 & . & *\\\\\n",
       "\t chr1 & 825192 & 825653 & 11 & . & *\\\\\n",
       "\t chr1 & 826729 & 827922 & 12 & . & *\\\\\n",
       "\t chr1 & 838084 & 838801 & 13 & . & *\\\\\n",
       "\t chr1 & 842842 & 843103 & 14 & . & *\\\\\n",
       "\t chr1 & 858100 & 858306 & 15 & . & *\\\\\n",
       "\t chr1 & 869106 & 870233 & 16 & . & *\\\\\n",
       "\t chr1 & 890737 & 891033 & 17 & . & *\\\\\n",
       "\t chr1 & 897212 & 897762 & 18 & . & *\\\\\n",
       "\t chr1 & 904367 & 905700 & 19 & . & *\\\\\n",
       "\t chr1 & 906308 & 907412 & 20 & . & *\\\\\n",
       "\t chr1 & 911102 & 911684 & 21 & . & *\\\\\n",
       "\t chr1 & 912554 & 913314 & 22 & . & *\\\\\n",
       "\t chr1 & 915728 & 915852 & 23 & . & *\\\\\n",
       "\t chr1 & 916617 & 917014 & 24 & . & *\\\\\n",
       "\t chr1 & 920790 & 921445 & 25 & . & *\\\\\n",
       "\t chr1 & 923181 & 924045 & 26 & . & *\\\\\n",
       "\t chr1 & 924794 & 925196 & 27 & . & *\\\\\n",
       "\t chr1 & 931770 & 932123 & 28 & . & *\\\\\n",
       "\t chr1 & 938041 & 938580 & 29 & . & *\\\\\n",
       "\t chr1 & 940117 & 940936 & 30 & . & *\\\\\n",
       "\t ⋮ & ⋮ & ⋮ & ⋮ & ⋮ & ⋮\\\\\n",
       "\t chrY & 21073588 & 21074201 & 1136098 & . & *\\\\\n",
       "\t chrY & 21121103 & 21121268 & 1136099 & . & *\\\\\n",
       "\t chrY & 21138351 & 21138610 & 1136100 & . & *\\\\\n",
       "\t chrY & 21169851 & 21170017 & 1136101 & . & *\\\\\n",
       "\t chrY & 21174587 & 21175410 & 1136102 & . & *\\\\\n",
       "\t chrY & 21177218 & 21177754 & 1136103 & . & *\\\\\n",
       "\t chrY & 21185378 & 21185381 & 1136104 & . & *\\\\\n",
       "\t chrY & 21192736 & 21193167 & 1136105 & . & *\\\\\n",
       "\t chrY & 21200284 & 21200698 & 1136106 & . & *\\\\\n",
       "\t chrY & 21239830 & 21241422 & 1136107 & . & *\\\\\n",
       "\t chrY & 21249466 & 21249969 & 1136108 & . & *\\\\\n",
       "\t chrY & 21256823 & 21257220 & 1136109 & . & *\\\\\n",
       "\t chrY & 21260332 & 21260717 & 1136110 & . & *\\\\\n",
       "\t chrY & 21295395 & 21295420 & 1136111 & . & *\\\\\n",
       "\t chrY & 21422192 & 21422563 & 1136112 & . & *\\\\\n",
       "\t chrY & 21440579 & 21440875 & 1136113 & . & *\\\\\n",
       "\t chrY & 26670186 & 26671904 & 1136114 & . & *\\\\\n",
       "\t chrY & 56685327 & 56685820 & 1136115 & . & *\\\\\n",
       "\t chrY & 56706937 & 56707463 & 1136116 & . & *\\\\\n",
       "\t chrY & 56727997 & 56728322 & 1136117 & . & *\\\\\n",
       "\t chrY & 56734606 & 56734971 & 1136118 & . & *\\\\\n",
       "\t chrY & 56763265 & 56763783 & 1136119 & . & *\\\\\n",
       "\t chrY & 56826520 & 56826658 & 1136120 & . & *\\\\\n",
       "\t chrY & 56829117 & 56840260 & 1136121 & . & *\\\\\n",
       "\t chrY & 56841414 & 56842686 & 1136122 & . & *\\\\\n",
       "\t chrY & 56843534 & 56844006 & 1136123 & . & *\\\\\n",
       "\t chrY & 56844768 & 56845155 & 1136124 & . & *\\\\\n",
       "\t chrY & 56846032 & 56848638 & 1136125 & . & *\\\\\n",
       "\t chrY & 56849233 & 56851581 & 1136126 & . & *\\\\\n",
       "\t chrY & 56873756 & 56874037 & 1136127 & . & *\\\\\n",
       "\\end{tabular}\n"
      ],
      "text/markdown": [
       "\n",
       "A data.frame: 1136127 × 6\n",
       "\n",
       "| seqnames &lt;fct&gt; | starts &lt;int&gt; | ends &lt;int&gt; | names &lt;int&gt; | scores &lt;chr&gt; | strands &lt;fct&gt; |\n",
       "|---|---|---|---|---|---|\n",
       "| chr1 |   9866 |  10609 |  1 | . | * |\n",
       "| chr1 | 180846 | 180976 |  2 | . | * |\n",
       "| chr1 | 184393 | 184458 |  3 | . | * |\n",
       "| chr1 | 191211 | 191970 |  4 | . | * |\n",
       "| chr1 | 267786 | 268257 |  5 | . | * |\n",
       "| chr1 | 271048 | 271558 |  6 | . | * |\n",
       "| chr1 | 586018 | 586368 |  7 | . | * |\n",
       "| chr1 | 605251 | 605792 |  8 | . | * |\n",
       "| chr1 | 778134 | 779417 |  9 | . | * |\n",
       "| chr1 | 816855 | 817645 | 10 | . | * |\n",
       "| chr1 | 825192 | 825653 | 11 | . | * |\n",
       "| chr1 | 826729 | 827922 | 12 | . | * |\n",
       "| chr1 | 838084 | 838801 | 13 | . | * |\n",
       "| chr1 | 842842 | 843103 | 14 | . | * |\n",
       "| chr1 | 858100 | 858306 | 15 | . | * |\n",
       "| chr1 | 869106 | 870233 | 16 | . | * |\n",
       "| chr1 | 890737 | 891033 | 17 | . | * |\n",
       "| chr1 | 897212 | 897762 | 18 | . | * |\n",
       "| chr1 | 904367 | 905700 | 19 | . | * |\n",
       "| chr1 | 906308 | 907412 | 20 | . | * |\n",
       "| chr1 | 911102 | 911684 | 21 | . | * |\n",
       "| chr1 | 912554 | 913314 | 22 | . | * |\n",
       "| chr1 | 915728 | 915852 | 23 | . | * |\n",
       "| chr1 | 916617 | 917014 | 24 | . | * |\n",
       "| chr1 | 920790 | 921445 | 25 | . | * |\n",
       "| chr1 | 923181 | 924045 | 26 | . | * |\n",
       "| chr1 | 924794 | 925196 | 27 | . | * |\n",
       "| chr1 | 931770 | 932123 | 28 | . | * |\n",
       "| chr1 | 938041 | 938580 | 29 | . | * |\n",
       "| chr1 | 940117 | 940936 | 30 | . | * |\n",
       "| ⋮ | ⋮ | ⋮ | ⋮ | ⋮ | ⋮ |\n",
       "| chrY | 21073588 | 21074201 | 1136098 | . | * |\n",
       "| chrY | 21121103 | 21121268 | 1136099 | . | * |\n",
       "| chrY | 21138351 | 21138610 | 1136100 | . | * |\n",
       "| chrY | 21169851 | 21170017 | 1136101 | . | * |\n",
       "| chrY | 21174587 | 21175410 | 1136102 | . | * |\n",
       "| chrY | 21177218 | 21177754 | 1136103 | . | * |\n",
       "| chrY | 21185378 | 21185381 | 1136104 | . | * |\n",
       "| chrY | 21192736 | 21193167 | 1136105 | . | * |\n",
       "| chrY | 21200284 | 21200698 | 1136106 | . | * |\n",
       "| chrY | 21239830 | 21241422 | 1136107 | . | * |\n",
       "| chrY | 21249466 | 21249969 | 1136108 | . | * |\n",
       "| chrY | 21256823 | 21257220 | 1136109 | . | * |\n",
       "| chrY | 21260332 | 21260717 | 1136110 | . | * |\n",
       "| chrY | 21295395 | 21295420 | 1136111 | . | * |\n",
       "| chrY | 21422192 | 21422563 | 1136112 | . | * |\n",
       "| chrY | 21440579 | 21440875 | 1136113 | . | * |\n",
       "| chrY | 26670186 | 26671904 | 1136114 | . | * |\n",
       "| chrY | 56685327 | 56685820 | 1136115 | . | * |\n",
       "| chrY | 56706937 | 56707463 | 1136116 | . | * |\n",
       "| chrY | 56727997 | 56728322 | 1136117 | . | * |\n",
       "| chrY | 56734606 | 56734971 | 1136118 | . | * |\n",
       "| chrY | 56763265 | 56763783 | 1136119 | . | * |\n",
       "| chrY | 56826520 | 56826658 | 1136120 | . | * |\n",
       "| chrY | 56829117 | 56840260 | 1136121 | . | * |\n",
       "| chrY | 56841414 | 56842686 | 1136122 | . | * |\n",
       "| chrY | 56843534 | 56844006 | 1136123 | . | * |\n",
       "| chrY | 56844768 | 56845155 | 1136124 | . | * |\n",
       "| chrY | 56846032 | 56848638 | 1136125 | . | * |\n",
       "| chrY | 56849233 | 56851581 | 1136126 | . | * |\n",
       "| chrY | 56873756 | 56874037 | 1136127 | . | * |\n",
       "\n"
      ],
      "text/plain": [
       "        seqnames starts   ends     names   scores strands\n",
       "1       chr1       9866    10609    1      .      *      \n",
       "2       chr1     180846   180976    2      .      *      \n",
       "3       chr1     184393   184458    3      .      *      \n",
       "4       chr1     191211   191970    4      .      *      \n",
       "5       chr1     267786   268257    5      .      *      \n",
       "6       chr1     271048   271558    6      .      *      \n",
       "7       chr1     586018   586368    7      .      *      \n",
       "8       chr1     605251   605792    8      .      *      \n",
       "9       chr1     778134   779417    9      .      *      \n",
       "10      chr1     816855   817645   10      .      *      \n",
       "11      chr1     825192   825653   11      .      *      \n",
       "12      chr1     826729   827922   12      .      *      \n",
       "13      chr1     838084   838801   13      .      *      \n",
       "14      chr1     842842   843103   14      .      *      \n",
       "15      chr1     858100   858306   15      .      *      \n",
       "16      chr1     869106   870233   16      .      *      \n",
       "17      chr1     890737   891033   17      .      *      \n",
       "18      chr1     897212   897762   18      .      *      \n",
       "19      chr1     904367   905700   19      .      *      \n",
       "20      chr1     906308   907412   20      .      *      \n",
       "21      chr1     911102   911684   21      .      *      \n",
       "22      chr1     912554   913314   22      .      *      \n",
       "23      chr1     915728   915852   23      .      *      \n",
       "24      chr1     916617   917014   24      .      *      \n",
       "25      chr1     920790   921445   25      .      *      \n",
       "26      chr1     923181   924045   26      .      *      \n",
       "27      chr1     924794   925196   27      .      *      \n",
       "28      chr1     931770   932123   28      .      *      \n",
       "29      chr1     938041   938580   29      .      *      \n",
       "30      chr1     940117   940936   30      .      *      \n",
       "⋮       ⋮        ⋮        ⋮        ⋮       ⋮      ⋮      \n",
       "1136098 chrY     21073588 21074201 1136098 .      *      \n",
       "1136099 chrY     21121103 21121268 1136099 .      *      \n",
       "1136100 chrY     21138351 21138610 1136100 .      *      \n",
       "1136101 chrY     21169851 21170017 1136101 .      *      \n",
       "1136102 chrY     21174587 21175410 1136102 .      *      \n",
       "1136103 chrY     21177218 21177754 1136103 .      *      \n",
       "1136104 chrY     21185378 21185381 1136104 .      *      \n",
       "1136105 chrY     21192736 21193167 1136105 .      *      \n",
       "1136106 chrY     21200284 21200698 1136106 .      *      \n",
       "1136107 chrY     21239830 21241422 1136107 .      *      \n",
       "1136108 chrY     21249466 21249969 1136108 .      *      \n",
       "1136109 chrY     21256823 21257220 1136109 .      *      \n",
       "1136110 chrY     21260332 21260717 1136110 .      *      \n",
       "1136111 chrY     21295395 21295420 1136111 .      *      \n",
       "1136112 chrY     21422192 21422563 1136112 .      *      \n",
       "1136113 chrY     21440579 21440875 1136113 .      *      \n",
       "1136114 chrY     26670186 26671904 1136114 .      *      \n",
       "1136115 chrY     56685327 56685820 1136115 .      *      \n",
       "1136116 chrY     56706937 56707463 1136116 .      *      \n",
       "1136117 chrY     56727997 56728322 1136117 .      *      \n",
       "1136118 chrY     56734606 56734971 1136118 .      *      \n",
       "1136119 chrY     56763265 56763783 1136119 .      *      \n",
       "1136120 chrY     56826520 56826658 1136120 .      *      \n",
       "1136121 chrY     56829117 56840260 1136121 .      *      \n",
       "1136122 chrY     56841414 56842686 1136122 .      *      \n",
       "1136123 chrY     56843534 56844006 1136123 .      *      \n",
       "1136124 chrY     56844768 56845155 1136124 .      *      \n",
       "1136125 chrY     56846032 56848638 1136125 .      *      \n",
       "1136126 chrY     56849233 56851581 1136126 .      *      \n",
       "1136127 chrY     56873756 56874037 1136127 .      *      "
      ]
     },
     "metadata": {},
     "output_type": "display_data"
    }
   ],
   "source": [
    "df <- data.frame(seqnames=seqnames(gr),\n",
    "  starts=start(gr)-1,\n",
    "  ends=end(gr),\n",
    "  names=tibble::rowid_to_column(as.data.frame(gr), \"names\")$names,\n",
    "  scores=c(rep(\".\", length(gr))),\n",
    "  strands=strand(gr))\n",
    "\n",
    "df = dplyr::mutate_if(df, is.numeric, as.integer)\n",
    "df"
   ]
  },
  {
   "cell_type": "code",
   "execution_count": 16,
   "id": "3d7d3139",
   "metadata": {},
   "outputs": [
    {
     "name": "stderr",
     "output_type": "stream",
     "text": [
      "Warning message in file(file, ifelse(append, \"a\", \"w\")):\n",
      "“cannot open file '/mnt/md0/isshamie/Projects/Mito_Trace/output/CHIP_aggr/data/annotation/gff_A2/mergedSamples/merged_peaks.bed': No such file or directory”\n"
     ]
    },
    {
     "ename": "ERROR",
     "evalue": "Error in file(file, ifelse(append, \"a\", \"w\")): cannot open the connection\n",
     "output_type": "error",
     "traceback": [
      "Error in file(file, ifelse(append, \"a\", \"w\")): cannot open the connection\nTraceback:\n",
      "1. write.table(df, file = out_f, quote = F, sep = \"\\t\", row.names = F, \n .     col.names = F)",
      "2. file(file, ifelse(append, \"a\", \"w\"))"
     ]
    }
   ],
   "source": [
    "write.table(df, file=out_f, quote=F, sep=\"\\t\", row.names=F, col.names=F)"
   ]
  },
  {
   "cell_type": "code",
   "execution_count": null,
   "id": "626a0538",
   "metadata": {
    "scrolled": true
   },
   "outputs": [],
   "source": [
    "sessionInfo()"
   ]
  },
  {
   "cell_type": "code",
   "execution_count": null,
   "id": "6261d99e",
   "metadata": {},
   "outputs": [],
   "source": []
  },
  {
   "cell_type": "code",
   "execution_count": null,
   "id": "e3c5b27c",
   "metadata": {},
   "outputs": [],
   "source": []
  },
  {
   "cell_type": "markdown",
   "id": "77581f4f",
   "metadata": {},
   "source": [
    "## Create expSignac"
   ]
  },
  {
   "cell_type": "code",
   "execution_count": null,
   "id": "9392dc60",
   "metadata": {},
   "outputs": [],
   "source": [
    "# read.peaks <- function(curr.samp.f){\n",
    "#     print('curr.samp')\n",
    "#     print(curr.samp.f)\n",
    "#     print(stringr::str_replace(curr.samp.f, \"barcodes.tsv\", \"peaks.bed\"))\n",
    "#     peaks <- read.table(\n",
    "#       file = stringr::str_replace(curr.samp.f, \"barcodes.tsv\", \"peaks.bed\"),\n",
    "#       col.names = c(\"chr\", \"start\", \"end\")\n",
    "#     )\n",
    "#     # convert to genomic ranges\n",
    "#     gr <- makeGRangesFromDataFrame(peaks)\n",
    "#     return(gr)\n",
    "# }\n",
    "\n",
    "\n",
    "# run.experiments <- function(sample_csv){\n",
    "#     curr.csv <- readr::read_csv(sample_csv)\n",
    "#     print(curr.csv)\n",
    "#     curr.grs <- sapply(curr.csv$barcode_f, read.peaks)\n",
    "#     return(curr.grs)\n",
    "# }\n",
    "\n",
    "# gr.full <- sapply(samps, run.experiments)\n",
    "\n"
   ]
  },
  {
   "cell_type": "code",
   "execution_count": null,
   "id": "6cafac95",
   "metadata": {},
   "outputs": [],
   "source": [
    "expr.load <- function(sample_names, samples, cellr_in) {\n",
    "    allSE = c() \n",
    "\n",
    "    samples_df <- cbind(sample_names, samples)\n",
    "    print('samples_df')\n",
    "    print(samples_df)\n",
    "    for (row in 1:nrow(samples_df)){\n",
    "        exp <- (samples_df[[row, \"samples\"]])\n",
    "        name <- (samples_df[[row, \"sample_names\"]]) \n",
    "\n",
    "    #for (exp in samples) {\n",
    "        print('exp')\n",
    "        print(exp)\n",
    "        print('name')\n",
    "        print(name)\n",
    "        barcode_path <- file.path(cellr_in, exp, \"outs\", \"filtered_peak_bc_matrix\", \"barcodes.tsv\")    \n",
    "        barcodes <- readr::read_tsv(barcode_path, col_names = F) # %>% tidyr::unite(barcode)\n",
    "        barcodes <- as.data.frame(barcodes) %>%  tibble::column_to_rownames(var=\"X1\") %>% tibble::add_column(proj=name)\n",
    "        frag_file <- file.path(cellr_in, exp, \"outs\", \"fragments.tsv.gz\")\n",
    "\n",
    "        cells.meta.f <- file.path(cellr_in, exp, \"outs\", \"singlecell.csv\") \n",
    "        cells.meta <- as.data.frame(readr::read_csv(cells.meta.f)) %>% tibble::column_to_rownames(var=\"barcode\") %>% tibble::add_column(proj=name)\n",
    "        cells.meta <- cells.meta[rownames(cells.meta) %in% rownames(barcodes), ]\n",
    "\n",
    "        # quantify multiome peaks in the scATAC-seq dataset\n",
    "\n",
    "\n",
    "        print(\"Creating fragments object\")\n",
    "        frags.curr <- CreateFragmentObject(path = frag_file, cells= rownames(barcodes))\n",
    "        #print(frags.curr)\n",
    "        print(\"Quantifying peaks\")\n",
    "        ## Quantify peaks\n",
    "        curr.counts <- FeatureMatrix(\n",
    "          fragments = frags.curr,\n",
    "          features = combined.peaks,\n",
    "          cells = rownames(barcodes),\n",
    "          process_n = cores\n",
    "        )\n",
    "\n",
    "        print(\"Creating chromatin assay\")\n",
    "        ## Create the objects and use simple filters\n",
    "        curr_assay <- CreateChromatinAssay(curr.counts, fragments = frags.curr, min.cells = 10, min.features = 200)\n",
    "        curr <- CreateSeuratObject(curr_assay, assay = \"ATAC\", project=name, meta.data=cells.meta)\n",
    "        print('curr_assay')\n",
    "        print(head(curr_assay))\n",
    "        print('curr')\n",
    "        print(head(curr[[]]))\n",
    "        allSE = c(allSE, curr)\n",
    "        #return(curr)\n",
    "    }\n",
    "\n",
    "    return(allSE)\n",
    "}\n",
    "    #allSE <- sapply(samples, create_frag, cellr_in=cellr_in)"
   ]
  }
 ],
 "metadata": {
  "celltoolbar": "Tags",
  "kernelspec": {
   "display_name": "R",
   "language": "R",
   "name": "ir"
  },
  "language_info": {
   "codemirror_mode": "r",
   "file_extension": ".r",
   "mimetype": "text/x-r-source",
   "name": "R",
   "pygments_lexer": "r",
   "version": "4.1.1"
  }
 },
 "nbformat": 4,
 "nbformat_minor": 5
}
