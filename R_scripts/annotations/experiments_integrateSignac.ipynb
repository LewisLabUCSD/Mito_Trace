{
 "cells": [
  {
   "cell_type": "code",
   "execution_count": 1,
   "id": "c392ece4",
   "metadata": {
    "scrolled": true
   },
   "outputs": [
    {
     "data": {
      "text/html": [
       "'/mnt/md0/isshamie/Projects/Mito_Trace/R_scripts/annotations'"
      ],
      "text/latex": [
       "'/mnt/md0/isshamie/Projects/Mito\\_Trace/R\\_scripts/annotations'"
      ],
      "text/markdown": [
       "'/mnt/md0/isshamie/Projects/Mito_Trace/R_scripts/annotations'"
      ],
      "text/plain": [
       "[1] \"/mnt/md0/isshamie/Projects/Mito_Trace/R_scripts/annotations\""
      ]
     },
     "metadata": {},
     "output_type": "display_data"
    }
   ],
   "source": [
    "getwd()"
   ]
  },
  {
   "cell_type": "markdown",
   "id": "223d6f46",
   "metadata": {},
   "source": [
    "## Creates binarized Seurat objects, integrates conditions and annotates genes by nearby peaks"
   ]
  },
  {
   "cell_type": "code",
   "execution_count": 2,
   "id": "663e2d4d",
   "metadata": {
    "tags": [
     "parameters"
    ]
   },
   "outputs": [],
   "source": [
    "# Input info\n",
    "#outdir = \"/mnt/md0/isshamie/Projects/Mito_Trace/output/pipeline/DUPI_april08_2021/MTblacklist_mtasnucl_Bonly/data/annotation/gff_hg38_1_2/mergedSamples/\"\n",
    "outdir = \"/mnt/md0/isshamie/Projects/Mito_Trace/output/CHIP_aggr/data/annotation/gff_A2/mergedSamples\"\n",
    "\n",
    "gff_id = \"hg38_1_2\"\n",
    "annotations_indir = \"/mnt/md0/isshamie/Projects/Mito_Trace/data/processed/annotation_granges/\"\n",
    "\n",
    "\n",
    "# gene_type=\"custom\" #\"UCSC\" #or custom\n",
    "# gene_file = \"/data/Mito_Trace/data/processed/genomes/mtMasked/GRCh38_MT_blacklist/genes/genes.gtf\"\n",
    "\n",
    "# Parameters\n",
    "nTop = 25000\n",
    "lsi_start_comp = 2\n",
    "to.filt.cells = \"TRUE\"\n",
    "to.qc = FALSE\n",
    "\n",
    "## QC parameters\n",
    "min_peak_region_fragments=10\n",
    "max_peak_region_fragments=15000\n",
    "min_pct_reads_in_peaks=15\n",
    "max_blacklist_ratio=0.05\n",
    "max_nucleosome_signal=4\n",
    "min_TSS_enrichment=0.2\n",
    "\n",
    "cores = 24\n",
    "\n",
    "input_dirs = \"\"\n"
   ]
  },
  {
   "cell_type": "code",
   "execution_count": 3,
   "id": "d299a02d",
   "metadata": {},
   "outputs": [],
   "source": [
    "annotations <- readRDS(file.path(annotations_indir, paste0(gff_id, \".annotationGranges.rds\")))"
   ]
  },
  {
   "cell_type": "code",
   "execution_count": 4,
   "id": "1ae9d6e3",
   "metadata": {},
   "outputs": [],
   "source": [
    "if ((to.filt.cells == \"T\") | (to.filt.cells == \"TRUE\")){\n",
    "    to.filt.cells = TRUE\n",
    "}else{to.filt.cells = FALSE}\n"
   ]
  },
  {
   "cell_type": "markdown",
   "id": "99f6d96e",
   "metadata": {},
   "source": [
    "## Add each integrate"
   ]
  },
  {
   "cell_type": "code",
   "execution_count": 5,
   "id": "87d973c8",
   "metadata": {},
   "outputs": [
    {
     "name": "stderr",
     "output_type": "stream",
     "text": [
      "Loading required package: stats4\n",
      "\n",
      "Loading required package: BiocGenerics\n",
      "\n",
      "\n",
      "Attaching package: ‘BiocGenerics’\n",
      "\n",
      "\n",
      "The following objects are masked from ‘package:stats’:\n",
      "\n",
      "    IQR, mad, sd, var, xtabs\n",
      "\n",
      "\n",
      "The following objects are masked from ‘package:base’:\n",
      "\n",
      "    anyDuplicated, append, as.data.frame, basename, cbind, colnames,\n",
      "    dirname, do.call, duplicated, eval, evalq, Filter, Find, get, grep,\n",
      "    grepl, intersect, is.unsorted, lapply, Map, mapply, match, mget,\n",
      "    order, paste, pmax, pmax.int, pmin, pmin.int, Position, rank,\n",
      "    rbind, Reduce, rownames, sapply, setdiff, sort, table, tapply,\n",
      "    union, unique, unsplit, which.max, which.min\n",
      "\n",
      "\n",
      "Loading required package: S4Vectors\n",
      "\n",
      "\n",
      "Attaching package: ‘S4Vectors’\n",
      "\n",
      "\n",
      "The following objects are masked from ‘package:base’:\n",
      "\n",
      "    expand.grid, I, unname\n",
      "\n",
      "\n",
      "Loading required package: IRanges\n",
      "\n",
      "Loading required package: GenomeInfoDb\n",
      "\n",
      "Attaching SeuratObject\n",
      "\n",
      "Loading required package: ensembldb\n",
      "\n",
      "Loading required package: GenomicFeatures\n",
      "\n",
      "Loading required package: AnnotationDbi\n",
      "\n",
      "Loading required package: Biobase\n",
      "\n",
      "Welcome to Bioconductor\n",
      "\n",
      "    Vignettes contain introductory material; view with\n",
      "    'browseVignettes()'. To cite Bioconductor, see\n",
      "    'citation(\"Biobase\")', and for packages 'citation(\"pkgname\")'.\n",
      "\n",
      "\n",
      "Loading required package: AnnotationFilter\n",
      "\n",
      "\n",
      "Attaching package: 'ensembldb'\n",
      "\n",
      "\n",
      "The following object is masked from 'package:stats':\n",
      "\n",
      "    filter\n",
      "\n",
      "\n",
      "\n",
      "Attaching package: 'data.table'\n",
      "\n",
      "\n",
      "The following object is masked from 'package:GenomicRanges':\n",
      "\n",
      "    shift\n",
      "\n",
      "\n",
      "The following object is masked from 'package:IRanges':\n",
      "\n",
      "    shift\n",
      "\n",
      "\n",
      "The following objects are masked from 'package:S4Vectors':\n",
      "\n",
      "    first, second\n",
      "\n",
      "\n",
      "\n",
      "Attaching package: 'magrittr'\n",
      "\n",
      "\n",
      "The following object is masked from 'package:AnnotationFilter':\n",
      "\n",
      "    not\n",
      "\n",
      "\n",
      "\n",
      "Attaching package: 'cowplot'\n",
      "\n",
      "\n",
      "The following object is masked from 'package:patchwork':\n",
      "\n",
      "    align_plots\n",
      "\n",
      "\n",
      "\n",
      "Attaching package: 'dplyr'\n",
      "\n",
      "\n",
      "The following objects are masked from 'package:data.table':\n",
      "\n",
      "    between, first, last\n",
      "\n",
      "\n",
      "The following objects are masked from 'package:ensembldb':\n",
      "\n",
      "    filter, select\n",
      "\n",
      "\n",
      "The following object is masked from 'package:AnnotationDbi':\n",
      "\n",
      "    select\n",
      "\n",
      "\n",
      "The following object is masked from 'package:Biobase':\n",
      "\n",
      "    combine\n",
      "\n",
      "\n",
      "The following objects are masked from 'package:GenomicRanges':\n",
      "\n",
      "    intersect, setdiff, union\n",
      "\n",
      "\n",
      "The following object is masked from 'package:GenomeInfoDb':\n",
      "\n",
      "    intersect\n",
      "\n",
      "\n",
      "The following objects are masked from 'package:IRanges':\n",
      "\n",
      "    collapse, desc, intersect, setdiff, slice, union\n",
      "\n",
      "\n",
      "The following objects are masked from 'package:S4Vectors':\n",
      "\n",
      "    first, intersect, rename, setdiff, setequal, union\n",
      "\n",
      "\n",
      "The following objects are masked from 'package:BiocGenerics':\n",
      "\n",
      "    combine, intersect, setdiff, union\n",
      "\n",
      "\n",
      "The following objects are masked from 'package:stats':\n",
      "\n",
      "    filter, lag\n",
      "\n",
      "\n",
      "The following objects are masked from 'package:base':\n",
      "\n",
      "    intersect, setdiff, setequal, union\n",
      "\n",
      "\n",
      "\n",
      "Attaching package: 'future'\n",
      "\n",
      "\n",
      "The following object is masked from 'package:AnnotationFilter':\n",
      "\n",
      "    value\n",
      "\n",
      "\n",
      "The following object is masked from 'package:GenomicRanges':\n",
      "\n",
      "    values\n",
      "\n",
      "\n",
      "The following object is masked from 'package:S4Vectors':\n",
      "\n",
      "    values\n",
      "\n",
      "\n",
      "Loading required package: Biostrings\n",
      "\n",
      "Loading required package: XVector\n",
      "\n",
      "\n",
      "Attaching package: 'Biostrings'\n",
      "\n",
      "\n",
      "The following object is masked from 'package:base':\n",
      "\n",
      "    strsplit\n",
      "\n",
      "\n",
      "Warning message:\n",
      "\"Strategy 'multiprocess' is deprecated in future (>= 1.20.0). Instead, explicitly specify either 'multisession' or 'multicore'. In the current R session, 'multiprocess' equals 'multicore'.\"\n"
     ]
    }
   ],
   "source": [
    "library(repr)\n",
    "options(repr.plot.width=12, repr.plot.height=12)\n",
    "\n",
    "library(GenomicRanges)\n",
    "library(Seurat)\n",
    "library(Signac)\n",
    "library(GenomeInfoDb)\n",
    "library(EnsDb.Hsapiens.v75)\n",
    "library(ggplot2)\n",
    "library(patchwork)\n",
    "set.seed(1234)\n",
    "library(data.table)\n",
    "library(magrittr)\n",
    "library(cowplot)\n",
    "library(metap)\n",
    "library(dplyr)\n",
    "library(\"patchwork\")\n",
    "library(future)\n",
    "library(Rsamtools)\n",
    "\n",
    "\n",
    "plan(\"multiprocess\", workers = cores)\n",
    "options(future.globals.maxSize = 16000 * 1024^2, future.seed=TRUE)\n",
    "#options(future.globals.maxSize = 50000 * 1024^2) # for 50 Gb RAM\n",
    "#plan(\"multiprocess\", workers = workers)"
   ]
  },
  {
   "cell_type": "code",
   "execution_count": 6,
   "id": "d092ef2c",
   "metadata": {
    "scrolled": false
   },
   "outputs": [],
   "source": [
    "#allSE <- readRDS(file.path(outdir, paste0(\"allSamples.rds\")))"
   ]
  },
  {
   "cell_type": "markdown",
   "id": "c8c7675b",
   "metadata": {},
   "source": [
    "## Filter cells if parameters there"
   ]
  },
  {
   "cell_type": "code",
   "execution_count": 7,
   "id": "34a1cd21",
   "metadata": {
    "scrolled": true
   },
   "outputs": [],
   "source": [
    "# filtCells <- function(se, min_peak_region_fragments=10,\n",
    "#                       max_peak_region_fragments=15000,\n",
    "#                      min_pct_reads_in_peaks=15,\n",
    "#                      max_blacklist_ratio=0.05,\n",
    "#                      max_nucleosome_signal=4,\n",
    "#                      min_TSS_enrichment=2){\n",
    "#     print('se before filt')\n",
    "#     print(se)\n",
    "#     se <- subset(\n",
    "#       x = se,\n",
    "#       subset = peak_region_fragments > min_peak_region_fragments &\n",
    "#                peak_region_fragments < max_peak_region_fragments &\n",
    "#                pct_reads_in_peaks > min_pct_reads_in_peaks &\n",
    "#                blacklist_ratio < max_blacklist_ratio &\n",
    "#                nucleosome_signal < max_nucleosome_signal  &\n",
    "#                TSS.enrichment > min_TSS_enrichment\n",
    "#     )\n",
    "#     print('se after filt')\n",
    "#     print(se)\n",
    "#     return(se)\n",
    "# }\n",
    "\n",
    "\n",
    "# allSE\n",
    "\n",
    "\n",
    "\n",
    "# # Merge:\n",
    "\n",
    "\n",
    "# # Add sample names to cell prefix here.\n",
    "# for (i in 1:length(allSE)){\n",
    "#     print(i)\n",
    "#     curr.SE <- allSE[[i]]\n",
    "#     allSE[[i]] <- RenameCells(allSE[[i]], add.cell.id=paste(names(allSE)[[i]],curr.SE$orig.ident[[1]],sep=\"_\"))\n",
    "#     allSE[[i]]$expID = paste(names(allSE)[[i]],curr.SE$orig.ident[[1]],sep=\"_\")\n",
    "# }\n",
    "\n",
    "\n",
    "# length(allSE)\n",
    "\n",
    "# # merge all datasets, adding a cell ID to make sure cell names are unique\n",
    "# # combined <- merge(\n",
    "# #   x = allSE[[1]],\n",
    "# #   y = unlist(allSE[2:length(allSE)]),\n",
    "# # )\n",
    "\n",
    "# if(length(allSE) == 1){\n",
    "#     combined = allSE[[1]]\n",
    "# }else{\n",
    "#     combined <- merge(\n",
    "#       x = allSE[[1]],\n",
    "#       y = allSE[[2]])\n",
    "# }\n",
    "\n",
    "# if (length(allSE) > 2) {\n",
    "#     for (i in 3:length(allSE)){\n",
    "#         combined <- merge(x=combined,\n",
    "#                           y = allSE[[i]])\n",
    "#         }\n",
    "# }\n",
    "\n",
    "# combined <- FindTopFeatures(combined, min.cutoff = 20)\n",
    "# combined\n",
    "\n",
    "# combined[[]]\n",
    "\n",
    "# combined$expID <- factor(combined$expID)\n",
    "\n",
    "# VlnPlot(\n",
    "#   object = combined,\n",
    "#   features = c('nCount_ATAC', 'peak_region_fragments', 'passed_filters',\n",
    "#                'duplicate', 'unmapped'),\n",
    "#   split.by = \"expID\",\n",
    "#   pt.size = 0.1,\n",
    "#   ncol = 3\n",
    "# )\n",
    "\n",
    "\n",
    "# # Binarize and run LSI\n",
    "# combined <- BinarizeCounts(combined)\n",
    "# combined <- RunTFIDF(combined)\n",
    "# combined <- RunSVD(combined)\n",
    "# combined <- RunUMAP(combined, dims = lsi_start_comp:50, reduction = 'lsi')\n",
    "# DimPlot(combined, group.by = \"proj\", pt.size = 0.1)\n",
    "\n",
    "# DimPlot(combined, group.by = \"expID\", pt.size = 0.1)\n",
    "\n",
    "# combined[[]]\n",
    "\n",
    "# pDepthCorr <- DepthCor(combined)\n",
    "# pDepthCorr\n",
    "\n",
    "# allSE\n",
    "\n",
    "# combined[[]]\n",
    "\n",
    "# allSE[[1]]$exp\n",
    "\n",
    "# levels(combined$expID)\n",
    "\n",
    "# allSE <- lapply(levels(combined$expID),  function(x) subset(combined, subset = expID == x))\n",
    "# allSE\n",
    "\n",
    "\n",
    "# ### Plot QC first\n",
    "# to.qc = TRUE\n",
    "\n",
    "# vPlot <- function(se){\n",
    "#       vPlot <- VlnPlot(\n",
    "#       object = se,\n",
    "#       features = c('pct_reads_in_peaks', 'peak_region_fragments',\n",
    "#                    'TSS.enrichment', 'blacklist_ratio', 'nucleosome_signal'),\n",
    "#       pt.size = 0.1,\n",
    "#       ncol = 5\n",
    "#     )  \n",
    "#     vPlot <- vPlot +    # Create grid of plots with title\n",
    "#              plot_annotation(title = se$expID[[1]]) & \n",
    "#              theme(plot.title = element_text(hjust = 0.5, size=15))\n",
    "#     #print(vPlot)\n",
    "#     return(vPlot)\n",
    "# }\n",
    "\n",
    "# qc <- function(se){\n",
    "#     # add the gene information to the object\n",
    "#     Annotation(se) <- annotations\n",
    "#     gene.activities <- GeneActivity(se)\n",
    "#     # compute nucleosome signal score per cell\n",
    "#     se <- NucleosomeSignal(object = se)\n",
    "    \n",
    "#     # compute TSS enrichment score per cell\n",
    "#     se <- TSSEnrichment(object = se, fast = FALSE)\n",
    "\n",
    "#     # add blacklist ratio and fraction of reads in peaks\n",
    "#     se$pct_reads_in_peaks <- se$peak_region_fragments / se$passed_filters * 100\n",
    "#     se$blacklist_ratio <- se$blacklist_region_fragments / se$peak_region_fragments\n",
    "#     se$high.tss <- ifelse(se$TSS.enrichment > 2, 'High', 'Low')\n",
    "#     se$nucleosome_group <- ifelse(se$nucleosome_signal > 4, 'NS > 4', 'NS < 4')\n",
    "#     TSSPlot(se, group.by = 'high.tss') + NoLegend()\n",
    "#     ggsave(file=file.path(outdir, paste0(\"QC.TSS\", se$expID[[1]], \".png\")))\n",
    "#     FragmentHistogram(object = se, group.by = 'nucleosome_group')\n",
    "#     ggsave(file=file.path(outdir, paste0(\"QC.FragHist\", se$expID[[1]], \".png\")))\n",
    "#     return(se)\n",
    "# }\n",
    "\n",
    "# if (to.qc){\n",
    "#     #ggsave(file.path(outdir, paste0(\"QC_02.pdf\")))\n",
    "#     allSE <- lapply(allSE, qc)\n",
    "#     allSE\n",
    "#     #ggsave(file.path(outdir,\"integrated.batch.png\"), dpi=300)\n",
    "#     }\n",
    "\n",
    "\n",
    "# ## Filter\n",
    "# if (to.filt.cells){\n",
    "#     allSE <- lapply(allSE, filtCells,\n",
    "#                     min_peak_region_fragments=min_peak_region_fragments,\n",
    "#                     max_peak_region_fragments=max_peak_region_fragments,\n",
    "#                     min_pct_reads_in_peaks=min_pct_reads_in_peaks,\n",
    "#                     max_blacklist_ratio=max_blacklist_ratio,\n",
    "#                     max_nucleosome_signal=max_nucleosome_signal,\n",
    "#                     min_TSS_enrichment=min_TSS_enrichment)\n",
    "# }\n",
    "\n",
    "\n",
    "# saveRDS(allSE, file.path(outdir, paste0(\"allSamples.filt.rds\")))"
   ]
  },
  {
   "cell_type": "code",
   "execution_count": null,
   "id": "de307929",
   "metadata": {},
   "outputs": [],
   "source": []
  },
  {
   "cell_type": "code",
   "execution_count": null,
   "id": "d81de545",
   "metadata": {},
   "outputs": [],
   "source": []
  },
  {
   "cell_type": "code",
   "execution_count": 9,
   "id": "05df3e21",
   "metadata": {
    "scrolled": true
   },
   "outputs": [],
   "source": [
    "combined = readRDS(file.path(outdir, paste0(\"combined.rds\")))\n",
    "allSE = readRDS(file.path(outdir, paste0(\"allSamples.filt.rds\")))\n"
   ]
  },
  {
   "cell_type": "code",
   "execution_count": 29,
   "id": "799b9016",
   "metadata": {},
   "outputs": [
    {
     "data": {
      "text/html": [
       "47542"
      ],
      "text/latex": [
       "47542"
      ],
      "text/markdown": [
       "47542"
      ],
      "text/plain": [
       "[1] 47542"
      ]
     },
     "metadata": {},
     "output_type": "display_data"
    },
    {
     "data": {
      "text/html": [
       "<style>\n",
       ".list-inline {list-style: none; margin:0; padding: 0}\n",
       ".list-inline>li {display: inline-block}\n",
       ".list-inline>li:not(:last-child)::after {content: \"\\00b7\"; padding: 0 .5ex}\n",
       "</style>\n",
       "<ol class=list-inline><li>'cd34norm1_Control_AAACGAAAGAGGTCCA-1'</li><li>'cd34norm1_Control_AAACGAAAGCGATACG-1'</li><li>'cd34norm1_Control_AAACGAAAGTCGTGAG-1'</li><li>'cd34norm1_Control_AAACGAACAATAGTGA-1'</li><li>'cd34norm1_Control_AAACGAACACAATAAG-1'</li><li>'cd34norm1_Control_AAACGAACACTGATAC-1'</li></ol>\n"
      ],
      "text/latex": [
       "\\begin{enumerate*}\n",
       "\\item 'cd34norm1\\_Control\\_AAACGAAAGAGGTCCA-1'\n",
       "\\item 'cd34norm1\\_Control\\_AAACGAAAGCGATACG-1'\n",
       "\\item 'cd34norm1\\_Control\\_AAACGAAAGTCGTGAG-1'\n",
       "\\item 'cd34norm1\\_Control\\_AAACGAACAATAGTGA-1'\n",
       "\\item 'cd34norm1\\_Control\\_AAACGAACACAATAAG-1'\n",
       "\\item 'cd34norm1\\_Control\\_AAACGAACACTGATAC-1'\n",
       "\\end{enumerate*}\n"
      ],
      "text/markdown": [
       "1. 'cd34norm1_Control_AAACGAAAGAGGTCCA-1'\n",
       "2. 'cd34norm1_Control_AAACGAAAGCGATACG-1'\n",
       "3. 'cd34norm1_Control_AAACGAAAGTCGTGAG-1'\n",
       "4. 'cd34norm1_Control_AAACGAACAATAGTGA-1'\n",
       "5. 'cd34norm1_Control_AAACGAACACAATAAG-1'\n",
       "6. 'cd34norm1_Control_AAACGAACACTGATAC-1'\n",
       "\n",
       "\n"
      ],
      "text/plain": [
       "[1] \"cd34norm1_Control_AAACGAAAGAGGTCCA-1\"\n",
       "[2] \"cd34norm1_Control_AAACGAAAGCGATACG-1\"\n",
       "[3] \"cd34norm1_Control_AAACGAAAGTCGTGAG-1\"\n",
       "[4] \"cd34norm1_Control_AAACGAACAATAGTGA-1\"\n",
       "[5] \"cd34norm1_Control_AAACGAACACAATAAG-1\"\n",
       "[6] \"cd34norm1_Control_AAACGAACACTGATAC-1\""
      ]
     },
     "metadata": {},
     "output_type": "display_data"
    }
   ],
   "source": [
    "# May need to filter combined since allSE had QC filter\n",
    "cells.qc <- unlist(sapply(allSE, function(x) {Cells(x)}))\n",
    "length(cells.qc)\n",
    "head(cells.qc)\n",
    "combined$cell <- row.names(combined[[]])\n",
    "combined <- subset(combined, subset = cell %in% cells.qc)\n",
    "combined"
   ]
  },
  {
   "cell_type": "code",
   "execution_count": 13,
   "id": "526f4c22",
   "metadata": {
    "scrolled": false
   },
   "outputs": [
    {
     "name": "stderr",
     "output_type": "stream",
     "text": [
      "Computing within dataset neighborhoods\n",
      "\n",
      "Finding all pairwise anchors\n",
      "\n"
     ]
    }
   ],
   "source": [
    "if(length(allSE) == 1){\n",
    "    integrated = allSE[[1]]\n",
    "}else{\n",
    "    # find integration anchors\n",
    "    integration.anchors <- FindIntegrationAnchors(\n",
    "      object.list = allSE, #c(ext,curr),\n",
    "      anchor.features = allSE[[1]], #rownames(ext),\n",
    "      reduction = \"rlsi\",\n",
    "      dims = lsi_start_comp:30\n",
    "    )\n",
    "\n",
    "    # integrate LSI embeddings\n",
    "    integrated <- IntegrateEmbeddings(\n",
    "      anchorset = integration.anchors,\n",
    "      reductions = combined[[\"lsi\"]],\n",
    "      new.reduction.name = \"integrated_lsi\",\n",
    "      dims.to.integrate = 1:30\n",
    "    )\n",
    "}\n"
   ]
  },
  {
   "cell_type": "code",
   "execution_count": null,
   "id": "5dd8f3eb",
   "metadata": {
    "scrolled": true
   },
   "outputs": [],
   "source": [
    "# integrate LSI embeddings\n",
    "integrated <- IntegrateEmbeddings(\n",
    "  anchorset = integration.anchors,\n",
    "  reductions = combined.filt[[\"lsi\"]],\n",
    "  new.reduction.name = \"integrated_lsi\",\n",
    "  dims.to.integrate = 1:30\n",
    ")"
   ]
  },
  {
   "cell_type": "markdown",
   "id": "6c323e0c",
   "metadata": {},
   "source": [
    "## Run UMAP and plot"
   ]
  },
  {
   "cell_type": "code",
   "execution_count": null,
   "id": "7cce7c05",
   "metadata": {},
   "outputs": [],
   "source": [
    "p1 <- DimPlot(combined, group.by = \"expID\")"
   ]
  },
  {
   "cell_type": "code",
   "execution_count": null,
   "id": "1c1d8f5a",
   "metadata": {},
   "outputs": [],
   "source": [
    "# create a new UMAP using the integrated embeddings\n",
    "integrated <- RunUMAP(integrated, reduction = \"integrated_lsi\", dims = 2:30)\n",
    "p2 <- DimPlot(integrated, group.by = \"expID\")\n",
    "ggsave(file.path(outdir,\"integrated.batch.png\"), dpi=300)\n",
    "p2"
   ]
  },
  {
   "cell_type": "markdown",
   "id": "33ecb9d5",
   "metadata": {},
   "source": [
    "### Compare merged and integrated"
   ]
  },
  {
   "cell_type": "code",
   "execution_count": null,
   "id": "ab5dd282",
   "metadata": {
    "scrolled": true
   },
   "outputs": [],
   "source": [
    "(p1 + ggtitle(\"Merged\")) | (p2 + ggtitle(\"Integrated\"))\n",
    "ggsave(file.path(outdir,\"integrated.merged.compare.png\"), dpi=300)"
   ]
  },
  {
   "cell_type": "markdown",
   "id": "b3e66c12",
   "metadata": {},
   "source": [
    "## Plot sample name"
   ]
  },
  {
   "cell_type": "code",
   "execution_count": null,
   "id": "3505e054",
   "metadata": {},
   "outputs": [],
   "source": [
    "p.sample <- DimPlot(integrated, group.by = \"orig.ident\")\n",
    "(p.sample + ggtitle(\"Samples after integration\"))\n",
    "ggsave(file.path(outdir,\"integrated.sample.png\"), dpi=300)"
   ]
  },
  {
   "cell_type": "code",
   "execution_count": null,
   "id": "85d4c852",
   "metadata": {
    "scrolled": true
   },
   "outputs": [],
   "source": [
    "Fragments(allSE[[1]])"
   ]
  },
  {
   "cell_type": "code",
   "execution_count": null,
   "id": "8d06c6ca",
   "metadata": {
    "scrolled": true
   },
   "outputs": [],
   "source": [
    "allSE[[1]]"
   ]
  },
  {
   "cell_type": "markdown",
   "id": "4991f63a",
   "metadata": {},
   "source": [
    "## Correlation of LSI components and Depth"
   ]
  },
  {
   "cell_type": "code",
   "execution_count": null,
   "id": "950f9024",
   "metadata": {
    "scrolled": true
   },
   "outputs": [],
   "source": [
    "pDepthCorr <- DepthCor(integrated, reduction='integrated_lsi')\n",
    "ggsave(file.path(outdir,\"integrated.depthCor.png\"), plot=pDepthCorr, dpi=300)\n",
    "\n",
    "pDepthCorr"
   ]
  },
  {
   "cell_type": "code",
   "execution_count": null,
   "id": "7289ac66",
   "metadata": {},
   "outputs": [],
   "source": []
  },
  {
   "cell_type": "code",
   "execution_count": null,
   "id": "ae5e9ab0",
   "metadata": {},
   "outputs": [],
   "source": [
    "saveRDS(integrated, file.path(outdir, paste0(\"allSamples.integrated.beforeClust.rds\")))"
   ]
  },
  {
   "cell_type": "markdown",
   "id": "3af8d543",
   "metadata": {},
   "source": [
    "## Cluster and plot"
   ]
  },
  {
   "cell_type": "code",
   "execution_count": null,
   "id": "9bcad6fe",
   "metadata": {
    "scrolled": false
   },
   "outputs": [],
   "source": [
    "#integrated <- RunUMAP(object = integrated, reduction = 'integrated_lsi', dims = 2:30)\n",
    "integrated <- FindNeighbors(object = integrated, reduction = 'integrated_lsi', dims = 2:30)\n",
    "integrated <- FindClusters(object = integrated, verbose = FALSE, algorithm = 3)\n",
    "\n",
    "pclust <- DimPlot(object = integrated, label = TRUE) + NoLegend()\n",
    "ggsave(file.path(outdir, \"integrated.lsi.clusters.png\"), pclust)\n",
    "pclust"
   ]
  },
  {
   "cell_type": "code",
   "execution_count": null,
   "id": "a9c47dd9",
   "metadata": {},
   "outputs": [],
   "source": [
    "saveRDS(integrated, file.path(outdir, paste0(\"allSamples.integrated.afterClust.rds\")))"
   ]
  },
  {
   "cell_type": "code",
   "execution_count": null,
   "id": "76b96b1e",
   "metadata": {},
   "outputs": [],
   "source": []
  },
  {
   "cell_type": "markdown",
   "id": "4d0a4728",
   "metadata": {},
   "source": [
    "## Get gene activity results "
   ]
  },
  {
   "cell_type": "code",
   "execution_count": null,
   "id": "337fe377",
   "metadata": {},
   "outputs": [],
   "source": [
    "integrated"
   ]
  },
  {
   "cell_type": "code",
   "execution_count": null,
   "id": "4020f18a",
   "metadata": {},
   "outputs": [],
   "source": [
    "integrated[[\"ATAC\"]]"
   ]
  },
  {
   "cell_type": "code",
   "execution_count": null,
   "id": "fe668c61",
   "metadata": {},
   "outputs": [],
   "source": [
    "Fragments(integrated[[\"ATAC\"]])"
   ]
  },
  {
   "cell_type": "code",
   "execution_count": null,
   "id": "dc36a5c1",
   "metadata": {},
   "outputs": [],
   "source": [
    "Fragments(integrated)"
   ]
  },
  {
   "cell_type": "code",
   "execution_count": null,
   "id": "3fe4a474",
   "metadata": {
    "scrolled": true
   },
   "outputs": [],
   "source": [
    "# add the gene information to the object\n",
    "DefaultAssay(integrated) <- \"ATAC\"\n",
    "Annotation(integrated) <- annotations\n",
    "gene.activities <- GeneActivity(integrated)\n"
   ]
  },
  {
   "cell_type": "markdown",
   "id": "e47f8d66",
   "metadata": {},
   "source": [
    "## Remove MT genes"
   ]
  },
  {
   "cell_type": "code",
   "execution_count": null,
   "id": "7d25a327",
   "metadata": {
    "scrolled": true
   },
   "outputs": [],
   "source": [
    "mt_genes <- annotations[seqnames(annotations) == \"chrM\"]\n",
    "dim(mt_genes)\n"
   ]
  },
  {
   "cell_type": "code",
   "execution_count": null,
   "id": "1a7d7454",
   "metadata": {
    "scrolled": true
   },
   "outputs": [],
   "source": [
    "dim(gene.activities)"
   ]
  },
  {
   "cell_type": "code",
   "execution_count": null,
   "id": "d04e9b31",
   "metadata": {},
   "outputs": [],
   "source": [
    "gene.activities <- gene.activities[!(rownames(gene.activities) %in% mt_genes$gene_name),]"
   ]
  },
  {
   "cell_type": "code",
   "execution_count": null,
   "id": "36b8a0be",
   "metadata": {
    "scrolled": true
   },
   "outputs": [],
   "source": [
    "dim(gene.activities)"
   ]
  },
  {
   "cell_type": "code",
   "execution_count": null,
   "id": "937e4fe3",
   "metadata": {},
   "outputs": [],
   "source": [
    "# add the gene activity matrix to the Seurat object as a new assay and normalize it\n",
    "integrated[['RNA']] <- CreateAssayObject(counts = gene.activities)\n",
    "integrated <- NormalizeData(\n",
    "  object = integrated,\n",
    "  assay = 'RNA',\n",
    "  normalization.method = 'LogNormalize',\n",
    "  scale.factor = median(integrated$nCount_RNA)\n",
    ")"
   ]
  },
  {
   "cell_type": "code",
   "execution_count": null,
   "id": "970dbf12",
   "metadata": {},
   "outputs": [],
   "source": [
    "DefaultAssay(integrated) <- 'RNA'"
   ]
  },
  {
   "cell_type": "code",
   "execution_count": null,
   "id": "073649d5",
   "metadata": {},
   "outputs": [],
   "source": [
    "saveRDS(integrated, file.path(outdir, paste0(\"allSamples.integrated.rds\")))"
   ]
  },
  {
   "cell_type": "code",
   "execution_count": null,
   "id": "2fffc7ef",
   "metadata": {
    "scrolled": true
   },
   "outputs": [],
   "source": [
    "Idents(integrated) <- \"expID\"\n",
    "VlnPlot(\n",
    "  object = integrated,\n",
    "  features = c('nCount_ATAC', 'peak_region_fragments', 'passed_filters',\n",
    "               'duplicate', 'unmapped'),\n",
    "  split.by = \"expID\",\n",
    "  pt.size = 0.1,\n",
    "  ncol = 3\n",
    ")\n",
    "\n",
    "ggsave(file.path(outdir, paste0(\"QC_02.png\")))"
   ]
  },
  {
   "cell_type": "code",
   "execution_count": null,
   "id": "626a0538",
   "metadata": {},
   "outputs": [],
   "source": [
    "sessionInfo()"
   ]
  },
  {
   "cell_type": "code",
   "execution_count": null,
   "id": "73c8b1d2",
   "metadata": {},
   "outputs": [],
   "source": [
    "sessionInfo()"
   ]
  },
  {
   "cell_type": "code",
   "execution_count": null,
   "id": "5f3e5d20",
   "metadata": {},
   "outputs": [],
   "source": [
    "sessionInfo()"
   ]
  }
 ],
 "metadata": {
  "celltoolbar": "Tags",
  "kernelspec": {
   "display_name": "R",
   "language": "R",
   "name": "ir"
  },
  "language_info": {
   "codemirror_mode": "r",
   "file_extension": ".r",
   "mimetype": "text/x-r-source",
   "name": "R",
   "pygments_lexer": "r",
   "version": "4.1.1"
  }
 },
 "nbformat": 4,
 "nbformat_minor": 5
}
