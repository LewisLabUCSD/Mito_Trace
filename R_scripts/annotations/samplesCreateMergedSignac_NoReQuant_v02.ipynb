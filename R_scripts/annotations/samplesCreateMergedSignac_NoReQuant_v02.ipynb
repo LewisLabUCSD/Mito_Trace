{
 "cells": [
  {
   "cell_type": "markdown",
   "id": "223d6f46",
   "metadata": {},
   "source": [
    "## Creates binarized Seurat objects, and merges them and finds Top Features (min.cutoff=20)"
   ]
  },
  {
   "cell_type": "code",
   "execution_count": 1,
   "id": "235ae72f",
   "metadata": {},
   "outputs": [],
   "source": [
    "# Input info\n",
    "cellr_in <- \"/data2/isshamie/mito_lineage/data/processed/mtscATAC/jan21_2021/MTblacklist\"\n",
    "samples <- \"J2,P2\"\n",
    "sample_names <- \"Flt3l,Ctrl\"\n",
    "\n",
    "# Saving\n",
    "outdir <- \"/data/isshamie/mito_lineage/output/annotation/cd34norm/MTblacklist/mergedSamples\" #\"/data2/mito_lineage/Analysis/annotation/output/data/\"\n",
    "\n",
    "# Parameters\n",
    "nTop = 25000\n",
    "assay=\"RNA\"\n",
    "\n",
    "cores = 16"
   ]
  },
  {
   "cell_type": "code",
   "execution_count": 2,
   "id": "c2c99fc4",
   "metadata": {},
   "outputs": [
    {
     "data": {
      "text/html": [
       "<style>\n",
       ".list-inline {list-style: none; margin:0; padding: 0}\n",
       ".list-inline>li {display: inline-block}\n",
       ".list-inline>li:not(:last-child)::after {content: \"\\00b7\"; padding: 0 .5ex}\n",
       "</style>\n",
       "<ol class=list-inline><li>'J2'</li><li>'P2'</li></ol>\n"
      ],
      "text/latex": [
       "\\begin{enumerate*}\n",
       "\\item 'J2'\n",
       "\\item 'P2'\n",
       "\\end{enumerate*}\n"
      ],
      "text/markdown": [
       "1. 'J2'\n",
       "2. 'P2'\n",
       "\n",
       "\n"
      ],
      "text/plain": [
       "[1] \"J2\" \"P2\""
      ]
     },
     "metadata": {},
     "output_type": "display_data"
    }
   ],
   "source": [
    "samples <- unlist(strsplit(samples, \",\")[[1]])\n",
    "sample_names <- unlist(strsplit(sample_names, \",\"))\n",
    "\n",
    "samples"
   ]
  },
  {
   "cell_type": "code",
   "execution_count": 3,
   "id": "e87c1127",
   "metadata": {},
   "outputs": [
    {
     "data": {
      "text/html": [
       "<style>\n",
       ".list-inline {list-style: none; margin:0; padding: 0}\n",
       ".list-inline>li {display: inline-block}\n",
       ".list-inline>li:not(:last-child)::after {content: \"\\00b7\"; padding: 0 .5ex}\n",
       "</style>\n",
       "<ol class=list-inline><li>'Flt3l'</li><li>'Ctrl'</li></ol>\n"
      ],
      "text/latex": [
       "\\begin{enumerate*}\n",
       "\\item 'Flt3l'\n",
       "\\item 'Ctrl'\n",
       "\\end{enumerate*}\n"
      ],
      "text/markdown": [
       "1. 'Flt3l'\n",
       "2. 'Ctrl'\n",
       "\n",
       "\n"
      ],
      "text/plain": [
       "[1] \"Flt3l\" \"Ctrl\" "
      ]
     },
     "metadata": {},
     "output_type": "display_data"
    }
   ],
   "source": [
    "sample_names"
   ]
  },
  {
   "cell_type": "code",
   "execution_count": 4,
   "id": "aad4f638",
   "metadata": {
    "scrolled": true
   },
   "outputs": [
    {
     "name": "stderr",
     "output_type": "stream",
     "text": [
      "Loading required package: stats4\n",
      "\n",
      "Loading required package: BiocGenerics\n",
      "\n",
      "Loading required package: parallel\n",
      "\n",
      "\n",
      "Attaching package: ‘BiocGenerics’\n",
      "\n",
      "\n",
      "The following objects are masked from ‘package:parallel’:\n",
      "\n",
      "    clusterApply, clusterApplyLB, clusterCall, clusterEvalQ,\n",
      "    clusterExport, clusterMap, parApply, parCapply, parLapply,\n",
      "    parLapplyLB, parRapply, parSapply, parSapplyLB\n",
      "\n",
      "\n",
      "The following objects are masked from ‘package:stats’:\n",
      "\n",
      "    IQR, mad, sd, var, xtabs\n",
      "\n",
      "\n",
      "The following objects are masked from ‘package:base’:\n",
      "\n",
      "    anyDuplicated, append, as.data.frame, basename, cbind, colnames,\n",
      "    dirname, do.call, duplicated, eval, evalq, Filter, Find, get, grep,\n",
      "    grepl, intersect, is.unsorted, lapply, Map, mapply, match, mget,\n",
      "    order, paste, pmax, pmax.int, pmin, pmin.int, Position, rank,\n",
      "    rbind, Reduce, rownames, sapply, setdiff, sort, table, tapply,\n",
      "    union, unique, unsplit, which.max, which.min\n",
      "\n",
      "\n",
      "Loading required package: S4Vectors\n",
      "\n",
      "\n",
      "Attaching package: ‘S4Vectors’\n",
      "\n",
      "\n",
      "The following object is masked from ‘package:base’:\n",
      "\n",
      "    expand.grid\n",
      "\n",
      "\n",
      "Loading required package: IRanges\n",
      "\n",
      "Loading required package: GenomeInfoDb\n",
      "\n",
      "Attaching SeuratObject\n",
      "\n",
      "Loading required package: ensembldb\n",
      "\n",
      "Loading required package: GenomicFeatures\n",
      "\n",
      "Loading required package: AnnotationDbi\n",
      "\n",
      "Loading required package: Biobase\n",
      "\n",
      "Welcome to Bioconductor\n",
      "\n",
      "    Vignettes contain introductory material; view with\n",
      "    'browseVignettes()'. To cite Bioconductor, see\n",
      "    'citation(\"Biobase\")', and for packages 'citation(\"pkgname\")'.\n",
      "\n",
      "\n",
      "Loading required package: AnnotationFilter\n",
      "\n",
      "\n",
      "Attaching package: 'ensembldb'\n",
      "\n",
      "\n",
      "The following object is masked from 'package:stats':\n",
      "\n",
      "    filter\n",
      "\n",
      "\n",
      "\n",
      "Attaching package: 'data.table'\n",
      "\n",
      "\n",
      "The following object is masked from 'package:GenomicRanges':\n",
      "\n",
      "    shift\n",
      "\n",
      "\n",
      "The following object is masked from 'package:IRanges':\n",
      "\n",
      "    shift\n",
      "\n",
      "\n",
      "The following objects are masked from 'package:S4Vectors':\n",
      "\n",
      "    first, second\n",
      "\n",
      "\n",
      "\n",
      "Attaching package: 'magrittr'\n",
      "\n",
      "\n",
      "The following object is masked from 'package:AnnotationFilter':\n",
      "\n",
      "    not\n",
      "\n",
      "\n",
      "\n",
      "Attaching package: 'future'\n",
      "\n",
      "\n",
      "The following object is masked from 'package:AnnotationFilter':\n",
      "\n",
      "    value\n",
      "\n",
      "\n",
      "The following object is masked from 'package:GenomicRanges':\n",
      "\n",
      "    values\n",
      "\n",
      "\n",
      "The following object is masked from 'package:IRanges':\n",
      "\n",
      "    values\n",
      "\n",
      "\n",
      "The following object is masked from 'package:S4Vectors':\n",
      "\n",
      "    values\n",
      "\n",
      "\n"
     ]
    },
    {
     "data": {
      "text/html": [
       "<pre class=language-r><code>structure(function (..., envir = parent.frame()) \n",
       "{\n",
       "<span style=white-space:pre-wrap>    future &lt;- SequentialFuture(..., envir = envir)</span>\n",
       "<span style=white-space:pre-wrap>    if (!future$lazy) </span>\n",
       "<span style=white-space:pre-wrap>        future &lt;- run(future)</span>\n",
       "<span style=white-space:pre-wrap>    invisible(future)</span>\n",
       "}, class = c(\"FutureStrategy\", \"sequential\", \"uniprocess\", \"future\", \n",
       "\"function\"))</code></pre>"
      ],
      "text/latex": [
       "\\begin{minted}{r}\n",
       "structure(function (..., envir = parent.frame()) \n",
       "\\{\n",
       "    future <- SequentialFuture(..., envir = envir)\n",
       "    if (!future\\$lazy) \n",
       "        future <- run(future)\n",
       "    invisible(future)\n",
       "\\}, class = c(\"FutureStrategy\", \"sequential\", \"uniprocess\", \"future\", \n",
       "\"function\"))\n",
       "\\end{minted}"
      ],
      "text/markdown": [
       "```r\n",
       "structure(function (..., envir = parent.frame()) \n",
       "{\n",
       "    future <- SequentialFuture(..., envir = envir)\n",
       "    if (!future$lazy) \n",
       "        future <- run(future)\n",
       "    invisible(future)\n",
       "}, class = c(\"FutureStrategy\", \"sequential\", \"uniprocess\", \"future\", \n",
       "\"function\"))\n",
       "```"
      ],
      "text/plain": [
       "sequential:\n",
       "- args: function (..., envir = parent.frame())\n",
       "- tweaked: FALSE\n",
       "- call: NULL"
      ]
     },
     "metadata": {},
     "output_type": "display_data"
    }
   ],
   "source": [
    "library(GenomicRanges)\n",
    "library(Seurat)\n",
    "library(Signac)\n",
    "library(GenomeInfoDb)\n",
    "library(EnsDb.Hsapiens.v75)\n",
    "library(ggplot2)\n",
    "library(patchwork)\n",
    "set.seed(1234)\n",
    "library(data.table)\n",
    "library(magrittr)\n",
    "\n",
    "library(future)\n",
    "plan()\n",
    "#plan(\"multiprocess\", workers = workers)\n",
    "options(future.globals.maxSize = 8000 * 1024^2)"
   ]
  },
  {
   "cell_type": "markdown",
   "id": "a53a3256",
   "metadata": {},
   "source": [
    "## Merge all peaks"
   ]
  },
  {
   "cell_type": "code",
   "execution_count": 5,
   "id": "62849b8a",
   "metadata": {
    "scrolled": true
   },
   "outputs": [
    {
     "name": "stdout",
     "output_type": "stream",
     "text": [
      "[1] \"here\"\n",
      "[1] \"/data2/isshamie/mito_lineage/data/processed/mtscATAC/jan21_2021/MTblacklist/J2/outs/filtered_peak_bc_matrix/peaks.bed\"\n",
      "[1] \"here\"\n",
      "[1] \"/data2/isshamie/mito_lineage/data/processed/mtscATAC/jan21_2021/MTblacklist/P2/outs/filtered_peak_bc_matrix/peaks.bed\"\n"
     ]
    },
    {
     "data": {
      "text/plain": [
       "GRanges object with 149551 ranges and 0 metadata columns:\n",
       "           seqnames            ranges strand\n",
       "              <Rle>         <IRanges>  <Rle>\n",
       "       [1]     chr1        9942-10364      *\n",
       "       [2]     chr1     191685-191736      *\n",
       "       [3]     chr1     267780-268257      *\n",
       "       [4]     chr1     271072-271548      *\n",
       "       [5]     chr1     585995-586411      *\n",
       "       ...      ...               ...    ...\n",
       "  [149547]     chrY 56844769-56845155      *\n",
       "  [149548]     chrY 56846033-56848664      *\n",
       "  [149549]     chrY 56849234-56851581      *\n",
       "  [149550]     chrY 56857506-56857613      *\n",
       "  [149551]     chrY 56873729-56874140      *\n",
       "  -------\n",
       "  seqinfo: 24 sequences from an unspecified genome; no seqlengths"
      ]
     },
     "metadata": {},
     "output_type": "display_data"
    }
   ],
   "source": [
    "read.peaks <- function(exp, cellr_in){\n",
    "    print('here')\n",
    "    print(file.path(cellr_in, exp, \"outs\", \"filtered_peak_bc_matrix\", \"peaks.bed\"))\n",
    "    peaks <- read.table(\n",
    "      file = file.path(cellr_in, exp, \"outs\", \"filtered_peak_bc_matrix\", \"peaks.bed\"),\n",
    "      col.names = c(\"chr\", \"start\", \"end\")\n",
    "    )\n",
    "    # convert to genomic ranges\n",
    "    gr <- makeGRangesFromDataFrame(peaks)\n",
    "    return(gr)\n",
    "}\n",
    "\n",
    "\n",
    "gr.full <- c(sapply(samples, read.peaks, cellr_in=cellr_in, USE.NAMES=F))\n",
    "\n",
    "gr.full.c <- gr.full[[1]]\n",
    "if (length(gr.full)>1){\n",
    "    for (i in 2:length(gr.full)){\n",
    "      gr.full.c <- c(gr.full.c, gr.full[[i]])\n",
    "    }\n",
    "}\n",
    "combined.peaks <- reduce(x = c(gr.full.c))\n",
    "\n",
    "# Filter out bad peaks based on length\n",
    "peakwidths <- width(combined.peaks)\n",
    "combined.peaks <- combined.peaks[peakwidths  < 10000 & peakwidths > 20]\n",
    "combined.peaks"
   ]
  },
  {
   "cell_type": "code",
   "execution_count": null,
   "id": "a0c289c7",
   "metadata": {},
   "outputs": [],
   "source": [
    "create_frag <- function(exp, cellr_in){\n",
    "\n",
    "    # quantify multiome peaks in the scATAC-seq dataset\n",
    "    counts <- FeatureMatrix(\n",
    "      fragments = atac.frags,\n",
    "      features = granges(pbmc.multi),\n",
    "      cells = atac.cells\n",
    "    )\n",
    "\n",
    "    # create object\n",
    "    atac.assay <- CreateChromatinAssay(\n",
    "      counts = counts,\n",
    "      min.features = 1000,\n",
    "      fragments = atac.frags\n",
    "    )\n",
    "    pbmc.atac <- CreateSeuratObject(counts = atac.assay, assay = \"peaks\")\n",
    "    pbmc.atac <- subset(pbmc.atac, nCount_peaks > 2000 & nCount_peaks < 30000)\n",
    "\n",
    "    # compute LSI\n",
    "    pbmc.atac <- FindTopFeatures(pbmc.atac, min.cutoff = 10)\n",
    "    pbmc.atac <- RunTFIDF(pbmc.atac)\n",
    "    pbmc.atac <- RunSVD(pbmc.atac)\n",
    "    }"
   ]
  },
  {
   "cell_type": "markdown",
   "id": "1cae010c",
   "metadata": {},
   "source": [
    "## Create fragment objects"
   ]
  },
  {
   "cell_type": "code",
   "execution_count": 6,
   "id": "67e92e33",
   "metadata": {
    "scrolled": false
   },
   "outputs": [],
   "source": [
    "create_frag <- function(exp, cellr_in){\n",
    "    barcode_path <- file.path(cellr_in, exp, \"outs\", \"filtered_peak_bc_matrix\", \"barcodes.tsv\")    \n",
    "    barcodes <- readr::read_tsv(barcode_path, col_names = F) # %>% tidyr::unite(barcode)\n",
    "    frag_file <- file.path(cellr_in, exp, \"outs\", \"fragments.tsv.gz\")\n",
    "    # quantify multiome peaks in the scATAC-seq dataset\n",
    "    frags.curr <- CreateFragmentObject(path = frag_file,cells= barcodes[[\"X1\"]])\n",
    "    barcodes <- as.data.frame(barcodes) %>%  tibble::column_to_rownames(var=\"X1\") %>% tibble::add_column(proj=exp)\n",
    "    ## Quantify peaks\n",
    "    curr.counts <- FeatureMatrix(\n",
    "      fragments = frags.curr,\n",
    "      features = combined.peaks,\n",
    "      cells = rownames(barcodes),\n",
    "      process_n = 8\n",
    "    )\n",
    "    \n",
    "    ## Create the objects\n",
    "    curr_assay <- CreateChromatinAssay(curr.counts, fragments = frags.curr)\n",
    "    curr <- CreateSeuratObject(curr_assay, assay = \"ATAC\", project=exp, meta.data=barcodes)\n",
    "    curr <- BinarizeCounts(curr)\n",
    "    return(curr)\n",
    "}\n",
    "\n"
   ]
  },
  {
   "cell_type": "code",
   "execution_count": 7,
   "id": "be01d8a8",
   "metadata": {
    "scrolled": false
   },
   "outputs": [
    {
     "data": {
      "text/plain": [
       "GRanges object with 149551 ranges and 0 metadata columns:\n",
       "           seqnames            ranges strand\n",
       "              <Rle>         <IRanges>  <Rle>\n",
       "       [1]     chr1        9942-10364      *\n",
       "       [2]     chr1     191685-191736      *\n",
       "       [3]     chr1     267780-268257      *\n",
       "       [4]     chr1     271072-271548      *\n",
       "       [5]     chr1     585995-586411      *\n",
       "       ...      ...               ...    ...\n",
       "  [149547]     chrY 56844769-56845155      *\n",
       "  [149548]     chrY 56846033-56848664      *\n",
       "  [149549]     chrY 56849234-56851581      *\n",
       "  [149550]     chrY 56857506-56857613      *\n",
       "  [149551]     chrY 56873729-56874140      *\n",
       "  -------\n",
       "  seqinfo: 24 sequences from an unspecified genome; no seqlengths"
      ]
     },
     "metadata": {},
     "output_type": "display_data"
    }
   ],
   "source": [
    "combined.peaks"
   ]
  },
  {
   "cell_type": "code",
   "execution_count": null,
   "id": "9730b2a7",
   "metadata": {
    "scrolled": false
   },
   "outputs": [
    {
     "name": "stderr",
     "output_type": "stream",
     "text": [
      "Registered S3 method overwritten by 'cli':\n",
      "  method     from         \n",
      "  print.boxx spatstat.geom\n",
      "\n",
      "\u001b[36m──\u001b[39m \u001b[1m\u001b[1mColumn specification\u001b[1m\u001b[22m \u001b[36m────────────────────────────────────────────────────────────────────────────────────────────────────────────────────────────────────────────────────────────────────────────────────────────────────────────────────\u001b[39m\n",
      "cols(\n",
      "  X1 = \u001b[31mcol_character()\u001b[39m\n",
      ")\n",
      "\n",
      "\n",
      "Computing hash\n",
      "\n",
      "Extracting reads overlapping genomic regions\n",
      "\n"
     ]
    }
   ],
   "source": [
    "allSE <- sapply(samples, create_frag, cellr_in=cellr_in)"
   ]
  },
  {
   "cell_type": "markdown",
   "id": "8857dd9d",
   "metadata": {},
   "source": [
    "## Merge"
   ]
  },
  {
   "cell_type": "code",
   "execution_count": null,
   "id": "fd280d61",
   "metadata": {},
   "outputs": [],
   "source": [
    "# merge all datasets, adding a cell ID to make sure cell names are unique\n",
    "combined <- merge(\n",
    "  x = allSE[[1]],\n",
    "  y = unlist(allSE[2:length(allSE)],use.names=FALSE), #allSE[2:length(allSE)],\n",
    "  add.cell.ids = sample_names\n",
    ")\n",
    "combined[[\"ATAC\"]]\n",
    "\n"
   ]
  },
  {
   "cell_type": "code",
   "execution_count": null,
   "id": "4b125078",
   "metadata": {
    "scrolled": false
   },
   "outputs": [],
   "source": [
    "combined <- FindTopFeatures(combined, min.cutoff = 20)\n",
    "combined"
   ]
  },
  {
   "cell_type": "code",
   "execution_count": null,
   "id": "be2e0719",
   "metadata": {},
   "outputs": [],
   "source": [
    "saveRDS(combined, file.path(outdir, paste0(\"allSamples.merged.rds\")))"
   ]
  },
  {
   "cell_type": "code",
   "execution_count": null,
   "id": "1f2f789e",
   "metadata": {},
   "outputs": [],
   "source": [
    "combined"
   ]
  },
  {
   "cell_type": "markdown",
   "id": "77338460",
   "metadata": {},
   "source": [
    "## Integrate datasets\n",
    "### Uses https://satijalab.org/signac/articles/integrate_atac.html"
   ]
  },
  {
   "cell_type": "code",
   "execution_count": null,
   "id": "645bed63",
   "metadata": {
    "scrolled": true
   },
   "outputs": [],
   "source": [
    "combined <- RunTFIDF(combined)\n",
    "combined <- RunSVD(combined)\n",
    "combined <- RunUMAP(combined, dims = 2:50, reduction = 'lsi')\n",
    "DimPlot(combined, group.by = \"proj\", pt.size = 0.1)"
   ]
  },
  {
   "cell_type": "code",
   "execution_count": null,
   "id": "51d654f0",
   "metadata": {
    "scrolled": true
   },
   "outputs": [],
   "source": [
    "DimPlot(combined, group.by = \"Group\", pt.size = 0.1)"
   ]
  },
  {
   "cell_type": "code",
   "execution_count": null,
   "id": "b6a43717",
   "metadata": {},
   "outputs": [],
   "source": [
    "p1 <- DimPlot(combined, group.by = \"dataset\")"
   ]
  },
  {
   "cell_type": "code",
   "execution_count": null,
   "id": "43ad596e",
   "metadata": {},
   "outputs": [],
   "source": [
    "# find integration anchors\n",
    "integration.anchors <- FindIntegrationAnchors(\n",
    "  object.list = allSE,\n",
    "  anchor.features = rownames(allSE[1]),\n",
    "  reduction = \"rlsi\",\n",
    "  dims = 2:30\n",
    ")\n",
    "\n",
    "# integrate LSI embeddings\n",
    "integrated <- IntegrateEmbeddings(\n",
    "  anchorset = integration.anchors,\n",
    "  reductions = combined[[\"lsi\"]],\n",
    "  new.reduction.name = \"integrated_lsi\",\n",
    "  dims.to.integrate = 1:30\n",
    ")\n",
    "\n",
    "# create a new UMAP using the integrated embeddings\n",
    "integrated <- RunUMAP(integrated, reduction = \"integrated_lsi\", dims = 2:30)\n",
    "p2 <- DimPlot(integrated, group.by = \"dataset\")"
   ]
  },
  {
   "cell_type": "code",
   "execution_count": null,
   "id": "1ec6b45d",
   "metadata": {},
   "outputs": [],
   "source": [
    "p2"
   ]
  },
  {
   "cell_type": "code",
   "execution_count": null,
   "id": "f9f6912f",
   "metadata": {},
   "outputs": [],
   "source": [
    "(p1 + ggtitle(\"Merged\")) | (p2 + ggtitle(\"Integrated\"))"
   ]
  },
  {
   "cell_type": "code",
   "execution_count": null,
   "id": "de285983",
   "metadata": {},
   "outputs": [],
   "source": [
    "p2"
   ]
  },
  {
   "cell_type": "code",
   "execution_count": null,
   "id": "8a8458cc",
   "metadata": {},
   "outputs": [],
   "source": []
  },
  {
   "cell_type": "code",
   "execution_count": null,
   "id": "d229ec6a",
   "metadata": {},
   "outputs": [],
   "source": [
    "print"
   ]
  }
 ],
 "metadata": {
  "kernelspec": {
   "display_name": "R",
   "language": "R",
   "name": "ir"
  },
  "language_info": {
   "codemirror_mode": "r",
   "file_extension": ".r",
   "mimetype": "text/x-r-source",
   "name": "R",
   "pygments_lexer": "r",
   "version": "4.0.2"
  }
 },
 "nbformat": 4,
 "nbformat_minor": 5
}
