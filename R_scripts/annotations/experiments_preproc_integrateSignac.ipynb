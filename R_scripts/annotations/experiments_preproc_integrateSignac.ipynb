{
 "cells": [
  {
   "cell_type": "code",
   "execution_count": 1,
   "id": "c392ece4",
   "metadata": {
    "scrolled": false
   },
   "outputs": [
    {
     "data": {
      "text/html": [
       "'/mnt/md0/isshamie/Projects/Mito_Trace/R_scripts/annotations'"
      ],
      "text/latex": [
       "'/mnt/md0/isshamie/Projects/Mito\\_Trace/R\\_scripts/annotations'"
      ],
      "text/markdown": [
       "'/mnt/md0/isshamie/Projects/Mito_Trace/R_scripts/annotations'"
      ],
      "text/plain": [
       "[1] \"/mnt/md0/isshamie/Projects/Mito_Trace/R_scripts/annotations\""
      ]
     },
     "metadata": {},
     "output_type": "display_data"
    }
   ],
   "source": [
    "getwd()"
   ]
  },
  {
   "cell_type": "markdown",
   "id": "223d6f46",
   "metadata": {},
   "source": [
    "## Creates binarized Seurat objects, integrates conditions and annotates genes by nearby peaks"
   ]
  },
  {
   "cell_type": "code",
   "execution_count": 2,
   "id": "663e2d4d",
   "metadata": {
    "tags": [
     "parameters"
    ]
   },
   "outputs": [],
   "source": [
    "# Input info\n",
    "#outdir = \"/mnt/md0/isshamie/Projects/Mito_Trace/output/pipeline/DUPI_april08_2021/MTblacklist_mtasnucl_Bonly/data/annotation/gff_hg38_1_2/mergedSamples/\"\n",
    "outdir = \"/mnt/md0/isshamie/Projects/Mito_Trace/output/CHIP_aggr/data/annotation/gff_A2/mergedSamples\"\n",
    "\n",
    "gff_id = \"hg38_1_2\"\n",
    "annotations_indir = \"/mnt/md0/isshamie/Projects/Mito_Trace/data/processed/annotation_granges/\"\n",
    "\n",
    "\n",
    "# gene_type=\"custom\" #\"UCSC\" #or custom\n",
    "# gene_file = \"/data/Mito_Trace/data/processed/genomes/mtMasked/GRCh38_MT_blacklist/genes/genes.gtf\"\n",
    "\n",
    "# Parameters\n",
    "nTop = 25000\n",
    "lsi_start_comp = 2\n",
    "to.filt.cells = \"TRUE\"\n",
    "to.qc = FALSE\n",
    "\n",
    "## QC parameters\n",
    "min_peak_region_fragments=10\n",
    "max_peak_region_fragments=15000\n",
    "min_pct_reads_in_peaks=15\n",
    "max_blacklist_ratio=0.05\n",
    "max_nucleosome_signal=4\n",
    "min_TSS_enrichment=0.2\n",
    "\n",
    "cores = 24\n",
    "\n",
    "input_dirs = \"\"\n"
   ]
  },
  {
   "cell_type": "code",
   "execution_count": 3,
   "id": "d299a02d",
   "metadata": {},
   "outputs": [],
   "source": [
    "annotations <- readRDS(file.path(annotations_indir, paste0(gff_id, \".annotationGranges.rds\")))"
   ]
  },
  {
   "cell_type": "code",
   "execution_count": 4,
   "id": "1ae9d6e3",
   "metadata": {},
   "outputs": [],
   "source": [
    "if ((to.filt.cells == \"T\") | (to.filt.cells == \"TRUE\")){\n",
    "    to.filt.cells = TRUE\n",
    "}else{to.filt.cells = FALSE}\n"
   ]
  },
  {
   "cell_type": "markdown",
   "id": "99f6d96e",
   "metadata": {},
   "source": [
    "## Add each integrate"
   ]
  },
  {
   "cell_type": "code",
   "execution_count": 5,
   "id": "87d973c8",
   "metadata": {},
   "outputs": [
    {
     "name": "stderr",
     "output_type": "stream",
     "text": [
      "Loading required package: stats4\n",
      "\n",
      "Loading required package: BiocGenerics\n",
      "\n",
      "\n",
      "Attaching package: ‘BiocGenerics’\n",
      "\n",
      "\n",
      "The following objects are masked from ‘package:stats’:\n",
      "\n",
      "    IQR, mad, sd, var, xtabs\n",
      "\n",
      "\n",
      "The following objects are masked from ‘package:base’:\n",
      "\n",
      "    anyDuplicated, append, as.data.frame, basename, cbind, colnames,\n",
      "    dirname, do.call, duplicated, eval, evalq, Filter, Find, get, grep,\n",
      "    grepl, intersect, is.unsorted, lapply, Map, mapply, match, mget,\n",
      "    order, paste, pmax, pmax.int, pmin, pmin.int, Position, rank,\n",
      "    rbind, Reduce, rownames, sapply, setdiff, sort, table, tapply,\n",
      "    union, unique, unsplit, which.max, which.min\n",
      "\n",
      "\n",
      "Loading required package: S4Vectors\n",
      "\n",
      "\n",
      "Attaching package: ‘S4Vectors’\n",
      "\n",
      "\n",
      "The following objects are masked from ‘package:base’:\n",
      "\n",
      "    expand.grid, I, unname\n",
      "\n",
      "\n",
      "Loading required package: IRanges\n",
      "\n",
      "Loading required package: GenomeInfoDb\n",
      "\n",
      "Attaching SeuratObject\n",
      "\n",
      "Loading required package: ensembldb\n",
      "\n",
      "Loading required package: GenomicFeatures\n",
      "\n",
      "Loading required package: AnnotationDbi\n",
      "\n",
      "Loading required package: Biobase\n",
      "\n",
      "Welcome to Bioconductor\n",
      "\n",
      "    Vignettes contain introductory material; view with\n",
      "    'browseVignettes()'. To cite Bioconductor, see\n",
      "    'citation(\"Biobase\")', and for packages 'citation(\"pkgname\")'.\n",
      "\n",
      "\n",
      "Loading required package: AnnotationFilter\n",
      "\n",
      "\n",
      "Attaching package: 'ensembldb'\n",
      "\n",
      "\n",
      "The following object is masked from 'package:stats':\n",
      "\n",
      "    filter\n",
      "\n",
      "\n",
      "\n",
      "Attaching package: 'data.table'\n",
      "\n",
      "\n",
      "The following object is masked from 'package:GenomicRanges':\n",
      "\n",
      "    shift\n",
      "\n",
      "\n",
      "The following object is masked from 'package:IRanges':\n",
      "\n",
      "    shift\n",
      "\n",
      "\n",
      "The following objects are masked from 'package:S4Vectors':\n",
      "\n",
      "    first, second\n",
      "\n",
      "\n",
      "\n",
      "Attaching package: 'magrittr'\n",
      "\n",
      "\n",
      "The following object is masked from 'package:AnnotationFilter':\n",
      "\n",
      "    not\n",
      "\n",
      "\n",
      "\n",
      "Attaching package: 'cowplot'\n",
      "\n",
      "\n",
      "The following object is masked from 'package:patchwork':\n",
      "\n",
      "    align_plots\n",
      "\n",
      "\n",
      "\n",
      "Attaching package: 'dplyr'\n",
      "\n",
      "\n",
      "The following objects are masked from 'package:data.table':\n",
      "\n",
      "    between, first, last\n",
      "\n",
      "\n",
      "The following objects are masked from 'package:ensembldb':\n",
      "\n",
      "    filter, select\n",
      "\n",
      "\n",
      "The following object is masked from 'package:AnnotationDbi':\n",
      "\n",
      "    select\n",
      "\n",
      "\n",
      "The following object is masked from 'package:Biobase':\n",
      "\n",
      "    combine\n",
      "\n",
      "\n",
      "The following objects are masked from 'package:GenomicRanges':\n",
      "\n",
      "    intersect, setdiff, union\n",
      "\n",
      "\n",
      "The following object is masked from 'package:GenomeInfoDb':\n",
      "\n",
      "    intersect\n",
      "\n",
      "\n",
      "The following objects are masked from 'package:IRanges':\n",
      "\n",
      "    collapse, desc, intersect, setdiff, slice, union\n",
      "\n",
      "\n",
      "The following objects are masked from 'package:S4Vectors':\n",
      "\n",
      "    first, intersect, rename, setdiff, setequal, union\n",
      "\n",
      "\n",
      "The following objects are masked from 'package:BiocGenerics':\n",
      "\n",
      "    combine, intersect, setdiff, union\n",
      "\n",
      "\n",
      "The following objects are masked from 'package:stats':\n",
      "\n",
      "    filter, lag\n",
      "\n",
      "\n",
      "The following objects are masked from 'package:base':\n",
      "\n",
      "    intersect, setdiff, setequal, union\n",
      "\n",
      "\n",
      "\n",
      "Attaching package: 'future'\n",
      "\n",
      "\n",
      "The following object is masked from 'package:AnnotationFilter':\n",
      "\n",
      "    value\n",
      "\n",
      "\n",
      "The following object is masked from 'package:GenomicRanges':\n",
      "\n",
      "    values\n",
      "\n",
      "\n",
      "The following object is masked from 'package:S4Vectors':\n",
      "\n",
      "    values\n",
      "\n",
      "\n",
      "Loading required package: Biostrings\n",
      "\n",
      "Loading required package: XVector\n",
      "\n",
      "\n",
      "Attaching package: 'Biostrings'\n",
      "\n",
      "\n",
      "The following object is masked from 'package:base':\n",
      "\n",
      "    strsplit\n",
      "\n",
      "\n",
      "Warning message:\n",
      "\"Strategy 'multiprocess' is deprecated in future (>= 1.20.0). Instead, explicitly specify either 'multisession' or 'multicore'. In the current R session, 'multiprocess' equals 'multicore'.\"\n"
     ]
    }
   ],
   "source": [
    "library(repr)\n",
    "options(repr.plot.width=12, repr.plot.height=12)\n",
    "\n",
    "library(GenomicRanges)\n",
    "library(Seurat)\n",
    "library(Signac)\n",
    "library(GenomeInfoDb)\n",
    "library(EnsDb.Hsapiens.v75)\n",
    "library(ggplot2)\n",
    "library(patchwork)\n",
    "set.seed(1234)\n",
    "library(data.table)\n",
    "library(magrittr)\n",
    "library(cowplot)\n",
    "library(metap)\n",
    "library(dplyr)\n",
    "library(\"patchwork\")\n",
    "library(future)\n",
    "library(Rsamtools)\n",
    "\n",
    "\n",
    "plan(\"multiprocess\", workers = cores)\n",
    "options(future.globals.maxSize = 16000 * 1024^2)\n",
    "#options(future.globals.maxSize = 50000 * 1024^2) # for 50 Gb RAM\n",
    "#plan(\"multiprocess\", workers = workers)"
   ]
  },
  {
   "cell_type": "code",
   "execution_count": 6,
   "id": "d092ef2c",
   "metadata": {
    "scrolled": false
   },
   "outputs": [],
   "source": [
    "allSE <- readRDS(file.path(outdir, paste0(\"allSamples.rds\")))"
   ]
  },
  {
   "cell_type": "markdown",
   "id": "c8c7675b",
   "metadata": {},
   "source": [
    "## Filter cells if parameters there"
   ]
  },
  {
   "cell_type": "code",
   "execution_count": null,
   "id": "34a1cd21",
   "metadata": {
    "scrolled": true
   },
   "outputs": [],
   "source": []
  },
  {
   "cell_type": "markdown",
   "id": "d3c2b704",
   "metadata": {},
   "source": [
    "# Merge:\n",
    "- get umap and clusters"
   ]
  },
  {
   "cell_type": "code",
   "execution_count": 7,
   "id": "4003c054",
   "metadata": {
    "scrolled": true
   },
   "outputs": [
    {
     "name": "stdout",
     "output_type": "stream",
     "text": [
      "[1] 1\n",
      "[1] 2\n",
      "[1] 3\n",
      "[1] 4\n",
      "[1] 5\n",
      "[1] 6\n",
      "[1] 7\n",
      "[1] 8\n"
     ]
    }
   ],
   "source": [
    "# Add sample names to cell prefix here.\n",
    "for (i in 1:length(allSE)){\n",
    "    print(i)\n",
    "    curr.SE <- allSE[[i]]\n",
    "    allSE[[i]] <- RenameCells(allSE[[i]], add.cell.id=paste(names(allSE)[[i]],curr.SE$orig.ident[[1]],sep=\"_\"))\n",
    "    allSE[[i]]$expID = paste(names(allSE)[[i]],curr.SE$orig.ident[[1]],sep=\"_\")\n",
    "}"
   ]
  },
  {
   "cell_type": "code",
   "execution_count": 8,
   "id": "ee053a00",
   "metadata": {
    "scrolled": true
   },
   "outputs": [
    {
     "data": {
      "text/html": [
       "8"
      ],
      "text/latex": [
       "8"
      ],
      "text/markdown": [
       "8"
      ],
      "text/plain": [
       "[1] 8"
      ]
     },
     "metadata": {},
     "output_type": "display_data"
    }
   ],
   "source": [
    "length(allSE)"
   ]
  },
  {
   "cell_type": "code",
   "execution_count": 10,
   "id": "7dcd18a7",
   "metadata": {
    "scrolled": true
   },
   "outputs": [
    {
     "name": "stderr",
     "output_type": "stream",
     "text": [
      "Extracting gene coordinates\n",
      "\n",
      "Extracting reads overlapping genomic regions\n",
      "\n",
      "Extracting TSS positions\n",
      "\n",
      "Finding + strand cut sites\n",
      "\n",
      "Finding - strand cut sites\n",
      "\n",
      "Computing mean insertion frequency in flanking regions\n",
      "\n",
      "Normalizing TSS score\n",
      "\n",
      "Saving 6.67 x 6.67 in image\n",
      "\n",
      "Saving 6.67 x 6.67 in image\n",
      "\n",
      "Warning message:\n",
      "\"Removed 14 rows containing non-finite values (stat_bin).\"\n",
      "Warning message:\n",
      "\"Removed 4 rows containing missing values (geom_bar).\"\n",
      "Extracting gene coordinates\n",
      "\n",
      "Extracting reads overlapping genomic regions\n",
      "\n",
      "Extracting TSS positions\n",
      "\n",
      "Finding + strand cut sites\n",
      "\n",
      "Finding - strand cut sites\n",
      "\n",
      "Computing mean insertion frequency in flanking regions\n",
      "\n",
      "Normalizing TSS score\n",
      "\n",
      "Saving 6.67 x 6.67 in image\n",
      "\n",
      "Saving 6.67 x 6.67 in image\n",
      "\n",
      "Warning message:\n",
      "\"Removed 45 rows containing non-finite values (stat_bin).\"\n",
      "Warning message:\n",
      "\"Removed 4 rows containing missing values (geom_bar).\"\n",
      "Extracting gene coordinates\n",
      "\n",
      "Extracting reads overlapping genomic regions\n",
      "\n",
      "Extracting TSS positions\n",
      "\n",
      "Finding + strand cut sites\n",
      "\n",
      "Finding - strand cut sites\n",
      "\n",
      "Computing mean insertion frequency in flanking regions\n",
      "\n",
      "Normalizing TSS score\n",
      "\n",
      "Saving 6.67 x 6.67 in image\n",
      "\n",
      "Saving 6.67 x 6.67 in image\n",
      "\n",
      "Warning message:\n",
      "\"Removed 125 rows containing non-finite values (stat_bin).\"\n",
      "Warning message:\n",
      "\"Removed 4 rows containing missing values (geom_bar).\"\n",
      "Extracting gene coordinates\n",
      "\n",
      "Extracting reads overlapping genomic regions\n",
      "\n",
      "Extracting TSS positions\n",
      "\n",
      "Finding + strand cut sites\n",
      "\n",
      "Finding - strand cut sites\n",
      "\n",
      "Computing mean insertion frequency in flanking regions\n",
      "\n",
      "Normalizing TSS score\n",
      "\n",
      "Saving 6.67 x 6.67 in image\n",
      "\n",
      "Saving 6.67 x 6.67 in image\n",
      "\n",
      "Warning message:\n",
      "\"Removed 76 rows containing non-finite values (stat_bin).\"\n",
      "Warning message:\n",
      "\"Removed 4 rows containing missing values (geom_bar).\"\n",
      "Extracting gene coordinates\n",
      "\n",
      "Extracting reads overlapping genomic regions\n",
      "\n",
      "Extracting TSS positions\n",
      "\n",
      "Finding + strand cut sites\n",
      "\n",
      "Finding - strand cut sites\n",
      "\n",
      "Computing mean insertion frequency in flanking regions\n",
      "\n",
      "Normalizing TSS score\n",
      "\n",
      "Saving 6.67 x 6.67 in image\n",
      "\n",
      "Saving 6.67 x 6.67 in image\n",
      "\n",
      "Warning message:\n",
      "\"Removed 25 rows containing non-finite values (stat_bin).\"\n",
      "Warning message:\n",
      "\"Removed 2 rows containing missing values (geom_bar).\"\n",
      "Extracting gene coordinates\n",
      "\n",
      "Extracting reads overlapping genomic regions\n",
      "\n",
      "Extracting TSS positions\n",
      "\n",
      "Finding + strand cut sites\n",
      "\n",
      "Finding - strand cut sites\n",
      "\n",
      "Computing mean insertion frequency in flanking regions\n",
      "\n",
      "Normalizing TSS score\n",
      "\n",
      "Saving 6.67 x 6.67 in image\n",
      "\n",
      "Saving 6.67 x 6.67 in image\n",
      "\n",
      "Warning message:\n",
      "\"Removed 7 rows containing non-finite values (stat_bin).\"\n",
      "Warning message:\n",
      "\"Removed 2 rows containing missing values (geom_bar).\"\n",
      "Extracting gene coordinates\n",
      "\n",
      "Extracting reads overlapping genomic regions\n",
      "\n",
      "Extracting TSS positions\n",
      "\n",
      "Finding + strand cut sites\n",
      "\n",
      "Finding - strand cut sites\n",
      "\n",
      "Computing mean insertion frequency in flanking regions\n",
      "\n",
      "Normalizing TSS score\n",
      "\n",
      "Saving 6.67 x 6.67 in image\n",
      "\n",
      "Saving 6.67 x 6.67 in image\n",
      "\n",
      "Warning message:\n",
      "\"Removed 64 rows containing non-finite values (stat_bin).\"\n",
      "Warning message:\n",
      "\"Removed 4 rows containing missing values (geom_bar).\"\n",
      "Extracting gene coordinates\n",
      "\n",
      "Extracting reads overlapping genomic regions\n",
      "\n",
      "Extracting TSS positions\n",
      "\n",
      "Finding + strand cut sites\n",
      "\n",
      "Finding - strand cut sites\n",
      "\n",
      "Computing mean insertion frequency in flanking regions\n",
      "\n",
      "Normalizing TSS score\n",
      "\n",
      "Saving 6.67 x 6.67 in image\n",
      "\n",
      "Saving 6.67 x 6.67 in image\n",
      "\n",
      "Warning message:\n",
      "\"Removed 47 rows containing non-finite values (stat_bin).\"\n",
      "Warning message:\n",
      "\"Removed 4 rows containing missing values (geom_bar).\"\n"
     ]
    },
    {
     "name": "stdout",
     "output_type": "stream",
     "text": [
      "[1] \"se before filt\"\n",
      "An object of class Seurat \n",
      "195596 features across 5308 samples within 1 assay \n",
      "Active assay: ATAC (195596 features, 0 variable features)\n",
      "[1] \"se after filt\"\n",
      "An object of class Seurat \n",
      "195596 features across 5102 samples within 1 assay \n",
      "Active assay: ATAC (195596 features, 0 variable features)\n",
      "[1] \"se before filt\"\n",
      "An object of class Seurat \n",
      "187005 features across 7540 samples within 1 assay \n",
      "Active assay: ATAC (187005 features, 0 variable features)\n",
      "[1] \"se after filt\"\n",
      "An object of class Seurat \n",
      "187005 features across 7218 samples within 1 assay \n",
      "Active assay: ATAC (187005 features, 0 variable features)\n",
      "[1] \"se before filt\"\n",
      "An object of class Seurat \n",
      "211492 features across 6848 samples within 1 assay \n",
      "Active assay: ATAC (211492 features, 0 variable features)\n",
      "[1] \"se after filt\"\n",
      "An object of class Seurat \n",
      "211492 features across 6381 samples within 1 assay \n",
      "Active assay: ATAC (211492 features, 0 variable features)\n",
      "[1] \"se before filt\"\n",
      "An object of class Seurat \n",
      "158263 features across 4767 samples within 1 assay \n",
      "Active assay: ATAC (158263 features, 0 variable features)\n",
      "[1] \"se after filt\"\n",
      "An object of class Seurat \n",
      "158263 features across 4677 samples within 1 assay \n",
      "Active assay: ATAC (158263 features, 0 variable features)\n",
      "[1] \"se before filt\"\n",
      "An object of class Seurat \n",
      "193788 features across 5312 samples within 1 assay \n",
      "Active assay: ATAC (193788 features, 0 variable features)\n",
      "[1] \"se after filt\"\n",
      "An object of class Seurat \n",
      "193788 features across 5291 samples within 1 assay \n",
      "Active assay: ATAC (193788 features, 0 variable features)\n",
      "[1] \"se before filt\"\n",
      "An object of class Seurat \n",
      "101986 features across 745 samples within 1 assay \n",
      "Active assay: ATAC (101986 features, 0 variable features)\n",
      "[1] \"se after filt\"\n",
      "An object of class Seurat \n",
      "101986 features across 575 samples within 1 assay \n",
      "Active assay: ATAC (101986 features, 0 variable features)\n",
      "[1] \"se before filt\"\n",
      "An object of class Seurat \n",
      "204193 features across 6624 samples within 1 assay \n",
      "Active assay: ATAC (204193 features, 0 variable features)\n",
      "[1] \"se after filt\"\n",
      "An object of class Seurat \n",
      "204193 features across 6505 samples within 1 assay \n",
      "Active assay: ATAC (204193 features, 0 variable features)\n",
      "[1] \"se before filt\"\n",
      "An object of class Seurat \n",
      "225594 features across 11981 samples within 1 assay \n",
      "Active assay: ATAC (225594 features, 0 variable features)\n",
      "[1] \"se after filt\"\n",
      "An object of class Seurat \n",
      "225594 features across 11793 samples within 1 assay \n",
      "Active assay: ATAC (225594 features, 0 variable features)\n"
     ]
    }
   ],
   "source": [
    "### Plot QC first\n",
    "\n",
    "to.qc = TRUE\n",
    "\n",
    "vPlot <- function(se){\n",
    "      vPlot <- VlnPlot(\n",
    "      object = se,\n",
    "      features = c('pct_reads_in_peaks', 'peak_region_fragments',\n",
    "                   'TSS.enrichment', 'blacklist_ratio', 'nucleosome_signal'),\n",
    "      pt.size = 0.1,\n",
    "      ncol = 5\n",
    "    )  \n",
    "    vPlot <- vPlot +    # Create grid of plots with title\n",
    "             plot_annotation(title = se$expID[[1]]) & \n",
    "             theme(plot.title = element_text(hjust = 0.5, size=15))\n",
    "    #print(vPlot)\n",
    "    return(vPlot)\n",
    "}\n",
    "\n",
    "qc <- function(se){\n",
    "    # add the gene information to the object\n",
    "    Annotation(se) <- annotations\n",
    "    gene.activities <- GeneActivity(se)\n",
    "    # compute nucleosome signal score per cell\n",
    "    se <- NucleosomeSignal(object = se)\n",
    "    \n",
    "    # compute TSS enrichment score per cell\n",
    "    se <- TSSEnrichment(object = se, fast = FALSE)\n",
    "\n",
    "    # add blacklist ratio and fraction of reads in peaks\n",
    "    se$pct_reads_in_peaks <- se$peak_region_fragments / se$passed_filters * 100\n",
    "    se$blacklist_ratio <- se$blacklist_region_fragments / se$peak_region_fragments\n",
    "    se$high.tss <- ifelse(se$TSS.enrichment > 2, 'High', 'Low')\n",
    "    se$nucleosome_group <- ifelse(se$nucleosome_signal > 4, 'NS > 4', 'NS < 4')\n",
    "    TSSPlot(se, group.by = 'high.tss') + NoLegend()\n",
    "    ggsave(file=file.path(outdir, paste0(\"QC.TSS\", se$expID[[1]], \".png\")))\n",
    "    FragmentHistogram(object = se, group.by = 'nucleosome_group')\n",
    "    ggsave(file=file.path(outdir, paste0(\"QC.FragHist\", se$expID[[1]], \".png\")))\n",
    "    return(se)\n",
    "}\n",
    "\n",
    "filtCells <- function(se, min_peak_region_fragments=10,\n",
    "                      max_peak_region_fragments=15000,\n",
    "                     min_pct_reads_in_peaks=15,\n",
    "                     max_blacklist_ratio=0.05,\n",
    "                     max_nucleosome_signal=4,\n",
    "                     min_TSS_enrichment=2){\n",
    "    print('se before filt')\n",
    "    print(se)\n",
    "    se <- subset(\n",
    "      x = se,\n",
    "      subset = peak_region_fragments > min_peak_region_fragments &\n",
    "               peak_region_fragments < max_peak_region_fragments &\n",
    "               pct_reads_in_peaks > min_pct_reads_in_peaks &\n",
    "               blacklist_ratio < max_blacklist_ratio &\n",
    "               nucleosome_signal < max_nucleosome_signal  &\n",
    "               TSS.enrichment > min_TSS_enrichment\n",
    "    )\n",
    "    print('se after filt')\n",
    "    print(se)\n",
    "    return(se)\n",
    "}\n",
    "\n",
    "\n",
    "if (to.filt.cells){\n",
    "    #ggsave(file.path(outdir, paste0(\"QC_02.pdf\")))\n",
    "    allSE <- lapply(allSE, qc)\n",
    "    allSE\n",
    "    #ggsave(file.path(outdir,\"integrated.batch.png\"), dpi=300)\n",
    "    allSE <- lapply(allSE, filtCells,\n",
    "                    min_peak_region_fragments=min_peak_region_fragments,\n",
    "                    max_peak_region_fragments=max_peak_region_fragments,\n",
    "                    min_pct_reads_in_peaks=min_pct_reads_in_peaks,\n",
    "                    max_blacklist_ratio=max_blacklist_ratio,\n",
    "                    max_nucleosome_signal=max_nucleosome_signal,\n",
    "                    min_TSS_enrichment=min_TSS_enrichment)\n",
    "}"
   ]
  },
  {
   "cell_type": "code",
   "execution_count": null,
   "id": "11c7a3b5",
   "metadata": {
    "scrolled": true
   },
   "outputs": [],
   "source": [
    "# merge all datasets, adding a cell ID to make sure cell names are unique\n",
    "# combined <- merge(\n",
    "#   x = allSE[[1]],\n",
    "#   y = unlist(allSE[2:length(allSE)]),\n",
    "# )\n",
    "\n",
    "if(length(allSE) == 1){\n",
    "    combined = allSE[[1]]\n",
    "}else{\n",
    "    combined <- merge(\n",
    "      x = allSE[[1]],\n",
    "      y = allSE[[2]])\n",
    "}\n",
    "\n",
    "if (length(allSE) > 2) {\n",
    "    for (i in 3:length(allSE)){\n",
    "        combined <- merge(x=combined,\n",
    "                          y = allSE[[i]])\n",
    "        }\n",
    "}"
   ]
  },
  {
   "cell_type": "code",
   "execution_count": null,
   "id": "34ea5c1b",
   "metadata": {
    "scrolled": true
   },
   "outputs": [],
   "source": [
    "combined <- FindTopFeatures(combined, min.cutoff = 20)\n",
    "combined"
   ]
  },
  {
   "cell_type": "code",
   "execution_count": null,
   "id": "7d5b3581",
   "metadata": {},
   "outputs": [],
   "source": [
    "combined[[]]"
   ]
  },
  {
   "cell_type": "code",
   "execution_count": null,
   "id": "85e65135",
   "metadata": {
    "scrolled": true
   },
   "outputs": [],
   "source": [
    "combined$expID <- factor(combined$expID)\n",
    "\n",
    "VlnPlot(\n",
    "  object = combined,\n",
    "  features = c('nCount_ATAC', 'peak_region_fragments', 'passed_filters',\n",
    "               'duplicate', 'unmapped'),\n",
    "  split.by = \"expID\",\n",
    "  pt.size = 0.1,\n",
    "  ncol = 3\n",
    ")\n"
   ]
  },
  {
   "cell_type": "markdown",
   "id": "445d94f6",
   "metadata": {},
   "source": [
    "## Filter"
   ]
  },
  {
   "cell_type": "code",
   "execution_count": null,
   "id": "a65bab5f",
   "metadata": {
    "scrolled": true
   },
   "outputs": [],
   "source": [
    "# if (to.filt.cells){\n",
    "#     combined <- lapply(combined, filtCells,\n",
    "#                     min_peak_region_fragments=min_peak_region_fragments,\n",
    "#                     max_peak_region_fragments=max_peak_region_fragments,\n",
    "#                     min_pct_reads_in_peaks=min_pct_reads_in_peaks,\n",
    "#                     max_blacklist_ratio=max_blacklist_ratio,\n",
    "#                     max_nucleosome_signal=max_nucleosome_signal,\n",
    "#                     min_TSS_enrichment=min_TSS_enrichment)\n",
    "# }"
   ]
  },
  {
   "cell_type": "code",
   "execution_count": null,
   "id": "b61df680",
   "metadata": {
    "scrolled": true
   },
   "outputs": [],
   "source": [
    "# Binarize and run LSI\n",
    "combined <- BinarizeCounts(combined)\n",
    "combined <- RunTFIDF(combined)\n",
    "combined <- RunSVD(combined)\n",
    "combined <- RunUMAP(combined, dims = lsi_start_comp:50, reduction = 'lsi')\n",
    "DimPlot(combined, group.by = \"proj\", pt.size = 0.1)"
   ]
  },
  {
   "cell_type": "code",
   "execution_count": null,
   "id": "ec1c1e5a",
   "metadata": {
    "scrolled": false
   },
   "outputs": [],
   "source": [
    "DimPlot(combined, group.by = \"expID\", pt.size = 0.1)"
   ]
  },
  {
   "cell_type": "code",
   "execution_count": null,
   "id": "54de97fe",
   "metadata": {
    "scrolled": true
   },
   "outputs": [],
   "source": [
    "pDepthCorr <- DepthCor(combined)\n",
    "pDepthCorr"
   ]
  },
  {
   "cell_type": "code",
   "execution_count": null,
   "id": "6271925a",
   "metadata": {},
   "outputs": [],
   "source": [
    "saveRDS(combined, file.path(outdir, paste0(\"combined.rds\")))"
   ]
  },
  {
   "cell_type": "code",
   "execution_count": null,
   "id": "add5f3bb",
   "metadata": {
    "scrolled": true
   },
   "outputs": [],
   "source": [
    "allSE <- lapply(levels(combined$expID),  function(x) subset(combined, subset = expID == x))\n",
    "allSE"
   ]
  },
  {
   "cell_type": "code",
   "execution_count": null,
   "id": "1236cde4",
   "metadata": {},
   "outputs": [],
   "source": [
    "saveRDS(allSE, file.path(outdir, paste0(\"allSamples.filt.rds\")))"
   ]
  },
  {
   "cell_type": "markdown",
   "id": "abea679a",
   "metadata": {},
   "source": [
    "# Integrate"
   ]
  },
  {
   "cell_type": "code",
   "execution_count": null,
   "id": "526f4c22",
   "metadata": {
    "scrolled": true
   },
   "outputs": [],
   "source": [
    "if(length(allSE) == 1){\n",
    "    integrated = allSE[[1]]\n",
    "}else{\n",
    "    # find integration anchors\n",
    "    integration.anchors <- FindIntegrationAnchors(\n",
    "      object.list = allSE, #c(ext,curr),\n",
    "      anchor.features = allSE[[1]], #rownames(ext),\n",
    "      reduction = \"rlsi\",\n",
    "      dims = lsi_start_comp:30\n",
    "    )\n",
    "\n",
    "    # integrate LSI embeddings\n",
    "    integrated <- IntegrateEmbeddings(\n",
    "      anchorset = integration.anchors,\n",
    "      reductions = combined[[\"lsi\"]],\n",
    "      new.reduction.name = \"integrated_lsi\",\n",
    "      dims.to.integrate = 1:30\n",
    "    )\n",
    "}\n"
   ]
  },
  {
   "cell_type": "markdown",
   "id": "6c323e0c",
   "metadata": {},
   "source": [
    "## Run UMAP and plot"
   ]
  },
  {
   "cell_type": "code",
   "execution_count": null,
   "id": "7cce7c05",
   "metadata": {},
   "outputs": [],
   "source": [
    "p1 <- DimPlot(combined, group.by = \"expID\")"
   ]
  },
  {
   "cell_type": "code",
   "execution_count": null,
   "id": "1c1d8f5a",
   "metadata": {},
   "outputs": [],
   "source": [
    "# create a new UMAP using the integrated embeddings\n",
    "integrated <- RunUMAP(integrated, reduction = \"integrated_lsi\", dims = 2:30)\n",
    "p2 <- DimPlot(integrated, group.by = \"expID\")\n",
    "ggsave(file.path(outdir,\"integrated.batch.png\"), dpi=300)\n",
    "p2"
   ]
  },
  {
   "cell_type": "markdown",
   "id": "33ecb9d5",
   "metadata": {},
   "source": [
    "### Compare merged and integrated"
   ]
  },
  {
   "cell_type": "code",
   "execution_count": null,
   "id": "ab5dd282",
   "metadata": {},
   "outputs": [],
   "source": [
    "(p1 + ggtitle(\"Merged\")) | (p2 + ggtitle(\"Integrated\"))\n",
    "ggsave(file.path(outdir,\"integrated.merged.compare.png\"), dpi=300)"
   ]
  },
  {
   "cell_type": "markdown",
   "id": "4991f63a",
   "metadata": {},
   "source": [
    "## Correlation of LSI components and Depth"
   ]
  },
  {
   "cell_type": "code",
   "execution_count": null,
   "id": "950f9024",
   "metadata": {
    "scrolled": true
   },
   "outputs": [],
   "source": [
    "pDepthCorr <- DepthCor(integrated, reduction='integrated_lsi')\n",
    "ggsave(file.path(outdir,\"integrated.depthCor.png\"), plot=pDepthCorr, dpi=300)\n",
    "\n",
    "pDepthCorr"
   ]
  },
  {
   "cell_type": "code",
   "execution_count": null,
   "id": "7289ac66",
   "metadata": {},
   "outputs": [],
   "source": []
  },
  {
   "cell_type": "code",
   "execution_count": null,
   "id": "a48473cd",
   "metadata": {},
   "outputs": [],
   "source": [
    "saveRDS(integrated, file.path(outdir, paste0(\"allSamples.integrated.beforeClust.rds\")))"
   ]
  },
  {
   "cell_type": "markdown",
   "id": "3af8d543",
   "metadata": {},
   "source": [
    "## Cluster and plot"
   ]
  },
  {
   "cell_type": "code",
   "execution_count": null,
   "id": "9bcad6fe",
   "metadata": {
    "scrolled": true
   },
   "outputs": [],
   "source": [
    "#integrated <- RunUMAP(object = integrated, reduction = 'integrated_lsi', dims = 2:30)\n",
    "integrated <- FindNeighbors(object = integrated, reduction = 'integrated_lsi', dims = 2:30)\n",
    "integrated <- FindClusters(object = integrated, verbose = FALSE, algorithm = 3)\n",
    "\n",
    "pclust <- DimPlot(object = integrated, label = TRUE) + NoLegend()\n",
    "ggsave(file.path(outdir, \"integrated.lsi.clusters.png\"), pclust)\n",
    "pclust"
   ]
  },
  {
   "cell_type": "code",
   "execution_count": null,
   "id": "76b96b1e",
   "metadata": {},
   "outputs": [],
   "source": []
  },
  {
   "cell_type": "markdown",
   "id": "4d0a4728",
   "metadata": {},
   "source": [
    "## Get gene activity results "
   ]
  },
  {
   "cell_type": "code",
   "execution_count": null,
   "id": "3fe4a474",
   "metadata": {
    "scrolled": true
   },
   "outputs": [],
   "source": [
    "# add the gene information to the object\n",
    "DefaultAssay(integrated) <- \"ATAC\"\n",
    "Annotation(integrated) <- annotations\n",
    "gene.activities <- GeneActivity(integrated)\n"
   ]
  },
  {
   "cell_type": "markdown",
   "id": "e47f8d66",
   "metadata": {},
   "source": [
    "## Remove MT genes"
   ]
  },
  {
   "cell_type": "code",
   "execution_count": null,
   "id": "7d25a327",
   "metadata": {
    "scrolled": true
   },
   "outputs": [],
   "source": [
    "mt_genes <- annotations[seqnames(annotations) == \"chrM\"]\n",
    "dim(mt_genes)\n"
   ]
  },
  {
   "cell_type": "code",
   "execution_count": null,
   "id": "1a7d7454",
   "metadata": {
    "scrolled": true
   },
   "outputs": [],
   "source": [
    "dim(gene.activities)"
   ]
  },
  {
   "cell_type": "code",
   "execution_count": null,
   "id": "d04e9b31",
   "metadata": {},
   "outputs": [],
   "source": [
    "gene.activities <- gene.activities[!(rownames(gene.activities) %in% mt_genes$gene_name),]"
   ]
  },
  {
   "cell_type": "code",
   "execution_count": null,
   "id": "36b8a0be",
   "metadata": {
    "scrolled": true
   },
   "outputs": [],
   "source": [
    "dim(gene.activities)"
   ]
  },
  {
   "cell_type": "code",
   "execution_count": null,
   "id": "937e4fe3",
   "metadata": {},
   "outputs": [],
   "source": [
    "# add the gene activity matrix to the Seurat object as a new assay and normalize it\n",
    "integrated[['RNA']] <- CreateAssayObject(counts = gene.activities)\n",
    "integrated <- NormalizeData(\n",
    "  object = integrated,\n",
    "  assay = 'RNA',\n",
    "  normalization.method = 'LogNormalize',\n",
    "  scale.factor = median(integrated$nCount_RNA)\n",
    ")"
   ]
  },
  {
   "cell_type": "code",
   "execution_count": null,
   "id": "970dbf12",
   "metadata": {},
   "outputs": [],
   "source": [
    "DefaultAssay(integrated) <- 'RNA'"
   ]
  },
  {
   "cell_type": "code",
   "execution_count": null,
   "id": "073649d5",
   "metadata": {},
   "outputs": [],
   "source": [
    "saveRDS(integrated, file.path(outdir, paste0(\"allSamples.integrated.rds\")))"
   ]
  },
  {
   "cell_type": "code",
   "execution_count": null,
   "id": "2fffc7ef",
   "metadata": {
    "scrolled": true
   },
   "outputs": [],
   "source": [
    "Idents(integrated) <- \"expID\"\n",
    "VlnPlot(\n",
    "  object = integrated,\n",
    "  features = c('nCount_ATAC', 'peak_region_fragments', 'passed_filters',\n",
    "               'duplicate', 'unmapped'),\n",
    "  split.by = \"expID\",\n",
    "  pt.size = 0.1,\n",
    "  ncol = 3\n",
    ")\n",
    "\n",
    "ggsave(file.path(outdir, paste0(\"QC_02.png\")))"
   ]
  },
  {
   "cell_type": "code",
   "execution_count": null,
   "id": "626a0538",
   "metadata": {},
   "outputs": [],
   "source": [
    "sessionInfo()"
   ]
  },
  {
   "cell_type": "code",
   "execution_count": 15,
   "id": "2354cfaa",
   "metadata": {},
   "outputs": [
    {
     "data": {
      "text/plain": [
       "R version 4.1.1 (2021-08-10)\n",
       "Platform: x86_64-conda-linux-gnu (64-bit)\n",
       "Running under: Ubuntu 20.04.4 LTS\n",
       "\n",
       "Matrix products: default\n",
       "BLAS/LAPACK: /home/isaac/miniconda3/envs/mttrace/lib/libopenblasp-r0.3.18.so\n",
       "\n",
       "locale:\n",
       " [1] LC_CTYPE=en_US.UTF-8       LC_NUMERIC=C              \n",
       " [3] LC_TIME=en_US.UTF-8        LC_COLLATE=en_US.UTF-8    \n",
       " [5] LC_MONETARY=en_US.UTF-8    LC_MESSAGES=en_US.UTF-8   \n",
       " [7] LC_PAPER=en_US.UTF-8       LC_NAME=C                 \n",
       " [9] LC_ADDRESS=C               LC_TELEPHONE=C            \n",
       "[11] LC_MEASUREMENT=en_US.UTF-8 LC_IDENTIFICATION=C       \n",
       "\n",
       "attached base packages:\n",
       "[1] stats4    stats     graphics  grDevices utils     datasets  methods  \n",
       "[8] base     \n",
       "\n",
       "other attached packages:\n",
       " [1] Rsamtools_2.10.0          Biostrings_2.62.0        \n",
       " [3] XVector_0.34.0            future_1.23.0            \n",
       " [5] dplyr_1.0.8               metap_1.1                \n",
       " [7] cowplot_1.1.1             magrittr_2.0.2           \n",
       " [9] data.table_1.14.2         patchwork_1.1.1          \n",
       "[11] ggplot2_3.3.5             EnsDb.Hsapiens.v75_2.99.0\n",
       "[13] ensembldb_2.18.1          AnnotationFilter_1.18.0  \n",
       "[15] GenomicFeatures_1.46.1    AnnotationDbi_1.56.1     \n",
       "[17] Biobase_2.54.0            Signac_1.4.0             \n",
       "[19] SeuratObject_4.0.4        Seurat_4.1.0             \n",
       "[21] GenomicRanges_1.46.0      GenomeInfoDb_1.30.0      \n",
       "[23] IRanges_2.28.0            S4Vectors_0.32.0         \n",
       "[25] BiocGenerics_0.40.0       repr_1.1.3               \n",
       "\n",
       "loaded via a namespace (and not attached):\n",
       "  [1] utf8_1.2.2                  reticulate_1.24            \n",
       "  [3] tidyselect_1.1.1            RSQLite_2.2.8              \n",
       "  [5] htmlwidgets_1.5.4           grid_4.1.1                 \n",
       "  [7] docopt_0.7.1                BiocParallel_1.28.0        \n",
       "  [9] Rtsne_0.15                  munsell_0.5.0              \n",
       " [11] codetools_0.2-18            ica_1.0-2                  \n",
       " [13] pbdZMQ_0.3-6                miniUI_0.1.1.1             \n",
       " [15] withr_2.4.3                 spatstat.random_2.1-0      \n",
       " [17] colorspace_2.0-2            filelock_1.0.2             \n",
       " [19] uuid_1.0-3                  ROCR_1.0-11                \n",
       " [21] tensor_1.5                  listenv_0.8.0              \n",
       " [23] labeling_0.4.2              Rdpack_2.1.2               \n",
       " [25] MatrixGenerics_1.6.0        slam_0.1-49                \n",
       " [27] GenomeInfoDbData_1.2.7      polyclip_1.10-0            \n",
       " [29] bit64_4.0.5                 farver_2.1.0               \n",
       " [31] parallelly_1.30.0           vctrs_0.3.8                \n",
       " [33] generics_0.1.2              BiocFileCache_2.2.0        \n",
       " [35] lsa_0.73.2                  ggseqlogo_0.1              \n",
       " [37] R6_2.5.1                    bitops_1.0-7               \n",
       " [39] spatstat.utils_2.3-0        cachem_1.0.6               \n",
       " [41] DelayedArray_0.20.0         assertthat_0.2.1           \n",
       " [43] promises_1.2.0.1            BiocIO_1.4.0               \n",
       " [45] scales_1.1.1                gtable_0.3.0               \n",
       " [47] Cairo_1.5-12.2              globals_0.14.0             \n",
       " [49] goftest_1.2-3               rlang_1.0.1                \n",
       " [51] RcppRoll_0.3.0              splines_4.1.1              \n",
       " [53] rtracklayer_1.54.0          lazyeval_0.2.2             \n",
       " [55] spatstat.geom_2.3-2         yaml_2.2.2                 \n",
       " [57] reshape2_1.4.4              abind_1.4-5                \n",
       " [59] httpuv_1.6.5                tools_4.1.1                \n",
       " [61] ellipsis_0.3.2              spatstat.core_2.4-0        \n",
       " [63] RColorBrewer_1.1-2          ggridges_0.5.3             \n",
       " [65] Rcpp_1.0.8                  plyr_1.8.6                 \n",
       " [67] base64enc_0.1-3             progress_1.2.2             \n",
       " [69] zlibbioc_1.40.0             purrr_0.3.4                \n",
       " [71] RCurl_1.98-1.5              prettyunits_1.1.1          \n",
       " [73] rpart_4.1-15                deldir_1.0-6               \n",
       " [75] pbapply_1.5-0               zoo_1.8-9                  \n",
       " [77] SummarizedExperiment_1.24.0 ggrepel_0.9.1              \n",
       " [79] cluster_2.1.2               scattermore_0.8            \n",
       " [81] lmtest_0.9-39               RANN_2.6.1                 \n",
       " [83] SnowballC_0.7.0             ProtGenerics_1.26.0        \n",
       " [85] fitdistrplus_1.1-6          matrixStats_0.61.0         \n",
       " [87] hms_1.1.1                   mime_0.12                  \n",
       " [89] evaluate_0.14               xtable_1.8-4               \n",
       " [91] XML_3.99-0.8                sparsesvd_0.2              \n",
       " [93] gridExtra_2.3               compiler_4.1.1             \n",
       " [95] biomaRt_2.50.0              tibble_3.1.6               \n",
       " [97] KernSmooth_2.23-20          crayon_1.5.0               \n",
       " [99] htmltools_0.5.2             mgcv_1.8-38                \n",
       "[101] later_1.3.0                 tidyr_1.2.0                \n",
       "[103] DBI_1.1.1                   tweenr_1.0.2               \n",
       "[105] dbplyr_2.1.1                MASS_7.3-54                \n",
       "[107] rappdirs_0.3.3              Matrix_1.3-4               \n",
       "[109] cli_3.2.0                   rbibutils_2.2.4            \n",
       "[111] parallel_4.1.1              igraph_1.2.11              \n",
       "[113] pkgconfig_2.0.3             GenomicAlignments_1.30.0   \n",
       "[115] IRdisplay_1.0               plotly_4.10.0              \n",
       "[117] spatstat.sparse_2.1-0       xml2_1.3.2                 \n",
       "[119] stringr_1.4.0               digest_0.6.29              \n",
       "[121] sctransform_0.3.3           RcppAnnoy_0.0.19           \n",
       "[123] spatstat.data_2.1-2         leiden_0.3.9               \n",
       "[125] fastmatch_1.1-3             uwot_0.1.11                \n",
       "[127] restfulr_0.0.13             curl_4.3.2                 \n",
       "[129] shiny_1.7.1                 rjson_0.2.20               \n",
       "[131] lifecycle_1.0.1             nlme_3.1-153               \n",
       "[133] jsonlite_1.7.3              viridisLite_0.4.0          \n",
       "[135] fansi_1.0.2                 pillar_1.7.0               \n",
       "[137] lattice_0.20-45             KEGGREST_1.34.0            \n",
       "[139] fastmap_1.1.0               httr_1.4.2                 \n",
       "[141] survival_3.2-13             glue_1.6.1                 \n",
       "[143] qlcMatrix_0.9.7             png_0.1-7                  \n",
       "[145] bit_4.0.4                   ggforce_0.3.3              \n",
       "[147] stringi_1.7.6               blob_1.2.2                 \n",
       "[149] memoise_2.0.1               IRkernel_1.2               \n",
       "[151] irlba_2.3.5                 future.apply_1.8.1         "
      ]
     },
     "metadata": {},
     "output_type": "display_data"
    }
   ],
   "source": [
    "sessionInfo()"
   ]
  }
 ],
 "metadata": {
  "celltoolbar": "Tags",
  "kernelspec": {
   "display_name": "R",
   "language": "R",
   "name": "ir"
  },
  "language_info": {
   "codemirror_mode": "r",
   "file_extension": ".r",
   "mimetype": "text/x-r-source",
   "name": "R",
   "pygments_lexer": "r",
   "version": "4.1.1"
  }
 },
 "nbformat": 4,
 "nbformat_minor": 5
}
