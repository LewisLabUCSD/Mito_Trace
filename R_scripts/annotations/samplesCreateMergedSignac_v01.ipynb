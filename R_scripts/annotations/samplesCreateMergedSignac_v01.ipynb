{
 "cells": [
  {
   "cell_type": "markdown",
   "id": "223d6f46",
   "metadata": {},
   "source": [
    "## Creates binarized Seurat objects, integrates conditions and annotates genes by nearby peaks"
   ]
  },
  {
   "cell_type": "code",
   "execution_count": 1,
   "id": "663e2d4d",
   "metadata": {
    "tags": [
     "parameters"
    ]
   },
   "outputs": [],
   "source": [
    "# Input info\n",
    "cellr_in = \"/data2/isshamie/mito_lineage/data/processed/mtscATAC/DUPI_april08_2021_Croker/MTblacklist_mtasnucl\" \n",
    "outdir =  \"/data2/isshamie/mito_lineage/output/annotation/DUPI_april08_2021/MTblacklist/mergedSamples\" \n",
    "samples = \"rxn1,rxn2,rxn3,rxn4\" \n",
    "sample_names = \"preA,preB,postA,postB\"\n",
    "\n",
    "# Parameters\n",
    "nTop = 25000\n",
    "cores = 36"
   ]
  },
  {
   "cell_type": "code",
   "execution_count": 2,
   "id": "b62b75ff",
   "metadata": {},
   "outputs": [],
   "source": [
    "library(repr)\n",
    "options(repr.plot.width=12, repr.plot.height=12)"
   ]
  },
  {
   "cell_type": "code",
   "execution_count": 3,
   "id": "235ae72f",
   "metadata": {},
   "outputs": [],
   "source": [
    "# # Input info\n",
    "# cellr_in <- \"/data2/isshamie/mito_lineage/data/processed/mtscATAC/jan21_2021/MTblacklist\"\n",
    "# samples <- \"J2,P2\"\n",
    "# sample_names <- \"Flt3l,Control\"\n",
    "\n",
    "# # Saving\n",
    "# outdir <- \"/data/isshamie/mito_lineage/output/annotation/cd34norm/MTblacklist/mergedSamples\" #\"/data2/mito_lineage/Analysis/annotation/output/data/\"\n",
    "\n",
    "# # Parameters\n",
    "# nTop = 25000\n",
    "# assay=\"RNA\"\n",
    "\n",
    "# cores = 36"
   ]
  },
  {
   "cell_type": "code",
   "execution_count": 4,
   "id": "c2c99fc4",
   "metadata": {
    "scrolled": true
   },
   "outputs": [
    {
     "data": {
      "text/html": [
       "<style>\n",
       ".list-inline {list-style: none; margin:0; padding: 0}\n",
       ".list-inline>li {display: inline-block}\n",
       ".list-inline>li:not(:last-child)::after {content: \"\\00b7\"; padding: 0 .5ex}\n",
       "</style>\n",
       "<ol class=list-inline><li>'rxn1'</li><li>'rxn2'</li><li>'rxn3'</li><li>'rxn4'</li></ol>\n"
      ],
      "text/latex": [
       "\\begin{enumerate*}\n",
       "\\item 'rxn1'\n",
       "\\item 'rxn2'\n",
       "\\item 'rxn3'\n",
       "\\item 'rxn4'\n",
       "\\end{enumerate*}\n"
      ],
      "text/markdown": [
       "1. 'rxn1'\n",
       "2. 'rxn2'\n",
       "3. 'rxn3'\n",
       "4. 'rxn4'\n",
       "\n",
       "\n"
      ],
      "text/plain": [
       "[1] \"rxn1\" \"rxn2\" \"rxn3\" \"rxn4\""
      ]
     },
     "metadata": {},
     "output_type": "display_data"
    }
   ],
   "source": [
    "samples <- unlist(strsplit(samples, \",\")[[1]])\n",
    "sample_names <- unlist(strsplit(sample_names, \",\"))\n",
    "\n",
    "samples"
   ]
  },
  {
   "cell_type": "code",
   "execution_count": 5,
   "id": "aad4f638",
   "metadata": {
    "scrolled": true
   },
   "outputs": [
    {
     "name": "stderr",
     "output_type": "stream",
     "text": [
      "Loading required package: stats4\n",
      "\n",
      "Loading required package: BiocGenerics\n",
      "\n",
      "Loading required package: parallel\n",
      "\n",
      "\n",
      "Attaching package: ‘BiocGenerics’\n",
      "\n",
      "\n",
      "The following objects are masked from ‘package:parallel’:\n",
      "\n",
      "    clusterApply, clusterApplyLB, clusterCall, clusterEvalQ,\n",
      "    clusterExport, clusterMap, parApply, parCapply, parLapply,\n",
      "    parLapplyLB, parRapply, parSapply, parSapplyLB\n",
      "\n",
      "\n",
      "The following objects are masked from ‘package:stats’:\n",
      "\n",
      "    IQR, mad, sd, var, xtabs\n",
      "\n",
      "\n",
      "The following objects are masked from ‘package:base’:\n",
      "\n",
      "    anyDuplicated, append, as.data.frame, basename, cbind, colnames,\n",
      "    dirname, do.call, duplicated, eval, evalq, Filter, Find, get, grep,\n",
      "    grepl, intersect, is.unsorted, lapply, Map, mapply, match, mget,\n",
      "    order, paste, pmax, pmax.int, pmin, pmin.int, Position, rank,\n",
      "    rbind, Reduce, rownames, sapply, setdiff, sort, table, tapply,\n",
      "    union, unique, unsplit, which.max, which.min\n",
      "\n",
      "\n",
      "Loading required package: S4Vectors\n",
      "\n",
      "\n",
      "Attaching package: ‘S4Vectors’\n",
      "\n",
      "\n",
      "The following objects are masked from ‘package:base’:\n",
      "\n",
      "    expand.grid, I, unname\n",
      "\n",
      "\n",
      "Loading required package: IRanges\n",
      "\n",
      "Loading required package: GenomeInfoDb\n",
      "\n",
      "Attaching SeuratObject\n",
      "\n",
      "Loading required package: ensembldb\n",
      "\n",
      "Loading required package: GenomicFeatures\n",
      "\n",
      "Loading required package: AnnotationDbi\n",
      "\n",
      "Loading required package: Biobase\n",
      "\n",
      "Welcome to Bioconductor\n",
      "\n",
      "    Vignettes contain introductory material; view with\n",
      "    'browseVignettes()'. To cite Bioconductor, see\n",
      "    'citation(\"Biobase\")', and for packages 'citation(\"pkgname\")'.\n",
      "\n",
      "\n",
      "Loading required package: AnnotationFilter\n",
      "\n",
      "\n",
      "Attaching package: 'ensembldb'\n",
      "\n",
      "\n",
      "The following object is masked from 'package:stats':\n",
      "\n",
      "    filter\n",
      "\n",
      "\n",
      "\n",
      "Attaching package: 'data.table'\n",
      "\n",
      "\n",
      "The following object is masked from 'package:GenomicRanges':\n",
      "\n",
      "    shift\n",
      "\n",
      "\n",
      "The following object is masked from 'package:IRanges':\n",
      "\n",
      "    shift\n",
      "\n",
      "\n",
      "The following objects are masked from 'package:S4Vectors':\n",
      "\n",
      "    first, second\n",
      "\n",
      "\n",
      "\n",
      "Attaching package: 'magrittr'\n",
      "\n",
      "\n",
      "The following object is masked from 'package:AnnotationFilter':\n",
      "\n",
      "    not\n",
      "\n",
      "\n",
      "\n",
      "Attaching package: 'cowplot'\n",
      "\n",
      "\n",
      "The following object is masked from 'package:patchwork':\n",
      "\n",
      "    align_plots\n",
      "\n",
      "\n",
      "\n",
      "Attaching package: 'dplyr'\n",
      "\n",
      "\n",
      "The following objects are masked from 'package:data.table':\n",
      "\n",
      "    between, first, last\n",
      "\n",
      "\n",
      "The following objects are masked from 'package:ensembldb':\n",
      "\n",
      "    filter, select\n",
      "\n",
      "\n",
      "The following object is masked from 'package:AnnotationDbi':\n",
      "\n",
      "    select\n",
      "\n",
      "\n",
      "The following object is masked from 'package:Biobase':\n",
      "\n",
      "    combine\n",
      "\n",
      "\n",
      "The following objects are masked from 'package:GenomicRanges':\n",
      "\n",
      "    intersect, setdiff, union\n",
      "\n",
      "\n",
      "The following object is masked from 'package:GenomeInfoDb':\n",
      "\n",
      "    intersect\n",
      "\n",
      "\n",
      "The following objects are masked from 'package:IRanges':\n",
      "\n",
      "    collapse, desc, intersect, setdiff, slice, union\n",
      "\n",
      "\n",
      "The following objects are masked from 'package:S4Vectors':\n",
      "\n",
      "    first, intersect, rename, setdiff, setequal, union\n",
      "\n",
      "\n",
      "The following objects are masked from 'package:BiocGenerics':\n",
      "\n",
      "    combine, intersect, setdiff, union\n",
      "\n",
      "\n",
      "The following objects are masked from 'package:stats':\n",
      "\n",
      "    filter, lag\n",
      "\n",
      "\n",
      "The following objects are masked from 'package:base':\n",
      "\n",
      "    intersect, setdiff, setequal, union\n",
      "\n",
      "\n",
      "\n",
      "Attaching package: 'future'\n",
      "\n",
      "\n",
      "The following object is masked from 'package:AnnotationFilter':\n",
      "\n",
      "    value\n",
      "\n",
      "\n",
      "The following object is masked from 'package:GenomicRanges':\n",
      "\n",
      "    values\n",
      "\n",
      "\n",
      "The following object is masked from 'package:IRanges':\n",
      "\n",
      "    values\n",
      "\n",
      "\n",
      "The following object is masked from 'package:S4Vectors':\n",
      "\n",
      "    values\n",
      "\n",
      "\n"
     ]
    },
    {
     "data": {
      "text/html": [
       "<pre class=language-r><code>structure(function (..., envir = parent.frame()) \n",
       "{\n",
       "<span style=white-space:pre-wrap>    future &lt;- SequentialFuture(..., envir = envir)</span>\n",
       "<span style=white-space:pre-wrap>    if (!future$lazy) </span>\n",
       "<span style=white-space:pre-wrap>        future &lt;- run(future)</span>\n",
       "<span style=white-space:pre-wrap>    invisible(future)</span>\n",
       "}, class = c(\"FutureStrategy\", \"sequential\", \"uniprocess\", \"future\", \n",
       "\"function\"))</code></pre>"
      ],
      "text/latex": [
       "\\begin{minted}{r}\n",
       "structure(function (..., envir = parent.frame()) \n",
       "\\{\n",
       "    future <- SequentialFuture(..., envir = envir)\n",
       "    if (!future\\$lazy) \n",
       "        future <- run(future)\n",
       "    invisible(future)\n",
       "\\}, class = c(\"FutureStrategy\", \"sequential\", \"uniprocess\", \"future\", \n",
       "\"function\"))\n",
       "\\end{minted}"
      ],
      "text/markdown": [
       "```r\n",
       "structure(function (..., envir = parent.frame()) \n",
       "{\n",
       "    future <- SequentialFuture(..., envir = envir)\n",
       "    if (!future$lazy) \n",
       "        future <- run(future)\n",
       "    invisible(future)\n",
       "}, class = c(\"FutureStrategy\", \"sequential\", \"uniprocess\", \"future\", \n",
       "\"function\"))\n",
       "```"
      ],
      "text/plain": [
       "sequential:\n",
       "- args: function (..., envir = parent.frame())\n",
       "- tweaked: FALSE\n",
       "- call: NULL"
      ]
     },
     "metadata": {},
     "output_type": "display_data"
    },
    {
     "name": "stderr",
     "output_type": "stream",
     "text": [
      "Warning message:\n",
      "\"Strategy 'multiprocess' is deprecated in future (>= 1.20.0). Instead, explicitly specify either 'multisession' or 'multicore'. In the current R session, 'multiprocess' equals 'multicore'.\"\n"
     ]
    }
   ],
   "source": [
    "library(GenomicRanges)\n",
    "library(Seurat)\n",
    "library(Signac)\n",
    "library(GenomeInfoDb)\n",
    "library(EnsDb.Hsapiens.v75)\n",
    "library(ggplot2)\n",
    "library(patchwork)\n",
    "set.seed(1234)\n",
    "library(data.table)\n",
    "library(magrittr)\n",
    "library(cowplot)\n",
    "library(metap)\n",
    "library(dplyr)\n",
    "library(future)\n",
    "plan()\n",
    "\n",
    "plan(\"multiprocess\", workers = cores)\n",
    "options(future.globals.maxSize = 8000 * 1024^2)\n",
    "#options(future.globals.maxSize = 50000 * 1024^2) # for 50 Gb RAM\n",
    "#plan(\"multiprocess\", workers = workers)"
   ]
  },
  {
   "cell_type": "markdown",
   "id": "a53a3256",
   "metadata": {},
   "source": [
    "## Merge all peaks"
   ]
  },
  {
   "cell_type": "code",
   "execution_count": 6,
   "id": "62849b8a",
   "metadata": {
    "scrolled": true
   },
   "outputs": [
    {
     "name": "stdout",
     "output_type": "stream",
     "text": [
      "[1] \"here\"\n",
      "[1] \"/data2/isshamie/mito_lineage/data/processed/mtscATAC/DUPI_april08_2021_Croker/MTblacklist_mtasnucl/rxn1/outs/filtered_peak_bc_matrix/peaks.bed\"\n",
      "[1] \"here\"\n",
      "[1] \"/data2/isshamie/mito_lineage/data/processed/mtscATAC/DUPI_april08_2021_Croker/MTblacklist_mtasnucl/rxn2/outs/filtered_peak_bc_matrix/peaks.bed\"\n",
      "[1] \"here\"\n",
      "[1] \"/data2/isshamie/mito_lineage/data/processed/mtscATAC/DUPI_april08_2021_Croker/MTblacklist_mtasnucl/rxn3/outs/filtered_peak_bc_matrix/peaks.bed\"\n",
      "[1] \"here\"\n",
      "[1] \"/data2/isshamie/mito_lineage/data/processed/mtscATAC/DUPI_april08_2021_Croker/MTblacklist_mtasnucl/rxn4/outs/filtered_peak_bc_matrix/peaks.bed\"\n"
     ]
    },
    {
     "data": {
      "text/plain": [
       "GRanges object with 49634 ranges and 0 metadata columns:\n",
       "          seqnames            ranges strand\n",
       "             <Rle>         <IRanges>  <Rle>\n",
       "      [1]     chr1       10169-10267      *\n",
       "      [2]     chr1     191337-191519      *\n",
       "      [3]     chr1     268046-268142      *\n",
       "      [4]     chr1     778355-779233      *\n",
       "      [5]     chr1     827080-827940      *\n",
       "      ...      ...               ...    ...\n",
       "  [49630]     chrY 56863163-56863474      *\n",
       "  [49631]     chrY 56865579-56866679      *\n",
       "  [49632]     chrY 56868819-56871669      *\n",
       "  [49633]     chrY 56872060-56874599      *\n",
       "  [49634]     chrY 56879752-56880373      *\n",
       "  -------\n",
       "  seqinfo: 25 sequences from an unspecified genome; no seqlengths"
      ]
     },
     "metadata": {},
     "output_type": "display_data"
    }
   ],
   "source": [
    "read.peaks <- function(exp, cellr_in){\n",
    "    print('here')\n",
    "    print(file.path(cellr_in, exp, \"outs\", \"filtered_peak_bc_matrix\", \"peaks.bed\"))\n",
    "    peaks <- read.table(\n",
    "      file = file.path(cellr_in, exp, \"outs\", \"filtered_peak_bc_matrix\", \"peaks.bed\"),\n",
    "      col.names = c(\"chr\", \"start\", \"end\")\n",
    "    )\n",
    "    # convert to genomic ranges\n",
    "    gr <- makeGRangesFromDataFrame(peaks)\n",
    "    return(gr)\n",
    "}\n",
    "\n",
    "\n",
    "gr.full <- c(sapply(samples, read.peaks, cellr_in=cellr_in, USE.NAMES=F))\n",
    "\n",
    "gr.full.c <- gr.full[[1]]\n",
    "if (length(gr.full)>1){\n",
    "    for (i in 2:length(gr.full)){\n",
    "      gr.full.c <- c(gr.full.c, gr.full[[i]])\n",
    "    }\n",
    "}\n",
    "combined.peaks <- reduce(x = c(gr.full.c))\n",
    "\n",
    "# Filter out bad peaks based on length\n",
    "peakwidths <- width(combined.peaks)\n",
    "combined.peaks <- combined.peaks[peakwidths  < 10000 & peakwidths > 20]\n",
    "combined.peaks"
   ]
  },
  {
   "cell_type": "markdown",
   "id": "1cae010c",
   "metadata": {},
   "source": [
    "## Create fragment objects"
   ]
  },
  {
   "cell_type": "code",
   "execution_count": 7,
   "id": "67e92e33",
   "metadata": {
    "scrolled": true
   },
   "outputs": [
    {
     "name": "stdout",
     "output_type": "stream",
     "text": [
      "[1] \"exp\"\n",
      "[1] \"rxn1\"\n",
      "[1] \"name\"\n",
      "[1] \"preA\"\n"
     ]
    },
    {
     "name": "stderr",
     "output_type": "stream",
     "text": [
      "Registered S3 method overwritten by 'cli':\n",
      "  method     from         \n",
      "  print.boxx spatstat.geom\n",
      "\u001b[1m\u001b[1mRows: \u001b[1m\u001b[22m\u001b[34m\u001b[34m450\u001b[34m\u001b[39m \u001b[1m\u001b[1mColumns: \u001b[1m\u001b[22m\u001b[34m\u001b[34m1\u001b[34m\u001b[39m\n",
      "\n",
      "\u001b[36m──\u001b[39m \u001b[1m\u001b[1mColumn specification\u001b[1m\u001b[22m \u001b[36m────────────────────────────────────────────────────────────────────────────────────────────────────────────────────────────────────────────────────────────────────────────────────────────────────────────────────\u001b[39m\n",
      "\u001b[1mDelimiter:\u001b[22m \"\\t\"\n",
      "\u001b[31mchr\u001b[39m (1): X1\n",
      "\n",
      "\n",
      "\u001b[36mℹ\u001b[39m Use \u001b[30m\u001b[47m\u001b[30m\u001b[47m`spec()`\u001b[47m\u001b[30m\u001b[49m\u001b[39m to retrieve the full column specification for this data.\n",
      "\u001b[36mℹ\u001b[39m Specify the column types or set \u001b[30m\u001b[47m\u001b[30m\u001b[47m`show_col_types = FALSE`\u001b[47m\u001b[30m\u001b[49m\u001b[39m to quiet this message.\n",
      "\n",
      "\u001b[1m\u001b[1mRows: \u001b[1m\u001b[22m\u001b[34m\u001b[34m191669\u001b[34m\u001b[39m \u001b[1m\u001b[1mColumns: \u001b[1m\u001b[22m\u001b[34m\u001b[34m18\u001b[34m\u001b[39m\n",
      "\n",
      "\u001b[36m──\u001b[39m \u001b[1m\u001b[1mColumn specification\u001b[1m\u001b[22m \u001b[36m────────────────────────────────────────────────────────────────────────────────────────────────────────────────────────────────────────────────────────────────────────────────────────────────────────────────────\u001b[39m\n",
      "\u001b[1mDelimiter:\u001b[22m \",\"\n",
      "\u001b[31mchr\u001b[39m  (2): barcode, cell_id\n",
      "\u001b[32mdbl\u001b[39m (16): total, duplicate, chimeric, unmapped, lowmapq, mitochondrial, pass...\n",
      "\n",
      "\n",
      "\u001b[36mℹ\u001b[39m Use \u001b[30m\u001b[47m\u001b[30m\u001b[47m`spec()`\u001b[47m\u001b[30m\u001b[49m\u001b[39m to retrieve the full column specification for this data.\n",
      "\u001b[36mℹ\u001b[39m Specify the column types or set \u001b[30m\u001b[47m\u001b[30m\u001b[47m`show_col_types = FALSE`\u001b[47m\u001b[30m\u001b[49m\u001b[39m to quiet this message.\n",
      "\n"
     ]
    },
    {
     "name": "stdout",
     "output_type": "stream",
     "text": [
      "[1] \"Creating fragments object\"\n"
     ]
    },
    {
     "name": "stderr",
     "output_type": "stream",
     "text": [
      "Computing hash\n",
      "\n"
     ]
    },
    {
     "name": "stdout",
     "output_type": "stream",
     "text": [
      "[1] \"Quantifying peaks\"\n"
     ]
    },
    {
     "name": "stderr",
     "output_type": "stream",
     "text": [
      "Extracting reads overlapping genomic regions\n",
      "\n"
     ]
    },
    {
     "name": "stdout",
     "output_type": "stream",
     "text": [
      "[1] \"Creating chromatin assay\"\n"
     ]
    },
    {
     "name": "stderr",
     "output_type": "stream",
     "text": [
      "Warning message in CreateSeuratObject.Assay(curr_assay, assay = \"ATAC\", project = name, :\n",
      "\"Some cells in meta.data not present in provided counts matrix.\"\n"
     ]
    },
    {
     "name": "stdout",
     "output_type": "stream",
     "text": [
      "                   orig.ident nCount_ATAC nFeature_ATAC total duplicate\n",
      "AAACTCGTCCGCCTAT-1       preA         480           438 11194      5530\n",
      "AAAGATGCAAAGCTGG-1       preA         439           410  6506      3516\n",
      "AAAGGATAGAAACGCC-1       preA        1173           981 12844      6696\n",
      "AAATGCCTCGCTATAG-1       preA         404           360  7438      4381\n",
      "AACGAGGCACTCGCAG-1       preA         577           502 13910      8695\n",
      "AACGAGGGTTTAGGAA-1       preA         512           476  8319      3811\n",
      "                   chimeric unmapped lowmapq mitochondrial passed_filters\n",
      "AAACTCGTCCGCCTAT-1       80      116     608             0           4860\n",
      "AAAGATGCAAAGCTGG-1       71       40     239             0           2640\n",
      "AAAGGATAGAAACGCC-1      131       84     477             0           5456\n",
      "AAATGCCTCGCTATAG-1       67       52     284             0           2654\n",
      "AACGAGGCACTCGCAG-1      128       90     553             0           4444\n",
      "AACGAGGGTTTAGGAA-1       57       89     525             0           3837\n",
      "                    cell_id is__cell_barcode TSS_fragments\n",
      "AAACTCGTCCGCCTAT-1  _cell_2                1          1554\n",
      "AAAGATGCAAAGCTGG-1  _cell_4                1          1411\n",
      "AAAGGATAGAAACGCC-1  _cell_5                1          3127\n",
      "AAATGCCTCGCTATAG-1  _cell_8                1          1518\n",
      "AACGAGGCACTCGCAG-1 _cell_13                1          2346\n",
      "AACGAGGGTTTAGGAA-1 _cell_14                1          1411\n",
      "                   DNase_sensitive_region_fragments enhancer_region_fragments\n",
      "AAACTCGTCCGCCTAT-1                                0                         0\n",
      "AAAGATGCAAAGCTGG-1                                0                         0\n",
      "AAAGGATAGAAACGCC-1                                0                         0\n",
      "AAATGCCTCGCTATAG-1                                0                         0\n",
      "AACGAGGCACTCGCAG-1                                0                         0\n",
      "AACGAGGGTTTAGGAA-1                                0                         0\n",
      "                   promoter_region_fragments on_target_fragments\n",
      "AAACTCGTCCGCCTAT-1                         0                1554\n",
      "AAAGATGCAAAGCTGG-1                         0                1411\n",
      "AAAGGATAGAAACGCC-1                         0                3127\n",
      "AAATGCCTCGCTATAG-1                         0                1518\n",
      "AACGAGGCACTCGCAG-1                         0                2346\n",
      "AACGAGGGTTTAGGAA-1                         0                1411\n",
      "                   blacklist_region_fragments peak_region_fragments\n",
      "AAACTCGTCCGCCTAT-1                          0                  1419\n",
      "AAAGATGCAAAGCTGG-1                          0                  1404\n",
      "AAAGGATAGAAACGCC-1                          0                  3070\n",
      "AAATGCCTCGCTATAG-1                          0                  1474\n",
      "AACGAGGCACTCGCAG-1                          0                  2329\n",
      "AACGAGGGTTTAGGAA-1                          0                  1247\n",
      "                   peak_region_cutsites proj\n",
      "AAACTCGTCCGCCTAT-1                 2669 preA\n",
      "AAAGATGCAAAGCTGG-1                 2682 preA\n",
      "AAAGGATAGAAACGCC-1                 5795 preA\n",
      "AAATGCCTCGCTATAG-1                 2841 preA\n",
      "AACGAGGCACTCGCAG-1                 4448 preA\n",
      "AACGAGGGTTTAGGAA-1                 2281 preA\n",
      "[1] \"exp\"\n",
      "[1] \"rxn2\"\n",
      "[1] \"name\"\n",
      "[1] \"preB\"\n"
     ]
    },
    {
     "name": "stderr",
     "output_type": "stream",
     "text": [
      "\u001b[1m\u001b[1mRows: \u001b[1m\u001b[22m\u001b[34m\u001b[34m1546\u001b[34m\u001b[39m \u001b[1m\u001b[1mColumns: \u001b[1m\u001b[22m\u001b[34m\u001b[34m1\u001b[34m\u001b[39m\n",
      "\n",
      "\u001b[36m──\u001b[39m \u001b[1m\u001b[1mColumn specification\u001b[1m\u001b[22m \u001b[36m────────────────────────────────────────────────────────────────────────────────────────────────────────────────────────────────────────────────────────────────────────────────────────────────────────────────────\u001b[39m\n",
      "\u001b[1mDelimiter:\u001b[22m \"\\t\"\n",
      "\u001b[31mchr\u001b[39m (1): X1\n",
      "\n",
      "\n",
      "\u001b[36mℹ\u001b[39m Use \u001b[30m\u001b[47m\u001b[30m\u001b[47m`spec()`\u001b[47m\u001b[30m\u001b[49m\u001b[39m to retrieve the full column specification for this data.\n",
      "\u001b[36mℹ\u001b[39m Specify the column types or set \u001b[30m\u001b[47m\u001b[30m\u001b[47m`show_col_types = FALSE`\u001b[47m\u001b[30m\u001b[49m\u001b[39m to quiet this message.\n",
      "\n",
      "\u001b[1m\u001b[1mRows: \u001b[1m\u001b[22m\u001b[34m\u001b[34m385146\u001b[34m\u001b[39m \u001b[1m\u001b[1mColumns: \u001b[1m\u001b[22m\u001b[34m\u001b[34m18\u001b[34m\u001b[39m\n",
      "\n",
      "\u001b[36m──\u001b[39m \u001b[1m\u001b[1mColumn specification\u001b[1m\u001b[22m \u001b[36m────────────────────────────────────────────────────────────────────────────────────────────────────────────────────────────────────────────────────────────────────────────────────────────────────────────────────\u001b[39m\n",
      "\u001b[1mDelimiter:\u001b[22m \",\"\n",
      "\u001b[31mchr\u001b[39m  (2): barcode, cell_id\n",
      "\u001b[32mdbl\u001b[39m (16): total, duplicate, chimeric, unmapped, lowmapq, mitochondrial, pass...\n",
      "\n",
      "\n",
      "\u001b[36mℹ\u001b[39m Use \u001b[30m\u001b[47m\u001b[30m\u001b[47m`spec()`\u001b[47m\u001b[30m\u001b[49m\u001b[39m to retrieve the full column specification for this data.\n",
      "\u001b[36mℹ\u001b[39m Specify the column types or set \u001b[30m\u001b[47m\u001b[30m\u001b[47m`show_col_types = FALSE`\u001b[47m\u001b[30m\u001b[49m\u001b[39m to quiet this message.\n",
      "\n"
     ]
    },
    {
     "name": "stdout",
     "output_type": "stream",
     "text": [
      "[1] \"Creating fragments object\"\n"
     ]
    },
    {
     "name": "stderr",
     "output_type": "stream",
     "text": [
      "Computing hash\n",
      "\n"
     ]
    },
    {
     "name": "stdout",
     "output_type": "stream",
     "text": [
      "[1] \"Quantifying peaks\"\n"
     ]
    },
    {
     "name": "stderr",
     "output_type": "stream",
     "text": [
      "Extracting reads overlapping genomic regions\n",
      "\n"
     ]
    },
    {
     "name": "stdout",
     "output_type": "stream",
     "text": [
      "[1] \"Creating chromatin assay\"\n"
     ]
    },
    {
     "name": "stderr",
     "output_type": "stream",
     "text": [
      "Warning message in CreateSeuratObject.Assay(curr_assay, assay = \"ATAC\", project = name, :\n",
      "\"Some cells in meta.data not present in provided counts matrix.\"\n"
     ]
    },
    {
     "name": "stdout",
     "output_type": "stream",
     "text": [
      "                   orig.ident nCount_ATAC nFeature_ATAC total duplicate\n",
      "AAACGAAGTCACTCTC-1       preB        4767          3793 38954     29912\n",
      "AAACGAAGTCCCTAAA-1       preB        5290          4188 24309     15056\n",
      "AAACGAAGTCTGTGTA-1       preB         727           694 17674     15525\n",
      "AAACTCGCAACTCGTA-1       preB        7619          5315 39016     26386\n",
      "AAACTCGCAGAACGAC-1       preB        7564          5683 70990     51473\n",
      "AAACTGCCACACATGT-1       preB        1084           979 23591     20903\n",
      "                   chimeric unmapped lowmapq mitochondrial passed_filters\n",
      "AAACGAAGTCACTCTC-1      335      145    1057             0           7505\n",
      "AAACGAAGTCCCTAAA-1      258      113     968             0           7914\n",
      "AAACGAAGTCTGTGTA-1      189       72     200             0           1688\n",
      "AAACTCGCAACTCGTA-1      437      223    1941             0          10029\n",
      "AAACTCGCAGAACGAC-1      759      331    2599             0          15828\n",
      "AAACTGCCACACATGT-1      197       96     328             0           2067\n",
      "                   cell_id is__cell_barcode TSS_fragments\n",
      "AAACGAAGTCACTCTC-1 _cell_1                1          4513\n",
      "AAACGAAGTCCCTAAA-1 _cell_2                1          4454\n",
      "AAACGAAGTCTGTGTA-1 _cell_3                1          1122\n",
      "AAACTCGCAACTCGTA-1 _cell_5                1          6642\n",
      "AAACTCGCAGAACGAC-1 _cell_6                1          7318\n",
      "AAACTGCCACACATGT-1 _cell_7                1          1485\n",
      "                   DNase_sensitive_region_fragments enhancer_region_fragments\n",
      "AAACGAAGTCACTCTC-1                                0                         0\n",
      "AAACGAAGTCCCTAAA-1                                0                         0\n",
      "AAACGAAGTCTGTGTA-1                                0                         0\n",
      "AAACTCGCAACTCGTA-1                                0                         0\n",
      "AAACTCGCAGAACGAC-1                                0                         0\n",
      "AAACTGCCACACATGT-1                                0                         0\n",
      "                   promoter_region_fragments on_target_fragments\n",
      "AAACGAAGTCACTCTC-1                         0                4513\n",
      "AAACGAAGTCCCTAAA-1                         0                4454\n",
      "AAACGAAGTCTGTGTA-1                         0                1122\n",
      "AAACTCGCAACTCGTA-1                         0                6642\n",
      "AAACTCGCAGAACGAC-1                         0                7318\n",
      "AAACTGCCACACATGT-1                         0                1485\n",
      "                   blacklist_region_fragments peak_region_fragments\n",
      "AAACGAAGTCACTCTC-1                          0                  5325\n",
      "AAACGAAGTCCCTAAA-1                          0                  5461\n",
      "AAACGAAGTCTGTGTA-1                          0                  1246\n",
      "AAACTCGCAACTCGTA-1                          0                  7857\n",
      "AAACTCGCAGAACGAC-1                          0                  8179\n",
      "AAACTGCCACACATGT-1                          0                  1672\n",
      "                   peak_region_cutsites proj\n",
      "AAACGAAGTCACTCTC-1                10414 preB\n",
      "AAACGAAGTCCCTAAA-1                10655 preB\n",
      "AAACGAAGTCTGTGTA-1                 2453 preB\n",
      "AAACTCGCAACTCGTA-1                15424 preB\n",
      "AAACTCGCAGAACGAC-1                15669 preB\n",
      "AAACTGCCACACATGT-1                 3296 preB\n",
      "[1] \"exp\"\n",
      "[1] \"rxn3\"\n",
      "[1] \"name\"\n",
      "[1] \"postA\"\n"
     ]
    },
    {
     "name": "stderr",
     "output_type": "stream",
     "text": [
      "\u001b[1m\u001b[1mRows: \u001b[1m\u001b[22m\u001b[34m\u001b[34m2589\u001b[34m\u001b[39m \u001b[1m\u001b[1mColumns: \u001b[1m\u001b[22m\u001b[34m\u001b[34m1\u001b[34m\u001b[39m\n",
      "\n",
      "\u001b[36m──\u001b[39m \u001b[1m\u001b[1mColumn specification\u001b[1m\u001b[22m \u001b[36m────────────────────────────────────────────────────────────────────────────────────────────────────────────────────────────────────────────────────────────────────────────────────────────────────────────────────\u001b[39m\n",
      "\u001b[1mDelimiter:\u001b[22m \"\\t\"\n",
      "\u001b[31mchr\u001b[39m (1): X1\n",
      "\n",
      "\n",
      "\u001b[36mℹ\u001b[39m Use \u001b[30m\u001b[47m\u001b[30m\u001b[47m`spec()`\u001b[47m\u001b[30m\u001b[49m\u001b[39m to retrieve the full column specification for this data.\n",
      "\u001b[36mℹ\u001b[39m Specify the column types or set \u001b[30m\u001b[47m\u001b[30m\u001b[47m`show_col_types = FALSE`\u001b[47m\u001b[30m\u001b[49m\u001b[39m to quiet this message.\n",
      "\n",
      "\u001b[1m\u001b[1mRows: \u001b[1m\u001b[22m\u001b[34m\u001b[34m375350\u001b[34m\u001b[39m \u001b[1m\u001b[1mColumns: \u001b[1m\u001b[22m\u001b[34m\u001b[34m18\u001b[34m\u001b[39m\n",
      "\n",
      "\u001b[36m──\u001b[39m \u001b[1m\u001b[1mColumn specification\u001b[1m\u001b[22m \u001b[36m────────────────────────────────────────────────────────────────────────────────────────────────────────────────────────────────────────────────────────────────────────────────────────────────────────────────────\u001b[39m\n",
      "\u001b[1mDelimiter:\u001b[22m \",\"\n",
      "\u001b[31mchr\u001b[39m  (2): barcode, cell_id\n",
      "\u001b[32mdbl\u001b[39m (16): total, duplicate, chimeric, unmapped, lowmapq, mitochondrial, pass...\n",
      "\n",
      "\n",
      "\u001b[36mℹ\u001b[39m Use \u001b[30m\u001b[47m\u001b[30m\u001b[47m`spec()`\u001b[47m\u001b[30m\u001b[49m\u001b[39m to retrieve the full column specification for this data.\n",
      "\u001b[36mℹ\u001b[39m Specify the column types or set \u001b[30m\u001b[47m\u001b[30m\u001b[47m`show_col_types = FALSE`\u001b[47m\u001b[30m\u001b[49m\u001b[39m to quiet this message.\n",
      "\n"
     ]
    },
    {
     "name": "stdout",
     "output_type": "stream",
     "text": [
      "[1] \"Creating fragments object\"\n"
     ]
    },
    {
     "name": "stderr",
     "output_type": "stream",
     "text": [
      "Computing hash\n",
      "\n"
     ]
    },
    {
     "name": "stdout",
     "output_type": "stream",
     "text": [
      "[1] \"Quantifying peaks\"\n"
     ]
    },
    {
     "name": "stderr",
     "output_type": "stream",
     "text": [
      "Extracting reads overlapping genomic regions\n",
      "\n"
     ]
    },
    {
     "name": "stdout",
     "output_type": "stream",
     "text": [
      "[1] \"Creating chromatin assay\"\n"
     ]
    },
    {
     "name": "stderr",
     "output_type": "stream",
     "text": [
      "Warning message in CreateSeuratObject.Assay(curr_assay, assay = \"ATAC\", project = name, :\n",
      "\"Some cells in meta.data not present in provided counts matrix.\"\n"
     ]
    },
    {
     "name": "stdout",
     "output_type": "stream",
     "text": [
      "                   orig.ident nCount_ATAC nFeature_ATAC total duplicate\n",
      "AAACGAACAGGGTACA-1      postA        4597          3794 44884     32449\n",
      "AAACGAAGTCAACGGA-1      postA         731           655 26552     23667\n",
      "AAACGAAGTCAGACGA-1      postA        3089          2657 51323     39592\n",
      "AAACGAAGTGATAGAT-1      postA         822           769 15254     11179\n",
      "AAACGAATCGAAGCCC-1      postA        1563          1370 19254     14572\n",
      "AAACTCGAGAGAGTTT-1      postA         713           680 17279     14122\n",
      "                   chimeric unmapped lowmapq mitochondrial passed_filters\n",
      "AAACGAACAGGGTACA-1      362      195    1813             0          10065\n",
      "AAACGAAGTCAACGGA-1      311       83     349             0           2142\n",
      "AAACGAAGTCAGACGA-1      490      229    1487             0           9525\n",
      "AAACGAAGTGATAGAT-1      151       93     481             0           3350\n",
      "AAACGAATCGAAGCCC-1      257      106     737             0           3582\n",
      "AAACTCGAGAGAGTTT-1      169       44     491             0           2453\n",
      "                   cell_id is__cell_barcode TSS_fragments\n",
      "AAACGAACAGGGTACA-1 _cell_0                1          4299\n",
      "AAACGAAGTCAACGGA-1 _cell_1                1          1196\n",
      "AAACGAAGTCAGACGA-1 _cell_2                1          3346\n",
      "AAACGAAGTGATAGAT-1 _cell_3                1           945\n",
      "AAACGAATCGAAGCCC-1 _cell_4                1          1553\n",
      "AAACTCGAGAGAGTTT-1 _cell_5                1           970\n",
      "                   DNase_sensitive_region_fragments enhancer_region_fragments\n",
      "AAACGAACAGGGTACA-1                                0                         0\n",
      "AAACGAAGTCAACGGA-1                                0                         0\n",
      "AAACGAAGTCAGACGA-1                                0                         0\n",
      "AAACGAAGTGATAGAT-1                                0                         0\n",
      "AAACGAATCGAAGCCC-1                                0                         0\n",
      "AAACTCGAGAGAGTTT-1                                0                         0\n",
      "                   promoter_region_fragments on_target_fragments\n",
      "AAACGAACAGGGTACA-1                         0                4299\n",
      "AAACGAAGTCAACGGA-1                         0                1196\n",
      "AAACGAAGTCAGACGA-1                         0                3346\n",
      "AAACGAAGTGATAGAT-1                         0                 945\n",
      "AAACGAATCGAAGCCC-1                         0                1553\n",
      "AAACTCGAGAGAGTTT-1                         0                 970\n",
      "                   blacklist_region_fragments peak_region_fragments\n",
      "AAACGAACAGGGTACA-1                          0                  4986\n",
      "AAACGAAGTCAACGGA-1                          0                  1297\n",
      "AAACGAAGTCAGACGA-1                          0                  3840\n",
      "AAACGAAGTGATAGAT-1                          0                  1058\n",
      "AAACGAATCGAAGCCC-1                          0                  1788\n",
      "AAACTCGAGAGAGTTT-1                          0                  1083\n",
      "                   peak_region_cutsites  proj\n",
      "AAACGAACAGGGTACA-1                 9549 postA\n",
      "AAACGAAGTCAACGGA-1                 2530 postA\n",
      "AAACGAAGTCAGACGA-1                 7347 postA\n",
      "AAACGAAGTGATAGAT-1                 2013 postA\n",
      "AAACGAATCGAAGCCC-1                 3445 postA\n",
      "AAACTCGAGAGAGTTT-1                 2088 postA\n",
      "[1] \"exp\"\n",
      "[1] \"rxn4\"\n",
      "[1] \"name\"\n",
      "[1] \"postB\"\n"
     ]
    },
    {
     "name": "stderr",
     "output_type": "stream",
     "text": [
      "\u001b[1m\u001b[1mRows: \u001b[1m\u001b[22m\u001b[34m\u001b[34m2890\u001b[34m\u001b[39m \u001b[1m\u001b[1mColumns: \u001b[1m\u001b[22m\u001b[34m\u001b[34m1\u001b[34m\u001b[39m\n",
      "\n",
      "\u001b[36m──\u001b[39m \u001b[1m\u001b[1mColumn specification\u001b[1m\u001b[22m \u001b[36m────────────────────────────────────────────────────────────────────────────────────────────────────────────────────────────────────────────────────────────────────────────────────────────────────────────────────\u001b[39m\n",
      "\u001b[1mDelimiter:\u001b[22m \"\\t\"\n",
      "\u001b[31mchr\u001b[39m (1): X1\n",
      "\n",
      "\n",
      "\u001b[36mℹ\u001b[39m Use \u001b[30m\u001b[47m\u001b[30m\u001b[47m`spec()`\u001b[47m\u001b[30m\u001b[49m\u001b[39m to retrieve the full column specification for this data.\n",
      "\u001b[36mℹ\u001b[39m Specify the column types or set \u001b[30m\u001b[47m\u001b[30m\u001b[47m`show_col_types = FALSE`\u001b[47m\u001b[30m\u001b[49m\u001b[39m to quiet this message.\n",
      "\n",
      "\u001b[1m\u001b[1mRows: \u001b[1m\u001b[22m\u001b[34m\u001b[34m466091\u001b[34m\u001b[39m \u001b[1m\u001b[1mColumns: \u001b[1m\u001b[22m\u001b[34m\u001b[34m18\u001b[34m\u001b[39m\n",
      "\n",
      "\u001b[36m──\u001b[39m \u001b[1m\u001b[1mColumn specification\u001b[1m\u001b[22m \u001b[36m────────────────────────────────────────────────────────────────────────────────────────────────────────────────────────────────────────────────────────────────────────────────────────────────────────────────────\u001b[39m\n",
      "\u001b[1mDelimiter:\u001b[22m \",\"\n",
      "\u001b[31mchr\u001b[39m  (2): barcode, cell_id\n",
      "\u001b[32mdbl\u001b[39m (16): total, duplicate, chimeric, unmapped, lowmapq, mitochondrial, pass...\n",
      "\n",
      "\n",
      "\u001b[36mℹ\u001b[39m Use \u001b[30m\u001b[47m\u001b[30m\u001b[47m`spec()`\u001b[47m\u001b[30m\u001b[49m\u001b[39m to retrieve the full column specification for this data.\n",
      "\u001b[36mℹ\u001b[39m Specify the column types or set \u001b[30m\u001b[47m\u001b[30m\u001b[47m`show_col_types = FALSE`\u001b[47m\u001b[30m\u001b[49m\u001b[39m to quiet this message.\n",
      "\n"
     ]
    },
    {
     "name": "stdout",
     "output_type": "stream",
     "text": [
      "[1] \"Creating fragments object\"\n"
     ]
    },
    {
     "name": "stderr",
     "output_type": "stream",
     "text": [
      "Computing hash\n",
      "\n"
     ]
    },
    {
     "name": "stdout",
     "output_type": "stream",
     "text": [
      "[1] \"Quantifying peaks\"\n"
     ]
    },
    {
     "name": "stderr",
     "output_type": "stream",
     "text": [
      "Extracting reads overlapping genomic regions\n",
      "\n"
     ]
    },
    {
     "name": "stdout",
     "output_type": "stream",
     "text": [
      "[1] \"Creating chromatin assay\"\n",
      "                   orig.ident nCount_ATAC nFeature_ATAC total duplicate\n",
      "AAACGAAAGAGCAGCT-1      postB        1111          1025 11183      7609\n",
      "AAACGAAAGAGCTACG-1      postB        2765          2384 14727      9299\n",
      "AAACGAAAGTGAACCG-1      postB        1405          1288 10181      5818\n",
      "AAACGAATCATGTTCT-1      postB        1767          1491 57814     21474\n",
      "AAACGAATCGCTTACC-1      postB        1437          1312 11063      6789\n",
      "AAACGAATCGGAGTTT-1      postB        5059          4002 28834     16252\n",
      "                   chimeric unmapped lowmapq mitochondrial passed_filters\n",
      "AAACGAAAGAGCAGCT-1      132       40     527             0           2875\n",
      "AAACGAAAGAGCTACG-1      126       85     600             0           4617\n",
      "AAACGAAAGTGAACCG-1       81       47     634             0           3601\n",
      "AAACGAATCATGTTCT-1      859      206    7868             0          27407\n",
      "AAACGAATCGCTTACC-1      109       50     525             0           3590\n",
      "AAACGAATCGGAGTTT-1      223      160    1409             0          10790\n",
      "                   cell_id is__cell_barcode TSS_fragments\n",
      "AAACGAAAGAGCAGCT-1 _cell_0                1          1246\n",
      "AAACGAAAGAGCTACG-1 _cell_1                1          2532\n",
      "AAACGAAAGTGAACCG-1 _cell_2                1          1414\n",
      "AAACGAATCATGTTCT-1 _cell_3                1          3668\n",
      "AAACGAATCGCTTACC-1 _cell_4                1          1375\n",
      "AAACGAATCGGAGTTT-1 _cell_5                1          4897\n",
      "                   DNase_sensitive_region_fragments enhancer_region_fragments\n",
      "AAACGAAAGAGCAGCT-1                                0                         0\n",
      "AAACGAAAGAGCTACG-1                                0                         0\n",
      "AAACGAAAGTGAACCG-1                                0                         0\n",
      "AAACGAATCATGTTCT-1                                0                         0\n",
      "AAACGAATCGCTTACC-1                                0                         0\n",
      "AAACGAATCGGAGTTT-1                                0                         0\n",
      "                   promoter_region_fragments on_target_fragments\n",
      "AAACGAAAGAGCAGCT-1                         0                1246\n",
      "AAACGAAAGAGCTACG-1                         0                2532\n",
      "AAACGAAAGTGAACCG-1                         0                1414\n",
      "AAACGAATCATGTTCT-1                         0                3668\n",
      "AAACGAATCGCTTACC-1                         0                1375\n",
      "AAACGAATCGGAGTTT-1                         0                4897\n",
      "                   blacklist_region_fragments peak_region_fragments\n",
      "AAACGAAAGAGCAGCT-1                          0                  1408\n",
      "AAACGAAAGAGCTACG-1                          0                  2821\n",
      "AAACGAAAGTGAACCG-1                          0                  1554\n",
      "AAACGAATCATGTTCT-1                          0                  1871\n",
      "AAACGAATCGCTTACC-1                          0                  1548\n",
      "AAACGAATCGGAGTTT-1                          0                  5047\n",
      "                   peak_region_cutsites  proj\n",
      "AAACGAAAGAGCAGCT-1                 2729 postB\n",
      "AAACGAAAGAGCTACG-1                 5451 postB\n",
      "AAACGAAAGTGAACCG-1                 2970 postB\n",
      "AAACGAATCATGTTCT-1                 3593 postB\n",
      "AAACGAATCGCTTACC-1                 2961 postB\n",
      "AAACGAATCGGAGTTT-1                 9745 postB\n"
     ]
    },
    {
     "data": {
      "text/plain": [
       "[[1]]\n",
       "An object of class Seurat \n",
       "4759 features across 198 samples within 1 assay \n",
       "Active assay: ATAC (4759 features, 0 variable features)\n",
       "\n",
       "[[2]]\n",
       "An object of class Seurat \n",
       "42425 features across 1354 samples within 1 assay \n",
       "Active assay: ATAC (42425 features, 0 variable features)\n",
       "\n",
       "[[3]]\n",
       "An object of class Seurat \n",
       "43702 features across 2585 samples within 1 assay \n",
       "Active assay: ATAC (43702 features, 0 variable features)\n",
       "\n",
       "[[4]]\n",
       "An object of class Seurat \n",
       "45516 features across 2890 samples within 1 assay \n",
       "Active assay: ATAC (45516 features, 0 variable features)\n"
      ]
     },
     "metadata": {},
     "output_type": "display_data"
    }
   ],
   "source": [
    "# create_frag <- function(exp, cellr_in){\n",
    "#     barcode_path <- file.path(cellr_in, exp, \"outs\", \"filtered_peak_bc_matrix\", \"barcodes.tsv\")    \n",
    "#     barcodes <- readr::read_tsv(barcode_path, col_names = F) # %>% tidyr::unite(barcode)\n",
    "#     frag_file <- file.path(cellr_in, exp, \"outs\", \"fragments.tsv.gz\")\n",
    "#     # quantify multiome peaks in the scATAC-seq dataset\n",
    "#     frags.curr <- CreateFragmentObject(path = frag_file,cells= barcodes[[\"X1\"]])\n",
    "#     barcodes <- as.data.frame(barcodes) %>%  tibble::column_to_rownames(var=\"X1\") %>% tibble::add_column(proj=exp)\n",
    "#     ## Quantify peaks\n",
    "#     curr.counts <- FeatureMatrix(\n",
    "#       fragments = frags.curr,\n",
    "#       features = combined.peaks,\n",
    "#       cells = rownames(barcodes),\n",
    "#       process_n = 8\n",
    "#     )\n",
    "    \n",
    "#     ## Create the objects\n",
    "#     curr_assay <- CreateChromatinAssay(curr.counts, fragments = frags.curr)\n",
    "#     curr <- CreateSeuratObject(curr_assay, assay = \"ATAC\", project=exp, meta.data=barcodes)\n",
    "#     curr <- BinarizeCounts(curr)\n",
    "#     return(curr)\n",
    "# }\n",
    "allSE = c()#[]\n",
    "\n",
    "samples_df <- cbind(sample_names, samples)\n",
    "for (row in 1:nrow(samples_df)){\n",
    "    exp <- (samples_df[[row, \"samples\"]])\n",
    "    name <- (samples_df[[row, \"sample_names\"]]) \n",
    "    \n",
    "#for (exp in samples) {\n",
    "    print('exp')\n",
    "    print(exp)\n",
    "    print('name')\n",
    "    print(name)\n",
    "    barcode_path <- file.path(cellr_in, exp, \"outs\", \"filtered_peak_bc_matrix\", \"barcodes.tsv\")    \n",
    "    barcodes <- readr::read_tsv(barcode_path, col_names = F) # %>% tidyr::unite(barcode)\n",
    "    barcodes <- as.data.frame(barcodes) %>%  tibble::column_to_rownames(var=\"X1\") %>% tibble::add_column(proj=name)\n",
    "    frag_file <- file.path(cellr_in, exp, \"outs\", \"fragments.tsv.gz\")\n",
    "    \n",
    "    cells.meta.f <- file.path(cellr_in, exp, \"outs\", \"singlecell.csv\") \n",
    "    cells.meta <- as.data.frame(readr::read_csv(cells.meta.f)) %>% tibble::column_to_rownames(var=\"barcode\") %>% tibble::add_column(proj=name)\n",
    "    cells.meta <- cells.meta[rownames(cells.meta) %in% rownames(barcodes), ]\n",
    "\n",
    "    # quantify multiome peaks in the scATAC-seq dataset\n",
    "    \n",
    "    \n",
    "    print(\"Creating fragments object\")\n",
    "    frags.curr <- CreateFragmentObject(path = frag_file, cells= rownames(barcodes))\n",
    "    #print(frags.curr)\n",
    "    print(\"Quantifying peaks\")\n",
    "    ## Quantify peaks\n",
    "    curr.counts <- FeatureMatrix(\n",
    "      fragments = frags.curr,\n",
    "      features = combined.peaks,\n",
    "      cells = rownames(barcodes),\n",
    "      process_n = cores\n",
    "    )\n",
    "    \n",
    "    print(\"Creating chromatin assay\")\n",
    "    ## Create the objects and use simple filters\n",
    "    curr_assay <- CreateChromatinAssay(curr.counts, fragments = frags.curr, min.cells = 10, min.features = 200)\n",
    "    curr <- CreateSeuratObject(curr_assay, assay = \"ATAC\", project=name, meta.data=cells.meta)\n",
    "    \n",
    "    print(head(curr[[]]))\n",
    "    allSE = c(allSE, curr)\n",
    "    #return(curr)\n",
    "}\n",
    "\n",
    "allSE\n",
    "\n",
    "#allSE <- sapply(samples, create_frag, cellr_in=cellr_in)"
   ]
  },
  {
   "cell_type": "code",
   "execution_count": 8,
   "id": "8074326b",
   "metadata": {},
   "outputs": [
    {
     "name": "stderr",
     "output_type": "stream",
     "text": [
      "Extracting reads overlapping genomic regions\n",
      "\n"
     ]
    }
   ],
   "source": [
    "curr.counts <- FeatureMatrix(\n",
    "  fragments = frags.curr,\n",
    "  features = combined.peaks,\n",
    "  cells = rownames(barcodes),\n",
    "  process_n = cores\n",
    ")"
   ]
  },
  {
   "cell_type": "markdown",
   "id": "8857dd9d",
   "metadata": {},
   "source": [
    "## Merge"
   ]
  },
  {
   "cell_type": "code",
   "execution_count": 9,
   "id": "fd280d61",
   "metadata": {},
   "outputs": [
    {
     "ename": "ERROR",
     "evalue": "Error in all.counts[[2:length(x = all.counts)]]: recursive indexing failed at level 2\n\n",
     "output_type": "error",
     "traceback": [
      "Error in all.counts[[2:length(x = all.counts)]]: recursive indexing failed at level 2\n\nTraceback:\n",
      "1. merge(x = allSE[[1]], y = unlist(allSE[2:length(allSE)], use.names = FALSE), \n .     add.cell.ids = sample_names)",
      "2. merge(x = allSE[[1]], y = unlist(allSE[2:length(allSE)], use.names = FALSE), \n .     add.cell.ids = sample_names)",
      "3. merge.Seurat(x = allSE[[1]], y = unlist(allSE[2:length(allSE)], \n .     use.names = FALSE), add.cell.ids = sample_names)",
      "4. merge(x = assays.merge[[1]], y = assays.merge[2:length(x = assays.merge)], \n .     merge.data = merge.data)",
      "5. merge.ChromatinAssay(x = assays.merge[[1]], y = assays.merge[2:length(x = assays.merge)], \n .     merge.data = merge.data)",
      "6. RowMergeSparseMatrices(mat1 = all.counts[[1]], mat2 = all.counts[[2:length(x = all.counts)]])"
     ]
    }
   ],
   "source": [
    "# merge all datasets, adding a cell ID to make sure cell names are unique\n",
    "combined <- merge(\n",
    "  x = allSE[[1]],\n",
    "  y = unlist(allSE[2:length(allSE)],use.names=FALSE), #allSE[2:length(allSE)],\n",
    "  add.cell.ids = sample_names\n",
    ")\n",
    "combined[[\"ATAC\"]]\n",
    "\n"
   ]
  },
  {
   "cell_type": "code",
   "execution_count": null,
   "id": "4b125078",
   "metadata": {
    "scrolled": true
   },
   "outputs": [],
   "source": [
    "combined <- FindTopFeatures(combined, min.cutoff = 20)\n",
    "combined"
   ]
  },
  {
   "cell_type": "markdown",
   "id": "c0f15aa7",
   "metadata": {},
   "source": [
    "### Plot metadata passed_filters, nCount_ATAC, and duplicates"
   ]
  },
  {
   "cell_type": "code",
   "execution_count": null,
   "id": "a52b06b5",
   "metadata": {},
   "outputs": [],
   "source": [
    "combined$orig.ident <- factor(combined$orig.ident, levels = sample_names)\n",
    "\n",
    "VlnPlot(\n",
    "  object = combined,\n",
    "  features = c('nCount_ATAC', 'peak_region_fragments', 'passed_filters',\n",
    "               'duplicate', 'unmapped'),\n",
    "  split.by = \"orig.ident\",\n",
    "  pt.size = 0.1,\n",
    "  ncol = 3\n",
    ")"
   ]
  },
  {
   "cell_type": "code",
   "execution_count": null,
   "id": "69e1c26c",
   "metadata": {
    "scrolled": true
   },
   "outputs": [],
   "source": [
    "# Binarize and run LSI\n",
    "combined <- BinarizeCounts(combined)\n",
    "combined <- RunTFIDF(combined)\n",
    "combined <- RunSVD(combined)\n",
    "combined <- RunUMAP(combined, dims = 2:50, reduction = 'lsi')\n",
    "DimPlot(combined, group.by = \"proj\", pt.size = 0.1)"
   ]
  },
  {
   "cell_type": "code",
   "execution_count": null,
   "id": "79f6ba53",
   "metadata": {
    "scrolled": true
   },
   "outputs": [],
   "source": [
    "pDepthCorr <- DepthCor(combined)\n",
    "pDepthCorr"
   ]
  },
  {
   "cell_type": "code",
   "execution_count": null,
   "id": "be2e0719",
   "metadata": {},
   "outputs": [],
   "source": [
    "saveRDS(combined, file.path(outdir, paste0(\"allSamples.merged.rds\")))"
   ]
  },
  {
   "cell_type": "code",
   "execution_count": null,
   "id": "34ea5c1b",
   "metadata": {},
   "outputs": [],
   "source": []
  },
  {
   "cell_type": "code",
   "execution_count": null,
   "id": "1f6da036",
   "metadata": {},
   "outputs": [],
   "source": []
  },
  {
   "cell_type": "markdown",
   "id": "77338460",
   "metadata": {},
   "source": [
    "## Integrate datasets\n",
    "### Uses https://satijalab.org/signac/articles/integrate_atac.html"
   ]
  },
  {
   "cell_type": "code",
   "execution_count": null,
   "id": "b6a43717",
   "metadata": {},
   "outputs": [],
   "source": [
    "p1 <- DimPlot(combined, group.by = \"proj\")"
   ]
  },
  {
   "cell_type": "markdown",
   "id": "4ce38a3c",
   "metadata": {},
   "source": [
    "## First break them up again by subsetting, then integrating"
   ]
  },
  {
   "cell_type": "code",
   "execution_count": null,
   "id": "6ac4163e",
   "metadata": {
    "scrolled": true
   },
   "outputs": [],
   "source": [
    "# ext <- subset(x = combined, subset = orig.ident == samples[1])\n",
    "# curr <- subset(x = combined, subset = orig.ident == samples[2])\n",
    "\n",
    "allSE <- lapply(sample_names,  function(x) subset(combined, subset = orig.ident == x))\n",
    "allSE"
   ]
  },
  {
   "cell_type": "code",
   "execution_count": null,
   "id": "43ad596e",
   "metadata": {
    "scrolled": true
   },
   "outputs": [],
   "source": [
    "# find integration anchors\n",
    "integration.anchors <- FindIntegrationAnchors(\n",
    "  object.list = allSE, #c(ext,curr),\n",
    "  anchor.features = allSE[[1]], #rownames(ext),\n",
    "  reduction = \"rlsi\",\n",
    "  dims = 2:30\n",
    ")\n",
    "\n",
    "# integrate LSI embeddings\n",
    "integrated <- IntegrateEmbeddings(\n",
    "  anchorset = integration.anchors,\n",
    "  reductions = combined[[\"lsi\"]],\n",
    "  new.reduction.name = \"integrated_lsi\",\n",
    "  dims.to.integrate = 1:30\n",
    ")\n",
    "\n"
   ]
  },
  {
   "cell_type": "code",
   "execution_count": null,
   "id": "4b06e71e",
   "metadata": {
    "scrolled": true
   },
   "outputs": [],
   "source": [
    "# create a new UMAP using the integrated embeddings\n",
    "integrated <- RunUMAP(integrated, reduction = \"integrated_lsi\", dims = 2:30)\n",
    "p2 <- DimPlot(integrated, group.by = \"proj\")"
   ]
  },
  {
   "cell_type": "code",
   "execution_count": null,
   "id": "f9f6912f",
   "metadata": {
    "scrolled": true
   },
   "outputs": [],
   "source": [
    "pclust <- DimPlot(object = integrated, label = TRUE) + NoLegend()\n",
    "\n",
    "(p1 + ggtitle(\"Merged\")) | (p2 + ggtitle(\"Integrated\"))\n",
    "ggsave(file.path(outdir,\"integrated.merged.compare.png\"))"
   ]
  },
  {
   "cell_type": "code",
   "execution_count": null,
   "id": "893671b3",
   "metadata": {},
   "outputs": [],
   "source": [
    "p2\n",
    "ggsave(file.path(outdir,\"integrated.batch.png\"))"
   ]
  },
  {
   "cell_type": "code",
   "execution_count": null,
   "id": "58a25cbb",
   "metadata": {},
   "outputs": [],
   "source": [
    "pDepthCorr <- DepthCor(integrated, reduction='integrated_lsi')\n",
    "pDepthCorr"
   ]
  },
  {
   "cell_type": "markdown",
   "id": "604d3235",
   "metadata": {},
   "source": [
    "## Plot new cluster results"
   ]
  },
  {
   "cell_type": "code",
   "execution_count": null,
   "id": "2c05ac1c",
   "metadata": {
    "scrolled": true
   },
   "outputs": [],
   "source": [
    "#integrated <- RunUMAP(object = integrated, reduction = 'integrated_lsi', dims = 2:30)\n",
    "integrated <- FindNeighbors(object = integrated, reduction = 'integrated_lsi', dims = 2:30)\n",
    "integrated <- FindClusters(object = integrated, verbose = FALSE, algorithm = 3)\n"
   ]
  },
  {
   "cell_type": "code",
   "execution_count": null,
   "id": "d20705e3",
   "metadata": {
    "scrolled": true
   },
   "outputs": [],
   "source": [
    "pclust <- DimPlot(object = integrated, label = TRUE) + NoLegend()\n",
    "ggsave(file.path(outdir, \"integrated.lsi.clusters.png\"), pclust)\n",
    "pclust"
   ]
  },
  {
   "cell_type": "code",
   "execution_count": null,
   "id": "5c02d3c5",
   "metadata": {},
   "outputs": [],
   "source": [
    "## ATAC DE peaks\n",
    "\n",
    "# # change back to working with peaks instead of gene activities\n",
    "# DefaultAssay(integrated) <- 'ATAC'\n",
    "\n",
    "# da_peaks <- FindMarkers(\n",
    "#   object = integrated,\n",
    "#   ident.1 = 9, #\"CD4 Naive\",\n",
    "#   min.pct = 0.05,\n",
    "#   test.use = 'LR',\n",
    "#   #latent.vars = 'peak_region_fragments'\n",
    "# )\n",
    "\n",
    "\n",
    "# plot1 <- VlnPlot(\n",
    "#   object = integrated,\n",
    "#   features = rownames(da_peaks)[1],\n",
    "#   pt.size = 0.1,\n",
    "#   idents = c(1,9)\n",
    "# )\n",
    "# plot2 <- FeaturePlot(\n",
    "#   object = integrated,\n",
    "#   features = rownames(da_peaks)[1],\n",
    "#   pt.size = 0.1\n",
    "# )\n",
    "\n",
    "# plot1 | plot2\n"
   ]
  },
  {
   "cell_type": "markdown",
   "id": "2ea79a37",
   "metadata": {},
   "source": [
    "## Get gene activity results and run DE results for RNA"
   ]
  },
  {
   "cell_type": "code",
   "execution_count": null,
   "id": "8a8458cc",
   "metadata": {
    "scrolled": true
   },
   "outputs": [],
   "source": [
    "# extract gene annotations from EnsDb\n",
    "annotations <- GetGRangesFromEnsDb(ensdb = EnsDb.Hsapiens.v75)\n",
    "\n",
    "# change to UCSC style since the data was mapped to hg19\n",
    "seqlevelsStyle(annotations) <- 'UCSC'\n",
    "genome(annotations) <- \"hg38\"\n",
    "\n",
    "# add the gene information to the object\n",
    "Annotation(integrated) <- annotations\n",
    "\n",
    "\n",
    "gene.activities <- GeneActivity(integrated)\n"
   ]
  },
  {
   "cell_type": "code",
   "execution_count": null,
   "id": "ea3b5ddc",
   "metadata": {
    "scrolled": true
   },
   "outputs": [],
   "source": [
    "# add the gene activity matrix to the Seurat object as a new assay and normalize it\n",
    "integrated[['RNA']] <- CreateAssayObject(counts = gene.activities)\n",
    "integrated <- NormalizeData(\n",
    "  object = integrated,\n",
    "  assay = 'RNA',\n",
    "  normalization.method = 'LogNormalize',\n",
    "  scale.factor = median(integrated$nCount_RNA)\n",
    ")"
   ]
  },
  {
   "cell_type": "code",
   "execution_count": null,
   "id": "c0918487",
   "metadata": {},
   "outputs": [],
   "source": [
    "DefaultAssay(integrated) <- 'RNA'"
   ]
  },
  {
   "cell_type": "code",
   "execution_count": null,
   "id": "d7634f92",
   "metadata": {},
   "outputs": [],
   "source": [
    "saveRDS(integrated, file.path(outdir, paste0(\"allSamples.integrated.rds\")))"
   ]
  },
  {
   "cell_type": "code",
   "execution_count": null,
   "id": "626a0538",
   "metadata": {},
   "outputs": [],
   "source": [
    "sessionInfo()"
   ]
  },
  {
   "cell_type": "code",
   "execution_count": null,
   "id": "cb0cc51b",
   "metadata": {},
   "outputs": [],
   "source": []
  }
 ],
 "metadata": {
  "celltoolbar": "Tags",
  "kernelspec": {
   "display_name": "R",
   "language": "R",
   "name": "ir"
  },
  "language_info": {
   "codemirror_mode": "r",
   "file_extension": ".r",
   "mimetype": "text/x-r-source",
   "name": "R",
   "pygments_lexer": "r",
   "version": "4.1.1"
  }
 },
 "nbformat": 4,
 "nbformat_minor": 5
}
