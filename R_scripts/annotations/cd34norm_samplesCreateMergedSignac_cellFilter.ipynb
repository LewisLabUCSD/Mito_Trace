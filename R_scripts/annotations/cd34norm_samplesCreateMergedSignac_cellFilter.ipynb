{
 "cells": [
  {
   "cell_type": "markdown",
   "id": "223d6f46",
   "metadata": {},
   "source": [
    "## Creates binarized Seurat objects, integrates conditions and annotates genes by nearby peaks"
   ]
  },
  {
   "cell_type": "code",
   "execution_count": 1,
   "id": "663e2d4d",
   "metadata": {
    "tags": [
     "parameters"
    ]
   },
   "outputs": [],
   "source": [
    "# Input info\n",
    "cellr_in = \"/data2/isshamie/mito_lineage/data/processed/mtscATAC/jan21_2021/MTblacklist/\" \n",
    "outdir =  \"/data2/mito_lineage/output/annotation/data/jan21_2021/MTblacklist/mergedSamples_cellFilter\" \n",
    "sample_names = \"Control,Flt3l\"\n",
    "samples = \"P2,J2\"\n",
    "\n",
    "lsi_start_comp = 2\n",
    "\n",
    "# Parameters\n",
    "nTop = 25000\n",
    "cores = 24"
   ]
  },
  {
   "cell_type": "code",
   "execution_count": 2,
   "id": "b62b75ff",
   "metadata": {},
   "outputs": [],
   "source": [
    "library(repr)\n",
    "options(repr.plot.width=12, repr.plot.height=12)"
   ]
  },
  {
   "cell_type": "code",
   "execution_count": 3,
   "id": "c2c99fc4",
   "metadata": {
    "scrolled": true
   },
   "outputs": [
    {
     "data": {
      "text/html": [
       "<style>\n",
       ".list-inline {list-style: none; margin:0; padding: 0}\n",
       ".list-inline>li {display: inline-block}\n",
       ".list-inline>li:not(:last-child)::after {content: \"\\00b7\"; padding: 0 .5ex}\n",
       "</style>\n",
       "<ol class=list-inline><li>'P2'</li><li>'J2'</li></ol>\n"
      ],
      "text/latex": [
       "\\begin{enumerate*}\n",
       "\\item 'P2'\n",
       "\\item 'J2'\n",
       "\\end{enumerate*}\n"
      ],
      "text/markdown": [
       "1. 'P2'\n",
       "2. 'J2'\n",
       "\n",
       "\n"
      ],
      "text/plain": [
       "[1] \"P2\" \"J2\""
      ]
     },
     "metadata": {},
     "output_type": "display_data"
    }
   ],
   "source": [
    "samples <- unlist(strsplit(samples, \",\")[[1]])\n",
    "sample_names <- unlist(strsplit(sample_names, \",\"))\n",
    "\n",
    "samples"
   ]
  },
  {
   "cell_type": "code",
   "execution_count": 4,
   "id": "aad4f638",
   "metadata": {
    "scrolled": true
   },
   "outputs": [
    {
     "name": "stderr",
     "output_type": "stream",
     "text": [
      "Loading required package: stats4\n",
      "\n",
      "Loading required package: BiocGenerics\n",
      "\n",
      "Loading required package: parallel\n",
      "\n",
      "\n",
      "Attaching package: ‘BiocGenerics’\n",
      "\n",
      "\n",
      "The following objects are masked from ‘package:parallel’:\n",
      "\n",
      "    clusterApply, clusterApplyLB, clusterCall, clusterEvalQ,\n",
      "    clusterExport, clusterMap, parApply, parCapply, parLapply,\n",
      "    parLapplyLB, parRapply, parSapply, parSapplyLB\n",
      "\n",
      "\n",
      "The following objects are masked from ‘package:stats’:\n",
      "\n",
      "    IQR, mad, sd, var, xtabs\n",
      "\n",
      "\n",
      "The following objects are masked from ‘package:base’:\n",
      "\n",
      "    anyDuplicated, append, as.data.frame, basename, cbind, colnames,\n",
      "    dirname, do.call, duplicated, eval, evalq, Filter, Find, get, grep,\n",
      "    grepl, intersect, is.unsorted, lapply, Map, mapply, match, mget,\n",
      "    order, paste, pmax, pmax.int, pmin, pmin.int, Position, rank,\n",
      "    rbind, Reduce, rownames, sapply, setdiff, sort, table, tapply,\n",
      "    union, unique, unsplit, which.max, which.min\n",
      "\n",
      "\n",
      "Loading required package: S4Vectors\n",
      "\n",
      "\n",
      "Attaching package: ‘S4Vectors’\n",
      "\n",
      "\n",
      "The following objects are masked from ‘package:base’:\n",
      "\n",
      "    expand.grid, I, unname\n",
      "\n",
      "\n",
      "Loading required package: IRanges\n",
      "\n",
      "Loading required package: GenomeInfoDb\n",
      "\n",
      "Attaching SeuratObject\n",
      "\n",
      "Loading required package: ensembldb\n",
      "\n",
      "Loading required package: GenomicFeatures\n",
      "\n",
      "Loading required package: AnnotationDbi\n",
      "\n",
      "Loading required package: Biobase\n",
      "\n",
      "Welcome to Bioconductor\n",
      "\n",
      "    Vignettes contain introductory material; view with\n",
      "    'browseVignettes()'. To cite Bioconductor, see\n",
      "    'citation(\"Biobase\")', and for packages 'citation(\"pkgname\")'.\n",
      "\n",
      "\n",
      "Loading required package: AnnotationFilter\n",
      "\n",
      "\n",
      "Attaching package: 'ensembldb'\n",
      "\n",
      "\n",
      "The following object is masked from 'package:stats':\n",
      "\n",
      "    filter\n",
      "\n",
      "\n",
      "\n",
      "Attaching package: 'data.table'\n",
      "\n",
      "\n",
      "The following object is masked from 'package:GenomicRanges':\n",
      "\n",
      "    shift\n",
      "\n",
      "\n",
      "The following object is masked from 'package:IRanges':\n",
      "\n",
      "    shift\n",
      "\n",
      "\n",
      "The following objects are masked from 'package:S4Vectors':\n",
      "\n",
      "    first, second\n",
      "\n",
      "\n",
      "\n",
      "Attaching package: 'magrittr'\n",
      "\n",
      "\n",
      "The following object is masked from 'package:AnnotationFilter':\n",
      "\n",
      "    not\n",
      "\n",
      "\n",
      "\n",
      "Attaching package: 'cowplot'\n",
      "\n",
      "\n",
      "The following object is masked from 'package:patchwork':\n",
      "\n",
      "    align_plots\n",
      "\n",
      "\n",
      "\n",
      "Attaching package: 'dplyr'\n",
      "\n",
      "\n",
      "The following objects are masked from 'package:data.table':\n",
      "\n",
      "    between, first, last\n",
      "\n",
      "\n",
      "The following objects are masked from 'package:ensembldb':\n",
      "\n",
      "    filter, select\n",
      "\n",
      "\n",
      "The following object is masked from 'package:AnnotationDbi':\n",
      "\n",
      "    select\n",
      "\n",
      "\n",
      "The following object is masked from 'package:Biobase':\n",
      "\n",
      "    combine\n",
      "\n",
      "\n",
      "The following objects are masked from 'package:GenomicRanges':\n",
      "\n",
      "    intersect, setdiff, union\n",
      "\n",
      "\n",
      "The following object is masked from 'package:GenomeInfoDb':\n",
      "\n",
      "    intersect\n",
      "\n",
      "\n",
      "The following objects are masked from 'package:IRanges':\n",
      "\n",
      "    collapse, desc, intersect, setdiff, slice, union\n",
      "\n",
      "\n",
      "The following objects are masked from 'package:S4Vectors':\n",
      "\n",
      "    first, intersect, rename, setdiff, setequal, union\n",
      "\n",
      "\n",
      "The following objects are masked from 'package:BiocGenerics':\n",
      "\n",
      "    combine, intersect, setdiff, union\n",
      "\n",
      "\n",
      "The following objects are masked from 'package:stats':\n",
      "\n",
      "    filter, lag\n",
      "\n",
      "\n",
      "The following objects are masked from 'package:base':\n",
      "\n",
      "    intersect, setdiff, setequal, union\n",
      "\n",
      "\n",
      "\n",
      "Attaching package: 'future'\n",
      "\n",
      "\n",
      "The following object is masked from 'package:AnnotationFilter':\n",
      "\n",
      "    value\n",
      "\n",
      "\n",
      "The following object is masked from 'package:GenomicRanges':\n",
      "\n",
      "    values\n",
      "\n",
      "\n",
      "The following object is masked from 'package:IRanges':\n",
      "\n",
      "    values\n",
      "\n",
      "\n",
      "The following object is masked from 'package:S4Vectors':\n",
      "\n",
      "    values\n",
      "\n",
      "\n",
      "Warning message:\n",
      "\"Strategy 'multiprocess' is deprecated in future (>= 1.20.0). Instead, explicitly specify either 'multisession' or 'multicore'. In the current R session, 'multiprocess' equals 'multicore'.\"\n"
     ]
    }
   ],
   "source": [
    "library(GenomicRanges)\n",
    "library(Seurat)\n",
    "library(Signac)\n",
    "library(GenomeInfoDb)\n",
    "library(EnsDb.Hsapiens.v75)\n",
    "library(ggplot2)\n",
    "library(patchwork)\n",
    "set.seed(1234)\n",
    "library(data.table)\n",
    "library(magrittr)\n",
    "library(cowplot)\n",
    "library(metap)\n",
    "library(dplyr)\n",
    "library(future)\n",
    "\n",
    "plan(\"multiprocess\", workers = cores)\n",
    "options(future.globals.maxSize = 8000 * 1024^2)\n",
    "#options(future.globals.maxSize = 50000 * 1024^2) # for 50 Gb RAM\n",
    "#plan(\"multiprocess\", workers = workers)\n",
    "\n",
    "library(GenomeInfoDb)\n",
    "library(EnsDb.Hsapiens.v75)\n"
   ]
  },
  {
   "cell_type": "code",
   "execution_count": 5,
   "id": "9572bb02",
   "metadata": {},
   "outputs": [
    {
     "name": "stderr",
     "output_type": "stream",
     "text": [
      "Updating HTML index of packages in '.Library'\n",
      "\n",
      "Making 'packages.html' ...\n",
      " done\n",
      "\n"
     ]
    }
   ],
   "source": [
    "install.packages(\"patchwork\")                 # Install & load patchwork package\n",
    "library(\"patchwork\")"
   ]
  },
  {
   "cell_type": "markdown",
   "id": "a53a3256",
   "metadata": {},
   "source": [
    "## Merge all peaks"
   ]
  },
  {
   "cell_type": "code",
   "execution_count": 6,
   "id": "62849b8a",
   "metadata": {
    "scrolled": true
   },
   "outputs": [
    {
     "name": "stdout",
     "output_type": "stream",
     "text": [
      "[1] \"here\"\n",
      "[1] \"/data2/isshamie/mito_lineage/data/processed/mtscATAC/jan21_2021/MTblacklist//P2/outs/filtered_peak_bc_matrix/peaks.bed\"\n",
      "[1] \"here\"\n",
      "[1] \"/data2/isshamie/mito_lineage/data/processed/mtscATAC/jan21_2021/MTblacklist//J2/outs/filtered_peak_bc_matrix/peaks.bed\"\n"
     ]
    },
    {
     "data": {
      "text/plain": [
       "GRanges object with 149551 ranges and 0 metadata columns:\n",
       "           seqnames            ranges strand\n",
       "              <Rle>         <IRanges>  <Rle>\n",
       "       [1]     chr1        9942-10364      *\n",
       "       [2]     chr1     191685-191736      *\n",
       "       [3]     chr1     267780-268257      *\n",
       "       [4]     chr1     271072-271548      *\n",
       "       [5]     chr1     585995-586411      *\n",
       "       ...      ...               ...    ...\n",
       "  [149547]     chrY 56844769-56845155      *\n",
       "  [149548]     chrY 56846033-56848664      *\n",
       "  [149549]     chrY 56849234-56851581      *\n",
       "  [149550]     chrY 56857506-56857613      *\n",
       "  [149551]     chrY 56873729-56874140      *\n",
       "  -------\n",
       "  seqinfo: 24 sequences from an unspecified genome; no seqlengths"
      ]
     },
     "metadata": {},
     "output_type": "display_data"
    }
   ],
   "source": [
    "read.peaks <- function(exp, cellr_in){\n",
    "    print('here')\n",
    "    print(file.path(cellr_in, exp, \"outs\", \"filtered_peak_bc_matrix\", \"peaks.bed\"))\n",
    "    peaks <- read.table(\n",
    "      file = file.path(cellr_in, exp, \"outs\", \"filtered_peak_bc_matrix\", \"peaks.bed\"),\n",
    "      col.names = c(\"chr\", \"start\", \"end\")\n",
    "    )\n",
    "    # convert to genomic ranges\n",
    "    gr <- makeGRangesFromDataFrame(peaks)\n",
    "    return(gr)\n",
    "}\n",
    "\n",
    "\n",
    "gr.full <- c(sapply(samples, read.peaks, cellr_in=cellr_in, USE.NAMES=F))\n",
    "\n",
    "gr.full.c <- gr.full[[1]]\n",
    "if (length(gr.full)>1){\n",
    "    for (i in 2:length(gr.full)){\n",
    "      gr.full.c <- c(gr.full.c, gr.full[[i]])\n",
    "    }\n",
    "}\n",
    "combined.peaks <- reduce(x = c(gr.full.c))\n",
    "\n",
    "# Filter out bad peaks based on length\n",
    "peakwidths <- width(combined.peaks)\n",
    "combined.peaks <- combined.peaks[peakwidths  < 10000 & peakwidths > 20]\n",
    "combined.peaks"
   ]
  },
  {
   "cell_type": "markdown",
   "id": "1cae010c",
   "metadata": {},
   "source": [
    "## Create fragment objects"
   ]
  },
  {
   "cell_type": "code",
   "execution_count": null,
   "id": "67e92e33",
   "metadata": {
    "scrolled": true
   },
   "outputs": [
    {
     "name": "stdout",
     "output_type": "stream",
     "text": [
      "[1] \"samples_df\"\n",
      "     sample_names samples\n",
      "[1,] \"Control\"    \"P2\"   \n",
      "[2,] \"Flt3l\"      \"J2\"   \n",
      "[1] \"exp\"\n",
      "[1] \"P2\"\n",
      "[1] \"name\"\n",
      "[1] \"Control\"\n"
     ]
    },
    {
     "name": "stderr",
     "output_type": "stream",
     "text": [
      "Registered S3 method overwritten by 'cli':\n",
      "  method     from         \n",
      "  print.boxx spatstat.geom\n",
      "\u001b[1m\u001b[1mRows: \u001b[1m\u001b[22m\u001b[34m\u001b[34m6875\u001b[34m\u001b[39m \u001b[1m\u001b[1mColumns: \u001b[1m\u001b[22m\u001b[34m\u001b[34m1\u001b[34m\u001b[39m\n",
      "\n",
      "\u001b[36m──\u001b[39m \u001b[1m\u001b[1mColumn specification\u001b[1m\u001b[22m \u001b[36m─────────────────────────────────────────────────────────────────────────────────────────────────────────────\u001b[39m\n",
      "\u001b[1mDelimiter:\u001b[22m \"\\t\"\n",
      "\u001b[31mchr\u001b[39m (1): X1\n",
      "\n",
      "\n",
      "\u001b[36mℹ\u001b[39m Use \u001b[30m\u001b[47m\u001b[30m\u001b[47m`spec()`\u001b[47m\u001b[30m\u001b[49m\u001b[39m to retrieve the full column specification for this data.\n",
      "\u001b[36mℹ\u001b[39m Specify the column types or set \u001b[30m\u001b[47m\u001b[30m\u001b[47m`show_col_types = FALSE`\u001b[47m\u001b[30m\u001b[49m\u001b[39m to quiet this message.\n",
      "\n",
      "\u001b[1m\u001b[1mRows: \u001b[1m\u001b[22m\u001b[34m\u001b[34m332219\u001b[34m\u001b[39m \u001b[1m\u001b[1mColumns: \u001b[1m\u001b[22m\u001b[34m\u001b[34m18\u001b[34m\u001b[39m\n",
      "\n",
      "\u001b[36m──\u001b[39m \u001b[1m\u001b[1mColumn specification\u001b[1m\u001b[22m \u001b[36m─────────────────────────────────────────────────────────────────────────────────────────────────────────────\u001b[39m\n",
      "\u001b[1mDelimiter:\u001b[22m \",\"\n",
      "\u001b[31mchr\u001b[39m  (2): barcode, cell_id\n",
      "\u001b[32mdbl\u001b[39m (16): total, duplicate, chimeric, unmapped, lowmapq, mitochondrial, pass...\n",
      "\n",
      "\n",
      "\u001b[36mℹ\u001b[39m Use \u001b[30m\u001b[47m\u001b[30m\u001b[47m`spec()`\u001b[47m\u001b[30m\u001b[49m\u001b[39m to retrieve the full column specification for this data.\n",
      "\u001b[36mℹ\u001b[39m Specify the column types or set \u001b[30m\u001b[47m\u001b[30m\u001b[47m`show_col_types = FALSE`\u001b[47m\u001b[30m\u001b[49m\u001b[39m to quiet this message.\n",
      "\n"
     ]
    },
    {
     "name": "stdout",
     "output_type": "stream",
     "text": [
      "[1] \"Creating fragments object\"\n"
     ]
    },
    {
     "name": "stderr",
     "output_type": "stream",
     "text": [
      "Computing hash\n",
      "\n"
     ]
    },
    {
     "name": "stdout",
     "output_type": "stream",
     "text": [
      "[1] \"Quantifying peaks\"\n"
     ]
    },
    {
     "name": "stderr",
     "output_type": "stream",
     "text": [
      "Extracting reads overlapping genomic regions\n",
      "\n"
     ]
    },
    {
     "name": "stdout",
     "output_type": "stream",
     "text": [
      "[1] \"Creating chromatin assay\"\n"
     ]
    },
    {
     "name": "stderr",
     "output_type": "stream",
     "text": [
      "Warning message in CreateSeuratObject.Assay(curr_assay, assay = \"ATAC\", project = name, :\n",
      "\"Some cells in meta.data not present in provided counts matrix.\"\n"
     ]
    },
    {
     "name": "stdout",
     "output_type": "stream",
     "text": [
      "[1] \"curr_assay\"\n",
      "data frame with 0 columns and 10 rows\n",
      "[1] \"curr\"\n",
      "                   orig.ident nCount_ATAC nFeature_ATAC total duplicate\n",
      "AAACGAAAGAGGTCCA-1    Control        1400          1357 16929      2587\n",
      "AAACGAAAGCGATACG-1    Control        3692          3505 45359     10546\n",
      "AAACGAAAGTCGTGAG-1    Control        1031           994 10177      2450\n",
      "AAACGAACAATAGTGA-1    Control        2829          2687 22452      4364\n",
      "AAACGAACACAATAAG-1    Control        1206          1184 11763      2003\n",
      "AAACGAACACTGATAC-1    Control         968           954  9449      1971\n",
      "                   chimeric unmapped lowmapq mitochondrial passed_filters\n",
      "AAACGAAAGAGGTCCA-1       58       70     674          9629           3911\n",
      "AAACGAAAGCGATACG-1      184      184    2302         22247           9896\n",
      "AAACGAAAGTCGTGAG-1       48       60     657          2135           4827\n",
      "AAACGAACAATAGTGA-1      100       83     897          9233           7775\n",
      "AAACGAACACAATAAG-1       43       57     680          5547           3433\n",
      "AAACGAACACTGATAC-1       59       21     489          3785           3124\n",
      "                   cell_id is__cell_barcode TSS_fragments\n",
      "AAACGAAAGAGGTCCA-1 _cell_0                1           740\n",
      "AAACGAAAGCGATACG-1 _cell_1                1          1611\n",
      "AAACGAAAGTCGTGAG-1 _cell_2                1           775\n",
      "AAACGAACAATAGTGA-1 _cell_3                1          1239\n",
      "AAACGAACACAATAAG-1 _cell_4                1           621\n",
      "AAACGAACACTGATAC-1 _cell_5                1           517\n",
      "                   DNase_sensitive_region_fragments enhancer_region_fragments\n",
      "AAACGAAAGAGGTCCA-1                                0                         0\n",
      "AAACGAAAGCGATACG-1                                0                         0\n",
      "AAACGAAAGTCGTGAG-1                                0                         0\n",
      "AAACGAACAATAGTGA-1                                0                         0\n",
      "AAACGAACACAATAAG-1                                0                         0\n",
      "AAACGAACACTGATAC-1                                0                         0\n",
      "                   promoter_region_fragments on_target_fragments\n",
      "AAACGAAAGAGGTCCA-1                         0                 740\n",
      "AAACGAAAGCGATACG-1                         0                1611\n",
      "AAACGAAAGTCGTGAG-1                         0                 775\n",
      "AAACGAACAATAGTGA-1                         0                1239\n",
      "AAACGAACACAATAAG-1                         0                 621\n",
      "AAACGAACACTGATAC-1                         0                 517\n",
      "                   blacklist_region_fragments peak_region_fragments\n",
      "AAACGAAAGAGGTCCA-1                          0                  1330\n",
      "AAACGAAAGCGATACG-1                          0                  3462\n",
      "AAACGAAAGTCGTGAG-1                          0                   966\n",
      "AAACGAACAATAGTGA-1                          0                  2701\n",
      "AAACGAACACAATAAG-1                          0                  1138\n",
      "AAACGAACACTGATAC-1                          0                   878\n",
      "                   peak_region_cutsites    proj\n",
      "AAACGAAAGAGGTCCA-1                 2434 Control\n",
      "AAACGAAAGCGATACG-1                 6167 Control\n",
      "AAACGAAAGTCGTGAG-1                 1768 Control\n",
      "AAACGAACAATAGTGA-1                 4951 Control\n",
      "AAACGAACACAATAAG-1                 2019 Control\n",
      "AAACGAACACTGATAC-1                 1595 Control\n",
      "[1] \"exp\"\n",
      "[1] \"J2\"\n",
      "[1] \"name\"\n",
      "[1] \"Flt3l\"\n"
     ]
    },
    {
     "name": "stderr",
     "output_type": "stream",
     "text": [
      "\u001b[1m\u001b[1mRows: \u001b[1m\u001b[22m\u001b[34m\u001b[34m12009\u001b[34m\u001b[39m \u001b[1m\u001b[1mColumns: \u001b[1m\u001b[22m\u001b[34m\u001b[34m1\u001b[34m\u001b[39m\n",
      "\n",
      "\u001b[36m──\u001b[39m \u001b[1m\u001b[1mColumn specification\u001b[1m\u001b[22m \u001b[36m─────────────────────────────────────────────────────────────────────────────────────────────────────────────\u001b[39m\n",
      "\u001b[1mDelimiter:\u001b[22m \"\\t\"\n",
      "\u001b[31mchr\u001b[39m (1): X1\n",
      "\n",
      "\n",
      "\u001b[36mℹ\u001b[39m Use \u001b[30m\u001b[47m\u001b[30m\u001b[47m`spec()`\u001b[47m\u001b[30m\u001b[49m\u001b[39m to retrieve the full column specification for this data.\n",
      "\u001b[36mℹ\u001b[39m Specify the column types or set \u001b[30m\u001b[47m\u001b[30m\u001b[47m`show_col_types = FALSE`\u001b[47m\u001b[30m\u001b[49m\u001b[39m to quiet this message.\n",
      "\n",
      "\u001b[1m\u001b[1mRows: \u001b[1m\u001b[22m\u001b[34m\u001b[34m430951\u001b[34m\u001b[39m \u001b[1m\u001b[1mColumns: \u001b[1m\u001b[22m\u001b[34m\u001b[34m18\u001b[34m\u001b[39m\n",
      "\n",
      "\u001b[36m──\u001b[39m \u001b[1m\u001b[1mColumn specification\u001b[1m\u001b[22m \u001b[36m─────────────────────────────────────────────────────────────────────────────────────────────────────────────\u001b[39m\n",
      "\u001b[1mDelimiter:\u001b[22m \",\"\n",
      "\u001b[31mchr\u001b[39m  (2): barcode, cell_id\n",
      "\u001b[32mdbl\u001b[39m (16): total, duplicate, chimeric, unmapped, lowmapq, mitochondrial, pass...\n",
      "\n",
      "\n",
      "\u001b[36mℹ\u001b[39m Use \u001b[30m\u001b[47m\u001b[30m\u001b[47m`spec()`\u001b[47m\u001b[30m\u001b[49m\u001b[39m to retrieve the full column specification for this data.\n",
      "\u001b[36mℹ\u001b[39m Specify the column types or set \u001b[30m\u001b[47m\u001b[30m\u001b[47m`show_col_types = FALSE`\u001b[47m\u001b[30m\u001b[49m\u001b[39m to quiet this message.\n",
      "\n"
     ]
    },
    {
     "name": "stdout",
     "output_type": "stream",
     "text": [
      "[1] \"Creating fragments object\"\n"
     ]
    },
    {
     "name": "stderr",
     "output_type": "stream",
     "text": [
      "Computing hash\n",
      "\n"
     ]
    },
    {
     "name": "stdout",
     "output_type": "stream",
     "text": [
      "[1] \"Quantifying peaks\"\n"
     ]
    },
    {
     "name": "stderr",
     "output_type": "stream",
     "text": [
      "Extracting reads overlapping genomic regions\n",
      "\n"
     ]
    }
   ],
   "source": [
    "allSE = c() \n",
    "\n",
    "samples_df <- cbind(sample_names, samples)\n",
    "print('samples_df')\n",
    "print(samples_df)\n",
    "for (row in 1:nrow(samples_df)){\n",
    "    exp <- (samples_df[[row, \"samples\"]])\n",
    "    name <- (samples_df[[row, \"sample_names\"]]) \n",
    "    \n",
    "#for (exp in samples) {\n",
    "    print('exp')\n",
    "    print(exp)\n",
    "    print('name')\n",
    "    print(name)\n",
    "    barcode_path <- file.path(cellr_in, exp, \"outs\", \"filtered_peak_bc_matrix\", \"barcodes.tsv\")    \n",
    "    barcodes <- readr::read_tsv(barcode_path, col_names = F) # %>% tidyr::unite(barcode)\n",
    "    barcodes <- as.data.frame(barcodes) %>%  tibble::column_to_rownames(var=\"X1\") %>% tibble::add_column(proj=name)\n",
    "    frag_file <- file.path(cellr_in, exp, \"outs\", \"fragments.tsv.gz\")\n",
    "    \n",
    "    cells.meta.f <- file.path(cellr_in, exp, \"outs\", \"singlecell.csv\") \n",
    "    cells.meta <- as.data.frame(readr::read_csv(cells.meta.f)) %>% tibble::column_to_rownames(var=\"barcode\") %>% tibble::add_column(proj=name)\n",
    "    cells.meta <- cells.meta[rownames(cells.meta) %in% rownames(barcodes), ]\n",
    "\n",
    "    # quantify multiome peaks in the scATAC-seq dataset\n",
    "    \n",
    "    \n",
    "    print(\"Creating fragments object\")\n",
    "    frags.curr <- CreateFragmentObject(path = frag_file, cells= rownames(barcodes))\n",
    "    #print(frags.curr)\n",
    "    print(\"Quantifying peaks\")\n",
    "    ## Quantify peaks\n",
    "    curr.counts <- FeatureMatrix(\n",
    "      fragments = frags.curr,\n",
    "      features = combined.peaks,\n",
    "      cells = rownames(barcodes),\n",
    "      process_n = cores\n",
    "    )\n",
    "    \n",
    "    print(\"Creating chromatin assay\")\n",
    "    ## Create the objects and use simple filters\n",
    "    curr_assay <- CreateChromatinAssay(curr.counts, fragments = frags.curr, min.cells = 10, min.features = 200)\n",
    "    curr <- CreateSeuratObject(curr_assay, assay = \"ATAC\", project=name, meta.data=cells.meta)\n",
    "    print('curr_assay')\n",
    "    print(head(curr_assay))\n",
    "    print('curr')\n",
    "    print(head(curr[[]]))\n",
    "    allSE = c(allSE, curr)\n",
    "    #return(curr)\n",
    "}\n",
    "\n",
    "allSE\n",
    "\n",
    "#allSE <- sapply(samples, create_frag, cellr_in=cellr_in)"
   ]
  },
  {
   "cell_type": "code",
   "execution_count": null,
   "id": "1f3fab98",
   "metadata": {
    "scrolled": true
   },
   "outputs": [],
   "source": [
    "names(allSE) <- sapply(allSE, function(x) {x$orig.ident[[1]]})\n",
    "allSE"
   ]
  },
  {
   "cell_type": "code",
   "execution_count": null,
   "id": "13893e1c",
   "metadata": {},
   "outputs": [],
   "source": [
    "library('Rsamtools')\n",
    "\n",
    "# extract gene annotations from EnsDb\n",
    "annotations <- GetGRangesFromEnsDb(ensdb = EnsDb.Hsapiens.v75)\n",
    "\n",
    "# change to UCSC style since the data was mapped to hg19\n",
    "seqlevelsStyle(annotations) <- 'UCSC'\n",
    "genome(annotations) <- \"hg38\"\n",
    "# add the gene information to the object\n",
    "Annotation(integrated) <- annotations\n",
    "gene.activities <- GeneActivity(integrated)"
   ]
  },
  {
   "cell_type": "code",
   "execution_count": null,
   "id": "e1cb051b",
   "metadata": {
    "scrolled": true
   },
   "outputs": [],
   "source": [
    "qc <- function(se){\n",
    "    # compute nucleosome signal score per cell\n",
    "    se <- NucleosomeSignal(object = se)\n",
    "    \n",
    "    Annotation(se) <- annotations\n",
    "    # compute TSS enrichment score per cell\n",
    "    se <- TSSEnrichment(object = se, fast = FALSE)\n",
    "\n",
    "    # add blacklist ratio and fraction of reads in peaks\n",
    "    se$pct_reads_in_peaks <- se$peak_region_fragments / se$passed_filters * 100\n",
    "    se$blacklist_ratio <- se$blacklist_region_fragments / se$peak_region_fragments\n",
    "    se$high.tss <- ifelse(se$TSS.enrichment > 2, 'High', 'Low')\n",
    "    se$nucleosome_group <- ifelse(se$nucleosome_signal > 4, 'NS > 4', 'NS < 4')\n",
    "\n",
    "    return(se)\n",
    "}\n",
    "\n",
    "allSE.qc <- lapply(allSE, qc)\n",
    "allSE.qc"
   ]
  },
  {
   "cell_type": "code",
   "execution_count": null,
   "id": "5a5cb095",
   "metadata": {},
   "outputs": [],
   "source": [
    "allSE.qc"
   ]
  },
  {
   "cell_type": "code",
   "execution_count": null,
   "id": "60e1d116",
   "metadata": {},
   "outputs": [],
   "source": [
    "install.packages(\"patchwork\")                 # Install & load patchwork package\n",
    "library(\"patchwork\")"
   ]
  },
  {
   "cell_type": "code",
   "execution_count": null,
   "id": "1206cf15",
   "metadata": {
    "scrolled": true
   },
   "outputs": [],
   "source": [
    "vPlot <- function(se){\n",
    "      vPlot <- VlnPlot(\n",
    "      object = se,\n",
    "      features = c('pct_reads_in_peaks', 'peak_region_fragments',\n",
    "                   'TSS.enrichment', 'blacklist_ratio', 'nucleosome_signal'),\n",
    "      pt.size = 0.1,\n",
    "      ncol = 5\n",
    "    )  \n",
    "    vPlot <- vPlot +    # Create grid of plots with title\n",
    "             plot_annotation(title = se$orig.ident[[1]]) & \n",
    "             theme(plot.title = element_text(hjust = 0.5, size=15))\n",
    "    #print(vPlot)\n",
    "    return(vPlot)\n",
    "}\n",
    "plots <- function(se){\n",
    "    tssplot <- TSSPlot(se, group.by = 'high.tss') #+ NoLegend()\n",
    "    print(tssplot)\n",
    "    fragHist <- FragmentHistogram(object = se, group.by = 'nucleosome_group')\n",
    "    print(fragHist)\n",
    "\n",
    "    return\n",
    "    #return(tssplot,fragHist,vPlot)\n",
    "}\n",
    "    \n"
   ]
  },
  {
   "cell_type": "code",
   "execution_count": null,
   "id": "c8f84a1b",
   "metadata": {
    "scrolled": true
   },
   "outputs": [],
   "source": [
    "lapply(allSE.qc,vPlot)"
   ]
  },
  {
   "cell_type": "markdown",
   "id": "5674add0",
   "metadata": {},
   "source": [
    "## Choose the same subset for each"
   ]
  },
  {
   "cell_type": "code",
   "execution_count": null,
   "id": "e39bfcbb",
   "metadata": {},
   "outputs": [],
   "source": [
    "filtCells <- function(se, min_peak_region_fragments=10,\n",
    "                      max_peak_region_fragments=15000,\n",
    "                     min_pct_reads_in_peaks=15,\n",
    "                     max_blacklist_ratio=0.05,\n",
    "                     max_nucleosome_signal=4,\n",
    "                     min_TSS_enrichment=2){\n",
    "    se <- subset(\n",
    "      x = se,\n",
    "      subset = peak_region_fragments > min_peak_region_fragments &\n",
    "        peak_region_fragments < max_peak_region_fragments &\n",
    "        pct_reads_in_peaks > min_pct_reads_in_peaks &\n",
    "        blacklist_ratio < max_blacklist_ratio &\n",
    "        nucleosome_signal < max_nucleosome_signal  &\n",
    "        TSS.enrichment > min_TSS_enrichment\n",
    "    )\n",
    "        return(se)\n",
    "}"
   ]
  },
  {
   "cell_type": "markdown",
   "id": "45563a87",
   "metadata": {},
   "source": [
    "## Filter cells"
   ]
  },
  {
   "cell_type": "code",
   "execution_count": null,
   "id": "6996ac60",
   "metadata": {},
   "outputs": [],
   "source": [
    "allSE.qc <- lapply(allSE.qc, filtCells,\n",
    "                   min_peak_region_fragments=1000,\n",
    "                   max_peak_region_fragments=10000,\n",
    "                   min_pct_reads_in_peaks=20,\n",
    "                   max_blacklist_ratio=0.05,\n",
    "                   max_nucleosome_signal=15,\n",
    "                   min_TSS_enrichment=0.2)"
   ]
  },
  {
   "cell_type": "markdown",
   "id": "b7376df3",
   "metadata": {},
   "source": [
    "## Before"
   ]
  },
  {
   "cell_type": "code",
   "execution_count": null,
   "id": "2ac222a9",
   "metadata": {
    "scrolled": true
   },
   "outputs": [],
   "source": [
    "allSE"
   ]
  },
  {
   "cell_type": "code",
   "execution_count": null,
   "id": "5927e681",
   "metadata": {},
   "outputs": [],
   "source": [
    "Project(allSE[[1]])"
   ]
  },
  {
   "cell_type": "markdown",
   "id": "1163051a",
   "metadata": {},
   "source": [
    "## After"
   ]
  },
  {
   "cell_type": "code",
   "execution_count": null,
   "id": "0401a067",
   "metadata": {
    "scrolled": true
   },
   "outputs": [],
   "source": [
    "allSE.qc"
   ]
  },
  {
   "cell_type": "markdown",
   "id": "8857dd9d",
   "metadata": {},
   "source": [
    "## Merge"
   ]
  },
  {
   "cell_type": "code",
   "execution_count": null,
   "id": "b2905fab",
   "metadata": {
    "scrolled": true
   },
   "outputs": [],
   "source": [
    "# Add sample names to cell prefix here.\n",
    "for (i in 1:length(allSE.qc)){\n",
    "    print(i)\n",
    "    curr.SE <- allSE.qc[[i]]\n",
    "    allSE.qc[[i]] <- RenameCells(allSE.qc[[i]], \n",
    "                    paste(curr.SE$orig.ident,colnames(curr.SE), sep=\"_\")\n",
    "                    )\n",
    "}\n",
    "\n",
    "combined <-  merge(\n",
    "  x = allSE.qc[[1]],\n",
    "  #y = allSE.qc[[3]],\n",
    "  y = allSE.qc[[2]]\n",
    "  #add.cell.ids = sample_names[1:2]\n",
    "  )\n",
    "\n",
    "\n",
    "if (length(sample_names) > 2) {\n",
    "    for (i in 3:length(sample_names)){\n",
    "        combined <- merge(x=combined,\n",
    "                             y = allSE.qc[[i]])\n",
    "        }\n",
    "}"
   ]
  },
  {
   "cell_type": "code",
   "execution_count": null,
   "id": "e139afc8",
   "metadata": {
    "scrolled": false
   },
   "outputs": [],
   "source": [
    "# # merge all datasets, adding a cell ID to make sure cell names are unique\n",
    "# combined <- merge(\n",
    "#   x = allSE[[1]],\n",
    "#   y = unlist(allSE[2:length(allSE)], use.names=FALSE), \n",
    "#   add.cell.ids = sample_names,\n",
    "#   merge.data=FALSE\n",
    "# )\n",
    "# combined[[\"ATAC\"]]\n",
    "\n"
   ]
  },
  {
   "cell_type": "code",
   "execution_count": null,
   "id": "4b125078",
   "metadata": {
    "scrolled": true
   },
   "outputs": [],
   "source": [
    "combined <- FindTopFeatures(combined, min.cutoff = 20)\n",
    "combined"
   ]
  },
  {
   "cell_type": "markdown",
   "id": "c0f15aa7",
   "metadata": {},
   "source": [
    "### Plot metadata passed_filters, nCount_ATAC, and duplicates"
   ]
  },
  {
   "cell_type": "code",
   "execution_count": null,
   "id": "a52b06b5",
   "metadata": {},
   "outputs": [],
   "source": [
    "combined$orig.ident <- factor(combined$orig.ident, levels = sample_names)\n",
    "\n",
    "VlnPlot(\n",
    "  object = combined,\n",
    "  features = c('nCount_ATAC', 'peak_region_fragments', 'passed_filters',\n",
    "               'duplicate', 'unmapped'),\n",
    "  split.by = \"orig.ident\",\n",
    "  pt.size = 0.1,\n",
    "  ncol = 3\n",
    ")"
   ]
  },
  {
   "cell_type": "code",
   "execution_count": null,
   "id": "69e1c26c",
   "metadata": {
    "scrolled": true
   },
   "outputs": [],
   "source": [
    "# Binarize and run LSI\n",
    "combined <- BinarizeCounts(combined)\n",
    "combined <- RunTFIDF(combined)\n",
    "combined <- RunSVD(combined)\n",
    "combined <- RunUMAP(combined, dims = lsi_start_comp:50, reduction = 'lsi')\n",
    "DimPlot(combined, group.by = \"proj\", pt.size = 0.1)"
   ]
  },
  {
   "cell_type": "code",
   "execution_count": null,
   "id": "79f6ba53",
   "metadata": {
    "scrolled": true
   },
   "outputs": [],
   "source": [
    "pDepthCorr <- DepthCor(combined)\n",
    "pDepthCorr"
   ]
  },
  {
   "cell_type": "code",
   "execution_count": null,
   "id": "be2e0719",
   "metadata": {
    "scrolled": false
   },
   "outputs": [],
   "source": [
    "saveRDS(combined, file.path(outdir, paste0(\"allSamples.merged.rds\")))"
   ]
  },
  {
   "cell_type": "code",
   "execution_count": null,
   "id": "34ea5c1b",
   "metadata": {},
   "outputs": [],
   "source": []
  },
  {
   "cell_type": "code",
   "execution_count": null,
   "id": "1f6da036",
   "metadata": {},
   "outputs": [],
   "source": []
  },
  {
   "cell_type": "markdown",
   "id": "77338460",
   "metadata": {},
   "source": [
    "## Integrate datasets\n",
    "### Uses https://satijalab.org/signac/articles/integrate_atac.html"
   ]
  },
  {
   "cell_type": "code",
   "execution_count": null,
   "id": "b6a43717",
   "metadata": {},
   "outputs": [],
   "source": [
    "p1 <- DimPlot(combined, group.by = \"proj\")"
   ]
  },
  {
   "cell_type": "markdown",
   "id": "4ce38a3c",
   "metadata": {},
   "source": [
    "## First break them up again by subsetting, then integrating"
   ]
  },
  {
   "cell_type": "code",
   "execution_count": null,
   "id": "6ac4163e",
   "metadata": {
    "scrolled": true
   },
   "outputs": [],
   "source": [
    "# ext <- subset(x = combined, subset = orig.ident == samples[1])\n",
    "# curr <- subset(x = combined, subset = orig.ident == samples[2])\n",
    "\n",
    "allSE <- lapply(sample_names,  function(x) subset(combined, subset = orig.ident == x))\n",
    "allSE"
   ]
  },
  {
   "cell_type": "code",
   "execution_count": null,
   "id": "43ad596e",
   "metadata": {
    "scrolled": true
   },
   "outputs": [],
   "source": [
    "# find integration anchors\n",
    "integration.anchors <- FindIntegrationAnchors(\n",
    "  object.list = allSE, #c(ext,curr),\n",
    "  anchor.features = allSE[[1]], #rownames(ext),\n",
    "  reduction = \"rlsi\",\n",
    "  dims = lsi_start_comp:30\n",
    ")\n",
    "\n",
    "# integrate LSI embeddings\n",
    "integrated <- IntegrateEmbeddings(\n",
    "  anchorset = integration.anchors,\n",
    "  reductions = combined[[\"lsi\"]],\n",
    "  new.reduction.name = \"integrated_lsi\",\n",
    "  dims.to.integrate = 1:30\n",
    ")\n",
    "\n"
   ]
  },
  {
   "cell_type": "code",
   "execution_count": null,
   "id": "4b06e71e",
   "metadata": {
    "scrolled": true
   },
   "outputs": [],
   "source": [
    "# create a new UMAP using the integrated embeddings\n",
    "integrated <- RunUMAP(integrated, reduction = \"integrated_lsi\", dims = 2:30)\n",
    "p2 <- DimPlot(integrated, group.by = \"proj\")"
   ]
  },
  {
   "cell_type": "code",
   "execution_count": null,
   "id": "f9f6912f",
   "metadata": {
    "scrolled": true
   },
   "outputs": [],
   "source": [
    "pclust <- DimPlot(object = integrated, label = TRUE) + NoLegend()\n",
    "\n",
    "(p1 + ggtitle(\"Merged\")) | (p2 + ggtitle(\"Integrated\"))\n",
    "ggsave(file.path(outdir,\"integrated.merged.compare.png\"))"
   ]
  },
  {
   "cell_type": "code",
   "execution_count": null,
   "id": "893671b3",
   "metadata": {},
   "outputs": [],
   "source": [
    "p2\n",
    "ggsave(file.path(outdir,\"integrated.batch.png\"), dpi=300)"
   ]
  },
  {
   "cell_type": "code",
   "execution_count": null,
   "id": "c4abf4fd",
   "metadata": {},
   "outputs": [],
   "source": [
    "p2"
   ]
  },
  {
   "cell_type": "code",
   "execution_count": null,
   "id": "58a25cbb",
   "metadata": {},
   "outputs": [],
   "source": [
    "pDepthCorr <- DepthCor(integrated, reduction='integrated_lsi')\n",
    "ggsave(file.path(outdir,\"integrated.depthCor.png\"), plot=pDepthCorr, dpi=300)\n",
    "\n",
    "pDepthCorr"
   ]
  },
  {
   "cell_type": "markdown",
   "id": "604d3235",
   "metadata": {},
   "source": [
    "## Plot new cluster results"
   ]
  },
  {
   "cell_type": "code",
   "execution_count": null,
   "id": "2c05ac1c",
   "metadata": {
    "scrolled": true
   },
   "outputs": [],
   "source": [
    "#integrated <- RunUMAP(object = integrated, reduction = 'integrated_lsi', dims = 2:30)\n",
    "integrated <- FindNeighbors(object = integrated, reduction = 'integrated_lsi', dims = 2:30)\n",
    "integrated <- FindClusters(object = integrated, verbose = FALSE, algorithm = 3)\n"
   ]
  },
  {
   "cell_type": "code",
   "execution_count": null,
   "id": "d20705e3",
   "metadata": {
    "scrolled": true
   },
   "outputs": [],
   "source": [
    "pclust <- DimPlot(object = integrated, label = TRUE) + NoLegend()\n",
    "ggsave(file.path(outdir, \"integrated.lsi.clusters.png\"), pclust)\n",
    "pclust"
   ]
  },
  {
   "cell_type": "code",
   "execution_count": null,
   "id": "5c02d3c5",
   "metadata": {},
   "outputs": [],
   "source": [
    "## ATAC DE peaks\n",
    "\n",
    "# # change back to working with peaks instead of gene activities\n",
    "# DefaultAssay(integrated) <- 'ATAC'\n",
    "\n",
    "# da_peaks <- FindMarkers(\n",
    "#   object = integrated,\n",
    "#   ident.1 = 9, #\"CD4 Naive\",\n",
    "#   min.pct = 0.05,\n",
    "#   test.use = 'LR',\n",
    "#   #latent.vars = 'peak_region_fragments'\n",
    "# )\n",
    "\n",
    "\n",
    "# plot1 <- VlnPlot(\n",
    "#   object = integrated,\n",
    "#   features = rownames(da_peaks)[1],\n",
    "#   pt.size = 0.1,\n",
    "#   idents = c(1,9)\n",
    "# )\n",
    "# plot2 <- FeaturePlot(\n",
    "#   object = integrated,\n",
    "#   features = rownames(da_peaks)[1],\n",
    "#   pt.size = 0.1\n",
    "# )\n",
    "\n",
    "# plot1 | plot2\n"
   ]
  },
  {
   "cell_type": "markdown",
   "id": "2ea79a37",
   "metadata": {},
   "source": [
    "## Get gene activity results and run DE results for RNA"
   ]
  },
  {
   "cell_type": "code",
   "execution_count": null,
   "id": "8a8458cc",
   "metadata": {
    "scrolled": true
   },
   "outputs": [],
   "source": [
    "\n",
    "# add the gene information to the object\n",
    "Annotation(integrated) <- annotations\n",
    "\n",
    "gene.activities <- GeneActivity(integrated)\n"
   ]
  },
  {
   "cell_type": "code",
   "execution_count": null,
   "id": "ea3b5ddc",
   "metadata": {
    "scrolled": true
   },
   "outputs": [],
   "source": [
    "# add the gene activity matrix to the Seurat object as a new assay and normalize it\n",
    "integrated[['RNA']] <- CreateAssayObject(counts = gene.activities)\n",
    "integrated <- NormalizeData(\n",
    "  object = integrated,\n",
    "  assay = 'RNA',\n",
    "  normalization.method = 'LogNormalize',\n",
    "  scale.factor = median(integrated$nCount_RNA)\n",
    ")"
   ]
  },
  {
   "cell_type": "code",
   "execution_count": null,
   "id": "c0918487",
   "metadata": {},
   "outputs": [],
   "source": [
    "DefaultAssay(integrated) <- 'RNA'"
   ]
  },
  {
   "cell_type": "code",
   "execution_count": null,
   "id": "d7634f92",
   "metadata": {},
   "outputs": [],
   "source": [
    "saveRDS(integrated, file.path(outdir, paste0(\"allSamples.integrated.rds\")))"
   ]
  },
  {
   "cell_type": "markdown",
   "id": "3d1ed5b4",
   "metadata": {},
   "source": [
    "## Save all figures"
   ]
  },
  {
   "cell_type": "code",
   "execution_count": null,
   "id": "c116a7db",
   "metadata": {},
   "outputs": [],
   "source": []
  },
  {
   "cell_type": "code",
   "execution_count": null,
   "id": "626a0538",
   "metadata": {},
   "outputs": [],
   "source": [
    "sessionInfo()"
   ]
  },
  {
   "cell_type": "code",
   "execution_count": null,
   "id": "cb0cc51b",
   "metadata": {},
   "outputs": [],
   "source": []
  }
 ],
 "metadata": {
  "celltoolbar": "Tags",
  "kernelspec": {
   "display_name": "R",
   "language": "R",
   "name": "ir"
  },
  "language_info": {
   "codemirror_mode": "r",
   "file_extension": ".r",
   "mimetype": "text/x-r-source",
   "name": "R",
   "pygments_lexer": "r",
   "version": "4.1.1"
  }
 },
 "nbformat": 4,
 "nbformat_minor": 5
}
