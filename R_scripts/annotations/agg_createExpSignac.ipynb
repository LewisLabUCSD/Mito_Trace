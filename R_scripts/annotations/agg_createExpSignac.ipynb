{
 "cells": [
  {
   "cell_type": "markdown",
   "id": "223d6f46",
   "metadata": {},
   "source": [
    "## Creates binarized Seurat objects, integrates conditions and annotates genes by nearby peaks"
   ]
  },
  {
   "cell_type": "code",
   "execution_count": 1,
   "id": "663e2d4d",
   "metadata": {
    "tags": [
     "parameters"
    ]
   },
   "outputs": [],
   "source": [
    "# Input info\n",
    "#cellr_in = \"/home/isaac/lewis/mito_lineage/output/mtscATAC/data/DUPI_april08_2021_Croker/MTblacklist_mtasnucl/\" \n",
    "#outdir = \"/mnt/md0/isshamie/Projects/Mito_Trace/output/pipeline/DUPI_april08_2021/MTblacklist_mtasnucl_Bonly/data/annotation/gff_hg38_1_2/mergedSamples/\"\n",
    "\n",
    "# Parameters\n",
    "cores = 24\n",
    "\n",
    "gff_id = \"A2_black\"\n",
    "\n",
    "annotations_indir = \"/mnt/md0/isshamie/Projects/Mito_Trace/data/processed/annotation_granges/\"\n",
    "config_f = \"/data/Mito_Trace/parameters/pipeline/cosmo_server_v04/chip_paper_noControl/CHIP_aggr_samples.noChA1.yaml\"\n",
    "out_f = \"/mnt/md0/isshamie/Projects/Mito_Trace/output/aggregate/CHIP_aggr/v04_no_ChA1//data/annotation/gff_A2/mergedSamples/merged_peaks.bed\"\n",
    "outdir =  \"/mnt/md0/isshamie/Projects/Mito_Trace/output/aggregate/CHIP_aggr/v04_no_ChA1/data/annotation/gff_A2/mergedSamples\""
   ]
  },
  {
   "cell_type": "code",
   "execution_count": 2,
   "id": "b62b75ff",
   "metadata": {},
   "outputs": [
    {
     "name": "stderr",
     "output_type": "stream",
     "text": [
      "Warning message:\n",
      "“package ‘repr’ was built under R version 4.1.2”\n"
     ]
    }
   ],
   "source": [
    "library(repr)\n",
    "options(repr.plot.width=12, repr.plot.height=12)"
   ]
  },
  {
   "cell_type": "code",
   "execution_count": 3,
   "id": "42a6bcb7",
   "metadata": {
    "scrolled": true
   },
   "outputs": [
    {
     "data": {
      "text/html": [
       "'/data/Mito_Trace/parameters/pipeline/cosmo_server_v04/chip_paper_noControl/CHIP_aggr_samples.noChA1.yaml'"
      ],
      "text/latex": [
       "'/data/Mito\\_Trace/parameters/pipeline/cosmo\\_server\\_v04/chip\\_paper\\_noControl/CHIP\\_aggr\\_samples.noChA1.yaml'"
      ],
      "text/markdown": [
       "'/data/Mito_Trace/parameters/pipeline/cosmo_server_v04/chip_paper_noControl/CHIP_aggr_samples.noChA1.yaml'"
      ],
      "text/plain": [
       "[1] \"/data/Mito_Trace/parameters/pipeline/cosmo_server_v04/chip_paper_noControl/CHIP_aggr_samples.noChA1.yaml\""
      ]
     },
     "metadata": {},
     "output_type": "display_data"
    }
   ],
   "source": [
    "config_f"
   ]
  },
  {
   "cell_type": "code",
   "execution_count": 4,
   "id": "674307c4",
   "metadata": {
    "scrolled": true
   },
   "outputs": [
    {
     "name": "stderr",
     "output_type": "stream",
     "text": [
      "Warning message:\n",
      "“package ‘yaml’ was built under R version 4.1.2”\n"
     ]
    },
    {
     "data": {
      "text/html": [
       "<dl>\n",
       "\t<dt>$CHIP_b1</dt>\n",
       "\t\t<dd>'/data/Mito_Trace/parameters/pipeline/cosmo_server_v04/chip_paper_noControl/CHIP_b1_dec172021.csv'</dd>\n",
       "\t<dt>$CHIP_b2</dt>\n",
       "\t\t<dd>'/data/Mito_Trace/parameters/pipeline/cosmo_server_v04/chip_paper_noControl/CHIP_b2_dec172021.csv'</dd>\n",
       "\t<dt>$cd34norm</dt>\n",
       "\t\t<dd>'/data/Mito_Trace/parameters/pipeline/cosmo_server_v04/chip_paper_noControl/cd34norm.csv'</dd>\n",
       "</dl>\n"
      ],
      "text/latex": [
       "\\begin{description}\n",
       "\\item[\\$CHIP\\_b1] '/data/Mito\\_Trace/parameters/pipeline/cosmo\\_server\\_v04/chip\\_paper\\_noControl/CHIP\\_b1\\_dec172021.csv'\n",
       "\\item[\\$CHIP\\_b2] '/data/Mito\\_Trace/parameters/pipeline/cosmo\\_server\\_v04/chip\\_paper\\_noControl/CHIP\\_b2\\_dec172021.csv'\n",
       "\\item[\\$cd34norm] '/data/Mito\\_Trace/parameters/pipeline/cosmo\\_server\\_v04/chip\\_paper\\_noControl/cd34norm.csv'\n",
       "\\end{description}\n"
      ],
      "text/markdown": [
       "$CHIP_b1\n",
       ":   '/data/Mito_Trace/parameters/pipeline/cosmo_server_v04/chip_paper_noControl/CHIP_b1_dec172021.csv'\n",
       "$CHIP_b2\n",
       ":   '/data/Mito_Trace/parameters/pipeline/cosmo_server_v04/chip_paper_noControl/CHIP_b2_dec172021.csv'\n",
       "$cd34norm\n",
       ":   '/data/Mito_Trace/parameters/pipeline/cosmo_server_v04/chip_paper_noControl/cd34norm.csv'\n",
       "\n",
       "\n"
      ],
      "text/plain": [
       "$CHIP_b1\n",
       "[1] \"/data/Mito_Trace/parameters/pipeline/cosmo_server_v04/chip_paper_noControl/CHIP_b1_dec172021.csv\"\n",
       "\n",
       "$CHIP_b2\n",
       "[1] \"/data/Mito_Trace/parameters/pipeline/cosmo_server_v04/chip_paper_noControl/CHIP_b2_dec172021.csv\"\n",
       "\n",
       "$cd34norm\n",
       "[1] \"/data/Mito_Trace/parameters/pipeline/cosmo_server_v04/chip_paper_noControl/cd34norm.csv\"\n"
      ]
     },
     "metadata": {},
     "output_type": "display_data"
    }
   ],
   "source": [
    "library(yaml)\n",
    "\n",
    "samps <- read_yaml(config_f)$samples_csv\n",
    "samps"
   ]
  },
  {
   "cell_type": "code",
   "execution_count": 5,
   "id": "13b8908a",
   "metadata": {
    "scrolled": true
   },
   "outputs": [],
   "source": [
    "annotations <- readRDS(file.path(annotations_indir, paste0(gff_id, \".annotationGranges.rds\")))"
   ]
  },
  {
   "cell_type": "code",
   "execution_count": 6,
   "id": "b38edf7a",
   "metadata": {
    "scrolled": true
   },
   "outputs": [
    {
     "name": "stderr",
     "output_type": "stream",
     "text": [
      "Loading required package: GenomicRanges\n",
      "\n",
      "Loading required package: stats4\n",
      "\n",
      "Loading required package: BiocGenerics\n",
      "\n",
      "\n",
      "Attaching package: ‘BiocGenerics’\n",
      "\n",
      "\n",
      "The following objects are masked from ‘package:stats’:\n",
      "\n",
      "    IQR, mad, sd, var, xtabs\n",
      "\n",
      "\n",
      "The following objects are masked from ‘package:base’:\n",
      "\n",
      "    anyDuplicated, append, as.data.frame, basename, cbind, colnames,\n",
      "    dirname, do.call, duplicated, eval, evalq, Filter, Find, get, grep,\n",
      "    grepl, intersect, is.unsorted, lapply, Map, mapply, match, mget,\n",
      "    order, paste, pmax, pmax.int, pmin, pmin.int, Position, rank,\n",
      "    rbind, Reduce, rownames, sapply, setdiff, sort, table, tapply,\n",
      "    union, unique, unsplit, which.max, which.min\n",
      "\n",
      "\n",
      "Loading required package: S4Vectors\n",
      "\n",
      "Warning message:\n",
      "“package ‘S4Vectors’ was built under R version 4.1.2”\n",
      "\n",
      "Attaching package: ‘S4Vectors’\n",
      "\n",
      "\n",
      "The following objects are masked from ‘package:base’:\n",
      "\n",
      "    expand.grid, I, unname\n",
      "\n",
      "\n",
      "Loading required package: IRanges\n",
      "\n",
      "Warning message:\n",
      "“package ‘IRanges’ was built under R version 4.1.2”\n",
      "Loading required package: GenomeInfoDb\n",
      "\n"
     ]
    },
    {
     "data": {
      "text/plain": [
       "GRanges object with 2765969 ranges and 25 metadata columns:\n",
       "              seqnames        ranges strand |   source       type     score\n",
       "                 <Rle>     <IRanges>  <Rle> | <factor>   <factor> <numeric>\n",
       "        [1]       chr1   29554-31109      + |   HAVANA gene              NA\n",
       "        [2]       chr1   29554-31097      + |   HAVANA transcript        NA\n",
       "        [3]       chr1   29554-30039      + |   HAVANA exon              NA\n",
       "        [4]       chr1   30564-30667      + |   HAVANA exon              NA\n",
       "        [5]       chr1   30976-31097      + |   HAVANA exon              NA\n",
       "        ...        ...           ...    ... .      ...        ...       ...\n",
       "  [2765965] KI270734.1 138483-138667      - |  ENSEMBL CDS               NA\n",
       "  [2765966] KI270734.1 138480-138482      - |  ENSEMBL stop_codon        NA\n",
       "  [2765967] KI270734.1 161689-161852      - |  ENSEMBL UTR               NA\n",
       "  [2765968] KI270734.1 161587-161626      - |  ENSEMBL UTR               NA\n",
       "  [2765969] KI270734.1 138082-138482      - |  ENSEMBL UTR               NA\n",
       "                phase         gene_id gene_version      gene_type   gene_name\n",
       "            <integer>     <character>  <character>    <character> <character>\n",
       "        [1]      <NA> ENSG00000243485            5         lncRNA MIR1302-2HG\n",
       "        [2]      <NA> ENSG00000243485            5         lncRNA MIR1302-2HG\n",
       "        [3]      <NA> ENSG00000243485            5         lncRNA MIR1302-2HG\n",
       "        [4]      <NA> ENSG00000243485            5         lncRNA MIR1302-2HG\n",
       "        [5]      <NA> ENSG00000243485            5         lncRNA MIR1302-2HG\n",
       "        ...       ...             ...          ...            ...         ...\n",
       "  [2765965]         2 ENSG00000277196            4 protein_coding  AC007325.2\n",
       "  [2765966]         0 ENSG00000277196            4 protein_coding  AC007325.2\n",
       "  [2765967]      <NA> ENSG00000277196            4 protein_coding  AC007325.2\n",
       "  [2765968]      <NA> ENSG00000277196            4 protein_coding  AC007325.2\n",
       "  [2765969]      <NA> ENSG00000277196            4 protein_coding  AC007325.2\n",
       "                  level     hgnc_id         tag          havana_gene\n",
       "            <character> <character> <character>          <character>\n",
       "        [1]           2  HGNC:52482  ncRNA_host OTTHUMG00000000959.2\n",
       "        [2]           2  HGNC:52482       basic OTTHUMG00000000959.2\n",
       "        [3]           2  HGNC:52482       basic OTTHUMG00000000959.2\n",
       "        [4]           2  HGNC:52482       basic OTTHUMG00000000959.2\n",
       "        [5]           2  HGNC:52482       basic OTTHUMG00000000959.2\n",
       "        ...         ...         ...         ...                  ...\n",
       "  [2765965]           3        <NA>       basic                 <NA>\n",
       "  [2765966]           3        <NA>       basic                 <NA>\n",
       "  [2765967]           3        <NA>       basic                 <NA>\n",
       "  [2765968]           3        <NA>       basic                 <NA>\n",
       "  [2765969]           3        <NA>       basic                 <NA>\n",
       "              transcript_id transcript_version transcript_type transcript_name\n",
       "                <character>        <character>     <character>     <character>\n",
       "        [1]            <NA>               <NA>            <NA>            <NA>\n",
       "        [2] ENST00000473358                  1          lncRNA MIR1302-2HG-202\n",
       "        [3] ENST00000473358                  1          lncRNA MIR1302-2HG-202\n",
       "        [4] ENST00000473358                  1          lncRNA MIR1302-2HG-202\n",
       "        [5] ENST00000473358                  1          lncRNA MIR1302-2HG-202\n",
       "        ...             ...                ...             ...             ...\n",
       "  [2765965] ENST00000621424                  4  protein_coding  AC007325.2-201\n",
       "  [2765966] ENST00000621424                  4  protein_coding  AC007325.2-201\n",
       "  [2765967] ENST00000621424                  4  protein_coding  AC007325.2-201\n",
       "  [2765968] ENST00000621424                  4  protein_coding  AC007325.2-201\n",
       "  [2765969] ENST00000621424                  4  protein_coding  AC007325.2-201\n",
       "            transcript_support_level    havana_transcript exon_number\n",
       "                         <character>          <character> <character>\n",
       "        [1]                     <NA>                 <NA>        <NA>\n",
       "        [2]                        5 OTTHUMT00000002840.1        <NA>\n",
       "        [3]                        5 OTTHUMT00000002840.1           1\n",
       "        [4]                        5 OTTHUMT00000002840.1           2\n",
       "        [5]                        5 OTTHUMT00000002840.1           3\n",
       "        ...                      ...                  ...         ...\n",
       "  [2765965]                        1                 <NA>          15\n",
       "  [2765966]                        1                 <NA>          15\n",
       "  [2765967]                        1                 <NA>           1\n",
       "  [2765968]                        1                 <NA>           2\n",
       "  [2765969]                        1                 <NA>          15\n",
       "                    exon_id exon_version        protein_id      ccdsid\n",
       "                <character>  <character>       <character> <character>\n",
       "        [1]            <NA>         <NA>              <NA>        <NA>\n",
       "        [2]            <NA>         <NA>              <NA>        <NA>\n",
       "        [3] ENSE00001947070            1              <NA>        <NA>\n",
       "        [4] ENSE00001922571            1              <NA>        <NA>\n",
       "        [5] ENSE00001827679            1              <NA>        <NA>\n",
       "        ...             ...          ...               ...         ...\n",
       "  [2765965] ENSE00003753010            1 ENSP00000481127.1        <NA>\n",
       "  [2765966] ENSE00003753010            1 ENSP00000481127.1        <NA>\n",
       "  [2765967] ENSE00003746084            1 ENSP00000481127.1        <NA>\n",
       "  [2765968] ENSE00003719550            1 ENSP00000481127.1        <NA>\n",
       "  [2765969] ENSE00003753010            1 ENSP00000481127.1        <NA>\n",
       "                    ont   gene_biotype\n",
       "            <character>    <character>\n",
       "        [1]        <NA>         lncRNA\n",
       "        [2]        <NA>         lncRNA\n",
       "        [3]        <NA>         lncRNA\n",
       "        [4]        <NA>         lncRNA\n",
       "        [5]        <NA>         lncRNA\n",
       "        ...         ...            ...\n",
       "  [2765965]        <NA> protein_coding\n",
       "  [2765966]        <NA> protein_coding\n",
       "  [2765967]        <NA> protein_coding\n",
       "  [2765968]        <NA> protein_coding\n",
       "  [2765969]        <NA> protein_coding\n",
       "  -------\n",
       "  seqinfo: 40 sequences from hg38 genome; no seqlengths"
      ]
     },
     "metadata": {},
     "output_type": "display_data"
    }
   ],
   "source": [
    "annotations"
   ]
  },
  {
   "cell_type": "code",
   "execution_count": 7,
   "id": "aad4f638",
   "metadata": {
    "scrolled": true
   },
   "outputs": [
    {
     "name": "stderr",
     "output_type": "stream",
     "text": [
      "Registered S3 method overwritten by 'spatstat.core':\n",
      "  method          from\n",
      "  formula.glmmPQL MASS\n",
      "\n",
      "Attaching SeuratObject\n",
      "\n",
      "Attaching sp\n",
      "\n",
      "Warning message:\n",
      "“package ‘ggplot2’ was built under R version 4.1.3”\n",
      "\n",
      "Attaching package: ‘data.table’\n",
      "\n",
      "\n",
      "The following object is masked from ‘package:GenomicRanges’:\n",
      "\n",
      "    shift\n",
      "\n",
      "\n",
      "The following object is masked from ‘package:IRanges’:\n",
      "\n",
      "    shift\n",
      "\n",
      "\n",
      "The following objects are masked from ‘package:S4Vectors’:\n",
      "\n",
      "    first, second\n",
      "\n",
      "\n",
      "Warning message:\n",
      "“package ‘magrittr’ was built under R version 4.1.3”\n",
      "\n",
      "Attaching package: ‘cowplot’\n",
      "\n",
      "\n",
      "The following object is masked from ‘package:patchwork’:\n",
      "\n",
      "    align_plots\n",
      "\n",
      "\n",
      "Warning message:\n",
      "“package ‘dplyr’ was built under R version 4.1.3”\n",
      "\n",
      "Attaching package: ‘dplyr’\n",
      "\n",
      "\n",
      "The following objects are masked from ‘package:data.table’:\n",
      "\n",
      "    between, first, last\n",
      "\n",
      "\n",
      "The following objects are masked from ‘package:GenomicRanges’:\n",
      "\n",
      "    intersect, setdiff, union\n",
      "\n",
      "\n",
      "The following object is masked from ‘package:GenomeInfoDb’:\n",
      "\n",
      "    intersect\n",
      "\n",
      "\n",
      "The following objects are masked from ‘package:IRanges’:\n",
      "\n",
      "    collapse, desc, intersect, setdiff, slice, union\n",
      "\n",
      "\n",
      "The following objects are masked from ‘package:S4Vectors’:\n",
      "\n",
      "    first, intersect, rename, setdiff, setequal, union\n",
      "\n",
      "\n",
      "The following objects are masked from ‘package:BiocGenerics’:\n",
      "\n",
      "    combine, intersect, setdiff, union\n",
      "\n",
      "\n",
      "The following objects are masked from ‘package:stats’:\n",
      "\n",
      "    filter, lag\n",
      "\n",
      "\n",
      "The following objects are masked from ‘package:base’:\n",
      "\n",
      "    intersect, setdiff, setequal, union\n",
      "\n",
      "\n",
      "Warning message:\n",
      "“package ‘future’ was built under R version 4.1.3”\n",
      "\n",
      "Attaching package: ‘future’\n",
      "\n",
      "\n",
      "The following object is masked from ‘package:GenomicRanges’:\n",
      "\n",
      "    values\n",
      "\n",
      "\n",
      "The following object is masked from ‘package:S4Vectors’:\n",
      "\n",
      "    values\n",
      "\n",
      "\n",
      "Warning message:\n",
      "“Strategy 'multiprocess' is deprecated in future (>= 1.20.0). Instead, explicitly specify either 'multisession' or 'multicore'. In the current R session, 'multiprocess' equals 'multicore'.”\n"
     ]
    }
   ],
   "source": [
    "library(GenomicRanges)\n",
    "library(Seurat)\n",
    "library(Signac)\n",
    "library(GenomeInfoDb)\n",
    "#library(EnsDb.Hsapiens.v75)\n",
    "library(ggplot2)\n",
    "library(patchwork)\n",
    "set.seed(1234)\n",
    "library(data.table)\n",
    "library(magrittr)\n",
    "library(cowplot)\n",
    "library(metap)\n",
    "library(dplyr)\n",
    "library(future)\n",
    "\n",
    "plan(\"multiprocess\", workers = cores)\n",
    "options(future.globals.maxSize = 8000 * 1024^2)\n",
    "#options(future.globals.maxSize = 50000 * 1024^2) # for 50 Gb RAM\n",
    "#plan(\"multiprocess\", workers = workers)"
   ]
  },
  {
   "cell_type": "markdown",
   "id": "a53a3256",
   "metadata": {},
   "source": [
    "## Merge all peaks"
   ]
  },
  {
   "cell_type": "code",
   "execution_count": 8,
   "id": "10de0c31",
   "metadata": {
    "scrolled": true
   },
   "outputs": [
    {
     "name": "stderr",
     "output_type": "stream",
     "text": [
      "\u001b[1mRows: \u001b[22m\u001b[34m2\u001b[39m \u001b[1mColumns: \u001b[22m\u001b[34m5\u001b[39m\n",
      "\u001b[36m──\u001b[39m \u001b[1mColumn specification\u001b[22m \u001b[36m───────────────────────────────────────────────────────────────────────────────────────────────────────────────────────────────────────────────────────────────────────────────────\u001b[39m\n",
      "\u001b[1mDelimiter:\u001b[22m \",\"\n",
      "\u001b[31mchr\u001b[39m (5): sample_name, cellr_ID, fastq_ID, barcode_f, bam_f\n",
      "\n",
      "\u001b[36mℹ\u001b[39m Use `spec()` to retrieve the full column specification for this data.\n",
      "\u001b[36mℹ\u001b[39m Specify the column types or set `show_col_types = FALSE` to quiet this message.\n"
     ]
    },
    {
     "name": "stdout",
     "output_type": "stream",
     "text": [
      "\u001b[90m# A tibble: 2 × 5\u001b[39m\n",
      "  sample_name cellr_ID fastq_ID             barcode_f                      bam_f\n",
      "  \u001b[3m\u001b[90m<chr>\u001b[39m\u001b[23m       \u001b[3m\u001b[90m<chr>\u001b[39m\u001b[23m    \u001b[3m\u001b[90m<chr>\u001b[39m\u001b[23m                \u001b[3m\u001b[90m<chr>\u001b[39m\u001b[23m                          \u001b[3m\u001b[90m<chr>\u001b[39m\u001b[23m\n",
      "\u001b[90m1\u001b[39m Flt3l       Flt3l    BC_10xATAC_rxn1b_pos /home/isaac/lewis/mito_lineag… /hom…\n",
      "\u001b[90m2\u001b[39m Input       Input    BC_10xATAC_rxn1      /home/isaac/lewis/mito_lineag… /hom…\n",
      "[1] \"curr.samp\"\n",
      "[1] \"/home/isaac/lewis/mito_lineage/output/mtscATAC/data/CHIP_dec172021_b1/MTBlacklist_A2/Flt3l/outs/filtered_peak_bc_matrix/barcodes.tsv\"\n",
      "[1] \"/home/isaac/lewis/mito_lineage/output/mtscATAC/data/CHIP_dec172021_b1/MTBlacklist_A2/Flt3l/outs/filtered_peak_bc_matrix/peaks.bed\"\n",
      "[1] \"curr.samp\"\n",
      "[1] \"/home/isaac/lewis/mito_lineage/output/mtscATAC/data/CHIP_dec172021_b1/MTBlacklist_A2/Input/outs/filtered_peak_bc_matrix/barcodes.tsv\"\n",
      "[1] \"/home/isaac/lewis/mito_lineage/output/mtscATAC/data/CHIP_dec172021_b1/MTBlacklist_A2/Input/outs/filtered_peak_bc_matrix/peaks.bed\"\n"
     ]
    },
    {
     "name": "stderr",
     "output_type": "stream",
     "text": [
      "\u001b[1mRows: \u001b[22m\u001b[34m1\u001b[39m \u001b[1mColumns: \u001b[22m\u001b[34m5\u001b[39m\n",
      "\u001b[36m──\u001b[39m \u001b[1mColumn specification\u001b[22m \u001b[36m───────────────────────────────────────────────────────────────────────────────────────────────────────────────────────────────────────────────────────────────────────────────────\u001b[39m\n",
      "\u001b[1mDelimiter:\u001b[22m \",\"\n",
      "\u001b[31mchr\u001b[39m (5): sample_name, cellr_ID, fastq_ID, barcode_f, bam_f\n",
      "\n",
      "\u001b[36mℹ\u001b[39m Use `spec()` to retrieve the full column specification for this data.\n",
      "\u001b[36mℹ\u001b[39m Specify the column types or set `show_col_types = FALSE` to quiet this message.\n"
     ]
    },
    {
     "name": "stdout",
     "output_type": "stream",
     "text": [
      "\u001b[90m# A tibble: 1 × 5\u001b[39m\n",
      "  sample_name cellr_ID fastq_ID        barcode_f                           bam_f\n",
      "  \u001b[3m\u001b[90m<chr>\u001b[39m\u001b[23m       \u001b[3m\u001b[90m<chr>\u001b[39m\u001b[23m    \u001b[3m\u001b[90m<chr>\u001b[39m\u001b[23m           \u001b[3m\u001b[90m<chr>\u001b[39m\u001b[23m                               \u001b[3m\u001b[90m<chr>\u001b[39m\u001b[23m\n",
      "\u001b[90m1\u001b[39m Input       Input    BC_10xATAC_rxn2 /home/isaac/lewis/mito_lineage/out… /hom…\n",
      "[1] \"curr.samp\"\n",
      "[1] \"/home/isaac/lewis/mito_lineage/output/mtscATAC/data/CHIP_dec172021_b2/MTBlacklist_A2/Input/outs/filtered_peak_bc_matrix/barcodes.tsv\"\n",
      "[1] \"/home/isaac/lewis/mito_lineage/output/mtscATAC/data/CHIP_dec172021_b2/MTBlacklist_A2/Input/outs/filtered_peak_bc_matrix/peaks.bed\"\n"
     ]
    },
    {
     "name": "stderr",
     "output_type": "stream",
     "text": [
      "\u001b[1mRows: \u001b[22m\u001b[34m1\u001b[39m \u001b[1mColumns: \u001b[22m\u001b[34m5\u001b[39m\n",
      "\u001b[36m──\u001b[39m \u001b[1mColumn specification\u001b[22m \u001b[36m───────────────────────────────────────────────────────────────────────────────────────────────────────────────────────────────────────────────────────────────────────────────────\u001b[39m\n",
      "\u001b[1mDelimiter:\u001b[22m \",\"\n",
      "\u001b[31mchr\u001b[39m (5): sample_name, cellr_ID, fastq_ID, barcode_f, bam_f\n",
      "\n",
      "\u001b[36mℹ\u001b[39m Use `spec()` to retrieve the full column specification for this data.\n",
      "\u001b[36mℹ\u001b[39m Specify the column types or set `show_col_types = FALSE` to quiet this message.\n"
     ]
    },
    {
     "name": "stdout",
     "output_type": "stream",
     "text": [
      "\u001b[90m# A tibble: 1 × 5\u001b[39m\n",
      "  sample_name cellr_ID fastq_ID      barcode_f                             bam_f\n",
      "  \u001b[3m\u001b[90m<chr>\u001b[39m\u001b[23m       \u001b[3m\u001b[90m<chr>\u001b[39m\u001b[23m    \u001b[3m\u001b[90m<chr>\u001b[39m\u001b[23m         \u001b[3m\u001b[90m<chr>\u001b[39m\u001b[23m                                 \u001b[3m\u001b[90m<chr>\u001b[39m\u001b[23m\n",
      "\u001b[90m1\u001b[39m Flt3l       J2       BC_10xATAC_J2 /home/isaac/lewis/mito_lineage/outpu… /hom…\n",
      "[1] \"curr.samp\"\n",
      "[1] \"/home/isaac/lewis/mito_lineage/output/mtscATAC/data/jan21_2021/MTblacklist/J2/outs/filtered_peak_bc_matrix/barcodes.tsv\"\n",
      "[1] \"/home/isaac/lewis/mito_lineage/output/mtscATAC/data/jan21_2021/MTblacklist/J2/outs/filtered_peak_bc_matrix/peaks.bed\"\n"
     ]
    }
   ],
   "source": [
    "read.peaks <- function(curr.samp.f){\n",
    "    print('curr.samp')\n",
    "    print(curr.samp.f)\n",
    "    print(stringr::str_replace(curr.samp.f, \"barcodes.tsv\", \"peaks.bed\"))\n",
    "    peaks <- read.table(\n",
    "      file = stringr::str_replace(curr.samp.f, \"barcodes.tsv\", \"peaks.bed\"),\n",
    "      col.names = c(\"chr\", \"start\", \"end\")\n",
    "    )\n",
    "    # convert to genomic ranges\n",
    "    gr <- makeGRangesFromDataFrame(peaks)\n",
    "    return(gr)\n",
    "}\n",
    "\n",
    "\n",
    "run.experiments <- function(sample_csv){\n",
    "    curr.csv <- readr::read_csv(sample_csv)\n",
    "    print(curr.csv)\n",
    "    curr.grs <- sapply(curr.csv$barcode_f, read.peaks)\n",
    "    return(curr.grs)\n",
    "}\n",
    "\n",
    "gr.full <- sapply(samps, run.experiments)\n"
   ]
  },
  {
   "cell_type": "code",
   "execution_count": 9,
   "id": "2d99e4d6",
   "metadata": {
    "scrolled": true
   },
   "outputs": [
    {
     "data": {
      "text/plain": [
       "[[1]]\n",
       "GRanges object with 166097 ranges and 0 metadata columns:\n",
       "           seqnames            ranges strand\n",
       "              <Rle>         <IRanges>  <Rle>\n",
       "       [1]     chr1        9866-10638      *\n",
       "       [2]     chr1     180724-181039      *\n",
       "       [3]     chr1     191222-191970      *\n",
       "       [4]     chr1     267781-268267      *\n",
       "       [5]     chr1     271046-271568      *\n",
       "       ...      ...               ...    ...\n",
       "  [166093]     chrY 56763256-56763795      *\n",
       "  [166094]     chrY 56826222-56826788      *\n",
       "  [166095]     chrY 56829068-56840725      *\n",
       "  [166096]     chrY 56841310-56842620      *\n",
       "  [166097]     chrY 56843438-56851611      *\n",
       "  -------\n",
       "  seqinfo: 24 sequences from an unspecified genome; no seqlengths\n",
       "\n",
       "[[2]]\n",
       "GRanges object with 168267 ranges and 0 metadata columns:\n",
       "           seqnames            ranges strand\n",
       "              <Rle>         <IRanges>  <Rle>\n",
       "       [1]     chr1        9975-10498      *\n",
       "       [2]     chr1       16106-16366      *\n",
       "       [3]     chr1     180917-181403      *\n",
       "       [4]     chr1     184126-184527      *\n",
       "       [5]     chr1     191059-192097      *\n",
       "       ...      ...               ...    ...\n",
       "  [168263]     chrY 56842202-56842607      *\n",
       "  [168264]     chrY 56843431-56845155      *\n",
       "  [168265]     chrY 56846249-56847133      *\n",
       "  [168266]     chrY 56849352-56849907      *\n",
       "  [168267]     chrY 56850419-56850755      *\n",
       "  -------\n",
       "  seqinfo: 24 sequences from an unspecified genome; no seqlengths\n",
       "\n",
       "[[3]]\n",
       "GRanges object with 95583 ranges and 0 metadata columns:\n",
       "          seqnames            ranges strand\n",
       "             <Rle>         <IRanges>  <Rle>\n",
       "      [1]     chr1       10140-10321      *\n",
       "      [2]     chr1     191428-191697      *\n",
       "      [3]     chr1     267866-268171      *\n",
       "      [4]     chr1     605425-605747      *\n",
       "      [5]     chr1     778220-779295      *\n",
       "      ...      ...               ...    ...\n",
       "  [95579]     chrY 56863422-56863474      *\n",
       "  [95580]     chrY 56867688-56868010      *\n",
       "  [95581]     chrY 56868863-56871249      *\n",
       "  [95582]     chrY 56872060-56873139      *\n",
       "  [95583]     chrY 56873647-56874595      *\n",
       "  -------\n",
       "  seqinfo: 24 sequences from an unspecified genome; no seqlengths\n",
       "\n",
       "[[4]]\n",
       "GRanges object with 144404 ranges and 0 metadata columns:\n",
       "           seqnames            ranges strand\n",
       "              <Rle>         <IRanges>  <Rle>\n",
       "       [1]     chr1       10009-10364      *\n",
       "       [2]     chr1     191685-191736      *\n",
       "       [3]     chr1     267780-268257      *\n",
       "       [4]     chr1     271072-271548      *\n",
       "       [5]     chr1     585995-586411      *\n",
       "       ...      ...               ...    ...\n",
       "  [144400]     chrY 56843535-56844006      *\n",
       "  [144401]     chrY 56844769-56845155      *\n",
       "  [144402]     chrY 56846033-56848638      *\n",
       "  [144403]     chrY 56849234-56851581      *\n",
       "  [144404]     chrY 56873757-56874037      *\n",
       "  -------\n",
       "  seqinfo: 24 sequences from an unspecified genome; no seqlengths\n"
      ]
     },
     "metadata": {},
     "output_type": "display_data"
    }
   ],
   "source": [
    "gr.full <- unlist(gr.full, recursive=FALSE, use.names=FALSE)\n",
    "gr.full"
   ]
  },
  {
   "cell_type": "code",
   "execution_count": 10,
   "id": "62849b8a",
   "metadata": {
    "scrolled": true
   },
   "outputs": [
    {
     "data": {
      "text/plain": [
       "GRanges object with 6 ranges and 0 metadata columns:\n",
       "      seqnames        ranges strand\n",
       "         <Rle>     <IRanges>  <Rle>\n",
       "  [1]     chr1    9866-10638      *\n",
       "  [2]     chr1   16106-16366      *\n",
       "  [3]     chr1 180724-181403      *\n",
       "  [4]     chr1 184126-184527      *\n",
       "  [5]     chr1 191059-192097      *\n",
       "  [6]     chr1 267765-268275      *\n",
       "  -------\n",
       "  seqinfo: 24 sequences from an unspecified genome; no seqlengths"
      ]
     },
     "metadata": {},
     "output_type": "display_data"
    }
   ],
   "source": [
    "gr.full.c <- gr.full[[1]]\n",
    "if (length(gr.full)>1){\n",
    "    for (i in 2:length(gr.full)){\n",
    "      gr.full.c <- c(gr.full.c, gr.full[[i]])\n",
    "    }\n",
    "}\n",
    "combined.peaks <- reduce(x = c(gr.full.c))\n",
    "\n",
    "# Filter out bad peaks based on length\n",
    "peakwidths <- width(combined.peaks)\n",
    "combined.peaks <- combined.peaks[peakwidths  < 10000 & peakwidths > 20]\n",
    "head(combined.peaks)"
   ]
  },
  {
   "cell_type": "code",
   "execution_count": 11,
   "id": "b933b0c8",
   "metadata": {},
   "outputs": [
    {
     "data": {
      "text/html": [
       "204061"
      ],
      "text/latex": [
       "204061"
      ],
      "text/markdown": [
       "204061"
      ],
      "text/plain": [
       "[1] 204061"
      ]
     },
     "metadata": {},
     "output_type": "display_data"
    }
   ],
   "source": [
    "length(combined.peaks)"
   ]
  },
  {
   "cell_type": "markdown",
   "id": "f9242485",
   "metadata": {},
   "source": [
    "## Are any peaks in the chrM"
   ]
  },
  {
   "cell_type": "code",
   "execution_count": 12,
   "id": "29cf7790",
   "metadata": {},
   "outputs": [
    {
     "data": {
      "text/html": [
       "204061"
      ],
      "text/latex": [
       "204061"
      ],
      "text/markdown": [
       "204061"
      ],
      "text/plain": [
       "[1] 204061"
      ]
     },
     "metadata": {},
     "output_type": "display_data"
    }
   ],
   "source": [
    "length(combined.peaks[seqnames(combined.peaks) != \"chrM\"])\n"
   ]
  },
  {
   "cell_type": "code",
   "execution_count": 13,
   "id": "27d61bd3",
   "metadata": {
    "scrolled": false
   },
   "outputs": [
    {
     "data": {
      "text/plain": [
       "GRanges object with 19141 ranges and 0 metadata columns:\n",
       "          seqnames              ranges strand\n",
       "             <Rle>           <IRanges>  <Rle>\n",
       "      [1]     chr1          9866-10638      *\n",
       "      [2]     chr1         16106-16366      *\n",
       "      [3]     chr1       180724-181403      *\n",
       "      [4]     chr1       184126-184527      *\n",
       "      [5]     chr1       191059-192097      *\n",
       "      ...      ...                 ...    ...\n",
       "  [19137]     chr1 248913003-248913478      *\n",
       "  [19138]     chr1 248920611-248920967      *\n",
       "  [19139]     chr1 248924437-248928616      *\n",
       "  [19140]     chr1 248930024-248930301      *\n",
       "  [19141]     chr1 248945754-248946299      *\n",
       "  -------\n",
       "  seqinfo: 24 sequences from an unspecified genome; no seqlengths"
      ]
     },
     "metadata": {},
     "output_type": "display_data"
    }
   ],
   "source": [
    "#combined.peaks[seqnames(combined.peaks) == \"chrM\"]\n",
    "\n",
    "combined.peaks[seqnames(combined.peaks) == \"chr1\"]\n"
   ]
  },
  {
   "cell_type": "markdown",
   "id": "fa630e1c",
   "metadata": {},
   "source": [
    "## Remove any peaks in the chrM"
   ]
  },
  {
   "cell_type": "code",
   "execution_count": 14,
   "id": "cb249d4a",
   "metadata": {},
   "outputs": [
    {
     "data": {
      "text/html": [
       "204061"
      ],
      "text/latex": [
       "204061"
      ],
      "text/markdown": [
       "204061"
      ],
      "text/plain": [
       "[1] 204061"
      ]
     },
     "metadata": {},
     "output_type": "display_data"
    }
   ],
   "source": [
    "combined.peaks = combined.peaks[seqnames(combined.peaks) != \"chrM\"]\n",
    "length(combined.peaks)"
   ]
  },
  {
   "cell_type": "markdown",
   "id": "7fe40d79",
   "metadata": {},
   "source": [
    "## Save merged peaks as bed"
   ]
  },
  {
   "cell_type": "code",
   "execution_count": 15,
   "id": "b6225d8c",
   "metadata": {},
   "outputs": [],
   "source": [
    "gr <- unlist(as(gr.full, \"GRangesList\"))"
   ]
  },
  {
   "cell_type": "code",
   "execution_count": 16,
   "id": "dae23bef",
   "metadata": {
    "scrolled": true
   },
   "outputs": [
    {
     "data": {
      "text/html": [
       "<table class=\"dataframe\">\n",
       "<caption>A data.frame: 574351 × 6</caption>\n",
       "<thead>\n",
       "\t<tr><th scope=col>seqnames</th><th scope=col>starts</th><th scope=col>ends</th><th scope=col>names</th><th scope=col>scores</th><th scope=col>strands</th></tr>\n",
       "\t<tr><th scope=col>&lt;fct&gt;</th><th scope=col>&lt;int&gt;</th><th scope=col>&lt;int&gt;</th><th scope=col>&lt;int&gt;</th><th scope=col>&lt;chr&gt;</th><th scope=col>&lt;fct&gt;</th></tr>\n",
       "</thead>\n",
       "<tbody>\n",
       "\t<tr><td>chr1</td><td>  9865</td><td> 10638</td><td> 1</td><td>.</td><td>*</td></tr>\n",
       "\t<tr><td>chr1</td><td>180723</td><td>181039</td><td> 2</td><td>.</td><td>*</td></tr>\n",
       "\t<tr><td>chr1</td><td>191221</td><td>191970</td><td> 3</td><td>.</td><td>*</td></tr>\n",
       "\t<tr><td>chr1</td><td>267780</td><td>268267</td><td> 4</td><td>.</td><td>*</td></tr>\n",
       "\t<tr><td>chr1</td><td>271045</td><td>271568</td><td> 5</td><td>.</td><td>*</td></tr>\n",
       "\t<tr><td>chr1</td><td>274281</td><td>274375</td><td> 6</td><td>.</td><td>*</td></tr>\n",
       "\t<tr><td>chr1</td><td>585966</td><td>586417</td><td> 7</td><td>.</td><td>*</td></tr>\n",
       "\t<tr><td>chr1</td><td>605241</td><td>605783</td><td> 8</td><td>.</td><td>*</td></tr>\n",
       "\t<tr><td>chr1</td><td>778170</td><td>779954</td><td> 9</td><td>.</td><td>*</td></tr>\n",
       "\t<tr><td>chr1</td><td>812745</td><td>813016</td><td>10</td><td>.</td><td>*</td></tr>\n",
       "\t<tr><td>chr1</td><td>816216</td><td>817648</td><td>11</td><td>.</td><td>*</td></tr>\n",
       "\t<tr><td>chr1</td><td>819805</td><td>819817</td><td>12</td><td>.</td><td>*</td></tr>\n",
       "\t<tr><td>chr1</td><td>825166</td><td>825726</td><td>13</td><td>.</td><td>*</td></tr>\n",
       "\t<tr><td>chr1</td><td>826698</td><td>827961</td><td>14</td><td>.</td><td>*</td></tr>\n",
       "\t<tr><td>chr1</td><td>838166</td><td>838792</td><td>15</td><td>.</td><td>*</td></tr>\n",
       "\t<tr><td>chr1</td><td>842834</td><td>843100</td><td>16</td><td>.</td><td>*</td></tr>\n",
       "\t<tr><td>chr1</td><td>858129</td><td>858369</td><td>17</td><td>.</td><td>*</td></tr>\n",
       "\t<tr><td>chr1</td><td>867538</td><td>867888</td><td>18</td><td>.</td><td>*</td></tr>\n",
       "\t<tr><td>chr1</td><td>869650</td><td>870348</td><td>19</td><td>.</td><td>*</td></tr>\n",
       "\t<tr><td>chr1</td><td>890691</td><td>890897</td><td>20</td><td>.</td><td>*</td></tr>\n",
       "\t<tr><td>chr1</td><td>897238</td><td>897812</td><td>21</td><td>.</td><td>*</td></tr>\n",
       "\t<tr><td>chr1</td><td>898574</td><td>898944</td><td>22</td><td>.</td><td>*</td></tr>\n",
       "\t<tr><td>chr1</td><td>904324</td><td>905709</td><td>23</td><td>.</td><td>*</td></tr>\n",
       "\t<tr><td>chr1</td><td>906263</td><td>907533</td><td>24</td><td>.</td><td>*</td></tr>\n",
       "\t<tr><td>chr1</td><td>910952</td><td>913260</td><td>25</td><td>.</td><td>*</td></tr>\n",
       "\t<tr><td>chr1</td><td>915780</td><td>915947</td><td>26</td><td>.</td><td>*</td></tr>\n",
       "\t<tr><td>chr1</td><td>916574</td><td>917126</td><td>27</td><td>.</td><td>*</td></tr>\n",
       "\t<tr><td>chr1</td><td>920656</td><td>921532</td><td>28</td><td>.</td><td>*</td></tr>\n",
       "\t<tr><td>chr1</td><td>922862</td><td>924103</td><td>29</td><td>.</td><td>*</td></tr>\n",
       "\t<tr><td>chr1</td><td>924675</td><td>926050</td><td>30</td><td>.</td><td>*</td></tr>\n",
       "\t<tr><td>⋮</td><td>⋮</td><td>⋮</td><td>⋮</td><td>⋮</td><td>⋮</td></tr>\n",
       "\t<tr><td>chrY</td><td>21073588</td><td>21074201</td><td>574322</td><td>.</td><td>*</td></tr>\n",
       "\t<tr><td>chrY</td><td>21121103</td><td>21121268</td><td>574323</td><td>.</td><td>*</td></tr>\n",
       "\t<tr><td>chrY</td><td>21138351</td><td>21138610</td><td>574324</td><td>.</td><td>*</td></tr>\n",
       "\t<tr><td>chrY</td><td>21169851</td><td>21170017</td><td>574325</td><td>.</td><td>*</td></tr>\n",
       "\t<tr><td>chrY</td><td>21174587</td><td>21175410</td><td>574326</td><td>.</td><td>*</td></tr>\n",
       "\t<tr><td>chrY</td><td>21177218</td><td>21177754</td><td>574327</td><td>.</td><td>*</td></tr>\n",
       "\t<tr><td>chrY</td><td>21185378</td><td>21185381</td><td>574328</td><td>.</td><td>*</td></tr>\n",
       "\t<tr><td>chrY</td><td>21192736</td><td>21193167</td><td>574329</td><td>.</td><td>*</td></tr>\n",
       "\t<tr><td>chrY</td><td>21200284</td><td>21200698</td><td>574330</td><td>.</td><td>*</td></tr>\n",
       "\t<tr><td>chrY</td><td>21239830</td><td>21241422</td><td>574331</td><td>.</td><td>*</td></tr>\n",
       "\t<tr><td>chrY</td><td>21249466</td><td>21249969</td><td>574332</td><td>.</td><td>*</td></tr>\n",
       "\t<tr><td>chrY</td><td>21256823</td><td>21257220</td><td>574333</td><td>.</td><td>*</td></tr>\n",
       "\t<tr><td>chrY</td><td>21260332</td><td>21260717</td><td>574334</td><td>.</td><td>*</td></tr>\n",
       "\t<tr><td>chrY</td><td>21295395</td><td>21295420</td><td>574335</td><td>.</td><td>*</td></tr>\n",
       "\t<tr><td>chrY</td><td>21422192</td><td>21422563</td><td>574336</td><td>.</td><td>*</td></tr>\n",
       "\t<tr><td>chrY</td><td>21440579</td><td>21440875</td><td>574337</td><td>.</td><td>*</td></tr>\n",
       "\t<tr><td>chrY</td><td>26670186</td><td>26671904</td><td>574338</td><td>.</td><td>*</td></tr>\n",
       "\t<tr><td>chrY</td><td>56685327</td><td>56685820</td><td>574339</td><td>.</td><td>*</td></tr>\n",
       "\t<tr><td>chrY</td><td>56706937</td><td>56707463</td><td>574340</td><td>.</td><td>*</td></tr>\n",
       "\t<tr><td>chrY</td><td>56727997</td><td>56728322</td><td>574341</td><td>.</td><td>*</td></tr>\n",
       "\t<tr><td>chrY</td><td>56734606</td><td>56734971</td><td>574342</td><td>.</td><td>*</td></tr>\n",
       "\t<tr><td>chrY</td><td>56763265</td><td>56763783</td><td>574343</td><td>.</td><td>*</td></tr>\n",
       "\t<tr><td>chrY</td><td>56826520</td><td>56826658</td><td>574344</td><td>.</td><td>*</td></tr>\n",
       "\t<tr><td>chrY</td><td>56829117</td><td>56840260</td><td>574345</td><td>.</td><td>*</td></tr>\n",
       "\t<tr><td>chrY</td><td>56841414</td><td>56842686</td><td>574346</td><td>.</td><td>*</td></tr>\n",
       "\t<tr><td>chrY</td><td>56843534</td><td>56844006</td><td>574347</td><td>.</td><td>*</td></tr>\n",
       "\t<tr><td>chrY</td><td>56844768</td><td>56845155</td><td>574348</td><td>.</td><td>*</td></tr>\n",
       "\t<tr><td>chrY</td><td>56846032</td><td>56848638</td><td>574349</td><td>.</td><td>*</td></tr>\n",
       "\t<tr><td>chrY</td><td>56849233</td><td>56851581</td><td>574350</td><td>.</td><td>*</td></tr>\n",
       "\t<tr><td>chrY</td><td>56873756</td><td>56874037</td><td>574351</td><td>.</td><td>*</td></tr>\n",
       "</tbody>\n",
       "</table>\n"
      ],
      "text/latex": [
       "A data.frame: 574351 × 6\n",
       "\\begin{tabular}{llllll}\n",
       " seqnames & starts & ends & names & scores & strands\\\\\n",
       " <fct> & <int> & <int> & <int> & <chr> & <fct>\\\\\n",
       "\\hline\n",
       "\t chr1 &   9865 &  10638 &  1 & . & *\\\\\n",
       "\t chr1 & 180723 & 181039 &  2 & . & *\\\\\n",
       "\t chr1 & 191221 & 191970 &  3 & . & *\\\\\n",
       "\t chr1 & 267780 & 268267 &  4 & . & *\\\\\n",
       "\t chr1 & 271045 & 271568 &  5 & . & *\\\\\n",
       "\t chr1 & 274281 & 274375 &  6 & . & *\\\\\n",
       "\t chr1 & 585966 & 586417 &  7 & . & *\\\\\n",
       "\t chr1 & 605241 & 605783 &  8 & . & *\\\\\n",
       "\t chr1 & 778170 & 779954 &  9 & . & *\\\\\n",
       "\t chr1 & 812745 & 813016 & 10 & . & *\\\\\n",
       "\t chr1 & 816216 & 817648 & 11 & . & *\\\\\n",
       "\t chr1 & 819805 & 819817 & 12 & . & *\\\\\n",
       "\t chr1 & 825166 & 825726 & 13 & . & *\\\\\n",
       "\t chr1 & 826698 & 827961 & 14 & . & *\\\\\n",
       "\t chr1 & 838166 & 838792 & 15 & . & *\\\\\n",
       "\t chr1 & 842834 & 843100 & 16 & . & *\\\\\n",
       "\t chr1 & 858129 & 858369 & 17 & . & *\\\\\n",
       "\t chr1 & 867538 & 867888 & 18 & . & *\\\\\n",
       "\t chr1 & 869650 & 870348 & 19 & . & *\\\\\n",
       "\t chr1 & 890691 & 890897 & 20 & . & *\\\\\n",
       "\t chr1 & 897238 & 897812 & 21 & . & *\\\\\n",
       "\t chr1 & 898574 & 898944 & 22 & . & *\\\\\n",
       "\t chr1 & 904324 & 905709 & 23 & . & *\\\\\n",
       "\t chr1 & 906263 & 907533 & 24 & . & *\\\\\n",
       "\t chr1 & 910952 & 913260 & 25 & . & *\\\\\n",
       "\t chr1 & 915780 & 915947 & 26 & . & *\\\\\n",
       "\t chr1 & 916574 & 917126 & 27 & . & *\\\\\n",
       "\t chr1 & 920656 & 921532 & 28 & . & *\\\\\n",
       "\t chr1 & 922862 & 924103 & 29 & . & *\\\\\n",
       "\t chr1 & 924675 & 926050 & 30 & . & *\\\\\n",
       "\t ⋮ & ⋮ & ⋮ & ⋮ & ⋮ & ⋮\\\\\n",
       "\t chrY & 21073588 & 21074201 & 574322 & . & *\\\\\n",
       "\t chrY & 21121103 & 21121268 & 574323 & . & *\\\\\n",
       "\t chrY & 21138351 & 21138610 & 574324 & . & *\\\\\n",
       "\t chrY & 21169851 & 21170017 & 574325 & . & *\\\\\n",
       "\t chrY & 21174587 & 21175410 & 574326 & . & *\\\\\n",
       "\t chrY & 21177218 & 21177754 & 574327 & . & *\\\\\n",
       "\t chrY & 21185378 & 21185381 & 574328 & . & *\\\\\n",
       "\t chrY & 21192736 & 21193167 & 574329 & . & *\\\\\n",
       "\t chrY & 21200284 & 21200698 & 574330 & . & *\\\\\n",
       "\t chrY & 21239830 & 21241422 & 574331 & . & *\\\\\n",
       "\t chrY & 21249466 & 21249969 & 574332 & . & *\\\\\n",
       "\t chrY & 21256823 & 21257220 & 574333 & . & *\\\\\n",
       "\t chrY & 21260332 & 21260717 & 574334 & . & *\\\\\n",
       "\t chrY & 21295395 & 21295420 & 574335 & . & *\\\\\n",
       "\t chrY & 21422192 & 21422563 & 574336 & . & *\\\\\n",
       "\t chrY & 21440579 & 21440875 & 574337 & . & *\\\\\n",
       "\t chrY & 26670186 & 26671904 & 574338 & . & *\\\\\n",
       "\t chrY & 56685327 & 56685820 & 574339 & . & *\\\\\n",
       "\t chrY & 56706937 & 56707463 & 574340 & . & *\\\\\n",
       "\t chrY & 56727997 & 56728322 & 574341 & . & *\\\\\n",
       "\t chrY & 56734606 & 56734971 & 574342 & . & *\\\\\n",
       "\t chrY & 56763265 & 56763783 & 574343 & . & *\\\\\n",
       "\t chrY & 56826520 & 56826658 & 574344 & . & *\\\\\n",
       "\t chrY & 56829117 & 56840260 & 574345 & . & *\\\\\n",
       "\t chrY & 56841414 & 56842686 & 574346 & . & *\\\\\n",
       "\t chrY & 56843534 & 56844006 & 574347 & . & *\\\\\n",
       "\t chrY & 56844768 & 56845155 & 574348 & . & *\\\\\n",
       "\t chrY & 56846032 & 56848638 & 574349 & . & *\\\\\n",
       "\t chrY & 56849233 & 56851581 & 574350 & . & *\\\\\n",
       "\t chrY & 56873756 & 56874037 & 574351 & . & *\\\\\n",
       "\\end{tabular}\n"
      ],
      "text/markdown": [
       "\n",
       "A data.frame: 574351 × 6\n",
       "\n",
       "| seqnames &lt;fct&gt; | starts &lt;int&gt; | ends &lt;int&gt; | names &lt;int&gt; | scores &lt;chr&gt; | strands &lt;fct&gt; |\n",
       "|---|---|---|---|---|---|\n",
       "| chr1 |   9865 |  10638 |  1 | . | * |\n",
       "| chr1 | 180723 | 181039 |  2 | . | * |\n",
       "| chr1 | 191221 | 191970 |  3 | . | * |\n",
       "| chr1 | 267780 | 268267 |  4 | . | * |\n",
       "| chr1 | 271045 | 271568 |  5 | . | * |\n",
       "| chr1 | 274281 | 274375 |  6 | . | * |\n",
       "| chr1 | 585966 | 586417 |  7 | . | * |\n",
       "| chr1 | 605241 | 605783 |  8 | . | * |\n",
       "| chr1 | 778170 | 779954 |  9 | . | * |\n",
       "| chr1 | 812745 | 813016 | 10 | . | * |\n",
       "| chr1 | 816216 | 817648 | 11 | . | * |\n",
       "| chr1 | 819805 | 819817 | 12 | . | * |\n",
       "| chr1 | 825166 | 825726 | 13 | . | * |\n",
       "| chr1 | 826698 | 827961 | 14 | . | * |\n",
       "| chr1 | 838166 | 838792 | 15 | . | * |\n",
       "| chr1 | 842834 | 843100 | 16 | . | * |\n",
       "| chr1 | 858129 | 858369 | 17 | . | * |\n",
       "| chr1 | 867538 | 867888 | 18 | . | * |\n",
       "| chr1 | 869650 | 870348 | 19 | . | * |\n",
       "| chr1 | 890691 | 890897 | 20 | . | * |\n",
       "| chr1 | 897238 | 897812 | 21 | . | * |\n",
       "| chr1 | 898574 | 898944 | 22 | . | * |\n",
       "| chr1 | 904324 | 905709 | 23 | . | * |\n",
       "| chr1 | 906263 | 907533 | 24 | . | * |\n",
       "| chr1 | 910952 | 913260 | 25 | . | * |\n",
       "| chr1 | 915780 | 915947 | 26 | . | * |\n",
       "| chr1 | 916574 | 917126 | 27 | . | * |\n",
       "| chr1 | 920656 | 921532 | 28 | . | * |\n",
       "| chr1 | 922862 | 924103 | 29 | . | * |\n",
       "| chr1 | 924675 | 926050 | 30 | . | * |\n",
       "| ⋮ | ⋮ | ⋮ | ⋮ | ⋮ | ⋮ |\n",
       "| chrY | 21073588 | 21074201 | 574322 | . | * |\n",
       "| chrY | 21121103 | 21121268 | 574323 | . | * |\n",
       "| chrY | 21138351 | 21138610 | 574324 | . | * |\n",
       "| chrY | 21169851 | 21170017 | 574325 | . | * |\n",
       "| chrY | 21174587 | 21175410 | 574326 | . | * |\n",
       "| chrY | 21177218 | 21177754 | 574327 | . | * |\n",
       "| chrY | 21185378 | 21185381 | 574328 | . | * |\n",
       "| chrY | 21192736 | 21193167 | 574329 | . | * |\n",
       "| chrY | 21200284 | 21200698 | 574330 | . | * |\n",
       "| chrY | 21239830 | 21241422 | 574331 | . | * |\n",
       "| chrY | 21249466 | 21249969 | 574332 | . | * |\n",
       "| chrY | 21256823 | 21257220 | 574333 | . | * |\n",
       "| chrY | 21260332 | 21260717 | 574334 | . | * |\n",
       "| chrY | 21295395 | 21295420 | 574335 | . | * |\n",
       "| chrY | 21422192 | 21422563 | 574336 | . | * |\n",
       "| chrY | 21440579 | 21440875 | 574337 | . | * |\n",
       "| chrY | 26670186 | 26671904 | 574338 | . | * |\n",
       "| chrY | 56685327 | 56685820 | 574339 | . | * |\n",
       "| chrY | 56706937 | 56707463 | 574340 | . | * |\n",
       "| chrY | 56727997 | 56728322 | 574341 | . | * |\n",
       "| chrY | 56734606 | 56734971 | 574342 | . | * |\n",
       "| chrY | 56763265 | 56763783 | 574343 | . | * |\n",
       "| chrY | 56826520 | 56826658 | 574344 | . | * |\n",
       "| chrY | 56829117 | 56840260 | 574345 | . | * |\n",
       "| chrY | 56841414 | 56842686 | 574346 | . | * |\n",
       "| chrY | 56843534 | 56844006 | 574347 | . | * |\n",
       "| chrY | 56844768 | 56845155 | 574348 | . | * |\n",
       "| chrY | 56846032 | 56848638 | 574349 | . | * |\n",
       "| chrY | 56849233 | 56851581 | 574350 | . | * |\n",
       "| chrY | 56873756 | 56874037 | 574351 | . | * |\n",
       "\n"
      ],
      "text/plain": [
       "       seqnames starts   ends     names  scores strands\n",
       "1      chr1       9865    10638    1     .      *      \n",
       "2      chr1     180723   181039    2     .      *      \n",
       "3      chr1     191221   191970    3     .      *      \n",
       "4      chr1     267780   268267    4     .      *      \n",
       "5      chr1     271045   271568    5     .      *      \n",
       "6      chr1     274281   274375    6     .      *      \n",
       "7      chr1     585966   586417    7     .      *      \n",
       "8      chr1     605241   605783    8     .      *      \n",
       "9      chr1     778170   779954    9     .      *      \n",
       "10     chr1     812745   813016   10     .      *      \n",
       "11     chr1     816216   817648   11     .      *      \n",
       "12     chr1     819805   819817   12     .      *      \n",
       "13     chr1     825166   825726   13     .      *      \n",
       "14     chr1     826698   827961   14     .      *      \n",
       "15     chr1     838166   838792   15     .      *      \n",
       "16     chr1     842834   843100   16     .      *      \n",
       "17     chr1     858129   858369   17     .      *      \n",
       "18     chr1     867538   867888   18     .      *      \n",
       "19     chr1     869650   870348   19     .      *      \n",
       "20     chr1     890691   890897   20     .      *      \n",
       "21     chr1     897238   897812   21     .      *      \n",
       "22     chr1     898574   898944   22     .      *      \n",
       "23     chr1     904324   905709   23     .      *      \n",
       "24     chr1     906263   907533   24     .      *      \n",
       "25     chr1     910952   913260   25     .      *      \n",
       "26     chr1     915780   915947   26     .      *      \n",
       "27     chr1     916574   917126   27     .      *      \n",
       "28     chr1     920656   921532   28     .      *      \n",
       "29     chr1     922862   924103   29     .      *      \n",
       "30     chr1     924675   926050   30     .      *      \n",
       "⋮      ⋮        ⋮        ⋮        ⋮      ⋮      ⋮      \n",
       "574322 chrY     21073588 21074201 574322 .      *      \n",
       "574323 chrY     21121103 21121268 574323 .      *      \n",
       "574324 chrY     21138351 21138610 574324 .      *      \n",
       "574325 chrY     21169851 21170017 574325 .      *      \n",
       "574326 chrY     21174587 21175410 574326 .      *      \n",
       "574327 chrY     21177218 21177754 574327 .      *      \n",
       "574328 chrY     21185378 21185381 574328 .      *      \n",
       "574329 chrY     21192736 21193167 574329 .      *      \n",
       "574330 chrY     21200284 21200698 574330 .      *      \n",
       "574331 chrY     21239830 21241422 574331 .      *      \n",
       "574332 chrY     21249466 21249969 574332 .      *      \n",
       "574333 chrY     21256823 21257220 574333 .      *      \n",
       "574334 chrY     21260332 21260717 574334 .      *      \n",
       "574335 chrY     21295395 21295420 574335 .      *      \n",
       "574336 chrY     21422192 21422563 574336 .      *      \n",
       "574337 chrY     21440579 21440875 574337 .      *      \n",
       "574338 chrY     26670186 26671904 574338 .      *      \n",
       "574339 chrY     56685327 56685820 574339 .      *      \n",
       "574340 chrY     56706937 56707463 574340 .      *      \n",
       "574341 chrY     56727997 56728322 574341 .      *      \n",
       "574342 chrY     56734606 56734971 574342 .      *      \n",
       "574343 chrY     56763265 56763783 574343 .      *      \n",
       "574344 chrY     56826520 56826658 574344 .      *      \n",
       "574345 chrY     56829117 56840260 574345 .      *      \n",
       "574346 chrY     56841414 56842686 574346 .      *      \n",
       "574347 chrY     56843534 56844006 574347 .      *      \n",
       "574348 chrY     56844768 56845155 574348 .      *      \n",
       "574349 chrY     56846032 56848638 574349 .      *      \n",
       "574350 chrY     56849233 56851581 574350 .      *      \n",
       "574351 chrY     56873756 56874037 574351 .      *      "
      ]
     },
     "metadata": {},
     "output_type": "display_data"
    }
   ],
   "source": [
    "df <- data.frame(seqnames=seqnames(gr),\n",
    "  starts=start(gr)-1,\n",
    "  ends=end(gr),\n",
    "  names=tibble::rowid_to_column(as.data.frame(gr), \"names\")$names,\n",
    "  scores=c(rep(\".\", length(gr))),\n",
    "  strands=strand(gr))\n",
    "\n",
    "df = dplyr::mutate_if(df, is.numeric, as.integer)\n",
    "df"
   ]
  },
  {
   "cell_type": "code",
   "execution_count": 19,
   "id": "4adb55b1",
   "metadata": {
    "scrolled": true
   },
   "outputs": [],
   "source": [
    "write.table(df, file=file.path(outdir,\"merged_peaks.bed\"), quote=F, sep=\"\\t\", row.names=F, col.names=F)"
   ]
  },
  {
   "cell_type": "code",
   "execution_count": 20,
   "id": "626a0538",
   "metadata": {
    "scrolled": true
   },
   "outputs": [
    {
     "data": {
      "text/plain": [
       "R version 4.1.1 (2021-08-10)\n",
       "Platform: x86_64-conda-linux-gnu (64-bit)\n",
       "Running under: Ubuntu 20.04.4 LTS\n",
       "\n",
       "Matrix products: default\n",
       "BLAS/LAPACK: /home/isaac/miniconda3/envs/mttrace/lib/libopenblasp-r0.3.20.so\n",
       "\n",
       "locale:\n",
       " [1] LC_CTYPE=en_US.UTF-8       LC_NUMERIC=C              \n",
       " [3] LC_TIME=en_US.UTF-8        LC_COLLATE=en_US.UTF-8    \n",
       " [5] LC_MONETARY=en_US.UTF-8    LC_MESSAGES=en_US.UTF-8   \n",
       " [7] LC_PAPER=en_US.UTF-8       LC_NAME=C                 \n",
       " [9] LC_ADDRESS=C               LC_TELEPHONE=C            \n",
       "[11] LC_MEASUREMENT=en_US.UTF-8 LC_IDENTIFICATION=C       \n",
       "\n",
       "attached base packages:\n",
       "[1] stats4    stats     graphics  grDevices utils     datasets  methods  \n",
       "[8] base     \n",
       "\n",
       "other attached packages:\n",
       " [1] future_1.25.0        dplyr_1.0.9          metap_1.1           \n",
       " [4] cowplot_1.1.1        magrittr_2.0.3       data.table_1.14.2   \n",
       " [7] patchwork_1.1.1      ggplot2_3.3.6        Signac_1.4.0        \n",
       "[10] sp_1.4-7             SeuratObject_4.1.0   Seurat_4.1.0        \n",
       "[13] GenomicRanges_1.46.1 GenomeInfoDb_1.30.1  IRanges_2.28.0      \n",
       "[16] S4Vectors_0.32.3     BiocGenerics_0.40.0  yaml_2.3.5          \n",
       "[19] repr_1.1.4          \n",
       "\n",
       "loaded via a namespace (and not attached):\n",
       "  [1] uuid_1.1-0             fastmatch_1.1-3        plyr_1.8.7            \n",
       "  [4] igraph_1.3.1           lazyeval_0.2.2         splines_4.1.1         \n",
       "  [7] BiocParallel_1.28.3    listenv_0.8.0          scattermore_0.8       \n",
       " [10] SnowballC_0.7.0        digest_0.6.29          htmltools_0.5.2       \n",
       " [13] fansi_1.0.3            tensor_1.5             cluster_2.1.3         \n",
       " [16] ROCR_1.0-11            tzdb_0.3.0             readr_2.1.0           \n",
       " [19] globals_0.14.0         Biostrings_2.62.0      matrixStats_0.62.0    \n",
       " [22] vroom_1.5.7            docopt_0.7.1           spatstat.sparse_2.1-1 \n",
       " [25] colorspace_2.0-3       ggrepel_0.9.1          rbibutils_2.2.8       \n",
       " [28] sparsesvd_0.2          crayon_1.5.1           RCurl_1.98-1.6        \n",
       " [31] jsonlite_1.8.0         progressr_0.10.0       spatstat.data_2.2-0   \n",
       " [34] survival_3.3-1         zoo_1.8-10             glue_1.6.2            \n",
       " [37] polyclip_1.10-0        gtable_0.3.0           zlibbioc_1.40.0       \n",
       " [40] XVector_0.34.0         leiden_0.3.10          future.apply_1.9.0    \n",
       " [43] abind_1.4-5            scales_1.2.0           DBI_1.1.2             \n",
       " [46] spatstat.random_2.2-0  miniUI_0.1.1.1         Rcpp_1.0.8.3          \n",
       " [49] viridisLite_0.4.0      xtable_1.8-4           reticulate_1.24       \n",
       " [52] spatstat.core_2.4-2    bit_4.0.4              htmlwidgets_1.5.4     \n",
       " [55] httr_1.4.3             RColorBrewer_1.1-3     ellipsis_0.3.2        \n",
       " [58] ica_1.0-2              pkgconfig_2.0.3        farver_2.1.0          \n",
       " [61] ggseqlogo_0.1          uwot_0.1.11            deldir_1.0-6          \n",
       " [64] utf8_1.2.2             tidyselect_1.1.2       rlang_1.0.2           \n",
       " [67] reshape2_1.4.4         later_1.3.0            munsell_0.5.0         \n",
       " [70] tools_4.1.1            cli_3.3.0              generics_0.1.2        \n",
       " [73] ggridges_0.5.3         evaluate_0.15          stringr_1.4.0         \n",
       " [76] fastmap_1.1.0          goftest_1.2-3          bit64_4.0.5           \n",
       " [79] fitdistrplus_1.1-8     purrr_0.3.4            RANN_2.6.1            \n",
       " [82] pbapply_1.5-0          nlme_3.1-157           mime_0.12             \n",
       " [85] slam_0.1-50            RcppRoll_0.3.0         compiler_4.1.1        \n",
       " [88] plotly_4.10.0          png_0.1-7              spatstat.utils_2.3-0  \n",
       " [91] tibble_3.1.7           tweenr_1.0.2           stringi_1.7.6         \n",
       " [94] rgeos_0.5-9            lattice_0.20-45        IRdisplay_1.1         \n",
       " [97] Matrix_1.4-1           vctrs_0.4.1            pillar_1.7.0          \n",
       "[100] lifecycle_1.0.1        Rdpack_2.3             spatstat.geom_2.4-0   \n",
       "[103] lmtest_0.9-40          RcppAnnoy_0.0.19       bitops_1.0-7          \n",
       "[106] irlba_2.3.5            httpuv_1.6.5           R6_2.5.1              \n",
       "[109] promises_1.2.0.1       KernSmooth_2.23-20     gridExtra_2.3         \n",
       "[112] lsa_0.73.2             parallelly_1.31.1      codetools_0.2-18      \n",
       "[115] MASS_7.3-57            assertthat_0.2.1       withr_2.5.0           \n",
       "[118] qlcMatrix_0.9.7        sctransform_0.3.3      Rsamtools_2.10.0      \n",
       "[121] GenomeInfoDbData_1.2.7 hms_1.1.1              mgcv_1.8-40           \n",
       "[124] parallel_4.1.1         grid_4.1.1             rpart_4.1.16          \n",
       "[127] IRkernel_1.2           tidyr_1.2.0            Rtsne_0.16            \n",
       "[130] pbdZMQ_0.3-7           ggforce_0.3.3          shiny_1.7.1           \n",
       "[133] base64enc_0.1-3       "
      ]
     },
     "metadata": {},
     "output_type": "display_data"
    }
   ],
   "source": [
    "sessionInfo()"
   ]
  },
  {
   "cell_type": "code",
   "execution_count": null,
   "id": "6261d99e",
   "metadata": {},
   "outputs": [],
   "source": []
  },
  {
   "cell_type": "code",
   "execution_count": null,
   "id": "a34e3ec9",
   "metadata": {},
   "outputs": [],
   "source": []
  },
  {
   "cell_type": "markdown",
   "id": "4ba98b58",
   "metadata": {},
   "source": [
    "## Create expSignac"
   ]
  },
  {
   "cell_type": "code",
   "execution_count": 21,
   "id": "9719bc3e",
   "metadata": {},
   "outputs": [],
   "source": [
    "expr.load <- function(samples_df){ #sample_names, samples) {\n",
    "#     sample_names <- \n",
    "#     samples <- curr.csv[]\n",
    "#     print('sample_names')\n",
    "#     print(sample_names)\n",
    "#     print('samples')\n",
    "#     print(samples)    \n",
    "    allSE = c() \n",
    "\n",
    "    #samples_df <- cbind(sample_names, samples)\n",
    "    print('samples_df')\n",
    "    print(samples_df)\n",
    "    for (row in 1:nrow(samples_df)){\n",
    "        exp <- samples_df[row,][[\"cellr_ID\"]]\n",
    "        name <- samples_df[row,][[\"sample_name\"]]\n",
    "        \n",
    "        curr_in <- dirname(dirname(samples_df[[row, \"barcode_f\"]]))\n",
    "        print('exp')\n",
    "        print(exp)\n",
    "        print('name')\n",
    "        print(name)\n",
    "        barcode_path <- file.path(curr_in, \"filtered_peak_bc_matrix\", \"barcodes.tsv\")    \n",
    "        print(\"barcode_path\")\n",
    "        print(barcode_path)\n",
    "        barcodes <- readr::read_tsv(barcode_path, col_names = F) # %>% tidyr::unite(barcode)\n",
    "        barcodes <- as.data.frame(barcodes) %>%  tibble::column_to_rownames(var=\"X1\") %>% tibble::add_column(proj=name)\n",
    "        frag_file <- file.path(curr_in, \"fragments.tsv.gz\")\n",
    "\n",
    "        cells.meta.f <- file.path(curr_in, \"singlecell.csv\") \n",
    "        cells.meta <- as.data.frame(readr::read_csv(cells.meta.f)) %>% tibble::column_to_rownames(var=\"barcode\") %>% tibble::add_column(proj=name)\n",
    "        cells.meta <- cells.meta[rownames(cells.meta) %in% rownames(barcodes), ]\n",
    "\n",
    "        # quantify multiome peaks in the scATAC-seq dataset\n",
    "\n",
    "\n",
    "        print(\"Creating fragments object\")\n",
    "        frags.curr <- CreateFragmentObject(path = frag_file, cells= rownames(barcodes))\n",
    "        #print(frags.curr)\n",
    "        print(\"Quantifying peaks\")\n",
    "        ## Quantify peaks\n",
    "        curr.counts <- FeatureMatrix(\n",
    "          fragments = frags.curr,\n",
    "          features = combined.peaks,\n",
    "          cells = rownames(barcodes),\n",
    "          process_n = cores\n",
    "        )\n",
    "\n",
    "        print(\"Creating chromatin assay\")\n",
    "        ## Create the objects and use simple filters\n",
    "        curr_assay <- CreateChromatinAssay(curr.counts, fragments = frags.curr, min.cells = 10, min.features = 200)\n",
    "        curr <- CreateSeuratObject(curr_assay, assay = \"ATAC\", project=name, meta.data=cells.meta)\n",
    "        #curr <- subset(curr, nCount_peaks > 2000 & nCount_peaks < 30000)\n",
    "    \n",
    "        print('curr_assay')\n",
    "        print(head(curr_assay))\n",
    "        print('curr')\n",
    "        print(head(curr[[]]))\n",
    "        allSE = c(allSE, curr)\n",
    "        #return(curr)\n",
    "    }\n",
    "\n",
    "    return(allSE)\n",
    "}\n",
    "    #allSE <- sapply(samples, create_frag, curr_in=curr_in)"
   ]
  },
  {
   "cell_type": "code",
   "execution_count": 22,
   "id": "9a60fb33",
   "metadata": {
    "scrolled": true
   },
   "outputs": [],
   "source": [
    "load.se.experiments <- function(sample_csv){\n",
    "    curr.csv <- readr::read_csv(sample_csv)\n",
    "    #print(curr.csv)\n",
    "    return(expr.load(curr.csv)) \n",
    "    #return(expr.load(curr.csv$samples, curr.csv$cellr.id)) #sapply(curr.csv, expr.load)\n",
    "}\n",
    "\n"
   ]
  },
  {
   "cell_type": "code",
   "execution_count": 23,
   "id": "0bfe97b9",
   "metadata": {
    "scrolled": true
   },
   "outputs": [
    {
     "name": "stderr",
     "output_type": "stream",
     "text": [
      "\u001b[1mRows: \u001b[22m\u001b[34m2\u001b[39m \u001b[1mColumns: \u001b[22m\u001b[34m5\u001b[39m\n",
      "\u001b[36m──\u001b[39m \u001b[1mColumn specification\u001b[22m \u001b[36m───────────────────────────────────────────────────────────────────────────────────────────────────────────────────────────────────────────────────────────────────────────────────\u001b[39m\n",
      "\u001b[1mDelimiter:\u001b[22m \",\"\n",
      "\u001b[31mchr\u001b[39m (5): sample_name, cellr_ID, fastq_ID, barcode_f, bam_f\n",
      "\n",
      "\u001b[36mℹ\u001b[39m Use `spec()` to retrieve the full column specification for this data.\n",
      "\u001b[36mℹ\u001b[39m Specify the column types or set `show_col_types = FALSE` to quiet this message.\n"
     ]
    },
    {
     "name": "stdout",
     "output_type": "stream",
     "text": [
      "[1] \"samples_df\"\n",
      "\u001b[90m# A tibble: 2 × 5\u001b[39m\n",
      "  sample_name cellr_ID fastq_ID             barcode_f                      bam_f\n",
      "  \u001b[3m\u001b[90m<chr>\u001b[39m\u001b[23m       \u001b[3m\u001b[90m<chr>\u001b[39m\u001b[23m    \u001b[3m\u001b[90m<chr>\u001b[39m\u001b[23m                \u001b[3m\u001b[90m<chr>\u001b[39m\u001b[23m                          \u001b[3m\u001b[90m<chr>\u001b[39m\u001b[23m\n",
      "\u001b[90m1\u001b[39m Flt3l       Flt3l    BC_10xATAC_rxn1b_pos /home/isaac/lewis/mito_lineag… /hom…\n",
      "\u001b[90m2\u001b[39m Input       Input    BC_10xATAC_rxn1      /home/isaac/lewis/mito_lineag… /hom…\n",
      "[1] \"exp\"\n",
      "[1] \"Flt3l\"\n",
      "[1] \"name\"\n",
      "[1] \"Flt3l\"\n",
      "[1] \"barcode_path\"\n",
      "[1] \"/home/isaac/lewis/mito_lineage/output/mtscATAC/data/CHIP_dec172021_b1/MTBlacklist_A2/Flt3l/outs/filtered_peak_bc_matrix/barcodes.tsv\"\n"
     ]
    },
    {
     "name": "stderr",
     "output_type": "stream",
     "text": [
      "\u001b[1mRows: \u001b[22m\u001b[34m7651\u001b[39m \u001b[1mColumns: \u001b[22m\u001b[34m1\u001b[39m\n",
      "\u001b[36m──\u001b[39m \u001b[1mColumn specification\u001b[22m \u001b[36m───────────────────────────────────────────────────────────────────────────────────────────────────────────────────────────────────────────────────────────────────────────────────\u001b[39m\n",
      "\u001b[1mDelimiter:\u001b[22m \"\\t\"\n",
      "\u001b[31mchr\u001b[39m (1): X1\n",
      "\n",
      "\u001b[36mℹ\u001b[39m Use `spec()` to retrieve the full column specification for this data.\n",
      "\u001b[36mℹ\u001b[39m Specify the column types or set `show_col_types = FALSE` to quiet this message.\n",
      "\u001b[1mRows: \u001b[22m\u001b[34m314920\u001b[39m \u001b[1mColumns: \u001b[22m\u001b[34m18\u001b[39m\n",
      "\u001b[36m──\u001b[39m \u001b[1mColumn specification\u001b[22m \u001b[36m───────────────────────────────────────────────────────────────────────────────────────────────────────────────────────────────────────────────────────────────────────────────────\u001b[39m\n",
      "\u001b[1mDelimiter:\u001b[22m \",\"\n",
      "\u001b[31mchr\u001b[39m  (2): barcode, cell_id\n",
      "\u001b[32mdbl\u001b[39m (16): total, duplicate, chimeric, unmapped, lowmapq, mitochondrial, pass...\n",
      "\n",
      "\u001b[36mℹ\u001b[39m Use `spec()` to retrieve the full column specification for this data.\n",
      "\u001b[36mℹ\u001b[39m Specify the column types or set `show_col_types = FALSE` to quiet this message.\n"
     ]
    },
    {
     "name": "stdout",
     "output_type": "stream",
     "text": [
      "[1] \"Creating fragments object\"\n"
     ]
    },
    {
     "name": "stderr",
     "output_type": "stream",
     "text": [
      "Computing hash\n",
      "\n"
     ]
    },
    {
     "name": "stdout",
     "output_type": "stream",
     "text": [
      "[1] \"Quantifying peaks\"\n"
     ]
    },
    {
     "name": "stderr",
     "output_type": "stream",
     "text": [
      "Extracting reads overlapping genomic regions\n",
      "\n"
     ]
    },
    {
     "name": "stdout",
     "output_type": "stream",
     "text": [
      "[1] \"Creating chromatin assay\"\n"
     ]
    },
    {
     "name": "stderr",
     "output_type": "stream",
     "text": [
      "Warning message in CreateSeuratObject.Assay(curr_assay, assay = \"ATAC\", project = name, :\n",
      "“Some cells in meta.data not present in provided counts matrix.”\n",
      "Warning message:\n",
      "“Keys should be one or more alphanumeric characters followed by an underscore, setting key from atac to atac_”\n"
     ]
    },
    {
     "name": "stdout",
     "output_type": "stream",
     "text": [
      "[1] \"curr_assay\"\n",
      "data frame with 0 columns and 10 rows\n",
      "[1] \"curr\"\n",
      "                   orig.ident nCount_ATAC nFeature_ATAC total duplicate\n",
      "AAACGAAAGGAGACTC-1      Flt3l         542           534  2286       298\n",
      "AAACGAAAGTCACGCC-1      Flt3l        1254          1227  4711       555\n",
      "AAACGAACAAGACTAA-1      Flt3l        2324          2241  9178      1509\n",
      "AAACGAACAAGCGAAC-1      Flt3l        2349          2283  8825      1544\n",
      "AAACGAACACAGCCAC-1      Flt3l        2991          2865 10589      1294\n",
      "AAACGAACACAGGTAG-1      Flt3l         627           619  2384       240\n",
      "                   chimeric unmapped lowmapq mitochondrial passed_filters\n",
      "AAACGAAAGGAGACTC-1        7        7     124           749           1101\n",
      "AAACGAAAGTCACGCC-1       16       12     289           853           2986\n",
      "AAACGAACAAGACTAA-1       37       19     585          1339           5689\n",
      "AAACGAACAAGCGAAC-1       24       24     535          1308           5390\n",
      "AAACGAACACAGCCAC-1       41       31     456          2764           6003\n",
      "AAACGAACACAGGTAG-1       13        7     149           594           1381\n",
      "                   cell_id is__cell_barcode TSS_fragments\n",
      "AAACGAAAGGAGACTC-1 _cell_0                1           291\n",
      "AAACGAAAGTCACGCC-1 _cell_1                1           772\n",
      "AAACGAACAAGACTAA-1 _cell_2                1          1434\n",
      "AAACGAACAAGCGAAC-1 _cell_3                1          1564\n",
      "AAACGAACACAGCCAC-1 _cell_4                1          1765\n",
      "AAACGAACACAGGTAG-1 _cell_5                1           440\n",
      "                   DNase_sensitive_region_fragments enhancer_region_fragments\n",
      "AAACGAAAGGAGACTC-1                                0                         0\n",
      "AAACGAAAGTCACGCC-1                                0                         0\n",
      "AAACGAACAAGACTAA-1                                0                         0\n",
      "AAACGAACAAGCGAAC-1                                0                         0\n",
      "AAACGAACACAGCCAC-1                                0                         0\n",
      "AAACGAACACAGGTAG-1                                0                         0\n",
      "                   promoter_region_fragments on_target_fragments\n",
      "AAACGAAAGGAGACTC-1                         0                 291\n",
      "AAACGAAAGTCACGCC-1                         0                 772\n",
      "AAACGAACAAGACTAA-1                         0                1434\n",
      "AAACGAACAAGCGAAC-1                         0                1564\n",
      "AAACGAACACAGCCAC-1                         0                1765\n",
      "AAACGAACACAGGTAG-1                         0                 440\n",
      "                   blacklist_region_fragments peak_region_fragments\n",
      "AAACGAAAGGAGACTC-1                          0                   516\n",
      "AAACGAAAGTCACGCC-1                          0                  1205\n",
      "AAACGAACAAGACTAA-1                          0                  2229\n",
      "AAACGAACAAGCGAAC-1                          0                  2258\n",
      "AAACGAACACAGCCAC-1                          0                  2918\n",
      "AAACGAACACAGGTAG-1                          0                   593\n",
      "                   peak_region_cutsites  proj\n",
      "AAACGAAAGGAGACTC-1                  953 Flt3l\n",
      "AAACGAAAGTCACGCC-1                 2222 Flt3l\n",
      "AAACGAACAAGACTAA-1                 4093 Flt3l\n",
      "AAACGAACAAGCGAAC-1                 4142 Flt3l\n",
      "AAACGAACACAGCCAC-1                 5452 Flt3l\n",
      "AAACGAACACAGGTAG-1                 1100 Flt3l\n",
      "[1] \"exp\"\n",
      "[1] \"Input\"\n",
      "[1] \"name\"\n",
      "[1] \"Input\"\n",
      "[1] \"barcode_path\"\n",
      "[1] \"/home/isaac/lewis/mito_lineage/output/mtscATAC/data/CHIP_dec172021_b1/MTBlacklist_A2/Input/outs/filtered_peak_bc_matrix/barcodes.tsv\"\n"
     ]
    },
    {
     "name": "stderr",
     "output_type": "stream",
     "text": [
      "\u001b[1mRows: \u001b[22m\u001b[34m6848\u001b[39m \u001b[1mColumns: \u001b[22m\u001b[34m1\u001b[39m\n",
      "\u001b[36m──\u001b[39m \u001b[1mColumn specification\u001b[22m \u001b[36m───────────────────────────────────────────────────────────────────────────────────────────────────────────────────────────────────────────────────────────────────────────────────\u001b[39m\n",
      "\u001b[1mDelimiter:\u001b[22m \"\\t\"\n",
      "\u001b[31mchr\u001b[39m (1): X1\n",
      "\n",
      "\u001b[36mℹ\u001b[39m Use `spec()` to retrieve the full column specification for this data.\n",
      "\u001b[36mℹ\u001b[39m Specify the column types or set `show_col_types = FALSE` to quiet this message.\n",
      "\u001b[1mRows: \u001b[22m\u001b[34m490990\u001b[39m \u001b[1mColumns: \u001b[22m\u001b[34m18\u001b[39m\n",
      "\u001b[36m──\u001b[39m \u001b[1mColumn specification\u001b[22m \u001b[36m───────────────────────────────────────────────────────────────────────────────────────────────────────────────────────────────────────────────────────────────────────────────────\u001b[39m\n",
      "\u001b[1mDelimiter:\u001b[22m \",\"\n",
      "\u001b[31mchr\u001b[39m  (2): barcode, cell_id\n",
      "\u001b[32mdbl\u001b[39m (16): total, duplicate, chimeric, unmapped, lowmapq, mitochondrial, pass...\n",
      "\n",
      "\u001b[36mℹ\u001b[39m Use `spec()` to retrieve the full column specification for this data.\n",
      "\u001b[36mℹ\u001b[39m Specify the column types or set `show_col_types = FALSE` to quiet this message.\n"
     ]
    },
    {
     "name": "stdout",
     "output_type": "stream",
     "text": [
      "[1] \"Creating fragments object\"\n"
     ]
    },
    {
     "name": "stderr",
     "output_type": "stream",
     "text": [
      "Computing hash\n",
      "\n"
     ]
    },
    {
     "name": "stdout",
     "output_type": "stream",
     "text": [
      "[1] \"Quantifying peaks\"\n"
     ]
    },
    {
     "name": "stderr",
     "output_type": "stream",
     "text": [
      "Extracting reads overlapping genomic regions\n",
      "\n"
     ]
    },
    {
     "name": "stdout",
     "output_type": "stream",
     "text": [
      "[1] \"Creating chromatin assay\"\n"
     ]
    },
    {
     "name": "stderr",
     "output_type": "stream",
     "text": [
      "Warning message:\n",
      "“Keys should be one or more alphanumeric characters followed by an underscore, setting key from atac to atac_”\n"
     ]
    },
    {
     "name": "stdout",
     "output_type": "stream",
     "text": [
      "[1] \"curr_assay\"\n",
      "data frame with 0 columns and 10 rows\n",
      "[1] \"curr\"\n",
      "                   orig.ident nCount_ATAC nFeature_ATAC total duplicate\n",
      "AAACGAAAGACGCCAA-1      Input       15872         13272 61053     21242\n",
      "AAACGAAAGATATGAC-1      Input        3153          2859 29954      4853\n",
      "AAACGAAAGTAATGTG-1      Input        7347          6508 32111      9018\n",
      "AAACGAAAGTAGTCGG-1      Input        8812          7561 37923     12542\n",
      "AAACGAACACATTGCA-1      Input        8708          6971 46206     12553\n",
      "AAACGAACACGCTCAG-1      Input        6834          5871 38973      7584\n",
      "                   chimeric unmapped lowmapq mitochondrial passed_filters\n",
      "AAACGAAAGACGCCAA-1      263      248    2186         11814          25300\n",
      "AAACGAAAGATATGAC-1       67      103     626         19521           4784\n",
      "AAACGAAAGTAATGTG-1       96      122    1319         11232          10324\n",
      "AAACGAAAGTAGTCGG-1      147      162    1705         10189          13178\n",
      "AAACGAACACATTGCA-1      148      184    1239         16880          15202\n",
      "AAACGAACACGCTCAG-1      162      150     973         19691          10413\n",
      "                   cell_id is__cell_barcode TSS_fragments\n",
      "AAACGAAAGACGCCAA-1 _cell_0                1          8398\n",
      "AAACGAAAGATATGAC-1 _cell_1                1          1973\n",
      "AAACGAAAGTAATGTG-1 _cell_2                1          4124\n",
      "AAACGAAAGTAGTCGG-1 _cell_3                1          4836\n",
      "AAACGAACACATTGCA-1 _cell_4                1          5819\n",
      "AAACGAACACGCTCAG-1 _cell_5                1          4349\n",
      "                   DNase_sensitive_region_fragments enhancer_region_fragments\n",
      "AAACGAAAGACGCCAA-1                                0                         0\n",
      "AAACGAAAGATATGAC-1                                0                         0\n",
      "AAACGAAAGTAATGTG-1                                0                         0\n",
      "AAACGAAAGTAGTCGG-1                                0                         0\n",
      "AAACGAACACATTGCA-1                                0                         0\n",
      "AAACGAACACGCTCAG-1                                0                         0\n",
      "                   promoter_region_fragments on_target_fragments\n",
      "AAACGAAAGACGCCAA-1                         0                8398\n",
      "AAACGAAAGATATGAC-1                         0                1973\n",
      "AAACGAAAGTAATGTG-1                         0                4124\n",
      "AAACGAAAGTAGTCGG-1                         0                4836\n",
      "AAACGAACACATTGCA-1                         0                5819\n",
      "AAACGAACACGCTCAG-1                         0                4349\n",
      "                   blacklist_region_fragments peak_region_fragments\n",
      "AAACGAAAGACGCCAA-1                          0                 15827\n",
      "AAACGAAAGATATGAC-1                          0                  3194\n",
      "AAACGAAAGTAATGTG-1                          0                  7409\n",
      "AAACGAAAGTAGTCGG-1                          0                  8789\n",
      "AAACGAACACATTGCA-1                          0                  8715\n",
      "AAACGAACACGCTCAG-1                          0                  6921\n",
      "                   peak_region_cutsites  proj\n",
      "AAACGAAAGACGCCAA-1                30172 Input\n",
      "AAACGAAAGATATGAC-1                 6214 Input\n",
      "AAACGAAAGTAATGTG-1                14320 Input\n",
      "AAACGAAAGTAGTCGG-1                16753 Input\n",
      "AAACGAACACATTGCA-1                16706 Input\n",
      "AAACGAACACGCTCAG-1                13413 Input\n"
     ]
    },
    {
     "name": "stderr",
     "output_type": "stream",
     "text": [
      "\u001b[1mRows: \u001b[22m\u001b[34m1\u001b[39m \u001b[1mColumns: \u001b[22m\u001b[34m5\u001b[39m\n",
      "\u001b[36m──\u001b[39m \u001b[1mColumn specification\u001b[22m \u001b[36m───────────────────────────────────────────────────────────────────────────────────────────────────────────────────────────────────────────────────────────────────────────────────\u001b[39m\n",
      "\u001b[1mDelimiter:\u001b[22m \",\"\n",
      "\u001b[31mchr\u001b[39m (5): sample_name, cellr_ID, fastq_ID, barcode_f, bam_f\n",
      "\n",
      "\u001b[36mℹ\u001b[39m Use `spec()` to retrieve the full column specification for this data.\n",
      "\u001b[36mℹ\u001b[39m Specify the column types or set `show_col_types = FALSE` to quiet this message.\n"
     ]
    },
    {
     "name": "stdout",
     "output_type": "stream",
     "text": [
      "[1] \"samples_df\"\n",
      "\u001b[90m# A tibble: 1 × 5\u001b[39m\n",
      "  sample_name cellr_ID fastq_ID        barcode_f                           bam_f\n",
      "  \u001b[3m\u001b[90m<chr>\u001b[39m\u001b[23m       \u001b[3m\u001b[90m<chr>\u001b[39m\u001b[23m    \u001b[3m\u001b[90m<chr>\u001b[39m\u001b[23m           \u001b[3m\u001b[90m<chr>\u001b[39m\u001b[23m                               \u001b[3m\u001b[90m<chr>\u001b[39m\u001b[23m\n",
      "\u001b[90m1\u001b[39m Input       Input    BC_10xATAC_rxn2 /home/isaac/lewis/mito_lineage/out… /hom…\n",
      "[1] \"exp\"\n",
      "[1] \"Input\"\n",
      "[1] \"name\"\n",
      "[1] \"Input\"\n",
      "[1] \"barcode_path\"\n",
      "[1] \"/home/isaac/lewis/mito_lineage/output/mtscATAC/data/CHIP_dec172021_b2/MTBlacklist_A2/Input/outs/filtered_peak_bc_matrix/barcodes.tsv\"\n"
     ]
    },
    {
     "name": "stderr",
     "output_type": "stream",
     "text": [
      "\u001b[1mRows: \u001b[22m\u001b[34m4769\u001b[39m \u001b[1mColumns: \u001b[22m\u001b[34m1\u001b[39m\n",
      "\u001b[36m──\u001b[39m \u001b[1mColumn specification\u001b[22m \u001b[36m───────────────────────────────────────────────────────────────────────────────────────────────────────────────────────────────────────────────────────────────────────────────────\u001b[39m\n",
      "\u001b[1mDelimiter:\u001b[22m \"\\t\"\n",
      "\u001b[31mchr\u001b[39m (1): X1\n",
      "\n",
      "\u001b[36mℹ\u001b[39m Use `spec()` to retrieve the full column specification for this data.\n",
      "\u001b[36mℹ\u001b[39m Specify the column types or set `show_col_types = FALSE` to quiet this message.\n",
      "\u001b[1mRows: \u001b[22m\u001b[34m405884\u001b[39m \u001b[1mColumns: \u001b[22m\u001b[34m18\u001b[39m\n",
      "\u001b[36m──\u001b[39m \u001b[1mColumn specification\u001b[22m \u001b[36m───────────────────────────────────────────────────────────────────────────────────────────────────────────────────────────────────────────────────────────────────────────────────\u001b[39m\n",
      "\u001b[1mDelimiter:\u001b[22m \",\"\n",
      "\u001b[31mchr\u001b[39m  (2): barcode, cell_id\n",
      "\u001b[32mdbl\u001b[39m (16): total, duplicate, chimeric, unmapped, lowmapq, mitochondrial, pass...\n",
      "\n",
      "\u001b[36mℹ\u001b[39m Use `spec()` to retrieve the full column specification for this data.\n",
      "\u001b[36mℹ\u001b[39m Specify the column types or set `show_col_types = FALSE` to quiet this message.\n"
     ]
    },
    {
     "name": "stdout",
     "output_type": "stream",
     "text": [
      "[1] \"Creating fragments object\"\n"
     ]
    },
    {
     "name": "stderr",
     "output_type": "stream",
     "text": [
      "Computing hash\n",
      "\n"
     ]
    },
    {
     "name": "stdout",
     "output_type": "stream",
     "text": [
      "[1] \"Quantifying peaks\"\n"
     ]
    },
    {
     "name": "stderr",
     "output_type": "stream",
     "text": [
      "Extracting reads overlapping genomic regions\n",
      "\n"
     ]
    },
    {
     "name": "stdout",
     "output_type": "stream",
     "text": [
      "[1] \"Creating chromatin assay\"\n"
     ]
    },
    {
     "name": "stderr",
     "output_type": "stream",
     "text": [
      "Warning message in CreateSeuratObject.Assay(curr_assay, assay = \"ATAC\", project = name, :\n",
      "“Some cells in meta.data not present in provided counts matrix.”\n",
      "Warning message:\n",
      "“Keys should be one or more alphanumeric characters followed by an underscore, setting key from atac to atac_”\n"
     ]
    },
    {
     "name": "stdout",
     "output_type": "stream",
     "text": [
      "[1] \"curr_assay\"\n",
      "data frame with 0 columns and 10 rows\n",
      "[1] \"curr\"\n",
      "                   orig.ident nCount_ATAC nFeature_ATAC total duplicate\n",
      "AAACGAAAGCCGCAAA-1      Input        1276          1234 16081      1250\n",
      "AAACGAACAGATGGCA-1      Input        8399          7544 44699     10292\n",
      "AAACGAAGTATGTTCG-1      Input        4872          4476 21594      5059\n",
      "AAACGAAGTCATTGGT-1      Input         617           606  9191       460\n",
      "AAACGAATCAGAGTGG-1      Input        1942          1867 10961      1743\n",
      "AAACGAATCCGGACTG-1      Input        2565          2445 15146      1793\n",
      "                   chimeric unmapped lowmapq mitochondrial passed_filters\n",
      "AAACGAAAGCCGCAAA-1       25       60     379         11724           2643\n",
      "AAACGAACAGATGGCA-1      190      169    1753         15193          17102\n",
      "AAACGAAGTATGTTCG-1      133       91     784          8125           7402\n",
      "AAACGAAGTCATTGGT-1       12       19     137          7471           1092\n",
      "AAACGAATCAGAGTGG-1       56       43     289          4957           3873\n",
      "AAACGAATCCGGACTG-1       52       50     388          9290           3573\n",
      "                   cell_id is__cell_barcode TSS_fragments\n",
      "AAACGAAAGCCGCAAA-1 _cell_0                1           682\n",
      "AAACGAACAGATGGCA-1 _cell_1                1          4574\n",
      "AAACGAAGTATGTTCG-1 _cell_2                1          2479\n",
      "AAACGAAGTCATTGGT-1 _cell_3                1           357\n",
      "AAACGAATCAGAGTGG-1 _cell_4                1          1050\n",
      "AAACGAATCCGGACTG-1 _cell_5                1          1439\n",
      "                   DNase_sensitive_region_fragments enhancer_region_fragments\n",
      "AAACGAAAGCCGCAAA-1                                0                         0\n",
      "AAACGAACAGATGGCA-1                                0                         0\n",
      "AAACGAAGTATGTTCG-1                                0                         0\n",
      "AAACGAAGTCATTGGT-1                                0                         0\n",
      "AAACGAATCAGAGTGG-1                                0                         0\n",
      "AAACGAATCCGGACTG-1                                0                         0\n",
      "                   promoter_region_fragments on_target_fragments\n",
      "AAACGAAAGCCGCAAA-1                         0                 682\n",
      "AAACGAACAGATGGCA-1                         0                4574\n",
      "AAACGAAGTATGTTCG-1                         0                2479\n",
      "AAACGAAGTCATTGGT-1                         0                 357\n",
      "AAACGAATCAGAGTGG-1                         0                1050\n",
      "AAACGAATCCGGACTG-1                         0                1439\n",
      "                   blacklist_region_fragments peak_region_fragments\n",
      "AAACGAAAGCCGCAAA-1                          0                  1067\n",
      "AAACGAACAGATGGCA-1                          0                  6640\n",
      "AAACGAAGTATGTTCG-1                          0                  4275\n",
      "AAACGAAGTCATTGGT-1                          0                   532\n",
      "AAACGAATCAGAGTGG-1                          0                  1629\n",
      "AAACGAATCCGGACTG-1                          0                  2211\n",
      "                   peak_region_cutsites  proj\n",
      "AAACGAAAGCCGCAAA-1                 1951 Input\n",
      "AAACGAACAGATGGCA-1                12207 Input\n",
      "AAACGAAGTATGTTCG-1                 8108 Input\n",
      "AAACGAAGTCATTGGT-1                 1008 Input\n",
      "AAACGAATCAGAGTGG-1                 3070 Input\n",
      "AAACGAATCCGGACTG-1                 4156 Input\n"
     ]
    },
    {
     "name": "stderr",
     "output_type": "stream",
     "text": [
      "\u001b[1mRows: \u001b[22m\u001b[34m1\u001b[39m \u001b[1mColumns: \u001b[22m\u001b[34m5\u001b[39m\n",
      "\u001b[36m──\u001b[39m \u001b[1mColumn specification\u001b[22m \u001b[36m───────────────────────────────────────────────────────────────────────────────────────────────────────────────────────────────────────────────────────────────────────────────────\u001b[39m\n",
      "\u001b[1mDelimiter:\u001b[22m \",\"\n",
      "\u001b[31mchr\u001b[39m (5): sample_name, cellr_ID, fastq_ID, barcode_f, bam_f\n",
      "\n",
      "\u001b[36mℹ\u001b[39m Use `spec()` to retrieve the full column specification for this data.\n",
      "\u001b[36mℹ\u001b[39m Specify the column types or set `show_col_types = FALSE` to quiet this message.\n"
     ]
    },
    {
     "name": "stdout",
     "output_type": "stream",
     "text": [
      "[1] \"samples_df\"\n",
      "\u001b[90m# A tibble: 1 × 5\u001b[39m\n",
      "  sample_name cellr_ID fastq_ID      barcode_f                             bam_f\n",
      "  \u001b[3m\u001b[90m<chr>\u001b[39m\u001b[23m       \u001b[3m\u001b[90m<chr>\u001b[39m\u001b[23m    \u001b[3m\u001b[90m<chr>\u001b[39m\u001b[23m         \u001b[3m\u001b[90m<chr>\u001b[39m\u001b[23m                                 \u001b[3m\u001b[90m<chr>\u001b[39m\u001b[23m\n",
      "\u001b[90m1\u001b[39m Flt3l       J2       BC_10xATAC_J2 /home/isaac/lewis/mito_lineage/outpu… /hom…\n",
      "[1] \"exp\"\n",
      "[1] \"J2\"\n",
      "[1] \"name\"\n",
      "[1] \"Flt3l\"\n",
      "[1] \"barcode_path\"\n",
      "[1] \"/home/isaac/lewis/mito_lineage/output/mtscATAC/data/jan21_2021/MTblacklist/J2/outs/filtered_peak_bc_matrix/barcodes.tsv\"\n"
     ]
    },
    {
     "name": "stderr",
     "output_type": "stream",
     "text": [
      "\u001b[1mRows: \u001b[22m\u001b[34m12009\u001b[39m \u001b[1mColumns: \u001b[22m\u001b[34m1\u001b[39m\n",
      "\u001b[36m──\u001b[39m \u001b[1mColumn specification\u001b[22m \u001b[36m───────────────────────────────────────────────────────────────────────────────────────────────────────────────────────────────────────────────────────────────────────────────────\u001b[39m\n",
      "\u001b[1mDelimiter:\u001b[22m \"\\t\"\n",
      "\u001b[31mchr\u001b[39m (1): X1\n",
      "\n",
      "\u001b[36mℹ\u001b[39m Use `spec()` to retrieve the full column specification for this data.\n",
      "\u001b[36mℹ\u001b[39m Specify the column types or set `show_col_types = FALSE` to quiet this message.\n",
      "\u001b[1mRows: \u001b[22m\u001b[34m430951\u001b[39m \u001b[1mColumns: \u001b[22m\u001b[34m18\u001b[39m\n",
      "\u001b[36m──\u001b[39m \u001b[1mColumn specification\u001b[22m \u001b[36m───────────────────────────────────────────────────────────────────────────────────────────────────────────────────────────────────────────────────────────────────────────────────\u001b[39m\n",
      "\u001b[1mDelimiter:\u001b[22m \",\"\n",
      "\u001b[31mchr\u001b[39m  (2): barcode, cell_id\n",
      "\u001b[32mdbl\u001b[39m (16): total, duplicate, chimeric, unmapped, lowmapq, mitochondrial, pass...\n",
      "\n",
      "\u001b[36mℹ\u001b[39m Use `spec()` to retrieve the full column specification for this data.\n",
      "\u001b[36mℹ\u001b[39m Specify the column types or set `show_col_types = FALSE` to quiet this message.\n"
     ]
    },
    {
     "name": "stdout",
     "output_type": "stream",
     "text": [
      "[1] \"Creating fragments object\"\n"
     ]
    },
    {
     "name": "stderr",
     "output_type": "stream",
     "text": [
      "Computing hash\n",
      "\n"
     ]
    },
    {
     "name": "stdout",
     "output_type": "stream",
     "text": [
      "[1] \"Quantifying peaks\"\n"
     ]
    },
    {
     "name": "stderr",
     "output_type": "stream",
     "text": [
      "Extracting reads overlapping genomic regions\n",
      "\n"
     ]
    },
    {
     "name": "stdout",
     "output_type": "stream",
     "text": [
      "[1] \"Creating chromatin assay\"\n"
     ]
    },
    {
     "name": "stderr",
     "output_type": "stream",
     "text": [
      "Warning message in CreateSeuratObject.Assay(curr_assay, assay = \"ATAC\", project = name, :\n",
      "“Some cells in meta.data not present in provided counts matrix.”\n",
      "Warning message:\n",
      "“Keys should be one or more alphanumeric characters followed by an underscore, setting key from atac to atac_”\n"
     ]
    },
    {
     "name": "stdout",
     "output_type": "stream",
     "text": [
      "[1] \"curr_assay\"\n",
      "data frame with 0 columns and 10 rows\n",
      "[1] \"curr\"\n",
      "                   orig.ident nCount_ATAC nFeature_ATAC total duplicate\n",
      "AAACGAAAGAGCTCCC-1      Flt3l        5455          5127 25798      3956\n",
      "AAACGAAAGCGATACG-1      Flt3l        2392          2309 18340      2478\n",
      "AAACGAAAGGCTTCGC-1      Flt3l        4439          4232 28417      4398\n",
      "AAACGAAAGTACAACA-1      Flt3l        1551          1510 12018      1524\n",
      "AAACGAACAACGTACT-1      Flt3l        3325          3199 37690      3034\n",
      "AAACGAACAAGCGGTA-1      Flt3l        1501          1463  9381      1416\n",
      "                   chimeric unmapped lowmapq mitochondrial passed_filters\n",
      "AAACGAAAGAGCTCCC-1      111       95    1643          4740          15253\n",
      "AAACGAAAGCGATACG-1       78       92     794          9325           5573\n",
      "AAACGAAAGGCTTCGC-1      132      122    1771         10224          11770\n",
      "AAACGAAAGTACAACA-1       60       45     585          5688           4116\n",
      "AAACGAACAACGTACT-1       82      125    1680         24974           7795\n",
      "AAACGAACAAGCGGTA-1       44       50     547          3616           3708\n",
      "                   cell_id is__cell_barcode TSS_fragments\n",
      "AAACGAAAGAGCTCCC-1 _cell_0                1          2708\n",
      "AAACGAAAGCGATACG-1 _cell_1                1          1062\n",
      "AAACGAAAGGCTTCGC-1 _cell_2                1          2145\n",
      "AAACGAAAGTACAACA-1 _cell_3                1           727\n",
      "AAACGAACAACGTACT-1 _cell_4                1          1562\n",
      "AAACGAACAAGCGGTA-1 _cell_5                1           705\n",
      "                   DNase_sensitive_region_fragments enhancer_region_fragments\n",
      "AAACGAAAGAGCTCCC-1                                0                         0\n",
      "AAACGAAAGCGATACG-1                                0                         0\n",
      "AAACGAAAGGCTTCGC-1                                0                         0\n",
      "AAACGAAAGTACAACA-1                                0                         0\n",
      "AAACGAACAACGTACT-1                                0                         0\n",
      "AAACGAACAAGCGGTA-1                                0                         0\n",
      "                   promoter_region_fragments on_target_fragments\n",
      "AAACGAAAGAGCTCCC-1                         0                2708\n",
      "AAACGAAAGCGATACG-1                         0                1062\n",
      "AAACGAAAGGCTTCGC-1                         0                2145\n",
      "AAACGAAAGTACAACA-1                         0                 727\n",
      "AAACGAACAACGTACT-1                         0                1562\n",
      "AAACGAACAAGCGGTA-1                         0                 705\n",
      "                   blacklist_region_fragments peak_region_fragments\n",
      "AAACGAAAGAGCTCCC-1                          0                  4667\n",
      "AAACGAAAGCGATACG-1                          0                  2122\n",
      "AAACGAAAGGCTTCGC-1                          0                  3851\n",
      "AAACGAAAGTACAACA-1                          0                  1329\n",
      "AAACGAACAACGTACT-1                          0                  2945\n",
      "AAACGAACAAGCGGTA-1                          0                  1279\n",
      "                   peak_region_cutsites  proj\n",
      "AAACGAAAGAGCTCCC-1                 8189 Flt3l\n",
      "AAACGAAAGCGATACG-1                 3975 Flt3l\n",
      "AAACGAAAGGCTTCGC-1                 6992 Flt3l\n",
      "AAACGAAAGTACAACA-1                 2440 Flt3l\n",
      "AAACGAACAACGTACT-1                 5445 Flt3l\n",
      "AAACGAACAAGCGGTA-1                 2386 Flt3l\n"
     ]
    }
   ],
   "source": [
    "allSE <- sapply(samps, load.se.experiments)"
   ]
  },
  {
   "cell_type": "code",
   "execution_count": 24,
   "id": "7ad60c8a",
   "metadata": {},
   "outputs": [],
   "source": [
    "allSE.full <- unlist(allSE, recursive=FALSE, use.names=TRUE)\n",
    "\n"
   ]
  },
  {
   "cell_type": "code",
   "execution_count": 25,
   "id": "1c645d15",
   "metadata": {
    "scrolled": true
   },
   "outputs": [
    {
     "data": {
      "text/plain": [
       "$CHIP_b11\n",
       "An object of class Seurat \n",
       "177009 features across 7533 samples within 1 assay \n",
       "Active assay: ATAC (177009 features, 0 variable features)\n",
       "\n",
       "$CHIP_b12\n",
       "An object of class Seurat \n",
       "195627 features across 6848 samples within 1 assay \n",
       "Active assay: ATAC (195627 features, 0 variable features)\n",
       "\n",
       "$CHIP_b2\n",
       "An object of class Seurat \n",
       "154178 features across 4767 samples within 1 assay \n",
       "Active assay: ATAC (154178 features, 0 variable features)\n",
       "\n",
       "$cd34norm\n",
       "An object of class Seurat \n",
       "202351 features across 11978 samples within 1 assay \n",
       "Active assay: ATAC (202351 features, 0 variable features)\n"
      ]
     },
     "metadata": {},
     "output_type": "display_data"
    }
   ],
   "source": [
    "allSE.full"
   ]
  },
  {
   "cell_type": "code",
   "execution_count": 26,
   "id": "8b6f5540",
   "metadata": {},
   "outputs": [
    {
     "data": {
      "text/plain": [
       "$CHIP_b1\n",
       "$CHIP_b1[[1]]\n",
       "An object of class Seurat \n",
       "177009 features across 7533 samples within 1 assay \n",
       "Active assay: ATAC (177009 features, 0 variable features)\n",
       "\n",
       "$CHIP_b1[[2]]\n",
       "An object of class Seurat \n",
       "195627 features across 6848 samples within 1 assay \n",
       "Active assay: ATAC (195627 features, 0 variable features)\n",
       "\n",
       "\n",
       "$CHIP_b2\n",
       "$CHIP_b2[[1]]\n",
       "An object of class Seurat \n",
       "154178 features across 4767 samples within 1 assay \n",
       "Active assay: ATAC (154178 features, 0 variable features)\n",
       "\n",
       "\n",
       "$cd34norm\n",
       "$cd34norm[[1]]\n",
       "An object of class Seurat \n",
       "202351 features across 11978 samples within 1 assay \n",
       "Active assay: ATAC (202351 features, 0 variable features)\n",
       "\n"
      ]
     },
     "metadata": {},
     "output_type": "display_data"
    }
   ],
   "source": [
    "allSE"
   ]
  },
  {
   "cell_type": "code",
   "execution_count": 27,
   "id": "a3eb8e0e",
   "metadata": {},
   "outputs": [],
   "source": [
    "saveRDS(allSE.full, file.path(outdir, paste0(\"allSamples.rds\")))"
   ]
  },
  {
   "cell_type": "code",
   "execution_count": 28,
   "id": "bdf9ffec",
   "metadata": {},
   "outputs": [
    {
     "data": {
      "text/html": [
       "'/mnt/md0/isshamie/Projects/Mito_Trace/output/aggregate/CHIP_aggr/v04_no_ChA1/data/annotation/gff_A2/mergedSamples/allSamples.rds'"
      ],
      "text/latex": [
       "'/mnt/md0/isshamie/Projects/Mito\\_Trace/output/aggregate/CHIP\\_aggr/v04\\_no\\_ChA1/data/annotation/gff\\_A2/mergedSamples/allSamples.rds'"
      ],
      "text/markdown": [
       "'/mnt/md0/isshamie/Projects/Mito_Trace/output/aggregate/CHIP_aggr/v04_no_ChA1/data/annotation/gff_A2/mergedSamples/allSamples.rds'"
      ],
      "text/plain": [
       "[1] \"/mnt/md0/isshamie/Projects/Mito_Trace/output/aggregate/CHIP_aggr/v04_no_ChA1/data/annotation/gff_A2/mergedSamples/allSamples.rds\""
      ]
     },
     "metadata": {},
     "output_type": "display_data"
    }
   ],
   "source": [
    "file.path(outdir, paste0(\"allSamples.rds\"))"
   ]
  },
  {
   "cell_type": "code",
   "execution_count": 29,
   "id": "d196b4d8",
   "metadata": {},
   "outputs": [],
   "source": [
    "# library(Rsamtools)\n",
    "\n",
    "# qc <- function(se){\n",
    "#     # add the gene information to the object\n",
    "#     Annotation(se) <- annotations\n",
    "    \n",
    "#     # compute nucleosome signal score per cell\n",
    "#     se <- NucleosomeSignal(object = se)\n",
    "    \n",
    "#     # compute TSS enrichment score per cell\n",
    "#     se <- TSSEnrichment(object = se, fast = FALSE)\n",
    "\n",
    "#     # add blacklist ratio and fraction of reads in peaks\n",
    "#     se$pct_reads_in_peaks <- se$peak_region_fragments / se$passed_filters * 100\n",
    "#     se$blacklist_ratio <- se$blacklist_region_fragments / se$peak_region_fragments\n",
    "#     se$high.tss <- ifelse(se$TSS.enrichment > 2, 'High', 'Low')\n",
    "#     se$nucleosome_group <- ifelse(se$nucleosome_signal > 4, 'NS > 4', 'NS < 4')\n",
    "\n",
    "#     return(se)\n",
    "# }\n",
    "# vPlot <- function(se){\n",
    "#       vPlot <- VlnPlot(\n",
    "#       object = se,\n",
    "#       features = c('pct_reads_in_peaks', 'peak_region_fragments',\n",
    "#                    'TSS.enrichment', 'blacklist_ratio', 'nucleosome_signal'),\n",
    "#       pt.size = 0.1,\n",
    "#       ncol = 5\n",
    "#     )  \n",
    "#     vPlot <- vPlot +    # Create grid of plots with title\n",
    "#              plot_annotation(title = se$orig.ident[[1]]) & \n",
    "#              theme(plot.title = element_text(hjust = 0.5, size=15))\n",
    "#     #print(vPlot)\n",
    "#     return(vPlot)\n",
    "# }\n",
    "\n"
   ]
  },
  {
   "cell_type": "code",
   "execution_count": 30,
   "id": "d4be61d2",
   "metadata": {
    "scrolled": true
   },
   "outputs": [
    {
     "data": {
      "text/plain": [
       "R version 4.1.1 (2021-08-10)\n",
       "Platform: x86_64-conda-linux-gnu (64-bit)\n",
       "Running under: Ubuntu 20.04.4 LTS\n",
       "\n",
       "Matrix products: default\n",
       "BLAS/LAPACK: /home/isaac/miniconda3/envs/mttrace/lib/libopenblasp-r0.3.20.so\n",
       "\n",
       "locale:\n",
       " [1] LC_CTYPE=en_US.UTF-8       LC_NUMERIC=C              \n",
       " [3] LC_TIME=en_US.UTF-8        LC_COLLATE=en_US.UTF-8    \n",
       " [5] LC_MONETARY=en_US.UTF-8    LC_MESSAGES=en_US.UTF-8   \n",
       " [7] LC_PAPER=en_US.UTF-8       LC_NAME=C                 \n",
       " [9] LC_ADDRESS=C               LC_TELEPHONE=C            \n",
       "[11] LC_MEASUREMENT=en_US.UTF-8 LC_IDENTIFICATION=C       \n",
       "\n",
       "attached base packages:\n",
       "[1] stats4    stats     graphics  grDevices utils     datasets  methods  \n",
       "[8] base     \n",
       "\n",
       "other attached packages:\n",
       " [1] future_1.25.0        dplyr_1.0.9          metap_1.1           \n",
       " [4] cowplot_1.1.1        magrittr_2.0.3       data.table_1.14.2   \n",
       " [7] patchwork_1.1.1      ggplot2_3.3.6        Signac_1.4.0        \n",
       "[10] sp_1.4-7             SeuratObject_4.1.0   Seurat_4.1.0        \n",
       "[13] GenomicRanges_1.46.1 GenomeInfoDb_1.30.1  IRanges_2.28.0      \n",
       "[16] S4Vectors_0.32.3     BiocGenerics_0.40.0  yaml_2.3.5          \n",
       "[19] repr_1.1.4          \n",
       "\n",
       "loaded via a namespace (and not attached):\n",
       "  [1] uuid_1.1-0             fastmatch_1.1-3        plyr_1.8.7            \n",
       "  [4] igraph_1.3.1           lazyeval_0.2.2         splines_4.1.1         \n",
       "  [7] BiocParallel_1.28.3    listenv_0.8.0          scattermore_0.8       \n",
       " [10] SnowballC_0.7.0        digest_0.6.29          htmltools_0.5.2       \n",
       " [13] fansi_1.0.3            tensor_1.5             cluster_2.1.3         \n",
       " [16] ROCR_1.0-11            tzdb_0.3.0             readr_2.1.0           \n",
       " [19] globals_0.14.0         Biostrings_2.62.0      matrixStats_0.62.0    \n",
       " [22] vroom_1.5.7            docopt_0.7.1           spatstat.sparse_2.1-1 \n",
       " [25] colorspace_2.0-3       ggrepel_0.9.1          rbibutils_2.2.8       \n",
       " [28] sparsesvd_0.2          crayon_1.5.1           RCurl_1.98-1.6        \n",
       " [31] jsonlite_1.8.0         progressr_0.10.0       spatstat.data_2.2-0   \n",
       " [34] survival_3.3-1         zoo_1.8-10             glue_1.6.2            \n",
       " [37] polyclip_1.10-0        gtable_0.3.0           zlibbioc_1.40.0       \n",
       " [40] XVector_0.34.0         leiden_0.3.10          future.apply_1.9.0    \n",
       " [43] abind_1.4-5            scales_1.2.0           DBI_1.1.2             \n",
       " [46] spatstat.random_2.2-0  miniUI_0.1.1.1         Rcpp_1.0.8.3          \n",
       " [49] viridisLite_0.4.0      xtable_1.8-4           reticulate_1.24       \n",
       " [52] spatstat.core_2.4-2    bit_4.0.4              htmlwidgets_1.5.4     \n",
       " [55] httr_1.4.3             RColorBrewer_1.1-3     ellipsis_0.3.2        \n",
       " [58] ica_1.0-2              pkgconfig_2.0.3        farver_2.1.0          \n",
       " [61] ggseqlogo_0.1          uwot_0.1.11            deldir_1.0-6          \n",
       " [64] utf8_1.2.2             tidyselect_1.1.2       rlang_1.0.2           \n",
       " [67] reshape2_1.4.4         later_1.3.0            munsell_0.5.0         \n",
       " [70] tools_4.1.1            cli_3.3.0              generics_0.1.2        \n",
       " [73] ggridges_0.5.3         evaluate_0.15          stringr_1.4.0         \n",
       " [76] fastmap_1.1.0          goftest_1.2-3          bit64_4.0.5           \n",
       " [79] fitdistrplus_1.1-8     purrr_0.3.4            RANN_2.6.1            \n",
       " [82] pbapply_1.5-0          nlme_3.1-157           mime_0.12             \n",
       " [85] slam_0.1-50            RcppRoll_0.3.0         compiler_4.1.1        \n",
       " [88] plotly_4.10.0          png_0.1-7              spatstat.utils_2.3-0  \n",
       " [91] tibble_3.1.7           tweenr_1.0.2           stringi_1.7.6         \n",
       " [94] rgeos_0.5-9            lattice_0.20-45        IRdisplay_1.1         \n",
       " [97] Matrix_1.4-1           vctrs_0.4.1            pillar_1.7.0          \n",
       "[100] lifecycle_1.0.1        Rdpack_2.3             spatstat.geom_2.4-0   \n",
       "[103] lmtest_0.9-40          RcppAnnoy_0.0.19       bitops_1.0-7          \n",
       "[106] irlba_2.3.5            httpuv_1.6.5           R6_2.5.1              \n",
       "[109] promises_1.2.0.1       KernSmooth_2.23-20     gridExtra_2.3         \n",
       "[112] lsa_0.73.2             parallelly_1.31.1      codetools_0.2-18      \n",
       "[115] MASS_7.3-57            assertthat_0.2.1       withr_2.5.0           \n",
       "[118] qlcMatrix_0.9.7        sctransform_0.3.3      Rsamtools_2.10.0      \n",
       "[121] GenomeInfoDbData_1.2.7 hms_1.1.1              mgcv_1.8-40           \n",
       "[124] parallel_4.1.1         grid_4.1.1             rpart_4.1.16          \n",
       "[127] IRkernel_1.2           tidyr_1.2.0            Rtsne_0.16            \n",
       "[130] pbdZMQ_0.3-7           ggforce_0.3.3          shiny_1.7.1           \n",
       "[133] base64enc_0.1-3       "
      ]
     },
     "metadata": {},
     "output_type": "display_data"
    }
   ],
   "source": [
    "sessionInfo()"
   ]
  },
  {
   "cell_type": "code",
   "execution_count": 31,
   "id": "24048676",
   "metadata": {
    "scrolled": true
   },
   "outputs": [
    {
     "data": {
      "text/plain": [
       "$CHIP_b1\n",
       "$CHIP_b1[[1]]\n",
       "An object of class Seurat \n",
       "177009 features across 7533 samples within 1 assay \n",
       "Active assay: ATAC (177009 features, 0 variable features)\n",
       "\n",
       "$CHIP_b1[[2]]\n",
       "An object of class Seurat \n",
       "195627 features across 6848 samples within 1 assay \n",
       "Active assay: ATAC (195627 features, 0 variable features)\n",
       "\n",
       "\n",
       "$CHIP_b2\n",
       "$CHIP_b2[[1]]\n",
       "An object of class Seurat \n",
       "154178 features across 4767 samples within 1 assay \n",
       "Active assay: ATAC (154178 features, 0 variable features)\n",
       "\n",
       "\n",
       "$cd34norm\n",
       "$cd34norm[[1]]\n",
       "An object of class Seurat \n",
       "202351 features across 11978 samples within 1 assay \n",
       "Active assay: ATAC (202351 features, 0 variable features)\n",
       "\n"
      ]
     },
     "metadata": {},
     "output_type": "display_data"
    }
   ],
   "source": [
    "allSE"
   ]
  },
  {
   "cell_type": "code",
   "execution_count": 32,
   "id": "b179e209",
   "metadata": {},
   "outputs": [
    {
     "data": {
      "text/html": [
       "<pre class=language-r><code>function (x, ...) \n",
       "UseMethod(\"print\")</code></pre>"
      ],
      "text/latex": [
       "\\begin{minted}{r}\n",
       "function (x, ...) \n",
       "UseMethod(\"print\")\n",
       "\\end{minted}"
      ],
      "text/markdown": [
       "```r\n",
       "function (x, ...) \n",
       "UseMethod(\"print\")\n",
       "```"
      ],
      "text/plain": [
       "function (x, ...) \n",
       "UseMethod(\"print\")\n",
       "<bytecode: 0x558f09660060>\n",
       "<environment: namespace:base>"
      ]
     },
     "metadata": {},
     "output_type": "display_data"
    }
   ],
   "source": [
    "print"
   ]
  },
  {
   "cell_type": "code",
   "execution_count": 33,
   "id": "585db268",
   "metadata": {
    "scrolled": true
   },
   "outputs": [
    {
     "data": {
      "text/plain": [
       "$CHIP_b11\n",
       "An object of class Seurat \n",
       "177009 features across 7533 samples within 1 assay \n",
       "Active assay: ATAC (177009 features, 0 variable features)\n",
       "\n",
       "$CHIP_b12\n",
       "An object of class Seurat \n",
       "195627 features across 6848 samples within 1 assay \n",
       "Active assay: ATAC (195627 features, 0 variable features)\n",
       "\n",
       "$CHIP_b2\n",
       "An object of class Seurat \n",
       "154178 features across 4767 samples within 1 assay \n",
       "Active assay: ATAC (154178 features, 0 variable features)\n",
       "\n",
       "$cd34norm\n",
       "An object of class Seurat \n",
       "202351 features across 11978 samples within 1 assay \n",
       "Active assay: ATAC (202351 features, 0 variable features)\n"
      ]
     },
     "metadata": {},
     "output_type": "display_data"
    }
   ],
   "source": [
    "allSE.full\n"
   ]
  }
 ],
 "metadata": {
  "celltoolbar": "Tags",
  "kernelspec": {
   "display_name": "R",
   "language": "R",
   "name": "ir"
  },
  "language_info": {
   "codemirror_mode": "r",
   "file_extension": ".r",
   "mimetype": "text/x-r-source",
   "name": "R",
   "pygments_lexer": "r",
   "version": "4.1.1"
  }
 },
 "nbformat": 4,
 "nbformat_minor": 5
}
