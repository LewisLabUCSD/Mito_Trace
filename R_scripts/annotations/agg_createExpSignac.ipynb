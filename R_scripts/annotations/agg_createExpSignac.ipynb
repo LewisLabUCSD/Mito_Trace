{
 "cells": [
  {
   "cell_type": "markdown",
   "id": "223d6f46",
   "metadata": {},
   "source": [
    "## Creates binarized Seurat objects, integrates conditions and annotates genes by nearby peaks"
   ]
  },
  {
   "cell_type": "code",
   "execution_count": 1,
   "id": "663e2d4d",
   "metadata": {
    "tags": [
     "parameters"
    ]
   },
   "outputs": [],
   "source": [
    "# Input info\n",
    "#cellr_in = \"/home/isaac/lewis/mito_lineage/output/mtscATAC/data/DUPI_april08_2021_Croker/MTblacklist_mtasnucl/\" \n",
    "#outdir = \"/mnt/md0/isshamie/Projects/Mito_Trace/output/pipeline/DUPI_april08_2021/MTblacklist_mtasnucl_Bonly/data/annotation/gff_hg38_1_2/mergedSamples/\"\n",
    "\n",
    "# Parameters\n",
    "cores = 24\n",
    "\n",
    "gff_id = \"A2_black\"\n",
    "\n",
    "annotations_indir = \"/mnt/md0/isshamie/Projects/Mito_Trace/data/processed/annotation_granges/\"\n",
    "config_f = \"/data/Mito_Trace/parameters/pipeline/cosmo_server_v02/chip_paper/CHIP_aggr_samples.yaml\"\n",
    "out_f = \"/mnt/md0/isshamie/Projects/Mito_Trace/output/CHIP_aggr/data/annotation/gff_A2/mergedSamples/merged_peaks.bed\"\n",
    "outdir =  \"/mnt/md0/isshamie/Projects/Mito_Trace/output/CHIP_aggr/data/annotation/gff_A2/mergedSamples\""
   ]
  },
  {
   "cell_type": "code",
   "execution_count": 2,
   "id": "b62b75ff",
   "metadata": {},
   "outputs": [],
   "source": [
    "library(repr)\n",
    "options(repr.plot.width=12, repr.plot.height=12)"
   ]
  },
  {
   "cell_type": "code",
   "execution_count": 3,
   "id": "674307c4",
   "metadata": {},
   "outputs": [
    {
     "name": "stderr",
     "output_type": "stream",
     "text": [
      "Warning message in readLines(file):\n",
      "“incomplete final line found on '/data/Mito_Trace/parameters/pipeline/cosmo_server_v02/chip_paper/CHIP_aggr_samples.yaml'”\n"
     ]
    },
    {
     "data": {
      "text/html": [
       "<dl>\n",
       "\t<dt>$CHIP_b1</dt>\n",
       "\t\t<dd>'/data/Mito_Trace/parameters/pipeline/cosmo_server_v02/CHIP_dec172021/CHIP_b1_dec172021.csv'</dd>\n",
       "\t<dt>$CHIP_b2</dt>\n",
       "\t\t<dd>'/data/Mito_Trace/parameters/pipeline/cosmo_server_v02/CHIP_dec172021/InputOnly/CHIP_b2_dec172021.csv'</dd>\n",
       "\t<dt>$CHIP_a1</dt>\n",
       "\t\t<dd>'/data/Mito_Trace/parameters/pipeline/cosmo_server_v02/CHIP_Input_nameFix_april08_2021.csv'</dd>\n",
       "\t<dt>$cd34norm</dt>\n",
       "\t\t<dd>'/data/Mito_Trace/parameters/pipeline/cosmo_server_v02/cd34norm.csv'</dd>\n",
       "</dl>\n"
      ],
      "text/latex": [
       "\\begin{description}\n",
       "\\item[\\$CHIP\\_b1] '/data/Mito\\_Trace/parameters/pipeline/cosmo\\_server\\_v02/CHIP\\_dec172021/CHIP\\_b1\\_dec172021.csv'\n",
       "\\item[\\$CHIP\\_b2] '/data/Mito\\_Trace/parameters/pipeline/cosmo\\_server\\_v02/CHIP\\_dec172021/InputOnly/CHIP\\_b2\\_dec172021.csv'\n",
       "\\item[\\$CHIP\\_a1] '/data/Mito\\_Trace/parameters/pipeline/cosmo\\_server\\_v02/CHIP\\_Input\\_nameFix\\_april08\\_2021.csv'\n",
       "\\item[\\$cd34norm] '/data/Mito\\_Trace/parameters/pipeline/cosmo\\_server\\_v02/cd34norm.csv'\n",
       "\\end{description}\n"
      ],
      "text/markdown": [
       "$CHIP_b1\n",
       ":   '/data/Mito_Trace/parameters/pipeline/cosmo_server_v02/CHIP_dec172021/CHIP_b1_dec172021.csv'\n",
       "$CHIP_b2\n",
       ":   '/data/Mito_Trace/parameters/pipeline/cosmo_server_v02/CHIP_dec172021/InputOnly/CHIP_b2_dec172021.csv'\n",
       "$CHIP_a1\n",
       ":   '/data/Mito_Trace/parameters/pipeline/cosmo_server_v02/CHIP_Input_nameFix_april08_2021.csv'\n",
       "$cd34norm\n",
       ":   '/data/Mito_Trace/parameters/pipeline/cosmo_server_v02/cd34norm.csv'\n",
       "\n",
       "\n"
      ],
      "text/plain": [
       "$CHIP_b1\n",
       "[1] \"/data/Mito_Trace/parameters/pipeline/cosmo_server_v02/CHIP_dec172021/CHIP_b1_dec172021.csv\"\n",
       "\n",
       "$CHIP_b2\n",
       "[1] \"/data/Mito_Trace/parameters/pipeline/cosmo_server_v02/CHIP_dec172021/InputOnly/CHIP_b2_dec172021.csv\"\n",
       "\n",
       "$CHIP_a1\n",
       "[1] \"/data/Mito_Trace/parameters/pipeline/cosmo_server_v02/CHIP_Input_nameFix_april08_2021.csv\"\n",
       "\n",
       "$cd34norm\n",
       "[1] \"/data/Mito_Trace/parameters/pipeline/cosmo_server_v02/cd34norm.csv\"\n"
      ]
     },
     "metadata": {},
     "output_type": "display_data"
    }
   ],
   "source": [
    "library(yaml)\n",
    "\n",
    "samps <- read_yaml(config_f)$samples_csv\n",
    "samps"
   ]
  },
  {
   "cell_type": "code",
   "execution_count": 4,
   "id": "13b8908a",
   "metadata": {
    "scrolled": true
   },
   "outputs": [],
   "source": [
    "annotations <- readRDS(file.path(annotations_indir, paste0(gff_id, \".annotationGranges.rds\")))"
   ]
  },
  {
   "cell_type": "code",
   "execution_count": 5,
   "id": "b38edf7a",
   "metadata": {
    "scrolled": true
   },
   "outputs": [
    {
     "name": "stderr",
     "output_type": "stream",
     "text": [
      "Loading required package: GenomicRanges\n",
      "\n",
      "Loading required package: stats4\n",
      "\n",
      "Loading required package: BiocGenerics\n",
      "\n",
      "\n",
      "Attaching package: ‘BiocGenerics’\n",
      "\n",
      "\n",
      "The following objects are masked from ‘package:stats’:\n",
      "\n",
      "    IQR, mad, sd, var, xtabs\n",
      "\n",
      "\n",
      "The following objects are masked from ‘package:base’:\n",
      "\n",
      "    anyDuplicated, append, as.data.frame, basename, cbind, colnames,\n",
      "    dirname, do.call, duplicated, eval, evalq, Filter, Find, get, grep,\n",
      "    grepl, intersect, is.unsorted, lapply, Map, mapply, match, mget,\n",
      "    order, paste, pmax, pmax.int, pmin, pmin.int, Position, rank,\n",
      "    rbind, Reduce, rownames, sapply, setdiff, sort, table, tapply,\n",
      "    union, unique, unsplit, which.max, which.min\n",
      "\n",
      "\n",
      "Loading required package: S4Vectors\n",
      "\n",
      "\n",
      "Attaching package: ‘S4Vectors’\n",
      "\n",
      "\n",
      "The following objects are masked from ‘package:base’:\n",
      "\n",
      "    expand.grid, I, unname\n",
      "\n",
      "\n",
      "Loading required package: IRanges\n",
      "\n",
      "Loading required package: GenomeInfoDb\n",
      "\n"
     ]
    },
    {
     "data": {
      "text/plain": [
       "GRanges object with 2765969 ranges and 25 metadata columns:\n",
       "              seqnames        ranges strand |   source       type     score\n",
       "                 <Rle>     <IRanges>  <Rle> | <factor>   <factor> <numeric>\n",
       "        [1]       chr1   29554-31109      + |   HAVANA gene              NA\n",
       "        [2]       chr1   29554-31097      + |   HAVANA transcript        NA\n",
       "        [3]       chr1   29554-30039      + |   HAVANA exon              NA\n",
       "        [4]       chr1   30564-30667      + |   HAVANA exon              NA\n",
       "        [5]       chr1   30976-31097      + |   HAVANA exon              NA\n",
       "        ...        ...           ...    ... .      ...        ...       ...\n",
       "  [2765965] KI270734.1 138483-138667      - |  ENSEMBL CDS               NA\n",
       "  [2765966] KI270734.1 138480-138482      - |  ENSEMBL stop_codon        NA\n",
       "  [2765967] KI270734.1 161689-161852      - |  ENSEMBL UTR               NA\n",
       "  [2765968] KI270734.1 161587-161626      - |  ENSEMBL UTR               NA\n",
       "  [2765969] KI270734.1 138082-138482      - |  ENSEMBL UTR               NA\n",
       "                phase         gene_id gene_version      gene_type   gene_name\n",
       "            <integer>     <character>  <character>    <character> <character>\n",
       "        [1]      <NA> ENSG00000243485            5         lncRNA MIR1302-2HG\n",
       "        [2]      <NA> ENSG00000243485            5         lncRNA MIR1302-2HG\n",
       "        [3]      <NA> ENSG00000243485            5         lncRNA MIR1302-2HG\n",
       "        [4]      <NA> ENSG00000243485            5         lncRNA MIR1302-2HG\n",
       "        [5]      <NA> ENSG00000243485            5         lncRNA MIR1302-2HG\n",
       "        ...       ...             ...          ...            ...         ...\n",
       "  [2765965]         2 ENSG00000277196            4 protein_coding  AC007325.2\n",
       "  [2765966]         0 ENSG00000277196            4 protein_coding  AC007325.2\n",
       "  [2765967]      <NA> ENSG00000277196            4 protein_coding  AC007325.2\n",
       "  [2765968]      <NA> ENSG00000277196            4 protein_coding  AC007325.2\n",
       "  [2765969]      <NA> ENSG00000277196            4 protein_coding  AC007325.2\n",
       "                  level     hgnc_id         tag          havana_gene\n",
       "            <character> <character> <character>          <character>\n",
       "        [1]           2  HGNC:52482  ncRNA_host OTTHUMG00000000959.2\n",
       "        [2]           2  HGNC:52482       basic OTTHUMG00000000959.2\n",
       "        [3]           2  HGNC:52482       basic OTTHUMG00000000959.2\n",
       "        [4]           2  HGNC:52482       basic OTTHUMG00000000959.2\n",
       "        [5]           2  HGNC:52482       basic OTTHUMG00000000959.2\n",
       "        ...         ...         ...         ...                  ...\n",
       "  [2765965]           3        <NA>       basic                 <NA>\n",
       "  [2765966]           3        <NA>       basic                 <NA>\n",
       "  [2765967]           3        <NA>       basic                 <NA>\n",
       "  [2765968]           3        <NA>       basic                 <NA>\n",
       "  [2765969]           3        <NA>       basic                 <NA>\n",
       "              transcript_id transcript_version transcript_type transcript_name\n",
       "                <character>        <character>     <character>     <character>\n",
       "        [1]            <NA>               <NA>            <NA>            <NA>\n",
       "        [2] ENST00000473358                  1          lncRNA MIR1302-2HG-202\n",
       "        [3] ENST00000473358                  1          lncRNA MIR1302-2HG-202\n",
       "        [4] ENST00000473358                  1          lncRNA MIR1302-2HG-202\n",
       "        [5] ENST00000473358                  1          lncRNA MIR1302-2HG-202\n",
       "        ...             ...                ...             ...             ...\n",
       "  [2765965] ENST00000621424                  4  protein_coding  AC007325.2-201\n",
       "  [2765966] ENST00000621424                  4  protein_coding  AC007325.2-201\n",
       "  [2765967] ENST00000621424                  4  protein_coding  AC007325.2-201\n",
       "  [2765968] ENST00000621424                  4  protein_coding  AC007325.2-201\n",
       "  [2765969] ENST00000621424                  4  protein_coding  AC007325.2-201\n",
       "            transcript_support_level    havana_transcript exon_number\n",
       "                         <character>          <character> <character>\n",
       "        [1]                     <NA>                 <NA>        <NA>\n",
       "        [2]                        5 OTTHUMT00000002840.1        <NA>\n",
       "        [3]                        5 OTTHUMT00000002840.1           1\n",
       "        [4]                        5 OTTHUMT00000002840.1           2\n",
       "        [5]                        5 OTTHUMT00000002840.1           3\n",
       "        ...                      ...                  ...         ...\n",
       "  [2765965]                        1                 <NA>          15\n",
       "  [2765966]                        1                 <NA>          15\n",
       "  [2765967]                        1                 <NA>           1\n",
       "  [2765968]                        1                 <NA>           2\n",
       "  [2765969]                        1                 <NA>          15\n",
       "                    exon_id exon_version        protein_id      ccdsid\n",
       "                <character>  <character>       <character> <character>\n",
       "        [1]            <NA>         <NA>              <NA>        <NA>\n",
       "        [2]            <NA>         <NA>              <NA>        <NA>\n",
       "        [3] ENSE00001947070            1              <NA>        <NA>\n",
       "        [4] ENSE00001922571            1              <NA>        <NA>\n",
       "        [5] ENSE00001827679            1              <NA>        <NA>\n",
       "        ...             ...          ...               ...         ...\n",
       "  [2765965] ENSE00003753010            1 ENSP00000481127.1        <NA>\n",
       "  [2765966] ENSE00003753010            1 ENSP00000481127.1        <NA>\n",
       "  [2765967] ENSE00003746084            1 ENSP00000481127.1        <NA>\n",
       "  [2765968] ENSE00003719550            1 ENSP00000481127.1        <NA>\n",
       "  [2765969] ENSE00003753010            1 ENSP00000481127.1        <NA>\n",
       "                    ont   gene_biotype\n",
       "            <character>    <character>\n",
       "        [1]        <NA>         lncRNA\n",
       "        [2]        <NA>         lncRNA\n",
       "        [3]        <NA>         lncRNA\n",
       "        [4]        <NA>         lncRNA\n",
       "        [5]        <NA>         lncRNA\n",
       "        ...         ...            ...\n",
       "  [2765965]        <NA> protein_coding\n",
       "  [2765966]        <NA> protein_coding\n",
       "  [2765967]        <NA> protein_coding\n",
       "  [2765968]        <NA> protein_coding\n",
       "  [2765969]        <NA> protein_coding\n",
       "  -------\n",
       "  seqinfo: 40 sequences from hg38 genome; no seqlengths"
      ]
     },
     "metadata": {},
     "output_type": "display_data"
    }
   ],
   "source": [
    "annotations"
   ]
  },
  {
   "cell_type": "code",
   "execution_count": 6,
   "id": "aad4f638",
   "metadata": {
    "scrolled": true
   },
   "outputs": [
    {
     "name": "stderr",
     "output_type": "stream",
     "text": [
      "Attaching SeuratObject\n",
      "\n",
      "\n",
      "Attaching package: ‘data.table’\n",
      "\n",
      "\n",
      "The following object is masked from ‘package:GenomicRanges’:\n",
      "\n",
      "    shift\n",
      "\n",
      "\n",
      "The following object is masked from ‘package:IRanges’:\n",
      "\n",
      "    shift\n",
      "\n",
      "\n",
      "The following objects are masked from ‘package:S4Vectors’:\n",
      "\n",
      "    first, second\n",
      "\n",
      "\n",
      "\n",
      "Attaching package: ‘cowplot’\n",
      "\n",
      "\n",
      "The following object is masked from ‘package:patchwork’:\n",
      "\n",
      "    align_plots\n",
      "\n",
      "\n",
      "\n",
      "Attaching package: ‘dplyr’\n",
      "\n",
      "\n",
      "The following objects are masked from ‘package:data.table’:\n",
      "\n",
      "    between, first, last\n",
      "\n",
      "\n",
      "The following objects are masked from ‘package:GenomicRanges’:\n",
      "\n",
      "    intersect, setdiff, union\n",
      "\n",
      "\n",
      "The following object is masked from ‘package:GenomeInfoDb’:\n",
      "\n",
      "    intersect\n",
      "\n",
      "\n",
      "The following objects are masked from ‘package:IRanges’:\n",
      "\n",
      "    collapse, desc, intersect, setdiff, slice, union\n",
      "\n",
      "\n",
      "The following objects are masked from ‘package:S4Vectors’:\n",
      "\n",
      "    first, intersect, rename, setdiff, setequal, union\n",
      "\n",
      "\n",
      "The following objects are masked from ‘package:BiocGenerics’:\n",
      "\n",
      "    combine, intersect, setdiff, union\n",
      "\n",
      "\n",
      "The following objects are masked from ‘package:stats’:\n",
      "\n",
      "    filter, lag\n",
      "\n",
      "\n",
      "The following objects are masked from ‘package:base’:\n",
      "\n",
      "    intersect, setdiff, setequal, union\n",
      "\n",
      "\n",
      "\n",
      "Attaching package: ‘future’\n",
      "\n",
      "\n",
      "The following object is masked from ‘package:GenomicRanges’:\n",
      "\n",
      "    values\n",
      "\n",
      "\n",
      "The following object is masked from ‘package:S4Vectors’:\n",
      "\n",
      "    values\n",
      "\n",
      "\n",
      "Warning message:\n",
      "“Strategy 'multiprocess' is deprecated in future (>= 1.20.0). Instead, explicitly specify either 'multisession' or 'multicore'. In the current R session, 'multiprocess' equals 'multicore'.”\n"
     ]
    }
   ],
   "source": [
    "library(GenomicRanges)\n",
    "library(Seurat)\n",
    "library(Signac)\n",
    "library(GenomeInfoDb)\n",
    "#library(EnsDb.Hsapiens.v75)\n",
    "library(ggplot2)\n",
    "library(patchwork)\n",
    "set.seed(1234)\n",
    "library(data.table)\n",
    "library(magrittr)\n",
    "library(cowplot)\n",
    "library(metap)\n",
    "library(dplyr)\n",
    "library(future)\n",
    "\n",
    "plan(\"multiprocess\", workers = cores)\n",
    "options(future.globals.maxSize = 8000 * 1024^2)\n",
    "#options(future.globals.maxSize = 50000 * 1024^2) # for 50 Gb RAM\n",
    "#plan(\"multiprocess\", workers = workers)"
   ]
  },
  {
   "cell_type": "markdown",
   "id": "a53a3256",
   "metadata": {},
   "source": [
    "## Merge all peaks"
   ]
  },
  {
   "cell_type": "code",
   "execution_count": 7,
   "id": "10de0c31",
   "metadata": {
    "scrolled": true
   },
   "outputs": [
    {
     "name": "stderr",
     "output_type": "stream",
     "text": [
      "\u001b[1mRows: \u001b[22m\u001b[34m3\u001b[39m \u001b[1mColumns: \u001b[22m\u001b[34m5\u001b[39m\n",
      "\u001b[36m──\u001b[39m \u001b[1mColumn specification\u001b[22m \u001b[36m──────────────────────────────────────────────────────────────────────────────────────────────────────────────────────────────────────────────────────────────────────────────────────────────────────────────────────\u001b[39m\n",
      "\u001b[1mDelimiter:\u001b[22m \",\"\n",
      "\u001b[31mchr\u001b[39m (5): sample_name, cellr_ID, fastq_ID, barcode_f, bam_f\n",
      "\n",
      "\u001b[36mℹ\u001b[39m Use `spec()` to retrieve the full column specification for this data.\n",
      "\u001b[36mℹ\u001b[39m Specify the column types or set `show_col_types = FALSE` to quiet this message.\n"
     ]
    },
    {
     "name": "stdout",
     "output_type": "stream",
     "text": [
      "\u001b[90m# A tibble: 3 × 5\u001b[39m\n",
      "  sample_name cellr_ID fastq_ID             barcode_f                      bam_f\n",
      "  \u001b[3m\u001b[90m<chr>\u001b[39m\u001b[23m       \u001b[3m\u001b[90m<chr>\u001b[39m\u001b[23m    \u001b[3m\u001b[90m<chr>\u001b[39m\u001b[23m                \u001b[3m\u001b[90m<chr>\u001b[39m\u001b[23m                          \u001b[3m\u001b[90m<chr>\u001b[39m\u001b[23m\n",
      "\u001b[90m1\u001b[39m Control     Control  BC_10xATAC_rxn1b_neg /home/isaac/lewis/mito_lineag… /hom…\n",
      "\u001b[90m2\u001b[39m Flt3l       Flt3l    BC_10xATAC_rxn1b_pos /home/isaac/lewis/mito_lineag… /hom…\n",
      "\u001b[90m3\u001b[39m Input       Input    BC_10xATAC_rxn1      /home/isaac/lewis/mito_lineag… /hom…\n",
      "[1] \"curr.samp\"\n",
      "[1] \"/home/isaac/lewis/mito_lineage/output/mtscATAC/data/CHIP_dec172021_b1/MTBlacklist_A2/Control/outs/filtered_peak_bc_matrix/barcodes.tsv\"\n",
      "[1] \"/home/isaac/lewis/mito_lineage/output/mtscATAC/data/CHIP_dec172021_b1/MTBlacklist_A2/Control/outs/filtered_peak_bc_matrix/peaks.bed\"\n",
      "[1] \"curr.samp\"\n",
      "[1] \"/home/isaac/lewis/mito_lineage/output/mtscATAC/data/CHIP_dec172021_b1/MTBlacklist_A2/Flt3l/outs/filtered_peak_bc_matrix/barcodes.tsv\"\n",
      "[1] \"/home/isaac/lewis/mito_lineage/output/mtscATAC/data/CHIP_dec172021_b1/MTBlacklist_A2/Flt3l/outs/filtered_peak_bc_matrix/peaks.bed\"\n",
      "[1] \"curr.samp\"\n",
      "[1] \"/home/isaac/lewis/mito_lineage/output/mtscATAC/data/CHIP_dec172021_b1/MTBlacklist_A2/Input/outs/filtered_peak_bc_matrix/barcodes.tsv\"\n",
      "[1] \"/home/isaac/lewis/mito_lineage/output/mtscATAC/data/CHIP_dec172021_b1/MTBlacklist_A2/Input/outs/filtered_peak_bc_matrix/peaks.bed\"\n"
     ]
    },
    {
     "name": "stderr",
     "output_type": "stream",
     "text": [
      "\u001b[1mRows: \u001b[22m\u001b[34m1\u001b[39m \u001b[1mColumns: \u001b[22m\u001b[34m5\u001b[39m\n",
      "\u001b[36m──\u001b[39m \u001b[1mColumn specification\u001b[22m \u001b[36m──────────────────────────────────────────────────────────────────────────────────────────────────────────────────────────────────────────────────────────────────────────────────────────────────────────────────────\u001b[39m\n",
      "\u001b[1mDelimiter:\u001b[22m \",\"\n",
      "\u001b[31mchr\u001b[39m (5): sample_name, cellr_ID, fastq_ID, barcode_f, bam_f\n",
      "\n",
      "\u001b[36mℹ\u001b[39m Use `spec()` to retrieve the full column specification for this data.\n",
      "\u001b[36mℹ\u001b[39m Specify the column types or set `show_col_types = FALSE` to quiet this message.\n"
     ]
    },
    {
     "name": "stdout",
     "output_type": "stream",
     "text": [
      "\u001b[90m# A tibble: 1 × 5\u001b[39m\n",
      "  sample_name cellr_ID fastq_ID        barcode_f                           bam_f\n",
      "  \u001b[3m\u001b[90m<chr>\u001b[39m\u001b[23m       \u001b[3m\u001b[90m<chr>\u001b[39m\u001b[23m    \u001b[3m\u001b[90m<chr>\u001b[39m\u001b[23m           \u001b[3m\u001b[90m<chr>\u001b[39m\u001b[23m                               \u001b[3m\u001b[90m<chr>\u001b[39m\u001b[23m\n",
      "\u001b[90m1\u001b[39m Input       Input    BC_10xATAC_rxn2 /home/isaac/lewis/mito_lineage/out… /hom…\n",
      "[1] \"curr.samp\"\n",
      "[1] \"/home/isaac/lewis/mito_lineage/output/mtscATAC/data/CHIP_dec172021_b2/MTBlacklist_A2/Input/outs/filtered_peak_bc_matrix/barcodes.tsv\"\n",
      "[1] \"/home/isaac/lewis/mito_lineage/output/mtscATAC/data/CHIP_dec172021_b2/MTBlacklist_A2/Input/outs/filtered_peak_bc_matrix/peaks.bed\"\n"
     ]
    },
    {
     "name": "stderr",
     "output_type": "stream",
     "text": [
      "\u001b[1mRows: \u001b[22m\u001b[34m2\u001b[39m \u001b[1mColumns: \u001b[22m\u001b[34m5\u001b[39m\n",
      "\u001b[36m──\u001b[39m \u001b[1mColumn specification\u001b[22m \u001b[36m──────────────────────────────────────────────────────────────────────────────────────────────────────────────────────────────────────────────────────────────────────────────────────────────────────────────────────\u001b[39m\n",
      "\u001b[1mDelimiter:\u001b[22m \",\"\n",
      "\u001b[31mchr\u001b[39m (5): sample_name, cellr_ID, fastq_ID, barcode_f, bam_f\n",
      "\n",
      "\u001b[36mℹ\u001b[39m Use `spec()` to retrieve the full column specification for this data.\n",
      "\u001b[36mℹ\u001b[39m Specify the column types or set `show_col_types = FALSE` to quiet this message.\n"
     ]
    },
    {
     "name": "stdout",
     "output_type": "stream",
     "text": [
      "\u001b[90m# A tibble: 2 × 5\u001b[39m\n",
      "  sample_name cellr_ID fastq_ID      barcode_f                             bam_f\n",
      "  \u001b[3m\u001b[90m<chr>\u001b[39m\u001b[23m       \u001b[3m\u001b[90m<chr>\u001b[39m\u001b[23m    \u001b[3m\u001b[90m<chr>\u001b[39m\u001b[23m         \u001b[3m\u001b[90m<chr>\u001b[39m\u001b[23m                                 \u001b[3m\u001b[90m<chr>\u001b[39m\u001b[23m\n",
      "\u001b[90m1\u001b[39m Input       Flt3l    BC_10xATAC_Fp /home/isaac/lewis/mito_lineage/outpu… /hom…\n",
      "\u001b[90m2\u001b[39m Flt3l       Control  BC_10xATAC_Fn /home/isaac/lewis/mito_lineage/outpu… /hom…\n",
      "[1] \"curr.samp\"\n",
      "[1] \"/home/isaac/lewis/mito_lineage/output/mtscATAC/data/CHIP_april08_2021_Croker/MTblacklist/Flt3l/outs/filtered_peak_bc_matrix/barcodes.tsv\"\n",
      "[1] \"/home/isaac/lewis/mito_lineage/output/mtscATAC/data/CHIP_april08_2021_Croker/MTblacklist/Flt3l/outs/filtered_peak_bc_matrix/peaks.bed\"\n",
      "[1] \"curr.samp\"\n",
      "[1] \"/home/isaac/lewis/mito_lineage/output/mtscATAC/data/CHIP_april08_2021_Croker/MTblacklist/Control/outs/filtered_peak_bc_matrix/barcodes.tsv\"\n",
      "[1] \"/home/isaac/lewis/mito_lineage/output/mtscATAC/data/CHIP_april08_2021_Croker/MTblacklist/Control/outs/filtered_peak_bc_matrix/peaks.bed\"\n"
     ]
    },
    {
     "name": "stderr",
     "output_type": "stream",
     "text": [
      "\u001b[1mRows: \u001b[22m\u001b[34m2\u001b[39m \u001b[1mColumns: \u001b[22m\u001b[34m5\u001b[39m\n",
      "\u001b[36m──\u001b[39m \u001b[1mColumn specification\u001b[22m \u001b[36m──────────────────────────────────────────────────────────────────────────────────────────────────────────────────────────────────────────────────────────────────────────────────────────────────────────────────────\u001b[39m\n",
      "\u001b[1mDelimiter:\u001b[22m \",\"\n",
      "\u001b[31mchr\u001b[39m (5): sample_name, cellr_ID, fastq_ID, barcode_f, bam_f\n",
      "\n",
      "\u001b[36mℹ\u001b[39m Use `spec()` to retrieve the full column specification for this data.\n",
      "\u001b[36mℹ\u001b[39m Specify the column types or set `show_col_types = FALSE` to quiet this message.\n"
     ]
    },
    {
     "name": "stdout",
     "output_type": "stream",
     "text": [
      "\u001b[90m# A tibble: 2 × 5\u001b[39m\n",
      "  sample_name cellr_ID fastq_ID      barcode_f                             bam_f\n",
      "  \u001b[3m\u001b[90m<chr>\u001b[39m\u001b[23m       \u001b[3m\u001b[90m<chr>\u001b[39m\u001b[23m    \u001b[3m\u001b[90m<chr>\u001b[39m\u001b[23m         \u001b[3m\u001b[90m<chr>\u001b[39m\u001b[23m                                 \u001b[3m\u001b[90m<chr>\u001b[39m\u001b[23m\n",
      "\u001b[90m1\u001b[39m Control     P2       BC_10xATAC_P2 /home/isaac/lewis/mito_lineage/outpu… /hom…\n",
      "\u001b[90m2\u001b[39m Flt3l       J2       BC_10xATAC_J2 /home/isaac/lewis/mito_lineage/outpu… /hom…\n",
      "[1] \"curr.samp\"\n",
      "[1] \"/home/isaac/lewis/mito_lineage/output/mtscATAC/data/jan21_2021/MTblacklist/P2/outs/filtered_peak_bc_matrix/barcodes.tsv\"\n",
      "[1] \"/home/isaac/lewis/mito_lineage/output/mtscATAC/data/jan21_2021/MTblacklist/P2/outs/filtered_peak_bc_matrix/peaks.bed\"\n",
      "[1] \"curr.samp\"\n",
      "[1] \"/home/isaac/lewis/mito_lineage/output/mtscATAC/data/jan21_2021/MTblacklist/J2/outs/filtered_peak_bc_matrix/barcodes.tsv\"\n",
      "[1] \"/home/isaac/lewis/mito_lineage/output/mtscATAC/data/jan21_2021/MTblacklist/J2/outs/filtered_peak_bc_matrix/peaks.bed\"\n"
     ]
    }
   ],
   "source": [
    "read.peaks <- function(curr.samp.f){\n",
    "    print('curr.samp')\n",
    "    print(curr.samp.f)\n",
    "    print(stringr::str_replace(curr.samp.f, \"barcodes.tsv\", \"peaks.bed\"))\n",
    "    peaks <- read.table(\n",
    "      file = stringr::str_replace(curr.samp.f, \"barcodes.tsv\", \"peaks.bed\"),\n",
    "      col.names = c(\"chr\", \"start\", \"end\")\n",
    "    )\n",
    "    # convert to genomic ranges\n",
    "    gr <- makeGRangesFromDataFrame(peaks)\n",
    "    return(gr)\n",
    "}\n",
    "\n",
    "\n",
    "run.experiments <- function(sample_csv){\n",
    "    curr.csv <- readr::read_csv(sample_csv)\n",
    "    print(curr.csv)\n",
    "    curr.grs <- sapply(curr.csv$barcode_f, read.peaks)\n",
    "    return(curr.grs)\n",
    "}\n",
    "\n",
    "gr.full <- sapply(samps, run.experiments)\n"
   ]
  },
  {
   "cell_type": "code",
   "execution_count": 8,
   "id": "2d99e4d6",
   "metadata": {},
   "outputs": [],
   "source": [
    "gr.full <- unlist(gr.full, recursive=FALSE, use.names=FALSE)\n"
   ]
  },
  {
   "cell_type": "code",
   "execution_count": 9,
   "id": "62849b8a",
   "metadata": {
    "scrolled": true
   },
   "outputs": [
    {
     "data": {
      "text/plain": [
       "GRanges object with 6 ranges and 0 metadata columns:\n",
       "      seqnames        ranges strand\n",
       "         <Rle>     <IRanges>  <Rle>\n",
       "  [1]     chr1    9866-10638      *\n",
       "  [2]     chr1   16106-16366      *\n",
       "  [3]     chr1   96454-96767      *\n",
       "  [4]     chr1 180685-181403      *\n",
       "  [5]     chr1 184126-184527      *\n",
       "  [6]     chr1 191059-192097      *\n",
       "  -------\n",
       "  seqinfo: 24 sequences from an unspecified genome; no seqlengths"
      ]
     },
     "metadata": {},
     "output_type": "display_data"
    }
   ],
   "source": [
    "gr.full.c <- gr.full[[1]]\n",
    "if (length(gr.full)>1){\n",
    "    for (i in 2:length(gr.full)){\n",
    "      gr.full.c <- c(gr.full.c, gr.full[[i]])\n",
    "    }\n",
    "}\n",
    "combined.peaks <- reduce(x = c(gr.full.c))\n",
    "\n",
    "# Filter out bad peaks based on length\n",
    "peakwidths <- width(combined.peaks)\n",
    "combined.peaks <- combined.peaks[peakwidths  < 10000 & peakwidths > 20]\n",
    "head(combined.peaks)"
   ]
  },
  {
   "cell_type": "code",
   "execution_count": 10,
   "id": "b933b0c8",
   "metadata": {},
   "outputs": [
    {
     "data": {
      "text/html": [
       "230725"
      ],
      "text/latex": [
       "230725"
      ],
      "text/markdown": [
       "230725"
      ],
      "text/plain": [
       "[1] 230725"
      ]
     },
     "metadata": {},
     "output_type": "display_data"
    }
   ],
   "source": [
    "length(combined.peaks)"
   ]
  },
  {
   "cell_type": "markdown",
   "id": "f9242485",
   "metadata": {},
   "source": [
    "## Are any peaks in the chrM"
   ]
  },
  {
   "cell_type": "code",
   "execution_count": 11,
   "id": "29cf7790",
   "metadata": {},
   "outputs": [
    {
     "data": {
      "text/html": [
       "230725"
      ],
      "text/latex": [
       "230725"
      ],
      "text/markdown": [
       "230725"
      ],
      "text/plain": [
       "[1] 230725"
      ]
     },
     "metadata": {},
     "output_type": "display_data"
    }
   ],
   "source": [
    "length(combined.peaks[seqnames(combined.peaks) != \"chrM\"])\n"
   ]
  },
  {
   "cell_type": "code",
   "execution_count": 12,
   "id": "27d61bd3",
   "metadata": {
    "scrolled": false
   },
   "outputs": [
    {
     "data": {
      "text/plain": [
       "GRanges object with 21709 ranges and 0 metadata columns:\n",
       "          seqnames              ranges strand\n",
       "             <Rle>           <IRanges>  <Rle>\n",
       "      [1]     chr1          9866-10638      *\n",
       "      [2]     chr1         16106-16366      *\n",
       "      [3]     chr1         96454-96767      *\n",
       "      [4]     chr1       180685-181403      *\n",
       "      [5]     chr1       184126-184527      *\n",
       "      ...      ...                 ...    ...\n",
       "  [21705]     chr1 248924437-248928616      *\n",
       "  [21706]     chr1 248930023-248930301      *\n",
       "  [21707]     chr1 248942373-248942525      *\n",
       "  [21708]     chr1 248944205-248944462      *\n",
       "  [21709]     chr1 248944909-248946333      *\n",
       "  -------\n",
       "  seqinfo: 24 sequences from an unspecified genome; no seqlengths"
      ]
     },
     "metadata": {},
     "output_type": "display_data"
    }
   ],
   "source": [
    "#combined.peaks[seqnames(combined.peaks) == \"chrM\"]\n",
    "\n",
    "combined.peaks[seqnames(combined.peaks) == \"chr1\"]\n"
   ]
  },
  {
   "cell_type": "markdown",
   "id": "fa630e1c",
   "metadata": {},
   "source": [
    "## Remove any peaks in the chrM"
   ]
  },
  {
   "cell_type": "code",
   "execution_count": 13,
   "id": "cb249d4a",
   "metadata": {},
   "outputs": [
    {
     "data": {
      "text/html": [
       "230725"
      ],
      "text/latex": [
       "230725"
      ],
      "text/markdown": [
       "230725"
      ],
      "text/plain": [
       "[1] 230725"
      ]
     },
     "metadata": {},
     "output_type": "display_data"
    }
   ],
   "source": [
    "combined.peaks = combined.peaks[seqnames(combined.peaks) != \"chrM\"]\n",
    "length(combined.peaks)"
   ]
  },
  {
   "cell_type": "markdown",
   "id": "7fe40d79",
   "metadata": {},
   "source": [
    "## Save merged peaks as bed"
   ]
  },
  {
   "cell_type": "code",
   "execution_count": 14,
   "id": "b6225d8c",
   "metadata": {},
   "outputs": [],
   "source": [
    "gr <- unlist(as(gr.full, \"GRangesList\"))"
   ]
  },
  {
   "cell_type": "code",
   "execution_count": 15,
   "id": "dae23bef",
   "metadata": {
    "scrolled": true
   },
   "outputs": [
    {
     "data": {
      "text/html": [
       "<table class=\"dataframe\">\n",
       "<caption>A data.frame: 1136127 × 6</caption>\n",
       "<thead>\n",
       "\t<tr><th scope=col>seqnames</th><th scope=col>starts</th><th scope=col>ends</th><th scope=col>names</th><th scope=col>scores</th><th scope=col>strands</th></tr>\n",
       "\t<tr><th scope=col>&lt;fct&gt;</th><th scope=col>&lt;int&gt;</th><th scope=col>&lt;int&gt;</th><th scope=col>&lt;int&gt;</th><th scope=col>&lt;chr&gt;</th><th scope=col>&lt;fct&gt;</th></tr>\n",
       "</thead>\n",
       "<tbody>\n",
       "\t<tr><td>chr1</td><td>  9866</td><td> 10609</td><td> 1</td><td>.</td><td>*</td></tr>\n",
       "\t<tr><td>chr1</td><td>180846</td><td>180976</td><td> 2</td><td>.</td><td>*</td></tr>\n",
       "\t<tr><td>chr1</td><td>184393</td><td>184458</td><td> 3</td><td>.</td><td>*</td></tr>\n",
       "\t<tr><td>chr1</td><td>191211</td><td>191970</td><td> 4</td><td>.</td><td>*</td></tr>\n",
       "\t<tr><td>chr1</td><td>267786</td><td>268257</td><td> 5</td><td>.</td><td>*</td></tr>\n",
       "\t<tr><td>chr1</td><td>271048</td><td>271558</td><td> 6</td><td>.</td><td>*</td></tr>\n",
       "\t<tr><td>chr1</td><td>586018</td><td>586368</td><td> 7</td><td>.</td><td>*</td></tr>\n",
       "\t<tr><td>chr1</td><td>605251</td><td>605792</td><td> 8</td><td>.</td><td>*</td></tr>\n",
       "\t<tr><td>chr1</td><td>778134</td><td>779417</td><td> 9</td><td>.</td><td>*</td></tr>\n",
       "\t<tr><td>chr1</td><td>816855</td><td>817645</td><td>10</td><td>.</td><td>*</td></tr>\n",
       "\t<tr><td>chr1</td><td>825192</td><td>825653</td><td>11</td><td>.</td><td>*</td></tr>\n",
       "\t<tr><td>chr1</td><td>826729</td><td>827922</td><td>12</td><td>.</td><td>*</td></tr>\n",
       "\t<tr><td>chr1</td><td>838084</td><td>838801</td><td>13</td><td>.</td><td>*</td></tr>\n",
       "\t<tr><td>chr1</td><td>842842</td><td>843103</td><td>14</td><td>.</td><td>*</td></tr>\n",
       "\t<tr><td>chr1</td><td>858100</td><td>858306</td><td>15</td><td>.</td><td>*</td></tr>\n",
       "\t<tr><td>chr1</td><td>869106</td><td>870233</td><td>16</td><td>.</td><td>*</td></tr>\n",
       "\t<tr><td>chr1</td><td>890737</td><td>891033</td><td>17</td><td>.</td><td>*</td></tr>\n",
       "\t<tr><td>chr1</td><td>897212</td><td>897762</td><td>18</td><td>.</td><td>*</td></tr>\n",
       "\t<tr><td>chr1</td><td>904367</td><td>905700</td><td>19</td><td>.</td><td>*</td></tr>\n",
       "\t<tr><td>chr1</td><td>906308</td><td>907412</td><td>20</td><td>.</td><td>*</td></tr>\n",
       "\t<tr><td>chr1</td><td>911102</td><td>911684</td><td>21</td><td>.</td><td>*</td></tr>\n",
       "\t<tr><td>chr1</td><td>912554</td><td>913314</td><td>22</td><td>.</td><td>*</td></tr>\n",
       "\t<tr><td>chr1</td><td>915728</td><td>915852</td><td>23</td><td>.</td><td>*</td></tr>\n",
       "\t<tr><td>chr1</td><td>916617</td><td>917014</td><td>24</td><td>.</td><td>*</td></tr>\n",
       "\t<tr><td>chr1</td><td>920790</td><td>921445</td><td>25</td><td>.</td><td>*</td></tr>\n",
       "\t<tr><td>chr1</td><td>923181</td><td>924045</td><td>26</td><td>.</td><td>*</td></tr>\n",
       "\t<tr><td>chr1</td><td>924794</td><td>925196</td><td>27</td><td>.</td><td>*</td></tr>\n",
       "\t<tr><td>chr1</td><td>931770</td><td>932123</td><td>28</td><td>.</td><td>*</td></tr>\n",
       "\t<tr><td>chr1</td><td>938041</td><td>938580</td><td>29</td><td>.</td><td>*</td></tr>\n",
       "\t<tr><td>chr1</td><td>940117</td><td>940936</td><td>30</td><td>.</td><td>*</td></tr>\n",
       "\t<tr><td>⋮</td><td>⋮</td><td>⋮</td><td>⋮</td><td>⋮</td><td>⋮</td></tr>\n",
       "\t<tr><td>chrY</td><td>21073588</td><td>21074201</td><td>1136098</td><td>.</td><td>*</td></tr>\n",
       "\t<tr><td>chrY</td><td>21121103</td><td>21121268</td><td>1136099</td><td>.</td><td>*</td></tr>\n",
       "\t<tr><td>chrY</td><td>21138351</td><td>21138610</td><td>1136100</td><td>.</td><td>*</td></tr>\n",
       "\t<tr><td>chrY</td><td>21169851</td><td>21170017</td><td>1136101</td><td>.</td><td>*</td></tr>\n",
       "\t<tr><td>chrY</td><td>21174587</td><td>21175410</td><td>1136102</td><td>.</td><td>*</td></tr>\n",
       "\t<tr><td>chrY</td><td>21177218</td><td>21177754</td><td>1136103</td><td>.</td><td>*</td></tr>\n",
       "\t<tr><td>chrY</td><td>21185378</td><td>21185381</td><td>1136104</td><td>.</td><td>*</td></tr>\n",
       "\t<tr><td>chrY</td><td>21192736</td><td>21193167</td><td>1136105</td><td>.</td><td>*</td></tr>\n",
       "\t<tr><td>chrY</td><td>21200284</td><td>21200698</td><td>1136106</td><td>.</td><td>*</td></tr>\n",
       "\t<tr><td>chrY</td><td>21239830</td><td>21241422</td><td>1136107</td><td>.</td><td>*</td></tr>\n",
       "\t<tr><td>chrY</td><td>21249466</td><td>21249969</td><td>1136108</td><td>.</td><td>*</td></tr>\n",
       "\t<tr><td>chrY</td><td>21256823</td><td>21257220</td><td>1136109</td><td>.</td><td>*</td></tr>\n",
       "\t<tr><td>chrY</td><td>21260332</td><td>21260717</td><td>1136110</td><td>.</td><td>*</td></tr>\n",
       "\t<tr><td>chrY</td><td>21295395</td><td>21295420</td><td>1136111</td><td>.</td><td>*</td></tr>\n",
       "\t<tr><td>chrY</td><td>21422192</td><td>21422563</td><td>1136112</td><td>.</td><td>*</td></tr>\n",
       "\t<tr><td>chrY</td><td>21440579</td><td>21440875</td><td>1136113</td><td>.</td><td>*</td></tr>\n",
       "\t<tr><td>chrY</td><td>26670186</td><td>26671904</td><td>1136114</td><td>.</td><td>*</td></tr>\n",
       "\t<tr><td>chrY</td><td>56685327</td><td>56685820</td><td>1136115</td><td>.</td><td>*</td></tr>\n",
       "\t<tr><td>chrY</td><td>56706937</td><td>56707463</td><td>1136116</td><td>.</td><td>*</td></tr>\n",
       "\t<tr><td>chrY</td><td>56727997</td><td>56728322</td><td>1136117</td><td>.</td><td>*</td></tr>\n",
       "\t<tr><td>chrY</td><td>56734606</td><td>56734971</td><td>1136118</td><td>.</td><td>*</td></tr>\n",
       "\t<tr><td>chrY</td><td>56763265</td><td>56763783</td><td>1136119</td><td>.</td><td>*</td></tr>\n",
       "\t<tr><td>chrY</td><td>56826520</td><td>56826658</td><td>1136120</td><td>.</td><td>*</td></tr>\n",
       "\t<tr><td>chrY</td><td>56829117</td><td>56840260</td><td>1136121</td><td>.</td><td>*</td></tr>\n",
       "\t<tr><td>chrY</td><td>56841414</td><td>56842686</td><td>1136122</td><td>.</td><td>*</td></tr>\n",
       "\t<tr><td>chrY</td><td>56843534</td><td>56844006</td><td>1136123</td><td>.</td><td>*</td></tr>\n",
       "\t<tr><td>chrY</td><td>56844768</td><td>56845155</td><td>1136124</td><td>.</td><td>*</td></tr>\n",
       "\t<tr><td>chrY</td><td>56846032</td><td>56848638</td><td>1136125</td><td>.</td><td>*</td></tr>\n",
       "\t<tr><td>chrY</td><td>56849233</td><td>56851581</td><td>1136126</td><td>.</td><td>*</td></tr>\n",
       "\t<tr><td>chrY</td><td>56873756</td><td>56874037</td><td>1136127</td><td>.</td><td>*</td></tr>\n",
       "</tbody>\n",
       "</table>\n"
      ],
      "text/latex": [
       "A data.frame: 1136127 × 6\n",
       "\\begin{tabular}{llllll}\n",
       " seqnames & starts & ends & names & scores & strands\\\\\n",
       " <fct> & <int> & <int> & <int> & <chr> & <fct>\\\\\n",
       "\\hline\n",
       "\t chr1 &   9866 &  10609 &  1 & . & *\\\\\n",
       "\t chr1 & 180846 & 180976 &  2 & . & *\\\\\n",
       "\t chr1 & 184393 & 184458 &  3 & . & *\\\\\n",
       "\t chr1 & 191211 & 191970 &  4 & . & *\\\\\n",
       "\t chr1 & 267786 & 268257 &  5 & . & *\\\\\n",
       "\t chr1 & 271048 & 271558 &  6 & . & *\\\\\n",
       "\t chr1 & 586018 & 586368 &  7 & . & *\\\\\n",
       "\t chr1 & 605251 & 605792 &  8 & . & *\\\\\n",
       "\t chr1 & 778134 & 779417 &  9 & . & *\\\\\n",
       "\t chr1 & 816855 & 817645 & 10 & . & *\\\\\n",
       "\t chr1 & 825192 & 825653 & 11 & . & *\\\\\n",
       "\t chr1 & 826729 & 827922 & 12 & . & *\\\\\n",
       "\t chr1 & 838084 & 838801 & 13 & . & *\\\\\n",
       "\t chr1 & 842842 & 843103 & 14 & . & *\\\\\n",
       "\t chr1 & 858100 & 858306 & 15 & . & *\\\\\n",
       "\t chr1 & 869106 & 870233 & 16 & . & *\\\\\n",
       "\t chr1 & 890737 & 891033 & 17 & . & *\\\\\n",
       "\t chr1 & 897212 & 897762 & 18 & . & *\\\\\n",
       "\t chr1 & 904367 & 905700 & 19 & . & *\\\\\n",
       "\t chr1 & 906308 & 907412 & 20 & . & *\\\\\n",
       "\t chr1 & 911102 & 911684 & 21 & . & *\\\\\n",
       "\t chr1 & 912554 & 913314 & 22 & . & *\\\\\n",
       "\t chr1 & 915728 & 915852 & 23 & . & *\\\\\n",
       "\t chr1 & 916617 & 917014 & 24 & . & *\\\\\n",
       "\t chr1 & 920790 & 921445 & 25 & . & *\\\\\n",
       "\t chr1 & 923181 & 924045 & 26 & . & *\\\\\n",
       "\t chr1 & 924794 & 925196 & 27 & . & *\\\\\n",
       "\t chr1 & 931770 & 932123 & 28 & . & *\\\\\n",
       "\t chr1 & 938041 & 938580 & 29 & . & *\\\\\n",
       "\t chr1 & 940117 & 940936 & 30 & . & *\\\\\n",
       "\t ⋮ & ⋮ & ⋮ & ⋮ & ⋮ & ⋮\\\\\n",
       "\t chrY & 21073588 & 21074201 & 1136098 & . & *\\\\\n",
       "\t chrY & 21121103 & 21121268 & 1136099 & . & *\\\\\n",
       "\t chrY & 21138351 & 21138610 & 1136100 & . & *\\\\\n",
       "\t chrY & 21169851 & 21170017 & 1136101 & . & *\\\\\n",
       "\t chrY & 21174587 & 21175410 & 1136102 & . & *\\\\\n",
       "\t chrY & 21177218 & 21177754 & 1136103 & . & *\\\\\n",
       "\t chrY & 21185378 & 21185381 & 1136104 & . & *\\\\\n",
       "\t chrY & 21192736 & 21193167 & 1136105 & . & *\\\\\n",
       "\t chrY & 21200284 & 21200698 & 1136106 & . & *\\\\\n",
       "\t chrY & 21239830 & 21241422 & 1136107 & . & *\\\\\n",
       "\t chrY & 21249466 & 21249969 & 1136108 & . & *\\\\\n",
       "\t chrY & 21256823 & 21257220 & 1136109 & . & *\\\\\n",
       "\t chrY & 21260332 & 21260717 & 1136110 & . & *\\\\\n",
       "\t chrY & 21295395 & 21295420 & 1136111 & . & *\\\\\n",
       "\t chrY & 21422192 & 21422563 & 1136112 & . & *\\\\\n",
       "\t chrY & 21440579 & 21440875 & 1136113 & . & *\\\\\n",
       "\t chrY & 26670186 & 26671904 & 1136114 & . & *\\\\\n",
       "\t chrY & 56685327 & 56685820 & 1136115 & . & *\\\\\n",
       "\t chrY & 56706937 & 56707463 & 1136116 & . & *\\\\\n",
       "\t chrY & 56727997 & 56728322 & 1136117 & . & *\\\\\n",
       "\t chrY & 56734606 & 56734971 & 1136118 & . & *\\\\\n",
       "\t chrY & 56763265 & 56763783 & 1136119 & . & *\\\\\n",
       "\t chrY & 56826520 & 56826658 & 1136120 & . & *\\\\\n",
       "\t chrY & 56829117 & 56840260 & 1136121 & . & *\\\\\n",
       "\t chrY & 56841414 & 56842686 & 1136122 & . & *\\\\\n",
       "\t chrY & 56843534 & 56844006 & 1136123 & . & *\\\\\n",
       "\t chrY & 56844768 & 56845155 & 1136124 & . & *\\\\\n",
       "\t chrY & 56846032 & 56848638 & 1136125 & . & *\\\\\n",
       "\t chrY & 56849233 & 56851581 & 1136126 & . & *\\\\\n",
       "\t chrY & 56873756 & 56874037 & 1136127 & . & *\\\\\n",
       "\\end{tabular}\n"
      ],
      "text/markdown": [
       "\n",
       "A data.frame: 1136127 × 6\n",
       "\n",
       "| seqnames &lt;fct&gt; | starts &lt;int&gt; | ends &lt;int&gt; | names &lt;int&gt; | scores &lt;chr&gt; | strands &lt;fct&gt; |\n",
       "|---|---|---|---|---|---|\n",
       "| chr1 |   9866 |  10609 |  1 | . | * |\n",
       "| chr1 | 180846 | 180976 |  2 | . | * |\n",
       "| chr1 | 184393 | 184458 |  3 | . | * |\n",
       "| chr1 | 191211 | 191970 |  4 | . | * |\n",
       "| chr1 | 267786 | 268257 |  5 | . | * |\n",
       "| chr1 | 271048 | 271558 |  6 | . | * |\n",
       "| chr1 | 586018 | 586368 |  7 | . | * |\n",
       "| chr1 | 605251 | 605792 |  8 | . | * |\n",
       "| chr1 | 778134 | 779417 |  9 | . | * |\n",
       "| chr1 | 816855 | 817645 | 10 | . | * |\n",
       "| chr1 | 825192 | 825653 | 11 | . | * |\n",
       "| chr1 | 826729 | 827922 | 12 | . | * |\n",
       "| chr1 | 838084 | 838801 | 13 | . | * |\n",
       "| chr1 | 842842 | 843103 | 14 | . | * |\n",
       "| chr1 | 858100 | 858306 | 15 | . | * |\n",
       "| chr1 | 869106 | 870233 | 16 | . | * |\n",
       "| chr1 | 890737 | 891033 | 17 | . | * |\n",
       "| chr1 | 897212 | 897762 | 18 | . | * |\n",
       "| chr1 | 904367 | 905700 | 19 | . | * |\n",
       "| chr1 | 906308 | 907412 | 20 | . | * |\n",
       "| chr1 | 911102 | 911684 | 21 | . | * |\n",
       "| chr1 | 912554 | 913314 | 22 | . | * |\n",
       "| chr1 | 915728 | 915852 | 23 | . | * |\n",
       "| chr1 | 916617 | 917014 | 24 | . | * |\n",
       "| chr1 | 920790 | 921445 | 25 | . | * |\n",
       "| chr1 | 923181 | 924045 | 26 | . | * |\n",
       "| chr1 | 924794 | 925196 | 27 | . | * |\n",
       "| chr1 | 931770 | 932123 | 28 | . | * |\n",
       "| chr1 | 938041 | 938580 | 29 | . | * |\n",
       "| chr1 | 940117 | 940936 | 30 | . | * |\n",
       "| ⋮ | ⋮ | ⋮ | ⋮ | ⋮ | ⋮ |\n",
       "| chrY | 21073588 | 21074201 | 1136098 | . | * |\n",
       "| chrY | 21121103 | 21121268 | 1136099 | . | * |\n",
       "| chrY | 21138351 | 21138610 | 1136100 | . | * |\n",
       "| chrY | 21169851 | 21170017 | 1136101 | . | * |\n",
       "| chrY | 21174587 | 21175410 | 1136102 | . | * |\n",
       "| chrY | 21177218 | 21177754 | 1136103 | . | * |\n",
       "| chrY | 21185378 | 21185381 | 1136104 | . | * |\n",
       "| chrY | 21192736 | 21193167 | 1136105 | . | * |\n",
       "| chrY | 21200284 | 21200698 | 1136106 | . | * |\n",
       "| chrY | 21239830 | 21241422 | 1136107 | . | * |\n",
       "| chrY | 21249466 | 21249969 | 1136108 | . | * |\n",
       "| chrY | 21256823 | 21257220 | 1136109 | . | * |\n",
       "| chrY | 21260332 | 21260717 | 1136110 | . | * |\n",
       "| chrY | 21295395 | 21295420 | 1136111 | . | * |\n",
       "| chrY | 21422192 | 21422563 | 1136112 | . | * |\n",
       "| chrY | 21440579 | 21440875 | 1136113 | . | * |\n",
       "| chrY | 26670186 | 26671904 | 1136114 | . | * |\n",
       "| chrY | 56685327 | 56685820 | 1136115 | . | * |\n",
       "| chrY | 56706937 | 56707463 | 1136116 | . | * |\n",
       "| chrY | 56727997 | 56728322 | 1136117 | . | * |\n",
       "| chrY | 56734606 | 56734971 | 1136118 | . | * |\n",
       "| chrY | 56763265 | 56763783 | 1136119 | . | * |\n",
       "| chrY | 56826520 | 56826658 | 1136120 | . | * |\n",
       "| chrY | 56829117 | 56840260 | 1136121 | . | * |\n",
       "| chrY | 56841414 | 56842686 | 1136122 | . | * |\n",
       "| chrY | 56843534 | 56844006 | 1136123 | . | * |\n",
       "| chrY | 56844768 | 56845155 | 1136124 | . | * |\n",
       "| chrY | 56846032 | 56848638 | 1136125 | . | * |\n",
       "| chrY | 56849233 | 56851581 | 1136126 | . | * |\n",
       "| chrY | 56873756 | 56874037 | 1136127 | . | * |\n",
       "\n"
      ],
      "text/plain": [
       "        seqnames starts   ends     names   scores strands\n",
       "1       chr1       9866    10609    1      .      *      \n",
       "2       chr1     180846   180976    2      .      *      \n",
       "3       chr1     184393   184458    3      .      *      \n",
       "4       chr1     191211   191970    4      .      *      \n",
       "5       chr1     267786   268257    5      .      *      \n",
       "6       chr1     271048   271558    6      .      *      \n",
       "7       chr1     586018   586368    7      .      *      \n",
       "8       chr1     605251   605792    8      .      *      \n",
       "9       chr1     778134   779417    9      .      *      \n",
       "10      chr1     816855   817645   10      .      *      \n",
       "11      chr1     825192   825653   11      .      *      \n",
       "12      chr1     826729   827922   12      .      *      \n",
       "13      chr1     838084   838801   13      .      *      \n",
       "14      chr1     842842   843103   14      .      *      \n",
       "15      chr1     858100   858306   15      .      *      \n",
       "16      chr1     869106   870233   16      .      *      \n",
       "17      chr1     890737   891033   17      .      *      \n",
       "18      chr1     897212   897762   18      .      *      \n",
       "19      chr1     904367   905700   19      .      *      \n",
       "20      chr1     906308   907412   20      .      *      \n",
       "21      chr1     911102   911684   21      .      *      \n",
       "22      chr1     912554   913314   22      .      *      \n",
       "23      chr1     915728   915852   23      .      *      \n",
       "24      chr1     916617   917014   24      .      *      \n",
       "25      chr1     920790   921445   25      .      *      \n",
       "26      chr1     923181   924045   26      .      *      \n",
       "27      chr1     924794   925196   27      .      *      \n",
       "28      chr1     931770   932123   28      .      *      \n",
       "29      chr1     938041   938580   29      .      *      \n",
       "30      chr1     940117   940936   30      .      *      \n",
       "⋮       ⋮        ⋮        ⋮        ⋮       ⋮      ⋮      \n",
       "1136098 chrY     21073588 21074201 1136098 .      *      \n",
       "1136099 chrY     21121103 21121268 1136099 .      *      \n",
       "1136100 chrY     21138351 21138610 1136100 .      *      \n",
       "1136101 chrY     21169851 21170017 1136101 .      *      \n",
       "1136102 chrY     21174587 21175410 1136102 .      *      \n",
       "1136103 chrY     21177218 21177754 1136103 .      *      \n",
       "1136104 chrY     21185378 21185381 1136104 .      *      \n",
       "1136105 chrY     21192736 21193167 1136105 .      *      \n",
       "1136106 chrY     21200284 21200698 1136106 .      *      \n",
       "1136107 chrY     21239830 21241422 1136107 .      *      \n",
       "1136108 chrY     21249466 21249969 1136108 .      *      \n",
       "1136109 chrY     21256823 21257220 1136109 .      *      \n",
       "1136110 chrY     21260332 21260717 1136110 .      *      \n",
       "1136111 chrY     21295395 21295420 1136111 .      *      \n",
       "1136112 chrY     21422192 21422563 1136112 .      *      \n",
       "1136113 chrY     21440579 21440875 1136113 .      *      \n",
       "1136114 chrY     26670186 26671904 1136114 .      *      \n",
       "1136115 chrY     56685327 56685820 1136115 .      *      \n",
       "1136116 chrY     56706937 56707463 1136116 .      *      \n",
       "1136117 chrY     56727997 56728322 1136117 .      *      \n",
       "1136118 chrY     56734606 56734971 1136118 .      *      \n",
       "1136119 chrY     56763265 56763783 1136119 .      *      \n",
       "1136120 chrY     56826520 56826658 1136120 .      *      \n",
       "1136121 chrY     56829117 56840260 1136121 .      *      \n",
       "1136122 chrY     56841414 56842686 1136122 .      *      \n",
       "1136123 chrY     56843534 56844006 1136123 .      *      \n",
       "1136124 chrY     56844768 56845155 1136124 .      *      \n",
       "1136125 chrY     56846032 56848638 1136125 .      *      \n",
       "1136126 chrY     56849233 56851581 1136126 .      *      \n",
       "1136127 chrY     56873756 56874037 1136127 .      *      "
      ]
     },
     "metadata": {},
     "output_type": "display_data"
    }
   ],
   "source": [
    "df <- data.frame(seqnames=seqnames(gr),\n",
    "  starts=start(gr)-1,\n",
    "  ends=end(gr),\n",
    "  names=tibble::rowid_to_column(as.data.frame(gr), \"names\")$names,\n",
    "  scores=c(rep(\".\", length(gr))),\n",
    "  strands=strand(gr))\n",
    "\n",
    "df = dplyr::mutate_if(df, is.numeric, as.integer)\n",
    "df"
   ]
  },
  {
   "cell_type": "code",
   "execution_count": 16,
   "id": "4adb55b1",
   "metadata": {
    "scrolled": true
   },
   "outputs": [],
   "source": [
    "write.table(df, file=file.path(outdir,\"merged_peaks.bed\"), quote=F, sep=\"\\t\", row.names=F, col.names=F)"
   ]
  },
  {
   "cell_type": "code",
   "execution_count": 17,
   "id": "626a0538",
   "metadata": {
    "scrolled": true
   },
   "outputs": [
    {
     "data": {
      "text/plain": [
       "R version 4.1.1 (2021-08-10)\n",
       "Platform: x86_64-conda-linux-gnu (64-bit)\n",
       "Running under: Ubuntu 20.04.4 LTS\n",
       "\n",
       "Matrix products: default\n",
       "BLAS/LAPACK: /home/isaac/miniconda3/envs/mttrace/lib/libopenblasp-r0.3.18.so\n",
       "\n",
       "locale:\n",
       " [1] LC_CTYPE=en_US.UTF-8       LC_NUMERIC=C              \n",
       " [3] LC_TIME=en_US.UTF-8        LC_COLLATE=en_US.UTF-8    \n",
       " [5] LC_MONETARY=en_US.UTF-8    LC_MESSAGES=en_US.UTF-8   \n",
       " [7] LC_PAPER=en_US.UTF-8       LC_NAME=C                 \n",
       " [9] LC_ADDRESS=C               LC_TELEPHONE=C            \n",
       "[11] LC_MEASUREMENT=en_US.UTF-8 LC_IDENTIFICATION=C       \n",
       "\n",
       "attached base packages:\n",
       "[1] stats4    stats     graphics  grDevices utils     datasets  methods  \n",
       "[8] base     \n",
       "\n",
       "other attached packages:\n",
       " [1] future_1.23.0        dplyr_1.0.8          metap_1.1           \n",
       " [4] cowplot_1.1.1        magrittr_2.0.2       data.table_1.14.2   \n",
       " [7] patchwork_1.1.1      ggplot2_3.3.5        Signac_1.4.0        \n",
       "[10] SeuratObject_4.0.4   Seurat_4.1.0         GenomicRanges_1.46.0\n",
       "[13] GenomeInfoDb_1.30.0  IRanges_2.28.0       S4Vectors_0.32.0    \n",
       "[16] BiocGenerics_0.40.0  yaml_2.2.2           repr_1.1.3          \n",
       "\n",
       "loaded via a namespace (and not attached):\n",
       "  [1] uuid_1.0-3             fastmatch_1.1-3        plyr_1.8.6            \n",
       "  [4] igraph_1.2.11          lazyeval_0.2.2         splines_4.1.1         \n",
       "  [7] BiocParallel_1.28.0    listenv_0.8.0          scattermore_0.8       \n",
       " [10] SnowballC_0.7.0        digest_0.6.29          htmltools_0.5.2       \n",
       " [13] fansi_1.0.2            tensor_1.5             cluster_2.1.2         \n",
       " [16] ROCR_1.0-11            tzdb_0.2.0             readr_2.1.0           \n",
       " [19] globals_0.14.0         Biostrings_2.62.0      matrixStats_0.61.0    \n",
       " [22] vroom_1.5.6            docopt_0.7.1           spatstat.sparse_2.1-0 \n",
       " [25] colorspace_2.0-2       ggrepel_0.9.1          rbibutils_2.2.4       \n",
       " [28] sparsesvd_0.2          crayon_1.5.0           RCurl_1.98-1.5        \n",
       " [31] jsonlite_1.7.3         spatstat.data_2.1-2    survival_3.2-13       \n",
       " [34] zoo_1.8-9              glue_1.6.1             polyclip_1.10-0       \n",
       " [37] gtable_0.3.0           zlibbioc_1.40.0        XVector_0.34.0        \n",
       " [40] leiden_0.3.9           future.apply_1.8.1     abind_1.4-5           \n",
       " [43] scales_1.1.1           DBI_1.1.1              spatstat.random_2.1-0 \n",
       " [46] miniUI_0.1.1.1         Rcpp_1.0.8             viridisLite_0.4.0     \n",
       " [49] xtable_1.8-4           reticulate_1.24        spatstat.core_2.4-0   \n",
       " [52] bit_4.0.4              htmlwidgets_1.5.4      httr_1.4.2            \n",
       " [55] RColorBrewer_1.1-2     ellipsis_0.3.2         ica_1.0-2             \n",
       " [58] pkgconfig_2.0.3        farver_2.1.0           ggseqlogo_0.1         \n",
       " [61] uwot_0.1.11            deldir_1.0-6           utf8_1.2.2            \n",
       " [64] tidyselect_1.1.1       rlang_1.0.1            reshape2_1.4.4        \n",
       " [67] later_1.3.0            munsell_0.5.0          tools_4.1.1           \n",
       " [70] cli_3.2.0              generics_0.1.2         ggridges_0.5.3        \n",
       " [73] evaluate_0.14          stringr_1.4.0          fastmap_1.1.0         \n",
       " [76] goftest_1.2-3          bit64_4.0.5            fitdistrplus_1.1-6    \n",
       " [79] purrr_0.3.4            RANN_2.6.1             pbapply_1.5-0         \n",
       " [82] nlme_3.1-153           mime_0.12              slam_0.1-49           \n",
       " [85] RcppRoll_0.3.0         compiler_4.1.1         plotly_4.10.0         \n",
       " [88] png_0.1-7              spatstat.utils_2.3-0   tibble_3.1.6          \n",
       " [91] tweenr_1.0.2           stringi_1.7.6          lattice_0.20-45       \n",
       " [94] IRdisplay_1.0          Matrix_1.3-4           vctrs_0.3.8           \n",
       " [97] pillar_1.7.0           lifecycle_1.0.1        Rdpack_2.1.2          \n",
       "[100] spatstat.geom_2.3-2    lmtest_0.9-39          RcppAnnoy_0.0.19      \n",
       "[103] bitops_1.0-7           irlba_2.3.5            httpuv_1.6.5          \n",
       "[106] R6_2.5.1               promises_1.2.0.1       KernSmooth_2.23-20    \n",
       "[109] gridExtra_2.3          lsa_0.73.2             parallelly_1.30.0     \n",
       "[112] codetools_0.2-18       MASS_7.3-54            assertthat_0.2.1      \n",
       "[115] withr_2.4.3            qlcMatrix_0.9.7        sctransform_0.3.3     \n",
       "[118] Rsamtools_2.10.0       GenomeInfoDbData_1.2.7 hms_1.1.1             \n",
       "[121] mgcv_1.8-38            parallel_4.1.1         grid_4.1.1            \n",
       "[124] rpart_4.1-15           IRkernel_1.2           tidyr_1.2.0           \n",
       "[127] Rtsne_0.15             pbdZMQ_0.3-6           ggforce_0.3.3         \n",
       "[130] shiny_1.7.1            base64enc_0.1-3       "
      ]
     },
     "metadata": {},
     "output_type": "display_data"
    }
   ],
   "source": [
    "sessionInfo()"
   ]
  },
  {
   "cell_type": "code",
   "execution_count": null,
   "id": "6261d99e",
   "metadata": {},
   "outputs": [],
   "source": []
  },
  {
   "cell_type": "code",
   "execution_count": null,
   "id": "a34e3ec9",
   "metadata": {},
   "outputs": [],
   "source": []
  },
  {
   "cell_type": "markdown",
   "id": "4ba98b58",
   "metadata": {},
   "source": [
    "## Create expSignac"
   ]
  },
  {
   "cell_type": "code",
   "execution_count": 26,
   "id": "9719bc3e",
   "metadata": {},
   "outputs": [],
   "source": [
    "expr.load <- function(samples_df){ #sample_names, samples) {\n",
    "#     sample_names <- \n",
    "#     samples <- curr.csv[]\n",
    "#     print('sample_names')\n",
    "#     print(sample_names)\n",
    "#     print('samples')\n",
    "#     print(samples)    \n",
    "    allSE = c() \n",
    "\n",
    "    #samples_df <- cbind(sample_names, samples)\n",
    "    print('samples_df')\n",
    "    print(samples_df)\n",
    "    for (row in 1:nrow(samples_df)){\n",
    "        exp <- samples_df[row,][[\"cellr_ID\"]]\n",
    "        name <- samples_df[row,][[\"sample_name\"]]\n",
    "        \n",
    "        curr_in <- dirname(dirname(samples_df[[row, \"barcode_f\"]]))\n",
    "        print('exp')\n",
    "        print(exp)\n",
    "        print('name')\n",
    "        print(name)\n",
    "        barcode_path <- file.path(curr_in, \"filtered_peak_bc_matrix\", \"barcodes.tsv\")    \n",
    "        print(\"barcode_path\")\n",
    "        print(barcode_path)\n",
    "        barcodes <- readr::read_tsv(barcode_path, col_names = F) # %>% tidyr::unite(barcode)\n",
    "        barcodes <- as.data.frame(barcodes) %>%  tibble::column_to_rownames(var=\"X1\") %>% tibble::add_column(proj=name)\n",
    "        frag_file <- file.path(curr_in, \"fragments.tsv.gz\")\n",
    "\n",
    "        cells.meta.f <- file.path(curr_in, \"singlecell.csv\") \n",
    "        cells.meta <- as.data.frame(readr::read_csv(cells.meta.f)) %>% tibble::column_to_rownames(var=\"barcode\") %>% tibble::add_column(proj=name)\n",
    "        cells.meta <- cells.meta[rownames(cells.meta) %in% rownames(barcodes), ]\n",
    "\n",
    "        # quantify multiome peaks in the scATAC-seq dataset\n",
    "\n",
    "\n",
    "        print(\"Creating fragments object\")\n",
    "        frags.curr <- CreateFragmentObject(path = frag_file, cells= rownames(barcodes))\n",
    "        #print(frags.curr)\n",
    "        print(\"Quantifying peaks\")\n",
    "        ## Quantify peaks\n",
    "        curr.counts <- FeatureMatrix(\n",
    "          fragments = frags.curr,\n",
    "          features = combined.peaks,\n",
    "          cells = rownames(barcodes),\n",
    "          process_n = cores\n",
    "        )\n",
    "\n",
    "        print(\"Creating chromatin assay\")\n",
    "        ## Create the objects and use simple filters\n",
    "        curr_assay <- CreateChromatinAssay(curr.counts, fragments = frags.curr, min.cells = 10, min.features = 200)\n",
    "        curr <- CreateSeuratObject(curr_assay, assay = \"ATAC\", project=name, meta.data=cells.meta)\n",
    "        #curr <- subset(curr, nCount_peaks > 2000 & nCount_peaks < 30000)\n",
    "    \n",
    "        print('curr_assay')\n",
    "        print(head(curr_assay))\n",
    "        print('curr')\n",
    "        print(head(curr[[]]))\n",
    "        allSE = c(allSE, curr)\n",
    "        #return(curr)\n",
    "    }\n",
    "\n",
    "    return(allSE)\n",
    "}\n",
    "    #allSE <- sapply(samples, create_frag, curr_in=curr_in)"
   ]
  },
  {
   "cell_type": "code",
   "execution_count": 27,
   "id": "9a60fb33",
   "metadata": {
    "scrolled": true
   },
   "outputs": [],
   "source": [
    "load.se.experiments <- function(sample_csv){\n",
    "    curr.csv <- readr::read_csv(sample_csv)\n",
    "    #print(curr.csv)\n",
    "    return(expr.load(curr.csv)) \n",
    "    #return(expr.load(curr.csv$samples, curr.csv$cellr.id)) #sapply(curr.csv, expr.load)\n",
    "}\n",
    "\n"
   ]
  },
  {
   "cell_type": "code",
   "execution_count": null,
   "id": "0bfe97b9",
   "metadata": {
    "scrolled": true
   },
   "outputs": [
    {
     "name": "stderr",
     "output_type": "stream",
     "text": [
      "\u001b[1mRows: \u001b[22m\u001b[34m3\u001b[39m \u001b[1mColumns: \u001b[22m\u001b[34m5\u001b[39m\n",
      "\u001b[36m──\u001b[39m \u001b[1mColumn specification\u001b[22m \u001b[36m──────────────────────────────────────────────────────────────────────────────────────────────\u001b[39m\n",
      "\u001b[1mDelimiter:\u001b[22m \",\"\n",
      "\u001b[31mchr\u001b[39m (5): sample_name, cellr_ID, fastq_ID, barcode_f, bam_f\n",
      "\n",
      "\u001b[36mℹ\u001b[39m Use `spec()` to retrieve the full column specification for this data.\n",
      "\u001b[36mℹ\u001b[39m Specify the column types or set `show_col_types = FALSE` to quiet this message.\n"
     ]
    },
    {
     "name": "stdout",
     "output_type": "stream",
     "text": [
      "[1] \"samples_df\"\n",
      "\u001b[90m# A tibble: 3 × 5\u001b[39m\n",
      "  sample_name cellr_ID fastq_ID             barcode_f                      bam_f\n",
      "  \u001b[3m\u001b[90m<chr>\u001b[39m\u001b[23m       \u001b[3m\u001b[90m<chr>\u001b[39m\u001b[23m    \u001b[3m\u001b[90m<chr>\u001b[39m\u001b[23m                \u001b[3m\u001b[90m<chr>\u001b[39m\u001b[23m                          \u001b[3m\u001b[90m<chr>\u001b[39m\u001b[23m\n",
      "\u001b[90m1\u001b[39m Control     Control  BC_10xATAC_rxn1b_neg /home/isaac/lewis/mito_lineag… /hom…\n",
      "\u001b[90m2\u001b[39m Flt3l       Flt3l    BC_10xATAC_rxn1b_pos /home/isaac/lewis/mito_lineag… /hom…\n",
      "\u001b[90m3\u001b[39m Input       Input    BC_10xATAC_rxn1      /home/isaac/lewis/mito_lineag… /hom…\n",
      "[1] \"exp\"\n",
      "[1] \"Control\"\n",
      "[1] \"name\"\n",
      "[1] \"Control\"\n",
      "[1] \"barcode_path\"\n",
      "[1] \"/home/isaac/lewis/mito_lineage/output/mtscATAC/data/CHIP_dec172021_b1/MTBlacklist_A2/Control/outs/filtered_peak_bc_matrix/barcodes.tsv\"\n"
     ]
    },
    {
     "name": "stderr",
     "output_type": "stream",
     "text": [
      "\u001b[1mRows: \u001b[22m\u001b[34m5330\u001b[39m \u001b[1mColumns: \u001b[22m\u001b[34m1\u001b[39m\n",
      "\u001b[36m──\u001b[39m \u001b[1mColumn specification\u001b[22m \u001b[36m──────────────────────────────────────────────────────────────────────────────────────────────\u001b[39m\n",
      "\u001b[1mDelimiter:\u001b[22m \"\\t\"\n",
      "\u001b[31mchr\u001b[39m (1): X1\n",
      "\n",
      "\u001b[36mℹ\u001b[39m Use `spec()` to retrieve the full column specification for this data.\n",
      "\u001b[36mℹ\u001b[39m Specify the column types or set `show_col_types = FALSE` to quiet this message.\n",
      "\u001b[1mRows: \u001b[22m\u001b[34m329709\u001b[39m \u001b[1mColumns: \u001b[22m\u001b[34m18\u001b[39m\n",
      "\u001b[36m──\u001b[39m \u001b[1mColumn specification\u001b[22m \u001b[36m──────────────────────────────────────────────────────────────────────────────────────────────\u001b[39m\n",
      "\u001b[1mDelimiter:\u001b[22m \",\"\n",
      "\u001b[31mchr\u001b[39m  (2): barcode, cell_id\n",
      "\u001b[32mdbl\u001b[39m (16): total, duplicate, chimeric, unmapped, lowmapq, mitochondrial, pass...\n",
      "\n",
      "\u001b[36mℹ\u001b[39m Use `spec()` to retrieve the full column specification for this data.\n",
      "\u001b[36mℹ\u001b[39m Specify the column types or set `show_col_types = FALSE` to quiet this message.\n"
     ]
    },
    {
     "name": "stdout",
     "output_type": "stream",
     "text": [
      "[1] \"Creating fragments object\"\n"
     ]
    },
    {
     "name": "stderr",
     "output_type": "stream",
     "text": [
      "Computing hash\n",
      "\n"
     ]
    },
    {
     "name": "stdout",
     "output_type": "stream",
     "text": [
      "[1] \"Quantifying peaks\"\n"
     ]
    },
    {
     "name": "stderr",
     "output_type": "stream",
     "text": [
      "Extracting reads overlapping genomic regions\n",
      "\n"
     ]
    },
    {
     "name": "stdout",
     "output_type": "stream",
     "text": [
      "[1] \"Creating chromatin assay\"\n"
     ]
    },
    {
     "name": "stderr",
     "output_type": "stream",
     "text": [
      "Warning message in CreateSeuratObject.Assay(curr_assay, assay = \"ATAC\", project = name, :\n",
      "“Some cells in meta.data not present in provided counts matrix.”\n",
      "Warning message:\n",
      "“Keys should be one or more alphanumeric characters followed by an underscore, setting key from atac to atac_”\n"
     ]
    },
    {
     "name": "stdout",
     "output_type": "stream",
     "text": [
      "[1] \"curr_assay\"\n",
      "data frame with 0 columns and 10 rows\n",
      "[1] \"curr\"\n",
      "                   orig.ident nCount_ATAC nFeature_ATAC total duplicate\n",
      "AAACGAAAGAATCAAC-1    Control        2479          2410 14503      2850\n",
      "AAACGAAAGAATCAGT-1    Control        2060          2012  6432      1259\n",
      "AAACGAAAGCATACCT-1    Control        2788          2718 11858      1937\n",
      "AAACGAAAGCGAGAAA-1    Control        2020          1968  7365      1097\n",
      "AAACGAAAGTACAGAT-1    Control         884           875  4095       861\n",
      "AAACGAAAGTACAGTA-1    Control        1839          1804  8088      1091\n",
      "                   chimeric unmapped lowmapq mitochondrial passed_filters\n",
      "AAACGAAAGAATCAAC-1       72       31    1064          2355           8131\n",
      "AAACGAAAGAATCAGT-1       31       19     266          1066           3791\n",
      "AAACGAAAGCATACCT-1       51       34     549          3102           6185\n",
      "AAACGAAAGCGAGAAA-1       25       27     275          2184           3757\n",
      "AAACGAAAGTACAGAT-1       16       16     230           771           2201\n",
      "AAACGAAAGTACAGTA-1       27       27     369          2157           4417\n",
      "                   cell_id is__cell_barcode TSS_fragments\n",
      "AAACGAAAGAATCAAC-1 _cell_0                1          1435\n",
      "AAACGAAAGAATCAGT-1 _cell_1                1           972\n",
      "AAACGAAAGCATACCT-1 _cell_2                1          1472\n",
      "AAACGAAAGCGAGAAA-1 _cell_3                1           980\n",
      "AAACGAAAGTACAGAT-1 _cell_4                1           664\n",
      "AAACGAAAGTACAGTA-1 _cell_5                1          1073\n",
      "                   DNase_sensitive_region_fragments enhancer_region_fragments\n",
      "AAACGAAAGAATCAAC-1                                0                         0\n",
      "AAACGAAAGAATCAGT-1                                0                         0\n",
      "AAACGAAAGCATACCT-1                                0                         0\n",
      "AAACGAAAGCGAGAAA-1                                0                         0\n",
      "AAACGAAAGTACAGAT-1                                0                         0\n",
      "AAACGAAAGTACAGTA-1                                0                         0\n",
      "                   promoter_region_fragments on_target_fragments\n",
      "AAACGAAAGAATCAAC-1                         0                1435\n",
      "AAACGAAAGAATCAGT-1                         0                 972\n",
      "AAACGAAAGCATACCT-1                         0                1472\n",
      "AAACGAAAGCGAGAAA-1                         0                 980\n",
      "AAACGAAAGTACAGAT-1                         0                 664\n",
      "AAACGAAAGTACAGTA-1                         0                1073\n",
      "                   blacklist_region_fragments peak_region_fragments\n",
      "AAACGAAAGAATCAAC-1                          0                  2227\n",
      "AAACGAAAGAATCAGT-1                          0                  1902\n",
      "AAACGAAAGCATACCT-1                          0                  2485\n",
      "AAACGAAAGCGAGAAA-1                          0                  1827\n",
      "AAACGAAAGTACAGAT-1                          0                   800\n",
      "AAACGAAAGTACAGTA-1                          0                  1697\n",
      "                   peak_region_cutsites    proj\n",
      "AAACGAAAGAATCAAC-1                 4053 Control\n",
      "AAACGAAAGAATCAGT-1                 3476 Control\n",
      "AAACGAAAGCATACCT-1                 4479 Control\n",
      "AAACGAAAGCGAGAAA-1                 3366 Control\n",
      "AAACGAAAGTACAGAT-1                 1434 Control\n",
      "AAACGAAAGTACAGTA-1                 3117 Control\n",
      "[1] \"exp\"\n",
      "[1] \"Flt3l\"\n",
      "[1] \"name\"\n",
      "[1] \"Flt3l\"\n",
      "[1] \"barcode_path\"\n",
      "[1] \"/home/isaac/lewis/mito_lineage/output/mtscATAC/data/CHIP_dec172021_b1/MTBlacklist_A2/Flt3l/outs/filtered_peak_bc_matrix/barcodes.tsv\"\n"
     ]
    },
    {
     "name": "stderr",
     "output_type": "stream",
     "text": [
      "\u001b[1mRows: \u001b[22m\u001b[34m7651\u001b[39m \u001b[1mColumns: \u001b[22m\u001b[34m1\u001b[39m\n",
      "\u001b[36m──\u001b[39m \u001b[1mColumn specification\u001b[22m \u001b[36m──────────────────────────────────────────────────────────────────────────────────────────────\u001b[39m\n",
      "\u001b[1mDelimiter:\u001b[22m \"\\t\"\n",
      "\u001b[31mchr\u001b[39m (1): X1\n",
      "\n",
      "\u001b[36mℹ\u001b[39m Use `spec()` to retrieve the full column specification for this data.\n",
      "\u001b[36mℹ\u001b[39m Specify the column types or set `show_col_types = FALSE` to quiet this message.\n",
      "\u001b[1mRows: \u001b[22m\u001b[34m314920\u001b[39m \u001b[1mColumns: \u001b[22m\u001b[34m18\u001b[39m\n",
      "\u001b[36m──\u001b[39m \u001b[1mColumn specification\u001b[22m \u001b[36m──────────────────────────────────────────────────────────────────────────────────────────────\u001b[39m\n",
      "\u001b[1mDelimiter:\u001b[22m \",\"\n",
      "\u001b[31mchr\u001b[39m  (2): barcode, cell_id\n",
      "\u001b[32mdbl\u001b[39m (16): total, duplicate, chimeric, unmapped, lowmapq, mitochondrial, pass...\n",
      "\n",
      "\u001b[36mℹ\u001b[39m Use `spec()` to retrieve the full column specification for this data.\n",
      "\u001b[36mℹ\u001b[39m Specify the column types or set `show_col_types = FALSE` to quiet this message.\n"
     ]
    },
    {
     "name": "stdout",
     "output_type": "stream",
     "text": [
      "[1] \"Creating fragments object\"\n"
     ]
    },
    {
     "name": "stderr",
     "output_type": "stream",
     "text": [
      "Computing hash\n",
      "\n"
     ]
    },
    {
     "name": "stdout",
     "output_type": "stream",
     "text": [
      "[1] \"Quantifying peaks\"\n"
     ]
    },
    {
     "name": "stderr",
     "output_type": "stream",
     "text": [
      "Extracting reads overlapping genomic regions\n",
      "\n"
     ]
    },
    {
     "name": "stdout",
     "output_type": "stream",
     "text": [
      "[1] \"Creating chromatin assay\"\n"
     ]
    },
    {
     "name": "stderr",
     "output_type": "stream",
     "text": [
      "Warning message in CreateSeuratObject.Assay(curr_assay, assay = \"ATAC\", project = name, :\n",
      "“Some cells in meta.data not present in provided counts matrix.”\n",
      "Warning message:\n",
      "“Keys should be one or more alphanumeric characters followed by an underscore, setting key from atac to atac_”\n"
     ]
    },
    {
     "name": "stdout",
     "output_type": "stream",
     "text": [
      "[1] \"curr_assay\"\n",
      "data frame with 0 columns and 10 rows\n",
      "[1] \"curr\"\n",
      "                   orig.ident nCount_ATAC nFeature_ATAC total duplicate\n",
      "AAACGAAAGGAGACTC-1      Flt3l         548           540  2286       298\n",
      "AAACGAAAGTCACGCC-1      Flt3l        1282          1255  4711       555\n",
      "AAACGAACAAGACTAA-1      Flt3l        2364          2280  9178      1509\n",
      "AAACGAACAAGCGAAC-1      Flt3l        2393          2324  8825      1544\n",
      "AAACGAACACAGCCAC-1      Flt3l        3036          2911 10589      1294\n",
      "AAACGAACACAGGTAG-1      Flt3l         638           630  2384       240\n",
      "                   chimeric unmapped lowmapq mitochondrial passed_filters\n",
      "AAACGAAAGGAGACTC-1        7        7     124           749           1101\n",
      "AAACGAAAGTCACGCC-1       16       12     289           853           2986\n",
      "AAACGAACAAGACTAA-1       37       19     585          1339           5689\n",
      "AAACGAACAAGCGAAC-1       24       24     535          1308           5390\n",
      "AAACGAACACAGCCAC-1       41       31     456          2764           6003\n",
      "AAACGAACACAGGTAG-1       13        7     149           594           1381\n",
      "                   cell_id is__cell_barcode TSS_fragments\n",
      "AAACGAAAGGAGACTC-1 _cell_0                1           291\n",
      "AAACGAAAGTCACGCC-1 _cell_1                1           772\n",
      "AAACGAACAAGACTAA-1 _cell_2                1          1434\n",
      "AAACGAACAAGCGAAC-1 _cell_3                1          1564\n",
      "AAACGAACACAGCCAC-1 _cell_4                1          1765\n",
      "AAACGAACACAGGTAG-1 _cell_5                1           440\n",
      "                   DNase_sensitive_region_fragments enhancer_region_fragments\n",
      "AAACGAAAGGAGACTC-1                                0                         0\n",
      "AAACGAAAGTCACGCC-1                                0                         0\n",
      "AAACGAACAAGACTAA-1                                0                         0\n",
      "AAACGAACAAGCGAAC-1                                0                         0\n",
      "AAACGAACACAGCCAC-1                                0                         0\n",
      "AAACGAACACAGGTAG-1                                0                         0\n",
      "                   promoter_region_fragments on_target_fragments\n",
      "AAACGAAAGGAGACTC-1                         0                 291\n",
      "AAACGAAAGTCACGCC-1                         0                 772\n",
      "AAACGAACAAGACTAA-1                         0                1434\n",
      "AAACGAACAAGCGAAC-1                         0                1564\n",
      "AAACGAACACAGCCAC-1                         0                1765\n",
      "AAACGAACACAGGTAG-1                         0                 440\n",
      "                   blacklist_region_fragments peak_region_fragments\n",
      "AAACGAAAGGAGACTC-1                          0                   516\n",
      "AAACGAAAGTCACGCC-1                          0                  1205\n",
      "AAACGAACAAGACTAA-1                          0                  2229\n",
      "AAACGAACAAGCGAAC-1                          0                  2258\n",
      "AAACGAACACAGCCAC-1                          0                  2918\n",
      "AAACGAACACAGGTAG-1                          0                   593\n",
      "                   peak_region_cutsites  proj\n",
      "AAACGAAAGGAGACTC-1                  953 Flt3l\n",
      "AAACGAAAGTCACGCC-1                 2222 Flt3l\n",
      "AAACGAACAAGACTAA-1                 4093 Flt3l\n",
      "AAACGAACAAGCGAAC-1                 4142 Flt3l\n",
      "AAACGAACACAGCCAC-1                 5452 Flt3l\n",
      "AAACGAACACAGGTAG-1                 1100 Flt3l\n",
      "[1] \"exp\"\n",
      "[1] \"Input\"\n",
      "[1] \"name\"\n",
      "[1] \"Input\"\n",
      "[1] \"barcode_path\"\n",
      "[1] \"/home/isaac/lewis/mito_lineage/output/mtscATAC/data/CHIP_dec172021_b1/MTBlacklist_A2/Input/outs/filtered_peak_bc_matrix/barcodes.tsv\"\n"
     ]
    },
    {
     "name": "stderr",
     "output_type": "stream",
     "text": [
      "\u001b[1mRows: \u001b[22m\u001b[34m6848\u001b[39m \u001b[1mColumns: \u001b[22m\u001b[34m1\u001b[39m\n",
      "\u001b[36m──\u001b[39m \u001b[1mColumn specification\u001b[22m \u001b[36m──────────────────────────────────────────────────────────────────────────────────────────────\u001b[39m\n",
      "\u001b[1mDelimiter:\u001b[22m \"\\t\"\n",
      "\u001b[31mchr\u001b[39m (1): X1\n",
      "\n",
      "\u001b[36mℹ\u001b[39m Use `spec()` to retrieve the full column specification for this data.\n",
      "\u001b[36mℹ\u001b[39m Specify the column types or set `show_col_types = FALSE` to quiet this message.\n",
      "\u001b[1mRows: \u001b[22m\u001b[34m490990\u001b[39m \u001b[1mColumns: \u001b[22m\u001b[34m18\u001b[39m\n",
      "\u001b[36m──\u001b[39m \u001b[1mColumn specification\u001b[22m \u001b[36m──────────────────────────────────────────────────────────────────────────────────────────────\u001b[39m\n",
      "\u001b[1mDelimiter:\u001b[22m \",\"\n",
      "\u001b[31mchr\u001b[39m  (2): barcode, cell_id\n",
      "\u001b[32mdbl\u001b[39m (16): total, duplicate, chimeric, unmapped, lowmapq, mitochondrial, pass...\n",
      "\n",
      "\u001b[36mℹ\u001b[39m Use `spec()` to retrieve the full column specification for this data.\n",
      "\u001b[36mℹ\u001b[39m Specify the column types or set `show_col_types = FALSE` to quiet this message.\n"
     ]
    },
    {
     "name": "stdout",
     "output_type": "stream",
     "text": [
      "[1] \"Creating fragments object\"\n"
     ]
    },
    {
     "name": "stderr",
     "output_type": "stream",
     "text": [
      "Computing hash\n",
      "\n"
     ]
    },
    {
     "name": "stdout",
     "output_type": "stream",
     "text": [
      "[1] \"Quantifying peaks\"\n"
     ]
    },
    {
     "name": "stderr",
     "output_type": "stream",
     "text": [
      "Extracting reads overlapping genomic regions\n",
      "\n"
     ]
    },
    {
     "name": "stdout",
     "output_type": "stream",
     "text": [
      "[1] \"Creating chromatin assay\"\n"
     ]
    },
    {
     "name": "stderr",
     "output_type": "stream",
     "text": [
      "Warning message:\n",
      "“Keys should be one or more alphanumeric characters followed by an underscore, setting key from atac to atac_”\n"
     ]
    },
    {
     "name": "stdout",
     "output_type": "stream",
     "text": [
      "[1] \"curr_assay\"\n",
      "data frame with 0 columns and 10 rows\n",
      "[1] \"curr\"\n",
      "                   orig.ident nCount_ATAC nFeature_ATAC total duplicate\n",
      "AAACGAAAGACGCCAA-1      Input       15995         13385 61053     21242\n",
      "AAACGAAAGATATGAC-1      Input        3168          2873 29954      4853\n",
      "AAACGAAAGTAATGTG-1      Input        7384          6547 32111      9018\n",
      "AAACGAAAGTAGTCGG-1      Input        8901          7645 37923     12542\n",
      "AAACGAACACATTGCA-1      Input        8783          7042 46206     12553\n",
      "AAACGAACACGCTCAG-1      Input        6869          5900 38973      7584\n",
      "                   chimeric unmapped lowmapq mitochondrial passed_filters\n",
      "AAACGAAAGACGCCAA-1      263      248    2186         11814          25300\n",
      "AAACGAAAGATATGAC-1       67      103     626         19521           4784\n",
      "AAACGAAAGTAATGTG-1       96      122    1319         11232          10324\n",
      "AAACGAAAGTAGTCGG-1      147      162    1705         10189          13178\n",
      "AAACGAACACATTGCA-1      148      184    1239         16880          15202\n",
      "AAACGAACACGCTCAG-1      162      150     973         19691          10413\n",
      "                   cell_id is__cell_barcode TSS_fragments\n",
      "AAACGAAAGACGCCAA-1 _cell_0                1          8398\n",
      "AAACGAAAGATATGAC-1 _cell_1                1          1973\n",
      "AAACGAAAGTAATGTG-1 _cell_2                1          4124\n",
      "AAACGAAAGTAGTCGG-1 _cell_3                1          4836\n",
      "AAACGAACACATTGCA-1 _cell_4                1          5819\n",
      "AAACGAACACGCTCAG-1 _cell_5                1          4349\n",
      "                   DNase_sensitive_region_fragments enhancer_region_fragments\n",
      "AAACGAAAGACGCCAA-1                                0                         0\n",
      "AAACGAAAGATATGAC-1                                0                         0\n",
      "AAACGAAAGTAATGTG-1                                0                         0\n",
      "AAACGAAAGTAGTCGG-1                                0                         0\n",
      "AAACGAACACATTGCA-1                                0                         0\n",
      "AAACGAACACGCTCAG-1                                0                         0\n",
      "                   promoter_region_fragments on_target_fragments\n",
      "AAACGAAAGACGCCAA-1                         0                8398\n",
      "AAACGAAAGATATGAC-1                         0                1973\n",
      "AAACGAAAGTAATGTG-1                         0                4124\n",
      "AAACGAAAGTAGTCGG-1                         0                4836\n",
      "AAACGAACACATTGCA-1                         0                5819\n",
      "AAACGAACACGCTCAG-1                         0                4349\n",
      "                   blacklist_region_fragments peak_region_fragments\n",
      "AAACGAAAGACGCCAA-1                          0                 15827\n",
      "AAACGAAAGATATGAC-1                          0                  3194\n",
      "AAACGAAAGTAATGTG-1                          0                  7409\n",
      "AAACGAAAGTAGTCGG-1                          0                  8789\n",
      "AAACGAACACATTGCA-1                          0                  8715\n",
      "AAACGAACACGCTCAG-1                          0                  6921\n",
      "                   peak_region_cutsites  proj\n",
      "AAACGAAAGACGCCAA-1                30172 Input\n",
      "AAACGAAAGATATGAC-1                 6214 Input\n",
      "AAACGAAAGTAATGTG-1                14320 Input\n",
      "AAACGAAAGTAGTCGG-1                16753 Input\n",
      "AAACGAACACATTGCA-1                16706 Input\n",
      "AAACGAACACGCTCAG-1                13413 Input\n"
     ]
    },
    {
     "name": "stderr",
     "output_type": "stream",
     "text": [
      "\u001b[1mRows: \u001b[22m\u001b[34m1\u001b[39m \u001b[1mColumns: \u001b[22m\u001b[34m5\u001b[39m\n",
      "\u001b[36m──\u001b[39m \u001b[1mColumn specification\u001b[22m \u001b[36m──────────────────────────────────────────────────────────────────────────────────────────────\u001b[39m\n",
      "\u001b[1mDelimiter:\u001b[22m \",\"\n",
      "\u001b[31mchr\u001b[39m (5): sample_name, cellr_ID, fastq_ID, barcode_f, bam_f\n",
      "\n",
      "\u001b[36mℹ\u001b[39m Use `spec()` to retrieve the full column specification for this data.\n",
      "\u001b[36mℹ\u001b[39m Specify the column types or set `show_col_types = FALSE` to quiet this message.\n"
     ]
    },
    {
     "name": "stdout",
     "output_type": "stream",
     "text": [
      "[1] \"samples_df\"\n",
      "\u001b[90m# A tibble: 1 × 5\u001b[39m\n",
      "  sample_name cellr_ID fastq_ID        barcode_f                           bam_f\n",
      "  \u001b[3m\u001b[90m<chr>\u001b[39m\u001b[23m       \u001b[3m\u001b[90m<chr>\u001b[39m\u001b[23m    \u001b[3m\u001b[90m<chr>\u001b[39m\u001b[23m           \u001b[3m\u001b[90m<chr>\u001b[39m\u001b[23m                               \u001b[3m\u001b[90m<chr>\u001b[39m\u001b[23m\n",
      "\u001b[90m1\u001b[39m Input       Input    BC_10xATAC_rxn2 /home/isaac/lewis/mito_lineage/out… /hom…\n",
      "[1] \"exp\"\n",
      "[1] \"Input\"\n",
      "[1] \"name\"\n",
      "[1] \"Input\"\n",
      "[1] \"barcode_path\"\n",
      "[1] \"/home/isaac/lewis/mito_lineage/output/mtscATAC/data/CHIP_dec172021_b2/MTBlacklist_A2/Input/outs/filtered_peak_bc_matrix/barcodes.tsv\"\n"
     ]
    },
    {
     "name": "stderr",
     "output_type": "stream",
     "text": [
      "\u001b[1mRows: \u001b[22m\u001b[34m4769\u001b[39m \u001b[1mColumns: \u001b[22m\u001b[34m1\u001b[39m\n",
      "\u001b[36m──\u001b[39m \u001b[1mColumn specification\u001b[22m \u001b[36m──────────────────────────────────────────────────────────────────────────────────────────────\u001b[39m\n",
      "\u001b[1mDelimiter:\u001b[22m \"\\t\"\n",
      "\u001b[31mchr\u001b[39m (1): X1\n",
      "\n",
      "\u001b[36mℹ\u001b[39m Use `spec()` to retrieve the full column specification for this data.\n",
      "\u001b[36mℹ\u001b[39m Specify the column types or set `show_col_types = FALSE` to quiet this message.\n",
      "\u001b[1mRows: \u001b[22m\u001b[34m405884\u001b[39m \u001b[1mColumns: \u001b[22m\u001b[34m18\u001b[39m\n",
      "\u001b[36m──\u001b[39m \u001b[1mColumn specification\u001b[22m \u001b[36m──────────────────────────────────────────────────────────────────────────────────────────────\u001b[39m\n",
      "\u001b[1mDelimiter:\u001b[22m \",\"\n",
      "\u001b[31mchr\u001b[39m  (2): barcode, cell_id\n",
      "\u001b[32mdbl\u001b[39m (16): total, duplicate, chimeric, unmapped, lowmapq, mitochondrial, pass...\n",
      "\n",
      "\u001b[36mℹ\u001b[39m Use `spec()` to retrieve the full column specification for this data.\n",
      "\u001b[36mℹ\u001b[39m Specify the column types or set `show_col_types = FALSE` to quiet this message.\n"
     ]
    },
    {
     "name": "stdout",
     "output_type": "stream",
     "text": [
      "[1] \"Creating fragments object\"\n"
     ]
    },
    {
     "name": "stderr",
     "output_type": "stream",
     "text": [
      "Computing hash\n",
      "\n"
     ]
    },
    {
     "name": "stdout",
     "output_type": "stream",
     "text": [
      "[1] \"Quantifying peaks\"\n"
     ]
    },
    {
     "name": "stderr",
     "output_type": "stream",
     "text": [
      "Extracting reads overlapping genomic regions\n",
      "\n"
     ]
    },
    {
     "name": "stdout",
     "output_type": "stream",
     "text": [
      "[1] \"Creating chromatin assay\"\n"
     ]
    },
    {
     "name": "stderr",
     "output_type": "stream",
     "text": [
      "Warning message in CreateSeuratObject.Assay(curr_assay, assay = \"ATAC\", project = name, :\n",
      "“Some cells in meta.data not present in provided counts matrix.”\n",
      "Warning message:\n",
      "“Keys should be one or more alphanumeric characters followed by an underscore, setting key from atac to atac_”\n"
     ]
    },
    {
     "name": "stdout",
     "output_type": "stream",
     "text": [
      "[1] \"curr_assay\"\n",
      "data frame with 0 columns and 10 rows\n",
      "[1] \"curr\"\n",
      "                   orig.ident nCount_ATAC nFeature_ATAC total duplicate\n",
      "AAACGAAAGCCGCAAA-1      Input        1276          1234 16081      1250\n",
      "AAACGAACAGATGGCA-1      Input        8484          7625 44699     10292\n",
      "AAACGAAGTATGTTCG-1      Input        4891          4495 21594      5059\n",
      "AAACGAAGTCATTGGT-1      Input         619           608  9191       460\n",
      "AAACGAATCAGAGTGG-1      Input        1955          1880 10961      1743\n",
      "AAACGAATCCGGACTG-1      Input        2574          2451 15146      1793\n",
      "                   chimeric unmapped lowmapq mitochondrial passed_filters\n",
      "AAACGAAAGCCGCAAA-1       25       60     379         11724           2643\n",
      "AAACGAACAGATGGCA-1      190      169    1753         15193          17102\n",
      "AAACGAAGTATGTTCG-1      133       91     784          8125           7402\n",
      "AAACGAAGTCATTGGT-1       12       19     137          7471           1092\n",
      "AAACGAATCAGAGTGG-1       56       43     289          4957           3873\n",
      "AAACGAATCCGGACTG-1       52       50     388          9290           3573\n",
      "                   cell_id is__cell_barcode TSS_fragments\n",
      "AAACGAAAGCCGCAAA-1 _cell_0                1           682\n",
      "AAACGAACAGATGGCA-1 _cell_1                1          4574\n",
      "AAACGAAGTATGTTCG-1 _cell_2                1          2479\n",
      "AAACGAAGTCATTGGT-1 _cell_3                1           357\n",
      "AAACGAATCAGAGTGG-1 _cell_4                1          1050\n",
      "AAACGAATCCGGACTG-1 _cell_5                1          1439\n",
      "                   DNase_sensitive_region_fragments enhancer_region_fragments\n",
      "AAACGAAAGCCGCAAA-1                                0                         0\n",
      "AAACGAACAGATGGCA-1                                0                         0\n",
      "AAACGAAGTATGTTCG-1                                0                         0\n",
      "AAACGAAGTCATTGGT-1                                0                         0\n",
      "AAACGAATCAGAGTGG-1                                0                         0\n",
      "AAACGAATCCGGACTG-1                                0                         0\n",
      "                   promoter_region_fragments on_target_fragments\n",
      "AAACGAAAGCCGCAAA-1                         0                 682\n",
      "AAACGAACAGATGGCA-1                         0                4574\n",
      "AAACGAAGTATGTTCG-1                         0                2479\n",
      "AAACGAAGTCATTGGT-1                         0                 357\n",
      "AAACGAATCAGAGTGG-1                         0                1050\n",
      "AAACGAATCCGGACTG-1                         0                1439\n",
      "                   blacklist_region_fragments peak_region_fragments\n",
      "AAACGAAAGCCGCAAA-1                          0                  1067\n",
      "AAACGAACAGATGGCA-1                          0                  6640\n",
      "AAACGAAGTATGTTCG-1                          0                  4275\n",
      "AAACGAAGTCATTGGT-1                          0                   532\n",
      "AAACGAATCAGAGTGG-1                          0                  1629\n",
      "AAACGAATCCGGACTG-1                          0                  2211\n",
      "                   peak_region_cutsites  proj\n",
      "AAACGAAAGCCGCAAA-1                 1951 Input\n",
      "AAACGAACAGATGGCA-1                12207 Input\n",
      "AAACGAAGTATGTTCG-1                 8108 Input\n",
      "AAACGAAGTCATTGGT-1                 1008 Input\n",
      "AAACGAATCAGAGTGG-1                 3070 Input\n",
      "AAACGAATCCGGACTG-1                 4156 Input\n"
     ]
    },
    {
     "name": "stderr",
     "output_type": "stream",
     "text": [
      "\u001b[1mRows: \u001b[22m\u001b[34m2\u001b[39m \u001b[1mColumns: \u001b[22m\u001b[34m5\u001b[39m\n",
      "\u001b[36m──\u001b[39m \u001b[1mColumn specification\u001b[22m \u001b[36m──────────────────────────────────────────────────────────────────────────────────────────────\u001b[39m\n",
      "\u001b[1mDelimiter:\u001b[22m \",\"\n",
      "\u001b[31mchr\u001b[39m (5): sample_name, cellr_ID, fastq_ID, barcode_f, bam_f\n",
      "\n",
      "\u001b[36mℹ\u001b[39m Use `spec()` to retrieve the full column specification for this data.\n",
      "\u001b[36mℹ\u001b[39m Specify the column types or set `show_col_types = FALSE` to quiet this message.\n"
     ]
    },
    {
     "name": "stdout",
     "output_type": "stream",
     "text": [
      "[1] \"samples_df\"\n",
      "\u001b[90m# A tibble: 2 × 5\u001b[39m\n",
      "  sample_name cellr_ID fastq_ID      barcode_f                             bam_f\n",
      "  \u001b[3m\u001b[90m<chr>\u001b[39m\u001b[23m       \u001b[3m\u001b[90m<chr>\u001b[39m\u001b[23m    \u001b[3m\u001b[90m<chr>\u001b[39m\u001b[23m         \u001b[3m\u001b[90m<chr>\u001b[39m\u001b[23m                                 \u001b[3m\u001b[90m<chr>\u001b[39m\u001b[23m\n",
      "\u001b[90m1\u001b[39m Input       Flt3l    BC_10xATAC_Fp /home/isaac/lewis/mito_lineage/outpu… /hom…\n",
      "\u001b[90m2\u001b[39m Flt3l       Control  BC_10xATAC_Fn /home/isaac/lewis/mito_lineage/outpu… /hom…\n",
      "[1] \"exp\"\n",
      "[1] \"Flt3l\"\n",
      "[1] \"name\"\n",
      "[1] \"Input\"\n",
      "[1] \"barcode_path\"\n",
      "[1] \"/home/isaac/lewis/mito_lineage/output/mtscATAC/data/CHIP_april08_2021_Croker/MTblacklist/Flt3l/outs/filtered_peak_bc_matrix/barcodes.tsv\"\n"
     ]
    },
    {
     "name": "stderr",
     "output_type": "stream",
     "text": [
      "\u001b[1mRows: \u001b[22m\u001b[34m5313\u001b[39m \u001b[1mColumns: \u001b[22m\u001b[34m1\u001b[39m\n",
      "\u001b[36m──\u001b[39m \u001b[1mColumn specification\u001b[22m \u001b[36m──────────────────────────────────────────────────────────────────────────────────────────────\u001b[39m\n",
      "\u001b[1mDelimiter:\u001b[22m \"\\t\"\n",
      "\u001b[31mchr\u001b[39m (1): X1\n",
      "\n",
      "\u001b[36mℹ\u001b[39m Use `spec()` to retrieve the full column specification for this data.\n",
      "\u001b[36mℹ\u001b[39m Specify the column types or set `show_col_types = FALSE` to quiet this message.\n",
      "\u001b[1mRows: \u001b[22m\u001b[34m532237\u001b[39m \u001b[1mColumns: \u001b[22m\u001b[34m18\u001b[39m\n",
      "\u001b[36m──\u001b[39m \u001b[1mColumn specification\u001b[22m \u001b[36m──────────────────────────────────────────────────────────────────────────────────────────────\u001b[39m\n",
      "\u001b[1mDelimiter:\u001b[22m \",\"\n",
      "\u001b[31mchr\u001b[39m  (2): barcode, cell_id\n",
      "\u001b[32mdbl\u001b[39m (16): total, duplicate, chimeric, unmapped, lowmapq, mitochondrial, pass...\n",
      "\n",
      "\u001b[36mℹ\u001b[39m Use `spec()` to retrieve the full column specification for this data.\n",
      "\u001b[36mℹ\u001b[39m Specify the column types or set `show_col_types = FALSE` to quiet this message.\n"
     ]
    },
    {
     "name": "stdout",
     "output_type": "stream",
     "text": [
      "[1] \"Creating fragments object\"\n"
     ]
    },
    {
     "name": "stderr",
     "output_type": "stream",
     "text": [
      "Computing hash\n",
      "\n"
     ]
    },
    {
     "name": "stdout",
     "output_type": "stream",
     "text": [
      "[1] \"Quantifying peaks\"\n"
     ]
    },
    {
     "name": "stderr",
     "output_type": "stream",
     "text": [
      "Extracting reads overlapping genomic regions\n",
      "\n"
     ]
    },
    {
     "name": "stdout",
     "output_type": "stream",
     "text": [
      "[1] \"Creating chromatin assay\"\n"
     ]
    },
    {
     "name": "stderr",
     "output_type": "stream",
     "text": [
      "Warning message in CreateSeuratObject.Assay(curr_assay, assay = \"ATAC\", project = name, :\n",
      "“Some cells in meta.data not present in provided counts matrix.”\n",
      "Warning message:\n",
      "“Keys should be one or more alphanumeric characters followed by an underscore, setting key from atac to atac_”\n"
     ]
    },
    {
     "name": "stdout",
     "output_type": "stream",
     "text": [
      "[1] \"curr_assay\"\n",
      "data frame with 0 columns and 10 rows\n",
      "[1] \"curr\"\n",
      "                   orig.ident nCount_ATAC nFeature_ATAC total duplicate\n",
      "AAACGAAAGGAAACTT-1      Input        3223          3041 49701      5002\n",
      "AAACGAAGTCCAAGAG-1      Input        5289          4876 62869      9096\n",
      "AAACGAAGTCCGAGCT-1      Input        8635          7647 60574     11583\n",
      "AAACGAAGTTCAGAAA-1      Input        3200          3042 32202      4591\n",
      "AAACGAAGTTTGAAGA-1      Input        8229          7425 68829     12010\n",
      "AAACGAATCAGCCGGT-1      Input        1273          1245 13222      1216\n",
      "                   chimeric unmapped lowmapq mitochondrial passed_filters\n",
      "AAACGAAAGGAAACTT-1      164       92    1138         37812           5493\n",
      "AAACGAAGTCCAAGAG-1      249      139    1902         42086           9397\n",
      "AAACGAAGTCCGAGCT-1      352      141    2087         31767          14644\n",
      "AAACGAAGTTCAGAAA-1      146       90     911         19849           6615\n",
      "AAACGAAGTTTGAAGA-1      432      163    2209         39985          14030\n",
      "AAACGAATCAGCCGGT-1       85       25     369          9630           1897\n",
      "                   cell_id is__cell_barcode TSS_fragments\n",
      "AAACGAAAGGAAACTT-1 _cell_0                1          1489\n",
      "AAACGAAGTCCAAGAG-1 _cell_1                1          2713\n",
      "AAACGAAGTCCGAGCT-1 _cell_2                1          4090\n",
      "AAACGAAGTTCAGAAA-1 _cell_3                1          1483\n",
      "AAACGAAGTTTGAAGA-1 _cell_4                1          3862\n",
      "AAACGAATCAGCCGGT-1 _cell_5                1           587\n",
      "                   DNase_sensitive_region_fragments enhancer_region_fragments\n",
      "AAACGAAAGGAAACTT-1                                0                         0\n",
      "AAACGAAGTCCAAGAG-1                                0                         0\n",
      "AAACGAAGTCCGAGCT-1                                0                         0\n",
      "AAACGAAGTTCAGAAA-1                                0                         0\n",
      "AAACGAAGTTTGAAGA-1                                0                         0\n",
      "AAACGAATCAGCCGGT-1                                0                         0\n",
      "                   promoter_region_fragments on_target_fragments\n",
      "AAACGAAAGGAAACTT-1                         0                1489\n",
      "AAACGAAGTCCAAGAG-1                         0                2713\n",
      "AAACGAAGTCCGAGCT-1                         0                4090\n",
      "AAACGAAGTTCAGAAA-1                         0                1483\n",
      "AAACGAAGTTTGAAGA-1                         0                3862\n",
      "AAACGAATCAGCCGGT-1                         0                 587\n",
      "                   blacklist_region_fragments peak_region_fragments\n",
      "AAACGAAAGGAAACTT-1                          0                  2969\n",
      "AAACGAAGTCCAAGAG-1                          0                  4893\n",
      "AAACGAAGTCCGAGCT-1                          0                  8076\n",
      "AAACGAAGTTCAGAAA-1                          0                  2971\n",
      "AAACGAAGTTTGAAGA-1                          0                  7640\n",
      "AAACGAATCAGCCGGT-1                          0                  1208\n",
      "                   peak_region_cutsites  proj\n",
      "AAACGAAAGGAAACTT-1                 5761 Input\n",
      "AAACGAAGTCCAAGAG-1                 9514 Input\n",
      "AAACGAAGTCCGAGCT-1                15616 Input\n",
      "AAACGAAGTTCAGAAA-1                 5760 Input\n",
      "AAACGAAGTTTGAAGA-1                14850 Input\n",
      "AAACGAATCAGCCGGT-1                 2350 Input\n",
      "[1] \"exp\"\n",
      "[1] \"Control\"\n",
      "[1] \"name\"\n",
      "[1] \"Flt3l\"\n",
      "[1] \"barcode_path\"\n",
      "[1] \"/home/isaac/lewis/mito_lineage/output/mtscATAC/data/CHIP_april08_2021_Croker/MTblacklist/Control/outs/filtered_peak_bc_matrix/barcodes.tsv\"\n"
     ]
    },
    {
     "name": "stderr",
     "output_type": "stream",
     "text": [
      "\u001b[1mRows: \u001b[22m\u001b[34m843\u001b[39m \u001b[1mColumns: \u001b[22m\u001b[34m1\u001b[39m\n",
      "\u001b[36m──\u001b[39m \u001b[1mColumn specification\u001b[22m \u001b[36m──────────────────────────────────────────────────────────────────────────────────────────────\u001b[39m\n",
      "\u001b[1mDelimiter:\u001b[22m \"\\t\"\n",
      "\u001b[31mchr\u001b[39m (1): X1\n",
      "\n",
      "\u001b[36mℹ\u001b[39m Use `spec()` to retrieve the full column specification for this data.\n",
      "\u001b[36mℹ\u001b[39m Specify the column types or set `show_col_types = FALSE` to quiet this message.\n",
      "\u001b[1mRows: \u001b[22m\u001b[34m470007\u001b[39m \u001b[1mColumns: \u001b[22m\u001b[34m18\u001b[39m\n",
      "\u001b[36m──\u001b[39m \u001b[1mColumn specification\u001b[22m \u001b[36m──────────────────────────────────────────────────────────────────────────────────────────────\u001b[39m\n",
      "\u001b[1mDelimiter:\u001b[22m \",\"\n",
      "\u001b[31mchr\u001b[39m  (2): barcode, cell_id\n",
      "\u001b[32mdbl\u001b[39m (16): total, duplicate, chimeric, unmapped, lowmapq, mitochondrial, pass...\n",
      "\n",
      "\u001b[36mℹ\u001b[39m Use `spec()` to retrieve the full column specification for this data.\n",
      "\u001b[36mℹ\u001b[39m Specify the column types or set `show_col_types = FALSE` to quiet this message.\n"
     ]
    },
    {
     "name": "stdout",
     "output_type": "stream",
     "text": [
      "[1] \"Creating fragments object\"\n"
     ]
    },
    {
     "name": "stderr",
     "output_type": "stream",
     "text": [
      "Computing hash\n",
      "\n"
     ]
    },
    {
     "name": "stdout",
     "output_type": "stream",
     "text": [
      "[1] \"Quantifying peaks\"\n"
     ]
    },
    {
     "name": "stderr",
     "output_type": "stream",
     "text": [
      "Extracting reads overlapping genomic regions\n",
      "\n"
     ]
    },
    {
     "name": "stdout",
     "output_type": "stream",
     "text": [
      "[1] \"Creating chromatin assay\"\n"
     ]
    },
    {
     "name": "stderr",
     "output_type": "stream",
     "text": [
      "Warning message in CreateSeuratObject.Assay(curr_assay, assay = \"ATAC\", project = name, :\n",
      "“Some cells in meta.data not present in provided counts matrix.”\n",
      "Warning message:\n",
      "“Keys should be one or more alphanumeric characters followed by an underscore, setting key from atac to atac_”\n"
     ]
    },
    {
     "name": "stdout",
     "output_type": "stream",
     "text": [
      "[1] \"curr_assay\"\n",
      "data frame with 0 columns and 10 rows\n",
      "[1] \"curr\"\n",
      "                   orig.ident nCount_ATAC nFeature_ATAC  total duplicate\n",
      "AAACGAATCTTACTCA-1      Flt3l         220           220    779        47\n",
      "AAACTCGAGTGGTGTG-1      Flt3l         401           398  16911      5224\n",
      "AAACTCGTCAATGCAC-1      Flt3l        1042          1025  11963      2864\n",
      "AAACTGCTCTCGCGGA-1      Flt3l       22162         15293 265035     83694\n",
      "AAAGATGAGCGCATTT-1      Flt3l         381           377  15367      5530\n",
      "AAAGATGCAGCAACGA-1      Flt3l       15437         10650 250347     85267\n",
      "                   chimeric unmapped lowmapq mitochondrial passed_filters\n",
      "AAACGAATCTTACTCA-1        6        7      37           299            383\n",
      "AAACTCGAGTGGTGTG-1       95      356     690          9717            829\n",
      "AAACTCGTCAATGCAC-1       63       78     583          6889           1486\n",
      "AAACTGCTCTCGCGGA-1     1575     1101    9756        141471          27438\n",
      "AAAGATGAGCGCATTT-1       83      294     733          8051            676\n",
      "AAAGATGCAGCAACGA-1     1663     1230    6598        134365          21224\n",
      "                   cell_id is__cell_barcode TSS_fragments\n",
      "AAACGAATCTTACTCA-1 _cell_0                1           131\n",
      "AAACTCGAGTGGTGTG-1 _cell_1                1           267\n",
      "AAACTCGTCAATGCAC-1 _cell_2                1           638\n",
      "AAACTGCTCTCGCGGA-1 _cell_3                1         12690\n",
      "AAAGATGAGCGCATTT-1 _cell_4                1           265\n",
      "AAAGATGCAGCAACGA-1 _cell_5                1          9560\n",
      "                   DNase_sensitive_region_fragments enhancer_region_fragments\n",
      "AAACGAATCTTACTCA-1                                0                         0\n",
      "AAACTCGAGTGGTGTG-1                                0                         0\n",
      "AAACTCGTCAATGCAC-1                                0                         0\n",
      "AAACTGCTCTCGCGGA-1                                0                         0\n",
      "AAAGATGAGCGCATTT-1                                0                         0\n",
      "AAAGATGCAGCAACGA-1                                0                         0\n",
      "                   promoter_region_fragments on_target_fragments\n",
      "AAACGAATCTTACTCA-1                         0                 131\n",
      "AAACTCGAGTGGTGTG-1                         0                 267\n",
      "AAACTCGTCAATGCAC-1                         0                 638\n",
      "AAACTGCTCTCGCGGA-1                         0               12690\n",
      "AAAGATGAGCGCATTT-1                         0                 265\n",
      "AAAGATGCAGCAACGA-1                         0                9560\n",
      "                   blacklist_region_fragments peak_region_fragments\n",
      "AAACGAATCTTACTCA-1                          0                   196\n",
      "AAACTCGAGTGGTGTG-1                          0                   383\n",
      "AAACTCGTCAATGCAC-1                          0                   996\n",
      "AAACTGCTCTCGCGGA-1                          0                 21401\n",
      "AAAGATGAGCGCATTT-1                          0                   366\n",
      "AAAGATGCAGCAACGA-1                          0                 14580\n",
      "                   peak_region_cutsites  proj\n",
      "AAACGAATCTTACTCA-1                  372 Flt3l\n",
      "AAACTCGAGTGGTGTG-1                  751 Flt3l\n",
      "AAACTCGTCAATGCAC-1                 1923 Flt3l\n",
      "AAACTGCTCTCGCGGA-1                41723 Flt3l\n",
      "AAAGATGAGCGCATTT-1                  718 Flt3l\n",
      "AAAGATGCAGCAACGA-1                28399 Flt3l\n"
     ]
    },
    {
     "name": "stderr",
     "output_type": "stream",
     "text": [
      "\u001b[1mRows: \u001b[22m\u001b[34m2\u001b[39m \u001b[1mColumns: \u001b[22m\u001b[34m5\u001b[39m\n",
      "\u001b[36m──\u001b[39m \u001b[1mColumn specification\u001b[22m \u001b[36m──────────────────────────────────────────────────────────────────────────────────────────────\u001b[39m\n",
      "\u001b[1mDelimiter:\u001b[22m \",\"\n",
      "\u001b[31mchr\u001b[39m (5): sample_name, cellr_ID, fastq_ID, barcode_f, bam_f\n",
      "\n",
      "\u001b[36mℹ\u001b[39m Use `spec()` to retrieve the full column specification for this data.\n",
      "\u001b[36mℹ\u001b[39m Specify the column types or set `show_col_types = FALSE` to quiet this message.\n"
     ]
    },
    {
     "name": "stdout",
     "output_type": "stream",
     "text": [
      "[1] \"samples_df\"\n",
      "\u001b[90m# A tibble: 2 × 5\u001b[39m\n",
      "  sample_name cellr_ID fastq_ID      barcode_f                             bam_f\n",
      "  \u001b[3m\u001b[90m<chr>\u001b[39m\u001b[23m       \u001b[3m\u001b[90m<chr>\u001b[39m\u001b[23m    \u001b[3m\u001b[90m<chr>\u001b[39m\u001b[23m         \u001b[3m\u001b[90m<chr>\u001b[39m\u001b[23m                                 \u001b[3m\u001b[90m<chr>\u001b[39m\u001b[23m\n",
      "\u001b[90m1\u001b[39m Control     P2       BC_10xATAC_P2 /home/isaac/lewis/mito_lineage/outpu… /hom…\n",
      "\u001b[90m2\u001b[39m Flt3l       J2       BC_10xATAC_J2 /home/isaac/lewis/mito_lineage/outpu… /hom…\n",
      "[1] \"exp\"\n",
      "[1] \"P2\"\n",
      "[1] \"name\"\n",
      "[1] \"Control\"\n",
      "[1] \"barcode_path\"\n",
      "[1] \"/home/isaac/lewis/mito_lineage/output/mtscATAC/data/jan21_2021/MTblacklist/P2/outs/filtered_peak_bc_matrix/barcodes.tsv\"\n"
     ]
    },
    {
     "name": "stderr",
     "output_type": "stream",
     "text": [
      "\u001b[1mRows: \u001b[22m\u001b[34m6875\u001b[39m \u001b[1mColumns: \u001b[22m\u001b[34m1\u001b[39m\n",
      "\u001b[36m──\u001b[39m \u001b[1mColumn specification\u001b[22m \u001b[36m──────────────────────────────────────────────────────────────────────────────────────────────\u001b[39m\n",
      "\u001b[1mDelimiter:\u001b[22m \"\\t\"\n",
      "\u001b[31mchr\u001b[39m (1): X1\n",
      "\n",
      "\u001b[36mℹ\u001b[39m Use `spec()` to retrieve the full column specification for this data.\n",
      "\u001b[36mℹ\u001b[39m Specify the column types or set `show_col_types = FALSE` to quiet this message.\n",
      "\u001b[1mRows: \u001b[22m\u001b[34m332219\u001b[39m \u001b[1mColumns: \u001b[22m\u001b[34m18\u001b[39m\n",
      "\u001b[36m──\u001b[39m \u001b[1mColumn specification\u001b[22m \u001b[36m──────────────────────────────────────────────────────────────────────────────────────────────\u001b[39m\n",
      "\u001b[1mDelimiter:\u001b[22m \",\"\n",
      "\u001b[31mchr\u001b[39m  (2): barcode, cell_id\n",
      "\u001b[32mdbl\u001b[39m (16): total, duplicate, chimeric, unmapped, lowmapq, mitochondrial, pass...\n",
      "\n",
      "\u001b[36mℹ\u001b[39m Use `spec()` to retrieve the full column specification for this data.\n",
      "\u001b[36mℹ\u001b[39m Specify the column types or set `show_col_types = FALSE` to quiet this message.\n"
     ]
    },
    {
     "name": "stdout",
     "output_type": "stream",
     "text": [
      "[1] \"Creating fragments object\"\n"
     ]
    },
    {
     "name": "stderr",
     "output_type": "stream",
     "text": [
      "Computing hash\n",
      "\n"
     ]
    },
    {
     "name": "stdout",
     "output_type": "stream",
     "text": [
      "[1] \"Quantifying peaks\"\n"
     ]
    },
    {
     "name": "stderr",
     "output_type": "stream",
     "text": [
      "Extracting reads overlapping genomic regions\n",
      "\n"
     ]
    },
    {
     "name": "stdout",
     "output_type": "stream",
     "text": [
      "[1] \"Creating chromatin assay\"\n"
     ]
    },
    {
     "name": "stderr",
     "output_type": "stream",
     "text": [
      "Warning message in CreateSeuratObject.Assay(curr_assay, assay = \"ATAC\", project = name, :\n",
      "“Some cells in meta.data not present in provided counts matrix.”\n",
      "Warning message:\n",
      "“Keys should be one or more alphanumeric characters followed by an underscore, setting key from atac to atac_”\n"
     ]
    },
    {
     "name": "stdout",
     "output_type": "stream",
     "text": [
      "[1] \"curr_assay\"\n",
      "data frame with 0 columns and 10 rows\n",
      "[1] \"curr\"\n",
      "                   orig.ident nCount_ATAC nFeature_ATAC total duplicate\n",
      "AAACGAAAGAGGTCCA-1    Control        1558          1507 16929      2587\n",
      "AAACGAAAGCGATACG-1    Control        4217          4003 45359     10546\n",
      "AAACGAAAGTCGTGAG-1    Control        1239          1199 10177      2450\n",
      "AAACGAACAATAGTGA-1    Control        3108          2950 22452      4364\n",
      "AAACGAACACAATAAG-1    Control        1427          1398 11763      2003\n",
      "AAACGAACACTGATAC-1    Control        1125          1110  9449      1971\n",
      "                   chimeric unmapped lowmapq mitochondrial passed_filters\n",
      "AAACGAAAGAGGTCCA-1       58       70     674          9629           3911\n",
      "AAACGAAAGCGATACG-1      184      184    2302         22247           9896\n",
      "AAACGAAAGTCGTGAG-1       48       60     657          2135           4827\n",
      "AAACGAACAATAGTGA-1      100       83     897          9233           7775\n",
      "AAACGAACACAATAAG-1       43       57     680          5547           3433\n",
      "AAACGAACACTGATAC-1       59       21     489          3785           3124\n",
      "                   cell_id is__cell_barcode TSS_fragments\n",
      "AAACGAAAGAGGTCCA-1 _cell_0                1           740\n",
      "AAACGAAAGCGATACG-1 _cell_1                1          1611\n",
      "AAACGAAAGTCGTGAG-1 _cell_2                1           775\n",
      "AAACGAACAATAGTGA-1 _cell_3                1          1239\n",
      "AAACGAACACAATAAG-1 _cell_4                1           621\n",
      "AAACGAACACTGATAC-1 _cell_5                1           517\n",
      "                   DNase_sensitive_region_fragments enhancer_region_fragments\n",
      "AAACGAAAGAGGTCCA-1                                0                         0\n",
      "AAACGAAAGCGATACG-1                                0                         0\n",
      "AAACGAAAGTCGTGAG-1                                0                         0\n",
      "AAACGAACAATAGTGA-1                                0                         0\n",
      "AAACGAACACAATAAG-1                                0                         0\n",
      "AAACGAACACTGATAC-1                                0                         0\n",
      "                   promoter_region_fragments on_target_fragments\n",
      "AAACGAAAGAGGTCCA-1                         0                 740\n",
      "AAACGAAAGCGATACG-1                         0                1611\n",
      "AAACGAAAGTCGTGAG-1                         0                 775\n",
      "AAACGAACAATAGTGA-1                         0                1239\n",
      "AAACGAACACAATAAG-1                         0                 621\n",
      "AAACGAACACTGATAC-1                         0                 517\n",
      "                   blacklist_region_fragments peak_region_fragments\n",
      "AAACGAAAGAGGTCCA-1                          0                  1330\n",
      "AAACGAAAGCGATACG-1                          0                  3462\n",
      "AAACGAAAGTCGTGAG-1                          0                   966\n",
      "AAACGAACAATAGTGA-1                          0                  2701\n",
      "AAACGAACACAATAAG-1                          0                  1138\n",
      "AAACGAACACTGATAC-1                          0                   878\n",
      "                   peak_region_cutsites    proj\n",
      "AAACGAAAGAGGTCCA-1                 2434 Control\n",
      "AAACGAAAGCGATACG-1                 6167 Control\n",
      "AAACGAAAGTCGTGAG-1                 1768 Control\n",
      "AAACGAACAATAGTGA-1                 4951 Control\n",
      "AAACGAACACAATAAG-1                 2019 Control\n",
      "AAACGAACACTGATAC-1                 1595 Control\n",
      "[1] \"exp\"\n",
      "[1] \"J2\"\n",
      "[1] \"name\"\n",
      "[1] \"Flt3l\"\n",
      "[1] \"barcode_path\"\n",
      "[1] \"/home/isaac/lewis/mito_lineage/output/mtscATAC/data/jan21_2021/MTblacklist/J2/outs/filtered_peak_bc_matrix/barcodes.tsv\"\n"
     ]
    },
    {
     "name": "stderr",
     "output_type": "stream",
     "text": [
      "\u001b[1mRows: \u001b[22m\u001b[34m12009\u001b[39m \u001b[1mColumns: \u001b[22m\u001b[34m1\u001b[39m\n",
      "\u001b[36m──\u001b[39m \u001b[1mColumn specification\u001b[22m \u001b[36m──────────────────────────────────────────────────────────────────────────────────────────────\u001b[39m\n",
      "\u001b[1mDelimiter:\u001b[22m \"\\t\"\n",
      "\u001b[31mchr\u001b[39m (1): X1\n",
      "\n",
      "\u001b[36mℹ\u001b[39m Use `spec()` to retrieve the full column specification for this data.\n",
      "\u001b[36mℹ\u001b[39m Specify the column types or set `show_col_types = FALSE` to quiet this message.\n",
      "\u001b[1mRows: \u001b[22m\u001b[34m430951\u001b[39m \u001b[1mColumns: \u001b[22m\u001b[34m18\u001b[39m\n",
      "\u001b[36m──\u001b[39m \u001b[1mColumn specification\u001b[22m \u001b[36m──────────────────────────────────────────────────────────────────────────────────────────────\u001b[39m\n",
      "\u001b[1mDelimiter:\u001b[22m \",\"\n",
      "\u001b[31mchr\u001b[39m  (2): barcode, cell_id\n",
      "\u001b[32mdbl\u001b[39m (16): total, duplicate, chimeric, unmapped, lowmapq, mitochondrial, pass...\n",
      "\n",
      "\u001b[36mℹ\u001b[39m Use `spec()` to retrieve the full column specification for this data.\n",
      "\u001b[36mℹ\u001b[39m Specify the column types or set `show_col_types = FALSE` to quiet this message.\n"
     ]
    },
    {
     "name": "stdout",
     "output_type": "stream",
     "text": [
      "[1] \"Creating fragments object\"\n"
     ]
    },
    {
     "name": "stderr",
     "output_type": "stream",
     "text": [
      "Computing hash\n",
      "\n"
     ]
    },
    {
     "name": "stdout",
     "output_type": "stream",
     "text": [
      "[1] \"Quantifying peaks\"\n"
     ]
    },
    {
     "name": "stderr",
     "output_type": "stream",
     "text": [
      "Extracting reads overlapping genomic regions\n",
      "\n"
     ]
    }
   ],
   "source": [
    "allSE <- sapply(samps, load.se.experiments)"
   ]
  },
  {
   "cell_type": "code",
   "execution_count": 40,
   "id": "7ad60c8a",
   "metadata": {},
   "outputs": [],
   "source": [
    "allSE.full <- unlist(allSE, recursive=FALSE, use.names=TRUE)\n",
    "\n"
   ]
  },
  {
   "cell_type": "code",
   "execution_count": 41,
   "id": "1c645d15",
   "metadata": {
    "scrolled": true
   },
   "outputs": [
    {
     "data": {
      "text/plain": [
       "$CHIP_b11\n",
       "An object of class Seurat \n",
       "195596 features across 5308 samples within 1 assay \n",
       "Active assay: ATAC (195596 features, 0 variable features)\n",
       "\n",
       "$CHIP_b12\n",
       "An object of class Seurat \n",
       "187005 features across 7540 samples within 1 assay \n",
       "Active assay: ATAC (187005 features, 0 variable features)\n",
       "\n",
       "$CHIP_b13\n",
       "An object of class Seurat \n",
       "211492 features across 6848 samples within 1 assay \n",
       "Active assay: ATAC (211492 features, 0 variable features)\n",
       "\n",
       "$CHIP_b2\n",
       "An object of class Seurat \n",
       "158263 features across 4767 samples within 1 assay \n",
       "Active assay: ATAC (158263 features, 0 variable features)\n",
       "\n",
       "$CHIP_a11\n",
       "An object of class Seurat \n",
       "193788 features across 5312 samples within 1 assay \n",
       "Active assay: ATAC (193788 features, 0 variable features)\n",
       "\n",
       "$CHIP_a12\n",
       "An object of class Seurat \n",
       "101986 features across 745 samples within 1 assay \n",
       "Active assay: ATAC (101986 features, 0 variable features)\n",
       "\n",
       "$cd34norm1\n",
       "An object of class Seurat \n",
       "204193 features across 6624 samples within 1 assay \n",
       "Active assay: ATAC (204193 features, 0 variable features)\n",
       "\n",
       "$cd34norm2\n",
       "An object of class Seurat \n",
       "225594 features across 11981 samples within 1 assay \n",
       "Active assay: ATAC (225594 features, 0 variable features)\n"
      ]
     },
     "metadata": {},
     "output_type": "display_data"
    }
   ],
   "source": [
    "allSE.full"
   ]
  },
  {
   "cell_type": "code",
   "execution_count": null,
   "id": "8b6f5540",
   "metadata": {},
   "outputs": [],
   "source": [
    "allSE"
   ]
  },
  {
   "cell_type": "code",
   "execution_count": 42,
   "id": "a3eb8e0e",
   "metadata": {},
   "outputs": [],
   "source": [
    "saveRDS(allSE.full, file.path(outdir, paste0(\"allSamples.rds\")))"
   ]
  },
  {
   "cell_type": "code",
   "execution_count": 35,
   "id": "bdf9ffec",
   "metadata": {},
   "outputs": [
    {
     "data": {
      "text/html": [
       "'/mnt/md0/isshamie/Projects/Mito_Trace/output/CHIP_aggr/data/annotation/gff_A2/mergedSamples/allSamples.rds'"
      ],
      "text/latex": [
       "'/mnt/md0/isshamie/Projects/Mito\\_Trace/output/CHIP\\_aggr/data/annotation/gff\\_A2/mergedSamples/allSamples.rds'"
      ],
      "text/markdown": [
       "'/mnt/md0/isshamie/Projects/Mito_Trace/output/CHIP_aggr/data/annotation/gff_A2/mergedSamples/allSamples.rds'"
      ],
      "text/plain": [
       "[1] \"/mnt/md0/isshamie/Projects/Mito_Trace/output/CHIP_aggr/data/annotation/gff_A2/mergedSamples/allSamples.rds\""
      ]
     },
     "metadata": {},
     "output_type": "display_data"
    }
   ],
   "source": [
    "file.path(outdir, paste0(\"allSamples.rds\"))"
   ]
  },
  {
   "cell_type": "code",
   "execution_count": null,
   "id": "d196b4d8",
   "metadata": {},
   "outputs": [],
   "source": [
    "# library(Rsamtools)\n",
    "\n",
    "# qc <- function(se){\n",
    "#     # add the gene information to the object\n",
    "#     Annotation(se) <- annotations\n",
    "    \n",
    "#     # compute nucleosome signal score per cell\n",
    "#     se <- NucleosomeSignal(object = se)\n",
    "    \n",
    "#     # compute TSS enrichment score per cell\n",
    "#     se <- TSSEnrichment(object = se, fast = FALSE)\n",
    "\n",
    "#     # add blacklist ratio and fraction of reads in peaks\n",
    "#     se$pct_reads_in_peaks <- se$peak_region_fragments / se$passed_filters * 100\n",
    "#     se$blacklist_ratio <- se$blacklist_region_fragments / se$peak_region_fragments\n",
    "#     se$high.tss <- ifelse(se$TSS.enrichment > 2, 'High', 'Low')\n",
    "#     se$nucleosome_group <- ifelse(se$nucleosome_signal > 4, 'NS > 4', 'NS < 4')\n",
    "\n",
    "#     return(se)\n",
    "# }\n",
    "# vPlot <- function(se){\n",
    "#       vPlot <- VlnPlot(\n",
    "#       object = se,\n",
    "#       features = c('pct_reads_in_peaks', 'peak_region_fragments',\n",
    "#                    'TSS.enrichment', 'blacklist_ratio', 'nucleosome_signal'),\n",
    "#       pt.size = 0.1,\n",
    "#       ncol = 5\n",
    "#     )  \n",
    "#     vPlot <- vPlot +    # Create grid of plots with title\n",
    "#              plot_annotation(title = se$orig.ident[[1]]) & \n",
    "#              theme(plot.title = element_text(hjust = 0.5, size=15))\n",
    "#     #print(vPlot)\n",
    "#     return(vPlot)\n",
    "# }\n",
    "\n"
   ]
  },
  {
   "cell_type": "code",
   "execution_count": 36,
   "id": "d4be61d2",
   "metadata": {
    "scrolled": true
   },
   "outputs": [
    {
     "data": {
      "text/plain": [
       "R version 4.1.1 (2021-08-10)\n",
       "Platform: x86_64-conda-linux-gnu (64-bit)\n",
       "Running under: Ubuntu 20.04.4 LTS\n",
       "\n",
       "Matrix products: default\n",
       "BLAS/LAPACK: /home/isaac/miniconda3/envs/mttrace/lib/libopenblasp-r0.3.18.so\n",
       "\n",
       "locale:\n",
       " [1] LC_CTYPE=en_US.UTF-8       LC_NUMERIC=C              \n",
       " [3] LC_TIME=en_US.UTF-8        LC_COLLATE=en_US.UTF-8    \n",
       " [5] LC_MONETARY=en_US.UTF-8    LC_MESSAGES=en_US.UTF-8   \n",
       " [7] LC_PAPER=en_US.UTF-8       LC_NAME=C                 \n",
       " [9] LC_ADDRESS=C               LC_TELEPHONE=C            \n",
       "[11] LC_MEASUREMENT=en_US.UTF-8 LC_IDENTIFICATION=C       \n",
       "\n",
       "attached base packages:\n",
       "[1] stats4    stats     graphics  grDevices utils     datasets  methods  \n",
       "[8] base     \n",
       "\n",
       "other attached packages:\n",
       " [1] future_1.23.0        dplyr_1.0.8          metap_1.1           \n",
       " [4] cowplot_1.1.1        magrittr_2.0.2       data.table_1.14.2   \n",
       " [7] patchwork_1.1.1      ggplot2_3.3.5        Signac_1.4.0        \n",
       "[10] SeuratObject_4.0.4   Seurat_4.1.0         GenomicRanges_1.46.0\n",
       "[13] GenomeInfoDb_1.30.0  IRanges_2.28.0       S4Vectors_0.32.0    \n",
       "[16] BiocGenerics_0.40.0  yaml_2.2.2           repr_1.1.3          \n",
       "\n",
       "loaded via a namespace (and not attached):\n",
       "  [1] uuid_1.0-3             fastmatch_1.1-3        plyr_1.8.6            \n",
       "  [4] igraph_1.2.11          lazyeval_0.2.2         splines_4.1.1         \n",
       "  [7] BiocParallel_1.28.0    listenv_0.8.0          scattermore_0.8       \n",
       " [10] SnowballC_0.7.0        digest_0.6.29          htmltools_0.5.2       \n",
       " [13] fansi_1.0.2            tensor_1.5             cluster_2.1.2         \n",
       " [16] ROCR_1.0-11            tzdb_0.2.0             readr_2.1.0           \n",
       " [19] globals_0.14.0         Biostrings_2.62.0      matrixStats_0.61.0    \n",
       " [22] vroom_1.5.6            docopt_0.7.1           spatstat.sparse_2.1-0 \n",
       " [25] colorspace_2.0-2       ggrepel_0.9.1          rbibutils_2.2.4       \n",
       " [28] sparsesvd_0.2          crayon_1.5.0           RCurl_1.98-1.5        \n",
       " [31] jsonlite_1.7.3         spatstat.data_2.1-2    survival_3.2-13       \n",
       " [34] zoo_1.8-9              glue_1.6.1             polyclip_1.10-0       \n",
       " [37] gtable_0.3.0           zlibbioc_1.40.0        XVector_0.34.0        \n",
       " [40] leiden_0.3.9           future.apply_1.8.1     abind_1.4-5           \n",
       " [43] scales_1.1.1           DBI_1.1.1              spatstat.random_2.1-0 \n",
       " [46] miniUI_0.1.1.1         Rcpp_1.0.8             viridisLite_0.4.0     \n",
       " [49] xtable_1.8-4           reticulate_1.24        spatstat.core_2.4-0   \n",
       " [52] bit_4.0.4              htmlwidgets_1.5.4      httr_1.4.2            \n",
       " [55] RColorBrewer_1.1-2     ellipsis_0.3.2         ica_1.0-2             \n",
       " [58] pkgconfig_2.0.3        farver_2.1.0           ggseqlogo_0.1         \n",
       " [61] uwot_0.1.11            deldir_1.0-6           utf8_1.2.2            \n",
       " [64] tidyselect_1.1.1       rlang_1.0.1            reshape2_1.4.4        \n",
       " [67] later_1.3.0            munsell_0.5.0          tools_4.1.1           \n",
       " [70] cli_3.2.0              generics_0.1.2         ggridges_0.5.3        \n",
       " [73] evaluate_0.14          stringr_1.4.0          fastmap_1.1.0         \n",
       " [76] goftest_1.2-3          bit64_4.0.5            fitdistrplus_1.1-6    \n",
       " [79] purrr_0.3.4            RANN_2.6.1             pbapply_1.5-0         \n",
       " [82] nlme_3.1-153           mime_0.12              slam_0.1-49           \n",
       " [85] RcppRoll_0.3.0         compiler_4.1.1         plotly_4.10.0         \n",
       " [88] png_0.1-7              spatstat.utils_2.3-0   tibble_3.1.6          \n",
       " [91] tweenr_1.0.2           stringi_1.7.6          lattice_0.20-45       \n",
       " [94] IRdisplay_1.0          Matrix_1.3-4           vctrs_0.3.8           \n",
       " [97] pillar_1.7.0           lifecycle_1.0.1        Rdpack_2.1.2          \n",
       "[100] spatstat.geom_2.3-2    lmtest_0.9-39          RcppAnnoy_0.0.19      \n",
       "[103] bitops_1.0-7           irlba_2.3.5            httpuv_1.6.5          \n",
       "[106] R6_2.5.1               promises_1.2.0.1       KernSmooth_2.23-20    \n",
       "[109] gridExtra_2.3          lsa_0.73.2             parallelly_1.30.0     \n",
       "[112] codetools_0.2-18       MASS_7.3-54            assertthat_0.2.1      \n",
       "[115] withr_2.4.3            qlcMatrix_0.9.7        sctransform_0.3.3     \n",
       "[118] Rsamtools_2.10.0       GenomeInfoDbData_1.2.7 hms_1.1.1             \n",
       "[121] mgcv_1.8-38            parallel_4.1.1         grid_4.1.1            \n",
       "[124] rpart_4.1-15           IRkernel_1.2           tidyr_1.2.0           \n",
       "[127] Rtsne_0.15             pbdZMQ_0.3-6           ggforce_0.3.3         \n",
       "[130] shiny_1.7.1            base64enc_0.1-3       "
      ]
     },
     "metadata": {},
     "output_type": "display_data"
    }
   ],
   "source": [
    "sessionInfo()"
   ]
  },
  {
   "cell_type": "code",
   "execution_count": 32,
   "id": "24048676",
   "metadata": {
    "scrolled": true
   },
   "outputs": [
    {
     "data": {
      "text/plain": [
       "$CHIP_b1\n",
       "$CHIP_b1[[1]]\n",
       "An object of class Seurat \n",
       "195596 features across 5308 samples within 1 assay \n",
       "Active assay: ATAC (195596 features, 0 variable features)\n",
       "\n",
       "$CHIP_b1[[2]]\n",
       "An object of class Seurat \n",
       "187005 features across 7540 samples within 1 assay \n",
       "Active assay: ATAC (187005 features, 0 variable features)\n",
       "\n",
       "$CHIP_b1[[3]]\n",
       "An object of class Seurat \n",
       "211492 features across 6848 samples within 1 assay \n",
       "Active assay: ATAC (211492 features, 0 variable features)\n",
       "\n",
       "\n",
       "$CHIP_b2\n",
       "$CHIP_b2[[1]]\n",
       "An object of class Seurat \n",
       "158263 features across 4767 samples within 1 assay \n",
       "Active assay: ATAC (158263 features, 0 variable features)\n",
       "\n",
       "\n",
       "$CHIP_a1\n",
       "$CHIP_a1[[1]]\n",
       "An object of class Seurat \n",
       "193788 features across 5312 samples within 1 assay \n",
       "Active assay: ATAC (193788 features, 0 variable features)\n",
       "\n",
       "$CHIP_a1[[2]]\n",
       "An object of class Seurat \n",
       "101986 features across 745 samples within 1 assay \n",
       "Active assay: ATAC (101986 features, 0 variable features)\n",
       "\n",
       "\n",
       "$cd34norm\n",
       "$cd34norm[[1]]\n",
       "An object of class Seurat \n",
       "204193 features across 6624 samples within 1 assay \n",
       "Active assay: ATAC (204193 features, 0 variable features)\n",
       "\n",
       "$cd34norm[[2]]\n",
       "An object of class Seurat \n",
       "225594 features across 11981 samples within 1 assay \n",
       "Active assay: ATAC (225594 features, 0 variable features)\n",
       "\n"
      ]
     },
     "metadata": {},
     "output_type": "display_data"
    }
   ],
   "source": [
    "allSE"
   ]
  },
  {
   "cell_type": "code",
   "execution_count": null,
   "id": "b179e209",
   "metadata": {},
   "outputs": [],
   "source": []
  }
 ],
 "metadata": {
  "celltoolbar": "Tags",
  "kernelspec": {
   "display_name": "R",
   "language": "R",
   "name": "ir"
  },
  "language_info": {
   "codemirror_mode": "r",
   "file_extension": ".r",
   "mimetype": "text/x-r-source",
   "name": "R",
   "pygments_lexer": "r",
   "version": "4.1.1"
  }
 },
 "nbformat": 4,
 "nbformat_minor": 5
}
