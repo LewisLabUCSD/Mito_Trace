{
 "cells": [
  {
   "cell_type": "markdown",
   "id": "223d6f46",
   "metadata": {},
   "source": [
    "## Creates binarized Seurat objects, integrates conditions and annotates genes by nearby peaks"
   ]
  },
  {
   "cell_type": "code",
   "execution_count": 1,
   "id": "663e2d4d",
   "metadata": {
    "tags": [
     "parameters"
    ]
   },
   "outputs": [],
   "source": [
    "# Input info\n",
    "cellr_in = \"/home/isshamie/data/Projects/Mito_Trace/output/mtscATAC/data/jan21_2021/MTblacklist/\" \n",
    "outdir = \"/home/isshamie/data/Projects/Mito_Trace/output/annotation/data/cd34norm/MTblacklist/mergedSamples/\"\n",
    "\n",
    "sample_names = \"Control,Flt3l\"\n",
    "samples = \"P2,J2\"\n",
    "\n",
    "# Parameters\n",
    "nTop = 25000\n",
    "cores = 24"
   ]
  },
  {
   "cell_type": "code",
   "execution_count": 2,
   "id": "b62b75ff",
   "metadata": {},
   "outputs": [],
   "source": [
    "library(repr)\n",
    "options(repr.plot.width=12, repr.plot.height=12)"
   ]
  },
  {
   "cell_type": "code",
   "execution_count": 3,
   "id": "c2c99fc4",
   "metadata": {
    "scrolled": true
   },
   "outputs": [
    {
     "data": {
      "text/html": [
       "<style>\n",
       ".list-inline {list-style: none; margin:0; padding: 0}\n",
       ".list-inline>li {display: inline-block}\n",
       ".list-inline>li:not(:last-child)::after {content: \"\\00b7\"; padding: 0 .5ex}\n",
       "</style>\n",
       "<ol class=list-inline><li>'P2'</li><li>'J2'</li></ol>\n"
      ],
      "text/latex": [
       "\\begin{enumerate*}\n",
       "\\item 'P2'\n",
       "\\item 'J2'\n",
       "\\end{enumerate*}\n"
      ],
      "text/markdown": [
       "1. 'P2'\n",
       "2. 'J2'\n",
       "\n",
       "\n"
      ],
      "text/plain": [
       "[1] \"P2\" \"J2\""
      ]
     },
     "metadata": {},
     "output_type": "display_data"
    }
   ],
   "source": [
    "samples <- unlist(strsplit(samples, \",\")[[1]])\n",
    "sample_names <- unlist(strsplit(sample_names, \",\"))\n",
    "\n",
    "samples"
   ]
  },
  {
   "cell_type": "code",
   "execution_count": null,
   "id": "41f9cf84",
   "metadata": {},
   "outputs": [],
   "source": []
  },
  {
   "cell_type": "code",
   "execution_count": null,
   "id": "8964e3f0",
   "metadata": {},
   "outputs": [
    {
     "name": "stderr",
     "output_type": "stream",
     "text": [
      "Updating HTML index of packages in '.Library'\n",
      "\n",
      "Making 'packages.html' ...\n",
      " done\n",
      "\n",
      "Updating HTML index of packages in '.Library'\n",
      "\n",
      "Making 'packages.html' ...\n",
      " done\n",
      "\n",
      "Updating HTML index of packages in '.Library'\n",
      "\n",
      "Making 'packages.html' ...\n",
      " done\n",
      "\n",
      "Updating HTML index of packages in '.Library'\n",
      "\n",
      "Making 'packages.html' ...\n",
      " done\n",
      "\n",
      "'getOption(\"repos\")' replaces Bioconductor standard repositories, see\n",
      "'?repositories' for details\n",
      "\n",
      "replacement repositories:\n",
      "    CRAN: https://cran.r-project.org\n",
      "\n",
      "\n",
      "Bioconductor version 3.14 (BiocManager 1.30.16), R 4.1.1 (2021-08-10)\n",
      "\n",
      "Installing package(s) 'BiocVersion', 'GenomicRanges', 'Signac',\n",
      "  'EnsDb.Hsapiens.v75'\n",
      "\n",
      "also installing the dependencies ‘filelock’, ‘MatrixGenerics’, ‘DelayedArray’, ‘lambda.r’, ‘futile.options’, ‘gtools’, ‘caTools’, ‘sitmo’, ‘BiocFileCache’, ‘SummarizedExperiment’, ‘rjson’, ‘futile.logger’, ‘snow’, ‘BH’, ‘crosstalk’, ‘here’, ‘gplots’, ‘gridExtra’, ‘RcppArmadillo’, ‘spatstat.data’, ‘spatstat.utils’, ‘spatstat.sparse’, ‘abind’, ‘tensor’, ‘goftest’, ‘deldir’, ‘FNN’, ‘RSpectra’, ‘dqrng’, ‘BiocIO’, ‘biomaRt’, ‘memoise’, ‘plogr’, ‘KEGGREST’, ‘XML’, ‘GenomicAlignments’, ‘restfulr’, ‘RCurl’, ‘GenomeInfoDbData’, ‘zlibbioc’, ‘Biostrings’, ‘bitops’, ‘BiocParallel’, ‘Rhtslib’, ‘fitdistrplus’, ‘ggridges’, ‘ica’, ‘igraph’, ‘leiden’, ‘lmtest’, ‘matrixStats’, ‘miniUI’, ‘plotly’, ‘png’, ‘RANN’, ‘RcppAnnoy’, ‘reticulate’, ‘ROCR’, ‘Rtsne’, ‘scattermore’, ‘sctransform’, ‘spatstat.core’, ‘spatstat.geom’, ‘uwot’, ‘RcppEigen’, ‘RcppProgress’, ‘SnowballC’, ‘tweenr’, ‘polyclip’, ‘slam’, ‘sparsesvd’, ‘docopt’, ‘GenomicFeatures’, ‘AnnotationFilter’, ‘RSQLite’, ‘Biobase’, ‘AnnotationDbi’, ‘rtracklayer’, ‘ProtGenerics’, ‘BiocGenerics’, ‘S4Vectors’, ‘IRanges’, ‘GenomeInfoDb’, ‘XVector’, ‘Rsamtools’, ‘Seurat’, ‘SeuratObject’, ‘ggseqlogo’, ‘irlba’, ‘pbapply’, ‘patchwork’, ‘ggrepel’, ‘fastmatch’, ‘lsa’, ‘RcppRoll’, ‘ggforce’, ‘qlcMatrix’, ‘ensembldb’\n",
      "\n",
      "\n"
     ]
    }
   ],
   "source": [
    "install.packages(\"cowplot\")\n",
    "install.packages(\"data.table\")\n",
    "install.packages(\"dplyr\")\n",
    "install.packages(\"BiocManager\")\n",
    "BiocManager::install(c(\"GenomicRanges\", \"Signac\", \"EnsDb.Hsapiens.v75\"))\n",
    "\n"
   ]
  },
  {
   "cell_type": "code",
   "execution_count": 4,
   "id": "aad4f638",
   "metadata": {
    "scrolled": false
   },
   "outputs": [
    {
     "ename": "ERROR",
     "evalue": "Error in library(GenomicRanges): there is no package called ‘GenomicRanges’\n",
     "output_type": "error",
     "traceback": [
      "Error in library(GenomicRanges): there is no package called ‘GenomicRanges’\nTraceback:\n",
      "1. library(GenomicRanges)"
     ]
    }
   ],
   "source": [
    "library(GenomicRanges)\n",
    "library(Seurat)\n",
    "library(Signac)\n",
    "library(GenomeInfoDb)\n",
    "library(EnsDb.Hsapiens.v75)\n",
    "library(ggplot2)\n",
    "library(patchwork)\n",
    "set.seed(1234)\n",
    "library(data.table)\n",
    "library(magrittr)\n",
    "library(cowplot)\n",
    "library(metap)\n",
    "library(dplyr)\n",
    "library(future)\n",
    "\n",
    "plan(\"multiprocess\", workers = cores)\n",
    "options(future.globals.maxSize = 8000 * 1024^2)\n",
    "#options(future.globals.maxSize = 50000 * 1024^2) # for 50 Gb RAM\n",
    "#plan(\"multiprocess\", workers = workers)"
   ]
  },
  {
   "cell_type": "markdown",
   "id": "a53a3256",
   "metadata": {},
   "source": [
    "## Merge all peaks"
   ]
  },
  {
   "cell_type": "code",
   "execution_count": null,
   "id": "62849b8a",
   "metadata": {
    "scrolled": true
   },
   "outputs": [],
   "source": [
    "read.peaks <- function(exp, cellr_in){\n",
    "    print('here')\n",
    "    print(file.path(cellr_in, exp, \"outs\", \"filtered_peak_bc_matrix\", \"peaks.bed\"))\n",
    "    peaks <- read.table(\n",
    "      file = file.path(cellr_in, exp, \"outs\", \"filtered_peak_bc_matrix\", \"peaks.bed\"),\n",
    "      col.names = c(\"chr\", \"start\", \"end\")\n",
    "    )\n",
    "    # convert to genomic ranges\n",
    "    gr <- makeGRangesFromDataFrame(peaks)\n",
    "    return(gr)\n",
    "}\n",
    "\n",
    "\n",
    "gr.full <- c(sapply(samples, read.peaks, cellr_in=cellr_in, USE.NAMES=F))\n",
    "\n",
    "gr.full.c <- gr.full[[1]]\n",
    "if (length(gr.full)>1){\n",
    "    for (i in 2:length(gr.full)){\n",
    "      gr.full.c <- c(gr.full.c, gr.full[[i]])\n",
    "    }\n",
    "}\n",
    "combined.peaks <- reduce(x = c(gr.full.c))\n",
    "\n",
    "# Filter out bad peaks based on length\n",
    "peakwidths <- width(combined.peaks)\n",
    "combined.peaks <- combined.peaks[peakwidths  < 10000 & peakwidths > 20]\n",
    "head(combined.peaks)"
   ]
  },
  {
   "cell_type": "markdown",
   "id": "1cae010c",
   "metadata": {},
   "source": [
    "## Create fragment objects"
   ]
  },
  {
   "cell_type": "code",
   "execution_count": null,
   "id": "67e92e33",
   "metadata": {
    "scrolled": true
   },
   "outputs": [],
   "source": [
    "allSE = c() \n",
    "\n",
    "samples_df <- cbind(sample_names, samples)\n",
    "print('samples_df')\n",
    "print(samples_df)\n",
    "for (row in 1:nrow(samples_df)){\n",
    "    exp <- (samples_df[[row, \"samples\"]])\n",
    "    name <- (samples_df[[row, \"sample_names\"]]) \n",
    "    \n",
    "#for (exp in samples) {\n",
    "    print('exp')\n",
    "    print(exp)\n",
    "    print('name')\n",
    "    print(name)\n",
    "    barcode_path <- file.path(cellr_in, exp, \"outs\", \"filtered_peak_bc_matrix\", \"barcodes.tsv\")    \n",
    "    barcodes <- readr::read_tsv(barcode_path, col_names = F) # %>% tidyr::unite(barcode)\n",
    "    barcodes <- as.data.frame(barcodes) %>%  tibble::column_to_rownames(var=\"X1\") %>% tibble::add_column(proj=name)\n",
    "    frag_file <- file.path(cellr_in, exp, \"outs\", \"fragments.tsv.gz\")\n",
    "    \n",
    "    cells.meta.f <- file.path(cellr_in, exp, \"outs\", \"singlecell.csv\") \n",
    "    cells.meta <- as.data.frame(readr::read_csv(cells.meta.f)) %>% tibble::column_to_rownames(var=\"barcode\") %>% tibble::add_column(proj=name)\n",
    "    cells.meta <- cells.meta[rownames(cells.meta) %in% rownames(barcodes), ]\n",
    "\n",
    "    # quantify multiome peaks in the scATAC-seq dataset\n",
    "    \n",
    "    \n",
    "    print(\"Creating fragments object\")\n",
    "    frags.curr <- CreateFragmentObject(path = frag_file, cells= rownames(barcodes))\n",
    "    #print(frags.curr)\n",
    "    print(\"Quantifying peaks\")\n",
    "    ## Quantify peaks\n",
    "    curr.counts <- FeatureMatrix(\n",
    "      fragments = frags.curr,\n",
    "      features = combined.peaks,\n",
    "      cells = rownames(barcodes),\n",
    "      process_n = cores\n",
    "    )\n",
    "    \n",
    "    print(\"Creating chromatin assay\")\n",
    "    ## Create the objects and use simple filters\n",
    "    curr_assay <- CreateChromatinAssay(curr.counts, fragments = frags.curr, min.cells = 10, min.features = 200)\n",
    "    curr <- CreateSeuratObject(curr_assay, assay = \"ATAC\", project=name, meta.data=cells.meta)\n",
    "    print('curr_assay')\n",
    "    print(head(curr_assay))\n",
    "    print('curr')\n",
    "    print(head(curr[[]]))\n",
    "    allSE = c(allSE, curr)\n",
    "    #return(curr)\n",
    "}\n",
    "\n",
    "allSE\n",
    "\n",
    "#allSE <- sapply(samples, create_frag, cellr_in=cellr_in)"
   ]
  },
  {
   "cell_type": "code",
   "execution_count": null,
   "id": "c116a7db",
   "metadata": {},
   "outputs": [],
   "source": [
    "saveRDS(allSE, file.path(outdir, paste0(\"allSamples.rds\")))"
   ]
  },
  {
   "cell_type": "code",
   "execution_count": null,
   "id": "f9082d43",
   "metadata": {
    "scrolled": false
   },
   "outputs": [],
   "source": [
    "allSE"
   ]
  },
  {
   "cell_type": "code",
   "execution_count": null,
   "id": "bc70c919",
   "metadata": {},
   "outputs": [],
   "source": [
    "allSE[[1]][[]]"
   ]
  },
  {
   "cell_type": "code",
   "execution_count": null,
   "id": "9a2cf886",
   "metadata": {
    "scrolled": true
   },
   "outputs": [],
   "source": [
    "vPlot <- function(se){\n",
    "    print(\"se\")\n",
    "    print(se)\n",
    "      plot <- VlnPlot(\n",
    "      object = se,\n",
    "      features = c('pct_reads_in_peaks', 'peak_region_fragments',\n",
    "                   'TSS.enrichment', 'blacklist_ratio', 'nucleosome_signal'),\n",
    "      pt.size = 0.1,\n",
    "      ncol = 5\n",
    "    )\n",
    "    plot <- plot +    # Create grid of plots with title\n",
    "             plot_annotation(title = se$orig.ident[[1]]) &\n",
    "             theme(plot.title = element_text(hjust = 0.5, size=15))\n",
    "    #print(vPlot)\n",
    "    return(plot)\n",
    "}\n",
    "sapply(allSE,vPlot)"
   ]
  },
  {
   "cell_type": "code",
   "execution_count": null,
   "id": "626a0538",
   "metadata": {
    "scrolled": true
   },
   "outputs": [],
   "source": [
    "sessionInfo()"
   ]
  },
  {
   "cell_type": "code",
   "execution_count": null,
   "id": "2f6f43e9",
   "metadata": {},
   "outputs": [],
   "source": []
  }
 ],
 "metadata": {
  "celltoolbar": "Tags",
  "kernelspec": {
   "display_name": "R",
   "language": "R",
   "name": "ir"
  },
  "language_info": {
   "codemirror_mode": "r",
   "file_extension": ".r",
   "mimetype": "text/x-r-source",
   "name": "R",
   "pygments_lexer": "r",
   "version": "4.1.1"
  }
 },
 "nbformat": 4,
 "nbformat_minor": 5
}
