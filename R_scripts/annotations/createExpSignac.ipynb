{
 "cells": [
  {
   "cell_type": "markdown",
   "id": "223d6f46",
   "metadata": {},
   "source": [
    "## Creates binarized Seurat objects, integrates conditions and annotates genes by nearby peaks"
   ]
  },
  {
   "cell_type": "code",
   "execution_count": 7,
   "id": "663e2d4d",
   "metadata": {
    "tags": [
     "parameters"
    ]
   },
   "outputs": [],
   "source": [
    "# Input info\n",
    "cellr_in = \"/home/isaac/lewis/mito_lineage/output/mtscATAC/data/DUPI_april08_2021_Croker/MTblacklist_mtasnucl/\" \n",
    "outdir = \"/mnt/md0/isshamie/Projects/Mito_Trace/output/pipeline/DUPI_april08_2021/MTblacklist_mtasnucl_Bonly/data/annotation/gff_hg38_1_2/mergedSamples/\"\n",
    "\n",
    "sample_names = \"preB,postB\"\n",
    "samples = \"rxn2,rxn4\"\n",
    "\n",
    "# Parameters\n",
    "nTop = 25000\n",
    "cores = 24\n",
    "\n",
    "gff_id = \"hg38_1_2\"\n",
    "\n",
    "annotations_indir = \"/mnt/md0/isshamie/Projects/Mito_Trace/data/processed/annotation_granges/\""
   ]
  },
  {
   "cell_type": "code",
   "execution_count": 8,
   "id": "b62b75ff",
   "metadata": {},
   "outputs": [],
   "source": [
    "library(repr)\n",
    "options(repr.plot.width=12, repr.plot.height=12)"
   ]
  },
  {
   "cell_type": "code",
   "execution_count": 9,
   "id": "c2c99fc4",
   "metadata": {
    "scrolled": true
   },
   "outputs": [
    {
     "data": {
      "text/html": [
       "<style>\n",
       ".list-inline {list-style: none; margin:0; padding: 0}\n",
       ".list-inline>li {display: inline-block}\n",
       ".list-inline>li:not(:last-child)::after {content: \"\\00b7\"; padding: 0 .5ex}\n",
       "</style>\n",
       "<ol class=list-inline><li>'rxn2'</li><li>'rxn4'</li></ol>\n"
      ],
      "text/latex": [
       "\\begin{enumerate*}\n",
       "\\item 'rxn2'\n",
       "\\item 'rxn4'\n",
       "\\end{enumerate*}\n"
      ],
      "text/markdown": [
       "1. 'rxn2'\n",
       "2. 'rxn4'\n",
       "\n",
       "\n"
      ],
      "text/plain": [
       "[1] \"rxn2\" \"rxn4\""
      ]
     },
     "metadata": {},
     "output_type": "display_data"
    }
   ],
   "source": [
    "samples <- unlist(strsplit(samples, \",\")[[1]])\n",
    "sample_names <- unlist(strsplit(sample_names, \",\"))\n",
    "\n",
    "samples"
   ]
  },
  {
   "cell_type": "code",
   "execution_count": 10,
   "id": "74c9cf2f",
   "metadata": {},
   "outputs": [],
   "source": [
    "annotations <- readRDS(file.path(annotations_indir, paste0(gff_id, \".annotationGranges.rds\")))"
   ]
  },
  {
   "cell_type": "code",
   "execution_count": 11,
   "id": "701acc45",
   "metadata": {
    "scrolled": true
   },
   "outputs": [
    {
     "data": {
      "text/plain": [
       "GRanges object with 1684537 ranges and 21 metadata columns:\n",
       "            seqnames      ranges strand |   source       type     score\n",
       "               <Rle>   <IRanges>  <Rle> | <factor>   <factor> <numeric>\n",
       "        [1]     chr1 11869-14409      + |   HAVANA gene              NA\n",
       "        [2]     chr1 11869-14409      + |   HAVANA transcript        NA\n",
       "        [3]     chr1 11869-12227      + |   HAVANA exon              NA\n",
       "        [4]     chr1 12613-12721      + |   HAVANA exon              NA\n",
       "        [5]     chr1 13221-14409      + |   HAVANA exon              NA\n",
       "        ...      ...         ...    ... .      ...        ...       ...\n",
       "  [1684533]     chrM 15888-15953      + |  ENSEMBL transcript        NA\n",
       "  [1684534]     chrM 15888-15953      + |  ENSEMBL exon              NA\n",
       "  [1684535]     chrM 15956-16023      - |  ENSEMBL gene              NA\n",
       "  [1684536]     chrM 15956-16023      - |  ENSEMBL transcript        NA\n",
       "  [1684537]     chrM 15956-16023      - |  ENSEMBL exon              NA\n",
       "                phase           gene_id              gene_type   gene_name\n",
       "            <integer>       <character>            <character> <character>\n",
       "        [1]      <NA> ENSG00000223972.5 transcribed_unproces..     DDX11L1\n",
       "        [2]      <NA> ENSG00000223972.5 transcribed_unproces..     DDX11L1\n",
       "        [3]      <NA> ENSG00000223972.5 transcribed_unproces..     DDX11L1\n",
       "        [4]      <NA> ENSG00000223972.5 transcribed_unproces..     DDX11L1\n",
       "        [5]      <NA> ENSG00000223972.5 transcribed_unproces..     DDX11L1\n",
       "        ...       ...               ...                    ...         ...\n",
       "  [1684533]      <NA> ENSG00000210195.2                Mt_tRNA       MT-TT\n",
       "  [1684534]      <NA> ENSG00000210195.2                Mt_tRNA       MT-TT\n",
       "  [1684535]      <NA> ENSG00000210196.2                Mt_tRNA       MT-TP\n",
       "  [1684536]      <NA> ENSG00000210196.2                Mt_tRNA       MT-TP\n",
       "  [1684537]      <NA> ENSG00000210196.2                Mt_tRNA       MT-TP\n",
       "                  level          havana_gene     transcript_id\n",
       "            <character>          <character>       <character>\n",
       "        [1]           2 OTTHUMG00000000961.2              <NA>\n",
       "        [2]           2 OTTHUMG00000000961.2 ENST00000456328.2\n",
       "        [3]           2 OTTHUMG00000000961.2 ENST00000456328.2\n",
       "        [4]           2 OTTHUMG00000000961.2 ENST00000456328.2\n",
       "        [5]           2 OTTHUMG00000000961.2 ENST00000456328.2\n",
       "        ...         ...                  ...               ...\n",
       "  [1684533]           3                 <NA> ENST00000387460.2\n",
       "  [1684534]           3                 <NA> ENST00000387460.2\n",
       "  [1684535]           3                 <NA>              <NA>\n",
       "  [1684536]           3                 <NA> ENST00000387461.2\n",
       "  [1684537]           3                 <NA> ENST00000387461.2\n",
       "                 transcript_type  transcript_name transcript_support_level\n",
       "                     <character>      <character>              <character>\n",
       "        [1]                 <NA>             <NA>                     <NA>\n",
       "        [2] processed_transcript RP11-34P13.1-002                        1\n",
       "        [3] processed_transcript RP11-34P13.1-002                        1\n",
       "        [4] processed_transcript RP11-34P13.1-002                        1\n",
       "        [5] processed_transcript RP11-34P13.1-002                        1\n",
       "        ...                  ...              ...                      ...\n",
       "  [1684533]              Mt_tRNA        MT-TT-201                       NA\n",
       "  [1684534]              Mt_tRNA        MT-TT-201                       NA\n",
       "  [1684535]                 <NA>             <NA>                     <NA>\n",
       "  [1684536]              Mt_tRNA        MT-TP-201                       NA\n",
       "  [1684537]              Mt_tRNA        MT-TP-201                       NA\n",
       "                    tag    havana_transcript exon_number           exon_id\n",
       "            <character>          <character> <character>       <character>\n",
       "        [1]        <NA>                 <NA>        <NA>              <NA>\n",
       "        [2]       basic OTTHUMT00000362751.1        <NA>              <NA>\n",
       "        [3]       basic OTTHUMT00000362751.1           1 ENSE00002234944.1\n",
       "        [4]       basic OTTHUMT00000362751.1           2 ENSE00003582793.1\n",
       "        [5]       basic OTTHUMT00000362751.1           3 ENSE00002312635.1\n",
       "        ...         ...                  ...         ...               ...\n",
       "  [1684533]       basic                 <NA>        <NA>              <NA>\n",
       "  [1684534]       basic                 <NA>           1 ENSE00001544475.2\n",
       "  [1684535]        <NA>                 <NA>        <NA>              <NA>\n",
       "  [1684536]       basic                 <NA>        <NA>              <NA>\n",
       "  [1684537]       basic                 <NA>           1 ENSE00001544473.2\n",
       "                    ont  protein_id      ccdsid           gene_biotype\n",
       "            <character> <character> <character>            <character>\n",
       "        [1]        <NA>        <NA>        <NA> transcribed_unproces..\n",
       "        [2]        <NA>        <NA>        <NA> transcribed_unproces..\n",
       "        [3]        <NA>        <NA>        <NA> transcribed_unproces..\n",
       "        [4]        <NA>        <NA>        <NA> transcribed_unproces..\n",
       "        [5]        <NA>        <NA>        <NA> transcribed_unproces..\n",
       "        ...         ...         ...         ...                    ...\n",
       "  [1684533]        <NA>        <NA>        <NA>                Mt_tRNA\n",
       "  [1684534]        <NA>        <NA>        <NA>                Mt_tRNA\n",
       "  [1684535]        <NA>        <NA>        <NA>                Mt_tRNA\n",
       "  [1684536]        <NA>        <NA>        <NA>                Mt_tRNA\n",
       "  [1684537]        <NA>        <NA>        <NA>                Mt_tRNA\n",
       "  -------\n",
       "  seqinfo: 640 sequences (1 circular) from hg38 genome"
      ]
     },
     "metadata": {},
     "output_type": "display_data"
    }
   ],
   "source": [
    "annotations"
   ]
  },
  {
   "cell_type": "code",
   "execution_count": 12,
   "id": "aad4f638",
   "metadata": {
    "scrolled": true
   },
   "outputs": [],
   "source": [
    "library(GenomicRanges)\n",
    "library(Seurat)\n",
    "library(Signac)\n",
    "library(GenomeInfoDb)\n",
    "#library(EnsDb.Hsapiens.v75)\n",
    "library(ggplot2)\n",
    "library(patchwork)\n",
    "set.seed(1234)\n",
    "library(data.table)\n",
    "library(magrittr)\n",
    "library(cowplot)\n",
    "library(metap)\n",
    "library(dplyr)\n",
    "library(future)\n",
    "\n",
    "plan(\"multiprocess\", workers = cores)\n",
    "options(future.globals.maxSize = 8000 * 1024^2)\n",
    "#options(future.globals.maxSize = 50000 * 1024^2) # for 50 Gb RAM\n",
    "#plan(\"multiprocess\", workers = workers)"
   ]
  },
  {
   "cell_type": "markdown",
   "id": "a53a3256",
   "metadata": {},
   "source": [
    "## Merge all peaks"
   ]
  },
  {
   "cell_type": "code",
   "execution_count": 13,
   "id": "62849b8a",
   "metadata": {
    "scrolled": true
   },
   "outputs": [
    {
     "name": "stdout",
     "output_type": "stream",
     "text": [
      "[1] \"here\"\n",
      "[1] \"/home/isaac/lewis/mito_lineage/output/mtscATAC/data/DUPI_april08_2021_Croker/MTblacklist_mtasnucl//rxn2/outs/filtered_peak_bc_matrix/peaks.bed\"\n",
      "[1] \"here\"\n",
      "[1] \"/home/isaac/lewis/mito_lineage/output/mtscATAC/data/DUPI_april08_2021_Croker/MTblacklist_mtasnucl//rxn4/outs/filtered_peak_bc_matrix/peaks.bed\"\n"
     ]
    },
    {
     "data": {
      "text/plain": [
       "GRanges object with 6 ranges and 0 metadata columns:\n",
       "      seqnames        ranges strand\n",
       "         <Rle>     <IRanges>  <Rle>\n",
       "  [1]     chr1   10169-10267      *\n",
       "  [2]     chr1 191337-191519      *\n",
       "  [3]     chr1 268046-268142      *\n",
       "  [4]     chr1 778355-779233      *\n",
       "  [5]     chr1 827080-827940      *\n",
       "  [6]     chr1 844530-844785      *\n",
       "  -------\n",
       "  seqinfo: 25 sequences from an unspecified genome; no seqlengths"
      ]
     },
     "metadata": {},
     "output_type": "display_data"
    }
   ],
   "source": [
    "read.peaks <- function(exp, cellr_in){\n",
    "    print('here')\n",
    "    print(file.path(cellr_in, exp, \"outs\", \"filtered_peak_bc_matrix\", \"peaks.bed\"))\n",
    "    peaks <- read.table(\n",
    "      file = file.path(cellr_in, exp, \"outs\", \"filtered_peak_bc_matrix\", \"peaks.bed\"),\n",
    "      col.names = c(\"chr\", \"start\", \"end\")\n",
    "    )\n",
    "    # convert to genomic ranges\n",
    "    gr <- makeGRangesFromDataFrame(peaks)\n",
    "    return(gr)\n",
    "}\n",
    "\n",
    "\n",
    "gr.full <- c(sapply(samples, read.peaks, cellr_in=cellr_in, USE.NAMES=F))\n",
    "\n",
    "gr.full.c <- gr.full[[1]]\n",
    "if (length(gr.full)>1){\n",
    "    for (i in 2:length(gr.full)){\n",
    "      gr.full.c <- c(gr.full.c, gr.full[[i]])\n",
    "    }\n",
    "}\n",
    "combined.peaks <- reduce(x = c(gr.full.c))\n",
    "\n",
    "# Filter out bad peaks based on length\n",
    "peakwidths <- width(combined.peaks)\n",
    "combined.peaks <- combined.peaks[peakwidths  < 10000 & peakwidths > 20]\n",
    "head(combined.peaks)"
   ]
  },
  {
   "cell_type": "code",
   "execution_count": 24,
   "id": "6726f8ec",
   "metadata": {},
   "outputs": [
    {
     "data": {
      "text/html": [
       "44411"
      ],
      "text/latex": [
       "44411"
      ],
      "text/markdown": [
       "44411"
      ],
      "text/plain": [
       "[1] 44411"
      ]
     },
     "metadata": {},
     "output_type": "display_data"
    }
   ],
   "source": [
    "length(combined.peaks)"
   ]
  },
  {
   "cell_type": "markdown",
   "id": "469498fd",
   "metadata": {},
   "source": [
    "## Are any peaks in the chrM"
   ]
  },
  {
   "cell_type": "code",
   "execution_count": 25,
   "id": "d62a5616",
   "metadata": {},
   "outputs": [
    {
     "data": {
      "text/html": [
       "44411"
      ],
      "text/latex": [
       "44411"
      ],
      "text/markdown": [
       "44411"
      ],
      "text/plain": [
       "[1] 44411"
      ]
     },
     "metadata": {},
     "output_type": "display_data"
    }
   ],
   "source": [
    "length(combined.peaks[seqnames(combined.peaks) != \"chrM\"])\n"
   ]
  },
  {
   "cell_type": "code",
   "execution_count": 26,
   "id": "f5ef4f46",
   "metadata": {
    "scrolled": true
   },
   "outputs": [
    {
     "data": {
      "text/plain": [
       "GRanges object with 0 ranges and 0 metadata columns:\n",
       "   seqnames    ranges strand\n",
       "      <Rle> <IRanges>  <Rle>\n",
       "  -------\n",
       "  seqinfo: 25 sequences from an unspecified genome; no seqlengths"
      ]
     },
     "metadata": {},
     "output_type": "display_data"
    },
    {
     "data": {
      "text/plain": [
       "GRanges object with 4387 ranges and 0 metadata columns:\n",
       "         seqnames              ranges strand\n",
       "            <Rle>           <IRanges>  <Rle>\n",
       "     [1]     chr1         10169-10267      *\n",
       "     [2]     chr1       191337-191519      *\n",
       "     [3]     chr1       268046-268142      *\n",
       "     [4]     chr1       778355-779233      *\n",
       "     [5]     chr1       827080-827940      *\n",
       "     ...      ...                 ...    ...\n",
       "  [4383]     chr1 248858094-248859625      *\n",
       "  [4384]     chr1 248862858-248863683      *\n",
       "  [4385]     chr1 248872949-248874682      *\n",
       "  [4386]     chr1 248905881-248907165      *\n",
       "  [4387]     chr1 248924667-248925484      *\n",
       "  -------\n",
       "  seqinfo: 25 sequences from an unspecified genome; no seqlengths"
      ]
     },
     "metadata": {},
     "output_type": "display_data"
    }
   ],
   "source": [
    "combined.peaks[seqnames(combined.peaks) == \"chrM\"]\n",
    "\n",
    "combined.peaks[seqnames(combined.peaks) == \"chr1\"]\n"
   ]
  },
  {
   "cell_type": "markdown",
   "id": "165324a7",
   "metadata": {},
   "source": [
    "## Remove any peaks in the chrM"
   ]
  },
  {
   "cell_type": "code",
   "execution_count": 27,
   "id": "3be57477",
   "metadata": {},
   "outputs": [
    {
     "data": {
      "text/html": [
       "44411"
      ],
      "text/latex": [
       "44411"
      ],
      "text/markdown": [
       "44411"
      ],
      "text/plain": [
       "[1] 44411"
      ]
     },
     "metadata": {},
     "output_type": "display_data"
    }
   ],
   "source": [
    "combined.peaks = combined.peaks[seqnames(combined.peaks) != \"chrM\"]\n",
    "length(combined.peaks)"
   ]
  },
  {
   "cell_type": "markdown",
   "id": "1cae010c",
   "metadata": {},
   "source": [
    "## Create fragment objects"
   ]
  },
  {
   "cell_type": "code",
   "execution_count": null,
   "id": "67e92e33",
   "metadata": {
    "scrolled": true
   },
   "outputs": [
    {
     "name": "stdout",
     "output_type": "stream",
     "text": [
      "[1] \"samples_df\"\n",
      "     sample_names samples\n",
      "[1,] \"preB\"       \"rxn2\" \n",
      "[2,] \"postB\"      \"rxn4\" \n",
      "[1] \"exp\"\n",
      "[1] \"rxn2\"\n",
      "[1] \"name\"\n",
      "[1] \"preB\"\n"
     ]
    },
    {
     "name": "stderr",
     "output_type": "stream",
     "text": [
      "Registered S3 method overwritten by 'cli':\n",
      "  method     from         \n",
      "  print.boxx spatstat.geom\n",
      "\u001b[1mRows: \u001b[22m\u001b[34m1546\u001b[39m \u001b[1mColumns: \u001b[22m\u001b[34m1\u001b[39m\n",
      "\n",
      "\u001b[36m──\u001b[39m \u001b[1mColumn specification\u001b[22m \u001b[36m─────────────────────────────────────────────────────────────────────────────────\u001b[39m\n",
      "\u001b[1mDelimiter:\u001b[22m \"\\t\"\n",
      "\u001b[31mchr\u001b[39m (1): X1\n",
      "\n",
      "\n",
      "\u001b[36mℹ\u001b[39m Use \u001b[30m\u001b[47m\u001b[30m\u001b[47m`spec()`\u001b[47m\u001b[30m\u001b[49m\u001b[39m to retrieve the full column specification for this data.\n",
      "\u001b[36mℹ\u001b[39m Specify the column types or set \u001b[30m\u001b[47m\u001b[30m\u001b[47m`show_col_types = FALSE`\u001b[47m\u001b[30m\u001b[49m\u001b[39m to quiet this message.\n",
      "\n",
      "\u001b[1mRows: \u001b[22m\u001b[34m385146\u001b[39m \u001b[1mColumns: \u001b[22m\u001b[34m18\u001b[39m\n",
      "\n",
      "\u001b[36m──\u001b[39m \u001b[1mColumn specification\u001b[22m \u001b[36m─────────────────────────────────────────────────────────────────────────────────\u001b[39m\n",
      "\u001b[1mDelimiter:\u001b[22m \",\"\n",
      "\u001b[31mchr\u001b[39m  (2): barcode, cell_id\n",
      "\u001b[32mdbl\u001b[39m (16): total, duplicate, chimeric, unmapped, lowmapq, mitochondrial, pass...\n",
      "\n",
      "\n",
      "\u001b[36mℹ\u001b[39m Use \u001b[30m\u001b[47m\u001b[30m\u001b[47m`spec()`\u001b[47m\u001b[30m\u001b[49m\u001b[39m to retrieve the full column specification for this data.\n",
      "\u001b[36mℹ\u001b[39m Specify the column types or set \u001b[30m\u001b[47m\u001b[30m\u001b[47m`show_col_types = FALSE`\u001b[47m\u001b[30m\u001b[49m\u001b[39m to quiet this message.\n",
      "\n"
     ]
    },
    {
     "name": "stdout",
     "output_type": "stream",
     "text": [
      "[1] \"Creating fragments object\"\n"
     ]
    },
    {
     "name": "stderr",
     "output_type": "stream",
     "text": [
      "Computing hash\n",
      "\n"
     ]
    },
    {
     "name": "stdout",
     "output_type": "stream",
     "text": [
      "[1] \"Quantifying peaks\"\n"
     ]
    },
    {
     "name": "stderr",
     "output_type": "stream",
     "text": [
      "Extracting reads overlapping genomic regions\n",
      "\n"
     ]
    }
   ],
   "source": [
    "allSE = c() \n",
    "\n",
    "samples_df <- cbind(sample_names, samples)\n",
    "print('samples_df')\n",
    "print(samples_df)\n",
    "for (row in 1:nrow(samples_df)){\n",
    "    exp <- (samples_df[[row, \"samples\"]])\n",
    "    name <- (samples_df[[row, \"sample_names\"]]) \n",
    "    \n",
    "#for (exp in samples) {\n",
    "    print('exp')\n",
    "    print(exp)\n",
    "    print('name')\n",
    "    print(name)\n",
    "    barcode_path <- file.path(cellr_in, exp, \"outs\", \"filtered_peak_bc_matrix\", \"barcodes.tsv\")    \n",
    "    barcodes <- readr::read_tsv(barcode_path, col_names = F) # %>% tidyr::unite(barcode)\n",
    "    barcodes <- as.data.frame(barcodes) %>%  tibble::column_to_rownames(var=\"X1\") %>% tibble::add_column(proj=name)\n",
    "    frag_file <- file.path(cellr_in, exp, \"outs\", \"fragments.tsv.gz\")\n",
    "    \n",
    "    cells.meta.f <- file.path(cellr_in, exp, \"outs\", \"singlecell.csv\") \n",
    "    cells.meta <- as.data.frame(readr::read_csv(cells.meta.f)) %>% tibble::column_to_rownames(var=\"barcode\") %>% tibble::add_column(proj=name)\n",
    "    cells.meta <- cells.meta[rownames(cells.meta) %in% rownames(barcodes), ]\n",
    "\n",
    "    # quantify multiome peaks in the scATAC-seq dataset\n",
    "    \n",
    "    \n",
    "    print(\"Creating fragments object\")\n",
    "    frags.curr <- CreateFragmentObject(path = frag_file, cells= rownames(barcodes))\n",
    "    #print(frags.curr)\n",
    "    print(\"Quantifying peaks\")\n",
    "    ## Quantify peaks\n",
    "    curr.counts <- FeatureMatrix(\n",
    "      fragments = frags.curr,\n",
    "      features = combined.peaks,\n",
    "      cells = rownames(barcodes),\n",
    "      process_n = cores\n",
    "    )\n",
    "    \n",
    "    print(\"Creating chromatin assay\")\n",
    "    ## Create the objects and use simple filters\n",
    "    curr_assay <- CreateChromatinAssay(curr.counts, fragments = frags.curr, min.cells = 10, min.features = 200)\n",
    "    curr <- CreateSeuratObject(curr_assay, assay = \"ATAC\", project=name, meta.data=cells.meta)\n",
    "    print('curr_assay')\n",
    "    print(head(curr_assay))\n",
    "    print('curr')\n",
    "    print(head(curr[[]]))\n",
    "    allSE = c(allSE, curr)\n",
    "    #return(curr)\n",
    "}\n",
    "\n",
    "allSE\n",
    "\n",
    "#allSE <- sapply(samples, create_frag, cellr_in=cellr_in)"
   ]
  },
  {
   "cell_type": "code",
   "execution_count": null,
   "id": "c116a7db",
   "metadata": {},
   "outputs": [],
   "source": [
    "saveRDS(allSE, file.path(outdir, paste0(\"allSamples.rds\")))"
   ]
  },
  {
   "cell_type": "code",
   "execution_count": null,
   "id": "f9082d43",
   "metadata": {
    "scrolled": false
   },
   "outputs": [],
   "source": [
    "allSE"
   ]
  },
  {
   "cell_type": "markdown",
   "id": "4d7bff2c",
   "metadata": {},
   "source": [
    "## QC Metrics"
   ]
  },
  {
   "cell_type": "code",
   "execution_count": null,
   "id": "b6ddf734",
   "metadata": {},
   "outputs": [],
   "source": [
    "library(Rsamtools)\n",
    "\n",
    "qc <- function(se){\n",
    "    # add the gene information to the object\n",
    "    Annotation(se) <- annotations\n",
    "    \n",
    "    # compute nucleosome signal score per cell\n",
    "    se <- NucleosomeSignal(object = se)\n",
    "    \n",
    "    # compute TSS enrichment score per cell\n",
    "    se <- TSSEnrichment(object = se, fast = FALSE)\n",
    "\n",
    "    # add blacklist ratio and fraction of reads in peaks\n",
    "    se$pct_reads_in_peaks <- se$peak_region_fragments / se$passed_filters * 100\n",
    "    se$blacklist_ratio <- se$blacklist_region_fragments / se$peak_region_fragments\n",
    "    se$high.tss <- ifelse(se$TSS.enrichment > 2, 'High', 'Low')\n",
    "    se$nucleosome_group <- ifelse(se$nucleosome_signal > 4, 'NS > 4', 'NS < 4')\n",
    "\n",
    "    return(se)\n",
    "}\n",
    "vPlot <- function(se){\n",
    "      vPlot <- VlnPlot(\n",
    "      object = se,\n",
    "      features = c('pct_reads_in_peaks', 'peak_region_fragments',\n",
    "                   'TSS.enrichment', 'blacklist_ratio', 'nucleosome_signal'),\n",
    "      pt.size = 0.1,\n",
    "      ncol = 5\n",
    "    )  \n",
    "    vPlot <- vPlot +    # Create grid of plots with title\n",
    "             plot_annotation(title = se$orig.ident[[1]]) & \n",
    "             theme(plot.title = element_text(hjust = 0.5, size=15))\n",
    "    #print(vPlot)\n",
    "    return(vPlot)\n",
    "}\n"
   ]
  },
  {
   "cell_type": "code",
   "execution_count": null,
   "id": "a74a3529",
   "metadata": {
    "scrolled": true
   },
   "outputs": [],
   "source": [
    "allSE <- lapply(allSE, qc)\n",
    "saveRDS(allSE, file.path(outdir, paste0(\"allSamples.rds\")))\n",
    "lapply(allSE,vPlot)\n",
    "ggsave(file.path(outdir, paste0(\"QC_01.png\")))\n",
    "ggsave(file.path(outdir, paste0(\"QC_01.pdf\")))"
   ]
  },
  {
   "cell_type": "code",
   "execution_count": null,
   "id": "626a0538",
   "metadata": {
    "scrolled": true
   },
   "outputs": [],
   "source": [
    "sessionInfo()"
   ]
  },
  {
   "cell_type": "code",
   "execution_count": null,
   "id": "6261d99e",
   "metadata": {},
   "outputs": [],
   "source": []
  }
 ],
 "metadata": {
  "celltoolbar": "Tags",
  "kernelspec": {
   "display_name": "R",
   "language": "R",
   "name": "ir"
  },
  "language_info": {
   "codemirror_mode": "r",
   "file_extension": ".r",
   "mimetype": "text/x-r-source",
   "name": "R",
   "pygments_lexer": "r",
   "version": "4.1.1"
  }
 },
 "nbformat": 4,
 "nbformat_minor": 5
}
