{
 "cells": [
  {
   "cell_type": "markdown",
   "id": "223d6f46",
   "metadata": {},
   "source": [
    "## Creates binarized Seurat objects, integrates conditions and annotates genes by nearby peaks"
   ]
  },
  {
   "cell_type": "code",
   "execution_count": 1,
   "id": "663e2d4d",
   "metadata": {
    "tags": [
     "parameters"
    ]
   },
   "outputs": [],
   "source": [
    "# Input info\n",
    "cellr_in = \"/data2/isshamie/mito_lineage/data/processed/mtscATAC/CHIP_april08_2021_Croker/MTblacklist\" \n",
    "outdir =  \"/data2/isshamie/mito_lineage/output/annotation/CHIP_april08_2021/MTblacklist/mergedSamples\" \n",
    "samples = \"Control,Flt3l,Input\" \n",
    "sample_names = \"Control,Flt3l,Input\" \n",
    "\n",
    "# Parameters\n",
    "nTop = 25000\n",
    "cores = 36"
   ]
  },
  {
   "cell_type": "code",
   "execution_count": 2,
   "id": "b62b75ff",
   "metadata": {},
   "outputs": [],
   "source": [
    "library(repr)\n",
    "options(repr.plot.width=12, repr.plot.height=12)"
   ]
  },
  {
   "cell_type": "code",
   "execution_count": 3,
   "id": "235ae72f",
   "metadata": {},
   "outputs": [],
   "source": [
    "# # Input info\n",
    "# cellr_in <- \"/data2/isshamie/mito_lineage/data/processed/mtscATAC/jan21_2021/MTblacklist\"\n",
    "# samples <- \"J2,P2\"\n",
    "# sample_names <- \"Flt3l,Control\"\n",
    "\n",
    "# # Saving\n",
    "# outdir <- \"/data/isshamie/mito_lineage/output/annotation/cd34norm/MTblacklist/mergedSamples\" #\"/data2/mito_lineage/Analysis/annotation/output/data/\"\n",
    "\n",
    "# # Parameters\n",
    "# nTop = 25000\n",
    "# assay=\"RNA\"\n",
    "\n",
    "# cores = 36"
   ]
  },
  {
   "cell_type": "code",
   "execution_count": 4,
   "id": "c2c99fc4",
   "metadata": {
    "scrolled": true
   },
   "outputs": [
    {
     "data": {
      "text/html": [
       "<style>\n",
       ".list-inline {list-style: none; margin:0; padding: 0}\n",
       ".list-inline>li {display: inline-block}\n",
       ".list-inline>li:not(:last-child)::after {content: \"\\00b7\"; padding: 0 .5ex}\n",
       "</style>\n",
       "<ol class=list-inline><li>'Control'</li><li>'Flt3l'</li><li>'Input'</li></ol>\n"
      ],
      "text/latex": [
       "\\begin{enumerate*}\n",
       "\\item 'Control'\n",
       "\\item 'Flt3l'\n",
       "\\item 'Input'\n",
       "\\end{enumerate*}\n"
      ],
      "text/markdown": [
       "1. 'Control'\n",
       "2. 'Flt3l'\n",
       "3. 'Input'\n",
       "\n",
       "\n"
      ],
      "text/plain": [
       "[1] \"Control\" \"Flt3l\"   \"Input\"  "
      ]
     },
     "metadata": {},
     "output_type": "display_data"
    }
   ],
   "source": [
    "samples <- unlist(strsplit(samples, \",\")[[1]])\n",
    "sample_names <- unlist(strsplit(sample_names, \",\"))\n",
    "\n",
    "samples"
   ]
  },
  {
   "cell_type": "code",
   "execution_count": 5,
   "id": "aad4f638",
   "metadata": {
    "scrolled": true
   },
   "outputs": [
    {
     "name": "stderr",
     "output_type": "stream",
     "text": [
      "Loading required package: stats4\n",
      "\n",
      "Loading required package: BiocGenerics\n",
      "\n",
      "Loading required package: parallel\n",
      "\n",
      "\n",
      "Attaching package: ‘BiocGenerics’\n",
      "\n",
      "\n",
      "The following objects are masked from ‘package:parallel’:\n",
      "\n",
      "    clusterApply, clusterApplyLB, clusterCall, clusterEvalQ,\n",
      "    clusterExport, clusterMap, parApply, parCapply, parLapply,\n",
      "    parLapplyLB, parRapply, parSapply, parSapplyLB\n",
      "\n",
      "\n",
      "The following objects are masked from ‘package:stats’:\n",
      "\n",
      "    IQR, mad, sd, var, xtabs\n",
      "\n",
      "\n",
      "The following objects are masked from ‘package:base’:\n",
      "\n",
      "    anyDuplicated, append, as.data.frame, basename, cbind, colnames,\n",
      "    dirname, do.call, duplicated, eval, evalq, Filter, Find, get, grep,\n",
      "    grepl, intersect, is.unsorted, lapply, Map, mapply, match, mget,\n",
      "    order, paste, pmax, pmax.int, pmin, pmin.int, Position, rank,\n",
      "    rbind, Reduce, rownames, sapply, setdiff, sort, table, tapply,\n",
      "    union, unique, unsplit, which.max, which.min\n",
      "\n",
      "\n",
      "Loading required package: S4Vectors\n",
      "\n",
      "\n",
      "Attaching package: ‘S4Vectors’\n",
      "\n",
      "\n",
      "The following objects are masked from ‘package:base’:\n",
      "\n",
      "    expand.grid, I, unname\n",
      "\n",
      "\n",
      "Loading required package: IRanges\n",
      "\n",
      "Loading required package: GenomeInfoDb\n",
      "\n",
      "Attaching SeuratObject\n",
      "\n",
      "Loading required package: ensembldb\n",
      "\n",
      "Loading required package: GenomicFeatures\n",
      "\n",
      "Loading required package: AnnotationDbi\n",
      "\n",
      "Loading required package: Biobase\n",
      "\n",
      "Welcome to Bioconductor\n",
      "\n",
      "    Vignettes contain introductory material; view with\n",
      "    'browseVignettes()'. To cite Bioconductor, see\n",
      "    'citation(\"Biobase\")', and for packages 'citation(\"pkgname\")'.\n",
      "\n",
      "\n",
      "Loading required package: AnnotationFilter\n",
      "\n",
      "\n",
      "Attaching package: 'ensembldb'\n",
      "\n",
      "\n",
      "The following object is masked from 'package:stats':\n",
      "\n",
      "    filter\n",
      "\n",
      "\n",
      "\n",
      "Attaching package: 'data.table'\n",
      "\n",
      "\n",
      "The following object is masked from 'package:GenomicRanges':\n",
      "\n",
      "    shift\n",
      "\n",
      "\n",
      "The following object is masked from 'package:IRanges':\n",
      "\n",
      "    shift\n",
      "\n",
      "\n",
      "The following objects are masked from 'package:S4Vectors':\n",
      "\n",
      "    first, second\n",
      "\n",
      "\n",
      "\n",
      "Attaching package: 'magrittr'\n",
      "\n",
      "\n",
      "The following object is masked from 'package:AnnotationFilter':\n",
      "\n",
      "    not\n",
      "\n",
      "\n",
      "\n",
      "Attaching package: 'cowplot'\n",
      "\n",
      "\n",
      "The following object is masked from 'package:patchwork':\n",
      "\n",
      "    align_plots\n",
      "\n",
      "\n",
      "\n",
      "Attaching package: 'dplyr'\n",
      "\n",
      "\n",
      "The following objects are masked from 'package:data.table':\n",
      "\n",
      "    between, first, last\n",
      "\n",
      "\n",
      "The following objects are masked from 'package:ensembldb':\n",
      "\n",
      "    filter, select\n",
      "\n",
      "\n",
      "The following object is masked from 'package:AnnotationDbi':\n",
      "\n",
      "    select\n",
      "\n",
      "\n",
      "The following object is masked from 'package:Biobase':\n",
      "\n",
      "    combine\n",
      "\n",
      "\n",
      "The following objects are masked from 'package:GenomicRanges':\n",
      "\n",
      "    intersect, setdiff, union\n",
      "\n",
      "\n",
      "The following object is masked from 'package:GenomeInfoDb':\n",
      "\n",
      "    intersect\n",
      "\n",
      "\n",
      "The following objects are masked from 'package:IRanges':\n",
      "\n",
      "    collapse, desc, intersect, setdiff, slice, union\n",
      "\n",
      "\n",
      "The following objects are masked from 'package:S4Vectors':\n",
      "\n",
      "    first, intersect, rename, setdiff, setequal, union\n",
      "\n",
      "\n",
      "The following objects are masked from 'package:BiocGenerics':\n",
      "\n",
      "    combine, intersect, setdiff, union\n",
      "\n",
      "\n",
      "The following objects are masked from 'package:stats':\n",
      "\n",
      "    filter, lag\n",
      "\n",
      "\n",
      "The following objects are masked from 'package:base':\n",
      "\n",
      "    intersect, setdiff, setequal, union\n",
      "\n",
      "\n",
      "\n",
      "Attaching package: 'future'\n",
      "\n",
      "\n",
      "The following object is masked from 'package:AnnotationFilter':\n",
      "\n",
      "    value\n",
      "\n",
      "\n",
      "The following object is masked from 'package:GenomicRanges':\n",
      "\n",
      "    values\n",
      "\n",
      "\n",
      "The following object is masked from 'package:IRanges':\n",
      "\n",
      "    values\n",
      "\n",
      "\n",
      "The following object is masked from 'package:S4Vectors':\n",
      "\n",
      "    values\n",
      "\n",
      "\n",
      "Warning message:\n",
      "\"Strategy 'multiprocess' is deprecated in future (>= 1.20.0). Instead, explicitly specify either 'multisession' or 'multicore'. In the current R session, 'multiprocess' equals 'multicore'.\"\n"
     ]
    }
   ],
   "source": [
    "library(GenomicRanges)\n",
    "library(Seurat)\n",
    "library(Signac)\n",
    "library(GenomeInfoDb)\n",
    "library(EnsDb.Hsapiens.v75)\n",
    "library(ggplot2)\n",
    "library(patchwork)\n",
    "set.seed(1234)\n",
    "library(data.table)\n",
    "library(magrittr)\n",
    "library(cowplot)\n",
    "library(metap)\n",
    "library(dplyr)\n",
    "library(future)\n",
    "\n",
    "plan(\"multiprocess\", workers = cores)\n",
    "options(future.globals.maxSize = 8000 * 1024^2)\n",
    "#options(future.globals.maxSize = 50000 * 1024^2) # for 50 Gb RAM\n",
    "#plan(\"multiprocess\", workers = workers)"
   ]
  },
  {
   "cell_type": "markdown",
   "id": "a53a3256",
   "metadata": {},
   "source": [
    "## Merge all peaks"
   ]
  },
  {
   "cell_type": "code",
   "execution_count": 6,
   "id": "62849b8a",
   "metadata": {
    "scrolled": true
   },
   "outputs": [
    {
     "name": "stdout",
     "output_type": "stream",
     "text": [
      "[1] \"here\"\n",
      "[1] \"/data2/isshamie/mito_lineage/data/processed/mtscATAC/CHIP_april08_2021_Croker/MTblacklist/Control/outs/filtered_peak_bc_matrix/peaks.bed\"\n",
      "[1] \"here\"\n",
      "[1] \"/data2/isshamie/mito_lineage/data/processed/mtscATAC/CHIP_april08_2021_Croker/MTblacklist/Flt3l/outs/filtered_peak_bc_matrix/peaks.bed\"\n",
      "[1] \"here\"\n",
      "[1] \"/data2/isshamie/mito_lineage/data/processed/mtscATAC/CHIP_april08_2021_Croker/MTblacklist/Input/outs/filtered_peak_bc_matrix/peaks.bed\"\n"
     ]
    },
    {
     "data": {
      "text/plain": [
       "GRanges object with 263336 ranges and 0 metadata columns:\n",
       "           seqnames            ranges strand\n",
       "              <Rle>         <IRanges>  <Rle>\n",
       "       [1]     chr1        9872-10620      *\n",
       "       [2]     chr1       96454-96767      *\n",
       "       [3]     chr1     180638-181142      *\n",
       "       [4]     chr1     191518-191976      *\n",
       "       [5]     chr1     267762-268278      *\n",
       "       ...      ...               ...    ...\n",
       "  [263332]     chrY 56872076-56872403      *\n",
       "  [263333]     chrY 56873720-56873847      *\n",
       "  [263334]     chrY 56873946-56874635      *\n",
       "  [263335]     chrY 56879619-56879842      *\n",
       "  [263336]     chrY 56880257-56880611      *\n",
       "  -------\n",
       "  seqinfo: 24 sequences from an unspecified genome; no seqlengths"
      ]
     },
     "metadata": {},
     "output_type": "display_data"
    }
   ],
   "source": [
    "read.peaks <- function(exp, cellr_in){\n",
    "    print('here')\n",
    "    print(file.path(cellr_in, exp, \"outs\", \"filtered_peak_bc_matrix\", \"peaks.bed\"))\n",
    "    peaks <- read.table(\n",
    "      file = file.path(cellr_in, exp, \"outs\", \"filtered_peak_bc_matrix\", \"peaks.bed\"),\n",
    "      col.names = c(\"chr\", \"start\", \"end\")\n",
    "    )\n",
    "    # convert to genomic ranges\n",
    "    gr <- makeGRangesFromDataFrame(peaks)\n",
    "    return(gr)\n",
    "}\n",
    "\n",
    "\n",
    "gr.full <- c(sapply(samples, read.peaks, cellr_in=cellr_in, USE.NAMES=F))\n",
    "\n",
    "gr.full.c <- gr.full[[1]]\n",
    "if (length(gr.full)>1){\n",
    "    for (i in 2:length(gr.full)){\n",
    "      gr.full.c <- c(gr.full.c, gr.full[[i]])\n",
    "    }\n",
    "}\n",
    "combined.peaks <- reduce(x = c(gr.full.c))\n",
    "\n",
    "# Filter out bad peaks based on length\n",
    "peakwidths <- width(combined.peaks)\n",
    "combined.peaks <- combined.peaks[peakwidths  < 10000 & peakwidths > 20]\n",
    "combined.peaks"
   ]
  },
  {
   "cell_type": "markdown",
   "id": "1cae010c",
   "metadata": {},
   "source": [
    "## Create fragment objects"
   ]
  },
  {
   "cell_type": "code",
   "execution_count": 7,
   "id": "67e92e33",
   "metadata": {
    "scrolled": true
   },
   "outputs": [
    {
     "name": "stdout",
     "output_type": "stream",
     "text": [
      "[1] \"samples_df\"\n",
      "     sample_names samples  \n",
      "[1,] \"Control\"    \"Control\"\n",
      "[2,] \"Flt3l\"      \"Flt3l\"  \n",
      "[3,] \"Input\"      \"Input\"  \n",
      "[1] \"exp\"\n",
      "[1] \"Control\"\n",
      "[1] \"name\"\n",
      "[1] \"Control\"\n"
     ]
    },
    {
     "name": "stderr",
     "output_type": "stream",
     "text": [
      "Registered S3 method overwritten by 'cli':\n",
      "  method     from         \n",
      "  print.boxx spatstat.geom\n",
      "\u001b[1m\u001b[1mRows: \u001b[1m\u001b[22m\u001b[34m\u001b[34m843\u001b[34m\u001b[39m \u001b[1m\u001b[1mColumns: \u001b[1m\u001b[22m\u001b[34m\u001b[34m1\u001b[34m\u001b[39m\n",
      "\n",
      "\u001b[36m──\u001b[39m \u001b[1m\u001b[1mColumn specification\u001b[1m\u001b[22m \u001b[36m────────────────────────────────────────────────────────────────────────────────────────────────────────────────────────────────────────────────────────────────────────────────────────────────────────────────────\u001b[39m\n",
      "\u001b[1mDelimiter:\u001b[22m \"\\t\"\n",
      "\u001b[31mchr\u001b[39m (1): X1\n",
      "\n",
      "\n",
      "\u001b[36mℹ\u001b[39m Use \u001b[30m\u001b[47m\u001b[30m\u001b[47m`spec()`\u001b[47m\u001b[30m\u001b[49m\u001b[39m to retrieve the full column specification for this data.\n",
      "\u001b[36mℹ\u001b[39m Specify the column types or set \u001b[30m\u001b[47m\u001b[30m\u001b[47m`show_col_types = FALSE`\u001b[47m\u001b[30m\u001b[49m\u001b[39m to quiet this message.\n",
      "\n",
      "\u001b[1m\u001b[1mRows: \u001b[1m\u001b[22m\u001b[34m\u001b[34m470007\u001b[34m\u001b[39m \u001b[1m\u001b[1mColumns: \u001b[1m\u001b[22m\u001b[34m\u001b[34m18\u001b[34m\u001b[39m\n",
      "\n",
      "\u001b[36m──\u001b[39m \u001b[1m\u001b[1mColumn specification\u001b[1m\u001b[22m \u001b[36m────────────────────────────────────────────────────────────────────────────────────────────────────────────────────────────────────────────────────────────────────────────────────────────────────────────────────\u001b[39m\n",
      "\u001b[1mDelimiter:\u001b[22m \",\"\n",
      "\u001b[31mchr\u001b[39m  (2): barcode, cell_id\n",
      "\u001b[32mdbl\u001b[39m (16): total, duplicate, chimeric, unmapped, lowmapq, mitochondrial, pass...\n",
      "\n",
      "\n",
      "\u001b[36mℹ\u001b[39m Use \u001b[30m\u001b[47m\u001b[30m\u001b[47m`spec()`\u001b[47m\u001b[30m\u001b[49m\u001b[39m to retrieve the full column specification for this data.\n",
      "\u001b[36mℹ\u001b[39m Specify the column types or set \u001b[30m\u001b[47m\u001b[30m\u001b[47m`show_col_types = FALSE`\u001b[47m\u001b[30m\u001b[49m\u001b[39m to quiet this message.\n",
      "\n"
     ]
    },
    {
     "name": "stdout",
     "output_type": "stream",
     "text": [
      "[1] \"Creating fragments object\"\n"
     ]
    },
    {
     "name": "stderr",
     "output_type": "stream",
     "text": [
      "Computing hash\n",
      "\n"
     ]
    },
    {
     "name": "stdout",
     "output_type": "stream",
     "text": [
      "[1] \"Quantifying peaks\"\n"
     ]
    },
    {
     "name": "stderr",
     "output_type": "stream",
     "text": [
      "Extracting reads overlapping genomic regions\n",
      "\n"
     ]
    },
    {
     "name": "stdout",
     "output_type": "stream",
     "text": [
      "[1] \"Creating chromatin assay\"\n"
     ]
    },
    {
     "name": "stderr",
     "output_type": "stream",
     "text": [
      "Warning message in CreateSeuratObject.Assay(curr_assay, assay = \"ATAC\", project = name, :\n",
      "\"Some cells in meta.data not present in provided counts matrix.\"\n"
     ]
    },
    {
     "name": "stdout",
     "output_type": "stream",
     "text": [
      "[1] \"curr_assay\"\n",
      "data frame with 0 columns and 10 rows\n",
      "[1] \"curr\"\n",
      "                   orig.ident nCount_ATAC nFeature_ATAC  total duplicate\n",
      "AAACGAATCTTACTCA-1    Control         215           215    779        47\n",
      "AAACTCGAGTGGTGTG-1    Control         390           387  16911      5224\n",
      "AAACTCGTCAATGCAC-1    Control        1030          1012  11963      2864\n",
      "AAACTGCTCTCGCGGA-1    Control       21843         15140 265035     83694\n",
      "AAAGATGAGCGCATTT-1    Control         373           368  15367      5530\n",
      "AAAGATGCAGCAACGA-1    Control       15235         10565 250347     85267\n",
      "                   chimeric unmapped lowmapq mitochondrial passed_filters\n",
      "AAACGAATCTTACTCA-1        6        7      37           299            383\n",
      "AAACTCGAGTGGTGTG-1       95      356     690          9717            829\n",
      "AAACTCGTCAATGCAC-1       63       78     583          6889           1486\n",
      "AAACTGCTCTCGCGGA-1     1575     1101    9756        141471          27438\n",
      "AAAGATGAGCGCATTT-1       83      294     733          8051            676\n",
      "AAAGATGCAGCAACGA-1     1663     1230    6598        134365          21224\n",
      "                   cell_id is__cell_barcode TSS_fragments\n",
      "AAACGAATCTTACTCA-1 _cell_0                1           131\n",
      "AAACTCGAGTGGTGTG-1 _cell_1                1           267\n",
      "AAACTCGTCAATGCAC-1 _cell_2                1           638\n",
      "AAACTGCTCTCGCGGA-1 _cell_3                1         12690\n",
      "AAAGATGAGCGCATTT-1 _cell_4                1           265\n",
      "AAAGATGCAGCAACGA-1 _cell_5                1          9560\n",
      "                   DNase_sensitive_region_fragments enhancer_region_fragments\n",
      "AAACGAATCTTACTCA-1                                0                         0\n",
      "AAACTCGAGTGGTGTG-1                                0                         0\n",
      "AAACTCGTCAATGCAC-1                                0                         0\n",
      "AAACTGCTCTCGCGGA-1                                0                         0\n",
      "AAAGATGAGCGCATTT-1                                0                         0\n",
      "AAAGATGCAGCAACGA-1                                0                         0\n",
      "                   promoter_region_fragments on_target_fragments\n",
      "AAACGAATCTTACTCA-1                         0                 131\n",
      "AAACTCGAGTGGTGTG-1                         0                 267\n",
      "AAACTCGTCAATGCAC-1                         0                 638\n",
      "AAACTGCTCTCGCGGA-1                         0               12690\n",
      "AAAGATGAGCGCATTT-1                         0                 265\n",
      "AAAGATGCAGCAACGA-1                         0                9560\n",
      "                   blacklist_region_fragments peak_region_fragments\n",
      "AAACGAATCTTACTCA-1                          0                   196\n",
      "AAACTCGAGTGGTGTG-1                          0                   383\n",
      "AAACTCGTCAATGCAC-1                          0                   996\n",
      "AAACTGCTCTCGCGGA-1                          0                 21401\n",
      "AAAGATGAGCGCATTT-1                          0                   366\n",
      "AAAGATGCAGCAACGA-1                          0                 14580\n",
      "                   peak_region_cutsites    proj\n",
      "AAACGAATCTTACTCA-1                  372 Control\n",
      "AAACTCGAGTGGTGTG-1                  751 Control\n",
      "AAACTCGTCAATGCAC-1                 1923 Control\n",
      "AAACTGCTCTCGCGGA-1                41723 Control\n",
      "AAAGATGAGCGCATTT-1                  718 Control\n",
      "AAAGATGCAGCAACGA-1                28399 Control\n",
      "[1] \"exp\"\n",
      "[1] \"Flt3l\"\n",
      "[1] \"name\"\n",
      "[1] \"Flt3l\"\n"
     ]
    },
    {
     "name": "stderr",
     "output_type": "stream",
     "text": [
      "\u001b[1m\u001b[1mRows: \u001b[1m\u001b[22m\u001b[34m\u001b[34m5313\u001b[34m\u001b[39m \u001b[1m\u001b[1mColumns: \u001b[1m\u001b[22m\u001b[34m\u001b[34m1\u001b[34m\u001b[39m\n",
      "\n",
      "\u001b[36m──\u001b[39m \u001b[1m\u001b[1mColumn specification\u001b[1m\u001b[22m \u001b[36m────────────────────────────────────────────────────────────────────────────────────────────────────────────────────────────────────────────────────────────────────────────────────────────────────────────────────\u001b[39m\n",
      "\u001b[1mDelimiter:\u001b[22m \"\\t\"\n",
      "\u001b[31mchr\u001b[39m (1): X1\n",
      "\n",
      "\n",
      "\u001b[36mℹ\u001b[39m Use \u001b[30m\u001b[47m\u001b[30m\u001b[47m`spec()`\u001b[47m\u001b[30m\u001b[49m\u001b[39m to retrieve the full column specification for this data.\n",
      "\u001b[36mℹ\u001b[39m Specify the column types or set \u001b[30m\u001b[47m\u001b[30m\u001b[47m`show_col_types = FALSE`\u001b[47m\u001b[30m\u001b[49m\u001b[39m to quiet this message.\n",
      "\n",
      "\u001b[1m\u001b[1mRows: \u001b[1m\u001b[22m\u001b[34m\u001b[34m532237\u001b[34m\u001b[39m \u001b[1m\u001b[1mColumns: \u001b[1m\u001b[22m\u001b[34m\u001b[34m18\u001b[34m\u001b[39m\n",
      "\n",
      "\u001b[36m──\u001b[39m \u001b[1m\u001b[1mColumn specification\u001b[1m\u001b[22m \u001b[36m────────────────────────────────────────────────────────────────────────────────────────────────────────────────────────────────────────────────────────────────────────────────────────────────────────────────────\u001b[39m\n",
      "\u001b[1mDelimiter:\u001b[22m \",\"\n",
      "\u001b[31mchr\u001b[39m  (2): barcode, cell_id\n",
      "\u001b[32mdbl\u001b[39m (16): total, duplicate, chimeric, unmapped, lowmapq, mitochondrial, pass...\n",
      "\n",
      "\n",
      "\u001b[36mℹ\u001b[39m Use \u001b[30m\u001b[47m\u001b[30m\u001b[47m`spec()`\u001b[47m\u001b[30m\u001b[49m\u001b[39m to retrieve the full column specification for this data.\n",
      "\u001b[36mℹ\u001b[39m Specify the column types or set \u001b[30m\u001b[47m\u001b[30m\u001b[47m`show_col_types = FALSE`\u001b[47m\u001b[30m\u001b[49m\u001b[39m to quiet this message.\n",
      "\n"
     ]
    },
    {
     "name": "stdout",
     "output_type": "stream",
     "text": [
      "[1] \"Creating fragments object\"\n"
     ]
    },
    {
     "name": "stderr",
     "output_type": "stream",
     "text": [
      "Computing hash\n",
      "\n"
     ]
    },
    {
     "name": "stdout",
     "output_type": "stream",
     "text": [
      "[1] \"Quantifying peaks\"\n"
     ]
    },
    {
     "name": "stderr",
     "output_type": "stream",
     "text": [
      "Extracting reads overlapping genomic regions\n",
      "\n"
     ]
    },
    {
     "name": "stdout",
     "output_type": "stream",
     "text": [
      "[1] \"Creating chromatin assay\"\n"
     ]
    },
    {
     "name": "stderr",
     "output_type": "stream",
     "text": [
      "Warning message in CreateSeuratObject.Assay(curr_assay, assay = \"ATAC\", project = name, :\n",
      "\"Some cells in meta.data not present in provided counts matrix.\"\n"
     ]
    },
    {
     "name": "stdout",
     "output_type": "stream",
     "text": [
      "[1] \"curr_assay\"\n",
      "data frame with 0 columns and 10 rows\n",
      "[1] \"curr\"\n",
      "                   orig.ident nCount_ATAC nFeature_ATAC total duplicate\n",
      "AAACGAAAGGAAACTT-1      Flt3l        3108          2935 49701      5002\n",
      "AAACGAAGTCCAAGAG-1      Flt3l        5131          4737 62869      9096\n",
      "AAACGAAGTCCGAGCT-1      Flt3l        8403          7462 60574     11583\n",
      "AAACGAAGTTCAGAAA-1      Flt3l        3095          2948 32202      4591\n",
      "AAACGAAGTTTGAAGA-1      Flt3l        7979          7225 68829     12010\n",
      "AAACGAATCAGCCGGT-1      Flt3l        1251          1223 13222      1216\n",
      "                   chimeric unmapped lowmapq mitochondrial passed_filters\n",
      "AAACGAAAGGAAACTT-1      164       92    1138         37812           5493\n",
      "AAACGAAGTCCAAGAG-1      249      139    1902         42086           9397\n",
      "AAACGAAGTCCGAGCT-1      352      141    2087         31767          14644\n",
      "AAACGAAGTTCAGAAA-1      146       90     911         19849           6615\n",
      "AAACGAAGTTTGAAGA-1      432      163    2209         39985          14030\n",
      "AAACGAATCAGCCGGT-1       85       25     369          9630           1897\n",
      "                   cell_id is__cell_barcode TSS_fragments\n",
      "AAACGAAAGGAAACTT-1 _cell_0                1          1489\n",
      "AAACGAAGTCCAAGAG-1 _cell_1                1          2713\n",
      "AAACGAAGTCCGAGCT-1 _cell_2                1          4090\n",
      "AAACGAAGTTCAGAAA-1 _cell_3                1          1483\n",
      "AAACGAAGTTTGAAGA-1 _cell_4                1          3862\n",
      "AAACGAATCAGCCGGT-1 _cell_5                1           587\n",
      "                   DNase_sensitive_region_fragments enhancer_region_fragments\n",
      "AAACGAAAGGAAACTT-1                                0                         0\n",
      "AAACGAAGTCCAAGAG-1                                0                         0\n",
      "AAACGAAGTCCGAGCT-1                                0                         0\n",
      "AAACGAAGTTCAGAAA-1                                0                         0\n",
      "AAACGAAGTTTGAAGA-1                                0                         0\n",
      "AAACGAATCAGCCGGT-1                                0                         0\n",
      "                   promoter_region_fragments on_target_fragments\n",
      "AAACGAAAGGAAACTT-1                         0                1489\n",
      "AAACGAAGTCCAAGAG-1                         0                2713\n",
      "AAACGAAGTCCGAGCT-1                         0                4090\n",
      "AAACGAAGTTCAGAAA-1                         0                1483\n",
      "AAACGAAGTTTGAAGA-1                         0                3862\n",
      "AAACGAATCAGCCGGT-1                         0                 587\n",
      "                   blacklist_region_fragments peak_region_fragments\n",
      "AAACGAAAGGAAACTT-1                          0                  2969\n",
      "AAACGAAGTCCAAGAG-1                          0                  4893\n",
      "AAACGAAGTCCGAGCT-1                          0                  8076\n",
      "AAACGAAGTTCAGAAA-1                          0                  2971\n",
      "AAACGAAGTTTGAAGA-1                          0                  7640\n",
      "AAACGAATCAGCCGGT-1                          0                  1208\n",
      "                   peak_region_cutsites  proj\n",
      "AAACGAAAGGAAACTT-1                 5761 Flt3l\n",
      "AAACGAAGTCCAAGAG-1                 9514 Flt3l\n",
      "AAACGAAGTCCGAGCT-1                15616 Flt3l\n",
      "AAACGAAGTTCAGAAA-1                 5760 Flt3l\n",
      "AAACGAAGTTTGAAGA-1                14850 Flt3l\n",
      "AAACGAATCAGCCGGT-1                 2350 Flt3l\n",
      "[1] \"exp\"\n",
      "[1] \"Input\"\n",
      "[1] \"name\"\n",
      "[1] \"Input\"\n"
     ]
    },
    {
     "name": "stderr",
     "output_type": "stream",
     "text": [
      "\u001b[1m\u001b[1mRows: \u001b[1m\u001b[22m\u001b[34m\u001b[34m222\u001b[34m\u001b[39m \u001b[1m\u001b[1mColumns: \u001b[1m\u001b[22m\u001b[34m\u001b[34m1\u001b[34m\u001b[39m\n",
      "\n",
      "\u001b[36m──\u001b[39m \u001b[1m\u001b[1mColumn specification\u001b[1m\u001b[22m \u001b[36m────────────────────────────────────────────────────────────────────────────────────────────────────────────────────────────────────────────────────────────────────────────────────────────────────────────────────\u001b[39m\n",
      "\u001b[1mDelimiter:\u001b[22m \"\\t\"\n",
      "\u001b[31mchr\u001b[39m (1): X1\n",
      "\n",
      "\n",
      "\u001b[36mℹ\u001b[39m Use \u001b[30m\u001b[47m\u001b[30m\u001b[47m`spec()`\u001b[47m\u001b[30m\u001b[49m\u001b[39m to retrieve the full column specification for this data.\n",
      "\u001b[36mℹ\u001b[39m Specify the column types or set \u001b[30m\u001b[47m\u001b[30m\u001b[47m`show_col_types = FALSE`\u001b[47m\u001b[30m\u001b[49m\u001b[39m to quiet this message.\n",
      "\n",
      "\u001b[1m\u001b[1mRows: \u001b[1m\u001b[22m\u001b[34m\u001b[34m361348\u001b[34m\u001b[39m \u001b[1m\u001b[1mColumns: \u001b[1m\u001b[22m\u001b[34m\u001b[34m18\u001b[34m\u001b[39m\n",
      "\n",
      "\u001b[36m──\u001b[39m \u001b[1m\u001b[1mColumn specification\u001b[1m\u001b[22m \u001b[36m────────────────────────────────────────────────────────────────────────────────────────────────────────────────────────────────────────────────────────────────────────────────────────────────────────────────────\u001b[39m\n",
      "\u001b[1mDelimiter:\u001b[22m \",\"\n",
      "\u001b[31mchr\u001b[39m  (2): barcode, cell_id\n",
      "\u001b[32mdbl\u001b[39m (16): total, duplicate, chimeric, unmapped, lowmapq, mitochondrial, pass...\n",
      "\n",
      "\n",
      "\u001b[36mℹ\u001b[39m Use \u001b[30m\u001b[47m\u001b[30m\u001b[47m`spec()`\u001b[47m\u001b[30m\u001b[49m\u001b[39m to retrieve the full column specification for this data.\n",
      "\u001b[36mℹ\u001b[39m Specify the column types or set \u001b[30m\u001b[47m\u001b[30m\u001b[47m`show_col_types = FALSE`\u001b[47m\u001b[30m\u001b[49m\u001b[39m to quiet this message.\n",
      "\n"
     ]
    },
    {
     "name": "stdout",
     "output_type": "stream",
     "text": [
      "[1] \"Creating fragments object\"\n"
     ]
    },
    {
     "name": "stderr",
     "output_type": "stream",
     "text": [
      "Computing hash\n",
      "\n"
     ]
    },
    {
     "name": "stdout",
     "output_type": "stream",
     "text": [
      "[1] \"Quantifying peaks\"\n"
     ]
    },
    {
     "name": "stderr",
     "output_type": "stream",
     "text": [
      "Extracting reads overlapping genomic regions\n",
      "\n"
     ]
    },
    {
     "name": "stdout",
     "output_type": "stream",
     "text": [
      "[1] \"Creating chromatin assay\"\n",
      "[1] \"curr_assay\"\n",
      "data frame with 0 columns and 10 rows\n",
      "[1] \"curr\"\n",
      "                   orig.ident nCount_ATAC nFeature_ATAC   total duplicate\n",
      "AAACGAATCTTACTCA-1      Input       20967         14540 1136869    627713\n",
      "AAAGGATAGTCGTGAG-1      Input       34012         21373 1065254    711897\n",
      "AAATGAGGTCAATACC-1      Input       23267         17558  408417    114699\n",
      "AAATGCCAGGAACCGT-1      Input        6184          5352  312883     92752\n",
      "AAATGCCCACCGAAAG-1      Input       33799         22561  582430    187426\n",
      "AACAAAGCAATTCAGC-1      Input       16096         12306  922273    390846\n",
      "                   chimeric unmapped lowmapq mitochondrial passed_filters\n",
      "AAACGAATCTTACTCA-1     5110     3785   53071        404558          42632\n",
      "AAAGGATAGTCGTGAG-1     5461     3619   57926        218077          68274\n",
      "AAATGAGGTCAATACC-1     1725     1858   17193        216353          56589\n",
      "AAATGCCAGGAACCGT-1     1351     1566   11187        190764          15263\n",
      "AAATGCCCACCGAAAG-1     2379     2668   27520        277501          84936\n",
      "AACAAAGCAATTCAGC-1     4689     2401   37581        450342          36414\n",
      "                   cell_id is__cell_barcode TSS_fragments\n",
      "AAACGAATCTTACTCA-1 _cell_0                1         12571\n",
      "AAAGGATAGTCGTGAG-1 _cell_1                1         20378\n",
      "AAATGAGGTCAATACC-1 _cell_2                1         13821\n",
      "AAATGCCAGGAACCGT-1 _cell_3                1          3684\n",
      "AAATGCCCACCGAAAG-1 _cell_4                1         22252\n",
      "AACAAAGCAATTCAGC-1 _cell_5                1          8656\n",
      "                   DNase_sensitive_region_fragments enhancer_region_fragments\n",
      "AAACGAATCTTACTCA-1                                0                         0\n",
      "AAAGGATAGTCGTGAG-1                                0                         0\n",
      "AAATGAGGTCAATACC-1                                0                         0\n",
      "AAATGCCAGGAACCGT-1                                0                         0\n",
      "AAATGCCCACCGAAAG-1                                0                         0\n",
      "AACAAAGCAATTCAGC-1                                0                         0\n",
      "                   promoter_region_fragments on_target_fragments\n",
      "AAACGAATCTTACTCA-1                         0               12571\n",
      "AAAGGATAGTCGTGAG-1                         0               20378\n",
      "AAATGAGGTCAATACC-1                         0               13821\n",
      "AAATGCCAGGAACCGT-1                         0                3684\n",
      "AAATGCCCACCGAAAG-1                         0               22252\n",
      "AACAAAGCAATTCAGC-1                         0                8656\n",
      "                   blacklist_region_fragments peak_region_fragments\n",
      "AAACGAATCTTACTCA-1                          0                 24988\n",
      "AAAGGATAGTCGTGAG-1                          0                 40005\n",
      "AAATGAGGTCAATACC-1                          0                 27927\n",
      "AAATGCCAGGAACCGT-1                          0                  7424\n",
      "AAATGCCCACCGAAAG-1                          0                 40800\n",
      "AACAAAGCAATTCAGC-1                          0                 19227\n",
      "                   peak_region_cutsites  proj\n",
      "AAACGAATCTTACTCA-1                46372 Input\n",
      "AAAGGATAGTCGTGAG-1                73483 Input\n",
      "AAATGAGGTCAATACC-1                52095 Input\n",
      "AAATGCCAGGAACCGT-1                14091 Input\n",
      "AAATGCCCACCGAAAG-1                75773 Input\n",
      "AACAAAGCAATTCAGC-1                35591 Input\n"
     ]
    },
    {
     "data": {
      "text/plain": [
       "[[1]]\n",
       "An object of class Seurat \n",
       "100522 features across 743 samples within 1 assay \n",
       "Active assay: ATAC (100522 features, 0 variable features)\n",
       "\n",
       "[[2]]\n",
       "An object of class Seurat \n",
       "187490 features across 5312 samples within 1 assay \n",
       "Active assay: ATAC (187490 features, 0 variable features)\n",
       "\n",
       "[[3]]\n",
       "An object of class Seurat \n",
       "80277 features across 222 samples within 1 assay \n",
       "Active assay: ATAC (80277 features, 0 variable features)\n"
      ]
     },
     "metadata": {},
     "output_type": "display_data"
    }
   ],
   "source": [
    "# create_frag <- function(exp, cellr_in){\n",
    "#     barcode_path <- file.path(cellr_in, exp, \"outs\", \"filtered_peak_bc_matrix\", \"barcodes.tsv\")    \n",
    "#     barcodes <- readr::read_tsv(barcode_path, col_names = F) # %>% tidyr::unite(barcode)\n",
    "#     frag_file <- file.path(cellr_in, exp, \"outs\", \"fragments.tsv.gz\")\n",
    "#     # quantify multiome peaks in the scATAC-seq dataset\n",
    "#     frags.curr <- CreateFragmentObject(path = frag_file,cells= barcodes[[\"X1\"]])\n",
    "#     barcodes <- as.data.frame(barcodes) %>%  tibble::column_to_rownames(var=\"X1\") %>% tibble::add_column(proj=exp)\n",
    "#     ## Quantify peaks\n",
    "#     curr.counts <- FeatureMatrix(\n",
    "#       fragments = frags.curr,\n",
    "#       features = combined.peaks,\n",
    "#       cells = rownames(barcodes),\n",
    "#       process_n = 8\n",
    "#     )\n",
    "    \n",
    "#     ## Create the objects\n",
    "#     curr_assay <- CreateChromatinAssay(curr.counts, fragments = frags.curr)\n",
    "#     curr <- CreateSeuratObject(curr_assay, assay = \"ATAC\", project=exp, meta.data=barcodes)\n",
    "#     curr <- BinarizeCounts(curr)\n",
    "#     return(curr)\n",
    "# }\n",
    "allSE = c() \n",
    "\n",
    "samples_df <- cbind(sample_names, samples)\n",
    "print('samples_df')\n",
    "print(samples_df)\n",
    "for (row in 1:nrow(samples_df)){\n",
    "    exp <- (samples_df[[row, \"samples\"]])\n",
    "    name <- (samples_df[[row, \"sample_names\"]]) \n",
    "    \n",
    "#for (exp in samples) {\n",
    "    print('exp')\n",
    "    print(exp)\n",
    "    print('name')\n",
    "    print(name)\n",
    "    barcode_path <- file.path(cellr_in, exp, \"outs\", \"filtered_peak_bc_matrix\", \"barcodes.tsv\")    \n",
    "    barcodes <- readr::read_tsv(barcode_path, col_names = F) # %>% tidyr::unite(barcode)\n",
    "    barcodes <- as.data.frame(barcodes) %>%  tibble::column_to_rownames(var=\"X1\") %>% tibble::add_column(proj=name)\n",
    "    frag_file <- file.path(cellr_in, exp, \"outs\", \"fragments.tsv.gz\")\n",
    "    \n",
    "    cells.meta.f <- file.path(cellr_in, exp, \"outs\", \"singlecell.csv\") \n",
    "    cells.meta <- as.data.frame(readr::read_csv(cells.meta.f)) %>% tibble::column_to_rownames(var=\"barcode\") %>% tibble::add_column(proj=name)\n",
    "    cells.meta <- cells.meta[rownames(cells.meta) %in% rownames(barcodes), ]\n",
    "\n",
    "    # quantify multiome peaks in the scATAC-seq dataset\n",
    "    \n",
    "    \n",
    "    print(\"Creating fragments object\")\n",
    "    frags.curr <- CreateFragmentObject(path = frag_file, cells= rownames(barcodes))\n",
    "    #print(frags.curr)\n",
    "    print(\"Quantifying peaks\")\n",
    "    ## Quantify peaks\n",
    "    curr.counts <- FeatureMatrix(\n",
    "      fragments = frags.curr,\n",
    "      features = combined.peaks,\n",
    "      cells = rownames(barcodes),\n",
    "      process_n = cores\n",
    "    )\n",
    "    \n",
    "    print(\"Creating chromatin assay\")\n",
    "    ## Create the objects and use simple filters\n",
    "    curr_assay <- CreateChromatinAssay(curr.counts, fragments = frags.curr, min.cells = 10, min.features = 200)\n",
    "    curr <- CreateSeuratObject(curr_assay, assay = \"ATAC\", project=name, meta.data=cells.meta)\n",
    "    print('curr_assay')\n",
    "    print(head(curr_assay))\n",
    "    print('curr')\n",
    "    print(head(curr[[]]))\n",
    "    allSE = c(allSE, curr)\n",
    "    #return(curr)\n",
    "}\n",
    "\n",
    "allSE\n",
    "\n",
    "#allSE <- sapply(samples, create_frag, cellr_in=cellr_in)"
   ]
  },
  {
   "cell_type": "markdown",
   "id": "8857dd9d",
   "metadata": {},
   "source": [
    "## Merge"
   ]
  },
  {
   "cell_type": "code",
   "execution_count": 8,
   "id": "5114da78",
   "metadata": {},
   "outputs": [
    {
     "data": {
      "text/html": [
       "<style>\n",
       ".list-inline {list-style: none; margin:0; padding: 0}\n",
       ".list-inline>li {display: inline-block}\n",
       ".list-inline>li:not(:last-child)::after {content: \"\\00b7\"; padding: 0 .5ex}\n",
       "</style>\n",
       "<ol class=list-inline><li>'chr1-9872-10620'</li><li>'chr1-191518-191976'</li><li>'chr1-267762-268278'</li><li>'chr1-271036-271558'</li><li>'chr1-585946-586432'</li><li>'chr1-605306-605817'</li></ol>\n"
      ],
      "text/latex": [
       "\\begin{enumerate*}\n",
       "\\item 'chr1-9872-10620'\n",
       "\\item 'chr1-191518-191976'\n",
       "\\item 'chr1-267762-268278'\n",
       "\\item 'chr1-271036-271558'\n",
       "\\item 'chr1-585946-586432'\n",
       "\\item 'chr1-605306-605817'\n",
       "\\end{enumerate*}\n"
      ],
      "text/markdown": [
       "1. 'chr1-9872-10620'\n",
       "2. 'chr1-191518-191976'\n",
       "3. 'chr1-267762-268278'\n",
       "4. 'chr1-271036-271558'\n",
       "5. 'chr1-585946-586432'\n",
       "6. 'chr1-605306-605817'\n",
       "\n",
       "\n"
      ],
      "text/plain": [
       "[1] \"chr1-9872-10620\"    \"chr1-191518-191976\" \"chr1-267762-268278\"\n",
       "[4] \"chr1-271036-271558\" \"chr1-585946-586432\" \"chr1-605306-605817\""
      ]
     },
     "metadata": {},
     "output_type": "display_data"
    }
   ],
   "source": [
    "head(x = rownames(x = allSE[[1]]))"
   ]
  },
  {
   "cell_type": "code",
   "execution_count": 9,
   "id": "fd280d61",
   "metadata": {
    "scrolled": true
   },
   "outputs": [
    {
     "ename": "ERROR",
     "evalue": "Error in parse(text = x, srcfile = src): <text>:4:55: unexpected ','\n3:   x = allSE[[1]],\n4:   y = unlist(allSE[2:length(allSE)]), use.names=FALSE),\n                                                         ^\n",
     "output_type": "error",
     "traceback": [
      "Error in parse(text = x, srcfile = src): <text>:4:55: unexpected ','\n3:   x = allSE[[1]],\n4:   y = unlist(allSE[2:length(allSE)]), use.names=FALSE),\n                                                         ^\nTraceback:\n"
     ]
    }
   ],
   "source": [
    "# merge all datasets, adding a cell ID to make sure cell names are unique\n",
    "combined <- merge(\n",
    "  x = allSE[[1]],\n",
    "  y = unlist(allSE[2:length(allSE)]), use.names=FALSE), \n",
    "  add.cell.ids = sample_names\n",
    ")\n",
    "combined[[\"ATAC\"]]\n",
    "\n"
   ]
  },
  {
   "cell_type": "code",
   "execution_count": null,
   "id": "f0186714",
   "metadata": {
    "scrolled": true
   },
   "outputs": [],
   "source": [
    "# merge all datasets, adding a cell ID to make sure cell names are unique\n",
    "combined <- merge(\n",
    "  x = allSE[[1]],\n",
    "  y = unlist(allSE[2:length(allSE)]), use.names=FALSE), \n",
    ")\n",
    "combined[[\"ATAC\"]]\n",
    "\n"
   ]
  },
  {
   "cell_type": "code",
   "execution_count": null,
   "id": "e139afc8",
   "metadata": {
    "scrolled": false
   },
   "outputs": [],
   "source": [
    "# # merge all datasets, adding a cell ID to make sure cell names are unique\n",
    "# combined <- merge(\n",
    "#   x = allSE[[1]],\n",
    "#   y = unlist(allSE[2:length(allSE)], use.names=FALSE), \n",
    "#   add.cell.ids = sample_names,\n",
    "#   merge.data=FALSE\n",
    "# )\n",
    "# combined[[\"ATAC\"]]\n",
    "\n"
   ]
  },
  {
   "cell_type": "code",
   "execution_count": null,
   "id": "4b125078",
   "metadata": {
    "scrolled": true
   },
   "outputs": [],
   "source": [
    "combined <- FindTopFeatures(combined, min.cutoff = 20)\n",
    "combined"
   ]
  },
  {
   "cell_type": "markdown",
   "id": "c0f15aa7",
   "metadata": {},
   "source": [
    "### Plot metadata passed_filters, nCount_ATAC, and duplicates"
   ]
  },
  {
   "cell_type": "code",
   "execution_count": null,
   "id": "a52b06b5",
   "metadata": {},
   "outputs": [],
   "source": [
    "combined$orig.ident <- factor(combined$orig.ident, levels = sample_names)\n",
    "\n",
    "VlnPlot(\n",
    "  object = combined,\n",
    "  features = c('nCount_ATAC', 'peak_region_fragments', 'passed_filters',\n",
    "               'duplicate', 'unmapped'),\n",
    "  split.by = \"orig.ident\",\n",
    "  pt.size = 0.1,\n",
    "  ncol = 3\n",
    ")"
   ]
  },
  {
   "cell_type": "code",
   "execution_count": null,
   "id": "69e1c26c",
   "metadata": {
    "scrolled": true
   },
   "outputs": [],
   "source": [
    "# Binarize and run LSI\n",
    "combined <- BinarizeCounts(combined)\n",
    "combined <- RunTFIDF(combined)\n",
    "combined <- RunSVD(combined)\n",
    "combined <- RunUMAP(combined, dims = 2:50, reduction = 'lsi')\n",
    "DimPlot(combined, group.by = \"proj\", pt.size = 0.1)"
   ]
  },
  {
   "cell_type": "code",
   "execution_count": null,
   "id": "79f6ba53",
   "metadata": {
    "scrolled": true
   },
   "outputs": [],
   "source": [
    "pDepthCorr <- DepthCor(combined)\n",
    "pDepthCorr"
   ]
  },
  {
   "cell_type": "code",
   "execution_count": null,
   "id": "be2e0719",
   "metadata": {},
   "outputs": [],
   "source": [
    "saveRDS(combined, file.path(outdir, paste0(\"allSamples.merged.rds\")))"
   ]
  },
  {
   "cell_type": "code",
   "execution_count": null,
   "id": "34ea5c1b",
   "metadata": {},
   "outputs": [],
   "source": []
  },
  {
   "cell_type": "code",
   "execution_count": null,
   "id": "1f6da036",
   "metadata": {},
   "outputs": [],
   "source": []
  },
  {
   "cell_type": "markdown",
   "id": "77338460",
   "metadata": {},
   "source": [
    "## Integrate datasets\n",
    "### Uses https://satijalab.org/signac/articles/integrate_atac.html"
   ]
  },
  {
   "cell_type": "code",
   "execution_count": null,
   "id": "b6a43717",
   "metadata": {},
   "outputs": [],
   "source": [
    "p1 <- DimPlot(combined, group.by = \"proj\")"
   ]
  },
  {
   "cell_type": "markdown",
   "id": "4ce38a3c",
   "metadata": {},
   "source": [
    "## First break them up again by subsetting, then integrating"
   ]
  },
  {
   "cell_type": "code",
   "execution_count": null,
   "id": "6ac4163e",
   "metadata": {
    "scrolled": true
   },
   "outputs": [],
   "source": [
    "# ext <- subset(x = combined, subset = orig.ident == samples[1])\n",
    "# curr <- subset(x = combined, subset = orig.ident == samples[2])\n",
    "\n",
    "allSE <- lapply(sample_names,  function(x) subset(combined, subset = orig.ident == x))\n",
    "allSE"
   ]
  },
  {
   "cell_type": "code",
   "execution_count": null,
   "id": "43ad596e",
   "metadata": {
    "scrolled": true
   },
   "outputs": [],
   "source": [
    "# find integration anchors\n",
    "integration.anchors <- FindIntegrationAnchors(\n",
    "  object.list = allSE, #c(ext,curr),\n",
    "  anchor.features = allSE[[1]], #rownames(ext),\n",
    "  reduction = \"rlsi\",\n",
    "  dims = 2:30\n",
    ")\n",
    "\n",
    "# integrate LSI embeddings\n",
    "integrated <- IntegrateEmbeddings(\n",
    "  anchorset = integration.anchors,\n",
    "  reductions = combined[[\"lsi\"]],\n",
    "  new.reduction.name = \"integrated_lsi\",\n",
    "  dims.to.integrate = 1:30\n",
    ")\n",
    "\n"
   ]
  },
  {
   "cell_type": "code",
   "execution_count": null,
   "id": "4b06e71e",
   "metadata": {
    "scrolled": true
   },
   "outputs": [],
   "source": [
    "# create a new UMAP using the integrated embeddings\n",
    "integrated <- RunUMAP(integrated, reduction = \"integrated_lsi\", dims = 2:30)\n",
    "p2 <- DimPlot(integrated, group.by = \"proj\")"
   ]
  },
  {
   "cell_type": "code",
   "execution_count": null,
   "id": "f9f6912f",
   "metadata": {
    "scrolled": true
   },
   "outputs": [],
   "source": [
    "pclust <- DimPlot(object = integrated, label = TRUE) + NoLegend()\n",
    "\n",
    "(p1 + ggtitle(\"Merged\")) | (p2 + ggtitle(\"Integrated\"))\n",
    "ggsave(file.path(outdir,\"integrated.merged.compare.png\"))"
   ]
  },
  {
   "cell_type": "code",
   "execution_count": null,
   "id": "893671b3",
   "metadata": {},
   "outputs": [],
   "source": [
    "p2\n",
    "ggsave(file.path(outdir,\"integrated.batch.png\"))"
   ]
  },
  {
   "cell_type": "code",
   "execution_count": null,
   "id": "58a25cbb",
   "metadata": {},
   "outputs": [],
   "source": [
    "pDepthCorr <- DepthCor(integrated, reduction='integrated_lsi')\n",
    "pDepthCorr"
   ]
  },
  {
   "cell_type": "markdown",
   "id": "604d3235",
   "metadata": {},
   "source": [
    "## Plot new cluster results"
   ]
  },
  {
   "cell_type": "code",
   "execution_count": null,
   "id": "2c05ac1c",
   "metadata": {
    "scrolled": true
   },
   "outputs": [],
   "source": [
    "#integrated <- RunUMAP(object = integrated, reduction = 'integrated_lsi', dims = 2:30)\n",
    "integrated <- FindNeighbors(object = integrated, reduction = 'integrated_lsi', dims = 2:30)\n",
    "integrated <- FindClusters(object = integrated, verbose = FALSE, algorithm = 3)\n"
   ]
  },
  {
   "cell_type": "code",
   "execution_count": null,
   "id": "d20705e3",
   "metadata": {
    "scrolled": true
   },
   "outputs": [],
   "source": [
    "pclust <- DimPlot(object = integrated, label = TRUE) + NoLegend()\n",
    "ggsave(file.path(outdir, \"integrated.lsi.clusters.png\"), pclust)\n",
    "pclust"
   ]
  },
  {
   "cell_type": "code",
   "execution_count": null,
   "id": "5c02d3c5",
   "metadata": {},
   "outputs": [],
   "source": [
    "## ATAC DE peaks\n",
    "\n",
    "# # change back to working with peaks instead of gene activities\n",
    "# DefaultAssay(integrated) <- 'ATAC'\n",
    "\n",
    "# da_peaks <- FindMarkers(\n",
    "#   object = integrated,\n",
    "#   ident.1 = 9, #\"CD4 Naive\",\n",
    "#   min.pct = 0.05,\n",
    "#   test.use = 'LR',\n",
    "#   #latent.vars = 'peak_region_fragments'\n",
    "# )\n",
    "\n",
    "\n",
    "# plot1 <- VlnPlot(\n",
    "#   object = integrated,\n",
    "#   features = rownames(da_peaks)[1],\n",
    "#   pt.size = 0.1,\n",
    "#   idents = c(1,9)\n",
    "# )\n",
    "# plot2 <- FeaturePlot(\n",
    "#   object = integrated,\n",
    "#   features = rownames(da_peaks)[1],\n",
    "#   pt.size = 0.1\n",
    "# )\n",
    "\n",
    "# plot1 | plot2\n"
   ]
  },
  {
   "cell_type": "markdown",
   "id": "2ea79a37",
   "metadata": {},
   "source": [
    "## Get gene activity results and run DE results for RNA"
   ]
  },
  {
   "cell_type": "code",
   "execution_count": null,
   "id": "8a8458cc",
   "metadata": {
    "scrolled": true
   },
   "outputs": [],
   "source": [
    "# extract gene annotations from EnsDb\n",
    "annotations <- GetGRangesFromEnsDb(ensdb = EnsDb.Hsapiens.v75)\n",
    "\n",
    "# change to UCSC style since the data was mapped to hg19\n",
    "seqlevelsStyle(annotations) <- 'UCSC'\n",
    "genome(annotations) <- \"hg38\"\n",
    "\n",
    "# add the gene information to the object\n",
    "Annotation(integrated) <- annotations\n",
    "\n",
    "\n",
    "gene.activities <- GeneActivity(integrated)\n"
   ]
  },
  {
   "cell_type": "code",
   "execution_count": null,
   "id": "ea3b5ddc",
   "metadata": {
    "scrolled": true
   },
   "outputs": [],
   "source": [
    "# add the gene activity matrix to the Seurat object as a new assay and normalize it\n",
    "integrated[['RNA']] <- CreateAssayObject(counts = gene.activities)\n",
    "integrated <- NormalizeData(\n",
    "  object = integrated,\n",
    "  assay = 'RNA',\n",
    "  normalization.method = 'LogNormalize',\n",
    "  scale.factor = median(integrated$nCount_RNA)\n",
    ")"
   ]
  },
  {
   "cell_type": "code",
   "execution_count": null,
   "id": "c0918487",
   "metadata": {},
   "outputs": [],
   "source": [
    "DefaultAssay(integrated) <- 'RNA'"
   ]
  },
  {
   "cell_type": "code",
   "execution_count": null,
   "id": "d7634f92",
   "metadata": {},
   "outputs": [],
   "source": [
    "saveRDS(integrated, file.path(outdir, paste0(\"allSamples.integrated.rds\")))"
   ]
  },
  {
   "cell_type": "code",
   "execution_count": null,
   "id": "626a0538",
   "metadata": {},
   "outputs": [],
   "source": [
    "sessionInfo()"
   ]
  },
  {
   "cell_type": "code",
   "execution_count": null,
   "id": "cb0cc51b",
   "metadata": {},
   "outputs": [],
   "source": []
  }
 ],
 "metadata": {
  "celltoolbar": "Tags",
  "kernelspec": {
   "display_name": "R",
   "language": "R",
   "name": "ir"
  },
  "language_info": {
   "codemirror_mode": "r",
   "file_extension": ".r",
   "mimetype": "text/x-r-source",
   "name": "R",
   "pygments_lexer": "r",
   "version": "4.1.1"
  }
 },
 "nbformat": 4,
 "nbformat_minor": 5
}
