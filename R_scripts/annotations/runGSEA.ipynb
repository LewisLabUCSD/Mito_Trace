{
 "cells": [
  {
   "cell_type": "code",
   "execution_count": 2,
   "id": "41fdb08b",
   "metadata": {
    "tags": [
     "parameters"
    ]
   },
   "outputs": [],
   "source": [
    "gsea.dir <- \"/data2/mito_lineage/software/Bioinformatics_Tools/\"\n",
    "DE.out.path <- \"/data2/isshamie/mito_lineage/output/annotation/run_vDataBeforeCorrupt/TcellDupi_may17_2021/DE/clusters\"\n",
    "export.path <- \"/data2/isshamie/mito_lineage/output/annotation/run_vDataBeforeCorrupt/TcellDupi_may17_2021/DE/clusters/GSEA/\"\n"
   ]
  },
  {
   "cell_type": "code",
   "execution_count": 3,
   "id": "ea4fc8d1",
   "metadata": {
    "scrolled": true
   },
   "outputs": [
    {
     "name": "stderr",
     "output_type": "stream",
     "text": [
      "Loading required package: stats4\n",
      "\n",
      "Loading required package: BiocGenerics\n",
      "\n",
      "Loading required package: parallel\n",
      "\n",
      "\n",
      "Attaching package: ‘BiocGenerics’\n",
      "\n",
      "\n",
      "The following objects are masked from ‘package:parallel’:\n",
      "\n",
      "    clusterApply, clusterApplyLB, clusterCall, clusterEvalQ,\n",
      "    clusterExport, clusterMap, parApply, parCapply, parLapply,\n",
      "    parLapplyLB, parRapply, parSapply, parSapplyLB\n",
      "\n",
      "\n",
      "The following objects are masked from ‘package:stats’:\n",
      "\n",
      "    IQR, mad, sd, var, xtabs\n",
      "\n",
      "\n",
      "The following objects are masked from ‘package:base’:\n",
      "\n",
      "    anyDuplicated, append, as.data.frame, basename, cbind, colnames,\n",
      "    dirname, do.call, duplicated, eval, evalq, Filter, Find, get, grep,\n",
      "    grepl, intersect, is.unsorted, lapply, Map, mapply, match, mget,\n",
      "    order, paste, pmax, pmax.int, pmin, pmin.int, Position, rank,\n",
      "    rbind, Reduce, rownames, sapply, setdiff, sort, table, tapply,\n",
      "    union, unique, unsplit, which.max, which.min\n",
      "\n",
      "\n",
      "Loading required package: Biobase\n",
      "\n",
      "Welcome to Bioconductor\n",
      "\n",
      "    Vignettes contain introductory material; view with\n",
      "    'browseVignettes()'. To cite Bioconductor, see\n",
      "    'citation(\"Biobase\")', and for packages 'citation(\"pkgname\")'.\n",
      "\n",
      "\n",
      "Loading required package: IRanges\n",
      "\n",
      "Loading required package: S4Vectors\n",
      "\n",
      "\n",
      "Attaching package: ‘S4Vectors’\n",
      "\n",
      "\n",
      "The following objects are masked from ‘package:base’:\n",
      "\n",
      "    expand.grid, I, unname\n",
      "\n",
      "\n",
      "\n",
      "\n",
      "Loading required package: GenomicFeatures\n",
      "\n",
      "Loading required package: GenomeInfoDb\n",
      "\n",
      "Loading required package: GenomicRanges\n",
      "\n"
     ]
    }
   ],
   "source": [
    "library(\"AnnotationDbi\")\n",
    "library(\"org.Hs.eg.db\")\n",
    "\n",
    "library(TxDb.Hsapiens.UCSC.hg38.knownGene)"
   ]
  },
  {
   "cell_type": "code",
   "execution_count": 4,
   "id": "86bdaa67",
   "metadata": {},
   "outputs": [
    {
     "name": "stderr",
     "output_type": "stream",
     "text": [
      "Warning message in dir.create(DE.out.path):\n",
      "“'/data2/isshamie/mito_lineage/output/annotation/run_vDataBeforeCorrupt/TcellDupi_may17_2021/DE/clusters' already exists”\n"
     ]
    }
   ],
   "source": [
    "dir.create(DE.out.path)"
   ]
  },
  {
   "cell_type": "code",
   "execution_count": null,
   "id": "31b02f19",
   "metadata": {
    "scrolled": true
   },
   "outputs": [],
   "source": [
    "source(paste0(gsea.dir,'R/Gsea.R'))"
   ]
  },
  {
   "cell_type": "code",
   "execution_count": 6,
   "id": "895b2b55",
   "metadata": {},
   "outputs": [],
   "source": [
    "cols.prior <- c(\"Gene\",\"baseMean\",\"log2FoldChange\",\"lfcSE\",\"stat\",\"pvalue\",\"padj\")\n",
    "cols.needed <- c(\"Gene\",\"log2FoldChange\")\n",
    "cols.curr <- c(\"X\",\"p_val\",\"avg_log2FC\",\"pct.1\",\"pct.2\",\"p_val_adj\") #first col is empty in csv"
   ]
  },
  {
   "cell_type": "code",
   "execution_count": 7,
   "id": "541f8ea4",
   "metadata": {
    "scrolled": true
   },
   "outputs": [
    {
     "name": "stdout",
     "output_type": "stream",
     "text": [
      "[1] \"/data2/isshamie/mito_lineage/output/annotation/run_vDataBeforeCorrupt/TcellDupi_may17_2021/DE/clusters/cluster_0.DE.GeneActivity.csv\"\n"
     ]
    },
    {
     "name": "stderr",
     "output_type": "stream",
     "text": [
      "'select()' returned 1:many mapping between keys and columns\n",
      "\n"
     ]
    },
    {
     "name": "stdout",
     "output_type": "stream",
     "text": [
      "[1] \"/data2/isshamie/mito_lineage/output/annotation/run_vDataBeforeCorrupt/TcellDupi_may17_2021/DE/clusters/cluster_1.DE.GeneActivity.csv\"\n"
     ]
    },
    {
     "name": "stderr",
     "output_type": "stream",
     "text": [
      "'select()' returned 1:1 mapping between keys and columns\n",
      "\n"
     ]
    },
    {
     "name": "stdout",
     "output_type": "stream",
     "text": [
      "[1] \"/data2/isshamie/mito_lineage/output/annotation/run_vDataBeforeCorrupt/TcellDupi_may17_2021/DE/clusters/cluster_10.DE.GeneActivity.csv\"\n"
     ]
    },
    {
     "name": "stderr",
     "output_type": "stream",
     "text": [
      "'select()' returned 1:many mapping between keys and columns\n",
      "\n"
     ]
    },
    {
     "name": "stdout",
     "output_type": "stream",
     "text": [
      "[1] \"/data2/isshamie/mito_lineage/output/annotation/run_vDataBeforeCorrupt/TcellDupi_may17_2021/DE/clusters/cluster_11.DE.GeneActivity.csv\"\n"
     ]
    },
    {
     "name": "stderr",
     "output_type": "stream",
     "text": [
      "'select()' returned 1:many mapping between keys and columns\n",
      "\n"
     ]
    },
    {
     "name": "stdout",
     "output_type": "stream",
     "text": [
      "[1] \"/data2/isshamie/mito_lineage/output/annotation/run_vDataBeforeCorrupt/TcellDupi_may17_2021/DE/clusters/cluster_12.DE.GeneActivity.csv\"\n"
     ]
    },
    {
     "name": "stderr",
     "output_type": "stream",
     "text": [
      "'select()' returned 1:many mapping between keys and columns\n",
      "\n"
     ]
    },
    {
     "name": "stdout",
     "output_type": "stream",
     "text": [
      "[1] \"/data2/isshamie/mito_lineage/output/annotation/run_vDataBeforeCorrupt/TcellDupi_may17_2021/DE/clusters/cluster_13.DE.GeneActivity.csv\"\n"
     ]
    },
    {
     "name": "stderr",
     "output_type": "stream",
     "text": [
      "'select()' returned 1:many mapping between keys and columns\n",
      "\n"
     ]
    },
    {
     "name": "stdout",
     "output_type": "stream",
     "text": [
      "[1] \"/data2/isshamie/mito_lineage/output/annotation/run_vDataBeforeCorrupt/TcellDupi_may17_2021/DE/clusters/cluster_14.DE.GeneActivity.csv\"\n"
     ]
    },
    {
     "name": "stderr",
     "output_type": "stream",
     "text": [
      "'select()' returned 1:many mapping between keys and columns\n",
      "\n"
     ]
    },
    {
     "name": "stdout",
     "output_type": "stream",
     "text": [
      "[1] \"/data2/isshamie/mito_lineage/output/annotation/run_vDataBeforeCorrupt/TcellDupi_may17_2021/DE/clusters/cluster_15.DE.GeneActivity.csv\"\n"
     ]
    },
    {
     "name": "stderr",
     "output_type": "stream",
     "text": [
      "'select()' returned 1:many mapping between keys and columns\n",
      "\n"
     ]
    },
    {
     "name": "stdout",
     "output_type": "stream",
     "text": [
      "[1] \"/data2/isshamie/mito_lineage/output/annotation/run_vDataBeforeCorrupt/TcellDupi_may17_2021/DE/clusters/cluster_16.DE.GeneActivity.csv\"\n"
     ]
    },
    {
     "name": "stderr",
     "output_type": "stream",
     "text": [
      "'select()' returned 1:many mapping between keys and columns\n",
      "\n"
     ]
    },
    {
     "name": "stdout",
     "output_type": "stream",
     "text": [
      "[1] \"/data2/isshamie/mito_lineage/output/annotation/run_vDataBeforeCorrupt/TcellDupi_may17_2021/DE/clusters/cluster_2.DE.GeneActivity.csv\"\n",
      "[1] \"/data2/isshamie/mito_lineage/output/annotation/run_vDataBeforeCorrupt/TcellDupi_may17_2021/DE/clusters/cluster_3.DE.GeneActivity.csv\"\n",
      "[1] \"/data2/isshamie/mito_lineage/output/annotation/run_vDataBeforeCorrupt/TcellDupi_may17_2021/DE/clusters/cluster_4.DE.GeneActivity.csv\"\n"
     ]
    },
    {
     "name": "stderr",
     "output_type": "stream",
     "text": [
      "'select()' returned 1:many mapping between keys and columns\n",
      "\n"
     ]
    },
    {
     "name": "stdout",
     "output_type": "stream",
     "text": [
      "[1] \"/data2/isshamie/mito_lineage/output/annotation/run_vDataBeforeCorrupt/TcellDupi_may17_2021/DE/clusters/cluster_5.DE.GeneActivity.csv\"\n"
     ]
    },
    {
     "name": "stderr",
     "output_type": "stream",
     "text": [
      "'select()' returned 1:1 mapping between keys and columns\n",
      "\n"
     ]
    },
    {
     "name": "stdout",
     "output_type": "stream",
     "text": [
      "[1] \"/data2/isshamie/mito_lineage/output/annotation/run_vDataBeforeCorrupt/TcellDupi_may17_2021/DE/clusters/cluster_6.DE.GeneActivity.csv\"\n"
     ]
    },
    {
     "name": "stderr",
     "output_type": "stream",
     "text": [
      "'select()' returned 1:1 mapping between keys and columns\n",
      "\n"
     ]
    },
    {
     "name": "stdout",
     "output_type": "stream",
     "text": [
      "[1] \"/data2/isshamie/mito_lineage/output/annotation/run_vDataBeforeCorrupt/TcellDupi_may17_2021/DE/clusters/cluster_7.DE.GeneActivity.csv\"\n"
     ]
    },
    {
     "name": "stderr",
     "output_type": "stream",
     "text": [
      "'select()' returned 1:many mapping between keys and columns\n",
      "\n"
     ]
    },
    {
     "name": "stdout",
     "output_type": "stream",
     "text": [
      "[1] \"/data2/isshamie/mito_lineage/output/annotation/run_vDataBeforeCorrupt/TcellDupi_may17_2021/DE/clusters/cluster_8.DE.GeneActivity.csv\"\n"
     ]
    },
    {
     "name": "stderr",
     "output_type": "stream",
     "text": [
      "'select()' returned 1:many mapping between keys and columns\n",
      "\n"
     ]
    },
    {
     "name": "stdout",
     "output_type": "stream",
     "text": [
      "[1] \"/data2/isshamie/mito_lineage/output/annotation/run_vDataBeforeCorrupt/TcellDupi_may17_2021/DE/clusters/cluster_9.DE.GeneActivity.csv\"\n"
     ]
    },
    {
     "name": "stderr",
     "output_type": "stream",
     "text": [
      "'select()' returned 1:1 mapping between keys and columns\n",
      "\n"
     ]
    }
   ],
   "source": [
    "#for f in list.files(DE.path, pattern=\"*.csv\"){\n",
    "\n",
    "DE_files <- list.files(path = DE.out.path,pattern=\"*.csv\", full.names=TRUE)\n",
    "for(f in DE_files){\n",
    "    print(f)\n",
    "    curr <- read.csv(f)\n",
    "    \n",
    "    if (!(nrow(curr)==0)){\n",
    "        colnames(curr) <- c(\"Gene\",\"pvalue\",\"log2FoldChange\",\"pct.1\",\"pct.2\",\"padj\")\n",
    "        curr$ensg <- mapIds(org.Hs.eg.db,\n",
    "                    keys=curr$Gene, \n",
    "                    column=\"ENSEMBL\",\n",
    "                    keytype=\"SYMBOL\",\n",
    "                    multiVals=\"first\")\n",
    "        write.table(curr, file.path(DE.out.path, paste0(strsplit(basename(f), \".csv\")[[1]], \".tsv\")),quote = FALSE,\n",
    "                    row.names=FALSE, sep='\\t')\n",
    "    }\n",
    "    \n",
    "}"
   ]
  },
  {
   "cell_type": "code",
   "execution_count": 8,
   "id": "c641fe0f",
   "metadata": {
    "scrolled": true
   },
   "outputs": [
    {
     "name": "stdout",
     "output_type": "stream",
     "text": [
      "[1] \"Here we go .... :/data2/isshamie/mito_lineage/output/annotation/run_vDataBeforeCorrupt/TcellDupi_may17_2021/DE/clusters/cluster_0.DE.GeneActivity.tsv\"\n",
      "[1] \"pvalue\"         \"log2FoldChange\" \"pct.1\"          \"pct.2\"         \n",
      "[5] \"padj\"           \"ensg\"          \n",
      "[1] \"here\"\n",
      "[1] \"small\"\n",
      "[1] \"Here we go .... :/data2/isshamie/mito_lineage/output/annotation/run_vDataBeforeCorrupt/TcellDupi_may17_2021/DE/clusters/cluster_1.DE.GeneActivity.tsv\"\n",
      "[1] \"pvalue\"         \"log2FoldChange\" \"pct.1\"          \"pct.2\"         \n",
      "[5] \"padj\"           \"ensg\"          \n",
      "[1] \"here\"\n",
      "[1] \"small\"\n",
      "[1] \"Here we go .... :/data2/isshamie/mito_lineage/output/annotation/run_vDataBeforeCorrupt/TcellDupi_may17_2021/DE/clusters/cluster_10.DE.GeneActivity.tsv\"\n",
      "[1] \"pvalue\"         \"log2FoldChange\" \"pct.1\"          \"pct.2\"         \n",
      "[5] \"padj\"           \"ensg\"          \n",
      "[1] \"here\"\n"
     ]
    },
    {
     "name": "stderr",
     "output_type": "stream",
     "text": [
      "preparing geneSet collections...\n",
      "\n",
      "GSEA analysis...\n",
      "\n",
      "Warning message in preparePathwaysAndStats(pathways, stats, minSize, maxSize, gseaParam, :\n",
      "“There are ties in the preranked stats (0.07% of the list).\n",
      "The order of those tied genes will be arbitrary, which may produce unexpected results.”\n",
      "leading edge analysis...\n",
      "\n",
      "done...\n",
      "\n",
      "preparing geneSet collections...\n",
      "\n",
      "GSEA analysis...\n",
      "\n",
      "Warning message in preparePathwaysAndStats(pathways, stats, minSize, maxSize, gseaParam, :\n",
      "“There are ties in the preranked stats (0.07% of the list).\n",
      "The order of those tied genes will be arbitrary, which may produce unexpected results.”\n",
      "leading edge analysis...\n",
      "\n",
      "done...\n",
      "\n",
      "preparing geneSet collections...\n",
      "\n",
      "GSEA analysis...\n",
      "\n",
      "Warning message in preparePathwaysAndStats(pathways, stats, minSize, maxSize, gseaParam, :\n",
      "“There are ties in the preranked stats (0.07% of the list).\n",
      "The order of those tied genes will be arbitrary, which may produce unexpected results.”\n",
      "leading edge analysis...\n",
      "\n",
      "done...\n",
      "\n",
      "preparing geneSet collections...\n",
      "\n",
      "GSEA analysis...\n",
      "\n",
      "Warning message in preparePathwaysAndStats(pathways, stats, minSize, maxSize, gseaParam, :\n",
      "“There are ties in the preranked stats (0.07% of the list).\n",
      "The order of those tied genes will be arbitrary, which may produce unexpected results.”\n",
      "leading edge analysis...\n",
      "\n",
      "done...\n",
      "\n",
      "Warning message in is.na(egmt[[c]]):\n",
      "“is.na() applied to non-(list or vector) of type 'S4'”\n",
      "Warning message in summary(egmt[[c]]):\n",
      "“summary method to convert the object to data.frame is deprecated, please use as.data.frame instead.”\n",
      "Warning message in is.na(egmt[[c]]):\n",
      "“is.na() applied to non-(list or vector) of type 'S4'”\n",
      "Warning message in summary(egmt[[c]]):\n",
      "“summary method to convert the object to data.frame is deprecated, please use as.data.frame instead.”\n",
      "Warning message in is.na(egmt[[c]]):\n",
      "“is.na() applied to non-(list or vector) of type 'S4'”\n",
      "Warning message in summary(egmt[[c]]):\n",
      "“summary method to convert the object to data.frame is deprecated, please use as.data.frame instead.”\n",
      "Warning message in is.na(egmt[[c]]):\n",
      "“is.na() applied to non-(list or vector) of type 'S4'”\n",
      "Warning message in summary(egmt[[c]]):\n",
      "“summary method to convert the object to data.frame is deprecated, please use as.data.frame instead.”\n"
     ]
    },
    {
     "name": "stdout",
     "output_type": "stream",
     "text": [
      "[1] \"preExcel writing\"\n"
     ]
    },
    {
     "ename": "ERROR",
     "evalue": "Error in saveWorkbook(wb, file = file, overwrite = overwrite): File already exists!\n",
     "output_type": "error",
     "traceback": [
      "Error in saveWorkbook(wb, file = file, overwrite = overwrite): File already exists!\nTraceback:\n",
      "1. gsea_ex1(DE_out_path = DE.out.path, export_path = export.path, \n .     gene_name = gene_name, convert = convert, GSEA_set = GSEA_set, \n .     minGSSize = minGSSize, pAdjustMethod = pAdjustMethod, pvalueCutoff = pvalueCutoff, \n .     export = export, ShowTop = ShowTop, TopN = TopN)",
      "2. AnnotDEG_byGSEA(DEGTable = DEGTable, GSEA_set = GSEA_set, export = export, \n .     ShowTop = ShowTop, TopN = TopN, exportExcel_fp = exportExcel_fp, \n .     exportPDF_fp = exportPDF_fp, minGSSize = minGSSize, pAdjustMethod = pAdjustMethod, \n .     pvalueCutoff = pvalueCutoff)   # at line 59-65 of file <text>",
      "3. ExportExcel(out, exportExcel_fp)",
      "4. write.xlsx(out, file = exportExcel)",
      "5. saveWorkbook(wb, file = file, overwrite = overwrite)",
      "6. stop(\"File already exists!\")"
     ]
    }
   ],
   "source": [
    "#rm(list=ls())\n",
    "\n",
    "########################################################################################\n",
    "##  gsea_ex1\n",
    "#---------------------------------------------------------------------------------------\n",
    "#' @description This example is designed to demonstrate how to run gsea analysis on the \n",
    "#'              input files (DESeq2 results) put in the same directory\n",
    "#' @details All the parameter definitions is in the below section of \"Setting Parameter\"\n",
    "#' @return out a list that summarizes the GSEA enrichment analysis\n",
    "#' \n",
    "#' @export exportExcel_fp an excel file of the 'out' can be exported\n",
    "#' @export exportPDF_fp an figure of the GSEA enrichment analysis\n",
    "#' --------------------------------------------------------------------------------------------------\n",
    "#' @author Austin W.T. Chiang\n",
    "#' @note   v1.4 -- 2017.02.15 Add description of ex1, ex2, and idmapping file\n",
    "#' @note   v1.3 -- 2017.02.08 Add function of displaying topN pathways and optimze code\n",
    "#' @note   v1.2 -- 2017.02.06 Add zebrafish2 human id mapping\n",
    "#' @note   v1.1 -- 2017.01.19 Midified for BEN\n",
    "#' @note   v1.0 -- 2016.12.15 File created\n",
    "#' --------------------------------------------------------------------------------------------------\n",
    "########################################################################################\n",
    "gsea_ex1 <- function(DE_out_path = NULL, export_path = NULL,\n",
    "                     IDmappingfile = NULL, convert = FALSE,\n",
    "                     gene_name = TRUE, GSEA_set = c('c0', 'c2', 'c3'),\n",
    "                     minGSSize = 30, pAdjustMethod = \"none\",\n",
    "                     pvalueCutoff = 0.01, export = \"BOTH\",\n",
    "                     ShowTop = TRUE, TopN = 5){\n",
    "  DE_out_files <- list.files(path = DE_out_path,pattern=\"*.tsv\", full.names = TRUE)\n",
    "  for(f in DE_out_files){\n",
    "    print(paste0(\"Here we go .... :\", f))\n",
    "    #f <- \"res_geno_dobs_removed_C57BL6_J__M.tsv\"\n",
    "    ## Input the DESeq result file\n",
    "    myClass <- read.csv(f, row.names = 1,sep=\"\\t\")\n",
    "    if(convert == TRUE){\n",
    "      geneMapTable <- read.csv(IDmappingfile, sep = \"\\t\")\n",
    "      myClass <- useIDmappingFile(myClass=myClass,\n",
    "                                  geneMapTable=geneMapTable) #,\n",
    "                                  #Original_attribute=Original_attribute,\n",
    "                                 # Convert_attribute=Co nvert_attribute)\n",
    "    }\n",
    "    \n",
    "    #DEGTable <- subset(myClass, abs(log2FoldChange) >= .58 & (padj < 0.05) )\n",
    "    DEGTable <- subset(myClass, (padj < 0.1) )\n",
    "    DEGTable <- DEGTable[with(DEGTable, order(-log2FoldChange)), ]\n",
    "    print(colnames(DEGTable))\n",
    "    if(gene_name==TRUE){\n",
    "      DEGTable$Gene <- DEGTable$gene_name\n",
    "    }else{\n",
    "      print('here')\n",
    "      DEGTable$Gene <- row.names(DEGTable)\n",
    "    }\n",
    "\n",
    "    DEGTable <- DEGTable[,c(\"Gene\",\"log2FoldChange\")]\n",
    "    \n",
    "    ## do the GSEA analysis\n",
    "    f1 <- gsub(\".csv\", \"\", basename(f))\n",
    "    exportExcel_fp = paste0(export_path,f1,\"_gsea.xlsx\")\n",
    "    exportPDF_fp = paste0(export_path,f1,\"_gsea.pdf\")\n",
    "    GSEA_res <-  AnnotDEG_byGSEA(DEGTable = DEGTable, GSEA_set = GSEA_set,\n",
    "                                 export = export, ShowTop = ShowTop, TopN = TopN,\n",
    "                                 exportExcel_fp = exportExcel_fp,\n",
    "                                 exportPDF_fp = exportPDF_fp,\n",
    "                                 minGSSize = minGSSize, \n",
    "                                 pAdjustMethod = pAdjustMethod, \n",
    "                                 pvalueCutoff = pvalueCutoff)\n",
    "    \n",
    "  }\n",
    "}\n",
    "\n",
    "\n",
    "########################################################################################\n",
    "##  Setting Parameter\n",
    "########################################################################################\n",
    "#' @param DE_out_path the path of the DESeq2 output files \n",
    "#' @param export_path the path that user want to export the GSEA results\n",
    "#' @param convert 'TRUE': need to do id converion; 'FALSE': no id conversion needed  \n",
    "#' @param IDmappingfile the idmapping file show that user's id to human gene name\n",
    "#' @param gene_name 'TRUE': there is a columan \"gene_name\" in the input files (i.e. DESeq2 output files)\n",
    "#' @param GSEA_set = c('c0', 'c2', 'c3')\n",
    "#'                 co - hallmark gene sets;       c1 - positional gene sets; \n",
    "#'                 c2 - curated gene sets;        c3 - motif gene sets;\n",
    "#'                 c4 - computational gene sets;  c5 - GO gene sets;\n",
    "#'                 c6 - oncogenic signatures;     c7 - immunologic signatures. \n",
    "#'                 (http://software.broadinstitute.org/gsea/msigdb/collections.jsp#C2)\n",
    "#' @param minGSSize minimum size of genes for a specific GSEA gene set\n",
    "#' @param pAdjustMethod one of \"holm\", \"hochberg\", \"hommel\", \"bonferroni\", \"BH\", \"BY\", \"fdr\", \"none\"\n",
    "#' @param pvalueCutoff cutoff of pvalue in the GSEA enrichment analysis \n",
    "#' @param export option for exporting GSEA result: \"EXCEL\", \"PDF\", or \"BOTH\"\n",
    "#' @param ShowTop 'TRUE': the visualization will display only the top and bottom N gene sets; \n",
    "#'                'FALSE': all of the significant gsea gene sets will be displayed \n",
    "#'                        --> Note that: it is usually results in too many gene sets, which are not easy to see anything    \n",
    "#' @param TopN this parameter indicate how many gene sets need to be displayed in the plots\n",
    "########################################################################################\n",
    "\n",
    "# DE_out_path <- DE.out.path\n",
    "# export_path <- \n",
    "#IDmappingfile <- \"\" #\"mouse2human.txt\" #\"Data/zebrafish2human_idmapping.txt\"\n",
    "convert = FALSE\n",
    "gene_name = FALSE \n",
    "GSEA_set = c('c0', 'c2', 'c5', 'c7')\n",
    "minGSSize = 10 #20 #30\n",
    "pAdjustMethod = \"none\"\n",
    "pvalueCutoff = 0.1\n",
    "export = \"BOTH\"\n",
    "ShowTop = TRUE \n",
    "TopN = 10\n",
    "\n",
    "\n",
    "########################################################################################\n",
    "##  RUN gsea_ex1\n",
    "########################################################################################\n",
    "gsea_ex1(DE_out_path = DE.out.path, export_path = export.path, gene_name = gene_name,\n",
    "         convert = convert, GSEA_set = GSEA_set, minGSSize = minGSSize,\n",
    "         pAdjustMethod = pAdjustMethod,  pvalueCutoff = pvalueCutoff,\n",
    "         export = export, ShowTop = ShowTop,   \n",
    "         TopN = TopN)"
   ]
  }
 ],
 "metadata": {
  "celltoolbar": "Tags",
  "kernelspec": {
   "display_name": "R",
   "language": "R",
   "name": "ir"
  },
  "language_info": {
   "codemirror_mode": "r",
   "file_extension": ".r",
   "mimetype": "text/x-r-source",
   "name": "R",
   "pygments_lexer": "r",
   "version": "4.1.1"
  }
 },
 "nbformat": 4,
 "nbformat_minor": 5
}
