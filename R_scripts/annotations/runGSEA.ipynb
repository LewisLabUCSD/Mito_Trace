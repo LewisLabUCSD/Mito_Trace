{
 "cells": [
  {
   "cell_type": "code",
   "execution_count": 1,
   "id": "41fdb08b",
   "metadata": {
    "tags": [
     "parameters"
    ]
   },
   "outputs": [],
   "source": [
    "# gsea_dir = \"/data2/mito_lineage/software/Bioinformatics_Tools/\"\n",
    "# DE.out.path = \"/data2/mito_lineage/output/annotation/data/Lareau_2020/MTblacklist/mergedSamples/DE/clusters\"\n",
    "# export.path = \"/data2/mito_lineage/output/annotation/data/Lareau_2020/MTblacklist/mergedSamples/DE/GSEA/\"\n",
    "\n",
    "DE.out.path =\"/home/isshamie/data/Projects/Mito_Trace/output/annotation/data/CHIP_nameFix_april08_2021/MTblacklist/mergedSamples/DE/clusters\"\n",
    "export.path = \"/home/isshamie/data/Projects/Mito_Trace/output/annotation/data/CHIP_nameFix_april08_2021/MTblacklist/mergedSamples/DE/GSEA/clusters/\"\n",
    "gsea_dir = \"/mnt/md0/isshamie/Projects/Mito_Trace/software/Bioinformatics_Tools/\" "
   ]
  },
  {
   "cell_type": "code",
   "execution_count": 2,
   "id": "ea4fc8d1",
   "metadata": {
    "scrolled": true
   },
   "outputs": [
    {
     "name": "stderr",
     "output_type": "stream",
     "text": [
      "Loading required package: stats4\n",
      "\n",
      "Loading required package: BiocGenerics\n",
      "\n",
      "\n",
      "Attaching package: ‘BiocGenerics’\n",
      "\n",
      "\n",
      "The following objects are masked from ‘package:stats’:\n",
      "\n",
      "    IQR, mad, sd, var, xtabs\n",
      "\n",
      "\n",
      "The following objects are masked from ‘package:base’:\n",
      "\n",
      "    anyDuplicated, append, as.data.frame, basename, cbind, colnames,\n",
      "    dirname, do.call, duplicated, eval, evalq, Filter, Find, get, grep,\n",
      "    grepl, intersect, is.unsorted, lapply, Map, mapply, match, mget,\n",
      "    order, paste, pmax, pmax.int, pmin, pmin.int, Position, rank,\n",
      "    rbind, Reduce, rownames, sapply, setdiff, sort, table, tapply,\n",
      "    union, unique, unsplit, which.max, which.min\n",
      "\n",
      "\n",
      "Loading required package: Biobase\n",
      "\n",
      "Welcome to Bioconductor\n",
      "\n",
      "    Vignettes contain introductory material; view with\n",
      "    'browseVignettes()'. To cite Bioconductor, see\n",
      "    'citation(\"Biobase\")', and for packages 'citation(\"pkgname\")'.\n",
      "\n",
      "\n",
      "Loading required package: IRanges\n",
      "\n",
      "Loading required package: S4Vectors\n",
      "\n",
      "\n",
      "Attaching package: ‘S4Vectors’\n",
      "\n",
      "\n",
      "The following objects are masked from ‘package:base’:\n",
      "\n",
      "    expand.grid, I, unname\n",
      "\n",
      "\n",
      "\n",
      "\n",
      "Loading required package: GenomicFeatures\n",
      "\n",
      "Loading required package: GenomeInfoDb\n",
      "\n",
      "Loading required package: GenomicRanges\n",
      "\n"
     ]
    }
   ],
   "source": [
    "library(\"AnnotationDbi\")\n",
    "library(\"org.Hs.eg.db\")\n",
    "library(TxDb.Hsapiens.UCSC.hg38.knownGene)"
   ]
  },
  {
   "cell_type": "code",
   "execution_count": 3,
   "id": "86bdaa67",
   "metadata": {},
   "outputs": [
    {
     "name": "stderr",
     "output_type": "stream",
     "text": [
      "Warning message in dir.create(DE.out.path):\n",
      "“'/home/isshamie/data/Projects/Mito_Trace/output/annotation/data/CHIP_nameFix_april08_2021/MTblacklist/mergedSamples/DE/clusters' already exists”\n"
     ]
    }
   ],
   "source": [
    "dir.create(DE.out.path)"
   ]
  },
  {
   "cell_type": "code",
   "execution_count": 4,
   "id": "31b02f19",
   "metadata": {
    "scrolled": true
   },
   "outputs": [
    {
     "name": "stderr",
     "output_type": "stream",
     "text": [
      "Loading required package: annotate\n",
      "\n",
      "Loading required package: XML\n",
      "\n",
      "Loading required package: graph\n",
      "\n",
      "\n",
      "Attaching package: ‘graph’\n",
      "\n",
      "\n",
      "The following object is masked from ‘package:XML’:\n",
      "\n",
      "    addNode\n",
      "\n",
      "\n",
      "\n",
      "Attaching package: ‘stringr’\n",
      "\n",
      "\n",
      "The following object is masked from ‘package:graph’:\n",
      "\n",
      "    boundary\n",
      "\n",
      "\n",
      "\n",
      "\n",
      "clusterProfiler v4.2.0  For help: https://yulab-smu.top/biomedical-knowledge-mining-book/\n",
      "\n",
      "If you use clusterProfiler in published research, please cite:\n",
      "T Wu, E Hu, S Xu, M Chen, P Guo, Z Dai, T Feng, L Zhou, W Tang, L Zhan, X Fu, S Liu, X Bo, and G Yu. clusterProfiler 4.0: A universal enrichment tool for interpreting omics data. The Innovation. 2021, 2(3):100141\n",
      "\n",
      "\n",
      "Attaching package: ‘clusterProfiler’\n",
      "\n",
      "\n",
      "The following object is masked from ‘package:AnnotationDbi’:\n",
      "\n",
      "    select\n",
      "\n",
      "\n",
      "The following object is masked from ‘package:IRanges’:\n",
      "\n",
      "    slice\n",
      "\n",
      "\n",
      "The following object is masked from ‘package:S4Vectors’:\n",
      "\n",
      "    rename\n",
      "\n",
      "\n",
      "The following object is masked from ‘package:stats’:\n",
      "\n",
      "    filter\n",
      "\n",
      "\n",
      "gdata: read.xls support for 'XLS' (Excel 97-2004) files ENABLED.\n",
      "\n",
      "\n",
      "\n",
      "gdata: Unable to load perl libaries needed by read.xls()\n",
      "gdata: to support 'XLSX' (Excel 2007+) files.\n",
      "\n",
      "\n",
      "\n",
      "gdata: Run the function 'installXLSXsupport()'\n",
      "gdata: to automatically download and install the perl\n",
      "gdata: libaries needed to support Excel XLS and XLSX formats.\n",
      "\n",
      "\n",
      "Attaching package: ‘gdata’\n",
      "\n",
      "\n",
      "The following object is masked from ‘package:GenomicRanges’:\n",
      "\n",
      "    trim\n",
      "\n",
      "\n",
      "The following objects are masked from ‘package:IRanges’:\n",
      "\n",
      "    startsWith, trim\n",
      "\n",
      "\n",
      "The following objects are masked from ‘package:S4Vectors’:\n",
      "\n",
      "    first, first<-\n",
      "\n",
      "\n",
      "The following object is masked from ‘package:Biobase’:\n",
      "\n",
      "    combine\n",
      "\n",
      "\n",
      "The following object is masked from ‘package:BiocGenerics’:\n",
      "\n",
      "    combine\n",
      "\n",
      "\n",
      "The following object is masked from ‘package:stats4’:\n",
      "\n",
      "    nobs\n",
      "\n",
      "\n",
      "The following object is masked from ‘package:stats’:\n",
      "\n",
      "    nobs\n",
      "\n",
      "\n",
      "The following object is masked from ‘package:utils’:\n",
      "\n",
      "    object.size\n",
      "\n",
      "\n",
      "The following object is masked from ‘package:base’:\n",
      "\n",
      "    startsWith\n",
      "\n",
      "\n",
      "\n",
      "Attaching package: ‘data.table’\n",
      "\n",
      "\n",
      "The following objects are masked from ‘package:gdata’:\n",
      "\n",
      "    first, last\n",
      "\n",
      "\n",
      "The following object is masked from ‘package:GenomicRanges’:\n",
      "\n",
      "    shift\n",
      "\n",
      "\n",
      "The following object is masked from ‘package:IRanges’:\n",
      "\n",
      "    shift\n",
      "\n",
      "\n",
      "The following objects are masked from ‘package:S4Vectors’:\n",
      "\n",
      "    first, second\n",
      "\n",
      "\n",
      "DOSE v3.20.0  For help: https://yulab-smu.top/biomedical-knowledge-mining-book/\n",
      "\n",
      "If you use DOSE in published research, please cite:\n",
      "Guangchuang Yu, Li-Gen Wang, Guang-Rong Yan, Qing-Yu He. DOSE: an R/Bioconductor package for Disease Ontology Semantic and Enrichment analysis. Bioinformatics 2015, 31(4):608-609\n",
      "\n",
      "\n"
     ]
    }
   ],
   "source": [
    "source(paste0(gsea_dir,'R/Gsea.R'))"
   ]
  },
  {
   "cell_type": "code",
   "execution_count": 5,
   "id": "895b2b55",
   "metadata": {},
   "outputs": [],
   "source": [
    "cols.prior <- c(\"Gene\",\"baseMean\",\"log2FoldChange\",\"lfcSE\",\"stat\",\"pvalue\",\"padj\")\n",
    "cols.needed <- c(\"Gene\",\"log2FoldChange\")\n",
    "cols.curr <- c(\"X\",\"p_val\",\"avg_log2FC\",\"pct.1\",\"pct.2\",\"p_val_adj\") #first col is empty in csv"
   ]
  },
  {
   "cell_type": "code",
   "execution_count": 6,
   "id": "541f8ea4",
   "metadata": {
    "scrolled": true
   },
   "outputs": [
    {
     "name": "stdout",
     "output_type": "stream",
     "text": [
      "[1] \"/home/isshamie/data/Projects/Mito_Trace/output/annotation/data/CHIP_nameFix_april08_2021/MTblacklist/mergedSamples/DE/clusters/cluster_0.DE.GeneActivity.csv\"\n"
     ]
    },
    {
     "name": "stderr",
     "output_type": "stream",
     "text": [
      "'select()' returned 1:many mapping between keys and columns\n",
      "\n"
     ]
    },
    {
     "name": "stdout",
     "output_type": "stream",
     "text": [
      "[1] \"/home/isshamie/data/Projects/Mito_Trace/output/annotation/data/CHIP_nameFix_april08_2021/MTblacklist/mergedSamples/DE/clusters/cluster_1.DE.GeneActivity.csv\"\n"
     ]
    },
    {
     "name": "stderr",
     "output_type": "stream",
     "text": [
      "'select()' returned 1:many mapping between keys and columns\n",
      "\n"
     ]
    },
    {
     "name": "stdout",
     "output_type": "stream",
     "text": [
      "[1] \"/home/isshamie/data/Projects/Mito_Trace/output/annotation/data/CHIP_nameFix_april08_2021/MTblacklist/mergedSamples/DE/clusters/cluster_10.DE.GeneActivity.csv\"\n"
     ]
    },
    {
     "name": "stderr",
     "output_type": "stream",
     "text": [
      "'select()' returned 1:1 mapping between keys and columns\n",
      "\n"
     ]
    },
    {
     "name": "stdout",
     "output_type": "stream",
     "text": [
      "[1] \"/home/isshamie/data/Projects/Mito_Trace/output/annotation/data/CHIP_nameFix_april08_2021/MTblacklist/mergedSamples/DE/clusters/cluster_11.DE.GeneActivity.csv\"\n"
     ]
    },
    {
     "name": "stderr",
     "output_type": "stream",
     "text": [
      "'select()' returned 1:many mapping between keys and columns\n",
      "\n"
     ]
    },
    {
     "name": "stdout",
     "output_type": "stream",
     "text": [
      "[1] \"/home/isshamie/data/Projects/Mito_Trace/output/annotation/data/CHIP_nameFix_april08_2021/MTblacklist/mergedSamples/DE/clusters/cluster_12.DE.GeneActivity.csv\"\n"
     ]
    },
    {
     "name": "stderr",
     "output_type": "stream",
     "text": [
      "'select()' returned 1:many mapping between keys and columns\n",
      "\n"
     ]
    },
    {
     "name": "stdout",
     "output_type": "stream",
     "text": [
      "[1] \"/home/isshamie/data/Projects/Mito_Trace/output/annotation/data/CHIP_nameFix_april08_2021/MTblacklist/mergedSamples/DE/clusters/cluster_13.DE.GeneActivity.csv\"\n"
     ]
    },
    {
     "name": "stderr",
     "output_type": "stream",
     "text": [
      "'select()' returned 1:many mapping between keys and columns\n",
      "\n"
     ]
    },
    {
     "name": "stdout",
     "output_type": "stream",
     "text": [
      "[1] \"/home/isshamie/data/Projects/Mito_Trace/output/annotation/data/CHIP_nameFix_april08_2021/MTblacklist/mergedSamples/DE/clusters/cluster_14.DE.GeneActivity.csv\"\n"
     ]
    },
    {
     "name": "stderr",
     "output_type": "stream",
     "text": [
      "'select()' returned 1:many mapping between keys and columns\n",
      "\n"
     ]
    },
    {
     "name": "stdout",
     "output_type": "stream",
     "text": [
      "[1] \"/home/isshamie/data/Projects/Mito_Trace/output/annotation/data/CHIP_nameFix_april08_2021/MTblacklist/mergedSamples/DE/clusters/cluster_15.DE.GeneActivity.csv\"\n"
     ]
    },
    {
     "name": "stderr",
     "output_type": "stream",
     "text": [
      "'select()' returned 1:many mapping between keys and columns\n",
      "\n"
     ]
    },
    {
     "name": "stdout",
     "output_type": "stream",
     "text": [
      "[1] \"/home/isshamie/data/Projects/Mito_Trace/output/annotation/data/CHIP_nameFix_april08_2021/MTblacklist/mergedSamples/DE/clusters/cluster_2.DE.GeneActivity.csv\"\n"
     ]
    },
    {
     "name": "stderr",
     "output_type": "stream",
     "text": [
      "'select()' returned 1:many mapping between keys and columns\n",
      "\n"
     ]
    },
    {
     "name": "stdout",
     "output_type": "stream",
     "text": [
      "[1] \"/home/isshamie/data/Projects/Mito_Trace/output/annotation/data/CHIP_nameFix_april08_2021/MTblacklist/mergedSamples/DE/clusters/cluster_3.DE.GeneActivity.csv\"\n"
     ]
    },
    {
     "name": "stderr",
     "output_type": "stream",
     "text": [
      "'select()' returned 1:many mapping between keys and columns\n",
      "\n"
     ]
    },
    {
     "name": "stdout",
     "output_type": "stream",
     "text": [
      "[1] \"/home/isshamie/data/Projects/Mito_Trace/output/annotation/data/CHIP_nameFix_april08_2021/MTblacklist/mergedSamples/DE/clusters/cluster_4.DE.GeneActivity.csv\"\n"
     ]
    },
    {
     "name": "stderr",
     "output_type": "stream",
     "text": [
      "'select()' returned 1:1 mapping between keys and columns\n",
      "\n"
     ]
    },
    {
     "name": "stdout",
     "output_type": "stream",
     "text": [
      "[1] \"/home/isshamie/data/Projects/Mito_Trace/output/annotation/data/CHIP_nameFix_april08_2021/MTblacklist/mergedSamples/DE/clusters/cluster_5.DE.GeneActivity.csv\"\n"
     ]
    },
    {
     "name": "stderr",
     "output_type": "stream",
     "text": [
      "'select()' returned 1:many mapping between keys and columns\n",
      "\n"
     ]
    },
    {
     "name": "stdout",
     "output_type": "stream",
     "text": [
      "[1] \"/home/isshamie/data/Projects/Mito_Trace/output/annotation/data/CHIP_nameFix_april08_2021/MTblacklist/mergedSamples/DE/clusters/cluster_6.DE.GeneActivity.csv\"\n"
     ]
    },
    {
     "name": "stderr",
     "output_type": "stream",
     "text": [
      "'select()' returned 1:many mapping between keys and columns\n",
      "\n"
     ]
    },
    {
     "name": "stdout",
     "output_type": "stream",
     "text": [
      "[1] \"/home/isshamie/data/Projects/Mito_Trace/output/annotation/data/CHIP_nameFix_april08_2021/MTblacklist/mergedSamples/DE/clusters/cluster_7.DE.GeneActivity.csv\"\n"
     ]
    },
    {
     "name": "stderr",
     "output_type": "stream",
     "text": [
      "'select()' returned 1:many mapping between keys and columns\n",
      "\n"
     ]
    },
    {
     "name": "stdout",
     "output_type": "stream",
     "text": [
      "[1] \"/home/isshamie/data/Projects/Mito_Trace/output/annotation/data/CHIP_nameFix_april08_2021/MTblacklist/mergedSamples/DE/clusters/cluster_8.DE.GeneActivity.csv\"\n"
     ]
    },
    {
     "name": "stderr",
     "output_type": "stream",
     "text": [
      "'select()' returned 1:many mapping between keys and columns\n",
      "\n"
     ]
    },
    {
     "name": "stdout",
     "output_type": "stream",
     "text": [
      "[1] \"/home/isshamie/data/Projects/Mito_Trace/output/annotation/data/CHIP_nameFix_april08_2021/MTblacklist/mergedSamples/DE/clusters/cluster_9.DE.GeneActivity.csv\"\n"
     ]
    },
    {
     "name": "stderr",
     "output_type": "stream",
     "text": [
      "'select()' returned 1:many mapping between keys and columns\n",
      "\n"
     ]
    }
   ],
   "source": [
    "#for f in list.files(DE.path, pattern=\"*.csv\"){\n",
    "\n",
    "DE_files <- list.files(path = DE.out.path,pattern=\"*.csv\", full.names=TRUE)\n",
    "for(f in DE_files){\n",
    "    print(f)\n",
    "    curr <- read.csv(f)\n",
    "    \n",
    "    if (!(nrow(curr)==0)){\n",
    "        colnames(curr) <- c(\"Gene\",\"pvalue\",\"log2FoldChange\",\"pct.1\",\"pct.2\",\"padj\")\n",
    "        curr$ensg <- mapIds(org.Hs.eg.db,\n",
    "                    keys=curr$Gene, \n",
    "                    column=\"ENSEMBL\",\n",
    "                    keytype=\"SYMBOL\",\n",
    "                    multiVals=\"first\")\n",
    "        write.table(curr, file.path(DE.out.path, paste0(strsplit(basename(f), \".csv\")[[1]], \".tsv\")),quote = FALSE,\n",
    "                    row.names=FALSE, sep='\\t')\n",
    "    }\n",
    "    \n",
    "}"
   ]
  },
  {
   "cell_type": "code",
   "execution_count": 7,
   "id": "c641fe0f",
   "metadata": {
    "scrolled": true
   },
   "outputs": [
    {
     "name": "stdout",
     "output_type": "stream",
     "text": [
      "[1] \"Here we go .... :/home/isshamie/data/Projects/Mito_Trace/output/annotation/data/CHIP_nameFix_april08_2021/MTblacklist/mergedSamples/DE/clusters/cluster_0.DE.GeneActivity.tsv\"\n",
      "[1] \"pvalue\"         \"log2FoldChange\" \"pct.1\"          \"pct.2\"         \n",
      "[5] \"padj\"           \"ensg\"          \n",
      "[1] \"here\"\n",
      "[1] \"small\"\n",
      "[1] \"Here we go .... :/home/isshamie/data/Projects/Mito_Trace/output/annotation/data/CHIP_nameFix_april08_2021/MTblacklist/mergedSamples/DE/clusters/cluster_1.DE.GeneActivity.tsv\"\n",
      "[1] \"pvalue\"         \"log2FoldChange\" \"pct.1\"          \"pct.2\"         \n",
      "[5] \"padj\"           \"ensg\"          \n",
      "[1] \"here\"\n"
     ]
    },
    {
     "name": "stderr",
     "output_type": "stream",
     "text": [
      "Warning message in file(con, \"r\"):\n",
      "“cannot open file '/home/isshamie/software/Bioinformatics_Tools/msigdb_v5.1_GMTs/c0.all.v5.1.symbols.gmt': No such file or directory”\n"
     ]
    },
    {
     "ename": "ERROR",
     "evalue": "Error in file(con, \"r\"): cannot open the connection\n",
     "output_type": "error",
     "traceback": [
      "Error in file(con, \"r\"): cannot open the connection\nTraceback:\n",
      "1. gsea_ex1(DE_out_path = DE.out.path, export_path = export.path, \n .     gene_name = gene_name, convert = convert, GSEA_set = GSEA_set, \n .     minGSSize = minGSSize, pAdjustMethod = pAdjustMethod, pvalueCutoff = pvalueCutoff, \n .     export = export, ShowTop = ShowTop, TopN = TopN)",
      "2. AnnotDEG_byGSEA(DEGTable = DEGTable, GSEA_set = GSEA_set, export = export, \n .     ShowTop = ShowTop, TopN = TopN, exportExcel_fp = exportExcel_fp, \n .     exportPDF_fp = exportPDF_fp, minGSSize = minGSSize, pAdjustMethod = pAdjustMethod, \n .     pvalueCutoff = pvalueCutoff)   # at line 59-65 of file <text>",
      "3. read.gmt(gmtfile_name)",
      "4. getGmt(con = gmtfile)",
      "5. strsplit(readLines(con, ...), sep)",
      "6. readLines(con, ...)",
      "7. file(con, \"r\")"
     ]
    }
   ],
   "source": [
    "#rm(list=ls())\n",
    "\n",
    "########################################################################################\n",
    "##  gsea_ex1\n",
    "#---------------------------------------------------------------------------------------\n",
    "#' @description This example is designed to demonstrate how to run gsea analysis on the \n",
    "#'              input files (DESeq2 results) put in the same directory\n",
    "#' @details All the parameter definitions is in the below section of \"Setting Parameter\"\n",
    "#' @return out a list that summarizes the GSEA enrichment analysis\n",
    "#' \n",
    "#' @export exportExcel_fp an excel file of the 'out' can be exported\n",
    "#' @export exportPDF_fp an figure of the GSEA enrichment analysis\n",
    "#' --------------------------------------------------------------------------------------------------\n",
    "#' @author Austin W.T. Chiang\n",
    "#' @note   v1.4 -- 2017.02.15 Add description of ex1, ex2, and idmapping file\n",
    "#' @note   v1.3 -- 2017.02.08 Add function of displaying topN pathways and optimze code\n",
    "#' @note   v1.2 -- 2017.02.06 Add zebrafish2 human id mapping\n",
    "#' @note   v1.1 -- 2017.01.19 Midified for BEN\n",
    "#' @note   v1.0 -- 2016.12.15 File created\n",
    "#' --------------------------------------------------------------------------------------------------\n",
    "########################################################################################\n",
    "gsea_ex1 <- function(DE_out_path = NULL, export_path = NULL,\n",
    "                     IDmappingfile = NULL, convert = FALSE,\n",
    "                     gene_name = TRUE, GSEA_set = c('c0', 'c2', 'c3'),\n",
    "                     minGSSize = 30, pAdjustMethod = \"none\",\n",
    "                     pvalueCutoff = 0.01, export = \"BOTH\",\n",
    "                     ShowTop = TRUE, TopN = 5, gene_sets_dir=NULL){\n",
    "  DE_out_files <- list.files(path = DE_out_path,pattern=\"*.tsv\", full.names = TRUE)\n",
    "  for(f in DE_out_files){\n",
    "    print(paste0(\"Here we go .... :\", f))\n",
    "    #f <- \"res_geno_dobs_removed_C57BL6_J__M.tsv\"\n",
    "    ## Input the DESeq result file\n",
    "    myClass <- read.csv(f, row.names = 1,sep=\"\\t\")\n",
    "    if(convert == TRUE){\n",
    "      geneMapTable <- read.csv(IDmappingfile, sep = \"\\t\")\n",
    "      myClass <- useIDmappingFile(myClass=myClass,\n",
    "                                  geneMapTable=geneMapTable) #,\n",
    "                                  #Original_attribute=Original_attribute,\n",
    "                                 # Convert_attribute=Co nvert_attribute)\n",
    "    }\n",
    "    \n",
    "    #DEGTable <- subset(myClass, abs(log2FoldChange) >= .58 & (padj < 0.05) )\n",
    "    DEGTable <- subset(myClass, (padj < 0.1) )\n",
    "    DEGTable <- DEGTable[with(DEGTable, order(-log2FoldChange)), ]\n",
    "    print(colnames(DEGTable))\n",
    "    if(gene_name==TRUE){\n",
    "      DEGTable$Gene <- DEGTable$gene_name\n",
    "    }else{\n",
    "      print('here')\n",
    "      DEGTable$Gene <- row.names(DEGTable)\n",
    "    }\n",
    "\n",
    "    DEGTable <- DEGTable[,c(\"Gene\",\"log2FoldChange\")]\n",
    "    \n",
    "    ## do the GSEA analysis\n",
    "    f1 <- gsub(\".csv\", \"\", basename(f))\n",
    "    exportExcel_fp = paste0(export_path,f1,\"_gsea.xlsx\")\n",
    "    exportPDF_fp = paste0(export_path,f1,\"_gsea.pdf\")\n",
    "    GSEA_res <-  AnnotDEG_byGSEA(DEGTable = DEGTable, GSEA_set = GSEA_set,\n",
    "                                 export = export, ShowTop = ShowTop, TopN = TopN,\n",
    "                                 exportExcel_fp = exportExcel_fp,\n",
    "                                 exportPDF_fp = exportPDF_fp,\n",
    "                                 minGSSize = minGSSize, \n",
    "                                 pAdjustMethod = pAdjustMethod, \n",
    "                                 pvalueCutoff = pvalueCutoff, gene_sets_dir = gene_sets_dir)\n",
    "    \n",
    "  }\n",
    "}\n",
    "\n",
    "\n",
    "########################################################################################\n",
    "##  Setting Parameter\n",
    "########################################################################################\n",
    "#' @param DE_out_path the path of the DESeq2 output files \n",
    "#' @param export_path the path that user want to export the GSEA results\n",
    "#' @param convert 'TRUE': need to do id converion; 'FALSE': no id conversion needed  \n",
    "#' @param IDmappingfile the idmapping file show that user's id to human gene name\n",
    "#' @param gene_name 'TRUE': there is a columan \"gene_name\" in the input files (i.e. DESeq2 output files)\n",
    "#' @param GSEA_set = c('c0', 'c2', 'c3')\n",
    "#'                 co - hallmark gene sets;       c1 - positional gene sets; \n",
    "#'                 c2 - curated gene sets;        c3 - motif gene sets;\n",
    "#'                 c4 - computational gene sets;  c5 - GO gene sets;\n",
    "#'                 c6 - oncogenic signatures;     c7 - immunologic signatures. \n",
    "#'                 (http://software.broadinstitute.org/gsea/msigdb/collections.jsp#C2)\n",
    "#' @param minGSSize minimum size of genes for a specific GSEA gene set\n",
    "#' @param pAdjustMethod one of \"holm\", \"hochberg\", \"hommel\", \"bonferroni\", \"BH\", \"BY\", \"fdr\", \"none\"\n",
    "#' @param pvalueCutoff cutoff of pvalue in the GSEA enrichment analysis \n",
    "#' @param export option for exporting GSEA result: \"EXCEL\", \"PDF\", or \"BOTH\"\n",
    "#' @param ShowTop 'TRUE': the visualization will display only the top and bottom N gene sets; \n",
    "#'                'FALSE': all of the significant gsea gene sets will be displayed \n",
    "#'                        --> Note that: it is usually results in too many gene sets, which are not easy to see anything    \n",
    "#' @param TopN this parameter indicate how many gene sets need to be displayed in the plots\n",
    "########################################################################################\n",
    "\n",
    "# DE_out_path <- DE.out.path\n",
    "# export_path <- \n",
    "#IDmappingfile <- \"\" #\"mouse2human.txt\" #\"Data/zebrafish2human_idmapping.txt\"\n",
    "convert = FALSE\n",
    "gene_name = FALSE \n",
    "GSEA_set = c('c0', 'c2', 'c5', 'c7')\n",
    "minGSSize = 10 #20 #30\n",
    "pAdjustMethod = \"none\"\n",
    "pvalueCutoff = 0.1\n",
    "export = \"BOTH\"\n",
    "ShowTop = TRUE \n",
    "TopN = 10\n",
    "\n",
    "\n",
    "########################################################################################\n",
    "##  RUN gsea_ex1\n",
    "########################################################################################\n",
    "gsea_ex1(DE_out_path = DE.out.path, export_path = export.path, gene_name = gene_name,\n",
    "         convert = convert, GSEA_set = GSEA_set, minGSSize = minGSSize,\n",
    "         pAdjustMethod = pAdjustMethod,  pvalueCutoff = pvalueCutoff,\n",
    "         export = export, ShowTop = ShowTop,   \n",
    "         TopN = TopN, gene_sets_dir=gsea_dir)"
   ]
  },
  {
   "cell_type": "code",
   "execution_count": null,
   "id": "c8624952",
   "metadata": {},
   "outputs": [],
   "source": [
    "export.path"
   ]
  },
  {
   "cell_type": "code",
   "execution_count": null,
   "id": "686d6487",
   "metadata": {},
   "outputs": [],
   "source": []
  },
  {
   "cell_type": "markdown",
   "id": "d0c01837",
   "metadata": {},
   "source": [
    "### "
   ]
  }
 ],
 "metadata": {
  "celltoolbar": "Tags",
  "kernelspec": {
   "display_name": "R",
   "language": "R",
   "name": "ir"
  },
  "language_info": {
   "codemirror_mode": "r",
   "file_extension": ".r",
   "mimetype": "text/x-r-source",
   "name": "R",
   "pygments_lexer": "r",
   "version": "4.1.1"
  }
 },
 "nbformat": 4,
 "nbformat_minor": 5
}
