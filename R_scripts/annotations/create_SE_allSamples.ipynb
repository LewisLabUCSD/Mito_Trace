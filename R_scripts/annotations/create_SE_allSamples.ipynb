{
 "cells": [
  {
   "cell_type": "markdown",
   "id": "223d6f46",
   "metadata": {},
   "source": [
    "## Creates binarized Seurat objects, and merges them and finds Top Features (min.cutoff=20)"
   ]
  },
  {
   "cell_type": "code",
   "execution_count": 1,
   "id": "235ae72f",
   "metadata": {},
   "outputs": [],
   "source": [
    "# Input info\n",
    "cellr_in <- \"/data2/isshamie/mito_lineage/data/processed/mtscATAC/jan21_2021/MTblacklist/\"\n",
    "samples <- \"J2,P2\"\n",
    "sample_names <- \"Flt3,Ctrl\"\n",
    "\n",
    "# External\n",
    "external_dat_dir <- \"/data2/mito_lineage/Analysis/annotation/output/data/granja_cd34\"\n",
    "external_frag_file <- \"granja_cd34.fragments.tsv\"\n",
    "external_prefix <- \"GSE129785_scATAC-Hematopoiesis-CD34\"\n",
    "external_dat_file <- \"granja_10X_CD34.rds\"\n",
    "\n",
    "# Saving\n",
    "outdir <- \"/data2/mito_lineage/Analysis/output/data/processed/mttrace/jan21_2021/MTblacklist/\" #\"/data2/mito_lineage/Analysis/annotation/output/data/\"\n",
    "\n",
    "# Parameters\n",
    "nTop = 25000"
   ]
  },
  {
   "cell_type": "code",
   "execution_count": null,
   "id": "c42dbb18",
   "metadata": {},
   "outputs": [],
   "source": []
  },
  {
   "cell_type": "code",
   "execution_count": 2,
   "id": "c2c99fc4",
   "metadata": {},
   "outputs": [
    {
     "data": {
      "text/html": [
       "<style>\n",
       ".list-inline {list-style: none; margin:0; padding: 0}\n",
       ".list-inline>li {display: inline-block}\n",
       ".list-inline>li:not(:last-child)::after {content: \"\\00b7\"; padding: 0 .5ex}\n",
       "</style>\n",
       "<ol class=list-inline><li>'J2'</li><li>'P2'</li></ol>\n"
      ],
      "text/latex": [
       "\\begin{enumerate*}\n",
       "\\item 'J2'\n",
       "\\item 'P2'\n",
       "\\end{enumerate*}\n"
      ],
      "text/markdown": [
       "1. 'J2'\n",
       "2. 'P2'\n",
       "\n",
       "\n"
      ],
      "text/plain": [
       "[1] \"J2\" \"P2\""
      ]
     },
     "metadata": {},
     "output_type": "display_data"
    }
   ],
   "source": [
    "samples <- unlist(strsplit(samples, \",\")[[1]])\n",
    "sample_names <- strsplit(sample_names, \",\")\n",
    "\n",
    "samples"
   ]
  },
  {
   "cell_type": "code",
   "execution_count": 3,
   "id": "813c5216",
   "metadata": {},
   "outputs": [
    {
     "data": {
      "text/html": [
       "'/data2/mito_lineage/Analysis/annotation/output/data/granja_cd34/granja_cd34.fragments.tsv'"
      ],
      "text/latex": [
       "'/data2/mito\\_lineage/Analysis/annotation/output/data/granja\\_cd34/granja\\_cd34.fragments.tsv'"
      ],
      "text/markdown": [
       "'/data2/mito_lineage/Analysis/annotation/output/data/granja_cd34/granja_cd34.fragments.tsv'"
      ],
      "text/plain": [
       "[1] \"/data2/mito_lineage/Analysis/annotation/output/data/granja_cd34/granja_cd34.fragments.tsv\""
      ]
     },
     "metadata": {},
     "output_type": "display_data"
    }
   ],
   "source": [
    "external_frag_full <- file.path(external_dat_dir, external_frag_file)\n",
    "ext_frag_file <- gsub('.fragments.tsv', '.fragments.sort.tsv.gz', external_frag_full)\n",
    "\n",
    "external_frag_full"
   ]
  },
  {
   "cell_type": "code",
   "execution_count": 4,
   "id": "aad4f638",
   "metadata": {
    "scrolled": true
   },
   "outputs": [
    {
     "name": "stderr",
     "output_type": "stream",
     "text": [
      "Loading required package: stats4\n",
      "\n",
      "Loading required package: BiocGenerics\n",
      "\n",
      "Loading required package: parallel\n",
      "\n",
      "\n",
      "Attaching package: ‘BiocGenerics’\n",
      "\n",
      "\n",
      "The following objects are masked from ‘package:parallel’:\n",
      "\n",
      "    clusterApply, clusterApplyLB, clusterCall, clusterEvalQ,\n",
      "    clusterExport, clusterMap, parApply, parCapply, parLapply,\n",
      "    parLapplyLB, parRapply, parSapply, parSapplyLB\n",
      "\n",
      "\n",
      "The following objects are masked from ‘package:stats’:\n",
      "\n",
      "    IQR, mad, sd, var, xtabs\n",
      "\n",
      "\n",
      "The following objects are masked from ‘package:base’:\n",
      "\n",
      "    anyDuplicated, append, as.data.frame, basename, cbind, colnames,\n",
      "    dirname, do.call, duplicated, eval, evalq, Filter, Find, get, grep,\n",
      "    grepl, intersect, is.unsorted, lapply, Map, mapply, match, mget,\n",
      "    order, paste, pmax, pmax.int, pmin, pmin.int, Position, rank,\n",
      "    rbind, Reduce, rownames, sapply, setdiff, sort, table, tapply,\n",
      "    union, unique, unsplit, which.max, which.min\n",
      "\n",
      "\n",
      "Loading required package: S4Vectors\n",
      "\n",
      "\n",
      "Attaching package: ‘S4Vectors’\n",
      "\n",
      "\n",
      "The following object is masked from ‘package:base’:\n",
      "\n",
      "    expand.grid\n",
      "\n",
      "\n",
      "Loading required package: IRanges\n",
      "\n",
      "Loading required package: GenomeInfoDb\n",
      "\n",
      "Attaching SeuratObject\n",
      "\n",
      "Loading required package: ensembldb\n",
      "\n",
      "Loading required package: GenomicFeatures\n",
      "\n",
      "Loading required package: AnnotationDbi\n",
      "\n",
      "Loading required package: Biobase\n",
      "\n",
      "Welcome to Bioconductor\n",
      "\n",
      "    Vignettes contain introductory material; view with\n",
      "    'browseVignettes()'. To cite Bioconductor, see\n",
      "    'citation(\"Biobase\")', and for packages 'citation(\"pkgname\")'.\n",
      "\n",
      "\n",
      "Loading required package: AnnotationFilter\n",
      "\n",
      "\n",
      "Attaching package: 'ensembldb'\n",
      "\n",
      "\n",
      "The following object is masked from 'package:stats':\n",
      "\n",
      "    filter\n",
      "\n",
      "\n",
      "\n",
      "Attaching package: 'data.table'\n",
      "\n",
      "\n",
      "The following object is masked from 'package:GenomicRanges':\n",
      "\n",
      "    shift\n",
      "\n",
      "\n",
      "The following object is masked from 'package:IRanges':\n",
      "\n",
      "    shift\n",
      "\n",
      "\n",
      "The following objects are masked from 'package:S4Vectors':\n",
      "\n",
      "    first, second\n",
      "\n",
      "\n",
      "\n",
      "Attaching package: 'magrittr'\n",
      "\n",
      "\n",
      "The following object is masked from 'package:AnnotationFilter':\n",
      "\n",
      "    not\n",
      "\n",
      "\n",
      "\n",
      "Attaching package: 'future'\n",
      "\n",
      "\n",
      "The following object is masked from 'package:AnnotationFilter':\n",
      "\n",
      "    value\n",
      "\n",
      "\n",
      "The following object is masked from 'package:GenomicRanges':\n",
      "\n",
      "    values\n",
      "\n",
      "\n",
      "The following object is masked from 'package:IRanges':\n",
      "\n",
      "    values\n",
      "\n",
      "\n",
      "The following object is masked from 'package:S4Vectors':\n",
      "\n",
      "    values\n",
      "\n",
      "\n"
     ]
    },
    {
     "data": {
      "text/html": [
       "<pre class=language-r><code>structure(function (..., envir = parent.frame()) \n",
       "{\n",
       "<span style=white-space:pre-wrap>    future &lt;- SequentialFuture(..., envir = envir)</span>\n",
       "<span style=white-space:pre-wrap>    if (!future$lazy) </span>\n",
       "<span style=white-space:pre-wrap>        future &lt;- run(future)</span>\n",
       "<span style=white-space:pre-wrap>    invisible(future)</span>\n",
       "}, class = c(\"FutureStrategy\", \"sequential\", \"uniprocess\", \"future\", \n",
       "\"function\"))</code></pre>"
      ],
      "text/latex": [
       "\\begin{minted}{r}\n",
       "structure(function (..., envir = parent.frame()) \n",
       "\\{\n",
       "    future <- SequentialFuture(..., envir = envir)\n",
       "    if (!future\\$lazy) \n",
       "        future <- run(future)\n",
       "    invisible(future)\n",
       "\\}, class = c(\"FutureStrategy\", \"sequential\", \"uniprocess\", \"future\", \n",
       "\"function\"))\n",
       "\\end{minted}"
      ],
      "text/markdown": [
       "```r\n",
       "structure(function (..., envir = parent.frame()) \n",
       "{\n",
       "    future <- SequentialFuture(..., envir = envir)\n",
       "    if (!future$lazy) \n",
       "        future <- run(future)\n",
       "    invisible(future)\n",
       "}, class = c(\"FutureStrategy\", \"sequential\", \"uniprocess\", \"future\", \n",
       "\"function\"))\n",
       "```"
      ],
      "text/plain": [
       "sequential:\n",
       "- args: function (..., envir = parent.frame())\n",
       "- tweaked: FALSE\n",
       "- call: NULL"
      ]
     },
     "metadata": {},
     "output_type": "display_data"
    }
   ],
   "source": [
    "library(GenomicRanges)\n",
    "library(Seurat)\n",
    "library(Signac)\n",
    "library(GenomeInfoDb)\n",
    "library(EnsDb.Hsapiens.v75)\n",
    "library(ggplot2)\n",
    "library(patchwork)\n",
    "set.seed(1234)\n",
    "library(data.table)\n",
    "library(magrittr)\n",
    "\n",
    "library(future)\n",
    "plan()\n",
    "#plan(\"multiprocess\", workers = workers)\n",
    "options(future.globals.maxSize = 8000 * 1024^2)"
   ]
  },
  {
   "cell_type": "markdown",
   "id": "a53a3256",
   "metadata": {},
   "source": [
    "## Merge all peaks"
   ]
  },
  {
   "cell_type": "code",
   "execution_count": 5,
   "id": "62849b8a",
   "metadata": {
    "scrolled": true
   },
   "outputs": [
    {
     "name": "stdout",
     "output_type": "stream",
     "text": [
      "[1] \"here\"\n",
      "[1] \"/data2/isshamie/mito_lineage/data/processed/mtscATAC/jan21_2021/MTblacklist//J2/outs/filtered_peak_bc_matrix/peaks.bed\"\n",
      "[1] \"here\"\n",
      "[1] \"/data2/isshamie/mito_lineage/data/processed/mtscATAC/jan21_2021/MTblacklist//P2/outs/filtered_peak_bc_matrix/peaks.bed\"\n"
     ]
    },
    {
     "data": {
      "text/plain": [
       "GRanges object with 149551 ranges and 0 metadata columns:\n",
       "           seqnames            ranges strand\n",
       "              <Rle>         <IRanges>  <Rle>\n",
       "       [1]     chr1        9942-10364      *\n",
       "       [2]     chr1     191685-191736      *\n",
       "       [3]     chr1     267780-268257      *\n",
       "       [4]     chr1     271072-271548      *\n",
       "       [5]     chr1     585995-586411      *\n",
       "       ...      ...               ...    ...\n",
       "  [149547]     chrY 56844769-56845155      *\n",
       "  [149548]     chrY 56846033-56848664      *\n",
       "  [149549]     chrY 56849234-56851581      *\n",
       "  [149550]     chrY 56857506-56857613      *\n",
       "  [149551]     chrY 56873729-56874140      *\n",
       "  -------\n",
       "  seqinfo: 24 sequences from an unspecified genome; no seqlengths"
      ]
     },
     "metadata": {},
     "output_type": "display_data"
    }
   ],
   "source": [
    "read.peaks <- function(exp, cellr_in){\n",
    "    print('here')\n",
    "    print(file.path(cellr_in, exp, \"outs\", \"filtered_peak_bc_matrix\", \"peaks.bed\"))\n",
    "    peaks <- read.table(\n",
    "      file = file.path(cellr_in, exp, \"outs\", \"filtered_peak_bc_matrix\", \"peaks.bed\"),\n",
    "      col.names = c(\"chr\", \"start\", \"end\")\n",
    "    )\n",
    "    # convert to genomic ranges\n",
    "    gr <- makeGRangesFromDataFrame(peaks)\n",
    "    return(gr)\n",
    "}\n",
    "\n",
    "\n",
    "gr.full <- c(sapply(samples, read.peaks, cellr_in=cellr_in, USE.NAMES=F))\n",
    "\n",
    "# peaks.curr <- read.table(\n",
    "#   file = file.path(singlecell_sumstats_dir, exp, \"filtered_peak_bc_matrix\", \"peaks.bed\"),\n",
    "#   col.names = c(\"chr\", \"start\", \"end\")\n",
    "# )\n",
    "\n",
    "\n",
    "#Create a unified set of peaks to quantify in each dataset\n",
    "#combined.peaks <- reduce(x = c(gr.full[[1]], gr.full[[2]], gr.full[[1]]))\n",
    "gr.full.c <- gr.full[[1]]\n",
    "if (length(gr.full)>1){\n",
    "    for (i in 2:length(gr.full)){\n",
    "      gr.full.c <- c(gr.full.c, gr.full[[i]])\n",
    "    }\n",
    "}\n",
    "combined.peaks <- reduce(x = c(gr.full.c))\n",
    "\n",
    "# Filter out bad peaks based on length\n",
    "peakwidths <- width(combined.peaks)\n",
    "combined.peaks <- combined.peaks[peakwidths  < 10000 & peakwidths > 20]\n",
    "combined.peaks"
   ]
  },
  {
   "cell_type": "markdown",
   "id": "1cae010c",
   "metadata": {},
   "source": [
    "## Create fragment objects"
   ]
  },
  {
   "cell_type": "code",
   "execution_count": 6,
   "id": "67e92e33",
   "metadata": {
    "scrolled": false
   },
   "outputs": [],
   "source": [
    "create_frag <- function(exp, cellr_in){\n",
    "    barcode_path <- file.path(cellr_in, exp, \"outs\", \"filtered_peak_bc_matrix\", \"barcodes.tsv\")    \n",
    "    barcodes <- readr::read_tsv(barcode_path, col_names = F) # %>% tidyr::unite(barcode)\n",
    "    frag_file <- file.path(cellr_in, exp, \"outs\", \"fragments.tsv.gz\")\n",
    "    # quantify multiome peaks in the scATAC-seq dataset\n",
    "    frags.curr <- CreateFragmentObject(path = frag_file,cells= barcodes[[\"X1\"]])\n",
    "    barcodes <- as.data.frame(barcodes) %>%  tibble::column_to_rownames(var=\"X1\") %>% tibble::add_column(proj=exp)\n",
    "    ## Quantify peaks\n",
    "    curr.counts <- FeatureMatrix(\n",
    "      fragments = frags.curr,\n",
    "      features = combined.peaks,\n",
    "      cells = rownames(barcodes)\n",
    "    )\n",
    "    \n",
    "    ## Create the objects\n",
    "    curr_assay <- CreateChromatinAssay(curr.counts, fragments = frags.curr)\n",
    "    curr <- CreateSeuratObject(curr_assay, assay = \"ATAC\", project=exp, meta.data=barcodes)\n",
    "    curr <- BinarizeCounts(curr)\n",
    "    return(curr)\n",
    "}\n",
    "\n"
   ]
  },
  {
   "cell_type": "code",
   "execution_count": 7,
   "id": "9730b2a7",
   "metadata": {
    "scrolled": true
   },
   "outputs": [
    {
     "name": "stderr",
     "output_type": "stream",
     "text": [
      "Registered S3 method overwritten by 'cli':\n",
      "  method     from         \n",
      "  print.boxx spatstat.geom\n",
      "\n",
      "\u001b[36m──\u001b[39m \u001b[1m\u001b[1mColumn specification\u001b[1m\u001b[22m \u001b[36m───────────────────────────────────────────────────────────────────────────────────────────────────────────────────────────────────────────────────────────\u001b[39m\n",
      "cols(\n",
      "  X1 = \u001b[31mcol_character()\u001b[39m\n",
      ")\n",
      "\n",
      "\n",
      "Computing hash\n",
      "\n",
      "Extracting reads overlapping genomic regions\n",
      "\n",
      "\n",
      "\u001b[36m──\u001b[39m \u001b[1m\u001b[1mColumn specification\u001b[1m\u001b[22m \u001b[36m───────────────────────────────────────────────────────────────────────────────────────────────────────────────────────────────────────────────────────────\u001b[39m\n",
      "cols(\n",
      "  X1 = \u001b[31mcol_character()\u001b[39m\n",
      ")\n",
      "\n",
      "\n",
      "Computing hash\n",
      "\n",
      "Extracting reads overlapping genomic regions\n",
      "\n"
     ]
    }
   ],
   "source": [
    "allSE <- sapply(samples, create_frag, cellr_in=cellr_in)"
   ]
  },
  {
   "cell_type": "markdown",
   "id": "8857dd9d",
   "metadata": {},
   "source": [
    "## Merge"
   ]
  },
  {
   "cell_type": "code",
   "execution_count": 12,
   "id": "78f01fe4",
   "metadata": {},
   "outputs": [],
   "source": [
    "# merge all datasets, adding a cell ID to make sure cell names are unique\n",
    "combined <- merge(\n",
    "  x = allSE[1],\n",
    "  y = allSE[2:length(allSE)],\n",
    "  add.cell.ids = sample_names\n",
    ")\n",
    "combined[[\"ATAC\"]]"
   ]
  },
  {
   "cell_type": "code",
   "execution_count": 14,
   "id": "4b125078",
   "metadata": {
    "scrolled": true
   },
   "outputs": [
    {
     "ename": "ERROR",
     "evalue": "Error in FindTopFeatures(combined, min.cutoff = 20): object 'combined' not found\n",
     "output_type": "error",
     "traceback": [
      "Error in FindTopFeatures(combined, min.cutoff = 20): object 'combined' not found\nTraceback:\n",
      "1. FindTopFeatures(combined, min.cutoff = 20)"
     ]
    }
   ],
   "source": [
    "combined <- FindTopFeatures(combined, min.cutoff = 20)\n",
    "combined"
   ]
  },
  {
   "cell_type": "code",
   "execution_count": 13,
   "id": "be2e0719",
   "metadata": {},
   "outputs": [
    {
     "ename": "ERROR",
     "evalue": "Error in saveRDS(combined, file.path(outdir, paste0(\"allSamples.merged.rds\"))): object 'combined' not found\n",
     "output_type": "error",
     "traceback": [
      "Error in saveRDS(combined, file.path(outdir, paste0(\"allSamples.merged.rds\"))): object 'combined' not found\nTraceback:\n",
      "1. saveRDS(combined, file.path(outdir, paste0(\"allSamples.merged.rds\")))"
     ]
    }
   ],
   "source": [
    "saveRDS(combined, file.path(outdir, paste0(\"allSamples.merged.rds\")))"
   ]
  },
  {
   "cell_type": "code",
   "execution_count": null,
   "id": "645bed63",
   "metadata": {
    "scrolled": true
   },
   "outputs": [],
   "source": [
    "combined <- RunTFIDF(combined)\n",
    "combined <- RunSVD(combined)\n",
    "combined <- RunUMAP(combined, dims = 2:50, reduction = 'lsi')\n",
    "DimPlot(combined, group.by = \"proj\", pt.size = 0.1)"
   ]
  },
  {
   "cell_type": "code",
   "execution_count": null,
   "id": "51d654f0",
   "metadata": {
    "scrolled": true
   },
   "outputs": [],
   "source": [
    "DimPlot(combined, group.by = \"Group\", pt.size = 0.1)"
   ]
  },
  {
   "cell_type": "code",
   "execution_count": null,
   "id": "1ec6b45d",
   "metadata": {},
   "outputs": [],
   "source": []
  },
  {
   "cell_type": "code",
   "execution_count": null,
   "id": "69d28c97",
   "metadata": {},
   "outputs": [],
   "source": [
    "create_se <- function(countsA, countsB, frags.countsA, frags.countsB){\n",
    "    countsA_assay <- CreateChromatinAssay(countsA, fragments = frags.countsA)\n",
    "    countsA <- CreateSeuratObject(countsA_assay, assay = \"ATAC\")\n",
    "    \n",
    "    countsB_assay <- CreateChromatinAssay(countsB, fragments = frags.countsB)\n",
    "    countsB <- CreateSeuratObject(countsB_assay, assay = \"ATAC\")\n",
    "    countsB$dataset <- 'granja_cd34'\n",
    "    countsA$dataset <- exp\n",
    "    \n",
    "    # merge all datasets, adding a cell ID to make sure cell names are unique\n",
    "    combined <- merge(\n",
    "      x = countsB,\n",
    "      y = countsA,\n",
    "      add.cell.ids = c(\"countsB\", exp)\n",
    "    )\n",
    "    combined[[\"ATAC\"]]\n",
    "    combined <- RunTFIDF(combined)\n",
    "    combined <- FindTopFeatures(combined, min.cutoff = 20)\n",
    "    combined <- RunSVD(combined)\n",
    "    combined <- RunUMAP(combined, dims = 2:50, reduction = 'lsi')\n",
    "    DimPlot(combined, group.by = 'dataset', pt.size = 0.1)\n",
    "    return(combined)\n",
    "}"
   ]
  },
  {
   "cell_type": "markdown",
   "id": "4ee4f3e1",
   "metadata": {},
   "source": [
    "### Make sure the peaks overlap"
   ]
  },
  {
   "cell_type": "code",
   "execution_count": null,
   "id": "f82ac154",
   "metadata": {
    "scrolled": true
   },
   "outputs": [],
   "source": [
    "onlyOverlap <- FALSE\n",
    "if (onlyOverlap){\n",
    "    peaks_in_curr <- names(which(rowSums(curr.counts)>0))\n",
    "    peaks_in_ext <- names(which(rowSums(ext.counts)>0))\n",
    "    peaks_both <- intersect(peaks_in_curr, peaks_in_ext)\n",
    "    overlap.curr.counts <- curr.counts[peaks_both,]\n",
    "    overlap.ext.counts <- ext.counts[peaks_both,]\n",
    "\n",
    "    combined <- create_se(overlap.curr.counts, overlap.ext.counts, frags.curr, frags.ext)\n",
    "    DimPlot(combined, group.by = 'dataset', pt.size = 0.1)\n",
    "    saveRDS(combined, file.path(outdir, paste0(exp, \".merged.over0Peaks.rds\")))\n",
    "}"
   ]
  },
  {
   "cell_type": "code",
   "execution_count": null,
   "id": "b293aed2",
   "metadata": {},
   "outputs": [],
   "source": [
    "print"
   ]
  },
  {
   "cell_type": "code",
   "execution_count": null,
   "id": "f6d8e30d",
   "metadata": {},
   "outputs": [],
   "source": []
  }
 ],
 "metadata": {
  "kernelspec": {
   "display_name": "R",
   "language": "R",
   "name": "ir"
  },
  "language_info": {
   "codemirror_mode": "r",
   "file_extension": ".r",
   "mimetype": "text/x-r-source",
   "name": "R",
   "pygments_lexer": "r",
   "version": "4.0.2"
  }
 },
 "nbformat": 4,
 "nbformat_minor": 5
}
