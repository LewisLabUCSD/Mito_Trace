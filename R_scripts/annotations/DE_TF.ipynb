{
 "cells": [
  {
   "cell_type": "markdown",
   "id": "223d6f46",
   "metadata": {},
   "source": [
    "## Runs DE on different clusters. Also runs DE within each cluster for each condition"
   ]
  },
  {
   "cell_type": "code",
   "execution_count": null,
   "id": "235ae72f",
   "metadata": {
    "tags": [
     "parameters"
    ]
   },
   "outputs": [],
   "source": [
    "integrated_f = \"/data2/mito_lineage/output/annotation/data/jan21_2021/MTblacklist/mergedSamples/allSamples.integrated.rds\" \n",
    "outdir = \"/data2/mito_lineage/output/annotation/data/jan21_2021/MTblacklist/mergedSamples/DE_TF\"\n",
    "sample_names = \"Control,Flt3l\"\n",
    "cores = 8\n",
    "\n",
    "genome = \"/data2/mito_lineage/data/external/GRCh38_MT_blacklist/fasta/genome.fa\"\n",
    "comps_f = \"\"\n",
    "#cond.comparisons <- \"A,preA,postA;B,preB,postB\""
   ]
  },
  {
   "cell_type": "markdown",
   "id": "24c21c76",
   "metadata": {},
   "source": [
    "## Libraries"
   ]
  },
  {
   "cell_type": "code",
   "execution_count": null,
   "id": "ff34ecc1",
   "metadata": {
    "scrolled": true
   },
   "outputs": [],
   "source": [
    "library(motifmatchr)\n",
    "library(JASPAR2020)\n",
    "library(TFBSTools)\n",
    "library(BSgenome.Hsapiens.UCSC.hg38)"
   ]
  },
  {
   "cell_type": "code",
   "execution_count": null,
   "id": "b1b5ab42",
   "metadata": {
    "scrolled": true
   },
   "outputs": [],
   "source": [
    "library(GenomicRanges)\n",
    "library(Seurat)\n",
    "library(Signac)\n",
    "library(GenomeInfoDb)\n",
    "library(EnsDb.Hsapiens.v75)\n",
    "library(ggplot2)\n",
    "library(patchwork)\n",
    "set.seed(1234)\n",
    "library(data.table)\n",
    "library(magrittr)\n",
    "library(cowplot)\n",
    "library(metap)\n",
    "library(\"RColorBrewer\")\n",
    "\n",
    "library(future)\n",
    "plan()\n",
    "\n",
    "plan(\"multiprocess\", workers = cores)\n",
    "#options(future.globals.maxSize = 50000 * 1024^2) # for 50 Gb RAM\n",
    "options(future.globals.maxSize = 8000 * 1024^2)"
   ]
  },
  {
   "cell_type": "code",
   "execution_count": null,
   "id": "f0586405",
   "metadata": {},
   "outputs": [],
   "source": [
    "clust_outdir = file.path(outdir, \"clusters\")\n",
    "clust_atac_outdir = file.path(outdir, \"clusters_atac\")\n",
    "cond_outdir = file.path(outdir, \"conditions_clusters\")\n",
    "cons_outdir = file.path(outdir, \"conditions_conserved\")\n",
    "dir.create(outdir, showWarnings = FALSE)\n",
    "dir.create(clust_outdir, showWarnings = FALSE)\n",
    "dir.create(cond_outdir, showWarnings = FALSE)\n",
    "dir.create(cons_outdir, showWarnings = FALSE)\n",
    "dir.create(clust_atac_outdir, showWarnings = FALSE)"
   ]
  },
  {
   "cell_type": "code",
   "execution_count": null,
   "id": "c2c99fc4",
   "metadata": {
    "scrolled": true
   },
   "outputs": [],
   "source": [
    "sample_names <- unlist(strsplit(sample_names, \",\")[[1]])\n",
    "#samples <- unlist(strsplit(samples, \",\"))\n",
    "\n",
    "sample_names"
   ]
  },
  {
   "cell_type": "code",
   "execution_count": null,
   "id": "27d130de",
   "metadata": {},
   "outputs": [],
   "source": [
    "# # extract gene annotations from EnsDb\n",
    "# annotations <- GetGRangesFromEnsDb(ensdb = EnsDb.Hsapiens.v75)\n",
    "\n",
    "# # change to UCSC style since the data was mapped to hg19\n",
    "# seqlevelsStyle(annotations) <- 'UCSC'\n",
    "# genome(annotations) <- \"hg38\"\n",
    "\n",
    "# # add the gene information to the object\n",
    "# Annotation(integrated) <- annotations\n",
    "\n",
    "\n",
    "# gene.activities <- GeneActivity(integrated)\n"
   ]
  },
  {
   "cell_type": "code",
   "execution_count": null,
   "id": "7cc056e3",
   "metadata": {
    "scrolled": true
   },
   "outputs": [],
   "source": [
    "integrated <- readRDS(integrated_f)#file.path(indir, paste0(\"allSamples.integrated.rds\")))\n",
    "integrated"
   ]
  },
  {
   "cell_type": "code",
   "execution_count": null,
   "id": "d2cf729d",
   "metadata": {
    "scrolled": true
   },
   "outputs": [],
   "source": [
    "integrated[['peak_region_fragments']]"
   ]
  },
  {
   "cell_type": "code",
   "execution_count": null,
   "id": "ed19d532",
   "metadata": {},
   "outputs": [],
   "source": [
    "integrated[[]]"
   ]
  },
  {
   "cell_type": "markdown",
   "id": "b241a92e",
   "metadata": {},
   "source": [
    "# Get matrix"
   ]
  },
  {
   "cell_type": "code",
   "execution_count": null,
   "id": "2dea1cdb",
   "metadata": {},
   "outputs": [],
   "source": [
    "# extract position frequency matrices for the motifs\n",
    "pwm <- getMatrixSet(\n",
    "  x = JASPAR2020,\n",
    "  opts = list(species = 9606, all_versions = FALSE)\n",
    ")\n"
   ]
  },
  {
   "cell_type": "code",
   "execution_count": null,
   "id": "655662ad",
   "metadata": {},
   "outputs": [],
   "source": [
    "pwm"
   ]
  },
  {
   "cell_type": "code",
   "execution_count": null,
   "id": "b63e0ad6",
   "metadata": {},
   "outputs": [],
   "source": [
    "genome"
   ]
  },
  {
   "cell_type": "code",
   "execution_count": null,
   "id": "1d62557a",
   "metadata": {},
   "outputs": [],
   "source": [
    "fa.file <- Rsamtools::FaFile(genome, index=sprintf(\"%s.fai\", genome)) #,\n"
   ]
  },
  {
   "cell_type": "code",
   "execution_count": null,
   "id": "10810db5",
   "metadata": {},
   "outputs": [],
   "source": [
    "DefaultAssay(integrated) <- \"ATAC\""
   ]
  },
  {
   "cell_type": "code",
   "execution_count": null,
   "id": "ba8b1d9f",
   "metadata": {},
   "outputs": [],
   "source": [
    "chrom.assay <- integrated[[\"ATAC\"]]"
   ]
  },
  {
   "cell_type": "code",
   "execution_count": null,
   "id": "66c227b5",
   "metadata": {
    "scrolled": true
   },
   "outputs": [],
   "source": [
    "\n",
    "# add motif information\n",
    "chrom.assay <- AddMotifs(chrom.assay, genome = fa.file, pfm = pwm)"
   ]
  },
  {
   "cell_type": "code",
   "execution_count": null,
   "id": "a4da7cfe",
   "metadata": {
    "scrolled": false
   },
   "outputs": [],
   "source": [
    "chrom.assay"
   ]
  },
  {
   "cell_type": "code",
   "execution_count": null,
   "id": "f0b9661f",
   "metadata": {
    "scrolled": true
   },
   "outputs": [],
   "source": [
    "\n",
    "# add motif information\n",
    "#integrated <- AddMotifs(integrated, genome = fa.file, pfm = pwm, assay='ATAC')"
   ]
  },
  {
   "cell_type": "code",
   "execution_count": null,
   "id": "763c3285",
   "metadata": {},
   "outputs": [],
   "source": [
    "integrated = SetAssayData(integrated, slot=\"motifs\", Motifs(chrom.assay) )"
   ]
  },
  {
   "cell_type": "code",
   "execution_count": null,
   "id": "ac360dfe",
   "metadata": {},
   "outputs": [],
   "source": [
    "integrated\n"
   ]
  },
  {
   "cell_type": "code",
   "execution_count": null,
   "id": "753b949b",
   "metadata": {},
   "outputs": [],
   "source": [
    "#names <- ConvertMotifID(object = motif, id = ids)\n"
   ]
  },
  {
   "cell_type": "code",
   "execution_count": null,
   "id": "b0692758",
   "metadata": {},
   "outputs": [],
   "source": [
    "integrated = RunChromVAR(integrated, genome=fa.file)\n"
   ]
  },
  {
   "cell_type": "code",
   "execution_count": null,
   "id": "efb26239",
   "metadata": {},
   "outputs": [],
   "source": [
    "DefaultAssay(integrated) <- 'chromvar'"
   ]
  },
  {
   "cell_type": "code",
   "execution_count": null,
   "id": "8d5716ed",
   "metadata": {},
   "outputs": [],
   "source": [
    "p1 <- DimPlot(integrated, label = TRUE, pt.size = 0.1) + NoLegend()\n",
    "\n",
    "# look at the activity of Mef2c\n",
    "p2 <- FeaturePlot(\n",
    "  object = integrated,\n",
    "  features = \"MA0497.1\",\n",
    "  min.cutoff = 'q10',\n",
    "  max.cutoff = 'q90',\n",
    "  pt.size = 0.1\n",
    ")\n",
    "p1 + p2"
   ]
  },
  {
   "cell_type": "code",
   "execution_count": null,
   "id": "a4d52a30",
   "metadata": {},
   "outputs": [],
   "source": [
    "integrated[[\"chromvar\"]]"
   ]
  },
  {
   "cell_type": "code",
   "execution_count": null,
   "id": "779f42c1",
   "metadata": {
    "scrolled": true
   },
   "outputs": [],
   "source": [
    "differential.activity <- FindMarkers(\n",
    "  object = integrated,\n",
    "  ident.1 = 1,\n",
    "  only.pos = TRUE,\n",
    "  mean.fxn = rowMeans,\n",
    "  fc.name = \"avg_diff\"\n",
    ")\n",
    "\n",
    "MotifPlot(\n",
    "  object = integrated,\n",
    "  motifs = head(rownames(differential.activity)),\n",
    "  assay = 'ATAC'\n",
    ")\n"
   ]
  },
  {
   "cell_type": "code",
   "execution_count": null,
   "id": "4041788f",
   "metadata": {},
   "outputs": [],
   "source": [
    "plotDE <- function(integrated, de.results, i, outdir){\n",
    "    try\n",
    "    {\n",
    "    plot1 <- MotifPlot(object = integrated,\n",
    "                       motifs = head(rownames(de.results)),\n",
    "                       assay = 'ATAC')\n",
    "    plot2 <- FeaturePlot(\n",
    "      object = integrated,\n",
    "      features = rownames(de.results)[1],\n",
    "      pt.size = 0.1\n",
    "    )\n",
    "\n",
    "    plot3 <- FeaturePlot(\n",
    "      object = integrated,\n",
    "      features = rownames(de.results)[2],\n",
    "      pt.size = 0.1\n",
    "    )\n",
    "    \n",
    "    plot2 | plot3\n",
    "    ggsave(file.path(outdir,paste0(\"cluster_\",i,\".DE.TF.top2.png\")))\n",
    "    ggsave(file.path(outdir,paste0(\"cluster_\",i,\".DE.TF.Motifs.png\")))\n",
    "    ggsave(file.path(outdir,paste0(\"cluster_\",i,\".DE.TF.Motifs.pdf\")))\n",
    "    return(c(plot1, plot2, plot3))\n",
    "    }\n",
    "    return\n",
    "}"
   ]
  },
  {
   "cell_type": "markdown",
   "id": "41c28deb",
   "metadata": {},
   "source": [
    "## Compute DE for each cluster"
   ]
  },
  {
   "cell_type": "code",
   "execution_count": null,
   "id": "bdd3a80b",
   "metadata": {
    "scrolled": true
   },
   "outputs": [],
   "source": [
    "cluster.ids <- sort(unique(integrated$seurat_clusters))\n",
    "for (c in cluster.ids){ #or however many clusters you have\n",
    "try({\n",
    "    print(paste(\"cluster\", c))\n",
    "    da <- FindMarkers(\n",
    "      object = integrated,\n",
    "      ident.1 = c,\n",
    "      only.pos = TRUE,\n",
    "      mean.fxn = rowMeans,\n",
    "      fc.name = \"avg_diff\"\n",
    "    )\n",
    "\n",
    "    print(file.path(clust_outdir, paste0(\"cluster_\",c,\".DE.TF.csv\")))\n",
    "    print(head(da))\n",
    "    write.csv(da, file=file.path(clust_outdir, paste0(\"cluster_\",c,\".DE.TF.csv\")))\n",
    "    print(paste('saved cluster', c))\n",
    "    plotDE(integrated, da, c, clust_outdir)\n",
    "    print(paste('plotted cluster', c))\n",
    "    \n",
    "})\n",
    "}"
   ]
  },
  {
   "cell_type": "markdown",
   "id": "07575123",
   "metadata": {},
   "source": [
    "## Stimulus specific response"
   ]
  },
  {
   "cell_type": "code",
   "execution_count": null,
   "id": "0ac005f6",
   "metadata": {},
   "outputs": [],
   "source": [
    "stimout <- function(outdir, sample_names){\n",
    "    cluster.ids <- sort(unique(integrated$seurat_clusters))\n",
    "    integrated$celltype.stim <- paste(integrated$seurat_clusters, integrated$orig.ident, sep = \"_\")\n",
    "    integrated$celltype <- integrated$seurat_clusters\n",
    "    Idents(integrated) <- \"celltype.stim\"\n",
    "\n",
    "    for (c in cluster.ids){\n",
    "        try({\n",
    "            response <- FindMarkers(object=integrated,\n",
    "                                    ident.1 = paste0(c, \"_\", sample_names[[1]]), \n",
    "                                    ident.2 = paste0(c, \"_\", sample_names[[2]]), \n",
    "                                    only.pos = TRUE,\n",
    "                                    mean.fxn = rowMeans,\n",
    "                                    fc.name = \"avg_diff\")\n",
    "    \n",
    "            if (!(dim(response)[1]==0)){\n",
    "                print(head(response, n = 15))\n",
    "                curr_clust <- subset(integrated, seurat_clusters == c)\n",
    "                avg_curr_clust <- data.frame(log1p(AverageExpression(curr_clust, verbose = FALSE)$chromvar))\n",
    "                avg_curr_clust$gene <- rownames(avg_curr_clust)\n",
    "\n",
    "                p1 <- ggplot(avg_curr_clust, aes_string(paste0(\"X\", c, \"_\", sample_names[[1]]), paste0(\"X\", c, \"_\", sample_names[[2]]))) + geom_point() + ggtitle(paste(\"Cluster\", c))\n",
    "                p1 <- LabelPoints(plot = p1, points = rownames(head(response, n = 15)), repel = TRUE)\n",
    "                plot_grid(p1)\n",
    "                write.csv(response, file=file.path(outdir,paste0(\"cluster_\",c,\".conditionDE.TF.csv\")))\n",
    "                ggsave(file.path(outdir,paste0(\"cluster_\",c,\".conditionDE.TF.Scatter.png\")))\n",
    "\n",
    "            }\n",
    "        })\n",
    "\n",
    "    }\n",
    "}\n",
    "\n"
   ]
  },
  {
   "cell_type": "code",
   "execution_count": null,
   "id": "a759c62a",
   "metadata": {
    "scrolled": true
   },
   "outputs": [],
   "source": [
    "if ((comps_f==\"\") | comps_f == \"NULL\"){\n",
    "    stimout(cond_outdir, sample_names)\n",
    "\n",
    "}else{\n",
    "    comps <- unlist(strsplit(comps_f, \";\")[[1]])\n",
    "    comps <- lapply(comps, function(x) unlist(strsplit(x, ',')[[1]]))\n",
    "    for (i in comps){\n",
    "        print(i)\n",
    "        curr_sample_names <- i[2:3]\n",
    "        curr_cond_outdir <- file.path(cond_outdir, i[1])\n",
    "        dir.create(curr_cond_outdir, showWarnings = FALSE)\n",
    "        stimout(curr_cond_outdir, curr_sample_names)\n",
    "    }\n",
    "}\n"
   ]
  },
  {
   "cell_type": "code",
   "execution_count": null,
   "id": "c0daa6c8",
   "metadata": {},
   "outputs": [],
   "source": [
    "sessionInfo()"
   ]
  },
  {
   "cell_type": "code",
   "execution_count": null,
   "id": "2c3a2f04",
   "metadata": {},
   "outputs": [],
   "source": []
  }
 ],
 "metadata": {
  "celltoolbar": "Tags",
  "kernelspec": {
   "display_name": "R",
   "language": "R",
   "name": "ir"
  },
  "language_info": {
   "codemirror_mode": "r",
   "file_extension": ".r",
   "mimetype": "text/x-r-source",
   "name": "R",
   "pygments_lexer": "r",
   "version": "4.1.1"
  }
 },
 "nbformat": 4,
 "nbformat_minor": 5
}
