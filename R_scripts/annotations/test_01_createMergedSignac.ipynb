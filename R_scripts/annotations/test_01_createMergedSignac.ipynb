{
 "cells": [
  {
   "cell_type": "markdown",
   "id": "223d6f46",
   "metadata": {},
   "source": [
    "## Creates binarized Seurat objects, and merges them and finds Top Features (min.cutoff=20)"
   ]
  },
  {
   "cell_type": "code",
   "execution_count": 2,
   "id": "f7347b98",
   "metadata": {
    "tags": [
     "parameters"
    ]
   },
   "outputs": [],
   "source": [
    "# Input info\n",
    "exp <- \"preA\"\n",
    "sample_indir <- \"/data2/isshamie/mito_lineage/data/processed/mtscATAC/DUPI_april08_2021_Croker/MTblacklist_mtasnucl/rxn1/outs/\"\n",
    "# External\n",
    "external_dat_dir <- \"/data/isshamie/mito_lineage/output/annotation/data/granja_cd3\"\n",
    "external_frag_file <- \"/data/isshamie/mito_lineage/output/annotation/data/granja_cd34/granja_cd34.fragments.sort.tsv.gz\"\n",
    "external_prefix <- \"GSE129785_scATAC-Hematopoiesis-CD34\"\n",
    "\n",
    "# Saving\n",
    "outdir <- \"/data2/mito_lineage/output/annotation/data/processed/mttrace/DUPI_april08_2021/MTblacklist_mtasnucl/Flt3l\" #\"/data2/mito_lineage/Analysis/annotation/output/data/\"\n",
    "\n",
    "# Parameters\n",
    "nTop = 25000"
   ]
  },
  {
   "cell_type": "code",
   "execution_count": 4,
   "id": "95b7b7ed",
   "metadata": {},
   "outputs": [
    {
     "name": "stdout",
     "output_type": "stream",
     "text": [
      "[1] \"/data2/isshamie/mito_lineage/data/processed/mtscATAC/DUPI_april08_2021_Croker/MTblacklist_mtasnucl/rxn1/outs/\"\n",
      "[1] \"preA\"\n"
     ]
    }
   ],
   "source": [
    "print(sample_indir)\n",
    "print(exp)"
   ]
  },
  {
   "cell_type": "code",
   "execution_count": null,
   "id": "8c4bb80c",
   "metadata": {},
   "outputs": [],
   "source": [
    "print(outdir)"
   ]
  },
  {
   "cell_type": "code",
   "execution_count": 5,
   "id": "b1ca6375",
   "metadata": {},
   "outputs": [],
   "source": [
    "# Change to the sorted fragment file!\n",
    "ext_frag_file <- gsub('.fragments.tsv', '.fragments.sort.tsv.gz', external_frag_file)"
   ]
  },
  {
   "cell_type": "code",
   "execution_count": 6,
   "id": "5d6b06fe",
   "metadata": {},
   "outputs": [
    {
     "data": {
      "text/html": [
       "'/data/isshamie/mito_lineage/output/annotation/data/granja_cd34/granja_cd34.fragments.sort.tsv.gz'"
      ],
      "text/latex": [
       "'/data/isshamie/mito\\_lineage/output/annotation/data/granja\\_cd34/granja\\_cd34.fragments.sort.tsv.gz'"
      ],
      "text/markdown": [
       "'/data/isshamie/mito_lineage/output/annotation/data/granja_cd34/granja_cd34.fragments.sort.tsv.gz'"
      ],
      "text/plain": [
       "[1] \"/data/isshamie/mito_lineage/output/annotation/data/granja_cd34/granja_cd34.fragments.sort.tsv.gz\""
      ]
     },
     "metadata": {},
     "output_type": "display_data"
    }
   ],
   "source": [
    "external_dat_dir <- dirname(external_frag_file)\n",
    "\n",
    "\n",
    "\n",
    "external_frag_file"
   ]
  },
  {
   "cell_type": "code",
   "execution_count": null,
   "id": "1ec6b45d",
   "metadata": {},
   "outputs": [],
   "source": []
  },
  {
   "cell_type": "code",
   "execution_count": null,
   "id": "b293aed2",
   "metadata": {},
   "outputs": [],
   "source": []
  }
 ],
 "metadata": {
  "celltoolbar": "Tags",
  "kernelspec": {
   "display_name": "R",
   "language": "R",
   "name": "ir"
  },
  "language_info": {
   "codemirror_mode": "r",
   "file_extension": ".r",
   "mimetype": "text/x-r-source",
   "name": "R",
   "pygments_lexer": "r",
   "version": "4.0.2"
  }
 },
 "nbformat": 4,
 "nbformat_minor": 5
}
