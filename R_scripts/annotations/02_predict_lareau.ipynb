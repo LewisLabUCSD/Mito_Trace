{
 "cells": [
  {
   "cell_type": "code",
   "execution_count": null,
   "id": "c22f123e",
   "metadata": {
    "tags": [
     "parameters"
    ]
   },
   "outputs": [],
   "source": [
    "# Input info\n",
    "exp <- \"Flt3l\"\n",
    "SE_f <- \"/data/isshamie/mito_lineage/output/annotation/cd34norm/MTblacklist/Flt3l/Flt3l.merged.rds\"\n",
    "\n",
    "# Saving\n",
    "outdir <- \"/data/isshamie/mito_lineage/output/annotation/cd34norm/MTblacklist/Flt3l/lareau/sample\" #\"/data2/mito_lineage/Analysis/annotation/output/data/\"\n",
    "#outdir <- \"/data/isshamie/mito_lineage/output/annotation/jan21_2021/MTblacklist/Flt3l/\" #Flt3l.merged.rds\"\n",
    "\n",
    "# Parameters\n",
    "nTop = 25000\n"
   ]
  },
  {
   "cell_type": "code",
   "execution_count": null,
   "id": "a0b94a0e",
   "metadata": {
    "scrolled": true
   },
   "outputs": [],
   "source": [
    "library(future)\n",
    "plan()\n",
    "#plan(\"multiprocess\", workers = workers)\n",
    "options(future.globals.maxSize = 8000 * 1024^2)"
   ]
  },
  {
   "cell_type": "code",
   "execution_count": null,
   "id": "8b35ce40",
   "metadata": {},
   "outputs": [],
   "source": [
    "source(\"/data2/mito_lineage/R_scripts/annotations/01_CD34_projection.R\")"
   ]
  },
  {
   "cell_type": "code",
   "execution_count": null,
   "id": "bf66aff3",
   "metadata": {
    "scrolled": true
   },
   "outputs": [],
   "source": [
    "library(Seurat)\n",
    "library(Signac)\n",
    "library(GenomeInfoDb)\n",
    "library(EnsDb.Hsapiens.v75)\n",
    "library(ggplot2)\n",
    "library(patchwork)\n",
    "set.seed(1234)\n",
    "library(data.table)\n",
    "library(cowplot)\n",
    "library(umap)\n",
    "library(magrittr)"
   ]
  },
  {
   "cell_type": "markdown",
   "id": "00a277ed",
   "metadata": {},
   "source": [
    "## Import data"
   ]
  },
  {
   "cell_type": "code",
   "execution_count": null,
   "id": "d492e63e",
   "metadata": {},
   "outputs": [],
   "source": [
    "combined <- readRDS(SE_f)"
   ]
  },
  {
   "cell_type": "code",
   "execution_count": null,
   "id": "7284620a",
   "metadata": {},
   "outputs": [],
   "source": [
    "varPeaks <- (VariableFeatures(combined[[\"ATAC\"]]))"
   ]
  },
  {
   "cell_type": "code",
   "execution_count": null,
   "id": "290aa356",
   "metadata": {
    "scrolled": false
   },
   "outputs": [],
   "source": [
    "ext <- subset(x = combined, subset = orig.ident == \"granja_cd34\")\n",
    "curr <- subset(x = combined, subset = orig.ident == exp)\n"
   ]
  },
  {
   "cell_type": "code",
   "execution_count": null,
   "id": "15530535",
   "metadata": {
    "scrolled": true
   },
   "outputs": [],
   "source": [
    "# Subset on varPeaks in both \n",
    "varPeaks_both <- rownames(ext)[(varPeaks %in% rownames(ext)) & (varPeaks %in% rownames(curr))]\n",
    "length(varPeaks_both)\n",
    "#curr_varP <- rownames(curr)[varPeaks]\n"
   ]
  },
  {
   "cell_type": "code",
   "execution_count": null,
   "id": "d09be08b",
   "metadata": {},
   "outputs": [],
   "source": [
    "ext_var <- GetAssayData(ext)[varPeaks_both,]\n",
    "dim(ext_var)"
   ]
  },
  {
   "cell_type": "code",
   "execution_count": null,
   "id": "363c7268",
   "metadata": {
    "scrolled": true
   },
   "outputs": [],
   "source": [
    "curr_var <- GetAssayData(curr)[varPeaks_both,]\n",
    "dim(curr_var)"
   ]
  },
  {
   "cell_type": "markdown",
   "id": "eb5bb461",
   "metadata": {},
   "source": [
    "# Run the workflow - Using our dataset as reference and projecting external data onto our coordinates"
   ]
  },
  {
   "cell_type": "markdown",
   "id": "b7920e69",
   "metadata": {},
   "source": [
    "## 1. Run LSI 1st Iteration"
   ]
  },
  {
   "cell_type": "code",
   "execution_count": null,
   "id": "884ee663",
   "metadata": {
    "scrolled": true
   },
   "outputs": [],
   "source": [
    "lsi1 <- calcLSI(curr[[\"ATAC\"]]@data, nComponents = 25, binarize = TRUE, nFeatures = NULL)\n",
    "clust1 <- louvainIgraphClusters(lsi1[[1]], 10)\n",
    "\n"
   ]
  },
  {
   "cell_type": "markdown",
   "id": "36342b67",
   "metadata": {},
   "source": [
    "## 2. Make Pseudo Bulk Library\n"
   ]
  },
  {
   "cell_type": "code",
   "execution_count": null,
   "id": "27895be6",
   "metadata": {},
   "outputs": [],
   "source": [
    "message(\"Making PseudoBulk...\")\n",
    "clusterSums <- groupSums(mat = curr[[\"ATAC\"]]@data, groups = clust1) #Group Sums\n",
    "logMat <- edgeR::cpm(clusterSums, log = TRUE, prior.count = 3) #log CPM matrix\n",
    "varPeaks <- head(order(matrixStats::rowVars(logMat), decreasing = TRUE), nTop) #Top variable peaks\n",
    "dim(varPeaks)"
   ]
  },
  {
   "cell_type": "markdown",
   "id": "465ccc65",
   "metadata": {},
   "source": [
    "## 3. Run LSI 2nd Iteration"
   ]
  },
  {
   "cell_type": "code",
   "execution_count": null,
   "id": "a966bded",
   "metadata": {
    "scrolled": true
   },
   "outputs": [],
   "source": [
    "lsi2 <- calcLSI(curr[[\"ATAC\"]]@data[varPeaks,,drop=FALSE], nComponents = 25, binarize = TRUE, nFeatures = NULL)\n",
    "clust2 <- louvainIgraphClusters(lsi2[[1]][,c(2:25)], 30)\n",
    "print(\"Number of clusters\")\n",
    "print(length(unique(clust2)))\n",
    "print(\"LSI2 dimensions\")\n",
    "print(dim(lsi2$matSVD))\n"
   ]
  },
  {
   "cell_type": "markdown",
   "id": "7de4926b",
   "metadata": {},
   "source": [
    "### 3.2 build mean for clusters"
   ]
  },
  {
   "cell_type": "code",
   "execution_count": null,
   "id": "c5475277",
   "metadata": {},
   "outputs": [],
   "source": [
    "means_lsi <- build_means_for_clusters(lsi2$matSVD, clust2)\n",
    "lsiPeaks <- varPeaks\n",
    "lsiReference <- lsi2\n"
   ]
  },
  {
   "cell_type": "markdown",
   "id": "f3dac11f",
   "metadata": {},
   "source": [
    "## 4. Run UMAP on 2nd LSI"
   ]
  },
  {
   "cell_type": "code",
   "execution_count": null,
   "id": "5932441e",
   "metadata": {
    "scrolled": false
   },
   "outputs": [],
   "source": [
    "set.seed(1)\n",
    "umap <- umap::umap(\n",
    "  lsi2$matSVD[,2:25], \n",
    "  n_neighbors = 55, # original 55\n",
    "  min_dist = 0.45, # original 0.45\n",
    "  metric = \"cosine\", \n",
    "  verbose = TRUE    )\n",
    "#set.seed(10)"
   ]
  },
  {
   "cell_type": "markdown",
   "id": "2284e082",
   "metadata": {},
   "source": [
    "## 4.2 Build UMAP means for each cluster"
   ]
  },
  {
   "cell_type": "code",
   "execution_count": null,
   "id": "2cc11158",
   "metadata": {},
   "outputs": [],
   "source": [
    "umap_clust2 <- louvainIgraphClusters(umap$layout, k = 100)\n",
    "length(unique(umap_clust2))\n",
    "umap_means_lsi <- build_means_for_clusters(umap$layout, umap_clust2)"
   ]
  },
  {
   "cell_type": "markdown",
   "id": "13928205",
   "metadata": {},
   "source": [
    "## 5. Project external data to our samples LSI-embedded coordinate system"
   ]
  },
  {
   "cell_type": "code",
   "execution_count": null,
   "id": "81b00632",
   "metadata": {},
   "outputs": [],
   "source": [
    "lsiProjection <- projectLSI(ext[[\"ATAC\"]]@data[varPeaks,,drop=FALSE], lsi2)\n"
   ]
  },
  {
   "cell_type": "markdown",
   "id": "560f2442",
   "metadata": {},
   "source": []
  },
  {
   "cell_type": "markdown",
   "id": "2892e9c9",
   "metadata": {},
   "source": [
    "## Remove any 0 cells"
   ]
  },
  {
   "cell_type": "code",
   "execution_count": null,
   "id": "16a0bd6d",
   "metadata": {},
   "outputs": [],
   "source": [
    "noZero.inds <- names(which(!((apply(data.matrix(lsiProjection[,2:25]==0),MARGIN=1, all)))))\n",
    "umapProjection <- round(predict(umap, data.matrix(lsiProjection[noZero.inds,2:25])), 2)\n",
    "#umapProjection <- round(predict(umap, data.matrix(lsiProjection[,2:25])), 2)"
   ]
  },
  {
   "cell_type": "markdown",
   "id": "1b7f541e",
   "metadata": {},
   "source": [
    "## 6. Plot our clustered results"
   ]
  },
  {
   "cell_type": "code",
   "execution_count": null,
   "id": "311cf7b0",
   "metadata": {},
   "outputs": [],
   "source": [
    "# Multiply by -1 to make the pseudotime read left to right\n",
    "ref_df <- data.frame(umap$layout*-1, (curr[[]]), Clusters = clust2)\n",
    "\n",
    "p0 <- ggplot(ref_df, aes(x= X1, y = X2, color = Clusters)) +\n",
    "   geom_point(size = 0.5) +\n",
    "   labs(x = \"UMAP1\", y= \"UMAP2\", color = \"\") +\n",
    "  pretty_plot() + L_border() + theme(legend.position = \"bottom\") \n",
    "\n",
    "print(p0)\n",
    "ggsave2(p0, file = file.path(outdir, paste0(exp, \".merged.lsi.Batchlabels.png\")))"
   ]
  },
  {
   "cell_type": "markdown",
   "id": "adb18268",
   "metadata": {},
   "source": [
    "## 7. Project the ref and query on UMAP coordinates"
   ]
  },
  {
   "cell_type": "code",
   "execution_count": null,
   "id": "fb4bc2a7",
   "metadata": {
    "scrolled": true
   },
   "outputs": [],
   "source": [
    "# Merge the query and ref into projection_df\n",
    "merged_projection <- data.frame(\n",
    "  celltype = c((ext[[]])[rownames(umapProjection),]$Group, rep(\"none\", dim(ref_df)[1])),\n",
    "  umap1 = c(umapProjection[,1]*-1, ref_df$X1),\n",
    "  umap2 = c(umapProjection[,2]*-1, ref_df$X2)\n",
    ")\n"
   ]
  },
  {
   "cell_type": "code",
   "execution_count": null,
   "id": "5cb689b8",
   "metadata": {
    "scrolled": true
   },
   "outputs": [],
   "source": [
    "p1 <- ggplot(merged_projection[dim(merged_projection)[1]:1,], aes(x= umap1, y = umap2, color = celltype, label = celltype)) +\n",
    "  geom_point(size = 0.5) +\n",
    "  labs(x = \"UMAP1\", y= \"UMAP2\", color = \"CD1 FACS \") +\n",
    "  pretty_plot() + L_border() + theme(legend.position = \"bottom\") +\n",
    "  scale_color_manual(values = c(ejc_color_maps, \"none\" = \"lightgrey\", \"Monocytes\" = \"orange2\")) \n",
    "print(p1)\n",
    "\n",
    "ggsave2(p1, file = file.path(outdir, paste0(exp, \".project.ext.cellLabels.png\")))\n"
   ]
  },
  {
   "cell_type": "code",
   "execution_count": null,
   "id": "51c71701",
   "metadata": {},
   "outputs": [],
   "source": []
  },
  {
   "cell_type": "markdown",
   "id": "57afd991",
   "metadata": {},
   "source": [
    "## 8. LSI classify from the reference projected into sample space\n",
    "(Also try the umap project and classify"
   ]
  },
  {
   "cell_type": "code",
   "execution_count": null,
   "id": "791847d1",
   "metadata": {
    "scrolled": true
   },
   "outputs": [],
   "source": [
    "## Classifying each cluster to nearest reference cell\n",
    "use_means <- FALSE\n",
    "if(use_means){\n",
    "    projected_clustersbasic <- classify_from_reference(data.matrix(lsiProjection)[rownames(umapProjection),1:25],t(means_lsi)[,1:25])    \n",
    "}else{\n",
    "    ## Classifying each cell to nearest reference cell.\n",
    "    projected_clustersbasic <- classify_from_reference(data.matrix(lsiProjection)[rownames(umapProjection),1:25],\n",
    "                                                   (lsi2$matSVD)[,1:25])    \n",
    "}\n",
    "head(projected_clustersbasic)\n",
    "\n",
    "\n",
    "                                                   \n",
    "\n"
   ]
  },
  {
   "cell_type": "code",
   "execution_count": null,
   "id": "27e0a026",
   "metadata": {
    "scrolled": true
   },
   "outputs": [],
   "source": [
    "#annovec <- c(\"myeloid\", \"myeloid\", \"CD4\", \"CD4\", \"Bcell\", \"CD8\", \"myeloid\", \"myeloid\", \"myeloid\", \"NKcell\", \"CD4\", \"CD8\", \"Bcell\")\n",
    "annovec <- ext[[\"Group\"]]\n",
    "#names(annovec) <- paste0(\"mc\", as.character(1:13))\n",
    "projected_clusters <- annovec[as.character(projected_clustersbasic),]\n",
    "projected_clusters\n",
    "curr[[\"predict\"]] <- projected_clusters\n",
    "\n",
    "group_or_pred <- function(x){\n",
    "    if (is.na(x[\"Group\"])){\n",
    "      return(x[\"predict\"])\n",
    "    }\n",
    "    return(x[\"Group\"])\n",
    "    \n",
    "    }\n",
    "curr[[\"group_or_predict\"]] <- apply(curr[[]], MARGIN=1, group_or_pred)"
   ]
  },
  {
   "cell_type": "code",
   "execution_count": null,
   "id": "46615a37",
   "metadata": {},
   "outputs": [],
   "source": [
    "ext[[\"group_or_predict\"]] <- apply(ext[[]], MARGIN=1, group_or_pred)"
   ]
  },
  {
   "cell_type": "code",
   "execution_count": null,
   "id": "0378ff70",
   "metadata": {
    "scrolled": true
   },
   "outputs": [],
   "source": [
    "# Ref umap\n",
    "plot_df <- data.frame(umap$layout*-1, (curr[[]]), Clusters = clust2)\n",
    "\n",
    "# query projection \n",
    "merged_predicted <- data.frame(\n",
    "  celltype = c((ext[[]])[rownames(umapProjection),]$Group), \n",
    "               plot_df[,\"group_or_predict\"]),\n",
    "  umap1 = c(umapProjection[,1]*-1, plot_df$X1),\n",
    "  umap2 = c(umapProjection[,2]*-1, plot_df$X2),\n",
    "  orig.ident=c(rep(\"reference\",dim(umapProjection)[1]),plot_df$orig.ident)\n",
    ")\n",
    "head(merged_predicted)"
   ]
  },
  {
   "cell_type": "markdown",
   "id": "bec9b332",
   "metadata": {},
   "source": [
    "## 9. Plot both annotated cell from external and predicted cell type in our sample overlaid on UMAP"
   ]
  },
  {
   "cell_type": "code",
   "execution_count": null,
   "id": "1a975a72",
   "metadata": {
    "scrolled": false
   },
   "outputs": [],
   "source": [
    "p1 <- ggplot(merged_predicted[dim(merged_predicted)[1]:1,], aes(x= umap1, y = umap2, color = celltype, label = celltype)) +\n",
    "  geom_point(size = 0.5) +\n",
    "  labs(x = \"UMAP1\", y= \"UMAP2\", color=\"celltype\") +\n",
    "  pretty_plot() + L_border() + theme(legend.position = \"bottom\") +\n",
    "  scale_color_manual(values = c(ejc_color_maps, \"none\" = \"lightgrey\",\"Monocytes\" = \"orange2\")) \n",
    "print(p1)\n",
    "\n",
    "ggsave2(p1, file = file.path(outdir, paste0(exp, \".project.cellLabels.png\")))\n"
   ]
  },
  {
   "cell_type": "markdown",
   "id": "653c8ad2",
   "metadata": {},
   "source": [
    "## 10. Plot predicted cell type of our sample overlaid on UMAP"
   ]
  },
  {
   "cell_type": "code",
   "execution_count": null,
   "id": "a7ad4fa3",
   "metadata": {
    "scrolled": false
   },
   "outputs": [],
   "source": [
    "# Multiply by -1 to make the pseudotime read left to right\n",
    "plot_df <- data.frame(umap$layout*-1, (curr[[]]))\n",
    "\n",
    "p0 <- ggplot(plot_df, aes(x= X1, y = X2, color = group_or_predict)) +\n",
    "   geom_point(size = 0.5) +\n",
    "   labs(x = \"UMAP1\", y= \"UMAP2\", color = \"celltype\") +\n",
    "   pretty_plot() + L_border() + theme(legend.position = \"bottom\") +\n",
    "   scale_color_manual(values = c(ejc_color_maps, \"none\" = \"lightgrey\",\"Monocytes\" = \"orange2\")) \n",
    "\n",
    "\n",
    "print(p0)\n",
    "ggsave2(p0, file = file.path(outdir, paste0(exp, \".project.sample.cellLabels.umap.png\")))\n"
   ]
  },
  {
   "cell_type": "markdown",
   "id": "66a74657",
   "metadata": {},
   "source": [
    "## Save the merged projections and celltype"
   ]
  },
  {
   "cell_type": "code",
   "execution_count": null,
   "id": "54820073",
   "metadata": {},
   "outputs": [],
   "source": [
    "write.table(merged_predicted, file = file.path(outdir, paste0(exp, \".merged.predicted_celltype.txt\")),quote=F)"
   ]
  },
  {
   "cell_type": "markdown",
   "id": "3ab5b77f",
   "metadata": {},
   "source": [
    "## 11. Plot predicted cell type abundance "
   ]
  },
  {
   "cell_type": "code",
   "execution_count": null,
   "id": "f8104320",
   "metadata": {
    "scrolled": true
   },
   "outputs": [],
   "source": [
    "tbl <- with(plot_df, table(orig.ident, predict))\n",
    "tbl\n",
    "p1 <- ggplot(as.data.frame(tbl), aes(factor(orig.ident), Freq, fill = predict)) +\n",
    "    geom_bar(position = 'stack', stat='identity') +\n",
    "    ggtitle(paste(exp, \"Predicted cell type\")) + \n",
    "    theme(plot.title=element_text(size=24))\n",
    "ggsave2(p1, file = file.path(outdir, paste0(exp, \".project.sample.cellLabels.abundace.png\")))\n"
   ]
  },
  {
   "cell_type": "markdown",
   "id": "eed0af4e",
   "metadata": {},
   "source": [
    "## Plot abundance for external data"
   ]
  },
  {
   "cell_type": "code",
   "execution_count": null,
   "id": "41bf0c46",
   "metadata": {
    "scrolled": true
   },
   "outputs": [],
   "source": [
    "ext_df <- ext[[]]# projection_df #data.frame(umap$layout*-1, (ext[[]]))\n",
    "\n",
    "tbl <- with(ext_df, table(orig.ident, Group))\n",
    "tbl\n",
    "p1 <- ggplot(as.data.frame(tbl), aes(factor(orig.ident), Freq, fill = Group)) +\n",
    "    geom_bar(position = 'stack', stat='identity') +\n",
    "    ggtitle(paste(exp, \"Predicted cell type\")) + \n",
    "    theme(plot.title=element_text(size=24))\n",
    "ggsave2(p1, file = file.path(outdir, paste0(exp, \".project.ext.cellLabels.abundace.png\")))\n"
   ]
  },
  {
   "cell_type": "markdown",
   "id": "71374e0a",
   "metadata": {},
   "source": [
    "## Save the sample LSI projection results and cluster results"
   ]
  },
  {
   "cell_type": "code",
   "execution_count": null,
   "id": "bb7ff825",
   "metadata": {},
   "outputs": [],
   "source": [
    "write.table(plot_df, file = file.path(outdir, paste0(exp, \"_umapProjection.txt\")),quote=F)"
   ]
  },
  {
   "cell_type": "markdown",
   "id": "128af962",
   "metadata": {},
   "source": [
    "## Save a barcode,cluster csv file\n",
    "### 1 with sample ID in each cell barcode and without (to be used for 10x Loupe browser)."
   ]
  },
  {
   "cell_type": "code",
   "execution_count": null,
   "id": "08b3ff23",
   "metadata": {
    "scrolled": true
   },
   "outputs": [],
   "source": [
    "write.table(plot_df[, \"predict\", drop=FALSE], file = file.path(outdir, paste0(exp, \".clusters.csv\")), col.names=FALSE,\n",
    "          row.names=TRUE, quote=FALSE, sep=\",\")"
   ]
  },
  {
   "cell_type": "code",
   "execution_count": null,
   "id": "2eeb8186",
   "metadata": {
    "scrolled": true
   },
   "outputs": [],
   "source": [
    "init_bc <- function(x){\n",
    "    x <- unlist(stringr::str_split(x, pattern=\"_\", simplify = T))\n",
    "    return(as.character(x[2]))\n",
    "}\n",
    "plot_df$BC <- sapply(as.character(rownames(plot_df)), init_bc)                        \n",
    "\n",
    "write.table(plot_df[, c(\"BC\", \"predict\"), drop=FALSE], file = file.path(outdir, paste0(exp, \".clusters.BC.csv\")), col.names=FALSE,\n",
    "          row.names=FALSE, quote=FALSE, sep=\",\")"
   ]
  }
 ],
 "metadata": {
  "celltoolbar": "Tags",
  "kernelspec": {
   "display_name": "R [conda env:mito_trace] *",
   "language": "R",
   "name": "conda-env-mito_trace-r"
  },
  "language_info": {
   "codemirror_mode": "r",
   "file_extension": ".r",
   "mimetype": "text/x-r-source",
   "name": "R",
   "pygments_lexer": "r",
   "version": "4.0.2"
  }
 },
 "nbformat": 4,
 "nbformat_minor": 5
}
