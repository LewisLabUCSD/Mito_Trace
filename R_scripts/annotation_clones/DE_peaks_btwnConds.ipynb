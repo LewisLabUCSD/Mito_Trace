{
 "cells": [
  {
   "cell_type": "markdown",
   "id": "223d6f46",
   "metadata": {},
   "source": [
    "## Runs DE on different clusters. Also runs DE within each cluster for each condition.\n",
    "Does this over each donor and combined"
   ]
  },
  {
   "cell_type": "code",
   "execution_count": 1,
   "id": "235ae72f",
   "metadata": {
    "tags": [
     "parameters"
    ]
   },
   "outputs": [],
   "source": [
    "# Input info\n",
    "se_f = \"/data/Mito_Trace/output/pipeline/DUPI_april08_2021/MTblacklist_mtasnucl_Bonly/data/merged/MT/cellr_True/numread_200/filters/minC10_minR50_topN0_hetT0.001_hetC10_hetCount5_bq20/mgatk/vireoIn/clones/variants_init/knn/kparam_3/concat/annotation_clones/SE.rds\"\n",
    "sample_names = \"preB,postB\"\n",
    "outdir = \"/data/Mito_Trace/output/pipeline/DUPI_april08_2021/MTblacklist_mtasnucl_Bonly/data/merged/MT/cellr_True/numread_200/filters/minC10_minR50_topN0_hetT0.001_hetC10_hetCount5_bq20/mgatk/vireoIn/clones/variants_init/knn/kparam_3/concat/annotation_clones/peaks_donors_DE_minPct_00\"\n",
    "\n",
    "# Parameters\n",
    "assay=\"ATAC\"\n",
    "minPct = 0.00\n",
    "logfcthresh = 0.25\n",
    "top_de = 3\n",
    "p_thresh=0.1\n",
    "test.use=\"LR\"\n",
    "latent.vars = \"peak_region_fragments\"\n",
    "\n",
    "# Parallel processing\n",
    "cores = 4\n",
    "\n",
    "# R utils script\n",
    "utils_script <- \"/data/Mito_Trace/R_scripts/seurat_utils.R\"\n",
    "\n"
   ]
  },
  {
   "cell_type": "code",
   "execution_count": 2,
   "id": "40711067",
   "metadata": {
    "scrolled": false
   },
   "outputs": [
    {
     "name": "stderr",
     "output_type": "stream",
     "text": [
      "Attaching SeuratObject\n",
      "\n",
      "Warning message in dir.create(btwnConds_inClust_sepDonrs.outdir):\n",
      "“'/data/Mito_Trace/output/pipeline/DUPI_april08_2021/MTblacklist_mtasnucl_Bonly/data/merged/MT/cellr_True/numread_200/filters/minC10_minR50_topN0_hetT0.001_hetC10_hetCount5_bq20/mgatk/vireoIn/clones/variants_init/knn/kparam_3/concat/annotation_clones/peaks_donors_DE_minPct_00/btwnConds_inClust_sepDonrs' already exists”\n"
     ]
    }
   ],
   "source": [
    "source(utils_script)\n",
    "outdir = outdir\n",
    "dir.create(outdir, showWarnings = FALSE)\n",
    "\n",
    "btwnConds_inClust_sepDonrs.outdir <- file.path(outdir, \"btwnConds_inClust_sepDonrs\")\n",
    "dir.create(btwnConds_inClust_sepDonrs.outdir)\n",
    "\n",
    "btwnConds_inClust.outdir <- file.path(outdir, \"btwnConds_inClust\")\n",
    "dir.create(btwnConds_inClust.outdir, showWarnings = FALSE)"
   ]
  },
  {
   "cell_type": "code",
   "execution_count": 3,
   "id": "7db7da50",
   "metadata": {},
   "outputs": [
    {
     "data": {
      "text/html": [
       "<style>\n",
       ".list-inline {list-style: none; margin:0; padding: 0}\n",
       ".list-inline>li {display: inline-block}\n",
       ".list-inline>li:not(:last-child)::after {content: \"\\00b7\"; padding: 0 .5ex}\n",
       "</style>\n",
       "<ol class=list-inline><li>'preB'</li><li>'postB'</li></ol>\n"
      ],
      "text/latex": [
       "\\begin{enumerate*}\n",
       "\\item 'preB'\n",
       "\\item 'postB'\n",
       "\\end{enumerate*}\n"
      ],
      "text/markdown": [
       "1. 'preB'\n",
       "2. 'postB'\n",
       "\n",
       "\n"
      ],
      "text/plain": [
       "[1] \"preB\"  \"postB\""
      ]
     },
     "metadata": {},
     "output_type": "display_data"
    }
   ],
   "source": [
    "sample_names <- unlist(strsplit(sample_names, \",\")[[1]])\n",
    "sample_names"
   ]
  },
  {
   "cell_type": "code",
   "execution_count": 4,
   "id": "aad4f638",
   "metadata": {
    "scrolled": true
   },
   "outputs": [
    {
     "name": "stderr",
     "output_type": "stream",
     "text": [
      "Loading required package: stats4\n",
      "\n",
      "Loading required package: BiocGenerics\n",
      "\n",
      "\n",
      "Attaching package: ‘BiocGenerics’\n",
      "\n",
      "\n",
      "The following objects are masked from ‘package:stats’:\n",
      "\n",
      "    IQR, mad, sd, var, xtabs\n",
      "\n",
      "\n",
      "The following objects are masked from ‘package:base’:\n",
      "\n",
      "    anyDuplicated, append, as.data.frame, basename, cbind, colnames,\n",
      "    dirname, do.call, duplicated, eval, evalq, Filter, Find, get, grep,\n",
      "    grepl, intersect, is.unsorted, lapply, Map, mapply, match, mget,\n",
      "    order, paste, pmax, pmax.int, pmin, pmin.int, Position, rank,\n",
      "    rbind, Reduce, rownames, sapply, setdiff, sort, table, tapply,\n",
      "    union, unique, unsplit, which.max, which.min\n",
      "\n",
      "\n",
      "Loading required package: S4Vectors\n",
      "\n",
      "\n",
      "Attaching package: ‘S4Vectors’\n",
      "\n",
      "\n",
      "The following objects are masked from ‘package:base’:\n",
      "\n",
      "    expand.grid, I, unname\n",
      "\n",
      "\n",
      "Loading required package: IRanges\n",
      "\n",
      "Loading required package: GenomeInfoDb\n",
      "\n",
      "Loading required package: ensembldb\n",
      "\n",
      "Loading required package: GenomicFeatures\n",
      "\n",
      "Loading required package: AnnotationDbi\n",
      "\n",
      "Loading required package: Biobase\n",
      "\n",
      "Welcome to Bioconductor\n",
      "\n",
      "    Vignettes contain introductory material; view with\n",
      "    'browseVignettes()'. To cite Bioconductor, see\n",
      "    'citation(\"Biobase\")', and for packages 'citation(\"pkgname\")'.\n",
      "\n",
      "\n",
      "Loading required package: AnnotationFilter\n",
      "\n",
      "\n",
      "Attaching package: 'ensembldb'\n",
      "\n",
      "\n",
      "The following object is masked from 'package:stats':\n",
      "\n",
      "    filter\n",
      "\n",
      "\n",
      "\n",
      "Attaching package: 'data.table'\n",
      "\n",
      "\n",
      "The following object is masked from 'package:GenomicRanges':\n",
      "\n",
      "    shift\n",
      "\n",
      "\n",
      "The following object is masked from 'package:IRanges':\n",
      "\n",
      "    shift\n",
      "\n",
      "\n",
      "The following objects are masked from 'package:S4Vectors':\n",
      "\n",
      "    first, second\n",
      "\n",
      "\n",
      "\n",
      "Attaching package: 'magrittr'\n",
      "\n",
      "\n",
      "The following object is masked from 'package:AnnotationFilter':\n",
      "\n",
      "    not\n",
      "\n",
      "\n",
      "\n",
      "Attaching package: 'cowplot'\n",
      "\n",
      "\n",
      "The following object is masked from 'package:patchwork':\n",
      "\n",
      "    align_plots\n",
      "\n",
      "\n",
      "\n",
      "Attaching package: 'future'\n",
      "\n",
      "\n",
      "The following object is masked from 'package:AnnotationFilter':\n",
      "\n",
      "    value\n",
      "\n",
      "\n",
      "The following object is masked from 'package:GenomicRanges':\n",
      "\n",
      "    values\n",
      "\n",
      "\n",
      "The following object is masked from 'package:S4Vectors':\n",
      "\n",
      "    values\n",
      "\n",
      "\n"
     ]
    },
    {
     "data": {
      "text/html": [
       "<pre class=language-r><code>structure(function (..., envir = parent.frame()) \n",
       "{\n",
       "<span style=white-space:pre-wrap>    future &lt;- SequentialFuture(..., envir = envir)</span>\n",
       "<span style=white-space:pre-wrap>    if (!future$lazy) </span>\n",
       "<span style=white-space:pre-wrap>        future &lt;- run(future)</span>\n",
       "<span style=white-space:pre-wrap>    invisible(future)</span>\n",
       "}, class = c(\"FutureStrategy\", \"sequential\", \"uniprocess\", \"future\", \n",
       "\"function\"))</code></pre>"
      ],
      "text/latex": [
       "\\begin{minted}{r}\n",
       "structure(function (..., envir = parent.frame()) \n",
       "\\{\n",
       "    future <- SequentialFuture(..., envir = envir)\n",
       "    if (!future\\$lazy) \n",
       "        future <- run(future)\n",
       "    invisible(future)\n",
       "\\}, class = c(\"FutureStrategy\", \"sequential\", \"uniprocess\", \"future\", \n",
       "\"function\"))\n",
       "\\end{minted}"
      ],
      "text/markdown": [
       "```r\n",
       "structure(function (..., envir = parent.frame()) \n",
       "{\n",
       "    future <- SequentialFuture(..., envir = envir)\n",
       "    if (!future$lazy) \n",
       "        future <- run(future)\n",
       "    invisible(future)\n",
       "}, class = c(\"FutureStrategy\", \"sequential\", \"uniprocess\", \"future\", \n",
       "\"function\"))\n",
       "```"
      ],
      "text/plain": [
       "sequential:\n",
       "- args: function (..., envir = parent.frame())\n",
       "- tweaked: FALSE\n",
       "- call: NULL"
      ]
     },
     "metadata": {},
     "output_type": "display_data"
    },
    {
     "name": "stderr",
     "output_type": "stream",
     "text": [
      "Warning message:\n",
      "\"Strategy 'multiprocess' is deprecated in future (>= 1.20.0). Instead, explicitly specify either 'multisession' or 'multicore'. In the current R session, 'multiprocess' equals 'multicore'.\"\n"
     ]
    }
   ],
   "source": [
    "library(GenomicRanges)\n",
    "library(Seurat)\n",
    "library(Signac)\n",
    "library(GenomeInfoDb)\n",
    "library(EnsDb.Hsapiens.v75)\n",
    "library(ggplot2)\n",
    "library(patchwork)\n",
    "set.seed(1234)\n",
    "library(data.table)\n",
    "library(magrittr)\n",
    "library(cowplot)\n",
    "library(metap)\n",
    "library(\"RColorBrewer\")\n",
    "\n",
    "library(future)\n",
    "plan()\n",
    "\n",
    "plan(\"multiprocess\", workers = cores)\n",
    "#options(future.globals.maxSize = 50000 * 1024^2) # for 50 Gb RAM\n",
    "options(future.globals.maxSize = 8000 * 1024^2)"
   ]
  },
  {
   "cell_type": "code",
   "execution_count": 5,
   "id": "7cc056e3",
   "metadata": {
    "scrolled": true
   },
   "outputs": [],
   "source": [
    "se <- readRDS(se_f)#file.path(indir, paste0(\"allSamples.integrated.rds\")))\n",
    "DefaultAssay(se) <- assay\n",
    "se"
   ]
  },
  {
   "cell_type": "markdown",
   "id": "07575123",
   "metadata": {},
   "source": [
    "# Stimulus specific response in each cluster "
   ]
  },
  {
   "cell_type": "markdown",
   "id": "cb8ed2b7",
   "metadata": {},
   "source": [
    "## Each donor separately"
   ]
  },
  {
   "cell_type": "code",
   "execution_count": null,
   "id": "584b7869",
   "metadata": {},
   "outputs": [],
   "source": [
    "se$condition.name <- as.factor(apply(se[[]][ , c(\"orig.ident\", \"seurat_clusters\", \"donor\") ] , 1 , paste , collapse = \"_\" ))\n",
    "se$condition.clust <- as.factor(apply(se[[]][ , c(\"orig.ident\", \"seurat_clusters\") ] , 1 , paste , collapse = \"_\" ))"
   ]
  },
  {
   "cell_type": "code",
   "execution_count": null,
   "id": "b1688445",
   "metadata": {
    "scrolled": true
   },
   "outputs": [],
   "source": [
    "# get clust and donor information\n",
    "source(utils_script)\n",
    "clust.ids <- levels(se$seurat_clusters)\n",
    "don.ids <- levels(se$donor)\n",
    "#cols <- c(\"seurat_clusters\", \"donor\")\n",
    "curr.ids <- levels(as.factor(apply(se[[]][ , c( \"seurat_clusters\", \"donor\") ] , 1 , paste , collapse = \"_\" )))\n",
    "# Setup Idents to include the condition, clusters and donor\n",
    "Idents(se) <- as.factor(apply(se[[]][ , c(\"orig.ident\", \"seurat_clusters\", \"donor\") ] , 1 , paste , collapse = \"_\" ))\n",
    "se$curr.id = Idents(se)\n",
    "\n",
    "# setup output\n",
    "# all.pvals is gene-by-comparison df of the pvalue results\n",
    "all.pvals <- data.frame(matrix(nrow=dim(se)[1],ncol=0),\n",
    "                          row.names=row.names(se))\n",
    "all.names.sig <- c()\n",
    "\n",
    "# Loop through clusters and donors and compare between conditions\n",
    "for (cl in clust.ids){\n",
    "    if (cl == \"None\"){\n",
    "        next\n",
    "    }\n",
    "    for (d in don.ids){\n",
    "        if (d == \"None\"){\n",
    "            print('Skipping None')\n",
    "            next\n",
    "        }\n",
    "        c <- paste0(cl, \"_\", d)\n",
    "        cl.names.sig = c()\n",
    "        \n",
    "        try({\n",
    "            print(\"c\")\n",
    "            print(c)\n",
    "            id1 <- paste(sample_names[[1]], c, sep=\"_\")\n",
    "            id2 <- paste(sample_names[[2]], c, sep=\"_\")         \n",
    "            curr.name <- c\n",
    "            curr.name <- paste(c, sample_names[[1]], sample_names[[2]], sep='_')\n",
    "            curr.clust.donor.outdir <- file.path(btwnConds_inClust_sepDonrs.outdir,\n",
    "                                                 paste0(\"clust_\", cl, \"donor_\", d))\n",
    "            dir.create(curr.clust.donor.outdir)\n",
    "\n",
    "            curr.sig <- find.markers.and.plot(se, id1, id2, curr.clust.donor.outdir, \n",
    "                                              curr.name=curr.name, \n",
    "                                              latent.var=latent.vars, test.use=test.use,\n",
    "                                              min.pct=minPct, p.thresh=p_thresh)\n",
    "            if (length(names(curr.sig)) > 0){\n",
    "                print(\"adding sig vals to all pvals\")\n",
    "                names.sig <- rownames(curr.sig)\n",
    "                all.names.sig <- c(all.names.sig, head(names.sig, top_de))\n",
    "                all.pvals[names.sig,curr.name] <- curr.sig$p_val_adj_BH\n",
    "            }else{\n",
    "                print(\"no sig variables found\")\n",
    "            }\n",
    "        })\n",
    "    }\n",
    "}"
   ]
  },
  {
   "cell_type": "markdown",
   "id": "eb59f8e6",
   "metadata": {},
   "source": [
    "## Combined DE results"
   ]
  },
  {
   "cell_type": "markdown",
   "id": "02761ea8",
   "metadata": {},
   "source": [
    "## i. p-values ordered by average -log p-value if they were significant (p<0.1 here)"
   ]
  },
  {
   "cell_type": "code",
   "execution_count": null,
   "id": "f9e91faa",
   "metadata": {
    "scrolled": true
   },
   "outputs": [],
   "source": [
    "sig.all.ordered <- sort(rowMeans(-log10(all.pvals),na.rm=T), decreasing=T)\n",
    "dot <- DotPlot(se, scale=FALSE,\n",
    "               features = head(names(sig.all.ordered),20), \n",
    "               cluster.idents=T) + RotatedAxis()\n",
    "dot\n",
    "\n",
    "de.plots(se, names(sig.all.ordered), btwnConds_inClust_sepDonrs.outdir, \n",
    "         curr.name=\"allClusters.pvalsOrdered\", max.size=20)"
   ]
  },
  {
   "cell_type": "markdown",
   "id": "dbb3a069",
   "metadata": {},
   "source": [
    "### Same features, but dont separate by donors"
   ]
  },
  {
   "cell_type": "code",
   "execution_count": null,
   "id": "7ee9bde7",
   "metadata": {
    "scrolled": true
   },
   "outputs": [],
   "source": [
    "Idents(se)<-se$seurat_clusters\n",
    "sig.all.ordered <- sort(rowMeans(-log10(all.pvals),na.rm=T), decreasing=T)\n",
    "dot <- DotPlot(se, scale=T,\n",
    "               features = head(names(sig.all.ordered),20), \n",
    "               cluster.idents=F) + RotatedAxis() + ylab(\"Cluster\")\n",
    "ggsave(file.path(btwnConds_inClust_sepDonrs.outdir,\n",
    "                 \"allClusters.combineDonorsConds.pvalsOrdered.png\"))\n",
    "\n",
    "dot"
   ]
  },
  {
   "cell_type": "code",
   "execution_count": null,
   "id": "4e823d81",
   "metadata": {
    "scrolled": true
   },
   "outputs": [],
   "source": [
    "all.pvals.nafill <- all.pvals\n",
    "all.pvals.nafill[,] <- -log10(zoo::na.fill(all.pvals,1))\n",
    "all.pvals.nafill\n",
    "\n",
    "Idents(se)<-se$seurat_clusters\n",
    "sig.all.ordered <- sort(rowMeans(all.pvals.nafill), decreasing=T)\n",
    "dot <- DotPlot(se, scale=T,\n",
    "               features = head(names(sig.all.ordered),20), \n",
    "               cluster.idents=F) + RotatedAxis() + ylab(\"Cluster\")\n",
    "ggsave(file.path(btwnConds_inClust_sepDonrs.outdir,\n",
    "                 \"allClusters.combineDonorsConds.pvalsOrderedNA.png\"))\n",
    "\n",
    "dot"
   ]
  },
  {
   "cell_type": "code",
   "execution_count": null,
   "id": "7941413d",
   "metadata": {
    "scrolled": true
   },
   "outputs": [],
   "source": [
    "Idents(se)<-se$condition.clust\n",
    "sig.all.ordered <- sort(rowMeans(-log10(all.pvals),na.rm=T), decreasing=T)\n",
    "dot <- DotPlot(se, scale=T,\n",
    "               features = head(names(sig.all.ordered),20), \n",
    "               cluster.idents=F) + RotatedAxis() + ylab(\"Condition_Cluster\")\n",
    "ggsave(file.path(btwnConds_inClust_sepDonrs.outdir, \"allClusters.combineDonors.pvalsOrdered.png\"))\n",
    "dot"
   ]
  },
  {
   "cell_type": "code",
   "execution_count": null,
   "id": "16a26c22",
   "metadata": {
    "scrolled": true
   },
   "outputs": [],
   "source": [
    "all.pvals.nafill <- all.pvals\n",
    "all.pvals.nafill[,] <- -log10(zoo::na.fill(all.pvals,1))\n",
    "\n",
    "Idents(se)<-se$condition.clust\n",
    "sig.all.ordered <- sort(rowMeans(all.pvals.nafill), decreasing=T)\n",
    "dot <- DotPlot(se, scale=T,\n",
    "               features = head(names(sig.all.ordered),20), \n",
    "               cluster.idents=F) + RotatedAxis() + ylab(\"Cluster\")\n",
    "ggsave(file.path(btwnConds_inClust_sepDonrs.outdir,\n",
    "                 \"allClusters.combineDonors.pvalsOrderedNA.png\"))\n",
    "\n",
    "dot"
   ]
  },
  {
   "cell_type": "markdown",
   "id": "2a0a3de0",
   "metadata": {},
   "source": [
    "## ii. Taking top 3 of each sig DE"
   ]
  },
  {
   "cell_type": "code",
   "execution_count": null,
   "id": "07e019f4",
   "metadata": {
    "scrolled": true
   },
   "outputs": [],
   "source": [
    "all.names.sig <- unique(all.names.sig)\n",
    "de.plots(se, all.names.sig, btwnConds_inClust.outdir, curr.name=\"allDonors.allClusters\", max.size=15)\n",
    "\n",
    "dot <- DotPlot(se, scale=T,\n",
    "               features = head(all.names.sig,20), \n",
    "               cluster.idents=T) + RotatedAxis()\n",
    "dot\n",
    "ggsave(file.path(btwnConds_inClust_sepDonrs.outdir, \"allClusters.combineDonors.top3de.png\"))\n",
    "ggsave(file.path(btwnConds_inClust_sepDonrs.outdir, \"allClusters.combineDonors.top3de.pdf\"))"
   ]
  },
  {
   "cell_type": "code",
   "execution_count": null,
   "id": "c777952b",
   "metadata": {},
   "outputs": [],
   "source": [
    "# Get commone DE values\n",
    "# tfs_nclust_set_de_overlap = {} # for each tf count number of clusters seen with de results in at least 1 donor\n",
    "# tfs_clust_de = {}\n",
    "\n",
    "# clust_dirs = glob.glob(cond_indir+\"/clust_*\")\n",
    "# clusters = [basename(x).split(\"_\")[-1] for x in clust_dirs]\n",
    "# #clusters.sort()\n",
    "\n",
    "# for i in clust_dirs:\n",
    "#     print(\"clusert\", i)\n",
    "#     clust = basename(i).split(\"_\")[-1]\n",
    "    \n",
    "#     for d in range(n_donors):\n",
    "#         print(\"donor\", d)\n",
    "#         curr_dir = join(i, f\"donor{d}\")\n",
    "#         curr_f = glob.glob(join(curr_dir, \"*DE.csv\"))\n",
    "#         assert(len(curr_f)<=1)\n",
    "#         if len(curr_f) == 0:\n",
    "#             print(\"no file\")\n",
    "#             continue\n",
    "#         curr_f = curr_f[0]\n",
    "#         curr_de = pd.read_csv(curr_f,index_col=0)\n",
    "#         #print('curr_de', curr_de.shape)\n",
    "#         curr_de = curr_de.loc[curr_de[\"p_val_adj_BH\"] < p_thresh]\n",
    "#         for tf in curr_de.index:\n",
    "#             if tf in tfs_nclust_set_de_overlap.keys():\n",
    "#                 tfs_nclust_set_de_overlap[tf].add(clust)\n",
    "#                     #tfs_nclust_de_overlap[tf] += 1\n",
    "#                 tfs_clust_de[tf].append((clust, d))\n",
    "#             else:\n",
    "#                 #tfs_nclust_de_overlap[tf] = 1\n",
    "#                 tfs_nclust_set_de_overlap[tf] = set([clust])\n",
    "#                 tfs_clust_de[tf] = [(clust,d)]\n",
    "#         print('curr_de sig', curr_de.shape)\n",
    "\n"
   ]
  },
  {
   "cell_type": "markdown",
   "id": "92603750",
   "metadata": {},
   "source": [
    "--------"
   ]
  },
  {
   "cell_type": "markdown",
   "id": "2eb9b989",
   "metadata": {},
   "source": [
    "## Stimulus specific response in each cluster, not splitting donors"
   ]
  },
  {
   "cell_type": "code",
   "execution_count": null,
   "id": "13dd179c",
   "metadata": {
    "scrolled": true
   },
   "outputs": [],
   "source": [
    "\n",
    "source(utils_script)\n",
    "\n",
    "all.pvals <- data.frame(matrix(nrow=dim(se)[1],ncol=0),\n",
    "                          row.names=row.names(se))\n",
    "all.names.sig <- c()\n",
    "\n",
    "#sample_names\n",
    "cluster.ids <- sort(unique(se$seurat_clusters))\n",
    "se$celltype.stim <- paste(se$seurat_clusters, se$orig.ident, sep = \"_\")\n",
    "se$celltype <- se$seurat_clusters\n",
    "Idents(se) <- \"celltype.stim\"\n",
    "\n",
    "for (curr.clust in cluster.ids){\n",
    "    ident.1 = paste0(curr.clust, \"_\", sample_names[[1]]) \n",
    "    ident.2 = paste0(curr.clust, \"_\", sample_names[[2]])\n",
    "    try({\n",
    "        print(curr.clust)\n",
    "        #se.filt <- subset(se, idents = c(ident.1,ident.2))\n",
    "        #curr.donor = se.filt$donor[[1]] #strsplit(c,\"_\")[[2]]\n",
    "        curr.name <-paste0(\"clust_\", curr.clust)\n",
    "        curr.clust.outdir <- file.path(btwnConds_inClust.outdir, paste0(\"clust_\", curr.clust))\n",
    "        dir.create(curr.clust.outdir)\n",
    "\n",
    "        curr.sig <- find.markers.and.plot(se, ident.1, ident.2, curr.clust.outdir, curr.name=curr.clust, \n",
    "                              min.pct=minPct, p.thresh=p_thresh,latent.var=latent.vars, test.use=test.use)\n",
    "        names.sig <- rownames(curr.sig)\n",
    "        all.names.sig <- c(all.names.sig, head(names.sig, top_de))\n",
    "        \n",
    "        all.pvals[names.sig,curr.clust] <- curr.sig$p_val_adj_BH\n",
    "\n",
    "        curr_clust <- subset(se, seurat_clusters == curr.clust)\n",
    "        avg_curr_clust <- data.frame(log1p(AverageExpression(curr_clust, verbose = FALSE)$RNA))\n",
    "        avg_curr_clust$gene <- rownames(avg_curr_clust)\n",
    "        p1 <- ggplot(avg_curr_clust, aes_string(paste0(\"X\", c, \"_\", sample_names[[1]]), \n",
    "                                                paste0(\"X\", c, \"_\", sample_names[[2]]))) + geom_point() + ggtitle(paste(\"Cluster\", curr.clust))\n",
    "        p1 <- LabelPoints(plot = p1, points = names.sig, repel = TRUE)\n",
    "        plot_grid(p1)\n",
    "        #write.csv(response, file=file.path(curr.clust.outdir,paste0(\"cluster_\",c,\".conditionDE.csv\")))\n",
    "        ggsave(file.path(curr.clust.outdir,paste0(\"cluster_\",curr.clust,\".allDonors.conditionScatter.png\")))\n",
    "        \n",
    "        })\n",
    "    }\n",
    "     \n",
    "\n"
   ]
  },
  {
   "cell_type": "markdown",
   "id": "103bcfa8",
   "metadata": {},
   "source": [
    "## DE sig summarize"
   ]
  },
  {
   "cell_type": "markdown",
   "id": "83ce3f1e",
   "metadata": {},
   "source": [
    "### a) top 3 significant results from each comparison"
   ]
  },
  {
   "cell_type": "code",
   "execution_count": null,
   "id": "bdd8016a",
   "metadata": {
    "scrolled": true
   },
   "outputs": [],
   "source": [
    "all.names.sig <- unique(all.names.sig)\n",
    "de.plots(se, all.names.sig, btwnConds_inClust.outdir, curr.name=\"allDonors.allClusters\", max.size=15)\n",
    "\n",
    "dot <- DotPlot(se, scale=FALSE,\n",
    "               features = head(all.names.sig,20), \n",
    "               cluster.idents=T) + RotatedAxis()\n",
    "dot\n",
    "ggsave(file.path(btwnConds_inClust.outdir, \"allDonors.allClusters.top3de.png\"))\n",
    "ggsave(file.path(btwnConds_inClust.outdir, \"allDonors.allClusters.top3de.pdf\"))"
   ]
  },
  {
   "cell_type": "markdown",
   "id": "db83553e",
   "metadata": {},
   "source": [
    "## b) averaged top p-values (only average ones that were DE)"
   ]
  },
  {
   "cell_type": "code",
   "execution_count": null,
   "id": "55502ee9",
   "metadata": {
    "scrolled": true
   },
   "outputs": [],
   "source": [
    "sig.all.ordered <- sort(rowMeans(-log10(all.pvals),na.rm=T), decreasing=T)\n",
    "dot <- DotPlot(se, scale=T,\n",
    "               features = names(head(sig.all.ordered,20)), \n",
    "               cluster.idents=T) + RotatedAxis()\n",
    "dot\n",
    "ggsave(file.path(btwnConds_inClust.outdir, \"allDonors.allClusters.pvalsOrdered.png\"))\n",
    "ggsave(file.path(btwnConds_inClust.outdir, \"allDonors.allClusters.pvalsOrdered.pdf\"))\n",
    "#de.plots(se, names(sig.all.ordered), outdir, curr.name=\"allDonors.allClusters.pvalsOrdered\", max.size=20)"
   ]
  },
  {
   "cell_type": "code",
   "execution_count": null,
   "id": "889b7e84",
   "metadata": {
    "scrolled": true
   },
   "outputs": [],
   "source": [
    "sig.all.ordered <- sort(rowMeans(-log10(all.pvals),na.rm=T), decreasing=T)\n",
    "dot <- DotPlot(se, scale=F,\n",
    "               features = head(names(sig.all.ordered),20), \n",
    "               cluster.idents=T) + RotatedAxis()\n",
    "dot\n"
   ]
  },
  {
   "cell_type": "markdown",
   "id": "71b13e1d",
   "metadata": {},
   "source": [
    "--------"
   ]
  },
  {
   "cell_type": "code",
   "execution_count": null,
   "id": "c0daa6c8",
   "metadata": {},
   "outputs": [],
   "source": [
    "sessionInfo()"
   ]
  }
 ],
 "metadata": {
  "celltoolbar": "Tags",
  "kernelspec": {
   "display_name": "R",
   "language": "R",
   "name": "ir"
  },
  "language_info": {
   "codemirror_mode": "r",
   "file_extension": ".r",
   "mimetype": "text/x-r-source",
   "name": "R",
   "pygments_lexer": "r",
   "version": "4.1.1"
  }
 },
 "nbformat": 4,
 "nbformat_minor": 5
}
