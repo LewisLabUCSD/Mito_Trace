{
 "cells": [
  {
   "cell_type": "code",
   "execution_count": 1,
   "id": "41fdb08b",
   "metadata": {
    "tags": [
     "parameters"
    ]
   },
   "outputs": [],
   "source": [
    "gsea.dir <- \"/data2/mito_lineage/software/Bioinformatics_Tools/\"\n",
    "# DE_out.path <- \"/data2/mito_lineage/output/annotation/data/Lareau_2020/MTblacklist/mergedSamples/DE/clusters\"\n",
    "# export.path <- \"/data2/mito_lineage/output/annotation/data/Lareau_2020/MTblacklist/mergedSamples/DE/GSEA/\"\n",
    "\n",
    "\n",
    "DE_out = \"/data2/mito_lineage/output/annotation_clones/data/cd34norm/MTblacklist/DE_large\"\n",
    "outdir = \"/data2/mito_lineage/output/annotation_clones/data/cd34norm/MTblacklist/DE_large/GSEA\"\n",
    "n_donors = 4\n",
    "genome = \"/data2/mito_lineage/data/external/GRCh38_MT_blacklist/fasta/genome.fa\"\n",
    "\n"
   ]
  },
  {
   "cell_type": "code",
   "execution_count": 2,
   "id": "ec941837",
   "metadata": {},
   "outputs": [],
   "source": [
    "#dir.create(DE_out.path)"
   ]
  },
  {
   "cell_type": "code",
   "execution_count": 3,
   "id": "ea4fc8d1",
   "metadata": {
    "scrolled": true
   },
   "outputs": [
    {
     "name": "stderr",
     "output_type": "stream",
     "text": [
      "Loading required package: stats4\n",
      "\n",
      "Loading required package: BiocGenerics\n",
      "\n",
      "Loading required package: parallel\n",
      "\n",
      "\n",
      "Attaching package: ‘BiocGenerics’\n",
      "\n",
      "\n",
      "The following objects are masked from ‘package:parallel’:\n",
      "\n",
      "    clusterApply, clusterApplyLB, clusterCall, clusterEvalQ,\n",
      "    clusterExport, clusterMap, parApply, parCapply, parLapply,\n",
      "    parLapplyLB, parRapply, parSapply, parSapplyLB\n",
      "\n",
      "\n",
      "The following objects are masked from ‘package:stats’:\n",
      "\n",
      "    IQR, mad, sd, var, xtabs\n",
      "\n",
      "\n",
      "The following objects are masked from ‘package:base’:\n",
      "\n",
      "    anyDuplicated, append, as.data.frame, basename, cbind, colnames,\n",
      "    dirname, do.call, duplicated, eval, evalq, Filter, Find, get, grep,\n",
      "    grepl, intersect, is.unsorted, lapply, Map, mapply, match, mget,\n",
      "    order, paste, pmax, pmax.int, pmin, pmin.int, Position, rank,\n",
      "    rbind, Reduce, rownames, sapply, setdiff, sort, table, tapply,\n",
      "    union, unique, unsplit, which.max, which.min\n",
      "\n",
      "\n",
      "Loading required package: Biobase\n",
      "\n",
      "Welcome to Bioconductor\n",
      "\n",
      "    Vignettes contain introductory material; view with\n",
      "    'browseVignettes()'. To cite Bioconductor, see\n",
      "    'citation(\"Biobase\")', and for packages 'citation(\"pkgname\")'.\n",
      "\n",
      "\n",
      "Loading required package: IRanges\n",
      "\n",
      "Loading required package: S4Vectors\n",
      "\n",
      "\n",
      "Attaching package: ‘S4Vectors’\n",
      "\n",
      "\n",
      "The following objects are masked from ‘package:base’:\n",
      "\n",
      "    expand.grid, I, unname\n",
      "\n",
      "\n",
      "\n",
      "\n",
      "Loading required package: GenomicFeatures\n",
      "\n",
      "Loading required package: GenomeInfoDb\n",
      "\n",
      "Loading required package: GenomicRanges\n",
      "\n"
     ]
    }
   ],
   "source": [
    "library(\"AnnotationDbi\")\n",
    "library(\"org.Hs.eg.db\")\n",
    "library(TxDb.Hsapiens.UCSC.hg38.knownGene)"
   ]
  },
  {
   "cell_type": "code",
   "execution_count": 4,
   "id": "31b02f19",
   "metadata": {
    "scrolled": true
   },
   "outputs": [
    {
     "name": "stderr",
     "output_type": "stream",
     "text": [
      "Loading required package: annotate\n",
      "\n",
      "Loading required package: XML\n",
      "\n",
      "Loading required package: graph\n",
      "\n",
      "\n",
      "Attaching package: ‘graph’\n",
      "\n",
      "\n",
      "The following object is masked from ‘package:XML’:\n",
      "\n",
      "    addNode\n",
      "\n",
      "\n",
      "\n",
      "Attaching package: ‘stringr’\n",
      "\n",
      "\n",
      "The following object is masked from ‘package:graph’:\n",
      "\n",
      "    boundary\n",
      "\n",
      "\n",
      "\n",
      "\n",
      "clusterProfiler v4.0.5  For help: https://yulab-smu.top/biomedical-knowledge-mining-book/\n",
      "\n",
      "If you use clusterProfiler in published research, please cite:\n",
      "T Wu, E Hu, S Xu, M Chen, P Guo, Z Dai, T Feng, L Zhou, W Tang, L Zhan, X Fu, S Liu, X Bo, and G Yu. clusterProfiler 4.0: A universal enrichment tool for interpreting omics data. The Innovation. 2021, 2(3):100141. doi: 10.1016/j.xinn.2021.100141\n",
      "\n",
      "\n",
      "Attaching package: ‘clusterProfiler’\n",
      "\n",
      "\n",
      "The following object is masked from ‘package:AnnotationDbi’:\n",
      "\n",
      "    select\n",
      "\n",
      "\n",
      "The following object is masked from ‘package:IRanges’:\n",
      "\n",
      "    slice\n",
      "\n",
      "\n",
      "The following object is masked from ‘package:S4Vectors’:\n",
      "\n",
      "    rename\n",
      "\n",
      "\n",
      "The following object is masked from ‘package:stats’:\n",
      "\n",
      "    filter\n",
      "\n",
      "\n",
      "gdata: read.xls support for 'XLS' (Excel 97-2004) files ENABLED.\n",
      "\n",
      "\n",
      "\n",
      "gdata: Unable to load perl libaries needed by read.xls()\n",
      "gdata: to support 'XLSX' (Excel 2007+) files.\n",
      "\n",
      "\n",
      "\n",
      "gdata: Run the function 'installXLSXsupport()'\n",
      "gdata: to automatically download and install the perl\n",
      "gdata: libaries needed to support Excel XLS and XLSX formats.\n",
      "\n",
      "\n",
      "Attaching package: ‘gdata’\n",
      "\n",
      "\n",
      "The following object is masked from ‘package:GenomicRanges’:\n",
      "\n",
      "    trim\n",
      "\n",
      "\n",
      "The following objects are masked from ‘package:IRanges’:\n",
      "\n",
      "    startsWith, trim\n",
      "\n",
      "\n",
      "The following objects are masked from ‘package:S4Vectors’:\n",
      "\n",
      "    first, first<-\n",
      "\n",
      "\n",
      "The following object is masked from ‘package:Biobase’:\n",
      "\n",
      "    combine\n",
      "\n",
      "\n",
      "The following object is masked from ‘package:BiocGenerics’:\n",
      "\n",
      "    combine\n",
      "\n",
      "\n",
      "The following object is masked from ‘package:stats4’:\n",
      "\n",
      "    nobs\n",
      "\n",
      "\n",
      "The following object is masked from ‘package:stats’:\n",
      "\n",
      "    nobs\n",
      "\n",
      "\n",
      "The following object is masked from ‘package:utils’:\n",
      "\n",
      "    object.size\n",
      "\n",
      "\n",
      "The following object is masked from ‘package:base’:\n",
      "\n",
      "    startsWith\n",
      "\n",
      "\n",
      "\n",
      "Attaching package: ‘data.table’\n",
      "\n",
      "\n",
      "The following objects are masked from ‘package:gdata’:\n",
      "\n",
      "    first, last\n",
      "\n",
      "\n",
      "The following object is masked from ‘package:GenomicRanges’:\n",
      "\n",
      "    shift\n",
      "\n",
      "\n",
      "The following object is masked from ‘package:IRanges’:\n",
      "\n",
      "    shift\n",
      "\n",
      "\n",
      "The following objects are masked from ‘package:S4Vectors’:\n",
      "\n",
      "    first, second\n",
      "\n",
      "\n",
      "DOSE v3.18.2  For help: https://guangchuangyu.github.io/software/DOSE\n",
      "\n",
      "If you use DOSE in published research, please cite:\n",
      "Guangchuang Yu, Li-Gen Wang, Guang-Rong Yan, Qing-Yu He. DOSE: an R/Bioconductor package for Disease Ontology Semantic and Enrichment analysis. Bioinformatics 2015, 31(4):608-609\n",
      "\n",
      "\n"
     ]
    }
   ],
   "source": [
    "source(paste0(gsea.dir,'R/Gsea.R'))"
   ]
  },
  {
   "cell_type": "code",
   "execution_count": 5,
   "id": "895b2b55",
   "metadata": {},
   "outputs": [],
   "source": [
    "cols.prior <- c(\"Gene\",\"baseMean\",\"log2FoldChange\",\"lfcSE\",\"stat\",\"pvalue\",\"padj\")\n",
    "cols.needed <- c(\"Gene\",\"log2FoldChange\")\n",
    "cols.curr <- c(\"X\",\"p_val\",\"avg_log2FC\",\"pct.1\",\"pct.2\",\"p_val_adj\") #first col is empty in csv"
   ]
  },
  {
   "cell_type": "code",
   "execution_count": 6,
   "id": "541f8ea4",
   "metadata": {
    "scrolled": true
   },
   "outputs": [
    {
     "name": "stdout",
     "output_type": "stream",
     "text": [
      "[1] \"/data2/mito_lineage/output/annotation_clones/data/cd34norm/MTblacklist/DE_large/donor0/clones_0__1.DE.GeneActivity.csv\"\n"
     ]
    },
    {
     "name": "stderr",
     "output_type": "stream",
     "text": [
      "'select()' returned 1:many mapping between keys and columns\n",
      "\n"
     ]
    },
    {
     "name": "stdout",
     "output_type": "stream",
     "text": [
      "[1] \"/data2/mito_lineage/output/annotation_clones/data/cd34norm/MTblacklist/DE_large/donor0/clones_0__2.DE.GeneActivity.csv\"\n"
     ]
    },
    {
     "name": "stderr",
     "output_type": "stream",
     "text": [
      "'select()' returned 1:many mapping between keys and columns\n",
      "\n"
     ]
    },
    {
     "name": "stdout",
     "output_type": "stream",
     "text": [
      "[1] \"/data2/mito_lineage/output/annotation_clones/data/cd34norm/MTblacklist/DE_large/donor0/clones_0__3.DE.GeneActivity.csv\"\n"
     ]
    },
    {
     "name": "stderr",
     "output_type": "stream",
     "text": [
      "'select()' returned 1:many mapping between keys and columns\n",
      "\n"
     ]
    },
    {
     "name": "stdout",
     "output_type": "stream",
     "text": [
      "[1] \"/data2/mito_lineage/output/annotation_clones/data/cd34norm/MTblacklist/DE_large/donor0/clones_0__4.DE.GeneActivity.csv\"\n"
     ]
    },
    {
     "name": "stderr",
     "output_type": "stream",
     "text": [
      "'select()' returned 1:many mapping between keys and columns\n",
      "\n"
     ]
    },
    {
     "name": "stdout",
     "output_type": "stream",
     "text": [
      "[1] \"/data2/mito_lineage/output/annotation_clones/data/cd34norm/MTblacklist/DE_large/donor0/clones_0__52.DE.GeneActivity.csv\"\n"
     ]
    },
    {
     "name": "stderr",
     "output_type": "stream",
     "text": [
      "'select()' returned 1:many mapping between keys and columns\n",
      "\n"
     ]
    },
    {
     "name": "stdout",
     "output_type": "stream",
     "text": [
      "[1] \"/data2/mito_lineage/output/annotation_clones/data/cd34norm/MTblacklist/DE_large/donor0/clones_0__6.DE.GeneActivity.csv\"\n"
     ]
    },
    {
     "name": "stderr",
     "output_type": "stream",
     "text": [
      "'select()' returned 1:many mapping between keys and columns\n",
      "\n"
     ]
    },
    {
     "name": "stdout",
     "output_type": "stream",
     "text": [
      "[1] \"/data2/mito_lineage/output/annotation_clones/data/cd34norm/MTblacklist/DE_large/donor0/clones_1__3.DE.GeneActivity.csv\"\n"
     ]
    },
    {
     "name": "stderr",
     "output_type": "stream",
     "text": [
      "'select()' returned 1:many mapping between keys and columns\n",
      "\n"
     ]
    },
    {
     "name": "stdout",
     "output_type": "stream",
     "text": [
      "[1] \"/data2/mito_lineage/output/annotation_clones/data/cd34norm/MTblacklist/DE_large/donor0/clones_1__4.DE.GeneActivity.csv\"\n"
     ]
    },
    {
     "name": "stderr",
     "output_type": "stream",
     "text": [
      "'select()' returned 1:many mapping between keys and columns\n",
      "\n"
     ]
    },
    {
     "name": "stdout",
     "output_type": "stream",
     "text": [
      "[1] \"/data2/mito_lineage/output/annotation_clones/data/cd34norm/MTblacklist/DE_large/donor0/clones_1__6.DE.GeneActivity.csv\"\n"
     ]
    },
    {
     "name": "stderr",
     "output_type": "stream",
     "text": [
      "'select()' returned 1:many mapping between keys and columns\n",
      "\n"
     ]
    },
    {
     "name": "stdout",
     "output_type": "stream",
     "text": [
      "[1] \"/data2/mito_lineage/output/annotation_clones/data/cd34norm/MTblacklist/DE_large/donor0/clones_2__1.DE.GeneActivity.csv\"\n"
     ]
    },
    {
     "name": "stderr",
     "output_type": "stream",
     "text": [
      "'select()' returned 1:many mapping between keys and columns\n",
      "\n"
     ]
    },
    {
     "name": "stdout",
     "output_type": "stream",
     "text": [
      "[1] \"/data2/mito_lineage/output/annotation_clones/data/cd34norm/MTblacklist/DE_large/donor0/clones_2__3.DE.GeneActivity.csv\"\n"
     ]
    },
    {
     "name": "stderr",
     "output_type": "stream",
     "text": [
      "'select()' returned 1:many mapping between keys and columns\n",
      "\n"
     ]
    },
    {
     "name": "stdout",
     "output_type": "stream",
     "text": [
      "[1] \"/data2/mito_lineage/output/annotation_clones/data/cd34norm/MTblacklist/DE_large/donor0/clones_2__4.DE.GeneActivity.csv\"\n"
     ]
    },
    {
     "name": "stderr",
     "output_type": "stream",
     "text": [
      "'select()' returned 1:many mapping between keys and columns\n",
      "\n"
     ]
    },
    {
     "name": "stdout",
     "output_type": "stream",
     "text": [
      "[1] \"/data2/mito_lineage/output/annotation_clones/data/cd34norm/MTblacklist/DE_large/donor0/clones_2__6.DE.GeneActivity.csv\"\n"
     ]
    },
    {
     "name": "stderr",
     "output_type": "stream",
     "text": [
      "'select()' returned 1:many mapping between keys and columns\n",
      "\n"
     ]
    },
    {
     "name": "stdout",
     "output_type": "stream",
     "text": [
      "[1] \"/data2/mito_lineage/output/annotation_clones/data/cd34norm/MTblacklist/DE_large/donor0/clones_3__6.DE.GeneActivity.csv\"\n"
     ]
    },
    {
     "name": "stderr",
     "output_type": "stream",
     "text": [
      "'select()' returned 1:many mapping between keys and columns\n",
      "\n"
     ]
    },
    {
     "name": "stdout",
     "output_type": "stream",
     "text": [
      "[1] \"/data2/mito_lineage/output/annotation_clones/data/cd34norm/MTblacklist/DE_large/donor0/clones_4__3.DE.GeneActivity.csv\"\n"
     ]
    },
    {
     "name": "stderr",
     "output_type": "stream",
     "text": [
      "'select()' returned 1:many mapping between keys and columns\n",
      "\n"
     ]
    },
    {
     "name": "stdout",
     "output_type": "stream",
     "text": [
      "[1] \"/data2/mito_lineage/output/annotation_clones/data/cd34norm/MTblacklist/DE_large/donor0/clones_4__6.DE.GeneActivity.csv\"\n"
     ]
    },
    {
     "name": "stderr",
     "output_type": "stream",
     "text": [
      "'select()' returned 1:many mapping between keys and columns\n",
      "\n"
     ]
    },
    {
     "name": "stdout",
     "output_type": "stream",
     "text": [
      "[1] \"/data2/mito_lineage/output/annotation_clones/data/cd34norm/MTblacklist/DE_large/donor0/clones_52__1.DE.GeneActivity.csv\"\n"
     ]
    },
    {
     "name": "stderr",
     "output_type": "stream",
     "text": [
      "'select()' returned 1:many mapping between keys and columns\n",
      "\n"
     ]
    },
    {
     "name": "stdout",
     "output_type": "stream",
     "text": [
      "[1] \"/data2/mito_lineage/output/annotation_clones/data/cd34norm/MTblacklist/DE_large/donor0/clones_52__2.DE.GeneActivity.csv\"\n"
     ]
    },
    {
     "name": "stderr",
     "output_type": "stream",
     "text": [
      "'select()' returned 1:many mapping between keys and columns\n",
      "\n"
     ]
    },
    {
     "name": "stdout",
     "output_type": "stream",
     "text": [
      "[1] \"/data2/mito_lineage/output/annotation_clones/data/cd34norm/MTblacklist/DE_large/donor0/clones_52__3.DE.GeneActivity.csv\"\n"
     ]
    },
    {
     "name": "stderr",
     "output_type": "stream",
     "text": [
      "'select()' returned 1:many mapping between keys and columns\n",
      "\n"
     ]
    },
    {
     "name": "stdout",
     "output_type": "stream",
     "text": [
      "[1] \"/data2/mito_lineage/output/annotation_clones/data/cd34norm/MTblacklist/DE_large/donor0/clones_52__4.DE.GeneActivity.csv\"\n"
     ]
    },
    {
     "name": "stderr",
     "output_type": "stream",
     "text": [
      "'select()' returned 1:many mapping between keys and columns\n",
      "\n"
     ]
    },
    {
     "name": "stdout",
     "output_type": "stream",
     "text": [
      "[1] \"/data2/mito_lineage/output/annotation_clones/data/cd34norm/MTblacklist/DE_large/donor0/clones_52__6.DE.GeneActivity.csv\"\n"
     ]
    },
    {
     "name": "stderr",
     "output_type": "stream",
     "text": [
      "'select()' returned 1:many mapping between keys and columns\n",
      "\n"
     ]
    },
    {
     "name": "stdout",
     "output_type": "stream",
     "text": [
      "[1] \"/data2/mito_lineage/output/annotation_clones/data/cd34norm/MTblacklist/DE_large/donor1/clones_0__1.DE.GeneActivity.csv\"\n"
     ]
    },
    {
     "name": "stderr",
     "output_type": "stream",
     "text": [
      "'select()' returned 1:many mapping between keys and columns\n",
      "\n"
     ]
    },
    {
     "name": "stdout",
     "output_type": "stream",
     "text": [
      "[1] \"/data2/mito_lineage/output/annotation_clones/data/cd34norm/MTblacklist/DE_large/donor1/clones_0__10.DE.GeneActivity.csv\"\n"
     ]
    },
    {
     "name": "stderr",
     "output_type": "stream",
     "text": [
      "'select()' returned 1:many mapping between keys and columns\n",
      "\n"
     ]
    },
    {
     "name": "stdout",
     "output_type": "stream",
     "text": [
      "[1] \"/data2/mito_lineage/output/annotation_clones/data/cd34norm/MTblacklist/DE_large/donor1/clones_0__13.DE.GeneActivity.csv\"\n"
     ]
    },
    {
     "name": "stderr",
     "output_type": "stream",
     "text": [
      "'select()' returned 1:many mapping between keys and columns\n",
      "\n"
     ]
    },
    {
     "name": "stdout",
     "output_type": "stream",
     "text": [
      "[1] \"/data2/mito_lineage/output/annotation_clones/data/cd34norm/MTblacklist/DE_large/donor1/clones_0__19.DE.GeneActivity.csv\"\n"
     ]
    },
    {
     "name": "stderr",
     "output_type": "stream",
     "text": [
      "'select()' returned 1:many mapping between keys and columns\n",
      "\n"
     ]
    },
    {
     "name": "stdout",
     "output_type": "stream",
     "text": [
      "[1] \"/data2/mito_lineage/output/annotation_clones/data/cd34norm/MTblacklist/DE_large/donor1/clones_0__2.DE.GeneActivity.csv\"\n"
     ]
    },
    {
     "name": "stderr",
     "output_type": "stream",
     "text": [
      "'select()' returned 1:many mapping between keys and columns\n",
      "\n"
     ]
    },
    {
     "name": "stdout",
     "output_type": "stream",
     "text": [
      "[1] \"/data2/mito_lineage/output/annotation_clones/data/cd34norm/MTblacklist/DE_large/donor1/clones_0__3.DE.GeneActivity.csv\"\n"
     ]
    },
    {
     "name": "stderr",
     "output_type": "stream",
     "text": [
      "'select()' returned 1:many mapping between keys and columns\n",
      "\n"
     ]
    },
    {
     "name": "stdout",
     "output_type": "stream",
     "text": [
      "[1] \"/data2/mito_lineage/output/annotation_clones/data/cd34norm/MTblacklist/DE_large/donor1/clones_0__4.DE.GeneActivity.csv\"\n"
     ]
    },
    {
     "name": "stderr",
     "output_type": "stream",
     "text": [
      "'select()' returned 1:many mapping between keys and columns\n",
      "\n"
     ]
    },
    {
     "name": "stdout",
     "output_type": "stream",
     "text": [
      "[1] \"/data2/mito_lineage/output/annotation_clones/data/cd34norm/MTblacklist/DE_large/donor1/clones_0__5.DE.GeneActivity.csv\"\n"
     ]
    },
    {
     "name": "stderr",
     "output_type": "stream",
     "text": [
      "'select()' returned 1:many mapping between keys and columns\n",
      "\n"
     ]
    },
    {
     "name": "stdout",
     "output_type": "stream",
     "text": [
      "[1] \"/data2/mito_lineage/output/annotation_clones/data/cd34norm/MTblacklist/DE_large/donor1/clones_0__6.DE.GeneActivity.csv\"\n"
     ]
    },
    {
     "name": "stderr",
     "output_type": "stream",
     "text": [
      "'select()' returned 1:many mapping between keys and columns\n",
      "\n"
     ]
    },
    {
     "name": "stdout",
     "output_type": "stream",
     "text": [
      "[1] \"/data2/mito_lineage/output/annotation_clones/data/cd34norm/MTblacklist/DE_large/donor1/clones_0__8.DE.GeneActivity.csv\"\n"
     ]
    },
    {
     "name": "stderr",
     "output_type": "stream",
     "text": [
      "'select()' returned 1:many mapping between keys and columns\n",
      "\n"
     ]
    },
    {
     "name": "stdout",
     "output_type": "stream",
     "text": [
      "[1] \"/data2/mito_lineage/output/annotation_clones/data/cd34norm/MTblacklist/DE_large/donor1/clones_1__10.DE.GeneActivity.csv\"\n"
     ]
    },
    {
     "name": "stderr",
     "output_type": "stream",
     "text": [
      "'select()' returned 1:many mapping between keys and columns\n",
      "\n"
     ]
    },
    {
     "name": "stdout",
     "output_type": "stream",
     "text": [
      "[1] \"/data2/mito_lineage/output/annotation_clones/data/cd34norm/MTblacklist/DE_large/donor1/clones_1__13.DE.GeneActivity.csv\"\n"
     ]
    },
    {
     "name": "stderr",
     "output_type": "stream",
     "text": [
      "'select()' returned 1:many mapping between keys and columns\n",
      "\n"
     ]
    },
    {
     "name": "stdout",
     "output_type": "stream",
     "text": [
      "[1] \"/data2/mito_lineage/output/annotation_clones/data/cd34norm/MTblacklist/DE_large/donor1/clones_1__19.DE.GeneActivity.csv\"\n"
     ]
    },
    {
     "name": "stderr",
     "output_type": "stream",
     "text": [
      "'select()' returned 1:many mapping between keys and columns\n",
      "\n"
     ]
    },
    {
     "name": "stdout",
     "output_type": "stream",
     "text": [
      "[1] \"/data2/mito_lineage/output/annotation_clones/data/cd34norm/MTblacklist/DE_large/donor1/clones_1__2.DE.GeneActivity.csv\"\n"
     ]
    },
    {
     "name": "stderr",
     "output_type": "stream",
     "text": [
      "'select()' returned 1:many mapping between keys and columns\n",
      "\n"
     ]
    },
    {
     "name": "stdout",
     "output_type": "stream",
     "text": [
      "[1] \"/data2/mito_lineage/output/annotation_clones/data/cd34norm/MTblacklist/DE_large/donor1/clones_1__3.DE.GeneActivity.csv\"\n"
     ]
    },
    {
     "name": "stderr",
     "output_type": "stream",
     "text": [
      "'select()' returned 1:many mapping between keys and columns\n",
      "\n"
     ]
    },
    {
     "name": "stdout",
     "output_type": "stream",
     "text": [
      "[1] \"/data2/mito_lineage/output/annotation_clones/data/cd34norm/MTblacklist/DE_large/donor1/clones_1__4.DE.GeneActivity.csv\"\n"
     ]
    },
    {
     "name": "stderr",
     "output_type": "stream",
     "text": [
      "'select()' returned 1:many mapping between keys and columns\n",
      "\n"
     ]
    },
    {
     "name": "stdout",
     "output_type": "stream",
     "text": [
      "[1] \"/data2/mito_lineage/output/annotation_clones/data/cd34norm/MTblacklist/DE_large/donor1/clones_1__5.DE.GeneActivity.csv\"\n"
     ]
    },
    {
     "name": "stderr",
     "output_type": "stream",
     "text": [
      "'select()' returned 1:many mapping between keys and columns\n",
      "\n"
     ]
    },
    {
     "name": "stdout",
     "output_type": "stream",
     "text": [
      "[1] \"/data2/mito_lineage/output/annotation_clones/data/cd34norm/MTblacklist/DE_large/donor1/clones_1__6.DE.GeneActivity.csv\"\n"
     ]
    },
    {
     "name": "stderr",
     "output_type": "stream",
     "text": [
      "'select()' returned 1:many mapping between keys and columns\n",
      "\n"
     ]
    },
    {
     "name": "stdout",
     "output_type": "stream",
     "text": [
      "[1] \"/data2/mito_lineage/output/annotation_clones/data/cd34norm/MTblacklist/DE_large/donor1/clones_1__8.DE.GeneActivity.csv\"\n"
     ]
    },
    {
     "name": "stderr",
     "output_type": "stream",
     "text": [
      "'select()' returned 1:many mapping between keys and columns\n",
      "\n"
     ]
    },
    {
     "name": "stdout",
     "output_type": "stream",
     "text": [
      "[1] \"/data2/mito_lineage/output/annotation_clones/data/cd34norm/MTblacklist/DE_large/donor1/clones_10__13.DE.GeneActivity.csv\"\n"
     ]
    },
    {
     "name": "stderr",
     "output_type": "stream",
     "text": [
      "'select()' returned 1:many mapping between keys and columns\n",
      "\n"
     ]
    },
    {
     "name": "stdout",
     "output_type": "stream",
     "text": [
      "[1] \"/data2/mito_lineage/output/annotation_clones/data/cd34norm/MTblacklist/DE_large/donor1/clones_10__19.DE.GeneActivity.csv\"\n"
     ]
    },
    {
     "name": "stderr",
     "output_type": "stream",
     "text": [
      "'select()' returned 1:many mapping between keys and columns\n",
      "\n"
     ]
    },
    {
     "name": "stdout",
     "output_type": "stream",
     "text": [
      "[1] \"/data2/mito_lineage/output/annotation_clones/data/cd34norm/MTblacklist/DE_large/donor1/clones_19__13.DE.GeneActivity.csv\"\n"
     ]
    },
    {
     "name": "stderr",
     "output_type": "stream",
     "text": [
      "'select()' returned 1:many mapping between keys and columns\n",
      "\n"
     ]
    },
    {
     "name": "stdout",
     "output_type": "stream",
     "text": [
      "[1] \"/data2/mito_lineage/output/annotation_clones/data/cd34norm/MTblacklist/DE_large/donor1/clones_2__10.DE.GeneActivity.csv\"\n"
     ]
    },
    {
     "name": "stderr",
     "output_type": "stream",
     "text": [
      "'select()' returned 1:many mapping between keys and columns\n",
      "\n"
     ]
    },
    {
     "name": "stdout",
     "output_type": "stream",
     "text": [
      "[1] \"/data2/mito_lineage/output/annotation_clones/data/cd34norm/MTblacklist/DE_large/donor1/clones_2__13.DE.GeneActivity.csv\"\n"
     ]
    },
    {
     "name": "stderr",
     "output_type": "stream",
     "text": [
      "'select()' returned 1:many mapping between keys and columns\n",
      "\n"
     ]
    },
    {
     "name": "stdout",
     "output_type": "stream",
     "text": [
      "[1] \"/data2/mito_lineage/output/annotation_clones/data/cd34norm/MTblacklist/DE_large/donor1/clones_2__19.DE.GeneActivity.csv\"\n"
     ]
    },
    {
     "name": "stderr",
     "output_type": "stream",
     "text": [
      "'select()' returned 1:many mapping between keys and columns\n",
      "\n"
     ]
    },
    {
     "name": "stdout",
     "output_type": "stream",
     "text": [
      "[1] \"/data2/mito_lineage/output/annotation_clones/data/cd34norm/MTblacklist/DE_large/donor1/clones_2__3.DE.GeneActivity.csv\"\n"
     ]
    },
    {
     "name": "stderr",
     "output_type": "stream",
     "text": [
      "'select()' returned 1:many mapping between keys and columns\n",
      "\n"
     ]
    },
    {
     "name": "stdout",
     "output_type": "stream",
     "text": [
      "[1] \"/data2/mito_lineage/output/annotation_clones/data/cd34norm/MTblacklist/DE_large/donor1/clones_2__4.DE.GeneActivity.csv\"\n"
     ]
    },
    {
     "name": "stderr",
     "output_type": "stream",
     "text": [
      "'select()' returned 1:many mapping between keys and columns\n",
      "\n"
     ]
    },
    {
     "name": "stdout",
     "output_type": "stream",
     "text": [
      "[1] \"/data2/mito_lineage/output/annotation_clones/data/cd34norm/MTblacklist/DE_large/donor1/clones_2__5.DE.GeneActivity.csv\"\n"
     ]
    },
    {
     "name": "stderr",
     "output_type": "stream",
     "text": [
      "'select()' returned 1:many mapping between keys and columns\n",
      "\n"
     ]
    },
    {
     "name": "stdout",
     "output_type": "stream",
     "text": [
      "[1] \"/data2/mito_lineage/output/annotation_clones/data/cd34norm/MTblacklist/DE_large/donor1/clones_2__6.DE.GeneActivity.csv\"\n"
     ]
    },
    {
     "name": "stderr",
     "output_type": "stream",
     "text": [
      "'select()' returned 1:many mapping between keys and columns\n",
      "\n"
     ]
    },
    {
     "name": "stdout",
     "output_type": "stream",
     "text": [
      "[1] \"/data2/mito_lineage/output/annotation_clones/data/cd34norm/MTblacklist/DE_large/donor1/clones_2__8.DE.GeneActivity.csv\"\n"
     ]
    },
    {
     "name": "stderr",
     "output_type": "stream",
     "text": [
      "'select()' returned 1:many mapping between keys and columns\n",
      "\n"
     ]
    },
    {
     "name": "stdout",
     "output_type": "stream",
     "text": [
      "[1] \"/data2/mito_lineage/output/annotation_clones/data/cd34norm/MTblacklist/DE_large/donor1/clones_3__10.DE.GeneActivity.csv\"\n"
     ]
    },
    {
     "name": "stderr",
     "output_type": "stream",
     "text": [
      "'select()' returned 1:many mapping between keys and columns\n",
      "\n"
     ]
    },
    {
     "name": "stdout",
     "output_type": "stream",
     "text": [
      "[1] \"/data2/mito_lineage/output/annotation_clones/data/cd34norm/MTblacklist/DE_large/donor1/clones_3__13.DE.GeneActivity.csv\"\n"
     ]
    },
    {
     "name": "stderr",
     "output_type": "stream",
     "text": [
      "'select()' returned 1:many mapping between keys and columns\n",
      "\n"
     ]
    },
    {
     "name": "stdout",
     "output_type": "stream",
     "text": [
      "[1] \"/data2/mito_lineage/output/annotation_clones/data/cd34norm/MTblacklist/DE_large/donor1/clones_3__19.DE.GeneActivity.csv\"\n"
     ]
    },
    {
     "name": "stderr",
     "output_type": "stream",
     "text": [
      "'select()' returned 1:many mapping between keys and columns\n",
      "\n"
     ]
    },
    {
     "name": "stdout",
     "output_type": "stream",
     "text": [
      "[1] \"/data2/mito_lineage/output/annotation_clones/data/cd34norm/MTblacklist/DE_large/donor1/clones_3__4.DE.GeneActivity.csv\"\n"
     ]
    },
    {
     "name": "stderr",
     "output_type": "stream",
     "text": [
      "'select()' returned 1:many mapping between keys and columns\n",
      "\n"
     ]
    },
    {
     "name": "stdout",
     "output_type": "stream",
     "text": [
      "[1] \"/data2/mito_lineage/output/annotation_clones/data/cd34norm/MTblacklist/DE_large/donor1/clones_3__5.DE.GeneActivity.csv\"\n"
     ]
    },
    {
     "name": "stderr",
     "output_type": "stream",
     "text": [
      "'select()' returned 1:many mapping between keys and columns\n",
      "\n"
     ]
    },
    {
     "name": "stdout",
     "output_type": "stream",
     "text": [
      "[1] \"/data2/mito_lineage/output/annotation_clones/data/cd34norm/MTblacklist/DE_large/donor1/clones_3__6.DE.GeneActivity.csv\"\n"
     ]
    },
    {
     "name": "stderr",
     "output_type": "stream",
     "text": [
      "'select()' returned 1:many mapping between keys and columns\n",
      "\n"
     ]
    },
    {
     "name": "stdout",
     "output_type": "stream",
     "text": [
      "[1] \"/data2/mito_lineage/output/annotation_clones/data/cd34norm/MTblacklist/DE_large/donor1/clones_3__8.DE.GeneActivity.csv\"\n"
     ]
    },
    {
     "name": "stderr",
     "output_type": "stream",
     "text": [
      "'select()' returned 1:many mapping between keys and columns\n",
      "\n"
     ]
    },
    {
     "name": "stdout",
     "output_type": "stream",
     "text": [
      "[1] \"/data2/mito_lineage/output/annotation_clones/data/cd34norm/MTblacklist/DE_large/donor1/clones_4__10.DE.GeneActivity.csv\"\n"
     ]
    },
    {
     "name": "stderr",
     "output_type": "stream",
     "text": [
      "'select()' returned 1:many mapping between keys and columns\n",
      "\n"
     ]
    },
    {
     "name": "stdout",
     "output_type": "stream",
     "text": [
      "[1] \"/data2/mito_lineage/output/annotation_clones/data/cd34norm/MTblacklist/DE_large/donor1/clones_4__13.DE.GeneActivity.csv\"\n"
     ]
    },
    {
     "name": "stderr",
     "output_type": "stream",
     "text": [
      "'select()' returned 1:many mapping between keys and columns\n",
      "\n"
     ]
    },
    {
     "name": "stdout",
     "output_type": "stream",
     "text": [
      "[1] \"/data2/mito_lineage/output/annotation_clones/data/cd34norm/MTblacklist/DE_large/donor1/clones_4__19.DE.GeneActivity.csv\"\n"
     ]
    },
    {
     "name": "stderr",
     "output_type": "stream",
     "text": [
      "'select()' returned 1:many mapping between keys and columns\n",
      "\n"
     ]
    },
    {
     "name": "stdout",
     "output_type": "stream",
     "text": [
      "[1] \"/data2/mito_lineage/output/annotation_clones/data/cd34norm/MTblacklist/DE_large/donor1/clones_4__6.DE.GeneActivity.csv\"\n"
     ]
    },
    {
     "name": "stderr",
     "output_type": "stream",
     "text": [
      "'select()' returned 1:many mapping between keys and columns\n",
      "\n"
     ]
    },
    {
     "name": "stdout",
     "output_type": "stream",
     "text": [
      "[1] \"/data2/mito_lineage/output/annotation_clones/data/cd34norm/MTblacklist/DE_large/donor1/clones_4__8.DE.GeneActivity.csv\"\n"
     ]
    },
    {
     "name": "stderr",
     "output_type": "stream",
     "text": [
      "'select()' returned 1:many mapping between keys and columns\n",
      "\n"
     ]
    },
    {
     "name": "stdout",
     "output_type": "stream",
     "text": [
      "[1] \"/data2/mito_lineage/output/annotation_clones/data/cd34norm/MTblacklist/DE_large/donor1/clones_5__10.DE.GeneActivity.csv\"\n"
     ]
    },
    {
     "name": "stderr",
     "output_type": "stream",
     "text": [
      "'select()' returned 1:many mapping between keys and columns\n",
      "\n"
     ]
    },
    {
     "name": "stdout",
     "output_type": "stream",
     "text": [
      "[1] \"/data2/mito_lineage/output/annotation_clones/data/cd34norm/MTblacklist/DE_large/donor1/clones_5__13.DE.GeneActivity.csv\"\n"
     ]
    },
    {
     "name": "stderr",
     "output_type": "stream",
     "text": [
      "'select()' returned 1:many mapping between keys and columns\n",
      "\n"
     ]
    },
    {
     "name": "stdout",
     "output_type": "stream",
     "text": [
      "[1] \"/data2/mito_lineage/output/annotation_clones/data/cd34norm/MTblacklist/DE_large/donor1/clones_5__19.DE.GeneActivity.csv\"\n"
     ]
    },
    {
     "name": "stderr",
     "output_type": "stream",
     "text": [
      "'select()' returned 1:many mapping between keys and columns\n",
      "\n"
     ]
    },
    {
     "name": "stdout",
     "output_type": "stream",
     "text": [
      "[1] \"/data2/mito_lineage/output/annotation_clones/data/cd34norm/MTblacklist/DE_large/donor1/clones_5__4.DE.GeneActivity.csv\"\n"
     ]
    },
    {
     "name": "stderr",
     "output_type": "stream",
     "text": [
      "'select()' returned 1:many mapping between keys and columns\n",
      "\n"
     ]
    },
    {
     "name": "stdout",
     "output_type": "stream",
     "text": [
      "[1] \"/data2/mito_lineage/output/annotation_clones/data/cd34norm/MTblacklist/DE_large/donor1/clones_5__6.DE.GeneActivity.csv\"\n"
     ]
    },
    {
     "name": "stderr",
     "output_type": "stream",
     "text": [
      "'select()' returned 1:many mapping between keys and columns\n",
      "\n"
     ]
    },
    {
     "name": "stdout",
     "output_type": "stream",
     "text": [
      "[1] \"/data2/mito_lineage/output/annotation_clones/data/cd34norm/MTblacklist/DE_large/donor1/clones_5__8.DE.GeneActivity.csv\"\n"
     ]
    },
    {
     "name": "stderr",
     "output_type": "stream",
     "text": [
      "'select()' returned 1:many mapping between keys and columns\n",
      "\n"
     ]
    },
    {
     "name": "stdout",
     "output_type": "stream",
     "text": [
      "[1] \"/data2/mito_lineage/output/annotation_clones/data/cd34norm/MTblacklist/DE_large/donor1/clones_6__10.DE.GeneActivity.csv\"\n"
     ]
    },
    {
     "name": "stderr",
     "output_type": "stream",
     "text": [
      "'select()' returned 1:many mapping between keys and columns\n",
      "\n"
     ]
    },
    {
     "name": "stdout",
     "output_type": "stream",
     "text": [
      "[1] \"/data2/mito_lineage/output/annotation_clones/data/cd34norm/MTblacklist/DE_large/donor1/clones_6__13.DE.GeneActivity.csv\"\n"
     ]
    },
    {
     "name": "stderr",
     "output_type": "stream",
     "text": [
      "'select()' returned 1:many mapping between keys and columns\n",
      "\n"
     ]
    },
    {
     "name": "stdout",
     "output_type": "stream",
     "text": [
      "[1] \"/data2/mito_lineage/output/annotation_clones/data/cd34norm/MTblacklist/DE_large/donor1/clones_6__19.DE.GeneActivity.csv\"\n"
     ]
    },
    {
     "name": "stderr",
     "output_type": "stream",
     "text": [
      "'select()' returned 1:many mapping between keys and columns\n",
      "\n"
     ]
    },
    {
     "name": "stdout",
     "output_type": "stream",
     "text": [
      "[1] \"/data2/mito_lineage/output/annotation_clones/data/cd34norm/MTblacklist/DE_large/donor1/clones_8__10.DE.GeneActivity.csv\"\n"
     ]
    },
    {
     "name": "stderr",
     "output_type": "stream",
     "text": [
      "'select()' returned 1:many mapping between keys and columns\n",
      "\n"
     ]
    },
    {
     "name": "stdout",
     "output_type": "stream",
     "text": [
      "[1] \"/data2/mito_lineage/output/annotation_clones/data/cd34norm/MTblacklist/DE_large/donor1/clones_8__13.DE.GeneActivity.csv\"\n"
     ]
    },
    {
     "name": "stderr",
     "output_type": "stream",
     "text": [
      "'select()' returned 1:many mapping between keys and columns\n",
      "\n"
     ]
    },
    {
     "name": "stdout",
     "output_type": "stream",
     "text": [
      "[1] \"/data2/mito_lineage/output/annotation_clones/data/cd34norm/MTblacklist/DE_large/donor1/clones_8__19.DE.GeneActivity.csv\"\n"
     ]
    },
    {
     "name": "stderr",
     "output_type": "stream",
     "text": [
      "'select()' returned 1:many mapping between keys and columns\n",
      "\n"
     ]
    },
    {
     "name": "stdout",
     "output_type": "stream",
     "text": [
      "[1] \"/data2/mito_lineage/output/annotation_clones/data/cd34norm/MTblacklist/DE_large/donor1/clones_8__6.DE.GeneActivity.csv\"\n"
     ]
    },
    {
     "name": "stderr",
     "output_type": "stream",
     "text": [
      "'select()' returned 1:many mapping between keys and columns\n",
      "\n"
     ]
    },
    {
     "name": "stdout",
     "output_type": "stream",
     "text": [
      "[1] \"/data2/mito_lineage/output/annotation_clones/data/cd34norm/MTblacklist/DE_large/donor2/clones_0__1.DE.GeneActivity.csv\"\n"
     ]
    },
    {
     "name": "stderr",
     "output_type": "stream",
     "text": [
      "'select()' returned 1:many mapping between keys and columns\n",
      "\n"
     ]
    },
    {
     "name": "stdout",
     "output_type": "stream",
     "text": [
      "[1] \"/data2/mito_lineage/output/annotation_clones/data/cd34norm/MTblacklist/DE_large/donor2/clones_0__2.DE.GeneActivity.csv\"\n"
     ]
    },
    {
     "name": "stderr",
     "output_type": "stream",
     "text": [
      "'select()' returned 1:many mapping between keys and columns\n",
      "\n"
     ]
    },
    {
     "name": "stdout",
     "output_type": "stream",
     "text": [
      "[1] \"/data2/mito_lineage/output/annotation_clones/data/cd34norm/MTblacklist/DE_large/donor2/clones_0__3.DE.GeneActivity.csv\"\n"
     ]
    },
    {
     "name": "stderr",
     "output_type": "stream",
     "text": [
      "'select()' returned 1:many mapping between keys and columns\n",
      "\n"
     ]
    },
    {
     "name": "stdout",
     "output_type": "stream",
     "text": [
      "[1] \"/data2/mito_lineage/output/annotation_clones/data/cd34norm/MTblacklist/DE_large/donor2/clones_0__4.DE.GeneActivity.csv\"\n"
     ]
    },
    {
     "name": "stderr",
     "output_type": "stream",
     "text": [
      "'select()' returned 1:many mapping between keys and columns\n",
      "\n"
     ]
    },
    {
     "name": "stdout",
     "output_type": "stream",
     "text": [
      "[1] \"/data2/mito_lineage/output/annotation_clones/data/cd34norm/MTblacklist/DE_large/donor2/clones_0__6.DE.GeneActivity.csv\"\n"
     ]
    },
    {
     "name": "stderr",
     "output_type": "stream",
     "text": [
      "'select()' returned 1:many mapping between keys and columns\n",
      "\n"
     ]
    },
    {
     "name": "stdout",
     "output_type": "stream",
     "text": [
      "[1] \"/data2/mito_lineage/output/annotation_clones/data/cd34norm/MTblacklist/DE_large/donor2/clones_1__2.DE.GeneActivity.csv\"\n"
     ]
    },
    {
     "name": "stderr",
     "output_type": "stream",
     "text": [
      "'select()' returned 1:many mapping between keys and columns\n",
      "\n"
     ]
    },
    {
     "name": "stdout",
     "output_type": "stream",
     "text": [
      "[1] \"/data2/mito_lineage/output/annotation_clones/data/cd34norm/MTblacklist/DE_large/donor2/clones_1__3.DE.GeneActivity.csv\"\n"
     ]
    },
    {
     "name": "stderr",
     "output_type": "stream",
     "text": [
      "'select()' returned 1:many mapping between keys and columns\n",
      "\n"
     ]
    },
    {
     "name": "stdout",
     "output_type": "stream",
     "text": [
      "[1] \"/data2/mito_lineage/output/annotation_clones/data/cd34norm/MTblacklist/DE_large/donor2/clones_1__4.DE.GeneActivity.csv\"\n"
     ]
    },
    {
     "name": "stderr",
     "output_type": "stream",
     "text": [
      "'select()' returned 1:many mapping between keys and columns\n",
      "\n"
     ]
    },
    {
     "name": "stdout",
     "output_type": "stream",
     "text": [
      "[1] \"/data2/mito_lineage/output/annotation_clones/data/cd34norm/MTblacklist/DE_large/donor2/clones_1__6.DE.GeneActivity.csv\"\n"
     ]
    },
    {
     "name": "stderr",
     "output_type": "stream",
     "text": [
      "'select()' returned 1:many mapping between keys and columns\n",
      "\n"
     ]
    },
    {
     "name": "stdout",
     "output_type": "stream",
     "text": [
      "[1] \"/data2/mito_lineage/output/annotation_clones/data/cd34norm/MTblacklist/DE_large/donor2/clones_2__3.DE.GeneActivity.csv\"\n"
     ]
    },
    {
     "name": "stderr",
     "output_type": "stream",
     "text": [
      "'select()' returned 1:many mapping between keys and columns\n",
      "\n"
     ]
    },
    {
     "name": "stdout",
     "output_type": "stream",
     "text": [
      "[1] \"/data2/mito_lineage/output/annotation_clones/data/cd34norm/MTblacklist/DE_large/donor2/clones_2__4.DE.GeneActivity.csv\"\n"
     ]
    },
    {
     "name": "stderr",
     "output_type": "stream",
     "text": [
      "'select()' returned 1:many mapping between keys and columns\n",
      "\n"
     ]
    },
    {
     "name": "stdout",
     "output_type": "stream",
     "text": [
      "[1] \"/data2/mito_lineage/output/annotation_clones/data/cd34norm/MTblacklist/DE_large/donor2/clones_2__6.DE.GeneActivity.csv\"\n"
     ]
    },
    {
     "name": "stderr",
     "output_type": "stream",
     "text": [
      "'select()' returned 1:many mapping between keys and columns\n",
      "\n"
     ]
    },
    {
     "name": "stdout",
     "output_type": "stream",
     "text": [
      "[1] \"/data2/mito_lineage/output/annotation_clones/data/cd34norm/MTblacklist/DE_large/donor2/clones_3__4.DE.GeneActivity.csv\"\n"
     ]
    },
    {
     "name": "stderr",
     "output_type": "stream",
     "text": [
      "'select()' returned 1:many mapping between keys and columns\n",
      "\n"
     ]
    },
    {
     "name": "stdout",
     "output_type": "stream",
     "text": [
      "[1] \"/data2/mito_lineage/output/annotation_clones/data/cd34norm/MTblacklist/DE_large/donor2/clones_3__6.DE.GeneActivity.csv\"\n"
     ]
    },
    {
     "name": "stderr",
     "output_type": "stream",
     "text": [
      "'select()' returned 1:many mapping between keys and columns\n",
      "\n"
     ]
    },
    {
     "name": "stdout",
     "output_type": "stream",
     "text": [
      "[1] \"/data2/mito_lineage/output/annotation_clones/data/cd34norm/MTblacklist/DE_large/donor2/clones_4__6.DE.GeneActivity.csv\"\n"
     ]
    },
    {
     "name": "stderr",
     "output_type": "stream",
     "text": [
      "'select()' returned 1:many mapping between keys and columns\n",
      "\n"
     ]
    },
    {
     "name": "stdout",
     "output_type": "stream",
     "text": [
      "[1] \"/data2/mito_lineage/output/annotation_clones/data/cd34norm/MTblacklist/DE_large/donor3/clones_0__1.DE.GeneActivity.csv\"\n"
     ]
    },
    {
     "name": "stderr",
     "output_type": "stream",
     "text": [
      "'select()' returned 1:many mapping between keys and columns\n",
      "\n"
     ]
    },
    {
     "name": "stdout",
     "output_type": "stream",
     "text": [
      "[1] \"/data2/mito_lineage/output/annotation_clones/data/cd34norm/MTblacklist/DE_large/donor3/clones_0__36.DE.GeneActivity.csv\"\n"
     ]
    },
    {
     "name": "stderr",
     "output_type": "stream",
     "text": [
      "'select()' returned 1:many mapping between keys and columns\n",
      "\n"
     ]
    },
    {
     "name": "stdout",
     "output_type": "stream",
     "text": [
      "[1] \"/data2/mito_lineage/output/annotation_clones/data/cd34norm/MTblacklist/DE_large/donor3/clones_36__1.DE.GeneActivity.csv\"\n"
     ]
    },
    {
     "name": "stderr",
     "output_type": "stream",
     "text": [
      "'select()' returned 1:many mapping between keys and columns\n",
      "\n"
     ]
    }
   ],
   "source": [
    "#for f in list.files(DE.path, pattern=\"*.csv\"){\n",
    "for (d in 0:n_donors-1){\n",
    "    curr.DE_out.path <- file.path(DE_out, paste0(\"donor\", d))\n",
    "    \n",
    "    DE_files <- list.files(path = curr.DE_out.path,pattern=\"*.csv\", full.names=TRUE)\n",
    "    for(f in DE_files){\n",
    "        print(f)\n",
    "        curr <- read.csv(f)\n",
    "\n",
    "        if (!(nrow(curr)==0)){\n",
    "            colnames(curr) <- c(\"Gene\",\"pvalue\",\"log2FoldChange\",\"pct.1\",\"pct.2\",\"padj\")\n",
    "            curr$ensg <- mapIds(org.Hs.eg.db,\n",
    "                        keys=curr$Gene, \n",
    "                        column=\"ENSEMBL\",\n",
    "                        keytype=\"SYMBOL\",\n",
    "                        multiVals=\"first\")\n",
    "            write.table(curr, file.path(curr.DE_out.path, paste0(strsplit(basename(f), \".csv\")[[1]], \".tsv\")),quote = FALSE,\n",
    "                        row.names=FALSE, sep='\\t')\n",
    "        }\n",
    "\n",
    "    }\n",
    "    }"
   ]
  },
  {
   "cell_type": "code",
   "execution_count": 7,
   "id": "c641fe0f",
   "metadata": {
    "scrolled": true
   },
   "outputs": [],
   "source": [
    "#rm(list=ls())\n",
    "\n",
    "########################################################################################\n",
    "##  gsea_ex1\n",
    "#---------------------------------------------------------------------------------------\n",
    "#' @description This example is designed to demonstrate how to run gsea analysis on the \n",
    "#'              input files (DESeq2 results) put in the same directory\n",
    "#' @details All the parameter definitions is in the below section of \"Setting Parameter\"\n",
    "#' @return out a list that summarizes the GSEA enrichment analysis\n",
    "#' \n",
    "#' @export exportExcel_fp an excel file of the 'out' can be exported\n",
    "#' @export exportPDF_fp an figure of the GSEA enrichment analysis\n",
    "#' --------------------------------------------------------------------------------------------------\n",
    "#' @author Austin W.T. Chiang\n",
    "#' @note   v1.4 -- 2017.02.15 Add description of ex1, ex2, and idmapping file\n",
    "#' @note   v1.3 -- 2017.02.08 Add function of displaying topN pathways and optimze code\n",
    "#' @note   v1.2 -- 2017.02.06 Add zebrafish2 human id mapping\n",
    "#' @note   v1.1 -- 2017.01.19 Midified for BEN\n",
    "#' @note   v1.0 -- 2016.12.15 File created\n",
    "#' --------------------------------------------------------------------------------------------------\n",
    "########################################################################################\n",
    "gsea_ex1 <- function(DE_out_path = NULL, export_path = NULL,\n",
    "                     IDmappingfile = NULL, convert = FALSE,\n",
    "                     gene_name = TRUE, GSEA_set = c('c0', 'c2', 'c3'),\n",
    "                     minGSSize = 30, pAdjustMethod = \"none\",\n",
    "                     pvalueCutoff = 0.01, export = \"BOTH\",\n",
    "                     ShowTop = TRUE, TopN = 5){\n",
    "  DE_out_files <- list.files(path = DE_out_path,pattern=\"*.tsv\", full.names = TRUE)\n",
    "  for(f in DE_out_files){\n",
    "    print(paste0(\"Here we go .... :\", f))\n",
    "    #f <- \"res_geno_dobs_removed_C57BL6_J__M.tsv\"\n",
    "    ## Input the DESeq result file\n",
    "    myClass <- read.csv(f, row.names = 1,sep=\"\\t\")\n",
    "    if(convert == TRUE){\n",
    "      geneMapTable <- read.csv(IDmappingfile, sep = \"\\t\")\n",
    "      myClass <- useIDmappingFile(myClass=myClass,\n",
    "                                  geneMapTable=geneMapTable) #,\n",
    "                                  #Original_attribute=Original_attribute,\n",
    "                                 # Convert_attribute=Co nvert_attribute)\n",
    "    }\n",
    "    \n",
    "    #DEGTable <- subset(myClass, abs(log2FoldChange) >= .58 & (padj < 0.05) )\n",
    "    #DEGTable <- subset(myClass, (padj < 0.1) )\n",
    "    DEGTable <- subset(myClass, abs(log2FoldChange) >= .1 ) #& (pvalue < 0.1) )\n",
    "    DEGTable <- DEGTable[with(DEGTable, order(-log2FoldChange)), ]\n",
    "    print(colnames(DEGTable))\n",
    "    if(gene_name==TRUE){\n",
    "      DEGTable$Gene <- DEGTable$gene_name\n",
    "    }else{\n",
    "      print('here')\n",
    "      DEGTable$Gene <- row.names(DEGTable)\n",
    "    }\n",
    "\n",
    "    DEGTable <- DEGTable[,c(\"Gene\",\"log2FoldChange\")]\n",
    "    print(\"DEGTable\")\n",
    "    print(dim(DEGTable))\n",
    "    ## do the GSEA analysis\n",
    "    f1 <- gsub(\".csv\", \"\", basename(f))\n",
    "    exportExcel_fp = paste0(export_path,f1,\"_gsea.xlsx\")\n",
    "    exportPDF_fp = paste0(export_path,f1,\"_gsea.pdf\")\n",
    "    GSEA_res <-  AnnotDEG_byGSEA(DEGTable = DEGTable, GSEA_set = GSEA_set,\n",
    "                                 export = export, ShowTop = ShowTop, TopN = TopN,\n",
    "                                 exportExcel_fp = exportExcel_fp,\n",
    "                                 exportPDF_fp = exportPDF_fp,\n",
    "                                 minGSSize = minGSSize, \n",
    "                                 pAdjustMethod = pAdjustMethod, \n",
    "                                 pvalueCutoff = pvalueCutoff)\n",
    "    \n",
    "  }\n",
    "}\n",
    "\n",
    "\n",
    "########################################################################################\n",
    "##  Setting Parameter\n",
    "########################################################################################\n",
    "#' @param DE_out_path the path of the DESeq2 output files \n",
    "#' @param export_path the path that user want to export the GSEA results\n",
    "#' @param convert 'TRUE': need to do id converion; 'FALSE': no id conversion needed  \n",
    "#' @param IDmappingfile the idmapping file show that user's id to human gene name\n",
    "#' @param gene_name 'TRUE': there is a columan \"gene_name\" in the input files (i.e. DESeq2 output files)\n",
    "#' @param GSEA_set = c('c0', 'c2', 'c3')\n",
    "#'                 co - hallmark gene sets;       c1 - positional gene sets; \n",
    "#'                 c2 - curated gene sets;        c3 - motif gene sets;\n",
    "#'                 c4 - computational gene sets;  c5 - GO gene sets;\n",
    "#'                 c6 - oncogenic signatures;     c7 - immunologic signatures. \n",
    "#'                 (http://software.broadinstitute.org/gsea/msigdb/collections.jsp#C2)\n",
    "#' @param minGSSize minimum size of genes for a specific GSEA gene set\n",
    "#' @param pAdjustMethod one of \"holm\", \"hochberg\", \"hommel\", \"bonferroni\", \"BH\", \"BY\", \"fdr\", \"none\"\n",
    "#' @param pvalueCutoff cutoff of pvalue in the GSEA enrichment analysis \n",
    "#' @param export option for exporting GSEA result: \"EXCEL\", \"PDF\", or \"BOTH\"\n",
    "#' @param ShowTop 'TRUE': the visualization will display only the top and bottom N gene sets; \n",
    "#'                'FALSE': all of the significant gsea gene sets will be displayed \n",
    "#'                        --> Note that: it is usually results in too many gene sets, which are not easy to see anything    \n",
    "#' @param TopN this parameter indicate how many gene sets need to be displayed in the plots\n",
    "########################################################################################\n",
    "\n",
    "# DE_out_path <- DE_out.path\n",
    "# export_path <- \n",
    "#IDmappingfile <- \"\" #\"mouse2human.txt\" #\"Data/zebrafish2human_idmapping.txt\"\n",
    "convert = FALSE\n",
    "gene_name = FALSE \n",
    "GSEA_set = c('c0', 'c2', 'c5')\n",
    "minGSSize = 10 #20 #30\n",
    "pAdjustMethod = \"none\"\n",
    "pvalueCutoff = 0.05\n",
    "export = \"BOTH\"\n",
    "ShowTop = TRUE \n",
    "TopN = 10\n",
    "\n",
    "\n"
   ]
  },
  {
   "cell_type": "markdown",
   "id": "b83eefb8",
   "metadata": {},
   "source": [
    "## Loop through each donor and run"
   ]
  },
  {
   "cell_type": "code",
   "execution_count": null,
   "id": "ac3c818c",
   "metadata": {
    "scrolled": true
   },
   "outputs": [
    {
     "name": "stdout",
     "output_type": "stream",
     "text": [
      "[1] \"Here we go .... :/data2/mito_lineage/output/annotation_clones/data/cd34norm/MTblacklist/DE_large/donor0/clones_0__1.DE.GeneActivity.tsv\"\n",
      "[1] \"pvalue\"         \"log2FoldChange\" \"pct.1\"          \"pct.2\"         \n",
      "[5] \"padj\"           \"ensg\"          \n",
      "[1] \"here\"\n",
      "[1] \"DEGTable\"\n",
      "[1] 243   2\n"
     ]
    },
    {
     "name": "stderr",
     "output_type": "stream",
     "text": [
      "preparing geneSet collections...\n",
      "\n",
      "GSEA analysis...\n",
      "\n",
      "Warning message in preparePathwaysAndStats(pathways, stats, minSize, maxSize, gseaParam, :\n",
      "“There are ties in the preranked stats (0.41% of the list).\n",
      "The order of those tied genes will be arbitrary, which may produce unexpected results.”\n",
      "no term enriched under specific pvalueCutoff...\n",
      "\n",
      "preparing geneSet collections...\n",
      "\n",
      "GSEA analysis...\n",
      "\n",
      "Warning message in preparePathwaysAndStats(pathways, stats, minSize, maxSize, gseaParam, :\n",
      "“There are ties in the preranked stats (0.41% of the list).\n",
      "The order of those tied genes will be arbitrary, which may produce unexpected results.”\n",
      "leading edge analysis...\n",
      "\n",
      "done...\n",
      "\n",
      "preparing geneSet collections...\n",
      "\n",
      "GSEA analysis...\n",
      "\n",
      "Warning message in preparePathwaysAndStats(pathways, stats, minSize, maxSize, gseaParam, :\n",
      "“There are ties in the preranked stats (0.41% of the list).\n",
      "The order of those tied genes will be arbitrary, which may produce unexpected results.”\n",
      "no term enriched under specific pvalueCutoff...\n",
      "\n",
      "Warning message in is.na(egmt[[c]]):\n",
      "“is.na() applied to non-(list or vector) of type 'S4'”\n",
      "Warning message in summary(egmt[[c]]):\n",
      "“summary method to convert the object to data.frame is deprecated, please use as.data.frame instead.”\n",
      "Warning message in is.na(egmt[[c]]):\n",
      "“is.na() applied to non-(list or vector) of type 'S4'”\n",
      "Warning message in summary(egmt[[c]]):\n",
      "“summary method to convert the object to data.frame is deprecated, please use as.data.frame instead.”\n",
      "Warning message in is.na(egmt[[c]]):\n",
      "“is.na() applied to non-(list or vector) of type 'S4'”\n",
      "Warning message in summary(egmt[[c]]):\n",
      "“summary method to convert the object to data.frame is deprecated, please use as.data.frame instead.”\n"
     ]
    },
    {
     "name": "stdout",
     "output_type": "stream",
     "text": [
      "[1] \"preExcel writing\"\n",
      "[1] \"postExcel writing\"\n",
      "[1] \"Here we go .... :/data2/mito_lineage/output/annotation_clones/data/cd34norm/MTblacklist/DE_large/donor0/clones_0__2.DE.GeneActivity.tsv\"\n",
      "[1] \"pvalue\"         \"log2FoldChange\" \"pct.1\"          \"pct.2\"         \n",
      "[5] \"padj\"           \"ensg\"          \n",
      "[1] \"here\"\n",
      "[1] \"DEGTable\"\n",
      "[1] 305   2\n"
     ]
    },
    {
     "name": "stderr",
     "output_type": "stream",
     "text": [
      "preparing geneSet collections...\n",
      "\n",
      "GSEA analysis...\n",
      "\n",
      "no term enriched under specific pvalueCutoff...\n",
      "\n",
      "preparing geneSet collections...\n",
      "\n",
      "GSEA analysis...\n",
      "\n",
      "leading edge analysis...\n",
      "\n",
      "done...\n",
      "\n",
      "preparing geneSet collections...\n",
      "\n",
      "GSEA analysis...\n",
      "\n",
      "leading edge analysis...\n",
      "\n",
      "done...\n",
      "\n",
      "Warning message in is.na(egmt[[c]]):\n",
      "“is.na() applied to non-(list or vector) of type 'S4'”\n",
      "Warning message in summary(egmt[[c]]):\n",
      "“summary method to convert the object to data.frame is deprecated, please use as.data.frame instead.”\n",
      "Warning message in is.na(egmt[[c]]):\n",
      "“is.na() applied to non-(list or vector) of type 'S4'”\n",
      "Warning message in summary(egmt[[c]]):\n",
      "“summary method to convert the object to data.frame is deprecated, please use as.data.frame instead.”\n",
      "Warning message in is.na(egmt[[c]]):\n",
      "“is.na() applied to non-(list or vector) of type 'S4'”\n",
      "Warning message in summary(egmt[[c]]):\n",
      "“summary method to convert the object to data.frame is deprecated, please use as.data.frame instead.”\n"
     ]
    },
    {
     "name": "stdout",
     "output_type": "stream",
     "text": [
      "[1] \"preExcel writing\"\n",
      "[1] \"postExcel writing\"\n",
      "[1] \"Here we go .... :/data2/mito_lineage/output/annotation_clones/data/cd34norm/MTblacklist/DE_large/donor0/clones_0__3.DE.GeneActivity.tsv\"\n",
      "[1] \"pvalue\"         \"log2FoldChange\" \"pct.1\"          \"pct.2\"         \n",
      "[5] \"padj\"           \"ensg\"          \n",
      "[1] \"here\"\n",
      "[1] \"DEGTable\"\n",
      "[1] 407   2\n"
     ]
    },
    {
     "name": "stderr",
     "output_type": "stream",
     "text": [
      "preparing geneSet collections...\n",
      "\n",
      "GSEA analysis...\n",
      "\n",
      "Warning message in preparePathwaysAndStats(pathways, stats, minSize, maxSize, gseaParam, :\n",
      "“There are ties in the preranked stats (0.74% of the list).\n",
      "The order of those tied genes will be arbitrary, which may produce unexpected results.”\n",
      "no term enriched under specific pvalueCutoff...\n",
      "\n",
      "preparing geneSet collections...\n",
      "\n",
      "GSEA analysis...\n",
      "\n",
      "Warning message in preparePathwaysAndStats(pathways, stats, minSize, maxSize, gseaParam, :\n",
      "“There are ties in the preranked stats (0.74% of the list).\n",
      "The order of those tied genes will be arbitrary, which may produce unexpected results.”\n",
      "leading edge analysis...\n",
      "\n",
      "done...\n",
      "\n",
      "preparing geneSet collections...\n",
      "\n",
      "GSEA analysis...\n",
      "\n",
      "Warning message in preparePathwaysAndStats(pathways, stats, minSize, maxSize, gseaParam, :\n",
      "“There are ties in the preranked stats (0.74% of the list).\n",
      "The order of those tied genes will be arbitrary, which may produce unexpected results.”\n",
      "leading edge analysis...\n",
      "\n",
      "done...\n",
      "\n",
      "Warning message in is.na(egmt[[c]]):\n",
      "“is.na() applied to non-(list or vector) of type 'S4'”\n",
      "Warning message in summary(egmt[[c]]):\n",
      "“summary method to convert the object to data.frame is deprecated, please use as.data.frame instead.”\n",
      "Warning message in is.na(egmt[[c]]):\n",
      "“is.na() applied to non-(list or vector) of type 'S4'”\n",
      "Warning message in summary(egmt[[c]]):\n",
      "“summary method to convert the object to data.frame is deprecated, please use as.data.frame instead.”\n",
      "Warning message in is.na(egmt[[c]]):\n",
      "“is.na() applied to non-(list or vector) of type 'S4'”\n",
      "Warning message in summary(egmt[[c]]):\n",
      "“summary method to convert the object to data.frame is deprecated, please use as.data.frame instead.”\n"
     ]
    },
    {
     "name": "stdout",
     "output_type": "stream",
     "text": [
      "[1] \"preExcel writing\"\n",
      "[1] \"postExcel writing\"\n",
      "[1] \"Here we go .... :/data2/mito_lineage/output/annotation_clones/data/cd34norm/MTblacklist/DE_large/donor0/clones_0__4.DE.GeneActivity.tsv\"\n",
      "[1] \"pvalue\"         \"log2FoldChange\" \"pct.1\"          \"pct.2\"         \n",
      "[5] \"padj\"           \"ensg\"          \n",
      "[1] \"here\"\n",
      "[1] \"DEGTable\"\n",
      "[1] 492   2\n"
     ]
    },
    {
     "name": "stderr",
     "output_type": "stream",
     "text": [
      "preparing geneSet collections...\n",
      "\n",
      "GSEA analysis...\n",
      "\n",
      "Warning message in preparePathwaysAndStats(pathways, stats, minSize, maxSize, gseaParam, :\n",
      "“There are ties in the preranked stats (0.41% of the list).\n",
      "The order of those tied genes will be arbitrary, which may produce unexpected results.”\n",
      "no term enriched under specific pvalueCutoff...\n",
      "\n",
      "preparing geneSet collections...\n",
      "\n",
      "GSEA analysis...\n",
      "\n",
      "Warning message in preparePathwaysAndStats(pathways, stats, minSize, maxSize, gseaParam, :\n",
      "“There are ties in the preranked stats (0.41% of the list).\n",
      "The order of those tied genes will be arbitrary, which may produce unexpected results.”\n",
      "leading edge analysis...\n",
      "\n",
      "done...\n",
      "\n",
      "preparing geneSet collections...\n",
      "\n",
      "GSEA analysis...\n",
      "\n",
      "Warning message in preparePathwaysAndStats(pathways, stats, minSize, maxSize, gseaParam, :\n",
      "“There are ties in the preranked stats (0.41% of the list).\n",
      "The order of those tied genes will be arbitrary, which may produce unexpected results.”\n",
      "leading edge analysis...\n",
      "\n",
      "done...\n",
      "\n",
      "Warning message in is.na(egmt[[c]]):\n",
      "“is.na() applied to non-(list or vector) of type 'S4'”\n",
      "Warning message in summary(egmt[[c]]):\n",
      "“summary method to convert the object to data.frame is deprecated, please use as.data.frame instead.”\n",
      "Warning message in is.na(egmt[[c]]):\n",
      "“is.na() applied to non-(list or vector) of type 'S4'”\n",
      "Warning message in summary(egmt[[c]]):\n",
      "“summary method to convert the object to data.frame is deprecated, please use as.data.frame instead.”\n",
      "Warning message in is.na(egmt[[c]]):\n",
      "“is.na() applied to non-(list or vector) of type 'S4'”\n",
      "Warning message in summary(egmt[[c]]):\n",
      "“summary method to convert the object to data.frame is deprecated, please use as.data.frame instead.”\n"
     ]
    },
    {
     "name": "stdout",
     "output_type": "stream",
     "text": [
      "[1] \"preExcel writing\"\n",
      "[1] \"postExcel writing\"\n",
      "[1] \"Here we go .... :/data2/mito_lineage/output/annotation_clones/data/cd34norm/MTblacklist/DE_large/donor0/clones_0__52.DE.GeneActivity.tsv\"\n",
      "[1] \"pvalue\"         \"log2FoldChange\" \"pct.1\"          \"pct.2\"         \n",
      "[5] \"padj\"           \"ensg\"          \n",
      "[1] \"here\"\n",
      "[1] \"DEGTable\"\n",
      "[1] 1080    2\n"
     ]
    },
    {
     "name": "stderr",
     "output_type": "stream",
     "text": [
      "preparing geneSet collections...\n",
      "\n",
      "GSEA analysis...\n",
      "\n",
      "Warning message in preparePathwaysAndStats(pathways, stats, minSize, maxSize, gseaParam, :\n",
      "“There are ties in the preranked stats (0.56% of the list).\n",
      "The order of those tied genes will be arbitrary, which may produce unexpected results.”\n",
      "leading edge analysis...\n",
      "\n",
      "done...\n",
      "\n",
      "preparing geneSet collections...\n",
      "\n",
      "GSEA analysis...\n",
      "\n",
      "Warning message in preparePathwaysAndStats(pathways, stats, minSize, maxSize, gseaParam, :\n",
      "“There are ties in the preranked stats (0.56% of the list).\n",
      "The order of those tied genes will be arbitrary, which may produce unexpected results.”\n",
      "leading edge analysis...\n",
      "\n",
      "done...\n",
      "\n",
      "preparing geneSet collections...\n",
      "\n",
      "GSEA analysis...\n",
      "\n",
      "Warning message in preparePathwaysAndStats(pathways, stats, minSize, maxSize, gseaParam, :\n",
      "“There are ties in the preranked stats (0.56% of the list).\n",
      "The order of those tied genes will be arbitrary, which may produce unexpected results.”\n",
      "leading edge analysis...\n",
      "\n",
      "done...\n",
      "\n",
      "Warning message in is.na(egmt[[c]]):\n",
      "“is.na() applied to non-(list or vector) of type 'S4'”\n",
      "Warning message in summary(egmt[[c]]):\n",
      "“summary method to convert the object to data.frame is deprecated, please use as.data.frame instead.”\n",
      "Warning message in is.na(egmt[[c]]):\n",
      "“is.na() applied to non-(list or vector) of type 'S4'”\n",
      "Warning message in summary(egmt[[c]]):\n",
      "“summary method to convert the object to data.frame is deprecated, please use as.data.frame instead.”\n",
      "Warning message in is.na(egmt[[c]]):\n",
      "“is.na() applied to non-(list or vector) of type 'S4'”\n",
      "Warning message in summary(egmt[[c]]):\n",
      "“summary method to convert the object to data.frame is deprecated, please use as.data.frame instead.”\n"
     ]
    },
    {
     "name": "stdout",
     "output_type": "stream",
     "text": [
      "[1] \"preExcel writing\"\n",
      "[1] \"postExcel writing\"\n",
      "[1] \"Here we go .... :/data2/mito_lineage/output/annotation_clones/data/cd34norm/MTblacklist/DE_large/donor0/clones_0__6.DE.GeneActivity.tsv\"\n",
      "[1] \"pvalue\"         \"log2FoldChange\" \"pct.1\"          \"pct.2\"         \n",
      "[5] \"padj\"           \"ensg\"          \n",
      "[1] \"here\"\n",
      "[1] \"DEGTable\"\n",
      "[1] 902   2\n"
     ]
    },
    {
     "name": "stderr",
     "output_type": "stream",
     "text": [
      "preparing geneSet collections...\n",
      "\n",
      "GSEA analysis...\n",
      "\n",
      "Warning message in preparePathwaysAndStats(pathways, stats, minSize, maxSize, gseaParam, :\n",
      "“There are ties in the preranked stats (0.22% of the list).\n",
      "The order of those tied genes will be arbitrary, which may produce unexpected results.”\n",
      "no term enriched under specific pvalueCutoff...\n",
      "\n",
      "preparing geneSet collections...\n",
      "\n",
      "GSEA analysis...\n",
      "\n",
      "Warning message in preparePathwaysAndStats(pathways, stats, minSize, maxSize, gseaParam, :\n",
      "“There are ties in the preranked stats (0.22% of the list).\n",
      "The order of those tied genes will be arbitrary, which may produce unexpected results.”\n",
      "leading edge analysis...\n",
      "\n",
      "done...\n",
      "\n",
      "preparing geneSet collections...\n",
      "\n",
      "GSEA analysis...\n",
      "\n",
      "Warning message in preparePathwaysAndStats(pathways, stats, minSize, maxSize, gseaParam, :\n",
      "“There are ties in the preranked stats (0.22% of the list).\n",
      "The order of those tied genes will be arbitrary, which may produce unexpected results.”\n",
      "leading edge analysis...\n",
      "\n",
      "done...\n",
      "\n",
      "Warning message in is.na(egmt[[c]]):\n",
      "“is.na() applied to non-(list or vector) of type 'S4'”\n",
      "Warning message in summary(egmt[[c]]):\n",
      "“summary method to convert the object to data.frame is deprecated, please use as.data.frame instead.”\n",
      "Warning message in is.na(egmt[[c]]):\n",
      "“is.na() applied to non-(list or vector) of type 'S4'”\n",
      "Warning message in summary(egmt[[c]]):\n",
      "“summary method to convert the object to data.frame is deprecated, please use as.data.frame instead.”\n",
      "Warning message in is.na(egmt[[c]]):\n",
      "“is.na() applied to non-(list or vector) of type 'S4'”\n",
      "Warning message in summary(egmt[[c]]):\n",
      "“summary method to convert the object to data.frame is deprecated, please use as.data.frame instead.”\n"
     ]
    },
    {
     "name": "stdout",
     "output_type": "stream",
     "text": [
      "[1] \"preExcel writing\"\n",
      "[1] \"postExcel writing\"\n",
      "[1] \"Here we go .... :/data2/mito_lineage/output/annotation_clones/data/cd34norm/MTblacklist/DE_large/donor0/clones_1__3.DE.GeneActivity.tsv\"\n",
      "[1] \"pvalue\"         \"log2FoldChange\" \"pct.1\"          \"pct.2\"         \n",
      "[5] \"padj\"           \"ensg\"          \n",
      "[1] \"here\"\n",
      "[1] \"DEGTable\"\n",
      "[1] 500   2\n"
     ]
    },
    {
     "name": "stderr",
     "output_type": "stream",
     "text": [
      "preparing geneSet collections...\n",
      "\n",
      "GSEA analysis...\n",
      "\n",
      "no term enriched under specific pvalueCutoff...\n",
      "\n",
      "preparing geneSet collections...\n",
      "\n",
      "GSEA analysis...\n",
      "\n",
      "leading edge analysis...\n",
      "\n",
      "done...\n",
      "\n",
      "preparing geneSet collections...\n",
      "\n",
      "GSEA analysis...\n",
      "\n",
      "leading edge analysis...\n",
      "\n",
      "done...\n",
      "\n",
      "Warning message in is.na(egmt[[c]]):\n",
      "“is.na() applied to non-(list or vector) of type 'S4'”\n",
      "Warning message in summary(egmt[[c]]):\n",
      "“summary method to convert the object to data.frame is deprecated, please use as.data.frame instead.”\n",
      "Warning message in is.na(egmt[[c]]):\n",
      "“is.na() applied to non-(list or vector) of type 'S4'”\n",
      "Warning message in summary(egmt[[c]]):\n",
      "“summary method to convert the object to data.frame is deprecated, please use as.data.frame instead.”\n",
      "Warning message in is.na(egmt[[c]]):\n",
      "“is.na() applied to non-(list or vector) of type 'S4'”\n",
      "Warning message in summary(egmt[[c]]):\n",
      "“summary method to convert the object to data.frame is deprecated, please use as.data.frame instead.”\n"
     ]
    },
    {
     "name": "stdout",
     "output_type": "stream",
     "text": [
      "[1] \"preExcel writing\"\n",
      "[1] \"postExcel writing\"\n",
      "[1] \"Here we go .... :/data2/mito_lineage/output/annotation_clones/data/cd34norm/MTblacklist/DE_large/donor0/clones_1__4.DE.GeneActivity.tsv\"\n",
      "[1] \"pvalue\"         \"log2FoldChange\" \"pct.1\"          \"pct.2\"         \n",
      "[5] \"padj\"           \"ensg\"          \n",
      "[1] \"here\"\n",
      "[1] \"DEGTable\"\n",
      "[1] 623   2\n"
     ]
    },
    {
     "name": "stderr",
     "output_type": "stream",
     "text": [
      "preparing geneSet collections...\n",
      "\n",
      "GSEA analysis...\n",
      "\n",
      "leading edge analysis...\n",
      "\n",
      "done...\n",
      "\n",
      "preparing geneSet collections...\n",
      "\n",
      "GSEA analysis...\n",
      "\n",
      "leading edge analysis...\n",
      "\n",
      "done...\n",
      "\n",
      "preparing geneSet collections...\n",
      "\n",
      "GSEA analysis...\n",
      "\n",
      "leading edge analysis...\n",
      "\n",
      "done...\n",
      "\n",
      "Warning message in is.na(egmt[[c]]):\n",
      "“is.na() applied to non-(list or vector) of type 'S4'”\n",
      "Warning message in summary(egmt[[c]]):\n",
      "“summary method to convert the object to data.frame is deprecated, please use as.data.frame instead.”\n",
      "Warning message in is.na(egmt[[c]]):\n",
      "“is.na() applied to non-(list or vector) of type 'S4'”\n",
      "Warning message in summary(egmt[[c]]):\n",
      "“summary method to convert the object to data.frame is deprecated, please use as.data.frame instead.”\n",
      "Warning message in is.na(egmt[[c]]):\n",
      "“is.na() applied to non-(list or vector) of type 'S4'”\n",
      "Warning message in summary(egmt[[c]]):\n",
      "“summary method to convert the object to data.frame is deprecated, please use as.data.frame instead.”\n"
     ]
    },
    {
     "name": "stdout",
     "output_type": "stream",
     "text": [
      "[1] \"preExcel writing\"\n",
      "[1] \"postExcel writing\"\n",
      "[1] \"Here we go .... :/data2/mito_lineage/output/annotation_clones/data/cd34norm/MTblacklist/DE_large/donor0/clones_1__6.DE.GeneActivity.tsv\"\n",
      "[1] \"pvalue\"         \"log2FoldChange\" \"pct.1\"          \"pct.2\"         \n",
      "[5] \"padj\"           \"ensg\"          \n",
      "[1] \"here\"\n",
      "[1] \"DEGTable\"\n",
      "[1] 1041    2\n"
     ]
    },
    {
     "name": "stderr",
     "output_type": "stream",
     "text": [
      "preparing geneSet collections...\n",
      "\n",
      "GSEA analysis...\n",
      "\n",
      "Warning message in preparePathwaysAndStats(pathways, stats, minSize, maxSize, gseaParam, :\n",
      "“There are ties in the preranked stats (0.1% of the list).\n",
      "The order of those tied genes will be arbitrary, which may produce unexpected results.”\n",
      "no term enriched under specific pvalueCutoff...\n",
      "\n",
      "preparing geneSet collections...\n",
      "\n",
      "GSEA analysis...\n",
      "\n",
      "Warning message in preparePathwaysAndStats(pathways, stats, minSize, maxSize, gseaParam, :\n",
      "“There are ties in the preranked stats (0.1% of the list).\n",
      "The order of those tied genes will be arbitrary, which may produce unexpected results.”\n",
      "leading edge analysis...\n",
      "\n",
      "done...\n",
      "\n",
      "preparing geneSet collections...\n",
      "\n",
      "GSEA analysis...\n",
      "\n",
      "Warning message in preparePathwaysAndStats(pathways, stats, minSize, maxSize, gseaParam, :\n",
      "“There are ties in the preranked stats (0.1% of the list).\n",
      "The order of those tied genes will be arbitrary, which may produce unexpected results.”\n",
      "leading edge analysis...\n",
      "\n",
      "done...\n",
      "\n",
      "Warning message in is.na(egmt[[c]]):\n",
      "“is.na() applied to non-(list or vector) of type 'S4'”\n",
      "Warning message in summary(egmt[[c]]):\n",
      "“summary method to convert the object to data.frame is deprecated, please use as.data.frame instead.”\n",
      "Warning message in is.na(egmt[[c]]):\n",
      "“is.na() applied to non-(list or vector) of type 'S4'”\n",
      "Warning message in summary(egmt[[c]]):\n",
      "“summary method to convert the object to data.frame is deprecated, please use as.data.frame instead.”\n",
      "Warning message in is.na(egmt[[c]]):\n",
      "“is.na() applied to non-(list or vector) of type 'S4'”\n",
      "Warning message in summary(egmt[[c]]):\n",
      "“summary method to convert the object to data.frame is deprecated, please use as.data.frame instead.”\n"
     ]
    },
    {
     "name": "stdout",
     "output_type": "stream",
     "text": [
      "[1] \"preExcel writing\"\n",
      "[1] \"postExcel writing\"\n",
      "[1] \"Here we go .... :/data2/mito_lineage/output/annotation_clones/data/cd34norm/MTblacklist/DE_large/donor0/clones_2__1.DE.GeneActivity.tsv\"\n",
      "[1] \"pvalue\"         \"log2FoldChange\" \"pct.1\"          \"pct.2\"         \n",
      "[5] \"padj\"           \"ensg\"          \n",
      "[1] \"here\"\n",
      "[1] \"DEGTable\"\n",
      "[1] 442   2\n"
     ]
    },
    {
     "name": "stderr",
     "output_type": "stream",
     "text": [
      "preparing geneSet collections...\n",
      "\n",
      "GSEA analysis...\n",
      "\n",
      "leading edge analysis...\n",
      "\n",
      "done...\n",
      "\n",
      "preparing geneSet collections...\n",
      "\n",
      "GSEA analysis...\n",
      "\n",
      "leading edge analysis...\n",
      "\n",
      "done...\n",
      "\n",
      "preparing geneSet collections...\n",
      "\n",
      "GSEA analysis...\n",
      "\n",
      "leading edge analysis...\n",
      "\n",
      "done...\n",
      "\n",
      "Warning message in is.na(egmt[[c]]):\n",
      "“is.na() applied to non-(list or vector) of type 'S4'”\n",
      "Warning message in summary(egmt[[c]]):\n",
      "“summary method to convert the object to data.frame is deprecated, please use as.data.frame instead.”\n",
      "Warning message in is.na(egmt[[c]]):\n",
      "“is.na() applied to non-(list or vector) of type 'S4'”\n",
      "Warning message in summary(egmt[[c]]):\n",
      "“summary method to convert the object to data.frame is deprecated, please use as.data.frame instead.”\n",
      "Warning message in is.na(egmt[[c]]):\n",
      "“is.na() applied to non-(list or vector) of type 'S4'”\n",
      "Warning message in summary(egmt[[c]]):\n",
      "“summary method to convert the object to data.frame is deprecated, please use as.data.frame instead.”\n"
     ]
    },
    {
     "name": "stdout",
     "output_type": "stream",
     "text": [
      "[1] \"preExcel writing\"\n",
      "[1] \"postExcel writing\"\n",
      "[1] \"Here we go .... :/data2/mito_lineage/output/annotation_clones/data/cd34norm/MTblacklist/DE_large/donor0/clones_2__3.DE.GeneActivity.tsv\"\n",
      "[1] \"pvalue\"         \"log2FoldChange\" \"pct.1\"          \"pct.2\"         \n",
      "[5] \"padj\"           \"ensg\"          \n",
      "[1] \"here\"\n",
      "[1] \"DEGTable\"\n",
      "[1] 453   2\n"
     ]
    },
    {
     "name": "stderr",
     "output_type": "stream",
     "text": [
      "preparing geneSet collections...\n",
      "\n",
      "GSEA analysis...\n",
      "\n",
      "Warning message in preparePathwaysAndStats(pathways, stats, minSize, maxSize, gseaParam, :\n",
      "“There are ties in the preranked stats (0.22% of the list).\n",
      "The order of those tied genes will be arbitrary, which may produce unexpected results.”\n",
      "no term enriched under specific pvalueCutoff...\n",
      "\n",
      "preparing geneSet collections...\n",
      "\n",
      "GSEA analysis...\n",
      "\n",
      "Warning message in preparePathwaysAndStats(pathways, stats, minSize, maxSize, gseaParam, :\n",
      "“There are ties in the preranked stats (0.22% of the list).\n",
      "The order of those tied genes will be arbitrary, which may produce unexpected results.”\n",
      "leading edge analysis...\n",
      "\n",
      "done...\n",
      "\n",
      "preparing geneSet collections...\n",
      "\n",
      "GSEA analysis...\n",
      "\n",
      "Warning message in preparePathwaysAndStats(pathways, stats, minSize, maxSize, gseaParam, :\n",
      "“There are ties in the preranked stats (0.22% of the list).\n",
      "The order of those tied genes will be arbitrary, which may produce unexpected results.”\n",
      "leading edge analysis...\n",
      "\n",
      "done...\n",
      "\n",
      "Warning message in is.na(egmt[[c]]):\n",
      "“is.na() applied to non-(list or vector) of type 'S4'”\n",
      "Warning message in summary(egmt[[c]]):\n",
      "“summary method to convert the object to data.frame is deprecated, please use as.data.frame instead.”\n",
      "Warning message in is.na(egmt[[c]]):\n",
      "“is.na() applied to non-(list or vector) of type 'S4'”\n",
      "Warning message in summary(egmt[[c]]):\n",
      "“summary method to convert the object to data.frame is deprecated, please use as.data.frame instead.”\n",
      "Warning message in is.na(egmt[[c]]):\n",
      "“is.na() applied to non-(list or vector) of type 'S4'”\n",
      "Warning message in summary(egmt[[c]]):\n",
      "“summary method to convert the object to data.frame is deprecated, please use as.data.frame instead.”\n"
     ]
    },
    {
     "name": "stdout",
     "output_type": "stream",
     "text": [
      "[1] \"preExcel writing\"\n",
      "[1] \"postExcel writing\"\n",
      "[1] \"Here we go .... :/data2/mito_lineage/output/annotation_clones/data/cd34norm/MTblacklist/DE_large/donor0/clones_2__4.DE.GeneActivity.tsv\"\n",
      "[1] \"pvalue\"         \"log2FoldChange\" \"pct.1\"          \"pct.2\"         \n",
      "[5] \"padj\"           \"ensg\"          \n",
      "[1] \"here\"\n",
      "[1] \"DEGTable\"\n",
      "[1] 402   2\n"
     ]
    },
    {
     "name": "stderr",
     "output_type": "stream",
     "text": [
      "preparing geneSet collections...\n",
      "\n",
      "GSEA analysis...\n",
      "\n",
      "Warning message in preparePathwaysAndStats(pathways, stats, minSize, maxSize, gseaParam, :\n",
      "“There are ties in the preranked stats (0.25% of the list).\n",
      "The order of those tied genes will be arbitrary, which may produce unexpected results.”\n",
      "no term enriched under specific pvalueCutoff...\n",
      "\n",
      "preparing geneSet collections...\n",
      "\n",
      "GSEA analysis...\n",
      "\n",
      "Warning message in preparePathwaysAndStats(pathways, stats, minSize, maxSize, gseaParam, :\n",
      "“There are ties in the preranked stats (0.25% of the list).\n",
      "The order of those tied genes will be arbitrary, which may produce unexpected results.”\n",
      "leading edge analysis...\n",
      "\n",
      "done...\n",
      "\n",
      "preparing geneSet collections...\n",
      "\n",
      "GSEA analysis...\n",
      "\n",
      "Warning message in preparePathwaysAndStats(pathways, stats, minSize, maxSize, gseaParam, :\n",
      "“There are ties in the preranked stats (0.25% of the list).\n",
      "The order of those tied genes will be arbitrary, which may produce unexpected results.”\n",
      "leading edge analysis...\n",
      "\n",
      "done...\n",
      "\n",
      "Warning message in is.na(egmt[[c]]):\n",
      "“is.na() applied to non-(list or vector) of type 'S4'”\n",
      "Warning message in summary(egmt[[c]]):\n",
      "“summary method to convert the object to data.frame is deprecated, please use as.data.frame instead.”\n",
      "Warning message in is.na(egmt[[c]]):\n",
      "“is.na() applied to non-(list or vector) of type 'S4'”\n",
      "Warning message in summary(egmt[[c]]):\n",
      "“summary method to convert the object to data.frame is deprecated, please use as.data.frame instead.”\n",
      "Warning message in is.na(egmt[[c]]):\n",
      "“is.na() applied to non-(list or vector) of type 'S4'”\n",
      "Warning message in summary(egmt[[c]]):\n",
      "“summary method to convert the object to data.frame is deprecated, please use as.data.frame instead.”\n"
     ]
    },
    {
     "name": "stdout",
     "output_type": "stream",
     "text": [
      "[1] \"preExcel writing\"\n",
      "[1] \"postExcel writing\"\n",
      "[1] \"Here we go .... :/data2/mito_lineage/output/annotation_clones/data/cd34norm/MTblacklist/DE_large/donor0/clones_2__6.DE.GeneActivity.tsv\"\n",
      "[1] \"pvalue\"         \"log2FoldChange\" \"pct.1\"          \"pct.2\"         \n",
      "[5] \"padj\"           \"ensg\"          \n",
      "[1] \"here\"\n",
      "[1] \"DEGTable\"\n",
      "[1] 860   2\n"
     ]
    },
    {
     "name": "stderr",
     "output_type": "stream",
     "text": [
      "preparing geneSet collections...\n",
      "\n",
      "GSEA analysis...\n",
      "\n",
      "Warning message in preparePathwaysAndStats(pathways, stats, minSize, maxSize, gseaParam, :\n",
      "“There are ties in the preranked stats (0.12% of the list).\n",
      "The order of those tied genes will be arbitrary, which may produce unexpected results.”\n",
      "no term enriched under specific pvalueCutoff...\n",
      "\n",
      "preparing geneSet collections...\n",
      "\n",
      "GSEA analysis...\n",
      "\n",
      "Warning message in preparePathwaysAndStats(pathways, stats, minSize, maxSize, gseaParam, :\n",
      "“There are ties in the preranked stats (0.12% of the list).\n",
      "The order of those tied genes will be arbitrary, which may produce unexpected results.”\n",
      "leading edge analysis...\n",
      "\n",
      "done...\n",
      "\n",
      "preparing geneSet collections...\n",
      "\n",
      "GSEA analysis...\n",
      "\n",
      "Warning message in preparePathwaysAndStats(pathways, stats, minSize, maxSize, gseaParam, :\n",
      "“There are ties in the preranked stats (0.12% of the list).\n",
      "The order of those tied genes will be arbitrary, which may produce unexpected results.”\n",
      "leading edge analysis...\n",
      "\n",
      "done...\n",
      "\n",
      "Warning message in is.na(egmt[[c]]):\n",
      "“is.na() applied to non-(list or vector) of type 'S4'”\n",
      "Warning message in summary(egmt[[c]]):\n",
      "“summary method to convert the object to data.frame is deprecated, please use as.data.frame instead.”\n",
      "Warning message in is.na(egmt[[c]]):\n",
      "“is.na() applied to non-(list or vector) of type 'S4'”\n",
      "Warning message in summary(egmt[[c]]):\n",
      "“summary method to convert the object to data.frame is deprecated, please use as.data.frame instead.”\n",
      "Warning message in is.na(egmt[[c]]):\n",
      "“is.na() applied to non-(list or vector) of type 'S4'”\n",
      "Warning message in summary(egmt[[c]]):\n",
      "“summary method to convert the object to data.frame is deprecated, please use as.data.frame instead.”\n"
     ]
    },
    {
     "name": "stdout",
     "output_type": "stream",
     "text": [
      "[1] \"preExcel writing\"\n",
      "[1] \"postExcel writing\"\n",
      "[1] \"Here we go .... :/data2/mito_lineage/output/annotation_clones/data/cd34norm/MTblacklist/DE_large/donor0/clones_3__6.DE.GeneActivity.tsv\"\n",
      "[1] \"pvalue\"         \"log2FoldChange\" \"pct.1\"          \"pct.2\"         \n",
      "[5] \"padj\"           \"ensg\"          \n",
      "[1] \"here\"\n",
      "[1] \"DEGTable\"\n",
      "[1] 937   2\n"
     ]
    },
    {
     "name": "stderr",
     "output_type": "stream",
     "text": [
      "preparing geneSet collections...\n",
      "\n",
      "GSEA analysis...\n",
      "\n",
      "Warning message in preparePathwaysAndStats(pathways, stats, minSize, maxSize, gseaParam, :\n",
      "“There are ties in the preranked stats (0.11% of the list).\n",
      "The order of those tied genes will be arbitrary, which may produce unexpected results.”\n",
      "no term enriched under specific pvalueCutoff...\n",
      "\n",
      "preparing geneSet collections...\n",
      "\n",
      "GSEA analysis...\n",
      "\n",
      "Warning message in preparePathwaysAndStats(pathways, stats, minSize, maxSize, gseaParam, :\n",
      "“There are ties in the preranked stats (0.11% of the list).\n",
      "The order of those tied genes will be arbitrary, which may produce unexpected results.”\n",
      "leading edge analysis...\n",
      "\n",
      "done...\n",
      "\n",
      "preparing geneSet collections...\n",
      "\n",
      "GSEA analysis...\n",
      "\n",
      "Warning message in preparePathwaysAndStats(pathways, stats, minSize, maxSize, gseaParam, :\n",
      "“There are ties in the preranked stats (0.11% of the list).\n",
      "The order of those tied genes will be arbitrary, which may produce unexpected results.”\n",
      "leading edge analysis...\n",
      "\n",
      "done...\n",
      "\n",
      "Warning message in is.na(egmt[[c]]):\n",
      "“is.na() applied to non-(list or vector) of type 'S4'”\n",
      "Warning message in summary(egmt[[c]]):\n",
      "“summary method to convert the object to data.frame is deprecated, please use as.data.frame instead.”\n",
      "Warning message in is.na(egmt[[c]]):\n",
      "“is.na() applied to non-(list or vector) of type 'S4'”\n",
      "Warning message in summary(egmt[[c]]):\n",
      "“summary method to convert the object to data.frame is deprecated, please use as.data.frame instead.”\n",
      "Warning message in is.na(egmt[[c]]):\n",
      "“is.na() applied to non-(list or vector) of type 'S4'”\n",
      "Warning message in summary(egmt[[c]]):\n",
      "“summary method to convert the object to data.frame is deprecated, please use as.data.frame instead.”\n"
     ]
    },
    {
     "name": "stdout",
     "output_type": "stream",
     "text": [
      "[1] \"preExcel writing\"\n",
      "[1] \"postExcel writing\"\n",
      "[1] \"Here we go .... :/data2/mito_lineage/output/annotation_clones/data/cd34norm/MTblacklist/DE_large/donor0/clones_4__3.DE.GeneActivity.tsv\"\n",
      "[1] \"pvalue\"         \"log2FoldChange\" \"pct.1\"          \"pct.2\"         \n",
      "[5] \"padj\"           \"ensg\"          \n",
      "[1] \"here\"\n",
      "[1] \"DEGTable\"\n",
      "[1] 559   2\n"
     ]
    },
    {
     "name": "stderr",
     "output_type": "stream",
     "text": [
      "preparing geneSet collections...\n",
      "\n",
      "GSEA analysis...\n",
      "\n",
      "Warning message in preparePathwaysAndStats(pathways, stats, minSize, maxSize, gseaParam, :\n",
      "“There are ties in the preranked stats (0.36% of the list).\n",
      "The order of those tied genes will be arbitrary, which may produce unexpected results.”\n",
      "no term enriched under specific pvalueCutoff...\n",
      "\n",
      "preparing geneSet collections...\n",
      "\n",
      "GSEA analysis...\n",
      "\n",
      "Warning message in preparePathwaysAndStats(pathways, stats, minSize, maxSize, gseaParam, :\n",
      "“There are ties in the preranked stats (0.36% of the list).\n",
      "The order of those tied genes will be arbitrary, which may produce unexpected results.”\n",
      "leading edge analysis...\n",
      "\n",
      "done...\n",
      "\n",
      "preparing geneSet collections...\n",
      "\n",
      "GSEA analysis...\n",
      "\n",
      "Warning message in preparePathwaysAndStats(pathways, stats, minSize, maxSize, gseaParam, :\n",
      "“There are ties in the preranked stats (0.36% of the list).\n",
      "The order of those tied genes will be arbitrary, which may produce unexpected results.”\n",
      "leading edge analysis...\n",
      "\n",
      "done...\n",
      "\n",
      "Warning message in is.na(egmt[[c]]):\n",
      "“is.na() applied to non-(list or vector) of type 'S4'”\n",
      "Warning message in summary(egmt[[c]]):\n",
      "“summary method to convert the object to data.frame is deprecated, please use as.data.frame instead.”\n",
      "Warning message in is.na(egmt[[c]]):\n",
      "“is.na() applied to non-(list or vector) of type 'S4'”\n",
      "Warning message in summary(egmt[[c]]):\n",
      "“summary method to convert the object to data.frame is deprecated, please use as.data.frame instead.”\n",
      "Warning message in is.na(egmt[[c]]):\n",
      "“is.na() applied to non-(list or vector) of type 'S4'”\n",
      "Warning message in summary(egmt[[c]]):\n",
      "“summary method to convert the object to data.frame is deprecated, please use as.data.frame instead.”\n"
     ]
    },
    {
     "name": "stdout",
     "output_type": "stream",
     "text": [
      "[1] \"preExcel writing\"\n",
      "[1] \"postExcel writing\"\n",
      "[1] \"Here we go .... :/data2/mito_lineage/output/annotation_clones/data/cd34norm/MTblacklist/DE_large/donor0/clones_4__6.DE.GeneActivity.tsv\"\n",
      "[1] \"pvalue\"         \"log2FoldChange\" \"pct.1\"          \"pct.2\"         \n",
      "[5] \"padj\"           \"ensg\"          \n",
      "[1] \"here\"\n",
      "[1] \"DEGTable\"\n",
      "[1] 860   2\n"
     ]
    },
    {
     "name": "stderr",
     "output_type": "stream",
     "text": [
      "preparing geneSet collections...\n",
      "\n",
      "GSEA analysis...\n",
      "\n",
      "Warning message in preparePathwaysAndStats(pathways, stats, minSize, maxSize, gseaParam, :\n",
      "“There are ties in the preranked stats (0.12% of the list).\n",
      "The order of those tied genes will be arbitrary, which may produce unexpected results.”\n",
      "no term enriched under specific pvalueCutoff...\n",
      "\n",
      "preparing geneSet collections...\n",
      "\n",
      "GSEA analysis...\n",
      "\n",
      "Warning message in preparePathwaysAndStats(pathways, stats, minSize, maxSize, gseaParam, :\n",
      "“There are ties in the preranked stats (0.12% of the list).\n",
      "The order of those tied genes will be arbitrary, which may produce unexpected results.”\n",
      "leading edge analysis...\n",
      "\n",
      "done...\n",
      "\n",
      "preparing geneSet collections...\n",
      "\n",
      "GSEA analysis...\n",
      "\n",
      "Warning message in preparePathwaysAndStats(pathways, stats, minSize, maxSize, gseaParam, :\n",
      "“There are ties in the preranked stats (0.12% of the list).\n",
      "The order of those tied genes will be arbitrary, which may produce unexpected results.”\n",
      "leading edge analysis...\n",
      "\n",
      "done...\n",
      "\n",
      "Warning message in is.na(egmt[[c]]):\n",
      "“is.na() applied to non-(list or vector) of type 'S4'”\n",
      "Warning message in summary(egmt[[c]]):\n",
      "“summary method to convert the object to data.frame is deprecated, please use as.data.frame instead.”\n",
      "Warning message in is.na(egmt[[c]]):\n",
      "“is.na() applied to non-(list or vector) of type 'S4'”\n",
      "Warning message in summary(egmt[[c]]):\n",
      "“summary method to convert the object to data.frame is deprecated, please use as.data.frame instead.”\n",
      "Warning message in is.na(egmt[[c]]):\n",
      "“is.na() applied to non-(list or vector) of type 'S4'”\n",
      "Warning message in summary(egmt[[c]]):\n",
      "“summary method to convert the object to data.frame is deprecated, please use as.data.frame instead.”\n"
     ]
    },
    {
     "name": "stdout",
     "output_type": "stream",
     "text": [
      "[1] \"preExcel writing\"\n",
      "[1] \"postExcel writing\"\n",
      "[1] \"Here we go .... :/data2/mito_lineage/output/annotation_clones/data/cd34norm/MTblacklist/DE_large/donor0/clones_52__1.DE.GeneActivity.tsv\"\n",
      "[1] \"pvalue\"         \"log2FoldChange\" \"pct.1\"          \"pct.2\"         \n",
      "[5] \"padj\"           \"ensg\"          \n",
      "[1] \"here\"\n",
      "[1] \"DEGTable\"\n",
      "[1] 1275    2\n"
     ]
    },
    {
     "name": "stderr",
     "output_type": "stream",
     "text": [
      "preparing geneSet collections...\n",
      "\n",
      "GSEA analysis...\n",
      "\n",
      "Warning message in preparePathwaysAndStats(pathways, stats, minSize, maxSize, gseaParam, :\n",
      "“There are ties in the preranked stats (0.39% of the list).\n",
      "The order of those tied genes will be arbitrary, which may produce unexpected results.”\n",
      "leading edge analysis...\n",
      "\n",
      "done...\n",
      "\n",
      "preparing geneSet collections...\n",
      "\n",
      "GSEA analysis...\n",
      "\n",
      "Warning message in preparePathwaysAndStats(pathways, stats, minSize, maxSize, gseaParam, :\n",
      "“There are ties in the preranked stats (0.39% of the list).\n",
      "The order of those tied genes will be arbitrary, which may produce unexpected results.”\n",
      "leading edge analysis...\n",
      "\n",
      "done...\n",
      "\n",
      "preparing geneSet collections...\n",
      "\n",
      "GSEA analysis...\n",
      "\n",
      "Warning message in preparePathwaysAndStats(pathways, stats, minSize, maxSize, gseaParam, :\n",
      "“There are ties in the preranked stats (0.39% of the list).\n",
      "The order of those tied genes will be arbitrary, which may produce unexpected results.”\n",
      "leading edge analysis...\n",
      "\n",
      "done...\n",
      "\n",
      "Warning message in is.na(egmt[[c]]):\n",
      "“is.na() applied to non-(list or vector) of type 'S4'”\n",
      "Warning message in summary(egmt[[c]]):\n",
      "“summary method to convert the object to data.frame is deprecated, please use as.data.frame instead.”\n",
      "Warning message in is.na(egmt[[c]]):\n",
      "“is.na() applied to non-(list or vector) of type 'S4'”\n",
      "Warning message in summary(egmt[[c]]):\n",
      "“summary method to convert the object to data.frame is deprecated, please use as.data.frame instead.”\n",
      "Warning message in is.na(egmt[[c]]):\n",
      "“is.na() applied to non-(list or vector) of type 'S4'”\n",
      "Warning message in summary(egmt[[c]]):\n",
      "“summary method to convert the object to data.frame is deprecated, please use as.data.frame instead.”\n"
     ]
    },
    {
     "name": "stdout",
     "output_type": "stream",
     "text": [
      "[1] \"preExcel writing\"\n",
      "[1] \"postExcel writing\"\n",
      "[1] \"Here we go .... :/data2/mito_lineage/output/annotation_clones/data/cd34norm/MTblacklist/DE_large/donor0/clones_52__2.DE.GeneActivity.tsv\"\n",
      "[1] \"pvalue\"         \"log2FoldChange\" \"pct.1\"          \"pct.2\"         \n",
      "[5] \"padj\"           \"ensg\"          \n",
      "[1] \"here\"\n",
      "[1] \"DEGTable\"\n",
      "[1] 877   2\n"
     ]
    },
    {
     "name": "stderr",
     "output_type": "stream",
     "text": [
      "preparing geneSet collections...\n",
      "\n",
      "GSEA analysis...\n",
      "\n",
      "Warning message in preparePathwaysAndStats(pathways, stats, minSize, maxSize, gseaParam, :\n",
      "“There are ties in the preranked stats (0.34% of the list).\n",
      "The order of those tied genes will be arbitrary, which may produce unexpected results.”\n",
      "no term enriched under specific pvalueCutoff...\n",
      "\n",
      "preparing geneSet collections...\n",
      "\n",
      "GSEA analysis...\n",
      "\n",
      "Warning message in preparePathwaysAndStats(pathways, stats, minSize, maxSize, gseaParam, :\n",
      "“There are ties in the preranked stats (0.34% of the list).\n",
      "The order of those tied genes will be arbitrary, which may produce unexpected results.”\n",
      "leading edge analysis...\n",
      "\n",
      "done...\n",
      "\n",
      "preparing geneSet collections...\n",
      "\n",
      "GSEA analysis...\n",
      "\n",
      "Warning message in preparePathwaysAndStats(pathways, stats, minSize, maxSize, gseaParam, :\n",
      "“There are ties in the preranked stats (0.34% of the list).\n",
      "The order of those tied genes will be arbitrary, which may produce unexpected results.”\n",
      "leading edge analysis...\n",
      "\n",
      "done...\n",
      "\n",
      "Warning message in is.na(egmt[[c]]):\n",
      "“is.na() applied to non-(list or vector) of type 'S4'”\n",
      "Warning message in summary(egmt[[c]]):\n",
      "“summary method to convert the object to data.frame is deprecated, please use as.data.frame instead.”\n",
      "Warning message in is.na(egmt[[c]]):\n",
      "“is.na() applied to non-(list or vector) of type 'S4'”\n",
      "Warning message in summary(egmt[[c]]):\n",
      "“summary method to convert the object to data.frame is deprecated, please use as.data.frame instead.”\n",
      "Warning message in is.na(egmt[[c]]):\n",
      "“is.na() applied to non-(list or vector) of type 'S4'”\n",
      "Warning message in summary(egmt[[c]]):\n",
      "“summary method to convert the object to data.frame is deprecated, please use as.data.frame instead.”\n"
     ]
    },
    {
     "name": "stdout",
     "output_type": "stream",
     "text": [
      "[1] \"preExcel writing\"\n",
      "[1] \"postExcel writing\"\n",
      "[1] \"Here we go .... :/data2/mito_lineage/output/annotation_clones/data/cd34norm/MTblacklist/DE_large/donor0/clones_52__3.DE.GeneActivity.tsv\"\n",
      "[1] \"pvalue\"         \"log2FoldChange\" \"pct.1\"          \"pct.2\"         \n",
      "[5] \"padj\"           \"ensg\"          \n",
      "[1] \"here\"\n",
      "[1] \"DEGTable\"\n",
      "[1] 1020    2\n"
     ]
    },
    {
     "name": "stderr",
     "output_type": "stream",
     "text": [
      "preparing geneSet collections...\n",
      "\n",
      "GSEA analysis...\n",
      "\n",
      "Warning message in preparePathwaysAndStats(pathways, stats, minSize, maxSize, gseaParam, :\n",
      "“There are ties in the preranked stats (0.39% of the list).\n",
      "The order of those tied genes will be arbitrary, which may produce unexpected results.”\n",
      "leading edge analysis...\n",
      "\n",
      "done...\n",
      "\n",
      "preparing geneSet collections...\n",
      "\n",
      "GSEA analysis...\n",
      "\n",
      "Warning message in preparePathwaysAndStats(pathways, stats, minSize, maxSize, gseaParam, :\n",
      "“There are ties in the preranked stats (0.39% of the list).\n",
      "The order of those tied genes will be arbitrary, which may produce unexpected results.”\n",
      "leading edge analysis...\n",
      "\n",
      "done...\n",
      "\n",
      "preparing geneSet collections...\n",
      "\n",
      "GSEA analysis...\n",
      "\n",
      "Warning message in preparePathwaysAndStats(pathways, stats, minSize, maxSize, gseaParam, :\n",
      "“There are ties in the preranked stats (0.39% of the list).\n",
      "The order of those tied genes will be arbitrary, which may produce unexpected results.”\n",
      "leading edge analysis...\n",
      "\n",
      "done...\n",
      "\n",
      "Warning message in is.na(egmt[[c]]):\n",
      "“is.na() applied to non-(list or vector) of type 'S4'”\n",
      "Warning message in summary(egmt[[c]]):\n",
      "“summary method to convert the object to data.frame is deprecated, please use as.data.frame instead.”\n",
      "Warning message in is.na(egmt[[c]]):\n",
      "“is.na() applied to non-(list or vector) of type 'S4'”\n",
      "Warning message in summary(egmt[[c]]):\n",
      "“summary method to convert the object to data.frame is deprecated, please use as.data.frame instead.”\n",
      "Warning message in is.na(egmt[[c]]):\n",
      "“is.na() applied to non-(list or vector) of type 'S4'”\n",
      "Warning message in summary(egmt[[c]]):\n",
      "“summary method to convert the object to data.frame is deprecated, please use as.data.frame instead.”\n"
     ]
    },
    {
     "name": "stdout",
     "output_type": "stream",
     "text": [
      "[1] \"preExcel writing\"\n",
      "[1] \"postExcel writing\"\n",
      "[1] \"Here we go .... :/data2/mito_lineage/output/annotation_clones/data/cd34norm/MTblacklist/DE_large/donor0/clones_52__4.DE.GeneActivity.tsv\"\n",
      "[1] \"pvalue\"         \"log2FoldChange\" \"pct.1\"          \"pct.2\"         \n",
      "[5] \"padj\"           \"ensg\"          \n",
      "[1] \"here\"\n",
      "[1] \"DEGTable\"\n",
      "[1] 876   2\n"
     ]
    },
    {
     "name": "stderr",
     "output_type": "stream",
     "text": [
      "preparing geneSet collections...\n",
      "\n",
      "GSEA analysis...\n",
      "\n",
      "Warning message in preparePathwaysAndStats(pathways, stats, minSize, maxSize, gseaParam, :\n",
      "“There are ties in the preranked stats (0.23% of the list).\n",
      "The order of those tied genes will be arbitrary, which may produce unexpected results.”\n",
      "leading edge analysis...\n",
      "\n",
      "done...\n",
      "\n",
      "preparing geneSet collections...\n",
      "\n",
      "GSEA analysis...\n",
      "\n",
      "Warning message in preparePathwaysAndStats(pathways, stats, minSize, maxSize, gseaParam, :\n",
      "“There are ties in the preranked stats (0.23% of the list).\n",
      "The order of those tied genes will be arbitrary, which may produce unexpected results.”\n",
      "leading edge analysis...\n",
      "\n",
      "done...\n",
      "\n",
      "preparing geneSet collections...\n",
      "\n",
      "GSEA analysis...\n",
      "\n",
      "Warning message in preparePathwaysAndStats(pathways, stats, minSize, maxSize, gseaParam, :\n",
      "“There are ties in the preranked stats (0.23% of the list).\n",
      "The order of those tied genes will be arbitrary, which may produce unexpected results.”\n",
      "leading edge analysis...\n",
      "\n",
      "done...\n",
      "\n",
      "Warning message in is.na(egmt[[c]]):\n",
      "“is.na() applied to non-(list or vector) of type 'S4'”\n",
      "Warning message in summary(egmt[[c]]):\n",
      "“summary method to convert the object to data.frame is deprecated, please use as.data.frame instead.”\n",
      "Warning message in is.na(egmt[[c]]):\n",
      "“is.na() applied to non-(list or vector) of type 'S4'”\n",
      "Warning message in summary(egmt[[c]]):\n",
      "“summary method to convert the object to data.frame is deprecated, please use as.data.frame instead.”\n",
      "Warning message in is.na(egmt[[c]]):\n",
      "“is.na() applied to non-(list or vector) of type 'S4'”\n",
      "Warning message in summary(egmt[[c]]):\n",
      "“summary method to convert the object to data.frame is deprecated, please use as.data.frame instead.”\n"
     ]
    },
    {
     "name": "stdout",
     "output_type": "stream",
     "text": [
      "[1] \"preExcel writing\"\n",
      "[1] \"postExcel writing\"\n",
      "[1] \"Here we go .... :/data2/mito_lineage/output/annotation_clones/data/cd34norm/MTblacklist/DE_large/donor0/clones_52__6.DE.GeneActivity.tsv\"\n",
      "[1] \"pvalue\"         \"log2FoldChange\" \"pct.1\"          \"pct.2\"         \n",
      "[5] \"padj\"           \"ensg\"          \n",
      "[1] \"here\"\n",
      "[1] \"DEGTable\"\n",
      "[1] 1202    2\n"
     ]
    },
    {
     "name": "stderr",
     "output_type": "stream",
     "text": [
      "preparing geneSet collections...\n",
      "\n",
      "GSEA analysis...\n",
      "\n",
      "Warning message in preparePathwaysAndStats(pathways, stats, minSize, maxSize, gseaParam, :\n",
      "“There are ties in the preranked stats (0.25% of the list).\n",
      "The order of those tied genes will be arbitrary, which may produce unexpected results.”\n",
      "Warning message in preparePathwaysAndStats(pathways, stats, minSize, maxSize, gseaParam, :\n",
      "“There are duplicate gene names, fgsea may produce unexpected results.”\n",
      "no term enriched under specific pvalueCutoff...\n",
      "\n",
      "preparing geneSet collections...\n",
      "\n",
      "GSEA analysis...\n",
      "\n",
      "Warning message in preparePathwaysAndStats(pathways, stats, minSize, maxSize, gseaParam, :\n",
      "“There are ties in the preranked stats (0.25% of the list).\n",
      "The order of those tied genes will be arbitrary, which may produce unexpected results.”\n",
      "Warning message in preparePathwaysAndStats(pathways, stats, minSize, maxSize, gseaParam, :\n",
      "“There are duplicate gene names, fgsea may produce unexpected results.”\n",
      "leading edge analysis...\n",
      "\n",
      "done...\n",
      "\n",
      "preparing geneSet collections...\n",
      "\n",
      "GSEA analysis...\n",
      "\n",
      "Warning message in preparePathwaysAndStats(pathways, stats, minSize, maxSize, gseaParam, :\n",
      "“There are ties in the preranked stats (0.25% of the list).\n",
      "The order of those tied genes will be arbitrary, which may produce unexpected results.”\n",
      "Warning message in preparePathwaysAndStats(pathways, stats, minSize, maxSize, gseaParam, :\n",
      "“There are duplicate gene names, fgsea may produce unexpected results.”\n",
      "leading edge analysis...\n",
      "\n",
      "done...\n",
      "\n",
      "Warning message in is.na(egmt[[c]]):\n",
      "“is.na() applied to non-(list or vector) of type 'S4'”\n",
      "Warning message in summary(egmt[[c]]):\n",
      "“summary method to convert the object to data.frame is deprecated, please use as.data.frame instead.”\n",
      "Warning message in is.na(egmt[[c]]):\n",
      "“is.na() applied to non-(list or vector) of type 'S4'”\n",
      "Warning message in summary(egmt[[c]]):\n",
      "“summary method to convert the object to data.frame is deprecated, please use as.data.frame instead.”\n",
      "Warning message in is.na(egmt[[c]]):\n",
      "“is.na() applied to non-(list or vector) of type 'S4'”\n",
      "Warning message in summary(egmt[[c]]):\n",
      "“summary method to convert the object to data.frame is deprecated, please use as.data.frame instead.”\n"
     ]
    },
    {
     "name": "stdout",
     "output_type": "stream",
     "text": [
      "[1] \"preExcel writing\"\n",
      "[1] \"postExcel writing\"\n",
      "[1] \"Here we go .... :/data2/mito_lineage/output/annotation_clones/data/cd34norm/MTblacklist/DE_large/donor1/clones_0__1.DE.GeneActivity.tsv\"\n",
      "[1] \"pvalue\"         \"log2FoldChange\" \"pct.1\"          \"pct.2\"         \n",
      "[5] \"padj\"           \"ensg\"          \n",
      "[1] \"here\"\n",
      "[1] \"DEGTable\"\n",
      "[1] 791   2\n"
     ]
    },
    {
     "name": "stderr",
     "output_type": "stream",
     "text": [
      "preparing geneSet collections...\n",
      "\n",
      "GSEA analysis...\n",
      "\n",
      "Warning message in preparePathwaysAndStats(pathways, stats, minSize, maxSize, gseaParam, :\n",
      "“There are ties in the preranked stats (0.13% of the list).\n",
      "The order of those tied genes will be arbitrary, which may produce unexpected results.”\n",
      "no term enriched under specific pvalueCutoff...\n",
      "\n",
      "preparing geneSet collections...\n",
      "\n",
      "GSEA analysis...\n",
      "\n",
      "Warning message in preparePathwaysAndStats(pathways, stats, minSize, maxSize, gseaParam, :\n",
      "“There are ties in the preranked stats (0.13% of the list).\n",
      "The order of those tied genes will be arbitrary, which may produce unexpected results.”\n",
      "leading edge analysis...\n",
      "\n",
      "done...\n",
      "\n",
      "preparing geneSet collections...\n",
      "\n",
      "GSEA analysis...\n",
      "\n",
      "Warning message in preparePathwaysAndStats(pathways, stats, minSize, maxSize, gseaParam, :\n",
      "“There are ties in the preranked stats (0.13% of the list).\n",
      "The order of those tied genes will be arbitrary, which may produce unexpected results.”\n",
      "leading edge analysis...\n",
      "\n",
      "done...\n",
      "\n",
      "Warning message in is.na(egmt[[c]]):\n",
      "“is.na() applied to non-(list or vector) of type 'S4'”\n",
      "Warning message in summary(egmt[[c]]):\n",
      "“summary method to convert the object to data.frame is deprecated, please use as.data.frame instead.”\n",
      "Warning message in is.na(egmt[[c]]):\n",
      "“is.na() applied to non-(list or vector) of type 'S4'”\n",
      "Warning message in summary(egmt[[c]]):\n",
      "“summary method to convert the object to data.frame is deprecated, please use as.data.frame instead.”\n",
      "Warning message in is.na(egmt[[c]]):\n",
      "“is.na() applied to non-(list or vector) of type 'S4'”\n",
      "Warning message in summary(egmt[[c]]):\n",
      "“summary method to convert the object to data.frame is deprecated, please use as.data.frame instead.”\n"
     ]
    },
    {
     "name": "stdout",
     "output_type": "stream",
     "text": [
      "[1] \"preExcel writing\"\n",
      "[1] \"postExcel writing\"\n",
      "[1] \"Here we go .... :/data2/mito_lineage/output/annotation_clones/data/cd34norm/MTblacklist/DE_large/donor1/clones_0__10.DE.GeneActivity.tsv\"\n",
      "[1] \"pvalue\"         \"log2FoldChange\" \"pct.1\"          \"pct.2\"         \n",
      "[5] \"padj\"           \"ensg\"          \n",
      "[1] \"here\"\n",
      "[1] \"DEGTable\"\n",
      "[1] 864   2\n"
     ]
    },
    {
     "name": "stderr",
     "output_type": "stream",
     "text": [
      "preparing geneSet collections...\n",
      "\n",
      "GSEA analysis...\n",
      "\n",
      "Warning message in preparePathwaysAndStats(pathways, stats, minSize, maxSize, gseaParam, :\n",
      "“There are ties in the preranked stats (0.46% of the list).\n",
      "The order of those tied genes will be arbitrary, which may produce unexpected results.”\n",
      "leading edge analysis...\n",
      "\n",
      "done...\n",
      "\n",
      "preparing geneSet collections...\n",
      "\n",
      "GSEA analysis...\n",
      "\n",
      "Warning message in preparePathwaysAndStats(pathways, stats, minSize, maxSize, gseaParam, :\n",
      "“There are ties in the preranked stats (0.46% of the list).\n",
      "The order of those tied genes will be arbitrary, which may produce unexpected results.”\n",
      "leading edge analysis...\n",
      "\n",
      "done...\n",
      "\n",
      "preparing geneSet collections...\n",
      "\n",
      "GSEA analysis...\n",
      "\n",
      "Warning message in preparePathwaysAndStats(pathways, stats, minSize, maxSize, gseaParam, :\n",
      "“There are ties in the preranked stats (0.46% of the list).\n",
      "The order of those tied genes will be arbitrary, which may produce unexpected results.”\n",
      "leading edge analysis...\n",
      "\n",
      "done...\n",
      "\n",
      "Warning message in is.na(egmt[[c]]):\n",
      "“is.na() applied to non-(list or vector) of type 'S4'”\n",
      "Warning message in summary(egmt[[c]]):\n",
      "“summary method to convert the object to data.frame is deprecated, please use as.data.frame instead.”\n",
      "Warning message in is.na(egmt[[c]]):\n",
      "“is.na() applied to non-(list or vector) of type 'S4'”\n",
      "Warning message in summary(egmt[[c]]):\n",
      "“summary method to convert the object to data.frame is deprecated, please use as.data.frame instead.”\n",
      "Warning message in is.na(egmt[[c]]):\n",
      "“is.na() applied to non-(list or vector) of type 'S4'”\n",
      "Warning message in summary(egmt[[c]]):\n",
      "“summary method to convert the object to data.frame is deprecated, please use as.data.frame instead.”\n"
     ]
    },
    {
     "name": "stdout",
     "output_type": "stream",
     "text": [
      "[1] \"preExcel writing\"\n",
      "[1] \"postExcel writing\"\n",
      "[1] \"Here we go .... :/data2/mito_lineage/output/annotation_clones/data/cd34norm/MTblacklist/DE_large/donor1/clones_0__13.DE.GeneActivity.tsv\"\n",
      "[1] \"pvalue\"         \"log2FoldChange\" \"pct.1\"          \"pct.2\"         \n",
      "[5] \"padj\"           \"ensg\"          \n",
      "[1] \"here\"\n",
      "[1] \"DEGTable\"\n",
      "[1] 1229    2\n"
     ]
    },
    {
     "name": "stderr",
     "output_type": "stream",
     "text": [
      "preparing geneSet collections...\n",
      "\n",
      "GSEA analysis...\n",
      "\n",
      "Warning message in preparePathwaysAndStats(pathways, stats, minSize, maxSize, gseaParam, :\n",
      "“There are ties in the preranked stats (0.16% of the list).\n",
      "The order of those tied genes will be arbitrary, which may produce unexpected results.”\n",
      "leading edge analysis...\n",
      "\n",
      "done...\n",
      "\n",
      "preparing geneSet collections...\n",
      "\n",
      "GSEA analysis...\n",
      "\n",
      "Warning message in preparePathwaysAndStats(pathways, stats, minSize, maxSize, gseaParam, :\n",
      "“There are ties in the preranked stats (0.16% of the list).\n",
      "The order of those tied genes will be arbitrary, which may produce unexpected results.”\n",
      "leading edge analysis...\n",
      "\n",
      "done...\n",
      "\n",
      "preparing geneSet collections...\n",
      "\n",
      "GSEA analysis...\n",
      "\n",
      "Warning message in preparePathwaysAndStats(pathways, stats, minSize, maxSize, gseaParam, :\n",
      "“There are ties in the preranked stats (0.16% of the list).\n",
      "The order of those tied genes will be arbitrary, which may produce unexpected results.”\n",
      "leading edge analysis...\n",
      "\n",
      "done...\n",
      "\n",
      "Warning message in is.na(egmt[[c]]):\n",
      "“is.na() applied to non-(list or vector) of type 'S4'”\n",
      "Warning message in summary(egmt[[c]]):\n",
      "“summary method to convert the object to data.frame is deprecated, please use as.data.frame instead.”\n",
      "Warning message in is.na(egmt[[c]]):\n",
      "“is.na() applied to non-(list or vector) of type 'S4'”\n",
      "Warning message in summary(egmt[[c]]):\n",
      "“summary method to convert the object to data.frame is deprecated, please use as.data.frame instead.”\n",
      "Warning message in is.na(egmt[[c]]):\n",
      "“is.na() applied to non-(list or vector) of type 'S4'”\n",
      "Warning message in summary(egmt[[c]]):\n",
      "“summary method to convert the object to data.frame is deprecated, please use as.data.frame instead.”\n"
     ]
    },
    {
     "name": "stdout",
     "output_type": "stream",
     "text": [
      "[1] \"preExcel writing\"\n",
      "[1] \"postExcel writing\"\n",
      "[1] \"Here we go .... :/data2/mito_lineage/output/annotation_clones/data/cd34norm/MTblacklist/DE_large/donor1/clones_0__19.DE.GeneActivity.tsv\"\n",
      "[1] \"pvalue\"         \"log2FoldChange\" \"pct.1\"          \"pct.2\"         \n",
      "[5] \"padj\"           \"ensg\"          \n",
      "[1] \"here\"\n",
      "[1] \"DEGTable\"\n",
      "[1] 2825    2\n"
     ]
    },
    {
     "name": "stderr",
     "output_type": "stream",
     "text": [
      "preparing geneSet collections...\n",
      "\n",
      "GSEA analysis...\n",
      "\n",
      "Warning message in preparePathwaysAndStats(pathways, stats, minSize, maxSize, gseaParam, :\n",
      "“There are ties in the preranked stats (0.28% of the list).\n",
      "The order of those tied genes will be arbitrary, which may produce unexpected results.”\n",
      "leading edge analysis...\n",
      "\n",
      "done...\n",
      "\n",
      "preparing geneSet collections...\n",
      "\n",
      "GSEA analysis...\n",
      "\n",
      "Warning message in preparePathwaysAndStats(pathways, stats, minSize, maxSize, gseaParam, :\n",
      "“There are ties in the preranked stats (0.28% of the list).\n",
      "The order of those tied genes will be arbitrary, which may produce unexpected results.”\n",
      "leading edge analysis...\n",
      "\n",
      "done...\n",
      "\n",
      "preparing geneSet collections...\n",
      "\n",
      "GSEA analysis...\n",
      "\n",
      "Warning message in preparePathwaysAndStats(pathways, stats, minSize, maxSize, gseaParam, :\n",
      "“There are ties in the preranked stats (0.28% of the list).\n",
      "The order of those tied genes will be arbitrary, which may produce unexpected results.”\n",
      "leading edge analysis...\n",
      "\n",
      "done...\n",
      "\n",
      "Warning message in is.na(egmt[[c]]):\n",
      "“is.na() applied to non-(list or vector) of type 'S4'”\n",
      "Warning message in summary(egmt[[c]]):\n",
      "“summary method to convert the object to data.frame is deprecated, please use as.data.frame instead.”\n",
      "Warning message in is.na(egmt[[c]]):\n",
      "“is.na() applied to non-(list or vector) of type 'S4'”\n",
      "Warning message in summary(egmt[[c]]):\n",
      "“summary method to convert the object to data.frame is deprecated, please use as.data.frame instead.”\n",
      "Warning message in is.na(egmt[[c]]):\n",
      "“is.na() applied to non-(list or vector) of type 'S4'”\n",
      "Warning message in summary(egmt[[c]]):\n",
      "“summary method to convert the object to data.frame is deprecated, please use as.data.frame instead.”\n"
     ]
    },
    {
     "name": "stdout",
     "output_type": "stream",
     "text": [
      "[1] \"preExcel writing\"\n",
      "[1] \"postExcel writing\"\n",
      "[1] \"Here we go .... :/data2/mito_lineage/output/annotation_clones/data/cd34norm/MTblacklist/DE_large/donor1/clones_0__2.DE.GeneActivity.tsv\"\n",
      "[1] \"pvalue\"         \"log2FoldChange\" \"pct.1\"          \"pct.2\"         \n",
      "[5] \"padj\"           \"ensg\"          \n",
      "[1] \"here\"\n",
      "[1] \"DEGTable\"\n",
      "[1] 811   2\n"
     ]
    },
    {
     "name": "stderr",
     "output_type": "stream",
     "text": [
      "preparing geneSet collections...\n",
      "\n",
      "GSEA analysis...\n",
      "\n",
      "Warning message in preparePathwaysAndStats(pathways, stats, minSize, maxSize, gseaParam, :\n",
      "“There are ties in the preranked stats (0.25% of the list).\n",
      "The order of those tied genes will be arbitrary, which may produce unexpected results.”\n",
      "no term enriched under specific pvalueCutoff...\n",
      "\n",
      "preparing geneSet collections...\n",
      "\n",
      "GSEA analysis...\n",
      "\n",
      "Warning message in preparePathwaysAndStats(pathways, stats, minSize, maxSize, gseaParam, :\n",
      "“There are ties in the preranked stats (0.25% of the list).\n",
      "The order of those tied genes will be arbitrary, which may produce unexpected results.”\n",
      "leading edge analysis...\n",
      "\n",
      "done...\n",
      "\n",
      "preparing geneSet collections...\n",
      "\n",
      "GSEA analysis...\n",
      "\n",
      "Warning message in preparePathwaysAndStats(pathways, stats, minSize, maxSize, gseaParam, :\n",
      "“There are ties in the preranked stats (0.25% of the list).\n",
      "The order of those tied genes will be arbitrary, which may produce unexpected results.”\n",
      "leading edge analysis...\n",
      "\n",
      "done...\n",
      "\n",
      "Warning message in is.na(egmt[[c]]):\n",
      "“is.na() applied to non-(list or vector) of type 'S4'”\n",
      "Warning message in summary(egmt[[c]]):\n",
      "“summary method to convert the object to data.frame is deprecated, please use as.data.frame instead.”\n",
      "Warning message in is.na(egmt[[c]]):\n",
      "“is.na() applied to non-(list or vector) of type 'S4'”\n",
      "Warning message in summary(egmt[[c]]):\n",
      "“summary method to convert the object to data.frame is deprecated, please use as.data.frame instead.”\n",
      "Warning message in is.na(egmt[[c]]):\n",
      "“is.na() applied to non-(list or vector) of type 'S4'”\n",
      "Warning message in summary(egmt[[c]]):\n",
      "“summary method to convert the object to data.frame is deprecated, please use as.data.frame instead.”\n"
     ]
    },
    {
     "name": "stdout",
     "output_type": "stream",
     "text": [
      "[1] \"preExcel writing\"\n",
      "[1] \"postExcel writing\"\n",
      "[1] \"Here we go .... :/data2/mito_lineage/output/annotation_clones/data/cd34norm/MTblacklist/DE_large/donor1/clones_0__3.DE.GeneActivity.tsv\"\n",
      "[1] \"pvalue\"         \"log2FoldChange\" \"pct.1\"          \"pct.2\"         \n",
      "[5] \"padj\"           \"ensg\"          \n",
      "[1] \"here\"\n",
      "[1] \"DEGTable\"\n",
      "[1] 883   2\n"
     ]
    },
    {
     "name": "stderr",
     "output_type": "stream",
     "text": [
      "preparing geneSet collections...\n",
      "\n",
      "GSEA analysis...\n",
      "\n",
      "Warning message in preparePathwaysAndStats(pathways, stats, minSize, maxSize, gseaParam, :\n",
      "“There are ties in the preranked stats (0.23% of the list).\n",
      "The order of those tied genes will be arbitrary, which may produce unexpected results.”\n",
      "leading edge analysis...\n",
      "\n",
      "done...\n",
      "\n",
      "preparing geneSet collections...\n",
      "\n",
      "GSEA analysis...\n",
      "\n",
      "Warning message in preparePathwaysAndStats(pathways, stats, minSize, maxSize, gseaParam, :\n",
      "“There are ties in the preranked stats (0.23% of the list).\n",
      "The order of those tied genes will be arbitrary, which may produce unexpected results.”\n",
      "leading edge analysis...\n",
      "\n",
      "done...\n",
      "\n",
      "preparing geneSet collections...\n",
      "\n",
      "GSEA analysis...\n",
      "\n",
      "Warning message in preparePathwaysAndStats(pathways, stats, minSize, maxSize, gseaParam, :\n",
      "“There are ties in the preranked stats (0.23% of the list).\n",
      "The order of those tied genes will be arbitrary, which may produce unexpected results.”\n",
      "leading edge analysis...\n",
      "\n",
      "done...\n",
      "\n",
      "Warning message in is.na(egmt[[c]]):\n",
      "“is.na() applied to non-(list or vector) of type 'S4'”\n",
      "Warning message in summary(egmt[[c]]):\n",
      "“summary method to convert the object to data.frame is deprecated, please use as.data.frame instead.”\n",
      "Warning message in is.na(egmt[[c]]):\n",
      "“is.na() applied to non-(list or vector) of type 'S4'”\n",
      "Warning message in summary(egmt[[c]]):\n",
      "“summary method to convert the object to data.frame is deprecated, please use as.data.frame instead.”\n",
      "Warning message in is.na(egmt[[c]]):\n",
      "“is.na() applied to non-(list or vector) of type 'S4'”\n",
      "Warning message in summary(egmt[[c]]):\n",
      "“summary method to convert the object to data.frame is deprecated, please use as.data.frame instead.”\n"
     ]
    },
    {
     "name": "stdout",
     "output_type": "stream",
     "text": [
      "[1] \"preExcel writing\"\n",
      "[1] \"postExcel writing\"\n",
      "[1] \"Here we go .... :/data2/mito_lineage/output/annotation_clones/data/cd34norm/MTblacklist/DE_large/donor1/clones_0__4.DE.GeneActivity.tsv\"\n",
      "[1] \"pvalue\"         \"log2FoldChange\" \"pct.1\"          \"pct.2\"         \n",
      "[5] \"padj\"           \"ensg\"          \n",
      "[1] \"here\"\n",
      "[1] \"DEGTable\"\n",
      "[1] 1101    2\n"
     ]
    },
    {
     "name": "stderr",
     "output_type": "stream",
     "text": [
      "preparing geneSet collections...\n",
      "\n",
      "GSEA analysis...\n",
      "\n",
      "Warning message in preparePathwaysAndStats(pathways, stats, minSize, maxSize, gseaParam, :\n",
      "“There are ties in the preranked stats (0.18% of the list).\n",
      "The order of those tied genes will be arbitrary, which may produce unexpected results.”\n",
      "no term enriched under specific pvalueCutoff...\n",
      "\n",
      "preparing geneSet collections...\n",
      "\n",
      "GSEA analysis...\n",
      "\n",
      "Warning message in preparePathwaysAndStats(pathways, stats, minSize, maxSize, gseaParam, :\n",
      "“There are ties in the preranked stats (0.18% of the list).\n",
      "The order of those tied genes will be arbitrary, which may produce unexpected results.”\n",
      "leading edge analysis...\n",
      "\n",
      "done...\n",
      "\n",
      "preparing geneSet collections...\n",
      "\n",
      "GSEA analysis...\n",
      "\n",
      "Warning message in preparePathwaysAndStats(pathways, stats, minSize, maxSize, gseaParam, :\n",
      "“There are ties in the preranked stats (0.18% of the list).\n",
      "The order of those tied genes will be arbitrary, which may produce unexpected results.”\n",
      "leading edge analysis...\n",
      "\n",
      "done...\n",
      "\n",
      "Warning message in is.na(egmt[[c]]):\n",
      "“is.na() applied to non-(list or vector) of type 'S4'”\n",
      "Warning message in summary(egmt[[c]]):\n",
      "“summary method to convert the object to data.frame is deprecated, please use as.data.frame instead.”\n",
      "Warning message in is.na(egmt[[c]]):\n",
      "“is.na() applied to non-(list or vector) of type 'S4'”\n",
      "Warning message in summary(egmt[[c]]):\n",
      "“summary method to convert the object to data.frame is deprecated, please use as.data.frame instead.”\n",
      "Warning message in is.na(egmt[[c]]):\n",
      "“is.na() applied to non-(list or vector) of type 'S4'”\n",
      "Warning message in summary(egmt[[c]]):\n",
      "“summary method to convert the object to data.frame is deprecated, please use as.data.frame instead.”\n"
     ]
    },
    {
     "name": "stdout",
     "output_type": "stream",
     "text": [
      "[1] \"preExcel writing\"\n",
      "[1] \"postExcel writing\"\n",
      "[1] \"Here we go .... :/data2/mito_lineage/output/annotation_clones/data/cd34norm/MTblacklist/DE_large/donor1/clones_0__5.DE.GeneActivity.tsv\"\n",
      "[1] \"pvalue\"         \"log2FoldChange\" \"pct.1\"          \"pct.2\"         \n",
      "[5] \"padj\"           \"ensg\"          \n",
      "[1] \"here\"\n",
      "[1] \"DEGTable\"\n",
      "[1] 512   2\n"
     ]
    },
    {
     "name": "stderr",
     "output_type": "stream",
     "text": [
      "preparing geneSet collections...\n",
      "\n",
      "GSEA analysis...\n",
      "\n",
      "Warning message in preparePathwaysAndStats(pathways, stats, minSize, maxSize, gseaParam, :\n",
      "“There are ties in the preranked stats (0.2% of the list).\n",
      "The order of those tied genes will be arbitrary, which may produce unexpected results.”\n",
      "no term enriched under specific pvalueCutoff...\n",
      "\n",
      "preparing geneSet collections...\n",
      "\n",
      "GSEA analysis...\n",
      "\n",
      "Warning message in preparePathwaysAndStats(pathways, stats, minSize, maxSize, gseaParam, :\n",
      "“There are ties in the preranked stats (0.2% of the list).\n",
      "The order of those tied genes will be arbitrary, which may produce unexpected results.”\n",
      "leading edge analysis...\n",
      "\n",
      "done...\n",
      "\n",
      "preparing geneSet collections...\n",
      "\n",
      "GSEA analysis...\n",
      "\n",
      "Warning message in preparePathwaysAndStats(pathways, stats, minSize, maxSize, gseaParam, :\n",
      "“There are ties in the preranked stats (0.2% of the list).\n",
      "The order of those tied genes will be arbitrary, which may produce unexpected results.”\n",
      "leading edge analysis...\n",
      "\n",
      "done...\n",
      "\n",
      "Warning message in is.na(egmt[[c]]):\n",
      "“is.na() applied to non-(list or vector) of type 'S4'”\n",
      "Warning message in summary(egmt[[c]]):\n",
      "“summary method to convert the object to data.frame is deprecated, please use as.data.frame instead.”\n",
      "Warning message in is.na(egmt[[c]]):\n",
      "“is.na() applied to non-(list or vector) of type 'S4'”\n",
      "Warning message in summary(egmt[[c]]):\n",
      "“summary method to convert the object to data.frame is deprecated, please use as.data.frame instead.”\n",
      "Warning message in is.na(egmt[[c]]):\n",
      "“is.na() applied to non-(list or vector) of type 'S4'”\n",
      "Warning message in summary(egmt[[c]]):\n",
      "“summary method to convert the object to data.frame is deprecated, please use as.data.frame instead.”\n"
     ]
    },
    {
     "name": "stdout",
     "output_type": "stream",
     "text": [
      "[1] \"preExcel writing\"\n",
      "[1] \"postExcel writing\"\n",
      "[1] \"Here we go .... :/data2/mito_lineage/output/annotation_clones/data/cd34norm/MTblacklist/DE_large/donor1/clones_0__6.DE.GeneActivity.tsv\"\n",
      "[1] \"pvalue\"         \"log2FoldChange\" \"pct.1\"          \"pct.2\"         \n",
      "[5] \"padj\"           \"ensg\"          \n",
      "[1] \"here\"\n",
      "[1] \"DEGTable\"\n",
      "[1] 661   2\n"
     ]
    },
    {
     "name": "stderr",
     "output_type": "stream",
     "text": [
      "preparing geneSet collections...\n",
      "\n",
      "GSEA analysis...\n",
      "\n",
      "Warning message in preparePathwaysAndStats(pathways, stats, minSize, maxSize, gseaParam, :\n",
      "“There are ties in the preranked stats (0.3% of the list).\n",
      "The order of those tied genes will be arbitrary, which may produce unexpected results.”\n",
      "leading edge analysis...\n",
      "\n",
      "done...\n",
      "\n",
      "preparing geneSet collections...\n",
      "\n",
      "GSEA analysis...\n",
      "\n",
      "Warning message in preparePathwaysAndStats(pathways, stats, minSize, maxSize, gseaParam, :\n",
      "“There are ties in the preranked stats (0.3% of the list).\n",
      "The order of those tied genes will be arbitrary, which may produce unexpected results.”\n",
      "leading edge analysis...\n",
      "\n",
      "done...\n",
      "\n",
      "preparing geneSet collections...\n",
      "\n",
      "GSEA analysis...\n",
      "\n",
      "Warning message in preparePathwaysAndStats(pathways, stats, minSize, maxSize, gseaParam, :\n",
      "“There are ties in the preranked stats (0.3% of the list).\n",
      "The order of those tied genes will be arbitrary, which may produce unexpected results.”\n",
      "leading edge analysis...\n",
      "\n",
      "done...\n",
      "\n",
      "Warning message in is.na(egmt[[c]]):\n",
      "“is.na() applied to non-(list or vector) of type 'S4'”\n",
      "Warning message in summary(egmt[[c]]):\n",
      "“summary method to convert the object to data.frame is deprecated, please use as.data.frame instead.”\n",
      "Warning message in is.na(egmt[[c]]):\n",
      "“is.na() applied to non-(list or vector) of type 'S4'”\n",
      "Warning message in summary(egmt[[c]]):\n",
      "“summary method to convert the object to data.frame is deprecated, please use as.data.frame instead.”\n",
      "Warning message in is.na(egmt[[c]]):\n",
      "“is.na() applied to non-(list or vector) of type 'S4'”\n",
      "Warning message in summary(egmt[[c]]):\n",
      "“summary method to convert the object to data.frame is deprecated, please use as.data.frame instead.”\n"
     ]
    },
    {
     "name": "stdout",
     "output_type": "stream",
     "text": [
      "[1] \"preExcel writing\"\n",
      "[1] \"postExcel writing\"\n",
      "[1] \"Here we go .... :/data2/mito_lineage/output/annotation_clones/data/cd34norm/MTblacklist/DE_large/donor1/clones_0__8.DE.GeneActivity.tsv\"\n",
      "[1] \"pvalue\"         \"log2FoldChange\" \"pct.1\"          \"pct.2\"         \n",
      "[5] \"padj\"           \"ensg\"          \n",
      "[1] \"here\"\n",
      "[1] \"DEGTable\"\n",
      "[1] 1060    2\n"
     ]
    },
    {
     "name": "stderr",
     "output_type": "stream",
     "text": [
      "preparing geneSet collections...\n",
      "\n",
      "GSEA analysis...\n",
      "\n",
      "Warning message in preparePathwaysAndStats(pathways, stats, minSize, maxSize, gseaParam, :\n",
      "“There are ties in the preranked stats (0.19% of the list).\n",
      "The order of those tied genes will be arbitrary, which may produce unexpected results.”\n",
      "leading edge analysis...\n",
      "\n",
      "done...\n",
      "\n",
      "preparing geneSet collections...\n",
      "\n",
      "GSEA analysis...\n",
      "\n",
      "Warning message in preparePathwaysAndStats(pathways, stats, minSize, maxSize, gseaParam, :\n",
      "“There are ties in the preranked stats (0.19% of the list).\n",
      "The order of those tied genes will be arbitrary, which may produce unexpected results.”\n",
      "leading edge analysis...\n",
      "\n",
      "done...\n",
      "\n",
      "preparing geneSet collections...\n",
      "\n",
      "GSEA analysis...\n",
      "\n",
      "Warning message in preparePathwaysAndStats(pathways, stats, minSize, maxSize, gseaParam, :\n",
      "“There are ties in the preranked stats (0.19% of the list).\n",
      "The order of those tied genes will be arbitrary, which may produce unexpected results.”\n",
      "leading edge analysis...\n",
      "\n",
      "done...\n",
      "\n",
      "Warning message in is.na(egmt[[c]]):\n",
      "“is.na() applied to non-(list or vector) of type 'S4'”\n",
      "Warning message in summary(egmt[[c]]):\n",
      "“summary method to convert the object to data.frame is deprecated, please use as.data.frame instead.”\n",
      "Warning message in is.na(egmt[[c]]):\n",
      "“is.na() applied to non-(list or vector) of type 'S4'”\n",
      "Warning message in summary(egmt[[c]]):\n",
      "“summary method to convert the object to data.frame is deprecated, please use as.data.frame instead.”\n",
      "Warning message in is.na(egmt[[c]]):\n",
      "“is.na() applied to non-(list or vector) of type 'S4'”\n",
      "Warning message in summary(egmt[[c]]):\n",
      "“summary method to convert the object to data.frame is deprecated, please use as.data.frame instead.”\n"
     ]
    },
    {
     "name": "stdout",
     "output_type": "stream",
     "text": [
      "[1] \"preExcel writing\"\n",
      "[1] \"postExcel writing\"\n",
      "[1] \"Here we go .... :/data2/mito_lineage/output/annotation_clones/data/cd34norm/MTblacklist/DE_large/donor1/clones_1__10.DE.GeneActivity.tsv\"\n",
      "[1] \"pvalue\"         \"log2FoldChange\" \"pct.1\"          \"pct.2\"         \n",
      "[5] \"padj\"           \"ensg\"          \n",
      "[1] \"here\"\n",
      "[1] \"DEGTable\"\n",
      "[1] 1038    2\n"
     ]
    },
    {
     "name": "stderr",
     "output_type": "stream",
     "text": [
      "preparing geneSet collections...\n",
      "\n",
      "GSEA analysis...\n",
      "\n",
      "Warning message in preparePathwaysAndStats(pathways, stats, minSize, maxSize, gseaParam, :\n",
      "“There are ties in the preranked stats (0.39% of the list).\n",
      "The order of those tied genes will be arbitrary, which may produce unexpected results.”\n",
      "no term enriched under specific pvalueCutoff...\n",
      "\n",
      "preparing geneSet collections...\n",
      "\n",
      "GSEA analysis...\n",
      "\n",
      "Warning message in preparePathwaysAndStats(pathways, stats, minSize, maxSize, gseaParam, :\n",
      "“There are ties in the preranked stats (0.39% of the list).\n",
      "The order of those tied genes will be arbitrary, which may produce unexpected results.”\n",
      "leading edge analysis...\n",
      "\n",
      "done...\n",
      "\n",
      "preparing geneSet collections...\n",
      "\n",
      "GSEA analysis...\n",
      "\n",
      "Warning message in preparePathwaysAndStats(pathways, stats, minSize, maxSize, gseaParam, :\n",
      "“There are ties in the preranked stats (0.39% of the list).\n",
      "The order of those tied genes will be arbitrary, which may produce unexpected results.”\n",
      "leading edge analysis...\n",
      "\n",
      "done...\n",
      "\n",
      "Warning message in is.na(egmt[[c]]):\n",
      "“is.na() applied to non-(list or vector) of type 'S4'”\n",
      "Warning message in summary(egmt[[c]]):\n",
      "“summary method to convert the object to data.frame is deprecated, please use as.data.frame instead.”\n",
      "Warning message in is.na(egmt[[c]]):\n",
      "“is.na() applied to non-(list or vector) of type 'S4'”\n",
      "Warning message in summary(egmt[[c]]):\n",
      "“summary method to convert the object to data.frame is deprecated, please use as.data.frame instead.”\n",
      "Warning message in is.na(egmt[[c]]):\n",
      "“is.na() applied to non-(list or vector) of type 'S4'”\n",
      "Warning message in summary(egmt[[c]]):\n",
      "“summary method to convert the object to data.frame is deprecated, please use as.data.frame instead.”\n"
     ]
    },
    {
     "name": "stdout",
     "output_type": "stream",
     "text": [
      "[1] \"preExcel writing\"\n",
      "[1] \"postExcel writing\"\n",
      "[1] \"Here we go .... :/data2/mito_lineage/output/annotation_clones/data/cd34norm/MTblacklist/DE_large/donor1/clones_1__13.DE.GeneActivity.tsv\"\n",
      "[1] \"pvalue\"         \"log2FoldChange\" \"pct.1\"          \"pct.2\"         \n",
      "[5] \"padj\"           \"ensg\"          \n",
      "[1] \"here\"\n",
      "[1] \"DEGTable\"\n",
      "[1] 1476    2\n"
     ]
    },
    {
     "name": "stderr",
     "output_type": "stream",
     "text": [
      "preparing geneSet collections...\n",
      "\n",
      "GSEA analysis...\n",
      "\n",
      "Warning message in preparePathwaysAndStats(pathways, stats, minSize, maxSize, gseaParam, :\n",
      "“There are ties in the preranked stats (0.27% of the list).\n",
      "The order of those tied genes will be arbitrary, which may produce unexpected results.”\n",
      "leading edge analysis...\n",
      "\n",
      "done...\n",
      "\n",
      "preparing geneSet collections...\n",
      "\n",
      "GSEA analysis...\n",
      "\n",
      "Warning message in preparePathwaysAndStats(pathways, stats, minSize, maxSize, gseaParam, :\n",
      "“There are ties in the preranked stats (0.27% of the list).\n",
      "The order of those tied genes will be arbitrary, which may produce unexpected results.”\n",
      "leading edge analysis...\n",
      "\n",
      "done...\n",
      "\n",
      "preparing geneSet collections...\n",
      "\n",
      "GSEA analysis...\n",
      "\n",
      "Warning message in preparePathwaysAndStats(pathways, stats, minSize, maxSize, gseaParam, :\n",
      "“There are ties in the preranked stats (0.27% of the list).\n",
      "The order of those tied genes will be arbitrary, which may produce unexpected results.”\n",
      "leading edge analysis...\n",
      "\n",
      "done...\n",
      "\n",
      "Warning message in is.na(egmt[[c]]):\n",
      "“is.na() applied to non-(list or vector) of type 'S4'”\n",
      "Warning message in summary(egmt[[c]]):\n",
      "“summary method to convert the object to data.frame is deprecated, please use as.data.frame instead.”\n",
      "Warning message in is.na(egmt[[c]]):\n",
      "“is.na() applied to non-(list or vector) of type 'S4'”\n",
      "Warning message in summary(egmt[[c]]):\n",
      "“summary method to convert the object to data.frame is deprecated, please use as.data.frame instead.”\n",
      "Warning message in is.na(egmt[[c]]):\n",
      "“is.na() applied to non-(list or vector) of type 'S4'”\n",
      "Warning message in summary(egmt[[c]]):\n",
      "“summary method to convert the object to data.frame is deprecated, please use as.data.frame instead.”\n"
     ]
    },
    {
     "name": "stdout",
     "output_type": "stream",
     "text": [
      "[1] \"preExcel writing\"\n",
      "[1] \"postExcel writing\"\n",
      "[1] \"Here we go .... :/data2/mito_lineage/output/annotation_clones/data/cd34norm/MTblacklist/DE_large/donor1/clones_1__19.DE.GeneActivity.tsv\"\n",
      "[1] \"pvalue\"         \"log2FoldChange\" \"pct.1\"          \"pct.2\"         \n",
      "[5] \"padj\"           \"ensg\"          \n",
      "[1] \"here\"\n",
      "[1] \"DEGTable\"\n",
      "[1] 2963    2\n"
     ]
    },
    {
     "name": "stderr",
     "output_type": "stream",
     "text": [
      "preparing geneSet collections...\n",
      "\n",
      "GSEA analysis...\n",
      "\n",
      "Warning message in preparePathwaysAndStats(pathways, stats, minSize, maxSize, gseaParam, :\n",
      "“There are ties in the preranked stats (0.64% of the list).\n",
      "The order of those tied genes will be arbitrary, which may produce unexpected results.”\n",
      "Warning message in preparePathwaysAndStats(pathways, stats, minSize, maxSize, gseaParam, :\n",
      "“There are duplicate gene names, fgsea may produce unexpected results.”\n",
      "leading edge analysis...\n",
      "\n",
      "done...\n",
      "\n",
      "preparing geneSet collections...\n",
      "\n",
      "GSEA analysis...\n",
      "\n",
      "Warning message in preparePathwaysAndStats(pathways, stats, minSize, maxSize, gseaParam, :\n",
      "“There are ties in the preranked stats (0.64% of the list).\n",
      "The order of those tied genes will be arbitrary, which may produce unexpected results.”\n",
      "Warning message in preparePathwaysAndStats(pathways, stats, minSize, maxSize, gseaParam, :\n",
      "“There are duplicate gene names, fgsea may produce unexpected results.”\n",
      "leading edge analysis...\n",
      "\n",
      "done...\n",
      "\n",
      "preparing geneSet collections...\n",
      "\n",
      "GSEA analysis...\n",
      "\n",
      "Warning message in preparePathwaysAndStats(pathways, stats, minSize, maxSize, gseaParam, :\n",
      "“There are ties in the preranked stats (0.64% of the list).\n",
      "The order of those tied genes will be arbitrary, which may produce unexpected results.”\n",
      "Warning message in preparePathwaysAndStats(pathways, stats, minSize, maxSize, gseaParam, :\n",
      "“There are duplicate gene names, fgsea may produce unexpected results.”\n",
      "leading edge analysis...\n",
      "\n",
      "done...\n",
      "\n",
      "Warning message in is.na(egmt[[c]]):\n",
      "“is.na() applied to non-(list or vector) of type 'S4'”\n",
      "Warning message in summary(egmt[[c]]):\n",
      "“summary method to convert the object to data.frame is deprecated, please use as.data.frame instead.”\n",
      "Warning message in is.na(egmt[[c]]):\n",
      "“is.na() applied to non-(list or vector) of type 'S4'”\n",
      "Warning message in summary(egmt[[c]]):\n",
      "“summary method to convert the object to data.frame is deprecated, please use as.data.frame instead.”\n",
      "Warning message in is.na(egmt[[c]]):\n",
      "“is.na() applied to non-(list or vector) of type 'S4'”\n",
      "Warning message in summary(egmt[[c]]):\n",
      "“summary method to convert the object to data.frame is deprecated, please use as.data.frame instead.”\n"
     ]
    },
    {
     "name": "stdout",
     "output_type": "stream",
     "text": [
      "[1] \"preExcel writing\"\n",
      "[1] \"postExcel writing\"\n",
      "[1] \"Here we go .... :/data2/mito_lineage/output/annotation_clones/data/cd34norm/MTblacklist/DE_large/donor1/clones_1__2.DE.GeneActivity.tsv\"\n",
      "[1] \"pvalue\"         \"log2FoldChange\" \"pct.1\"          \"pct.2\"         \n",
      "[5] \"padj\"           \"ensg\"          \n",
      "[1] \"here\"\n",
      "[1] \"DEGTable\"\n",
      "[1] 985   2\n"
     ]
    },
    {
     "name": "stderr",
     "output_type": "stream",
     "text": [
      "preparing geneSet collections...\n",
      "\n",
      "GSEA analysis...\n",
      "\n",
      "Warning message in preparePathwaysAndStats(pathways, stats, minSize, maxSize, gseaParam, :\n",
      "“There are ties in the preranked stats (0.2% of the list).\n",
      "The order of those tied genes will be arbitrary, which may produce unexpected results.”\n",
      "leading edge analysis...\n",
      "\n",
      "done...\n",
      "\n",
      "preparing geneSet collections...\n",
      "\n",
      "GSEA analysis...\n",
      "\n",
      "Warning message in preparePathwaysAndStats(pathways, stats, minSize, maxSize, gseaParam, :\n",
      "“There are ties in the preranked stats (0.2% of the list).\n",
      "The order of those tied genes will be arbitrary, which may produce unexpected results.”\n",
      "leading edge analysis...\n",
      "\n",
      "done...\n",
      "\n",
      "preparing geneSet collections...\n",
      "\n",
      "GSEA analysis...\n",
      "\n",
      "Warning message in preparePathwaysAndStats(pathways, stats, minSize, maxSize, gseaParam, :\n",
      "“There are ties in the preranked stats (0.2% of the list).\n",
      "The order of those tied genes will be arbitrary, which may produce unexpected results.”\n",
      "leading edge analysis...\n",
      "\n",
      "done...\n",
      "\n",
      "Warning message in is.na(egmt[[c]]):\n",
      "“is.na() applied to non-(list or vector) of type 'S4'”\n",
      "Warning message in summary(egmt[[c]]):\n",
      "“summary method to convert the object to data.frame is deprecated, please use as.data.frame instead.”\n",
      "Warning message in is.na(egmt[[c]]):\n",
      "“is.na() applied to non-(list or vector) of type 'S4'”\n",
      "Warning message in summary(egmt[[c]]):\n",
      "“summary method to convert the object to data.frame is deprecated, please use as.data.frame instead.”\n",
      "Warning message in is.na(egmt[[c]]):\n",
      "“is.na() applied to non-(list or vector) of type 'S4'”\n",
      "Warning message in summary(egmt[[c]]):\n",
      "“summary method to convert the object to data.frame is deprecated, please use as.data.frame instead.”\n"
     ]
    },
    {
     "name": "stdout",
     "output_type": "stream",
     "text": [
      "[1] \"preExcel writing\"\n",
      "[1] \"postExcel writing\"\n",
      "[1] \"Here we go .... :/data2/mito_lineage/output/annotation_clones/data/cd34norm/MTblacklist/DE_large/donor1/clones_1__3.DE.GeneActivity.tsv\"\n",
      "[1] \"pvalue\"         \"log2FoldChange\" \"pct.1\"          \"pct.2\"         \n",
      "[5] \"padj\"           \"ensg\"          \n",
      "[1] \"here\"\n",
      "[1] \"DEGTable\"\n",
      "[1] 1112    2\n"
     ]
    },
    {
     "name": "stderr",
     "output_type": "stream",
     "text": [
      "preparing geneSet collections...\n",
      "\n",
      "GSEA analysis...\n",
      "\n",
      "Warning message in preparePathwaysAndStats(pathways, stats, minSize, maxSize, gseaParam, :\n",
      "“There are ties in the preranked stats (0.45% of the list).\n",
      "The order of those tied genes will be arbitrary, which may produce unexpected results.”\n",
      "leading edge analysis...\n",
      "\n",
      "done...\n",
      "\n",
      "preparing geneSet collections...\n",
      "\n",
      "GSEA analysis...\n",
      "\n",
      "Warning message in preparePathwaysAndStats(pathways, stats, minSize, maxSize, gseaParam, :\n",
      "“There are ties in the preranked stats (0.45% of the list).\n",
      "The order of those tied genes will be arbitrary, which may produce unexpected results.”\n",
      "leading edge analysis...\n",
      "\n",
      "done...\n",
      "\n",
      "preparing geneSet collections...\n",
      "\n",
      "GSEA analysis...\n",
      "\n",
      "Warning message in preparePathwaysAndStats(pathways, stats, minSize, maxSize, gseaParam, :\n",
      "“There are ties in the preranked stats (0.45% of the list).\n",
      "The order of those tied genes will be arbitrary, which may produce unexpected results.”\n",
      "leading edge analysis...\n",
      "\n",
      "done...\n",
      "\n",
      "Warning message in is.na(egmt[[c]]):\n",
      "“is.na() applied to non-(list or vector) of type 'S4'”\n",
      "Warning message in summary(egmt[[c]]):\n",
      "“summary method to convert the object to data.frame is deprecated, please use as.data.frame instead.”\n",
      "Warning message in is.na(egmt[[c]]):\n",
      "“is.na() applied to non-(list or vector) of type 'S4'”\n",
      "Warning message in summary(egmt[[c]]):\n",
      "“summary method to convert the object to data.frame is deprecated, please use as.data.frame instead.”\n",
      "Warning message in is.na(egmt[[c]]):\n",
      "“is.na() applied to non-(list or vector) of type 'S4'”\n",
      "Warning message in summary(egmt[[c]]):\n",
      "“summary method to convert the object to data.frame is deprecated, please use as.data.frame instead.”\n"
     ]
    },
    {
     "name": "stdout",
     "output_type": "stream",
     "text": [
      "[1] \"preExcel writing\"\n",
      "[1] \"postExcel writing\"\n",
      "[1] \"Here we go .... :/data2/mito_lineage/output/annotation_clones/data/cd34norm/MTblacklist/DE_large/donor1/clones_1__4.DE.GeneActivity.tsv\"\n",
      "[1] \"pvalue\"         \"log2FoldChange\" \"pct.1\"          \"pct.2\"         \n",
      "[5] \"padj\"           \"ensg\"          \n",
      "[1] \"here\"\n",
      "[1] \"DEGTable\"\n",
      "[1] 1308    2\n"
     ]
    },
    {
     "name": "stderr",
     "output_type": "stream",
     "text": [
      "preparing geneSet collections...\n",
      "\n",
      "GSEA analysis...\n",
      "\n",
      "Warning message in preparePathwaysAndStats(pathways, stats, minSize, maxSize, gseaParam, :\n",
      "“There are ties in the preranked stats (0.23% of the list).\n",
      "The order of those tied genes will be arbitrary, which may produce unexpected results.”\n",
      "leading edge analysis...\n",
      "\n",
      "done...\n",
      "\n",
      "preparing geneSet collections...\n",
      "\n",
      "GSEA analysis...\n",
      "\n",
      "Warning message in preparePathwaysAndStats(pathways, stats, minSize, maxSize, gseaParam, :\n",
      "“There are ties in the preranked stats (0.23% of the list).\n",
      "The order of those tied genes will be arbitrary, which may produce unexpected results.”\n",
      "leading edge analysis...\n",
      "\n",
      "done...\n",
      "\n",
      "preparing geneSet collections...\n",
      "\n",
      "GSEA analysis...\n",
      "\n",
      "Warning message in preparePathwaysAndStats(pathways, stats, minSize, maxSize, gseaParam, :\n",
      "“There are ties in the preranked stats (0.23% of the list).\n",
      "The order of those tied genes will be arbitrary, which may produce unexpected results.”\n",
      "leading edge analysis...\n",
      "\n",
      "done...\n",
      "\n",
      "Warning message in is.na(egmt[[c]]):\n",
      "“is.na() applied to non-(list or vector) of type 'S4'”\n",
      "Warning message in summary(egmt[[c]]):\n",
      "“summary method to convert the object to data.frame is deprecated, please use as.data.frame instead.”\n",
      "Warning message in is.na(egmt[[c]]):\n",
      "“is.na() applied to non-(list or vector) of type 'S4'”\n",
      "Warning message in summary(egmt[[c]]):\n",
      "“summary method to convert the object to data.frame is deprecated, please use as.data.frame instead.”\n",
      "Warning message in is.na(egmt[[c]]):\n",
      "“is.na() applied to non-(list or vector) of type 'S4'”\n",
      "Warning message in summary(egmt[[c]]):\n",
      "“summary method to convert the object to data.frame is deprecated, please use as.data.frame instead.”\n"
     ]
    },
    {
     "name": "stdout",
     "output_type": "stream",
     "text": [
      "[1] \"preExcel writing\"\n",
      "[1] \"postExcel writing\"\n",
      "[1] \"Here we go .... :/data2/mito_lineage/output/annotation_clones/data/cd34norm/MTblacklist/DE_large/donor1/clones_1__5.DE.GeneActivity.tsv\"\n",
      "[1] \"pvalue\"         \"log2FoldChange\" \"pct.1\"          \"pct.2\"         \n",
      "[5] \"padj\"           \"ensg\"          \n",
      "[1] \"here\"\n",
      "[1] \"DEGTable\"\n",
      "[1] 782   2\n"
     ]
    },
    {
     "name": "stderr",
     "output_type": "stream",
     "text": [
      "preparing geneSet collections...\n",
      "\n",
      "GSEA analysis...\n",
      "\n",
      "Warning message in preparePathwaysAndStats(pathways, stats, minSize, maxSize, gseaParam, :\n",
      "“There are ties in the preranked stats (0.38% of the list).\n",
      "The order of those tied genes will be arbitrary, which may produce unexpected results.”\n",
      "leading edge analysis...\n",
      "\n",
      "done...\n",
      "\n",
      "preparing geneSet collections...\n",
      "\n",
      "GSEA analysis...\n",
      "\n",
      "Warning message in preparePathwaysAndStats(pathways, stats, minSize, maxSize, gseaParam, :\n",
      "“There are ties in the preranked stats (0.38% of the list).\n",
      "The order of those tied genes will be arbitrary, which may produce unexpected results.”\n",
      "leading edge analysis...\n",
      "\n",
      "done...\n",
      "\n",
      "preparing geneSet collections...\n",
      "\n",
      "GSEA analysis...\n",
      "\n",
      "Warning message in preparePathwaysAndStats(pathways, stats, minSize, maxSize, gseaParam, :\n",
      "“There are ties in the preranked stats (0.38% of the list).\n",
      "The order of those tied genes will be arbitrary, which may produce unexpected results.”\n",
      "leading edge analysis...\n",
      "\n",
      "done...\n",
      "\n",
      "Warning message in is.na(egmt[[c]]):\n",
      "“is.na() applied to non-(list or vector) of type 'S4'”\n",
      "Warning message in summary(egmt[[c]]):\n",
      "“summary method to convert the object to data.frame is deprecated, please use as.data.frame instead.”\n",
      "Warning message in is.na(egmt[[c]]):\n",
      "“is.na() applied to non-(list or vector) of type 'S4'”\n",
      "Warning message in summary(egmt[[c]]):\n",
      "“summary method to convert the object to data.frame is deprecated, please use as.data.frame instead.”\n",
      "Warning message in is.na(egmt[[c]]):\n",
      "“is.na() applied to non-(list or vector) of type 'S4'”\n",
      "Warning message in summary(egmt[[c]]):\n",
      "“summary method to convert the object to data.frame is deprecated, please use as.data.frame instead.”\n"
     ]
    },
    {
     "name": "stdout",
     "output_type": "stream",
     "text": [
      "[1] \"preExcel writing\"\n",
      "[1] \"postExcel writing\"\n",
      "[1] \"Here we go .... :/data2/mito_lineage/output/annotation_clones/data/cd34norm/MTblacklist/DE_large/donor1/clones_1__6.DE.GeneActivity.tsv\"\n",
      "[1] \"pvalue\"         \"log2FoldChange\" \"pct.1\"          \"pct.2\"         \n",
      "[5] \"padj\"           \"ensg\"          \n",
      "[1] \"here\"\n",
      "[1] \"DEGTable\"\n",
      "[1] 869   2\n"
     ]
    },
    {
     "name": "stderr",
     "output_type": "stream",
     "text": [
      "preparing geneSet collections...\n",
      "\n",
      "GSEA analysis...\n",
      "\n",
      "Warning message in preparePathwaysAndStats(pathways, stats, minSize, maxSize, gseaParam, :\n",
      "“There are ties in the preranked stats (0.23% of the list).\n",
      "The order of those tied genes will be arbitrary, which may produce unexpected results.”\n",
      "leading edge analysis...\n",
      "\n",
      "done...\n",
      "\n",
      "preparing geneSet collections...\n",
      "\n",
      "GSEA analysis...\n",
      "\n",
      "Warning message in preparePathwaysAndStats(pathways, stats, minSize, maxSize, gseaParam, :\n",
      "“There are ties in the preranked stats (0.23% of the list).\n",
      "The order of those tied genes will be arbitrary, which may produce unexpected results.”\n",
      "leading edge analysis...\n",
      "\n",
      "done...\n",
      "\n",
      "preparing geneSet collections...\n",
      "\n",
      "GSEA analysis...\n",
      "\n",
      "Warning message in preparePathwaysAndStats(pathways, stats, minSize, maxSize, gseaParam, :\n",
      "“There are ties in the preranked stats (0.23% of the list).\n",
      "The order of those tied genes will be arbitrary, which may produce unexpected results.”\n",
      "leading edge analysis...\n",
      "\n",
      "done...\n",
      "\n",
      "Warning message in is.na(egmt[[c]]):\n",
      "“is.na() applied to non-(list or vector) of type 'S4'”\n",
      "Warning message in summary(egmt[[c]]):\n",
      "“summary method to convert the object to data.frame is deprecated, please use as.data.frame instead.”\n",
      "Warning message in is.na(egmt[[c]]):\n",
      "“is.na() applied to non-(list or vector) of type 'S4'”\n",
      "Warning message in summary(egmt[[c]]):\n",
      "“summary method to convert the object to data.frame is deprecated, please use as.data.frame instead.”\n",
      "Warning message in is.na(egmt[[c]]):\n",
      "“is.na() applied to non-(list or vector) of type 'S4'”\n",
      "Warning message in summary(egmt[[c]]):\n",
      "“summary method to convert the object to data.frame is deprecated, please use as.data.frame instead.”\n"
     ]
    },
    {
     "name": "stdout",
     "output_type": "stream",
     "text": [
      "[1] \"preExcel writing\"\n",
      "[1] \"postExcel writing\"\n",
      "[1] \"Here we go .... :/data2/mito_lineage/output/annotation_clones/data/cd34norm/MTblacklist/DE_large/donor1/clones_1__8.DE.GeneActivity.tsv\"\n",
      "[1] \"pvalue\"         \"log2FoldChange\" \"pct.1\"          \"pct.2\"         \n",
      "[5] \"padj\"           \"ensg\"          \n",
      "[1] \"here\"\n",
      "[1] \"DEGTable\"\n",
      "[1] 1252    2\n"
     ]
    },
    {
     "name": "stderr",
     "output_type": "stream",
     "text": [
      "preparing geneSet collections...\n",
      "\n",
      "GSEA analysis...\n",
      "\n",
      "Warning message in preparePathwaysAndStats(pathways, stats, minSize, maxSize, gseaParam, :\n",
      "“There are ties in the preranked stats (0.16% of the list).\n",
      "The order of those tied genes will be arbitrary, which may produce unexpected results.”\n",
      "no term enriched under specific pvalueCutoff...\n",
      "\n",
      "preparing geneSet collections...\n",
      "\n",
      "GSEA analysis...\n",
      "\n",
      "Warning message in preparePathwaysAndStats(pathways, stats, minSize, maxSize, gseaParam, :\n",
      "“There are ties in the preranked stats (0.16% of the list).\n",
      "The order of those tied genes will be arbitrary, which may produce unexpected results.”\n",
      "leading edge analysis...\n",
      "\n",
      "done...\n",
      "\n",
      "preparing geneSet collections...\n",
      "\n",
      "GSEA analysis...\n",
      "\n",
      "Warning message in preparePathwaysAndStats(pathways, stats, minSize, maxSize, gseaParam, :\n",
      "“There are ties in the preranked stats (0.16% of the list).\n",
      "The order of those tied genes will be arbitrary, which may produce unexpected results.”\n",
      "leading edge analysis...\n",
      "\n",
      "done...\n",
      "\n",
      "Warning message in is.na(egmt[[c]]):\n",
      "“is.na() applied to non-(list or vector) of type 'S4'”\n",
      "Warning message in summary(egmt[[c]]):\n",
      "“summary method to convert the object to data.frame is deprecated, please use as.data.frame instead.”\n",
      "Warning message in is.na(egmt[[c]]):\n",
      "“is.na() applied to non-(list or vector) of type 'S4'”\n",
      "Warning message in summary(egmt[[c]]):\n",
      "“summary method to convert the object to data.frame is deprecated, please use as.data.frame instead.”\n",
      "Warning message in is.na(egmt[[c]]):\n",
      "“is.na() applied to non-(list or vector) of type 'S4'”\n",
      "Warning message in summary(egmt[[c]]):\n",
      "“summary method to convert the object to data.frame is deprecated, please use as.data.frame instead.”\n"
     ]
    },
    {
     "name": "stdout",
     "output_type": "stream",
     "text": [
      "[1] \"preExcel writing\"\n",
      "[1] \"postExcel writing\"\n",
      "[1] \"Here we go .... :/data2/mito_lineage/output/annotation_clones/data/cd34norm/MTblacklist/DE_large/donor1/clones_10__13.DE.GeneActivity.tsv\"\n",
      "[1] \"pvalue\"         \"log2FoldChange\" \"pct.1\"          \"pct.2\"         \n",
      "[5] \"padj\"           \"ensg\"          \n",
      "[1] \"here\"\n",
      "[1] \"DEGTable\"\n",
      "[1] 1498    2\n"
     ]
    },
    {
     "name": "stderr",
     "output_type": "stream",
     "text": [
      "preparing geneSet collections...\n",
      "\n",
      "GSEA analysis...\n",
      "\n",
      "Warning message in preparePathwaysAndStats(pathways, stats, minSize, maxSize, gseaParam, :\n",
      "“There are ties in the preranked stats (0.13% of the list).\n",
      "The order of those tied genes will be arbitrary, which may produce unexpected results.”\n",
      "leading edge analysis...\n",
      "\n",
      "done...\n",
      "\n",
      "preparing geneSet collections...\n",
      "\n",
      "GSEA analysis...\n",
      "\n",
      "Warning message in preparePathwaysAndStats(pathways, stats, minSize, maxSize, gseaParam, :\n",
      "“There are ties in the preranked stats (0.13% of the list).\n",
      "The order of those tied genes will be arbitrary, which may produce unexpected results.”\n",
      "leading edge analysis...\n",
      "\n",
      "done...\n",
      "\n",
      "preparing geneSet collections...\n",
      "\n",
      "GSEA analysis...\n",
      "\n",
      "Warning message in preparePathwaysAndStats(pathways, stats, minSize, maxSize, gseaParam, :\n",
      "“There are ties in the preranked stats (0.13% of the list).\n",
      "The order of those tied genes will be arbitrary, which may produce unexpected results.”\n",
      "leading edge analysis...\n",
      "\n",
      "done...\n",
      "\n",
      "Warning message in is.na(egmt[[c]]):\n",
      "“is.na() applied to non-(list or vector) of type 'S4'”\n",
      "Warning message in summary(egmt[[c]]):\n",
      "“summary method to convert the object to data.frame is deprecated, please use as.data.frame instead.”\n",
      "Warning message in is.na(egmt[[c]]):\n",
      "“is.na() applied to non-(list or vector) of type 'S4'”\n",
      "Warning message in summary(egmt[[c]]):\n",
      "“summary method to convert the object to data.frame is deprecated, please use as.data.frame instead.”\n",
      "Warning message in is.na(egmt[[c]]):\n",
      "“is.na() applied to non-(list or vector) of type 'S4'”\n",
      "Warning message in summary(egmt[[c]]):\n",
      "“summary method to convert the object to data.frame is deprecated, please use as.data.frame instead.”\n"
     ]
    },
    {
     "name": "stdout",
     "output_type": "stream",
     "text": [
      "[1] \"preExcel writing\"\n",
      "[1] \"postExcel writing\"\n",
      "[1] \"Here we go .... :/data2/mito_lineage/output/annotation_clones/data/cd34norm/MTblacklist/DE_large/donor1/clones_10__19.DE.GeneActivity.tsv\"\n",
      "[1] \"pvalue\"         \"log2FoldChange\" \"pct.1\"          \"pct.2\"         \n",
      "[5] \"padj\"           \"ensg\"          \n",
      "[1] \"here\"\n",
      "[1] \"DEGTable\"\n",
      "[1] 2907    2\n"
     ]
    },
    {
     "name": "stderr",
     "output_type": "stream",
     "text": [
      "preparing geneSet collections...\n",
      "\n",
      "GSEA analysis...\n",
      "\n",
      "Warning message in preparePathwaysAndStats(pathways, stats, minSize, maxSize, gseaParam, :\n",
      "“There are ties in the preranked stats (0.48% of the list).\n",
      "The order of those tied genes will be arbitrary, which may produce unexpected results.”\n",
      "no term enriched under specific pvalueCutoff...\n",
      "\n",
      "preparing geneSet collections...\n",
      "\n",
      "GSEA analysis...\n",
      "\n",
      "Warning message in preparePathwaysAndStats(pathways, stats, minSize, maxSize, gseaParam, :\n",
      "“There are ties in the preranked stats (0.48% of the list).\n",
      "The order of those tied genes will be arbitrary, which may produce unexpected results.”\n",
      "leading edge analysis...\n",
      "\n",
      "done...\n",
      "\n",
      "preparing geneSet collections...\n",
      "\n",
      "GSEA analysis...\n",
      "\n",
      "Warning message in preparePathwaysAndStats(pathways, stats, minSize, maxSize, gseaParam, :\n",
      "“There are ties in the preranked stats (0.48% of the list).\n",
      "The order of those tied genes will be arbitrary, which may produce unexpected results.”\n",
      "leading edge analysis...\n",
      "\n",
      "done...\n",
      "\n",
      "Warning message in is.na(egmt[[c]]):\n",
      "“is.na() applied to non-(list or vector) of type 'S4'”\n",
      "Warning message in summary(egmt[[c]]):\n",
      "“summary method to convert the object to data.frame is deprecated, please use as.data.frame instead.”\n",
      "Warning message in is.na(egmt[[c]]):\n",
      "“is.na() applied to non-(list or vector) of type 'S4'”\n",
      "Warning message in summary(egmt[[c]]):\n",
      "“summary method to convert the object to data.frame is deprecated, please use as.data.frame instead.”\n",
      "Warning message in is.na(egmt[[c]]):\n",
      "“is.na() applied to non-(list or vector) of type 'S4'”\n",
      "Warning message in summary(egmt[[c]]):\n",
      "“summary method to convert the object to data.frame is deprecated, please use as.data.frame instead.”\n"
     ]
    },
    {
     "name": "stdout",
     "output_type": "stream",
     "text": [
      "[1] \"preExcel writing\"\n",
      "[1] \"postExcel writing\"\n",
      "[1] \"Here we go .... :/data2/mito_lineage/output/annotation_clones/data/cd34norm/MTblacklist/DE_large/donor1/clones_19__13.DE.GeneActivity.tsv\"\n",
      "[1] \"pvalue\"         \"log2FoldChange\" \"pct.1\"          \"pct.2\"         \n",
      "[5] \"padj\"           \"ensg\"          \n",
      "[1] \"here\"\n",
      "[1] \"DEGTable\"\n",
      "[1] 3224    2\n"
     ]
    },
    {
     "name": "stderr",
     "output_type": "stream",
     "text": [
      "preparing geneSet collections...\n",
      "\n",
      "GSEA analysis...\n",
      "\n",
      "Warning message in preparePathwaysAndStats(pathways, stats, minSize, maxSize, gseaParam, :\n",
      "“There are ties in the preranked stats (0.68% of the list).\n",
      "The order of those tied genes will be arbitrary, which may produce unexpected results.”\n",
      "leading edge analysis...\n",
      "\n",
      "done...\n",
      "\n",
      "preparing geneSet collections...\n",
      "\n",
      "GSEA analysis...\n",
      "\n",
      "Warning message in preparePathwaysAndStats(pathways, stats, minSize, maxSize, gseaParam, :\n",
      "“There are ties in the preranked stats (0.68% of the list).\n",
      "The order of those tied genes will be arbitrary, which may produce unexpected results.”\n",
      "leading edge analysis...\n",
      "\n",
      "done...\n",
      "\n",
      "preparing geneSet collections...\n",
      "\n",
      "GSEA analysis...\n",
      "\n",
      "Warning message in preparePathwaysAndStats(pathways, stats, minSize, maxSize, gseaParam, :\n",
      "“There are ties in the preranked stats (0.68% of the list).\n",
      "The order of those tied genes will be arbitrary, which may produce unexpected results.”\n",
      "leading edge analysis...\n",
      "\n",
      "done...\n",
      "\n",
      "Warning message in is.na(egmt[[c]]):\n",
      "“is.na() applied to non-(list or vector) of type 'S4'”\n",
      "Warning message in summary(egmt[[c]]):\n",
      "“summary method to convert the object to data.frame is deprecated, please use as.data.frame instead.”\n",
      "Warning message in is.na(egmt[[c]]):\n",
      "“is.na() applied to non-(list or vector) of type 'S4'”\n",
      "Warning message in summary(egmt[[c]]):\n",
      "“summary method to convert the object to data.frame is deprecated, please use as.data.frame instead.”\n",
      "Warning message in is.na(egmt[[c]]):\n",
      "“is.na() applied to non-(list or vector) of type 'S4'”\n",
      "Warning message in summary(egmt[[c]]):\n",
      "“summary method to convert the object to data.frame is deprecated, please use as.data.frame instead.”\n"
     ]
    },
    {
     "name": "stdout",
     "output_type": "stream",
     "text": [
      "[1] \"preExcel writing\"\n",
      "[1] \"postExcel writing\"\n",
      "[1] \"Here we go .... :/data2/mito_lineage/output/annotation_clones/data/cd34norm/MTblacklist/DE_large/donor1/clones_2__10.DE.GeneActivity.tsv\"\n",
      "[1] \"pvalue\"         \"log2FoldChange\" \"pct.1\"          \"pct.2\"         \n",
      "[5] \"padj\"           \"ensg\"          \n",
      "[1] \"here\"\n",
      "[1] \"DEGTable\"\n",
      "[1] 1122    2\n"
     ]
    },
    {
     "name": "stderr",
     "output_type": "stream",
     "text": [
      "preparing geneSet collections...\n",
      "\n",
      "GSEA analysis...\n",
      "\n",
      "Warning message in preparePathwaysAndStats(pathways, stats, minSize, maxSize, gseaParam, :\n",
      "“There are ties in the preranked stats (0.36% of the list).\n",
      "The order of those tied genes will be arbitrary, which may produce unexpected results.”\n",
      "leading edge analysis...\n",
      "\n",
      "done...\n",
      "\n",
      "preparing geneSet collections...\n",
      "\n",
      "GSEA analysis...\n",
      "\n",
      "Warning message in preparePathwaysAndStats(pathways, stats, minSize, maxSize, gseaParam, :\n",
      "“There are ties in the preranked stats (0.36% of the list).\n",
      "The order of those tied genes will be arbitrary, which may produce unexpected results.”\n",
      "leading edge analysis...\n",
      "\n",
      "done...\n",
      "\n",
      "preparing geneSet collections...\n",
      "\n",
      "GSEA analysis...\n",
      "\n",
      "Warning message in preparePathwaysAndStats(pathways, stats, minSize, maxSize, gseaParam, :\n",
      "“There are ties in the preranked stats (0.36% of the list).\n",
      "The order of those tied genes will be arbitrary, which may produce unexpected results.”\n",
      "leading edge analysis...\n",
      "\n",
      "done...\n",
      "\n",
      "Warning message in is.na(egmt[[c]]):\n",
      "“is.na() applied to non-(list or vector) of type 'S4'”\n",
      "Warning message in summary(egmt[[c]]):\n",
      "“summary method to convert the object to data.frame is deprecated, please use as.data.frame instead.”\n",
      "Warning message in is.na(egmt[[c]]):\n",
      "“is.na() applied to non-(list or vector) of type 'S4'”\n",
      "Warning message in summary(egmt[[c]]):\n",
      "“summary method to convert the object to data.frame is deprecated, please use as.data.frame instead.”\n",
      "Warning message in is.na(egmt[[c]]):\n",
      "“is.na() applied to non-(list or vector) of type 'S4'”\n",
      "Warning message in summary(egmt[[c]]):\n",
      "“summary method to convert the object to data.frame is deprecated, please use as.data.frame instead.”\n"
     ]
    },
    {
     "name": "stdout",
     "output_type": "stream",
     "text": [
      "[1] \"preExcel writing\"\n",
      "[1] \"postExcel writing\"\n",
      "[1] \"Here we go .... :/data2/mito_lineage/output/annotation_clones/data/cd34norm/MTblacklist/DE_large/donor1/clones_2__13.DE.GeneActivity.tsv\"\n",
      "[1] \"pvalue\"         \"log2FoldChange\" \"pct.1\"          \"pct.2\"         \n",
      "[5] \"padj\"           \"ensg\"          \n",
      "[1] \"here\"\n",
      "[1] \"DEGTable\"\n",
      "[1] 1508    2\n"
     ]
    },
    {
     "name": "stderr",
     "output_type": "stream",
     "text": [
      "preparing geneSet collections...\n",
      "\n",
      "GSEA analysis...\n",
      "\n",
      "Warning message in preparePathwaysAndStats(pathways, stats, minSize, maxSize, gseaParam, :\n",
      "“There are ties in the preranked stats (0.13% of the list).\n",
      "The order of those tied genes will be arbitrary, which may produce unexpected results.”\n",
      "leading edge analysis...\n",
      "\n",
      "done...\n",
      "\n",
      "preparing geneSet collections...\n",
      "\n",
      "GSEA analysis...\n",
      "\n",
      "Warning message in preparePathwaysAndStats(pathways, stats, minSize, maxSize, gseaParam, :\n",
      "“There are ties in the preranked stats (0.13% of the list).\n",
      "The order of those tied genes will be arbitrary, which may produce unexpected results.”\n",
      "leading edge analysis...\n",
      "\n",
      "done...\n",
      "\n",
      "preparing geneSet collections...\n",
      "\n",
      "GSEA analysis...\n",
      "\n",
      "Warning message in preparePathwaysAndStats(pathways, stats, minSize, maxSize, gseaParam, :\n",
      "“There are ties in the preranked stats (0.13% of the list).\n",
      "The order of those tied genes will be arbitrary, which may produce unexpected results.”\n",
      "leading edge analysis...\n",
      "\n",
      "done...\n",
      "\n",
      "Warning message in is.na(egmt[[c]]):\n",
      "“is.na() applied to non-(list or vector) of type 'S4'”\n",
      "Warning message in summary(egmt[[c]]):\n",
      "“summary method to convert the object to data.frame is deprecated, please use as.data.frame instead.”\n",
      "Warning message in is.na(egmt[[c]]):\n",
      "“is.na() applied to non-(list or vector) of type 'S4'”\n",
      "Warning message in summary(egmt[[c]]):\n",
      "“summary method to convert the object to data.frame is deprecated, please use as.data.frame instead.”\n",
      "Warning message in is.na(egmt[[c]]):\n",
      "“is.na() applied to non-(list or vector) of type 'S4'”\n",
      "Warning message in summary(egmt[[c]]):\n",
      "“summary method to convert the object to data.frame is deprecated, please use as.data.frame instead.”\n"
     ]
    },
    {
     "name": "stdout",
     "output_type": "stream",
     "text": [
      "[1] \"preExcel writing\"\n",
      "[1] \"postExcel writing\"\n",
      "[1] \"Here we go .... :/data2/mito_lineage/output/annotation_clones/data/cd34norm/MTblacklist/DE_large/donor1/clones_2__19.DE.GeneActivity.tsv\"\n",
      "[1] \"pvalue\"         \"log2FoldChange\" \"pct.1\"          \"pct.2\"         \n",
      "[5] \"padj\"           \"ensg\"          \n",
      "[1] \"here\"\n",
      "[1] \"DEGTable\"\n",
      "[1] 3057    2\n"
     ]
    },
    {
     "name": "stderr",
     "output_type": "stream",
     "text": [
      "preparing geneSet collections...\n",
      "\n",
      "GSEA analysis...\n",
      "\n",
      "Warning message in preparePathwaysAndStats(pathways, stats, minSize, maxSize, gseaParam, :\n",
      "“There are ties in the preranked stats (0.62% of the list).\n",
      "The order of those tied genes will be arbitrary, which may produce unexpected results.”\n",
      "Warning message in preparePathwaysAndStats(pathways, stats, minSize, maxSize, gseaParam, :\n",
      "“There are duplicate gene names, fgsea may produce unexpected results.”\n",
      "leading edge analysis...\n",
      "\n",
      "done...\n",
      "\n",
      "preparing geneSet collections...\n",
      "\n",
      "GSEA analysis...\n",
      "\n",
      "Warning message in preparePathwaysAndStats(pathways, stats, minSize, maxSize, gseaParam, :\n",
      "“There are ties in the preranked stats (0.62% of the list).\n",
      "The order of those tied genes will be arbitrary, which may produce unexpected results.”\n",
      "Warning message in preparePathwaysAndStats(pathways, stats, minSize, maxSize, gseaParam, :\n",
      "“There are duplicate gene names, fgsea may produce unexpected results.”\n",
      "leading edge analysis...\n",
      "\n",
      "done...\n",
      "\n",
      "preparing geneSet collections...\n",
      "\n",
      "GSEA analysis...\n",
      "\n",
      "Warning message in preparePathwaysAndStats(pathways, stats, minSize, maxSize, gseaParam, :\n",
      "“There are ties in the preranked stats (0.62% of the list).\n",
      "The order of those tied genes will be arbitrary, which may produce unexpected results.”\n",
      "Warning message in preparePathwaysAndStats(pathways, stats, minSize, maxSize, gseaParam, :\n",
      "“There are duplicate gene names, fgsea may produce unexpected results.”\n",
      "leading edge analysis...\n",
      "\n",
      "done...\n",
      "\n",
      "Warning message in is.na(egmt[[c]]):\n",
      "“is.na() applied to non-(list or vector) of type 'S4'”\n",
      "Warning message in summary(egmt[[c]]):\n",
      "“summary method to convert the object to data.frame is deprecated, please use as.data.frame instead.”\n",
      "Warning message in is.na(egmt[[c]]):\n",
      "“is.na() applied to non-(list or vector) of type 'S4'”\n",
      "Warning message in summary(egmt[[c]]):\n",
      "“summary method to convert the object to data.frame is deprecated, please use as.data.frame instead.”\n",
      "Warning message in is.na(egmt[[c]]):\n",
      "“is.na() applied to non-(list or vector) of type 'S4'”\n",
      "Warning message in summary(egmt[[c]]):\n",
      "“summary method to convert the object to data.frame is deprecated, please use as.data.frame instead.”\n"
     ]
    },
    {
     "name": "stdout",
     "output_type": "stream",
     "text": [
      "[1] \"preExcel writing\"\n",
      "[1] \"postExcel writing\"\n",
      "[1] \"Here we go .... :/data2/mito_lineage/output/annotation_clones/data/cd34norm/MTblacklist/DE_large/donor1/clones_2__3.DE.GeneActivity.tsv\"\n",
      "[1] \"pvalue\"         \"log2FoldChange\" \"pct.1\"          \"pct.2\"         \n",
      "[5] \"padj\"           \"ensg\"          \n",
      "[1] \"here\"\n",
      "[1] \"DEGTable\"\n",
      "[1] 1056    2\n"
     ]
    },
    {
     "name": "stderr",
     "output_type": "stream",
     "text": [
      "preparing geneSet collections...\n",
      "\n",
      "GSEA analysis...\n",
      "\n",
      "Warning message in preparePathwaysAndStats(pathways, stats, minSize, maxSize, gseaParam, :\n",
      "“There are ties in the preranked stats (0.28% of the list).\n",
      "The order of those tied genes will be arbitrary, which may produce unexpected results.”\n",
      "leading edge analysis...\n",
      "\n",
      "done...\n",
      "\n",
      "preparing geneSet collections...\n",
      "\n",
      "GSEA analysis...\n",
      "\n",
      "Warning message in preparePathwaysAndStats(pathways, stats, minSize, maxSize, gseaParam, :\n",
      "“There are ties in the preranked stats (0.28% of the list).\n",
      "The order of those tied genes will be arbitrary, which may produce unexpected results.”\n",
      "leading edge analysis...\n",
      "\n",
      "done...\n",
      "\n",
      "preparing geneSet collections...\n",
      "\n",
      "GSEA analysis...\n",
      "\n",
      "Warning message in preparePathwaysAndStats(pathways, stats, minSize, maxSize, gseaParam, :\n",
      "“There are ties in the preranked stats (0.28% of the list).\n",
      "The order of those tied genes will be arbitrary, which may produce unexpected results.”\n",
      "leading edge analysis...\n",
      "\n",
      "done...\n",
      "\n",
      "Warning message in is.na(egmt[[c]]):\n",
      "“is.na() applied to non-(list or vector) of type 'S4'”\n",
      "Warning message in summary(egmt[[c]]):\n",
      "“summary method to convert the object to data.frame is deprecated, please use as.data.frame instead.”\n",
      "Warning message in is.na(egmt[[c]]):\n",
      "“is.na() applied to non-(list or vector) of type 'S4'”\n",
      "Warning message in summary(egmt[[c]]):\n",
      "“summary method to convert the object to data.frame is deprecated, please use as.data.frame instead.”\n",
      "Warning message in is.na(egmt[[c]]):\n",
      "“is.na() applied to non-(list or vector) of type 'S4'”\n",
      "Warning message in summary(egmt[[c]]):\n",
      "“summary method to convert the object to data.frame is deprecated, please use as.data.frame instead.”\n"
     ]
    },
    {
     "name": "stdout",
     "output_type": "stream",
     "text": [
      "[1] \"preExcel writing\"\n",
      "[1] \"postExcel writing\"\n",
      "[1] \"Here we go .... :/data2/mito_lineage/output/annotation_clones/data/cd34norm/MTblacklist/DE_large/donor1/clones_2__4.DE.GeneActivity.tsv\"\n",
      "[1] \"pvalue\"         \"log2FoldChange\" \"pct.1\"          \"pct.2\"         \n",
      "[5] \"padj\"           \"ensg\"          \n",
      "[1] \"here\"\n",
      "[1] \"DEGTable\"\n",
      "[1] 1342    2\n"
     ]
    },
    {
     "name": "stderr",
     "output_type": "stream",
     "text": [
      "preparing geneSet collections...\n",
      "\n",
      "GSEA analysis...\n",
      "\n",
      "Warning message in preparePathwaysAndStats(pathways, stats, minSize, maxSize, gseaParam, :\n",
      "“There are ties in the preranked stats (0.15% of the list).\n",
      "The order of those tied genes will be arbitrary, which may produce unexpected results.”\n",
      "no term enriched under specific pvalueCutoff...\n",
      "\n",
      "preparing geneSet collections...\n",
      "\n",
      "GSEA analysis...\n",
      "\n",
      "Warning message in preparePathwaysAndStats(pathways, stats, minSize, maxSize, gseaParam, :\n",
      "“There are ties in the preranked stats (0.15% of the list).\n",
      "The order of those tied genes will be arbitrary, which may produce unexpected results.”\n",
      "leading edge analysis...\n",
      "\n",
      "done...\n",
      "\n",
      "preparing geneSet collections...\n",
      "\n",
      "GSEA analysis...\n",
      "\n",
      "Warning message in preparePathwaysAndStats(pathways, stats, minSize, maxSize, gseaParam, :\n",
      "“There are ties in the preranked stats (0.15% of the list).\n",
      "The order of those tied genes will be arbitrary, which may produce unexpected results.”\n",
      "leading edge analysis...\n",
      "\n",
      "done...\n",
      "\n",
      "Warning message in is.na(egmt[[c]]):\n",
      "“is.na() applied to non-(list or vector) of type 'S4'”\n",
      "Warning message in summary(egmt[[c]]):\n",
      "“summary method to convert the object to data.frame is deprecated, please use as.data.frame instead.”\n",
      "Warning message in is.na(egmt[[c]]):\n",
      "“is.na() applied to non-(list or vector) of type 'S4'”\n",
      "Warning message in summary(egmt[[c]]):\n",
      "“summary method to convert the object to data.frame is deprecated, please use as.data.frame instead.”\n",
      "Warning message in is.na(egmt[[c]]):\n",
      "“is.na() applied to non-(list or vector) of type 'S4'”\n",
      "Warning message in summary(egmt[[c]]):\n",
      "“summary method to convert the object to data.frame is deprecated, please use as.data.frame instead.”\n"
     ]
    },
    {
     "name": "stdout",
     "output_type": "stream",
     "text": [
      "[1] \"preExcel writing\"\n",
      "[1] \"postExcel writing\"\n",
      "[1] \"Here we go .... :/data2/mito_lineage/output/annotation_clones/data/cd34norm/MTblacklist/DE_large/donor1/clones_2__5.DE.GeneActivity.tsv\"\n",
      "[1] \"pvalue\"         \"log2FoldChange\" \"pct.1\"          \"pct.2\"         \n",
      "[5] \"padj\"           \"ensg\"          \n",
      "[1] \"here\"\n",
      "[1] \"DEGTable\"\n",
      "[1] 781   2\n"
     ]
    },
    {
     "name": "stderr",
     "output_type": "stream",
     "text": [
      "preparing geneSet collections...\n",
      "\n",
      "GSEA analysis...\n",
      "\n",
      "Warning message in preparePathwaysAndStats(pathways, stats, minSize, maxSize, gseaParam, :\n",
      "“There are ties in the preranked stats (0.51% of the list).\n",
      "The order of those tied genes will be arbitrary, which may produce unexpected results.”\n",
      "no term enriched under specific pvalueCutoff...\n",
      "\n",
      "preparing geneSet collections...\n",
      "\n",
      "GSEA analysis...\n",
      "\n",
      "Warning message in preparePathwaysAndStats(pathways, stats, minSize, maxSize, gseaParam, :\n",
      "“There are ties in the preranked stats (0.51% of the list).\n",
      "The order of those tied genes will be arbitrary, which may produce unexpected results.”\n",
      "leading edge analysis...\n",
      "\n",
      "done...\n",
      "\n",
      "preparing geneSet collections...\n",
      "\n",
      "GSEA analysis...\n",
      "\n",
      "Warning message in preparePathwaysAndStats(pathways, stats, minSize, maxSize, gseaParam, :\n",
      "“There are ties in the preranked stats (0.51% of the list).\n",
      "The order of those tied genes will be arbitrary, which may produce unexpected results.”\n",
      "leading edge analysis...\n",
      "\n",
      "done...\n",
      "\n",
      "Warning message in is.na(egmt[[c]]):\n",
      "“is.na() applied to non-(list or vector) of type 'S4'”\n",
      "Warning message in summary(egmt[[c]]):\n",
      "“summary method to convert the object to data.frame is deprecated, please use as.data.frame instead.”\n",
      "Warning message in is.na(egmt[[c]]):\n",
      "“is.na() applied to non-(list or vector) of type 'S4'”\n",
      "Warning message in summary(egmt[[c]]):\n",
      "“summary method to convert the object to data.frame is deprecated, please use as.data.frame instead.”\n",
      "Warning message in is.na(egmt[[c]]):\n",
      "“is.na() applied to non-(list or vector) of type 'S4'”\n",
      "Warning message in summary(egmt[[c]]):\n",
      "“summary method to convert the object to data.frame is deprecated, please use as.data.frame instead.”\n"
     ]
    },
    {
     "name": "stdout",
     "output_type": "stream",
     "text": [
      "[1] \"preExcel writing\"\n",
      "[1] \"postExcel writing\"\n",
      "[1] \"Here we go .... :/data2/mito_lineage/output/annotation_clones/data/cd34norm/MTblacklist/DE_large/donor1/clones_2__6.DE.GeneActivity.tsv\"\n",
      "[1] \"pvalue\"         \"log2FoldChange\" \"pct.1\"          \"pct.2\"         \n",
      "[5] \"padj\"           \"ensg\"          \n",
      "[1] \"here\"\n",
      "[1] \"DEGTable\"\n",
      "[1] 883   2\n"
     ]
    },
    {
     "name": "stderr",
     "output_type": "stream",
     "text": [
      "preparing geneSet collections...\n",
      "\n",
      "GSEA analysis...\n",
      "\n",
      "Warning message in preparePathwaysAndStats(pathways, stats, minSize, maxSize, gseaParam, :\n",
      "“There are ties in the preranked stats (0.45% of the list).\n",
      "The order of those tied genes will be arbitrary, which may produce unexpected results.”\n",
      "no term enriched under specific pvalueCutoff...\n",
      "\n",
      "preparing geneSet collections...\n",
      "\n",
      "GSEA analysis...\n",
      "\n",
      "Warning message in preparePathwaysAndStats(pathways, stats, minSize, maxSize, gseaParam, :\n",
      "“There are ties in the preranked stats (0.45% of the list).\n",
      "The order of those tied genes will be arbitrary, which may produce unexpected results.”\n",
      "leading edge analysis...\n",
      "\n",
      "done...\n",
      "\n",
      "preparing geneSet collections...\n",
      "\n",
      "GSEA analysis...\n",
      "\n",
      "Warning message in preparePathwaysAndStats(pathways, stats, minSize, maxSize, gseaParam, :\n",
      "“There are ties in the preranked stats (0.45% of the list).\n",
      "The order of those tied genes will be arbitrary, which may produce unexpected results.”\n",
      "leading edge analysis...\n",
      "\n",
      "done...\n",
      "\n",
      "Warning message in is.na(egmt[[c]]):\n",
      "“is.na() applied to non-(list or vector) of type 'S4'”\n",
      "Warning message in summary(egmt[[c]]):\n",
      "“summary method to convert the object to data.frame is deprecated, please use as.data.frame instead.”\n",
      "Warning message in is.na(egmt[[c]]):\n",
      "“is.na() applied to non-(list or vector) of type 'S4'”\n",
      "Warning message in summary(egmt[[c]]):\n",
      "“summary method to convert the object to data.frame is deprecated, please use as.data.frame instead.”\n",
      "Warning message in is.na(egmt[[c]]):\n",
      "“is.na() applied to non-(list or vector) of type 'S4'”\n",
      "Warning message in summary(egmt[[c]]):\n",
      "“summary method to convert the object to data.frame is deprecated, please use as.data.frame instead.”\n"
     ]
    },
    {
     "name": "stdout",
     "output_type": "stream",
     "text": [
      "[1] \"preExcel writing\"\n",
      "[1] \"postExcel writing\"\n",
      "[1] \"Here we go .... :/data2/mito_lineage/output/annotation_clones/data/cd34norm/MTblacklist/DE_large/donor1/clones_2__8.DE.GeneActivity.tsv\"\n",
      "[1] \"pvalue\"         \"log2FoldChange\" \"pct.1\"          \"pct.2\"         \n",
      "[5] \"padj\"           \"ensg\"          \n",
      "[1] \"here\"\n",
      "[1] \"DEGTable\"\n",
      "[1] 1278    2\n"
     ]
    },
    {
     "name": "stderr",
     "output_type": "stream",
     "text": [
      "preparing geneSet collections...\n",
      "\n",
      "GSEA analysis...\n",
      "\n",
      "Warning message in preparePathwaysAndStats(pathways, stats, minSize, maxSize, gseaParam, :\n",
      "“There are ties in the preranked stats (0.23% of the list).\n",
      "The order of those tied genes will be arbitrary, which may produce unexpected results.”\n",
      "leading edge analysis...\n",
      "\n",
      "done...\n",
      "\n",
      "preparing geneSet collections...\n",
      "\n",
      "GSEA analysis...\n",
      "\n",
      "Warning message in preparePathwaysAndStats(pathways, stats, minSize, maxSize, gseaParam, :\n",
      "“There are ties in the preranked stats (0.23% of the list).\n",
      "The order of those tied genes will be arbitrary, which may produce unexpected results.”\n",
      "leading edge analysis...\n",
      "\n",
      "done...\n",
      "\n",
      "preparing geneSet collections...\n",
      "\n",
      "GSEA analysis...\n",
      "\n",
      "Warning message in preparePathwaysAndStats(pathways, stats, minSize, maxSize, gseaParam, :\n",
      "“There are ties in the preranked stats (0.23% of the list).\n",
      "The order of those tied genes will be arbitrary, which may produce unexpected results.”\n",
      "leading edge analysis...\n",
      "\n",
      "done...\n",
      "\n",
      "Warning message in is.na(egmt[[c]]):\n",
      "“is.na() applied to non-(list or vector) of type 'S4'”\n",
      "Warning message in summary(egmt[[c]]):\n",
      "“summary method to convert the object to data.frame is deprecated, please use as.data.frame instead.”\n",
      "Warning message in is.na(egmt[[c]]):\n",
      "“is.na() applied to non-(list or vector) of type 'S4'”\n",
      "Warning message in summary(egmt[[c]]):\n",
      "“summary method to convert the object to data.frame is deprecated, please use as.data.frame instead.”\n",
      "Warning message in is.na(egmt[[c]]):\n",
      "“is.na() applied to non-(list or vector) of type 'S4'”\n",
      "Warning message in summary(egmt[[c]]):\n",
      "“summary method to convert the object to data.frame is deprecated, please use as.data.frame instead.”\n"
     ]
    },
    {
     "name": "stdout",
     "output_type": "stream",
     "text": [
      "[1] \"preExcel writing\"\n",
      "[1] \"postExcel writing\"\n",
      "[1] \"Here we go .... :/data2/mito_lineage/output/annotation_clones/data/cd34norm/MTblacklist/DE_large/donor1/clones_3__10.DE.GeneActivity.tsv\"\n",
      "[1] \"pvalue\"         \"log2FoldChange\" \"pct.1\"          \"pct.2\"         \n",
      "[5] \"padj\"           \"ensg\"          \n",
      "[1] \"here\"\n",
      "[1] \"DEGTable\"\n",
      "[1] 1163    2\n"
     ]
    },
    {
     "name": "stderr",
     "output_type": "stream",
     "text": [
      "preparing geneSet collections...\n",
      "\n",
      "GSEA analysis...\n",
      "\n",
      "Warning message in preparePathwaysAndStats(pathways, stats, minSize, maxSize, gseaParam, :\n",
      "“There are ties in the preranked stats (0.34% of the list).\n",
      "The order of those tied genes will be arbitrary, which may produce unexpected results.”\n",
      "no term enriched under specific pvalueCutoff...\n",
      "\n",
      "preparing geneSet collections...\n",
      "\n",
      "GSEA analysis...\n",
      "\n",
      "Warning message in preparePathwaysAndStats(pathways, stats, minSize, maxSize, gseaParam, :\n",
      "“There are ties in the preranked stats (0.34% of the list).\n",
      "The order of those tied genes will be arbitrary, which may produce unexpected results.”\n",
      "leading edge analysis...\n",
      "\n",
      "done...\n",
      "\n",
      "preparing geneSet collections...\n",
      "\n",
      "GSEA analysis...\n",
      "\n",
      "Warning message in preparePathwaysAndStats(pathways, stats, minSize, maxSize, gseaParam, :\n",
      "“There are ties in the preranked stats (0.34% of the list).\n",
      "The order of those tied genes will be arbitrary, which may produce unexpected results.”\n",
      "leading edge analysis...\n",
      "\n",
      "done...\n",
      "\n",
      "Warning message in is.na(egmt[[c]]):\n",
      "“is.na() applied to non-(list or vector) of type 'S4'”\n",
      "Warning message in summary(egmt[[c]]):\n",
      "“summary method to convert the object to data.frame is deprecated, please use as.data.frame instead.”\n",
      "Warning message in is.na(egmt[[c]]):\n",
      "“is.na() applied to non-(list or vector) of type 'S4'”\n",
      "Warning message in summary(egmt[[c]]):\n",
      "“summary method to convert the object to data.frame is deprecated, please use as.data.frame instead.”\n",
      "Warning message in is.na(egmt[[c]]):\n",
      "“is.na() applied to non-(list or vector) of type 'S4'”\n",
      "Warning message in summary(egmt[[c]]):\n",
      "“summary method to convert the object to data.frame is deprecated, please use as.data.frame instead.”\n"
     ]
    },
    {
     "name": "stdout",
     "output_type": "stream",
     "text": [
      "[1] \"preExcel writing\"\n",
      "[1] \"postExcel writing\"\n",
      "[1] \"Here we go .... :/data2/mito_lineage/output/annotation_clones/data/cd34norm/MTblacklist/DE_large/donor1/clones_3__13.DE.GeneActivity.tsv\"\n",
      "[1] \"pvalue\"         \"log2FoldChange\" \"pct.1\"          \"pct.2\"         \n",
      "[5] \"padj\"           \"ensg\"          \n",
      "[1] \"here\"\n",
      "[1] \"DEGTable\"\n",
      "[1] 1583    2\n"
     ]
    },
    {
     "name": "stderr",
     "output_type": "stream",
     "text": [
      "preparing geneSet collections...\n",
      "\n",
      "GSEA analysis...\n",
      "\n",
      "Warning message in preparePathwaysAndStats(pathways, stats, minSize, maxSize, gseaParam, :\n",
      "“There are ties in the preranked stats (0.13% of the list).\n",
      "The order of those tied genes will be arbitrary, which may produce unexpected results.”\n",
      "leading edge analysis...\n",
      "\n",
      "done...\n",
      "\n",
      "preparing geneSet collections...\n",
      "\n",
      "GSEA analysis...\n",
      "\n",
      "Warning message in preparePathwaysAndStats(pathways, stats, minSize, maxSize, gseaParam, :\n",
      "“There are ties in the preranked stats (0.13% of the list).\n",
      "The order of those tied genes will be arbitrary, which may produce unexpected results.”\n",
      "leading edge analysis...\n",
      "\n",
      "done...\n",
      "\n",
      "preparing geneSet collections...\n",
      "\n",
      "GSEA analysis...\n",
      "\n",
      "Warning message in preparePathwaysAndStats(pathways, stats, minSize, maxSize, gseaParam, :\n",
      "“There are ties in the preranked stats (0.13% of the list).\n",
      "The order of those tied genes will be arbitrary, which may produce unexpected results.”\n",
      "leading edge analysis...\n",
      "\n",
      "done...\n",
      "\n",
      "Warning message in is.na(egmt[[c]]):\n",
      "“is.na() applied to non-(list or vector) of type 'S4'”\n",
      "Warning message in summary(egmt[[c]]):\n",
      "“summary method to convert the object to data.frame is deprecated, please use as.data.frame instead.”\n",
      "Warning message in is.na(egmt[[c]]):\n",
      "“is.na() applied to non-(list or vector) of type 'S4'”\n",
      "Warning message in summary(egmt[[c]]):\n",
      "“summary method to convert the object to data.frame is deprecated, please use as.data.frame instead.”\n",
      "Warning message in is.na(egmt[[c]]):\n",
      "“is.na() applied to non-(list or vector) of type 'S4'”\n",
      "Warning message in summary(egmt[[c]]):\n",
      "“summary method to convert the object to data.frame is deprecated, please use as.data.frame instead.”\n"
     ]
    },
    {
     "name": "stdout",
     "output_type": "stream",
     "text": [
      "[1] \"preExcel writing\"\n",
      "[1] \"postExcel writing\"\n",
      "[1] \"Here we go .... :/data2/mito_lineage/output/annotation_clones/data/cd34norm/MTblacklist/DE_large/donor1/clones_3__19.DE.GeneActivity.tsv\"\n",
      "[1] \"pvalue\"         \"log2FoldChange\" \"pct.1\"          \"pct.2\"         \n",
      "[5] \"padj\"           \"ensg\"          \n",
      "[1] \"here\"\n",
      "[1] \"DEGTable\"\n",
      "[1] 3019    2\n"
     ]
    },
    {
     "name": "stderr",
     "output_type": "stream",
     "text": [
      "preparing geneSet collections...\n",
      "\n",
      "GSEA analysis...\n",
      "\n",
      "Warning message in preparePathwaysAndStats(pathways, stats, minSize, maxSize, gseaParam, :\n",
      "“There are ties in the preranked stats (0.43% of the list).\n",
      "The order of those tied genes will be arbitrary, which may produce unexpected results.”\n",
      "leading edge analysis...\n",
      "\n",
      "done...\n",
      "\n",
      "preparing geneSet collections...\n",
      "\n",
      "GSEA analysis...\n",
      "\n",
      "Warning message in preparePathwaysAndStats(pathways, stats, minSize, maxSize, gseaParam, :\n",
      "“There are ties in the preranked stats (0.43% of the list).\n",
      "The order of those tied genes will be arbitrary, which may produce unexpected results.”\n",
      "leading edge analysis...\n",
      "\n",
      "done...\n",
      "\n",
      "preparing geneSet collections...\n",
      "\n",
      "GSEA analysis...\n",
      "\n",
      "Warning message in preparePathwaysAndStats(pathways, stats, minSize, maxSize, gseaParam, :\n",
      "“There are ties in the preranked stats (0.43% of the list).\n",
      "The order of those tied genes will be arbitrary, which may produce unexpected results.”\n",
      "leading edge analysis...\n",
      "\n",
      "done...\n",
      "\n",
      "Warning message in is.na(egmt[[c]]):\n",
      "“is.na() applied to non-(list or vector) of type 'S4'”\n",
      "Warning message in summary(egmt[[c]]):\n",
      "“summary method to convert the object to data.frame is deprecated, please use as.data.frame instead.”\n",
      "Warning message in is.na(egmt[[c]]):\n",
      "“is.na() applied to non-(list or vector) of type 'S4'”\n",
      "Warning message in summary(egmt[[c]]):\n",
      "“summary method to convert the object to data.frame is deprecated, please use as.data.frame instead.”\n",
      "Warning message in is.na(egmt[[c]]):\n",
      "“is.na() applied to non-(list or vector) of type 'S4'”\n",
      "Warning message in summary(egmt[[c]]):\n",
      "“summary method to convert the object to data.frame is deprecated, please use as.data.frame instead.”\n"
     ]
    },
    {
     "name": "stdout",
     "output_type": "stream",
     "text": [
      "[1] \"preExcel writing\"\n",
      "[1] \"postExcel writing\"\n",
      "[1] \"Here we go .... :/data2/mito_lineage/output/annotation_clones/data/cd34norm/MTblacklist/DE_large/donor1/clones_3__4.DE.GeneActivity.tsv\"\n",
      "[1] \"pvalue\"         \"log2FoldChange\" \"pct.1\"          \"pct.2\"         \n",
      "[5] \"padj\"           \"ensg\"          \n",
      "[1] \"here\"\n",
      "[1] \"DEGTable\"\n",
      "[1] 1341    2\n"
     ]
    },
    {
     "name": "stderr",
     "output_type": "stream",
     "text": [
      "preparing geneSet collections...\n",
      "\n",
      "GSEA analysis...\n",
      "\n",
      "Warning message in preparePathwaysAndStats(pathways, stats, minSize, maxSize, gseaParam, :\n",
      "“There are ties in the preranked stats (0.15% of the list).\n",
      "The order of those tied genes will be arbitrary, which may produce unexpected results.”\n",
      "leading edge analysis...\n",
      "\n",
      "done...\n",
      "\n",
      "preparing geneSet collections...\n",
      "\n",
      "GSEA analysis...\n",
      "\n",
      "Warning message in preparePathwaysAndStats(pathways, stats, minSize, maxSize, gseaParam, :\n",
      "“There are ties in the preranked stats (0.15% of the list).\n",
      "The order of those tied genes will be arbitrary, which may produce unexpected results.”\n",
      "leading edge analysis...\n",
      "\n",
      "done...\n",
      "\n",
      "preparing geneSet collections...\n",
      "\n",
      "GSEA analysis...\n",
      "\n",
      "Warning message in preparePathwaysAndStats(pathways, stats, minSize, maxSize, gseaParam, :\n",
      "“There are ties in the preranked stats (0.15% of the list).\n",
      "The order of those tied genes will be arbitrary, which may produce unexpected results.”\n",
      "leading edge analysis...\n",
      "\n",
      "done...\n",
      "\n",
      "Warning message in is.na(egmt[[c]]):\n",
      "“is.na() applied to non-(list or vector) of type 'S4'”\n",
      "Warning message in summary(egmt[[c]]):\n",
      "“summary method to convert the object to data.frame is deprecated, please use as.data.frame instead.”\n",
      "Warning message in is.na(egmt[[c]]):\n",
      "“is.na() applied to non-(list or vector) of type 'S4'”\n",
      "Warning message in summary(egmt[[c]]):\n",
      "“summary method to convert the object to data.frame is deprecated, please use as.data.frame instead.”\n",
      "Warning message in is.na(egmt[[c]]):\n",
      "“is.na() applied to non-(list or vector) of type 'S4'”\n",
      "Warning message in summary(egmt[[c]]):\n",
      "“summary method to convert the object to data.frame is deprecated, please use as.data.frame instead.”\n"
     ]
    },
    {
     "name": "stdout",
     "output_type": "stream",
     "text": [
      "[1] \"preExcel writing\"\n",
      "[1] \"postExcel writing\"\n",
      "[1] \"Here we go .... :/data2/mito_lineage/output/annotation_clones/data/cd34norm/MTblacklist/DE_large/donor1/clones_3__5.DE.GeneActivity.tsv\"\n",
      "[1] \"pvalue\"         \"log2FoldChange\" \"pct.1\"          \"pct.2\"         \n",
      "[5] \"padj\"           \"ensg\"          \n",
      "[1] \"here\"\n",
      "[1] \"DEGTable\"\n",
      "[1] 830   2\n"
     ]
    },
    {
     "name": "stderr",
     "output_type": "stream",
     "text": [
      "preparing geneSet collections...\n",
      "\n",
      "GSEA analysis...\n",
      "\n",
      "Warning message in preparePathwaysAndStats(pathways, stats, minSize, maxSize, gseaParam, :\n",
      "“There are ties in the preranked stats (0.48% of the list).\n",
      "The order of those tied genes will be arbitrary, which may produce unexpected results.”\n",
      "leading edge analysis...\n",
      "\n",
      "done...\n",
      "\n",
      "preparing geneSet collections...\n",
      "\n",
      "GSEA analysis...\n",
      "\n",
      "Warning message in preparePathwaysAndStats(pathways, stats, minSize, maxSize, gseaParam, :\n",
      "“There are ties in the preranked stats (0.48% of the list).\n",
      "The order of those tied genes will be arbitrary, which may produce unexpected results.”\n",
      "leading edge analysis...\n",
      "\n",
      "done...\n",
      "\n",
      "preparing geneSet collections...\n",
      "\n",
      "GSEA analysis...\n",
      "\n",
      "Warning message in preparePathwaysAndStats(pathways, stats, minSize, maxSize, gseaParam, :\n",
      "“There are ties in the preranked stats (0.48% of the list).\n",
      "The order of those tied genes will be arbitrary, which may produce unexpected results.”\n",
      "leading edge analysis...\n",
      "\n",
      "done...\n",
      "\n",
      "Warning message in is.na(egmt[[c]]):\n",
      "“is.na() applied to non-(list or vector) of type 'S4'”\n",
      "Warning message in summary(egmt[[c]]):\n",
      "“summary method to convert the object to data.frame is deprecated, please use as.data.frame instead.”\n",
      "Warning message in is.na(egmt[[c]]):\n",
      "“is.na() applied to non-(list or vector) of type 'S4'”\n",
      "Warning message in summary(egmt[[c]]):\n",
      "“summary method to convert the object to data.frame is deprecated, please use as.data.frame instead.”\n",
      "Warning message in is.na(egmt[[c]]):\n",
      "“is.na() applied to non-(list or vector) of type 'S4'”\n",
      "Warning message in summary(egmt[[c]]):\n",
      "“summary method to convert the object to data.frame is deprecated, please use as.data.frame instead.”\n"
     ]
    },
    {
     "name": "stdout",
     "output_type": "stream",
     "text": [
      "[1] \"preExcel writing\"\n",
      "[1] \"postExcel writing\"\n",
      "[1] \"Here we go .... :/data2/mito_lineage/output/annotation_clones/data/cd34norm/MTblacklist/DE_large/donor1/clones_3__6.DE.GeneActivity.tsv\"\n",
      "[1] \"pvalue\"         \"log2FoldChange\" \"pct.1\"          \"pct.2\"         \n",
      "[5] \"padj\"           \"ensg\"          \n",
      "[1] \"here\"\n",
      "[1] \"DEGTable\"\n",
      "[1] 899   2\n"
     ]
    },
    {
     "name": "stderr",
     "output_type": "stream",
     "text": [
      "preparing geneSet collections...\n",
      "\n",
      "GSEA analysis...\n",
      "\n",
      "Warning message in preparePathwaysAndStats(pathways, stats, minSize, maxSize, gseaParam, :\n",
      "“There are ties in the preranked stats (0.22% of the list).\n",
      "The order of those tied genes will be arbitrary, which may produce unexpected results.”\n",
      "no term enriched under specific pvalueCutoff...\n",
      "\n",
      "preparing geneSet collections...\n",
      "\n",
      "GSEA analysis...\n",
      "\n",
      "Warning message in preparePathwaysAndStats(pathways, stats, minSize, maxSize, gseaParam, :\n",
      "“There are ties in the preranked stats (0.22% of the list).\n",
      "The order of those tied genes will be arbitrary, which may produce unexpected results.”\n",
      "leading edge analysis...\n",
      "\n",
      "done...\n",
      "\n",
      "preparing geneSet collections...\n",
      "\n",
      "GSEA analysis...\n",
      "\n",
      "Warning message in preparePathwaysAndStats(pathways, stats, minSize, maxSize, gseaParam, :\n",
      "“There are ties in the preranked stats (0.22% of the list).\n",
      "The order of those tied genes will be arbitrary, which may produce unexpected results.”\n",
      "leading edge analysis...\n",
      "\n",
      "done...\n",
      "\n",
      "Warning message in is.na(egmt[[c]]):\n",
      "“is.na() applied to non-(list or vector) of type 'S4'”\n",
      "Warning message in summary(egmt[[c]]):\n",
      "“summary method to convert the object to data.frame is deprecated, please use as.data.frame instead.”\n",
      "Warning message in is.na(egmt[[c]]):\n",
      "“is.na() applied to non-(list or vector) of type 'S4'”\n",
      "Warning message in summary(egmt[[c]]):\n",
      "“summary method to convert the object to data.frame is deprecated, please use as.data.frame instead.”\n",
      "Warning message in is.na(egmt[[c]]):\n",
      "“is.na() applied to non-(list or vector) of type 'S4'”\n",
      "Warning message in summary(egmt[[c]]):\n",
      "“summary method to convert the object to data.frame is deprecated, please use as.data.frame instead.”\n"
     ]
    },
    {
     "name": "stdout",
     "output_type": "stream",
     "text": [
      "[1] \"preExcel writing\"\n",
      "[1] \"postExcel writing\"\n",
      "[1] \"Here we go .... :/data2/mito_lineage/output/annotation_clones/data/cd34norm/MTblacklist/DE_large/donor1/clones_3__8.DE.GeneActivity.tsv\"\n",
      "[1] \"pvalue\"         \"log2FoldChange\" \"pct.1\"          \"pct.2\"         \n",
      "[5] \"padj\"           \"ensg\"          \n",
      "[1] \"here\"\n",
      "[1] \"DEGTable\"\n",
      "[1] 1308    2\n"
     ]
    },
    {
     "name": "stderr",
     "output_type": "stream",
     "text": [
      "preparing geneSet collections...\n",
      "\n",
      "GSEA analysis...\n",
      "\n",
      "Warning message in preparePathwaysAndStats(pathways, stats, minSize, maxSize, gseaParam, :\n",
      "“There are ties in the preranked stats (0.23% of the list).\n",
      "The order of those tied genes will be arbitrary, which may produce unexpected results.”\n",
      "leading edge analysis...\n",
      "\n",
      "done...\n",
      "\n",
      "preparing geneSet collections...\n",
      "\n",
      "GSEA analysis...\n",
      "\n",
      "Warning message in preparePathwaysAndStats(pathways, stats, minSize, maxSize, gseaParam, :\n",
      "“There are ties in the preranked stats (0.23% of the list).\n",
      "The order of those tied genes will be arbitrary, which may produce unexpected results.”\n",
      "leading edge analysis...\n",
      "\n",
      "done...\n",
      "\n",
      "preparing geneSet collections...\n",
      "\n",
      "GSEA analysis...\n",
      "\n",
      "Warning message in preparePathwaysAndStats(pathways, stats, minSize, maxSize, gseaParam, :\n",
      "“There are ties in the preranked stats (0.23% of the list).\n",
      "The order of those tied genes will be arbitrary, which may produce unexpected results.”\n",
      "leading edge analysis...\n",
      "\n",
      "done...\n",
      "\n",
      "Warning message in is.na(egmt[[c]]):\n",
      "“is.na() applied to non-(list or vector) of type 'S4'”\n",
      "Warning message in summary(egmt[[c]]):\n",
      "“summary method to convert the object to data.frame is deprecated, please use as.data.frame instead.”\n",
      "Warning message in is.na(egmt[[c]]):\n",
      "“is.na() applied to non-(list or vector) of type 'S4'”\n",
      "Warning message in summary(egmt[[c]]):\n",
      "“summary method to convert the object to data.frame is deprecated, please use as.data.frame instead.”\n",
      "Warning message in is.na(egmt[[c]]):\n",
      "“is.na() applied to non-(list or vector) of type 'S4'”\n",
      "Warning message in summary(egmt[[c]]):\n",
      "“summary method to convert the object to data.frame is deprecated, please use as.data.frame instead.”\n"
     ]
    },
    {
     "name": "stdout",
     "output_type": "stream",
     "text": [
      "[1] \"preExcel writing\"\n",
      "[1] \"postExcel writing\"\n",
      "[1] \"Here we go .... :/data2/mito_lineage/output/annotation_clones/data/cd34norm/MTblacklist/DE_large/donor1/clones_4__10.DE.GeneActivity.tsv\"\n",
      "[1] \"pvalue\"         \"log2FoldChange\" \"pct.1\"          \"pct.2\"         \n",
      "[5] \"padj\"           \"ensg\"          \n",
      "[1] \"here\"\n",
      "[1] \"DEGTable\"\n",
      "[1] 1454    2\n"
     ]
    },
    {
     "name": "stderr",
     "output_type": "stream",
     "text": [
      "preparing geneSet collections...\n",
      "\n",
      "GSEA analysis...\n",
      "\n",
      "Warning message in preparePathwaysAndStats(pathways, stats, minSize, maxSize, gseaParam, :\n",
      "“There are ties in the preranked stats (0.48% of the list).\n",
      "The order of those tied genes will be arbitrary, which may produce unexpected results.”\n",
      "leading edge analysis...\n",
      "\n",
      "done...\n",
      "\n",
      "preparing geneSet collections...\n",
      "\n",
      "GSEA analysis...\n",
      "\n",
      "Warning message in preparePathwaysAndStats(pathways, stats, minSize, maxSize, gseaParam, :\n",
      "“There are ties in the preranked stats (0.48% of the list).\n",
      "The order of those tied genes will be arbitrary, which may produce unexpected results.”\n",
      "leading edge analysis...\n",
      "\n",
      "done...\n",
      "\n",
      "preparing geneSet collections...\n",
      "\n",
      "GSEA analysis...\n",
      "\n",
      "Warning message in preparePathwaysAndStats(pathways, stats, minSize, maxSize, gseaParam, :\n",
      "“There are ties in the preranked stats (0.48% of the list).\n",
      "The order of those tied genes will be arbitrary, which may produce unexpected results.”\n",
      "leading edge analysis...\n",
      "\n",
      "done...\n",
      "\n",
      "Warning message in is.na(egmt[[c]]):\n",
      "“is.na() applied to non-(list or vector) of type 'S4'”\n",
      "Warning message in summary(egmt[[c]]):\n",
      "“summary method to convert the object to data.frame is deprecated, please use as.data.frame instead.”\n",
      "Warning message in is.na(egmt[[c]]):\n",
      "“is.na() applied to non-(list or vector) of type 'S4'”\n",
      "Warning message in summary(egmt[[c]]):\n",
      "“summary method to convert the object to data.frame is deprecated, please use as.data.frame instead.”\n",
      "Warning message in is.na(egmt[[c]]):\n",
      "“is.na() applied to non-(list or vector) of type 'S4'”\n",
      "Warning message in summary(egmt[[c]]):\n",
      "“summary method to convert the object to data.frame is deprecated, please use as.data.frame instead.”\n"
     ]
    },
    {
     "name": "stdout",
     "output_type": "stream",
     "text": [
      "[1] \"preExcel writing\"\n",
      "[1] \"postExcel writing\"\n",
      "[1] \"Here we go .... :/data2/mito_lineage/output/annotation_clones/data/cd34norm/MTblacklist/DE_large/donor1/clones_4__13.DE.GeneActivity.tsv\"\n",
      "[1] \"pvalue\"         \"log2FoldChange\" \"pct.1\"          \"pct.2\"         \n",
      "[5] \"padj\"           \"ensg\"          \n",
      "[1] \"here\"\n",
      "[1] \"DEGTable\"\n",
      "[1] 1826    2\n"
     ]
    },
    {
     "name": "stderr",
     "output_type": "stream",
     "text": [
      "preparing geneSet collections...\n",
      "\n",
      "GSEA analysis...\n",
      "\n",
      "Warning message in preparePathwaysAndStats(pathways, stats, minSize, maxSize, gseaParam, :\n",
      "“There are ties in the preranked stats (0.22% of the list).\n",
      "The order of those tied genes will be arbitrary, which may produce unexpected results.”\n",
      "leading edge analysis...\n",
      "\n",
      "done...\n",
      "\n",
      "preparing geneSet collections...\n",
      "\n",
      "GSEA analysis...\n",
      "\n",
      "Warning message in preparePathwaysAndStats(pathways, stats, minSize, maxSize, gseaParam, :\n",
      "“There are ties in the preranked stats (0.22% of the list).\n",
      "The order of those tied genes will be arbitrary, which may produce unexpected results.”\n",
      "leading edge analysis...\n",
      "\n",
      "done...\n",
      "\n",
      "preparing geneSet collections...\n",
      "\n",
      "GSEA analysis...\n",
      "\n",
      "Warning message in preparePathwaysAndStats(pathways, stats, minSize, maxSize, gseaParam, :\n",
      "“There are ties in the preranked stats (0.22% of the list).\n",
      "The order of those tied genes will be arbitrary, which may produce unexpected results.”\n",
      "leading edge analysis...\n",
      "\n",
      "done...\n",
      "\n",
      "Warning message in is.na(egmt[[c]]):\n",
      "“is.na() applied to non-(list or vector) of type 'S4'”\n",
      "Warning message in summary(egmt[[c]]):\n",
      "“summary method to convert the object to data.frame is deprecated, please use as.data.frame instead.”\n",
      "Warning message in is.na(egmt[[c]]):\n",
      "“is.na() applied to non-(list or vector) of type 'S4'”\n",
      "Warning message in summary(egmt[[c]]):\n",
      "“summary method to convert the object to data.frame is deprecated, please use as.data.frame instead.”\n",
      "Warning message in is.na(egmt[[c]]):\n",
      "“is.na() applied to non-(list or vector) of type 'S4'”\n",
      "Warning message in summary(egmt[[c]]):\n",
      "“summary method to convert the object to data.frame is deprecated, please use as.data.frame instead.”\n"
     ]
    },
    {
     "name": "stdout",
     "output_type": "stream",
     "text": [
      "[1] \"preExcel writing\"\n",
      "[1] \"postExcel writing\"\n",
      "[1] \"Here we go .... :/data2/mito_lineage/output/annotation_clones/data/cd34norm/MTblacklist/DE_large/donor1/clones_4__19.DE.GeneActivity.tsv\"\n",
      "[1] \"pvalue\"         \"log2FoldChange\" \"pct.1\"          \"pct.2\"         \n",
      "[5] \"padj\"           \"ensg\"          \n",
      "[1] \"here\"\n",
      "[1] \"DEGTable\"\n",
      "[1] 3214    2\n"
     ]
    },
    {
     "name": "stderr",
     "output_type": "stream",
     "text": [
      "preparing geneSet collections...\n",
      "\n",
      "GSEA analysis...\n",
      "\n",
      "Warning message in preparePathwaysAndStats(pathways, stats, minSize, maxSize, gseaParam, :\n",
      "“There are ties in the preranked stats (0.56% of the list).\n",
      "The order of those tied genes will be arbitrary, which may produce unexpected results.”\n",
      "Warning message in preparePathwaysAndStats(pathways, stats, minSize, maxSize, gseaParam, :\n",
      "“There are duplicate gene names, fgsea may produce unexpected results.”\n",
      "leading edge analysis...\n",
      "\n",
      "done...\n",
      "\n",
      "preparing geneSet collections...\n",
      "\n",
      "GSEA analysis...\n",
      "\n",
      "Warning message in preparePathwaysAndStats(pathways, stats, minSize, maxSize, gseaParam, :\n",
      "“There are ties in the preranked stats (0.56% of the list).\n",
      "The order of those tied genes will be arbitrary, which may produce unexpected results.”\n",
      "Warning message in preparePathwaysAndStats(pathways, stats, minSize, maxSize, gseaParam, :\n",
      "“There are duplicate gene names, fgsea may produce unexpected results.”\n",
      "leading edge analysis...\n",
      "\n",
      "done...\n",
      "\n",
      "preparing geneSet collections...\n",
      "\n",
      "GSEA analysis...\n",
      "\n",
      "Warning message in preparePathwaysAndStats(pathways, stats, minSize, maxSize, gseaParam, :\n",
      "“There are ties in the preranked stats (0.56% of the list).\n",
      "The order of those tied genes will be arbitrary, which may produce unexpected results.”\n",
      "Warning message in preparePathwaysAndStats(pathways, stats, minSize, maxSize, gseaParam, :\n",
      "“There are duplicate gene names, fgsea may produce unexpected results.”\n",
      "leading edge analysis...\n",
      "\n",
      "done...\n",
      "\n",
      "Warning message in is.na(egmt[[c]]):\n",
      "“is.na() applied to non-(list or vector) of type 'S4'”\n",
      "Warning message in summary(egmt[[c]]):\n",
      "“summary method to convert the object to data.frame is deprecated, please use as.data.frame instead.”\n",
      "Warning message in is.na(egmt[[c]]):\n",
      "“is.na() applied to non-(list or vector) of type 'S4'”\n",
      "Warning message in summary(egmt[[c]]):\n",
      "“summary method to convert the object to data.frame is deprecated, please use as.data.frame instead.”\n",
      "Warning message in is.na(egmt[[c]]):\n",
      "“is.na() applied to non-(list or vector) of type 'S4'”\n",
      "Warning message in summary(egmt[[c]]):\n",
      "“summary method to convert the object to data.frame is deprecated, please use as.data.frame instead.”\n"
     ]
    },
    {
     "name": "stdout",
     "output_type": "stream",
     "text": [
      "[1] \"preExcel writing\"\n",
      "[1] \"postExcel writing\"\n",
      "[1] \"Here we go .... :/data2/mito_lineage/output/annotation_clones/data/cd34norm/MTblacklist/DE_large/donor1/clones_4__6.DE.GeneActivity.tsv\"\n",
      "[1] \"pvalue\"         \"log2FoldChange\" \"pct.1\"          \"pct.2\"         \n",
      "[5] \"padj\"           \"ensg\"          \n",
      "[1] \"here\"\n",
      "[1] \"DEGTable\"\n",
      "[1] 1200    2\n"
     ]
    },
    {
     "name": "stderr",
     "output_type": "stream",
     "text": [
      "preparing geneSet collections...\n",
      "\n",
      "GSEA analysis...\n",
      "\n",
      "Warning message in preparePathwaysAndStats(pathways, stats, minSize, maxSize, gseaParam, :\n",
      "“There are ties in the preranked stats (0.42% of the list).\n",
      "The order of those tied genes will be arbitrary, which may produce unexpected results.”\n",
      "leading edge analysis...\n",
      "\n",
      "done...\n",
      "\n",
      "preparing geneSet collections...\n",
      "\n",
      "GSEA analysis...\n",
      "\n",
      "Warning message in preparePathwaysAndStats(pathways, stats, minSize, maxSize, gseaParam, :\n",
      "“There are ties in the preranked stats (0.42% of the list).\n",
      "The order of those tied genes will be arbitrary, which may produce unexpected results.”\n",
      "leading edge analysis...\n",
      "\n",
      "done...\n",
      "\n",
      "preparing geneSet collections...\n",
      "\n",
      "GSEA analysis...\n",
      "\n",
      "Warning message in preparePathwaysAndStats(pathways, stats, minSize, maxSize, gseaParam, :\n",
      "“There are ties in the preranked stats (0.42% of the list).\n",
      "The order of those tied genes will be arbitrary, which may produce unexpected results.”\n",
      "leading edge analysis...\n",
      "\n",
      "done...\n",
      "\n",
      "Warning message in is.na(egmt[[c]]):\n",
      "“is.na() applied to non-(list or vector) of type 'S4'”\n",
      "Warning message in summary(egmt[[c]]):\n",
      "“summary method to convert the object to data.frame is deprecated, please use as.data.frame instead.”\n",
      "Warning message in is.na(egmt[[c]]):\n",
      "“is.na() applied to non-(list or vector) of type 'S4'”\n",
      "Warning message in summary(egmt[[c]]):\n",
      "“summary method to convert the object to data.frame is deprecated, please use as.data.frame instead.”\n",
      "Warning message in is.na(egmt[[c]]):\n",
      "“is.na() applied to non-(list or vector) of type 'S4'”\n",
      "Warning message in summary(egmt[[c]]):\n",
      "“summary method to convert the object to data.frame is deprecated, please use as.data.frame instead.”\n"
     ]
    },
    {
     "name": "stdout",
     "output_type": "stream",
     "text": [
      "[1] \"preExcel writing\"\n",
      "[1] \"postExcel writing\"\n",
      "[1] \"Here we go .... :/data2/mito_lineage/output/annotation_clones/data/cd34norm/MTblacklist/DE_large/donor1/clones_4__8.DE.GeneActivity.tsv\"\n",
      "[1] \"pvalue\"         \"log2FoldChange\" \"pct.1\"          \"pct.2\"         \n",
      "[5] \"padj\"           \"ensg\"          \n",
      "[1] \"here\"\n",
      "[1] \"DEGTable\"\n",
      "[1] 1514    2\n"
     ]
    },
    {
     "name": "stderr",
     "output_type": "stream",
     "text": [
      "preparing geneSet collections...\n",
      "\n",
      "GSEA analysis...\n",
      "\n",
      "Warning message in preparePathwaysAndStats(pathways, stats, minSize, maxSize, gseaParam, :\n",
      "“There are ties in the preranked stats (0.26% of the list).\n",
      "The order of those tied genes will be arbitrary, which may produce unexpected results.”\n",
      "no term enriched under specific pvalueCutoff...\n",
      "\n",
      "preparing geneSet collections...\n",
      "\n",
      "GSEA analysis...\n",
      "\n",
      "Warning message in preparePathwaysAndStats(pathways, stats, minSize, maxSize, gseaParam, :\n",
      "“There are ties in the preranked stats (0.26% of the list).\n",
      "The order of those tied genes will be arbitrary, which may produce unexpected results.”\n",
      "leading edge analysis...\n",
      "\n",
      "done...\n",
      "\n",
      "preparing geneSet collections...\n",
      "\n",
      "GSEA analysis...\n",
      "\n",
      "Warning message in preparePathwaysAndStats(pathways, stats, minSize, maxSize, gseaParam, :\n",
      "“There are ties in the preranked stats (0.26% of the list).\n",
      "The order of those tied genes will be arbitrary, which may produce unexpected results.”\n",
      "leading edge analysis...\n",
      "\n",
      "done...\n",
      "\n",
      "Warning message in is.na(egmt[[c]]):\n",
      "“is.na() applied to non-(list or vector) of type 'S4'”\n",
      "Warning message in summary(egmt[[c]]):\n",
      "“summary method to convert the object to data.frame is deprecated, please use as.data.frame instead.”\n",
      "Warning message in is.na(egmt[[c]]):\n",
      "“is.na() applied to non-(list or vector) of type 'S4'”\n",
      "Warning message in summary(egmt[[c]]):\n",
      "“summary method to convert the object to data.frame is deprecated, please use as.data.frame instead.”\n",
      "Warning message in is.na(egmt[[c]]):\n",
      "“is.na() applied to non-(list or vector) of type 'S4'”\n",
      "Warning message in summary(egmt[[c]]):\n",
      "“summary method to convert the object to data.frame is deprecated, please use as.data.frame instead.”\n"
     ]
    },
    {
     "name": "stdout",
     "output_type": "stream",
     "text": [
      "[1] \"preExcel writing\"\n",
      "[1] \"postExcel writing\"\n",
      "[1] \"Here we go .... :/data2/mito_lineage/output/annotation_clones/data/cd34norm/MTblacklist/DE_large/donor1/clones_5__10.DE.GeneActivity.tsv\"\n",
      "[1] \"pvalue\"         \"log2FoldChange\" \"pct.1\"          \"pct.2\"         \n",
      "[5] \"padj\"           \"ensg\"          \n",
      "[1] \"here\"\n",
      "[1] \"DEGTable\"\n",
      "[1] 851   2\n"
     ]
    },
    {
     "name": "stderr",
     "output_type": "stream",
     "text": [
      "preparing geneSet collections...\n",
      "\n",
      "GSEA analysis...\n",
      "\n",
      "Warning message in preparePathwaysAndStats(pathways, stats, minSize, maxSize, gseaParam, :\n",
      "“There are ties in the preranked stats (0.71% of the list).\n",
      "The order of those tied genes will be arbitrary, which may produce unexpected results.”\n",
      "no term enriched under specific pvalueCutoff...\n",
      "\n",
      "preparing geneSet collections...\n",
      "\n",
      "GSEA analysis...\n",
      "\n",
      "Warning message in preparePathwaysAndStats(pathways, stats, minSize, maxSize, gseaParam, :\n",
      "“There are ties in the preranked stats (0.71% of the list).\n",
      "The order of those tied genes will be arbitrary, which may produce unexpected results.”\n",
      "leading edge analysis...\n",
      "\n",
      "done...\n",
      "\n",
      "preparing geneSet collections...\n",
      "\n",
      "GSEA analysis...\n",
      "\n",
      "Warning message in preparePathwaysAndStats(pathways, stats, minSize, maxSize, gseaParam, :\n",
      "“There are ties in the preranked stats (0.71% of the list).\n",
      "The order of those tied genes will be arbitrary, which may produce unexpected results.”\n",
      "leading edge analysis...\n",
      "\n",
      "done...\n",
      "\n",
      "Warning message in is.na(egmt[[c]]):\n",
      "“is.na() applied to non-(list or vector) of type 'S4'”\n",
      "Warning message in summary(egmt[[c]]):\n",
      "“summary method to convert the object to data.frame is deprecated, please use as.data.frame instead.”\n",
      "Warning message in is.na(egmt[[c]]):\n",
      "“is.na() applied to non-(list or vector) of type 'S4'”\n",
      "Warning message in summary(egmt[[c]]):\n",
      "“summary method to convert the object to data.frame is deprecated, please use as.data.frame instead.”\n",
      "Warning message in is.na(egmt[[c]]):\n",
      "“is.na() applied to non-(list or vector) of type 'S4'”\n",
      "Warning message in summary(egmt[[c]]):\n",
      "“summary method to convert the object to data.frame is deprecated, please use as.data.frame instead.”\n"
     ]
    },
    {
     "name": "stdout",
     "output_type": "stream",
     "text": [
      "[1] \"preExcel writing\"\n",
      "[1] \"postExcel writing\"\n",
      "[1] \"Here we go .... :/data2/mito_lineage/output/annotation_clones/data/cd34norm/MTblacklist/DE_large/donor1/clones_5__13.DE.GeneActivity.tsv\"\n",
      "[1] \"pvalue\"         \"log2FoldChange\" \"pct.1\"          \"pct.2\"         \n",
      "[5] \"padj\"           \"ensg\"          \n",
      "[1] \"here\"\n",
      "[1] \"DEGTable\"\n",
      "[1] 1253    2\n"
     ]
    },
    {
     "name": "stderr",
     "output_type": "stream",
     "text": [
      "preparing geneSet collections...\n",
      "\n",
      "GSEA analysis...\n",
      "\n",
      "Warning message in preparePathwaysAndStats(pathways, stats, minSize, maxSize, gseaParam, :\n",
      "“There are ties in the preranked stats (0.4% of the list).\n",
      "The order of those tied genes will be arbitrary, which may produce unexpected results.”\n",
      "leading edge analysis...\n",
      "\n",
      "done...\n",
      "\n",
      "preparing geneSet collections...\n",
      "\n",
      "GSEA analysis...\n",
      "\n",
      "Warning message in preparePathwaysAndStats(pathways, stats, minSize, maxSize, gseaParam, :\n",
      "“There are ties in the preranked stats (0.4% of the list).\n",
      "The order of those tied genes will be arbitrary, which may produce unexpected results.”\n",
      "leading edge analysis...\n",
      "\n",
      "done...\n",
      "\n",
      "preparing geneSet collections...\n",
      "\n",
      "GSEA analysis...\n",
      "\n",
      "Warning message in preparePathwaysAndStats(pathways, stats, minSize, maxSize, gseaParam, :\n",
      "“There are ties in the preranked stats (0.4% of the list).\n",
      "The order of those tied genes will be arbitrary, which may produce unexpected results.”\n",
      "leading edge analysis...\n",
      "\n",
      "done...\n",
      "\n",
      "Warning message in is.na(egmt[[c]]):\n",
      "“is.na() applied to non-(list or vector) of type 'S4'”\n",
      "Warning message in summary(egmt[[c]]):\n",
      "“summary method to convert the object to data.frame is deprecated, please use as.data.frame instead.”\n",
      "Warning message in is.na(egmt[[c]]):\n",
      "“is.na() applied to non-(list or vector) of type 'S4'”\n",
      "Warning message in summary(egmt[[c]]):\n",
      "“summary method to convert the object to data.frame is deprecated, please use as.data.frame instead.”\n",
      "Warning message in is.na(egmt[[c]]):\n",
      "“is.na() applied to non-(list or vector) of type 'S4'”\n",
      "Warning message in summary(egmt[[c]]):\n",
      "“summary method to convert the object to data.frame is deprecated, please use as.data.frame instead.”\n"
     ]
    },
    {
     "name": "stdout",
     "output_type": "stream",
     "text": [
      "[1] \"preExcel writing\"\n",
      "[1] \"postExcel writing\"\n",
      "[1] \"Here we go .... :/data2/mito_lineage/output/annotation_clones/data/cd34norm/MTblacklist/DE_large/donor1/clones_5__19.DE.GeneActivity.tsv\"\n",
      "[1] \"pvalue\"         \"log2FoldChange\" \"pct.1\"          \"pct.2\"         \n",
      "[5] \"padj\"           \"ensg\"          \n",
      "[1] \"here\"\n",
      "[1] \"DEGTable\"\n",
      "[1] 2817    2\n"
     ]
    },
    {
     "name": "stderr",
     "output_type": "stream",
     "text": [
      "preparing geneSet collections...\n",
      "\n",
      "GSEA analysis...\n",
      "\n",
      "Warning message in preparePathwaysAndStats(pathways, stats, minSize, maxSize, gseaParam, :\n",
      "“There are ties in the preranked stats (0.46% of the list).\n",
      "The order of those tied genes will be arbitrary, which may produce unexpected results.”\n",
      "leading edge analysis...\n",
      "\n",
      "done...\n",
      "\n",
      "preparing geneSet collections...\n",
      "\n",
      "GSEA analysis...\n",
      "\n",
      "Warning message in preparePathwaysAndStats(pathways, stats, minSize, maxSize, gseaParam, :\n",
      "“There are ties in the preranked stats (0.46% of the list).\n",
      "The order of those tied genes will be arbitrary, which may produce unexpected results.”\n",
      "leading edge analysis...\n",
      "\n",
      "done...\n",
      "\n",
      "preparing geneSet collections...\n",
      "\n",
      "GSEA analysis...\n",
      "\n",
      "Warning message in preparePathwaysAndStats(pathways, stats, minSize, maxSize, gseaParam, :\n",
      "“There are ties in the preranked stats (0.46% of the list).\n",
      "The order of those tied genes will be arbitrary, which may produce unexpected results.”\n",
      "leading edge analysis...\n",
      "\n",
      "done...\n",
      "\n",
      "Warning message in is.na(egmt[[c]]):\n",
      "“is.na() applied to non-(list or vector) of type 'S4'”\n",
      "Warning message in summary(egmt[[c]]):\n",
      "“summary method to convert the object to data.frame is deprecated, please use as.data.frame instead.”\n",
      "Warning message in is.na(egmt[[c]]):\n",
      "“is.na() applied to non-(list or vector) of type 'S4'”\n",
      "Warning message in summary(egmt[[c]]):\n",
      "“summary method to convert the object to data.frame is deprecated, please use as.data.frame instead.”\n",
      "Warning message in is.na(egmt[[c]]):\n",
      "“is.na() applied to non-(list or vector) of type 'S4'”\n",
      "Warning message in summary(egmt[[c]]):\n",
      "“summary method to convert the object to data.frame is deprecated, please use as.data.frame instead.”\n"
     ]
    },
    {
     "name": "stdout",
     "output_type": "stream",
     "text": [
      "[1] \"preExcel writing\"\n",
      "[1] \"postExcel writing\"\n",
      "[1] \"Here we go .... :/data2/mito_lineage/output/annotation_clones/data/cd34norm/MTblacklist/DE_large/donor1/clones_5__4.DE.GeneActivity.tsv\"\n",
      "[1] \"pvalue\"         \"log2FoldChange\" \"pct.1\"          \"pct.2\"         \n",
      "[5] \"padj\"           \"ensg\"          \n",
      "[1] \"here\"\n",
      "[1] \"DEGTable\"\n",
      "[1] 1104    2\n"
     ]
    },
    {
     "name": "stderr",
     "output_type": "stream",
     "text": [
      "preparing geneSet collections...\n",
      "\n",
      "GSEA analysis...\n",
      "\n",
      "Warning message in preparePathwaysAndStats(pathways, stats, minSize, maxSize, gseaParam, :\n",
      "“There are ties in the preranked stats (0.54% of the list).\n",
      "The order of those tied genes will be arbitrary, which may produce unexpected results.”\n",
      "leading edge analysis...\n",
      "\n",
      "done...\n",
      "\n",
      "preparing geneSet collections...\n",
      "\n",
      "GSEA analysis...\n",
      "\n",
      "Warning message in preparePathwaysAndStats(pathways, stats, minSize, maxSize, gseaParam, :\n",
      "“There are ties in the preranked stats (0.54% of the list).\n",
      "The order of those tied genes will be arbitrary, which may produce unexpected results.”\n",
      "leading edge analysis...\n",
      "\n",
      "done...\n",
      "\n",
      "preparing geneSet collections...\n",
      "\n",
      "GSEA analysis...\n",
      "\n",
      "Warning message in preparePathwaysAndStats(pathways, stats, minSize, maxSize, gseaParam, :\n",
      "“There are ties in the preranked stats (0.54% of the list).\n",
      "The order of those tied genes will be arbitrary, which may produce unexpected results.”\n",
      "leading edge analysis...\n",
      "\n",
      "done...\n",
      "\n",
      "Warning message in is.na(egmt[[c]]):\n",
      "“is.na() applied to non-(list or vector) of type 'S4'”\n",
      "Warning message in summary(egmt[[c]]):\n",
      "“summary method to convert the object to data.frame is deprecated, please use as.data.frame instead.”\n",
      "Warning message in is.na(egmt[[c]]):\n",
      "“is.na() applied to non-(list or vector) of type 'S4'”\n",
      "Warning message in summary(egmt[[c]]):\n",
      "“summary method to convert the object to data.frame is deprecated, please use as.data.frame instead.”\n",
      "Warning message in is.na(egmt[[c]]):\n",
      "“is.na() applied to non-(list or vector) of type 'S4'”\n",
      "Warning message in summary(egmt[[c]]):\n",
      "“summary method to convert the object to data.frame is deprecated, please use as.data.frame instead.”\n"
     ]
    },
    {
     "name": "stdout",
     "output_type": "stream",
     "text": [
      "[1] \"preExcel writing\"\n",
      "[1] \"postExcel writing\"\n",
      "[1] \"Here we go .... :/data2/mito_lineage/output/annotation_clones/data/cd34norm/MTblacklist/DE_large/donor1/clones_5__6.DE.GeneActivity.tsv\"\n",
      "[1] \"pvalue\"         \"log2FoldChange\" \"pct.1\"          \"pct.2\"         \n",
      "[5] \"padj\"           \"ensg\"          \n",
      "[1] \"here\"\n",
      "[1] \"DEGTable\"\n",
      "[1] 604   2\n"
     ]
    },
    {
     "name": "stderr",
     "output_type": "stream",
     "text": [
      "preparing geneSet collections...\n",
      "\n",
      "GSEA analysis...\n",
      "\n",
      "Warning message in preparePathwaysAndStats(pathways, stats, minSize, maxSize, gseaParam, :\n",
      "“There are ties in the preranked stats (0.33% of the list).\n",
      "The order of those tied genes will be arbitrary, which may produce unexpected results.”\n",
      "no term enriched under specific pvalueCutoff...\n",
      "\n",
      "preparing geneSet collections...\n",
      "\n",
      "GSEA analysis...\n",
      "\n",
      "Warning message in preparePathwaysAndStats(pathways, stats, minSize, maxSize, gseaParam, :\n",
      "“There are ties in the preranked stats (0.33% of the list).\n",
      "The order of those tied genes will be arbitrary, which may produce unexpected results.”\n",
      "leading edge analysis...\n",
      "\n",
      "done...\n",
      "\n",
      "preparing geneSet collections...\n",
      "\n",
      "GSEA analysis...\n",
      "\n",
      "Warning message in preparePathwaysAndStats(pathways, stats, minSize, maxSize, gseaParam, :\n",
      "“There are ties in the preranked stats (0.33% of the list).\n",
      "The order of those tied genes will be arbitrary, which may produce unexpected results.”\n",
      "leading edge analysis...\n",
      "\n",
      "done...\n",
      "\n",
      "Warning message in is.na(egmt[[c]]):\n",
      "“is.na() applied to non-(list or vector) of type 'S4'”\n",
      "Warning message in summary(egmt[[c]]):\n",
      "“summary method to convert the object to data.frame is deprecated, please use as.data.frame instead.”\n",
      "Warning message in is.na(egmt[[c]]):\n",
      "“is.na() applied to non-(list or vector) of type 'S4'”\n",
      "Warning message in summary(egmt[[c]]):\n",
      "“summary method to convert the object to data.frame is deprecated, please use as.data.frame instead.”\n",
      "Warning message in is.na(egmt[[c]]):\n",
      "“is.na() applied to non-(list or vector) of type 'S4'”\n",
      "Warning message in summary(egmt[[c]]):\n",
      "“summary method to convert the object to data.frame is deprecated, please use as.data.frame instead.”\n"
     ]
    },
    {
     "name": "stdout",
     "output_type": "stream",
     "text": [
      "[1] \"preExcel writing\"\n",
      "[1] \"postExcel writing\"\n",
      "[1] \"Here we go .... :/data2/mito_lineage/output/annotation_clones/data/cd34norm/MTblacklist/DE_large/donor1/clones_5__8.DE.GeneActivity.tsv\"\n",
      "[1] \"pvalue\"         \"log2FoldChange\" \"pct.1\"          \"pct.2\"         \n",
      "[5] \"padj\"           \"ensg\"          \n",
      "[1] \"here\"\n",
      "[1] \"DEGTable\"\n",
      "[1] 1018    2\n"
     ]
    },
    {
     "name": "stderr",
     "output_type": "stream",
     "text": [
      "preparing geneSet collections...\n",
      "\n",
      "GSEA analysis...\n",
      "\n",
      "Warning message in preparePathwaysAndStats(pathways, stats, minSize, maxSize, gseaParam, :\n",
      "“There are ties in the preranked stats (0.39% of the list).\n",
      "The order of those tied genes will be arbitrary, which may produce unexpected results.”\n",
      "leading edge analysis...\n",
      "\n",
      "done...\n",
      "\n",
      "preparing geneSet collections...\n",
      "\n",
      "GSEA analysis...\n",
      "\n",
      "Warning message in preparePathwaysAndStats(pathways, stats, minSize, maxSize, gseaParam, :\n",
      "“There are ties in the preranked stats (0.39% of the list).\n",
      "The order of those tied genes will be arbitrary, which may produce unexpected results.”\n",
      "leading edge analysis...\n",
      "\n",
      "done...\n",
      "\n",
      "preparing geneSet collections...\n",
      "\n",
      "GSEA analysis...\n",
      "\n",
      "Warning message in preparePathwaysAndStats(pathways, stats, minSize, maxSize, gseaParam, :\n",
      "“There are ties in the preranked stats (0.39% of the list).\n",
      "The order of those tied genes will be arbitrary, which may produce unexpected results.”\n",
      "leading edge analysis...\n",
      "\n",
      "done...\n",
      "\n",
      "Warning message in is.na(egmt[[c]]):\n",
      "“is.na() applied to non-(list or vector) of type 'S4'”\n",
      "Warning message in summary(egmt[[c]]):\n",
      "“summary method to convert the object to data.frame is deprecated, please use as.data.frame instead.”\n",
      "Warning message in is.na(egmt[[c]]):\n",
      "“is.na() applied to non-(list or vector) of type 'S4'”\n",
      "Warning message in summary(egmt[[c]]):\n",
      "“summary method to convert the object to data.frame is deprecated, please use as.data.frame instead.”\n",
      "Warning message in is.na(egmt[[c]]):\n",
      "“is.na() applied to non-(list or vector) of type 'S4'”\n",
      "Warning message in summary(egmt[[c]]):\n",
      "“summary method to convert the object to data.frame is deprecated, please use as.data.frame instead.”\n"
     ]
    },
    {
     "name": "stdout",
     "output_type": "stream",
     "text": [
      "[1] \"preExcel writing\"\n",
      "[1] \"postExcel writing\"\n",
      "[1] \"Here we go .... :/data2/mito_lineage/output/annotation_clones/data/cd34norm/MTblacklist/DE_large/donor1/clones_6__10.DE.GeneActivity.tsv\"\n",
      "[1] \"pvalue\"         \"log2FoldChange\" \"pct.1\"          \"pct.2\"         \n",
      "[5] \"padj\"           \"ensg\"          \n",
      "[1] \"here\"\n",
      "[1] \"DEGTable\"\n",
      "[1] 1055    2\n"
     ]
    },
    {
     "name": "stderr",
     "output_type": "stream",
     "text": [
      "preparing geneSet collections...\n",
      "\n",
      "GSEA analysis...\n",
      "\n",
      "Warning message in preparePathwaysAndStats(pathways, stats, minSize, maxSize, gseaParam, :\n",
      "“There are ties in the preranked stats (0.47% of the list).\n",
      "The order of those tied genes will be arbitrary, which may produce unexpected results.”\n",
      "no term enriched under specific pvalueCutoff...\n",
      "\n",
      "preparing geneSet collections...\n",
      "\n",
      "GSEA analysis...\n",
      "\n",
      "Warning message in preparePathwaysAndStats(pathways, stats, minSize, maxSize, gseaParam, :\n",
      "“There are ties in the preranked stats (0.47% of the list).\n",
      "The order of those tied genes will be arbitrary, which may produce unexpected results.”\n",
      "leading edge analysis...\n",
      "\n",
      "done...\n",
      "\n",
      "preparing geneSet collections...\n",
      "\n",
      "GSEA analysis...\n",
      "\n",
      "Warning message in preparePathwaysAndStats(pathways, stats, minSize, maxSize, gseaParam, :\n",
      "“There are ties in the preranked stats (0.47% of the list).\n",
      "The order of those tied genes will be arbitrary, which may produce unexpected results.”\n",
      "leading edge analysis...\n",
      "\n",
      "done...\n",
      "\n",
      "Warning message in is.na(egmt[[c]]):\n",
      "“is.na() applied to non-(list or vector) of type 'S4'”\n",
      "Warning message in summary(egmt[[c]]):\n",
      "“summary method to convert the object to data.frame is deprecated, please use as.data.frame instead.”\n",
      "Warning message in is.na(egmt[[c]]):\n",
      "“is.na() applied to non-(list or vector) of type 'S4'”\n",
      "Warning message in summary(egmt[[c]]):\n",
      "“summary method to convert the object to data.frame is deprecated, please use as.data.frame instead.”\n",
      "Warning message in is.na(egmt[[c]]):\n",
      "“is.na() applied to non-(list or vector) of type 'S4'”\n",
      "Warning message in summary(egmt[[c]]):\n",
      "“summary method to convert the object to data.frame is deprecated, please use as.data.frame instead.”\n"
     ]
    },
    {
     "name": "stdout",
     "output_type": "stream",
     "text": [
      "[1] \"preExcel writing\"\n",
      "[1] \"postExcel writing\"\n",
      "[1] \"Here we go .... :/data2/mito_lineage/output/annotation_clones/data/cd34norm/MTblacklist/DE_large/donor1/clones_6__13.DE.GeneActivity.tsv\"\n",
      "[1] \"pvalue\"         \"log2FoldChange\" \"pct.1\"          \"pct.2\"         \n",
      "[5] \"padj\"           \"ensg\"          \n",
      "[1] \"here\"\n",
      "[1] \"DEGTable\"\n",
      "[1] 1424    2\n"
     ]
    },
    {
     "name": "stderr",
     "output_type": "stream",
     "text": [
      "preparing geneSet collections...\n",
      "\n",
      "GSEA analysis...\n",
      "\n",
      "Warning message in preparePathwaysAndStats(pathways, stats, minSize, maxSize, gseaParam, :\n",
      "“There are ties in the preranked stats (0.21% of the list).\n",
      "The order of those tied genes will be arbitrary, which may produce unexpected results.”\n",
      "leading edge analysis...\n",
      "\n",
      "done...\n",
      "\n",
      "preparing geneSet collections...\n",
      "\n",
      "GSEA analysis...\n",
      "\n",
      "Warning message in preparePathwaysAndStats(pathways, stats, minSize, maxSize, gseaParam, :\n",
      "“There are ties in the preranked stats (0.21% of the list).\n",
      "The order of those tied genes will be arbitrary, which may produce unexpected results.”\n",
      "leading edge analysis...\n",
      "\n",
      "done...\n",
      "\n",
      "preparing geneSet collections...\n",
      "\n",
      "GSEA analysis...\n",
      "\n",
      "Warning message in preparePathwaysAndStats(pathways, stats, minSize, maxSize, gseaParam, :\n",
      "“There are ties in the preranked stats (0.21% of the list).\n",
      "The order of those tied genes will be arbitrary, which may produce unexpected results.”\n",
      "leading edge analysis...\n",
      "\n",
      "done...\n",
      "\n",
      "Warning message in is.na(egmt[[c]]):\n",
      "“is.na() applied to non-(list or vector) of type 'S4'”\n",
      "Warning message in summary(egmt[[c]]):\n",
      "“summary method to convert the object to data.frame is deprecated, please use as.data.frame instead.”\n",
      "Warning message in is.na(egmt[[c]]):\n",
      "“is.na() applied to non-(list or vector) of type 'S4'”\n",
      "Warning message in summary(egmt[[c]]):\n",
      "“summary method to convert the object to data.frame is deprecated, please use as.data.frame instead.”\n",
      "Warning message in is.na(egmt[[c]]):\n",
      "“is.na() applied to non-(list or vector) of type 'S4'”\n",
      "Warning message in summary(egmt[[c]]):\n",
      "“summary method to convert the object to data.frame is deprecated, please use as.data.frame instead.”\n"
     ]
    },
    {
     "name": "stdout",
     "output_type": "stream",
     "text": [
      "[1] \"preExcel writing\"\n",
      "[1] \"postExcel writing\"\n",
      "[1] \"Here we go .... :/data2/mito_lineage/output/annotation_clones/data/cd34norm/MTblacklist/DE_large/donor1/clones_6__19.DE.GeneActivity.tsv\"\n",
      "[1] \"pvalue\"         \"log2FoldChange\" \"pct.1\"          \"pct.2\"         \n",
      "[5] \"padj\"           \"ensg\"          \n",
      "[1] \"here\"\n",
      "[1] \"DEGTable\"\n",
      "[1] 2965    2\n"
     ]
    },
    {
     "name": "stderr",
     "output_type": "stream",
     "text": [
      "preparing geneSet collections...\n",
      "\n",
      "GSEA analysis...\n",
      "\n",
      "Warning message in preparePathwaysAndStats(pathways, stats, minSize, maxSize, gseaParam, :\n",
      "“There are ties in the preranked stats (0.37% of the list).\n",
      "The order of those tied genes will be arbitrary, which may produce unexpected results.”\n",
      "leading edge analysis...\n",
      "\n",
      "done...\n",
      "\n",
      "preparing geneSet collections...\n",
      "\n",
      "GSEA analysis...\n",
      "\n",
      "Warning message in preparePathwaysAndStats(pathways, stats, minSize, maxSize, gseaParam, :\n",
      "“There are ties in the preranked stats (0.37% of the list).\n",
      "The order of those tied genes will be arbitrary, which may produce unexpected results.”\n",
      "leading edge analysis...\n",
      "\n",
      "done...\n",
      "\n",
      "preparing geneSet collections...\n",
      "\n",
      "GSEA analysis...\n",
      "\n",
      "Warning message in preparePathwaysAndStats(pathways, stats, minSize, maxSize, gseaParam, :\n",
      "“There are ties in the preranked stats (0.37% of the list).\n",
      "The order of those tied genes will be arbitrary, which may produce unexpected results.”\n",
      "leading edge analysis...\n",
      "\n",
      "done...\n",
      "\n",
      "Warning message in is.na(egmt[[c]]):\n",
      "“is.na() applied to non-(list or vector) of type 'S4'”\n",
      "Warning message in summary(egmt[[c]]):\n",
      "“summary method to convert the object to data.frame is deprecated, please use as.data.frame instead.”\n",
      "Warning message in is.na(egmt[[c]]):\n",
      "“is.na() applied to non-(list or vector) of type 'S4'”\n",
      "Warning message in summary(egmt[[c]]):\n",
      "“summary method to convert the object to data.frame is deprecated, please use as.data.frame instead.”\n",
      "Warning message in is.na(egmt[[c]]):\n",
      "“is.na() applied to non-(list or vector) of type 'S4'”\n",
      "Warning message in summary(egmt[[c]]):\n",
      "“summary method to convert the object to data.frame is deprecated, please use as.data.frame instead.”\n"
     ]
    },
    {
     "name": "stdout",
     "output_type": "stream",
     "text": [
      "[1] \"preExcel writing\"\n",
      "[1] \"postExcel writing\"\n",
      "[1] \"Here we go .... :/data2/mito_lineage/output/annotation_clones/data/cd34norm/MTblacklist/DE_large/donor1/clones_8__10.DE.GeneActivity.tsv\"\n",
      "[1] \"pvalue\"         \"log2FoldChange\" \"pct.1\"          \"pct.2\"         \n",
      "[5] \"padj\"           \"ensg\"          \n",
      "[1] \"here\"\n",
      "[1] \"DEGTable\"\n",
      "[1] 1360    2\n"
     ]
    },
    {
     "name": "stderr",
     "output_type": "stream",
     "text": [
      "preparing geneSet collections...\n",
      "\n",
      "GSEA analysis...\n",
      "\n",
      "Warning message in preparePathwaysAndStats(pathways, stats, minSize, maxSize, gseaParam, :\n",
      "“There are ties in the preranked stats (0.37% of the list).\n",
      "The order of those tied genes will be arbitrary, which may produce unexpected results.”\n",
      "leading edge analysis...\n",
      "\n",
      "done...\n",
      "\n",
      "preparing geneSet collections...\n",
      "\n"
     ]
    }
   ],
   "source": [
    "########################################################################################\n",
    "##  RUN gsea_ex1\n",
    "########################################################################################\n",
    "for (d in 0:n_donors-1){\n",
    "    curr.DE_out.path <- file.path(DE_out, paste0(\"donor\", d))\n",
    "    curr.export.path <- file.path(outdir,paste0(\"donor\", d, \"/\"))\n",
    "    dir.create(curr.export.path)\n",
    "    gsea_ex1(DE_out_path = curr.DE_out.path, export_path = curr.export.path, gene_name = gene_name,\n",
    "         convert = convert, GSEA_set = GSEA_set, minGSSize = minGSSize,\n",
    "         pAdjustMethod = pAdjustMethod,  pvalueCutoff = pvalueCutoff,\n",
    "         export = export, ShowTop = ShowTop,   \n",
    "         TopN = TopN)\n",
    "    }\n"
   ]
  },
  {
   "cell_type": "code",
   "execution_count": null,
   "id": "c8624952",
   "metadata": {},
   "outputs": [],
   "source": [
    "curr.export.path"
   ]
  },
  {
   "cell_type": "code",
   "execution_count": null,
   "id": "686d6487",
   "metadata": {},
   "outputs": [],
   "source": []
  },
  {
   "cell_type": "markdown",
   "id": "d0c01837",
   "metadata": {},
   "source": [
    "### "
   ]
  }
 ],
 "metadata": {
  "celltoolbar": "Tags",
  "kernelspec": {
   "display_name": "R",
   "language": "R",
   "name": "ir"
  },
  "language_info": {
   "codemirror_mode": "r",
   "file_extension": ".r",
   "mimetype": "text/x-r-source",
   "name": "R",
   "pygments_lexer": "r",
   "version": "4.1.1"
  }
 },
 "nbformat": 4,
 "nbformat_minor": 5
}
