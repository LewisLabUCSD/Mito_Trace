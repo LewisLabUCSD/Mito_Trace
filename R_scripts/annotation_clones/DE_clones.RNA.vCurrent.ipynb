{
 "cells": [
  {
   "cell_type": "code",
   "execution_count": 1,
   "id": "4246cc89",
   "metadata": {
    "tags": [
     "parameters"
    ]
   },
   "outputs": [],
   "source": [
    "se_f = \"/data2/mito_lineage/output/annotation_clones/data/cd34norm/MTblacklist/SE.rds\"\n",
    "outdir = \"/data2/mito_lineage/output/annotation_clones/data/cd34norm/MTblacklist/DE_large\"\n",
    "n_donors = 4\n",
    "top_clones = 4\n",
    "genome = \"/data2/mito_lineage/data/external/GRCh38_MT_blacklist/fasta/genome.fa\"\n"
   ]
  },
  {
   "cell_type": "code",
   "execution_count": 2,
   "id": "5d9ca2e3",
   "metadata": {
    "scrolled": true
   },
   "outputs": [
    {
     "name": "stderr",
     "output_type": "stream",
     "text": [
      "Attaching SeuratObject\n",
      "\n",
      "\n",
      "Attaching package: ‘cowplot’\n",
      "\n",
      "\n",
      "The following object is masked from ‘package:patchwork’:\n",
      "\n",
      "    align_plots\n",
      "\n",
      "\n",
      "\n",
      "Attaching package: ‘dplyr’\n",
      "\n",
      "\n",
      "The following objects are masked from ‘package:stats’:\n",
      "\n",
      "    filter, lag\n",
      "\n",
      "\n",
      "The following objects are masked from ‘package:base’:\n",
      "\n",
      "    intersect, setdiff, setequal, union\n",
      "\n",
      "\n"
     ]
    }
   ],
   "source": [
    "library(Seurat)\n",
    "library(Signac)\n",
    "library(ggplot2)\n",
    "library(patchwork)\n",
    "set.seed(1234)\n",
    "library(magrittr)\n",
    "library(cowplot)\n",
    "library(metap)\n",
    "library(dplyr)\n",
    "library(future)"
   ]
  },
  {
   "cell_type": "markdown",
   "id": "e8a7d7b5",
   "metadata": {},
   "source": [
    "## Import seurat object"
   ]
  },
  {
   "cell_type": "code",
   "execution_count": 3,
   "id": "c0710306",
   "metadata": {},
   "outputs": [],
   "source": [
    "se = readRDS(se_f)"
   ]
  },
  {
   "cell_type": "code",
   "execution_count": 4,
   "id": "1ba1b233",
   "metadata": {},
   "outputs": [
    {
     "data": {
      "text/plain": [
       "An object of class Seurat \n",
       "169545 features across 18492 samples within 2 assays \n",
       "Active assay: RNA (20010 features, 0 variable features)\n",
       " 1 other assay present: ATAC\n",
       " 2 dimensional reductions calculated: integrated_lsi, umap"
      ]
     },
     "metadata": {},
     "output_type": "display_data"
    }
   ],
   "source": [
    "se"
   ]
  },
  {
   "cell_type": "code",
   "execution_count": 5,
   "id": "29258a1f",
   "metadata": {},
   "outputs": [
    {
     "data": {
      "text/html": [
       "<table class=\"dataframe\">\n",
       "<caption>A data.frame: 18492 × 32</caption>\n",
       "<thead>\n",
       "\t<tr><th></th><th scope=col>orig.ident</th><th scope=col>nCount_ATAC</th><th scope=col>nFeature_ATAC</th><th scope=col>total</th><th scope=col>duplicate</th><th scope=col>chimeric</th><th scope=col>unmapped</th><th scope=col>lowmapq</th><th scope=col>mitochondrial</th><th scope=col>passed_filters</th><th scope=col>⋯</th><th scope=col>seurat_clusters</th><th scope=col>nCount_RNA</th><th scope=col>nFeature_RNA</th><th scope=col>ID</th><th scope=col>Row.names</th><th scope=col>ID.x</th><th scope=col>lineage</th><th scope=col>donor</th><th scope=col>condition</th><th scope=col>ID.y</th></tr>\n",
       "\t<tr><th></th><th scope=col>&lt;chr&gt;</th><th scope=col>&lt;dbl&gt;</th><th scope=col>&lt;int&gt;</th><th scope=col>&lt;dbl&gt;</th><th scope=col>&lt;dbl&gt;</th><th scope=col>&lt;dbl&gt;</th><th scope=col>&lt;dbl&gt;</th><th scope=col>&lt;dbl&gt;</th><th scope=col>&lt;dbl&gt;</th><th scope=col>&lt;dbl&gt;</th><th scope=col>⋯</th><th scope=col>&lt;fct&gt;</th><th scope=col>&lt;dbl&gt;</th><th scope=col>&lt;int&gt;</th><th scope=col>&lt;chr&gt;</th><th scope=col>&lt;I&lt;chr&gt;&gt;</th><th scope=col>&lt;chr&gt;</th><th scope=col>&lt;fct&gt;</th><th scope=col>&lt;fct&gt;</th><th scope=col>&lt;fct&gt;</th><th scope=col>&lt;chr&gt;</th></tr>\n",
       "</thead>\n",
       "<tbody>\n",
       "\t<tr><th scope=row>Control_AAACGAAAGAGGTCCA-1</th><td>Control</td><td>1357</td><td>1357</td><td> 16929</td><td> 2587</td><td> 58</td><td> 70</td><td> 674</td><td> 9629</td><td> 3911</td><td>⋯</td><td>5 </td><td>1673</td><td>1406</td><td>Control_AAACGAAAGAGGTCCA-1</td><td>Control_AAACGAAAGAGGTCCA-1</td><td>AAACGAAAGAGGTCCA-1_Control</td><td>9   </td><td>3   </td><td>Control</td><td>Control_AAACGAAAGAGGTCCA-1</td></tr>\n",
       "\t<tr><th scope=row>Control_AAACGAAAGCGATACG-1</th><td>Control</td><td>3505</td><td>3505</td><td> 45359</td><td>10546</td><td>184</td><td>184</td><td>2302</td><td>22247</td><td> 9896</td><td>⋯</td><td>0 </td><td>4315</td><td>3063</td><td>Control_AAACGAAAGCGATACG-1</td><td>Control_AAACGAAAGCGATACG-1</td><td>AAACGAAAGCGATACG-1_Control</td><td>0   </td><td>1   </td><td>Control</td><td>Control_AAACGAAAGCGATACG-1</td></tr>\n",
       "\t<tr><th scope=row>Control_AAACGAAAGTCGTGAG-1</th><td>Control</td><td> 994</td><td> 994</td><td> 10177</td><td> 2450</td><td> 48</td><td> 60</td><td> 657</td><td> 2135</td><td> 4827</td><td>⋯</td><td>5 </td><td>1731</td><td>1414</td><td>Control_AAACGAAAGTCGTGAG-1</td><td>Control_AAACGAAAGTCGTGAG-1</td><td>AAACGAAAGTCGTGAG-1_Control</td><td>8   </td><td>0   </td><td>Control</td><td>Control_AAACGAAAGTCGTGAG-1</td></tr>\n",
       "\t<tr><th scope=row>Control_AAACGAACAATAGTGA-1</th><td>Control</td><td>2687</td><td>2687</td><td> 22452</td><td> 4364</td><td>100</td><td> 83</td><td> 897</td><td> 9233</td><td> 7775</td><td>⋯</td><td>0 </td><td>3113</td><td>2340</td><td>Control_AAACGAACAATAGTGA-1</td><td>Control_AAACGAACAATAGTGA-1</td><td>AAACGAACAATAGTGA-1_Control</td><td>11  </td><td>3   </td><td>Control</td><td>Control_AAACGAACAATAGTGA-1</td></tr>\n",
       "\t<tr><th scope=row>Control_AAACGAACACAATAAG-1</th><td>Control</td><td>1184</td><td>1184</td><td> 11763</td><td> 2003</td><td> 43</td><td> 57</td><td> 680</td><td> 5547</td><td> 3433</td><td>⋯</td><td>5 </td><td>1559</td><td>1394</td><td>Control_AAACGAACACAATAAG-1</td><td>Control_AAACGAACACAATAAG-1</td><td>AAACGAACACAATAAG-1_Control</td><td>22  </td><td>0   </td><td>Control</td><td>Control_AAACGAACACAATAAG-1</td></tr>\n",
       "\t<tr><th scope=row>Control_AAACGAACACTGATAC-1</th><td>Control</td><td> 954</td><td> 954</td><td>  9449</td><td> 1971</td><td> 59</td><td> 21</td><td> 489</td><td> 3785</td><td> 3124</td><td>⋯</td><td>2 </td><td>1370</td><td>1207</td><td>Control_AAACGAACACTGATAC-1</td><td>Control_AAACGAACACTGATAC-1</td><td>AAACGAACACTGATAC-1_Control</td><td>11  </td><td>2   </td><td>Control</td><td>Control_AAACGAACACTGATAC-1</td></tr>\n",
       "\t<tr><th scope=row>Control_AAACGAACAGTAACCT-1</th><td>Control</td><td> 693</td><td> 693</td><td>  6196</td><td> 1097</td><td> 19</td><td> 17</td><td> 288</td><td> 2635</td><td> 2140</td><td>⋯</td><td>8 </td><td>1018</td><td> 939</td><td>Control_AAACGAACAGTAACCT-1</td><td>Control_AAACGAACAGTAACCT-1</td><td>AAACGAACAGTAACCT-1_Control</td><td>34  </td><td>2   </td><td>Control</td><td>Control_AAACGAACAGTAACCT-1</td></tr>\n",
       "\t<tr><th scope=row>Control_AAACGAACATCGTGAT-1</th><td>Control</td><td>6800</td><td>6800</td><td>100024</td><td>36721</td><td>588</td><td>531</td><td>5317</td><td>36828</td><td>20039</td><td>⋯</td><td>12</td><td>8645</td><td>5001</td><td>Control_AAACGAACATCGTGAT-1</td><td>Control_AAACGAACATCGTGAT-1</td><td>AAACGAACATCGTGAT-1_Control</td><td>2   </td><td>3   </td><td>Control</td><td>Control_AAACGAACATCGTGAT-1</td></tr>\n",
       "\t<tr><th scope=row>Control_AAACGAAGTAACGGTG-1</th><td>Control</td><td>1074</td><td>1074</td><td>  8454</td><td> 1950</td><td> 24</td><td> 33</td><td> 354</td><td> 3729</td><td> 2364</td><td>⋯</td><td>7 </td><td>1005</td><td> 905</td><td>Control_AAACGAAGTAACGGTG-1</td><td>Control_AAACGAAGTAACGGTG-1</td><td>AAACGAAGTAACGGTG-1_Control</td><td>36  </td><td>3   </td><td>Control</td><td>Control_AAACGAAGTAACGGTG-1</td></tr>\n",
       "\t<tr><th scope=row>Control_AAACGAAGTAAGTCTC-1</th><td>Control</td><td>1262</td><td>1262</td><td>  7684</td><td> 1420</td><td> 36</td><td> 23</td><td> 488</td><td> 1787</td><td> 3930</td><td>⋯</td><td>13</td><td>1688</td><td>1452</td><td>Control_AAACGAAGTAAGTCTC-1</td><td>Control_AAACGAAGTAAGTCTC-1</td><td>AAACGAAGTAAGTCTC-1_Control</td><td>52  </td><td>0   </td><td>Control</td><td>Control_AAACGAAGTAAGTCTC-1</td></tr>\n",
       "\t<tr><th scope=row>Control_AAACGAAGTACCAAGG-1</th><td>Control</td><td>3936</td><td>3936</td><td> 27865</td><td> 7135</td><td>126</td><td>131</td><td>1330</td><td> 9549</td><td> 9594</td><td>⋯</td><td>12</td><td>4544</td><td>3265</td><td>Control_AAACGAAGTACCAAGG-1</td><td>Control_AAACGAAGTACCAAGG-1</td><td>AAACGAAGTACCAAGG-1_Control</td><td>15  </td><td>1   </td><td>Control</td><td>Control_AAACGAAGTACCAAGG-1</td></tr>\n",
       "\t<tr><th scope=row>Control_AAACGAAGTCCCGTGA-1</th><td>Control</td><td>4425</td><td>4425</td><td> 31805</td><td> 8689</td><td>178</td><td>135</td><td>1649</td><td> 7738</td><td>13416</td><td>⋯</td><td>9 </td><td>5971</td><td>3996</td><td>Control_AAACGAAGTCCCGTGA-1</td><td>Control_AAACGAAGTCCCGTGA-1</td><td>AAACGAAGTCCCGTGA-1_Control</td><td>21  </td><td>2   </td><td>Control</td><td>Control_AAACGAAGTCCCGTGA-1</td></tr>\n",
       "\t<tr><th scope=row>Control_AAACGAAGTGGATTCT-1</th><td>Control</td><td> 805</td><td> 805</td><td>  9518</td><td> 1121</td><td> 32</td><td> 37</td><td> 330</td><td> 5983</td><td> 2015</td><td>⋯</td><td>5 </td><td> 853</td><td> 780</td><td>Control_AAACGAAGTGGATTCT-1</td><td>Control_AAACGAAGTGGATTCT-1</td><td>AAACGAAGTGGATTCT-1_Control</td><td>5   </td><td>0   </td><td>Control</td><td>Control_AAACGAAGTGGATTCT-1</td></tr>\n",
       "\t<tr><th scope=row>Control_AAACGAATCGAGCGCT-1</th><td>Control</td><td>1892</td><td>1892</td><td> 11456</td><td> 2558</td><td> 61</td><td> 49</td><td> 687</td><td> 3476</td><td> 4625</td><td>⋯</td><td>0 </td><td>2089</td><td>1779</td><td>Control_AAACGAATCGAGCGCT-1</td><td>Control_AAACGAATCGAGCGCT-1</td><td>AAACGAATCGAGCGCT-1_Control</td><td>25  </td><td>3   </td><td>Control</td><td>Control_AAACGAATCGAGCGCT-1</td></tr>\n",
       "\t<tr><th scope=row>Control_AAACGAATCGCAACTA-1</th><td>Control</td><td>6272</td><td>6272</td><td> 56262</td><td>15793</td><td>214</td><td>374</td><td>3523</td><td>19210</td><td>17148</td><td>⋯</td><td>1 </td><td>7970</td><td>4809</td><td>Control_AAACGAATCGCAACTA-1</td><td>Control_AAACGAATCGCAACTA-1</td><td>AAACGAATCGCAACTA-1_Control</td><td>5   </td><td>0   </td><td>Control</td><td>Control_AAACGAATCGCAACTA-1</td></tr>\n",
       "\t<tr><th scope=row>Control_AAACGAATCGCGCTGA-1</th><td>Control</td><td> 614</td><td> 614</td><td>  6366</td><td>  747</td><td> 30</td><td> 20</td><td> 306</td><td> 3521</td><td> 1742</td><td>⋯</td><td>5 </td><td> 743</td><td> 690</td><td>Control_AAACGAATCGCGCTGA-1</td><td>Control_AAACGAATCGCGCTGA-1</td><td>AAACGAATCGCGCTGA-1_Control</td><td>0   </td><td>3   </td><td>Control</td><td>Control_AAACGAATCGCGCTGA-1</td></tr>\n",
       "\t<tr><th scope=row>Control_AAACTCGAGATTACGA-1</th><td>Control</td><td>1763</td><td>1763</td><td> 22032</td><td> 3419</td><td> 83</td><td> 85</td><td>1085</td><td>11844</td><td> 5516</td><td>⋯</td><td>3 </td><td>2362</td><td>1974</td><td>Control_AAACTCGAGATTACGA-1</td><td>Control_AAACTCGAGATTACGA-1</td><td>AAACTCGAGATTACGA-1_Control</td><td>36  </td><td>3   </td><td>Control</td><td>Control_AAACTCGAGATTACGA-1</td></tr>\n",
       "\t<tr><th scope=row>Control_AAACTCGCAAGACTTC-1</th><td>Control</td><td> 402</td><td> 402</td><td>  5303</td><td>  728</td><td>  8</td><td> 18</td><td> 232</td><td> 2874</td><td> 1443</td><td>⋯</td><td>8 </td><td> 697</td><td> 654</td><td>Control_AAACTCGCAAGACTTC-1</td><td>Control_AAACTCGCAAGACTTC-1</td><td>AAACTCGCAAGACTTC-1_Control</td><td>0   </td><td>0   </td><td>Control</td><td>Control_AAACTCGCAAGACTTC-1</td></tr>\n",
       "\t<tr><th scope=row>Control_AAACTCGCACAAGGGT-1</th><td>Control</td><td> 336</td><td> 336</td><td> 18623</td><td>  982</td><td>  9</td><td> 91</td><td> 510</td><td>15503</td><td> 1528</td><td>⋯</td><td>10</td><td> 663</td><td> 616</td><td>Control_AAACTCGCACAAGGGT-1</td><td>Control_AAACTCGCACAAGGGT-1</td><td>AAACTCGCACAAGGGT-1_Control</td><td>1   </td><td>1   </td><td>Control</td><td>Control_AAACTCGCACAAGGGT-1</td></tr>\n",
       "\t<tr><th scope=row>Control_AAACTCGCACCTCGTT-1</th><td>Control</td><td>3499</td><td>3499</td><td> 30543</td><td> 6297</td><td>148</td><td>239</td><td>1359</td><td>12689</td><td> 9811</td><td>⋯</td><td>0 </td><td>4338</td><td>3121</td><td>Control_AAACTCGCACCTCGTT-1</td><td>Control_AAACTCGCACCTCGTT-1</td><td>AAACTCGCACCTCGTT-1_Control</td><td>5   </td><td>1   </td><td>Control</td><td>Control_AAACTCGCACCTCGTT-1</td></tr>\n",
       "\t<tr><th scope=row>Control_AAACTCGCACTTGCGG-1</th><td>Control</td><td> 631</td><td> 631</td><td>  7038</td><td>  991</td><td> 27</td><td> 31</td><td> 299</td><td> 3787</td><td> 1903</td><td>⋯</td><td>7 </td><td> 799</td><td> 726</td><td>Control_AAACTCGCACTTGCGG-1</td><td>Control_AAACTCGCACTTGCGG-1</td><td>AAACTCGCACTTGCGG-1_Control</td><td>13  </td><td>2   </td><td>Control</td><td>Control_AAACTCGCACTTGCGG-1</td></tr>\n",
       "\t<tr><th scope=row>Control_AAACTCGCATCGCCTT-1</th><td>Control</td><td>1469</td><td>1469</td><td> 13537</td><td> 3614</td><td> 56</td><td> 90</td><td> 777</td><td> 3050</td><td> 5950</td><td>⋯</td><td>8 </td><td>2427</td><td>1934</td><td>Control_AAACTCGCATCGCCTT-1</td><td>Control_AAACTCGCATCGCCTT-1</td><td>AAACTCGCATCGCCTT-1_Control</td><td>52  </td><td>0   </td><td>Control</td><td>Control_AAACTCGCATCGCCTT-1</td></tr>\n",
       "\t<tr><th scope=row>Control_AAACTCGCATGTGGGA-1</th><td>Control</td><td>3349</td><td>3349</td><td> 48037</td><td> 8932</td><td>171</td><td>241</td><td>1618</td><td>26241</td><td>10834</td><td>⋯</td><td>2 </td><td>4880</td><td>3364</td><td>Control_AAACTCGCATGTGGGA-1</td><td>Control_AAACTCGCATGTGGGA-1</td><td>AAACTCGCATGTGGGA-1_Control</td><td>8   </td><td>2   </td><td>Control</td><td>Control_AAACTCGCATGTGGGA-1</td></tr>\n",
       "\t<tr><th scope=row>Control_AAACTCGGTATCCTTT-1</th><td>Control</td><td>2525</td><td>2525</td><td> 21479</td><td> 7157</td><td>101</td><td>159</td><td>1220</td><td> 2182</td><td>10660</td><td>⋯</td><td>14</td><td>5227</td><td>3582</td><td>Control_AAACTCGGTATCCTTT-1</td><td>Control_AAACTCGGTATCCTTT-1</td><td>AAACTCGGTATCCTTT-1_Control</td><td>14  </td><td>0   </td><td>Control</td><td>Control_AAACTCGGTATCCTTT-1</td></tr>\n",
       "\t<tr><th scope=row>Control_AAACTCGGTGCCCTAG-1</th><td>Control</td><td>3414</td><td>3414</td><td> 32698</td><td> 7966</td><td>110</td><td>187</td><td>1479</td><td>13991</td><td> 8965</td><td>⋯</td><td>0 </td><td>4218</td><td>3110</td><td>Control_AAACTCGGTGCCCTAG-1</td><td>Control_AAACTCGGTGCCCTAG-1</td><td>AAACTCGGTGCCCTAG-1_Control</td><td>6   </td><td>1   </td><td>Control</td><td>Control_AAACTCGGTGCCCTAG-1</td></tr>\n",
       "\t<tr><th scope=row>Control_AAACTCGGTGTAGGAC-1</th><td>Control</td><td> 517</td><td> 517</td><td>  3157</td><td>  501</td><td>  9</td><td> 12</td><td> 201</td><td>  977</td><td> 1457</td><td>⋯</td><td>11</td><td> 607</td><td> 572</td><td>Control_AAACTCGGTGTAGGAC-1</td><td>Control_AAACTCGGTGTAGGAC-1</td><td>NA                        </td><td>None</td><td>None</td><td>None   </td><td>Control_AAACTCGGTGTAGGAC-1</td></tr>\n",
       "\t<tr><th scope=row>Control_AAACTCGTCACTAGCA-1</th><td>Control</td><td>1571</td><td>1571</td><td> 30764</td><td> 4287</td><td> 64</td><td>125</td><td>1018</td><td>19274</td><td> 5996</td><td>⋯</td><td>5 </td><td>2275</td><td>1799</td><td>Control_AAACTCGTCACTAGCA-1</td><td>Control_AAACTCGTCACTAGCA-1</td><td>AAACTCGTCACTAGCA-1_Control</td><td>22  </td><td>1   </td><td>Control</td><td>Control_AAACTCGTCACTAGCA-1</td></tr>\n",
       "\t<tr><th scope=row>Control_AAACTCGTCGAGTGTT-1</th><td>Control</td><td>2715</td><td>2715</td><td> 29393</td><td> 6514</td><td>144</td><td>188</td><td>1598</td><td>10615</td><td>10334</td><td>⋯</td><td>8 </td><td>4689</td><td>3342</td><td>Control_AAACTCGTCGAGTGTT-1</td><td>Control_AAACTCGTCGAGTGTT-1</td><td>AAACTCGTCGAGTGTT-1_Control</td><td>31  </td><td>0   </td><td>Control</td><td>Control_AAACTCGTCGAGTGTT-1</td></tr>\n",
       "\t<tr><th scope=row>Control_AAACTCGTCTATCCTA-1</th><td>Control</td><td>2111</td><td>2111</td><td> 18524</td><td> 5154</td><td>104</td><td> 82</td><td>1150</td><td> 5499</td><td> 6535</td><td>⋯</td><td>2 </td><td>2967</td><td>2259</td><td>Control_AAACTCGTCTATCCTA-1</td><td>Control_AAACTCGTCTATCCTA-1</td><td>AAACTCGTCTATCCTA-1_Control</td><td>18  </td><td>1   </td><td>Control</td><td>Control_AAACTCGTCTATCCTA-1</td></tr>\n",
       "\t<tr><th scope=row>Control_AAACTGCAGCATGTGG-1</th><td>Control</td><td>3475</td><td>3475</td><td> 25818</td><td> 5609</td><td>136</td><td>114</td><td>1775</td><td> 7066</td><td>11118</td><td>⋯</td><td>5 </td><td>4983</td><td>3538</td><td>Control_AAACTGCAGCATGTGG-1</td><td>Control_AAACTGCAGCATGTGG-1</td><td>AAACTGCAGCATGTGG-1_Control</td><td>36  </td><td>3   </td><td>Control</td><td>Control_AAACTGCAGCATGTGG-1</td></tr>\n",
       "\t<tr><th scope=row>⋮</th><td>⋮</td><td>⋮</td><td>⋮</td><td>⋮</td><td>⋮</td><td>⋮</td><td>⋮</td><td>⋮</td><td>⋮</td><td>⋮</td><td>⋱</td><td>⋮</td><td>⋮</td><td>⋮</td><td>⋮</td><td>⋮</td><td>⋮</td><td>⋮</td><td>⋮</td><td>⋮</td><td>⋮</td></tr>\n",
       "\t<tr><th scope=row>Flt3l_TTTGTGTAGAGAACCC-1</th><td>Flt3l</td><td>1855</td><td>1855</td><td>13580</td><td>1993</td><td> 64</td><td> 61</td><td> 794</td><td> 5812</td><td> 4856</td><td>⋯</td><td>2 </td><td>2318</td><td>1962</td><td>Flt3l_TTTGTGTAGAGAACCC-1</td><td>Flt3l_TTTGTGTAGAGAACCC-1</td><td>TTTGTGTAGAGAACCC-1_Flt3l</td><td>1   </td><td>0   </td><td>Flt3l</td><td>Flt3l_TTTGTGTAGAGAACCC-1</td></tr>\n",
       "\t<tr><th scope=row>Flt3l_TTTGTGTAGAGAGTAG-1</th><td>Flt3l</td><td>3178</td><td>3178</td><td>20770</td><td>3871</td><td> 99</td><td> 79</td><td>1226</td><td> 6564</td><td> 8931</td><td>⋯</td><td>1 </td><td>4051</td><td>3025</td><td>Flt3l_TTTGTGTAGAGAGTAG-1</td><td>Flt3l_TTTGTGTAGAGAGTAG-1</td><td>TTTGTGTAGAGAGTAG-1_Flt3l</td><td>14  </td><td>3   </td><td>Flt3l</td><td>Flt3l_TTTGTGTAGAGAGTAG-1</td></tr>\n",
       "\t<tr><th scope=row>Flt3l_TTTGTGTAGAGGTCCA-1</th><td>Flt3l</td><td>1406</td><td>1406</td><td>10379</td><td>1486</td><td> 35</td><td> 31</td><td> 602</td><td> 4095</td><td> 4130</td><td>⋯</td><td>4 </td><td>2113</td><td>1768</td><td>Flt3l_TTTGTGTAGAGGTCCA-1</td><td>Flt3l_TTTGTGTAGAGGTCCA-1</td><td>TTTGTGTAGAGGTCCA-1_Flt3l</td><td>0   </td><td>0   </td><td>Flt3l</td><td>Flt3l_TTTGTGTAGAGGTCCA-1</td></tr>\n",
       "\t<tr><th scope=row>Flt3l_TTTGTGTAGCCTCGCA-1</th><td>Flt3l</td><td>4592</td><td>4592</td><td>34494</td><td>5001</td><td>130</td><td>122</td><td>1968</td><td>11721</td><td>15552</td><td>⋯</td><td>8 </td><td>7667</td><td>4908</td><td>Flt3l_TTTGTGTAGCCTCGCA-1</td><td>Flt3l_TTTGTGTAGCCTCGCA-1</td><td>NA                      </td><td>None</td><td>None</td><td>None </td><td>Flt3l_TTTGTGTAGCCTCGCA-1</td></tr>\n",
       "\t<tr><th scope=row>Flt3l_TTTGTGTAGCGTCAAG-1</th><td>Flt3l</td><td>2066</td><td>2066</td><td>16251</td><td>2293</td><td> 64</td><td> 74</td><td> 831</td><td> 7421</td><td> 5568</td><td>⋯</td><td>6 </td><td>2581</td><td>2112</td><td>Flt3l_TTTGTGTAGCGTCAAG-1</td><td>Flt3l_TTTGTGTAGCGTCAAG-1</td><td>TTTGTGTAGCGTCAAG-1_Flt3l</td><td>10  </td><td>0   </td><td>Flt3l</td><td>Flt3l_TTTGTGTAGCGTCAAG-1</td></tr>\n",
       "\t<tr><th scope=row>Flt3l_TTTGTGTAGCTAGTTC-1</th><td>Flt3l</td><td> 265</td><td> 265</td><td> 1014</td><td> 111</td><td> 11</td><td>  7</td><td>  87</td><td>  292</td><td>  506</td><td>⋯</td><td>6 </td><td> 235</td><td> 228</td><td>Flt3l_TTTGTGTAGCTAGTTC-1</td><td>Flt3l_TTTGTGTAGCTAGTTC-1</td><td>NA                      </td><td>None</td><td>None</td><td>None </td><td>Flt3l_TTTGTGTAGCTAGTTC-1</td></tr>\n",
       "\t<tr><th scope=row>Flt3l_TTTGTGTAGGAGTCTG-1</th><td>Flt3l</td><td>2130</td><td>2130</td><td>18213</td><td>2550</td><td> 73</td><td> 72</td><td> 951</td><td> 8332</td><td> 6235</td><td>⋯</td><td>4 </td><td>3132</td><td>2490</td><td>Flt3l_TTTGTGTAGGAGTCTG-1</td><td>Flt3l_TTTGTGTAGGAGTCTG-1</td><td>TTTGTGTAGGAGTCTG-1_Flt3l</td><td>41  </td><td>0   </td><td>Flt3l</td><td>Flt3l_TTTGTGTAGGAGTCTG-1</td></tr>\n",
       "\t<tr><th scope=row>Flt3l_TTTGTGTAGGCACCTC-1</th><td>Flt3l</td><td> 788</td><td> 788</td><td> 5515</td><td> 563</td><td> 19</td><td> 19</td><td> 277</td><td> 2347</td><td> 2290</td><td>⋯</td><td>6 </td><td>1157</td><td>1052</td><td>Flt3l_TTTGTGTAGGCACCTC-1</td><td>Flt3l_TTTGTGTAGGCACCTC-1</td><td>TTTGTGTAGGCACCTC-1_Flt3l</td><td>32  </td><td>1   </td><td>Flt3l</td><td>Flt3l_TTTGTGTAGGCACCTC-1</td></tr>\n",
       "\t<tr><th scope=row>Flt3l_TTTGTGTAGTATACCC-1</th><td>Flt3l</td><td> 730</td><td> 730</td><td> 6666</td><td> 577</td><td> 21</td><td> 28</td><td> 322</td><td> 3612</td><td> 2106</td><td>⋯</td><td>6 </td><td> 959</td><td> 875</td><td>Flt3l_TTTGTGTAGTATACCC-1</td><td>Flt3l_TTTGTGTAGTATACCC-1</td><td>TTTGTGTAGTATACCC-1_Flt3l</td><td>11  </td><td>1   </td><td>Flt3l</td><td>Flt3l_TTTGTGTAGTATACCC-1</td></tr>\n",
       "\t<tr><th scope=row>Flt3l_TTTGTGTCAACTCGTA-1</th><td>Flt3l</td><td>1324</td><td>1324</td><td>10723</td><td>1204</td><td> 38</td><td> 54</td><td> 511</td><td> 5395</td><td> 3521</td><td>⋯</td><td>3 </td><td>1558</td><td>1358</td><td>Flt3l_TTTGTGTCAACTCGTA-1</td><td>Flt3l_TTTGTGTCAACTCGTA-1</td><td>TTTGTGTCAACTCGTA-1_Flt3l</td><td>26  </td><td>1   </td><td>Flt3l</td><td>Flt3l_TTTGTGTCAACTCGTA-1</td></tr>\n",
       "\t<tr><th scope=row>Flt3l_TTTGTGTCAAGGGTAC-1</th><td>Flt3l</td><td> 936</td><td> 936</td><td> 6614</td><td> 700</td><td> 27</td><td> 38</td><td> 480</td><td> 2706</td><td> 2663</td><td>⋯</td><td>6 </td><td>1205</td><td>1102</td><td>Flt3l_TTTGTGTCAAGGGTAC-1</td><td>Flt3l_TTTGTGTCAAGGGTAC-1</td><td>TTTGTGTCAAGGGTAC-1_Flt3l</td><td>3   </td><td>1   </td><td>Flt3l</td><td>Flt3l_TTTGTGTCAAGGGTAC-1</td></tr>\n",
       "\t<tr><th scope=row>Flt3l_TTTGTGTCACGCCGAT-1</th><td>Flt3l</td><td>1120</td><td>1120</td><td> 7625</td><td> 969</td><td> 33</td><td> 31</td><td> 456</td><td> 2848</td><td> 3288</td><td>⋯</td><td>2 </td><td>1535</td><td>1377</td><td>Flt3l_TTTGTGTCACGCCGAT-1</td><td>Flt3l_TTTGTGTCACGCCGAT-1</td><td>TTTGTGTCACGCCGAT-1_Flt3l</td><td>2   </td><td>0   </td><td>Flt3l</td><td>Flt3l_TTTGTGTCACGCCGAT-1</td></tr>\n",
       "\t<tr><th scope=row>Flt3l_TTTGTGTCACTACACA-1</th><td>Flt3l</td><td>3311</td><td>3311</td><td>24547</td><td>3832</td><td>105</td><td> 86</td><td>1293</td><td> 9643</td><td> 9588</td><td>⋯</td><td>4 </td><td>4904</td><td>3436</td><td>Flt3l_TTTGTGTCACTACACA-1</td><td>Flt3l_TTTGTGTCACTACACA-1</td><td>TTTGTGTCACTACACA-1_Flt3l</td><td>3   </td><td>0   </td><td>Flt3l</td><td>Flt3l_TTTGTGTCACTACACA-1</td></tr>\n",
       "\t<tr><th scope=row>Flt3l_TTTGTGTCAGCAACCC-1</th><td>Flt3l</td><td>1188</td><td>1188</td><td> 8635</td><td>1036</td><td> 56</td><td> 24</td><td> 497</td><td> 3470</td><td> 3552</td><td>⋯</td><td>6 </td><td>1685</td><td>1492</td><td>Flt3l_TTTGTGTCAGCAACCC-1</td><td>Flt3l_TTTGTGTCAGCAACCC-1</td><td>TTTGTGTCAGCAACCC-1_Flt3l</td><td>0   </td><td>2   </td><td>Flt3l</td><td>Flt3l_TTTGTGTCAGCAACCC-1</td></tr>\n",
       "\t<tr><th scope=row>Flt3l_TTTGTGTCAGGGTAAC-1</th><td>Flt3l</td><td>2092</td><td>2092</td><td>15522</td><td>1898</td><td> 77</td><td> 56</td><td> 930</td><td> 5820</td><td> 6741</td><td>⋯</td><td>1 </td><td>3155</td><td>2538</td><td>Flt3l_TTTGTGTCAGGGTAAC-1</td><td>Flt3l_TTTGTGTCAGGGTAAC-1</td><td>TTTGTGTCAGGGTAAC-1_Flt3l</td><td>33  </td><td>1   </td><td>Flt3l</td><td>Flt3l_TTTGTGTCAGGGTAAC-1</td></tr>\n",
       "\t<tr><th scope=row>Flt3l_TTTGTGTCATTTCTTG-1</th><td>Flt3l</td><td>2226</td><td>2226</td><td>19004</td><td>2792</td><td> 86</td><td> 82</td><td> 872</td><td> 8029</td><td> 7143</td><td>⋯</td><td>3 </td><td>3145</td><td>2439</td><td>Flt3l_TTTGTGTCATTTCTTG-1</td><td>Flt3l_TTTGTGTCATTTCTTG-1</td><td>TTTGTGTCATTTCTTG-1_Flt3l</td><td>26  </td><td>1   </td><td>Flt3l</td><td>Flt3l_TTTGTGTCATTTCTTG-1</td></tr>\n",
       "\t<tr><th scope=row>Flt3l_TTTGTGTGTATACGCT-1</th><td>Flt3l</td><td> 929</td><td> 929</td><td> 6489</td><td>1081</td><td> 40</td><td> 36</td><td> 470</td><td> 2199</td><td> 2663</td><td>⋯</td><td>8 </td><td>1293</td><td>1127</td><td>Flt3l_TTTGTGTGTATACGCT-1</td><td>Flt3l_TTTGTGTGTATACGCT-1</td><td>TTTGTGTGTATACGCT-1_Flt3l</td><td>20  </td><td>0   </td><td>Flt3l</td><td>Flt3l_TTTGTGTGTATACGCT-1</td></tr>\n",
       "\t<tr><th scope=row>Flt3l_TTTGTGTGTATCTCAG-1</th><td>Flt3l</td><td>1964</td><td>1964</td><td>14441</td><td>2580</td><td> 51</td><td> 69</td><td> 826</td><td> 4943</td><td> 5972</td><td>⋯</td><td>1 </td><td>2721</td><td>2236</td><td>Flt3l_TTTGTGTGTATCTCAG-1</td><td>Flt3l_TTTGTGTGTATCTCAG-1</td><td>TTTGTGTGTATCTCAG-1_Flt3l</td><td>7   </td><td>0   </td><td>Flt3l</td><td>Flt3l_TTTGTGTGTATCTCAG-1</td></tr>\n",
       "\t<tr><th scope=row>Flt3l_TTTGTGTGTATTCTGG-1</th><td>Flt3l</td><td>5978</td><td>5978</td><td>28284</td><td>6136</td><td>134</td><td>147</td><td>1851</td><td> 2893</td><td>17123</td><td>⋯</td><td>2 </td><td>7784</td><td>4770</td><td>Flt3l_TTTGTGTGTATTCTGG-1</td><td>Flt3l_TTTGTGTGTATTCTGG-1</td><td>TTTGTGTGTATTCTGG-1_Flt3l</td><td>36  </td><td>3   </td><td>Flt3l</td><td>Flt3l_TTTGTGTGTATTCTGG-1</td></tr>\n",
       "\t<tr><th scope=row>Flt3l_TTTGTGTGTCCGTGCA-1</th><td>Flt3l</td><td>1296</td><td>1296</td><td>11556</td><td>1645</td><td> 42</td><td> 55</td><td> 534</td><td> 5287</td><td> 3993</td><td>⋯</td><td>5 </td><td>1916</td><td>1636</td><td>Flt3l_TTTGTGTGTCCGTGCA-1</td><td>Flt3l_TTTGTGTGTCCGTGCA-1</td><td>TTTGTGTGTCCGTGCA-1_Flt3l</td><td>11  </td><td>2   </td><td>Flt3l</td><td>Flt3l_TTTGTGTGTCCGTGCA-1</td></tr>\n",
       "\t<tr><th scope=row>Flt3l_TTTGTGTGTGAATACA-1</th><td>Flt3l</td><td>2845</td><td>2845</td><td>23953</td><td>3551</td><td> 94</td><td>110</td><td>1268</td><td>11009</td><td> 7921</td><td>⋯</td><td>1 </td><td>3617</td><td>2791</td><td>Flt3l_TTTGTGTGTGAATACA-1</td><td>Flt3l_TTTGTGTGTGAATACA-1</td><td>TTTGTGTGTGAATACA-1_Flt3l</td><td>10  </td><td>1   </td><td>Flt3l</td><td>Flt3l_TTTGTGTGTGAATACA-1</td></tr>\n",
       "\t<tr><th scope=row>Flt3l_TTTGTGTGTTTGACCA-1</th><td>Flt3l</td><td>1467</td><td>1467</td><td>12816</td><td>1524</td><td> 49</td><td> 73</td><td> 713</td><td> 5956</td><td> 4501</td><td>⋯</td><td>2 </td><td>2271</td><td>1893</td><td>Flt3l_TTTGTGTGTTTGACCA-1</td><td>Flt3l_TTTGTGTGTTTGACCA-1</td><td>TTTGTGTGTTTGACCA-1_Flt3l</td><td>0   </td><td>2   </td><td>Flt3l</td><td>Flt3l_TTTGTGTGTTTGACCA-1</td></tr>\n",
       "\t<tr><th scope=row>Flt3l_TTTGTGTTCAAAGTAG-1</th><td>Flt3l</td><td>1145</td><td>1145</td><td> 9612</td><td>1305</td><td> 33</td><td> 52</td><td> 557</td><td> 4519</td><td> 3146</td><td>⋯</td><td>6 </td><td>1493</td><td>1313</td><td>Flt3l_TTTGTGTTCAAAGTAG-1</td><td>Flt3l_TTTGTGTTCAAAGTAG-1</td><td>TTTGTGTTCAAAGTAG-1_Flt3l</td><td>18  </td><td>1   </td><td>Flt3l</td><td>Flt3l_TTTGTGTTCAAAGTAG-1</td></tr>\n",
       "\t<tr><th scope=row>Flt3l_TTTGTGTTCCTAGAGT-1</th><td>Flt3l</td><td>2238</td><td>2238</td><td>10933</td><td>1294</td><td> 48</td><td> 47</td><td> 919</td><td> 3685</td><td> 4940</td><td>⋯</td><td>10</td><td>2348</td><td>1992</td><td>Flt3l_TTTGTGTTCCTAGAGT-1</td><td>Flt3l_TTTGTGTTCCTAGAGT-1</td><td>TTTGTGTTCCTAGAGT-1_Flt3l</td><td>14  </td><td>2   </td><td>Flt3l</td><td>Flt3l_TTTGTGTTCCTAGAGT-1</td></tr>\n",
       "\t<tr><th scope=row>Flt3l_TTTGTGTTCCTTTGCG-1</th><td>Flt3l</td><td>2737</td><td>2737</td><td>25608</td><td>4593</td><td> 78</td><td>159</td><td>1486</td><td>11639</td><td> 7653</td><td>⋯</td><td>1 </td><td>3580</td><td>2812</td><td>Flt3l_TTTGTGTTCCTTTGCG-1</td><td>Flt3l_TTTGTGTTCCTTTGCG-1</td><td>TTTGTGTTCCTTTGCG-1_Flt3l</td><td>6   </td><td>1   </td><td>Flt3l</td><td>Flt3l_TTTGTGTTCCTTTGCG-1</td></tr>\n",
       "\t<tr><th scope=row>Flt3l_TTTGTGTTCGAGTTAC-1</th><td>Flt3l</td><td>2680</td><td>2680</td><td>17658</td><td>2695</td><td> 42</td><td> 85</td><td>1186</td><td> 5949</td><td> 7701</td><td>⋯</td><td>1 </td><td>3507</td><td>2762</td><td>Flt3l_TTTGTGTTCGAGTTAC-1</td><td>Flt3l_TTTGTGTTCGAGTTAC-1</td><td>TTTGTGTTCGAGTTAC-1_Flt3l</td><td>6   </td><td>0   </td><td>Flt3l</td><td>Flt3l_TTTGTGTTCGAGTTAC-1</td></tr>\n",
       "\t<tr><th scope=row>Flt3l_TTTGTGTTCGCATAAC-1</th><td>Flt3l</td><td>1360</td><td>1360</td><td>11301</td><td>1275</td><td> 40</td><td> 44</td><td> 596</td><td> 4231</td><td> 5115</td><td>⋯</td><td>10</td><td>2365</td><td>2004</td><td>Flt3l_TTTGTGTTCGCATAAC-1</td><td>Flt3l_TTTGTGTTCGCATAAC-1</td><td>NA                      </td><td>None</td><td>None</td><td>None </td><td>Flt3l_TTTGTGTTCGCATAAC-1</td></tr>\n",
       "\t<tr><th scope=row>Flt3l_TTTGTGTTCGTGGTAT-1</th><td>Flt3l</td><td>1510</td><td>1510</td><td> 9188</td><td>1165</td><td> 33</td><td> 42</td><td> 620</td><td> 3337</td><td> 3991</td><td>⋯</td><td>1 </td><td>1867</td><td>1611</td><td>Flt3l_TTTGTGTTCGTGGTAT-1</td><td>Flt3l_TTTGTGTTCGTGGTAT-1</td><td>TTTGTGTTCGTGGTAT-1_Flt3l</td><td>14  </td><td>1   </td><td>Flt3l</td><td>Flt3l_TTTGTGTTCGTGGTAT-1</td></tr>\n",
       "\t<tr><th scope=row>Flt3l_TTTGTGTTCGTTACAG-1</th><td>Flt3l</td><td>4063</td><td>4063</td><td>35699</td><td>6656</td><td>184</td><td>194</td><td>1921</td><td>15800</td><td>10944</td><td>⋯</td><td>1 </td><td>4833</td><td>3423</td><td>Flt3l_TTTGTGTTCGTTACAG-1</td><td>Flt3l_TTTGTGTTCGTTACAG-1</td><td>TTTGTGTTCGTTACAG-1_Flt3l</td><td>1   </td><td>3   </td><td>Flt3l</td><td>Flt3l_TTTGTGTTCGTTACAG-1</td></tr>\n",
       "\t<tr><th scope=row>Flt3l_TTTGTGTTCTCCTTGG-1</th><td>Flt3l</td><td>1996</td><td>1996</td><td>15495</td><td>2205</td><td> 56</td><td> 79</td><td> 863</td><td> 6360</td><td> 5932</td><td>⋯</td><td>4 </td><td>2813</td><td>2231</td><td>Flt3l_TTTGTGTTCTCCTTGG-1</td><td>Flt3l_TTTGTGTTCTCCTTGG-1</td><td>TTTGTGTTCTCCTTGG-1_Flt3l</td><td>1   </td><td>3   </td><td>Flt3l</td><td>Flt3l_TTTGTGTTCTCCTTGG-1</td></tr>\n",
       "</tbody>\n",
       "</table>\n"
      ],
      "text/latex": [
       "A data.frame: 18492 × 32\n",
       "\\begin{tabular}{r|lllllllllllllllllllll}\n",
       "  & orig.ident & nCount\\_ATAC & nFeature\\_ATAC & total & duplicate & chimeric & unmapped & lowmapq & mitochondrial & passed\\_filters & ⋯ & seurat\\_clusters & nCount\\_RNA & nFeature\\_RNA & ID & Row.names & ID.x & lineage & donor & condition & ID.y\\\\\n",
       "  & <chr> & <dbl> & <int> & <dbl> & <dbl> & <dbl> & <dbl> & <dbl> & <dbl> & <dbl> & ⋯ & <fct> & <dbl> & <int> & <chr> & <I<chr>> & <chr> & <fct> & <fct> & <fct> & <chr>\\\\\n",
       "\\hline\n",
       "\tControl\\_AAACGAAAGAGGTCCA-1 & Control & 1357 & 1357 &  16929 &  2587 &  58 &  70 &  674 &  9629 &  3911 & ⋯ & 5  & 1673 & 1406 & Control\\_AAACGAAAGAGGTCCA-1 & Control\\_AAACGAAAGAGGTCCA-1 & AAACGAAAGAGGTCCA-1\\_Control & 9    & 3    & Control & Control\\_AAACGAAAGAGGTCCA-1\\\\\n",
       "\tControl\\_AAACGAAAGCGATACG-1 & Control & 3505 & 3505 &  45359 & 10546 & 184 & 184 & 2302 & 22247 &  9896 & ⋯ & 0  & 4315 & 3063 & Control\\_AAACGAAAGCGATACG-1 & Control\\_AAACGAAAGCGATACG-1 & AAACGAAAGCGATACG-1\\_Control & 0    & 1    & Control & Control\\_AAACGAAAGCGATACG-1\\\\\n",
       "\tControl\\_AAACGAAAGTCGTGAG-1 & Control &  994 &  994 &  10177 &  2450 &  48 &  60 &  657 &  2135 &  4827 & ⋯ & 5  & 1731 & 1414 & Control\\_AAACGAAAGTCGTGAG-1 & Control\\_AAACGAAAGTCGTGAG-1 & AAACGAAAGTCGTGAG-1\\_Control & 8    & 0    & Control & Control\\_AAACGAAAGTCGTGAG-1\\\\\n",
       "\tControl\\_AAACGAACAATAGTGA-1 & Control & 2687 & 2687 &  22452 &  4364 & 100 &  83 &  897 &  9233 &  7775 & ⋯ & 0  & 3113 & 2340 & Control\\_AAACGAACAATAGTGA-1 & Control\\_AAACGAACAATAGTGA-1 & AAACGAACAATAGTGA-1\\_Control & 11   & 3    & Control & Control\\_AAACGAACAATAGTGA-1\\\\\n",
       "\tControl\\_AAACGAACACAATAAG-1 & Control & 1184 & 1184 &  11763 &  2003 &  43 &  57 &  680 &  5547 &  3433 & ⋯ & 5  & 1559 & 1394 & Control\\_AAACGAACACAATAAG-1 & Control\\_AAACGAACACAATAAG-1 & AAACGAACACAATAAG-1\\_Control & 22   & 0    & Control & Control\\_AAACGAACACAATAAG-1\\\\\n",
       "\tControl\\_AAACGAACACTGATAC-1 & Control &  954 &  954 &   9449 &  1971 &  59 &  21 &  489 &  3785 &  3124 & ⋯ & 2  & 1370 & 1207 & Control\\_AAACGAACACTGATAC-1 & Control\\_AAACGAACACTGATAC-1 & AAACGAACACTGATAC-1\\_Control & 11   & 2    & Control & Control\\_AAACGAACACTGATAC-1\\\\\n",
       "\tControl\\_AAACGAACAGTAACCT-1 & Control &  693 &  693 &   6196 &  1097 &  19 &  17 &  288 &  2635 &  2140 & ⋯ & 8  & 1018 &  939 & Control\\_AAACGAACAGTAACCT-1 & Control\\_AAACGAACAGTAACCT-1 & AAACGAACAGTAACCT-1\\_Control & 34   & 2    & Control & Control\\_AAACGAACAGTAACCT-1\\\\\n",
       "\tControl\\_AAACGAACATCGTGAT-1 & Control & 6800 & 6800 & 100024 & 36721 & 588 & 531 & 5317 & 36828 & 20039 & ⋯ & 12 & 8645 & 5001 & Control\\_AAACGAACATCGTGAT-1 & Control\\_AAACGAACATCGTGAT-1 & AAACGAACATCGTGAT-1\\_Control & 2    & 3    & Control & Control\\_AAACGAACATCGTGAT-1\\\\\n",
       "\tControl\\_AAACGAAGTAACGGTG-1 & Control & 1074 & 1074 &   8454 &  1950 &  24 &  33 &  354 &  3729 &  2364 & ⋯ & 7  & 1005 &  905 & Control\\_AAACGAAGTAACGGTG-1 & Control\\_AAACGAAGTAACGGTG-1 & AAACGAAGTAACGGTG-1\\_Control & 36   & 3    & Control & Control\\_AAACGAAGTAACGGTG-1\\\\\n",
       "\tControl\\_AAACGAAGTAAGTCTC-1 & Control & 1262 & 1262 &   7684 &  1420 &  36 &  23 &  488 &  1787 &  3930 & ⋯ & 13 & 1688 & 1452 & Control\\_AAACGAAGTAAGTCTC-1 & Control\\_AAACGAAGTAAGTCTC-1 & AAACGAAGTAAGTCTC-1\\_Control & 52   & 0    & Control & Control\\_AAACGAAGTAAGTCTC-1\\\\\n",
       "\tControl\\_AAACGAAGTACCAAGG-1 & Control & 3936 & 3936 &  27865 &  7135 & 126 & 131 & 1330 &  9549 &  9594 & ⋯ & 12 & 4544 & 3265 & Control\\_AAACGAAGTACCAAGG-1 & Control\\_AAACGAAGTACCAAGG-1 & AAACGAAGTACCAAGG-1\\_Control & 15   & 1    & Control & Control\\_AAACGAAGTACCAAGG-1\\\\\n",
       "\tControl\\_AAACGAAGTCCCGTGA-1 & Control & 4425 & 4425 &  31805 &  8689 & 178 & 135 & 1649 &  7738 & 13416 & ⋯ & 9  & 5971 & 3996 & Control\\_AAACGAAGTCCCGTGA-1 & Control\\_AAACGAAGTCCCGTGA-1 & AAACGAAGTCCCGTGA-1\\_Control & 21   & 2    & Control & Control\\_AAACGAAGTCCCGTGA-1\\\\\n",
       "\tControl\\_AAACGAAGTGGATTCT-1 & Control &  805 &  805 &   9518 &  1121 &  32 &  37 &  330 &  5983 &  2015 & ⋯ & 5  &  853 &  780 & Control\\_AAACGAAGTGGATTCT-1 & Control\\_AAACGAAGTGGATTCT-1 & AAACGAAGTGGATTCT-1\\_Control & 5    & 0    & Control & Control\\_AAACGAAGTGGATTCT-1\\\\\n",
       "\tControl\\_AAACGAATCGAGCGCT-1 & Control & 1892 & 1892 &  11456 &  2558 &  61 &  49 &  687 &  3476 &  4625 & ⋯ & 0  & 2089 & 1779 & Control\\_AAACGAATCGAGCGCT-1 & Control\\_AAACGAATCGAGCGCT-1 & AAACGAATCGAGCGCT-1\\_Control & 25   & 3    & Control & Control\\_AAACGAATCGAGCGCT-1\\\\\n",
       "\tControl\\_AAACGAATCGCAACTA-1 & Control & 6272 & 6272 &  56262 & 15793 & 214 & 374 & 3523 & 19210 & 17148 & ⋯ & 1  & 7970 & 4809 & Control\\_AAACGAATCGCAACTA-1 & Control\\_AAACGAATCGCAACTA-1 & AAACGAATCGCAACTA-1\\_Control & 5    & 0    & Control & Control\\_AAACGAATCGCAACTA-1\\\\\n",
       "\tControl\\_AAACGAATCGCGCTGA-1 & Control &  614 &  614 &   6366 &   747 &  30 &  20 &  306 &  3521 &  1742 & ⋯ & 5  &  743 &  690 & Control\\_AAACGAATCGCGCTGA-1 & Control\\_AAACGAATCGCGCTGA-1 & AAACGAATCGCGCTGA-1\\_Control & 0    & 3    & Control & Control\\_AAACGAATCGCGCTGA-1\\\\\n",
       "\tControl\\_AAACTCGAGATTACGA-1 & Control & 1763 & 1763 &  22032 &  3419 &  83 &  85 & 1085 & 11844 &  5516 & ⋯ & 3  & 2362 & 1974 & Control\\_AAACTCGAGATTACGA-1 & Control\\_AAACTCGAGATTACGA-1 & AAACTCGAGATTACGA-1\\_Control & 36   & 3    & Control & Control\\_AAACTCGAGATTACGA-1\\\\\n",
       "\tControl\\_AAACTCGCAAGACTTC-1 & Control &  402 &  402 &   5303 &   728 &   8 &  18 &  232 &  2874 &  1443 & ⋯ & 8  &  697 &  654 & Control\\_AAACTCGCAAGACTTC-1 & Control\\_AAACTCGCAAGACTTC-1 & AAACTCGCAAGACTTC-1\\_Control & 0    & 0    & Control & Control\\_AAACTCGCAAGACTTC-1\\\\\n",
       "\tControl\\_AAACTCGCACAAGGGT-1 & Control &  336 &  336 &  18623 &   982 &   9 &  91 &  510 & 15503 &  1528 & ⋯ & 10 &  663 &  616 & Control\\_AAACTCGCACAAGGGT-1 & Control\\_AAACTCGCACAAGGGT-1 & AAACTCGCACAAGGGT-1\\_Control & 1    & 1    & Control & Control\\_AAACTCGCACAAGGGT-1\\\\\n",
       "\tControl\\_AAACTCGCACCTCGTT-1 & Control & 3499 & 3499 &  30543 &  6297 & 148 & 239 & 1359 & 12689 &  9811 & ⋯ & 0  & 4338 & 3121 & Control\\_AAACTCGCACCTCGTT-1 & Control\\_AAACTCGCACCTCGTT-1 & AAACTCGCACCTCGTT-1\\_Control & 5    & 1    & Control & Control\\_AAACTCGCACCTCGTT-1\\\\\n",
       "\tControl\\_AAACTCGCACTTGCGG-1 & Control &  631 &  631 &   7038 &   991 &  27 &  31 &  299 &  3787 &  1903 & ⋯ & 7  &  799 &  726 & Control\\_AAACTCGCACTTGCGG-1 & Control\\_AAACTCGCACTTGCGG-1 & AAACTCGCACTTGCGG-1\\_Control & 13   & 2    & Control & Control\\_AAACTCGCACTTGCGG-1\\\\\n",
       "\tControl\\_AAACTCGCATCGCCTT-1 & Control & 1469 & 1469 &  13537 &  3614 &  56 &  90 &  777 &  3050 &  5950 & ⋯ & 8  & 2427 & 1934 & Control\\_AAACTCGCATCGCCTT-1 & Control\\_AAACTCGCATCGCCTT-1 & AAACTCGCATCGCCTT-1\\_Control & 52   & 0    & Control & Control\\_AAACTCGCATCGCCTT-1\\\\\n",
       "\tControl\\_AAACTCGCATGTGGGA-1 & Control & 3349 & 3349 &  48037 &  8932 & 171 & 241 & 1618 & 26241 & 10834 & ⋯ & 2  & 4880 & 3364 & Control\\_AAACTCGCATGTGGGA-1 & Control\\_AAACTCGCATGTGGGA-1 & AAACTCGCATGTGGGA-1\\_Control & 8    & 2    & Control & Control\\_AAACTCGCATGTGGGA-1\\\\\n",
       "\tControl\\_AAACTCGGTATCCTTT-1 & Control & 2525 & 2525 &  21479 &  7157 & 101 & 159 & 1220 &  2182 & 10660 & ⋯ & 14 & 5227 & 3582 & Control\\_AAACTCGGTATCCTTT-1 & Control\\_AAACTCGGTATCCTTT-1 & AAACTCGGTATCCTTT-1\\_Control & 14   & 0    & Control & Control\\_AAACTCGGTATCCTTT-1\\\\\n",
       "\tControl\\_AAACTCGGTGCCCTAG-1 & Control & 3414 & 3414 &  32698 &  7966 & 110 & 187 & 1479 & 13991 &  8965 & ⋯ & 0  & 4218 & 3110 & Control\\_AAACTCGGTGCCCTAG-1 & Control\\_AAACTCGGTGCCCTAG-1 & AAACTCGGTGCCCTAG-1\\_Control & 6    & 1    & Control & Control\\_AAACTCGGTGCCCTAG-1\\\\\n",
       "\tControl\\_AAACTCGGTGTAGGAC-1 & Control &  517 &  517 &   3157 &   501 &   9 &  12 &  201 &   977 &  1457 & ⋯ & 11 &  607 &  572 & Control\\_AAACTCGGTGTAGGAC-1 & Control\\_AAACTCGGTGTAGGAC-1 & NA                         & None & None & None    & Control\\_AAACTCGGTGTAGGAC-1\\\\\n",
       "\tControl\\_AAACTCGTCACTAGCA-1 & Control & 1571 & 1571 &  30764 &  4287 &  64 & 125 & 1018 & 19274 &  5996 & ⋯ & 5  & 2275 & 1799 & Control\\_AAACTCGTCACTAGCA-1 & Control\\_AAACTCGTCACTAGCA-1 & AAACTCGTCACTAGCA-1\\_Control & 22   & 1    & Control & Control\\_AAACTCGTCACTAGCA-1\\\\\n",
       "\tControl\\_AAACTCGTCGAGTGTT-1 & Control & 2715 & 2715 &  29393 &  6514 & 144 & 188 & 1598 & 10615 & 10334 & ⋯ & 8  & 4689 & 3342 & Control\\_AAACTCGTCGAGTGTT-1 & Control\\_AAACTCGTCGAGTGTT-1 & AAACTCGTCGAGTGTT-1\\_Control & 31   & 0    & Control & Control\\_AAACTCGTCGAGTGTT-1\\\\\n",
       "\tControl\\_AAACTCGTCTATCCTA-1 & Control & 2111 & 2111 &  18524 &  5154 & 104 &  82 & 1150 &  5499 &  6535 & ⋯ & 2  & 2967 & 2259 & Control\\_AAACTCGTCTATCCTA-1 & Control\\_AAACTCGTCTATCCTA-1 & AAACTCGTCTATCCTA-1\\_Control & 18   & 1    & Control & Control\\_AAACTCGTCTATCCTA-1\\\\\n",
       "\tControl\\_AAACTGCAGCATGTGG-1 & Control & 3475 & 3475 &  25818 &  5609 & 136 & 114 & 1775 &  7066 & 11118 & ⋯ & 5  & 4983 & 3538 & Control\\_AAACTGCAGCATGTGG-1 & Control\\_AAACTGCAGCATGTGG-1 & AAACTGCAGCATGTGG-1\\_Control & 36   & 3    & Control & Control\\_AAACTGCAGCATGTGG-1\\\\\n",
       "\t⋮ & ⋮ & ⋮ & ⋮ & ⋮ & ⋮ & ⋮ & ⋮ & ⋮ & ⋮ & ⋮ & ⋱ & ⋮ & ⋮ & ⋮ & ⋮ & ⋮ & ⋮ & ⋮ & ⋮ & ⋮ & ⋮\\\\\n",
       "\tFlt3l\\_TTTGTGTAGAGAACCC-1 & Flt3l & 1855 & 1855 & 13580 & 1993 &  64 &  61 &  794 &  5812 &  4856 & ⋯ & 2  & 2318 & 1962 & Flt3l\\_TTTGTGTAGAGAACCC-1 & Flt3l\\_TTTGTGTAGAGAACCC-1 & TTTGTGTAGAGAACCC-1\\_Flt3l & 1    & 0    & Flt3l & Flt3l\\_TTTGTGTAGAGAACCC-1\\\\\n",
       "\tFlt3l\\_TTTGTGTAGAGAGTAG-1 & Flt3l & 3178 & 3178 & 20770 & 3871 &  99 &  79 & 1226 &  6564 &  8931 & ⋯ & 1  & 4051 & 3025 & Flt3l\\_TTTGTGTAGAGAGTAG-1 & Flt3l\\_TTTGTGTAGAGAGTAG-1 & TTTGTGTAGAGAGTAG-1\\_Flt3l & 14   & 3    & Flt3l & Flt3l\\_TTTGTGTAGAGAGTAG-1\\\\\n",
       "\tFlt3l\\_TTTGTGTAGAGGTCCA-1 & Flt3l & 1406 & 1406 & 10379 & 1486 &  35 &  31 &  602 &  4095 &  4130 & ⋯ & 4  & 2113 & 1768 & Flt3l\\_TTTGTGTAGAGGTCCA-1 & Flt3l\\_TTTGTGTAGAGGTCCA-1 & TTTGTGTAGAGGTCCA-1\\_Flt3l & 0    & 0    & Flt3l & Flt3l\\_TTTGTGTAGAGGTCCA-1\\\\\n",
       "\tFlt3l\\_TTTGTGTAGCCTCGCA-1 & Flt3l & 4592 & 4592 & 34494 & 5001 & 130 & 122 & 1968 & 11721 & 15552 & ⋯ & 8  & 7667 & 4908 & Flt3l\\_TTTGTGTAGCCTCGCA-1 & Flt3l\\_TTTGTGTAGCCTCGCA-1 & NA                       & None & None & None  & Flt3l\\_TTTGTGTAGCCTCGCA-1\\\\\n",
       "\tFlt3l\\_TTTGTGTAGCGTCAAG-1 & Flt3l & 2066 & 2066 & 16251 & 2293 &  64 &  74 &  831 &  7421 &  5568 & ⋯ & 6  & 2581 & 2112 & Flt3l\\_TTTGTGTAGCGTCAAG-1 & Flt3l\\_TTTGTGTAGCGTCAAG-1 & TTTGTGTAGCGTCAAG-1\\_Flt3l & 10   & 0    & Flt3l & Flt3l\\_TTTGTGTAGCGTCAAG-1\\\\\n",
       "\tFlt3l\\_TTTGTGTAGCTAGTTC-1 & Flt3l &  265 &  265 &  1014 &  111 &  11 &   7 &   87 &   292 &   506 & ⋯ & 6  &  235 &  228 & Flt3l\\_TTTGTGTAGCTAGTTC-1 & Flt3l\\_TTTGTGTAGCTAGTTC-1 & NA                       & None & None & None  & Flt3l\\_TTTGTGTAGCTAGTTC-1\\\\\n",
       "\tFlt3l\\_TTTGTGTAGGAGTCTG-1 & Flt3l & 2130 & 2130 & 18213 & 2550 &  73 &  72 &  951 &  8332 &  6235 & ⋯ & 4  & 3132 & 2490 & Flt3l\\_TTTGTGTAGGAGTCTG-1 & Flt3l\\_TTTGTGTAGGAGTCTG-1 & TTTGTGTAGGAGTCTG-1\\_Flt3l & 41   & 0    & Flt3l & Flt3l\\_TTTGTGTAGGAGTCTG-1\\\\\n",
       "\tFlt3l\\_TTTGTGTAGGCACCTC-1 & Flt3l &  788 &  788 &  5515 &  563 &  19 &  19 &  277 &  2347 &  2290 & ⋯ & 6  & 1157 & 1052 & Flt3l\\_TTTGTGTAGGCACCTC-1 & Flt3l\\_TTTGTGTAGGCACCTC-1 & TTTGTGTAGGCACCTC-1\\_Flt3l & 32   & 1    & Flt3l & Flt3l\\_TTTGTGTAGGCACCTC-1\\\\\n",
       "\tFlt3l\\_TTTGTGTAGTATACCC-1 & Flt3l &  730 &  730 &  6666 &  577 &  21 &  28 &  322 &  3612 &  2106 & ⋯ & 6  &  959 &  875 & Flt3l\\_TTTGTGTAGTATACCC-1 & Flt3l\\_TTTGTGTAGTATACCC-1 & TTTGTGTAGTATACCC-1\\_Flt3l & 11   & 1    & Flt3l & Flt3l\\_TTTGTGTAGTATACCC-1\\\\\n",
       "\tFlt3l\\_TTTGTGTCAACTCGTA-1 & Flt3l & 1324 & 1324 & 10723 & 1204 &  38 &  54 &  511 &  5395 &  3521 & ⋯ & 3  & 1558 & 1358 & Flt3l\\_TTTGTGTCAACTCGTA-1 & Flt3l\\_TTTGTGTCAACTCGTA-1 & TTTGTGTCAACTCGTA-1\\_Flt3l & 26   & 1    & Flt3l & Flt3l\\_TTTGTGTCAACTCGTA-1\\\\\n",
       "\tFlt3l\\_TTTGTGTCAAGGGTAC-1 & Flt3l &  936 &  936 &  6614 &  700 &  27 &  38 &  480 &  2706 &  2663 & ⋯ & 6  & 1205 & 1102 & Flt3l\\_TTTGTGTCAAGGGTAC-1 & Flt3l\\_TTTGTGTCAAGGGTAC-1 & TTTGTGTCAAGGGTAC-1\\_Flt3l & 3    & 1    & Flt3l & Flt3l\\_TTTGTGTCAAGGGTAC-1\\\\\n",
       "\tFlt3l\\_TTTGTGTCACGCCGAT-1 & Flt3l & 1120 & 1120 &  7625 &  969 &  33 &  31 &  456 &  2848 &  3288 & ⋯ & 2  & 1535 & 1377 & Flt3l\\_TTTGTGTCACGCCGAT-1 & Flt3l\\_TTTGTGTCACGCCGAT-1 & TTTGTGTCACGCCGAT-1\\_Flt3l & 2    & 0    & Flt3l & Flt3l\\_TTTGTGTCACGCCGAT-1\\\\\n",
       "\tFlt3l\\_TTTGTGTCACTACACA-1 & Flt3l & 3311 & 3311 & 24547 & 3832 & 105 &  86 & 1293 &  9643 &  9588 & ⋯ & 4  & 4904 & 3436 & Flt3l\\_TTTGTGTCACTACACA-1 & Flt3l\\_TTTGTGTCACTACACA-1 & TTTGTGTCACTACACA-1\\_Flt3l & 3    & 0    & Flt3l & Flt3l\\_TTTGTGTCACTACACA-1\\\\\n",
       "\tFlt3l\\_TTTGTGTCAGCAACCC-1 & Flt3l & 1188 & 1188 &  8635 & 1036 &  56 &  24 &  497 &  3470 &  3552 & ⋯ & 6  & 1685 & 1492 & Flt3l\\_TTTGTGTCAGCAACCC-1 & Flt3l\\_TTTGTGTCAGCAACCC-1 & TTTGTGTCAGCAACCC-1\\_Flt3l & 0    & 2    & Flt3l & Flt3l\\_TTTGTGTCAGCAACCC-1\\\\\n",
       "\tFlt3l\\_TTTGTGTCAGGGTAAC-1 & Flt3l & 2092 & 2092 & 15522 & 1898 &  77 &  56 &  930 &  5820 &  6741 & ⋯ & 1  & 3155 & 2538 & Flt3l\\_TTTGTGTCAGGGTAAC-1 & Flt3l\\_TTTGTGTCAGGGTAAC-1 & TTTGTGTCAGGGTAAC-1\\_Flt3l & 33   & 1    & Flt3l & Flt3l\\_TTTGTGTCAGGGTAAC-1\\\\\n",
       "\tFlt3l\\_TTTGTGTCATTTCTTG-1 & Flt3l & 2226 & 2226 & 19004 & 2792 &  86 &  82 &  872 &  8029 &  7143 & ⋯ & 3  & 3145 & 2439 & Flt3l\\_TTTGTGTCATTTCTTG-1 & Flt3l\\_TTTGTGTCATTTCTTG-1 & TTTGTGTCATTTCTTG-1\\_Flt3l & 26   & 1    & Flt3l & Flt3l\\_TTTGTGTCATTTCTTG-1\\\\\n",
       "\tFlt3l\\_TTTGTGTGTATACGCT-1 & Flt3l &  929 &  929 &  6489 & 1081 &  40 &  36 &  470 &  2199 &  2663 & ⋯ & 8  & 1293 & 1127 & Flt3l\\_TTTGTGTGTATACGCT-1 & Flt3l\\_TTTGTGTGTATACGCT-1 & TTTGTGTGTATACGCT-1\\_Flt3l & 20   & 0    & Flt3l & Flt3l\\_TTTGTGTGTATACGCT-1\\\\\n",
       "\tFlt3l\\_TTTGTGTGTATCTCAG-1 & Flt3l & 1964 & 1964 & 14441 & 2580 &  51 &  69 &  826 &  4943 &  5972 & ⋯ & 1  & 2721 & 2236 & Flt3l\\_TTTGTGTGTATCTCAG-1 & Flt3l\\_TTTGTGTGTATCTCAG-1 & TTTGTGTGTATCTCAG-1\\_Flt3l & 7    & 0    & Flt3l & Flt3l\\_TTTGTGTGTATCTCAG-1\\\\\n",
       "\tFlt3l\\_TTTGTGTGTATTCTGG-1 & Flt3l & 5978 & 5978 & 28284 & 6136 & 134 & 147 & 1851 &  2893 & 17123 & ⋯ & 2  & 7784 & 4770 & Flt3l\\_TTTGTGTGTATTCTGG-1 & Flt3l\\_TTTGTGTGTATTCTGG-1 & TTTGTGTGTATTCTGG-1\\_Flt3l & 36   & 3    & Flt3l & Flt3l\\_TTTGTGTGTATTCTGG-1\\\\\n",
       "\tFlt3l\\_TTTGTGTGTCCGTGCA-1 & Flt3l & 1296 & 1296 & 11556 & 1645 &  42 &  55 &  534 &  5287 &  3993 & ⋯ & 5  & 1916 & 1636 & Flt3l\\_TTTGTGTGTCCGTGCA-1 & Flt3l\\_TTTGTGTGTCCGTGCA-1 & TTTGTGTGTCCGTGCA-1\\_Flt3l & 11   & 2    & Flt3l & Flt3l\\_TTTGTGTGTCCGTGCA-1\\\\\n",
       "\tFlt3l\\_TTTGTGTGTGAATACA-1 & Flt3l & 2845 & 2845 & 23953 & 3551 &  94 & 110 & 1268 & 11009 &  7921 & ⋯ & 1  & 3617 & 2791 & Flt3l\\_TTTGTGTGTGAATACA-1 & Flt3l\\_TTTGTGTGTGAATACA-1 & TTTGTGTGTGAATACA-1\\_Flt3l & 10   & 1    & Flt3l & Flt3l\\_TTTGTGTGTGAATACA-1\\\\\n",
       "\tFlt3l\\_TTTGTGTGTTTGACCA-1 & Flt3l & 1467 & 1467 & 12816 & 1524 &  49 &  73 &  713 &  5956 &  4501 & ⋯ & 2  & 2271 & 1893 & Flt3l\\_TTTGTGTGTTTGACCA-1 & Flt3l\\_TTTGTGTGTTTGACCA-1 & TTTGTGTGTTTGACCA-1\\_Flt3l & 0    & 2    & Flt3l & Flt3l\\_TTTGTGTGTTTGACCA-1\\\\\n",
       "\tFlt3l\\_TTTGTGTTCAAAGTAG-1 & Flt3l & 1145 & 1145 &  9612 & 1305 &  33 &  52 &  557 &  4519 &  3146 & ⋯ & 6  & 1493 & 1313 & Flt3l\\_TTTGTGTTCAAAGTAG-1 & Flt3l\\_TTTGTGTTCAAAGTAG-1 & TTTGTGTTCAAAGTAG-1\\_Flt3l & 18   & 1    & Flt3l & Flt3l\\_TTTGTGTTCAAAGTAG-1\\\\\n",
       "\tFlt3l\\_TTTGTGTTCCTAGAGT-1 & Flt3l & 2238 & 2238 & 10933 & 1294 &  48 &  47 &  919 &  3685 &  4940 & ⋯ & 10 & 2348 & 1992 & Flt3l\\_TTTGTGTTCCTAGAGT-1 & Flt3l\\_TTTGTGTTCCTAGAGT-1 & TTTGTGTTCCTAGAGT-1\\_Flt3l & 14   & 2    & Flt3l & Flt3l\\_TTTGTGTTCCTAGAGT-1\\\\\n",
       "\tFlt3l\\_TTTGTGTTCCTTTGCG-1 & Flt3l & 2737 & 2737 & 25608 & 4593 &  78 & 159 & 1486 & 11639 &  7653 & ⋯ & 1  & 3580 & 2812 & Flt3l\\_TTTGTGTTCCTTTGCG-1 & Flt3l\\_TTTGTGTTCCTTTGCG-1 & TTTGTGTTCCTTTGCG-1\\_Flt3l & 6    & 1    & Flt3l & Flt3l\\_TTTGTGTTCCTTTGCG-1\\\\\n",
       "\tFlt3l\\_TTTGTGTTCGAGTTAC-1 & Flt3l & 2680 & 2680 & 17658 & 2695 &  42 &  85 & 1186 &  5949 &  7701 & ⋯ & 1  & 3507 & 2762 & Flt3l\\_TTTGTGTTCGAGTTAC-1 & Flt3l\\_TTTGTGTTCGAGTTAC-1 & TTTGTGTTCGAGTTAC-1\\_Flt3l & 6    & 0    & Flt3l & Flt3l\\_TTTGTGTTCGAGTTAC-1\\\\\n",
       "\tFlt3l\\_TTTGTGTTCGCATAAC-1 & Flt3l & 1360 & 1360 & 11301 & 1275 &  40 &  44 &  596 &  4231 &  5115 & ⋯ & 10 & 2365 & 2004 & Flt3l\\_TTTGTGTTCGCATAAC-1 & Flt3l\\_TTTGTGTTCGCATAAC-1 & NA                       & None & None & None  & Flt3l\\_TTTGTGTTCGCATAAC-1\\\\\n",
       "\tFlt3l\\_TTTGTGTTCGTGGTAT-1 & Flt3l & 1510 & 1510 &  9188 & 1165 &  33 &  42 &  620 &  3337 &  3991 & ⋯ & 1  & 1867 & 1611 & Flt3l\\_TTTGTGTTCGTGGTAT-1 & Flt3l\\_TTTGTGTTCGTGGTAT-1 & TTTGTGTTCGTGGTAT-1\\_Flt3l & 14   & 1    & Flt3l & Flt3l\\_TTTGTGTTCGTGGTAT-1\\\\\n",
       "\tFlt3l\\_TTTGTGTTCGTTACAG-1 & Flt3l & 4063 & 4063 & 35699 & 6656 & 184 & 194 & 1921 & 15800 & 10944 & ⋯ & 1  & 4833 & 3423 & Flt3l\\_TTTGTGTTCGTTACAG-1 & Flt3l\\_TTTGTGTTCGTTACAG-1 & TTTGTGTTCGTTACAG-1\\_Flt3l & 1    & 3    & Flt3l & Flt3l\\_TTTGTGTTCGTTACAG-1\\\\\n",
       "\tFlt3l\\_TTTGTGTTCTCCTTGG-1 & Flt3l & 1996 & 1996 & 15495 & 2205 &  56 &  79 &  863 &  6360 &  5932 & ⋯ & 4  & 2813 & 2231 & Flt3l\\_TTTGTGTTCTCCTTGG-1 & Flt3l\\_TTTGTGTTCTCCTTGG-1 & TTTGTGTTCTCCTTGG-1\\_Flt3l & 1    & 3    & Flt3l & Flt3l\\_TTTGTGTTCTCCTTGG-1\\\\\n",
       "\\end{tabular}\n"
      ],
      "text/markdown": [
       "\n",
       "A data.frame: 18492 × 32\n",
       "\n",
       "| <!--/--> | orig.ident &lt;chr&gt; | nCount_ATAC &lt;dbl&gt; | nFeature_ATAC &lt;int&gt; | total &lt;dbl&gt; | duplicate &lt;dbl&gt; | chimeric &lt;dbl&gt; | unmapped &lt;dbl&gt; | lowmapq &lt;dbl&gt; | mitochondrial &lt;dbl&gt; | passed_filters &lt;dbl&gt; | ⋯ ⋯ | seurat_clusters &lt;fct&gt; | nCount_RNA &lt;dbl&gt; | nFeature_RNA &lt;int&gt; | ID &lt;chr&gt; | Row.names &lt;I&lt;chr&gt;&gt; | ID.x &lt;chr&gt; | lineage &lt;fct&gt; | donor &lt;fct&gt; | condition &lt;fct&gt; | ID.y &lt;chr&gt; |\n",
       "|---|---|---|---|---|---|---|---|---|---|---|---|---|---|---|---|---|---|---|---|---|---|\n",
       "| Control_AAACGAAAGAGGTCCA-1 | Control | 1357 | 1357 |  16929 |  2587 |  58 |  70 |  674 |  9629 |  3911 | ⋯ | 5  | 1673 | 1406 | Control_AAACGAAAGAGGTCCA-1 | Control_AAACGAAAGAGGTCCA-1 | AAACGAAAGAGGTCCA-1_Control | 9    | 3    | Control | Control_AAACGAAAGAGGTCCA-1 |\n",
       "| Control_AAACGAAAGCGATACG-1 | Control | 3505 | 3505 |  45359 | 10546 | 184 | 184 | 2302 | 22247 |  9896 | ⋯ | 0  | 4315 | 3063 | Control_AAACGAAAGCGATACG-1 | Control_AAACGAAAGCGATACG-1 | AAACGAAAGCGATACG-1_Control | 0    | 1    | Control | Control_AAACGAAAGCGATACG-1 |\n",
       "| Control_AAACGAAAGTCGTGAG-1 | Control |  994 |  994 |  10177 |  2450 |  48 |  60 |  657 |  2135 |  4827 | ⋯ | 5  | 1731 | 1414 | Control_AAACGAAAGTCGTGAG-1 | Control_AAACGAAAGTCGTGAG-1 | AAACGAAAGTCGTGAG-1_Control | 8    | 0    | Control | Control_AAACGAAAGTCGTGAG-1 |\n",
       "| Control_AAACGAACAATAGTGA-1 | Control | 2687 | 2687 |  22452 |  4364 | 100 |  83 |  897 |  9233 |  7775 | ⋯ | 0  | 3113 | 2340 | Control_AAACGAACAATAGTGA-1 | Control_AAACGAACAATAGTGA-1 | AAACGAACAATAGTGA-1_Control | 11   | 3    | Control | Control_AAACGAACAATAGTGA-1 |\n",
       "| Control_AAACGAACACAATAAG-1 | Control | 1184 | 1184 |  11763 |  2003 |  43 |  57 |  680 |  5547 |  3433 | ⋯ | 5  | 1559 | 1394 | Control_AAACGAACACAATAAG-1 | Control_AAACGAACACAATAAG-1 | AAACGAACACAATAAG-1_Control | 22   | 0    | Control | Control_AAACGAACACAATAAG-1 |\n",
       "| Control_AAACGAACACTGATAC-1 | Control |  954 |  954 |   9449 |  1971 |  59 |  21 |  489 |  3785 |  3124 | ⋯ | 2  | 1370 | 1207 | Control_AAACGAACACTGATAC-1 | Control_AAACGAACACTGATAC-1 | AAACGAACACTGATAC-1_Control | 11   | 2    | Control | Control_AAACGAACACTGATAC-1 |\n",
       "| Control_AAACGAACAGTAACCT-1 | Control |  693 |  693 |   6196 |  1097 |  19 |  17 |  288 |  2635 |  2140 | ⋯ | 8  | 1018 |  939 | Control_AAACGAACAGTAACCT-1 | Control_AAACGAACAGTAACCT-1 | AAACGAACAGTAACCT-1_Control | 34   | 2    | Control | Control_AAACGAACAGTAACCT-1 |\n",
       "| Control_AAACGAACATCGTGAT-1 | Control | 6800 | 6800 | 100024 | 36721 | 588 | 531 | 5317 | 36828 | 20039 | ⋯ | 12 | 8645 | 5001 | Control_AAACGAACATCGTGAT-1 | Control_AAACGAACATCGTGAT-1 | AAACGAACATCGTGAT-1_Control | 2    | 3    | Control | Control_AAACGAACATCGTGAT-1 |\n",
       "| Control_AAACGAAGTAACGGTG-1 | Control | 1074 | 1074 |   8454 |  1950 |  24 |  33 |  354 |  3729 |  2364 | ⋯ | 7  | 1005 |  905 | Control_AAACGAAGTAACGGTG-1 | Control_AAACGAAGTAACGGTG-1 | AAACGAAGTAACGGTG-1_Control | 36   | 3    | Control | Control_AAACGAAGTAACGGTG-1 |\n",
       "| Control_AAACGAAGTAAGTCTC-1 | Control | 1262 | 1262 |   7684 |  1420 |  36 |  23 |  488 |  1787 |  3930 | ⋯ | 13 | 1688 | 1452 | Control_AAACGAAGTAAGTCTC-1 | Control_AAACGAAGTAAGTCTC-1 | AAACGAAGTAAGTCTC-1_Control | 52   | 0    | Control | Control_AAACGAAGTAAGTCTC-1 |\n",
       "| Control_AAACGAAGTACCAAGG-1 | Control | 3936 | 3936 |  27865 |  7135 | 126 | 131 | 1330 |  9549 |  9594 | ⋯ | 12 | 4544 | 3265 | Control_AAACGAAGTACCAAGG-1 | Control_AAACGAAGTACCAAGG-1 | AAACGAAGTACCAAGG-1_Control | 15   | 1    | Control | Control_AAACGAAGTACCAAGG-1 |\n",
       "| Control_AAACGAAGTCCCGTGA-1 | Control | 4425 | 4425 |  31805 |  8689 | 178 | 135 | 1649 |  7738 | 13416 | ⋯ | 9  | 5971 | 3996 | Control_AAACGAAGTCCCGTGA-1 | Control_AAACGAAGTCCCGTGA-1 | AAACGAAGTCCCGTGA-1_Control | 21   | 2    | Control | Control_AAACGAAGTCCCGTGA-1 |\n",
       "| Control_AAACGAAGTGGATTCT-1 | Control |  805 |  805 |   9518 |  1121 |  32 |  37 |  330 |  5983 |  2015 | ⋯ | 5  |  853 |  780 | Control_AAACGAAGTGGATTCT-1 | Control_AAACGAAGTGGATTCT-1 | AAACGAAGTGGATTCT-1_Control | 5    | 0    | Control | Control_AAACGAAGTGGATTCT-1 |\n",
       "| Control_AAACGAATCGAGCGCT-1 | Control | 1892 | 1892 |  11456 |  2558 |  61 |  49 |  687 |  3476 |  4625 | ⋯ | 0  | 2089 | 1779 | Control_AAACGAATCGAGCGCT-1 | Control_AAACGAATCGAGCGCT-1 | AAACGAATCGAGCGCT-1_Control | 25   | 3    | Control | Control_AAACGAATCGAGCGCT-1 |\n",
       "| Control_AAACGAATCGCAACTA-1 | Control | 6272 | 6272 |  56262 | 15793 | 214 | 374 | 3523 | 19210 | 17148 | ⋯ | 1  | 7970 | 4809 | Control_AAACGAATCGCAACTA-1 | Control_AAACGAATCGCAACTA-1 | AAACGAATCGCAACTA-1_Control | 5    | 0    | Control | Control_AAACGAATCGCAACTA-1 |\n",
       "| Control_AAACGAATCGCGCTGA-1 | Control |  614 |  614 |   6366 |   747 |  30 |  20 |  306 |  3521 |  1742 | ⋯ | 5  |  743 |  690 | Control_AAACGAATCGCGCTGA-1 | Control_AAACGAATCGCGCTGA-1 | AAACGAATCGCGCTGA-1_Control | 0    | 3    | Control | Control_AAACGAATCGCGCTGA-1 |\n",
       "| Control_AAACTCGAGATTACGA-1 | Control | 1763 | 1763 |  22032 |  3419 |  83 |  85 | 1085 | 11844 |  5516 | ⋯ | 3  | 2362 | 1974 | Control_AAACTCGAGATTACGA-1 | Control_AAACTCGAGATTACGA-1 | AAACTCGAGATTACGA-1_Control | 36   | 3    | Control | Control_AAACTCGAGATTACGA-1 |\n",
       "| Control_AAACTCGCAAGACTTC-1 | Control |  402 |  402 |   5303 |   728 |   8 |  18 |  232 |  2874 |  1443 | ⋯ | 8  |  697 |  654 | Control_AAACTCGCAAGACTTC-1 | Control_AAACTCGCAAGACTTC-1 | AAACTCGCAAGACTTC-1_Control | 0    | 0    | Control | Control_AAACTCGCAAGACTTC-1 |\n",
       "| Control_AAACTCGCACAAGGGT-1 | Control |  336 |  336 |  18623 |   982 |   9 |  91 |  510 | 15503 |  1528 | ⋯ | 10 |  663 |  616 | Control_AAACTCGCACAAGGGT-1 | Control_AAACTCGCACAAGGGT-1 | AAACTCGCACAAGGGT-1_Control | 1    | 1    | Control | Control_AAACTCGCACAAGGGT-1 |\n",
       "| Control_AAACTCGCACCTCGTT-1 | Control | 3499 | 3499 |  30543 |  6297 | 148 | 239 | 1359 | 12689 |  9811 | ⋯ | 0  | 4338 | 3121 | Control_AAACTCGCACCTCGTT-1 | Control_AAACTCGCACCTCGTT-1 | AAACTCGCACCTCGTT-1_Control | 5    | 1    | Control | Control_AAACTCGCACCTCGTT-1 |\n",
       "| Control_AAACTCGCACTTGCGG-1 | Control |  631 |  631 |   7038 |   991 |  27 |  31 |  299 |  3787 |  1903 | ⋯ | 7  |  799 |  726 | Control_AAACTCGCACTTGCGG-1 | Control_AAACTCGCACTTGCGG-1 | AAACTCGCACTTGCGG-1_Control | 13   | 2    | Control | Control_AAACTCGCACTTGCGG-1 |\n",
       "| Control_AAACTCGCATCGCCTT-1 | Control | 1469 | 1469 |  13537 |  3614 |  56 |  90 |  777 |  3050 |  5950 | ⋯ | 8  | 2427 | 1934 | Control_AAACTCGCATCGCCTT-1 | Control_AAACTCGCATCGCCTT-1 | AAACTCGCATCGCCTT-1_Control | 52   | 0    | Control | Control_AAACTCGCATCGCCTT-1 |\n",
       "| Control_AAACTCGCATGTGGGA-1 | Control | 3349 | 3349 |  48037 |  8932 | 171 | 241 | 1618 | 26241 | 10834 | ⋯ | 2  | 4880 | 3364 | Control_AAACTCGCATGTGGGA-1 | Control_AAACTCGCATGTGGGA-1 | AAACTCGCATGTGGGA-1_Control | 8    | 2    | Control | Control_AAACTCGCATGTGGGA-1 |\n",
       "| Control_AAACTCGGTATCCTTT-1 | Control | 2525 | 2525 |  21479 |  7157 | 101 | 159 | 1220 |  2182 | 10660 | ⋯ | 14 | 5227 | 3582 | Control_AAACTCGGTATCCTTT-1 | Control_AAACTCGGTATCCTTT-1 | AAACTCGGTATCCTTT-1_Control | 14   | 0    | Control | Control_AAACTCGGTATCCTTT-1 |\n",
       "| Control_AAACTCGGTGCCCTAG-1 | Control | 3414 | 3414 |  32698 |  7966 | 110 | 187 | 1479 | 13991 |  8965 | ⋯ | 0  | 4218 | 3110 | Control_AAACTCGGTGCCCTAG-1 | Control_AAACTCGGTGCCCTAG-1 | AAACTCGGTGCCCTAG-1_Control | 6    | 1    | Control | Control_AAACTCGGTGCCCTAG-1 |\n",
       "| Control_AAACTCGGTGTAGGAC-1 | Control |  517 |  517 |   3157 |   501 |   9 |  12 |  201 |   977 |  1457 | ⋯ | 11 |  607 |  572 | Control_AAACTCGGTGTAGGAC-1 | Control_AAACTCGGTGTAGGAC-1 | NA                         | None | None | None    | Control_AAACTCGGTGTAGGAC-1 |\n",
       "| Control_AAACTCGTCACTAGCA-1 | Control | 1571 | 1571 |  30764 |  4287 |  64 | 125 | 1018 | 19274 |  5996 | ⋯ | 5  | 2275 | 1799 | Control_AAACTCGTCACTAGCA-1 | Control_AAACTCGTCACTAGCA-1 | AAACTCGTCACTAGCA-1_Control | 22   | 1    | Control | Control_AAACTCGTCACTAGCA-1 |\n",
       "| Control_AAACTCGTCGAGTGTT-1 | Control | 2715 | 2715 |  29393 |  6514 | 144 | 188 | 1598 | 10615 | 10334 | ⋯ | 8  | 4689 | 3342 | Control_AAACTCGTCGAGTGTT-1 | Control_AAACTCGTCGAGTGTT-1 | AAACTCGTCGAGTGTT-1_Control | 31   | 0    | Control | Control_AAACTCGTCGAGTGTT-1 |\n",
       "| Control_AAACTCGTCTATCCTA-1 | Control | 2111 | 2111 |  18524 |  5154 | 104 |  82 | 1150 |  5499 |  6535 | ⋯ | 2  | 2967 | 2259 | Control_AAACTCGTCTATCCTA-1 | Control_AAACTCGTCTATCCTA-1 | AAACTCGTCTATCCTA-1_Control | 18   | 1    | Control | Control_AAACTCGTCTATCCTA-1 |\n",
       "| Control_AAACTGCAGCATGTGG-1 | Control | 3475 | 3475 |  25818 |  5609 | 136 | 114 | 1775 |  7066 | 11118 | ⋯ | 5  | 4983 | 3538 | Control_AAACTGCAGCATGTGG-1 | Control_AAACTGCAGCATGTGG-1 | AAACTGCAGCATGTGG-1_Control | 36   | 3    | Control | Control_AAACTGCAGCATGTGG-1 |\n",
       "| ⋮ | ⋮ | ⋮ | ⋮ | ⋮ | ⋮ | ⋮ | ⋮ | ⋮ | ⋮ | ⋮ | ⋱ | ⋮ | ⋮ | ⋮ | ⋮ | ⋮ | ⋮ | ⋮ | ⋮ | ⋮ | ⋮ |\n",
       "| Flt3l_TTTGTGTAGAGAACCC-1 | Flt3l | 1855 | 1855 | 13580 | 1993 |  64 |  61 |  794 |  5812 |  4856 | ⋯ | 2  | 2318 | 1962 | Flt3l_TTTGTGTAGAGAACCC-1 | Flt3l_TTTGTGTAGAGAACCC-1 | TTTGTGTAGAGAACCC-1_Flt3l | 1    | 0    | Flt3l | Flt3l_TTTGTGTAGAGAACCC-1 |\n",
       "| Flt3l_TTTGTGTAGAGAGTAG-1 | Flt3l | 3178 | 3178 | 20770 | 3871 |  99 |  79 | 1226 |  6564 |  8931 | ⋯ | 1  | 4051 | 3025 | Flt3l_TTTGTGTAGAGAGTAG-1 | Flt3l_TTTGTGTAGAGAGTAG-1 | TTTGTGTAGAGAGTAG-1_Flt3l | 14   | 3    | Flt3l | Flt3l_TTTGTGTAGAGAGTAG-1 |\n",
       "| Flt3l_TTTGTGTAGAGGTCCA-1 | Flt3l | 1406 | 1406 | 10379 | 1486 |  35 |  31 |  602 |  4095 |  4130 | ⋯ | 4  | 2113 | 1768 | Flt3l_TTTGTGTAGAGGTCCA-1 | Flt3l_TTTGTGTAGAGGTCCA-1 | TTTGTGTAGAGGTCCA-1_Flt3l | 0    | 0    | Flt3l | Flt3l_TTTGTGTAGAGGTCCA-1 |\n",
       "| Flt3l_TTTGTGTAGCCTCGCA-1 | Flt3l | 4592 | 4592 | 34494 | 5001 | 130 | 122 | 1968 | 11721 | 15552 | ⋯ | 8  | 7667 | 4908 | Flt3l_TTTGTGTAGCCTCGCA-1 | Flt3l_TTTGTGTAGCCTCGCA-1 | NA                       | None | None | None  | Flt3l_TTTGTGTAGCCTCGCA-1 |\n",
       "| Flt3l_TTTGTGTAGCGTCAAG-1 | Flt3l | 2066 | 2066 | 16251 | 2293 |  64 |  74 |  831 |  7421 |  5568 | ⋯ | 6  | 2581 | 2112 | Flt3l_TTTGTGTAGCGTCAAG-1 | Flt3l_TTTGTGTAGCGTCAAG-1 | TTTGTGTAGCGTCAAG-1_Flt3l | 10   | 0    | Flt3l | Flt3l_TTTGTGTAGCGTCAAG-1 |\n",
       "| Flt3l_TTTGTGTAGCTAGTTC-1 | Flt3l |  265 |  265 |  1014 |  111 |  11 |   7 |   87 |   292 |   506 | ⋯ | 6  |  235 |  228 | Flt3l_TTTGTGTAGCTAGTTC-1 | Flt3l_TTTGTGTAGCTAGTTC-1 | NA                       | None | None | None  | Flt3l_TTTGTGTAGCTAGTTC-1 |\n",
       "| Flt3l_TTTGTGTAGGAGTCTG-1 | Flt3l | 2130 | 2130 | 18213 | 2550 |  73 |  72 |  951 |  8332 |  6235 | ⋯ | 4  | 3132 | 2490 | Flt3l_TTTGTGTAGGAGTCTG-1 | Flt3l_TTTGTGTAGGAGTCTG-1 | TTTGTGTAGGAGTCTG-1_Flt3l | 41   | 0    | Flt3l | Flt3l_TTTGTGTAGGAGTCTG-1 |\n",
       "| Flt3l_TTTGTGTAGGCACCTC-1 | Flt3l |  788 |  788 |  5515 |  563 |  19 |  19 |  277 |  2347 |  2290 | ⋯ | 6  | 1157 | 1052 | Flt3l_TTTGTGTAGGCACCTC-1 | Flt3l_TTTGTGTAGGCACCTC-1 | TTTGTGTAGGCACCTC-1_Flt3l | 32   | 1    | Flt3l | Flt3l_TTTGTGTAGGCACCTC-1 |\n",
       "| Flt3l_TTTGTGTAGTATACCC-1 | Flt3l |  730 |  730 |  6666 |  577 |  21 |  28 |  322 |  3612 |  2106 | ⋯ | 6  |  959 |  875 | Flt3l_TTTGTGTAGTATACCC-1 | Flt3l_TTTGTGTAGTATACCC-1 | TTTGTGTAGTATACCC-1_Flt3l | 11   | 1    | Flt3l | Flt3l_TTTGTGTAGTATACCC-1 |\n",
       "| Flt3l_TTTGTGTCAACTCGTA-1 | Flt3l | 1324 | 1324 | 10723 | 1204 |  38 |  54 |  511 |  5395 |  3521 | ⋯ | 3  | 1558 | 1358 | Flt3l_TTTGTGTCAACTCGTA-1 | Flt3l_TTTGTGTCAACTCGTA-1 | TTTGTGTCAACTCGTA-1_Flt3l | 26   | 1    | Flt3l | Flt3l_TTTGTGTCAACTCGTA-1 |\n",
       "| Flt3l_TTTGTGTCAAGGGTAC-1 | Flt3l |  936 |  936 |  6614 |  700 |  27 |  38 |  480 |  2706 |  2663 | ⋯ | 6  | 1205 | 1102 | Flt3l_TTTGTGTCAAGGGTAC-1 | Flt3l_TTTGTGTCAAGGGTAC-1 | TTTGTGTCAAGGGTAC-1_Flt3l | 3    | 1    | Flt3l | Flt3l_TTTGTGTCAAGGGTAC-1 |\n",
       "| Flt3l_TTTGTGTCACGCCGAT-1 | Flt3l | 1120 | 1120 |  7625 |  969 |  33 |  31 |  456 |  2848 |  3288 | ⋯ | 2  | 1535 | 1377 | Flt3l_TTTGTGTCACGCCGAT-1 | Flt3l_TTTGTGTCACGCCGAT-1 | TTTGTGTCACGCCGAT-1_Flt3l | 2    | 0    | Flt3l | Flt3l_TTTGTGTCACGCCGAT-1 |\n",
       "| Flt3l_TTTGTGTCACTACACA-1 | Flt3l | 3311 | 3311 | 24547 | 3832 | 105 |  86 | 1293 |  9643 |  9588 | ⋯ | 4  | 4904 | 3436 | Flt3l_TTTGTGTCACTACACA-1 | Flt3l_TTTGTGTCACTACACA-1 | TTTGTGTCACTACACA-1_Flt3l | 3    | 0    | Flt3l | Flt3l_TTTGTGTCACTACACA-1 |\n",
       "| Flt3l_TTTGTGTCAGCAACCC-1 | Flt3l | 1188 | 1188 |  8635 | 1036 |  56 |  24 |  497 |  3470 |  3552 | ⋯ | 6  | 1685 | 1492 | Flt3l_TTTGTGTCAGCAACCC-1 | Flt3l_TTTGTGTCAGCAACCC-1 | TTTGTGTCAGCAACCC-1_Flt3l | 0    | 2    | Flt3l | Flt3l_TTTGTGTCAGCAACCC-1 |\n",
       "| Flt3l_TTTGTGTCAGGGTAAC-1 | Flt3l | 2092 | 2092 | 15522 | 1898 |  77 |  56 |  930 |  5820 |  6741 | ⋯ | 1  | 3155 | 2538 | Flt3l_TTTGTGTCAGGGTAAC-1 | Flt3l_TTTGTGTCAGGGTAAC-1 | TTTGTGTCAGGGTAAC-1_Flt3l | 33   | 1    | Flt3l | Flt3l_TTTGTGTCAGGGTAAC-1 |\n",
       "| Flt3l_TTTGTGTCATTTCTTG-1 | Flt3l | 2226 | 2226 | 19004 | 2792 |  86 |  82 |  872 |  8029 |  7143 | ⋯ | 3  | 3145 | 2439 | Flt3l_TTTGTGTCATTTCTTG-1 | Flt3l_TTTGTGTCATTTCTTG-1 | TTTGTGTCATTTCTTG-1_Flt3l | 26   | 1    | Flt3l | Flt3l_TTTGTGTCATTTCTTG-1 |\n",
       "| Flt3l_TTTGTGTGTATACGCT-1 | Flt3l |  929 |  929 |  6489 | 1081 |  40 |  36 |  470 |  2199 |  2663 | ⋯ | 8  | 1293 | 1127 | Flt3l_TTTGTGTGTATACGCT-1 | Flt3l_TTTGTGTGTATACGCT-1 | TTTGTGTGTATACGCT-1_Flt3l | 20   | 0    | Flt3l | Flt3l_TTTGTGTGTATACGCT-1 |\n",
       "| Flt3l_TTTGTGTGTATCTCAG-1 | Flt3l | 1964 | 1964 | 14441 | 2580 |  51 |  69 |  826 |  4943 |  5972 | ⋯ | 1  | 2721 | 2236 | Flt3l_TTTGTGTGTATCTCAG-1 | Flt3l_TTTGTGTGTATCTCAG-1 | TTTGTGTGTATCTCAG-1_Flt3l | 7    | 0    | Flt3l | Flt3l_TTTGTGTGTATCTCAG-1 |\n",
       "| Flt3l_TTTGTGTGTATTCTGG-1 | Flt3l | 5978 | 5978 | 28284 | 6136 | 134 | 147 | 1851 |  2893 | 17123 | ⋯ | 2  | 7784 | 4770 | Flt3l_TTTGTGTGTATTCTGG-1 | Flt3l_TTTGTGTGTATTCTGG-1 | TTTGTGTGTATTCTGG-1_Flt3l | 36   | 3    | Flt3l | Flt3l_TTTGTGTGTATTCTGG-1 |\n",
       "| Flt3l_TTTGTGTGTCCGTGCA-1 | Flt3l | 1296 | 1296 | 11556 | 1645 |  42 |  55 |  534 |  5287 |  3993 | ⋯ | 5  | 1916 | 1636 | Flt3l_TTTGTGTGTCCGTGCA-1 | Flt3l_TTTGTGTGTCCGTGCA-1 | TTTGTGTGTCCGTGCA-1_Flt3l | 11   | 2    | Flt3l | Flt3l_TTTGTGTGTCCGTGCA-1 |\n",
       "| Flt3l_TTTGTGTGTGAATACA-1 | Flt3l | 2845 | 2845 | 23953 | 3551 |  94 | 110 | 1268 | 11009 |  7921 | ⋯ | 1  | 3617 | 2791 | Flt3l_TTTGTGTGTGAATACA-1 | Flt3l_TTTGTGTGTGAATACA-1 | TTTGTGTGTGAATACA-1_Flt3l | 10   | 1    | Flt3l | Flt3l_TTTGTGTGTGAATACA-1 |\n",
       "| Flt3l_TTTGTGTGTTTGACCA-1 | Flt3l | 1467 | 1467 | 12816 | 1524 |  49 |  73 |  713 |  5956 |  4501 | ⋯ | 2  | 2271 | 1893 | Flt3l_TTTGTGTGTTTGACCA-1 | Flt3l_TTTGTGTGTTTGACCA-1 | TTTGTGTGTTTGACCA-1_Flt3l | 0    | 2    | Flt3l | Flt3l_TTTGTGTGTTTGACCA-1 |\n",
       "| Flt3l_TTTGTGTTCAAAGTAG-1 | Flt3l | 1145 | 1145 |  9612 | 1305 |  33 |  52 |  557 |  4519 |  3146 | ⋯ | 6  | 1493 | 1313 | Flt3l_TTTGTGTTCAAAGTAG-1 | Flt3l_TTTGTGTTCAAAGTAG-1 | TTTGTGTTCAAAGTAG-1_Flt3l | 18   | 1    | Flt3l | Flt3l_TTTGTGTTCAAAGTAG-1 |\n",
       "| Flt3l_TTTGTGTTCCTAGAGT-1 | Flt3l | 2238 | 2238 | 10933 | 1294 |  48 |  47 |  919 |  3685 |  4940 | ⋯ | 10 | 2348 | 1992 | Flt3l_TTTGTGTTCCTAGAGT-1 | Flt3l_TTTGTGTTCCTAGAGT-1 | TTTGTGTTCCTAGAGT-1_Flt3l | 14   | 2    | Flt3l | Flt3l_TTTGTGTTCCTAGAGT-1 |\n",
       "| Flt3l_TTTGTGTTCCTTTGCG-1 | Flt3l | 2737 | 2737 | 25608 | 4593 |  78 | 159 | 1486 | 11639 |  7653 | ⋯ | 1  | 3580 | 2812 | Flt3l_TTTGTGTTCCTTTGCG-1 | Flt3l_TTTGTGTTCCTTTGCG-1 | TTTGTGTTCCTTTGCG-1_Flt3l | 6    | 1    | Flt3l | Flt3l_TTTGTGTTCCTTTGCG-1 |\n",
       "| Flt3l_TTTGTGTTCGAGTTAC-1 | Flt3l | 2680 | 2680 | 17658 | 2695 |  42 |  85 | 1186 |  5949 |  7701 | ⋯ | 1  | 3507 | 2762 | Flt3l_TTTGTGTTCGAGTTAC-1 | Flt3l_TTTGTGTTCGAGTTAC-1 | TTTGTGTTCGAGTTAC-1_Flt3l | 6    | 0    | Flt3l | Flt3l_TTTGTGTTCGAGTTAC-1 |\n",
       "| Flt3l_TTTGTGTTCGCATAAC-1 | Flt3l | 1360 | 1360 | 11301 | 1275 |  40 |  44 |  596 |  4231 |  5115 | ⋯ | 10 | 2365 | 2004 | Flt3l_TTTGTGTTCGCATAAC-1 | Flt3l_TTTGTGTTCGCATAAC-1 | NA                       | None | None | None  | Flt3l_TTTGTGTTCGCATAAC-1 |\n",
       "| Flt3l_TTTGTGTTCGTGGTAT-1 | Flt3l | 1510 | 1510 |  9188 | 1165 |  33 |  42 |  620 |  3337 |  3991 | ⋯ | 1  | 1867 | 1611 | Flt3l_TTTGTGTTCGTGGTAT-1 | Flt3l_TTTGTGTTCGTGGTAT-1 | TTTGTGTTCGTGGTAT-1_Flt3l | 14   | 1    | Flt3l | Flt3l_TTTGTGTTCGTGGTAT-1 |\n",
       "| Flt3l_TTTGTGTTCGTTACAG-1 | Flt3l | 4063 | 4063 | 35699 | 6656 | 184 | 194 | 1921 | 15800 | 10944 | ⋯ | 1  | 4833 | 3423 | Flt3l_TTTGTGTTCGTTACAG-1 | Flt3l_TTTGTGTTCGTTACAG-1 | TTTGTGTTCGTTACAG-1_Flt3l | 1    | 3    | Flt3l | Flt3l_TTTGTGTTCGTTACAG-1 |\n",
       "| Flt3l_TTTGTGTTCTCCTTGG-1 | Flt3l | 1996 | 1996 | 15495 | 2205 |  56 |  79 |  863 |  6360 |  5932 | ⋯ | 4  | 2813 | 2231 | Flt3l_TTTGTGTTCTCCTTGG-1 | Flt3l_TTTGTGTTCTCCTTGG-1 | TTTGTGTTCTCCTTGG-1_Flt3l | 1    | 3    | Flt3l | Flt3l_TTTGTGTTCTCCTTGG-1 |\n",
       "\n"
      ],
      "text/plain": [
       "                           orig.ident nCount_ATAC nFeature_ATAC total \n",
       "Control_AAACGAAAGAGGTCCA-1 Control    1357        1357           16929\n",
       "Control_AAACGAAAGCGATACG-1 Control    3505        3505           45359\n",
       "Control_AAACGAAAGTCGTGAG-1 Control     994         994           10177\n",
       "Control_AAACGAACAATAGTGA-1 Control    2687        2687           22452\n",
       "Control_AAACGAACACAATAAG-1 Control    1184        1184           11763\n",
       "Control_AAACGAACACTGATAC-1 Control     954         954            9449\n",
       "Control_AAACGAACAGTAACCT-1 Control     693         693            6196\n",
       "Control_AAACGAACATCGTGAT-1 Control    6800        6800          100024\n",
       "Control_AAACGAAGTAACGGTG-1 Control    1074        1074            8454\n",
       "Control_AAACGAAGTAAGTCTC-1 Control    1262        1262            7684\n",
       "Control_AAACGAAGTACCAAGG-1 Control    3936        3936           27865\n",
       "Control_AAACGAAGTCCCGTGA-1 Control    4425        4425           31805\n",
       "Control_AAACGAAGTGGATTCT-1 Control     805         805            9518\n",
       "Control_AAACGAATCGAGCGCT-1 Control    1892        1892           11456\n",
       "Control_AAACGAATCGCAACTA-1 Control    6272        6272           56262\n",
       "Control_AAACGAATCGCGCTGA-1 Control     614         614            6366\n",
       "Control_AAACTCGAGATTACGA-1 Control    1763        1763           22032\n",
       "Control_AAACTCGCAAGACTTC-1 Control     402         402            5303\n",
       "Control_AAACTCGCACAAGGGT-1 Control     336         336           18623\n",
       "Control_AAACTCGCACCTCGTT-1 Control    3499        3499           30543\n",
       "Control_AAACTCGCACTTGCGG-1 Control     631         631            7038\n",
       "Control_AAACTCGCATCGCCTT-1 Control    1469        1469           13537\n",
       "Control_AAACTCGCATGTGGGA-1 Control    3349        3349           48037\n",
       "Control_AAACTCGGTATCCTTT-1 Control    2525        2525           21479\n",
       "Control_AAACTCGGTGCCCTAG-1 Control    3414        3414           32698\n",
       "Control_AAACTCGGTGTAGGAC-1 Control     517         517            3157\n",
       "Control_AAACTCGTCACTAGCA-1 Control    1571        1571           30764\n",
       "Control_AAACTCGTCGAGTGTT-1 Control    2715        2715           29393\n",
       "Control_AAACTCGTCTATCCTA-1 Control    2111        2111           18524\n",
       "Control_AAACTGCAGCATGTGG-1 Control    3475        3475           25818\n",
       "⋮                          ⋮          ⋮           ⋮             ⋮     \n",
       "Flt3l_TTTGTGTAGAGAACCC-1   Flt3l      1855        1855          13580 \n",
       "Flt3l_TTTGTGTAGAGAGTAG-1   Flt3l      3178        3178          20770 \n",
       "Flt3l_TTTGTGTAGAGGTCCA-1   Flt3l      1406        1406          10379 \n",
       "Flt3l_TTTGTGTAGCCTCGCA-1   Flt3l      4592        4592          34494 \n",
       "Flt3l_TTTGTGTAGCGTCAAG-1   Flt3l      2066        2066          16251 \n",
       "Flt3l_TTTGTGTAGCTAGTTC-1   Flt3l       265         265           1014 \n",
       "Flt3l_TTTGTGTAGGAGTCTG-1   Flt3l      2130        2130          18213 \n",
       "Flt3l_TTTGTGTAGGCACCTC-1   Flt3l       788         788           5515 \n",
       "Flt3l_TTTGTGTAGTATACCC-1   Flt3l       730         730           6666 \n",
       "Flt3l_TTTGTGTCAACTCGTA-1   Flt3l      1324        1324          10723 \n",
       "Flt3l_TTTGTGTCAAGGGTAC-1   Flt3l       936         936           6614 \n",
       "Flt3l_TTTGTGTCACGCCGAT-1   Flt3l      1120        1120           7625 \n",
       "Flt3l_TTTGTGTCACTACACA-1   Flt3l      3311        3311          24547 \n",
       "Flt3l_TTTGTGTCAGCAACCC-1   Flt3l      1188        1188           8635 \n",
       "Flt3l_TTTGTGTCAGGGTAAC-1   Flt3l      2092        2092          15522 \n",
       "Flt3l_TTTGTGTCATTTCTTG-1   Flt3l      2226        2226          19004 \n",
       "Flt3l_TTTGTGTGTATACGCT-1   Flt3l       929         929           6489 \n",
       "Flt3l_TTTGTGTGTATCTCAG-1   Flt3l      1964        1964          14441 \n",
       "Flt3l_TTTGTGTGTATTCTGG-1   Flt3l      5978        5978          28284 \n",
       "Flt3l_TTTGTGTGTCCGTGCA-1   Flt3l      1296        1296          11556 \n",
       "Flt3l_TTTGTGTGTGAATACA-1   Flt3l      2845        2845          23953 \n",
       "Flt3l_TTTGTGTGTTTGACCA-1   Flt3l      1467        1467          12816 \n",
       "Flt3l_TTTGTGTTCAAAGTAG-1   Flt3l      1145        1145           9612 \n",
       "Flt3l_TTTGTGTTCCTAGAGT-1   Flt3l      2238        2238          10933 \n",
       "Flt3l_TTTGTGTTCCTTTGCG-1   Flt3l      2737        2737          25608 \n",
       "Flt3l_TTTGTGTTCGAGTTAC-1   Flt3l      2680        2680          17658 \n",
       "Flt3l_TTTGTGTTCGCATAAC-1   Flt3l      1360        1360          11301 \n",
       "Flt3l_TTTGTGTTCGTGGTAT-1   Flt3l      1510        1510           9188 \n",
       "Flt3l_TTTGTGTTCGTTACAG-1   Flt3l      4063        4063          35699 \n",
       "Flt3l_TTTGTGTTCTCCTTGG-1   Flt3l      1996        1996          15495 \n",
       "                           duplicate chimeric unmapped lowmapq mitochondrial\n",
       "Control_AAACGAAAGAGGTCCA-1  2587      58       70       674     9629        \n",
       "Control_AAACGAAAGCGATACG-1 10546     184      184      2302    22247        \n",
       "Control_AAACGAAAGTCGTGAG-1  2450      48       60       657     2135        \n",
       "Control_AAACGAACAATAGTGA-1  4364     100       83       897     9233        \n",
       "Control_AAACGAACACAATAAG-1  2003      43       57       680     5547        \n",
       "Control_AAACGAACACTGATAC-1  1971      59       21       489     3785        \n",
       "Control_AAACGAACAGTAACCT-1  1097      19       17       288     2635        \n",
       "Control_AAACGAACATCGTGAT-1 36721     588      531      5317    36828        \n",
       "Control_AAACGAAGTAACGGTG-1  1950      24       33       354     3729        \n",
       "Control_AAACGAAGTAAGTCTC-1  1420      36       23       488     1787        \n",
       "Control_AAACGAAGTACCAAGG-1  7135     126      131      1330     9549        \n",
       "Control_AAACGAAGTCCCGTGA-1  8689     178      135      1649     7738        \n",
       "Control_AAACGAAGTGGATTCT-1  1121      32       37       330     5983        \n",
       "Control_AAACGAATCGAGCGCT-1  2558      61       49       687     3476        \n",
       "Control_AAACGAATCGCAACTA-1 15793     214      374      3523    19210        \n",
       "Control_AAACGAATCGCGCTGA-1   747      30       20       306     3521        \n",
       "Control_AAACTCGAGATTACGA-1  3419      83       85      1085    11844        \n",
       "Control_AAACTCGCAAGACTTC-1   728       8       18       232     2874        \n",
       "Control_AAACTCGCACAAGGGT-1   982       9       91       510    15503        \n",
       "Control_AAACTCGCACCTCGTT-1  6297     148      239      1359    12689        \n",
       "Control_AAACTCGCACTTGCGG-1   991      27       31       299     3787        \n",
       "Control_AAACTCGCATCGCCTT-1  3614      56       90       777     3050        \n",
       "Control_AAACTCGCATGTGGGA-1  8932     171      241      1618    26241        \n",
       "Control_AAACTCGGTATCCTTT-1  7157     101      159      1220     2182        \n",
       "Control_AAACTCGGTGCCCTAG-1  7966     110      187      1479    13991        \n",
       "Control_AAACTCGGTGTAGGAC-1   501       9       12       201      977        \n",
       "Control_AAACTCGTCACTAGCA-1  4287      64      125      1018    19274        \n",
       "Control_AAACTCGTCGAGTGTT-1  6514     144      188      1598    10615        \n",
       "Control_AAACTCGTCTATCCTA-1  5154     104       82      1150     5499        \n",
       "Control_AAACTGCAGCATGTGG-1  5609     136      114      1775     7066        \n",
       "⋮                          ⋮         ⋮        ⋮        ⋮       ⋮            \n",
       "Flt3l_TTTGTGTAGAGAACCC-1   1993       64       61       794     5812        \n",
       "Flt3l_TTTGTGTAGAGAGTAG-1   3871       99       79      1226     6564        \n",
       "Flt3l_TTTGTGTAGAGGTCCA-1   1486       35       31       602     4095        \n",
       "Flt3l_TTTGTGTAGCCTCGCA-1   5001      130      122      1968    11721        \n",
       "Flt3l_TTTGTGTAGCGTCAAG-1   2293       64       74       831     7421        \n",
       "Flt3l_TTTGTGTAGCTAGTTC-1    111       11        7        87      292        \n",
       "Flt3l_TTTGTGTAGGAGTCTG-1   2550       73       72       951     8332        \n",
       "Flt3l_TTTGTGTAGGCACCTC-1    563       19       19       277     2347        \n",
       "Flt3l_TTTGTGTAGTATACCC-1    577       21       28       322     3612        \n",
       "Flt3l_TTTGTGTCAACTCGTA-1   1204       38       54       511     5395        \n",
       "Flt3l_TTTGTGTCAAGGGTAC-1    700       27       38       480     2706        \n",
       "Flt3l_TTTGTGTCACGCCGAT-1    969       33       31       456     2848        \n",
       "Flt3l_TTTGTGTCACTACACA-1   3832      105       86      1293     9643        \n",
       "Flt3l_TTTGTGTCAGCAACCC-1   1036       56       24       497     3470        \n",
       "Flt3l_TTTGTGTCAGGGTAAC-1   1898       77       56       930     5820        \n",
       "Flt3l_TTTGTGTCATTTCTTG-1   2792       86       82       872     8029        \n",
       "Flt3l_TTTGTGTGTATACGCT-1   1081       40       36       470     2199        \n",
       "Flt3l_TTTGTGTGTATCTCAG-1   2580       51       69       826     4943        \n",
       "Flt3l_TTTGTGTGTATTCTGG-1   6136      134      147      1851     2893        \n",
       "Flt3l_TTTGTGTGTCCGTGCA-1   1645       42       55       534     5287        \n",
       "Flt3l_TTTGTGTGTGAATACA-1   3551       94      110      1268    11009        \n",
       "Flt3l_TTTGTGTGTTTGACCA-1   1524       49       73       713     5956        \n",
       "Flt3l_TTTGTGTTCAAAGTAG-1   1305       33       52       557     4519        \n",
       "Flt3l_TTTGTGTTCCTAGAGT-1   1294       48       47       919     3685        \n",
       "Flt3l_TTTGTGTTCCTTTGCG-1   4593       78      159      1486    11639        \n",
       "Flt3l_TTTGTGTTCGAGTTAC-1   2695       42       85      1186     5949        \n",
       "Flt3l_TTTGTGTTCGCATAAC-1   1275       40       44       596     4231        \n",
       "Flt3l_TTTGTGTTCGTGGTAT-1   1165       33       42       620     3337        \n",
       "Flt3l_TTTGTGTTCGTTACAG-1   6656      184      194      1921    15800        \n",
       "Flt3l_TTTGTGTTCTCCTTGG-1   2205       56       79       863     6360        \n",
       "                           passed_filters ⋯ seurat_clusters nCount_RNA\n",
       "Control_AAACGAAAGAGGTCCA-1  3911          ⋯ 5               1673      \n",
       "Control_AAACGAAAGCGATACG-1  9896          ⋯ 0               4315      \n",
       "Control_AAACGAAAGTCGTGAG-1  4827          ⋯ 5               1731      \n",
       "Control_AAACGAACAATAGTGA-1  7775          ⋯ 0               3113      \n",
       "Control_AAACGAACACAATAAG-1  3433          ⋯ 5               1559      \n",
       "Control_AAACGAACACTGATAC-1  3124          ⋯ 2               1370      \n",
       "Control_AAACGAACAGTAACCT-1  2140          ⋯ 8               1018      \n",
       "Control_AAACGAACATCGTGAT-1 20039          ⋯ 12              8645      \n",
       "Control_AAACGAAGTAACGGTG-1  2364          ⋯ 7               1005      \n",
       "Control_AAACGAAGTAAGTCTC-1  3930          ⋯ 13              1688      \n",
       "Control_AAACGAAGTACCAAGG-1  9594          ⋯ 12              4544      \n",
       "Control_AAACGAAGTCCCGTGA-1 13416          ⋯ 9               5971      \n",
       "Control_AAACGAAGTGGATTCT-1  2015          ⋯ 5                853      \n",
       "Control_AAACGAATCGAGCGCT-1  4625          ⋯ 0               2089      \n",
       "Control_AAACGAATCGCAACTA-1 17148          ⋯ 1               7970      \n",
       "Control_AAACGAATCGCGCTGA-1  1742          ⋯ 5                743      \n",
       "Control_AAACTCGAGATTACGA-1  5516          ⋯ 3               2362      \n",
       "Control_AAACTCGCAAGACTTC-1  1443          ⋯ 8                697      \n",
       "Control_AAACTCGCACAAGGGT-1  1528          ⋯ 10               663      \n",
       "Control_AAACTCGCACCTCGTT-1  9811          ⋯ 0               4338      \n",
       "Control_AAACTCGCACTTGCGG-1  1903          ⋯ 7                799      \n",
       "Control_AAACTCGCATCGCCTT-1  5950          ⋯ 8               2427      \n",
       "Control_AAACTCGCATGTGGGA-1 10834          ⋯ 2               4880      \n",
       "Control_AAACTCGGTATCCTTT-1 10660          ⋯ 14              5227      \n",
       "Control_AAACTCGGTGCCCTAG-1  8965          ⋯ 0               4218      \n",
       "Control_AAACTCGGTGTAGGAC-1  1457          ⋯ 11               607      \n",
       "Control_AAACTCGTCACTAGCA-1  5996          ⋯ 5               2275      \n",
       "Control_AAACTCGTCGAGTGTT-1 10334          ⋯ 8               4689      \n",
       "Control_AAACTCGTCTATCCTA-1  6535          ⋯ 2               2967      \n",
       "Control_AAACTGCAGCATGTGG-1 11118          ⋯ 5               4983      \n",
       "⋮                          ⋮              ⋱ ⋮               ⋮         \n",
       "Flt3l_TTTGTGTAGAGAACCC-1    4856          ⋯ 2               2318      \n",
       "Flt3l_TTTGTGTAGAGAGTAG-1    8931          ⋯ 1               4051      \n",
       "Flt3l_TTTGTGTAGAGGTCCA-1    4130          ⋯ 4               2113      \n",
       "Flt3l_TTTGTGTAGCCTCGCA-1   15552          ⋯ 8               7667      \n",
       "Flt3l_TTTGTGTAGCGTCAAG-1    5568          ⋯ 6               2581      \n",
       "Flt3l_TTTGTGTAGCTAGTTC-1     506          ⋯ 6                235      \n",
       "Flt3l_TTTGTGTAGGAGTCTG-1    6235          ⋯ 4               3132      \n",
       "Flt3l_TTTGTGTAGGCACCTC-1    2290          ⋯ 6               1157      \n",
       "Flt3l_TTTGTGTAGTATACCC-1    2106          ⋯ 6                959      \n",
       "Flt3l_TTTGTGTCAACTCGTA-1    3521          ⋯ 3               1558      \n",
       "Flt3l_TTTGTGTCAAGGGTAC-1    2663          ⋯ 6               1205      \n",
       "Flt3l_TTTGTGTCACGCCGAT-1    3288          ⋯ 2               1535      \n",
       "Flt3l_TTTGTGTCACTACACA-1    9588          ⋯ 4               4904      \n",
       "Flt3l_TTTGTGTCAGCAACCC-1    3552          ⋯ 6               1685      \n",
       "Flt3l_TTTGTGTCAGGGTAAC-1    6741          ⋯ 1               3155      \n",
       "Flt3l_TTTGTGTCATTTCTTG-1    7143          ⋯ 3               3145      \n",
       "Flt3l_TTTGTGTGTATACGCT-1    2663          ⋯ 8               1293      \n",
       "Flt3l_TTTGTGTGTATCTCAG-1    5972          ⋯ 1               2721      \n",
       "Flt3l_TTTGTGTGTATTCTGG-1   17123          ⋯ 2               7784      \n",
       "Flt3l_TTTGTGTGTCCGTGCA-1    3993          ⋯ 5               1916      \n",
       "Flt3l_TTTGTGTGTGAATACA-1    7921          ⋯ 1               3617      \n",
       "Flt3l_TTTGTGTGTTTGACCA-1    4501          ⋯ 2               2271      \n",
       "Flt3l_TTTGTGTTCAAAGTAG-1    3146          ⋯ 6               1493      \n",
       "Flt3l_TTTGTGTTCCTAGAGT-1    4940          ⋯ 10              2348      \n",
       "Flt3l_TTTGTGTTCCTTTGCG-1    7653          ⋯ 1               3580      \n",
       "Flt3l_TTTGTGTTCGAGTTAC-1    7701          ⋯ 1               3507      \n",
       "Flt3l_TTTGTGTTCGCATAAC-1    5115          ⋯ 10              2365      \n",
       "Flt3l_TTTGTGTTCGTGGTAT-1    3991          ⋯ 1               1867      \n",
       "Flt3l_TTTGTGTTCGTTACAG-1   10944          ⋯ 1               4833      \n",
       "Flt3l_TTTGTGTTCTCCTTGG-1    5932          ⋯ 4               2813      \n",
       "                           nFeature_RNA ID                        \n",
       "Control_AAACGAAAGAGGTCCA-1 1406         Control_AAACGAAAGAGGTCCA-1\n",
       "Control_AAACGAAAGCGATACG-1 3063         Control_AAACGAAAGCGATACG-1\n",
       "Control_AAACGAAAGTCGTGAG-1 1414         Control_AAACGAAAGTCGTGAG-1\n",
       "Control_AAACGAACAATAGTGA-1 2340         Control_AAACGAACAATAGTGA-1\n",
       "Control_AAACGAACACAATAAG-1 1394         Control_AAACGAACACAATAAG-1\n",
       "Control_AAACGAACACTGATAC-1 1207         Control_AAACGAACACTGATAC-1\n",
       "Control_AAACGAACAGTAACCT-1  939         Control_AAACGAACAGTAACCT-1\n",
       "Control_AAACGAACATCGTGAT-1 5001         Control_AAACGAACATCGTGAT-1\n",
       "Control_AAACGAAGTAACGGTG-1  905         Control_AAACGAAGTAACGGTG-1\n",
       "Control_AAACGAAGTAAGTCTC-1 1452         Control_AAACGAAGTAAGTCTC-1\n",
       "Control_AAACGAAGTACCAAGG-1 3265         Control_AAACGAAGTACCAAGG-1\n",
       "Control_AAACGAAGTCCCGTGA-1 3996         Control_AAACGAAGTCCCGTGA-1\n",
       "Control_AAACGAAGTGGATTCT-1  780         Control_AAACGAAGTGGATTCT-1\n",
       "Control_AAACGAATCGAGCGCT-1 1779         Control_AAACGAATCGAGCGCT-1\n",
       "Control_AAACGAATCGCAACTA-1 4809         Control_AAACGAATCGCAACTA-1\n",
       "Control_AAACGAATCGCGCTGA-1  690         Control_AAACGAATCGCGCTGA-1\n",
       "Control_AAACTCGAGATTACGA-1 1974         Control_AAACTCGAGATTACGA-1\n",
       "Control_AAACTCGCAAGACTTC-1  654         Control_AAACTCGCAAGACTTC-1\n",
       "Control_AAACTCGCACAAGGGT-1  616         Control_AAACTCGCACAAGGGT-1\n",
       "Control_AAACTCGCACCTCGTT-1 3121         Control_AAACTCGCACCTCGTT-1\n",
       "Control_AAACTCGCACTTGCGG-1  726         Control_AAACTCGCACTTGCGG-1\n",
       "Control_AAACTCGCATCGCCTT-1 1934         Control_AAACTCGCATCGCCTT-1\n",
       "Control_AAACTCGCATGTGGGA-1 3364         Control_AAACTCGCATGTGGGA-1\n",
       "Control_AAACTCGGTATCCTTT-1 3582         Control_AAACTCGGTATCCTTT-1\n",
       "Control_AAACTCGGTGCCCTAG-1 3110         Control_AAACTCGGTGCCCTAG-1\n",
       "Control_AAACTCGGTGTAGGAC-1  572         Control_AAACTCGGTGTAGGAC-1\n",
       "Control_AAACTCGTCACTAGCA-1 1799         Control_AAACTCGTCACTAGCA-1\n",
       "Control_AAACTCGTCGAGTGTT-1 3342         Control_AAACTCGTCGAGTGTT-1\n",
       "Control_AAACTCGTCTATCCTA-1 2259         Control_AAACTCGTCTATCCTA-1\n",
       "Control_AAACTGCAGCATGTGG-1 3538         Control_AAACTGCAGCATGTGG-1\n",
       "⋮                          ⋮            ⋮                         \n",
       "Flt3l_TTTGTGTAGAGAACCC-1   1962         Flt3l_TTTGTGTAGAGAACCC-1  \n",
       "Flt3l_TTTGTGTAGAGAGTAG-1   3025         Flt3l_TTTGTGTAGAGAGTAG-1  \n",
       "Flt3l_TTTGTGTAGAGGTCCA-1   1768         Flt3l_TTTGTGTAGAGGTCCA-1  \n",
       "Flt3l_TTTGTGTAGCCTCGCA-1   4908         Flt3l_TTTGTGTAGCCTCGCA-1  \n",
       "Flt3l_TTTGTGTAGCGTCAAG-1   2112         Flt3l_TTTGTGTAGCGTCAAG-1  \n",
       "Flt3l_TTTGTGTAGCTAGTTC-1    228         Flt3l_TTTGTGTAGCTAGTTC-1  \n",
       "Flt3l_TTTGTGTAGGAGTCTG-1   2490         Flt3l_TTTGTGTAGGAGTCTG-1  \n",
       "Flt3l_TTTGTGTAGGCACCTC-1   1052         Flt3l_TTTGTGTAGGCACCTC-1  \n",
       "Flt3l_TTTGTGTAGTATACCC-1    875         Flt3l_TTTGTGTAGTATACCC-1  \n",
       "Flt3l_TTTGTGTCAACTCGTA-1   1358         Flt3l_TTTGTGTCAACTCGTA-1  \n",
       "Flt3l_TTTGTGTCAAGGGTAC-1   1102         Flt3l_TTTGTGTCAAGGGTAC-1  \n",
       "Flt3l_TTTGTGTCACGCCGAT-1   1377         Flt3l_TTTGTGTCACGCCGAT-1  \n",
       "Flt3l_TTTGTGTCACTACACA-1   3436         Flt3l_TTTGTGTCACTACACA-1  \n",
       "Flt3l_TTTGTGTCAGCAACCC-1   1492         Flt3l_TTTGTGTCAGCAACCC-1  \n",
       "Flt3l_TTTGTGTCAGGGTAAC-1   2538         Flt3l_TTTGTGTCAGGGTAAC-1  \n",
       "Flt3l_TTTGTGTCATTTCTTG-1   2439         Flt3l_TTTGTGTCATTTCTTG-1  \n",
       "Flt3l_TTTGTGTGTATACGCT-1   1127         Flt3l_TTTGTGTGTATACGCT-1  \n",
       "Flt3l_TTTGTGTGTATCTCAG-1   2236         Flt3l_TTTGTGTGTATCTCAG-1  \n",
       "Flt3l_TTTGTGTGTATTCTGG-1   4770         Flt3l_TTTGTGTGTATTCTGG-1  \n",
       "Flt3l_TTTGTGTGTCCGTGCA-1   1636         Flt3l_TTTGTGTGTCCGTGCA-1  \n",
       "Flt3l_TTTGTGTGTGAATACA-1   2791         Flt3l_TTTGTGTGTGAATACA-1  \n",
       "Flt3l_TTTGTGTGTTTGACCA-1   1893         Flt3l_TTTGTGTGTTTGACCA-1  \n",
       "Flt3l_TTTGTGTTCAAAGTAG-1   1313         Flt3l_TTTGTGTTCAAAGTAG-1  \n",
       "Flt3l_TTTGTGTTCCTAGAGT-1   1992         Flt3l_TTTGTGTTCCTAGAGT-1  \n",
       "Flt3l_TTTGTGTTCCTTTGCG-1   2812         Flt3l_TTTGTGTTCCTTTGCG-1  \n",
       "Flt3l_TTTGTGTTCGAGTTAC-1   2762         Flt3l_TTTGTGTTCGAGTTAC-1  \n",
       "Flt3l_TTTGTGTTCGCATAAC-1   2004         Flt3l_TTTGTGTTCGCATAAC-1  \n",
       "Flt3l_TTTGTGTTCGTGGTAT-1   1611         Flt3l_TTTGTGTTCGTGGTAT-1  \n",
       "Flt3l_TTTGTGTTCGTTACAG-1   3423         Flt3l_TTTGTGTTCGTTACAG-1  \n",
       "Flt3l_TTTGTGTTCTCCTTGG-1   2231         Flt3l_TTTGTGTTCTCCTTGG-1  \n",
       "                           Row.names                 \n",
       "Control_AAACGAAAGAGGTCCA-1 Control_AAACGAAAGAGGTCCA-1\n",
       "Control_AAACGAAAGCGATACG-1 Control_AAACGAAAGCGATACG-1\n",
       "Control_AAACGAAAGTCGTGAG-1 Control_AAACGAAAGTCGTGAG-1\n",
       "Control_AAACGAACAATAGTGA-1 Control_AAACGAACAATAGTGA-1\n",
       "Control_AAACGAACACAATAAG-1 Control_AAACGAACACAATAAG-1\n",
       "Control_AAACGAACACTGATAC-1 Control_AAACGAACACTGATAC-1\n",
       "Control_AAACGAACAGTAACCT-1 Control_AAACGAACAGTAACCT-1\n",
       "Control_AAACGAACATCGTGAT-1 Control_AAACGAACATCGTGAT-1\n",
       "Control_AAACGAAGTAACGGTG-1 Control_AAACGAAGTAACGGTG-1\n",
       "Control_AAACGAAGTAAGTCTC-1 Control_AAACGAAGTAAGTCTC-1\n",
       "Control_AAACGAAGTACCAAGG-1 Control_AAACGAAGTACCAAGG-1\n",
       "Control_AAACGAAGTCCCGTGA-1 Control_AAACGAAGTCCCGTGA-1\n",
       "Control_AAACGAAGTGGATTCT-1 Control_AAACGAAGTGGATTCT-1\n",
       "Control_AAACGAATCGAGCGCT-1 Control_AAACGAATCGAGCGCT-1\n",
       "Control_AAACGAATCGCAACTA-1 Control_AAACGAATCGCAACTA-1\n",
       "Control_AAACGAATCGCGCTGA-1 Control_AAACGAATCGCGCTGA-1\n",
       "Control_AAACTCGAGATTACGA-1 Control_AAACTCGAGATTACGA-1\n",
       "Control_AAACTCGCAAGACTTC-1 Control_AAACTCGCAAGACTTC-1\n",
       "Control_AAACTCGCACAAGGGT-1 Control_AAACTCGCACAAGGGT-1\n",
       "Control_AAACTCGCACCTCGTT-1 Control_AAACTCGCACCTCGTT-1\n",
       "Control_AAACTCGCACTTGCGG-1 Control_AAACTCGCACTTGCGG-1\n",
       "Control_AAACTCGCATCGCCTT-1 Control_AAACTCGCATCGCCTT-1\n",
       "Control_AAACTCGCATGTGGGA-1 Control_AAACTCGCATGTGGGA-1\n",
       "Control_AAACTCGGTATCCTTT-1 Control_AAACTCGGTATCCTTT-1\n",
       "Control_AAACTCGGTGCCCTAG-1 Control_AAACTCGGTGCCCTAG-1\n",
       "Control_AAACTCGGTGTAGGAC-1 Control_AAACTCGGTGTAGGAC-1\n",
       "Control_AAACTCGTCACTAGCA-1 Control_AAACTCGTCACTAGCA-1\n",
       "Control_AAACTCGTCGAGTGTT-1 Control_AAACTCGTCGAGTGTT-1\n",
       "Control_AAACTCGTCTATCCTA-1 Control_AAACTCGTCTATCCTA-1\n",
       "Control_AAACTGCAGCATGTGG-1 Control_AAACTGCAGCATGTGG-1\n",
       "⋮                          ⋮                         \n",
       "Flt3l_TTTGTGTAGAGAACCC-1   Flt3l_TTTGTGTAGAGAACCC-1  \n",
       "Flt3l_TTTGTGTAGAGAGTAG-1   Flt3l_TTTGTGTAGAGAGTAG-1  \n",
       "Flt3l_TTTGTGTAGAGGTCCA-1   Flt3l_TTTGTGTAGAGGTCCA-1  \n",
       "Flt3l_TTTGTGTAGCCTCGCA-1   Flt3l_TTTGTGTAGCCTCGCA-1  \n",
       "Flt3l_TTTGTGTAGCGTCAAG-1   Flt3l_TTTGTGTAGCGTCAAG-1  \n",
       "Flt3l_TTTGTGTAGCTAGTTC-1   Flt3l_TTTGTGTAGCTAGTTC-1  \n",
       "Flt3l_TTTGTGTAGGAGTCTG-1   Flt3l_TTTGTGTAGGAGTCTG-1  \n",
       "Flt3l_TTTGTGTAGGCACCTC-1   Flt3l_TTTGTGTAGGCACCTC-1  \n",
       "Flt3l_TTTGTGTAGTATACCC-1   Flt3l_TTTGTGTAGTATACCC-1  \n",
       "Flt3l_TTTGTGTCAACTCGTA-1   Flt3l_TTTGTGTCAACTCGTA-1  \n",
       "Flt3l_TTTGTGTCAAGGGTAC-1   Flt3l_TTTGTGTCAAGGGTAC-1  \n",
       "Flt3l_TTTGTGTCACGCCGAT-1   Flt3l_TTTGTGTCACGCCGAT-1  \n",
       "Flt3l_TTTGTGTCACTACACA-1   Flt3l_TTTGTGTCACTACACA-1  \n",
       "Flt3l_TTTGTGTCAGCAACCC-1   Flt3l_TTTGTGTCAGCAACCC-1  \n",
       "Flt3l_TTTGTGTCAGGGTAAC-1   Flt3l_TTTGTGTCAGGGTAAC-1  \n",
       "Flt3l_TTTGTGTCATTTCTTG-1   Flt3l_TTTGTGTCATTTCTTG-1  \n",
       "Flt3l_TTTGTGTGTATACGCT-1   Flt3l_TTTGTGTGTATACGCT-1  \n",
       "Flt3l_TTTGTGTGTATCTCAG-1   Flt3l_TTTGTGTGTATCTCAG-1  \n",
       "Flt3l_TTTGTGTGTATTCTGG-1   Flt3l_TTTGTGTGTATTCTGG-1  \n",
       "Flt3l_TTTGTGTGTCCGTGCA-1   Flt3l_TTTGTGTGTCCGTGCA-1  \n",
       "Flt3l_TTTGTGTGTGAATACA-1   Flt3l_TTTGTGTGTGAATACA-1  \n",
       "Flt3l_TTTGTGTGTTTGACCA-1   Flt3l_TTTGTGTGTTTGACCA-1  \n",
       "Flt3l_TTTGTGTTCAAAGTAG-1   Flt3l_TTTGTGTTCAAAGTAG-1  \n",
       "Flt3l_TTTGTGTTCCTAGAGT-1   Flt3l_TTTGTGTTCCTAGAGT-1  \n",
       "Flt3l_TTTGTGTTCCTTTGCG-1   Flt3l_TTTGTGTTCCTTTGCG-1  \n",
       "Flt3l_TTTGTGTTCGAGTTAC-1   Flt3l_TTTGTGTTCGAGTTAC-1  \n",
       "Flt3l_TTTGTGTTCGCATAAC-1   Flt3l_TTTGTGTTCGCATAAC-1  \n",
       "Flt3l_TTTGTGTTCGTGGTAT-1   Flt3l_TTTGTGTTCGTGGTAT-1  \n",
       "Flt3l_TTTGTGTTCGTTACAG-1   Flt3l_TTTGTGTTCGTTACAG-1  \n",
       "Flt3l_TTTGTGTTCTCCTTGG-1   Flt3l_TTTGTGTTCTCCTTGG-1  \n",
       "                           ID.x                       lineage donor condition\n",
       "Control_AAACGAAAGAGGTCCA-1 AAACGAAAGAGGTCCA-1_Control 9       3     Control  \n",
       "Control_AAACGAAAGCGATACG-1 AAACGAAAGCGATACG-1_Control 0       1     Control  \n",
       "Control_AAACGAAAGTCGTGAG-1 AAACGAAAGTCGTGAG-1_Control 8       0     Control  \n",
       "Control_AAACGAACAATAGTGA-1 AAACGAACAATAGTGA-1_Control 11      3     Control  \n",
       "Control_AAACGAACACAATAAG-1 AAACGAACACAATAAG-1_Control 22      0     Control  \n",
       "Control_AAACGAACACTGATAC-1 AAACGAACACTGATAC-1_Control 11      2     Control  \n",
       "Control_AAACGAACAGTAACCT-1 AAACGAACAGTAACCT-1_Control 34      2     Control  \n",
       "Control_AAACGAACATCGTGAT-1 AAACGAACATCGTGAT-1_Control 2       3     Control  \n",
       "Control_AAACGAAGTAACGGTG-1 AAACGAAGTAACGGTG-1_Control 36      3     Control  \n",
       "Control_AAACGAAGTAAGTCTC-1 AAACGAAGTAAGTCTC-1_Control 52      0     Control  \n",
       "Control_AAACGAAGTACCAAGG-1 AAACGAAGTACCAAGG-1_Control 15      1     Control  \n",
       "Control_AAACGAAGTCCCGTGA-1 AAACGAAGTCCCGTGA-1_Control 21      2     Control  \n",
       "Control_AAACGAAGTGGATTCT-1 AAACGAAGTGGATTCT-1_Control 5       0     Control  \n",
       "Control_AAACGAATCGAGCGCT-1 AAACGAATCGAGCGCT-1_Control 25      3     Control  \n",
       "Control_AAACGAATCGCAACTA-1 AAACGAATCGCAACTA-1_Control 5       0     Control  \n",
       "Control_AAACGAATCGCGCTGA-1 AAACGAATCGCGCTGA-1_Control 0       3     Control  \n",
       "Control_AAACTCGAGATTACGA-1 AAACTCGAGATTACGA-1_Control 36      3     Control  \n",
       "Control_AAACTCGCAAGACTTC-1 AAACTCGCAAGACTTC-1_Control 0       0     Control  \n",
       "Control_AAACTCGCACAAGGGT-1 AAACTCGCACAAGGGT-1_Control 1       1     Control  \n",
       "Control_AAACTCGCACCTCGTT-1 AAACTCGCACCTCGTT-1_Control 5       1     Control  \n",
       "Control_AAACTCGCACTTGCGG-1 AAACTCGCACTTGCGG-1_Control 13      2     Control  \n",
       "Control_AAACTCGCATCGCCTT-1 AAACTCGCATCGCCTT-1_Control 52      0     Control  \n",
       "Control_AAACTCGCATGTGGGA-1 AAACTCGCATGTGGGA-1_Control 8       2     Control  \n",
       "Control_AAACTCGGTATCCTTT-1 AAACTCGGTATCCTTT-1_Control 14      0     Control  \n",
       "Control_AAACTCGGTGCCCTAG-1 AAACTCGGTGCCCTAG-1_Control 6       1     Control  \n",
       "Control_AAACTCGGTGTAGGAC-1 NA                         None    None  None     \n",
       "Control_AAACTCGTCACTAGCA-1 AAACTCGTCACTAGCA-1_Control 22      1     Control  \n",
       "Control_AAACTCGTCGAGTGTT-1 AAACTCGTCGAGTGTT-1_Control 31      0     Control  \n",
       "Control_AAACTCGTCTATCCTA-1 AAACTCGTCTATCCTA-1_Control 18      1     Control  \n",
       "Control_AAACTGCAGCATGTGG-1 AAACTGCAGCATGTGG-1_Control 36      3     Control  \n",
       "⋮                          ⋮                          ⋮       ⋮     ⋮        \n",
       "Flt3l_TTTGTGTAGAGAACCC-1   TTTGTGTAGAGAACCC-1_Flt3l   1       0     Flt3l    \n",
       "Flt3l_TTTGTGTAGAGAGTAG-1   TTTGTGTAGAGAGTAG-1_Flt3l   14      3     Flt3l    \n",
       "Flt3l_TTTGTGTAGAGGTCCA-1   TTTGTGTAGAGGTCCA-1_Flt3l   0       0     Flt3l    \n",
       "Flt3l_TTTGTGTAGCCTCGCA-1   NA                         None    None  None     \n",
       "Flt3l_TTTGTGTAGCGTCAAG-1   TTTGTGTAGCGTCAAG-1_Flt3l   10      0     Flt3l    \n",
       "Flt3l_TTTGTGTAGCTAGTTC-1   NA                         None    None  None     \n",
       "Flt3l_TTTGTGTAGGAGTCTG-1   TTTGTGTAGGAGTCTG-1_Flt3l   41      0     Flt3l    \n",
       "Flt3l_TTTGTGTAGGCACCTC-1   TTTGTGTAGGCACCTC-1_Flt3l   32      1     Flt3l    \n",
       "Flt3l_TTTGTGTAGTATACCC-1   TTTGTGTAGTATACCC-1_Flt3l   11      1     Flt3l    \n",
       "Flt3l_TTTGTGTCAACTCGTA-1   TTTGTGTCAACTCGTA-1_Flt3l   26      1     Flt3l    \n",
       "Flt3l_TTTGTGTCAAGGGTAC-1   TTTGTGTCAAGGGTAC-1_Flt3l   3       1     Flt3l    \n",
       "Flt3l_TTTGTGTCACGCCGAT-1   TTTGTGTCACGCCGAT-1_Flt3l   2       0     Flt3l    \n",
       "Flt3l_TTTGTGTCACTACACA-1   TTTGTGTCACTACACA-1_Flt3l   3       0     Flt3l    \n",
       "Flt3l_TTTGTGTCAGCAACCC-1   TTTGTGTCAGCAACCC-1_Flt3l   0       2     Flt3l    \n",
       "Flt3l_TTTGTGTCAGGGTAAC-1   TTTGTGTCAGGGTAAC-1_Flt3l   33      1     Flt3l    \n",
       "Flt3l_TTTGTGTCATTTCTTG-1   TTTGTGTCATTTCTTG-1_Flt3l   26      1     Flt3l    \n",
       "Flt3l_TTTGTGTGTATACGCT-1   TTTGTGTGTATACGCT-1_Flt3l   20      0     Flt3l    \n",
       "Flt3l_TTTGTGTGTATCTCAG-1   TTTGTGTGTATCTCAG-1_Flt3l   7       0     Flt3l    \n",
       "Flt3l_TTTGTGTGTATTCTGG-1   TTTGTGTGTATTCTGG-1_Flt3l   36      3     Flt3l    \n",
       "Flt3l_TTTGTGTGTCCGTGCA-1   TTTGTGTGTCCGTGCA-1_Flt3l   11      2     Flt3l    \n",
       "Flt3l_TTTGTGTGTGAATACA-1   TTTGTGTGTGAATACA-1_Flt3l   10      1     Flt3l    \n",
       "Flt3l_TTTGTGTGTTTGACCA-1   TTTGTGTGTTTGACCA-1_Flt3l   0       2     Flt3l    \n",
       "Flt3l_TTTGTGTTCAAAGTAG-1   TTTGTGTTCAAAGTAG-1_Flt3l   18      1     Flt3l    \n",
       "Flt3l_TTTGTGTTCCTAGAGT-1   TTTGTGTTCCTAGAGT-1_Flt3l   14      2     Flt3l    \n",
       "Flt3l_TTTGTGTTCCTTTGCG-1   TTTGTGTTCCTTTGCG-1_Flt3l   6       1     Flt3l    \n",
       "Flt3l_TTTGTGTTCGAGTTAC-1   TTTGTGTTCGAGTTAC-1_Flt3l   6       0     Flt3l    \n",
       "Flt3l_TTTGTGTTCGCATAAC-1   NA                         None    None  None     \n",
       "Flt3l_TTTGTGTTCGTGGTAT-1   TTTGTGTTCGTGGTAT-1_Flt3l   14      1     Flt3l    \n",
       "Flt3l_TTTGTGTTCGTTACAG-1   TTTGTGTTCGTTACAG-1_Flt3l   1       3     Flt3l    \n",
       "Flt3l_TTTGTGTTCTCCTTGG-1   TTTGTGTTCTCCTTGG-1_Flt3l   1       3     Flt3l    \n",
       "                           ID.y                      \n",
       "Control_AAACGAAAGAGGTCCA-1 Control_AAACGAAAGAGGTCCA-1\n",
       "Control_AAACGAAAGCGATACG-1 Control_AAACGAAAGCGATACG-1\n",
       "Control_AAACGAAAGTCGTGAG-1 Control_AAACGAAAGTCGTGAG-1\n",
       "Control_AAACGAACAATAGTGA-1 Control_AAACGAACAATAGTGA-1\n",
       "Control_AAACGAACACAATAAG-1 Control_AAACGAACACAATAAG-1\n",
       "Control_AAACGAACACTGATAC-1 Control_AAACGAACACTGATAC-1\n",
       "Control_AAACGAACAGTAACCT-1 Control_AAACGAACAGTAACCT-1\n",
       "Control_AAACGAACATCGTGAT-1 Control_AAACGAACATCGTGAT-1\n",
       "Control_AAACGAAGTAACGGTG-1 Control_AAACGAAGTAACGGTG-1\n",
       "Control_AAACGAAGTAAGTCTC-1 Control_AAACGAAGTAAGTCTC-1\n",
       "Control_AAACGAAGTACCAAGG-1 Control_AAACGAAGTACCAAGG-1\n",
       "Control_AAACGAAGTCCCGTGA-1 Control_AAACGAAGTCCCGTGA-1\n",
       "Control_AAACGAAGTGGATTCT-1 Control_AAACGAAGTGGATTCT-1\n",
       "Control_AAACGAATCGAGCGCT-1 Control_AAACGAATCGAGCGCT-1\n",
       "Control_AAACGAATCGCAACTA-1 Control_AAACGAATCGCAACTA-1\n",
       "Control_AAACGAATCGCGCTGA-1 Control_AAACGAATCGCGCTGA-1\n",
       "Control_AAACTCGAGATTACGA-1 Control_AAACTCGAGATTACGA-1\n",
       "Control_AAACTCGCAAGACTTC-1 Control_AAACTCGCAAGACTTC-1\n",
       "Control_AAACTCGCACAAGGGT-1 Control_AAACTCGCACAAGGGT-1\n",
       "Control_AAACTCGCACCTCGTT-1 Control_AAACTCGCACCTCGTT-1\n",
       "Control_AAACTCGCACTTGCGG-1 Control_AAACTCGCACTTGCGG-1\n",
       "Control_AAACTCGCATCGCCTT-1 Control_AAACTCGCATCGCCTT-1\n",
       "Control_AAACTCGCATGTGGGA-1 Control_AAACTCGCATGTGGGA-1\n",
       "Control_AAACTCGGTATCCTTT-1 Control_AAACTCGGTATCCTTT-1\n",
       "Control_AAACTCGGTGCCCTAG-1 Control_AAACTCGGTGCCCTAG-1\n",
       "Control_AAACTCGGTGTAGGAC-1 Control_AAACTCGGTGTAGGAC-1\n",
       "Control_AAACTCGTCACTAGCA-1 Control_AAACTCGTCACTAGCA-1\n",
       "Control_AAACTCGTCGAGTGTT-1 Control_AAACTCGTCGAGTGTT-1\n",
       "Control_AAACTCGTCTATCCTA-1 Control_AAACTCGTCTATCCTA-1\n",
       "Control_AAACTGCAGCATGTGG-1 Control_AAACTGCAGCATGTGG-1\n",
       "⋮                          ⋮                         \n",
       "Flt3l_TTTGTGTAGAGAACCC-1   Flt3l_TTTGTGTAGAGAACCC-1  \n",
       "Flt3l_TTTGTGTAGAGAGTAG-1   Flt3l_TTTGTGTAGAGAGTAG-1  \n",
       "Flt3l_TTTGTGTAGAGGTCCA-1   Flt3l_TTTGTGTAGAGGTCCA-1  \n",
       "Flt3l_TTTGTGTAGCCTCGCA-1   Flt3l_TTTGTGTAGCCTCGCA-1  \n",
       "Flt3l_TTTGTGTAGCGTCAAG-1   Flt3l_TTTGTGTAGCGTCAAG-1  \n",
       "Flt3l_TTTGTGTAGCTAGTTC-1   Flt3l_TTTGTGTAGCTAGTTC-1  \n",
       "Flt3l_TTTGTGTAGGAGTCTG-1   Flt3l_TTTGTGTAGGAGTCTG-1  \n",
       "Flt3l_TTTGTGTAGGCACCTC-1   Flt3l_TTTGTGTAGGCACCTC-1  \n",
       "Flt3l_TTTGTGTAGTATACCC-1   Flt3l_TTTGTGTAGTATACCC-1  \n",
       "Flt3l_TTTGTGTCAACTCGTA-1   Flt3l_TTTGTGTCAACTCGTA-1  \n",
       "Flt3l_TTTGTGTCAAGGGTAC-1   Flt3l_TTTGTGTCAAGGGTAC-1  \n",
       "Flt3l_TTTGTGTCACGCCGAT-1   Flt3l_TTTGTGTCACGCCGAT-1  \n",
       "Flt3l_TTTGTGTCACTACACA-1   Flt3l_TTTGTGTCACTACACA-1  \n",
       "Flt3l_TTTGTGTCAGCAACCC-1   Flt3l_TTTGTGTCAGCAACCC-1  \n",
       "Flt3l_TTTGTGTCAGGGTAAC-1   Flt3l_TTTGTGTCAGGGTAAC-1  \n",
       "Flt3l_TTTGTGTCATTTCTTG-1   Flt3l_TTTGTGTCATTTCTTG-1  \n",
       "Flt3l_TTTGTGTGTATACGCT-1   Flt3l_TTTGTGTGTATACGCT-1  \n",
       "Flt3l_TTTGTGTGTATCTCAG-1   Flt3l_TTTGTGTGTATCTCAG-1  \n",
       "Flt3l_TTTGTGTGTATTCTGG-1   Flt3l_TTTGTGTGTATTCTGG-1  \n",
       "Flt3l_TTTGTGTGTCCGTGCA-1   Flt3l_TTTGTGTGTCCGTGCA-1  \n",
       "Flt3l_TTTGTGTGTGAATACA-1   Flt3l_TTTGTGTGTGAATACA-1  \n",
       "Flt3l_TTTGTGTGTTTGACCA-1   Flt3l_TTTGTGTGTTTGACCA-1  \n",
       "Flt3l_TTTGTGTTCAAAGTAG-1   Flt3l_TTTGTGTTCAAAGTAG-1  \n",
       "Flt3l_TTTGTGTTCCTAGAGT-1   Flt3l_TTTGTGTTCCTAGAGT-1  \n",
       "Flt3l_TTTGTGTTCCTTTGCG-1   Flt3l_TTTGTGTTCCTTTGCG-1  \n",
       "Flt3l_TTTGTGTTCGAGTTAC-1   Flt3l_TTTGTGTTCGAGTTAC-1  \n",
       "Flt3l_TTTGTGTTCGCATAAC-1   Flt3l_TTTGTGTTCGCATAAC-1  \n",
       "Flt3l_TTTGTGTTCGTGGTAT-1   Flt3l_TTTGTGTTCGTGGTAT-1  \n",
       "Flt3l_TTTGTGTTCGTTACAG-1   Flt3l_TTTGTGTTCGTTACAG-1  \n",
       "Flt3l_TTTGTGTTCTCCTTGG-1   Flt3l_TTTGTGTTCTCCTTGG-1  "
      ]
     },
     "metadata": {},
     "output_type": "display_data"
    }
   ],
   "source": [
    "se[[]]"
   ]
  },
  {
   "cell_type": "code",
   "execution_count": 6,
   "id": "c0545529",
   "metadata": {
    "scrolled": true
   },
   "outputs": [
    {
     "name": "stderr",
     "output_type": "stream",
     "text": [
      "`summarise()` has grouped output by 'condition', 'donor'. You can override using the `.groups` argument.\n",
      "\n"
     ]
    },
    {
     "data": {
      "text/html": [
       "<table class=\"dataframe\">\n",
       "<caption>A tibble: 346 × 6</caption>\n",
       "<thead>\n",
       "\t<tr><th scope=col>condition</th><th scope=col>donor</th><th scope=col>lineage</th><th scope=col>size</th><th scope=col>total</th><th scope=col>norm</th></tr>\n",
       "\t<tr><th scope=col>&lt;fct&gt;</th><th scope=col>&lt;fct&gt;</th><th scope=col>&lt;fct&gt;</th><th scope=col>&lt;int&gt;</th><th scope=col>&lt;int&gt;</th><th scope=col>&lt;dbl&gt;</th></tr>\n",
       "</thead>\n",
       "<tbody>\n",
       "\t<tr><td>None   </td><td>None</td><td>None</td><td>3715</td><td>3715</td><td>1.00000000</td></tr>\n",
       "\t<tr><td>Control</td><td>3   </td><td>36  </td><td> 303</td><td>1329</td><td>0.22799097</td></tr>\n",
       "\t<tr><td>Flt3l  </td><td>3   </td><td>1   </td><td> 436</td><td>2399</td><td>0.18174239</td></tr>\n",
       "\t<tr><td>Flt3l  </td><td>3   </td><td>0   </td><td> 427</td><td>2399</td><td>0.17799083</td></tr>\n",
       "\t<tr><td>Flt3l  </td><td>2   </td><td>0   </td><td> 282</td><td>1660</td><td>0.16987952</td></tr>\n",
       "\t<tr><td>Control</td><td>0   </td><td>52  </td><td> 208</td><td>1603</td><td>0.12975671</td></tr>\n",
       "\t<tr><td>Flt3l  </td><td>0   </td><td>0   </td><td> 325</td><td>2577</td><td>0.12611564</td></tr>\n",
       "\t<tr><td>Control</td><td>3   </td><td>0   </td><td> 165</td><td>1329</td><td>0.12415350</td></tr>\n",
       "\t<tr><td>Control</td><td>3   </td><td>2   </td><td> 154</td><td>1329</td><td>0.11587660</td></tr>\n",
       "\t<tr><td>Flt3l  </td><td>2   </td><td>1   </td><td> 167</td><td>1660</td><td>0.10060241</td></tr>\n",
       "\t<tr><td>Flt3l  </td><td>0   </td><td>1   </td><td> 244</td><td>2577</td><td>0.09468374</td></tr>\n",
       "\t<tr><td>Flt3l  </td><td>2   </td><td>2   </td><td> 154</td><td>1660</td><td>0.09277108</td></tr>\n",
       "\t<tr><td>Control</td><td>2   </td><td>3   </td><td> 120</td><td>1371</td><td>0.08752735</td></tr>\n",
       "\t<tr><td>Flt3l  </td><td>3   </td><td>2   </td><td> 194</td><td>2399</td><td>0.08086703</td></tr>\n",
       "\t<tr><td>Control</td><td>2   </td><td>1   </td><td> 110</td><td>1371</td><td>0.08023341</td></tr>\n",
       "\t<tr><td>Control</td><td>3   </td><td>3   </td><td> 105</td><td>1329</td><td>0.07900677</td></tr>\n",
       "\t<tr><td>Control</td><td>2   </td><td>34  </td><td> 107</td><td>1371</td><td>0.07804522</td></tr>\n",
       "\t<tr><td>Control</td><td>0   </td><td>2   </td><td> 120</td><td>1603</td><td>0.07485964</td></tr>\n",
       "\t<tr><td>Control</td><td>0   </td><td>4   </td><td> 119</td><td>1603</td><td>0.07423581</td></tr>\n",
       "\t<tr><td>Control</td><td>2   </td><td>6   </td><td> 101</td><td>1371</td><td>0.07366885</td></tr>\n",
       "\t<tr><td>Control</td><td>0   </td><td>6   </td><td> 113</td><td>1603</td><td>0.07049283</td></tr>\n",
       "\t<tr><td>Control</td><td>1   </td><td>0   </td><td>  86</td><td>1222</td><td>0.07037643</td></tr>\n",
       "\t<tr><td>Control</td><td>2   </td><td>0   </td><td>  95</td><td>1371</td><td>0.06929249</td></tr>\n",
       "\t<tr><td>Control</td><td>2   </td><td>2   </td><td>  94</td><td>1371</td><td>0.06856309</td></tr>\n",
       "\t<tr><td>Flt3l  </td><td>2   </td><td>3   </td><td> 113</td><td>1660</td><td>0.06807229</td></tr>\n",
       "\t<tr><td>Control</td><td>3   </td><td>1   </td><td>  89</td><td>1329</td><td>0.06696764</td></tr>\n",
       "\t<tr><td>Flt3l  </td><td>2   </td><td>5   </td><td> 109</td><td>1660</td><td>0.06566265</td></tr>\n",
       "\t<tr><td>Control</td><td>1   </td><td>19  </td><td>  80</td><td>1222</td><td>0.06546645</td></tr>\n",
       "\t<tr><td>Flt3l  </td><td>1   </td><td>0   </td><td> 168</td><td>2616</td><td>0.06422018</td></tr>\n",
       "\t<tr><td>Control</td><td>2   </td><td>4   </td><td>  88</td><td>1371</td><td>0.06418673</td></tr>\n",
       "\t<tr><td>⋮</td><td>⋮</td><td>⋮</td><td>⋮</td><td>⋮</td><td>⋮</td></tr>\n",
       "\t<tr><td>Flt3l  </td><td>0</td><td>59</td><td>2</td><td>2577</td><td>0.0007760962</td></tr>\n",
       "\t<tr><td>Control</td><td>3</td><td>26</td><td>1</td><td>1329</td><td>0.0007524454</td></tr>\n",
       "\t<tr><td>Control</td><td>3</td><td>27</td><td>1</td><td>1329</td><td>0.0007524454</td></tr>\n",
       "\t<tr><td>Control</td><td>3</td><td>28</td><td>1</td><td>1329</td><td>0.0007524454</td></tr>\n",
       "\t<tr><td>Control</td><td>3</td><td>34</td><td>1</td><td>1329</td><td>0.0007524454</td></tr>\n",
       "\t<tr><td>Control</td><td>0</td><td>45</td><td>1</td><td>1603</td><td>0.0006238303</td></tr>\n",
       "\t<tr><td>Control</td><td>0</td><td>46</td><td>1</td><td>1603</td><td>0.0006238303</td></tr>\n",
       "\t<tr><td>Control</td><td>0</td><td>48</td><td>1</td><td>1603</td><td>0.0006238303</td></tr>\n",
       "\t<tr><td>Control</td><td>0</td><td>50</td><td>1</td><td>1603</td><td>0.0006238303</td></tr>\n",
       "\t<tr><td>Control</td><td>0</td><td>54</td><td>1</td><td>1603</td><td>0.0006238303</td></tr>\n",
       "\t<tr><td>Control</td><td>0</td><td>55</td><td>1</td><td>1603</td><td>0.0006238303</td></tr>\n",
       "\t<tr><td>Control</td><td>0</td><td>56</td><td>1</td><td>1603</td><td>0.0006238303</td></tr>\n",
       "\t<tr><td>Control</td><td>0</td><td>57</td><td>1</td><td>1603</td><td>0.0006238303</td></tr>\n",
       "\t<tr><td>Control</td><td>0</td><td>58</td><td>1</td><td>1603</td><td>0.0006238303</td></tr>\n",
       "\t<tr><td>Flt3l  </td><td>2</td><td>29</td><td>1</td><td>1660</td><td>0.0006024096</td></tr>\n",
       "\t<tr><td>Flt3l  </td><td>2</td><td>32</td><td>1</td><td>1660</td><td>0.0006024096</td></tr>\n",
       "\t<tr><td>Flt3l  </td><td>2</td><td>33</td><td>1</td><td>1660</td><td>0.0006024096</td></tr>\n",
       "\t<tr><td>Flt3l  </td><td>2</td><td>36</td><td>1</td><td>1660</td><td>0.0006024096</td></tr>\n",
       "\t<tr><td>Flt3l  </td><td>2</td><td>37</td><td>1</td><td>1660</td><td>0.0006024096</td></tr>\n",
       "\t<tr><td>Flt3l  </td><td>0</td><td>39</td><td>1</td><td>2577</td><td>0.0003880481</td></tr>\n",
       "\t<tr><td>Flt3l  </td><td>0</td><td>44</td><td>1</td><td>2577</td><td>0.0003880481</td></tr>\n",
       "\t<tr><td>Flt3l  </td><td>0</td><td>49</td><td>1</td><td>2577</td><td>0.0003880481</td></tr>\n",
       "\t<tr><td>Flt3l  </td><td>0</td><td>50</td><td>1</td><td>2577</td><td>0.0003880481</td></tr>\n",
       "\t<tr><td>Flt3l  </td><td>0</td><td>51</td><td>1</td><td>2577</td><td>0.0003880481</td></tr>\n",
       "\t<tr><td>Flt3l  </td><td>0</td><td>54</td><td>1</td><td>2577</td><td>0.0003880481</td></tr>\n",
       "\t<tr><td>Flt3l  </td><td>0</td><td>55</td><td>1</td><td>2577</td><td>0.0003880481</td></tr>\n",
       "\t<tr><td>Flt3l  </td><td>0</td><td>56</td><td>1</td><td>2577</td><td>0.0003880481</td></tr>\n",
       "\t<tr><td>Flt3l  </td><td>0</td><td>57</td><td>1</td><td>2577</td><td>0.0003880481</td></tr>\n",
       "\t<tr><td>Flt3l  </td><td>0</td><td>58</td><td>1</td><td>2577</td><td>0.0003880481</td></tr>\n",
       "\t<tr><td>Flt3l  </td><td>1</td><td>35</td><td>1</td><td>2616</td><td>0.0003822630</td></tr>\n",
       "</tbody>\n",
       "</table>\n"
      ],
      "text/latex": [
       "A tibble: 346 × 6\n",
       "\\begin{tabular}{llllll}\n",
       " condition & donor & lineage & size & total & norm\\\\\n",
       " <fct> & <fct> & <fct> & <int> & <int> & <dbl>\\\\\n",
       "\\hline\n",
       "\t None    & None & None & 3715 & 3715 & 1.00000000\\\\\n",
       "\t Control & 3    & 36   &  303 & 1329 & 0.22799097\\\\\n",
       "\t Flt3l   & 3    & 1    &  436 & 2399 & 0.18174239\\\\\n",
       "\t Flt3l   & 3    & 0    &  427 & 2399 & 0.17799083\\\\\n",
       "\t Flt3l   & 2    & 0    &  282 & 1660 & 0.16987952\\\\\n",
       "\t Control & 0    & 52   &  208 & 1603 & 0.12975671\\\\\n",
       "\t Flt3l   & 0    & 0    &  325 & 2577 & 0.12611564\\\\\n",
       "\t Control & 3    & 0    &  165 & 1329 & 0.12415350\\\\\n",
       "\t Control & 3    & 2    &  154 & 1329 & 0.11587660\\\\\n",
       "\t Flt3l   & 2    & 1    &  167 & 1660 & 0.10060241\\\\\n",
       "\t Flt3l   & 0    & 1    &  244 & 2577 & 0.09468374\\\\\n",
       "\t Flt3l   & 2    & 2    &  154 & 1660 & 0.09277108\\\\\n",
       "\t Control & 2    & 3    &  120 & 1371 & 0.08752735\\\\\n",
       "\t Flt3l   & 3    & 2    &  194 & 2399 & 0.08086703\\\\\n",
       "\t Control & 2    & 1    &  110 & 1371 & 0.08023341\\\\\n",
       "\t Control & 3    & 3    &  105 & 1329 & 0.07900677\\\\\n",
       "\t Control & 2    & 34   &  107 & 1371 & 0.07804522\\\\\n",
       "\t Control & 0    & 2    &  120 & 1603 & 0.07485964\\\\\n",
       "\t Control & 0    & 4    &  119 & 1603 & 0.07423581\\\\\n",
       "\t Control & 2    & 6    &  101 & 1371 & 0.07366885\\\\\n",
       "\t Control & 0    & 6    &  113 & 1603 & 0.07049283\\\\\n",
       "\t Control & 1    & 0    &   86 & 1222 & 0.07037643\\\\\n",
       "\t Control & 2    & 0    &   95 & 1371 & 0.06929249\\\\\n",
       "\t Control & 2    & 2    &   94 & 1371 & 0.06856309\\\\\n",
       "\t Flt3l   & 2    & 3    &  113 & 1660 & 0.06807229\\\\\n",
       "\t Control & 3    & 1    &   89 & 1329 & 0.06696764\\\\\n",
       "\t Flt3l   & 2    & 5    &  109 & 1660 & 0.06566265\\\\\n",
       "\t Control & 1    & 19   &   80 & 1222 & 0.06546645\\\\\n",
       "\t Flt3l   & 1    & 0    &  168 & 2616 & 0.06422018\\\\\n",
       "\t Control & 2    & 4    &   88 & 1371 & 0.06418673\\\\\n",
       "\t ⋮ & ⋮ & ⋮ & ⋮ & ⋮ & ⋮\\\\\n",
       "\t Flt3l   & 0 & 59 & 2 & 2577 & 0.0007760962\\\\\n",
       "\t Control & 3 & 26 & 1 & 1329 & 0.0007524454\\\\\n",
       "\t Control & 3 & 27 & 1 & 1329 & 0.0007524454\\\\\n",
       "\t Control & 3 & 28 & 1 & 1329 & 0.0007524454\\\\\n",
       "\t Control & 3 & 34 & 1 & 1329 & 0.0007524454\\\\\n",
       "\t Control & 0 & 45 & 1 & 1603 & 0.0006238303\\\\\n",
       "\t Control & 0 & 46 & 1 & 1603 & 0.0006238303\\\\\n",
       "\t Control & 0 & 48 & 1 & 1603 & 0.0006238303\\\\\n",
       "\t Control & 0 & 50 & 1 & 1603 & 0.0006238303\\\\\n",
       "\t Control & 0 & 54 & 1 & 1603 & 0.0006238303\\\\\n",
       "\t Control & 0 & 55 & 1 & 1603 & 0.0006238303\\\\\n",
       "\t Control & 0 & 56 & 1 & 1603 & 0.0006238303\\\\\n",
       "\t Control & 0 & 57 & 1 & 1603 & 0.0006238303\\\\\n",
       "\t Control & 0 & 58 & 1 & 1603 & 0.0006238303\\\\\n",
       "\t Flt3l   & 2 & 29 & 1 & 1660 & 0.0006024096\\\\\n",
       "\t Flt3l   & 2 & 32 & 1 & 1660 & 0.0006024096\\\\\n",
       "\t Flt3l   & 2 & 33 & 1 & 1660 & 0.0006024096\\\\\n",
       "\t Flt3l   & 2 & 36 & 1 & 1660 & 0.0006024096\\\\\n",
       "\t Flt3l   & 2 & 37 & 1 & 1660 & 0.0006024096\\\\\n",
       "\t Flt3l   & 0 & 39 & 1 & 2577 & 0.0003880481\\\\\n",
       "\t Flt3l   & 0 & 44 & 1 & 2577 & 0.0003880481\\\\\n",
       "\t Flt3l   & 0 & 49 & 1 & 2577 & 0.0003880481\\\\\n",
       "\t Flt3l   & 0 & 50 & 1 & 2577 & 0.0003880481\\\\\n",
       "\t Flt3l   & 0 & 51 & 1 & 2577 & 0.0003880481\\\\\n",
       "\t Flt3l   & 0 & 54 & 1 & 2577 & 0.0003880481\\\\\n",
       "\t Flt3l   & 0 & 55 & 1 & 2577 & 0.0003880481\\\\\n",
       "\t Flt3l   & 0 & 56 & 1 & 2577 & 0.0003880481\\\\\n",
       "\t Flt3l   & 0 & 57 & 1 & 2577 & 0.0003880481\\\\\n",
       "\t Flt3l   & 0 & 58 & 1 & 2577 & 0.0003880481\\\\\n",
       "\t Flt3l   & 1 & 35 & 1 & 2616 & 0.0003822630\\\\\n",
       "\\end{tabular}\n"
      ],
      "text/markdown": [
       "\n",
       "A tibble: 346 × 6\n",
       "\n",
       "| condition &lt;fct&gt; | donor &lt;fct&gt; | lineage &lt;fct&gt; | size &lt;int&gt; | total &lt;int&gt; | norm &lt;dbl&gt; |\n",
       "|---|---|---|---|---|---|\n",
       "| None    | None | None | 3715 | 3715 | 1.00000000 |\n",
       "| Control | 3    | 36   |  303 | 1329 | 0.22799097 |\n",
       "| Flt3l   | 3    | 1    |  436 | 2399 | 0.18174239 |\n",
       "| Flt3l   | 3    | 0    |  427 | 2399 | 0.17799083 |\n",
       "| Flt3l   | 2    | 0    |  282 | 1660 | 0.16987952 |\n",
       "| Control | 0    | 52   |  208 | 1603 | 0.12975671 |\n",
       "| Flt3l   | 0    | 0    |  325 | 2577 | 0.12611564 |\n",
       "| Control | 3    | 0    |  165 | 1329 | 0.12415350 |\n",
       "| Control | 3    | 2    |  154 | 1329 | 0.11587660 |\n",
       "| Flt3l   | 2    | 1    |  167 | 1660 | 0.10060241 |\n",
       "| Flt3l   | 0    | 1    |  244 | 2577 | 0.09468374 |\n",
       "| Flt3l   | 2    | 2    |  154 | 1660 | 0.09277108 |\n",
       "| Control | 2    | 3    |  120 | 1371 | 0.08752735 |\n",
       "| Flt3l   | 3    | 2    |  194 | 2399 | 0.08086703 |\n",
       "| Control | 2    | 1    |  110 | 1371 | 0.08023341 |\n",
       "| Control | 3    | 3    |  105 | 1329 | 0.07900677 |\n",
       "| Control | 2    | 34   |  107 | 1371 | 0.07804522 |\n",
       "| Control | 0    | 2    |  120 | 1603 | 0.07485964 |\n",
       "| Control | 0    | 4    |  119 | 1603 | 0.07423581 |\n",
       "| Control | 2    | 6    |  101 | 1371 | 0.07366885 |\n",
       "| Control | 0    | 6    |  113 | 1603 | 0.07049283 |\n",
       "| Control | 1    | 0    |   86 | 1222 | 0.07037643 |\n",
       "| Control | 2    | 0    |   95 | 1371 | 0.06929249 |\n",
       "| Control | 2    | 2    |   94 | 1371 | 0.06856309 |\n",
       "| Flt3l   | 2    | 3    |  113 | 1660 | 0.06807229 |\n",
       "| Control | 3    | 1    |   89 | 1329 | 0.06696764 |\n",
       "| Flt3l   | 2    | 5    |  109 | 1660 | 0.06566265 |\n",
       "| Control | 1    | 19   |   80 | 1222 | 0.06546645 |\n",
       "| Flt3l   | 1    | 0    |  168 | 2616 | 0.06422018 |\n",
       "| Control | 2    | 4    |   88 | 1371 | 0.06418673 |\n",
       "| ⋮ | ⋮ | ⋮ | ⋮ | ⋮ | ⋮ |\n",
       "| Flt3l   | 0 | 59 | 2 | 2577 | 0.0007760962 |\n",
       "| Control | 3 | 26 | 1 | 1329 | 0.0007524454 |\n",
       "| Control | 3 | 27 | 1 | 1329 | 0.0007524454 |\n",
       "| Control | 3 | 28 | 1 | 1329 | 0.0007524454 |\n",
       "| Control | 3 | 34 | 1 | 1329 | 0.0007524454 |\n",
       "| Control | 0 | 45 | 1 | 1603 | 0.0006238303 |\n",
       "| Control | 0 | 46 | 1 | 1603 | 0.0006238303 |\n",
       "| Control | 0 | 48 | 1 | 1603 | 0.0006238303 |\n",
       "| Control | 0 | 50 | 1 | 1603 | 0.0006238303 |\n",
       "| Control | 0 | 54 | 1 | 1603 | 0.0006238303 |\n",
       "| Control | 0 | 55 | 1 | 1603 | 0.0006238303 |\n",
       "| Control | 0 | 56 | 1 | 1603 | 0.0006238303 |\n",
       "| Control | 0 | 57 | 1 | 1603 | 0.0006238303 |\n",
       "| Control | 0 | 58 | 1 | 1603 | 0.0006238303 |\n",
       "| Flt3l   | 2 | 29 | 1 | 1660 | 0.0006024096 |\n",
       "| Flt3l   | 2 | 32 | 1 | 1660 | 0.0006024096 |\n",
       "| Flt3l   | 2 | 33 | 1 | 1660 | 0.0006024096 |\n",
       "| Flt3l   | 2 | 36 | 1 | 1660 | 0.0006024096 |\n",
       "| Flt3l   | 2 | 37 | 1 | 1660 | 0.0006024096 |\n",
       "| Flt3l   | 0 | 39 | 1 | 2577 | 0.0003880481 |\n",
       "| Flt3l   | 0 | 44 | 1 | 2577 | 0.0003880481 |\n",
       "| Flt3l   | 0 | 49 | 1 | 2577 | 0.0003880481 |\n",
       "| Flt3l   | 0 | 50 | 1 | 2577 | 0.0003880481 |\n",
       "| Flt3l   | 0 | 51 | 1 | 2577 | 0.0003880481 |\n",
       "| Flt3l   | 0 | 54 | 1 | 2577 | 0.0003880481 |\n",
       "| Flt3l   | 0 | 55 | 1 | 2577 | 0.0003880481 |\n",
       "| Flt3l   | 0 | 56 | 1 | 2577 | 0.0003880481 |\n",
       "| Flt3l   | 0 | 57 | 1 | 2577 | 0.0003880481 |\n",
       "| Flt3l   | 0 | 58 | 1 | 2577 | 0.0003880481 |\n",
       "| Flt3l   | 1 | 35 | 1 | 2616 | 0.0003822630 |\n",
       "\n"
      ],
      "text/plain": [
       "    condition donor lineage size total norm        \n",
       "1   None      None  None    3715 3715  1.00000000  \n",
       "2   Control   3     36       303 1329  0.22799097  \n",
       "3   Flt3l     3     1        436 2399  0.18174239  \n",
       "4   Flt3l     3     0        427 2399  0.17799083  \n",
       "5   Flt3l     2     0        282 1660  0.16987952  \n",
       "6   Control   0     52       208 1603  0.12975671  \n",
       "7   Flt3l     0     0        325 2577  0.12611564  \n",
       "8   Control   3     0        165 1329  0.12415350  \n",
       "9   Control   3     2        154 1329  0.11587660  \n",
       "10  Flt3l     2     1        167 1660  0.10060241  \n",
       "11  Flt3l     0     1        244 2577  0.09468374  \n",
       "12  Flt3l     2     2        154 1660  0.09277108  \n",
       "13  Control   2     3        120 1371  0.08752735  \n",
       "14  Flt3l     3     2        194 2399  0.08086703  \n",
       "15  Control   2     1        110 1371  0.08023341  \n",
       "16  Control   3     3        105 1329  0.07900677  \n",
       "17  Control   2     34       107 1371  0.07804522  \n",
       "18  Control   0     2        120 1603  0.07485964  \n",
       "19  Control   0     4        119 1603  0.07423581  \n",
       "20  Control   2     6        101 1371  0.07366885  \n",
       "21  Control   0     6        113 1603  0.07049283  \n",
       "22  Control   1     0         86 1222  0.07037643  \n",
       "23  Control   2     0         95 1371  0.06929249  \n",
       "24  Control   2     2         94 1371  0.06856309  \n",
       "25  Flt3l     2     3        113 1660  0.06807229  \n",
       "26  Control   3     1         89 1329  0.06696764  \n",
       "27  Flt3l     2     5        109 1660  0.06566265  \n",
       "28  Control   1     19        80 1222  0.06546645  \n",
       "29  Flt3l     1     0        168 2616  0.06422018  \n",
       "30  Control   2     4         88 1371  0.06418673  \n",
       "⋮   ⋮         ⋮     ⋮       ⋮    ⋮     ⋮           \n",
       "317 Flt3l     0     59      2    2577  0.0007760962\n",
       "318 Control   3     26      1    1329  0.0007524454\n",
       "319 Control   3     27      1    1329  0.0007524454\n",
       "320 Control   3     28      1    1329  0.0007524454\n",
       "321 Control   3     34      1    1329  0.0007524454\n",
       "322 Control   0     45      1    1603  0.0006238303\n",
       "323 Control   0     46      1    1603  0.0006238303\n",
       "324 Control   0     48      1    1603  0.0006238303\n",
       "325 Control   0     50      1    1603  0.0006238303\n",
       "326 Control   0     54      1    1603  0.0006238303\n",
       "327 Control   0     55      1    1603  0.0006238303\n",
       "328 Control   0     56      1    1603  0.0006238303\n",
       "329 Control   0     57      1    1603  0.0006238303\n",
       "330 Control   0     58      1    1603  0.0006238303\n",
       "331 Flt3l     2     29      1    1660  0.0006024096\n",
       "332 Flt3l     2     32      1    1660  0.0006024096\n",
       "333 Flt3l     2     33      1    1660  0.0006024096\n",
       "334 Flt3l     2     36      1    1660  0.0006024096\n",
       "335 Flt3l     2     37      1    1660  0.0006024096\n",
       "336 Flt3l     0     39      1    2577  0.0003880481\n",
       "337 Flt3l     0     44      1    2577  0.0003880481\n",
       "338 Flt3l     0     49      1    2577  0.0003880481\n",
       "339 Flt3l     0     50      1    2577  0.0003880481\n",
       "340 Flt3l     0     51      1    2577  0.0003880481\n",
       "341 Flt3l     0     54      1    2577  0.0003880481\n",
       "342 Flt3l     0     55      1    2577  0.0003880481\n",
       "343 Flt3l     0     56      1    2577  0.0003880481\n",
       "344 Flt3l     0     57      1    2577  0.0003880481\n",
       "345 Flt3l     0     58      1    2577  0.0003880481\n",
       "346 Flt3l     1     35      1    2616  0.0003822630"
      ]
     },
     "metadata": {},
     "output_type": "display_data"
    }
   ],
   "source": [
    "\n",
    "## Create the counts data.frame and normalize by the condition+donor total\n",
    "counts <- se[[]] %>%\n",
    "          group_by(condition, donor, lineage) %>%\n",
    "          summarize(size=n())\n",
    "\n",
    "counts.norm.sizes <- counts %>% group_by(condition, donor) %>% mutate(total=sum(size)) %>% ungroup() %>% \n",
    "                                mutate(norm=size/total) %>% arrange(desc(norm))\n",
    "\n",
    "#counts.norm.sizes = counts.norm[order(counts.norm.sizes[,\"norm\"], decreasing=T),]\n",
    "counts.norm.sizes"
   ]
  },
  {
   "cell_type": "code",
   "execution_count": 7,
   "id": "b35f0cb8",
   "metadata": {
    "scrolled": true
   },
   "outputs": [
    {
     "name": "stderr",
     "output_type": "stream",
     "text": [
      "`summarise()` has grouped output by 'condition', 'donor'. You can override using the `.groups` argument.\n",
      "\n",
      "Warning message in xtfrm.data.frame(x):\n",
      "“cannot xtfrm data frames”\n"
     ]
    },
    {
     "data": {
      "text/html": [
       "<table class=\"dataframe\">\n",
       "<caption>A tibble: 346 × 6</caption>\n",
       "<thead>\n",
       "\t<tr><th scope=col>condition</th><th scope=col>donor</th><th scope=col>lineage</th><th scope=col>size</th><th scope=col>total</th><th scope=col>norm</th></tr>\n",
       "\t<tr><th scope=col>&lt;fct&gt;</th><th scope=col>&lt;fct&gt;</th><th scope=col>&lt;fct&gt;</th><th scope=col>&lt;int&gt;</th><th scope=col>&lt;int&gt;</th><th scope=col>&lt;dbl&gt;</th></tr>\n",
       "</thead>\n",
       "<tbody>\n",
       "\t<tr><td>Control</td><td>0</td><td>0 </td><td> 90</td><td>1603</td><td>0.056144729</td></tr>\n",
       "\t<tr><td>Control</td><td>0</td><td>1 </td><td> 60</td><td>1603</td><td>0.037429819</td></tr>\n",
       "\t<tr><td>Control</td><td>0</td><td>2 </td><td>120</td><td>1603</td><td>0.074859638</td></tr>\n",
       "\t<tr><td>Control</td><td>0</td><td>3 </td><td>101</td><td>1603</td><td>0.063006862</td></tr>\n",
       "\t<tr><td>Control</td><td>0</td><td>4 </td><td>119</td><td>1603</td><td>0.074235808</td></tr>\n",
       "\t<tr><td>Control</td><td>0</td><td>5 </td><td> 41</td><td>1603</td><td>0.025577043</td></tr>\n",
       "\t<tr><td>Control</td><td>0</td><td>6 </td><td>113</td><td>1603</td><td>0.070492826</td></tr>\n",
       "\t<tr><td>Control</td><td>0</td><td>7 </td><td> 71</td><td>1603</td><td>0.044291953</td></tr>\n",
       "\t<tr><td>Control</td><td>0</td><td>8 </td><td> 40</td><td>1603</td><td>0.024953213</td></tr>\n",
       "\t<tr><td>Control</td><td>0</td><td>9 </td><td> 36</td><td>1603</td><td>0.022457891</td></tr>\n",
       "\t<tr><td>Control</td><td>0</td><td>10</td><td> 71</td><td>1603</td><td>0.044291953</td></tr>\n",
       "\t<tr><td>Control</td><td>0</td><td>11</td><td> 95</td><td>1603</td><td>0.059263880</td></tr>\n",
       "\t<tr><td>Control</td><td>0</td><td>12</td><td> 30</td><td>1603</td><td>0.018714910</td></tr>\n",
       "\t<tr><td>Control</td><td>0</td><td>13</td><td> 28</td><td>1603</td><td>0.017467249</td></tr>\n",
       "\t<tr><td>Control</td><td>0</td><td>14</td><td> 25</td><td>1603</td><td>0.015595758</td></tr>\n",
       "\t<tr><td>Control</td><td>0</td><td>15</td><td> 24</td><td>1603</td><td>0.014971928</td></tr>\n",
       "\t<tr><td>Control</td><td>0</td><td>16</td><td> 18</td><td>1603</td><td>0.011228946</td></tr>\n",
       "\t<tr><td>Control</td><td>0</td><td>17</td><td> 16</td><td>1603</td><td>0.009981285</td></tr>\n",
       "\t<tr><td>Control</td><td>0</td><td>18</td><td> 12</td><td>1603</td><td>0.007485964</td></tr>\n",
       "\t<tr><td>Control</td><td>0</td><td>19</td><td> 13</td><td>1603</td><td>0.008109794</td></tr>\n",
       "\t<tr><td>Control</td><td>0</td><td>20</td><td> 14</td><td>1603</td><td>0.008733624</td></tr>\n",
       "\t<tr><td>Control</td><td>0</td><td>21</td><td>  8</td><td>1603</td><td>0.004990643</td></tr>\n",
       "\t<tr><td>Control</td><td>0</td><td>22</td><td> 16</td><td>1603</td><td>0.009981285</td></tr>\n",
       "\t<tr><td>Control</td><td>0</td><td>23</td><td> 13</td><td>1603</td><td>0.008109794</td></tr>\n",
       "\t<tr><td>Control</td><td>0</td><td>24</td><td> 14</td><td>1603</td><td>0.008733624</td></tr>\n",
       "\t<tr><td>Control</td><td>0</td><td>25</td><td>  7</td><td>1603</td><td>0.004366812</td></tr>\n",
       "\t<tr><td>Control</td><td>0</td><td>26</td><td>  4</td><td>1603</td><td>0.002495321</td></tr>\n",
       "\t<tr><td>Control</td><td>0</td><td>27</td><td>  7</td><td>1603</td><td>0.004366812</td></tr>\n",
       "\t<tr><td>Control</td><td>0</td><td>28</td><td>  5</td><td>1603</td><td>0.003119152</td></tr>\n",
       "\t<tr><td>Control</td><td>0</td><td>29</td><td>  9</td><td>1603</td><td>0.005614473</td></tr>\n",
       "\t<tr><td>⋮</td><td>⋮</td><td>⋮</td><td>⋮</td><td>⋮</td><td>⋮</td></tr>\n",
       "\t<tr><td>Flt3l</td><td>3   </td><td>10  </td><td>  83</td><td>2399</td><td>0.0345977491</td></tr>\n",
       "\t<tr><td>Flt3l</td><td>3   </td><td>11  </td><td>  45</td><td>2399</td><td>0.0187578158</td></tr>\n",
       "\t<tr><td>Flt3l</td><td>3   </td><td>12  </td><td>  56</td><td>2399</td><td>0.0233430596</td></tr>\n",
       "\t<tr><td>Flt3l</td><td>3   </td><td>13  </td><td>  37</td><td>2399</td><td>0.0154230930</td></tr>\n",
       "\t<tr><td>Flt3l</td><td>3   </td><td>14  </td><td>  39</td><td>2399</td><td>0.0162567737</td></tr>\n",
       "\t<tr><td>Flt3l</td><td>3   </td><td>15  </td><td>  18</td><td>2399</td><td>0.0075031263</td></tr>\n",
       "\t<tr><td>Flt3l</td><td>3   </td><td>16  </td><td>  18</td><td>2399</td><td>0.0075031263</td></tr>\n",
       "\t<tr><td>Flt3l</td><td>3   </td><td>17  </td><td>  20</td><td>2399</td><td>0.0083368070</td></tr>\n",
       "\t<tr><td>Flt3l</td><td>3   </td><td>18  </td><td>  19</td><td>2399</td><td>0.0079199667</td></tr>\n",
       "\t<tr><td>Flt3l</td><td>3   </td><td>19  </td><td>  13</td><td>2399</td><td>0.0054189246</td></tr>\n",
       "\t<tr><td>Flt3l</td><td>3   </td><td>20  </td><td>   9</td><td>2399</td><td>0.0037515632</td></tr>\n",
       "\t<tr><td>Flt3l</td><td>3   </td><td>21  </td><td>   8</td><td>2399</td><td>0.0033347228</td></tr>\n",
       "\t<tr><td>Flt3l</td><td>3   </td><td>22  </td><td>   6</td><td>2399</td><td>0.0025010421</td></tr>\n",
       "\t<tr><td>Flt3l</td><td>3   </td><td>23  </td><td>   4</td><td>2399</td><td>0.0016673614</td></tr>\n",
       "\t<tr><td>Flt3l</td><td>3   </td><td>24  </td><td>   7</td><td>2399</td><td>0.0029178825</td></tr>\n",
       "\t<tr><td>Flt3l</td><td>3   </td><td>25  </td><td>   9</td><td>2399</td><td>0.0037515632</td></tr>\n",
       "\t<tr><td>Flt3l</td><td>3   </td><td>26  </td><td>   7</td><td>2399</td><td>0.0029178825</td></tr>\n",
       "\t<tr><td>Flt3l</td><td>3   </td><td>27  </td><td>   7</td><td>2399</td><td>0.0029178825</td></tr>\n",
       "\t<tr><td>Flt3l</td><td>3   </td><td>28  </td><td>   6</td><td>2399</td><td>0.0025010421</td></tr>\n",
       "\t<tr><td>Flt3l</td><td>3   </td><td>29  </td><td>   5</td><td>2399</td><td>0.0020842018</td></tr>\n",
       "\t<tr><td>Flt3l</td><td>3   </td><td>30  </td><td>   5</td><td>2399</td><td>0.0020842018</td></tr>\n",
       "\t<tr><td>Flt3l</td><td>3   </td><td>31  </td><td>   2</td><td>2399</td><td>0.0008336807</td></tr>\n",
       "\t<tr><td>Flt3l</td><td>3   </td><td>32  </td><td>   3</td><td>2399</td><td>0.0012505211</td></tr>\n",
       "\t<tr><td>Flt3l</td><td>3   </td><td>33  </td><td>   5</td><td>2399</td><td>0.0020842018</td></tr>\n",
       "\t<tr><td>Flt3l</td><td>3   </td><td>34  </td><td>   2</td><td>2399</td><td>0.0008336807</td></tr>\n",
       "\t<tr><td>Flt3l</td><td>3   </td><td>35  </td><td>   3</td><td>2399</td><td>0.0012505211</td></tr>\n",
       "\t<tr><td>Flt3l</td><td>3   </td><td>36  </td><td> 144</td><td>2399</td><td>0.0600250104</td></tr>\n",
       "\t<tr><td>Flt3l</td><td>3   </td><td>37  </td><td>   3</td><td>2399</td><td>0.0012505211</td></tr>\n",
       "\t<tr><td>Flt3l</td><td>3   </td><td>38  </td><td>   2</td><td>2399</td><td>0.0008336807</td></tr>\n",
       "\t<tr><td>None </td><td>None</td><td>None</td><td>3715</td><td>3715</td><td>1.0000000000</td></tr>\n",
       "</tbody>\n",
       "</table>\n"
      ],
      "text/latex": [
       "A tibble: 346 × 6\n",
       "\\begin{tabular}{llllll}\n",
       " condition & donor & lineage & size & total & norm\\\\\n",
       " <fct> & <fct> & <fct> & <int> & <int> & <dbl>\\\\\n",
       "\\hline\n",
       "\t Control & 0 & 0  &  90 & 1603 & 0.056144729\\\\\n",
       "\t Control & 0 & 1  &  60 & 1603 & 0.037429819\\\\\n",
       "\t Control & 0 & 2  & 120 & 1603 & 0.074859638\\\\\n",
       "\t Control & 0 & 3  & 101 & 1603 & 0.063006862\\\\\n",
       "\t Control & 0 & 4  & 119 & 1603 & 0.074235808\\\\\n",
       "\t Control & 0 & 5  &  41 & 1603 & 0.025577043\\\\\n",
       "\t Control & 0 & 6  & 113 & 1603 & 0.070492826\\\\\n",
       "\t Control & 0 & 7  &  71 & 1603 & 0.044291953\\\\\n",
       "\t Control & 0 & 8  &  40 & 1603 & 0.024953213\\\\\n",
       "\t Control & 0 & 9  &  36 & 1603 & 0.022457891\\\\\n",
       "\t Control & 0 & 10 &  71 & 1603 & 0.044291953\\\\\n",
       "\t Control & 0 & 11 &  95 & 1603 & 0.059263880\\\\\n",
       "\t Control & 0 & 12 &  30 & 1603 & 0.018714910\\\\\n",
       "\t Control & 0 & 13 &  28 & 1603 & 0.017467249\\\\\n",
       "\t Control & 0 & 14 &  25 & 1603 & 0.015595758\\\\\n",
       "\t Control & 0 & 15 &  24 & 1603 & 0.014971928\\\\\n",
       "\t Control & 0 & 16 &  18 & 1603 & 0.011228946\\\\\n",
       "\t Control & 0 & 17 &  16 & 1603 & 0.009981285\\\\\n",
       "\t Control & 0 & 18 &  12 & 1603 & 0.007485964\\\\\n",
       "\t Control & 0 & 19 &  13 & 1603 & 0.008109794\\\\\n",
       "\t Control & 0 & 20 &  14 & 1603 & 0.008733624\\\\\n",
       "\t Control & 0 & 21 &   8 & 1603 & 0.004990643\\\\\n",
       "\t Control & 0 & 22 &  16 & 1603 & 0.009981285\\\\\n",
       "\t Control & 0 & 23 &  13 & 1603 & 0.008109794\\\\\n",
       "\t Control & 0 & 24 &  14 & 1603 & 0.008733624\\\\\n",
       "\t Control & 0 & 25 &   7 & 1603 & 0.004366812\\\\\n",
       "\t Control & 0 & 26 &   4 & 1603 & 0.002495321\\\\\n",
       "\t Control & 0 & 27 &   7 & 1603 & 0.004366812\\\\\n",
       "\t Control & 0 & 28 &   5 & 1603 & 0.003119152\\\\\n",
       "\t Control & 0 & 29 &   9 & 1603 & 0.005614473\\\\\n",
       "\t ⋮ & ⋮ & ⋮ & ⋮ & ⋮ & ⋮\\\\\n",
       "\t Flt3l & 3    & 10   &   83 & 2399 & 0.0345977491\\\\\n",
       "\t Flt3l & 3    & 11   &   45 & 2399 & 0.0187578158\\\\\n",
       "\t Flt3l & 3    & 12   &   56 & 2399 & 0.0233430596\\\\\n",
       "\t Flt3l & 3    & 13   &   37 & 2399 & 0.0154230930\\\\\n",
       "\t Flt3l & 3    & 14   &   39 & 2399 & 0.0162567737\\\\\n",
       "\t Flt3l & 3    & 15   &   18 & 2399 & 0.0075031263\\\\\n",
       "\t Flt3l & 3    & 16   &   18 & 2399 & 0.0075031263\\\\\n",
       "\t Flt3l & 3    & 17   &   20 & 2399 & 0.0083368070\\\\\n",
       "\t Flt3l & 3    & 18   &   19 & 2399 & 0.0079199667\\\\\n",
       "\t Flt3l & 3    & 19   &   13 & 2399 & 0.0054189246\\\\\n",
       "\t Flt3l & 3    & 20   &    9 & 2399 & 0.0037515632\\\\\n",
       "\t Flt3l & 3    & 21   &    8 & 2399 & 0.0033347228\\\\\n",
       "\t Flt3l & 3    & 22   &    6 & 2399 & 0.0025010421\\\\\n",
       "\t Flt3l & 3    & 23   &    4 & 2399 & 0.0016673614\\\\\n",
       "\t Flt3l & 3    & 24   &    7 & 2399 & 0.0029178825\\\\\n",
       "\t Flt3l & 3    & 25   &    9 & 2399 & 0.0037515632\\\\\n",
       "\t Flt3l & 3    & 26   &    7 & 2399 & 0.0029178825\\\\\n",
       "\t Flt3l & 3    & 27   &    7 & 2399 & 0.0029178825\\\\\n",
       "\t Flt3l & 3    & 28   &    6 & 2399 & 0.0025010421\\\\\n",
       "\t Flt3l & 3    & 29   &    5 & 2399 & 0.0020842018\\\\\n",
       "\t Flt3l & 3    & 30   &    5 & 2399 & 0.0020842018\\\\\n",
       "\t Flt3l & 3    & 31   &    2 & 2399 & 0.0008336807\\\\\n",
       "\t Flt3l & 3    & 32   &    3 & 2399 & 0.0012505211\\\\\n",
       "\t Flt3l & 3    & 33   &    5 & 2399 & 0.0020842018\\\\\n",
       "\t Flt3l & 3    & 34   &    2 & 2399 & 0.0008336807\\\\\n",
       "\t Flt3l & 3    & 35   &    3 & 2399 & 0.0012505211\\\\\n",
       "\t Flt3l & 3    & 36   &  144 & 2399 & 0.0600250104\\\\\n",
       "\t Flt3l & 3    & 37   &    3 & 2399 & 0.0012505211\\\\\n",
       "\t Flt3l & 3    & 38   &    2 & 2399 & 0.0008336807\\\\\n",
       "\t None  & None & None & 3715 & 3715 & 1.0000000000\\\\\n",
       "\\end{tabular}\n"
      ],
      "text/markdown": [
       "\n",
       "A tibble: 346 × 6\n",
       "\n",
       "| condition &lt;fct&gt; | donor &lt;fct&gt; | lineage &lt;fct&gt; | size &lt;int&gt; | total &lt;int&gt; | norm &lt;dbl&gt; |\n",
       "|---|---|---|---|---|---|\n",
       "| Control | 0 | 0  |  90 | 1603 | 0.056144729 |\n",
       "| Control | 0 | 1  |  60 | 1603 | 0.037429819 |\n",
       "| Control | 0 | 2  | 120 | 1603 | 0.074859638 |\n",
       "| Control | 0 | 3  | 101 | 1603 | 0.063006862 |\n",
       "| Control | 0 | 4  | 119 | 1603 | 0.074235808 |\n",
       "| Control | 0 | 5  |  41 | 1603 | 0.025577043 |\n",
       "| Control | 0 | 6  | 113 | 1603 | 0.070492826 |\n",
       "| Control | 0 | 7  |  71 | 1603 | 0.044291953 |\n",
       "| Control | 0 | 8  |  40 | 1603 | 0.024953213 |\n",
       "| Control | 0 | 9  |  36 | 1603 | 0.022457891 |\n",
       "| Control | 0 | 10 |  71 | 1603 | 0.044291953 |\n",
       "| Control | 0 | 11 |  95 | 1603 | 0.059263880 |\n",
       "| Control | 0 | 12 |  30 | 1603 | 0.018714910 |\n",
       "| Control | 0 | 13 |  28 | 1603 | 0.017467249 |\n",
       "| Control | 0 | 14 |  25 | 1603 | 0.015595758 |\n",
       "| Control | 0 | 15 |  24 | 1603 | 0.014971928 |\n",
       "| Control | 0 | 16 |  18 | 1603 | 0.011228946 |\n",
       "| Control | 0 | 17 |  16 | 1603 | 0.009981285 |\n",
       "| Control | 0 | 18 |  12 | 1603 | 0.007485964 |\n",
       "| Control | 0 | 19 |  13 | 1603 | 0.008109794 |\n",
       "| Control | 0 | 20 |  14 | 1603 | 0.008733624 |\n",
       "| Control | 0 | 21 |   8 | 1603 | 0.004990643 |\n",
       "| Control | 0 | 22 |  16 | 1603 | 0.009981285 |\n",
       "| Control | 0 | 23 |  13 | 1603 | 0.008109794 |\n",
       "| Control | 0 | 24 |  14 | 1603 | 0.008733624 |\n",
       "| Control | 0 | 25 |   7 | 1603 | 0.004366812 |\n",
       "| Control | 0 | 26 |   4 | 1603 | 0.002495321 |\n",
       "| Control | 0 | 27 |   7 | 1603 | 0.004366812 |\n",
       "| Control | 0 | 28 |   5 | 1603 | 0.003119152 |\n",
       "| Control | 0 | 29 |   9 | 1603 | 0.005614473 |\n",
       "| ⋮ | ⋮ | ⋮ | ⋮ | ⋮ | ⋮ |\n",
       "| Flt3l | 3    | 10   |   83 | 2399 | 0.0345977491 |\n",
       "| Flt3l | 3    | 11   |   45 | 2399 | 0.0187578158 |\n",
       "| Flt3l | 3    | 12   |   56 | 2399 | 0.0233430596 |\n",
       "| Flt3l | 3    | 13   |   37 | 2399 | 0.0154230930 |\n",
       "| Flt3l | 3    | 14   |   39 | 2399 | 0.0162567737 |\n",
       "| Flt3l | 3    | 15   |   18 | 2399 | 0.0075031263 |\n",
       "| Flt3l | 3    | 16   |   18 | 2399 | 0.0075031263 |\n",
       "| Flt3l | 3    | 17   |   20 | 2399 | 0.0083368070 |\n",
       "| Flt3l | 3    | 18   |   19 | 2399 | 0.0079199667 |\n",
       "| Flt3l | 3    | 19   |   13 | 2399 | 0.0054189246 |\n",
       "| Flt3l | 3    | 20   |    9 | 2399 | 0.0037515632 |\n",
       "| Flt3l | 3    | 21   |    8 | 2399 | 0.0033347228 |\n",
       "| Flt3l | 3    | 22   |    6 | 2399 | 0.0025010421 |\n",
       "| Flt3l | 3    | 23   |    4 | 2399 | 0.0016673614 |\n",
       "| Flt3l | 3    | 24   |    7 | 2399 | 0.0029178825 |\n",
       "| Flt3l | 3    | 25   |    9 | 2399 | 0.0037515632 |\n",
       "| Flt3l | 3    | 26   |    7 | 2399 | 0.0029178825 |\n",
       "| Flt3l | 3    | 27   |    7 | 2399 | 0.0029178825 |\n",
       "| Flt3l | 3    | 28   |    6 | 2399 | 0.0025010421 |\n",
       "| Flt3l | 3    | 29   |    5 | 2399 | 0.0020842018 |\n",
       "| Flt3l | 3    | 30   |    5 | 2399 | 0.0020842018 |\n",
       "| Flt3l | 3    | 31   |    2 | 2399 | 0.0008336807 |\n",
       "| Flt3l | 3    | 32   |    3 | 2399 | 0.0012505211 |\n",
       "| Flt3l | 3    | 33   |    5 | 2399 | 0.0020842018 |\n",
       "| Flt3l | 3    | 34   |    2 | 2399 | 0.0008336807 |\n",
       "| Flt3l | 3    | 35   |    3 | 2399 | 0.0012505211 |\n",
       "| Flt3l | 3    | 36   |  144 | 2399 | 0.0600250104 |\n",
       "| Flt3l | 3    | 37   |    3 | 2399 | 0.0012505211 |\n",
       "| Flt3l | 3    | 38   |    2 | 2399 | 0.0008336807 |\n",
       "| None  | None | None | 3715 | 3715 | 1.0000000000 |\n",
       "\n"
      ],
      "text/plain": [
       "    condition donor lineage size total norm        \n",
       "1   Control   0     0        90  1603  0.056144729 \n",
       "2   Control   0     1        60  1603  0.037429819 \n",
       "3   Control   0     2       120  1603  0.074859638 \n",
       "4   Control   0     3       101  1603  0.063006862 \n",
       "5   Control   0     4       119  1603  0.074235808 \n",
       "6   Control   0     5        41  1603  0.025577043 \n",
       "7   Control   0     6       113  1603  0.070492826 \n",
       "8   Control   0     7        71  1603  0.044291953 \n",
       "9   Control   0     8        40  1603  0.024953213 \n",
       "10  Control   0     9        36  1603  0.022457891 \n",
       "11  Control   0     10       71  1603  0.044291953 \n",
       "12  Control   0     11       95  1603  0.059263880 \n",
       "13  Control   0     12       30  1603  0.018714910 \n",
       "14  Control   0     13       28  1603  0.017467249 \n",
       "15  Control   0     14       25  1603  0.015595758 \n",
       "16  Control   0     15       24  1603  0.014971928 \n",
       "17  Control   0     16       18  1603  0.011228946 \n",
       "18  Control   0     17       16  1603  0.009981285 \n",
       "19  Control   0     18       12  1603  0.007485964 \n",
       "20  Control   0     19       13  1603  0.008109794 \n",
       "21  Control   0     20       14  1603  0.008733624 \n",
       "22  Control   0     21        8  1603  0.004990643 \n",
       "23  Control   0     22       16  1603  0.009981285 \n",
       "24  Control   0     23       13  1603  0.008109794 \n",
       "25  Control   0     24       14  1603  0.008733624 \n",
       "26  Control   0     25        7  1603  0.004366812 \n",
       "27  Control   0     26        4  1603  0.002495321 \n",
       "28  Control   0     27        7  1603  0.004366812 \n",
       "29  Control   0     28        5  1603  0.003119152 \n",
       "30  Control   0     29        9  1603  0.005614473 \n",
       "⋮   ⋮         ⋮     ⋮       ⋮    ⋮     ⋮           \n",
       "317 Flt3l     3     10        83 2399  0.0345977491\n",
       "318 Flt3l     3     11        45 2399  0.0187578158\n",
       "319 Flt3l     3     12        56 2399  0.0233430596\n",
       "320 Flt3l     3     13        37 2399  0.0154230930\n",
       "321 Flt3l     3     14        39 2399  0.0162567737\n",
       "322 Flt3l     3     15        18 2399  0.0075031263\n",
       "323 Flt3l     3     16        18 2399  0.0075031263\n",
       "324 Flt3l     3     17        20 2399  0.0083368070\n",
       "325 Flt3l     3     18        19 2399  0.0079199667\n",
       "326 Flt3l     3     19        13 2399  0.0054189246\n",
       "327 Flt3l     3     20         9 2399  0.0037515632\n",
       "328 Flt3l     3     21         8 2399  0.0033347228\n",
       "329 Flt3l     3     22         6 2399  0.0025010421\n",
       "330 Flt3l     3     23         4 2399  0.0016673614\n",
       "331 Flt3l     3     24         7 2399  0.0029178825\n",
       "332 Flt3l     3     25         9 2399  0.0037515632\n",
       "333 Flt3l     3     26         7 2399  0.0029178825\n",
       "334 Flt3l     3     27         7 2399  0.0029178825\n",
       "335 Flt3l     3     28         6 2399  0.0025010421\n",
       "336 Flt3l     3     29         5 2399  0.0020842018\n",
       "337 Flt3l     3     30         5 2399  0.0020842018\n",
       "338 Flt3l     3     31         2 2399  0.0008336807\n",
       "339 Flt3l     3     32         3 2399  0.0012505211\n",
       "340 Flt3l     3     33         5 2399  0.0020842018\n",
       "341 Flt3l     3     34         2 2399  0.0008336807\n",
       "342 Flt3l     3     35         3 2399  0.0012505211\n",
       "343 Flt3l     3     36       144 2399  0.0600250104\n",
       "344 Flt3l     3     37         3 2399  0.0012505211\n",
       "345 Flt3l     3     38         2 2399  0.0008336807\n",
       "346 None      None  None    3715 3715  1.0000000000"
      ]
     },
     "metadata": {},
     "output_type": "display_data"
    }
   ],
   "source": [
    "\n",
    "## Create the counts data.frame and normalize by the condition+donor total\n",
    "counts <- se[[]] %>%\n",
    "          group_by(condition, donor, lineage) %>%\n",
    "          summarize(size=n())\n",
    "\n",
    "counts.norm <- counts %>% group_by(condition, donor) %>% mutate(total=sum(size)) %>% ungroup() %>% \n",
    "                                mutate(norm=size/total) \n",
    "\n",
    "counts.norm.sizes = counts.norm[order(counts.norm.sizes[,\"norm\"], decreasing=T),]\n",
    "counts.norm.sizes"
   ]
  },
  {
   "cell_type": "code",
   "execution_count": 8,
   "id": "e0dda805",
   "metadata": {
    "scrolled": true
   },
   "outputs": [
    {
     "name": "stderr",
     "output_type": "stream",
     "text": [
      "`summarise()` has grouped output by 'donor'. You can override using the `.groups` argument.\n",
      "\n"
     ]
    },
    {
     "data": {
      "text/html": [
       "<table class=\"dataframe\">\n",
       "<caption>A grouped_df: 176 × 5</caption>\n",
       "<thead>\n",
       "\t<tr><th scope=col>donor</th><th scope=col>lineage</th><th scope=col>norm.total</th><th scope=col>total</th><th scope=col>name</th></tr>\n",
       "\t<tr><th scope=col>&lt;fct&gt;</th><th scope=col>&lt;fct&gt;</th><th scope=col>&lt;dbl&gt;</th><th scope=col>&lt;int&gt;</th><th scope=col>&lt;fct&gt;</th></tr>\n",
       "</thead>\n",
       "<tbody>\n",
       "\t<tr><td>None</td><td>None</td><td>1.00000000</td><td>3715</td><td>None_None</td></tr>\n",
       "\t<tr><td>3   </td><td>0   </td><td>0.30214433</td><td> 592</td><td>3_0      </td></tr>\n",
       "\t<tr><td>3   </td><td>36  </td><td>0.28801598</td><td> 447</td><td>3_36     </td></tr>\n",
       "\t<tr><td>3   </td><td>1   </td><td>0.24871004</td><td> 525</td><td>3_1      </td></tr>\n",
       "\t<tr><td>2   </td><td>0   </td><td>0.23917201</td><td> 377</td><td>2_0      </td></tr>\n",
       "\t<tr><td>3   </td><td>2   </td><td>0.19674363</td><td> 348</td><td>3_2      </td></tr>\n",
       "\t<tr><td>0   </td><td>0   </td><td>0.18226037</td><td> 415</td><td>0_0      </td></tr>\n",
       "\t<tr><td>2   </td><td>1   </td><td>0.18083582</td><td> 277</td><td>2_1      </td></tr>\n",
       "\t<tr><td>2   </td><td>2   </td><td>0.16133418</td><td> 248</td><td>2_2      </td></tr>\n",
       "\t<tr><td>0   </td><td>52  </td><td>0.15614398</td><td> 276</td><td>0_52     </td></tr>\n",
       "\t<tr><td>2   </td><td>3   </td><td>0.15559964</td><td> 233</td><td>2_3      </td></tr>\n",
       "\t<tr><td>0   </td><td>2   </td><td>0.13733539</td><td> 281</td><td>0_2      </td></tr>\n",
       "\t<tr><td>1   </td><td>0   </td><td>0.13459662</td><td> 254</td><td>1_0      </td></tr>\n",
       "\t<tr><td>0   </td><td>1   </td><td>0.13211356</td><td> 304</td><td>0_1      </td></tr>\n",
       "\t<tr><td>3   </td><td>3   </td><td>0.12986129</td><td> 227</td><td>3_3      </td></tr>\n",
       "\t<tr><td>0   </td><td>4   </td><td>0.12390597</td><td> 247</td><td>0_4      </td></tr>\n",
       "\t<tr><td>0   </td><td>3   </td><td>0.12315432</td><td> 256</td><td>0_3      </td></tr>\n",
       "\t<tr><td>2   </td><td>4   </td><td>0.11599395</td><td> 174</td><td>2_4      </td></tr>\n",
       "\t<tr><td>1   </td><td>1   </td><td>0.10784947</td><td> 200</td><td>1_1      </td></tr>\n",
       "\t<tr><td>2   </td><td>6   </td><td>0.10499416</td><td> 153</td><td>2_6      </td></tr>\n",
       "\t<tr><td>2   </td><td>5   </td><td>0.10286178</td><td> 160</td><td>2_5      </td></tr>\n",
       "\t<tr><td>0   </td><td>6   </td><td>0.10231277</td><td> 195</td><td>0_6      </td></tr>\n",
       "\t<tr><td>1   </td><td>2   </td><td>0.10021547</td><td> 196</td><td>1_2      </td></tr>\n",
       "\t<tr><td>2   </td><td>7   </td><td>0.09886944</td><td> 150</td><td>2_7      </td></tr>\n",
       "\t<tr><td>3   </td><td>6   </td><td>0.09404094</td><td> 162</td><td>3_6      </td></tr>\n",
       "\t<tr><td>3   </td><td>5   </td><td>0.09308337</td><td> 175</td><td>3_5      </td></tr>\n",
       "\t<tr><td>3   </td><td>4   </td><td>0.09254264</td><td> 189</td><td>3_4      </td></tr>\n",
       "\t<tr><td>1   </td><td>3   </td><td>0.08930252</td><td> 180</td><td>1_3      </td></tr>\n",
       "\t<tr><td>0   </td><td>7   </td><td>0.08736529</td><td> 182</td><td>0_7      </td></tr>\n",
       "\t<tr><td>0   </td><td>5   </td><td>0.08688865</td><td> 199</td><td>0_5      </td></tr>\n",
       "\t<tr><td>⋮</td><td>⋮</td><td>⋮</td><td>⋮</td><td>⋮</td></tr>\n",
       "\t<tr><td>3</td><td>28</td><td>0.003253488</td><td>7</td><td>3_28</td></tr>\n",
       "\t<tr><td>0</td><td>37</td><td>0.003187901</td><td>7</td><td>0_37</td></tr>\n",
       "\t<tr><td>3</td><td>38</td><td>0.003091017</td><td>5</td><td>3_38</td></tr>\n",
       "\t<tr><td>0</td><td>40</td><td>0.003035635</td><td>6</td><td>0_40</td></tr>\n",
       "\t<tr><td>2</td><td>33</td><td>0.002790593</td><td>4</td><td>2_33</td></tr>\n",
       "\t<tr><td>0</td><td>42</td><td>0.002647587</td><td>5</td><td>0_42</td></tr>\n",
       "\t<tr><td>0</td><td>43</td><td>0.002647587</td><td>5</td><td>0_43</td></tr>\n",
       "\t<tr><td>3</td><td>31</td><td>0.002338572</td><td>4</td><td>3_31</td></tr>\n",
       "\t<tr><td>0</td><td>44</td><td>0.002259539</td><td>4</td><td>0_44</td></tr>\n",
       "\t<tr><td>2</td><td>35</td><td>0.002188184</td><td>3</td><td>2_35</td></tr>\n",
       "\t<tr><td>3</td><td>30</td><td>0.002084202</td><td>5</td><td>3_30</td></tr>\n",
       "\t<tr><td>2</td><td>36</td><td>0.002061199</td><td>3</td><td>2_36</td></tr>\n",
       "\t<tr><td>2</td><td>37</td><td>0.002061199</td><td>3</td><td>2_37</td></tr>\n",
       "\t<tr><td>0</td><td>47</td><td>0.002023757</td><td>4</td><td>0_47</td></tr>\n",
       "\t<tr><td>1</td><td>35</td><td>0.002018924</td><td>3</td><td>1_35</td></tr>\n",
       "\t<tr><td>0</td><td>45</td><td>0.001787975</td><td>4</td><td>0_45</td></tr>\n",
       "\t<tr><td>0</td><td>46</td><td>0.001787975</td><td>4</td><td>0_46</td></tr>\n",
       "\t<tr><td>0</td><td>48</td><td>0.001787975</td><td>4</td><td>0_48</td></tr>\n",
       "\t<tr><td>1</td><td>36</td><td>0.001636661</td><td>2</td><td>1_36</td></tr>\n",
       "\t<tr><td>0</td><td>49</td><td>0.001635709</td><td>3</td><td>0_49</td></tr>\n",
       "\t<tr><td>0</td><td>51</td><td>0.001635709</td><td>3</td><td>0_51</td></tr>\n",
       "\t<tr><td>3</td><td>34</td><td>0.001586126</td><td>3</td><td>3_34</td></tr>\n",
       "\t<tr><td>2</td><td>38</td><td>0.001458789</td><td>2</td><td>2_38</td></tr>\n",
       "\t<tr><td>3</td><td>35</td><td>0.001250521</td><td>3</td><td>3_35</td></tr>\n",
       "\t<tr><td>0</td><td>50</td><td>0.001011878</td><td>2</td><td>0_50</td></tr>\n",
       "\t<tr><td>0</td><td>54</td><td>0.001011878</td><td>2</td><td>0_54</td></tr>\n",
       "\t<tr><td>0</td><td>55</td><td>0.001011878</td><td>2</td><td>0_55</td></tr>\n",
       "\t<tr><td>0</td><td>56</td><td>0.001011878</td><td>2</td><td>0_56</td></tr>\n",
       "\t<tr><td>0</td><td>57</td><td>0.001011878</td><td>2</td><td>0_57</td></tr>\n",
       "\t<tr><td>0</td><td>58</td><td>0.001011878</td><td>2</td><td>0_58</td></tr>\n",
       "</tbody>\n",
       "</table>\n"
      ],
      "text/latex": [
       "A grouped\\_df: 176 × 5\n",
       "\\begin{tabular}{lllll}\n",
       " donor & lineage & norm.total & total & name\\\\\n",
       " <fct> & <fct> & <dbl> & <int> & <fct>\\\\\n",
       "\\hline\n",
       "\t None & None & 1.00000000 & 3715 & None\\_None\\\\\n",
       "\t 3    & 0    & 0.30214433 &  592 & 3\\_0      \\\\\n",
       "\t 3    & 36   & 0.28801598 &  447 & 3\\_36     \\\\\n",
       "\t 3    & 1    & 0.24871004 &  525 & 3\\_1      \\\\\n",
       "\t 2    & 0    & 0.23917201 &  377 & 2\\_0      \\\\\n",
       "\t 3    & 2    & 0.19674363 &  348 & 3\\_2      \\\\\n",
       "\t 0    & 0    & 0.18226037 &  415 & 0\\_0      \\\\\n",
       "\t 2    & 1    & 0.18083582 &  277 & 2\\_1      \\\\\n",
       "\t 2    & 2    & 0.16133418 &  248 & 2\\_2      \\\\\n",
       "\t 0    & 52   & 0.15614398 &  276 & 0\\_52     \\\\\n",
       "\t 2    & 3    & 0.15559964 &  233 & 2\\_3      \\\\\n",
       "\t 0    & 2    & 0.13733539 &  281 & 0\\_2      \\\\\n",
       "\t 1    & 0    & 0.13459662 &  254 & 1\\_0      \\\\\n",
       "\t 0    & 1    & 0.13211356 &  304 & 0\\_1      \\\\\n",
       "\t 3    & 3    & 0.12986129 &  227 & 3\\_3      \\\\\n",
       "\t 0    & 4    & 0.12390597 &  247 & 0\\_4      \\\\\n",
       "\t 0    & 3    & 0.12315432 &  256 & 0\\_3      \\\\\n",
       "\t 2    & 4    & 0.11599395 &  174 & 2\\_4      \\\\\n",
       "\t 1    & 1    & 0.10784947 &  200 & 1\\_1      \\\\\n",
       "\t 2    & 6    & 0.10499416 &  153 & 2\\_6      \\\\\n",
       "\t 2    & 5    & 0.10286178 &  160 & 2\\_5      \\\\\n",
       "\t 0    & 6    & 0.10231277 &  195 & 0\\_6      \\\\\n",
       "\t 1    & 2    & 0.10021547 &  196 & 1\\_2      \\\\\n",
       "\t 2    & 7    & 0.09886944 &  150 & 2\\_7      \\\\\n",
       "\t 3    & 6    & 0.09404094 &  162 & 3\\_6      \\\\\n",
       "\t 3    & 5    & 0.09308337 &  175 & 3\\_5      \\\\\n",
       "\t 3    & 4    & 0.09254264 &  189 & 3\\_4      \\\\\n",
       "\t 1    & 3    & 0.08930252 &  180 & 1\\_3      \\\\\n",
       "\t 0    & 7    & 0.08736529 &  182 & 0\\_7      \\\\\n",
       "\t 0    & 5    & 0.08688865 &  199 & 0\\_5      \\\\\n",
       "\t ⋮ & ⋮ & ⋮ & ⋮ & ⋮\\\\\n",
       "\t 3 & 28 & 0.003253488 & 7 & 3\\_28\\\\\n",
       "\t 0 & 37 & 0.003187901 & 7 & 0\\_37\\\\\n",
       "\t 3 & 38 & 0.003091017 & 5 & 3\\_38\\\\\n",
       "\t 0 & 40 & 0.003035635 & 6 & 0\\_40\\\\\n",
       "\t 2 & 33 & 0.002790593 & 4 & 2\\_33\\\\\n",
       "\t 0 & 42 & 0.002647587 & 5 & 0\\_42\\\\\n",
       "\t 0 & 43 & 0.002647587 & 5 & 0\\_43\\\\\n",
       "\t 3 & 31 & 0.002338572 & 4 & 3\\_31\\\\\n",
       "\t 0 & 44 & 0.002259539 & 4 & 0\\_44\\\\\n",
       "\t 2 & 35 & 0.002188184 & 3 & 2\\_35\\\\\n",
       "\t 3 & 30 & 0.002084202 & 5 & 3\\_30\\\\\n",
       "\t 2 & 36 & 0.002061199 & 3 & 2\\_36\\\\\n",
       "\t 2 & 37 & 0.002061199 & 3 & 2\\_37\\\\\n",
       "\t 0 & 47 & 0.002023757 & 4 & 0\\_47\\\\\n",
       "\t 1 & 35 & 0.002018924 & 3 & 1\\_35\\\\\n",
       "\t 0 & 45 & 0.001787975 & 4 & 0\\_45\\\\\n",
       "\t 0 & 46 & 0.001787975 & 4 & 0\\_46\\\\\n",
       "\t 0 & 48 & 0.001787975 & 4 & 0\\_48\\\\\n",
       "\t 1 & 36 & 0.001636661 & 2 & 1\\_36\\\\\n",
       "\t 0 & 49 & 0.001635709 & 3 & 0\\_49\\\\\n",
       "\t 0 & 51 & 0.001635709 & 3 & 0\\_51\\\\\n",
       "\t 3 & 34 & 0.001586126 & 3 & 3\\_34\\\\\n",
       "\t 2 & 38 & 0.001458789 & 2 & 2\\_38\\\\\n",
       "\t 3 & 35 & 0.001250521 & 3 & 3\\_35\\\\\n",
       "\t 0 & 50 & 0.001011878 & 2 & 0\\_50\\\\\n",
       "\t 0 & 54 & 0.001011878 & 2 & 0\\_54\\\\\n",
       "\t 0 & 55 & 0.001011878 & 2 & 0\\_55\\\\\n",
       "\t 0 & 56 & 0.001011878 & 2 & 0\\_56\\\\\n",
       "\t 0 & 57 & 0.001011878 & 2 & 0\\_57\\\\\n",
       "\t 0 & 58 & 0.001011878 & 2 & 0\\_58\\\\\n",
       "\\end{tabular}\n"
      ],
      "text/markdown": [
       "\n",
       "A grouped_df: 176 × 5\n",
       "\n",
       "| donor &lt;fct&gt; | lineage &lt;fct&gt; | norm.total &lt;dbl&gt; | total &lt;int&gt; | name &lt;fct&gt; |\n",
       "|---|---|---|---|---|\n",
       "| None | None | 1.00000000 | 3715 | None_None |\n",
       "| 3    | 0    | 0.30214433 |  592 | 3_0       |\n",
       "| 3    | 36   | 0.28801598 |  447 | 3_36      |\n",
       "| 3    | 1    | 0.24871004 |  525 | 3_1       |\n",
       "| 2    | 0    | 0.23917201 |  377 | 2_0       |\n",
       "| 3    | 2    | 0.19674363 |  348 | 3_2       |\n",
       "| 0    | 0    | 0.18226037 |  415 | 0_0       |\n",
       "| 2    | 1    | 0.18083582 |  277 | 2_1       |\n",
       "| 2    | 2    | 0.16133418 |  248 | 2_2       |\n",
       "| 0    | 52   | 0.15614398 |  276 | 0_52      |\n",
       "| 2    | 3    | 0.15559964 |  233 | 2_3       |\n",
       "| 0    | 2    | 0.13733539 |  281 | 0_2       |\n",
       "| 1    | 0    | 0.13459662 |  254 | 1_0       |\n",
       "| 0    | 1    | 0.13211356 |  304 | 0_1       |\n",
       "| 3    | 3    | 0.12986129 |  227 | 3_3       |\n",
       "| 0    | 4    | 0.12390597 |  247 | 0_4       |\n",
       "| 0    | 3    | 0.12315432 |  256 | 0_3       |\n",
       "| 2    | 4    | 0.11599395 |  174 | 2_4       |\n",
       "| 1    | 1    | 0.10784947 |  200 | 1_1       |\n",
       "| 2    | 6    | 0.10499416 |  153 | 2_6       |\n",
       "| 2    | 5    | 0.10286178 |  160 | 2_5       |\n",
       "| 0    | 6    | 0.10231277 |  195 | 0_6       |\n",
       "| 1    | 2    | 0.10021547 |  196 | 1_2       |\n",
       "| 2    | 7    | 0.09886944 |  150 | 2_7       |\n",
       "| 3    | 6    | 0.09404094 |  162 | 3_6       |\n",
       "| 3    | 5    | 0.09308337 |  175 | 3_5       |\n",
       "| 3    | 4    | 0.09254264 |  189 | 3_4       |\n",
       "| 1    | 3    | 0.08930252 |  180 | 1_3       |\n",
       "| 0    | 7    | 0.08736529 |  182 | 0_7       |\n",
       "| 0    | 5    | 0.08688865 |  199 | 0_5       |\n",
       "| ⋮ | ⋮ | ⋮ | ⋮ | ⋮ |\n",
       "| 3 | 28 | 0.003253488 | 7 | 3_28 |\n",
       "| 0 | 37 | 0.003187901 | 7 | 0_37 |\n",
       "| 3 | 38 | 0.003091017 | 5 | 3_38 |\n",
       "| 0 | 40 | 0.003035635 | 6 | 0_40 |\n",
       "| 2 | 33 | 0.002790593 | 4 | 2_33 |\n",
       "| 0 | 42 | 0.002647587 | 5 | 0_42 |\n",
       "| 0 | 43 | 0.002647587 | 5 | 0_43 |\n",
       "| 3 | 31 | 0.002338572 | 4 | 3_31 |\n",
       "| 0 | 44 | 0.002259539 | 4 | 0_44 |\n",
       "| 2 | 35 | 0.002188184 | 3 | 2_35 |\n",
       "| 3 | 30 | 0.002084202 | 5 | 3_30 |\n",
       "| 2 | 36 | 0.002061199 | 3 | 2_36 |\n",
       "| 2 | 37 | 0.002061199 | 3 | 2_37 |\n",
       "| 0 | 47 | 0.002023757 | 4 | 0_47 |\n",
       "| 1 | 35 | 0.002018924 | 3 | 1_35 |\n",
       "| 0 | 45 | 0.001787975 | 4 | 0_45 |\n",
       "| 0 | 46 | 0.001787975 | 4 | 0_46 |\n",
       "| 0 | 48 | 0.001787975 | 4 | 0_48 |\n",
       "| 1 | 36 | 0.001636661 | 2 | 1_36 |\n",
       "| 0 | 49 | 0.001635709 | 3 | 0_49 |\n",
       "| 0 | 51 | 0.001635709 | 3 | 0_51 |\n",
       "| 3 | 34 | 0.001586126 | 3 | 3_34 |\n",
       "| 2 | 38 | 0.001458789 | 2 | 2_38 |\n",
       "| 3 | 35 | 0.001250521 | 3 | 3_35 |\n",
       "| 0 | 50 | 0.001011878 | 2 | 0_50 |\n",
       "| 0 | 54 | 0.001011878 | 2 | 0_54 |\n",
       "| 0 | 55 | 0.001011878 | 2 | 0_55 |\n",
       "| 0 | 56 | 0.001011878 | 2 | 0_56 |\n",
       "| 0 | 57 | 0.001011878 | 2 | 0_57 |\n",
       "| 0 | 58 | 0.001011878 | 2 | 0_58 |\n",
       "\n"
      ],
      "text/plain": [
       "    donor lineage norm.total  total name     \n",
       "1   None  None    1.00000000  3715  None_None\n",
       "2   3     0       0.30214433   592  3_0      \n",
       "3   3     36      0.28801598   447  3_36     \n",
       "4   3     1       0.24871004   525  3_1      \n",
       "5   2     0       0.23917201   377  2_0      \n",
       "6   3     2       0.19674363   348  3_2      \n",
       "7   0     0       0.18226037   415  0_0      \n",
       "8   2     1       0.18083582   277  2_1      \n",
       "9   2     2       0.16133418   248  2_2      \n",
       "10  0     52      0.15614398   276  0_52     \n",
       "11  2     3       0.15559964   233  2_3      \n",
       "12  0     2       0.13733539   281  0_2      \n",
       "13  1     0       0.13459662   254  1_0      \n",
       "14  0     1       0.13211356   304  0_1      \n",
       "15  3     3       0.12986129   227  3_3      \n",
       "16  0     4       0.12390597   247  0_4      \n",
       "17  0     3       0.12315432   256  0_3      \n",
       "18  2     4       0.11599395   174  2_4      \n",
       "19  1     1       0.10784947   200  1_1      \n",
       "20  2     6       0.10499416   153  2_6      \n",
       "21  2     5       0.10286178   160  2_5      \n",
       "22  0     6       0.10231277   195  0_6      \n",
       "23  1     2       0.10021547   196  1_2      \n",
       "24  2     7       0.09886944   150  2_7      \n",
       "25  3     6       0.09404094   162  3_6      \n",
       "26  3     5       0.09308337   175  3_5      \n",
       "27  3     4       0.09254264   189  3_4      \n",
       "28  1     3       0.08930252   180  1_3      \n",
       "29  0     7       0.08736529   182  0_7      \n",
       "30  0     5       0.08688865   199  0_5      \n",
       "⋮   ⋮     ⋮       ⋮           ⋮     ⋮        \n",
       "147 3     28      0.003253488 7     3_28     \n",
       "148 0     37      0.003187901 7     0_37     \n",
       "149 3     38      0.003091017 5     3_38     \n",
       "150 0     40      0.003035635 6     0_40     \n",
       "151 2     33      0.002790593 4     2_33     \n",
       "152 0     42      0.002647587 5     0_42     \n",
       "153 0     43      0.002647587 5     0_43     \n",
       "154 3     31      0.002338572 4     3_31     \n",
       "155 0     44      0.002259539 4     0_44     \n",
       "156 2     35      0.002188184 3     2_35     \n",
       "157 3     30      0.002084202 5     3_30     \n",
       "158 2     36      0.002061199 3     2_36     \n",
       "159 2     37      0.002061199 3     2_37     \n",
       "160 0     47      0.002023757 4     0_47     \n",
       "161 1     35      0.002018924 3     1_35     \n",
       "162 0     45      0.001787975 4     0_45     \n",
       "163 0     46      0.001787975 4     0_46     \n",
       "164 0     48      0.001787975 4     0_48     \n",
       "165 1     36      0.001636661 2     1_36     \n",
       "166 0     49      0.001635709 3     0_49     \n",
       "167 0     51      0.001635709 3     0_51     \n",
       "168 3     34      0.001586126 3     3_34     \n",
       "169 2     38      0.001458789 2     2_38     \n",
       "170 3     35      0.001250521 3     3_35     \n",
       "171 0     50      0.001011878 2     0_50     \n",
       "172 0     54      0.001011878 2     0_54     \n",
       "173 0     55      0.001011878 2     0_55     \n",
       "174 0     56      0.001011878 2     0_56     \n",
       "175 0     57      0.001011878 2     0_57     \n",
       "176 0     58      0.001011878 2     0_58     "
      ]
     },
     "metadata": {},
     "output_type": "display_data"
    }
   ],
   "source": [
    "clone.sizes <- counts.norm.sizes %>% \n",
    "               group_by(donor,lineage) %>% \n",
    "               summarize(norm.total=sum(norm), total=sum(size)) %>% \n",
    "               arrange(desc(norm.total)) %>% \n",
    "               mutate(name=factor(paste0(donor,\"_\", lineage)))\n",
    "\n",
    "\n",
    "clone.sizes"
   ]
  },
  {
   "cell_type": "code",
   "execution_count": 9,
   "id": "89291d20",
   "metadata": {
    "scrolled": true
   },
   "outputs": [],
   "source": [
    "## Add normalized counts and get the cumulative sum starting from the largest normalized clone.\n",
    "clone.sizes <- clone.sizes %>% group_by(donor) %>% arrange(donor, desc(norm.total)) %>% \n",
    "                               mutate(cdf.norm=cumsum(norm.total)/2, cdf =cumsum(total),\n",
    "                                      index=1:n()) %>% \n",
    "                               ungroup %>% arrange(donor, desc(norm.total)) \n",
    "#head(clone.sizes,100)"
   ]
  },
  {
   "cell_type": "code",
   "execution_count": 10,
   "id": "4069b309",
   "metadata": {
    "scrolled": false
   },
   "outputs": [
    {
     "data": {
      "image/png": "[encoded data removed]",
      "text/plain": [
       "plot without title"
      ]
     },
     "metadata": {
      "image/png": {
       "height": 420,
       "width": 420
      }
     },
     "output_type": "display_data"
    }
   ],
   "source": [
    "p <- ggplot(data = clone.sizes, aes(index, cdf.norm)) +\n",
    "  geom_point(color = \"steelblue\", size = 1) +\n",
    "  facet_wrap(~ donor) \n",
    "\n",
    "p <- p + geom_hline(yintercept=0.5, color='green') \n",
    "p"
   ]
  },
  {
   "cell_type": "markdown",
   "id": "953eaed6",
   "metadata": {},
   "source": [
    "## Get large clones (first 50% of clones)"
   ]
  },
  {
   "cell_type": "code",
   "execution_count": 11,
   "id": "245b1d32",
   "metadata": {
    "scrolled": true
   },
   "outputs": [
    {
     "data": {
      "text/html": [
       "<table class=\"dataframe\">\n",
       "<caption>A tibble: 27 × 8</caption>\n",
       "<thead>\n",
       "\t<tr><th scope=col>donor</th><th scope=col>lineage</th><th scope=col>norm.total</th><th scope=col>total</th><th scope=col>name</th><th scope=col>cdf.norm</th><th scope=col>cdf</th><th scope=col>index</th></tr>\n",
       "\t<tr><th scope=col>&lt;fct&gt;</th><th scope=col>&lt;fct&gt;</th><th scope=col>&lt;dbl&gt;</th><th scope=col>&lt;int&gt;</th><th scope=col>&lt;fct&gt;</th><th scope=col>&lt;dbl&gt;</th><th scope=col>&lt;int&gt;</th><th scope=col>&lt;int&gt;</th></tr>\n",
       "</thead>\n",
       "<tbody>\n",
       "\t<tr><td>0</td><td>0 </td><td>0.18226037</td><td>415</td><td>0_0 </td><td>0.09113018</td><td> 415</td><td> 1</td></tr>\n",
       "\t<tr><td>0</td><td>52</td><td>0.15614398</td><td>276</td><td>0_52</td><td>0.16920217</td><td> 691</td><td> 2</td></tr>\n",
       "\t<tr><td>0</td><td>2 </td><td>0.13733539</td><td>281</td><td>0_2 </td><td>0.23786987</td><td> 972</td><td> 3</td></tr>\n",
       "\t<tr><td>0</td><td>1 </td><td>0.13211356</td><td>304</td><td>0_1 </td><td>0.30392665</td><td>1276</td><td> 4</td></tr>\n",
       "\t<tr><td>0</td><td>4 </td><td>0.12390597</td><td>247</td><td>0_4 </td><td>0.36587963</td><td>1523</td><td> 5</td></tr>\n",
       "\t<tr><td>0</td><td>3 </td><td>0.12315432</td><td>256</td><td>0_3 </td><td>0.42745679</td><td>1779</td><td> 6</td></tr>\n",
       "\t<tr><td>0</td><td>6 </td><td>0.10231277</td><td>195</td><td>0_6 </td><td>0.47861317</td><td>1974</td><td> 7</td></tr>\n",
       "\t<tr><td>1</td><td>0 </td><td>0.13459662</td><td>254</td><td>1_0 </td><td>0.06729831</td><td> 254</td><td> 1</td></tr>\n",
       "\t<tr><td>1</td><td>1 </td><td>0.10784947</td><td>200</td><td>1_1 </td><td>0.12122304</td><td> 454</td><td> 2</td></tr>\n",
       "\t<tr><td>1</td><td>2 </td><td>0.10021547</td><td>196</td><td>1_2 </td><td>0.17133078</td><td> 650</td><td> 3</td></tr>\n",
       "\t<tr><td>1</td><td>3 </td><td>0.08930252</td><td>180</td><td>1_3 </td><td>0.21598203</td><td> 830</td><td> 4</td></tr>\n",
       "\t<tr><td>1</td><td>5 </td><td>0.08537228</td><td>172</td><td>1_5 </td><td>0.25866817</td><td>1002</td><td> 5</td></tr>\n",
       "\t<tr><td>1</td><td>4 </td><td>0.08526467</td><td>174</td><td>1_4 </td><td>0.30130051</td><td>1176</td><td> 6</td></tr>\n",
       "\t<tr><td>1</td><td>8 </td><td>0.08203389</td><td>153</td><td>1_8 </td><td>0.34231745</td><td>1329</td><td> 7</td></tr>\n",
       "\t<tr><td>1</td><td>6 </td><td>0.07730221</td><td>168</td><td>1_6 </td><td>0.38096856</td><td>1497</td><td> 8</td></tr>\n",
       "\t<tr><td>1</td><td>10</td><td>0.07460385</td><td>129</td><td>1_10</td><td>0.41827048</td><td>1626</td><td> 9</td></tr>\n",
       "\t<tr><td>1</td><td>19</td><td>0.07158266</td><td> 96</td><td>1_19</td><td>0.45406181</td><td>1722</td><td>10</td></tr>\n",
       "\t<tr><td>1</td><td>13</td><td>0.06931160</td><td>122</td><td>1_13</td><td>0.48871761</td><td>1844</td><td>11</td></tr>\n",
       "\t<tr><td>2</td><td>0 </td><td>0.23917201</td><td>377</td><td>2_0 </td><td>0.11958600</td><td> 377</td><td> 1</td></tr>\n",
       "\t<tr><td>2</td><td>1 </td><td>0.18083582</td><td>277</td><td>2_1 </td><td>0.21000391</td><td> 654</td><td> 2</td></tr>\n",
       "\t<tr><td>2</td><td>2 </td><td>0.16133418</td><td>248</td><td>2_2 </td><td>0.29067100</td><td> 902</td><td> 3</td></tr>\n",
       "\t<tr><td>2</td><td>3 </td><td>0.15559964</td><td>233</td><td>2_3 </td><td>0.36847082</td><td>1135</td><td> 4</td></tr>\n",
       "\t<tr><td>2</td><td>4 </td><td>0.11599395</td><td>174</td><td>2_4 </td><td>0.42646780</td><td>1309</td><td> 5</td></tr>\n",
       "\t<tr><td>2</td><td>6 </td><td>0.10499416</td><td>153</td><td>2_6 </td><td>0.47896487</td><td>1462</td><td> 6</td></tr>\n",
       "\t<tr><td>3</td><td>0 </td><td>0.30214433</td><td>592</td><td>3_0 </td><td>0.15107216</td><td> 592</td><td> 1</td></tr>\n",
       "\t<tr><td>3</td><td>36</td><td>0.28801598</td><td>447</td><td>3_36</td><td>0.29508015</td><td>1039</td><td> 2</td></tr>\n",
       "\t<tr><td>3</td><td>1 </td><td>0.24871004</td><td>525</td><td>3_1 </td><td>0.41943517</td><td>1564</td><td> 3</td></tr>\n",
       "</tbody>\n",
       "</table>\n"
      ],
      "text/latex": [
       "A tibble: 27 × 8\n",
       "\\begin{tabular}{llllllll}\n",
       " donor & lineage & norm.total & total & name & cdf.norm & cdf & index\\\\\n",
       " <fct> & <fct> & <dbl> & <int> & <fct> & <dbl> & <int> & <int>\\\\\n",
       "\\hline\n",
       "\t 0 & 0  & 0.18226037 & 415 & 0\\_0  & 0.09113018 &  415 &  1\\\\\n",
       "\t 0 & 52 & 0.15614398 & 276 & 0\\_52 & 0.16920217 &  691 &  2\\\\\n",
       "\t 0 & 2  & 0.13733539 & 281 & 0\\_2  & 0.23786987 &  972 &  3\\\\\n",
       "\t 0 & 1  & 0.13211356 & 304 & 0\\_1  & 0.30392665 & 1276 &  4\\\\\n",
       "\t 0 & 4  & 0.12390597 & 247 & 0\\_4  & 0.36587963 & 1523 &  5\\\\\n",
       "\t 0 & 3  & 0.12315432 & 256 & 0\\_3  & 0.42745679 & 1779 &  6\\\\\n",
       "\t 0 & 6  & 0.10231277 & 195 & 0\\_6  & 0.47861317 & 1974 &  7\\\\\n",
       "\t 1 & 0  & 0.13459662 & 254 & 1\\_0  & 0.06729831 &  254 &  1\\\\\n",
       "\t 1 & 1  & 0.10784947 & 200 & 1\\_1  & 0.12122304 &  454 &  2\\\\\n",
       "\t 1 & 2  & 0.10021547 & 196 & 1\\_2  & 0.17133078 &  650 &  3\\\\\n",
       "\t 1 & 3  & 0.08930252 & 180 & 1\\_3  & 0.21598203 &  830 &  4\\\\\n",
       "\t 1 & 5  & 0.08537228 & 172 & 1\\_5  & 0.25866817 & 1002 &  5\\\\\n",
       "\t 1 & 4  & 0.08526467 & 174 & 1\\_4  & 0.30130051 & 1176 &  6\\\\\n",
       "\t 1 & 8  & 0.08203389 & 153 & 1\\_8  & 0.34231745 & 1329 &  7\\\\\n",
       "\t 1 & 6  & 0.07730221 & 168 & 1\\_6  & 0.38096856 & 1497 &  8\\\\\n",
       "\t 1 & 10 & 0.07460385 & 129 & 1\\_10 & 0.41827048 & 1626 &  9\\\\\n",
       "\t 1 & 19 & 0.07158266 &  96 & 1\\_19 & 0.45406181 & 1722 & 10\\\\\n",
       "\t 1 & 13 & 0.06931160 & 122 & 1\\_13 & 0.48871761 & 1844 & 11\\\\\n",
       "\t 2 & 0  & 0.23917201 & 377 & 2\\_0  & 0.11958600 &  377 &  1\\\\\n",
       "\t 2 & 1  & 0.18083582 & 277 & 2\\_1  & 0.21000391 &  654 &  2\\\\\n",
       "\t 2 & 2  & 0.16133418 & 248 & 2\\_2  & 0.29067100 &  902 &  3\\\\\n",
       "\t 2 & 3  & 0.15559964 & 233 & 2\\_3  & 0.36847082 & 1135 &  4\\\\\n",
       "\t 2 & 4  & 0.11599395 & 174 & 2\\_4  & 0.42646780 & 1309 &  5\\\\\n",
       "\t 2 & 6  & 0.10499416 & 153 & 2\\_6  & 0.47896487 & 1462 &  6\\\\\n",
       "\t 3 & 0  & 0.30214433 & 592 & 3\\_0  & 0.15107216 &  592 &  1\\\\\n",
       "\t 3 & 36 & 0.28801598 & 447 & 3\\_36 & 0.29508015 & 1039 &  2\\\\\n",
       "\t 3 & 1  & 0.24871004 & 525 & 3\\_1  & 0.41943517 & 1564 &  3\\\\\n",
       "\\end{tabular}\n"
      ],
      "text/markdown": [
       "\n",
       "A tibble: 27 × 8\n",
       "\n",
       "| donor &lt;fct&gt; | lineage &lt;fct&gt; | norm.total &lt;dbl&gt; | total &lt;int&gt; | name &lt;fct&gt; | cdf.norm &lt;dbl&gt; | cdf &lt;int&gt; | index &lt;int&gt; |\n",
       "|---|---|---|---|---|---|---|---|\n",
       "| 0 | 0  | 0.18226037 | 415 | 0_0  | 0.09113018 |  415 |  1 |\n",
       "| 0 | 52 | 0.15614398 | 276 | 0_52 | 0.16920217 |  691 |  2 |\n",
       "| 0 | 2  | 0.13733539 | 281 | 0_2  | 0.23786987 |  972 |  3 |\n",
       "| 0 | 1  | 0.13211356 | 304 | 0_1  | 0.30392665 | 1276 |  4 |\n",
       "| 0 | 4  | 0.12390597 | 247 | 0_4  | 0.36587963 | 1523 |  5 |\n",
       "| 0 | 3  | 0.12315432 | 256 | 0_3  | 0.42745679 | 1779 |  6 |\n",
       "| 0 | 6  | 0.10231277 | 195 | 0_6  | 0.47861317 | 1974 |  7 |\n",
       "| 1 | 0  | 0.13459662 | 254 | 1_0  | 0.06729831 |  254 |  1 |\n",
       "| 1 | 1  | 0.10784947 | 200 | 1_1  | 0.12122304 |  454 |  2 |\n",
       "| 1 | 2  | 0.10021547 | 196 | 1_2  | 0.17133078 |  650 |  3 |\n",
       "| 1 | 3  | 0.08930252 | 180 | 1_3  | 0.21598203 |  830 |  4 |\n",
       "| 1 | 5  | 0.08537228 | 172 | 1_5  | 0.25866817 | 1002 |  5 |\n",
       "| 1 | 4  | 0.08526467 | 174 | 1_4  | 0.30130051 | 1176 |  6 |\n",
       "| 1 | 8  | 0.08203389 | 153 | 1_8  | 0.34231745 | 1329 |  7 |\n",
       "| 1 | 6  | 0.07730221 | 168 | 1_6  | 0.38096856 | 1497 |  8 |\n",
       "| 1 | 10 | 0.07460385 | 129 | 1_10 | 0.41827048 | 1626 |  9 |\n",
       "| 1 | 19 | 0.07158266 |  96 | 1_19 | 0.45406181 | 1722 | 10 |\n",
       "| 1 | 13 | 0.06931160 | 122 | 1_13 | 0.48871761 | 1844 | 11 |\n",
       "| 2 | 0  | 0.23917201 | 377 | 2_0  | 0.11958600 |  377 |  1 |\n",
       "| 2 | 1  | 0.18083582 | 277 | 2_1  | 0.21000391 |  654 |  2 |\n",
       "| 2 | 2  | 0.16133418 | 248 | 2_2  | 0.29067100 |  902 |  3 |\n",
       "| 2 | 3  | 0.15559964 | 233 | 2_3  | 0.36847082 | 1135 |  4 |\n",
       "| 2 | 4  | 0.11599395 | 174 | 2_4  | 0.42646780 | 1309 |  5 |\n",
       "| 2 | 6  | 0.10499416 | 153 | 2_6  | 0.47896487 | 1462 |  6 |\n",
       "| 3 | 0  | 0.30214433 | 592 | 3_0  | 0.15107216 |  592 |  1 |\n",
       "| 3 | 36 | 0.28801598 | 447 | 3_36 | 0.29508015 | 1039 |  2 |\n",
       "| 3 | 1  | 0.24871004 | 525 | 3_1  | 0.41943517 | 1564 |  3 |\n",
       "\n"
      ],
      "text/plain": [
       "   donor lineage norm.total total name cdf.norm   cdf  index\n",
       "1  0     0       0.18226037 415   0_0  0.09113018  415  1   \n",
       "2  0     52      0.15614398 276   0_52 0.16920217  691  2   \n",
       "3  0     2       0.13733539 281   0_2  0.23786987  972  3   \n",
       "4  0     1       0.13211356 304   0_1  0.30392665 1276  4   \n",
       "5  0     4       0.12390597 247   0_4  0.36587963 1523  5   \n",
       "6  0     3       0.12315432 256   0_3  0.42745679 1779  6   \n",
       "7  0     6       0.10231277 195   0_6  0.47861317 1974  7   \n",
       "8  1     0       0.13459662 254   1_0  0.06729831  254  1   \n",
       "9  1     1       0.10784947 200   1_1  0.12122304  454  2   \n",
       "10 1     2       0.10021547 196   1_2  0.17133078  650  3   \n",
       "11 1     3       0.08930252 180   1_3  0.21598203  830  4   \n",
       "12 1     5       0.08537228 172   1_5  0.25866817 1002  5   \n",
       "13 1     4       0.08526467 174   1_4  0.30130051 1176  6   \n",
       "14 1     8       0.08203389 153   1_8  0.34231745 1329  7   \n",
       "15 1     6       0.07730221 168   1_6  0.38096856 1497  8   \n",
       "16 1     10      0.07460385 129   1_10 0.41827048 1626  9   \n",
       "17 1     19      0.07158266  96   1_19 0.45406181 1722 10   \n",
       "18 1     13      0.06931160 122   1_13 0.48871761 1844 11   \n",
       "19 2     0       0.23917201 377   2_0  0.11958600  377  1   \n",
       "20 2     1       0.18083582 277   2_1  0.21000391  654  2   \n",
       "21 2     2       0.16133418 248   2_2  0.29067100  902  3   \n",
       "22 2     3       0.15559964 233   2_3  0.36847082 1135  4   \n",
       "23 2     4       0.11599395 174   2_4  0.42646780 1309  5   \n",
       "24 2     6       0.10499416 153   2_6  0.47896487 1462  6   \n",
       "25 3     0       0.30214433 592   3_0  0.15107216  592  1   \n",
       "26 3     36      0.28801598 447   3_36 0.29508015 1039  2   \n",
       "27 3     1       0.24871004 525   3_1  0.41943517 1564  3   "
      ]
     },
     "metadata": {},
     "output_type": "display_data"
    }
   ],
   "source": [
    "large.clones <- clone.sizes %>% filter(cdf.norm<0.5)\n",
    "large.clones\n",
    "#large.clones$name = factor(paste0(large.clones$donor,\"_\", large.clones$lineage))\n"
   ]
  },
  {
   "cell_type": "code",
   "execution_count": 12,
   "id": "952a3b46",
   "metadata": {},
   "outputs": [
    {
     "data": {
      "image/png": "[encoded data removed]",
      "text/plain": [
       "plot without title"
      ]
     },
     "metadata": {
      "image/png": {
       "height": 420,
       "width": 420
      }
     },
     "output_type": "display_data"
    }
   ],
   "source": [
    "ggplot(data=large.clones, aes(x=index,y=total, fill = factor(donor))) + \n",
    "        geom_col(position='dodge')"
   ]
  },
  {
   "cell_type": "markdown",
   "id": "87d41e53",
   "metadata": {},
   "source": [
    "## Gene DE on top clones"
   ]
  },
  {
   "cell_type": "code",
   "execution_count": 18,
   "id": "947dc5e9",
   "metadata": {},
   "outputs": [],
   "source": [
    "run_de <- function(se.filt, clones.filt.ids, curr.outdir){\n",
    "    pairs = combn(clones.filt.ids,2)\n",
    "    for (i in 1:dim(combn(clones.filt.ids,2))[2]){\n",
    "        print(pairs[,i])\n",
    "        try({\n",
    "            print(paste(\"clones\", i))\n",
    "            a = pairs[1,i]\n",
    "            b = pairs[2,i]\n",
    "            da.peaks <- FindMarkers(\n",
    "                          object = se.filt,\n",
    "                          ident.1 = a,\n",
    "                          ident.2 = b, #\"CD4 Naive\",\n",
    "                          min.pct = 0.01,\n",
    "                          logfc.threshold = 0.1,\n",
    "                          test.use = 'LR', latent.vars = 'peak_region_fragments'\n",
    "                        )\n",
    "            print(file.path(curr.outdir, paste0(\"clones_\",a,\"__\", b,\".DE.GeneActivity.csv\")))\n",
    "            print(head(da.peaks))\n",
    "            write.csv(da.peaks, file=file.path(curr.outdir, paste0(\"clones_\",a,\"__\", b,\".DE.GeneActivity.csv\")),\n",
    "                     quote=FALSE)\n",
    "            print(paste('saved clones', a,b))\n",
    "            plot.DE.RNA.pair(se.filt, da.peaks, a, b, curr.outdir)\n",
    "            print(paste('plotted clones', a, b))\n",
    "        })\n",
    "    }\n",
    "\n",
    "\n",
    "}"
   ]
  },
  {
   "cell_type": "code",
   "execution_count": 16,
   "id": "6e780074",
   "metadata": {},
   "outputs": [],
   "source": [
    "source(\"/data2/mito_lineage/R_scripts/seurat_utils.R\")"
   ]
  },
  {
   "cell_type": "code",
   "execution_count": 19,
   "id": "bb6e0f8c",
   "metadata": {
    "scrolled": true
   },
   "outputs": [
    {
     "name": "stdout",
     "output_type": "stream",
     "text": [
      "[1] \"donor\"\n",
      "[1] 0\n"
     ]
    },
    {
     "name": "stderr",
     "output_type": "stream",
     "text": [
      "Warning message in dir.create(curr.outdir):\n",
      "“'/data2/mito_lineage/output/annotation_clones/data/cd34norm/MTblacklist/DE_large/donor0' already exists”\n"
     ]
    },
    {
     "name": "stdout",
     "output_type": "stream",
     "text": [
      "[1] \"clones\"\n",
      "[1] 0  52 2  1  4  3  6 \n",
      "61 Levels: 0 1 2 3 4 5 6 7 8 9 10 11 12 13 14 15 16 17 18 19 20 21 22 23 ... None\n",
      "[1] 7\n",
      "[1] \"se.filt\"\n",
      "[1] 1974   32\n"
     ]
    },
    {
     "name": "stderr",
     "output_type": "stream",
     "text": [
      "Saving 6.67 x 6.67 in image\n",
      "\n"
     ]
    },
    {
     "name": "stdout",
     "output_type": "stream",
     "text": [
      "[1] 0  52\n",
      "61 Levels: 0 1 2 3 4 5 6 7 8 9 10 11 12 13 14 15 16 17 18 19 20 21 22 23 ... None\n",
      "[1] \"clones 1\"\n",
      "[1] \"/data2/mito_lineage/output/annotation_clones/data/cd34norm/MTblacklist/DE_large/donor0/clones_0__52.DE.GeneActivity.csv\"\n",
      "                 p_val avg_log2FC pct.1 pct.2  p_val_adj\n",
      "PXN       1.576442e-06  0.2292575 0.301 0.112 0.03154461\n",
      "C20orf194 1.306701e-05  0.2539161 0.371 0.178 0.26147093\n",
      "VMP1      1.739332e-05  0.2784777 0.518 0.304 0.34804042\n",
      "INSR      2.965475e-05  0.2364177 0.427 0.221 0.59339148\n",
      "DEPDC5    3.633306e-05  0.1848710 0.272 0.109 0.72702455\n",
      "RXRA      4.140224e-05  0.2299457 0.414 0.210 0.82845877\n",
      "[1] \"saved clones 0 52\"\n"
     ]
    },
    {
     "name": "stderr",
     "output_type": "stream",
     "text": [
      "Saving 6.67 x 6.67 in image\n",
      "\n"
     ]
    },
    {
     "name": "stdout",
     "output_type": "stream",
     "text": [
      "[1] \"plotted clones 0 52\"\n",
      "[1] 0 2\n",
      "61 Levels: 0 1 2 3 4 5 6 7 8 9 10 11 12 13 14 15 16 17 18 19 20 21 22 23 ... None\n",
      "[1] \"clones 2\"\n",
      "[1] \"/data2/mito_lineage/output/annotation_clones/data/cd34norm/MTblacklist/DE_large/donor0/clones_0__2.DE.GeneActivity.csv\"\n",
      "              p_val avg_log2FC pct.1 pct.2 p_val_adj\n",
      "ZNF418 6.438424e-05  0.1300561 0.128 0.064         1\n",
      "INHBE  1.201099e-04  0.1043895 0.157 0.085         1\n",
      "PDE11A 1.405509e-04 -0.2191536 0.602 0.722         1\n",
      "IP6K3  2.153954e-04  0.1209377 0.181 0.114         1\n",
      "CEA    2.320520e-04  0.1770006 0.410 0.338         1\n",
      "OPA1   3.120921e-04 -0.1289301 0.113 0.224         1\n",
      "[1] \"saved clones 0 2\"\n"
     ]
    },
    {
     "name": "stderr",
     "output_type": "stream",
     "text": [
      "Saving 6.67 x 6.67 in image\n",
      "\n"
     ]
    },
    {
     "name": "stdout",
     "output_type": "stream",
     "text": [
      "[1] \"plotted clones 0 2\"\n",
      "[1] 0 1\n",
      "61 Levels: 0 1 2 3 4 5 6 7 8 9 10 11 12 13 14 15 16 17 18 19 20 21 22 23 ... None\n",
      "[1] \"clones 3\"\n",
      "[1] \"/data2/mito_lineage/output/annotation_clones/data/cd34norm/MTblacklist/DE_large/donor0/clones_0__1.DE.GeneActivity.csv\"\n",
      "              p_val avg_log2FC pct.1 pct.2 p_val_adj\n",
      "INHBE  8.782162e-06  0.1180163 0.157 0.062 0.1757311\n",
      "PPCS   1.988148e-05  0.1854961 0.294 0.181 0.3978284\n",
      "SEMA3C 9.873303e-05 -0.1935369 0.301 0.428 1.0000000\n",
      "MAP2K5 1.372876e-04 -0.1907875 0.523 0.655 1.0000000\n",
      "IL34   3.418511e-04  0.1229206 0.222 0.128 1.0000000\n",
      "EZH2   3.654607e-04  0.1707860 0.294 0.194 1.0000000\n",
      "[1] \"saved clones 0 1\"\n"
     ]
    },
    {
     "name": "stderr",
     "output_type": "stream",
     "text": [
      "Saving 6.67 x 6.67 in image\n",
      "\n"
     ]
    },
    {
     "name": "stdout",
     "output_type": "stream",
     "text": [
      "[1] \"plotted clones 0 1\"\n",
      "[1] 0 4\n",
      "61 Levels: 0 1 2 3 4 5 6 7 8 9 10 11 12 13 14 15 16 17 18 19 20 21 22 23 ... None\n",
      "[1] \"clones 4\"\n",
      "[1] \"/data2/mito_lineage/output/annotation_clones/data/cd34norm/MTblacklist/DE_large/donor0/clones_0__4.DE.GeneActivity.csv\"\n",
      "                  p_val avg_log2FC pct.1 pct.2 p_val_adj\n",
      "MROH7-TTC4 8.264683e-05 -0.1720682 0.345 0.526         1\n",
      "ADAMTS19   1.131675e-04 -0.2096825 0.316 0.445         1\n",
      "INSR       1.234359e-04  0.2041356 0.427 0.348         1\n",
      "DNAH11     1.716356e-04 -0.2123458 0.463 0.619         1\n",
      "SGMS1      1.880554e-04 -0.2014407 0.400 0.538         1\n",
      "ERBB2IP    1.956364e-04 -0.1765267 0.178 0.296         1\n",
      "[1] \"saved clones 0 4\"\n"
     ]
    },
    {
     "name": "stderr",
     "output_type": "stream",
     "text": [
      "Saving 6.67 x 6.67 in image\n",
      "\n"
     ]
    },
    {
     "name": "stdout",
     "output_type": "stream",
     "text": [
      "[1] \"plotted clones 0 4\"\n",
      "[1] 0 3\n",
      "61 Levels: 0 1 2 3 4 5 6 7 8 9 10 11 12 13 14 15 16 17 18 19 20 21 22 23 ... None\n",
      "[1] \"clones 5\"\n",
      "[1] \"/data2/mito_lineage/output/annotation_clones/data/cd34norm/MTblacklist/DE_large/donor0/clones_0__3.DE.GeneActivity.csv\"\n",
      "                p_val avg_log2FC pct.1 pct.2 p_val_adj\n",
      "SPACA3   6.308821e-05  0.1932382 0.289 0.215         1\n",
      "IP6K3    9.132812e-05  0.1287564 0.181 0.090         1\n",
      "CATSPERB 1.203792e-04 -0.2168992 0.395 0.527         1\n",
      "DYRK1A   2.724090e-04  0.2146322 0.542 0.445         1\n",
      "CASC5    3.534176e-04 -0.1797320 0.318 0.434         1\n",
      "NHSL1    5.329643e-04 -0.2421286 0.499 0.621         1\n",
      "[1] \"saved clones 0 3\"\n"
     ]
    },
    {
     "name": "stderr",
     "output_type": "stream",
     "text": [
      "Saving 6.67 x 6.67 in image\n",
      "\n"
     ]
    },
    {
     "name": "stdout",
     "output_type": "stream",
     "text": [
      "[1] \"plotted clones 0 3\"\n",
      "[1] 0 6\n",
      "61 Levels: 0 1 2 3 4 5 6 7 8 9 10 11 12 13 14 15 16 17 18 19 20 21 22 23 ... None\n",
      "[1] \"clones 6\"\n",
      "[1] \"/data2/mito_lineage/output/annotation_clones/data/cd34norm/MTblacklist/DE_large/donor0/clones_0__6.DE.GeneActivity.csv\"\n",
      "                p_val avg_log2FC pct.1 pct.2  p_val_adj\n",
      "CHD7     2.905376e-06 -0.3351511 0.571 0.682 0.05813658\n",
      "CSNK1D   3.720198e-06  0.1201899 0.111 0.021 0.07444116\n",
      "SNAP91   5.734979e-05 -0.1908332 0.123 0.215 1.00000000\n",
      "UQCR11   5.971355e-05  0.1449285 0.169 0.046 1.00000000\n",
      "UQCR11.1 6.863707e-05  0.1029761 0.106 0.015 1.00000000\n",
      "DDHD2    7.164983e-05  0.1999093 0.335 0.174 1.00000000\n",
      "[1] \"saved clones 0 6\"\n"
     ]
    },
    {
     "name": "stderr",
     "output_type": "stream",
     "text": [
      "Saving 6.67 x 6.67 in image\n",
      "\n"
     ]
    },
    {
     "name": "stdout",
     "output_type": "stream",
     "text": [
      "[1] \"plotted clones 0 6\"\n",
      "[1] 52 2 \n",
      "61 Levels: 0 1 2 3 4 5 6 7 8 9 10 11 12 13 14 15 16 17 18 19 20 21 22 23 ... None\n",
      "[1] \"clones 7\"\n",
      "[1] \"/data2/mito_lineage/output/annotation_clones/data/cd34norm/MTblacklist/DE_large/donor0/clones_52__2.DE.GeneActivity.csv\"\n",
      "               p_val avg_log2FC pct.1 pct.2 p_val_adj\n",
      "RGS12   1.223987e-05 -0.2580565 0.185 0.441 0.2449197\n",
      "PXN     2.031740e-05 -0.2221651 0.112 0.317 0.4065511\n",
      "PITPNM2 3.438014e-05 -0.2674857 0.214 0.466 0.6879467\n",
      "MYH14   5.613679e-05 -0.2221108 0.214 0.441 1.0000000\n",
      "FAM65C  6.131658e-05 -0.2393519 0.290 0.544 1.0000000\n",
      "CLCN6   1.330655e-04 -0.1108654 0.022 0.132 1.0000000\n",
      "[1] \"saved clones 52 2\"\n"
     ]
    },
    {
     "name": "stderr",
     "output_type": "stream",
     "text": [
      "Saving 6.67 x 6.67 in image\n",
      "\n"
     ]
    },
    {
     "name": "stdout",
     "output_type": "stream",
     "text": [
      "[1] \"plotted clones 52 2\"\n",
      "[1] 52 1 \n",
      "61 Levels: 0 1 2 3 4 5 6 7 8 9 10 11 12 13 14 15 16 17 18 19 20 21 22 23 ... None\n",
      "[1] \"clones 8\"\n",
      "[1] \"/data2/mito_lineage/output/annotation_clones/data/cd34norm/MTblacklist/DE_large/donor0/clones_52__1.DE.GeneActivity.csv\"\n",
      "               p_val avg_log2FC pct.1 pct.2  p_val_adj\n",
      "RXRA    7.112260e-07 -0.2845833 0.210 0.454 0.01423163\n",
      "PXN     9.733600e-07 -0.2411774 0.112 0.326 0.01947693\n",
      "DEPDC5  1.831579e-06 -0.2123662 0.109 0.319 0.03664990\n",
      "NADSYN1 9.963224e-06 -0.1134232 0.018 0.112 0.19936412\n",
      "HMHA1   1.917954e-05 -0.1434201 0.051 0.168 0.38378252\n",
      "TM7SF2  2.174413e-05 -0.1311261 0.036 0.161 0.43510012\n",
      "[1] \"saved clones 52 1\"\n"
     ]
    },
    {
     "name": "stderr",
     "output_type": "stream",
     "text": [
      "Saving 6.67 x 6.67 in image\n",
      "\n"
     ]
    },
    {
     "name": "stdout",
     "output_type": "stream",
     "text": [
      "[1] \"plotted clones 52 1\"\n",
      "[1] 52 4 \n",
      "61 Levels: 0 1 2 3 4 5 6 7 8 9 10 11 12 13 14 15 16 17 18 19 20 21 22 23 ... None\n",
      "[1] \"clones 9\"\n",
      "[1] \"/data2/mito_lineage/output/annotation_clones/data/cd34norm/MTblacklist/DE_large/donor0/clones_52__4.DE.GeneActivity.csv\"\n",
      "                    p_val avg_log2FC pct.1 pct.2  p_val_adj\n",
      "PXN          1.656289e-06 -0.2594281 0.112 0.344 0.03314235\n",
      "CD47         1.241511e-04 -0.1580213 0.065 0.178 1.00000000\n",
      "TMLHE        2.173991e-04 -0.1984388 0.264 0.506 1.00000000\n",
      "PPIE         2.508311e-04 -0.1551469 0.098 0.283 1.00000000\n",
      "RP11-433C9.2 3.137372e-04 -0.1619630 0.076 0.231 1.00000000\n",
      "RP11-113D6.6 3.571472e-04  0.1219761 0.149 0.097 1.00000000\n",
      "[1] \"saved clones 52 4\"\n"
     ]
    },
    {
     "name": "stderr",
     "output_type": "stream",
     "text": [
      "Saving 6.67 x 6.67 in image\n",
      "\n"
     ]
    },
    {
     "name": "stdout",
     "output_type": "stream",
     "text": [
      "[1] \"plotted clones 52 4\"\n",
      "[1] 52 3 \n",
      "61 Levels: 0 1 2 3 4 5 6 7 8 9 10 11 12 13 14 15 16 17 18 19 20 21 22 23 ... None\n",
      "[1] \"clones 10\"\n",
      "[1] \"/data2/mito_lineage/output/annotation_clones/data/cd34norm/MTblacklist/DE_large/donor0/clones_52__3.DE.GeneActivity.csv\"\n",
      "                p_val avg_log2FC pct.1 pct.2 p_val_adj\n",
      "PITPNM2  1.382359e-05 -0.2614357 0.214 0.441 0.2766101\n",
      "RXRA     1.478669e-05 -0.2707610 0.210 0.445 0.2958817\n",
      "DEPDC5   3.397167e-05 -0.2256367 0.109 0.297 0.6797732\n",
      "CASC5    4.772996e-05 -0.2445473 0.210 0.434 0.9550765\n",
      "G3BP2    5.423846e-05  0.1832022 0.167 0.125 1.0000000\n",
      "CATSPERB 6.462116e-05 -0.2314189 0.283 0.527 1.0000000\n",
      "[1] \"saved clones 52 3\"\n"
     ]
    },
    {
     "name": "stderr",
     "output_type": "stream",
     "text": [
      "Saving 6.67 x 6.67 in image\n",
      "\n"
     ]
    },
    {
     "name": "stdout",
     "output_type": "stream",
     "text": [
      "[1] \"plotted clones 52 3\"\n",
      "[1] 52 6 \n",
      "61 Levels: 0 1 2 3 4 5 6 7 8 9 10 11 12 13 14 15 16 17 18 19 20 21 22 23 ... None\n",
      "[1] \"clones 11\"\n",
      "[1] \"/data2/mito_lineage/output/annotation_clones/data/cd34norm/MTblacklist/DE_large/donor0/clones_52__6.DE.GeneActivity.csv\"\n",
      "              p_val avg_log2FC pct.1 pct.2 p_val_adj\n",
      "RGS12  9.098927e-05 -0.2446680 0.185 0.390         1\n",
      "UQCR11 1.697359e-04  0.1661325 0.130 0.046         1\n",
      "PXN    2.301259e-04 -0.2238143 0.112 0.236         1\n",
      "KDM2B  2.699157e-04 -0.3095789 0.257 0.395         1\n",
      "PAX8   3.678891e-04 -0.1620864 0.072 0.190         1\n",
      "LCORL  3.793746e-04  0.2996494 0.453 0.354         1\n",
      "[1] \"saved clones 52 6\"\n"
     ]
    },
    {
     "name": "stderr",
     "output_type": "stream",
     "text": [
      "Saving 6.67 x 6.67 in image\n",
      "\n"
     ]
    },
    {
     "name": "stdout",
     "output_type": "stream",
     "text": [
      "[1] \"plotted clones 52 6\"\n",
      "[1] 2 1\n",
      "61 Levels: 0 1 2 3 4 5 6 7 8 9 10 11 12 13 14 15 16 17 18 19 20 21 22 23 ... None\n",
      "[1] \"clones 12\"\n",
      "[1] \"/data2/mito_lineage/output/annotation_clones/data/cd34norm/MTblacklist/DE_large/donor0/clones_2__1.DE.GeneActivity.csv\"\n",
      "             p_val avg_log2FC pct.1 pct.2 p_val_adj\n",
      "KCND2 2.126230e-05  0.2532739 0.520 0.359 0.4254587\n",
      "SESN3 7.629932e-05  0.1606910 0.288 0.145 1.0000000\n",
      "BOLL  1.727450e-04  0.1157105 0.128 0.049 1.0000000\n",
      "UBE2Z 1.911491e-04 -0.1013040 0.050 0.102 1.0000000\n",
      "RALY  2.739232e-04 -0.1952100 0.356 0.461 1.0000000\n",
      "SGPP2 2.940407e-04  0.1359515 0.274 0.128 1.0000000\n",
      "[1] \"saved clones 2 1\"\n"
     ]
    },
    {
     "name": "stderr",
     "output_type": "stream",
     "text": [
      "Saving 6.67 x 6.67 in image\n",
      "\n"
     ]
    },
    {
     "name": "stdout",
     "output_type": "stream",
     "text": [
      "[1] \"plotted clones 2 1\"\n",
      "[1] 2 4\n",
      "61 Levels: 0 1 2 3 4 5 6 7 8 9 10 11 12 13 14 15 16 17 18 19 20 21 22 23 ... None\n",
      "[1] \"clones 13\"\n",
      "[1] \"/data2/mito_lineage/output/annotation_clones/data/cd34norm/MTblacklist/DE_large/donor0/clones_2__4.DE.GeneActivity.csv\"\n",
      "              p_val avg_log2FC pct.1 pct.2 p_val_adj\n",
      "BCO2   0.0001672637 -0.1752521 0.189 0.316         1\n",
      "KAT6B  0.0001859550 -0.1725435 0.224 0.356         1\n",
      "ZNF418 0.0002572852 -0.1102578 0.064 0.138         1\n",
      "KRT86  0.0003031826 -0.1273700 0.093 0.190         1\n",
      "KLRB1  0.0003092315 -0.1530918 0.153 0.296         1\n",
      "MMP9   0.0003430712 -0.1013659 0.068 0.126         1\n",
      "[1] \"saved clones 2 4\"\n"
     ]
    },
    {
     "name": "stderr",
     "output_type": "stream",
     "text": [
      "Saving 6.67 x 6.67 in image\n",
      "\n"
     ]
    },
    {
     "name": "stdout",
     "output_type": "stream",
     "text": [
      "[1] \"plotted clones 2 4\"\n",
      "[1] 2 3\n",
      "61 Levels: 0 1 2 3 4 5 6 7 8 9 10 11 12 13 14 15 16 17 18 19 20 21 22 23 ... None\n",
      "[1] \"clones 14\"\n",
      "[1] \"/data2/mito_lineage/output/annotation_clones/data/cd34norm/MTblacklist/DE_large/donor0/clones_2__3.DE.GeneActivity.csv\"\n",
      "                  p_val avg_log2FC pct.1 pct.2 p_val_adj\n",
      "SRD5A1     0.0001489390  0.1183627 0.249 0.113         1\n",
      "AC068533.7 0.0001796032 -0.1025282 0.028 0.082         1\n",
      "BCAP29     0.0002601020  0.1048854 0.210 0.105         1\n",
      "FAM185A    0.0002800763  0.1914726 0.452 0.305         1\n",
      "RORB       0.0003260361  0.2055173 0.480 0.348         1\n",
      "SLC39A14   0.0003524092  0.1592077 0.274 0.156         1\n",
      "[1] \"saved clones 2 3\"\n"
     ]
    },
    {
     "name": "stderr",
     "output_type": "stream",
     "text": [
      "Saving 6.67 x 6.67 in image\n",
      "\n"
     ]
    },
    {
     "name": "stdout",
     "output_type": "stream",
     "text": [
      "[1] \"plotted clones 2 3\"\n",
      "[1] 2 6\n",
      "61 Levels: 0 1 2 3 4 5 6 7 8 9 10 11 12 13 14 15 16 17 18 19 20 21 22 23 ... None\n",
      "[1] \"clones 15\"\n",
      "[1] \"/data2/mito_lineage/output/annotation_clones/data/cd34norm/MTblacklist/DE_large/donor0/clones_2__6.DE.GeneActivity.csv\"\n",
      "              p_val avg_log2FC pct.1 pct.2 p_val_adj\n",
      "GRK4   0.0001380089 -0.1532716 0.171 0.241         1\n",
      "DLGAP3 0.0001556895  0.1763195 0.288 0.113         1\n",
      "CELSR1 0.0001643358  0.2379594 0.488 0.267         1\n",
      "GEMIN6 0.0002117562  0.1311011 0.164 0.051         1\n",
      "UQCR11 0.0002996774  0.1368189 0.167 0.046         1\n",
      "CHD7   0.0003102437 -0.2808347 0.619 0.682         1\n",
      "[1] \"saved clones 2 6\"\n"
     ]
    },
    {
     "name": "stderr",
     "output_type": "stream",
     "text": [
      "Saving 6.67 x 6.67 in image\n",
      "\n"
     ]
    },
    {
     "name": "stdout",
     "output_type": "stream",
     "text": [
      "[1] \"plotted clones 2 6\"\n",
      "[1] 1 4\n",
      "61 Levels: 0 1 2 3 4 5 6 7 8 9 10 11 12 13 14 15 16 17 18 19 20 21 22 23 ... None\n",
      "[1] \"clones 16\"\n",
      "[1] \"/data2/mito_lineage/output/annotation_clones/data/cd34norm/MTblacklist/DE_large/donor0/clones_1__4.DE.GeneActivity.csv\"\n",
      "               p_val avg_log2FC pct.1 pct.2  p_val_adj\n",
      "RBFOX2  4.988315e-06  0.2311657 0.780 0.652 0.09981618\n",
      "SI      2.092251e-05 -0.1478049 0.056 0.158 0.41865949\n",
      "NCKIPSD 8.102758e-05  0.1199587 0.158 0.073 1.00000000\n",
      "ENTPD7  8.809412e-05  0.1653645 0.227 0.130 1.00000000\n",
      "PNISR   1.361166e-04 -0.1031193 0.039 0.134 1.00000000\n",
      "PNPLA3  1.391264e-04  0.1048310 0.135 0.053 1.00000000\n",
      "[1] \"saved clones 1 4\"\n"
     ]
    },
    {
     "name": "stderr",
     "output_type": "stream",
     "text": [
      "Saving 6.67 x 6.67 in image\n",
      "\n"
     ]
    },
    {
     "name": "stdout",
     "output_type": "stream",
     "text": [
      "[1] \"plotted clones 1 4\"\n",
      "[1] 1 3\n",
      "61 Levels: 0 1 2 3 4 5 6 7 8 9 10 11 12 13 14 15 16 17 18 19 20 21 22 23 ... None\n",
      "[1] \"clones 17\"\n",
      "[1] \"/data2/mito_lineage/output/annotation_clones/data/cd34norm/MTblacklist/DE_large/donor0/clones_1__3.DE.GeneActivity.csv\"\n",
      "                p_val avg_log2FC pct.1 pct.2 p_val_adj\n",
      "C20orf78 8.165308e-05 -0.1058965 0.036 0.113         1\n",
      "NAV1     8.776698e-05  0.1936542 0.533 0.391         1\n",
      "SPACA3   9.041156e-05  0.1796165 0.299 0.215         1\n",
      "SIAH1    1.042987e-04  0.1501084 0.303 0.180         1\n",
      "CRMP1    1.576699e-04  0.1801803 0.322 0.207         1\n",
      "PNPLA3   1.947539e-04  0.1032323 0.135 0.055         1\n",
      "[1] \"saved clones 1 3\"\n"
     ]
    },
    {
     "name": "stderr",
     "output_type": "stream",
     "text": [
      "Saving 6.67 x 6.67 in image\n",
      "\n"
     ]
    },
    {
     "name": "stdout",
     "output_type": "stream",
     "text": [
      "[1] \"plotted clones 1 3\"\n",
      "[1] 1 6\n",
      "61 Levels: 0 1 2 3 4 5 6 7 8 9 10 11 12 13 14 15 16 17 18 19 20 21 22 23 ... None\n",
      "[1] \"clones 18\"\n",
      "[1] \"/data2/mito_lineage/output/annotation_clones/data/cd34norm/MTblacklist/DE_large/donor0/clones_1__6.DE.GeneActivity.csv\"\n",
      "              p_val avg_log2FC pct.1 pct.2  p_val_adj\n",
      "PREX1  1.090729e-06  0.2772157 0.668 0.385 0.02182548\n",
      "CHD7   2.633258e-06 -0.3695643 0.572 0.682 0.05269150\n",
      "BTBD11 2.742146e-06  0.2902589 0.625 0.364 0.05487034\n",
      "ZFPM1  8.484858e-06  0.2090806 0.263 0.092 0.16978201\n",
      "STRC   9.066913e-06  0.2201014 0.293 0.123 0.18142893\n",
      "UQCR11 2.208499e-05  0.1433868 0.184 0.046 0.44192060\n",
      "[1] \"saved clones 1 6\"\n"
     ]
    },
    {
     "name": "stderr",
     "output_type": "stream",
     "text": [
      "Saving 6.67 x 6.67 in image\n",
      "\n"
     ]
    },
    {
     "name": "stdout",
     "output_type": "stream",
     "text": [
      "[1] \"plotted clones 1 6\"\n",
      "[1] 4 3\n",
      "61 Levels: 0 1 2 3 4 5 6 7 8 9 10 11 12 13 14 15 16 17 18 19 20 21 22 23 ... None\n",
      "[1] \"clones 19\"\n",
      "[1] \"/data2/mito_lineage/output/annotation_clones/data/cd34norm/MTblacklist/DE_large/donor0/clones_4__3.DE.GeneActivity.csv\"\n",
      "                 p_val avg_log2FC pct.1 pct.2 p_val_adj\n",
      "GHDC      2.302453e-05 -0.1252147 0.024 0.109 0.4607209\n",
      "KRTCAP3   9.295978e-05  0.1032003 0.126 0.043 1.0000000\n",
      "HIST1H2BH 1.120420e-04 -0.1818849 0.142 0.246 1.0000000\n",
      "MREG      5.477528e-04 -0.1776567 0.158 0.258 1.0000000\n",
      "DGKD      5.885147e-04 -0.1857617 0.231 0.363 1.0000000\n",
      "ANKRD42   7.306209e-04  0.1455888 0.239 0.172 1.0000000\n",
      "[1] \"saved clones 4 3\"\n"
     ]
    },
    {
     "name": "stderr",
     "output_type": "stream",
     "text": [
      "Saving 6.67 x 6.67 in image\n",
      "\n"
     ]
    },
    {
     "name": "stdout",
     "output_type": "stream",
     "text": [
      "[1] \"plotted clones 4 3\"\n",
      "[1] 4 6\n",
      "61 Levels: 0 1 2 3 4 5 6 7 8 9 10 11 12 13 14 15 16 17 18 19 20 21 22 23 ... None\n",
      "[1] \"clones 20\"\n",
      "[1] \"/data2/mito_lineage/output/annotation_clones/data/cd34norm/MTblacklist/DE_large/donor0/clones_4__6.DE.GeneActivity.csv\"\n",
      "               p_val avg_log2FC pct.1 pct.2 p_val_adj\n",
      "CHD7    4.324137e-05 -0.3250311 0.587 0.682 0.8652597\n",
      "CALCRL  6.032791e-05  0.1720395 0.231 0.072 1.0000000\n",
      "SPATA6L 9.123903e-05  0.2138472 0.377 0.164 1.0000000\n",
      "SLC7A13 1.036084e-04  0.1580677 0.142 0.046 1.0000000\n",
      "FHL5    1.495284e-04  0.1415516 0.194 0.056 1.0000000\n",
      "UQCR11  1.565901e-04  0.1593168 0.170 0.046 1.0000000\n",
      "[1] \"saved clones 4 6\"\n"
     ]
    },
    {
     "name": "stderr",
     "output_type": "stream",
     "text": [
      "Saving 6.67 x 6.67 in image\n",
      "\n"
     ]
    },
    {
     "name": "stdout",
     "output_type": "stream",
     "text": [
      "[1] \"plotted clones 4 6\"\n",
      "[1] 3 6\n",
      "61 Levels: 0 1 2 3 4 5 6 7 8 9 10 11 12 13 14 15 16 17 18 19 20 21 22 23 ... None\n",
      "[1] \"clones 21\"\n",
      "[1] \"/data2/mito_lineage/output/annotation_clones/data/cd34norm/MTblacklist/DE_large/donor0/clones_3__6.DE.GeneActivity.csv\"\n",
      "              p_val avg_log2FC pct.1 pct.2 p_val_adj\n",
      "AANAT  1.662112e-05  0.1533399 0.199 0.046 0.3325887\n",
      "CSNK1D 2.276087e-05  0.1042174 0.117 0.021 0.4554451\n",
      "SPACA3 6.163566e-05 -0.2157645 0.215 0.277 1.0000000\n",
      "CHD7   6.214904e-05 -0.3221747 0.602 0.682 1.0000000\n",
      "GEMIN6 9.692975e-05  0.1397157 0.160 0.051 1.0000000\n",
      "LCORL  1.457762e-04  0.2693224 0.566 0.354 1.0000000\n",
      "[1] \"saved clones 3 6\"\n"
     ]
    },
    {
     "name": "stderr",
     "output_type": "stream",
     "text": [
      "Saving 6.67 x 6.67 in image\n",
      "\n"
     ]
    },
    {
     "name": "stdout",
     "output_type": "stream",
     "text": [
      "[1] \"plotted clones 3 6\"\n",
      "[1] \"donor\"\n",
      "[1] 1\n"
     ]
    },
    {
     "name": "stderr",
     "output_type": "stream",
     "text": [
      "Warning message in dir.create(curr.outdir):\n",
      "“'/data2/mito_lineage/output/annotation_clones/data/cd34norm/MTblacklist/DE_large/donor1' already exists”\n"
     ]
    },
    {
     "name": "stdout",
     "output_type": "stream",
     "text": [
      "[1] \"clones\"\n",
      " [1] 0  1  2  3  5  4  8  6  10 19 13\n",
      "61 Levels: 0 1 2 3 4 5 6 7 8 9 10 11 12 13 14 15 16 17 18 19 20 21 22 23 ... None\n",
      "[1] 11\n",
      "[1] \"se.filt\"\n",
      "[1] 1844   32\n"
     ]
    },
    {
     "name": "stderr",
     "output_type": "stream",
     "text": [
      "Saving 6.67 x 6.67 in image\n",
      "\n"
     ]
    },
    {
     "name": "stdout",
     "output_type": "stream",
     "text": [
      "[1] 0 1\n",
      "61 Levels: 0 1 2 3 4 5 6 7 8 9 10 11 12 13 14 15 16 17 18 19 20 21 22 23 ... None\n",
      "[1] \"clones 1\"\n",
      "[1] \"/data2/mito_lineage/output/annotation_clones/data/cd34norm/MTblacklist/DE_large/donor1/clones_0__1.DE.GeneActivity.csv\"\n",
      "                p_val avg_log2FC pct.1 pct.2 p_val_adj\n",
      "KIAA2026 5.205706e-05  0.2919930 0.390 0.220         1\n",
      "HPGD     5.206809e-05  0.1183384 0.098 0.020         1\n",
      "RXFP1    9.876293e-05  0.2462001 0.634 0.435         1\n",
      "C1orf173 1.132714e-04  0.1831223 0.209 0.080         1\n",
      "KCTD14   1.148676e-04  0.1057819 0.122 0.030         1\n",
      "FMN2     1.637419e-04  0.2650810 0.500 0.310         1\n",
      "[1] \"saved clones 0 1\"\n"
     ]
    },
    {
     "name": "stderr",
     "output_type": "stream",
     "text": [
      "Saving 6.67 x 6.67 in image\n",
      "\n"
     ]
    },
    {
     "name": "stdout",
     "output_type": "stream",
     "text": [
      "[1] \"plotted clones 0 1\"\n",
      "[1] 0 2\n",
      "61 Levels: 0 1 2 3 4 5 6 7 8 9 10 11 12 13 14 15 16 17 18 19 20 21 22 23 ... None\n",
      "[1] \"clones 2\"\n",
      "[1] \"/data2/mito_lineage/output/annotation_clones/data/cd34norm/MTblacklist/DE_large/donor1/clones_0__2.DE.GeneActivity.csv\"\n",
      "               p_val avg_log2FC pct.1 pct.2 p_val_adj\n",
      "ZNF285  8.824898e-05  0.2144550 0.319 0.184         1\n",
      "EFCAB14 1.146729e-04 -0.1897699 0.114 0.240         1\n",
      "CCDC94  2.317580e-04 -0.1856878 0.118 0.219         1\n",
      "TMEM164 2.500296e-04  0.1459832 0.197 0.071         1\n",
      "CCDC59  2.703618e-04 -0.1940647 0.213 0.352         1\n",
      "DERL2   2.797023e-04 -0.1200671 0.016 0.082         1\n",
      "[1] \"saved clones 0 2\"\n"
     ]
    },
    {
     "name": "stderr",
     "output_type": "stream",
     "text": [
      "Saving 6.67 x 6.67 in image\n",
      "\n"
     ]
    },
    {
     "name": "stdout",
     "output_type": "stream",
     "text": [
      "[1] \"plotted clones 0 2\"\n",
      "[1] 0 3\n",
      "61 Levels: 0 1 2 3 4 5 6 7 8 9 10 11 12 13 14 15 16 17 18 19 20 21 22 23 ... None\n",
      "[1] \"clones 3\"\n",
      "[1] \"/data2/mito_lineage/output/annotation_clones/data/cd34norm/MTblacklist/DE_large/donor1/clones_0__3.DE.GeneActivity.csv\"\n",
      "               p_val avg_log2FC pct.1 pct.2 p_val_adj\n",
      "TMEM131 6.825791e-05 -0.2929374 0.508 0.661         1\n",
      "GUF1    9.417175e-05  0.1496908 0.173 0.061         1\n",
      "CCT5    1.017423e-04  0.1791297 0.232 0.106         1\n",
      "KCNB2   1.635934e-04  0.2916718 0.756 0.622         1\n",
      "PNP     1.994488e-04 -0.1409845 0.024 0.089         1\n",
      "DKKL1   2.293176e-04 -0.2667748 0.240 0.367         1\n",
      "[1] \"saved clones 0 3\"\n"
     ]
    },
    {
     "name": "stderr",
     "output_type": "stream",
     "text": [
      "Saving 6.67 x 6.67 in image\n",
      "\n"
     ]
    },
    {
     "name": "stdout",
     "output_type": "stream",
     "text": [
      "[1] \"plotted clones 0 3\"\n",
      "[1] 0 5\n",
      "61 Levels: 0 1 2 3 4 5 6 7 8 9 10 11 12 13 14 15 16 17 18 19 20 21 22 23 ... None\n",
      "[1] \"clones 4\"\n",
      "[1] \"/data2/mito_lineage/output/annotation_clones/data/cd34norm/MTblacklist/DE_large/donor1/clones_0__5.DE.GeneActivity.csv\"\n",
      "              p_val avg_log2FC pct.1 pct.2 p_val_adj\n",
      "NXPE4  0.0004226434 -0.1105286 0.055 0.157         1\n",
      "MCIDAS 0.0005036432 -0.1104125 0.063 0.169         1\n",
      "CLVS1  0.0005372727 -0.2338441 0.354 0.552         1\n",
      "AGTRAP 0.0005586937 -0.1358777 0.122 0.326         1\n",
      "IBTK   0.0005825805 -0.1430636 0.087 0.244         1\n",
      "MARCH3 0.0007641569 -0.1816624 0.228 0.442         1\n",
      "[1] \"saved clones 0 5\"\n"
     ]
    },
    {
     "name": "stderr",
     "output_type": "stream",
     "text": [
      "Saving 6.67 x 6.67 in image\n",
      "\n"
     ]
    },
    {
     "name": "stdout",
     "output_type": "stream",
     "text": [
      "[1] \"plotted clones 0 5\"\n",
      "[1] 0 4\n",
      "61 Levels: 0 1 2 3 4 5 6 7 8 9 10 11 12 13 14 15 16 17 18 19 20 21 22 23 ... None\n",
      "[1] \"clones 5\"\n",
      "[1] \"/data2/mito_lineage/output/annotation_clones/data/cd34norm/MTblacklist/DE_large/donor1/clones_0__4.DE.GeneActivity.csv\"\n",
      "                  p_val avg_log2FC pct.1 pct.2 p_val_adj\n",
      "GOLGA5     8.162445e-05  0.1365199 0.146 0.040         1\n",
      "AC010547.9 1.610854e-04  0.1326844 0.161 0.052         1\n",
      "TIMP3      1.849915e-04  0.1382151 0.114 0.029         1\n",
      "FAM91A1    3.093140e-04  0.1586350 0.189 0.057         1\n",
      "MAPK4      4.860180e-04  0.2031061 0.343 0.161         1\n",
      "LARP1B     5.528626e-04  0.2421221 0.469 0.259         1\n",
      "[1] \"saved clones 0 4\"\n"
     ]
    },
    {
     "name": "stderr",
     "output_type": "stream",
     "text": [
      "Saving 6.67 x 6.67 in image\n",
      "\n"
     ]
    },
    {
     "name": "stdout",
     "output_type": "stream",
     "text": [
      "[1] \"plotted clones 0 4\"\n",
      "[1] 0 8\n",
      "61 Levels: 0 1 2 3 4 5 6 7 8 9 10 11 12 13 14 15 16 17 18 19 20 21 22 23 ... None\n",
      "[1] \"clones 6\"\n"
     ]
    },
    {
     "name": "stderr",
     "output_type": "stream",
     "text": [
      "Warning message:\n",
      "“glm.fit: fitted probabilities numerically 0 or 1 occurred”\n"
     ]
    },
    {
     "name": "stdout",
     "output_type": "stream",
     "text": [
      "[1] \"/data2/mito_lineage/output/annotation_clones/data/cd34norm/MTblacklist/DE_large/donor1/clones_0__8.DE.GeneActivity.csv\"\n",
      "               p_val avg_log2FC pct.1 pct.2 p_val_adj\n",
      "TLN1    0.0001137002  0.2175708 0.283 0.150         1\n",
      "FAM118B 0.0001704723  0.1608161 0.165 0.046         1\n",
      "SLC7A7  0.0002340414  0.1729107 0.213 0.105         1\n",
      "INTS12  0.0002632291  0.1738944 0.520 0.314         1\n",
      "MPND    0.0002880529  0.1941946 0.197 0.105         1\n",
      "CDH8    0.0003705663 -0.2540397 0.240 0.386         1\n",
      "[1] \"saved clones 0 8\"\n"
     ]
    },
    {
     "name": "stderr",
     "output_type": "stream",
     "text": [
      "Saving 6.67 x 6.67 in image\n",
      "\n"
     ]
    },
    {
     "name": "stdout",
     "output_type": "stream",
     "text": [
      "[1] \"plotted clones 0 8\"\n",
      "[1] 0 6\n",
      "61 Levels: 0 1 2 3 4 5 6 7 8 9 10 11 12 13 14 15 16 17 18 19 20 21 22 23 ... None\n",
      "[1] \"clones 7\"\n",
      "[1] \"/data2/mito_lineage/output/annotation_clones/data/cd34norm/MTblacklist/DE_large/donor1/clones_0__6.DE.GeneActivity.csv\"\n",
      "              p_val avg_log2FC pct.1 pct.2 p_val_adj\n",
      "ANKS1A 5.261331e-05 -0.2652381 0.413 0.649         1\n",
      "ICOSLG 1.139380e-04 -0.1407406 0.071 0.226         1\n",
      "TMEM11 2.051220e-04 -0.1632230 0.043 0.185         1\n",
      "NGF    3.297898e-04  0.1565191 0.189 0.107         1\n",
      "METTL9 5.131047e-04 -0.2001496 0.240 0.482         1\n",
      "DAD1   6.087241e-04 -0.1584831 0.126 0.280         1\n",
      "[1] \"saved clones 0 6\"\n"
     ]
    },
    {
     "name": "stderr",
     "output_type": "stream",
     "text": [
      "Saving 6.67 x 6.67 in image\n",
      "\n"
     ]
    },
    {
     "name": "stdout",
     "output_type": "stream",
     "text": [
      "[1] \"plotted clones 0 6\"\n",
      "[1] 0  10\n",
      "61 Levels: 0 1 2 3 4 5 6 7 8 9 10 11 12 13 14 15 16 17 18 19 20 21 22 23 ... None\n",
      "[1] \"clones 8\"\n",
      "[1] \"/data2/mito_lineage/output/annotation_clones/data/cd34norm/MTblacklist/DE_large/donor1/clones_0__10.DE.GeneActivity.csv\"\n",
      "                  p_val avg_log2FC pct.1 pct.2 p_val_adj\n",
      "ZNF514     3.614723e-05 -0.1143276 0.024 0.132 0.7233061\n",
      "WASF3      1.708830e-04 -0.2233303 0.366 0.605 1.0000000\n",
      "FSCN3      2.084140e-04 -0.1028682 0.008 0.062 1.0000000\n",
      "PPA2       5.215801e-04 -0.2409425 0.291 0.504 1.0000000\n",
      "SERPINH1   8.924169e-04 -0.1156261 0.039 0.124 1.0000000\n",
      "AC003002.6 1.036854e-03  0.1295727 0.130 0.062 1.0000000\n",
      "[1] \"saved clones 0 10\"\n"
     ]
    },
    {
     "name": "stderr",
     "output_type": "stream",
     "text": [
      "Saving 6.67 x 6.67 in image\n",
      "\n"
     ]
    },
    {
     "name": "stdout",
     "output_type": "stream",
     "text": [
      "[1] \"plotted clones 0 10\"\n",
      "[1] 0  19\n",
      "61 Levels: 0 1 2 3 4 5 6 7 8 9 10 11 12 13 14 15 16 17 18 19 20 21 22 23 ... None\n",
      "[1] \"clones 9\"\n"
     ]
    },
    {
     "name": "stderr",
     "output_type": "stream",
     "text": [
      "Warning message:\n",
      "“glm.fit: fitted probabilities numerically 0 or 1 occurred”\n",
      "Warning message:\n",
      "“glm.fit: fitted probabilities numerically 0 or 1 occurred”\n",
      "Warning message:\n",
      "“glm.fit: fitted probabilities numerically 0 or 1 occurred”\n",
      "Warning message:\n",
      "“glm.fit: fitted probabilities numerically 0 or 1 occurred”\n",
      "Warning message:\n",
      "“glm.fit: fitted probabilities numerically 0 or 1 occurred”\n",
      "Warning message:\n",
      "“glm.fit: fitted probabilities numerically 0 or 1 occurred”\n",
      "Warning message:\n",
      "“glm.fit: fitted probabilities numerically 0 or 1 occurred”\n",
      "Warning message:\n",
      "“glm.fit: fitted probabilities numerically 0 or 1 occurred”\n",
      "Warning message:\n",
      "“glm.fit: fitted probabilities numerically 0 or 1 occurred”\n",
      "Warning message:\n",
      "“glm.fit: fitted probabilities numerically 0 or 1 occurred”\n",
      "Warning message:\n",
      "“glm.fit: fitted probabilities numerically 0 or 1 occurred”\n",
      "Warning message:\n",
      "“glm.fit: fitted probabilities numerically 0 or 1 occurred”\n",
      "Warning message:\n",
      "“glm.fit: fitted probabilities numerically 0 or 1 occurred”\n",
      "Warning message:\n",
      "“glm.fit: fitted probabilities numerically 0 or 1 occurred”\n",
      "Warning message:\n",
      "“glm.fit: fitted probabilities numerically 0 or 1 occurred”\n",
      "Warning message:\n",
      "“glm.fit: fitted probabilities numerically 0 or 1 occurred”\n",
      "Warning message:\n",
      "“glm.fit: fitted probabilities numerically 0 or 1 occurred”\n",
      "Warning message:\n",
      "“glm.fit: fitted probabilities numerically 0 or 1 occurred”\n",
      "Warning message:\n",
      "“glm.fit: fitted probabilities numerically 0 or 1 occurred”\n",
      "Warning message:\n",
      "“glm.fit: fitted probabilities numerically 0 or 1 occurred”\n",
      "Warning message:\n",
      "“glm.fit: fitted probabilities numerically 0 or 1 occurred”\n",
      "Warning message:\n",
      "“glm.fit: fitted probabilities numerically 0 or 1 occurred”\n",
      "Warning message:\n",
      "“glm.fit: fitted probabilities numerically 0 or 1 occurred”\n",
      "Warning message:\n",
      "“glm.fit: fitted probabilities numerically 0 or 1 occurred”\n",
      "Warning message:\n",
      "“glm.fit: fitted probabilities numerically 0 or 1 occurred”\n"
     ]
    },
    {
     "name": "stdout",
     "output_type": "stream",
     "text": [
      "[1] \"/data2/mito_lineage/output/annotation_clones/data/cd34norm/MTblacklist/DE_large/donor1/clones_0__19.DE.GeneActivity.csv\"\n",
      "              p_val avg_log2FC pct.1 pct.2 p_val_adj\n",
      "COMP   6.394304e-06 -0.1077011 0.031 0.094   0.12795\n",
      "PIEZO1 5.631150e-05  0.3939021 0.386 0.083   1.00000\n",
      "MCTP2  1.175872e-04  0.2938150 0.303 0.062   1.00000\n",
      "CD9    2.085521e-04  0.2789607 0.354 0.083   1.00000\n",
      "SPIRE2 3.096351e-04  0.2378640 0.181 0.021   1.00000\n",
      "RNF38  3.112496e-04 -0.3275931 0.366 0.354   1.00000\n",
      "[1] \"saved clones 0 19\"\n"
     ]
    },
    {
     "name": "stderr",
     "output_type": "stream",
     "text": [
      "Saving 6.67 x 6.67 in image\n",
      "\n"
     ]
    },
    {
     "name": "stdout",
     "output_type": "stream",
     "text": [
      "[1] \"plotted clones 0 19\"\n",
      "[1] 0  13\n",
      "61 Levels: 0 1 2 3 4 5 6 7 8 9 10 11 12 13 14 15 16 17 18 19 20 21 22 23 ... None\n",
      "[1] \"clones 10\"\n",
      "[1] \"/data2/mito_lineage/output/annotation_clones/data/cd34norm/MTblacklist/DE_large/donor1/clones_0__13.DE.GeneActivity.csv\"\n",
      "                     p_val avg_log2FC pct.1 pct.2 p_val_adj\n",
      "CCNJL         3.502151e-05  0.2150020 0.280 0.107 0.7007805\n",
      "UBASH3A       4.311882e-05  0.2099982 0.197 0.049 0.8628076\n",
      "SLC43A2       1.073875e-04  0.2250752 0.256 0.107 1.0000000\n",
      "RP11-1055B8.7 1.316427e-04  0.1385277 0.130 0.025 1.0000000\n",
      "MAML1         2.080506e-04  0.1209072 0.094 0.008 1.0000000\n",
      "RP11-867G23.8 2.859703e-04  0.1271542 0.146 0.033 1.0000000\n",
      "[1] \"saved clones 0 13\"\n"
     ]
    },
    {
     "name": "stderr",
     "output_type": "stream",
     "text": [
      "Saving 6.67 x 6.67 in image\n",
      "\n"
     ]
    },
    {
     "name": "stdout",
     "output_type": "stream",
     "text": [
      "[1] \"plotted clones 0 13\"\n",
      "[1] 1 2\n",
      "61 Levels: 0 1 2 3 4 5 6 7 8 9 10 11 12 13 14 15 16 17 18 19 20 21 22 23 ... None\n",
      "[1] \"clones 11\"\n",
      "[1] \"/data2/mito_lineage/output/annotation_clones/data/cd34norm/MTblacklist/DE_large/donor1/clones_1__2.DE.GeneActivity.csv\"\n",
      "                p_val avg_log2FC pct.1 pct.2 p_val_adj\n",
      "IL12RB2  0.0001263443  0.2140743 0.255 0.138         1\n",
      "RNF43    0.0001609445 -0.1860727 0.055 0.143         1\n",
      "TPH2     0.0002174502  0.2088234 0.285 0.153         1\n",
      "KCNH2    0.0002484680  0.1249586 0.110 0.041         1\n",
      "KIF9     0.0003124157 -0.2084924 0.110 0.235         1\n",
      "C12orf66 0.0003932856  0.1805253 0.245 0.148         1\n",
      "[1] \"saved clones 1 2\"\n"
     ]
    },
    {
     "name": "stderr",
     "output_type": "stream",
     "text": [
      "Saving 6.67 x 6.67 in image\n",
      "\n"
     ]
    },
    {
     "name": "stdout",
     "output_type": "stream",
     "text": [
      "[1] \"plotted clones 1 2\"\n",
      "[1] 1 3\n",
      "61 Levels: 0 1 2 3 4 5 6 7 8 9 10 11 12 13 14 15 16 17 18 19 20 21 22 23 ... None\n",
      "[1] \"clones 12\"\n",
      "[1] \"/data2/mito_lineage/output/annotation_clones/data/cd34norm/MTblacklist/DE_large/donor1/clones_1__3.DE.GeneActivity.csv\"\n",
      "                p_val avg_log2FC pct.1 pct.2 p_val_adj\n",
      "SETBP1   5.528395e-05  0.3002864 0.390 0.278         1\n",
      "MGAT5B   6.558196e-05  0.2131812 0.260 0.183         1\n",
      "PNP      7.621395e-05 -0.1489283 0.005 0.089         1\n",
      "SLC25A51 9.809218e-05  0.1502399 0.165 0.072         1\n",
      "TGOLN2   1.901572e-04  0.2461835 0.230 0.128         1\n",
      "C18orf8  2.849019e-04  0.1229470 0.115 0.061         1\n",
      "[1] \"saved clones 1 3\"\n"
     ]
    },
    {
     "name": "stderr",
     "output_type": "stream",
     "text": [
      "Saving 6.67 x 6.67 in image\n",
      "\n"
     ]
    },
    {
     "name": "stdout",
     "output_type": "stream",
     "text": [
      "[1] \"plotted clones 1 3\"\n",
      "[1] 1 5\n",
      "61 Levels: 0 1 2 3 4 5 6 7 8 9 10 11 12 13 14 15 16 17 18 19 20 21 22 23 ... None\n",
      "[1] \"clones 13\"\n",
      "[1] \"/data2/mito_lineage/output/annotation_clones/data/cd34norm/MTblacklist/DE_large/donor1/clones_1__5.DE.GeneActivity.csv\"\n",
      "              p_val avg_log2FC pct.1 pct.2 p_val_adj\n",
      "ZMIZ2  0.0001856437 -0.1840204 0.110 0.355         1\n",
      "ZCCHC6 0.0003777541  0.2124811 0.230 0.221         1\n",
      "C1R    0.0004675548  0.1150720 0.190 0.198         1\n",
      "CFTR   0.0007414136 -0.2275075 0.405 0.686         1\n",
      "CAMK2G 0.0007414869 -0.1918379 0.110 0.326         1\n",
      "ADCK1  0.0008317750 -0.1987828 0.125 0.360         1\n",
      "[1] \"saved clones 1 5\"\n"
     ]
    },
    {
     "name": "stderr",
     "output_type": "stream",
     "text": [
      "Saving 6.67 x 6.67 in image\n",
      "\n"
     ]
    },
    {
     "name": "stdout",
     "output_type": "stream",
     "text": [
      "[1] \"plotted clones 1 5\"\n",
      "[1] 1 4\n",
      "61 Levels: 0 1 2 3 4 5 6 7 8 9 10 11 12 13 14 15 16 17 18 19 20 21 22 23 ... None\n",
      "[1] \"clones 14\"\n",
      "[1] \"/data2/mito_lineage/output/annotation_clones/data/cd34norm/MTblacklist/DE_large/donor1/clones_1__4.DE.GeneActivity.csv\"\n",
      "              p_val avg_log2FC pct.1 pct.2 p_val_adj\n",
      "RNF125 0.0001070393  0.1221288 0.075 0.006         1\n",
      "LARP4B 0.0001470597  0.2786002 0.380 0.224         1\n",
      "PRDX4  0.0002151506  0.1030763 0.095 0.017         1\n",
      "NCEH1  0.0002176691  0.2864782 0.320 0.207         1\n",
      "GOLGA5 0.0002498543  0.1255797 0.125 0.040         1\n",
      "PYGO1  0.0003479700 -0.1155748 0.020 0.092         1\n",
      "[1] \"saved clones 1 4\"\n"
     ]
    },
    {
     "name": "stderr",
     "output_type": "stream",
     "text": [
      "Saving 6.67 x 6.67 in image\n",
      "\n"
     ]
    },
    {
     "name": "stdout",
     "output_type": "stream",
     "text": [
      "[1] \"plotted clones 1 4\"\n",
      "[1] 1 8\n",
      "61 Levels: 0 1 2 3 4 5 6 7 8 9 10 11 12 13 14 15 16 17 18 19 20 21 22 23 ... None\n",
      "[1] \"clones 15\"\n",
      "[1] \"/data2/mito_lineage/output/annotation_clones/data/cd34norm/MTblacklist/DE_large/donor1/clones_1__8.DE.GeneActivity.csv\"\n",
      "              p_val avg_log2FC pct.1 pct.2 p_val_adj\n",
      "SLC7A7 9.463065e-06  0.2256685 0.225 0.105 0.1893559\n",
      "FNDC3B 2.630946e-05  0.3781489 0.840 0.725 0.5264523\n",
      "KIF9   2.936654e-04 -0.2563746 0.110 0.248 1.0000000\n",
      "EFCAB6 4.049717e-04  0.2400536 0.630 0.458 1.0000000\n",
      "ANO6   4.433561e-04  0.3140043 0.635 0.497 1.0000000\n",
      "ATXN2L 6.890453e-04 -0.1637208 0.080 0.203 1.0000000\n",
      "[1] \"saved clones 1 8\"\n"
     ]
    },
    {
     "name": "stderr",
     "output_type": "stream",
     "text": [
      "Saving 6.67 x 6.67 in image\n",
      "\n"
     ]
    },
    {
     "name": "stdout",
     "output_type": "stream",
     "text": [
      "[1] \"plotted clones 1 8\"\n",
      "[1] 1 6\n",
      "61 Levels: 0 1 2 3 4 5 6 7 8 9 10 11 12 13 14 15 16 17 18 19 20 21 22 23 ... None\n",
      "[1] \"clones 16\"\n",
      "[1] \"/data2/mito_lineage/output/annotation_clones/data/cd34norm/MTblacklist/DE_large/donor1/clones_1__6.DE.GeneActivity.csv\"\n",
      "               p_val avg_log2FC pct.1 pct.2 p_val_adj\n",
      "SCARB2  4.164452e-05 -0.1993105 0.115 0.393 0.8333068\n",
      "SLC17A4 1.456765e-04  0.1313980 0.085 0.006 1.0000000\n",
      "GNMT    1.694050e-04 -0.1522837 0.060 0.232 1.0000000\n",
      "ANPEP   4.643497e-04  0.1615160 0.205 0.179 1.0000000\n",
      "PYGO1   4.678257e-04 -0.1064496 0.020 0.119 1.0000000\n",
      "DPCD    4.720367e-04 -0.1524081 0.070 0.250 1.0000000\n",
      "[1] \"saved clones 1 6\"\n"
     ]
    },
    {
     "name": "stderr",
     "output_type": "stream",
     "text": [
      "Saving 6.67 x 6.67 in image\n",
      "\n"
     ]
    },
    {
     "name": "stdout",
     "output_type": "stream",
     "text": [
      "[1] \"plotted clones 1 6\"\n",
      "[1] 1  10\n",
      "61 Levels: 0 1 2 3 4 5 6 7 8 9 10 11 12 13 14 15 16 17 18 19 20 21 22 23 ... None\n",
      "[1] \"clones 17\"\n",
      "[1] \"/data2/mito_lineage/output/annotation_clones/data/cd34norm/MTblacklist/DE_large/donor1/clones_1__10.DE.GeneActivity.csv\"\n",
      "               p_val avg_log2FC pct.1 pct.2 p_val_adj\n",
      "S100A13 7.631174e-05 -0.1441708 0.025 0.155         1\n",
      "ADAR    1.174903e-04  0.1702348 0.185 0.116         1\n",
      "CD97    1.550322e-04  0.1516232 0.185 0.109         1\n",
      "FMN2    2.399643e-04 -0.3272375 0.310 0.574         1\n",
      "UBE3D   2.909631e-04 -0.2058036 0.155 0.364         1\n",
      "IL22RA1 3.592012e-04  0.1133401 0.110 0.047         1\n",
      "[1] \"saved clones 1 10\"\n"
     ]
    },
    {
     "name": "stderr",
     "output_type": "stream",
     "text": [
      "Saving 6.67 x 6.67 in image\n",
      "\n"
     ]
    },
    {
     "name": "stdout",
     "output_type": "stream",
     "text": [
      "[1] \"plotted clones 1 10\"\n",
      "[1] 1  19\n",
      "61 Levels: 0 1 2 3 4 5 6 7 8 9 10 11 12 13 14 15 16 17 18 19 20 21 22 23 ... None\n",
      "[1] \"clones 18\"\n"
     ]
    },
    {
     "name": "stderr",
     "output_type": "stream",
     "text": [
      "Warning message:\n",
      "“glm.fit: fitted probabilities numerically 0 or 1 occurred”\n",
      "Warning message:\n",
      "“glm.fit: fitted probabilities numerically 0 or 1 occurred”\n",
      "Warning message:\n",
      "“glm.fit: fitted probabilities numerically 0 or 1 occurred”\n",
      "Warning message:\n",
      "“glm.fit: fitted probabilities numerically 0 or 1 occurred”\n",
      "Warning message:\n",
      "“glm.fit: fitted probabilities numerically 0 or 1 occurred”\n",
      "Warning message:\n",
      "“glm.fit: fitted probabilities numerically 0 or 1 occurred”\n",
      "Warning message:\n",
      "“glm.fit: fitted probabilities numerically 0 or 1 occurred”\n",
      "Warning message:\n",
      "“glm.fit: fitted probabilities numerically 0 or 1 occurred”\n",
      "Warning message:\n",
      "“glm.fit: fitted probabilities numerically 0 or 1 occurred”\n",
      "Warning message:\n",
      "“glm.fit: fitted probabilities numerically 0 or 1 occurred”\n",
      "Warning message:\n",
      "“glm.fit: fitted probabilities numerically 0 or 1 occurred”\n",
      "Warning message:\n",
      "“glm.fit: fitted probabilities numerically 0 or 1 occurred”\n",
      "Warning message:\n",
      "“glm.fit: fitted probabilities numerically 0 or 1 occurred”\n",
      "Warning message:\n",
      "“glm.fit: fitted probabilities numerically 0 or 1 occurred”\n",
      "Warning message:\n",
      "“glm.fit: fitted probabilities numerically 0 or 1 occurred”\n",
      "Warning message:\n",
      "“glm.fit: fitted probabilities numerically 0 or 1 occurred”\n",
      "Warning message:\n",
      "“glm.fit: fitted probabilities numerically 0 or 1 occurred”\n",
      "Warning message:\n",
      "“glm.fit: fitted probabilities numerically 0 or 1 occurred”\n",
      "Warning message:\n",
      "“glm.fit: fitted probabilities numerically 0 or 1 occurred”\n",
      "Warning message:\n",
      "“glm.fit: fitted probabilities numerically 0 or 1 occurred”\n",
      "Warning message:\n",
      "“glm.fit: fitted probabilities numerically 0 or 1 occurred”\n",
      "Warning message:\n",
      "“glm.fit: fitted probabilities numerically 0 or 1 occurred”\n",
      "Warning message:\n",
      "“glm.fit: fitted probabilities numerically 0 or 1 occurred”\n",
      "Warning message:\n",
      "“glm.fit: fitted probabilities numerically 0 or 1 occurred”\n",
      "Warning message:\n",
      "“glm.fit: fitted probabilities numerically 0 or 1 occurred”\n",
      "Warning message:\n",
      "“glm.fit: fitted probabilities numerically 0 or 1 occurred”\n",
      "Warning message:\n",
      "“glm.fit: fitted probabilities numerically 0 or 1 occurred”\n",
      "Warning message:\n",
      "“glm.fit: fitted probabilities numerically 0 or 1 occurred”\n",
      "Warning message:\n",
      "“glm.fit: fitted probabilities numerically 0 or 1 occurred”\n",
      "Warning message:\n",
      "“glm.fit: fitted probabilities numerically 0 or 1 occurred”\n",
      "Warning message:\n",
      "“glm.fit: fitted probabilities numerically 0 or 1 occurred”\n",
      "Warning message:\n",
      "“glm.fit: fitted probabilities numerically 0 or 1 occurred”\n",
      "Warning message:\n",
      "“glm.fit: fitted probabilities numerically 0 or 1 occurred”\n",
      "Warning message:\n",
      "“glm.fit: fitted probabilities numerically 0 or 1 occurred”\n"
     ]
    },
    {
     "name": "stdout",
     "output_type": "stream",
     "text": [
      "[1] \"/data2/mito_lineage/output/annotation_clones/data/cd34norm/MTblacklist/DE_large/donor1/clones_1__19.DE.GeneActivity.csv\"\n",
      "              p_val avg_log2FC pct.1 pct.2 p_val_adj\n",
      "PRPS2  0.0001266339  0.1743648 0.110 0.000         1\n",
      "PROM1  0.0002026211 -0.3555605 0.295 0.344         1\n",
      "ATXN1  0.0002543789  0.4504602 0.765 0.375         1\n",
      "NHLRC3 0.0002900123 -0.1091675 0.015 0.073         1\n",
      "GCKR   0.0003435144  0.1633541 0.105 0.000         1\n",
      "RTKN2  0.0003510324  0.1944952 0.135 0.010         1\n",
      "[1] \"saved clones 1 19\"\n"
     ]
    },
    {
     "name": "stderr",
     "output_type": "stream",
     "text": [
      "Saving 6.67 x 6.67 in image\n",
      "\n"
     ]
    },
    {
     "name": "stdout",
     "output_type": "stream",
     "text": [
      "[1] \"plotted clones 1 19\"\n",
      "[1] 1  13\n",
      "61 Levels: 0 1 2 3 4 5 6 7 8 9 10 11 12 13 14 15 16 17 18 19 20 21 22 23 ... None\n",
      "[1] \"clones 19\"\n",
      "[1] \"/data2/mito_lineage/output/annotation_clones/data/cd34norm/MTblacklist/DE_large/donor1/clones_1__13.DE.GeneActivity.csv\"\n",
      "              p_val avg_log2FC pct.1 pct.2 p_val_adj\n",
      "RNASE1 2.117191e-05 -0.2938230 0.105 0.287 0.4236500\n",
      "LRP2BP 2.869104e-05 -0.1638590 0.025 0.115 0.5741078\n",
      "HPGD   5.106953e-05 -0.1492779 0.020 0.107 1.0000000\n",
      "MCUR1  1.009274e-04  0.1779623 0.165 0.041 1.0000000\n",
      "KCNH2  1.622824e-04  0.1387641 0.110 0.016 1.0000000\n",
      "UHRF2  1.732365e-04  0.2824163 0.415 0.238 1.0000000\n",
      "[1] \"saved clones 1 13\"\n"
     ]
    },
    {
     "name": "stderr",
     "output_type": "stream",
     "text": [
      "Saving 6.67 x 6.67 in image\n",
      "\n"
     ]
    },
    {
     "name": "stdout",
     "output_type": "stream",
     "text": [
      "[1] \"plotted clones 1 13\"\n",
      "[1] 2 3\n",
      "61 Levels: 0 1 2 3 4 5 6 7 8 9 10 11 12 13 14 15 16 17 18 19 20 21 22 23 ... None\n",
      "[1] \"clones 20\"\n",
      "[1] \"/data2/mito_lineage/output/annotation_clones/data/cd34norm/MTblacklist/DE_large/donor1/clones_2__3.DE.GeneActivity.csv\"\n",
      "               p_val avg_log2FC pct.1 pct.2 p_val_adj\n",
      "KRBOX1  9.724553e-06  0.3056593 0.439 0.256 0.1945883\n",
      "TPH2    1.167590e-04 -0.2829441 0.153 0.328 1.0000000\n",
      "CCDC57  1.310785e-04 -0.2341145 0.158 0.322 1.0000000\n",
      "ABL2    1.437907e-04  0.2737648 0.474 0.333 1.0000000\n",
      "GAREML  2.210639e-04  0.1264422 0.107 0.033 1.0000000\n",
      "C18orf8 3.436126e-04  0.1031534 0.133 0.061 1.0000000\n",
      "[1] \"saved clones 2 3\"\n"
     ]
    },
    {
     "name": "stderr",
     "output_type": "stream",
     "text": [
      "Saving 6.67 x 6.67 in image\n",
      "\n"
     ]
    },
    {
     "name": "stdout",
     "output_type": "stream",
     "text": [
      "[1] \"plotted clones 2 3\"\n",
      "[1] 2 5\n",
      "61 Levels: 0 1 2 3 4 5 6 7 8 9 10 11 12 13 14 15 16 17 18 19 20 21 22 23 ... None\n",
      "[1] \"clones 21\"\n",
      "[1] \"/data2/mito_lineage/output/annotation_clones/data/cd34norm/MTblacklist/DE_large/donor1/clones_2__5.DE.GeneActivity.csv\"\n",
      "              p_val avg_log2FC pct.1 pct.2 p_val_adj\n",
      "ZMIZ2  5.721785e-05 -0.1954455 0.112 0.355         1\n",
      "PDE11A 1.642698e-04 -0.2844291 0.592 0.837         1\n",
      "NR5A1  1.701815e-04 -0.1187286 0.026 0.186         1\n",
      "PRR4   2.203936e-04 -0.2247639 0.347 0.669         1\n",
      "ZNF653 2.649616e-04 -0.1419063 0.061 0.233         1\n",
      "NALCN  4.252021e-04 -0.2156022 0.311 0.628         1\n",
      "[1] \"saved clones 2 5\"\n"
     ]
    },
    {
     "name": "stderr",
     "output_type": "stream",
     "text": [
      "Saving 6.67 x 6.67 in image\n",
      "\n"
     ]
    },
    {
     "name": "stdout",
     "output_type": "stream",
     "text": [
      "[1] \"plotted clones 2 5\"\n",
      "[1] 2 4\n",
      "61 Levels: 0 1 2 3 4 5 6 7 8 9 10 11 12 13 14 15 16 17 18 19 20 21 22 23 ... None\n",
      "[1] \"clones 22\"\n",
      "[1] \"/data2/mito_lineage/output/annotation_clones/data/cd34norm/MTblacklist/DE_large/donor1/clones_2__4.DE.GeneActivity.csv\"\n",
      "                p_val avg_log2FC pct.1 pct.2 p_val_adj\n",
      "RNF125   9.582927e-06  0.1637065 0.097 0.006 0.1917544\n",
      "HIST1H1B 2.062339e-05  0.1356708 0.138 0.023 0.4126740\n",
      "DST      2.643344e-05  0.3779067 0.724 0.552 0.5289331\n",
      "GOLGA5   3.772977e-05  0.1778940 0.158 0.040 0.7549727\n",
      "ESPL1    1.091624e-04  0.1972553 0.189 0.057 1.0000000\n",
      "PNKD     1.176342e-04 -0.3005218 0.250 0.391 1.0000000\n",
      "[1] \"saved clones 2 4\"\n"
     ]
    },
    {
     "name": "stderr",
     "output_type": "stream",
     "text": [
      "Saving 6.67 x 6.67 in image\n",
      "\n"
     ]
    },
    {
     "name": "stdout",
     "output_type": "stream",
     "text": [
      "[1] \"plotted clones 2 4\"\n",
      "[1] 2 8\n",
      "61 Levels: 0 1 2 3 4 5 6 7 8 9 10 11 12 13 14 15 16 17 18 19 20 21 22 23 ... None\n",
      "[1] \"clones 23\"\n",
      "[1] \"/data2/mito_lineage/output/annotation_clones/data/cd34norm/MTblacklist/DE_large/donor1/clones_2__8.DE.GeneActivity.csv\"\n",
      "                p_val avg_log2FC pct.1 pct.2 p_val_adj\n",
      "SLC7A7   0.0001101494  0.2100612 0.219 0.105         1\n",
      "CD200R1L 0.0001128971 -0.2487673 0.138 0.281         1\n",
      "KPNA4    0.0001985367 -0.2088869 0.153 0.307         1\n",
      "SERTAD4  0.0002162748 -0.1319719 0.020 0.098         1\n",
      "FAM184A  0.0002224049  0.3348649 0.577 0.431         1\n",
      "MAPRE3   0.0002420106 -0.2476090 0.158 0.294         1\n",
      "[1] \"saved clones 2 8\"\n"
     ]
    },
    {
     "name": "stderr",
     "output_type": "stream",
     "text": [
      "Saving 6.67 x 6.67 in image\n",
      "\n"
     ]
    },
    {
     "name": "stdout",
     "output_type": "stream",
     "text": [
      "[1] \"plotted clones 2 8\"\n",
      "[1] 2 6\n",
      "61 Levels: 0 1 2 3 4 5 6 7 8 9 10 11 12 13 14 15 16 17 18 19 20 21 22 23 ... None\n",
      "[1] \"clones 24\"\n",
      "[1] \"/data2/mito_lineage/output/annotation_clones/data/cd34norm/MTblacklist/DE_large/donor1/clones_2__6.DE.GeneActivity.csv\"\n",
      "                    p_val avg_log2FC pct.1 pct.2 p_val_adj\n",
      "SMG8         3.326095e-05 -0.1204731 0.036 0.149 0.6655517\n",
      "PRPF40B      7.221095e-05 -0.2298814 0.209 0.452 1.0000000\n",
      "TECPR1       1.041135e-04 -0.1576835 0.077 0.238 1.0000000\n",
      "CCDC57       3.080746e-04 -0.2054746 0.158 0.393 1.0000000\n",
      "PLD5         3.999012e-04 -0.2325995 0.306 0.560 1.0000000\n",
      "CTD-2510F5.6 5.976773e-04 -0.1196443 0.061 0.185 1.0000000\n",
      "[1] \"saved clones 2 6\"\n"
     ]
    },
    {
     "name": "stderr",
     "output_type": "stream",
     "text": [
      "Saving 6.67 x 6.67 in image\n",
      "\n"
     ]
    },
    {
     "name": "stdout",
     "output_type": "stream",
     "text": [
      "[1] \"plotted clones 2 6\"\n",
      "[1] 2  10\n",
      "61 Levels: 0 1 2 3 4 5 6 7 8 9 10 11 12 13 14 15 16 17 18 19 20 21 22 23 ... None\n",
      "[1] \"clones 25\"\n",
      "[1] \"/data2/mito_lineage/output/annotation_clones/data/cd34norm/MTblacklist/DE_large/donor1/clones_2__10.DE.GeneActivity.csv\"\n",
      "               p_val avg_log2FC pct.1 pct.2 p_val_adj\n",
      "TMEM247 1.281013e-05 -0.2491443 0.107 0.326 0.2563308\n",
      "C2orf88 1.753824e-05 -0.3453861 0.653 0.884 0.3509401\n",
      "TBX5    8.503252e-05  0.1085564 0.133 0.039 1.0000000\n",
      "CUEDC1  1.316136e-04  0.2039881 0.224 0.124 1.0000000\n",
      "C6      1.351728e-04 -0.2135628 0.077 0.271 1.0000000\n",
      "GNG4    1.498871e-04 -0.2185619 0.168 0.403 1.0000000\n",
      "[1] \"saved clones 2 10\"\n"
     ]
    },
    {
     "name": "stderr",
     "output_type": "stream",
     "text": [
      "Saving 6.67 x 6.67 in image\n",
      "\n"
     ]
    },
    {
     "name": "stdout",
     "output_type": "stream",
     "text": [
      "[1] \"plotted clones 2 10\"\n",
      "[1] 2  19\n",
      "61 Levels: 0 1 2 3 4 5 6 7 8 9 10 11 12 13 14 15 16 17 18 19 20 21 22 23 ... None\n",
      "[1] \"clones 26\"\n"
     ]
    },
    {
     "name": "stderr",
     "output_type": "stream",
     "text": [
      "Warning message:\n",
      "“glm.fit: fitted probabilities numerically 0 or 1 occurred”\n",
      "Warning message:\n",
      "“glm.fit: fitted probabilities numerically 0 or 1 occurred”\n",
      "Warning message:\n",
      "“glm.fit: fitted probabilities numerically 0 or 1 occurred”\n",
      "Warning message:\n",
      "“glm.fit: fitted probabilities numerically 0 or 1 occurred”\n",
      "Warning message:\n",
      "“glm.fit: fitted probabilities numerically 0 or 1 occurred”\n",
      "Warning message:\n",
      "“glm.fit: fitted probabilities numerically 0 or 1 occurred”\n",
      "Warning message:\n",
      "“glm.fit: fitted probabilities numerically 0 or 1 occurred”\n",
      "Warning message:\n",
      "“glm.fit: fitted probabilities numerically 0 or 1 occurred”\n",
      "Warning message:\n",
      "“glm.fit: fitted probabilities numerically 0 or 1 occurred”\n",
      "Warning message:\n",
      "“glm.fit: fitted probabilities numerically 0 or 1 occurred”\n",
      "Warning message:\n",
      "“glm.fit: fitted probabilities numerically 0 or 1 occurred”\n",
      "Warning message:\n",
      "“glm.fit: fitted probabilities numerically 0 or 1 occurred”\n",
      "Warning message:\n",
      "“glm.fit: fitted probabilities numerically 0 or 1 occurred”\n",
      "Warning message:\n",
      "“glm.fit: fitted probabilities numerically 0 or 1 occurred”\n",
      "Warning message:\n",
      "“glm.fit: fitted probabilities numerically 0 or 1 occurred”\n",
      "Warning message:\n",
      "“glm.fit: fitted probabilities numerically 0 or 1 occurred”\n",
      "Warning message:\n",
      "“glm.fit: fitted probabilities numerically 0 or 1 occurred”\n",
      "Warning message:\n",
      "“glm.fit: fitted probabilities numerically 0 or 1 occurred”\n",
      "Warning message:\n",
      "“glm.fit: fitted probabilities numerically 0 or 1 occurred”\n",
      "Warning message:\n",
      "“glm.fit: fitted probabilities numerically 0 or 1 occurred”\n",
      "Warning message:\n",
      "“glm.fit: fitted probabilities numerically 0 or 1 occurred”\n",
      "Warning message:\n",
      "“glm.fit: fitted probabilities numerically 0 or 1 occurred”\n",
      "Warning message:\n",
      "“glm.fit: fitted probabilities numerically 0 or 1 occurred”\n",
      "Warning message:\n",
      "“glm.fit: fitted probabilities numerically 0 or 1 occurred”\n",
      "Warning message:\n",
      "“glm.fit: fitted probabilities numerically 0 or 1 occurred”\n",
      "Warning message:\n",
      "“glm.fit: fitted probabilities numerically 0 or 1 occurred”\n",
      "Warning message:\n",
      "“glm.fit: fitted probabilities numerically 0 or 1 occurred”\n",
      "Warning message:\n",
      "“glm.fit: fitted probabilities numerically 0 or 1 occurred”\n",
      "Warning message:\n",
      "“glm.fit: fitted probabilities numerically 0 or 1 occurred”\n",
      "Warning message:\n",
      "“glm.fit: fitted probabilities numerically 0 or 1 occurred”\n",
      "Warning message:\n",
      "“glm.fit: fitted probabilities numerically 0 or 1 occurred”\n",
      "Warning message:\n",
      "“glm.fit: fitted probabilities numerically 0 or 1 occurred”\n",
      "Warning message:\n",
      "“glm.fit: fitted probabilities numerically 0 or 1 occurred”\n",
      "Warning message:\n",
      "“glm.fit: fitted probabilities numerically 0 or 1 occurred”\n",
      "Warning message:\n",
      "“glm.fit: fitted probabilities numerically 0 or 1 occurred”\n",
      "Warning message:\n",
      "“glm.fit: fitted probabilities numerically 0 or 1 occurred”\n",
      "Warning message:\n",
      "“glm.fit: fitted probabilities numerically 0 or 1 occurred”\n"
     ]
    },
    {
     "name": "stdout",
     "output_type": "stream",
     "text": [
      "[1] \"/data2/mito_lineage/output/annotation_clones/data/cd34norm/MTblacklist/DE_large/donor1/clones_2__19.DE.GeneActivity.csv\"\n",
      "               p_val avg_log2FC pct.1 pct.2    p_val_adj\n",
      "LLPH    1.820489e-15 -0.1307503 0.005 0.031 3.642798e-11\n",
      "COMP    1.761073e-05 -0.1151635 0.026 0.094 3.523907e-01\n",
      "MMS19   1.303259e-04  0.2435317 0.158 0.010 1.000000e+00\n",
      "CEP104  1.486764e-04 -0.1880620 0.071 0.115 1.000000e+00\n",
      "IL12RB2 1.615750e-04 -0.1361983 0.138 0.177 1.000000e+00\n",
      "BTK     1.820360e-04  0.1832038 0.102 0.000 1.000000e+00\n",
      "[1] \"saved clones 2 19\"\n"
     ]
    },
    {
     "name": "stderr",
     "output_type": "stream",
     "text": [
      "Saving 6.67 x 6.67 in image\n",
      "\n"
     ]
    },
    {
     "name": "stdout",
     "output_type": "stream",
     "text": [
      "[1] \"plotted clones 2 19\"\n",
      "[1] 2  13\n",
      "61 Levels: 0 1 2 3 4 5 6 7 8 9 10 11 12 13 14 15 16 17 18 19 20 21 22 23 ... None\n",
      "[1] \"clones 27\"\n",
      "[1] \"/data2/mito_lineage/output/annotation_clones/data/cd34norm/MTblacklist/DE_large/donor1/clones_2__13.DE.GeneActivity.csv\"\n",
      "              p_val avg_log2FC pct.1 pct.2 p_val_adj\n",
      "MAML1  1.815542e-05  0.1425119 0.122 0.008 0.3632899\n",
      "SPRYD7 3.456341e-05 -0.2009919 0.015 0.115 0.6916138\n",
      "NPC1   7.103963e-05 -0.2574201 0.214 0.410 1.0000000\n",
      "SLAMF7 2.897751e-04  0.1941787 0.199 0.057 1.0000000\n",
      "ACP2   3.937811e-04 -0.1827024 0.102 0.246 1.0000000\n",
      "LHFPL5 3.997584e-04 -0.1120480 0.026 0.115 1.0000000\n",
      "[1] \"saved clones 2 13\"\n"
     ]
    },
    {
     "name": "stderr",
     "output_type": "stream",
     "text": [
      "Saving 6.67 x 6.67 in image\n",
      "\n"
     ]
    },
    {
     "name": "stdout",
     "output_type": "stream",
     "text": [
      "[1] \"plotted clones 2 13\"\n",
      "[1] 3 5\n",
      "61 Levels: 0 1 2 3 4 5 6 7 8 9 10 11 12 13 14 15 16 17 18 19 20 21 22 23 ... None\n",
      "[1] \"clones 28\"\n",
      "[1] \"/data2/mito_lineage/output/annotation_clones/data/cd34norm/MTblacklist/DE_large/donor1/clones_3__5.DE.GeneActivity.csv\"\n",
      "               p_val avg_log2FC pct.1 pct.2 p_val_adj\n",
      "PRRC2C  5.005935e-05 -0.2815189 0.256 0.512         1\n",
      "MYL5    1.689237e-04 -0.1007641 0.028 0.157         1\n",
      "ACTR5   2.120657e-04 -0.1188153 0.039 0.209         1\n",
      "C18orf8 3.607343e-04 -0.1376804 0.061 0.198         1\n",
      "RECQL   4.476080e-04 -0.1191943 0.056 0.250         1\n",
      "ORC5    5.394727e-04  0.1521215 0.172 0.099         1\n",
      "[1] \"saved clones 3 5\"\n"
     ]
    },
    {
     "name": "stderr",
     "output_type": "stream",
     "text": [
      "Saving 6.67 x 6.67 in image\n",
      "\n"
     ]
    },
    {
     "name": "stdout",
     "output_type": "stream",
     "text": [
      "[1] \"plotted clones 3 5\"\n",
      "[1] 3 4\n",
      "61 Levels: 0 1 2 3 4 5 6 7 8 9 10 11 12 13 14 15 16 17 18 19 20 21 22 23 ... None\n",
      "[1] \"clones 29\"\n"
     ]
    },
    {
     "name": "stderr",
     "output_type": "stream",
     "text": [
      "Warning message:\n",
      "“glm.fit: fitted probabilities numerically 0 or 1 occurred”\n",
      "Warning message:\n",
      "“glm.fit: fitted probabilities numerically 0 or 1 occurred”\n"
     ]
    },
    {
     "name": "stdout",
     "output_type": "stream",
     "text": [
      "[1] \"/data2/mito_lineage/output/annotation_clones/data/cd34norm/MTblacklist/DE_large/donor1/clones_3__4.DE.GeneActivity.csv\"\n",
      "                p_val avg_log2FC pct.1 pct.2 p_val_adj\n",
      "PNP      7.084995e-06  0.1566717 0.089 0.000 0.1417708\n",
      "TMEM26   1.054217e-04  0.2407132 0.222 0.069 1.0000000\n",
      "COL4A3BP 1.351424e-04 -0.3277877 0.239 0.322 1.0000000\n",
      "CES4A    1.414424e-04 -0.1722565 0.067 0.155 1.0000000\n",
      "CCDC125  1.619453e-04  0.1066735 0.094 0.017 1.0000000\n",
      "SMAP1    3.459721e-04  0.2506227 0.389 0.207 1.0000000\n",
      "[1] \"saved clones 3 4\"\n"
     ]
    },
    {
     "name": "stderr",
     "output_type": "stream",
     "text": [
      "Saving 6.67 x 6.67 in image\n",
      "\n"
     ]
    },
    {
     "name": "stdout",
     "output_type": "stream",
     "text": [
      "[1] \"plotted clones 3 4\"\n",
      "[1] 3 8\n",
      "61 Levels: 0 1 2 3 4 5 6 7 8 9 10 11 12 13 14 15 16 17 18 19 20 21 22 23 ... None\n",
      "[1] \"clones 30\"\n",
      "[1] \"/data2/mito_lineage/output/annotation_clones/data/cd34norm/MTblacklist/DE_large/donor1/clones_3__8.DE.GeneActivity.csv\"\n",
      "               p_val avg_log2FC pct.1 pct.2 p_val_adj\n",
      "SLC7A7  1.918609e-05  0.2190357 0.261 0.105 0.3839137\n",
      "AKR1B15 2.440477e-05  0.1120480 0.106 0.007 0.4883394\n",
      "CNIH4   1.589407e-04 -0.1689741 0.122 0.268 1.0000000\n",
      "ACVR1   1.618820e-04 -0.2724591 0.233 0.366 1.0000000\n",
      "QTRTD1  2.779407e-04 -0.2481163 0.278 0.444 1.0000000\n",
      "IL26    3.138111e-04  0.2050141 0.200 0.098 1.0000000\n",
      "[1] \"saved clones 3 8\"\n"
     ]
    },
    {
     "name": "stderr",
     "output_type": "stream",
     "text": [
      "Saving 6.67 x 6.67 in image\n",
      "\n"
     ]
    },
    {
     "name": "stdout",
     "output_type": "stream",
     "text": [
      "[1] \"plotted clones 3 8\"\n",
      "[1] 3 6\n",
      "61 Levels: 0 1 2 3 4 5 6 7 8 9 10 11 12 13 14 15 16 17 18 19 20 21 22 23 ... None\n",
      "[1] \"clones 31\"\n",
      "[1] \"/data2/mito_lineage/output/annotation_clones/data/cd34norm/MTblacklist/DE_large/donor1/clones_3__6.DE.GeneActivity.csv\"\n",
      "                    p_val avg_log2FC pct.1 pct.2 p_val_adj\n",
      "EED          1.269092e-05 -0.1873207 0.089 0.274 0.2539453\n",
      "AR           1.414198e-04  0.1965771 0.183 0.077 1.0000000\n",
      "RP11-723G8.2 1.825266e-04  0.1181261 0.122 0.024 1.0000000\n",
      "ZNF783       1.880231e-04 -0.2362153 0.167 0.363 1.0000000\n",
      "ALS2         2.116901e-04 -0.2181646 0.206 0.417 1.0000000\n",
      "KRBOX1       2.287090e-04 -0.2531130 0.256 0.494 1.0000000\n",
      "[1] \"saved clones 3 6\"\n"
     ]
    },
    {
     "name": "stderr",
     "output_type": "stream",
     "text": [
      "Saving 6.67 x 6.67 in image\n",
      "\n"
     ]
    },
    {
     "name": "stdout",
     "output_type": "stream",
     "text": [
      "[1] \"plotted clones 3 6\"\n",
      "[1] 3  10\n",
      "61 Levels: 0 1 2 3 4 5 6 7 8 9 10 11 12 13 14 15 16 17 18 19 20 21 22 23 ... None\n",
      "[1] \"clones 32\"\n",
      "[1] \"/data2/mito_lineage/output/annotation_clones/data/cd34norm/MTblacklist/DE_large/donor1/clones_3__10.DE.GeneActivity.csv\"\n",
      "                p_val avg_log2FC pct.1 pct.2 p_val_adj\n",
      "C18orf8  1.179899e-05 -0.1558594 0.061 0.202 0.2360978\n",
      "COL24A1  6.438523e-05 -0.3271474 0.539 0.775 1.0000000\n",
      "COL4A3BP 1.290602e-04 -0.2567931 0.239 0.481 1.0000000\n",
      "ACTN2    1.450531e-04 -0.2606289 0.144 0.372 1.0000000\n",
      "PALLD    2.349500e-04 -0.3132185 0.578 0.783 1.0000000\n",
      "METTL7A  2.581413e-04 -0.1098870 0.033 0.155 1.0000000\n",
      "[1] \"saved clones 3 10\"\n"
     ]
    },
    {
     "name": "stderr",
     "output_type": "stream",
     "text": [
      "Saving 6.67 x 6.67 in image\n",
      "\n"
     ]
    },
    {
     "name": "stdout",
     "output_type": "stream",
     "text": [
      "[1] \"plotted clones 3 10\"\n",
      "[1] 3  19\n",
      "61 Levels: 0 1 2 3 4 5 6 7 8 9 10 11 12 13 14 15 16 17 18 19 20 21 22 23 ... None\n",
      "[1] \"clones 33\"\n"
     ]
    },
    {
     "name": "stderr",
     "output_type": "stream",
     "text": [
      "Warning message:\n",
      "“glm.fit: fitted probabilities numerically 0 or 1 occurred”\n",
      "Warning message:\n",
      "“glm.fit: fitted probabilities numerically 0 or 1 occurred”\n",
      "Warning message:\n",
      "“glm.fit: fitted probabilities numerically 0 or 1 occurred”\n",
      "Warning message:\n",
      "“glm.fit: fitted probabilities numerically 0 or 1 occurred”\n",
      "Warning message:\n",
      "“glm.fit: fitted probabilities numerically 0 or 1 occurred”\n",
      "Warning message:\n",
      "“glm.fit: fitted probabilities numerically 0 or 1 occurred”\n",
      "Warning message:\n",
      "“glm.fit: fitted probabilities numerically 0 or 1 occurred”\n",
      "Warning message:\n",
      "“glm.fit: fitted probabilities numerically 0 or 1 occurred”\n",
      "Warning message:\n",
      "“glm.fit: fitted probabilities numerically 0 or 1 occurred”\n",
      "Warning message:\n",
      "“glm.fit: fitted probabilities numerically 0 or 1 occurred”\n",
      "Warning message:\n",
      "“glm.fit: fitted probabilities numerically 0 or 1 occurred”\n",
      "Warning message:\n",
      "“glm.fit: fitted probabilities numerically 0 or 1 occurred”\n",
      "Warning message:\n",
      "“glm.fit: fitted probabilities numerically 0 or 1 occurred”\n",
      "Warning message:\n",
      "“glm.fit: fitted probabilities numerically 0 or 1 occurred”\n",
      "Warning message:\n",
      "“glm.fit: fitted probabilities numerically 0 or 1 occurred”\n",
      "Warning message:\n",
      "“glm.fit: fitted probabilities numerically 0 or 1 occurred”\n",
      "Warning message:\n",
      "“glm.fit: fitted probabilities numerically 0 or 1 occurred”\n",
      "Warning message:\n",
      "“glm.fit: fitted probabilities numerically 0 or 1 occurred”\n",
      "Warning message:\n",
      "“glm.fit: fitted probabilities numerically 0 or 1 occurred”\n",
      "Warning message:\n",
      "“glm.fit: fitted probabilities numerically 0 or 1 occurred”\n",
      "Warning message:\n",
      "“glm.fit: fitted probabilities numerically 0 or 1 occurred”\n",
      "Warning message:\n",
      "“glm.fit: fitted probabilities numerically 0 or 1 occurred”\n",
      "Warning message:\n",
      "“glm.fit: fitted probabilities numerically 0 or 1 occurred”\n",
      "Warning message:\n",
      "“glm.fit: fitted probabilities numerically 0 or 1 occurred”\n",
      "Warning message:\n",
      "“glm.fit: fitted probabilities numerically 0 or 1 occurred”\n",
      "Warning message:\n",
      "“glm.fit: fitted probabilities numerically 0 or 1 occurred”\n"
     ]
    },
    {
     "name": "stdout",
     "output_type": "stream",
     "text": [
      "[1] \"/data2/mito_lineage/output/annotation_clones/data/cd34norm/MTblacklist/DE_large/donor1/clones_3__19.DE.GeneActivity.csv\"\n",
      "                    p_val avg_log2FC pct.1 pct.2  p_val_adj\n",
      "COMP         2.380238e-06 -0.1223344 0.011 0.094 0.04762856\n",
      "C18orf8      1.028791e-05 -0.2533269 0.061 0.115 0.20586115\n",
      "SETBP1       2.482804e-05 -0.5417602 0.278 0.333 0.49680902\n",
      "MGAT5B       1.039065e-04 -0.2193407 0.183 0.188 1.00000000\n",
      "RP11-176H8.1 2.918341e-04  0.2929883 0.217 0.031 1.00000000\n",
      "EEA1         3.480109e-04 -0.3362622 0.311 0.302 1.00000000\n",
      "[1] \"saved clones 3 19\"\n"
     ]
    },
    {
     "name": "stderr",
     "output_type": "stream",
     "text": [
      "Saving 6.67 x 6.67 in image\n",
      "\n"
     ]
    },
    {
     "name": "stdout",
     "output_type": "stream",
     "text": [
      "[1] \"plotted clones 3 19\"\n",
      "[1] 3  13\n",
      "61 Levels: 0 1 2 3 4 5 6 7 8 9 10 11 12 13 14 15 16 17 18 19 20 21 22 23 ... None\n",
      "[1] \"clones 34\"\n",
      "[1] \"/data2/mito_lineage/output/annotation_clones/data/cd34norm/MTblacklist/DE_large/donor1/clones_3__13.DE.GeneActivity.csv\"\n",
      "               p_val avg_log2FC pct.1 pct.2   p_val_adj\n",
      "C18orf8 3.549447e-07 -0.2109852 0.061 0.197 0.007102443\n",
      "PLEC    9.416473e-05  0.2709164 0.244 0.090 1.000000000\n",
      "MGAT5B  1.103923e-04 -0.2657786 0.183 0.270 1.000000000\n",
      "ZRANB2  1.340686e-04 -0.1213827 0.017 0.107 1.000000000\n",
      "CHP1    1.712919e-04  0.2088817 0.211 0.066 1.000000000\n",
      "DIEXF   1.820029e-04 -0.1526965 0.011 0.082 1.000000000\n",
      "[1] \"saved clones 3 13\"\n"
     ]
    },
    {
     "name": "stderr",
     "output_type": "stream",
     "text": [
      "Saving 6.67 x 6.67 in image\n",
      "\n"
     ]
    },
    {
     "name": "stdout",
     "output_type": "stream",
     "text": [
      "[1] \"plotted clones 3 13\"\n",
      "[1] 5 4\n",
      "61 Levels: 0 1 2 3 4 5 6 7 8 9 10 11 12 13 14 15 16 17 18 19 20 21 22 23 ... None\n",
      "[1] \"clones 35\"\n"
     ]
    },
    {
     "name": "stderr",
     "output_type": "stream",
     "text": [
      "Warning message:\n",
      "“glm.fit: fitted probabilities numerically 0 or 1 occurred”\n"
     ]
    },
    {
     "name": "stdout",
     "output_type": "stream",
     "text": [
      "[1] \"/data2/mito_lineage/output/annotation_clones/data/cd34norm/MTblacklist/DE_large/donor1/clones_5__4.DE.GeneActivity.csv\"\n",
      "               p_val avg_log2FC pct.1 pct.2 p_val_adj\n",
      "GOLGA5  0.0001096748  0.1548103 0.256 0.040         1\n",
      "CHRNB4  0.0001302399 -0.2233720 0.308 0.310         1\n",
      "ZNF644  0.0003848261  0.1919494 0.407 0.138         1\n",
      "FAM179A 0.0004445636  0.2150109 0.355 0.115         1\n",
      "AGTRAP  0.0005309461  0.1556679 0.326 0.075         1\n",
      "DHX34   0.0005677830  0.1111736 0.145 0.017         1\n",
      "[1] \"saved clones 5 4\"\n"
     ]
    },
    {
     "name": "stderr",
     "output_type": "stream",
     "text": [
      "Saving 6.67 x 6.67 in image\n",
      "\n"
     ]
    },
    {
     "name": "stdout",
     "output_type": "stream",
     "text": [
      "[1] \"plotted clones 5 4\"\n",
      "[1] 5 8\n",
      "61 Levels: 0 1 2 3 4 5 6 7 8 9 10 11 12 13 14 15 16 17 18 19 20 21 22 23 ... None\n",
      "[1] \"clones 36\"\n",
      "[1] \"/data2/mito_lineage/output/annotation_clones/data/cd34norm/MTblacklist/DE_large/donor1/clones_5__8.DE.GeneActivity.csv\"\n",
      "               p_val avg_log2FC pct.1 pct.2 p_val_adj\n",
      "AGTRAP  4.817609e-05  0.1798984 0.326 0.098 0.9640035\n",
      "VWA1    1.530269e-04 -0.1498414 0.128 0.222 1.0000000\n",
      "DIRC1   3.088582e-04  0.1883805 0.343 0.111 1.0000000\n",
      "PAFAH2  3.398641e-04 -0.2395816 0.297 0.320 1.0000000\n",
      "TEN1    3.789815e-04  0.1098625 0.110 0.013 1.0000000\n",
      "HEATR5A 4.558540e-04 -0.1530731 0.244 0.307 1.0000000\n",
      "[1] \"saved clones 5 8\"\n"
     ]
    },
    {
     "name": "stderr",
     "output_type": "stream",
     "text": [
      "Saving 6.67 x 6.67 in image\n",
      "\n"
     ]
    },
    {
     "name": "stdout",
     "output_type": "stream",
     "text": [
      "[1] \"plotted clones 5 8\"\n",
      "[1] 5 6\n",
      "61 Levels: 0 1 2 3 4 5 6 7 8 9 10 11 12 13 14 15 16 17 18 19 20 21 22 23 ... None\n",
      "[1] \"clones 37\"\n",
      "[1] \"/data2/mito_lineage/output/annotation_clones/data/cd34norm/MTblacklist/DE_large/donor1/clones_5__6.DE.GeneActivity.csv\"\n",
      "               p_val avg_log2FC pct.1 pct.2 p_val_adj\n",
      "PRRC2C  2.776445e-05  0.2716805 0.512 0.315 0.5555667\n",
      "EHBP1   7.013048e-05  0.3299694 0.669 0.452 1.0000000\n",
      "FAM227B 1.028114e-04 -0.2498722 0.622 0.744 1.0000000\n",
      "NALCN   2.313268e-04  0.2483570 0.628 0.411 1.0000000\n",
      "TRIM27  2.665706e-04  0.1056686 0.163 0.030 1.0000000\n",
      "INTS10  3.557247e-04 -0.1508920 0.192 0.304 1.0000000\n",
      "[1] \"saved clones 5 6\"\n"
     ]
    },
    {
     "name": "stderr",
     "output_type": "stream",
     "text": [
      "Saving 6.67 x 6.67 in image\n",
      "\n"
     ]
    },
    {
     "name": "stdout",
     "output_type": "stream",
     "text": [
      "[1] \"plotted clones 5 6\"\n",
      "[1] 5  10\n",
      "61 Levels: 0 1 2 3 4 5 6 7 8 9 10 11 12 13 14 15 16 17 18 19 20 21 22 23 ... None\n",
      "[1] \"clones 38\"\n",
      "[1] \"/data2/mito_lineage/output/annotation_clones/data/cd34norm/MTblacklist/DE_large/donor1/clones_5__10.DE.GeneActivity.csv\"\n",
      "                     p_val avg_log2FC pct.1 pct.2 p_val_adj\n",
      "WASF3         0.0001634972 -0.2259208 0.488 0.605         1\n",
      "CEACAM3       0.0001818419  0.1039069 0.180 0.031         1\n",
      "NRBP1         0.0001855691 -0.1345143 0.099 0.186         1\n",
      "FAM174B       0.0007312867  0.2022612 0.517 0.264         1\n",
      "SCN7A         0.0007952242 -0.1683091 0.215 0.326         1\n",
      "RP11-212D19.4 0.0008484981 -0.1381678 0.140 0.209         1\n",
      "[1] \"saved clones 5 10\"\n"
     ]
    },
    {
     "name": "stderr",
     "output_type": "stream",
     "text": [
      "Saving 6.67 x 6.67 in image\n",
      "\n"
     ]
    },
    {
     "name": "stdout",
     "output_type": "stream",
     "text": [
      "[1] \"plotted clones 5 10\"\n",
      "[1] 5  19\n",
      "61 Levels: 0 1 2 3 4 5 6 7 8 9 10 11 12 13 14 15 16 17 18 19 20 21 22 23 ... None\n",
      "[1] \"clones 39\"\n"
     ]
    },
    {
     "name": "stderr",
     "output_type": "stream",
     "text": [
      "Warning message:\n",
      "“glm.fit: fitted probabilities numerically 0 or 1 occurred”\n",
      "Warning message:\n",
      "“glm.fit: fitted probabilities numerically 0 or 1 occurred”\n",
      "Warning message:\n",
      "“glm.fit: fitted probabilities numerically 0 or 1 occurred”\n",
      "Warning message:\n",
      "“glm.fit: fitted probabilities numerically 0 or 1 occurred”\n",
      "Warning message:\n",
      "“glm.fit: fitted probabilities numerically 0 or 1 occurred”\n",
      "Warning message:\n",
      "“glm.fit: fitted probabilities numerically 0 or 1 occurred”\n",
      "Warning message:\n",
      "“glm.fit: algorithm did not converge”\n",
      "Warning message:\n",
      "“glm.fit: fitted probabilities numerically 0 or 1 occurred”\n",
      "Warning message:\n",
      "“glm.fit: fitted probabilities numerically 0 or 1 occurred”\n",
      "Warning message:\n",
      "“glm.fit: fitted probabilities numerically 0 or 1 occurred”\n",
      "Warning message:\n",
      "“glm.fit: fitted probabilities numerically 0 or 1 occurred”\n",
      "Warning message:\n",
      "“glm.fit: fitted probabilities numerically 0 or 1 occurred”\n",
      "Warning message:\n",
      "“glm.fit: fitted probabilities numerically 0 or 1 occurred”\n",
      "Warning message:\n",
      "“glm.fit: fitted probabilities numerically 0 or 1 occurred”\n",
      "Warning message:\n",
      "“glm.fit: fitted probabilities numerically 0 or 1 occurred”\n",
      "Warning message:\n",
      "“glm.fit: fitted probabilities numerically 0 or 1 occurred”\n",
      "Warning message:\n",
      "“glm.fit: fitted probabilities numerically 0 or 1 occurred”\n",
      "Warning message:\n",
      "“glm.fit: fitted probabilities numerically 0 or 1 occurred”\n",
      "Warning message:\n",
      "“glm.fit: fitted probabilities numerically 0 or 1 occurred”\n",
      "Warning message:\n",
      "“glm.fit: fitted probabilities numerically 0 or 1 occurred”\n",
      "Warning message:\n",
      "“glm.fit: fitted probabilities numerically 0 or 1 occurred”\n",
      "Warning message:\n",
      "“glm.fit: fitted probabilities numerically 0 or 1 occurred”\n",
      "Warning message:\n",
      "“glm.fit: fitted probabilities numerically 0 or 1 occurred”\n",
      "Warning message:\n",
      "“glm.fit: fitted probabilities numerically 0 or 1 occurred”\n",
      "Warning message:\n",
      "“glm.fit: fitted probabilities numerically 0 or 1 occurred”\n",
      "Warning message:\n",
      "“glm.fit: fitted probabilities numerically 0 or 1 occurred”\n",
      "Warning message:\n",
      "“glm.fit: fitted probabilities numerically 0 or 1 occurred”\n",
      "Warning message:\n",
      "“glm.fit: fitted probabilities numerically 0 or 1 occurred”\n",
      "Warning message:\n",
      "“glm.fit: fitted probabilities numerically 0 or 1 occurred”\n"
     ]
    },
    {
     "name": "stdout",
     "output_type": "stream",
     "text": [
      "[1] \"/data2/mito_lineage/output/annotation_clones/data/cd34norm/MTblacklist/DE_large/donor1/clones_5__19.DE.GeneActivity.csv\"\n",
      "                    p_val avg_log2FC pct.1 pct.2 p_val_adj\n",
      "ZNF852       0.000000e+00 -0.1934607 0.017 0.083  0.000000\n",
      "SEPT6        3.948221e-05 -0.1902141 0.169 0.125  0.790039\n",
      "GEM          1.380772e-04  0.1976015 0.238 0.000  1.000000\n",
      "GTPBP2       1.938799e-04  0.1408371 0.134 0.000  1.000000\n",
      "RP11-302M6.4 3.715966e-04 -0.5217609 0.541 0.406  1.000000\n",
      "DDX6         5.105647e-04  0.1710218 0.209 0.000  1.000000\n",
      "[1] \"saved clones 5 19\"\n"
     ]
    },
    {
     "name": "stderr",
     "output_type": "stream",
     "text": [
      "Saving 6.67 x 6.67 in image\n",
      "\n"
     ]
    },
    {
     "name": "stdout",
     "output_type": "stream",
     "text": [
      "[1] \"plotted clones 5 19\"\n",
      "[1] 5  13\n",
      "61 Levels: 0 1 2 3 4 5 6 7 8 9 10 11 12 13 14 15 16 17 18 19 20 21 22 23 ... None\n",
      "[1] \"clones 40\"\n",
      "[1] \"/data2/mito_lineage/output/annotation_clones/data/cd34norm/MTblacklist/DE_large/donor1/clones_5__13.DE.GeneActivity.csv\"\n",
      "              p_val avg_log2FC pct.1 pct.2  p_val_adj\n",
      "SCN10A 6.820230e-07  0.2493316 0.337 0.049 0.01364728\n",
      "TK2    1.254604e-04  0.2173022 0.384 0.090 1.00000000\n",
      "CCNJL  1.386706e-04  0.2211916 0.384 0.107 1.00000000\n",
      "HIC2   3.825034e-04  0.1129221 0.169 0.025 1.00000000\n",
      "ZNF644 4.630040e-04  0.2051109 0.407 0.164 1.00000000\n",
      "SEPT6  5.756397e-04 -0.1115633 0.169 0.189 1.00000000\n",
      "[1] \"saved clones 5 13\"\n"
     ]
    },
    {
     "name": "stderr",
     "output_type": "stream",
     "text": [
      "Saving 6.67 x 6.67 in image\n",
      "\n"
     ]
    },
    {
     "name": "stdout",
     "output_type": "stream",
     "text": [
      "[1] \"plotted clones 5 13\"\n",
      "[1] 4 8\n",
      "61 Levels: 0 1 2 3 4 5 6 7 8 9 10 11 12 13 14 15 16 17 18 19 20 21 22 23 ... None\n",
      "[1] \"clones 41\"\n"
     ]
    },
    {
     "name": "stderr",
     "output_type": "stream",
     "text": [
      "Warning message:\n",
      "“glm.fit: fitted probabilities numerically 0 or 1 occurred”\n"
     ]
    },
    {
     "name": "stdout",
     "output_type": "stream",
     "text": [
      "[1] \"/data2/mito_lineage/output/annotation_clones/data/cd34norm/MTblacklist/DE_large/donor1/clones_4__8.DE.GeneActivity.csv\"\n",
      "                  p_val avg_log2FC pct.1 pct.2 p_val_adj\n",
      "GOLGA5     1.345673e-05 -0.1679073 0.040 0.176 0.2692691\n",
      "LANCL1     5.744508e-05 -0.1359165 0.011 0.092 1.0000000\n",
      "FAM91A1    6.960896e-05 -0.2209361 0.057 0.216 1.0000000\n",
      "PRPF8      7.264572e-05  0.1180196 0.167 0.085 1.0000000\n",
      "CADM4      7.520412e-05 -0.1073314 0.000 0.072 1.0000000\n",
      "AC010547.9 4.994982e-04 -0.1550323 0.052 0.176 1.0000000\n",
      "[1] \"saved clones 4 8\"\n"
     ]
    },
    {
     "name": "stderr",
     "output_type": "stream",
     "text": [
      "Saving 6.67 x 6.67 in image\n",
      "\n"
     ]
    },
    {
     "name": "stdout",
     "output_type": "stream",
     "text": [
      "[1] \"plotted clones 4 8\"\n",
      "[1] 4 6\n",
      "61 Levels: 0 1 2 3 4 5 6 7 8 9 10 11 12 13 14 15 16 17 18 19 20 21 22 23 ... None\n",
      "[1] \"clones 42\"\n",
      "[1] \"/data2/mito_lineage/output/annotation_clones/data/cd34norm/MTblacklist/DE_large/donor1/clones_4__6.DE.GeneActivity.csv\"\n",
      "               p_val avg_log2FC pct.1 pct.2 p_val_adj\n",
      "COLEC11 0.0003644742 -0.1549309 0.057 0.196         1\n",
      "GOLGA5  0.0003809461 -0.1480667 0.040 0.179         1\n",
      "ACSL3   0.0004081570 -0.1649850 0.126 0.405         1\n",
      "DNAH6   0.0005472252 -0.3059740 0.483 0.810         1\n",
      "DNAAF3  0.0009657573 -0.1741474 0.029 0.143         1\n",
      "GNAI2   0.0011200554  0.1888116 0.218 0.161         1\n",
      "[1] \"saved clones 4 6\"\n"
     ]
    },
    {
     "name": "stderr",
     "output_type": "stream",
     "text": [
      "Saving 6.67 x 6.67 in image\n",
      "\n"
     ]
    },
    {
     "name": "stdout",
     "output_type": "stream",
     "text": [
      "[1] \"plotted clones 4 6\"\n",
      "[1] 4  10\n",
      "61 Levels: 0 1 2 3 4 5 6 7 8 9 10 11 12 13 14 15 16 17 18 19 20 21 22 23 ... None\n",
      "[1] \"clones 43\"\n",
      "[1] \"/data2/mito_lineage/output/annotation_clones/data/cd34norm/MTblacklist/DE_large/donor1/clones_4__10.DE.GeneActivity.csv\"\n",
      "                  p_val avg_log2FC pct.1 pct.2 p_val_adj\n",
      "GOLGA5     2.578313e-05 -0.1734002 0.040 0.202 0.5159204\n",
      "AC003002.6 2.672164e-05  0.1401689 0.126 0.062 0.5347001\n",
      "NCMAP      5.342019e-05  0.1507758 0.190 0.132 1.0000000\n",
      "NEK10      6.198009e-05 -0.2993097 0.328 0.628 1.0000000\n",
      "ZDHHC2     8.549731e-05 -0.2612484 0.109 0.287 1.0000000\n",
      "ZNF521     1.128920e-04 -0.2695641 0.316 0.636 1.0000000\n",
      "[1] \"saved clones 4 10\"\n"
     ]
    },
    {
     "name": "stderr",
     "output_type": "stream",
     "text": [
      "Saving 6.67 x 6.67 in image\n",
      "\n"
     ]
    },
    {
     "name": "stdout",
     "output_type": "stream",
     "text": [
      "[1] \"plotted clones 4 10\"\n",
      "[1] 4  19\n",
      "61 Levels: 0 1 2 3 4 5 6 7 8 9 10 11 12 13 14 15 16 17 18 19 20 21 22 23 ... None\n",
      "[1] \"clones 44\"\n"
     ]
    },
    {
     "name": "stderr",
     "output_type": "stream",
     "text": [
      "Warning message:\n",
      "“glm.fit: fitted probabilities numerically 0 or 1 occurred”\n",
      "Warning message:\n",
      "“glm.fit: fitted probabilities numerically 0 or 1 occurred”\n",
      "Warning message:\n",
      "“glm.fit: fitted probabilities numerically 0 or 1 occurred”\n",
      "Warning message:\n",
      "“glm.fit: fitted probabilities numerically 0 or 1 occurred”\n",
      "Warning message:\n",
      "“glm.fit: fitted probabilities numerically 0 or 1 occurred”\n",
      "Warning message:\n",
      "“glm.fit: fitted probabilities numerically 0 or 1 occurred”\n",
      "Warning message:\n",
      "“glm.fit: fitted probabilities numerically 0 or 1 occurred”\n",
      "Warning message:\n",
      "“glm.fit: fitted probabilities numerically 0 or 1 occurred”\n",
      "Warning message:\n",
      "“glm.fit: fitted probabilities numerically 0 or 1 occurred”\n",
      "Warning message:\n",
      "“glm.fit: fitted probabilities numerically 0 or 1 occurred”\n",
      "Warning message:\n",
      "“glm.fit: fitted probabilities numerically 0 or 1 occurred”\n",
      "Warning message:\n",
      "“glm.fit: fitted probabilities numerically 0 or 1 occurred”\n",
      "Warning message:\n",
      "“glm.fit: fitted probabilities numerically 0 or 1 occurred”\n",
      "Warning message:\n",
      "“glm.fit: fitted probabilities numerically 0 or 1 occurred”\n",
      "Warning message:\n",
      "“glm.fit: fitted probabilities numerically 0 or 1 occurred”\n",
      "Warning message:\n",
      "“glm.fit: fitted probabilities numerically 0 or 1 occurred”\n",
      "Warning message:\n",
      "“glm.fit: fitted probabilities numerically 0 or 1 occurred”\n",
      "Warning message:\n",
      "“glm.fit: fitted probabilities numerically 0 or 1 occurred”\n",
      "Warning message:\n",
      "“glm.fit: fitted probabilities numerically 0 or 1 occurred”\n",
      "Warning message:\n",
      "“glm.fit: fitted probabilities numerically 0 or 1 occurred”\n",
      "Warning message:\n",
      "“glm.fit: fitted probabilities numerically 0 or 1 occurred”\n",
      "Warning message:\n",
      "“glm.fit: fitted probabilities numerically 0 or 1 occurred”\n",
      "Warning message:\n",
      "“glm.fit: fitted probabilities numerically 0 or 1 occurred”\n",
      "Warning message:\n",
      "“glm.fit: fitted probabilities numerically 0 or 1 occurred”\n",
      "Warning message:\n",
      "“glm.fit: fitted probabilities numerically 0 or 1 occurred”\n",
      "Warning message:\n",
      "“glm.fit: fitted probabilities numerically 0 or 1 occurred”\n",
      "Warning message:\n",
      "“glm.fit: fitted probabilities numerically 0 or 1 occurred”\n",
      "Warning message:\n",
      "“glm.fit: fitted probabilities numerically 0 or 1 occurred”\n",
      "Warning message:\n",
      "“glm.fit: fitted probabilities numerically 0 or 1 occurred”\n",
      "Warning message:\n",
      "“glm.fit: fitted probabilities numerically 0 or 1 occurred”\n",
      "Warning message:\n",
      "“glm.fit: fitted probabilities numerically 0 or 1 occurred”\n",
      "Warning message:\n",
      "“glm.fit: fitted probabilities numerically 0 or 1 occurred”\n",
      "Warning message:\n",
      "“glm.fit: fitted probabilities numerically 0 or 1 occurred”\n",
      "Warning message:\n",
      "“glm.fit: fitted probabilities numerically 0 or 1 occurred”\n",
      "Warning message:\n",
      "“glm.fit: fitted probabilities numerically 0 or 1 occurred”\n",
      "Warning message:\n",
      "“glm.fit: fitted probabilities numerically 0 or 1 occurred”\n",
      "Warning message:\n",
      "“glm.fit: fitted probabilities numerically 0 or 1 occurred”\n",
      "Warning message:\n",
      "“glm.fit: fitted probabilities numerically 0 or 1 occurred”\n",
      "Warning message:\n",
      "“glm.fit: fitted probabilities numerically 0 or 1 occurred”\n",
      "Warning message:\n",
      "“glm.fit: fitted probabilities numerically 0 or 1 occurred”\n",
      "Warning message:\n",
      "“glm.fit: fitted probabilities numerically 0 or 1 occurred”\n",
      "Warning message:\n",
      "“glm.fit: fitted probabilities numerically 0 or 1 occurred”\n",
      "Warning message:\n",
      "“glm.fit: fitted probabilities numerically 0 or 1 occurred”\n",
      "Warning message:\n",
      "“glm.fit: fitted probabilities numerically 0 or 1 occurred”\n",
      "Warning message:\n",
      "“glm.fit: fitted probabilities numerically 0 or 1 occurred”\n",
      "Warning message:\n",
      "“glm.fit: fitted probabilities numerically 0 or 1 occurred”\n",
      "Warning message:\n",
      "“glm.fit: fitted probabilities numerically 0 or 1 occurred”\n"
     ]
    },
    {
     "name": "stdout",
     "output_type": "stream",
     "text": [
      "[1] \"/data2/mito_lineage/output/annotation_clones/data/cd34norm/MTblacklist/DE_large/donor1/clones_4__19.DE.GeneActivity.csv\"\n",
      "              p_val avg_log2FC pct.1 pct.2 p_val_adj\n",
      "GOLGA5 1.667511e-05 -0.2879710 0.040 0.135  0.333669\n",
      "VANGL2 6.206137e-05 -0.1019423 0.052 0.094  1.000000\n",
      "DNPEP  1.117992e-04 -0.1480169 0.006 0.062  1.000000\n",
      "ATXN1  1.924556e-04  0.4656389 0.753 0.375  1.000000\n",
      "GAB1   2.542851e-04 -0.3648067 0.167 0.281  1.000000\n",
      "COMP   3.418398e-04 -0.1126038 0.011 0.094  1.000000\n",
      "[1] \"saved clones 4 19\"\n"
     ]
    },
    {
     "name": "stderr",
     "output_type": "stream",
     "text": [
      "Saving 6.67 x 6.67 in image\n",
      "\n"
     ]
    },
    {
     "name": "stdout",
     "output_type": "stream",
     "text": [
      "[1] \"plotted clones 4 19\"\n",
      "[1] 4  13\n",
      "61 Levels: 0 1 2 3 4 5 6 7 8 9 10 11 12 13 14 15 16 17 18 19 20 21 22 23 ... None\n",
      "[1] \"clones 45\"\n"
     ]
    },
    {
     "name": "stderr",
     "output_type": "stream",
     "text": [
      "Warning message:\n",
      "“glm.fit: fitted probabilities numerically 0 or 1 occurred”\n",
      "Warning message:\n",
      "“glm.fit: fitted probabilities numerically 0 or 1 occurred”\n",
      "Warning message:\n",
      "“glm.fit: fitted probabilities numerically 0 or 1 occurred”\n"
     ]
    },
    {
     "name": "stdout",
     "output_type": "stream",
     "text": [
      "[1] \"/data2/mito_lineage/output/annotation_clones/data/cd34norm/MTblacklist/DE_large/donor1/clones_4__13.DE.GeneActivity.csv\"\n",
      "                p_val avg_log2FC pct.1 pct.2 p_val_adj\n",
      "ATP11C   2.289392e-05 -0.3058567 0.126 0.320 0.4581074\n",
      "C11orf72 3.437083e-05 -0.1522403 0.017 0.115 0.6877602\n",
      "TLL1     8.398245e-05 -0.3514132 0.184 0.393 1.0000000\n",
      "COLEC11  1.132121e-04 -0.2179050 0.057 0.189 1.0000000\n",
      "HIST1H1B 1.284096e-04 -0.1628068 0.023 0.115 1.0000000\n",
      "NEK10    1.289982e-04 -0.3308143 0.328 0.541 1.0000000\n",
      "[1] \"saved clones 4 13\"\n"
     ]
    },
    {
     "name": "stderr",
     "output_type": "stream",
     "text": [
      "Saving 6.67 x 6.67 in image\n",
      "\n"
     ]
    },
    {
     "name": "stdout",
     "output_type": "stream",
     "text": [
      "[1] \"plotted clones 4 13\"\n",
      "[1] 8 6\n",
      "61 Levels: 0 1 2 3 4 5 6 7 8 9 10 11 12 13 14 15 16 17 18 19 20 21 22 23 ... None\n",
      "[1] \"clones 46\"\n",
      "[1] \"/data2/mito_lineage/output/annotation_clones/data/cd34norm/MTblacklist/DE_large/donor1/clones_8__6.DE.GeneActivity.csv\"\n",
      "               p_val avg_log2FC pct.1 pct.2 p_val_adj\n",
      "SLC7A7  3.874443e-05 -0.2267402 0.105 0.321 0.7752760\n",
      "FAM184A 4.973824e-05 -0.3433086 0.431 0.720 0.9952621\n",
      "EFCAB6  3.659699e-04 -0.2996579 0.458 0.720 1.0000000\n",
      "COL4A6  6.552949e-04 -0.2355826 0.333 0.595 1.0000000\n",
      "SULT2B1 7.088949e-04 -0.1805405 0.098 0.232 1.0000000\n",
      "RPL37A  7.279432e-04 -0.1853141 0.163 0.375 1.0000000\n",
      "[1] \"saved clones 8 6\"\n"
     ]
    },
    {
     "name": "stderr",
     "output_type": "stream",
     "text": [
      "Saving 6.67 x 6.67 in image\n",
      "\n"
     ]
    },
    {
     "name": "stdout",
     "output_type": "stream",
     "text": [
      "[1] \"plotted clones 8 6\"\n",
      "[1] 8  10\n",
      "61 Levels: 0 1 2 3 4 5 6 7 8 9 10 11 12 13 14 15 16 17 18 19 20 21 22 23 ... None\n",
      "[1] \"clones 47\"\n",
      "[1] \"/data2/mito_lineage/output/annotation_clones/data/cd34norm/MTblacklist/DE_large/donor1/clones_8__10.DE.GeneActivity.csv\"\n",
      "               p_val avg_log2FC pct.1 pct.2 p_val_adj\n",
      "POLR3C  2.769176e-05 -0.1423332 0.013 0.132 0.5541122\n",
      "SLC38A6 4.405853e-05 -0.3083845 0.307 0.543 0.8816111\n",
      "FNDC3B  6.638554e-05 -0.4019611 0.725 0.915 1.0000000\n",
      "ADAR    7.092255e-05  0.1844872 0.222 0.116 1.0000000\n",
      "SNX14   1.098036e-04 -0.1556111 0.046 0.194 1.0000000\n",
      "FAM184A 1.199724e-04 -0.3455472 0.431 0.690 1.0000000\n",
      "[1] \"saved clones 8 10\"\n"
     ]
    },
    {
     "name": "stderr",
     "output_type": "stream",
     "text": [
      "Saving 6.67 x 6.67 in image\n",
      "\n"
     ]
    },
    {
     "name": "stdout",
     "output_type": "stream",
     "text": [
      "[1] \"plotted clones 8 10\"\n",
      "[1] 8  19\n",
      "61 Levels: 0 1 2 3 4 5 6 7 8 9 10 11 12 13 14 15 16 17 18 19 20 21 22 23 ... None\n",
      "[1] \"clones 48\"\n"
     ]
    },
    {
     "name": "stderr",
     "output_type": "stream",
     "text": [
      "Warning message:\n",
      "“glm.fit: fitted probabilities numerically 0 or 1 occurred”\n",
      "Warning message:\n",
      "“glm.fit: fitted probabilities numerically 0 or 1 occurred”\n",
      "Warning message:\n",
      "“glm.fit: fitted probabilities numerically 0 or 1 occurred”\n",
      "Warning message:\n",
      "“glm.fit: fitted probabilities numerically 0 or 1 occurred”\n",
      "Warning message:\n",
      "“glm.fit: fitted probabilities numerically 0 or 1 occurred”\n",
      "Warning message:\n",
      "“glm.fit: fitted probabilities numerically 0 or 1 occurred”\n",
      "Warning message:\n",
      "“glm.fit: fitted probabilities numerically 0 or 1 occurred”\n",
      "Warning message:\n",
      "“glm.fit: fitted probabilities numerically 0 or 1 occurred”\n",
      "Warning message:\n",
      "“glm.fit: fitted probabilities numerically 0 or 1 occurred”\n",
      "Warning message:\n",
      "“glm.fit: fitted probabilities numerically 0 or 1 occurred”\n",
      "Warning message:\n",
      "“glm.fit: fitted probabilities numerically 0 or 1 occurred”\n",
      "Warning message:\n",
      "“glm.fit: fitted probabilities numerically 0 or 1 occurred”\n",
      "Warning message:\n",
      "“glm.fit: fitted probabilities numerically 0 or 1 occurred”\n",
      "Warning message:\n",
      "“glm.fit: fitted probabilities numerically 0 or 1 occurred”\n",
      "Warning message:\n",
      "“glm.fit: fitted probabilities numerically 0 or 1 occurred”\n",
      "Warning message:\n",
      "“glm.fit: fitted probabilities numerically 0 or 1 occurred”\n",
      "Warning message:\n",
      "“glm.fit: fitted probabilities numerically 0 or 1 occurred”\n",
      "Warning message:\n",
      "“glm.fit: fitted probabilities numerically 0 or 1 occurred”\n",
      "Warning message:\n",
      "“glm.fit: fitted probabilities numerically 0 or 1 occurred”\n",
      "Warning message:\n",
      "“glm.fit: fitted probabilities numerically 0 or 1 occurred”\n",
      "Warning message:\n",
      "“glm.fit: fitted probabilities numerically 0 or 1 occurred”\n",
      "Warning message:\n",
      "“glm.fit: fitted probabilities numerically 0 or 1 occurred”\n",
      "Warning message:\n",
      "“glm.fit: fitted probabilities numerically 0 or 1 occurred”\n",
      "Warning message:\n",
      "“glm.fit: fitted probabilities numerically 0 or 1 occurred”\n",
      "Warning message:\n",
      "“glm.fit: fitted probabilities numerically 0 or 1 occurred”\n",
      "Warning message:\n",
      "“glm.fit: fitted probabilities numerically 0 or 1 occurred”\n",
      "Warning message:\n",
      "“glm.fit: fitted probabilities numerically 0 or 1 occurred”\n",
      "Warning message:\n",
      "“glm.fit: fitted probabilities numerically 0 or 1 occurred”\n",
      "Warning message:\n",
      "“glm.fit: fitted probabilities numerically 0 or 1 occurred”\n",
      "Warning message:\n",
      "“glm.fit: fitted probabilities numerically 0 or 1 occurred”\n",
      "Warning message:\n",
      "“glm.fit: fitted probabilities numerically 0 or 1 occurred”\n",
      "Warning message:\n",
      "“glm.fit: fitted probabilities numerically 0 or 1 occurred”\n",
      "Warning message:\n",
      "“glm.fit: fitted probabilities numerically 0 or 1 occurred”\n",
      "Warning message:\n",
      "“glm.fit: fitted probabilities numerically 0 or 1 occurred”\n",
      "Warning message:\n",
      "“glm.fit: fitted probabilities numerically 0 or 1 occurred”\n",
      "Warning message:\n",
      "“glm.fit: fitted probabilities numerically 0 or 1 occurred”\n",
      "Warning message:\n",
      "“glm.fit: fitted probabilities numerically 0 or 1 occurred”\n",
      "Warning message:\n",
      "“glm.fit: fitted probabilities numerically 0 or 1 occurred”\n",
      "Warning message:\n",
      "“glm.fit: fitted probabilities numerically 0 or 1 occurred”\n",
      "Warning message:\n",
      "“glm.fit: fitted probabilities numerically 0 or 1 occurred”\n",
      "Warning message:\n",
      "“glm.fit: fitted probabilities numerically 0 or 1 occurred”\n",
      "Warning message:\n",
      "“glm.fit: fitted probabilities numerically 0 or 1 occurred”\n"
     ]
    },
    {
     "name": "stdout",
     "output_type": "stream",
     "text": [
      "[1] \"/data2/mito_lineage/output/annotation_clones/data/cd34norm/MTblacklist/DE_large/donor1/clones_8__19.DE.GeneActivity.csv\"\n",
      "               p_val avg_log2FC pct.1 pct.2 p_val_adj\n",
      "SEC61A2 2.050914e-05  0.3638831 0.242 0.042 0.4103879\n",
      "SULT2B1 4.904341e-05 -0.1585510 0.098 0.125 0.9813587\n",
      "RNF135  2.733523e-04  0.1800792 0.137 0.000 1.0000000\n",
      "TRPV3   3.391599e-04  0.1988253 0.144 0.000 1.0000000\n",
      "ATXN1   4.010536e-04  0.4688233 0.771 0.375 1.0000000\n",
      "NTRK2   4.114800e-04  0.4350751 0.719 0.312 1.0000000\n",
      "[1] \"saved clones 8 19\"\n"
     ]
    },
    {
     "name": "stderr",
     "output_type": "stream",
     "text": [
      "Saving 6.67 x 6.67 in image\n",
      "\n"
     ]
    },
    {
     "name": "stdout",
     "output_type": "stream",
     "text": [
      "[1] \"plotted clones 8 19\"\n",
      "[1] 8  13\n",
      "61 Levels: 0 1 2 3 4 5 6 7 8 9 10 11 12 13 14 15 16 17 18 19 20 21 22 23 ... None\n",
      "[1] \"clones 49\"\n"
     ]
    },
    {
     "name": "stderr",
     "output_type": "stream",
     "text": [
      "Warning message:\n",
      "“glm.fit: fitted probabilities numerically 0 or 1 occurred”\n",
      "Warning message:\n",
      "“glm.fit: fitted probabilities numerically 0 or 1 occurred”\n",
      "Warning message:\n",
      "“glm.fit: fitted probabilities numerically 0 or 1 occurred”\n"
     ]
    },
    {
     "name": "stdout",
     "output_type": "stream",
     "text": [
      "[1] \"/data2/mito_lineage/output/annotation_clones/data/cd34norm/MTblacklist/DE_large/donor1/clones_8__13.DE.GeneActivity.csv\"\n",
      "                   p_val avg_log2FC pct.1 pct.2 p_val_adj\n",
      "SCN1A       8.722370e-05 -0.2244972 0.111 0.246         1\n",
      "MAML1       9.232926e-05  0.1370103 0.118 0.008         1\n",
      "GDI2        1.096889e-04  0.2874298 0.366 0.148         1\n",
      "SOAT2       2.236840e-04 -0.2784441 0.150 0.320         1\n",
      "CTB-133G6.1 2.264804e-04 -0.1588221 0.020 0.098         1\n",
      "MDFIC       2.379780e-04 -0.2582405 0.092 0.213         1\n",
      "[1] \"saved clones 8 13\"\n"
     ]
    },
    {
     "name": "stderr",
     "output_type": "stream",
     "text": [
      "Saving 6.67 x 6.67 in image\n",
      "\n"
     ]
    },
    {
     "name": "stdout",
     "output_type": "stream",
     "text": [
      "[1] \"plotted clones 8 13\"\n",
      "[1] 6  10\n",
      "61 Levels: 0 1 2 3 4 5 6 7 8 9 10 11 12 13 14 15 16 17 18 19 20 21 22 23 ... None\n",
      "[1] \"clones 50\"\n",
      "[1] \"/data2/mito_lineage/output/annotation_clones/data/cd34norm/MTblacklist/DE_large/donor1/clones_6__10.DE.GeneActivity.csv\"\n",
      "                     p_val avg_log2FC pct.1 pct.2 p_val_adj\n",
      "CTD-2006C1.10 9.059637e-05  0.1726365 0.226 0.093         1\n",
      "AC003002.6    1.134297e-04  0.1654037 0.161 0.062         1\n",
      "C6            1.332186e-04 -0.2151406 0.119 0.271         1\n",
      "KAT7          2.115432e-04  0.2139941 0.369 0.171         1\n",
      "TMPRSS2       2.228530e-04  0.2121057 0.393 0.194         1\n",
      "SLC12A9       2.607744e-04  0.2190799 0.458 0.279         1\n",
      "[1] \"saved clones 6 10\"\n"
     ]
    },
    {
     "name": "stderr",
     "output_type": "stream",
     "text": [
      "Saving 6.67 x 6.67 in image\n",
      "\n"
     ]
    },
    {
     "name": "stdout",
     "output_type": "stream",
     "text": [
      "[1] \"plotted clones 6 10\"\n",
      "[1] 6  19\n",
      "61 Levels: 0 1 2 3 4 5 6 7 8 9 10 11 12 13 14 15 16 17 18 19 20 21 22 23 ... None\n",
      "[1] \"clones 51\"\n"
     ]
    },
    {
     "name": "stderr",
     "output_type": "stream",
     "text": [
      "Warning message:\n",
      "“glm.fit: fitted probabilities numerically 0 or 1 occurred”\n",
      "Warning message:\n",
      "“glm.fit: fitted probabilities numerically 0 or 1 occurred”\n",
      "Warning message:\n",
      "“glm.fit: fitted probabilities numerically 0 or 1 occurred”\n",
      "Warning message:\n",
      "“glm.fit: fitted probabilities numerically 0 or 1 occurred”\n",
      "Warning message:\n",
      "“glm.fit: fitted probabilities numerically 0 or 1 occurred”\n",
      "Warning message:\n",
      "“glm.fit: fitted probabilities numerically 0 or 1 occurred”\n",
      "Warning message:\n",
      "“glm.fit: fitted probabilities numerically 0 or 1 occurred”\n",
      "Warning message:\n",
      "“glm.fit: fitted probabilities numerically 0 or 1 occurred”\n",
      "Warning message:\n",
      "“glm.fit: fitted probabilities numerically 0 or 1 occurred”\n",
      "Warning message:\n",
      "“glm.fit: fitted probabilities numerically 0 or 1 occurred”\n",
      "Warning message:\n",
      "“glm.fit: fitted probabilities numerically 0 or 1 occurred”\n",
      "Warning message:\n",
      "“glm.fit: fitted probabilities numerically 0 or 1 occurred”\n",
      "Warning message:\n",
      "“glm.fit: fitted probabilities numerically 0 or 1 occurred”\n",
      "Warning message:\n",
      "“glm.fit: fitted probabilities numerically 0 or 1 occurred”\n",
      "Warning message:\n",
      "“glm.fit: fitted probabilities numerically 0 or 1 occurred”\n",
      "Warning message:\n",
      "“glm.fit: fitted probabilities numerically 0 or 1 occurred”\n",
      "Warning message:\n",
      "“glm.fit: fitted probabilities numerically 0 or 1 occurred”\n",
      "Warning message:\n",
      "“glm.fit: fitted probabilities numerically 0 or 1 occurred”\n",
      "Warning message:\n",
      "“glm.fit: fitted probabilities numerically 0 or 1 occurred”\n",
      "Warning message:\n",
      "“glm.fit: fitted probabilities numerically 0 or 1 occurred”\n",
      "Warning message:\n",
      "“glm.fit: fitted probabilities numerically 0 or 1 occurred”\n",
      "Warning message:\n",
      "“glm.fit: fitted probabilities numerically 0 or 1 occurred”\n",
      "Warning message:\n",
      "“glm.fit: fitted probabilities numerically 0 or 1 occurred”\n",
      "Warning message:\n",
      "“glm.fit: fitted probabilities numerically 0 or 1 occurred”\n",
      "Warning message:\n",
      "“glm.fit: fitted probabilities numerically 0 or 1 occurred”\n",
      "Warning message:\n",
      "“glm.fit: fitted probabilities numerically 0 or 1 occurred”\n",
      "Warning message:\n",
      "“glm.fit: fitted probabilities numerically 0 or 1 occurred”\n",
      "Warning message:\n",
      "“glm.fit: fitted probabilities numerically 0 or 1 occurred”\n",
      "Warning message:\n",
      "“glm.fit: fitted probabilities numerically 0 or 1 occurred”\n",
      "Warning message:\n",
      "“glm.fit: fitted probabilities numerically 0 or 1 occurred”\n"
     ]
    },
    {
     "name": "stdout",
     "output_type": "stream",
     "text": [
      "[1] \"/data2/mito_lineage/output/annotation_clones/data/cd34norm/MTblacklist/DE_large/donor1/clones_6__19.DE.GeneActivity.csv\"\n",
      "              p_val avg_log2FC pct.1 pct.2 p_val_adj\n",
      "GATS   4.926338e-05 -0.1122991 0.131 0.146 0.9857602\n",
      "CRISP1 1.004633e-04 -0.1531812 0.042 0.083 1.0000000\n",
      "TGDS   1.100472e-04 -0.1268362 0.202 0.167 1.0000000\n",
      "ZNF562 2.233663e-04  0.2338076 0.226 0.021 1.0000000\n",
      "LIMD2  3.019916e-04 -0.1078854 0.006 0.031 1.0000000\n",
      "MESDC1 3.148170e-04 -0.1518563 0.060 0.052 1.0000000\n",
      "[1] \"saved clones 6 19\"\n"
     ]
    },
    {
     "name": "stderr",
     "output_type": "stream",
     "text": [
      "Saving 6.67 x 6.67 in image\n",
      "\n"
     ]
    },
    {
     "name": "stdout",
     "output_type": "stream",
     "text": [
      "[1] \"plotted clones 6 19\"\n",
      "[1] 6  13\n",
      "61 Levels: 0 1 2 3 4 5 6 7 8 9 10 11 12 13 14 15 16 17 18 19 20 21 22 23 ... None\n",
      "[1] \"clones 52\"\n",
      "[1] \"/data2/mito_lineage/output/annotation_clones/data/cd34norm/MTblacklist/DE_large/donor1/clones_6__13.DE.GeneActivity.csv\"\n",
      "                p_val avg_log2FC pct.1 pct.2 p_val_adj\n",
      "MPHOSPH9 5.664454e-05  0.2939765 0.435 0.164         1\n",
      "SCN10A   7.506048e-05  0.2009006 0.244 0.049         1\n",
      "PUS10    8.027258e-05  0.2738375 0.393 0.172         1\n",
      "SIRPG    1.309716e-04  0.2148850 0.208 0.049         1\n",
      "NGF      2.612978e-04 -0.1363483 0.107 0.197         1\n",
      "EHBP1    3.425635e-04 -0.2635380 0.452 0.516         1\n",
      "[1] \"saved clones 6 13\"\n"
     ]
    },
    {
     "name": "stderr",
     "output_type": "stream",
     "text": [
      "Saving 6.67 x 6.67 in image\n",
      "\n"
     ]
    },
    {
     "name": "stdout",
     "output_type": "stream",
     "text": [
      "[1] \"plotted clones 6 13\"\n",
      "[1] 10 19\n",
      "61 Levels: 0 1 2 3 4 5 6 7 8 9 10 11 12 13 14 15 16 17 18 19 20 21 22 23 ... None\n",
      "[1] \"clones 53\"\n"
     ]
    },
    {
     "name": "stderr",
     "output_type": "stream",
     "text": [
      "Warning message:\n",
      "“glm.fit: fitted probabilities numerically 0 or 1 occurred”\n",
      "Warning message:\n",
      "“glm.fit: fitted probabilities numerically 0 or 1 occurred”\n",
      "Warning message:\n",
      "“glm.fit: fitted probabilities numerically 0 or 1 occurred”\n",
      "Warning message:\n",
      "“glm.fit: fitted probabilities numerically 0 or 1 occurred”\n",
      "Warning message:\n",
      "“glm.fit: fitted probabilities numerically 0 or 1 occurred”\n",
      "Warning message:\n",
      "“glm.fit: fitted probabilities numerically 0 or 1 occurred”\n",
      "Warning message:\n",
      "“glm.fit: fitted probabilities numerically 0 or 1 occurred”\n",
      "Warning message:\n",
      "“glm.fit: fitted probabilities numerically 0 or 1 occurred”\n",
      "Warning message:\n",
      "“glm.fit: fitted probabilities numerically 0 or 1 occurred”\n",
      "Warning message:\n",
      "“glm.fit: fitted probabilities numerically 0 or 1 occurred”\n",
      "Warning message:\n",
      "“glm.fit: fitted probabilities numerically 0 or 1 occurred”\n",
      "Warning message:\n",
      "“glm.fit: fitted probabilities numerically 0 or 1 occurred”\n",
      "Warning message:\n",
      "“glm.fit: fitted probabilities numerically 0 or 1 occurred”\n",
      "Warning message:\n",
      "“glm.fit: fitted probabilities numerically 0 or 1 occurred”\n",
      "Warning message:\n",
      "“glm.fit: fitted probabilities numerically 0 or 1 occurred”\n",
      "Warning message:\n",
      "“glm.fit: fitted probabilities numerically 0 or 1 occurred”\n",
      "Warning message:\n",
      "“glm.fit: fitted probabilities numerically 0 or 1 occurred”\n",
      "Warning message:\n",
      "“glm.fit: fitted probabilities numerically 0 or 1 occurred”\n",
      "Warning message:\n",
      "“glm.fit: fitted probabilities numerically 0 or 1 occurred”\n",
      "Warning message:\n",
      "“glm.fit: fitted probabilities numerically 0 or 1 occurred”\n",
      "Warning message:\n",
      "“glm.fit: fitted probabilities numerically 0 or 1 occurred”\n",
      "Warning message:\n",
      "“glm.fit: fitted probabilities numerically 0 or 1 occurred”\n",
      "Warning message:\n",
      "“glm.fit: fitted probabilities numerically 0 or 1 occurred”\n",
      "Warning message:\n",
      "“glm.fit: fitted probabilities numerically 0 or 1 occurred”\n",
      "Warning message:\n",
      "“glm.fit: fitted probabilities numerically 0 or 1 occurred”\n",
      "Warning message:\n",
      "“glm.fit: fitted probabilities numerically 0 or 1 occurred”\n",
      "Warning message:\n",
      "“glm.fit: fitted probabilities numerically 0 or 1 occurred”\n",
      "Warning message:\n",
      "“glm.fit: fitted probabilities numerically 0 or 1 occurred”\n",
      "Warning message:\n",
      "“glm.fit: fitted probabilities numerically 0 or 1 occurred”\n",
      "Warning message:\n",
      "“glm.fit: fitted probabilities numerically 0 or 1 occurred”\n"
     ]
    },
    {
     "name": "stdout",
     "output_type": "stream",
     "text": [
      "[1] \"/data2/mito_lineage/output/annotation_clones/data/cd34norm/MTblacklist/DE_large/donor1/clones_10__19.DE.GeneActivity.csv\"\n",
      "               p_val avg_log2FC pct.1 pct.2 p_val_adj\n",
      "RTKN2   2.878898e-05  0.2244577 0.209 0.010 0.5760675\n",
      "RNF126  1.101669e-04  0.1669042 0.124 0.000 1.0000000\n",
      "DDX6    1.272642e-04  0.1763366 0.155 0.000 1.0000000\n",
      "GPR78   1.570162e-04 -0.1485650 0.039 0.094 1.0000000\n",
      "PUF60   2.090442e-04  0.2070325 0.194 0.000 1.0000000\n",
      "TMEM175 3.835620e-04  0.1581778 0.147 0.000 1.0000000\n",
      "[1] \"saved clones 10 19\"\n"
     ]
    },
    {
     "name": "stderr",
     "output_type": "stream",
     "text": [
      "Saving 6.67 x 6.67 in image\n",
      "\n"
     ]
    },
    {
     "name": "stdout",
     "output_type": "stream",
     "text": [
      "[1] \"plotted clones 10 19\"\n",
      "[1] 10 13\n",
      "61 Levels: 0 1 2 3 4 5 6 7 8 9 10 11 12 13 14 15 16 17 18 19 20 21 22 23 ... None\n",
      "[1] \"clones 54\"\n"
     ]
    },
    {
     "name": "stderr",
     "output_type": "stream",
     "text": [
      "Warning message:\n",
      "“glm.fit: fitted probabilities numerically 0 or 1 occurred”\n"
     ]
    },
    {
     "name": "stdout",
     "output_type": "stream",
     "text": [
      "[1] \"/data2/mito_lineage/output/annotation_clones/data/cd34norm/MTblacklist/DE_large/donor1/clones_10__13.DE.GeneActivity.csv\"\n",
      "                     p_val avg_log2FC pct.1 pct.2 p_val_adj\n",
      "TGIF1         6.098486e-05  0.2811507 0.388 0.156         1\n",
      "PRPF39        1.177890e-04 -0.1450800 0.016 0.107         1\n",
      "RP11-1021N1.1 2.069434e-04  0.2594221 0.488 0.230         1\n",
      "SLAMF7        2.142212e-04  0.1842545 0.233 0.057         1\n",
      "STXBP1        3.041157e-04  0.2036057 0.240 0.049         1\n",
      "MCUR1         3.180695e-04  0.1612900 0.225 0.041         1\n",
      "[1] \"saved clones 10 13\"\n"
     ]
    },
    {
     "name": "stderr",
     "output_type": "stream",
     "text": [
      "Saving 6.67 x 6.67 in image\n",
      "\n"
     ]
    },
    {
     "name": "stdout",
     "output_type": "stream",
     "text": [
      "[1] \"plotted clones 10 13\"\n",
      "[1] 19 13\n",
      "61 Levels: 0 1 2 3 4 5 6 7 8 9 10 11 12 13 14 15 16 17 18 19 20 21 22 23 ... None\n",
      "[1] \"clones 55\"\n"
     ]
    },
    {
     "name": "stderr",
     "output_type": "stream",
     "text": [
      "Warning message:\n",
      "“glm.fit: fitted probabilities numerically 0 or 1 occurred”\n",
      "Warning message:\n",
      "“glm.fit: fitted probabilities numerically 0 or 1 occurred”\n",
      "Warning message:\n",
      "“glm.fit: fitted probabilities numerically 0 or 1 occurred”\n",
      "Warning message:\n",
      "“glm.fit: fitted probabilities numerically 0 or 1 occurred”\n",
      "Warning message:\n",
      "“glm.fit: fitted probabilities numerically 0 or 1 occurred”\n",
      "Warning message:\n",
      "“glm.fit: fitted probabilities numerically 0 or 1 occurred”\n",
      "Warning message:\n",
      "“glm.fit: fitted probabilities numerically 0 or 1 occurred”\n",
      "Warning message:\n",
      "“glm.fit: fitted probabilities numerically 0 or 1 occurred”\n",
      "Warning message:\n",
      "“glm.fit: fitted probabilities numerically 0 or 1 occurred”\n",
      "Warning message:\n",
      "“glm.fit: fitted probabilities numerically 0 or 1 occurred”\n",
      "Warning message:\n",
      "“glm.fit: fitted probabilities numerically 0 or 1 occurred”\n",
      "Warning message:\n",
      "“glm.fit: fitted probabilities numerically 0 or 1 occurred”\n",
      "Warning message:\n",
      "“glm.fit: fitted probabilities numerically 0 or 1 occurred”\n",
      "Warning message:\n",
      "“glm.fit: fitted probabilities numerically 0 or 1 occurred”\n",
      "Warning message:\n",
      "“glm.fit: fitted probabilities numerically 0 or 1 occurred”\n",
      "Warning message:\n",
      "“glm.fit: fitted probabilities numerically 0 or 1 occurred”\n",
      "Warning message:\n",
      "“glm.fit: fitted probabilities numerically 0 or 1 occurred”\n",
      "Warning message:\n",
      "“glm.fit: fitted probabilities numerically 0 or 1 occurred”\n",
      "Warning message:\n",
      "“glm.fit: fitted probabilities numerically 0 or 1 occurred”\n",
      "Warning message:\n",
      "“glm.fit: fitted probabilities numerically 0 or 1 occurred”\n",
      "Warning message:\n",
      "“glm.fit: fitted probabilities numerically 0 or 1 occurred”\n",
      "Warning message:\n",
      "“glm.fit: fitted probabilities numerically 0 or 1 occurred”\n",
      "Warning message:\n",
      "“glm.fit: fitted probabilities numerically 0 or 1 occurred”\n",
      "Warning message:\n",
      "“glm.fit: fitted probabilities numerically 0 or 1 occurred”\n",
      "Warning message:\n",
      "“glm.fit: fitted probabilities numerically 0 or 1 occurred”\n",
      "Warning message:\n",
      "“glm.fit: fitted probabilities numerically 0 or 1 occurred”\n",
      "Warning message:\n",
      "“glm.fit: fitted probabilities numerically 0 or 1 occurred”\n",
      "Warning message:\n",
      "“glm.fit: fitted probabilities numerically 0 or 1 occurred”\n",
      "Warning message:\n",
      "“glm.fit: fitted probabilities numerically 0 or 1 occurred”\n",
      "Warning message:\n",
      "“glm.fit: fitted probabilities numerically 0 or 1 occurred”\n",
      "Warning message:\n",
      "“glm.fit: fitted probabilities numerically 0 or 1 occurred”\n",
      "Warning message:\n",
      "“glm.fit: fitted probabilities numerically 0 or 1 occurred”\n",
      "Warning message:\n",
      "“glm.fit: fitted probabilities numerically 0 or 1 occurred”\n",
      "Warning message:\n",
      "“glm.fit: fitted probabilities numerically 0 or 1 occurred”\n",
      "Warning message:\n",
      "“glm.fit: fitted probabilities numerically 0 or 1 occurred”\n",
      "Warning message:\n",
      "“glm.fit: fitted probabilities numerically 0 or 1 occurred”\n"
     ]
    },
    {
     "name": "stdout",
     "output_type": "stream",
     "text": [
      "[1] \"/data2/mito_lineage/output/annotation_clones/data/cd34norm/MTblacklist/DE_large/donor1/clones_19__13.DE.GeneActivity.csv\"\n",
      "              p_val avg_log2FC pct.1 pct.2 p_val_adj\n",
      "GATS   0.0001700482  0.1523565 0.146 0.057         1\n",
      "FRRS1L 0.0002511295  0.2034979 0.135 0.107         1\n",
      "SCN10A 0.0002630306  0.3333408 0.177 0.049         1\n",
      "EPS8L1 0.0002664374  0.1361266 0.115 0.066         1\n",
      "ACSF3  0.0002737892 -0.3738651 0.052 0.262         1\n",
      "PUF60  0.0003273553 -0.2031617 0.000 0.123         1\n",
      "[1] \"saved clones 19 13\"\n"
     ]
    },
    {
     "name": "stderr",
     "output_type": "stream",
     "text": [
      "Saving 6.67 x 6.67 in image\n",
      "\n"
     ]
    },
    {
     "name": "stdout",
     "output_type": "stream",
     "text": [
      "[1] \"plotted clones 19 13\"\n",
      "[1] \"donor\"\n",
      "[1] 2\n"
     ]
    },
    {
     "name": "stderr",
     "output_type": "stream",
     "text": [
      "Warning message in dir.create(curr.outdir):\n",
      "“'/data2/mito_lineage/output/annotation_clones/data/cd34norm/MTblacklist/DE_large/donor2' already exists”\n"
     ]
    },
    {
     "name": "stdout",
     "output_type": "stream",
     "text": [
      "[1] \"clones\"\n",
      "[1] 0 1 2 3 4 6\n",
      "61 Levels: 0 1 2 3 4 5 6 7 8 9 10 11 12 13 14 15 16 17 18 19 20 21 22 23 ... None\n",
      "[1] 6\n",
      "[1] \"se.filt\"\n",
      "[1] 1462   32\n"
     ]
    },
    {
     "name": "stderr",
     "output_type": "stream",
     "text": [
      "Saving 6.67 x 6.67 in image\n",
      "\n"
     ]
    },
    {
     "name": "stdout",
     "output_type": "stream",
     "text": [
      "[1] 0 1\n",
      "61 Levels: 0 1 2 3 4 5 6 7 8 9 10 11 12 13 14 15 16 17 18 19 20 21 22 23 ... None\n",
      "[1] \"clones 1\"\n",
      "[1] \"/data2/mito_lineage/output/annotation_clones/data/cd34norm/MTblacklist/DE_large/donor2/clones_0__1.DE.GeneActivity.csv\"\n",
      "               p_val avg_log2FC pct.1 pct.2 p_val_adj\n",
      "USP38   5.558926e-05 -0.1566540 0.088 0.177         1\n",
      "RAB20   1.817093e-04 -0.1809066 0.164 0.267         1\n",
      "USP14   3.385924e-04 -0.1627418 0.149 0.224         1\n",
      "FAM135A 4.183559e-04 -0.1779666 0.281 0.383         1\n",
      "VRK2    4.819032e-04 -0.2032889 0.332 0.419         1\n",
      "C8orf37 6.266473e-04 -0.1499099 0.154 0.249         1\n",
      "[1] \"saved clones 0 1\"\n"
     ]
    },
    {
     "name": "stderr",
     "output_type": "stream",
     "text": [
      "Saving 6.67 x 6.67 in image\n",
      "\n"
     ]
    },
    {
     "name": "stdout",
     "output_type": "stream",
     "text": [
      "[1] \"plotted clones 0 1\"\n",
      "[1] 0 2\n",
      "61 Levels: 0 1 2 3 4 5 6 7 8 9 10 11 12 13 14 15 16 17 18 19 20 21 22 23 ... None\n",
      "[1] \"clones 2\"\n",
      "[1] \"/data2/mito_lineage/output/annotation_clones/data/cd34norm/MTblacklist/DE_large/donor2/clones_0__2.DE.GeneActivity.csv\"\n",
      "                p_val avg_log2FC pct.1 pct.2 p_val_adj\n",
      "RPIA     0.0001091140 -0.1571998 0.093 0.165         1\n",
      "RPP40    0.0001134768 -0.1211453 0.080 0.129         1\n",
      "APTX     0.0001875832  0.2284593 0.313 0.185         1\n",
      "DFNA5    0.0002985707  0.1523590 0.191 0.101         1\n",
      "CACNA2D2 0.0003281357  0.1690622 0.289 0.153         1\n",
      "NLRP10   0.0004237899  0.1268749 0.149 0.073         1\n",
      "[1] \"saved clones 0 2\"\n"
     ]
    },
    {
     "name": "stderr",
     "output_type": "stream",
     "text": [
      "Saving 6.67 x 6.67 in image\n",
      "\n"
     ]
    },
    {
     "name": "stdout",
     "output_type": "stream",
     "text": [
      "[1] \"plotted clones 0 2\"\n",
      "[1] 0 3\n",
      "61 Levels: 0 1 2 3 4 5 6 7 8 9 10 11 12 13 14 15 16 17 18 19 20 21 22 23 ... None\n",
      "[1] \"clones 3\"\n",
      "[1] \"/data2/mito_lineage/output/annotation_clones/data/cd34norm/MTblacklist/DE_large/donor2/clones_0__3.DE.GeneActivity.csv\"\n",
      "                   p_val avg_log2FC pct.1 pct.2 p_val_adj\n",
      "TMEM8B      4.056178e-05  0.2424954 0.350 0.163 0.8116412\n",
      "APTX        6.575464e-05  0.2626161 0.313 0.137 1.0000000\n",
      "C2orf61     1.032868e-04  0.2320774 0.398 0.202 1.0000000\n",
      "AP000304.12 1.246397e-04  0.2515145 0.716 0.498 1.0000000\n",
      "SEPT14      1.388764e-04  0.1634289 0.164 0.047 1.0000000\n",
      "GCN1L1      1.427497e-04  0.2008331 0.284 0.120 1.0000000\n",
      "[1] \"saved clones 0 3\"\n"
     ]
    },
    {
     "name": "stderr",
     "output_type": "stream",
     "text": [
      "Saving 6.67 x 6.67 in image\n",
      "\n"
     ]
    },
    {
     "name": "stdout",
     "output_type": "stream",
     "text": [
      "[1] \"plotted clones 0 3\"\n",
      "[1] 0 4\n",
      "61 Levels: 0 1 2 3 4 5 6 7 8 9 10 11 12 13 14 15 16 17 18 19 20 21 22 23 ... None\n",
      "[1] \"clones 4\"\n",
      "[1] \"/data2/mito_lineage/output/annotation_clones/data/cd34norm/MTblacklist/DE_large/donor2/clones_0__4.DE.GeneActivity.csv\"\n",
      "                p_val avg_log2FC pct.1 pct.2 p_val_adj\n",
      "PSMF1    6.056267e-05  0.1816116 0.212 0.075         1\n",
      "TSG101   1.009025e-04  0.1926353 0.225 0.109         1\n",
      "NRTN     1.576139e-04 -0.1241041 0.032 0.098         1\n",
      "RPGRIP1L 2.337017e-04  0.1872858 0.310 0.144         1\n",
      "TMEM260  3.719116e-04  0.1935727 0.191 0.098         1\n",
      "IQSEC2   4.400740e-04  0.1704656 0.228 0.109         1\n",
      "[1] \"saved clones 0 4\"\n"
     ]
    },
    {
     "name": "stderr",
     "output_type": "stream",
     "text": [
      "Saving 6.67 x 6.67 in image\n",
      "\n"
     ]
    },
    {
     "name": "stdout",
     "output_type": "stream",
     "text": [
      "[1] \"plotted clones 0 4\"\n",
      "[1] 0 6\n",
      "61 Levels: 0 1 2 3 4 5 6 7 8 9 10 11 12 13 14 15 16 17 18 19 20 21 22 23 ... None\n",
      "[1] \"clones 5\"\n",
      "[1] \"/data2/mito_lineage/output/annotation_clones/data/cd34norm/MTblacklist/DE_large/donor2/clones_0__6.DE.GeneActivity.csv\"\n",
      "                    p_val avg_log2FC pct.1 pct.2 p_val_adj\n",
      "EPS15L1      7.548933e-06  0.2846280 0.377 0.183 0.1510541\n",
      "FHDC1        8.390782e-06 -0.1551904 0.034 0.137 0.1678995\n",
      "C1R          3.046146e-05  0.1717462 0.183 0.052 0.6095339\n",
      "YPEL2        3.284155e-05  0.3094006 0.483 0.288 0.6571595\n",
      "RP4-734P14.4 6.478786e-05  0.2274052 0.231 0.078 1.0000000\n",
      "RDM1         6.552732e-05  0.1275715 0.119 0.020 1.0000000\n",
      "[1] \"saved clones 0 6\"\n"
     ]
    },
    {
     "name": "stderr",
     "output_type": "stream",
     "text": [
      "Saving 6.67 x 6.67 in image\n",
      "\n"
     ]
    },
    {
     "name": "stdout",
     "output_type": "stream",
     "text": [
      "[1] \"plotted clones 0 6\"\n",
      "[1] 1 2\n",
      "61 Levels: 0 1 2 3 4 5 6 7 8 9 10 11 12 13 14 15 16 17 18 19 20 21 22 23 ... None\n",
      "[1] \"clones 6\"\n",
      "[1] \"/data2/mito_lineage/output/annotation_clones/data/cd34norm/MTblacklist/DE_large/donor2/clones_1__2.DE.GeneActivity.csv\"\n",
      "              p_val avg_log2FC pct.1 pct.2  p_val_adj\n",
      "DFNA5  5.564528e-07  0.2184047 0.235 0.101 0.01113462\n",
      "TTC29  2.408787e-05  0.2700973 0.643 0.472 0.48199827\n",
      "ZNF254 3.873284e-05 -0.1443940 0.036 0.113 0.77504406\n",
      "IQCB1  1.265950e-04  0.1972174 0.267 0.137 1.00000000\n",
      "XKR6   2.290660e-04  0.2372626 0.455 0.302 1.00000000\n",
      "SIRT3  5.278860e-04 -0.1182835 0.047 0.101 1.00000000\n",
      "[1] \"saved clones 1 2\"\n"
     ]
    },
    {
     "name": "stderr",
     "output_type": "stream",
     "text": [
      "Saving 6.67 x 6.67 in image\n",
      "\n"
     ]
    },
    {
     "name": "stdout",
     "output_type": "stream",
     "text": [
      "[1] \"plotted clones 1 2\"\n",
      "[1] 1 3\n",
      "61 Levels: 0 1 2 3 4 5 6 7 8 9 10 11 12 13 14 15 16 17 18 19 20 21 22 23 ... None\n",
      "[1] \"clones 7\"\n",
      "[1] \"/data2/mito_lineage/output/annotation_clones/data/cd34norm/MTblacklist/DE_large/donor2/clones_1__3.DE.GeneActivity.csv\"\n",
      "              p_val avg_log2FC pct.1 pct.2 p_val_adj\n",
      "STRIP1 6.401000e-05  0.1155580 0.123 0.017         1\n",
      "GTPBP8 7.701056e-05 -0.1070895 0.011 0.069         1\n",
      "CDH9   9.567543e-05 -0.2647788 0.227 0.330         1\n",
      "CMKLR1 1.576345e-04  0.2610896 0.433 0.245         1\n",
      "SEPT14 2.006170e-04  0.1480149 0.170 0.047         1\n",
      "ZNF786 2.558647e-04  0.1022295 0.105 0.017         1\n",
      "[1] \"saved clones 1 3\"\n"
     ]
    },
    {
     "name": "stderr",
     "output_type": "stream",
     "text": [
      "Saving 6.67 x 6.67 in image\n",
      "\n"
     ]
    },
    {
     "name": "stdout",
     "output_type": "stream",
     "text": [
      "[1] \"plotted clones 1 3\"\n",
      "[1] 1 4\n",
      "61 Levels: 0 1 2 3 4 5 6 7 8 9 10 11 12 13 14 15 16 17 18 19 20 21 22 23 ... None\n",
      "[1] \"clones 8\"\n",
      "[1] \"/data2/mito_lineage/output/annotation_clones/data/cd34norm/MTblacklist/DE_large/donor2/clones_1__4.DE.GeneActivity.csv\"\n",
      "               p_val avg_log2FC pct.1 pct.2 p_val_adj\n",
      "ARHGEF3 1.681059e-05  0.3489509 0.711 0.494 0.3363800\n",
      "ZBTB37  2.649860e-05  0.2685177 0.339 0.172 0.5302369\n",
      "NSUN4   3.005622e-05 -0.1800844 0.025 0.092 0.6014250\n",
      "BCAT1   8.356076e-05  0.2650416 0.422 0.230 1.0000000\n",
      "DAAM1   1.139717e-04  0.2517521 0.365 0.190 1.0000000\n",
      "RAB20   2.328170e-04  0.2245790 0.267 0.138 1.0000000\n",
      "[1] \"saved clones 1 4\"\n"
     ]
    },
    {
     "name": "stderr",
     "output_type": "stream",
     "text": [
      "Saving 6.67 x 6.67 in image\n",
      "\n"
     ]
    },
    {
     "name": "stdout",
     "output_type": "stream",
     "text": [
      "[1] \"plotted clones 1 4\"\n",
      "[1] 1 6\n",
      "61 Levels: 0 1 2 3 4 5 6 7 8 9 10 11 12 13 14 15 16 17 18 19 20 21 22 23 ... None\n",
      "[1] \"clones 9\"\n",
      "[1] \"/data2/mito_lineage/output/annotation_clones/data/cd34norm/MTblacklist/DE_large/donor2/clones_1__6.DE.GeneActivity.csv\"\n",
      "                    p_val avg_log2FC pct.1 pct.2 p_val_adj\n",
      "EIF3B        9.367325e-05  0.2977779 0.303 0.190         1\n",
      "GLB1L3       1.207820e-04  0.1768003 0.148 0.052         1\n",
      "FBXL7        2.453093e-04 -0.2955175 0.278 0.412         1\n",
      "POR          3.347841e-04  0.2073359 0.300 0.137         1\n",
      "RP11-410N8.4 3.484077e-04  0.1186626 0.079 0.007         1\n",
      "ANXA3        4.285195e-04  0.1356059 0.130 0.020         1\n",
      "[1] \"saved clones 1 6\"\n"
     ]
    },
    {
     "name": "stderr",
     "output_type": "stream",
     "text": [
      "Saving 6.67 x 6.67 in image\n",
      "\n"
     ]
    },
    {
     "name": "stdout",
     "output_type": "stream",
     "text": [
      "[1] \"plotted clones 1 6\"\n",
      "[1] 2 3\n",
      "61 Levels: 0 1 2 3 4 5 6 7 8 9 10 11 12 13 14 15 16 17 18 19 20 21 22 23 ... None\n",
      "[1] \"clones 10\"\n",
      "[1] \"/data2/mito_lineage/output/annotation_clones/data/cd34norm/MTblacklist/DE_large/donor2/clones_2__3.DE.GeneActivity.csv\"\n",
      "                p_val avg_log2FC pct.1 pct.2 p_val_adj\n",
      "ZNF460   2.898611e-05  0.1072424 0.060 0.004 0.5800121\n",
      "PACSIN3  5.048394e-05  0.1048425 0.069 0.009 1.0000000\n",
      "ASTE1    2.878665e-04 -0.1417963 0.048 0.124 1.0000000\n",
      "TTC17    2.986773e-04 -0.2401868 0.226 0.326 1.0000000\n",
      "SLC22A14 3.727984e-04  0.1414421 0.125 0.043 1.0000000\n",
      "SLC16A9  3.854488e-04  0.2056189 0.214 0.082 1.0000000\n",
      "[1] \"saved clones 2 3\"\n"
     ]
    },
    {
     "name": "stderr",
     "output_type": "stream",
     "text": [
      "Saving 6.67 x 6.67 in image\n",
      "\n"
     ]
    },
    {
     "name": "stdout",
     "output_type": "stream",
     "text": [
      "[1] \"plotted clones 2 3\"\n",
      "[1] 2 4\n",
      "61 Levels: 0 1 2 3 4 5 6 7 8 9 10 11 12 13 14 15 16 17 18 19 20 21 22 23 ... None\n",
      "[1] \"clones 11\"\n",
      "[1] \"/data2/mito_lineage/output/annotation_clones/data/cd34norm/MTblacklist/DE_large/donor2/clones_2__4.DE.GeneActivity.csv\"\n",
      "              p_val avg_log2FC pct.1 pct.2 p_val_adj\n",
      "TTC26  1.282038e-05  0.2533182 0.250 0.103 0.2565358\n",
      "CD82   9.177968e-05 -0.2162578 0.129 0.241 1.0000000\n",
      "SUZ12  1.379476e-04  0.1859216 0.173 0.069 1.0000000\n",
      "DFNA5  1.485028e-04 -0.1754146 0.101 0.190 1.0000000\n",
      "TSG101 2.208041e-04  0.1600329 0.218 0.109 1.0000000\n",
      "ZBTB37 2.525660e-04  0.2133388 0.327 0.172 1.0000000\n",
      "[1] \"saved clones 2 4\"\n"
     ]
    },
    {
     "name": "stderr",
     "output_type": "stream",
     "text": [
      "Saving 6.67 x 6.67 in image\n",
      "\n"
     ]
    },
    {
     "name": "stdout",
     "output_type": "stream",
     "text": [
      "[1] \"plotted clones 2 4\"\n",
      "[1] 2 6\n",
      "61 Levels: 0 1 2 3 4 5 6 7 8 9 10 11 12 13 14 15 16 17 18 19 20 21 22 23 ... None\n",
      "[1] \"clones 12\"\n",
      "[1] \"/data2/mito_lineage/output/annotation_clones/data/cd34norm/MTblacklist/DE_large/donor2/clones_2__6.DE.GeneActivity.csv\"\n",
      "              p_val avg_log2FC pct.1 pct.2  p_val_adj\n",
      "TDRD5  4.433039e-06 -0.2807706 0.125 0.275 0.08870511\n",
      "BMP5   8.306252e-05 -0.1846469 0.060 0.163 1.00000000\n",
      "EPB42  1.166091e-04  0.2997136 0.335 0.190 1.00000000\n",
      "HS1BP3 1.266541e-04 -0.2934626 0.161 0.314 1.00000000\n",
      "GNG7   1.689671e-04  0.2578681 0.335 0.163 1.00000000\n",
      "STX7   2.325957e-04 -0.3632991 0.323 0.484 1.00000000\n",
      "[1] \"saved clones 2 6\"\n"
     ]
    },
    {
     "name": "stderr",
     "output_type": "stream",
     "text": [
      "Saving 6.67 x 6.67 in image\n",
      "\n"
     ]
    },
    {
     "name": "stdout",
     "output_type": "stream",
     "text": [
      "[1] \"plotted clones 2 6\"\n",
      "[1] 3 4\n",
      "61 Levels: 0 1 2 3 4 5 6 7 8 9 10 11 12 13 14 15 16 17 18 19 20 21 22 23 ... None\n",
      "[1] \"clones 13\"\n"
     ]
    },
    {
     "name": "stderr",
     "output_type": "stream",
     "text": [
      "Warning message:\n",
      "“glm.fit: fitted probabilities numerically 0 or 1 occurred”\n"
     ]
    },
    {
     "name": "stdout",
     "output_type": "stream",
     "text": [
      "[1] \"/data2/mito_lineage/output/annotation_clones/data/cd34norm/MTblacklist/DE_large/donor2/clones_3__4.DE.GeneActivity.csv\"\n",
      "              p_val avg_log2FC pct.1 pct.2 p_val_adj\n",
      "GTPBP8 8.286186e-06  0.1170918 0.069 0.000 0.1658066\n",
      "CADM3  7.422637e-05  0.1346587 0.112 0.029 1.0000000\n",
      "MMP16  2.241698e-04 -0.3307806 0.253 0.414 1.0000000\n",
      "AFG3L2 2.439284e-04 -0.2890366 0.133 0.270 1.0000000\n",
      "CHST7  2.480543e-04  0.1103569 0.064 0.006 1.0000000\n",
      "ZMYM5  2.507802e-04 -0.1969757 0.052 0.172 1.0000000\n",
      "[1] \"saved clones 3 4\"\n"
     ]
    },
    {
     "name": "stderr",
     "output_type": "stream",
     "text": [
      "Saving 6.67 x 6.67 in image\n",
      "\n"
     ]
    },
    {
     "name": "stdout",
     "output_type": "stream",
     "text": [
      "[1] \"plotted clones 3 4\"\n",
      "[1] 3 6\n",
      "61 Levels: 0 1 2 3 4 5 6 7 8 9 10 11 12 13 14 15 16 17 18 19 20 21 22 23 ... None\n",
      "[1] \"clones 14\"\n",
      "[1] \"/data2/mito_lineage/output/annotation_clones/data/cd34norm/MTblacklist/DE_large/donor2/clones_3__6.DE.GeneActivity.csv\"\n",
      "              p_val avg_log2FC pct.1 pct.2 p_val_adj\n",
      "TASP1  8.392919e-06 -0.3919912 0.356 0.569 0.1679423\n",
      "PHLPP1 1.262704e-05 -0.3310317 0.206 0.425 0.2526670\n",
      "TDRD5  5.341582e-05 -0.2413803 0.099 0.275 1.0000000\n",
      "ANO5   1.195170e-04 -0.2431207 0.064 0.170 1.0000000\n",
      "TXLNB  1.281952e-04 -0.2993754 0.137 0.275 1.0000000\n",
      "RDM1   1.553951e-04  0.1554841 0.094 0.020 1.0000000\n",
      "[1] \"saved clones 3 6\"\n"
     ]
    },
    {
     "name": "stderr",
     "output_type": "stream",
     "text": [
      "Saving 6.67 x 6.67 in image\n",
      "\n"
     ]
    },
    {
     "name": "stdout",
     "output_type": "stream",
     "text": [
      "[1] \"plotted clones 3 6\"\n",
      "[1] 4 6\n",
      "61 Levels: 0 1 2 3 4 5 6 7 8 9 10 11 12 13 14 15 16 17 18 19 20 21 22 23 ... None\n",
      "[1] \"clones 15\"\n"
     ]
    },
    {
     "name": "stderr",
     "output_type": "stream",
     "text": [
      "Warning message:\n",
      "“glm.fit: fitted probabilities numerically 0 or 1 occurred”\n"
     ]
    },
    {
     "name": "stdout",
     "output_type": "stream",
     "text": [
      "[1] \"/data2/mito_lineage/output/annotation_clones/data/cd34norm/MTblacklist/DE_large/donor2/clones_4__6.DE.GeneActivity.csv\"\n",
      "                p_val avg_log2FC pct.1 pct.2 p_val_adj\n",
      "HIST1H4B 5.638450e-06 -0.1875605 0.011 0.124 0.1128254\n",
      "CCNA1    3.465334e-05 -0.1385110 0.000 0.072 0.6934133\n",
      "GNG7     1.006521e-04  0.2598586 0.328 0.163 1.0000000\n",
      "KRT8     1.301186e-04  0.2407378 0.270 0.144 1.0000000\n",
      "TSG101   1.333227e-04 -0.1919229 0.109 0.235 1.0000000\n",
      "FAM20C   1.684406e-04  0.2119267 0.161 0.059 1.0000000\n",
      "[1] \"saved clones 4 6\"\n"
     ]
    },
    {
     "name": "stderr",
     "output_type": "stream",
     "text": [
      "Saving 6.67 x 6.67 in image\n",
      "\n"
     ]
    },
    {
     "name": "stdout",
     "output_type": "stream",
     "text": [
      "[1] \"plotted clones 4 6\"\n",
      "[1] \"donor\"\n",
      "[1] 3\n",
      "[1] \"clones\"\n",
      "[1] 0  36 1 \n",
      "61 Levels: 0 1 2 3 4 5 6 7 8 9 10 11 12 13 14 15 16 17 18 19 20 21 22 23 ... None\n",
      "[1] 3\n",
      "[1] \"se.filt\"\n",
      "[1] 1564   32\n"
     ]
    },
    {
     "name": "stderr",
     "output_type": "stream",
     "text": [
      "Saving 6.67 x 6.67 in image\n",
      "\n"
     ]
    },
    {
     "name": "stdout",
     "output_type": "stream",
     "text": [
      "[1] 0  36\n",
      "61 Levels: 0 1 2 3 4 5 6 7 8 9 10 11 12 13 14 15 16 17 18 19 20 21 22 23 ... None\n",
      "[1] \"clones 1\"\n",
      "[1] \"/data2/mito_lineage/output/annotation_clones/data/cd34norm/MTblacklist/DE_large/donor3/clones_0__36.DE.GeneActivity.csv\"\n",
      "               p_val avg_log2FC pct.1 pct.2 p_val_adj\n",
      "ROPN1L  7.433907e-05  0.1583727 0.191 0.092         1\n",
      "CWH43   1.401622e-04 -0.1158432 0.054 0.101         1\n",
      "PLEKHM3 1.788025e-04 -0.1836028 0.152 0.183         1\n",
      "SCRG1   5.315491e-04 -0.1040779 0.037 0.069         1\n",
      "ANK1    5.635061e-04  0.2169554 0.480 0.333         1\n",
      "ROR2    5.955284e-04  0.1812300 0.495 0.329         1\n",
      "[1] \"saved clones 0 36\"\n"
     ]
    },
    {
     "name": "stderr",
     "output_type": "stream",
     "text": [
      "Saving 6.67 x 6.67 in image\n",
      "\n"
     ]
    },
    {
     "name": "stdout",
     "output_type": "stream",
     "text": [
      "[1] \"plotted clones 0 36\"\n",
      "[1] 0 1\n",
      "61 Levels: 0 1 2 3 4 5 6 7 8 9 10 11 12 13 14 15 16 17 18 19 20 21 22 23 ... None\n",
      "[1] \"clones 2\"\n",
      "[1] \"/data2/mito_lineage/output/annotation_clones/data/cd34norm/MTblacklist/DE_large/donor3/clones_0__1.DE.GeneActivity.csv\"\n",
      "               p_val avg_log2FC pct.1 pct.2 p_val_adj\n",
      "MED1    1.034568e-05 -0.1160458 0.073 0.128 0.2070171\n",
      "FASTKD3 1.833603e-05 -0.1171944 0.047 0.090 0.3669039\n",
      "TRAM2   1.195739e-04  0.1640235 0.306 0.187 1.0000000\n",
      "RIN3    2.085291e-04 -0.1926002 0.443 0.484 1.0000000\n",
      "PDE2A   2.529285e-04 -0.1223759 0.157 0.223 1.0000000\n",
      "HPRT1   2.552215e-04 -0.1285776 0.066 0.114 1.0000000\n",
      "[1] \"saved clones 0 1\"\n"
     ]
    },
    {
     "name": "stderr",
     "output_type": "stream",
     "text": [
      "Saving 6.67 x 6.67 in image\n",
      "\n"
     ]
    },
    {
     "name": "stdout",
     "output_type": "stream",
     "text": [
      "[1] \"plotted clones 0 1\"\n",
      "[1] 36 1 \n",
      "61 Levels: 0 1 2 3 4 5 6 7 8 9 10 11 12 13 14 15 16 17 18 19 20 21 22 23 ... None\n",
      "[1] \"clones 3\"\n",
      "[1] \"/data2/mito_lineage/output/annotation_clones/data/cd34norm/MTblacklist/DE_large/donor3/clones_36__1.DE.GeneActivity.csv\"\n",
      "               p_val avg_log2FC pct.1 pct.2 p_val_adj\n",
      "CHID1   5.225129e-05 -0.1135333 0.036 0.103         1\n",
      "SLC24A1 1.059795e-04 -0.1428318 0.074 0.162         1\n",
      "PRR16   1.529832e-04  0.2032124 0.244 0.160         1\n",
      "ROR2    2.095816e-04 -0.1947256 0.329 0.461         1\n",
      "SRCAP   2.346748e-04 -0.1590406 0.119 0.204         1\n",
      "ARSB    2.729463e-04  0.1877894 0.322 0.250         1\n",
      "[1] \"saved clones 36 1\"\n"
     ]
    },
    {
     "name": "stderr",
     "output_type": "stream",
     "text": [
      "Saving 6.67 x 6.67 in image\n",
      "\n"
     ]
    },
    {
     "name": "stdout",
     "output_type": "stream",
     "text": [
      "[1] \"plotted clones 36 1\"\n"
     ]
    }
   ],
   "source": [
    "for (d in 0:(n_donors-1)){\n",
    "    print('donor')\n",
    "    print(d)\n",
    "    curr.outdir <- file.path(outdir, paste0(\"donor\", d))\n",
    "    dir.create(curr.outdir)\n",
    "    ## Filter by donor and large clones\n",
    "    donor.large.clones <- large.clones %>% filter(donor==d)\n",
    "    curr.clones <- donor.large.clones$lineage\n",
    "    #se.filt <- subset(se, subset = (donor.large.clones$donor==d))\n",
    "    #se.filt <- subset(se.filt, subset= (lineage %in% donor.large.clones$lineage))\n",
    "    #Idents(se.filt) <- se.filt$lineage\n",
    "    \n",
    "    print('clones')\n",
    "    print(curr.clones)\n",
    "    print(length(curr.clones))\n",
    "    se.filt <- subset(se, subset = (donor==d) & (lineage %in% curr.clones))\n",
    "    Idents(se.filt) <- se.filt$lineage  \n",
    "    print('se.filt')\n",
    "    print(dim(se.filt[[]]))  \n",
    "\n",
    "    DefaultAssay(se.filt) <- \"RNA\"\n",
    "    p <- DimPlot(se.filt, split.by = \"lineage\")\n",
    "    ggsave(file.path(curr.outdir, paste0(\"donor.clones.dimplot.png\")))\n",
    "    ## Run DE on pairs of significant clones\n",
    "    #(compare regressions vs expansions too)\n",
    "    run_de(se.filt, curr.clones, curr.outdir)\n",
    "    \n",
    "}"
   ]
  }
 ],
 "metadata": {
  "celltoolbar": "Tags",
  "kernelspec": {
   "display_name": "R",
   "language": "R",
   "name": "ir"
  },
  "language_info": {
   "codemirror_mode": "r",
   "file_extension": ".r",
   "mimetype": "text/x-r-source",
   "name": "R",
   "pygments_lexer": "r",
   "version": "4.1.1"
  }
 },
 "nbformat": 4,
 "nbformat_minor": 5
}
