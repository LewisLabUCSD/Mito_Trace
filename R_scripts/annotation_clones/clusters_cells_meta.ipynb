{
 "cells": [
  {
   "cell_type": "markdown",
   "id": "223d6f46",
   "metadata": {},
   "source": [
    "## Runs DE on different clusters. Also runs DE within each cluster for each condition.\n",
    "Does this over each donor and combined"
   ]
  },
  {
   "cell_type": "code",
   "execution_count": 1,
   "id": "235ae72f",
   "metadata": {
    "tags": [
     "parameters"
    ]
   },
   "outputs": [],
   "source": [
    "se_f = \"/data/Mito_Trace/output/pipeline/TcellDupi_may17_2021/MTblacklist/data/merged/MT/cellr_True/numread_200/filters/minC10_minR50_topN0_hetT0.001_hetC10_hetCount5_bq20/mgatk/vireoIn/clones/variants_init/knn/kparam_3/concat/gff_hg38_1_2/annotation_clones/SE.rds\"\n"
   ]
  },
  {
   "cell_type": "code",
   "execution_count": 2,
   "id": "7cc056e3",
   "metadata": {
    "scrolled": false
   },
   "outputs": [
    {
     "name": "stderr",
     "output_type": "stream",
     "text": [
      "Loading required package: SeuratObject\n",
      "\n",
      "Loading required package: Signac\n",
      "\n"
     ]
    },
    {
     "data": {
      "text/plain": [
       "An object of class Seurat \n",
       "97805 features across 22239 samples within 2 assays \n",
       "Active assay: RNA (19575 features, 0 variable features)\n",
       " 1 other assay present: ATAC\n",
       " 2 dimensional reductions calculated: integrated_lsi, umap"
      ]
     },
     "metadata": {},
     "output_type": "display_data"
    }
   ],
   "source": [
    "se <- readRDS(se_f)#file.path(indir, paste0(\"allSamples.integrated.rds\")))\n",
    "se"
   ]
  },
  {
   "cell_type": "code",
   "execution_count": 3,
   "id": "5d5a47f9",
   "metadata": {},
   "outputs": [],
   "source": [
    "write.table(se[[]],file=file.path(dirname(se_f), \"se_cells_meta.tsv\"), sep = \"\\t\", quote=FALSE)"
   ]
  },
  {
   "cell_type": "code",
   "execution_count": 4,
   "id": "c0daa6c8",
   "metadata": {
    "scrolled": true
   },
   "outputs": [
    {
     "data": {
      "text/plain": [
       "R version 4.1.1 (2021-08-10)\n",
       "Platform: x86_64-conda-linux-gnu (64-bit)\n",
       "Running under: Ubuntu 20.04.3 LTS\n",
       "\n",
       "Matrix products: default\n",
       "BLAS/LAPACK: /home/isaac/miniconda3/envs/mttrace/lib/libopenblasp-r0.3.18.so\n",
       "\n",
       "locale:\n",
       " [1] LC_CTYPE=en_US.UTF-8       LC_NUMERIC=C              \n",
       " [3] LC_TIME=en_US.UTF-8        LC_COLLATE=en_US.UTF-8    \n",
       " [5] LC_MONETARY=en_US.UTF-8    LC_MESSAGES=en_US.UTF-8   \n",
       " [7] LC_PAPER=en_US.UTF-8       LC_NAME=C                 \n",
       " [9] LC_ADDRESS=C               LC_TELEPHONE=C            \n",
       "[11] LC_MEASUREMENT=en_US.UTF-8 LC_IDENTIFICATION=C       \n",
       "\n",
       "attached base packages:\n",
       "[1] stats     graphics  grDevices utils     datasets  methods   base     \n",
       "\n",
       "other attached packages:\n",
       "[1] Signac_1.4.0       SeuratObject_4.0.4\n",
       "\n",
       "loaded via a namespace (and not attached):\n",
       "  [1] Seurat_4.0.5           Rtsne_0.15             colorspace_2.0-2      \n",
       "  [4] deldir_1.0-6           ellipsis_0.3.2         ggridges_0.5.3        \n",
       "  [7] lsa_0.73.2             IRdisplay_1.0          XVector_0.34.0        \n",
       " [10] GenomicRanges_1.46.0   base64enc_0.1-3        spatstat.data_2.1-0   \n",
       " [13] farver_2.1.0           leiden_0.3.9           listenv_0.8.0         \n",
       " [16] SnowballC_0.7.0        ggrepel_0.9.1          fansi_0.4.2           \n",
       " [19] codetools_0.2-18       splines_4.1.1          docopt_0.7.1          \n",
       " [22] polyclip_1.10-0        RcppRoll_0.3.0         IRkernel_1.2          \n",
       " [25] jsonlite_1.7.2         Rsamtools_2.10.0       ica_1.0-2             \n",
       " [28] cluster_2.1.2          png_0.1-7              uwot_0.1.10           \n",
       " [31] ggforce_0.3.3          shiny_1.7.1            sctransform_0.3.2     \n",
       " [34] spatstat.sparse_2.0-0  compiler_4.1.1         httr_1.4.2            \n",
       " [37] assertthat_0.2.1       Matrix_1.3-4           fastmap_1.1.0         \n",
       " [40] lazyeval_0.2.2         tweenr_1.0.2           later_1.2.0           \n",
       " [43] htmltools_0.5.2        tools_4.1.1            igraph_1.2.9          \n",
       " [46] gtable_0.3.0           glue_1.5.1             GenomeInfoDbData_1.2.7\n",
       " [49] RANN_2.6.1             reshape2_1.4.4         dplyr_1.0.7           \n",
       " [52] fastmatch_1.1-3        Rcpp_1.0.7             slam_0.1-49           \n",
       " [55] scattermore_0.7        vctrs_0.3.8            Biostrings_2.62.0     \n",
       " [58] nlme_3.1-153           ggseqlogo_0.1          lmtest_0.9-39         \n",
       " [61] stringr_1.4.0          globals_0.14.0         mime_0.12             \n",
       " [64] miniUI_0.1.1.1         lifecycle_1.0.1        irlba_2.3.3           \n",
       " [67] goftest_1.2-3          future_1.23.0          zlibbioc_1.40.0       \n",
       " [70] MASS_7.3-54            zoo_1.8-9              scales_1.1.1          \n",
       " [73] spatstat.core_2.3-2    promises_1.2.0.1       spatstat.utils_2.2-0  \n",
       " [76] parallel_4.1.1         RColorBrewer_1.1-2     reticulate_1.22       \n",
       " [79] pbapply_1.5-0          gridExtra_2.3          ggplot2_3.3.5         \n",
       " [82] rpart_4.1-15           stringi_1.7.6          S4Vectors_0.32.0      \n",
       " [85] BiocGenerics_0.40.0    BiocParallel_1.28.0    repr_1.1.3            \n",
       " [88] GenomeInfoDb_1.30.0    rlang_0.4.12           pkgconfig_2.0.3       \n",
       " [91] matrixStats_0.61.0     bitops_1.0-7           qlcMatrix_0.9.7       \n",
       " [94] evaluate_0.14          lattice_0.20-45        tensor_1.5            \n",
       " [97] ROCR_1.0-11            purrr_0.3.4            patchwork_1.1.1       \n",
       "[100] htmlwidgets_1.5.4      cowplot_1.1.1          tidyselect_1.1.1      \n",
       "[103] parallelly_1.29.0      RcppAnnoy_0.0.19       plyr_1.8.6            \n",
       "[106] magrittr_2.0.1         R6_2.5.1               IRanges_2.28.0        \n",
       "[109] generics_0.1.1         pbdZMQ_0.3-6           DBI_1.1.1             \n",
       "[112] mgcv_1.8-38            pillar_1.6.4           fitdistrplus_1.1-6    \n",
       "[115] survival_3.2-13        abind_1.4-5            RCurl_1.98-1.5        \n",
       "[118] tibble_3.1.6           future.apply_1.8.1     crayon_1.4.2          \n",
       "[121] uuid_1.0-3             KernSmooth_2.23-20     utf8_1.2.2            \n",
       "[124] spatstat.geom_2.3-0    plotly_4.10.0          grid_4.1.1            \n",
       "[127] data.table_1.14.2      sparsesvd_0.2          digest_0.6.28         \n",
       "[130] xtable_1.8-4           tidyr_1.1.4            httpuv_1.6.3          \n",
       "[133] stats4_4.1.1           munsell_0.5.0          viridisLite_0.4.0     "
      ]
     },
     "metadata": {},
     "output_type": "display_data"
    }
   ],
   "source": [
    "sessionInfo()"
   ]
  },
  {
   "cell_type": "code",
   "execution_count": null,
   "id": "2c0d478b",
   "metadata": {},
   "outputs": [],
   "source": []
  }
 ],
 "metadata": {
  "celltoolbar": "Tags",
  "kernelspec": {
   "display_name": "R",
   "language": "R",
   "name": "ir"
  },
  "language_info": {
   "codemirror_mode": "r",
   "file_extension": ".r",
   "mimetype": "text/x-r-source",
   "name": "R",
   "pygments_lexer": "r",
   "version": "4.1.1"
  }
 },
 "nbformat": 4,
 "nbformat_minor": 5
}
