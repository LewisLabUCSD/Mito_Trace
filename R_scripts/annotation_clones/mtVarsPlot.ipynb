{
 "cells": [
  {
   "cell_type": "markdown",
   "id": "223d6f46",
   "metadata": {},
   "source": [
    "## Plot mt variants on nuclear embedding"
   ]
  },
  {
   "cell_type": "code",
   "execution_count": 1,
   "id": "235ae72f",
   "metadata": {
    "tags": [
     "parameters"
    ]
   },
   "outputs": [],
   "source": [
    "# Input info\n",
    "se_f = \"/data/Mito_Trace/output/pipeline/CHIP_b1/MTBlacklist_A2/data/merged/MT/cellr_True/numread_200/filters/minC10_minR50_topN0_hetT0.001_hetC10_hetCount5_bq20/mgatk/vireoIn/clones/variants_init/knn/kparam_3/concat/gff_A2_black/annotation_clones/SE.rds\"\n",
    "cells_meta_f = \"/data/Mito_Trace/output/pipeline/CHIP_b1/MTBlacklist_A2/data/merged/MT/cellr_True/numread_200/filters/minC10_minR50_topN0_hetT0.001_hetC10_hetCount5_bq20/mgatk/vireoIn/multiplex/mt_clones/thr__0.01_rt__10/cells_mt.tsv\"\n",
    "outdir = \"/data/Mito_Trace/output/pipeline/CHIP_b1/MTBlacklist_A2/data/merged/MT/cellr_True/numread_200/filters/minC10_minR50_topN0_hetT0.001_hetC10_hetCount5_bq20/mgatk/vireoIn/clones/variants_init/knn/kparam_3/concat/gff_A2_black/annotation_clones/de_clone_btwnvars_RNA_af/\"\n",
    "\n",
    "ids.reversed = T #reverse IDs from suffix to prefix\n",
    "\n",
    "# Parallel processing\n",
    "cores = 4\n",
    "# R utils script\n",
    "utils_script <- \"/data/Mito_Trace/R_scripts/seurat_utils.R\"\n"
   ]
  },
  {
   "cell_type": "code",
   "execution_count": 2,
   "id": "73d7f863",
   "metadata": {
    "scrolled": true
   },
   "outputs": [
    {
     "name": "stderr",
     "output_type": "stream",
     "text": [
      "Loading required package: stats4\n",
      "\n",
      "Loading required package: BiocGenerics\n",
      "\n",
      "\n",
      "Attaching package: ‘BiocGenerics’\n",
      "\n",
      "\n",
      "The following objects are masked from ‘package:stats’:\n",
      "\n",
      "    IQR, mad, sd, var, xtabs\n",
      "\n",
      "\n",
      "The following objects are masked from ‘package:base’:\n",
      "\n",
      "    anyDuplicated, append, as.data.frame, basename, cbind, colnames,\n",
      "    dirname, do.call, duplicated, eval, evalq, Filter, Find, get, grep,\n",
      "    grepl, intersect, is.unsorted, lapply, Map, mapply, match, mget,\n",
      "    order, paste, pmax, pmax.int, pmin, pmin.int, Position, rank,\n",
      "    rbind, Reduce, rownames, sapply, setdiff, sort, table, tapply,\n",
      "    union, unique, unsplit, which.max, which.min\n",
      "\n",
      "\n",
      "Loading required package: S4Vectors\n",
      "\n",
      "\n",
      "Attaching package: ‘S4Vectors’\n",
      "\n",
      "\n",
      "The following objects are masked from ‘package:base’:\n",
      "\n",
      "    expand.grid, I, unname\n",
      "\n",
      "\n",
      "Loading required package: IRanges\n",
      "\n",
      "Loading required package: GenomeInfoDb\n",
      "\n",
      "Attaching SeuratObject\n",
      "\n",
      "Loading required package: ensembldb\n",
      "\n",
      "Loading required package: GenomicFeatures\n",
      "\n",
      "Loading required package: AnnotationDbi\n",
      "\n",
      "Loading required package: Biobase\n",
      "\n",
      "Welcome to Bioconductor\n",
      "\n",
      "    Vignettes contain introductory material; view with\n",
      "    'browseVignettes()'. To cite Bioconductor, see\n",
      "    'citation(\"Biobase\")', and for packages 'citation(\"pkgname\")'.\n",
      "\n",
      "\n",
      "Loading required package: AnnotationFilter\n",
      "\n",
      "\n",
      "Attaching package: 'ensembldb'\n",
      "\n",
      "\n",
      "The following object is masked from 'package:stats':\n",
      "\n",
      "    filter\n",
      "\n",
      "\n",
      "\n",
      "Attaching package: 'data.table'\n",
      "\n",
      "\n",
      "The following object is masked from 'package:GenomicRanges':\n",
      "\n",
      "    shift\n",
      "\n",
      "\n",
      "The following object is masked from 'package:IRanges':\n",
      "\n",
      "    shift\n",
      "\n",
      "\n",
      "The following objects are masked from 'package:S4Vectors':\n",
      "\n",
      "    first, second\n",
      "\n",
      "\n",
      "\n",
      "Attaching package: 'magrittr'\n",
      "\n",
      "\n",
      "The following object is masked from 'package:AnnotationFilter':\n",
      "\n",
      "    not\n",
      "\n",
      "\n",
      "\n",
      "Attaching package: 'cowplot'\n",
      "\n",
      "\n",
      "The following object is masked from 'package:patchwork':\n",
      "\n",
      "    align_plots\n",
      "\n",
      "\n",
      "\n",
      "Attaching package: 'dplyr'\n",
      "\n",
      "\n",
      "The following objects are masked from 'package:data.table':\n",
      "\n",
      "    between, first, last\n",
      "\n",
      "\n",
      "The following objects are masked from 'package:ensembldb':\n",
      "\n",
      "    filter, select\n",
      "\n",
      "\n",
      "The following object is masked from 'package:AnnotationDbi':\n",
      "\n",
      "    select\n",
      "\n",
      "\n",
      "The following object is masked from 'package:Biobase':\n",
      "\n",
      "    combine\n",
      "\n",
      "\n",
      "The following objects are masked from 'package:GenomicRanges':\n",
      "\n",
      "    intersect, setdiff, union\n",
      "\n",
      "\n",
      "The following object is masked from 'package:GenomeInfoDb':\n",
      "\n",
      "    intersect\n",
      "\n",
      "\n",
      "The following objects are masked from 'package:IRanges':\n",
      "\n",
      "    collapse, desc, intersect, setdiff, slice, union\n",
      "\n",
      "\n",
      "The following objects are masked from 'package:S4Vectors':\n",
      "\n",
      "    first, intersect, rename, setdiff, setequal, union\n",
      "\n",
      "\n",
      "The following objects are masked from 'package:BiocGenerics':\n",
      "\n",
      "    combine, intersect, setdiff, union\n",
      "\n",
      "\n",
      "The following objects are masked from 'package:stats':\n",
      "\n",
      "    filter, lag\n",
      "\n",
      "\n",
      "The following objects are masked from 'package:base':\n",
      "\n",
      "    intersect, setdiff, setequal, union\n",
      "\n",
      "\n",
      "\n",
      "Attaching package: 'future'\n",
      "\n",
      "\n",
      "The following object is masked from 'package:AnnotationFilter':\n",
      "\n",
      "    value\n",
      "\n",
      "\n",
      "The following object is masked from 'package:GenomicRanges':\n",
      "\n",
      "    values\n",
      "\n",
      "\n",
      "The following object is masked from 'package:S4Vectors':\n",
      "\n",
      "    values\n",
      "\n",
      "\n"
     ]
    },
    {
     "data": {
      "text/html": [
       "<pre class=language-r><code>structure(function (..., envir = parent.frame()) \n",
       "{\n",
       "<span style=white-space:pre-wrap>    future &lt;- SequentialFuture(..., envir = envir)</span>\n",
       "<span style=white-space:pre-wrap>    if (!future$lazy) </span>\n",
       "<span style=white-space:pre-wrap>        future &lt;- run(future)</span>\n",
       "<span style=white-space:pre-wrap>    invisible(future)</span>\n",
       "}, class = c(\"FutureStrategy\", \"sequential\", \"uniprocess\", \"future\", \n",
       "\"function\"))</code></pre>"
      ],
      "text/latex": [
       "\\begin{minted}{r}\n",
       "structure(function (..., envir = parent.frame()) \n",
       "\\{\n",
       "    future <- SequentialFuture(..., envir = envir)\n",
       "    if (!future\\$lazy) \n",
       "        future <- run(future)\n",
       "    invisible(future)\n",
       "\\}, class = c(\"FutureStrategy\", \"sequential\", \"uniprocess\", \"future\", \n",
       "\"function\"))\n",
       "\\end{minted}"
      ],
      "text/markdown": [
       "```r\n",
       "structure(function (..., envir = parent.frame()) \n",
       "{\n",
       "    future <- SequentialFuture(..., envir = envir)\n",
       "    if (!future$lazy) \n",
       "        future <- run(future)\n",
       "    invisible(future)\n",
       "}, class = c(\"FutureStrategy\", \"sequential\", \"uniprocess\", \"future\", \n",
       "\"function\"))\n",
       "```"
      ],
      "text/plain": [
       "sequential:\n",
       "- args: function (..., envir = parent.frame())\n",
       "- tweaked: FALSE\n",
       "- call: NULL"
      ]
     },
     "metadata": {},
     "output_type": "display_data"
    },
    {
     "name": "stderr",
     "output_type": "stream",
     "text": [
      "Warning message:\n",
      "\"Strategy 'multiprocess' is deprecated in future (>= 1.20.0). Instead, explicitly specify either 'multisession' or 'multicore'. In the current R session, 'multiprocess' equals 'multicore'.\"\n"
     ]
    }
   ],
   "source": [
    "library(GenomicRanges)\n",
    "library(Seurat)\n",
    "library(Signac)\n",
    "library(GenomeInfoDb)\n",
    "library(EnsDb.Hsapiens.v75)\n",
    "library(ggplot2)\n",
    "library(patchwork)\n",
    "set.seed(1234)\n",
    "library(data.table)\n",
    "library(magrittr)\n",
    "library(cowplot)\n",
    "library(metap)\n",
    "library(\"RColorBrewer\")\n",
    "library(dplyr)\n",
    "library(future)\n",
    "plan()\n",
    "\n",
    "plan(\"multiprocess\", workers = cores)\n",
    "#options(future.globals.maxSize = 50000 * 1024^2) # for 50 Gb RAM\n",
    "options(future.globals.maxSize = 8000 * 1024^2)"
   ]
  },
  {
   "cell_type": "code",
   "execution_count": 3,
   "id": "1f2a4ae7",
   "metadata": {},
   "outputs": [],
   "source": [
    "source(utils_script)"
   ]
  },
  {
   "cell_type": "code",
   "execution_count": 4,
   "id": "7f8b7d37",
   "metadata": {},
   "outputs": [
    {
     "name": "stderr",
     "output_type": "stream",
     "text": [
      "Warning message in dir.create(outdir):\n",
      "\"'/data/Mito_Trace/output/pipeline/CHIP_b1/MTBlacklist_A2/data/merged/MT/cellr_True/numread_200/filters/minC10_minR50_topN0_hetT0.001_hetC10_hetCount5_bq20/mgatk/vireoIn/clones/variants_init/knn/kparam_3/concat/gff_A2_black/annotation_clones/de_clone_btwnvars_RNA_af' already exists\"\n"
     ]
    }
   ],
   "source": [
    "dir.create(outdir)"
   ]
  },
  {
   "cell_type": "code",
   "execution_count": 5,
   "id": "aaec9d83",
   "metadata": {
    "scrolled": false
   },
   "outputs": [
    {
     "data": {
      "text/html": [
       "<table class=\"dataframe\">\n",
       "<caption>A data.frame: 17280 × 56</caption>\n",
       "<thead>\n",
       "\t<tr><th></th><th scope=col>X10463C</th><th scope=col>X10559G</th><th scope=col>X11251G</th><th scope=col>X11453A</th><th scope=col>X11719A</th><th scope=col>X11812G</th><th scope=col>X13368A</th><th scope=col>X14233G</th><th scope=col>X14674C</th><th scope=col>X14905A</th><th scope=col>⋯</th><th scope=col>X196C</th><th scope=col>X204C</th><th scope=col>X2442C</th><th scope=col>X3847C</th><th scope=col>X58C</th><th scope=col>X64T</th><th scope=col>X7598A</th><th scope=col>X827G</th><th scope=col>X8292A</th><th scope=col>X8461T</th></tr>\n",
       "\t<tr><th></th><th scope=col>&lt;dbl&gt;</th><th scope=col>&lt;dbl&gt;</th><th scope=col>&lt;dbl&gt;</th><th scope=col>&lt;dbl&gt;</th><th scope=col>&lt;dbl&gt;</th><th scope=col>&lt;dbl&gt;</th><th scope=col>&lt;dbl&gt;</th><th scope=col>&lt;dbl&gt;</th><th scope=col>&lt;dbl&gt;</th><th scope=col>&lt;dbl&gt;</th><th scope=col>⋯</th><th scope=col>&lt;dbl&gt;</th><th scope=col>&lt;dbl&gt;</th><th scope=col>&lt;dbl&gt;</th><th scope=col>&lt;dbl&gt;</th><th scope=col>&lt;dbl&gt;</th><th scope=col>&lt;dbl&gt;</th><th scope=col>&lt;dbl&gt;</th><th scope=col>&lt;dbl&gt;</th><th scope=col>&lt;dbl&gt;</th><th scope=col>&lt;dbl&gt;</th></tr>\n",
       "</thead>\n",
       "<tbody>\n",
       "\t<tr><th scope=row>AAACGAAAGAATCAAC-1_Control</th><td>0.00000000</td><td>0.00000000</td><td>0.15384615</td><td>0.00000000</td><td>0.00000000</td><td>0.05405405</td><td>0</td><td>0.0000000</td><td>0</td><td>0.00000000</td><td>⋯</td><td>NA</td><td>NA</td><td>NA</td><td>NA</td><td>NA</td><td>NA</td><td>NA</td><td>NA</td><td>NA</td><td>NA</td></tr>\n",
       "\t<tr><th scope=row>AAACGAAAGACGCCAA-1_Input</th><td>0.00000000</td><td>0.00000000</td><td>0.00000000</td><td>0.00000000</td><td>0.00000000</td><td>0.00000000</td><td>0</td><td>0.0000000</td><td>0</td><td>0.00000000</td><td>⋯</td><td>NA</td><td>NA</td><td>NA</td><td>NA</td><td>NA</td><td>NA</td><td>NA</td><td>NA</td><td>NA</td><td>NA</td></tr>\n",
       "\t<tr><th scope=row>AAACGAAAGCGAGAAA-1_Control</th><td>0.00000000</td><td>0.00000000</td><td>0.00000000</td><td>0.00000000</td><td>0.00000000</td><td>0.00000000</td><td>0</td><td>0.0000000</td><td>0</td><td>0.00000000</td><td>⋯</td><td>NA</td><td>NA</td><td>NA</td><td>NA</td><td>NA</td><td>NA</td><td>NA</td><td>NA</td><td>NA</td><td>NA</td></tr>\n",
       "\t<tr><th scope=row>AAACGAAAGTACAGAT-1_Control</th><td>0.00000000</td><td>0.00000000</td><td>0.00000000</td><td>0.00000000</td><td>0.00000000</td><td>0.00000000</td><td>0</td><td>0.0000000</td><td>0</td><td>0.00000000</td><td>⋯</td><td>NA</td><td>NA</td><td>NA</td><td>NA</td><td>NA</td><td>NA</td><td>NA</td><td>NA</td><td>NA</td><td>NA</td></tr>\n",
       "\t<tr><th scope=row>AAACGAAAGTTAGCAA-1_Control</th><td>0.00000000</td><td>0.00000000</td><td>0.00000000</td><td>0.00000000</td><td>0.42857143</td><td>0.00000000</td><td>0</td><td>0.0000000</td><td>0</td><td>0.00000000</td><td>⋯</td><td>NA</td><td>NA</td><td>NA</td><td>NA</td><td>NA</td><td>NA</td><td>NA</td><td>NA</td><td>NA</td><td>NA</td></tr>\n",
       "\t<tr><th scope=row>AAACGAACAAGCGAAC-1_Flt3l</th><td>0.00000000</td><td>0.00000000</td><td>0.00000000</td><td>0.00000000</td><td>0.11111111</td><td>0.00000000</td><td>0</td><td>0.0000000</td><td>0</td><td>0.00000000</td><td>⋯</td><td>NA</td><td>NA</td><td>NA</td><td>NA</td><td>NA</td><td>NA</td><td>NA</td><td>NA</td><td>NA</td><td>NA</td></tr>\n",
       "\t<tr><th scope=row>AAACGAACACAGCCAC-1_Flt3l</th><td>0.00000000</td><td>0.00000000</td><td>0.00000000</td><td>0.00000000</td><td>0.00000000</td><td>0.00000000</td><td>0</td><td>0.0000000</td><td>0</td><td>0.00000000</td><td>⋯</td><td>NA</td><td>NA</td><td>NA</td><td>NA</td><td>NA</td><td>NA</td><td>NA</td><td>NA</td><td>NA</td><td>NA</td></tr>\n",
       "\t<tr><th scope=row>AAACGAACACAGGTAG-1_Flt3l</th><td>0.00000000</td><td>0.00000000</td><td>0.00000000</td><td>0.00000000</td><td>0.00000000</td><td>0.00000000</td><td>0</td><td>0.0000000</td><td>0</td><td>0.00000000</td><td>⋯</td><td>NA</td><td>NA</td><td>NA</td><td>NA</td><td>NA</td><td>NA</td><td>NA</td><td>NA</td><td>NA</td><td>NA</td></tr>\n",
       "\t<tr><th scope=row>AAACGAACACGCTCAG-1_Input</th><td>0.00000000</td><td>0.00000000</td><td>0.00000000</td><td>0.00000000</td><td>0.00000000</td><td>0.00000000</td><td>0</td><td>0.0000000</td><td>0</td><td>0.00000000</td><td>⋯</td><td>NA</td><td>NA</td><td>NA</td><td>NA</td><td>NA</td><td>NA</td><td>NA</td><td>NA</td><td>NA</td><td>NA</td></tr>\n",
       "\t<tr><th scope=row>AAACGAACACTCGCAG-1_Control</th><td>0.00000000</td><td>0.00000000</td><td>0.00000000</td><td>0.00000000</td><td>0.00000000</td><td>0.00000000</td><td>0</td><td>0.0000000</td><td>0</td><td>0.00000000</td><td>⋯</td><td>NA</td><td>NA</td><td>NA</td><td>NA</td><td>NA</td><td>NA</td><td>NA</td><td>NA</td><td>NA</td><td>NA</td></tr>\n",
       "\t<tr><th scope=row>AAACGAACATAGAATG-1_Flt3l</th><td>0.00000000</td><td>0.00000000</td><td>0.00000000</td><td>0.00000000</td><td>0.00000000</td><td>0.00000000</td><td>0</td><td>0.0000000</td><td>0</td><td>0.00000000</td><td>⋯</td><td>NA</td><td>NA</td><td>NA</td><td>NA</td><td>NA</td><td>NA</td><td>NA</td><td>NA</td><td>NA</td><td>NA</td></tr>\n",
       "\t<tr><th scope=row>AAACGAAGTACCAAGG-1_Input</th><td>0.00000000</td><td>0.00000000</td><td>0.00000000</td><td>0.00000000</td><td>0.00000000</td><td>0.04444444</td><td>0</td><td>0.0000000</td><td>0</td><td>0.00000000</td><td>⋯</td><td>NA</td><td>NA</td><td>NA</td><td>NA</td><td>NA</td><td>NA</td><td>NA</td><td>NA</td><td>NA</td><td>NA</td></tr>\n",
       "\t<tr><th scope=row>AAACGAAGTATTCGAC-1_Flt3l</th><td>0.00000000</td><td>0.00000000</td><td>0.00000000</td><td>0.00000000</td><td>0.00000000</td><td>0.00000000</td><td>0</td><td>0.0000000</td><td>0</td><td>0.00000000</td><td>⋯</td><td>NA</td><td>NA</td><td>NA</td><td>NA</td><td>NA</td><td>NA</td><td>NA</td><td>NA</td><td>NA</td><td>NA</td></tr>\n",
       "\t<tr><th scope=row>AAACGAAGTCTGATTG-1_Flt3l</th><td>0.00000000</td><td>0.00000000</td><td>0.00000000</td><td>0.00000000</td><td>0.00000000</td><td>0.00000000</td><td>0</td><td>0.0000000</td><td>0</td><td>0.00000000</td><td>⋯</td><td>NA</td><td>NA</td><td>NA</td><td>NA</td><td>NA</td><td>NA</td><td>NA</td><td>NA</td><td>NA</td><td>NA</td></tr>\n",
       "\t<tr><th scope=row>AAACGAAGTTCTCGAA-1_Input</th><td>0.00000000</td><td>0.03921569</td><td>0.00000000</td><td>0.00000000</td><td>0.00000000</td><td>0.02597403</td><td>0</td><td>0.0000000</td><td>0</td><td>0.00000000</td><td>⋯</td><td>NA</td><td>NA</td><td>NA</td><td>NA</td><td>NA</td><td>NA</td><td>NA</td><td>NA</td><td>NA</td><td>NA</td></tr>\n",
       "\t<tr><th scope=row>AAACGAAGTTTGACCA-1_Input</th><td>0.00000000</td><td>0.00000000</td><td>0.00000000</td><td>0.00000000</td><td>0.00000000</td><td>0.00000000</td><td>0</td><td>0.0000000</td><td>0</td><td>0.00000000</td><td>⋯</td><td>NA</td><td>NA</td><td>NA</td><td>NA</td><td>NA</td><td>NA</td><td>NA</td><td>NA</td><td>NA</td><td>NA</td></tr>\n",
       "\t<tr><th scope=row>AAACGAATCAGGCGCT-1_Control</th><td>0.00000000</td><td>0.00000000</td><td>0.00000000</td><td>0.00000000</td><td>0.00000000</td><td>0.00000000</td><td>0</td><td>0.0000000</td><td>0</td><td>0.00000000</td><td>⋯</td><td>NA</td><td>NA</td><td>NA</td><td>NA</td><td>NA</td><td>NA</td><td>NA</td><td>NA</td><td>NA</td><td>NA</td></tr>\n",
       "\t<tr><th scope=row>AAACGAATCCATCGAA-1_Control</th><td>0.00000000</td><td>0.00000000</td><td>0.00000000</td><td>0.00000000</td><td>0.00000000</td><td>0.00000000</td><td>0</td><td>0.0000000</td><td>0</td><td>0.00000000</td><td>⋯</td><td>NA</td><td>NA</td><td>NA</td><td>NA</td><td>NA</td><td>NA</td><td>NA</td><td>NA</td><td>NA</td><td>NA</td></tr>\n",
       "\t<tr><th scope=row>AAACGAATCGCTGATA-1_Flt3l</th><td>0.00000000</td><td>0.00000000</td><td>0.00000000</td><td>0.00000000</td><td>0.00000000</td><td>0.00000000</td><td>0</td><td>0.0000000</td><td>0</td><td>0.00000000</td><td>⋯</td><td>NA</td><td>NA</td><td>NA</td><td>NA</td><td>NA</td><td>NA</td><td>NA</td><td>NA</td><td>NA</td><td>NA</td></tr>\n",
       "\t<tr><th scope=row>AAACGAATCTCGTAGA-1_Control</th><td>0.00000000</td><td>0.00000000</td><td>0.00000000</td><td>0.00000000</td><td>0.00000000</td><td>0.00000000</td><td>0</td><td>0.1176471</td><td>0</td><td>0.05405405</td><td>⋯</td><td>NA</td><td>NA</td><td>NA</td><td>NA</td><td>NA</td><td>NA</td><td>NA</td><td>NA</td><td>NA</td><td>NA</td></tr>\n",
       "\t<tr><th scope=row>AAACTCGAGATGTTCC-1_Flt3l</th><td>0.00000000</td><td>0.00000000</td><td>0.00000000</td><td>0.00000000</td><td>0.00000000</td><td>0.00000000</td><td>0</td><td>0.0000000</td><td>0</td><td>0.00000000</td><td>⋯</td><td>NA</td><td>NA</td><td>NA</td><td>NA</td><td>NA</td><td>NA</td><td>NA</td><td>NA</td><td>NA</td><td>NA</td></tr>\n",
       "\t<tr><th scope=row>AAACTCGAGTCTCCAA-1_Flt3l</th><td>0.00000000</td><td>0.00000000</td><td>0.00000000</td><td>0.00000000</td><td>0.00000000</td><td>0.00000000</td><td>0</td><td>0.0000000</td><td>0</td><td>0.00000000</td><td>⋯</td><td>NA</td><td>NA</td><td>NA</td><td>NA</td><td>NA</td><td>NA</td><td>NA</td><td>NA</td><td>NA</td><td>NA</td></tr>\n",
       "\t<tr><th scope=row>AAACTCGAGTGAAGGA-1_Control</th><td>0.00000000</td><td>0.00000000</td><td>0.07692308</td><td>0.00000000</td><td>0.00000000</td><td>0.00000000</td><td>0</td><td>0.0000000</td><td>0</td><td>0.00000000</td><td>⋯</td><td>NA</td><td>NA</td><td>NA</td><td>NA</td><td>NA</td><td>NA</td><td>NA</td><td>NA</td><td>NA</td><td>NA</td></tr>\n",
       "\t<tr><th scope=row>AAACTCGCAACAACTC-1_Input</th><td>0.00000000</td><td>0.00000000</td><td>0.00000000</td><td>0.02469136</td><td>0.00000000</td><td>0.05128205</td><td>0</td><td>0.0000000</td><td>0</td><td>0.00000000</td><td>⋯</td><td>NA</td><td>NA</td><td>NA</td><td>NA</td><td>NA</td><td>NA</td><td>NA</td><td>NA</td><td>NA</td><td>NA</td></tr>\n",
       "\t<tr><th scope=row>AAACTCGCAAGGACCA-1_Input</th><td>0.05714286</td><td>0.00000000</td><td>0.00000000</td><td>0.00000000</td><td>0.00000000</td><td>0.00000000</td><td>0</td><td>0.0000000</td><td>0</td><td>0.00000000</td><td>⋯</td><td>NA</td><td>NA</td><td>NA</td><td>NA</td><td>NA</td><td>NA</td><td>NA</td><td>NA</td><td>NA</td><td>NA</td></tr>\n",
       "\t<tr><th scope=row>AAACTCGCATCCCAAA-1_Input</th><td>0.00000000</td><td>0.02985075</td><td>0.00000000</td><td>0.00000000</td><td>0.00000000</td><td>0.00000000</td><td>0</td><td>0.0000000</td><td>0</td><td>0.00000000</td><td>⋯</td><td>NA</td><td>NA</td><td>NA</td><td>NA</td><td>NA</td><td>NA</td><td>NA</td><td>NA</td><td>NA</td><td>NA</td></tr>\n",
       "\t<tr><th scope=row>AAACTCGCATCCGTGG-1_Flt3l</th><td>0.00000000</td><td>0.00000000</td><td>0.00000000</td><td>0.00000000</td><td>0.00000000</td><td>0.00000000</td><td>0</td><td>0.0000000</td><td>0</td><td>0.00000000</td><td>⋯</td><td>NA</td><td>NA</td><td>NA</td><td>NA</td><td>NA</td><td>NA</td><td>NA</td><td>NA</td><td>NA</td><td>NA</td></tr>\n",
       "\t<tr><th scope=row>AAACTCGCATGCACTA-1_Control</th><td>0.00000000</td><td>0.00000000</td><td>0.00000000</td><td>0.00000000</td><td>0.00000000</td><td>0.00000000</td><td>0</td><td>0.0000000</td><td>0</td><td>0.06451613</td><td>⋯</td><td>NA</td><td>NA</td><td>NA</td><td>NA</td><td>NA</td><td>NA</td><td>NA</td><td>NA</td><td>NA</td><td>NA</td></tr>\n",
       "\t<tr><th scope=row>AAACTCGCATTAACGC-1_Flt3l</th><td>0.00000000</td><td>0.00000000</td><td>0.00000000</td><td>0.00000000</td><td>0.07142857</td><td>0.00000000</td><td>0</td><td>0.0000000</td><td>0</td><td>0.00000000</td><td>⋯</td><td>NA</td><td>NA</td><td>NA</td><td>NA</td><td>NA</td><td>NA</td><td>NA</td><td>NA</td><td>NA</td><td>NA</td></tr>\n",
       "\t<tr><th scope=row>AAACTCGGTACGGATG-1_Input</th><td>0.00000000</td><td>0.00000000</td><td>0.00000000</td><td>0.00000000</td><td>0.00000000</td><td>0.00000000</td><td>0</td><td>0.0000000</td><td>0</td><td>0.00000000</td><td>⋯</td><td>NA</td><td>NA</td><td>NA</td><td>NA</td><td>NA</td><td>NA</td><td>NA</td><td>NA</td><td>NA</td><td>NA</td></tr>\n",
       "\t<tr><th scope=row>⋮</th><td>⋮</td><td>⋮</td><td>⋮</td><td>⋮</td><td>⋮</td><td>⋮</td><td>⋮</td><td>⋮</td><td>⋮</td><td>⋮</td><td>⋱</td><td>⋮</td><td>⋮</td><td>⋮</td><td>⋮</td><td>⋮</td><td>⋮</td><td>⋮</td><td>⋮</td><td>⋮</td><td>⋮</td></tr>\n",
       "\t<tr><th scope=row>TTTGGTTCAATAGCGG-1_Control</th><td>NA</td><td>NA</td><td>NA</td><td>0</td><td>NA</td><td>NA</td><td>NA</td><td>NA</td><td>0.00000000</td><td>NA</td><td>⋯</td><td>0.0000000</td><td>0.0000000</td><td>0.00000000</td><td>0.00000000</td><td>0.00000000</td><td>0.00000000</td><td>0.00000000</td><td>0.00000000</td><td>0.00000000</td><td>0.000000000</td></tr>\n",
       "\t<tr><th scope=row>TTTGGTTCACCTGGTG-1_Input</th><td>NA</td><td>NA</td><td>NA</td><td>0</td><td>NA</td><td>NA</td><td>NA</td><td>NA</td><td>0.00000000</td><td>NA</td><td>⋯</td><td>0.0000000</td><td>0.0000000</td><td>0.01769912</td><td>0.00000000</td><td>0.00000000</td><td>0.00000000</td><td>0.01438849</td><td>0.00000000</td><td>0.02424242</td><td>0.000000000</td></tr>\n",
       "\t<tr><th scope=row>TTTGGTTCAGGATGTG-1_Control</th><td>NA</td><td>NA</td><td>NA</td><td>0</td><td>NA</td><td>NA</td><td>NA</td><td>NA</td><td>0.00000000</td><td>NA</td><td>⋯</td><td>0.0000000</td><td>0.0000000</td><td>0.00000000</td><td>0.00000000</td><td>0.00000000</td><td>0.00000000</td><td>0.00000000</td><td>0.00000000</td><td>0.00000000</td><td>0.000000000</td></tr>\n",
       "\t<tr><th scope=row>TTTGGTTCATACCCGG-1_Flt3l</th><td>NA</td><td>NA</td><td>NA</td><td>0</td><td>NA</td><td>NA</td><td>NA</td><td>NA</td><td>0.00000000</td><td>NA</td><td>⋯</td><td>0.0000000</td><td>0.0000000</td><td>0.00000000</td><td>0.00000000</td><td>0.00000000</td><td>0.00000000</td><td>0.00000000</td><td>0.00000000</td><td>0.00000000</td><td>0.000000000</td></tr>\n",
       "\t<tr><th scope=row>TTTGGTTCATATAGAG-1_Input</th><td>NA</td><td>NA</td><td>NA</td><td>0</td><td>NA</td><td>NA</td><td>NA</td><td>NA</td><td>0.00000000</td><td>NA</td><td>⋯</td><td>0.0000000</td><td>0.0000000</td><td>0.00000000</td><td>0.00000000</td><td>0.00000000</td><td>0.00000000</td><td>0.00000000</td><td>0.00000000</td><td>0.00000000</td><td>0.000000000</td></tr>\n",
       "\t<tr><th scope=row>TTTGGTTGTCAGAGTG-1_Flt3l</th><td>NA</td><td>NA</td><td>NA</td><td>0</td><td>NA</td><td>NA</td><td>NA</td><td>NA</td><td>0.00000000</td><td>NA</td><td>⋯</td><td>0.0000000</td><td>0.0000000</td><td>0.00000000</td><td>0.00000000</td><td>0.03225806</td><td>0.03278689</td><td>0.00000000</td><td>0.00000000</td><td>0.00000000</td><td>0.000000000</td></tr>\n",
       "\t<tr><th scope=row>TTTGGTTGTCAGCTTA-1_Control</th><td>NA</td><td>NA</td><td>NA</td><td>0</td><td>NA</td><td>NA</td><td>NA</td><td>NA</td><td>0.00000000</td><td>NA</td><td>⋯</td><td>0.0000000</td><td>0.0000000</td><td>0.00000000</td><td>0.00000000</td><td>0.00000000</td><td>0.00000000</td><td>0.00000000</td><td>0.07692308</td><td>0.00000000</td><td>0.095238095</td></tr>\n",
       "\t<tr><th scope=row>TTTGGTTGTGGACAGT-1_Control</th><td>NA</td><td>NA</td><td>NA</td><td>0</td><td>NA</td><td>NA</td><td>NA</td><td>NA</td><td>0.00000000</td><td>NA</td><td>⋯</td><td>0.0000000</td><td>0.0000000</td><td>0.00000000</td><td>0.00000000</td><td>0.00000000</td><td>0.00000000</td><td>0.00000000</td><td>0.00000000</td><td>0.00000000</td><td>0.000000000</td></tr>\n",
       "\t<tr><th scope=row>TTTGGTTGTGTTGGTT-1_Flt3l</th><td>NA</td><td>NA</td><td>NA</td><td>0</td><td>NA</td><td>NA</td><td>NA</td><td>NA</td><td>0.00000000</td><td>NA</td><td>⋯</td><td>0.0000000</td><td>0.0000000</td><td>0.00000000</td><td>0.00000000</td><td>0.00000000</td><td>0.00000000</td><td>0.00000000</td><td>0.00000000</td><td>0.00000000</td><td>0.000000000</td></tr>\n",
       "\t<tr><th scope=row>TTTGGTTGTTCTACGA-1_Flt3l</th><td>NA</td><td>NA</td><td>NA</td><td>0</td><td>NA</td><td>NA</td><td>NA</td><td>NA</td><td>0.00000000</td><td>NA</td><td>⋯</td><td>0.0000000</td><td>0.0000000</td><td>0.00000000</td><td>0.00000000</td><td>0.00000000</td><td>0.00000000</td><td>0.00000000</td><td>0.00000000</td><td>0.00000000</td><td>0.000000000</td></tr>\n",
       "\t<tr><th scope=row>TTTGGTTGTTGAATAG-1_Control</th><td>NA</td><td>NA</td><td>NA</td><td>0</td><td>NA</td><td>NA</td><td>NA</td><td>NA</td><td>0.00000000</td><td>NA</td><td>⋯</td><td>0.0000000</td><td>0.0000000</td><td>0.00000000</td><td>0.00000000</td><td>0.00000000</td><td>0.00000000</td><td>0.00000000</td><td>0.00000000</td><td>0.00000000</td><td>0.000000000</td></tr>\n",
       "\t<tr><th scope=row>TTTGGTTTCAGTCACA-1_Flt3l</th><td>NA</td><td>NA</td><td>NA</td><td>0</td><td>NA</td><td>NA</td><td>NA</td><td>NA</td><td>0.00000000</td><td>NA</td><td>⋯</td><td>0.0952381</td><td>0.0952381</td><td>0.00000000</td><td>0.00000000</td><td>0.00000000</td><td>0.00000000</td><td>0.00000000</td><td>0.00000000</td><td>0.00000000</td><td>0.000000000</td></tr>\n",
       "\t<tr><th scope=row>TTTGGTTTCCAGAATC-1_Input</th><td>NA</td><td>NA</td><td>NA</td><td>0</td><td>NA</td><td>NA</td><td>NA</td><td>NA</td><td>0.00000000</td><td>NA</td><td>⋯</td><td>0.0000000</td><td>0.0000000</td><td>0.00000000</td><td>0.03603604</td><td>0.00000000</td><td>0.00000000</td><td>0.00000000</td><td>0.00000000</td><td>0.00000000</td><td>0.000000000</td></tr>\n",
       "\t<tr><th scope=row>TTTGGTTTCGGTAGGA-1_Flt3l</th><td>NA</td><td>NA</td><td>NA</td><td>0</td><td>NA</td><td>NA</td><td>NA</td><td>NA</td><td>0.00000000</td><td>NA</td><td>⋯</td><td>0.0000000</td><td>0.0000000</td><td>0.00000000</td><td>0.00000000</td><td>0.00000000</td><td>0.00000000</td><td>0.00000000</td><td>0.10000000</td><td>0.00000000</td><td>0.000000000</td></tr>\n",
       "\t<tr><th scope=row>TTTGTGTAGAACCCGA-1_Input</th><td>NA</td><td>NA</td><td>NA</td><td>0</td><td>NA</td><td>NA</td><td>NA</td><td>NA</td><td>0.00000000</td><td>NA</td><td>⋯</td><td>0.0000000</td><td>0.0000000</td><td>0.00000000</td><td>0.00000000</td><td>0.00000000</td><td>0.00000000</td><td>0.00000000</td><td>0.00000000</td><td>0.00000000</td><td>0.011363636</td></tr>\n",
       "\t<tr><th scope=row>TTTGTGTAGACCTATC-1_Flt3l</th><td>NA</td><td>NA</td><td>NA</td><td>0</td><td>NA</td><td>NA</td><td>NA</td><td>NA</td><td>0.00000000</td><td>NA</td><td>⋯</td><td>0.0000000</td><td>0.0000000</td><td>0.00000000</td><td>0.00000000</td><td>0.00000000</td><td>0.00000000</td><td>0.00000000</td><td>0.00000000</td><td>0.00000000</td><td>0.000000000</td></tr>\n",
       "\t<tr><th scope=row>TTTGTGTAGGTTGTTC-1_Input</th><td>NA</td><td>NA</td><td>NA</td><td>0</td><td>NA</td><td>NA</td><td>NA</td><td>NA</td><td>0.00000000</td><td>NA</td><td>⋯</td><td>0.0000000</td><td>0.0000000</td><td>0.00000000</td><td>0.00000000</td><td>0.00000000</td><td>0.00000000</td><td>0.03267974</td><td>0.00000000</td><td>0.00000000</td><td>0.000000000</td></tr>\n",
       "\t<tr><th scope=row>TTTGTGTAGGTTTCTG-1_Input</th><td>NA</td><td>NA</td><td>NA</td><td>0</td><td>NA</td><td>NA</td><td>NA</td><td>NA</td><td>0.00000000</td><td>NA</td><td>⋯</td><td>0.0000000</td><td>0.0000000</td><td>0.00000000</td><td>0.00000000</td><td>0.00000000</td><td>0.00000000</td><td>0.00000000</td><td>0.00000000</td><td>0.00000000</td><td>0.000000000</td></tr>\n",
       "\t<tr><th scope=row>TTTGTGTAGTAGACCG-1_Input</th><td>NA</td><td>NA</td><td>NA</td><td>0</td><td>NA</td><td>NA</td><td>NA</td><td>NA</td><td>0.00000000</td><td>NA</td><td>⋯</td><td>0.0000000</td><td>0.0000000</td><td>0.00000000</td><td>0.00000000</td><td>0.00000000</td><td>0.00000000</td><td>0.00000000</td><td>0.00000000</td><td>0.00000000</td><td>0.000000000</td></tr>\n",
       "\t<tr><th scope=row>TTTGTGTAGTGATAAC-1_Control</th><td>NA</td><td>NA</td><td>NA</td><td>0</td><td>NA</td><td>NA</td><td>NA</td><td>NA</td><td>0.00000000</td><td>NA</td><td>⋯</td><td>0.0000000</td><td>0.0000000</td><td>0.00000000</td><td>0.00000000</td><td>0.00000000</td><td>0.00000000</td><td>0.00000000</td><td>0.00000000</td><td>0.00000000</td><td>0.000000000</td></tr>\n",
       "\t<tr><th scope=row>TTTGTGTCAACTCGTA-1_Input</th><td>NA</td><td>NA</td><td>NA</td><td>0</td><td>NA</td><td>NA</td><td>NA</td><td>NA</td><td>0.01388889</td><td>NA</td><td>⋯</td><td>0.0000000</td><td>0.0000000</td><td>0.00000000</td><td>0.00000000</td><td>0.00000000</td><td>0.00000000</td><td>0.00000000</td><td>0.00000000</td><td>0.00000000</td><td>0.000000000</td></tr>\n",
       "\t<tr><th scope=row>TTTGTGTCAAGCCAGA-1_Input</th><td>NA</td><td>NA</td><td>NA</td><td>0</td><td>NA</td><td>NA</td><td>NA</td><td>NA</td><td>0.00000000</td><td>NA</td><td>⋯</td><td>0.0000000</td><td>0.0000000</td><td>0.00000000</td><td>0.00000000</td><td>0.00000000</td><td>0.00000000</td><td>0.00000000</td><td>0.00000000</td><td>0.00000000</td><td>0.000000000</td></tr>\n",
       "\t<tr><th scope=row>TTTGTGTCAATGACTC-1_Input</th><td>NA</td><td>NA</td><td>NA</td><td>0</td><td>NA</td><td>NA</td><td>NA</td><td>NA</td><td>0.00000000</td><td>NA</td><td>⋯</td><td>0.0000000</td><td>0.0000000</td><td>0.00000000</td><td>0.00000000</td><td>0.00000000</td><td>0.00000000</td><td>0.00000000</td><td>0.00000000</td><td>0.00000000</td><td>0.024793388</td></tr>\n",
       "\t<tr><th scope=row>TTTGTGTCAGAAAGAG-1_Input</th><td>NA</td><td>NA</td><td>NA</td><td>0</td><td>NA</td><td>NA</td><td>NA</td><td>NA</td><td>0.00000000</td><td>NA</td><td>⋯</td><td>0.0000000</td><td>0.0000000</td><td>0.00000000</td><td>0.00000000</td><td>0.00000000</td><td>0.00000000</td><td>0.00000000</td><td>0.00000000</td><td>0.00000000</td><td>0.009174312</td></tr>\n",
       "\t<tr><th scope=row>TTTGTGTCATAGCCAT-1_Input</th><td>NA</td><td>NA</td><td>NA</td><td>0</td><td>NA</td><td>NA</td><td>NA</td><td>NA</td><td>0.00000000</td><td>NA</td><td>⋯</td><td>0.0000000</td><td>0.0000000</td><td>0.00000000</td><td>0.03030303</td><td>0.00000000</td><td>0.00000000</td><td>0.00000000</td><td>0.00000000</td><td>0.00000000</td><td>0.019607843</td></tr>\n",
       "\t<tr><th scope=row>TTTGTGTGTACGCAAG-1_Flt3l</th><td>NA</td><td>NA</td><td>NA</td><td>0</td><td>NA</td><td>NA</td><td>NA</td><td>NA</td><td>0.00000000</td><td>NA</td><td>⋯</td><td>0.0000000</td><td>0.0000000</td><td>0.00000000</td><td>0.00000000</td><td>0.00000000</td><td>0.00000000</td><td>0.16666667</td><td>0.00000000</td><td>0.00000000</td><td>0.000000000</td></tr>\n",
       "\t<tr><th scope=row>TTTGTGTGTCATAGAA-1_Input</th><td>NA</td><td>NA</td><td>NA</td><td>0</td><td>NA</td><td>NA</td><td>NA</td><td>NA</td><td>0.00000000</td><td>NA</td><td>⋯</td><td>0.0000000</td><td>0.0000000</td><td>0.00000000</td><td>0.00000000</td><td>0.00000000</td><td>0.00000000</td><td>0.00000000</td><td>0.00000000</td><td>0.00000000</td><td>0.000000000</td></tr>\n",
       "\t<tr><th scope=row>TTTGTGTGTCCCTTTG-1_Control</th><td>NA</td><td>NA</td><td>NA</td><td>0</td><td>NA</td><td>NA</td><td>NA</td><td>NA</td><td>0.00000000</td><td>NA</td><td>⋯</td><td>0.0000000</td><td>0.0000000</td><td>0.00000000</td><td>0.00000000</td><td>0.00000000</td><td>0.00000000</td><td>0.00000000</td><td>0.00000000</td><td>0.00000000</td><td>0.000000000</td></tr>\n",
       "\t<tr><th scope=row>TTTGTGTTCAATTGGC-1_Control</th><td>NA</td><td>NA</td><td>NA</td><td>0</td><td>NA</td><td>NA</td><td>NA</td><td>NA</td><td>0.00000000</td><td>NA</td><td>⋯</td><td>0.0000000</td><td>0.0000000</td><td>0.00000000</td><td>0.00000000</td><td>0.00000000</td><td>0.00000000</td><td>0.00000000</td><td>0.00000000</td><td>0.00000000</td><td>0.000000000</td></tr>\n",
       "\t<tr><th scope=row>TTTGTGTTCGGGACAA-1_Input</th><td>NA</td><td>NA</td><td>NA</td><td>0</td><td>NA</td><td>NA</td><td>NA</td><td>NA</td><td>0.00000000</td><td>NA</td><td>⋯</td><td>0.0000000</td><td>0.0000000</td><td>0.00000000</td><td>0.00000000</td><td>0.00000000</td><td>0.00000000</td><td>0.00000000</td><td>0.00000000</td><td>0.00000000</td><td>0.000000000</td></tr>\n",
       "</tbody>\n",
       "</table>\n"
      ],
      "text/latex": [
       "A data.frame: 17280 × 56\n",
       "\\begin{tabular}{r|lllllllllllllllllllll}\n",
       "  & X10463C & X10559G & X11251G & X11453A & X11719A & X11812G & X13368A & X14233G & X14674C & X14905A & ⋯ & X196C & X204C & X2442C & X3847C & X58C & X64T & X7598A & X827G & X8292A & X8461T\\\\\n",
       "  & <dbl> & <dbl> & <dbl> & <dbl> & <dbl> & <dbl> & <dbl> & <dbl> & <dbl> & <dbl> & ⋯ & <dbl> & <dbl> & <dbl> & <dbl> & <dbl> & <dbl> & <dbl> & <dbl> & <dbl> & <dbl>\\\\\n",
       "\\hline\n",
       "\tAAACGAAAGAATCAAC-1\\_Control & 0.00000000 & 0.00000000 & 0.15384615 & 0.00000000 & 0.00000000 & 0.05405405 & 0 & 0.0000000 & 0 & 0.00000000 & ⋯ & NA & NA & NA & NA & NA & NA & NA & NA & NA & NA\\\\\n",
       "\tAAACGAAAGACGCCAA-1\\_Input & 0.00000000 & 0.00000000 & 0.00000000 & 0.00000000 & 0.00000000 & 0.00000000 & 0 & 0.0000000 & 0 & 0.00000000 & ⋯ & NA & NA & NA & NA & NA & NA & NA & NA & NA & NA\\\\\n",
       "\tAAACGAAAGCGAGAAA-1\\_Control & 0.00000000 & 0.00000000 & 0.00000000 & 0.00000000 & 0.00000000 & 0.00000000 & 0 & 0.0000000 & 0 & 0.00000000 & ⋯ & NA & NA & NA & NA & NA & NA & NA & NA & NA & NA\\\\\n",
       "\tAAACGAAAGTACAGAT-1\\_Control & 0.00000000 & 0.00000000 & 0.00000000 & 0.00000000 & 0.00000000 & 0.00000000 & 0 & 0.0000000 & 0 & 0.00000000 & ⋯ & NA & NA & NA & NA & NA & NA & NA & NA & NA & NA\\\\\n",
       "\tAAACGAAAGTTAGCAA-1\\_Control & 0.00000000 & 0.00000000 & 0.00000000 & 0.00000000 & 0.42857143 & 0.00000000 & 0 & 0.0000000 & 0 & 0.00000000 & ⋯ & NA & NA & NA & NA & NA & NA & NA & NA & NA & NA\\\\\n",
       "\tAAACGAACAAGCGAAC-1\\_Flt3l & 0.00000000 & 0.00000000 & 0.00000000 & 0.00000000 & 0.11111111 & 0.00000000 & 0 & 0.0000000 & 0 & 0.00000000 & ⋯ & NA & NA & NA & NA & NA & NA & NA & NA & NA & NA\\\\\n",
       "\tAAACGAACACAGCCAC-1\\_Flt3l & 0.00000000 & 0.00000000 & 0.00000000 & 0.00000000 & 0.00000000 & 0.00000000 & 0 & 0.0000000 & 0 & 0.00000000 & ⋯ & NA & NA & NA & NA & NA & NA & NA & NA & NA & NA\\\\\n",
       "\tAAACGAACACAGGTAG-1\\_Flt3l & 0.00000000 & 0.00000000 & 0.00000000 & 0.00000000 & 0.00000000 & 0.00000000 & 0 & 0.0000000 & 0 & 0.00000000 & ⋯ & NA & NA & NA & NA & NA & NA & NA & NA & NA & NA\\\\\n",
       "\tAAACGAACACGCTCAG-1\\_Input & 0.00000000 & 0.00000000 & 0.00000000 & 0.00000000 & 0.00000000 & 0.00000000 & 0 & 0.0000000 & 0 & 0.00000000 & ⋯ & NA & NA & NA & NA & NA & NA & NA & NA & NA & NA\\\\\n",
       "\tAAACGAACACTCGCAG-1\\_Control & 0.00000000 & 0.00000000 & 0.00000000 & 0.00000000 & 0.00000000 & 0.00000000 & 0 & 0.0000000 & 0 & 0.00000000 & ⋯ & NA & NA & NA & NA & NA & NA & NA & NA & NA & NA\\\\\n",
       "\tAAACGAACATAGAATG-1\\_Flt3l & 0.00000000 & 0.00000000 & 0.00000000 & 0.00000000 & 0.00000000 & 0.00000000 & 0 & 0.0000000 & 0 & 0.00000000 & ⋯ & NA & NA & NA & NA & NA & NA & NA & NA & NA & NA\\\\\n",
       "\tAAACGAAGTACCAAGG-1\\_Input & 0.00000000 & 0.00000000 & 0.00000000 & 0.00000000 & 0.00000000 & 0.04444444 & 0 & 0.0000000 & 0 & 0.00000000 & ⋯ & NA & NA & NA & NA & NA & NA & NA & NA & NA & NA\\\\\n",
       "\tAAACGAAGTATTCGAC-1\\_Flt3l & 0.00000000 & 0.00000000 & 0.00000000 & 0.00000000 & 0.00000000 & 0.00000000 & 0 & 0.0000000 & 0 & 0.00000000 & ⋯ & NA & NA & NA & NA & NA & NA & NA & NA & NA & NA\\\\\n",
       "\tAAACGAAGTCTGATTG-1\\_Flt3l & 0.00000000 & 0.00000000 & 0.00000000 & 0.00000000 & 0.00000000 & 0.00000000 & 0 & 0.0000000 & 0 & 0.00000000 & ⋯ & NA & NA & NA & NA & NA & NA & NA & NA & NA & NA\\\\\n",
       "\tAAACGAAGTTCTCGAA-1\\_Input & 0.00000000 & 0.03921569 & 0.00000000 & 0.00000000 & 0.00000000 & 0.02597403 & 0 & 0.0000000 & 0 & 0.00000000 & ⋯ & NA & NA & NA & NA & NA & NA & NA & NA & NA & NA\\\\\n",
       "\tAAACGAAGTTTGACCA-1\\_Input & 0.00000000 & 0.00000000 & 0.00000000 & 0.00000000 & 0.00000000 & 0.00000000 & 0 & 0.0000000 & 0 & 0.00000000 & ⋯ & NA & NA & NA & NA & NA & NA & NA & NA & NA & NA\\\\\n",
       "\tAAACGAATCAGGCGCT-1\\_Control & 0.00000000 & 0.00000000 & 0.00000000 & 0.00000000 & 0.00000000 & 0.00000000 & 0 & 0.0000000 & 0 & 0.00000000 & ⋯ & NA & NA & NA & NA & NA & NA & NA & NA & NA & NA\\\\\n",
       "\tAAACGAATCCATCGAA-1\\_Control & 0.00000000 & 0.00000000 & 0.00000000 & 0.00000000 & 0.00000000 & 0.00000000 & 0 & 0.0000000 & 0 & 0.00000000 & ⋯ & NA & NA & NA & NA & NA & NA & NA & NA & NA & NA\\\\\n",
       "\tAAACGAATCGCTGATA-1\\_Flt3l & 0.00000000 & 0.00000000 & 0.00000000 & 0.00000000 & 0.00000000 & 0.00000000 & 0 & 0.0000000 & 0 & 0.00000000 & ⋯ & NA & NA & NA & NA & NA & NA & NA & NA & NA & NA\\\\\n",
       "\tAAACGAATCTCGTAGA-1\\_Control & 0.00000000 & 0.00000000 & 0.00000000 & 0.00000000 & 0.00000000 & 0.00000000 & 0 & 0.1176471 & 0 & 0.05405405 & ⋯ & NA & NA & NA & NA & NA & NA & NA & NA & NA & NA\\\\\n",
       "\tAAACTCGAGATGTTCC-1\\_Flt3l & 0.00000000 & 0.00000000 & 0.00000000 & 0.00000000 & 0.00000000 & 0.00000000 & 0 & 0.0000000 & 0 & 0.00000000 & ⋯ & NA & NA & NA & NA & NA & NA & NA & NA & NA & NA\\\\\n",
       "\tAAACTCGAGTCTCCAA-1\\_Flt3l & 0.00000000 & 0.00000000 & 0.00000000 & 0.00000000 & 0.00000000 & 0.00000000 & 0 & 0.0000000 & 0 & 0.00000000 & ⋯ & NA & NA & NA & NA & NA & NA & NA & NA & NA & NA\\\\\n",
       "\tAAACTCGAGTGAAGGA-1\\_Control & 0.00000000 & 0.00000000 & 0.07692308 & 0.00000000 & 0.00000000 & 0.00000000 & 0 & 0.0000000 & 0 & 0.00000000 & ⋯ & NA & NA & NA & NA & NA & NA & NA & NA & NA & NA\\\\\n",
       "\tAAACTCGCAACAACTC-1\\_Input & 0.00000000 & 0.00000000 & 0.00000000 & 0.02469136 & 0.00000000 & 0.05128205 & 0 & 0.0000000 & 0 & 0.00000000 & ⋯ & NA & NA & NA & NA & NA & NA & NA & NA & NA & NA\\\\\n",
       "\tAAACTCGCAAGGACCA-1\\_Input & 0.05714286 & 0.00000000 & 0.00000000 & 0.00000000 & 0.00000000 & 0.00000000 & 0 & 0.0000000 & 0 & 0.00000000 & ⋯ & NA & NA & NA & NA & NA & NA & NA & NA & NA & NA\\\\\n",
       "\tAAACTCGCATCCCAAA-1\\_Input & 0.00000000 & 0.02985075 & 0.00000000 & 0.00000000 & 0.00000000 & 0.00000000 & 0 & 0.0000000 & 0 & 0.00000000 & ⋯ & NA & NA & NA & NA & NA & NA & NA & NA & NA & NA\\\\\n",
       "\tAAACTCGCATCCGTGG-1\\_Flt3l & 0.00000000 & 0.00000000 & 0.00000000 & 0.00000000 & 0.00000000 & 0.00000000 & 0 & 0.0000000 & 0 & 0.00000000 & ⋯ & NA & NA & NA & NA & NA & NA & NA & NA & NA & NA\\\\\n",
       "\tAAACTCGCATGCACTA-1\\_Control & 0.00000000 & 0.00000000 & 0.00000000 & 0.00000000 & 0.00000000 & 0.00000000 & 0 & 0.0000000 & 0 & 0.06451613 & ⋯ & NA & NA & NA & NA & NA & NA & NA & NA & NA & NA\\\\\n",
       "\tAAACTCGCATTAACGC-1\\_Flt3l & 0.00000000 & 0.00000000 & 0.00000000 & 0.00000000 & 0.07142857 & 0.00000000 & 0 & 0.0000000 & 0 & 0.00000000 & ⋯ & NA & NA & NA & NA & NA & NA & NA & NA & NA & NA\\\\\n",
       "\tAAACTCGGTACGGATG-1\\_Input & 0.00000000 & 0.00000000 & 0.00000000 & 0.00000000 & 0.00000000 & 0.00000000 & 0 & 0.0000000 & 0 & 0.00000000 & ⋯ & NA & NA & NA & NA & NA & NA & NA & NA & NA & NA\\\\\n",
       "\t⋮ & ⋮ & ⋮ & ⋮ & ⋮ & ⋮ & ⋮ & ⋮ & ⋮ & ⋮ & ⋮ & ⋱ & ⋮ & ⋮ & ⋮ & ⋮ & ⋮ & ⋮ & ⋮ & ⋮ & ⋮ & ⋮\\\\\n",
       "\tTTTGGTTCAATAGCGG-1\\_Control & NA & NA & NA & 0 & NA & NA & NA & NA & 0.00000000 & NA & ⋯ & 0.0000000 & 0.0000000 & 0.00000000 & 0.00000000 & 0.00000000 & 0.00000000 & 0.00000000 & 0.00000000 & 0.00000000 & 0.000000000\\\\\n",
       "\tTTTGGTTCACCTGGTG-1\\_Input & NA & NA & NA & 0 & NA & NA & NA & NA & 0.00000000 & NA & ⋯ & 0.0000000 & 0.0000000 & 0.01769912 & 0.00000000 & 0.00000000 & 0.00000000 & 0.01438849 & 0.00000000 & 0.02424242 & 0.000000000\\\\\n",
       "\tTTTGGTTCAGGATGTG-1\\_Control & NA & NA & NA & 0 & NA & NA & NA & NA & 0.00000000 & NA & ⋯ & 0.0000000 & 0.0000000 & 0.00000000 & 0.00000000 & 0.00000000 & 0.00000000 & 0.00000000 & 0.00000000 & 0.00000000 & 0.000000000\\\\\n",
       "\tTTTGGTTCATACCCGG-1\\_Flt3l & NA & NA & NA & 0 & NA & NA & NA & NA & 0.00000000 & NA & ⋯ & 0.0000000 & 0.0000000 & 0.00000000 & 0.00000000 & 0.00000000 & 0.00000000 & 0.00000000 & 0.00000000 & 0.00000000 & 0.000000000\\\\\n",
       "\tTTTGGTTCATATAGAG-1\\_Input & NA & NA & NA & 0 & NA & NA & NA & NA & 0.00000000 & NA & ⋯ & 0.0000000 & 0.0000000 & 0.00000000 & 0.00000000 & 0.00000000 & 0.00000000 & 0.00000000 & 0.00000000 & 0.00000000 & 0.000000000\\\\\n",
       "\tTTTGGTTGTCAGAGTG-1\\_Flt3l & NA & NA & NA & 0 & NA & NA & NA & NA & 0.00000000 & NA & ⋯ & 0.0000000 & 0.0000000 & 0.00000000 & 0.00000000 & 0.03225806 & 0.03278689 & 0.00000000 & 0.00000000 & 0.00000000 & 0.000000000\\\\\n",
       "\tTTTGGTTGTCAGCTTA-1\\_Control & NA & NA & NA & 0 & NA & NA & NA & NA & 0.00000000 & NA & ⋯ & 0.0000000 & 0.0000000 & 0.00000000 & 0.00000000 & 0.00000000 & 0.00000000 & 0.00000000 & 0.07692308 & 0.00000000 & 0.095238095\\\\\n",
       "\tTTTGGTTGTGGACAGT-1\\_Control & NA & NA & NA & 0 & NA & NA & NA & NA & 0.00000000 & NA & ⋯ & 0.0000000 & 0.0000000 & 0.00000000 & 0.00000000 & 0.00000000 & 0.00000000 & 0.00000000 & 0.00000000 & 0.00000000 & 0.000000000\\\\\n",
       "\tTTTGGTTGTGTTGGTT-1\\_Flt3l & NA & NA & NA & 0 & NA & NA & NA & NA & 0.00000000 & NA & ⋯ & 0.0000000 & 0.0000000 & 0.00000000 & 0.00000000 & 0.00000000 & 0.00000000 & 0.00000000 & 0.00000000 & 0.00000000 & 0.000000000\\\\\n",
       "\tTTTGGTTGTTCTACGA-1\\_Flt3l & NA & NA & NA & 0 & NA & NA & NA & NA & 0.00000000 & NA & ⋯ & 0.0000000 & 0.0000000 & 0.00000000 & 0.00000000 & 0.00000000 & 0.00000000 & 0.00000000 & 0.00000000 & 0.00000000 & 0.000000000\\\\\n",
       "\tTTTGGTTGTTGAATAG-1\\_Control & NA & NA & NA & 0 & NA & NA & NA & NA & 0.00000000 & NA & ⋯ & 0.0000000 & 0.0000000 & 0.00000000 & 0.00000000 & 0.00000000 & 0.00000000 & 0.00000000 & 0.00000000 & 0.00000000 & 0.000000000\\\\\n",
       "\tTTTGGTTTCAGTCACA-1\\_Flt3l & NA & NA & NA & 0 & NA & NA & NA & NA & 0.00000000 & NA & ⋯ & 0.0952381 & 0.0952381 & 0.00000000 & 0.00000000 & 0.00000000 & 0.00000000 & 0.00000000 & 0.00000000 & 0.00000000 & 0.000000000\\\\\n",
       "\tTTTGGTTTCCAGAATC-1\\_Input & NA & NA & NA & 0 & NA & NA & NA & NA & 0.00000000 & NA & ⋯ & 0.0000000 & 0.0000000 & 0.00000000 & 0.03603604 & 0.00000000 & 0.00000000 & 0.00000000 & 0.00000000 & 0.00000000 & 0.000000000\\\\\n",
       "\tTTTGGTTTCGGTAGGA-1\\_Flt3l & NA & NA & NA & 0 & NA & NA & NA & NA & 0.00000000 & NA & ⋯ & 0.0000000 & 0.0000000 & 0.00000000 & 0.00000000 & 0.00000000 & 0.00000000 & 0.00000000 & 0.10000000 & 0.00000000 & 0.000000000\\\\\n",
       "\tTTTGTGTAGAACCCGA-1\\_Input & NA & NA & NA & 0 & NA & NA & NA & NA & 0.00000000 & NA & ⋯ & 0.0000000 & 0.0000000 & 0.00000000 & 0.00000000 & 0.00000000 & 0.00000000 & 0.00000000 & 0.00000000 & 0.00000000 & 0.011363636\\\\\n",
       "\tTTTGTGTAGACCTATC-1\\_Flt3l & NA & NA & NA & 0 & NA & NA & NA & NA & 0.00000000 & NA & ⋯ & 0.0000000 & 0.0000000 & 0.00000000 & 0.00000000 & 0.00000000 & 0.00000000 & 0.00000000 & 0.00000000 & 0.00000000 & 0.000000000\\\\\n",
       "\tTTTGTGTAGGTTGTTC-1\\_Input & NA & NA & NA & 0 & NA & NA & NA & NA & 0.00000000 & NA & ⋯ & 0.0000000 & 0.0000000 & 0.00000000 & 0.00000000 & 0.00000000 & 0.00000000 & 0.03267974 & 0.00000000 & 0.00000000 & 0.000000000\\\\\n",
       "\tTTTGTGTAGGTTTCTG-1\\_Input & NA & NA & NA & 0 & NA & NA & NA & NA & 0.00000000 & NA & ⋯ & 0.0000000 & 0.0000000 & 0.00000000 & 0.00000000 & 0.00000000 & 0.00000000 & 0.00000000 & 0.00000000 & 0.00000000 & 0.000000000\\\\\n",
       "\tTTTGTGTAGTAGACCG-1\\_Input & NA & NA & NA & 0 & NA & NA & NA & NA & 0.00000000 & NA & ⋯ & 0.0000000 & 0.0000000 & 0.00000000 & 0.00000000 & 0.00000000 & 0.00000000 & 0.00000000 & 0.00000000 & 0.00000000 & 0.000000000\\\\\n",
       "\tTTTGTGTAGTGATAAC-1\\_Control & NA & NA & NA & 0 & NA & NA & NA & NA & 0.00000000 & NA & ⋯ & 0.0000000 & 0.0000000 & 0.00000000 & 0.00000000 & 0.00000000 & 0.00000000 & 0.00000000 & 0.00000000 & 0.00000000 & 0.000000000\\\\\n",
       "\tTTTGTGTCAACTCGTA-1\\_Input & NA & NA & NA & 0 & NA & NA & NA & NA & 0.01388889 & NA & ⋯ & 0.0000000 & 0.0000000 & 0.00000000 & 0.00000000 & 0.00000000 & 0.00000000 & 0.00000000 & 0.00000000 & 0.00000000 & 0.000000000\\\\\n",
       "\tTTTGTGTCAAGCCAGA-1\\_Input & NA & NA & NA & 0 & NA & NA & NA & NA & 0.00000000 & NA & ⋯ & 0.0000000 & 0.0000000 & 0.00000000 & 0.00000000 & 0.00000000 & 0.00000000 & 0.00000000 & 0.00000000 & 0.00000000 & 0.000000000\\\\\n",
       "\tTTTGTGTCAATGACTC-1\\_Input & NA & NA & NA & 0 & NA & NA & NA & NA & 0.00000000 & NA & ⋯ & 0.0000000 & 0.0000000 & 0.00000000 & 0.00000000 & 0.00000000 & 0.00000000 & 0.00000000 & 0.00000000 & 0.00000000 & 0.024793388\\\\\n",
       "\tTTTGTGTCAGAAAGAG-1\\_Input & NA & NA & NA & 0 & NA & NA & NA & NA & 0.00000000 & NA & ⋯ & 0.0000000 & 0.0000000 & 0.00000000 & 0.00000000 & 0.00000000 & 0.00000000 & 0.00000000 & 0.00000000 & 0.00000000 & 0.009174312\\\\\n",
       "\tTTTGTGTCATAGCCAT-1\\_Input & NA & NA & NA & 0 & NA & NA & NA & NA & 0.00000000 & NA & ⋯ & 0.0000000 & 0.0000000 & 0.00000000 & 0.03030303 & 0.00000000 & 0.00000000 & 0.00000000 & 0.00000000 & 0.00000000 & 0.019607843\\\\\n",
       "\tTTTGTGTGTACGCAAG-1\\_Flt3l & NA & NA & NA & 0 & NA & NA & NA & NA & 0.00000000 & NA & ⋯ & 0.0000000 & 0.0000000 & 0.00000000 & 0.00000000 & 0.00000000 & 0.00000000 & 0.16666667 & 0.00000000 & 0.00000000 & 0.000000000\\\\\n",
       "\tTTTGTGTGTCATAGAA-1\\_Input & NA & NA & NA & 0 & NA & NA & NA & NA & 0.00000000 & NA & ⋯ & 0.0000000 & 0.0000000 & 0.00000000 & 0.00000000 & 0.00000000 & 0.00000000 & 0.00000000 & 0.00000000 & 0.00000000 & 0.000000000\\\\\n",
       "\tTTTGTGTGTCCCTTTG-1\\_Control & NA & NA & NA & 0 & NA & NA & NA & NA & 0.00000000 & NA & ⋯ & 0.0000000 & 0.0000000 & 0.00000000 & 0.00000000 & 0.00000000 & 0.00000000 & 0.00000000 & 0.00000000 & 0.00000000 & 0.000000000\\\\\n",
       "\tTTTGTGTTCAATTGGC-1\\_Control & NA & NA & NA & 0 & NA & NA & NA & NA & 0.00000000 & NA & ⋯ & 0.0000000 & 0.0000000 & 0.00000000 & 0.00000000 & 0.00000000 & 0.00000000 & 0.00000000 & 0.00000000 & 0.00000000 & 0.000000000\\\\\n",
       "\tTTTGTGTTCGGGACAA-1\\_Input & NA & NA & NA & 0 & NA & NA & NA & NA & 0.00000000 & NA & ⋯ & 0.0000000 & 0.0000000 & 0.00000000 & 0.00000000 & 0.00000000 & 0.00000000 & 0.00000000 & 0.00000000 & 0.00000000 & 0.000000000\\\\\n",
       "\\end{tabular}\n"
      ],
      "text/markdown": [
       "\n",
       "A data.frame: 17280 × 56\n",
       "\n",
       "| <!--/--> | X10463C &lt;dbl&gt; | X10559G &lt;dbl&gt; | X11251G &lt;dbl&gt; | X11453A &lt;dbl&gt; | X11719A &lt;dbl&gt; | X11812G &lt;dbl&gt; | X13368A &lt;dbl&gt; | X14233G &lt;dbl&gt; | X14674C &lt;dbl&gt; | X14905A &lt;dbl&gt; | ⋯ ⋯ | X196C &lt;dbl&gt; | X204C &lt;dbl&gt; | X2442C &lt;dbl&gt; | X3847C &lt;dbl&gt; | X58C &lt;dbl&gt; | X64T &lt;dbl&gt; | X7598A &lt;dbl&gt; | X827G &lt;dbl&gt; | X8292A &lt;dbl&gt; | X8461T &lt;dbl&gt; |\n",
       "|---|---|---|---|---|---|---|---|---|---|---|---|---|---|---|---|---|---|---|---|---|---|\n",
       "| AAACGAAAGAATCAAC-1_Control | 0.00000000 | 0.00000000 | 0.15384615 | 0.00000000 | 0.00000000 | 0.05405405 | 0 | 0.0000000 | 0 | 0.00000000 | ⋯ | NA | NA | NA | NA | NA | NA | NA | NA | NA | NA |\n",
       "| AAACGAAAGACGCCAA-1_Input | 0.00000000 | 0.00000000 | 0.00000000 | 0.00000000 | 0.00000000 | 0.00000000 | 0 | 0.0000000 | 0 | 0.00000000 | ⋯ | NA | NA | NA | NA | NA | NA | NA | NA | NA | NA |\n",
       "| AAACGAAAGCGAGAAA-1_Control | 0.00000000 | 0.00000000 | 0.00000000 | 0.00000000 | 0.00000000 | 0.00000000 | 0 | 0.0000000 | 0 | 0.00000000 | ⋯ | NA | NA | NA | NA | NA | NA | NA | NA | NA | NA |\n",
       "| AAACGAAAGTACAGAT-1_Control | 0.00000000 | 0.00000000 | 0.00000000 | 0.00000000 | 0.00000000 | 0.00000000 | 0 | 0.0000000 | 0 | 0.00000000 | ⋯ | NA | NA | NA | NA | NA | NA | NA | NA | NA | NA |\n",
       "| AAACGAAAGTTAGCAA-1_Control | 0.00000000 | 0.00000000 | 0.00000000 | 0.00000000 | 0.42857143 | 0.00000000 | 0 | 0.0000000 | 0 | 0.00000000 | ⋯ | NA | NA | NA | NA | NA | NA | NA | NA | NA | NA |\n",
       "| AAACGAACAAGCGAAC-1_Flt3l | 0.00000000 | 0.00000000 | 0.00000000 | 0.00000000 | 0.11111111 | 0.00000000 | 0 | 0.0000000 | 0 | 0.00000000 | ⋯ | NA | NA | NA | NA | NA | NA | NA | NA | NA | NA |\n",
       "| AAACGAACACAGCCAC-1_Flt3l | 0.00000000 | 0.00000000 | 0.00000000 | 0.00000000 | 0.00000000 | 0.00000000 | 0 | 0.0000000 | 0 | 0.00000000 | ⋯ | NA | NA | NA | NA | NA | NA | NA | NA | NA | NA |\n",
       "| AAACGAACACAGGTAG-1_Flt3l | 0.00000000 | 0.00000000 | 0.00000000 | 0.00000000 | 0.00000000 | 0.00000000 | 0 | 0.0000000 | 0 | 0.00000000 | ⋯ | NA | NA | NA | NA | NA | NA | NA | NA | NA | NA |\n",
       "| AAACGAACACGCTCAG-1_Input | 0.00000000 | 0.00000000 | 0.00000000 | 0.00000000 | 0.00000000 | 0.00000000 | 0 | 0.0000000 | 0 | 0.00000000 | ⋯ | NA | NA | NA | NA | NA | NA | NA | NA | NA | NA |\n",
       "| AAACGAACACTCGCAG-1_Control | 0.00000000 | 0.00000000 | 0.00000000 | 0.00000000 | 0.00000000 | 0.00000000 | 0 | 0.0000000 | 0 | 0.00000000 | ⋯ | NA | NA | NA | NA | NA | NA | NA | NA | NA | NA |\n",
       "| AAACGAACATAGAATG-1_Flt3l | 0.00000000 | 0.00000000 | 0.00000000 | 0.00000000 | 0.00000000 | 0.00000000 | 0 | 0.0000000 | 0 | 0.00000000 | ⋯ | NA | NA | NA | NA | NA | NA | NA | NA | NA | NA |\n",
       "| AAACGAAGTACCAAGG-1_Input | 0.00000000 | 0.00000000 | 0.00000000 | 0.00000000 | 0.00000000 | 0.04444444 | 0 | 0.0000000 | 0 | 0.00000000 | ⋯ | NA | NA | NA | NA | NA | NA | NA | NA | NA | NA |\n",
       "| AAACGAAGTATTCGAC-1_Flt3l | 0.00000000 | 0.00000000 | 0.00000000 | 0.00000000 | 0.00000000 | 0.00000000 | 0 | 0.0000000 | 0 | 0.00000000 | ⋯ | NA | NA | NA | NA | NA | NA | NA | NA | NA | NA |\n",
       "| AAACGAAGTCTGATTG-1_Flt3l | 0.00000000 | 0.00000000 | 0.00000000 | 0.00000000 | 0.00000000 | 0.00000000 | 0 | 0.0000000 | 0 | 0.00000000 | ⋯ | NA | NA | NA | NA | NA | NA | NA | NA | NA | NA |\n",
       "| AAACGAAGTTCTCGAA-1_Input | 0.00000000 | 0.03921569 | 0.00000000 | 0.00000000 | 0.00000000 | 0.02597403 | 0 | 0.0000000 | 0 | 0.00000000 | ⋯ | NA | NA | NA | NA | NA | NA | NA | NA | NA | NA |\n",
       "| AAACGAAGTTTGACCA-1_Input | 0.00000000 | 0.00000000 | 0.00000000 | 0.00000000 | 0.00000000 | 0.00000000 | 0 | 0.0000000 | 0 | 0.00000000 | ⋯ | NA | NA | NA | NA | NA | NA | NA | NA | NA | NA |\n",
       "| AAACGAATCAGGCGCT-1_Control | 0.00000000 | 0.00000000 | 0.00000000 | 0.00000000 | 0.00000000 | 0.00000000 | 0 | 0.0000000 | 0 | 0.00000000 | ⋯ | NA | NA | NA | NA | NA | NA | NA | NA | NA | NA |\n",
       "| AAACGAATCCATCGAA-1_Control | 0.00000000 | 0.00000000 | 0.00000000 | 0.00000000 | 0.00000000 | 0.00000000 | 0 | 0.0000000 | 0 | 0.00000000 | ⋯ | NA | NA | NA | NA | NA | NA | NA | NA | NA | NA |\n",
       "| AAACGAATCGCTGATA-1_Flt3l | 0.00000000 | 0.00000000 | 0.00000000 | 0.00000000 | 0.00000000 | 0.00000000 | 0 | 0.0000000 | 0 | 0.00000000 | ⋯ | NA | NA | NA | NA | NA | NA | NA | NA | NA | NA |\n",
       "| AAACGAATCTCGTAGA-1_Control | 0.00000000 | 0.00000000 | 0.00000000 | 0.00000000 | 0.00000000 | 0.00000000 | 0 | 0.1176471 | 0 | 0.05405405 | ⋯ | NA | NA | NA | NA | NA | NA | NA | NA | NA | NA |\n",
       "| AAACTCGAGATGTTCC-1_Flt3l | 0.00000000 | 0.00000000 | 0.00000000 | 0.00000000 | 0.00000000 | 0.00000000 | 0 | 0.0000000 | 0 | 0.00000000 | ⋯ | NA | NA | NA | NA | NA | NA | NA | NA | NA | NA |\n",
       "| AAACTCGAGTCTCCAA-1_Flt3l | 0.00000000 | 0.00000000 | 0.00000000 | 0.00000000 | 0.00000000 | 0.00000000 | 0 | 0.0000000 | 0 | 0.00000000 | ⋯ | NA | NA | NA | NA | NA | NA | NA | NA | NA | NA |\n",
       "| AAACTCGAGTGAAGGA-1_Control | 0.00000000 | 0.00000000 | 0.07692308 | 0.00000000 | 0.00000000 | 0.00000000 | 0 | 0.0000000 | 0 | 0.00000000 | ⋯ | NA | NA | NA | NA | NA | NA | NA | NA | NA | NA |\n",
       "| AAACTCGCAACAACTC-1_Input | 0.00000000 | 0.00000000 | 0.00000000 | 0.02469136 | 0.00000000 | 0.05128205 | 0 | 0.0000000 | 0 | 0.00000000 | ⋯ | NA | NA | NA | NA | NA | NA | NA | NA | NA | NA |\n",
       "| AAACTCGCAAGGACCA-1_Input | 0.05714286 | 0.00000000 | 0.00000000 | 0.00000000 | 0.00000000 | 0.00000000 | 0 | 0.0000000 | 0 | 0.00000000 | ⋯ | NA | NA | NA | NA | NA | NA | NA | NA | NA | NA |\n",
       "| AAACTCGCATCCCAAA-1_Input | 0.00000000 | 0.02985075 | 0.00000000 | 0.00000000 | 0.00000000 | 0.00000000 | 0 | 0.0000000 | 0 | 0.00000000 | ⋯ | NA | NA | NA | NA | NA | NA | NA | NA | NA | NA |\n",
       "| AAACTCGCATCCGTGG-1_Flt3l | 0.00000000 | 0.00000000 | 0.00000000 | 0.00000000 | 0.00000000 | 0.00000000 | 0 | 0.0000000 | 0 | 0.00000000 | ⋯ | NA | NA | NA | NA | NA | NA | NA | NA | NA | NA |\n",
       "| AAACTCGCATGCACTA-1_Control | 0.00000000 | 0.00000000 | 0.00000000 | 0.00000000 | 0.00000000 | 0.00000000 | 0 | 0.0000000 | 0 | 0.06451613 | ⋯ | NA | NA | NA | NA | NA | NA | NA | NA | NA | NA |\n",
       "| AAACTCGCATTAACGC-1_Flt3l | 0.00000000 | 0.00000000 | 0.00000000 | 0.00000000 | 0.07142857 | 0.00000000 | 0 | 0.0000000 | 0 | 0.00000000 | ⋯ | NA | NA | NA | NA | NA | NA | NA | NA | NA | NA |\n",
       "| AAACTCGGTACGGATG-1_Input | 0.00000000 | 0.00000000 | 0.00000000 | 0.00000000 | 0.00000000 | 0.00000000 | 0 | 0.0000000 | 0 | 0.00000000 | ⋯ | NA | NA | NA | NA | NA | NA | NA | NA | NA | NA |\n",
       "| ⋮ | ⋮ | ⋮ | ⋮ | ⋮ | ⋮ | ⋮ | ⋮ | ⋮ | ⋮ | ⋮ | ⋱ | ⋮ | ⋮ | ⋮ | ⋮ | ⋮ | ⋮ | ⋮ | ⋮ | ⋮ | ⋮ |\n",
       "| TTTGGTTCAATAGCGG-1_Control | NA | NA | NA | 0 | NA | NA | NA | NA | 0.00000000 | NA | ⋯ | 0.0000000 | 0.0000000 | 0.00000000 | 0.00000000 | 0.00000000 | 0.00000000 | 0.00000000 | 0.00000000 | 0.00000000 | 0.000000000 |\n",
       "| TTTGGTTCACCTGGTG-1_Input | NA | NA | NA | 0 | NA | NA | NA | NA | 0.00000000 | NA | ⋯ | 0.0000000 | 0.0000000 | 0.01769912 | 0.00000000 | 0.00000000 | 0.00000000 | 0.01438849 | 0.00000000 | 0.02424242 | 0.000000000 |\n",
       "| TTTGGTTCAGGATGTG-1_Control | NA | NA | NA | 0 | NA | NA | NA | NA | 0.00000000 | NA | ⋯ | 0.0000000 | 0.0000000 | 0.00000000 | 0.00000000 | 0.00000000 | 0.00000000 | 0.00000000 | 0.00000000 | 0.00000000 | 0.000000000 |\n",
       "| TTTGGTTCATACCCGG-1_Flt3l | NA | NA | NA | 0 | NA | NA | NA | NA | 0.00000000 | NA | ⋯ | 0.0000000 | 0.0000000 | 0.00000000 | 0.00000000 | 0.00000000 | 0.00000000 | 0.00000000 | 0.00000000 | 0.00000000 | 0.000000000 |\n",
       "| TTTGGTTCATATAGAG-1_Input | NA | NA | NA | 0 | NA | NA | NA | NA | 0.00000000 | NA | ⋯ | 0.0000000 | 0.0000000 | 0.00000000 | 0.00000000 | 0.00000000 | 0.00000000 | 0.00000000 | 0.00000000 | 0.00000000 | 0.000000000 |\n",
       "| TTTGGTTGTCAGAGTG-1_Flt3l | NA | NA | NA | 0 | NA | NA | NA | NA | 0.00000000 | NA | ⋯ | 0.0000000 | 0.0000000 | 0.00000000 | 0.00000000 | 0.03225806 | 0.03278689 | 0.00000000 | 0.00000000 | 0.00000000 | 0.000000000 |\n",
       "| TTTGGTTGTCAGCTTA-1_Control | NA | NA | NA | 0 | NA | NA | NA | NA | 0.00000000 | NA | ⋯ | 0.0000000 | 0.0000000 | 0.00000000 | 0.00000000 | 0.00000000 | 0.00000000 | 0.00000000 | 0.07692308 | 0.00000000 | 0.095238095 |\n",
       "| TTTGGTTGTGGACAGT-1_Control | NA | NA | NA | 0 | NA | NA | NA | NA | 0.00000000 | NA | ⋯ | 0.0000000 | 0.0000000 | 0.00000000 | 0.00000000 | 0.00000000 | 0.00000000 | 0.00000000 | 0.00000000 | 0.00000000 | 0.000000000 |\n",
       "| TTTGGTTGTGTTGGTT-1_Flt3l | NA | NA | NA | 0 | NA | NA | NA | NA | 0.00000000 | NA | ⋯ | 0.0000000 | 0.0000000 | 0.00000000 | 0.00000000 | 0.00000000 | 0.00000000 | 0.00000000 | 0.00000000 | 0.00000000 | 0.000000000 |\n",
       "| TTTGGTTGTTCTACGA-1_Flt3l | NA | NA | NA | 0 | NA | NA | NA | NA | 0.00000000 | NA | ⋯ | 0.0000000 | 0.0000000 | 0.00000000 | 0.00000000 | 0.00000000 | 0.00000000 | 0.00000000 | 0.00000000 | 0.00000000 | 0.000000000 |\n",
       "| TTTGGTTGTTGAATAG-1_Control | NA | NA | NA | 0 | NA | NA | NA | NA | 0.00000000 | NA | ⋯ | 0.0000000 | 0.0000000 | 0.00000000 | 0.00000000 | 0.00000000 | 0.00000000 | 0.00000000 | 0.00000000 | 0.00000000 | 0.000000000 |\n",
       "| TTTGGTTTCAGTCACA-1_Flt3l | NA | NA | NA | 0 | NA | NA | NA | NA | 0.00000000 | NA | ⋯ | 0.0952381 | 0.0952381 | 0.00000000 | 0.00000000 | 0.00000000 | 0.00000000 | 0.00000000 | 0.00000000 | 0.00000000 | 0.000000000 |\n",
       "| TTTGGTTTCCAGAATC-1_Input | NA | NA | NA | 0 | NA | NA | NA | NA | 0.00000000 | NA | ⋯ | 0.0000000 | 0.0000000 | 0.00000000 | 0.03603604 | 0.00000000 | 0.00000000 | 0.00000000 | 0.00000000 | 0.00000000 | 0.000000000 |\n",
       "| TTTGGTTTCGGTAGGA-1_Flt3l | NA | NA | NA | 0 | NA | NA | NA | NA | 0.00000000 | NA | ⋯ | 0.0000000 | 0.0000000 | 0.00000000 | 0.00000000 | 0.00000000 | 0.00000000 | 0.00000000 | 0.10000000 | 0.00000000 | 0.000000000 |\n",
       "| TTTGTGTAGAACCCGA-1_Input | NA | NA | NA | 0 | NA | NA | NA | NA | 0.00000000 | NA | ⋯ | 0.0000000 | 0.0000000 | 0.00000000 | 0.00000000 | 0.00000000 | 0.00000000 | 0.00000000 | 0.00000000 | 0.00000000 | 0.011363636 |\n",
       "| TTTGTGTAGACCTATC-1_Flt3l | NA | NA | NA | 0 | NA | NA | NA | NA | 0.00000000 | NA | ⋯ | 0.0000000 | 0.0000000 | 0.00000000 | 0.00000000 | 0.00000000 | 0.00000000 | 0.00000000 | 0.00000000 | 0.00000000 | 0.000000000 |\n",
       "| TTTGTGTAGGTTGTTC-1_Input | NA | NA | NA | 0 | NA | NA | NA | NA | 0.00000000 | NA | ⋯ | 0.0000000 | 0.0000000 | 0.00000000 | 0.00000000 | 0.00000000 | 0.00000000 | 0.03267974 | 0.00000000 | 0.00000000 | 0.000000000 |\n",
       "| TTTGTGTAGGTTTCTG-1_Input | NA | NA | NA | 0 | NA | NA | NA | NA | 0.00000000 | NA | ⋯ | 0.0000000 | 0.0000000 | 0.00000000 | 0.00000000 | 0.00000000 | 0.00000000 | 0.00000000 | 0.00000000 | 0.00000000 | 0.000000000 |\n",
       "| TTTGTGTAGTAGACCG-1_Input | NA | NA | NA | 0 | NA | NA | NA | NA | 0.00000000 | NA | ⋯ | 0.0000000 | 0.0000000 | 0.00000000 | 0.00000000 | 0.00000000 | 0.00000000 | 0.00000000 | 0.00000000 | 0.00000000 | 0.000000000 |\n",
       "| TTTGTGTAGTGATAAC-1_Control | NA | NA | NA | 0 | NA | NA | NA | NA | 0.00000000 | NA | ⋯ | 0.0000000 | 0.0000000 | 0.00000000 | 0.00000000 | 0.00000000 | 0.00000000 | 0.00000000 | 0.00000000 | 0.00000000 | 0.000000000 |\n",
       "| TTTGTGTCAACTCGTA-1_Input | NA | NA | NA | 0 | NA | NA | NA | NA | 0.01388889 | NA | ⋯ | 0.0000000 | 0.0000000 | 0.00000000 | 0.00000000 | 0.00000000 | 0.00000000 | 0.00000000 | 0.00000000 | 0.00000000 | 0.000000000 |\n",
       "| TTTGTGTCAAGCCAGA-1_Input | NA | NA | NA | 0 | NA | NA | NA | NA | 0.00000000 | NA | ⋯ | 0.0000000 | 0.0000000 | 0.00000000 | 0.00000000 | 0.00000000 | 0.00000000 | 0.00000000 | 0.00000000 | 0.00000000 | 0.000000000 |\n",
       "| TTTGTGTCAATGACTC-1_Input | NA | NA | NA | 0 | NA | NA | NA | NA | 0.00000000 | NA | ⋯ | 0.0000000 | 0.0000000 | 0.00000000 | 0.00000000 | 0.00000000 | 0.00000000 | 0.00000000 | 0.00000000 | 0.00000000 | 0.024793388 |\n",
       "| TTTGTGTCAGAAAGAG-1_Input | NA | NA | NA | 0 | NA | NA | NA | NA | 0.00000000 | NA | ⋯ | 0.0000000 | 0.0000000 | 0.00000000 | 0.00000000 | 0.00000000 | 0.00000000 | 0.00000000 | 0.00000000 | 0.00000000 | 0.009174312 |\n",
       "| TTTGTGTCATAGCCAT-1_Input | NA | NA | NA | 0 | NA | NA | NA | NA | 0.00000000 | NA | ⋯ | 0.0000000 | 0.0000000 | 0.00000000 | 0.03030303 | 0.00000000 | 0.00000000 | 0.00000000 | 0.00000000 | 0.00000000 | 0.019607843 |\n",
       "| TTTGTGTGTACGCAAG-1_Flt3l | NA | NA | NA | 0 | NA | NA | NA | NA | 0.00000000 | NA | ⋯ | 0.0000000 | 0.0000000 | 0.00000000 | 0.00000000 | 0.00000000 | 0.00000000 | 0.16666667 | 0.00000000 | 0.00000000 | 0.000000000 |\n",
       "| TTTGTGTGTCATAGAA-1_Input | NA | NA | NA | 0 | NA | NA | NA | NA | 0.00000000 | NA | ⋯ | 0.0000000 | 0.0000000 | 0.00000000 | 0.00000000 | 0.00000000 | 0.00000000 | 0.00000000 | 0.00000000 | 0.00000000 | 0.000000000 |\n",
       "| TTTGTGTGTCCCTTTG-1_Control | NA | NA | NA | 0 | NA | NA | NA | NA | 0.00000000 | NA | ⋯ | 0.0000000 | 0.0000000 | 0.00000000 | 0.00000000 | 0.00000000 | 0.00000000 | 0.00000000 | 0.00000000 | 0.00000000 | 0.000000000 |\n",
       "| TTTGTGTTCAATTGGC-1_Control | NA | NA | NA | 0 | NA | NA | NA | NA | 0.00000000 | NA | ⋯ | 0.0000000 | 0.0000000 | 0.00000000 | 0.00000000 | 0.00000000 | 0.00000000 | 0.00000000 | 0.00000000 | 0.00000000 | 0.000000000 |\n",
       "| TTTGTGTTCGGGACAA-1_Input | NA | NA | NA | 0 | NA | NA | NA | NA | 0.00000000 | NA | ⋯ | 0.0000000 | 0.0000000 | 0.00000000 | 0.00000000 | 0.00000000 | 0.00000000 | 0.00000000 | 0.00000000 | 0.00000000 | 0.000000000 |\n",
       "\n"
      ],
      "text/plain": [
       "                           X10463C    X10559G    X11251G    X11453A   \n",
       "AAACGAAAGAATCAAC-1_Control 0.00000000 0.00000000 0.15384615 0.00000000\n",
       "AAACGAAAGACGCCAA-1_Input   0.00000000 0.00000000 0.00000000 0.00000000\n",
       "AAACGAAAGCGAGAAA-1_Control 0.00000000 0.00000000 0.00000000 0.00000000\n",
       "AAACGAAAGTACAGAT-1_Control 0.00000000 0.00000000 0.00000000 0.00000000\n",
       "AAACGAAAGTTAGCAA-1_Control 0.00000000 0.00000000 0.00000000 0.00000000\n",
       "AAACGAACAAGCGAAC-1_Flt3l   0.00000000 0.00000000 0.00000000 0.00000000\n",
       "AAACGAACACAGCCAC-1_Flt3l   0.00000000 0.00000000 0.00000000 0.00000000\n",
       "AAACGAACACAGGTAG-1_Flt3l   0.00000000 0.00000000 0.00000000 0.00000000\n",
       "AAACGAACACGCTCAG-1_Input   0.00000000 0.00000000 0.00000000 0.00000000\n",
       "AAACGAACACTCGCAG-1_Control 0.00000000 0.00000000 0.00000000 0.00000000\n",
       "AAACGAACATAGAATG-1_Flt3l   0.00000000 0.00000000 0.00000000 0.00000000\n",
       "AAACGAAGTACCAAGG-1_Input   0.00000000 0.00000000 0.00000000 0.00000000\n",
       "AAACGAAGTATTCGAC-1_Flt3l   0.00000000 0.00000000 0.00000000 0.00000000\n",
       "AAACGAAGTCTGATTG-1_Flt3l   0.00000000 0.00000000 0.00000000 0.00000000\n",
       "AAACGAAGTTCTCGAA-1_Input   0.00000000 0.03921569 0.00000000 0.00000000\n",
       "AAACGAAGTTTGACCA-1_Input   0.00000000 0.00000000 0.00000000 0.00000000\n",
       "AAACGAATCAGGCGCT-1_Control 0.00000000 0.00000000 0.00000000 0.00000000\n",
       "AAACGAATCCATCGAA-1_Control 0.00000000 0.00000000 0.00000000 0.00000000\n",
       "AAACGAATCGCTGATA-1_Flt3l   0.00000000 0.00000000 0.00000000 0.00000000\n",
       "AAACGAATCTCGTAGA-1_Control 0.00000000 0.00000000 0.00000000 0.00000000\n",
       "AAACTCGAGATGTTCC-1_Flt3l   0.00000000 0.00000000 0.00000000 0.00000000\n",
       "AAACTCGAGTCTCCAA-1_Flt3l   0.00000000 0.00000000 0.00000000 0.00000000\n",
       "AAACTCGAGTGAAGGA-1_Control 0.00000000 0.00000000 0.07692308 0.00000000\n",
       "AAACTCGCAACAACTC-1_Input   0.00000000 0.00000000 0.00000000 0.02469136\n",
       "AAACTCGCAAGGACCA-1_Input   0.05714286 0.00000000 0.00000000 0.00000000\n",
       "AAACTCGCATCCCAAA-1_Input   0.00000000 0.02985075 0.00000000 0.00000000\n",
       "AAACTCGCATCCGTGG-1_Flt3l   0.00000000 0.00000000 0.00000000 0.00000000\n",
       "AAACTCGCATGCACTA-1_Control 0.00000000 0.00000000 0.00000000 0.00000000\n",
       "AAACTCGCATTAACGC-1_Flt3l   0.00000000 0.00000000 0.00000000 0.00000000\n",
       "AAACTCGGTACGGATG-1_Input   0.00000000 0.00000000 0.00000000 0.00000000\n",
       "⋮                          ⋮          ⋮          ⋮          ⋮         \n",
       "TTTGGTTCAATAGCGG-1_Control NA         NA         NA         0         \n",
       "TTTGGTTCACCTGGTG-1_Input   NA         NA         NA         0         \n",
       "TTTGGTTCAGGATGTG-1_Control NA         NA         NA         0         \n",
       "TTTGGTTCATACCCGG-1_Flt3l   NA         NA         NA         0         \n",
       "TTTGGTTCATATAGAG-1_Input   NA         NA         NA         0         \n",
       "TTTGGTTGTCAGAGTG-1_Flt3l   NA         NA         NA         0         \n",
       "TTTGGTTGTCAGCTTA-1_Control NA         NA         NA         0         \n",
       "TTTGGTTGTGGACAGT-1_Control NA         NA         NA         0         \n",
       "TTTGGTTGTGTTGGTT-1_Flt3l   NA         NA         NA         0         \n",
       "TTTGGTTGTTCTACGA-1_Flt3l   NA         NA         NA         0         \n",
       "TTTGGTTGTTGAATAG-1_Control NA         NA         NA         0         \n",
       "TTTGGTTTCAGTCACA-1_Flt3l   NA         NA         NA         0         \n",
       "TTTGGTTTCCAGAATC-1_Input   NA         NA         NA         0         \n",
       "TTTGGTTTCGGTAGGA-1_Flt3l   NA         NA         NA         0         \n",
       "TTTGTGTAGAACCCGA-1_Input   NA         NA         NA         0         \n",
       "TTTGTGTAGACCTATC-1_Flt3l   NA         NA         NA         0         \n",
       "TTTGTGTAGGTTGTTC-1_Input   NA         NA         NA         0         \n",
       "TTTGTGTAGGTTTCTG-1_Input   NA         NA         NA         0         \n",
       "TTTGTGTAGTAGACCG-1_Input   NA         NA         NA         0         \n",
       "TTTGTGTAGTGATAAC-1_Control NA         NA         NA         0         \n",
       "TTTGTGTCAACTCGTA-1_Input   NA         NA         NA         0         \n",
       "TTTGTGTCAAGCCAGA-1_Input   NA         NA         NA         0         \n",
       "TTTGTGTCAATGACTC-1_Input   NA         NA         NA         0         \n",
       "TTTGTGTCAGAAAGAG-1_Input   NA         NA         NA         0         \n",
       "TTTGTGTCATAGCCAT-1_Input   NA         NA         NA         0         \n",
       "TTTGTGTGTACGCAAG-1_Flt3l   NA         NA         NA         0         \n",
       "TTTGTGTGTCATAGAA-1_Input   NA         NA         NA         0         \n",
       "TTTGTGTGTCCCTTTG-1_Control NA         NA         NA         0         \n",
       "TTTGTGTTCAATTGGC-1_Control NA         NA         NA         0         \n",
       "TTTGTGTTCGGGACAA-1_Input   NA         NA         NA         0         \n",
       "                           X11719A    X11812G    X13368A X14233G   X14674C   \n",
       "AAACGAAAGAATCAAC-1_Control 0.00000000 0.05405405 0       0.0000000 0         \n",
       "AAACGAAAGACGCCAA-1_Input   0.00000000 0.00000000 0       0.0000000 0         \n",
       "AAACGAAAGCGAGAAA-1_Control 0.00000000 0.00000000 0       0.0000000 0         \n",
       "AAACGAAAGTACAGAT-1_Control 0.00000000 0.00000000 0       0.0000000 0         \n",
       "AAACGAAAGTTAGCAA-1_Control 0.42857143 0.00000000 0       0.0000000 0         \n",
       "AAACGAACAAGCGAAC-1_Flt3l   0.11111111 0.00000000 0       0.0000000 0         \n",
       "AAACGAACACAGCCAC-1_Flt3l   0.00000000 0.00000000 0       0.0000000 0         \n",
       "AAACGAACACAGGTAG-1_Flt3l   0.00000000 0.00000000 0       0.0000000 0         \n",
       "AAACGAACACGCTCAG-1_Input   0.00000000 0.00000000 0       0.0000000 0         \n",
       "AAACGAACACTCGCAG-1_Control 0.00000000 0.00000000 0       0.0000000 0         \n",
       "AAACGAACATAGAATG-1_Flt3l   0.00000000 0.00000000 0       0.0000000 0         \n",
       "AAACGAAGTACCAAGG-1_Input   0.00000000 0.04444444 0       0.0000000 0         \n",
       "AAACGAAGTATTCGAC-1_Flt3l   0.00000000 0.00000000 0       0.0000000 0         \n",
       "AAACGAAGTCTGATTG-1_Flt3l   0.00000000 0.00000000 0       0.0000000 0         \n",
       "AAACGAAGTTCTCGAA-1_Input   0.00000000 0.02597403 0       0.0000000 0         \n",
       "AAACGAAGTTTGACCA-1_Input   0.00000000 0.00000000 0       0.0000000 0         \n",
       "AAACGAATCAGGCGCT-1_Control 0.00000000 0.00000000 0       0.0000000 0         \n",
       "AAACGAATCCATCGAA-1_Control 0.00000000 0.00000000 0       0.0000000 0         \n",
       "AAACGAATCGCTGATA-1_Flt3l   0.00000000 0.00000000 0       0.0000000 0         \n",
       "AAACGAATCTCGTAGA-1_Control 0.00000000 0.00000000 0       0.1176471 0         \n",
       "AAACTCGAGATGTTCC-1_Flt3l   0.00000000 0.00000000 0       0.0000000 0         \n",
       "AAACTCGAGTCTCCAA-1_Flt3l   0.00000000 0.00000000 0       0.0000000 0         \n",
       "AAACTCGAGTGAAGGA-1_Control 0.00000000 0.00000000 0       0.0000000 0         \n",
       "AAACTCGCAACAACTC-1_Input   0.00000000 0.05128205 0       0.0000000 0         \n",
       "AAACTCGCAAGGACCA-1_Input   0.00000000 0.00000000 0       0.0000000 0         \n",
       "AAACTCGCATCCCAAA-1_Input   0.00000000 0.00000000 0       0.0000000 0         \n",
       "AAACTCGCATCCGTGG-1_Flt3l   0.00000000 0.00000000 0       0.0000000 0         \n",
       "AAACTCGCATGCACTA-1_Control 0.00000000 0.00000000 0       0.0000000 0         \n",
       "AAACTCGCATTAACGC-1_Flt3l   0.07142857 0.00000000 0       0.0000000 0         \n",
       "AAACTCGGTACGGATG-1_Input   0.00000000 0.00000000 0       0.0000000 0         \n",
       "⋮                          ⋮          ⋮          ⋮       ⋮         ⋮         \n",
       "TTTGGTTCAATAGCGG-1_Control NA         NA         NA      NA        0.00000000\n",
       "TTTGGTTCACCTGGTG-1_Input   NA         NA         NA      NA        0.00000000\n",
       "TTTGGTTCAGGATGTG-1_Control NA         NA         NA      NA        0.00000000\n",
       "TTTGGTTCATACCCGG-1_Flt3l   NA         NA         NA      NA        0.00000000\n",
       "TTTGGTTCATATAGAG-1_Input   NA         NA         NA      NA        0.00000000\n",
       "TTTGGTTGTCAGAGTG-1_Flt3l   NA         NA         NA      NA        0.00000000\n",
       "TTTGGTTGTCAGCTTA-1_Control NA         NA         NA      NA        0.00000000\n",
       "TTTGGTTGTGGACAGT-1_Control NA         NA         NA      NA        0.00000000\n",
       "TTTGGTTGTGTTGGTT-1_Flt3l   NA         NA         NA      NA        0.00000000\n",
       "TTTGGTTGTTCTACGA-1_Flt3l   NA         NA         NA      NA        0.00000000\n",
       "TTTGGTTGTTGAATAG-1_Control NA         NA         NA      NA        0.00000000\n",
       "TTTGGTTTCAGTCACA-1_Flt3l   NA         NA         NA      NA        0.00000000\n",
       "TTTGGTTTCCAGAATC-1_Input   NA         NA         NA      NA        0.00000000\n",
       "TTTGGTTTCGGTAGGA-1_Flt3l   NA         NA         NA      NA        0.00000000\n",
       "TTTGTGTAGAACCCGA-1_Input   NA         NA         NA      NA        0.00000000\n",
       "TTTGTGTAGACCTATC-1_Flt3l   NA         NA         NA      NA        0.00000000\n",
       "TTTGTGTAGGTTGTTC-1_Input   NA         NA         NA      NA        0.00000000\n",
       "TTTGTGTAGGTTTCTG-1_Input   NA         NA         NA      NA        0.00000000\n",
       "TTTGTGTAGTAGACCG-1_Input   NA         NA         NA      NA        0.00000000\n",
       "TTTGTGTAGTGATAAC-1_Control NA         NA         NA      NA        0.00000000\n",
       "TTTGTGTCAACTCGTA-1_Input   NA         NA         NA      NA        0.01388889\n",
       "TTTGTGTCAAGCCAGA-1_Input   NA         NA         NA      NA        0.00000000\n",
       "TTTGTGTCAATGACTC-1_Input   NA         NA         NA      NA        0.00000000\n",
       "TTTGTGTCAGAAAGAG-1_Input   NA         NA         NA      NA        0.00000000\n",
       "TTTGTGTCATAGCCAT-1_Input   NA         NA         NA      NA        0.00000000\n",
       "TTTGTGTGTACGCAAG-1_Flt3l   NA         NA         NA      NA        0.00000000\n",
       "TTTGTGTGTCATAGAA-1_Input   NA         NA         NA      NA        0.00000000\n",
       "TTTGTGTGTCCCTTTG-1_Control NA         NA         NA      NA        0.00000000\n",
       "TTTGTGTTCAATTGGC-1_Control NA         NA         NA      NA        0.00000000\n",
       "TTTGTGTTCGGGACAA-1_Input   NA         NA         NA      NA        0.00000000\n",
       "                           X14905A    ⋯ X196C     X204C     X2442C    \n",
       "AAACGAAAGAATCAAC-1_Control 0.00000000 ⋯ NA        NA        NA        \n",
       "AAACGAAAGACGCCAA-1_Input   0.00000000 ⋯ NA        NA        NA        \n",
       "AAACGAAAGCGAGAAA-1_Control 0.00000000 ⋯ NA        NA        NA        \n",
       "AAACGAAAGTACAGAT-1_Control 0.00000000 ⋯ NA        NA        NA        \n",
       "AAACGAAAGTTAGCAA-1_Control 0.00000000 ⋯ NA        NA        NA        \n",
       "AAACGAACAAGCGAAC-1_Flt3l   0.00000000 ⋯ NA        NA        NA        \n",
       "AAACGAACACAGCCAC-1_Flt3l   0.00000000 ⋯ NA        NA        NA        \n",
       "AAACGAACACAGGTAG-1_Flt3l   0.00000000 ⋯ NA        NA        NA        \n",
       "AAACGAACACGCTCAG-1_Input   0.00000000 ⋯ NA        NA        NA        \n",
       "AAACGAACACTCGCAG-1_Control 0.00000000 ⋯ NA        NA        NA        \n",
       "AAACGAACATAGAATG-1_Flt3l   0.00000000 ⋯ NA        NA        NA        \n",
       "AAACGAAGTACCAAGG-1_Input   0.00000000 ⋯ NA        NA        NA        \n",
       "AAACGAAGTATTCGAC-1_Flt3l   0.00000000 ⋯ NA        NA        NA        \n",
       "AAACGAAGTCTGATTG-1_Flt3l   0.00000000 ⋯ NA        NA        NA        \n",
       "AAACGAAGTTCTCGAA-1_Input   0.00000000 ⋯ NA        NA        NA        \n",
       "AAACGAAGTTTGACCA-1_Input   0.00000000 ⋯ NA        NA        NA        \n",
       "AAACGAATCAGGCGCT-1_Control 0.00000000 ⋯ NA        NA        NA        \n",
       "AAACGAATCCATCGAA-1_Control 0.00000000 ⋯ NA        NA        NA        \n",
       "AAACGAATCGCTGATA-1_Flt3l   0.00000000 ⋯ NA        NA        NA        \n",
       "AAACGAATCTCGTAGA-1_Control 0.05405405 ⋯ NA        NA        NA        \n",
       "AAACTCGAGATGTTCC-1_Flt3l   0.00000000 ⋯ NA        NA        NA        \n",
       "AAACTCGAGTCTCCAA-1_Flt3l   0.00000000 ⋯ NA        NA        NA        \n",
       "AAACTCGAGTGAAGGA-1_Control 0.00000000 ⋯ NA        NA        NA        \n",
       "AAACTCGCAACAACTC-1_Input   0.00000000 ⋯ NA        NA        NA        \n",
       "AAACTCGCAAGGACCA-1_Input   0.00000000 ⋯ NA        NA        NA        \n",
       "AAACTCGCATCCCAAA-1_Input   0.00000000 ⋯ NA        NA        NA        \n",
       "AAACTCGCATCCGTGG-1_Flt3l   0.00000000 ⋯ NA        NA        NA        \n",
       "AAACTCGCATGCACTA-1_Control 0.06451613 ⋯ NA        NA        NA        \n",
       "AAACTCGCATTAACGC-1_Flt3l   0.00000000 ⋯ NA        NA        NA        \n",
       "AAACTCGGTACGGATG-1_Input   0.00000000 ⋯ NA        NA        NA        \n",
       "⋮                          ⋮          ⋱ ⋮         ⋮         ⋮         \n",
       "TTTGGTTCAATAGCGG-1_Control NA         ⋯ 0.0000000 0.0000000 0.00000000\n",
       "TTTGGTTCACCTGGTG-1_Input   NA         ⋯ 0.0000000 0.0000000 0.01769912\n",
       "TTTGGTTCAGGATGTG-1_Control NA         ⋯ 0.0000000 0.0000000 0.00000000\n",
       "TTTGGTTCATACCCGG-1_Flt3l   NA         ⋯ 0.0000000 0.0000000 0.00000000\n",
       "TTTGGTTCATATAGAG-1_Input   NA         ⋯ 0.0000000 0.0000000 0.00000000\n",
       "TTTGGTTGTCAGAGTG-1_Flt3l   NA         ⋯ 0.0000000 0.0000000 0.00000000\n",
       "TTTGGTTGTCAGCTTA-1_Control NA         ⋯ 0.0000000 0.0000000 0.00000000\n",
       "TTTGGTTGTGGACAGT-1_Control NA         ⋯ 0.0000000 0.0000000 0.00000000\n",
       "TTTGGTTGTGTTGGTT-1_Flt3l   NA         ⋯ 0.0000000 0.0000000 0.00000000\n",
       "TTTGGTTGTTCTACGA-1_Flt3l   NA         ⋯ 0.0000000 0.0000000 0.00000000\n",
       "TTTGGTTGTTGAATAG-1_Control NA         ⋯ 0.0000000 0.0000000 0.00000000\n",
       "TTTGGTTTCAGTCACA-1_Flt3l   NA         ⋯ 0.0952381 0.0952381 0.00000000\n",
       "TTTGGTTTCCAGAATC-1_Input   NA         ⋯ 0.0000000 0.0000000 0.00000000\n",
       "TTTGGTTTCGGTAGGA-1_Flt3l   NA         ⋯ 0.0000000 0.0000000 0.00000000\n",
       "TTTGTGTAGAACCCGA-1_Input   NA         ⋯ 0.0000000 0.0000000 0.00000000\n",
       "TTTGTGTAGACCTATC-1_Flt3l   NA         ⋯ 0.0000000 0.0000000 0.00000000\n",
       "TTTGTGTAGGTTGTTC-1_Input   NA         ⋯ 0.0000000 0.0000000 0.00000000\n",
       "TTTGTGTAGGTTTCTG-1_Input   NA         ⋯ 0.0000000 0.0000000 0.00000000\n",
       "TTTGTGTAGTAGACCG-1_Input   NA         ⋯ 0.0000000 0.0000000 0.00000000\n",
       "TTTGTGTAGTGATAAC-1_Control NA         ⋯ 0.0000000 0.0000000 0.00000000\n",
       "TTTGTGTCAACTCGTA-1_Input   NA         ⋯ 0.0000000 0.0000000 0.00000000\n",
       "TTTGTGTCAAGCCAGA-1_Input   NA         ⋯ 0.0000000 0.0000000 0.00000000\n",
       "TTTGTGTCAATGACTC-1_Input   NA         ⋯ 0.0000000 0.0000000 0.00000000\n",
       "TTTGTGTCAGAAAGAG-1_Input   NA         ⋯ 0.0000000 0.0000000 0.00000000\n",
       "TTTGTGTCATAGCCAT-1_Input   NA         ⋯ 0.0000000 0.0000000 0.00000000\n",
       "TTTGTGTGTACGCAAG-1_Flt3l   NA         ⋯ 0.0000000 0.0000000 0.00000000\n",
       "TTTGTGTGTCATAGAA-1_Input   NA         ⋯ 0.0000000 0.0000000 0.00000000\n",
       "TTTGTGTGTCCCTTTG-1_Control NA         ⋯ 0.0000000 0.0000000 0.00000000\n",
       "TTTGTGTTCAATTGGC-1_Control NA         ⋯ 0.0000000 0.0000000 0.00000000\n",
       "TTTGTGTTCGGGACAA-1_Input   NA         ⋯ 0.0000000 0.0000000 0.00000000\n",
       "                           X3847C     X58C       X64T       X7598A    \n",
       "AAACGAAAGAATCAAC-1_Control NA         NA         NA         NA        \n",
       "AAACGAAAGACGCCAA-1_Input   NA         NA         NA         NA        \n",
       "AAACGAAAGCGAGAAA-1_Control NA         NA         NA         NA        \n",
       "AAACGAAAGTACAGAT-1_Control NA         NA         NA         NA        \n",
       "AAACGAAAGTTAGCAA-1_Control NA         NA         NA         NA        \n",
       "AAACGAACAAGCGAAC-1_Flt3l   NA         NA         NA         NA        \n",
       "AAACGAACACAGCCAC-1_Flt3l   NA         NA         NA         NA        \n",
       "AAACGAACACAGGTAG-1_Flt3l   NA         NA         NA         NA        \n",
       "AAACGAACACGCTCAG-1_Input   NA         NA         NA         NA        \n",
       "AAACGAACACTCGCAG-1_Control NA         NA         NA         NA        \n",
       "AAACGAACATAGAATG-1_Flt3l   NA         NA         NA         NA        \n",
       "AAACGAAGTACCAAGG-1_Input   NA         NA         NA         NA        \n",
       "AAACGAAGTATTCGAC-1_Flt3l   NA         NA         NA         NA        \n",
       "AAACGAAGTCTGATTG-1_Flt3l   NA         NA         NA         NA        \n",
       "AAACGAAGTTCTCGAA-1_Input   NA         NA         NA         NA        \n",
       "AAACGAAGTTTGACCA-1_Input   NA         NA         NA         NA        \n",
       "AAACGAATCAGGCGCT-1_Control NA         NA         NA         NA        \n",
       "AAACGAATCCATCGAA-1_Control NA         NA         NA         NA        \n",
       "AAACGAATCGCTGATA-1_Flt3l   NA         NA         NA         NA        \n",
       "AAACGAATCTCGTAGA-1_Control NA         NA         NA         NA        \n",
       "AAACTCGAGATGTTCC-1_Flt3l   NA         NA         NA         NA        \n",
       "AAACTCGAGTCTCCAA-1_Flt3l   NA         NA         NA         NA        \n",
       "AAACTCGAGTGAAGGA-1_Control NA         NA         NA         NA        \n",
       "AAACTCGCAACAACTC-1_Input   NA         NA         NA         NA        \n",
       "AAACTCGCAAGGACCA-1_Input   NA         NA         NA         NA        \n",
       "AAACTCGCATCCCAAA-1_Input   NA         NA         NA         NA        \n",
       "AAACTCGCATCCGTGG-1_Flt3l   NA         NA         NA         NA        \n",
       "AAACTCGCATGCACTA-1_Control NA         NA         NA         NA        \n",
       "AAACTCGCATTAACGC-1_Flt3l   NA         NA         NA         NA        \n",
       "AAACTCGGTACGGATG-1_Input   NA         NA         NA         NA        \n",
       "⋮                          ⋮          ⋮          ⋮          ⋮         \n",
       "TTTGGTTCAATAGCGG-1_Control 0.00000000 0.00000000 0.00000000 0.00000000\n",
       "TTTGGTTCACCTGGTG-1_Input   0.00000000 0.00000000 0.00000000 0.01438849\n",
       "TTTGGTTCAGGATGTG-1_Control 0.00000000 0.00000000 0.00000000 0.00000000\n",
       "TTTGGTTCATACCCGG-1_Flt3l   0.00000000 0.00000000 0.00000000 0.00000000\n",
       "TTTGGTTCATATAGAG-1_Input   0.00000000 0.00000000 0.00000000 0.00000000\n",
       "TTTGGTTGTCAGAGTG-1_Flt3l   0.00000000 0.03225806 0.03278689 0.00000000\n",
       "TTTGGTTGTCAGCTTA-1_Control 0.00000000 0.00000000 0.00000000 0.00000000\n",
       "TTTGGTTGTGGACAGT-1_Control 0.00000000 0.00000000 0.00000000 0.00000000\n",
       "TTTGGTTGTGTTGGTT-1_Flt3l   0.00000000 0.00000000 0.00000000 0.00000000\n",
       "TTTGGTTGTTCTACGA-1_Flt3l   0.00000000 0.00000000 0.00000000 0.00000000\n",
       "TTTGGTTGTTGAATAG-1_Control 0.00000000 0.00000000 0.00000000 0.00000000\n",
       "TTTGGTTTCAGTCACA-1_Flt3l   0.00000000 0.00000000 0.00000000 0.00000000\n",
       "TTTGGTTTCCAGAATC-1_Input   0.03603604 0.00000000 0.00000000 0.00000000\n",
       "TTTGGTTTCGGTAGGA-1_Flt3l   0.00000000 0.00000000 0.00000000 0.00000000\n",
       "TTTGTGTAGAACCCGA-1_Input   0.00000000 0.00000000 0.00000000 0.00000000\n",
       "TTTGTGTAGACCTATC-1_Flt3l   0.00000000 0.00000000 0.00000000 0.00000000\n",
       "TTTGTGTAGGTTGTTC-1_Input   0.00000000 0.00000000 0.00000000 0.03267974\n",
       "TTTGTGTAGGTTTCTG-1_Input   0.00000000 0.00000000 0.00000000 0.00000000\n",
       "TTTGTGTAGTAGACCG-1_Input   0.00000000 0.00000000 0.00000000 0.00000000\n",
       "TTTGTGTAGTGATAAC-1_Control 0.00000000 0.00000000 0.00000000 0.00000000\n",
       "TTTGTGTCAACTCGTA-1_Input   0.00000000 0.00000000 0.00000000 0.00000000\n",
       "TTTGTGTCAAGCCAGA-1_Input   0.00000000 0.00000000 0.00000000 0.00000000\n",
       "TTTGTGTCAATGACTC-1_Input   0.00000000 0.00000000 0.00000000 0.00000000\n",
       "TTTGTGTCAGAAAGAG-1_Input   0.00000000 0.00000000 0.00000000 0.00000000\n",
       "TTTGTGTCATAGCCAT-1_Input   0.03030303 0.00000000 0.00000000 0.00000000\n",
       "TTTGTGTGTACGCAAG-1_Flt3l   0.00000000 0.00000000 0.00000000 0.16666667\n",
       "TTTGTGTGTCATAGAA-1_Input   0.00000000 0.00000000 0.00000000 0.00000000\n",
       "TTTGTGTGTCCCTTTG-1_Control 0.00000000 0.00000000 0.00000000 0.00000000\n",
       "TTTGTGTTCAATTGGC-1_Control 0.00000000 0.00000000 0.00000000 0.00000000\n",
       "TTTGTGTTCGGGACAA-1_Input   0.00000000 0.00000000 0.00000000 0.00000000\n",
       "                           X827G      X8292A     X8461T     \n",
       "AAACGAAAGAATCAAC-1_Control NA         NA         NA         \n",
       "AAACGAAAGACGCCAA-1_Input   NA         NA         NA         \n",
       "AAACGAAAGCGAGAAA-1_Control NA         NA         NA         \n",
       "AAACGAAAGTACAGAT-1_Control NA         NA         NA         \n",
       "AAACGAAAGTTAGCAA-1_Control NA         NA         NA         \n",
       "AAACGAACAAGCGAAC-1_Flt3l   NA         NA         NA         \n",
       "AAACGAACACAGCCAC-1_Flt3l   NA         NA         NA         \n",
       "AAACGAACACAGGTAG-1_Flt3l   NA         NA         NA         \n",
       "AAACGAACACGCTCAG-1_Input   NA         NA         NA         \n",
       "AAACGAACACTCGCAG-1_Control NA         NA         NA         \n",
       "AAACGAACATAGAATG-1_Flt3l   NA         NA         NA         \n",
       "AAACGAAGTACCAAGG-1_Input   NA         NA         NA         \n",
       "AAACGAAGTATTCGAC-1_Flt3l   NA         NA         NA         \n",
       "AAACGAAGTCTGATTG-1_Flt3l   NA         NA         NA         \n",
       "AAACGAAGTTCTCGAA-1_Input   NA         NA         NA         \n",
       "AAACGAAGTTTGACCA-1_Input   NA         NA         NA         \n",
       "AAACGAATCAGGCGCT-1_Control NA         NA         NA         \n",
       "AAACGAATCCATCGAA-1_Control NA         NA         NA         \n",
       "AAACGAATCGCTGATA-1_Flt3l   NA         NA         NA         \n",
       "AAACGAATCTCGTAGA-1_Control NA         NA         NA         \n",
       "AAACTCGAGATGTTCC-1_Flt3l   NA         NA         NA         \n",
       "AAACTCGAGTCTCCAA-1_Flt3l   NA         NA         NA         \n",
       "AAACTCGAGTGAAGGA-1_Control NA         NA         NA         \n",
       "AAACTCGCAACAACTC-1_Input   NA         NA         NA         \n",
       "AAACTCGCAAGGACCA-1_Input   NA         NA         NA         \n",
       "AAACTCGCATCCCAAA-1_Input   NA         NA         NA         \n",
       "AAACTCGCATCCGTGG-1_Flt3l   NA         NA         NA         \n",
       "AAACTCGCATGCACTA-1_Control NA         NA         NA         \n",
       "AAACTCGCATTAACGC-1_Flt3l   NA         NA         NA         \n",
       "AAACTCGGTACGGATG-1_Input   NA         NA         NA         \n",
       "⋮                          ⋮          ⋮          ⋮          \n",
       "TTTGGTTCAATAGCGG-1_Control 0.00000000 0.00000000 0.000000000\n",
       "TTTGGTTCACCTGGTG-1_Input   0.00000000 0.02424242 0.000000000\n",
       "TTTGGTTCAGGATGTG-1_Control 0.00000000 0.00000000 0.000000000\n",
       "TTTGGTTCATACCCGG-1_Flt3l   0.00000000 0.00000000 0.000000000\n",
       "TTTGGTTCATATAGAG-1_Input   0.00000000 0.00000000 0.000000000\n",
       "TTTGGTTGTCAGAGTG-1_Flt3l   0.00000000 0.00000000 0.000000000\n",
       "TTTGGTTGTCAGCTTA-1_Control 0.07692308 0.00000000 0.095238095\n",
       "TTTGGTTGTGGACAGT-1_Control 0.00000000 0.00000000 0.000000000\n",
       "TTTGGTTGTGTTGGTT-1_Flt3l   0.00000000 0.00000000 0.000000000\n",
       "TTTGGTTGTTCTACGA-1_Flt3l   0.00000000 0.00000000 0.000000000\n",
       "TTTGGTTGTTGAATAG-1_Control 0.00000000 0.00000000 0.000000000\n",
       "TTTGGTTTCAGTCACA-1_Flt3l   0.00000000 0.00000000 0.000000000\n",
       "TTTGGTTTCCAGAATC-1_Input   0.00000000 0.00000000 0.000000000\n",
       "TTTGGTTTCGGTAGGA-1_Flt3l   0.10000000 0.00000000 0.000000000\n",
       "TTTGTGTAGAACCCGA-1_Input   0.00000000 0.00000000 0.011363636\n",
       "TTTGTGTAGACCTATC-1_Flt3l   0.00000000 0.00000000 0.000000000\n",
       "TTTGTGTAGGTTGTTC-1_Input   0.00000000 0.00000000 0.000000000\n",
       "TTTGTGTAGGTTTCTG-1_Input   0.00000000 0.00000000 0.000000000\n",
       "TTTGTGTAGTAGACCG-1_Input   0.00000000 0.00000000 0.000000000\n",
       "TTTGTGTAGTGATAAC-1_Control 0.00000000 0.00000000 0.000000000\n",
       "TTTGTGTCAACTCGTA-1_Input   0.00000000 0.00000000 0.000000000\n",
       "TTTGTGTCAAGCCAGA-1_Input   0.00000000 0.00000000 0.000000000\n",
       "TTTGTGTCAATGACTC-1_Input   0.00000000 0.00000000 0.024793388\n",
       "TTTGTGTCAGAAAGAG-1_Input   0.00000000 0.00000000 0.009174312\n",
       "TTTGTGTCATAGCCAT-1_Input   0.00000000 0.00000000 0.019607843\n",
       "TTTGTGTGTACGCAAG-1_Flt3l   0.00000000 0.00000000 0.000000000\n",
       "TTTGTGTGTCATAGAA-1_Input   0.00000000 0.00000000 0.000000000\n",
       "TTTGTGTGTCCCTTTG-1_Control 0.00000000 0.00000000 0.000000000\n",
       "TTTGTGTTCAATTGGC-1_Control 0.00000000 0.00000000 0.000000000\n",
       "TTTGTGTTCGGGACAA-1_Input   0.00000000 0.00000000 0.000000000"
      ]
     },
     "metadata": {},
     "output_type": "display_data"
    },
    {
     "name": "stdout",
     "output_type": "stream",
     "text": [
      "[1] \"here\"\n"
     ]
    },
    {
     "data": {
      "text/html": [
       "<table class=\"dataframe\">\n",
       "<caption>A data.frame: 6 × 56</caption>\n",
       "<thead>\n",
       "\t<tr><th></th><th scope=col>X9899C</th><th scope=col>X5581G</th><th scope=col>X1949A</th><th scope=col>X11453A</th><th scope=col>X3109C</th><th scope=col>X15297C</th><th scope=col>X2623G</th><th scope=col>X3244A</th><th scope=col>X16129A</th><th scope=col>X152C</th><th scope=col>⋯</th><th scope=col>X196C</th><th scope=col>X204C</th><th scope=col>X2442C</th><th scope=col>X3847C</th><th scope=col>X58C</th><th scope=col>X64T</th><th scope=col>X7598A</th><th scope=col>X827G</th><th scope=col>X8292A</th><th scope=col>X8461T</th></tr>\n",
       "\t<tr><th></th><th scope=col>&lt;dbl&gt;</th><th scope=col>&lt;dbl&gt;</th><th scope=col>&lt;dbl&gt;</th><th scope=col>&lt;dbl&gt;</th><th scope=col>&lt;dbl&gt;</th><th scope=col>&lt;dbl&gt;</th><th scope=col>&lt;dbl&gt;</th><th scope=col>&lt;dbl&gt;</th><th scope=col>&lt;dbl&gt;</th><th scope=col>&lt;dbl&gt;</th><th scope=col>⋯</th><th scope=col>&lt;dbl&gt;</th><th scope=col>&lt;dbl&gt;</th><th scope=col>&lt;dbl&gt;</th><th scope=col>&lt;dbl&gt;</th><th scope=col>&lt;dbl&gt;</th><th scope=col>&lt;dbl&gt;</th><th scope=col>&lt;dbl&gt;</th><th scope=col>&lt;dbl&gt;</th><th scope=col>&lt;dbl&gt;</th><th scope=col>&lt;dbl&gt;</th></tr>\n",
       "</thead>\n",
       "<tbody>\n",
       "\t<tr><th scope=row>Control_AAACGAAAGAATCAAC-1</th><td>0.00000000</td><td>1</td><td>0.00000000</td><td>0</td><td>0</td><td>0</td><td>0.0000000</td><td>0</td><td>0</td><td>0</td><td>⋯</td><td>NA</td><td>NA</td><td>NA</td><td>NA</td><td>NA</td><td>NA</td><td>NA</td><td>NA</td><td>NA</td><td>NA</td></tr>\n",
       "\t<tr><th scope=row>Input_AAACGAAAGACGCCAA-1</th><td>0.00000000</td><td>0</td><td>0.02877698</td><td>0</td><td>0</td><td>0</td><td>0.0000000</td><td>0</td><td>0</td><td>0</td><td>⋯</td><td>NA</td><td>NA</td><td>NA</td><td>NA</td><td>NA</td><td>NA</td><td>NA</td><td>NA</td><td>NA</td><td>NA</td></tr>\n",
       "\t<tr><th scope=row>Control_AAACGAAAGCGAGAAA-1</th><td>0.07692308</td><td>0</td><td>0.00000000</td><td>0</td><td>0</td><td>0</td><td>0.3333333</td><td>0</td><td>0</td><td>0</td><td>⋯</td><td>NA</td><td>NA</td><td>NA</td><td>NA</td><td>NA</td><td>NA</td><td>NA</td><td>NA</td><td>NA</td><td>NA</td></tr>\n",
       "\t<tr><th scope=row>Control_AAACGAAAGTACAGAT-1</th><td>0.00000000</td><td>0</td><td>0.00000000</td><td>0</td><td>0</td><td>0</td><td>0.0000000</td><td>0</td><td>0</td><td>0</td><td>⋯</td><td>NA</td><td>NA</td><td>NA</td><td>NA</td><td>NA</td><td>NA</td><td>NA</td><td>NA</td><td>NA</td><td>NA</td></tr>\n",
       "\t<tr><th scope=row>Control_AAACGAAAGTTAGCAA-1</th><td>0.00000000</td><td>0</td><td>0.11764706</td><td>0</td><td>0</td><td>0</td><td>0.0000000</td><td>0</td><td>0</td><td>0</td><td>⋯</td><td>NA</td><td>NA</td><td>NA</td><td>NA</td><td>NA</td><td>NA</td><td>NA</td><td>NA</td><td>NA</td><td>NA</td></tr>\n",
       "\t<tr><th scope=row>Flt3l_AAACGAACAAGCGAAC-1</th><td>0.00000000</td><td>0</td><td>0.00000000</td><td>0</td><td>0</td><td>0</td><td>0.0000000</td><td>0</td><td>0</td><td>0</td><td>⋯</td><td>NA</td><td>NA</td><td>NA</td><td>NA</td><td>NA</td><td>NA</td><td>NA</td><td>NA</td><td>NA</td><td>NA</td></tr>\n",
       "</tbody>\n",
       "</table>\n"
      ],
      "text/latex": [
       "A data.frame: 6 × 56\n",
       "\\begin{tabular}{r|lllllllllllllllllllll}\n",
       "  & X9899C & X5581G & X1949A & X11453A & X3109C & X15297C & X2623G & X3244A & X16129A & X152C & ⋯ & X196C & X204C & X2442C & X3847C & X58C & X64T & X7598A & X827G & X8292A & X8461T\\\\\n",
       "  & <dbl> & <dbl> & <dbl> & <dbl> & <dbl> & <dbl> & <dbl> & <dbl> & <dbl> & <dbl> & ⋯ & <dbl> & <dbl> & <dbl> & <dbl> & <dbl> & <dbl> & <dbl> & <dbl> & <dbl> & <dbl>\\\\\n",
       "\\hline\n",
       "\tControl\\_AAACGAAAGAATCAAC-1 & 0.00000000 & 1 & 0.00000000 & 0 & 0 & 0 & 0.0000000 & 0 & 0 & 0 & ⋯ & NA & NA & NA & NA & NA & NA & NA & NA & NA & NA\\\\\n",
       "\tInput\\_AAACGAAAGACGCCAA-1 & 0.00000000 & 0 & 0.02877698 & 0 & 0 & 0 & 0.0000000 & 0 & 0 & 0 & ⋯ & NA & NA & NA & NA & NA & NA & NA & NA & NA & NA\\\\\n",
       "\tControl\\_AAACGAAAGCGAGAAA-1 & 0.07692308 & 0 & 0.00000000 & 0 & 0 & 0 & 0.3333333 & 0 & 0 & 0 & ⋯ & NA & NA & NA & NA & NA & NA & NA & NA & NA & NA\\\\\n",
       "\tControl\\_AAACGAAAGTACAGAT-1 & 0.00000000 & 0 & 0.00000000 & 0 & 0 & 0 & 0.0000000 & 0 & 0 & 0 & ⋯ & NA & NA & NA & NA & NA & NA & NA & NA & NA & NA\\\\\n",
       "\tControl\\_AAACGAAAGTTAGCAA-1 & 0.00000000 & 0 & 0.11764706 & 0 & 0 & 0 & 0.0000000 & 0 & 0 & 0 & ⋯ & NA & NA & NA & NA & NA & NA & NA & NA & NA & NA\\\\\n",
       "\tFlt3l\\_AAACGAACAAGCGAAC-1 & 0.00000000 & 0 & 0.00000000 & 0 & 0 & 0 & 0.0000000 & 0 & 0 & 0 & ⋯ & NA & NA & NA & NA & NA & NA & NA & NA & NA & NA\\\\\n",
       "\\end{tabular}\n"
      ],
      "text/markdown": [
       "\n",
       "A data.frame: 6 × 56\n",
       "\n",
       "| <!--/--> | X9899C &lt;dbl&gt; | X5581G &lt;dbl&gt; | X1949A &lt;dbl&gt; | X11453A &lt;dbl&gt; | X3109C &lt;dbl&gt; | X15297C &lt;dbl&gt; | X2623G &lt;dbl&gt; | X3244A &lt;dbl&gt; | X16129A &lt;dbl&gt; | X152C &lt;dbl&gt; | ⋯ ⋯ | X196C &lt;dbl&gt; | X204C &lt;dbl&gt; | X2442C &lt;dbl&gt; | X3847C &lt;dbl&gt; | X58C &lt;dbl&gt; | X64T &lt;dbl&gt; | X7598A &lt;dbl&gt; | X827G &lt;dbl&gt; | X8292A &lt;dbl&gt; | X8461T &lt;dbl&gt; |\n",
       "|---|---|---|---|---|---|---|---|---|---|---|---|---|---|---|---|---|---|---|---|---|---|\n",
       "| Control_AAACGAAAGAATCAAC-1 | 0.00000000 | 1 | 0.00000000 | 0 | 0 | 0 | 0.0000000 | 0 | 0 | 0 | ⋯ | NA | NA | NA | NA | NA | NA | NA | NA | NA | NA |\n",
       "| Input_AAACGAAAGACGCCAA-1 | 0.00000000 | 0 | 0.02877698 | 0 | 0 | 0 | 0.0000000 | 0 | 0 | 0 | ⋯ | NA | NA | NA | NA | NA | NA | NA | NA | NA | NA |\n",
       "| Control_AAACGAAAGCGAGAAA-1 | 0.07692308 | 0 | 0.00000000 | 0 | 0 | 0 | 0.3333333 | 0 | 0 | 0 | ⋯ | NA | NA | NA | NA | NA | NA | NA | NA | NA | NA |\n",
       "| Control_AAACGAAAGTACAGAT-1 | 0.00000000 | 0 | 0.00000000 | 0 | 0 | 0 | 0.0000000 | 0 | 0 | 0 | ⋯ | NA | NA | NA | NA | NA | NA | NA | NA | NA | NA |\n",
       "| Control_AAACGAAAGTTAGCAA-1 | 0.00000000 | 0 | 0.11764706 | 0 | 0 | 0 | 0.0000000 | 0 | 0 | 0 | ⋯ | NA | NA | NA | NA | NA | NA | NA | NA | NA | NA |\n",
       "| Flt3l_AAACGAACAAGCGAAC-1 | 0.00000000 | 0 | 0.00000000 | 0 | 0 | 0 | 0.0000000 | 0 | 0 | 0 | ⋯ | NA | NA | NA | NA | NA | NA | NA | NA | NA | NA |\n",
       "\n"
      ],
      "text/plain": [
       "                           X9899C     X5581G X1949A     X11453A X3109C X15297C\n",
       "Control_AAACGAAAGAATCAAC-1 0.00000000 1      0.00000000 0       0      0      \n",
       "Input_AAACGAAAGACGCCAA-1   0.00000000 0      0.02877698 0       0      0      \n",
       "Control_AAACGAAAGCGAGAAA-1 0.07692308 0      0.00000000 0       0      0      \n",
       "Control_AAACGAAAGTACAGAT-1 0.00000000 0      0.00000000 0       0      0      \n",
       "Control_AAACGAAAGTTAGCAA-1 0.00000000 0      0.11764706 0       0      0      \n",
       "Flt3l_AAACGAACAAGCGAAC-1   0.00000000 0      0.00000000 0       0      0      \n",
       "                           X2623G    X3244A X16129A X152C ⋯ X196C X204C X2442C\n",
       "Control_AAACGAAAGAATCAAC-1 0.0000000 0      0       0     ⋯ NA    NA    NA    \n",
       "Input_AAACGAAAGACGCCAA-1   0.0000000 0      0       0     ⋯ NA    NA    NA    \n",
       "Control_AAACGAAAGCGAGAAA-1 0.3333333 0      0       0     ⋯ NA    NA    NA    \n",
       "Control_AAACGAAAGTACAGAT-1 0.0000000 0      0       0     ⋯ NA    NA    NA    \n",
       "Control_AAACGAAAGTTAGCAA-1 0.0000000 0      0       0     ⋯ NA    NA    NA    \n",
       "Flt3l_AAACGAACAAGCGAAC-1   0.0000000 0      0       0     ⋯ NA    NA    NA    \n",
       "                           X3847C X58C X64T X7598A X827G X8292A X8461T\n",
       "Control_AAACGAAAGAATCAAC-1 NA     NA   NA   NA     NA    NA     NA    \n",
       "Input_AAACGAAAGACGCCAA-1   NA     NA   NA   NA     NA    NA     NA    \n",
       "Control_AAACGAAAGCGAGAAA-1 NA     NA   NA   NA     NA    NA     NA    \n",
       "Control_AAACGAAAGTACAGAT-1 NA     NA   NA   NA     NA    NA     NA    \n",
       "Control_AAACGAAAGTTAGCAA-1 NA     NA   NA   NA     NA    NA     NA    \n",
       "Flt3l_AAACGAACAAGCGAAC-1   NA     NA   NA   NA     NA    NA     NA    "
      ]
     },
     "metadata": {},
     "output_type": "display_data"
    }
   ],
   "source": [
    "cells_meta <- read.table(cells_meta_f, sep=\"\\t\", header = T, row.names=\"cell\")\n",
    "cells_meta \n",
    "\n",
    "#cells_meta\n",
    "ids.reversed = T\n",
    "\n",
    "if (ids.reversed){\n",
    "    print('here')\n",
    "    split.names <- stringr::str_split(rownames(cells_meta), \"_\")\n",
    "    rownames(cells_meta) = lapply(split.names, function(x){paste0(x[2], \"_\", x[1])})\n",
    "}\n",
    "cells_meta = cells_meta[, order(colSums(-cells_meta))]\n",
    "head(cells_meta)"
   ]
  },
  {
   "cell_type": "code",
   "execution_count": 6,
   "id": "8461e0f1",
   "metadata": {
    "scrolled": false
   },
   "outputs": [
    {
     "data": {
      "text/plain": [
       "An object of class Seurat \n",
       "221404 features across 18672 samples within 2 assays \n",
       "Active assay: RNA (19039 features, 0 variable features)\n",
       " 1 other assay present: ATAC\n",
       " 2 dimensional reductions calculated: integrated_lsi, umap"
      ]
     },
     "metadata": {},
     "output_type": "display_data"
    }
   ],
   "source": [
    "se <- readRDS(se_f)#file.path(indir, paste0(\"allSamples.integrated.rds\")))\n",
    "se"
   ]
  },
  {
   "cell_type": "markdown",
   "id": "85cdcf54",
   "metadata": {},
   "source": [
    "### Subset to just in cells_meta"
   ]
  },
  {
   "cell_type": "code",
   "execution_count": 7,
   "id": "731422c4",
   "metadata": {},
   "outputs": [
    {
     "data": {
      "text/html": [
       "<style>\n",
       ".list-inline {list-style: none; margin:0; padding: 0}\n",
       ".list-inline>li {display: inline-block}\n",
       ".list-inline>li:not(:last-child)::after {content: \"\\00b7\"; padding: 0 .5ex}\n",
       "</style>\n",
       "<ol class=list-inline><li>0.890263496143959</li><li>16623</li></ol>\n"
      ],
      "text/latex": [
       "\\begin{enumerate*}\n",
       "\\item 0.890263496143959\n",
       "\\item 16623\n",
       "\\end{enumerate*}\n"
      ],
      "text/markdown": [
       "1. 0.890263496143959\n",
       "2. 16623\n",
       "\n",
       "\n"
      ],
      "text/plain": [
       "[1] 8.902635e-01 1.662300e+04"
      ]
     },
     "metadata": {},
     "output_type": "display_data"
    }
   ],
   "source": [
    "se$inClones = 0\n",
    "se[[\"inClones\"]][(colnames(se) %in% row.names(cells_meta)), \"inClones\"] = 1\n",
    "\n",
    "sum(se[[\"inClones\"]])/dim(se[[]][1])\n",
    "\n",
    "se.filt <- subset(se, subset = inClones == 1 )"
   ]
  },
  {
   "cell_type": "code",
   "execution_count": 8,
   "id": "55290def",
   "metadata": {},
   "outputs": [],
   "source": [
    "se.filt <- AddMetaData(se.filt, cells_meta)"
   ]
  },
  {
   "cell_type": "code",
   "execution_count": 9,
   "id": "9e177d24",
   "metadata": {
    "scrolled": false
   },
   "outputs": [
    {
     "data": {
      "text/plain": [
       "An object of class Seurat \n",
       "221404 features across 18672 samples within 2 assays \n",
       "Active assay: RNA (19039 features, 0 variable features)\n",
       " 1 other assay present: ATAC\n",
       " 2 dimensional reductions calculated: integrated_lsi, umap"
      ]
     },
     "metadata": {},
     "output_type": "display_data"
    }
   ],
   "source": [
    "se"
   ]
  },
  {
   "cell_type": "code",
   "execution_count": 10,
   "id": "2f296e45",
   "metadata": {
    "scrolled": true
   },
   "outputs": [
    {
     "data": {
      "text/plain": [
       "An object of class Seurat \n",
       "221404 features across 16623 samples within 2 assays \n",
       "Active assay: RNA (19039 features, 0 variable features)\n",
       " 1 other assay present: ATAC\n",
       " 2 dimensional reductions calculated: integrated_lsi, umap"
      ]
     },
     "metadata": {},
     "output_type": "display_data"
    }
   ],
   "source": [
    "se.filt"
   ]
  },
  {
   "cell_type": "code",
   "execution_count": 11,
   "id": "b1c35c94",
   "metadata": {
    "scrolled": true
   },
   "outputs": [
    {
     "name": "stderr",
     "output_type": "stream",
     "text": [
      "`summarise()` has grouped output by 'condition', 'donor', 'lineage'. You can override using the `.groups` argument.\n",
      "\n",
      "Warning message in xtfrm.data.frame(x):\n",
      "\"cannot xtfrm data frames\"\n",
      "`summarise()` has grouped output by 'donor'. You can override using the `.groups` argument.\n",
      "\n"
     ]
    },
    {
     "data": {
      "text/html": [
       "<table class=\"dataframe\">\n",
       "<caption>A tibble: 6 × 8</caption>\n",
       "<thead>\n",
       "\t<tr><th scope=col>donor</th><th scope=col>lineage</th><th scope=col>norm.total</th><th scope=col>total</th><th scope=col>name</th><th scope=col>cdf.norm</th><th scope=col>cdf</th><th scope=col>index</th></tr>\n",
       "\t<tr><th scope=col>&lt;fct&gt;</th><th scope=col>&lt;fct&gt;</th><th scope=col>&lt;dbl&gt;</th><th scope=col>&lt;int&gt;</th><th scope=col>&lt;fct&gt;</th><th scope=col>&lt;dbl&gt;</th><th scope=col>&lt;int&gt;</th><th scope=col>&lt;int&gt;</th></tr>\n",
       "</thead>\n",
       "<tbody>\n",
       "\t<tr><td>0</td><td>2</td><td>0.1389416</td><td>384</td><td>0_2</td><td>0.06947081</td><td> 384</td><td>1</td></tr>\n",
       "\t<tr><td>0</td><td>0</td><td>0.1355984</td><td>404</td><td>0_0</td><td>0.13726999</td><td> 788</td><td>2</td></tr>\n",
       "\t<tr><td>0</td><td>1</td><td>0.1349289</td><td>410</td><td>0_1</td><td>0.20473445</td><td>1198</td><td>3</td></tr>\n",
       "\t<tr><td>0</td><td>3</td><td>0.1170903</td><td>339</td><td>0_3</td><td>0.26327961</td><td>1537</td><td>4</td></tr>\n",
       "\t<tr><td>0</td><td>4</td><td>0.1045133</td><td>293</td><td>0_4</td><td>0.31553624</td><td>1830</td><td>5</td></tr>\n",
       "\t<tr><td>0</td><td>6</td><td>0.1039419</td><td>304</td><td>0_6</td><td>0.36750721</td><td>2134</td><td>6</td></tr>\n",
       "</tbody>\n",
       "</table>\n"
      ],
      "text/latex": [
       "A tibble: 6 × 8\n",
       "\\begin{tabular}{llllllll}\n",
       " donor & lineage & norm.total & total & name & cdf.norm & cdf & index\\\\\n",
       " <fct> & <fct> & <dbl> & <int> & <fct> & <dbl> & <int> & <int>\\\\\n",
       "\\hline\n",
       "\t 0 & 2 & 0.1389416 & 384 & 0\\_2 & 0.06947081 &  384 & 1\\\\\n",
       "\t 0 & 0 & 0.1355984 & 404 & 0\\_0 & 0.13726999 &  788 & 2\\\\\n",
       "\t 0 & 1 & 0.1349289 & 410 & 0\\_1 & 0.20473445 & 1198 & 3\\\\\n",
       "\t 0 & 3 & 0.1170903 & 339 & 0\\_3 & 0.26327961 & 1537 & 4\\\\\n",
       "\t 0 & 4 & 0.1045133 & 293 & 0\\_4 & 0.31553624 & 1830 & 5\\\\\n",
       "\t 0 & 6 & 0.1039419 & 304 & 0\\_6 & 0.36750721 & 2134 & 6\\\\\n",
       "\\end{tabular}\n"
      ],
      "text/markdown": [
       "\n",
       "A tibble: 6 × 8\n",
       "\n",
       "| donor &lt;fct&gt; | lineage &lt;fct&gt; | norm.total &lt;dbl&gt; | total &lt;int&gt; | name &lt;fct&gt; | cdf.norm &lt;dbl&gt; | cdf &lt;int&gt; | index &lt;int&gt; |\n",
       "|---|---|---|---|---|---|---|---|\n",
       "| 0 | 2 | 0.1389416 | 384 | 0_2 | 0.06947081 |  384 | 1 |\n",
       "| 0 | 0 | 0.1355984 | 404 | 0_0 | 0.13726999 |  788 | 2 |\n",
       "| 0 | 1 | 0.1349289 | 410 | 0_1 | 0.20473445 | 1198 | 3 |\n",
       "| 0 | 3 | 0.1170903 | 339 | 0_3 | 0.26327961 | 1537 | 4 |\n",
       "| 0 | 4 | 0.1045133 | 293 | 0_4 | 0.31553624 | 1830 | 5 |\n",
       "| 0 | 6 | 0.1039419 | 304 | 0_6 | 0.36750721 | 2134 | 6 |\n",
       "\n"
      ],
      "text/plain": [
       "  donor lineage norm.total total name cdf.norm   cdf  index\n",
       "1 0     2       0.1389416  384   0_2  0.06947081  384 1    \n",
       "2 0     0       0.1355984  404   0_0  0.13726999  788 2    \n",
       "3 0     1       0.1349289  410   0_1  0.20473445 1198 3    \n",
       "4 0     3       0.1170903  339   0_3  0.26327961 1537 4    \n",
       "5 0     4       0.1045133  293   0_4  0.31553624 1830 5    \n",
       "6 0     6       0.1039419  304   0_6  0.36750721 2134 6    "
      ]
     },
     "metadata": {},
     "output_type": "display_data"
    }
   ],
   "source": [
    "source(utils_script)\n",
    "tmp <- get.clone.sizes(se.filt)\n",
    "counts.conds.norm <- tmp[[\"counts.norm\"]]\n",
    "clone.sizes <- tmp[[\"clone.size\"]]\n",
    "head(clone.sizes)"
   ]
  },
  {
   "cell_type": "markdown",
   "id": "92fe40c1",
   "metadata": {},
   "source": [
    "## plot each clone pre and post "
   ]
  },
  {
   "cell_type": "code",
   "execution_count": 12,
   "id": "1b3bb198",
   "metadata": {
    "scrolled": true
   },
   "outputs": [
    {
     "data": {
      "text/html": [
       "<style>\n",
       ".list-inline {list-style: none; margin:0; padding: 0}\n",
       ".list-inline>li {display: inline-block}\n",
       ".list-inline>li:not(:last-child)::after {content: \"\\00b7\"; padding: 0 .5ex}\n",
       "</style>\n",
       "<ol class=list-inline><li>'X9899C'</li><li>'X5581G'</li><li>'X1949A'</li><li>'X11453A'</li><li>'X3109C'</li><li>'X15297C'</li><li>'X2623G'</li><li>'X3244A'</li><li>'X16129A'</li><li>'X152C'</li><li>'X5442C'</li><li>'X8743A'</li><li>'X15497A'</li><li>'X14674C'</li><li>'X10463C'</li><li>'X10559G'</li><li>'X11251G'</li><li>'X11719A'</li><li>'X11812G'</li><li>'X13368A'</li><li>'X14233G'</li><li>'X14905A'</li><li>'X150T'</li><li>'X15452A'</li><li>'X15607G'</li><li>'X15928A'</li><li>'X16294T'</li><li>'X16296T'</li><li>'X16304C'</li><li>'X16519C'</li><li>'X1888A'</li><li>'X4117C'</li><li>'X4216C'</li><li>'X4917G'</li><li>'X5147A'</li><li>'X5580C'</li><li>'X709A'</li><li>'X8697A'</li><li>'X930A'</li><li>'X10397G'</li><li>'X10589A'</li><li>'X11761T'</li><li>'X13188T'</li><li>'X146C'</li><li>'X16355T'</li><li>'X16362C'</li><li>'X196C'</li><li>'X204C'</li><li>'X2442C'</li><li>'X3847C'</li><li>'X58C'</li><li>'X64T'</li><li>'X7598A'</li><li>'X827G'</li><li>'X8292A'</li><li>'X8461T'</li></ol>\n"
      ],
      "text/latex": [
       "\\begin{enumerate*}\n",
       "\\item 'X9899C'\n",
       "\\item 'X5581G'\n",
       "\\item 'X1949A'\n",
       "\\item 'X11453A'\n",
       "\\item 'X3109C'\n",
       "\\item 'X15297C'\n",
       "\\item 'X2623G'\n",
       "\\item 'X3244A'\n",
       "\\item 'X16129A'\n",
       "\\item 'X152C'\n",
       "\\item 'X5442C'\n",
       "\\item 'X8743A'\n",
       "\\item 'X15497A'\n",
       "\\item 'X14674C'\n",
       "\\item 'X10463C'\n",
       "\\item 'X10559G'\n",
       "\\item 'X11251G'\n",
       "\\item 'X11719A'\n",
       "\\item 'X11812G'\n",
       "\\item 'X13368A'\n",
       "\\item 'X14233G'\n",
       "\\item 'X14905A'\n",
       "\\item 'X150T'\n",
       "\\item 'X15452A'\n",
       "\\item 'X15607G'\n",
       "\\item 'X15928A'\n",
       "\\item 'X16294T'\n",
       "\\item 'X16296T'\n",
       "\\item 'X16304C'\n",
       "\\item 'X16519C'\n",
       "\\item 'X1888A'\n",
       "\\item 'X4117C'\n",
       "\\item 'X4216C'\n",
       "\\item 'X4917G'\n",
       "\\item 'X5147A'\n",
       "\\item 'X5580C'\n",
       "\\item 'X709A'\n",
       "\\item 'X8697A'\n",
       "\\item 'X930A'\n",
       "\\item 'X10397G'\n",
       "\\item 'X10589A'\n",
       "\\item 'X11761T'\n",
       "\\item 'X13188T'\n",
       "\\item 'X146C'\n",
       "\\item 'X16355T'\n",
       "\\item 'X16362C'\n",
       "\\item 'X196C'\n",
       "\\item 'X204C'\n",
       "\\item 'X2442C'\n",
       "\\item 'X3847C'\n",
       "\\item 'X58C'\n",
       "\\item 'X64T'\n",
       "\\item 'X7598A'\n",
       "\\item 'X827G'\n",
       "\\item 'X8292A'\n",
       "\\item 'X8461T'\n",
       "\\end{enumerate*}\n"
      ],
      "text/markdown": [
       "1. 'X9899C'\n",
       "2. 'X5581G'\n",
       "3. 'X1949A'\n",
       "4. 'X11453A'\n",
       "5. 'X3109C'\n",
       "6. 'X15297C'\n",
       "7. 'X2623G'\n",
       "8. 'X3244A'\n",
       "9. 'X16129A'\n",
       "10. 'X152C'\n",
       "11. 'X5442C'\n",
       "12. 'X8743A'\n",
       "13. 'X15497A'\n",
       "14. 'X14674C'\n",
       "15. 'X10463C'\n",
       "16. 'X10559G'\n",
       "17. 'X11251G'\n",
       "18. 'X11719A'\n",
       "19. 'X11812G'\n",
       "20. 'X13368A'\n",
       "21. 'X14233G'\n",
       "22. 'X14905A'\n",
       "23. 'X150T'\n",
       "24. 'X15452A'\n",
       "25. 'X15607G'\n",
       "26. 'X15928A'\n",
       "27. 'X16294T'\n",
       "28. 'X16296T'\n",
       "29. 'X16304C'\n",
       "30. 'X16519C'\n",
       "31. 'X1888A'\n",
       "32. 'X4117C'\n",
       "33. 'X4216C'\n",
       "34. 'X4917G'\n",
       "35. 'X5147A'\n",
       "36. 'X5580C'\n",
       "37. 'X709A'\n",
       "38. 'X8697A'\n",
       "39. 'X930A'\n",
       "40. 'X10397G'\n",
       "41. 'X10589A'\n",
       "42. 'X11761T'\n",
       "43. 'X13188T'\n",
       "44. 'X146C'\n",
       "45. 'X16355T'\n",
       "46. 'X16362C'\n",
       "47. 'X196C'\n",
       "48. 'X204C'\n",
       "49. 'X2442C'\n",
       "50. 'X3847C'\n",
       "51. 'X58C'\n",
       "52. 'X64T'\n",
       "53. 'X7598A'\n",
       "54. 'X827G'\n",
       "55. 'X8292A'\n",
       "56. 'X8461T'\n",
       "\n",
       "\n"
      ],
      "text/plain": [
       " [1] \"X9899C\"  \"X5581G\"  \"X1949A\"  \"X11453A\" \"X3109C\"  \"X15297C\" \"X2623G\" \n",
       " [8] \"X3244A\"  \"X16129A\" \"X152C\"   \"X5442C\"  \"X8743A\"  \"X15497A\" \"X14674C\"\n",
       "[15] \"X10463C\" \"X10559G\" \"X11251G\" \"X11719A\" \"X11812G\" \"X13368A\" \"X14233G\"\n",
       "[22] \"X14905A\" \"X150T\"   \"X15452A\" \"X15607G\" \"X15928A\" \"X16294T\" \"X16296T\"\n",
       "[29] \"X16304C\" \"X16519C\" \"X1888A\"  \"X4117C\"  \"X4216C\"  \"X4917G\"  \"X5147A\" \n",
       "[36] \"X5580C\"  \"X709A\"   \"X8697A\"  \"X930A\"   \"X10397G\" \"X10589A\" \"X11761T\"\n",
       "[43] \"X13188T\" \"X146C\"   \"X16355T\" \"X16362C\" \"X196C\"   \"X204C\"   \"X2442C\" \n",
       "[50] \"X3847C\"  \"X58C\"    \"X64T\"    \"X7598A\"  \"X827G\"   \"X8292A\"  \"X8461T\" "
      ]
     },
     "metadata": {},
     "output_type": "display_data"
    }
   ],
   "source": [
    "mt.vars <- colnames(cells_meta)\n",
    "mt.vars"
   ]
  },
  {
   "cell_type": "code",
   "execution_count": 13,
   "id": "7d75bc16",
   "metadata": {
    "scrolled": true
   },
   "outputs": [
    {
     "name": "stdout",
     "output_type": "stream",
     "text": [
      "[1] \"X9899C\"\n"
     ]
    },
    {
     "name": "stderr",
     "output_type": "stream",
     "text": [
      "Saving 6.67 x 6.67 in image\n",
      "\n",
      "Saving 6.67 x 6.67 in image\n",
      "\n"
     ]
    },
    {
     "name": "stdout",
     "output_type": "stream",
     "text": [
      "[1] \"X5581G\"\n"
     ]
    },
    {
     "name": "stderr",
     "output_type": "stream",
     "text": [
      "Saving 6.67 x 6.67 in image\n",
      "\n",
      "Saving 6.67 x 6.67 in image\n",
      "\n"
     ]
    },
    {
     "name": "stdout",
     "output_type": "stream",
     "text": [
      "[1] \"X1949A\"\n"
     ]
    },
    {
     "name": "stderr",
     "output_type": "stream",
     "text": [
      "Saving 6.67 x 6.67 in image\n",
      "\n",
      "Saving 6.67 x 6.67 in image\n",
      "\n"
     ]
    },
    {
     "name": "stdout",
     "output_type": "stream",
     "text": [
      "[1] \"X11453A\"\n"
     ]
    },
    {
     "name": "stderr",
     "output_type": "stream",
     "text": [
      "Saving 6.67 x 6.67 in image\n",
      "\n",
      "Saving 6.67 x 6.67 in image\n",
      "\n"
     ]
    },
    {
     "name": "stdout",
     "output_type": "stream",
     "text": [
      "[1] \"X3109C\"\n"
     ]
    },
    {
     "name": "stderr",
     "output_type": "stream",
     "text": [
      "Saving 6.67 x 6.67 in image\n",
      "\n",
      "Saving 6.67 x 6.67 in image\n",
      "\n"
     ]
    },
    {
     "name": "stdout",
     "output_type": "stream",
     "text": [
      "[1] \"X15297C\"\n"
     ]
    },
    {
     "name": "stderr",
     "output_type": "stream",
     "text": [
      "Saving 6.67 x 6.67 in image\n",
      "\n",
      "Saving 6.67 x 6.67 in image\n",
      "\n"
     ]
    },
    {
     "name": "stdout",
     "output_type": "stream",
     "text": [
      "[1] \"X2623G\"\n"
     ]
    },
    {
     "name": "stderr",
     "output_type": "stream",
     "text": [
      "Saving 6.67 x 6.67 in image\n",
      "\n",
      "Saving 6.67 x 6.67 in image\n",
      "\n"
     ]
    },
    {
     "name": "stdout",
     "output_type": "stream",
     "text": [
      "[1] \"X3244A\"\n"
     ]
    },
    {
     "name": "stderr",
     "output_type": "stream",
     "text": [
      "Saving 6.67 x 6.67 in image\n",
      "\n",
      "Saving 6.67 x 6.67 in image\n",
      "\n"
     ]
    },
    {
     "name": "stdout",
     "output_type": "stream",
     "text": [
      "[1] \"X16129A\"\n"
     ]
    },
    {
     "name": "stderr",
     "output_type": "stream",
     "text": [
      "Saving 6.67 x 6.67 in image\n",
      "\n",
      "Saving 6.67 x 6.67 in image\n",
      "\n"
     ]
    },
    {
     "name": "stdout",
     "output_type": "stream",
     "text": [
      "[1] \"X152C\"\n"
     ]
    },
    {
     "name": "stderr",
     "output_type": "stream",
     "text": [
      "Saving 6.67 x 6.67 in image\n",
      "\n",
      "Saving 6.67 x 6.67 in image\n",
      "\n"
     ]
    },
    {
     "name": "stdout",
     "output_type": "stream",
     "text": [
      "[1] \"X5442C\"\n"
     ]
    },
    {
     "name": "stderr",
     "output_type": "stream",
     "text": [
      "Saving 6.67 x 6.67 in image\n",
      "\n",
      "Saving 6.67 x 6.67 in image\n",
      "\n"
     ]
    },
    {
     "name": "stdout",
     "output_type": "stream",
     "text": [
      "[1] \"X8743A\"\n"
     ]
    },
    {
     "name": "stderr",
     "output_type": "stream",
     "text": [
      "Saving 6.67 x 6.67 in image\n",
      "\n",
      "Saving 6.67 x 6.67 in image\n",
      "\n"
     ]
    },
    {
     "name": "stdout",
     "output_type": "stream",
     "text": [
      "[1] \"X15497A\"\n"
     ]
    },
    {
     "name": "stderr",
     "output_type": "stream",
     "text": [
      "Saving 6.67 x 6.67 in image\n",
      "\n",
      "Saving 6.67 x 6.67 in image\n",
      "\n"
     ]
    },
    {
     "name": "stdout",
     "output_type": "stream",
     "text": [
      "[1] \"X14674C\"\n"
     ]
    },
    {
     "name": "stderr",
     "output_type": "stream",
     "text": [
      "Saving 6.67 x 6.67 in image\n",
      "\n",
      "Saving 6.67 x 6.67 in image\n",
      "\n"
     ]
    },
    {
     "name": "stdout",
     "output_type": "stream",
     "text": [
      "[1] \"X10463C\"\n"
     ]
    },
    {
     "name": "stderr",
     "output_type": "stream",
     "text": [
      "Saving 6.67 x 6.67 in image\n",
      "\n",
      "Saving 6.67 x 6.67 in image\n",
      "\n"
     ]
    },
    {
     "name": "stdout",
     "output_type": "stream",
     "text": [
      "[1] \"X10559G\"\n"
     ]
    },
    {
     "name": "stderr",
     "output_type": "stream",
     "text": [
      "Saving 6.67 x 6.67 in image\n",
      "\n",
      "Saving 6.67 x 6.67 in image\n",
      "\n"
     ]
    },
    {
     "name": "stdout",
     "output_type": "stream",
     "text": [
      "[1] \"X11251G\"\n"
     ]
    },
    {
     "name": "stderr",
     "output_type": "stream",
     "text": [
      "Saving 6.67 x 6.67 in image\n",
      "\n",
      "Saving 6.67 x 6.67 in image\n",
      "\n"
     ]
    },
    {
     "name": "stdout",
     "output_type": "stream",
     "text": [
      "[1] \"X11719A\"\n"
     ]
    },
    {
     "name": "stderr",
     "output_type": "stream",
     "text": [
      "Saving 6.67 x 6.67 in image\n",
      "\n",
      "Saving 6.67 x 6.67 in image\n",
      "\n"
     ]
    },
    {
     "name": "stdout",
     "output_type": "stream",
     "text": [
      "[1] \"X11812G\"\n"
     ]
    },
    {
     "name": "stderr",
     "output_type": "stream",
     "text": [
      "Saving 6.67 x 6.67 in image\n",
      "\n",
      "Saving 6.67 x 6.67 in image\n",
      "\n"
     ]
    },
    {
     "name": "stdout",
     "output_type": "stream",
     "text": [
      "[1] \"X13368A\"\n"
     ]
    },
    {
     "name": "stderr",
     "output_type": "stream",
     "text": [
      "Saving 6.67 x 6.67 in image\n",
      "\n",
      "Saving 6.67 x 6.67 in image\n",
      "\n"
     ]
    },
    {
     "name": "stdout",
     "output_type": "stream",
     "text": [
      "[1] \"X14233G\"\n"
     ]
    },
    {
     "name": "stderr",
     "output_type": "stream",
     "text": [
      "Saving 6.67 x 6.67 in image\n",
      "\n",
      "Saving 6.67 x 6.67 in image\n",
      "\n"
     ]
    },
    {
     "name": "stdout",
     "output_type": "stream",
     "text": [
      "[1] \"X14905A\"\n"
     ]
    },
    {
     "name": "stderr",
     "output_type": "stream",
     "text": [
      "Saving 6.67 x 6.67 in image\n",
      "\n",
      "Saving 6.67 x 6.67 in image\n",
      "\n"
     ]
    },
    {
     "name": "stdout",
     "output_type": "stream",
     "text": [
      "[1] \"X150T\"\n"
     ]
    },
    {
     "name": "stderr",
     "output_type": "stream",
     "text": [
      "Saving 6.67 x 6.67 in image\n",
      "\n",
      "Saving 6.67 x 6.67 in image\n",
      "\n"
     ]
    },
    {
     "name": "stdout",
     "output_type": "stream",
     "text": [
      "[1] \"X15452A\"\n"
     ]
    },
    {
     "name": "stderr",
     "output_type": "stream",
     "text": [
      "Saving 6.67 x 6.67 in image\n",
      "\n",
      "Saving 6.67 x 6.67 in image\n",
      "\n"
     ]
    },
    {
     "name": "stdout",
     "output_type": "stream",
     "text": [
      "[1] \"X15607G\"\n"
     ]
    },
    {
     "name": "stderr",
     "output_type": "stream",
     "text": [
      "Saving 6.67 x 6.67 in image\n",
      "\n",
      "Saving 6.67 x 6.67 in image\n",
      "\n"
     ]
    },
    {
     "name": "stdout",
     "output_type": "stream",
     "text": [
      "[1] \"X15928A\"\n"
     ]
    },
    {
     "name": "stderr",
     "output_type": "stream",
     "text": [
      "Saving 6.67 x 6.67 in image\n",
      "\n",
      "Saving 6.67 x 6.67 in image\n",
      "\n"
     ]
    },
    {
     "name": "stdout",
     "output_type": "stream",
     "text": [
      "[1] \"X16294T\"\n"
     ]
    },
    {
     "name": "stderr",
     "output_type": "stream",
     "text": [
      "Saving 6.67 x 6.67 in image\n",
      "\n",
      "Saving 6.67 x 6.67 in image\n",
      "\n"
     ]
    },
    {
     "name": "stdout",
     "output_type": "stream",
     "text": [
      "[1] \"X16296T\"\n"
     ]
    },
    {
     "name": "stderr",
     "output_type": "stream",
     "text": [
      "Saving 6.67 x 6.67 in image\n",
      "\n",
      "Saving 6.67 x 6.67 in image\n",
      "\n"
     ]
    },
    {
     "name": "stdout",
     "output_type": "stream",
     "text": [
      "[1] \"X16304C\"\n"
     ]
    },
    {
     "name": "stderr",
     "output_type": "stream",
     "text": [
      "Saving 6.67 x 6.67 in image\n",
      "\n",
      "Saving 6.67 x 6.67 in image\n",
      "\n"
     ]
    },
    {
     "name": "stdout",
     "output_type": "stream",
     "text": [
      "[1] \"X16519C\"\n"
     ]
    },
    {
     "name": "stderr",
     "output_type": "stream",
     "text": [
      "Saving 6.67 x 6.67 in image\n",
      "\n",
      "Saving 6.67 x 6.67 in image\n",
      "\n"
     ]
    },
    {
     "name": "stdout",
     "output_type": "stream",
     "text": [
      "[1] \"X1888A\"\n"
     ]
    },
    {
     "name": "stderr",
     "output_type": "stream",
     "text": [
      "Saving 6.67 x 6.67 in image\n",
      "\n",
      "Saving 6.67 x 6.67 in image\n",
      "\n"
     ]
    },
    {
     "name": "stdout",
     "output_type": "stream",
     "text": [
      "[1] \"X4117C\"\n"
     ]
    },
    {
     "name": "stderr",
     "output_type": "stream",
     "text": [
      "Saving 6.67 x 6.67 in image\n",
      "\n",
      "Saving 6.67 x 6.67 in image\n",
      "\n"
     ]
    },
    {
     "name": "stdout",
     "output_type": "stream",
     "text": [
      "[1] \"X4216C\"\n"
     ]
    },
    {
     "name": "stderr",
     "output_type": "stream",
     "text": [
      "Saving 6.67 x 6.67 in image\n",
      "\n",
      "Saving 6.67 x 6.67 in image\n",
      "\n"
     ]
    },
    {
     "name": "stdout",
     "output_type": "stream",
     "text": [
      "[1] \"X4917G\"\n"
     ]
    },
    {
     "name": "stderr",
     "output_type": "stream",
     "text": [
      "Saving 6.67 x 6.67 in image\n",
      "\n",
      "Saving 6.67 x 6.67 in image\n",
      "\n"
     ]
    },
    {
     "name": "stdout",
     "output_type": "stream",
     "text": [
      "[1] \"X5147A\"\n"
     ]
    },
    {
     "name": "stderr",
     "output_type": "stream",
     "text": [
      "Saving 6.67 x 6.67 in image\n",
      "\n",
      "Saving 6.67 x 6.67 in image\n",
      "\n"
     ]
    },
    {
     "name": "stdout",
     "output_type": "stream",
     "text": [
      "[1] \"X5580C\"\n"
     ]
    },
    {
     "name": "stderr",
     "output_type": "stream",
     "text": [
      "Saving 6.67 x 6.67 in image\n",
      "\n",
      "Saving 6.67 x 6.67 in image\n",
      "\n"
     ]
    },
    {
     "name": "stdout",
     "output_type": "stream",
     "text": [
      "[1] \"X709A\"\n"
     ]
    },
    {
     "name": "stderr",
     "output_type": "stream",
     "text": [
      "Saving 6.67 x 6.67 in image\n",
      "\n",
      "Saving 6.67 x 6.67 in image\n",
      "\n"
     ]
    },
    {
     "name": "stdout",
     "output_type": "stream",
     "text": [
      "[1] \"X8697A\"\n"
     ]
    },
    {
     "name": "stderr",
     "output_type": "stream",
     "text": [
      "Saving 6.67 x 6.67 in image\n",
      "\n",
      "Saving 6.67 x 6.67 in image\n",
      "\n"
     ]
    },
    {
     "name": "stdout",
     "output_type": "stream",
     "text": [
      "[1] \"X930A\"\n"
     ]
    },
    {
     "name": "stderr",
     "output_type": "stream",
     "text": [
      "Saving 6.67 x 6.67 in image\n",
      "\n",
      "Saving 6.67 x 6.67 in image\n",
      "\n"
     ]
    },
    {
     "name": "stdout",
     "output_type": "stream",
     "text": [
      "[1] \"X10397G\"\n"
     ]
    },
    {
     "name": "stderr",
     "output_type": "stream",
     "text": [
      "Saving 6.67 x 6.67 in image\n",
      "\n",
      "Saving 6.67 x 6.67 in image\n",
      "\n"
     ]
    },
    {
     "name": "stdout",
     "output_type": "stream",
     "text": [
      "[1] \"X10589A\"\n"
     ]
    },
    {
     "name": "stderr",
     "output_type": "stream",
     "text": [
      "Saving 6.67 x 6.67 in image\n",
      "\n",
      "Saving 6.67 x 6.67 in image\n",
      "\n"
     ]
    },
    {
     "name": "stdout",
     "output_type": "stream",
     "text": [
      "[1] \"X11761T\"\n"
     ]
    },
    {
     "name": "stderr",
     "output_type": "stream",
     "text": [
      "Saving 6.67 x 6.67 in image\n",
      "\n",
      "Saving 6.67 x 6.67 in image\n",
      "\n"
     ]
    },
    {
     "name": "stdout",
     "output_type": "stream",
     "text": [
      "[1] \"X13188T\"\n"
     ]
    },
    {
     "name": "stderr",
     "output_type": "stream",
     "text": [
      "Saving 6.67 x 6.67 in image\n",
      "\n",
      "Saving 6.67 x 6.67 in image\n",
      "\n"
     ]
    },
    {
     "name": "stdout",
     "output_type": "stream",
     "text": [
      "[1] \"X146C\"\n"
     ]
    },
    {
     "name": "stderr",
     "output_type": "stream",
     "text": [
      "Saving 6.67 x 6.67 in image\n",
      "\n",
      "Saving 6.67 x 6.67 in image\n",
      "\n"
     ]
    },
    {
     "name": "stdout",
     "output_type": "stream",
     "text": [
      "[1] \"X16355T\"\n"
     ]
    },
    {
     "name": "stderr",
     "output_type": "stream",
     "text": [
      "Saving 6.67 x 6.67 in image\n",
      "\n",
      "Saving 6.67 x 6.67 in image\n",
      "\n"
     ]
    },
    {
     "name": "stdout",
     "output_type": "stream",
     "text": [
      "[1] \"X16362C\"\n"
     ]
    },
    {
     "name": "stderr",
     "output_type": "stream",
     "text": [
      "Saving 6.67 x 6.67 in image\n",
      "\n",
      "Saving 6.67 x 6.67 in image\n",
      "\n"
     ]
    },
    {
     "name": "stdout",
     "output_type": "stream",
     "text": [
      "[1] \"X196C\"\n"
     ]
    },
    {
     "name": "stderr",
     "output_type": "stream",
     "text": [
      "Saving 6.67 x 6.67 in image\n",
      "\n",
      "Saving 6.67 x 6.67 in image\n",
      "\n"
     ]
    },
    {
     "name": "stdout",
     "output_type": "stream",
     "text": [
      "[1] \"X204C\"\n"
     ]
    },
    {
     "name": "stderr",
     "output_type": "stream",
     "text": [
      "Saving 6.67 x 6.67 in image\n",
      "\n",
      "Saving 6.67 x 6.67 in image\n",
      "\n"
     ]
    },
    {
     "name": "stdout",
     "output_type": "stream",
     "text": [
      "[1] \"X2442C\"\n"
     ]
    },
    {
     "name": "stderr",
     "output_type": "stream",
     "text": [
      "Saving 6.67 x 6.67 in image\n",
      "\n",
      "Saving 6.67 x 6.67 in image\n",
      "\n"
     ]
    },
    {
     "name": "stdout",
     "output_type": "stream",
     "text": [
      "[1] \"X3847C\"\n"
     ]
    },
    {
     "name": "stderr",
     "output_type": "stream",
     "text": [
      "Saving 6.67 x 6.67 in image\n",
      "\n",
      "Saving 6.67 x 6.67 in image\n",
      "\n"
     ]
    },
    {
     "name": "stdout",
     "output_type": "stream",
     "text": [
      "[1] \"X58C\"\n"
     ]
    },
    {
     "name": "stderr",
     "output_type": "stream",
     "text": [
      "Saving 6.67 x 6.67 in image\n",
      "\n",
      "Saving 6.67 x 6.67 in image\n",
      "\n"
     ]
    },
    {
     "name": "stdout",
     "output_type": "stream",
     "text": [
      "[1] \"X64T\"\n"
     ]
    },
    {
     "name": "stderr",
     "output_type": "stream",
     "text": [
      "Saving 6.67 x 6.67 in image\n",
      "\n",
      "Saving 6.67 x 6.67 in image\n",
      "\n"
     ]
    },
    {
     "name": "stdout",
     "output_type": "stream",
     "text": [
      "[1] \"X7598A\"\n"
     ]
    },
    {
     "name": "stderr",
     "output_type": "stream",
     "text": [
      "Saving 6.67 x 6.67 in image\n",
      "\n",
      "Saving 6.67 x 6.67 in image\n",
      "\n"
     ]
    },
    {
     "name": "stdout",
     "output_type": "stream",
     "text": [
      "[1] \"X827G\"\n"
     ]
    },
    {
     "name": "stderr",
     "output_type": "stream",
     "text": [
      "Saving 6.67 x 6.67 in image\n",
      "\n",
      "Saving 6.67 x 6.67 in image\n",
      "\n"
     ]
    },
    {
     "name": "stdout",
     "output_type": "stream",
     "text": [
      "[1] \"X8292A\"\n"
     ]
    },
    {
     "name": "stderr",
     "output_type": "stream",
     "text": [
      "Saving 6.67 x 6.67 in image\n",
      "\n",
      "Saving 6.67 x 6.67 in image\n",
      "\n"
     ]
    },
    {
     "name": "stdout",
     "output_type": "stream",
     "text": [
      "[1] \"X8461T\"\n"
     ]
    },
    {
     "name": "stderr",
     "output_type": "stream",
     "text": [
      "Saving 6.67 x 6.67 in image\n",
      "\n",
      "Saving 6.67 x 6.67 in image\n",
      "\n"
     ]
    }
   ],
   "source": [
    "for (mt in (mt.vars)){\n",
    "    print(mt)    \n",
    "    p <- FeaturePlot(se.filt,features=mt, split.by = \"condition\", order=T) & theme(legend.position = c(0.1,0.2))\n",
    "    curr.count = sum(se.filt[[mt]]>0, na.rm=TRUE)\n",
    "    ggsave(file.path(outdir, paste(\"withNA.count\", curr.count,mt, \"groupCond.png\", sep=\"_\")), p)\n",
    "    \n",
    "    # Run with removing NA \n",
    "    expr <- FetchData(se.filt, vars = mt)\n",
    "    curr.se <- se.filt[, which((!is.na(expr)))]\n",
    "    p <- FeaturePlot(curr.se,features=mt, split.by = \"condition\", order=T) & theme(legend.position = c(0.1,0.2))\n",
    "    curr.count = sum(curr.se[[mt]]>0, na.rm=TRUE)\n",
    "    ggsave(file.path(outdir, paste(\"count\", curr.count,mt, \"groupCond.png\", sep=\"_\")), p)\n",
    "    \n",
    "}"
   ]
  },
  {
   "cell_type": "code",
   "execution_count": 14,
   "id": "c0daa6c8",
   "metadata": {},
   "outputs": [
    {
     "data": {
      "text/plain": [
       "R version 4.1.1 (2021-08-10)\n",
       "Platform: x86_64-conda-linux-gnu (64-bit)\n",
       "Running under: Ubuntu 20.04.3 LTS\n",
       "\n",
       "Matrix products: default\n",
       "BLAS/LAPACK: /home/isaac/miniconda3/envs/mttrace/lib/libopenblasp-r0.3.18.so\n",
       "\n",
       "locale:\n",
       " [1] LC_CTYPE=en_US.UTF-8       LC_NUMERIC=C              \n",
       " [3] LC_TIME=en_US.UTF-8        LC_COLLATE=en_US.UTF-8    \n",
       " [5] LC_MONETARY=en_US.UTF-8    LC_MESSAGES=en_US.UTF-8   \n",
       " [7] LC_PAPER=en_US.UTF-8       LC_NAME=C                 \n",
       " [9] LC_ADDRESS=C               LC_TELEPHONE=C            \n",
       "[11] LC_MEASUREMENT=en_US.UTF-8 LC_IDENTIFICATION=C       \n",
       "\n",
       "attached base packages:\n",
       "[1] stats4    stats     graphics  grDevices utils     datasets  methods  \n",
       "[8] base     \n",
       "\n",
       "other attached packages:\n",
       " [1] future_1.23.0             dplyr_1.0.7              \n",
       " [3] RColorBrewer_1.1-2        metap_1.1                \n",
       " [5] cowplot_1.1.1             magrittr_2.0.1           \n",
       " [7] data.table_1.14.2         patchwork_1.1.1          \n",
       " [9] ggplot2_3.3.5             EnsDb.Hsapiens.v75_2.99.0\n",
       "[11] ensembldb_2.18.1          AnnotationFilter_1.18.0  \n",
       "[13] GenomicFeatures_1.46.1    AnnotationDbi_1.56.1     \n",
       "[15] Biobase_2.54.0            Signac_1.4.0             \n",
       "[17] SeuratObject_4.0.4        Seurat_4.0.5             \n",
       "[19] GenomicRanges_1.46.0      GenomeInfoDb_1.30.0      \n",
       "[21] IRanges_2.28.0            S4Vectors_0.32.0         \n",
       "[23] BiocGenerics_0.40.0      \n",
       "\n",
       "loaded via a namespace (and not attached):\n",
       "  [1] utf8_1.2.2                  reticulate_1.22            \n",
       "  [3] tidyselect_1.1.1            RSQLite_2.2.8              \n",
       "  [5] htmlwidgets_1.5.4           grid_4.1.1                 \n",
       "  [7] docopt_0.7.1                BiocParallel_1.28.0        \n",
       "  [9] Rtsne_0.15                  munsell_0.5.0              \n",
       " [11] codetools_0.2-18            ica_1.0-2                  \n",
       " [13] pbdZMQ_0.3-6                miniUI_0.1.1.1             \n",
       " [15] withr_2.4.2                 colorspace_2.0-2           \n",
       " [17] filelock_1.0.2              uuid_1.0-3                 \n",
       " [19] ROCR_1.0-11                 tensor_1.5                 \n",
       " [21] listenv_0.8.0               labeling_0.4.2             \n",
       " [23] MatrixGenerics_1.6.0        Rdpack_2.1.2               \n",
       " [25] slam_0.1-49                 repr_1.1.3                 \n",
       " [27] GenomeInfoDbData_1.2.7      polyclip_1.10-0            \n",
       " [29] bit64_4.0.5                 farver_2.1.0               \n",
       " [31] parallelly_1.29.0           vctrs_0.3.8                \n",
       " [33] generics_0.1.1              BiocFileCache_2.2.0        \n",
       " [35] lsa_0.73.2                  ggseqlogo_0.1              \n",
       " [37] R6_2.5.1                    bitops_1.0-7               \n",
       " [39] spatstat.utils_2.2-0        cachem_1.0.6               \n",
       " [41] DelayedArray_0.20.0         assertthat_0.2.1           \n",
       " [43] promises_1.2.0.1            BiocIO_1.4.0               \n",
       " [45] scales_1.1.1                gtable_0.3.0               \n",
       " [47] globals_0.14.0              goftest_1.2-3              \n",
       " [49] rlang_0.4.12                RcppRoll_0.3.0             \n",
       " [51] splines_4.1.1               rtracklayer_1.54.0         \n",
       " [53] lazyeval_0.2.2              spatstat.geom_2.3-0        \n",
       " [55] yaml_2.2.1                  reshape2_1.4.4             \n",
       " [57] abind_1.4-5                 httpuv_1.6.3               \n",
       " [59] tools_4.1.1                 ellipsis_0.3.2             \n",
       " [61] spatstat.core_2.3-2         ggridges_0.5.3             \n",
       " [63] Rcpp_1.0.7                  plyr_1.8.6                 \n",
       " [65] base64enc_0.1-3             progress_1.2.2             \n",
       " [67] zlibbioc_1.40.0             purrr_0.3.4                \n",
       " [69] RCurl_1.98-1.5              prettyunits_1.1.1          \n",
       " [71] rpart_4.1-15                deldir_1.0-6               \n",
       " [73] pbapply_1.5-0               zoo_1.8-9                  \n",
       " [75] SummarizedExperiment_1.24.0 ggrepel_0.9.1              \n",
       " [77] cluster_2.1.2               scattermore_0.7            \n",
       " [79] lmtest_0.9-39               RANN_2.6.1                 \n",
       " [81] SnowballC_0.7.0             ProtGenerics_1.26.0        \n",
       " [83] fitdistrplus_1.1-6          matrixStats_0.61.0         \n",
       " [85] hms_1.1.1                   mime_0.12                  \n",
       " [87] evaluate_0.14               xtable_1.8-4               \n",
       " [89] XML_3.99-0.8                sparsesvd_0.2              \n",
       " [91] gridExtra_2.3               compiler_4.1.1             \n",
       " [93] biomaRt_2.50.0              tibble_3.1.6               \n",
       " [95] KernSmooth_2.23-20          crayon_1.4.2               \n",
       " [97] htmltools_0.5.2             mgcv_1.8-38                \n",
       " [99] later_1.2.0                 tidyr_1.1.4                \n",
       "[101] DBI_1.1.1                   tweenr_1.0.2               \n",
       "[103] dbplyr_2.1.1                MASS_7.3-54                \n",
       "[105] rappdirs_0.3.3              Matrix_1.3-4               \n",
       "[107] rbibutils_2.2.4             parallel_4.1.1             \n",
       "[109] igraph_1.2.9                pkgconfig_2.0.3            \n",
       "[111] GenomicAlignments_1.30.0    IRdisplay_1.0              \n",
       "[113] plotly_4.10.0               spatstat.sparse_2.0-0      \n",
       "[115] xml2_1.3.2                  XVector_0.34.0             \n",
       "[117] stringr_1.4.0               digest_0.6.28              \n",
       "[119] sctransform_0.3.2           RcppAnnoy_0.0.19           \n",
       "[121] spatstat.data_2.1-0         Biostrings_2.62.0          \n",
       "[123] leiden_0.3.9                fastmatch_1.1-3            \n",
       "[125] uwot_0.1.10                 restfulr_0.0.13            \n",
       "[127] curl_4.3.2                  shiny_1.7.1                \n",
       "[129] Rsamtools_2.10.0            rjson_0.2.20               \n",
       "[131] lifecycle_1.0.1             nlme_3.1-153               \n",
       "[133] jsonlite_1.7.2              viridisLite_0.4.0          \n",
       "[135] fansi_0.4.2                 pillar_1.6.4               \n",
       "[137] lattice_0.20-45             KEGGREST_1.34.0            \n",
       "[139] fastmap_1.1.0               httr_1.4.2                 \n",
       "[141] survival_3.2-13             glue_1.5.1                 \n",
       "[143] qlcMatrix_0.9.7             png_0.1-7                  \n",
       "[145] bit_4.0.4                   ggforce_0.3.3              \n",
       "[147] stringi_1.7.6               blob_1.2.2                 \n",
       "[149] memoise_2.0.1               IRkernel_1.2               \n",
       "[151] irlba_2.3.3                 future.apply_1.8.1         "
      ]
     },
     "metadata": {},
     "output_type": "display_data"
    }
   ],
   "source": [
    "sessionInfo()"
   ]
  },
  {
   "cell_type": "code",
   "execution_count": 15,
   "id": "1f1782dd",
   "metadata": {
    "scrolled": false
   },
   "outputs": [
    {
     "data": {
      "text/html": [
       "'/data/Mito_Trace/output/pipeline/CHIP_b1/MTBlacklist_A2/data/merged/MT/cellr_True/numread_200/filters/minC10_minR50_topN0_hetT0.001_hetC10_hetCount5_bq20/mgatk/vireoIn/clones/variants_init/knn/kparam_3/concat/gff_A2_black/annotation_clones/de_clone_btwnvars_RNA_af/'"
      ],
      "text/latex": [
       "'/data/Mito\\_Trace/output/pipeline/CHIP\\_b1/MTBlacklist\\_A2/data/merged/MT/cellr\\_True/numread\\_200/filters/minC10\\_minR50\\_topN0\\_hetT0.001\\_hetC10\\_hetCount5\\_bq20/mgatk/vireoIn/clones/variants\\_init/knn/kparam\\_3/concat/gff\\_A2\\_black/annotation\\_clones/de\\_clone\\_btwnvars\\_RNA\\_af/'"
      ],
      "text/markdown": [
       "'/data/Mito_Trace/output/pipeline/CHIP_b1/MTBlacklist_A2/data/merged/MT/cellr_True/numread_200/filters/minC10_minR50_topN0_hetT0.001_hetC10_hetCount5_bq20/mgatk/vireoIn/clones/variants_init/knn/kparam_3/concat/gff_A2_black/annotation_clones/de_clone_btwnvars_RNA_af/'"
      ],
      "text/plain": [
       "[1] \"/data/Mito_Trace/output/pipeline/CHIP_b1/MTBlacklist_A2/data/merged/MT/cellr_True/numread_200/filters/minC10_minR50_topN0_hetT0.001_hetC10_hetCount5_bq20/mgatk/vireoIn/clones/variants_init/knn/kparam_3/concat/gff_A2_black/annotation_clones/de_clone_btwnvars_RNA_af/\""
      ]
     },
     "metadata": {},
     "output_type": "display_data"
    }
   ],
   "source": [
    "outdir"
   ]
  },
  {
   "cell_type": "code",
   "execution_count": null,
   "id": "2c0d478b",
   "metadata": {},
   "outputs": [],
   "source": []
  }
 ],
 "metadata": {
  "celltoolbar": "Tags",
  "kernelspec": {
   "display_name": "R",
   "language": "R",
   "name": "ir"
  },
  "language_info": {
   "codemirror_mode": "r",
   "file_extension": ".r",
   "mimetype": "text/x-r-source",
   "name": "R",
   "pygments_lexer": "r",
   "version": "4.1.1"
  }
 },
 "nbformat": 4,
 "nbformat_minor": 5
}
