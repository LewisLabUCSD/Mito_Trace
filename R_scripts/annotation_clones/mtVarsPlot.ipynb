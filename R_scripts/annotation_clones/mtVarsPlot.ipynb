{
 "cells": [
  {
   "cell_type": "markdown",
   "id": "223d6f46",
   "metadata": {},
   "source": [
    "## Runs DE on different clusters. Also runs DE within each cluster for each condition.\n",
    "Does this over each donor and combined"
   ]
  },
  {
   "cell_type": "code",
   "execution_count": 1,
   "id": "235ae72f",
   "metadata": {
    "tags": [
     "parameters"
    ]
   },
   "outputs": [],
   "source": [
    "# Input info\n",
    "se_f = \"/data/Mito_Trace/output/pipeline/TcellDupi_may17_2021/MTblacklist/data/merged/MT/cellr_True/numread_200/filters/minC10_minR50_topN0_hetT0.001_hetC10_hetCount5_bq20/mgatk/vireoIn/clones/variants_init/knn/kparam_3/concat/gff_hg38_1_2/annotation_clones/SE.rds\"\n",
    "cells_meta_f = \"/data/Mito_Trace/output/pipeline/TcellDupi_may17_2021/MTblacklist/data/merged/MT/cellr_True/numread_200/filters/minC10_minR50_topN0_hetT0.001_hetC10_hetCount5_bq20/mgatk/vireoIn/multiplex/mt_clones/cells_mt.tsv\"\n",
    "outdir = \"/data/Mito_Trace/output/pipeline/TcellDupi_may17_2021/MTblacklist/data/merged/MT/cellr_True/numread_200/filters/minC10_minR50_topN0_hetT0.001_hetC10_hetCount5_bq20/mgatk/vireoIn/clones/variants_init/knn/kparam_3/concat/gff_hg38_1_2/annotation_clones/de_clone_btwnvars_RNA_af/\"\n",
    "sample_names = \"pre,post\"\n",
    "\n",
    "\n",
    "# Parameters\n",
    "ncells_thresh = 10\n",
    "minPct = 0.00\n",
    "logfcthresh = 0.1\n",
    "test.use=\"wilcox\"\n",
    "latent.vars = \"NULL\"\n",
    "p_thresh = 0.1 \n",
    "top_de = 3\n",
    "ids.reversed = T\n",
    "\n",
    "\n",
    "# Parallel processing\n",
    "cores = 4\n",
    "# R utils script\n",
    "utils_script <- \"/data/Mito_Trace/R_scripts/seurat_utils.R\"\n"
   ]
  },
  {
   "cell_type": "code",
   "execution_count": 2,
   "id": "73d7f863",
   "metadata": {
    "scrolled": true
   },
   "outputs": [
    {
     "name": "stderr",
     "output_type": "stream",
     "text": [
      "Loading required package: stats4\n",
      "\n",
      "Loading required package: BiocGenerics\n",
      "\n",
      "\n",
      "Attaching package: ‘BiocGenerics’\n",
      "\n",
      "\n",
      "The following objects are masked from ‘package:stats’:\n",
      "\n",
      "    IQR, mad, sd, var, xtabs\n",
      "\n",
      "\n",
      "The following objects are masked from ‘package:base’:\n",
      "\n",
      "    anyDuplicated, append, as.data.frame, basename, cbind, colnames,\n",
      "    dirname, do.call, duplicated, eval, evalq, Filter, Find, get, grep,\n",
      "    grepl, intersect, is.unsorted, lapply, Map, mapply, match, mget,\n",
      "    order, paste, pmax, pmax.int, pmin, pmin.int, Position, rank,\n",
      "    rbind, Reduce, rownames, sapply, setdiff, sort, table, tapply,\n",
      "    union, unique, unsplit, which.max, which.min\n",
      "\n",
      "\n",
      "Loading required package: S4Vectors\n",
      "\n",
      "\n",
      "Attaching package: ‘S4Vectors’\n",
      "\n",
      "\n",
      "The following objects are masked from ‘package:base’:\n",
      "\n",
      "    expand.grid, I, unname\n",
      "\n",
      "\n",
      "Loading required package: IRanges\n",
      "\n",
      "Loading required package: GenomeInfoDb\n",
      "\n",
      "Attaching SeuratObject\n",
      "\n",
      "Loading required package: ensembldb\n",
      "\n",
      "Loading required package: GenomicFeatures\n",
      "\n",
      "Loading required package: AnnotationDbi\n",
      "\n",
      "Loading required package: Biobase\n",
      "\n",
      "Welcome to Bioconductor\n",
      "\n",
      "    Vignettes contain introductory material; view with\n",
      "    'browseVignettes()'. To cite Bioconductor, see\n",
      "    'citation(\"Biobase\")', and for packages 'citation(\"pkgname\")'.\n",
      "\n",
      "\n",
      "Loading required package: AnnotationFilter\n",
      "\n",
      "\n",
      "Attaching package: 'ensembldb'\n",
      "\n",
      "\n",
      "The following object is masked from 'package:stats':\n",
      "\n",
      "    filter\n",
      "\n",
      "\n",
      "\n",
      "Attaching package: 'data.table'\n",
      "\n",
      "\n",
      "The following object is masked from 'package:GenomicRanges':\n",
      "\n",
      "    shift\n",
      "\n",
      "\n",
      "The following object is masked from 'package:IRanges':\n",
      "\n",
      "    shift\n",
      "\n",
      "\n",
      "The following objects are masked from 'package:S4Vectors':\n",
      "\n",
      "    first, second\n",
      "\n",
      "\n",
      "\n",
      "Attaching package: 'magrittr'\n",
      "\n",
      "\n",
      "The following object is masked from 'package:AnnotationFilter':\n",
      "\n",
      "    not\n",
      "\n",
      "\n",
      "\n",
      "Attaching package: 'cowplot'\n",
      "\n",
      "\n",
      "The following object is masked from 'package:patchwork':\n",
      "\n",
      "    align_plots\n",
      "\n",
      "\n",
      "\n",
      "Attaching package: 'dplyr'\n",
      "\n",
      "\n",
      "The following objects are masked from 'package:data.table':\n",
      "\n",
      "    between, first, last\n",
      "\n",
      "\n",
      "The following objects are masked from 'package:ensembldb':\n",
      "\n",
      "    filter, select\n",
      "\n",
      "\n",
      "The following object is masked from 'package:AnnotationDbi':\n",
      "\n",
      "    select\n",
      "\n",
      "\n",
      "The following object is masked from 'package:Biobase':\n",
      "\n",
      "    combine\n",
      "\n",
      "\n",
      "The following objects are masked from 'package:GenomicRanges':\n",
      "\n",
      "    intersect, setdiff, union\n",
      "\n",
      "\n",
      "The following object is masked from 'package:GenomeInfoDb':\n",
      "\n",
      "    intersect\n",
      "\n",
      "\n",
      "The following objects are masked from 'package:IRanges':\n",
      "\n",
      "    collapse, desc, intersect, setdiff, slice, union\n",
      "\n",
      "\n",
      "The following objects are masked from 'package:S4Vectors':\n",
      "\n",
      "    first, intersect, rename, setdiff, setequal, union\n",
      "\n",
      "\n",
      "The following objects are masked from 'package:BiocGenerics':\n",
      "\n",
      "    combine, intersect, setdiff, union\n",
      "\n",
      "\n",
      "The following objects are masked from 'package:stats':\n",
      "\n",
      "    filter, lag\n",
      "\n",
      "\n",
      "The following objects are masked from 'package:base':\n",
      "\n",
      "    intersect, setdiff, setequal, union\n",
      "\n",
      "\n",
      "\n",
      "Attaching package: 'future'\n",
      "\n",
      "\n",
      "The following object is masked from 'package:AnnotationFilter':\n",
      "\n",
      "    value\n",
      "\n",
      "\n",
      "The following object is masked from 'package:GenomicRanges':\n",
      "\n",
      "    values\n",
      "\n",
      "\n",
      "The following object is masked from 'package:S4Vectors':\n",
      "\n",
      "    values\n",
      "\n",
      "\n"
     ]
    },
    {
     "data": {
      "text/html": [
       "<pre class=language-r><code>structure(function (..., envir = parent.frame()) \n",
       "{\n",
       "<span style=white-space:pre-wrap>    future &lt;- SequentialFuture(..., envir = envir)</span>\n",
       "<span style=white-space:pre-wrap>    if (!future$lazy) </span>\n",
       "<span style=white-space:pre-wrap>        future &lt;- run(future)</span>\n",
       "<span style=white-space:pre-wrap>    invisible(future)</span>\n",
       "}, class = c(\"FutureStrategy\", \"sequential\", \"uniprocess\", \"future\", \n",
       "\"function\"))</code></pre>"
      ],
      "text/latex": [
       "\\begin{minted}{r}\n",
       "structure(function (..., envir = parent.frame()) \n",
       "\\{\n",
       "    future <- SequentialFuture(..., envir = envir)\n",
       "    if (!future\\$lazy) \n",
       "        future <- run(future)\n",
       "    invisible(future)\n",
       "\\}, class = c(\"FutureStrategy\", \"sequential\", \"uniprocess\", \"future\", \n",
       "\"function\"))\n",
       "\\end{minted}"
      ],
      "text/markdown": [
       "```r\n",
       "structure(function (..., envir = parent.frame()) \n",
       "{\n",
       "    future <- SequentialFuture(..., envir = envir)\n",
       "    if (!future$lazy) \n",
       "        future <- run(future)\n",
       "    invisible(future)\n",
       "}, class = c(\"FutureStrategy\", \"sequential\", \"uniprocess\", \"future\", \n",
       "\"function\"))\n",
       "```"
      ],
      "text/plain": [
       "sequential:\n",
       "- args: function (..., envir = parent.frame())\n",
       "- tweaked: FALSE\n",
       "- call: NULL"
      ]
     },
     "metadata": {},
     "output_type": "display_data"
    },
    {
     "name": "stderr",
     "output_type": "stream",
     "text": [
      "Warning message:\n",
      "\"Strategy 'multiprocess' is deprecated in future (>= 1.20.0). Instead, explicitly specify either 'multisession' or 'multicore'. In the current R session, 'multiprocess' equals 'multicore'.\"\n"
     ]
    }
   ],
   "source": [
    "library(GenomicRanges)\n",
    "library(Seurat)\n",
    "library(Signac)\n",
    "library(GenomeInfoDb)\n",
    "library(EnsDb.Hsapiens.v75)\n",
    "library(ggplot2)\n",
    "library(patchwork)\n",
    "set.seed(1234)\n",
    "library(data.table)\n",
    "library(magrittr)\n",
    "library(cowplot)\n",
    "library(metap)\n",
    "library(\"RColorBrewer\")\n",
    "library(dplyr)\n",
    "library(future)\n",
    "plan()\n",
    "\n",
    "plan(\"multiprocess\", workers = cores)\n",
    "#options(future.globals.maxSize = 50000 * 1024^2) # for 50 Gb RAM\n",
    "options(future.globals.maxSize = 8000 * 1024^2)"
   ]
  },
  {
   "cell_type": "code",
   "execution_count": 3,
   "id": "1f2a4ae7",
   "metadata": {},
   "outputs": [],
   "source": [
    "source(utils_script)"
   ]
  },
  {
   "cell_type": "code",
   "execution_count": 4,
   "id": "d52360db",
   "metadata": {
    "scrolled": true
   },
   "outputs": [
    {
     "data": {
      "text/html": [
       "<style>\n",
       ".list-inline {list-style: none; margin:0; padding: 0}\n",
       ".list-inline>li {display: inline-block}\n",
       ".list-inline>li:not(:last-child)::after {content: \"\\00b7\"; padding: 0 .5ex}\n",
       "</style>\n",
       "<ol class=list-inline><li>'pre'</li><li>'post'</li></ol>\n"
      ],
      "text/latex": [
       "\\begin{enumerate*}\n",
       "\\item 'pre'\n",
       "\\item 'post'\n",
       "\\end{enumerate*}\n"
      ],
      "text/markdown": [
       "1. 'pre'\n",
       "2. 'post'\n",
       "\n",
       "\n"
      ],
      "text/plain": [
       "[1] \"pre\"  \"post\""
      ]
     },
     "metadata": {},
     "output_type": "display_data"
    }
   ],
   "source": [
    "sample_names <- unlist(strsplit(sample_names, \",\")[[1]])\n",
    "sample_names"
   ]
  },
  {
   "cell_type": "code",
   "execution_count": 5,
   "id": "7f8b7d37",
   "metadata": {},
   "outputs": [
    {
     "name": "stderr",
     "output_type": "stream",
     "text": [
      "Warning message in dir.create(outdir):\n",
      "\"'/data/Mito_Trace/output/pipeline/TcellDupi_may17_2021/MTblacklist/data/merged/MT/cellr_True/numread_200/filters/minC10_minR50_topN0_hetT0.001_hetC10_hetCount5_bq20/mgatk/vireoIn/clones/variants_init/knn/kparam_3/concat/gff_hg38_1_2/annotation_clones/de_clone_btwnvars_RNA_af' already exists\"\n"
     ]
    }
   ],
   "source": [
    "dir.create(outdir)"
   ]
  },
  {
   "cell_type": "code",
   "execution_count": 6,
   "id": "aaec9d83",
   "metadata": {
    "scrolled": true
   },
   "outputs": [
    {
     "data": {
      "text/html": [
       "<table class=\"dataframe\">\n",
       "<caption>A data.frame: 14760 × 44</caption>\n",
       "<thead>\n",
       "\t<tr><th></th><th scope=col>X10646T</th><th scope=col>X12295C</th><th scope=col>X13188T</th><th scope=col>X14568A</th><th scope=col>X14766T</th><th scope=col>X150T</th><th scope=col>X16126C</th><th scope=col>X16362C</th><th scope=col>X16537T</th><th scope=col>X2351C</th><th scope=col>⋯</th><th scope=col>X57C</th><th scope=col>X58C</th><th scope=col>X6093A</th><th scope=col>X6456A</th><th scope=col>X66T</th><th scope=col>X6776C</th><th scope=col>X7595A</th><th scope=col>X7775A</th><th scope=col>X8770T</th><th scope=col>X9087A</th></tr>\n",
       "\t<tr><th></th><th scope=col>&lt;dbl&gt;</th><th scope=col>&lt;dbl&gt;</th><th scope=col>&lt;dbl&gt;</th><th scope=col>&lt;dbl&gt;</th><th scope=col>&lt;dbl&gt;</th><th scope=col>&lt;dbl&gt;</th><th scope=col>&lt;dbl&gt;</th><th scope=col>&lt;dbl&gt;</th><th scope=col>&lt;dbl&gt;</th><th scope=col>&lt;dbl&gt;</th><th scope=col>⋯</th><th scope=col>&lt;dbl&gt;</th><th scope=col>&lt;dbl&gt;</th><th scope=col>&lt;dbl&gt;</th><th scope=col>&lt;dbl&gt;</th><th scope=col>&lt;dbl&gt;</th><th scope=col>&lt;dbl&gt;</th><th scope=col>&lt;dbl&gt;</th><th scope=col>&lt;dbl&gt;</th><th scope=col>&lt;dbl&gt;</th><th scope=col>&lt;dbl&gt;</th></tr>\n",
       "</thead>\n",
       "<tbody>\n",
       "\t<tr><th scope=row>AAACGAAAGCGTTGCC-1_post</th><td>0</td><td>0.00000000</td><td>0.00000000</td><td>0</td><td>0.21568627</td><td>0.06060606</td><td>0.00000000</td><td>0.02666667</td><td>0</td><td>0.00000000</td><td>⋯</td><td>NA</td><td>NA</td><td>NA</td><td>NA</td><td>NA</td><td>NA</td><td>NA</td><td>NA</td><td>NA</td><td>NA</td></tr>\n",
       "\t<tr><th scope=row>AAACGAAAGGCTCCTG-1_pre</th><td>0</td><td>0.00000000</td><td>0.00000000</td><td>0</td><td>0.00000000</td><td>0.00000000</td><td>0.00000000</td><td>0.00000000</td><td>0</td><td>0.00000000</td><td>⋯</td><td>NA</td><td>NA</td><td>NA</td><td>NA</td><td>NA</td><td>NA</td><td>NA</td><td>NA</td><td>NA</td><td>NA</td></tr>\n",
       "\t<tr><th scope=row>AAACGAAAGGTTAACA-1_post</th><td>0</td><td>0.00000000</td><td>0.01612903</td><td>0</td><td>0.00000000</td><td>0.00000000</td><td>0.00000000</td><td>0.03571429</td><td>0</td><td>0.00000000</td><td>⋯</td><td>NA</td><td>NA</td><td>NA</td><td>NA</td><td>NA</td><td>NA</td><td>NA</td><td>NA</td><td>NA</td><td>NA</td></tr>\n",
       "\t<tr><th scope=row>AAACGAAAGTGAATAC-1_pre</th><td>0</td><td>0.00000000</td><td>0.00000000</td><td>0</td><td>0.00000000</td><td>0.00000000</td><td>0.00000000</td><td>0.00000000</td><td>0</td><td>0.00000000</td><td>⋯</td><td>NA</td><td>NA</td><td>NA</td><td>NA</td><td>NA</td><td>NA</td><td>NA</td><td>NA</td><td>NA</td><td>NA</td></tr>\n",
       "\t<tr><th scope=row>AAACGAAAGTGCTAGG-1_post</th><td>0</td><td>0.00000000</td><td>0.03636364</td><td>0</td><td>0.00000000</td><td>0.00000000</td><td>0.00000000</td><td>0.00000000</td><td>0</td><td>0.00000000</td><td>⋯</td><td>NA</td><td>NA</td><td>NA</td><td>NA</td><td>NA</td><td>NA</td><td>NA</td><td>NA</td><td>NA</td><td>NA</td></tr>\n",
       "\t<tr><th scope=row>AAACGAAAGTGTCACT-1_pre</th><td>0</td><td>0.00000000</td><td>0.00000000</td><td>0</td><td>0.00000000</td><td>0.00000000</td><td>0.00000000</td><td>0.00000000</td><td>0</td><td>0.00000000</td><td>⋯</td><td>NA</td><td>NA</td><td>NA</td><td>NA</td><td>NA</td><td>NA</td><td>NA</td><td>NA</td><td>NA</td><td>NA</td></tr>\n",
       "\t<tr><th scope=row>AAACGAACATAGAATG-1_post</th><td>0</td><td>0.00000000</td><td>0.00000000</td><td>0</td><td>0.00000000</td><td>0.00000000</td><td>0.00000000</td><td>0.00000000</td><td>0</td><td>0.03846154</td><td>⋯</td><td>NA</td><td>NA</td><td>NA</td><td>NA</td><td>NA</td><td>NA</td><td>NA</td><td>NA</td><td>NA</td><td>NA</td></tr>\n",
       "\t<tr><th scope=row>AAACGAACATAGGCGA-1_pre</th><td>0</td><td>0.00000000</td><td>0.00000000</td><td>0</td><td>0.00000000</td><td>0.00000000</td><td>0.00000000</td><td>0.00000000</td><td>0</td><td>0.00000000</td><td>⋯</td><td>NA</td><td>NA</td><td>NA</td><td>NA</td><td>NA</td><td>NA</td><td>NA</td><td>NA</td><td>NA</td><td>NA</td></tr>\n",
       "\t<tr><th scope=row>AAACGAACATCCCAAA-1_post</th><td>0</td><td>0.00000000</td><td>0.00000000</td><td>0</td><td>0.00000000</td><td>0.00000000</td><td>0.00000000</td><td>0.00000000</td><td>0</td><td>0.00000000</td><td>⋯</td><td>NA</td><td>NA</td><td>NA</td><td>NA</td><td>NA</td><td>NA</td><td>NA</td><td>NA</td><td>NA</td><td>NA</td></tr>\n",
       "\t<tr><th scope=row>AAACGAAGTACAAGCG-1_post</th><td>0</td><td>0.00000000</td><td>0.03000000</td><td>0</td><td>0.00000000</td><td>0.00000000</td><td>0.00000000</td><td>0.00000000</td><td>0</td><td>0.00000000</td><td>⋯</td><td>NA</td><td>NA</td><td>NA</td><td>NA</td><td>NA</td><td>NA</td><td>NA</td><td>NA</td><td>NA</td><td>NA</td></tr>\n",
       "\t<tr><th scope=row>AAACGAAGTCCCGTGA-1_post</th><td>0</td><td>0.00000000</td><td>0.00000000</td><td>0</td><td>0.00000000</td><td>0.02272727</td><td>0.00000000</td><td>0.00000000</td><td>0</td><td>0.00000000</td><td>⋯</td><td>NA</td><td>NA</td><td>NA</td><td>NA</td><td>NA</td><td>NA</td><td>NA</td><td>NA</td><td>NA</td><td>NA</td></tr>\n",
       "\t<tr><th scope=row>AAACGAAGTTAACTCG-1_pre</th><td>0</td><td>0.00000000</td><td>0.00000000</td><td>0</td><td>0.05298013</td><td>0.00000000</td><td>0.00000000</td><td>0.00000000</td><td>0</td><td>0.00000000</td><td>⋯</td><td>NA</td><td>NA</td><td>NA</td><td>NA</td><td>NA</td><td>NA</td><td>NA</td><td>NA</td><td>NA</td><td>NA</td></tr>\n",
       "\t<tr><th scope=row>AAACGAAGTTTCAGCA-1_post</th><td>0</td><td>0.00000000</td><td>0.00000000</td><td>0</td><td>0.00000000</td><td>0.02150538</td><td>0.00000000</td><td>0.00000000</td><td>0</td><td>0.02542373</td><td>⋯</td><td>NA</td><td>NA</td><td>NA</td><td>NA</td><td>NA</td><td>NA</td><td>NA</td><td>NA</td><td>NA</td><td>NA</td></tr>\n",
       "\t<tr><th scope=row>AAACTCGAGACGACTG-1_post</th><td>0</td><td>0.00000000</td><td>0.00000000</td><td>0</td><td>0.00000000</td><td>0.00000000</td><td>0.00000000</td><td>0.00000000</td><td>0</td><td>0.00000000</td><td>⋯</td><td>NA</td><td>NA</td><td>NA</td><td>NA</td><td>NA</td><td>NA</td><td>NA</td><td>NA</td><td>NA</td><td>NA</td></tr>\n",
       "\t<tr><th scope=row>AAACTCGAGGGCTCTC-1_post</th><td>0</td><td>0.02777778</td><td>0.00000000</td><td>0</td><td>0.06153846</td><td>0.00000000</td><td>0.00000000</td><td>0.00000000</td><td>0</td><td>0.08219178</td><td>⋯</td><td>NA</td><td>NA</td><td>NA</td><td>NA</td><td>NA</td><td>NA</td><td>NA</td><td>NA</td><td>NA</td><td>NA</td></tr>\n",
       "\t<tr><th scope=row>AAACTCGAGGTCTTTG-1_post</th><td>0</td><td>0.00000000</td><td>0.04255319</td><td>0</td><td>0.00000000</td><td>0.00000000</td><td>0.00000000</td><td>0.00000000</td><td>0</td><td>0.03000000</td><td>⋯</td><td>NA</td><td>NA</td><td>NA</td><td>NA</td><td>NA</td><td>NA</td><td>NA</td><td>NA</td><td>NA</td><td>NA</td></tr>\n",
       "\t<tr><th scope=row>AAACTCGAGGTTTCTG-1_post</th><td>0</td><td>0.00000000</td><td>0.00000000</td><td>0</td><td>0.06666667</td><td>0.00000000</td><td>0.00000000</td><td>0.00000000</td><td>0</td><td>0.00000000</td><td>⋯</td><td>NA</td><td>NA</td><td>NA</td><td>NA</td><td>NA</td><td>NA</td><td>NA</td><td>NA</td><td>NA</td><td>NA</td></tr>\n",
       "\t<tr><th scope=row>AAACTCGAGTGTCACT-1_pre</th><td>0</td><td>0.00000000</td><td>0.00000000</td><td>0</td><td>0.00000000</td><td>0.00000000</td><td>0.00000000</td><td>0.00000000</td><td>0</td><td>0.00000000</td><td>⋯</td><td>NA</td><td>NA</td><td>NA</td><td>NA</td><td>NA</td><td>NA</td><td>NA</td><td>NA</td><td>NA</td><td>NA</td></tr>\n",
       "\t<tr><th scope=row>AAACTCGCAAAGGTCG-1_pre</th><td>0</td><td>0.00000000</td><td>0.12080537</td><td>0</td><td>0.00000000</td><td>0.00000000</td><td>0.00000000</td><td>0.00000000</td><td>0</td><td>0.00000000</td><td>⋯</td><td>NA</td><td>NA</td><td>NA</td><td>NA</td><td>NA</td><td>NA</td><td>NA</td><td>NA</td><td>NA</td><td>NA</td></tr>\n",
       "\t<tr><th scope=row>AAACTCGCAAGGAAGA-1_post</th><td>0</td><td>0.00000000</td><td>0.00000000</td><td>0</td><td>0.00000000</td><td>0.00000000</td><td>0.00000000</td><td>0.00000000</td><td>0</td><td>0.00000000</td><td>⋯</td><td>NA</td><td>NA</td><td>NA</td><td>NA</td><td>NA</td><td>NA</td><td>NA</td><td>NA</td><td>NA</td><td>NA</td></tr>\n",
       "\t<tr><th scope=row>AAACTCGCACAAACGG-1_pre</th><td>0</td><td>0.00000000</td><td>0.00000000</td><td>0</td><td>0.00000000</td><td>0.00000000</td><td>0.00000000</td><td>0.00000000</td><td>0</td><td>0.00000000</td><td>⋯</td><td>NA</td><td>NA</td><td>NA</td><td>NA</td><td>NA</td><td>NA</td><td>NA</td><td>NA</td><td>NA</td><td>NA</td></tr>\n",
       "\t<tr><th scope=row>AAACTCGCACGCTAAT-1_post</th><td>0</td><td>0.00000000</td><td>0.10958904</td><td>0</td><td>0.00000000</td><td>0.00000000</td><td>0.03773585</td><td>0.00000000</td><td>0</td><td>0.00000000</td><td>⋯</td><td>NA</td><td>NA</td><td>NA</td><td>NA</td><td>NA</td><td>NA</td><td>NA</td><td>NA</td><td>NA</td><td>NA</td></tr>\n",
       "\t<tr><th scope=row>AAACTCGCATCTGCAA-1_post</th><td>0</td><td>0.00000000</td><td>0.02857143</td><td>0</td><td>0.00000000</td><td>0.00000000</td><td>0.00000000</td><td>0.06976744</td><td>0</td><td>0.00000000</td><td>⋯</td><td>NA</td><td>NA</td><td>NA</td><td>NA</td><td>NA</td><td>NA</td><td>NA</td><td>NA</td><td>NA</td><td>NA</td></tr>\n",
       "\t<tr><th scope=row>AAACTCGCATTTGTTC-1_pre</th><td>0</td><td>0.00000000</td><td>0.00000000</td><td>0</td><td>0.00000000</td><td>0.00000000</td><td>0.00000000</td><td>0.00000000</td><td>0</td><td>0.08823529</td><td>⋯</td><td>NA</td><td>NA</td><td>NA</td><td>NA</td><td>NA</td><td>NA</td><td>NA</td><td>NA</td><td>NA</td><td>NA</td></tr>\n",
       "\t<tr><th scope=row>AAACTCGGTGCCAAGA-1_pre</th><td>0</td><td>0.00000000</td><td>0.01063830</td><td>0</td><td>0.00000000</td><td>0.00000000</td><td>0.00000000</td><td>0.00000000</td><td>0</td><td>0.02150538</td><td>⋯</td><td>NA</td><td>NA</td><td>NA</td><td>NA</td><td>NA</td><td>NA</td><td>NA</td><td>NA</td><td>NA</td><td>NA</td></tr>\n",
       "\t<tr><th scope=row>AAACTCGGTTCCTATT-1_post</th><td>0</td><td>0.00000000</td><td>0.07594937</td><td>0</td><td>0.00000000</td><td>0.00000000</td><td>0.00000000</td><td>0.00000000</td><td>0</td><td>0.00000000</td><td>⋯</td><td>NA</td><td>NA</td><td>NA</td><td>NA</td><td>NA</td><td>NA</td><td>NA</td><td>NA</td><td>NA</td><td>NA</td></tr>\n",
       "\t<tr><th scope=row>AAACTCGTCACACGTA-1_pre</th><td>0</td><td>0.00000000</td><td>0.02105263</td><td>0</td><td>0.00000000</td><td>0.00000000</td><td>0.00000000</td><td>0.00000000</td><td>0</td><td>0.00000000</td><td>⋯</td><td>NA</td><td>NA</td><td>NA</td><td>NA</td><td>NA</td><td>NA</td><td>NA</td><td>NA</td><td>NA</td><td>NA</td></tr>\n",
       "\t<tr><th scope=row>AAACTCGTCCTCCTGA-1_pre</th><td>0</td><td>0.00000000</td><td>0.00000000</td><td>0</td><td>0.00000000</td><td>0.00000000</td><td>0.00000000</td><td>0.00000000</td><td>0</td><td>0.00000000</td><td>⋯</td><td>NA</td><td>NA</td><td>NA</td><td>NA</td><td>NA</td><td>NA</td><td>NA</td><td>NA</td><td>NA</td><td>NA</td></tr>\n",
       "\t<tr><th scope=row>AAACTCGTCCTTCGAC-1_pre</th><td>0</td><td>0.00000000</td><td>0.03550296</td><td>0</td><td>0.00000000</td><td>0.00000000</td><td>0.00000000</td><td>0.00000000</td><td>0</td><td>0.02150538</td><td>⋯</td><td>NA</td><td>NA</td><td>NA</td><td>NA</td><td>NA</td><td>NA</td><td>NA</td><td>NA</td><td>NA</td><td>NA</td></tr>\n",
       "\t<tr><th scope=row>AAACTCGTCGTCTTAT-1_post</th><td>0</td><td>0.00000000</td><td>0.00000000</td><td>0</td><td>0.00000000</td><td>0.00000000</td><td>0.00000000</td><td>0.00000000</td><td>0</td><td>0.00000000</td><td>⋯</td><td>NA</td><td>NA</td><td>NA</td><td>NA</td><td>NA</td><td>NA</td><td>NA</td><td>NA</td><td>NA</td><td>NA</td></tr>\n",
       "\t<tr><th scope=row>⋮</th><td>⋮</td><td>⋮</td><td>⋮</td><td>⋮</td><td>⋮</td><td>⋮</td><td>⋮</td><td>⋮</td><td>⋮</td><td>⋮</td><td>⋱</td><td>⋮</td><td>⋮</td><td>⋮</td><td>⋮</td><td>⋮</td><td>⋮</td><td>⋮</td><td>⋮</td><td>⋮</td><td>⋮</td></tr>\n",
       "\t<tr><th scope=row>TTTGGCCCATAGATAG-1_post</th><td>NA</td><td>NA</td><td>NA</td><td>NA</td><td>NA</td><td>NA</td><td>NA</td><td>NA</td><td>NA</td><td>NA</td><td>⋯</td><td>0.00000000</td><td>0.00000000</td><td>0</td><td>0.02469136</td><td>0.00000000</td><td>0.00000000</td><td>0</td><td>0.00000000</td><td>0.00000000</td><td>0.00000000</td></tr>\n",
       "\t<tr><th scope=row>TTTGGCCGTAGTTTGC-1_pre</th><td>NA</td><td>NA</td><td>NA</td><td>NA</td><td>NA</td><td>NA</td><td>NA</td><td>NA</td><td>NA</td><td>NA</td><td>⋯</td><td>0.00000000</td><td>0.00000000</td><td>0</td><td>0.00000000</td><td>0.00000000</td><td>0.00000000</td><td>0</td><td>0.00000000</td><td>0.00000000</td><td>0.00000000</td></tr>\n",
       "\t<tr><th scope=row>TTTGGCCTCCATAACG-1_pre</th><td>NA</td><td>NA</td><td>NA</td><td>NA</td><td>NA</td><td>NA</td><td>NA</td><td>NA</td><td>NA</td><td>NA</td><td>⋯</td><td>0.07766990</td><td>0.00000000</td><td>0</td><td>0.00000000</td><td>0.00000000</td><td>0.11428571</td><td>0</td><td>0.00000000</td><td>0.02020202</td><td>0.00000000</td></tr>\n",
       "\t<tr><th scope=row>TTTGGCCTCCATACGA-1_post</th><td>NA</td><td>NA</td><td>NA</td><td>NA</td><td>NA</td><td>NA</td><td>NA</td><td>NA</td><td>NA</td><td>NA</td><td>⋯</td><td>0.07407407</td><td>0.00000000</td><td>0</td><td>0.00000000</td><td>0.00000000</td><td>0.00000000</td><td>0</td><td>0.04878049</td><td>0.00000000</td><td>0.00000000</td></tr>\n",
       "\t<tr><th scope=row>TTTGGCCTCCGTGCAG-1_post</th><td>NA</td><td>NA</td><td>NA</td><td>NA</td><td>NA</td><td>NA</td><td>NA</td><td>NA</td><td>NA</td><td>NA</td><td>⋯</td><td>0.00000000</td><td>0.00000000</td><td>0</td><td>0.00000000</td><td>0.00000000</td><td>0.00000000</td><td>0</td><td>0.00000000</td><td>0.00000000</td><td>0.00000000</td></tr>\n",
       "\t<tr><th scope=row>TTTGGCCTCGCTTACC-1_post</th><td>NA</td><td>NA</td><td>NA</td><td>NA</td><td>NA</td><td>NA</td><td>NA</td><td>NA</td><td>NA</td><td>NA</td><td>⋯</td><td>0.00000000</td><td>0.00000000</td><td>0</td><td>0.00000000</td><td>0.00000000</td><td>0.00000000</td><td>0</td><td>0.00000000</td><td>0.00000000</td><td>0.00000000</td></tr>\n",
       "\t<tr><th scope=row>TTTGGTTAGAGAGTAG-1_pre</th><td>NA</td><td>NA</td><td>NA</td><td>NA</td><td>NA</td><td>NA</td><td>NA</td><td>NA</td><td>NA</td><td>NA</td><td>⋯</td><td>0.00000000</td><td>0.00000000</td><td>0</td><td>0.02985075</td><td>0.00000000</td><td>0.00000000</td><td>0</td><td>0.00000000</td><td>0.00000000</td><td>0.00000000</td></tr>\n",
       "\t<tr><th scope=row>TTTGGTTAGCAACGGT-1_post</th><td>NA</td><td>NA</td><td>NA</td><td>NA</td><td>NA</td><td>NA</td><td>NA</td><td>NA</td><td>NA</td><td>NA</td><td>⋯</td><td>0.00000000</td><td>0.00000000</td><td>0</td><td>0.00000000</td><td>0.00000000</td><td>0.00000000</td><td>0</td><td>0.00000000</td><td>0.00000000</td><td>0.01923077</td></tr>\n",
       "\t<tr><th scope=row>TTTGGTTAGGCTGGAT-1_pre</th><td>NA</td><td>NA</td><td>NA</td><td>NA</td><td>NA</td><td>NA</td><td>NA</td><td>NA</td><td>NA</td><td>NA</td><td>⋯</td><td>0.00000000</td><td>0.00000000</td><td>0</td><td>0.00000000</td><td>0.00000000</td><td>0.00000000</td><td>0</td><td>0.01923077</td><td>0.00000000</td><td>0.00000000</td></tr>\n",
       "\t<tr><th scope=row>TTTGGTTAGTAGGTCG-1_post</th><td>NA</td><td>NA</td><td>NA</td><td>NA</td><td>NA</td><td>NA</td><td>NA</td><td>NA</td><td>NA</td><td>NA</td><td>⋯</td><td>0.00000000</td><td>0.00000000</td><td>0</td><td>0.00000000</td><td>0.00000000</td><td>0.00000000</td><td>0</td><td>0.00000000</td><td>0.00000000</td><td>0.00000000</td></tr>\n",
       "\t<tr><th scope=row>TTTGGTTAGTATACGA-1_pre</th><td>NA</td><td>NA</td><td>NA</td><td>NA</td><td>NA</td><td>NA</td><td>NA</td><td>NA</td><td>NA</td><td>NA</td><td>⋯</td><td>0.00000000</td><td>0.00000000</td><td>0</td><td>0.00000000</td><td>0.00000000</td><td>0.03389831</td><td>0</td><td>0.00000000</td><td>0.03125000</td><td>0.00000000</td></tr>\n",
       "\t<tr><th scope=row>TTTGGTTAGTCGCCTG-1_post</th><td>NA</td><td>NA</td><td>NA</td><td>NA</td><td>NA</td><td>NA</td><td>NA</td><td>NA</td><td>NA</td><td>NA</td><td>⋯</td><td>0.08064516</td><td>0.00000000</td><td>0</td><td>0.00000000</td><td>0.00000000</td><td>0.00000000</td><td>0</td><td>0.00000000</td><td>0.00000000</td><td>0.00000000</td></tr>\n",
       "\t<tr><th scope=row>TTTGGTTCAATTCTCT-1_post</th><td>NA</td><td>NA</td><td>NA</td><td>NA</td><td>NA</td><td>NA</td><td>NA</td><td>NA</td><td>NA</td><td>NA</td><td>⋯</td><td>0.04494382</td><td>0.00000000</td><td>0</td><td>0.00000000</td><td>0.00000000</td><td>0.03508772</td><td>0</td><td>0.00000000</td><td>0.00000000</td><td>0.00000000</td></tr>\n",
       "\t<tr><th scope=row>TTTGGTTCACGATATC-1_pre</th><td>NA</td><td>NA</td><td>NA</td><td>NA</td><td>NA</td><td>NA</td><td>NA</td><td>NA</td><td>NA</td><td>NA</td><td>⋯</td><td>0.04109589</td><td>0.08029197</td><td>0</td><td>0.00000000</td><td>0.00000000</td><td>0.00000000</td><td>0</td><td>0.00000000</td><td>0.00000000</td><td>0.00000000</td></tr>\n",
       "\t<tr><th scope=row>TTTGGTTCACGCGTTG-1_pre</th><td>NA</td><td>NA</td><td>NA</td><td>NA</td><td>NA</td><td>NA</td><td>NA</td><td>NA</td><td>NA</td><td>NA</td><td>⋯</td><td>0.00000000</td><td>0.08695652</td><td>0</td><td>0.00000000</td><td>0.00000000</td><td>0.00000000</td><td>0</td><td>0.02469136</td><td>0.00000000</td><td>0.00000000</td></tr>\n",
       "\t<tr><th scope=row>TTTGGTTCAGGGCTTC-1_post</th><td>NA</td><td>NA</td><td>NA</td><td>NA</td><td>NA</td><td>NA</td><td>NA</td><td>NA</td><td>NA</td><td>NA</td><td>⋯</td><td>0.00000000</td><td>0.00000000</td><td>0</td><td>0.00000000</td><td>0.00000000</td><td>0.03846154</td><td>0</td><td>0.00000000</td><td>0.00000000</td><td>0.00000000</td></tr>\n",
       "\t<tr><th scope=row>TTTGGTTGTCATAGAA-1_pre</th><td>NA</td><td>NA</td><td>NA</td><td>NA</td><td>NA</td><td>NA</td><td>NA</td><td>NA</td><td>NA</td><td>NA</td><td>⋯</td><td>0.00000000</td><td>0.00000000</td><td>0</td><td>0.00000000</td><td>0.00000000</td><td>0.00000000</td><td>0</td><td>0.00000000</td><td>0.00000000</td><td>0.00000000</td></tr>\n",
       "\t<tr><th scope=row>TTTGGTTGTGATTCCA-1_pre</th><td>NA</td><td>NA</td><td>NA</td><td>NA</td><td>NA</td><td>NA</td><td>NA</td><td>NA</td><td>NA</td><td>NA</td><td>⋯</td><td>0.00000000</td><td>0.00000000</td><td>0</td><td>0.02836879</td><td>0.00000000</td><td>0.00000000</td><td>0</td><td>0.00000000</td><td>0.00000000</td><td>0.03361345</td></tr>\n",
       "\t<tr><th scope=row>TTTGGTTGTGGACGAT-1_post</th><td>NA</td><td>NA</td><td>NA</td><td>NA</td><td>NA</td><td>NA</td><td>NA</td><td>NA</td><td>NA</td><td>NA</td><td>⋯</td><td>0.00000000</td><td>0.11940299</td><td>0</td><td>0.00000000</td><td>0.00000000</td><td>0.00000000</td><td>0</td><td>0.00000000</td><td>0.00000000</td><td>0.00000000</td></tr>\n",
       "\t<tr><th scope=row>TTTGGTTTCGACCCGA-1_post</th><td>NA</td><td>NA</td><td>NA</td><td>NA</td><td>NA</td><td>NA</td><td>NA</td><td>NA</td><td>NA</td><td>NA</td><td>⋯</td><td>0.02597403</td><td>0.03846154</td><td>0</td><td>0.00000000</td><td>0.00000000</td><td>0.00000000</td><td>0</td><td>0.00000000</td><td>0.00000000</td><td>0.00000000</td></tr>\n",
       "\t<tr><th scope=row>TTTGGTTTCGAGGCTC-1_pre</th><td>NA</td><td>NA</td><td>NA</td><td>NA</td><td>NA</td><td>NA</td><td>NA</td><td>NA</td><td>NA</td><td>NA</td><td>⋯</td><td>0.00000000</td><td>0.00000000</td><td>0</td><td>0.00000000</td><td>0.00000000</td><td>0.00000000</td><td>0</td><td>0.02777778</td><td>0.00000000</td><td>0.00000000</td></tr>\n",
       "\t<tr><th scope=row>TTTGGTTTCGTTCAGA-1_pre</th><td>NA</td><td>NA</td><td>NA</td><td>NA</td><td>NA</td><td>NA</td><td>NA</td><td>NA</td><td>NA</td><td>NA</td><td>⋯</td><td>0.02040816</td><td>0.00000000</td><td>0</td><td>0.00000000</td><td>0.00000000</td><td>0.00000000</td><td>0</td><td>0.00000000</td><td>0.00000000</td><td>0.00000000</td></tr>\n",
       "\t<tr><th scope=row>TTTGTGTCAAAGAGAG-1_post</th><td>NA</td><td>NA</td><td>NA</td><td>NA</td><td>NA</td><td>NA</td><td>NA</td><td>NA</td><td>NA</td><td>NA</td><td>⋯</td><td>0.00000000</td><td>0.00000000</td><td>0</td><td>0.00000000</td><td>0.00000000</td><td>0.00000000</td><td>0</td><td>0.00000000</td><td>0.00000000</td><td>0.00000000</td></tr>\n",
       "\t<tr><th scope=row>TTTGTGTCAAGGGTAC-1_pre</th><td>NA</td><td>NA</td><td>NA</td><td>NA</td><td>NA</td><td>NA</td><td>NA</td><td>NA</td><td>NA</td><td>NA</td><td>⋯</td><td>0.00000000</td><td>0.05882353</td><td>0</td><td>0.01169591</td><td>0.00000000</td><td>0.00000000</td><td>0</td><td>0.00000000</td><td>0.00000000</td><td>0.00000000</td></tr>\n",
       "\t<tr><th scope=row>TTTGTGTGTCATAAGA-1_pre</th><td>NA</td><td>NA</td><td>NA</td><td>NA</td><td>NA</td><td>NA</td><td>NA</td><td>NA</td><td>NA</td><td>NA</td><td>⋯</td><td>0.01851852</td><td>0.00000000</td><td>0</td><td>0.00000000</td><td>0.00000000</td><td>0.04545455</td><td>0</td><td>0.00000000</td><td>0.00000000</td><td>0.00000000</td></tr>\n",
       "\t<tr><th scope=row>TTTGTGTGTTCTTTCA-1_post</th><td>NA</td><td>NA</td><td>NA</td><td>NA</td><td>NA</td><td>NA</td><td>NA</td><td>NA</td><td>NA</td><td>NA</td><td>⋯</td><td>0.00000000</td><td>0.00000000</td><td>0</td><td>0.00000000</td><td>0.00000000</td><td>0.00000000</td><td>0</td><td>0.00000000</td><td>0.00000000</td><td>0.00000000</td></tr>\n",
       "\t<tr><th scope=row>TTTGTGTTCCGGAAAG-1_post</th><td>NA</td><td>NA</td><td>NA</td><td>NA</td><td>NA</td><td>NA</td><td>NA</td><td>NA</td><td>NA</td><td>NA</td><td>⋯</td><td>0.00000000</td><td>0.00000000</td><td>0</td><td>0.00000000</td><td>0.02985075</td><td>0.00000000</td><td>0</td><td>0.00000000</td><td>0.00000000</td><td>0.00000000</td></tr>\n",
       "\t<tr><th scope=row>TTTGTGTTCCTGACCT-1_post</th><td>NA</td><td>NA</td><td>NA</td><td>NA</td><td>NA</td><td>NA</td><td>NA</td><td>NA</td><td>NA</td><td>NA</td><td>⋯</td><td>0.00000000</td><td>0.00000000</td><td>0</td><td>0.00000000</td><td>0.00000000</td><td>0.03333333</td><td>0</td><td>0.00000000</td><td>0.00000000</td><td>0.00000000</td></tr>\n",
       "\t<tr><th scope=row>TTTGTGTTCGCGATGC-1_pre</th><td>NA</td><td>NA</td><td>NA</td><td>NA</td><td>NA</td><td>NA</td><td>NA</td><td>NA</td><td>NA</td><td>NA</td><td>⋯</td><td>0.07258065</td><td>0.00000000</td><td>0</td><td>0.00000000</td><td>0.00000000</td><td>0.00000000</td><td>0</td><td>0.00000000</td><td>0.00000000</td><td>0.00000000</td></tr>\n",
       "\t<tr><th scope=row>TTTGTGTTCTTAATCC-1_post</th><td>NA</td><td>NA</td><td>NA</td><td>NA</td><td>NA</td><td>NA</td><td>NA</td><td>NA</td><td>NA</td><td>NA</td><td>⋯</td><td>0.00000000</td><td>0.00000000</td><td>0</td><td>0.00000000</td><td>0.00000000</td><td>0.00000000</td><td>0</td><td>0.00000000</td><td>0.00000000</td><td>0.00000000</td></tr>\n",
       "</tbody>\n",
       "</table>\n"
      ],
      "text/latex": [
       "A data.frame: 14760 × 44\n",
       "\\begin{tabular}{r|lllllllllllllllllllll}\n",
       "  & X10646T & X12295C & X13188T & X14568A & X14766T & X150T & X16126C & X16362C & X16537T & X2351C & ⋯ & X57C & X58C & X6093A & X6456A & X66T & X6776C & X7595A & X7775A & X8770T & X9087A\\\\\n",
       "  & <dbl> & <dbl> & <dbl> & <dbl> & <dbl> & <dbl> & <dbl> & <dbl> & <dbl> & <dbl> & ⋯ & <dbl> & <dbl> & <dbl> & <dbl> & <dbl> & <dbl> & <dbl> & <dbl> & <dbl> & <dbl>\\\\\n",
       "\\hline\n",
       "\tAAACGAAAGCGTTGCC-1\\_post & 0 & 0.00000000 & 0.00000000 & 0 & 0.21568627 & 0.06060606 & 0.00000000 & 0.02666667 & 0 & 0.00000000 & ⋯ & NA & NA & NA & NA & NA & NA & NA & NA & NA & NA\\\\\n",
       "\tAAACGAAAGGCTCCTG-1\\_pre & 0 & 0.00000000 & 0.00000000 & 0 & 0.00000000 & 0.00000000 & 0.00000000 & 0.00000000 & 0 & 0.00000000 & ⋯ & NA & NA & NA & NA & NA & NA & NA & NA & NA & NA\\\\\n",
       "\tAAACGAAAGGTTAACA-1\\_post & 0 & 0.00000000 & 0.01612903 & 0 & 0.00000000 & 0.00000000 & 0.00000000 & 0.03571429 & 0 & 0.00000000 & ⋯ & NA & NA & NA & NA & NA & NA & NA & NA & NA & NA\\\\\n",
       "\tAAACGAAAGTGAATAC-1\\_pre & 0 & 0.00000000 & 0.00000000 & 0 & 0.00000000 & 0.00000000 & 0.00000000 & 0.00000000 & 0 & 0.00000000 & ⋯ & NA & NA & NA & NA & NA & NA & NA & NA & NA & NA\\\\\n",
       "\tAAACGAAAGTGCTAGG-1\\_post & 0 & 0.00000000 & 0.03636364 & 0 & 0.00000000 & 0.00000000 & 0.00000000 & 0.00000000 & 0 & 0.00000000 & ⋯ & NA & NA & NA & NA & NA & NA & NA & NA & NA & NA\\\\\n",
       "\tAAACGAAAGTGTCACT-1\\_pre & 0 & 0.00000000 & 0.00000000 & 0 & 0.00000000 & 0.00000000 & 0.00000000 & 0.00000000 & 0 & 0.00000000 & ⋯ & NA & NA & NA & NA & NA & NA & NA & NA & NA & NA\\\\\n",
       "\tAAACGAACATAGAATG-1\\_post & 0 & 0.00000000 & 0.00000000 & 0 & 0.00000000 & 0.00000000 & 0.00000000 & 0.00000000 & 0 & 0.03846154 & ⋯ & NA & NA & NA & NA & NA & NA & NA & NA & NA & NA\\\\\n",
       "\tAAACGAACATAGGCGA-1\\_pre & 0 & 0.00000000 & 0.00000000 & 0 & 0.00000000 & 0.00000000 & 0.00000000 & 0.00000000 & 0 & 0.00000000 & ⋯ & NA & NA & NA & NA & NA & NA & NA & NA & NA & NA\\\\\n",
       "\tAAACGAACATCCCAAA-1\\_post & 0 & 0.00000000 & 0.00000000 & 0 & 0.00000000 & 0.00000000 & 0.00000000 & 0.00000000 & 0 & 0.00000000 & ⋯ & NA & NA & NA & NA & NA & NA & NA & NA & NA & NA\\\\\n",
       "\tAAACGAAGTACAAGCG-1\\_post & 0 & 0.00000000 & 0.03000000 & 0 & 0.00000000 & 0.00000000 & 0.00000000 & 0.00000000 & 0 & 0.00000000 & ⋯ & NA & NA & NA & NA & NA & NA & NA & NA & NA & NA\\\\\n",
       "\tAAACGAAGTCCCGTGA-1\\_post & 0 & 0.00000000 & 0.00000000 & 0 & 0.00000000 & 0.02272727 & 0.00000000 & 0.00000000 & 0 & 0.00000000 & ⋯ & NA & NA & NA & NA & NA & NA & NA & NA & NA & NA\\\\\n",
       "\tAAACGAAGTTAACTCG-1\\_pre & 0 & 0.00000000 & 0.00000000 & 0 & 0.05298013 & 0.00000000 & 0.00000000 & 0.00000000 & 0 & 0.00000000 & ⋯ & NA & NA & NA & NA & NA & NA & NA & NA & NA & NA\\\\\n",
       "\tAAACGAAGTTTCAGCA-1\\_post & 0 & 0.00000000 & 0.00000000 & 0 & 0.00000000 & 0.02150538 & 0.00000000 & 0.00000000 & 0 & 0.02542373 & ⋯ & NA & NA & NA & NA & NA & NA & NA & NA & NA & NA\\\\\n",
       "\tAAACTCGAGACGACTG-1\\_post & 0 & 0.00000000 & 0.00000000 & 0 & 0.00000000 & 0.00000000 & 0.00000000 & 0.00000000 & 0 & 0.00000000 & ⋯ & NA & NA & NA & NA & NA & NA & NA & NA & NA & NA\\\\\n",
       "\tAAACTCGAGGGCTCTC-1\\_post & 0 & 0.02777778 & 0.00000000 & 0 & 0.06153846 & 0.00000000 & 0.00000000 & 0.00000000 & 0 & 0.08219178 & ⋯ & NA & NA & NA & NA & NA & NA & NA & NA & NA & NA\\\\\n",
       "\tAAACTCGAGGTCTTTG-1\\_post & 0 & 0.00000000 & 0.04255319 & 0 & 0.00000000 & 0.00000000 & 0.00000000 & 0.00000000 & 0 & 0.03000000 & ⋯ & NA & NA & NA & NA & NA & NA & NA & NA & NA & NA\\\\\n",
       "\tAAACTCGAGGTTTCTG-1\\_post & 0 & 0.00000000 & 0.00000000 & 0 & 0.06666667 & 0.00000000 & 0.00000000 & 0.00000000 & 0 & 0.00000000 & ⋯ & NA & NA & NA & NA & NA & NA & NA & NA & NA & NA\\\\\n",
       "\tAAACTCGAGTGTCACT-1\\_pre & 0 & 0.00000000 & 0.00000000 & 0 & 0.00000000 & 0.00000000 & 0.00000000 & 0.00000000 & 0 & 0.00000000 & ⋯ & NA & NA & NA & NA & NA & NA & NA & NA & NA & NA\\\\\n",
       "\tAAACTCGCAAAGGTCG-1\\_pre & 0 & 0.00000000 & 0.12080537 & 0 & 0.00000000 & 0.00000000 & 0.00000000 & 0.00000000 & 0 & 0.00000000 & ⋯ & NA & NA & NA & NA & NA & NA & NA & NA & NA & NA\\\\\n",
       "\tAAACTCGCAAGGAAGA-1\\_post & 0 & 0.00000000 & 0.00000000 & 0 & 0.00000000 & 0.00000000 & 0.00000000 & 0.00000000 & 0 & 0.00000000 & ⋯ & NA & NA & NA & NA & NA & NA & NA & NA & NA & NA\\\\\n",
       "\tAAACTCGCACAAACGG-1\\_pre & 0 & 0.00000000 & 0.00000000 & 0 & 0.00000000 & 0.00000000 & 0.00000000 & 0.00000000 & 0 & 0.00000000 & ⋯ & NA & NA & NA & NA & NA & NA & NA & NA & NA & NA\\\\\n",
       "\tAAACTCGCACGCTAAT-1\\_post & 0 & 0.00000000 & 0.10958904 & 0 & 0.00000000 & 0.00000000 & 0.03773585 & 0.00000000 & 0 & 0.00000000 & ⋯ & NA & NA & NA & NA & NA & NA & NA & NA & NA & NA\\\\\n",
       "\tAAACTCGCATCTGCAA-1\\_post & 0 & 0.00000000 & 0.02857143 & 0 & 0.00000000 & 0.00000000 & 0.00000000 & 0.06976744 & 0 & 0.00000000 & ⋯ & NA & NA & NA & NA & NA & NA & NA & NA & NA & NA\\\\\n",
       "\tAAACTCGCATTTGTTC-1\\_pre & 0 & 0.00000000 & 0.00000000 & 0 & 0.00000000 & 0.00000000 & 0.00000000 & 0.00000000 & 0 & 0.08823529 & ⋯ & NA & NA & NA & NA & NA & NA & NA & NA & NA & NA\\\\\n",
       "\tAAACTCGGTGCCAAGA-1\\_pre & 0 & 0.00000000 & 0.01063830 & 0 & 0.00000000 & 0.00000000 & 0.00000000 & 0.00000000 & 0 & 0.02150538 & ⋯ & NA & NA & NA & NA & NA & NA & NA & NA & NA & NA\\\\\n",
       "\tAAACTCGGTTCCTATT-1\\_post & 0 & 0.00000000 & 0.07594937 & 0 & 0.00000000 & 0.00000000 & 0.00000000 & 0.00000000 & 0 & 0.00000000 & ⋯ & NA & NA & NA & NA & NA & NA & NA & NA & NA & NA\\\\\n",
       "\tAAACTCGTCACACGTA-1\\_pre & 0 & 0.00000000 & 0.02105263 & 0 & 0.00000000 & 0.00000000 & 0.00000000 & 0.00000000 & 0 & 0.00000000 & ⋯ & NA & NA & NA & NA & NA & NA & NA & NA & NA & NA\\\\\n",
       "\tAAACTCGTCCTCCTGA-1\\_pre & 0 & 0.00000000 & 0.00000000 & 0 & 0.00000000 & 0.00000000 & 0.00000000 & 0.00000000 & 0 & 0.00000000 & ⋯ & NA & NA & NA & NA & NA & NA & NA & NA & NA & NA\\\\\n",
       "\tAAACTCGTCCTTCGAC-1\\_pre & 0 & 0.00000000 & 0.03550296 & 0 & 0.00000000 & 0.00000000 & 0.00000000 & 0.00000000 & 0 & 0.02150538 & ⋯ & NA & NA & NA & NA & NA & NA & NA & NA & NA & NA\\\\\n",
       "\tAAACTCGTCGTCTTAT-1\\_post & 0 & 0.00000000 & 0.00000000 & 0 & 0.00000000 & 0.00000000 & 0.00000000 & 0.00000000 & 0 & 0.00000000 & ⋯ & NA & NA & NA & NA & NA & NA & NA & NA & NA & NA\\\\\n",
       "\t⋮ & ⋮ & ⋮ & ⋮ & ⋮ & ⋮ & ⋮ & ⋮ & ⋮ & ⋮ & ⋮ & ⋱ & ⋮ & ⋮ & ⋮ & ⋮ & ⋮ & ⋮ & ⋮ & ⋮ & ⋮ & ⋮\\\\\n",
       "\tTTTGGCCCATAGATAG-1\\_post & NA & NA & NA & NA & NA & NA & NA & NA & NA & NA & ⋯ & 0.00000000 & 0.00000000 & 0 & 0.02469136 & 0.00000000 & 0.00000000 & 0 & 0.00000000 & 0.00000000 & 0.00000000\\\\\n",
       "\tTTTGGCCGTAGTTTGC-1\\_pre & NA & NA & NA & NA & NA & NA & NA & NA & NA & NA & ⋯ & 0.00000000 & 0.00000000 & 0 & 0.00000000 & 0.00000000 & 0.00000000 & 0 & 0.00000000 & 0.00000000 & 0.00000000\\\\\n",
       "\tTTTGGCCTCCATAACG-1\\_pre & NA & NA & NA & NA & NA & NA & NA & NA & NA & NA & ⋯ & 0.07766990 & 0.00000000 & 0 & 0.00000000 & 0.00000000 & 0.11428571 & 0 & 0.00000000 & 0.02020202 & 0.00000000\\\\\n",
       "\tTTTGGCCTCCATACGA-1\\_post & NA & NA & NA & NA & NA & NA & NA & NA & NA & NA & ⋯ & 0.07407407 & 0.00000000 & 0 & 0.00000000 & 0.00000000 & 0.00000000 & 0 & 0.04878049 & 0.00000000 & 0.00000000\\\\\n",
       "\tTTTGGCCTCCGTGCAG-1\\_post & NA & NA & NA & NA & NA & NA & NA & NA & NA & NA & ⋯ & 0.00000000 & 0.00000000 & 0 & 0.00000000 & 0.00000000 & 0.00000000 & 0 & 0.00000000 & 0.00000000 & 0.00000000\\\\\n",
       "\tTTTGGCCTCGCTTACC-1\\_post & NA & NA & NA & NA & NA & NA & NA & NA & NA & NA & ⋯ & 0.00000000 & 0.00000000 & 0 & 0.00000000 & 0.00000000 & 0.00000000 & 0 & 0.00000000 & 0.00000000 & 0.00000000\\\\\n",
       "\tTTTGGTTAGAGAGTAG-1\\_pre & NA & NA & NA & NA & NA & NA & NA & NA & NA & NA & ⋯ & 0.00000000 & 0.00000000 & 0 & 0.02985075 & 0.00000000 & 0.00000000 & 0 & 0.00000000 & 0.00000000 & 0.00000000\\\\\n",
       "\tTTTGGTTAGCAACGGT-1\\_post & NA & NA & NA & NA & NA & NA & NA & NA & NA & NA & ⋯ & 0.00000000 & 0.00000000 & 0 & 0.00000000 & 0.00000000 & 0.00000000 & 0 & 0.00000000 & 0.00000000 & 0.01923077\\\\\n",
       "\tTTTGGTTAGGCTGGAT-1\\_pre & NA & NA & NA & NA & NA & NA & NA & NA & NA & NA & ⋯ & 0.00000000 & 0.00000000 & 0 & 0.00000000 & 0.00000000 & 0.00000000 & 0 & 0.01923077 & 0.00000000 & 0.00000000\\\\\n",
       "\tTTTGGTTAGTAGGTCG-1\\_post & NA & NA & NA & NA & NA & NA & NA & NA & NA & NA & ⋯ & 0.00000000 & 0.00000000 & 0 & 0.00000000 & 0.00000000 & 0.00000000 & 0 & 0.00000000 & 0.00000000 & 0.00000000\\\\\n",
       "\tTTTGGTTAGTATACGA-1\\_pre & NA & NA & NA & NA & NA & NA & NA & NA & NA & NA & ⋯ & 0.00000000 & 0.00000000 & 0 & 0.00000000 & 0.00000000 & 0.03389831 & 0 & 0.00000000 & 0.03125000 & 0.00000000\\\\\n",
       "\tTTTGGTTAGTCGCCTG-1\\_post & NA & NA & NA & NA & NA & NA & NA & NA & NA & NA & ⋯ & 0.08064516 & 0.00000000 & 0 & 0.00000000 & 0.00000000 & 0.00000000 & 0 & 0.00000000 & 0.00000000 & 0.00000000\\\\\n",
       "\tTTTGGTTCAATTCTCT-1\\_post & NA & NA & NA & NA & NA & NA & NA & NA & NA & NA & ⋯ & 0.04494382 & 0.00000000 & 0 & 0.00000000 & 0.00000000 & 0.03508772 & 0 & 0.00000000 & 0.00000000 & 0.00000000\\\\\n",
       "\tTTTGGTTCACGATATC-1\\_pre & NA & NA & NA & NA & NA & NA & NA & NA & NA & NA & ⋯ & 0.04109589 & 0.08029197 & 0 & 0.00000000 & 0.00000000 & 0.00000000 & 0 & 0.00000000 & 0.00000000 & 0.00000000\\\\\n",
       "\tTTTGGTTCACGCGTTG-1\\_pre & NA & NA & NA & NA & NA & NA & NA & NA & NA & NA & ⋯ & 0.00000000 & 0.08695652 & 0 & 0.00000000 & 0.00000000 & 0.00000000 & 0 & 0.02469136 & 0.00000000 & 0.00000000\\\\\n",
       "\tTTTGGTTCAGGGCTTC-1\\_post & NA & NA & NA & NA & NA & NA & NA & NA & NA & NA & ⋯ & 0.00000000 & 0.00000000 & 0 & 0.00000000 & 0.00000000 & 0.03846154 & 0 & 0.00000000 & 0.00000000 & 0.00000000\\\\\n",
       "\tTTTGGTTGTCATAGAA-1\\_pre & NA & NA & NA & NA & NA & NA & NA & NA & NA & NA & ⋯ & 0.00000000 & 0.00000000 & 0 & 0.00000000 & 0.00000000 & 0.00000000 & 0 & 0.00000000 & 0.00000000 & 0.00000000\\\\\n",
       "\tTTTGGTTGTGATTCCA-1\\_pre & NA & NA & NA & NA & NA & NA & NA & NA & NA & NA & ⋯ & 0.00000000 & 0.00000000 & 0 & 0.02836879 & 0.00000000 & 0.00000000 & 0 & 0.00000000 & 0.00000000 & 0.03361345\\\\\n",
       "\tTTTGGTTGTGGACGAT-1\\_post & NA & NA & NA & NA & NA & NA & NA & NA & NA & NA & ⋯ & 0.00000000 & 0.11940299 & 0 & 0.00000000 & 0.00000000 & 0.00000000 & 0 & 0.00000000 & 0.00000000 & 0.00000000\\\\\n",
       "\tTTTGGTTTCGACCCGA-1\\_post & NA & NA & NA & NA & NA & NA & NA & NA & NA & NA & ⋯ & 0.02597403 & 0.03846154 & 0 & 0.00000000 & 0.00000000 & 0.00000000 & 0 & 0.00000000 & 0.00000000 & 0.00000000\\\\\n",
       "\tTTTGGTTTCGAGGCTC-1\\_pre & NA & NA & NA & NA & NA & NA & NA & NA & NA & NA & ⋯ & 0.00000000 & 0.00000000 & 0 & 0.00000000 & 0.00000000 & 0.00000000 & 0 & 0.02777778 & 0.00000000 & 0.00000000\\\\\n",
       "\tTTTGGTTTCGTTCAGA-1\\_pre & NA & NA & NA & NA & NA & NA & NA & NA & NA & NA & ⋯ & 0.02040816 & 0.00000000 & 0 & 0.00000000 & 0.00000000 & 0.00000000 & 0 & 0.00000000 & 0.00000000 & 0.00000000\\\\\n",
       "\tTTTGTGTCAAAGAGAG-1\\_post & NA & NA & NA & NA & NA & NA & NA & NA & NA & NA & ⋯ & 0.00000000 & 0.00000000 & 0 & 0.00000000 & 0.00000000 & 0.00000000 & 0 & 0.00000000 & 0.00000000 & 0.00000000\\\\\n",
       "\tTTTGTGTCAAGGGTAC-1\\_pre & NA & NA & NA & NA & NA & NA & NA & NA & NA & NA & ⋯ & 0.00000000 & 0.05882353 & 0 & 0.01169591 & 0.00000000 & 0.00000000 & 0 & 0.00000000 & 0.00000000 & 0.00000000\\\\\n",
       "\tTTTGTGTGTCATAAGA-1\\_pre & NA & NA & NA & NA & NA & NA & NA & NA & NA & NA & ⋯ & 0.01851852 & 0.00000000 & 0 & 0.00000000 & 0.00000000 & 0.04545455 & 0 & 0.00000000 & 0.00000000 & 0.00000000\\\\\n",
       "\tTTTGTGTGTTCTTTCA-1\\_post & NA & NA & NA & NA & NA & NA & NA & NA & NA & NA & ⋯ & 0.00000000 & 0.00000000 & 0 & 0.00000000 & 0.00000000 & 0.00000000 & 0 & 0.00000000 & 0.00000000 & 0.00000000\\\\\n",
       "\tTTTGTGTTCCGGAAAG-1\\_post & NA & NA & NA & NA & NA & NA & NA & NA & NA & NA & ⋯ & 0.00000000 & 0.00000000 & 0 & 0.00000000 & 0.02985075 & 0.00000000 & 0 & 0.00000000 & 0.00000000 & 0.00000000\\\\\n",
       "\tTTTGTGTTCCTGACCT-1\\_post & NA & NA & NA & NA & NA & NA & NA & NA & NA & NA & ⋯ & 0.00000000 & 0.00000000 & 0 & 0.00000000 & 0.00000000 & 0.03333333 & 0 & 0.00000000 & 0.00000000 & 0.00000000\\\\\n",
       "\tTTTGTGTTCGCGATGC-1\\_pre & NA & NA & NA & NA & NA & NA & NA & NA & NA & NA & ⋯ & 0.07258065 & 0.00000000 & 0 & 0.00000000 & 0.00000000 & 0.00000000 & 0 & 0.00000000 & 0.00000000 & 0.00000000\\\\\n",
       "\tTTTGTGTTCTTAATCC-1\\_post & NA & NA & NA & NA & NA & NA & NA & NA & NA & NA & ⋯ & 0.00000000 & 0.00000000 & 0 & 0.00000000 & 0.00000000 & 0.00000000 & 0 & 0.00000000 & 0.00000000 & 0.00000000\\\\\n",
       "\\end{tabular}\n"
      ],
      "text/markdown": [
       "\n",
       "A data.frame: 14760 × 44\n",
       "\n",
       "| <!--/--> | X10646T &lt;dbl&gt; | X12295C &lt;dbl&gt; | X13188T &lt;dbl&gt; | X14568A &lt;dbl&gt; | X14766T &lt;dbl&gt; | X150T &lt;dbl&gt; | X16126C &lt;dbl&gt; | X16362C &lt;dbl&gt; | X16537T &lt;dbl&gt; | X2351C &lt;dbl&gt; | ⋯ ⋯ | X57C &lt;dbl&gt; | X58C &lt;dbl&gt; | X6093A &lt;dbl&gt; | X6456A &lt;dbl&gt; | X66T &lt;dbl&gt; | X6776C &lt;dbl&gt; | X7595A &lt;dbl&gt; | X7775A &lt;dbl&gt; | X8770T &lt;dbl&gt; | X9087A &lt;dbl&gt; |\n",
       "|---|---|---|---|---|---|---|---|---|---|---|---|---|---|---|---|---|---|---|---|---|---|\n",
       "| AAACGAAAGCGTTGCC-1_post | 0 | 0.00000000 | 0.00000000 | 0 | 0.21568627 | 0.06060606 | 0.00000000 | 0.02666667 | 0 | 0.00000000 | ⋯ | NA | NA | NA | NA | NA | NA | NA | NA | NA | NA |\n",
       "| AAACGAAAGGCTCCTG-1_pre | 0 | 0.00000000 | 0.00000000 | 0 | 0.00000000 | 0.00000000 | 0.00000000 | 0.00000000 | 0 | 0.00000000 | ⋯ | NA | NA | NA | NA | NA | NA | NA | NA | NA | NA |\n",
       "| AAACGAAAGGTTAACA-1_post | 0 | 0.00000000 | 0.01612903 | 0 | 0.00000000 | 0.00000000 | 0.00000000 | 0.03571429 | 0 | 0.00000000 | ⋯ | NA | NA | NA | NA | NA | NA | NA | NA | NA | NA |\n",
       "| AAACGAAAGTGAATAC-1_pre | 0 | 0.00000000 | 0.00000000 | 0 | 0.00000000 | 0.00000000 | 0.00000000 | 0.00000000 | 0 | 0.00000000 | ⋯ | NA | NA | NA | NA | NA | NA | NA | NA | NA | NA |\n",
       "| AAACGAAAGTGCTAGG-1_post | 0 | 0.00000000 | 0.03636364 | 0 | 0.00000000 | 0.00000000 | 0.00000000 | 0.00000000 | 0 | 0.00000000 | ⋯ | NA | NA | NA | NA | NA | NA | NA | NA | NA | NA |\n",
       "| AAACGAAAGTGTCACT-1_pre | 0 | 0.00000000 | 0.00000000 | 0 | 0.00000000 | 0.00000000 | 0.00000000 | 0.00000000 | 0 | 0.00000000 | ⋯ | NA | NA | NA | NA | NA | NA | NA | NA | NA | NA |\n",
       "| AAACGAACATAGAATG-1_post | 0 | 0.00000000 | 0.00000000 | 0 | 0.00000000 | 0.00000000 | 0.00000000 | 0.00000000 | 0 | 0.03846154 | ⋯ | NA | NA | NA | NA | NA | NA | NA | NA | NA | NA |\n",
       "| AAACGAACATAGGCGA-1_pre | 0 | 0.00000000 | 0.00000000 | 0 | 0.00000000 | 0.00000000 | 0.00000000 | 0.00000000 | 0 | 0.00000000 | ⋯ | NA | NA | NA | NA | NA | NA | NA | NA | NA | NA |\n",
       "| AAACGAACATCCCAAA-1_post | 0 | 0.00000000 | 0.00000000 | 0 | 0.00000000 | 0.00000000 | 0.00000000 | 0.00000000 | 0 | 0.00000000 | ⋯ | NA | NA | NA | NA | NA | NA | NA | NA | NA | NA |\n",
       "| AAACGAAGTACAAGCG-1_post | 0 | 0.00000000 | 0.03000000 | 0 | 0.00000000 | 0.00000000 | 0.00000000 | 0.00000000 | 0 | 0.00000000 | ⋯ | NA | NA | NA | NA | NA | NA | NA | NA | NA | NA |\n",
       "| AAACGAAGTCCCGTGA-1_post | 0 | 0.00000000 | 0.00000000 | 0 | 0.00000000 | 0.02272727 | 0.00000000 | 0.00000000 | 0 | 0.00000000 | ⋯ | NA | NA | NA | NA | NA | NA | NA | NA | NA | NA |\n",
       "| AAACGAAGTTAACTCG-1_pre | 0 | 0.00000000 | 0.00000000 | 0 | 0.05298013 | 0.00000000 | 0.00000000 | 0.00000000 | 0 | 0.00000000 | ⋯ | NA | NA | NA | NA | NA | NA | NA | NA | NA | NA |\n",
       "| AAACGAAGTTTCAGCA-1_post | 0 | 0.00000000 | 0.00000000 | 0 | 0.00000000 | 0.02150538 | 0.00000000 | 0.00000000 | 0 | 0.02542373 | ⋯ | NA | NA | NA | NA | NA | NA | NA | NA | NA | NA |\n",
       "| AAACTCGAGACGACTG-1_post | 0 | 0.00000000 | 0.00000000 | 0 | 0.00000000 | 0.00000000 | 0.00000000 | 0.00000000 | 0 | 0.00000000 | ⋯ | NA | NA | NA | NA | NA | NA | NA | NA | NA | NA |\n",
       "| AAACTCGAGGGCTCTC-1_post | 0 | 0.02777778 | 0.00000000 | 0 | 0.06153846 | 0.00000000 | 0.00000000 | 0.00000000 | 0 | 0.08219178 | ⋯ | NA | NA | NA | NA | NA | NA | NA | NA | NA | NA |\n",
       "| AAACTCGAGGTCTTTG-1_post | 0 | 0.00000000 | 0.04255319 | 0 | 0.00000000 | 0.00000000 | 0.00000000 | 0.00000000 | 0 | 0.03000000 | ⋯ | NA | NA | NA | NA | NA | NA | NA | NA | NA | NA |\n",
       "| AAACTCGAGGTTTCTG-1_post | 0 | 0.00000000 | 0.00000000 | 0 | 0.06666667 | 0.00000000 | 0.00000000 | 0.00000000 | 0 | 0.00000000 | ⋯ | NA | NA | NA | NA | NA | NA | NA | NA | NA | NA |\n",
       "| AAACTCGAGTGTCACT-1_pre | 0 | 0.00000000 | 0.00000000 | 0 | 0.00000000 | 0.00000000 | 0.00000000 | 0.00000000 | 0 | 0.00000000 | ⋯ | NA | NA | NA | NA | NA | NA | NA | NA | NA | NA |\n",
       "| AAACTCGCAAAGGTCG-1_pre | 0 | 0.00000000 | 0.12080537 | 0 | 0.00000000 | 0.00000000 | 0.00000000 | 0.00000000 | 0 | 0.00000000 | ⋯ | NA | NA | NA | NA | NA | NA | NA | NA | NA | NA |\n",
       "| AAACTCGCAAGGAAGA-1_post | 0 | 0.00000000 | 0.00000000 | 0 | 0.00000000 | 0.00000000 | 0.00000000 | 0.00000000 | 0 | 0.00000000 | ⋯ | NA | NA | NA | NA | NA | NA | NA | NA | NA | NA |\n",
       "| AAACTCGCACAAACGG-1_pre | 0 | 0.00000000 | 0.00000000 | 0 | 0.00000000 | 0.00000000 | 0.00000000 | 0.00000000 | 0 | 0.00000000 | ⋯ | NA | NA | NA | NA | NA | NA | NA | NA | NA | NA |\n",
       "| AAACTCGCACGCTAAT-1_post | 0 | 0.00000000 | 0.10958904 | 0 | 0.00000000 | 0.00000000 | 0.03773585 | 0.00000000 | 0 | 0.00000000 | ⋯ | NA | NA | NA | NA | NA | NA | NA | NA | NA | NA |\n",
       "| AAACTCGCATCTGCAA-1_post | 0 | 0.00000000 | 0.02857143 | 0 | 0.00000000 | 0.00000000 | 0.00000000 | 0.06976744 | 0 | 0.00000000 | ⋯ | NA | NA | NA | NA | NA | NA | NA | NA | NA | NA |\n",
       "| AAACTCGCATTTGTTC-1_pre | 0 | 0.00000000 | 0.00000000 | 0 | 0.00000000 | 0.00000000 | 0.00000000 | 0.00000000 | 0 | 0.08823529 | ⋯ | NA | NA | NA | NA | NA | NA | NA | NA | NA | NA |\n",
       "| AAACTCGGTGCCAAGA-1_pre | 0 | 0.00000000 | 0.01063830 | 0 | 0.00000000 | 0.00000000 | 0.00000000 | 0.00000000 | 0 | 0.02150538 | ⋯ | NA | NA | NA | NA | NA | NA | NA | NA | NA | NA |\n",
       "| AAACTCGGTTCCTATT-1_post | 0 | 0.00000000 | 0.07594937 | 0 | 0.00000000 | 0.00000000 | 0.00000000 | 0.00000000 | 0 | 0.00000000 | ⋯ | NA | NA | NA | NA | NA | NA | NA | NA | NA | NA |\n",
       "| AAACTCGTCACACGTA-1_pre | 0 | 0.00000000 | 0.02105263 | 0 | 0.00000000 | 0.00000000 | 0.00000000 | 0.00000000 | 0 | 0.00000000 | ⋯ | NA | NA | NA | NA | NA | NA | NA | NA | NA | NA |\n",
       "| AAACTCGTCCTCCTGA-1_pre | 0 | 0.00000000 | 0.00000000 | 0 | 0.00000000 | 0.00000000 | 0.00000000 | 0.00000000 | 0 | 0.00000000 | ⋯ | NA | NA | NA | NA | NA | NA | NA | NA | NA | NA |\n",
       "| AAACTCGTCCTTCGAC-1_pre | 0 | 0.00000000 | 0.03550296 | 0 | 0.00000000 | 0.00000000 | 0.00000000 | 0.00000000 | 0 | 0.02150538 | ⋯ | NA | NA | NA | NA | NA | NA | NA | NA | NA | NA |\n",
       "| AAACTCGTCGTCTTAT-1_post | 0 | 0.00000000 | 0.00000000 | 0 | 0.00000000 | 0.00000000 | 0.00000000 | 0.00000000 | 0 | 0.00000000 | ⋯ | NA | NA | NA | NA | NA | NA | NA | NA | NA | NA |\n",
       "| ⋮ | ⋮ | ⋮ | ⋮ | ⋮ | ⋮ | ⋮ | ⋮ | ⋮ | ⋮ | ⋮ | ⋱ | ⋮ | ⋮ | ⋮ | ⋮ | ⋮ | ⋮ | ⋮ | ⋮ | ⋮ | ⋮ |\n",
       "| TTTGGCCCATAGATAG-1_post | NA | NA | NA | NA | NA | NA | NA | NA | NA | NA | ⋯ | 0.00000000 | 0.00000000 | 0 | 0.02469136 | 0.00000000 | 0.00000000 | 0 | 0.00000000 | 0.00000000 | 0.00000000 |\n",
       "| TTTGGCCGTAGTTTGC-1_pre | NA | NA | NA | NA | NA | NA | NA | NA | NA | NA | ⋯ | 0.00000000 | 0.00000000 | 0 | 0.00000000 | 0.00000000 | 0.00000000 | 0 | 0.00000000 | 0.00000000 | 0.00000000 |\n",
       "| TTTGGCCTCCATAACG-1_pre | NA | NA | NA | NA | NA | NA | NA | NA | NA | NA | ⋯ | 0.07766990 | 0.00000000 | 0 | 0.00000000 | 0.00000000 | 0.11428571 | 0 | 0.00000000 | 0.02020202 | 0.00000000 |\n",
       "| TTTGGCCTCCATACGA-1_post | NA | NA | NA | NA | NA | NA | NA | NA | NA | NA | ⋯ | 0.07407407 | 0.00000000 | 0 | 0.00000000 | 0.00000000 | 0.00000000 | 0 | 0.04878049 | 0.00000000 | 0.00000000 |\n",
       "| TTTGGCCTCCGTGCAG-1_post | NA | NA | NA | NA | NA | NA | NA | NA | NA | NA | ⋯ | 0.00000000 | 0.00000000 | 0 | 0.00000000 | 0.00000000 | 0.00000000 | 0 | 0.00000000 | 0.00000000 | 0.00000000 |\n",
       "| TTTGGCCTCGCTTACC-1_post | NA | NA | NA | NA | NA | NA | NA | NA | NA | NA | ⋯ | 0.00000000 | 0.00000000 | 0 | 0.00000000 | 0.00000000 | 0.00000000 | 0 | 0.00000000 | 0.00000000 | 0.00000000 |\n",
       "| TTTGGTTAGAGAGTAG-1_pre | NA | NA | NA | NA | NA | NA | NA | NA | NA | NA | ⋯ | 0.00000000 | 0.00000000 | 0 | 0.02985075 | 0.00000000 | 0.00000000 | 0 | 0.00000000 | 0.00000000 | 0.00000000 |\n",
       "| TTTGGTTAGCAACGGT-1_post | NA | NA | NA | NA | NA | NA | NA | NA | NA | NA | ⋯ | 0.00000000 | 0.00000000 | 0 | 0.00000000 | 0.00000000 | 0.00000000 | 0 | 0.00000000 | 0.00000000 | 0.01923077 |\n",
       "| TTTGGTTAGGCTGGAT-1_pre | NA | NA | NA | NA | NA | NA | NA | NA | NA | NA | ⋯ | 0.00000000 | 0.00000000 | 0 | 0.00000000 | 0.00000000 | 0.00000000 | 0 | 0.01923077 | 0.00000000 | 0.00000000 |\n",
       "| TTTGGTTAGTAGGTCG-1_post | NA | NA | NA | NA | NA | NA | NA | NA | NA | NA | ⋯ | 0.00000000 | 0.00000000 | 0 | 0.00000000 | 0.00000000 | 0.00000000 | 0 | 0.00000000 | 0.00000000 | 0.00000000 |\n",
       "| TTTGGTTAGTATACGA-1_pre | NA | NA | NA | NA | NA | NA | NA | NA | NA | NA | ⋯ | 0.00000000 | 0.00000000 | 0 | 0.00000000 | 0.00000000 | 0.03389831 | 0 | 0.00000000 | 0.03125000 | 0.00000000 |\n",
       "| TTTGGTTAGTCGCCTG-1_post | NA | NA | NA | NA | NA | NA | NA | NA | NA | NA | ⋯ | 0.08064516 | 0.00000000 | 0 | 0.00000000 | 0.00000000 | 0.00000000 | 0 | 0.00000000 | 0.00000000 | 0.00000000 |\n",
       "| TTTGGTTCAATTCTCT-1_post | NA | NA | NA | NA | NA | NA | NA | NA | NA | NA | ⋯ | 0.04494382 | 0.00000000 | 0 | 0.00000000 | 0.00000000 | 0.03508772 | 0 | 0.00000000 | 0.00000000 | 0.00000000 |\n",
       "| TTTGGTTCACGATATC-1_pre | NA | NA | NA | NA | NA | NA | NA | NA | NA | NA | ⋯ | 0.04109589 | 0.08029197 | 0 | 0.00000000 | 0.00000000 | 0.00000000 | 0 | 0.00000000 | 0.00000000 | 0.00000000 |\n",
       "| TTTGGTTCACGCGTTG-1_pre | NA | NA | NA | NA | NA | NA | NA | NA | NA | NA | ⋯ | 0.00000000 | 0.08695652 | 0 | 0.00000000 | 0.00000000 | 0.00000000 | 0 | 0.02469136 | 0.00000000 | 0.00000000 |\n",
       "| TTTGGTTCAGGGCTTC-1_post | NA | NA | NA | NA | NA | NA | NA | NA | NA | NA | ⋯ | 0.00000000 | 0.00000000 | 0 | 0.00000000 | 0.00000000 | 0.03846154 | 0 | 0.00000000 | 0.00000000 | 0.00000000 |\n",
       "| TTTGGTTGTCATAGAA-1_pre | NA | NA | NA | NA | NA | NA | NA | NA | NA | NA | ⋯ | 0.00000000 | 0.00000000 | 0 | 0.00000000 | 0.00000000 | 0.00000000 | 0 | 0.00000000 | 0.00000000 | 0.00000000 |\n",
       "| TTTGGTTGTGATTCCA-1_pre | NA | NA | NA | NA | NA | NA | NA | NA | NA | NA | ⋯ | 0.00000000 | 0.00000000 | 0 | 0.02836879 | 0.00000000 | 0.00000000 | 0 | 0.00000000 | 0.00000000 | 0.03361345 |\n",
       "| TTTGGTTGTGGACGAT-1_post | NA | NA | NA | NA | NA | NA | NA | NA | NA | NA | ⋯ | 0.00000000 | 0.11940299 | 0 | 0.00000000 | 0.00000000 | 0.00000000 | 0 | 0.00000000 | 0.00000000 | 0.00000000 |\n",
       "| TTTGGTTTCGACCCGA-1_post | NA | NA | NA | NA | NA | NA | NA | NA | NA | NA | ⋯ | 0.02597403 | 0.03846154 | 0 | 0.00000000 | 0.00000000 | 0.00000000 | 0 | 0.00000000 | 0.00000000 | 0.00000000 |\n",
       "| TTTGGTTTCGAGGCTC-1_pre | NA | NA | NA | NA | NA | NA | NA | NA | NA | NA | ⋯ | 0.00000000 | 0.00000000 | 0 | 0.00000000 | 0.00000000 | 0.00000000 | 0 | 0.02777778 | 0.00000000 | 0.00000000 |\n",
       "| TTTGGTTTCGTTCAGA-1_pre | NA | NA | NA | NA | NA | NA | NA | NA | NA | NA | ⋯ | 0.02040816 | 0.00000000 | 0 | 0.00000000 | 0.00000000 | 0.00000000 | 0 | 0.00000000 | 0.00000000 | 0.00000000 |\n",
       "| TTTGTGTCAAAGAGAG-1_post | NA | NA | NA | NA | NA | NA | NA | NA | NA | NA | ⋯ | 0.00000000 | 0.00000000 | 0 | 0.00000000 | 0.00000000 | 0.00000000 | 0 | 0.00000000 | 0.00000000 | 0.00000000 |\n",
       "| TTTGTGTCAAGGGTAC-1_pre | NA | NA | NA | NA | NA | NA | NA | NA | NA | NA | ⋯ | 0.00000000 | 0.05882353 | 0 | 0.01169591 | 0.00000000 | 0.00000000 | 0 | 0.00000000 | 0.00000000 | 0.00000000 |\n",
       "| TTTGTGTGTCATAAGA-1_pre | NA | NA | NA | NA | NA | NA | NA | NA | NA | NA | ⋯ | 0.01851852 | 0.00000000 | 0 | 0.00000000 | 0.00000000 | 0.04545455 | 0 | 0.00000000 | 0.00000000 | 0.00000000 |\n",
       "| TTTGTGTGTTCTTTCA-1_post | NA | NA | NA | NA | NA | NA | NA | NA | NA | NA | ⋯ | 0.00000000 | 0.00000000 | 0 | 0.00000000 | 0.00000000 | 0.00000000 | 0 | 0.00000000 | 0.00000000 | 0.00000000 |\n",
       "| TTTGTGTTCCGGAAAG-1_post | NA | NA | NA | NA | NA | NA | NA | NA | NA | NA | ⋯ | 0.00000000 | 0.00000000 | 0 | 0.00000000 | 0.02985075 | 0.00000000 | 0 | 0.00000000 | 0.00000000 | 0.00000000 |\n",
       "| TTTGTGTTCCTGACCT-1_post | NA | NA | NA | NA | NA | NA | NA | NA | NA | NA | ⋯ | 0.00000000 | 0.00000000 | 0 | 0.00000000 | 0.00000000 | 0.03333333 | 0 | 0.00000000 | 0.00000000 | 0.00000000 |\n",
       "| TTTGTGTTCGCGATGC-1_pre | NA | NA | NA | NA | NA | NA | NA | NA | NA | NA | ⋯ | 0.07258065 | 0.00000000 | 0 | 0.00000000 | 0.00000000 | 0.00000000 | 0 | 0.00000000 | 0.00000000 | 0.00000000 |\n",
       "| TTTGTGTTCTTAATCC-1_post | NA | NA | NA | NA | NA | NA | NA | NA | NA | NA | ⋯ | 0.00000000 | 0.00000000 | 0 | 0.00000000 | 0.00000000 | 0.00000000 | 0 | 0.00000000 | 0.00000000 | 0.00000000 |\n",
       "\n"
      ],
      "text/plain": [
       "                        X10646T X12295C    X13188T    X14568A X14766T   \n",
       "AAACGAAAGCGTTGCC-1_post 0       0.00000000 0.00000000 0       0.21568627\n",
       "AAACGAAAGGCTCCTG-1_pre  0       0.00000000 0.00000000 0       0.00000000\n",
       "AAACGAAAGGTTAACA-1_post 0       0.00000000 0.01612903 0       0.00000000\n",
       "AAACGAAAGTGAATAC-1_pre  0       0.00000000 0.00000000 0       0.00000000\n",
       "AAACGAAAGTGCTAGG-1_post 0       0.00000000 0.03636364 0       0.00000000\n",
       "AAACGAAAGTGTCACT-1_pre  0       0.00000000 0.00000000 0       0.00000000\n",
       "AAACGAACATAGAATG-1_post 0       0.00000000 0.00000000 0       0.00000000\n",
       "AAACGAACATAGGCGA-1_pre  0       0.00000000 0.00000000 0       0.00000000\n",
       "AAACGAACATCCCAAA-1_post 0       0.00000000 0.00000000 0       0.00000000\n",
       "AAACGAAGTACAAGCG-1_post 0       0.00000000 0.03000000 0       0.00000000\n",
       "AAACGAAGTCCCGTGA-1_post 0       0.00000000 0.00000000 0       0.00000000\n",
       "AAACGAAGTTAACTCG-1_pre  0       0.00000000 0.00000000 0       0.05298013\n",
       "AAACGAAGTTTCAGCA-1_post 0       0.00000000 0.00000000 0       0.00000000\n",
       "AAACTCGAGACGACTG-1_post 0       0.00000000 0.00000000 0       0.00000000\n",
       "AAACTCGAGGGCTCTC-1_post 0       0.02777778 0.00000000 0       0.06153846\n",
       "AAACTCGAGGTCTTTG-1_post 0       0.00000000 0.04255319 0       0.00000000\n",
       "AAACTCGAGGTTTCTG-1_post 0       0.00000000 0.00000000 0       0.06666667\n",
       "AAACTCGAGTGTCACT-1_pre  0       0.00000000 0.00000000 0       0.00000000\n",
       "AAACTCGCAAAGGTCG-1_pre  0       0.00000000 0.12080537 0       0.00000000\n",
       "AAACTCGCAAGGAAGA-1_post 0       0.00000000 0.00000000 0       0.00000000\n",
       "AAACTCGCACAAACGG-1_pre  0       0.00000000 0.00000000 0       0.00000000\n",
       "AAACTCGCACGCTAAT-1_post 0       0.00000000 0.10958904 0       0.00000000\n",
       "AAACTCGCATCTGCAA-1_post 0       0.00000000 0.02857143 0       0.00000000\n",
       "AAACTCGCATTTGTTC-1_pre  0       0.00000000 0.00000000 0       0.00000000\n",
       "AAACTCGGTGCCAAGA-1_pre  0       0.00000000 0.01063830 0       0.00000000\n",
       "AAACTCGGTTCCTATT-1_post 0       0.00000000 0.07594937 0       0.00000000\n",
       "AAACTCGTCACACGTA-1_pre  0       0.00000000 0.02105263 0       0.00000000\n",
       "AAACTCGTCCTCCTGA-1_pre  0       0.00000000 0.00000000 0       0.00000000\n",
       "AAACTCGTCCTTCGAC-1_pre  0       0.00000000 0.03550296 0       0.00000000\n",
       "AAACTCGTCGTCTTAT-1_post 0       0.00000000 0.00000000 0       0.00000000\n",
       "⋮                       ⋮       ⋮          ⋮          ⋮       ⋮         \n",
       "TTTGGCCCATAGATAG-1_post NA      NA         NA         NA      NA        \n",
       "TTTGGCCGTAGTTTGC-1_pre  NA      NA         NA         NA      NA        \n",
       "TTTGGCCTCCATAACG-1_pre  NA      NA         NA         NA      NA        \n",
       "TTTGGCCTCCATACGA-1_post NA      NA         NA         NA      NA        \n",
       "TTTGGCCTCCGTGCAG-1_post NA      NA         NA         NA      NA        \n",
       "TTTGGCCTCGCTTACC-1_post NA      NA         NA         NA      NA        \n",
       "TTTGGTTAGAGAGTAG-1_pre  NA      NA         NA         NA      NA        \n",
       "TTTGGTTAGCAACGGT-1_post NA      NA         NA         NA      NA        \n",
       "TTTGGTTAGGCTGGAT-1_pre  NA      NA         NA         NA      NA        \n",
       "TTTGGTTAGTAGGTCG-1_post NA      NA         NA         NA      NA        \n",
       "TTTGGTTAGTATACGA-1_pre  NA      NA         NA         NA      NA        \n",
       "TTTGGTTAGTCGCCTG-1_post NA      NA         NA         NA      NA        \n",
       "TTTGGTTCAATTCTCT-1_post NA      NA         NA         NA      NA        \n",
       "TTTGGTTCACGATATC-1_pre  NA      NA         NA         NA      NA        \n",
       "TTTGGTTCACGCGTTG-1_pre  NA      NA         NA         NA      NA        \n",
       "TTTGGTTCAGGGCTTC-1_post NA      NA         NA         NA      NA        \n",
       "TTTGGTTGTCATAGAA-1_pre  NA      NA         NA         NA      NA        \n",
       "TTTGGTTGTGATTCCA-1_pre  NA      NA         NA         NA      NA        \n",
       "TTTGGTTGTGGACGAT-1_post NA      NA         NA         NA      NA        \n",
       "TTTGGTTTCGACCCGA-1_post NA      NA         NA         NA      NA        \n",
       "TTTGGTTTCGAGGCTC-1_pre  NA      NA         NA         NA      NA        \n",
       "TTTGGTTTCGTTCAGA-1_pre  NA      NA         NA         NA      NA        \n",
       "TTTGTGTCAAAGAGAG-1_post NA      NA         NA         NA      NA        \n",
       "TTTGTGTCAAGGGTAC-1_pre  NA      NA         NA         NA      NA        \n",
       "TTTGTGTGTCATAAGA-1_pre  NA      NA         NA         NA      NA        \n",
       "TTTGTGTGTTCTTTCA-1_post NA      NA         NA         NA      NA        \n",
       "TTTGTGTTCCGGAAAG-1_post NA      NA         NA         NA      NA        \n",
       "TTTGTGTTCCTGACCT-1_post NA      NA         NA         NA      NA        \n",
       "TTTGTGTTCGCGATGC-1_pre  NA      NA         NA         NA      NA        \n",
       "TTTGTGTTCTTAATCC-1_post NA      NA         NA         NA      NA        \n",
       "                        X150T      X16126C    X16362C    X16537T X2351C     ⋯\n",
       "AAACGAAAGCGTTGCC-1_post 0.06060606 0.00000000 0.02666667 0       0.00000000 ⋯\n",
       "AAACGAAAGGCTCCTG-1_pre  0.00000000 0.00000000 0.00000000 0       0.00000000 ⋯\n",
       "AAACGAAAGGTTAACA-1_post 0.00000000 0.00000000 0.03571429 0       0.00000000 ⋯\n",
       "AAACGAAAGTGAATAC-1_pre  0.00000000 0.00000000 0.00000000 0       0.00000000 ⋯\n",
       "AAACGAAAGTGCTAGG-1_post 0.00000000 0.00000000 0.00000000 0       0.00000000 ⋯\n",
       "AAACGAAAGTGTCACT-1_pre  0.00000000 0.00000000 0.00000000 0       0.00000000 ⋯\n",
       "AAACGAACATAGAATG-1_post 0.00000000 0.00000000 0.00000000 0       0.03846154 ⋯\n",
       "AAACGAACATAGGCGA-1_pre  0.00000000 0.00000000 0.00000000 0       0.00000000 ⋯\n",
       "AAACGAACATCCCAAA-1_post 0.00000000 0.00000000 0.00000000 0       0.00000000 ⋯\n",
       "AAACGAAGTACAAGCG-1_post 0.00000000 0.00000000 0.00000000 0       0.00000000 ⋯\n",
       "AAACGAAGTCCCGTGA-1_post 0.02272727 0.00000000 0.00000000 0       0.00000000 ⋯\n",
       "AAACGAAGTTAACTCG-1_pre  0.00000000 0.00000000 0.00000000 0       0.00000000 ⋯\n",
       "AAACGAAGTTTCAGCA-1_post 0.02150538 0.00000000 0.00000000 0       0.02542373 ⋯\n",
       "AAACTCGAGACGACTG-1_post 0.00000000 0.00000000 0.00000000 0       0.00000000 ⋯\n",
       "AAACTCGAGGGCTCTC-1_post 0.00000000 0.00000000 0.00000000 0       0.08219178 ⋯\n",
       "AAACTCGAGGTCTTTG-1_post 0.00000000 0.00000000 0.00000000 0       0.03000000 ⋯\n",
       "AAACTCGAGGTTTCTG-1_post 0.00000000 0.00000000 0.00000000 0       0.00000000 ⋯\n",
       "AAACTCGAGTGTCACT-1_pre  0.00000000 0.00000000 0.00000000 0       0.00000000 ⋯\n",
       "AAACTCGCAAAGGTCG-1_pre  0.00000000 0.00000000 0.00000000 0       0.00000000 ⋯\n",
       "AAACTCGCAAGGAAGA-1_post 0.00000000 0.00000000 0.00000000 0       0.00000000 ⋯\n",
       "AAACTCGCACAAACGG-1_pre  0.00000000 0.00000000 0.00000000 0       0.00000000 ⋯\n",
       "AAACTCGCACGCTAAT-1_post 0.00000000 0.03773585 0.00000000 0       0.00000000 ⋯\n",
       "AAACTCGCATCTGCAA-1_post 0.00000000 0.00000000 0.06976744 0       0.00000000 ⋯\n",
       "AAACTCGCATTTGTTC-1_pre  0.00000000 0.00000000 0.00000000 0       0.08823529 ⋯\n",
       "AAACTCGGTGCCAAGA-1_pre  0.00000000 0.00000000 0.00000000 0       0.02150538 ⋯\n",
       "AAACTCGGTTCCTATT-1_post 0.00000000 0.00000000 0.00000000 0       0.00000000 ⋯\n",
       "AAACTCGTCACACGTA-1_pre  0.00000000 0.00000000 0.00000000 0       0.00000000 ⋯\n",
       "AAACTCGTCCTCCTGA-1_pre  0.00000000 0.00000000 0.00000000 0       0.00000000 ⋯\n",
       "AAACTCGTCCTTCGAC-1_pre  0.00000000 0.00000000 0.00000000 0       0.02150538 ⋯\n",
       "AAACTCGTCGTCTTAT-1_post 0.00000000 0.00000000 0.00000000 0       0.00000000 ⋯\n",
       "⋮                       ⋮          ⋮          ⋮          ⋮       ⋮          ⋱\n",
       "TTTGGCCCATAGATAG-1_post NA         NA         NA         NA      NA         ⋯\n",
       "TTTGGCCGTAGTTTGC-1_pre  NA         NA         NA         NA      NA         ⋯\n",
       "TTTGGCCTCCATAACG-1_pre  NA         NA         NA         NA      NA         ⋯\n",
       "TTTGGCCTCCATACGA-1_post NA         NA         NA         NA      NA         ⋯\n",
       "TTTGGCCTCCGTGCAG-1_post NA         NA         NA         NA      NA         ⋯\n",
       "TTTGGCCTCGCTTACC-1_post NA         NA         NA         NA      NA         ⋯\n",
       "TTTGGTTAGAGAGTAG-1_pre  NA         NA         NA         NA      NA         ⋯\n",
       "TTTGGTTAGCAACGGT-1_post NA         NA         NA         NA      NA         ⋯\n",
       "TTTGGTTAGGCTGGAT-1_pre  NA         NA         NA         NA      NA         ⋯\n",
       "TTTGGTTAGTAGGTCG-1_post NA         NA         NA         NA      NA         ⋯\n",
       "TTTGGTTAGTATACGA-1_pre  NA         NA         NA         NA      NA         ⋯\n",
       "TTTGGTTAGTCGCCTG-1_post NA         NA         NA         NA      NA         ⋯\n",
       "TTTGGTTCAATTCTCT-1_post NA         NA         NA         NA      NA         ⋯\n",
       "TTTGGTTCACGATATC-1_pre  NA         NA         NA         NA      NA         ⋯\n",
       "TTTGGTTCACGCGTTG-1_pre  NA         NA         NA         NA      NA         ⋯\n",
       "TTTGGTTCAGGGCTTC-1_post NA         NA         NA         NA      NA         ⋯\n",
       "TTTGGTTGTCATAGAA-1_pre  NA         NA         NA         NA      NA         ⋯\n",
       "TTTGGTTGTGATTCCA-1_pre  NA         NA         NA         NA      NA         ⋯\n",
       "TTTGGTTGTGGACGAT-1_post NA         NA         NA         NA      NA         ⋯\n",
       "TTTGGTTTCGACCCGA-1_post NA         NA         NA         NA      NA         ⋯\n",
       "TTTGGTTTCGAGGCTC-1_pre  NA         NA         NA         NA      NA         ⋯\n",
       "TTTGGTTTCGTTCAGA-1_pre  NA         NA         NA         NA      NA         ⋯\n",
       "TTTGTGTCAAAGAGAG-1_post NA         NA         NA         NA      NA         ⋯\n",
       "TTTGTGTCAAGGGTAC-1_pre  NA         NA         NA         NA      NA         ⋯\n",
       "TTTGTGTGTCATAAGA-1_pre  NA         NA         NA         NA      NA         ⋯\n",
       "TTTGTGTGTTCTTTCA-1_post NA         NA         NA         NA      NA         ⋯\n",
       "TTTGTGTTCCGGAAAG-1_post NA         NA         NA         NA      NA         ⋯\n",
       "TTTGTGTTCCTGACCT-1_post NA         NA         NA         NA      NA         ⋯\n",
       "TTTGTGTTCGCGATGC-1_pre  NA         NA         NA         NA      NA         ⋯\n",
       "TTTGTGTTCTTAATCC-1_post NA         NA         NA         NA      NA         ⋯\n",
       "                        X57C       X58C       X6093A X6456A     X66T      \n",
       "AAACGAAAGCGTTGCC-1_post NA         NA         NA     NA         NA        \n",
       "AAACGAAAGGCTCCTG-1_pre  NA         NA         NA     NA         NA        \n",
       "AAACGAAAGGTTAACA-1_post NA         NA         NA     NA         NA        \n",
       "AAACGAAAGTGAATAC-1_pre  NA         NA         NA     NA         NA        \n",
       "AAACGAAAGTGCTAGG-1_post NA         NA         NA     NA         NA        \n",
       "AAACGAAAGTGTCACT-1_pre  NA         NA         NA     NA         NA        \n",
       "AAACGAACATAGAATG-1_post NA         NA         NA     NA         NA        \n",
       "AAACGAACATAGGCGA-1_pre  NA         NA         NA     NA         NA        \n",
       "AAACGAACATCCCAAA-1_post NA         NA         NA     NA         NA        \n",
       "AAACGAAGTACAAGCG-1_post NA         NA         NA     NA         NA        \n",
       "AAACGAAGTCCCGTGA-1_post NA         NA         NA     NA         NA        \n",
       "AAACGAAGTTAACTCG-1_pre  NA         NA         NA     NA         NA        \n",
       "AAACGAAGTTTCAGCA-1_post NA         NA         NA     NA         NA        \n",
       "AAACTCGAGACGACTG-1_post NA         NA         NA     NA         NA        \n",
       "AAACTCGAGGGCTCTC-1_post NA         NA         NA     NA         NA        \n",
       "AAACTCGAGGTCTTTG-1_post NA         NA         NA     NA         NA        \n",
       "AAACTCGAGGTTTCTG-1_post NA         NA         NA     NA         NA        \n",
       "AAACTCGAGTGTCACT-1_pre  NA         NA         NA     NA         NA        \n",
       "AAACTCGCAAAGGTCG-1_pre  NA         NA         NA     NA         NA        \n",
       "AAACTCGCAAGGAAGA-1_post NA         NA         NA     NA         NA        \n",
       "AAACTCGCACAAACGG-1_pre  NA         NA         NA     NA         NA        \n",
       "AAACTCGCACGCTAAT-1_post NA         NA         NA     NA         NA        \n",
       "AAACTCGCATCTGCAA-1_post NA         NA         NA     NA         NA        \n",
       "AAACTCGCATTTGTTC-1_pre  NA         NA         NA     NA         NA        \n",
       "AAACTCGGTGCCAAGA-1_pre  NA         NA         NA     NA         NA        \n",
       "AAACTCGGTTCCTATT-1_post NA         NA         NA     NA         NA        \n",
       "AAACTCGTCACACGTA-1_pre  NA         NA         NA     NA         NA        \n",
       "AAACTCGTCCTCCTGA-1_pre  NA         NA         NA     NA         NA        \n",
       "AAACTCGTCCTTCGAC-1_pre  NA         NA         NA     NA         NA        \n",
       "AAACTCGTCGTCTTAT-1_post NA         NA         NA     NA         NA        \n",
       "⋮                       ⋮          ⋮          ⋮      ⋮          ⋮         \n",
       "TTTGGCCCATAGATAG-1_post 0.00000000 0.00000000 0      0.02469136 0.00000000\n",
       "TTTGGCCGTAGTTTGC-1_pre  0.00000000 0.00000000 0      0.00000000 0.00000000\n",
       "TTTGGCCTCCATAACG-1_pre  0.07766990 0.00000000 0      0.00000000 0.00000000\n",
       "TTTGGCCTCCATACGA-1_post 0.07407407 0.00000000 0      0.00000000 0.00000000\n",
       "TTTGGCCTCCGTGCAG-1_post 0.00000000 0.00000000 0      0.00000000 0.00000000\n",
       "TTTGGCCTCGCTTACC-1_post 0.00000000 0.00000000 0      0.00000000 0.00000000\n",
       "TTTGGTTAGAGAGTAG-1_pre  0.00000000 0.00000000 0      0.02985075 0.00000000\n",
       "TTTGGTTAGCAACGGT-1_post 0.00000000 0.00000000 0      0.00000000 0.00000000\n",
       "TTTGGTTAGGCTGGAT-1_pre  0.00000000 0.00000000 0      0.00000000 0.00000000\n",
       "TTTGGTTAGTAGGTCG-1_post 0.00000000 0.00000000 0      0.00000000 0.00000000\n",
       "TTTGGTTAGTATACGA-1_pre  0.00000000 0.00000000 0      0.00000000 0.00000000\n",
       "TTTGGTTAGTCGCCTG-1_post 0.08064516 0.00000000 0      0.00000000 0.00000000\n",
       "TTTGGTTCAATTCTCT-1_post 0.04494382 0.00000000 0      0.00000000 0.00000000\n",
       "TTTGGTTCACGATATC-1_pre  0.04109589 0.08029197 0      0.00000000 0.00000000\n",
       "TTTGGTTCACGCGTTG-1_pre  0.00000000 0.08695652 0      0.00000000 0.00000000\n",
       "TTTGGTTCAGGGCTTC-1_post 0.00000000 0.00000000 0      0.00000000 0.00000000\n",
       "TTTGGTTGTCATAGAA-1_pre  0.00000000 0.00000000 0      0.00000000 0.00000000\n",
       "TTTGGTTGTGATTCCA-1_pre  0.00000000 0.00000000 0      0.02836879 0.00000000\n",
       "TTTGGTTGTGGACGAT-1_post 0.00000000 0.11940299 0      0.00000000 0.00000000\n",
       "TTTGGTTTCGACCCGA-1_post 0.02597403 0.03846154 0      0.00000000 0.00000000\n",
       "TTTGGTTTCGAGGCTC-1_pre  0.00000000 0.00000000 0      0.00000000 0.00000000\n",
       "TTTGGTTTCGTTCAGA-1_pre  0.02040816 0.00000000 0      0.00000000 0.00000000\n",
       "TTTGTGTCAAAGAGAG-1_post 0.00000000 0.00000000 0      0.00000000 0.00000000\n",
       "TTTGTGTCAAGGGTAC-1_pre  0.00000000 0.05882353 0      0.01169591 0.00000000\n",
       "TTTGTGTGTCATAAGA-1_pre  0.01851852 0.00000000 0      0.00000000 0.00000000\n",
       "TTTGTGTGTTCTTTCA-1_post 0.00000000 0.00000000 0      0.00000000 0.00000000\n",
       "TTTGTGTTCCGGAAAG-1_post 0.00000000 0.00000000 0      0.00000000 0.02985075\n",
       "TTTGTGTTCCTGACCT-1_post 0.00000000 0.00000000 0      0.00000000 0.00000000\n",
       "TTTGTGTTCGCGATGC-1_pre  0.07258065 0.00000000 0      0.00000000 0.00000000\n",
       "TTTGTGTTCTTAATCC-1_post 0.00000000 0.00000000 0      0.00000000 0.00000000\n",
       "                        X6776C     X7595A X7775A     X8770T     X9087A    \n",
       "AAACGAAAGCGTTGCC-1_post NA         NA     NA         NA         NA        \n",
       "AAACGAAAGGCTCCTG-1_pre  NA         NA     NA         NA         NA        \n",
       "AAACGAAAGGTTAACA-1_post NA         NA     NA         NA         NA        \n",
       "AAACGAAAGTGAATAC-1_pre  NA         NA     NA         NA         NA        \n",
       "AAACGAAAGTGCTAGG-1_post NA         NA     NA         NA         NA        \n",
       "AAACGAAAGTGTCACT-1_pre  NA         NA     NA         NA         NA        \n",
       "AAACGAACATAGAATG-1_post NA         NA     NA         NA         NA        \n",
       "AAACGAACATAGGCGA-1_pre  NA         NA     NA         NA         NA        \n",
       "AAACGAACATCCCAAA-1_post NA         NA     NA         NA         NA        \n",
       "AAACGAAGTACAAGCG-1_post NA         NA     NA         NA         NA        \n",
       "AAACGAAGTCCCGTGA-1_post NA         NA     NA         NA         NA        \n",
       "AAACGAAGTTAACTCG-1_pre  NA         NA     NA         NA         NA        \n",
       "AAACGAAGTTTCAGCA-1_post NA         NA     NA         NA         NA        \n",
       "AAACTCGAGACGACTG-1_post NA         NA     NA         NA         NA        \n",
       "AAACTCGAGGGCTCTC-1_post NA         NA     NA         NA         NA        \n",
       "AAACTCGAGGTCTTTG-1_post NA         NA     NA         NA         NA        \n",
       "AAACTCGAGGTTTCTG-1_post NA         NA     NA         NA         NA        \n",
       "AAACTCGAGTGTCACT-1_pre  NA         NA     NA         NA         NA        \n",
       "AAACTCGCAAAGGTCG-1_pre  NA         NA     NA         NA         NA        \n",
       "AAACTCGCAAGGAAGA-1_post NA         NA     NA         NA         NA        \n",
       "AAACTCGCACAAACGG-1_pre  NA         NA     NA         NA         NA        \n",
       "AAACTCGCACGCTAAT-1_post NA         NA     NA         NA         NA        \n",
       "AAACTCGCATCTGCAA-1_post NA         NA     NA         NA         NA        \n",
       "AAACTCGCATTTGTTC-1_pre  NA         NA     NA         NA         NA        \n",
       "AAACTCGGTGCCAAGA-1_pre  NA         NA     NA         NA         NA        \n",
       "AAACTCGGTTCCTATT-1_post NA         NA     NA         NA         NA        \n",
       "AAACTCGTCACACGTA-1_pre  NA         NA     NA         NA         NA        \n",
       "AAACTCGTCCTCCTGA-1_pre  NA         NA     NA         NA         NA        \n",
       "AAACTCGTCCTTCGAC-1_pre  NA         NA     NA         NA         NA        \n",
       "AAACTCGTCGTCTTAT-1_post NA         NA     NA         NA         NA        \n",
       "⋮                       ⋮          ⋮      ⋮          ⋮          ⋮         \n",
       "TTTGGCCCATAGATAG-1_post 0.00000000 0      0.00000000 0.00000000 0.00000000\n",
       "TTTGGCCGTAGTTTGC-1_pre  0.00000000 0      0.00000000 0.00000000 0.00000000\n",
       "TTTGGCCTCCATAACG-1_pre  0.11428571 0      0.00000000 0.02020202 0.00000000\n",
       "TTTGGCCTCCATACGA-1_post 0.00000000 0      0.04878049 0.00000000 0.00000000\n",
       "TTTGGCCTCCGTGCAG-1_post 0.00000000 0      0.00000000 0.00000000 0.00000000\n",
       "TTTGGCCTCGCTTACC-1_post 0.00000000 0      0.00000000 0.00000000 0.00000000\n",
       "TTTGGTTAGAGAGTAG-1_pre  0.00000000 0      0.00000000 0.00000000 0.00000000\n",
       "TTTGGTTAGCAACGGT-1_post 0.00000000 0      0.00000000 0.00000000 0.01923077\n",
       "TTTGGTTAGGCTGGAT-1_pre  0.00000000 0      0.01923077 0.00000000 0.00000000\n",
       "TTTGGTTAGTAGGTCG-1_post 0.00000000 0      0.00000000 0.00000000 0.00000000\n",
       "TTTGGTTAGTATACGA-1_pre  0.03389831 0      0.00000000 0.03125000 0.00000000\n",
       "TTTGGTTAGTCGCCTG-1_post 0.00000000 0      0.00000000 0.00000000 0.00000000\n",
       "TTTGGTTCAATTCTCT-1_post 0.03508772 0      0.00000000 0.00000000 0.00000000\n",
       "TTTGGTTCACGATATC-1_pre  0.00000000 0      0.00000000 0.00000000 0.00000000\n",
       "TTTGGTTCACGCGTTG-1_pre  0.00000000 0      0.02469136 0.00000000 0.00000000\n",
       "TTTGGTTCAGGGCTTC-1_post 0.03846154 0      0.00000000 0.00000000 0.00000000\n",
       "TTTGGTTGTCATAGAA-1_pre  0.00000000 0      0.00000000 0.00000000 0.00000000\n",
       "TTTGGTTGTGATTCCA-1_pre  0.00000000 0      0.00000000 0.00000000 0.03361345\n",
       "TTTGGTTGTGGACGAT-1_post 0.00000000 0      0.00000000 0.00000000 0.00000000\n",
       "TTTGGTTTCGACCCGA-1_post 0.00000000 0      0.00000000 0.00000000 0.00000000\n",
       "TTTGGTTTCGAGGCTC-1_pre  0.00000000 0      0.02777778 0.00000000 0.00000000\n",
       "TTTGGTTTCGTTCAGA-1_pre  0.00000000 0      0.00000000 0.00000000 0.00000000\n",
       "TTTGTGTCAAAGAGAG-1_post 0.00000000 0      0.00000000 0.00000000 0.00000000\n",
       "TTTGTGTCAAGGGTAC-1_pre  0.00000000 0      0.00000000 0.00000000 0.00000000\n",
       "TTTGTGTGTCATAAGA-1_pre  0.04545455 0      0.00000000 0.00000000 0.00000000\n",
       "TTTGTGTGTTCTTTCA-1_post 0.00000000 0      0.00000000 0.00000000 0.00000000\n",
       "TTTGTGTTCCGGAAAG-1_post 0.00000000 0      0.00000000 0.00000000 0.00000000\n",
       "TTTGTGTTCCTGACCT-1_post 0.03333333 0      0.00000000 0.00000000 0.00000000\n",
       "TTTGTGTTCGCGATGC-1_pre  0.00000000 0      0.00000000 0.00000000 0.00000000\n",
       "TTTGTGTTCTTAATCC-1_post 0.00000000 0      0.00000000 0.00000000 0.00000000"
      ]
     },
     "metadata": {},
     "output_type": "display_data"
    },
    {
     "name": "stdout",
     "output_type": "stream",
     "text": [
      "[1] \"here\"\n"
     ]
    },
    {
     "data": {
      "text/html": [
       "<table class=\"dataframe\">\n",
       "<caption>A data.frame: 6 × 44</caption>\n",
       "<thead>\n",
       "\t<tr><th></th><th scope=col>X3244A</th><th scope=col>X10646T</th><th scope=col>X12295C</th><th scope=col>X13188T</th><th scope=col>X14568A</th><th scope=col>X14766T</th><th scope=col>X150T</th><th scope=col>X16126C</th><th scope=col>X16362C</th><th scope=col>X16537T</th><th scope=col>⋯</th><th scope=col>X57C</th><th scope=col>X58C</th><th scope=col>X6093A</th><th scope=col>X6456A</th><th scope=col>X66T</th><th scope=col>X6776C</th><th scope=col>X7595A</th><th scope=col>X7775A</th><th scope=col>X8770T</th><th scope=col>X9087A</th></tr>\n",
       "\t<tr><th></th><th scope=col>&lt;dbl&gt;</th><th scope=col>&lt;dbl&gt;</th><th scope=col>&lt;dbl&gt;</th><th scope=col>&lt;dbl&gt;</th><th scope=col>&lt;dbl&gt;</th><th scope=col>&lt;dbl&gt;</th><th scope=col>&lt;dbl&gt;</th><th scope=col>&lt;dbl&gt;</th><th scope=col>&lt;dbl&gt;</th><th scope=col>&lt;dbl&gt;</th><th scope=col>⋯</th><th scope=col>&lt;dbl&gt;</th><th scope=col>&lt;dbl&gt;</th><th scope=col>&lt;dbl&gt;</th><th scope=col>&lt;dbl&gt;</th><th scope=col>&lt;dbl&gt;</th><th scope=col>&lt;dbl&gt;</th><th scope=col>&lt;dbl&gt;</th><th scope=col>&lt;dbl&gt;</th><th scope=col>&lt;dbl&gt;</th><th scope=col>&lt;dbl&gt;</th></tr>\n",
       "</thead>\n",
       "<tbody>\n",
       "\t<tr><th scope=row>post_AAACGAAAGCGTTGCC-1</th><td>0</td><td>0</td><td>0</td><td>0.00000000</td><td>0</td><td>0.2156863</td><td>0.06060606</td><td>0</td><td>0.02666667</td><td>0</td><td>⋯</td><td>NA</td><td>NA</td><td>NA</td><td>NA</td><td>NA</td><td>NA</td><td>NA</td><td>NA</td><td>NA</td><td>NA</td></tr>\n",
       "\t<tr><th scope=row>pre_AAACGAAAGGCTCCTG-1</th><td>0</td><td>0</td><td>0</td><td>0.00000000</td><td>0</td><td>0.0000000</td><td>0.00000000</td><td>0</td><td>0.00000000</td><td>0</td><td>⋯</td><td>NA</td><td>NA</td><td>NA</td><td>NA</td><td>NA</td><td>NA</td><td>NA</td><td>NA</td><td>NA</td><td>NA</td></tr>\n",
       "\t<tr><th scope=row>post_AAACGAAAGGTTAACA-1</th><td>0</td><td>0</td><td>0</td><td>0.01612903</td><td>0</td><td>0.0000000</td><td>0.00000000</td><td>0</td><td>0.03571429</td><td>0</td><td>⋯</td><td>NA</td><td>NA</td><td>NA</td><td>NA</td><td>NA</td><td>NA</td><td>NA</td><td>NA</td><td>NA</td><td>NA</td></tr>\n",
       "\t<tr><th scope=row>pre_AAACGAAAGTGAATAC-1</th><td>0</td><td>0</td><td>0</td><td>0.00000000</td><td>0</td><td>0.0000000</td><td>0.00000000</td><td>0</td><td>0.00000000</td><td>0</td><td>⋯</td><td>NA</td><td>NA</td><td>NA</td><td>NA</td><td>NA</td><td>NA</td><td>NA</td><td>NA</td><td>NA</td><td>NA</td></tr>\n",
       "\t<tr><th scope=row>post_AAACGAAAGTGCTAGG-1</th><td>0</td><td>0</td><td>0</td><td>0.03636364</td><td>0</td><td>0.0000000</td><td>0.00000000</td><td>0</td><td>0.00000000</td><td>0</td><td>⋯</td><td>NA</td><td>NA</td><td>NA</td><td>NA</td><td>NA</td><td>NA</td><td>NA</td><td>NA</td><td>NA</td><td>NA</td></tr>\n",
       "\t<tr><th scope=row>pre_AAACGAAAGTGTCACT-1</th><td>0</td><td>0</td><td>0</td><td>0.00000000</td><td>0</td><td>0.0000000</td><td>0.00000000</td><td>0</td><td>0.00000000</td><td>0</td><td>⋯</td><td>NA</td><td>NA</td><td>NA</td><td>NA</td><td>NA</td><td>NA</td><td>NA</td><td>NA</td><td>NA</td><td>NA</td></tr>\n",
       "</tbody>\n",
       "</table>\n"
      ],
      "text/latex": [
       "A data.frame: 6 × 44\n",
       "\\begin{tabular}{r|lllllllllllllllllllll}\n",
       "  & X3244A & X10646T & X12295C & X13188T & X14568A & X14766T & X150T & X16126C & X16362C & X16537T & ⋯ & X57C & X58C & X6093A & X6456A & X66T & X6776C & X7595A & X7775A & X8770T & X9087A\\\\\n",
       "  & <dbl> & <dbl> & <dbl> & <dbl> & <dbl> & <dbl> & <dbl> & <dbl> & <dbl> & <dbl> & ⋯ & <dbl> & <dbl> & <dbl> & <dbl> & <dbl> & <dbl> & <dbl> & <dbl> & <dbl> & <dbl>\\\\\n",
       "\\hline\n",
       "\tpost\\_AAACGAAAGCGTTGCC-1 & 0 & 0 & 0 & 0.00000000 & 0 & 0.2156863 & 0.06060606 & 0 & 0.02666667 & 0 & ⋯ & NA & NA & NA & NA & NA & NA & NA & NA & NA & NA\\\\\n",
       "\tpre\\_AAACGAAAGGCTCCTG-1 & 0 & 0 & 0 & 0.00000000 & 0 & 0.0000000 & 0.00000000 & 0 & 0.00000000 & 0 & ⋯ & NA & NA & NA & NA & NA & NA & NA & NA & NA & NA\\\\\n",
       "\tpost\\_AAACGAAAGGTTAACA-1 & 0 & 0 & 0 & 0.01612903 & 0 & 0.0000000 & 0.00000000 & 0 & 0.03571429 & 0 & ⋯ & NA & NA & NA & NA & NA & NA & NA & NA & NA & NA\\\\\n",
       "\tpre\\_AAACGAAAGTGAATAC-1 & 0 & 0 & 0 & 0.00000000 & 0 & 0.0000000 & 0.00000000 & 0 & 0.00000000 & 0 & ⋯ & NA & NA & NA & NA & NA & NA & NA & NA & NA & NA\\\\\n",
       "\tpost\\_AAACGAAAGTGCTAGG-1 & 0 & 0 & 0 & 0.03636364 & 0 & 0.0000000 & 0.00000000 & 0 & 0.00000000 & 0 & ⋯ & NA & NA & NA & NA & NA & NA & NA & NA & NA & NA\\\\\n",
       "\tpre\\_AAACGAAAGTGTCACT-1 & 0 & 0 & 0 & 0.00000000 & 0 & 0.0000000 & 0.00000000 & 0 & 0.00000000 & 0 & ⋯ & NA & NA & NA & NA & NA & NA & NA & NA & NA & NA\\\\\n",
       "\\end{tabular}\n"
      ],
      "text/markdown": [
       "\n",
       "A data.frame: 6 × 44\n",
       "\n",
       "| <!--/--> | X3244A &lt;dbl&gt; | X10646T &lt;dbl&gt; | X12295C &lt;dbl&gt; | X13188T &lt;dbl&gt; | X14568A &lt;dbl&gt; | X14766T &lt;dbl&gt; | X150T &lt;dbl&gt; | X16126C &lt;dbl&gt; | X16362C &lt;dbl&gt; | X16537T &lt;dbl&gt; | ⋯ ⋯ | X57C &lt;dbl&gt; | X58C &lt;dbl&gt; | X6093A &lt;dbl&gt; | X6456A &lt;dbl&gt; | X66T &lt;dbl&gt; | X6776C &lt;dbl&gt; | X7595A &lt;dbl&gt; | X7775A &lt;dbl&gt; | X8770T &lt;dbl&gt; | X9087A &lt;dbl&gt; |\n",
       "|---|---|---|---|---|---|---|---|---|---|---|---|---|---|---|---|---|---|---|---|---|---|\n",
       "| post_AAACGAAAGCGTTGCC-1 | 0 | 0 | 0 | 0.00000000 | 0 | 0.2156863 | 0.06060606 | 0 | 0.02666667 | 0 | ⋯ | NA | NA | NA | NA | NA | NA | NA | NA | NA | NA |\n",
       "| pre_AAACGAAAGGCTCCTG-1 | 0 | 0 | 0 | 0.00000000 | 0 | 0.0000000 | 0.00000000 | 0 | 0.00000000 | 0 | ⋯ | NA | NA | NA | NA | NA | NA | NA | NA | NA | NA |\n",
       "| post_AAACGAAAGGTTAACA-1 | 0 | 0 | 0 | 0.01612903 | 0 | 0.0000000 | 0.00000000 | 0 | 0.03571429 | 0 | ⋯ | NA | NA | NA | NA | NA | NA | NA | NA | NA | NA |\n",
       "| pre_AAACGAAAGTGAATAC-1 | 0 | 0 | 0 | 0.00000000 | 0 | 0.0000000 | 0.00000000 | 0 | 0.00000000 | 0 | ⋯ | NA | NA | NA | NA | NA | NA | NA | NA | NA | NA |\n",
       "| post_AAACGAAAGTGCTAGG-1 | 0 | 0 | 0 | 0.03636364 | 0 | 0.0000000 | 0.00000000 | 0 | 0.00000000 | 0 | ⋯ | NA | NA | NA | NA | NA | NA | NA | NA | NA | NA |\n",
       "| pre_AAACGAAAGTGTCACT-1 | 0 | 0 | 0 | 0.00000000 | 0 | 0.0000000 | 0.00000000 | 0 | 0.00000000 | 0 | ⋯ | NA | NA | NA | NA | NA | NA | NA | NA | NA | NA |\n",
       "\n"
      ],
      "text/plain": [
       "                        X3244A X10646T X12295C X13188T    X14568A X14766T  \n",
       "post_AAACGAAAGCGTTGCC-1 0      0       0       0.00000000 0       0.2156863\n",
       "pre_AAACGAAAGGCTCCTG-1  0      0       0       0.00000000 0       0.0000000\n",
       "post_AAACGAAAGGTTAACA-1 0      0       0       0.01612903 0       0.0000000\n",
       "pre_AAACGAAAGTGAATAC-1  0      0       0       0.00000000 0       0.0000000\n",
       "post_AAACGAAAGTGCTAGG-1 0      0       0       0.03636364 0       0.0000000\n",
       "pre_AAACGAAAGTGTCACT-1  0      0       0       0.00000000 0       0.0000000\n",
       "                        X150T      X16126C X16362C    X16537T ⋯ X57C X58C\n",
       "post_AAACGAAAGCGTTGCC-1 0.06060606 0       0.02666667 0       ⋯ NA   NA  \n",
       "pre_AAACGAAAGGCTCCTG-1  0.00000000 0       0.00000000 0       ⋯ NA   NA  \n",
       "post_AAACGAAAGGTTAACA-1 0.00000000 0       0.03571429 0       ⋯ NA   NA  \n",
       "pre_AAACGAAAGTGAATAC-1  0.00000000 0       0.00000000 0       ⋯ NA   NA  \n",
       "post_AAACGAAAGTGCTAGG-1 0.00000000 0       0.00000000 0       ⋯ NA   NA  \n",
       "pre_AAACGAAAGTGTCACT-1  0.00000000 0       0.00000000 0       ⋯ NA   NA  \n",
       "                        X6093A X6456A X66T X6776C X7595A X7775A X8770T X9087A\n",
       "post_AAACGAAAGCGTTGCC-1 NA     NA     NA   NA     NA     NA     NA     NA    \n",
       "pre_AAACGAAAGGCTCCTG-1  NA     NA     NA   NA     NA     NA     NA     NA    \n",
       "post_AAACGAAAGGTTAACA-1 NA     NA     NA   NA     NA     NA     NA     NA    \n",
       "pre_AAACGAAAGTGAATAC-1  NA     NA     NA   NA     NA     NA     NA     NA    \n",
       "post_AAACGAAAGTGCTAGG-1 NA     NA     NA   NA     NA     NA     NA     NA    \n",
       "pre_AAACGAAAGTGTCACT-1  NA     NA     NA   NA     NA     NA     NA     NA    "
      ]
     },
     "metadata": {},
     "output_type": "display_data"
    }
   ],
   "source": [
    "cells_meta <- read.table(cells_meta_f, sep=\"\\t\", header = T, row.names=\"cell\")\n",
    "cells_meta \n",
    "\n",
    "#cells_meta\n",
    "ids.reversed = T\n",
    "\n",
    "if (ids.reversed){\n",
    "    print('here')\n",
    "    split.names <- stringr::str_split(rownames(cells_meta), \"_\")\n",
    "    rownames(cells_meta) = lapply(split.names, function(x){paste0(x[2], \"_\", x[1])})\n",
    "}\n",
    "cells_meta = cells_meta[, order(colSums(-cells_meta))]\n",
    "head(cells_meta)"
   ]
  },
  {
   "cell_type": "code",
   "execution_count": 7,
   "id": "8461e0f1",
   "metadata": {
    "scrolled": false
   },
   "outputs": [
    {
     "data": {
      "text/plain": [
       "An object of class Seurat \n",
       "97805 features across 22239 samples within 2 assays \n",
       "Active assay: RNA (19575 features, 0 variable features)\n",
       " 1 other assay present: ATAC\n",
       " 2 dimensional reductions calculated: integrated_lsi, umap"
      ]
     },
     "metadata": {},
     "output_type": "display_data"
    }
   ],
   "source": [
    "se <- readRDS(se_f)#file.path(indir, paste0(\"allSamples.integrated.rds\")))\n",
    "se"
   ]
  },
  {
   "cell_type": "markdown",
   "id": "85cdcf54",
   "metadata": {},
   "source": [
    "### Subset to just in cells_meta"
   ]
  },
  {
   "cell_type": "code",
   "execution_count": 8,
   "id": "731422c4",
   "metadata": {},
   "outputs": [
    {
     "data": {
      "text/html": [
       "<style>\n",
       ".list-inline {list-style: none; margin:0; padding: 0}\n",
       ".list-inline>li {display: inline-block}\n",
       ".list-inline>li:not(:last-child)::after {content: \"\\00b7\"; padding: 0 .5ex}\n",
       "</style>\n",
       "<ol class=list-inline><li>0.662259993704753</li><li>14728</li></ol>\n"
      ],
      "text/latex": [
       "\\begin{enumerate*}\n",
       "\\item 0.662259993704753\n",
       "\\item 14728\n",
       "\\end{enumerate*}\n"
      ],
      "text/markdown": [
       "1. 0.662259993704753\n",
       "2. 14728\n",
       "\n",
       "\n"
      ],
      "text/plain": [
       "[1] 6.6226e-01 1.4728e+04"
      ]
     },
     "metadata": {},
     "output_type": "display_data"
    }
   ],
   "source": [
    "se$inClones = 0\n",
    "se[[\"inClones\"]][(colnames(se) %in% row.names(cells_meta)), \"inClones\"] = 1\n",
    "\n",
    "sum(se[[\"inClones\"]])/dim(se[[]][1])\n",
    "\n",
    "se.filt <- subset(se, subset = inClones == 1 )"
   ]
  },
  {
   "cell_type": "code",
   "execution_count": 9,
   "id": "55290def",
   "metadata": {},
   "outputs": [],
   "source": [
    "se.filt <- AddMetaData(se.filt, cells_meta)"
   ]
  },
  {
   "cell_type": "code",
   "execution_count": 10,
   "id": "9e177d24",
   "metadata": {
    "scrolled": false
   },
   "outputs": [
    {
     "data": {
      "text/plain": [
       "An object of class Seurat \n",
       "97805 features across 22239 samples within 2 assays \n",
       "Active assay: RNA (19575 features, 0 variable features)\n",
       " 1 other assay present: ATAC\n",
       " 2 dimensional reductions calculated: integrated_lsi, umap"
      ]
     },
     "metadata": {},
     "output_type": "display_data"
    }
   ],
   "source": [
    "se"
   ]
  },
  {
   "cell_type": "code",
   "execution_count": 11,
   "id": "2f296e45",
   "metadata": {
    "scrolled": true
   },
   "outputs": [
    {
     "data": {
      "text/plain": [
       "An object of class Seurat \n",
       "97805 features across 14728 samples within 2 assays \n",
       "Active assay: RNA (19575 features, 0 variable features)\n",
       " 1 other assay present: ATAC\n",
       " 2 dimensional reductions calculated: integrated_lsi, umap"
      ]
     },
     "metadata": {},
     "output_type": "display_data"
    }
   ],
   "source": [
    "se.filt"
   ]
  },
  {
   "cell_type": "code",
   "execution_count": 12,
   "id": "b1c35c94",
   "metadata": {
    "scrolled": true
   },
   "outputs": [
    {
     "name": "stderr",
     "output_type": "stream",
     "text": [
      "`summarise()` has grouped output by 'condition', 'donor', 'lineage'. You can override using the `.groups` argument.\n",
      "\n",
      "Warning message in xtfrm.data.frame(x):\n",
      "\"cannot xtfrm data frames\"\n",
      "`summarise()` has grouped output by 'donor'. You can override using the `.groups` argument.\n",
      "\n"
     ]
    },
    {
     "data": {
      "text/html": [
       "<table class=\"dataframe\">\n",
       "<caption>A tibble: 6 × 8</caption>\n",
       "<thead>\n",
       "\t<tr><th scope=col>donor</th><th scope=col>lineage</th><th scope=col>norm.total</th><th scope=col>total</th><th scope=col>name</th><th scope=col>cdf.norm</th><th scope=col>cdf</th><th scope=col>index</th></tr>\n",
       "\t<tr><th scope=col>&lt;fct&gt;</th><th scope=col>&lt;fct&gt;</th><th scope=col>&lt;dbl&gt;</th><th scope=col>&lt;int&gt;</th><th scope=col>&lt;fct&gt;</th><th scope=col>&lt;dbl&gt;</th><th scope=col>&lt;int&gt;</th><th scope=col>&lt;int&gt;</th></tr>\n",
       "</thead>\n",
       "<tbody>\n",
       "\t<tr><td>0</td><td>0</td><td>0.13454113</td><td>455</td><td>0_0</td><td>0.06727057</td><td> 455</td><td>1</td></tr>\n",
       "\t<tr><td>0</td><td>1</td><td>0.08543635</td><td>299</td><td>0_1</td><td>0.10998874</td><td> 754</td><td>2</td></tr>\n",
       "\t<tr><td>0</td><td>5</td><td>0.08101728</td><td>234</td><td>0_5</td><td>0.15049738</td><td> 988</td><td>3</td></tr>\n",
       "\t<tr><td>0</td><td>3</td><td>0.07759196</td><td>252</td><td>0_3</td><td>0.18929336</td><td>1240</td><td>4</td></tr>\n",
       "\t<tr><td>0</td><td>2</td><td>0.07582740</td><td>264</td><td>0_2</td><td>0.22720706</td><td>1504</td><td>5</td></tr>\n",
       "\t<tr><td>0</td><td>4</td><td>0.06708339</td><td>239</td><td>0_4</td><td>0.26074876</td><td>1743</td><td>6</td></tr>\n",
       "</tbody>\n",
       "</table>\n"
      ],
      "text/latex": [
       "A tibble: 6 × 8\n",
       "\\begin{tabular}{llllllll}\n",
       " donor & lineage & norm.total & total & name & cdf.norm & cdf & index\\\\\n",
       " <fct> & <fct> & <dbl> & <int> & <fct> & <dbl> & <int> & <int>\\\\\n",
       "\\hline\n",
       "\t 0 & 0 & 0.13454113 & 455 & 0\\_0 & 0.06727057 &  455 & 1\\\\\n",
       "\t 0 & 1 & 0.08543635 & 299 & 0\\_1 & 0.10998874 &  754 & 2\\\\\n",
       "\t 0 & 5 & 0.08101728 & 234 & 0\\_5 & 0.15049738 &  988 & 3\\\\\n",
       "\t 0 & 3 & 0.07759196 & 252 & 0\\_3 & 0.18929336 & 1240 & 4\\\\\n",
       "\t 0 & 2 & 0.07582740 & 264 & 0\\_2 & 0.22720706 & 1504 & 5\\\\\n",
       "\t 0 & 4 & 0.06708339 & 239 & 0\\_4 & 0.26074876 & 1743 & 6\\\\\n",
       "\\end{tabular}\n"
      ],
      "text/markdown": [
       "\n",
       "A tibble: 6 × 8\n",
       "\n",
       "| donor &lt;fct&gt; | lineage &lt;fct&gt; | norm.total &lt;dbl&gt; | total &lt;int&gt; | name &lt;fct&gt; | cdf.norm &lt;dbl&gt; | cdf &lt;int&gt; | index &lt;int&gt; |\n",
       "|---|---|---|---|---|---|---|---|\n",
       "| 0 | 0 | 0.13454113 | 455 | 0_0 | 0.06727057 |  455 | 1 |\n",
       "| 0 | 1 | 0.08543635 | 299 | 0_1 | 0.10998874 |  754 | 2 |\n",
       "| 0 | 5 | 0.08101728 | 234 | 0_5 | 0.15049738 |  988 | 3 |\n",
       "| 0 | 3 | 0.07759196 | 252 | 0_3 | 0.18929336 | 1240 | 4 |\n",
       "| 0 | 2 | 0.07582740 | 264 | 0_2 | 0.22720706 | 1504 | 5 |\n",
       "| 0 | 4 | 0.06708339 | 239 | 0_4 | 0.26074876 | 1743 | 6 |\n",
       "\n"
      ],
      "text/plain": [
       "  donor lineage norm.total total name cdf.norm   cdf  index\n",
       "1 0     0       0.13454113 455   0_0  0.06727057  455 1    \n",
       "2 0     1       0.08543635 299   0_1  0.10998874  754 2    \n",
       "3 0     5       0.08101728 234   0_5  0.15049738  988 3    \n",
       "4 0     3       0.07759196 252   0_3  0.18929336 1240 4    \n",
       "5 0     2       0.07582740 264   0_2  0.22720706 1504 5    \n",
       "6 0     4       0.06708339 239   0_4  0.26074876 1743 6    "
      ]
     },
     "metadata": {},
     "output_type": "display_data"
    }
   ],
   "source": [
    "source(utils_script)\n",
    "tmp <- get.clone.sizes(se.filt)\n",
    "counts.conds.norm <- tmp[[\"counts.norm\"]]\n",
    "clone.sizes <- tmp[[\"clone.size\"]]\n",
    "head(clone.sizes)"
   ]
  },
  {
   "cell_type": "markdown",
   "id": "92fe40c1",
   "metadata": {},
   "source": [
    "## plot each clone pre and post "
   ]
  },
  {
   "cell_type": "code",
   "execution_count": 13,
   "id": "1b3bb198",
   "metadata": {
    "scrolled": true
   },
   "outputs": [
    {
     "data": {
      "text/html": [
       "<style>\n",
       ".list-inline {list-style: none; margin:0; padding: 0}\n",
       ".list-inline>li {display: inline-block}\n",
       ".list-inline>li:not(:last-child)::after {content: \"\\00b7\"; padding: 0 .5ex}\n",
       "</style>\n",
       "<ol class=list-inline><li>'X3244A'</li><li>'X10646T'</li><li>'X12295C'</li><li>'X13188T'</li><li>'X14568A'</li><li>'X14766T'</li><li>'X150T'</li><li>'X16126C'</li><li>'X16362C'</li><li>'X16537T'</li><li>'X2351C'</li><li>'X2442C'</li><li>'X2623G'</li><li>'X2706G'</li><li>'X3847C'</li><li>'X4248C'</li><li>'X64T'</li><li>'X7028T'</li><li>'X9390G'</li><li>'X9531G'</li><li>'X1095C'</li><li>'X11590G'</li><li>'X11838A'</li><li>'X12217G'</li><li>'X13108A'</li><li>'X14687G'</li><li>'X14945A'</li><li>'X152C'</li><li>'X15821A'</li><li>'X16223T'</li><li>'X16519C'</li><li>'X1949A'</li><li>'X318A'</li><li>'X3591A'</li><li>'X57C'</li><li>'X58C'</li><li>'X6093A'</li><li>'X6456A'</li><li>'X66T'</li><li>'X6776C'</li><li>'X7595A'</li><li>'X7775A'</li><li>'X8770T'</li><li>'X9087A'</li></ol>\n"
      ],
      "text/latex": [
       "\\begin{enumerate*}\n",
       "\\item 'X3244A'\n",
       "\\item 'X10646T'\n",
       "\\item 'X12295C'\n",
       "\\item 'X13188T'\n",
       "\\item 'X14568A'\n",
       "\\item 'X14766T'\n",
       "\\item 'X150T'\n",
       "\\item 'X16126C'\n",
       "\\item 'X16362C'\n",
       "\\item 'X16537T'\n",
       "\\item 'X2351C'\n",
       "\\item 'X2442C'\n",
       "\\item 'X2623G'\n",
       "\\item 'X2706G'\n",
       "\\item 'X3847C'\n",
       "\\item 'X4248C'\n",
       "\\item 'X64T'\n",
       "\\item 'X7028T'\n",
       "\\item 'X9390G'\n",
       "\\item 'X9531G'\n",
       "\\item 'X1095C'\n",
       "\\item 'X11590G'\n",
       "\\item 'X11838A'\n",
       "\\item 'X12217G'\n",
       "\\item 'X13108A'\n",
       "\\item 'X14687G'\n",
       "\\item 'X14945A'\n",
       "\\item 'X152C'\n",
       "\\item 'X15821A'\n",
       "\\item 'X16223T'\n",
       "\\item 'X16519C'\n",
       "\\item 'X1949A'\n",
       "\\item 'X318A'\n",
       "\\item 'X3591A'\n",
       "\\item 'X57C'\n",
       "\\item 'X58C'\n",
       "\\item 'X6093A'\n",
       "\\item 'X6456A'\n",
       "\\item 'X66T'\n",
       "\\item 'X6776C'\n",
       "\\item 'X7595A'\n",
       "\\item 'X7775A'\n",
       "\\item 'X8770T'\n",
       "\\item 'X9087A'\n",
       "\\end{enumerate*}\n"
      ],
      "text/markdown": [
       "1. 'X3244A'\n",
       "2. 'X10646T'\n",
       "3. 'X12295C'\n",
       "4. 'X13188T'\n",
       "5. 'X14568A'\n",
       "6. 'X14766T'\n",
       "7. 'X150T'\n",
       "8. 'X16126C'\n",
       "9. 'X16362C'\n",
       "10. 'X16537T'\n",
       "11. 'X2351C'\n",
       "12. 'X2442C'\n",
       "13. 'X2623G'\n",
       "14. 'X2706G'\n",
       "15. 'X3847C'\n",
       "16. 'X4248C'\n",
       "17. 'X64T'\n",
       "18. 'X7028T'\n",
       "19. 'X9390G'\n",
       "20. 'X9531G'\n",
       "21. 'X1095C'\n",
       "22. 'X11590G'\n",
       "23. 'X11838A'\n",
       "24. 'X12217G'\n",
       "25. 'X13108A'\n",
       "26. 'X14687G'\n",
       "27. 'X14945A'\n",
       "28. 'X152C'\n",
       "29. 'X15821A'\n",
       "30. 'X16223T'\n",
       "31. 'X16519C'\n",
       "32. 'X1949A'\n",
       "33. 'X318A'\n",
       "34. 'X3591A'\n",
       "35. 'X57C'\n",
       "36. 'X58C'\n",
       "37. 'X6093A'\n",
       "38. 'X6456A'\n",
       "39. 'X66T'\n",
       "40. 'X6776C'\n",
       "41. 'X7595A'\n",
       "42. 'X7775A'\n",
       "43. 'X8770T'\n",
       "44. 'X9087A'\n",
       "\n",
       "\n"
      ],
      "text/plain": [
       " [1] \"X3244A\"  \"X10646T\" \"X12295C\" \"X13188T\" \"X14568A\" \"X14766T\" \"X150T\"  \n",
       " [8] \"X16126C\" \"X16362C\" \"X16537T\" \"X2351C\"  \"X2442C\"  \"X2623G\"  \"X2706G\" \n",
       "[15] \"X3847C\"  \"X4248C\"  \"X64T\"    \"X7028T\"  \"X9390G\"  \"X9531G\"  \"X1095C\" \n",
       "[22] \"X11590G\" \"X11838A\" \"X12217G\" \"X13108A\" \"X14687G\" \"X14945A\" \"X152C\"  \n",
       "[29] \"X15821A\" \"X16223T\" \"X16519C\" \"X1949A\"  \"X318A\"   \"X3591A\"  \"X57C\"   \n",
       "[36] \"X58C\"    \"X6093A\"  \"X6456A\"  \"X66T\"    \"X6776C\"  \"X7595A\"  \"X7775A\" \n",
       "[43] \"X8770T\"  \"X9087A\" "
      ]
     },
     "metadata": {},
     "output_type": "display_data"
    }
   ],
   "source": [
    "mt.vars <- colnames(cells_meta)\n",
    "mt.vars"
   ]
  },
  {
   "cell_type": "code",
   "execution_count": 14,
   "id": "7d75bc16",
   "metadata": {
    "scrolled": true
   },
   "outputs": [
    {
     "name": "stdout",
     "output_type": "stream",
     "text": [
      "[1] \"X3244A\"\n"
     ]
    },
    {
     "name": "stderr",
     "output_type": "stream",
     "text": [
      "Saving 6.67 x 6.67 in image\n",
      "\n",
      "Saving 6.67 x 6.67 in image\n",
      "\n"
     ]
    },
    {
     "name": "stdout",
     "output_type": "stream",
     "text": [
      "[1] \"X10646T\"\n"
     ]
    },
    {
     "name": "stderr",
     "output_type": "stream",
     "text": [
      "Saving 6.67 x 6.67 in image\n",
      "\n",
      "Saving 6.67 x 6.67 in image\n",
      "\n"
     ]
    },
    {
     "name": "stdout",
     "output_type": "stream",
     "text": [
      "[1] \"X12295C\"\n"
     ]
    },
    {
     "name": "stderr",
     "output_type": "stream",
     "text": [
      "Saving 6.67 x 6.67 in image\n",
      "\n",
      "Saving 6.67 x 6.67 in image\n",
      "\n"
     ]
    },
    {
     "name": "stdout",
     "output_type": "stream",
     "text": [
      "[1] \"X13188T\"\n"
     ]
    },
    {
     "name": "stderr",
     "output_type": "stream",
     "text": [
      "Saving 6.67 x 6.67 in image\n",
      "\n",
      "Saving 6.67 x 6.67 in image\n",
      "\n"
     ]
    },
    {
     "name": "stdout",
     "output_type": "stream",
     "text": [
      "[1] \"X14568A\"\n"
     ]
    },
    {
     "name": "stderr",
     "output_type": "stream",
     "text": [
      "Saving 6.67 x 6.67 in image\n",
      "\n",
      "Saving 6.67 x 6.67 in image\n",
      "\n"
     ]
    },
    {
     "name": "stdout",
     "output_type": "stream",
     "text": [
      "[1] \"X14766T\"\n"
     ]
    },
    {
     "name": "stderr",
     "output_type": "stream",
     "text": [
      "Saving 6.67 x 6.67 in image\n",
      "\n",
      "Saving 6.67 x 6.67 in image\n",
      "\n"
     ]
    },
    {
     "name": "stdout",
     "output_type": "stream",
     "text": [
      "[1] \"X150T\"\n"
     ]
    },
    {
     "name": "stderr",
     "output_type": "stream",
     "text": [
      "Saving 6.67 x 6.67 in image\n",
      "\n",
      "Saving 6.67 x 6.67 in image\n",
      "\n"
     ]
    },
    {
     "name": "stdout",
     "output_type": "stream",
     "text": [
      "[1] \"X16126C\"\n"
     ]
    },
    {
     "name": "stderr",
     "output_type": "stream",
     "text": [
      "Saving 6.67 x 6.67 in image\n",
      "\n",
      "Saving 6.67 x 6.67 in image\n",
      "\n"
     ]
    },
    {
     "name": "stdout",
     "output_type": "stream",
     "text": [
      "[1] \"X16362C\"\n"
     ]
    },
    {
     "name": "stderr",
     "output_type": "stream",
     "text": [
      "Saving 6.67 x 6.67 in image\n",
      "\n",
      "Saving 6.67 x 6.67 in image\n",
      "\n"
     ]
    },
    {
     "name": "stdout",
     "output_type": "stream",
     "text": [
      "[1] \"X16537T\"\n"
     ]
    },
    {
     "name": "stderr",
     "output_type": "stream",
     "text": [
      "Saving 6.67 x 6.67 in image\n",
      "\n",
      "Saving 6.67 x 6.67 in image\n",
      "\n"
     ]
    },
    {
     "name": "stdout",
     "output_type": "stream",
     "text": [
      "[1] \"X2351C\"\n"
     ]
    },
    {
     "name": "stderr",
     "output_type": "stream",
     "text": [
      "Saving 6.67 x 6.67 in image\n",
      "\n",
      "Saving 6.67 x 6.67 in image\n",
      "\n"
     ]
    },
    {
     "name": "stdout",
     "output_type": "stream",
     "text": [
      "[1] \"X2442C\"\n"
     ]
    },
    {
     "name": "stderr",
     "output_type": "stream",
     "text": [
      "Saving 6.67 x 6.67 in image\n",
      "\n",
      "Saving 6.67 x 6.67 in image\n",
      "\n"
     ]
    },
    {
     "name": "stdout",
     "output_type": "stream",
     "text": [
      "[1] \"X2623G\"\n"
     ]
    },
    {
     "name": "stderr",
     "output_type": "stream",
     "text": [
      "Saving 6.67 x 6.67 in image\n",
      "\n",
      "Saving 6.67 x 6.67 in image\n",
      "\n"
     ]
    },
    {
     "name": "stdout",
     "output_type": "stream",
     "text": [
      "[1] \"X2706G\"\n"
     ]
    },
    {
     "name": "stderr",
     "output_type": "stream",
     "text": [
      "Saving 6.67 x 6.67 in image\n",
      "\n",
      "Saving 6.67 x 6.67 in image\n",
      "\n"
     ]
    },
    {
     "name": "stdout",
     "output_type": "stream",
     "text": [
      "[1] \"X3847C\"\n"
     ]
    },
    {
     "name": "stderr",
     "output_type": "stream",
     "text": [
      "Saving 6.67 x 6.67 in image\n",
      "\n",
      "Saving 6.67 x 6.67 in image\n",
      "\n"
     ]
    },
    {
     "name": "stdout",
     "output_type": "stream",
     "text": [
      "[1] \"X4248C\"\n"
     ]
    },
    {
     "name": "stderr",
     "output_type": "stream",
     "text": [
      "Saving 6.67 x 6.67 in image\n",
      "\n",
      "Saving 6.67 x 6.67 in image\n",
      "\n"
     ]
    },
    {
     "name": "stdout",
     "output_type": "stream",
     "text": [
      "[1] \"X64T\"\n"
     ]
    },
    {
     "name": "stderr",
     "output_type": "stream",
     "text": [
      "Saving 6.67 x 6.67 in image\n",
      "\n",
      "Saving 6.67 x 6.67 in image\n",
      "\n"
     ]
    },
    {
     "name": "stdout",
     "output_type": "stream",
     "text": [
      "[1] \"X7028T\"\n"
     ]
    },
    {
     "name": "stderr",
     "output_type": "stream",
     "text": [
      "Saving 6.67 x 6.67 in image\n",
      "\n",
      "Saving 6.67 x 6.67 in image\n",
      "\n"
     ]
    },
    {
     "name": "stdout",
     "output_type": "stream",
     "text": [
      "[1] \"X9390G\"\n"
     ]
    },
    {
     "name": "stderr",
     "output_type": "stream",
     "text": [
      "Saving 6.67 x 6.67 in image\n",
      "\n",
      "Saving 6.67 x 6.67 in image\n",
      "\n"
     ]
    },
    {
     "name": "stdout",
     "output_type": "stream",
     "text": [
      "[1] \"X9531G\"\n"
     ]
    },
    {
     "name": "stderr",
     "output_type": "stream",
     "text": [
      "Saving 6.67 x 6.67 in image\n",
      "\n",
      "Saving 6.67 x 6.67 in image\n",
      "\n"
     ]
    },
    {
     "name": "stdout",
     "output_type": "stream",
     "text": [
      "[1] \"X1095C\"\n"
     ]
    },
    {
     "name": "stderr",
     "output_type": "stream",
     "text": [
      "Saving 6.67 x 6.67 in image\n",
      "\n",
      "Saving 6.67 x 6.67 in image\n",
      "\n"
     ]
    },
    {
     "name": "stdout",
     "output_type": "stream",
     "text": [
      "[1] \"X11590G\"\n"
     ]
    },
    {
     "name": "stderr",
     "output_type": "stream",
     "text": [
      "Saving 6.67 x 6.67 in image\n",
      "\n",
      "Saving 6.67 x 6.67 in image\n",
      "\n"
     ]
    },
    {
     "name": "stdout",
     "output_type": "stream",
     "text": [
      "[1] \"X11838A\"\n"
     ]
    },
    {
     "name": "stderr",
     "output_type": "stream",
     "text": [
      "Saving 6.67 x 6.67 in image\n",
      "\n",
      "Saving 6.67 x 6.67 in image\n",
      "\n"
     ]
    },
    {
     "name": "stdout",
     "output_type": "stream",
     "text": [
      "[1] \"X12217G\"\n"
     ]
    },
    {
     "name": "stderr",
     "output_type": "stream",
     "text": [
      "Saving 6.67 x 6.67 in image\n",
      "\n",
      "Saving 6.67 x 6.67 in image\n",
      "\n"
     ]
    },
    {
     "name": "stdout",
     "output_type": "stream",
     "text": [
      "[1] \"X13108A\"\n"
     ]
    },
    {
     "name": "stderr",
     "output_type": "stream",
     "text": [
      "Saving 6.67 x 6.67 in image\n",
      "\n",
      "Saving 6.67 x 6.67 in image\n",
      "\n"
     ]
    },
    {
     "name": "stdout",
     "output_type": "stream",
     "text": [
      "[1] \"X14687G\"\n"
     ]
    },
    {
     "name": "stderr",
     "output_type": "stream",
     "text": [
      "Saving 6.67 x 6.67 in image\n",
      "\n",
      "Saving 6.67 x 6.67 in image\n",
      "\n"
     ]
    },
    {
     "name": "stdout",
     "output_type": "stream",
     "text": [
      "[1] \"X14945A\"\n"
     ]
    },
    {
     "name": "stderr",
     "output_type": "stream",
     "text": [
      "Saving 6.67 x 6.67 in image\n",
      "\n",
      "Saving 6.67 x 6.67 in image\n",
      "\n"
     ]
    },
    {
     "name": "stdout",
     "output_type": "stream",
     "text": [
      "[1] \"X152C\"\n"
     ]
    },
    {
     "name": "stderr",
     "output_type": "stream",
     "text": [
      "Saving 6.67 x 6.67 in image\n",
      "\n",
      "Saving 6.67 x 6.67 in image\n",
      "\n"
     ]
    },
    {
     "name": "stdout",
     "output_type": "stream",
     "text": [
      "[1] \"X15821A\"\n"
     ]
    },
    {
     "name": "stderr",
     "output_type": "stream",
     "text": [
      "Saving 6.67 x 6.67 in image\n",
      "\n",
      "Saving 6.67 x 6.67 in image\n",
      "\n"
     ]
    },
    {
     "name": "stdout",
     "output_type": "stream",
     "text": [
      "[1] \"X16223T\"\n"
     ]
    },
    {
     "name": "stderr",
     "output_type": "stream",
     "text": [
      "Saving 6.67 x 6.67 in image\n",
      "\n",
      "Saving 6.67 x 6.67 in image\n",
      "\n"
     ]
    },
    {
     "name": "stdout",
     "output_type": "stream",
     "text": [
      "[1] \"X16519C\"\n"
     ]
    },
    {
     "name": "stderr",
     "output_type": "stream",
     "text": [
      "Saving 6.67 x 6.67 in image\n",
      "\n",
      "Saving 6.67 x 6.67 in image\n",
      "\n"
     ]
    },
    {
     "name": "stdout",
     "output_type": "stream",
     "text": [
      "[1] \"X1949A\"\n"
     ]
    },
    {
     "name": "stderr",
     "output_type": "stream",
     "text": [
      "Saving 6.67 x 6.67 in image\n",
      "\n",
      "Saving 6.67 x 6.67 in image\n",
      "\n"
     ]
    },
    {
     "name": "stdout",
     "output_type": "stream",
     "text": [
      "[1] \"X318A\"\n"
     ]
    },
    {
     "name": "stderr",
     "output_type": "stream",
     "text": [
      "Saving 6.67 x 6.67 in image\n",
      "\n",
      "Saving 6.67 x 6.67 in image\n",
      "\n"
     ]
    },
    {
     "name": "stdout",
     "output_type": "stream",
     "text": [
      "[1] \"X3591A\"\n"
     ]
    },
    {
     "name": "stderr",
     "output_type": "stream",
     "text": [
      "Saving 6.67 x 6.67 in image\n",
      "\n",
      "Saving 6.67 x 6.67 in image\n",
      "\n"
     ]
    },
    {
     "name": "stdout",
     "output_type": "stream",
     "text": [
      "[1] \"X57C\"\n"
     ]
    },
    {
     "name": "stderr",
     "output_type": "stream",
     "text": [
      "Saving 6.67 x 6.67 in image\n",
      "\n",
      "Saving 6.67 x 6.67 in image\n",
      "\n"
     ]
    },
    {
     "name": "stdout",
     "output_type": "stream",
     "text": [
      "[1] \"X58C\"\n"
     ]
    },
    {
     "name": "stderr",
     "output_type": "stream",
     "text": [
      "Saving 6.67 x 6.67 in image\n",
      "\n",
      "Saving 6.67 x 6.67 in image\n",
      "\n"
     ]
    },
    {
     "name": "stdout",
     "output_type": "stream",
     "text": [
      "[1] \"X6093A\"\n"
     ]
    },
    {
     "name": "stderr",
     "output_type": "stream",
     "text": [
      "Saving 6.67 x 6.67 in image\n",
      "\n",
      "Saving 6.67 x 6.67 in image\n",
      "\n"
     ]
    },
    {
     "name": "stdout",
     "output_type": "stream",
     "text": [
      "[1] \"X6456A\"\n"
     ]
    },
    {
     "name": "stderr",
     "output_type": "stream",
     "text": [
      "Saving 6.67 x 6.67 in image\n",
      "\n",
      "Saving 6.67 x 6.67 in image\n",
      "\n"
     ]
    },
    {
     "name": "stdout",
     "output_type": "stream",
     "text": [
      "[1] \"X66T\"\n"
     ]
    },
    {
     "name": "stderr",
     "output_type": "stream",
     "text": [
      "Saving 6.67 x 6.67 in image\n",
      "\n",
      "Saving 6.67 x 6.67 in image\n",
      "\n"
     ]
    },
    {
     "name": "stdout",
     "output_type": "stream",
     "text": [
      "[1] \"X6776C\"\n"
     ]
    },
    {
     "name": "stderr",
     "output_type": "stream",
     "text": [
      "Saving 6.67 x 6.67 in image\n",
      "\n",
      "Saving 6.67 x 6.67 in image\n",
      "\n"
     ]
    },
    {
     "name": "stdout",
     "output_type": "stream",
     "text": [
      "[1] \"X7595A\"\n"
     ]
    },
    {
     "name": "stderr",
     "output_type": "stream",
     "text": [
      "Saving 6.67 x 6.67 in image\n",
      "\n",
      "Saving 6.67 x 6.67 in image\n",
      "\n"
     ]
    },
    {
     "name": "stdout",
     "output_type": "stream",
     "text": [
      "[1] \"X7775A\"\n"
     ]
    },
    {
     "name": "stderr",
     "output_type": "stream",
     "text": [
      "Saving 6.67 x 6.67 in image\n",
      "\n",
      "Saving 6.67 x 6.67 in image\n",
      "\n"
     ]
    },
    {
     "name": "stdout",
     "output_type": "stream",
     "text": [
      "[1] \"X8770T\"\n"
     ]
    },
    {
     "name": "stderr",
     "output_type": "stream",
     "text": [
      "Saving 6.67 x 6.67 in image\n",
      "\n",
      "Saving 6.67 x 6.67 in image\n",
      "\n"
     ]
    },
    {
     "name": "stdout",
     "output_type": "stream",
     "text": [
      "[1] \"X9087A\"\n"
     ]
    },
    {
     "name": "stderr",
     "output_type": "stream",
     "text": [
      "Saving 6.67 x 6.67 in image\n",
      "\n",
      "Saving 6.67 x 6.67 in image\n",
      "\n"
     ]
    }
   ],
   "source": [
    "for (mt in (mt.vars)){\n",
    "    print(mt)    \n",
    "    p <- FeaturePlot(se.filt,features=mt, split.by = \"condition\", order=T) & theme(legend.position = c(0.1,0.2))\n",
    "    curr.count = sum(se.filt[[mt]]>0, na.rm=TRUE)\n",
    "    ggsave(file.path(outdir, paste(\"withNA.count\", curr.count,mt, \"groupCond.png\", sep=\"_\")), p)\n",
    "    \n",
    "    # Run with removing NA \n",
    "    expr <- FetchData(se.filt, vars = mt)\n",
    "    curr.se <- se.filt[, which((!is.na(expr)))]\n",
    "    p <- FeaturePlot(curr.se,features=mt, split.by = \"condition\", order=T) & theme(legend.position = c(0.1,0.2))\n",
    "    curr.count = sum(curr.se[[mt]]>0, na.rm=TRUE)\n",
    "    ggsave(file.path(outdir, paste(\"count\", curr.count,mt, \"groupCond.png\", sep=\"_\")), p)\n",
    "    \n",
    "}"
   ]
  },
  {
   "cell_type": "code",
   "execution_count": 15,
   "id": "c0daa6c8",
   "metadata": {},
   "outputs": [
    {
     "data": {
      "text/plain": [
       "R version 4.1.1 (2021-08-10)\n",
       "Platform: x86_64-conda-linux-gnu (64-bit)\n",
       "Running under: Ubuntu 20.04.3 LTS\n",
       "\n",
       "Matrix products: default\n",
       "BLAS/LAPACK: /home/isaac/miniconda3/envs/mttrace/lib/libopenblasp-r0.3.18.so\n",
       "\n",
       "locale:\n",
       " [1] LC_CTYPE=en_US.UTF-8       LC_NUMERIC=C              \n",
       " [3] LC_TIME=en_US.UTF-8        LC_COLLATE=en_US.UTF-8    \n",
       " [5] LC_MONETARY=en_US.UTF-8    LC_MESSAGES=en_US.UTF-8   \n",
       " [7] LC_PAPER=en_US.UTF-8       LC_NAME=C                 \n",
       " [9] LC_ADDRESS=C               LC_TELEPHONE=C            \n",
       "[11] LC_MEASUREMENT=en_US.UTF-8 LC_IDENTIFICATION=C       \n",
       "\n",
       "attached base packages:\n",
       "[1] stats4    stats     graphics  grDevices utils     datasets  methods  \n",
       "[8] base     \n",
       "\n",
       "other attached packages:\n",
       " [1] future_1.23.0             dplyr_1.0.7              \n",
       " [3] RColorBrewer_1.1-2        metap_1.1                \n",
       " [5] cowplot_1.1.1             magrittr_2.0.1           \n",
       " [7] data.table_1.14.2         patchwork_1.1.1          \n",
       " [9] ggplot2_3.3.5             EnsDb.Hsapiens.v75_2.99.0\n",
       "[11] ensembldb_2.18.1          AnnotationFilter_1.18.0  \n",
       "[13] GenomicFeatures_1.46.1    AnnotationDbi_1.56.1     \n",
       "[15] Biobase_2.54.0            Signac_1.4.0             \n",
       "[17] SeuratObject_4.0.4        Seurat_4.0.5             \n",
       "[19] GenomicRanges_1.46.0      GenomeInfoDb_1.30.0      \n",
       "[21] IRanges_2.28.0            S4Vectors_0.32.0         \n",
       "[23] BiocGenerics_0.40.0      \n",
       "\n",
       "loaded via a namespace (and not attached):\n",
       "  [1] utf8_1.2.2                  reticulate_1.22            \n",
       "  [3] tidyselect_1.1.1            RSQLite_2.2.8              \n",
       "  [5] htmlwidgets_1.5.4           grid_4.1.1                 \n",
       "  [7] docopt_0.7.1                BiocParallel_1.28.0        \n",
       "  [9] Rtsne_0.15                  munsell_0.5.0              \n",
       " [11] codetools_0.2-18            ica_1.0-2                  \n",
       " [13] pbdZMQ_0.3-6                miniUI_0.1.1.1             \n",
       " [15] withr_2.4.2                 colorspace_2.0-2           \n",
       " [17] filelock_1.0.2              uuid_1.0-3                 \n",
       " [19] ROCR_1.0-11                 tensor_1.5                 \n",
       " [21] listenv_0.8.0               labeling_0.4.2             \n",
       " [23] MatrixGenerics_1.6.0        Rdpack_2.1.2               \n",
       " [25] slam_0.1-49                 repr_1.1.3                 \n",
       " [27] GenomeInfoDbData_1.2.7      polyclip_1.10-0            \n",
       " [29] bit64_4.0.5                 farver_2.1.0               \n",
       " [31] parallelly_1.29.0           vctrs_0.3.8                \n",
       " [33] generics_0.1.1              BiocFileCache_2.2.0        \n",
       " [35] lsa_0.73.2                  ggseqlogo_0.1              \n",
       " [37] R6_2.5.1                    bitops_1.0-7               \n",
       " [39] spatstat.utils_2.2-0        cachem_1.0.6               \n",
       " [41] DelayedArray_0.20.0         assertthat_0.2.1           \n",
       " [43] promises_1.2.0.1            BiocIO_1.4.0               \n",
       " [45] scales_1.1.1                gtable_0.3.0               \n",
       " [47] globals_0.14.0              goftest_1.2-3              \n",
       " [49] rlang_0.4.12                RcppRoll_0.3.0             \n",
       " [51] splines_4.1.1               rtracklayer_1.54.0         \n",
       " [53] lazyeval_0.2.2              spatstat.geom_2.3-0        \n",
       " [55] yaml_2.2.1                  reshape2_1.4.4             \n",
       " [57] abind_1.4-5                 httpuv_1.6.3               \n",
       " [59] tools_4.1.1                 ellipsis_0.3.2             \n",
       " [61] spatstat.core_2.3-2         ggridges_0.5.3             \n",
       " [63] Rcpp_1.0.7                  plyr_1.8.6                 \n",
       " [65] base64enc_0.1-3             progress_1.2.2             \n",
       " [67] zlibbioc_1.40.0             purrr_0.3.4                \n",
       " [69] RCurl_1.98-1.5              prettyunits_1.1.1          \n",
       " [71] rpart_4.1-15                deldir_1.0-6               \n",
       " [73] pbapply_1.5-0               zoo_1.8-9                  \n",
       " [75] SummarizedExperiment_1.24.0 ggrepel_0.9.1              \n",
       " [77] cluster_2.1.2               scattermore_0.7            \n",
       " [79] lmtest_0.9-39               RANN_2.6.1                 \n",
       " [81] SnowballC_0.7.0             ProtGenerics_1.26.0        \n",
       " [83] fitdistrplus_1.1-6          matrixStats_0.61.0         \n",
       " [85] hms_1.1.1                   mime_0.12                  \n",
       " [87] evaluate_0.14               xtable_1.8-4               \n",
       " [89] XML_3.99-0.8                sparsesvd_0.2              \n",
       " [91] gridExtra_2.3               compiler_4.1.1             \n",
       " [93] biomaRt_2.50.0              tibble_3.1.6               \n",
       " [95] KernSmooth_2.23-20          crayon_1.4.2               \n",
       " [97] htmltools_0.5.2             mgcv_1.8-38                \n",
       " [99] later_1.2.0                 tidyr_1.1.4                \n",
       "[101] DBI_1.1.1                   tweenr_1.0.2               \n",
       "[103] dbplyr_2.1.1                MASS_7.3-54                \n",
       "[105] rappdirs_0.3.3              Matrix_1.3-4               \n",
       "[107] rbibutils_2.2.4             parallel_4.1.1             \n",
       "[109] igraph_1.2.9                pkgconfig_2.0.3            \n",
       "[111] GenomicAlignments_1.30.0    IRdisplay_1.0              \n",
       "[113] plotly_4.10.0               spatstat.sparse_2.0-0      \n",
       "[115] xml2_1.3.2                  XVector_0.34.0             \n",
       "[117] stringr_1.4.0               digest_0.6.28              \n",
       "[119] sctransform_0.3.2           RcppAnnoy_0.0.19           \n",
       "[121] spatstat.data_2.1-0         Biostrings_2.62.0          \n",
       "[123] leiden_0.3.9                fastmatch_1.1-3            \n",
       "[125] uwot_0.1.10                 restfulr_0.0.13            \n",
       "[127] curl_4.3.2                  shiny_1.7.1                \n",
       "[129] Rsamtools_2.10.0            rjson_0.2.20               \n",
       "[131] lifecycle_1.0.1             nlme_3.1-153               \n",
       "[133] jsonlite_1.7.2              viridisLite_0.4.0          \n",
       "[135] fansi_0.4.2                 pillar_1.6.4               \n",
       "[137] lattice_0.20-45             KEGGREST_1.34.0            \n",
       "[139] fastmap_1.1.0               httr_1.4.2                 \n",
       "[141] survival_3.2-13             glue_1.5.1                 \n",
       "[143] qlcMatrix_0.9.7             png_0.1-7                  \n",
       "[145] bit_4.0.4                   ggforce_0.3.3              \n",
       "[147] stringi_1.7.6               blob_1.2.2                 \n",
       "[149] memoise_2.0.1               IRkernel_1.2               \n",
       "[151] irlba_2.3.3                 future.apply_1.8.1         "
      ]
     },
     "metadata": {},
     "output_type": "display_data"
    }
   ],
   "source": [
    "sessionInfo()"
   ]
  },
  {
   "cell_type": "code",
   "execution_count": 16,
   "id": "1f1782dd",
   "metadata": {
    "scrolled": false
   },
   "outputs": [
    {
     "data": {
      "text/html": [
       "'/data/Mito_Trace/output/pipeline/TcellDupi_may17_2021/MTblacklist/data/merged/MT/cellr_True/numread_200/filters/minC10_minR50_topN0_hetT0.001_hetC10_hetCount5_bq20/mgatk/vireoIn/clones/variants_init/knn/kparam_3/concat/gff_hg38_1_2/annotation_clones/de_clone_btwnvars_RNA_af/'"
      ],
      "text/latex": [
       "'/data/Mito\\_Trace/output/pipeline/TcellDupi\\_may17\\_2021/MTblacklist/data/merged/MT/cellr\\_True/numread\\_200/filters/minC10\\_minR50\\_topN0\\_hetT0.001\\_hetC10\\_hetCount5\\_bq20/mgatk/vireoIn/clones/variants\\_init/knn/kparam\\_3/concat/gff\\_hg38\\_1\\_2/annotation\\_clones/de\\_clone\\_btwnvars\\_RNA\\_af/'"
      ],
      "text/markdown": [
       "'/data/Mito_Trace/output/pipeline/TcellDupi_may17_2021/MTblacklist/data/merged/MT/cellr_True/numread_200/filters/minC10_minR50_topN0_hetT0.001_hetC10_hetCount5_bq20/mgatk/vireoIn/clones/variants_init/knn/kparam_3/concat/gff_hg38_1_2/annotation_clones/de_clone_btwnvars_RNA_af/'"
      ],
      "text/plain": [
       "[1] \"/data/Mito_Trace/output/pipeline/TcellDupi_may17_2021/MTblacklist/data/merged/MT/cellr_True/numread_200/filters/minC10_minR50_topN0_hetT0.001_hetC10_hetCount5_bq20/mgatk/vireoIn/clones/variants_init/knn/kparam_3/concat/gff_hg38_1_2/annotation_clones/de_clone_btwnvars_RNA_af/\""
      ]
     },
     "metadata": {},
     "output_type": "display_data"
    }
   ],
   "source": [
    "outdir"
   ]
  },
  {
   "cell_type": "code",
   "execution_count": null,
   "id": "2c0d478b",
   "metadata": {},
   "outputs": [],
   "source": []
  }
 ],
 "metadata": {
  "celltoolbar": "Tags",
  "kernelspec": {
   "display_name": "R",
   "language": "R",
   "name": "ir"
  },
  "language_info": {
   "codemirror_mode": "r",
   "file_extension": ".r",
   "mimetype": "text/x-r-source",
   "name": "R",
   "pygments_lexer": "r",
   "version": "4.1.1"
  }
 },
 "nbformat": 4,
 "nbformat_minor": 5
}
