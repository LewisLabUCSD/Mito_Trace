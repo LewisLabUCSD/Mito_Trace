{
 "cells": [
  {
   "cell_type": "code",
   "execution_count": 1,
   "id": "4246cc89",
   "metadata": {
    "tags": [
     "parameters"
    ]
   },
   "outputs": [],
   "source": [
    "#indir = \"/home/isshamie/data/Projects/Mito_Trace/output/annotation_clones/data/cd34norm/MTblacklist/DE_large\"\n",
    "indir = \"/home/isshamie/data/Projects/Mito_Trace/output/pipeline/cd34norm/MTblacklist/data/merged/MT/cellr_True/numread_200/filters/minC10_minR50_topN0_hetT0.001_hetC10_hetCount5_bq20/mgatk/vireoIn/clones/variants_mgatkdonor/vireo/nclones20/enrichment/annotation_clones/DE_large\"\n",
    "outdir = \"\"#\"/home/isshamie/data/Projects/Mito_Trace/output/pipeline/cd34norm/MTblacklist/data/merged/MT/cellr_True/numread_200/filters/minC10_minR50_topN0_hetT0.001_hetC10_hetCount5_bq20/mgatk/vireoIn/clones/variants_mgatkdonor/vireo/nclones20/enrichment/annotation_clones/DE_large\" \n",
    "se_indir = \"/home/isshamie/data/Projects/Mito_Trace/output/annotation_clones/data/cd34norm/MTblacklist/DE_large\"\n",
    "n_donors = 4\n",
    "cdf_thresh = 0.3\n",
    "n_top_genes = 5\n",
    "n_top_clones = 3\n",
    "utils_script <- \"/home/isshamie/data/Projects/Mito_Trace/R_scripts/seurat_utils.R\"\n"
   ]
  },
  {
   "cell_type": "code",
   "execution_count": 2,
   "id": "126002f9",
   "metadata": {},
   "outputs": [
    {
     "name": "stderr",
     "output_type": "stream",
     "text": [
      "Attaching SeuratObject\n",
      "\n"
     ]
    }
   ],
   "source": [
    "source(utils_script)"
   ]
  },
  {
   "cell_type": "code",
   "execution_count": 3,
   "id": "3657ef25",
   "metadata": {
    "scrolled": true
   },
   "outputs": [
    {
     "name": "stderr",
     "output_type": "stream",
     "text": [
      "Warning message in dir.create(outdir):\n",
      "“'/data2/mito_lineage/output/pipeline/cd34norm/MTblacklist/data/merged/MT/cellr_True/numread_200/filters/minC10_minR50_topN0_hetT0.001_hetC10_hetCount5_bq20/mgatk/vireoIn/clones/variants_mgatkdonor/vireo/nclones20/enrichment/annotation_clones/DE_large/cdf_thresh__30' already exists”\n"
     ]
    }
   ],
   "source": [
    "outdir <- paste0(indir, \"/\", \"cdf_thresh__\", (cdf_thresh))\n",
    "dir.create(outdir)"
   ]
  },
  {
   "cell_type": "code",
   "execution_count": 4,
   "id": "5d9ca2e3",
   "metadata": {
    "scrolled": true
   },
   "outputs": [
    {
     "name": "stderr",
     "output_type": "stream",
     "text": [
      "\n",
      "Attaching package: ‘cowplot’\n",
      "\n",
      "\n",
      "The following object is masked from ‘package:patchwork’:\n",
      "\n",
      "    align_plots\n",
      "\n",
      "\n",
      "\n",
      "Attaching package: ‘dplyr’\n",
      "\n",
      "\n",
      "The following objects are masked from ‘package:stats’:\n",
      "\n",
      "    filter, lag\n",
      "\n",
      "\n",
      "The following objects are masked from ‘package:base’:\n",
      "\n",
      "    intersect, setdiff, setequal, union\n",
      "\n",
      "\n",
      "Loading required package: grid\n",
      "\n",
      "========================================\n",
      "ComplexHeatmap version 2.9.4\n",
      "Bioconductor page: http://bioconductor.org/packages/ComplexHeatmap/\n",
      "Github page: https://github.com/jokergoo/ComplexHeatmap\n",
      "Documentation: http://jokergoo.github.io/ComplexHeatmap-reference\n",
      "\n",
      "If you use it in published research, please cite:\n",
      "Gu, Z. Complex heatmaps reveal patterns and correlations in multidimensional \n",
      "  genomic data. Bioinformatics 2016.\n",
      "\n",
      "The new InteractiveComplexHeatmap package can directly export static \n",
      "complex heatmaps into an interactive Shiny app with zero effort. Have a try!\n",
      "\n",
      "This message can be suppressed by:\n",
      "  suppressPackageStartupMessages(library(ComplexHeatmap))\n",
      "========================================\n",
      "\n",
      "\n",
      "\n",
      "\n",
      "Loading required package: BSgenome\n",
      "\n",
      "Loading required package: BiocGenerics\n",
      "\n",
      "Loading required package: parallel\n",
      "\n",
      "\n",
      "Attaching package: ‘BiocGenerics’\n",
      "\n",
      "\n",
      "The following objects are masked from ‘package:parallel’:\n",
      "\n",
      "    clusterApply, clusterApplyLB, clusterCall, clusterEvalQ,\n",
      "    clusterExport, clusterMap, parApply, parCapply, parLapply,\n",
      "    parLapplyLB, parRapply, parSapply, parSapplyLB\n",
      "\n",
      "\n",
      "The following objects are masked from ‘package:dplyr’:\n",
      "\n",
      "    combine, intersect, setdiff, union\n",
      "\n",
      "\n",
      "The following objects are masked from ‘package:stats’:\n",
      "\n",
      "    IQR, mad, sd, var, xtabs\n",
      "\n",
      "\n",
      "The following objects are masked from ‘package:base’:\n",
      "\n",
      "    anyDuplicated, append, as.data.frame, basename, cbind, colnames,\n",
      "    dirname, do.call, duplicated, eval, evalq, Filter, Find, get, grep,\n",
      "    grepl, intersect, is.unsorted, lapply, Map, mapply, match, mget,\n",
      "    order, paste, pmax, pmax.int, pmin, pmin.int, Position, rank,\n",
      "    rbind, Reduce, rownames, sapply, setdiff, sort, table, tapply,\n",
      "    union, unique, unsplit, which.max, which.min\n",
      "\n",
      "\n",
      "Loading required package: S4Vectors\n",
      "\n",
      "Loading required package: stats4\n",
      "\n",
      "\n",
      "Attaching package: ‘S4Vectors’\n",
      "\n",
      "\n",
      "The following object is masked from ‘package:future’:\n",
      "\n",
      "    values\n",
      "\n",
      "\n",
      "The following objects are masked from ‘package:dplyr’:\n",
      "\n",
      "    first, rename\n",
      "\n",
      "\n",
      "The following objects are masked from ‘package:base’:\n",
      "\n",
      "    expand.grid, I, unname\n",
      "\n",
      "\n",
      "Loading required package: IRanges\n",
      "\n",
      "\n",
      "Attaching package: ‘IRanges’\n",
      "\n",
      "\n",
      "The following objects are masked from ‘package:dplyr’:\n",
      "\n",
      "    collapse, desc, slice\n",
      "\n",
      "\n",
      "Loading required package: GenomeInfoDb\n",
      "\n",
      "Loading required package: GenomicRanges\n",
      "\n",
      "Loading required package: Biostrings\n",
      "\n",
      "Loading required package: XVector\n",
      "\n",
      "\n",
      "Attaching package: ‘Biostrings’\n",
      "\n",
      "\n",
      "The following object is masked from ‘package:grid’:\n",
      "\n",
      "    pattern\n",
      "\n",
      "\n",
      "The following object is masked from ‘package:base’:\n",
      "\n",
      "    strsplit\n",
      "\n",
      "\n",
      "Loading required package: rtracklayer\n",
      "\n"
     ]
    }
   ],
   "source": [
    "library(Seurat)\n",
    "library(Signac)\n",
    "library(ggplot2)\n",
    "library(patchwork)\n",
    "set.seed(1234)\n",
    "library(magrittr)\n",
    "library(cowplot)\n",
    "library(metap)\n",
    "library(dplyr)\n",
    "library(future)\n",
    "library(\"ComplexHeatmap\")\n",
    "library(motifmatchr)\n",
    "library(JASPAR2020)\n",
    "library(TFBSTools)\n",
    "library(BSgenome.Hsapiens.UCSC.hg38)\n"
   ]
  },
  {
   "cell_type": "markdown",
   "id": "e8a7d7b5",
   "metadata": {},
   "source": [
    "## Import seurat object"
   ]
  },
  {
   "cell_type": "code",
   "execution_count": 5,
   "id": "2ef3a56c",
   "metadata": {
    "scrolled": true
   },
   "outputs": [
    {
     "name": "stdout",
     "output_type": "stream",
     "text": [
      "[1] 4\n",
      "[1] \"i 1 donor 0\"\n",
      "[1] \"only 1 clone. Using top 3 clones\"\n",
      "[1] \"i 2 donor 1\"\n",
      "[1] \"only 1 clone. Using top 3 clones\"\n",
      "[1] \"i 3 donor 2\"\n",
      "[1] \"only 1 clone. Using top 3 clones\"\n",
      "[1] \"i 4 donor 3\"\n"
     ]
    },
    {
     "data": {
      "text/html": [
       "<table class=\"dataframe\">\n",
       "<caption>A data.frame: 11 × 9</caption>\n",
       "<thead>\n",
       "\t<tr><th scope=col>X</th><th scope=col>donor</th><th scope=col>lineage</th><th scope=col>norm.total</th><th scope=col>total</th><th scope=col>name</th><th scope=col>cdf.norm</th><th scope=col>cdf</th><th scope=col>index</th></tr>\n",
       "\t<tr><th scope=col>&lt;int&gt;</th><th scope=col>&lt;int&gt;</th><th scope=col>&lt;int&gt;</th><th scope=col>&lt;dbl&gt;</th><th scope=col>&lt;int&gt;</th><th scope=col>&lt;chr&gt;</th><th scope=col>&lt;dbl&gt;</th><th scope=col>&lt;int&gt;</th><th scope=col>&lt;int&gt;</th></tr>\n",
       "</thead>\n",
       "<tbody>\n",
       "\t<tr><td>11</td><td>3</td><td>13</td><td>0.2120257</td><td>165</td><td>3_13</td><td>0.1060129</td><td>165</td><td>1</td></tr>\n",
       "\t<tr><td>12</td><td>3</td><td> 8</td><td>0.2023254</td><td>166</td><td>3_8 </td><td>0.2071755</td><td>331</td><td>2</td></tr>\n",
       "\t<tr><td>13</td><td>3</td><td>19</td><td>0.1659858</td><td>127</td><td>3_19</td><td>0.2901684</td><td>458</td><td>3</td></tr>\n",
       "\t<tr><td> 1</td><td>0</td><td> 1</td><td>0.2959562</td><td>236</td><td>0_1 </td><td>0.1479781</td><td>236</td><td>1</td></tr>\n",
       "\t<tr><td> 2</td><td>0</td><td>12</td><td>0.2567644</td><td>201</td><td>0_12</td><td>0.2763603</td><td>437</td><td>2</td></tr>\n",
       "\t<tr><td> 3</td><td>0</td><td>10</td><td>0.2026478</td><td>167</td><td>0_10</td><td>0.3776842</td><td>604</td><td>3</td></tr>\n",
       "\t<tr><td> 5</td><td>1</td><td>10</td><td>0.3277361</td><td>305</td><td>1_10</td><td>0.1638681</td><td>305</td><td>1</td></tr>\n",
       "\t<tr><td> 6</td><td>1</td><td> 7</td><td>0.2570659</td><td>236</td><td>1_7 </td><td>0.2924010</td><td>541</td><td>2</td></tr>\n",
       "\t<tr><td> 7</td><td>1</td><td> 0</td><td>0.1714882</td><td>155</td><td>1_0 </td><td>0.3781451</td><td>696</td><td>3</td></tr>\n",
       "\t<tr><td> 9</td><td>2</td><td> 8</td><td>0.4705533</td><td>382</td><td>2_8 </td><td>0.2352766</td><td>382</td><td>1</td></tr>\n",
       "\t<tr><td>10</td><td>2</td><td> 7</td><td>0.3336624</td><td>271</td><td>2_7 </td><td>0.4021078</td><td>653</td><td>2</td></tr>\n",
       "</tbody>\n",
       "</table>\n"
      ],
      "text/latex": [
       "A data.frame: 11 × 9\n",
       "\\begin{tabular}{lllllllll}\n",
       " X & donor & lineage & norm.total & total & name & cdf.norm & cdf & index\\\\\n",
       " <int> & <int> & <int> & <dbl> & <int> & <chr> & <dbl> & <int> & <int>\\\\\n",
       "\\hline\n",
       "\t 11 & 3 & 13 & 0.2120257 & 165 & 3\\_13 & 0.1060129 & 165 & 1\\\\\n",
       "\t 12 & 3 &  8 & 0.2023254 & 166 & 3\\_8  & 0.2071755 & 331 & 2\\\\\n",
       "\t 13 & 3 & 19 & 0.1659858 & 127 & 3\\_19 & 0.2901684 & 458 & 3\\\\\n",
       "\t  1 & 0 &  1 & 0.2959562 & 236 & 0\\_1  & 0.1479781 & 236 & 1\\\\\n",
       "\t  2 & 0 & 12 & 0.2567644 & 201 & 0\\_12 & 0.2763603 & 437 & 2\\\\\n",
       "\t  3 & 0 & 10 & 0.2026478 & 167 & 0\\_10 & 0.3776842 & 604 & 3\\\\\n",
       "\t  5 & 1 & 10 & 0.3277361 & 305 & 1\\_10 & 0.1638681 & 305 & 1\\\\\n",
       "\t  6 & 1 &  7 & 0.2570659 & 236 & 1\\_7  & 0.2924010 & 541 & 2\\\\\n",
       "\t  7 & 1 &  0 & 0.1714882 & 155 & 1\\_0  & 0.3781451 & 696 & 3\\\\\n",
       "\t  9 & 2 &  8 & 0.4705533 & 382 & 2\\_8  & 0.2352766 & 382 & 1\\\\\n",
       "\t 10 & 2 &  7 & 0.3336624 & 271 & 2\\_7  & 0.4021078 & 653 & 2\\\\\n",
       "\\end{tabular}\n"
      ],
      "text/markdown": [
       "\n",
       "A data.frame: 11 × 9\n",
       "\n",
       "| X &lt;int&gt; | donor &lt;int&gt; | lineage &lt;int&gt; | norm.total &lt;dbl&gt; | total &lt;int&gt; | name &lt;chr&gt; | cdf.norm &lt;dbl&gt; | cdf &lt;int&gt; | index &lt;int&gt; |\n",
       "|---|---|---|---|---|---|---|---|---|\n",
       "| 11 | 3 | 13 | 0.2120257 | 165 | 3_13 | 0.1060129 | 165 | 1 |\n",
       "| 12 | 3 |  8 | 0.2023254 | 166 | 3_8  | 0.2071755 | 331 | 2 |\n",
       "| 13 | 3 | 19 | 0.1659858 | 127 | 3_19 | 0.2901684 | 458 | 3 |\n",
       "|  1 | 0 |  1 | 0.2959562 | 236 | 0_1  | 0.1479781 | 236 | 1 |\n",
       "|  2 | 0 | 12 | 0.2567644 | 201 | 0_12 | 0.2763603 | 437 | 2 |\n",
       "|  3 | 0 | 10 | 0.2026478 | 167 | 0_10 | 0.3776842 | 604 | 3 |\n",
       "|  5 | 1 | 10 | 0.3277361 | 305 | 1_10 | 0.1638681 | 305 | 1 |\n",
       "|  6 | 1 |  7 | 0.2570659 | 236 | 1_7  | 0.2924010 | 541 | 2 |\n",
       "|  7 | 1 |  0 | 0.1714882 | 155 | 1_0  | 0.3781451 | 696 | 3 |\n",
       "|  9 | 2 |  8 | 0.4705533 | 382 | 2_8  | 0.2352766 | 382 | 1 |\n",
       "| 10 | 2 |  7 | 0.3336624 | 271 | 2_7  | 0.4021078 | 653 | 2 |\n",
       "\n"
      ],
      "text/plain": [
       "   X  donor lineage norm.total total name cdf.norm  cdf index\n",
       "1  11 3     13      0.2120257  165   3_13 0.1060129 165 1    \n",
       "2  12 3      8      0.2023254  166   3_8  0.2071755 331 2    \n",
       "3  13 3     19      0.1659858  127   3_19 0.2901684 458 3    \n",
       "4   1 0      1      0.2959562  236   0_1  0.1479781 236 1    \n",
       "5   2 0     12      0.2567644  201   0_12 0.2763603 437 2    \n",
       "6   3 0     10      0.2026478  167   0_10 0.3776842 604 3    \n",
       "7   5 1     10      0.3277361  305   1_10 0.1638681 305 1    \n",
       "8   6 1      7      0.2570659  236   1_7  0.2924010 541 2    \n",
       "9   7 1      0      0.1714882  155   1_0  0.3781451 696 3    \n",
       "10  9 2      8      0.4705533  382   2_8  0.2352766 382 1    \n",
       "11 10 2      7      0.3336624  271   2_7  0.4021078 653 2    "
      ]
     },
     "metadata": {},
     "output_type": "display_data"
    }
   ],
   "source": [
    "se <- readRDS(file.path(se_indir, \"se.clonesfilt.rds\"))\n",
    "init.large.clones <- read.csv(file.path(se_indir, \"large_clones.csv\"))\n",
    "large.clones <- init.large.clones %>% filter(cdf.norm<cdf_thresh)\n",
    "\n",
    "large.clones <- check.if.one.clone(large.clones, init.large.clones, n_top_clones)\n",
    "large.clones"
   ]
  },
  {
   "cell_type": "code",
   "execution_count": 6,
   "id": "ec910a21",
   "metadata": {},
   "outputs": [],
   "source": [
    "se <- subset(se, subset= name %in% factor(large.clones$name))"
   ]
  },
  {
   "cell_type": "code",
   "execution_count": 7,
   "id": "c1f91a07",
   "metadata": {},
   "outputs": [],
   "source": [
    "Idents(se) <- \"name\""
   ]
  },
  {
   "cell_type": "code",
   "execution_count": 8,
   "id": "8f207cb1",
   "metadata": {
    "scrolled": true
   },
   "outputs": [
    {
     "name": "stderr",
     "output_type": "stream",
     "text": [
      "Saving 6.67 x 6.67 in image\n",
      "\n"
     ]
    },
    {
     "data": {
      "image/png": "[encoded data removed]",
      "text/plain": [
       "plot without title"
      ]
     },
     "metadata": {
      "image/png": {
       "height": 420,
       "width": 420
      }
     },
     "output_type": "display_data"
    }
   ],
   "source": [
    "p <- ggplot(data = large.clones, aes(index, cdf.norm)) +\n",
    "  geom_point(color = \"steelblue\", size = 1) +\n",
    "  facet_wrap(~ donor) \n",
    "\n",
    "p <- p + geom_hline(yintercept=cdf_thresh, color='green') \n",
    "p\n",
    "ggsave(file.path(outdir, \"large.clones.cdf.png\"))\n",
    "\n"
   ]
  },
  {
   "cell_type": "code",
   "execution_count": 9,
   "id": "c28a1ffa",
   "metadata": {},
   "outputs": [],
   "source": [
    "## Get motif names\n",
    "\n",
    "# DefaultAssay(se) <- \"chromvar\"\n",
    "# chrom.var.names <- GetAssayData(se)\n",
    "# DefaultAssay(se) <- \"ATAC\"\n",
    "# motifs <- Motifs(se)\n",
    "# #Motifs(se)@motif.names\n",
    "\n",
    "# head(chrom.var.names)\n",
    "# row.names(chrom.var.names) <- sapply(row.names(chrom.var.names), function(x) {Motifs(se)@motif.names[[x]]})\n",
    "# head(chrom.var.names)\n",
    "\n",
    "\n"
   ]
  },
  {
   "cell_type": "markdown",
   "id": "5564da63",
   "metadata": {},
   "source": [
    "## TF DE"
   ]
  },
  {
   "cell_type": "markdown",
   "id": "e7def62d",
   "metadata": {},
   "source": [
    "## Summarize results"
   ]
  },
  {
   "cell_type": "code",
   "execution_count": 10,
   "id": "c7854307",
   "metadata": {
    "scrolled": true
   },
   "outputs": [],
   "source": [
    "# all.names.sig <- c()\n",
    "# DefaultAssay(se) <- \"chromvarnames\"\n",
    "# for (d in 0:(n_donors-1)){\n",
    "#     print('donor')\n",
    "#     print(d)\n",
    "#     curr.indir <- file.path(indir, paste0(\"donor\", d, \"_TF\"))\n",
    "#     #curr.outdir <- file.path(outdir, paste0(\"donor\", d, \"_TF\"))\n",
    "#     #dir.create(curr.outdir)\n",
    "#     donor.large.clones <- large.clones %>% filter(donor==d)\n",
    "#     clones.filt.ids <- sort(donor.large.clones$lineage)\n",
    "#     se.filt <- subset(se, subset = (donor==d) & (lineage %in% donor.large.clones$lineage))\n",
    "#     if (length(clones.filt.ids) < 2){\n",
    "#         print(\"0 or 1 clone found. not running\")\n",
    "#         next\n",
    "#     }\n",
    "#     pairs = combn(clones.filt.ids,2)\n",
    "#     names.sig <- c()\n",
    "\n",
    "#     for (i in 1:dim(pairs)[2]){\n",
    "#         print(pairs[,i])\n",
    "#         print(paste(\"comparison #\", i))\n",
    "#         a = pairs[1,i]\n",
    "#         b = pairs[2,i]\n",
    "#         curr.tf.da <- read.csv(file.path(curr.indir, \n",
    "#                                          paste0(\"clones_\",a,\"__\", b,\".DE.TF.csv\"))) %>% \n",
    "#                       arrange(p_val)\n",
    "#         row.names(curr.tf.da) <- curr.tf.da$X  #sapply(curr.tf.da$X, function(m) {motifs@motif.names[[m]]})\n",
    "#         names.sig <- c(names.sig, head(row.names(curr.tf.da), n_top_genes))\n",
    "#         all.names.sig <- c(all.names.sig, head(row.names(curr.tf.da), n_top_genes))\n",
    "#         }\n",
    "#     names.sig <- unique(names.sig)\n",
    "    \n",
    "#     gally <- GGally::ggpairs(curr.tf.da[,c(\"p_val\", \"p_val_adj\")], aes(alpha = 0.4))\n",
    "# }\n"
   ]
  },
  {
   "cell_type": "code",
   "execution_count": 65,
   "id": "78949989",
   "metadata": {
    "scrolled": true
   },
   "outputs": [
    {
     "name": "stdout",
     "output_type": "stream",
     "text": [
      "[1] \"donor\"\n",
      "[1] 0\n"
     ]
    },
    {
     "name": "stderr",
     "output_type": "stream",
     "text": [
      "Warning message in dir.create(curr.outdir):\n",
      "“'/data2/mito_lineage/output/pipeline/cd34norm/MTblacklist/data/merged/MT/cellr_True/numread_200/filters/minC10_minR50_topN0_hetT0.001_hetC10_hetCount5_bq20/mgatk/vireoIn/clones/variants_mgatkdonor/vireo/nclones20/enrichment/annotation_clones/DE_large/cdf_thresh__30/donor0_TF' already exists”\n"
     ]
    },
    {
     "name": "stdout",
     "output_type": "stream",
     "text": [
      "[1]  1 10\n",
      "[1] \"comparison # 1\"\n",
      "                   X       p_val   avg_diff pct.1 pct.2 p_val_adj\n",
      "1              CREB3 0.003192066 -0.2765875 0.441 0.557         1\n",
      "2               E2F7 0.006386729 -0.3015630 0.462 0.563         1\n",
      "3             POU3F1 0.008625963  0.2217172 0.555 0.431         1\n",
      "4  FOSL1::JUN(var.2) 0.008938978 -0.2718795 0.441 0.557         1\n",
      "5  FOSL2::JUN(var.2) 0.009595601 -0.2746626 0.419 0.545         1\n",
      "6 FOSL2::JUND(var.2) 0.011149323 -0.2761848 0.398 0.545         1\n"
     ]
    },
    {
     "name": "stderr",
     "output_type": "stream",
     "text": [
      "Saving 6.67 x 6.67 in image\n",
      "\n",
      "Warning message in cor(x, y):\n",
      "“the standard deviation is zero”\n",
      "Warning message in cor(x, y):\n",
      "“the standard deviation is zero”\n",
      "Warning message:\n",
      "“`guides(<scale> = FALSE)` is deprecated. Please use `guides(<scale> = \"none\")` instead.”\n",
      "Saving 6.67 x 6.67 in image\n",
      "\n"
     ]
    },
    {
     "name": "stdout",
     "output_type": "stream",
     "text": [
      "[1]  1 12\n",
      "[1] \"comparison # 2\"\n",
      "             X        p_val   avg_diff pct.1 pct.2 p_val_adj\n",
      "1        FIGLA 0.0008137597 -0.3245817 0.500 0.622 0.5151099\n",
      "2        ESRRB 0.0048382717 -0.2605915 0.449 0.562 1.0000000\n",
      "3          VDR 0.0053413952  0.2853792 0.559 0.463 1.0000000\n",
      "4       HOXD13 0.0075298807  0.2884570 0.521 0.413 1.0000000\n",
      "5 MEIS1(var.2) 0.0082961191  0.1772842 0.508 0.368 1.0000000\n",
      "6       TCF7L1 0.0096934709  0.1987433 0.551 0.408 1.0000000\n"
     ]
    },
    {
     "name": "stderr",
     "output_type": "stream",
     "text": [
      "Saving 6.67 x 6.67 in image\n",
      "\n",
      "Warning message:\n",
      "“`guides(<scale> = FALSE)` is deprecated. Please use `guides(<scale> = \"none\")` instead.”\n",
      "Saving 6.67 x 6.67 in image\n",
      "\n"
     ]
    },
    {
     "name": "stdout",
     "output_type": "stream",
     "text": [
      "[1] 10 12\n",
      "[1] \"comparison # 3\"\n",
      "               X        p_val   avg_diff pct.1 pct.2 p_val_adj\n",
      "1          CENPB 0.0002090642 -0.3447683 0.395 0.547 0.1323376\n",
      "2           RFX7 0.0012149494  0.2967599 0.557 0.343 0.7690630\n",
      "3          ESRRB 0.0022268899 -0.3206951 0.413 0.562 1.0000000\n",
      "4 CREB3L4(var.2) 0.0048322311  0.3403786 0.515 0.433 1.0000000\n",
      "5          TFDP1 0.0049369375  0.2369842 0.515 0.373 1.0000000\n",
      "6         SOHLH2 0.0049520620 -0.2695645 0.443 0.572 1.0000000\n"
     ]
    },
    {
     "name": "stderr",
     "output_type": "stream",
     "text": [
      "Saving 6.67 x 6.67 in image\n",
      "\n",
      "Warning message:\n",
      "“`guides(<scale> = FALSE)` is deprecated. Please use `guides(<scale> = \"none\")` instead.”\n",
      "Saving 6.67 x 6.67 in image\n",
      "\n",
      "'magick' package is suggested to install to give better rasterization.\n",
      "\n",
      "Set `ht_opt$message = FALSE` to turn off this message.\n",
      "\n",
      "Saving 6.67 x 6.67 in image\n",
      "\n",
      "Saving 6.67 x 6.67 in image\n",
      "\n",
      "Saving 6.67 x 6.67 in image\n",
      "\n"
     ]
    },
    {
     "name": "stdout",
     "output_type": "stream",
     "text": [
      "[1] \"donor\"\n",
      "[1] 1\n"
     ]
    },
    {
     "name": "stderr",
     "output_type": "stream",
     "text": [
      "Warning message in dir.create(curr.outdir):\n",
      "“'/data2/mito_lineage/output/pipeline/cd34norm/MTblacklist/data/merged/MT/cellr_True/numread_200/filters/minC10_minR50_topN0_hetT0.001_hetC10_hetCount5_bq20/mgatk/vireoIn/clones/variants_mgatkdonor/vireo/nclones20/enrichment/annotation_clones/DE_large/cdf_thresh__30/donor1_TF' already exists”\n"
     ]
    },
    {
     "name": "stdout",
     "output_type": "stream",
     "text": [
      "[1] 0 7\n",
      "[1] \"comparison # 1\"\n",
      "       X       p_val   avg_diff pct.1 pct.2 p_val_adj\n",
      "1  SOX15 0.001606716 -0.3323215 0.400 0.525         1\n",
      "2  MEF2C 0.006914289  0.2153602 0.568 0.411         1\n",
      "3   ATF7 0.012144354 -0.2662621 0.394 0.513         1\n",
      "4 ZNF75D 0.014346842 -0.2082326 0.400 0.496         1\n",
      "5   SIX2 0.018698335 -0.1740778 0.413 0.564         1\n",
      "6   TBX4 0.018744362  0.2900937 0.626 0.517         1\n"
     ]
    },
    {
     "name": "stderr",
     "output_type": "stream",
     "text": [
      "Saving 6.67 x 6.67 in image\n",
      "\n",
      "Warning message in cor(x, y):\n",
      "“the standard deviation is zero”\n",
      "Warning message in cor(x, y):\n",
      "“the standard deviation is zero”\n",
      "Warning message:\n",
      "“`guides(<scale> = FALSE)` is deprecated. Please use `guides(<scale> = \"none\")` instead.”\n",
      "Saving 6.67 x 6.67 in image\n",
      "\n"
     ]
    },
    {
     "name": "stdout",
     "output_type": "stream",
     "text": [
      "[1]  0 10\n",
      "[1] \"comparison # 2\"\n",
      "                  X       p_val   avg_diff pct.1 pct.2 p_val_adj\n",
      "1       JUNB(var.2) 0.001766387 -0.3422720 0.432 0.521         1\n",
      "2           ZSCAN29 0.002924538 -0.3274262 0.445 0.538         1\n",
      "3              IRF3 0.003534842 -0.2992049 0.323 0.495         1\n",
      "4             INSM1 0.005813057 -0.2281783 0.387 0.505         1\n",
      "5 FOSB::JUNB(var.2) 0.005919494 -0.3067717 0.406 0.505         1\n",
      "6              IRF8 0.006420523 -0.3144299 0.355 0.462         1\n"
     ]
    },
    {
     "name": "stderr",
     "output_type": "stream",
     "text": [
      "Saving 6.67 x 6.67 in image\n",
      "\n",
      "Warning message in cor(x, y):\n",
      "“the standard deviation is zero”\n",
      "Warning message in cor(x, y):\n",
      "“the standard deviation is zero”\n",
      "Warning message:\n",
      "“`guides(<scale> = FALSE)` is deprecated. Please use `guides(<scale> = \"none\")` instead.”\n",
      "Saving 6.67 x 6.67 in image\n",
      "\n"
     ]
    },
    {
     "name": "stdout",
     "output_type": "stream",
     "text": [
      "[1]  7 10\n",
      "[1] \"comparison # 3\"\n",
      "       X       p_val   avg_diff pct.1 pct.2 p_val_adj\n",
      "1   IRF3 0.001095832 -0.3375390 0.364 0.495 0.6936616\n",
      "2   E2F6 0.002723186 -0.1773122 0.326 0.449 1.0000000\n",
      "3  HNF4G 0.002839349 -0.2415655 0.411 0.534 1.0000000\n",
      "4   TP53 0.004049897  0.2429024 0.564 0.466 1.0000000\n",
      "5 TWIST1 0.006817117  0.2333553 0.525 0.433 1.0000000\n",
      "6   SPI1 0.007420408 -0.3297469 0.352 0.469 1.0000000\n"
     ]
    },
    {
     "name": "stderr",
     "output_type": "stream",
     "text": [
      "Saving 6.67 x 6.67 in image\n",
      "\n",
      "Warning message:\n",
      "“`guides(<scale> = FALSE)` is deprecated. Please use `guides(<scale> = \"none\")` instead.”\n",
      "Saving 6.67 x 6.67 in image\n",
      "\n",
      "'magick' package is suggested to install to give better rasterization.\n",
      "\n",
      "Set `ht_opt$message = FALSE` to turn off this message.\n",
      "\n",
      "Saving 6.67 x 6.67 in image\n",
      "\n",
      "Saving 6.67 x 6.67 in image\n",
      "\n",
      "Saving 6.67 x 6.67 in image\n",
      "\n"
     ]
    },
    {
     "name": "stdout",
     "output_type": "stream",
     "text": [
      "[1] \"donor\"\n",
      "[1] 2\n"
     ]
    },
    {
     "name": "stderr",
     "output_type": "stream",
     "text": [
      "Warning message in dir.create(curr.outdir):\n",
      "“'/data2/mito_lineage/output/pipeline/cd34norm/MTblacklist/data/merged/MT/cellr_True/numread_200/filters/minC10_minR50_topN0_hetT0.001_hetC10_hetCount5_bq20/mgatk/vireoIn/clones/variants_mgatkdonor/vireo/nclones20/enrichment/annotation_clones/DE_large/cdf_thresh__30/donor2_TF' already exists”\n"
     ]
    },
    {
     "name": "stdout",
     "output_type": "stream",
     "text": [
      "[1] 7 8\n",
      "[1] \"comparison # 1\"\n",
      "       X       p_val   avg_diff pct.1 pct.2 p_val_adj\n",
      "1   LHX2 0.002370241 -0.2643650 0.424 0.531         1\n",
      "2  TFCP2 0.002383526  0.2525713 0.576 0.497         1\n",
      "3   MSX1 0.003832116 -0.2219049 0.406 0.529         1\n",
      "4   MSX2 0.003832116 -0.2219049 0.406 0.529         1\n",
      "5    BSX 0.003832116 -0.2219049 0.406 0.529         1\n",
      "6 ZNF410 0.009416866  0.1958527 0.546 0.450         1\n"
     ]
    },
    {
     "name": "stderr",
     "output_type": "stream",
     "text": [
      "Saving 6.67 x 6.67 in image\n",
      "\n",
      "Warning message in cor(x, y):\n",
      "“the standard deviation is zero”\n",
      "Warning message in cor(x, y):\n",
      "“the standard deviation is zero”\n",
      "Warning message:\n",
      "“`guides(<scale> = FALSE)` is deprecated. Please use `guides(<scale> = \"none\")` instead.”\n",
      "Saving 6.67 x 6.67 in image\n",
      "\n",
      "'magick' package is suggested to install to give better rasterization.\n",
      "\n",
      "Set `ht_opt$message = FALSE` to turn off this message.\n",
      "\n",
      "Saving 6.67 x 6.67 in image\n",
      "\n",
      "Saving 6.67 x 6.67 in image\n",
      "\n",
      "Saving 6.67 x 6.67 in image\n",
      "\n"
     ]
    },
    {
     "name": "stdout",
     "output_type": "stream",
     "text": [
      "[1] \"donor\"\n",
      "[1] 3\n"
     ]
    },
    {
     "name": "stderr",
     "output_type": "stream",
     "text": [
      "Warning message in dir.create(curr.outdir):\n",
      "“'/data2/mito_lineage/output/pipeline/cd34norm/MTblacklist/data/merged/MT/cellr_True/numread_200/filters/minC10_minR50_topN0_hetT0.001_hetC10_hetCount5_bq20/mgatk/vireoIn/clones/variants_mgatkdonor/vireo/nclones20/enrichment/annotation_clones/DE_large/cdf_thresh__30/donor3_TF' already exists”\n"
     ]
    },
    {
     "name": "stdout",
     "output_type": "stream",
     "text": [
      "[1]  8 13\n",
      "[1] \"comparison # 1\"\n",
      "            X        p_val  avg_diff pct.1 pct.2 p_val_adj\n",
      "1       MEF2C 0.0006174076 0.3651405 0.536 0.400 0.3908190\n",
      "2       NR3C1 0.0008240550 0.3559854 0.578 0.394 0.5216268\n",
      "3        E2F2 0.0009325484 0.3637151 0.482 0.339 0.5903031\n",
      "4    MAX::MYC 0.0012847162 0.3436742 0.524 0.412 0.8132254\n",
      "5         SP8 0.0026297127 0.2174389 0.434 0.309 1.0000000\n",
      "6 RARB(var.3) 0.0027103435 0.3156051 0.536 0.376 1.0000000\n"
     ]
    },
    {
     "name": "stderr",
     "output_type": "stream",
     "text": [
      "Saving 6.67 x 6.67 in image\n",
      "\n",
      "Warning message:\n",
      "“`guides(<scale> = FALSE)` is deprecated. Please use `guides(<scale> = \"none\")` instead.”\n",
      "Saving 6.67 x 6.67 in image\n",
      "\n"
     ]
    },
    {
     "name": "stdout",
     "output_type": "stream",
     "text": [
      "[1]  8 19\n",
      "[1] \"comparison # 2\"\n",
      "       X       p_val  avg_diff pct.1 pct.2 p_val_adj\n",
      "1   GSX1 0.005469664 0.2955279 0.518 0.370         1\n",
      "2   EGR3 0.005611838 0.3044078 0.464 0.315         1\n",
      "3 POU2F3 0.006188242 0.2434633 0.530 0.402         1\n",
      "4  VENTX 0.006400896 0.3032425 0.530 0.394         1\n",
      "5 POU2F1 0.006537121 0.2539487 0.554 0.370         1\n",
      "6   RBPJ 0.006620102 0.2688103 0.476 0.362         1\n"
     ]
    },
    {
     "name": "stderr",
     "output_type": "stream",
     "text": [
      "Saving 6.67 x 6.67 in image\n",
      "\n",
      "Warning message in cor(x, y):\n",
      "“the standard deviation is zero”\n",
      "Warning message in cor(x, y):\n",
      "“the standard deviation is zero”\n",
      "Warning message:\n",
      "“`guides(<scale> = FALSE)` is deprecated. Please use `guides(<scale> = \"none\")` instead.”\n",
      "Saving 6.67 x 6.67 in image\n",
      "\n"
     ]
    },
    {
     "name": "stdout",
     "output_type": "stream",
     "text": [
      "[1] 13 19\n",
      "[1] \"comparison # 3\"\n",
      "             X       p_val   avg_diff pct.1 pct.2 p_val_adj\n",
      "1          DBP 0.001689767 -0.4134961 0.370 0.535         1\n",
      "2       POU3F1 0.003977780  0.2949093 0.521 0.354         1\n",
      "3         ELF5 0.008407156 -0.2803661 0.358 0.504         1\n",
      "4        CEBPE 0.010265294  0.4632496 0.618 0.512         1\n",
      "5         E2F2 0.012044373 -0.3150325 0.339 0.449         1\n",
      "6 NR2F6(var.3) 0.013447342 -0.2800314 0.388 0.535         1\n"
     ]
    },
    {
     "name": "stderr",
     "output_type": "stream",
     "text": [
      "Saving 6.67 x 6.67 in image\n",
      "\n",
      "Warning message in cor(x, y):\n",
      "“the standard deviation is zero”\n",
      "Warning message in cor(x, y):\n",
      "“the standard deviation is zero”\n",
      "Warning message:\n",
      "“`guides(<scale> = FALSE)` is deprecated. Please use `guides(<scale> = \"none\")` instead.”\n",
      "Saving 6.67 x 6.67 in image\n",
      "\n",
      "'magick' package is suggested to install to give better rasterization.\n",
      "\n",
      "Set `ht_opt$message = FALSE` to turn off this message.\n",
      "\n",
      "Saving 6.67 x 6.67 in image\n",
      "\n",
      "Saving 6.67 x 6.67 in image\n",
      "\n",
      "Saving 6.67 x 6.67 in image\n",
      "\n"
     ]
    }
   ],
   "source": [
    "all.names.sig <- c()\n",
    "DefaultAssay(se) <- \"chromvarnames\"\n",
    "for (d in 0:(n_donors-1)){\n",
    "    print('donor')\n",
    "    print(d)\n",
    "    curr.indir <- file.path(indir, paste0(\"donor\", d, \"_TF\"))\n",
    "    curr.outdir <- file.path(outdir, paste0(\"donor\", d, \"_TF\"))\n",
    "    dir.create(curr.outdir)\n",
    "    donor.large.clones <- large.clones %>% filter(donor==d)\n",
    "    clones.filt.ids <- sort(donor.large.clones$lineage)\n",
    "    se.filt <- subset(se, subset = (donor==d) & (lineage %in% donor.large.clones$lineage))\n",
    "    if (length(clones.filt.ids) < 2){\n",
    "        print(\"0 or 1 clone found. not running\")\n",
    "        next\n",
    "    }\n",
    "    pairs = combn(clones.filt.ids,2)\n",
    "    names.sig <- c()\n",
    "\n",
    "    for (i in 1:dim(pairs)[2]){\n",
    "        print(pairs[,i])\n",
    "        print(paste(\"comparison #\", i))\n",
    "        a = pairs[1,i]\n",
    "        b = pairs[2,i]\n",
    "        curr.tf.da <- read.csv(file.path(curr.indir, \n",
    "                                         paste0(\"clones_\",a,\"__\", b,\".DE.TF.csv\"))) %>% \n",
    "                      arrange(p_val)\n",
    "        print(head(curr.tf.da))\n",
    "        row.names(curr.tf.da) <- curr.tf.da$X  #sapply(curr.tf.da$X, function(m) {motifs@motif.names[[m]]})\n",
    "        #curr.tf.da\n",
    "        names.sig <- c(names.sig, head(row.names(curr.tf.da), n_top_genes))\n",
    "        all.names.sig <- c(all.names.sig, head(row.names(curr.tf.da), n_top_genes))\n",
    "        gally <- GGally::ggpairs(curr.tf.da[,c(\"p_val\", \"p_val_adj\", \"avg_diff\")], aes(alpha = 0.4))\n",
    "        ggsave(plot=gally, \n",
    "                   file=file.path(curr.outdir, paste0(\"clones_\",a,\"__\", b,\".DE.TF.pvalHist.top.png\")))\n",
    "        DefaultAssay(se.filt) <- \"ATAC\"\n",
    "        raw.ids <- names(Motifs(se.filt)@motif.names)\n",
    "        rownames(curr.tf.da) <- sapply((curr.tf.da$X), function(x){raw.ids[match(x, Motifs(se.filt)@motif.names)]})\n",
    "        m <- MotifPlot(\n",
    "          object = se.filt,\n",
    "          motifs = head(rownames(curr.tf.da)),\n",
    "          assay = 'ATAC'\n",
    "        )\n",
    "        ggsave(plot=m, \n",
    "                   file=file.path(curr.outdir, paste0(\"clones_\",a,\"__\", b,\".DE.TF.motif.top.png\")))\n",
    "\n",
    "\n",
    "        }\n",
    "    DefaultAssay(se.filt) <- \"chromvarnames\"\n",
    "    names.sig <- unique(names.sig)\n",
    "    \n",
    "\n",
    "    feat <- FeaturePlot(se.filt,  features=names.sig)\n",
    "\n",
    "    vln <- VlnPlot(se.filt,  features=names.sig, pt.size = 0)\n",
    "\n",
    "    dot <- DotPlot(se.filt, features = names.sig) + RotatedAxis()\n",
    "\n",
    "    # split by a vector\n",
    "    pdf((file.path(curr.outdir, \"heatmap.top.pdf\")), width=8,height=8)\n",
    "    \n",
    "    heat <- ComplexHeatmap::Heatmap(GetAssayData(se.filt)[names.sig,], \n",
    "            name = paste0(\"donor\",d),\n",
    "            column_split = se.filt[[]][\"lineage\"],\n",
    "            show_column_names = FALSE, use_raster=TRUE\n",
    "           )\n",
    "    ComplexHeatmap::draw(heat)\n",
    "    dev.off()\n",
    "    \n",
    "    ggsave(plot=feat, \n",
    "           file=file.path(curr.outdir, (\"embedFeat.top.png\")))\n",
    "    ggsave(plot=dot, \n",
    "           file=file.path(curr.outdir, (\"dot.top.png\")))\n",
    "    ggsave(plot=vln, \n",
    "           file=file.path(curr.outdir, (\"violin.top.png\")))\n",
    "    }\n",
    "all.names.sig <- unique(all.names.sig)"
   ]
  },
  {
   "cell_type": "markdown",
   "id": "0bb45042",
   "metadata": {},
   "source": [
    "## Dotplot for all donors"
   ]
  },
  {
   "cell_type": "code",
   "execution_count": null,
   "id": "4219fb55",
   "metadata": {},
   "outputs": [],
   "source": [
    "pdf(file = file.path(outdir, \"./dotplot.allDonors.top.pdf\"), width = 8, height = 8)\n",
    "dot <- DotPlot(se, features = all.names.sig, group.by=\"donor\") + RotatedAxis()\n",
    "dot\n",
    "dev.off()"
   ]
  },
  {
   "cell_type": "code",
   "execution_count": null,
   "id": "337318ad",
   "metadata": {},
   "outputs": [],
   "source": [
    "pdf(file = file.path(outdir, \"./dotplot.allDonors.clones.top.pdf\"), width = 8, height = 8)\n",
    "dot <- DotPlot(se, features = all.names.sig, group.by=\"name\", cluster.idents=T) + RotatedAxis()\n",
    "dot\n",
    "dev.off()"
   ]
  },
  {
   "cell_type": "markdown",
   "id": "b78aba1f",
   "metadata": {},
   "source": [
    "## Heatmap for all donors"
   ]
  },
  {
   "cell_type": "code",
   "execution_count": null,
   "id": "ca052607",
   "metadata": {
    "scrolled": false
   },
   "outputs": [],
   "source": [
    "pdf((file.path(outdir, \"heatmap.allDonors.top.pdf\")), width=8,height=8)\n",
    "heat <- ComplexHeatmap::Heatmap(GetAssayData(se)[names.sig,], \n",
    "        top_annotation = HeatmapAnnotation(donor=as.character(se$donor)),\n",
    "        show_column_names = FALSE, \n",
    "        column_split = se[[\"name\"]],\n",
    "       )\n",
    "\n",
    "ComplexHeatmap::draw(heat)\n",
    "dev.off()"
   ]
  },
  {
   "cell_type": "code",
   "execution_count": null,
   "id": "ffb06010",
   "metadata": {
    "scrolled": false
   },
   "outputs": [],
   "source": [
    "# pdf((file.path(outdir, \"heatmap.allDonors.anno.top.pdf\")), width=8,height=8)\n",
    "# heat <- ComplexHeatmap::Heatmap(GetAssayData(se)[all.names.sig,], \n",
    "#         top_annotation = HeatmapAnnotation(donor=as.character(se$donor), clone=as.character(se$lineage), \n",
    "#                                            depth=anno_barplot(log10(se$peak_region_fragments))),\n",
    "#         show_column_names = FALSE\n",
    "#        )\n",
    "\n",
    "# ComplexHeatmap::draw(heat)\n",
    "# dev.off()"
   ]
  },
  {
   "cell_type": "code",
   "execution_count": null,
   "id": "a8b61392",
   "metadata": {},
   "outputs": [],
   "source": [
    "pdf((file.path(outdir, \"heatmap.allDonors.split.top.pdf\")), width=8,height=8)\n",
    "heat <- ComplexHeatmap::Heatmap(GetAssayData(se)[all.names.sig,], \n",
    "        top_annotation = HeatmapAnnotation(donor=as.character(se$donor)),\n",
    "        show_column_names = FALSE, \n",
    "        column_split = se[[\"name\"]],\n",
    "       )\n",
    "\n",
    "ComplexHeatmap::draw(heat)\n",
    "dev.off()"
   ]
  },
  {
   "cell_type": "code",
   "execution_count": null,
   "id": "cdc2fbd4",
   "metadata": {},
   "outputs": [],
   "source": []
  },
  {
   "cell_type": "code",
   "execution_count": null,
   "id": "2d955085",
   "metadata": {},
   "outputs": [],
   "source": []
  }
 ],
 "metadata": {
  "celltoolbar": "Tags",
  "kernelspec": {
   "display_name": "R",
   "language": "R",
   "name": "ir"
  },
  "language_info": {
   "codemirror_mode": "r",
   "file_extension": ".r",
   "mimetype": "text/x-r-source",
   "name": "R",
   "pygments_lexer": "r",
   "version": "4.1.1"
  }
 },
 "nbformat": 4,
 "nbformat_minor": 5
}
