{
 "cells": [
  {
   "cell_type": "code",
   "execution_count": 1,
   "id": "4246cc89",
   "metadata": {
    "tags": [
     "parameters"
    ]
   },
   "outputs": [],
   "source": [
    "#indir = \"/home/isshamie/data/Projects/Mito_Trace/output/annotation_clones/data/cd34norm/MTblacklist/DE_large\"\n",
    "indir = \"/home/isshamie/data/Projects/Mito_Trace/output/pipeline/cd34norm/MTblacklist/data/merged/MT/cellr_True/numread_200/filters/minC10_minR50_topN0_hetT0.001_hetC10_hetCount5_bq20/mgatk/vireoIn/clones/variants_init/vireo/nclones20/annotation_clones/DE_large/minPct_0.01__logThresh_0\"\n",
    "\n",
    "se_indir = \"/home/isshamie/data/Projects/Mito_Trace/output/pipeline/cd34norm/MTblacklist/data/merged/MT/cellr_True/numread_200/filters/minC10_minR50_topN0_hetT0.001_hetC10_hetCount5_bq20/mgatk/vireoIn/clones/variants_init/vireo/nclones20/annotation_clones/DE_large\"\n",
    "n_donors = 4\n",
    "cdf_thresh = 0.3\n",
    "\n",
    "n_top_genes = 5\n",
    "n_top_clones = 3\n",
    "utils_script <- \"/home/isshamie/data/Projects/Mito_Trace/R_scripts/seurat_utils.R\"\n"
   ]
  },
  {
   "cell_type": "code",
   "execution_count": 2,
   "id": "126002f9",
   "metadata": {
    "scrolled": true
   },
   "outputs": [
    {
     "name": "stderr",
     "output_type": "stream",
     "text": [
      "Attaching SeuratObject\n",
      "\n"
     ]
    }
   ],
   "source": [
    "source(utils_script)"
   ]
  },
  {
   "cell_type": "code",
   "execution_count": 3,
   "id": "3657ef25",
   "metadata": {
    "scrolled": true
   },
   "outputs": [
    {
     "name": "stderr",
     "output_type": "stream",
     "text": [
      "Warning message in dir.create(outdir):\n",
      "“'/home/isshamie/data/Projects/Mito_Trace/output/pipeline/cd34norm/MTblacklist/data/merged/MT/cellr_True/numread_200/filters/minC10_minR50_topN0_hetT0.001_hetC10_hetCount5_bq20/mgatk/vireoIn/clones/variants_init/vireo/nclones20/annotation_clones/DE_large/minPct_0.01__logThresh_0/cdf_thresh__0.3' already exists”\n"
     ]
    }
   ],
   "source": [
    "outdir <- paste0(indir, \"/\", \"cdf_thresh__\", (cdf_thresh))\n",
    "dir.create(outdir)"
   ]
  },
  {
   "cell_type": "code",
   "execution_count": 4,
   "id": "5d9ca2e3",
   "metadata": {
    "scrolled": true
   },
   "outputs": [
    {
     "name": "stderr",
     "output_type": "stream",
     "text": [
      "\n",
      "Attaching package: ‘cowplot’\n",
      "\n",
      "\n",
      "The following object is masked from ‘package:patchwork’:\n",
      "\n",
      "    align_plots\n",
      "\n",
      "\n",
      "\n",
      "Attaching package: ‘dplyr’\n",
      "\n",
      "\n",
      "The following objects are masked from ‘package:stats’:\n",
      "\n",
      "    filter, lag\n",
      "\n",
      "\n",
      "The following objects are masked from ‘package:base’:\n",
      "\n",
      "    intersect, setdiff, setequal, union\n",
      "\n",
      "\n",
      "Loading required package: grid\n",
      "\n",
      "========================================\n",
      "ComplexHeatmap version 2.10.0\n",
      "Bioconductor page: http://bioconductor.org/packages/ComplexHeatmap/\n",
      "Github page: https://github.com/jokergoo/ComplexHeatmap\n",
      "Documentation: http://jokergoo.github.io/ComplexHeatmap-reference\n",
      "\n",
      "If you use it in published research, please cite:\n",
      "Gu, Z. Complex heatmaps reveal patterns and correlations in multidimensional \n",
      "  genomic data. Bioinformatics 2016.\n",
      "\n",
      "The new InteractiveComplexHeatmap package can directly export static \n",
      "complex heatmaps into an interactive Shiny app with zero effort. Have a try!\n",
      "\n",
      "This message can be suppressed by:\n",
      "  suppressPackageStartupMessages(library(ComplexHeatmap))\n",
      "========================================\n",
      "\n",
      "\n",
      "\n",
      "\n",
      "Loading required package: BSgenome\n",
      "\n",
      "Loading required package: BiocGenerics\n",
      "\n",
      "\n",
      "Attaching package: ‘BiocGenerics’\n",
      "\n",
      "\n",
      "The following objects are masked from ‘package:dplyr’:\n",
      "\n",
      "    combine, intersect, setdiff, union\n",
      "\n",
      "\n",
      "The following objects are masked from ‘package:stats’:\n",
      "\n",
      "    IQR, mad, sd, var, xtabs\n",
      "\n",
      "\n",
      "The following objects are masked from ‘package:base’:\n",
      "\n",
      "    anyDuplicated, append, as.data.frame, basename, cbind, colnames,\n",
      "    dirname, do.call, duplicated, eval, evalq, Filter, Find, get, grep,\n",
      "    grepl, intersect, is.unsorted, lapply, Map, mapply, match, mget,\n",
      "    order, paste, pmax, pmax.int, pmin, pmin.int, Position, rank,\n",
      "    rbind, Reduce, rownames, sapply, setdiff, sort, table, tapply,\n",
      "    union, unique, unsplit, which.max, which.min\n",
      "\n",
      "\n",
      "Loading required package: S4Vectors\n",
      "\n",
      "Loading required package: stats4\n",
      "\n",
      "\n",
      "Attaching package: ‘S4Vectors’\n",
      "\n",
      "\n",
      "The following object is masked from ‘package:future’:\n",
      "\n",
      "    values\n",
      "\n",
      "\n",
      "The following objects are masked from ‘package:dplyr’:\n",
      "\n",
      "    first, rename\n",
      "\n",
      "\n",
      "The following objects are masked from ‘package:base’:\n",
      "\n",
      "    expand.grid, I, unname\n",
      "\n",
      "\n",
      "Loading required package: IRanges\n",
      "\n",
      "\n",
      "Attaching package: ‘IRanges’\n",
      "\n",
      "\n",
      "The following objects are masked from ‘package:dplyr’:\n",
      "\n",
      "    collapse, desc, slice\n",
      "\n",
      "\n",
      "Loading required package: GenomeInfoDb\n",
      "\n",
      "Loading required package: GenomicRanges\n",
      "\n",
      "Loading required package: Biostrings\n",
      "\n",
      "Loading required package: XVector\n",
      "\n",
      "\n",
      "Attaching package: ‘Biostrings’\n",
      "\n",
      "\n",
      "The following object is masked from ‘package:grid’:\n",
      "\n",
      "    pattern\n",
      "\n",
      "\n",
      "The following object is masked from ‘package:base’:\n",
      "\n",
      "    strsplit\n",
      "\n",
      "\n",
      "Loading required package: rtracklayer\n",
      "\n"
     ]
    }
   ],
   "source": [
    "library(Seurat)\n",
    "library(Signac)\n",
    "library(ggplot2)\n",
    "library(patchwork)\n",
    "set.seed(1234)\n",
    "library(magrittr)\n",
    "library(cowplot)\n",
    "library(metap)\n",
    "library(dplyr)\n",
    "library(future)\n",
    "library(\"ComplexHeatmap\")\n",
    "library(motifmatchr)\n",
    "library(JASPAR2020)\n",
    "library(TFBSTools)\n",
    "library(BSgenome.Hsapiens.UCSC.hg38)\n"
   ]
  },
  {
   "cell_type": "markdown",
   "id": "e8a7d7b5",
   "metadata": {},
   "source": [
    "## Import seurat object"
   ]
  },
  {
   "cell_type": "code",
   "execution_count": 5,
   "id": "2ef3a56c",
   "metadata": {
    "scrolled": true
   },
   "outputs": [
    {
     "name": "stdout",
     "output_type": "stream",
     "text": [
      "[1] 2\n",
      "[1] \"i 1 donor 0\"\n",
      "[1] \"only 1 clone. Using top 3 clones\"\n",
      "[1] \"i 2 donor 3\"\n"
     ]
    },
    {
     "data": {
      "text/html": [
       "<table class=\"dataframe\">\n",
       "<caption>A data.frame: 6 × 9</caption>\n",
       "<thead>\n",
       "\t<tr><th scope=col>X</th><th scope=col>donor</th><th scope=col>lineage</th><th scope=col>norm.total</th><th scope=col>total</th><th scope=col>name</th><th scope=col>cdf.norm</th><th scope=col>cdf</th><th scope=col>index</th></tr>\n",
       "\t<tr><th scope=col>&lt;int&gt;</th><th scope=col>&lt;int&gt;</th><th scope=col>&lt;int&gt;</th><th scope=col>&lt;dbl&gt;</th><th scope=col>&lt;int&gt;</th><th scope=col>&lt;chr&gt;</th><th scope=col>&lt;dbl&gt;</th><th scope=col>&lt;int&gt;</th><th scope=col>&lt;int&gt;</th></tr>\n",
       "</thead>\n",
       "<tbody>\n",
       "\t<tr><td> 9</td><td>3</td><td> 2</td><td>0.2285052</td><td>144</td><td>3_2 </td><td>0.1142526</td><td>144</td><td>1</td></tr>\n",
       "\t<tr><td>10</td><td>3</td><td>13</td><td>0.1893704</td><td>151</td><td>3_13</td><td>0.2089378</td><td>295</td><td>2</td></tr>\n",
       "\t<tr><td>11</td><td>3</td><td> 4</td><td>0.1398944</td><td>100</td><td>3_4 </td><td>0.2788850</td><td>395</td><td>3</td></tr>\n",
       "\t<tr><td> 1</td><td>0</td><td> 3</td><td>0.2672711</td><td>253</td><td>0_3 </td><td>0.1336355</td><td>253</td><td>1</td></tr>\n",
       "\t<tr><td> 2</td><td>0</td><td> 6</td><td>0.2625955</td><td>239</td><td>0_6 </td><td>0.2649333</td><td>492</td><td>2</td></tr>\n",
       "\t<tr><td> 3</td><td>0</td><td>16</td><td>0.2608498</td><td>223</td><td>0_16</td><td>0.3953582</td><td>715</td><td>3</td></tr>\n",
       "</tbody>\n",
       "</table>\n"
      ],
      "text/latex": [
       "A data.frame: 6 × 9\n",
       "\\begin{tabular}{lllllllll}\n",
       " X & donor & lineage & norm.total & total & name & cdf.norm & cdf & index\\\\\n",
       " <int> & <int> & <int> & <dbl> & <int> & <chr> & <dbl> & <int> & <int>\\\\\n",
       "\\hline\n",
       "\t  9 & 3 &  2 & 0.2285052 & 144 & 3\\_2  & 0.1142526 & 144 & 1\\\\\n",
       "\t 10 & 3 & 13 & 0.1893704 & 151 & 3\\_13 & 0.2089378 & 295 & 2\\\\\n",
       "\t 11 & 3 &  4 & 0.1398944 & 100 & 3\\_4  & 0.2788850 & 395 & 3\\\\\n",
       "\t  1 & 0 &  3 & 0.2672711 & 253 & 0\\_3  & 0.1336355 & 253 & 1\\\\\n",
       "\t  2 & 0 &  6 & 0.2625955 & 239 & 0\\_6  & 0.2649333 & 492 & 2\\\\\n",
       "\t  3 & 0 & 16 & 0.2608498 & 223 & 0\\_16 & 0.3953582 & 715 & 3\\\\\n",
       "\\end{tabular}\n"
      ],
      "text/markdown": [
       "\n",
       "A data.frame: 6 × 9\n",
       "\n",
       "| X &lt;int&gt; | donor &lt;int&gt; | lineage &lt;int&gt; | norm.total &lt;dbl&gt; | total &lt;int&gt; | name &lt;chr&gt; | cdf.norm &lt;dbl&gt; | cdf &lt;int&gt; | index &lt;int&gt; |\n",
       "|---|---|---|---|---|---|---|---|---|\n",
       "|  9 | 3 |  2 | 0.2285052 | 144 | 3_2  | 0.1142526 | 144 | 1 |\n",
       "| 10 | 3 | 13 | 0.1893704 | 151 | 3_13 | 0.2089378 | 295 | 2 |\n",
       "| 11 | 3 |  4 | 0.1398944 | 100 | 3_4  | 0.2788850 | 395 | 3 |\n",
       "|  1 | 0 |  3 | 0.2672711 | 253 | 0_3  | 0.1336355 | 253 | 1 |\n",
       "|  2 | 0 |  6 | 0.2625955 | 239 | 0_6  | 0.2649333 | 492 | 2 |\n",
       "|  3 | 0 | 16 | 0.2608498 | 223 | 0_16 | 0.3953582 | 715 | 3 |\n",
       "\n"
      ],
      "text/plain": [
       "  X  donor lineage norm.total total name cdf.norm  cdf index\n",
       "1  9 3      2      0.2285052  144   3_2  0.1142526 144 1    \n",
       "2 10 3     13      0.1893704  151   3_13 0.2089378 295 2    \n",
       "3 11 3      4      0.1398944  100   3_4  0.2788850 395 3    \n",
       "4  1 0      3      0.2672711  253   0_3  0.1336355 253 1    \n",
       "5  2 0      6      0.2625955  239   0_6  0.2649333 492 2    \n",
       "6  3 0     16      0.2608498  223   0_16 0.3953582 715 3    "
      ]
     },
     "metadata": {},
     "output_type": "display_data"
    }
   ],
   "source": [
    "se <- readRDS(file.path(se_indir, \"se.clonesfilt.rds\"))\n",
    "init.large.clones <- read.csv(file.path(se_indir, \"large_clones.csv\"))\n",
    "large.clones <- init.large.clones %>% filter(cdf.norm<cdf_thresh)\n",
    "\n",
    "large.clones <- check.if.one.clone(large.clones, init.large.clones, n_top_clones)\n",
    "large.clones"
   ]
  },
  {
   "cell_type": "code",
   "execution_count": 6,
   "id": "ec910a21",
   "metadata": {},
   "outputs": [],
   "source": [
    "se <- subset(se, subset= name %in% factor(large.clones$name))"
   ]
  },
  {
   "cell_type": "code",
   "execution_count": 7,
   "id": "c1f91a07",
   "metadata": {},
   "outputs": [],
   "source": [
    "Idents(se) <- \"name\""
   ]
  },
  {
   "cell_type": "code",
   "execution_count": 8,
   "id": "8f207cb1",
   "metadata": {
    "scrolled": true
   },
   "outputs": [
    {
     "name": "stderr",
     "output_type": "stream",
     "text": [
      "Saving 6.67 x 6.67 in image\n",
      "\n"
     ]
    },
    {
     "data": {
      "image/png": "[encoded data removed]",
      "text/plain": [
       "plot without title"
      ]
     },
     "metadata": {
      "image/png": {
       "height": 420,
       "width": 420
      }
     },
     "output_type": "display_data"
    }
   ],
   "source": [
    "p <- ggplot(data = large.clones, aes(index, cdf.norm)) +\n",
    "  geom_point(color = \"steelblue\", size = 1) +\n",
    "  facet_wrap(~ donor) \n",
    "\n",
    "p <- p + geom_hline(yintercept=cdf_thresh, color='green') \n",
    "p\n",
    "ggsave(file.path(outdir, \"large.clones.cdf.png\"))\n",
    "\n"
   ]
  },
  {
   "cell_type": "code",
   "execution_count": 9,
   "id": "c28a1ffa",
   "metadata": {},
   "outputs": [],
   "source": [
    "## Get motif names\n",
    "\n",
    "# DefaultAssay(se) <- \"chromvar\"\n",
    "# chrom.var.names <- GetAssayData(se)\n",
    "# DefaultAssay(se) <- \"ATAC\"\n",
    "# motifs <- Motifs(se)\n",
    "# #Motifs(se)@motif.names\n",
    "\n",
    "# head(chrom.var.names)\n",
    "# row.names(chrom.var.names) <- sapply(row.names(chrom.var.names), function(x) {Motifs(se)@motif.names[[x]]})\n",
    "# head(chrom.var.names)\n",
    "\n",
    "\n"
   ]
  },
  {
   "cell_type": "markdown",
   "id": "5564da63",
   "metadata": {},
   "source": [
    "## TF DE"
   ]
  },
  {
   "cell_type": "markdown",
   "id": "e7def62d",
   "metadata": {},
   "source": [
    "## Summarize results"
   ]
  },
  {
   "cell_type": "code",
   "execution_count": 10,
   "id": "c7854307",
   "metadata": {
    "scrolled": true
   },
   "outputs": [],
   "source": [
    "# all.names.sig <- c()\n",
    "# DefaultAssay(se) <- \"chromvarnames\"\n",
    "# for (d in 0:(n_donors-1)){\n",
    "#     print('donor')\n",
    "#     print(d)\n",
    "#     curr.indir <- file.path(indir, paste0(\"donor\", d, \"_TF\"))\n",
    "#     #curr.outdir <- file.path(outdir, paste0(\"donor\", d, \"_TF\"))\n",
    "#     #dir.create(curr.outdir)\n",
    "#     donor.large.clones <- large.clones %>% filter(donor==d)\n",
    "#     clones.filt.ids <- sort(donor.large.clones$lineage)\n",
    "#     se.filt <- subset(se, subset = (donor==d) & (lineage %in% donor.large.clones$lineage))\n",
    "#     if (length(clones.filt.ids) < 2){\n",
    "#         print(\"0 or 1 clone found. not running\")\n",
    "#         next\n",
    "#     }\n",
    "#     pairs = combn(clones.filt.ids,2)\n",
    "#     names.sig <- c()\n",
    "\n",
    "#     for (i in 1:dim(pairs)[2]){\n",
    "#         print(pairs[,i])\n",
    "#         print(paste(\"comparison #\", i))\n",
    "#         a = pairs[1,i]\n",
    "#         b = pairs[2,i]\n",
    "#         curr.tf.da <- read.csv(file.path(curr.indir, \n",
    "#                                          paste0(\"clones_\",a,\"__\", b,\".DE.TF.csv\"))) %>% \n",
    "#                       arrange(p_val)\n",
    "#         row.names(curr.tf.da) <- curr.tf.da$X  #sapply(curr.tf.da$X, function(m) {motifs@motif.names[[m]]})\n",
    "#         names.sig <- c(names.sig, head(row.names(curr.tf.da), n_top_genes))\n",
    "#         all.names.sig <- c(all.names.sig, head(row.names(curr.tf.da), n_top_genes))\n",
    "#         }\n",
    "#     names.sig <- unique(names.sig)\n",
    "    \n",
    "#     gally <- GGally::ggpairs(curr.tf.da[,c(\"p_val\", \"p_val_adj\")], aes(alpha = 0.4))\n",
    "# }\n"
   ]
  },
  {
   "cell_type": "code",
   "execution_count": 24,
   "id": "78949989",
   "metadata": {
    "scrolled": true
   },
   "outputs": [
    {
     "name": "stdout",
     "output_type": "stream",
     "text": [
      "[1] \"donor\"\n",
      "[1] 0\n"
     ]
    },
    {
     "name": "stderr",
     "output_type": "stream",
     "text": [
      "Warning message in dir.create(curr.outdir):\n",
      "“'/home/isshamie/data/Projects/Mito_Trace/output/pipeline/cd34norm/MTblacklist/data/merged/MT/cellr_True/numread_200/filters/minC10_minR50_topN0_hetT0.001_hetC10_hetCount5_bq20/mgatk/vireoIn/clones/variants_init/vireo/nclones20/annotation_clones/DE_large/minPct_0.01__logThresh_0/cdf_thresh__0.3/donor0_TF' already exists”\n"
     ]
    },
    {
     "name": "stdout",
     "output_type": "stream",
     "text": [
      "[1] 3 6\n",
      "[1] \"comparison # 1\"\n",
      "       X       p_val   avg_diff pct.1 pct.2 p_val_adj p_val_adj_BH\n",
      "1    EN1 0.001614396 -0.2527346 0.427 0.552         1    0.9590511\n",
      "2   NRF1 0.003488216 -0.2307171 0.372 0.510         1    0.9590511\n",
      "3  PITX2 0.005549975 -0.2498954 0.447 0.565         1    0.9590511\n",
      "4 ZNF136 0.008606004  0.2111347 0.561 0.485         1    0.9590511\n",
      "5   LBX2 0.009725295 -0.2127362 0.451 0.556         1    0.9590511\n",
      "6  SOX18 0.013369175 -0.1763218 0.447 0.565         1    0.9590511\n"
     ]
    },
    {
     "name": "stderr",
     "output_type": "stream",
     "text": [
      "Saving 6.67 x 6.67 in image\n",
      "\n",
      "Warning message in cor(x, y):\n",
      "“the standard deviation is zero”\n",
      "Warning message in cor(x, y):\n",
      "“the standard deviation is zero”\n",
      "Warning message:\n",
      "“`guides(<scale> = FALSE)` is deprecated. Please use `guides(<scale> = \"none\")` instead.”\n",
      "Saving 6.67 x 6.67 in image\n",
      "\n"
     ]
    },
    {
     "name": "stdout",
     "output_type": "stream",
     "text": [
      "[1]  3 16\n",
      "[1] \"comparison # 2\"\n",
      "       X      p_val   avg_diff pct.1 pct.2 p_val_adj p_val_adj_BH\n",
      "1  SOX10 0.01016403  0.2022925 0.569 0.471         1    0.9833399\n",
      "2   NRF1 0.01258118 -0.1596748 0.372 0.489         1    0.9833399\n",
      "3 PLAGL2 0.01294084 -0.1887889 0.447 0.578         1    0.9833399\n",
      "4 ZNF274 0.01308723 -0.2230894 0.415 0.507         1    0.9833399\n",
      "5    MAX 0.01316097 -0.2044427 0.490 0.596         1    0.9833399\n",
      "6  MEF2C 0.01592611  0.2019128 0.486 0.426         1    0.9833399\n"
     ]
    },
    {
     "name": "stderr",
     "output_type": "stream",
     "text": [
      "Saving 6.67 x 6.67 in image\n",
      "\n",
      "Warning message in cor(x, y):\n",
      "“the standard deviation is zero”\n",
      "Warning message in cor(x, y):\n",
      "“the standard deviation is zero”\n",
      "Warning message:\n",
      "“`guides(<scale> = FALSE)` is deprecated. Please use `guides(<scale> = \"none\")` instead.”\n",
      "Saving 6.67 x 6.67 in image\n",
      "\n"
     ]
    },
    {
     "name": "stdout",
     "output_type": "stream",
     "text": [
      "[1]  6 16\n",
      "[1] \"comparison # 3\"\n",
      "       X       p_val  avg_diff pct.1 pct.2 p_val_adj p_val_adj_BH\n",
      "1    ERG 0.002193156 0.2494597 0.544 0.430         1    0.7703088\n",
      "2  FOXC1 0.010055740 0.2086031 0.590 0.457         1    0.7703088\n",
      "3  SOX18 0.010096347 0.2154267 0.565 0.439         1    0.7703088\n",
      "4 ZNF682 0.011962878 0.1961677 0.573 0.466         1    0.7703088\n",
      "5  STAT1 0.013224236 0.2328577 0.481 0.395         1    0.7703088\n",
      "6  GATA6 0.013224236 0.4470517 0.406 0.287         1    0.7703088\n"
     ]
    },
    {
     "name": "stderr",
     "output_type": "stream",
     "text": [
      "Saving 6.67 x 6.67 in image\n",
      "\n",
      "Warning message in cor(x, y):\n",
      "“the standard deviation is zero”\n",
      "Warning message in cor(x, y):\n",
      "“the standard deviation is zero”\n",
      "Warning message:\n",
      "“`guides(<scale> = FALSE)` is deprecated. Please use `guides(<scale> = \"none\")` instead.”\n",
      "Saving 6.67 x 6.67 in image\n",
      "\n",
      "'magick' package is suggested to install to give better rasterization.\n",
      "\n",
      "Set `ht_opt$message = FALSE` to turn off this message.\n",
      "\n",
      "Saving 6.67 x 6.67 in image\n",
      "\n",
      "Saving 6.67 x 6.67 in image\n",
      "\n",
      "Saving 6.67 x 6.67 in image\n",
      "\n"
     ]
    },
    {
     "name": "stdout",
     "output_type": "stream",
     "text": [
      "[1] \"donor\"\n",
      "[1] 1\n"
     ]
    },
    {
     "name": "stderr",
     "output_type": "stream",
     "text": [
      "Warning message in dir.create(curr.outdir):\n",
      "“'/home/isshamie/data/Projects/Mito_Trace/output/pipeline/cd34norm/MTblacklist/data/merged/MT/cellr_True/numread_200/filters/minC10_minR50_topN0_hetT0.001_hetC10_hetCount5_bq20/mgatk/vireoIn/clones/variants_init/vireo/nclones20/annotation_clones/DE_large/minPct_0.01__logThresh_0/cdf_thresh__0.3/donor1_TF' already exists”\n"
     ]
    },
    {
     "name": "stdout",
     "output_type": "stream",
     "text": [
      "[1] \"no donor\"\n",
      "[1] \"donor\"\n",
      "[1] 2\n",
      "[1] \"no donor\"\n",
      "[1] \"donor\"\n",
      "[1] 3\n",
      "[1] 2 4\n",
      "[1] \"comparison # 1\"\n",
      "       X       p_val   avg_diff pct.1 pct.2 p_val_adj p_val_adj_BH\n",
      "1  TEAD2 0.001011081  0.3848167 0.542  0.39 0.6400140    0.2695109\n",
      "2 BARHL2 0.001220946  0.3724922 0.556  0.42 0.7728590    0.2695109\n",
      "3    SP3 0.001277303 -0.2893418 0.319  0.42 0.8085326    0.2695109\n",
      "4  KLF11 0.003353539 -0.2564694 0.306  0.47 1.0000000    0.4136472\n",
      "5    SP8 0.004072862 -0.3114064 0.347  0.46 1.0000000    0.4136472\n",
      "6   KLF2 0.004316983 -0.2906920 0.312  0.42 1.0000000    0.4136472\n"
     ]
    },
    {
     "name": "stderr",
     "output_type": "stream",
     "text": [
      "Saving 6.67 x 6.67 in image\n",
      "\n",
      "Warning message:\n",
      "“`guides(<scale> = FALSE)` is deprecated. Please use `guides(<scale> = \"none\")` instead.”\n",
      "Saving 6.67 x 6.67 in image\n",
      "\n"
     ]
    },
    {
     "name": "stdout",
     "output_type": "stream",
     "text": [
      "[1]  2 13\n",
      "[1] \"comparison # 2\"\n",
      "             X        p_val   avg_diff pct.1 pct.2  p_val_adj p_val_adj_BH\n",
      "1 CEBPG(var.2) 1.602313e-05  0.8547609 0.646 0.477 0.01014264  0.005818684\n",
      "2         ATF4 2.112210e-05  0.6569591 0.632 0.411 0.01337029  0.005818684\n",
      "3        CEBPA 2.757670e-05  0.8278851 0.701 0.490 0.01745605  0.005818684\n",
      "4        CEBPD 2.056529e-04  0.8190298 0.674 0.503 0.13017827  0.032544567\n",
      "5         ETV6 1.041304e-03 -0.4230577 0.382 0.517 0.65914562  0.109290804\n",
      "6        FOSL2 1.203037e-03 -0.7465313 0.319 0.483 0.76152254  0.109290804\n"
     ]
    },
    {
     "name": "stderr",
     "output_type": "stream",
     "text": [
      "Saving 6.67 x 6.67 in image\n",
      "\n",
      "Warning message:\n",
      "“`guides(<scale> = FALSE)` is deprecated. Please use `guides(<scale> = \"none\")` instead.”\n",
      "Saving 6.67 x 6.67 in image\n",
      "\n"
     ]
    },
    {
     "name": "stdout",
     "output_type": "stream",
     "text": [
      "[1]  4 13\n",
      "[1] \"comparison # 3\"\n",
      "               X       p_val   avg_diff pct.1 pct.2 p_val_adj p_val_adj_BH\n",
      "1           ATF4 0.001279800  0.5903657  0.56 0.411 0.8101133    0.5002807\n",
      "2          VENTX 0.001995941  0.3834299  0.57 0.358 1.0000000    0.5002807\n",
      "3           HIC2 0.002370999  0.3617559  0.61 0.464 1.0000000    0.5002807\n",
      "4 CREB3L4(var.2) 0.007271011 -0.3870667  0.45 0.523 1.0000000    0.8456410\n",
      "5           CREM 0.008339696 -0.3129998  0.36 0.450 1.0000000    0.8456410\n",
      "6   CEBPG(var.2) 0.008878734  0.5655002  0.56 0.477 1.0000000    0.8456410\n"
     ]
    },
    {
     "name": "stderr",
     "output_type": "stream",
     "text": [
      "Saving 6.67 x 6.67 in image\n",
      "\n",
      "Warning message:\n",
      "“`guides(<scale> = FALSE)` is deprecated. Please use `guides(<scale> = \"none\")` instead.”\n",
      "Saving 6.67 x 6.67 in image\n",
      "\n",
      "'magick' package is suggested to install to give better rasterization.\n",
      "\n",
      "Set `ht_opt$message = FALSE` to turn off this message.\n",
      "\n",
      "Saving 6.67 x 6.67 in image\n",
      "\n",
      "Saving 6.67 x 6.67 in image\n",
      "\n",
      "Saving 6.67 x 6.67 in image\n",
      "\n"
     ]
    }
   ],
   "source": [
    "all.names.sig <- c()\n",
    "DefaultAssay(se) <- \"chromvarnames\"\n",
    "for (d in 0:(n_donors-1)){\n",
    "    print('donor')\n",
    "    print(d)\n",
    "    curr.indir <- file.path(indir, paste0(\"donor\", d, \"_TF\"))\n",
    "    curr.outdir <- file.path(outdir, paste0(\"donor\", d, \"_TF\"))\n",
    "    dir.create(curr.outdir)\n",
    "    donor.large.clones <- large.clones %>% filter(donor==d)\n",
    "    if (dim(donor.large.clones)[1] < 2){\n",
    "        print('no donor')\n",
    "        next\n",
    "    }\n",
    "    clones.filt.ids <- sort(donor.large.clones$lineage)\n",
    "    se.filt <- subset(se, subset = (donor==d) & (lineage %in% donor.large.clones$lineage))\n",
    "    if (length(clones.filt.ids) < 2){\n",
    "        print(\"0 or 1 clone found. not running\")\n",
    "        next\n",
    "    }\n",
    "    pairs = combn(clones.filt.ids,2)\n",
    "    names.sig <- c()\n",
    "\n",
    "    for (i in 1:dim(pairs)[2]){\n",
    "        print(pairs[,i])\n",
    "        print(paste(\"comparison #\", i))\n",
    "        a = pairs[1,i]\n",
    "        b = pairs[2,i]\n",
    "        curr.tf.da <- read.csv(file.path(curr.indir, \n",
    "                                         paste0(\"clones_\",a,\"__\", b,\".DE.TF.csv\"))) %>% \n",
    "                      arrange(p_val)\n",
    "        print(head(curr.tf.da))\n",
    "        row.names(curr.tf.da) <- curr.tf.da$X  #sapply(curr.tf.da$X, function(m) {motifs@motif.names[[m]]})\n",
    "        #curr.tf.da\n",
    "        names.sig <- c(names.sig, head(row.names(curr.tf.da), n_top_genes))\n",
    "        all.names.sig <- c(all.names.sig, head(row.names(curr.tf.da), n_top_genes))\n",
    "        gally <- GGally::ggpairs(curr.tf.da[,c(\"p_val\", \"p_val_adj\", \"avg_diff\")], aes(alpha = 0.4))\n",
    "        ggsave(plot=gally, \n",
    "                   file=file.path(curr.outdir, paste0(\"clones_\",a,\"__\", b,\".DE.TF.pvalHist.top.png\")))\n",
    "        DefaultAssay(se.filt) <- \"ATAC\"\n",
    "        raw.ids <- names(Motifs(se.filt)@motif.names)\n",
    "        rownames(curr.tf.da) <- sapply((curr.tf.da$X), function(x){raw.ids[match(x, Motifs(se.filt)@motif.names)]})\n",
    "        m <- MotifPlot(\n",
    "          object = se.filt,\n",
    "          motifs = head(rownames(curr.tf.da)),\n",
    "          assay = 'ATAC'\n",
    "        )\n",
    "        ggsave(plot=m, \n",
    "                   file=file.path(curr.outdir, paste0(\"clones_\",a,\"__\", b,\".DE.TF.motif.top.png\")))\n",
    "\n",
    "\n",
    "        }\n",
    "    DefaultAssay(se.filt) <- \"chromvarnames\"\n",
    "    names.sig <- unique(names.sig)\n",
    "    \n",
    "\n",
    "    feat <- FeaturePlot(se.filt,  features=names.sig)\n",
    "\n",
    "    vln <- VlnPlot(se.filt,  features=names.sig, pt.size = 0)\n",
    "\n",
    "    dot <- DotPlot(se.filt, features = names.sig) + RotatedAxis()\n",
    "\n",
    "    # split by a vector\n",
    "    pdf((file.path(curr.outdir, \"heatmap.top.pdf\")), width=8,height=8)\n",
    "    \n",
    "    heat <- ComplexHeatmap::Heatmap(GetAssayData(se.filt)[names.sig,], \n",
    "            name = paste0(\"donor\",d),\n",
    "            column_split = se.filt[[]][\"lineage\"],\n",
    "            show_column_names = FALSE, use_raster=TRUE\n",
    "           )\n",
    "    ComplexHeatmap::draw(heat)\n",
    "    dev.off()\n",
    "    \n",
    "    ggsave(plot=feat, \n",
    "           file=file.path(curr.outdir, (\"embedFeat.top.png\")))\n",
    "    ggsave(plot=dot, \n",
    "           file=file.path(curr.outdir, (\"dot.top.png\")))\n",
    "    ggsave(plot=vln, \n",
    "           file=file.path(curr.outdir, (\"violin.top.png\")))\n",
    "    }\n",
    "all.names.sig <- unique(all.names.sig)"
   ]
  },
  {
   "cell_type": "markdown",
   "id": "0bb45042",
   "metadata": {},
   "source": [
    "## Dotplot for all donors"
   ]
  },
  {
   "cell_type": "code",
   "execution_count": 25,
   "id": "4219fb55",
   "metadata": {},
   "outputs": [
    {
     "data": {
      "text/html": [
       "<strong>png:</strong> 2"
      ],
      "text/latex": [
       "\\textbf{png:} 2"
      ],
      "text/markdown": [
       "**png:** 2"
      ],
      "text/plain": [
       "png \n",
       "  2 "
      ]
     },
     "metadata": {},
     "output_type": "display_data"
    }
   ],
   "source": [
    "pdf(file = file.path(outdir, \"./dotplot.allDonors.top.pdf\"), width = 8, height = 8)\n",
    "dot <- DotPlot(se, features = all.names.sig, group.by=\"donor\") + RotatedAxis()\n",
    "dot\n",
    "dev.off()"
   ]
  },
  {
   "cell_type": "code",
   "execution_count": 26,
   "id": "337318ad",
   "metadata": {},
   "outputs": [
    {
     "data": {
      "text/html": [
       "<strong>png:</strong> 2"
      ],
      "text/latex": [
       "\\textbf{png:} 2"
      ],
      "text/markdown": [
       "**png:** 2"
      ],
      "text/plain": [
       "png \n",
       "  2 "
      ]
     },
     "metadata": {},
     "output_type": "display_data"
    }
   ],
   "source": [
    "pdf(file = file.path(outdir, \"./dotplot.allDonors.clones.top.pdf\"), width = 8, height = 8)\n",
    "dot <- DotPlot(se, features = all.names.sig, group.by=\"name\", cluster.idents=T) + RotatedAxis()\n",
    "dot\n",
    "dev.off()"
   ]
  },
  {
   "cell_type": "markdown",
   "id": "b78aba1f",
   "metadata": {},
   "source": [
    "## Heatmap for all donors"
   ]
  },
  {
   "cell_type": "code",
   "execution_count": 27,
   "id": "ca052607",
   "metadata": {
    "scrolled": false
   },
   "outputs": [
    {
     "data": {
      "text/html": [
       "<strong>png:</strong> 2"
      ],
      "text/latex": [
       "\\textbf{png:} 2"
      ],
      "text/markdown": [
       "**png:** 2"
      ],
      "text/plain": [
       "png \n",
       "  2 "
      ]
     },
     "metadata": {},
     "output_type": "display_data"
    }
   ],
   "source": [
    "pdf((file.path(outdir, \"heatmap.allDonors.top.pdf\")), width=8,height=8)\n",
    "heat <- ComplexHeatmap::Heatmap(GetAssayData(se)[names.sig,], \n",
    "        top_annotation = HeatmapAnnotation(donor=as.character(se$donor)),\n",
    "        show_column_names = FALSE, \n",
    "        column_split = se[[\"name\"]],\n",
    "       )\n",
    "\n",
    "ComplexHeatmap::draw(heat)\n",
    "dev.off()"
   ]
  },
  {
   "cell_type": "code",
   "execution_count": 28,
   "id": "ffb06010",
   "metadata": {
    "scrolled": false
   },
   "outputs": [],
   "source": [
    "# pdf((file.path(outdir, \"heatmap.allDonors.anno.top.pdf\")), width=8,height=8)\n",
    "# heat <- ComplexHeatmap::Heatmap(GetAssayData(se)[all.names.sig,], \n",
    "#         top_annotation = HeatmapAnnotation(donor=as.character(se$donor), clone=as.character(se$lineage), \n",
    "#                                            depth=anno_barplot(log10(se$peak_region_fragments))),\n",
    "#         show_column_names = FALSE\n",
    "#        )\n",
    "\n",
    "# ComplexHeatmap::draw(heat)\n",
    "# dev.off()"
   ]
  },
  {
   "cell_type": "code",
   "execution_count": 29,
   "id": "a8b61392",
   "metadata": {},
   "outputs": [
    {
     "data": {
      "text/html": [
       "<strong>png:</strong> 2"
      ],
      "text/latex": [
       "\\textbf{png:} 2"
      ],
      "text/markdown": [
       "**png:** 2"
      ],
      "text/plain": [
       "png \n",
       "  2 "
      ]
     },
     "metadata": {},
     "output_type": "display_data"
    }
   ],
   "source": [
    "pdf((file.path(outdir, \"heatmap.allDonors.split.top.pdf\")), width=8,height=8)\n",
    "heat <- ComplexHeatmap::Heatmap(GetAssayData(se)[all.names.sig,], \n",
    "        top_annotation = HeatmapAnnotation(donor=as.character(se$donor)),\n",
    "        show_column_names = FALSE, \n",
    "        column_split = se[[\"name\"]],\n",
    "       )\n",
    "\n",
    "ComplexHeatmap::draw(heat)\n",
    "dev.off()"
   ]
  },
  {
   "cell_type": "code",
   "execution_count": null,
   "id": "cdc2fbd4",
   "metadata": {},
   "outputs": [],
   "source": []
  },
  {
   "cell_type": "code",
   "execution_count": null,
   "id": "2d955085",
   "metadata": {},
   "outputs": [],
   "source": []
  }
 ],
 "metadata": {
  "celltoolbar": "Tags",
  "kernelspec": {
   "display_name": "R",
   "language": "R",
   "name": "ir"
  },
  "language_info": {
   "codemirror_mode": "r",
   "file_extension": ".r",
   "mimetype": "text/x-r-source",
   "name": "R",
   "pygments_lexer": "r",
   "version": "4.1.1"
  }
 },
 "nbformat": 4,
 "nbformat_minor": 5
}
