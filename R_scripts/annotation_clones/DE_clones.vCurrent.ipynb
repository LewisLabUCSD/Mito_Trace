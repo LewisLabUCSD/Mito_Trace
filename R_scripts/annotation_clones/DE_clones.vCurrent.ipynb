{
 "cells": [
  {
   "cell_type": "code",
   "execution_count": 1,
   "id": "4246cc89",
   "metadata": {
    "tags": [
     "parameters"
    ]
   },
   "outputs": [],
   "source": [
    "se_f = \"/data2/mito_lineage/output/annotation_clones/data/cd34norm/MTblacklist/SE.rds\"\n",
    "outdir = \"/data2/mito_lineage/output/annotation_clones/data/cd34norm/MTblacklist/DE/\"\n",
    "n_donors = 4\n",
    "top_clones = 2"
   ]
  },
  {
   "cell_type": "code",
   "execution_count": null,
   "id": "5d9ca2e3",
   "metadata": {},
   "outputs": [],
   "source": [
    "library(Seurat)\n",
    "library(Signac)\n",
    "library(ggplot2)\n",
    "library(patchwork)\n",
    "set.seed(1234)\n",
    "library(magrittr)\n",
    "library(cowplot)\n",
    "library(metap)\n",
    "library(dplyr)\n",
    "library(future)"
   ]
  },
  {
   "cell_type": "markdown",
   "id": "e8a7d7b5",
   "metadata": {},
   "source": [
    "## Import seurat object"
   ]
  },
  {
   "cell_type": "code",
   "execution_count": null,
   "id": "c0710306",
   "metadata": {},
   "outputs": [],
   "source": [
    "se = readRDS(se_f)"
   ]
  },
  {
   "cell_type": "markdown",
   "id": "c09f8077",
   "metadata": {},
   "source": [
    "## Plot clones"
   ]
  },
  {
   "cell_type": "markdown",
   "id": "a65021b4",
   "metadata": {},
   "source": [
    "## Sizes of clones"
   ]
  },
  {
   "cell_type": "markdown",
   "id": "4226c860",
   "metadata": {},
   "source": [
    "## Gene DE on top clones"
   ]
  },
  {
   "cell_type": "markdown",
   "id": "5564da63",
   "metadata": {},
   "source": [
    "## Anno DE"
   ]
  }
 ],
 "metadata": {
  "celltoolbar": "Tags",
  "kernelspec": {
   "display_name": "R",
   "language": "R",
   "name": "ir"
  },
  "language_info": {
   "codemirror_mode": "r",
   "file_extension": ".r",
   "mimetype": "text/x-r-source",
   "name": "R",
   "pygments_lexer": "r",
   "version": "4.1.1"
  }
 },
 "nbformat": 4,
 "nbformat_minor": 5
}
