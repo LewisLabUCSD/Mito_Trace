{
 "cells": [
  {
   "cell_type": "code",
   "execution_count": 1,
   "id": "4246cc89",
   "metadata": {
    "tags": [
     "parameters"
    ]
   },
   "outputs": [],
   "source": [
    "se_f =  \"/data2/mito_lineage/output/annotation/data/cd34norm/MTblacklist/mergedSamples/allSamples.integrated.rds\"\n",
    "cells_meta_f = \"/data2/mito_lineage/output/pipeline/cd34norm/MTblacklist/data/merged/MT/cellr_True/numread_200/filters/minC10_minR50_topN0_hetT0.001_hetC10_hetCount5_bq20/mgatk/vireoIn/clones/variants_mgatkdonor/knn/kparam_3/concat/cells_meta.tsv\"\n",
    "#\"/data2/mito_lineage/output/pipeline/cd34norm/MTblacklist/data/merged/clones.txt\"\n",
    "outdir = \"/data2/mito_lineage/output/annotation_clones/data/cd34norm/MTblacklist\"\n",
    "ids.reversed = TRUE"
   ]
  },
  {
   "cell_type": "code",
   "execution_count": 2,
   "id": "0e22c73b",
   "metadata": {},
   "outputs": [
    {
     "ename": "ERROR",
     "evalue": "Error: '/data2/mito_lineage/output/pipeline/cd34norm/MTblacklist/data/merged/MT/cellr_True/numread_200/filters/minC10_minR50_topN0_hetT0.001_hetC10_hetCount5_bq20/mgatk/vireoIn/clones/variants_mgatkdonor/knn/kparam_3/concat/cells_meta.tsv' does not exist.\n",
     "output_type": "error",
     "traceback": [
      "Error: '/data2/mito_lineage/output/pipeline/cd34norm/MTblacklist/data/merged/MT/cellr_True/numread_200/filters/minC10_minR50_topN0_hetT0.001_hetC10_hetCount5_bq20/mgatk/vireoIn/clones/variants_mgatkdonor/knn/kparam_3/concat/cells_meta.tsv' does not exist.\nTraceback:\n",
      "1. as.data.frame(readr::read_tsv(cells_meta_f))",
      "2. readr::read_tsv(cells_meta_f)",
      "3. vroom::vroom(file, delim = \"\\t\", col_names = col_names, col_types = col_types, \n .     col_select = {\n .         {\n .             col_select\n .         }\n .     }, id = id, .name_repair = name_repair, skip = skip, n_max = n_max, \n .     na = na, quote = quote, comment = comment, skip_empty_rows = skip_empty_rows, \n .     trim_ws = trim_ws, escape_double = TRUE, escape_backslash = FALSE, \n .     locale = locale, guess_max = guess_max, show_col_types = show_col_types, \n .     progress = progress, altrep = lazy, num_threads = num_threads)",
      "4. vroom_(file, delim = delim %||% col_types$delim, col_names = col_names, \n .     col_types = col_types, id = id, skip = skip, col_select = col_select, \n .     name_repair = .name_repair, na = na, quote = quote, trim_ws = trim_ws, \n .     escape_double = escape_double, escape_backslash = escape_backslash, \n .     comment = comment, skip_empty_rows = skip_empty_rows, locale = locale, \n .     guess_max = guess_max, n_max = n_max, altrep = vroom_altrep(altrep), \n .     num_threads = num_threads, progress = progress)",
      "5. (function (path, write = FALSE) \n . {\n .     if (is.raw(path)) {\n .         return(rawConnection(path, \"rb\"))\n .     }\n .     if (!is.character(path)) {\n .         return(path)\n .     }\n .     if (is_url(path)) {\n .         if (requireNamespace(\"curl\", quietly = TRUE)) {\n .             con <- curl::curl(path)\n .         }\n .         else {\n .             rlang::inform(\"`curl` package not installed, falling back to using `url()`\")\n .             con <- url(path)\n .         }\n .         ext <- tolower(tools::file_ext(path))\n .         return(switch(ext, zip = , bz2 = , xz = {\n .             close(con)\n .             stop(\"Reading from remote `\", ext, \"` compressed files is not supported,\\n\", \n .                 \"  download the files locally first.\", call. = FALSE)\n .         }, gz = gzcon(con), con))\n .     }\n .     p <- split_path_ext(basename(path))\n .     if (write) {\n .         path <- normalizePath(path, mustWork = FALSE)\n .     }\n .     else {\n .         path <- check_path(path)\n .     }\n .     if (rlang::is_installed(\"archive\")) {\n .         formats <- archive_formats(p$extension)\n .         extension <- p$extension\n .         while (is.null(formats) && nzchar(extension)) {\n .             extension <- split_path_ext(extension)$extension\n .             formats <- archive_formats(extension)\n .         }\n .         if (!is.null(formats)) {\n .             p$extension <- extension\n .             if (write) {\n .                 if (is.null(formats[[1]])) {\n .                   return(archive::file_write(path, filter = formats[[2]]))\n .                 }\n .                 return(archive::archive_write(path, p$path, format = formats[[1]], \n .                   filter = formats[[2]]))\n .             }\n .             if (is.null(formats[[1]])) {\n .                 return(archive::file_read(path, filter = formats[[2]]))\n .             }\n .             return(archive::archive_read(path, format = formats[[1]], \n .                 filter = formats[[2]]))\n .         }\n .     }\n .     if (!write) {\n .         compression <- detect_compression(path)\n .     }\n .     else {\n .         compression <- NA\n .     }\n .     if (is.na(compression)) {\n .         compression <- tools::file_ext(path)\n .     }\n .     if (write && compression == \"zip\") {\n .         stop(\"Can only read from, not write to, .zip\", call. = FALSE)\n .     }\n .     switch(compression, gz = gzfile(path, \"\"), bz2 = bzfile(path, \n .         \"\"), xz = xzfile(path, \"\"), zip = zipfile(path, \"\"), \n .         if (!has_trailing_newline(path)) {\n .             file(path)\n .         } else {\n .             path\n .         })\n . })(\"/data2/mito_lineage/output/pipeline/cd34norm/MTblacklist/data/merged/MT/cellr_True/numread_200/filters/minC10_minR50_topN0_hetT0.001_hetC10_hetCount5_bq20/mgatk/vireoIn/clones/variants_mgatkdonor/knn/kparam_3/concat/cells_meta.tsv\")",
      "6. check_path(path)",
      "7. stop(\"'\", path, \"' does not exist\", if (!is_absolute_path(path)) {\n .     paste0(\" in current working directory ('\", getwd(), \"')\")\n . }, \".\", call. = FALSE)"
     ]
    }
   ],
   "source": [
    "cells_meta <- as.data.frame(readr::read_tsv(cells_meta_f)) # %>% tidyr::unite(barcode)\n",
    "rownames(cells_meta) = cells_meta$ID\n",
    "\n"
   ]
  },
  {
   "cell_type": "code",
   "execution_count": null,
   "id": "556ca238",
   "metadata": {},
   "outputs": [],
   "source": [
    "if (ids.reversed){\n",
    "    split.names <- stringr::str_split(rownames(cells_meta), \"_\")\n",
    "    rownames(cells_meta) = lapply(split.names, function(x){paste0(x[2], \"_\", x[1])})\n",
    "}\n",
    "head(cells_meta)"
   ]
  },
  {
   "cell_type": "code",
   "execution_count": null,
   "id": "3bd68851",
   "metadata": {
    "scrolled": true
   },
   "outputs": [],
   "source": [
    "se <- readRDS(se_f)\n",
    "se[[]]"
   ]
  },
  {
   "cell_type": "code",
   "execution_count": null,
   "id": "5cc8cea1",
   "metadata": {
    "scrolled": true
   },
   "outputs": [],
   "source": [
    "# se_meta = se[[]]\n",
    "# rownames(se_meta) <- apply(stringr::str_split((rownames(se_meta)), \"_\", simplify=T)[,1:2], 1, function(x) {paste0(x[1],  \"_\", x[2])})"
   ]
  },
  {
   "cell_type": "code",
   "execution_count": null,
   "id": "1cf35eff",
   "metadata": {},
   "outputs": [],
   "source": [
    "apply(stringr::str_split((rownames(se[[]])), \"_\", simplify=T)[,1:2], 1, function(x) {paste0(x[[1]],  \"_\", x[[2]])})"
   ]
  },
  {
   "cell_type": "code",
   "execution_count": null,
   "id": "14432627",
   "metadata": {
    "scrolled": true
   },
   "outputs": [],
   "source": [
    "se$ID <- apply(stringr::str_split((rownames(se[[]])), \"_\", simplify=T)[,1:2], 1, function(x) {paste0(x[[1]],  \"_\", x[[2]])})"
   ]
  },
  {
   "cell_type": "code",
   "execution_count": null,
   "id": "bbadaeba",
   "metadata": {},
   "outputs": [],
   "source": [
    "se <- RenameCells(se, new.names=se$ID)"
   ]
  },
  {
   "cell_type": "code",
   "execution_count": null,
   "id": "dd4cd610",
   "metadata": {},
   "outputs": [],
   "source": [
    "se[[]]"
   ]
  },
  {
   "cell_type": "code",
   "execution_count": null,
   "id": "3cd58703",
   "metadata": {
    "scrolled": true
   },
   "outputs": [],
   "source": [
    "new_cells_meta = merge(cells_meta, se[[]], by=0, all=TRUE)\n",
    "head(new_cells_meta)"
   ]
  },
  {
   "cell_type": "code",
   "execution_count": null,
   "id": "abc52df4",
   "metadata": {},
   "outputs": [],
   "source": [
    "rownames(new_cells_meta) <- new_cells_meta$Row.names"
   ]
  },
  {
   "cell_type": "code",
   "execution_count": null,
   "id": "f7a23a4c",
   "metadata": {},
   "outputs": [],
   "source": [
    "se <- AddMetaData(se, new_cells_meta)\n",
    "se[[]]"
   ]
  },
  {
   "cell_type": "code",
   "execution_count": null,
   "id": "e7bf907b",
   "metadata": {
    "scrolled": true
   },
   "outputs": [],
   "source": [
    "# se$donor = factor(cells_meta[\"donor\"])\n",
    "# se$lineage = factor(cells_meta[\"lineage\"])\n",
    "# se$condition = factor(cells_meta[\"condition\"])\n",
    "# se[[]]"
   ]
  },
  {
   "cell_type": "markdown",
   "id": "084a97f6",
   "metadata": {},
   "source": [
    "## Plot by donor and condition"
   ]
  },
  {
   "cell_type": "code",
   "execution_count": null,
   "id": "5d9ca2e3",
   "metadata": {},
   "outputs": [],
   "source": [
    "library(\"Seurat\")\n",
    "#library(\"Seurat\")\n",
    "library(magrittr)\n",
    "library(cowplot)\n",
    "library(ggplot2)"
   ]
  },
  {
   "cell_type": "code",
   "execution_count": null,
   "id": "50638506",
   "metadata": {},
   "outputs": [],
   "source": [
    "library(Seurat)\n",
    "library(Signac)\n",
    "library(patchwork)\n",
    "set.seed(1234)\n",
    "library(magrittr)\n",
    "library(cowplot)\n",
    "library(metap)\n",
    "library(dplyr)\n",
    "library(future)"
   ]
  },
  {
   "cell_type": "code",
   "execution_count": null,
   "id": "764fbc95",
   "metadata": {
    "scrolled": false
   },
   "outputs": [],
   "source": [
    "# Idents(t.cells) <- \"orig.ident\"\n",
    "DimPlot(object = se, label = FALSE, group.by = c('donor', 'condition')) "
   ]
  },
  {
   "cell_type": "code",
   "execution_count": null,
   "id": "2dec1b25",
   "metadata": {},
   "outputs": [],
   "source": [
    "DimPlot(object = se, label = FALSE, split.by=\"donor\", group.by = 'condition')"
   ]
  },
  {
   "cell_type": "markdown",
   "id": "978a834c",
   "metadata": {},
   "source": [
    "## Plot lineage"
   ]
  },
  {
   "cell_type": "code",
   "execution_count": null,
   "id": "b7d5a267",
   "metadata": {},
   "outputs": [],
   "source": [
    "DimPlot(object = se, label = FALSE, split.by=c(\"donor\"), group.by = c('condition', \"lineage\"))\n",
    "ggsave(file.path(outdir, \"lineage.conditions.png\"))"
   ]
  },
  {
   "cell_type": "markdown",
   "id": "e8a7d7b5",
   "metadata": {},
   "source": [
    "## Save"
   ]
  },
  {
   "cell_type": "code",
   "execution_count": null,
   "id": "c0710306",
   "metadata": {},
   "outputs": [],
   "source": [
    "writeRDS(obj=se, file=file.path(outdir, \"SE.rds\"))"
   ]
  }
 ],
 "metadata": {
  "celltoolbar": "Tags",
  "kernelspec": {
   "display_name": "R",
   "language": "R",
   "name": "ir"
  },
  "language_info": {
   "codemirror_mode": "r",
   "file_extension": ".r",
   "mimetype": "text/x-r-source",
   "name": "R",
   "pygments_lexer": "r",
   "version": "4.1.1"
  }
 },
 "nbformat": 4,
 "nbformat_minor": 5
}
