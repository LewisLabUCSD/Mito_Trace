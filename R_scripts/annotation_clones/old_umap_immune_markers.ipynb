{
 "cells": [
  {
   "cell_type": "markdown",
   "id": "223d6f46",
   "metadata": {},
   "source": [
    "## Plot markers umap embeddings\n",
    "Does this over each donor and separate"
   ]
  },
  {
   "cell_type": "code",
   "execution_count": 1,
   "id": "235ae72f",
   "metadata": {
    "tags": [
     "parameters"
    ]
   },
   "outputs": [],
   "source": [
    "# Input info\n",
    "se_f = \"/data/Mito_Trace/output/pipeline/DUPI_april08_2021/MTblacklist_mtasnucl_Bonly/data/merged/MT/cellr_True/numread_200/filters/minC10_minR50_topN0_hetT0.001_hetC10_hetCount5_bq20/mgatk/vireoIn/clones/variants_init/knn/kparam_3/concat/annotation_clones/SE.rds\"\n",
    "sample_names = \"preB,postB\"\n",
    "outdir = \"/data/Mito_Trace/output/pipeline/DUPI_april08_2021/MTblacklist_mtasnucl_Bonly/data/merged/MT/cellr_True/numread_200/filters/minC10_minR50_topN0_hetT0.001_hetC10_hetCount5_bq20/mgatk/vireoIn/clones/variants_init/knn/kparam_3/concat/annotation_clones/umap_markers\"\n",
    "\n",
    "# Parameters\n",
    "assay=\"RNA\"\n",
    "\n",
    "# Parallel processing\n",
    "cores = 4\n",
    "\n",
    "# R utils script\n",
    "utils_script <- \"/data/Mito_Trace/R_scripts/seurat_utils.R\"\n",
    "\n"
   ]
  },
  {
   "cell_type": "code",
   "execution_count": 2,
   "id": "e663aab6",
   "metadata": {
    "scrolled": false
   },
   "outputs": [
    {
     "name": "stderr",
     "output_type": "stream",
     "text": [
      "Attaching SeuratObject\n",
      "\n"
     ]
    }
   ],
   "source": [
    "source(utils_script)\n",
    "outdir = outdir\n",
    "dir.create(outdir, showWarnings = FALSE)\n"
   ]
  },
  {
   "cell_type": "code",
   "execution_count": 3,
   "id": "34253229",
   "metadata": {},
   "outputs": [
    {
     "data": {
      "text/html": [
       "<style>\n",
       ".list-inline {list-style: none; margin:0; padding: 0}\n",
       ".list-inline>li {display: inline-block}\n",
       ".list-inline>li:not(:last-child)::after {content: \"\\00b7\"; padding: 0 .5ex}\n",
       "</style>\n",
       "<ol class=list-inline><li>'preB'</li><li>'postB'</li></ol>\n"
      ],
      "text/latex": [
       "\\begin{enumerate*}\n",
       "\\item 'preB'\n",
       "\\item 'postB'\n",
       "\\end{enumerate*}\n"
      ],
      "text/markdown": [
       "1. 'preB'\n",
       "2. 'postB'\n",
       "\n",
       "\n"
      ],
      "text/plain": [
       "[1] \"preB\"  \"postB\""
      ]
     },
     "metadata": {},
     "output_type": "display_data"
    }
   ],
   "source": [
    "sample_names <- unlist(strsplit(sample_names, \",\")[[1]])\n",
    "sample_names"
   ]
  },
  {
   "cell_type": "code",
   "execution_count": 4,
   "id": "aad4f638",
   "metadata": {
    "scrolled": true
   },
   "outputs": [
    {
     "name": "stderr",
     "output_type": "stream",
     "text": [
      "Loading required package: stats4\n",
      "\n",
      "Loading required package: BiocGenerics\n",
      "\n",
      "\n",
      "Attaching package: ‘BiocGenerics’\n",
      "\n",
      "\n",
      "The following objects are masked from ‘package:stats’:\n",
      "\n",
      "    IQR, mad, sd, var, xtabs\n",
      "\n",
      "\n",
      "The following objects are masked from ‘package:base’:\n",
      "\n",
      "    anyDuplicated, append, as.data.frame, basename, cbind, colnames,\n",
      "    dirname, do.call, duplicated, eval, evalq, Filter, Find, get, grep,\n",
      "    grepl, intersect, is.unsorted, lapply, Map, mapply, match, mget,\n",
      "    order, paste, pmax, pmax.int, pmin, pmin.int, Position, rank,\n",
      "    rbind, Reduce, rownames, sapply, setdiff, sort, table, tapply,\n",
      "    union, unique, unsplit, which.max, which.min\n",
      "\n",
      "\n",
      "Loading required package: S4Vectors\n",
      "\n",
      "\n",
      "Attaching package: ‘S4Vectors’\n",
      "\n",
      "\n",
      "The following objects are masked from ‘package:base’:\n",
      "\n",
      "    expand.grid, I, unname\n",
      "\n",
      "\n",
      "Loading required package: IRanges\n",
      "\n",
      "Loading required package: GenomeInfoDb\n",
      "\n",
      "Loading required package: ensembldb\n",
      "\n",
      "Loading required package: GenomicFeatures\n",
      "\n",
      "Loading required package: AnnotationDbi\n",
      "\n",
      "Loading required package: Biobase\n",
      "\n",
      "Welcome to Bioconductor\n",
      "\n",
      "    Vignettes contain introductory material; view with\n",
      "    'browseVignettes()'. To cite Bioconductor, see\n",
      "    'citation(\"Biobase\")', and for packages 'citation(\"pkgname\")'.\n",
      "\n",
      "\n",
      "Loading required package: AnnotationFilter\n",
      "\n",
      "\n",
      "Attaching package: 'ensembldb'\n",
      "\n",
      "\n",
      "The following object is masked from 'package:stats':\n",
      "\n",
      "    filter\n",
      "\n",
      "\n",
      "\n",
      "Attaching package: 'data.table'\n",
      "\n",
      "\n",
      "The following object is masked from 'package:GenomicRanges':\n",
      "\n",
      "    shift\n",
      "\n",
      "\n",
      "The following object is masked from 'package:IRanges':\n",
      "\n",
      "    shift\n",
      "\n",
      "\n",
      "The following objects are masked from 'package:S4Vectors':\n",
      "\n",
      "    first, second\n",
      "\n",
      "\n",
      "\n",
      "Attaching package: 'magrittr'\n",
      "\n",
      "\n",
      "The following object is masked from 'package:AnnotationFilter':\n",
      "\n",
      "    not\n",
      "\n",
      "\n",
      "\n",
      "Attaching package: 'cowplot'\n",
      "\n",
      "\n",
      "The following object is masked from 'package:patchwork':\n",
      "\n",
      "    align_plots\n",
      "\n",
      "\n",
      "\n",
      "Attaching package: 'future'\n",
      "\n",
      "\n",
      "The following object is masked from 'package:AnnotationFilter':\n",
      "\n",
      "    value\n",
      "\n",
      "\n",
      "The following object is masked from 'package:GenomicRanges':\n",
      "\n",
      "    values\n",
      "\n",
      "\n",
      "The following object is masked from 'package:S4Vectors':\n",
      "\n",
      "    values\n",
      "\n",
      "\n"
     ]
    },
    {
     "data": {
      "text/html": [
       "<pre class=language-r><code>structure(function (..., envir = parent.frame()) \n",
       "{\n",
       "<span style=white-space:pre-wrap>    future &lt;- SequentialFuture(..., envir = envir)</span>\n",
       "<span style=white-space:pre-wrap>    if (!future$lazy) </span>\n",
       "<span style=white-space:pre-wrap>        future &lt;- run(future)</span>\n",
       "<span style=white-space:pre-wrap>    invisible(future)</span>\n",
       "}, class = c(\"FutureStrategy\", \"sequential\", \"uniprocess\", \"future\", \n",
       "\"function\"))</code></pre>"
      ],
      "text/latex": [
       "\\begin{minted}{r}\n",
       "structure(function (..., envir = parent.frame()) \n",
       "\\{\n",
       "    future <- SequentialFuture(..., envir = envir)\n",
       "    if (!future\\$lazy) \n",
       "        future <- run(future)\n",
       "    invisible(future)\n",
       "\\}, class = c(\"FutureStrategy\", \"sequential\", \"uniprocess\", \"future\", \n",
       "\"function\"))\n",
       "\\end{minted}"
      ],
      "text/markdown": [
       "```r\n",
       "structure(function (..., envir = parent.frame()) \n",
       "{\n",
       "    future <- SequentialFuture(..., envir = envir)\n",
       "    if (!future$lazy) \n",
       "        future <- run(future)\n",
       "    invisible(future)\n",
       "}, class = c(\"FutureStrategy\", \"sequential\", \"uniprocess\", \"future\", \n",
       "\"function\"))\n",
       "```"
      ],
      "text/plain": [
       "sequential:\n",
       "- args: function (..., envir = parent.frame())\n",
       "- tweaked: FALSE\n",
       "- call: NULL"
      ]
     },
     "metadata": {},
     "output_type": "display_data"
    },
    {
     "name": "stderr",
     "output_type": "stream",
     "text": [
      "Warning message:\n",
      "\"Strategy 'multiprocess' is deprecated in future (>= 1.20.0). Instead, explicitly specify either 'multisession' or 'multicore'. In the current R session, 'multiprocess' equals 'multicore'.\"\n",
      "\n",
      "Attaching package: 'dplyr'\n",
      "\n",
      "\n",
      "The following objects are masked from 'package:data.table':\n",
      "\n",
      "    between, first, last\n",
      "\n",
      "\n",
      "The following objects are masked from 'package:ensembldb':\n",
      "\n",
      "    filter, select\n",
      "\n",
      "\n",
      "The following object is masked from 'package:AnnotationDbi':\n",
      "\n",
      "    select\n",
      "\n",
      "\n",
      "The following object is masked from 'package:Biobase':\n",
      "\n",
      "    combine\n",
      "\n",
      "\n",
      "The following objects are masked from 'package:GenomicRanges':\n",
      "\n",
      "    intersect, setdiff, union\n",
      "\n",
      "\n",
      "The following object is masked from 'package:GenomeInfoDb':\n",
      "\n",
      "    intersect\n",
      "\n",
      "\n",
      "The following objects are masked from 'package:IRanges':\n",
      "\n",
      "    collapse, desc, intersect, setdiff, slice, union\n",
      "\n",
      "\n",
      "The following objects are masked from 'package:S4Vectors':\n",
      "\n",
      "    first, intersect, rename, setdiff, setequal, union\n",
      "\n",
      "\n",
      "The following objects are masked from 'package:BiocGenerics':\n",
      "\n",
      "    combine, intersect, setdiff, union\n",
      "\n",
      "\n",
      "The following objects are masked from 'package:stats':\n",
      "\n",
      "    filter, lag\n",
      "\n",
      "\n",
      "The following objects are masked from 'package:base':\n",
      "\n",
      "    intersect, setdiff, setequal, union\n",
      "\n",
      "\n"
     ]
    }
   ],
   "source": [
    "library(GenomicRanges)\n",
    "library(Seurat)\n",
    "library(Signac)\n",
    "library(GenomeInfoDb)\n",
    "library(EnsDb.Hsapiens.v75)\n",
    "library(ggplot2)\n",
    "library(patchwork)\n",
    "set.seed(1234)\n",
    "library(data.table)\n",
    "library(magrittr)\n",
    "library(cowplot)\n",
    "library(metap)\n",
    "library(\"RColorBrewer\")\n",
    "\n",
    "library(future)\n",
    "plan()\n",
    "\n",
    "plan(\"multiprocess\", workers = cores)\n",
    "#options(future.globals.maxSize = 50000 * 1024^2) # for 50 Gb RAM\n",
    "options(future.globals.maxSize = 8000 * 1024^2)\n",
    "\n",
    "library(dplyr)"
   ]
  },
  {
   "cell_type": "code",
   "execution_count": 5,
   "id": "7cc056e3",
   "metadata": {
    "scrolled": true
   },
   "outputs": [
    {
     "data": {
      "text/plain": [
       "An object of class Seurat \n",
       "62328 features across 3683 samples within 2 assays \n",
       "Active assay: RNA (20010 features, 0 variable features)\n",
       " 1 other assay present: ATAC\n",
       " 2 dimensional reductions calculated: integrated_lsi, umap"
      ]
     },
     "metadata": {},
     "output_type": "display_data"
    }
   ],
   "source": [
    "se <- readRDS(se_f)#file.path(indir, paste0(\"allSamples.integrated.rds\")))\n",
    "se"
   ]
  },
  {
   "cell_type": "code",
   "execution_count": 6,
   "id": "74081ce8",
   "metadata": {},
   "outputs": [],
   "source": [
    "markers_f <- \"/data/Mito_Trace/data/processed/pbmc_markers.txt\"\n",
    "markers <- read.csv(markers_f, header=F)[[1]]"
   ]
  },
  {
   "cell_type": "code",
   "execution_count": 7,
   "id": "d7bfaef2",
   "metadata": {},
   "outputs": [
    {
     "data": {
      "text/html": [
       "<style>\n",
       ".list-inline {list-style: none; margin:0; padding: 0}\n",
       ".list-inline>li {display: inline-block}\n",
       ".list-inline>li:not(:last-child)::after {content: \"\\00b7\"; padding: 0 .5ex}\n",
       "</style>\n",
       "<ol class=list-inline><li>'TCRA'</li><li>'CD56'</li><li>'CD161'</li><li>'NCR1'</li><li>'NCAM1'</li><li>'CEACAM8'</li><li>'IGHM'</li><li>'TCRA'</li><li>'IL7R'</li><li>'CCR7'</li><li>'CD14'</li><li>'LYZ'</li><li>'IL7R'</li><li>'S100A4'</li><li>'MS4A1'</li><li>'CD8A'</li><li>'FCGR3A'</li><li>'MS4A7'</li><li>'FCGR3A'</li><li>'GNLY'</li><li>'NKG7'</li><li>'FCER1A'</li><li>'CST3'</li><li>'PPBP'</li></ol>\n"
      ],
      "text/latex": [
       "\\begin{enumerate*}\n",
       "\\item 'TCRA'\n",
       "\\item 'CD56'\n",
       "\\item 'CD161'\n",
       "\\item 'NCR1'\n",
       "\\item 'NCAM1'\n",
       "\\item 'CEACAM8'\n",
       "\\item 'IGHM'\n",
       "\\item 'TCRA'\n",
       "\\item 'IL7R'\n",
       "\\item 'CCR7'\n",
       "\\item 'CD14'\n",
       "\\item 'LYZ'\n",
       "\\item 'IL7R'\n",
       "\\item 'S100A4'\n",
       "\\item 'MS4A1'\n",
       "\\item 'CD8A'\n",
       "\\item 'FCGR3A'\n",
       "\\item 'MS4A7'\n",
       "\\item 'FCGR3A'\n",
       "\\item 'GNLY'\n",
       "\\item 'NKG7'\n",
       "\\item 'FCER1A'\n",
       "\\item 'CST3'\n",
       "\\item 'PPBP'\n",
       "\\end{enumerate*}\n"
      ],
      "text/markdown": [
       "1. 'TCRA'\n",
       "2. 'CD56'\n",
       "3. 'CD161'\n",
       "4. 'NCR1'\n",
       "5. 'NCAM1'\n",
       "6. 'CEACAM8'\n",
       "7. 'IGHM'\n",
       "8. 'TCRA'\n",
       "9. 'IL7R'\n",
       "10. 'CCR7'\n",
       "11. 'CD14'\n",
       "12. 'LYZ'\n",
       "13. 'IL7R'\n",
       "14. 'S100A4'\n",
       "15. 'MS4A1'\n",
       "16. 'CD8A'\n",
       "17. 'FCGR3A'\n",
       "18. 'MS4A7'\n",
       "19. 'FCGR3A'\n",
       "20. 'GNLY'\n",
       "21. 'NKG7'\n",
       "22. 'FCER1A'\n",
       "23. 'CST3'\n",
       "24. 'PPBP'\n",
       "\n",
       "\n"
      ],
      "text/plain": [
       " [1] \"TCRA\"    \"CD56\"    \"CD161\"   \"NCR1\"    \"NCAM1\"   \"CEACAM8\" \"IGHM\"   \n",
       " [8] \"TCRA\"    \"IL7R\"    \"CCR7\"    \"CD14\"    \"LYZ\"     \"IL7R\"    \"S100A4\" \n",
       "[15] \"MS4A1\"   \"CD8A\"    \"FCGR3A\"  \"MS4A7\"   \"FCGR3A\"  \"GNLY\"    \"NKG7\"   \n",
       "[22] \"FCER1A\"  \"CST3\"    \"PPBP\"   "
      ]
     },
     "metadata": {},
     "output_type": "display_data"
    }
   ],
   "source": [
    "markers\n"
   ]
  },
  {
   "cell_type": "code",
   "execution_count": 16,
   "id": "5d83484e",
   "metadata": {},
   "outputs": [
    {
     "data": {
      "text/html": [
       "FALSE"
      ],
      "text/latex": [
       "FALSE"
      ],
      "text/markdown": [
       "FALSE"
      ],
      "text/plain": [
       "[1] FALSE"
      ]
     },
     "metadata": {},
     "output_type": "display_data"
    }
   ],
   "source": [
    "'TCRA' %in% toupper(rownames(se))"
   ]
  },
  {
   "cell_type": "code",
   "execution_count": 17,
   "id": "16043cb1",
   "metadata": {},
   "outputs": [
    {
     "data": {
      "text/html": [
       "FALSE"
      ],
      "text/latex": [
       "FALSE"
      ],
      "text/markdown": [
       "FALSE"
      ],
      "text/plain": [
       "[1] FALSE"
      ]
     },
     "metadata": {},
     "output_type": "display_data"
    }
   ],
   "source": [
    "'TRA' %in% toupper(rownames(se))"
   ]
  },
  {
   "cell_type": "code",
   "execution_count": 18,
   "id": "769e6c67",
   "metadata": {},
   "outputs": [
    {
     "data": {
      "text/html": [
       "FALSE"
      ],
      "text/latex": [
       "FALSE"
      ],
      "text/markdown": [
       "FALSE"
      ],
      "text/plain": [
       "[1] FALSE"
      ]
     },
     "metadata": {},
     "output_type": "display_data"
    }
   ],
   "source": [
    "'IGHM' %in% toupper(rownames(se))"
   ]
  },
  {
   "cell_type": "code",
   "execution_count": 41,
   "id": "7fca9d87",
   "metadata": {},
   "outputs": [
    {
     "data": {
      "text/html": [
       "FALSE"
      ],
      "text/latex": [
       "FALSE"
      ],
      "text/markdown": [
       "FALSE"
      ],
      "text/plain": [
       "[1] FALSE"
      ]
     },
     "metadata": {},
     "output_type": "display_data"
    }
   ],
   "source": [
    "'CD56' %in% rownames(se)"
   ]
  },
  {
   "cell_type": "code",
   "execution_count": 39,
   "id": "ea6fd1c8",
   "metadata": {},
   "outputs": [],
   "source": [
    "genes.upper <- sapply(rownames(se), function(x) {toupper(gsub(\"\\\\.\", \"_\", gsub(\"-\", \"_\", x)))})"
   ]
  },
  {
   "cell_type": "code",
   "execution_count": 58,
   "id": "090e6981",
   "metadata": {},
   "outputs": [
    {
     "data": {
      "text/html": [
       "FALSE"
      ],
      "text/latex": [
       "FALSE"
      ],
      "text/markdown": [
       "FALSE"
      ],
      "text/plain": [
       "[1] FALSE"
      ]
     },
     "metadata": {},
     "output_type": "display_data"
    }
   ],
   "source": [
    "'TRAV1' %in% (genes.upper)"
   ]
  },
  {
   "cell_type": "code",
   "execution_count": 59,
   "id": "db9a6712",
   "metadata": {},
   "outputs": [
    {
     "data": {
      "text/html": [
       "FALSE"
      ],
      "text/latex": [
       "FALSE"
      ],
      "text/markdown": [
       "FALSE"
      ],
      "text/plain": [
       "[1] FALSE"
      ]
     },
     "metadata": {},
     "output_type": "display_data"
    }
   ],
   "source": [
    "'TRA1' %in% (genes.upper)"
   ]
  },
  {
   "cell_type": "code",
   "execution_count": 60,
   "id": "4d3df4f2",
   "metadata": {
    "scrolled": true
   },
   "outputs": [
    {
     "data": {
      "text/html": [
       "FALSE"
      ],
      "text/latex": [
       "FALSE"
      ],
      "text/markdown": [
       "FALSE"
      ],
      "text/plain": [
       "[1] FALSE"
      ]
     },
     "metadata": {},
     "output_type": "display_data"
    }
   ],
   "source": [
    "'TRAV' %in% (genes.upper)"
   ]
  },
  {
   "cell_type": "code",
   "execution_count": 61,
   "id": "5693fda7",
   "metadata": {
    "scrolled": false
   },
   "outputs": [
    {
     "data": {
      "text/html": [
       "FALSE"
      ],
      "text/latex": [
       "FALSE"
      ],
      "text/markdown": [
       "FALSE"
      ],
      "text/plain": [
       "[1] FALSE"
      ]
     },
     "metadata": {},
     "output_type": "display_data"
    }
   ],
   "source": [
    "'TRAV1_1' %in% (genes.upper)"
   ]
  },
  {
   "cell_type": "code",
   "execution_count": 62,
   "id": "dd0414f2",
   "metadata": {
    "scrolled": true
   },
   "outputs": [
    {
     "data": {
      "text/html": [
       "FALSE"
      ],
      "text/latex": [
       "FALSE"
      ],
      "text/markdown": [
       "FALSE"
      ],
      "text/plain": [
       "[1] FALSE"
      ]
     },
     "metadata": {},
     "output_type": "display_data"
    }
   ],
   "source": [
    "'TRAV11' %in% (genes.upper)"
   ]
  },
  {
   "cell_type": "code",
   "execution_count": 63,
   "id": "03ef801e",
   "metadata": {},
   "outputs": [
    {
     "data": {
      "text/html": [
       "TRUE"
      ],
      "text/latex": [
       "TRUE"
      ],
      "text/markdown": [
       "TRUE"
      ],
      "text/plain": [
       "[1] TRUE"
      ]
     },
     "metadata": {},
     "output_type": "display_data"
    }
   ],
   "source": [
    "\"FCGR3A\"  %in% (genes.upper)"
   ]
  },
  {
   "cell_type": "code",
   "execution_count": 64,
   "id": "9bf29c68",
   "metadata": {},
   "outputs": [
    {
     "data": {
      "text/html": [],
      "text/latex": [],
      "text/markdown": [],
      "text/plain": [
       "named character(0)"
      ]
     },
     "metadata": {},
     "output_type": "display_data"
    }
   ],
   "source": [
    "genes.upper[grepl( \"TRAV\", genes.upper, fixed = TRUE)]\n"
   ]
  },
  {
   "cell_type": "code",
   "execution_count": 65,
   "id": "687e0757",
   "metadata": {
    "scrolled": true
   },
   "outputs": [
    {
     "data": {
      "text/html": [
       "<style>\n",
       ".dl-inline {width: auto; margin:0; padding: 0}\n",
       ".dl-inline>dt, .dl-inline>dd {float: none; width: auto; display: inline-block}\n",
       ".dl-inline>dt::after {content: \":\\0020\"; padding-right: .5ex}\n",
       ".dl-inline>dt:not(:first-of-type) {padding-left: .5ex}\n",
       "</style><dl class=dl-inline><dt>TRAPPC2</dt><dd>'TRAPPC2'</dd><dt>AGTRAP</dt><dd>'AGTRAP'</dd><dt>TRAPPC3</dt><dd>'TRAPPC3'</dd><dt>TRABD2B</dt><dd>'TRABD2B'</dd><dt>TRAF3IP3</dt><dd>'TRAF3IP3'</dd><dt>TRAF5</dt><dd>'TRAF5'</dd><dt>TRAM2</dt><dd>'TRAM2'</dd><dt>TRAF3IP2</dt><dd>'TRAF3IP2'</dd><dt>TRAPPC3L</dt><dd>'TRAPPC3L'</dd><dt>TRANK1</dt><dd>'TRANK1'</dd><dt>TRAK1</dt><dd>'TRAK1'</dd><dt>TRAIP</dt><dd>'TRAIP'</dd><dt>TRAT1</dt><dd>'TRAT1'</dd><dt>TRA2B</dt><dd>'TRA2B'</dd><dt>TRA2A</dt><dd>'TRA2A'</dd><dt>STRA8</dt><dd>'STRA8'</dd><dt>STRAP</dt><dd>'STRAP'</dd><dt>TRAFD1</dt><dd>'TRAFD1'</dd><dt>TRAF6</dt><dd>'TRAF6'</dd><dt>TRAPPC4</dt><dd>'TRAPPC4'</dd><dt>HTRA3</dt><dd>'HTRA3'</dd><dt>TRAM1L1</dt><dd>'TRAM1L1'</dd><dt>TRAPPC11</dt><dd>'TRAPPC11'</dd><dt>TRAPPC1</dt><dd>'TRAPPC1'</dd><dt>TRAF4</dt><dd>'TRAF4'</dd><dt>STRADA</dt><dd>'STRADA'</dd><dt>STRA13</dt><dd>'STRA13'</dd><dt>TRAPPC12</dt><dd>'TRAPPC12'</dd><dt>ATRAID</dt><dd>'ATRAID'</dd><dt>HTRA2</dt><dd>'HTRA2'</dd><dt>TRABD2A</dt><dd>'TRABD2A'</dd><dt>TRAK2</dt><dd>'TRAK2'</dd><dt>STRADB</dt><dd>'STRADB'</dd><dt>TRAF3IP1</dt><dd>'TRAF3IP1'</dd><dt>TRAF7</dt><dd>'TRAF7'</dd><dt>TRAP1</dt><dd>'TRAP1'</dd><dt>TRADD</dt><dd>'TRADD'</dd><dt>TRAPPC2L</dt><dd>'TRAPPC2L'</dd><dt>HTRA4</dt><dd>'HTRA4'</dd><dt>TRAM1</dt><dd>'TRAM1'</dd><dt>TRAPPC5</dt><dd>'TRAPPC5'</dd><dt>TRAPPC6A</dt><dd>'TRAPPC6A'</dd><dt>TRAPPC2P1</dt><dd>'TRAPPC2P1'</dd><dt>TRAF1</dt><dd>'TRAF1'</dd><dt>TRAF2</dt><dd>'TRAF2'</dd><dt>TRAPPC6B</dt><dd>'TRAPPC6B'</dd><dt>TRAF3</dt><dd>'TRAF3'</dd><dt>TRAPPC13</dt><dd>'TRAPPC13'</dd><dt>TRABD</dt><dd>'TRABD'</dd><dt>HTRA1</dt><dd>'HTRA1'</dd><dt>TRAPPC8</dt><dd>'TRAPPC8'</dd><dt>STRA6</dt><dd>'STRA6'</dd><dt>TRAPPC10</dt><dd>'TRAPPC10'</dd></dl>\n"
      ],
      "text/latex": [
       "\\begin{description*}\n",
       "\\item[TRAPPC2] 'TRAPPC2'\n",
       "\\item[AGTRAP] 'AGTRAP'\n",
       "\\item[TRAPPC3] 'TRAPPC3'\n",
       "\\item[TRABD2B] 'TRABD2B'\n",
       "\\item[TRAF3IP3] 'TRAF3IP3'\n",
       "\\item[TRAF5] 'TRAF5'\n",
       "\\item[TRAM2] 'TRAM2'\n",
       "\\item[TRAF3IP2] 'TRAF3IP2'\n",
       "\\item[TRAPPC3L] 'TRAPPC3L'\n",
       "\\item[TRANK1] 'TRANK1'\n",
       "\\item[TRAK1] 'TRAK1'\n",
       "\\item[TRAIP] 'TRAIP'\n",
       "\\item[TRAT1] 'TRAT1'\n",
       "\\item[TRA2B] 'TRA2B'\n",
       "\\item[TRA2A] 'TRA2A'\n",
       "\\item[STRA8] 'STRA8'\n",
       "\\item[STRAP] 'STRAP'\n",
       "\\item[TRAFD1] 'TRAFD1'\n",
       "\\item[TRAF6] 'TRAF6'\n",
       "\\item[TRAPPC4] 'TRAPPC4'\n",
       "\\item[HTRA3] 'HTRA3'\n",
       "\\item[TRAM1L1] 'TRAM1L1'\n",
       "\\item[TRAPPC11] 'TRAPPC11'\n",
       "\\item[TRAPPC1] 'TRAPPC1'\n",
       "\\item[TRAF4] 'TRAF4'\n",
       "\\item[STRADA] 'STRADA'\n",
       "\\item[STRA13] 'STRA13'\n",
       "\\item[TRAPPC12] 'TRAPPC12'\n",
       "\\item[ATRAID] 'ATRAID'\n",
       "\\item[HTRA2] 'HTRA2'\n",
       "\\item[TRABD2A] 'TRABD2A'\n",
       "\\item[TRAK2] 'TRAK2'\n",
       "\\item[STRADB] 'STRADB'\n",
       "\\item[TRAF3IP1] 'TRAF3IP1'\n",
       "\\item[TRAF7] 'TRAF7'\n",
       "\\item[TRAP1] 'TRAP1'\n",
       "\\item[TRADD] 'TRADD'\n",
       "\\item[TRAPPC2L] 'TRAPPC2L'\n",
       "\\item[HTRA4] 'HTRA4'\n",
       "\\item[TRAM1] 'TRAM1'\n",
       "\\item[TRAPPC5] 'TRAPPC5'\n",
       "\\item[TRAPPC6A] 'TRAPPC6A'\n",
       "\\item[TRAPPC2P1] 'TRAPPC2P1'\n",
       "\\item[TRAF1] 'TRAF1'\n",
       "\\item[TRAF2] 'TRAF2'\n",
       "\\item[TRAPPC6B] 'TRAPPC6B'\n",
       "\\item[TRAF3] 'TRAF3'\n",
       "\\item[TRAPPC13] 'TRAPPC13'\n",
       "\\item[TRABD] 'TRABD'\n",
       "\\item[HTRA1] 'HTRA1'\n",
       "\\item[TRAPPC8] 'TRAPPC8'\n",
       "\\item[STRA6] 'STRA6'\n",
       "\\item[TRAPPC10] 'TRAPPC10'\n",
       "\\end{description*}\n"
      ],
      "text/markdown": [
       "TRAPPC2\n",
       ":   'TRAPPC2'AGTRAP\n",
       ":   'AGTRAP'TRAPPC3\n",
       ":   'TRAPPC3'TRABD2B\n",
       ":   'TRABD2B'TRAF3IP3\n",
       ":   'TRAF3IP3'TRAF5\n",
       ":   'TRAF5'TRAM2\n",
       ":   'TRAM2'TRAF3IP2\n",
       ":   'TRAF3IP2'TRAPPC3L\n",
       ":   'TRAPPC3L'TRANK1\n",
       ":   'TRANK1'TRAK1\n",
       ":   'TRAK1'TRAIP\n",
       ":   'TRAIP'TRAT1\n",
       ":   'TRAT1'TRA2B\n",
       ":   'TRA2B'TRA2A\n",
       ":   'TRA2A'STRA8\n",
       ":   'STRA8'STRAP\n",
       ":   'STRAP'TRAFD1\n",
       ":   'TRAFD1'TRAF6\n",
       ":   'TRAF6'TRAPPC4\n",
       ":   'TRAPPC4'HTRA3\n",
       ":   'HTRA3'TRAM1L1\n",
       ":   'TRAM1L1'TRAPPC11\n",
       ":   'TRAPPC11'TRAPPC1\n",
       ":   'TRAPPC1'TRAF4\n",
       ":   'TRAF4'STRADA\n",
       ":   'STRADA'STRA13\n",
       ":   'STRA13'TRAPPC12\n",
       ":   'TRAPPC12'ATRAID\n",
       ":   'ATRAID'HTRA2\n",
       ":   'HTRA2'TRABD2A\n",
       ":   'TRABD2A'TRAK2\n",
       ":   'TRAK2'STRADB\n",
       ":   'STRADB'TRAF3IP1\n",
       ":   'TRAF3IP1'TRAF7\n",
       ":   'TRAF7'TRAP1\n",
       ":   'TRAP1'TRADD\n",
       ":   'TRADD'TRAPPC2L\n",
       ":   'TRAPPC2L'HTRA4\n",
       ":   'HTRA4'TRAM1\n",
       ":   'TRAM1'TRAPPC5\n",
       ":   'TRAPPC5'TRAPPC6A\n",
       ":   'TRAPPC6A'TRAPPC2P1\n",
       ":   'TRAPPC2P1'TRAF1\n",
       ":   'TRAF1'TRAF2\n",
       ":   'TRAF2'TRAPPC6B\n",
       ":   'TRAPPC6B'TRAF3\n",
       ":   'TRAF3'TRAPPC13\n",
       ":   'TRAPPC13'TRABD\n",
       ":   'TRABD'HTRA1\n",
       ":   'HTRA1'TRAPPC8\n",
       ":   'TRAPPC8'STRA6\n",
       ":   'STRA6'TRAPPC10\n",
       ":   'TRAPPC10'\n",
       "\n"
      ],
      "text/plain": [
       "    TRAPPC2      AGTRAP     TRAPPC3     TRABD2B    TRAF3IP3       TRAF5 \n",
       "  \"TRAPPC2\"    \"AGTRAP\"   \"TRAPPC3\"   \"TRABD2B\"  \"TRAF3IP3\"     \"TRAF5\" \n",
       "      TRAM2    TRAF3IP2    TRAPPC3L      TRANK1       TRAK1       TRAIP \n",
       "    \"TRAM2\"  \"TRAF3IP2\"  \"TRAPPC3L\"    \"TRANK1\"     \"TRAK1\"     \"TRAIP\" \n",
       "      TRAT1       TRA2B       TRA2A       STRA8       STRAP      TRAFD1 \n",
       "    \"TRAT1\"     \"TRA2B\"     \"TRA2A\"     \"STRA8\"     \"STRAP\"    \"TRAFD1\" \n",
       "      TRAF6     TRAPPC4       HTRA3     TRAM1L1    TRAPPC11     TRAPPC1 \n",
       "    \"TRAF6\"   \"TRAPPC4\"     \"HTRA3\"   \"TRAM1L1\"  \"TRAPPC11\"   \"TRAPPC1\" \n",
       "      TRAF4      STRADA      STRA13    TRAPPC12      ATRAID       HTRA2 \n",
       "    \"TRAF4\"    \"STRADA\"    \"STRA13\"  \"TRAPPC12\"    \"ATRAID\"     \"HTRA2\" \n",
       "    TRABD2A       TRAK2      STRADB    TRAF3IP1       TRAF7       TRAP1 \n",
       "  \"TRABD2A\"     \"TRAK2\"    \"STRADB\"  \"TRAF3IP1\"     \"TRAF7\"     \"TRAP1\" \n",
       "      TRADD    TRAPPC2L       HTRA4       TRAM1     TRAPPC5    TRAPPC6A \n",
       "    \"TRADD\"  \"TRAPPC2L\"     \"HTRA4\"     \"TRAM1\"   \"TRAPPC5\"  \"TRAPPC6A\" \n",
       "  TRAPPC2P1       TRAF1       TRAF2    TRAPPC6B       TRAF3    TRAPPC13 \n",
       "\"TRAPPC2P1\"     \"TRAF1\"     \"TRAF2\"  \"TRAPPC6B\"     \"TRAF3\"  \"TRAPPC13\" \n",
       "      TRABD       HTRA1     TRAPPC8       STRA6    TRAPPC10 \n",
       "    \"TRABD\"     \"HTRA1\"   \"TRAPPC8\"     \"STRA6\"  \"TRAPPC10\" "
      ]
     },
     "metadata": {},
     "output_type": "display_data"
    }
   ],
   "source": [
    "genes.upper[grepl( \"TRA\", genes.upper, fixed = TRUE)]\n"
   ]
  },
  {
   "cell_type": "code",
   "execution_count": 20,
   "id": "820dc599",
   "metadata": {
    "scrolled": true
   },
   "outputs": [
    {
     "data": {
      "text/html": [
       "<style>\n",
       ".dl-inline {width: auto; margin:0; padding: 0}\n",
       ".dl-inline>dt, .dl-inline>dd {float: none; width: auto; display: inline-block}\n",
       ".dl-inline>dt::after {content: \":\\0020\"; padding-right: .5ex}\n",
       ".dl-inline>dt:not(:first-of-type) {padding-left: .5ex}\n",
       "</style><dl class=dl-inline><dt>TCRA</dt><dd>FALSE</dd><dt>CD56</dt><dd>FALSE</dd><dt>CD161</dt><dd>FALSE</dd><dt>NCR1</dt><dd>TRUE</dd><dt>NCAM1</dt><dd>TRUE</dd><dt>CEACAM8</dt><dd>TRUE</dd><dt>IGHM</dt><dd>FALSE</dd><dt>TCRA</dt><dd>FALSE</dd><dt>IL7R</dt><dd>TRUE</dd><dt>CCR7</dt><dd>TRUE</dd><dt>CD14</dt><dd>TRUE</dd><dt>LYZ</dt><dd>TRUE</dd><dt>IL7R</dt><dd>TRUE</dd><dt>S100A4</dt><dd>TRUE</dd><dt>MS4A1</dt><dd>TRUE</dd><dt>CD8A</dt><dd>TRUE</dd><dt>FCGR3A</dt><dd>TRUE</dd><dt>MS4A7</dt><dd>TRUE</dd><dt>FCGR3A</dt><dd>TRUE</dd><dt>GNLY</dt><dd>TRUE</dd><dt>NKG7</dt><dd>TRUE</dd><dt>FCER1A</dt><dd>TRUE</dd><dt>CST3</dt><dd>TRUE</dd><dt>PPBP</dt><dd>TRUE</dd></dl>\n"
      ],
      "text/latex": [
       "\\begin{description*}\n",
       "\\item[TCRA] FALSE\n",
       "\\item[CD56] FALSE\n",
       "\\item[CD161] FALSE\n",
       "\\item[NCR1] TRUE\n",
       "\\item[NCAM1] TRUE\n",
       "\\item[CEACAM8] TRUE\n",
       "\\item[IGHM] FALSE\n",
       "\\item[TCRA] FALSE\n",
       "\\item[IL7R] TRUE\n",
       "\\item[CCR7] TRUE\n",
       "\\item[CD14] TRUE\n",
       "\\item[LYZ] TRUE\n",
       "\\item[IL7R] TRUE\n",
       "\\item[S100A4] TRUE\n",
       "\\item[MS4A1] TRUE\n",
       "\\item[CD8A] TRUE\n",
       "\\item[FCGR3A] TRUE\n",
       "\\item[MS4A7] TRUE\n",
       "\\item[FCGR3A] TRUE\n",
       "\\item[GNLY] TRUE\n",
       "\\item[NKG7] TRUE\n",
       "\\item[FCER1A] TRUE\n",
       "\\item[CST3] TRUE\n",
       "\\item[PPBP] TRUE\n",
       "\\end{description*}\n"
      ],
      "text/markdown": [
       "TCRA\n",
       ":   FALSECD56\n",
       ":   FALSECD161\n",
       ":   FALSENCR1\n",
       ":   TRUENCAM1\n",
       ":   TRUECEACAM8\n",
       ":   TRUEIGHM\n",
       ":   FALSETCRA\n",
       ":   FALSEIL7R\n",
       ":   TRUECCR7\n",
       ":   TRUECD14\n",
       ":   TRUELYZ\n",
       ":   TRUEIL7R\n",
       ":   TRUES100A4\n",
       ":   TRUEMS4A1\n",
       ":   TRUECD8A\n",
       ":   TRUEFCGR3A\n",
       ":   TRUEMS4A7\n",
       ":   TRUEFCGR3A\n",
       ":   TRUEGNLY\n",
       ":   TRUENKG7\n",
       ":   TRUEFCER1A\n",
       ":   TRUECST3\n",
       ":   TRUEPPBP\n",
       ":   TRUE\n",
       "\n"
      ],
      "text/plain": [
       "   TCRA    CD56   CD161    NCR1   NCAM1 CEACAM8    IGHM    TCRA    IL7R    CCR7 \n",
       "  FALSE   FALSE   FALSE    TRUE    TRUE    TRUE   FALSE   FALSE    TRUE    TRUE \n",
       "   CD14     LYZ    IL7R  S100A4   MS4A1    CD8A  FCGR3A   MS4A7  FCGR3A    GNLY \n",
       "   TRUE    TRUE    TRUE    TRUE    TRUE    TRUE    TRUE    TRUE    TRUE    TRUE \n",
       "   NKG7  FCER1A    CST3    PPBP \n",
       "   TRUE    TRUE    TRUE    TRUE "
      ]
     },
     "metadata": {},
     "output_type": "display_data"
    }
   ],
   "source": [
    "sapply(markers, FUN=function(x){x %in% toupper(rownames(se))})"
   ]
  },
  {
   "cell_type": "markdown",
   "id": "ab1d4806",
   "metadata": {},
   "source": [
    "## Plot marker embeddings"
   ]
  },
  {
   "cell_type": "code",
   "execution_count": 7,
   "id": "c8720fa4",
   "metadata": {
    "scrolled": true
   },
   "outputs": [
    {
     "name": "stderr",
     "output_type": "stream",
     "text": [
      "Saving 6.67 x 6.67 in image\n",
      "\n",
      "Saving 6.67 x 6.67 in image\n",
      "\n",
      "Saving 6.67 x 6.67 in image\n",
      "\n",
      "Saving 6.67 x 6.67 in image\n",
      "\n",
      "Saving 6.67 x 6.67 in image\n",
      "\n",
      "Saving 6.67 x 6.67 in image\n",
      "\n",
      "Saving 6.67 x 6.67 in image\n",
      "\n",
      "Saving 6.67 x 6.67 in image\n",
      "\n",
      "Saving 6.67 x 6.67 in image\n",
      "\n",
      "Saving 6.67 x 6.67 in image\n",
      "\n",
      "Saving 6.67 x 6.67 in image\n",
      "\n",
      "Saving 6.67 x 6.67 in image\n",
      "\n",
      "Saving 6.67 x 6.67 in image\n",
      "\n",
      "Saving 6.67 x 6.67 in image\n",
      "\n",
      "Saving 6.67 x 6.67 in image\n",
      "\n",
      "Saving 6.67 x 6.67 in image\n",
      "\n",
      "Saving 6.67 x 6.67 in image\n",
      "\n",
      "Saving 6.67 x 6.67 in image\n",
      "\n",
      "Saving 6.67 x 6.67 in image\n",
      "\n"
     ]
    },
    {
     "data": {
      "text/html": [
       "<dl>\n",
       "\t<dt>$TCRA</dt>\n",
       "\t\t<dd>NULL</dd>\n",
       "\t<dt>$CD56</dt>\n",
       "\t\t<dd>NULL</dd>\n",
       "\t<dt>$CD161</dt>\n",
       "\t\t<dd>NULL</dd>\n",
       "\t<dt>$NCR1</dt>\n",
       "\t\t<dd>'/data/Mito_Trace/output/pipeline/DUPI_april08_2021/MTblacklist_mtasnucl_Bonly/data/merged/MT/cellr_True/numread_200/filters/minC10_minR50_topN0_hetT0.001_hetC10_hetCount5_bq20/mgatk/vireoIn/clones/variants_init/knn/kparam_3/concat/annotation_clones/umap_markers/NCR1.embedFeat.top.png'</dd>\n",
       "\t<dt>$NCAM1</dt>\n",
       "\t\t<dd>'/data/Mito_Trace/output/pipeline/DUPI_april08_2021/MTblacklist_mtasnucl_Bonly/data/merged/MT/cellr_True/numread_200/filters/minC10_minR50_topN0_hetT0.001_hetC10_hetCount5_bq20/mgatk/vireoIn/clones/variants_init/knn/kparam_3/concat/annotation_clones/umap_markers/NCAM1.embedFeat.top.png'</dd>\n",
       "\t<dt>$CEACAM8</dt>\n",
       "\t\t<dd>'/data/Mito_Trace/output/pipeline/DUPI_april08_2021/MTblacklist_mtasnucl_Bonly/data/merged/MT/cellr_True/numread_200/filters/minC10_minR50_topN0_hetT0.001_hetC10_hetCount5_bq20/mgatk/vireoIn/clones/variants_init/knn/kparam_3/concat/annotation_clones/umap_markers/CEACAM8.embedFeat.top.png'</dd>\n",
       "\t<dt>$IGHM</dt>\n",
       "\t\t<dd>NULL</dd>\n",
       "\t<dt>$TCRA</dt>\n",
       "\t\t<dd>NULL</dd>\n",
       "\t<dt>$IL7R</dt>\n",
       "\t\t<dd>'/data/Mito_Trace/output/pipeline/DUPI_april08_2021/MTblacklist_mtasnucl_Bonly/data/merged/MT/cellr_True/numread_200/filters/minC10_minR50_topN0_hetT0.001_hetC10_hetCount5_bq20/mgatk/vireoIn/clones/variants_init/knn/kparam_3/concat/annotation_clones/umap_markers/IL7R.embedFeat.top.png'</dd>\n",
       "\t<dt>$CCR7</dt>\n",
       "\t\t<dd>'/data/Mito_Trace/output/pipeline/DUPI_april08_2021/MTblacklist_mtasnucl_Bonly/data/merged/MT/cellr_True/numread_200/filters/minC10_minR50_topN0_hetT0.001_hetC10_hetCount5_bq20/mgatk/vireoIn/clones/variants_init/knn/kparam_3/concat/annotation_clones/umap_markers/CCR7.embedFeat.top.png'</dd>\n",
       "\t<dt>$CD14</dt>\n",
       "\t\t<dd>'/data/Mito_Trace/output/pipeline/DUPI_april08_2021/MTblacklist_mtasnucl_Bonly/data/merged/MT/cellr_True/numread_200/filters/minC10_minR50_topN0_hetT0.001_hetC10_hetCount5_bq20/mgatk/vireoIn/clones/variants_init/knn/kparam_3/concat/annotation_clones/umap_markers/CD14.embedFeat.top.png'</dd>\n",
       "\t<dt>$LYZ</dt>\n",
       "\t\t<dd>'/data/Mito_Trace/output/pipeline/DUPI_april08_2021/MTblacklist_mtasnucl_Bonly/data/merged/MT/cellr_True/numread_200/filters/minC10_minR50_topN0_hetT0.001_hetC10_hetCount5_bq20/mgatk/vireoIn/clones/variants_init/knn/kparam_3/concat/annotation_clones/umap_markers/LYZ.embedFeat.top.png'</dd>\n",
       "\t<dt>$IL7R</dt>\n",
       "\t\t<dd>'/data/Mito_Trace/output/pipeline/DUPI_april08_2021/MTblacklist_mtasnucl_Bonly/data/merged/MT/cellr_True/numread_200/filters/minC10_minR50_topN0_hetT0.001_hetC10_hetCount5_bq20/mgatk/vireoIn/clones/variants_init/knn/kparam_3/concat/annotation_clones/umap_markers/IL7R.embedFeat.top.png'</dd>\n",
       "\t<dt>$S100A4</dt>\n",
       "\t\t<dd>'/data/Mito_Trace/output/pipeline/DUPI_april08_2021/MTblacklist_mtasnucl_Bonly/data/merged/MT/cellr_True/numread_200/filters/minC10_minR50_topN0_hetT0.001_hetC10_hetCount5_bq20/mgatk/vireoIn/clones/variants_init/knn/kparam_3/concat/annotation_clones/umap_markers/S100A4.embedFeat.top.png'</dd>\n",
       "\t<dt>$MS4A1</dt>\n",
       "\t\t<dd>'/data/Mito_Trace/output/pipeline/DUPI_april08_2021/MTblacklist_mtasnucl_Bonly/data/merged/MT/cellr_True/numread_200/filters/minC10_minR50_topN0_hetT0.001_hetC10_hetCount5_bq20/mgatk/vireoIn/clones/variants_init/knn/kparam_3/concat/annotation_clones/umap_markers/MS4A1.embedFeat.top.png'</dd>\n",
       "\t<dt>$CD8A</dt>\n",
       "\t\t<dd>'/data/Mito_Trace/output/pipeline/DUPI_april08_2021/MTblacklist_mtasnucl_Bonly/data/merged/MT/cellr_True/numread_200/filters/minC10_minR50_topN0_hetT0.001_hetC10_hetCount5_bq20/mgatk/vireoIn/clones/variants_init/knn/kparam_3/concat/annotation_clones/umap_markers/CD8A.embedFeat.top.png'</dd>\n",
       "\t<dt>$FCGR3A</dt>\n",
       "\t\t<dd>'/data/Mito_Trace/output/pipeline/DUPI_april08_2021/MTblacklist_mtasnucl_Bonly/data/merged/MT/cellr_True/numread_200/filters/minC10_minR50_topN0_hetT0.001_hetC10_hetCount5_bq20/mgatk/vireoIn/clones/variants_init/knn/kparam_3/concat/annotation_clones/umap_markers/FCGR3A.embedFeat.top.png'</dd>\n",
       "\t<dt>$MS4A7</dt>\n",
       "\t\t<dd>'/data/Mito_Trace/output/pipeline/DUPI_april08_2021/MTblacklist_mtasnucl_Bonly/data/merged/MT/cellr_True/numread_200/filters/minC10_minR50_topN0_hetT0.001_hetC10_hetCount5_bq20/mgatk/vireoIn/clones/variants_init/knn/kparam_3/concat/annotation_clones/umap_markers/MS4A7.embedFeat.top.png'</dd>\n",
       "\t<dt>$FCGR3A</dt>\n",
       "\t\t<dd>'/data/Mito_Trace/output/pipeline/DUPI_april08_2021/MTblacklist_mtasnucl_Bonly/data/merged/MT/cellr_True/numread_200/filters/minC10_minR50_topN0_hetT0.001_hetC10_hetCount5_bq20/mgatk/vireoIn/clones/variants_init/knn/kparam_3/concat/annotation_clones/umap_markers/FCGR3A.embedFeat.top.png'</dd>\n",
       "\t<dt>$GNLY</dt>\n",
       "\t\t<dd>'/data/Mito_Trace/output/pipeline/DUPI_april08_2021/MTblacklist_mtasnucl_Bonly/data/merged/MT/cellr_True/numread_200/filters/minC10_minR50_topN0_hetT0.001_hetC10_hetCount5_bq20/mgatk/vireoIn/clones/variants_init/knn/kparam_3/concat/annotation_clones/umap_markers/GNLY.embedFeat.top.png'</dd>\n",
       "\t<dt>$NKG7</dt>\n",
       "\t\t<dd>'/data/Mito_Trace/output/pipeline/DUPI_april08_2021/MTblacklist_mtasnucl_Bonly/data/merged/MT/cellr_True/numread_200/filters/minC10_minR50_topN0_hetT0.001_hetC10_hetCount5_bq20/mgatk/vireoIn/clones/variants_init/knn/kparam_3/concat/annotation_clones/umap_markers/NKG7.embedFeat.top.png'</dd>\n",
       "\t<dt>$FCER1A</dt>\n",
       "\t\t<dd>'/data/Mito_Trace/output/pipeline/DUPI_april08_2021/MTblacklist_mtasnucl_Bonly/data/merged/MT/cellr_True/numread_200/filters/minC10_minR50_topN0_hetT0.001_hetC10_hetCount5_bq20/mgatk/vireoIn/clones/variants_init/knn/kparam_3/concat/annotation_clones/umap_markers/FCER1A.embedFeat.top.png'</dd>\n",
       "\t<dt>$CST3</dt>\n",
       "\t\t<dd>'/data/Mito_Trace/output/pipeline/DUPI_april08_2021/MTblacklist_mtasnucl_Bonly/data/merged/MT/cellr_True/numread_200/filters/minC10_minR50_topN0_hetT0.001_hetC10_hetCount5_bq20/mgatk/vireoIn/clones/variants_init/knn/kparam_3/concat/annotation_clones/umap_markers/CST3.embedFeat.top.png'</dd>\n",
       "\t<dt>$PPBP</dt>\n",
       "\t\t<dd>'/data/Mito_Trace/output/pipeline/DUPI_april08_2021/MTblacklist_mtasnucl_Bonly/data/merged/MT/cellr_True/numread_200/filters/minC10_minR50_topN0_hetT0.001_hetC10_hetCount5_bq20/mgatk/vireoIn/clones/variants_init/knn/kparam_3/concat/annotation_clones/umap_markers/PPBP.embedFeat.top.png'</dd>\n",
       "</dl>\n"
      ],
      "text/latex": [
       "\\begin{description}\n",
       "\\item[\\$TCRA] NULL\n",
       "\\item[\\$CD56] NULL\n",
       "\\item[\\$CD161] NULL\n",
       "\\item[\\$NCR1] '/data/Mito\\_Trace/output/pipeline/DUPI\\_april08\\_2021/MTblacklist\\_mtasnucl\\_Bonly/data/merged/MT/cellr\\_True/numread\\_200/filters/minC10\\_minR50\\_topN0\\_hetT0.001\\_hetC10\\_hetCount5\\_bq20/mgatk/vireoIn/clones/variants\\_init/knn/kparam\\_3/concat/annotation\\_clones/umap\\_markers/NCR1.embedFeat.top.png'\n",
       "\\item[\\$NCAM1] '/data/Mito\\_Trace/output/pipeline/DUPI\\_april08\\_2021/MTblacklist\\_mtasnucl\\_Bonly/data/merged/MT/cellr\\_True/numread\\_200/filters/minC10\\_minR50\\_topN0\\_hetT0.001\\_hetC10\\_hetCount5\\_bq20/mgatk/vireoIn/clones/variants\\_init/knn/kparam\\_3/concat/annotation\\_clones/umap\\_markers/NCAM1.embedFeat.top.png'\n",
       "\\item[\\$CEACAM8] '/data/Mito\\_Trace/output/pipeline/DUPI\\_april08\\_2021/MTblacklist\\_mtasnucl\\_Bonly/data/merged/MT/cellr\\_True/numread\\_200/filters/minC10\\_minR50\\_topN0\\_hetT0.001\\_hetC10\\_hetCount5\\_bq20/mgatk/vireoIn/clones/variants\\_init/knn/kparam\\_3/concat/annotation\\_clones/umap\\_markers/CEACAM8.embedFeat.top.png'\n",
       "\\item[\\$IGHM] NULL\n",
       "\\item[\\$TCRA] NULL\n",
       "\\item[\\$IL7R] '/data/Mito\\_Trace/output/pipeline/DUPI\\_april08\\_2021/MTblacklist\\_mtasnucl\\_Bonly/data/merged/MT/cellr\\_True/numread\\_200/filters/minC10\\_minR50\\_topN0\\_hetT0.001\\_hetC10\\_hetCount5\\_bq20/mgatk/vireoIn/clones/variants\\_init/knn/kparam\\_3/concat/annotation\\_clones/umap\\_markers/IL7R.embedFeat.top.png'\n",
       "\\item[\\$CCR7] '/data/Mito\\_Trace/output/pipeline/DUPI\\_april08\\_2021/MTblacklist\\_mtasnucl\\_Bonly/data/merged/MT/cellr\\_True/numread\\_200/filters/minC10\\_minR50\\_topN0\\_hetT0.001\\_hetC10\\_hetCount5\\_bq20/mgatk/vireoIn/clones/variants\\_init/knn/kparam\\_3/concat/annotation\\_clones/umap\\_markers/CCR7.embedFeat.top.png'\n",
       "\\item[\\$CD14] '/data/Mito\\_Trace/output/pipeline/DUPI\\_april08\\_2021/MTblacklist\\_mtasnucl\\_Bonly/data/merged/MT/cellr\\_True/numread\\_200/filters/minC10\\_minR50\\_topN0\\_hetT0.001\\_hetC10\\_hetCount5\\_bq20/mgatk/vireoIn/clones/variants\\_init/knn/kparam\\_3/concat/annotation\\_clones/umap\\_markers/CD14.embedFeat.top.png'\n",
       "\\item[\\$LYZ] '/data/Mito\\_Trace/output/pipeline/DUPI\\_april08\\_2021/MTblacklist\\_mtasnucl\\_Bonly/data/merged/MT/cellr\\_True/numread\\_200/filters/minC10\\_minR50\\_topN0\\_hetT0.001\\_hetC10\\_hetCount5\\_bq20/mgatk/vireoIn/clones/variants\\_init/knn/kparam\\_3/concat/annotation\\_clones/umap\\_markers/LYZ.embedFeat.top.png'\n",
       "\\item[\\$IL7R] '/data/Mito\\_Trace/output/pipeline/DUPI\\_april08\\_2021/MTblacklist\\_mtasnucl\\_Bonly/data/merged/MT/cellr\\_True/numread\\_200/filters/minC10\\_minR50\\_topN0\\_hetT0.001\\_hetC10\\_hetCount5\\_bq20/mgatk/vireoIn/clones/variants\\_init/knn/kparam\\_3/concat/annotation\\_clones/umap\\_markers/IL7R.embedFeat.top.png'\n",
       "\\item[\\$S100A4] '/data/Mito\\_Trace/output/pipeline/DUPI\\_april08\\_2021/MTblacklist\\_mtasnucl\\_Bonly/data/merged/MT/cellr\\_True/numread\\_200/filters/minC10\\_minR50\\_topN0\\_hetT0.001\\_hetC10\\_hetCount5\\_bq20/mgatk/vireoIn/clones/variants\\_init/knn/kparam\\_3/concat/annotation\\_clones/umap\\_markers/S100A4.embedFeat.top.png'\n",
       "\\item[\\$MS4A1] '/data/Mito\\_Trace/output/pipeline/DUPI\\_april08\\_2021/MTblacklist\\_mtasnucl\\_Bonly/data/merged/MT/cellr\\_True/numread\\_200/filters/minC10\\_minR50\\_topN0\\_hetT0.001\\_hetC10\\_hetCount5\\_bq20/mgatk/vireoIn/clones/variants\\_init/knn/kparam\\_3/concat/annotation\\_clones/umap\\_markers/MS4A1.embedFeat.top.png'\n",
       "\\item[\\$CD8A] '/data/Mito\\_Trace/output/pipeline/DUPI\\_april08\\_2021/MTblacklist\\_mtasnucl\\_Bonly/data/merged/MT/cellr\\_True/numread\\_200/filters/minC10\\_minR50\\_topN0\\_hetT0.001\\_hetC10\\_hetCount5\\_bq20/mgatk/vireoIn/clones/variants\\_init/knn/kparam\\_3/concat/annotation\\_clones/umap\\_markers/CD8A.embedFeat.top.png'\n",
       "\\item[\\$FCGR3A] '/data/Mito\\_Trace/output/pipeline/DUPI\\_april08\\_2021/MTblacklist\\_mtasnucl\\_Bonly/data/merged/MT/cellr\\_True/numread\\_200/filters/minC10\\_minR50\\_topN0\\_hetT0.001\\_hetC10\\_hetCount5\\_bq20/mgatk/vireoIn/clones/variants\\_init/knn/kparam\\_3/concat/annotation\\_clones/umap\\_markers/FCGR3A.embedFeat.top.png'\n",
       "\\item[\\$MS4A7] '/data/Mito\\_Trace/output/pipeline/DUPI\\_april08\\_2021/MTblacklist\\_mtasnucl\\_Bonly/data/merged/MT/cellr\\_True/numread\\_200/filters/minC10\\_minR50\\_topN0\\_hetT0.001\\_hetC10\\_hetCount5\\_bq20/mgatk/vireoIn/clones/variants\\_init/knn/kparam\\_3/concat/annotation\\_clones/umap\\_markers/MS4A7.embedFeat.top.png'\n",
       "\\item[\\$FCGR3A] '/data/Mito\\_Trace/output/pipeline/DUPI\\_april08\\_2021/MTblacklist\\_mtasnucl\\_Bonly/data/merged/MT/cellr\\_True/numread\\_200/filters/minC10\\_minR50\\_topN0\\_hetT0.001\\_hetC10\\_hetCount5\\_bq20/mgatk/vireoIn/clones/variants\\_init/knn/kparam\\_3/concat/annotation\\_clones/umap\\_markers/FCGR3A.embedFeat.top.png'\n",
       "\\item[\\$GNLY] '/data/Mito\\_Trace/output/pipeline/DUPI\\_april08\\_2021/MTblacklist\\_mtasnucl\\_Bonly/data/merged/MT/cellr\\_True/numread\\_200/filters/minC10\\_minR50\\_topN0\\_hetT0.001\\_hetC10\\_hetCount5\\_bq20/mgatk/vireoIn/clones/variants\\_init/knn/kparam\\_3/concat/annotation\\_clones/umap\\_markers/GNLY.embedFeat.top.png'\n",
       "\\item[\\$NKG7] '/data/Mito\\_Trace/output/pipeline/DUPI\\_april08\\_2021/MTblacklist\\_mtasnucl\\_Bonly/data/merged/MT/cellr\\_True/numread\\_200/filters/minC10\\_minR50\\_topN0\\_hetT0.001\\_hetC10\\_hetCount5\\_bq20/mgatk/vireoIn/clones/variants\\_init/knn/kparam\\_3/concat/annotation\\_clones/umap\\_markers/NKG7.embedFeat.top.png'\n",
       "\\item[\\$FCER1A] '/data/Mito\\_Trace/output/pipeline/DUPI\\_april08\\_2021/MTblacklist\\_mtasnucl\\_Bonly/data/merged/MT/cellr\\_True/numread\\_200/filters/minC10\\_minR50\\_topN0\\_hetT0.001\\_hetC10\\_hetCount5\\_bq20/mgatk/vireoIn/clones/variants\\_init/knn/kparam\\_3/concat/annotation\\_clones/umap\\_markers/FCER1A.embedFeat.top.png'\n",
       "\\item[\\$CST3] '/data/Mito\\_Trace/output/pipeline/DUPI\\_april08\\_2021/MTblacklist\\_mtasnucl\\_Bonly/data/merged/MT/cellr\\_True/numread\\_200/filters/minC10\\_minR50\\_topN0\\_hetT0.001\\_hetC10\\_hetCount5\\_bq20/mgatk/vireoIn/clones/variants\\_init/knn/kparam\\_3/concat/annotation\\_clones/umap\\_markers/CST3.embedFeat.top.png'\n",
       "\\item[\\$PPBP] '/data/Mito\\_Trace/output/pipeline/DUPI\\_april08\\_2021/MTblacklist\\_mtasnucl\\_Bonly/data/merged/MT/cellr\\_True/numread\\_200/filters/minC10\\_minR50\\_topN0\\_hetT0.001\\_hetC10\\_hetCount5\\_bq20/mgatk/vireoIn/clones/variants\\_init/knn/kparam\\_3/concat/annotation\\_clones/umap\\_markers/PPBP.embedFeat.top.png'\n",
       "\\end{description}\n"
      ],
      "text/markdown": [
       "$TCRA\n",
       ":   NULL\n",
       "$CD56\n",
       ":   NULL\n",
       "$CD161\n",
       ":   NULL\n",
       "$NCR1\n",
       ":   '/data/Mito_Trace/output/pipeline/DUPI_april08_2021/MTblacklist_mtasnucl_Bonly/data/merged/MT/cellr_True/numread_200/filters/minC10_minR50_topN0_hetT0.001_hetC10_hetCount5_bq20/mgatk/vireoIn/clones/variants_init/knn/kparam_3/concat/annotation_clones/umap_markers/NCR1.embedFeat.top.png'\n",
       "$NCAM1\n",
       ":   '/data/Mito_Trace/output/pipeline/DUPI_april08_2021/MTblacklist_mtasnucl_Bonly/data/merged/MT/cellr_True/numread_200/filters/minC10_minR50_topN0_hetT0.001_hetC10_hetCount5_bq20/mgatk/vireoIn/clones/variants_init/knn/kparam_3/concat/annotation_clones/umap_markers/NCAM1.embedFeat.top.png'\n",
       "$CEACAM8\n",
       ":   '/data/Mito_Trace/output/pipeline/DUPI_april08_2021/MTblacklist_mtasnucl_Bonly/data/merged/MT/cellr_True/numread_200/filters/minC10_minR50_topN0_hetT0.001_hetC10_hetCount5_bq20/mgatk/vireoIn/clones/variants_init/knn/kparam_3/concat/annotation_clones/umap_markers/CEACAM8.embedFeat.top.png'\n",
       "$IGHM\n",
       ":   NULL\n",
       "$TCRA\n",
       ":   NULL\n",
       "$IL7R\n",
       ":   '/data/Mito_Trace/output/pipeline/DUPI_april08_2021/MTblacklist_mtasnucl_Bonly/data/merged/MT/cellr_True/numread_200/filters/minC10_minR50_topN0_hetT0.001_hetC10_hetCount5_bq20/mgatk/vireoIn/clones/variants_init/knn/kparam_3/concat/annotation_clones/umap_markers/IL7R.embedFeat.top.png'\n",
       "$CCR7\n",
       ":   '/data/Mito_Trace/output/pipeline/DUPI_april08_2021/MTblacklist_mtasnucl_Bonly/data/merged/MT/cellr_True/numread_200/filters/minC10_minR50_topN0_hetT0.001_hetC10_hetCount5_bq20/mgatk/vireoIn/clones/variants_init/knn/kparam_3/concat/annotation_clones/umap_markers/CCR7.embedFeat.top.png'\n",
       "$CD14\n",
       ":   '/data/Mito_Trace/output/pipeline/DUPI_april08_2021/MTblacklist_mtasnucl_Bonly/data/merged/MT/cellr_True/numread_200/filters/minC10_minR50_topN0_hetT0.001_hetC10_hetCount5_bq20/mgatk/vireoIn/clones/variants_init/knn/kparam_3/concat/annotation_clones/umap_markers/CD14.embedFeat.top.png'\n",
       "$LYZ\n",
       ":   '/data/Mito_Trace/output/pipeline/DUPI_april08_2021/MTblacklist_mtasnucl_Bonly/data/merged/MT/cellr_True/numread_200/filters/minC10_minR50_topN0_hetT0.001_hetC10_hetCount5_bq20/mgatk/vireoIn/clones/variants_init/knn/kparam_3/concat/annotation_clones/umap_markers/LYZ.embedFeat.top.png'\n",
       "$IL7R\n",
       ":   '/data/Mito_Trace/output/pipeline/DUPI_april08_2021/MTblacklist_mtasnucl_Bonly/data/merged/MT/cellr_True/numread_200/filters/minC10_minR50_topN0_hetT0.001_hetC10_hetCount5_bq20/mgatk/vireoIn/clones/variants_init/knn/kparam_3/concat/annotation_clones/umap_markers/IL7R.embedFeat.top.png'\n",
       "$S100A4\n",
       ":   '/data/Mito_Trace/output/pipeline/DUPI_april08_2021/MTblacklist_mtasnucl_Bonly/data/merged/MT/cellr_True/numread_200/filters/minC10_minR50_topN0_hetT0.001_hetC10_hetCount5_bq20/mgatk/vireoIn/clones/variants_init/knn/kparam_3/concat/annotation_clones/umap_markers/S100A4.embedFeat.top.png'\n",
       "$MS4A1\n",
       ":   '/data/Mito_Trace/output/pipeline/DUPI_april08_2021/MTblacklist_mtasnucl_Bonly/data/merged/MT/cellr_True/numread_200/filters/minC10_minR50_topN0_hetT0.001_hetC10_hetCount5_bq20/mgatk/vireoIn/clones/variants_init/knn/kparam_3/concat/annotation_clones/umap_markers/MS4A1.embedFeat.top.png'\n",
       "$CD8A\n",
       ":   '/data/Mito_Trace/output/pipeline/DUPI_april08_2021/MTblacklist_mtasnucl_Bonly/data/merged/MT/cellr_True/numread_200/filters/minC10_minR50_topN0_hetT0.001_hetC10_hetCount5_bq20/mgatk/vireoIn/clones/variants_init/knn/kparam_3/concat/annotation_clones/umap_markers/CD8A.embedFeat.top.png'\n",
       "$FCGR3A\n",
       ":   '/data/Mito_Trace/output/pipeline/DUPI_april08_2021/MTblacklist_mtasnucl_Bonly/data/merged/MT/cellr_True/numread_200/filters/minC10_minR50_topN0_hetT0.001_hetC10_hetCount5_bq20/mgatk/vireoIn/clones/variants_init/knn/kparam_3/concat/annotation_clones/umap_markers/FCGR3A.embedFeat.top.png'\n",
       "$MS4A7\n",
       ":   '/data/Mito_Trace/output/pipeline/DUPI_april08_2021/MTblacklist_mtasnucl_Bonly/data/merged/MT/cellr_True/numread_200/filters/minC10_minR50_topN0_hetT0.001_hetC10_hetCount5_bq20/mgatk/vireoIn/clones/variants_init/knn/kparam_3/concat/annotation_clones/umap_markers/MS4A7.embedFeat.top.png'\n",
       "$FCGR3A\n",
       ":   '/data/Mito_Trace/output/pipeline/DUPI_april08_2021/MTblacklist_mtasnucl_Bonly/data/merged/MT/cellr_True/numread_200/filters/minC10_minR50_topN0_hetT0.001_hetC10_hetCount5_bq20/mgatk/vireoIn/clones/variants_init/knn/kparam_3/concat/annotation_clones/umap_markers/FCGR3A.embedFeat.top.png'\n",
       "$GNLY\n",
       ":   '/data/Mito_Trace/output/pipeline/DUPI_april08_2021/MTblacklist_mtasnucl_Bonly/data/merged/MT/cellr_True/numread_200/filters/minC10_minR50_topN0_hetT0.001_hetC10_hetCount5_bq20/mgatk/vireoIn/clones/variants_init/knn/kparam_3/concat/annotation_clones/umap_markers/GNLY.embedFeat.top.png'\n",
       "$NKG7\n",
       ":   '/data/Mito_Trace/output/pipeline/DUPI_april08_2021/MTblacklist_mtasnucl_Bonly/data/merged/MT/cellr_True/numread_200/filters/minC10_minR50_topN0_hetT0.001_hetC10_hetCount5_bq20/mgatk/vireoIn/clones/variants_init/knn/kparam_3/concat/annotation_clones/umap_markers/NKG7.embedFeat.top.png'\n",
       "$FCER1A\n",
       ":   '/data/Mito_Trace/output/pipeline/DUPI_april08_2021/MTblacklist_mtasnucl_Bonly/data/merged/MT/cellr_True/numread_200/filters/minC10_minR50_topN0_hetT0.001_hetC10_hetCount5_bq20/mgatk/vireoIn/clones/variants_init/knn/kparam_3/concat/annotation_clones/umap_markers/FCER1A.embedFeat.top.png'\n",
       "$CST3\n",
       ":   '/data/Mito_Trace/output/pipeline/DUPI_april08_2021/MTblacklist_mtasnucl_Bonly/data/merged/MT/cellr_True/numread_200/filters/minC10_minR50_topN0_hetT0.001_hetC10_hetCount5_bq20/mgatk/vireoIn/clones/variants_init/knn/kparam_3/concat/annotation_clones/umap_markers/CST3.embedFeat.top.png'\n",
       "$PPBP\n",
       ":   '/data/Mito_Trace/output/pipeline/DUPI_april08_2021/MTblacklist_mtasnucl_Bonly/data/merged/MT/cellr_True/numread_200/filters/minC10_minR50_topN0_hetT0.001_hetC10_hetCount5_bq20/mgatk/vireoIn/clones/variants_init/knn/kparam_3/concat/annotation_clones/umap_markers/PPBP.embedFeat.top.png'\n",
       "\n",
       "\n"
      ],
      "text/plain": [
       "$TCRA\n",
       "NULL\n",
       "\n",
       "$CD56\n",
       "NULL\n",
       "\n",
       "$CD161\n",
       "NULL\n",
       "\n",
       "$NCR1\n",
       "[1] \"/data/Mito_Trace/output/pipeline/DUPI_april08_2021/MTblacklist_mtasnucl_Bonly/data/merged/MT/cellr_True/numread_200/filters/minC10_minR50_topN0_hetT0.001_hetC10_hetCount5_bq20/mgatk/vireoIn/clones/variants_init/knn/kparam_3/concat/annotation_clones/umap_markers/NCR1.embedFeat.top.png\"\n",
       "\n",
       "$NCAM1\n",
       "[1] \"/data/Mito_Trace/output/pipeline/DUPI_april08_2021/MTblacklist_mtasnucl_Bonly/data/merged/MT/cellr_True/numread_200/filters/minC10_minR50_topN0_hetT0.001_hetC10_hetCount5_bq20/mgatk/vireoIn/clones/variants_init/knn/kparam_3/concat/annotation_clones/umap_markers/NCAM1.embedFeat.top.png\"\n",
       "\n",
       "$CEACAM8\n",
       "[1] \"/data/Mito_Trace/output/pipeline/DUPI_april08_2021/MTblacklist_mtasnucl_Bonly/data/merged/MT/cellr_True/numread_200/filters/minC10_minR50_topN0_hetT0.001_hetC10_hetCount5_bq20/mgatk/vireoIn/clones/variants_init/knn/kparam_3/concat/annotation_clones/umap_markers/CEACAM8.embedFeat.top.png\"\n",
       "\n",
       "$IGHM\n",
       "NULL\n",
       "\n",
       "$TCRA\n",
       "NULL\n",
       "\n",
       "$IL7R\n",
       "[1] \"/data/Mito_Trace/output/pipeline/DUPI_april08_2021/MTblacklist_mtasnucl_Bonly/data/merged/MT/cellr_True/numread_200/filters/minC10_minR50_topN0_hetT0.001_hetC10_hetCount5_bq20/mgatk/vireoIn/clones/variants_init/knn/kparam_3/concat/annotation_clones/umap_markers/IL7R.embedFeat.top.png\"\n",
       "\n",
       "$CCR7\n",
       "[1] \"/data/Mito_Trace/output/pipeline/DUPI_april08_2021/MTblacklist_mtasnucl_Bonly/data/merged/MT/cellr_True/numread_200/filters/minC10_minR50_topN0_hetT0.001_hetC10_hetCount5_bq20/mgatk/vireoIn/clones/variants_init/knn/kparam_3/concat/annotation_clones/umap_markers/CCR7.embedFeat.top.png\"\n",
       "\n",
       "$CD14\n",
       "[1] \"/data/Mito_Trace/output/pipeline/DUPI_april08_2021/MTblacklist_mtasnucl_Bonly/data/merged/MT/cellr_True/numread_200/filters/minC10_minR50_topN0_hetT0.001_hetC10_hetCount5_bq20/mgatk/vireoIn/clones/variants_init/knn/kparam_3/concat/annotation_clones/umap_markers/CD14.embedFeat.top.png\"\n",
       "\n",
       "$LYZ\n",
       "[1] \"/data/Mito_Trace/output/pipeline/DUPI_april08_2021/MTblacklist_mtasnucl_Bonly/data/merged/MT/cellr_True/numread_200/filters/minC10_minR50_topN0_hetT0.001_hetC10_hetCount5_bq20/mgatk/vireoIn/clones/variants_init/knn/kparam_3/concat/annotation_clones/umap_markers/LYZ.embedFeat.top.png\"\n",
       "\n",
       "$IL7R\n",
       "[1] \"/data/Mito_Trace/output/pipeline/DUPI_april08_2021/MTblacklist_mtasnucl_Bonly/data/merged/MT/cellr_True/numread_200/filters/minC10_minR50_topN0_hetT0.001_hetC10_hetCount5_bq20/mgatk/vireoIn/clones/variants_init/knn/kparam_3/concat/annotation_clones/umap_markers/IL7R.embedFeat.top.png\"\n",
       "\n",
       "$S100A4\n",
       "[1] \"/data/Mito_Trace/output/pipeline/DUPI_april08_2021/MTblacklist_mtasnucl_Bonly/data/merged/MT/cellr_True/numread_200/filters/minC10_minR50_topN0_hetT0.001_hetC10_hetCount5_bq20/mgatk/vireoIn/clones/variants_init/knn/kparam_3/concat/annotation_clones/umap_markers/S100A4.embedFeat.top.png\"\n",
       "\n",
       "$MS4A1\n",
       "[1] \"/data/Mito_Trace/output/pipeline/DUPI_april08_2021/MTblacklist_mtasnucl_Bonly/data/merged/MT/cellr_True/numread_200/filters/minC10_minR50_topN0_hetT0.001_hetC10_hetCount5_bq20/mgatk/vireoIn/clones/variants_init/knn/kparam_3/concat/annotation_clones/umap_markers/MS4A1.embedFeat.top.png\"\n",
       "\n",
       "$CD8A\n",
       "[1] \"/data/Mito_Trace/output/pipeline/DUPI_april08_2021/MTblacklist_mtasnucl_Bonly/data/merged/MT/cellr_True/numread_200/filters/minC10_minR50_topN0_hetT0.001_hetC10_hetCount5_bq20/mgatk/vireoIn/clones/variants_init/knn/kparam_3/concat/annotation_clones/umap_markers/CD8A.embedFeat.top.png\"\n",
       "\n",
       "$FCGR3A\n",
       "[1] \"/data/Mito_Trace/output/pipeline/DUPI_april08_2021/MTblacklist_mtasnucl_Bonly/data/merged/MT/cellr_True/numread_200/filters/minC10_minR50_topN0_hetT0.001_hetC10_hetCount5_bq20/mgatk/vireoIn/clones/variants_init/knn/kparam_3/concat/annotation_clones/umap_markers/FCGR3A.embedFeat.top.png\"\n",
       "\n",
       "$MS4A7\n",
       "[1] \"/data/Mito_Trace/output/pipeline/DUPI_april08_2021/MTblacklist_mtasnucl_Bonly/data/merged/MT/cellr_True/numread_200/filters/minC10_minR50_topN0_hetT0.001_hetC10_hetCount5_bq20/mgatk/vireoIn/clones/variants_init/knn/kparam_3/concat/annotation_clones/umap_markers/MS4A7.embedFeat.top.png\"\n",
       "\n",
       "$FCGR3A\n",
       "[1] \"/data/Mito_Trace/output/pipeline/DUPI_april08_2021/MTblacklist_mtasnucl_Bonly/data/merged/MT/cellr_True/numread_200/filters/minC10_minR50_topN0_hetT0.001_hetC10_hetCount5_bq20/mgatk/vireoIn/clones/variants_init/knn/kparam_3/concat/annotation_clones/umap_markers/FCGR3A.embedFeat.top.png\"\n",
       "\n",
       "$GNLY\n",
       "[1] \"/data/Mito_Trace/output/pipeline/DUPI_april08_2021/MTblacklist_mtasnucl_Bonly/data/merged/MT/cellr_True/numread_200/filters/minC10_minR50_topN0_hetT0.001_hetC10_hetCount5_bq20/mgatk/vireoIn/clones/variants_init/knn/kparam_3/concat/annotation_clones/umap_markers/GNLY.embedFeat.top.png\"\n",
       "\n",
       "$NKG7\n",
       "[1] \"/data/Mito_Trace/output/pipeline/DUPI_april08_2021/MTblacklist_mtasnucl_Bonly/data/merged/MT/cellr_True/numread_200/filters/minC10_minR50_topN0_hetT0.001_hetC10_hetCount5_bq20/mgatk/vireoIn/clones/variants_init/knn/kparam_3/concat/annotation_clones/umap_markers/NKG7.embedFeat.top.png\"\n",
       "\n",
       "$FCER1A\n",
       "[1] \"/data/Mito_Trace/output/pipeline/DUPI_april08_2021/MTblacklist_mtasnucl_Bonly/data/merged/MT/cellr_True/numread_200/filters/minC10_minR50_topN0_hetT0.001_hetC10_hetCount5_bq20/mgatk/vireoIn/clones/variants_init/knn/kparam_3/concat/annotation_clones/umap_markers/FCER1A.embedFeat.top.png\"\n",
       "\n",
       "$CST3\n",
       "[1] \"/data/Mito_Trace/output/pipeline/DUPI_april08_2021/MTblacklist_mtasnucl_Bonly/data/merged/MT/cellr_True/numread_200/filters/minC10_minR50_topN0_hetT0.001_hetC10_hetCount5_bq20/mgatk/vireoIn/clones/variants_init/knn/kparam_3/concat/annotation_clones/umap_markers/CST3.embedFeat.top.png\"\n",
       "\n",
       "$PPBP\n",
       "[1] \"/data/Mito_Trace/output/pipeline/DUPI_april08_2021/MTblacklist_mtasnucl_Bonly/data/merged/MT/cellr_True/numread_200/filters/minC10_minR50_topN0_hetT0.001_hetC10_hetCount5_bq20/mgatk/vireoIn/clones/variants_init/knn/kparam_3/concat/annotation_clones/umap_markers/PPBP.embedFeat.top.png\"\n"
      ]
     },
     "metadata": {},
     "output_type": "display_data"
    }
   ],
   "source": [
    "featplot <- function(name.sig, se, curr.outdir){\n",
    "    if (name.sig %in% rownames(se)){\n",
    "    feat <- FeaturePlot(se,  features=name.sig)\n",
    "    ggsave(plot=feat,\n",
    "           file=file.path(curr.outdir, paste0(name.sig,\".embedFeat.top.png\")))\n",
    "        }\n",
    "    }\n",
    "\n",
    "sapply(markers, FUN=featplot, se=se, curr.outdir=outdir)"
   ]
  },
  {
   "cell_type": "markdown",
   "id": "7358e095",
   "metadata": {},
   "source": [
    "## Plot marker embeddings with peaks"
   ]
  },
  {
   "cell_type": "code",
   "execution_count": 8,
   "id": "fd5bdb03",
   "metadata": {
    "scrolled": true
   },
   "outputs": [],
   "source": [
    "DefaultAssay(se) <- \"ATAC\"\n",
    "feature.names <- ClosestFeature(se, rownames(se))\n"
   ]
  },
  {
   "cell_type": "code",
   "execution_count": 9,
   "id": "0187c7a3",
   "metadata": {},
   "outputs": [],
   "source": [
    "# se <- FindTopFeatures(se, min.cutoff = 20)\n",
    "# se <- BinarizeCounts(se)\n",
    "# se <- RunTFIDF(se)\n",
    "# se <- RunSVD(se)"
   ]
  },
  {
   "cell_type": "code",
   "execution_count": null,
   "id": "26711eb0",
   "metadata": {},
   "outputs": [],
   "source": [
    "featplot <- function(name.sig, se, curr.outdir, feat.names=NULL){\n",
    "    if (!is.null(feat.names)){\n",
    "        name <- feat.names[name.sig,]\n",
    "    }else{\n",
    "        name <- name.sig\n",
    "    }\n",
    "    if (name.sig %in% rownames(se)){\n",
    "    feat <- FeaturePlot(se,  features=name.sig) + ggtitle(name)\n",
    "    ggsave(plot=feat,\n",
    "           file=file.path(curr.outdir, paste0(name.sig,\".embedFeat.top.png\")))\n",
    "        }\n",
    "    }"
   ]
  },
  {
   "cell_type": "code",
   "execution_count": 10,
   "id": "637faf60",
   "metadata": {
    "scrolled": true
   },
   "outputs": [
    {
     "data": {
      "text/html": [
       "<table class=\"dataframe\">\n",
       "<caption>A data.frame: 20 × 8</caption>\n",
       "<thead>\n",
       "\t<tr><th></th><th scope=col>tx_id</th><th scope=col>gene_name</th><th scope=col>gene_id</th><th scope=col>gene_biotype</th><th scope=col>type</th><th scope=col>closest_region</th><th scope=col>query_region</th><th scope=col>distance</th></tr>\n",
       "\t<tr><th></th><th scope=col>&lt;chr&gt;</th><th scope=col>&lt;chr&gt;</th><th scope=col>&lt;chr&gt;</th><th scope=col>&lt;chr&gt;</th><th scope=col>&lt;fct&gt;</th><th scope=col>&lt;chr&gt;</th><th scope=col>&lt;chr&gt;</th><th scope=col>&lt;int&gt;</th></tr>\n",
       "</thead>\n",
       "<tbody>\n",
       "\t<tr><th scope=row>chr1-161523797-161524588</th><td>ENST00000540048</td><td>FCGR3A</td><td>ENSG00000203747</td><td>protein_coding</td><td>gap </td><td>chr1-161518469-161600157</td><td>chr1-161523797-161524588</td><td>   0</td></tr>\n",
       "\t<tr><th scope=row>chr1-161529790-161531534</th><td>ENST00000540048</td><td>FCGR3A</td><td>ENSG00000203747</td><td>protein_coding</td><td>gap </td><td>chr1-161518469-161600157</td><td>chr1-161529790-161531534</td><td>   0</td></tr>\n",
       "\t<tr><th scope=row>chr1-161539721-161540821</th><td>ENST00000540048</td><td>FCGR3A</td><td>ENSG00000203747</td><td>protein_coding</td><td>gap </td><td>chr1-161518469-161600157</td><td>chr1-161539721-161540821</td><td>   0</td></tr>\n",
       "\t<tr><th scope=row>chr1-161541921-161542393</th><td>ENST00000540048</td><td>FCGR3A</td><td>ENSG00000203747</td><td>protein_coding</td><td>gap </td><td>chr1-161518469-161600157</td><td>chr1-161541921-161542393</td><td>   0</td></tr>\n",
       "\t<tr><th scope=row>chr1-161555025-161555205</th><td>ENST00000540048</td><td>FCGR3A</td><td>ENSG00000203747</td><td>protein_coding</td><td>gap </td><td>chr1-161518469-161600157</td><td>chr1-161555025-161555205</td><td>   0</td></tr>\n",
       "\t<tr><th scope=row>chr1-161561347-161561621</th><td>ENST00000540048</td><td>FCGR3A</td><td>ENSG00000203747</td><td>protein_coding</td><td>gap </td><td>chr1-161518469-161600157</td><td>chr1-161561347-161561621</td><td>   0</td></tr>\n",
       "\t<tr><th scope=row>chr1-161566382-161566527</th><td>ENST00000540048</td><td>FCGR3A</td><td>ENSG00000203747</td><td>protein_coding</td><td>gap </td><td>chr1-161518469-161600157</td><td>chr1-161566382-161566527</td><td>   0</td></tr>\n",
       "\t<tr><th scope=row>chr5-35852400-35852876</th><td>ENST00000508941</td><td>IL7R  </td><td>ENSG00000168685</td><td>protein_coding</td><td>utr </td><td>chr5-35852797-35853040  </td><td>chr5-35852400-35852876  </td><td>   0</td></tr>\n",
       "\t<tr><th scope=row>chr5-35853491-35855028</th><td>ENST00000511031</td><td>IL7R  </td><td>ENSG00000168685</td><td>protein_coding</td><td>gap </td><td>chr5-35853041-35860953  </td><td>chr5-35853491-35855028  </td><td>   0</td></tr>\n",
       "\t<tr><th scope=row>chr5-35856179-35857318</th><td>ENST00000515665</td><td>IL7R  </td><td>ENSG00000168685</td><td>protein_coding</td><td>cds </td><td>chr5-35857080-35857161  </td><td>chr5-35856179-35857318  </td><td>   0</td></tr>\n",
       "\t<tr><th scope=row>chr5-35857832-35858112</th><td>ENST00000515665</td><td>IL7R  </td><td>ENSG00000168685</td><td>protein_coding</td><td>gap </td><td>chr5-35857162-35860953  </td><td>chr5-35857832-35858112  </td><td>   0</td></tr>\n",
       "\t<tr><th scope=row>chr5-35858879-35859737</th><td>ENST00000515665</td><td>IL7R  </td><td>ENSG00000168685</td><td>protein_coding</td><td>gap </td><td>chr5-35857162-35860953  </td><td>chr5-35858879-35859737  </td><td>   0</td></tr>\n",
       "\t<tr><th scope=row>chr12-69738349-69740110</th><td>ENST00000261267</td><td>LYZ   </td><td>ENSG00000090382</td><td>protein_coding</td><td>exon</td><td>chr12-69742121-69742324 </td><td>chr12-69738349-69740110 </td><td>2010</td></tr>\n",
       "\t<tr><th scope=row>chr17-38700799-38702992</th><td>ENST00000246657</td><td>CCR7  </td><td>ENSG00000126353</td><td>protein_coding</td><td>utr </td><td>chr17-38710021-38710993 </td><td>chr17-38700799-38702992 </td><td>7028</td></tr>\n",
       "\t<tr><th scope=row>chr17-38703704-38705612</th><td>ENST00000246657</td><td>CCR7  </td><td>ENSG00000126353</td><td>protein_coding</td><td>utr </td><td>chr17-38710021-38710993 </td><td>chr17-38703704-38705612 </td><td>4408</td></tr>\n",
       "\t<tr><th scope=row>chr17-38706973-38707066</th><td>ENST00000246657</td><td>CCR7  </td><td>ENSG00000126353</td><td>protein_coding</td><td>utr </td><td>chr17-38710021-38710993 </td><td>chr17-38706973-38707066 </td><td>2954</td></tr>\n",
       "\t<tr><th scope=row>chr17-38718654-38718906</th><td>ENST00000578085</td><td>CCR7  </td><td>ENSG00000126353</td><td>protein_coding</td><td>gap </td><td>chr17-38712071-38721651 </td><td>chr17-38718654-38718906 </td><td>   0</td></tr>\n",
       "\t<tr><th scope=row>chr17-38727664-38728934</th><td>ENST00000246657</td><td>CCR7  </td><td>ENSG00000126353</td><td>protein_coding</td><td>exon</td><td>chr17-38721652-38721724 </td><td>chr17-38727664-38728934 </td><td>5939</td></tr>\n",
       "\t<tr><th scope=row>chr17-38729886-38730583</th><td>ENST00000246657</td><td>CCR7  </td><td>ENSG00000126353</td><td>protein_coding</td><td>exon</td><td>chr17-38721652-38721724 </td><td>chr17-38729886-38730583 </td><td>8161</td></tr>\n",
       "\t<tr><th scope=row>chr20-23606564-23606975</th><td>ENST00000398411</td><td>CST3  </td><td>ENSG00000101439</td><td>protein_coding</td><td>utr </td><td>chr20-23608534-23610102 </td><td>chr20-23606564-23606975 </td><td>1558</td></tr>\n",
       "</tbody>\n",
       "</table>\n"
      ],
      "text/latex": [
       "A data.frame: 20 × 8\n",
       "\\begin{tabular}{r|llllllll}\n",
       "  & tx\\_id & gene\\_name & gene\\_id & gene\\_biotype & type & closest\\_region & query\\_region & distance\\\\\n",
       "  & <chr> & <chr> & <chr> & <chr> & <fct> & <chr> & <chr> & <int>\\\\\n",
       "\\hline\n",
       "\tchr1-161523797-161524588 & ENST00000540048 & FCGR3A & ENSG00000203747 & protein\\_coding & gap  & chr1-161518469-161600157 & chr1-161523797-161524588 &    0\\\\\n",
       "\tchr1-161529790-161531534 & ENST00000540048 & FCGR3A & ENSG00000203747 & protein\\_coding & gap  & chr1-161518469-161600157 & chr1-161529790-161531534 &    0\\\\\n",
       "\tchr1-161539721-161540821 & ENST00000540048 & FCGR3A & ENSG00000203747 & protein\\_coding & gap  & chr1-161518469-161600157 & chr1-161539721-161540821 &    0\\\\\n",
       "\tchr1-161541921-161542393 & ENST00000540048 & FCGR3A & ENSG00000203747 & protein\\_coding & gap  & chr1-161518469-161600157 & chr1-161541921-161542393 &    0\\\\\n",
       "\tchr1-161555025-161555205 & ENST00000540048 & FCGR3A & ENSG00000203747 & protein\\_coding & gap  & chr1-161518469-161600157 & chr1-161555025-161555205 &    0\\\\\n",
       "\tchr1-161561347-161561621 & ENST00000540048 & FCGR3A & ENSG00000203747 & protein\\_coding & gap  & chr1-161518469-161600157 & chr1-161561347-161561621 &    0\\\\\n",
       "\tchr1-161566382-161566527 & ENST00000540048 & FCGR3A & ENSG00000203747 & protein\\_coding & gap  & chr1-161518469-161600157 & chr1-161566382-161566527 &    0\\\\\n",
       "\tchr5-35852400-35852876 & ENST00000508941 & IL7R   & ENSG00000168685 & protein\\_coding & utr  & chr5-35852797-35853040   & chr5-35852400-35852876   &    0\\\\\n",
       "\tchr5-35853491-35855028 & ENST00000511031 & IL7R   & ENSG00000168685 & protein\\_coding & gap  & chr5-35853041-35860953   & chr5-35853491-35855028   &    0\\\\\n",
       "\tchr5-35856179-35857318 & ENST00000515665 & IL7R   & ENSG00000168685 & protein\\_coding & cds  & chr5-35857080-35857161   & chr5-35856179-35857318   &    0\\\\\n",
       "\tchr5-35857832-35858112 & ENST00000515665 & IL7R   & ENSG00000168685 & protein\\_coding & gap  & chr5-35857162-35860953   & chr5-35857832-35858112   &    0\\\\\n",
       "\tchr5-35858879-35859737 & ENST00000515665 & IL7R   & ENSG00000168685 & protein\\_coding & gap  & chr5-35857162-35860953   & chr5-35858879-35859737   &    0\\\\\n",
       "\tchr12-69738349-69740110 & ENST00000261267 & LYZ    & ENSG00000090382 & protein\\_coding & exon & chr12-69742121-69742324  & chr12-69738349-69740110  & 2010\\\\\n",
       "\tchr17-38700799-38702992 & ENST00000246657 & CCR7   & ENSG00000126353 & protein\\_coding & utr  & chr17-38710021-38710993  & chr17-38700799-38702992  & 7028\\\\\n",
       "\tchr17-38703704-38705612 & ENST00000246657 & CCR7   & ENSG00000126353 & protein\\_coding & utr  & chr17-38710021-38710993  & chr17-38703704-38705612  & 4408\\\\\n",
       "\tchr17-38706973-38707066 & ENST00000246657 & CCR7   & ENSG00000126353 & protein\\_coding & utr  & chr17-38710021-38710993  & chr17-38706973-38707066  & 2954\\\\\n",
       "\tchr17-38718654-38718906 & ENST00000578085 & CCR7   & ENSG00000126353 & protein\\_coding & gap  & chr17-38712071-38721651  & chr17-38718654-38718906  &    0\\\\\n",
       "\tchr17-38727664-38728934 & ENST00000246657 & CCR7   & ENSG00000126353 & protein\\_coding & exon & chr17-38721652-38721724  & chr17-38727664-38728934  & 5939\\\\\n",
       "\tchr17-38729886-38730583 & ENST00000246657 & CCR7   & ENSG00000126353 & protein\\_coding & exon & chr17-38721652-38721724  & chr17-38729886-38730583  & 8161\\\\\n",
       "\tchr20-23606564-23606975 & ENST00000398411 & CST3   & ENSG00000101439 & protein\\_coding & utr  & chr20-23608534-23610102  & chr20-23606564-23606975  & 1558\\\\\n",
       "\\end{tabular}\n"
      ],
      "text/markdown": [
       "\n",
       "A data.frame: 20 × 8\n",
       "\n",
       "| <!--/--> | tx_id &lt;chr&gt; | gene_name &lt;chr&gt; | gene_id &lt;chr&gt; | gene_biotype &lt;chr&gt; | type &lt;fct&gt; | closest_region &lt;chr&gt; | query_region &lt;chr&gt; | distance &lt;int&gt; |\n",
       "|---|---|---|---|---|---|---|---|---|\n",
       "| chr1-161523797-161524588 | ENST00000540048 | FCGR3A | ENSG00000203747 | protein_coding | gap  | chr1-161518469-161600157 | chr1-161523797-161524588 |    0 |\n",
       "| chr1-161529790-161531534 | ENST00000540048 | FCGR3A | ENSG00000203747 | protein_coding | gap  | chr1-161518469-161600157 | chr1-161529790-161531534 |    0 |\n",
       "| chr1-161539721-161540821 | ENST00000540048 | FCGR3A | ENSG00000203747 | protein_coding | gap  | chr1-161518469-161600157 | chr1-161539721-161540821 |    0 |\n",
       "| chr1-161541921-161542393 | ENST00000540048 | FCGR3A | ENSG00000203747 | protein_coding | gap  | chr1-161518469-161600157 | chr1-161541921-161542393 |    0 |\n",
       "| chr1-161555025-161555205 | ENST00000540048 | FCGR3A | ENSG00000203747 | protein_coding | gap  | chr1-161518469-161600157 | chr1-161555025-161555205 |    0 |\n",
       "| chr1-161561347-161561621 | ENST00000540048 | FCGR3A | ENSG00000203747 | protein_coding | gap  | chr1-161518469-161600157 | chr1-161561347-161561621 |    0 |\n",
       "| chr1-161566382-161566527 | ENST00000540048 | FCGR3A | ENSG00000203747 | protein_coding | gap  | chr1-161518469-161600157 | chr1-161566382-161566527 |    0 |\n",
       "| chr5-35852400-35852876 | ENST00000508941 | IL7R   | ENSG00000168685 | protein_coding | utr  | chr5-35852797-35853040   | chr5-35852400-35852876   |    0 |\n",
       "| chr5-35853491-35855028 | ENST00000511031 | IL7R   | ENSG00000168685 | protein_coding | gap  | chr5-35853041-35860953   | chr5-35853491-35855028   |    0 |\n",
       "| chr5-35856179-35857318 | ENST00000515665 | IL7R   | ENSG00000168685 | protein_coding | cds  | chr5-35857080-35857161   | chr5-35856179-35857318   |    0 |\n",
       "| chr5-35857832-35858112 | ENST00000515665 | IL7R   | ENSG00000168685 | protein_coding | gap  | chr5-35857162-35860953   | chr5-35857832-35858112   |    0 |\n",
       "| chr5-35858879-35859737 | ENST00000515665 | IL7R   | ENSG00000168685 | protein_coding | gap  | chr5-35857162-35860953   | chr5-35858879-35859737   |    0 |\n",
       "| chr12-69738349-69740110 | ENST00000261267 | LYZ    | ENSG00000090382 | protein_coding | exon | chr12-69742121-69742324  | chr12-69738349-69740110  | 2010 |\n",
       "| chr17-38700799-38702992 | ENST00000246657 | CCR7   | ENSG00000126353 | protein_coding | utr  | chr17-38710021-38710993  | chr17-38700799-38702992  | 7028 |\n",
       "| chr17-38703704-38705612 | ENST00000246657 | CCR7   | ENSG00000126353 | protein_coding | utr  | chr17-38710021-38710993  | chr17-38703704-38705612  | 4408 |\n",
       "| chr17-38706973-38707066 | ENST00000246657 | CCR7   | ENSG00000126353 | protein_coding | utr  | chr17-38710021-38710993  | chr17-38706973-38707066  | 2954 |\n",
       "| chr17-38718654-38718906 | ENST00000578085 | CCR7   | ENSG00000126353 | protein_coding | gap  | chr17-38712071-38721651  | chr17-38718654-38718906  |    0 |\n",
       "| chr17-38727664-38728934 | ENST00000246657 | CCR7   | ENSG00000126353 | protein_coding | exon | chr17-38721652-38721724  | chr17-38727664-38728934  | 5939 |\n",
       "| chr17-38729886-38730583 | ENST00000246657 | CCR7   | ENSG00000126353 | protein_coding | exon | chr17-38721652-38721724  | chr17-38729886-38730583  | 8161 |\n",
       "| chr20-23606564-23606975 | ENST00000398411 | CST3   | ENSG00000101439 | protein_coding | utr  | chr20-23608534-23610102  | chr20-23606564-23606975  | 1558 |\n",
       "\n"
      ],
      "text/plain": [
       "                         tx_id           gene_name gene_id        \n",
       "chr1-161523797-161524588 ENST00000540048 FCGR3A    ENSG00000203747\n",
       "chr1-161529790-161531534 ENST00000540048 FCGR3A    ENSG00000203747\n",
       "chr1-161539721-161540821 ENST00000540048 FCGR3A    ENSG00000203747\n",
       "chr1-161541921-161542393 ENST00000540048 FCGR3A    ENSG00000203747\n",
       "chr1-161555025-161555205 ENST00000540048 FCGR3A    ENSG00000203747\n",
       "chr1-161561347-161561621 ENST00000540048 FCGR3A    ENSG00000203747\n",
       "chr1-161566382-161566527 ENST00000540048 FCGR3A    ENSG00000203747\n",
       "chr5-35852400-35852876   ENST00000508941 IL7R      ENSG00000168685\n",
       "chr5-35853491-35855028   ENST00000511031 IL7R      ENSG00000168685\n",
       "chr5-35856179-35857318   ENST00000515665 IL7R      ENSG00000168685\n",
       "chr5-35857832-35858112   ENST00000515665 IL7R      ENSG00000168685\n",
       "chr5-35858879-35859737   ENST00000515665 IL7R      ENSG00000168685\n",
       "chr12-69738349-69740110  ENST00000261267 LYZ       ENSG00000090382\n",
       "chr17-38700799-38702992  ENST00000246657 CCR7      ENSG00000126353\n",
       "chr17-38703704-38705612  ENST00000246657 CCR7      ENSG00000126353\n",
       "chr17-38706973-38707066  ENST00000246657 CCR7      ENSG00000126353\n",
       "chr17-38718654-38718906  ENST00000578085 CCR7      ENSG00000126353\n",
       "chr17-38727664-38728934  ENST00000246657 CCR7      ENSG00000126353\n",
       "chr17-38729886-38730583  ENST00000246657 CCR7      ENSG00000126353\n",
       "chr20-23606564-23606975  ENST00000398411 CST3      ENSG00000101439\n",
       "                         gene_biotype   type closest_region          \n",
       "chr1-161523797-161524588 protein_coding gap  chr1-161518469-161600157\n",
       "chr1-161529790-161531534 protein_coding gap  chr1-161518469-161600157\n",
       "chr1-161539721-161540821 protein_coding gap  chr1-161518469-161600157\n",
       "chr1-161541921-161542393 protein_coding gap  chr1-161518469-161600157\n",
       "chr1-161555025-161555205 protein_coding gap  chr1-161518469-161600157\n",
       "chr1-161561347-161561621 protein_coding gap  chr1-161518469-161600157\n",
       "chr1-161566382-161566527 protein_coding gap  chr1-161518469-161600157\n",
       "chr5-35852400-35852876   protein_coding utr  chr5-35852797-35853040  \n",
       "chr5-35853491-35855028   protein_coding gap  chr5-35853041-35860953  \n",
       "chr5-35856179-35857318   protein_coding cds  chr5-35857080-35857161  \n",
       "chr5-35857832-35858112   protein_coding gap  chr5-35857162-35860953  \n",
       "chr5-35858879-35859737   protein_coding gap  chr5-35857162-35860953  \n",
       "chr12-69738349-69740110  protein_coding exon chr12-69742121-69742324 \n",
       "chr17-38700799-38702992  protein_coding utr  chr17-38710021-38710993 \n",
       "chr17-38703704-38705612  protein_coding utr  chr17-38710021-38710993 \n",
       "chr17-38706973-38707066  protein_coding utr  chr17-38710021-38710993 \n",
       "chr17-38718654-38718906  protein_coding gap  chr17-38712071-38721651 \n",
       "chr17-38727664-38728934  protein_coding exon chr17-38721652-38721724 \n",
       "chr17-38729886-38730583  protein_coding exon chr17-38721652-38721724 \n",
       "chr20-23606564-23606975  protein_coding utr  chr20-23608534-23610102 \n",
       "                         query_region             distance\n",
       "chr1-161523797-161524588 chr1-161523797-161524588    0    \n",
       "chr1-161529790-161531534 chr1-161529790-161531534    0    \n",
       "chr1-161539721-161540821 chr1-161539721-161540821    0    \n",
       "chr1-161541921-161542393 chr1-161541921-161542393    0    \n",
       "chr1-161555025-161555205 chr1-161555025-161555205    0    \n",
       "chr1-161561347-161561621 chr1-161561347-161561621    0    \n",
       "chr1-161566382-161566527 chr1-161566382-161566527    0    \n",
       "chr5-35852400-35852876   chr5-35852400-35852876      0    \n",
       "chr5-35853491-35855028   chr5-35853491-35855028      0    \n",
       "chr5-35856179-35857318   chr5-35856179-35857318      0    \n",
       "chr5-35857832-35858112   chr5-35857832-35858112      0    \n",
       "chr5-35858879-35859737   chr5-35858879-35859737      0    \n",
       "chr12-69738349-69740110  chr12-69738349-69740110  2010    \n",
       "chr17-38700799-38702992  chr17-38700799-38702992  7028    \n",
       "chr17-38703704-38705612  chr17-38703704-38705612  4408    \n",
       "chr17-38706973-38707066  chr17-38706973-38707066  2954    \n",
       "chr17-38718654-38718906  chr17-38718654-38718906     0    \n",
       "chr17-38727664-38728934  chr17-38727664-38728934  5939    \n",
       "chr17-38729886-38730583  chr17-38729886-38730583  8161    \n",
       "chr20-23606564-23606975  chr20-23606564-23606975  1558    "
      ]
     },
     "metadata": {},
     "output_type": "display_data"
    }
   ],
   "source": [
    "marker.feature.names <- feature.names %>% filter(gene_name %in% markers)\n",
    "rownames(marker.feature.names) <- marker.feature.names[,\"query_region\"]\n",
    "marker.feature.names\n",
    "\n",
    "marker.feature.names$name <- paste0(marker.feature.names$gene_name, \"_\", marker.feature.names$type)\n",
    "\n",
    "\n",
    "\n",
    "sapply(rownames(marker.feature.names), \n",
    "       FUN=featplot, se=se, curr.outdir=outdir, feat.names=marker.feature.names[\"name\"])"
   ]
  },
  {
   "cell_type": "markdown",
   "id": "0a5db2ff",
   "metadata": {},
   "source": [
    "## Run UMAP with just these markers"
   ]
  },
  {
   "cell_type": "code",
   "execution_count": 13,
   "id": "e195bee3",
   "metadata": {
    "scrolled": true
   },
   "outputs": [],
   "source": [
    "#genes.filter <- names(gene.percent.expressed[gene.percent.expressed>1])  #select genes expressed in at least 1% of cells\n",
    "counts.sub <- GetAssayData(se)[rownames(marker.feature.names),]\n",
    "counts.sub <- counts.sub[, (colSums(counts.sub)!=0)]\n",
    "\n",
    "# curr_assay <- CreateChromatinAssay(curr.counts, fragments = frags.curr, min.cells = 10, min.features = 200)\n",
    "# curr <- CreateSeuratObject(curr_assay, assay = \"ATAC\", project=name, meta.data=cells.meta)\n",
    "\n",
    "immune.se <- CreateSeuratObject(counts=counts.sub,\n",
    "                                assay = \"ATAC\", \n",
    "                                project=\"pbmc_markers\", \n",
    "                                meta.data=se[[]][colnames(counts.sub), ])\n",
    "\n",
    "\n",
    "# embed.atac <- function(se, outdir, lsi_start_comp=2, lsi_end_comp=50,reduction='lsi',\n",
    "#                        neighbor_dim=30){\n",
    "#     # Binarize and run LSI\n",
    "#     se <- BinarizeCounts(se)\n",
    "#     se <- RunTFIDF(se)\n",
    "#     se <- RunSVD(se, n=lsi_end_comp )\n",
    "#     se <- RunUMAP(se, dims = lsi_start_comp:lsi_end_comp, reduction = reduction)\n",
    "#     #dimP <- DimPlot(se, group.by = \"proj\", pt.size = 0.1)\n",
    "#     pDepthCorr <- DepthCor(se, reduction=reduction)\n",
    "#     #ggsave(file.path(outdir,\"integrated.depthCor.png\"), plot=pDepthCorr, dpi=300)\n",
    "#     #pDepthCorr\n",
    "#         #integrated <- RunUMAP(object = integrated, reduction = 'integrated_lsi', dims = 2:30)\n",
    "#     se <- FindNeighbors(object = se, reduction = 'lsi', dims = lsi_start_comp:neighbor_dim)\n",
    "#     se <- FindClusters(object = se, verbose = FALSE, algorithm = 3)\n",
    "#     return(c(se, pDepthCorr, dimP))\n",
    "# }\n",
    "\n",
    "\n",
    "# output <- embed.atac(immune.se, lsi_end_comp=10, neighbor_dim=5)\n",
    "# immune.se <- output[1]\n",
    "# pDepthCorr <- output[2]\n",
    "# dimP <- output[3]"
   ]
  },
  {
   "cell_type": "code",
   "execution_count": 47,
   "id": "16947a3f",
   "metadata": {
    "scrolled": true
   },
   "outputs": [
    {
     "name": "stderr",
     "output_type": "stream",
     "text": [
      "Performing TF-IDF normalization\n",
      "\n",
      "Running SVD\n",
      "\n",
      "Warning message in irlba(A = t(x = object), nv = n, work = irlba.work):\n",
      "\"You're computing too large a percentage of total singular values, use a standard svd instead.\"\n",
      "Warning message in irlba(A = t(x = object), nv = n, work = irlba.work):\n",
      "\"did not converge--results might be invalid!; try increasing work or maxit\"\n",
      "Scaling cell embeddings\n",
      "\n",
      "19:52:18 UMAP embedding parameters a = 0.9922 b = 1.112\n",
      "\n",
      "19:52:18 Read 2653 rows and found 9 numeric columns\n",
      "\n",
      "19:52:18 Using Annoy for neighbor search, n_neighbors = 50\n",
      "\n",
      "19:52:18 Building Annoy index with metric = cosine, n_trees = 50\n",
      "\n",
      "0%   10   20   30   40   50   60   70   80   90   100%\n",
      "\n",
      "[----|----|----|----|----|----|----|----|----|----|\n",
      "\n",
      "*\n",
      "*\n",
      "*\n",
      "*\n",
      "*\n",
      "*\n",
      "*\n",
      "*\n",
      "*\n",
      "*\n",
      "*\n",
      "*\n",
      "*\n",
      "*\n",
      "*\n",
      "*\n",
      "*\n",
      "*\n",
      "*\n",
      "*\n",
      "*\n",
      "*\n",
      "*\n",
      "*\n",
      "*\n",
      "*\n",
      "*\n",
      "*\n",
      "*\n",
      "*\n",
      "*\n",
      "*\n",
      "*\n",
      "*\n",
      "*\n",
      "*\n",
      "*\n",
      "*\n",
      "*\n",
      "*\n",
      "*\n",
      "*\n",
      "*\n",
      "*\n",
      "*\n",
      "*\n",
      "*\n",
      "*\n",
      "*\n",
      "*\n",
      "|\n",
      "\n",
      "19:52:19 Writing NN index file to temp file /tmp/RtmpmxO0Ue/file1e8792a035ffd\n",
      "\n",
      "19:52:19 Searching Annoy index using 4 threads, search_k = 5000\n",
      "\n",
      "19:52:19 Annoy recall = 75.46%\n",
      "\n",
      "19:52:20 Commencing smooth kNN distance calibration using 4 threads\n",
      "\n",
      "19:52:20 2065 smooth knn distance failures\n",
      "\n",
      "19:52:23 Initializing from normalized Laplacian + noise\n",
      "\n",
      "19:52:27 Commencing optimization for 500 epochs, with 151762 positive edges\n",
      "\n",
      "19:52:43 Optimization finished\n",
      "\n",
      "Computing nearest neighbor graph\n",
      "\n",
      "Computing SNN\n",
      "\n"
     ]
    },
    {
     "name": "stdout",
     "output_type": "stream",
     "text": [
      "Modularity Optimizer version 1.3.0 by Ludo Waltman and Nees Jan van Eck\n",
      "\n",
      "Number of nodes: 2653\n",
      "Number of edges: 138936\n",
      "\n",
      "Running smart local moving algorithm...\n",
      "Maximum modularity in 10 random starts: 0.8679\n",
      "Number of communities: 30\n",
      "Elapsed time: 0 seconds\n"
     ]
    },
    {
     "name": "stderr",
     "output_type": "stream",
     "text": [
      "Warning message:\n",
      "\"UNRELIABLE VALUE: One of the 'future.apply' iterations ('future_lapply-1') unexpectedly generated random numbers without declaring so. There is a risk that those random numbers are not statistically sound and the overall results might be invalid. To fix this, specify 'future.seed=TRUE'. This ensures that proper, parallel-safe random numbers are produced via the L'Ecuyer-CMRG method. To disable this check, use 'future.seed = NULL', or set option 'future.rng.onMisuse' to \"ignore\".\"\n"
     ]
    }
   ],
   "source": [
    "# Binarize and run LSI\n",
    "immune.atac.se <- FindTopFeatures(immune.se, min.cutoff = 20)\n",
    "immune.atac.se <- BinarizeCounts(immune.atac.se)\n",
    "immune.atac.se <- RunTFIDF(immune.atac.se)\n",
    "immune.atac.se <- RunSVD(immune.atac.se, n=10, irlba.work = 10)\n",
    "immune.atac.se <- RunUMAP(immune.atac.se, dims = 2:10, reduction = 'lsi', n.neighbors=50)\n",
    "#DimPlot(immune.atac.se, group.by = \"proj\", pt.size = 0.1)\n",
    "\n",
    "#dimP <- DimPlot(immune.atac.se, group.by = \"proj\", pt.size = 0.1)\n",
    "\n",
    "#ggsave(file.path(outdir,\"integrated.depthCor.png\"), plot=pDepthCorr, dpi=300)\n",
    "#pDepthCorr\n",
    "    #integrated <- RunUMAP(object = integrated, reduction = 'integrated_lsi', dims = 2:30)\n",
    "immune.atac.se <- FindNeighbors(object = immune.atac.se, reduction = 'lsi', dims = 2:10)\n",
    "immune.atac.se <- FindClusters(object = immune.atac.se, verbose = TRUE, algorithm = 3)\n"
   ]
  },
  {
   "cell_type": "code",
   "execution_count": 48,
   "id": "aa4d1d88",
   "metadata": {
    "scrolled": true
   },
   "outputs": [
    {
     "data": {
      "image/png": "[encoded data removed]",
      "text/plain": [
       "plot without title"
      ]
     },
     "metadata": {
      "image/png": {
       "height": 420,
       "width": 420
      }
     },
     "output_type": "display_data"
    }
   ],
   "source": [
    "DimPlot(immune.atac.se)"
   ]
  },
  {
   "cell_type": "code",
   "execution_count": 49,
   "id": "06fd131f",
   "metadata": {},
   "outputs": [
    {
     "name": "stderr",
     "output_type": "stream",
     "text": [
      "Warning message in dir.create(small.umap.outdir):\n",
      "\"'/data/Mito_Trace/output/pipeline/DUPI_april08_2021/MTblacklist_mtasnucl_Bonly/data/merged/MT/cellr_True/numread_200/filters/minC10_minR50_topN0_hetT0.001_hetC10_hetCount5_bq20/mgatk/vireoIn/clones/variants_init/knn/kparam_3/concat/annotation_clones/umap_markers/markersDimRed' already exists\"\n",
      "Saving 6.67 x 6.67 in image\n",
      "\n",
      "Saving 6.67 x 6.67 in image\n",
      "\n",
      "Saving 6.67 x 6.67 in image\n",
      "\n",
      "Saving 6.67 x 6.67 in image\n",
      "\n",
      "Saving 6.67 x 6.67 in image\n",
      "\n",
      "Saving 6.67 x 6.67 in image\n",
      "\n",
      "Saving 6.67 x 6.67 in image\n",
      "\n",
      "Saving 6.67 x 6.67 in image\n",
      "\n",
      "Saving 6.67 x 6.67 in image\n",
      "\n",
      "Saving 6.67 x 6.67 in image\n",
      "\n",
      "Saving 6.67 x 6.67 in image\n",
      "\n",
      "Saving 6.67 x 6.67 in image\n",
      "\n",
      "Saving 6.67 x 6.67 in image\n",
      "\n",
      "Saving 6.67 x 6.67 in image\n",
      "\n",
      "Saving 6.67 x 6.67 in image\n",
      "\n",
      "Saving 6.67 x 6.67 in image\n",
      "\n",
      "Saving 6.67 x 6.67 in image\n",
      "\n",
      "Saving 6.67 x 6.67 in image\n",
      "\n",
      "Saving 6.67 x 6.67 in image\n",
      "\n",
      "Saving 6.67 x 6.67 in image\n",
      "\n"
     ]
    },
    {
     "data": {
      "text/html": [
       "<style>\n",
       ".dl-inline {width: auto; margin:0; padding: 0}\n",
       ".dl-inline>dt, .dl-inline>dd {float: none; width: auto; display: inline-block}\n",
       ".dl-inline>dt::after {content: \":\\0020\"; padding-right: .5ex}\n",
       ".dl-inline>dt:not(:first-of-type) {padding-left: .5ex}\n",
       "</style><dl class=dl-inline><dt>chr1-161523797-161524588</dt><dd>'/data/Mito_Trace/output/pipeline/DUPI_april08_2021/MTblacklist_mtasnucl_Bonly/data/merged/MT/cellr_True/numread_200/filters/minC10_minR50_topN0_hetT0.001_hetC10_hetCount5_bq20/mgatk/vireoIn/clones/variants_init/knn/kparam_3/concat/annotation_clones/umap_markers/markersDimRed/chr1-161523797-161524588.embedFeat.top.png'</dd><dt>chr1-161529790-161531534</dt><dd>'/data/Mito_Trace/output/pipeline/DUPI_april08_2021/MTblacklist_mtasnucl_Bonly/data/merged/MT/cellr_True/numread_200/filters/minC10_minR50_topN0_hetT0.001_hetC10_hetCount5_bq20/mgatk/vireoIn/clones/variants_init/knn/kparam_3/concat/annotation_clones/umap_markers/markersDimRed/chr1-161529790-161531534.embedFeat.top.png'</dd><dt>chr1-161539721-161540821</dt><dd>'/data/Mito_Trace/output/pipeline/DUPI_april08_2021/MTblacklist_mtasnucl_Bonly/data/merged/MT/cellr_True/numread_200/filters/minC10_minR50_topN0_hetT0.001_hetC10_hetCount5_bq20/mgatk/vireoIn/clones/variants_init/knn/kparam_3/concat/annotation_clones/umap_markers/markersDimRed/chr1-161539721-161540821.embedFeat.top.png'</dd><dt>chr1-161541921-161542393</dt><dd>'/data/Mito_Trace/output/pipeline/DUPI_april08_2021/MTblacklist_mtasnucl_Bonly/data/merged/MT/cellr_True/numread_200/filters/minC10_minR50_topN0_hetT0.001_hetC10_hetCount5_bq20/mgatk/vireoIn/clones/variants_init/knn/kparam_3/concat/annotation_clones/umap_markers/markersDimRed/chr1-161541921-161542393.embedFeat.top.png'</dd><dt>chr1-161555025-161555205</dt><dd>'/data/Mito_Trace/output/pipeline/DUPI_april08_2021/MTblacklist_mtasnucl_Bonly/data/merged/MT/cellr_True/numread_200/filters/minC10_minR50_topN0_hetT0.001_hetC10_hetCount5_bq20/mgatk/vireoIn/clones/variants_init/knn/kparam_3/concat/annotation_clones/umap_markers/markersDimRed/chr1-161555025-161555205.embedFeat.top.png'</dd><dt>chr1-161561347-161561621</dt><dd>'/data/Mito_Trace/output/pipeline/DUPI_april08_2021/MTblacklist_mtasnucl_Bonly/data/merged/MT/cellr_True/numread_200/filters/minC10_minR50_topN0_hetT0.001_hetC10_hetCount5_bq20/mgatk/vireoIn/clones/variants_init/knn/kparam_3/concat/annotation_clones/umap_markers/markersDimRed/chr1-161561347-161561621.embedFeat.top.png'</dd><dt>chr1-161566382-161566527</dt><dd>'/data/Mito_Trace/output/pipeline/DUPI_april08_2021/MTblacklist_mtasnucl_Bonly/data/merged/MT/cellr_True/numread_200/filters/minC10_minR50_topN0_hetT0.001_hetC10_hetCount5_bq20/mgatk/vireoIn/clones/variants_init/knn/kparam_3/concat/annotation_clones/umap_markers/markersDimRed/chr1-161566382-161566527.embedFeat.top.png'</dd><dt>chr5-35852400-35852876</dt><dd>'/data/Mito_Trace/output/pipeline/DUPI_april08_2021/MTblacklist_mtasnucl_Bonly/data/merged/MT/cellr_True/numread_200/filters/minC10_minR50_topN0_hetT0.001_hetC10_hetCount5_bq20/mgatk/vireoIn/clones/variants_init/knn/kparam_3/concat/annotation_clones/umap_markers/markersDimRed/chr5-35852400-35852876.embedFeat.top.png'</dd><dt>chr5-35853491-35855028</dt><dd>'/data/Mito_Trace/output/pipeline/DUPI_april08_2021/MTblacklist_mtasnucl_Bonly/data/merged/MT/cellr_True/numread_200/filters/minC10_minR50_topN0_hetT0.001_hetC10_hetCount5_bq20/mgatk/vireoIn/clones/variants_init/knn/kparam_3/concat/annotation_clones/umap_markers/markersDimRed/chr5-35853491-35855028.embedFeat.top.png'</dd><dt>chr5-35856179-35857318</dt><dd>'/data/Mito_Trace/output/pipeline/DUPI_april08_2021/MTblacklist_mtasnucl_Bonly/data/merged/MT/cellr_True/numread_200/filters/minC10_minR50_topN0_hetT0.001_hetC10_hetCount5_bq20/mgatk/vireoIn/clones/variants_init/knn/kparam_3/concat/annotation_clones/umap_markers/markersDimRed/chr5-35856179-35857318.embedFeat.top.png'</dd><dt>chr5-35857832-35858112</dt><dd>'/data/Mito_Trace/output/pipeline/DUPI_april08_2021/MTblacklist_mtasnucl_Bonly/data/merged/MT/cellr_True/numread_200/filters/minC10_minR50_topN0_hetT0.001_hetC10_hetCount5_bq20/mgatk/vireoIn/clones/variants_init/knn/kparam_3/concat/annotation_clones/umap_markers/markersDimRed/chr5-35857832-35858112.embedFeat.top.png'</dd><dt>chr5-35858879-35859737</dt><dd>'/data/Mito_Trace/output/pipeline/DUPI_april08_2021/MTblacklist_mtasnucl_Bonly/data/merged/MT/cellr_True/numread_200/filters/minC10_minR50_topN0_hetT0.001_hetC10_hetCount5_bq20/mgatk/vireoIn/clones/variants_init/knn/kparam_3/concat/annotation_clones/umap_markers/markersDimRed/chr5-35858879-35859737.embedFeat.top.png'</dd><dt>chr12-69738349-69740110</dt><dd>'/data/Mito_Trace/output/pipeline/DUPI_april08_2021/MTblacklist_mtasnucl_Bonly/data/merged/MT/cellr_True/numread_200/filters/minC10_minR50_topN0_hetT0.001_hetC10_hetCount5_bq20/mgatk/vireoIn/clones/variants_init/knn/kparam_3/concat/annotation_clones/umap_markers/markersDimRed/chr12-69738349-69740110.embedFeat.top.png'</dd><dt>chr17-38700799-38702992</dt><dd>'/data/Mito_Trace/output/pipeline/DUPI_april08_2021/MTblacklist_mtasnucl_Bonly/data/merged/MT/cellr_True/numread_200/filters/minC10_minR50_topN0_hetT0.001_hetC10_hetCount5_bq20/mgatk/vireoIn/clones/variants_init/knn/kparam_3/concat/annotation_clones/umap_markers/markersDimRed/chr17-38700799-38702992.embedFeat.top.png'</dd><dt>chr17-38703704-38705612</dt><dd>'/data/Mito_Trace/output/pipeline/DUPI_april08_2021/MTblacklist_mtasnucl_Bonly/data/merged/MT/cellr_True/numread_200/filters/minC10_minR50_topN0_hetT0.001_hetC10_hetCount5_bq20/mgatk/vireoIn/clones/variants_init/knn/kparam_3/concat/annotation_clones/umap_markers/markersDimRed/chr17-38703704-38705612.embedFeat.top.png'</dd><dt>chr17-38706973-38707066</dt><dd>'/data/Mito_Trace/output/pipeline/DUPI_april08_2021/MTblacklist_mtasnucl_Bonly/data/merged/MT/cellr_True/numread_200/filters/minC10_minR50_topN0_hetT0.001_hetC10_hetCount5_bq20/mgatk/vireoIn/clones/variants_init/knn/kparam_3/concat/annotation_clones/umap_markers/markersDimRed/chr17-38706973-38707066.embedFeat.top.png'</dd><dt>chr17-38718654-38718906</dt><dd>'/data/Mito_Trace/output/pipeline/DUPI_april08_2021/MTblacklist_mtasnucl_Bonly/data/merged/MT/cellr_True/numread_200/filters/minC10_minR50_topN0_hetT0.001_hetC10_hetCount5_bq20/mgatk/vireoIn/clones/variants_init/knn/kparam_3/concat/annotation_clones/umap_markers/markersDimRed/chr17-38718654-38718906.embedFeat.top.png'</dd><dt>chr17-38727664-38728934</dt><dd>'/data/Mito_Trace/output/pipeline/DUPI_april08_2021/MTblacklist_mtasnucl_Bonly/data/merged/MT/cellr_True/numread_200/filters/minC10_minR50_topN0_hetT0.001_hetC10_hetCount5_bq20/mgatk/vireoIn/clones/variants_init/knn/kparam_3/concat/annotation_clones/umap_markers/markersDimRed/chr17-38727664-38728934.embedFeat.top.png'</dd><dt>chr17-38729886-38730583</dt><dd>'/data/Mito_Trace/output/pipeline/DUPI_april08_2021/MTblacklist_mtasnucl_Bonly/data/merged/MT/cellr_True/numread_200/filters/minC10_minR50_topN0_hetT0.001_hetC10_hetCount5_bq20/mgatk/vireoIn/clones/variants_init/knn/kparam_3/concat/annotation_clones/umap_markers/markersDimRed/chr17-38729886-38730583.embedFeat.top.png'</dd><dt>chr20-23606564-23606975</dt><dd>'/data/Mito_Trace/output/pipeline/DUPI_april08_2021/MTblacklist_mtasnucl_Bonly/data/merged/MT/cellr_True/numread_200/filters/minC10_minR50_topN0_hetT0.001_hetC10_hetCount5_bq20/mgatk/vireoIn/clones/variants_init/knn/kparam_3/concat/annotation_clones/umap_markers/markersDimRed/chr20-23606564-23606975.embedFeat.top.png'</dd></dl>\n"
      ],
      "text/latex": [
       "\\begin{description*}\n",
       "\\item[chr1-161523797-161524588] '/data/Mito\\_Trace/output/pipeline/DUPI\\_april08\\_2021/MTblacklist\\_mtasnucl\\_Bonly/data/merged/MT/cellr\\_True/numread\\_200/filters/minC10\\_minR50\\_topN0\\_hetT0.001\\_hetC10\\_hetCount5\\_bq20/mgatk/vireoIn/clones/variants\\_init/knn/kparam\\_3/concat/annotation\\_clones/umap\\_markers/markersDimRed/chr1-161523797-161524588.embedFeat.top.png'\n",
       "\\item[chr1-161529790-161531534] '/data/Mito\\_Trace/output/pipeline/DUPI\\_april08\\_2021/MTblacklist\\_mtasnucl\\_Bonly/data/merged/MT/cellr\\_True/numread\\_200/filters/minC10\\_minR50\\_topN0\\_hetT0.001\\_hetC10\\_hetCount5\\_bq20/mgatk/vireoIn/clones/variants\\_init/knn/kparam\\_3/concat/annotation\\_clones/umap\\_markers/markersDimRed/chr1-161529790-161531534.embedFeat.top.png'\n",
       "\\item[chr1-161539721-161540821] '/data/Mito\\_Trace/output/pipeline/DUPI\\_april08\\_2021/MTblacklist\\_mtasnucl\\_Bonly/data/merged/MT/cellr\\_True/numread\\_200/filters/minC10\\_minR50\\_topN0\\_hetT0.001\\_hetC10\\_hetCount5\\_bq20/mgatk/vireoIn/clones/variants\\_init/knn/kparam\\_3/concat/annotation\\_clones/umap\\_markers/markersDimRed/chr1-161539721-161540821.embedFeat.top.png'\n",
       "\\item[chr1-161541921-161542393] '/data/Mito\\_Trace/output/pipeline/DUPI\\_april08\\_2021/MTblacklist\\_mtasnucl\\_Bonly/data/merged/MT/cellr\\_True/numread\\_200/filters/minC10\\_minR50\\_topN0\\_hetT0.001\\_hetC10\\_hetCount5\\_bq20/mgatk/vireoIn/clones/variants\\_init/knn/kparam\\_3/concat/annotation\\_clones/umap\\_markers/markersDimRed/chr1-161541921-161542393.embedFeat.top.png'\n",
       "\\item[chr1-161555025-161555205] '/data/Mito\\_Trace/output/pipeline/DUPI\\_april08\\_2021/MTblacklist\\_mtasnucl\\_Bonly/data/merged/MT/cellr\\_True/numread\\_200/filters/minC10\\_minR50\\_topN0\\_hetT0.001\\_hetC10\\_hetCount5\\_bq20/mgatk/vireoIn/clones/variants\\_init/knn/kparam\\_3/concat/annotation\\_clones/umap\\_markers/markersDimRed/chr1-161555025-161555205.embedFeat.top.png'\n",
       "\\item[chr1-161561347-161561621] '/data/Mito\\_Trace/output/pipeline/DUPI\\_april08\\_2021/MTblacklist\\_mtasnucl\\_Bonly/data/merged/MT/cellr\\_True/numread\\_200/filters/minC10\\_minR50\\_topN0\\_hetT0.001\\_hetC10\\_hetCount5\\_bq20/mgatk/vireoIn/clones/variants\\_init/knn/kparam\\_3/concat/annotation\\_clones/umap\\_markers/markersDimRed/chr1-161561347-161561621.embedFeat.top.png'\n",
       "\\item[chr1-161566382-161566527] '/data/Mito\\_Trace/output/pipeline/DUPI\\_april08\\_2021/MTblacklist\\_mtasnucl\\_Bonly/data/merged/MT/cellr\\_True/numread\\_200/filters/minC10\\_minR50\\_topN0\\_hetT0.001\\_hetC10\\_hetCount5\\_bq20/mgatk/vireoIn/clones/variants\\_init/knn/kparam\\_3/concat/annotation\\_clones/umap\\_markers/markersDimRed/chr1-161566382-161566527.embedFeat.top.png'\n",
       "\\item[chr5-35852400-35852876] '/data/Mito\\_Trace/output/pipeline/DUPI\\_april08\\_2021/MTblacklist\\_mtasnucl\\_Bonly/data/merged/MT/cellr\\_True/numread\\_200/filters/minC10\\_minR50\\_topN0\\_hetT0.001\\_hetC10\\_hetCount5\\_bq20/mgatk/vireoIn/clones/variants\\_init/knn/kparam\\_3/concat/annotation\\_clones/umap\\_markers/markersDimRed/chr5-35852400-35852876.embedFeat.top.png'\n",
       "\\item[chr5-35853491-35855028] '/data/Mito\\_Trace/output/pipeline/DUPI\\_april08\\_2021/MTblacklist\\_mtasnucl\\_Bonly/data/merged/MT/cellr\\_True/numread\\_200/filters/minC10\\_minR50\\_topN0\\_hetT0.001\\_hetC10\\_hetCount5\\_bq20/mgatk/vireoIn/clones/variants\\_init/knn/kparam\\_3/concat/annotation\\_clones/umap\\_markers/markersDimRed/chr5-35853491-35855028.embedFeat.top.png'\n",
       "\\item[chr5-35856179-35857318] '/data/Mito\\_Trace/output/pipeline/DUPI\\_april08\\_2021/MTblacklist\\_mtasnucl\\_Bonly/data/merged/MT/cellr\\_True/numread\\_200/filters/minC10\\_minR50\\_topN0\\_hetT0.001\\_hetC10\\_hetCount5\\_bq20/mgatk/vireoIn/clones/variants\\_init/knn/kparam\\_3/concat/annotation\\_clones/umap\\_markers/markersDimRed/chr5-35856179-35857318.embedFeat.top.png'\n",
       "\\item[chr5-35857832-35858112] '/data/Mito\\_Trace/output/pipeline/DUPI\\_april08\\_2021/MTblacklist\\_mtasnucl\\_Bonly/data/merged/MT/cellr\\_True/numread\\_200/filters/minC10\\_minR50\\_topN0\\_hetT0.001\\_hetC10\\_hetCount5\\_bq20/mgatk/vireoIn/clones/variants\\_init/knn/kparam\\_3/concat/annotation\\_clones/umap\\_markers/markersDimRed/chr5-35857832-35858112.embedFeat.top.png'\n",
       "\\item[chr5-35858879-35859737] '/data/Mito\\_Trace/output/pipeline/DUPI\\_april08\\_2021/MTblacklist\\_mtasnucl\\_Bonly/data/merged/MT/cellr\\_True/numread\\_200/filters/minC10\\_minR50\\_topN0\\_hetT0.001\\_hetC10\\_hetCount5\\_bq20/mgatk/vireoIn/clones/variants\\_init/knn/kparam\\_3/concat/annotation\\_clones/umap\\_markers/markersDimRed/chr5-35858879-35859737.embedFeat.top.png'\n",
       "\\item[chr12-69738349-69740110] '/data/Mito\\_Trace/output/pipeline/DUPI\\_april08\\_2021/MTblacklist\\_mtasnucl\\_Bonly/data/merged/MT/cellr\\_True/numread\\_200/filters/minC10\\_minR50\\_topN0\\_hetT0.001\\_hetC10\\_hetCount5\\_bq20/mgatk/vireoIn/clones/variants\\_init/knn/kparam\\_3/concat/annotation\\_clones/umap\\_markers/markersDimRed/chr12-69738349-69740110.embedFeat.top.png'\n",
       "\\item[chr17-38700799-38702992] '/data/Mito\\_Trace/output/pipeline/DUPI\\_april08\\_2021/MTblacklist\\_mtasnucl\\_Bonly/data/merged/MT/cellr\\_True/numread\\_200/filters/minC10\\_minR50\\_topN0\\_hetT0.001\\_hetC10\\_hetCount5\\_bq20/mgatk/vireoIn/clones/variants\\_init/knn/kparam\\_3/concat/annotation\\_clones/umap\\_markers/markersDimRed/chr17-38700799-38702992.embedFeat.top.png'\n",
       "\\item[chr17-38703704-38705612] '/data/Mito\\_Trace/output/pipeline/DUPI\\_april08\\_2021/MTblacklist\\_mtasnucl\\_Bonly/data/merged/MT/cellr\\_True/numread\\_200/filters/minC10\\_minR50\\_topN0\\_hetT0.001\\_hetC10\\_hetCount5\\_bq20/mgatk/vireoIn/clones/variants\\_init/knn/kparam\\_3/concat/annotation\\_clones/umap\\_markers/markersDimRed/chr17-38703704-38705612.embedFeat.top.png'\n",
       "\\item[chr17-38706973-38707066] '/data/Mito\\_Trace/output/pipeline/DUPI\\_april08\\_2021/MTblacklist\\_mtasnucl\\_Bonly/data/merged/MT/cellr\\_True/numread\\_200/filters/minC10\\_minR50\\_topN0\\_hetT0.001\\_hetC10\\_hetCount5\\_bq20/mgatk/vireoIn/clones/variants\\_init/knn/kparam\\_3/concat/annotation\\_clones/umap\\_markers/markersDimRed/chr17-38706973-38707066.embedFeat.top.png'\n",
       "\\item[chr17-38718654-38718906] '/data/Mito\\_Trace/output/pipeline/DUPI\\_april08\\_2021/MTblacklist\\_mtasnucl\\_Bonly/data/merged/MT/cellr\\_True/numread\\_200/filters/minC10\\_minR50\\_topN0\\_hetT0.001\\_hetC10\\_hetCount5\\_bq20/mgatk/vireoIn/clones/variants\\_init/knn/kparam\\_3/concat/annotation\\_clones/umap\\_markers/markersDimRed/chr17-38718654-38718906.embedFeat.top.png'\n",
       "\\item[chr17-38727664-38728934] '/data/Mito\\_Trace/output/pipeline/DUPI\\_april08\\_2021/MTblacklist\\_mtasnucl\\_Bonly/data/merged/MT/cellr\\_True/numread\\_200/filters/minC10\\_minR50\\_topN0\\_hetT0.001\\_hetC10\\_hetCount5\\_bq20/mgatk/vireoIn/clones/variants\\_init/knn/kparam\\_3/concat/annotation\\_clones/umap\\_markers/markersDimRed/chr17-38727664-38728934.embedFeat.top.png'\n",
       "\\item[chr17-38729886-38730583] '/data/Mito\\_Trace/output/pipeline/DUPI\\_april08\\_2021/MTblacklist\\_mtasnucl\\_Bonly/data/merged/MT/cellr\\_True/numread\\_200/filters/minC10\\_minR50\\_topN0\\_hetT0.001\\_hetC10\\_hetCount5\\_bq20/mgatk/vireoIn/clones/variants\\_init/knn/kparam\\_3/concat/annotation\\_clones/umap\\_markers/markersDimRed/chr17-38729886-38730583.embedFeat.top.png'\n",
       "\\item[chr20-23606564-23606975] '/data/Mito\\_Trace/output/pipeline/DUPI\\_april08\\_2021/MTblacklist\\_mtasnucl\\_Bonly/data/merged/MT/cellr\\_True/numread\\_200/filters/minC10\\_minR50\\_topN0\\_hetT0.001\\_hetC10\\_hetCount5\\_bq20/mgatk/vireoIn/clones/variants\\_init/knn/kparam\\_3/concat/annotation\\_clones/umap\\_markers/markersDimRed/chr20-23606564-23606975.embedFeat.top.png'\n",
       "\\end{description*}\n"
      ],
      "text/markdown": [
       "chr1-161523797-161524588\n",
       ":   '/data/Mito_Trace/output/pipeline/DUPI_april08_2021/MTblacklist_mtasnucl_Bonly/data/merged/MT/cellr_True/numread_200/filters/minC10_minR50_topN0_hetT0.001_hetC10_hetCount5_bq20/mgatk/vireoIn/clones/variants_init/knn/kparam_3/concat/annotation_clones/umap_markers/markersDimRed/chr1-161523797-161524588.embedFeat.top.png'chr1-161529790-161531534\n",
       ":   '/data/Mito_Trace/output/pipeline/DUPI_april08_2021/MTblacklist_mtasnucl_Bonly/data/merged/MT/cellr_True/numread_200/filters/minC10_minR50_topN0_hetT0.001_hetC10_hetCount5_bq20/mgatk/vireoIn/clones/variants_init/knn/kparam_3/concat/annotation_clones/umap_markers/markersDimRed/chr1-161529790-161531534.embedFeat.top.png'chr1-161539721-161540821\n",
       ":   '/data/Mito_Trace/output/pipeline/DUPI_april08_2021/MTblacklist_mtasnucl_Bonly/data/merged/MT/cellr_True/numread_200/filters/minC10_minR50_topN0_hetT0.001_hetC10_hetCount5_bq20/mgatk/vireoIn/clones/variants_init/knn/kparam_3/concat/annotation_clones/umap_markers/markersDimRed/chr1-161539721-161540821.embedFeat.top.png'chr1-161541921-161542393\n",
       ":   '/data/Mito_Trace/output/pipeline/DUPI_april08_2021/MTblacklist_mtasnucl_Bonly/data/merged/MT/cellr_True/numread_200/filters/minC10_minR50_topN0_hetT0.001_hetC10_hetCount5_bq20/mgatk/vireoIn/clones/variants_init/knn/kparam_3/concat/annotation_clones/umap_markers/markersDimRed/chr1-161541921-161542393.embedFeat.top.png'chr1-161555025-161555205\n",
       ":   '/data/Mito_Trace/output/pipeline/DUPI_april08_2021/MTblacklist_mtasnucl_Bonly/data/merged/MT/cellr_True/numread_200/filters/minC10_minR50_topN0_hetT0.001_hetC10_hetCount5_bq20/mgatk/vireoIn/clones/variants_init/knn/kparam_3/concat/annotation_clones/umap_markers/markersDimRed/chr1-161555025-161555205.embedFeat.top.png'chr1-161561347-161561621\n",
       ":   '/data/Mito_Trace/output/pipeline/DUPI_april08_2021/MTblacklist_mtasnucl_Bonly/data/merged/MT/cellr_True/numread_200/filters/minC10_minR50_topN0_hetT0.001_hetC10_hetCount5_bq20/mgatk/vireoIn/clones/variants_init/knn/kparam_3/concat/annotation_clones/umap_markers/markersDimRed/chr1-161561347-161561621.embedFeat.top.png'chr1-161566382-161566527\n",
       ":   '/data/Mito_Trace/output/pipeline/DUPI_april08_2021/MTblacklist_mtasnucl_Bonly/data/merged/MT/cellr_True/numread_200/filters/minC10_minR50_topN0_hetT0.001_hetC10_hetCount5_bq20/mgatk/vireoIn/clones/variants_init/knn/kparam_3/concat/annotation_clones/umap_markers/markersDimRed/chr1-161566382-161566527.embedFeat.top.png'chr5-35852400-35852876\n",
       ":   '/data/Mito_Trace/output/pipeline/DUPI_april08_2021/MTblacklist_mtasnucl_Bonly/data/merged/MT/cellr_True/numread_200/filters/minC10_minR50_topN0_hetT0.001_hetC10_hetCount5_bq20/mgatk/vireoIn/clones/variants_init/knn/kparam_3/concat/annotation_clones/umap_markers/markersDimRed/chr5-35852400-35852876.embedFeat.top.png'chr5-35853491-35855028\n",
       ":   '/data/Mito_Trace/output/pipeline/DUPI_april08_2021/MTblacklist_mtasnucl_Bonly/data/merged/MT/cellr_True/numread_200/filters/minC10_minR50_topN0_hetT0.001_hetC10_hetCount5_bq20/mgatk/vireoIn/clones/variants_init/knn/kparam_3/concat/annotation_clones/umap_markers/markersDimRed/chr5-35853491-35855028.embedFeat.top.png'chr5-35856179-35857318\n",
       ":   '/data/Mito_Trace/output/pipeline/DUPI_april08_2021/MTblacklist_mtasnucl_Bonly/data/merged/MT/cellr_True/numread_200/filters/minC10_minR50_topN0_hetT0.001_hetC10_hetCount5_bq20/mgatk/vireoIn/clones/variants_init/knn/kparam_3/concat/annotation_clones/umap_markers/markersDimRed/chr5-35856179-35857318.embedFeat.top.png'chr5-35857832-35858112\n",
       ":   '/data/Mito_Trace/output/pipeline/DUPI_april08_2021/MTblacklist_mtasnucl_Bonly/data/merged/MT/cellr_True/numread_200/filters/minC10_minR50_topN0_hetT0.001_hetC10_hetCount5_bq20/mgatk/vireoIn/clones/variants_init/knn/kparam_3/concat/annotation_clones/umap_markers/markersDimRed/chr5-35857832-35858112.embedFeat.top.png'chr5-35858879-35859737\n",
       ":   '/data/Mito_Trace/output/pipeline/DUPI_april08_2021/MTblacklist_mtasnucl_Bonly/data/merged/MT/cellr_True/numread_200/filters/minC10_minR50_topN0_hetT0.001_hetC10_hetCount5_bq20/mgatk/vireoIn/clones/variants_init/knn/kparam_3/concat/annotation_clones/umap_markers/markersDimRed/chr5-35858879-35859737.embedFeat.top.png'chr12-69738349-69740110\n",
       ":   '/data/Mito_Trace/output/pipeline/DUPI_april08_2021/MTblacklist_mtasnucl_Bonly/data/merged/MT/cellr_True/numread_200/filters/minC10_minR50_topN0_hetT0.001_hetC10_hetCount5_bq20/mgatk/vireoIn/clones/variants_init/knn/kparam_3/concat/annotation_clones/umap_markers/markersDimRed/chr12-69738349-69740110.embedFeat.top.png'chr17-38700799-38702992\n",
       ":   '/data/Mito_Trace/output/pipeline/DUPI_april08_2021/MTblacklist_mtasnucl_Bonly/data/merged/MT/cellr_True/numread_200/filters/minC10_minR50_topN0_hetT0.001_hetC10_hetCount5_bq20/mgatk/vireoIn/clones/variants_init/knn/kparam_3/concat/annotation_clones/umap_markers/markersDimRed/chr17-38700799-38702992.embedFeat.top.png'chr17-38703704-38705612\n",
       ":   '/data/Mito_Trace/output/pipeline/DUPI_april08_2021/MTblacklist_mtasnucl_Bonly/data/merged/MT/cellr_True/numread_200/filters/minC10_minR50_topN0_hetT0.001_hetC10_hetCount5_bq20/mgatk/vireoIn/clones/variants_init/knn/kparam_3/concat/annotation_clones/umap_markers/markersDimRed/chr17-38703704-38705612.embedFeat.top.png'chr17-38706973-38707066\n",
       ":   '/data/Mito_Trace/output/pipeline/DUPI_april08_2021/MTblacklist_mtasnucl_Bonly/data/merged/MT/cellr_True/numread_200/filters/minC10_minR50_topN0_hetT0.001_hetC10_hetCount5_bq20/mgatk/vireoIn/clones/variants_init/knn/kparam_3/concat/annotation_clones/umap_markers/markersDimRed/chr17-38706973-38707066.embedFeat.top.png'chr17-38718654-38718906\n",
       ":   '/data/Mito_Trace/output/pipeline/DUPI_april08_2021/MTblacklist_mtasnucl_Bonly/data/merged/MT/cellr_True/numread_200/filters/minC10_minR50_topN0_hetT0.001_hetC10_hetCount5_bq20/mgatk/vireoIn/clones/variants_init/knn/kparam_3/concat/annotation_clones/umap_markers/markersDimRed/chr17-38718654-38718906.embedFeat.top.png'chr17-38727664-38728934\n",
       ":   '/data/Mito_Trace/output/pipeline/DUPI_april08_2021/MTblacklist_mtasnucl_Bonly/data/merged/MT/cellr_True/numread_200/filters/minC10_minR50_topN0_hetT0.001_hetC10_hetCount5_bq20/mgatk/vireoIn/clones/variants_init/knn/kparam_3/concat/annotation_clones/umap_markers/markersDimRed/chr17-38727664-38728934.embedFeat.top.png'chr17-38729886-38730583\n",
       ":   '/data/Mito_Trace/output/pipeline/DUPI_april08_2021/MTblacklist_mtasnucl_Bonly/data/merged/MT/cellr_True/numread_200/filters/minC10_minR50_topN0_hetT0.001_hetC10_hetCount5_bq20/mgatk/vireoIn/clones/variants_init/knn/kparam_3/concat/annotation_clones/umap_markers/markersDimRed/chr17-38729886-38730583.embedFeat.top.png'chr20-23606564-23606975\n",
       ":   '/data/Mito_Trace/output/pipeline/DUPI_april08_2021/MTblacklist_mtasnucl_Bonly/data/merged/MT/cellr_True/numread_200/filters/minC10_minR50_topN0_hetT0.001_hetC10_hetCount5_bq20/mgatk/vireoIn/clones/variants_init/knn/kparam_3/concat/annotation_clones/umap_markers/markersDimRed/chr20-23606564-23606975.embedFeat.top.png'\n",
       "\n"
      ],
      "text/plain": [
       "                                                                                                                                                                                                                                                                                                        chr1-161523797-161524588 \n",
       "\"/data/Mito_Trace/output/pipeline/DUPI_april08_2021/MTblacklist_mtasnucl_Bonly/data/merged/MT/cellr_True/numread_200/filters/minC10_minR50_topN0_hetT0.001_hetC10_hetCount5_bq20/mgatk/vireoIn/clones/variants_init/knn/kparam_3/concat/annotation_clones/umap_markers/markersDimRed/chr1-161523797-161524588.embedFeat.top.png\" \n",
       "                                                                                                                                                                                                                                                                                                        chr1-161529790-161531534 \n",
       "\"/data/Mito_Trace/output/pipeline/DUPI_april08_2021/MTblacklist_mtasnucl_Bonly/data/merged/MT/cellr_True/numread_200/filters/minC10_minR50_topN0_hetT0.001_hetC10_hetCount5_bq20/mgatk/vireoIn/clones/variants_init/knn/kparam_3/concat/annotation_clones/umap_markers/markersDimRed/chr1-161529790-161531534.embedFeat.top.png\" \n",
       "                                                                                                                                                                                                                                                                                                        chr1-161539721-161540821 \n",
       "\"/data/Mito_Trace/output/pipeline/DUPI_april08_2021/MTblacklist_mtasnucl_Bonly/data/merged/MT/cellr_True/numread_200/filters/minC10_minR50_topN0_hetT0.001_hetC10_hetCount5_bq20/mgatk/vireoIn/clones/variants_init/knn/kparam_3/concat/annotation_clones/umap_markers/markersDimRed/chr1-161539721-161540821.embedFeat.top.png\" \n",
       "                                                                                                                                                                                                                                                                                                        chr1-161541921-161542393 \n",
       "\"/data/Mito_Trace/output/pipeline/DUPI_april08_2021/MTblacklist_mtasnucl_Bonly/data/merged/MT/cellr_True/numread_200/filters/minC10_minR50_topN0_hetT0.001_hetC10_hetCount5_bq20/mgatk/vireoIn/clones/variants_init/knn/kparam_3/concat/annotation_clones/umap_markers/markersDimRed/chr1-161541921-161542393.embedFeat.top.png\" \n",
       "                                                                                                                                                                                                                                                                                                        chr1-161555025-161555205 \n",
       "\"/data/Mito_Trace/output/pipeline/DUPI_april08_2021/MTblacklist_mtasnucl_Bonly/data/merged/MT/cellr_True/numread_200/filters/minC10_minR50_topN0_hetT0.001_hetC10_hetCount5_bq20/mgatk/vireoIn/clones/variants_init/knn/kparam_3/concat/annotation_clones/umap_markers/markersDimRed/chr1-161555025-161555205.embedFeat.top.png\" \n",
       "                                                                                                                                                                                                                                                                                                        chr1-161561347-161561621 \n",
       "\"/data/Mito_Trace/output/pipeline/DUPI_april08_2021/MTblacklist_mtasnucl_Bonly/data/merged/MT/cellr_True/numread_200/filters/minC10_minR50_topN0_hetT0.001_hetC10_hetCount5_bq20/mgatk/vireoIn/clones/variants_init/knn/kparam_3/concat/annotation_clones/umap_markers/markersDimRed/chr1-161561347-161561621.embedFeat.top.png\" \n",
       "                                                                                                                                                                                                                                                                                                        chr1-161566382-161566527 \n",
       "\"/data/Mito_Trace/output/pipeline/DUPI_april08_2021/MTblacklist_mtasnucl_Bonly/data/merged/MT/cellr_True/numread_200/filters/minC10_minR50_topN0_hetT0.001_hetC10_hetCount5_bq20/mgatk/vireoIn/clones/variants_init/knn/kparam_3/concat/annotation_clones/umap_markers/markersDimRed/chr1-161566382-161566527.embedFeat.top.png\" \n",
       "                                                                                                                                                                                                                                                                                                          chr5-35852400-35852876 \n",
       "  \"/data/Mito_Trace/output/pipeline/DUPI_april08_2021/MTblacklist_mtasnucl_Bonly/data/merged/MT/cellr_True/numread_200/filters/minC10_minR50_topN0_hetT0.001_hetC10_hetCount5_bq20/mgatk/vireoIn/clones/variants_init/knn/kparam_3/concat/annotation_clones/umap_markers/markersDimRed/chr5-35852400-35852876.embedFeat.top.png\" \n",
       "                                                                                                                                                                                                                                                                                                          chr5-35853491-35855028 \n",
       "  \"/data/Mito_Trace/output/pipeline/DUPI_april08_2021/MTblacklist_mtasnucl_Bonly/data/merged/MT/cellr_True/numread_200/filters/minC10_minR50_topN0_hetT0.001_hetC10_hetCount5_bq20/mgatk/vireoIn/clones/variants_init/knn/kparam_3/concat/annotation_clones/umap_markers/markersDimRed/chr5-35853491-35855028.embedFeat.top.png\" \n",
       "                                                                                                                                                                                                                                                                                                          chr5-35856179-35857318 \n",
       "  \"/data/Mito_Trace/output/pipeline/DUPI_april08_2021/MTblacklist_mtasnucl_Bonly/data/merged/MT/cellr_True/numread_200/filters/minC10_minR50_topN0_hetT0.001_hetC10_hetCount5_bq20/mgatk/vireoIn/clones/variants_init/knn/kparam_3/concat/annotation_clones/umap_markers/markersDimRed/chr5-35856179-35857318.embedFeat.top.png\" \n",
       "                                                                                                                                                                                                                                                                                                          chr5-35857832-35858112 \n",
       "  \"/data/Mito_Trace/output/pipeline/DUPI_april08_2021/MTblacklist_mtasnucl_Bonly/data/merged/MT/cellr_True/numread_200/filters/minC10_minR50_topN0_hetT0.001_hetC10_hetCount5_bq20/mgatk/vireoIn/clones/variants_init/knn/kparam_3/concat/annotation_clones/umap_markers/markersDimRed/chr5-35857832-35858112.embedFeat.top.png\" \n",
       "                                                                                                                                                                                                                                                                                                          chr5-35858879-35859737 \n",
       "  \"/data/Mito_Trace/output/pipeline/DUPI_april08_2021/MTblacklist_mtasnucl_Bonly/data/merged/MT/cellr_True/numread_200/filters/minC10_minR50_topN0_hetT0.001_hetC10_hetCount5_bq20/mgatk/vireoIn/clones/variants_init/knn/kparam_3/concat/annotation_clones/umap_markers/markersDimRed/chr5-35858879-35859737.embedFeat.top.png\" \n",
       "                                                                                                                                                                                                                                                                                                         chr12-69738349-69740110 \n",
       " \"/data/Mito_Trace/output/pipeline/DUPI_april08_2021/MTblacklist_mtasnucl_Bonly/data/merged/MT/cellr_True/numread_200/filters/minC10_minR50_topN0_hetT0.001_hetC10_hetCount5_bq20/mgatk/vireoIn/clones/variants_init/knn/kparam_3/concat/annotation_clones/umap_markers/markersDimRed/chr12-69738349-69740110.embedFeat.top.png\" \n",
       "                                                                                                                                                                                                                                                                                                         chr17-38700799-38702992 \n",
       " \"/data/Mito_Trace/output/pipeline/DUPI_april08_2021/MTblacklist_mtasnucl_Bonly/data/merged/MT/cellr_True/numread_200/filters/minC10_minR50_topN0_hetT0.001_hetC10_hetCount5_bq20/mgatk/vireoIn/clones/variants_init/knn/kparam_3/concat/annotation_clones/umap_markers/markersDimRed/chr17-38700799-38702992.embedFeat.top.png\" \n",
       "                                                                                                                                                                                                                                                                                                         chr17-38703704-38705612 \n",
       " \"/data/Mito_Trace/output/pipeline/DUPI_april08_2021/MTblacklist_mtasnucl_Bonly/data/merged/MT/cellr_True/numread_200/filters/minC10_minR50_topN0_hetT0.001_hetC10_hetCount5_bq20/mgatk/vireoIn/clones/variants_init/knn/kparam_3/concat/annotation_clones/umap_markers/markersDimRed/chr17-38703704-38705612.embedFeat.top.png\" \n",
       "                                                                                                                                                                                                                                                                                                         chr17-38706973-38707066 \n",
       " \"/data/Mito_Trace/output/pipeline/DUPI_april08_2021/MTblacklist_mtasnucl_Bonly/data/merged/MT/cellr_True/numread_200/filters/minC10_minR50_topN0_hetT0.001_hetC10_hetCount5_bq20/mgatk/vireoIn/clones/variants_init/knn/kparam_3/concat/annotation_clones/umap_markers/markersDimRed/chr17-38706973-38707066.embedFeat.top.png\" \n",
       "                                                                                                                                                                                                                                                                                                         chr17-38718654-38718906 \n",
       " \"/data/Mito_Trace/output/pipeline/DUPI_april08_2021/MTblacklist_mtasnucl_Bonly/data/merged/MT/cellr_True/numread_200/filters/minC10_minR50_topN0_hetT0.001_hetC10_hetCount5_bq20/mgatk/vireoIn/clones/variants_init/knn/kparam_3/concat/annotation_clones/umap_markers/markersDimRed/chr17-38718654-38718906.embedFeat.top.png\" \n",
       "                                                                                                                                                                                                                                                                                                         chr17-38727664-38728934 \n",
       " \"/data/Mito_Trace/output/pipeline/DUPI_april08_2021/MTblacklist_mtasnucl_Bonly/data/merged/MT/cellr_True/numread_200/filters/minC10_minR50_topN0_hetT0.001_hetC10_hetCount5_bq20/mgatk/vireoIn/clones/variants_init/knn/kparam_3/concat/annotation_clones/umap_markers/markersDimRed/chr17-38727664-38728934.embedFeat.top.png\" \n",
       "                                                                                                                                                                                                                                                                                                         chr17-38729886-38730583 \n",
       " \"/data/Mito_Trace/output/pipeline/DUPI_april08_2021/MTblacklist_mtasnucl_Bonly/data/merged/MT/cellr_True/numread_200/filters/minC10_minR50_topN0_hetT0.001_hetC10_hetCount5_bq20/mgatk/vireoIn/clones/variants_init/knn/kparam_3/concat/annotation_clones/umap_markers/markersDimRed/chr17-38729886-38730583.embedFeat.top.png\" \n",
       "                                                                                                                                                                                                                                                                                                         chr20-23606564-23606975 \n",
       " \"/data/Mito_Trace/output/pipeline/DUPI_april08_2021/MTblacklist_mtasnucl_Bonly/data/merged/MT/cellr_True/numread_200/filters/minC10_minR50_topN0_hetT0.001_hetC10_hetCount5_bq20/mgatk/vireoIn/clones/variants_init/knn/kparam_3/concat/annotation_clones/umap_markers/markersDimRed/chr20-23606564-23606975.embedFeat.top.png\" "
      ]
     },
     "metadata": {},
     "output_type": "display_data"
    }
   ],
   "source": [
    "small.umap.outdir <- file.path(outdir, \"markersDimRed\")\n",
    "dir.create(small.umap.outdir)\n",
    "\n",
    "# feature.names <- ClosestFeature(immune.atac.se, rownames(immune.atac.se))\n",
    "# marker.feature.names <- feature.names %>% filter(gene_name %in% markers)\n",
    "# rownames(marker.feature.names) <- marker.feature.names[,\"query_region\"]\n",
    "# marker.feature.names\n",
    "\n",
    "# marker.feature.names$name <- paste0(marker.feature.names$gene_name, \"_\", marker.feature.names$type)\n",
    "\n",
    "sapply(rownames(marker.feature.names), \n",
    "       FUN=featplot, se=immune.atac.se, curr.outdir=small.umap.outdir, feat.names=marker.feature.names[\"name\"])"
   ]
  },
  {
   "cell_type": "markdown",
   "id": "42648041",
   "metadata": {},
   "source": [
    "## Donor counts"
   ]
  },
  {
   "cell_type": "code",
   "execution_count": 50,
   "id": "cc5c4f50",
   "metadata": {
    "scrolled": false
   },
   "outputs": [
    {
     "data": {
      "text/html": [
       "<table class=\"dataframe\">\n",
       "<caption>A tibble: 5 × 2</caption>\n",
       "<thead>\n",
       "\t<tr><th scope=col>donor</th><th scope=col>size</th></tr>\n",
       "\t<tr><th scope=col>&lt;fct&gt;</th><th scope=col>&lt;int&gt;</th></tr>\n",
       "</thead>\n",
       "<tbody>\n",
       "\t<tr><td>0   </td><td> 530</td></tr>\n",
       "\t<tr><td>1   </td><td> 626</td></tr>\n",
       "\t<tr><td>2   </td><td> 344</td></tr>\n",
       "\t<tr><td>3   </td><td>2041</td></tr>\n",
       "\t<tr><td>None</td><td> 142</td></tr>\n",
       "</tbody>\n",
       "</table>\n"
      ],
      "text/latex": [
       "A tibble: 5 × 2\n",
       "\\begin{tabular}{ll}\n",
       " donor & size\\\\\n",
       " <fct> & <int>\\\\\n",
       "\\hline\n",
       "\t 0    &  530\\\\\n",
       "\t 1    &  626\\\\\n",
       "\t 2    &  344\\\\\n",
       "\t 3    & 2041\\\\\n",
       "\t None &  142\\\\\n",
       "\\end{tabular}\n"
      ],
      "text/markdown": [
       "\n",
       "A tibble: 5 × 2\n",
       "\n",
       "| donor &lt;fct&gt; | size &lt;int&gt; |\n",
       "|---|---|\n",
       "| 0    |  530 |\n",
       "| 1    |  626 |\n",
       "| 2    |  344 |\n",
       "| 3    | 2041 |\n",
       "| None |  142 |\n",
       "\n"
      ],
      "text/plain": [
       "  donor size\n",
       "1 0      530\n",
       "2 1      626\n",
       "3 2      344\n",
       "4 3     2041\n",
       "5 None   142"
      ]
     },
     "metadata": {},
     "output_type": "display_data"
    },
    {
     "data": {
      "image/png": "[encoded data removed]",
      "text/plain": [
       "plot without title"
      ]
     },
     "metadata": {
      "image/png": {
       "height": 420,
       "width": 420
      }
     },
     "output_type": "display_data"
    }
   ],
   "source": [
    "barplot.df <- se[[]] %>% dplyr::group_by(donor) %>% dplyr::summarize(size=dplyr::n())# %>% mutate(donor=donor)\n",
    "# g <- ggplot(barplot.df[!(barplot.df$donor == \"None\" | is.na(barplot.df$donor)), ], aes(x=reorder(size), y=size, fill=donor)) + \n",
    "#             geom_bar(stat='identity')\n",
    "\n",
    "g <- ggplot(barplot.df, aes(x=donor, y=size)) + \n",
    "            geom_bar(stat='identity')\n",
    "\n",
    "g \n",
    "barplot.df"
   ]
  },
  {
   "cell_type": "markdown",
   "id": "49a6485e",
   "metadata": {},
   "source": [
    "---"
   ]
  },
  {
   "cell_type": "markdown",
   "id": "57583b19",
   "metadata": {},
   "source": [
    "---"
   ]
  },
  {
   "cell_type": "code",
   "execution_count": 11,
   "id": "32edb325",
   "metadata": {},
   "outputs": [
    {
     "data": {
      "text/plain": [
       "R version 4.1.1 (2021-08-10)\n",
       "Platform: x86_64-conda-linux-gnu (64-bit)\n",
       "Running under: Ubuntu 20.04.3 LTS\n",
       "\n",
       "Matrix products: default\n",
       "BLAS/LAPACK: /home/isaac/miniconda3/envs/mttrace/lib/libopenblasp-r0.3.18.so\n",
       "\n",
       "locale:\n",
       " [1] LC_CTYPE=en_US.UTF-8       LC_NUMERIC=C              \n",
       " [3] LC_TIME=en_US.UTF-8        LC_COLLATE=en_US.UTF-8    \n",
       " [5] LC_MONETARY=en_US.UTF-8    LC_MESSAGES=en_US.UTF-8   \n",
       " [7] LC_PAPER=en_US.UTF-8       LC_NAME=C                 \n",
       " [9] LC_ADDRESS=C               LC_TELEPHONE=C            \n",
       "[11] LC_MEASUREMENT=en_US.UTF-8 LC_IDENTIFICATION=C       \n",
       "\n",
       "attached base packages:\n",
       "[1] stats4    stats     graphics  grDevices utils     datasets  methods  \n",
       "[8] base     \n",
       "\n",
       "other attached packages:\n",
       " [1] future_1.23.0             RColorBrewer_1.1-2       \n",
       " [3] metap_1.1                 cowplot_1.1.1            \n",
       " [5] magrittr_2.0.1            data.table_1.14.2        \n",
       " [7] patchwork_1.1.1           ggplot2_3.3.5            \n",
       " [9] EnsDb.Hsapiens.v75_2.99.0 ensembldb_2.18.1         \n",
       "[11] AnnotationFilter_1.18.0   GenomicFeatures_1.46.1   \n",
       "[13] AnnotationDbi_1.56.1      Biobase_2.54.0           \n",
       "[15] GenomicRanges_1.46.0      GenomeInfoDb_1.30.0      \n",
       "[17] IRanges_2.28.0            S4Vectors_0.32.0         \n",
       "[19] BiocGenerics_0.40.0       SeuratObject_4.0.4       \n",
       "[21] Seurat_4.0.5              Signac_1.4.0             \n",
       "\n",
       "loaded via a namespace (and not attached):\n",
       "  [1] utf8_1.2.2                  reticulate_1.22            \n",
       "  [3] tidyselect_1.1.1            RSQLite_2.2.8              \n",
       "  [5] htmlwidgets_1.5.4           grid_4.1.1                 \n",
       "  [7] docopt_0.7.1                BiocParallel_1.28.0        \n",
       "  [9] Rtsne_0.15                  munsell_0.5.0              \n",
       " [11] codetools_0.2-18            ica_1.0-2                  \n",
       " [13] pbdZMQ_0.3-6                miniUI_0.1.1.1             \n",
       " [15] withr_2.4.2                 colorspace_2.0-2           \n",
       " [17] filelock_1.0.2              uuid_1.0-3                 \n",
       " [19] ROCR_1.0-11                 tensor_1.5                 \n",
       " [21] listenv_0.8.0               labeling_0.4.2             \n",
       " [23] MatrixGenerics_1.6.0        Rdpack_2.1.2               \n",
       " [25] slam_0.1-49                 repr_1.1.3                 \n",
       " [27] GenomeInfoDbData_1.2.7      polyclip_1.10-0            \n",
       " [29] bit64_4.0.5                 farver_2.1.0               \n",
       " [31] parallelly_1.29.0           vctrs_0.3.8                \n",
       " [33] generics_0.1.1              BiocFileCache_2.2.0        \n",
       " [35] lsa_0.73.2                  ggseqlogo_0.1              \n",
       " [37] doParallel_1.0.16           R6_2.5.1                   \n",
       " [39] clue_0.3-60                 bitops_1.0-7               \n",
       " [41] spatstat.utils_2.2-0        cachem_1.0.6               \n",
       " [43] DelayedArray_0.20.0         assertthat_0.2.1           \n",
       " [45] promises_1.2.0.1            BiocIO_1.4.0               \n",
       " [47] scales_1.1.1                gtable_0.3.0               \n",
       " [49] Cairo_1.5-12.2              globals_0.14.0             \n",
       " [51] goftest_1.2-3               rlang_0.4.12               \n",
       " [53] RcppRoll_0.3.0              GlobalOptions_0.1.2        \n",
       " [55] splines_4.1.1               rtracklayer_1.54.0         \n",
       " [57] lazyeval_0.2.2              spatstat.geom_2.3-0        \n",
       " [59] yaml_2.2.1                  reshape2_1.4.4             \n",
       " [61] abind_1.4-5                 httpuv_1.6.3               \n",
       " [63] tools_4.1.1                 ellipsis_0.3.2             \n",
       " [65] spatstat.core_2.3-2         ggridges_0.5.3             \n",
       " [67] Rcpp_1.0.7                  plyr_1.8.6                 \n",
       " [69] base64enc_0.1-3             progress_1.2.2             \n",
       " [71] zlibbioc_1.40.0             purrr_0.3.4                \n",
       " [73] RCurl_1.98-1.5              prettyunits_1.1.1          \n",
       " [75] rpart_4.1-15                deldir_1.0-6               \n",
       " [77] GetoptLong_1.0.5            pbapply_1.5-0              \n",
       " [79] zoo_1.8-9                   SummarizedExperiment_1.24.0\n",
       " [81] ggrepel_0.9.1               cluster_2.1.2              \n",
       " [83] magick_2.7.3                scattermore_0.7            \n",
       " [85] circlize_0.4.13             lmtest_0.9-39              \n",
       " [87] RANN_2.6.1                  SnowballC_0.7.0            \n",
       " [89] ProtGenerics_1.26.0         fitdistrplus_1.1-6         \n",
       " [91] matrixStats_0.61.0          hms_1.1.1                  \n",
       " [93] mime_0.12                   evaluate_0.14              \n",
       " [95] xtable_1.8-4                XML_3.99-0.8               \n",
       " [97] sparsesvd_0.2               shape_1.4.6                \n",
       " [99] gridExtra_2.3               compiler_4.1.1             \n",
       "[101] biomaRt_2.50.0              tibble_3.1.6               \n",
       "[103] KernSmooth_2.23-20          crayon_1.4.2               \n",
       "[105] htmltools_0.5.2             mgcv_1.8-38                \n",
       "[107] later_1.2.0                 tidyr_1.1.4                \n",
       "[109] DBI_1.1.1                   tweenr_1.0.2               \n",
       "[111] ComplexHeatmap_2.10.0       dbplyr_2.1.1               \n",
       "[113] MASS_7.3-54                 rappdirs_0.3.3             \n",
       "[115] Matrix_1.3-4                rbibutils_2.2.4            \n",
       "[117] parallel_4.1.1              igraph_1.2.9               \n",
       "[119] pkgconfig_2.0.3             GenomicAlignments_1.30.0   \n",
       "[121] IRdisplay_1.0               plotly_4.10.0              \n",
       "[123] spatstat.sparse_2.0-0       foreach_1.5.1              \n",
       "[125] xml2_1.3.2                  XVector_0.34.0             \n",
       "[127] stringr_1.4.0               digest_0.6.28              \n",
       "[129] sctransform_0.3.2           RcppAnnoy_0.0.19           \n",
       "[131] spatstat.data_2.1-0         Biostrings_2.62.0          \n",
       "[133] leiden_0.3.9                fastmatch_1.1-3            \n",
       "[135] uwot_0.1.10                 restfulr_0.0.13            \n",
       "[137] curl_4.3.2                  shiny_1.7.1                \n",
       "[139] Rsamtools_2.10.0            rjson_0.2.20               \n",
       "[141] lifecycle_1.0.1             nlme_3.1-153               \n",
       "[143] jsonlite_1.7.2              limma_3.50.0               \n",
       "[145] viridisLite_0.4.0           fansi_0.4.2                \n",
       "[147] pillar_1.6.4                lattice_0.20-45            \n",
       "[149] KEGGREST_1.34.0             fastmap_1.1.0              \n",
       "[151] httr_1.4.2                  survival_3.2-13            \n",
       "[153] glue_1.5.1                  qlcMatrix_0.9.7            \n",
       "[155] iterators_1.0.13            png_0.1-7                  \n",
       "[157] bit_4.0.4                   ggforce_0.3.3              \n",
       "[159] stringi_1.7.6               blob_1.2.2                 \n",
       "[161] memoise_2.0.1               IRkernel_1.2               \n",
       "[163] dplyr_1.0.7                 irlba_2.3.3                \n",
       "[165] future.apply_1.8.1         "
      ]
     },
     "metadata": {},
     "output_type": "display_data"
    }
   ],
   "source": [
    "sessionInfo()"
   ]
  },
  {
   "cell_type": "code",
   "execution_count": null,
   "id": "a7ae1698",
   "metadata": {},
   "outputs": [],
   "source": []
  }
 ],
 "metadata": {
  "celltoolbar": "Tags",
  "kernelspec": {
   "display_name": "R",
   "language": "R",
   "name": "ir"
  },
  "language_info": {
   "codemirror_mode": "r",
   "file_extension": ".r",
   "mimetype": "text/x-r-source",
   "name": "R",
   "pygments_lexer": "r",
   "version": "4.1.1"
  }
 },
 "nbformat": 4,
 "nbformat_minor": 5
}
