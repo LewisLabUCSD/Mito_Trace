{
 "cells": [
  {
   "cell_type": "code",
   "execution_count": 1,
   "id": "41fdb08b",
   "metadata": {
    "tags": [
     "parameters"
    ]
   },
   "outputs": [],
   "source": [
    "# DE.out.path = \"/data/Mito_Trace/output/pipeline/TcellDupi_may17_2021/MTblacklist/data/merged/MT/cellr_True/numread_200/filters/minC10_minR50_topN0_hetT0.001_hetC10_hetCount5_bq20/mgatk/vireoIn/clones/variants_init/knn/kparam_3/concat/gff_hg38_1_2/annotation_clones/de_btwncond_RNA/minPct_0_logfc0.1_pthresh_0.1/\"\n",
    "# export.path = \"/data/Mito_Trace/output/pipeline/TcellDupi_may17_2021/MTblacklist/data/merged/MT/cellr_True/numread_200/filters/minC10_minR50_topN0_hetT0.001_hetC10_hetCount5_bq20/mgatk/vireoIn/clones/variants_init/knn/kparam_3/concat/gff_hg38_1_2/annotation_clones/de_btwncond_RNA/minPct_0_logfc0.1/GSEA_pthresh_0.1/\"\n",
    "# gsea_dir = \"/mnt/md0/isshamie/Projects/Mito_Trace/software/Bioinformatics_Tools/\"\n",
    "# pthresh = 0.1\n",
    "# stat_col = \"log2FoldChange\"\n",
    "# prefilter = TRUE\n",
    "# padjmethod = \"BH\"\n",
    "# gsea_pthresh = 0.1\n",
    "\n",
    "DE.out.path = \"/data/Mito_Trace/output/pipeline/TcellDupi_may17_2021/MTblacklist/data/merged/MT/cellr_True/numread_200/filters/minC10_minR50_topN0_hetT0.001_hetC10_hetCount5_bq20/mgatk/vireoIn/clones/variants_init/knn/kparam_3/concat/gff_hg38_1_2/annotation_clones/de_btwncond_RNA/minPct_0_logfc0.1_pthresh_0.1/btwnConds_inClust\"\n",
    "export.path = \"/data/Mito_Trace/output/pipeline/TcellDupi_may17_2021/MTblacklist/data/merged/MT/cellr_True/numread_200/filters/minC10_minR50_topN0_hetT0.001_hetC10_hetCount5_bq20/mgatk/vireoIn/clones/variants_init/knn/kparam_3/concat/gff_hg38_1_2/annotation_clones/de_btwncond_RNA/minPct_0_logfc0.1_p0.1/GSEA_pthresh.0.1_pref.FALSE_stat.log2FoldChange_padj.BH/\"\n",
    "gsea_dir = \"/mnt/md0/isshamie/Projects/Mito_Trace/software/Bioinformatics_Tools/\"\n",
    "\n",
    "pthresh = 0.1 \n",
    "gsea_pthresh = 0.1 \n",
    "prefilter = FALSE \n",
    "stat_col = \"log2FoldChange\"\n",
    "padjmethod = \"BH\"\n",
    "\n",
    "pct_thresh = 0.1"
   ]
  },
  {
   "cell_type": "code",
   "execution_count": 2,
   "id": "31043df1",
   "metadata": {},
   "outputs": [],
   "source": [
    "if ((prefilter==\"TRUE\") | (prefilter==TRUE)){\n",
    "    prefilter=TRUE\n",
    "}else{\n",
    "    prefilter=FALSE\n",
    "}"
   ]
  },
  {
   "cell_type": "code",
   "execution_count": 3,
   "id": "d59d5e98",
   "metadata": {},
   "outputs": [
    {
     "name": "stderr",
     "output_type": "stream",
     "text": [
      "Warning message in dir.create(export.path.prep):\n",
      "“'/data/Mito_Trace/output/pipeline/TcellDupi_may17_2021/MTblacklist/data/merged/MT/cellr_True/numread_200/filters/minC10_minR50_topN0_hetT0.001_hetC10_hetCount5_bq20/mgatk/vireoIn/clones/variants_init/knn/kparam_3/concat/gff_hg38_1_2/annotation_clones/de_btwncond_RNA/minPct_0_logfc0.1_p0.1/GSEA_pthresh.0.1_pref.FALSE_stat.log2FoldChange_padj.BH/prep' already exists”\n"
     ]
    }
   ],
   "source": [
    "export.path.prep <- gsub(\"//\", \"/\", file.path(export.path, \"prep\"))\n",
    "dir.create(export.path.prep)"
   ]
  },
  {
   "cell_type": "code",
   "execution_count": 4,
   "id": "32f7ab3e",
   "metadata": {
    "scrolled": true
   },
   "outputs": [
    {
     "data": {
      "text/html": [
       "'/data/Mito_Trace/output/pipeline/TcellDupi_may17_2021/MTblacklist/data/merged/MT/cellr_True/numread_200/filters/minC10_minR50_topN0_hetT0.001_hetC10_hetCount5_bq20/mgatk/vireoIn/clones/variants_init/knn/kparam_3/concat/gff_hg38_1_2/annotation_clones/de_btwncond_RNA/minPct_0_logfc0.1_p0.1/GSEA_pthresh.0.1_pref.FALSE_stat.log2FoldChange_padj.BH/prep'"
      ],
      "text/latex": [
       "'/data/Mito\\_Trace/output/pipeline/TcellDupi\\_may17\\_2021/MTblacklist/data/merged/MT/cellr\\_True/numread\\_200/filters/minC10\\_minR50\\_topN0\\_hetT0.001\\_hetC10\\_hetCount5\\_bq20/mgatk/vireoIn/clones/variants\\_init/knn/kparam\\_3/concat/gff\\_hg38\\_1\\_2/annotation\\_clones/de\\_btwncond\\_RNA/minPct\\_0\\_logfc0.1\\_p0.1/GSEA\\_pthresh.0.1\\_pref.FALSE\\_stat.log2FoldChange\\_padj.BH/prep'"
      ],
      "text/markdown": [
       "'/data/Mito_Trace/output/pipeline/TcellDupi_may17_2021/MTblacklist/data/merged/MT/cellr_True/numread_200/filters/minC10_minR50_topN0_hetT0.001_hetC10_hetCount5_bq20/mgatk/vireoIn/clones/variants_init/knn/kparam_3/concat/gff_hg38_1_2/annotation_clones/de_btwncond_RNA/minPct_0_logfc0.1_p0.1/GSEA_pthresh.0.1_pref.FALSE_stat.log2FoldChange_padj.BH/prep'"
      ],
      "text/plain": [
       "[1] \"/data/Mito_Trace/output/pipeline/TcellDupi_may17_2021/MTblacklist/data/merged/MT/cellr_True/numread_200/filters/minC10_minR50_topN0_hetT0.001_hetC10_hetCount5_bq20/mgatk/vireoIn/clones/variants_init/knn/kparam_3/concat/gff_hg38_1_2/annotation_clones/de_btwncond_RNA/minPct_0_logfc0.1_p0.1/GSEA_pthresh.0.1_pref.FALSE_stat.log2FoldChange_padj.BH/prep\""
      ]
     },
     "metadata": {},
     "output_type": "display_data"
    }
   ],
   "source": [
    "export.path.prep"
   ]
  },
  {
   "cell_type": "code",
   "execution_count": 5,
   "id": "4268e5d7",
   "metadata": {},
   "outputs": [],
   "source": [
    "#btwnClust.outdir <- file.path(outdir, \"btwnClust\")\n",
    "#DE.out.path <- file.path(DE.out.path, \"DE.out.path\")\n"
   ]
  },
  {
   "cell_type": "code",
   "execution_count": 6,
   "id": "68b43d85",
   "metadata": {
    "scrolled": true
   },
   "outputs": [
    {
     "data": {
      "text/html": [
       "<style>\n",
       ".list-inline {list-style: none; margin:0; padding: 0}\n",
       ".list-inline>li {display: inline-block}\n",
       ".list-inline>li:not(:last-child)::after {content: \"\\00b7\"; padding: 0 .5ex}\n",
       "</style>\n",
       "<ol class=list-inline><li>'/data/Mito_Trace/output/pipeline/TcellDupi_may17_2021/MTblacklist/data/merged/MT/cellr_True/numread_200/filters/minC10_minR50_topN0_hetT0.001_hetC10_hetCount5_bq20/mgatk/vireoIn/clones/variants_init/knn/kparam_3/concat/gff_hg38_1_2/annotation_clones/de_btwncond_RNA/minPct_0_logfc0.1_pthresh_0.1/btwnConds_inClust/clust_0'</li><li>'/data/Mito_Trace/output/pipeline/TcellDupi_may17_2021/MTblacklist/data/merged/MT/cellr_True/numread_200/filters/minC10_minR50_topN0_hetT0.001_hetC10_hetCount5_bq20/mgatk/vireoIn/clones/variants_init/knn/kparam_3/concat/gff_hg38_1_2/annotation_clones/de_btwncond_RNA/minPct_0_logfc0.1_pthresh_0.1/btwnConds_inClust/clust_1'</li><li>'/data/Mito_Trace/output/pipeline/TcellDupi_may17_2021/MTblacklist/data/merged/MT/cellr_True/numread_200/filters/minC10_minR50_topN0_hetT0.001_hetC10_hetCount5_bq20/mgatk/vireoIn/clones/variants_init/knn/kparam_3/concat/gff_hg38_1_2/annotation_clones/de_btwncond_RNA/minPct_0_logfc0.1_pthresh_0.1/btwnConds_inClust/clust_10'</li><li>'/data/Mito_Trace/output/pipeline/TcellDupi_may17_2021/MTblacklist/data/merged/MT/cellr_True/numread_200/filters/minC10_minR50_topN0_hetT0.001_hetC10_hetCount5_bq20/mgatk/vireoIn/clones/variants_init/knn/kparam_3/concat/gff_hg38_1_2/annotation_clones/de_btwncond_RNA/minPct_0_logfc0.1_pthresh_0.1/btwnConds_inClust/clust_11'</li><li>'/data/Mito_Trace/output/pipeline/TcellDupi_may17_2021/MTblacklist/data/merged/MT/cellr_True/numread_200/filters/minC10_minR50_topN0_hetT0.001_hetC10_hetCount5_bq20/mgatk/vireoIn/clones/variants_init/knn/kparam_3/concat/gff_hg38_1_2/annotation_clones/de_btwncond_RNA/minPct_0_logfc0.1_pthresh_0.1/btwnConds_inClust/clust_12'</li><li>'/data/Mito_Trace/output/pipeline/TcellDupi_may17_2021/MTblacklist/data/merged/MT/cellr_True/numread_200/filters/minC10_minR50_topN0_hetT0.001_hetC10_hetCount5_bq20/mgatk/vireoIn/clones/variants_init/knn/kparam_3/concat/gff_hg38_1_2/annotation_clones/de_btwncond_RNA/minPct_0_logfc0.1_pthresh_0.1/btwnConds_inClust/clust_13'</li><li>'/data/Mito_Trace/output/pipeline/TcellDupi_may17_2021/MTblacklist/data/merged/MT/cellr_True/numread_200/filters/minC10_minR50_topN0_hetT0.001_hetC10_hetCount5_bq20/mgatk/vireoIn/clones/variants_init/knn/kparam_3/concat/gff_hg38_1_2/annotation_clones/de_btwncond_RNA/minPct_0_logfc0.1_pthresh_0.1/btwnConds_inClust/clust_14'</li><li>'/data/Mito_Trace/output/pipeline/TcellDupi_may17_2021/MTblacklist/data/merged/MT/cellr_True/numread_200/filters/minC10_minR50_topN0_hetT0.001_hetC10_hetCount5_bq20/mgatk/vireoIn/clones/variants_init/knn/kparam_3/concat/gff_hg38_1_2/annotation_clones/de_btwncond_RNA/minPct_0_logfc0.1_pthresh_0.1/btwnConds_inClust/clust_15'</li><li>'/data/Mito_Trace/output/pipeline/TcellDupi_may17_2021/MTblacklist/data/merged/MT/cellr_True/numread_200/filters/minC10_minR50_topN0_hetT0.001_hetC10_hetCount5_bq20/mgatk/vireoIn/clones/variants_init/knn/kparam_3/concat/gff_hg38_1_2/annotation_clones/de_btwncond_RNA/minPct_0_logfc0.1_pthresh_0.1/btwnConds_inClust/clust_2'</li><li>'/data/Mito_Trace/output/pipeline/TcellDupi_may17_2021/MTblacklist/data/merged/MT/cellr_True/numread_200/filters/minC10_minR50_topN0_hetT0.001_hetC10_hetCount5_bq20/mgatk/vireoIn/clones/variants_init/knn/kparam_3/concat/gff_hg38_1_2/annotation_clones/de_btwncond_RNA/minPct_0_logfc0.1_pthresh_0.1/btwnConds_inClust/clust_3'</li><li>'/data/Mito_Trace/output/pipeline/TcellDupi_may17_2021/MTblacklist/data/merged/MT/cellr_True/numread_200/filters/minC10_minR50_topN0_hetT0.001_hetC10_hetCount5_bq20/mgatk/vireoIn/clones/variants_init/knn/kparam_3/concat/gff_hg38_1_2/annotation_clones/de_btwncond_RNA/minPct_0_logfc0.1_pthresh_0.1/btwnConds_inClust/clust_4'</li><li>'/data/Mito_Trace/output/pipeline/TcellDupi_may17_2021/MTblacklist/data/merged/MT/cellr_True/numread_200/filters/minC10_minR50_topN0_hetT0.001_hetC10_hetCount5_bq20/mgatk/vireoIn/clones/variants_init/knn/kparam_3/concat/gff_hg38_1_2/annotation_clones/de_btwncond_RNA/minPct_0_logfc0.1_pthresh_0.1/btwnConds_inClust/clust_5'</li><li>'/data/Mito_Trace/output/pipeline/TcellDupi_may17_2021/MTblacklist/data/merged/MT/cellr_True/numread_200/filters/minC10_minR50_topN0_hetT0.001_hetC10_hetCount5_bq20/mgatk/vireoIn/clones/variants_init/knn/kparam_3/concat/gff_hg38_1_2/annotation_clones/de_btwncond_RNA/minPct_0_logfc0.1_pthresh_0.1/btwnConds_inClust/clust_6'</li><li>'/data/Mito_Trace/output/pipeline/TcellDupi_may17_2021/MTblacklist/data/merged/MT/cellr_True/numread_200/filters/minC10_minR50_topN0_hetT0.001_hetC10_hetCount5_bq20/mgatk/vireoIn/clones/variants_init/knn/kparam_3/concat/gff_hg38_1_2/annotation_clones/de_btwncond_RNA/minPct_0_logfc0.1_pthresh_0.1/btwnConds_inClust/clust_7'</li><li>'/data/Mito_Trace/output/pipeline/TcellDupi_may17_2021/MTblacklist/data/merged/MT/cellr_True/numread_200/filters/minC10_minR50_topN0_hetT0.001_hetC10_hetCount5_bq20/mgatk/vireoIn/clones/variants_init/knn/kparam_3/concat/gff_hg38_1_2/annotation_clones/de_btwncond_RNA/minPct_0_logfc0.1_pthresh_0.1/btwnConds_inClust/clust_8'</li><li>'/data/Mito_Trace/output/pipeline/TcellDupi_may17_2021/MTblacklist/data/merged/MT/cellr_True/numread_200/filters/minC10_minR50_topN0_hetT0.001_hetC10_hetCount5_bq20/mgatk/vireoIn/clones/variants_init/knn/kparam_3/concat/gff_hg38_1_2/annotation_clones/de_btwncond_RNA/minPct_0_logfc0.1_pthresh_0.1/btwnConds_inClust/clust_9'</li></ol>\n"
      ],
      "text/latex": [
       "\\begin{enumerate*}\n",
       "\\item '/data/Mito\\_Trace/output/pipeline/TcellDupi\\_may17\\_2021/MTblacklist/data/merged/MT/cellr\\_True/numread\\_200/filters/minC10\\_minR50\\_topN0\\_hetT0.001\\_hetC10\\_hetCount5\\_bq20/mgatk/vireoIn/clones/variants\\_init/knn/kparam\\_3/concat/gff\\_hg38\\_1\\_2/annotation\\_clones/de\\_btwncond\\_RNA/minPct\\_0\\_logfc0.1\\_pthresh\\_0.1/btwnConds\\_inClust/clust\\_0'\n",
       "\\item '/data/Mito\\_Trace/output/pipeline/TcellDupi\\_may17\\_2021/MTblacklist/data/merged/MT/cellr\\_True/numread\\_200/filters/minC10\\_minR50\\_topN0\\_hetT0.001\\_hetC10\\_hetCount5\\_bq20/mgatk/vireoIn/clones/variants\\_init/knn/kparam\\_3/concat/gff\\_hg38\\_1\\_2/annotation\\_clones/de\\_btwncond\\_RNA/minPct\\_0\\_logfc0.1\\_pthresh\\_0.1/btwnConds\\_inClust/clust\\_1'\n",
       "\\item '/data/Mito\\_Trace/output/pipeline/TcellDupi\\_may17\\_2021/MTblacklist/data/merged/MT/cellr\\_True/numread\\_200/filters/minC10\\_minR50\\_topN0\\_hetT0.001\\_hetC10\\_hetCount5\\_bq20/mgatk/vireoIn/clones/variants\\_init/knn/kparam\\_3/concat/gff\\_hg38\\_1\\_2/annotation\\_clones/de\\_btwncond\\_RNA/minPct\\_0\\_logfc0.1\\_pthresh\\_0.1/btwnConds\\_inClust/clust\\_10'\n",
       "\\item '/data/Mito\\_Trace/output/pipeline/TcellDupi\\_may17\\_2021/MTblacklist/data/merged/MT/cellr\\_True/numread\\_200/filters/minC10\\_minR50\\_topN0\\_hetT0.001\\_hetC10\\_hetCount5\\_bq20/mgatk/vireoIn/clones/variants\\_init/knn/kparam\\_3/concat/gff\\_hg38\\_1\\_2/annotation\\_clones/de\\_btwncond\\_RNA/minPct\\_0\\_logfc0.1\\_pthresh\\_0.1/btwnConds\\_inClust/clust\\_11'\n",
       "\\item '/data/Mito\\_Trace/output/pipeline/TcellDupi\\_may17\\_2021/MTblacklist/data/merged/MT/cellr\\_True/numread\\_200/filters/minC10\\_minR50\\_topN0\\_hetT0.001\\_hetC10\\_hetCount5\\_bq20/mgatk/vireoIn/clones/variants\\_init/knn/kparam\\_3/concat/gff\\_hg38\\_1\\_2/annotation\\_clones/de\\_btwncond\\_RNA/minPct\\_0\\_logfc0.1\\_pthresh\\_0.1/btwnConds\\_inClust/clust\\_12'\n",
       "\\item '/data/Mito\\_Trace/output/pipeline/TcellDupi\\_may17\\_2021/MTblacklist/data/merged/MT/cellr\\_True/numread\\_200/filters/minC10\\_minR50\\_topN0\\_hetT0.001\\_hetC10\\_hetCount5\\_bq20/mgatk/vireoIn/clones/variants\\_init/knn/kparam\\_3/concat/gff\\_hg38\\_1\\_2/annotation\\_clones/de\\_btwncond\\_RNA/minPct\\_0\\_logfc0.1\\_pthresh\\_0.1/btwnConds\\_inClust/clust\\_13'\n",
       "\\item '/data/Mito\\_Trace/output/pipeline/TcellDupi\\_may17\\_2021/MTblacklist/data/merged/MT/cellr\\_True/numread\\_200/filters/minC10\\_minR50\\_topN0\\_hetT0.001\\_hetC10\\_hetCount5\\_bq20/mgatk/vireoIn/clones/variants\\_init/knn/kparam\\_3/concat/gff\\_hg38\\_1\\_2/annotation\\_clones/de\\_btwncond\\_RNA/minPct\\_0\\_logfc0.1\\_pthresh\\_0.1/btwnConds\\_inClust/clust\\_14'\n",
       "\\item '/data/Mito\\_Trace/output/pipeline/TcellDupi\\_may17\\_2021/MTblacklist/data/merged/MT/cellr\\_True/numread\\_200/filters/minC10\\_minR50\\_topN0\\_hetT0.001\\_hetC10\\_hetCount5\\_bq20/mgatk/vireoIn/clones/variants\\_init/knn/kparam\\_3/concat/gff\\_hg38\\_1\\_2/annotation\\_clones/de\\_btwncond\\_RNA/minPct\\_0\\_logfc0.1\\_pthresh\\_0.1/btwnConds\\_inClust/clust\\_15'\n",
       "\\item '/data/Mito\\_Trace/output/pipeline/TcellDupi\\_may17\\_2021/MTblacklist/data/merged/MT/cellr\\_True/numread\\_200/filters/minC10\\_minR50\\_topN0\\_hetT0.001\\_hetC10\\_hetCount5\\_bq20/mgatk/vireoIn/clones/variants\\_init/knn/kparam\\_3/concat/gff\\_hg38\\_1\\_2/annotation\\_clones/de\\_btwncond\\_RNA/minPct\\_0\\_logfc0.1\\_pthresh\\_0.1/btwnConds\\_inClust/clust\\_2'\n",
       "\\item '/data/Mito\\_Trace/output/pipeline/TcellDupi\\_may17\\_2021/MTblacklist/data/merged/MT/cellr\\_True/numread\\_200/filters/minC10\\_minR50\\_topN0\\_hetT0.001\\_hetC10\\_hetCount5\\_bq20/mgatk/vireoIn/clones/variants\\_init/knn/kparam\\_3/concat/gff\\_hg38\\_1\\_2/annotation\\_clones/de\\_btwncond\\_RNA/minPct\\_0\\_logfc0.1\\_pthresh\\_0.1/btwnConds\\_inClust/clust\\_3'\n",
       "\\item '/data/Mito\\_Trace/output/pipeline/TcellDupi\\_may17\\_2021/MTblacklist/data/merged/MT/cellr\\_True/numread\\_200/filters/minC10\\_minR50\\_topN0\\_hetT0.001\\_hetC10\\_hetCount5\\_bq20/mgatk/vireoIn/clones/variants\\_init/knn/kparam\\_3/concat/gff\\_hg38\\_1\\_2/annotation\\_clones/de\\_btwncond\\_RNA/minPct\\_0\\_logfc0.1\\_pthresh\\_0.1/btwnConds\\_inClust/clust\\_4'\n",
       "\\item '/data/Mito\\_Trace/output/pipeline/TcellDupi\\_may17\\_2021/MTblacklist/data/merged/MT/cellr\\_True/numread\\_200/filters/minC10\\_minR50\\_topN0\\_hetT0.001\\_hetC10\\_hetCount5\\_bq20/mgatk/vireoIn/clones/variants\\_init/knn/kparam\\_3/concat/gff\\_hg38\\_1\\_2/annotation\\_clones/de\\_btwncond\\_RNA/minPct\\_0\\_logfc0.1\\_pthresh\\_0.1/btwnConds\\_inClust/clust\\_5'\n",
       "\\item '/data/Mito\\_Trace/output/pipeline/TcellDupi\\_may17\\_2021/MTblacklist/data/merged/MT/cellr\\_True/numread\\_200/filters/minC10\\_minR50\\_topN0\\_hetT0.001\\_hetC10\\_hetCount5\\_bq20/mgatk/vireoIn/clones/variants\\_init/knn/kparam\\_3/concat/gff\\_hg38\\_1\\_2/annotation\\_clones/de\\_btwncond\\_RNA/minPct\\_0\\_logfc0.1\\_pthresh\\_0.1/btwnConds\\_inClust/clust\\_6'\n",
       "\\item '/data/Mito\\_Trace/output/pipeline/TcellDupi\\_may17\\_2021/MTblacklist/data/merged/MT/cellr\\_True/numread\\_200/filters/minC10\\_minR50\\_topN0\\_hetT0.001\\_hetC10\\_hetCount5\\_bq20/mgatk/vireoIn/clones/variants\\_init/knn/kparam\\_3/concat/gff\\_hg38\\_1\\_2/annotation\\_clones/de\\_btwncond\\_RNA/minPct\\_0\\_logfc0.1\\_pthresh\\_0.1/btwnConds\\_inClust/clust\\_7'\n",
       "\\item '/data/Mito\\_Trace/output/pipeline/TcellDupi\\_may17\\_2021/MTblacklist/data/merged/MT/cellr\\_True/numread\\_200/filters/minC10\\_minR50\\_topN0\\_hetT0.001\\_hetC10\\_hetCount5\\_bq20/mgatk/vireoIn/clones/variants\\_init/knn/kparam\\_3/concat/gff\\_hg38\\_1\\_2/annotation\\_clones/de\\_btwncond\\_RNA/minPct\\_0\\_logfc0.1\\_pthresh\\_0.1/btwnConds\\_inClust/clust\\_8'\n",
       "\\item '/data/Mito\\_Trace/output/pipeline/TcellDupi\\_may17\\_2021/MTblacklist/data/merged/MT/cellr\\_True/numread\\_200/filters/minC10\\_minR50\\_topN0\\_hetT0.001\\_hetC10\\_hetCount5\\_bq20/mgatk/vireoIn/clones/variants\\_init/knn/kparam\\_3/concat/gff\\_hg38\\_1\\_2/annotation\\_clones/de\\_btwncond\\_RNA/minPct\\_0\\_logfc0.1\\_pthresh\\_0.1/btwnConds\\_inClust/clust\\_9'\n",
       "\\end{enumerate*}\n"
      ],
      "text/markdown": [
       "1. '/data/Mito_Trace/output/pipeline/TcellDupi_may17_2021/MTblacklist/data/merged/MT/cellr_True/numread_200/filters/minC10_minR50_topN0_hetT0.001_hetC10_hetCount5_bq20/mgatk/vireoIn/clones/variants_init/knn/kparam_3/concat/gff_hg38_1_2/annotation_clones/de_btwncond_RNA/minPct_0_logfc0.1_pthresh_0.1/btwnConds_inClust/clust_0'\n",
       "2. '/data/Mito_Trace/output/pipeline/TcellDupi_may17_2021/MTblacklist/data/merged/MT/cellr_True/numread_200/filters/minC10_minR50_topN0_hetT0.001_hetC10_hetCount5_bq20/mgatk/vireoIn/clones/variants_init/knn/kparam_3/concat/gff_hg38_1_2/annotation_clones/de_btwncond_RNA/minPct_0_logfc0.1_pthresh_0.1/btwnConds_inClust/clust_1'\n",
       "3. '/data/Mito_Trace/output/pipeline/TcellDupi_may17_2021/MTblacklist/data/merged/MT/cellr_True/numread_200/filters/minC10_minR50_topN0_hetT0.001_hetC10_hetCount5_bq20/mgatk/vireoIn/clones/variants_init/knn/kparam_3/concat/gff_hg38_1_2/annotation_clones/de_btwncond_RNA/minPct_0_logfc0.1_pthresh_0.1/btwnConds_inClust/clust_10'\n",
       "4. '/data/Mito_Trace/output/pipeline/TcellDupi_may17_2021/MTblacklist/data/merged/MT/cellr_True/numread_200/filters/minC10_minR50_topN0_hetT0.001_hetC10_hetCount5_bq20/mgatk/vireoIn/clones/variants_init/knn/kparam_3/concat/gff_hg38_1_2/annotation_clones/de_btwncond_RNA/minPct_0_logfc0.1_pthresh_0.1/btwnConds_inClust/clust_11'\n",
       "5. '/data/Mito_Trace/output/pipeline/TcellDupi_may17_2021/MTblacklist/data/merged/MT/cellr_True/numread_200/filters/minC10_minR50_topN0_hetT0.001_hetC10_hetCount5_bq20/mgatk/vireoIn/clones/variants_init/knn/kparam_3/concat/gff_hg38_1_2/annotation_clones/de_btwncond_RNA/minPct_0_logfc0.1_pthresh_0.1/btwnConds_inClust/clust_12'\n",
       "6. '/data/Mito_Trace/output/pipeline/TcellDupi_may17_2021/MTblacklist/data/merged/MT/cellr_True/numread_200/filters/minC10_minR50_topN0_hetT0.001_hetC10_hetCount5_bq20/mgatk/vireoIn/clones/variants_init/knn/kparam_3/concat/gff_hg38_1_2/annotation_clones/de_btwncond_RNA/minPct_0_logfc0.1_pthresh_0.1/btwnConds_inClust/clust_13'\n",
       "7. '/data/Mito_Trace/output/pipeline/TcellDupi_may17_2021/MTblacklist/data/merged/MT/cellr_True/numread_200/filters/minC10_minR50_topN0_hetT0.001_hetC10_hetCount5_bq20/mgatk/vireoIn/clones/variants_init/knn/kparam_3/concat/gff_hg38_1_2/annotation_clones/de_btwncond_RNA/minPct_0_logfc0.1_pthresh_0.1/btwnConds_inClust/clust_14'\n",
       "8. '/data/Mito_Trace/output/pipeline/TcellDupi_may17_2021/MTblacklist/data/merged/MT/cellr_True/numread_200/filters/minC10_minR50_topN0_hetT0.001_hetC10_hetCount5_bq20/mgatk/vireoIn/clones/variants_init/knn/kparam_3/concat/gff_hg38_1_2/annotation_clones/de_btwncond_RNA/minPct_0_logfc0.1_pthresh_0.1/btwnConds_inClust/clust_15'\n",
       "9. '/data/Mito_Trace/output/pipeline/TcellDupi_may17_2021/MTblacklist/data/merged/MT/cellr_True/numread_200/filters/minC10_minR50_topN0_hetT0.001_hetC10_hetCount5_bq20/mgatk/vireoIn/clones/variants_init/knn/kparam_3/concat/gff_hg38_1_2/annotation_clones/de_btwncond_RNA/minPct_0_logfc0.1_pthresh_0.1/btwnConds_inClust/clust_2'\n",
       "10. '/data/Mito_Trace/output/pipeline/TcellDupi_may17_2021/MTblacklist/data/merged/MT/cellr_True/numread_200/filters/minC10_minR50_topN0_hetT0.001_hetC10_hetCount5_bq20/mgatk/vireoIn/clones/variants_init/knn/kparam_3/concat/gff_hg38_1_2/annotation_clones/de_btwncond_RNA/minPct_0_logfc0.1_pthresh_0.1/btwnConds_inClust/clust_3'\n",
       "11. '/data/Mito_Trace/output/pipeline/TcellDupi_may17_2021/MTblacklist/data/merged/MT/cellr_True/numread_200/filters/minC10_minR50_topN0_hetT0.001_hetC10_hetCount5_bq20/mgatk/vireoIn/clones/variants_init/knn/kparam_3/concat/gff_hg38_1_2/annotation_clones/de_btwncond_RNA/minPct_0_logfc0.1_pthresh_0.1/btwnConds_inClust/clust_4'\n",
       "12. '/data/Mito_Trace/output/pipeline/TcellDupi_may17_2021/MTblacklist/data/merged/MT/cellr_True/numread_200/filters/minC10_minR50_topN0_hetT0.001_hetC10_hetCount5_bq20/mgatk/vireoIn/clones/variants_init/knn/kparam_3/concat/gff_hg38_1_2/annotation_clones/de_btwncond_RNA/minPct_0_logfc0.1_pthresh_0.1/btwnConds_inClust/clust_5'\n",
       "13. '/data/Mito_Trace/output/pipeline/TcellDupi_may17_2021/MTblacklist/data/merged/MT/cellr_True/numread_200/filters/minC10_minR50_topN0_hetT0.001_hetC10_hetCount5_bq20/mgatk/vireoIn/clones/variants_init/knn/kparam_3/concat/gff_hg38_1_2/annotation_clones/de_btwncond_RNA/minPct_0_logfc0.1_pthresh_0.1/btwnConds_inClust/clust_6'\n",
       "14. '/data/Mito_Trace/output/pipeline/TcellDupi_may17_2021/MTblacklist/data/merged/MT/cellr_True/numread_200/filters/minC10_minR50_topN0_hetT0.001_hetC10_hetCount5_bq20/mgatk/vireoIn/clones/variants_init/knn/kparam_3/concat/gff_hg38_1_2/annotation_clones/de_btwncond_RNA/minPct_0_logfc0.1_pthresh_0.1/btwnConds_inClust/clust_7'\n",
       "15. '/data/Mito_Trace/output/pipeline/TcellDupi_may17_2021/MTblacklist/data/merged/MT/cellr_True/numread_200/filters/minC10_minR50_topN0_hetT0.001_hetC10_hetCount5_bq20/mgatk/vireoIn/clones/variants_init/knn/kparam_3/concat/gff_hg38_1_2/annotation_clones/de_btwncond_RNA/minPct_0_logfc0.1_pthresh_0.1/btwnConds_inClust/clust_8'\n",
       "16. '/data/Mito_Trace/output/pipeline/TcellDupi_may17_2021/MTblacklist/data/merged/MT/cellr_True/numread_200/filters/minC10_minR50_topN0_hetT0.001_hetC10_hetCount5_bq20/mgatk/vireoIn/clones/variants_init/knn/kparam_3/concat/gff_hg38_1_2/annotation_clones/de_btwncond_RNA/minPct_0_logfc0.1_pthresh_0.1/btwnConds_inClust/clust_9'\n",
       "\n",
       "\n"
      ],
      "text/plain": [
       " [1] \"/data/Mito_Trace/output/pipeline/TcellDupi_may17_2021/MTblacklist/data/merged/MT/cellr_True/numread_200/filters/minC10_minR50_topN0_hetT0.001_hetC10_hetCount5_bq20/mgatk/vireoIn/clones/variants_init/knn/kparam_3/concat/gff_hg38_1_2/annotation_clones/de_btwncond_RNA/minPct_0_logfc0.1_pthresh_0.1/btwnConds_inClust/clust_0\" \n",
       " [2] \"/data/Mito_Trace/output/pipeline/TcellDupi_may17_2021/MTblacklist/data/merged/MT/cellr_True/numread_200/filters/minC10_minR50_topN0_hetT0.001_hetC10_hetCount5_bq20/mgatk/vireoIn/clones/variants_init/knn/kparam_3/concat/gff_hg38_1_2/annotation_clones/de_btwncond_RNA/minPct_0_logfc0.1_pthresh_0.1/btwnConds_inClust/clust_1\" \n",
       " [3] \"/data/Mito_Trace/output/pipeline/TcellDupi_may17_2021/MTblacklist/data/merged/MT/cellr_True/numread_200/filters/minC10_minR50_topN0_hetT0.001_hetC10_hetCount5_bq20/mgatk/vireoIn/clones/variants_init/knn/kparam_3/concat/gff_hg38_1_2/annotation_clones/de_btwncond_RNA/minPct_0_logfc0.1_pthresh_0.1/btwnConds_inClust/clust_10\"\n",
       " [4] \"/data/Mito_Trace/output/pipeline/TcellDupi_may17_2021/MTblacklist/data/merged/MT/cellr_True/numread_200/filters/minC10_minR50_topN0_hetT0.001_hetC10_hetCount5_bq20/mgatk/vireoIn/clones/variants_init/knn/kparam_3/concat/gff_hg38_1_2/annotation_clones/de_btwncond_RNA/minPct_0_logfc0.1_pthresh_0.1/btwnConds_inClust/clust_11\"\n",
       " [5] \"/data/Mito_Trace/output/pipeline/TcellDupi_may17_2021/MTblacklist/data/merged/MT/cellr_True/numread_200/filters/minC10_minR50_topN0_hetT0.001_hetC10_hetCount5_bq20/mgatk/vireoIn/clones/variants_init/knn/kparam_3/concat/gff_hg38_1_2/annotation_clones/de_btwncond_RNA/minPct_0_logfc0.1_pthresh_0.1/btwnConds_inClust/clust_12\"\n",
       " [6] \"/data/Mito_Trace/output/pipeline/TcellDupi_may17_2021/MTblacklist/data/merged/MT/cellr_True/numread_200/filters/minC10_minR50_topN0_hetT0.001_hetC10_hetCount5_bq20/mgatk/vireoIn/clones/variants_init/knn/kparam_3/concat/gff_hg38_1_2/annotation_clones/de_btwncond_RNA/minPct_0_logfc0.1_pthresh_0.1/btwnConds_inClust/clust_13\"\n",
       " [7] \"/data/Mito_Trace/output/pipeline/TcellDupi_may17_2021/MTblacklist/data/merged/MT/cellr_True/numread_200/filters/minC10_minR50_topN0_hetT0.001_hetC10_hetCount5_bq20/mgatk/vireoIn/clones/variants_init/knn/kparam_3/concat/gff_hg38_1_2/annotation_clones/de_btwncond_RNA/minPct_0_logfc0.1_pthresh_0.1/btwnConds_inClust/clust_14\"\n",
       " [8] \"/data/Mito_Trace/output/pipeline/TcellDupi_may17_2021/MTblacklist/data/merged/MT/cellr_True/numread_200/filters/minC10_minR50_topN0_hetT0.001_hetC10_hetCount5_bq20/mgatk/vireoIn/clones/variants_init/knn/kparam_3/concat/gff_hg38_1_2/annotation_clones/de_btwncond_RNA/minPct_0_logfc0.1_pthresh_0.1/btwnConds_inClust/clust_15\"\n",
       " [9] \"/data/Mito_Trace/output/pipeline/TcellDupi_may17_2021/MTblacklist/data/merged/MT/cellr_True/numread_200/filters/minC10_minR50_topN0_hetT0.001_hetC10_hetCount5_bq20/mgatk/vireoIn/clones/variants_init/knn/kparam_3/concat/gff_hg38_1_2/annotation_clones/de_btwncond_RNA/minPct_0_logfc0.1_pthresh_0.1/btwnConds_inClust/clust_2\" \n",
       "[10] \"/data/Mito_Trace/output/pipeline/TcellDupi_may17_2021/MTblacklist/data/merged/MT/cellr_True/numread_200/filters/minC10_minR50_topN0_hetT0.001_hetC10_hetCount5_bq20/mgatk/vireoIn/clones/variants_init/knn/kparam_3/concat/gff_hg38_1_2/annotation_clones/de_btwncond_RNA/minPct_0_logfc0.1_pthresh_0.1/btwnConds_inClust/clust_3\" \n",
       "[11] \"/data/Mito_Trace/output/pipeline/TcellDupi_may17_2021/MTblacklist/data/merged/MT/cellr_True/numread_200/filters/minC10_minR50_topN0_hetT0.001_hetC10_hetCount5_bq20/mgatk/vireoIn/clones/variants_init/knn/kparam_3/concat/gff_hg38_1_2/annotation_clones/de_btwncond_RNA/minPct_0_logfc0.1_pthresh_0.1/btwnConds_inClust/clust_4\" \n",
       "[12] \"/data/Mito_Trace/output/pipeline/TcellDupi_may17_2021/MTblacklist/data/merged/MT/cellr_True/numread_200/filters/minC10_minR50_topN0_hetT0.001_hetC10_hetCount5_bq20/mgatk/vireoIn/clones/variants_init/knn/kparam_3/concat/gff_hg38_1_2/annotation_clones/de_btwncond_RNA/minPct_0_logfc0.1_pthresh_0.1/btwnConds_inClust/clust_5\" \n",
       "[13] \"/data/Mito_Trace/output/pipeline/TcellDupi_may17_2021/MTblacklist/data/merged/MT/cellr_True/numread_200/filters/minC10_minR50_topN0_hetT0.001_hetC10_hetCount5_bq20/mgatk/vireoIn/clones/variants_init/knn/kparam_3/concat/gff_hg38_1_2/annotation_clones/de_btwncond_RNA/minPct_0_logfc0.1_pthresh_0.1/btwnConds_inClust/clust_6\" \n",
       "[14] \"/data/Mito_Trace/output/pipeline/TcellDupi_may17_2021/MTblacklist/data/merged/MT/cellr_True/numread_200/filters/minC10_minR50_topN0_hetT0.001_hetC10_hetCount5_bq20/mgatk/vireoIn/clones/variants_init/knn/kparam_3/concat/gff_hg38_1_2/annotation_clones/de_btwncond_RNA/minPct_0_logfc0.1_pthresh_0.1/btwnConds_inClust/clust_7\" \n",
       "[15] \"/data/Mito_Trace/output/pipeline/TcellDupi_may17_2021/MTblacklist/data/merged/MT/cellr_True/numread_200/filters/minC10_minR50_topN0_hetT0.001_hetC10_hetCount5_bq20/mgatk/vireoIn/clones/variants_init/knn/kparam_3/concat/gff_hg38_1_2/annotation_clones/de_btwncond_RNA/minPct_0_logfc0.1_pthresh_0.1/btwnConds_inClust/clust_8\" \n",
       "[16] \"/data/Mito_Trace/output/pipeline/TcellDupi_may17_2021/MTblacklist/data/merged/MT/cellr_True/numread_200/filters/minC10_minR50_topN0_hetT0.001_hetC10_hetCount5_bq20/mgatk/vireoIn/clones/variants_init/knn/kparam_3/concat/gff_hg38_1_2/annotation_clones/de_btwncond_RNA/minPct_0_logfc0.1_pthresh_0.1/btwnConds_inClust/clust_9\" "
      ]
     },
     "metadata": {},
     "output_type": "display_data"
    }
   ],
   "source": [
    "files <- list.files(path=DE.out.path,pattern = \"clust_*\", full.names = T, recursive = FALSE, include.dirs = TRUE)\n",
    "DE_dirs <- files[file.info(files)$isdir ]\n",
    "DE_dirs\n",
    "\n",
    "\n"
   ]
  },
  {
   "cell_type": "code",
   "execution_count": 7,
   "id": "ea4fc8d1",
   "metadata": {
    "scrolled": true
   },
   "outputs": [
    {
     "name": "stderr",
     "output_type": "stream",
     "text": [
      "Loading required package: clusterProfiler\n",
      "\n",
      "\n",
      "\n",
      "clusterProfiler v4.2.0  For help: https://yulab-smu.top/biomedical-knowledge-mining-book/\n",
      "\n",
      "If you use clusterProfiler in published research, please cite:\n",
      "T Wu, E Hu, S Xu, M Chen, P Guo, Z Dai, T Feng, L Zhou, W Tang, L Zhan, X Fu, S Liu, X Bo, and G Yu. clusterProfiler 4.0: A universal enrichment tool for interpreting omics data. The Innovation. 2021, 2(3):100141\n",
      "\n",
      "\n",
      "Attaching package: ‘clusterProfiler’\n",
      "\n",
      "\n",
      "The following object is masked from ‘package:stats’:\n",
      "\n",
      "    filter\n",
      "\n",
      "\n"
     ]
    },
    {
     "name": "stdout",
     "output_type": "stream",
     "text": [
      "[1] \"package already installed:clusterProfiler\"\n",
      "[1] \"package already installed:clusterProfiler\"\n"
     ]
    },
    {
     "name": "stderr",
     "output_type": "stream",
     "text": [
      "Loading required package: GSEABase\n",
      "\n",
      "Loading required package: BiocGenerics\n",
      "\n",
      "\n",
      "Attaching package: ‘BiocGenerics’\n",
      "\n",
      "\n",
      "The following objects are masked from ‘package:stats’:\n",
      "\n",
      "    IQR, mad, sd, var, xtabs\n",
      "\n",
      "\n",
      "The following objects are masked from ‘package:base’:\n",
      "\n",
      "    anyDuplicated, append, as.data.frame, basename, cbind, colnames,\n",
      "    dirname, do.call, duplicated, eval, evalq, Filter, Find, get, grep,\n",
      "    grepl, intersect, is.unsorted, lapply, Map, mapply, match, mget,\n",
      "    order, paste, pmax, pmax.int, pmin, pmin.int, Position, rank,\n",
      "    rbind, Reduce, rownames, sapply, setdiff, sort, table, tapply,\n",
      "    union, unique, unsplit, which.max, which.min\n",
      "\n",
      "\n",
      "Loading required package: Biobase\n",
      "\n",
      "Welcome to Bioconductor\n",
      "\n",
      "    Vignettes contain introductory material; view with\n",
      "    'browseVignettes()'. To cite Bioconductor, see\n",
      "    'citation(\"Biobase\")', and for packages 'citation(\"pkgname\")'.\n",
      "\n",
      "\n",
      "Loading required package: annotate\n",
      "\n",
      "Loading required package: AnnotationDbi\n",
      "\n",
      "Loading required package: stats4\n",
      "\n",
      "Loading required package: IRanges\n",
      "\n",
      "Loading required package: S4Vectors\n",
      "\n",
      "\n",
      "Attaching package: ‘S4Vectors’\n",
      "\n",
      "\n",
      "The following object is masked from ‘package:clusterProfiler’:\n",
      "\n",
      "    rename\n",
      "\n",
      "\n",
      "The following objects are masked from ‘package:base’:\n",
      "\n",
      "    expand.grid, I, unname\n",
      "\n",
      "\n",
      "\n",
      "Attaching package: ‘IRanges’\n",
      "\n",
      "\n",
      "The following object is masked from ‘package:clusterProfiler’:\n",
      "\n",
      "    slice\n",
      "\n",
      "\n",
      "\n",
      "Attaching package: ‘AnnotationDbi’\n",
      "\n",
      "\n",
      "The following object is masked from ‘package:clusterProfiler’:\n",
      "\n",
      "    select\n",
      "\n",
      "\n",
      "Loading required package: XML\n",
      "\n",
      "Loading required package: graph\n",
      "\n",
      "\n",
      "Attaching package: ‘graph’\n",
      "\n",
      "\n",
      "The following object is masked from ‘package:XML’:\n",
      "\n",
      "    addNode\n",
      "\n",
      "\n"
     ]
    },
    {
     "name": "stdout",
     "output_type": "stream",
     "text": [
      "[1] \"package already installed:GSEABase\"\n",
      "[1] \"package already installed:GSEABase\"\n"
     ]
    },
    {
     "name": "stderr",
     "output_type": "stream",
     "text": [
      "Loading required package: biomaRt\n",
      "\n"
     ]
    },
    {
     "name": "stdout",
     "output_type": "stream",
     "text": [
      "[1] \"package already installed:biomaRt\"\n",
      "[1] \"package already installed:biomaRt\"\n"
     ]
    },
    {
     "name": "stderr",
     "output_type": "stream",
     "text": [
      "Loading required package: org.Hs.eg.db\n",
      "\n",
      "\n",
      "\n"
     ]
    },
    {
     "name": "stdout",
     "output_type": "stream",
     "text": [
      "[1] \"package already installed:org.Hs.eg.db\"\n",
      "[1] \"package already installed:org.Hs.eg.db\"\n"
     ]
    },
    {
     "name": "stderr",
     "output_type": "stream",
     "text": [
      "Loading required package: DOSE\n",
      "\n",
      "DOSE v3.20.0  For help: https://yulab-smu.top/biomedical-knowledge-mining-book/\n",
      "\n",
      "If you use DOSE in published research, please cite:\n",
      "Guangchuang Yu, Li-Gen Wang, Guang-Rong Yan, Qing-Yu He. DOSE: an R/Bioconductor package for Disease Ontology Semantic and Enrichment analysis. Bioinformatics 2015, 31(4):608-609\n",
      "\n",
      "\n"
     ]
    },
    {
     "name": "stdout",
     "output_type": "stream",
     "text": [
      "[1] \"package already installed:DOSE\"\n",
      "[1] \"package already installed:DOSE\"\n"
     ]
    },
    {
     "name": "stderr",
     "output_type": "stream",
     "text": [
      "Loading required package: gdata\n",
      "\n",
      "gdata: read.xls support for 'XLS' (Excel 97-2004) files ENABLED.\n",
      "\n",
      "\n",
      "\n",
      "gdata: read.xls support for 'XLSX' (Excel 2007+) files ENABLED.\n",
      "\n",
      "\n",
      "Attaching package: ‘gdata’\n",
      "\n",
      "\n",
      "The following objects are masked from ‘package:IRanges’:\n",
      "\n",
      "    startsWith, trim\n",
      "\n",
      "\n",
      "The following objects are masked from ‘package:S4Vectors’:\n",
      "\n",
      "    first, first<-\n",
      "\n",
      "\n",
      "The following object is masked from ‘package:stats4’:\n",
      "\n",
      "    nobs\n",
      "\n",
      "\n",
      "The following object is masked from ‘package:Biobase’:\n",
      "\n",
      "    combine\n",
      "\n",
      "\n",
      "The following object is masked from ‘package:BiocGenerics’:\n",
      "\n",
      "    combine\n",
      "\n",
      "\n",
      "The following object is masked from ‘package:stats’:\n",
      "\n",
      "    nobs\n",
      "\n",
      "\n",
      "The following object is masked from ‘package:utils’:\n",
      "\n",
      "    object.size\n",
      "\n",
      "\n",
      "The following object is masked from ‘package:base’:\n",
      "\n",
      "    startsWith\n",
      "\n",
      "\n",
      "Loading required package: data.table\n",
      "\n",
      "\n",
      "Attaching package: ‘data.table’\n",
      "\n",
      "\n",
      "The following objects are masked from ‘package:gdata’:\n",
      "\n",
      "    first, last\n",
      "\n",
      "\n",
      "The following object is masked from ‘package:IRanges’:\n",
      "\n",
      "    shift\n",
      "\n",
      "\n",
      "The following objects are masked from ‘package:S4Vectors’:\n",
      "\n",
      "    first, second\n",
      "\n",
      "\n",
      "Loading required package: openxlsx\n",
      "\n",
      "Loading required package: dplyr\n",
      "\n",
      "\n",
      "Attaching package: ‘dplyr’\n",
      "\n",
      "\n",
      "The following objects are masked from ‘package:data.table’:\n",
      "\n",
      "    between, first, last\n",
      "\n",
      "\n",
      "The following objects are masked from ‘package:gdata’:\n",
      "\n",
      "    combine, first, last\n",
      "\n",
      "\n",
      "The following object is masked from ‘package:biomaRt’:\n",
      "\n",
      "    select\n",
      "\n",
      "\n",
      "The following objects are masked from ‘package:GSEABase’:\n",
      "\n",
      "    intersect, setdiff, union\n",
      "\n",
      "\n",
      "The following object is masked from ‘package:graph’:\n",
      "\n",
      "    union\n",
      "\n",
      "\n",
      "The following object is masked from ‘package:AnnotationDbi’:\n",
      "\n",
      "    select\n",
      "\n",
      "\n",
      "The following objects are masked from ‘package:IRanges’:\n",
      "\n",
      "    collapse, desc, intersect, setdiff, slice, union\n",
      "\n",
      "\n",
      "The following objects are masked from ‘package:S4Vectors’:\n",
      "\n",
      "    first, intersect, rename, setdiff, setequal, union\n",
      "\n",
      "\n",
      "The following object is masked from ‘package:Biobase’:\n",
      "\n",
      "    combine\n",
      "\n",
      "\n",
      "The following objects are masked from ‘package:BiocGenerics’:\n",
      "\n",
      "    combine, intersect, setdiff, union\n",
      "\n",
      "\n",
      "The following objects are masked from ‘package:stats’:\n",
      "\n",
      "    filter, lag\n",
      "\n",
      "\n",
      "The following objects are masked from ‘package:base’:\n",
      "\n",
      "    intersect, setdiff, setequal, union\n",
      "\n",
      "\n",
      "\n",
      "Attaching package: ‘stringr’\n",
      "\n",
      "\n",
      "The following object is masked from ‘package:graph’:\n",
      "\n",
      "    boundary\n",
      "\n",
      "\n"
     ]
    }
   ],
   "source": [
    "# library(\"AnnotationDbi\")\n",
    "#library(\"org.Hs.eg.db\")\n",
    "# library(TxDb.Hsapiens.UCSC.hg38.knownGene)\n",
    "source(paste0(gsea_dir,'R/Gsea.R'))"
   ]
  },
  {
   "cell_type": "code",
   "execution_count": 8,
   "id": "895b2b55",
   "metadata": {},
   "outputs": [],
   "source": [
    "cols.prior <- c(\"Gene\",\"baseMean\",\"log2FoldChange\",\"lfcSE\",\"stat\",\"pvalue\",\"padj\")\n",
    "cols.needed <- c(\"Gene\",\"log2FoldChange\")\n",
    "cols.curr <- c(\"X\",\"p_val\",\"avg_log2FC\",\"pct.1\",\"pct.2\",\"p_val_adj_BH\") #first col is empty in csv"
   ]
  },
  {
   "cell_type": "markdown",
   "id": "9270a190",
   "metadata": {},
   "source": [
    "## Prep files"
   ]
  },
  {
   "cell_type": "code",
   "execution_count": 9,
   "id": "541f8ea4",
   "metadata": {
    "scrolled": true
   },
   "outputs": [
    {
     "name": "stdout",
     "output_type": "stream",
     "text": [
      "[1] \"/data/Mito_Trace/output/pipeline/TcellDupi_may17_2021/MTblacklist/data/merged/MT/cellr_True/numread_200/filters/minC10_minR50_topN0_hetT0.001_hetC10_hetCount5_bq20/mgatk/vireoIn/clones/variants_init/knn/kparam_3/concat/gff_hg38_1_2/annotation_clones/de_btwncond_RNA/minPct_0_logfc0.1_pthresh_0.1/btwnConds_inClust/clust_0/0_DE.csv\"\n"
     ]
    },
    {
     "name": "stderr",
     "output_type": "stream",
     "text": [
      "'select()' returned 1:many mapping between keys and columns\n",
      "\n"
     ]
    },
    {
     "name": "stdout",
     "output_type": "stream",
     "text": [
      "[1] \"/data/Mito_Trace/output/pipeline/TcellDupi_may17_2021/MTblacklist/data/merged/MT/cellr_True/numread_200/filters/minC10_minR50_topN0_hetT0.001_hetC10_hetCount5_bq20/mgatk/vireoIn/clones/variants_init/knn/kparam_3/concat/gff_hg38_1_2/annotation_clones/de_btwncond_RNA/minPct_0_logfc0.1_pthresh_0.1/btwnConds_inClust/clust_1/1_DE.csv\"\n"
     ]
    },
    {
     "name": "stderr",
     "output_type": "stream",
     "text": [
      "'select()' returned 1:many mapping between keys and columns\n",
      "\n"
     ]
    },
    {
     "name": "stdout",
     "output_type": "stream",
     "text": [
      "[1] \"/data/Mito_Trace/output/pipeline/TcellDupi_may17_2021/MTblacklist/data/merged/MT/cellr_True/numread_200/filters/minC10_minR50_topN0_hetT0.001_hetC10_hetCount5_bq20/mgatk/vireoIn/clones/variants_init/knn/kparam_3/concat/gff_hg38_1_2/annotation_clones/de_btwncond_RNA/minPct_0_logfc0.1_pthresh_0.1/btwnConds_inClust/clust_10/10_DE.csv\"\n"
     ]
    },
    {
     "name": "stderr",
     "output_type": "stream",
     "text": [
      "'select()' returned 1:many mapping between keys and columns\n",
      "\n"
     ]
    },
    {
     "name": "stdout",
     "output_type": "stream",
     "text": [
      "[1] \"/data/Mito_Trace/output/pipeline/TcellDupi_may17_2021/MTblacklist/data/merged/MT/cellr_True/numread_200/filters/minC10_minR50_topN0_hetT0.001_hetC10_hetCount5_bq20/mgatk/vireoIn/clones/variants_init/knn/kparam_3/concat/gff_hg38_1_2/annotation_clones/de_btwncond_RNA/minPct_0_logfc0.1_pthresh_0.1/btwnConds_inClust/clust_11/11_DE.csv\"\n"
     ]
    },
    {
     "name": "stderr",
     "output_type": "stream",
     "text": [
      "'select()' returned 1:many mapping between keys and columns\n",
      "\n"
     ]
    },
    {
     "name": "stdout",
     "output_type": "stream",
     "text": [
      "[1] \"/data/Mito_Trace/output/pipeline/TcellDupi_may17_2021/MTblacklist/data/merged/MT/cellr_True/numread_200/filters/minC10_minR50_topN0_hetT0.001_hetC10_hetCount5_bq20/mgatk/vireoIn/clones/variants_init/knn/kparam_3/concat/gff_hg38_1_2/annotation_clones/de_btwncond_RNA/minPct_0_logfc0.1_pthresh_0.1/btwnConds_inClust/clust_12/12_DE.csv\"\n"
     ]
    },
    {
     "name": "stderr",
     "output_type": "stream",
     "text": [
      "'select()' returned 1:many mapping between keys and columns\n",
      "\n"
     ]
    },
    {
     "name": "stdout",
     "output_type": "stream",
     "text": [
      "[1] \"/data/Mito_Trace/output/pipeline/TcellDupi_may17_2021/MTblacklist/data/merged/MT/cellr_True/numread_200/filters/minC10_minR50_topN0_hetT0.001_hetC10_hetCount5_bq20/mgatk/vireoIn/clones/variants_init/knn/kparam_3/concat/gff_hg38_1_2/annotation_clones/de_btwncond_RNA/minPct_0_logfc0.1_pthresh_0.1/btwnConds_inClust/clust_13/13_DE.csv\"\n"
     ]
    },
    {
     "name": "stderr",
     "output_type": "stream",
     "text": [
      "'select()' returned 1:many mapping between keys and columns\n",
      "\n"
     ]
    },
    {
     "name": "stdout",
     "output_type": "stream",
     "text": [
      "[1] \"/data/Mito_Trace/output/pipeline/TcellDupi_may17_2021/MTblacklist/data/merged/MT/cellr_True/numread_200/filters/minC10_minR50_topN0_hetT0.001_hetC10_hetCount5_bq20/mgatk/vireoIn/clones/variants_init/knn/kparam_3/concat/gff_hg38_1_2/annotation_clones/de_btwncond_RNA/minPct_0_logfc0.1_pthresh_0.1/btwnConds_inClust/clust_14/14_DE.csv\"\n"
     ]
    },
    {
     "name": "stderr",
     "output_type": "stream",
     "text": [
      "'select()' returned 1:many mapping between keys and columns\n",
      "\n"
     ]
    },
    {
     "name": "stdout",
     "output_type": "stream",
     "text": [
      "[1] \"/data/Mito_Trace/output/pipeline/TcellDupi_may17_2021/MTblacklist/data/merged/MT/cellr_True/numread_200/filters/minC10_minR50_topN0_hetT0.001_hetC10_hetCount5_bq20/mgatk/vireoIn/clones/variants_init/knn/kparam_3/concat/gff_hg38_1_2/annotation_clones/de_btwncond_RNA/minPct_0_logfc0.1_pthresh_0.1/btwnConds_inClust/clust_15/15_DE.csv\"\n"
     ]
    },
    {
     "name": "stderr",
     "output_type": "stream",
     "text": [
      "'select()' returned 1:many mapping between keys and columns\n",
      "\n"
     ]
    },
    {
     "name": "stdout",
     "output_type": "stream",
     "text": [
      "[1] \"/data/Mito_Trace/output/pipeline/TcellDupi_may17_2021/MTblacklist/data/merged/MT/cellr_True/numread_200/filters/minC10_minR50_topN0_hetT0.001_hetC10_hetCount5_bq20/mgatk/vireoIn/clones/variants_init/knn/kparam_3/concat/gff_hg38_1_2/annotation_clones/de_btwncond_RNA/minPct_0_logfc0.1_pthresh_0.1/btwnConds_inClust/clust_2/2_DE.csv\"\n"
     ]
    },
    {
     "name": "stderr",
     "output_type": "stream",
     "text": [
      "'select()' returned 1:many mapping between keys and columns\n",
      "\n"
     ]
    },
    {
     "name": "stdout",
     "output_type": "stream",
     "text": [
      "[1] \"/data/Mito_Trace/output/pipeline/TcellDupi_may17_2021/MTblacklist/data/merged/MT/cellr_True/numread_200/filters/minC10_minR50_topN0_hetT0.001_hetC10_hetCount5_bq20/mgatk/vireoIn/clones/variants_init/knn/kparam_3/concat/gff_hg38_1_2/annotation_clones/de_btwncond_RNA/minPct_0_logfc0.1_pthresh_0.1/btwnConds_inClust/clust_3/3_DE.csv\"\n"
     ]
    },
    {
     "name": "stderr",
     "output_type": "stream",
     "text": [
      "'select()' returned 1:many mapping between keys and columns\n",
      "\n"
     ]
    },
    {
     "name": "stdout",
     "output_type": "stream",
     "text": [
      "[1] \"/data/Mito_Trace/output/pipeline/TcellDupi_may17_2021/MTblacklist/data/merged/MT/cellr_True/numread_200/filters/minC10_minR50_topN0_hetT0.001_hetC10_hetCount5_bq20/mgatk/vireoIn/clones/variants_init/knn/kparam_3/concat/gff_hg38_1_2/annotation_clones/de_btwncond_RNA/minPct_0_logfc0.1_pthresh_0.1/btwnConds_inClust/clust_4/4_DE.csv\"\n"
     ]
    },
    {
     "name": "stderr",
     "output_type": "stream",
     "text": [
      "'select()' returned 1:many mapping between keys and columns\n",
      "\n"
     ]
    },
    {
     "name": "stdout",
     "output_type": "stream",
     "text": [
      "[1] \"/data/Mito_Trace/output/pipeline/TcellDupi_may17_2021/MTblacklist/data/merged/MT/cellr_True/numread_200/filters/minC10_minR50_topN0_hetT0.001_hetC10_hetCount5_bq20/mgatk/vireoIn/clones/variants_init/knn/kparam_3/concat/gff_hg38_1_2/annotation_clones/de_btwncond_RNA/minPct_0_logfc0.1_pthresh_0.1/btwnConds_inClust/clust_5/5_DE.csv\"\n"
     ]
    },
    {
     "name": "stderr",
     "output_type": "stream",
     "text": [
      "'select()' returned 1:many mapping between keys and columns\n",
      "\n"
     ]
    },
    {
     "name": "stdout",
     "output_type": "stream",
     "text": [
      "[1] \"/data/Mito_Trace/output/pipeline/TcellDupi_may17_2021/MTblacklist/data/merged/MT/cellr_True/numread_200/filters/minC10_minR50_topN0_hetT0.001_hetC10_hetCount5_bq20/mgatk/vireoIn/clones/variants_init/knn/kparam_3/concat/gff_hg38_1_2/annotation_clones/de_btwncond_RNA/minPct_0_logfc0.1_pthresh_0.1/btwnConds_inClust/clust_6/6_DE.csv\"\n"
     ]
    },
    {
     "name": "stderr",
     "output_type": "stream",
     "text": [
      "'select()' returned 1:many mapping between keys and columns\n",
      "\n"
     ]
    },
    {
     "name": "stdout",
     "output_type": "stream",
     "text": [
      "[1] \"/data/Mito_Trace/output/pipeline/TcellDupi_may17_2021/MTblacklist/data/merged/MT/cellr_True/numread_200/filters/minC10_minR50_topN0_hetT0.001_hetC10_hetCount5_bq20/mgatk/vireoIn/clones/variants_init/knn/kparam_3/concat/gff_hg38_1_2/annotation_clones/de_btwncond_RNA/minPct_0_logfc0.1_pthresh_0.1/btwnConds_inClust/clust_7/7_DE.csv\"\n"
     ]
    },
    {
     "name": "stderr",
     "output_type": "stream",
     "text": [
      "'select()' returned 1:many mapping between keys and columns\n",
      "\n"
     ]
    },
    {
     "name": "stdout",
     "output_type": "stream",
     "text": [
      "[1] \"/data/Mito_Trace/output/pipeline/TcellDupi_may17_2021/MTblacklist/data/merged/MT/cellr_True/numread_200/filters/minC10_minR50_topN0_hetT0.001_hetC10_hetCount5_bq20/mgatk/vireoIn/clones/variants_init/knn/kparam_3/concat/gff_hg38_1_2/annotation_clones/de_btwncond_RNA/minPct_0_logfc0.1_pthresh_0.1/btwnConds_inClust/clust_8/8_DE.csv\"\n"
     ]
    },
    {
     "name": "stderr",
     "output_type": "stream",
     "text": [
      "'select()' returned 1:many mapping between keys and columns\n",
      "\n"
     ]
    },
    {
     "name": "stdout",
     "output_type": "stream",
     "text": [
      "[1] \"/data/Mito_Trace/output/pipeline/TcellDupi_may17_2021/MTblacklist/data/merged/MT/cellr_True/numread_200/filters/minC10_minR50_topN0_hetT0.001_hetC10_hetCount5_bq20/mgatk/vireoIn/clones/variants_init/knn/kparam_3/concat/gff_hg38_1_2/annotation_clones/de_btwncond_RNA/minPct_0_logfc0.1_pthresh_0.1/btwnConds_inClust/clust_9/9_DE.csv\"\n"
     ]
    },
    {
     "name": "stderr",
     "output_type": "stream",
     "text": [
      "'select()' returned 1:many mapping between keys and columns\n",
      "\n"
     ]
    }
   ],
   "source": [
    "#for f in list.files(DE.path, pattern=\"*.csv\"){\n",
    "\n",
    "DE_files <- list.files(path = DE.out.path,pattern=\"*.csv\", full.names=TRUE)\n",
    "for(d in DE_dirs){\n",
    "    f <- list.files(path=d, pattern=\"*_DE.csv\", full.names=T)\n",
    "    if (length(f)>1){\n",
    "        print(\"more than one file! check\")\n",
    "        print(f)\n",
    "    }\n",
    "    f = f[[1]]\n",
    "    print(f)\n",
    "    curr <- read.csv(f)\n",
    "    \n",
    "    if (!(nrow(curr)==0)){\n",
    "        colnames(curr) <- c(\"Gene\",\"pvalue\",\"log2FoldChange\",\"pct.1\",\"pct.2\",\"padj_bonf\", \"padj\")\n",
    "        curr$ensg <- mapIds(org.Hs.eg.db,\n",
    "                    keys=curr$Gene, \n",
    "                    column=\"ENSEMBL\",\n",
    "                    keytype=\"SYMBOL\",\n",
    "                    multiVals=\"first\")\n",
    "        write.table(curr, file.path(export.path.prep, paste0(strsplit(basename(f), \".csv\")[[1]], \".tsv\")),quote = FALSE,\n",
    "                    row.names=FALSE, sep='\\t')\n",
    "    }\n",
    "    \n",
    "}"
   ]
  },
  {
   "cell_type": "code",
   "execution_count": 10,
   "id": "06675344",
   "metadata": {},
   "outputs": [
    {
     "data": {
      "text/html": [
       "'/data/Mito_Trace/output/pipeline/TcellDupi_may17_2021/MTblacklist/data/merged/MT/cellr_True/numread_200/filters/minC10_minR50_topN0_hetT0.001_hetC10_hetCount5_bq20/mgatk/vireoIn/clones/variants_init/knn/kparam_3/concat/gff_hg38_1_2/annotation_clones/de_btwncond_RNA/minPct_0_logfc0.1_p0.1/GSEA_pthresh.0.1_pref.FALSE_stat.log2FoldChange_padj.BH/'"
      ],
      "text/latex": [
       "'/data/Mito\\_Trace/output/pipeline/TcellDupi\\_may17\\_2021/MTblacklist/data/merged/MT/cellr\\_True/numread\\_200/filters/minC10\\_minR50\\_topN0\\_hetT0.001\\_hetC10\\_hetCount5\\_bq20/mgatk/vireoIn/clones/variants\\_init/knn/kparam\\_3/concat/gff\\_hg38\\_1\\_2/annotation\\_clones/de\\_btwncond\\_RNA/minPct\\_0\\_logfc0.1\\_p0.1/GSEA\\_pthresh.0.1\\_pref.FALSE\\_stat.log2FoldChange\\_padj.BH/'"
      ],
      "text/markdown": [
       "'/data/Mito_Trace/output/pipeline/TcellDupi_may17_2021/MTblacklist/data/merged/MT/cellr_True/numread_200/filters/minC10_minR50_topN0_hetT0.001_hetC10_hetCount5_bq20/mgatk/vireoIn/clones/variants_init/knn/kparam_3/concat/gff_hg38_1_2/annotation_clones/de_btwncond_RNA/minPct_0_logfc0.1_p0.1/GSEA_pthresh.0.1_pref.FALSE_stat.log2FoldChange_padj.BH/'"
      ],
      "text/plain": [
       "[1] \"/data/Mito_Trace/output/pipeline/TcellDupi_may17_2021/MTblacklist/data/merged/MT/cellr_True/numread_200/filters/minC10_minR50_topN0_hetT0.001_hetC10_hetCount5_bq20/mgatk/vireoIn/clones/variants_init/knn/kparam_3/concat/gff_hg38_1_2/annotation_clones/de_btwncond_RNA/minPct_0_logfc0.1_p0.1/GSEA_pthresh.0.1_pref.FALSE_stat.log2FoldChange_padj.BH/\""
      ]
     },
     "metadata": {},
     "output_type": "display_data"
    }
   ],
   "source": [
    "export.path"
   ]
  },
  {
   "cell_type": "code",
   "execution_count": 11,
   "id": "c641fe0f",
   "metadata": {
    "scrolled": true
   },
   "outputs": [
    {
     "name": "stdout",
     "output_type": "stream",
     "text": [
      "[1] \"Here we go .... :/data/Mito_Trace/output/pipeline/TcellDupi_may17_2021/MTblacklist/data/merged/MT/cellr_True/numread_200/filters/minC10_minR50_topN0_hetT0.001_hetC10_hetCount5_bq20/mgatk/vireoIn/clones/variants_init/knn/kparam_3/concat/gff_hg38_1_2/annotation_clones/de_btwncond_RNA/minPct_0_logfc0.1_p0.1/GSEA_pthresh.0.1_pref.FALSE_stat.log2FoldChange_padj.BH/prep/0_DE.tsv\"\n",
      "[1] \"Myclass\"\n",
      "[1] 307   7\n",
      "[1] 307   7\n",
      "[1] \"pvalue\"         \"log2FoldChange\" \"pct.1\"          \"pct.2\"         \n",
      "[5] \"padj_bonf\"      \"padj\"           \"ensg\"          \n",
      "              pvalue log2FoldChange pct.1 pct.2    padj_bonf         padj\n",
      "ITPKB   7.865996e-44      0.3622686 0.923 0.746 1.539769e-39 2.414861e-41\n",
      "FLNB    2.268357e-36      0.2448797 0.683 0.381 4.440308e-32 3.481928e-34\n",
      "RAPGEF1 8.366487e-36      0.2405502 0.612 0.330 1.637740e-31 8.561705e-34\n",
      "RASSF2  1.240837e-31      0.2039474 0.591 0.318 2.428939e-27 9.523425e-30\n",
      "FNBP1   7.237347e-31      0.2502571 0.839 0.596 1.416711e-26 4.443731e-29\n",
      "KRT72   2.206183e-30      0.1445321 0.417 0.186 4.318602e-26 1.128830e-28\n",
      "                   ensg\n",
      "ITPKB   ENSG00000143772\n",
      "FLNB    ENSG00000136068\n",
      "RAPGEF1 ENSG00000107263\n",
      "RASSF2  ENSG00000101265\n",
      "FNBP1   ENSG00000187239\n",
      "KRT72   ENSG00000170486\n",
      "[1] \"here\"\n",
      "           Gene log2FoldChange\n",
      "ITPKB     ITPKB      0.3622686\n",
      "FNBP1     FNBP1      0.2502571\n",
      "SNX9       SNX9      0.2491628\n",
      "GRK5       GRK5      0.2473756\n",
      "FLNB       FLNB      0.2448797\n",
      "RAPGEF1 RAPGEF1      0.2405502\n"
     ]
    },
    {
     "name": "stderr",
     "output_type": "stream",
     "text": [
      "preparing geneSet collections...\n",
      "\n",
      "GSEA analysis...\n",
      "\n",
      "no term enriched under specific pvalueCutoff...\n",
      "\n"
     ]
    },
    {
     "name": "stdout",
     "output_type": "stream",
     "text": [
      "[1] \"result\"\n",
      "[1] \"c0\"\n"
     ]
    },
    {
     "name": "stderr",
     "output_type": "stream",
     "text": [
      "Warning message in summary(egmt[[c]]):\n",
      "“summary method to convert the object to data.frame is deprecated, please use as.data.frame instead.”\n",
      "preparing geneSet collections...\n",
      "\n",
      "GSEA analysis...\n",
      "\n",
      "leading edge analysis...\n",
      "\n",
      "done...\n",
      "\n"
     ]
    },
    {
     "name": "stdout",
     "output_type": "stream",
     "text": [
      "[1] \"result\"\n",
      "[1] \"c2\"\n"
     ]
    },
    {
     "name": "stderr",
     "output_type": "stream",
     "text": [
      "Warning message in summary(egmt[[c]]):\n",
      "“summary method to convert the object to data.frame is deprecated, please use as.data.frame instead.”\n",
      "Saving 6.67 x 6.67 in image\n",
      "\n",
      "preparing geneSet collections...\n",
      "\n",
      "GSEA analysis...\n",
      "\n",
      "no term enriched under specific pvalueCutoff...\n",
      "\n"
     ]
    },
    {
     "name": "stdout",
     "output_type": "stream",
     "text": [
      "[1] \"result\"\n",
      "[1] \"c5\"\n"
     ]
    },
    {
     "name": "stderr",
     "output_type": "stream",
     "text": [
      "Warning message in summary(egmt[[c]]):\n",
      "“summary method to convert the object to data.frame is deprecated, please use as.data.frame instead.”\n",
      "preparing geneSet collections...\n",
      "\n",
      "GSEA analysis...\n",
      "\n",
      "leading edge analysis...\n",
      "\n",
      "done...\n",
      "\n"
     ]
    },
    {
     "name": "stdout",
     "output_type": "stream",
     "text": [
      "[1] \"result\"\n",
      "[1] \"c7\"\n"
     ]
    },
    {
     "name": "stderr",
     "output_type": "stream",
     "text": [
      "Warning message in summary(egmt[[c]]):\n",
      "“summary method to convert the object to data.frame is deprecated, please use as.data.frame instead.”\n",
      "Saving 6.67 x 6.67 in image\n",
      "\n",
      "Warning message in is.na(egmt[[c]]):\n",
      "“is.na() applied to non-(list or vector) of type 'S4'”\n",
      "Warning message in summary(egmt[[c]]):\n",
      "“summary method to convert the object to data.frame is deprecated, please use as.data.frame instead.”\n",
      "Warning message in is.na(egmt[[c]]):\n",
      "“is.na() applied to non-(list or vector) of type 'S4'”\n",
      "Warning message in summary(egmt[[c]]):\n",
      "“summary method to convert the object to data.frame is deprecated, please use as.data.frame instead.”\n",
      "Warning message in is.na(egmt[[c]]):\n",
      "“is.na() applied to non-(list or vector) of type 'S4'”\n",
      "Warning message in summary(egmt[[c]]):\n",
      "“summary method to convert the object to data.frame is deprecated, please use as.data.frame instead.”\n",
      "Warning message in is.na(egmt[[c]]):\n",
      "“is.na() applied to non-(list or vector) of type 'S4'”\n",
      "Warning message in summary(egmt[[c]]):\n",
      "“summary method to convert the object to data.frame is deprecated, please use as.data.frame instead.”\n"
     ]
    },
    {
     "name": "stdout",
     "output_type": "stream",
     "text": [
      "[1] \"preExcel writing\"\n",
      "[1] \"postExcel writing\"\n",
      "[1] \"Here we go .... :/data/Mito_Trace/output/pipeline/TcellDupi_may17_2021/MTblacklist/data/merged/MT/cellr_True/numread_200/filters/minC10_minR50_topN0_hetT0.001_hetC10_hetCount5_bq20/mgatk/vireoIn/clones/variants_init/knn/kparam_3/concat/gff_hg38_1_2/annotation_clones/de_btwncond_RNA/minPct_0_logfc0.1_p0.1/GSEA_pthresh.0.1_pref.FALSE_stat.log2FoldChange_padj.BH/prep/1_DE.tsv\"\n",
      "[1] \"Myclass\"\n",
      "[1] 714   7\n",
      "[1] 714   7\n",
      "[1] \"pvalue\"         \"log2FoldChange\" \"pct.1\"          \"pct.2\"         \n",
      "[5] \"padj_bonf\"      \"padj\"           \"ensg\"          \n",
      "              pvalue log2FoldChange pct.1 pct.2    padj_bonf         padj\n",
      "SYTL3   2.739574e-30      0.2722615 0.626 0.319 5.362715e-26 1.956056e-27\n",
      "BIRC3   2.787779e-28      0.2103408 0.439 0.188 5.457078e-24 9.952372e-26\n",
      "ABCG1   2.966562e-26      0.2610594 0.472 0.224 5.807045e-22 7.060418e-24\n",
      "FNBP1   4.718362e-26      0.2933553 0.594 0.310 9.236193e-22 8.422276e-24\n",
      "UBASH3A 8.231982e-26      0.1802530 0.299 0.110 1.611410e-21 1.175527e-23\n",
      "GRK5    1.032500e-25      0.2650152 0.629 0.345 2.021119e-21 1.228675e-23\n",
      "                   ensg\n",
      "SYTL3   ENSG00000164674\n",
      "BIRC3   ENSG00000023445\n",
      "ABCG1   ENSG00000160179\n",
      "FNBP1   ENSG00000187239\n",
      "UBASH3A ENSG00000160185\n",
      "GRK5    ENSG00000198873\n",
      "[1] \"here\"\n",
      "             Gene log2FoldChange\n",
      "ITPKB       ITPKB      0.3726850\n",
      "FNBP1       FNBP1      0.2933553\n",
      "MBP           MBP      0.2735729\n",
      "SYTL3       SYTL3      0.2722615\n",
      "PPP1R16B PPP1R16B      0.2692022\n",
      "GRK5         GRK5      0.2650152\n"
     ]
    },
    {
     "name": "stderr",
     "output_type": "stream",
     "text": [
      "preparing geneSet collections...\n",
      "\n",
      "GSEA analysis...\n",
      "\n",
      "leading edge analysis...\n",
      "\n",
      "done...\n",
      "\n"
     ]
    },
    {
     "name": "stdout",
     "output_type": "stream",
     "text": [
      "[1] \"result\"\n",
      "[1] \"c0\"\n"
     ]
    },
    {
     "name": "stderr",
     "output_type": "stream",
     "text": [
      "Warning message in summary(egmt[[c]]):\n",
      "“summary method to convert the object to data.frame is deprecated, please use as.data.frame instead.”\n",
      "Saving 6.67 x 6.67 in image\n",
      "\n",
      "preparing geneSet collections...\n",
      "\n",
      "GSEA analysis...\n",
      "\n",
      "leading edge analysis...\n",
      "\n",
      "done...\n",
      "\n"
     ]
    },
    {
     "name": "stdout",
     "output_type": "stream",
     "text": [
      "[1] \"result\"\n",
      "[1] \"c2\"\n"
     ]
    },
    {
     "name": "stderr",
     "output_type": "stream",
     "text": [
      "Warning message in summary(egmt[[c]]):\n",
      "“summary method to convert the object to data.frame is deprecated, please use as.data.frame instead.”\n",
      "Saving 6.67 x 6.67 in image\n",
      "\n",
      "preparing geneSet collections...\n",
      "\n",
      "GSEA analysis...\n",
      "\n",
      "leading edge analysis...\n",
      "\n",
      "done...\n",
      "\n"
     ]
    },
    {
     "name": "stdout",
     "output_type": "stream",
     "text": [
      "[1] \"result\"\n",
      "[1] \"c5\"\n"
     ]
    },
    {
     "name": "stderr",
     "output_type": "stream",
     "text": [
      "Warning message in summary(egmt[[c]]):\n",
      "“summary method to convert the object to data.frame is deprecated, please use as.data.frame instead.”\n",
      "Saving 6.67 x 6.67 in image\n",
      "\n",
      "preparing geneSet collections...\n",
      "\n",
      "GSEA analysis...\n",
      "\n",
      "leading edge analysis...\n",
      "\n",
      "done...\n",
      "\n"
     ]
    },
    {
     "name": "stdout",
     "output_type": "stream",
     "text": [
      "[1] \"result\"\n",
      "[1] \"c7\"\n"
     ]
    },
    {
     "name": "stderr",
     "output_type": "stream",
     "text": [
      "Warning message in summary(egmt[[c]]):\n",
      "“summary method to convert the object to data.frame is deprecated, please use as.data.frame instead.”\n",
      "Saving 6.67 x 6.67 in image\n",
      "\n",
      "Warning message in is.na(egmt[[c]]):\n",
      "“is.na() applied to non-(list or vector) of type 'S4'”\n",
      "Warning message in summary(egmt[[c]]):\n",
      "“summary method to convert the object to data.frame is deprecated, please use as.data.frame instead.”\n",
      "Warning message in is.na(egmt[[c]]):\n",
      "“is.na() applied to non-(list or vector) of type 'S4'”\n",
      "Warning message in summary(egmt[[c]]):\n",
      "“summary method to convert the object to data.frame is deprecated, please use as.data.frame instead.”\n",
      "Warning message in is.na(egmt[[c]]):\n",
      "“is.na() applied to non-(list or vector) of type 'S4'”\n",
      "Warning message in summary(egmt[[c]]):\n",
      "“summary method to convert the object to data.frame is deprecated, please use as.data.frame instead.”\n",
      "Warning message in is.na(egmt[[c]]):\n",
      "“is.na() applied to non-(list or vector) of type 'S4'”\n",
      "Warning message in summary(egmt[[c]]):\n",
      "“summary method to convert the object to data.frame is deprecated, please use as.data.frame instead.”\n"
     ]
    },
    {
     "name": "stdout",
     "output_type": "stream",
     "text": [
      "[1] \"preExcel writing\"\n",
      "[1] \"postExcel writing\"\n",
      "[1] \"Here we go .... :/data/Mito_Trace/output/pipeline/TcellDupi_may17_2021/MTblacklist/data/merged/MT/cellr_True/numread_200/filters/minC10_minR50_topN0_hetT0.001_hetC10_hetCount5_bq20/mgatk/vireoIn/clones/variants_init/knn/kparam_3/concat/gff_hg38_1_2/annotation_clones/de_btwncond_RNA/minPct_0_logfc0.1_p0.1/GSEA_pthresh.0.1_pref.FALSE_stat.log2FoldChange_padj.BH/prep/10_DE.tsv\"\n",
      "[1] \"Myclass\"\n",
      "[1] 3851    7\n",
      "[1] 3841    7\n",
      "[1] \"pvalue\"         \"log2FoldChange\" \"pct.1\"          \"pct.2\"         \n",
      "[5] \"padj_bonf\"      \"padj\"           \"ensg\"          \n",
      "             pvalue log2FoldChange pct.1 pct.2    padj_bonf         padj\n",
      "H1FOO  1.637406e-09      0.1026529 0.090 0.006 3.205223e-05 6.305652e-06\n",
      "DERL3  2.975458e-08      0.2500230 0.239 0.059 5.824460e-04 5.729245e-05\n",
      "BAIAP3 2.621797e-07      0.1818361 0.224 0.058 5.132168e-03 2.541694e-04\n",
      "HHIPL1 2.640035e-07      0.1077079 0.090 0.009 5.167869e-03 2.541694e-04\n",
      "ARG1   6.632942e-07      0.1340956 0.104 0.014 1.298398e-02 5.108692e-04\n",
      "SAMM50 1.071737e-06      0.1468461 0.209 0.054 2.097925e-02 6.878766e-04\n",
      "                  ensg\n",
      "H1FOO             <NA>\n",
      "DERL3  ENSG00000099958\n",
      "BAIAP3 ENSG00000007516\n",
      "HHIPL1 ENSG00000182218\n",
      "ARG1   ENSG00000118520\n",
      "SAMM50 ENSG00000100347\n",
      "[1] \"here\"\n",
      "           Gene log2FoldChange\n",
      "CPAMD8   CPAMD8      1.2733762\n",
      "CTNND1   CTNND1      1.1942899\n",
      "NHSL2     NHSL2      0.8149987\n",
      "GRK5       GRK5      0.7519679\n",
      "FAM168A FAM168A      0.7291215\n",
      "MMS22L   MMS22L      0.6593915\n"
     ]
    },
    {
     "name": "stderr",
     "output_type": "stream",
     "text": [
      "preparing geneSet collections...\n",
      "\n",
      "GSEA analysis...\n",
      "\n",
      "Warning message in preparePathwaysAndStats(pathways, stats, minSize, maxSize, gseaParam, :\n",
      "“There are ties in the preranked stats (0.08% of the list).\n",
      "The order of those tied genes will be arbitrary, which may produce unexpected results.”\n",
      "leading edge analysis...\n",
      "\n",
      "done...\n",
      "\n"
     ]
    },
    {
     "name": "stdout",
     "output_type": "stream",
     "text": [
      "[1] \"result\"\n",
      "[1] \"c0\"\n"
     ]
    },
    {
     "name": "stderr",
     "output_type": "stream",
     "text": [
      "Warning message in summary(egmt[[c]]):\n",
      "“summary method to convert the object to data.frame is deprecated, please use as.data.frame instead.”\n",
      "Saving 6.67 x 6.67 in image\n",
      "\n",
      "preparing geneSet collections...\n",
      "\n",
      "GSEA analysis...\n",
      "\n",
      "Warning message in preparePathwaysAndStats(pathways, stats, minSize, maxSize, gseaParam, :\n",
      "“There are ties in the preranked stats (0.08% of the list).\n",
      "The order of those tied genes will be arbitrary, which may produce unexpected results.”\n",
      "Warning message in fgseaMultilevel(...):\n",
      "“For some pathways, in reality P-values are less than 1e-10. You can set the `eps` argument to zero for better estimation.”\n",
      "leading edge analysis...\n",
      "\n",
      "done...\n",
      "\n"
     ]
    },
    {
     "name": "stdout",
     "output_type": "stream",
     "text": [
      "[1] \"result\"\n",
      "[1] \"c2\"\n"
     ]
    },
    {
     "name": "stderr",
     "output_type": "stream",
     "text": [
      "Warning message in summary(egmt[[c]]):\n",
      "“summary method to convert the object to data.frame is deprecated, please use as.data.frame instead.”\n",
      "Saving 6.67 x 6.67 in image\n",
      "\n",
      "preparing geneSet collections...\n",
      "\n",
      "GSEA analysis...\n",
      "\n",
      "Warning message in preparePathwaysAndStats(pathways, stats, minSize, maxSize, gseaParam, :\n",
      "“There are ties in the preranked stats (0.08% of the list).\n",
      "The order of those tied genes will be arbitrary, which may produce unexpected results.”\n",
      "leading edge analysis...\n",
      "\n",
      "done...\n",
      "\n"
     ]
    },
    {
     "name": "stdout",
     "output_type": "stream",
     "text": [
      "[1] \"result\"\n",
      "[1] \"c5\"\n"
     ]
    },
    {
     "name": "stderr",
     "output_type": "stream",
     "text": [
      "Warning message in summary(egmt[[c]]):\n",
      "“summary method to convert the object to data.frame is deprecated, please use as.data.frame instead.”\n",
      "Saving 6.67 x 6.67 in image\n",
      "\n",
      "preparing geneSet collections...\n",
      "\n",
      "GSEA analysis...\n",
      "\n",
      "Warning message in preparePathwaysAndStats(pathways, stats, minSize, maxSize, gseaParam, :\n",
      "“There are ties in the preranked stats (0.08% of the list).\n",
      "The order of those tied genes will be arbitrary, which may produce unexpected results.”\n",
      "leading edge analysis...\n",
      "\n",
      "done...\n",
      "\n"
     ]
    },
    {
     "name": "stdout",
     "output_type": "stream",
     "text": [
      "[1] \"result\"\n",
      "[1] \"c7\"\n"
     ]
    },
    {
     "name": "stderr",
     "output_type": "stream",
     "text": [
      "Warning message in summary(egmt[[c]]):\n",
      "“summary method to convert the object to data.frame is deprecated, please use as.data.frame instead.”\n",
      "Saving 6.67 x 6.67 in image\n",
      "\n",
      "Warning message in is.na(egmt[[c]]):\n",
      "“is.na() applied to non-(list or vector) of type 'S4'”\n",
      "Warning message in summary(egmt[[c]]):\n",
      "“summary method to convert the object to data.frame is deprecated, please use as.data.frame instead.”\n",
      "Warning message in is.na(egmt[[c]]):\n",
      "“is.na() applied to non-(list or vector) of type 'S4'”\n",
      "Warning message in summary(egmt[[c]]):\n",
      "“summary method to convert the object to data.frame is deprecated, please use as.data.frame instead.”\n",
      "Warning message in is.na(egmt[[c]]):\n",
      "“is.na() applied to non-(list or vector) of type 'S4'”\n",
      "Warning message in summary(egmt[[c]]):\n",
      "“summary method to convert the object to data.frame is deprecated, please use as.data.frame instead.”\n",
      "Warning message in is.na(egmt[[c]]):\n",
      "“is.na() applied to non-(list or vector) of type 'S4'”\n",
      "Warning message in summary(egmt[[c]]):\n",
      "“summary method to convert the object to data.frame is deprecated, please use as.data.frame instead.”\n"
     ]
    },
    {
     "name": "stdout",
     "output_type": "stream",
     "text": [
      "[1] \"preExcel writing\"\n",
      "[1] \"postExcel writing\"\n",
      "[1] \"Here we go .... :/data/Mito_Trace/output/pipeline/TcellDupi_may17_2021/MTblacklist/data/merged/MT/cellr_True/numread_200/filters/minC10_minR50_topN0_hetT0.001_hetC10_hetCount5_bq20/mgatk/vireoIn/clones/variants_init/knn/kparam_3/concat/gff_hg38_1_2/annotation_clones/de_btwncond_RNA/minPct_0_logfc0.1_p0.1/GSEA_pthresh.0.1_pref.FALSE_stat.log2FoldChange_padj.BH/prep/11_DE.tsv\"\n",
      "[1] \"Myclass\"\n",
      "[1] 679   7\n",
      "[1] 679   7\n",
      "[1] \"pvalue\"         \"log2FoldChange\" \"pct.1\"          \"pct.2\"         \n",
      "[5] \"padj_bonf\"      \"padj\"           \"ensg\"          \n",
      "              pvalue log2FoldChange pct.1 pct.2    padj_bonf         padj\n",
      "PIP5K1C 6.054968e-10      0.1378257 0.253 0.085 1.185260e-05 4.111323e-07\n",
      "SLCO4A1 3.505940e-09      0.1514642 0.351 0.154 6.862878e-05 1.134963e-06\n",
      "YWHAB   5.014565e-09      0.1415910 0.347 0.152 9.816012e-05 1.134963e-06\n",
      "MBD3L1  1.639985e-08      0.1436455 0.457 0.231 3.210271e-04 2.580059e-06\n",
      "STAT5B  1.899896e-08      0.1524778 0.468 0.245 3.719047e-04 2.580059e-06\n",
      "ZNF558  2.438183e-08      0.1453219 0.453 0.231 4.772744e-04 2.759211e-06\n",
      "                   ensg\n",
      "PIP5K1C ENSG00000186111\n",
      "SLCO4A1 ENSG00000101187\n",
      "YWHAB   ENSG00000166913\n",
      "MBD3L1  ENSG00000170948\n",
      "STAT5B  ENSG00000173757\n",
      "ZNF558  ENSG00000167785\n",
      "[1] \"here\"\n",
      "       Gene log2FoldChange\n",
      "MEI4   MEI4      0.5338390\n",
      "ITPKB ITPKB      0.2365611\n",
      "SNX9   SNX9      0.2078748\n",
      "KLF16 KLF16      0.1969516\n",
      "NUP98 NUP98      0.1946031\n",
      "MXI1   MXI1      0.1944963\n"
     ]
    },
    {
     "name": "stderr",
     "output_type": "stream",
     "text": [
      "preparing geneSet collections...\n",
      "\n",
      "GSEA analysis...\n",
      "\n",
      "leading edge analysis...\n",
      "\n",
      "done...\n",
      "\n"
     ]
    },
    {
     "name": "stdout",
     "output_type": "stream",
     "text": [
      "[1] \"result\"\n",
      "[1] \"c0\"\n"
     ]
    },
    {
     "name": "stderr",
     "output_type": "stream",
     "text": [
      "Warning message in summary(egmt[[c]]):\n",
      "“summary method to convert the object to data.frame is deprecated, please use as.data.frame instead.”\n",
      "Saving 6.67 x 6.67 in image\n",
      "\n",
      "preparing geneSet collections...\n",
      "\n",
      "GSEA analysis...\n",
      "\n",
      "leading edge analysis...\n",
      "\n",
      "done...\n",
      "\n"
     ]
    },
    {
     "name": "stdout",
     "output_type": "stream",
     "text": [
      "[1] \"result\"\n",
      "[1] \"c2\"\n"
     ]
    },
    {
     "name": "stderr",
     "output_type": "stream",
     "text": [
      "Warning message in summary(egmt[[c]]):\n",
      "“summary method to convert the object to data.frame is deprecated, please use as.data.frame instead.”\n",
      "Saving 6.67 x 6.67 in image\n",
      "\n",
      "preparing geneSet collections...\n",
      "\n",
      "GSEA analysis...\n",
      "\n",
      "leading edge analysis...\n",
      "\n",
      "done...\n",
      "\n"
     ]
    },
    {
     "name": "stdout",
     "output_type": "stream",
     "text": [
      "[1] \"result\"\n",
      "[1] \"c5\"\n"
     ]
    },
    {
     "name": "stderr",
     "output_type": "stream",
     "text": [
      "Warning message in summary(egmt[[c]]):\n",
      "“summary method to convert the object to data.frame is deprecated, please use as.data.frame instead.”\n",
      "Saving 6.67 x 6.67 in image\n",
      "\n",
      "preparing geneSet collections...\n",
      "\n",
      "GSEA analysis...\n",
      "\n",
      "leading edge analysis...\n",
      "\n",
      "done...\n",
      "\n"
     ]
    },
    {
     "name": "stdout",
     "output_type": "stream",
     "text": [
      "[1] \"result\"\n",
      "[1] \"c7\"\n"
     ]
    },
    {
     "name": "stderr",
     "output_type": "stream",
     "text": [
      "Warning message in summary(egmt[[c]]):\n",
      "“summary method to convert the object to data.frame is deprecated, please use as.data.frame instead.”\n",
      "Saving 6.67 x 6.67 in image\n",
      "\n",
      "Warning message in is.na(egmt[[c]]):\n",
      "“is.na() applied to non-(list or vector) of type 'S4'”\n",
      "Warning message in summary(egmt[[c]]):\n",
      "“summary method to convert the object to data.frame is deprecated, please use as.data.frame instead.”\n",
      "Warning message in is.na(egmt[[c]]):\n",
      "“is.na() applied to non-(list or vector) of type 'S4'”\n",
      "Warning message in summary(egmt[[c]]):\n",
      "“summary method to convert the object to data.frame is deprecated, please use as.data.frame instead.”\n",
      "Warning message in is.na(egmt[[c]]):\n",
      "“is.na() applied to non-(list or vector) of type 'S4'”\n",
      "Warning message in summary(egmt[[c]]):\n",
      "“summary method to convert the object to data.frame is deprecated, please use as.data.frame instead.”\n",
      "Warning message in is.na(egmt[[c]]):\n",
      "“is.na() applied to non-(list or vector) of type 'S4'”\n",
      "Warning message in summary(egmt[[c]]):\n",
      "“summary method to convert the object to data.frame is deprecated, please use as.data.frame instead.”\n"
     ]
    },
    {
     "name": "stdout",
     "output_type": "stream",
     "text": [
      "[1] \"preExcel writing\"\n",
      "[1] \"postExcel writing\"\n",
      "[1] \"Here we go .... :/data/Mito_Trace/output/pipeline/TcellDupi_may17_2021/MTblacklist/data/merged/MT/cellr_True/numread_200/filters/minC10_minR50_topN0_hetT0.001_hetC10_hetCount5_bq20/mgatk/vireoIn/clones/variants_init/knn/kparam_3/concat/gff_hg38_1_2/annotation_clones/de_btwncond_RNA/minPct_0_logfc0.1_p0.1/GSEA_pthresh.0.1_pref.FALSE_stat.log2FoldChange_padj.BH/prep/12_DE.tsv\"\n",
      "[1] \"Myclass\"\n",
      "[1] 3237    7\n",
      "[1] 3223    7\n",
      "[1] \"pvalue\"         \"log2FoldChange\" \"pct.1\"          \"pct.2\"         \n",
      "[5] \"padj_bonf\"      \"padj\"           \"ensg\"          \n",
      "             pvalue log2FoldChange pct.1 pct.2    padj_bonf         padj\n",
      "AK7    3.109682e-08      0.3872775 0.559 0.220 0.0006087203 4.147248e-05\n",
      "FAM65A 4.479991e-08      0.4006176 0.706 0.353 0.0008769583 4.147248e-05\n",
      "MYO15B 5.087858e-08      0.3575163 0.456 0.154 0.0009959483 4.147248e-05\n",
      "AP3D1  5.124805e-08      0.4285822 0.544 0.203 0.0010031805 4.147248e-05\n",
      "PRCD   1.120325e-07      0.1733936 0.221 0.035 0.0021930355 7.252982e-05\n",
      "CENPT  1.857637e-07      0.3212631 0.559 0.231 0.0036363253 1.002195e-04\n",
      "                  ensg\n",
      "AK7    ENSG00000140057\n",
      "FAM65A            <NA>\n",
      "MYO15B ENSG00000266714\n",
      "AP3D1  ENSG00000065000\n",
      "PRCD   ENSG00000214140\n",
      "CENPT  ENSG00000102901\n",
      "[1] \"here\"\n",
      "           Gene log2FoldChange\n",
      "NEXMIF   NEXMIF      0.9601443\n",
      "ARMC1     ARMC1      0.8463418\n",
      "MTFR1     MTFR1      0.6115416\n",
      "SGCG       SGCG      0.5428901\n",
      "MTERF1   MTERF1      0.5313728\n",
      "TPD52L1 TPD52L1      0.4974910\n"
     ]
    },
    {
     "name": "stderr",
     "output_type": "stream",
     "text": [
      "preparing geneSet collections...\n",
      "\n",
      "GSEA analysis...\n",
      "\n",
      "Warning message in preparePathwaysAndStats(pathways, stats, minSize, maxSize, gseaParam, :\n",
      "“There are ties in the preranked stats (0.19% of the list).\n",
      "The order of those tied genes will be arbitrary, which may produce unexpected results.”\n",
      "no term enriched under specific pvalueCutoff...\n",
      "\n"
     ]
    },
    {
     "name": "stdout",
     "output_type": "stream",
     "text": [
      "[1] \"result\"\n",
      "[1] \"c0\"\n"
     ]
    },
    {
     "name": "stderr",
     "output_type": "stream",
     "text": [
      "Warning message in summary(egmt[[c]]):\n",
      "“summary method to convert the object to data.frame is deprecated, please use as.data.frame instead.”\n",
      "preparing geneSet collections...\n",
      "\n",
      "GSEA analysis...\n",
      "\n",
      "Warning message in preparePathwaysAndStats(pathways, stats, minSize, maxSize, gseaParam, :\n",
      "“There are ties in the preranked stats (0.19% of the list).\n",
      "The order of those tied genes will be arbitrary, which may produce unexpected results.”\n",
      "leading edge analysis...\n",
      "\n",
      "done...\n",
      "\n"
     ]
    },
    {
     "name": "stdout",
     "output_type": "stream",
     "text": [
      "[1] \"result\"\n",
      "[1] \"c2\"\n"
     ]
    },
    {
     "name": "stderr",
     "output_type": "stream",
     "text": [
      "Warning message in summary(egmt[[c]]):\n",
      "“summary method to convert the object to data.frame is deprecated, please use as.data.frame instead.”\n",
      "Saving 6.67 x 6.67 in image\n",
      "\n",
      "preparing geneSet collections...\n",
      "\n",
      "GSEA analysis...\n",
      "\n",
      "Warning message in preparePathwaysAndStats(pathways, stats, minSize, maxSize, gseaParam, :\n",
      "“There are ties in the preranked stats (0.19% of the list).\n",
      "The order of those tied genes will be arbitrary, which may produce unexpected results.”\n",
      "leading edge analysis...\n",
      "\n",
      "done...\n",
      "\n"
     ]
    },
    {
     "name": "stdout",
     "output_type": "stream",
     "text": [
      "[1] \"result\"\n",
      "[1] \"c5\"\n"
     ]
    },
    {
     "name": "stderr",
     "output_type": "stream",
     "text": [
      "Warning message in summary(egmt[[c]]):\n",
      "“summary method to convert the object to data.frame is deprecated, please use as.data.frame instead.”\n",
      "Saving 6.67 x 6.67 in image\n",
      "\n",
      "preparing geneSet collections...\n",
      "\n",
      "GSEA analysis...\n",
      "\n",
      "Warning message in preparePathwaysAndStats(pathways, stats, minSize, maxSize, gseaParam, :\n",
      "“There are ties in the preranked stats (0.19% of the list).\n",
      "The order of those tied genes will be arbitrary, which may produce unexpected results.”\n",
      "leading edge analysis...\n",
      "\n",
      "done...\n",
      "\n"
     ]
    },
    {
     "name": "stdout",
     "output_type": "stream",
     "text": [
      "[1] \"result\"\n",
      "[1] \"c7\"\n"
     ]
    },
    {
     "name": "stderr",
     "output_type": "stream",
     "text": [
      "Warning message in summary(egmt[[c]]):\n",
      "“summary method to convert the object to data.frame is deprecated, please use as.data.frame instead.”\n",
      "Saving 6.67 x 6.67 in image\n",
      "\n",
      "Warning message in is.na(egmt[[c]]):\n",
      "“is.na() applied to non-(list or vector) of type 'S4'”\n",
      "Warning message in summary(egmt[[c]]):\n",
      "“summary method to convert the object to data.frame is deprecated, please use as.data.frame instead.”\n",
      "Warning message in is.na(egmt[[c]]):\n",
      "“is.na() applied to non-(list or vector) of type 'S4'”\n",
      "Warning message in summary(egmt[[c]]):\n",
      "“summary method to convert the object to data.frame is deprecated, please use as.data.frame instead.”\n",
      "Warning message in is.na(egmt[[c]]):\n",
      "“is.na() applied to non-(list or vector) of type 'S4'”\n",
      "Warning message in summary(egmt[[c]]):\n",
      "“summary method to convert the object to data.frame is deprecated, please use as.data.frame instead.”\n",
      "Warning message in is.na(egmt[[c]]):\n",
      "“is.na() applied to non-(list or vector) of type 'S4'”\n",
      "Warning message in summary(egmt[[c]]):\n",
      "“summary method to convert the object to data.frame is deprecated, please use as.data.frame instead.”\n"
     ]
    },
    {
     "name": "stdout",
     "output_type": "stream",
     "text": [
      "[1] \"preExcel writing\"\n",
      "[1] \"postExcel writing\"\n",
      "[1] \"Here we go .... :/data/Mito_Trace/output/pipeline/TcellDupi_may17_2021/MTblacklist/data/merged/MT/cellr_True/numread_200/filters/minC10_minR50_topN0_hetT0.001_hetC10_hetCount5_bq20/mgatk/vireoIn/clones/variants_init/knn/kparam_3/concat/gff_hg38_1_2/annotation_clones/de_btwncond_RNA/minPct_0_logfc0.1_p0.1/GSEA_pthresh.0.1_pref.FALSE_stat.log2FoldChange_padj.BH/prep/13_DE.tsv\"\n",
      "[1] \"Myclass\"\n",
      "[1] 1638    7\n",
      "[1] 1637    7\n",
      "[1] \"pvalue\"         \"log2FoldChange\" \"pct.1\"          \"pct.2\"         \n",
      "[5] \"padj_bonf\"      \"padj\"           \"ensg\"          \n",
      "             pvalue log2FoldChange pct.1 pct.2   padj_bonf         padj\n",
      "SLC9A8 9.625852e-09      0.2439934 0.438 0.125 0.000188426 1.576714e-05\n",
      "TCF25  3.593262e-08      0.2352726 0.457 0.149 0.000703381 2.942881e-05\n",
      "ZNF696 8.991770e-08      0.1642771 0.190 0.019 0.001760139 4.909506e-05\n",
      "PAQR4  2.301435e-07      0.1540377 0.171 0.014 0.004505058 9.306661e-05\n",
      "MAD1L1 3.166855e-07      0.3717238 0.895 0.596 0.006199119 9.306661e-05\n",
      "PKMYT1 3.409033e-07      0.1550705 0.248 0.048 0.006673183 9.306661e-05\n",
      "                  ensg\n",
      "SLC9A8 ENSG00000197818\n",
      "TCF25  ENSG00000141002\n",
      "ZNF696 ENSG00000185730\n",
      "PAQR4  ENSG00000162073\n",
      "MAD1L1 ENSG00000002822\n",
      "PKMYT1 ENSG00000127564\n",
      "[1] \"here\"\n",
      "           Gene log2FoldChange\n",
      "MAD1L1   MAD1L1      0.3717238\n",
      "HIPK2     HIPK2      0.3555333\n",
      "MOB1B     MOB1B      0.3336777\n",
      "ITPRIP   ITPRIP      0.3116278\n",
      "LDLRAD4 LDLRAD4      0.2983586\n",
      "ZFPM1     ZFPM1      0.2962822\n"
     ]
    },
    {
     "name": "stderr",
     "output_type": "stream",
     "text": [
      "preparing geneSet collections...\n",
      "\n",
      "GSEA analysis...\n",
      "\n",
      "Warning message in preparePathwaysAndStats(pathways, stats, minSize, maxSize, gseaParam, :\n",
      "“There are ties in the preranked stats (0.18% of the list).\n",
      "The order of those tied genes will be arbitrary, which may produce unexpected results.”\n",
      "no term enriched under specific pvalueCutoff...\n",
      "\n"
     ]
    },
    {
     "name": "stdout",
     "output_type": "stream",
     "text": [
      "[1] \"result\"\n",
      "[1] \"c0\"\n"
     ]
    },
    {
     "name": "stderr",
     "output_type": "stream",
     "text": [
      "Warning message in summary(egmt[[c]]):\n",
      "“summary method to convert the object to data.frame is deprecated, please use as.data.frame instead.”\n",
      "preparing geneSet collections...\n",
      "\n",
      "GSEA analysis...\n",
      "\n",
      "Warning message in preparePathwaysAndStats(pathways, stats, minSize, maxSize, gseaParam, :\n",
      "“There are ties in the preranked stats (0.18% of the list).\n",
      "The order of those tied genes will be arbitrary, which may produce unexpected results.”\n",
      "leading edge analysis...\n",
      "\n",
      "done...\n",
      "\n"
     ]
    },
    {
     "name": "stdout",
     "output_type": "stream",
     "text": [
      "[1] \"result\"\n",
      "[1] \"c2\"\n"
     ]
    },
    {
     "name": "stderr",
     "output_type": "stream",
     "text": [
      "Warning message in summary(egmt[[c]]):\n",
      "“summary method to convert the object to data.frame is deprecated, please use as.data.frame instead.”\n",
      "Saving 6.67 x 6.67 in image\n",
      "\n",
      "preparing geneSet collections...\n",
      "\n",
      "GSEA analysis...\n",
      "\n",
      "Warning message in preparePathwaysAndStats(pathways, stats, minSize, maxSize, gseaParam, :\n",
      "“There are ties in the preranked stats (0.18% of the list).\n",
      "The order of those tied genes will be arbitrary, which may produce unexpected results.”\n",
      "leading edge analysis...\n",
      "\n",
      "done...\n",
      "\n"
     ]
    },
    {
     "name": "stdout",
     "output_type": "stream",
     "text": [
      "[1] \"result\"\n",
      "[1] \"c5\"\n"
     ]
    },
    {
     "name": "stderr",
     "output_type": "stream",
     "text": [
      "Warning message in summary(egmt[[c]]):\n",
      "“summary method to convert the object to data.frame is deprecated, please use as.data.frame instead.”\n",
      "Saving 6.67 x 6.67 in image\n",
      "\n",
      "preparing geneSet collections...\n",
      "\n",
      "GSEA analysis...\n",
      "\n",
      "Warning message in preparePathwaysAndStats(pathways, stats, minSize, maxSize, gseaParam, :\n",
      "“There are ties in the preranked stats (0.18% of the list).\n",
      "The order of those tied genes will be arbitrary, which may produce unexpected results.”\n",
      "no term enriched under specific pvalueCutoff...\n",
      "\n"
     ]
    },
    {
     "name": "stdout",
     "output_type": "stream",
     "text": [
      "[1] \"result\"\n",
      "[1] \"c7\"\n"
     ]
    },
    {
     "name": "stderr",
     "output_type": "stream",
     "text": [
      "Warning message in summary(egmt[[c]]):\n",
      "“summary method to convert the object to data.frame is deprecated, please use as.data.frame instead.”\n",
      "Warning message in is.na(egmt[[c]]):\n",
      "“is.na() applied to non-(list or vector) of type 'S4'”\n",
      "Warning message in summary(egmt[[c]]):\n",
      "“summary method to convert the object to data.frame is deprecated, please use as.data.frame instead.”\n",
      "Warning message in is.na(egmt[[c]]):\n",
      "“is.na() applied to non-(list or vector) of type 'S4'”\n",
      "Warning message in summary(egmt[[c]]):\n",
      "“summary method to convert the object to data.frame is deprecated, please use as.data.frame instead.”\n",
      "Warning message in is.na(egmt[[c]]):\n",
      "“is.na() applied to non-(list or vector) of type 'S4'”\n",
      "Warning message in summary(egmt[[c]]):\n",
      "“summary method to convert the object to data.frame is deprecated, please use as.data.frame instead.”\n",
      "Warning message in is.na(egmt[[c]]):\n",
      "“is.na() applied to non-(list or vector) of type 'S4'”\n",
      "Warning message in summary(egmt[[c]]):\n",
      "“summary method to convert the object to data.frame is deprecated, please use as.data.frame instead.”\n"
     ]
    },
    {
     "name": "stdout",
     "output_type": "stream",
     "text": [
      "[1] \"preExcel writing\"\n",
      "[1] \"postExcel writing\"\n",
      "[1] \"Here we go .... :/data/Mito_Trace/output/pipeline/TcellDupi_may17_2021/MTblacklist/data/merged/MT/cellr_True/numread_200/filters/minC10_minR50_topN0_hetT0.001_hetC10_hetCount5_bq20/mgatk/vireoIn/clones/variants_init/knn/kparam_3/concat/gff_hg38_1_2/annotation_clones/de_btwncond_RNA/minPct_0_logfc0.1_p0.1/GSEA_pthresh.0.1_pref.FALSE_stat.log2FoldChange_padj.BH/prep/14_DE.tsv\"\n",
      "[1] \"Myclass\"\n",
      "[1] 2493    7\n",
      "[1] 2491    7\n",
      "[1] \"pvalue\"         \"log2FoldChange\" \"pct.1\"          \"pct.2\"         \n",
      "[5] \"padj_bonf\"      \"padj\"           \"ensg\"          \n",
      "              pvalue log2FoldChange pct.1 pct.2    padj_bonf         padj\n",
      "LMX1B   1.708534e-10      0.3277797 0.566 0.140 3.344454e-06 4.259374e-07\n",
      "PTDSS2  6.642514e-09      0.3044741 0.623 0.208 1.300272e-04 8.279894e-06\n",
      "RPL17   1.077887e-07      0.2035354 0.358 0.077 2.109963e-03 8.785766e-05\n",
      "FBXO17  1.785588e-07      0.1429940 0.283 0.045 3.495288e-03 8.785766e-05\n",
      "TRIM38  1.865692e-07      0.2288860 0.434 0.118 3.652092e-03 8.785766e-05\n",
      "ANKRD60 2.114504e-07      0.1239930 0.226 0.027 4.139143e-03 8.785766e-05\n",
      "                   ensg\n",
      "LMX1B   ENSG00000136944\n",
      "PTDSS2  ENSG00000174915\n",
      "RPL17   ENSG00000265681\n",
      "FBXO17  ENSG00000269190\n",
      "TRIM38  ENSG00000112343\n",
      "ANKRD60 ENSG00000124227\n",
      "[1] \"here\"\n",
      "           Gene log2FoldChange\n",
      "CMIP       CMIP      0.5401082\n",
      "RIN3       RIN3      0.4423834\n",
      "RUNX3     RUNX3      0.3946723\n",
      "AKNA       AKNA      0.3780137\n",
      "SEC14L1 SEC14L1      0.3631703\n",
      "HDAC4     HDAC4      0.3561132\n"
     ]
    },
    {
     "name": "stderr",
     "output_type": "stream",
     "text": [
      "preparing geneSet collections...\n",
      "\n",
      "GSEA analysis...\n",
      "\n",
      "Warning message in preparePathwaysAndStats(pathways, stats, minSize, maxSize, gseaParam, :\n",
      "“There are ties in the preranked stats (0.2% of the list).\n",
      "The order of those tied genes will be arbitrary, which may produce unexpected results.”\n",
      "no term enriched under specific pvalueCutoff...\n",
      "\n"
     ]
    },
    {
     "name": "stdout",
     "output_type": "stream",
     "text": [
      "[1] \"result\"\n",
      "[1] \"c0\"\n"
     ]
    },
    {
     "name": "stderr",
     "output_type": "stream",
     "text": [
      "Warning message in summary(egmt[[c]]):\n",
      "“summary method to convert the object to data.frame is deprecated, please use as.data.frame instead.”\n",
      "preparing geneSet collections...\n",
      "\n",
      "GSEA analysis...\n",
      "\n",
      "Warning message in preparePathwaysAndStats(pathways, stats, minSize, maxSize, gseaParam, :\n",
      "“There are ties in the preranked stats (0.2% of the list).\n",
      "The order of those tied genes will be arbitrary, which may produce unexpected results.”\n",
      "leading edge analysis...\n",
      "\n",
      "done...\n",
      "\n"
     ]
    },
    {
     "name": "stdout",
     "output_type": "stream",
     "text": [
      "[1] \"result\"\n",
      "[1] \"c2\"\n"
     ]
    },
    {
     "name": "stderr",
     "output_type": "stream",
     "text": [
      "Warning message in summary(egmt[[c]]):\n",
      "“summary method to convert the object to data.frame is deprecated, please use as.data.frame instead.”\n",
      "Saving 6.67 x 6.67 in image\n",
      "\n",
      "preparing geneSet collections...\n",
      "\n",
      "GSEA analysis...\n",
      "\n",
      "Warning message in preparePathwaysAndStats(pathways, stats, minSize, maxSize, gseaParam, :\n",
      "“There are ties in the preranked stats (0.2% of the list).\n",
      "The order of those tied genes will be arbitrary, which may produce unexpected results.”\n",
      "leading edge analysis...\n",
      "\n",
      "done...\n",
      "\n"
     ]
    },
    {
     "name": "stdout",
     "output_type": "stream",
     "text": [
      "[1] \"result\"\n",
      "[1] \"c5\"\n"
     ]
    },
    {
     "name": "stderr",
     "output_type": "stream",
     "text": [
      "Warning message in summary(egmt[[c]]):\n",
      "“summary method to convert the object to data.frame is deprecated, please use as.data.frame instead.”\n",
      "Saving 6.67 x 6.67 in image\n",
      "\n",
      "preparing geneSet collections...\n",
      "\n",
      "GSEA analysis...\n",
      "\n",
      "Warning message in preparePathwaysAndStats(pathways, stats, minSize, maxSize, gseaParam, :\n",
      "“There are ties in the preranked stats (0.2% of the list).\n",
      "The order of those tied genes will be arbitrary, which may produce unexpected results.”\n",
      "no term enriched under specific pvalueCutoff...\n",
      "\n"
     ]
    },
    {
     "name": "stdout",
     "output_type": "stream",
     "text": [
      "[1] \"result\"\n",
      "[1] \"c7\"\n"
     ]
    },
    {
     "name": "stderr",
     "output_type": "stream",
     "text": [
      "Warning message in summary(egmt[[c]]):\n",
      "“summary method to convert the object to data.frame is deprecated, please use as.data.frame instead.”\n",
      "Warning message in is.na(egmt[[c]]):\n",
      "“is.na() applied to non-(list or vector) of type 'S4'”\n",
      "Warning message in summary(egmt[[c]]):\n",
      "“summary method to convert the object to data.frame is deprecated, please use as.data.frame instead.”\n",
      "Warning message in is.na(egmt[[c]]):\n",
      "“is.na() applied to non-(list or vector) of type 'S4'”\n",
      "Warning message in summary(egmt[[c]]):\n",
      "“summary method to convert the object to data.frame is deprecated, please use as.data.frame instead.”\n",
      "Warning message in is.na(egmt[[c]]):\n",
      "“is.na() applied to non-(list or vector) of type 'S4'”\n",
      "Warning message in summary(egmt[[c]]):\n",
      "“summary method to convert the object to data.frame is deprecated, please use as.data.frame instead.”\n",
      "Warning message in is.na(egmt[[c]]):\n",
      "“is.na() applied to non-(list or vector) of type 'S4'”\n",
      "Warning message in summary(egmt[[c]]):\n",
      "“summary method to convert the object to data.frame is deprecated, please use as.data.frame instead.”\n"
     ]
    },
    {
     "name": "stdout",
     "output_type": "stream",
     "text": [
      "[1] \"preExcel writing\"\n",
      "[1] \"postExcel writing\"\n",
      "[1] \"Here we go .... :/data/Mito_Trace/output/pipeline/TcellDupi_may17_2021/MTblacklist/data/merged/MT/cellr_True/numread_200/filters/minC10_minR50_topN0_hetT0.001_hetC10_hetCount5_bq20/mgatk/vireoIn/clones/variants_init/knn/kparam_3/concat/gff_hg38_1_2/annotation_clones/de_btwncond_RNA/minPct_0_logfc0.1_p0.1/GSEA_pthresh.0.1_pref.FALSE_stat.log2FoldChange_padj.BH/prep/15_DE.tsv\"\n",
      "[1] \"Myclass\"\n",
      "[1] 5190    7\n",
      "[1] 5084    7\n",
      "[1] \"pvalue\"         \"log2FoldChange\" \"pct.1\"          \"pct.2\"         \n",
      "[5] \"padj_bonf\"      \"padj\"           \"ensg\"          \n",
      "               pvalue log2FoldChange pct.1 pct.2   padj_bonf         padj\n",
      "FCHSD1   1.251798e-07      0.2867006 0.500 0.044 0.002450394 0.0006496831\n",
      "PLPP5    1.797809e-06      0.3000076 0.562 0.078 0.035192119 0.0046653154\n",
      "ARHGEF17 3.900757e-06      0.4454971 0.688 0.167 0.076357325 0.0067483102\n",
      "BEND4    6.802558e-06      0.3781456 0.375 0.033 0.133160071 0.0083787408\n",
      "ACTR3C   8.072005e-06      0.1482622 0.375 0.033 0.158009491 0.0083787408\n",
      "SEPN1    1.132222e-05      0.1348671 0.375 0.033 0.221632492 0.0097937218\n",
      "                    ensg\n",
      "FCHSD1   ENSG00000197948\n",
      "PLPP5    ENSG00000147535\n",
      "ARHGEF17 ENSG00000110237\n",
      "BEND4    ENSG00000188848\n",
      "ACTR3C   ENSG00000106526\n",
      "SEPN1               <NA>\n",
      "[1] \"here\"\n",
      "           Gene log2FoldChange\n",
      "ASPSCR1 ASPSCR1      1.7350493\n",
      "PTPN20   PTPN20      0.9731959\n",
      "HEXIM1   HEXIM1      0.8767632\n",
      "KHSRP     KHSRP      0.6321540\n",
      "RPS11     RPS11      0.6112068\n",
      "JSRP1     JSRP1      0.6097176\n"
     ]
    },
    {
     "name": "stderr",
     "output_type": "stream",
     "text": [
      "preparing geneSet collections...\n",
      "\n",
      "GSEA analysis...\n",
      "\n",
      "Warning message in preparePathwaysAndStats(pathways, stats, minSize, maxSize, gseaParam, :\n",
      "“There are ties in the preranked stats (0.43% of the list).\n",
      "The order of those tied genes will be arbitrary, which may produce unexpected results.”\n",
      "leading edge analysis...\n",
      "\n",
      "done...\n",
      "\n"
     ]
    },
    {
     "name": "stdout",
     "output_type": "stream",
     "text": [
      "[1] \"result\"\n",
      "[1] \"c0\"\n"
     ]
    },
    {
     "name": "stderr",
     "output_type": "stream",
     "text": [
      "Warning message in summary(egmt[[c]]):\n",
      "“summary method to convert the object to data.frame is deprecated, please use as.data.frame instead.”\n",
      "Saving 6.67 x 6.67 in image\n",
      "\n",
      "preparing geneSet collections...\n",
      "\n",
      "GSEA analysis...\n",
      "\n",
      "Warning message in preparePathwaysAndStats(pathways, stats, minSize, maxSize, gseaParam, :\n",
      "“There are ties in the preranked stats (0.43% of the list).\n",
      "The order of those tied genes will be arbitrary, which may produce unexpected results.”\n",
      "leading edge analysis...\n",
      "\n",
      "done...\n",
      "\n"
     ]
    },
    {
     "name": "stdout",
     "output_type": "stream",
     "text": [
      "[1] \"result\"\n",
      "[1] \"c2\"\n"
     ]
    },
    {
     "name": "stderr",
     "output_type": "stream",
     "text": [
      "Warning message in summary(egmt[[c]]):\n",
      "“summary method to convert the object to data.frame is deprecated, please use as.data.frame instead.”\n",
      "Saving 6.67 x 6.67 in image\n",
      "\n",
      "preparing geneSet collections...\n",
      "\n",
      "GSEA analysis...\n",
      "\n",
      "Warning message in preparePathwaysAndStats(pathways, stats, minSize, maxSize, gseaParam, :\n",
      "“There are ties in the preranked stats (0.43% of the list).\n",
      "The order of those tied genes will be arbitrary, which may produce unexpected results.”\n",
      "leading edge analysis...\n",
      "\n",
      "done...\n",
      "\n"
     ]
    },
    {
     "name": "stdout",
     "output_type": "stream",
     "text": [
      "[1] \"result\"\n",
      "[1] \"c5\"\n"
     ]
    },
    {
     "name": "stderr",
     "output_type": "stream",
     "text": [
      "Warning message in summary(egmt[[c]]):\n",
      "“summary method to convert the object to data.frame is deprecated, please use as.data.frame instead.”\n",
      "Saving 6.67 x 6.67 in image\n",
      "\n",
      "preparing geneSet collections...\n",
      "\n",
      "GSEA analysis...\n",
      "\n",
      "Warning message in preparePathwaysAndStats(pathways, stats, minSize, maxSize, gseaParam, :\n",
      "“There are ties in the preranked stats (0.43% of the list).\n",
      "The order of those tied genes will be arbitrary, which may produce unexpected results.”\n",
      "leading edge analysis...\n",
      "\n",
      "done...\n",
      "\n"
     ]
    },
    {
     "name": "stdout",
     "output_type": "stream",
     "text": [
      "[1] \"result\"\n",
      "[1] \"c7\"\n"
     ]
    },
    {
     "name": "stderr",
     "output_type": "stream",
     "text": [
      "Warning message in summary(egmt[[c]]):\n",
      "“summary method to convert the object to data.frame is deprecated, please use as.data.frame instead.”\n",
      "Saving 6.67 x 6.67 in image\n",
      "\n",
      "Warning message in is.na(egmt[[c]]):\n",
      "“is.na() applied to non-(list or vector) of type 'S4'”\n",
      "Warning message in summary(egmt[[c]]):\n",
      "“summary method to convert the object to data.frame is deprecated, please use as.data.frame instead.”\n",
      "Warning message in is.na(egmt[[c]]):\n",
      "“is.na() applied to non-(list or vector) of type 'S4'”\n",
      "Warning message in summary(egmt[[c]]):\n",
      "“summary method to convert the object to data.frame is deprecated, please use as.data.frame instead.”\n",
      "Warning message in is.na(egmt[[c]]):\n",
      "“is.na() applied to non-(list or vector) of type 'S4'”\n",
      "Warning message in summary(egmt[[c]]):\n",
      "“summary method to convert the object to data.frame is deprecated, please use as.data.frame instead.”\n",
      "Warning message in is.na(egmt[[c]]):\n",
      "“is.na() applied to non-(list or vector) of type 'S4'”\n",
      "Warning message in summary(egmt[[c]]):\n",
      "“summary method to convert the object to data.frame is deprecated, please use as.data.frame instead.”\n"
     ]
    },
    {
     "name": "stdout",
     "output_type": "stream",
     "text": [
      "[1] \"preExcel writing\"\n",
      "[1] \"postExcel writing\"\n",
      "[1] \"Here we go .... :/data/Mito_Trace/output/pipeline/TcellDupi_may17_2021/MTblacklist/data/merged/MT/cellr_True/numread_200/filters/minC10_minR50_topN0_hetT0.001_hetC10_hetCount5_bq20/mgatk/vireoIn/clones/variants_init/knn/kparam_3/concat/gff_hg38_1_2/annotation_clones/de_btwncond_RNA/minPct_0_logfc0.1_p0.1/GSEA_pthresh.0.1_pref.FALSE_stat.log2FoldChange_padj.BH/prep/2_DE.tsv\"\n",
      "[1] \"Myclass\"\n",
      "[1] 326   7\n",
      "[1] 326   7\n",
      "[1] \"pvalue\"         \"log2FoldChange\" \"pct.1\"          \"pct.2\"         \n",
      "[5] \"padj_bonf\"      \"padj\"           \"ensg\"          \n",
      "                     pvalue log2FoldChange pct.1 pct.2    padj_bonf\n",
      "TMEM141        2.116612e-27      0.1812459 0.427 0.187 4.143268e-23\n",
      "CTD-2192J16.17 1.693665e-23      0.1640323 0.444 0.207 3.315349e-19\n",
      "RP11-216L13.17 4.026645e-23      0.1734497 0.480 0.236 7.882158e-19\n",
      "PLK3           4.907062e-22      0.1178678 0.378 0.168 9.605573e-18\n",
      "AP3D1          6.812901e-21      0.1340781 0.375 0.171 1.333625e-16\n",
      "CCT3           1.467880e-20      0.1319138 0.370 0.169 2.873375e-16\n",
      "                       padj            ensg\n",
      "TMEM141        6.900154e-25 ENSG00000244187\n",
      "CTD-2192J16.17 2.760674e-21            <NA>\n",
      "RP11-216L13.17 4.375621e-21            <NA>\n",
      "PLK3           3.999255e-20 ENSG00000173846\n",
      "AP3D1          4.442012e-19 ENSG00000065000\n",
      "CCT3           7.975480e-19 ENSG00000163468\n",
      "[1] \"here\"\n",
      "                         Gene log2FoldChange\n",
      "HS3ST4                 HS3ST4      0.3041160\n",
      "TMEM141               TMEM141      0.1812459\n",
      "CTD-3222D19.2   CTD-3222D19.2      0.1798540\n",
      "RP11-216L13.17 RP11-216L13.17      0.1734497\n",
      "HNRNPUL2-BSCL2 HNRNPUL2-BSCL2      0.1684466\n",
      "CTD-2192J16.17 CTD-2192J16.17      0.1640323\n"
     ]
    },
    {
     "name": "stderr",
     "output_type": "stream",
     "text": [
      "preparing geneSet collections...\n",
      "\n",
      "GSEA analysis...\n",
      "\n",
      "leading edge analysis...\n",
      "\n",
      "done...\n",
      "\n"
     ]
    },
    {
     "name": "stdout",
     "output_type": "stream",
     "text": [
      "[1] \"result\"\n",
      "[1] \"c0\"\n"
     ]
    },
    {
     "name": "stderr",
     "output_type": "stream",
     "text": [
      "Warning message in summary(egmt[[c]]):\n",
      "“summary method to convert the object to data.frame is deprecated, please use as.data.frame instead.”\n",
      "Saving 6.67 x 6.67 in image\n",
      "\n",
      "preparing geneSet collections...\n",
      "\n",
      "GSEA analysis...\n",
      "\n",
      "Warning message in fgseaMultilevel(...):\n",
      "“For some pathways, in reality P-values are less than 1e-10. You can set the `eps` argument to zero for better estimation.”\n",
      "leading edge analysis...\n",
      "\n",
      "done...\n",
      "\n"
     ]
    },
    {
     "name": "stdout",
     "output_type": "stream",
     "text": [
      "[1] \"result\"\n",
      "[1] \"c2\"\n"
     ]
    },
    {
     "name": "stderr",
     "output_type": "stream",
     "text": [
      "Warning message in summary(egmt[[c]]):\n",
      "“summary method to convert the object to data.frame is deprecated, please use as.data.frame instead.”\n",
      "Saving 6.67 x 6.67 in image\n",
      "\n",
      "preparing geneSet collections...\n",
      "\n",
      "GSEA analysis...\n",
      "\n",
      "no term enriched under specific pvalueCutoff...\n",
      "\n"
     ]
    },
    {
     "name": "stdout",
     "output_type": "stream",
     "text": [
      "[1] \"result\"\n",
      "[1] \"c5\"\n"
     ]
    },
    {
     "name": "stderr",
     "output_type": "stream",
     "text": [
      "Warning message in summary(egmt[[c]]):\n",
      "“summary method to convert the object to data.frame is deprecated, please use as.data.frame instead.”\n",
      "preparing geneSet collections...\n",
      "\n",
      "GSEA analysis...\n",
      "\n",
      "leading edge analysis...\n",
      "\n",
      "done...\n",
      "\n"
     ]
    },
    {
     "name": "stdout",
     "output_type": "stream",
     "text": [
      "[1] \"result\"\n",
      "[1] \"c7\"\n"
     ]
    },
    {
     "name": "stderr",
     "output_type": "stream",
     "text": [
      "Warning message in summary(egmt[[c]]):\n",
      "“summary method to convert the object to data.frame is deprecated, please use as.data.frame instead.”\n",
      "Saving 6.67 x 6.67 in image\n",
      "\n",
      "Warning message in is.na(egmt[[c]]):\n",
      "“is.na() applied to non-(list or vector) of type 'S4'”\n",
      "Warning message in summary(egmt[[c]]):\n",
      "“summary method to convert the object to data.frame is deprecated, please use as.data.frame instead.”\n",
      "Warning message in is.na(egmt[[c]]):\n",
      "“is.na() applied to non-(list or vector) of type 'S4'”\n",
      "Warning message in summary(egmt[[c]]):\n",
      "“summary method to convert the object to data.frame is deprecated, please use as.data.frame instead.”\n",
      "Warning message in is.na(egmt[[c]]):\n",
      "“is.na() applied to non-(list or vector) of type 'S4'”\n",
      "Warning message in summary(egmt[[c]]):\n",
      "“summary method to convert the object to data.frame is deprecated, please use as.data.frame instead.”\n",
      "Warning message in is.na(egmt[[c]]):\n",
      "“is.na() applied to non-(list or vector) of type 'S4'”\n",
      "Warning message in summary(egmt[[c]]):\n",
      "“summary method to convert the object to data.frame is deprecated, please use as.data.frame instead.”\n"
     ]
    },
    {
     "name": "stdout",
     "output_type": "stream",
     "text": [
      "[1] \"preExcel writing\"\n",
      "[1] \"postExcel writing\"\n",
      "[1] \"Here we go .... :/data/Mito_Trace/output/pipeline/TcellDupi_may17_2021/MTblacklist/data/merged/MT/cellr_True/numread_200/filters/minC10_minR50_topN0_hetT0.001_hetC10_hetCount5_bq20/mgatk/vireoIn/clones/variants_init/knn/kparam_3/concat/gff_hg38_1_2/annotation_clones/de_btwncond_RNA/minPct_0_logfc0.1_p0.1/GSEA_pthresh.0.1_pref.FALSE_stat.log2FoldChange_padj.BH/prep/3_DE.tsv\"\n",
      "[1] \"Myclass\"\n",
      "[1] 784   7\n",
      "[1] 784   7\n",
      "[1] \"pvalue\"         \"log2FoldChange\" \"pct.1\"          \"pct.2\"         \n",
      "[5] \"padj_bonf\"      \"padj\"           \"ensg\"          \n",
      "            pvalue log2FoldChange pct.1 pct.2    padj_bonf         padj\n",
      "LEF1  1.561426e-58     -0.3700602 0.256 0.696 3.056491e-54 1.224158e-55\n",
      "TLE4  1.006469e-49     -0.2264988 0.182 0.538 1.970162e-45 3.945357e-47\n",
      "MLLT3 3.728236e-49     -0.2990018 0.199 0.557 7.298022e-45 9.743123e-47\n",
      "SCML4 8.101153e-49     -0.2430941 0.211 0.586 1.585801e-44 1.587826e-46\n",
      "JUN   5.234439e-47     -0.2287136 0.163 0.497 1.024641e-42 8.207601e-45\n",
      "FOSB  1.183842e-46     -0.2140562 0.191 0.543 2.317371e-42 1.546887e-44\n",
      "                 ensg\n",
      "LEF1  ENSG00000138795\n",
      "TLE4  ENSG00000106829\n",
      "MLLT3 ENSG00000171843\n",
      "SCML4 ENSG00000146285\n",
      "JUN   ENSG00000177606\n",
      "FOSB  ENSG00000125740\n",
      "[1] \"here\"\n",
      "                     Gene log2FoldChange\n",
      "RAPGEF1           RAPGEF1      0.3661596\n",
      "FAM53B             FAM53B      0.2753279\n",
      "RP11-12J10.3 RP11-12J10.3      0.2536261\n",
      "CMIP                 CMIP      0.2438596\n",
      "MBP                   MBP      0.2383949\n",
      "CHST11             CHST11      0.2237016\n"
     ]
    },
    {
     "name": "stderr",
     "output_type": "stream",
     "text": [
      "preparing geneSet collections...\n",
      "\n",
      "GSEA analysis...\n",
      "\n",
      "leading edge analysis...\n",
      "\n",
      "done...\n",
      "\n"
     ]
    },
    {
     "name": "stdout",
     "output_type": "stream",
     "text": [
      "[1] \"result\"\n",
      "[1] \"c0\"\n"
     ]
    },
    {
     "name": "stderr",
     "output_type": "stream",
     "text": [
      "Warning message in summary(egmt[[c]]):\n",
      "“summary method to convert the object to data.frame is deprecated, please use as.data.frame instead.”\n",
      "Saving 6.67 x 6.67 in image\n",
      "\n",
      "preparing geneSet collections...\n",
      "\n",
      "GSEA analysis...\n",
      "\n",
      "leading edge analysis...\n",
      "\n",
      "done...\n",
      "\n"
     ]
    },
    {
     "name": "stdout",
     "output_type": "stream",
     "text": [
      "[1] \"result\"\n",
      "[1] \"c2\"\n"
     ]
    },
    {
     "name": "stderr",
     "output_type": "stream",
     "text": [
      "Warning message in summary(egmt[[c]]):\n",
      "“summary method to convert the object to data.frame is deprecated, please use as.data.frame instead.”\n",
      "Saving 6.67 x 6.67 in image\n",
      "\n",
      "preparing geneSet collections...\n",
      "\n",
      "GSEA analysis...\n",
      "\n",
      "no term enriched under specific pvalueCutoff...\n",
      "\n"
     ]
    },
    {
     "name": "stdout",
     "output_type": "stream",
     "text": [
      "[1] \"result\"\n",
      "[1] \"c5\"\n"
     ]
    },
    {
     "name": "stderr",
     "output_type": "stream",
     "text": [
      "Warning message in summary(egmt[[c]]):\n",
      "“summary method to convert the object to data.frame is deprecated, please use as.data.frame instead.”\n",
      "preparing geneSet collections...\n",
      "\n",
      "GSEA analysis...\n",
      "\n",
      "leading edge analysis...\n",
      "\n",
      "done...\n",
      "\n"
     ]
    },
    {
     "name": "stdout",
     "output_type": "stream",
     "text": [
      "[1] \"result\"\n",
      "[1] \"c7\"\n"
     ]
    },
    {
     "name": "stderr",
     "output_type": "stream",
     "text": [
      "Warning message in summary(egmt[[c]]):\n",
      "“summary method to convert the object to data.frame is deprecated, please use as.data.frame instead.”\n",
      "Saving 6.67 x 6.67 in image\n",
      "\n",
      "Warning message in is.na(egmt[[c]]):\n",
      "“is.na() applied to non-(list or vector) of type 'S4'”\n",
      "Warning message in summary(egmt[[c]]):\n",
      "“summary method to convert the object to data.frame is deprecated, please use as.data.frame instead.”\n",
      "Warning message in is.na(egmt[[c]]):\n",
      "“is.na() applied to non-(list or vector) of type 'S4'”\n",
      "Warning message in summary(egmt[[c]]):\n",
      "“summary method to convert the object to data.frame is deprecated, please use as.data.frame instead.”\n",
      "Warning message in is.na(egmt[[c]]):\n",
      "“is.na() applied to non-(list or vector) of type 'S4'”\n",
      "Warning message in summary(egmt[[c]]):\n",
      "“summary method to convert the object to data.frame is deprecated, please use as.data.frame instead.”\n",
      "Warning message in is.na(egmt[[c]]):\n",
      "“is.na() applied to non-(list or vector) of type 'S4'”\n",
      "Warning message in summary(egmt[[c]]):\n",
      "“summary method to convert the object to data.frame is deprecated, please use as.data.frame instead.”\n"
     ]
    },
    {
     "name": "stdout",
     "output_type": "stream",
     "text": [
      "[1] \"preExcel writing\"\n",
      "[1] \"postExcel writing\"\n",
      "[1] \"Here we go .... :/data/Mito_Trace/output/pipeline/TcellDupi_may17_2021/MTblacklist/data/merged/MT/cellr_True/numread_200/filters/minC10_minR50_topN0_hetT0.001_hetC10_hetCount5_bq20/mgatk/vireoIn/clones/variants_init/knn/kparam_3/concat/gff_hg38_1_2/annotation_clones/de_btwncond_RNA/minPct_0_logfc0.1_p0.1/GSEA_pthresh.0.1_pref.FALSE_stat.log2FoldChange_padj.BH/prep/4_DE.tsv\"\n",
      "[1] \"Myclass\"\n",
      "[1] 269   7\n",
      "[1] 269   7\n",
      "[1] \"pvalue\"         \"log2FoldChange\" \"pct.1\"          \"pct.2\"         \n",
      "[5] \"padj_bonf\"      \"padj\"           \"ensg\"          \n",
      "              pvalue log2FoldChange pct.1 pct.2    padj_bonf         padj\n",
      "MIDN    7.943361e-21      0.1437037 0.470 0.224 1.554913e-16 2.136764e-18\n",
      "NR1H2   3.844512e-20      0.1844735 0.613 0.335 7.525633e-16 5.170869e-18\n",
      "STAP2   1.423949e-19      0.1479712 0.555 0.285 2.787381e-15 1.276808e-17\n",
      "ATXN2L  1.123954e-18      0.1121943 0.355 0.155 2.200140e-14 7.558589e-17\n",
      "SERTAD1 9.229822e-18      0.1131651 0.372 0.167 1.806738e-13 4.965644e-16\n",
      "SWSAP1  1.207932e-17      0.1379044 0.485 0.247 2.364527e-13 5.415561e-16\n",
      "                   ensg\n",
      "MIDN    ENSG00000167470\n",
      "NR1H2   ENSG00000131408\n",
      "STAP2   ENSG00000178078\n",
      "ATXN2L  ENSG00000168488\n",
      "SERTAD1 ENSG00000197019\n",
      "SWSAP1  ENSG00000173928\n",
      "[1] \"here\"\n",
      "                   Gene log2FoldChange\n",
      "GRIK4             GRIK4      0.2387968\n",
      "NR1H2             NR1H2      0.1844735\n",
      "ZSCAN5A         ZSCAN5A      0.1724418\n",
      "EMP3               EMP3      0.1656409\n",
      "CTC-429P9.4 CTC-429P9.4      0.1598667\n",
      "STAP2             STAP2      0.1479712\n"
     ]
    },
    {
     "name": "stderr",
     "output_type": "stream",
     "text": [
      "preparing geneSet collections...\n",
      "\n",
      "GSEA analysis...\n",
      "\n",
      "leading edge analysis...\n",
      "\n",
      "done...\n",
      "\n"
     ]
    },
    {
     "name": "stdout",
     "output_type": "stream",
     "text": [
      "[1] \"result\"\n",
      "[1] \"c0\"\n"
     ]
    },
    {
     "name": "stderr",
     "output_type": "stream",
     "text": [
      "Warning message in summary(egmt[[c]]):\n",
      "“summary method to convert the object to data.frame is deprecated, please use as.data.frame instead.”\n",
      "Saving 6.67 x 6.67 in image\n",
      "\n",
      "preparing geneSet collections...\n",
      "\n",
      "GSEA analysis...\n",
      "\n",
      "leading edge analysis...\n",
      "\n",
      "done...\n",
      "\n"
     ]
    },
    {
     "name": "stdout",
     "output_type": "stream",
     "text": [
      "[1] \"result\"\n",
      "[1] \"c2\"\n"
     ]
    },
    {
     "name": "stderr",
     "output_type": "stream",
     "text": [
      "Warning message in summary(egmt[[c]]):\n",
      "“summary method to convert the object to data.frame is deprecated, please use as.data.frame instead.”\n",
      "Saving 6.67 x 6.67 in image\n",
      "\n",
      "preparing geneSet collections...\n",
      "\n",
      "GSEA analysis...\n",
      "\n",
      "leading edge analysis...\n",
      "\n",
      "done...\n",
      "\n"
     ]
    },
    {
     "name": "stdout",
     "output_type": "stream",
     "text": [
      "[1] \"result\"\n",
      "[1] \"c5\"\n"
     ]
    },
    {
     "name": "stderr",
     "output_type": "stream",
     "text": [
      "Warning message in summary(egmt[[c]]):\n",
      "“summary method to convert the object to data.frame is deprecated, please use as.data.frame instead.”\n",
      "Saving 6.67 x 6.67 in image\n",
      "\n",
      "preparing geneSet collections...\n",
      "\n",
      "GSEA analysis...\n",
      "\n",
      "leading edge analysis...\n",
      "\n",
      "done...\n",
      "\n"
     ]
    },
    {
     "name": "stdout",
     "output_type": "stream",
     "text": [
      "[1] \"result\"\n",
      "[1] \"c7\"\n"
     ]
    },
    {
     "name": "stderr",
     "output_type": "stream",
     "text": [
      "Warning message in summary(egmt[[c]]):\n",
      "“summary method to convert the object to data.frame is deprecated, please use as.data.frame instead.”\n",
      "Saving 6.67 x 6.67 in image\n",
      "\n",
      "Warning message in is.na(egmt[[c]]):\n",
      "“is.na() applied to non-(list or vector) of type 'S4'”\n",
      "Warning message in summary(egmt[[c]]):\n",
      "“summary method to convert the object to data.frame is deprecated, please use as.data.frame instead.”\n",
      "Warning message in is.na(egmt[[c]]):\n",
      "“is.na() applied to non-(list or vector) of type 'S4'”\n",
      "Warning message in summary(egmt[[c]]):\n",
      "“summary method to convert the object to data.frame is deprecated, please use as.data.frame instead.”\n",
      "Warning message in is.na(egmt[[c]]):\n",
      "“is.na() applied to non-(list or vector) of type 'S4'”\n",
      "Warning message in summary(egmt[[c]]):\n",
      "“summary method to convert the object to data.frame is deprecated, please use as.data.frame instead.”\n",
      "Warning message in is.na(egmt[[c]]):\n",
      "“is.na() applied to non-(list or vector) of type 'S4'”\n",
      "Warning message in summary(egmt[[c]]):\n",
      "“summary method to convert the object to data.frame is deprecated, please use as.data.frame instead.”\n"
     ]
    },
    {
     "name": "stdout",
     "output_type": "stream",
     "text": [
      "[1] \"preExcel writing\"\n",
      "[1] \"postExcel writing\"\n",
      "[1] \"Here we go .... :/data/Mito_Trace/output/pipeline/TcellDupi_may17_2021/MTblacklist/data/merged/MT/cellr_True/numread_200/filters/minC10_minR50_topN0_hetT0.001_hetC10_hetCount5_bq20/mgatk/vireoIn/clones/variants_init/knn/kparam_3/concat/gff_hg38_1_2/annotation_clones/de_btwncond_RNA/minPct_0_logfc0.1_p0.1/GSEA_pthresh.0.1_pref.FALSE_stat.log2FoldChange_padj.BH/prep/5_DE.tsv\"\n",
      "[1] \"Myclass\"\n",
      "[1] 845   7\n",
      "[1] 845   7\n",
      "[1] \"pvalue\"         \"log2FoldChange\" \"pct.1\"          \"pct.2\"         \n",
      "[5] \"padj_bonf\"      \"padj\"           \"ensg\"          \n",
      "             pvalue log2FoldChange pct.1 pct.2    padj_bonf         padj\n",
      "KRT72  7.771819e-21      0.1752561 0.291 0.078 1.521334e-16 6.567187e-18\n",
      "CCDC57 3.519209e-16      0.3090953 0.590 0.298 6.888852e-12 1.486866e-13\n",
      "MAP2K2 2.963964e-14      0.1838229 0.402 0.166 5.801959e-10 8.348498e-12\n",
      "SMAP2  3.647033e-12      0.2742077 0.675 0.403 7.139068e-08 6.969874e-10\n",
      "SYTL3  4.124186e-12      0.2846384 0.620 0.360 8.073094e-08 6.969874e-10\n",
      "ALOXE3 2.908680e-11      0.1579195 0.385 0.173 5.693742e-07 4.096391e-09\n",
      "                  ensg\n",
      "KRT72  ENSG00000170486\n",
      "CCDC57 ENSG00000176155\n",
      "MAP2K2 ENSG00000126934\n",
      "SMAP2  ENSG00000084070\n",
      "SYTL3  ENSG00000164674\n",
      "ALOXE3 ENSG00000179148\n",
      "[1] \"here\"\n",
      "           Gene log2FoldChange\n",
      "PLA2R1   PLA2R1      0.4249978\n",
      "CCDC57   CCDC57      0.3090953\n",
      "IKZF1     IKZF1      0.2996436\n",
      "EPS15L1 EPS15L1      0.2892247\n",
      "SYTL3     SYTL3      0.2846384\n",
      "DEAF1     DEAF1      0.2779094\n"
     ]
    },
    {
     "name": "stderr",
     "output_type": "stream",
     "text": [
      "preparing geneSet collections...\n",
      "\n",
      "GSEA analysis...\n",
      "\n",
      "leading edge analysis...\n",
      "\n",
      "done...\n",
      "\n"
     ]
    },
    {
     "name": "stdout",
     "output_type": "stream",
     "text": [
      "[1] \"result\"\n",
      "[1] \"c0\"\n"
     ]
    },
    {
     "name": "stderr",
     "output_type": "stream",
     "text": [
      "Warning message in summary(egmt[[c]]):\n",
      "“summary method to convert the object to data.frame is deprecated, please use as.data.frame instead.”\n",
      "Saving 6.67 x 6.67 in image\n",
      "\n",
      "preparing geneSet collections...\n",
      "\n",
      "GSEA analysis...\n",
      "\n",
      "leading edge analysis...\n",
      "\n",
      "done...\n",
      "\n"
     ]
    },
    {
     "name": "stdout",
     "output_type": "stream",
     "text": [
      "[1] \"result\"\n",
      "[1] \"c2\"\n"
     ]
    },
    {
     "name": "stderr",
     "output_type": "stream",
     "text": [
      "Warning message in summary(egmt[[c]]):\n",
      "“summary method to convert the object to data.frame is deprecated, please use as.data.frame instead.”\n",
      "Saving 6.67 x 6.67 in image\n",
      "\n",
      "preparing geneSet collections...\n",
      "\n",
      "GSEA analysis...\n",
      "\n",
      "no term enriched under specific pvalueCutoff...\n",
      "\n"
     ]
    },
    {
     "name": "stdout",
     "output_type": "stream",
     "text": [
      "[1] \"result\"\n",
      "[1] \"c5\"\n"
     ]
    },
    {
     "name": "stderr",
     "output_type": "stream",
     "text": [
      "Warning message in summary(egmt[[c]]):\n",
      "“summary method to convert the object to data.frame is deprecated, please use as.data.frame instead.”\n",
      "preparing geneSet collections...\n",
      "\n",
      "GSEA analysis...\n",
      "\n",
      "leading edge analysis...\n",
      "\n",
      "done...\n",
      "\n"
     ]
    },
    {
     "name": "stdout",
     "output_type": "stream",
     "text": [
      "[1] \"result\"\n",
      "[1] \"c7\"\n"
     ]
    },
    {
     "name": "stderr",
     "output_type": "stream",
     "text": [
      "Warning message in summary(egmt[[c]]):\n",
      "“summary method to convert the object to data.frame is deprecated, please use as.data.frame instead.”\n",
      "Saving 6.67 x 6.67 in image\n",
      "\n",
      "Warning message in is.na(egmt[[c]]):\n",
      "“is.na() applied to non-(list or vector) of type 'S4'”\n",
      "Warning message in summary(egmt[[c]]):\n",
      "“summary method to convert the object to data.frame is deprecated, please use as.data.frame instead.”\n",
      "Warning message in is.na(egmt[[c]]):\n",
      "“is.na() applied to non-(list or vector) of type 'S4'”\n",
      "Warning message in summary(egmt[[c]]):\n",
      "“summary method to convert the object to data.frame is deprecated, please use as.data.frame instead.”\n",
      "Warning message in is.na(egmt[[c]]):\n",
      "“is.na() applied to non-(list or vector) of type 'S4'”\n",
      "Warning message in summary(egmt[[c]]):\n",
      "“summary method to convert the object to data.frame is deprecated, please use as.data.frame instead.”\n",
      "Warning message in is.na(egmt[[c]]):\n",
      "“is.na() applied to non-(list or vector) of type 'S4'”\n",
      "Warning message in summary(egmt[[c]]):\n",
      "“summary method to convert the object to data.frame is deprecated, please use as.data.frame instead.”\n"
     ]
    },
    {
     "name": "stdout",
     "output_type": "stream",
     "text": [
      "[1] \"preExcel writing\"\n",
      "[1] \"postExcel writing\"\n",
      "[1] \"Here we go .... :/data/Mito_Trace/output/pipeline/TcellDupi_may17_2021/MTblacklist/data/merged/MT/cellr_True/numread_200/filters/minC10_minR50_topN0_hetT0.001_hetC10_hetCount5_bq20/mgatk/vireoIn/clones/variants_init/knn/kparam_3/concat/gff_hg38_1_2/annotation_clones/de_btwncond_RNA/minPct_0_logfc0.1_p0.1/GSEA_pthresh.0.1_pref.FALSE_stat.log2FoldChange_padj.BH/prep/6_DE.tsv\"\n",
      "[1] \"Myclass\"\n",
      "[1] 301   7\n",
      "[1] 301   7\n",
      "[1] \"pvalue\"         \"log2FoldChange\" \"pct.1\"          \"pct.2\"         \n",
      "[5] \"padj_bonf\"      \"padj\"           \"ensg\"          \n",
      "             pvalue log2FoldChange pct.1 pct.2    padj_bonf         padj\n",
      "TCTA   9.534575e-19      0.1863300 0.472 0.216 1.866393e-14 2.869907e-16\n",
      "PRKACA 2.025104e-17      0.1485397 0.451 0.203 3.964141e-13 3.047781e-15\n",
      "SEPT2  8.367278e-17      0.1480352 0.428 0.193 1.637895e-12 8.395169e-15\n",
      "AP2A1  2.824170e-15      0.1479574 0.497 0.244 5.528312e-11 1.824340e-13\n",
      "HDLBP  3.098979e-15      0.1537803 0.486 0.241 6.066251e-11 1.824340e-13\n",
      "RHOA   3.636558e-15      0.1507759 0.449 0.220 7.118562e-11 1.824340e-13\n",
      "                  ensg\n",
      "TCTA   ENSG00000145022\n",
      "PRKACA ENSG00000072062\n",
      "SEPT2             <NA>\n",
      "AP2A1  ENSG00000196961\n",
      "HDLBP  ENSG00000115677\n",
      "RHOA   ENSG00000067560\n",
      "[1] \"here\"\n",
      "         Gene log2FoldChange\n",
      "TCTA     TCTA      0.1863300\n",
      "TSEN34 TSEN34      0.1692915\n",
      "MBOAT7 MBOAT7      0.1660762\n",
      "HDLBP   HDLBP      0.1537803\n",
      "RRAS     RRAS      0.1537433\n",
      "SCAF1   SCAF1      0.1531359\n"
     ]
    },
    {
     "name": "stderr",
     "output_type": "stream",
     "text": [
      "preparing geneSet collections...\n",
      "\n",
      "GSEA analysis...\n",
      "\n",
      "leading edge analysis...\n",
      "\n",
      "done...\n",
      "\n"
     ]
    },
    {
     "name": "stdout",
     "output_type": "stream",
     "text": [
      "[1] \"result\"\n",
      "[1] \"c0\"\n"
     ]
    },
    {
     "name": "stderr",
     "output_type": "stream",
     "text": [
      "Warning message in summary(egmt[[c]]):\n",
      "“summary method to convert the object to data.frame is deprecated, please use as.data.frame instead.”\n",
      "Saving 6.67 x 6.67 in image\n",
      "\n",
      "preparing geneSet collections...\n",
      "\n",
      "GSEA analysis...\n",
      "\n",
      "leading edge analysis...\n",
      "\n",
      "done...\n",
      "\n"
     ]
    },
    {
     "name": "stdout",
     "output_type": "stream",
     "text": [
      "[1] \"result\"\n",
      "[1] \"c2\"\n"
     ]
    },
    {
     "name": "stderr",
     "output_type": "stream",
     "text": [
      "Warning message in summary(egmt[[c]]):\n",
      "“summary method to convert the object to data.frame is deprecated, please use as.data.frame instead.”\n",
      "Saving 6.67 x 6.67 in image\n",
      "\n",
      "preparing geneSet collections...\n",
      "\n",
      "GSEA analysis...\n",
      "\n",
      "leading edge analysis...\n",
      "\n",
      "done...\n",
      "\n"
     ]
    },
    {
     "name": "stdout",
     "output_type": "stream",
     "text": [
      "[1] \"result\"\n",
      "[1] \"c5\"\n"
     ]
    },
    {
     "name": "stderr",
     "output_type": "stream",
     "text": [
      "Warning message in summary(egmt[[c]]):\n",
      "“summary method to convert the object to data.frame is deprecated, please use as.data.frame instead.”\n",
      "Saving 6.67 x 6.67 in image\n",
      "\n",
      "preparing geneSet collections...\n",
      "\n",
      "GSEA analysis...\n",
      "\n",
      "leading edge analysis...\n",
      "\n",
      "done...\n",
      "\n"
     ]
    },
    {
     "name": "stdout",
     "output_type": "stream",
     "text": [
      "[1] \"result\"\n",
      "[1] \"c7\"\n"
     ]
    },
    {
     "name": "stderr",
     "output_type": "stream",
     "text": [
      "Warning message in summary(egmt[[c]]):\n",
      "“summary method to convert the object to data.frame is deprecated, please use as.data.frame instead.”\n",
      "Saving 6.67 x 6.67 in image\n",
      "\n",
      "Warning message in is.na(egmt[[c]]):\n",
      "“is.na() applied to non-(list or vector) of type 'S4'”\n",
      "Warning message in summary(egmt[[c]]):\n",
      "“summary method to convert the object to data.frame is deprecated, please use as.data.frame instead.”\n",
      "Warning message in is.na(egmt[[c]]):\n",
      "“is.na() applied to non-(list or vector) of type 'S4'”\n",
      "Warning message in summary(egmt[[c]]):\n",
      "“summary method to convert the object to data.frame is deprecated, please use as.data.frame instead.”\n",
      "Warning message in is.na(egmt[[c]]):\n",
      "“is.na() applied to non-(list or vector) of type 'S4'”\n",
      "Warning message in summary(egmt[[c]]):\n",
      "“summary method to convert the object to data.frame is deprecated, please use as.data.frame instead.”\n",
      "Warning message in is.na(egmt[[c]]):\n",
      "“is.na() applied to non-(list or vector) of type 'S4'”\n",
      "Warning message in summary(egmt[[c]]):\n",
      "“summary method to convert the object to data.frame is deprecated, please use as.data.frame instead.”\n"
     ]
    },
    {
     "name": "stdout",
     "output_type": "stream",
     "text": [
      "[1] \"preExcel writing\"\n",
      "[1] \"postExcel writing\"\n",
      "[1] \"Here we go .... :/data/Mito_Trace/output/pipeline/TcellDupi_may17_2021/MTblacklist/data/merged/MT/cellr_True/numread_200/filters/minC10_minR50_topN0_hetT0.001_hetC10_hetCount5_bq20/mgatk/vireoIn/clones/variants_init/knn/kparam_3/concat/gff_hg38_1_2/annotation_clones/de_btwncond_RNA/minPct_0_logfc0.1_p0.1/GSEA_pthresh.0.1_pref.FALSE_stat.log2FoldChange_padj.BH/prep/7_DE.tsv\"\n",
      "[1] \"Myclass\"\n",
      "[1] 345   7\n",
      "[1] 345   7\n",
      "[1] \"pvalue\"         \"log2FoldChange\" \"pct.1\"          \"pct.2\"         \n",
      "[5] \"padj_bonf\"      \"padj\"           \"ensg\"          \n",
      "             pvalue log2FoldChange pct.1 pct.2    padj_bonf         padj\n",
      "SLC9A1 2.986822e-13      0.1389370 0.313 0.138 5.846703e-09 1.030453e-10\n",
      "RAB40C 2.075228e-12      0.1485442 0.365 0.183 4.062259e-08 3.579769e-10\n",
      "CDCA4  3.618253e-11      0.1415111 0.338 0.171 7.082731e-07 2.679964e-09\n",
      "PHLDB3 3.662601e-11      0.1084066 0.271 0.124 7.169541e-07 2.679964e-09\n",
      "RAVER1 4.070861e-11      0.1113632 0.234 0.100 7.968710e-07 2.679964e-09\n",
      "GMFG   4.919126e-11      0.1413559 0.367 0.193 9.629189e-07 2.679964e-09\n",
      "                  ensg\n",
      "SLC9A1 ENSG00000090020\n",
      "RAB40C ENSG00000197562\n",
      "CDCA4  ENSG00000170779\n",
      "PHLDB3 ENSG00000176531\n",
      "RAVER1 ENSG00000161847\n",
      "GMFG   ENSG00000130755\n",
      "[1] \"here\"\n",
      "         Gene log2FoldChange\n",
      "DGKI     DGKI      0.3313213\n",
      "NGEF     NGEF      0.2577469\n",
      "SPTBN4 SPTBN4      0.2025173\n",
      "RBM6     RBM6      0.1821540\n",
      "BANP     BANP      0.1629611\n",
      "GNG7     GNG7      0.1609758\n"
     ]
    },
    {
     "name": "stderr",
     "output_type": "stream",
     "text": [
      "preparing geneSet collections...\n",
      "\n",
      "GSEA analysis...\n",
      "\n",
      "no term enriched under specific pvalueCutoff...\n",
      "\n"
     ]
    },
    {
     "name": "stdout",
     "output_type": "stream",
     "text": [
      "[1] \"result\"\n",
      "[1] \"c0\"\n"
     ]
    },
    {
     "name": "stderr",
     "output_type": "stream",
     "text": [
      "Warning message in summary(egmt[[c]]):\n",
      "“summary method to convert the object to data.frame is deprecated, please use as.data.frame instead.”\n",
      "preparing geneSet collections...\n",
      "\n",
      "GSEA analysis...\n",
      "\n",
      "leading edge analysis...\n",
      "\n",
      "done...\n",
      "\n"
     ]
    },
    {
     "name": "stdout",
     "output_type": "stream",
     "text": [
      "[1] \"result\"\n",
      "[1] \"c2\"\n"
     ]
    },
    {
     "name": "stderr",
     "output_type": "stream",
     "text": [
      "Warning message in summary(egmt[[c]]):\n",
      "“summary method to convert the object to data.frame is deprecated, please use as.data.frame instead.”\n",
      "Saving 6.67 x 6.67 in image\n",
      "\n",
      "preparing geneSet collections...\n",
      "\n",
      "GSEA analysis...\n",
      "\n",
      "leading edge analysis...\n",
      "\n",
      "done...\n",
      "\n"
     ]
    },
    {
     "name": "stdout",
     "output_type": "stream",
     "text": [
      "[1] \"result\"\n",
      "[1] \"c5\"\n"
     ]
    },
    {
     "name": "stderr",
     "output_type": "stream",
     "text": [
      "Warning message in summary(egmt[[c]]):\n",
      "“summary method to convert the object to data.frame is deprecated, please use as.data.frame instead.”\n",
      "Saving 6.67 x 6.67 in image\n",
      "\n",
      "preparing geneSet collections...\n",
      "\n",
      "GSEA analysis...\n",
      "\n",
      "leading edge analysis...\n",
      "\n",
      "done...\n",
      "\n"
     ]
    },
    {
     "name": "stdout",
     "output_type": "stream",
     "text": [
      "[1] \"result\"\n",
      "[1] \"c7\"\n"
     ]
    },
    {
     "name": "stderr",
     "output_type": "stream",
     "text": [
      "Warning message in summary(egmt[[c]]):\n",
      "“summary method to convert the object to data.frame is deprecated, please use as.data.frame instead.”\n",
      "Saving 6.67 x 6.67 in image\n",
      "\n",
      "Warning message in is.na(egmt[[c]]):\n",
      "“is.na() applied to non-(list or vector) of type 'S4'”\n",
      "Warning message in summary(egmt[[c]]):\n",
      "“summary method to convert the object to data.frame is deprecated, please use as.data.frame instead.”\n",
      "Warning message in is.na(egmt[[c]]):\n",
      "“is.na() applied to non-(list or vector) of type 'S4'”\n",
      "Warning message in summary(egmt[[c]]):\n",
      "“summary method to convert the object to data.frame is deprecated, please use as.data.frame instead.”\n",
      "Warning message in is.na(egmt[[c]]):\n",
      "“is.na() applied to non-(list or vector) of type 'S4'”\n",
      "Warning message in summary(egmt[[c]]):\n",
      "“summary method to convert the object to data.frame is deprecated, please use as.data.frame instead.”\n",
      "Warning message in is.na(egmt[[c]]):\n",
      "“is.na() applied to non-(list or vector) of type 'S4'”\n",
      "Warning message in summary(egmt[[c]]):\n",
      "“summary method to convert the object to data.frame is deprecated, please use as.data.frame instead.”\n"
     ]
    },
    {
     "name": "stdout",
     "output_type": "stream",
     "text": [
      "[1] \"preExcel writing\"\n",
      "[1] \"postExcel writing\"\n",
      "[1] \"Here we go .... :/data/Mito_Trace/output/pipeline/TcellDupi_may17_2021/MTblacklist/data/merged/MT/cellr_True/numread_200/filters/minC10_minR50_topN0_hetT0.001_hetC10_hetCount5_bq20/mgatk/vireoIn/clones/variants_init/knn/kparam_3/concat/gff_hg38_1_2/annotation_clones/de_btwncond_RNA/minPct_0_logfc0.1_p0.1/GSEA_pthresh.0.1_pref.FALSE_stat.log2FoldChange_padj.BH/prep/8_DE.tsv\"\n",
      "[1] \"Myclass\"\n",
      "[1] 301   7\n",
      "[1] 301   7\n",
      "[1] \"pvalue\"         \"log2FoldChange\" \"pct.1\"          \"pct.2\"         \n",
      "[5] \"padj_bonf\"      \"padj\"           \"ensg\"          \n",
      "               pvalue log2FoldChange pct.1 pct.2    padj_bonf         padj\n",
      "ITPKB    3.059161e-36      0.4540786 0.940 0.790 5.988308e-32 9.208074e-34\n",
      "SNX9     8.666889e-31      0.3613397 0.918 0.671 1.696544e-26 1.304367e-28\n",
      "TOGARAM2 3.948680e-19      0.1847094 0.561 0.276 7.729541e-15 3.961842e-17\n",
      "NCR2     7.625715e-18      0.1486083 0.357 0.145 1.492734e-13 5.738351e-16\n",
      "FLNB     5.106173e-17      0.2362530 0.744 0.497 9.995335e-13 3.073916e-15\n",
      "ZC3H18   2.255825e-16      0.1693976 0.428 0.208 4.415778e-12 1.131672e-14\n",
      "                    ensg\n",
      "ITPKB    ENSG00000143772\n",
      "SNX9     ENSG00000130340\n",
      "TOGARAM2 ENSG00000189350\n",
      "NCR2     ENSG00000096264\n",
      "FLNB     ENSG00000136068\n",
      "ZC3H18   ENSG00000158545\n",
      "[1] \"here\"\n",
      "         Gene log2FoldChange\n",
      "ITPKB   ITPKB      0.4540786\n",
      "SNX9     SNX9      0.3613397\n",
      "FLNB     FLNB      0.2362530\n",
      "ZEB1     ZEB1      0.2302126\n",
      "CNOT6L CNOT6L      0.2220542\n",
      "GRK5     GRK5      0.2157367\n"
     ]
    },
    {
     "name": "stderr",
     "output_type": "stream",
     "text": [
      "preparing geneSet collections...\n",
      "\n",
      "GSEA analysis...\n",
      "\n",
      "leading edge analysis...\n",
      "\n",
      "done...\n",
      "\n"
     ]
    },
    {
     "name": "stdout",
     "output_type": "stream",
     "text": [
      "[1] \"result\"\n",
      "[1] \"c0\"\n"
     ]
    },
    {
     "name": "stderr",
     "output_type": "stream",
     "text": [
      "Warning message in summary(egmt[[c]]):\n",
      "“summary method to convert the object to data.frame is deprecated, please use as.data.frame instead.”\n",
      "Saving 6.67 x 6.67 in image\n",
      "\n",
      "preparing geneSet collections...\n",
      "\n",
      "GSEA analysis...\n",
      "\n",
      "no term enriched under specific pvalueCutoff...\n",
      "\n"
     ]
    },
    {
     "name": "stdout",
     "output_type": "stream",
     "text": [
      "[1] \"result\"\n",
      "[1] \"c2\"\n"
     ]
    },
    {
     "name": "stderr",
     "output_type": "stream",
     "text": [
      "Warning message in summary(egmt[[c]]):\n",
      "“summary method to convert the object to data.frame is deprecated, please use as.data.frame instead.”\n",
      "preparing geneSet collections...\n",
      "\n",
      "GSEA analysis...\n",
      "\n",
      "no term enriched under specific pvalueCutoff...\n",
      "\n"
     ]
    },
    {
     "name": "stdout",
     "output_type": "stream",
     "text": [
      "[1] \"result\"\n",
      "[1] \"c5\"\n"
     ]
    },
    {
     "name": "stderr",
     "output_type": "stream",
     "text": [
      "Warning message in summary(egmt[[c]]):\n",
      "“summary method to convert the object to data.frame is deprecated, please use as.data.frame instead.”\n",
      "preparing geneSet collections...\n",
      "\n",
      "GSEA analysis...\n",
      "\n",
      "leading edge analysis...\n",
      "\n",
      "done...\n",
      "\n"
     ]
    },
    {
     "name": "stdout",
     "output_type": "stream",
     "text": [
      "[1] \"result\"\n",
      "[1] \"c7\"\n"
     ]
    },
    {
     "name": "stderr",
     "output_type": "stream",
     "text": [
      "Warning message in summary(egmt[[c]]):\n",
      "“summary method to convert the object to data.frame is deprecated, please use as.data.frame instead.”\n",
      "Saving 6.67 x 6.67 in image\n",
      "\n",
      "Warning message in is.na(egmt[[c]]):\n",
      "“is.na() applied to non-(list or vector) of type 'S4'”\n",
      "Warning message in summary(egmt[[c]]):\n",
      "“summary method to convert the object to data.frame is deprecated, please use as.data.frame instead.”\n",
      "Warning message in is.na(egmt[[c]]):\n",
      "“is.na() applied to non-(list or vector) of type 'S4'”\n",
      "Warning message in summary(egmt[[c]]):\n",
      "“summary method to convert the object to data.frame is deprecated, please use as.data.frame instead.”\n",
      "Warning message in is.na(egmt[[c]]):\n",
      "“is.na() applied to non-(list or vector) of type 'S4'”\n",
      "Warning message in summary(egmt[[c]]):\n",
      "“summary method to convert the object to data.frame is deprecated, please use as.data.frame instead.”\n",
      "Warning message in is.na(egmt[[c]]):\n",
      "“is.na() applied to non-(list or vector) of type 'S4'”\n",
      "Warning message in summary(egmt[[c]]):\n",
      "“summary method to convert the object to data.frame is deprecated, please use as.data.frame instead.”\n"
     ]
    },
    {
     "name": "stdout",
     "output_type": "stream",
     "text": [
      "[1] \"preExcel writing\"\n",
      "[1] \"postExcel writing\"\n",
      "[1] \"Here we go .... :/data/Mito_Trace/output/pipeline/TcellDupi_may17_2021/MTblacklist/data/merged/MT/cellr_True/numread_200/filters/minC10_minR50_topN0_hetT0.001_hetC10_hetCount5_bq20/mgatk/vireoIn/clones/variants_init/knn/kparam_3/concat/gff_hg38_1_2/annotation_clones/de_btwncond_RNA/minPct_0_logfc0.1_p0.1/GSEA_pthresh.0.1_pref.FALSE_stat.log2FoldChange_padj.BH/prep/9_DE.tsv\"\n",
      "[1] \"Myclass\"\n",
      "[1] 387   7\n",
      "[1] 387   7\n",
      "[1] \"pvalue\"         \"log2FoldChange\" \"pct.1\"          \"pct.2\"         \n",
      "[5] \"padj_bonf\"      \"padj\"           \"ensg\"          \n",
      "                    pvalue log2FoldChange pct.1 pct.2    padj_bonf         padj\n",
      "STK19         5.981763e-17      0.1199931 0.325 0.120 1.170930e-12 1.572657e-14\n",
      "DXO           8.127426e-17      0.1194080 0.320 0.118 1.590944e-12 1.572657e-14\n",
      "CTD-2583A14.9 1.582881e-13      0.1044441 0.271 0.104 3.098489e-09 1.768462e-11\n",
      "TRPM2         2.481323e-13      0.1192358 0.206 0.069 4.857190e-09 1.768462e-11\n",
      "YWHAE         2.727871e-13      0.1192306 0.280 0.111 5.339808e-09 1.768462e-11\n",
      "CYB5D2        2.741802e-13      0.1402726 0.421 0.202 5.367078e-09 1.768462e-11\n",
      "                         ensg\n",
      "STK19         ENSG00000204344\n",
      "DXO           ENSG00000204348\n",
      "CTD-2583A14.9            <NA>\n",
      "TRPM2         ENSG00000142185\n",
      "YWHAE         ENSG00000108953\n",
      "CYB5D2        ENSG00000167740\n",
      "[1] \"here\"\n",
      "                         Gene log2FoldChange\n",
      "KIAA1324L           KIAA1324L      0.3952533\n",
      "HNRNPUL2-BSCL2 HNRNPUL2-BSCL2      0.1873524\n",
      "DDAH1                   DDAH1      0.1750359\n",
      "TTC9C                   TTC9C      0.1635019\n",
      "BBX                       BBX      0.1620264\n",
      "CTD-3222D19.2   CTD-3222D19.2      0.1609411\n"
     ]
    },
    {
     "name": "stderr",
     "output_type": "stream",
     "text": [
      "preparing geneSet collections...\n",
      "\n",
      "GSEA analysis...\n",
      "\n",
      "leading edge analysis...\n",
      "\n",
      "done...\n",
      "\n"
     ]
    },
    {
     "name": "stdout",
     "output_type": "stream",
     "text": [
      "[1] \"result\"\n",
      "[1] \"c0\"\n"
     ]
    },
    {
     "name": "stderr",
     "output_type": "stream",
     "text": [
      "Warning message in summary(egmt[[c]]):\n",
      "“summary method to convert the object to data.frame is deprecated, please use as.data.frame instead.”\n",
      "Saving 6.67 x 6.67 in image\n",
      "\n",
      "preparing geneSet collections...\n",
      "\n",
      "GSEA analysis...\n",
      "\n",
      "leading edge analysis...\n",
      "\n",
      "done...\n",
      "\n"
     ]
    },
    {
     "name": "stdout",
     "output_type": "stream",
     "text": [
      "[1] \"result\"\n",
      "[1] \"c2\"\n"
     ]
    },
    {
     "name": "stderr",
     "output_type": "stream",
     "text": [
      "Warning message in summary(egmt[[c]]):\n",
      "“summary method to convert the object to data.frame is deprecated, please use as.data.frame instead.”\n",
      "Saving 6.67 x 6.67 in image\n",
      "\n",
      "preparing geneSet collections...\n",
      "\n",
      "GSEA analysis...\n",
      "\n",
      "no term enriched under specific pvalueCutoff...\n",
      "\n"
     ]
    },
    {
     "name": "stdout",
     "output_type": "stream",
     "text": [
      "[1] \"result\"\n",
      "[1] \"c5\"\n"
     ]
    },
    {
     "name": "stderr",
     "output_type": "stream",
     "text": [
      "Warning message in summary(egmt[[c]]):\n",
      "“summary method to convert the object to data.frame is deprecated, please use as.data.frame instead.”\n",
      "preparing geneSet collections...\n",
      "\n",
      "GSEA analysis...\n",
      "\n",
      "leading edge analysis...\n",
      "\n",
      "done...\n",
      "\n"
     ]
    },
    {
     "name": "stdout",
     "output_type": "stream",
     "text": [
      "[1] \"result\"\n",
      "[1] \"c7\"\n"
     ]
    },
    {
     "name": "stderr",
     "output_type": "stream",
     "text": [
      "Warning message in summary(egmt[[c]]):\n",
      "“summary method to convert the object to data.frame is deprecated, please use as.data.frame instead.”\n",
      "Saving 6.67 x 6.67 in image\n",
      "\n",
      "Warning message in is.na(egmt[[c]]):\n",
      "“is.na() applied to non-(list or vector) of type 'S4'”\n",
      "Warning message in summary(egmt[[c]]):\n",
      "“summary method to convert the object to data.frame is deprecated, please use as.data.frame instead.”\n",
      "Warning message in is.na(egmt[[c]]):\n",
      "“is.na() applied to non-(list or vector) of type 'S4'”\n",
      "Warning message in summary(egmt[[c]]):\n",
      "“summary method to convert the object to data.frame is deprecated, please use as.data.frame instead.”\n",
      "Warning message in is.na(egmt[[c]]):\n",
      "“is.na() applied to non-(list or vector) of type 'S4'”\n",
      "Warning message in summary(egmt[[c]]):\n",
      "“summary method to convert the object to data.frame is deprecated, please use as.data.frame instead.”\n",
      "Warning message in is.na(egmt[[c]]):\n",
      "“is.na() applied to non-(list or vector) of type 'S4'”\n",
      "Warning message in summary(egmt[[c]]):\n",
      "“summary method to convert the object to data.frame is deprecated, please use as.data.frame instead.”\n"
     ]
    },
    {
     "name": "stdout",
     "output_type": "stream",
     "text": [
      "[1] \"preExcel writing\"\n",
      "[1] \"postExcel writing\"\n"
     ]
    }
   ],
   "source": [
    "#rm(list=ls())\n",
    "\n",
    "########################################################################################\n",
    "##  gsea_ex1\n",
    "#---------------------------------------------------------------------------------------\n",
    "#' @description This example is designed to demonstrate how to run gsea analysis on the \n",
    "#'              input files (DESeq2 results) put in the same directory\n",
    "#' @details All the parameter definitions is in the below section of \"Setting Parameter\"\n",
    "#' @return out a list that summarizes the GSEA enrichment analysis\n",
    "#' \n",
    "#' @export exportExcel_fp an excel file of the 'out' can be exported\n",
    "#' @export exportPDF_fp an figure of the GSEA enrichment analysis\n",
    "#' --------------------------------------------------------------------------------------------------\n",
    "#' @author Austin W.T. Chiang\n",
    "#' @note   v1.4 -- 2017.02.15 Add description of ex1, ex2, and idmapping file\n",
    "#' @note   v1.3 -- 2017.02.08 Add function of displaying topN pathways and optimze code\n",
    "#' @note   v1.2 -- 2017.02.06 Add zebrafish2 human id mapping\n",
    "#' @note   v1.1 -- 2017.01.19 Midified for BEN\n",
    "#' @note   v1.0 -- 2016.12.15 File created\n",
    "#' --------------------------------------------------------------------------------------------------\n",
    "########################################################################################\n",
    "gsea_ex1 <- function(DE_out_path = NULL, export_path = NULL,\n",
    "                     IDmappingfile = NULL, convert = FALSE,\n",
    "                     gene_name = TRUE, stat.col=\"log2FoldChange\", GSEA_set = c('c0', 'c2', 'c3'),\n",
    "                     minGSSize = 30, pAdjustMethod = \"none\",\n",
    "                     pvalueCutoff = 0.01, export = \"BOTH\",\n",
    "                     ShowTop = TRUE, TopN = 5, gene_sets_dir=NULL){\n",
    "  DE_out_files <- list.files(path = DE_out_path,pattern=\"*.tsv\", full.names = TRUE)\n",
    "  for(f in DE_out_files){\n",
    "    print(paste0(\"Here we go .... :\", f))\n",
    "    #f <- \"res_geno_dobs_removed_C57BL6_J__M.tsv\"\n",
    "    ## Input the DESeq result file\n",
    "    myClass <- read.csv(f, row.names = 1,sep=\"\\t\")\n",
    "    if(convert == TRUE){\n",
    "      geneMapTable <- read.csv(IDmappingfile, sep = \"\\t\")\n",
    "      myClass <- useIDmappingFile(myClass=myClass,\n",
    "                                  geneMapTable=geneMapTable) #,\n",
    "                                  #Original_attribute=Original_attribute,\n",
    "                                 # Convert_attribute=Co nvert_attribute)\n",
    "    }\n",
    "    \n",
    "    #DEGTable <- subset(myClass, abs(log2FoldChange) >= .58 & (padj < 0.05) )\n",
    "    if (prefilter){\n",
    "        DEGTable <- subset(myClass, (padj < pthresh) )\n",
    "        }\n",
    "      \n",
    "    print(\"Myclass\")\n",
    "    print(dim(myClass))\n",
    "    DEGTable <- subset(myClass, (pct.1 > pct_thresh & pct.2 > pct_thresh) )\n",
    "    print(dim(DEGTable))\n",
    "\n",
    "    print(colnames(DEGTable))\n",
    "    print(head(DEGTable))\n",
    "    if(gene_name==TRUE){\n",
    "      DEGTable$Gene <- DEGTable$gene_name\n",
    "    }else{\n",
    "      print('here')\n",
    "      DEGTable$Gene <- row.names(DEGTable)\n",
    "    }\n",
    "    \n",
    "    DEGTable <- DEGTable[with(DEGTable, order(-log2FoldChange)), ] #order\n",
    "    DEGTable <- DEGTable[,c(\"Gene\",stat.col)]\n",
    "    if (stat.col==\"padj\"){\n",
    "        DEGTable[,stat.col] <- -log10(DEGTable[,stat.col])\n",
    "        DEGTable <- DEGTable[with(DEGTable, order(-padj)), ] #order\n",
    "    }\n",
    "    \n",
    "    \n",
    "\n",
    "    #DEGTable <- DEGTable[order(stat.col, ), ]\n",
    "      \n",
    "    print(head(DEGTable))\n",
    "    ## do the GSEA analysis\n",
    "    f1 <- gsub(\".csv\", \"\", basename(f))\n",
    "    exportExcel_fp = paste0(export_path,f1,\"_gsea.xlsx\")\n",
    "    exportPDF_fp = paste0(export_path,f1,\"_gsea.pdf\")\n",
    "    exportDOT_fp = file.path(export_path,paste0(f1,\"_gsea.dot\"))\n",
    "    GSEA_res <-  AnnotDEG_byGSEA(DEGTable = DEGTable, GSEA_set = GSEA_set,\n",
    "                                 export = export, ShowTop = ShowTop, TopN = TopN,\n",
    "                                 exportExcel_fp = exportExcel_fp,\n",
    "                                 exportPDF_fp = exportPDF_fp,\n",
    "                                 minGSSize = minGSSize, exportDOT_fp=exportDOT_fp,\n",
    "                                 pAdjustMethod = pAdjustMethod, stat.col=stat.col,\n",
    "                                 pvalueCutoff = pvalueCutoff, gene_sets_dir = gene_sets_dir)\n",
    "    \n",
    "    #dotplot(GSEA_res)  \n",
    "    #ggsave(file.path(export_path, paste0(f1, \"_gsea.dot.pdf\")))\n",
    "    \n",
    "  }\n",
    "    return\n",
    "}\n",
    "\n",
    "\n",
    "########################################################################################\n",
    "##  Setting Parameter\n",
    "########################################################################################\n",
    "#' @param DE_out_path the path of the DESeq2 output files \n",
    "#' @param export_path the path that user want to export the GSEA results\n",
    "#' @param convert 'TRUE': need to do id converion; 'FALSE': no id conversion needed  \n",
    "#' @param IDmappingfile the idmapping file show that user's id to human gene name\n",
    "#' @param gene_name 'TRUE': there is a columan \"gene_name\" in the input files (i.e. DESeq2 output files)\n",
    "#' @param GSEA_set = c('c0', 'c2', 'c3')\n",
    "#'                 co - hallmark gene sets;       c1 - positional gene sets; \n",
    "#'                 c2 - curated gene sets;        c3 - motif gene sets;\n",
    "#'                 c4 - computational gene sets;  c5 - GO gene sets;\n",
    "#'                 c6 - oncogenic signatures;     c7 - immunologic signatures. \n",
    "#'                 (http://software.broadinstitute.org/gsea/msigdb/collections.jsp#C2)\n",
    "#' @param minGSSize minimum size of genes for a specific GSEA gene set\n",
    "#' @param pAdjustMethod one of \"holm\", \"hochberg\", \"hommel\", \"bonferroni\", \"BH\", \"BY\", \"fdr\", \"none\"\n",
    "#' @param pvalueCutoff cutoff of pvalue in the GSEA enrichment analysis \n",
    "#' @param export option for exporting GSEA result: \"EXCEL\", \"PDF\", or \"BOTH\"\n",
    "#' @param ShowTop 'TRUE': the visualization will display only the top and bottom N gene sets; \n",
    "#'                'FALSE': all of the significant gsea gene sets will be displayed \n",
    "#'                        --> Note that: it is usually results in too many gene sets, which are not easy to see anything    \n",
    "#' @param TopN this parameter indicate how many gene sets need to be displayed in the plots\n",
    "########################################################################################\n",
    "\n",
    "# DE_out_path <- DE.out.path\n",
    "# export_path <- \n",
    "#IDmappingfile <- \"\" #\"mouse2human.txt\" #\"Data/zebrafish2human_idmapping.txt\"\n",
    "convert = FALSE\n",
    "gene_name = FALSE \n",
    "GSEA_set = c('c0', 'c2', 'c5', 'c7')\n",
    "minGSSize = 10 #20 #30\n",
    "pAdjustMethod = \"BH\"\n",
    "pvalueCutoff = pthresh\n",
    "export = \"BOTH\"\n",
    "ShowTop = TRUE \n",
    "TopN = 10\n",
    "\n",
    "\n",
    "########################################################################################\n",
    "##  RUN gsea_ex1\n",
    "########################################################################################\n",
    "gsea_ex1(DE_out_path = export.path.prep, export_path = export.path, gene_name = gene_name,\n",
    "         convert = convert, GSEA_set = GSEA_set, minGSSize = minGSSize,\n",
    "         pAdjustMethod = padjmethod,  pvalueCutoff = gsea_pthresh,\n",
    "         export = export, ShowTop = ShowTop,  stat.col=stat_col ,\n",
    "         TopN = TopN, gene_sets_dir=gsea_dir)"
   ]
  },
  {
   "cell_type": "code",
   "execution_count": 12,
   "id": "e4828454",
   "metadata": {},
   "outputs": [],
   "source": [
    "# require(DOSE)\n",
    "# dotplot(gse, showCategory=10, split=\".sign\") + facet_grid(.~.sign)"
   ]
  },
  {
   "cell_type": "code",
   "execution_count": 13,
   "id": "c8624952",
   "metadata": {
    "scrolled": true
   },
   "outputs": [
    {
     "data": {
      "text/html": [
       "'/data/Mito_Trace/output/pipeline/TcellDupi_may17_2021/MTblacklist/data/merged/MT/cellr_True/numread_200/filters/minC10_minR50_topN0_hetT0.001_hetC10_hetCount5_bq20/mgatk/vireoIn/clones/variants_init/knn/kparam_3/concat/gff_hg38_1_2/annotation_clones/de_btwncond_RNA/minPct_0_logfc0.1_p0.1/GSEA_pthresh.0.1_pref.FALSE_stat.log2FoldChange_padj.BH/'"
      ],
      "text/latex": [
       "'/data/Mito\\_Trace/output/pipeline/TcellDupi\\_may17\\_2021/MTblacklist/data/merged/MT/cellr\\_True/numread\\_200/filters/minC10\\_minR50\\_topN0\\_hetT0.001\\_hetC10\\_hetCount5\\_bq20/mgatk/vireoIn/clones/variants\\_init/knn/kparam\\_3/concat/gff\\_hg38\\_1\\_2/annotation\\_clones/de\\_btwncond\\_RNA/minPct\\_0\\_logfc0.1\\_p0.1/GSEA\\_pthresh.0.1\\_pref.FALSE\\_stat.log2FoldChange\\_padj.BH/'"
      ],
      "text/markdown": [
       "'/data/Mito_Trace/output/pipeline/TcellDupi_may17_2021/MTblacklist/data/merged/MT/cellr_True/numread_200/filters/minC10_minR50_topN0_hetT0.001_hetC10_hetCount5_bq20/mgatk/vireoIn/clones/variants_init/knn/kparam_3/concat/gff_hg38_1_2/annotation_clones/de_btwncond_RNA/minPct_0_logfc0.1_p0.1/GSEA_pthresh.0.1_pref.FALSE_stat.log2FoldChange_padj.BH/'"
      ],
      "text/plain": [
       "[1] \"/data/Mito_Trace/output/pipeline/TcellDupi_may17_2021/MTblacklist/data/merged/MT/cellr_True/numread_200/filters/minC10_minR50_topN0_hetT0.001_hetC10_hetCount5_bq20/mgatk/vireoIn/clones/variants_init/knn/kparam_3/concat/gff_hg38_1_2/annotation_clones/de_btwncond_RNA/minPct_0_logfc0.1_p0.1/GSEA_pthresh.0.1_pref.FALSE_stat.log2FoldChange_padj.BH/\""
      ]
     },
     "metadata": {},
     "output_type": "display_data"
    }
   ],
   "source": [
    "export.path"
   ]
  },
  {
   "cell_type": "code",
   "execution_count": 14,
   "id": "8e3f179e",
   "metadata": {
    "scrolled": true
   },
   "outputs": [
    {
     "data": {
      "text/plain": [
       "R version 4.1.1 (2021-08-10)\n",
       "Platform: x86_64-conda-linux-gnu (64-bit)\n",
       "Running under: Ubuntu 20.04.3 LTS\n",
       "\n",
       "Matrix products: default\n",
       "BLAS/LAPACK: /home/isaac/miniconda3/envs/rgsea/lib/libopenblasp-r0.3.18.so\n",
       "\n",
       "locale:\n",
       " [1] LC_CTYPE=en_US.UTF-8       LC_NUMERIC=C              \n",
       " [3] LC_TIME=en_US.UTF-8        LC_COLLATE=en_US.UTF-8    \n",
       " [5] LC_MONETARY=en_US.UTF-8    LC_MESSAGES=en_US.UTF-8   \n",
       " [7] LC_PAPER=en_US.UTF-8       LC_NAME=C                 \n",
       " [9] LC_ADDRESS=C               LC_TELEPHONE=C            \n",
       "[11] LC_MEASUREMENT=en_US.UTF-8 LC_IDENTIFICATION=C       \n",
       "\n",
       "attached base packages:\n",
       "[1] stats4    stats     graphics  grDevices utils     datasets  methods  \n",
       "[8] base     \n",
       "\n",
       "other attached packages:\n",
       " [1] stringr_1.4.0         ggplot2_3.3.5         dplyr_1.0.7          \n",
       " [4] openxlsx_4.2.4        data.table_1.14.2     gdata_2.18.0         \n",
       " [7] DOSE_3.20.0           org.Hs.eg.db_3.14.0   biomaRt_2.50.0       \n",
       "[10] GSEABase_1.56.0       graph_1.72.0          annotate_1.72.0      \n",
       "[13] XML_3.99-0.8          AnnotationDbi_1.56.1  IRanges_2.28.0       \n",
       "[16] S4Vectors_0.32.0      Biobase_2.54.0        BiocGenerics_0.40.0  \n",
       "[19] clusterProfiler_4.2.0\n",
       "\n",
       "loaded via a namespace (and not attached):\n",
       "  [1] fgsea_1.20.0           colorspace_2.0-2       ggtree_3.2.0          \n",
       "  [4] ellipsis_0.3.2         IRdisplay_1.0          qvalue_2.26.0         \n",
       "  [7] XVector_0.34.0         base64enc_0.1-3        aplot_0.1.1           \n",
       " [10] farver_2.1.0           graphlayouts_0.7.2     ggrepel_0.9.1         \n",
       " [13] bit64_4.0.5            fansi_0.4.2            scatterpie_0.1.6      \n",
       " [16] xml2_1.3.3             splines_4.1.1          cachem_1.0.6          \n",
       " [19] GOSemSim_2.20.0        polyclip_1.10-0        IRkernel_1.2          \n",
       " [22] jsonlite_1.7.2         dbplyr_2.1.1           GO.db_3.14.0          \n",
       " [25] png_0.1-7              ggforce_0.3.3          BiocManager_1.30.16   \n",
       " [28] compiler_4.1.1         httr_1.4.2             rvcheck_0.1.8         \n",
       " [31] assertthat_0.2.1       Matrix_1.3-4           fastmap_1.1.0         \n",
       " [34] lazyeval_0.2.2         tweenr_1.0.2           prettyunits_1.1.1     \n",
       " [37] htmltools_0.5.2        tools_4.1.1            igraph_1.2.9          \n",
       " [40] gtable_0.3.0           glue_1.5.1             GenomeInfoDbData_1.2.7\n",
       " [43] reshape2_1.4.4         DO.db_2.9              rappdirs_0.3.3        \n",
       " [46] fastmatch_1.1-3        Rcpp_1.0.7             enrichplot_1.14.1     \n",
       " [49] vctrs_0.3.8            Biostrings_2.62.0      ape_5.5               \n",
       " [52] nlme_3.1-153           ggraph_2.0.5           lifecycle_1.0.1       \n",
       " [55] gtools_3.9.2           zlibbioc_1.40.0        MASS_7.3-54           \n",
       " [58] scales_1.1.1           tidygraph_1.2.0        hms_1.1.1             \n",
       " [61] parallel_4.1.1         RColorBrewer_1.1-2     curl_4.3.2            \n",
       " [64] memoise_2.0.1          gridExtra_2.3          downloader_0.4        \n",
       " [67] ggfun_0.0.4            yulab.utils_0.0.4      stringi_1.7.6         \n",
       " [70] RSQLite_2.2.8          tidytree_0.3.6         filelock_1.0.2        \n",
       " [73] zip_2.2.0              BiocParallel_1.28.0    repr_1.1.3            \n",
       " [76] GenomeInfoDb_1.30.0    rlang_0.4.12           pkgconfig_2.0.3       \n",
       " [79] bitops_1.0-7           evaluate_0.14          lattice_0.20-45       \n",
       " [82] purrr_0.3.4            labeling_0.4.2         treeio_1.18.0         \n",
       " [85] patchwork_1.1.1        shadowtext_0.0.9       bit_4.0.4             \n",
       " [88] tidyselect_1.1.1       plyr_1.8.6             magrittr_2.0.1        \n",
       " [91] R6_2.5.1               generics_0.1.1         pbdZMQ_0.3-6          \n",
       " [94] DBI_1.1.1              withr_2.4.3            pillar_1.6.4          \n",
       " [97] KEGGREST_1.34.0        RCurl_1.98-1.5         tibble_3.1.6          \n",
       "[100] crayon_1.4.2           uuid_1.0-3             utf8_1.2.2            \n",
       "[103] BiocFileCache_2.2.0    progress_1.2.2         viridis_0.6.2         \n",
       "[106] grid_4.1.1             blob_1.2.2             digest_0.6.29         \n",
       "[109] xtable_1.8-4           tidyr_1.1.4            gridGraphics_0.5-1    \n",
       "[112] munsell_0.5.0          viridisLite_0.4.0      ggplotify_0.1.0       "
      ]
     },
     "metadata": {},
     "output_type": "display_data"
    }
   ],
   "source": [
    "sessionInfo()"
   ]
  },
  {
   "cell_type": "code",
   "execution_count": null,
   "id": "686d6487",
   "metadata": {},
   "outputs": [],
   "source": []
  },
  {
   "cell_type": "markdown",
   "id": "d0c01837",
   "metadata": {},
   "source": [
    "### "
   ]
  }
 ],
 "metadata": {
  "celltoolbar": "Tags",
  "kernelspec": {
   "display_name": "R",
   "language": "R",
   "name": "ir"
  },
  "language_info": {
   "codemirror_mode": "r",
   "file_extension": ".r",
   "mimetype": "text/x-r-source",
   "name": "R",
   "pygments_lexer": "r",
   "version": "4.1.1"
  }
 },
 "nbformat": 4,
 "nbformat_minor": 5
}
