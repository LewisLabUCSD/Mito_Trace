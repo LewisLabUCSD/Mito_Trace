{
 "cells": [
  {
   "cell_type": "markdown",
   "id": "223d6f46",
   "metadata": {},
   "source": [
    "## Runs DE on different clusters. Also runs DE within each cluster for each condition.\n",
    "Does this over each donor and combined"
   ]
  },
  {
   "cell_type": "code",
   "execution_count": 1,
   "id": "235ae72f",
   "metadata": {
    "tags": [
     "parameters"
    ]
   },
   "outputs": [],
   "source": [
    "# Input info\n",
    "# se_f = \"/data/Mito_Trace/output/pipeline/DUPI_april08_2021/MTblacklist_mtasnucl_Bonly/data/merged/MT/cellr_True/numread_200/filters/minC10_minR50_topN0_hetT0.001_hetC10_hetCount5_bq20/mgatk/vireoIn/clones/variants_init/knn/kparam_3/concat/gff_hg38_1_2/annotation_clones/SE.rds\"\n",
    "# sample_names = \"preB,postB\"\n",
    "# outdir = \"/data/Mito_Trace/output/pipeline/DUPI_april08_2021/MTblacklist_mtasnucl_Bonly/data/merged/MT/cellr_True/numread_200/filters/minC10_minR50_topN0_hetT0.001_hetC10_hetCount5_bq20/mgatk/vireoIn/clones/variants_init/knn/kparam_3/concat/gff_hg38_1_2/annotation_clones/de_btwnCond_RNA/minPct_0_logfc0.01\"\n",
    "# top_de = 3\n",
    "# se_f = \"/data/Mito_Trace/output/pipeline/TcellDupi_may17_2021/MTblacklist/data/merged/MT/cellr_True/numread_200/filters/minC10_minR50_topN0_hetT0.001_hetC10_hetCount5_bq20/mgatk/vireoIn/clones/variants_init/knn/kparam_3/concat/gff_hg38_1_2/annotation_clones/SE.rds\" \n",
    "# outdir = \"/data/Mito_Trace/output/pipeline/TcellDupi_may17_2021/MTblacklist/data/merged/MT/cellr_True/numread_200/filters/minC10_minR50_topN0_hetT0.001_hetC10_hetCount5_bq20/mgatk/vireoIn/clones/variants_init/knn/kparam_3/concat/gff_hg38_1_2/annotation_clones\"\n",
    "# top_de = 3\n",
    "# sample_names = \"pre,post\"\n",
    "\n",
    "\n",
    "se_f = \"/data/Mito_Trace/output/pipeline/TcellDupi_may17_2021/MTblacklist/data/merged/MT/cellr_True/numread_200/filters/minC10_minR50_topN0_hetT0.001_hetC10_hetCount5_bq20/mgatk/vireoIn/clones/variants_init/knn/kparam_3/concat/gff_hg38_1_2/annotation_clones/SE.rds\"\n",
    "cells_meta_f = \"/data/Mito_Trace/output/pipeline/TcellDupi_may17_2021/MTblacklist/data/merged/MT/cellr_True/numread_200/filters/minC10_minR50_topN0_hetT0.001_hetC10_hetCount5_bq20/mgatk/vireoIn/multiplex/mt_clones/cells_meta.tsv\"\n",
    "outdir = \"/data/Mito_Trace/output/pipeline/TcellDupi_may17_2021/MTblacklist/data/merged/MT/cellr_True/numread_200/filters/minC10_minR50_topN0_hetT0.001_hetC10_hetCount5_bq20/mgatk/vireoIn/clones/variants_init/knn/kparam_3/concat/gff_hg38_1_2/annotation_clones/de_clone_btwnvars_RNA/\"\n",
    "sample_names = \"pre,post\"\n",
    "\n",
    "\n",
    "# Parameters\n",
    "ncells_thresh = 10\n",
    "minPct = 0.00\n",
    "logfcthresh = 0.1\n",
    "test.use=\"wilcox\"\n",
    "latent.vars = \"NULL\"\n",
    "p_thresh = 0.1 \n",
    "top_de = 3\n",
    "ids.reversed = T\n",
    "\n",
    "\n",
    "# Parallel processing\n",
    "cores = 4\n",
    "# R utils script\n",
    "utils_script <- \"/data/Mito_Trace/R_scripts/seurat_utils.R\"\n"
   ]
  },
  {
   "cell_type": "code",
   "execution_count": 2,
   "id": "571089b8",
   "metadata": {
    "scrolled": true
   },
   "outputs": [
    {
     "name": "stderr",
     "output_type": "stream",
     "text": [
      "Loading required package: stats4\n",
      "\n",
      "Loading required package: BiocGenerics\n",
      "\n",
      "\n",
      "Attaching package: ‘BiocGenerics’\n",
      "\n",
      "\n",
      "The following objects are masked from ‘package:stats’:\n",
      "\n",
      "    IQR, mad, sd, var, xtabs\n",
      "\n",
      "\n",
      "The following objects are masked from ‘package:base’:\n",
      "\n",
      "    anyDuplicated, append, as.data.frame, basename, cbind, colnames,\n",
      "    dirname, do.call, duplicated, eval, evalq, Filter, Find, get, grep,\n",
      "    grepl, intersect, is.unsorted, lapply, Map, mapply, match, mget,\n",
      "    order, paste, pmax, pmax.int, pmin, pmin.int, Position, rank,\n",
      "    rbind, Reduce, rownames, sapply, setdiff, sort, table, tapply,\n",
      "    union, unique, unsplit, which.max, which.min\n",
      "\n",
      "\n",
      "Loading required package: S4Vectors\n",
      "\n",
      "\n",
      "Attaching package: ‘S4Vectors’\n",
      "\n",
      "\n",
      "The following objects are masked from ‘package:base’:\n",
      "\n",
      "    expand.grid, I, unname\n",
      "\n",
      "\n",
      "Loading required package: IRanges\n",
      "\n",
      "Loading required package: GenomeInfoDb\n",
      "\n",
      "Attaching SeuratObject\n",
      "\n",
      "Loading required package: ensembldb\n",
      "\n",
      "Loading required package: GenomicFeatures\n",
      "\n",
      "Loading required package: AnnotationDbi\n",
      "\n",
      "Loading required package: Biobase\n",
      "\n",
      "Welcome to Bioconductor\n",
      "\n",
      "    Vignettes contain introductory material; view with\n",
      "    'browseVignettes()'. To cite Bioconductor, see\n",
      "    'citation(\"Biobase\")', and for packages 'citation(\"pkgname\")'.\n",
      "\n",
      "\n",
      "Loading required package: AnnotationFilter\n",
      "\n",
      "\n",
      "Attaching package: 'ensembldb'\n",
      "\n",
      "\n",
      "The following object is masked from 'package:stats':\n",
      "\n",
      "    filter\n",
      "\n",
      "\n",
      "\n",
      "Attaching package: 'data.table'\n",
      "\n",
      "\n",
      "The following object is masked from 'package:GenomicRanges':\n",
      "\n",
      "    shift\n",
      "\n",
      "\n",
      "The following object is masked from 'package:IRanges':\n",
      "\n",
      "    shift\n",
      "\n",
      "\n",
      "The following objects are masked from 'package:S4Vectors':\n",
      "\n",
      "    first, second\n",
      "\n",
      "\n",
      "\n",
      "Attaching package: 'magrittr'\n",
      "\n",
      "\n",
      "The following object is masked from 'package:AnnotationFilter':\n",
      "\n",
      "    not\n",
      "\n",
      "\n",
      "\n",
      "Attaching package: 'cowplot'\n",
      "\n",
      "\n",
      "The following object is masked from 'package:patchwork':\n",
      "\n",
      "    align_plots\n",
      "\n",
      "\n",
      "\n",
      "Attaching package: 'dplyr'\n",
      "\n",
      "\n",
      "The following objects are masked from 'package:data.table':\n",
      "\n",
      "    between, first, last\n",
      "\n",
      "\n",
      "The following objects are masked from 'package:ensembldb':\n",
      "\n",
      "    filter, select\n",
      "\n",
      "\n",
      "The following object is masked from 'package:AnnotationDbi':\n",
      "\n",
      "    select\n",
      "\n",
      "\n",
      "The following object is masked from 'package:Biobase':\n",
      "\n",
      "    combine\n",
      "\n",
      "\n",
      "The following objects are masked from 'package:GenomicRanges':\n",
      "\n",
      "    intersect, setdiff, union\n",
      "\n",
      "\n",
      "The following object is masked from 'package:GenomeInfoDb':\n",
      "\n",
      "    intersect\n",
      "\n",
      "\n",
      "The following objects are masked from 'package:IRanges':\n",
      "\n",
      "    collapse, desc, intersect, setdiff, slice, union\n",
      "\n",
      "\n",
      "The following objects are masked from 'package:S4Vectors':\n",
      "\n",
      "    first, intersect, rename, setdiff, setequal, union\n",
      "\n",
      "\n",
      "The following objects are masked from 'package:BiocGenerics':\n",
      "\n",
      "    combine, intersect, setdiff, union\n",
      "\n",
      "\n",
      "The following objects are masked from 'package:stats':\n",
      "\n",
      "    filter, lag\n",
      "\n",
      "\n",
      "The following objects are masked from 'package:base':\n",
      "\n",
      "    intersect, setdiff, setequal, union\n",
      "\n",
      "\n",
      "\n",
      "Attaching package: 'future'\n",
      "\n",
      "\n",
      "The following object is masked from 'package:AnnotationFilter':\n",
      "\n",
      "    value\n",
      "\n",
      "\n",
      "The following object is masked from 'package:GenomicRanges':\n",
      "\n",
      "    values\n",
      "\n",
      "\n",
      "The following object is masked from 'package:S4Vectors':\n",
      "\n",
      "    values\n",
      "\n",
      "\n"
     ]
    },
    {
     "data": {
      "text/html": [
       "<pre class=language-r><code>structure(function (..., envir = parent.frame()) \n",
       "{\n",
       "<span style=white-space:pre-wrap>    future &lt;- SequentialFuture(..., envir = envir)</span>\n",
       "<span style=white-space:pre-wrap>    if (!future$lazy) </span>\n",
       "<span style=white-space:pre-wrap>        future &lt;- run(future)</span>\n",
       "<span style=white-space:pre-wrap>    invisible(future)</span>\n",
       "}, class = c(\"FutureStrategy\", \"sequential\", \"uniprocess\", \"future\", \n",
       "\"function\"))</code></pre>"
      ],
      "text/latex": [
       "\\begin{minted}{r}\n",
       "structure(function (..., envir = parent.frame()) \n",
       "\\{\n",
       "    future <- SequentialFuture(..., envir = envir)\n",
       "    if (!future\\$lazy) \n",
       "        future <- run(future)\n",
       "    invisible(future)\n",
       "\\}, class = c(\"FutureStrategy\", \"sequential\", \"uniprocess\", \"future\", \n",
       "\"function\"))\n",
       "\\end{minted}"
      ],
      "text/markdown": [
       "```r\n",
       "structure(function (..., envir = parent.frame()) \n",
       "{\n",
       "    future <- SequentialFuture(..., envir = envir)\n",
       "    if (!future$lazy) \n",
       "        future <- run(future)\n",
       "    invisible(future)\n",
       "}, class = c(\"FutureStrategy\", \"sequential\", \"uniprocess\", \"future\", \n",
       "\"function\"))\n",
       "```"
      ],
      "text/plain": [
       "sequential:\n",
       "- args: function (..., envir = parent.frame())\n",
       "- tweaked: FALSE\n",
       "- call: NULL"
      ]
     },
     "metadata": {},
     "output_type": "display_data"
    },
    {
     "name": "stderr",
     "output_type": "stream",
     "text": [
      "Warning message:\n",
      "\"Strategy 'multiprocess' is deprecated in future (>= 1.20.0). Instead, explicitly specify either 'multisession' or 'multicore'. In the current R session, 'multiprocess' equals 'multicore'.\"\n"
     ]
    }
   ],
   "source": [
    "library(GenomicRanges)\n",
    "library(Seurat)\n",
    "library(Signac)\n",
    "library(GenomeInfoDb)\n",
    "library(EnsDb.Hsapiens.v75)\n",
    "library(ggplot2)\n",
    "library(patchwork)\n",
    "set.seed(1234)\n",
    "library(data.table)\n",
    "library(magrittr)\n",
    "library(cowplot)\n",
    "library(metap)\n",
    "library(\"RColorBrewer\")\n",
    "library(dplyr)\n",
    "library(future)\n",
    "plan()\n",
    "\n",
    "plan(\"multiprocess\", workers = cores)\n",
    "#options(future.globals.maxSize = 50000 * 1024^2) # for 50 Gb RAM\n",
    "options(future.globals.maxSize = 8000 * 1024^2)"
   ]
  },
  {
   "cell_type": "code",
   "execution_count": 3,
   "id": "dea55f61",
   "metadata": {},
   "outputs": [],
   "source": [
    "source(utils_script)"
   ]
  },
  {
   "cell_type": "code",
   "execution_count": 4,
   "id": "d52360db",
   "metadata": {
    "scrolled": true
   },
   "outputs": [
    {
     "data": {
      "text/html": [
       "<style>\n",
       ".list-inline {list-style: none; margin:0; padding: 0}\n",
       ".list-inline>li {display: inline-block}\n",
       ".list-inline>li:not(:last-child)::after {content: \"\\00b7\"; padding: 0 .5ex}\n",
       "</style>\n",
       "<ol class=list-inline><li>'pre'</li><li>'post'</li></ol>\n"
      ],
      "text/latex": [
       "\\begin{enumerate*}\n",
       "\\item 'pre'\n",
       "\\item 'post'\n",
       "\\end{enumerate*}\n"
      ],
      "text/markdown": [
       "1. 'pre'\n",
       "2. 'post'\n",
       "\n",
       "\n"
      ],
      "text/plain": [
       "[1] \"pre\"  \"post\""
      ]
     },
     "metadata": {},
     "output_type": "display_data"
    }
   ],
   "source": [
    "sample_names <- unlist(strsplit(sample_names, \",\")[[1]])\n",
    "sample_names"
   ]
  },
  {
   "cell_type": "code",
   "execution_count": 5,
   "id": "a76fdca2",
   "metadata": {},
   "outputs": [],
   "source": [
    "dir.create(outdir)"
   ]
  },
  {
   "cell_type": "code",
   "execution_count": 6,
   "id": "aaec9d83",
   "metadata": {
    "scrolled": true
   },
   "outputs": [
    {
     "data": {
      "text/html": [
       "<table class=\"dataframe\">\n",
       "<caption>A data.frame: 14760 × 44</caption>\n",
       "<thead>\n",
       "\t<tr><th></th><th scope=col>X10646T</th><th scope=col>X12295C</th><th scope=col>X13188T</th><th scope=col>X14568A</th><th scope=col>X14766T</th><th scope=col>X150T</th><th scope=col>X16126C</th><th scope=col>X16362C</th><th scope=col>X16537T</th><th scope=col>X2351C</th><th scope=col>⋯</th><th scope=col>X57C</th><th scope=col>X58C</th><th scope=col>X6093A</th><th scope=col>X6456A</th><th scope=col>X66T</th><th scope=col>X6776C</th><th scope=col>X7595A</th><th scope=col>X7775A</th><th scope=col>X8770T</th><th scope=col>X9087A</th></tr>\n",
       "\t<tr><th></th><th scope=col>&lt;int&gt;</th><th scope=col>&lt;int&gt;</th><th scope=col>&lt;int&gt;</th><th scope=col>&lt;int&gt;</th><th scope=col>&lt;int&gt;</th><th scope=col>&lt;int&gt;</th><th scope=col>&lt;int&gt;</th><th scope=col>&lt;int&gt;</th><th scope=col>&lt;int&gt;</th><th scope=col>&lt;int&gt;</th><th scope=col>⋯</th><th scope=col>&lt;int&gt;</th><th scope=col>&lt;int&gt;</th><th scope=col>&lt;int&gt;</th><th scope=col>&lt;int&gt;</th><th scope=col>&lt;int&gt;</th><th scope=col>&lt;int&gt;</th><th scope=col>&lt;int&gt;</th><th scope=col>&lt;int&gt;</th><th scope=col>&lt;int&gt;</th><th scope=col>&lt;int&gt;</th></tr>\n",
       "</thead>\n",
       "<tbody>\n",
       "\t<tr><th scope=row>AAACGAAAGCGTTGCC-1_post</th><td>0</td><td>0</td><td>0</td><td>0</td><td>1</td><td>0</td><td>0</td><td>0</td><td>0</td><td>0</td><td>⋯</td><td>0</td><td>0</td><td>0</td><td>0</td><td>0</td><td>0</td><td>0</td><td>0</td><td>0</td><td>0</td></tr>\n",
       "\t<tr><th scope=row>AAACGAAAGGCTCCTG-1_pre</th><td>0</td><td>0</td><td>0</td><td>0</td><td>0</td><td>0</td><td>0</td><td>0</td><td>0</td><td>0</td><td>⋯</td><td>0</td><td>0</td><td>0</td><td>0</td><td>0</td><td>0</td><td>0</td><td>0</td><td>0</td><td>0</td></tr>\n",
       "\t<tr><th scope=row>AAACGAAAGGTTAACA-1_post</th><td>0</td><td>0</td><td>0</td><td>0</td><td>0</td><td>0</td><td>0</td><td>0</td><td>0</td><td>0</td><td>⋯</td><td>0</td><td>0</td><td>0</td><td>0</td><td>0</td><td>0</td><td>0</td><td>0</td><td>0</td><td>0</td></tr>\n",
       "\t<tr><th scope=row>AAACGAAAGTGAATAC-1_pre</th><td>0</td><td>0</td><td>0</td><td>0</td><td>0</td><td>0</td><td>0</td><td>0</td><td>0</td><td>0</td><td>⋯</td><td>0</td><td>0</td><td>0</td><td>0</td><td>0</td><td>0</td><td>0</td><td>0</td><td>0</td><td>0</td></tr>\n",
       "\t<tr><th scope=row>AAACGAAAGTGCTAGG-1_post</th><td>0</td><td>0</td><td>0</td><td>0</td><td>0</td><td>0</td><td>0</td><td>0</td><td>0</td><td>0</td><td>⋯</td><td>0</td><td>0</td><td>0</td><td>0</td><td>0</td><td>0</td><td>0</td><td>0</td><td>0</td><td>0</td></tr>\n",
       "\t<tr><th scope=row>AAACGAAAGTGTCACT-1_pre</th><td>0</td><td>0</td><td>0</td><td>0</td><td>0</td><td>0</td><td>0</td><td>0</td><td>0</td><td>0</td><td>⋯</td><td>0</td><td>0</td><td>0</td><td>0</td><td>0</td><td>0</td><td>0</td><td>0</td><td>0</td><td>0</td></tr>\n",
       "\t<tr><th scope=row>AAACGAACATAGAATG-1_post</th><td>0</td><td>0</td><td>0</td><td>0</td><td>0</td><td>0</td><td>0</td><td>0</td><td>0</td><td>0</td><td>⋯</td><td>0</td><td>0</td><td>0</td><td>0</td><td>0</td><td>0</td><td>0</td><td>0</td><td>0</td><td>0</td></tr>\n",
       "\t<tr><th scope=row>AAACGAACATAGGCGA-1_pre</th><td>0</td><td>0</td><td>0</td><td>0</td><td>0</td><td>0</td><td>0</td><td>0</td><td>0</td><td>0</td><td>⋯</td><td>0</td><td>0</td><td>0</td><td>0</td><td>0</td><td>0</td><td>0</td><td>0</td><td>0</td><td>0</td></tr>\n",
       "\t<tr><th scope=row>AAACGAACATCCCAAA-1_post</th><td>0</td><td>0</td><td>0</td><td>0</td><td>0</td><td>0</td><td>0</td><td>0</td><td>0</td><td>0</td><td>⋯</td><td>0</td><td>0</td><td>0</td><td>0</td><td>0</td><td>0</td><td>0</td><td>0</td><td>0</td><td>0</td></tr>\n",
       "\t<tr><th scope=row>AAACGAAGTACAAGCG-1_post</th><td>0</td><td>0</td><td>0</td><td>0</td><td>0</td><td>0</td><td>0</td><td>0</td><td>0</td><td>0</td><td>⋯</td><td>0</td><td>0</td><td>0</td><td>0</td><td>0</td><td>0</td><td>0</td><td>0</td><td>0</td><td>0</td></tr>\n",
       "\t<tr><th scope=row>AAACGAAGTCCCGTGA-1_post</th><td>0</td><td>0</td><td>0</td><td>0</td><td>0</td><td>0</td><td>0</td><td>0</td><td>0</td><td>0</td><td>⋯</td><td>0</td><td>0</td><td>0</td><td>0</td><td>0</td><td>0</td><td>0</td><td>0</td><td>0</td><td>0</td></tr>\n",
       "\t<tr><th scope=row>AAACGAAGTTAACTCG-1_pre</th><td>0</td><td>0</td><td>0</td><td>0</td><td>0</td><td>0</td><td>0</td><td>0</td><td>0</td><td>0</td><td>⋯</td><td>0</td><td>0</td><td>0</td><td>0</td><td>0</td><td>0</td><td>0</td><td>0</td><td>0</td><td>0</td></tr>\n",
       "\t<tr><th scope=row>AAACGAAGTTTCAGCA-1_post</th><td>0</td><td>0</td><td>0</td><td>0</td><td>0</td><td>0</td><td>0</td><td>0</td><td>0</td><td>0</td><td>⋯</td><td>0</td><td>0</td><td>0</td><td>0</td><td>0</td><td>0</td><td>0</td><td>0</td><td>0</td><td>0</td></tr>\n",
       "\t<tr><th scope=row>AAACTCGAGACGACTG-1_post</th><td>0</td><td>0</td><td>0</td><td>0</td><td>0</td><td>0</td><td>0</td><td>0</td><td>0</td><td>0</td><td>⋯</td><td>0</td><td>0</td><td>0</td><td>0</td><td>0</td><td>0</td><td>0</td><td>0</td><td>0</td><td>0</td></tr>\n",
       "\t<tr><th scope=row>AAACTCGAGGGCTCTC-1_post</th><td>0</td><td>0</td><td>0</td><td>0</td><td>0</td><td>0</td><td>0</td><td>0</td><td>0</td><td>0</td><td>⋯</td><td>0</td><td>0</td><td>0</td><td>0</td><td>0</td><td>0</td><td>0</td><td>0</td><td>0</td><td>0</td></tr>\n",
       "\t<tr><th scope=row>AAACTCGAGGTCTTTG-1_post</th><td>0</td><td>0</td><td>0</td><td>0</td><td>0</td><td>0</td><td>0</td><td>0</td><td>0</td><td>0</td><td>⋯</td><td>0</td><td>0</td><td>0</td><td>0</td><td>0</td><td>0</td><td>0</td><td>0</td><td>0</td><td>0</td></tr>\n",
       "\t<tr><th scope=row>AAACTCGAGGTTTCTG-1_post</th><td>0</td><td>0</td><td>0</td><td>0</td><td>0</td><td>0</td><td>0</td><td>0</td><td>0</td><td>0</td><td>⋯</td><td>0</td><td>0</td><td>0</td><td>0</td><td>0</td><td>0</td><td>0</td><td>0</td><td>0</td><td>0</td></tr>\n",
       "\t<tr><th scope=row>AAACTCGAGTGTCACT-1_pre</th><td>0</td><td>0</td><td>0</td><td>0</td><td>0</td><td>0</td><td>0</td><td>0</td><td>0</td><td>0</td><td>⋯</td><td>0</td><td>0</td><td>0</td><td>0</td><td>0</td><td>0</td><td>0</td><td>0</td><td>0</td><td>0</td></tr>\n",
       "\t<tr><th scope=row>AAACTCGCAAAGGTCG-1_pre</th><td>0</td><td>0</td><td>1</td><td>0</td><td>0</td><td>0</td><td>0</td><td>0</td><td>0</td><td>0</td><td>⋯</td><td>0</td><td>0</td><td>0</td><td>0</td><td>0</td><td>0</td><td>0</td><td>0</td><td>0</td><td>0</td></tr>\n",
       "\t<tr><th scope=row>AAACTCGCAAGGAAGA-1_post</th><td>0</td><td>0</td><td>0</td><td>0</td><td>0</td><td>0</td><td>0</td><td>0</td><td>0</td><td>0</td><td>⋯</td><td>0</td><td>0</td><td>0</td><td>0</td><td>0</td><td>0</td><td>0</td><td>0</td><td>0</td><td>0</td></tr>\n",
       "\t<tr><th scope=row>AAACTCGCACAAACGG-1_pre</th><td>0</td><td>0</td><td>0</td><td>0</td><td>0</td><td>0</td><td>0</td><td>0</td><td>0</td><td>0</td><td>⋯</td><td>0</td><td>0</td><td>0</td><td>0</td><td>0</td><td>0</td><td>0</td><td>0</td><td>0</td><td>0</td></tr>\n",
       "\t<tr><th scope=row>AAACTCGCACGCTAAT-1_post</th><td>0</td><td>0</td><td>1</td><td>0</td><td>0</td><td>0</td><td>0</td><td>0</td><td>0</td><td>0</td><td>⋯</td><td>0</td><td>0</td><td>0</td><td>0</td><td>0</td><td>0</td><td>0</td><td>0</td><td>0</td><td>0</td></tr>\n",
       "\t<tr><th scope=row>AAACTCGCATCTGCAA-1_post</th><td>0</td><td>0</td><td>0</td><td>0</td><td>0</td><td>0</td><td>0</td><td>0</td><td>0</td><td>0</td><td>⋯</td><td>0</td><td>0</td><td>0</td><td>0</td><td>0</td><td>0</td><td>0</td><td>0</td><td>0</td><td>0</td></tr>\n",
       "\t<tr><th scope=row>AAACTCGCATTTGTTC-1_pre</th><td>0</td><td>0</td><td>0</td><td>0</td><td>0</td><td>0</td><td>0</td><td>0</td><td>0</td><td>0</td><td>⋯</td><td>0</td><td>0</td><td>0</td><td>0</td><td>0</td><td>0</td><td>0</td><td>0</td><td>0</td><td>0</td></tr>\n",
       "\t<tr><th scope=row>AAACTCGGTGCCAAGA-1_pre</th><td>0</td><td>0</td><td>0</td><td>0</td><td>0</td><td>0</td><td>0</td><td>0</td><td>0</td><td>0</td><td>⋯</td><td>0</td><td>0</td><td>0</td><td>0</td><td>0</td><td>0</td><td>0</td><td>0</td><td>0</td><td>0</td></tr>\n",
       "\t<tr><th scope=row>AAACTCGGTTCCTATT-1_post</th><td>0</td><td>0</td><td>0</td><td>0</td><td>0</td><td>0</td><td>0</td><td>0</td><td>0</td><td>0</td><td>⋯</td><td>0</td><td>0</td><td>0</td><td>0</td><td>0</td><td>0</td><td>0</td><td>0</td><td>0</td><td>0</td></tr>\n",
       "\t<tr><th scope=row>AAACTCGTCACACGTA-1_pre</th><td>0</td><td>0</td><td>0</td><td>0</td><td>0</td><td>0</td><td>0</td><td>0</td><td>0</td><td>0</td><td>⋯</td><td>0</td><td>0</td><td>0</td><td>0</td><td>0</td><td>0</td><td>0</td><td>0</td><td>0</td><td>0</td></tr>\n",
       "\t<tr><th scope=row>AAACTCGTCCTCCTGA-1_pre</th><td>0</td><td>0</td><td>0</td><td>0</td><td>0</td><td>0</td><td>0</td><td>0</td><td>0</td><td>0</td><td>⋯</td><td>0</td><td>0</td><td>0</td><td>0</td><td>0</td><td>0</td><td>0</td><td>0</td><td>0</td><td>0</td></tr>\n",
       "\t<tr><th scope=row>AAACTCGTCCTTCGAC-1_pre</th><td>0</td><td>0</td><td>0</td><td>0</td><td>0</td><td>0</td><td>0</td><td>0</td><td>0</td><td>0</td><td>⋯</td><td>0</td><td>0</td><td>0</td><td>0</td><td>0</td><td>0</td><td>0</td><td>0</td><td>0</td><td>0</td></tr>\n",
       "\t<tr><th scope=row>AAACTCGTCGTCTTAT-1_post</th><td>0</td><td>0</td><td>0</td><td>0</td><td>0</td><td>0</td><td>0</td><td>0</td><td>0</td><td>0</td><td>⋯</td><td>0</td><td>0</td><td>0</td><td>0</td><td>0</td><td>0</td><td>0</td><td>0</td><td>0</td><td>0</td></tr>\n",
       "\t<tr><th scope=row>⋮</th><td>⋮</td><td>⋮</td><td>⋮</td><td>⋮</td><td>⋮</td><td>⋮</td><td>⋮</td><td>⋮</td><td>⋮</td><td>⋮</td><td>⋱</td><td>⋮</td><td>⋮</td><td>⋮</td><td>⋮</td><td>⋮</td><td>⋮</td><td>⋮</td><td>⋮</td><td>⋮</td><td>⋮</td></tr>\n",
       "\t<tr><th scope=row>TTTGGCCCATAGATAG-1_post</th><td>0</td><td>0</td><td>0</td><td>0</td><td>0</td><td>0</td><td>0</td><td>0</td><td>0</td><td>0</td><td>⋯</td><td>0</td><td>0</td><td>0</td><td>0</td><td>0</td><td>0</td><td>0</td><td>0</td><td>0</td><td>0</td></tr>\n",
       "\t<tr><th scope=row>TTTGGCCGTAGTTTGC-1_pre</th><td>0</td><td>0</td><td>0</td><td>0</td><td>0</td><td>0</td><td>0</td><td>0</td><td>0</td><td>0</td><td>⋯</td><td>0</td><td>0</td><td>0</td><td>0</td><td>0</td><td>0</td><td>0</td><td>0</td><td>0</td><td>0</td></tr>\n",
       "\t<tr><th scope=row>TTTGGCCTCCATAACG-1_pre</th><td>0</td><td>0</td><td>0</td><td>0</td><td>0</td><td>0</td><td>0</td><td>0</td><td>0</td><td>0</td><td>⋯</td><td>0</td><td>0</td><td>0</td><td>0</td><td>0</td><td>1</td><td>0</td><td>0</td><td>0</td><td>0</td></tr>\n",
       "\t<tr><th scope=row>TTTGGCCTCCATACGA-1_post</th><td>0</td><td>0</td><td>0</td><td>0</td><td>0</td><td>0</td><td>0</td><td>0</td><td>0</td><td>0</td><td>⋯</td><td>0</td><td>0</td><td>0</td><td>0</td><td>0</td><td>0</td><td>0</td><td>0</td><td>0</td><td>0</td></tr>\n",
       "\t<tr><th scope=row>TTTGGCCTCCGTGCAG-1_post</th><td>0</td><td>0</td><td>0</td><td>0</td><td>0</td><td>0</td><td>0</td><td>0</td><td>0</td><td>0</td><td>⋯</td><td>0</td><td>0</td><td>0</td><td>0</td><td>0</td><td>0</td><td>0</td><td>0</td><td>0</td><td>0</td></tr>\n",
       "\t<tr><th scope=row>TTTGGCCTCGCTTACC-1_post</th><td>0</td><td>0</td><td>0</td><td>0</td><td>0</td><td>0</td><td>0</td><td>0</td><td>0</td><td>0</td><td>⋯</td><td>0</td><td>0</td><td>0</td><td>0</td><td>0</td><td>0</td><td>0</td><td>0</td><td>0</td><td>0</td></tr>\n",
       "\t<tr><th scope=row>TTTGGTTAGAGAGTAG-1_pre</th><td>0</td><td>0</td><td>0</td><td>0</td><td>0</td><td>0</td><td>0</td><td>0</td><td>0</td><td>0</td><td>⋯</td><td>0</td><td>0</td><td>0</td><td>0</td><td>0</td><td>0</td><td>0</td><td>0</td><td>0</td><td>0</td></tr>\n",
       "\t<tr><th scope=row>TTTGGTTAGCAACGGT-1_post</th><td>0</td><td>0</td><td>0</td><td>0</td><td>0</td><td>0</td><td>0</td><td>0</td><td>0</td><td>0</td><td>⋯</td><td>0</td><td>0</td><td>0</td><td>0</td><td>0</td><td>0</td><td>0</td><td>0</td><td>0</td><td>0</td></tr>\n",
       "\t<tr><th scope=row>TTTGGTTAGGCTGGAT-1_pre</th><td>0</td><td>0</td><td>0</td><td>0</td><td>0</td><td>0</td><td>0</td><td>0</td><td>0</td><td>0</td><td>⋯</td><td>0</td><td>0</td><td>0</td><td>0</td><td>0</td><td>0</td><td>0</td><td>0</td><td>0</td><td>0</td></tr>\n",
       "\t<tr><th scope=row>TTTGGTTAGTAGGTCG-1_post</th><td>0</td><td>0</td><td>0</td><td>0</td><td>0</td><td>0</td><td>0</td><td>0</td><td>0</td><td>0</td><td>⋯</td><td>0</td><td>0</td><td>0</td><td>0</td><td>0</td><td>0</td><td>0</td><td>0</td><td>0</td><td>0</td></tr>\n",
       "\t<tr><th scope=row>TTTGGTTAGTATACGA-1_pre</th><td>0</td><td>0</td><td>0</td><td>0</td><td>0</td><td>0</td><td>0</td><td>0</td><td>0</td><td>0</td><td>⋯</td><td>0</td><td>0</td><td>0</td><td>0</td><td>0</td><td>0</td><td>0</td><td>0</td><td>0</td><td>0</td></tr>\n",
       "\t<tr><th scope=row>TTTGGTTAGTCGCCTG-1_post</th><td>0</td><td>0</td><td>0</td><td>0</td><td>0</td><td>0</td><td>0</td><td>0</td><td>0</td><td>0</td><td>⋯</td><td>0</td><td>0</td><td>0</td><td>0</td><td>0</td><td>0</td><td>0</td><td>0</td><td>0</td><td>0</td></tr>\n",
       "\t<tr><th scope=row>TTTGGTTCAATTCTCT-1_post</th><td>0</td><td>0</td><td>0</td><td>0</td><td>0</td><td>0</td><td>0</td><td>0</td><td>0</td><td>0</td><td>⋯</td><td>0</td><td>0</td><td>0</td><td>0</td><td>0</td><td>0</td><td>0</td><td>0</td><td>0</td><td>0</td></tr>\n",
       "\t<tr><th scope=row>TTTGGTTCACGATATC-1_pre</th><td>0</td><td>0</td><td>0</td><td>0</td><td>0</td><td>0</td><td>0</td><td>0</td><td>0</td><td>0</td><td>⋯</td><td>0</td><td>0</td><td>0</td><td>0</td><td>0</td><td>0</td><td>0</td><td>0</td><td>0</td><td>0</td></tr>\n",
       "\t<tr><th scope=row>TTTGGTTCACGCGTTG-1_pre</th><td>0</td><td>0</td><td>0</td><td>0</td><td>0</td><td>0</td><td>0</td><td>0</td><td>0</td><td>0</td><td>⋯</td><td>0</td><td>0</td><td>0</td><td>0</td><td>0</td><td>0</td><td>0</td><td>0</td><td>0</td><td>0</td></tr>\n",
       "\t<tr><th scope=row>TTTGGTTCAGGGCTTC-1_post</th><td>0</td><td>0</td><td>0</td><td>0</td><td>0</td><td>0</td><td>0</td><td>0</td><td>0</td><td>0</td><td>⋯</td><td>0</td><td>0</td><td>0</td><td>0</td><td>0</td><td>0</td><td>0</td><td>0</td><td>0</td><td>0</td></tr>\n",
       "\t<tr><th scope=row>TTTGGTTGTCATAGAA-1_pre</th><td>0</td><td>0</td><td>0</td><td>0</td><td>0</td><td>0</td><td>0</td><td>0</td><td>0</td><td>0</td><td>⋯</td><td>0</td><td>0</td><td>0</td><td>0</td><td>0</td><td>0</td><td>0</td><td>0</td><td>0</td><td>0</td></tr>\n",
       "\t<tr><th scope=row>TTTGGTTGTGATTCCA-1_pre</th><td>0</td><td>0</td><td>0</td><td>0</td><td>0</td><td>0</td><td>0</td><td>0</td><td>0</td><td>0</td><td>⋯</td><td>0</td><td>0</td><td>0</td><td>0</td><td>0</td><td>0</td><td>0</td><td>0</td><td>0</td><td>0</td></tr>\n",
       "\t<tr><th scope=row>TTTGGTTGTGGACGAT-1_post</th><td>0</td><td>0</td><td>0</td><td>0</td><td>0</td><td>0</td><td>0</td><td>0</td><td>0</td><td>0</td><td>⋯</td><td>0</td><td>1</td><td>0</td><td>0</td><td>0</td><td>0</td><td>0</td><td>0</td><td>0</td><td>0</td></tr>\n",
       "\t<tr><th scope=row>TTTGGTTTCGACCCGA-1_post</th><td>0</td><td>0</td><td>0</td><td>0</td><td>0</td><td>0</td><td>0</td><td>0</td><td>0</td><td>0</td><td>⋯</td><td>0</td><td>0</td><td>0</td><td>0</td><td>0</td><td>0</td><td>0</td><td>0</td><td>0</td><td>0</td></tr>\n",
       "\t<tr><th scope=row>TTTGGTTTCGAGGCTC-1_pre</th><td>0</td><td>0</td><td>0</td><td>0</td><td>0</td><td>0</td><td>0</td><td>0</td><td>0</td><td>0</td><td>⋯</td><td>0</td><td>0</td><td>0</td><td>0</td><td>0</td><td>0</td><td>0</td><td>0</td><td>0</td><td>0</td></tr>\n",
       "\t<tr><th scope=row>TTTGGTTTCGTTCAGA-1_pre</th><td>0</td><td>0</td><td>0</td><td>0</td><td>0</td><td>0</td><td>0</td><td>0</td><td>0</td><td>0</td><td>⋯</td><td>0</td><td>0</td><td>0</td><td>0</td><td>0</td><td>0</td><td>0</td><td>0</td><td>0</td><td>0</td></tr>\n",
       "\t<tr><th scope=row>TTTGTGTCAAAGAGAG-1_post</th><td>0</td><td>0</td><td>0</td><td>0</td><td>0</td><td>0</td><td>0</td><td>0</td><td>0</td><td>0</td><td>⋯</td><td>0</td><td>0</td><td>0</td><td>0</td><td>0</td><td>0</td><td>0</td><td>0</td><td>0</td><td>0</td></tr>\n",
       "\t<tr><th scope=row>TTTGTGTCAAGGGTAC-1_pre</th><td>0</td><td>0</td><td>0</td><td>0</td><td>0</td><td>0</td><td>0</td><td>0</td><td>0</td><td>0</td><td>⋯</td><td>0</td><td>0</td><td>0</td><td>0</td><td>0</td><td>0</td><td>0</td><td>0</td><td>0</td><td>0</td></tr>\n",
       "\t<tr><th scope=row>TTTGTGTGTCATAAGA-1_pre</th><td>0</td><td>0</td><td>0</td><td>0</td><td>0</td><td>0</td><td>0</td><td>0</td><td>0</td><td>0</td><td>⋯</td><td>0</td><td>0</td><td>0</td><td>0</td><td>0</td><td>0</td><td>0</td><td>0</td><td>0</td><td>0</td></tr>\n",
       "\t<tr><th scope=row>TTTGTGTGTTCTTTCA-1_post</th><td>0</td><td>0</td><td>0</td><td>0</td><td>0</td><td>0</td><td>0</td><td>0</td><td>0</td><td>0</td><td>⋯</td><td>0</td><td>0</td><td>0</td><td>0</td><td>0</td><td>0</td><td>0</td><td>0</td><td>0</td><td>0</td></tr>\n",
       "\t<tr><th scope=row>TTTGTGTTCCGGAAAG-1_post</th><td>0</td><td>0</td><td>0</td><td>0</td><td>0</td><td>0</td><td>0</td><td>0</td><td>0</td><td>0</td><td>⋯</td><td>0</td><td>0</td><td>0</td><td>0</td><td>0</td><td>0</td><td>0</td><td>0</td><td>0</td><td>0</td></tr>\n",
       "\t<tr><th scope=row>TTTGTGTTCCTGACCT-1_post</th><td>0</td><td>0</td><td>0</td><td>0</td><td>0</td><td>0</td><td>0</td><td>0</td><td>0</td><td>0</td><td>⋯</td><td>0</td><td>0</td><td>0</td><td>0</td><td>0</td><td>0</td><td>0</td><td>0</td><td>0</td><td>0</td></tr>\n",
       "\t<tr><th scope=row>TTTGTGTTCGCGATGC-1_pre</th><td>0</td><td>0</td><td>0</td><td>0</td><td>0</td><td>0</td><td>0</td><td>0</td><td>0</td><td>0</td><td>⋯</td><td>0</td><td>0</td><td>0</td><td>0</td><td>0</td><td>0</td><td>0</td><td>0</td><td>0</td><td>0</td></tr>\n",
       "\t<tr><th scope=row>TTTGTGTTCTTAATCC-1_post</th><td>0</td><td>0</td><td>0</td><td>0</td><td>0</td><td>0</td><td>0</td><td>0</td><td>0</td><td>0</td><td>⋯</td><td>0</td><td>0</td><td>0</td><td>0</td><td>0</td><td>0</td><td>0</td><td>0</td><td>0</td><td>0</td></tr>\n",
       "</tbody>\n",
       "</table>\n"
      ],
      "text/latex": [
       "A data.frame: 14760 × 44\n",
       "\\begin{tabular}{r|lllllllllllllllllllll}\n",
       "  & X10646T & X12295C & X13188T & X14568A & X14766T & X150T & X16126C & X16362C & X16537T & X2351C & ⋯ & X57C & X58C & X6093A & X6456A & X66T & X6776C & X7595A & X7775A & X8770T & X9087A\\\\\n",
       "  & <int> & <int> & <int> & <int> & <int> & <int> & <int> & <int> & <int> & <int> & ⋯ & <int> & <int> & <int> & <int> & <int> & <int> & <int> & <int> & <int> & <int>\\\\\n",
       "\\hline\n",
       "\tAAACGAAAGCGTTGCC-1\\_post & 0 & 0 & 0 & 0 & 1 & 0 & 0 & 0 & 0 & 0 & ⋯ & 0 & 0 & 0 & 0 & 0 & 0 & 0 & 0 & 0 & 0\\\\\n",
       "\tAAACGAAAGGCTCCTG-1\\_pre & 0 & 0 & 0 & 0 & 0 & 0 & 0 & 0 & 0 & 0 & ⋯ & 0 & 0 & 0 & 0 & 0 & 0 & 0 & 0 & 0 & 0\\\\\n",
       "\tAAACGAAAGGTTAACA-1\\_post & 0 & 0 & 0 & 0 & 0 & 0 & 0 & 0 & 0 & 0 & ⋯ & 0 & 0 & 0 & 0 & 0 & 0 & 0 & 0 & 0 & 0\\\\\n",
       "\tAAACGAAAGTGAATAC-1\\_pre & 0 & 0 & 0 & 0 & 0 & 0 & 0 & 0 & 0 & 0 & ⋯ & 0 & 0 & 0 & 0 & 0 & 0 & 0 & 0 & 0 & 0\\\\\n",
       "\tAAACGAAAGTGCTAGG-1\\_post & 0 & 0 & 0 & 0 & 0 & 0 & 0 & 0 & 0 & 0 & ⋯ & 0 & 0 & 0 & 0 & 0 & 0 & 0 & 0 & 0 & 0\\\\\n",
       "\tAAACGAAAGTGTCACT-1\\_pre & 0 & 0 & 0 & 0 & 0 & 0 & 0 & 0 & 0 & 0 & ⋯ & 0 & 0 & 0 & 0 & 0 & 0 & 0 & 0 & 0 & 0\\\\\n",
       "\tAAACGAACATAGAATG-1\\_post & 0 & 0 & 0 & 0 & 0 & 0 & 0 & 0 & 0 & 0 & ⋯ & 0 & 0 & 0 & 0 & 0 & 0 & 0 & 0 & 0 & 0\\\\\n",
       "\tAAACGAACATAGGCGA-1\\_pre & 0 & 0 & 0 & 0 & 0 & 0 & 0 & 0 & 0 & 0 & ⋯ & 0 & 0 & 0 & 0 & 0 & 0 & 0 & 0 & 0 & 0\\\\\n",
       "\tAAACGAACATCCCAAA-1\\_post & 0 & 0 & 0 & 0 & 0 & 0 & 0 & 0 & 0 & 0 & ⋯ & 0 & 0 & 0 & 0 & 0 & 0 & 0 & 0 & 0 & 0\\\\\n",
       "\tAAACGAAGTACAAGCG-1\\_post & 0 & 0 & 0 & 0 & 0 & 0 & 0 & 0 & 0 & 0 & ⋯ & 0 & 0 & 0 & 0 & 0 & 0 & 0 & 0 & 0 & 0\\\\\n",
       "\tAAACGAAGTCCCGTGA-1\\_post & 0 & 0 & 0 & 0 & 0 & 0 & 0 & 0 & 0 & 0 & ⋯ & 0 & 0 & 0 & 0 & 0 & 0 & 0 & 0 & 0 & 0\\\\\n",
       "\tAAACGAAGTTAACTCG-1\\_pre & 0 & 0 & 0 & 0 & 0 & 0 & 0 & 0 & 0 & 0 & ⋯ & 0 & 0 & 0 & 0 & 0 & 0 & 0 & 0 & 0 & 0\\\\\n",
       "\tAAACGAAGTTTCAGCA-1\\_post & 0 & 0 & 0 & 0 & 0 & 0 & 0 & 0 & 0 & 0 & ⋯ & 0 & 0 & 0 & 0 & 0 & 0 & 0 & 0 & 0 & 0\\\\\n",
       "\tAAACTCGAGACGACTG-1\\_post & 0 & 0 & 0 & 0 & 0 & 0 & 0 & 0 & 0 & 0 & ⋯ & 0 & 0 & 0 & 0 & 0 & 0 & 0 & 0 & 0 & 0\\\\\n",
       "\tAAACTCGAGGGCTCTC-1\\_post & 0 & 0 & 0 & 0 & 0 & 0 & 0 & 0 & 0 & 0 & ⋯ & 0 & 0 & 0 & 0 & 0 & 0 & 0 & 0 & 0 & 0\\\\\n",
       "\tAAACTCGAGGTCTTTG-1\\_post & 0 & 0 & 0 & 0 & 0 & 0 & 0 & 0 & 0 & 0 & ⋯ & 0 & 0 & 0 & 0 & 0 & 0 & 0 & 0 & 0 & 0\\\\\n",
       "\tAAACTCGAGGTTTCTG-1\\_post & 0 & 0 & 0 & 0 & 0 & 0 & 0 & 0 & 0 & 0 & ⋯ & 0 & 0 & 0 & 0 & 0 & 0 & 0 & 0 & 0 & 0\\\\\n",
       "\tAAACTCGAGTGTCACT-1\\_pre & 0 & 0 & 0 & 0 & 0 & 0 & 0 & 0 & 0 & 0 & ⋯ & 0 & 0 & 0 & 0 & 0 & 0 & 0 & 0 & 0 & 0\\\\\n",
       "\tAAACTCGCAAAGGTCG-1\\_pre & 0 & 0 & 1 & 0 & 0 & 0 & 0 & 0 & 0 & 0 & ⋯ & 0 & 0 & 0 & 0 & 0 & 0 & 0 & 0 & 0 & 0\\\\\n",
       "\tAAACTCGCAAGGAAGA-1\\_post & 0 & 0 & 0 & 0 & 0 & 0 & 0 & 0 & 0 & 0 & ⋯ & 0 & 0 & 0 & 0 & 0 & 0 & 0 & 0 & 0 & 0\\\\\n",
       "\tAAACTCGCACAAACGG-1\\_pre & 0 & 0 & 0 & 0 & 0 & 0 & 0 & 0 & 0 & 0 & ⋯ & 0 & 0 & 0 & 0 & 0 & 0 & 0 & 0 & 0 & 0\\\\\n",
       "\tAAACTCGCACGCTAAT-1\\_post & 0 & 0 & 1 & 0 & 0 & 0 & 0 & 0 & 0 & 0 & ⋯ & 0 & 0 & 0 & 0 & 0 & 0 & 0 & 0 & 0 & 0\\\\\n",
       "\tAAACTCGCATCTGCAA-1\\_post & 0 & 0 & 0 & 0 & 0 & 0 & 0 & 0 & 0 & 0 & ⋯ & 0 & 0 & 0 & 0 & 0 & 0 & 0 & 0 & 0 & 0\\\\\n",
       "\tAAACTCGCATTTGTTC-1\\_pre & 0 & 0 & 0 & 0 & 0 & 0 & 0 & 0 & 0 & 0 & ⋯ & 0 & 0 & 0 & 0 & 0 & 0 & 0 & 0 & 0 & 0\\\\\n",
       "\tAAACTCGGTGCCAAGA-1\\_pre & 0 & 0 & 0 & 0 & 0 & 0 & 0 & 0 & 0 & 0 & ⋯ & 0 & 0 & 0 & 0 & 0 & 0 & 0 & 0 & 0 & 0\\\\\n",
       "\tAAACTCGGTTCCTATT-1\\_post & 0 & 0 & 0 & 0 & 0 & 0 & 0 & 0 & 0 & 0 & ⋯ & 0 & 0 & 0 & 0 & 0 & 0 & 0 & 0 & 0 & 0\\\\\n",
       "\tAAACTCGTCACACGTA-1\\_pre & 0 & 0 & 0 & 0 & 0 & 0 & 0 & 0 & 0 & 0 & ⋯ & 0 & 0 & 0 & 0 & 0 & 0 & 0 & 0 & 0 & 0\\\\\n",
       "\tAAACTCGTCCTCCTGA-1\\_pre & 0 & 0 & 0 & 0 & 0 & 0 & 0 & 0 & 0 & 0 & ⋯ & 0 & 0 & 0 & 0 & 0 & 0 & 0 & 0 & 0 & 0\\\\\n",
       "\tAAACTCGTCCTTCGAC-1\\_pre & 0 & 0 & 0 & 0 & 0 & 0 & 0 & 0 & 0 & 0 & ⋯ & 0 & 0 & 0 & 0 & 0 & 0 & 0 & 0 & 0 & 0\\\\\n",
       "\tAAACTCGTCGTCTTAT-1\\_post & 0 & 0 & 0 & 0 & 0 & 0 & 0 & 0 & 0 & 0 & ⋯ & 0 & 0 & 0 & 0 & 0 & 0 & 0 & 0 & 0 & 0\\\\\n",
       "\t⋮ & ⋮ & ⋮ & ⋮ & ⋮ & ⋮ & ⋮ & ⋮ & ⋮ & ⋮ & ⋮ & ⋱ & ⋮ & ⋮ & ⋮ & ⋮ & ⋮ & ⋮ & ⋮ & ⋮ & ⋮ & ⋮\\\\\n",
       "\tTTTGGCCCATAGATAG-1\\_post & 0 & 0 & 0 & 0 & 0 & 0 & 0 & 0 & 0 & 0 & ⋯ & 0 & 0 & 0 & 0 & 0 & 0 & 0 & 0 & 0 & 0\\\\\n",
       "\tTTTGGCCGTAGTTTGC-1\\_pre & 0 & 0 & 0 & 0 & 0 & 0 & 0 & 0 & 0 & 0 & ⋯ & 0 & 0 & 0 & 0 & 0 & 0 & 0 & 0 & 0 & 0\\\\\n",
       "\tTTTGGCCTCCATAACG-1\\_pre & 0 & 0 & 0 & 0 & 0 & 0 & 0 & 0 & 0 & 0 & ⋯ & 0 & 0 & 0 & 0 & 0 & 1 & 0 & 0 & 0 & 0\\\\\n",
       "\tTTTGGCCTCCATACGA-1\\_post & 0 & 0 & 0 & 0 & 0 & 0 & 0 & 0 & 0 & 0 & ⋯ & 0 & 0 & 0 & 0 & 0 & 0 & 0 & 0 & 0 & 0\\\\\n",
       "\tTTTGGCCTCCGTGCAG-1\\_post & 0 & 0 & 0 & 0 & 0 & 0 & 0 & 0 & 0 & 0 & ⋯ & 0 & 0 & 0 & 0 & 0 & 0 & 0 & 0 & 0 & 0\\\\\n",
       "\tTTTGGCCTCGCTTACC-1\\_post & 0 & 0 & 0 & 0 & 0 & 0 & 0 & 0 & 0 & 0 & ⋯ & 0 & 0 & 0 & 0 & 0 & 0 & 0 & 0 & 0 & 0\\\\\n",
       "\tTTTGGTTAGAGAGTAG-1\\_pre & 0 & 0 & 0 & 0 & 0 & 0 & 0 & 0 & 0 & 0 & ⋯ & 0 & 0 & 0 & 0 & 0 & 0 & 0 & 0 & 0 & 0\\\\\n",
       "\tTTTGGTTAGCAACGGT-1\\_post & 0 & 0 & 0 & 0 & 0 & 0 & 0 & 0 & 0 & 0 & ⋯ & 0 & 0 & 0 & 0 & 0 & 0 & 0 & 0 & 0 & 0\\\\\n",
       "\tTTTGGTTAGGCTGGAT-1\\_pre & 0 & 0 & 0 & 0 & 0 & 0 & 0 & 0 & 0 & 0 & ⋯ & 0 & 0 & 0 & 0 & 0 & 0 & 0 & 0 & 0 & 0\\\\\n",
       "\tTTTGGTTAGTAGGTCG-1\\_post & 0 & 0 & 0 & 0 & 0 & 0 & 0 & 0 & 0 & 0 & ⋯ & 0 & 0 & 0 & 0 & 0 & 0 & 0 & 0 & 0 & 0\\\\\n",
       "\tTTTGGTTAGTATACGA-1\\_pre & 0 & 0 & 0 & 0 & 0 & 0 & 0 & 0 & 0 & 0 & ⋯ & 0 & 0 & 0 & 0 & 0 & 0 & 0 & 0 & 0 & 0\\\\\n",
       "\tTTTGGTTAGTCGCCTG-1\\_post & 0 & 0 & 0 & 0 & 0 & 0 & 0 & 0 & 0 & 0 & ⋯ & 0 & 0 & 0 & 0 & 0 & 0 & 0 & 0 & 0 & 0\\\\\n",
       "\tTTTGGTTCAATTCTCT-1\\_post & 0 & 0 & 0 & 0 & 0 & 0 & 0 & 0 & 0 & 0 & ⋯ & 0 & 0 & 0 & 0 & 0 & 0 & 0 & 0 & 0 & 0\\\\\n",
       "\tTTTGGTTCACGATATC-1\\_pre & 0 & 0 & 0 & 0 & 0 & 0 & 0 & 0 & 0 & 0 & ⋯ & 0 & 0 & 0 & 0 & 0 & 0 & 0 & 0 & 0 & 0\\\\\n",
       "\tTTTGGTTCACGCGTTG-1\\_pre & 0 & 0 & 0 & 0 & 0 & 0 & 0 & 0 & 0 & 0 & ⋯ & 0 & 0 & 0 & 0 & 0 & 0 & 0 & 0 & 0 & 0\\\\\n",
       "\tTTTGGTTCAGGGCTTC-1\\_post & 0 & 0 & 0 & 0 & 0 & 0 & 0 & 0 & 0 & 0 & ⋯ & 0 & 0 & 0 & 0 & 0 & 0 & 0 & 0 & 0 & 0\\\\\n",
       "\tTTTGGTTGTCATAGAA-1\\_pre & 0 & 0 & 0 & 0 & 0 & 0 & 0 & 0 & 0 & 0 & ⋯ & 0 & 0 & 0 & 0 & 0 & 0 & 0 & 0 & 0 & 0\\\\\n",
       "\tTTTGGTTGTGATTCCA-1\\_pre & 0 & 0 & 0 & 0 & 0 & 0 & 0 & 0 & 0 & 0 & ⋯ & 0 & 0 & 0 & 0 & 0 & 0 & 0 & 0 & 0 & 0\\\\\n",
       "\tTTTGGTTGTGGACGAT-1\\_post & 0 & 0 & 0 & 0 & 0 & 0 & 0 & 0 & 0 & 0 & ⋯ & 0 & 1 & 0 & 0 & 0 & 0 & 0 & 0 & 0 & 0\\\\\n",
       "\tTTTGGTTTCGACCCGA-1\\_post & 0 & 0 & 0 & 0 & 0 & 0 & 0 & 0 & 0 & 0 & ⋯ & 0 & 0 & 0 & 0 & 0 & 0 & 0 & 0 & 0 & 0\\\\\n",
       "\tTTTGGTTTCGAGGCTC-1\\_pre & 0 & 0 & 0 & 0 & 0 & 0 & 0 & 0 & 0 & 0 & ⋯ & 0 & 0 & 0 & 0 & 0 & 0 & 0 & 0 & 0 & 0\\\\\n",
       "\tTTTGGTTTCGTTCAGA-1\\_pre & 0 & 0 & 0 & 0 & 0 & 0 & 0 & 0 & 0 & 0 & ⋯ & 0 & 0 & 0 & 0 & 0 & 0 & 0 & 0 & 0 & 0\\\\\n",
       "\tTTTGTGTCAAAGAGAG-1\\_post & 0 & 0 & 0 & 0 & 0 & 0 & 0 & 0 & 0 & 0 & ⋯ & 0 & 0 & 0 & 0 & 0 & 0 & 0 & 0 & 0 & 0\\\\\n",
       "\tTTTGTGTCAAGGGTAC-1\\_pre & 0 & 0 & 0 & 0 & 0 & 0 & 0 & 0 & 0 & 0 & ⋯ & 0 & 0 & 0 & 0 & 0 & 0 & 0 & 0 & 0 & 0\\\\\n",
       "\tTTTGTGTGTCATAAGA-1\\_pre & 0 & 0 & 0 & 0 & 0 & 0 & 0 & 0 & 0 & 0 & ⋯ & 0 & 0 & 0 & 0 & 0 & 0 & 0 & 0 & 0 & 0\\\\\n",
       "\tTTTGTGTGTTCTTTCA-1\\_post & 0 & 0 & 0 & 0 & 0 & 0 & 0 & 0 & 0 & 0 & ⋯ & 0 & 0 & 0 & 0 & 0 & 0 & 0 & 0 & 0 & 0\\\\\n",
       "\tTTTGTGTTCCGGAAAG-1\\_post & 0 & 0 & 0 & 0 & 0 & 0 & 0 & 0 & 0 & 0 & ⋯ & 0 & 0 & 0 & 0 & 0 & 0 & 0 & 0 & 0 & 0\\\\\n",
       "\tTTTGTGTTCCTGACCT-1\\_post & 0 & 0 & 0 & 0 & 0 & 0 & 0 & 0 & 0 & 0 & ⋯ & 0 & 0 & 0 & 0 & 0 & 0 & 0 & 0 & 0 & 0\\\\\n",
       "\tTTTGTGTTCGCGATGC-1\\_pre & 0 & 0 & 0 & 0 & 0 & 0 & 0 & 0 & 0 & 0 & ⋯ & 0 & 0 & 0 & 0 & 0 & 0 & 0 & 0 & 0 & 0\\\\\n",
       "\tTTTGTGTTCTTAATCC-1\\_post & 0 & 0 & 0 & 0 & 0 & 0 & 0 & 0 & 0 & 0 & ⋯ & 0 & 0 & 0 & 0 & 0 & 0 & 0 & 0 & 0 & 0\\\\\n",
       "\\end{tabular}\n"
      ],
      "text/markdown": [
       "\n",
       "A data.frame: 14760 × 44\n",
       "\n",
       "| <!--/--> | X10646T &lt;int&gt; | X12295C &lt;int&gt; | X13188T &lt;int&gt; | X14568A &lt;int&gt; | X14766T &lt;int&gt; | X150T &lt;int&gt; | X16126C &lt;int&gt; | X16362C &lt;int&gt; | X16537T &lt;int&gt; | X2351C &lt;int&gt; | ⋯ ⋯ | X57C &lt;int&gt; | X58C &lt;int&gt; | X6093A &lt;int&gt; | X6456A &lt;int&gt; | X66T &lt;int&gt; | X6776C &lt;int&gt; | X7595A &lt;int&gt; | X7775A &lt;int&gt; | X8770T &lt;int&gt; | X9087A &lt;int&gt; |\n",
       "|---|---|---|---|---|---|---|---|---|---|---|---|---|---|---|---|---|---|---|---|---|---|\n",
       "| AAACGAAAGCGTTGCC-1_post | 0 | 0 | 0 | 0 | 1 | 0 | 0 | 0 | 0 | 0 | ⋯ | 0 | 0 | 0 | 0 | 0 | 0 | 0 | 0 | 0 | 0 |\n",
       "| AAACGAAAGGCTCCTG-1_pre | 0 | 0 | 0 | 0 | 0 | 0 | 0 | 0 | 0 | 0 | ⋯ | 0 | 0 | 0 | 0 | 0 | 0 | 0 | 0 | 0 | 0 |\n",
       "| AAACGAAAGGTTAACA-1_post | 0 | 0 | 0 | 0 | 0 | 0 | 0 | 0 | 0 | 0 | ⋯ | 0 | 0 | 0 | 0 | 0 | 0 | 0 | 0 | 0 | 0 |\n",
       "| AAACGAAAGTGAATAC-1_pre | 0 | 0 | 0 | 0 | 0 | 0 | 0 | 0 | 0 | 0 | ⋯ | 0 | 0 | 0 | 0 | 0 | 0 | 0 | 0 | 0 | 0 |\n",
       "| AAACGAAAGTGCTAGG-1_post | 0 | 0 | 0 | 0 | 0 | 0 | 0 | 0 | 0 | 0 | ⋯ | 0 | 0 | 0 | 0 | 0 | 0 | 0 | 0 | 0 | 0 |\n",
       "| AAACGAAAGTGTCACT-1_pre | 0 | 0 | 0 | 0 | 0 | 0 | 0 | 0 | 0 | 0 | ⋯ | 0 | 0 | 0 | 0 | 0 | 0 | 0 | 0 | 0 | 0 |\n",
       "| AAACGAACATAGAATG-1_post | 0 | 0 | 0 | 0 | 0 | 0 | 0 | 0 | 0 | 0 | ⋯ | 0 | 0 | 0 | 0 | 0 | 0 | 0 | 0 | 0 | 0 |\n",
       "| AAACGAACATAGGCGA-1_pre | 0 | 0 | 0 | 0 | 0 | 0 | 0 | 0 | 0 | 0 | ⋯ | 0 | 0 | 0 | 0 | 0 | 0 | 0 | 0 | 0 | 0 |\n",
       "| AAACGAACATCCCAAA-1_post | 0 | 0 | 0 | 0 | 0 | 0 | 0 | 0 | 0 | 0 | ⋯ | 0 | 0 | 0 | 0 | 0 | 0 | 0 | 0 | 0 | 0 |\n",
       "| AAACGAAGTACAAGCG-1_post | 0 | 0 | 0 | 0 | 0 | 0 | 0 | 0 | 0 | 0 | ⋯ | 0 | 0 | 0 | 0 | 0 | 0 | 0 | 0 | 0 | 0 |\n",
       "| AAACGAAGTCCCGTGA-1_post | 0 | 0 | 0 | 0 | 0 | 0 | 0 | 0 | 0 | 0 | ⋯ | 0 | 0 | 0 | 0 | 0 | 0 | 0 | 0 | 0 | 0 |\n",
       "| AAACGAAGTTAACTCG-1_pre | 0 | 0 | 0 | 0 | 0 | 0 | 0 | 0 | 0 | 0 | ⋯ | 0 | 0 | 0 | 0 | 0 | 0 | 0 | 0 | 0 | 0 |\n",
       "| AAACGAAGTTTCAGCA-1_post | 0 | 0 | 0 | 0 | 0 | 0 | 0 | 0 | 0 | 0 | ⋯ | 0 | 0 | 0 | 0 | 0 | 0 | 0 | 0 | 0 | 0 |\n",
       "| AAACTCGAGACGACTG-1_post | 0 | 0 | 0 | 0 | 0 | 0 | 0 | 0 | 0 | 0 | ⋯ | 0 | 0 | 0 | 0 | 0 | 0 | 0 | 0 | 0 | 0 |\n",
       "| AAACTCGAGGGCTCTC-1_post | 0 | 0 | 0 | 0 | 0 | 0 | 0 | 0 | 0 | 0 | ⋯ | 0 | 0 | 0 | 0 | 0 | 0 | 0 | 0 | 0 | 0 |\n",
       "| AAACTCGAGGTCTTTG-1_post | 0 | 0 | 0 | 0 | 0 | 0 | 0 | 0 | 0 | 0 | ⋯ | 0 | 0 | 0 | 0 | 0 | 0 | 0 | 0 | 0 | 0 |\n",
       "| AAACTCGAGGTTTCTG-1_post | 0 | 0 | 0 | 0 | 0 | 0 | 0 | 0 | 0 | 0 | ⋯ | 0 | 0 | 0 | 0 | 0 | 0 | 0 | 0 | 0 | 0 |\n",
       "| AAACTCGAGTGTCACT-1_pre | 0 | 0 | 0 | 0 | 0 | 0 | 0 | 0 | 0 | 0 | ⋯ | 0 | 0 | 0 | 0 | 0 | 0 | 0 | 0 | 0 | 0 |\n",
       "| AAACTCGCAAAGGTCG-1_pre | 0 | 0 | 1 | 0 | 0 | 0 | 0 | 0 | 0 | 0 | ⋯ | 0 | 0 | 0 | 0 | 0 | 0 | 0 | 0 | 0 | 0 |\n",
       "| AAACTCGCAAGGAAGA-1_post | 0 | 0 | 0 | 0 | 0 | 0 | 0 | 0 | 0 | 0 | ⋯ | 0 | 0 | 0 | 0 | 0 | 0 | 0 | 0 | 0 | 0 |\n",
       "| AAACTCGCACAAACGG-1_pre | 0 | 0 | 0 | 0 | 0 | 0 | 0 | 0 | 0 | 0 | ⋯ | 0 | 0 | 0 | 0 | 0 | 0 | 0 | 0 | 0 | 0 |\n",
       "| AAACTCGCACGCTAAT-1_post | 0 | 0 | 1 | 0 | 0 | 0 | 0 | 0 | 0 | 0 | ⋯ | 0 | 0 | 0 | 0 | 0 | 0 | 0 | 0 | 0 | 0 |\n",
       "| AAACTCGCATCTGCAA-1_post | 0 | 0 | 0 | 0 | 0 | 0 | 0 | 0 | 0 | 0 | ⋯ | 0 | 0 | 0 | 0 | 0 | 0 | 0 | 0 | 0 | 0 |\n",
       "| AAACTCGCATTTGTTC-1_pre | 0 | 0 | 0 | 0 | 0 | 0 | 0 | 0 | 0 | 0 | ⋯ | 0 | 0 | 0 | 0 | 0 | 0 | 0 | 0 | 0 | 0 |\n",
       "| AAACTCGGTGCCAAGA-1_pre | 0 | 0 | 0 | 0 | 0 | 0 | 0 | 0 | 0 | 0 | ⋯ | 0 | 0 | 0 | 0 | 0 | 0 | 0 | 0 | 0 | 0 |\n",
       "| AAACTCGGTTCCTATT-1_post | 0 | 0 | 0 | 0 | 0 | 0 | 0 | 0 | 0 | 0 | ⋯ | 0 | 0 | 0 | 0 | 0 | 0 | 0 | 0 | 0 | 0 |\n",
       "| AAACTCGTCACACGTA-1_pre | 0 | 0 | 0 | 0 | 0 | 0 | 0 | 0 | 0 | 0 | ⋯ | 0 | 0 | 0 | 0 | 0 | 0 | 0 | 0 | 0 | 0 |\n",
       "| AAACTCGTCCTCCTGA-1_pre | 0 | 0 | 0 | 0 | 0 | 0 | 0 | 0 | 0 | 0 | ⋯ | 0 | 0 | 0 | 0 | 0 | 0 | 0 | 0 | 0 | 0 |\n",
       "| AAACTCGTCCTTCGAC-1_pre | 0 | 0 | 0 | 0 | 0 | 0 | 0 | 0 | 0 | 0 | ⋯ | 0 | 0 | 0 | 0 | 0 | 0 | 0 | 0 | 0 | 0 |\n",
       "| AAACTCGTCGTCTTAT-1_post | 0 | 0 | 0 | 0 | 0 | 0 | 0 | 0 | 0 | 0 | ⋯ | 0 | 0 | 0 | 0 | 0 | 0 | 0 | 0 | 0 | 0 |\n",
       "| ⋮ | ⋮ | ⋮ | ⋮ | ⋮ | ⋮ | ⋮ | ⋮ | ⋮ | ⋮ | ⋮ | ⋱ | ⋮ | ⋮ | ⋮ | ⋮ | ⋮ | ⋮ | ⋮ | ⋮ | ⋮ | ⋮ |\n",
       "| TTTGGCCCATAGATAG-1_post | 0 | 0 | 0 | 0 | 0 | 0 | 0 | 0 | 0 | 0 | ⋯ | 0 | 0 | 0 | 0 | 0 | 0 | 0 | 0 | 0 | 0 |\n",
       "| TTTGGCCGTAGTTTGC-1_pre | 0 | 0 | 0 | 0 | 0 | 0 | 0 | 0 | 0 | 0 | ⋯ | 0 | 0 | 0 | 0 | 0 | 0 | 0 | 0 | 0 | 0 |\n",
       "| TTTGGCCTCCATAACG-1_pre | 0 | 0 | 0 | 0 | 0 | 0 | 0 | 0 | 0 | 0 | ⋯ | 0 | 0 | 0 | 0 | 0 | 1 | 0 | 0 | 0 | 0 |\n",
       "| TTTGGCCTCCATACGA-1_post | 0 | 0 | 0 | 0 | 0 | 0 | 0 | 0 | 0 | 0 | ⋯ | 0 | 0 | 0 | 0 | 0 | 0 | 0 | 0 | 0 | 0 |\n",
       "| TTTGGCCTCCGTGCAG-1_post | 0 | 0 | 0 | 0 | 0 | 0 | 0 | 0 | 0 | 0 | ⋯ | 0 | 0 | 0 | 0 | 0 | 0 | 0 | 0 | 0 | 0 |\n",
       "| TTTGGCCTCGCTTACC-1_post | 0 | 0 | 0 | 0 | 0 | 0 | 0 | 0 | 0 | 0 | ⋯ | 0 | 0 | 0 | 0 | 0 | 0 | 0 | 0 | 0 | 0 |\n",
       "| TTTGGTTAGAGAGTAG-1_pre | 0 | 0 | 0 | 0 | 0 | 0 | 0 | 0 | 0 | 0 | ⋯ | 0 | 0 | 0 | 0 | 0 | 0 | 0 | 0 | 0 | 0 |\n",
       "| TTTGGTTAGCAACGGT-1_post | 0 | 0 | 0 | 0 | 0 | 0 | 0 | 0 | 0 | 0 | ⋯ | 0 | 0 | 0 | 0 | 0 | 0 | 0 | 0 | 0 | 0 |\n",
       "| TTTGGTTAGGCTGGAT-1_pre | 0 | 0 | 0 | 0 | 0 | 0 | 0 | 0 | 0 | 0 | ⋯ | 0 | 0 | 0 | 0 | 0 | 0 | 0 | 0 | 0 | 0 |\n",
       "| TTTGGTTAGTAGGTCG-1_post | 0 | 0 | 0 | 0 | 0 | 0 | 0 | 0 | 0 | 0 | ⋯ | 0 | 0 | 0 | 0 | 0 | 0 | 0 | 0 | 0 | 0 |\n",
       "| TTTGGTTAGTATACGA-1_pre | 0 | 0 | 0 | 0 | 0 | 0 | 0 | 0 | 0 | 0 | ⋯ | 0 | 0 | 0 | 0 | 0 | 0 | 0 | 0 | 0 | 0 |\n",
       "| TTTGGTTAGTCGCCTG-1_post | 0 | 0 | 0 | 0 | 0 | 0 | 0 | 0 | 0 | 0 | ⋯ | 0 | 0 | 0 | 0 | 0 | 0 | 0 | 0 | 0 | 0 |\n",
       "| TTTGGTTCAATTCTCT-1_post | 0 | 0 | 0 | 0 | 0 | 0 | 0 | 0 | 0 | 0 | ⋯ | 0 | 0 | 0 | 0 | 0 | 0 | 0 | 0 | 0 | 0 |\n",
       "| TTTGGTTCACGATATC-1_pre | 0 | 0 | 0 | 0 | 0 | 0 | 0 | 0 | 0 | 0 | ⋯ | 0 | 0 | 0 | 0 | 0 | 0 | 0 | 0 | 0 | 0 |\n",
       "| TTTGGTTCACGCGTTG-1_pre | 0 | 0 | 0 | 0 | 0 | 0 | 0 | 0 | 0 | 0 | ⋯ | 0 | 0 | 0 | 0 | 0 | 0 | 0 | 0 | 0 | 0 |\n",
       "| TTTGGTTCAGGGCTTC-1_post | 0 | 0 | 0 | 0 | 0 | 0 | 0 | 0 | 0 | 0 | ⋯ | 0 | 0 | 0 | 0 | 0 | 0 | 0 | 0 | 0 | 0 |\n",
       "| TTTGGTTGTCATAGAA-1_pre | 0 | 0 | 0 | 0 | 0 | 0 | 0 | 0 | 0 | 0 | ⋯ | 0 | 0 | 0 | 0 | 0 | 0 | 0 | 0 | 0 | 0 |\n",
       "| TTTGGTTGTGATTCCA-1_pre | 0 | 0 | 0 | 0 | 0 | 0 | 0 | 0 | 0 | 0 | ⋯ | 0 | 0 | 0 | 0 | 0 | 0 | 0 | 0 | 0 | 0 |\n",
       "| TTTGGTTGTGGACGAT-1_post | 0 | 0 | 0 | 0 | 0 | 0 | 0 | 0 | 0 | 0 | ⋯ | 0 | 1 | 0 | 0 | 0 | 0 | 0 | 0 | 0 | 0 |\n",
       "| TTTGGTTTCGACCCGA-1_post | 0 | 0 | 0 | 0 | 0 | 0 | 0 | 0 | 0 | 0 | ⋯ | 0 | 0 | 0 | 0 | 0 | 0 | 0 | 0 | 0 | 0 |\n",
       "| TTTGGTTTCGAGGCTC-1_pre | 0 | 0 | 0 | 0 | 0 | 0 | 0 | 0 | 0 | 0 | ⋯ | 0 | 0 | 0 | 0 | 0 | 0 | 0 | 0 | 0 | 0 |\n",
       "| TTTGGTTTCGTTCAGA-1_pre | 0 | 0 | 0 | 0 | 0 | 0 | 0 | 0 | 0 | 0 | ⋯ | 0 | 0 | 0 | 0 | 0 | 0 | 0 | 0 | 0 | 0 |\n",
       "| TTTGTGTCAAAGAGAG-1_post | 0 | 0 | 0 | 0 | 0 | 0 | 0 | 0 | 0 | 0 | ⋯ | 0 | 0 | 0 | 0 | 0 | 0 | 0 | 0 | 0 | 0 |\n",
       "| TTTGTGTCAAGGGTAC-1_pre | 0 | 0 | 0 | 0 | 0 | 0 | 0 | 0 | 0 | 0 | ⋯ | 0 | 0 | 0 | 0 | 0 | 0 | 0 | 0 | 0 | 0 |\n",
       "| TTTGTGTGTCATAAGA-1_pre | 0 | 0 | 0 | 0 | 0 | 0 | 0 | 0 | 0 | 0 | ⋯ | 0 | 0 | 0 | 0 | 0 | 0 | 0 | 0 | 0 | 0 |\n",
       "| TTTGTGTGTTCTTTCA-1_post | 0 | 0 | 0 | 0 | 0 | 0 | 0 | 0 | 0 | 0 | ⋯ | 0 | 0 | 0 | 0 | 0 | 0 | 0 | 0 | 0 | 0 |\n",
       "| TTTGTGTTCCGGAAAG-1_post | 0 | 0 | 0 | 0 | 0 | 0 | 0 | 0 | 0 | 0 | ⋯ | 0 | 0 | 0 | 0 | 0 | 0 | 0 | 0 | 0 | 0 |\n",
       "| TTTGTGTTCCTGACCT-1_post | 0 | 0 | 0 | 0 | 0 | 0 | 0 | 0 | 0 | 0 | ⋯ | 0 | 0 | 0 | 0 | 0 | 0 | 0 | 0 | 0 | 0 |\n",
       "| TTTGTGTTCGCGATGC-1_pre | 0 | 0 | 0 | 0 | 0 | 0 | 0 | 0 | 0 | 0 | ⋯ | 0 | 0 | 0 | 0 | 0 | 0 | 0 | 0 | 0 | 0 |\n",
       "| TTTGTGTTCTTAATCC-1_post | 0 | 0 | 0 | 0 | 0 | 0 | 0 | 0 | 0 | 0 | ⋯ | 0 | 0 | 0 | 0 | 0 | 0 | 0 | 0 | 0 | 0 |\n",
       "\n"
      ],
      "text/plain": [
       "                        X10646T X12295C X13188T X14568A X14766T X150T X16126C\n",
       "AAACGAAAGCGTTGCC-1_post 0       0       0       0       1       0     0      \n",
       "AAACGAAAGGCTCCTG-1_pre  0       0       0       0       0       0     0      \n",
       "AAACGAAAGGTTAACA-1_post 0       0       0       0       0       0     0      \n",
       "AAACGAAAGTGAATAC-1_pre  0       0       0       0       0       0     0      \n",
       "AAACGAAAGTGCTAGG-1_post 0       0       0       0       0       0     0      \n",
       "AAACGAAAGTGTCACT-1_pre  0       0       0       0       0       0     0      \n",
       "AAACGAACATAGAATG-1_post 0       0       0       0       0       0     0      \n",
       "AAACGAACATAGGCGA-1_pre  0       0       0       0       0       0     0      \n",
       "AAACGAACATCCCAAA-1_post 0       0       0       0       0       0     0      \n",
       "AAACGAAGTACAAGCG-1_post 0       0       0       0       0       0     0      \n",
       "AAACGAAGTCCCGTGA-1_post 0       0       0       0       0       0     0      \n",
       "AAACGAAGTTAACTCG-1_pre  0       0       0       0       0       0     0      \n",
       "AAACGAAGTTTCAGCA-1_post 0       0       0       0       0       0     0      \n",
       "AAACTCGAGACGACTG-1_post 0       0       0       0       0       0     0      \n",
       "AAACTCGAGGGCTCTC-1_post 0       0       0       0       0       0     0      \n",
       "AAACTCGAGGTCTTTG-1_post 0       0       0       0       0       0     0      \n",
       "AAACTCGAGGTTTCTG-1_post 0       0       0       0       0       0     0      \n",
       "AAACTCGAGTGTCACT-1_pre  0       0       0       0       0       0     0      \n",
       "AAACTCGCAAAGGTCG-1_pre  0       0       1       0       0       0     0      \n",
       "AAACTCGCAAGGAAGA-1_post 0       0       0       0       0       0     0      \n",
       "AAACTCGCACAAACGG-1_pre  0       0       0       0       0       0     0      \n",
       "AAACTCGCACGCTAAT-1_post 0       0       1       0       0       0     0      \n",
       "AAACTCGCATCTGCAA-1_post 0       0       0       0       0       0     0      \n",
       "AAACTCGCATTTGTTC-1_pre  0       0       0       0       0       0     0      \n",
       "AAACTCGGTGCCAAGA-1_pre  0       0       0       0       0       0     0      \n",
       "AAACTCGGTTCCTATT-1_post 0       0       0       0       0       0     0      \n",
       "AAACTCGTCACACGTA-1_pre  0       0       0       0       0       0     0      \n",
       "AAACTCGTCCTCCTGA-1_pre  0       0       0       0       0       0     0      \n",
       "AAACTCGTCCTTCGAC-1_pre  0       0       0       0       0       0     0      \n",
       "AAACTCGTCGTCTTAT-1_post 0       0       0       0       0       0     0      \n",
       "⋮                       ⋮       ⋮       ⋮       ⋮       ⋮       ⋮     ⋮      \n",
       "TTTGGCCCATAGATAG-1_post 0       0       0       0       0       0     0      \n",
       "TTTGGCCGTAGTTTGC-1_pre  0       0       0       0       0       0     0      \n",
       "TTTGGCCTCCATAACG-1_pre  0       0       0       0       0       0     0      \n",
       "TTTGGCCTCCATACGA-1_post 0       0       0       0       0       0     0      \n",
       "TTTGGCCTCCGTGCAG-1_post 0       0       0       0       0       0     0      \n",
       "TTTGGCCTCGCTTACC-1_post 0       0       0       0       0       0     0      \n",
       "TTTGGTTAGAGAGTAG-1_pre  0       0       0       0       0       0     0      \n",
       "TTTGGTTAGCAACGGT-1_post 0       0       0       0       0       0     0      \n",
       "TTTGGTTAGGCTGGAT-1_pre  0       0       0       0       0       0     0      \n",
       "TTTGGTTAGTAGGTCG-1_post 0       0       0       0       0       0     0      \n",
       "TTTGGTTAGTATACGA-1_pre  0       0       0       0       0       0     0      \n",
       "TTTGGTTAGTCGCCTG-1_post 0       0       0       0       0       0     0      \n",
       "TTTGGTTCAATTCTCT-1_post 0       0       0       0       0       0     0      \n",
       "TTTGGTTCACGATATC-1_pre  0       0       0       0       0       0     0      \n",
       "TTTGGTTCACGCGTTG-1_pre  0       0       0       0       0       0     0      \n",
       "TTTGGTTCAGGGCTTC-1_post 0       0       0       0       0       0     0      \n",
       "TTTGGTTGTCATAGAA-1_pre  0       0       0       0       0       0     0      \n",
       "TTTGGTTGTGATTCCA-1_pre  0       0       0       0       0       0     0      \n",
       "TTTGGTTGTGGACGAT-1_post 0       0       0       0       0       0     0      \n",
       "TTTGGTTTCGACCCGA-1_post 0       0       0       0       0       0     0      \n",
       "TTTGGTTTCGAGGCTC-1_pre  0       0       0       0       0       0     0      \n",
       "TTTGGTTTCGTTCAGA-1_pre  0       0       0       0       0       0     0      \n",
       "TTTGTGTCAAAGAGAG-1_post 0       0       0       0       0       0     0      \n",
       "TTTGTGTCAAGGGTAC-1_pre  0       0       0       0       0       0     0      \n",
       "TTTGTGTGTCATAAGA-1_pre  0       0       0       0       0       0     0      \n",
       "TTTGTGTGTTCTTTCA-1_post 0       0       0       0       0       0     0      \n",
       "TTTGTGTTCCGGAAAG-1_post 0       0       0       0       0       0     0      \n",
       "TTTGTGTTCCTGACCT-1_post 0       0       0       0       0       0     0      \n",
       "TTTGTGTTCGCGATGC-1_pre  0       0       0       0       0       0     0      \n",
       "TTTGTGTTCTTAATCC-1_post 0       0       0       0       0       0     0      \n",
       "                        X16362C X16537T X2351C ⋯ X57C X58C X6093A X6456A X66T\n",
       "AAACGAAAGCGTTGCC-1_post 0       0       0      ⋯ 0    0    0      0      0   \n",
       "AAACGAAAGGCTCCTG-1_pre  0       0       0      ⋯ 0    0    0      0      0   \n",
       "AAACGAAAGGTTAACA-1_post 0       0       0      ⋯ 0    0    0      0      0   \n",
       "AAACGAAAGTGAATAC-1_pre  0       0       0      ⋯ 0    0    0      0      0   \n",
       "AAACGAAAGTGCTAGG-1_post 0       0       0      ⋯ 0    0    0      0      0   \n",
       "AAACGAAAGTGTCACT-1_pre  0       0       0      ⋯ 0    0    0      0      0   \n",
       "AAACGAACATAGAATG-1_post 0       0       0      ⋯ 0    0    0      0      0   \n",
       "AAACGAACATAGGCGA-1_pre  0       0       0      ⋯ 0    0    0      0      0   \n",
       "AAACGAACATCCCAAA-1_post 0       0       0      ⋯ 0    0    0      0      0   \n",
       "AAACGAAGTACAAGCG-1_post 0       0       0      ⋯ 0    0    0      0      0   \n",
       "AAACGAAGTCCCGTGA-1_post 0       0       0      ⋯ 0    0    0      0      0   \n",
       "AAACGAAGTTAACTCG-1_pre  0       0       0      ⋯ 0    0    0      0      0   \n",
       "AAACGAAGTTTCAGCA-1_post 0       0       0      ⋯ 0    0    0      0      0   \n",
       "AAACTCGAGACGACTG-1_post 0       0       0      ⋯ 0    0    0      0      0   \n",
       "AAACTCGAGGGCTCTC-1_post 0       0       0      ⋯ 0    0    0      0      0   \n",
       "AAACTCGAGGTCTTTG-1_post 0       0       0      ⋯ 0    0    0      0      0   \n",
       "AAACTCGAGGTTTCTG-1_post 0       0       0      ⋯ 0    0    0      0      0   \n",
       "AAACTCGAGTGTCACT-1_pre  0       0       0      ⋯ 0    0    0      0      0   \n",
       "AAACTCGCAAAGGTCG-1_pre  0       0       0      ⋯ 0    0    0      0      0   \n",
       "AAACTCGCAAGGAAGA-1_post 0       0       0      ⋯ 0    0    0      0      0   \n",
       "AAACTCGCACAAACGG-1_pre  0       0       0      ⋯ 0    0    0      0      0   \n",
       "AAACTCGCACGCTAAT-1_post 0       0       0      ⋯ 0    0    0      0      0   \n",
       "AAACTCGCATCTGCAA-1_post 0       0       0      ⋯ 0    0    0      0      0   \n",
       "AAACTCGCATTTGTTC-1_pre  0       0       0      ⋯ 0    0    0      0      0   \n",
       "AAACTCGGTGCCAAGA-1_pre  0       0       0      ⋯ 0    0    0      0      0   \n",
       "AAACTCGGTTCCTATT-1_post 0       0       0      ⋯ 0    0    0      0      0   \n",
       "AAACTCGTCACACGTA-1_pre  0       0       0      ⋯ 0    0    0      0      0   \n",
       "AAACTCGTCCTCCTGA-1_pre  0       0       0      ⋯ 0    0    0      0      0   \n",
       "AAACTCGTCCTTCGAC-1_pre  0       0       0      ⋯ 0    0    0      0      0   \n",
       "AAACTCGTCGTCTTAT-1_post 0       0       0      ⋯ 0    0    0      0      0   \n",
       "⋮                       ⋮       ⋮       ⋮      ⋱ ⋮    ⋮    ⋮      ⋮      ⋮   \n",
       "TTTGGCCCATAGATAG-1_post 0       0       0      ⋯ 0    0    0      0      0   \n",
       "TTTGGCCGTAGTTTGC-1_pre  0       0       0      ⋯ 0    0    0      0      0   \n",
       "TTTGGCCTCCATAACG-1_pre  0       0       0      ⋯ 0    0    0      0      0   \n",
       "TTTGGCCTCCATACGA-1_post 0       0       0      ⋯ 0    0    0      0      0   \n",
       "TTTGGCCTCCGTGCAG-1_post 0       0       0      ⋯ 0    0    0      0      0   \n",
       "TTTGGCCTCGCTTACC-1_post 0       0       0      ⋯ 0    0    0      0      0   \n",
       "TTTGGTTAGAGAGTAG-1_pre  0       0       0      ⋯ 0    0    0      0      0   \n",
       "TTTGGTTAGCAACGGT-1_post 0       0       0      ⋯ 0    0    0      0      0   \n",
       "TTTGGTTAGGCTGGAT-1_pre  0       0       0      ⋯ 0    0    0      0      0   \n",
       "TTTGGTTAGTAGGTCG-1_post 0       0       0      ⋯ 0    0    0      0      0   \n",
       "TTTGGTTAGTATACGA-1_pre  0       0       0      ⋯ 0    0    0      0      0   \n",
       "TTTGGTTAGTCGCCTG-1_post 0       0       0      ⋯ 0    0    0      0      0   \n",
       "TTTGGTTCAATTCTCT-1_post 0       0       0      ⋯ 0    0    0      0      0   \n",
       "TTTGGTTCACGATATC-1_pre  0       0       0      ⋯ 0    0    0      0      0   \n",
       "TTTGGTTCACGCGTTG-1_pre  0       0       0      ⋯ 0    0    0      0      0   \n",
       "TTTGGTTCAGGGCTTC-1_post 0       0       0      ⋯ 0    0    0      0      0   \n",
       "TTTGGTTGTCATAGAA-1_pre  0       0       0      ⋯ 0    0    0      0      0   \n",
       "TTTGGTTGTGATTCCA-1_pre  0       0       0      ⋯ 0    0    0      0      0   \n",
       "TTTGGTTGTGGACGAT-1_post 0       0       0      ⋯ 0    1    0      0      0   \n",
       "TTTGGTTTCGACCCGA-1_post 0       0       0      ⋯ 0    0    0      0      0   \n",
       "TTTGGTTTCGAGGCTC-1_pre  0       0       0      ⋯ 0    0    0      0      0   \n",
       "TTTGGTTTCGTTCAGA-1_pre  0       0       0      ⋯ 0    0    0      0      0   \n",
       "TTTGTGTCAAAGAGAG-1_post 0       0       0      ⋯ 0    0    0      0      0   \n",
       "TTTGTGTCAAGGGTAC-1_pre  0       0       0      ⋯ 0    0    0      0      0   \n",
       "TTTGTGTGTCATAAGA-1_pre  0       0       0      ⋯ 0    0    0      0      0   \n",
       "TTTGTGTGTTCTTTCA-1_post 0       0       0      ⋯ 0    0    0      0      0   \n",
       "TTTGTGTTCCGGAAAG-1_post 0       0       0      ⋯ 0    0    0      0      0   \n",
       "TTTGTGTTCCTGACCT-1_post 0       0       0      ⋯ 0    0    0      0      0   \n",
       "TTTGTGTTCGCGATGC-1_pre  0       0       0      ⋯ 0    0    0      0      0   \n",
       "TTTGTGTTCTTAATCC-1_post 0       0       0      ⋯ 0    0    0      0      0   \n",
       "                        X6776C X7595A X7775A X8770T X9087A\n",
       "AAACGAAAGCGTTGCC-1_post 0      0      0      0      0     \n",
       "AAACGAAAGGCTCCTG-1_pre  0      0      0      0      0     \n",
       "AAACGAAAGGTTAACA-1_post 0      0      0      0      0     \n",
       "AAACGAAAGTGAATAC-1_pre  0      0      0      0      0     \n",
       "AAACGAAAGTGCTAGG-1_post 0      0      0      0      0     \n",
       "AAACGAAAGTGTCACT-1_pre  0      0      0      0      0     \n",
       "AAACGAACATAGAATG-1_post 0      0      0      0      0     \n",
       "AAACGAACATAGGCGA-1_pre  0      0      0      0      0     \n",
       "AAACGAACATCCCAAA-1_post 0      0      0      0      0     \n",
       "AAACGAAGTACAAGCG-1_post 0      0      0      0      0     \n",
       "AAACGAAGTCCCGTGA-1_post 0      0      0      0      0     \n",
       "AAACGAAGTTAACTCG-1_pre  0      0      0      0      0     \n",
       "AAACGAAGTTTCAGCA-1_post 0      0      0      0      0     \n",
       "AAACTCGAGACGACTG-1_post 0      0      0      0      0     \n",
       "AAACTCGAGGGCTCTC-1_post 0      0      0      0      0     \n",
       "AAACTCGAGGTCTTTG-1_post 0      0      0      0      0     \n",
       "AAACTCGAGGTTTCTG-1_post 0      0      0      0      0     \n",
       "AAACTCGAGTGTCACT-1_pre  0      0      0      0      0     \n",
       "AAACTCGCAAAGGTCG-1_pre  0      0      0      0      0     \n",
       "AAACTCGCAAGGAAGA-1_post 0      0      0      0      0     \n",
       "AAACTCGCACAAACGG-1_pre  0      0      0      0      0     \n",
       "AAACTCGCACGCTAAT-1_post 0      0      0      0      0     \n",
       "AAACTCGCATCTGCAA-1_post 0      0      0      0      0     \n",
       "AAACTCGCATTTGTTC-1_pre  0      0      0      0      0     \n",
       "AAACTCGGTGCCAAGA-1_pre  0      0      0      0      0     \n",
       "AAACTCGGTTCCTATT-1_post 0      0      0      0      0     \n",
       "AAACTCGTCACACGTA-1_pre  0      0      0      0      0     \n",
       "AAACTCGTCCTCCTGA-1_pre  0      0      0      0      0     \n",
       "AAACTCGTCCTTCGAC-1_pre  0      0      0      0      0     \n",
       "AAACTCGTCGTCTTAT-1_post 0      0      0      0      0     \n",
       "⋮                       ⋮      ⋮      ⋮      ⋮      ⋮     \n",
       "TTTGGCCCATAGATAG-1_post 0      0      0      0      0     \n",
       "TTTGGCCGTAGTTTGC-1_pre  0      0      0      0      0     \n",
       "TTTGGCCTCCATAACG-1_pre  1      0      0      0      0     \n",
       "TTTGGCCTCCATACGA-1_post 0      0      0      0      0     \n",
       "TTTGGCCTCCGTGCAG-1_post 0      0      0      0      0     \n",
       "TTTGGCCTCGCTTACC-1_post 0      0      0      0      0     \n",
       "TTTGGTTAGAGAGTAG-1_pre  0      0      0      0      0     \n",
       "TTTGGTTAGCAACGGT-1_post 0      0      0      0      0     \n",
       "TTTGGTTAGGCTGGAT-1_pre  0      0      0      0      0     \n",
       "TTTGGTTAGTAGGTCG-1_post 0      0      0      0      0     \n",
       "TTTGGTTAGTATACGA-1_pre  0      0      0      0      0     \n",
       "TTTGGTTAGTCGCCTG-1_post 0      0      0      0      0     \n",
       "TTTGGTTCAATTCTCT-1_post 0      0      0      0      0     \n",
       "TTTGGTTCACGATATC-1_pre  0      0      0      0      0     \n",
       "TTTGGTTCACGCGTTG-1_pre  0      0      0      0      0     \n",
       "TTTGGTTCAGGGCTTC-1_post 0      0      0      0      0     \n",
       "TTTGGTTGTCATAGAA-1_pre  0      0      0      0      0     \n",
       "TTTGGTTGTGATTCCA-1_pre  0      0      0      0      0     \n",
       "TTTGGTTGTGGACGAT-1_post 0      0      0      0      0     \n",
       "TTTGGTTTCGACCCGA-1_post 0      0      0      0      0     \n",
       "TTTGGTTTCGAGGCTC-1_pre  0      0      0      0      0     \n",
       "TTTGGTTTCGTTCAGA-1_pre  0      0      0      0      0     \n",
       "TTTGTGTCAAAGAGAG-1_post 0      0      0      0      0     \n",
       "TTTGTGTCAAGGGTAC-1_pre  0      0      0      0      0     \n",
       "TTTGTGTGTCATAAGA-1_pre  0      0      0      0      0     \n",
       "TTTGTGTGTTCTTTCA-1_post 0      0      0      0      0     \n",
       "TTTGTGTTCCGGAAAG-1_post 0      0      0      0      0     \n",
       "TTTGTGTTCCTGACCT-1_post 0      0      0      0      0     \n",
       "TTTGTGTTCGCGATGC-1_pre  0      0      0      0      0     \n",
       "TTTGTGTTCTTAATCC-1_post 0      0      0      0      0     "
      ]
     },
     "metadata": {},
     "output_type": "display_data"
    },
    {
     "name": "stdout",
     "output_type": "stream",
     "text": [
      "[1] \"here\"\n"
     ]
    },
    {
     "data": {
      "text/html": [
       "<table class=\"dataframe\">\n",
       "<caption>A data.frame: 6 × 44</caption>\n",
       "<thead>\n",
       "\t<tr><th></th><th scope=col>X9390G</th><th scope=col>X16223T</th><th scope=col>X1095C</th><th scope=col>X57C</th><th scope=col>X58C</th><th scope=col>X11590G</th><th scope=col>X6776C</th><th scope=col>X2442C</th><th scope=col>X12295C</th><th scope=col>X2351C</th><th scope=col>⋯</th><th scope=col>X66T</th><th scope=col>X7775A</th><th scope=col>X1949A</th><th scope=col>X8770T</th><th scope=col>X6093A</th><th scope=col>X4248C</th><th scope=col>X13108A</th><th scope=col>X15821A</th><th scope=col>X6456A</th><th scope=col>X9087A</th></tr>\n",
       "\t<tr><th></th><th scope=col>&lt;int&gt;</th><th scope=col>&lt;int&gt;</th><th scope=col>&lt;int&gt;</th><th scope=col>&lt;int&gt;</th><th scope=col>&lt;int&gt;</th><th scope=col>&lt;int&gt;</th><th scope=col>&lt;int&gt;</th><th scope=col>&lt;int&gt;</th><th scope=col>&lt;int&gt;</th><th scope=col>&lt;int&gt;</th><th scope=col>⋯</th><th scope=col>&lt;int&gt;</th><th scope=col>&lt;int&gt;</th><th scope=col>&lt;int&gt;</th><th scope=col>&lt;int&gt;</th><th scope=col>&lt;int&gt;</th><th scope=col>&lt;int&gt;</th><th scope=col>&lt;int&gt;</th><th scope=col>&lt;int&gt;</th><th scope=col>&lt;int&gt;</th><th scope=col>&lt;int&gt;</th></tr>\n",
       "</thead>\n",
       "<tbody>\n",
       "\t<tr><th scope=row>post_AAACGAAAGCGTTGCC-1</th><td>0</td><td>0</td><td>0</td><td>0</td><td>0</td><td>0</td><td>0</td><td>0</td><td>0</td><td>0</td><td>⋯</td><td>0</td><td>0</td><td>0</td><td>0</td><td>0</td><td>0</td><td>0</td><td>0</td><td>0</td><td>0</td></tr>\n",
       "\t<tr><th scope=row>pre_AAACGAAAGGCTCCTG-1</th><td>0</td><td>0</td><td>0</td><td>0</td><td>0</td><td>0</td><td>0</td><td>0</td><td>0</td><td>0</td><td>⋯</td><td>0</td><td>0</td><td>0</td><td>0</td><td>0</td><td>0</td><td>0</td><td>0</td><td>0</td><td>0</td></tr>\n",
       "\t<tr><th scope=row>post_AAACGAAAGGTTAACA-1</th><td>0</td><td>0</td><td>0</td><td>0</td><td>0</td><td>0</td><td>0</td><td>0</td><td>0</td><td>0</td><td>⋯</td><td>0</td><td>0</td><td>0</td><td>0</td><td>0</td><td>0</td><td>0</td><td>0</td><td>0</td><td>0</td></tr>\n",
       "\t<tr><th scope=row>pre_AAACGAAAGTGAATAC-1</th><td>0</td><td>0</td><td>0</td><td>0</td><td>0</td><td>0</td><td>0</td><td>0</td><td>0</td><td>0</td><td>⋯</td><td>0</td><td>0</td><td>0</td><td>0</td><td>0</td><td>0</td><td>0</td><td>0</td><td>0</td><td>0</td></tr>\n",
       "\t<tr><th scope=row>post_AAACGAAAGTGCTAGG-1</th><td>1</td><td>0</td><td>0</td><td>0</td><td>0</td><td>0</td><td>0</td><td>0</td><td>0</td><td>0</td><td>⋯</td><td>0</td><td>0</td><td>0</td><td>0</td><td>0</td><td>0</td><td>0</td><td>0</td><td>0</td><td>0</td></tr>\n",
       "\t<tr><th scope=row>pre_AAACGAAAGTGTCACT-1</th><td>0</td><td>0</td><td>0</td><td>0</td><td>0</td><td>0</td><td>0</td><td>0</td><td>0</td><td>0</td><td>⋯</td><td>0</td><td>0</td><td>0</td><td>0</td><td>0</td><td>0</td><td>0</td><td>0</td><td>0</td><td>0</td></tr>\n",
       "</tbody>\n",
       "</table>\n"
      ],
      "text/latex": [
       "A data.frame: 6 × 44\n",
       "\\begin{tabular}{r|lllllllllllllllllllll}\n",
       "  & X9390G & X16223T & X1095C & X57C & X58C & X11590G & X6776C & X2442C & X12295C & X2351C & ⋯ & X66T & X7775A & X1949A & X8770T & X6093A & X4248C & X13108A & X15821A & X6456A & X9087A\\\\\n",
       "  & <int> & <int> & <int> & <int> & <int> & <int> & <int> & <int> & <int> & <int> & ⋯ & <int> & <int> & <int> & <int> & <int> & <int> & <int> & <int> & <int> & <int>\\\\\n",
       "\\hline\n",
       "\tpost\\_AAACGAAAGCGTTGCC-1 & 0 & 0 & 0 & 0 & 0 & 0 & 0 & 0 & 0 & 0 & ⋯ & 0 & 0 & 0 & 0 & 0 & 0 & 0 & 0 & 0 & 0\\\\\n",
       "\tpre\\_AAACGAAAGGCTCCTG-1 & 0 & 0 & 0 & 0 & 0 & 0 & 0 & 0 & 0 & 0 & ⋯ & 0 & 0 & 0 & 0 & 0 & 0 & 0 & 0 & 0 & 0\\\\\n",
       "\tpost\\_AAACGAAAGGTTAACA-1 & 0 & 0 & 0 & 0 & 0 & 0 & 0 & 0 & 0 & 0 & ⋯ & 0 & 0 & 0 & 0 & 0 & 0 & 0 & 0 & 0 & 0\\\\\n",
       "\tpre\\_AAACGAAAGTGAATAC-1 & 0 & 0 & 0 & 0 & 0 & 0 & 0 & 0 & 0 & 0 & ⋯ & 0 & 0 & 0 & 0 & 0 & 0 & 0 & 0 & 0 & 0\\\\\n",
       "\tpost\\_AAACGAAAGTGCTAGG-1 & 1 & 0 & 0 & 0 & 0 & 0 & 0 & 0 & 0 & 0 & ⋯ & 0 & 0 & 0 & 0 & 0 & 0 & 0 & 0 & 0 & 0\\\\\n",
       "\tpre\\_AAACGAAAGTGTCACT-1 & 0 & 0 & 0 & 0 & 0 & 0 & 0 & 0 & 0 & 0 & ⋯ & 0 & 0 & 0 & 0 & 0 & 0 & 0 & 0 & 0 & 0\\\\\n",
       "\\end{tabular}\n"
      ],
      "text/markdown": [
       "\n",
       "A data.frame: 6 × 44\n",
       "\n",
       "| <!--/--> | X9390G &lt;int&gt; | X16223T &lt;int&gt; | X1095C &lt;int&gt; | X57C &lt;int&gt; | X58C &lt;int&gt; | X11590G &lt;int&gt; | X6776C &lt;int&gt; | X2442C &lt;int&gt; | X12295C &lt;int&gt; | X2351C &lt;int&gt; | ⋯ ⋯ | X66T &lt;int&gt; | X7775A &lt;int&gt; | X1949A &lt;int&gt; | X8770T &lt;int&gt; | X6093A &lt;int&gt; | X4248C &lt;int&gt; | X13108A &lt;int&gt; | X15821A &lt;int&gt; | X6456A &lt;int&gt; | X9087A &lt;int&gt; |\n",
       "|---|---|---|---|---|---|---|---|---|---|---|---|---|---|---|---|---|---|---|---|---|---|\n",
       "| post_AAACGAAAGCGTTGCC-1 | 0 | 0 | 0 | 0 | 0 | 0 | 0 | 0 | 0 | 0 | ⋯ | 0 | 0 | 0 | 0 | 0 | 0 | 0 | 0 | 0 | 0 |\n",
       "| pre_AAACGAAAGGCTCCTG-1 | 0 | 0 | 0 | 0 | 0 | 0 | 0 | 0 | 0 | 0 | ⋯ | 0 | 0 | 0 | 0 | 0 | 0 | 0 | 0 | 0 | 0 |\n",
       "| post_AAACGAAAGGTTAACA-1 | 0 | 0 | 0 | 0 | 0 | 0 | 0 | 0 | 0 | 0 | ⋯ | 0 | 0 | 0 | 0 | 0 | 0 | 0 | 0 | 0 | 0 |\n",
       "| pre_AAACGAAAGTGAATAC-1 | 0 | 0 | 0 | 0 | 0 | 0 | 0 | 0 | 0 | 0 | ⋯ | 0 | 0 | 0 | 0 | 0 | 0 | 0 | 0 | 0 | 0 |\n",
       "| post_AAACGAAAGTGCTAGG-1 | 1 | 0 | 0 | 0 | 0 | 0 | 0 | 0 | 0 | 0 | ⋯ | 0 | 0 | 0 | 0 | 0 | 0 | 0 | 0 | 0 | 0 |\n",
       "| pre_AAACGAAAGTGTCACT-1 | 0 | 0 | 0 | 0 | 0 | 0 | 0 | 0 | 0 | 0 | ⋯ | 0 | 0 | 0 | 0 | 0 | 0 | 0 | 0 | 0 | 0 |\n",
       "\n"
      ],
      "text/plain": [
       "                        X9390G X16223T X1095C X57C X58C X11590G X6776C X2442C\n",
       "post_AAACGAAAGCGTTGCC-1 0      0       0      0    0    0       0      0     \n",
       "pre_AAACGAAAGGCTCCTG-1  0      0       0      0    0    0       0      0     \n",
       "post_AAACGAAAGGTTAACA-1 0      0       0      0    0    0       0      0     \n",
       "pre_AAACGAAAGTGAATAC-1  0      0       0      0    0    0       0      0     \n",
       "post_AAACGAAAGTGCTAGG-1 1      0       0      0    0    0       0      0     \n",
       "pre_AAACGAAAGTGTCACT-1  0      0       0      0    0    0       0      0     \n",
       "                        X12295C X2351C ⋯ X66T X7775A X1949A X8770T X6093A\n",
       "post_AAACGAAAGCGTTGCC-1 0       0      ⋯ 0    0      0      0      0     \n",
       "pre_AAACGAAAGGCTCCTG-1  0       0      ⋯ 0    0      0      0      0     \n",
       "post_AAACGAAAGGTTAACA-1 0       0      ⋯ 0    0      0      0      0     \n",
       "pre_AAACGAAAGTGAATAC-1  0       0      ⋯ 0    0      0      0      0     \n",
       "post_AAACGAAAGTGCTAGG-1 0       0      ⋯ 0    0      0      0      0     \n",
       "pre_AAACGAAAGTGTCACT-1  0       0      ⋯ 0    0      0      0      0     \n",
       "                        X4248C X13108A X15821A X6456A X9087A\n",
       "post_AAACGAAAGCGTTGCC-1 0      0       0       0      0     \n",
       "pre_AAACGAAAGGCTCCTG-1  0      0       0       0      0     \n",
       "post_AAACGAAAGGTTAACA-1 0      0       0       0      0     \n",
       "pre_AAACGAAAGTGAATAC-1  0      0       0       0      0     \n",
       "post_AAACGAAAGTGCTAGG-1 0      0       0       0      0     \n",
       "pre_AAACGAAAGTGTCACT-1  0      0       0       0      0     "
      ]
     },
     "metadata": {},
     "output_type": "display_data"
    }
   ],
   "source": [
    "cells_meta <- read.table(cells_meta_f, sep=\"\\t\", header = T, row.names=\"cell\")\n",
    "cells_meta \n",
    "\n",
    "#cells_meta\n",
    "ids.reversed = T\n",
    "\n",
    "if (ids.reversed){\n",
    "    print('here')\n",
    "    split.names <- stringr::str_split(rownames(cells_meta), \"_\")\n",
    "    rownames(cells_meta) = lapply(split.names, function(x){paste0(x[2], \"_\", x[1])})\n",
    "}\n",
    "cells_meta = cells_meta[, order(colSums(-cells_meta))]\n",
    "head(cells_meta)"
   ]
  },
  {
   "cell_type": "code",
   "execution_count": 7,
   "id": "a04bd89d",
   "metadata": {
    "scrolled": false
   },
   "outputs": [
    {
     "data": {
      "text/plain": [
       "An object of class Seurat \n",
       "97805 features across 22239 samples within 2 assays \n",
       "Active assay: RNA (19575 features, 0 variable features)\n",
       " 1 other assay present: ATAC\n",
       " 2 dimensional reductions calculated: integrated_lsi, umap"
      ]
     },
     "metadata": {},
     "output_type": "display_data"
    }
   ],
   "source": [
    "se <- readRDS(se_f)#file.path(indir, paste0(\"allSamples.integrated.rds\")))\n",
    "se"
   ]
  },
  {
   "cell_type": "markdown",
   "id": "1e20e009",
   "metadata": {},
   "source": [
    "### Subset to just in cells_meta"
   ]
  },
  {
   "cell_type": "code",
   "execution_count": 8,
   "id": "7cde8e2a",
   "metadata": {},
   "outputs": [
    {
     "data": {
      "text/html": [
       "<style>\n",
       ".list-inline {list-style: none; margin:0; padding: 0}\n",
       ".list-inline>li {display: inline-block}\n",
       ".list-inline>li:not(:last-child)::after {content: \"\\00b7\"; padding: 0 .5ex}\n",
       "</style>\n",
       "<ol class=list-inline><li>0.662259993704753</li><li>14728</li></ol>\n"
      ],
      "text/latex": [
       "\\begin{enumerate*}\n",
       "\\item 0.662259993704753\n",
       "\\item 14728\n",
       "\\end{enumerate*}\n"
      ],
      "text/markdown": [
       "1. 0.662259993704753\n",
       "2. 14728\n",
       "\n",
       "\n"
      ],
      "text/plain": [
       "[1] 6.6226e-01 1.4728e+04"
      ]
     },
     "metadata": {},
     "output_type": "display_data"
    }
   ],
   "source": [
    "se$inClones = 0\n",
    "se[[\"inClones\"]][(colnames(se) %in% row.names(cells_meta)), \"inClones\"] = 1\n",
    "\n",
    "sum(se[[\"inClones\"]])/dim(se[[]][1])\n",
    "\n",
    "se.filt <- subset(se, subset = inClones == 1 )"
   ]
  },
  {
   "cell_type": "code",
   "execution_count": 9,
   "id": "5ad52ad8",
   "metadata": {},
   "outputs": [],
   "source": [
    "se.filt <- AddMetaData(se.filt, cells_meta)"
   ]
  },
  {
   "cell_type": "code",
   "execution_count": 10,
   "id": "d3895881",
   "metadata": {
    "scrolled": false
   },
   "outputs": [
    {
     "data": {
      "text/plain": [
       "An object of class Seurat \n",
       "97805 features across 22239 samples within 2 assays \n",
       "Active assay: RNA (19575 features, 0 variable features)\n",
       " 1 other assay present: ATAC\n",
       " 2 dimensional reductions calculated: integrated_lsi, umap"
      ]
     },
     "metadata": {},
     "output_type": "display_data"
    }
   ],
   "source": [
    "se"
   ]
  },
  {
   "cell_type": "code",
   "execution_count": 11,
   "id": "1d16f3a5",
   "metadata": {
    "scrolled": true
   },
   "outputs": [
    {
     "data": {
      "text/plain": [
       "An object of class Seurat \n",
       "97805 features across 14728 samples within 2 assays \n",
       "Active assay: RNA (19575 features, 0 variable features)\n",
       " 1 other assay present: ATAC\n",
       " 2 dimensional reductions calculated: integrated_lsi, umap"
      ]
     },
     "metadata": {},
     "output_type": "display_data"
    }
   ],
   "source": [
    "se.filt"
   ]
  },
  {
   "cell_type": "code",
   "execution_count": 12,
   "id": "dc92d153",
   "metadata": {
    "scrolled": true
   },
   "outputs": [
    {
     "name": "stderr",
     "output_type": "stream",
     "text": [
      "`summarise()` has grouped output by 'condition', 'donor', 'lineage'. You can override using the `.groups` argument.\n",
      "\n",
      "Warning message in xtfrm.data.frame(x):\n",
      "\"cannot xtfrm data frames\"\n",
      "`summarise()` has grouped output by 'donor'. You can override using the `.groups` argument.\n",
      "\n"
     ]
    },
    {
     "data": {
      "text/html": [
       "<table class=\"dataframe\">\n",
       "<caption>A tibble: 6 × 8</caption>\n",
       "<thead>\n",
       "\t<tr><th scope=col>donor</th><th scope=col>lineage</th><th scope=col>norm.total</th><th scope=col>total</th><th scope=col>name</th><th scope=col>cdf.norm</th><th scope=col>cdf</th><th scope=col>index</th></tr>\n",
       "\t<tr><th scope=col>&lt;fct&gt;</th><th scope=col>&lt;fct&gt;</th><th scope=col>&lt;dbl&gt;</th><th scope=col>&lt;int&gt;</th><th scope=col>&lt;fct&gt;</th><th scope=col>&lt;dbl&gt;</th><th scope=col>&lt;int&gt;</th><th scope=col>&lt;int&gt;</th></tr>\n",
       "</thead>\n",
       "<tbody>\n",
       "\t<tr><td>0</td><td>0</td><td>0.13454113</td><td>455</td><td>0_0</td><td>0.06727057</td><td> 455</td><td>1</td></tr>\n",
       "\t<tr><td>0</td><td>1</td><td>0.08543635</td><td>299</td><td>0_1</td><td>0.10998874</td><td> 754</td><td>2</td></tr>\n",
       "\t<tr><td>0</td><td>5</td><td>0.08101728</td><td>234</td><td>0_5</td><td>0.15049738</td><td> 988</td><td>3</td></tr>\n",
       "\t<tr><td>0</td><td>3</td><td>0.07759196</td><td>252</td><td>0_3</td><td>0.18929336</td><td>1240</td><td>4</td></tr>\n",
       "\t<tr><td>0</td><td>2</td><td>0.07582740</td><td>264</td><td>0_2</td><td>0.22720706</td><td>1504</td><td>5</td></tr>\n",
       "\t<tr><td>0</td><td>4</td><td>0.06708339</td><td>239</td><td>0_4</td><td>0.26074876</td><td>1743</td><td>6</td></tr>\n",
       "</tbody>\n",
       "</table>\n"
      ],
      "text/latex": [
       "A tibble: 6 × 8\n",
       "\\begin{tabular}{llllllll}\n",
       " donor & lineage & norm.total & total & name & cdf.norm & cdf & index\\\\\n",
       " <fct> & <fct> & <dbl> & <int> & <fct> & <dbl> & <int> & <int>\\\\\n",
       "\\hline\n",
       "\t 0 & 0 & 0.13454113 & 455 & 0\\_0 & 0.06727057 &  455 & 1\\\\\n",
       "\t 0 & 1 & 0.08543635 & 299 & 0\\_1 & 0.10998874 &  754 & 2\\\\\n",
       "\t 0 & 5 & 0.08101728 & 234 & 0\\_5 & 0.15049738 &  988 & 3\\\\\n",
       "\t 0 & 3 & 0.07759196 & 252 & 0\\_3 & 0.18929336 & 1240 & 4\\\\\n",
       "\t 0 & 2 & 0.07582740 & 264 & 0\\_2 & 0.22720706 & 1504 & 5\\\\\n",
       "\t 0 & 4 & 0.06708339 & 239 & 0\\_4 & 0.26074876 & 1743 & 6\\\\\n",
       "\\end{tabular}\n"
      ],
      "text/markdown": [
       "\n",
       "A tibble: 6 × 8\n",
       "\n",
       "| donor &lt;fct&gt; | lineage &lt;fct&gt; | norm.total &lt;dbl&gt; | total &lt;int&gt; | name &lt;fct&gt; | cdf.norm &lt;dbl&gt; | cdf &lt;int&gt; | index &lt;int&gt; |\n",
       "|---|---|---|---|---|---|---|---|\n",
       "| 0 | 0 | 0.13454113 | 455 | 0_0 | 0.06727057 |  455 | 1 |\n",
       "| 0 | 1 | 0.08543635 | 299 | 0_1 | 0.10998874 |  754 | 2 |\n",
       "| 0 | 5 | 0.08101728 | 234 | 0_5 | 0.15049738 |  988 | 3 |\n",
       "| 0 | 3 | 0.07759196 | 252 | 0_3 | 0.18929336 | 1240 | 4 |\n",
       "| 0 | 2 | 0.07582740 | 264 | 0_2 | 0.22720706 | 1504 | 5 |\n",
       "| 0 | 4 | 0.06708339 | 239 | 0_4 | 0.26074876 | 1743 | 6 |\n",
       "\n"
      ],
      "text/plain": [
       "  donor lineage norm.total total name cdf.norm   cdf  index\n",
       "1 0     0       0.13454113 455   0_0  0.06727057  455 1    \n",
       "2 0     1       0.08543635 299   0_1  0.10998874  754 2    \n",
       "3 0     5       0.08101728 234   0_5  0.15049738  988 3    \n",
       "4 0     3       0.07759196 252   0_3  0.18929336 1240 4    \n",
       "5 0     2       0.07582740 264   0_2  0.22720706 1504 5    \n",
       "6 0     4       0.06708339 239   0_4  0.26074876 1743 6    "
      ]
     },
     "metadata": {},
     "output_type": "display_data"
    }
   ],
   "source": [
    "source(utils_script)\n",
    "tmp <- get.clone.sizes(se.filt)\n",
    "counts.conds.norm <- tmp[[\"counts.norm\"]]\n",
    "clone.sizes <- tmp[[\"clone.size\"]]\n",
    "head(clone.sizes)"
   ]
  },
  {
   "cell_type": "code",
   "execution_count": 13,
   "id": "3400cecb",
   "metadata": {},
   "outputs": [
    {
     "data": {
      "text/html": [
       "<style>\n",
       ".list-inline {list-style: none; margin:0; padding: 0}\n",
       ".list-inline>li {display: inline-block}\n",
       ".list-inline>li:not(:last-child)::after {content: \"\\00b7\"; padding: 0 .5ex}\n",
       "</style>\n",
       "<ol class=list-inline><li>14728</li><li>84</li></ol>\n"
      ],
      "text/latex": [
       "\\begin{enumerate*}\n",
       "\\item 14728\n",
       "\\item 84\n",
       "\\end{enumerate*}\n"
      ],
      "text/markdown": [
       "1. 14728\n",
       "2. 84\n",
       "\n",
       "\n"
      ],
      "text/plain": [
       "[1] 14728    84"
      ]
     },
     "metadata": {},
     "output_type": "display_data"
    }
   ],
   "source": [
    "dim(se.filt[[]])"
   ]
  },
  {
   "cell_type": "markdown",
   "id": "92fe40c1",
   "metadata": {},
   "source": [
    "## plot each clone pre and post "
   ]
  },
  {
   "cell_type": "code",
   "execution_count": 14,
   "id": "8da11297",
   "metadata": {
    "scrolled": true
   },
   "outputs": [
    {
     "data": {
      "text/html": [
       "<style>\n",
       ".list-inline {list-style: none; margin:0; padding: 0}\n",
       ".list-inline>li {display: inline-block}\n",
       ".list-inline>li:not(:last-child)::after {content: \"\\00b7\"; padding: 0 .5ex}\n",
       "</style>\n",
       "<ol class=list-inline><li>'X9390G'</li><li>'X16223T'</li><li>'X1095C'</li><li>'X57C'</li><li>'X58C'</li><li>'X11590G'</li><li>'X6776C'</li><li>'X2442C'</li><li>'X12295C'</li><li>'X2351C'</li><li>'X13188T'</li><li>'X14687G'</li><li>'X9531G'</li><li>'X3847C'</li><li>'X12217G'</li><li>'X2706G'</li><li>'X14945A'</li><li>'X7028T'</li><li>'X14766T'</li><li>'X16362C'</li><li>'X64T'</li><li>'X16126C'</li><li>'X16519C'</li><li>'X3591A'</li><li>'X14568A'</li><li>'X152C'</li><li>'X150T'</li><li>'X3244A'</li><li>'X7595A'</li><li>'X10646T'</li><li>'X2623G'</li><li>'X11838A'</li><li>'X16537T'</li><li>'X318A'</li><li>'X66T'</li><li>'X7775A'</li><li>'X1949A'</li><li>'X8770T'</li><li>'X6093A'</li><li>'X4248C'</li><li>'X13108A'</li><li>'X15821A'</li><li>'X6456A'</li><li>'X9087A'</li></ol>\n"
      ],
      "text/latex": [
       "\\begin{enumerate*}\n",
       "\\item 'X9390G'\n",
       "\\item 'X16223T'\n",
       "\\item 'X1095C'\n",
       "\\item 'X57C'\n",
       "\\item 'X58C'\n",
       "\\item 'X11590G'\n",
       "\\item 'X6776C'\n",
       "\\item 'X2442C'\n",
       "\\item 'X12295C'\n",
       "\\item 'X2351C'\n",
       "\\item 'X13188T'\n",
       "\\item 'X14687G'\n",
       "\\item 'X9531G'\n",
       "\\item 'X3847C'\n",
       "\\item 'X12217G'\n",
       "\\item 'X2706G'\n",
       "\\item 'X14945A'\n",
       "\\item 'X7028T'\n",
       "\\item 'X14766T'\n",
       "\\item 'X16362C'\n",
       "\\item 'X64T'\n",
       "\\item 'X16126C'\n",
       "\\item 'X16519C'\n",
       "\\item 'X3591A'\n",
       "\\item 'X14568A'\n",
       "\\item 'X152C'\n",
       "\\item 'X150T'\n",
       "\\item 'X3244A'\n",
       "\\item 'X7595A'\n",
       "\\item 'X10646T'\n",
       "\\item 'X2623G'\n",
       "\\item 'X11838A'\n",
       "\\item 'X16537T'\n",
       "\\item 'X318A'\n",
       "\\item 'X66T'\n",
       "\\item 'X7775A'\n",
       "\\item 'X1949A'\n",
       "\\item 'X8770T'\n",
       "\\item 'X6093A'\n",
       "\\item 'X4248C'\n",
       "\\item 'X13108A'\n",
       "\\item 'X15821A'\n",
       "\\item 'X6456A'\n",
       "\\item 'X9087A'\n",
       "\\end{enumerate*}\n"
      ],
      "text/markdown": [
       "1. 'X9390G'\n",
       "2. 'X16223T'\n",
       "3. 'X1095C'\n",
       "4. 'X57C'\n",
       "5. 'X58C'\n",
       "6. 'X11590G'\n",
       "7. 'X6776C'\n",
       "8. 'X2442C'\n",
       "9. 'X12295C'\n",
       "10. 'X2351C'\n",
       "11. 'X13188T'\n",
       "12. 'X14687G'\n",
       "13. 'X9531G'\n",
       "14. 'X3847C'\n",
       "15. 'X12217G'\n",
       "16. 'X2706G'\n",
       "17. 'X14945A'\n",
       "18. 'X7028T'\n",
       "19. 'X14766T'\n",
       "20. 'X16362C'\n",
       "21. 'X64T'\n",
       "22. 'X16126C'\n",
       "23. 'X16519C'\n",
       "24. 'X3591A'\n",
       "25. 'X14568A'\n",
       "26. 'X152C'\n",
       "27. 'X150T'\n",
       "28. 'X3244A'\n",
       "29. 'X7595A'\n",
       "30. 'X10646T'\n",
       "31. 'X2623G'\n",
       "32. 'X11838A'\n",
       "33. 'X16537T'\n",
       "34. 'X318A'\n",
       "35. 'X66T'\n",
       "36. 'X7775A'\n",
       "37. 'X1949A'\n",
       "38. 'X8770T'\n",
       "39. 'X6093A'\n",
       "40. 'X4248C'\n",
       "41. 'X13108A'\n",
       "42. 'X15821A'\n",
       "43. 'X6456A'\n",
       "44. 'X9087A'\n",
       "\n",
       "\n"
      ],
      "text/plain": [
       " [1] \"X9390G\"  \"X16223T\" \"X1095C\"  \"X57C\"    \"X58C\"    \"X11590G\" \"X6776C\" \n",
       " [8] \"X2442C\"  \"X12295C\" \"X2351C\"  \"X13188T\" \"X14687G\" \"X9531G\"  \"X3847C\" \n",
       "[15] \"X12217G\" \"X2706G\"  \"X14945A\" \"X7028T\"  \"X14766T\" \"X16362C\" \"X64T\"   \n",
       "[22] \"X16126C\" \"X16519C\" \"X3591A\"  \"X14568A\" \"X152C\"   \"X150T\"   \"X3244A\" \n",
       "[29] \"X7595A\"  \"X10646T\" \"X2623G\"  \"X11838A\" \"X16537T\" \"X318A\"   \"X66T\"   \n",
       "[36] \"X7775A\"  \"X1949A\"  \"X8770T\"  \"X6093A\"  \"X4248C\"  \"X13108A\" \"X15821A\"\n",
       "[43] \"X6456A\"  \"X9087A\" "
      ]
     },
     "metadata": {},
     "output_type": "display_data"
    }
   ],
   "source": [
    "mt.vars <- colnames(cells_meta)\n",
    "mt.vars"
   ]
  },
  {
   "cell_type": "code",
   "execution_count": 17,
   "id": "575d9ad1",
   "metadata": {},
   "outputs": [
    {
     "data": {
      "text/html": [
       "<table class=\"dataframe\">\n",
       "<caption>A data.frame: 14728 × 84</caption>\n",
       "<thead>\n",
       "\t<tr><th></th><th scope=col>orig.ident</th><th scope=col>nCount_ATAC</th><th scope=col>nFeature_ATAC</th><th scope=col>total</th><th scope=col>duplicate</th><th scope=col>chimeric</th><th scope=col>unmapped</th><th scope=col>lowmapq</th><th scope=col>mitochondrial</th><th scope=col>passed_filters</th><th scope=col>⋯</th><th scope=col>X66T</th><th scope=col>X7775A</th><th scope=col>X1949A</th><th scope=col>X8770T</th><th scope=col>X6093A</th><th scope=col>X4248C</th><th scope=col>X13108A</th><th scope=col>X15821A</th><th scope=col>X6456A</th><th scope=col>X9087A</th></tr>\n",
       "\t<tr><th></th><th scope=col>&lt;chr&gt;</th><th scope=col>&lt;dbl&gt;</th><th scope=col>&lt;int&gt;</th><th scope=col>&lt;dbl&gt;</th><th scope=col>&lt;dbl&gt;</th><th scope=col>&lt;dbl&gt;</th><th scope=col>&lt;dbl&gt;</th><th scope=col>&lt;dbl&gt;</th><th scope=col>&lt;dbl&gt;</th><th scope=col>&lt;dbl&gt;</th><th scope=col>⋯</th><th scope=col>&lt;int&gt;</th><th scope=col>&lt;int&gt;</th><th scope=col>&lt;int&gt;</th><th scope=col>&lt;int&gt;</th><th scope=col>&lt;int&gt;</th><th scope=col>&lt;int&gt;</th><th scope=col>&lt;int&gt;</th><th scope=col>&lt;int&gt;</th><th scope=col>&lt;int&gt;</th><th scope=col>&lt;int&gt;</th></tr>\n",
       "</thead>\n",
       "<tbody>\n",
       "\t<tr><th scope=row>pre_AAACGAAAGCCGCAAA-1</th><td>pre</td><td>4794</td><td>4794</td><td>38802</td><td> 9366</td><td>247</td><td>213</td><td>1646</td><td>18980</td><td> 8350</td><td>⋯</td><td>0</td><td>0</td><td>0</td><td>0</td><td>0</td><td>0</td><td>0</td><td>0</td><td>0</td><td>0</td></tr>\n",
       "\t<tr><th scope=row>pre_AAACGAAAGGCTCCTG-1</th><td>pre</td><td>1887</td><td>1887</td><td>15412</td><td> 2697</td><td> 66</td><td> 65</td><td> 444</td><td> 8994</td><td> 3146</td><td>⋯</td><td>0</td><td>0</td><td>0</td><td>0</td><td>0</td><td>0</td><td>0</td><td>0</td><td>0</td><td>0</td></tr>\n",
       "\t<tr><th scope=row>pre_AAACGAAAGTAGCAAT-1</th><td>pre</td><td>3068</td><td>3068</td><td>19828</td><td> 5489</td><td>201</td><td>117</td><td> 859</td><td> 8209</td><td> 4953</td><td>⋯</td><td>0</td><td>0</td><td>0</td><td>0</td><td>0</td><td>0</td><td>0</td><td>0</td><td>0</td><td>0</td></tr>\n",
       "\t<tr><th scope=row>pre_AAACGAAAGTGAATAC-1</th><td>pre</td><td>1686</td><td>1686</td><td>11328</td><td> 2048</td><td> 58</td><td> 40</td><td> 407</td><td> 6141</td><td> 2634</td><td>⋯</td><td>0</td><td>0</td><td>0</td><td>0</td><td>0</td><td>0</td><td>0</td><td>0</td><td>0</td><td>0</td></tr>\n",
       "\t<tr><th scope=row>pre_AAACGAAAGTGTCACT-1</th><td>pre</td><td>4229</td><td>4229</td><td>26680</td><td> 9152</td><td>251</td><td>163</td><td>1499</td><td> 7181</td><td> 8434</td><td>⋯</td><td>0</td><td>0</td><td>0</td><td>0</td><td>0</td><td>0</td><td>0</td><td>0</td><td>0</td><td>0</td></tr>\n",
       "\t<tr><th scope=row>pre_AAACGAACACGGCCAT-1</th><td>pre</td><td>2054</td><td>2054</td><td>16145</td><td> 3572</td><td> 88</td><td> 91</td><td> 684</td><td> 8514</td><td> 3196</td><td>⋯</td><td>0</td><td>0</td><td>0</td><td>0</td><td>0</td><td>0</td><td>0</td><td>0</td><td>0</td><td>0</td></tr>\n",
       "\t<tr><th scope=row>pre_AAACGAACATAGGCGA-1</th><td>pre</td><td>3548</td><td>3548</td><td>34697</td><td> 8294</td><td>154</td><td>194</td><td>1261</td><td>18482</td><td> 6312</td><td>⋯</td><td>0</td><td>0</td><td>0</td><td>0</td><td>0</td><td>0</td><td>0</td><td>0</td><td>0</td><td>0</td></tr>\n",
       "\t<tr><th scope=row>pre_AAACGAACATTAACGC-1</th><td>pre</td><td>4001</td><td>4001</td><td>19923</td><td> 6293</td><td>177</td><td>104</td><td>1353</td><td> 4963</td><td> 7033</td><td>⋯</td><td>0</td><td>0</td><td>0</td><td>0</td><td>0</td><td>0</td><td>0</td><td>0</td><td>0</td><td>0</td></tr>\n",
       "\t<tr><th scope=row>pre_AAACGAAGTTAACTCG-1</th><td>pre</td><td>3580</td><td>3580</td><td>40203</td><td>11082</td><td>196</td><td>187</td><td>1392</td><td>20266</td><td> 7080</td><td>⋯</td><td>0</td><td>0</td><td>0</td><td>0</td><td>0</td><td>0</td><td>0</td><td>0</td><td>0</td><td>0</td></tr>\n",
       "\t<tr><th scope=row>pre_AAACGAAGTTTAAGGA-1</th><td>pre</td><td>2992</td><td>2992</td><td>34138</td><td> 7298</td><td>153</td><td>208</td><td> 979</td><td>20338</td><td> 5162</td><td>⋯</td><td>0</td><td>0</td><td>0</td><td>0</td><td>0</td><td>0</td><td>0</td><td>0</td><td>0</td><td>0</td></tr>\n",
       "\t<tr><th scope=row>pre_AAACGAATCATTCTTG-1</th><td>pre</td><td>3033</td><td>3033</td><td>31924</td><td> 6777</td><td>138</td><td>180</td><td>1071</td><td>18740</td><td> 5018</td><td>⋯</td><td>0</td><td>0</td><td>0</td><td>0</td><td>0</td><td>0</td><td>0</td><td>0</td><td>0</td><td>0</td></tr>\n",
       "\t<tr><th scope=row>pre_AAACTCGAGCCAGAAC-1</th><td>pre</td><td>6469</td><td>6469</td><td>54105</td><td>22408</td><td>420</td><td>309</td><td>3014</td><td>13503</td><td>14451</td><td>⋯</td><td>0</td><td>0</td><td>0</td><td>0</td><td>0</td><td>0</td><td>0</td><td>0</td><td>0</td><td>0</td></tr>\n",
       "\t<tr><th scope=row>pre_AAACTCGAGTGTCACT-1</th><td>pre</td><td>3696</td><td>3696</td><td>36565</td><td>11228</td><td>207</td><td>195</td><td>1601</td><td>16805</td><td> 6529</td><td>⋯</td><td>0</td><td>0</td><td>0</td><td>0</td><td>0</td><td>0</td><td>0</td><td>0</td><td>0</td><td>0</td></tr>\n",
       "\t<tr><th scope=row>pre_AAACTCGAGTTAGCGG-1</th><td>pre</td><td>4070</td><td>4070</td><td>24609</td><td> 7327</td><td>192</td><td>128</td><td>1261</td><td> 8906</td><td> 6795</td><td>⋯</td><td>0</td><td>0</td><td>0</td><td>0</td><td>0</td><td>0</td><td>0</td><td>0</td><td>0</td><td>0</td></tr>\n",
       "\t<tr><th scope=row>pre_AAACTCGCAAAGGTCG-1</th><td>pre</td><td>1584</td><td>1584</td><td>29737</td><td>10111</td><td>185</td><td>200</td><td>1242</td><td>14643</td><td> 3356</td><td>⋯</td><td>0</td><td>0</td><td>0</td><td>0</td><td>0</td><td>0</td><td>0</td><td>0</td><td>0</td><td>0</td></tr>\n",
       "\t<tr><th scope=row>pre_AAACTCGCACAAACGG-1</th><td>pre</td><td>3600</td><td>3600</td><td>26643</td><td> 6878</td><td>142</td><td>163</td><td>1184</td><td>12382</td><td> 5894</td><td>⋯</td><td>0</td><td>0</td><td>0</td><td>0</td><td>0</td><td>0</td><td>0</td><td>0</td><td>0</td><td>0</td></tr>\n",
       "\t<tr><th scope=row>pre_AAACTCGCACAGTTAC-1</th><td>pre</td><td>4255</td><td>4255</td><td>50910</td><td>14805</td><td>303</td><td>250</td><td>1781</td><td>26264</td><td> 7507</td><td>⋯</td><td>0</td><td>0</td><td>0</td><td>0</td><td>0</td><td>0</td><td>0</td><td>0</td><td>0</td><td>0</td></tr>\n",
       "\t<tr><th scope=row>pre_AAACTCGCATTTGTTC-1</th><td>pre</td><td>1824</td><td>1824</td><td>11000</td><td> 2924</td><td> 74</td><td> 30</td><td> 442</td><td> 4645</td><td> 2885</td><td>⋯</td><td>0</td><td>0</td><td>0</td><td>0</td><td>0</td><td>0</td><td>0</td><td>0</td><td>0</td><td>0</td></tr>\n",
       "\t<tr><th scope=row>pre_AAACTCGGTAGGGTCA-1</th><td>pre</td><td>6270</td><td>6270</td><td>96756</td><td>36403</td><td>803</td><td>613</td><td>5029</td><td>41491</td><td>12417</td><td>⋯</td><td>0</td><td>0</td><td>0</td><td>0</td><td>0</td><td>0</td><td>0</td><td>0</td><td>0</td><td>0</td></tr>\n",
       "\t<tr><th scope=row>pre_AAACTCGGTAGTCTGT-1</th><td>pre</td><td>5822</td><td>5822</td><td>37328</td><td>13813</td><td>260</td><td>202</td><td>1925</td><td> 8005</td><td>13123</td><td>⋯</td><td>0</td><td>0</td><td>0</td><td>0</td><td>0</td><td>0</td><td>0</td><td>0</td><td>0</td><td>0</td></tr>\n",
       "\t<tr><th scope=row>pre_AAACTCGGTCAAACAA-1</th><td>pre</td><td>1936</td><td>1936</td><td>13702</td><td> 2490</td><td> 83</td><td> 59</td><td> 586</td><td> 7662</td><td> 2822</td><td>⋯</td><td>0</td><td>0</td><td>0</td><td>0</td><td>0</td><td>0</td><td>0</td><td>0</td><td>0</td><td>0</td></tr>\n",
       "\t<tr><th scope=row>pre_AAACTCGGTGCCAAGA-1</th><td>pre</td><td>2748</td><td>2748</td><td>30305</td><td> 6443</td><td>105</td><td>135</td><td>1065</td><td>17394</td><td> 5163</td><td>⋯</td><td>0</td><td>0</td><td>0</td><td>0</td><td>0</td><td>0</td><td>0</td><td>0</td><td>0</td><td>0</td></tr>\n",
       "\t<tr><th scope=row>pre_AAACTCGTCACACGTA-1</th><td>pre</td><td>3147</td><td>3147</td><td>30822</td><td> 6319</td><td>130</td><td>157</td><td>1181</td><td>17041</td><td> 5994</td><td>⋯</td><td>0</td><td>0</td><td>0</td><td>0</td><td>0</td><td>0</td><td>0</td><td>0</td><td>0</td><td>0</td></tr>\n",
       "\t<tr><th scope=row>pre_AAACTCGTCCACGAGC-1</th><td>pre</td><td>1941</td><td>1941</td><td>14839</td><td> 3099</td><td> 92</td><td> 72</td><td> 531</td><td> 8277</td><td> 2768</td><td>⋯</td><td>0</td><td>0</td><td>0</td><td>0</td><td>0</td><td>0</td><td>0</td><td>0</td><td>0</td><td>0</td></tr>\n",
       "\t<tr><th scope=row>pre_AAACTCGTCCTCCTGA-1</th><td>pre</td><td>1790</td><td>1790</td><td>11987</td><td> 2452</td><td> 74</td><td> 83</td><td> 607</td><td> 5428</td><td> 3343</td><td>⋯</td><td>0</td><td>0</td><td>0</td><td>0</td><td>0</td><td>0</td><td>0</td><td>0</td><td>0</td><td>0</td></tr>\n",
       "\t<tr><th scope=row>pre_AAACTCGTCCTTCGAC-1</th><td>pre</td><td>2956</td><td>2956</td><td>27766</td><td> 5749</td><td>146</td><td>145</td><td>1439</td><td>14875</td><td> 5412</td><td>⋯</td><td>0</td><td>0</td><td>0</td><td>0</td><td>0</td><td>0</td><td>0</td><td>0</td><td>0</td><td>0</td></tr>\n",
       "\t<tr><th scope=row>pre_AAACTCGTCTAGTCGA-1</th><td>pre</td><td>3532</td><td>3532</td><td>37006</td><td> 9453</td><td>176</td><td>177</td><td>1536</td><td>18892</td><td> 6772</td><td>⋯</td><td>0</td><td>0</td><td>0</td><td>0</td><td>0</td><td>0</td><td>0</td><td>0</td><td>0</td><td>0</td></tr>\n",
       "\t<tr><th scope=row>pre_AAACTCGTCTGTCGGG-1</th><td>pre</td><td>2709</td><td>2709</td><td>19629</td><td> 5243</td><td>140</td><td> 94</td><td> 783</td><td> 8863</td><td> 4506</td><td>⋯</td><td>0</td><td>0</td><td>0</td><td>0</td><td>0</td><td>0</td><td>0</td><td>0</td><td>0</td><td>0</td></tr>\n",
       "\t<tr><th scope=row>pre_AAACTGCAGCGTGTTT-1</th><td>pre</td><td>4913</td><td>4913</td><td>55910</td><td>11013</td><td>267</td><td>260</td><td>1998</td><td>33899</td><td> 8473</td><td>⋯</td><td>0</td><td>0</td><td>0</td><td>0</td><td>0</td><td>0</td><td>0</td><td>0</td><td>0</td><td>0</td></tr>\n",
       "\t<tr><th scope=row>pre_AAACTGCAGCTCCGGT-1</th><td>pre</td><td>4677</td><td>4677</td><td>40357</td><td>10475</td><td>235</td><td>197</td><td>1702</td><td>19337</td><td> 8411</td><td>⋯</td><td>0</td><td>0</td><td>0</td><td>0</td><td>0</td><td>0</td><td>0</td><td>0</td><td>0</td><td>0</td></tr>\n",
       "\t<tr><th scope=row>⋮</th><td>⋮</td><td>⋮</td><td>⋮</td><td>⋮</td><td>⋮</td><td>⋮</td><td>⋮</td><td>⋮</td><td>⋮</td><td>⋮</td><td>⋱</td><td>⋮</td><td>⋮</td><td>⋮</td><td>⋮</td><td>⋮</td><td>⋮</td><td>⋮</td><td>⋮</td><td>⋮</td><td>⋮</td></tr>\n",
       "\t<tr><th scope=row>post_TTTGGCCTCTTCACTA-1</th><td>post</td><td>2402</td><td>2402</td><td>14405</td><td> 3638</td><td> 88</td><td> 87</td><td> 907</td><td> 5586</td><td> 4099</td><td>⋯</td><td>0</td><td>0</td><td>0</td><td>0</td><td>0</td><td>0</td><td>0</td><td>0</td><td>0</td><td>0</td></tr>\n",
       "\t<tr><th scope=row>post_TTTGGTTAGAGCAGCT-1</th><td>post</td><td>1315</td><td>1315</td><td>15473</td><td> 2654</td><td> 50</td><td> 66</td><td> 316</td><td> 9255</td><td> 3132</td><td>⋯</td><td>0</td><td>0</td><td>0</td><td>0</td><td>0</td><td>0</td><td>0</td><td>0</td><td>0</td><td>0</td></tr>\n",
       "\t<tr><th scope=row>post_TTTGGTTAGATCGCCC-1</th><td>post</td><td>1550</td><td>1550</td><td>13055</td><td> 1992</td><td> 41</td><td> 64</td><td> 525</td><td> 7708</td><td> 2725</td><td>⋯</td><td>0</td><td>0</td><td>0</td><td>0</td><td>0</td><td>0</td><td>0</td><td>0</td><td>0</td><td>0</td></tr>\n",
       "\t<tr><th scope=row>post_TTTGGTTAGCAACGGT-1</th><td>post</td><td>4722</td><td>4722</td><td>36160</td><td>12273</td><td>172</td><td>185</td><td>1629</td><td>12168</td><td> 9733</td><td>⋯</td><td>0</td><td>0</td><td>0</td><td>0</td><td>0</td><td>0</td><td>0</td><td>0</td><td>0</td><td>0</td></tr>\n",
       "\t<tr><th scope=row>post_TTTGGTTAGCTAACAA-1</th><td>post</td><td>2060</td><td>2060</td><td>17920</td><td> 4043</td><td> 93</td><td> 81</td><td> 841</td><td> 8720</td><td> 4142</td><td>⋯</td><td>0</td><td>0</td><td>0</td><td>0</td><td>0</td><td>0</td><td>0</td><td>0</td><td>0</td><td>0</td></tr>\n",
       "\t<tr><th scope=row>post_TTTGGTTAGGATTGAT-1</th><td>post</td><td>2399</td><td>2399</td><td>14210</td><td> 3000</td><td>106</td><td> 80</td><td> 962</td><td> 6104</td><td> 3958</td><td>⋯</td><td>0</td><td>0</td><td>0</td><td>0</td><td>0</td><td>0</td><td>0</td><td>0</td><td>0</td><td>0</td></tr>\n",
       "\t<tr><th scope=row>post_TTTGGTTAGTAGGTCG-1</th><td>post</td><td>1040</td><td>1040</td><td> 8793</td><td> 1382</td><td> 46</td><td> 36</td><td> 300</td><td> 5115</td><td> 1914</td><td>⋯</td><td>0</td><td>0</td><td>1</td><td>0</td><td>0</td><td>0</td><td>0</td><td>0</td><td>0</td><td>0</td></tr>\n",
       "\t<tr><th scope=row>post_TTTGGTTAGTCGCCTG-1</th><td>post</td><td> 600</td><td> 600</td><td> 8606</td><td>  839</td><td> 13</td><td> 42</td><td> 142</td><td> 6502</td><td> 1068</td><td>⋯</td><td>0</td><td>0</td><td>0</td><td>0</td><td>0</td><td>0</td><td>0</td><td>0</td><td>0</td><td>0</td></tr>\n",
       "\t<tr><th scope=row>post_TTTGGTTCAATGTAAG-1</th><td>post</td><td>2318</td><td>2318</td><td>20593</td><td> 3849</td><td> 65</td><td> 95</td><td>1048</td><td>11351</td><td> 4185</td><td>⋯</td><td>0</td><td>0</td><td>0</td><td>0</td><td>0</td><td>0</td><td>0</td><td>0</td><td>0</td><td>0</td></tr>\n",
       "\t<tr><th scope=row>post_TTTGGTTCAATTCTCT-1</th><td>post</td><td>1780</td><td>1780</td><td>18373</td><td> 3178</td><td> 77</td><td>102</td><td> 534</td><td>10497</td><td> 3985</td><td>⋯</td><td>0</td><td>0</td><td>0</td><td>0</td><td>0</td><td>0</td><td>0</td><td>0</td><td>0</td><td>0</td></tr>\n",
       "\t<tr><th scope=row>post_TTTGGTTCAGGGCTTC-1</th><td>post</td><td>1786</td><td>1786</td><td>11592</td><td> 2804</td><td> 55</td><td> 49</td><td> 458</td><td> 4831</td><td> 3395</td><td>⋯</td><td>0</td><td>0</td><td>0</td><td>0</td><td>0</td><td>0</td><td>0</td><td>0</td><td>0</td><td>0</td></tr>\n",
       "\t<tr><th scope=row>post_TTTGGTTGTATTCTTC-1</th><td>post</td><td>2247</td><td>2247</td><td>14104</td><td> 2987</td><td> 58</td><td> 59</td><td> 671</td><td> 6169</td><td> 4160</td><td>⋯</td><td>0</td><td>0</td><td>0</td><td>0</td><td>0</td><td>0</td><td>0</td><td>0</td><td>0</td><td>0</td></tr>\n",
       "\t<tr><th scope=row>post_TTTGGTTGTCCAACCG-1</th><td>post</td><td>4067</td><td>4067</td><td>26939</td><td> 6113</td><td>139</td><td>105</td><td>1405</td><td>11469</td><td> 7708</td><td>⋯</td><td>0</td><td>0</td><td>0</td><td>0</td><td>0</td><td>0</td><td>0</td><td>0</td><td>0</td><td>0</td></tr>\n",
       "\t<tr><th scope=row>post_TTTGGTTGTGGAAAGA-1</th><td>post</td><td>1455</td><td>1455</td><td> 9785</td><td> 1855</td><td> 45</td><td> 56</td><td> 481</td><td> 5100</td><td> 2248</td><td>⋯</td><td>0</td><td>0</td><td>0</td><td>0</td><td>0</td><td>0</td><td>0</td><td>0</td><td>0</td><td>0</td></tr>\n",
       "\t<tr><th scope=row>post_TTTGGTTGTGGACGAT-1</th><td>post</td><td>1750</td><td>1750</td><td>12609</td><td> 2415</td><td> 60</td><td> 62</td><td> 462</td><td> 6581</td><td> 3029</td><td>⋯</td><td>0</td><td>0</td><td>0</td><td>0</td><td>0</td><td>0</td><td>0</td><td>0</td><td>0</td><td>0</td></tr>\n",
       "\t<tr><th scope=row>post_TTTGGTTTCGACCCGA-1</th><td>post</td><td>1295</td><td>1295</td><td>11694</td><td> 1508</td><td> 24</td><td> 65</td><td> 325</td><td> 7771</td><td> 2001</td><td>⋯</td><td>0</td><td>0</td><td>0</td><td>0</td><td>0</td><td>0</td><td>0</td><td>0</td><td>0</td><td>0</td></tr>\n",
       "\t<tr><th scope=row>post_TTTGGTTTCGGATAGG-1</th><td>post</td><td>2335</td><td>2335</td><td>20567</td><td> 4932</td><td> 67</td><td>115</td><td> 799</td><td> 9005</td><td> 5649</td><td>⋯</td><td>0</td><td>0</td><td>0</td><td>0</td><td>0</td><td>0</td><td>0</td><td>0</td><td>0</td><td>0</td></tr>\n",
       "\t<tr><th scope=row>post_TTTGTGTAGTGGTGTG-1</th><td>post</td><td> 688</td><td> 688</td><td>10893</td><td> 1729</td><td> 35</td><td> 48</td><td> 386</td><td> 5947</td><td> 2748</td><td>⋯</td><td>0</td><td>0</td><td>0</td><td>0</td><td>0</td><td>0</td><td>0</td><td>0</td><td>0</td><td>0</td></tr>\n",
       "\t<tr><th scope=row>post_TTTGTGTCAAAGAGAG-1</th><td>post</td><td> 957</td><td> 957</td><td> 8871</td><td> 1173</td><td> 11</td><td> 38</td><td> 196</td><td> 5948</td><td> 1505</td><td>⋯</td><td>0</td><td>0</td><td>0</td><td>0</td><td>0</td><td>0</td><td>0</td><td>0</td><td>0</td><td>0</td></tr>\n",
       "\t<tr><th scope=row>post_TTTGTGTCAAGTCCTA-1</th><td>post</td><td>5160</td><td>5160</td><td>30688</td><td> 8333</td><td>190</td><td>149</td><td>1400</td><td> 9891</td><td>10725</td><td>⋯</td><td>0</td><td>0</td><td>0</td><td>0</td><td>0</td><td>0</td><td>0</td><td>0</td><td>0</td><td>0</td></tr>\n",
       "\t<tr><th scope=row>post_TTTGTGTGTAGCATGG-1</th><td>post</td><td>1946</td><td>1946</td><td>13015</td><td> 2760</td><td> 53</td><td> 75</td><td> 969</td><td> 5586</td><td> 3572</td><td>⋯</td><td>0</td><td>0</td><td>0</td><td>0</td><td>0</td><td>0</td><td>0</td><td>0</td><td>0</td><td>0</td></tr>\n",
       "\t<tr><th scope=row>post_TTTGTGTGTATCTGCA-1</th><td>post</td><td>2430</td><td>2430</td><td>18029</td><td> 3289</td><td> 72</td><td> 79</td><td> 735</td><td> 9559</td><td> 4295</td><td>⋯</td><td>0</td><td>0</td><td>0</td><td>0</td><td>0</td><td>0</td><td>0</td><td>0</td><td>0</td><td>0</td></tr>\n",
       "\t<tr><th scope=row>post_TTTGTGTGTCCCTTTG-1</th><td>post</td><td>4010</td><td>4010</td><td>20022</td><td> 5256</td><td>134</td><td>103</td><td>1186</td><td> 6456</td><td> 6887</td><td>⋯</td><td>0</td><td>0</td><td>0</td><td>0</td><td>0</td><td>0</td><td>0</td><td>0</td><td>0</td><td>0</td></tr>\n",
       "\t<tr><th scope=row>post_TTTGTGTGTTCTTTCA-1</th><td>post</td><td>2619</td><td>2619</td><td>14439</td><td> 3092</td><td> 80</td><td> 62</td><td> 599</td><td> 5959</td><td> 4647</td><td>⋯</td><td>0</td><td>0</td><td>0</td><td>0</td><td>0</td><td>0</td><td>0</td><td>0</td><td>0</td><td>0</td></tr>\n",
       "\t<tr><th scope=row>post_TTTGTGTTCAAAGTAG-1</th><td>post</td><td>2534</td><td>2534</td><td>20383</td><td> 4397</td><td> 59</td><td> 94</td><td> 854</td><td>10530</td><td> 4449</td><td>⋯</td><td>0</td><td>0</td><td>0</td><td>0</td><td>0</td><td>0</td><td>0</td><td>0</td><td>0</td><td>0</td></tr>\n",
       "\t<tr><th scope=row>post_TTTGTGTTCCGGAAAG-1</th><td>post</td><td>1868</td><td>1868</td><td>15950</td><td> 3670</td><td> 45</td><td> 82</td><td> 576</td><td> 8179</td><td> 3398</td><td>⋯</td><td>0</td><td>0</td><td>0</td><td>0</td><td>0</td><td>0</td><td>0</td><td>0</td><td>0</td><td>0</td></tr>\n",
       "\t<tr><th scope=row>post_TTTGTGTTCCTGACCT-1</th><td>post</td><td>2829</td><td>2829</td><td>15753</td><td> 4237</td><td> 97</td><td> 59</td><td> 758</td><td> 5709</td><td> 4893</td><td>⋯</td><td>0</td><td>0</td><td>0</td><td>0</td><td>0</td><td>0</td><td>0</td><td>0</td><td>0</td><td>0</td></tr>\n",
       "\t<tr><th scope=row>post_TTTGTGTTCGGATGTT-1</th><td>post</td><td>1426</td><td>1426</td><td>12237</td><td> 2256</td><td> 56</td><td> 69</td><td> 558</td><td> 6738</td><td> 2560</td><td>⋯</td><td>0</td><td>0</td><td>0</td><td>0</td><td>0</td><td>0</td><td>0</td><td>0</td><td>0</td><td>0</td></tr>\n",
       "\t<tr><th scope=row>post_TTTGTGTTCTTAATCC-1</th><td>post</td><td>2644</td><td>2644</td><td>13902</td><td> 3104</td><td>105</td><td> 64</td><td>1215</td><td> 4972</td><td> 4442</td><td>⋯</td><td>0</td><td>0</td><td>0</td><td>0</td><td>0</td><td>0</td><td>0</td><td>0</td><td>0</td><td>0</td></tr>\n",
       "\t<tr><th scope=row>post_TTTGTGTTCTTGCGCT-1</th><td>post</td><td>1422</td><td>1422</td><td>12349</td><td> 2219</td><td> 37</td><td> 55</td><td> 387</td><td> 7079</td><td> 2572</td><td>⋯</td><td>0</td><td>0</td><td>0</td><td>0</td><td>0</td><td>0</td><td>0</td><td>0</td><td>0</td><td>0</td></tr>\n",
       "</tbody>\n",
       "</table>\n"
      ],
      "text/latex": [
       "A data.frame: 14728 × 84\n",
       "\\begin{tabular}{r|lllllllllllllllllllll}\n",
       "  & orig.ident & nCount\\_ATAC & nFeature\\_ATAC & total & duplicate & chimeric & unmapped & lowmapq & mitochondrial & passed\\_filters & ⋯ & X66T & X7775A & X1949A & X8770T & X6093A & X4248C & X13108A & X15821A & X6456A & X9087A\\\\\n",
       "  & <chr> & <dbl> & <int> & <dbl> & <dbl> & <dbl> & <dbl> & <dbl> & <dbl> & <dbl> & ⋯ & <int> & <int> & <int> & <int> & <int> & <int> & <int> & <int> & <int> & <int>\\\\\n",
       "\\hline\n",
       "\tpre\\_AAACGAAAGCCGCAAA-1 & pre & 4794 & 4794 & 38802 &  9366 & 247 & 213 & 1646 & 18980 &  8350 & ⋯ & 0 & 0 & 0 & 0 & 0 & 0 & 0 & 0 & 0 & 0\\\\\n",
       "\tpre\\_AAACGAAAGGCTCCTG-1 & pre & 1887 & 1887 & 15412 &  2697 &  66 &  65 &  444 &  8994 &  3146 & ⋯ & 0 & 0 & 0 & 0 & 0 & 0 & 0 & 0 & 0 & 0\\\\\n",
       "\tpre\\_AAACGAAAGTAGCAAT-1 & pre & 3068 & 3068 & 19828 &  5489 & 201 & 117 &  859 &  8209 &  4953 & ⋯ & 0 & 0 & 0 & 0 & 0 & 0 & 0 & 0 & 0 & 0\\\\\n",
       "\tpre\\_AAACGAAAGTGAATAC-1 & pre & 1686 & 1686 & 11328 &  2048 &  58 &  40 &  407 &  6141 &  2634 & ⋯ & 0 & 0 & 0 & 0 & 0 & 0 & 0 & 0 & 0 & 0\\\\\n",
       "\tpre\\_AAACGAAAGTGTCACT-1 & pre & 4229 & 4229 & 26680 &  9152 & 251 & 163 & 1499 &  7181 &  8434 & ⋯ & 0 & 0 & 0 & 0 & 0 & 0 & 0 & 0 & 0 & 0\\\\\n",
       "\tpre\\_AAACGAACACGGCCAT-1 & pre & 2054 & 2054 & 16145 &  3572 &  88 &  91 &  684 &  8514 &  3196 & ⋯ & 0 & 0 & 0 & 0 & 0 & 0 & 0 & 0 & 0 & 0\\\\\n",
       "\tpre\\_AAACGAACATAGGCGA-1 & pre & 3548 & 3548 & 34697 &  8294 & 154 & 194 & 1261 & 18482 &  6312 & ⋯ & 0 & 0 & 0 & 0 & 0 & 0 & 0 & 0 & 0 & 0\\\\\n",
       "\tpre\\_AAACGAACATTAACGC-1 & pre & 4001 & 4001 & 19923 &  6293 & 177 & 104 & 1353 &  4963 &  7033 & ⋯ & 0 & 0 & 0 & 0 & 0 & 0 & 0 & 0 & 0 & 0\\\\\n",
       "\tpre\\_AAACGAAGTTAACTCG-1 & pre & 3580 & 3580 & 40203 & 11082 & 196 & 187 & 1392 & 20266 &  7080 & ⋯ & 0 & 0 & 0 & 0 & 0 & 0 & 0 & 0 & 0 & 0\\\\\n",
       "\tpre\\_AAACGAAGTTTAAGGA-1 & pre & 2992 & 2992 & 34138 &  7298 & 153 & 208 &  979 & 20338 &  5162 & ⋯ & 0 & 0 & 0 & 0 & 0 & 0 & 0 & 0 & 0 & 0\\\\\n",
       "\tpre\\_AAACGAATCATTCTTG-1 & pre & 3033 & 3033 & 31924 &  6777 & 138 & 180 & 1071 & 18740 &  5018 & ⋯ & 0 & 0 & 0 & 0 & 0 & 0 & 0 & 0 & 0 & 0\\\\\n",
       "\tpre\\_AAACTCGAGCCAGAAC-1 & pre & 6469 & 6469 & 54105 & 22408 & 420 & 309 & 3014 & 13503 & 14451 & ⋯ & 0 & 0 & 0 & 0 & 0 & 0 & 0 & 0 & 0 & 0\\\\\n",
       "\tpre\\_AAACTCGAGTGTCACT-1 & pre & 3696 & 3696 & 36565 & 11228 & 207 & 195 & 1601 & 16805 &  6529 & ⋯ & 0 & 0 & 0 & 0 & 0 & 0 & 0 & 0 & 0 & 0\\\\\n",
       "\tpre\\_AAACTCGAGTTAGCGG-1 & pre & 4070 & 4070 & 24609 &  7327 & 192 & 128 & 1261 &  8906 &  6795 & ⋯ & 0 & 0 & 0 & 0 & 0 & 0 & 0 & 0 & 0 & 0\\\\\n",
       "\tpre\\_AAACTCGCAAAGGTCG-1 & pre & 1584 & 1584 & 29737 & 10111 & 185 & 200 & 1242 & 14643 &  3356 & ⋯ & 0 & 0 & 0 & 0 & 0 & 0 & 0 & 0 & 0 & 0\\\\\n",
       "\tpre\\_AAACTCGCACAAACGG-1 & pre & 3600 & 3600 & 26643 &  6878 & 142 & 163 & 1184 & 12382 &  5894 & ⋯ & 0 & 0 & 0 & 0 & 0 & 0 & 0 & 0 & 0 & 0\\\\\n",
       "\tpre\\_AAACTCGCACAGTTAC-1 & pre & 4255 & 4255 & 50910 & 14805 & 303 & 250 & 1781 & 26264 &  7507 & ⋯ & 0 & 0 & 0 & 0 & 0 & 0 & 0 & 0 & 0 & 0\\\\\n",
       "\tpre\\_AAACTCGCATTTGTTC-1 & pre & 1824 & 1824 & 11000 &  2924 &  74 &  30 &  442 &  4645 &  2885 & ⋯ & 0 & 0 & 0 & 0 & 0 & 0 & 0 & 0 & 0 & 0\\\\\n",
       "\tpre\\_AAACTCGGTAGGGTCA-1 & pre & 6270 & 6270 & 96756 & 36403 & 803 & 613 & 5029 & 41491 & 12417 & ⋯ & 0 & 0 & 0 & 0 & 0 & 0 & 0 & 0 & 0 & 0\\\\\n",
       "\tpre\\_AAACTCGGTAGTCTGT-1 & pre & 5822 & 5822 & 37328 & 13813 & 260 & 202 & 1925 &  8005 & 13123 & ⋯ & 0 & 0 & 0 & 0 & 0 & 0 & 0 & 0 & 0 & 0\\\\\n",
       "\tpre\\_AAACTCGGTCAAACAA-1 & pre & 1936 & 1936 & 13702 &  2490 &  83 &  59 &  586 &  7662 &  2822 & ⋯ & 0 & 0 & 0 & 0 & 0 & 0 & 0 & 0 & 0 & 0\\\\\n",
       "\tpre\\_AAACTCGGTGCCAAGA-1 & pre & 2748 & 2748 & 30305 &  6443 & 105 & 135 & 1065 & 17394 &  5163 & ⋯ & 0 & 0 & 0 & 0 & 0 & 0 & 0 & 0 & 0 & 0\\\\\n",
       "\tpre\\_AAACTCGTCACACGTA-1 & pre & 3147 & 3147 & 30822 &  6319 & 130 & 157 & 1181 & 17041 &  5994 & ⋯ & 0 & 0 & 0 & 0 & 0 & 0 & 0 & 0 & 0 & 0\\\\\n",
       "\tpre\\_AAACTCGTCCACGAGC-1 & pre & 1941 & 1941 & 14839 &  3099 &  92 &  72 &  531 &  8277 &  2768 & ⋯ & 0 & 0 & 0 & 0 & 0 & 0 & 0 & 0 & 0 & 0\\\\\n",
       "\tpre\\_AAACTCGTCCTCCTGA-1 & pre & 1790 & 1790 & 11987 &  2452 &  74 &  83 &  607 &  5428 &  3343 & ⋯ & 0 & 0 & 0 & 0 & 0 & 0 & 0 & 0 & 0 & 0\\\\\n",
       "\tpre\\_AAACTCGTCCTTCGAC-1 & pre & 2956 & 2956 & 27766 &  5749 & 146 & 145 & 1439 & 14875 &  5412 & ⋯ & 0 & 0 & 0 & 0 & 0 & 0 & 0 & 0 & 0 & 0\\\\\n",
       "\tpre\\_AAACTCGTCTAGTCGA-1 & pre & 3532 & 3532 & 37006 &  9453 & 176 & 177 & 1536 & 18892 &  6772 & ⋯ & 0 & 0 & 0 & 0 & 0 & 0 & 0 & 0 & 0 & 0\\\\\n",
       "\tpre\\_AAACTCGTCTGTCGGG-1 & pre & 2709 & 2709 & 19629 &  5243 & 140 &  94 &  783 &  8863 &  4506 & ⋯ & 0 & 0 & 0 & 0 & 0 & 0 & 0 & 0 & 0 & 0\\\\\n",
       "\tpre\\_AAACTGCAGCGTGTTT-1 & pre & 4913 & 4913 & 55910 & 11013 & 267 & 260 & 1998 & 33899 &  8473 & ⋯ & 0 & 0 & 0 & 0 & 0 & 0 & 0 & 0 & 0 & 0\\\\\n",
       "\tpre\\_AAACTGCAGCTCCGGT-1 & pre & 4677 & 4677 & 40357 & 10475 & 235 & 197 & 1702 & 19337 &  8411 & ⋯ & 0 & 0 & 0 & 0 & 0 & 0 & 0 & 0 & 0 & 0\\\\\n",
       "\t⋮ & ⋮ & ⋮ & ⋮ & ⋮ & ⋮ & ⋮ & ⋮ & ⋮ & ⋮ & ⋮ & ⋱ & ⋮ & ⋮ & ⋮ & ⋮ & ⋮ & ⋮ & ⋮ & ⋮ & ⋮ & ⋮\\\\\n",
       "\tpost\\_TTTGGCCTCTTCACTA-1 & post & 2402 & 2402 & 14405 &  3638 &  88 &  87 &  907 &  5586 &  4099 & ⋯ & 0 & 0 & 0 & 0 & 0 & 0 & 0 & 0 & 0 & 0\\\\\n",
       "\tpost\\_TTTGGTTAGAGCAGCT-1 & post & 1315 & 1315 & 15473 &  2654 &  50 &  66 &  316 &  9255 &  3132 & ⋯ & 0 & 0 & 0 & 0 & 0 & 0 & 0 & 0 & 0 & 0\\\\\n",
       "\tpost\\_TTTGGTTAGATCGCCC-1 & post & 1550 & 1550 & 13055 &  1992 &  41 &  64 &  525 &  7708 &  2725 & ⋯ & 0 & 0 & 0 & 0 & 0 & 0 & 0 & 0 & 0 & 0\\\\\n",
       "\tpost\\_TTTGGTTAGCAACGGT-1 & post & 4722 & 4722 & 36160 & 12273 & 172 & 185 & 1629 & 12168 &  9733 & ⋯ & 0 & 0 & 0 & 0 & 0 & 0 & 0 & 0 & 0 & 0\\\\\n",
       "\tpost\\_TTTGGTTAGCTAACAA-1 & post & 2060 & 2060 & 17920 &  4043 &  93 &  81 &  841 &  8720 &  4142 & ⋯ & 0 & 0 & 0 & 0 & 0 & 0 & 0 & 0 & 0 & 0\\\\\n",
       "\tpost\\_TTTGGTTAGGATTGAT-1 & post & 2399 & 2399 & 14210 &  3000 & 106 &  80 &  962 &  6104 &  3958 & ⋯ & 0 & 0 & 0 & 0 & 0 & 0 & 0 & 0 & 0 & 0\\\\\n",
       "\tpost\\_TTTGGTTAGTAGGTCG-1 & post & 1040 & 1040 &  8793 &  1382 &  46 &  36 &  300 &  5115 &  1914 & ⋯ & 0 & 0 & 1 & 0 & 0 & 0 & 0 & 0 & 0 & 0\\\\\n",
       "\tpost\\_TTTGGTTAGTCGCCTG-1 & post &  600 &  600 &  8606 &   839 &  13 &  42 &  142 &  6502 &  1068 & ⋯ & 0 & 0 & 0 & 0 & 0 & 0 & 0 & 0 & 0 & 0\\\\\n",
       "\tpost\\_TTTGGTTCAATGTAAG-1 & post & 2318 & 2318 & 20593 &  3849 &  65 &  95 & 1048 & 11351 &  4185 & ⋯ & 0 & 0 & 0 & 0 & 0 & 0 & 0 & 0 & 0 & 0\\\\\n",
       "\tpost\\_TTTGGTTCAATTCTCT-1 & post & 1780 & 1780 & 18373 &  3178 &  77 & 102 &  534 & 10497 &  3985 & ⋯ & 0 & 0 & 0 & 0 & 0 & 0 & 0 & 0 & 0 & 0\\\\\n",
       "\tpost\\_TTTGGTTCAGGGCTTC-1 & post & 1786 & 1786 & 11592 &  2804 &  55 &  49 &  458 &  4831 &  3395 & ⋯ & 0 & 0 & 0 & 0 & 0 & 0 & 0 & 0 & 0 & 0\\\\\n",
       "\tpost\\_TTTGGTTGTATTCTTC-1 & post & 2247 & 2247 & 14104 &  2987 &  58 &  59 &  671 &  6169 &  4160 & ⋯ & 0 & 0 & 0 & 0 & 0 & 0 & 0 & 0 & 0 & 0\\\\\n",
       "\tpost\\_TTTGGTTGTCCAACCG-1 & post & 4067 & 4067 & 26939 &  6113 & 139 & 105 & 1405 & 11469 &  7708 & ⋯ & 0 & 0 & 0 & 0 & 0 & 0 & 0 & 0 & 0 & 0\\\\\n",
       "\tpost\\_TTTGGTTGTGGAAAGA-1 & post & 1455 & 1455 &  9785 &  1855 &  45 &  56 &  481 &  5100 &  2248 & ⋯ & 0 & 0 & 0 & 0 & 0 & 0 & 0 & 0 & 0 & 0\\\\\n",
       "\tpost\\_TTTGGTTGTGGACGAT-1 & post & 1750 & 1750 & 12609 &  2415 &  60 &  62 &  462 &  6581 &  3029 & ⋯ & 0 & 0 & 0 & 0 & 0 & 0 & 0 & 0 & 0 & 0\\\\\n",
       "\tpost\\_TTTGGTTTCGACCCGA-1 & post & 1295 & 1295 & 11694 &  1508 &  24 &  65 &  325 &  7771 &  2001 & ⋯ & 0 & 0 & 0 & 0 & 0 & 0 & 0 & 0 & 0 & 0\\\\\n",
       "\tpost\\_TTTGGTTTCGGATAGG-1 & post & 2335 & 2335 & 20567 &  4932 &  67 & 115 &  799 &  9005 &  5649 & ⋯ & 0 & 0 & 0 & 0 & 0 & 0 & 0 & 0 & 0 & 0\\\\\n",
       "\tpost\\_TTTGTGTAGTGGTGTG-1 & post &  688 &  688 & 10893 &  1729 &  35 &  48 &  386 &  5947 &  2748 & ⋯ & 0 & 0 & 0 & 0 & 0 & 0 & 0 & 0 & 0 & 0\\\\\n",
       "\tpost\\_TTTGTGTCAAAGAGAG-1 & post &  957 &  957 &  8871 &  1173 &  11 &  38 &  196 &  5948 &  1505 & ⋯ & 0 & 0 & 0 & 0 & 0 & 0 & 0 & 0 & 0 & 0\\\\\n",
       "\tpost\\_TTTGTGTCAAGTCCTA-1 & post & 5160 & 5160 & 30688 &  8333 & 190 & 149 & 1400 &  9891 & 10725 & ⋯ & 0 & 0 & 0 & 0 & 0 & 0 & 0 & 0 & 0 & 0\\\\\n",
       "\tpost\\_TTTGTGTGTAGCATGG-1 & post & 1946 & 1946 & 13015 &  2760 &  53 &  75 &  969 &  5586 &  3572 & ⋯ & 0 & 0 & 0 & 0 & 0 & 0 & 0 & 0 & 0 & 0\\\\\n",
       "\tpost\\_TTTGTGTGTATCTGCA-1 & post & 2430 & 2430 & 18029 &  3289 &  72 &  79 &  735 &  9559 &  4295 & ⋯ & 0 & 0 & 0 & 0 & 0 & 0 & 0 & 0 & 0 & 0\\\\\n",
       "\tpost\\_TTTGTGTGTCCCTTTG-1 & post & 4010 & 4010 & 20022 &  5256 & 134 & 103 & 1186 &  6456 &  6887 & ⋯ & 0 & 0 & 0 & 0 & 0 & 0 & 0 & 0 & 0 & 0\\\\\n",
       "\tpost\\_TTTGTGTGTTCTTTCA-1 & post & 2619 & 2619 & 14439 &  3092 &  80 &  62 &  599 &  5959 &  4647 & ⋯ & 0 & 0 & 0 & 0 & 0 & 0 & 0 & 0 & 0 & 0\\\\\n",
       "\tpost\\_TTTGTGTTCAAAGTAG-1 & post & 2534 & 2534 & 20383 &  4397 &  59 &  94 &  854 & 10530 &  4449 & ⋯ & 0 & 0 & 0 & 0 & 0 & 0 & 0 & 0 & 0 & 0\\\\\n",
       "\tpost\\_TTTGTGTTCCGGAAAG-1 & post & 1868 & 1868 & 15950 &  3670 &  45 &  82 &  576 &  8179 &  3398 & ⋯ & 0 & 0 & 0 & 0 & 0 & 0 & 0 & 0 & 0 & 0\\\\\n",
       "\tpost\\_TTTGTGTTCCTGACCT-1 & post & 2829 & 2829 & 15753 &  4237 &  97 &  59 &  758 &  5709 &  4893 & ⋯ & 0 & 0 & 0 & 0 & 0 & 0 & 0 & 0 & 0 & 0\\\\\n",
       "\tpost\\_TTTGTGTTCGGATGTT-1 & post & 1426 & 1426 & 12237 &  2256 &  56 &  69 &  558 &  6738 &  2560 & ⋯ & 0 & 0 & 0 & 0 & 0 & 0 & 0 & 0 & 0 & 0\\\\\n",
       "\tpost\\_TTTGTGTTCTTAATCC-1 & post & 2644 & 2644 & 13902 &  3104 & 105 &  64 & 1215 &  4972 &  4442 & ⋯ & 0 & 0 & 0 & 0 & 0 & 0 & 0 & 0 & 0 & 0\\\\\n",
       "\tpost\\_TTTGTGTTCTTGCGCT-1 & post & 1422 & 1422 & 12349 &  2219 &  37 &  55 &  387 &  7079 &  2572 & ⋯ & 0 & 0 & 0 & 0 & 0 & 0 & 0 & 0 & 0 & 0\\\\\n",
       "\\end{tabular}\n"
      ],
      "text/markdown": [
       "\n",
       "A data.frame: 14728 × 84\n",
       "\n",
       "| <!--/--> | orig.ident &lt;chr&gt; | nCount_ATAC &lt;dbl&gt; | nFeature_ATAC &lt;int&gt; | total &lt;dbl&gt; | duplicate &lt;dbl&gt; | chimeric &lt;dbl&gt; | unmapped &lt;dbl&gt; | lowmapq &lt;dbl&gt; | mitochondrial &lt;dbl&gt; | passed_filters &lt;dbl&gt; | ⋯ ⋯ | X66T &lt;int&gt; | X7775A &lt;int&gt; | X1949A &lt;int&gt; | X8770T &lt;int&gt; | X6093A &lt;int&gt; | X4248C &lt;int&gt; | X13108A &lt;int&gt; | X15821A &lt;int&gt; | X6456A &lt;int&gt; | X9087A &lt;int&gt; |\n",
       "|---|---|---|---|---|---|---|---|---|---|---|---|---|---|---|---|---|---|---|---|---|---|\n",
       "| pre_AAACGAAAGCCGCAAA-1 | pre | 4794 | 4794 | 38802 |  9366 | 247 | 213 | 1646 | 18980 |  8350 | ⋯ | 0 | 0 | 0 | 0 | 0 | 0 | 0 | 0 | 0 | 0 |\n",
       "| pre_AAACGAAAGGCTCCTG-1 | pre | 1887 | 1887 | 15412 |  2697 |  66 |  65 |  444 |  8994 |  3146 | ⋯ | 0 | 0 | 0 | 0 | 0 | 0 | 0 | 0 | 0 | 0 |\n",
       "| pre_AAACGAAAGTAGCAAT-1 | pre | 3068 | 3068 | 19828 |  5489 | 201 | 117 |  859 |  8209 |  4953 | ⋯ | 0 | 0 | 0 | 0 | 0 | 0 | 0 | 0 | 0 | 0 |\n",
       "| pre_AAACGAAAGTGAATAC-1 | pre | 1686 | 1686 | 11328 |  2048 |  58 |  40 |  407 |  6141 |  2634 | ⋯ | 0 | 0 | 0 | 0 | 0 | 0 | 0 | 0 | 0 | 0 |\n",
       "| pre_AAACGAAAGTGTCACT-1 | pre | 4229 | 4229 | 26680 |  9152 | 251 | 163 | 1499 |  7181 |  8434 | ⋯ | 0 | 0 | 0 | 0 | 0 | 0 | 0 | 0 | 0 | 0 |\n",
       "| pre_AAACGAACACGGCCAT-1 | pre | 2054 | 2054 | 16145 |  3572 |  88 |  91 |  684 |  8514 |  3196 | ⋯ | 0 | 0 | 0 | 0 | 0 | 0 | 0 | 0 | 0 | 0 |\n",
       "| pre_AAACGAACATAGGCGA-1 | pre | 3548 | 3548 | 34697 |  8294 | 154 | 194 | 1261 | 18482 |  6312 | ⋯ | 0 | 0 | 0 | 0 | 0 | 0 | 0 | 0 | 0 | 0 |\n",
       "| pre_AAACGAACATTAACGC-1 | pre | 4001 | 4001 | 19923 |  6293 | 177 | 104 | 1353 |  4963 |  7033 | ⋯ | 0 | 0 | 0 | 0 | 0 | 0 | 0 | 0 | 0 | 0 |\n",
       "| pre_AAACGAAGTTAACTCG-1 | pre | 3580 | 3580 | 40203 | 11082 | 196 | 187 | 1392 | 20266 |  7080 | ⋯ | 0 | 0 | 0 | 0 | 0 | 0 | 0 | 0 | 0 | 0 |\n",
       "| pre_AAACGAAGTTTAAGGA-1 | pre | 2992 | 2992 | 34138 |  7298 | 153 | 208 |  979 | 20338 |  5162 | ⋯ | 0 | 0 | 0 | 0 | 0 | 0 | 0 | 0 | 0 | 0 |\n",
       "| pre_AAACGAATCATTCTTG-1 | pre | 3033 | 3033 | 31924 |  6777 | 138 | 180 | 1071 | 18740 |  5018 | ⋯ | 0 | 0 | 0 | 0 | 0 | 0 | 0 | 0 | 0 | 0 |\n",
       "| pre_AAACTCGAGCCAGAAC-1 | pre | 6469 | 6469 | 54105 | 22408 | 420 | 309 | 3014 | 13503 | 14451 | ⋯ | 0 | 0 | 0 | 0 | 0 | 0 | 0 | 0 | 0 | 0 |\n",
       "| pre_AAACTCGAGTGTCACT-1 | pre | 3696 | 3696 | 36565 | 11228 | 207 | 195 | 1601 | 16805 |  6529 | ⋯ | 0 | 0 | 0 | 0 | 0 | 0 | 0 | 0 | 0 | 0 |\n",
       "| pre_AAACTCGAGTTAGCGG-1 | pre | 4070 | 4070 | 24609 |  7327 | 192 | 128 | 1261 |  8906 |  6795 | ⋯ | 0 | 0 | 0 | 0 | 0 | 0 | 0 | 0 | 0 | 0 |\n",
       "| pre_AAACTCGCAAAGGTCG-1 | pre | 1584 | 1584 | 29737 | 10111 | 185 | 200 | 1242 | 14643 |  3356 | ⋯ | 0 | 0 | 0 | 0 | 0 | 0 | 0 | 0 | 0 | 0 |\n",
       "| pre_AAACTCGCACAAACGG-1 | pre | 3600 | 3600 | 26643 |  6878 | 142 | 163 | 1184 | 12382 |  5894 | ⋯ | 0 | 0 | 0 | 0 | 0 | 0 | 0 | 0 | 0 | 0 |\n",
       "| pre_AAACTCGCACAGTTAC-1 | pre | 4255 | 4255 | 50910 | 14805 | 303 | 250 | 1781 | 26264 |  7507 | ⋯ | 0 | 0 | 0 | 0 | 0 | 0 | 0 | 0 | 0 | 0 |\n",
       "| pre_AAACTCGCATTTGTTC-1 | pre | 1824 | 1824 | 11000 |  2924 |  74 |  30 |  442 |  4645 |  2885 | ⋯ | 0 | 0 | 0 | 0 | 0 | 0 | 0 | 0 | 0 | 0 |\n",
       "| pre_AAACTCGGTAGGGTCA-1 | pre | 6270 | 6270 | 96756 | 36403 | 803 | 613 | 5029 | 41491 | 12417 | ⋯ | 0 | 0 | 0 | 0 | 0 | 0 | 0 | 0 | 0 | 0 |\n",
       "| pre_AAACTCGGTAGTCTGT-1 | pre | 5822 | 5822 | 37328 | 13813 | 260 | 202 | 1925 |  8005 | 13123 | ⋯ | 0 | 0 | 0 | 0 | 0 | 0 | 0 | 0 | 0 | 0 |\n",
       "| pre_AAACTCGGTCAAACAA-1 | pre | 1936 | 1936 | 13702 |  2490 |  83 |  59 |  586 |  7662 |  2822 | ⋯ | 0 | 0 | 0 | 0 | 0 | 0 | 0 | 0 | 0 | 0 |\n",
       "| pre_AAACTCGGTGCCAAGA-1 | pre | 2748 | 2748 | 30305 |  6443 | 105 | 135 | 1065 | 17394 |  5163 | ⋯ | 0 | 0 | 0 | 0 | 0 | 0 | 0 | 0 | 0 | 0 |\n",
       "| pre_AAACTCGTCACACGTA-1 | pre | 3147 | 3147 | 30822 |  6319 | 130 | 157 | 1181 | 17041 |  5994 | ⋯ | 0 | 0 | 0 | 0 | 0 | 0 | 0 | 0 | 0 | 0 |\n",
       "| pre_AAACTCGTCCACGAGC-1 | pre | 1941 | 1941 | 14839 |  3099 |  92 |  72 |  531 |  8277 |  2768 | ⋯ | 0 | 0 | 0 | 0 | 0 | 0 | 0 | 0 | 0 | 0 |\n",
       "| pre_AAACTCGTCCTCCTGA-1 | pre | 1790 | 1790 | 11987 |  2452 |  74 |  83 |  607 |  5428 |  3343 | ⋯ | 0 | 0 | 0 | 0 | 0 | 0 | 0 | 0 | 0 | 0 |\n",
       "| pre_AAACTCGTCCTTCGAC-1 | pre | 2956 | 2956 | 27766 |  5749 | 146 | 145 | 1439 | 14875 |  5412 | ⋯ | 0 | 0 | 0 | 0 | 0 | 0 | 0 | 0 | 0 | 0 |\n",
       "| pre_AAACTCGTCTAGTCGA-1 | pre | 3532 | 3532 | 37006 |  9453 | 176 | 177 | 1536 | 18892 |  6772 | ⋯ | 0 | 0 | 0 | 0 | 0 | 0 | 0 | 0 | 0 | 0 |\n",
       "| pre_AAACTCGTCTGTCGGG-1 | pre | 2709 | 2709 | 19629 |  5243 | 140 |  94 |  783 |  8863 |  4506 | ⋯ | 0 | 0 | 0 | 0 | 0 | 0 | 0 | 0 | 0 | 0 |\n",
       "| pre_AAACTGCAGCGTGTTT-1 | pre | 4913 | 4913 | 55910 | 11013 | 267 | 260 | 1998 | 33899 |  8473 | ⋯ | 0 | 0 | 0 | 0 | 0 | 0 | 0 | 0 | 0 | 0 |\n",
       "| pre_AAACTGCAGCTCCGGT-1 | pre | 4677 | 4677 | 40357 | 10475 | 235 | 197 | 1702 | 19337 |  8411 | ⋯ | 0 | 0 | 0 | 0 | 0 | 0 | 0 | 0 | 0 | 0 |\n",
       "| ⋮ | ⋮ | ⋮ | ⋮ | ⋮ | ⋮ | ⋮ | ⋮ | ⋮ | ⋮ | ⋮ | ⋱ | ⋮ | ⋮ | ⋮ | ⋮ | ⋮ | ⋮ | ⋮ | ⋮ | ⋮ | ⋮ |\n",
       "| post_TTTGGCCTCTTCACTA-1 | post | 2402 | 2402 | 14405 |  3638 |  88 |  87 |  907 |  5586 |  4099 | ⋯ | 0 | 0 | 0 | 0 | 0 | 0 | 0 | 0 | 0 | 0 |\n",
       "| post_TTTGGTTAGAGCAGCT-1 | post | 1315 | 1315 | 15473 |  2654 |  50 |  66 |  316 |  9255 |  3132 | ⋯ | 0 | 0 | 0 | 0 | 0 | 0 | 0 | 0 | 0 | 0 |\n",
       "| post_TTTGGTTAGATCGCCC-1 | post | 1550 | 1550 | 13055 |  1992 |  41 |  64 |  525 |  7708 |  2725 | ⋯ | 0 | 0 | 0 | 0 | 0 | 0 | 0 | 0 | 0 | 0 |\n",
       "| post_TTTGGTTAGCAACGGT-1 | post | 4722 | 4722 | 36160 | 12273 | 172 | 185 | 1629 | 12168 |  9733 | ⋯ | 0 | 0 | 0 | 0 | 0 | 0 | 0 | 0 | 0 | 0 |\n",
       "| post_TTTGGTTAGCTAACAA-1 | post | 2060 | 2060 | 17920 |  4043 |  93 |  81 |  841 |  8720 |  4142 | ⋯ | 0 | 0 | 0 | 0 | 0 | 0 | 0 | 0 | 0 | 0 |\n",
       "| post_TTTGGTTAGGATTGAT-1 | post | 2399 | 2399 | 14210 |  3000 | 106 |  80 |  962 |  6104 |  3958 | ⋯ | 0 | 0 | 0 | 0 | 0 | 0 | 0 | 0 | 0 | 0 |\n",
       "| post_TTTGGTTAGTAGGTCG-1 | post | 1040 | 1040 |  8793 |  1382 |  46 |  36 |  300 |  5115 |  1914 | ⋯ | 0 | 0 | 1 | 0 | 0 | 0 | 0 | 0 | 0 | 0 |\n",
       "| post_TTTGGTTAGTCGCCTG-1 | post |  600 |  600 |  8606 |   839 |  13 |  42 |  142 |  6502 |  1068 | ⋯ | 0 | 0 | 0 | 0 | 0 | 0 | 0 | 0 | 0 | 0 |\n",
       "| post_TTTGGTTCAATGTAAG-1 | post | 2318 | 2318 | 20593 |  3849 |  65 |  95 | 1048 | 11351 |  4185 | ⋯ | 0 | 0 | 0 | 0 | 0 | 0 | 0 | 0 | 0 | 0 |\n",
       "| post_TTTGGTTCAATTCTCT-1 | post | 1780 | 1780 | 18373 |  3178 |  77 | 102 |  534 | 10497 |  3985 | ⋯ | 0 | 0 | 0 | 0 | 0 | 0 | 0 | 0 | 0 | 0 |\n",
       "| post_TTTGGTTCAGGGCTTC-1 | post | 1786 | 1786 | 11592 |  2804 |  55 |  49 |  458 |  4831 |  3395 | ⋯ | 0 | 0 | 0 | 0 | 0 | 0 | 0 | 0 | 0 | 0 |\n",
       "| post_TTTGGTTGTATTCTTC-1 | post | 2247 | 2247 | 14104 |  2987 |  58 |  59 |  671 |  6169 |  4160 | ⋯ | 0 | 0 | 0 | 0 | 0 | 0 | 0 | 0 | 0 | 0 |\n",
       "| post_TTTGGTTGTCCAACCG-1 | post | 4067 | 4067 | 26939 |  6113 | 139 | 105 | 1405 | 11469 |  7708 | ⋯ | 0 | 0 | 0 | 0 | 0 | 0 | 0 | 0 | 0 | 0 |\n",
       "| post_TTTGGTTGTGGAAAGA-1 | post | 1455 | 1455 |  9785 |  1855 |  45 |  56 |  481 |  5100 |  2248 | ⋯ | 0 | 0 | 0 | 0 | 0 | 0 | 0 | 0 | 0 | 0 |\n",
       "| post_TTTGGTTGTGGACGAT-1 | post | 1750 | 1750 | 12609 |  2415 |  60 |  62 |  462 |  6581 |  3029 | ⋯ | 0 | 0 | 0 | 0 | 0 | 0 | 0 | 0 | 0 | 0 |\n",
       "| post_TTTGGTTTCGACCCGA-1 | post | 1295 | 1295 | 11694 |  1508 |  24 |  65 |  325 |  7771 |  2001 | ⋯ | 0 | 0 | 0 | 0 | 0 | 0 | 0 | 0 | 0 | 0 |\n",
       "| post_TTTGGTTTCGGATAGG-1 | post | 2335 | 2335 | 20567 |  4932 |  67 | 115 |  799 |  9005 |  5649 | ⋯ | 0 | 0 | 0 | 0 | 0 | 0 | 0 | 0 | 0 | 0 |\n",
       "| post_TTTGTGTAGTGGTGTG-1 | post |  688 |  688 | 10893 |  1729 |  35 |  48 |  386 |  5947 |  2748 | ⋯ | 0 | 0 | 0 | 0 | 0 | 0 | 0 | 0 | 0 | 0 |\n",
       "| post_TTTGTGTCAAAGAGAG-1 | post |  957 |  957 |  8871 |  1173 |  11 |  38 |  196 |  5948 |  1505 | ⋯ | 0 | 0 | 0 | 0 | 0 | 0 | 0 | 0 | 0 | 0 |\n",
       "| post_TTTGTGTCAAGTCCTA-1 | post | 5160 | 5160 | 30688 |  8333 | 190 | 149 | 1400 |  9891 | 10725 | ⋯ | 0 | 0 | 0 | 0 | 0 | 0 | 0 | 0 | 0 | 0 |\n",
       "| post_TTTGTGTGTAGCATGG-1 | post | 1946 | 1946 | 13015 |  2760 |  53 |  75 |  969 |  5586 |  3572 | ⋯ | 0 | 0 | 0 | 0 | 0 | 0 | 0 | 0 | 0 | 0 |\n",
       "| post_TTTGTGTGTATCTGCA-1 | post | 2430 | 2430 | 18029 |  3289 |  72 |  79 |  735 |  9559 |  4295 | ⋯ | 0 | 0 | 0 | 0 | 0 | 0 | 0 | 0 | 0 | 0 |\n",
       "| post_TTTGTGTGTCCCTTTG-1 | post | 4010 | 4010 | 20022 |  5256 | 134 | 103 | 1186 |  6456 |  6887 | ⋯ | 0 | 0 | 0 | 0 | 0 | 0 | 0 | 0 | 0 | 0 |\n",
       "| post_TTTGTGTGTTCTTTCA-1 | post | 2619 | 2619 | 14439 |  3092 |  80 |  62 |  599 |  5959 |  4647 | ⋯ | 0 | 0 | 0 | 0 | 0 | 0 | 0 | 0 | 0 | 0 |\n",
       "| post_TTTGTGTTCAAAGTAG-1 | post | 2534 | 2534 | 20383 |  4397 |  59 |  94 |  854 | 10530 |  4449 | ⋯ | 0 | 0 | 0 | 0 | 0 | 0 | 0 | 0 | 0 | 0 |\n",
       "| post_TTTGTGTTCCGGAAAG-1 | post | 1868 | 1868 | 15950 |  3670 |  45 |  82 |  576 |  8179 |  3398 | ⋯ | 0 | 0 | 0 | 0 | 0 | 0 | 0 | 0 | 0 | 0 |\n",
       "| post_TTTGTGTTCCTGACCT-1 | post | 2829 | 2829 | 15753 |  4237 |  97 |  59 |  758 |  5709 |  4893 | ⋯ | 0 | 0 | 0 | 0 | 0 | 0 | 0 | 0 | 0 | 0 |\n",
       "| post_TTTGTGTTCGGATGTT-1 | post | 1426 | 1426 | 12237 |  2256 |  56 |  69 |  558 |  6738 |  2560 | ⋯ | 0 | 0 | 0 | 0 | 0 | 0 | 0 | 0 | 0 | 0 |\n",
       "| post_TTTGTGTTCTTAATCC-1 | post | 2644 | 2644 | 13902 |  3104 | 105 |  64 | 1215 |  4972 |  4442 | ⋯ | 0 | 0 | 0 | 0 | 0 | 0 | 0 | 0 | 0 | 0 |\n",
       "| post_TTTGTGTTCTTGCGCT-1 | post | 1422 | 1422 | 12349 |  2219 |  37 |  55 |  387 |  7079 |  2572 | ⋯ | 0 | 0 | 0 | 0 | 0 | 0 | 0 | 0 | 0 | 0 |\n",
       "\n"
      ],
      "text/plain": [
       "                        orig.ident nCount_ATAC nFeature_ATAC total duplicate\n",
       "pre_AAACGAAAGCCGCAAA-1  pre        4794        4794          38802  9366    \n",
       "pre_AAACGAAAGGCTCCTG-1  pre        1887        1887          15412  2697    \n",
       "pre_AAACGAAAGTAGCAAT-1  pre        3068        3068          19828  5489    \n",
       "pre_AAACGAAAGTGAATAC-1  pre        1686        1686          11328  2048    \n",
       "pre_AAACGAAAGTGTCACT-1  pre        4229        4229          26680  9152    \n",
       "pre_AAACGAACACGGCCAT-1  pre        2054        2054          16145  3572    \n",
       "pre_AAACGAACATAGGCGA-1  pre        3548        3548          34697  8294    \n",
       "pre_AAACGAACATTAACGC-1  pre        4001        4001          19923  6293    \n",
       "pre_AAACGAAGTTAACTCG-1  pre        3580        3580          40203 11082    \n",
       "pre_AAACGAAGTTTAAGGA-1  pre        2992        2992          34138  7298    \n",
       "pre_AAACGAATCATTCTTG-1  pre        3033        3033          31924  6777    \n",
       "pre_AAACTCGAGCCAGAAC-1  pre        6469        6469          54105 22408    \n",
       "pre_AAACTCGAGTGTCACT-1  pre        3696        3696          36565 11228    \n",
       "pre_AAACTCGAGTTAGCGG-1  pre        4070        4070          24609  7327    \n",
       "pre_AAACTCGCAAAGGTCG-1  pre        1584        1584          29737 10111    \n",
       "pre_AAACTCGCACAAACGG-1  pre        3600        3600          26643  6878    \n",
       "pre_AAACTCGCACAGTTAC-1  pre        4255        4255          50910 14805    \n",
       "pre_AAACTCGCATTTGTTC-1  pre        1824        1824          11000  2924    \n",
       "pre_AAACTCGGTAGGGTCA-1  pre        6270        6270          96756 36403    \n",
       "pre_AAACTCGGTAGTCTGT-1  pre        5822        5822          37328 13813    \n",
       "pre_AAACTCGGTCAAACAA-1  pre        1936        1936          13702  2490    \n",
       "pre_AAACTCGGTGCCAAGA-1  pre        2748        2748          30305  6443    \n",
       "pre_AAACTCGTCACACGTA-1  pre        3147        3147          30822  6319    \n",
       "pre_AAACTCGTCCACGAGC-1  pre        1941        1941          14839  3099    \n",
       "pre_AAACTCGTCCTCCTGA-1  pre        1790        1790          11987  2452    \n",
       "pre_AAACTCGTCCTTCGAC-1  pre        2956        2956          27766  5749    \n",
       "pre_AAACTCGTCTAGTCGA-1  pre        3532        3532          37006  9453    \n",
       "pre_AAACTCGTCTGTCGGG-1  pre        2709        2709          19629  5243    \n",
       "pre_AAACTGCAGCGTGTTT-1  pre        4913        4913          55910 11013    \n",
       "pre_AAACTGCAGCTCCGGT-1  pre        4677        4677          40357 10475    \n",
       "⋮                       ⋮          ⋮           ⋮             ⋮     ⋮        \n",
       "post_TTTGGCCTCTTCACTA-1 post       2402        2402          14405  3638    \n",
       "post_TTTGGTTAGAGCAGCT-1 post       1315        1315          15473  2654    \n",
       "post_TTTGGTTAGATCGCCC-1 post       1550        1550          13055  1992    \n",
       "post_TTTGGTTAGCAACGGT-1 post       4722        4722          36160 12273    \n",
       "post_TTTGGTTAGCTAACAA-1 post       2060        2060          17920  4043    \n",
       "post_TTTGGTTAGGATTGAT-1 post       2399        2399          14210  3000    \n",
       "post_TTTGGTTAGTAGGTCG-1 post       1040        1040           8793  1382    \n",
       "post_TTTGGTTAGTCGCCTG-1 post        600         600           8606   839    \n",
       "post_TTTGGTTCAATGTAAG-1 post       2318        2318          20593  3849    \n",
       "post_TTTGGTTCAATTCTCT-1 post       1780        1780          18373  3178    \n",
       "post_TTTGGTTCAGGGCTTC-1 post       1786        1786          11592  2804    \n",
       "post_TTTGGTTGTATTCTTC-1 post       2247        2247          14104  2987    \n",
       "post_TTTGGTTGTCCAACCG-1 post       4067        4067          26939  6113    \n",
       "post_TTTGGTTGTGGAAAGA-1 post       1455        1455           9785  1855    \n",
       "post_TTTGGTTGTGGACGAT-1 post       1750        1750          12609  2415    \n",
       "post_TTTGGTTTCGACCCGA-1 post       1295        1295          11694  1508    \n",
       "post_TTTGGTTTCGGATAGG-1 post       2335        2335          20567  4932    \n",
       "post_TTTGTGTAGTGGTGTG-1 post        688         688          10893  1729    \n",
       "post_TTTGTGTCAAAGAGAG-1 post        957         957           8871  1173    \n",
       "post_TTTGTGTCAAGTCCTA-1 post       5160        5160          30688  8333    \n",
       "post_TTTGTGTGTAGCATGG-1 post       1946        1946          13015  2760    \n",
       "post_TTTGTGTGTATCTGCA-1 post       2430        2430          18029  3289    \n",
       "post_TTTGTGTGTCCCTTTG-1 post       4010        4010          20022  5256    \n",
       "post_TTTGTGTGTTCTTTCA-1 post       2619        2619          14439  3092    \n",
       "post_TTTGTGTTCAAAGTAG-1 post       2534        2534          20383  4397    \n",
       "post_TTTGTGTTCCGGAAAG-1 post       1868        1868          15950  3670    \n",
       "post_TTTGTGTTCCTGACCT-1 post       2829        2829          15753  4237    \n",
       "post_TTTGTGTTCGGATGTT-1 post       1426        1426          12237  2256    \n",
       "post_TTTGTGTTCTTAATCC-1 post       2644        2644          13902  3104    \n",
       "post_TTTGTGTTCTTGCGCT-1 post       1422        1422          12349  2219    \n",
       "                        chimeric unmapped lowmapq mitochondrial passed_filters\n",
       "pre_AAACGAAAGCCGCAAA-1  247      213      1646    18980          8350         \n",
       "pre_AAACGAAAGGCTCCTG-1   66       65       444     8994          3146         \n",
       "pre_AAACGAAAGTAGCAAT-1  201      117       859     8209          4953         \n",
       "pre_AAACGAAAGTGAATAC-1   58       40       407     6141          2634         \n",
       "pre_AAACGAAAGTGTCACT-1  251      163      1499     7181          8434         \n",
       "pre_AAACGAACACGGCCAT-1   88       91       684     8514          3196         \n",
       "pre_AAACGAACATAGGCGA-1  154      194      1261    18482          6312         \n",
       "pre_AAACGAACATTAACGC-1  177      104      1353     4963          7033         \n",
       "pre_AAACGAAGTTAACTCG-1  196      187      1392    20266          7080         \n",
       "pre_AAACGAAGTTTAAGGA-1  153      208       979    20338          5162         \n",
       "pre_AAACGAATCATTCTTG-1  138      180      1071    18740          5018         \n",
       "pre_AAACTCGAGCCAGAAC-1  420      309      3014    13503         14451         \n",
       "pre_AAACTCGAGTGTCACT-1  207      195      1601    16805          6529         \n",
       "pre_AAACTCGAGTTAGCGG-1  192      128      1261     8906          6795         \n",
       "pre_AAACTCGCAAAGGTCG-1  185      200      1242    14643          3356         \n",
       "pre_AAACTCGCACAAACGG-1  142      163      1184    12382          5894         \n",
       "pre_AAACTCGCACAGTTAC-1  303      250      1781    26264          7507         \n",
       "pre_AAACTCGCATTTGTTC-1   74       30       442     4645          2885         \n",
       "pre_AAACTCGGTAGGGTCA-1  803      613      5029    41491         12417         \n",
       "pre_AAACTCGGTAGTCTGT-1  260      202      1925     8005         13123         \n",
       "pre_AAACTCGGTCAAACAA-1   83       59       586     7662          2822         \n",
       "pre_AAACTCGGTGCCAAGA-1  105      135      1065    17394          5163         \n",
       "pre_AAACTCGTCACACGTA-1  130      157      1181    17041          5994         \n",
       "pre_AAACTCGTCCACGAGC-1   92       72       531     8277          2768         \n",
       "pre_AAACTCGTCCTCCTGA-1   74       83       607     5428          3343         \n",
       "pre_AAACTCGTCCTTCGAC-1  146      145      1439    14875          5412         \n",
       "pre_AAACTCGTCTAGTCGA-1  176      177      1536    18892          6772         \n",
       "pre_AAACTCGTCTGTCGGG-1  140       94       783     8863          4506         \n",
       "pre_AAACTGCAGCGTGTTT-1  267      260      1998    33899          8473         \n",
       "pre_AAACTGCAGCTCCGGT-1  235      197      1702    19337          8411         \n",
       "⋮                       ⋮        ⋮        ⋮       ⋮             ⋮             \n",
       "post_TTTGGCCTCTTCACTA-1  88       87       907     5586          4099         \n",
       "post_TTTGGTTAGAGCAGCT-1  50       66       316     9255          3132         \n",
       "post_TTTGGTTAGATCGCCC-1  41       64       525     7708          2725         \n",
       "post_TTTGGTTAGCAACGGT-1 172      185      1629    12168          9733         \n",
       "post_TTTGGTTAGCTAACAA-1  93       81       841     8720          4142         \n",
       "post_TTTGGTTAGGATTGAT-1 106       80       962     6104          3958         \n",
       "post_TTTGGTTAGTAGGTCG-1  46       36       300     5115          1914         \n",
       "post_TTTGGTTAGTCGCCTG-1  13       42       142     6502          1068         \n",
       "post_TTTGGTTCAATGTAAG-1  65       95      1048    11351          4185         \n",
       "post_TTTGGTTCAATTCTCT-1  77      102       534    10497          3985         \n",
       "post_TTTGGTTCAGGGCTTC-1  55       49       458     4831          3395         \n",
       "post_TTTGGTTGTATTCTTC-1  58       59       671     6169          4160         \n",
       "post_TTTGGTTGTCCAACCG-1 139      105      1405    11469          7708         \n",
       "post_TTTGGTTGTGGAAAGA-1  45       56       481     5100          2248         \n",
       "post_TTTGGTTGTGGACGAT-1  60       62       462     6581          3029         \n",
       "post_TTTGGTTTCGACCCGA-1  24       65       325     7771          2001         \n",
       "post_TTTGGTTTCGGATAGG-1  67      115       799     9005          5649         \n",
       "post_TTTGTGTAGTGGTGTG-1  35       48       386     5947          2748         \n",
       "post_TTTGTGTCAAAGAGAG-1  11       38       196     5948          1505         \n",
       "post_TTTGTGTCAAGTCCTA-1 190      149      1400     9891         10725         \n",
       "post_TTTGTGTGTAGCATGG-1  53       75       969     5586          3572         \n",
       "post_TTTGTGTGTATCTGCA-1  72       79       735     9559          4295         \n",
       "post_TTTGTGTGTCCCTTTG-1 134      103      1186     6456          6887         \n",
       "post_TTTGTGTGTTCTTTCA-1  80       62       599     5959          4647         \n",
       "post_TTTGTGTTCAAAGTAG-1  59       94       854    10530          4449         \n",
       "post_TTTGTGTTCCGGAAAG-1  45       82       576     8179          3398         \n",
       "post_TTTGTGTTCCTGACCT-1  97       59       758     5709          4893         \n",
       "post_TTTGTGTTCGGATGTT-1  56       69       558     6738          2560         \n",
       "post_TTTGTGTTCTTAATCC-1 105       64      1215     4972          4442         \n",
       "post_TTTGTGTTCTTGCGCT-1  37       55       387     7079          2572         \n",
       "                        ⋯ X66T X7775A X1949A X8770T X6093A X4248C X13108A\n",
       "pre_AAACGAAAGCCGCAAA-1  ⋯ 0    0      0      0      0      0      0      \n",
       "pre_AAACGAAAGGCTCCTG-1  ⋯ 0    0      0      0      0      0      0      \n",
       "pre_AAACGAAAGTAGCAAT-1  ⋯ 0    0      0      0      0      0      0      \n",
       "pre_AAACGAAAGTGAATAC-1  ⋯ 0    0      0      0      0      0      0      \n",
       "pre_AAACGAAAGTGTCACT-1  ⋯ 0    0      0      0      0      0      0      \n",
       "pre_AAACGAACACGGCCAT-1  ⋯ 0    0      0      0      0      0      0      \n",
       "pre_AAACGAACATAGGCGA-1  ⋯ 0    0      0      0      0      0      0      \n",
       "pre_AAACGAACATTAACGC-1  ⋯ 0    0      0      0      0      0      0      \n",
       "pre_AAACGAAGTTAACTCG-1  ⋯ 0    0      0      0      0      0      0      \n",
       "pre_AAACGAAGTTTAAGGA-1  ⋯ 0    0      0      0      0      0      0      \n",
       "pre_AAACGAATCATTCTTG-1  ⋯ 0    0      0      0      0      0      0      \n",
       "pre_AAACTCGAGCCAGAAC-1  ⋯ 0    0      0      0      0      0      0      \n",
       "pre_AAACTCGAGTGTCACT-1  ⋯ 0    0      0      0      0      0      0      \n",
       "pre_AAACTCGAGTTAGCGG-1  ⋯ 0    0      0      0      0      0      0      \n",
       "pre_AAACTCGCAAAGGTCG-1  ⋯ 0    0      0      0      0      0      0      \n",
       "pre_AAACTCGCACAAACGG-1  ⋯ 0    0      0      0      0      0      0      \n",
       "pre_AAACTCGCACAGTTAC-1  ⋯ 0    0      0      0      0      0      0      \n",
       "pre_AAACTCGCATTTGTTC-1  ⋯ 0    0      0      0      0      0      0      \n",
       "pre_AAACTCGGTAGGGTCA-1  ⋯ 0    0      0      0      0      0      0      \n",
       "pre_AAACTCGGTAGTCTGT-1  ⋯ 0    0      0      0      0      0      0      \n",
       "pre_AAACTCGGTCAAACAA-1  ⋯ 0    0      0      0      0      0      0      \n",
       "pre_AAACTCGGTGCCAAGA-1  ⋯ 0    0      0      0      0      0      0      \n",
       "pre_AAACTCGTCACACGTA-1  ⋯ 0    0      0      0      0      0      0      \n",
       "pre_AAACTCGTCCACGAGC-1  ⋯ 0    0      0      0      0      0      0      \n",
       "pre_AAACTCGTCCTCCTGA-1  ⋯ 0    0      0      0      0      0      0      \n",
       "pre_AAACTCGTCCTTCGAC-1  ⋯ 0    0      0      0      0      0      0      \n",
       "pre_AAACTCGTCTAGTCGA-1  ⋯ 0    0      0      0      0      0      0      \n",
       "pre_AAACTCGTCTGTCGGG-1  ⋯ 0    0      0      0      0      0      0      \n",
       "pre_AAACTGCAGCGTGTTT-1  ⋯ 0    0      0      0      0      0      0      \n",
       "pre_AAACTGCAGCTCCGGT-1  ⋯ 0    0      0      0      0      0      0      \n",
       "⋮                       ⋱ ⋮    ⋮      ⋮      ⋮      ⋮      ⋮      ⋮      \n",
       "post_TTTGGCCTCTTCACTA-1 ⋯ 0    0      0      0      0      0      0      \n",
       "post_TTTGGTTAGAGCAGCT-1 ⋯ 0    0      0      0      0      0      0      \n",
       "post_TTTGGTTAGATCGCCC-1 ⋯ 0    0      0      0      0      0      0      \n",
       "post_TTTGGTTAGCAACGGT-1 ⋯ 0    0      0      0      0      0      0      \n",
       "post_TTTGGTTAGCTAACAA-1 ⋯ 0    0      0      0      0      0      0      \n",
       "post_TTTGGTTAGGATTGAT-1 ⋯ 0    0      0      0      0      0      0      \n",
       "post_TTTGGTTAGTAGGTCG-1 ⋯ 0    0      1      0      0      0      0      \n",
       "post_TTTGGTTAGTCGCCTG-1 ⋯ 0    0      0      0      0      0      0      \n",
       "post_TTTGGTTCAATGTAAG-1 ⋯ 0    0      0      0      0      0      0      \n",
       "post_TTTGGTTCAATTCTCT-1 ⋯ 0    0      0      0      0      0      0      \n",
       "post_TTTGGTTCAGGGCTTC-1 ⋯ 0    0      0      0      0      0      0      \n",
       "post_TTTGGTTGTATTCTTC-1 ⋯ 0    0      0      0      0      0      0      \n",
       "post_TTTGGTTGTCCAACCG-1 ⋯ 0    0      0      0      0      0      0      \n",
       "post_TTTGGTTGTGGAAAGA-1 ⋯ 0    0      0      0      0      0      0      \n",
       "post_TTTGGTTGTGGACGAT-1 ⋯ 0    0      0      0      0      0      0      \n",
       "post_TTTGGTTTCGACCCGA-1 ⋯ 0    0      0      0      0      0      0      \n",
       "post_TTTGGTTTCGGATAGG-1 ⋯ 0    0      0      0      0      0      0      \n",
       "post_TTTGTGTAGTGGTGTG-1 ⋯ 0    0      0      0      0      0      0      \n",
       "post_TTTGTGTCAAAGAGAG-1 ⋯ 0    0      0      0      0      0      0      \n",
       "post_TTTGTGTCAAGTCCTA-1 ⋯ 0    0      0      0      0      0      0      \n",
       "post_TTTGTGTGTAGCATGG-1 ⋯ 0    0      0      0      0      0      0      \n",
       "post_TTTGTGTGTATCTGCA-1 ⋯ 0    0      0      0      0      0      0      \n",
       "post_TTTGTGTGTCCCTTTG-1 ⋯ 0    0      0      0      0      0      0      \n",
       "post_TTTGTGTGTTCTTTCA-1 ⋯ 0    0      0      0      0      0      0      \n",
       "post_TTTGTGTTCAAAGTAG-1 ⋯ 0    0      0      0      0      0      0      \n",
       "post_TTTGTGTTCCGGAAAG-1 ⋯ 0    0      0      0      0      0      0      \n",
       "post_TTTGTGTTCCTGACCT-1 ⋯ 0    0      0      0      0      0      0      \n",
       "post_TTTGTGTTCGGATGTT-1 ⋯ 0    0      0      0      0      0      0      \n",
       "post_TTTGTGTTCTTAATCC-1 ⋯ 0    0      0      0      0      0      0      \n",
       "post_TTTGTGTTCTTGCGCT-1 ⋯ 0    0      0      0      0      0      0      \n",
       "                        X15821A X6456A X9087A\n",
       "pre_AAACGAAAGCCGCAAA-1  0       0      0     \n",
       "pre_AAACGAAAGGCTCCTG-1  0       0      0     \n",
       "pre_AAACGAAAGTAGCAAT-1  0       0      0     \n",
       "pre_AAACGAAAGTGAATAC-1  0       0      0     \n",
       "pre_AAACGAAAGTGTCACT-1  0       0      0     \n",
       "pre_AAACGAACACGGCCAT-1  0       0      0     \n",
       "pre_AAACGAACATAGGCGA-1  0       0      0     \n",
       "pre_AAACGAACATTAACGC-1  0       0      0     \n",
       "pre_AAACGAAGTTAACTCG-1  0       0      0     \n",
       "pre_AAACGAAGTTTAAGGA-1  0       0      0     \n",
       "pre_AAACGAATCATTCTTG-1  0       0      0     \n",
       "pre_AAACTCGAGCCAGAAC-1  0       0      0     \n",
       "pre_AAACTCGAGTGTCACT-1  0       0      0     \n",
       "pre_AAACTCGAGTTAGCGG-1  0       0      0     \n",
       "pre_AAACTCGCAAAGGTCG-1  0       0      0     \n",
       "pre_AAACTCGCACAAACGG-1  0       0      0     \n",
       "pre_AAACTCGCACAGTTAC-1  0       0      0     \n",
       "pre_AAACTCGCATTTGTTC-1  0       0      0     \n",
       "pre_AAACTCGGTAGGGTCA-1  0       0      0     \n",
       "pre_AAACTCGGTAGTCTGT-1  0       0      0     \n",
       "pre_AAACTCGGTCAAACAA-1  0       0      0     \n",
       "pre_AAACTCGGTGCCAAGA-1  0       0      0     \n",
       "pre_AAACTCGTCACACGTA-1  0       0      0     \n",
       "pre_AAACTCGTCCACGAGC-1  0       0      0     \n",
       "pre_AAACTCGTCCTCCTGA-1  0       0      0     \n",
       "pre_AAACTCGTCCTTCGAC-1  0       0      0     \n",
       "pre_AAACTCGTCTAGTCGA-1  0       0      0     \n",
       "pre_AAACTCGTCTGTCGGG-1  0       0      0     \n",
       "pre_AAACTGCAGCGTGTTT-1  0       0      0     \n",
       "pre_AAACTGCAGCTCCGGT-1  0       0      0     \n",
       "⋮                       ⋮       ⋮      ⋮     \n",
       "post_TTTGGCCTCTTCACTA-1 0       0      0     \n",
       "post_TTTGGTTAGAGCAGCT-1 0       0      0     \n",
       "post_TTTGGTTAGATCGCCC-1 0       0      0     \n",
       "post_TTTGGTTAGCAACGGT-1 0       0      0     \n",
       "post_TTTGGTTAGCTAACAA-1 0       0      0     \n",
       "post_TTTGGTTAGGATTGAT-1 0       0      0     \n",
       "post_TTTGGTTAGTAGGTCG-1 0       0      0     \n",
       "post_TTTGGTTAGTCGCCTG-1 0       0      0     \n",
       "post_TTTGGTTCAATGTAAG-1 0       0      0     \n",
       "post_TTTGGTTCAATTCTCT-1 0       0      0     \n",
       "post_TTTGGTTCAGGGCTTC-1 0       0      0     \n",
       "post_TTTGGTTGTATTCTTC-1 0       0      0     \n",
       "post_TTTGGTTGTCCAACCG-1 0       0      0     \n",
       "post_TTTGGTTGTGGAAAGA-1 0       0      0     \n",
       "post_TTTGGTTGTGGACGAT-1 0       0      0     \n",
       "post_TTTGGTTTCGACCCGA-1 0       0      0     \n",
       "post_TTTGGTTTCGGATAGG-1 0       0      0     \n",
       "post_TTTGTGTAGTGGTGTG-1 0       0      0     \n",
       "post_TTTGTGTCAAAGAGAG-1 0       0      0     \n",
       "post_TTTGTGTCAAGTCCTA-1 0       0      0     \n",
       "post_TTTGTGTGTAGCATGG-1 0       0      0     \n",
       "post_TTTGTGTGTATCTGCA-1 0       0      0     \n",
       "post_TTTGTGTGTCCCTTTG-1 0       0      0     \n",
       "post_TTTGTGTGTTCTTTCA-1 0       0      0     \n",
       "post_TTTGTGTTCAAAGTAG-1 0       0      0     \n",
       "post_TTTGTGTTCCGGAAAG-1 0       0      0     \n",
       "post_TTTGTGTTCCTGACCT-1 0       0      0     \n",
       "post_TTTGTGTTCGGATGTT-1 0       0      0     \n",
       "post_TTTGTGTTCTTAATCC-1 0       0      0     \n",
       "post_TTTGTGTTCTTGCGCT-1 0       0      0     "
      ]
     },
     "metadata": {},
     "output_type": "display_data"
    }
   ],
   "source": [
    "se.filt[[]]"
   ]
  },
  {
   "cell_type": "code",
   "execution_count": 21,
   "id": "7d75bc16",
   "metadata": {
    "scrolled": true
   },
   "outputs": [
    {
     "name": "stdout",
     "output_type": "stream",
     "text": [
      "[1] \"X9390G\"\n"
     ]
    },
    {
     "name": "stderr",
     "output_type": "stream",
     "text": [
      "Saving 6.67 x 6.67 in image\n",
      "\n",
      "Saving 6.67 x 6.67 in image\n",
      "\n"
     ]
    },
    {
     "name": "stdout",
     "output_type": "stream",
     "text": [
      "[1] \"X16223T\"\n"
     ]
    },
    {
     "name": "stderr",
     "output_type": "stream",
     "text": [
      "Saving 6.67 x 6.67 in image\n",
      "\n",
      "Saving 6.67 x 6.67 in image\n",
      "\n"
     ]
    },
    {
     "name": "stdout",
     "output_type": "stream",
     "text": [
      "[1] \"X1095C\"\n"
     ]
    },
    {
     "name": "stderr",
     "output_type": "stream",
     "text": [
      "Saving 6.67 x 6.67 in image\n",
      "\n",
      "Saving 6.67 x 6.67 in image\n",
      "\n"
     ]
    },
    {
     "name": "stdout",
     "output_type": "stream",
     "text": [
      "[1] \"X57C\"\n"
     ]
    },
    {
     "name": "stderr",
     "output_type": "stream",
     "text": [
      "Saving 6.67 x 6.67 in image\n",
      "\n",
      "Saving 6.67 x 6.67 in image\n",
      "\n"
     ]
    },
    {
     "name": "stdout",
     "output_type": "stream",
     "text": [
      "[1] \"X58C\"\n"
     ]
    },
    {
     "name": "stderr",
     "output_type": "stream",
     "text": [
      "Saving 6.67 x 6.67 in image\n",
      "\n",
      "Saving 6.67 x 6.67 in image\n",
      "\n"
     ]
    },
    {
     "name": "stdout",
     "output_type": "stream",
     "text": [
      "[1] \"X11590G\"\n"
     ]
    },
    {
     "name": "stderr",
     "output_type": "stream",
     "text": [
      "Saving 6.67 x 6.67 in image\n",
      "\n",
      "Saving 6.67 x 6.67 in image\n",
      "\n"
     ]
    },
    {
     "name": "stdout",
     "output_type": "stream",
     "text": [
      "[1] \"X6776C\"\n"
     ]
    },
    {
     "name": "stderr",
     "output_type": "stream",
     "text": [
      "Saving 6.67 x 6.67 in image\n",
      "\n",
      "Saving 6.67 x 6.67 in image\n",
      "\n"
     ]
    },
    {
     "name": "stdout",
     "output_type": "stream",
     "text": [
      "[1] \"X2442C\"\n"
     ]
    },
    {
     "name": "stderr",
     "output_type": "stream",
     "text": [
      "Saving 6.67 x 6.67 in image\n",
      "\n",
      "Saving 6.67 x 6.67 in image\n",
      "\n"
     ]
    },
    {
     "name": "stdout",
     "output_type": "stream",
     "text": [
      "[1] \"X12295C\"\n"
     ]
    },
    {
     "name": "stderr",
     "output_type": "stream",
     "text": [
      "Saving 6.67 x 6.67 in image\n",
      "\n",
      "Saving 6.67 x 6.67 in image\n",
      "\n"
     ]
    },
    {
     "name": "stdout",
     "output_type": "stream",
     "text": [
      "[1] \"X2351C\"\n"
     ]
    },
    {
     "name": "stderr",
     "output_type": "stream",
     "text": [
      "Saving 6.67 x 6.67 in image\n",
      "\n",
      "Saving 6.67 x 6.67 in image\n",
      "\n"
     ]
    },
    {
     "name": "stdout",
     "output_type": "stream",
     "text": [
      "[1] \"X13188T\"\n"
     ]
    },
    {
     "name": "stderr",
     "output_type": "stream",
     "text": [
      "Saving 6.67 x 6.67 in image\n",
      "\n",
      "Saving 6.67 x 6.67 in image\n",
      "\n"
     ]
    },
    {
     "name": "stdout",
     "output_type": "stream",
     "text": [
      "[1] \"X14687G\"\n"
     ]
    },
    {
     "name": "stderr",
     "output_type": "stream",
     "text": [
      "Saving 6.67 x 6.67 in image\n",
      "\n",
      "Saving 6.67 x 6.67 in image\n",
      "\n"
     ]
    },
    {
     "name": "stdout",
     "output_type": "stream",
     "text": [
      "[1] \"X9531G\"\n"
     ]
    },
    {
     "name": "stderr",
     "output_type": "stream",
     "text": [
      "Saving 6.67 x 6.67 in image\n",
      "\n",
      "Saving 6.67 x 6.67 in image\n",
      "\n"
     ]
    },
    {
     "name": "stdout",
     "output_type": "stream",
     "text": [
      "[1] \"X3847C\"\n"
     ]
    },
    {
     "name": "stderr",
     "output_type": "stream",
     "text": [
      "Saving 6.67 x 6.67 in image\n",
      "\n",
      "Saving 6.67 x 6.67 in image\n",
      "\n"
     ]
    },
    {
     "name": "stdout",
     "output_type": "stream",
     "text": [
      "[1] \"X12217G\"\n"
     ]
    },
    {
     "name": "stderr",
     "output_type": "stream",
     "text": [
      "Saving 6.67 x 6.67 in image\n",
      "\n",
      "Saving 6.67 x 6.67 in image\n",
      "\n"
     ]
    },
    {
     "name": "stdout",
     "output_type": "stream",
     "text": [
      "[1] \"X2706G\"\n"
     ]
    },
    {
     "name": "stderr",
     "output_type": "stream",
     "text": [
      "Saving 6.67 x 6.67 in image\n",
      "\n",
      "Saving 6.67 x 6.67 in image\n",
      "\n"
     ]
    },
    {
     "name": "stdout",
     "output_type": "stream",
     "text": [
      "[1] \"X14945A\"\n"
     ]
    },
    {
     "name": "stderr",
     "output_type": "stream",
     "text": [
      "Saving 6.67 x 6.67 in image\n",
      "\n",
      "Saving 6.67 x 6.67 in image\n",
      "\n"
     ]
    },
    {
     "name": "stdout",
     "output_type": "stream",
     "text": [
      "[1] \"X7028T\"\n"
     ]
    },
    {
     "name": "stderr",
     "output_type": "stream",
     "text": [
      "Saving 6.67 x 6.67 in image\n",
      "\n",
      "Saving 6.67 x 6.67 in image\n",
      "\n"
     ]
    },
    {
     "name": "stdout",
     "output_type": "stream",
     "text": [
      "[1] \"X14766T\"\n"
     ]
    },
    {
     "name": "stderr",
     "output_type": "stream",
     "text": [
      "Saving 6.67 x 6.67 in image\n",
      "\n",
      "Saving 6.67 x 6.67 in image\n",
      "\n"
     ]
    },
    {
     "name": "stdout",
     "output_type": "stream",
     "text": [
      "[1] \"X16362C\"\n"
     ]
    },
    {
     "name": "stderr",
     "output_type": "stream",
     "text": [
      "Saving 6.67 x 6.67 in image\n",
      "\n",
      "Saving 6.67 x 6.67 in image\n",
      "\n"
     ]
    },
    {
     "name": "stdout",
     "output_type": "stream",
     "text": [
      "[1] \"X64T\"\n"
     ]
    },
    {
     "name": "stderr",
     "output_type": "stream",
     "text": [
      "Saving 6.67 x 6.67 in image\n",
      "\n",
      "Saving 6.67 x 6.67 in image\n",
      "\n"
     ]
    },
    {
     "name": "stdout",
     "output_type": "stream",
     "text": [
      "[1] \"X16126C\"\n"
     ]
    },
    {
     "name": "stderr",
     "output_type": "stream",
     "text": [
      "Saving 6.67 x 6.67 in image\n",
      "\n",
      "Saving 6.67 x 6.67 in image\n",
      "\n"
     ]
    },
    {
     "name": "stdout",
     "output_type": "stream",
     "text": [
      "[1] \"X16519C\"\n"
     ]
    },
    {
     "name": "stderr",
     "output_type": "stream",
     "text": [
      "Saving 6.67 x 6.67 in image\n",
      "\n",
      "Saving 6.67 x 6.67 in image\n",
      "\n"
     ]
    },
    {
     "name": "stdout",
     "output_type": "stream",
     "text": [
      "[1] \"X3591A\"\n"
     ]
    },
    {
     "name": "stderr",
     "output_type": "stream",
     "text": [
      "Saving 6.67 x 6.67 in image\n",
      "\n",
      "Saving 6.67 x 6.67 in image\n",
      "\n"
     ]
    },
    {
     "name": "stdout",
     "output_type": "stream",
     "text": [
      "[1] \"X14568A\"\n"
     ]
    },
    {
     "name": "stderr",
     "output_type": "stream",
     "text": [
      "Saving 6.67 x 6.67 in image\n",
      "\n",
      "Saving 6.67 x 6.67 in image\n",
      "\n"
     ]
    },
    {
     "name": "stdout",
     "output_type": "stream",
     "text": [
      "[1] \"X152C\"\n"
     ]
    },
    {
     "name": "stderr",
     "output_type": "stream",
     "text": [
      "Saving 6.67 x 6.67 in image\n",
      "\n",
      "Saving 6.67 x 6.67 in image\n",
      "\n"
     ]
    },
    {
     "name": "stdout",
     "output_type": "stream",
     "text": [
      "[1] \"X150T\"\n"
     ]
    },
    {
     "name": "stderr",
     "output_type": "stream",
     "text": [
      "Saving 6.67 x 6.67 in image\n",
      "\n",
      "Saving 6.67 x 6.67 in image\n",
      "\n"
     ]
    },
    {
     "name": "stdout",
     "output_type": "stream",
     "text": [
      "[1] \"X3244A\"\n"
     ]
    },
    {
     "name": "stderr",
     "output_type": "stream",
     "text": [
      "Saving 6.67 x 6.67 in image\n",
      "\n",
      "Saving 6.67 x 6.67 in image\n",
      "\n"
     ]
    },
    {
     "name": "stdout",
     "output_type": "stream",
     "text": [
      "[1] \"X7595A\"\n"
     ]
    },
    {
     "name": "stderr",
     "output_type": "stream",
     "text": [
      "Saving 6.67 x 6.67 in image\n",
      "\n",
      "Saving 6.67 x 6.67 in image\n",
      "\n"
     ]
    },
    {
     "name": "stdout",
     "output_type": "stream",
     "text": [
      "[1] \"X10646T\"\n"
     ]
    },
    {
     "name": "stderr",
     "output_type": "stream",
     "text": [
      "Saving 6.67 x 6.67 in image\n",
      "\n",
      "Saving 6.67 x 6.67 in image\n",
      "\n"
     ]
    },
    {
     "name": "stdout",
     "output_type": "stream",
     "text": [
      "[1] \"X2623G\"\n"
     ]
    },
    {
     "name": "stderr",
     "output_type": "stream",
     "text": [
      "Saving 6.67 x 6.67 in image\n",
      "\n",
      "Saving 6.67 x 6.67 in image\n",
      "\n"
     ]
    },
    {
     "name": "stdout",
     "output_type": "stream",
     "text": [
      "[1] \"X11838A\"\n"
     ]
    },
    {
     "name": "stderr",
     "output_type": "stream",
     "text": [
      "Saving 6.67 x 6.67 in image\n",
      "\n",
      "Saving 6.67 x 6.67 in image\n",
      "\n"
     ]
    },
    {
     "name": "stdout",
     "output_type": "stream",
     "text": [
      "[1] \"X16537T\"\n"
     ]
    },
    {
     "name": "stderr",
     "output_type": "stream",
     "text": [
      "Saving 6.67 x 6.67 in image\n",
      "\n",
      "Saving 6.67 x 6.67 in image\n",
      "\n"
     ]
    },
    {
     "name": "stdout",
     "output_type": "stream",
     "text": [
      "[1] \"X318A\"\n"
     ]
    },
    {
     "name": "stderr",
     "output_type": "stream",
     "text": [
      "Saving 6.67 x 6.67 in image\n",
      "\n",
      "Saving 6.67 x 6.67 in image\n",
      "\n"
     ]
    },
    {
     "name": "stdout",
     "output_type": "stream",
     "text": [
      "[1] \"X66T\"\n"
     ]
    },
    {
     "name": "stderr",
     "output_type": "stream",
     "text": [
      "Saving 6.67 x 6.67 in image\n",
      "\n",
      "Saving 6.67 x 6.67 in image\n",
      "\n"
     ]
    },
    {
     "name": "stdout",
     "output_type": "stream",
     "text": [
      "[1] \"X7775A\"\n"
     ]
    },
    {
     "name": "stderr",
     "output_type": "stream",
     "text": [
      "Saving 6.67 x 6.67 in image\n",
      "\n",
      "Saving 6.67 x 6.67 in image\n",
      "\n"
     ]
    },
    {
     "name": "stdout",
     "output_type": "stream",
     "text": [
      "[1] \"X1949A\"\n"
     ]
    },
    {
     "name": "stderr",
     "output_type": "stream",
     "text": [
      "Saving 6.67 x 6.67 in image\n",
      "\n",
      "Saving 6.67 x 6.67 in image\n",
      "\n"
     ]
    },
    {
     "name": "stdout",
     "output_type": "stream",
     "text": [
      "[1] \"X8770T\"\n"
     ]
    },
    {
     "name": "stderr",
     "output_type": "stream",
     "text": [
      "Saving 6.67 x 6.67 in image\n",
      "\n",
      "Saving 6.67 x 6.67 in image\n",
      "\n"
     ]
    },
    {
     "name": "stdout",
     "output_type": "stream",
     "text": [
      "[1] \"X6093A\"\n"
     ]
    },
    {
     "name": "stderr",
     "output_type": "stream",
     "text": [
      "Saving 6.67 x 6.67 in image\n",
      "\n",
      "Saving 6.67 x 6.67 in image\n",
      "\n"
     ]
    },
    {
     "name": "stdout",
     "output_type": "stream",
     "text": [
      "[1] \"X4248C\"\n"
     ]
    },
    {
     "name": "stderr",
     "output_type": "stream",
     "text": [
      "Saving 6.67 x 6.67 in image\n",
      "\n",
      "Saving 6.67 x 6.67 in image\n",
      "\n"
     ]
    },
    {
     "name": "stdout",
     "output_type": "stream",
     "text": [
      "[1] \"X13108A\"\n"
     ]
    },
    {
     "name": "stderr",
     "output_type": "stream",
     "text": [
      "Saving 6.67 x 6.67 in image\n",
      "\n",
      "Saving 6.67 x 6.67 in image\n",
      "\n"
     ]
    },
    {
     "name": "stdout",
     "output_type": "stream",
     "text": [
      "[1] \"X15821A\"\n"
     ]
    },
    {
     "name": "stderr",
     "output_type": "stream",
     "text": [
      "Saving 6.67 x 6.67 in image\n",
      "\n",
      "Saving 6.67 x 6.67 in image\n",
      "\n"
     ]
    },
    {
     "name": "stdout",
     "output_type": "stream",
     "text": [
      "[1] \"X6456A\"\n"
     ]
    },
    {
     "name": "stderr",
     "output_type": "stream",
     "text": [
      "Saving 6.67 x 6.67 in image\n",
      "\n",
      "Saving 6.67 x 6.67 in image\n",
      "\n"
     ]
    },
    {
     "name": "stdout",
     "output_type": "stream",
     "text": [
      "[1] \"X9087A\"\n"
     ]
    },
    {
     "name": "stderr",
     "output_type": "stream",
     "text": [
      "Saving 6.67 x 6.67 in image\n",
      "\n",
      "Saving 6.67 x 6.67 in image\n",
      "\n"
     ]
    }
   ],
   "source": [
    "for (mt in (mt.vars)){\n",
    "    print(mt)    \n",
    "    expr <- FetchData(se.filt, vars = mt)\n",
    "    curr.se <- se.filt[, which(expr == 1)]\n",
    "    #curr.se\n",
    "    p <- DimPlot(se.filt , group.by = \"condition\", split.by=mt)\n",
    "    p2 <- DimPlot(curr.se , split.by=\"condition\")\n",
    "    curr.count = sum(se.filt[[mt]])\n",
    "    ggsave(file.path(outdir, paste(\"count\", curr.count,mt, \"groupCond.png\", sep=\"_\")), p)\n",
    "    ggsave(file.path(outdir, paste(\"count\", curr.count,mt, \"clrCond.png\", sep=\"_\")), p2)\n",
    "}"
   ]
  },
  {
   "cell_type": "code",
   "execution_count": 22,
   "id": "30c4e1fc",
   "metadata": {},
   "outputs": [
    {
     "data": {
      "text/html": [
       "'/data/Mito_Trace/output/pipeline/TcellDupi_may17_2021/MTblacklist/data/merged/MT/cellr_True/numread_200/filters/minC10_minR50_topN0_hetT0.001_hetC10_hetCount5_bq20/mgatk/vireoIn/clones/variants_init/knn/kparam_3/concat/gff_hg38_1_2/annotation_clones/de_clone_btwnvars_RNA/'"
      ],
      "text/latex": [
       "'/data/Mito\\_Trace/output/pipeline/TcellDupi\\_may17\\_2021/MTblacklist/data/merged/MT/cellr\\_True/numread\\_200/filters/minC10\\_minR50\\_topN0\\_hetT0.001\\_hetC10\\_hetCount5\\_bq20/mgatk/vireoIn/clones/variants\\_init/knn/kparam\\_3/concat/gff\\_hg38\\_1\\_2/annotation\\_clones/de\\_clone\\_btwnvars\\_RNA/'"
      ],
      "text/markdown": [
       "'/data/Mito_Trace/output/pipeline/TcellDupi_may17_2021/MTblacklist/data/merged/MT/cellr_True/numread_200/filters/minC10_minR50_topN0_hetT0.001_hetC10_hetCount5_bq20/mgatk/vireoIn/clones/variants_init/knn/kparam_3/concat/gff_hg38_1_2/annotation_clones/de_clone_btwnvars_RNA/'"
      ],
      "text/plain": [
       "[1] \"/data/Mito_Trace/output/pipeline/TcellDupi_may17_2021/MTblacklist/data/merged/MT/cellr_True/numread_200/filters/minC10_minR50_topN0_hetT0.001_hetC10_hetCount5_bq20/mgatk/vireoIn/clones/variants_init/knn/kparam_3/concat/gff_hg38_1_2/annotation_clones/de_clone_btwnvars_RNA/\""
      ]
     },
     "metadata": {},
     "output_type": "display_data"
    }
   ],
   "source": [
    "outdir"
   ]
  },
  {
   "cell_type": "code",
   "execution_count": null,
   "id": "74779238",
   "metadata": {},
   "outputs": [],
   "source": []
  },
  {
   "cell_type": "markdown",
   "id": "07575123",
   "metadata": {},
   "source": [
    "# Stimulus specific response in each clone\n",
    "\n",
    "A. with variant vs without\n",
    "B. top variants against top variants"
   ]
  },
  {
   "cell_type": "code",
   "execution_count": null,
   "id": "d39f965d",
   "metadata": {},
   "outputs": [],
   "source": [
    "#    expr <- FetchData(se.filt, vars = mt)\n",
    "    #curr.se <- se.filt[, which(expr == 1)]\n",
    "    #curr.se"
   ]
  },
  {
   "cell_type": "code",
   "execution_count": null,
   "id": "6133e742",
   "metadata": {
    "scrolled": true
   },
   "outputs": [],
   "source": [
    "# all.pvals <- data.frame(matrix(nrow=dim(se)[1],ncol=0),\n",
    "#                           row.names=row.names(se))\n",
    "# all.names.sig <- c()\n",
    "\n",
    "# #sample_names\n",
    "# clone.ids <- sort(unique(se$name))\n",
    "# se$clone.stim <- paste(se$name, se$orig.ident, sep = \"_\")\n",
    "\n",
    "# se$clone <- se$name\n",
    "# Idents(se) <- \"clone.stim\"\n",
    "\n",
    "# for (curr.clone in mt.vars){\n",
    "#     ident.1 = paste0(curr.clone, \"_\", sample_names[[1]]) \n",
    "#     ident.2 = paste0(curr.clone, \"_\", sample_names[[2]])\n",
    "#     try({\n",
    "#         print(curr.clone)\n",
    "#         curr.name <-paste0(\"clone_\", curr.clone)\n",
    "#         curr.clone.outdir <- file.path(btwnConds_inClone_sepDonors.outdir, paste0(\"clone_\", curr.clone))\n",
    "#         dir.create(curr.clone.outdir)\n",
    "\n",
    "#         curr.sig <- find.markers.and.plot(se, ident.1, ident.2, curr.clone.outdir, \n",
    "#                                           curr.name=curr.clone, assay=\"RNA\", logfcthresh=logfcthresh,\n",
    "#                                           min.pct=minPct, p.thresh=p_thresh, mean.fxn=NULL, fc.name=NULL)\n",
    "#         names.sig <- rownames(curr.sig)\n",
    "#         all.names.sig <- c(all.names.sig, head(names.sig, top_de))\n",
    "        \n",
    "#         all.pvals[names.sig,curr.clone] <- curr.sig$p_val_adj_BH\n",
    "\n",
    "#         curr_clone <- subset(se, subset = name == curr.clone)\n",
    "#         avg_curr_clone <- data.frame(log1p(AverageExpression(curr_clone, verbose = FALSE)$RNA))\n",
    "#         avg_curr_clone$gene <- rownames(avg_curr_clone)\n",
    "#         p1 <- ggplot(avg_curr_clone, aes_string(paste0(\"X\", curr.clone, \"_\", sample_names[[1]]), \n",
    "#                                                 paste0(\"X\", curr.clone, \"_\", sample_names[[2]]))) + geom_point() + ggtitle(paste(\"Cluster\", curr.clone))\n",
    "#         p1 <- LabelPoints(plot = p1, points = head(names.sig,3), repel = TRUE)\n",
    "#         plot_grid(p1)\n",
    "#         #write.csv(response, file=file.path(curr.clone.outdir,paste0(\"clone_\",c,\".conditionDE.csv\")))\n",
    "#         ggsave(file.path(curr.clone.outdir,paste0(\"clone_\",curr.clone,\".allDonors.conditionScatter.png\")))\n",
    "        \n",
    "#         })\n",
    "#     }\n",
    "\n",
    "\n",
    "\n",
    "# all.pvals[rowSums(is.na(all.pvals)) != ncol(all.pvals), ]\n",
    "\n",
    "\n",
    "# ## DE sig summarize\n",
    "\n",
    "# all.names.sig\n",
    "\n",
    "# ### a) top 3 significant results from each comparison\n",
    "\n",
    "# all.names.sig <- unique(all.names.sig)\n",
    "# de.plots(se, all.names.sig, btwnConds_inClone_sepDonors.outdir, curr.name=\"allDonors.allClusters\", max.size=15)\n",
    "\n",
    "# dot <- DotPlot(se, scale=FALSE,\n",
    "#                features = head(all.names.sig,20), \n",
    "#                cluster.idents=T) + RotatedAxis()\n",
    "# dot\n",
    "# ggsave(file.path(btwnConds_inClone_sepDonors.outdir, \"allDonors.allClusters.top3de.png\"))\n",
    "# ggsave(file.path(btwnConds_inClone_sepDonors.outdir, \"allDonors.allClusters.top3de.pdf\"))\n",
    "\n",
    "\n",
    "\n",
    "# ## b) averaged top p-values (only average ones that were DE)\n",
    "\n",
    "# sig.all.ordered <- sort(rowMeans(-log10(all.pvals),na.rm=T), decreasing=T)\n",
    "# dot <- DotPlot(se, scale=T,\n",
    "#                features = names(head(sig.all.ordered,20)), \n",
    "#                cluster.idents=T) + RotatedAxis()\n",
    "# dot\n",
    "# ggsave(file.path(btwnConds_inClone_sepDonors.outdir, \"allDonors.allClusters.pvalsOrdered.png\"))\n",
    "# ggsave(file.path(btwnConds_inClone_sepDonors.outdir, \"allDonors.allClusters.pvalsOrdered.pdf\"))\n",
    "# #de.plots(se, names(sig.all.ordered), outdir, curr.name=\"allDonors.allClusters.pvalsOrdered\", max.size=20)\n",
    "\n",
    "# sig.all.ordered <- sort(rowMeans(-log10(all.pvals),na.rm=T), decreasing=T)\n",
    "# dot <- DotPlot(se, scale=F,\n",
    "#                features = head(names(sig.all.ordered),20), \n",
    "#                cluster.idents=T) + RotatedAxis()\n",
    "# dot\n"
   ]
  },
  {
   "cell_type": "code",
   "execution_count": 23,
   "id": "c0daa6c8",
   "metadata": {},
   "outputs": [
    {
     "data": {
      "text/plain": [
       "R version 4.1.1 (2021-08-10)\n",
       "Platform: x86_64-conda-linux-gnu (64-bit)\n",
       "Running under: Ubuntu 20.04.3 LTS\n",
       "\n",
       "Matrix products: default\n",
       "BLAS/LAPACK: /home/isaac/miniconda3/envs/mttrace/lib/libopenblasp-r0.3.18.so\n",
       "\n",
       "locale:\n",
       " [1] LC_CTYPE=en_US.UTF-8       LC_NUMERIC=C              \n",
       " [3] LC_TIME=en_US.UTF-8        LC_COLLATE=en_US.UTF-8    \n",
       " [5] LC_MONETARY=en_US.UTF-8    LC_MESSAGES=en_US.UTF-8   \n",
       " [7] LC_PAPER=en_US.UTF-8       LC_NAME=C                 \n",
       " [9] LC_ADDRESS=C               LC_TELEPHONE=C            \n",
       "[11] LC_MEASUREMENT=en_US.UTF-8 LC_IDENTIFICATION=C       \n",
       "\n",
       "attached base packages:\n",
       "[1] stats4    stats     graphics  grDevices utils     datasets  methods  \n",
       "[8] base     \n",
       "\n",
       "other attached packages:\n",
       " [1] future_1.23.0             dplyr_1.0.7              \n",
       " [3] RColorBrewer_1.1-2        metap_1.1                \n",
       " [5] cowplot_1.1.1             magrittr_2.0.1           \n",
       " [7] data.table_1.14.2         patchwork_1.1.1          \n",
       " [9] ggplot2_3.3.5             EnsDb.Hsapiens.v75_2.99.0\n",
       "[11] ensembldb_2.18.1          AnnotationFilter_1.18.0  \n",
       "[13] GenomicFeatures_1.46.1    AnnotationDbi_1.56.1     \n",
       "[15] Biobase_2.54.0            Signac_1.4.0             \n",
       "[17] SeuratObject_4.0.4        Seurat_4.0.5             \n",
       "[19] GenomicRanges_1.46.0      GenomeInfoDb_1.30.0      \n",
       "[21] IRanges_2.28.0            S4Vectors_0.32.0         \n",
       "[23] BiocGenerics_0.40.0      \n",
       "\n",
       "loaded via a namespace (and not attached):\n",
       "  [1] utf8_1.2.2                  reticulate_1.22            \n",
       "  [3] tidyselect_1.1.1            RSQLite_2.2.8              \n",
       "  [5] htmlwidgets_1.5.4           grid_4.1.1                 \n",
       "  [7] docopt_0.7.1                BiocParallel_1.28.0        \n",
       "  [9] Rtsne_0.15                  munsell_0.5.0              \n",
       " [11] codetools_0.2-18            ica_1.0-2                  \n",
       " [13] pbdZMQ_0.3-6                miniUI_0.1.1.1             \n",
       " [15] withr_2.4.2                 colorspace_2.0-2           \n",
       " [17] filelock_1.0.2              uuid_1.0-3                 \n",
       " [19] ROCR_1.0-11                 tensor_1.5                 \n",
       " [21] listenv_0.8.0               labeling_0.4.2             \n",
       " [23] MatrixGenerics_1.6.0        Rdpack_2.1.2               \n",
       " [25] slam_0.1-49                 repr_1.1.3                 \n",
       " [27] GenomeInfoDbData_1.2.7      polyclip_1.10-0            \n",
       " [29] bit64_4.0.5                 farver_2.1.0               \n",
       " [31] parallelly_1.29.0           vctrs_0.3.8                \n",
       " [33] generics_0.1.1              BiocFileCache_2.2.0        \n",
       " [35] lsa_0.73.2                  ggseqlogo_0.1              \n",
       " [37] R6_2.5.1                    bitops_1.0-7               \n",
       " [39] spatstat.utils_2.2-0        cachem_1.0.6               \n",
       " [41] DelayedArray_0.20.0         assertthat_0.2.1           \n",
       " [43] promises_1.2.0.1            BiocIO_1.4.0               \n",
       " [45] scales_1.1.1                gtable_0.3.0               \n",
       " [47] globals_0.14.0              goftest_1.2-3              \n",
       " [49] rlang_0.4.12                RcppRoll_0.3.0             \n",
       " [51] splines_4.1.1               rtracklayer_1.54.0         \n",
       " [53] lazyeval_0.2.2              spatstat.geom_2.3-0        \n",
       " [55] yaml_2.2.1                  reshape2_1.4.4             \n",
       " [57] abind_1.4-5                 httpuv_1.6.3               \n",
       " [59] tools_4.1.1                 ellipsis_0.3.2             \n",
       " [61] spatstat.core_2.3-2         ggridges_0.5.3             \n",
       " [63] Rcpp_1.0.7                  plyr_1.8.6                 \n",
       " [65] base64enc_0.1-3             progress_1.2.2             \n",
       " [67] zlibbioc_1.40.0             purrr_0.3.4                \n",
       " [69] RCurl_1.98-1.5              prettyunits_1.1.1          \n",
       " [71] rpart_4.1-15                deldir_1.0-6               \n",
       " [73] pbapply_1.5-0               zoo_1.8-9                  \n",
       " [75] SummarizedExperiment_1.24.0 ggrepel_0.9.1              \n",
       " [77] cluster_2.1.2               scattermore_0.7            \n",
       " [79] lmtest_0.9-39               RANN_2.6.1                 \n",
       " [81] SnowballC_0.7.0             ProtGenerics_1.26.0        \n",
       " [83] fitdistrplus_1.1-6          matrixStats_0.61.0         \n",
       " [85] hms_1.1.1                   mime_0.12                  \n",
       " [87] evaluate_0.14               xtable_1.8-4               \n",
       " [89] XML_3.99-0.8                sparsesvd_0.2              \n",
       " [91] gridExtra_2.3               compiler_4.1.1             \n",
       " [93] biomaRt_2.50.0              tibble_3.1.6               \n",
       " [95] KernSmooth_2.23-20          crayon_1.4.2               \n",
       " [97] htmltools_0.5.2             mgcv_1.8-38                \n",
       " [99] later_1.2.0                 tidyr_1.1.4                \n",
       "[101] DBI_1.1.1                   tweenr_1.0.2               \n",
       "[103] dbplyr_2.1.1                MASS_7.3-54                \n",
       "[105] rappdirs_0.3.3              Matrix_1.3-4               \n",
       "[107] rbibutils_2.2.4             parallel_4.1.1             \n",
       "[109] igraph_1.2.9                pkgconfig_2.0.3            \n",
       "[111] GenomicAlignments_1.30.0    IRdisplay_1.0              \n",
       "[113] plotly_4.10.0               spatstat.sparse_2.0-0      \n",
       "[115] xml2_1.3.2                  XVector_0.34.0             \n",
       "[117] stringr_1.4.0               digest_0.6.28              \n",
       "[119] sctransform_0.3.2           RcppAnnoy_0.0.19           \n",
       "[121] spatstat.data_2.1-0         Biostrings_2.62.0          \n",
       "[123] leiden_0.3.9                fastmatch_1.1-3            \n",
       "[125] uwot_0.1.10                 restfulr_0.0.13            \n",
       "[127] curl_4.3.2                  shiny_1.7.1                \n",
       "[129] Rsamtools_2.10.0            rjson_0.2.20               \n",
       "[131] lifecycle_1.0.1             nlme_3.1-153               \n",
       "[133] jsonlite_1.7.2              viridisLite_0.4.0          \n",
       "[135] fansi_0.4.2                 pillar_1.6.4               \n",
       "[137] lattice_0.20-45             KEGGREST_1.34.0            \n",
       "[139] fastmap_1.1.0               httr_1.4.2                 \n",
       "[141] survival_3.2-13             glue_1.5.1                 \n",
       "[143] qlcMatrix_0.9.7             png_0.1-7                  \n",
       "[145] bit_4.0.4                   ggforce_0.3.3              \n",
       "[147] stringi_1.7.6               blob_1.2.2                 \n",
       "[149] memoise_2.0.1               IRkernel_1.2               \n",
       "[151] irlba_2.3.3                 future.apply_1.8.1         "
      ]
     },
     "metadata": {},
     "output_type": "display_data"
    }
   ],
   "source": [
    "sessionInfo()"
   ]
  },
  {
   "cell_type": "code",
   "execution_count": null,
   "id": "1f1782dd",
   "metadata": {
    "scrolled": false
   },
   "outputs": [],
   "source": [
    "outdir"
   ]
  },
  {
   "cell_type": "code",
   "execution_count": null,
   "id": "2c0d478b",
   "metadata": {},
   "outputs": [],
   "source": []
  }
 ],
 "metadata": {
  "celltoolbar": "Tags",
  "kernelspec": {
   "display_name": "R",
   "language": "R",
   "name": "ir"
  },
  "language_info": {
   "codemirror_mode": "r",
   "file_extension": ".r",
   "mimetype": "text/x-r-source",
   "name": "R",
   "pygments_lexer": "r",
   "version": "4.1.1"
  }
 },
 "nbformat": 4,
 "nbformat_minor": 5
}
