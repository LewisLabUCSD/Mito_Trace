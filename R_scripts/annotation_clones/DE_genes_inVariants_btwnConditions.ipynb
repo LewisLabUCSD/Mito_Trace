{
 "cells": [
  {
   "cell_type": "markdown",
   "id": "223d6f46",
   "metadata": {},
   "source": [
    "## Runs DE on different clusters. Also runs DE within each cluster for each condition.\n",
    "Does this over each donor and combined"
   ]
  },
  {
   "cell_type": "code",
   "execution_count": 1,
   "id": "235ae72f",
   "metadata": {
    "tags": [
     "parameters"
    ]
   },
   "outputs": [],
   "source": [
    "se_f = \"/data/Mito_Trace/output/pipeline/CHIP_Input_nameFix_april08_2021/MTblacklist/data/merged/MT/cellr_True/numread_200/filters/minC10_minR50_topN0_hetT0.001_hetC10_hetCount5_bq20/mgatk/vireoIn/clones/variants_init/knn/kparam_3/concat/gff_hg38_1_2/annotation_clones/SE.rds\"\n",
    "cells_meta_f = \"/data/Mito_Trace/output/pipeline/CHIP_Input_nameFix_april08_2021/MTblacklist/data/merged/MT/cellr_True/numread_200/filters/minC10_minR50_topN0_hetT0.001_hetC10_hetCount5_bq20/mgatk/vireoIn/multiplex/mt_clones/thr__0.01_rt__10/cells_meta.tsv\"\n",
    "outdir = \"/data/Mito_Trace/output/pipeline/CHIP_Input_nameFix_april08_2021/MTblacklist/data/merged/MT/cellr_True/numread_200/filters/minC10_minR50_topN0_hetT0.001_hetC10_hetCount5_bq20/mgatk/vireoIn/clones/variants_init/knn/kparam_3/concat/gff_hg38_1_2/thr__0.01_rt__10/annotation_clones/de_clone_btwnvars_RNA/minPct_0.1_logfc0_minCells1_pthresh0.1\"\n",
    "min_cells = 1 \n",
    "sample_names= \"Input,Flt3l\"\n",
    "\n",
    "\n",
    "# se_f = \"/data/Mito_Trace/output/pipeline/DUPI_april08_2021/MTblacklist_mtasnucl_Bonly/data/merged/MT/cellr_True/numread_200/filters/minC10_minR50_topN0_hetT0.001_hetC10_hetCount5_bq20/mgatk/vireoIn/clones/variants_init/knn/kparam_3/concat/gff_hg38_1_2/annotation_clones/SE.rds\"\n",
    "# cells_meta_f = \"/data/Mito_Trace/output/pipeline/DUPI_april08_2021/MTblacklist_mtasnucl_Bonly/data/merged/MT/cellr_True/numread_200/filters/minC10_minR50_topN0_hetT0.001_hetC10_hetCount5_bq20/mgatk/vireoIn/multiplex/mt_clones/cells_meta.tsv\"\n",
    "# outdir = \"/data/Mito_Trace/output/pipeline/DUPI_april08_2021/MTblacklist_mtasnucl_Bonly/data/merged/MT/cellr_True/numread_200/filters/minC10_minR50_topN0_hetT0.001_hetC10_hetCount5_bq20/mgatk/vireoIn/clones/variants_init/knn/kparam_3/concat/gff_hg38_1_2/annotation_clones/de_clone_btwnvars_RNA/\"\n",
    "# sample_names = \"preB,postB\"\n",
    "\n",
    "#cells_meta_f = \"/data/Mito_Trace/output/pipeline/DUPI_april08_2021/v2_MTblacklist_mtasnucl_Bonly/data/merged/MT/cellr_True/numread_200/filters/minC10_minR50_topN0_hetT0.001_hetC10_hetCount5_bq20/mgatk/vireoIn/multiplex/mt_clones/thr__0.01_rt__10/cells_meta.tsv\"\n",
    "#outdir = \"/data/Mito_Trace/output/pipeline/DUPI_april08_2021/v2_MTblacklist_mtasnucl_Bonly/data/merged/MT/cellr_True/numread_200/filters/minC10_minR50_topN0_hetT0.001_hetC10_hetCount5_bq20/mgatk/vireoIn/clones/variants_init/knn/kparam_3/concat/gff_hg38_1_2/thr__0.01_rt__10/annotation_clones/de_clone_btwnvars_RNA/minPct_0_logfc0_minCells1_pthresh0.1_pthresh_0.1\"\n",
    "#min_cells = 1 \n",
    "\n",
    "# Parameters\n",
    "ncells_thresh = 10\n",
    "minPct = 0.1\n",
    "logfcthresh = 0\n",
    "test.use=\"wilcox\"\n",
    "latent.vars = \"NULL\"\n",
    "p_thresh = 0.1 \n",
    "top_de = 3\n",
    "ids.reversed = T\n",
    "\n",
    "# Parallel processing\n",
    "cores = 4\n",
    "# R utils script\n",
    "utils_script <- \"/data/Mito_Trace/R_scripts/seurat_utils.R\"\n"
   ]
  },
  {
   "cell_type": "code",
   "execution_count": 2,
   "id": "2c603eba",
   "metadata": {
    "scrolled": true
   },
   "outputs": [
    {
     "name": "stderr",
     "output_type": "stream",
     "text": [
      "Loading required package: stats4\n",
      "\n",
      "Loading required package: BiocGenerics\n",
      "\n",
      "\n",
      "Attaching package: ‘BiocGenerics’\n",
      "\n",
      "\n",
      "The following objects are masked from ‘package:stats’:\n",
      "\n",
      "    IQR, mad, sd, var, xtabs\n",
      "\n",
      "\n",
      "The following objects are masked from ‘package:base’:\n",
      "\n",
      "    anyDuplicated, append, as.data.frame, basename, cbind, colnames,\n",
      "    dirname, do.call, duplicated, eval, evalq, Filter, Find, get, grep,\n",
      "    grepl, intersect, is.unsorted, lapply, Map, mapply, match, mget,\n",
      "    order, paste, pmax, pmax.int, pmin, pmin.int, Position, rank,\n",
      "    rbind, Reduce, rownames, sapply, setdiff, sort, table, tapply,\n",
      "    union, unique, unsplit, which.max, which.min\n",
      "\n",
      "\n",
      "Loading required package: S4Vectors\n",
      "\n",
      "\n",
      "Attaching package: ‘S4Vectors’\n",
      "\n",
      "\n",
      "The following objects are masked from ‘package:base’:\n",
      "\n",
      "    expand.grid, I, unname\n",
      "\n",
      "\n",
      "Loading required package: IRanges\n",
      "\n",
      "Loading required package: GenomeInfoDb\n",
      "\n",
      "Attaching SeuratObject\n",
      "\n",
      "Loading required package: ensembldb\n",
      "\n",
      "Loading required package: GenomicFeatures\n",
      "\n",
      "Loading required package: AnnotationDbi\n",
      "\n",
      "Loading required package: Biobase\n",
      "\n",
      "Welcome to Bioconductor\n",
      "\n",
      "    Vignettes contain introductory material; view with\n",
      "    'browseVignettes()'. To cite Bioconductor, see\n",
      "    'citation(\"Biobase\")', and for packages 'citation(\"pkgname\")'.\n",
      "\n",
      "\n",
      "Loading required package: AnnotationFilter\n",
      "\n",
      "\n",
      "Attaching package: 'ensembldb'\n",
      "\n",
      "\n",
      "The following object is masked from 'package:stats':\n",
      "\n",
      "    filter\n",
      "\n",
      "\n",
      "\n",
      "Attaching package: 'data.table'\n",
      "\n",
      "\n",
      "The following object is masked from 'package:GenomicRanges':\n",
      "\n",
      "    shift\n",
      "\n",
      "\n",
      "The following object is masked from 'package:IRanges':\n",
      "\n",
      "    shift\n",
      "\n",
      "\n",
      "The following objects are masked from 'package:S4Vectors':\n",
      "\n",
      "    first, second\n",
      "\n",
      "\n",
      "\n",
      "Attaching package: 'magrittr'\n",
      "\n",
      "\n",
      "The following object is masked from 'package:AnnotationFilter':\n",
      "\n",
      "    not\n",
      "\n",
      "\n",
      "\n",
      "Attaching package: 'cowplot'\n",
      "\n",
      "\n",
      "The following object is masked from 'package:patchwork':\n",
      "\n",
      "    align_plots\n",
      "\n",
      "\n",
      "\n",
      "Attaching package: 'dplyr'\n",
      "\n",
      "\n",
      "The following objects are masked from 'package:data.table':\n",
      "\n",
      "    between, first, last\n",
      "\n",
      "\n",
      "The following objects are masked from 'package:ensembldb':\n",
      "\n",
      "    filter, select\n",
      "\n",
      "\n",
      "The following object is masked from 'package:AnnotationDbi':\n",
      "\n",
      "    select\n",
      "\n",
      "\n",
      "The following object is masked from 'package:Biobase':\n",
      "\n",
      "    combine\n",
      "\n",
      "\n",
      "The following objects are masked from 'package:GenomicRanges':\n",
      "\n",
      "    intersect, setdiff, union\n",
      "\n",
      "\n",
      "The following object is masked from 'package:GenomeInfoDb':\n",
      "\n",
      "    intersect\n",
      "\n",
      "\n",
      "The following objects are masked from 'package:IRanges':\n",
      "\n",
      "    collapse, desc, intersect, setdiff, slice, union\n",
      "\n",
      "\n",
      "The following objects are masked from 'package:S4Vectors':\n",
      "\n",
      "    first, intersect, rename, setdiff, setequal, union\n",
      "\n",
      "\n",
      "The following objects are masked from 'package:BiocGenerics':\n",
      "\n",
      "    combine, intersect, setdiff, union\n",
      "\n",
      "\n",
      "The following objects are masked from 'package:stats':\n",
      "\n",
      "    filter, lag\n",
      "\n",
      "\n",
      "The following objects are masked from 'package:base':\n",
      "\n",
      "    intersect, setdiff, setequal, union\n",
      "\n",
      "\n",
      "\n",
      "Attaching package: 'future'\n",
      "\n",
      "\n",
      "The following object is masked from 'package:AnnotationFilter':\n",
      "\n",
      "    value\n",
      "\n",
      "\n",
      "The following object is masked from 'package:GenomicRanges':\n",
      "\n",
      "    values\n",
      "\n",
      "\n",
      "The following object is masked from 'package:S4Vectors':\n",
      "\n",
      "    values\n",
      "\n",
      "\n"
     ]
    },
    {
     "data": {
      "text/html": [
       "<pre class=language-r><code>structure(function (..., envir = parent.frame()) \n",
       "{\n",
       "<span style=white-space:pre-wrap>    future &lt;- SequentialFuture(..., envir = envir)</span>\n",
       "<span style=white-space:pre-wrap>    if (!future$lazy) </span>\n",
       "<span style=white-space:pre-wrap>        future &lt;- run(future)</span>\n",
       "<span style=white-space:pre-wrap>    invisible(future)</span>\n",
       "}, class = c(\"FutureStrategy\", \"sequential\", \"uniprocess\", \"future\", \n",
       "\"function\"))</code></pre>"
      ],
      "text/latex": [
       "\\begin{minted}{r}\n",
       "structure(function (..., envir = parent.frame()) \n",
       "\\{\n",
       "    future <- SequentialFuture(..., envir = envir)\n",
       "    if (!future\\$lazy) \n",
       "        future <- run(future)\n",
       "    invisible(future)\n",
       "\\}, class = c(\"FutureStrategy\", \"sequential\", \"uniprocess\", \"future\", \n",
       "\"function\"))\n",
       "\\end{minted}"
      ],
      "text/markdown": [
       "```r\n",
       "structure(function (..., envir = parent.frame()) \n",
       "{\n",
       "    future <- SequentialFuture(..., envir = envir)\n",
       "    if (!future$lazy) \n",
       "        future <- run(future)\n",
       "    invisible(future)\n",
       "}, class = c(\"FutureStrategy\", \"sequential\", \"uniprocess\", \"future\", \n",
       "\"function\"))\n",
       "```"
      ],
      "text/plain": [
       "sequential:\n",
       "- args: function (..., envir = parent.frame())\n",
       "- tweaked: FALSE\n",
       "- call: NULL"
      ]
     },
     "metadata": {},
     "output_type": "display_data"
    },
    {
     "name": "stderr",
     "output_type": "stream",
     "text": [
      "Warning message:\n",
      "\"Strategy 'multiprocess' is deprecated in future (>= 1.20.0). Instead, explicitly specify either 'multisession' or 'multicore'. In the current R session, 'multiprocess' equals 'multicore'.\"\n"
     ]
    }
   ],
   "source": [
    "library(GenomicRanges)\n",
    "library(Seurat)\n",
    "library(Signac)\n",
    "library(GenomeInfoDb)\n",
    "library(EnsDb.Hsapiens.v75)\n",
    "library(ggplot2)\n",
    "library(patchwork)\n",
    "set.seed(1234)\n",
    "library(data.table)\n",
    "library(magrittr)\n",
    "library(cowplot)\n",
    "library(metap)\n",
    "library(\"RColorBrewer\")\n",
    "library(dplyr)\n",
    "library(future)\n",
    "plan()\n",
    "\n",
    "plan(\"multiprocess\", workers = cores)\n",
    "#options(future.globals.maxSize = 50000 * 1024^2) # for 50 Gb RAM\n",
    "options(future.globals.maxSize = 8000 * 1024^2)"
   ]
  },
  {
   "cell_type": "code",
   "execution_count": 3,
   "id": "40b4b453",
   "metadata": {},
   "outputs": [],
   "source": [
    "source(utils_script)"
   ]
  },
  {
   "cell_type": "code",
   "execution_count": 4,
   "id": "d52360db",
   "metadata": {
    "scrolled": true
   },
   "outputs": [
    {
     "data": {
      "text/html": [
       "<style>\n",
       ".list-inline {list-style: none; margin:0; padding: 0}\n",
       ".list-inline>li {display: inline-block}\n",
       ".list-inline>li:not(:last-child)::after {content: \"\\00b7\"; padding: 0 .5ex}\n",
       "</style>\n",
       "<ol class=list-inline><li>'Input'</li><li>'Flt3l'</li></ol>\n"
      ],
      "text/latex": [
       "\\begin{enumerate*}\n",
       "\\item 'Input'\n",
       "\\item 'Flt3l'\n",
       "\\end{enumerate*}\n"
      ],
      "text/markdown": [
       "1. 'Input'\n",
       "2. 'Flt3l'\n",
       "\n",
       "\n"
      ],
      "text/plain": [
       "[1] \"Input\" \"Flt3l\""
      ]
     },
     "metadata": {},
     "output_type": "display_data"
    }
   ],
   "source": [
    "sample_names <- unlist(strsplit(sample_names, \",\")[[1]])\n",
    "sample_names"
   ]
  },
  {
   "cell_type": "code",
   "execution_count": 5,
   "id": "dcb04677",
   "metadata": {},
   "outputs": [],
   "source": [
    "dir.create(outdir)"
   ]
  },
  {
   "cell_type": "code",
   "execution_count": 6,
   "id": "aaec9d83",
   "metadata": {
    "scrolled": true
   },
   "outputs": [
    {
     "data": {
      "text/html": [
       "<table class=\"dataframe\">\n",
       "<caption>A data.frame: 4426 × 213</caption>\n",
       "<thead>\n",
       "\t<tr><th></th><th scope=col>X10302T</th><th scope=col>X10400T</th><th scope=col>X1040C</th><th scope=col>X10463C</th><th scope=col>X10516A</th><th scope=col>X10559G</th><th scope=col>X10571T</th><th scope=col>X10646A</th><th scope=col>X10734C</th><th scope=col>X1082G</th><th scope=col>⋯</th><th scope=col>X290T</th><th scope=col>X3514A</th><th scope=col>X3590A</th><th scope=col>X3599A</th><th scope=col>X3673C</th><th scope=col>X523C</th><th scope=col>X6431G</th><th scope=col>X9023T</th><th scope=col>X955T</th><th scope=col>X515G</th></tr>\n",
       "\t<tr><th></th><th scope=col>&lt;int&gt;</th><th scope=col>&lt;int&gt;</th><th scope=col>&lt;int&gt;</th><th scope=col>&lt;int&gt;</th><th scope=col>&lt;int&gt;</th><th scope=col>&lt;int&gt;</th><th scope=col>&lt;int&gt;</th><th scope=col>&lt;int&gt;</th><th scope=col>&lt;int&gt;</th><th scope=col>&lt;int&gt;</th><th scope=col>⋯</th><th scope=col>&lt;int&gt;</th><th scope=col>&lt;int&gt;</th><th scope=col>&lt;int&gt;</th><th scope=col>&lt;int&gt;</th><th scope=col>&lt;int&gt;</th><th scope=col>&lt;int&gt;</th><th scope=col>&lt;int&gt;</th><th scope=col>&lt;int&gt;</th><th scope=col>&lt;int&gt;</th><th scope=col>&lt;int&gt;</th></tr>\n",
       "</thead>\n",
       "<tbody>\n",
       "\t<tr><th scope=row>AAACGAATCCCAGTAA-1_Input</th><td>0</td><td>0</td><td>1</td><td>0</td><td>0</td><td>0</td><td>0</td><td>0</td><td>0</td><td>0</td><td>⋯</td><td>0</td><td>0</td><td>0</td><td>0</td><td>0</td><td>0</td><td>0</td><td>0</td><td>0</td><td>0</td></tr>\n",
       "\t<tr><th scope=row>AAACGAATCGTGAACT-1_Input</th><td>0</td><td>1</td><td>0</td><td>0</td><td>0</td><td>0</td><td>0</td><td>0</td><td>0</td><td>0</td><td>⋯</td><td>0</td><td>0</td><td>0</td><td>0</td><td>0</td><td>0</td><td>0</td><td>0</td><td>0</td><td>0</td></tr>\n",
       "\t<tr><th scope=row>AAACTCGAGGTACACG-1_Input</th><td>0</td><td>0</td><td>0</td><td>0</td><td>0</td><td>0</td><td>0</td><td>0</td><td>0</td><td>0</td><td>⋯</td><td>0</td><td>0</td><td>0</td><td>0</td><td>0</td><td>0</td><td>0</td><td>0</td><td>0</td><td>0</td></tr>\n",
       "\t<tr><th scope=row>AAACTCGCAAGACACG-1_Input</th><td>0</td><td>0</td><td>1</td><td>0</td><td>0</td><td>0</td><td>0</td><td>0</td><td>0</td><td>0</td><td>⋯</td><td>0</td><td>0</td><td>0</td><td>0</td><td>0</td><td>0</td><td>0</td><td>0</td><td>0</td><td>0</td></tr>\n",
       "\t<tr><th scope=row>AAACTGCAGGATGTAT-1_Input</th><td>0</td><td>0</td><td>0</td><td>0</td><td>1</td><td>0</td><td>0</td><td>0</td><td>0</td><td>0</td><td>⋯</td><td>0</td><td>0</td><td>0</td><td>0</td><td>0</td><td>0</td><td>0</td><td>0</td><td>0</td><td>0</td></tr>\n",
       "\t<tr><th scope=row>AAACTGCAGTCTCTAG-1_Input</th><td>0</td><td>1</td><td>0</td><td>0</td><td>0</td><td>0</td><td>0</td><td>0</td><td>0</td><td>0</td><td>⋯</td><td>0</td><td>0</td><td>0</td><td>0</td><td>0</td><td>0</td><td>0</td><td>0</td><td>0</td><td>0</td></tr>\n",
       "\t<tr><th scope=row>AAACTGCTCCTCCCAA-1_Input</th><td>0</td><td>0</td><td>0</td><td>0</td><td>0</td><td>0</td><td>0</td><td>0</td><td>0</td><td>0</td><td>⋯</td><td>0</td><td>0</td><td>0</td><td>0</td><td>0</td><td>0</td><td>0</td><td>0</td><td>0</td><td>0</td></tr>\n",
       "\t<tr><th scope=row>AAAGATGCATGGGACA-1_Input</th><td>0</td><td>0</td><td>0</td><td>0</td><td>0</td><td>0</td><td>0</td><td>0</td><td>0</td><td>0</td><td>⋯</td><td>0</td><td>0</td><td>0</td><td>0</td><td>0</td><td>0</td><td>0</td><td>0</td><td>0</td><td>0</td></tr>\n",
       "\t<tr><th scope=row>AAAGGATGTGATGTGG-1_Input</th><td>0</td><td>0</td><td>0</td><td>0</td><td>0</td><td>0</td><td>0</td><td>0</td><td>0</td><td>0</td><td>⋯</td><td>0</td><td>0</td><td>0</td><td>0</td><td>0</td><td>0</td><td>0</td><td>0</td><td>0</td><td>0</td></tr>\n",
       "\t<tr><th scope=row>AAAGGGCAGGCCAGTA-1_Input</th><td>0</td><td>0</td><td>1</td><td>0</td><td>0</td><td>1</td><td>0</td><td>0</td><td>0</td><td>0</td><td>⋯</td><td>0</td><td>0</td><td>0</td><td>0</td><td>0</td><td>0</td><td>0</td><td>0</td><td>0</td><td>0</td></tr>\n",
       "\t<tr><th scope=row>AAAGGGCCACGATTAC-1_Input</th><td>0</td><td>0</td><td>0</td><td>0</td><td>0</td><td>0</td><td>0</td><td>0</td><td>0</td><td>0</td><td>⋯</td><td>0</td><td>0</td><td>0</td><td>0</td><td>0</td><td>0</td><td>0</td><td>0</td><td>0</td><td>0</td></tr>\n",
       "\t<tr><th scope=row>AAAGGGCTCACAGGGA-1_Input</th><td>0</td><td>0</td><td>0</td><td>0</td><td>0</td><td>0</td><td>0</td><td>0</td><td>0</td><td>0</td><td>⋯</td><td>0</td><td>0</td><td>0</td><td>0</td><td>0</td><td>0</td><td>0</td><td>0</td><td>0</td><td>0</td></tr>\n",
       "\t<tr><th scope=row>AAATGAGAGAGACTCG-1_Input</th><td>0</td><td>0</td><td>0</td><td>0</td><td>0</td><td>0</td><td>0</td><td>0</td><td>0</td><td>0</td><td>⋯</td><td>0</td><td>0</td><td>0</td><td>0</td><td>0</td><td>0</td><td>0</td><td>0</td><td>0</td><td>0</td></tr>\n",
       "\t<tr><th scope=row>AAATGAGAGCTACGCC-1_Input</th><td>0</td><td>0</td><td>0</td><td>0</td><td>1</td><td>0</td><td>0</td><td>0</td><td>0</td><td>0</td><td>⋯</td><td>0</td><td>0</td><td>0</td><td>0</td><td>0</td><td>0</td><td>0</td><td>0</td><td>0</td><td>0</td></tr>\n",
       "\t<tr><th scope=row>AAATGAGTCCGCGATG-1_Input</th><td>0</td><td>0</td><td>0</td><td>0</td><td>0</td><td>0</td><td>0</td><td>0</td><td>0</td><td>0</td><td>⋯</td><td>0</td><td>0</td><td>0</td><td>0</td><td>0</td><td>0</td><td>0</td><td>0</td><td>0</td><td>0</td></tr>\n",
       "\t<tr><th scope=row>AAATGAGTCTCTGCAC-1_Input</th><td>0</td><td>0</td><td>0</td><td>0</td><td>0</td><td>0</td><td>0</td><td>0</td><td>0</td><td>0</td><td>⋯</td><td>0</td><td>0</td><td>0</td><td>0</td><td>0</td><td>0</td><td>0</td><td>0</td><td>0</td><td>0</td></tr>\n",
       "\t<tr><th scope=row>AAATGCCAGCCGCAAA-1_Input</th><td>0</td><td>0</td><td>0</td><td>0</td><td>0</td><td>0</td><td>0</td><td>0</td><td>0</td><td>0</td><td>⋯</td><td>0</td><td>0</td><td>0</td><td>0</td><td>0</td><td>0</td><td>0</td><td>0</td><td>0</td><td>0</td></tr>\n",
       "\t<tr><th scope=row>AAATGCCGTAGTTTGC-1_Input</th><td>0</td><td>1</td><td>0</td><td>0</td><td>0</td><td>0</td><td>0</td><td>0</td><td>0</td><td>0</td><td>⋯</td><td>0</td><td>0</td><td>0</td><td>0</td><td>0</td><td>0</td><td>0</td><td>0</td><td>0</td><td>0</td></tr>\n",
       "\t<tr><th scope=row>AAATGCCGTGCATTCA-1_Input</th><td>0</td><td>0</td><td>0</td><td>0</td><td>0</td><td>0</td><td>0</td><td>1</td><td>0</td><td>0</td><td>⋯</td><td>0</td><td>0</td><td>0</td><td>0</td><td>0</td><td>0</td><td>0</td><td>0</td><td>0</td><td>0</td></tr>\n",
       "\t<tr><th scope=row>AAATGCCTCGTGGTAT-1_Input</th><td>0</td><td>1</td><td>0</td><td>0</td><td>0</td><td>0</td><td>0</td><td>0</td><td>0</td><td>0</td><td>⋯</td><td>0</td><td>0</td><td>0</td><td>0</td><td>0</td><td>0</td><td>0</td><td>0</td><td>0</td><td>0</td></tr>\n",
       "\t<tr><th scope=row>AACAAAGGTTCTACCC-1_Input</th><td>1</td><td>0</td><td>0</td><td>0</td><td>0</td><td>0</td><td>0</td><td>0</td><td>0</td><td>0</td><td>⋯</td><td>0</td><td>0</td><td>0</td><td>0</td><td>0</td><td>0</td><td>0</td><td>0</td><td>0</td><td>0</td></tr>\n",
       "\t<tr><th scope=row>AACAAAGGTTGAATAG-1_Input</th><td>0</td><td>0</td><td>1</td><td>0</td><td>0</td><td>0</td><td>0</td><td>0</td><td>0</td><td>0</td><td>⋯</td><td>0</td><td>0</td><td>0</td><td>0</td><td>0</td><td>0</td><td>0</td><td>0</td><td>0</td><td>0</td></tr>\n",
       "\t<tr><th scope=row>AACAGTCAGCAGAGCT-1_Input</th><td>0</td><td>1</td><td>0</td><td>0</td><td>0</td><td>0</td><td>0</td><td>0</td><td>0</td><td>0</td><td>⋯</td><td>0</td><td>0</td><td>0</td><td>0</td><td>0</td><td>0</td><td>0</td><td>0</td><td>0</td><td>0</td></tr>\n",
       "\t<tr><th scope=row>AACAGTCCACCGAAAG-1_Input</th><td>0</td><td>0</td><td>1</td><td>0</td><td>0</td><td>0</td><td>0</td><td>0</td><td>0</td><td>0</td><td>⋯</td><td>0</td><td>0</td><td>0</td><td>0</td><td>0</td><td>0</td><td>0</td><td>0</td><td>0</td><td>0</td></tr>\n",
       "\t<tr><th scope=row>AACAGTCCACTTTGGA-1_Input</th><td>0</td><td>0</td><td>0</td><td>0</td><td>0</td><td>0</td><td>0</td><td>0</td><td>0</td><td>0</td><td>⋯</td><td>0</td><td>0</td><td>0</td><td>0</td><td>0</td><td>0</td><td>0</td><td>0</td><td>0</td><td>0</td></tr>\n",
       "\t<tr><th scope=row>AACAGTCCATCCTCGT-1_Input</th><td>0</td><td>0</td><td>0</td><td>0</td><td>1</td><td>0</td><td>0</td><td>0</td><td>0</td><td>0</td><td>⋯</td><td>0</td><td>0</td><td>0</td><td>0</td><td>0</td><td>0</td><td>0</td><td>0</td><td>0</td><td>0</td></tr>\n",
       "\t<tr><th scope=row>AACATCGAGGTTACAA-1_Input</th><td>0</td><td>0</td><td>0</td><td>0</td><td>0</td><td>0</td><td>0</td><td>0</td><td>0</td><td>0</td><td>⋯</td><td>0</td><td>0</td><td>0</td><td>0</td><td>0</td><td>0</td><td>0</td><td>0</td><td>0</td><td>0</td></tr>\n",
       "\t<tr><th scope=row>AACATCGCAGCAGGTA-1_Input</th><td>0</td><td>0</td><td>0</td><td>0</td><td>0</td><td>1</td><td>1</td><td>0</td><td>0</td><td>0</td><td>⋯</td><td>0</td><td>0</td><td>0</td><td>0</td><td>0</td><td>0</td><td>0</td><td>0</td><td>0</td><td>0</td></tr>\n",
       "\t<tr><th scope=row>AACATCGTCCTCTCTT-1_Input</th><td>0</td><td>0</td><td>0</td><td>0</td><td>0</td><td>0</td><td>1</td><td>0</td><td>0</td><td>0</td><td>⋯</td><td>0</td><td>0</td><td>0</td><td>0</td><td>0</td><td>0</td><td>0</td><td>0</td><td>0</td><td>0</td></tr>\n",
       "\t<tr><th scope=row>AACCAACCAAAGGTCG-1_Input</th><td>1</td><td>0</td><td>0</td><td>0</td><td>0</td><td>0</td><td>0</td><td>0</td><td>0</td><td>0</td><td>⋯</td><td>0</td><td>0</td><td>0</td><td>0</td><td>0</td><td>0</td><td>0</td><td>0</td><td>0</td><td>0</td></tr>\n",
       "\t<tr><th scope=row>⋮</th><td>⋮</td><td>⋮</td><td>⋮</td><td>⋮</td><td>⋮</td><td>⋮</td><td>⋮</td><td>⋮</td><td>⋮</td><td>⋮</td><td>⋱</td><td>⋮</td><td>⋮</td><td>⋮</td><td>⋮</td><td>⋮</td><td>⋮</td><td>⋮</td><td>⋮</td><td>⋮</td><td>⋮</td></tr>\n",
       "\t<tr><th scope=row>TTGAGTGGTTTCAGCA-1_Input</th><td>0</td><td>0</td><td>0</td><td>0</td><td>0</td><td>0</td><td>0</td><td>0</td><td>0</td><td>0</td><td>⋯</td><td>0</td><td>0</td><td>0</td><td>0</td><td>0</td><td>0</td><td>0</td><td>0</td><td>0</td><td>0</td></tr>\n",
       "\t<tr><th scope=row>TTGAGTGTCTTGGCCT-1_Input</th><td>0</td><td>1</td><td>0</td><td>0</td><td>0</td><td>0</td><td>0</td><td>0</td><td>0</td><td>0</td><td>⋯</td><td>0</td><td>0</td><td>0</td><td>0</td><td>0</td><td>0</td><td>0</td><td>0</td><td>0</td><td>0</td></tr>\n",
       "\t<tr><th scope=row>TTGCACCCAAAGGTCG-1_Input</th><td>0</td><td>0</td><td>0</td><td>0</td><td>0</td><td>0</td><td>0</td><td>0</td><td>0</td><td>0</td><td>⋯</td><td>0</td><td>0</td><td>0</td><td>0</td><td>0</td><td>0</td><td>0</td><td>0</td><td>0</td><td>0</td></tr>\n",
       "\t<tr><th scope=row>TTGCACCCAGCAATGG-1_Input</th><td>0</td><td>0</td><td>0</td><td>0</td><td>0</td><td>0</td><td>0</td><td>0</td><td>0</td><td>0</td><td>⋯</td><td>0</td><td>0</td><td>0</td><td>0</td><td>0</td><td>0</td><td>0</td><td>0</td><td>0</td><td>0</td></tr>\n",
       "\t<tr><th scope=row>TTGCACCTCTTCGTTA-1_Input</th><td>0</td><td>0</td><td>0</td><td>0</td><td>0</td><td>0</td><td>0</td><td>0</td><td>0</td><td>0</td><td>⋯</td><td>0</td><td>0</td><td>0</td><td>0</td><td>0</td><td>0</td><td>0</td><td>0</td><td>0</td><td>0</td></tr>\n",
       "\t<tr><th scope=row>TTGCAGATCAAATGGA-1_Input</th><td>0</td><td>0</td><td>0</td><td>0</td><td>0</td><td>1</td><td>0</td><td>0</td><td>0</td><td>0</td><td>⋯</td><td>0</td><td>0</td><td>0</td><td>0</td><td>0</td><td>0</td><td>0</td><td>0</td><td>0</td><td>0</td></tr>\n",
       "\t<tr><th scope=row>TTGCCCACACCCTTAC-1_Input</th><td>0</td><td>0</td><td>0</td><td>0</td><td>0</td><td>0</td><td>0</td><td>0</td><td>0</td><td>0</td><td>⋯</td><td>0</td><td>0</td><td>0</td><td>0</td><td>0</td><td>0</td><td>0</td><td>0</td><td>0</td><td>0</td></tr>\n",
       "\t<tr><th scope=row>TTGCCCAGTTATAGAG-1_Flt3l</th><td>0</td><td>0</td><td>0</td><td>0</td><td>0</td><td>0</td><td>0</td><td>0</td><td>0</td><td>0</td><td>⋯</td><td>0</td><td>0</td><td>0</td><td>0</td><td>0</td><td>0</td><td>0</td><td>0</td><td>0</td><td>0</td></tr>\n",
       "\t<tr><th scope=row>TTGCGAAAGACCGCAA-1_Flt3l</th><td>0</td><td>0</td><td>0</td><td>0</td><td>0</td><td>0</td><td>0</td><td>0</td><td>0</td><td>0</td><td>⋯</td><td>0</td><td>0</td><td>0</td><td>0</td><td>0</td><td>0</td><td>0</td><td>0</td><td>0</td><td>0</td></tr>\n",
       "\t<tr><th scope=row>TTGCGAAAGTAACACA-1_Input</th><td>0</td><td>0</td><td>0</td><td>0</td><td>0</td><td>0</td><td>0</td><td>0</td><td>0</td><td>0</td><td>⋯</td><td>0</td><td>0</td><td>0</td><td>0</td><td>0</td><td>0</td><td>0</td><td>0</td><td>0</td><td>0</td></tr>\n",
       "\t<tr><th scope=row>TTGCGAACACTGCTCT-1_Input</th><td>0</td><td>0</td><td>0</td><td>0</td><td>0</td><td>0</td><td>0</td><td>0</td><td>0</td><td>0</td><td>⋯</td><td>0</td><td>0</td><td>0</td><td>0</td><td>0</td><td>0</td><td>0</td><td>0</td><td>0</td><td>0</td></tr>\n",
       "\t<tr><th scope=row>TTGCGAACAGGACTGA-1_Input</th><td>0</td><td>1</td><td>1</td><td>0</td><td>0</td><td>0</td><td>0</td><td>0</td><td>0</td><td>0</td><td>⋯</td><td>0</td><td>0</td><td>0</td><td>0</td><td>0</td><td>0</td><td>0</td><td>0</td><td>0</td><td>0</td></tr>\n",
       "\t<tr><th scope=row>TTGCGAAGTCATTGGT-1_Input</th><td>0</td><td>0</td><td>0</td><td>0</td><td>0</td><td>0</td><td>0</td><td>0</td><td>0</td><td>0</td><td>⋯</td><td>0</td><td>0</td><td>0</td><td>0</td><td>0</td><td>0</td><td>0</td><td>0</td><td>0</td><td>0</td></tr>\n",
       "\t<tr><th scope=row>TTGCGGGGTAGCATGG-1_Input</th><td>0</td><td>1</td><td>0</td><td>0</td><td>0</td><td>1</td><td>1</td><td>0</td><td>0</td><td>0</td><td>⋯</td><td>0</td><td>0</td><td>0</td><td>0</td><td>0</td><td>0</td><td>0</td><td>0</td><td>0</td><td>0</td></tr>\n",
       "\t<tr><th scope=row>TTGCTATGTCATTGGT-1_Input</th><td>0</td><td>0</td><td>0</td><td>1</td><td>0</td><td>0</td><td>0</td><td>0</td><td>0</td><td>0</td><td>⋯</td><td>0</td><td>0</td><td>0</td><td>0</td><td>0</td><td>0</td><td>0</td><td>0</td><td>0</td><td>0</td></tr>\n",
       "\t<tr><th scope=row>TTGCTTAGTACGAGAC-1_Input</th><td>0</td><td>1</td><td>0</td><td>0</td><td>0</td><td>0</td><td>0</td><td>0</td><td>0</td><td>0</td><td>⋯</td><td>0</td><td>0</td><td>0</td><td>0</td><td>0</td><td>0</td><td>0</td><td>0</td><td>0</td><td>1</td></tr>\n",
       "\t<tr><th scope=row>TTGGTCCTCAGGGTTT-1_Input</th><td>0</td><td>0</td><td>0</td><td>0</td><td>0</td><td>0</td><td>0</td><td>0</td><td>0</td><td>0</td><td>⋯</td><td>0</td><td>0</td><td>0</td><td>0</td><td>0</td><td>0</td><td>0</td><td>0</td><td>0</td><td>0</td></tr>\n",
       "\t<tr><th scope=row>TTGTTCAAGTGGTGTG-1_Input</th><td>0</td><td>0</td><td>0</td><td>0</td><td>0</td><td>0</td><td>0</td><td>0</td><td>0</td><td>0</td><td>⋯</td><td>0</td><td>0</td><td>0</td><td>0</td><td>0</td><td>0</td><td>0</td><td>0</td><td>0</td><td>0</td></tr>\n",
       "\t<tr><th scope=row>TTGTTCACAACAACTC-1_Input</th><td>0</td><td>0</td><td>1</td><td>0</td><td>0</td><td>1</td><td>0</td><td>0</td><td>0</td><td>0</td><td>⋯</td><td>0</td><td>0</td><td>0</td><td>0</td><td>0</td><td>0</td><td>0</td><td>0</td><td>0</td><td>0</td></tr>\n",
       "\t<tr><th scope=row>TTGTTGTCAAAGCATA-1_Input</th><td>0</td><td>0</td><td>0</td><td>0</td><td>0</td><td>0</td><td>0</td><td>0</td><td>0</td><td>0</td><td>⋯</td><td>0</td><td>0</td><td>0</td><td>0</td><td>0</td><td>0</td><td>0</td><td>0</td><td>0</td><td>0</td></tr>\n",
       "\t<tr><th scope=row>TTTACGTCAAGTGGCA-1_Input</th><td>0</td><td>0</td><td>0</td><td>0</td><td>0</td><td>0</td><td>0</td><td>0</td><td>0</td><td>0</td><td>⋯</td><td>0</td><td>0</td><td>0</td><td>0</td><td>0</td><td>0</td><td>0</td><td>0</td><td>0</td><td>0</td></tr>\n",
       "\t<tr><th scope=row>TTTACGTGTATGAAGT-1_Input</th><td>0</td><td>0</td><td>0</td><td>0</td><td>0</td><td>0</td><td>0</td><td>0</td><td>0</td><td>0</td><td>⋯</td><td>0</td><td>0</td><td>0</td><td>0</td><td>0</td><td>0</td><td>0</td><td>0</td><td>0</td><td>0</td></tr>\n",
       "\t<tr><th scope=row>TTTGAGGAGACGCCAA-1_Input</th><td>0</td><td>1</td><td>0</td><td>0</td><td>0</td><td>0</td><td>0</td><td>0</td><td>0</td><td>0</td><td>⋯</td><td>0</td><td>0</td><td>0</td><td>0</td><td>0</td><td>0</td><td>0</td><td>0</td><td>0</td><td>0</td></tr>\n",
       "\t<tr><th scope=row>TTTGAGGAGCTACGCC-1_Input</th><td>0</td><td>0</td><td>0</td><td>0</td><td>0</td><td>0</td><td>0</td><td>0</td><td>0</td><td>0</td><td>⋯</td><td>0</td><td>0</td><td>0</td><td>0</td><td>0</td><td>0</td><td>0</td><td>0</td><td>0</td><td>0</td></tr>\n",
       "\t<tr><th scope=row>TTTGAGGGTAAGGTCG-1_Input</th><td>0</td><td>0</td><td>0</td><td>0</td><td>0</td><td>0</td><td>0</td><td>0</td><td>0</td><td>0</td><td>⋯</td><td>0</td><td>0</td><td>0</td><td>0</td><td>0</td><td>0</td><td>0</td><td>0</td><td>0</td><td>0</td></tr>\n",
       "\t<tr><th scope=row>TTTGAGGGTTAGGCTT-1_Input</th><td>0</td><td>0</td><td>0</td><td>0</td><td>0</td><td>0</td><td>0</td><td>0</td><td>0</td><td>0</td><td>⋯</td><td>0</td><td>0</td><td>0</td><td>0</td><td>0</td><td>0</td><td>0</td><td>0</td><td>0</td><td>0</td></tr>\n",
       "\t<tr><th scope=row>TTTGAGGGTTGCAGAG-1_Flt3l</th><td>0</td><td>0</td><td>1</td><td>0</td><td>0</td><td>0</td><td>0</td><td>0</td><td>0</td><td>0</td><td>⋯</td><td>0</td><td>0</td><td>0</td><td>1</td><td>0</td><td>0</td><td>0</td><td>0</td><td>0</td><td>0</td></tr>\n",
       "\t<tr><th scope=row>TTTGGCCAGTTCTCCC-1_Input</th><td>0</td><td>0</td><td>0</td><td>0</td><td>1</td><td>0</td><td>0</td><td>0</td><td>0</td><td>0</td><td>⋯</td><td>0</td><td>0</td><td>0</td><td>0</td><td>0</td><td>0</td><td>0</td><td>0</td><td>0</td><td>0</td></tr>\n",
       "\t<tr><th scope=row>TTTGGCCGTGACCAGA-1_Input</th><td>0</td><td>0</td><td>0</td><td>0</td><td>0</td><td>0</td><td>0</td><td>0</td><td>0</td><td>0</td><td>⋯</td><td>0</td><td>0</td><td>0</td><td>0</td><td>0</td><td>0</td><td>0</td><td>0</td><td>0</td><td>0</td></tr>\n",
       "\t<tr><th scope=row>TTTGTGTCAATGGCTT-1_Input</th><td>0</td><td>0</td><td>0</td><td>1</td><td>0</td><td>1</td><td>0</td><td>0</td><td>0</td><td>0</td><td>⋯</td><td>0</td><td>0</td><td>0</td><td>0</td><td>0</td><td>0</td><td>0</td><td>0</td><td>0</td><td>0</td></tr>\n",
       "</tbody>\n",
       "</table>\n"
      ],
      "text/latex": [
       "A data.frame: 4426 × 213\n",
       "\\begin{tabular}{r|lllllllllllllllllllll}\n",
       "  & X10302T & X10400T & X1040C & X10463C & X10516A & X10559G & X10571T & X10646A & X10734C & X1082G & ⋯ & X290T & X3514A & X3590A & X3599A & X3673C & X523C & X6431G & X9023T & X955T & X515G\\\\\n",
       "  & <int> & <int> & <int> & <int> & <int> & <int> & <int> & <int> & <int> & <int> & ⋯ & <int> & <int> & <int> & <int> & <int> & <int> & <int> & <int> & <int> & <int>\\\\\n",
       "\\hline\n",
       "\tAAACGAATCCCAGTAA-1\\_Input & 0 & 0 & 1 & 0 & 0 & 0 & 0 & 0 & 0 & 0 & ⋯ & 0 & 0 & 0 & 0 & 0 & 0 & 0 & 0 & 0 & 0\\\\\n",
       "\tAAACGAATCGTGAACT-1\\_Input & 0 & 1 & 0 & 0 & 0 & 0 & 0 & 0 & 0 & 0 & ⋯ & 0 & 0 & 0 & 0 & 0 & 0 & 0 & 0 & 0 & 0\\\\\n",
       "\tAAACTCGAGGTACACG-1\\_Input & 0 & 0 & 0 & 0 & 0 & 0 & 0 & 0 & 0 & 0 & ⋯ & 0 & 0 & 0 & 0 & 0 & 0 & 0 & 0 & 0 & 0\\\\\n",
       "\tAAACTCGCAAGACACG-1\\_Input & 0 & 0 & 1 & 0 & 0 & 0 & 0 & 0 & 0 & 0 & ⋯ & 0 & 0 & 0 & 0 & 0 & 0 & 0 & 0 & 0 & 0\\\\\n",
       "\tAAACTGCAGGATGTAT-1\\_Input & 0 & 0 & 0 & 0 & 1 & 0 & 0 & 0 & 0 & 0 & ⋯ & 0 & 0 & 0 & 0 & 0 & 0 & 0 & 0 & 0 & 0\\\\\n",
       "\tAAACTGCAGTCTCTAG-1\\_Input & 0 & 1 & 0 & 0 & 0 & 0 & 0 & 0 & 0 & 0 & ⋯ & 0 & 0 & 0 & 0 & 0 & 0 & 0 & 0 & 0 & 0\\\\\n",
       "\tAAACTGCTCCTCCCAA-1\\_Input & 0 & 0 & 0 & 0 & 0 & 0 & 0 & 0 & 0 & 0 & ⋯ & 0 & 0 & 0 & 0 & 0 & 0 & 0 & 0 & 0 & 0\\\\\n",
       "\tAAAGATGCATGGGACA-1\\_Input & 0 & 0 & 0 & 0 & 0 & 0 & 0 & 0 & 0 & 0 & ⋯ & 0 & 0 & 0 & 0 & 0 & 0 & 0 & 0 & 0 & 0\\\\\n",
       "\tAAAGGATGTGATGTGG-1\\_Input & 0 & 0 & 0 & 0 & 0 & 0 & 0 & 0 & 0 & 0 & ⋯ & 0 & 0 & 0 & 0 & 0 & 0 & 0 & 0 & 0 & 0\\\\\n",
       "\tAAAGGGCAGGCCAGTA-1\\_Input & 0 & 0 & 1 & 0 & 0 & 1 & 0 & 0 & 0 & 0 & ⋯ & 0 & 0 & 0 & 0 & 0 & 0 & 0 & 0 & 0 & 0\\\\\n",
       "\tAAAGGGCCACGATTAC-1\\_Input & 0 & 0 & 0 & 0 & 0 & 0 & 0 & 0 & 0 & 0 & ⋯ & 0 & 0 & 0 & 0 & 0 & 0 & 0 & 0 & 0 & 0\\\\\n",
       "\tAAAGGGCTCACAGGGA-1\\_Input & 0 & 0 & 0 & 0 & 0 & 0 & 0 & 0 & 0 & 0 & ⋯ & 0 & 0 & 0 & 0 & 0 & 0 & 0 & 0 & 0 & 0\\\\\n",
       "\tAAATGAGAGAGACTCG-1\\_Input & 0 & 0 & 0 & 0 & 0 & 0 & 0 & 0 & 0 & 0 & ⋯ & 0 & 0 & 0 & 0 & 0 & 0 & 0 & 0 & 0 & 0\\\\\n",
       "\tAAATGAGAGCTACGCC-1\\_Input & 0 & 0 & 0 & 0 & 1 & 0 & 0 & 0 & 0 & 0 & ⋯ & 0 & 0 & 0 & 0 & 0 & 0 & 0 & 0 & 0 & 0\\\\\n",
       "\tAAATGAGTCCGCGATG-1\\_Input & 0 & 0 & 0 & 0 & 0 & 0 & 0 & 0 & 0 & 0 & ⋯ & 0 & 0 & 0 & 0 & 0 & 0 & 0 & 0 & 0 & 0\\\\\n",
       "\tAAATGAGTCTCTGCAC-1\\_Input & 0 & 0 & 0 & 0 & 0 & 0 & 0 & 0 & 0 & 0 & ⋯ & 0 & 0 & 0 & 0 & 0 & 0 & 0 & 0 & 0 & 0\\\\\n",
       "\tAAATGCCAGCCGCAAA-1\\_Input & 0 & 0 & 0 & 0 & 0 & 0 & 0 & 0 & 0 & 0 & ⋯ & 0 & 0 & 0 & 0 & 0 & 0 & 0 & 0 & 0 & 0\\\\\n",
       "\tAAATGCCGTAGTTTGC-1\\_Input & 0 & 1 & 0 & 0 & 0 & 0 & 0 & 0 & 0 & 0 & ⋯ & 0 & 0 & 0 & 0 & 0 & 0 & 0 & 0 & 0 & 0\\\\\n",
       "\tAAATGCCGTGCATTCA-1\\_Input & 0 & 0 & 0 & 0 & 0 & 0 & 0 & 1 & 0 & 0 & ⋯ & 0 & 0 & 0 & 0 & 0 & 0 & 0 & 0 & 0 & 0\\\\\n",
       "\tAAATGCCTCGTGGTAT-1\\_Input & 0 & 1 & 0 & 0 & 0 & 0 & 0 & 0 & 0 & 0 & ⋯ & 0 & 0 & 0 & 0 & 0 & 0 & 0 & 0 & 0 & 0\\\\\n",
       "\tAACAAAGGTTCTACCC-1\\_Input & 1 & 0 & 0 & 0 & 0 & 0 & 0 & 0 & 0 & 0 & ⋯ & 0 & 0 & 0 & 0 & 0 & 0 & 0 & 0 & 0 & 0\\\\\n",
       "\tAACAAAGGTTGAATAG-1\\_Input & 0 & 0 & 1 & 0 & 0 & 0 & 0 & 0 & 0 & 0 & ⋯ & 0 & 0 & 0 & 0 & 0 & 0 & 0 & 0 & 0 & 0\\\\\n",
       "\tAACAGTCAGCAGAGCT-1\\_Input & 0 & 1 & 0 & 0 & 0 & 0 & 0 & 0 & 0 & 0 & ⋯ & 0 & 0 & 0 & 0 & 0 & 0 & 0 & 0 & 0 & 0\\\\\n",
       "\tAACAGTCCACCGAAAG-1\\_Input & 0 & 0 & 1 & 0 & 0 & 0 & 0 & 0 & 0 & 0 & ⋯ & 0 & 0 & 0 & 0 & 0 & 0 & 0 & 0 & 0 & 0\\\\\n",
       "\tAACAGTCCACTTTGGA-1\\_Input & 0 & 0 & 0 & 0 & 0 & 0 & 0 & 0 & 0 & 0 & ⋯ & 0 & 0 & 0 & 0 & 0 & 0 & 0 & 0 & 0 & 0\\\\\n",
       "\tAACAGTCCATCCTCGT-1\\_Input & 0 & 0 & 0 & 0 & 1 & 0 & 0 & 0 & 0 & 0 & ⋯ & 0 & 0 & 0 & 0 & 0 & 0 & 0 & 0 & 0 & 0\\\\\n",
       "\tAACATCGAGGTTACAA-1\\_Input & 0 & 0 & 0 & 0 & 0 & 0 & 0 & 0 & 0 & 0 & ⋯ & 0 & 0 & 0 & 0 & 0 & 0 & 0 & 0 & 0 & 0\\\\\n",
       "\tAACATCGCAGCAGGTA-1\\_Input & 0 & 0 & 0 & 0 & 0 & 1 & 1 & 0 & 0 & 0 & ⋯ & 0 & 0 & 0 & 0 & 0 & 0 & 0 & 0 & 0 & 0\\\\\n",
       "\tAACATCGTCCTCTCTT-1\\_Input & 0 & 0 & 0 & 0 & 0 & 0 & 1 & 0 & 0 & 0 & ⋯ & 0 & 0 & 0 & 0 & 0 & 0 & 0 & 0 & 0 & 0\\\\\n",
       "\tAACCAACCAAAGGTCG-1\\_Input & 1 & 0 & 0 & 0 & 0 & 0 & 0 & 0 & 0 & 0 & ⋯ & 0 & 0 & 0 & 0 & 0 & 0 & 0 & 0 & 0 & 0\\\\\n",
       "\t⋮ & ⋮ & ⋮ & ⋮ & ⋮ & ⋮ & ⋮ & ⋮ & ⋮ & ⋮ & ⋮ & ⋱ & ⋮ & ⋮ & ⋮ & ⋮ & ⋮ & ⋮ & ⋮ & ⋮ & ⋮ & ⋮\\\\\n",
       "\tTTGAGTGGTTTCAGCA-1\\_Input & 0 & 0 & 0 & 0 & 0 & 0 & 0 & 0 & 0 & 0 & ⋯ & 0 & 0 & 0 & 0 & 0 & 0 & 0 & 0 & 0 & 0\\\\\n",
       "\tTTGAGTGTCTTGGCCT-1\\_Input & 0 & 1 & 0 & 0 & 0 & 0 & 0 & 0 & 0 & 0 & ⋯ & 0 & 0 & 0 & 0 & 0 & 0 & 0 & 0 & 0 & 0\\\\\n",
       "\tTTGCACCCAAAGGTCG-1\\_Input & 0 & 0 & 0 & 0 & 0 & 0 & 0 & 0 & 0 & 0 & ⋯ & 0 & 0 & 0 & 0 & 0 & 0 & 0 & 0 & 0 & 0\\\\\n",
       "\tTTGCACCCAGCAATGG-1\\_Input & 0 & 0 & 0 & 0 & 0 & 0 & 0 & 0 & 0 & 0 & ⋯ & 0 & 0 & 0 & 0 & 0 & 0 & 0 & 0 & 0 & 0\\\\\n",
       "\tTTGCACCTCTTCGTTA-1\\_Input & 0 & 0 & 0 & 0 & 0 & 0 & 0 & 0 & 0 & 0 & ⋯ & 0 & 0 & 0 & 0 & 0 & 0 & 0 & 0 & 0 & 0\\\\\n",
       "\tTTGCAGATCAAATGGA-1\\_Input & 0 & 0 & 0 & 0 & 0 & 1 & 0 & 0 & 0 & 0 & ⋯ & 0 & 0 & 0 & 0 & 0 & 0 & 0 & 0 & 0 & 0\\\\\n",
       "\tTTGCCCACACCCTTAC-1\\_Input & 0 & 0 & 0 & 0 & 0 & 0 & 0 & 0 & 0 & 0 & ⋯ & 0 & 0 & 0 & 0 & 0 & 0 & 0 & 0 & 0 & 0\\\\\n",
       "\tTTGCCCAGTTATAGAG-1\\_Flt3l & 0 & 0 & 0 & 0 & 0 & 0 & 0 & 0 & 0 & 0 & ⋯ & 0 & 0 & 0 & 0 & 0 & 0 & 0 & 0 & 0 & 0\\\\\n",
       "\tTTGCGAAAGACCGCAA-1\\_Flt3l & 0 & 0 & 0 & 0 & 0 & 0 & 0 & 0 & 0 & 0 & ⋯ & 0 & 0 & 0 & 0 & 0 & 0 & 0 & 0 & 0 & 0\\\\\n",
       "\tTTGCGAAAGTAACACA-1\\_Input & 0 & 0 & 0 & 0 & 0 & 0 & 0 & 0 & 0 & 0 & ⋯ & 0 & 0 & 0 & 0 & 0 & 0 & 0 & 0 & 0 & 0\\\\\n",
       "\tTTGCGAACACTGCTCT-1\\_Input & 0 & 0 & 0 & 0 & 0 & 0 & 0 & 0 & 0 & 0 & ⋯ & 0 & 0 & 0 & 0 & 0 & 0 & 0 & 0 & 0 & 0\\\\\n",
       "\tTTGCGAACAGGACTGA-1\\_Input & 0 & 1 & 1 & 0 & 0 & 0 & 0 & 0 & 0 & 0 & ⋯ & 0 & 0 & 0 & 0 & 0 & 0 & 0 & 0 & 0 & 0\\\\\n",
       "\tTTGCGAAGTCATTGGT-1\\_Input & 0 & 0 & 0 & 0 & 0 & 0 & 0 & 0 & 0 & 0 & ⋯ & 0 & 0 & 0 & 0 & 0 & 0 & 0 & 0 & 0 & 0\\\\\n",
       "\tTTGCGGGGTAGCATGG-1\\_Input & 0 & 1 & 0 & 0 & 0 & 1 & 1 & 0 & 0 & 0 & ⋯ & 0 & 0 & 0 & 0 & 0 & 0 & 0 & 0 & 0 & 0\\\\\n",
       "\tTTGCTATGTCATTGGT-1\\_Input & 0 & 0 & 0 & 1 & 0 & 0 & 0 & 0 & 0 & 0 & ⋯ & 0 & 0 & 0 & 0 & 0 & 0 & 0 & 0 & 0 & 0\\\\\n",
       "\tTTGCTTAGTACGAGAC-1\\_Input & 0 & 1 & 0 & 0 & 0 & 0 & 0 & 0 & 0 & 0 & ⋯ & 0 & 0 & 0 & 0 & 0 & 0 & 0 & 0 & 0 & 1\\\\\n",
       "\tTTGGTCCTCAGGGTTT-1\\_Input & 0 & 0 & 0 & 0 & 0 & 0 & 0 & 0 & 0 & 0 & ⋯ & 0 & 0 & 0 & 0 & 0 & 0 & 0 & 0 & 0 & 0\\\\\n",
       "\tTTGTTCAAGTGGTGTG-1\\_Input & 0 & 0 & 0 & 0 & 0 & 0 & 0 & 0 & 0 & 0 & ⋯ & 0 & 0 & 0 & 0 & 0 & 0 & 0 & 0 & 0 & 0\\\\\n",
       "\tTTGTTCACAACAACTC-1\\_Input & 0 & 0 & 1 & 0 & 0 & 1 & 0 & 0 & 0 & 0 & ⋯ & 0 & 0 & 0 & 0 & 0 & 0 & 0 & 0 & 0 & 0\\\\\n",
       "\tTTGTTGTCAAAGCATA-1\\_Input & 0 & 0 & 0 & 0 & 0 & 0 & 0 & 0 & 0 & 0 & ⋯ & 0 & 0 & 0 & 0 & 0 & 0 & 0 & 0 & 0 & 0\\\\\n",
       "\tTTTACGTCAAGTGGCA-1\\_Input & 0 & 0 & 0 & 0 & 0 & 0 & 0 & 0 & 0 & 0 & ⋯ & 0 & 0 & 0 & 0 & 0 & 0 & 0 & 0 & 0 & 0\\\\\n",
       "\tTTTACGTGTATGAAGT-1\\_Input & 0 & 0 & 0 & 0 & 0 & 0 & 0 & 0 & 0 & 0 & ⋯ & 0 & 0 & 0 & 0 & 0 & 0 & 0 & 0 & 0 & 0\\\\\n",
       "\tTTTGAGGAGACGCCAA-1\\_Input & 0 & 1 & 0 & 0 & 0 & 0 & 0 & 0 & 0 & 0 & ⋯ & 0 & 0 & 0 & 0 & 0 & 0 & 0 & 0 & 0 & 0\\\\\n",
       "\tTTTGAGGAGCTACGCC-1\\_Input & 0 & 0 & 0 & 0 & 0 & 0 & 0 & 0 & 0 & 0 & ⋯ & 0 & 0 & 0 & 0 & 0 & 0 & 0 & 0 & 0 & 0\\\\\n",
       "\tTTTGAGGGTAAGGTCG-1\\_Input & 0 & 0 & 0 & 0 & 0 & 0 & 0 & 0 & 0 & 0 & ⋯ & 0 & 0 & 0 & 0 & 0 & 0 & 0 & 0 & 0 & 0\\\\\n",
       "\tTTTGAGGGTTAGGCTT-1\\_Input & 0 & 0 & 0 & 0 & 0 & 0 & 0 & 0 & 0 & 0 & ⋯ & 0 & 0 & 0 & 0 & 0 & 0 & 0 & 0 & 0 & 0\\\\\n",
       "\tTTTGAGGGTTGCAGAG-1\\_Flt3l & 0 & 0 & 1 & 0 & 0 & 0 & 0 & 0 & 0 & 0 & ⋯ & 0 & 0 & 0 & 1 & 0 & 0 & 0 & 0 & 0 & 0\\\\\n",
       "\tTTTGGCCAGTTCTCCC-1\\_Input & 0 & 0 & 0 & 0 & 1 & 0 & 0 & 0 & 0 & 0 & ⋯ & 0 & 0 & 0 & 0 & 0 & 0 & 0 & 0 & 0 & 0\\\\\n",
       "\tTTTGGCCGTGACCAGA-1\\_Input & 0 & 0 & 0 & 0 & 0 & 0 & 0 & 0 & 0 & 0 & ⋯ & 0 & 0 & 0 & 0 & 0 & 0 & 0 & 0 & 0 & 0\\\\\n",
       "\tTTTGTGTCAATGGCTT-1\\_Input & 0 & 0 & 0 & 1 & 0 & 1 & 0 & 0 & 0 & 0 & ⋯ & 0 & 0 & 0 & 0 & 0 & 0 & 0 & 0 & 0 & 0\\\\\n",
       "\\end{tabular}\n"
      ],
      "text/markdown": [
       "\n",
       "A data.frame: 4426 × 213\n",
       "\n",
       "| <!--/--> | X10302T &lt;int&gt; | X10400T &lt;int&gt; | X1040C &lt;int&gt; | X10463C &lt;int&gt; | X10516A &lt;int&gt; | X10559G &lt;int&gt; | X10571T &lt;int&gt; | X10646A &lt;int&gt; | X10734C &lt;int&gt; | X1082G &lt;int&gt; | ⋯ ⋯ | X290T &lt;int&gt; | X3514A &lt;int&gt; | X3590A &lt;int&gt; | X3599A &lt;int&gt; | X3673C &lt;int&gt; | X523C &lt;int&gt; | X6431G &lt;int&gt; | X9023T &lt;int&gt; | X955T &lt;int&gt; | X515G &lt;int&gt; |\n",
       "|---|---|---|---|---|---|---|---|---|---|---|---|---|---|---|---|---|---|---|---|---|---|\n",
       "| AAACGAATCCCAGTAA-1_Input | 0 | 0 | 1 | 0 | 0 | 0 | 0 | 0 | 0 | 0 | ⋯ | 0 | 0 | 0 | 0 | 0 | 0 | 0 | 0 | 0 | 0 |\n",
       "| AAACGAATCGTGAACT-1_Input | 0 | 1 | 0 | 0 | 0 | 0 | 0 | 0 | 0 | 0 | ⋯ | 0 | 0 | 0 | 0 | 0 | 0 | 0 | 0 | 0 | 0 |\n",
       "| AAACTCGAGGTACACG-1_Input | 0 | 0 | 0 | 0 | 0 | 0 | 0 | 0 | 0 | 0 | ⋯ | 0 | 0 | 0 | 0 | 0 | 0 | 0 | 0 | 0 | 0 |\n",
       "| AAACTCGCAAGACACG-1_Input | 0 | 0 | 1 | 0 | 0 | 0 | 0 | 0 | 0 | 0 | ⋯ | 0 | 0 | 0 | 0 | 0 | 0 | 0 | 0 | 0 | 0 |\n",
       "| AAACTGCAGGATGTAT-1_Input | 0 | 0 | 0 | 0 | 1 | 0 | 0 | 0 | 0 | 0 | ⋯ | 0 | 0 | 0 | 0 | 0 | 0 | 0 | 0 | 0 | 0 |\n",
       "| AAACTGCAGTCTCTAG-1_Input | 0 | 1 | 0 | 0 | 0 | 0 | 0 | 0 | 0 | 0 | ⋯ | 0 | 0 | 0 | 0 | 0 | 0 | 0 | 0 | 0 | 0 |\n",
       "| AAACTGCTCCTCCCAA-1_Input | 0 | 0 | 0 | 0 | 0 | 0 | 0 | 0 | 0 | 0 | ⋯ | 0 | 0 | 0 | 0 | 0 | 0 | 0 | 0 | 0 | 0 |\n",
       "| AAAGATGCATGGGACA-1_Input | 0 | 0 | 0 | 0 | 0 | 0 | 0 | 0 | 0 | 0 | ⋯ | 0 | 0 | 0 | 0 | 0 | 0 | 0 | 0 | 0 | 0 |\n",
       "| AAAGGATGTGATGTGG-1_Input | 0 | 0 | 0 | 0 | 0 | 0 | 0 | 0 | 0 | 0 | ⋯ | 0 | 0 | 0 | 0 | 0 | 0 | 0 | 0 | 0 | 0 |\n",
       "| AAAGGGCAGGCCAGTA-1_Input | 0 | 0 | 1 | 0 | 0 | 1 | 0 | 0 | 0 | 0 | ⋯ | 0 | 0 | 0 | 0 | 0 | 0 | 0 | 0 | 0 | 0 |\n",
       "| AAAGGGCCACGATTAC-1_Input | 0 | 0 | 0 | 0 | 0 | 0 | 0 | 0 | 0 | 0 | ⋯ | 0 | 0 | 0 | 0 | 0 | 0 | 0 | 0 | 0 | 0 |\n",
       "| AAAGGGCTCACAGGGA-1_Input | 0 | 0 | 0 | 0 | 0 | 0 | 0 | 0 | 0 | 0 | ⋯ | 0 | 0 | 0 | 0 | 0 | 0 | 0 | 0 | 0 | 0 |\n",
       "| AAATGAGAGAGACTCG-1_Input | 0 | 0 | 0 | 0 | 0 | 0 | 0 | 0 | 0 | 0 | ⋯ | 0 | 0 | 0 | 0 | 0 | 0 | 0 | 0 | 0 | 0 |\n",
       "| AAATGAGAGCTACGCC-1_Input | 0 | 0 | 0 | 0 | 1 | 0 | 0 | 0 | 0 | 0 | ⋯ | 0 | 0 | 0 | 0 | 0 | 0 | 0 | 0 | 0 | 0 |\n",
       "| AAATGAGTCCGCGATG-1_Input | 0 | 0 | 0 | 0 | 0 | 0 | 0 | 0 | 0 | 0 | ⋯ | 0 | 0 | 0 | 0 | 0 | 0 | 0 | 0 | 0 | 0 |\n",
       "| AAATGAGTCTCTGCAC-1_Input | 0 | 0 | 0 | 0 | 0 | 0 | 0 | 0 | 0 | 0 | ⋯ | 0 | 0 | 0 | 0 | 0 | 0 | 0 | 0 | 0 | 0 |\n",
       "| AAATGCCAGCCGCAAA-1_Input | 0 | 0 | 0 | 0 | 0 | 0 | 0 | 0 | 0 | 0 | ⋯ | 0 | 0 | 0 | 0 | 0 | 0 | 0 | 0 | 0 | 0 |\n",
       "| AAATGCCGTAGTTTGC-1_Input | 0 | 1 | 0 | 0 | 0 | 0 | 0 | 0 | 0 | 0 | ⋯ | 0 | 0 | 0 | 0 | 0 | 0 | 0 | 0 | 0 | 0 |\n",
       "| AAATGCCGTGCATTCA-1_Input | 0 | 0 | 0 | 0 | 0 | 0 | 0 | 1 | 0 | 0 | ⋯ | 0 | 0 | 0 | 0 | 0 | 0 | 0 | 0 | 0 | 0 |\n",
       "| AAATGCCTCGTGGTAT-1_Input | 0 | 1 | 0 | 0 | 0 | 0 | 0 | 0 | 0 | 0 | ⋯ | 0 | 0 | 0 | 0 | 0 | 0 | 0 | 0 | 0 | 0 |\n",
       "| AACAAAGGTTCTACCC-1_Input | 1 | 0 | 0 | 0 | 0 | 0 | 0 | 0 | 0 | 0 | ⋯ | 0 | 0 | 0 | 0 | 0 | 0 | 0 | 0 | 0 | 0 |\n",
       "| AACAAAGGTTGAATAG-1_Input | 0 | 0 | 1 | 0 | 0 | 0 | 0 | 0 | 0 | 0 | ⋯ | 0 | 0 | 0 | 0 | 0 | 0 | 0 | 0 | 0 | 0 |\n",
       "| AACAGTCAGCAGAGCT-1_Input | 0 | 1 | 0 | 0 | 0 | 0 | 0 | 0 | 0 | 0 | ⋯ | 0 | 0 | 0 | 0 | 0 | 0 | 0 | 0 | 0 | 0 |\n",
       "| AACAGTCCACCGAAAG-1_Input | 0 | 0 | 1 | 0 | 0 | 0 | 0 | 0 | 0 | 0 | ⋯ | 0 | 0 | 0 | 0 | 0 | 0 | 0 | 0 | 0 | 0 |\n",
       "| AACAGTCCACTTTGGA-1_Input | 0 | 0 | 0 | 0 | 0 | 0 | 0 | 0 | 0 | 0 | ⋯ | 0 | 0 | 0 | 0 | 0 | 0 | 0 | 0 | 0 | 0 |\n",
       "| AACAGTCCATCCTCGT-1_Input | 0 | 0 | 0 | 0 | 1 | 0 | 0 | 0 | 0 | 0 | ⋯ | 0 | 0 | 0 | 0 | 0 | 0 | 0 | 0 | 0 | 0 |\n",
       "| AACATCGAGGTTACAA-1_Input | 0 | 0 | 0 | 0 | 0 | 0 | 0 | 0 | 0 | 0 | ⋯ | 0 | 0 | 0 | 0 | 0 | 0 | 0 | 0 | 0 | 0 |\n",
       "| AACATCGCAGCAGGTA-1_Input | 0 | 0 | 0 | 0 | 0 | 1 | 1 | 0 | 0 | 0 | ⋯ | 0 | 0 | 0 | 0 | 0 | 0 | 0 | 0 | 0 | 0 |\n",
       "| AACATCGTCCTCTCTT-1_Input | 0 | 0 | 0 | 0 | 0 | 0 | 1 | 0 | 0 | 0 | ⋯ | 0 | 0 | 0 | 0 | 0 | 0 | 0 | 0 | 0 | 0 |\n",
       "| AACCAACCAAAGGTCG-1_Input | 1 | 0 | 0 | 0 | 0 | 0 | 0 | 0 | 0 | 0 | ⋯ | 0 | 0 | 0 | 0 | 0 | 0 | 0 | 0 | 0 | 0 |\n",
       "| ⋮ | ⋮ | ⋮ | ⋮ | ⋮ | ⋮ | ⋮ | ⋮ | ⋮ | ⋮ | ⋮ | ⋱ | ⋮ | ⋮ | ⋮ | ⋮ | ⋮ | ⋮ | ⋮ | ⋮ | ⋮ | ⋮ |\n",
       "| TTGAGTGGTTTCAGCA-1_Input | 0 | 0 | 0 | 0 | 0 | 0 | 0 | 0 | 0 | 0 | ⋯ | 0 | 0 | 0 | 0 | 0 | 0 | 0 | 0 | 0 | 0 |\n",
       "| TTGAGTGTCTTGGCCT-1_Input | 0 | 1 | 0 | 0 | 0 | 0 | 0 | 0 | 0 | 0 | ⋯ | 0 | 0 | 0 | 0 | 0 | 0 | 0 | 0 | 0 | 0 |\n",
       "| TTGCACCCAAAGGTCG-1_Input | 0 | 0 | 0 | 0 | 0 | 0 | 0 | 0 | 0 | 0 | ⋯ | 0 | 0 | 0 | 0 | 0 | 0 | 0 | 0 | 0 | 0 |\n",
       "| TTGCACCCAGCAATGG-1_Input | 0 | 0 | 0 | 0 | 0 | 0 | 0 | 0 | 0 | 0 | ⋯ | 0 | 0 | 0 | 0 | 0 | 0 | 0 | 0 | 0 | 0 |\n",
       "| TTGCACCTCTTCGTTA-1_Input | 0 | 0 | 0 | 0 | 0 | 0 | 0 | 0 | 0 | 0 | ⋯ | 0 | 0 | 0 | 0 | 0 | 0 | 0 | 0 | 0 | 0 |\n",
       "| TTGCAGATCAAATGGA-1_Input | 0 | 0 | 0 | 0 | 0 | 1 | 0 | 0 | 0 | 0 | ⋯ | 0 | 0 | 0 | 0 | 0 | 0 | 0 | 0 | 0 | 0 |\n",
       "| TTGCCCACACCCTTAC-1_Input | 0 | 0 | 0 | 0 | 0 | 0 | 0 | 0 | 0 | 0 | ⋯ | 0 | 0 | 0 | 0 | 0 | 0 | 0 | 0 | 0 | 0 |\n",
       "| TTGCCCAGTTATAGAG-1_Flt3l | 0 | 0 | 0 | 0 | 0 | 0 | 0 | 0 | 0 | 0 | ⋯ | 0 | 0 | 0 | 0 | 0 | 0 | 0 | 0 | 0 | 0 |\n",
       "| TTGCGAAAGACCGCAA-1_Flt3l | 0 | 0 | 0 | 0 | 0 | 0 | 0 | 0 | 0 | 0 | ⋯ | 0 | 0 | 0 | 0 | 0 | 0 | 0 | 0 | 0 | 0 |\n",
       "| TTGCGAAAGTAACACA-1_Input | 0 | 0 | 0 | 0 | 0 | 0 | 0 | 0 | 0 | 0 | ⋯ | 0 | 0 | 0 | 0 | 0 | 0 | 0 | 0 | 0 | 0 |\n",
       "| TTGCGAACACTGCTCT-1_Input | 0 | 0 | 0 | 0 | 0 | 0 | 0 | 0 | 0 | 0 | ⋯ | 0 | 0 | 0 | 0 | 0 | 0 | 0 | 0 | 0 | 0 |\n",
       "| TTGCGAACAGGACTGA-1_Input | 0 | 1 | 1 | 0 | 0 | 0 | 0 | 0 | 0 | 0 | ⋯ | 0 | 0 | 0 | 0 | 0 | 0 | 0 | 0 | 0 | 0 |\n",
       "| TTGCGAAGTCATTGGT-1_Input | 0 | 0 | 0 | 0 | 0 | 0 | 0 | 0 | 0 | 0 | ⋯ | 0 | 0 | 0 | 0 | 0 | 0 | 0 | 0 | 0 | 0 |\n",
       "| TTGCGGGGTAGCATGG-1_Input | 0 | 1 | 0 | 0 | 0 | 1 | 1 | 0 | 0 | 0 | ⋯ | 0 | 0 | 0 | 0 | 0 | 0 | 0 | 0 | 0 | 0 |\n",
       "| TTGCTATGTCATTGGT-1_Input | 0 | 0 | 0 | 1 | 0 | 0 | 0 | 0 | 0 | 0 | ⋯ | 0 | 0 | 0 | 0 | 0 | 0 | 0 | 0 | 0 | 0 |\n",
       "| TTGCTTAGTACGAGAC-1_Input | 0 | 1 | 0 | 0 | 0 | 0 | 0 | 0 | 0 | 0 | ⋯ | 0 | 0 | 0 | 0 | 0 | 0 | 0 | 0 | 0 | 1 |\n",
       "| TTGGTCCTCAGGGTTT-1_Input | 0 | 0 | 0 | 0 | 0 | 0 | 0 | 0 | 0 | 0 | ⋯ | 0 | 0 | 0 | 0 | 0 | 0 | 0 | 0 | 0 | 0 |\n",
       "| TTGTTCAAGTGGTGTG-1_Input | 0 | 0 | 0 | 0 | 0 | 0 | 0 | 0 | 0 | 0 | ⋯ | 0 | 0 | 0 | 0 | 0 | 0 | 0 | 0 | 0 | 0 |\n",
       "| TTGTTCACAACAACTC-1_Input | 0 | 0 | 1 | 0 | 0 | 1 | 0 | 0 | 0 | 0 | ⋯ | 0 | 0 | 0 | 0 | 0 | 0 | 0 | 0 | 0 | 0 |\n",
       "| TTGTTGTCAAAGCATA-1_Input | 0 | 0 | 0 | 0 | 0 | 0 | 0 | 0 | 0 | 0 | ⋯ | 0 | 0 | 0 | 0 | 0 | 0 | 0 | 0 | 0 | 0 |\n",
       "| TTTACGTCAAGTGGCA-1_Input | 0 | 0 | 0 | 0 | 0 | 0 | 0 | 0 | 0 | 0 | ⋯ | 0 | 0 | 0 | 0 | 0 | 0 | 0 | 0 | 0 | 0 |\n",
       "| TTTACGTGTATGAAGT-1_Input | 0 | 0 | 0 | 0 | 0 | 0 | 0 | 0 | 0 | 0 | ⋯ | 0 | 0 | 0 | 0 | 0 | 0 | 0 | 0 | 0 | 0 |\n",
       "| TTTGAGGAGACGCCAA-1_Input | 0 | 1 | 0 | 0 | 0 | 0 | 0 | 0 | 0 | 0 | ⋯ | 0 | 0 | 0 | 0 | 0 | 0 | 0 | 0 | 0 | 0 |\n",
       "| TTTGAGGAGCTACGCC-1_Input | 0 | 0 | 0 | 0 | 0 | 0 | 0 | 0 | 0 | 0 | ⋯ | 0 | 0 | 0 | 0 | 0 | 0 | 0 | 0 | 0 | 0 |\n",
       "| TTTGAGGGTAAGGTCG-1_Input | 0 | 0 | 0 | 0 | 0 | 0 | 0 | 0 | 0 | 0 | ⋯ | 0 | 0 | 0 | 0 | 0 | 0 | 0 | 0 | 0 | 0 |\n",
       "| TTTGAGGGTTAGGCTT-1_Input | 0 | 0 | 0 | 0 | 0 | 0 | 0 | 0 | 0 | 0 | ⋯ | 0 | 0 | 0 | 0 | 0 | 0 | 0 | 0 | 0 | 0 |\n",
       "| TTTGAGGGTTGCAGAG-1_Flt3l | 0 | 0 | 1 | 0 | 0 | 0 | 0 | 0 | 0 | 0 | ⋯ | 0 | 0 | 0 | 1 | 0 | 0 | 0 | 0 | 0 | 0 |\n",
       "| TTTGGCCAGTTCTCCC-1_Input | 0 | 0 | 0 | 0 | 1 | 0 | 0 | 0 | 0 | 0 | ⋯ | 0 | 0 | 0 | 0 | 0 | 0 | 0 | 0 | 0 | 0 |\n",
       "| TTTGGCCGTGACCAGA-1_Input | 0 | 0 | 0 | 0 | 0 | 0 | 0 | 0 | 0 | 0 | ⋯ | 0 | 0 | 0 | 0 | 0 | 0 | 0 | 0 | 0 | 0 |\n",
       "| TTTGTGTCAATGGCTT-1_Input | 0 | 0 | 0 | 1 | 0 | 1 | 0 | 0 | 0 | 0 | ⋯ | 0 | 0 | 0 | 0 | 0 | 0 | 0 | 0 | 0 | 0 |\n",
       "\n"
      ],
      "text/plain": [
       "                         X10302T X10400T X1040C X10463C X10516A X10559G X10571T\n",
       "AAACGAATCCCAGTAA-1_Input 0       0       1      0       0       0       0      \n",
       "AAACGAATCGTGAACT-1_Input 0       1       0      0       0       0       0      \n",
       "AAACTCGAGGTACACG-1_Input 0       0       0      0       0       0       0      \n",
       "AAACTCGCAAGACACG-1_Input 0       0       1      0       0       0       0      \n",
       "AAACTGCAGGATGTAT-1_Input 0       0       0      0       1       0       0      \n",
       "AAACTGCAGTCTCTAG-1_Input 0       1       0      0       0       0       0      \n",
       "AAACTGCTCCTCCCAA-1_Input 0       0       0      0       0       0       0      \n",
       "AAAGATGCATGGGACA-1_Input 0       0       0      0       0       0       0      \n",
       "AAAGGATGTGATGTGG-1_Input 0       0       0      0       0       0       0      \n",
       "AAAGGGCAGGCCAGTA-1_Input 0       0       1      0       0       1       0      \n",
       "AAAGGGCCACGATTAC-1_Input 0       0       0      0       0       0       0      \n",
       "AAAGGGCTCACAGGGA-1_Input 0       0       0      0       0       0       0      \n",
       "AAATGAGAGAGACTCG-1_Input 0       0       0      0       0       0       0      \n",
       "AAATGAGAGCTACGCC-1_Input 0       0       0      0       1       0       0      \n",
       "AAATGAGTCCGCGATG-1_Input 0       0       0      0       0       0       0      \n",
       "AAATGAGTCTCTGCAC-1_Input 0       0       0      0       0       0       0      \n",
       "AAATGCCAGCCGCAAA-1_Input 0       0       0      0       0       0       0      \n",
       "AAATGCCGTAGTTTGC-1_Input 0       1       0      0       0       0       0      \n",
       "AAATGCCGTGCATTCA-1_Input 0       0       0      0       0       0       0      \n",
       "AAATGCCTCGTGGTAT-1_Input 0       1       0      0       0       0       0      \n",
       "AACAAAGGTTCTACCC-1_Input 1       0       0      0       0       0       0      \n",
       "AACAAAGGTTGAATAG-1_Input 0       0       1      0       0       0       0      \n",
       "AACAGTCAGCAGAGCT-1_Input 0       1       0      0       0       0       0      \n",
       "AACAGTCCACCGAAAG-1_Input 0       0       1      0       0       0       0      \n",
       "AACAGTCCACTTTGGA-1_Input 0       0       0      0       0       0       0      \n",
       "AACAGTCCATCCTCGT-1_Input 0       0       0      0       1       0       0      \n",
       "AACATCGAGGTTACAA-1_Input 0       0       0      0       0       0       0      \n",
       "AACATCGCAGCAGGTA-1_Input 0       0       0      0       0       1       1      \n",
       "AACATCGTCCTCTCTT-1_Input 0       0       0      0       0       0       1      \n",
       "AACCAACCAAAGGTCG-1_Input 1       0       0      0       0       0       0      \n",
       "⋮                        ⋮       ⋮       ⋮      ⋮       ⋮       ⋮       ⋮      \n",
       "TTGAGTGGTTTCAGCA-1_Input 0       0       0      0       0       0       0      \n",
       "TTGAGTGTCTTGGCCT-1_Input 0       1       0      0       0       0       0      \n",
       "TTGCACCCAAAGGTCG-1_Input 0       0       0      0       0       0       0      \n",
       "TTGCACCCAGCAATGG-1_Input 0       0       0      0       0       0       0      \n",
       "TTGCACCTCTTCGTTA-1_Input 0       0       0      0       0       0       0      \n",
       "TTGCAGATCAAATGGA-1_Input 0       0       0      0       0       1       0      \n",
       "TTGCCCACACCCTTAC-1_Input 0       0       0      0       0       0       0      \n",
       "TTGCCCAGTTATAGAG-1_Flt3l 0       0       0      0       0       0       0      \n",
       "TTGCGAAAGACCGCAA-1_Flt3l 0       0       0      0       0       0       0      \n",
       "TTGCGAAAGTAACACA-1_Input 0       0       0      0       0       0       0      \n",
       "TTGCGAACACTGCTCT-1_Input 0       0       0      0       0       0       0      \n",
       "TTGCGAACAGGACTGA-1_Input 0       1       1      0       0       0       0      \n",
       "TTGCGAAGTCATTGGT-1_Input 0       0       0      0       0       0       0      \n",
       "TTGCGGGGTAGCATGG-1_Input 0       1       0      0       0       1       1      \n",
       "TTGCTATGTCATTGGT-1_Input 0       0       0      1       0       0       0      \n",
       "TTGCTTAGTACGAGAC-1_Input 0       1       0      0       0       0       0      \n",
       "TTGGTCCTCAGGGTTT-1_Input 0       0       0      0       0       0       0      \n",
       "TTGTTCAAGTGGTGTG-1_Input 0       0       0      0       0       0       0      \n",
       "TTGTTCACAACAACTC-1_Input 0       0       1      0       0       1       0      \n",
       "TTGTTGTCAAAGCATA-1_Input 0       0       0      0       0       0       0      \n",
       "TTTACGTCAAGTGGCA-1_Input 0       0       0      0       0       0       0      \n",
       "TTTACGTGTATGAAGT-1_Input 0       0       0      0       0       0       0      \n",
       "TTTGAGGAGACGCCAA-1_Input 0       1       0      0       0       0       0      \n",
       "TTTGAGGAGCTACGCC-1_Input 0       0       0      0       0       0       0      \n",
       "TTTGAGGGTAAGGTCG-1_Input 0       0       0      0       0       0       0      \n",
       "TTTGAGGGTTAGGCTT-1_Input 0       0       0      0       0       0       0      \n",
       "TTTGAGGGTTGCAGAG-1_Flt3l 0       0       1      0       0       0       0      \n",
       "TTTGGCCAGTTCTCCC-1_Input 0       0       0      0       1       0       0      \n",
       "TTTGGCCGTGACCAGA-1_Input 0       0       0      0       0       0       0      \n",
       "TTTGTGTCAATGGCTT-1_Input 0       0       0      1       0       1       0      \n",
       "                         X10646A X10734C X1082G ⋯ X290T X3514A X3590A X3599A\n",
       "AAACGAATCCCAGTAA-1_Input 0       0       0      ⋯ 0     0      0      0     \n",
       "AAACGAATCGTGAACT-1_Input 0       0       0      ⋯ 0     0      0      0     \n",
       "AAACTCGAGGTACACG-1_Input 0       0       0      ⋯ 0     0      0      0     \n",
       "AAACTCGCAAGACACG-1_Input 0       0       0      ⋯ 0     0      0      0     \n",
       "AAACTGCAGGATGTAT-1_Input 0       0       0      ⋯ 0     0      0      0     \n",
       "AAACTGCAGTCTCTAG-1_Input 0       0       0      ⋯ 0     0      0      0     \n",
       "AAACTGCTCCTCCCAA-1_Input 0       0       0      ⋯ 0     0      0      0     \n",
       "AAAGATGCATGGGACA-1_Input 0       0       0      ⋯ 0     0      0      0     \n",
       "AAAGGATGTGATGTGG-1_Input 0       0       0      ⋯ 0     0      0      0     \n",
       "AAAGGGCAGGCCAGTA-1_Input 0       0       0      ⋯ 0     0      0      0     \n",
       "AAAGGGCCACGATTAC-1_Input 0       0       0      ⋯ 0     0      0      0     \n",
       "AAAGGGCTCACAGGGA-1_Input 0       0       0      ⋯ 0     0      0      0     \n",
       "AAATGAGAGAGACTCG-1_Input 0       0       0      ⋯ 0     0      0      0     \n",
       "AAATGAGAGCTACGCC-1_Input 0       0       0      ⋯ 0     0      0      0     \n",
       "AAATGAGTCCGCGATG-1_Input 0       0       0      ⋯ 0     0      0      0     \n",
       "AAATGAGTCTCTGCAC-1_Input 0       0       0      ⋯ 0     0      0      0     \n",
       "AAATGCCAGCCGCAAA-1_Input 0       0       0      ⋯ 0     0      0      0     \n",
       "AAATGCCGTAGTTTGC-1_Input 0       0       0      ⋯ 0     0      0      0     \n",
       "AAATGCCGTGCATTCA-1_Input 1       0       0      ⋯ 0     0      0      0     \n",
       "AAATGCCTCGTGGTAT-1_Input 0       0       0      ⋯ 0     0      0      0     \n",
       "AACAAAGGTTCTACCC-1_Input 0       0       0      ⋯ 0     0      0      0     \n",
       "AACAAAGGTTGAATAG-1_Input 0       0       0      ⋯ 0     0      0      0     \n",
       "AACAGTCAGCAGAGCT-1_Input 0       0       0      ⋯ 0     0      0      0     \n",
       "AACAGTCCACCGAAAG-1_Input 0       0       0      ⋯ 0     0      0      0     \n",
       "AACAGTCCACTTTGGA-1_Input 0       0       0      ⋯ 0     0      0      0     \n",
       "AACAGTCCATCCTCGT-1_Input 0       0       0      ⋯ 0     0      0      0     \n",
       "AACATCGAGGTTACAA-1_Input 0       0       0      ⋯ 0     0      0      0     \n",
       "AACATCGCAGCAGGTA-1_Input 0       0       0      ⋯ 0     0      0      0     \n",
       "AACATCGTCCTCTCTT-1_Input 0       0       0      ⋯ 0     0      0      0     \n",
       "AACCAACCAAAGGTCG-1_Input 0       0       0      ⋯ 0     0      0      0     \n",
       "⋮                        ⋮       ⋮       ⋮      ⋱ ⋮     ⋮      ⋮      ⋮     \n",
       "TTGAGTGGTTTCAGCA-1_Input 0       0       0      ⋯ 0     0      0      0     \n",
       "TTGAGTGTCTTGGCCT-1_Input 0       0       0      ⋯ 0     0      0      0     \n",
       "TTGCACCCAAAGGTCG-1_Input 0       0       0      ⋯ 0     0      0      0     \n",
       "TTGCACCCAGCAATGG-1_Input 0       0       0      ⋯ 0     0      0      0     \n",
       "TTGCACCTCTTCGTTA-1_Input 0       0       0      ⋯ 0     0      0      0     \n",
       "TTGCAGATCAAATGGA-1_Input 0       0       0      ⋯ 0     0      0      0     \n",
       "TTGCCCACACCCTTAC-1_Input 0       0       0      ⋯ 0     0      0      0     \n",
       "TTGCCCAGTTATAGAG-1_Flt3l 0       0       0      ⋯ 0     0      0      0     \n",
       "TTGCGAAAGACCGCAA-1_Flt3l 0       0       0      ⋯ 0     0      0      0     \n",
       "TTGCGAAAGTAACACA-1_Input 0       0       0      ⋯ 0     0      0      0     \n",
       "TTGCGAACACTGCTCT-1_Input 0       0       0      ⋯ 0     0      0      0     \n",
       "TTGCGAACAGGACTGA-1_Input 0       0       0      ⋯ 0     0      0      0     \n",
       "TTGCGAAGTCATTGGT-1_Input 0       0       0      ⋯ 0     0      0      0     \n",
       "TTGCGGGGTAGCATGG-1_Input 0       0       0      ⋯ 0     0      0      0     \n",
       "TTGCTATGTCATTGGT-1_Input 0       0       0      ⋯ 0     0      0      0     \n",
       "TTGCTTAGTACGAGAC-1_Input 0       0       0      ⋯ 0     0      0      0     \n",
       "TTGGTCCTCAGGGTTT-1_Input 0       0       0      ⋯ 0     0      0      0     \n",
       "TTGTTCAAGTGGTGTG-1_Input 0       0       0      ⋯ 0     0      0      0     \n",
       "TTGTTCACAACAACTC-1_Input 0       0       0      ⋯ 0     0      0      0     \n",
       "TTGTTGTCAAAGCATA-1_Input 0       0       0      ⋯ 0     0      0      0     \n",
       "TTTACGTCAAGTGGCA-1_Input 0       0       0      ⋯ 0     0      0      0     \n",
       "TTTACGTGTATGAAGT-1_Input 0       0       0      ⋯ 0     0      0      0     \n",
       "TTTGAGGAGACGCCAA-1_Input 0       0       0      ⋯ 0     0      0      0     \n",
       "TTTGAGGAGCTACGCC-1_Input 0       0       0      ⋯ 0     0      0      0     \n",
       "TTTGAGGGTAAGGTCG-1_Input 0       0       0      ⋯ 0     0      0      0     \n",
       "TTTGAGGGTTAGGCTT-1_Input 0       0       0      ⋯ 0     0      0      0     \n",
       "TTTGAGGGTTGCAGAG-1_Flt3l 0       0       0      ⋯ 0     0      0      1     \n",
       "TTTGGCCAGTTCTCCC-1_Input 0       0       0      ⋯ 0     0      0      0     \n",
       "TTTGGCCGTGACCAGA-1_Input 0       0       0      ⋯ 0     0      0      0     \n",
       "TTTGTGTCAATGGCTT-1_Input 0       0       0      ⋯ 0     0      0      0     \n",
       "                         X3673C X523C X6431G X9023T X955T X515G\n",
       "AAACGAATCCCAGTAA-1_Input 0      0     0      0      0     0    \n",
       "AAACGAATCGTGAACT-1_Input 0      0     0      0      0     0    \n",
       "AAACTCGAGGTACACG-1_Input 0      0     0      0      0     0    \n",
       "AAACTCGCAAGACACG-1_Input 0      0     0      0      0     0    \n",
       "AAACTGCAGGATGTAT-1_Input 0      0     0      0      0     0    \n",
       "AAACTGCAGTCTCTAG-1_Input 0      0     0      0      0     0    \n",
       "AAACTGCTCCTCCCAA-1_Input 0      0     0      0      0     0    \n",
       "AAAGATGCATGGGACA-1_Input 0      0     0      0      0     0    \n",
       "AAAGGATGTGATGTGG-1_Input 0      0     0      0      0     0    \n",
       "AAAGGGCAGGCCAGTA-1_Input 0      0     0      0      0     0    \n",
       "AAAGGGCCACGATTAC-1_Input 0      0     0      0      0     0    \n",
       "AAAGGGCTCACAGGGA-1_Input 0      0     0      0      0     0    \n",
       "AAATGAGAGAGACTCG-1_Input 0      0     0      0      0     0    \n",
       "AAATGAGAGCTACGCC-1_Input 0      0     0      0      0     0    \n",
       "AAATGAGTCCGCGATG-1_Input 0      0     0      0      0     0    \n",
       "AAATGAGTCTCTGCAC-1_Input 0      0     0      0      0     0    \n",
       "AAATGCCAGCCGCAAA-1_Input 0      0     0      0      0     0    \n",
       "AAATGCCGTAGTTTGC-1_Input 0      0     0      0      0     0    \n",
       "AAATGCCGTGCATTCA-1_Input 0      0     0      0      0     0    \n",
       "AAATGCCTCGTGGTAT-1_Input 0      0     0      0      0     0    \n",
       "AACAAAGGTTCTACCC-1_Input 0      0     0      0      0     0    \n",
       "AACAAAGGTTGAATAG-1_Input 0      0     0      0      0     0    \n",
       "AACAGTCAGCAGAGCT-1_Input 0      0     0      0      0     0    \n",
       "AACAGTCCACCGAAAG-1_Input 0      0     0      0      0     0    \n",
       "AACAGTCCACTTTGGA-1_Input 0      0     0      0      0     0    \n",
       "AACAGTCCATCCTCGT-1_Input 0      0     0      0      0     0    \n",
       "AACATCGAGGTTACAA-1_Input 0      0     0      0      0     0    \n",
       "AACATCGCAGCAGGTA-1_Input 0      0     0      0      0     0    \n",
       "AACATCGTCCTCTCTT-1_Input 0      0     0      0      0     0    \n",
       "AACCAACCAAAGGTCG-1_Input 0      0     0      0      0     0    \n",
       "⋮                        ⋮      ⋮     ⋮      ⋮      ⋮     ⋮    \n",
       "TTGAGTGGTTTCAGCA-1_Input 0      0     0      0      0     0    \n",
       "TTGAGTGTCTTGGCCT-1_Input 0      0     0      0      0     0    \n",
       "TTGCACCCAAAGGTCG-1_Input 0      0     0      0      0     0    \n",
       "TTGCACCCAGCAATGG-1_Input 0      0     0      0      0     0    \n",
       "TTGCACCTCTTCGTTA-1_Input 0      0     0      0      0     0    \n",
       "TTGCAGATCAAATGGA-1_Input 0      0     0      0      0     0    \n",
       "TTGCCCACACCCTTAC-1_Input 0      0     0      0      0     0    \n",
       "TTGCCCAGTTATAGAG-1_Flt3l 0      0     0      0      0     0    \n",
       "TTGCGAAAGACCGCAA-1_Flt3l 0      0     0      0      0     0    \n",
       "TTGCGAAAGTAACACA-1_Input 0      0     0      0      0     0    \n",
       "TTGCGAACACTGCTCT-1_Input 0      0     0      0      0     0    \n",
       "TTGCGAACAGGACTGA-1_Input 0      0     0      0      0     0    \n",
       "TTGCGAAGTCATTGGT-1_Input 0      0     0      0      0     0    \n",
       "TTGCGGGGTAGCATGG-1_Input 0      0     0      0      0     0    \n",
       "TTGCTATGTCATTGGT-1_Input 0      0     0      0      0     0    \n",
       "TTGCTTAGTACGAGAC-1_Input 0      0     0      0      0     1    \n",
       "TTGGTCCTCAGGGTTT-1_Input 0      0     0      0      0     0    \n",
       "TTGTTCAAGTGGTGTG-1_Input 0      0     0      0      0     0    \n",
       "TTGTTCACAACAACTC-1_Input 0      0     0      0      0     0    \n",
       "TTGTTGTCAAAGCATA-1_Input 0      0     0      0      0     0    \n",
       "TTTACGTCAAGTGGCA-1_Input 0      0     0      0      0     0    \n",
       "TTTACGTGTATGAAGT-1_Input 0      0     0      0      0     0    \n",
       "TTTGAGGAGACGCCAA-1_Input 0      0     0      0      0     0    \n",
       "TTTGAGGAGCTACGCC-1_Input 0      0     0      0      0     0    \n",
       "TTTGAGGGTAAGGTCG-1_Input 0      0     0      0      0     0    \n",
       "TTTGAGGGTTAGGCTT-1_Input 0      0     0      0      0     0    \n",
       "TTTGAGGGTTGCAGAG-1_Flt3l 0      0     0      0      0     0    \n",
       "TTTGGCCAGTTCTCCC-1_Input 0      0     0      0      0     0    \n",
       "TTTGGCCGTGACCAGA-1_Input 0      0     0      0      0     0    \n",
       "TTTGTGTCAATGGCTT-1_Input 0      0     0      0      0     0    "
      ]
     },
     "metadata": {},
     "output_type": "display_data"
    },
    {
     "name": "stdout",
     "output_type": "stream",
     "text": [
      "[1] \"here\"\n"
     ]
    },
    {
     "data": {
      "text/html": [
       "<table class=\"dataframe\">\n",
       "<caption>A data.frame: 6 × 213</caption>\n",
       "<thead>\n",
       "\t<tr><th></th><th scope=col>X11838A</th><th scope=col>X2514A</th><th scope=col>X7639T</th><th scope=col>X318A</th><th scope=col>X9173A</th><th scope=col>X14318C</th><th scope=col>X13263G</th><th scope=col>X7775A</th><th scope=col>X11719A</th><th scope=col>X2706G</th><th scope=col>⋯</th><th scope=col>X6961C</th><th scope=col>X6470C</th><th scope=col>X955T</th><th scope=col>X6904C</th><th scope=col>X3590A</th><th scope=col>X4855A</th><th scope=col>X9023T</th><th scope=col>X3003G</th><th scope=col>X3514A</th><th scope=col>X515G</th></tr>\n",
       "\t<tr><th></th><th scope=col>&lt;int&gt;</th><th scope=col>&lt;int&gt;</th><th scope=col>&lt;int&gt;</th><th scope=col>&lt;int&gt;</th><th scope=col>&lt;int&gt;</th><th scope=col>&lt;int&gt;</th><th scope=col>&lt;int&gt;</th><th scope=col>&lt;int&gt;</th><th scope=col>&lt;int&gt;</th><th scope=col>&lt;int&gt;</th><th scope=col>⋯</th><th scope=col>&lt;int&gt;</th><th scope=col>&lt;int&gt;</th><th scope=col>&lt;int&gt;</th><th scope=col>&lt;int&gt;</th><th scope=col>&lt;int&gt;</th><th scope=col>&lt;int&gt;</th><th scope=col>&lt;int&gt;</th><th scope=col>&lt;int&gt;</th><th scope=col>&lt;int&gt;</th><th scope=col>&lt;int&gt;</th></tr>\n",
       "</thead>\n",
       "<tbody>\n",
       "\t<tr><th scope=row>Input_AAACGAATCCCAGTAA-1</th><td>0</td><td>0</td><td>0</td><td>0</td><td>0</td><td>0</td><td>0</td><td>0</td><td>0</td><td>0</td><td>⋯</td><td>0</td><td>0</td><td>0</td><td>0</td><td>0</td><td>0</td><td>0</td><td>0</td><td>0</td><td>0</td></tr>\n",
       "\t<tr><th scope=row>Input_AAACGAATCGTGAACT-1</th><td>0</td><td>0</td><td>0</td><td>0</td><td>0</td><td>1</td><td>0</td><td>0</td><td>0</td><td>0</td><td>⋯</td><td>0</td><td>0</td><td>0</td><td>0</td><td>0</td><td>0</td><td>0</td><td>0</td><td>0</td><td>0</td></tr>\n",
       "\t<tr><th scope=row>Input_AAACTCGAGGTACACG-1</th><td>0</td><td>0</td><td>0</td><td>0</td><td>0</td><td>0</td><td>1</td><td>1</td><td>0</td><td>0</td><td>⋯</td><td>0</td><td>0</td><td>0</td><td>0</td><td>0</td><td>0</td><td>0</td><td>0</td><td>0</td><td>0</td></tr>\n",
       "\t<tr><th scope=row>Input_AAACTCGCAAGACACG-1</th><td>0</td><td>0</td><td>0</td><td>0</td><td>0</td><td>0</td><td>1</td><td>1</td><td>0</td><td>0</td><td>⋯</td><td>0</td><td>0</td><td>0</td><td>0</td><td>0</td><td>0</td><td>0</td><td>0</td><td>0</td><td>0</td></tr>\n",
       "\t<tr><th scope=row>Input_AAACTGCAGGATGTAT-1</th><td>0</td><td>1</td><td>0</td><td>0</td><td>0</td><td>0</td><td>0</td><td>0</td><td>0</td><td>0</td><td>⋯</td><td>0</td><td>0</td><td>0</td><td>0</td><td>0</td><td>0</td><td>0</td><td>0</td><td>0</td><td>0</td></tr>\n",
       "\t<tr><th scope=row>Input_AAACTGCAGTCTCTAG-1</th><td>0</td><td>0</td><td>0</td><td>0</td><td>0</td><td>1</td><td>1</td><td>0</td><td>0</td><td>0</td><td>⋯</td><td>0</td><td>0</td><td>0</td><td>0</td><td>0</td><td>0</td><td>0</td><td>0</td><td>0</td><td>0</td></tr>\n",
       "</tbody>\n",
       "</table>\n"
      ],
      "text/latex": [
       "A data.frame: 6 × 213\n",
       "\\begin{tabular}{r|lllllllllllllllllllll}\n",
       "  & X11838A & X2514A & X7639T & X318A & X9173A & X14318C & X13263G & X7775A & X11719A & X2706G & ⋯ & X6961C & X6470C & X955T & X6904C & X3590A & X4855A & X9023T & X3003G & X3514A & X515G\\\\\n",
       "  & <int> & <int> & <int> & <int> & <int> & <int> & <int> & <int> & <int> & <int> & ⋯ & <int> & <int> & <int> & <int> & <int> & <int> & <int> & <int> & <int> & <int>\\\\\n",
       "\\hline\n",
       "\tInput\\_AAACGAATCCCAGTAA-1 & 0 & 0 & 0 & 0 & 0 & 0 & 0 & 0 & 0 & 0 & ⋯ & 0 & 0 & 0 & 0 & 0 & 0 & 0 & 0 & 0 & 0\\\\\n",
       "\tInput\\_AAACGAATCGTGAACT-1 & 0 & 0 & 0 & 0 & 0 & 1 & 0 & 0 & 0 & 0 & ⋯ & 0 & 0 & 0 & 0 & 0 & 0 & 0 & 0 & 0 & 0\\\\\n",
       "\tInput\\_AAACTCGAGGTACACG-1 & 0 & 0 & 0 & 0 & 0 & 0 & 1 & 1 & 0 & 0 & ⋯ & 0 & 0 & 0 & 0 & 0 & 0 & 0 & 0 & 0 & 0\\\\\n",
       "\tInput\\_AAACTCGCAAGACACG-1 & 0 & 0 & 0 & 0 & 0 & 0 & 1 & 1 & 0 & 0 & ⋯ & 0 & 0 & 0 & 0 & 0 & 0 & 0 & 0 & 0 & 0\\\\\n",
       "\tInput\\_AAACTGCAGGATGTAT-1 & 0 & 1 & 0 & 0 & 0 & 0 & 0 & 0 & 0 & 0 & ⋯ & 0 & 0 & 0 & 0 & 0 & 0 & 0 & 0 & 0 & 0\\\\\n",
       "\tInput\\_AAACTGCAGTCTCTAG-1 & 0 & 0 & 0 & 0 & 0 & 1 & 1 & 0 & 0 & 0 & ⋯ & 0 & 0 & 0 & 0 & 0 & 0 & 0 & 0 & 0 & 0\\\\\n",
       "\\end{tabular}\n"
      ],
      "text/markdown": [
       "\n",
       "A data.frame: 6 × 213\n",
       "\n",
       "| <!--/--> | X11838A &lt;int&gt; | X2514A &lt;int&gt; | X7639T &lt;int&gt; | X318A &lt;int&gt; | X9173A &lt;int&gt; | X14318C &lt;int&gt; | X13263G &lt;int&gt; | X7775A &lt;int&gt; | X11719A &lt;int&gt; | X2706G &lt;int&gt; | ⋯ ⋯ | X6961C &lt;int&gt; | X6470C &lt;int&gt; | X955T &lt;int&gt; | X6904C &lt;int&gt; | X3590A &lt;int&gt; | X4855A &lt;int&gt; | X9023T &lt;int&gt; | X3003G &lt;int&gt; | X3514A &lt;int&gt; | X515G &lt;int&gt; |\n",
       "|---|---|---|---|---|---|---|---|---|---|---|---|---|---|---|---|---|---|---|---|---|---|\n",
       "| Input_AAACGAATCCCAGTAA-1 | 0 | 0 | 0 | 0 | 0 | 0 | 0 | 0 | 0 | 0 | ⋯ | 0 | 0 | 0 | 0 | 0 | 0 | 0 | 0 | 0 | 0 |\n",
       "| Input_AAACGAATCGTGAACT-1 | 0 | 0 | 0 | 0 | 0 | 1 | 0 | 0 | 0 | 0 | ⋯ | 0 | 0 | 0 | 0 | 0 | 0 | 0 | 0 | 0 | 0 |\n",
       "| Input_AAACTCGAGGTACACG-1 | 0 | 0 | 0 | 0 | 0 | 0 | 1 | 1 | 0 | 0 | ⋯ | 0 | 0 | 0 | 0 | 0 | 0 | 0 | 0 | 0 | 0 |\n",
       "| Input_AAACTCGCAAGACACG-1 | 0 | 0 | 0 | 0 | 0 | 0 | 1 | 1 | 0 | 0 | ⋯ | 0 | 0 | 0 | 0 | 0 | 0 | 0 | 0 | 0 | 0 |\n",
       "| Input_AAACTGCAGGATGTAT-1 | 0 | 1 | 0 | 0 | 0 | 0 | 0 | 0 | 0 | 0 | ⋯ | 0 | 0 | 0 | 0 | 0 | 0 | 0 | 0 | 0 | 0 |\n",
       "| Input_AAACTGCAGTCTCTAG-1 | 0 | 0 | 0 | 0 | 0 | 1 | 1 | 0 | 0 | 0 | ⋯ | 0 | 0 | 0 | 0 | 0 | 0 | 0 | 0 | 0 | 0 |\n",
       "\n"
      ],
      "text/plain": [
       "                         X11838A X2514A X7639T X318A X9173A X14318C X13263G\n",
       "Input_AAACGAATCCCAGTAA-1 0       0      0      0     0      0       0      \n",
       "Input_AAACGAATCGTGAACT-1 0       0      0      0     0      1       0      \n",
       "Input_AAACTCGAGGTACACG-1 0       0      0      0     0      0       1      \n",
       "Input_AAACTCGCAAGACACG-1 0       0      0      0     0      0       1      \n",
       "Input_AAACTGCAGGATGTAT-1 0       1      0      0     0      0       0      \n",
       "Input_AAACTGCAGTCTCTAG-1 0       0      0      0     0      1       1      \n",
       "                         X7775A X11719A X2706G ⋯ X6961C X6470C X955T X6904C\n",
       "Input_AAACGAATCCCAGTAA-1 0      0       0      ⋯ 0      0      0     0     \n",
       "Input_AAACGAATCGTGAACT-1 0      0       0      ⋯ 0      0      0     0     \n",
       "Input_AAACTCGAGGTACACG-1 1      0       0      ⋯ 0      0      0     0     \n",
       "Input_AAACTCGCAAGACACG-1 1      0       0      ⋯ 0      0      0     0     \n",
       "Input_AAACTGCAGGATGTAT-1 0      0       0      ⋯ 0      0      0     0     \n",
       "Input_AAACTGCAGTCTCTAG-1 0      0       0      ⋯ 0      0      0     0     \n",
       "                         X3590A X4855A X9023T X3003G X3514A X515G\n",
       "Input_AAACGAATCCCAGTAA-1 0      0      0      0      0      0    \n",
       "Input_AAACGAATCGTGAACT-1 0      0      0      0      0      0    \n",
       "Input_AAACTCGAGGTACACG-1 0      0      0      0      0      0    \n",
       "Input_AAACTCGCAAGACACG-1 0      0      0      0      0      0    \n",
       "Input_AAACTGCAGGATGTAT-1 0      0      0      0      0      0    \n",
       "Input_AAACTGCAGTCTCTAG-1 0      0      0      0      0      0    "
      ]
     },
     "metadata": {},
     "output_type": "display_data"
    }
   ],
   "source": [
    "cells_meta <- read.table(cells_meta_f, sep=\"\\t\", header = T, row.names=\"cell\")\n",
    "cells_meta \n",
    "\n",
    "#cells_meta\n",
    "ids.reversed = T\n",
    "\n",
    "if (ids.reversed){\n",
    "    print('here')\n",
    "    split.names <- stringr::str_split(rownames(cells_meta), \"_\")\n",
    "    rownames(cells_meta) = lapply(split.names, function(x){paste0(x[2], \"_\", x[1])})\n",
    "}\n",
    "cells_meta = cells_meta[, order(colSums(-cells_meta))]\n",
    "head(cells_meta)"
   ]
  },
  {
   "cell_type": "code",
   "execution_count": 7,
   "id": "1ae98d46",
   "metadata": {
    "scrolled": false
   },
   "outputs": [
    {
     "data": {
      "text/plain": [
       "An object of class Seurat \n",
       "189108 features across 5854 samples within 2 assays \n",
       "Active assay: RNA (19575 features, 0 variable features)\n",
       " 1 other assay present: ATAC\n",
       " 2 dimensional reductions calculated: integrated_lsi, umap"
      ]
     },
     "metadata": {},
     "output_type": "display_data"
    }
   ],
   "source": [
    "se <- readRDS(se_f)#file.path(indir, paste0(\"allSamples.integrated.rds\")))\n",
    "se"
   ]
  },
  {
   "cell_type": "markdown",
   "id": "c48bbe03",
   "metadata": {},
   "source": [
    "### Subset to just in cells_meta"
   ]
  },
  {
   "cell_type": "code",
   "execution_count": 8,
   "id": "452ac4ff",
   "metadata": {},
   "outputs": [
    {
     "data": {
      "text/html": [
       "<style>\n",
       ".list-inline {list-style: none; margin:0; padding: 0}\n",
       ".list-inline>li {display: inline-block}\n",
       ".list-inline>li:not(:last-child)::after {content: \"\\00b7\"; padding: 0 .5ex}\n",
       "</style>\n",
       "<ol class=list-inline><li>0.731636487871541</li><li>4283</li></ol>\n"
      ],
      "text/latex": [
       "\\begin{enumerate*}\n",
       "\\item 0.731636487871541\n",
       "\\item 4283\n",
       "\\end{enumerate*}\n"
      ],
      "text/markdown": [
       "1. 0.731636487871541\n",
       "2. 4283\n",
       "\n",
       "\n"
      ],
      "text/plain": [
       "[1]    0.7316365 4283.0000000"
      ]
     },
     "metadata": {},
     "output_type": "display_data"
    }
   ],
   "source": [
    "se$inClones = 0\n",
    "se[[\"inClones\"]][(colnames(se) %in% row.names(cells_meta)), \"inClones\"] = 1\n",
    "\n",
    "sum(se[[\"inClones\"]])/dim(se[[]][1])\n",
    "\n",
    "se.filt <- subset(se, subset = inClones == 1 )"
   ]
  },
  {
   "cell_type": "code",
   "execution_count": 9,
   "id": "0f422931",
   "metadata": {},
   "outputs": [],
   "source": [
    "se.filt <- AddMetaData(se.filt, cells_meta)"
   ]
  },
  {
   "cell_type": "code",
   "execution_count": 10,
   "id": "8ed9794b",
   "metadata": {
    "scrolled": false
   },
   "outputs": [
    {
     "data": {
      "text/plain": [
       "An object of class Seurat \n",
       "189108 features across 5854 samples within 2 assays \n",
       "Active assay: RNA (19575 features, 0 variable features)\n",
       " 1 other assay present: ATAC\n",
       " 2 dimensional reductions calculated: integrated_lsi, umap"
      ]
     },
     "metadata": {},
     "output_type": "display_data"
    }
   ],
   "source": [
    "se"
   ]
  },
  {
   "cell_type": "code",
   "execution_count": 11,
   "id": "de0dfca9",
   "metadata": {
    "scrolled": true
   },
   "outputs": [
    {
     "data": {
      "text/plain": [
       "An object of class Seurat \n",
       "189108 features across 4283 samples within 2 assays \n",
       "Active assay: RNA (19575 features, 0 variable features)\n",
       " 1 other assay present: ATAC\n",
       " 2 dimensional reductions calculated: integrated_lsi, umap"
      ]
     },
     "metadata": {},
     "output_type": "display_data"
    }
   ],
   "source": [
    "se.filt"
   ]
  },
  {
   "cell_type": "code",
   "execution_count": 12,
   "id": "722ff5ef",
   "metadata": {
    "scrolled": true
   },
   "outputs": [
    {
     "name": "stderr",
     "output_type": "stream",
     "text": [
      "`summarise()` has grouped output by 'condition', 'donor', 'lineage'. You can override using the `.groups` argument.\n",
      "\n",
      "Warning message in xtfrm.data.frame(x):\n",
      "\"cannot xtfrm data frames\"\n",
      "`summarise()` has grouped output by 'donor'. You can override using the `.groups` argument.\n",
      "\n"
     ]
    },
    {
     "data": {
      "text/html": [
       "<table class=\"dataframe\">\n",
       "<caption>A tibble: 6 × 8</caption>\n",
       "<thead>\n",
       "\t<tr><th scope=col>donor</th><th scope=col>lineage</th><th scope=col>norm.total</th><th scope=col>total</th><th scope=col>name</th><th scope=col>cdf.norm</th><th scope=col>cdf</th><th scope=col>index</th></tr>\n",
       "\t<tr><th scope=col>&lt;fct&gt;</th><th scope=col>&lt;fct&gt;</th><th scope=col>&lt;dbl&gt;</th><th scope=col>&lt;int&gt;</th><th scope=col>&lt;fct&gt;</th><th scope=col>&lt;dbl&gt;</th><th scope=col>&lt;int&gt;</th><th scope=col>&lt;int&gt;</th></tr>\n",
       "</thead>\n",
       "<tbody>\n",
       "\t<tr><td>0</td><td>10</td><td>0.24029451</td><td>40</td><td>0_10</td><td>0.1201473</td><td> 40</td><td>1</td></tr>\n",
       "\t<tr><td>0</td><td>13</td><td>0.19687842</td><td>33</td><td>0_13</td><td>0.2185865</td><td> 73</td><td>2</td></tr>\n",
       "\t<tr><td>0</td><td>23</td><td>0.11914324</td><td>19</td><td>0_23</td><td>0.2781581</td><td> 92</td><td>3</td></tr>\n",
       "\t<tr><td>0</td><td>12</td><td>0.11594864</td><td>43</td><td>0_12</td><td>0.3361324</td><td>135</td><td>4</td></tr>\n",
       "\t<tr><td>0</td><td>2 </td><td>0.11175003</td><td>66</td><td>0_2 </td><td>0.3920074</td><td>201</td><td>5</td></tr>\n",
       "\t<tr><td>0</td><td>11</td><td>0.09267373</td><td>47</td><td>0_11</td><td>0.4383443</td><td>248</td><td>6</td></tr>\n",
       "</tbody>\n",
       "</table>\n"
      ],
      "text/latex": [
       "A tibble: 6 × 8\n",
       "\\begin{tabular}{llllllll}\n",
       " donor & lineage & norm.total & total & name & cdf.norm & cdf & index\\\\\n",
       " <fct> & <fct> & <dbl> & <int> & <fct> & <dbl> & <int> & <int>\\\\\n",
       "\\hline\n",
       "\t 0 & 10 & 0.24029451 & 40 & 0\\_10 & 0.1201473 &  40 & 1\\\\\n",
       "\t 0 & 13 & 0.19687842 & 33 & 0\\_13 & 0.2185865 &  73 & 2\\\\\n",
       "\t 0 & 23 & 0.11914324 & 19 & 0\\_23 & 0.2781581 &  92 & 3\\\\\n",
       "\t 0 & 12 & 0.11594864 & 43 & 0\\_12 & 0.3361324 & 135 & 4\\\\\n",
       "\t 0 & 2  & 0.11175003 & 66 & 0\\_2  & 0.3920074 & 201 & 5\\\\\n",
       "\t 0 & 11 & 0.09267373 & 47 & 0\\_11 & 0.4383443 & 248 & 6\\\\\n",
       "\\end{tabular}\n"
      ],
      "text/markdown": [
       "\n",
       "A tibble: 6 × 8\n",
       "\n",
       "| donor &lt;fct&gt; | lineage &lt;fct&gt; | norm.total &lt;dbl&gt; | total &lt;int&gt; | name &lt;fct&gt; | cdf.norm &lt;dbl&gt; | cdf &lt;int&gt; | index &lt;int&gt; |\n",
       "|---|---|---|---|---|---|---|---|\n",
       "| 0 | 10 | 0.24029451 | 40 | 0_10 | 0.1201473 |  40 | 1 |\n",
       "| 0 | 13 | 0.19687842 | 33 | 0_13 | 0.2185865 |  73 | 2 |\n",
       "| 0 | 23 | 0.11914324 | 19 | 0_23 | 0.2781581 |  92 | 3 |\n",
       "| 0 | 12 | 0.11594864 | 43 | 0_12 | 0.3361324 | 135 | 4 |\n",
       "| 0 | 2  | 0.11175003 | 66 | 0_2  | 0.3920074 | 201 | 5 |\n",
       "| 0 | 11 | 0.09267373 | 47 | 0_11 | 0.4383443 | 248 | 6 |\n",
       "\n"
      ],
      "text/plain": [
       "  donor lineage norm.total total name cdf.norm  cdf index\n",
       "1 0     10      0.24029451 40    0_10 0.1201473  40 1    \n",
       "2 0     13      0.19687842 33    0_13 0.2185865  73 2    \n",
       "3 0     23      0.11914324 19    0_23 0.2781581  92 3    \n",
       "4 0     12      0.11594864 43    0_12 0.3361324 135 4    \n",
       "5 0     2       0.11175003 66    0_2  0.3920074 201 5    \n",
       "6 0     11      0.09267373 47    0_11 0.4383443 248 6    "
      ]
     },
     "metadata": {},
     "output_type": "display_data"
    }
   ],
   "source": [
    "source(utils_script)\n",
    "tmp <- get.clone.sizes(se.filt)\n",
    "counts.conds.norm <- tmp[[\"counts.norm\"]]\n",
    "clone.sizes <- tmp[[\"clone.size\"]]\n",
    "head(clone.sizes)"
   ]
  },
  {
   "cell_type": "code",
   "execution_count": 13,
   "id": "1bfd335c",
   "metadata": {},
   "outputs": [
    {
     "data": {
      "text/html": [
       "<style>\n",
       ".list-inline {list-style: none; margin:0; padding: 0}\n",
       ".list-inline>li {display: inline-block}\n",
       ".list-inline>li:not(:last-child)::after {content: \"\\00b7\"; padding: 0 .5ex}\n",
       "</style>\n",
       "<ol class=list-inline><li>4283</li><li>253</li></ol>\n"
      ],
      "text/latex": [
       "\\begin{enumerate*}\n",
       "\\item 4283\n",
       "\\item 253\n",
       "\\end{enumerate*}\n"
      ],
      "text/markdown": [
       "1. 4283\n",
       "2. 253\n",
       "\n",
       "\n"
      ],
      "text/plain": [
       "[1] 4283  253"
      ]
     },
     "metadata": {},
     "output_type": "display_data"
    }
   ],
   "source": [
    "dim(se.filt[[]])"
   ]
  },
  {
   "cell_type": "markdown",
   "id": "92fe40c1",
   "metadata": {},
   "source": [
    "## plot each clone pre and post "
   ]
  },
  {
   "cell_type": "code",
   "execution_count": 14,
   "id": "199211af",
   "metadata": {
    "scrolled": true
   },
   "outputs": [
    {
     "data": {
      "text/html": [
       "<style>\n",
       ".list-inline {list-style: none; margin:0; padding: 0}\n",
       ".list-inline>li {display: inline-block}\n",
       ".list-inline>li:not(:last-child)::after {content: \"\\00b7\"; padding: 0 .5ex}\n",
       "</style>\n",
       "<ol class=list-inline><li>'X11838A'</li><li>'X2514A'</li><li>'X7639T'</li><li>'X318A'</li><li>'X9173A'</li><li>'X14318C'</li><li>'X13263G'</li><li>'X7775A'</li><li>'X11719A'</li><li>'X2706G'</li><li>'X8701G'</li><li>'X7196A'</li><li>'X14783C'</li><li>'X12297C'</li><li>'X3552A'</li><li>'X7028T'</li><li>'X3010A'</li><li>'X4646C'</li><li>'X10873C'</li><li>'X11914A'</li><li>'X14766T'</li><li>'X4715G'</li><li>'X8642G'</li><li>'X7697A'</li><li>'X12308G'</li><li>'X2291T'</li><li>'X8584A'</li><li>'X11467G'</li><li>'X15301A'</li><li>'X5252A'</li><li>'X1040C'</li><li>'X3144G'</li><li>'X523C'</li><li>'X15043A'</li><li>'X5999C'</li><li>'X14620T'</li><li>'X73G'</li><li>'X6047G'</li><li>'X11339C'</li><li>'X10400T'</li><li>'X10516A'</li><li>'X11332T'</li><li>'X7705C'</li><li>'X3820A'</li><li>'X489C'</li><li>'X4837A'</li><li>'X12372A'</li><li>'X8770T'</li><li>'X1949A'</li><li>'X4117C'</li><li>'X3672G'</li><li>'X14905A'</li><li>'X10559G'</li><li>'X3630A'</li><li>'X5147A'</li><li>'X13108A'</li><li>'X15693C'</li><li>'X12705T'</li><li>'X14233G'</li><li>'X1199T'</li><li>'X15607G'</li><li>'X1888A'</li><li>'X11812G'</li><li>'X2083C'</li><li>'X2875G'</li><li>'X4216C'</li><li>'X9087A'</li><li>'X16519C'</li><li>'X290T'</li><li>'X5580C'</li><li>'X9545G'</li><li>'X9540C'</li><li>'X4917G'</li><li>'X7689A'</li><li>'X15184C'</li><li>'X1811G'</li><li>'X499A'</li><li>'X16362C'</li><li>'X13368A'</li><li>'X15452A'</li><li>'X477C'</li><li>'X8118A'</li><li>'X16356C'</li><li>'X11204C'</li><li>'X14861A'</li><li>'X930A'</li><li>'X15789T'</li><li>'X8352A'</li><li>'X10646A'</li><li>'X4248C'</li><li>'X16126C'</li><li>'X6456A'</li><li>'X8697A'</li><li>'X16327T'</li><li>'X16325C'</li><li>'X5496G'</li><li>'X4820T'</li><li>'X16304C'</li><li>'X709A'</li><li>'X10398G'</li><li>'X15122G'</li><li>'X6043A'</li><li>'X5585T'</li><li>'X16051G'</li><li>'X15487T'</li><li>'X10463C'</li><li>'X16294T'</li><li>'X9899C'</li><li>'X16296T'</li><li>'X15924G'</li><li>'X11251G'</li><li>'X16223T'</li><li>'X16298C'</li><li>'X13068G'</li><li>'X3655A'</li><li>'X15928A'</li><li>'X4806A'</li><li>'X1847A'</li><li>'X11382A'</li><li>'X195C'</li><li>'X7849T'</li><li>'X8276A'</li><li>'X3296A'</li><li>'X150T'</li><li>'X10571T'</li><li>'X13094A'</li><li>'X9590T'</li><li>'X983T'</li><li>'X15235C'</li><li>'X4100A'</li><li>'X62A'</li><li>'X15821A'</li><li>'X16150T'</li><li>'X8908A'</li><li>'X7579C'</li><li>'X16220C'</li><li>'X12283T'</li><li>'X12723C'</li><li>'X3554A'</li><li>'X1551T'</li><li>'X302C'</li><li>'X10302T'</li><li>'X9640T'</li><li>'X8609A'</li><li>'X249T'</li><li>'X14614T'</li><li>'X13436A'</li><li>'X513A'</li><li>'X6371A'</li><li>'X13619A'</li><li>'X16512A'</li><li>'X3735T'</li><li>'X5214A'</li><li>'X5337A'</li><li>'X4631T'</li><li>'X16387G'</li><li>'X478C'</li><li>'X13305T'</li><li>'X11137C'</li><li>'X6207A'</li><li>'X8926T'</li><li>'X1192A'</li><li>'X6797T'</li><li>'X13443A'</li><li>'X14962T'</li><li>'X6364A'</li><li>'X2723T'</li><li>'X2694T'</li><li>'X4972A'</li><li>'X12944A'</li><li>'X13339A'</li><li>'X14991A'</li><li>'X2653A'</li><li>'X13169C'</li><li>'X5357C'</li><li>'X13850T'</li><li>'X6142T'</li><li>'X6532C'</li><li>'X13246A'</li><li>'X3402T'</li><li>'X7032A'</li><li>'X8285A'</li><li>'X2757G'</li><li>'X9476T'</li><li>'X5273T'</li><li>'X12079T'</li><li>'X3673C'</li><li>'X8632C'</li><li>'X6891T'</li><li>'X5863G'</li><li>'X1471T'</li><li>'X1082G'</li><li>'X1334A'</li><li>'X9270A'</li><li>'X16227T'</li><li>'X12790A'</li><li>'X6431G'</li><li>'X6293C'</li><li>'X7218T'</li><li>'X769T'</li><li>'X7589A'</li><li>'X3599A'</li><li>'X10734C'</li><li>'X6961C'</li><li>'X6470C'</li><li>'X955T'</li><li>'X6904C'</li><li>'X3590A'</li><li>'X4855A'</li><li>'X9023T'</li><li>'X3003G'</li><li>'X3514A'</li><li>'X515G'</li></ol>\n"
      ],
      "text/latex": [
       "\\begin{enumerate*}\n",
       "\\item 'X11838A'\n",
       "\\item 'X2514A'\n",
       "\\item 'X7639T'\n",
       "\\item 'X318A'\n",
       "\\item 'X9173A'\n",
       "\\item 'X14318C'\n",
       "\\item 'X13263G'\n",
       "\\item 'X7775A'\n",
       "\\item 'X11719A'\n",
       "\\item 'X2706G'\n",
       "\\item 'X8701G'\n",
       "\\item 'X7196A'\n",
       "\\item 'X14783C'\n",
       "\\item 'X12297C'\n",
       "\\item 'X3552A'\n",
       "\\item 'X7028T'\n",
       "\\item 'X3010A'\n",
       "\\item 'X4646C'\n",
       "\\item 'X10873C'\n",
       "\\item 'X11914A'\n",
       "\\item 'X14766T'\n",
       "\\item 'X4715G'\n",
       "\\item 'X8642G'\n",
       "\\item 'X7697A'\n",
       "\\item 'X12308G'\n",
       "\\item 'X2291T'\n",
       "\\item 'X8584A'\n",
       "\\item 'X11467G'\n",
       "\\item 'X15301A'\n",
       "\\item 'X5252A'\n",
       "\\item 'X1040C'\n",
       "\\item 'X3144G'\n",
       "\\item 'X523C'\n",
       "\\item 'X15043A'\n",
       "\\item 'X5999C'\n",
       "\\item 'X14620T'\n",
       "\\item 'X73G'\n",
       "\\item 'X6047G'\n",
       "\\item 'X11339C'\n",
       "\\item 'X10400T'\n",
       "\\item 'X10516A'\n",
       "\\item 'X11332T'\n",
       "\\item 'X7705C'\n",
       "\\item 'X3820A'\n",
       "\\item 'X489C'\n",
       "\\item 'X4837A'\n",
       "\\item 'X12372A'\n",
       "\\item 'X8770T'\n",
       "\\item 'X1949A'\n",
       "\\item 'X4117C'\n",
       "\\item 'X3672G'\n",
       "\\item 'X14905A'\n",
       "\\item 'X10559G'\n",
       "\\item 'X3630A'\n",
       "\\item 'X5147A'\n",
       "\\item 'X13108A'\n",
       "\\item 'X15693C'\n",
       "\\item 'X12705T'\n",
       "\\item 'X14233G'\n",
       "\\item 'X1199T'\n",
       "\\item 'X15607G'\n",
       "\\item 'X1888A'\n",
       "\\item 'X11812G'\n",
       "\\item 'X2083C'\n",
       "\\item 'X2875G'\n",
       "\\item 'X4216C'\n",
       "\\item 'X9087A'\n",
       "\\item 'X16519C'\n",
       "\\item 'X290T'\n",
       "\\item 'X5580C'\n",
       "\\item 'X9545G'\n",
       "\\item 'X9540C'\n",
       "\\item 'X4917G'\n",
       "\\item 'X7689A'\n",
       "\\item 'X15184C'\n",
       "\\item 'X1811G'\n",
       "\\item 'X499A'\n",
       "\\item 'X16362C'\n",
       "\\item 'X13368A'\n",
       "\\item 'X15452A'\n",
       "\\item 'X477C'\n",
       "\\item 'X8118A'\n",
       "\\item 'X16356C'\n",
       "\\item 'X11204C'\n",
       "\\item 'X14861A'\n",
       "\\item 'X930A'\n",
       "\\item 'X15789T'\n",
       "\\item 'X8352A'\n",
       "\\item 'X10646A'\n",
       "\\item 'X4248C'\n",
       "\\item 'X16126C'\n",
       "\\item 'X6456A'\n",
       "\\item 'X8697A'\n",
       "\\item 'X16327T'\n",
       "\\item 'X16325C'\n",
       "\\item 'X5496G'\n",
       "\\item 'X4820T'\n",
       "\\item 'X16304C'\n",
       "\\item 'X709A'\n",
       "\\item 'X10398G'\n",
       "\\item 'X15122G'\n",
       "\\item 'X6043A'\n",
       "\\item 'X5585T'\n",
       "\\item 'X16051G'\n",
       "\\item 'X15487T'\n",
       "\\item 'X10463C'\n",
       "\\item 'X16294T'\n",
       "\\item 'X9899C'\n",
       "\\item 'X16296T'\n",
       "\\item 'X15924G'\n",
       "\\item 'X11251G'\n",
       "\\item 'X16223T'\n",
       "\\item 'X16298C'\n",
       "\\item 'X13068G'\n",
       "\\item 'X3655A'\n",
       "\\item 'X15928A'\n",
       "\\item 'X4806A'\n",
       "\\item 'X1847A'\n",
       "\\item 'X11382A'\n",
       "\\item 'X195C'\n",
       "\\item 'X7849T'\n",
       "\\item 'X8276A'\n",
       "\\item 'X3296A'\n",
       "\\item 'X150T'\n",
       "\\item 'X10571T'\n",
       "\\item 'X13094A'\n",
       "\\item 'X9590T'\n",
       "\\item 'X983T'\n",
       "\\item 'X15235C'\n",
       "\\item 'X4100A'\n",
       "\\item 'X62A'\n",
       "\\item 'X15821A'\n",
       "\\item 'X16150T'\n",
       "\\item 'X8908A'\n",
       "\\item 'X7579C'\n",
       "\\item 'X16220C'\n",
       "\\item 'X12283T'\n",
       "\\item 'X12723C'\n",
       "\\item 'X3554A'\n",
       "\\item 'X1551T'\n",
       "\\item 'X302C'\n",
       "\\item 'X10302T'\n",
       "\\item 'X9640T'\n",
       "\\item 'X8609A'\n",
       "\\item 'X249T'\n",
       "\\item 'X14614T'\n",
       "\\item 'X13436A'\n",
       "\\item 'X513A'\n",
       "\\item 'X6371A'\n",
       "\\item 'X13619A'\n",
       "\\item 'X16512A'\n",
       "\\item 'X3735T'\n",
       "\\item 'X5214A'\n",
       "\\item 'X5337A'\n",
       "\\item 'X4631T'\n",
       "\\item 'X16387G'\n",
       "\\item 'X478C'\n",
       "\\item 'X13305T'\n",
       "\\item 'X11137C'\n",
       "\\item 'X6207A'\n",
       "\\item 'X8926T'\n",
       "\\item 'X1192A'\n",
       "\\item 'X6797T'\n",
       "\\item 'X13443A'\n",
       "\\item 'X14962T'\n",
       "\\item 'X6364A'\n",
       "\\item 'X2723T'\n",
       "\\item 'X2694T'\n",
       "\\item 'X4972A'\n",
       "\\item 'X12944A'\n",
       "\\item 'X13339A'\n",
       "\\item 'X14991A'\n",
       "\\item 'X2653A'\n",
       "\\item 'X13169C'\n",
       "\\item 'X5357C'\n",
       "\\item 'X13850T'\n",
       "\\item 'X6142T'\n",
       "\\item 'X6532C'\n",
       "\\item 'X13246A'\n",
       "\\item 'X3402T'\n",
       "\\item 'X7032A'\n",
       "\\item 'X8285A'\n",
       "\\item 'X2757G'\n",
       "\\item 'X9476T'\n",
       "\\item 'X5273T'\n",
       "\\item 'X12079T'\n",
       "\\item 'X3673C'\n",
       "\\item 'X8632C'\n",
       "\\item 'X6891T'\n",
       "\\item 'X5863G'\n",
       "\\item 'X1471T'\n",
       "\\item 'X1082G'\n",
       "\\item 'X1334A'\n",
       "\\item 'X9270A'\n",
       "\\item 'X16227T'\n",
       "\\item 'X12790A'\n",
       "\\item 'X6431G'\n",
       "\\item 'X6293C'\n",
       "\\item 'X7218T'\n",
       "\\item 'X769T'\n",
       "\\item 'X7589A'\n",
       "\\item 'X3599A'\n",
       "\\item 'X10734C'\n",
       "\\item 'X6961C'\n",
       "\\item 'X6470C'\n",
       "\\item 'X955T'\n",
       "\\item 'X6904C'\n",
       "\\item 'X3590A'\n",
       "\\item 'X4855A'\n",
       "\\item 'X9023T'\n",
       "\\item 'X3003G'\n",
       "\\item 'X3514A'\n",
       "\\item 'X515G'\n",
       "\\end{enumerate*}\n"
      ],
      "text/markdown": [
       "1. 'X11838A'\n",
       "2. 'X2514A'\n",
       "3. 'X7639T'\n",
       "4. 'X318A'\n",
       "5. 'X9173A'\n",
       "6. 'X14318C'\n",
       "7. 'X13263G'\n",
       "8. 'X7775A'\n",
       "9. 'X11719A'\n",
       "10. 'X2706G'\n",
       "11. 'X8701G'\n",
       "12. 'X7196A'\n",
       "13. 'X14783C'\n",
       "14. 'X12297C'\n",
       "15. 'X3552A'\n",
       "16. 'X7028T'\n",
       "17. 'X3010A'\n",
       "18. 'X4646C'\n",
       "19. 'X10873C'\n",
       "20. 'X11914A'\n",
       "21. 'X14766T'\n",
       "22. 'X4715G'\n",
       "23. 'X8642G'\n",
       "24. 'X7697A'\n",
       "25. 'X12308G'\n",
       "26. 'X2291T'\n",
       "27. 'X8584A'\n",
       "28. 'X11467G'\n",
       "29. 'X15301A'\n",
       "30. 'X5252A'\n",
       "31. 'X1040C'\n",
       "32. 'X3144G'\n",
       "33. 'X523C'\n",
       "34. 'X15043A'\n",
       "35. 'X5999C'\n",
       "36. 'X14620T'\n",
       "37. 'X73G'\n",
       "38. 'X6047G'\n",
       "39. 'X11339C'\n",
       "40. 'X10400T'\n",
       "41. 'X10516A'\n",
       "42. 'X11332T'\n",
       "43. 'X7705C'\n",
       "44. 'X3820A'\n",
       "45. 'X489C'\n",
       "46. 'X4837A'\n",
       "47. 'X12372A'\n",
       "48. 'X8770T'\n",
       "49. 'X1949A'\n",
       "50. 'X4117C'\n",
       "51. 'X3672G'\n",
       "52. 'X14905A'\n",
       "53. 'X10559G'\n",
       "54. 'X3630A'\n",
       "55. 'X5147A'\n",
       "56. 'X13108A'\n",
       "57. 'X15693C'\n",
       "58. 'X12705T'\n",
       "59. 'X14233G'\n",
       "60. 'X1199T'\n",
       "61. 'X15607G'\n",
       "62. 'X1888A'\n",
       "63. 'X11812G'\n",
       "64. 'X2083C'\n",
       "65. 'X2875G'\n",
       "66. 'X4216C'\n",
       "67. 'X9087A'\n",
       "68. 'X16519C'\n",
       "69. 'X290T'\n",
       "70. 'X5580C'\n",
       "71. 'X9545G'\n",
       "72. 'X9540C'\n",
       "73. 'X4917G'\n",
       "74. 'X7689A'\n",
       "75. 'X15184C'\n",
       "76. 'X1811G'\n",
       "77. 'X499A'\n",
       "78. 'X16362C'\n",
       "79. 'X13368A'\n",
       "80. 'X15452A'\n",
       "81. 'X477C'\n",
       "82. 'X8118A'\n",
       "83. 'X16356C'\n",
       "84. 'X11204C'\n",
       "85. 'X14861A'\n",
       "86. 'X930A'\n",
       "87. 'X15789T'\n",
       "88. 'X8352A'\n",
       "89. 'X10646A'\n",
       "90. 'X4248C'\n",
       "91. 'X16126C'\n",
       "92. 'X6456A'\n",
       "93. 'X8697A'\n",
       "94. 'X16327T'\n",
       "95. 'X16325C'\n",
       "96. 'X5496G'\n",
       "97. 'X4820T'\n",
       "98. 'X16304C'\n",
       "99. 'X709A'\n",
       "100. 'X10398G'\n",
       "101. 'X15122G'\n",
       "102. 'X6043A'\n",
       "103. 'X5585T'\n",
       "104. 'X16051G'\n",
       "105. 'X15487T'\n",
       "106. 'X10463C'\n",
       "107. 'X16294T'\n",
       "108. 'X9899C'\n",
       "109. 'X16296T'\n",
       "110. 'X15924G'\n",
       "111. 'X11251G'\n",
       "112. 'X16223T'\n",
       "113. 'X16298C'\n",
       "114. 'X13068G'\n",
       "115. 'X3655A'\n",
       "116. 'X15928A'\n",
       "117. 'X4806A'\n",
       "118. 'X1847A'\n",
       "119. 'X11382A'\n",
       "120. 'X195C'\n",
       "121. 'X7849T'\n",
       "122. 'X8276A'\n",
       "123. 'X3296A'\n",
       "124. 'X150T'\n",
       "125. 'X10571T'\n",
       "126. 'X13094A'\n",
       "127. 'X9590T'\n",
       "128. 'X983T'\n",
       "129. 'X15235C'\n",
       "130. 'X4100A'\n",
       "131. 'X62A'\n",
       "132. 'X15821A'\n",
       "133. 'X16150T'\n",
       "134. 'X8908A'\n",
       "135. 'X7579C'\n",
       "136. 'X16220C'\n",
       "137. 'X12283T'\n",
       "138. 'X12723C'\n",
       "139. 'X3554A'\n",
       "140. 'X1551T'\n",
       "141. 'X302C'\n",
       "142. 'X10302T'\n",
       "143. 'X9640T'\n",
       "144. 'X8609A'\n",
       "145. 'X249T'\n",
       "146. 'X14614T'\n",
       "147. 'X13436A'\n",
       "148. 'X513A'\n",
       "149. 'X6371A'\n",
       "150. 'X13619A'\n",
       "151. 'X16512A'\n",
       "152. 'X3735T'\n",
       "153. 'X5214A'\n",
       "154. 'X5337A'\n",
       "155. 'X4631T'\n",
       "156. 'X16387G'\n",
       "157. 'X478C'\n",
       "158. 'X13305T'\n",
       "159. 'X11137C'\n",
       "160. 'X6207A'\n",
       "161. 'X8926T'\n",
       "162. 'X1192A'\n",
       "163. 'X6797T'\n",
       "164. 'X13443A'\n",
       "165. 'X14962T'\n",
       "166. 'X6364A'\n",
       "167. 'X2723T'\n",
       "168. 'X2694T'\n",
       "169. 'X4972A'\n",
       "170. 'X12944A'\n",
       "171. 'X13339A'\n",
       "172. 'X14991A'\n",
       "173. 'X2653A'\n",
       "174. 'X13169C'\n",
       "175. 'X5357C'\n",
       "176. 'X13850T'\n",
       "177. 'X6142T'\n",
       "178. 'X6532C'\n",
       "179. 'X13246A'\n",
       "180. 'X3402T'\n",
       "181. 'X7032A'\n",
       "182. 'X8285A'\n",
       "183. 'X2757G'\n",
       "184. 'X9476T'\n",
       "185. 'X5273T'\n",
       "186. 'X12079T'\n",
       "187. 'X3673C'\n",
       "188. 'X8632C'\n",
       "189. 'X6891T'\n",
       "190. 'X5863G'\n",
       "191. 'X1471T'\n",
       "192. 'X1082G'\n",
       "193. 'X1334A'\n",
       "194. 'X9270A'\n",
       "195. 'X16227T'\n",
       "196. 'X12790A'\n",
       "197. 'X6431G'\n",
       "198. 'X6293C'\n",
       "199. 'X7218T'\n",
       "200. 'X769T'\n",
       "201. 'X7589A'\n",
       "202. 'X3599A'\n",
       "203. 'X10734C'\n",
       "204. 'X6961C'\n",
       "205. 'X6470C'\n",
       "206. 'X955T'\n",
       "207. 'X6904C'\n",
       "208. 'X3590A'\n",
       "209. 'X4855A'\n",
       "210. 'X9023T'\n",
       "211. 'X3003G'\n",
       "212. 'X3514A'\n",
       "213. 'X515G'\n",
       "\n",
       "\n"
      ],
      "text/plain": [
       "  [1] \"X11838A\" \"X2514A\"  \"X7639T\"  \"X318A\"   \"X9173A\"  \"X14318C\" \"X13263G\"\n",
       "  [8] \"X7775A\"  \"X11719A\" \"X2706G\"  \"X8701G\"  \"X7196A\"  \"X14783C\" \"X12297C\"\n",
       " [15] \"X3552A\"  \"X7028T\"  \"X3010A\"  \"X4646C\"  \"X10873C\" \"X11914A\" \"X14766T\"\n",
       " [22] \"X4715G\"  \"X8642G\"  \"X7697A\"  \"X12308G\" \"X2291T\"  \"X8584A\"  \"X11467G\"\n",
       " [29] \"X15301A\" \"X5252A\"  \"X1040C\"  \"X3144G\"  \"X523C\"   \"X15043A\" \"X5999C\" \n",
       " [36] \"X14620T\" \"X73G\"    \"X6047G\"  \"X11339C\" \"X10400T\" \"X10516A\" \"X11332T\"\n",
       " [43] \"X7705C\"  \"X3820A\"  \"X489C\"   \"X4837A\"  \"X12372A\" \"X8770T\"  \"X1949A\" \n",
       " [50] \"X4117C\"  \"X3672G\"  \"X14905A\" \"X10559G\" \"X3630A\"  \"X5147A\"  \"X13108A\"\n",
       " [57] \"X15693C\" \"X12705T\" \"X14233G\" \"X1199T\"  \"X15607G\" \"X1888A\"  \"X11812G\"\n",
       " [64] \"X2083C\"  \"X2875G\"  \"X4216C\"  \"X9087A\"  \"X16519C\" \"X290T\"   \"X5580C\" \n",
       " [71] \"X9545G\"  \"X9540C\"  \"X4917G\"  \"X7689A\"  \"X15184C\" \"X1811G\"  \"X499A\"  \n",
       " [78] \"X16362C\" \"X13368A\" \"X15452A\" \"X477C\"   \"X8118A\"  \"X16356C\" \"X11204C\"\n",
       " [85] \"X14861A\" \"X930A\"   \"X15789T\" \"X8352A\"  \"X10646A\" \"X4248C\"  \"X16126C\"\n",
       " [92] \"X6456A\"  \"X8697A\"  \"X16327T\" \"X16325C\" \"X5496G\"  \"X4820T\"  \"X16304C\"\n",
       " [99] \"X709A\"   \"X10398G\" \"X15122G\" \"X6043A\"  \"X5585T\"  \"X16051G\" \"X15487T\"\n",
       "[106] \"X10463C\" \"X16294T\" \"X9899C\"  \"X16296T\" \"X15924G\" \"X11251G\" \"X16223T\"\n",
       "[113] \"X16298C\" \"X13068G\" \"X3655A\"  \"X15928A\" \"X4806A\"  \"X1847A\"  \"X11382A\"\n",
       "[120] \"X195C\"   \"X7849T\"  \"X8276A\"  \"X3296A\"  \"X150T\"   \"X10571T\" \"X13094A\"\n",
       "[127] \"X9590T\"  \"X983T\"   \"X15235C\" \"X4100A\"  \"X62A\"    \"X15821A\" \"X16150T\"\n",
       "[134] \"X8908A\"  \"X7579C\"  \"X16220C\" \"X12283T\" \"X12723C\" \"X3554A\"  \"X1551T\" \n",
       "[141] \"X302C\"   \"X10302T\" \"X9640T\"  \"X8609A\"  \"X249T\"   \"X14614T\" \"X13436A\"\n",
       "[148] \"X513A\"   \"X6371A\"  \"X13619A\" \"X16512A\" \"X3735T\"  \"X5214A\"  \"X5337A\" \n",
       "[155] \"X4631T\"  \"X16387G\" \"X478C\"   \"X13305T\" \"X11137C\" \"X6207A\"  \"X8926T\" \n",
       "[162] \"X1192A\"  \"X6797T\"  \"X13443A\" \"X14962T\" \"X6364A\"  \"X2723T\"  \"X2694T\" \n",
       "[169] \"X4972A\"  \"X12944A\" \"X13339A\" \"X14991A\" \"X2653A\"  \"X13169C\" \"X5357C\" \n",
       "[176] \"X13850T\" \"X6142T\"  \"X6532C\"  \"X13246A\" \"X3402T\"  \"X7032A\"  \"X8285A\" \n",
       "[183] \"X2757G\"  \"X9476T\"  \"X5273T\"  \"X12079T\" \"X3673C\"  \"X8632C\"  \"X6891T\" \n",
       "[190] \"X5863G\"  \"X1471T\"  \"X1082G\"  \"X1334A\"  \"X9270A\"  \"X16227T\" \"X12790A\"\n",
       "[197] \"X6431G\"  \"X6293C\"  \"X7218T\"  \"X769T\"   \"X7589A\"  \"X3599A\"  \"X10734C\"\n",
       "[204] \"X6961C\"  \"X6470C\"  \"X955T\"   \"X6904C\"  \"X3590A\"  \"X4855A\"  \"X9023T\" \n",
       "[211] \"X3003G\"  \"X3514A\"  \"X515G\"  "
      ]
     },
     "metadata": {},
     "output_type": "display_data"
    }
   ],
   "source": [
    "mt.vars <- colnames(cells_meta)\n",
    "mt.vars"
   ]
  },
  {
   "cell_type": "code",
   "execution_count": 15,
   "id": "f0b1708a",
   "metadata": {},
   "outputs": [
    {
     "data": {
      "text/html": [
       "<table class=\"dataframe\">\n",
       "<caption>A data.frame: 4283 × 253</caption>\n",
       "<thead>\n",
       "\t<tr><th></th><th scope=col>orig.ident</th><th scope=col>nCount_ATAC</th><th scope=col>nFeature_ATAC</th><th scope=col>total</th><th scope=col>duplicate</th><th scope=col>chimeric</th><th scope=col>unmapped</th><th scope=col>lowmapq</th><th scope=col>mitochondrial</th><th scope=col>passed_filters</th><th scope=col>⋯</th><th scope=col>X6961C</th><th scope=col>X6470C</th><th scope=col>X955T</th><th scope=col>X6904C</th><th scope=col>X3590A</th><th scope=col>X4855A</th><th scope=col>X9023T</th><th scope=col>X3003G</th><th scope=col>X3514A</th><th scope=col>X515G</th></tr>\n",
       "\t<tr><th></th><th scope=col>&lt;chr&gt;</th><th scope=col>&lt;dbl&gt;</th><th scope=col>&lt;int&gt;</th><th scope=col>&lt;dbl&gt;</th><th scope=col>&lt;dbl&gt;</th><th scope=col>&lt;dbl&gt;</th><th scope=col>&lt;dbl&gt;</th><th scope=col>&lt;dbl&gt;</th><th scope=col>&lt;dbl&gt;</th><th scope=col>&lt;dbl&gt;</th><th scope=col>⋯</th><th scope=col>&lt;int&gt;</th><th scope=col>&lt;int&gt;</th><th scope=col>&lt;int&gt;</th><th scope=col>&lt;int&gt;</th><th scope=col>&lt;int&gt;</th><th scope=col>&lt;int&gt;</th><th scope=col>&lt;int&gt;</th><th scope=col>&lt;int&gt;</th><th scope=col>&lt;int&gt;</th><th scope=col>&lt;int&gt;</th></tr>\n",
       "</thead>\n",
       "<tbody>\n",
       "\t<tr><th scope=row>Input_AAACGAAAGGAAACTT-1</th><td>Input</td><td>2831</td><td>2831</td><td>49701</td><td> 5002</td><td>164</td><td> 92</td><td>1138</td><td>37812</td><td> 5493</td><td>⋯</td><td>0</td><td>0</td><td>0</td><td>0</td><td>0</td><td>0</td><td>0</td><td>0</td><td>0</td><td>0</td></tr>\n",
       "\t<tr><th scope=row>Input_AAACGAAGTCCAAGAG-1</th><td>Input</td><td>4565</td><td>4565</td><td>62869</td><td> 9096</td><td>249</td><td>139</td><td>1902</td><td>42086</td><td> 9397</td><td>⋯</td><td>0</td><td>0</td><td>0</td><td>0</td><td>0</td><td>0</td><td>0</td><td>0</td><td>0</td><td>0</td></tr>\n",
       "\t<tr><th scope=row>Input_AAACGAAGTCCGAGCT-1</th><td>Input</td><td>7229</td><td>7229</td><td>60574</td><td>11583</td><td>352</td><td>141</td><td>2087</td><td>31767</td><td>14644</td><td>⋯</td><td>0</td><td>0</td><td>0</td><td>0</td><td>0</td><td>0</td><td>0</td><td>0</td><td>0</td><td>0</td></tr>\n",
       "\t<tr><th scope=row>Input_AAACGAAGTTTGAAGA-1</th><td>Input</td><td>7001</td><td>7001</td><td>68829</td><td>12010</td><td>432</td><td>163</td><td>2209</td><td>39985</td><td>14030</td><td>⋯</td><td>0</td><td>0</td><td>0</td><td>0</td><td>0</td><td>0</td><td>0</td><td>0</td><td>0</td><td>0</td></tr>\n",
       "\t<tr><th scope=row>Input_AAACGAATCCCAGTAA-1</th><td>Input</td><td>2103</td><td>2103</td><td>30056</td><td> 2764</td><td>124</td><td> 63</td><td> 832</td><td>22385</td><td> 3888</td><td>⋯</td><td>0</td><td>0</td><td>0</td><td>0</td><td>0</td><td>0</td><td>0</td><td>0</td><td>0</td><td>0</td></tr>\n",
       "\t<tr><th scope=row>Input_AAACGAATCCGGGCAT-1</th><td>Input</td><td>3882</td><td>3882</td><td>41493</td><td> 5928</td><td>189</td><td>120</td><td> 951</td><td>26859</td><td> 7446</td><td>⋯</td><td>0</td><td>0</td><td>0</td><td>0</td><td>0</td><td>0</td><td>0</td><td>0</td><td>0</td><td>0</td></tr>\n",
       "\t<tr><th scope=row>Input_AAACGAATCCTGAAAC-1</th><td>Input</td><td>3683</td><td>3683</td><td>45177</td><td> 5990</td><td>214</td><td> 84</td><td>1332</td><td>31063</td><td> 6494</td><td>⋯</td><td>0</td><td>0</td><td>0</td><td>0</td><td>0</td><td>0</td><td>0</td><td>0</td><td>0</td><td>0</td></tr>\n",
       "\t<tr><th scope=row>Input_AAACGAATCGATGTGT-1</th><td>Input</td><td>6282</td><td>6282</td><td>51495</td><td>10502</td><td>267</td><td>133</td><td>2306</td><td>27006</td><td>11281</td><td>⋯</td><td>0</td><td>0</td><td>0</td><td>0</td><td>0</td><td>0</td><td>0</td><td>0</td><td>0</td><td>0</td></tr>\n",
       "\t<tr><th scope=row>Input_AAACGAATCGCCAGAC-1</th><td>Input</td><td>2037</td><td>2037</td><td>22741</td><td> 2223</td><td> 77</td><td> 28</td><td> 556</td><td>16614</td><td> 3243</td><td>⋯</td><td>0</td><td>0</td><td>0</td><td>0</td><td>0</td><td>0</td><td>0</td><td>0</td><td>0</td><td>0</td></tr>\n",
       "\t<tr><th scope=row>Input_AAACGAATCGTGAACT-1</th><td>Input</td><td>5996</td><td>5996</td><td>66340</td><td>10716</td><td>362</td><td>165</td><td>2305</td><td>39978</td><td>12814</td><td>⋯</td><td>0</td><td>0</td><td>0</td><td>0</td><td>0</td><td>0</td><td>0</td><td>0</td><td>0</td><td>0</td></tr>\n",
       "\t<tr><th scope=row>Input_AAACTCGAGGAATGGA-1</th><td>Input</td><td>4058</td><td>4058</td><td>43080</td><td> 7434</td><td>225</td><td>119</td><td>1596</td><td>26018</td><td> 7688</td><td>⋯</td><td>0</td><td>0</td><td>0</td><td>0</td><td>0</td><td>0</td><td>0</td><td>0</td><td>0</td><td>0</td></tr>\n",
       "\t<tr><th scope=row>Input_AAACTCGAGGTACACG-1</th><td>Input</td><td>4901</td><td>4901</td><td>49202</td><td> 9164</td><td>265</td><td>116</td><td>1810</td><td>27219</td><td>10628</td><td>⋯</td><td>0</td><td>0</td><td>0</td><td>0</td><td>0</td><td>0</td><td>0</td><td>0</td><td>0</td><td>0</td></tr>\n",
       "\t<tr><th scope=row>Input_AAACTCGCAAGACACG-1</th><td>Input</td><td>3569</td><td>3569</td><td>45793</td><td> 6391</td><td>211</td><td>100</td><td>1554</td><td>30248</td><td> 7289</td><td>⋯</td><td>0</td><td>0</td><td>0</td><td>0</td><td>0</td><td>0</td><td>0</td><td>0</td><td>0</td><td>0</td></tr>\n",
       "\t<tr><th scope=row>Input_AAACTCGCACTGAAGG-1</th><td>Input</td><td>4338</td><td>4338</td><td>42093</td><td> 7883</td><td>210</td><td>134</td><td>1668</td><td>23925</td><td> 8273</td><td>⋯</td><td>0</td><td>0</td><td>0</td><td>0</td><td>0</td><td>0</td><td>0</td><td>0</td><td>0</td><td>0</td></tr>\n",
       "\t<tr><th scope=row>Input_AAACTCGCACTGTTAG-1</th><td>Input</td><td>1316</td><td>1316</td><td>62076</td><td> 2215</td><td> 76</td><td>153</td><td>1953</td><td>55119</td><td> 2560</td><td>⋯</td><td>0</td><td>0</td><td>0</td><td>0</td><td>0</td><td>0</td><td>0</td><td>0</td><td>0</td><td>0</td></tr>\n",
       "\t<tr><th scope=row>Input_AAACTCGGTTGCCGCA-1</th><td>Input</td><td>2131</td><td>2131</td><td>19962</td><td> 2722</td><td>129</td><td> 33</td><td> 484</td><td>12707</td><td> 3887</td><td>⋯</td><td>0</td><td>0</td><td>0</td><td>0</td><td>0</td><td>0</td><td>0</td><td>0</td><td>0</td><td>0</td></tr>\n",
       "\t<tr><th scope=row>Input_AAACTCGTCGTGCTGG-1</th><td>Input</td><td>2613</td><td>2613</td><td>31455</td><td> 5274</td><td>166</td><td>107</td><td>1192</td><td>19425</td><td> 5291</td><td>⋯</td><td>0</td><td>0</td><td>0</td><td>0</td><td>0</td><td>0</td><td>0</td><td>0</td><td>0</td><td>0</td></tr>\n",
       "\t<tr><th scope=row>Input_AAACTCGTCTGTAGAC-1</th><td>Input</td><td>3380</td><td>3380</td><td>35798</td><td> 6861</td><td>180</td><td> 87</td><td>1491</td><td>20486</td><td> 6693</td><td>⋯</td><td>0</td><td>0</td><td>0</td><td>0</td><td>0</td><td>0</td><td>0</td><td>0</td><td>0</td><td>0</td></tr>\n",
       "\t<tr><th scope=row>Input_AAACTGCAGGATGTAT-1</th><td>Input</td><td>3421</td><td>3421</td><td>34970</td><td> 5801</td><td>165</td><td> 87</td><td> 972</td><td>22347</td><td> 5598</td><td>⋯</td><td>0</td><td>0</td><td>0</td><td>0</td><td>0</td><td>0</td><td>0</td><td>0</td><td>0</td><td>0</td></tr>\n",
       "\t<tr><th scope=row>Input_AAACTGCAGTACAGAT-1</th><td>Input</td><td>4886</td><td>4886</td><td>46656</td><td> 8836</td><td>252</td><td> 96</td><td>1653</td><td>26653</td><td> 9166</td><td>⋯</td><td>0</td><td>0</td><td>0</td><td>0</td><td>0</td><td>0</td><td>0</td><td>0</td><td>0</td><td>0</td></tr>\n",
       "\t<tr><th scope=row>Input_AAACTGCAGTCTCTAG-1</th><td>Input</td><td>3129</td><td>3129</td><td>31794</td><td> 6835</td><td>210</td><td> 90</td><td>1208</td><td>13249</td><td>10202</td><td>⋯</td><td>0</td><td>0</td><td>0</td><td>0</td><td>0</td><td>0</td><td>0</td><td>0</td><td>0</td><td>0</td></tr>\n",
       "\t<tr><th scope=row>Input_AAACTGCAGTGAAACT-1</th><td>Input</td><td>1927</td><td>1927</td><td>23564</td><td> 3457</td><td>106</td><td> 65</td><td> 682</td><td>15980</td><td> 3274</td><td>⋯</td><td>0</td><td>0</td><td>0</td><td>0</td><td>0</td><td>0</td><td>0</td><td>0</td><td>0</td><td>0</td></tr>\n",
       "\t<tr><th scope=row>Input_AAACTGCCAATTGGCT-1</th><td>Input</td><td>3152</td><td>3152</td><td>44690</td><td> 4475</td><td>154</td><td> 81</td><td>1136</td><td>33428</td><td> 5416</td><td>⋯</td><td>0</td><td>0</td><td>0</td><td>0</td><td>0</td><td>0</td><td>0</td><td>0</td><td>0</td><td>0</td></tr>\n",
       "\t<tr><th scope=row>Input_AAACTGCCACGTACAT-1</th><td>Input</td><td>2403</td><td>2403</td><td>48804</td><td> 5232</td><td>212</td><td> 82</td><td>1111</td><td>37077</td><td> 5090</td><td>⋯</td><td>0</td><td>0</td><td>0</td><td>0</td><td>0</td><td>0</td><td>0</td><td>0</td><td>0</td><td>0</td></tr>\n",
       "\t<tr><th scope=row>Input_AAACTGCTCAGTGTGT-1</th><td>Input</td><td>3417</td><td>3417</td><td>52385</td><td> 6032</td><td>210</td><td>112</td><td>1521</td><td>36924</td><td> 7586</td><td>⋯</td><td>0</td><td>0</td><td>0</td><td>0</td><td>0</td><td>0</td><td>0</td><td>0</td><td>0</td><td>0</td></tr>\n",
       "\t<tr><th scope=row>Input_AAACTGCTCCTCCCAA-1</th><td>Input</td><td>4781</td><td>4781</td><td>38006</td><td> 8486</td><td>256</td><td>107</td><td>2210</td><td>16894</td><td>10053</td><td>⋯</td><td>0</td><td>0</td><td>0</td><td>0</td><td>0</td><td>0</td><td>0</td><td>0</td><td>0</td><td>0</td></tr>\n",
       "\t<tr><th scope=row>Input_AAACTGCTCGAGTTAC-1</th><td>Input</td><td>4892</td><td>4892</td><td>59973</td><td> 8157</td><td>266</td><td>123</td><td>1658</td><td>40313</td><td> 9456</td><td>⋯</td><td>0</td><td>0</td><td>0</td><td>0</td><td>0</td><td>0</td><td>0</td><td>0</td><td>0</td><td>0</td></tr>\n",
       "\t<tr><th scope=row>Input_AAACTGCTCTCTCAAT-1</th><td>Input</td><td>4076</td><td>4076</td><td>38171</td><td> 7336</td><td>220</td><td> 70</td><td>1647</td><td>20515</td><td> 8383</td><td>⋯</td><td>0</td><td>0</td><td>0</td><td>0</td><td>0</td><td>0</td><td>0</td><td>0</td><td>0</td><td>0</td></tr>\n",
       "\t<tr><th scope=row>Input_AAAGATGAGAGGTGGG-1</th><td>Input</td><td>5142</td><td>5142</td><td>43573</td><td> 7187</td><td>291</td><td>140</td><td>1727</td><td>25317</td><td> 8911</td><td>⋯</td><td>0</td><td>0</td><td>0</td><td>0</td><td>0</td><td>0</td><td>0</td><td>0</td><td>0</td><td>0</td></tr>\n",
       "\t<tr><th scope=row>Input_AAAGATGCAACTCAAC-1</th><td>Input</td><td>3602</td><td>3602</td><td>53736</td><td> 6718</td><td>259</td><td> 73</td><td>1271</td><td>37892</td><td> 7523</td><td>⋯</td><td>0</td><td>0</td><td>0</td><td>0</td><td>0</td><td>0</td><td>0</td><td>0</td><td>0</td><td>0</td></tr>\n",
       "\t<tr><th scope=row>⋮</th><td>⋮</td><td>⋮</td><td>⋮</td><td>⋮</td><td>⋮</td><td>⋮</td><td>⋮</td><td>⋮</td><td>⋮</td><td>⋮</td><td>⋱</td><td>⋮</td><td>⋮</td><td>⋮</td><td>⋮</td><td>⋮</td><td>⋮</td><td>⋮</td><td>⋮</td><td>⋮</td><td>⋮</td></tr>\n",
       "\t<tr><th scope=row>Flt3l_TGTTAGGTCGGGAATG-1</th><td>Flt3l</td><td> 6297</td><td> 6297</td><td>166060</td><td>41807</td><td> 760</td><td> 724</td><td>6515</td><td>104516</td><td>11738</td><td>⋯</td><td>0</td><td>0</td><td>0</td><td>0</td><td>0</td><td>0</td><td>0</td><td>0</td><td>0</td><td>0</td></tr>\n",
       "\t<tr><th scope=row>Flt3l_TTAACGGGTACGGATG-1</th><td>Flt3l</td><td> 8923</td><td> 8923</td><td>179880</td><td>57630</td><td>1112</td><td>1327</td><td>6807</td><td> 97410</td><td>15594</td><td>⋯</td><td>0</td><td>0</td><td>0</td><td>0</td><td>0</td><td>0</td><td>0</td><td>0</td><td>0</td><td>0</td></tr>\n",
       "\t<tr><th scope=row>Flt3l_TTAACGGGTGCGTTTA-1</th><td>Flt3l</td><td>10535</td><td>10535</td><td>163216</td><td>39800</td><td> 932</td><td> 663</td><td>4013</td><td>101714</td><td>16094</td><td>⋯</td><td>0</td><td>0</td><td>0</td><td>0</td><td>0</td><td>0</td><td>0</td><td>0</td><td>0</td><td>0</td></tr>\n",
       "\t<tr><th scope=row>Flt3l_TTACCCGGTAGAAAGG-1</th><td>Flt3l</td><td>10272</td><td>10272</td><td>241860</td><td>67685</td><td>1089</td><td> 918</td><td>7731</td><td>146407</td><td>18030</td><td>⋯</td><td>0</td><td>0</td><td>0</td><td>0</td><td>0</td><td>0</td><td>0</td><td>0</td><td>0</td><td>0</td></tr>\n",
       "\t<tr><th scope=row>Flt3l_TTACCGCCATGGATGG-1</th><td>Flt3l</td><td>11638</td><td>11638</td><td>253828</td><td>77689</td><td>1254</td><td>1367</td><td>8672</td><td>143722</td><td>21124</td><td>⋯</td><td>0</td><td>0</td><td>0</td><td>0</td><td>0</td><td>0</td><td>0</td><td>0</td><td>0</td><td>0</td></tr>\n",
       "\t<tr><th scope=row>Flt3l_TTACGGATCAGAACGG-1</th><td>Flt3l</td><td> 8818</td><td> 8818</td><td>208472</td><td>54285</td><td>1102</td><td> 850</td><td>6005</td><td>131344</td><td>14886</td><td>⋯</td><td>0</td><td>0</td><td>0</td><td>0</td><td>0</td><td>0</td><td>0</td><td>0</td><td>0</td><td>0</td></tr>\n",
       "\t<tr><th scope=row>Flt3l_TTACTCAGTGAGTAAT-1</th><td>Flt3l</td><td> 8765</td><td> 8765</td><td>209137</td><td>61240</td><td>1108</td><td> 855</td><td>8981</td><td>117953</td><td>19000</td><td>⋯</td><td>0</td><td>0</td><td>0</td><td>0</td><td>0</td><td>0</td><td>0</td><td>0</td><td>0</td><td>0</td></tr>\n",
       "\t<tr><th scope=row>Flt3l_TTACTCAGTGCCAAGA-1</th><td>Flt3l</td><td> 7234</td><td> 7234</td><td>167978</td><td>29304</td><td> 653</td><td> 585</td><td>2482</td><td>124580</td><td>10374</td><td>⋯</td><td>0</td><td>0</td><td>0</td><td>0</td><td>0</td><td>0</td><td>0</td><td>0</td><td>0</td><td>0</td></tr>\n",
       "\t<tr><th scope=row>Flt3l_TTACTCAGTGGACGAT-1</th><td>Flt3l</td><td> 8759</td><td> 8759</td><td>154299</td><td>61441</td><td>1027</td><td> 656</td><td>6368</td><td> 67508</td><td>17299</td><td>⋯</td><td>0</td><td>0</td><td>0</td><td>0</td><td>0</td><td>0</td><td>0</td><td>0</td><td>0</td><td>0</td></tr>\n",
       "\t<tr><th scope=row>Flt3l_TTACTCATCTATCCTA-1</th><td>Flt3l</td><td> 5651</td><td> 5651</td><td>130832</td><td>30108</td><td> 493</td><td> 555</td><td>3831</td><td> 84877</td><td>10968</td><td>⋯</td><td>0</td><td>0</td><td>0</td><td>0</td><td>0</td><td>0</td><td>0</td><td>0</td><td>0</td><td>0</td></tr>\n",
       "\t<tr><th scope=row>Flt3l_TTACTCATCTGATCCC-1</th><td>Flt3l</td><td> 7571</td><td> 7571</td><td>191290</td><td>55103</td><td> 834</td><td> 767</td><td>4744</td><td>117029</td><td>12813</td><td>⋯</td><td>0</td><td>0</td><td>0</td><td>0</td><td>0</td><td>0</td><td>0</td><td>0</td><td>0</td><td>0</td></tr>\n",
       "\t<tr><th scope=row>Flt3l_TTAGCGAGTACGGATG-1</th><td>Flt3l</td><td> 6405</td><td> 6405</td><td>133515</td><td>36234</td><td> 477</td><td> 662</td><td>4202</td><td> 81899</td><td>10041</td><td>⋯</td><td>0</td><td>0</td><td>0</td><td>0</td><td>0</td><td>0</td><td>0</td><td>0</td><td>0</td><td>0</td></tr>\n",
       "\t<tr><th scope=row>Flt3l_TTAGCTTAGGTCGGTA-1</th><td>Flt3l</td><td> 3136</td><td> 3136</td><td> 93867</td><td>12474</td><td> 215</td><td> 406</td><td>1004</td><td> 75577</td><td> 4191</td><td>⋯</td><td>0</td><td>0</td><td>0</td><td>0</td><td>0</td><td>0</td><td>0</td><td>0</td><td>0</td><td>0</td></tr>\n",
       "\t<tr><th scope=row>Flt3l_TTAGCTTCATTAAGGA-1</th><td>Flt3l</td><td> 6527</td><td> 6527</td><td>178830</td><td>43633</td><td> 891</td><td> 750</td><td>5216</td><td>112976</td><td>15364</td><td>⋯</td><td>0</td><td>0</td><td>1</td><td>0</td><td>1</td><td>0</td><td>0</td><td>0</td><td>0</td><td>0</td></tr>\n",
       "\t<tr><th scope=row>Flt3l_TTCAACTAGAGCACTG-1</th><td>Flt3l</td><td> 8146</td><td> 8146</td><td>209209</td><td>54790</td><td>1084</td><td>1043</td><td>5292</td><td>134803</td><td>12197</td><td>⋯</td><td>0</td><td>0</td><td>0</td><td>0</td><td>0</td><td>0</td><td>0</td><td>0</td><td>0</td><td>0</td></tr>\n",
       "\t<tr><th scope=row>Flt3l_TTCAACTGTGCCGGTT-1</th><td>Flt3l</td><td>10055</td><td>10055</td><td>169763</td><td>46174</td><td> 986</td><td> 655</td><td>6492</td><td> 97864</td><td>17592</td><td>⋯</td><td>0</td><td>0</td><td>0</td><td>0</td><td>0</td><td>0</td><td>0</td><td>0</td><td>0</td><td>0</td></tr>\n",
       "\t<tr><th scope=row>Flt3l_TTCATTGAGGAGGCGA-1</th><td>Flt3l</td><td> 2725</td><td> 2725</td><td> 83505</td><td>17655</td><td> 409</td><td> 579</td><td>1575</td><td> 59447</td><td> 3840</td><td>⋯</td><td>0</td><td>0</td><td>0</td><td>0</td><td>0</td><td>0</td><td>0</td><td>0</td><td>0</td><td>0</td></tr>\n",
       "\t<tr><th scope=row>Flt3l_TTCATTGAGTCCAGAG-1</th><td>Flt3l</td><td>10263</td><td>10263</td><td>202155</td><td>65245</td><td>1112</td><td> 878</td><td>7760</td><td>108756</td><td>18404</td><td>⋯</td><td>0</td><td>0</td><td>0</td><td>0</td><td>0</td><td>0</td><td>0</td><td>0</td><td>0</td><td>0</td></tr>\n",
       "\t<tr><th scope=row>Flt3l_TTCATTGTCTCTATCA-1</th><td>Flt3l</td><td> 8172</td><td> 8172</td><td>200733</td><td>48014</td><td> 928</td><td> 686</td><td>6276</td><td>132327</td><td>12502</td><td>⋯</td><td>0</td><td>0</td><td>0</td><td>0</td><td>0</td><td>0</td><td>0</td><td>0</td><td>0</td><td>0</td></tr>\n",
       "\t<tr><th scope=row>Flt3l_TTCGATTCACGCGCAT-1</th><td>Flt3l</td><td> 8888</td><td> 8888</td><td>216371</td><td>52027</td><td>1111</td><td>1049</td><td>9877</td><td>136753</td><td>15554</td><td>⋯</td><td>0</td><td>0</td><td>0</td><td>0</td><td>0</td><td>0</td><td>0</td><td>0</td><td>0</td><td>0</td></tr>\n",
       "\t<tr><th scope=row>Flt3l_TTCGGTCAGGGAGTTC-1</th><td>Flt3l</td><td> 7926</td><td> 7926</td><td>127532</td><td>34142</td><td> 748</td><td> 518</td><td>4440</td><td> 73746</td><td>13938</td><td>⋯</td><td>0</td><td>0</td><td>0</td><td>0</td><td>0</td><td>0</td><td>0</td><td>0</td><td>0</td><td>0</td></tr>\n",
       "\t<tr><th scope=row>Flt3l_TTCGTTAGTATTCTTC-1</th><td>Flt3l</td><td> 9858</td><td> 9858</td><td>197385</td><td>48896</td><td>1022</td><td> 623</td><td>4299</td><td>127448</td><td>15097</td><td>⋯</td><td>0</td><td>0</td><td>0</td><td>0</td><td>0</td><td>0</td><td>0</td><td>0</td><td>0</td><td>0</td></tr>\n",
       "\t<tr><th scope=row>Flt3l_TTGCCCAGTTATAGAG-1</th><td>Flt3l</td><td> 9098</td><td> 9098</td><td>174558</td><td>48849</td><td> 873</td><td> 698</td><td>5868</td><td>102852</td><td>15418</td><td>⋯</td><td>0</td><td>0</td><td>0</td><td>0</td><td>0</td><td>0</td><td>0</td><td>0</td><td>0</td><td>0</td></tr>\n",
       "\t<tr><th scope=row>Flt3l_TTGCGAAAGACCGCAA-1</th><td>Flt3l</td><td> 6054</td><td> 6054</td><td>227358</td><td>30444</td><td> 536</td><td> 714</td><td>2617</td><td>184641</td><td> 8406</td><td>⋯</td><td>0</td><td>0</td><td>0</td><td>0</td><td>0</td><td>0</td><td>0</td><td>0</td><td>0</td><td>0</td></tr>\n",
       "\t<tr><th scope=row>Flt3l_TTGCGGGAGCCATTCA-1</th><td>Flt3l</td><td> 7739</td><td> 7739</td><td>209590</td><td>40540</td><td> 781</td><td> 804</td><td>3688</td><td>152522</td><td>11255</td><td>⋯</td><td>0</td><td>0</td><td>0</td><td>0</td><td>1</td><td>0</td><td>0</td><td>0</td><td>0</td><td>0</td></tr>\n",
       "\t<tr><th scope=row>Flt3l_TTGCGGGAGGAGTCTG-1</th><td>Flt3l</td><td> 5971</td><td> 5971</td><td>174156</td><td>34892</td><td> 721</td><td> 920</td><td>3749</td><td>124614</td><td> 9260</td><td>⋯</td><td>0</td><td>0</td><td>0</td><td>0</td><td>0</td><td>0</td><td>0</td><td>0</td><td>0</td><td>0</td></tr>\n",
       "\t<tr><th scope=row>Flt3l_TTTACGTCAAGCCAGA-1</th><td>Flt3l</td><td>11448</td><td>11448</td><td>182315</td><td>52255</td><td> 868</td><td> 810</td><td>6497</td><td>102392</td><td>19493</td><td>⋯</td><td>0</td><td>0</td><td>0</td><td>0</td><td>0</td><td>0</td><td>0</td><td>0</td><td>0</td><td>0</td></tr>\n",
       "\t<tr><th scope=row>Flt3l_TTTGAGGAGTCTCGAT-1</th><td>Flt3l</td><td>10815</td><td>10815</td><td>216547</td><td>60590</td><td>1237</td><td> 834</td><td>8682</td><td>126811</td><td>18393</td><td>⋯</td><td>0</td><td>0</td><td>0</td><td>0</td><td>0</td><td>0</td><td>0</td><td>0</td><td>0</td><td>0</td></tr>\n",
       "\t<tr><th scope=row>Flt3l_TTTGAGGGTTGCAGAG-1</th><td>Flt3l</td><td>11111</td><td>11111</td><td>182438</td><td>70126</td><td>1239</td><td> 878</td><td>9648</td><td> 79591</td><td>20956</td><td>⋯</td><td>0</td><td>0</td><td>0</td><td>0</td><td>0</td><td>0</td><td>0</td><td>0</td><td>0</td><td>0</td></tr>\n",
       "\t<tr><th scope=row>Flt3l_TTTGTGTCAAATGCTC-1</th><td>Flt3l</td><td> 8076</td><td> 8076</td><td>136714</td><td>34051</td><td> 621</td><td> 565</td><td>5304</td><td> 81633</td><td>14540</td><td>⋯</td><td>0</td><td>0</td><td>0</td><td>0</td><td>0</td><td>0</td><td>0</td><td>0</td><td>0</td><td>0</td></tr>\n",
       "</tbody>\n",
       "</table>\n"
      ],
      "text/latex": [
       "A data.frame: 4283 × 253\n",
       "\\begin{tabular}{r|lllllllllllllllllllll}\n",
       "  & orig.ident & nCount\\_ATAC & nFeature\\_ATAC & total & duplicate & chimeric & unmapped & lowmapq & mitochondrial & passed\\_filters & ⋯ & X6961C & X6470C & X955T & X6904C & X3590A & X4855A & X9023T & X3003G & X3514A & X515G\\\\\n",
       "  & <chr> & <dbl> & <int> & <dbl> & <dbl> & <dbl> & <dbl> & <dbl> & <dbl> & <dbl> & ⋯ & <int> & <int> & <int> & <int> & <int> & <int> & <int> & <int> & <int> & <int>\\\\\n",
       "\\hline\n",
       "\tInput\\_AAACGAAAGGAAACTT-1 & Input & 2831 & 2831 & 49701 &  5002 & 164 &  92 & 1138 & 37812 &  5493 & ⋯ & 0 & 0 & 0 & 0 & 0 & 0 & 0 & 0 & 0 & 0\\\\\n",
       "\tInput\\_AAACGAAGTCCAAGAG-1 & Input & 4565 & 4565 & 62869 &  9096 & 249 & 139 & 1902 & 42086 &  9397 & ⋯ & 0 & 0 & 0 & 0 & 0 & 0 & 0 & 0 & 0 & 0\\\\\n",
       "\tInput\\_AAACGAAGTCCGAGCT-1 & Input & 7229 & 7229 & 60574 & 11583 & 352 & 141 & 2087 & 31767 & 14644 & ⋯ & 0 & 0 & 0 & 0 & 0 & 0 & 0 & 0 & 0 & 0\\\\\n",
       "\tInput\\_AAACGAAGTTTGAAGA-1 & Input & 7001 & 7001 & 68829 & 12010 & 432 & 163 & 2209 & 39985 & 14030 & ⋯ & 0 & 0 & 0 & 0 & 0 & 0 & 0 & 0 & 0 & 0\\\\\n",
       "\tInput\\_AAACGAATCCCAGTAA-1 & Input & 2103 & 2103 & 30056 &  2764 & 124 &  63 &  832 & 22385 &  3888 & ⋯ & 0 & 0 & 0 & 0 & 0 & 0 & 0 & 0 & 0 & 0\\\\\n",
       "\tInput\\_AAACGAATCCGGGCAT-1 & Input & 3882 & 3882 & 41493 &  5928 & 189 & 120 &  951 & 26859 &  7446 & ⋯ & 0 & 0 & 0 & 0 & 0 & 0 & 0 & 0 & 0 & 0\\\\\n",
       "\tInput\\_AAACGAATCCTGAAAC-1 & Input & 3683 & 3683 & 45177 &  5990 & 214 &  84 & 1332 & 31063 &  6494 & ⋯ & 0 & 0 & 0 & 0 & 0 & 0 & 0 & 0 & 0 & 0\\\\\n",
       "\tInput\\_AAACGAATCGATGTGT-1 & Input & 6282 & 6282 & 51495 & 10502 & 267 & 133 & 2306 & 27006 & 11281 & ⋯ & 0 & 0 & 0 & 0 & 0 & 0 & 0 & 0 & 0 & 0\\\\\n",
       "\tInput\\_AAACGAATCGCCAGAC-1 & Input & 2037 & 2037 & 22741 &  2223 &  77 &  28 &  556 & 16614 &  3243 & ⋯ & 0 & 0 & 0 & 0 & 0 & 0 & 0 & 0 & 0 & 0\\\\\n",
       "\tInput\\_AAACGAATCGTGAACT-1 & Input & 5996 & 5996 & 66340 & 10716 & 362 & 165 & 2305 & 39978 & 12814 & ⋯ & 0 & 0 & 0 & 0 & 0 & 0 & 0 & 0 & 0 & 0\\\\\n",
       "\tInput\\_AAACTCGAGGAATGGA-1 & Input & 4058 & 4058 & 43080 &  7434 & 225 & 119 & 1596 & 26018 &  7688 & ⋯ & 0 & 0 & 0 & 0 & 0 & 0 & 0 & 0 & 0 & 0\\\\\n",
       "\tInput\\_AAACTCGAGGTACACG-1 & Input & 4901 & 4901 & 49202 &  9164 & 265 & 116 & 1810 & 27219 & 10628 & ⋯ & 0 & 0 & 0 & 0 & 0 & 0 & 0 & 0 & 0 & 0\\\\\n",
       "\tInput\\_AAACTCGCAAGACACG-1 & Input & 3569 & 3569 & 45793 &  6391 & 211 & 100 & 1554 & 30248 &  7289 & ⋯ & 0 & 0 & 0 & 0 & 0 & 0 & 0 & 0 & 0 & 0\\\\\n",
       "\tInput\\_AAACTCGCACTGAAGG-1 & Input & 4338 & 4338 & 42093 &  7883 & 210 & 134 & 1668 & 23925 &  8273 & ⋯ & 0 & 0 & 0 & 0 & 0 & 0 & 0 & 0 & 0 & 0\\\\\n",
       "\tInput\\_AAACTCGCACTGTTAG-1 & Input & 1316 & 1316 & 62076 &  2215 &  76 & 153 & 1953 & 55119 &  2560 & ⋯ & 0 & 0 & 0 & 0 & 0 & 0 & 0 & 0 & 0 & 0\\\\\n",
       "\tInput\\_AAACTCGGTTGCCGCA-1 & Input & 2131 & 2131 & 19962 &  2722 & 129 &  33 &  484 & 12707 &  3887 & ⋯ & 0 & 0 & 0 & 0 & 0 & 0 & 0 & 0 & 0 & 0\\\\\n",
       "\tInput\\_AAACTCGTCGTGCTGG-1 & Input & 2613 & 2613 & 31455 &  5274 & 166 & 107 & 1192 & 19425 &  5291 & ⋯ & 0 & 0 & 0 & 0 & 0 & 0 & 0 & 0 & 0 & 0\\\\\n",
       "\tInput\\_AAACTCGTCTGTAGAC-1 & Input & 3380 & 3380 & 35798 &  6861 & 180 &  87 & 1491 & 20486 &  6693 & ⋯ & 0 & 0 & 0 & 0 & 0 & 0 & 0 & 0 & 0 & 0\\\\\n",
       "\tInput\\_AAACTGCAGGATGTAT-1 & Input & 3421 & 3421 & 34970 &  5801 & 165 &  87 &  972 & 22347 &  5598 & ⋯ & 0 & 0 & 0 & 0 & 0 & 0 & 0 & 0 & 0 & 0\\\\\n",
       "\tInput\\_AAACTGCAGTACAGAT-1 & Input & 4886 & 4886 & 46656 &  8836 & 252 &  96 & 1653 & 26653 &  9166 & ⋯ & 0 & 0 & 0 & 0 & 0 & 0 & 0 & 0 & 0 & 0\\\\\n",
       "\tInput\\_AAACTGCAGTCTCTAG-1 & Input & 3129 & 3129 & 31794 &  6835 & 210 &  90 & 1208 & 13249 & 10202 & ⋯ & 0 & 0 & 0 & 0 & 0 & 0 & 0 & 0 & 0 & 0\\\\\n",
       "\tInput\\_AAACTGCAGTGAAACT-1 & Input & 1927 & 1927 & 23564 &  3457 & 106 &  65 &  682 & 15980 &  3274 & ⋯ & 0 & 0 & 0 & 0 & 0 & 0 & 0 & 0 & 0 & 0\\\\\n",
       "\tInput\\_AAACTGCCAATTGGCT-1 & Input & 3152 & 3152 & 44690 &  4475 & 154 &  81 & 1136 & 33428 &  5416 & ⋯ & 0 & 0 & 0 & 0 & 0 & 0 & 0 & 0 & 0 & 0\\\\\n",
       "\tInput\\_AAACTGCCACGTACAT-1 & Input & 2403 & 2403 & 48804 &  5232 & 212 &  82 & 1111 & 37077 &  5090 & ⋯ & 0 & 0 & 0 & 0 & 0 & 0 & 0 & 0 & 0 & 0\\\\\n",
       "\tInput\\_AAACTGCTCAGTGTGT-1 & Input & 3417 & 3417 & 52385 &  6032 & 210 & 112 & 1521 & 36924 &  7586 & ⋯ & 0 & 0 & 0 & 0 & 0 & 0 & 0 & 0 & 0 & 0\\\\\n",
       "\tInput\\_AAACTGCTCCTCCCAA-1 & Input & 4781 & 4781 & 38006 &  8486 & 256 & 107 & 2210 & 16894 & 10053 & ⋯ & 0 & 0 & 0 & 0 & 0 & 0 & 0 & 0 & 0 & 0\\\\\n",
       "\tInput\\_AAACTGCTCGAGTTAC-1 & Input & 4892 & 4892 & 59973 &  8157 & 266 & 123 & 1658 & 40313 &  9456 & ⋯ & 0 & 0 & 0 & 0 & 0 & 0 & 0 & 0 & 0 & 0\\\\\n",
       "\tInput\\_AAACTGCTCTCTCAAT-1 & Input & 4076 & 4076 & 38171 &  7336 & 220 &  70 & 1647 & 20515 &  8383 & ⋯ & 0 & 0 & 0 & 0 & 0 & 0 & 0 & 0 & 0 & 0\\\\\n",
       "\tInput\\_AAAGATGAGAGGTGGG-1 & Input & 5142 & 5142 & 43573 &  7187 & 291 & 140 & 1727 & 25317 &  8911 & ⋯ & 0 & 0 & 0 & 0 & 0 & 0 & 0 & 0 & 0 & 0\\\\\n",
       "\tInput\\_AAAGATGCAACTCAAC-1 & Input & 3602 & 3602 & 53736 &  6718 & 259 &  73 & 1271 & 37892 &  7523 & ⋯ & 0 & 0 & 0 & 0 & 0 & 0 & 0 & 0 & 0 & 0\\\\\n",
       "\t⋮ & ⋮ & ⋮ & ⋮ & ⋮ & ⋮ & ⋮ & ⋮ & ⋮ & ⋮ & ⋮ & ⋱ & ⋮ & ⋮ & ⋮ & ⋮ & ⋮ & ⋮ & ⋮ & ⋮ & ⋮ & ⋮\\\\\n",
       "\tFlt3l\\_TGTTAGGTCGGGAATG-1 & Flt3l &  6297 &  6297 & 166060 & 41807 &  760 &  724 & 6515 & 104516 & 11738 & ⋯ & 0 & 0 & 0 & 0 & 0 & 0 & 0 & 0 & 0 & 0\\\\\n",
       "\tFlt3l\\_TTAACGGGTACGGATG-1 & Flt3l &  8923 &  8923 & 179880 & 57630 & 1112 & 1327 & 6807 &  97410 & 15594 & ⋯ & 0 & 0 & 0 & 0 & 0 & 0 & 0 & 0 & 0 & 0\\\\\n",
       "\tFlt3l\\_TTAACGGGTGCGTTTA-1 & Flt3l & 10535 & 10535 & 163216 & 39800 &  932 &  663 & 4013 & 101714 & 16094 & ⋯ & 0 & 0 & 0 & 0 & 0 & 0 & 0 & 0 & 0 & 0\\\\\n",
       "\tFlt3l\\_TTACCCGGTAGAAAGG-1 & Flt3l & 10272 & 10272 & 241860 & 67685 & 1089 &  918 & 7731 & 146407 & 18030 & ⋯ & 0 & 0 & 0 & 0 & 0 & 0 & 0 & 0 & 0 & 0\\\\\n",
       "\tFlt3l\\_TTACCGCCATGGATGG-1 & Flt3l & 11638 & 11638 & 253828 & 77689 & 1254 & 1367 & 8672 & 143722 & 21124 & ⋯ & 0 & 0 & 0 & 0 & 0 & 0 & 0 & 0 & 0 & 0\\\\\n",
       "\tFlt3l\\_TTACGGATCAGAACGG-1 & Flt3l &  8818 &  8818 & 208472 & 54285 & 1102 &  850 & 6005 & 131344 & 14886 & ⋯ & 0 & 0 & 0 & 0 & 0 & 0 & 0 & 0 & 0 & 0\\\\\n",
       "\tFlt3l\\_TTACTCAGTGAGTAAT-1 & Flt3l &  8765 &  8765 & 209137 & 61240 & 1108 &  855 & 8981 & 117953 & 19000 & ⋯ & 0 & 0 & 0 & 0 & 0 & 0 & 0 & 0 & 0 & 0\\\\\n",
       "\tFlt3l\\_TTACTCAGTGCCAAGA-1 & Flt3l &  7234 &  7234 & 167978 & 29304 &  653 &  585 & 2482 & 124580 & 10374 & ⋯ & 0 & 0 & 0 & 0 & 0 & 0 & 0 & 0 & 0 & 0\\\\\n",
       "\tFlt3l\\_TTACTCAGTGGACGAT-1 & Flt3l &  8759 &  8759 & 154299 & 61441 & 1027 &  656 & 6368 &  67508 & 17299 & ⋯ & 0 & 0 & 0 & 0 & 0 & 0 & 0 & 0 & 0 & 0\\\\\n",
       "\tFlt3l\\_TTACTCATCTATCCTA-1 & Flt3l &  5651 &  5651 & 130832 & 30108 &  493 &  555 & 3831 &  84877 & 10968 & ⋯ & 0 & 0 & 0 & 0 & 0 & 0 & 0 & 0 & 0 & 0\\\\\n",
       "\tFlt3l\\_TTACTCATCTGATCCC-1 & Flt3l &  7571 &  7571 & 191290 & 55103 &  834 &  767 & 4744 & 117029 & 12813 & ⋯ & 0 & 0 & 0 & 0 & 0 & 0 & 0 & 0 & 0 & 0\\\\\n",
       "\tFlt3l\\_TTAGCGAGTACGGATG-1 & Flt3l &  6405 &  6405 & 133515 & 36234 &  477 &  662 & 4202 &  81899 & 10041 & ⋯ & 0 & 0 & 0 & 0 & 0 & 0 & 0 & 0 & 0 & 0\\\\\n",
       "\tFlt3l\\_TTAGCTTAGGTCGGTA-1 & Flt3l &  3136 &  3136 &  93867 & 12474 &  215 &  406 & 1004 &  75577 &  4191 & ⋯ & 0 & 0 & 0 & 0 & 0 & 0 & 0 & 0 & 0 & 0\\\\\n",
       "\tFlt3l\\_TTAGCTTCATTAAGGA-1 & Flt3l &  6527 &  6527 & 178830 & 43633 &  891 &  750 & 5216 & 112976 & 15364 & ⋯ & 0 & 0 & 1 & 0 & 1 & 0 & 0 & 0 & 0 & 0\\\\\n",
       "\tFlt3l\\_TTCAACTAGAGCACTG-1 & Flt3l &  8146 &  8146 & 209209 & 54790 & 1084 & 1043 & 5292 & 134803 & 12197 & ⋯ & 0 & 0 & 0 & 0 & 0 & 0 & 0 & 0 & 0 & 0\\\\\n",
       "\tFlt3l\\_TTCAACTGTGCCGGTT-1 & Flt3l & 10055 & 10055 & 169763 & 46174 &  986 &  655 & 6492 &  97864 & 17592 & ⋯ & 0 & 0 & 0 & 0 & 0 & 0 & 0 & 0 & 0 & 0\\\\\n",
       "\tFlt3l\\_TTCATTGAGGAGGCGA-1 & Flt3l &  2725 &  2725 &  83505 & 17655 &  409 &  579 & 1575 &  59447 &  3840 & ⋯ & 0 & 0 & 0 & 0 & 0 & 0 & 0 & 0 & 0 & 0\\\\\n",
       "\tFlt3l\\_TTCATTGAGTCCAGAG-1 & Flt3l & 10263 & 10263 & 202155 & 65245 & 1112 &  878 & 7760 & 108756 & 18404 & ⋯ & 0 & 0 & 0 & 0 & 0 & 0 & 0 & 0 & 0 & 0\\\\\n",
       "\tFlt3l\\_TTCATTGTCTCTATCA-1 & Flt3l &  8172 &  8172 & 200733 & 48014 &  928 &  686 & 6276 & 132327 & 12502 & ⋯ & 0 & 0 & 0 & 0 & 0 & 0 & 0 & 0 & 0 & 0\\\\\n",
       "\tFlt3l\\_TTCGATTCACGCGCAT-1 & Flt3l &  8888 &  8888 & 216371 & 52027 & 1111 & 1049 & 9877 & 136753 & 15554 & ⋯ & 0 & 0 & 0 & 0 & 0 & 0 & 0 & 0 & 0 & 0\\\\\n",
       "\tFlt3l\\_TTCGGTCAGGGAGTTC-1 & Flt3l &  7926 &  7926 & 127532 & 34142 &  748 &  518 & 4440 &  73746 & 13938 & ⋯ & 0 & 0 & 0 & 0 & 0 & 0 & 0 & 0 & 0 & 0\\\\\n",
       "\tFlt3l\\_TTCGTTAGTATTCTTC-1 & Flt3l &  9858 &  9858 & 197385 & 48896 & 1022 &  623 & 4299 & 127448 & 15097 & ⋯ & 0 & 0 & 0 & 0 & 0 & 0 & 0 & 0 & 0 & 0\\\\\n",
       "\tFlt3l\\_TTGCCCAGTTATAGAG-1 & Flt3l &  9098 &  9098 & 174558 & 48849 &  873 &  698 & 5868 & 102852 & 15418 & ⋯ & 0 & 0 & 0 & 0 & 0 & 0 & 0 & 0 & 0 & 0\\\\\n",
       "\tFlt3l\\_TTGCGAAAGACCGCAA-1 & Flt3l &  6054 &  6054 & 227358 & 30444 &  536 &  714 & 2617 & 184641 &  8406 & ⋯ & 0 & 0 & 0 & 0 & 0 & 0 & 0 & 0 & 0 & 0\\\\\n",
       "\tFlt3l\\_TTGCGGGAGCCATTCA-1 & Flt3l &  7739 &  7739 & 209590 & 40540 &  781 &  804 & 3688 & 152522 & 11255 & ⋯ & 0 & 0 & 0 & 0 & 1 & 0 & 0 & 0 & 0 & 0\\\\\n",
       "\tFlt3l\\_TTGCGGGAGGAGTCTG-1 & Flt3l &  5971 &  5971 & 174156 & 34892 &  721 &  920 & 3749 & 124614 &  9260 & ⋯ & 0 & 0 & 0 & 0 & 0 & 0 & 0 & 0 & 0 & 0\\\\\n",
       "\tFlt3l\\_TTTACGTCAAGCCAGA-1 & Flt3l & 11448 & 11448 & 182315 & 52255 &  868 &  810 & 6497 & 102392 & 19493 & ⋯ & 0 & 0 & 0 & 0 & 0 & 0 & 0 & 0 & 0 & 0\\\\\n",
       "\tFlt3l\\_TTTGAGGAGTCTCGAT-1 & Flt3l & 10815 & 10815 & 216547 & 60590 & 1237 &  834 & 8682 & 126811 & 18393 & ⋯ & 0 & 0 & 0 & 0 & 0 & 0 & 0 & 0 & 0 & 0\\\\\n",
       "\tFlt3l\\_TTTGAGGGTTGCAGAG-1 & Flt3l & 11111 & 11111 & 182438 & 70126 & 1239 &  878 & 9648 &  79591 & 20956 & ⋯ & 0 & 0 & 0 & 0 & 0 & 0 & 0 & 0 & 0 & 0\\\\\n",
       "\tFlt3l\\_TTTGTGTCAAATGCTC-1 & Flt3l &  8076 &  8076 & 136714 & 34051 &  621 &  565 & 5304 &  81633 & 14540 & ⋯ & 0 & 0 & 0 & 0 & 0 & 0 & 0 & 0 & 0 & 0\\\\\n",
       "\\end{tabular}\n"
      ],
      "text/markdown": [
       "\n",
       "A data.frame: 4283 × 253\n",
       "\n",
       "| <!--/--> | orig.ident &lt;chr&gt; | nCount_ATAC &lt;dbl&gt; | nFeature_ATAC &lt;int&gt; | total &lt;dbl&gt; | duplicate &lt;dbl&gt; | chimeric &lt;dbl&gt; | unmapped &lt;dbl&gt; | lowmapq &lt;dbl&gt; | mitochondrial &lt;dbl&gt; | passed_filters &lt;dbl&gt; | ⋯ ⋯ | X6961C &lt;int&gt; | X6470C &lt;int&gt; | X955T &lt;int&gt; | X6904C &lt;int&gt; | X3590A &lt;int&gt; | X4855A &lt;int&gt; | X9023T &lt;int&gt; | X3003G &lt;int&gt; | X3514A &lt;int&gt; | X515G &lt;int&gt; |\n",
       "|---|---|---|---|---|---|---|---|---|---|---|---|---|---|---|---|---|---|---|---|---|---|\n",
       "| Input_AAACGAAAGGAAACTT-1 | Input | 2831 | 2831 | 49701 |  5002 | 164 |  92 | 1138 | 37812 |  5493 | ⋯ | 0 | 0 | 0 | 0 | 0 | 0 | 0 | 0 | 0 | 0 |\n",
       "| Input_AAACGAAGTCCAAGAG-1 | Input | 4565 | 4565 | 62869 |  9096 | 249 | 139 | 1902 | 42086 |  9397 | ⋯ | 0 | 0 | 0 | 0 | 0 | 0 | 0 | 0 | 0 | 0 |\n",
       "| Input_AAACGAAGTCCGAGCT-1 | Input | 7229 | 7229 | 60574 | 11583 | 352 | 141 | 2087 | 31767 | 14644 | ⋯ | 0 | 0 | 0 | 0 | 0 | 0 | 0 | 0 | 0 | 0 |\n",
       "| Input_AAACGAAGTTTGAAGA-1 | Input | 7001 | 7001 | 68829 | 12010 | 432 | 163 | 2209 | 39985 | 14030 | ⋯ | 0 | 0 | 0 | 0 | 0 | 0 | 0 | 0 | 0 | 0 |\n",
       "| Input_AAACGAATCCCAGTAA-1 | Input | 2103 | 2103 | 30056 |  2764 | 124 |  63 |  832 | 22385 |  3888 | ⋯ | 0 | 0 | 0 | 0 | 0 | 0 | 0 | 0 | 0 | 0 |\n",
       "| Input_AAACGAATCCGGGCAT-1 | Input | 3882 | 3882 | 41493 |  5928 | 189 | 120 |  951 | 26859 |  7446 | ⋯ | 0 | 0 | 0 | 0 | 0 | 0 | 0 | 0 | 0 | 0 |\n",
       "| Input_AAACGAATCCTGAAAC-1 | Input | 3683 | 3683 | 45177 |  5990 | 214 |  84 | 1332 | 31063 |  6494 | ⋯ | 0 | 0 | 0 | 0 | 0 | 0 | 0 | 0 | 0 | 0 |\n",
       "| Input_AAACGAATCGATGTGT-1 | Input | 6282 | 6282 | 51495 | 10502 | 267 | 133 | 2306 | 27006 | 11281 | ⋯ | 0 | 0 | 0 | 0 | 0 | 0 | 0 | 0 | 0 | 0 |\n",
       "| Input_AAACGAATCGCCAGAC-1 | Input | 2037 | 2037 | 22741 |  2223 |  77 |  28 |  556 | 16614 |  3243 | ⋯ | 0 | 0 | 0 | 0 | 0 | 0 | 0 | 0 | 0 | 0 |\n",
       "| Input_AAACGAATCGTGAACT-1 | Input | 5996 | 5996 | 66340 | 10716 | 362 | 165 | 2305 | 39978 | 12814 | ⋯ | 0 | 0 | 0 | 0 | 0 | 0 | 0 | 0 | 0 | 0 |\n",
       "| Input_AAACTCGAGGAATGGA-1 | Input | 4058 | 4058 | 43080 |  7434 | 225 | 119 | 1596 | 26018 |  7688 | ⋯ | 0 | 0 | 0 | 0 | 0 | 0 | 0 | 0 | 0 | 0 |\n",
       "| Input_AAACTCGAGGTACACG-1 | Input | 4901 | 4901 | 49202 |  9164 | 265 | 116 | 1810 | 27219 | 10628 | ⋯ | 0 | 0 | 0 | 0 | 0 | 0 | 0 | 0 | 0 | 0 |\n",
       "| Input_AAACTCGCAAGACACG-1 | Input | 3569 | 3569 | 45793 |  6391 | 211 | 100 | 1554 | 30248 |  7289 | ⋯ | 0 | 0 | 0 | 0 | 0 | 0 | 0 | 0 | 0 | 0 |\n",
       "| Input_AAACTCGCACTGAAGG-1 | Input | 4338 | 4338 | 42093 |  7883 | 210 | 134 | 1668 | 23925 |  8273 | ⋯ | 0 | 0 | 0 | 0 | 0 | 0 | 0 | 0 | 0 | 0 |\n",
       "| Input_AAACTCGCACTGTTAG-1 | Input | 1316 | 1316 | 62076 |  2215 |  76 | 153 | 1953 | 55119 |  2560 | ⋯ | 0 | 0 | 0 | 0 | 0 | 0 | 0 | 0 | 0 | 0 |\n",
       "| Input_AAACTCGGTTGCCGCA-1 | Input | 2131 | 2131 | 19962 |  2722 | 129 |  33 |  484 | 12707 |  3887 | ⋯ | 0 | 0 | 0 | 0 | 0 | 0 | 0 | 0 | 0 | 0 |\n",
       "| Input_AAACTCGTCGTGCTGG-1 | Input | 2613 | 2613 | 31455 |  5274 | 166 | 107 | 1192 | 19425 |  5291 | ⋯ | 0 | 0 | 0 | 0 | 0 | 0 | 0 | 0 | 0 | 0 |\n",
       "| Input_AAACTCGTCTGTAGAC-1 | Input | 3380 | 3380 | 35798 |  6861 | 180 |  87 | 1491 | 20486 |  6693 | ⋯ | 0 | 0 | 0 | 0 | 0 | 0 | 0 | 0 | 0 | 0 |\n",
       "| Input_AAACTGCAGGATGTAT-1 | Input | 3421 | 3421 | 34970 |  5801 | 165 |  87 |  972 | 22347 |  5598 | ⋯ | 0 | 0 | 0 | 0 | 0 | 0 | 0 | 0 | 0 | 0 |\n",
       "| Input_AAACTGCAGTACAGAT-1 | Input | 4886 | 4886 | 46656 |  8836 | 252 |  96 | 1653 | 26653 |  9166 | ⋯ | 0 | 0 | 0 | 0 | 0 | 0 | 0 | 0 | 0 | 0 |\n",
       "| Input_AAACTGCAGTCTCTAG-1 | Input | 3129 | 3129 | 31794 |  6835 | 210 |  90 | 1208 | 13249 | 10202 | ⋯ | 0 | 0 | 0 | 0 | 0 | 0 | 0 | 0 | 0 | 0 |\n",
       "| Input_AAACTGCAGTGAAACT-1 | Input | 1927 | 1927 | 23564 |  3457 | 106 |  65 |  682 | 15980 |  3274 | ⋯ | 0 | 0 | 0 | 0 | 0 | 0 | 0 | 0 | 0 | 0 |\n",
       "| Input_AAACTGCCAATTGGCT-1 | Input | 3152 | 3152 | 44690 |  4475 | 154 |  81 | 1136 | 33428 |  5416 | ⋯ | 0 | 0 | 0 | 0 | 0 | 0 | 0 | 0 | 0 | 0 |\n",
       "| Input_AAACTGCCACGTACAT-1 | Input | 2403 | 2403 | 48804 |  5232 | 212 |  82 | 1111 | 37077 |  5090 | ⋯ | 0 | 0 | 0 | 0 | 0 | 0 | 0 | 0 | 0 | 0 |\n",
       "| Input_AAACTGCTCAGTGTGT-1 | Input | 3417 | 3417 | 52385 |  6032 | 210 | 112 | 1521 | 36924 |  7586 | ⋯ | 0 | 0 | 0 | 0 | 0 | 0 | 0 | 0 | 0 | 0 |\n",
       "| Input_AAACTGCTCCTCCCAA-1 | Input | 4781 | 4781 | 38006 |  8486 | 256 | 107 | 2210 | 16894 | 10053 | ⋯ | 0 | 0 | 0 | 0 | 0 | 0 | 0 | 0 | 0 | 0 |\n",
       "| Input_AAACTGCTCGAGTTAC-1 | Input | 4892 | 4892 | 59973 |  8157 | 266 | 123 | 1658 | 40313 |  9456 | ⋯ | 0 | 0 | 0 | 0 | 0 | 0 | 0 | 0 | 0 | 0 |\n",
       "| Input_AAACTGCTCTCTCAAT-1 | Input | 4076 | 4076 | 38171 |  7336 | 220 |  70 | 1647 | 20515 |  8383 | ⋯ | 0 | 0 | 0 | 0 | 0 | 0 | 0 | 0 | 0 | 0 |\n",
       "| Input_AAAGATGAGAGGTGGG-1 | Input | 5142 | 5142 | 43573 |  7187 | 291 | 140 | 1727 | 25317 |  8911 | ⋯ | 0 | 0 | 0 | 0 | 0 | 0 | 0 | 0 | 0 | 0 |\n",
       "| Input_AAAGATGCAACTCAAC-1 | Input | 3602 | 3602 | 53736 |  6718 | 259 |  73 | 1271 | 37892 |  7523 | ⋯ | 0 | 0 | 0 | 0 | 0 | 0 | 0 | 0 | 0 | 0 |\n",
       "| ⋮ | ⋮ | ⋮ | ⋮ | ⋮ | ⋮ | ⋮ | ⋮ | ⋮ | ⋮ | ⋮ | ⋱ | ⋮ | ⋮ | ⋮ | ⋮ | ⋮ | ⋮ | ⋮ | ⋮ | ⋮ | ⋮ |\n",
       "| Flt3l_TGTTAGGTCGGGAATG-1 | Flt3l |  6297 |  6297 | 166060 | 41807 |  760 |  724 | 6515 | 104516 | 11738 | ⋯ | 0 | 0 | 0 | 0 | 0 | 0 | 0 | 0 | 0 | 0 |\n",
       "| Flt3l_TTAACGGGTACGGATG-1 | Flt3l |  8923 |  8923 | 179880 | 57630 | 1112 | 1327 | 6807 |  97410 | 15594 | ⋯ | 0 | 0 | 0 | 0 | 0 | 0 | 0 | 0 | 0 | 0 |\n",
       "| Flt3l_TTAACGGGTGCGTTTA-1 | Flt3l | 10535 | 10535 | 163216 | 39800 |  932 |  663 | 4013 | 101714 | 16094 | ⋯ | 0 | 0 | 0 | 0 | 0 | 0 | 0 | 0 | 0 | 0 |\n",
       "| Flt3l_TTACCCGGTAGAAAGG-1 | Flt3l | 10272 | 10272 | 241860 | 67685 | 1089 |  918 | 7731 | 146407 | 18030 | ⋯ | 0 | 0 | 0 | 0 | 0 | 0 | 0 | 0 | 0 | 0 |\n",
       "| Flt3l_TTACCGCCATGGATGG-1 | Flt3l | 11638 | 11638 | 253828 | 77689 | 1254 | 1367 | 8672 | 143722 | 21124 | ⋯ | 0 | 0 | 0 | 0 | 0 | 0 | 0 | 0 | 0 | 0 |\n",
       "| Flt3l_TTACGGATCAGAACGG-1 | Flt3l |  8818 |  8818 | 208472 | 54285 | 1102 |  850 | 6005 | 131344 | 14886 | ⋯ | 0 | 0 | 0 | 0 | 0 | 0 | 0 | 0 | 0 | 0 |\n",
       "| Flt3l_TTACTCAGTGAGTAAT-1 | Flt3l |  8765 |  8765 | 209137 | 61240 | 1108 |  855 | 8981 | 117953 | 19000 | ⋯ | 0 | 0 | 0 | 0 | 0 | 0 | 0 | 0 | 0 | 0 |\n",
       "| Flt3l_TTACTCAGTGCCAAGA-1 | Flt3l |  7234 |  7234 | 167978 | 29304 |  653 |  585 | 2482 | 124580 | 10374 | ⋯ | 0 | 0 | 0 | 0 | 0 | 0 | 0 | 0 | 0 | 0 |\n",
       "| Flt3l_TTACTCAGTGGACGAT-1 | Flt3l |  8759 |  8759 | 154299 | 61441 | 1027 |  656 | 6368 |  67508 | 17299 | ⋯ | 0 | 0 | 0 | 0 | 0 | 0 | 0 | 0 | 0 | 0 |\n",
       "| Flt3l_TTACTCATCTATCCTA-1 | Flt3l |  5651 |  5651 | 130832 | 30108 |  493 |  555 | 3831 |  84877 | 10968 | ⋯ | 0 | 0 | 0 | 0 | 0 | 0 | 0 | 0 | 0 | 0 |\n",
       "| Flt3l_TTACTCATCTGATCCC-1 | Flt3l |  7571 |  7571 | 191290 | 55103 |  834 |  767 | 4744 | 117029 | 12813 | ⋯ | 0 | 0 | 0 | 0 | 0 | 0 | 0 | 0 | 0 | 0 |\n",
       "| Flt3l_TTAGCGAGTACGGATG-1 | Flt3l |  6405 |  6405 | 133515 | 36234 |  477 |  662 | 4202 |  81899 | 10041 | ⋯ | 0 | 0 | 0 | 0 | 0 | 0 | 0 | 0 | 0 | 0 |\n",
       "| Flt3l_TTAGCTTAGGTCGGTA-1 | Flt3l |  3136 |  3136 |  93867 | 12474 |  215 |  406 | 1004 |  75577 |  4191 | ⋯ | 0 | 0 | 0 | 0 | 0 | 0 | 0 | 0 | 0 | 0 |\n",
       "| Flt3l_TTAGCTTCATTAAGGA-1 | Flt3l |  6527 |  6527 | 178830 | 43633 |  891 |  750 | 5216 | 112976 | 15364 | ⋯ | 0 | 0 | 1 | 0 | 1 | 0 | 0 | 0 | 0 | 0 |\n",
       "| Flt3l_TTCAACTAGAGCACTG-1 | Flt3l |  8146 |  8146 | 209209 | 54790 | 1084 | 1043 | 5292 | 134803 | 12197 | ⋯ | 0 | 0 | 0 | 0 | 0 | 0 | 0 | 0 | 0 | 0 |\n",
       "| Flt3l_TTCAACTGTGCCGGTT-1 | Flt3l | 10055 | 10055 | 169763 | 46174 |  986 |  655 | 6492 |  97864 | 17592 | ⋯ | 0 | 0 | 0 | 0 | 0 | 0 | 0 | 0 | 0 | 0 |\n",
       "| Flt3l_TTCATTGAGGAGGCGA-1 | Flt3l |  2725 |  2725 |  83505 | 17655 |  409 |  579 | 1575 |  59447 |  3840 | ⋯ | 0 | 0 | 0 | 0 | 0 | 0 | 0 | 0 | 0 | 0 |\n",
       "| Flt3l_TTCATTGAGTCCAGAG-1 | Flt3l | 10263 | 10263 | 202155 | 65245 | 1112 |  878 | 7760 | 108756 | 18404 | ⋯ | 0 | 0 | 0 | 0 | 0 | 0 | 0 | 0 | 0 | 0 |\n",
       "| Flt3l_TTCATTGTCTCTATCA-1 | Flt3l |  8172 |  8172 | 200733 | 48014 |  928 |  686 | 6276 | 132327 | 12502 | ⋯ | 0 | 0 | 0 | 0 | 0 | 0 | 0 | 0 | 0 | 0 |\n",
       "| Flt3l_TTCGATTCACGCGCAT-1 | Flt3l |  8888 |  8888 | 216371 | 52027 | 1111 | 1049 | 9877 | 136753 | 15554 | ⋯ | 0 | 0 | 0 | 0 | 0 | 0 | 0 | 0 | 0 | 0 |\n",
       "| Flt3l_TTCGGTCAGGGAGTTC-1 | Flt3l |  7926 |  7926 | 127532 | 34142 |  748 |  518 | 4440 |  73746 | 13938 | ⋯ | 0 | 0 | 0 | 0 | 0 | 0 | 0 | 0 | 0 | 0 |\n",
       "| Flt3l_TTCGTTAGTATTCTTC-1 | Flt3l |  9858 |  9858 | 197385 | 48896 | 1022 |  623 | 4299 | 127448 | 15097 | ⋯ | 0 | 0 | 0 | 0 | 0 | 0 | 0 | 0 | 0 | 0 |\n",
       "| Flt3l_TTGCCCAGTTATAGAG-1 | Flt3l |  9098 |  9098 | 174558 | 48849 |  873 |  698 | 5868 | 102852 | 15418 | ⋯ | 0 | 0 | 0 | 0 | 0 | 0 | 0 | 0 | 0 | 0 |\n",
       "| Flt3l_TTGCGAAAGACCGCAA-1 | Flt3l |  6054 |  6054 | 227358 | 30444 |  536 |  714 | 2617 | 184641 |  8406 | ⋯ | 0 | 0 | 0 | 0 | 0 | 0 | 0 | 0 | 0 | 0 |\n",
       "| Flt3l_TTGCGGGAGCCATTCA-1 | Flt3l |  7739 |  7739 | 209590 | 40540 |  781 |  804 | 3688 | 152522 | 11255 | ⋯ | 0 | 0 | 0 | 0 | 1 | 0 | 0 | 0 | 0 | 0 |\n",
       "| Flt3l_TTGCGGGAGGAGTCTG-1 | Flt3l |  5971 |  5971 | 174156 | 34892 |  721 |  920 | 3749 | 124614 |  9260 | ⋯ | 0 | 0 | 0 | 0 | 0 | 0 | 0 | 0 | 0 | 0 |\n",
       "| Flt3l_TTTACGTCAAGCCAGA-1 | Flt3l | 11448 | 11448 | 182315 | 52255 |  868 |  810 | 6497 | 102392 | 19493 | ⋯ | 0 | 0 | 0 | 0 | 0 | 0 | 0 | 0 | 0 | 0 |\n",
       "| Flt3l_TTTGAGGAGTCTCGAT-1 | Flt3l | 10815 | 10815 | 216547 | 60590 | 1237 |  834 | 8682 | 126811 | 18393 | ⋯ | 0 | 0 | 0 | 0 | 0 | 0 | 0 | 0 | 0 | 0 |\n",
       "| Flt3l_TTTGAGGGTTGCAGAG-1 | Flt3l | 11111 | 11111 | 182438 | 70126 | 1239 |  878 | 9648 |  79591 | 20956 | ⋯ | 0 | 0 | 0 | 0 | 0 | 0 | 0 | 0 | 0 | 0 |\n",
       "| Flt3l_TTTGTGTCAAATGCTC-1 | Flt3l |  8076 |  8076 | 136714 | 34051 |  621 |  565 | 5304 |  81633 | 14540 | ⋯ | 0 | 0 | 0 | 0 | 0 | 0 | 0 | 0 | 0 | 0 |\n",
       "\n"
      ],
      "text/plain": [
       "                         orig.ident nCount_ATAC nFeature_ATAC total  duplicate\n",
       "Input_AAACGAAAGGAAACTT-1 Input      2831        2831          49701   5002    \n",
       "Input_AAACGAAGTCCAAGAG-1 Input      4565        4565          62869   9096    \n",
       "Input_AAACGAAGTCCGAGCT-1 Input      7229        7229          60574  11583    \n",
       "Input_AAACGAAGTTTGAAGA-1 Input      7001        7001          68829  12010    \n",
       "Input_AAACGAATCCCAGTAA-1 Input      2103        2103          30056   2764    \n",
       "Input_AAACGAATCCGGGCAT-1 Input      3882        3882          41493   5928    \n",
       "Input_AAACGAATCCTGAAAC-1 Input      3683        3683          45177   5990    \n",
       "Input_AAACGAATCGATGTGT-1 Input      6282        6282          51495  10502    \n",
       "Input_AAACGAATCGCCAGAC-1 Input      2037        2037          22741   2223    \n",
       "Input_AAACGAATCGTGAACT-1 Input      5996        5996          66340  10716    \n",
       "Input_AAACTCGAGGAATGGA-1 Input      4058        4058          43080   7434    \n",
       "Input_AAACTCGAGGTACACG-1 Input      4901        4901          49202   9164    \n",
       "Input_AAACTCGCAAGACACG-1 Input      3569        3569          45793   6391    \n",
       "Input_AAACTCGCACTGAAGG-1 Input      4338        4338          42093   7883    \n",
       "Input_AAACTCGCACTGTTAG-1 Input      1316        1316          62076   2215    \n",
       "Input_AAACTCGGTTGCCGCA-1 Input      2131        2131          19962   2722    \n",
       "Input_AAACTCGTCGTGCTGG-1 Input      2613        2613          31455   5274    \n",
       "Input_AAACTCGTCTGTAGAC-1 Input      3380        3380          35798   6861    \n",
       "Input_AAACTGCAGGATGTAT-1 Input      3421        3421          34970   5801    \n",
       "Input_AAACTGCAGTACAGAT-1 Input      4886        4886          46656   8836    \n",
       "Input_AAACTGCAGTCTCTAG-1 Input      3129        3129          31794   6835    \n",
       "Input_AAACTGCAGTGAAACT-1 Input      1927        1927          23564   3457    \n",
       "Input_AAACTGCCAATTGGCT-1 Input      3152        3152          44690   4475    \n",
       "Input_AAACTGCCACGTACAT-1 Input      2403        2403          48804   5232    \n",
       "Input_AAACTGCTCAGTGTGT-1 Input      3417        3417          52385   6032    \n",
       "Input_AAACTGCTCCTCCCAA-1 Input      4781        4781          38006   8486    \n",
       "Input_AAACTGCTCGAGTTAC-1 Input      4892        4892          59973   8157    \n",
       "Input_AAACTGCTCTCTCAAT-1 Input      4076        4076          38171   7336    \n",
       "Input_AAAGATGAGAGGTGGG-1 Input      5142        5142          43573   7187    \n",
       "Input_AAAGATGCAACTCAAC-1 Input      3602        3602          53736   6718    \n",
       "⋮                        ⋮          ⋮           ⋮             ⋮      ⋮        \n",
       "Flt3l_TGTTAGGTCGGGAATG-1 Flt3l       6297        6297         166060 41807    \n",
       "Flt3l_TTAACGGGTACGGATG-1 Flt3l       8923        8923         179880 57630    \n",
       "Flt3l_TTAACGGGTGCGTTTA-1 Flt3l      10535       10535         163216 39800    \n",
       "Flt3l_TTACCCGGTAGAAAGG-1 Flt3l      10272       10272         241860 67685    \n",
       "Flt3l_TTACCGCCATGGATGG-1 Flt3l      11638       11638         253828 77689    \n",
       "Flt3l_TTACGGATCAGAACGG-1 Flt3l       8818        8818         208472 54285    \n",
       "Flt3l_TTACTCAGTGAGTAAT-1 Flt3l       8765        8765         209137 61240    \n",
       "Flt3l_TTACTCAGTGCCAAGA-1 Flt3l       7234        7234         167978 29304    \n",
       "Flt3l_TTACTCAGTGGACGAT-1 Flt3l       8759        8759         154299 61441    \n",
       "Flt3l_TTACTCATCTATCCTA-1 Flt3l       5651        5651         130832 30108    \n",
       "Flt3l_TTACTCATCTGATCCC-1 Flt3l       7571        7571         191290 55103    \n",
       "Flt3l_TTAGCGAGTACGGATG-1 Flt3l       6405        6405         133515 36234    \n",
       "Flt3l_TTAGCTTAGGTCGGTA-1 Flt3l       3136        3136          93867 12474    \n",
       "Flt3l_TTAGCTTCATTAAGGA-1 Flt3l       6527        6527         178830 43633    \n",
       "Flt3l_TTCAACTAGAGCACTG-1 Flt3l       8146        8146         209209 54790    \n",
       "Flt3l_TTCAACTGTGCCGGTT-1 Flt3l      10055       10055         169763 46174    \n",
       "Flt3l_TTCATTGAGGAGGCGA-1 Flt3l       2725        2725          83505 17655    \n",
       "Flt3l_TTCATTGAGTCCAGAG-1 Flt3l      10263       10263         202155 65245    \n",
       "Flt3l_TTCATTGTCTCTATCA-1 Flt3l       8172        8172         200733 48014    \n",
       "Flt3l_TTCGATTCACGCGCAT-1 Flt3l       8888        8888         216371 52027    \n",
       "Flt3l_TTCGGTCAGGGAGTTC-1 Flt3l       7926        7926         127532 34142    \n",
       "Flt3l_TTCGTTAGTATTCTTC-1 Flt3l       9858        9858         197385 48896    \n",
       "Flt3l_TTGCCCAGTTATAGAG-1 Flt3l       9098        9098         174558 48849    \n",
       "Flt3l_TTGCGAAAGACCGCAA-1 Flt3l       6054        6054         227358 30444    \n",
       "Flt3l_TTGCGGGAGCCATTCA-1 Flt3l       7739        7739         209590 40540    \n",
       "Flt3l_TTGCGGGAGGAGTCTG-1 Flt3l       5971        5971         174156 34892    \n",
       "Flt3l_TTTACGTCAAGCCAGA-1 Flt3l      11448       11448         182315 52255    \n",
       "Flt3l_TTTGAGGAGTCTCGAT-1 Flt3l      10815       10815         216547 60590    \n",
       "Flt3l_TTTGAGGGTTGCAGAG-1 Flt3l      11111       11111         182438 70126    \n",
       "Flt3l_TTTGTGTCAAATGCTC-1 Flt3l       8076        8076         136714 34051    \n",
       "                         chimeric unmapped lowmapq mitochondrial passed_filters\n",
       "Input_AAACGAAAGGAAACTT-1 164       92      1138    37812          5493         \n",
       "Input_AAACGAAGTCCAAGAG-1 249      139      1902    42086          9397         \n",
       "Input_AAACGAAGTCCGAGCT-1 352      141      2087    31767         14644         \n",
       "Input_AAACGAAGTTTGAAGA-1 432      163      2209    39985         14030         \n",
       "Input_AAACGAATCCCAGTAA-1 124       63       832    22385          3888         \n",
       "Input_AAACGAATCCGGGCAT-1 189      120       951    26859          7446         \n",
       "Input_AAACGAATCCTGAAAC-1 214       84      1332    31063          6494         \n",
       "Input_AAACGAATCGATGTGT-1 267      133      2306    27006         11281         \n",
       "Input_AAACGAATCGCCAGAC-1  77       28       556    16614          3243         \n",
       "Input_AAACGAATCGTGAACT-1 362      165      2305    39978         12814         \n",
       "Input_AAACTCGAGGAATGGA-1 225      119      1596    26018          7688         \n",
       "Input_AAACTCGAGGTACACG-1 265      116      1810    27219         10628         \n",
       "Input_AAACTCGCAAGACACG-1 211      100      1554    30248          7289         \n",
       "Input_AAACTCGCACTGAAGG-1 210      134      1668    23925          8273         \n",
       "Input_AAACTCGCACTGTTAG-1  76      153      1953    55119          2560         \n",
       "Input_AAACTCGGTTGCCGCA-1 129       33       484    12707          3887         \n",
       "Input_AAACTCGTCGTGCTGG-1 166      107      1192    19425          5291         \n",
       "Input_AAACTCGTCTGTAGAC-1 180       87      1491    20486          6693         \n",
       "Input_AAACTGCAGGATGTAT-1 165       87       972    22347          5598         \n",
       "Input_AAACTGCAGTACAGAT-1 252       96      1653    26653          9166         \n",
       "Input_AAACTGCAGTCTCTAG-1 210       90      1208    13249         10202         \n",
       "Input_AAACTGCAGTGAAACT-1 106       65       682    15980          3274         \n",
       "Input_AAACTGCCAATTGGCT-1 154       81      1136    33428          5416         \n",
       "Input_AAACTGCCACGTACAT-1 212       82      1111    37077          5090         \n",
       "Input_AAACTGCTCAGTGTGT-1 210      112      1521    36924          7586         \n",
       "Input_AAACTGCTCCTCCCAA-1 256      107      2210    16894         10053         \n",
       "Input_AAACTGCTCGAGTTAC-1 266      123      1658    40313          9456         \n",
       "Input_AAACTGCTCTCTCAAT-1 220       70      1647    20515          8383         \n",
       "Input_AAAGATGAGAGGTGGG-1 291      140      1727    25317          8911         \n",
       "Input_AAAGATGCAACTCAAC-1 259       73      1271    37892          7523         \n",
       "⋮                        ⋮        ⋮        ⋮       ⋮             ⋮             \n",
       "Flt3l_TGTTAGGTCGGGAATG-1  760      724     6515    104516        11738         \n",
       "Flt3l_TTAACGGGTACGGATG-1 1112     1327     6807     97410        15594         \n",
       "Flt3l_TTAACGGGTGCGTTTA-1  932      663     4013    101714        16094         \n",
       "Flt3l_TTACCCGGTAGAAAGG-1 1089      918     7731    146407        18030         \n",
       "Flt3l_TTACCGCCATGGATGG-1 1254     1367     8672    143722        21124         \n",
       "Flt3l_TTACGGATCAGAACGG-1 1102      850     6005    131344        14886         \n",
       "Flt3l_TTACTCAGTGAGTAAT-1 1108      855     8981    117953        19000         \n",
       "Flt3l_TTACTCAGTGCCAAGA-1  653      585     2482    124580        10374         \n",
       "Flt3l_TTACTCAGTGGACGAT-1 1027      656     6368     67508        17299         \n",
       "Flt3l_TTACTCATCTATCCTA-1  493      555     3831     84877        10968         \n",
       "Flt3l_TTACTCATCTGATCCC-1  834      767     4744    117029        12813         \n",
       "Flt3l_TTAGCGAGTACGGATG-1  477      662     4202     81899        10041         \n",
       "Flt3l_TTAGCTTAGGTCGGTA-1  215      406     1004     75577         4191         \n",
       "Flt3l_TTAGCTTCATTAAGGA-1  891      750     5216    112976        15364         \n",
       "Flt3l_TTCAACTAGAGCACTG-1 1084     1043     5292    134803        12197         \n",
       "Flt3l_TTCAACTGTGCCGGTT-1  986      655     6492     97864        17592         \n",
       "Flt3l_TTCATTGAGGAGGCGA-1  409      579     1575     59447         3840         \n",
       "Flt3l_TTCATTGAGTCCAGAG-1 1112      878     7760    108756        18404         \n",
       "Flt3l_TTCATTGTCTCTATCA-1  928      686     6276    132327        12502         \n",
       "Flt3l_TTCGATTCACGCGCAT-1 1111     1049     9877    136753        15554         \n",
       "Flt3l_TTCGGTCAGGGAGTTC-1  748      518     4440     73746        13938         \n",
       "Flt3l_TTCGTTAGTATTCTTC-1 1022      623     4299    127448        15097         \n",
       "Flt3l_TTGCCCAGTTATAGAG-1  873      698     5868    102852        15418         \n",
       "Flt3l_TTGCGAAAGACCGCAA-1  536      714     2617    184641         8406         \n",
       "Flt3l_TTGCGGGAGCCATTCA-1  781      804     3688    152522        11255         \n",
       "Flt3l_TTGCGGGAGGAGTCTG-1  721      920     3749    124614         9260         \n",
       "Flt3l_TTTACGTCAAGCCAGA-1  868      810     6497    102392        19493         \n",
       "Flt3l_TTTGAGGAGTCTCGAT-1 1237      834     8682    126811        18393         \n",
       "Flt3l_TTTGAGGGTTGCAGAG-1 1239      878     9648     79591        20956         \n",
       "Flt3l_TTTGTGTCAAATGCTC-1  621      565     5304     81633        14540         \n",
       "                         ⋯ X6961C X6470C X955T X6904C X3590A X4855A X9023T\n",
       "Input_AAACGAAAGGAAACTT-1 ⋯ 0      0      0     0      0      0      0     \n",
       "Input_AAACGAAGTCCAAGAG-1 ⋯ 0      0      0     0      0      0      0     \n",
       "Input_AAACGAAGTCCGAGCT-1 ⋯ 0      0      0     0      0      0      0     \n",
       "Input_AAACGAAGTTTGAAGA-1 ⋯ 0      0      0     0      0      0      0     \n",
       "Input_AAACGAATCCCAGTAA-1 ⋯ 0      0      0     0      0      0      0     \n",
       "Input_AAACGAATCCGGGCAT-1 ⋯ 0      0      0     0      0      0      0     \n",
       "Input_AAACGAATCCTGAAAC-1 ⋯ 0      0      0     0      0      0      0     \n",
       "Input_AAACGAATCGATGTGT-1 ⋯ 0      0      0     0      0      0      0     \n",
       "Input_AAACGAATCGCCAGAC-1 ⋯ 0      0      0     0      0      0      0     \n",
       "Input_AAACGAATCGTGAACT-1 ⋯ 0      0      0     0      0      0      0     \n",
       "Input_AAACTCGAGGAATGGA-1 ⋯ 0      0      0     0      0      0      0     \n",
       "Input_AAACTCGAGGTACACG-1 ⋯ 0      0      0     0      0      0      0     \n",
       "Input_AAACTCGCAAGACACG-1 ⋯ 0      0      0     0      0      0      0     \n",
       "Input_AAACTCGCACTGAAGG-1 ⋯ 0      0      0     0      0      0      0     \n",
       "Input_AAACTCGCACTGTTAG-1 ⋯ 0      0      0     0      0      0      0     \n",
       "Input_AAACTCGGTTGCCGCA-1 ⋯ 0      0      0     0      0      0      0     \n",
       "Input_AAACTCGTCGTGCTGG-1 ⋯ 0      0      0     0      0      0      0     \n",
       "Input_AAACTCGTCTGTAGAC-1 ⋯ 0      0      0     0      0      0      0     \n",
       "Input_AAACTGCAGGATGTAT-1 ⋯ 0      0      0     0      0      0      0     \n",
       "Input_AAACTGCAGTACAGAT-1 ⋯ 0      0      0     0      0      0      0     \n",
       "Input_AAACTGCAGTCTCTAG-1 ⋯ 0      0      0     0      0      0      0     \n",
       "Input_AAACTGCAGTGAAACT-1 ⋯ 0      0      0     0      0      0      0     \n",
       "Input_AAACTGCCAATTGGCT-1 ⋯ 0      0      0     0      0      0      0     \n",
       "Input_AAACTGCCACGTACAT-1 ⋯ 0      0      0     0      0      0      0     \n",
       "Input_AAACTGCTCAGTGTGT-1 ⋯ 0      0      0     0      0      0      0     \n",
       "Input_AAACTGCTCCTCCCAA-1 ⋯ 0      0      0     0      0      0      0     \n",
       "Input_AAACTGCTCGAGTTAC-1 ⋯ 0      0      0     0      0      0      0     \n",
       "Input_AAACTGCTCTCTCAAT-1 ⋯ 0      0      0     0      0      0      0     \n",
       "Input_AAAGATGAGAGGTGGG-1 ⋯ 0      0      0     0      0      0      0     \n",
       "Input_AAAGATGCAACTCAAC-1 ⋯ 0      0      0     0      0      0      0     \n",
       "⋮                        ⋱ ⋮      ⋮      ⋮     ⋮      ⋮      ⋮      ⋮     \n",
       "Flt3l_TGTTAGGTCGGGAATG-1 ⋯ 0      0      0     0      0      0      0     \n",
       "Flt3l_TTAACGGGTACGGATG-1 ⋯ 0      0      0     0      0      0      0     \n",
       "Flt3l_TTAACGGGTGCGTTTA-1 ⋯ 0      0      0     0      0      0      0     \n",
       "Flt3l_TTACCCGGTAGAAAGG-1 ⋯ 0      0      0     0      0      0      0     \n",
       "Flt3l_TTACCGCCATGGATGG-1 ⋯ 0      0      0     0      0      0      0     \n",
       "Flt3l_TTACGGATCAGAACGG-1 ⋯ 0      0      0     0      0      0      0     \n",
       "Flt3l_TTACTCAGTGAGTAAT-1 ⋯ 0      0      0     0      0      0      0     \n",
       "Flt3l_TTACTCAGTGCCAAGA-1 ⋯ 0      0      0     0      0      0      0     \n",
       "Flt3l_TTACTCAGTGGACGAT-1 ⋯ 0      0      0     0      0      0      0     \n",
       "Flt3l_TTACTCATCTATCCTA-1 ⋯ 0      0      0     0      0      0      0     \n",
       "Flt3l_TTACTCATCTGATCCC-1 ⋯ 0      0      0     0      0      0      0     \n",
       "Flt3l_TTAGCGAGTACGGATG-1 ⋯ 0      0      0     0      0      0      0     \n",
       "Flt3l_TTAGCTTAGGTCGGTA-1 ⋯ 0      0      0     0      0      0      0     \n",
       "Flt3l_TTAGCTTCATTAAGGA-1 ⋯ 0      0      1     0      1      0      0     \n",
       "Flt3l_TTCAACTAGAGCACTG-1 ⋯ 0      0      0     0      0      0      0     \n",
       "Flt3l_TTCAACTGTGCCGGTT-1 ⋯ 0      0      0     0      0      0      0     \n",
       "Flt3l_TTCATTGAGGAGGCGA-1 ⋯ 0      0      0     0      0      0      0     \n",
       "Flt3l_TTCATTGAGTCCAGAG-1 ⋯ 0      0      0     0      0      0      0     \n",
       "Flt3l_TTCATTGTCTCTATCA-1 ⋯ 0      0      0     0      0      0      0     \n",
       "Flt3l_TTCGATTCACGCGCAT-1 ⋯ 0      0      0     0      0      0      0     \n",
       "Flt3l_TTCGGTCAGGGAGTTC-1 ⋯ 0      0      0     0      0      0      0     \n",
       "Flt3l_TTCGTTAGTATTCTTC-1 ⋯ 0      0      0     0      0      0      0     \n",
       "Flt3l_TTGCCCAGTTATAGAG-1 ⋯ 0      0      0     0      0      0      0     \n",
       "Flt3l_TTGCGAAAGACCGCAA-1 ⋯ 0      0      0     0      0      0      0     \n",
       "Flt3l_TTGCGGGAGCCATTCA-1 ⋯ 0      0      0     0      1      0      0     \n",
       "Flt3l_TTGCGGGAGGAGTCTG-1 ⋯ 0      0      0     0      0      0      0     \n",
       "Flt3l_TTTACGTCAAGCCAGA-1 ⋯ 0      0      0     0      0      0      0     \n",
       "Flt3l_TTTGAGGAGTCTCGAT-1 ⋯ 0      0      0     0      0      0      0     \n",
       "Flt3l_TTTGAGGGTTGCAGAG-1 ⋯ 0      0      0     0      0      0      0     \n",
       "Flt3l_TTTGTGTCAAATGCTC-1 ⋯ 0      0      0     0      0      0      0     \n",
       "                         X3003G X3514A X515G\n",
       "Input_AAACGAAAGGAAACTT-1 0      0      0    \n",
       "Input_AAACGAAGTCCAAGAG-1 0      0      0    \n",
       "Input_AAACGAAGTCCGAGCT-1 0      0      0    \n",
       "Input_AAACGAAGTTTGAAGA-1 0      0      0    \n",
       "Input_AAACGAATCCCAGTAA-1 0      0      0    \n",
       "Input_AAACGAATCCGGGCAT-1 0      0      0    \n",
       "Input_AAACGAATCCTGAAAC-1 0      0      0    \n",
       "Input_AAACGAATCGATGTGT-1 0      0      0    \n",
       "Input_AAACGAATCGCCAGAC-1 0      0      0    \n",
       "Input_AAACGAATCGTGAACT-1 0      0      0    \n",
       "Input_AAACTCGAGGAATGGA-1 0      0      0    \n",
       "Input_AAACTCGAGGTACACG-1 0      0      0    \n",
       "Input_AAACTCGCAAGACACG-1 0      0      0    \n",
       "Input_AAACTCGCACTGAAGG-1 0      0      0    \n",
       "Input_AAACTCGCACTGTTAG-1 0      0      0    \n",
       "Input_AAACTCGGTTGCCGCA-1 0      0      0    \n",
       "Input_AAACTCGTCGTGCTGG-1 0      0      0    \n",
       "Input_AAACTCGTCTGTAGAC-1 0      0      0    \n",
       "Input_AAACTGCAGGATGTAT-1 0      0      0    \n",
       "Input_AAACTGCAGTACAGAT-1 0      0      0    \n",
       "Input_AAACTGCAGTCTCTAG-1 0      0      0    \n",
       "Input_AAACTGCAGTGAAACT-1 0      0      0    \n",
       "Input_AAACTGCCAATTGGCT-1 0      0      0    \n",
       "Input_AAACTGCCACGTACAT-1 0      0      0    \n",
       "Input_AAACTGCTCAGTGTGT-1 0      0      0    \n",
       "Input_AAACTGCTCCTCCCAA-1 0      0      0    \n",
       "Input_AAACTGCTCGAGTTAC-1 0      0      0    \n",
       "Input_AAACTGCTCTCTCAAT-1 0      0      0    \n",
       "Input_AAAGATGAGAGGTGGG-1 0      0      0    \n",
       "Input_AAAGATGCAACTCAAC-1 0      0      0    \n",
       "⋮                        ⋮      ⋮      ⋮    \n",
       "Flt3l_TGTTAGGTCGGGAATG-1 0      0      0    \n",
       "Flt3l_TTAACGGGTACGGATG-1 0      0      0    \n",
       "Flt3l_TTAACGGGTGCGTTTA-1 0      0      0    \n",
       "Flt3l_TTACCCGGTAGAAAGG-1 0      0      0    \n",
       "Flt3l_TTACCGCCATGGATGG-1 0      0      0    \n",
       "Flt3l_TTACGGATCAGAACGG-1 0      0      0    \n",
       "Flt3l_TTACTCAGTGAGTAAT-1 0      0      0    \n",
       "Flt3l_TTACTCAGTGCCAAGA-1 0      0      0    \n",
       "Flt3l_TTACTCAGTGGACGAT-1 0      0      0    \n",
       "Flt3l_TTACTCATCTATCCTA-1 0      0      0    \n",
       "Flt3l_TTACTCATCTGATCCC-1 0      0      0    \n",
       "Flt3l_TTAGCGAGTACGGATG-1 0      0      0    \n",
       "Flt3l_TTAGCTTAGGTCGGTA-1 0      0      0    \n",
       "Flt3l_TTAGCTTCATTAAGGA-1 0      0      0    \n",
       "Flt3l_TTCAACTAGAGCACTG-1 0      0      0    \n",
       "Flt3l_TTCAACTGTGCCGGTT-1 0      0      0    \n",
       "Flt3l_TTCATTGAGGAGGCGA-1 0      0      0    \n",
       "Flt3l_TTCATTGAGTCCAGAG-1 0      0      0    \n",
       "Flt3l_TTCATTGTCTCTATCA-1 0      0      0    \n",
       "Flt3l_TTCGATTCACGCGCAT-1 0      0      0    \n",
       "Flt3l_TTCGGTCAGGGAGTTC-1 0      0      0    \n",
       "Flt3l_TTCGTTAGTATTCTTC-1 0      0      0    \n",
       "Flt3l_TTGCCCAGTTATAGAG-1 0      0      0    \n",
       "Flt3l_TTGCGAAAGACCGCAA-1 0      0      0    \n",
       "Flt3l_TTGCGGGAGCCATTCA-1 0      0      0    \n",
       "Flt3l_TTGCGGGAGGAGTCTG-1 0      0      0    \n",
       "Flt3l_TTTACGTCAAGCCAGA-1 0      0      0    \n",
       "Flt3l_TTTGAGGAGTCTCGAT-1 0      0      0    \n",
       "Flt3l_TTTGAGGGTTGCAGAG-1 0      0      0    \n",
       "Flt3l_TTTGTGTCAAATGCTC-1 0      0      0    "
      ]
     },
     "metadata": {},
     "output_type": "display_data"
    }
   ],
   "source": [
    "se.filt[[]]"
   ]
  },
  {
   "cell_type": "code",
   "execution_count": 16,
   "id": "7d75bc16",
   "metadata": {
    "scrolled": true
   },
   "outputs": [
    {
     "name": "stdout",
     "output_type": "stream",
     "text": [
      "[1] \"X11838A\"\n"
     ]
    },
    {
     "name": "stderr",
     "output_type": "stream",
     "text": [
      "Saving 6.67 x 6.67 in image\n",
      "\n",
      "Saving 6.67 x 6.67 in image\n",
      "\n"
     ]
    },
    {
     "name": "stdout",
     "output_type": "stream",
     "text": [
      "[1] \"X2514A\"\n"
     ]
    },
    {
     "name": "stderr",
     "output_type": "stream",
     "text": [
      "Saving 6.67 x 6.67 in image\n",
      "\n",
      "Saving 6.67 x 6.67 in image\n",
      "\n"
     ]
    },
    {
     "name": "stdout",
     "output_type": "stream",
     "text": [
      "[1] \"X7639T\"\n"
     ]
    },
    {
     "name": "stderr",
     "output_type": "stream",
     "text": [
      "Saving 6.67 x 6.67 in image\n",
      "\n",
      "Saving 6.67 x 6.67 in image\n",
      "\n"
     ]
    },
    {
     "name": "stdout",
     "output_type": "stream",
     "text": [
      "[1] \"X318A\"\n"
     ]
    },
    {
     "name": "stderr",
     "output_type": "stream",
     "text": [
      "Saving 6.67 x 6.67 in image\n",
      "\n",
      "Saving 6.67 x 6.67 in image\n",
      "\n"
     ]
    },
    {
     "name": "stdout",
     "output_type": "stream",
     "text": [
      "[1] \"X9173A\"\n"
     ]
    },
    {
     "name": "stderr",
     "output_type": "stream",
     "text": [
      "Saving 6.67 x 6.67 in image\n",
      "\n",
      "Saving 6.67 x 6.67 in image\n",
      "\n"
     ]
    },
    {
     "name": "stdout",
     "output_type": "stream",
     "text": [
      "[1] \"X14318C\"\n"
     ]
    },
    {
     "name": "stderr",
     "output_type": "stream",
     "text": [
      "Saving 6.67 x 6.67 in image\n",
      "\n",
      "Saving 6.67 x 6.67 in image\n",
      "\n"
     ]
    },
    {
     "name": "stdout",
     "output_type": "stream",
     "text": [
      "[1] \"X13263G\"\n"
     ]
    },
    {
     "name": "stderr",
     "output_type": "stream",
     "text": [
      "Saving 6.67 x 6.67 in image\n",
      "\n",
      "Saving 6.67 x 6.67 in image\n",
      "\n"
     ]
    },
    {
     "name": "stdout",
     "output_type": "stream",
     "text": [
      "[1] \"X7775A\"\n"
     ]
    },
    {
     "name": "stderr",
     "output_type": "stream",
     "text": [
      "Saving 6.67 x 6.67 in image\n",
      "\n",
      "Saving 6.67 x 6.67 in image\n",
      "\n"
     ]
    },
    {
     "name": "stdout",
     "output_type": "stream",
     "text": [
      "[1] \"X11719A\"\n"
     ]
    },
    {
     "name": "stderr",
     "output_type": "stream",
     "text": [
      "Saving 6.67 x 6.67 in image\n",
      "\n",
      "Saving 6.67 x 6.67 in image\n",
      "\n"
     ]
    },
    {
     "name": "stdout",
     "output_type": "stream",
     "text": [
      "[1] \"X2706G\"\n"
     ]
    },
    {
     "name": "stderr",
     "output_type": "stream",
     "text": [
      "Saving 6.67 x 6.67 in image\n",
      "\n",
      "Saving 6.67 x 6.67 in image\n",
      "\n"
     ]
    },
    {
     "name": "stdout",
     "output_type": "stream",
     "text": [
      "[1] \"X8701G\"\n"
     ]
    },
    {
     "name": "stderr",
     "output_type": "stream",
     "text": [
      "Saving 6.67 x 6.67 in image\n",
      "\n",
      "Saving 6.67 x 6.67 in image\n",
      "\n"
     ]
    },
    {
     "name": "stdout",
     "output_type": "stream",
     "text": [
      "[1] \"X7196A\"\n"
     ]
    },
    {
     "name": "stderr",
     "output_type": "stream",
     "text": [
      "Saving 6.67 x 6.67 in image\n",
      "\n",
      "Saving 6.67 x 6.67 in image\n",
      "\n"
     ]
    },
    {
     "name": "stdout",
     "output_type": "stream",
     "text": [
      "[1] \"X14783C\"\n"
     ]
    },
    {
     "name": "stderr",
     "output_type": "stream",
     "text": [
      "Saving 6.67 x 6.67 in image\n",
      "\n",
      "Saving 6.67 x 6.67 in image\n",
      "\n"
     ]
    },
    {
     "name": "stdout",
     "output_type": "stream",
     "text": [
      "[1] \"X12297C\"\n"
     ]
    },
    {
     "name": "stderr",
     "output_type": "stream",
     "text": [
      "Saving 6.67 x 6.67 in image\n",
      "\n",
      "Saving 6.67 x 6.67 in image\n",
      "\n"
     ]
    },
    {
     "name": "stdout",
     "output_type": "stream",
     "text": [
      "[1] \"X3552A\"\n"
     ]
    },
    {
     "name": "stderr",
     "output_type": "stream",
     "text": [
      "Saving 6.67 x 6.67 in image\n",
      "\n",
      "Saving 6.67 x 6.67 in image\n",
      "\n"
     ]
    },
    {
     "name": "stdout",
     "output_type": "stream",
     "text": [
      "[1] \"X7028T\"\n"
     ]
    },
    {
     "name": "stderr",
     "output_type": "stream",
     "text": [
      "Saving 6.67 x 6.67 in image\n",
      "\n",
      "Saving 6.67 x 6.67 in image\n",
      "\n"
     ]
    },
    {
     "name": "stdout",
     "output_type": "stream",
     "text": [
      "[1] \"X3010A\"\n"
     ]
    },
    {
     "name": "stderr",
     "output_type": "stream",
     "text": [
      "Saving 6.67 x 6.67 in image\n",
      "\n",
      "Saving 6.67 x 6.67 in image\n",
      "\n"
     ]
    },
    {
     "name": "stdout",
     "output_type": "stream",
     "text": [
      "[1] \"X4646C\"\n"
     ]
    },
    {
     "name": "stderr",
     "output_type": "stream",
     "text": [
      "Saving 6.67 x 6.67 in image\n",
      "\n",
      "Saving 6.67 x 6.67 in image\n",
      "\n"
     ]
    },
    {
     "name": "stdout",
     "output_type": "stream",
     "text": [
      "[1] \"X10873C\"\n"
     ]
    },
    {
     "name": "stderr",
     "output_type": "stream",
     "text": [
      "Saving 6.67 x 6.67 in image\n",
      "\n",
      "Saving 6.67 x 6.67 in image\n",
      "\n"
     ]
    },
    {
     "name": "stdout",
     "output_type": "stream",
     "text": [
      "[1] \"X11914A\"\n"
     ]
    },
    {
     "name": "stderr",
     "output_type": "stream",
     "text": [
      "Saving 6.67 x 6.67 in image\n",
      "\n",
      "Saving 6.67 x 6.67 in image\n",
      "\n"
     ]
    },
    {
     "name": "stdout",
     "output_type": "stream",
     "text": [
      "[1] \"X14766T\"\n"
     ]
    },
    {
     "name": "stderr",
     "output_type": "stream",
     "text": [
      "Saving 6.67 x 6.67 in image\n",
      "\n",
      "Saving 6.67 x 6.67 in image\n",
      "\n"
     ]
    },
    {
     "name": "stdout",
     "output_type": "stream",
     "text": [
      "[1] \"X4715G\"\n"
     ]
    },
    {
     "name": "stderr",
     "output_type": "stream",
     "text": [
      "Saving 6.67 x 6.67 in image\n",
      "\n",
      "Saving 6.67 x 6.67 in image\n",
      "\n"
     ]
    },
    {
     "name": "stdout",
     "output_type": "stream",
     "text": [
      "[1] \"X8642G\"\n"
     ]
    },
    {
     "name": "stderr",
     "output_type": "stream",
     "text": [
      "Saving 6.67 x 6.67 in image\n",
      "\n",
      "Saving 6.67 x 6.67 in image\n",
      "\n"
     ]
    },
    {
     "name": "stdout",
     "output_type": "stream",
     "text": [
      "[1] \"X7697A\"\n"
     ]
    },
    {
     "name": "stderr",
     "output_type": "stream",
     "text": [
      "Saving 6.67 x 6.67 in image\n",
      "\n",
      "Saving 6.67 x 6.67 in image\n",
      "\n"
     ]
    },
    {
     "name": "stdout",
     "output_type": "stream",
     "text": [
      "[1] \"X12308G\"\n"
     ]
    },
    {
     "name": "stderr",
     "output_type": "stream",
     "text": [
      "Saving 6.67 x 6.67 in image\n",
      "\n",
      "Saving 6.67 x 6.67 in image\n",
      "\n"
     ]
    },
    {
     "name": "stdout",
     "output_type": "stream",
     "text": [
      "[1] \"X2291T\"\n"
     ]
    },
    {
     "name": "stderr",
     "output_type": "stream",
     "text": [
      "Saving 6.67 x 6.67 in image\n",
      "\n",
      "Saving 6.67 x 6.67 in image\n",
      "\n"
     ]
    },
    {
     "name": "stdout",
     "output_type": "stream",
     "text": [
      "[1] \"X8584A\"\n"
     ]
    },
    {
     "name": "stderr",
     "output_type": "stream",
     "text": [
      "Saving 6.67 x 6.67 in image\n",
      "\n",
      "Saving 6.67 x 6.67 in image\n",
      "\n"
     ]
    },
    {
     "name": "stdout",
     "output_type": "stream",
     "text": [
      "[1] \"X11467G\"\n"
     ]
    },
    {
     "name": "stderr",
     "output_type": "stream",
     "text": [
      "Saving 6.67 x 6.67 in image\n",
      "\n",
      "Saving 6.67 x 6.67 in image\n",
      "\n"
     ]
    },
    {
     "name": "stdout",
     "output_type": "stream",
     "text": [
      "[1] \"X15301A\"\n"
     ]
    },
    {
     "name": "stderr",
     "output_type": "stream",
     "text": [
      "Saving 6.67 x 6.67 in image\n",
      "\n",
      "Saving 6.67 x 6.67 in image\n",
      "\n"
     ]
    },
    {
     "name": "stdout",
     "output_type": "stream",
     "text": [
      "[1] \"X5252A\"\n"
     ]
    },
    {
     "name": "stderr",
     "output_type": "stream",
     "text": [
      "Saving 6.67 x 6.67 in image\n",
      "\n",
      "Saving 6.67 x 6.67 in image\n",
      "\n"
     ]
    },
    {
     "name": "stdout",
     "output_type": "stream",
     "text": [
      "[1] \"X1040C\"\n"
     ]
    },
    {
     "name": "stderr",
     "output_type": "stream",
     "text": [
      "Saving 6.67 x 6.67 in image\n",
      "\n",
      "Saving 6.67 x 6.67 in image\n",
      "\n"
     ]
    },
    {
     "name": "stdout",
     "output_type": "stream",
     "text": [
      "[1] \"X3144G\"\n"
     ]
    },
    {
     "name": "stderr",
     "output_type": "stream",
     "text": [
      "Saving 6.67 x 6.67 in image\n",
      "\n",
      "Saving 6.67 x 6.67 in image\n",
      "\n"
     ]
    },
    {
     "name": "stdout",
     "output_type": "stream",
     "text": [
      "[1] \"X523C\"\n"
     ]
    },
    {
     "name": "stderr",
     "output_type": "stream",
     "text": [
      "Saving 6.67 x 6.67 in image\n",
      "\n",
      "Saving 6.67 x 6.67 in image\n",
      "\n"
     ]
    },
    {
     "name": "stdout",
     "output_type": "stream",
     "text": [
      "[1] \"X15043A\"\n"
     ]
    },
    {
     "name": "stderr",
     "output_type": "stream",
     "text": [
      "Saving 6.67 x 6.67 in image\n",
      "\n",
      "Saving 6.67 x 6.67 in image\n",
      "\n"
     ]
    },
    {
     "name": "stdout",
     "output_type": "stream",
     "text": [
      "[1] \"X5999C\"\n"
     ]
    },
    {
     "name": "stderr",
     "output_type": "stream",
     "text": [
      "Saving 6.67 x 6.67 in image\n",
      "\n",
      "Saving 6.67 x 6.67 in image\n",
      "\n"
     ]
    },
    {
     "name": "stdout",
     "output_type": "stream",
     "text": [
      "[1] \"X14620T\"\n"
     ]
    },
    {
     "name": "stderr",
     "output_type": "stream",
     "text": [
      "Saving 6.67 x 6.67 in image\n",
      "\n",
      "Saving 6.67 x 6.67 in image\n",
      "\n"
     ]
    },
    {
     "name": "stdout",
     "output_type": "stream",
     "text": [
      "[1] \"X73G\"\n"
     ]
    },
    {
     "name": "stderr",
     "output_type": "stream",
     "text": [
      "Saving 6.67 x 6.67 in image\n",
      "\n",
      "Saving 6.67 x 6.67 in image\n",
      "\n"
     ]
    },
    {
     "name": "stdout",
     "output_type": "stream",
     "text": [
      "[1] \"X6047G\"\n"
     ]
    },
    {
     "name": "stderr",
     "output_type": "stream",
     "text": [
      "Saving 6.67 x 6.67 in image\n",
      "\n",
      "Saving 6.67 x 6.67 in image\n",
      "\n"
     ]
    },
    {
     "name": "stdout",
     "output_type": "stream",
     "text": [
      "[1] \"X11339C\"\n"
     ]
    },
    {
     "name": "stderr",
     "output_type": "stream",
     "text": [
      "Saving 6.67 x 6.67 in image\n",
      "\n",
      "Saving 6.67 x 6.67 in image\n",
      "\n"
     ]
    },
    {
     "name": "stdout",
     "output_type": "stream",
     "text": [
      "[1] \"X10400T\"\n"
     ]
    },
    {
     "name": "stderr",
     "output_type": "stream",
     "text": [
      "Saving 6.67 x 6.67 in image\n",
      "\n",
      "Saving 6.67 x 6.67 in image\n",
      "\n"
     ]
    },
    {
     "name": "stdout",
     "output_type": "stream",
     "text": [
      "[1] \"X10516A\"\n"
     ]
    },
    {
     "name": "stderr",
     "output_type": "stream",
     "text": [
      "Saving 6.67 x 6.67 in image\n",
      "\n",
      "Saving 6.67 x 6.67 in image\n",
      "\n"
     ]
    },
    {
     "name": "stdout",
     "output_type": "stream",
     "text": [
      "[1] \"X11332T\"\n"
     ]
    },
    {
     "name": "stderr",
     "output_type": "stream",
     "text": [
      "Saving 6.67 x 6.67 in image\n",
      "\n",
      "Saving 6.67 x 6.67 in image\n",
      "\n"
     ]
    },
    {
     "name": "stdout",
     "output_type": "stream",
     "text": [
      "[1] \"X7705C\"\n"
     ]
    },
    {
     "name": "stderr",
     "output_type": "stream",
     "text": [
      "Saving 6.67 x 6.67 in image\n",
      "\n",
      "Saving 6.67 x 6.67 in image\n",
      "\n"
     ]
    },
    {
     "name": "stdout",
     "output_type": "stream",
     "text": [
      "[1] \"X3820A\"\n"
     ]
    },
    {
     "name": "stderr",
     "output_type": "stream",
     "text": [
      "Saving 6.67 x 6.67 in image\n",
      "\n",
      "Saving 6.67 x 6.67 in image\n",
      "\n"
     ]
    },
    {
     "name": "stdout",
     "output_type": "stream",
     "text": [
      "[1] \"X489C\"\n"
     ]
    },
    {
     "name": "stderr",
     "output_type": "stream",
     "text": [
      "Saving 6.67 x 6.67 in image\n",
      "\n",
      "Saving 6.67 x 6.67 in image\n",
      "\n"
     ]
    },
    {
     "name": "stdout",
     "output_type": "stream",
     "text": [
      "[1] \"X4837A\"\n"
     ]
    },
    {
     "name": "stderr",
     "output_type": "stream",
     "text": [
      "Saving 6.67 x 6.67 in image\n",
      "\n",
      "Saving 6.67 x 6.67 in image\n",
      "\n"
     ]
    },
    {
     "name": "stdout",
     "output_type": "stream",
     "text": [
      "[1] \"X12372A\"\n"
     ]
    },
    {
     "name": "stderr",
     "output_type": "stream",
     "text": [
      "Saving 6.67 x 6.67 in image\n",
      "\n",
      "Saving 6.67 x 6.67 in image\n",
      "\n"
     ]
    },
    {
     "name": "stdout",
     "output_type": "stream",
     "text": [
      "[1] \"X8770T\"\n"
     ]
    },
    {
     "name": "stderr",
     "output_type": "stream",
     "text": [
      "Saving 6.67 x 6.67 in image\n",
      "\n",
      "Saving 6.67 x 6.67 in image\n",
      "\n"
     ]
    },
    {
     "name": "stdout",
     "output_type": "stream",
     "text": [
      "[1] \"X1949A\"\n"
     ]
    },
    {
     "name": "stderr",
     "output_type": "stream",
     "text": [
      "Saving 6.67 x 6.67 in image\n",
      "\n",
      "Saving 6.67 x 6.67 in image\n",
      "\n"
     ]
    },
    {
     "name": "stdout",
     "output_type": "stream",
     "text": [
      "[1] \"X4117C\"\n"
     ]
    },
    {
     "name": "stderr",
     "output_type": "stream",
     "text": [
      "Saving 6.67 x 6.67 in image\n",
      "\n",
      "Saving 6.67 x 6.67 in image\n",
      "\n"
     ]
    },
    {
     "name": "stdout",
     "output_type": "stream",
     "text": [
      "[1] \"X3672G\"\n"
     ]
    },
    {
     "name": "stderr",
     "output_type": "stream",
     "text": [
      "Saving 6.67 x 6.67 in image\n",
      "\n",
      "Saving 6.67 x 6.67 in image\n",
      "\n"
     ]
    },
    {
     "name": "stdout",
     "output_type": "stream",
     "text": [
      "[1] \"X14905A\"\n"
     ]
    },
    {
     "name": "stderr",
     "output_type": "stream",
     "text": [
      "Saving 6.67 x 6.67 in image\n",
      "\n",
      "Saving 6.67 x 6.67 in image\n",
      "\n"
     ]
    },
    {
     "name": "stdout",
     "output_type": "stream",
     "text": [
      "[1] \"X10559G\"\n"
     ]
    },
    {
     "name": "stderr",
     "output_type": "stream",
     "text": [
      "Saving 6.67 x 6.67 in image\n",
      "\n",
      "Saving 6.67 x 6.67 in image\n",
      "\n"
     ]
    },
    {
     "name": "stdout",
     "output_type": "stream",
     "text": [
      "[1] \"X3630A\"\n"
     ]
    },
    {
     "name": "stderr",
     "output_type": "stream",
     "text": [
      "Saving 6.67 x 6.67 in image\n",
      "\n",
      "Saving 6.67 x 6.67 in image\n",
      "\n"
     ]
    },
    {
     "name": "stdout",
     "output_type": "stream",
     "text": [
      "[1] \"X5147A\"\n"
     ]
    },
    {
     "name": "stderr",
     "output_type": "stream",
     "text": [
      "Saving 6.67 x 6.67 in image\n",
      "\n",
      "Saving 6.67 x 6.67 in image\n",
      "\n"
     ]
    },
    {
     "name": "stdout",
     "output_type": "stream",
     "text": [
      "[1] \"X13108A\"\n"
     ]
    },
    {
     "name": "stderr",
     "output_type": "stream",
     "text": [
      "Saving 6.67 x 6.67 in image\n",
      "\n",
      "Saving 6.67 x 6.67 in image\n",
      "\n"
     ]
    },
    {
     "name": "stdout",
     "output_type": "stream",
     "text": [
      "[1] \"X15693C\"\n"
     ]
    },
    {
     "name": "stderr",
     "output_type": "stream",
     "text": [
      "Saving 6.67 x 6.67 in image\n",
      "\n",
      "Saving 6.67 x 6.67 in image\n",
      "\n"
     ]
    },
    {
     "name": "stdout",
     "output_type": "stream",
     "text": [
      "[1] \"X12705T\"\n"
     ]
    },
    {
     "name": "stderr",
     "output_type": "stream",
     "text": [
      "Saving 6.67 x 6.67 in image\n",
      "\n",
      "Saving 6.67 x 6.67 in image\n",
      "\n"
     ]
    },
    {
     "name": "stdout",
     "output_type": "stream",
     "text": [
      "[1] \"X14233G\"\n"
     ]
    },
    {
     "name": "stderr",
     "output_type": "stream",
     "text": [
      "Saving 6.67 x 6.67 in image\n",
      "\n",
      "Saving 6.67 x 6.67 in image\n",
      "\n"
     ]
    },
    {
     "name": "stdout",
     "output_type": "stream",
     "text": [
      "[1] \"X1199T\"\n"
     ]
    },
    {
     "name": "stderr",
     "output_type": "stream",
     "text": [
      "Saving 6.67 x 6.67 in image\n",
      "\n",
      "Saving 6.67 x 6.67 in image\n",
      "\n"
     ]
    },
    {
     "name": "stdout",
     "output_type": "stream",
     "text": [
      "[1] \"X15607G\"\n"
     ]
    },
    {
     "name": "stderr",
     "output_type": "stream",
     "text": [
      "Saving 6.67 x 6.67 in image\n",
      "\n",
      "Saving 6.67 x 6.67 in image\n",
      "\n"
     ]
    },
    {
     "name": "stdout",
     "output_type": "stream",
     "text": [
      "[1] \"X1888A\"\n"
     ]
    },
    {
     "name": "stderr",
     "output_type": "stream",
     "text": [
      "Saving 6.67 x 6.67 in image\n",
      "\n",
      "Saving 6.67 x 6.67 in image\n",
      "\n"
     ]
    },
    {
     "name": "stdout",
     "output_type": "stream",
     "text": [
      "[1] \"X11812G\"\n"
     ]
    },
    {
     "name": "stderr",
     "output_type": "stream",
     "text": [
      "Saving 6.67 x 6.67 in image\n",
      "\n",
      "Saving 6.67 x 6.67 in image\n",
      "\n"
     ]
    },
    {
     "name": "stdout",
     "output_type": "stream",
     "text": [
      "[1] \"X2083C\"\n"
     ]
    },
    {
     "name": "stderr",
     "output_type": "stream",
     "text": [
      "Saving 6.67 x 6.67 in image\n",
      "\n",
      "Saving 6.67 x 6.67 in image\n",
      "\n"
     ]
    },
    {
     "name": "stdout",
     "output_type": "stream",
     "text": [
      "[1] \"X2875G\"\n"
     ]
    },
    {
     "name": "stderr",
     "output_type": "stream",
     "text": [
      "Saving 6.67 x 6.67 in image\n",
      "\n",
      "Saving 6.67 x 6.67 in image\n",
      "\n"
     ]
    },
    {
     "name": "stdout",
     "output_type": "stream",
     "text": [
      "[1] \"X4216C\"\n"
     ]
    },
    {
     "name": "stderr",
     "output_type": "stream",
     "text": [
      "Saving 6.67 x 6.67 in image\n",
      "\n",
      "Saving 6.67 x 6.67 in image\n",
      "\n"
     ]
    },
    {
     "name": "stdout",
     "output_type": "stream",
     "text": [
      "[1] \"X9087A\"\n"
     ]
    },
    {
     "name": "stderr",
     "output_type": "stream",
     "text": [
      "Saving 6.67 x 6.67 in image\n",
      "\n",
      "Saving 6.67 x 6.67 in image\n",
      "\n"
     ]
    },
    {
     "name": "stdout",
     "output_type": "stream",
     "text": [
      "[1] \"X16519C\"\n"
     ]
    },
    {
     "name": "stderr",
     "output_type": "stream",
     "text": [
      "Saving 6.67 x 6.67 in image\n",
      "\n",
      "Saving 6.67 x 6.67 in image\n",
      "\n"
     ]
    },
    {
     "name": "stdout",
     "output_type": "stream",
     "text": [
      "[1] \"X290T\"\n"
     ]
    },
    {
     "name": "stderr",
     "output_type": "stream",
     "text": [
      "Saving 6.67 x 6.67 in image\n",
      "\n",
      "Saving 6.67 x 6.67 in image\n",
      "\n"
     ]
    },
    {
     "name": "stdout",
     "output_type": "stream",
     "text": [
      "[1] \"X5580C\"\n"
     ]
    },
    {
     "name": "stderr",
     "output_type": "stream",
     "text": [
      "Saving 6.67 x 6.67 in image\n",
      "\n",
      "Saving 6.67 x 6.67 in image\n",
      "\n"
     ]
    },
    {
     "name": "stdout",
     "output_type": "stream",
     "text": [
      "[1] \"X9545G\"\n"
     ]
    },
    {
     "name": "stderr",
     "output_type": "stream",
     "text": [
      "Saving 6.67 x 6.67 in image\n",
      "\n",
      "Saving 6.67 x 6.67 in image\n",
      "\n"
     ]
    },
    {
     "name": "stdout",
     "output_type": "stream",
     "text": [
      "[1] \"X9540C\"\n"
     ]
    },
    {
     "name": "stderr",
     "output_type": "stream",
     "text": [
      "Saving 6.67 x 6.67 in image\n",
      "\n",
      "Saving 6.67 x 6.67 in image\n",
      "\n"
     ]
    },
    {
     "name": "stdout",
     "output_type": "stream",
     "text": [
      "[1] \"X4917G\"\n"
     ]
    },
    {
     "name": "stderr",
     "output_type": "stream",
     "text": [
      "Saving 6.67 x 6.67 in image\n",
      "\n",
      "Saving 6.67 x 6.67 in image\n",
      "\n"
     ]
    },
    {
     "name": "stdout",
     "output_type": "stream",
     "text": [
      "[1] \"X7689A\"\n"
     ]
    },
    {
     "name": "stderr",
     "output_type": "stream",
     "text": [
      "Saving 6.67 x 6.67 in image\n",
      "\n",
      "Saving 6.67 x 6.67 in image\n",
      "\n"
     ]
    },
    {
     "name": "stdout",
     "output_type": "stream",
     "text": [
      "[1] \"X15184C\"\n"
     ]
    },
    {
     "name": "stderr",
     "output_type": "stream",
     "text": [
      "Saving 6.67 x 6.67 in image\n",
      "\n",
      "Saving 6.67 x 6.67 in image\n",
      "\n"
     ]
    },
    {
     "name": "stdout",
     "output_type": "stream",
     "text": [
      "[1] \"X1811G\"\n"
     ]
    },
    {
     "name": "stderr",
     "output_type": "stream",
     "text": [
      "Saving 6.67 x 6.67 in image\n",
      "\n",
      "Saving 6.67 x 6.67 in image\n",
      "\n"
     ]
    },
    {
     "name": "stdout",
     "output_type": "stream",
     "text": [
      "[1] \"X499A\"\n"
     ]
    },
    {
     "name": "stderr",
     "output_type": "stream",
     "text": [
      "Saving 6.67 x 6.67 in image\n",
      "\n",
      "Saving 6.67 x 6.67 in image\n",
      "\n"
     ]
    },
    {
     "name": "stdout",
     "output_type": "stream",
     "text": [
      "[1] \"X16362C\"\n"
     ]
    },
    {
     "name": "stderr",
     "output_type": "stream",
     "text": [
      "Saving 6.67 x 6.67 in image\n",
      "\n",
      "Saving 6.67 x 6.67 in image\n",
      "\n"
     ]
    },
    {
     "name": "stdout",
     "output_type": "stream",
     "text": [
      "[1] \"X13368A\"\n"
     ]
    },
    {
     "name": "stderr",
     "output_type": "stream",
     "text": [
      "Saving 6.67 x 6.67 in image\n",
      "\n",
      "Saving 6.67 x 6.67 in image\n",
      "\n"
     ]
    },
    {
     "name": "stdout",
     "output_type": "stream",
     "text": [
      "[1] \"X15452A\"\n"
     ]
    },
    {
     "name": "stderr",
     "output_type": "stream",
     "text": [
      "Saving 6.67 x 6.67 in image\n",
      "\n",
      "Saving 6.67 x 6.67 in image\n",
      "\n"
     ]
    },
    {
     "name": "stdout",
     "output_type": "stream",
     "text": [
      "[1] \"X477C\"\n"
     ]
    },
    {
     "name": "stderr",
     "output_type": "stream",
     "text": [
      "Saving 6.67 x 6.67 in image\n",
      "\n",
      "Saving 6.67 x 6.67 in image\n",
      "\n"
     ]
    },
    {
     "name": "stdout",
     "output_type": "stream",
     "text": [
      "[1] \"X8118A\"\n"
     ]
    },
    {
     "name": "stderr",
     "output_type": "stream",
     "text": [
      "Saving 6.67 x 6.67 in image\n",
      "\n",
      "Saving 6.67 x 6.67 in image\n",
      "\n"
     ]
    },
    {
     "name": "stdout",
     "output_type": "stream",
     "text": [
      "[1] \"X16356C\"\n"
     ]
    },
    {
     "name": "stderr",
     "output_type": "stream",
     "text": [
      "Saving 6.67 x 6.67 in image\n",
      "\n",
      "Saving 6.67 x 6.67 in image\n",
      "\n"
     ]
    },
    {
     "name": "stdout",
     "output_type": "stream",
     "text": [
      "[1] \"X11204C\"\n"
     ]
    },
    {
     "name": "stderr",
     "output_type": "stream",
     "text": [
      "Saving 6.67 x 6.67 in image\n",
      "\n",
      "Saving 6.67 x 6.67 in image\n",
      "\n"
     ]
    },
    {
     "name": "stdout",
     "output_type": "stream",
     "text": [
      "[1] \"X14861A\"\n"
     ]
    },
    {
     "name": "stderr",
     "output_type": "stream",
     "text": [
      "Saving 6.67 x 6.67 in image\n",
      "\n",
      "Saving 6.67 x 6.67 in image\n",
      "\n"
     ]
    },
    {
     "name": "stdout",
     "output_type": "stream",
     "text": [
      "[1] \"X930A\"\n"
     ]
    },
    {
     "name": "stderr",
     "output_type": "stream",
     "text": [
      "Saving 6.67 x 6.67 in image\n",
      "\n",
      "Saving 6.67 x 6.67 in image\n",
      "\n"
     ]
    },
    {
     "name": "stdout",
     "output_type": "stream",
     "text": [
      "[1] \"X15789T\"\n"
     ]
    },
    {
     "name": "stderr",
     "output_type": "stream",
     "text": [
      "Saving 6.67 x 6.67 in image\n",
      "\n",
      "Saving 6.67 x 6.67 in image\n",
      "\n"
     ]
    },
    {
     "name": "stdout",
     "output_type": "stream",
     "text": [
      "[1] \"X8352A\"\n"
     ]
    },
    {
     "name": "stderr",
     "output_type": "stream",
     "text": [
      "Saving 6.67 x 6.67 in image\n",
      "\n",
      "Saving 6.67 x 6.67 in image\n",
      "\n"
     ]
    },
    {
     "name": "stdout",
     "output_type": "stream",
     "text": [
      "[1] \"X10646A\"\n"
     ]
    },
    {
     "name": "stderr",
     "output_type": "stream",
     "text": [
      "Saving 6.67 x 6.67 in image\n",
      "\n",
      "Saving 6.67 x 6.67 in image\n",
      "\n"
     ]
    },
    {
     "name": "stdout",
     "output_type": "stream",
     "text": [
      "[1] \"X4248C\"\n"
     ]
    },
    {
     "name": "stderr",
     "output_type": "stream",
     "text": [
      "Saving 6.67 x 6.67 in image\n",
      "\n",
      "Saving 6.67 x 6.67 in image\n",
      "\n"
     ]
    },
    {
     "name": "stdout",
     "output_type": "stream",
     "text": [
      "[1] \"X16126C\"\n"
     ]
    },
    {
     "name": "stderr",
     "output_type": "stream",
     "text": [
      "Saving 6.67 x 6.67 in image\n",
      "\n",
      "Saving 6.67 x 6.67 in image\n",
      "\n"
     ]
    },
    {
     "name": "stdout",
     "output_type": "stream",
     "text": [
      "[1] \"X6456A\"\n"
     ]
    },
    {
     "name": "stderr",
     "output_type": "stream",
     "text": [
      "Saving 6.67 x 6.67 in image\n",
      "\n",
      "Saving 6.67 x 6.67 in image\n",
      "\n"
     ]
    },
    {
     "name": "stdout",
     "output_type": "stream",
     "text": [
      "[1] \"X8697A\"\n"
     ]
    },
    {
     "name": "stderr",
     "output_type": "stream",
     "text": [
      "Saving 6.67 x 6.67 in image\n",
      "\n",
      "Saving 6.67 x 6.67 in image\n",
      "\n"
     ]
    },
    {
     "name": "stdout",
     "output_type": "stream",
     "text": [
      "[1] \"X16327T\"\n"
     ]
    },
    {
     "name": "stderr",
     "output_type": "stream",
     "text": [
      "Saving 6.67 x 6.67 in image\n",
      "\n",
      "Saving 6.67 x 6.67 in image\n",
      "\n"
     ]
    },
    {
     "name": "stdout",
     "output_type": "stream",
     "text": [
      "[1] \"X16325C\"\n"
     ]
    },
    {
     "name": "stderr",
     "output_type": "stream",
     "text": [
      "Saving 6.67 x 6.67 in image\n",
      "\n",
      "Saving 6.67 x 6.67 in image\n",
      "\n"
     ]
    },
    {
     "name": "stdout",
     "output_type": "stream",
     "text": [
      "[1] \"X5496G\"\n"
     ]
    },
    {
     "name": "stderr",
     "output_type": "stream",
     "text": [
      "Saving 6.67 x 6.67 in image\n",
      "\n",
      "Saving 6.67 x 6.67 in image\n",
      "\n"
     ]
    },
    {
     "name": "stdout",
     "output_type": "stream",
     "text": [
      "[1] \"X4820T\"\n"
     ]
    },
    {
     "name": "stderr",
     "output_type": "stream",
     "text": [
      "Saving 6.67 x 6.67 in image\n",
      "\n",
      "Saving 6.67 x 6.67 in image\n",
      "\n"
     ]
    },
    {
     "name": "stdout",
     "output_type": "stream",
     "text": [
      "[1] \"X16304C\"\n"
     ]
    },
    {
     "name": "stderr",
     "output_type": "stream",
     "text": [
      "Saving 6.67 x 6.67 in image\n",
      "\n",
      "Saving 6.67 x 6.67 in image\n",
      "\n"
     ]
    },
    {
     "name": "stdout",
     "output_type": "stream",
     "text": [
      "[1] \"X709A\"\n"
     ]
    },
    {
     "name": "stderr",
     "output_type": "stream",
     "text": [
      "Saving 6.67 x 6.67 in image\n",
      "\n",
      "Saving 6.67 x 6.67 in image\n",
      "\n"
     ]
    },
    {
     "name": "stdout",
     "output_type": "stream",
     "text": [
      "[1] \"X10398G\"\n"
     ]
    },
    {
     "name": "stderr",
     "output_type": "stream",
     "text": [
      "Saving 6.67 x 6.67 in image\n",
      "\n",
      "Saving 6.67 x 6.67 in image\n",
      "\n"
     ]
    },
    {
     "name": "stdout",
     "output_type": "stream",
     "text": [
      "[1] \"X15122G\"\n"
     ]
    },
    {
     "name": "stderr",
     "output_type": "stream",
     "text": [
      "Saving 6.67 x 6.67 in image\n",
      "\n",
      "Saving 6.67 x 6.67 in image\n",
      "\n"
     ]
    },
    {
     "name": "stdout",
     "output_type": "stream",
     "text": [
      "[1] \"X6043A\"\n"
     ]
    },
    {
     "name": "stderr",
     "output_type": "stream",
     "text": [
      "Saving 6.67 x 6.67 in image\n",
      "\n",
      "Saving 6.67 x 6.67 in image\n",
      "\n"
     ]
    },
    {
     "name": "stdout",
     "output_type": "stream",
     "text": [
      "[1] \"X5585T\"\n"
     ]
    },
    {
     "name": "stderr",
     "output_type": "stream",
     "text": [
      "Saving 6.67 x 6.67 in image\n",
      "\n",
      "Saving 6.67 x 6.67 in image\n",
      "\n"
     ]
    },
    {
     "name": "stdout",
     "output_type": "stream",
     "text": [
      "[1] \"X16051G\"\n"
     ]
    },
    {
     "name": "stderr",
     "output_type": "stream",
     "text": [
      "Saving 6.67 x 6.67 in image\n",
      "\n",
      "Saving 6.67 x 6.67 in image\n",
      "\n"
     ]
    },
    {
     "name": "stdout",
     "output_type": "stream",
     "text": [
      "[1] \"X15487T\"\n"
     ]
    },
    {
     "name": "stderr",
     "output_type": "stream",
     "text": [
      "Saving 6.67 x 6.67 in image\n",
      "\n",
      "Saving 6.67 x 6.67 in image\n",
      "\n"
     ]
    },
    {
     "name": "stdout",
     "output_type": "stream",
     "text": [
      "[1] \"X10463C\"\n"
     ]
    },
    {
     "name": "stderr",
     "output_type": "stream",
     "text": [
      "Saving 6.67 x 6.67 in image\n",
      "\n",
      "Saving 6.67 x 6.67 in image\n",
      "\n"
     ]
    },
    {
     "name": "stdout",
     "output_type": "stream",
     "text": [
      "[1] \"X16294T\"\n"
     ]
    },
    {
     "name": "stderr",
     "output_type": "stream",
     "text": [
      "Saving 6.67 x 6.67 in image\n",
      "\n",
      "Saving 6.67 x 6.67 in image\n",
      "\n"
     ]
    },
    {
     "name": "stdout",
     "output_type": "stream",
     "text": [
      "[1] \"X9899C\"\n"
     ]
    },
    {
     "name": "stderr",
     "output_type": "stream",
     "text": [
      "Saving 6.67 x 6.67 in image\n",
      "\n",
      "Saving 6.67 x 6.67 in image\n",
      "\n"
     ]
    },
    {
     "name": "stdout",
     "output_type": "stream",
     "text": [
      "[1] \"X16296T\"\n"
     ]
    },
    {
     "name": "stderr",
     "output_type": "stream",
     "text": [
      "Saving 6.67 x 6.67 in image\n",
      "\n",
      "Saving 6.67 x 6.67 in image\n",
      "\n"
     ]
    },
    {
     "name": "stdout",
     "output_type": "stream",
     "text": [
      "[1] \"X15924G\"\n"
     ]
    },
    {
     "name": "stderr",
     "output_type": "stream",
     "text": [
      "Saving 6.67 x 6.67 in image\n",
      "\n",
      "Saving 6.67 x 6.67 in image\n",
      "\n"
     ]
    },
    {
     "name": "stdout",
     "output_type": "stream",
     "text": [
      "[1] \"X11251G\"\n"
     ]
    },
    {
     "name": "stderr",
     "output_type": "stream",
     "text": [
      "Saving 6.67 x 6.67 in image\n",
      "\n",
      "Saving 6.67 x 6.67 in image\n",
      "\n"
     ]
    },
    {
     "name": "stdout",
     "output_type": "stream",
     "text": [
      "[1] \"X16223T\"\n"
     ]
    },
    {
     "name": "stderr",
     "output_type": "stream",
     "text": [
      "Saving 6.67 x 6.67 in image\n",
      "\n",
      "Saving 6.67 x 6.67 in image\n",
      "\n"
     ]
    },
    {
     "name": "stdout",
     "output_type": "stream",
     "text": [
      "[1] \"X16298C\"\n"
     ]
    },
    {
     "name": "stderr",
     "output_type": "stream",
     "text": [
      "Saving 6.67 x 6.67 in image\n",
      "\n",
      "Saving 6.67 x 6.67 in image\n",
      "\n"
     ]
    },
    {
     "name": "stdout",
     "output_type": "stream",
     "text": [
      "[1] \"X13068G\"\n"
     ]
    },
    {
     "name": "stderr",
     "output_type": "stream",
     "text": [
      "Saving 6.67 x 6.67 in image\n",
      "\n",
      "Saving 6.67 x 6.67 in image\n",
      "\n"
     ]
    },
    {
     "name": "stdout",
     "output_type": "stream",
     "text": [
      "[1] \"X3655A\"\n"
     ]
    },
    {
     "name": "stderr",
     "output_type": "stream",
     "text": [
      "Saving 6.67 x 6.67 in image\n",
      "\n",
      "Saving 6.67 x 6.67 in image\n",
      "\n"
     ]
    },
    {
     "name": "stdout",
     "output_type": "stream",
     "text": [
      "[1] \"X15928A\"\n"
     ]
    },
    {
     "name": "stderr",
     "output_type": "stream",
     "text": [
      "Saving 6.67 x 6.67 in image\n",
      "\n",
      "Saving 6.67 x 6.67 in image\n",
      "\n"
     ]
    },
    {
     "name": "stdout",
     "output_type": "stream",
     "text": [
      "[1] \"X4806A\"\n"
     ]
    },
    {
     "name": "stderr",
     "output_type": "stream",
     "text": [
      "Saving 6.67 x 6.67 in image\n",
      "\n",
      "Saving 6.67 x 6.67 in image\n",
      "\n"
     ]
    },
    {
     "name": "stdout",
     "output_type": "stream",
     "text": [
      "[1] \"X1847A\"\n"
     ]
    },
    {
     "name": "stderr",
     "output_type": "stream",
     "text": [
      "Saving 6.67 x 6.67 in image\n",
      "\n",
      "Saving 6.67 x 6.67 in image\n",
      "\n"
     ]
    },
    {
     "name": "stdout",
     "output_type": "stream",
     "text": [
      "[1] \"X11382A\"\n"
     ]
    },
    {
     "name": "stderr",
     "output_type": "stream",
     "text": [
      "Saving 6.67 x 6.67 in image\n",
      "\n",
      "Saving 6.67 x 6.67 in image\n",
      "\n"
     ]
    },
    {
     "name": "stdout",
     "output_type": "stream",
     "text": [
      "[1] \"X195C\"\n"
     ]
    },
    {
     "name": "stderr",
     "output_type": "stream",
     "text": [
      "Saving 6.67 x 6.67 in image\n",
      "\n",
      "Saving 6.67 x 6.67 in image\n",
      "\n"
     ]
    },
    {
     "name": "stdout",
     "output_type": "stream",
     "text": [
      "[1] \"X7849T\"\n"
     ]
    },
    {
     "name": "stderr",
     "output_type": "stream",
     "text": [
      "Saving 6.67 x 6.67 in image\n",
      "\n",
      "Saving 6.67 x 6.67 in image\n",
      "\n"
     ]
    },
    {
     "name": "stdout",
     "output_type": "stream",
     "text": [
      "[1] \"X8276A\"\n"
     ]
    },
    {
     "name": "stderr",
     "output_type": "stream",
     "text": [
      "Saving 6.67 x 6.67 in image\n",
      "\n",
      "Saving 6.67 x 6.67 in image\n",
      "\n"
     ]
    },
    {
     "name": "stdout",
     "output_type": "stream",
     "text": [
      "[1] \"X3296A\"\n"
     ]
    },
    {
     "name": "stderr",
     "output_type": "stream",
     "text": [
      "Saving 6.67 x 6.67 in image\n",
      "\n",
      "Saving 6.67 x 6.67 in image\n",
      "\n"
     ]
    },
    {
     "name": "stdout",
     "output_type": "stream",
     "text": [
      "[1] \"X150T\"\n"
     ]
    },
    {
     "name": "stderr",
     "output_type": "stream",
     "text": [
      "Saving 6.67 x 6.67 in image\n",
      "\n",
      "Saving 6.67 x 6.67 in image\n",
      "\n"
     ]
    },
    {
     "name": "stdout",
     "output_type": "stream",
     "text": [
      "[1] \"X10571T\"\n"
     ]
    },
    {
     "name": "stderr",
     "output_type": "stream",
     "text": [
      "Saving 6.67 x 6.67 in image\n",
      "\n",
      "Saving 6.67 x 6.67 in image\n",
      "\n"
     ]
    },
    {
     "name": "stdout",
     "output_type": "stream",
     "text": [
      "[1] \"X13094A\"\n"
     ]
    },
    {
     "name": "stderr",
     "output_type": "stream",
     "text": [
      "Saving 6.67 x 6.67 in image\n",
      "\n",
      "Saving 6.67 x 6.67 in image\n",
      "\n"
     ]
    },
    {
     "name": "stdout",
     "output_type": "stream",
     "text": [
      "[1] \"X9590T\"\n"
     ]
    },
    {
     "name": "stderr",
     "output_type": "stream",
     "text": [
      "Saving 6.67 x 6.67 in image\n",
      "\n",
      "Saving 6.67 x 6.67 in image\n",
      "\n"
     ]
    },
    {
     "name": "stdout",
     "output_type": "stream",
     "text": [
      "[1] \"X983T\"\n"
     ]
    },
    {
     "name": "stderr",
     "output_type": "stream",
     "text": [
      "Saving 6.67 x 6.67 in image\n",
      "\n",
      "Saving 6.67 x 6.67 in image\n",
      "\n"
     ]
    },
    {
     "name": "stdout",
     "output_type": "stream",
     "text": [
      "[1] \"X15235C\"\n"
     ]
    },
    {
     "name": "stderr",
     "output_type": "stream",
     "text": [
      "Saving 6.67 x 6.67 in image\n",
      "\n",
      "Saving 6.67 x 6.67 in image\n",
      "\n"
     ]
    },
    {
     "name": "stdout",
     "output_type": "stream",
     "text": [
      "[1] \"X4100A\"\n"
     ]
    },
    {
     "name": "stderr",
     "output_type": "stream",
     "text": [
      "Saving 6.67 x 6.67 in image\n",
      "\n",
      "Saving 6.67 x 6.67 in image\n",
      "\n"
     ]
    },
    {
     "name": "stdout",
     "output_type": "stream",
     "text": [
      "[1] \"X62A\"\n"
     ]
    },
    {
     "name": "stderr",
     "output_type": "stream",
     "text": [
      "Saving 6.67 x 6.67 in image\n",
      "\n",
      "Saving 6.67 x 6.67 in image\n",
      "\n"
     ]
    },
    {
     "name": "stdout",
     "output_type": "stream",
     "text": [
      "[1] \"X15821A\"\n"
     ]
    },
    {
     "name": "stderr",
     "output_type": "stream",
     "text": [
      "Saving 6.67 x 6.67 in image\n",
      "\n",
      "Saving 6.67 x 6.67 in image\n",
      "\n"
     ]
    },
    {
     "name": "stdout",
     "output_type": "stream",
     "text": [
      "[1] \"X16150T\"\n"
     ]
    },
    {
     "name": "stderr",
     "output_type": "stream",
     "text": [
      "Saving 6.67 x 6.67 in image\n",
      "\n",
      "Saving 6.67 x 6.67 in image\n",
      "\n"
     ]
    },
    {
     "name": "stdout",
     "output_type": "stream",
     "text": [
      "[1] \"X8908A\"\n"
     ]
    },
    {
     "name": "stderr",
     "output_type": "stream",
     "text": [
      "Saving 6.67 x 6.67 in image\n",
      "\n",
      "Saving 6.67 x 6.67 in image\n",
      "\n"
     ]
    },
    {
     "name": "stdout",
     "output_type": "stream",
     "text": [
      "[1] \"X7579C\"\n"
     ]
    },
    {
     "name": "stderr",
     "output_type": "stream",
     "text": [
      "Saving 6.67 x 6.67 in image\n",
      "\n",
      "Saving 6.67 x 6.67 in image\n",
      "\n"
     ]
    },
    {
     "name": "stdout",
     "output_type": "stream",
     "text": [
      "[1] \"X16220C\"\n"
     ]
    },
    {
     "name": "stderr",
     "output_type": "stream",
     "text": [
      "Saving 6.67 x 6.67 in image\n",
      "\n",
      "Saving 6.67 x 6.67 in image\n",
      "\n"
     ]
    },
    {
     "name": "stdout",
     "output_type": "stream",
     "text": [
      "[1] \"X12283T\"\n"
     ]
    },
    {
     "name": "stderr",
     "output_type": "stream",
     "text": [
      "Saving 6.67 x 6.67 in image\n",
      "\n",
      "Saving 6.67 x 6.67 in image\n",
      "\n"
     ]
    },
    {
     "name": "stdout",
     "output_type": "stream",
     "text": [
      "[1] \"X12723C\"\n"
     ]
    },
    {
     "name": "stderr",
     "output_type": "stream",
     "text": [
      "Saving 6.67 x 6.67 in image\n",
      "\n",
      "Saving 6.67 x 6.67 in image\n",
      "\n"
     ]
    },
    {
     "name": "stdout",
     "output_type": "stream",
     "text": [
      "[1] \"X3554A\"\n"
     ]
    },
    {
     "name": "stderr",
     "output_type": "stream",
     "text": [
      "Saving 6.67 x 6.67 in image\n",
      "\n",
      "Saving 6.67 x 6.67 in image\n",
      "\n"
     ]
    },
    {
     "name": "stdout",
     "output_type": "stream",
     "text": [
      "[1] \"X1551T\"\n"
     ]
    },
    {
     "name": "stderr",
     "output_type": "stream",
     "text": [
      "Saving 6.67 x 6.67 in image\n",
      "\n",
      "Saving 6.67 x 6.67 in image\n",
      "\n"
     ]
    },
    {
     "name": "stdout",
     "output_type": "stream",
     "text": [
      "[1] \"X302C\"\n"
     ]
    },
    {
     "name": "stderr",
     "output_type": "stream",
     "text": [
      "Saving 6.67 x 6.67 in image\n",
      "\n",
      "Saving 6.67 x 6.67 in image\n",
      "\n"
     ]
    },
    {
     "name": "stdout",
     "output_type": "stream",
     "text": [
      "[1] \"X10302T\"\n"
     ]
    },
    {
     "name": "stderr",
     "output_type": "stream",
     "text": [
      "Saving 6.67 x 6.67 in image\n",
      "\n",
      "Saving 6.67 x 6.67 in image\n",
      "\n"
     ]
    },
    {
     "name": "stdout",
     "output_type": "stream",
     "text": [
      "[1] \"X9640T\"\n"
     ]
    },
    {
     "name": "stderr",
     "output_type": "stream",
     "text": [
      "Saving 6.67 x 6.67 in image\n",
      "\n",
      "Saving 6.67 x 6.67 in image\n",
      "\n"
     ]
    },
    {
     "name": "stdout",
     "output_type": "stream",
     "text": [
      "[1] \"X8609A\"\n"
     ]
    },
    {
     "name": "stderr",
     "output_type": "stream",
     "text": [
      "Saving 6.67 x 6.67 in image\n",
      "\n",
      "Saving 6.67 x 6.67 in image\n",
      "\n"
     ]
    },
    {
     "name": "stdout",
     "output_type": "stream",
     "text": [
      "[1] \"X249T\"\n"
     ]
    },
    {
     "name": "stderr",
     "output_type": "stream",
     "text": [
      "Saving 6.67 x 6.67 in image\n",
      "\n",
      "Saving 6.67 x 6.67 in image\n",
      "\n"
     ]
    },
    {
     "name": "stdout",
     "output_type": "stream",
     "text": [
      "[1] \"X14614T\"\n"
     ]
    },
    {
     "name": "stderr",
     "output_type": "stream",
     "text": [
      "Saving 6.67 x 6.67 in image\n",
      "\n",
      "Saving 6.67 x 6.67 in image\n",
      "\n"
     ]
    },
    {
     "name": "stdout",
     "output_type": "stream",
     "text": [
      "[1] \"X13436A\"\n"
     ]
    },
    {
     "name": "stderr",
     "output_type": "stream",
     "text": [
      "Saving 6.67 x 6.67 in image\n",
      "\n",
      "Saving 6.67 x 6.67 in image\n",
      "\n"
     ]
    },
    {
     "name": "stdout",
     "output_type": "stream",
     "text": [
      "[1] \"X513A\"\n"
     ]
    },
    {
     "name": "stderr",
     "output_type": "stream",
     "text": [
      "Saving 6.67 x 6.67 in image\n",
      "\n",
      "Saving 6.67 x 6.67 in image\n",
      "\n"
     ]
    },
    {
     "name": "stdout",
     "output_type": "stream",
     "text": [
      "[1] \"X6371A\"\n"
     ]
    },
    {
     "name": "stderr",
     "output_type": "stream",
     "text": [
      "Saving 6.67 x 6.67 in image\n",
      "\n",
      "Saving 6.67 x 6.67 in image\n",
      "\n"
     ]
    },
    {
     "name": "stdout",
     "output_type": "stream",
     "text": [
      "[1] \"X13619A\"\n"
     ]
    },
    {
     "name": "stderr",
     "output_type": "stream",
     "text": [
      "Saving 6.67 x 6.67 in image\n",
      "\n",
      "Saving 6.67 x 6.67 in image\n",
      "\n"
     ]
    },
    {
     "name": "stdout",
     "output_type": "stream",
     "text": [
      "[1] \"X16512A\"\n"
     ]
    },
    {
     "name": "stderr",
     "output_type": "stream",
     "text": [
      "Saving 6.67 x 6.67 in image\n",
      "\n",
      "Saving 6.67 x 6.67 in image\n",
      "\n"
     ]
    },
    {
     "name": "stdout",
     "output_type": "stream",
     "text": [
      "[1] \"X3735T\"\n"
     ]
    },
    {
     "name": "stderr",
     "output_type": "stream",
     "text": [
      "Saving 6.67 x 6.67 in image\n",
      "\n",
      "Saving 6.67 x 6.67 in image\n",
      "\n"
     ]
    },
    {
     "name": "stdout",
     "output_type": "stream",
     "text": [
      "[1] \"X5214A\"\n"
     ]
    },
    {
     "name": "stderr",
     "output_type": "stream",
     "text": [
      "Saving 6.67 x 6.67 in image\n",
      "\n",
      "Saving 6.67 x 6.67 in image\n",
      "\n"
     ]
    },
    {
     "name": "stdout",
     "output_type": "stream",
     "text": [
      "[1] \"X5337A\"\n"
     ]
    },
    {
     "name": "stderr",
     "output_type": "stream",
     "text": [
      "Saving 6.67 x 6.67 in image\n",
      "\n",
      "Saving 6.67 x 6.67 in image\n",
      "\n"
     ]
    },
    {
     "name": "stdout",
     "output_type": "stream",
     "text": [
      "[1] \"X4631T\"\n"
     ]
    },
    {
     "name": "stderr",
     "output_type": "stream",
     "text": [
      "Saving 6.67 x 6.67 in image\n",
      "\n",
      "Saving 6.67 x 6.67 in image\n",
      "\n"
     ]
    },
    {
     "name": "stdout",
     "output_type": "stream",
     "text": [
      "[1] \"X16387G\"\n"
     ]
    },
    {
     "name": "stderr",
     "output_type": "stream",
     "text": [
      "Saving 6.67 x 6.67 in image\n",
      "\n",
      "Saving 6.67 x 6.67 in image\n",
      "\n"
     ]
    },
    {
     "name": "stdout",
     "output_type": "stream",
     "text": [
      "[1] \"X478C\"\n"
     ]
    },
    {
     "name": "stderr",
     "output_type": "stream",
     "text": [
      "Saving 6.67 x 6.67 in image\n",
      "\n",
      "Saving 6.67 x 6.67 in image\n",
      "\n"
     ]
    },
    {
     "name": "stdout",
     "output_type": "stream",
     "text": [
      "[1] \"X13305T\"\n"
     ]
    },
    {
     "name": "stderr",
     "output_type": "stream",
     "text": [
      "Saving 6.67 x 6.67 in image\n",
      "\n",
      "Saving 6.67 x 6.67 in image\n",
      "\n"
     ]
    },
    {
     "name": "stdout",
     "output_type": "stream",
     "text": [
      "[1] \"X11137C\"\n"
     ]
    },
    {
     "name": "stderr",
     "output_type": "stream",
     "text": [
      "Saving 6.67 x 6.67 in image\n",
      "\n",
      "Saving 6.67 x 6.67 in image\n",
      "\n"
     ]
    },
    {
     "name": "stdout",
     "output_type": "stream",
     "text": [
      "[1] \"X6207A\"\n"
     ]
    },
    {
     "name": "stderr",
     "output_type": "stream",
     "text": [
      "Saving 6.67 x 6.67 in image\n",
      "\n",
      "Saving 6.67 x 6.67 in image\n",
      "\n"
     ]
    },
    {
     "name": "stdout",
     "output_type": "stream",
     "text": [
      "[1] \"X8926T\"\n"
     ]
    },
    {
     "name": "stderr",
     "output_type": "stream",
     "text": [
      "Saving 6.67 x 6.67 in image\n",
      "\n",
      "Saving 6.67 x 6.67 in image\n",
      "\n"
     ]
    },
    {
     "name": "stdout",
     "output_type": "stream",
     "text": [
      "[1] \"X1192A\"\n"
     ]
    },
    {
     "name": "stderr",
     "output_type": "stream",
     "text": [
      "Saving 6.67 x 6.67 in image\n",
      "\n",
      "Saving 6.67 x 6.67 in image\n",
      "\n"
     ]
    },
    {
     "name": "stdout",
     "output_type": "stream",
     "text": [
      "[1] \"X6797T\"\n"
     ]
    },
    {
     "name": "stderr",
     "output_type": "stream",
     "text": [
      "Saving 6.67 x 6.67 in image\n",
      "\n",
      "Saving 6.67 x 6.67 in image\n",
      "\n"
     ]
    },
    {
     "name": "stdout",
     "output_type": "stream",
     "text": [
      "[1] \"X13443A\"\n"
     ]
    },
    {
     "name": "stderr",
     "output_type": "stream",
     "text": [
      "Saving 6.67 x 6.67 in image\n",
      "\n",
      "Saving 6.67 x 6.67 in image\n",
      "\n"
     ]
    },
    {
     "name": "stdout",
     "output_type": "stream",
     "text": [
      "[1] \"X14962T\"\n"
     ]
    },
    {
     "name": "stderr",
     "output_type": "stream",
     "text": [
      "Saving 6.67 x 6.67 in image\n",
      "\n",
      "Saving 6.67 x 6.67 in image\n",
      "\n"
     ]
    },
    {
     "name": "stdout",
     "output_type": "stream",
     "text": [
      "[1] \"X6364A\"\n"
     ]
    },
    {
     "name": "stderr",
     "output_type": "stream",
     "text": [
      "Saving 6.67 x 6.67 in image\n",
      "\n",
      "Saving 6.67 x 6.67 in image\n",
      "\n"
     ]
    },
    {
     "name": "stdout",
     "output_type": "stream",
     "text": [
      "[1] \"X2723T\"\n"
     ]
    },
    {
     "name": "stderr",
     "output_type": "stream",
     "text": [
      "Saving 6.67 x 6.67 in image\n",
      "\n",
      "Saving 6.67 x 6.67 in image\n",
      "\n"
     ]
    },
    {
     "name": "stdout",
     "output_type": "stream",
     "text": [
      "[1] \"X2694T\"\n"
     ]
    },
    {
     "name": "stderr",
     "output_type": "stream",
     "text": [
      "Saving 6.67 x 6.67 in image\n",
      "\n",
      "Saving 6.67 x 6.67 in image\n",
      "\n"
     ]
    },
    {
     "name": "stdout",
     "output_type": "stream",
     "text": [
      "[1] \"X4972A\"\n"
     ]
    },
    {
     "name": "stderr",
     "output_type": "stream",
     "text": [
      "Saving 6.67 x 6.67 in image\n",
      "\n",
      "Saving 6.67 x 6.67 in image\n",
      "\n"
     ]
    },
    {
     "name": "stdout",
     "output_type": "stream",
     "text": [
      "[1] \"X12944A\"\n"
     ]
    },
    {
     "name": "stderr",
     "output_type": "stream",
     "text": [
      "Saving 6.67 x 6.67 in image\n",
      "\n",
      "Saving 6.67 x 6.67 in image\n",
      "\n"
     ]
    },
    {
     "name": "stdout",
     "output_type": "stream",
     "text": [
      "[1] \"X13339A\"\n"
     ]
    },
    {
     "name": "stderr",
     "output_type": "stream",
     "text": [
      "Saving 6.67 x 6.67 in image\n",
      "\n",
      "Saving 6.67 x 6.67 in image\n",
      "\n"
     ]
    },
    {
     "name": "stdout",
     "output_type": "stream",
     "text": [
      "[1] \"X14991A\"\n"
     ]
    },
    {
     "name": "stderr",
     "output_type": "stream",
     "text": [
      "Saving 6.67 x 6.67 in image\n",
      "\n",
      "Saving 6.67 x 6.67 in image\n",
      "\n"
     ]
    },
    {
     "name": "stdout",
     "output_type": "stream",
     "text": [
      "[1] \"X2653A\"\n"
     ]
    },
    {
     "name": "stderr",
     "output_type": "stream",
     "text": [
      "Saving 6.67 x 6.67 in image\n",
      "\n",
      "Saving 6.67 x 6.67 in image\n",
      "\n"
     ]
    },
    {
     "name": "stdout",
     "output_type": "stream",
     "text": [
      "[1] \"X13169C\"\n"
     ]
    },
    {
     "name": "stderr",
     "output_type": "stream",
     "text": [
      "Saving 6.67 x 6.67 in image\n",
      "\n",
      "Saving 6.67 x 6.67 in image\n",
      "\n"
     ]
    },
    {
     "name": "stdout",
     "output_type": "stream",
     "text": [
      "[1] \"X5357C\"\n"
     ]
    },
    {
     "name": "stderr",
     "output_type": "stream",
     "text": [
      "Saving 6.67 x 6.67 in image\n",
      "\n",
      "Saving 6.67 x 6.67 in image\n",
      "\n"
     ]
    },
    {
     "name": "stdout",
     "output_type": "stream",
     "text": [
      "[1] \"X13850T\"\n"
     ]
    },
    {
     "name": "stderr",
     "output_type": "stream",
     "text": [
      "Saving 6.67 x 6.67 in image\n",
      "\n",
      "Saving 6.67 x 6.67 in image\n",
      "\n"
     ]
    },
    {
     "name": "stdout",
     "output_type": "stream",
     "text": [
      "[1] \"X6142T\"\n"
     ]
    },
    {
     "name": "stderr",
     "output_type": "stream",
     "text": [
      "Saving 6.67 x 6.67 in image\n",
      "\n",
      "Saving 6.67 x 6.67 in image\n",
      "\n"
     ]
    },
    {
     "name": "stdout",
     "output_type": "stream",
     "text": [
      "[1] \"X6532C\"\n"
     ]
    },
    {
     "name": "stderr",
     "output_type": "stream",
     "text": [
      "Saving 6.67 x 6.67 in image\n",
      "\n",
      "Saving 6.67 x 6.67 in image\n",
      "\n"
     ]
    },
    {
     "name": "stdout",
     "output_type": "stream",
     "text": [
      "[1] \"X13246A\"\n"
     ]
    },
    {
     "name": "stderr",
     "output_type": "stream",
     "text": [
      "Saving 6.67 x 6.67 in image\n",
      "\n",
      "Saving 6.67 x 6.67 in image\n",
      "\n"
     ]
    },
    {
     "name": "stdout",
     "output_type": "stream",
     "text": [
      "[1] \"X3402T\"\n"
     ]
    },
    {
     "name": "stderr",
     "output_type": "stream",
     "text": [
      "Saving 6.67 x 6.67 in image\n",
      "\n",
      "Saving 6.67 x 6.67 in image\n",
      "\n"
     ]
    },
    {
     "name": "stdout",
     "output_type": "stream",
     "text": [
      "[1] \"X7032A\"\n"
     ]
    },
    {
     "name": "stderr",
     "output_type": "stream",
     "text": [
      "Saving 6.67 x 6.67 in image\n",
      "\n",
      "Saving 6.67 x 6.67 in image\n",
      "\n"
     ]
    },
    {
     "name": "stdout",
     "output_type": "stream",
     "text": [
      "[1] \"X8285A\"\n"
     ]
    },
    {
     "name": "stderr",
     "output_type": "stream",
     "text": [
      "Saving 6.67 x 6.67 in image\n",
      "\n",
      "Saving 6.67 x 6.67 in image\n",
      "\n"
     ]
    },
    {
     "name": "stdout",
     "output_type": "stream",
     "text": [
      "[1] \"X2757G\"\n"
     ]
    },
    {
     "name": "stderr",
     "output_type": "stream",
     "text": [
      "Saving 6.67 x 6.67 in image\n",
      "\n",
      "Saving 6.67 x 6.67 in image\n",
      "\n"
     ]
    },
    {
     "name": "stdout",
     "output_type": "stream",
     "text": [
      "[1] \"X9476T\"\n"
     ]
    },
    {
     "name": "stderr",
     "output_type": "stream",
     "text": [
      "Saving 6.67 x 6.67 in image\n",
      "\n",
      "Saving 6.67 x 6.67 in image\n",
      "\n"
     ]
    },
    {
     "name": "stdout",
     "output_type": "stream",
     "text": [
      "[1] \"X5273T\"\n"
     ]
    },
    {
     "name": "stderr",
     "output_type": "stream",
     "text": [
      "Saving 6.67 x 6.67 in image\n",
      "\n",
      "Saving 6.67 x 6.67 in image\n",
      "\n"
     ]
    },
    {
     "name": "stdout",
     "output_type": "stream",
     "text": [
      "[1] \"X12079T\"\n"
     ]
    },
    {
     "name": "stderr",
     "output_type": "stream",
     "text": [
      "Saving 6.67 x 6.67 in image\n",
      "\n",
      "Saving 6.67 x 6.67 in image\n",
      "\n"
     ]
    },
    {
     "name": "stdout",
     "output_type": "stream",
     "text": [
      "[1] \"X3673C\"\n"
     ]
    },
    {
     "name": "stderr",
     "output_type": "stream",
     "text": [
      "Saving 6.67 x 6.67 in image\n",
      "\n",
      "Saving 6.67 x 6.67 in image\n",
      "\n"
     ]
    },
    {
     "name": "stdout",
     "output_type": "stream",
     "text": [
      "[1] \"X8632C\"\n"
     ]
    },
    {
     "name": "stderr",
     "output_type": "stream",
     "text": [
      "Saving 6.67 x 6.67 in image\n",
      "\n",
      "Saving 6.67 x 6.67 in image\n",
      "\n"
     ]
    },
    {
     "name": "stdout",
     "output_type": "stream",
     "text": [
      "[1] \"X6891T\"\n"
     ]
    },
    {
     "name": "stderr",
     "output_type": "stream",
     "text": [
      "Saving 6.67 x 6.67 in image\n",
      "\n",
      "Saving 6.67 x 6.67 in image\n",
      "\n"
     ]
    },
    {
     "name": "stdout",
     "output_type": "stream",
     "text": [
      "[1] \"X5863G\"\n"
     ]
    },
    {
     "name": "stderr",
     "output_type": "stream",
     "text": [
      "Saving 6.67 x 6.67 in image\n",
      "\n",
      "Saving 6.67 x 6.67 in image\n",
      "\n"
     ]
    },
    {
     "name": "stdout",
     "output_type": "stream",
     "text": [
      "[1] \"X1471T\"\n"
     ]
    },
    {
     "name": "stderr",
     "output_type": "stream",
     "text": [
      "Saving 6.67 x 6.67 in image\n",
      "\n",
      "Saving 6.67 x 6.67 in image\n",
      "\n"
     ]
    },
    {
     "name": "stdout",
     "output_type": "stream",
     "text": [
      "[1] \"X1082G\"\n"
     ]
    },
    {
     "name": "stderr",
     "output_type": "stream",
     "text": [
      "Saving 6.67 x 6.67 in image\n",
      "\n",
      "Saving 6.67 x 6.67 in image\n",
      "\n"
     ]
    },
    {
     "name": "stdout",
     "output_type": "stream",
     "text": [
      "[1] \"X1334A\"\n"
     ]
    },
    {
     "name": "stderr",
     "output_type": "stream",
     "text": [
      "Saving 6.67 x 6.67 in image\n",
      "\n",
      "Saving 6.67 x 6.67 in image\n",
      "\n"
     ]
    },
    {
     "name": "stdout",
     "output_type": "stream",
     "text": [
      "[1] \"X9270A\"\n"
     ]
    },
    {
     "name": "stderr",
     "output_type": "stream",
     "text": [
      "Saving 6.67 x 6.67 in image\n",
      "\n",
      "Saving 6.67 x 6.67 in image\n",
      "\n"
     ]
    },
    {
     "name": "stdout",
     "output_type": "stream",
     "text": [
      "[1] \"X16227T\"\n"
     ]
    },
    {
     "name": "stderr",
     "output_type": "stream",
     "text": [
      "Saving 6.67 x 6.67 in image\n",
      "\n",
      "Saving 6.67 x 6.67 in image\n",
      "\n"
     ]
    },
    {
     "name": "stdout",
     "output_type": "stream",
     "text": [
      "[1] \"X12790A\"\n"
     ]
    },
    {
     "name": "stderr",
     "output_type": "stream",
     "text": [
      "Saving 6.67 x 6.67 in image\n",
      "\n",
      "Saving 6.67 x 6.67 in image\n",
      "\n"
     ]
    },
    {
     "name": "stdout",
     "output_type": "stream",
     "text": [
      "[1] \"X6431G\"\n"
     ]
    },
    {
     "name": "stderr",
     "output_type": "stream",
     "text": [
      "Saving 6.67 x 6.67 in image\n",
      "\n",
      "Saving 6.67 x 6.67 in image\n",
      "\n"
     ]
    },
    {
     "name": "stdout",
     "output_type": "stream",
     "text": [
      "[1] \"X6293C\"\n"
     ]
    },
    {
     "name": "stderr",
     "output_type": "stream",
     "text": [
      "Saving 6.67 x 6.67 in image\n",
      "\n",
      "Saving 6.67 x 6.67 in image\n",
      "\n"
     ]
    },
    {
     "name": "stdout",
     "output_type": "stream",
     "text": [
      "[1] \"X7218T\"\n"
     ]
    },
    {
     "name": "stderr",
     "output_type": "stream",
     "text": [
      "Saving 6.67 x 6.67 in image\n",
      "\n",
      "Saving 6.67 x 6.67 in image\n",
      "\n"
     ]
    },
    {
     "name": "stdout",
     "output_type": "stream",
     "text": [
      "[1] \"X769T\"\n"
     ]
    },
    {
     "name": "stderr",
     "output_type": "stream",
     "text": [
      "Saving 6.67 x 6.67 in image\n",
      "\n",
      "Saving 6.67 x 6.67 in image\n",
      "\n"
     ]
    },
    {
     "name": "stdout",
     "output_type": "stream",
     "text": [
      "[1] \"X7589A\"\n"
     ]
    },
    {
     "name": "stderr",
     "output_type": "stream",
     "text": [
      "Saving 6.67 x 6.67 in image\n",
      "\n",
      "Saving 6.67 x 6.67 in image\n",
      "\n"
     ]
    },
    {
     "name": "stdout",
     "output_type": "stream",
     "text": [
      "[1] \"X3599A\"\n"
     ]
    },
    {
     "name": "stderr",
     "output_type": "stream",
     "text": [
      "Saving 6.67 x 6.67 in image\n",
      "\n",
      "Saving 6.67 x 6.67 in image\n",
      "\n"
     ]
    },
    {
     "name": "stdout",
     "output_type": "stream",
     "text": [
      "[1] \"X10734C\"\n"
     ]
    },
    {
     "name": "stderr",
     "output_type": "stream",
     "text": [
      "Saving 6.67 x 6.67 in image\n",
      "\n",
      "Saving 6.67 x 6.67 in image\n",
      "\n"
     ]
    },
    {
     "name": "stdout",
     "output_type": "stream",
     "text": [
      "[1] \"X6961C\"\n"
     ]
    },
    {
     "name": "stderr",
     "output_type": "stream",
     "text": [
      "Saving 6.67 x 6.67 in image\n",
      "\n",
      "Saving 6.67 x 6.67 in image\n",
      "\n"
     ]
    },
    {
     "name": "stdout",
     "output_type": "stream",
     "text": [
      "[1] \"X6470C\"\n"
     ]
    },
    {
     "name": "stderr",
     "output_type": "stream",
     "text": [
      "Saving 6.67 x 6.67 in image\n",
      "\n",
      "Saving 6.67 x 6.67 in image\n",
      "\n"
     ]
    },
    {
     "name": "stdout",
     "output_type": "stream",
     "text": [
      "[1] \"X955T\"\n"
     ]
    },
    {
     "name": "stderr",
     "output_type": "stream",
     "text": [
      "Saving 6.67 x 6.67 in image\n",
      "\n",
      "Saving 6.67 x 6.67 in image\n",
      "\n"
     ]
    },
    {
     "name": "stdout",
     "output_type": "stream",
     "text": [
      "[1] \"X6904C\"\n"
     ]
    },
    {
     "name": "stderr",
     "output_type": "stream",
     "text": [
      "Saving 6.67 x 6.67 in image\n",
      "\n",
      "Saving 6.67 x 6.67 in image\n",
      "\n"
     ]
    },
    {
     "name": "stdout",
     "output_type": "stream",
     "text": [
      "[1] \"X3590A\"\n"
     ]
    },
    {
     "name": "stderr",
     "output_type": "stream",
     "text": [
      "Saving 6.67 x 6.67 in image\n",
      "\n",
      "Saving 6.67 x 6.67 in image\n",
      "\n"
     ]
    },
    {
     "name": "stdout",
     "output_type": "stream",
     "text": [
      "[1] \"X4855A\"\n"
     ]
    },
    {
     "name": "stderr",
     "output_type": "stream",
     "text": [
      "Saving 6.67 x 6.67 in image\n",
      "\n",
      "Saving 6.67 x 6.67 in image\n",
      "\n"
     ]
    },
    {
     "name": "stdout",
     "output_type": "stream",
     "text": [
      "[1] \"X9023T\"\n"
     ]
    },
    {
     "name": "stderr",
     "output_type": "stream",
     "text": [
      "Saving 6.67 x 6.67 in image\n",
      "\n",
      "Saving 6.67 x 6.67 in image\n",
      "\n"
     ]
    },
    {
     "name": "stdout",
     "output_type": "stream",
     "text": [
      "[1] \"X3003G\"\n"
     ]
    },
    {
     "name": "stderr",
     "output_type": "stream",
     "text": [
      "Saving 6.67 x 6.67 in image\n",
      "\n",
      "Saving 6.67 x 6.67 in image\n",
      "\n"
     ]
    },
    {
     "name": "stdout",
     "output_type": "stream",
     "text": [
      "[1] \"X3514A\"\n"
     ]
    },
    {
     "name": "stderr",
     "output_type": "stream",
     "text": [
      "Saving 6.67 x 6.67 in image\n",
      "\n",
      "Saving 6.67 x 6.67 in image\n",
      "\n"
     ]
    },
    {
     "name": "stdout",
     "output_type": "stream",
     "text": [
      "[1] \"X515G\"\n"
     ]
    },
    {
     "name": "stderr",
     "output_type": "stream",
     "text": [
      "Saving 6.67 x 6.67 in image\n",
      "\n",
      "Saving 6.67 x 6.67 in image\n",
      "\n"
     ]
    }
   ],
   "source": [
    "for (mt in (mt.vars)){\n",
    "    print(mt)    \n",
    "    expr <- FetchData(se.filt, vars = mt)\n",
    "    curr.se <- se.filt[, which(expr == 1)]\n",
    "    #curr.se\n",
    "    p <- DimPlot(se.filt , group.by = \"condition\", split.by=mt)\n",
    "    p2 <- DimPlot(curr.se , split.by=\"condition\")\n",
    "    curr.count = sum(se.filt[[mt]])\n",
    "    ggsave(file.path(outdir, paste(\"count\", curr.count,mt, \"groupCond.png\", sep=\"_\")), p)\n",
    "    ggsave(file.path(outdir, paste(\"count\", curr.count,mt, \"clrCond.png\", sep=\"_\")), p2)\n",
    "}"
   ]
  },
  {
   "cell_type": "code",
   "execution_count": 17,
   "id": "3a6b9ecc",
   "metadata": {},
   "outputs": [
    {
     "data": {
      "text/html": [
       "'/data/Mito_Trace/output/pipeline/CHIP_Input_nameFix_april08_2021/MTblacklist/data/merged/MT/cellr_True/numread_200/filters/minC10_minR50_topN0_hetT0.001_hetC10_hetCount5_bq20/mgatk/vireoIn/clones/variants_init/knn/kparam_3/concat/gff_hg38_1_2/thr__0.01_rt__10/annotation_clones/de_clone_btwnvars_RNA/minPct_0.1_logfc0_minCells1_pthresh0.1'"
      ],
      "text/latex": [
       "'/data/Mito\\_Trace/output/pipeline/CHIP\\_Input\\_nameFix\\_april08\\_2021/MTblacklist/data/merged/MT/cellr\\_True/numread\\_200/filters/minC10\\_minR50\\_topN0\\_hetT0.001\\_hetC10\\_hetCount5\\_bq20/mgatk/vireoIn/clones/variants\\_init/knn/kparam\\_3/concat/gff\\_hg38\\_1\\_2/thr\\_\\_0.01\\_rt\\_\\_10/annotation\\_clones/de\\_clone\\_btwnvars\\_RNA/minPct\\_0.1\\_logfc0\\_minCells1\\_pthresh0.1'"
      ],
      "text/markdown": [
       "'/data/Mito_Trace/output/pipeline/CHIP_Input_nameFix_april08_2021/MTblacklist/data/merged/MT/cellr_True/numread_200/filters/minC10_minR50_topN0_hetT0.001_hetC10_hetCount5_bq20/mgatk/vireoIn/clones/variants_init/knn/kparam_3/concat/gff_hg38_1_2/thr__0.01_rt__10/annotation_clones/de_clone_btwnvars_RNA/minPct_0.1_logfc0_minCells1_pthresh0.1'"
      ],
      "text/plain": [
       "[1] \"/data/Mito_Trace/output/pipeline/CHIP_Input_nameFix_april08_2021/MTblacklist/data/merged/MT/cellr_True/numread_200/filters/minC10_minR50_topN0_hetT0.001_hetC10_hetCount5_bq20/mgatk/vireoIn/clones/variants_init/knn/kparam_3/concat/gff_hg38_1_2/thr__0.01_rt__10/annotation_clones/de_clone_btwnvars_RNA/minPct_0.1_logfc0_minCells1_pthresh0.1\""
      ]
     },
     "metadata": {},
     "output_type": "display_data"
    }
   ],
   "source": [
    "outdir"
   ]
  },
  {
   "cell_type": "code",
   "execution_count": null,
   "id": "74779238",
   "metadata": {},
   "outputs": [],
   "source": []
  },
  {
   "cell_type": "markdown",
   "id": "07575123",
   "metadata": {},
   "source": [
    "# Stimulus specific response in each clone\n",
    "\n",
    "A. with variant vs without\n",
    "B. top variants against top variants"
   ]
  },
  {
   "cell_type": "code",
   "execution_count": 18,
   "id": "ddac3765",
   "metadata": {},
   "outputs": [],
   "source": [
    "#    expr <- FetchData(se.filt, vars = mt)\n",
    "    #curr.se <- se.filt[, which(expr == 1)]\n",
    "    #curr.se"
   ]
  },
  {
   "cell_type": "code",
   "execution_count": 20,
   "id": "6133e742",
   "metadata": {
    "scrolled": true
   },
   "outputs": [
    {
     "name": "stdout",
     "output_type": "stream",
     "text": [
      "[1] \"X11838A\"\n",
      "[1] \"X11838A\"\n"
     ]
    },
    {
     "name": "stderr",
     "output_type": "stream",
     "text": [
      "Warning message in dir.create(curr.clone.outdir):\n",
      "\"'/data/Mito_Trace/output/pipeline/CHIP_Input_nameFix_april08_2021/MTblacklist/data/merged/MT/cellr_True/numread_200/filters/minC10_minR50_topN0_hetT0.001_hetC10_hetCount5_bq20/mgatk/vireoIn/clones/variants_init/knn/kparam_3/concat/gff_hg38_1_2/thr__0.01_rt__10/annotation_clones/de_clone_btwnvars_RNA/minPct_0.1_logfc0_minCells1_pthresh0.1/clone_X11838A' already exists\"\n"
     ]
    },
    {
     "name": "stdout",
     "output_type": "stream",
     "text": [
      "[1] \"se filt before\"\n",
      "[1] \"se filt\"\n",
      "An object of class Seurat \n",
      "189108 features across 3050 samples within 2 assays \n",
      "Active assay: RNA (19575 features, 0 variable features)\n",
      " 1 other assay present: ATAC\n",
      " 2 dimensional reductions calculated: integrated_lsi, umap\n",
      "[1] \"curr sig\"\n",
      "              p_val avg_log2FC pct.1 pct.2    p_val_adj p_val_adj_BH\n",
      "GAS1   6.601409e-62 -0.2335816 0.064 0.492 1.292226e-57 1.029028e-57\n",
      "KLF2   3.519219e-57 -0.2163964 0.063 0.469 6.888871e-53 2.742879e-53\n",
      "ITM2C  7.661366e-55 -0.4387109 0.160 0.754 1.499712e-50 3.980846e-51\n",
      "GP5    1.869723e-53 -0.1900627 0.046 0.385 3.659983e-49 7.261054e-50\n",
      "WNT10A 2.329052e-53 -0.3020329 0.119 0.638 4.559120e-49 7.261054e-50\n",
      "GATA3  1.598653e-50 -0.2623003 0.123 0.646 3.129363e-46 4.153301e-47\n",
      "[1] \"dim response\"\n",
      "[1] 15588     6\n"
     ]
    },
    {
     "name": "stderr",
     "output_type": "stream",
     "text": [
      "The automatically generated colors map from the 1^st and 99^th of the\n",
      "values in the matrix. There are outliers in the matrix whose patterns\n",
      "might be hidden by this color mapping. You can manually set the color\n",
      "to `col` argument.\n",
      "\n",
      "Use `suppressMessages()` to turn off this message.\n",
      "\n",
      "Saving 6.67 x 6.67 in image\n",
      "\n",
      "Saving 6.67 x 6.67 in image\n",
      "\n",
      "Saving 6.67 x 6.67 in image\n",
      "\n",
      "Saving 6.67 x 6.67 in image\n",
      "\n",
      "Saving 6.67 x 6.67 in image\n",
      "\n"
     ]
    },
    {
     "name": "stdout",
     "output_type": "stream",
     "text": [
      "[1] \"gally\"\n",
      "[1] \"p_val\"        \"avg_log2FC\"   \"pct.1\"        \"pct.2\"        \"p_val_adj\"   \n",
      "[6] \"p_val_adj_BH\"\n"
     ]
    },
    {
     "name": "stderr",
     "output_type": "stream",
     "text": [
      "Saving 6.67 x 6.67 in image\n",
      "\n"
     ]
    },
    {
     "name": "stdout",
     "output_type": "stream",
     "text": [
      "[1] \"X2514A\"\n",
      "[1] \"X2514A\"\n"
     ]
    },
    {
     "name": "stderr",
     "output_type": "stream",
     "text": [
      "Warning message in dir.create(curr.clone.outdir):\n",
      "\"'/data/Mito_Trace/output/pipeline/CHIP_Input_nameFix_april08_2021/MTblacklist/data/merged/MT/cellr_True/numread_200/filters/minC10_minR50_topN0_hetT0.001_hetC10_hetCount5_bq20/mgatk/vireoIn/clones/variants_init/knn/kparam_3/concat/gff_hg38_1_2/thr__0.01_rt__10/annotation_clones/de_clone_btwnvars_RNA/minPct_0.1_logfc0_minCells1_pthresh0.1/clone_X2514A' already exists\"\n"
     ]
    },
    {
     "name": "stdout",
     "output_type": "stream",
     "text": [
      "[1] \"se filt before\"\n",
      "[1] \"se filt\"\n",
      "An object of class Seurat \n",
      "189108 features across 3343 samples within 2 assays \n",
      "Active assay: RNA (19575 features, 0 variable features)\n",
      " 1 other assay present: ATAC\n",
      " 2 dimensional reductions calculated: integrated_lsi, umap\n",
      "[1] \"curr sig\"\n",
      "              p_val avg_log2FC pct.1 pct.2    p_val_adj p_val_adj_BH\n",
      "HDHD3  8.559943e-26 -0.1813100 0.053 0.435 1.675609e-21 1.318060e-21\n",
      "CXCL3  2.243642e-25 -0.1382141 0.040 0.370 4.391929e-21 1.523578e-21\n",
      "LSM7   2.968394e-25 -0.1981622 0.069 0.500 5.810632e-21 1.523578e-21\n",
      "ITM2C  4.630291e-25 -0.3566602 0.165 0.826 9.063795e-21 1.628215e-21\n",
      "CALY   5.287098e-25 -0.2337601 0.097 0.609 1.034950e-20 1.628215e-21\n",
      "WNT10A 1.416433e-24 -0.3349350 0.123 0.674 2.772667e-20 3.635039e-21\n",
      "[1] \"dim response\"\n",
      "[1] 15398     6\n"
     ]
    },
    {
     "name": "stderr",
     "output_type": "stream",
     "text": [
      "The automatically generated colors map from the 1^st and 99^th of the\n",
      "values in the matrix. There are outliers in the matrix whose patterns\n",
      "might be hidden by this color mapping. You can manually set the color\n",
      "to `col` argument.\n",
      "\n",
      "Use `suppressMessages()` to turn off this message.\n",
      "\n",
      "Saving 6.67 x 6.67 in image\n",
      "\n",
      "Saving 6.67 x 6.67 in image\n",
      "\n",
      "Saving 6.67 x 6.67 in image\n",
      "\n",
      "Saving 6.67 x 6.67 in image\n",
      "\n",
      "Saving 6.67 x 6.67 in image\n",
      "\n"
     ]
    },
    {
     "name": "stdout",
     "output_type": "stream",
     "text": [
      "[1] \"gally\"\n",
      "[1] \"p_val\"        \"avg_log2FC\"   \"pct.1\"        \"pct.2\"        \"p_val_adj\"   \n",
      "[6] \"p_val_adj_BH\"\n"
     ]
    },
    {
     "name": "stderr",
     "output_type": "stream",
     "text": [
      "Saving 6.67 x 6.67 in image\n",
      "\n"
     ]
    },
    {
     "name": "stdout",
     "output_type": "stream",
     "text": [
      "[1] \"X7639T\"\n",
      "[1] \"X7639T\"\n"
     ]
    },
    {
     "name": "stderr",
     "output_type": "stream",
     "text": [
      "Warning message in dir.create(curr.clone.outdir):\n",
      "\"'/data/Mito_Trace/output/pipeline/CHIP_Input_nameFix_april08_2021/MTblacklist/data/merged/MT/cellr_True/numread_200/filters/minC10_minR50_topN0_hetT0.001_hetC10_hetCount5_bq20/mgatk/vireoIn/clones/variants_init/knn/kparam_3/concat/gff_hg38_1_2/thr__0.01_rt__10/annotation_clones/de_clone_btwnvars_RNA/minPct_0.1_logfc0_minCells1_pthresh0.1/clone_X7639T' already exists\"\n"
     ]
    },
    {
     "name": "stdout",
     "output_type": "stream",
     "text": [
      "[1] \"se filt before\"\n",
      "[1] \"se filt\"\n",
      "An object of class Seurat \n",
      "189108 features across 3513 samples within 2 assays \n",
      "Active assay: RNA (19575 features, 0 variable features)\n",
      " 1 other assay present: ATAC\n",
      " 2 dimensional reductions calculated: integrated_lsi, umap\n",
      "[1] \"curr sig\"\n",
      "                 p_val  avg_log2FC pct.1 pct.2    p_val_adj p_val_adj_BH\n",
      "RTP5      4.912048e-35 -0.17686182 0.023 0.361 9.615334e-31 7.607780e-31\n",
      "KRTAP16-1 2.492355e-33 -0.31920212 0.046 0.500 4.878785e-29 1.930080e-29\n",
      "C15orf62  1.626773e-29 -0.32982717 0.069 0.583 3.184409e-25 8.398488e-26\n",
      "HLA-G     8.572405e-27 -0.09723469 0.012 0.222 1.678048e-22 3.319235e-23\n",
      "ZNF711    2.298276e-25 -0.19876275 0.057 0.500 4.498875e-21 7.119139e-22\n",
      "LKAAEAR1  5.260423e-24 -0.18223966 0.029 0.333 1.029728e-19 1.357891e-20\n",
      "[1] \"dim response\"\n",
      "[1] 15488     6\n"
     ]
    },
    {
     "name": "stderr",
     "output_type": "stream",
     "text": [
      "The automatically generated colors map from the 1^st and 99^th of the\n",
      "values in the matrix. There are outliers in the matrix whose patterns\n",
      "might be hidden by this color mapping. You can manually set the color\n",
      "to `col` argument.\n",
      "\n",
      "Use `suppressMessages()` to turn off this message.\n",
      "\n",
      "Saving 6.67 x 6.67 in image\n",
      "\n",
      "Saving 6.67 x 6.67 in image\n",
      "\n",
      "Saving 6.67 x 6.67 in image\n",
      "\n",
      "Saving 6.67 x 6.67 in image\n",
      "\n",
      "Saving 6.67 x 6.67 in image\n",
      "\n"
     ]
    },
    {
     "name": "stdout",
     "output_type": "stream",
     "text": [
      "[1] \"gally\"\n",
      "[1] \"p_val\"        \"avg_log2FC\"   \"pct.1\"        \"pct.2\"        \"p_val_adj\"   \n",
      "[6] \"p_val_adj_BH\"\n"
     ]
    },
    {
     "name": "stderr",
     "output_type": "stream",
     "text": [
      "Saving 6.67 x 6.67 in image\n",
      "\n"
     ]
    },
    {
     "name": "stdout",
     "output_type": "stream",
     "text": [
      "[1] \"X318A\"\n",
      "[1] \"X318A\"\n"
     ]
    },
    {
     "name": "stderr",
     "output_type": "stream",
     "text": [
      "Warning message in dir.create(curr.clone.outdir):\n",
      "\"'/data/Mito_Trace/output/pipeline/CHIP_Input_nameFix_april08_2021/MTblacklist/data/merged/MT/cellr_True/numread_200/filters/minC10_minR50_topN0_hetT0.001_hetC10_hetCount5_bq20/mgatk/vireoIn/clones/variants_init/knn/kparam_3/concat/gff_hg38_1_2/thr__0.01_rt__10/annotation_clones/de_clone_btwnvars_RNA/minPct_0.1_logfc0_minCells1_pthresh0.1/clone_X318A' already exists\"\n"
     ]
    },
    {
     "name": "stdout",
     "output_type": "stream",
     "text": [
      "[1] \"se filt before\"\n",
      "[1] \"se filt\"\n",
      "An object of class Seurat \n",
      "189108 features across 3572 samples within 2 assays \n",
      "Active assay: RNA (19575 features, 0 variable features)\n",
      " 1 other assay present: ATAC\n",
      " 2 dimensional reductions calculated: integrated_lsi, umap\n",
      "[1] \"curr sig\"\n",
      "               p_val avg_log2FC pct.1 pct.2    p_val_adj p_val_adj_BH\n",
      "LDOC1   3.185389e-28 -0.1197217 0.020 0.273 6.235399e-24 4.872053e-24\n",
      "NKX6-1  3.403405e-26 -0.2203501 0.046 0.409 6.662165e-22 2.602754e-22\n",
      "GADD45G 1.296417e-25 -0.2139320 0.099 0.636 2.537737e-21 5.067520e-22\n",
      "RDH14   1.325275e-25 -0.2995061 0.120 0.705 2.594226e-21 5.067520e-22\n",
      "SDPR    4.098299e-25 -0.2953910 0.103 0.636 8.022421e-21 1.253670e-21\n",
      "NAP1L3  2.922033e-24 -0.1746619 0.031 0.318 5.719879e-20 7.448748e-21\n",
      "[1] \"dim response\"\n",
      "[1] 15295     6\n"
     ]
    },
    {
     "name": "stderr",
     "output_type": "stream",
     "text": [
      "The automatically generated colors map from the 1^st and 99^th of the\n",
      "values in the matrix. There are outliers in the matrix whose patterns\n",
      "might be hidden by this color mapping. You can manually set the color\n",
      "to `col` argument.\n",
      "\n",
      "Use `suppressMessages()` to turn off this message.\n",
      "\n",
      "Saving 6.67 x 6.67 in image\n",
      "\n",
      "Saving 6.67 x 6.67 in image\n",
      "\n",
      "Saving 6.67 x 6.67 in image\n",
      "\n",
      "Saving 6.67 x 6.67 in image\n",
      "\n",
      "Saving 6.67 x 6.67 in image\n",
      "\n"
     ]
    },
    {
     "name": "stdout",
     "output_type": "stream",
     "text": [
      "[1] \"gally\"\n",
      "[1] \"p_val\"        \"avg_log2FC\"   \"pct.1\"        \"pct.2\"        \"p_val_adj\"   \n",
      "[6] \"p_val_adj_BH\"\n"
     ]
    },
    {
     "name": "stderr",
     "output_type": "stream",
     "text": [
      "Saving 6.67 x 6.67 in image\n",
      "\n"
     ]
    },
    {
     "name": "stdout",
     "output_type": "stream",
     "text": [
      "[1] \"X9173A\"\n",
      "[1] \"X9173A\"\n"
     ]
    },
    {
     "name": "stderr",
     "output_type": "stream",
     "text": [
      "Warning message in dir.create(curr.clone.outdir):\n",
      "\"'/data/Mito_Trace/output/pipeline/CHIP_Input_nameFix_april08_2021/MTblacklist/data/merged/MT/cellr_True/numread_200/filters/minC10_minR50_topN0_hetT0.001_hetC10_hetCount5_bq20/mgatk/vireoIn/clones/variants_init/knn/kparam_3/concat/gff_hg38_1_2/thr__0.01_rt__10/annotation_clones/de_clone_btwnvars_RNA/minPct_0.1_logfc0_minCells1_pthresh0.1/clone_X9173A' already exists\"\n"
     ]
    },
    {
     "name": "stdout",
     "output_type": "stream",
     "text": [
      "[1] \"se filt before\"\n",
      "[1] \"se filt\"\n",
      "An object of class Seurat \n",
      "189108 features across 3541 samples within 2 assays \n",
      "Active assay: RNA (19575 features, 0 variable features)\n",
      " 1 other assay present: ATAC\n",
      " 2 dimensional reductions calculated: integrated_lsi, umap\n",
      "[1] \"curr sig\"\n",
      "                 p_val avg_log2FC pct.1 pct.2    p_val_adj p_val_adj_BH\n",
      "LSM7      6.066997e-28 -0.2296507 0.066 0.571 1.187615e-23 9.393531e-24\n",
      "KRTAP16-1 4.649354e-27 -0.2099394 0.045 0.457 9.101111e-23 3.599298e-23\n",
      "WNT10A    2.815081e-25 -0.4225503 0.121 0.743 5.510522e-21 1.409639e-21\n",
      "TLX1      4.399082e-25 -0.1299446 0.033 0.371 8.611203e-21 1.409639e-21\n",
      "CMTM2     4.552216e-25 -0.1916144 0.043 0.429 8.910963e-21 1.409639e-21\n",
      "TCEAL3    4.912207e-24 -0.2024459 0.056 0.486 9.615645e-20 1.267595e-20\n",
      "[1] \"dim response\"\n",
      "[1] 15483     6\n"
     ]
    },
    {
     "name": "stderr",
     "output_type": "stream",
     "text": [
      "The automatically generated colors map from the 1^st and 99^th of the\n",
      "values in the matrix. There are outliers in the matrix whose patterns\n",
      "might be hidden by this color mapping. You can manually set the color\n",
      "to `col` argument.\n",
      "\n",
      "Use `suppressMessages()` to turn off this message.\n",
      "\n",
      "Saving 6.67 x 6.67 in image\n",
      "\n",
      "Saving 6.67 x 6.67 in image\n",
      "\n",
      "Saving 6.67 x 6.67 in image\n",
      "\n",
      "Saving 6.67 x 6.67 in image\n",
      "\n",
      "Saving 6.67 x 6.67 in image\n",
      "\n"
     ]
    },
    {
     "name": "stdout",
     "output_type": "stream",
     "text": [
      "[1] \"gally\"\n",
      "[1] \"p_val\"        \"avg_log2FC\"   \"pct.1\"        \"pct.2\"        \"p_val_adj\"   \n",
      "[6] \"p_val_adj_BH\"\n"
     ]
    },
    {
     "name": "stderr",
     "output_type": "stream",
     "text": [
      "Saving 6.67 x 6.67 in image\n",
      "\n"
     ]
    },
    {
     "name": "stdout",
     "output_type": "stream",
     "text": [
      "[1] \"X14318C\"\n",
      "[1] \"X14318C\"\n"
     ]
    },
    {
     "name": "stderr",
     "output_type": "stream",
     "text": [
      "Warning message in dir.create(curr.clone.outdir):\n",
      "\"'/data/Mito_Trace/output/pipeline/CHIP_Input_nameFix_april08_2021/MTblacklist/data/merged/MT/cellr_True/numread_200/filters/minC10_minR50_topN0_hetT0.001_hetC10_hetCount5_bq20/mgatk/vireoIn/clones/variants_init/knn/kparam_3/concat/gff_hg38_1_2/thr__0.01_rt__10/annotation_clones/de_clone_btwnvars_RNA/minPct_0.1_logfc0_minCells1_pthresh0.1/clone_X14318C' already exists\"\n"
     ]
    },
    {
     "name": "stdout",
     "output_type": "stream",
     "text": [
      "[1] \"se filt before\"\n",
      "[1] \"se filt\"\n",
      "An object of class Seurat \n",
      "189108 features across 3475 samples within 2 assays \n",
      "Active assay: RNA (19575 features, 0 variable features)\n",
      " 1 other assay present: ATAC\n",
      " 2 dimensional reductions calculated: integrated_lsi, umap\n",
      "Error in ValidateCellGroups(object = object, cells.1 = cells.1, cells.2 = cells.2,  : \n",
      "  Cell group 2 has fewer than 3 cells\n",
      "[1] \"X13263G\"\n",
      "[1] \"X13263G\"\n",
      "[1] \"se filt before\"\n",
      "[1] \"se filt\"\n",
      "An object of class Seurat \n",
      "189108 features across 3480 samples within 2 assays \n",
      "Active assay: RNA (19575 features, 0 variable features)\n",
      " 1 other assay present: ATAC\n",
      " 2 dimensional reductions calculated: integrated_lsi, umap\n",
      "[1] \"curr sig\"\n",
      "               p_val avg_log2FC pct.1 pct.2    p_val_adj p_val_adj_BH\n",
      "TAS2R16 1.815448e-43 -0.1415954 0.001 0.333 3.553739e-39 2.650372e-39\n",
      "FSHB    1.964232e-37 -0.1414894 0.002 0.333 3.844984e-33 1.433791e-33\n",
      "FOXF1   9.777325e-34 -0.4544787 0.019 1.000 1.913911e-29 4.757972e-30\n",
      "TNP1    6.648325e-33 -0.1414767 0.002 0.333 1.301410e-28 2.426473e-29\n",
      "HBA2    3.045446e-24 -0.1088862 0.003 0.333 5.961461e-20 8.892093e-21\n",
      "TKTL2   2.581039e-22 -0.1096139 0.003 0.333 5.052384e-18 6.280098e-19\n",
      "[1] \"dim response\"\n",
      "[1] 14599     6\n"
     ]
    },
    {
     "name": "stderr",
     "output_type": "stream",
     "text": [
      "Saving 6.67 x 6.67 in image\n",
      "\n",
      "Saving 6.67 x 6.67 in image\n",
      "\n",
      "Saving 6.67 x 6.67 in image\n",
      "\n",
      "Saving 6.67 x 6.67 in image\n",
      "\n",
      "Saving 6.67 x 6.67 in image\n",
      "\n"
     ]
    },
    {
     "name": "stdout",
     "output_type": "stream",
     "text": [
      "[1] \"gally\"\n",
      "[1] \"p_val\"        \"avg_log2FC\"   \"pct.1\"        \"pct.2\"        \"p_val_adj\"   \n",
      "[6] \"p_val_adj_BH\"\n"
     ]
    },
    {
     "name": "stderr",
     "output_type": "stream",
     "text": [
      "Saving 6.67 x 6.67 in image\n",
      "\n"
     ]
    },
    {
     "name": "stdout",
     "output_type": "stream",
     "text": [
      "[1] \"X7775A\"\n",
      "[1] \"X7775A\"\n",
      "[1] \"se filt before\"\n",
      "[1] \"se filt\"\n",
      "An object of class Seurat \n",
      "189108 features across 3552 samples within 2 assays \n",
      "Active assay: RNA (19575 features, 0 variable features)\n",
      " 1 other assay present: ATAC\n",
      " 2 dimensional reductions calculated: integrated_lsi, umap\n",
      "[1] \"curr sig\"\n",
      "                 p_val avg_log2FC pct.1 pct.2    p_val_adj p_val_adj_BH\n",
      "CLEC4A    2.883939e-23 -0.2047897 0.063 0.531 5.645311e-19 3.192688e-19\n",
      "ZBTB42    4.183840e-23 -0.2236928 0.064 0.531 8.189866e-19 3.192688e-19\n",
      "KRTAP16-1 1.242960e-22 -0.2297295 0.046 0.438 2.433094e-18 6.323351e-19\n",
      "AVPR1B    3.703774e-22 -0.2146001 0.047 0.438 7.250138e-18 1.413175e-18\n",
      "KIAA1683  1.110945e-20 -0.3008162 0.080 0.562 2.174675e-16 3.391049e-17\n",
      "CLEC14A   2.857422e-20 -0.2026796 0.033 0.344 5.593404e-16 7.268330e-17\n",
      "[1] \"dim response\"\n",
      "[1] 15262     6\n"
     ]
    },
    {
     "name": "stderr",
     "output_type": "stream",
     "text": [
      "The automatically generated colors map from the 1^st and 99^th of the\n",
      "values in the matrix. There are outliers in the matrix whose patterns\n",
      "might be hidden by this color mapping. You can manually set the color\n",
      "to `col` argument.\n",
      "\n",
      "Use `suppressMessages()` to turn off this message.\n",
      "\n",
      "Saving 6.67 x 6.67 in image\n",
      "\n",
      "Saving 6.67 x 6.67 in image\n",
      "\n",
      "Saving 6.67 x 6.67 in image\n",
      "\n",
      "Saving 6.67 x 6.67 in image\n",
      "\n",
      "Saving 6.67 x 6.67 in image\n",
      "\n"
     ]
    },
    {
     "name": "stdout",
     "output_type": "stream",
     "text": [
      "[1] \"gally\"\n",
      "[1] \"p_val\"        \"avg_log2FC\"   \"pct.1\"        \"pct.2\"        \"p_val_adj\"   \n",
      "[6] \"p_val_adj_BH\"\n"
     ]
    },
    {
     "name": "stderr",
     "output_type": "stream",
     "text": [
      "Saving 6.67 x 6.67 in image\n",
      "\n"
     ]
    },
    {
     "name": "stdout",
     "output_type": "stream",
     "text": [
      "[1] \"X11719A\"\n",
      "[1] \"X11719A\"\n",
      "[1] \"se filt before\"\n",
      "[1] \"se filt\"\n",
      "An object of class Seurat \n",
      "189108 features across 3482 samples within 2 assays \n",
      "Active assay: RNA (19575 features, 0 variable features)\n",
      " 1 other assay present: ATAC\n",
      " 2 dimensional reductions calculated: integrated_lsi, umap\n",
      "[1] \"curr sig\"\n",
      "                 p_val  avg_log2FC pct.1 pct.2    p_val_adj p_val_adj_BH\n",
      "OR5AC2    2.700939e-39 -0.09739486 0.001  0.25 5.287088e-35 4.066534e-35\n",
      "KRTAP23-1 5.508361e-33 -0.12829709 0.001  0.25 1.078262e-28 4.146694e-29\n",
      "KRTAP4-7  5.275672e-25 -0.08256427 0.002  0.25 1.032713e-20 2.647684e-21\n",
      "KRTAP12-2 3.163220e-20 -0.08138153 0.003  0.25 6.192003e-16 1.190636e-16\n",
      "RPRML     2.819419e-15 -0.18906502 0.014  0.50 5.519013e-11 8.489835e-12\n",
      "SYT15     9.504541e-15 -0.08786615 0.004  0.25 1.860514e-10 2.150377e-11\n",
      "[1] \"dim response\"\n",
      "[1] 15056     6\n"
     ]
    },
    {
     "name": "stderr",
     "output_type": "stream",
     "text": [
      "Saving 6.67 x 6.67 in image\n",
      "\n",
      "Saving 6.67 x 6.67 in image\n",
      "\n",
      "Saving 6.67 x 6.67 in image\n",
      "\n",
      "Saving 6.67 x 6.67 in image\n",
      "\n",
      "Saving 6.67 x 6.67 in image\n",
      "\n"
     ]
    },
    {
     "name": "stdout",
     "output_type": "stream",
     "text": [
      "[1] \"gally\"\n",
      "[1] \"p_val\"        \"avg_log2FC\"   \"pct.1\"        \"pct.2\"        \"p_val_adj\"   \n",
      "[6] \"p_val_adj_BH\"\n"
     ]
    },
    {
     "name": "stderr",
     "output_type": "stream",
     "text": [
      "Saving 6.67 x 6.67 in image\n",
      "\n"
     ]
    },
    {
     "name": "stdout",
     "output_type": "stream",
     "text": [
      "[1] \"X2706G\"\n",
      "[1] \"X2706G\"\n",
      "[1] \"se filt before\"\n",
      "[1] \"se filt\"\n",
      "An object of class Seurat \n",
      "189108 features across 3479 samples within 2 assays \n",
      "Active assay: RNA (19575 features, 0 variable features)\n",
      " 1 other assay present: ATAC\n",
      " 2 dimensional reductions calculated: integrated_lsi, umap\n",
      "Error in ValidateCellGroups(object = object, cells.1 = cells.1, cells.2 = cells.2,  : \n",
      "  Cell group 2 has fewer than 3 cells\n",
      "[1] \"X8701G\"\n",
      "[1] \"X8701G\"\n",
      "[1] \"se filt before\"\n",
      "[1] \"se filt\"\n",
      "An object of class Seurat \n",
      "189108 features across 3487 samples within 2 assays \n",
      "Active assay: RNA (19575 features, 0 variable features)\n",
      " 1 other assay present: ATAC\n",
      " 2 dimensional reductions calculated: integrated_lsi, umap\n",
      "[1] \"curr sig\"\n",
      "                 p_val  avg_log2FC pct.1 pct.2    p_val_adj p_val_adj_BH\n",
      "TAS2R16   9.638569e-32 -0.08647679 0.001   0.2 1.886750e-27 1.458701e-27\n",
      "KRTAP23-1 1.117181e-26 -0.08797177 0.001   0.2 2.186881e-22 8.453706e-23\n",
      "FSHB      5.250184e-23 -0.08574012 0.002   0.2 1.027723e-18 1.986407e-19\n",
      "GOLGA8T   5.250184e-23 -0.07176281 0.002   0.2 1.027723e-18 1.986407e-19\n",
      "TNP1      2.859581e-20 -0.08573249 0.002   0.2 5.597629e-16 8.655379e-17\n",
      "C1QTNF5   8.479391e-18 -0.34840366 0.022   0.6 1.659841e-13 2.138785e-14\n",
      "[1] \"dim response\"\n",
      "[1] 15134     6\n"
     ]
    },
    {
     "name": "stderr",
     "output_type": "stream",
     "text": [
      "Saving 6.67 x 6.67 in image\n",
      "\n",
      "Saving 6.67 x 6.67 in image\n",
      "\n",
      "Saving 6.67 x 6.67 in image\n",
      "\n",
      "Saving 6.67 x 6.67 in image\n",
      "\n",
      "Saving 6.67 x 6.67 in image\n",
      "\n"
     ]
    },
    {
     "name": "stdout",
     "output_type": "stream",
     "text": [
      "[1] \"gally\"\n",
      "[1] \"p_val\"        \"avg_log2FC\"   \"pct.1\"        \"pct.2\"        \"p_val_adj\"   \n",
      "[6] \"p_val_adj_BH\"\n"
     ]
    },
    {
     "name": "stderr",
     "output_type": "stream",
     "text": [
      "Saving 6.67 x 6.67 in image\n",
      "\n"
     ]
    },
    {
     "name": "stdout",
     "output_type": "stream",
     "text": [
      "[1] \"X7196A\"\n",
      "[1] \"X7196A\"\n",
      "[1] \"se filt before\"\n",
      "[1] \"se filt\"\n",
      "An object of class Seurat \n",
      "189108 features across 3484 samples within 2 assays \n",
      "Active assay: RNA (19575 features, 0 variable features)\n",
      " 1 other assay present: ATAC\n",
      " 2 dimensional reductions calculated: integrated_lsi, umap\n",
      "Error in ValidateCellGroups(object = object, cells.1 = cells.1, cells.2 = cells.2,  : \n",
      "  Cell group 2 has fewer than 3 cells\n",
      "[1] \"X14783C\"\n",
      "[1] \"X14783C\"\n",
      "[1] \"se filt before\"\n",
      "[1] \"se filt\"\n",
      "An object of class Seurat \n",
      "189108 features across 3494 samples within 2 assays \n",
      "Active assay: RNA (19575 features, 0 variable features)\n",
      " 1 other assay present: ATAC\n",
      " 2 dimensional reductions calculated: integrated_lsi, umap\n",
      "[1] \"curr sig\"\n",
      "              p_val  avg_log2FC pct.1 pct.2    p_val_adj p_val_adj_BH\n",
      "OR13C3 1.664416e-28 -0.09446521 0.002  0.25 3.258093e-24 2.483474e-24\n",
      "NPPB   4.188966e-24 -0.39178059 0.020  0.75 8.199900e-20 3.125178e-20\n",
      "HSPB2  3.562567e-23 -0.25029269 0.009  0.50 6.973724e-19 1.771902e-19\n",
      "HBA2   2.717962e-20 -0.08164814 0.003  0.25 5.320410e-16 1.013868e-16\n",
      "ADAD2  6.580671e-19 -0.27796841 0.025  0.75 1.288166e-14 1.963804e-15\n",
      "IFNA10 1.515643e-18 -0.13277895 0.003  0.25 2.966872e-14 3.769152e-15\n",
      "[1] \"dim response\"\n",
      "[1] 14921     6\n"
     ]
    },
    {
     "name": "stderr",
     "output_type": "stream",
     "text": [
      "Saving 6.67 x 6.67 in image\n",
      "\n",
      "Saving 6.67 x 6.67 in image\n",
      "\n",
      "Saving 6.67 x 6.67 in image\n",
      "\n",
      "Saving 6.67 x 6.67 in image\n",
      "\n",
      "Saving 6.67 x 6.67 in image\n",
      "\n"
     ]
    },
    {
     "name": "stdout",
     "output_type": "stream",
     "text": [
      "[1] \"gally\"\n",
      "[1] \"p_val\"        \"avg_log2FC\"   \"pct.1\"        \"pct.2\"        \"p_val_adj\"   \n",
      "[6] \"p_val_adj_BH\"\n"
     ]
    },
    {
     "name": "stderr",
     "output_type": "stream",
     "text": [
      "Saving 6.67 x 6.67 in image\n",
      "\n"
     ]
    },
    {
     "name": "stdout",
     "output_type": "stream",
     "text": [
      "[1] \"X12297C\"\n",
      "[1] \"X12297C\"\n",
      "[1] \"se filt before\"\n",
      "[1] \"se filt\"\n",
      "An object of class Seurat \n",
      "189108 features across 3506 samples within 2 assays \n",
      "Active assay: RNA (19575 features, 0 variable features)\n",
      " 1 other assay present: ATAC\n",
      " 2 dimensional reductions calculated: integrated_lsi, umap\n",
      "[1] \"curr sig\"\n",
      "                p_val  avg_log2FC pct.1 pct.2     p_val_adj  p_val_adj_BH\n",
      "NPIPA3  8.346650e-129 -0.07492829 0.000 0.167 1.633857e-124 1.298071e-124\n",
      "TNP1     3.590637e-17 -0.06968776 0.002 0.167  7.028673e-13  2.792080e-13\n",
      "FAM110D  1.599552e-16 -0.21225060 0.033 0.667  3.131124e-12  8.292080e-13\n",
      "ACTR8    1.549407e-15 -0.40360456 0.075 1.000  3.032965e-11  5.531141e-12\n",
      "SRY      2.056185e-15 -0.07235039 0.002 0.167  4.024981e-11  5.531141e-12\n",
      "AGAP9    2.133928e-15 -0.07234953 0.002 0.167  4.177164e-11  5.531141e-12\n",
      "[1] \"dim response\"\n",
      "[1] 15552     6\n"
     ]
    },
    {
     "name": "stderr",
     "output_type": "stream",
     "text": [
      "The automatically generated colors map from the 1^st and 99^th of the\n",
      "values in the matrix. There are outliers in the matrix whose patterns\n",
      "might be hidden by this color mapping. You can manually set the color\n",
      "to `col` argument.\n",
      "\n",
      "Use `suppressMessages()` to turn off this message.\n",
      "\n",
      "Saving 6.67 x 6.67 in image\n",
      "\n",
      "Saving 6.67 x 6.67 in image\n",
      "\n",
      "Saving 6.67 x 6.67 in image\n",
      "\n",
      "Saving 6.67 x 6.67 in image\n",
      "\n",
      "Saving 6.67 x 6.67 in image\n",
      "\n"
     ]
    },
    {
     "name": "stdout",
     "output_type": "stream",
     "text": [
      "[1] \"gally\"\n",
      "[1] \"p_val\"        \"avg_log2FC\"   \"pct.1\"        \"pct.2\"        \"p_val_adj\"   \n",
      "[6] \"p_val_adj_BH\"\n"
     ]
    },
    {
     "name": "stderr",
     "output_type": "stream",
     "text": [
      "Saving 6.67 x 6.67 in image\n",
      "\n"
     ]
    },
    {
     "name": "stdout",
     "output_type": "stream",
     "text": [
      "[1] \"X3552A\"\n",
      "[1] \"X3552A\"\n",
      "[1] \"se filt before\"\n",
      "[1] \"se filt\"\n",
      "An object of class Seurat \n",
      "189108 features across 3508 samples within 2 assays \n",
      "Active assay: RNA (19575 features, 0 variable features)\n",
      " 1 other assay present: ATAC\n",
      " 2 dimensional reductions calculated: integrated_lsi, umap\n",
      "[1] \"curr sig\"\n",
      "              p_val  avg_log2FC pct.1 pct.2    p_val_adj p_val_adj_BH\n",
      "HBA2   2.277086e-20 -0.08133686 0.003  0.25 4.457396e-16 3.369632e-16\n",
      "PIGY   2.984615e-19 -0.38469912 0.043  1.00 5.842383e-15 2.208316e-15\n",
      "TKTL2  6.491275e-16 -0.08104438 0.003  0.25 1.270667e-11 3.201930e-12\n",
      "TSPYL6 6.506748e-15 -0.18027665 0.004  0.25 1.273696e-10 2.407172e-11\n",
      "C2CD4D 1.405503e-14 -0.16926801 0.015  0.50 2.751273e-10 4.159727e-11\n",
      "CRYGC  5.494753e-14 -0.17995359 0.004  0.25 1.075598e-09 1.355189e-10\n",
      "[1] \"dim response\"\n",
      "[1] 14798     6\n"
     ]
    },
    {
     "name": "stderr",
     "output_type": "stream",
     "text": [
      "The automatically generated colors map from the 1^st and 99^th of the\n",
      "values in the matrix. There are outliers in the matrix whose patterns\n",
      "might be hidden by this color mapping. You can manually set the color\n",
      "to `col` argument.\n",
      "\n",
      "Use `suppressMessages()` to turn off this message.\n",
      "\n",
      "Saving 6.67 x 6.67 in image\n",
      "\n",
      "Saving 6.67 x 6.67 in image\n",
      "\n",
      "Saving 6.67 x 6.67 in image\n",
      "\n",
      "Saving 6.67 x 6.67 in image\n",
      "\n",
      "Saving 6.67 x 6.67 in image\n",
      "\n"
     ]
    },
    {
     "name": "stdout",
     "output_type": "stream",
     "text": [
      "[1] \"gally\"\n",
      "[1] \"p_val\"        \"avg_log2FC\"   \"pct.1\"        \"pct.2\"        \"p_val_adj\"   \n",
      "[6] \"p_val_adj_BH\"\n"
     ]
    },
    {
     "name": "stderr",
     "output_type": "stream",
     "text": [
      "Saving 6.67 x 6.67 in image\n",
      "\n"
     ]
    },
    {
     "name": "stdout",
     "output_type": "stream",
     "text": [
      "[1] \"X7028T\"\n",
      "[1] \"X7028T\"\n",
      "[1] \"se filt before\"\n",
      "[1] \"se filt\"\n",
      "An object of class Seurat \n",
      "189108 features across 3516 samples within 2 assays \n",
      "Active assay: RNA (19575 features, 0 variable features)\n",
      " 1 other assay present: ATAC\n",
      " 2 dimensional reductions calculated: integrated_lsi, umap\n",
      "[1] \"curr sig\"\n",
      "                 p_val avg_log2FC pct.1 pct.2    p_val_adj p_val_adj_BH\n",
      "OR5M11    1.706256e-86 -0.1491446 0.001 0.333 3.339996e-82 2.462980e-82\n",
      "AMELY     3.269795e-65 -0.1645885 0.001 0.333 6.400625e-61 2.359975e-61\n",
      "KRTAP23-1 7.539059e-38 -0.1684828 0.002 0.333 1.475771e-33 3.627544e-34\n",
      "KRTAP4-8  1.140027e-29 -0.1467999 0.002 0.333 2.231604e-25 4.114074e-26\n",
      "KCNE5     1.585990e-24 -0.2863135 0.012 0.667 3.104575e-20 4.578753e-21\n",
      "NKX3-1    3.580924e-18 -0.3984188 0.035 1.000 7.009659e-14 8.615106e-15\n",
      "[1] \"dim response\"\n",
      "[1] 14435     6\n"
     ]
    },
    {
     "name": "stderr",
     "output_type": "stream",
     "text": [
      "The automatically generated colors map from the 1^st and 99^th of the\n",
      "values in the matrix. There are outliers in the matrix whose patterns\n",
      "might be hidden by this color mapping. You can manually set the color\n",
      "to `col` argument.\n",
      "\n",
      "Use `suppressMessages()` to turn off this message.\n",
      "\n",
      "Saving 6.67 x 6.67 in image\n",
      "\n",
      "Saving 6.67 x 6.67 in image\n",
      "\n",
      "Saving 6.67 x 6.67 in image\n",
      "\n",
      "Saving 6.67 x 6.67 in image\n",
      "\n",
      "Saving 6.67 x 6.67 in image\n",
      "\n"
     ]
    },
    {
     "name": "stdout",
     "output_type": "stream",
     "text": [
      "[1] \"gally\"\n",
      "[1] \"p_val\"        \"avg_log2FC\"   \"pct.1\"        \"pct.2\"        \"p_val_adj\"   \n",
      "[6] \"p_val_adj_BH\"\n"
     ]
    },
    {
     "name": "stderr",
     "output_type": "stream",
     "text": [
      "Saving 6.67 x 6.67 in image\n",
      "\n"
     ]
    },
    {
     "name": "stdout",
     "output_type": "stream",
     "text": [
      "[1] \"X3010A\"\n",
      "[1] \"X3010A\"\n",
      "[1] \"se filt before\"\n",
      "[1] \"se filt\"\n",
      "An object of class Seurat \n",
      "189108 features across 3540 samples within 2 assays \n",
      "Active assay: RNA (19575 features, 0 variable features)\n",
      " 1 other assay present: ATAC\n",
      " 2 dimensional reductions calculated: integrated_lsi, umap\n",
      "[1] \"curr sig\"\n",
      "                     p_val  avg_log2FC pct.1 pct.2    p_val_adj p_val_adj_BH\n",
      "C2CD4D        2.712035e-35 -0.22797236 0.014   0.5 5.308808e-31 4.378851e-31\n",
      "RP11-192I24.1 4.288417e-27 -0.03567444 0.001   0.1 8.394576e-23 3.462039e-23\n",
      "TKTL2         1.246767e-26 -0.07995477 0.003   0.2 2.440547e-22 6.710101e-23\n",
      "EN1           2.274955e-19 -0.24233471 0.026   0.5 4.453224e-15 9.182854e-16\n",
      "NPPB          1.556365e-16 -0.27264647 0.020   0.4 3.046584e-12 5.025812e-13\n",
      "KRTAP12-4     4.222785e-14 -0.03923578 0.001   0.1 8.266101e-10 1.016628e-10\n",
      "[1] \"dim response\"\n",
      "[1] 16146     6\n"
     ]
    },
    {
     "name": "stderr",
     "output_type": "stream",
     "text": [
      "The automatically generated colors map from the 1^st and 99^th of the\n",
      "values in the matrix. There are outliers in the matrix whose patterns\n",
      "might be hidden by this color mapping. You can manually set the color\n",
      "to `col` argument.\n",
      "\n",
      "Use `suppressMessages()` to turn off this message.\n",
      "\n",
      "Saving 6.67 x 6.67 in image\n",
      "\n",
      "Saving 6.67 x 6.67 in image\n",
      "\n",
      "Saving 6.67 x 6.67 in image\n",
      "\n",
      "Saving 6.67 x 6.67 in image\n",
      "\n",
      "Saving 6.67 x 6.67 in image\n",
      "\n"
     ]
    },
    {
     "name": "stdout",
     "output_type": "stream",
     "text": [
      "[1] \"gally\"\n",
      "[1] \"p_val\"        \"avg_log2FC\"   \"pct.1\"        \"pct.2\"        \"p_val_adj\"   \n",
      "[6] \"p_val_adj_BH\"\n"
     ]
    },
    {
     "name": "stderr",
     "output_type": "stream",
     "text": [
      "Saving 6.67 x 6.67 in image\n",
      "\n"
     ]
    },
    {
     "name": "stdout",
     "output_type": "stream",
     "text": [
      "[1] \"X4646C\"\n",
      "[1] \"X4646C\"\n",
      "[1] \"se filt before\"\n",
      "[1] \"se filt\"\n",
      "An object of class Seurat \n",
      "189108 features across 3523 samples within 2 assays \n",
      "Active assay: RNA (19575 features, 0 variable features)\n",
      " 1 other assay present: ATAC\n",
      " 2 dimensional reductions calculated: integrated_lsi, umap\n",
      "[1] \"curr sig\"\n",
      "                      p_val avg_log2FC pct.1 pct.2     p_val_adj  p_val_adj_BH\n",
      "TNP1          1.607621e-114 -0.2692903 0.002 0.667 3.146918e-110 2.309830e-110\n",
      "TAS2R16        5.464911e-44 -0.1415790 0.001 0.333  1.069756e-39  3.925992e-40\n",
      "FSHB           7.012924e-38 -0.1415156 0.002 0.333  1.372780e-33  3.358723e-34\n",
      "RP11-219C20.1  1.661511e-19 -0.1362783 0.004 0.333  3.252408e-15  5.968148e-16\n",
      "RBM24          1.262447e-16 -0.6621289 0.040 1.000  2.471239e-12  3.627767e-13\n",
      "SPAG11A        1.208625e-14 -0.1329951 0.005 0.333  2.365883e-10  2.480789e-11\n",
      "[1] \"dim response\"\n",
      "[1] 14368     6\n"
     ]
    },
    {
     "name": "stderr",
     "output_type": "stream",
     "text": [
      "Saving 6.67 x 6.67 in image\n",
      "\n",
      "Saving 6.67 x 6.67 in image\n",
      "\n",
      "Saving 6.67 x 6.67 in image\n",
      "\n",
      "Saving 6.67 x 6.67 in image\n",
      "\n",
      "Saving 6.67 x 6.67 in image\n",
      "\n"
     ]
    },
    {
     "name": "stdout",
     "output_type": "stream",
     "text": [
      "[1] \"gally\"\n",
      "[1] \"p_val\"        \"avg_log2FC\"   \"pct.1\"        \"pct.2\"        \"p_val_adj\"   \n",
      "[6] \"p_val_adj_BH\"\n"
     ]
    },
    {
     "name": "stderr",
     "output_type": "stream",
     "text": [
      "Saving 6.67 x 6.67 in image\n",
      "\n"
     ]
    },
    {
     "name": "stdout",
     "output_type": "stream",
     "text": [
      "[1] \"X10873C\"\n",
      "[1] \"X10873C\"\n",
      "[1] \"se filt before\"\n",
      "[1] \"se filt\"\n",
      "An object of class Seurat \n",
      "189108 features across 3525 samples within 2 assays \n",
      "Active assay: RNA (19575 features, 0 variable features)\n",
      " 1 other assay present: ATAC\n",
      " 2 dimensional reductions calculated: integrated_lsi, umap\n",
      "[1] \"curr sig\"\n",
      "                 p_val avg_log2FC pct.1 pct.2    p_val_adj p_val_adj_BH\n",
      "KRTAP12-4 5.168121e-44 -0.1625307 0.001 0.333 1.011660e-39 7.525818e-40\n",
      "KCNA5     5.497632e-27 -0.2777571 0.011 0.667 1.076162e-22 3.384034e-23\n",
      "HBA2      6.971641e-27 -0.1091253 0.003 0.333 1.364699e-22 3.384034e-23\n",
      "MT1A      1.754628e-26 -0.3894060 0.011 0.667 3.434684e-22 6.387722e-23\n",
      "TKTL2     6.185141e-21 -0.1088343 0.003 0.333 1.210741e-16 1.801360e-17\n",
      "FZD10     5.202855e-20 -0.2721981 0.014 0.667 1.018459e-15 1.262733e-16\n",
      "[1] \"dim response\"\n",
      "[1] 14562     6\n"
     ]
    },
    {
     "name": "stderr",
     "output_type": "stream",
     "text": [
      "The automatically generated colors map from the 1^st and 99^th of the\n",
      "values in the matrix. There are outliers in the matrix whose patterns\n",
      "might be hidden by this color mapping. You can manually set the color\n",
      "to `col` argument.\n",
      "\n",
      "Use `suppressMessages()` to turn off this message.\n",
      "\n",
      "Saving 6.67 x 6.67 in image\n",
      "\n",
      "Saving 6.67 x 6.67 in image\n",
      "\n",
      "Saving 6.67 x 6.67 in image\n",
      "\n",
      "Saving 6.67 x 6.67 in image\n",
      "\n",
      "Saving 6.67 x 6.67 in image\n",
      "\n"
     ]
    },
    {
     "name": "stdout",
     "output_type": "stream",
     "text": [
      "[1] \"gally\"\n",
      "[1] \"p_val\"        \"avg_log2FC\"   \"pct.1\"        \"pct.2\"        \"p_val_adj\"   \n",
      "[6] \"p_val_adj_BH\"\n"
     ]
    },
    {
     "name": "stderr",
     "output_type": "stream",
     "text": [
      "Saving 6.67 x 6.67 in image\n",
      "\n"
     ]
    },
    {
     "name": "stdout",
     "output_type": "stream",
     "text": [
      "[1] \"X11914A\"\n",
      "[1] \"X11914A\"\n",
      "[1] \"se filt before\"\n",
      "[1] \"se filt\"\n",
      "An object of class Seurat \n",
      "189108 features across 3525 samples within 2 assays \n",
      "Active assay: RNA (19575 features, 0 variable features)\n",
      " 1 other assay present: ATAC\n",
      " 2 dimensional reductions calculated: integrated_lsi, umap\n",
      "[1] \"curr sig\"\n",
      "               p_val avg_log2FC pct.1 pct.2    p_val_adj p_val_adj_BH\n",
      "HBA2    9.637846e-30 -0.1096236 0.002 0.333 1.886608e-25 1.370984e-25\n",
      "TKTL2   1.372732e-22 -0.1096909 0.003 0.333 2.687122e-18 9.763555e-19\n",
      "OR7E24  1.476360e-18 -0.8773712 0.004 0.333 2.889974e-14 7.000406e-15\n",
      "SPDYE16 2.950205e-16 -0.1098214 0.005 0.333 5.775027e-12 1.049167e-12\n",
      "FOXF1   8.257352e-16 -0.3408195 0.019 0.667 1.616377e-11 2.349217e-12\n",
      "NPPB    1.265385e-15 -0.2200684 0.019 0.667 2.476991e-11 3.000016e-12\n",
      "[1] \"dim response\"\n",
      "[1] 14225     6\n"
     ]
    },
    {
     "name": "stderr",
     "output_type": "stream",
     "text": [
      "The automatically generated colors map from the 1^st and 99^th of the\n",
      "values in the matrix. There are outliers in the matrix whose patterns\n",
      "might be hidden by this color mapping. You can manually set the color\n",
      "to `col` argument.\n",
      "\n",
      "Use `suppressMessages()` to turn off this message.\n",
      "\n",
      "Saving 6.67 x 6.67 in image\n",
      "\n",
      "Saving 6.67 x 6.67 in image\n",
      "\n",
      "Saving 6.67 x 6.67 in image\n",
      "\n",
      "Saving 6.67 x 6.67 in image\n",
      "\n",
      "Saving 6.67 x 6.67 in image\n",
      "\n"
     ]
    },
    {
     "name": "stdout",
     "output_type": "stream",
     "text": [
      "[1] \"gally\"\n",
      "[1] \"p_val\"        \"avg_log2FC\"   \"pct.1\"        \"pct.2\"        \"p_val_adj\"   \n",
      "[6] \"p_val_adj_BH\"\n"
     ]
    },
    {
     "name": "stderr",
     "output_type": "stream",
     "text": [
      "Saving 6.67 x 6.67 in image\n",
      "\n"
     ]
    },
    {
     "name": "stdout",
     "output_type": "stream",
     "text": [
      "[1] \"X14766T\"\n",
      "[1] \"X14766T\"\n",
      "[1] \"se filt before\"\n",
      "[1] \"se filt\"\n",
      "An object of class Seurat \n",
      "189108 features across 3525 samples within 2 assays \n",
      "Active assay: RNA (19575 features, 0 variable features)\n",
      " 1 other assay present: ATAC\n",
      " 2 dimensional reductions calculated: integrated_lsi, umap\n",
      "Error in ValidateCellGroups(object = object, cells.1 = cells.1, cells.2 = cells.2,  : \n",
      "  Cell group 2 has fewer than 3 cells\n",
      "[1] \"X4715G\"\n",
      "[1] \"X4715G\"\n",
      "[1] \"se filt before\"\n",
      "[1] \"se filt\"\n",
      "An object of class Seurat \n",
      "189108 features across 3532 samples within 2 assays \n",
      "Active assay: RNA (19575 features, 0 variable features)\n",
      " 1 other assay present: ATAC\n",
      " 2 dimensional reductions calculated: integrated_lsi, umap\n",
      "[1] \"curr sig\"\n",
      "               p_val avg_log2FC pct.1 pct.2    p_val_adj p_val_adj_BH\n",
      "NKX2-4  2.245752e-25 -0.4388803 0.011 0.667 4.396059e-21 3.247133e-21\n",
      "HBA2    1.374911e-24 -0.1089673 0.003 0.333 2.691389e-20 9.939921e-21\n",
      "TKTL2   1.244326e-22 -0.1096843 0.003 0.333 2.435768e-18 4.077369e-19\n",
      "GOLGA6D 1.244326e-22 -0.1475512 0.003 0.333 2.435768e-18 4.077369e-19\n",
      "OLIG3   1.409976e-22 -0.2821714 0.013 0.667 2.760028e-18 4.077369e-19\n",
      "NEFL    3.721418e-22 -0.3880900 0.029 1.000 7.284676e-18 8.967997e-19\n",
      "[1] \"dim response\"\n",
      "[1] 14459     6\n"
     ]
    },
    {
     "name": "stderr",
     "output_type": "stream",
     "text": [
      "Saving 6.67 x 6.67 in image\n",
      "\n",
      "Saving 6.67 x 6.67 in image\n",
      "\n",
      "Saving 6.67 x 6.67 in image\n",
      "\n",
      "Saving 6.67 x 6.67 in image\n",
      "\n",
      "Saving 6.67 x 6.67 in image\n",
      "\n"
     ]
    },
    {
     "name": "stdout",
     "output_type": "stream",
     "text": [
      "[1] \"gally\"\n",
      "[1] \"p_val\"        \"avg_log2FC\"   \"pct.1\"        \"pct.2\"        \"p_val_adj\"   \n",
      "[6] \"p_val_adj_BH\"\n"
     ]
    },
    {
     "name": "stderr",
     "output_type": "stream",
     "text": [
      "Saving 6.67 x 6.67 in image\n",
      "\n"
     ]
    },
    {
     "name": "stdout",
     "output_type": "stream",
     "text": [
      "[1] \"X8642G\"\n",
      "[1] \"X8642G\"\n",
      "[1] \"se filt before\"\n",
      "[1] \"se filt\"\n",
      "An object of class Seurat \n",
      "189108 features across 3536 samples within 2 assays \n",
      "Active assay: RNA (19575 features, 0 variable features)\n",
      " 1 other assay present: ATAC\n",
      " 2 dimensional reductions calculated: integrated_lsi, umap\n",
      "[1] \"curr sig\"\n",
      "                 p_val avg_log2FC pct.1 pct.2     p_val_adj  p_val_adj_BH\n",
      "DEFB105A 6.079397e-258 -0.2240783 0.000 0.333 1.190042e-253 8.840659e-254\n",
      "DEFB106A 9.523905e-130 -0.2235260 0.000 0.333 1.864304e-125 6.924831e-126\n",
      "OR8H1     1.009661e-52 -0.1149147 0.001 0.333  1.976411e-48  4.894163e-49\n",
      "TNP1      2.053907e-33 -0.1381379 0.002 0.333  4.020524e-29  5.973584e-30\n",
      "SPANXN5   2.053907e-33 -0.1107325 0.002 0.333  4.020524e-29  5.973584e-30\n",
      "BEX3      3.240154e-26 -0.3772793 0.024 1.000  6.342602e-22  7.853054e-23\n",
      "[1] \"dim response\"\n",
      "[1] 14542     6\n"
     ]
    },
    {
     "name": "stderr",
     "output_type": "stream",
     "text": [
      "Saving 6.67 x 6.67 in image\n",
      "\n",
      "Saving 6.67 x 6.67 in image\n",
      "\n",
      "Saving 6.67 x 6.67 in image\n",
      "\n",
      "Saving 6.67 x 6.67 in image\n",
      "\n",
      "Saving 6.67 x 6.67 in image\n",
      "\n"
     ]
    },
    {
     "name": "stdout",
     "output_type": "stream",
     "text": [
      "[1] \"gally\"\n",
      "[1] \"p_val\"        \"avg_log2FC\"   \"pct.1\"        \"pct.2\"        \"p_val_adj\"   \n",
      "[6] \"p_val_adj_BH\"\n"
     ]
    },
    {
     "name": "stderr",
     "output_type": "stream",
     "text": [
      "Saving 6.67 x 6.67 in image\n",
      "\n"
     ]
    },
    {
     "name": "stdout",
     "output_type": "stream",
     "text": [
      "[1] \"X7697A\"\n",
      "[1] \"X7697A\"\n",
      "[1] \"se filt before\"\n",
      "[1] \"se filt\"\n",
      "An object of class Seurat \n",
      "189108 features across 3541 samples within 2 assays \n",
      "Active assay: RNA (19575 features, 0 variable features)\n",
      " 1 other assay present: ATAC\n",
      " 2 dimensional reductions calculated: integrated_lsi, umap\n",
      "[1] \"curr sig\"\n",
      "              p_val  avg_log2FC pct.1 pct.2    p_val_adj p_val_adj_BH\n",
      "OR5AC2 5.828392e-40 -0.07865772 0.001   0.2 1.140908e-35 8.724520e-36\n",
      "HBG1   4.818713e-27 -0.08123708 0.001   0.2 9.432631e-23 2.404377e-23\n",
      "OR4A5  4.818713e-27 -0.08055506 0.001   0.2 9.432631e-23 2.404377e-23\n",
      "TAAR8  2.408969e-23 -0.13595647 0.002   0.2 4.715557e-19 7.211972e-20\n",
      "PAGE2  2.408969e-23 -0.13609510 0.002   0.2 4.715557e-19 7.211972e-20\n",
      "GP9    2.992812e-20 -0.19912928 0.019   0.6 5.858429e-16 7.466566e-17\n",
      "[1] \"dim response\"\n",
      "[1] 14969     6\n"
     ]
    },
    {
     "name": "stderr",
     "output_type": "stream",
     "text": [
      "The automatically generated colors map from the 1^st and 99^th of the\n",
      "values in the matrix. There are outliers in the matrix whose patterns\n",
      "might be hidden by this color mapping. You can manually set the color\n",
      "to `col` argument.\n",
      "\n",
      "Use `suppressMessages()` to turn off this message.\n",
      "\n",
      "Saving 6.67 x 6.67 in image\n",
      "\n",
      "Saving 6.67 x 6.67 in image\n",
      "\n",
      "Saving 6.67 x 6.67 in image\n",
      "\n",
      "Saving 6.67 x 6.67 in image\n",
      "\n",
      "Saving 6.67 x 6.67 in image\n",
      "\n"
     ]
    },
    {
     "name": "stdout",
     "output_type": "stream",
     "text": [
      "[1] \"gally\"\n",
      "[1] \"p_val\"        \"avg_log2FC\"   \"pct.1\"        \"pct.2\"        \"p_val_adj\"   \n",
      "[6] \"p_val_adj_BH\"\n"
     ]
    },
    {
     "name": "stderr",
     "output_type": "stream",
     "text": [
      "Saving 6.67 x 6.67 in image\n",
      "\n"
     ]
    },
    {
     "name": "stdout",
     "output_type": "stream",
     "text": [
      "[1] \"X12308G\"\n",
      "[1] \"X12308G\"\n",
      "[1] \"se filt before\"\n",
      "[1] \"se filt\"\n",
      "An object of class Seurat \n",
      "189108 features across 3536 samples within 2 assays \n",
      "Active assay: RNA (19575 features, 0 variable features)\n",
      " 1 other assay present: ATAC\n",
      " 2 dimensional reductions calculated: integrated_lsi, umap\n",
      "[1] \"curr sig\"\n",
      "               p_val avg_log2FC pct.1 pct.2     p_val_adj  p_val_adj_BH\n",
      "NPIPA3 6.079397e-258 -0.1461565 0.000 0.333 1.190042e-253 8.964679e-254\n",
      "TNP1    2.053907e-33 -0.1381379 0.002 0.333  4.020524e-29  1.514346e-29\n",
      "SRY     6.767529e-30 -0.1436026 0.002 0.333  1.324744e-25  2.686938e-26\n",
      "AGAP9   7.288589e-30 -0.1436018 0.002 0.333  1.426741e-25  2.686938e-26\n",
      "HBA2    5.794831e-27 -0.1092355 0.003 0.333  1.134338e-22  1.709012e-23\n",
      "OR5B17  1.293330e-24 -0.1422718 0.003 0.333  2.531693e-20  2.724491e-21\n",
      "[1] \"dim response\"\n",
      "[1] 14746     6\n"
     ]
    },
    {
     "name": "stderr",
     "output_type": "stream",
     "text": [
      "Saving 6.67 x 6.67 in image\n",
      "\n",
      "Saving 6.67 x 6.67 in image\n",
      "\n",
      "Saving 6.67 x 6.67 in image\n",
      "\n",
      "Saving 6.67 x 6.67 in image\n",
      "\n",
      "Saving 6.67 x 6.67 in image\n",
      "\n"
     ]
    },
    {
     "name": "stdout",
     "output_type": "stream",
     "text": [
      "[1] \"gally\"\n",
      "[1] \"p_val\"        \"avg_log2FC\"   \"pct.1\"        \"pct.2\"        \"p_val_adj\"   \n",
      "[6] \"p_val_adj_BH\"\n"
     ]
    },
    {
     "name": "stderr",
     "output_type": "stream",
     "text": [
      "Saving 6.67 x 6.67 in image\n",
      "\n"
     ]
    },
    {
     "name": "stdout",
     "output_type": "stream",
     "text": [
      "[1] \"X2291T\"\n",
      "[1] \"X2291T\"\n",
      "[1] \"se filt before\"\n",
      "[1] \"se filt\"\n",
      "An object of class Seurat \n",
      "189108 features across 3625 samples within 2 assays \n",
      "Active assay: RNA (19575 features, 0 variable features)\n",
      " 1 other assay present: ATAC\n",
      " 2 dimensional reductions calculated: integrated_lsi, umap\n",
      "[1] \"curr sig\"\n",
      "                p_val avg_log2FC pct.1 pct.2    p_val_adj p_val_adj_BH\n",
      "BEX2     2.617785e-29 -0.1344360 0.023 0.324 5.124315e-25 4.022751e-25\n",
      "KIAA1683 2.965548e-26 -0.4976536 0.079 0.568 5.805061e-22 2.278579e-22\n",
      "GRASP    6.215252e-24 -0.2939939 0.092 0.622 1.216636e-19 3.183659e-20\n",
      "MAGEE1   2.290920e-22 -0.1600983 0.030 0.324 4.484476e-18 8.801142e-19\n",
      "LKAAEAR1 3.691193e-22 -0.1176881 0.030 0.324 7.225510e-18 1.134451e-18\n",
      "SMKR1    4.505321e-22 -0.2145962 0.058 0.459 8.819167e-18 1.153888e-18\n",
      "[1] \"dim response\"\n",
      "[1] 15367     6\n"
     ]
    },
    {
     "name": "stderr",
     "output_type": "stream",
     "text": [
      "The automatically generated colors map from the 1^st and 99^th of the\n",
      "values in the matrix. There are outliers in the matrix whose patterns\n",
      "might be hidden by this color mapping. You can manually set the color\n",
      "to `col` argument.\n",
      "\n",
      "Use `suppressMessages()` to turn off this message.\n",
      "\n",
      "Saving 6.67 x 6.67 in image\n",
      "\n",
      "Saving 6.67 x 6.67 in image\n",
      "\n",
      "Saving 6.67 x 6.67 in image\n",
      "\n",
      "Saving 6.67 x 6.67 in image\n",
      "\n",
      "Saving 6.67 x 6.67 in image\n",
      "\n"
     ]
    },
    {
     "name": "stdout",
     "output_type": "stream",
     "text": [
      "[1] \"gally\"\n",
      "[1] \"p_val\"        \"avg_log2FC\"   \"pct.1\"        \"pct.2\"        \"p_val_adj\"   \n",
      "[6] \"p_val_adj_BH\"\n"
     ]
    },
    {
     "name": "stderr",
     "output_type": "stream",
     "text": [
      "Saving 6.67 x 6.67 in image\n",
      "\n"
     ]
    },
    {
     "name": "stdout",
     "output_type": "stream",
     "text": [
      "[1] \"X8584A\"\n",
      "[1] \"X8584A\"\n",
      "[1] \"se filt before\"\n",
      "[1] \"se filt\"\n",
      "An object of class Seurat \n",
      "189108 features across 3545 samples within 2 assays \n",
      "Active assay: RNA (19575 features, 0 variable features)\n",
      " 1 other assay present: ATAC\n",
      " 2 dimensional reductions calculated: integrated_lsi, umap\n",
      "[1] \"curr sig\"\n",
      "                p_val  avg_log2FC pct.1 pct.2    p_val_adj p_val_adj_BH\n",
      "TSPY8    5.784121e-98 -0.10694671 0.000  0.25 1.132242e-93 8.704524e-94\n",
      "FAM90A26 7.573137e-66 -0.10692221 0.001  0.25 1.482442e-61 5.698407e-62\n",
      "FOXD4L5  1.597214e-33 -0.10561898 0.001  0.25 3.126547e-29 6.009119e-30\n",
      "GOLGA8T  1.597214e-33 -0.09035845 0.001  0.25 3.126547e-29 6.009119e-30\n",
      "HOXC11   1.341853e-25 -0.25091806 0.018  0.75 2.626678e-21 4.038710e-22\n",
      "KRTAP4-8 1.953873e-25 -0.10466168 0.002  0.25 3.824707e-21 4.900640e-22\n",
      "[1] \"dim response\"\n",
      "[1] 15049     6\n"
     ]
    },
    {
     "name": "stderr",
     "output_type": "stream",
     "text": [
      "Saving 6.67 x 6.67 in image\n",
      "\n",
      "Saving 6.67 x 6.67 in image\n",
      "\n",
      "Saving 6.67 x 6.67 in image\n",
      "\n",
      "Saving 6.67 x 6.67 in image\n",
      "\n",
      "Saving 6.67 x 6.67 in image\n",
      "\n"
     ]
    },
    {
     "name": "stdout",
     "output_type": "stream",
     "text": [
      "[1] \"gally\"\n",
      "[1] \"p_val\"        \"avg_log2FC\"   \"pct.1\"        \"pct.2\"        \"p_val_adj\"   \n",
      "[6] \"p_val_adj_BH\"\n"
     ]
    },
    {
     "name": "stderr",
     "output_type": "stream",
     "text": [
      "Saving 6.67 x 6.67 in image\n",
      "\n"
     ]
    },
    {
     "name": "stdout",
     "output_type": "stream",
     "text": [
      "[1] \"X11467G\"\n",
      "[1] \"X11467G\"\n",
      "[1] \"se filt before\"\n",
      "[1] \"se filt\"\n",
      "An object of class Seurat \n",
      "189108 features across 3545 samples within 2 assays \n",
      "Active assay: RNA (19575 features, 0 variable features)\n",
      " 1 other assay present: ATAC\n",
      " 2 dimensional reductions calculated: integrated_lsi, umap\n",
      "Error in ValidateCellGroups(object = object, cells.1 = cells.1, cells.2 = cells.2,  : \n",
      "  Cell group 2 has fewer than 3 cells\n",
      "[1] \"X15301A\"\n",
      "[1] \"X15301A\"\n",
      "[1] \"se filt before\"\n",
      "[1] \"se filt\"\n",
      "An object of class Seurat \n",
      "189108 features across 3545 samples within 2 assays \n",
      "Active assay: RNA (19575 features, 0 variable features)\n",
      " 1 other assay present: ATAC\n",
      " 2 dimensional reductions calculated: integrated_lsi, umap\n",
      "Error in ValidateCellGroups(object = object, cells.1 = cells.1, cells.2 = cells.2,  : \n",
      "  Cell group 2 has fewer than 3 cells\n",
      "[1] \"X5252A\"\n",
      "[1] \"X5252A\"\n",
      "[1] \"se filt before\"\n",
      "[1] \"se filt\"\n",
      "An object of class Seurat \n",
      "189108 features across 3551 samples within 2 assays \n",
      "Active assay: RNA (19575 features, 0 variable features)\n",
      " 1 other assay present: ATAC\n",
      " 2 dimensional reductions calculated: integrated_lsi, umap\n",
      "[1] \"curr sig\"\n",
      "               p_val avg_log2FC pct.1 pct.2    p_val_adj p_val_adj_BH\n",
      "OR4S1   1.028232e-24 -0.1505155 0.003 0.333 2.012764e-20 7.444401e-21\n",
      "HBA2    1.028232e-24 -0.1089964 0.003 0.333 2.012764e-20 7.444401e-21\n",
      "TKTL2   9.531690e-23 -0.1090823 0.003 0.333 1.865828e-18 4.600629e-19\n",
      "KLRC4   9.330433e-20 -0.2852221 0.015 0.667 1.826432e-15 3.377617e-16\n",
      "SLC7A3  5.149917e-19 -0.2530397 0.015 0.667 1.008096e-14 1.491416e-15\n",
      "GPRASP2 4.160388e-18 -0.2894568 0.016 0.667 8.143959e-14 1.004040e-14\n",
      "[1] \"dim response\"\n",
      "[1] 14480     6\n"
     ]
    },
    {
     "name": "stderr",
     "output_type": "stream",
     "text": [
      "The automatically generated colors map from the 1^st and 99^th of the\n",
      "values in the matrix. There are outliers in the matrix whose patterns\n",
      "might be hidden by this color mapping. You can manually set the color\n",
      "to `col` argument.\n",
      "\n",
      "Use `suppressMessages()` to turn off this message.\n",
      "\n",
      "Saving 6.67 x 6.67 in image\n",
      "\n",
      "Saving 6.67 x 6.67 in image\n",
      "\n",
      "Saving 6.67 x 6.67 in image\n",
      "\n",
      "Saving 6.67 x 6.67 in image\n",
      "\n",
      "Saving 6.67 x 6.67 in image\n",
      "\n"
     ]
    },
    {
     "name": "stdout",
     "output_type": "stream",
     "text": [
      "[1] \"gally\"\n",
      "[1] \"p_val\"        \"avg_log2FC\"   \"pct.1\"        \"pct.2\"        \"p_val_adj\"   \n",
      "[6] \"p_val_adj_BH\"\n"
     ]
    },
    {
     "name": "stderr",
     "output_type": "stream",
     "text": [
      "Saving 6.67 x 6.67 in image\n",
      "\n"
     ]
    },
    {
     "name": "stdout",
     "output_type": "stream",
     "text": [
      "[1] \"X1040C\"\n",
      "[1] \"X1040C\"\n",
      "[1] \"se filt before\"\n",
      "[1] \"se filt\"\n",
      "An object of class Seurat \n",
      "189108 features across 3581 samples within 2 assays \n",
      "Active assay: RNA (19575 features, 0 variable features)\n",
      " 1 other assay present: ATAC\n",
      " 2 dimensional reductions calculated: integrated_lsi, umap\n",
      "[1] \"curr sig\"\n",
      "                        p_val avg_log2FC pct.1 pct.2    p_val_adj p_val_adj_BH\n",
      "MSX1             1.157731e-15 -0.2723310 0.035 0.412 2.266259e-11 1.779433e-11\n",
      "CASC10           5.277465e-15 -0.3826520 0.084 0.647 1.033064e-10 2.895759e-11\n",
      "WNT10A           5.652099e-15 -0.5477902 0.123 0.765 1.106398e-10 2.895759e-11\n",
      "XXbac-BPG32J3.19 1.295696e-14 -0.1454212 0.047 0.471 2.536325e-10 4.978713e-11\n",
      "GP5              5.061859e-14 -0.1871282 0.049 0.471 9.908590e-10 1.556016e-10\n",
      "RP11-514P8.6     9.450668e-14 -0.1347495 0.029 0.353 1.849968e-09 2.420946e-10\n",
      "[1] \"dim response\"\n",
      "[1] 15370     6\n"
     ]
    },
    {
     "name": "stderr",
     "output_type": "stream",
     "text": [
      "The automatically generated colors map from the 1^st and 99^th of the\n",
      "values in the matrix. There are outliers in the matrix whose patterns\n",
      "might be hidden by this color mapping. You can manually set the color\n",
      "to `col` argument.\n",
      "\n",
      "Use `suppressMessages()` to turn off this message.\n",
      "\n",
      "Saving 6.67 x 6.67 in image\n",
      "\n",
      "Saving 6.67 x 6.67 in image\n",
      "\n",
      "Saving 6.67 x 6.67 in image\n",
      "\n",
      "Saving 6.67 x 6.67 in image\n",
      "\n",
      "Saving 6.67 x 6.67 in image\n",
      "\n"
     ]
    },
    {
     "name": "stdout",
     "output_type": "stream",
     "text": [
      "[1] \"gally\"\n",
      "[1] \"p_val\"        \"avg_log2FC\"   \"pct.1\"        \"pct.2\"        \"p_val_adj\"   \n",
      "[6] \"p_val_adj_BH\"\n"
     ]
    },
    {
     "name": "stderr",
     "output_type": "stream",
     "text": [
      "Saving 6.67 x 6.67 in image\n",
      "\n"
     ]
    },
    {
     "name": "stdout",
     "output_type": "stream",
     "text": [
      "[1] \"X3144G\"\n",
      "[1] \"X3144G\"\n",
      "[1] \"se filt before\"\n",
      "[1] \"se filt\"\n",
      "An object of class Seurat \n",
      "189108 features across 3549 samples within 2 assays \n",
      "Active assay: RNA (19575 features, 0 variable features)\n",
      " 1 other assay present: ATAC\n",
      " 2 dimensional reductions calculated: integrated_lsi, umap\n",
      "Error in ValidateCellGroups(object = object, cells.1 = cells.1, cells.2 = cells.2,  : \n",
      "  Cell group 2 has fewer than 3 cells\n",
      "[1] \"X523C\"\n",
      "[1] \"X523C\"\n",
      "[1] \"se filt before\"\n",
      "[1] \"se filt\"\n",
      "An object of class Seurat \n",
      "189108 features across 3654 samples within 2 assays \n",
      "Active assay: RNA (19575 features, 0 variable features)\n",
      " 1 other assay present: ATAC\n",
      " 2 dimensional reductions calculated: integrated_lsi, umap\n",
      "[1] \"curr sig\"\n",
      "             p_val  avg_log2FC pct.1 pct.2    p_val_adj p_val_adj_BH\n",
      "OXT   4.011423e-36 -0.14619710 0.022 0.326 7.852360e-32 6.263436e-32\n",
      "GP5   1.479099e-35 -0.23093208 0.048 0.478 2.895335e-31 1.154732e-31\n",
      "EGR3  9.567913e-35 -0.22955210 0.075 0.609 1.872919e-30 4.979780e-31\n",
      "NAA30 1.202588e-32 -0.33586279 0.118 0.761 2.354067e-28 4.694304e-29\n",
      "LDOC1 1.592171e-31 -0.09781264 0.019 0.283 3.116674e-27 4.972030e-28\n",
      "GDF6  3.473595e-31 -0.27794014 0.083 0.609 6.799562e-27 9.039452e-28\n",
      "[1] \"dim response\"\n",
      "[1] 15614     6\n"
     ]
    },
    {
     "name": "stderr",
     "output_type": "stream",
     "text": [
      "The automatically generated colors map from the 1^st and 99^th of the\n",
      "values in the matrix. There are outliers in the matrix whose patterns\n",
      "might be hidden by this color mapping. You can manually set the color\n",
      "to `col` argument.\n",
      "\n",
      "Use `suppressMessages()` to turn off this message.\n",
      "\n",
      "Saving 6.67 x 6.67 in image\n",
      "\n",
      "Saving 6.67 x 6.67 in image\n",
      "\n",
      "Saving 6.67 x 6.67 in image\n",
      "\n",
      "Saving 6.67 x 6.67 in image\n",
      "\n",
      "Saving 6.67 x 6.67 in image\n",
      "\n"
     ]
    },
    {
     "name": "stdout",
     "output_type": "stream",
     "text": [
      "[1] \"gally\"\n",
      "[1] \"p_val\"        \"avg_log2FC\"   \"pct.1\"        \"pct.2\"        \"p_val_adj\"   \n",
      "[6] \"p_val_adj_BH\"\n"
     ]
    },
    {
     "name": "stderr",
     "output_type": "stream",
     "text": [
      "Saving 6.67 x 6.67 in image\n",
      "\n"
     ]
    },
    {
     "name": "stdout",
     "output_type": "stream",
     "text": [
      "[1] \"X15043A\"\n",
      "[1] \"X15043A\"\n",
      "[1] \"se filt before\"\n",
      "[1] \"se filt\"\n",
      "An object of class Seurat \n",
      "189108 features across 3560 samples within 2 assays \n",
      "Active assay: RNA (19575 features, 0 variable features)\n",
      " 1 other assay present: ATAC\n",
      " 2 dimensional reductions calculated: integrated_lsi, umap\n",
      "[1] \"curr sig\"\n",
      "               p_val  avg_log2FC pct.1 pct.2    p_val_adj p_val_adj_BH\n",
      "FOXF1   8.566876e-45 -0.46761623 0.018  1.00 1.676966e-40 1.271581e-40\n",
      "TAS2R16 1.166092e-33 -0.10704893 0.001  0.25 2.282625e-29 8.654151e-30\n",
      "FSHB    5.074228e-29 -0.10694522 0.002  0.25 9.932800e-25 2.510559e-25\n",
      "TNP1    7.944171e-23 -0.10670304 0.002  0.25 1.555071e-18 2.947883e-19\n",
      "HBA2    7.093220e-19 -0.08124716 0.003  0.25 1.388498e-14 2.105693e-15\n",
      "ADAD2   2.111353e-18 -0.41094470 0.026  0.75 4.132974e-14 5.223137e-15\n",
      "[1] \"dim response\"\n",
      "[1] 14843     6\n"
     ]
    },
    {
     "name": "stderr",
     "output_type": "stream",
     "text": [
      "Saving 6.67 x 6.67 in image\n",
      "\n",
      "Saving 6.67 x 6.67 in image\n",
      "\n",
      "Saving 6.67 x 6.67 in image\n",
      "\n",
      "Saving 6.67 x 6.67 in image\n",
      "\n",
      "Saving 6.67 x 6.67 in image\n",
      "\n"
     ]
    },
    {
     "name": "stdout",
     "output_type": "stream",
     "text": [
      "[1] \"gally\"\n",
      "[1] \"p_val\"        \"avg_log2FC\"   \"pct.1\"        \"pct.2\"        \"p_val_adj\"   \n",
      "[6] \"p_val_adj_BH\"\n"
     ]
    },
    {
     "name": "stderr",
     "output_type": "stream",
     "text": [
      "Saving 6.67 x 6.67 in image\n",
      "\n"
     ]
    },
    {
     "name": "stdout",
     "output_type": "stream",
     "text": [
      "[1] \"X5999C\"\n",
      "[1] \"X5999C\"\n",
      "[1] \"se filt before\"\n",
      "[1] \"se filt\"\n",
      "An object of class Seurat \n",
      "189108 features across 3560 samples within 2 assays \n",
      "Active assay: RNA (19575 features, 0 variable features)\n",
      " 1 other assay present: ATAC\n",
      " 2 dimensional reductions calculated: integrated_lsi, umap\n",
      "Error in ValidateCellGroups(object = object, cells.1 = cells.1, cells.2 = cells.2,  : \n",
      "  Cell group 2 has fewer than 3 cells\n",
      "[1] \"X14620T\"\n",
      "[1] \"X14620T\"\n",
      "[1] \"se filt before\"\n",
      "[1] \"se filt\"\n",
      "An object of class Seurat \n",
      "189108 features across 3560 samples within 2 assays \n",
      "Active assay: RNA (19575 features, 0 variable features)\n",
      " 1 other assay present: ATAC\n",
      " 2 dimensional reductions calculated: integrated_lsi, umap\n",
      "Error in ValidateCellGroups(object = object, cells.1 = cells.1, cells.2 = cells.2,  : \n",
      "  Cell group 2 has fewer than 3 cells\n",
      "[1] \"X73G\"\n",
      "[1] \"X73G\"\n",
      "[1] \"se filt before\"\n",
      "[1] \"se filt\"\n",
      "An object of class Seurat \n",
      "189108 features across 3562 samples within 2 assays \n",
      "Active assay: RNA (19575 features, 0 variable features)\n",
      " 1 other assay present: ATAC\n",
      " 2 dimensional reductions calculated: integrated_lsi, umap\n",
      "Error in ValidateCellGroups(object = object, cells.1 = cells.1, cells.2 = cells.2,  : \n",
      "  Cell group 2 has fewer than 3 cells\n",
      "[1] \"X6047G\"\n",
      "[1] \"X6047G\"\n",
      "[1] \"se filt before\"\n",
      "[1] \"se filt\"\n",
      "An object of class Seurat \n",
      "189108 features across 3566 samples within 2 assays \n",
      "Active assay: RNA (19575 features, 0 variable features)\n",
      " 1 other assay present: ATAC\n",
      " 2 dimensional reductions calculated: integrated_lsi, umap\n",
      "Error in ValidateCellGroups(object = object, cells.1 = cells.1, cells.2 = cells.2,  : \n",
      "  Cell group 2 has fewer than 3 cells\n",
      "[1] \"X11339C\"\n",
      "[1] \"X11339C\"\n",
      "[1] \"se filt before\"\n",
      "[1] \"se filt\"\n",
      "An object of class Seurat \n",
      "189108 features across 3573 samples within 2 assays \n",
      "Active assay: RNA (19575 features, 0 variable features)\n",
      " 1 other assay present: ATAC\n",
      " 2 dimensional reductions calculated: integrated_lsi, umap\n",
      "[1] \"curr sig\"\n",
      "                     p_val avg_log2FC pct.1 pct.2     p_val_adj  p_val_adj_BH\n",
      "NPIPA3       1.268971e-260 -0.1461565 0.000 0.333 2.484011e-256 1.808157e-256\n",
      "CBSL          3.017062e-66 -0.1240315 0.001 0.333  5.905900e-62  2.149506e-62\n",
      "GS1-309P15.2  2.926104e-53 -0.1238165 0.001 0.333  5.727848e-49  1.389802e-49\n",
      "SRY           3.393182e-30 -0.1436291 0.002 0.333  6.642153e-26  1.208736e-26\n",
      "AGAP9         3.111540e-27 -0.1433118 0.003 0.333  6.090839e-23  7.389389e-24\n",
      "OR5B17        3.111540e-27 -0.1428800 0.003 0.333  6.090839e-23  7.389389e-24\n",
      "[1] \"dim response\"\n",
      "[1] 14249     6\n"
     ]
    },
    {
     "name": "stderr",
     "output_type": "stream",
     "text": [
      "Saving 6.67 x 6.67 in image\n",
      "\n",
      "Saving 6.67 x 6.67 in image\n",
      "\n",
      "Saving 6.67 x 6.67 in image\n",
      "\n",
      "Saving 6.67 x 6.67 in image\n",
      "\n",
      "Saving 6.67 x 6.67 in image\n",
      "\n"
     ]
    },
    {
     "name": "stdout",
     "output_type": "stream",
     "text": [
      "[1] \"gally\"\n",
      "[1] \"p_val\"        \"avg_log2FC\"   \"pct.1\"        \"pct.2\"        \"p_val_adj\"   \n",
      "[6] \"p_val_adj_BH\"\n"
     ]
    },
    {
     "name": "stderr",
     "output_type": "stream",
     "text": [
      "Saving 6.67 x 6.67 in image\n",
      "\n"
     ]
    },
    {
     "name": "stdout",
     "output_type": "stream",
     "text": [
      "[1] \"X10400T\"\n",
      "[1] \"X10400T\"\n",
      "[1] \"se filt before\"\n",
      "[1] \"se filt\"\n",
      "An object of class Seurat \n",
      "189108 features across 3570 samples within 2 assays \n",
      "Active assay: RNA (19575 features, 0 variable features)\n",
      " 1 other assay present: ATAC\n",
      " 2 dimensional reductions calculated: integrated_lsi, umap\n",
      "Error in ValidateCellGroups(object = object, cells.1 = cells.1, cells.2 = cells.2,  : \n",
      "  Cell group 2 has fewer than 3 cells\n",
      "[1] \"X10516A\"\n",
      "[1] \"X10516A\"\n",
      "[1] \"se filt before\"\n",
      "[1] \"se filt\"\n",
      "An object of class Seurat \n",
      "189108 features across 3644 samples within 2 assays \n",
      "Active assay: RNA (19575 features, 0 variable features)\n",
      " 1 other assay present: ATAC\n",
      " 2 dimensional reductions calculated: integrated_lsi, umap\n",
      "[1] \"curr sig\"\n",
      "               p_val avg_log2FC pct.1 pct.2    p_val_adj p_val_adj_BH\n",
      "TMEM88B 3.431360e-26 -0.1082435 0.010 0.206 6.716888e-22 5.267481e-22\n",
      "MIXL1   6.082540e-23 -0.1411048 0.023 0.294 1.190657e-18 4.668653e-19\n",
      "GRASP   5.070399e-22 -0.2830704 0.091 0.618 9.925306e-18 2.194020e-18\n",
      "ITM2C   5.716942e-22 -0.4362051 0.161 0.853 1.119091e-17 2.194020e-18\n",
      "PCSK1N  1.303762e-21 -0.1209031 0.020 0.265 2.552115e-17 4.002811e-18\n",
      "MYCN    3.311685e-20 -0.1870680 0.073 0.529 6.482624e-16 8.472947e-17\n",
      "[1] \"dim response\"\n",
      "[1] 15351     6\n"
     ]
    },
    {
     "name": "stderr",
     "output_type": "stream",
     "text": [
      "The automatically generated colors map from the 1^st and 99^th of the\n",
      "values in the matrix. There are outliers in the matrix whose patterns\n",
      "might be hidden by this color mapping. You can manually set the color\n",
      "to `col` argument.\n",
      "\n",
      "Use `suppressMessages()` to turn off this message.\n",
      "\n",
      "Saving 6.67 x 6.67 in image\n",
      "\n",
      "Saving 6.67 x 6.67 in image\n",
      "\n",
      "Saving 6.67 x 6.67 in image\n",
      "\n",
      "Saving 6.67 x 6.67 in image\n",
      "\n",
      "Saving 6.67 x 6.67 in image\n",
      "\n"
     ]
    },
    {
     "name": "stdout",
     "output_type": "stream",
     "text": [
      "[1] \"gally\"\n",
      "[1] \"p_val\"        \"avg_log2FC\"   \"pct.1\"        \"pct.2\"        \"p_val_adj\"   \n",
      "[6] \"p_val_adj_BH\"\n"
     ]
    },
    {
     "name": "stderr",
     "output_type": "stream",
     "text": [
      "Saving 6.67 x 6.67 in image\n",
      "\n"
     ]
    },
    {
     "name": "stdout",
     "output_type": "stream",
     "text": [
      "[1] \"X11332T\"\n",
      "[1] \"X11332T\"\n",
      "[1] \"se filt before\"\n",
      "[1] \"se filt\"\n",
      "An object of class Seurat \n",
      "189108 features across 3574 samples within 2 assays \n",
      "Active assay: RNA (19575 features, 0 variable features)\n",
      " 1 other assay present: ATAC\n",
      " 2 dimensional reductions calculated: integrated_lsi, umap\n",
      "Error in ValidateCellGroups(object = object, cells.1 = cells.1, cells.2 = cells.2,  : \n",
      "  Cell group 2 has fewer than 3 cells\n",
      "[1] \"X7705C\"\n",
      "[1] \"X7705C\"\n",
      "[1] \"se filt before\"\n",
      "[1] \"se filt\"\n",
      "An object of class Seurat \n",
      "189108 features across 3575 samples within 2 assays \n",
      "Active assay: RNA (19575 features, 0 variable features)\n",
      " 1 other assay present: ATAC\n",
      " 2 dimensional reductions calculated: integrated_lsi, umap\n",
      "Error in ValidateCellGroups(object = object, cells.1 = cells.1, cells.2 = cells.2,  : \n",
      "  Cell group 2 has fewer than 3 cells\n",
      "[1] \"X3820A\"\n",
      "[1] \"X3820A\"\n",
      "[1] \"se filt before\"\n",
      "[1] \"se filt\"\n",
      "An object of class Seurat \n",
      "189108 features across 3629 samples within 2 assays \n",
      "Active assay: RNA (19575 features, 0 variable features)\n",
      " 1 other assay present: ATAC\n",
      " 2 dimensional reductions calculated: integrated_lsi, umap\n",
      "[1] \"curr sig\"\n",
      "              p_val avg_log2FC pct.1 pct.2    p_val_adj p_val_adj_BH\n",
      "MFAP2  3.074153e-22 -0.1670745 0.030 0.370 6.017655e-18 4.701302e-18\n",
      "WNT10A 4.306526e-21 -0.5218178 0.122 0.741 8.430024e-17 2.571659e-17\n",
      "PTCHD1 5.044776e-21 -0.3131663 0.092 0.667 9.875149e-17 2.571659e-17\n",
      "IFITM1 1.245907e-19 -0.1867466 0.034 0.370 2.438863e-15 4.763414e-16\n",
      "CMTM2  8.657983e-19 -0.1752241 0.042 0.407 1.694800e-14 2.648131e-15\n",
      "MAGEE1 6.331782e-18 -0.1236345 0.030 0.333 1.239446e-13 1.565700e-14\n",
      "[1] \"dim response\"\n",
      "[1] 15293     6\n"
     ]
    },
    {
     "name": "stderr",
     "output_type": "stream",
     "text": [
      "The automatically generated colors map from the 1^st and 99^th of the\n",
      "values in the matrix. There are outliers in the matrix whose patterns\n",
      "might be hidden by this color mapping. You can manually set the color\n",
      "to `col` argument.\n",
      "\n",
      "Use `suppressMessages()` to turn off this message.\n",
      "\n",
      "Saving 6.67 x 6.67 in image\n",
      "\n",
      "Saving 6.67 x 6.67 in image\n",
      "\n",
      "Saving 6.67 x 6.67 in image\n",
      "\n",
      "Saving 6.67 x 6.67 in image\n",
      "\n",
      "Saving 6.67 x 6.67 in image\n",
      "\n"
     ]
    },
    {
     "name": "stdout",
     "output_type": "stream",
     "text": [
      "[1] \"gally\"\n",
      "[1] \"p_val\"        \"avg_log2FC\"   \"pct.1\"        \"pct.2\"        \"p_val_adj\"   \n",
      "[6] \"p_val_adj_BH\"\n"
     ]
    },
    {
     "name": "stderr",
     "output_type": "stream",
     "text": [
      "Saving 6.67 x 6.67 in image\n",
      "\n"
     ]
    },
    {
     "name": "stdout",
     "output_type": "stream",
     "text": [
      "[1] \"X489C\"\n",
      "[1] \"X489C\"\n",
      "[1] \"se filt before\"\n",
      "[1] \"se filt\"\n",
      "An object of class Seurat \n",
      "189108 features across 3575 samples within 2 assays \n",
      "Active assay: RNA (19575 features, 0 variable features)\n",
      " 1 other assay present: ATAC\n",
      " 2 dimensional reductions calculated: integrated_lsi, umap\n",
      "Error in ValidateCellGroups(object = object, cells.1 = cells.1, cells.2 = cells.2,  : \n",
      "  Cell group 2 has fewer than 3 cells\n",
      "[1] \"X4837A\"\n",
      "[1] \"X4837A\"\n",
      "[1] \"se filt before\"\n",
      "[1] \"se filt\"\n",
      "An object of class Seurat \n",
      "189108 features across 3674 samples within 2 assays \n",
      "Active assay: RNA (19575 features, 0 variable features)\n",
      " 1 other assay present: ATAC\n",
      " 2 dimensional reductions calculated: integrated_lsi, umap\n",
      "[1] \"curr sig\"\n",
      "                 p_val avg_log2FC pct.1 pct.2    p_val_adj p_val_adj_BH\n",
      "SMIM6     1.011301e-36 -0.2672557 0.067 0.605 1.979622e-32 1.548403e-32\n",
      "LKAAEAR1  1.205180e-33 -0.1777226 0.030 0.372 2.359141e-29 9.226259e-30\n",
      "TMEM88B   1.573607e-32 -0.1095722 0.010 0.209 3.080336e-28 8.031168e-29\n",
      "NKX3-1    3.197109e-32 -0.2050187 0.035 0.395 6.258341e-28 1.223773e-28\n",
      "KRTAP16-1 4.579691e-32 -0.2455787 0.048 0.465 8.964746e-28 1.402393e-28\n",
      "SHISA3    7.880898e-32 -0.2203095 0.044 0.442 1.542686e-27 2.011074e-28\n",
      "[1] \"dim response\"\n",
      "[1] 15311     6\n"
     ]
    },
    {
     "name": "stderr",
     "output_type": "stream",
     "text": [
      "The automatically generated colors map from the 1^st and 99^th of the\n",
      "values in the matrix. There are outliers in the matrix whose patterns\n",
      "might be hidden by this color mapping. You can manually set the color\n",
      "to `col` argument.\n",
      "\n",
      "Use `suppressMessages()` to turn off this message.\n",
      "\n",
      "Saving 6.67 x 6.67 in image\n",
      "\n",
      "Saving 6.67 x 6.67 in image\n",
      "\n",
      "Saving 6.67 x 6.67 in image\n",
      "\n",
      "Saving 6.67 x 6.67 in image\n",
      "\n",
      "Saving 6.67 x 6.67 in image\n",
      "\n"
     ]
    },
    {
     "name": "stdout",
     "output_type": "stream",
     "text": [
      "[1] \"gally\"\n",
      "[1] \"p_val\"        \"avg_log2FC\"   \"pct.1\"        \"pct.2\"        \"p_val_adj\"   \n",
      "[6] \"p_val_adj_BH\"\n"
     ]
    },
    {
     "name": "stderr",
     "output_type": "stream",
     "text": [
      "Saving 6.67 x 6.67 in image\n",
      "\n"
     ]
    },
    {
     "name": "stdout",
     "output_type": "stream",
     "text": [
      "[1] \"X12372A\"\n",
      "[1] \"X12372A\"\n",
      "[1] \"se filt before\"\n",
      "[1] \"se filt\"\n",
      "An object of class Seurat \n",
      "189108 features across 3585 samples within 2 assays \n",
      "Active assay: RNA (19575 features, 0 variable features)\n",
      " 1 other assay present: ATAC\n",
      " 2 dimensional reductions calculated: integrated_lsi, umap\n",
      "[1] \"curr sig\"\n",
      "                    p_val avg_log2FC pct.1 pct.2    p_val_adj p_val_adj_BH\n",
      "CBSL         3.656224e-88 -0.1244115 0.001 0.333 7.157058e-84 5.310299e-84\n",
      "TCEAL2       1.269036e-58 -0.2496164 0.004 0.667 2.484138e-54 9.215738e-55\n",
      "GS1-309P15.2 1.958147e-53 -0.1238323 0.001 0.333 3.833073e-49 9.480042e-50\n",
      "TNP1         7.349543e-34 -0.1381670 0.002 0.333 1.438673e-29 2.668619e-30\n",
      "TMEM88B      2.142920e-31 -0.2444964 0.009 0.667 4.194766e-27 5.831303e-28\n",
      "OR6F1        2.408966e-31 -0.2440107 0.009 0.667 4.715551e-27 5.831303e-28\n",
      "[1] \"dim response\"\n",
      "[1] 14524     6\n"
     ]
    },
    {
     "name": "stderr",
     "output_type": "stream",
     "text": [
      "Saving 6.67 x 6.67 in image\n",
      "\n",
      "Saving 6.67 x 6.67 in image\n",
      "\n",
      "Saving 6.67 x 6.67 in image\n",
      "\n",
      "Saving 6.67 x 6.67 in image\n",
      "\n",
      "Saving 6.67 x 6.67 in image\n",
      "\n"
     ]
    },
    {
     "name": "stdout",
     "output_type": "stream",
     "text": [
      "[1] \"gally\"\n",
      "[1] \"p_val\"        \"avg_log2FC\"   \"pct.1\"        \"pct.2\"        \"p_val_adj\"   \n",
      "[6] \"p_val_adj_BH\"\n"
     ]
    },
    {
     "name": "stderr",
     "output_type": "stream",
     "text": [
      "Saving 6.67 x 6.67 in image\n",
      "\n"
     ]
    },
    {
     "name": "stdout",
     "output_type": "stream",
     "text": [
      "[1] \"X8770T\"\n",
      "[1] \"X8770T\"\n",
      "[1] \"se filt before\"\n",
      "[1] \"se filt\"\n",
      "An object of class Seurat \n",
      "189108 features across 3699 samples within 2 assays \n",
      "Active assay: RNA (19575 features, 0 variable features)\n",
      " 1 other assay present: ATAC\n",
      " 2 dimensional reductions calculated: integrated_lsi, umap\n",
      "[1] \"curr sig\"\n",
      "                     p_val avg_log2FC pct.1 pct.2    p_val_adj p_val_adj_BH\n",
      "PCDH20        1.516143e-38 -0.1981382 0.026 0.362 2.967850e-34 2.331525e-34\n",
      "RP11-310K10.1 5.029751e-31 -0.1986084 0.033 0.362 9.845737e-27 3.867375e-27\n",
      "GAS1          6.915340e-29 -0.2238125 0.066 0.511 1.353678e-24 3.544803e-25\n",
      "DLX5          1.362610e-27 -0.1576567 0.033 0.340 2.667310e-23 4.434520e-24\n",
      "GP5           1.441839e-27 -0.2371165 0.045 0.404 2.822400e-23 4.434520e-24\n",
      "IQCA1L        6.379458e-24 -0.1712563 0.046 0.383 1.248779e-19 1.465230e-20\n",
      "[1] \"dim response\"\n",
      "[1] 15378     6\n"
     ]
    },
    {
     "name": "stderr",
     "output_type": "stream",
     "text": [
      "The automatically generated colors map from the 1^st and 99^th of the\n",
      "values in the matrix. There are outliers in the matrix whose patterns\n",
      "might be hidden by this color mapping. You can manually set the color\n",
      "to `col` argument.\n",
      "\n",
      "Use `suppressMessages()` to turn off this message.\n",
      "\n",
      "Saving 6.67 x 6.67 in image\n",
      "\n",
      "Saving 6.67 x 6.67 in image\n",
      "\n",
      "Saving 6.67 x 6.67 in image\n",
      "\n",
      "Saving 6.67 x 6.67 in image\n",
      "\n",
      "Saving 6.67 x 6.67 in image\n",
      "\n"
     ]
    },
    {
     "name": "stdout",
     "output_type": "stream",
     "text": [
      "[1] \"gally\"\n",
      "[1] \"p_val\"        \"avg_log2FC\"   \"pct.1\"        \"pct.2\"        \"p_val_adj\"   \n",
      "[6] \"p_val_adj_BH\"\n"
     ]
    },
    {
     "name": "stderr",
     "output_type": "stream",
     "text": [
      "Saving 6.67 x 6.67 in image\n",
      "\n"
     ]
    },
    {
     "name": "stdout",
     "output_type": "stream",
     "text": [
      "[1] \"X1949A\"\n",
      "[1] \"X1949A\"\n",
      "[1] \"se filt before\"\n",
      "[1] \"se filt\"\n",
      "An object of class Seurat \n",
      "189108 features across 3640 samples within 2 assays \n",
      "Active assay: RNA (19575 features, 0 variable features)\n",
      " 1 other assay present: ATAC\n",
      " 2 dimensional reductions calculated: integrated_lsi, umap\n",
      "[1] \"curr sig\"\n",
      "              p_val avg_log2FC pct.1 pct.2    p_val_adj p_val_adj_BH\n",
      "VPS37D 1.298467e-23 -0.1736733 0.046 0.522 2.541749e-19 1.957958e-19\n",
      "KCNA6  5.627919e-23 -0.1539911 0.022 0.348 1.101665e-18 4.243169e-19\n",
      "FOXA1  3.125023e-22 -0.4499679 0.060 0.565 6.117232e-18 1.570741e-18\n",
      "POU3F2 1.880981e-21 -0.2075768 0.037 0.435 3.682021e-17 7.090829e-18\n",
      "DUSP1  2.111339e-20 -0.6809462 0.195 1.000 4.132945e-16 6.367375e-17\n",
      "GRASP  2.896809e-20 -0.4428186 0.094 0.696 5.670503e-16 7.280163e-17\n",
      "[1] \"dim response\"\n",
      "[1] 15079     6\n"
     ]
    },
    {
     "name": "stderr",
     "output_type": "stream",
     "text": [
      "The automatically generated colors map from the 1^st and 99^th of the\n",
      "values in the matrix. There are outliers in the matrix whose patterns\n",
      "might be hidden by this color mapping. You can manually set the color\n",
      "to `col` argument.\n",
      "\n",
      "Use `suppressMessages()` to turn off this message.\n",
      "\n",
      "Saving 6.67 x 6.67 in image\n",
      "\n",
      "Saving 6.67 x 6.67 in image\n",
      "\n",
      "Saving 6.67 x 6.67 in image\n",
      "\n",
      "Saving 6.67 x 6.67 in image\n",
      "\n",
      "Saving 6.67 x 6.67 in image\n",
      "\n"
     ]
    },
    {
     "name": "stdout",
     "output_type": "stream",
     "text": [
      "[1] \"gally\"\n",
      "[1] \"p_val\"        \"avg_log2FC\"   \"pct.1\"        \"pct.2\"        \"p_val_adj\"   \n",
      "[6] \"p_val_adj_BH\"\n"
     ]
    },
    {
     "name": "stderr",
     "output_type": "stream",
     "text": [
      "Saving 6.67 x 6.67 in image\n",
      "\n"
     ]
    },
    {
     "name": "stdout",
     "output_type": "stream",
     "text": [
      "[1] \"X4117C\"\n",
      "[1] \"X4117C\"\n",
      "[1] \"se filt before\"\n",
      "[1] \"se filt\"\n",
      "An object of class Seurat \n",
      "189108 features across 3602 samples within 2 assays \n",
      "Active assay: RNA (19575 features, 0 variable features)\n",
      " 1 other assay present: ATAC\n",
      " 2 dimensional reductions calculated: integrated_lsi, umap\n",
      "[1] \"curr sig\"\n",
      "              p_val  avg_log2FC pct.1 pct.2    p_val_adj p_val_adj_BH\n",
      "BOLA2B 7.286384e-67 -0.08484832 0.000 0.167 1.426310e-62 1.133688e-62\n",
      "SLX1A  4.559630e-45 -0.08470266 0.001 0.167 8.925476e-41 3.547164e-41\n",
      "SYT15  1.206306e-31 -0.11415786 0.004 0.333 2.361343e-27 6.256303e-28\n",
      "PYDC1  6.019130e-25 -0.31960685 0.022 0.667 1.178245e-20 2.341291e-21\n",
      "NBPF6  4.110664e-23 -0.07252671 0.001 0.167 8.046624e-19 1.279156e-19\n",
      "LCE1A  5.426646e-20 -0.08573759 0.002 0.167 1.062266e-15 1.055415e-16\n",
      "[1] \"dim response\"\n",
      "[1] 15559     6\n"
     ]
    },
    {
     "name": "stderr",
     "output_type": "stream",
     "text": [
      "Saving 6.67 x 6.67 in image\n",
      "\n",
      "Saving 6.67 x 6.67 in image\n",
      "\n",
      "Saving 6.67 x 6.67 in image\n",
      "\n",
      "Saving 6.67 x 6.67 in image\n",
      "\n",
      "Saving 6.67 x 6.67 in image\n",
      "\n"
     ]
    },
    {
     "name": "stdout",
     "output_type": "stream",
     "text": [
      "[1] \"gally\"\n",
      "[1] \"p_val\"        \"avg_log2FC\"   \"pct.1\"        \"pct.2\"        \"p_val_adj\"   \n",
      "[6] \"p_val_adj_BH\"\n"
     ]
    },
    {
     "name": "stderr",
     "output_type": "stream",
     "text": [
      "Saving 6.67 x 6.67 in image\n",
      "\n"
     ]
    },
    {
     "name": "stdout",
     "output_type": "stream",
     "text": [
      "[1] \"X3672G\"\n",
      "[1] \"X3672G\"\n",
      "[1] \"se filt before\"\n",
      "[1] \"se filt\"\n",
      "An object of class Seurat \n",
      "189108 features across 3592 samples within 2 assays \n",
      "Active assay: RNA (19575 features, 0 variable features)\n",
      " 1 other assay present: ATAC\n",
      " 2 dimensional reductions calculated: integrated_lsi, umap\n",
      "Error in ValidateCellGroups(object = object, cells.1 = cells.1, cells.2 = cells.2,  : \n",
      "  Cell group 2 has fewer than 3 cells\n",
      "[1] \"X14905A\"\n",
      "[1] \"X14905A\"\n",
      "[1] \"se filt before\"\n",
      "[1] \"se filt\"\n",
      "An object of class Seurat \n",
      "189108 features across 3598 samples within 2 assays \n",
      "Active assay: RNA (19575 features, 0 variable features)\n",
      " 1 other assay present: ATAC\n",
      " 2 dimensional reductions calculated: integrated_lsi, umap\n",
      "[1] \"curr sig\"\n",
      "                 p_val avg_log2FC pct.1 pct.2    p_val_adj p_val_adj_BH\n",
      "GOLGA8T   6.733484e-45 -0.1443816 0.001 0.333 1.318080e-40 9.416778e-41\n",
      "PRR4      6.390522e-17 -0.2885622 0.017 0.667 1.250945e-12 4.468572e-13\n",
      "ANKRD20A2 5.575318e-15 -0.2721540 0.005 0.333 1.091368e-10 2.599027e-11\n",
      "SLC25A52  3.081754e-14 -0.1762703 0.005 0.333 6.032534e-10 1.077458e-10\n",
      "RASA4     1.624929e-13 -0.2861109 0.022 0.667 3.180798e-09 4.174843e-10\n",
      "BEX5      1.791137e-13 -0.2842059 0.022 0.667 3.506152e-09 4.174843e-10\n",
      "[1] \"dim response\"\n",
      "[1] 13985     6\n"
     ]
    },
    {
     "name": "stderr",
     "output_type": "stream",
     "text": [
      "The automatically generated colors map from the 1^st and 99^th of the\n",
      "values in the matrix. There are outliers in the matrix whose patterns\n",
      "might be hidden by this color mapping. You can manually set the color\n",
      "to `col` argument.\n",
      "\n",
      "Use `suppressMessages()` to turn off this message.\n",
      "\n",
      "Saving 6.67 x 6.67 in image\n",
      "\n",
      "Saving 6.67 x 6.67 in image\n",
      "\n",
      "Saving 6.67 x 6.67 in image\n",
      "\n",
      "Saving 6.67 x 6.67 in image\n",
      "\n",
      "Saving 6.67 x 6.67 in image\n",
      "\n"
     ]
    },
    {
     "name": "stdout",
     "output_type": "stream",
     "text": [
      "[1] \"gally\"\n",
      "[1] \"p_val\"        \"avg_log2FC\"   \"pct.1\"        \"pct.2\"        \"p_val_adj\"   \n",
      "[6] \"p_val_adj_BH\"\n"
     ]
    },
    {
     "name": "stderr",
     "output_type": "stream",
     "text": [
      "Saving 6.67 x 6.67 in image\n",
      "\n"
     ]
    },
    {
     "name": "stdout",
     "output_type": "stream",
     "text": [
      "[1] \"X10559G\"\n",
      "[1] \"X10559G\"\n",
      "[1] \"se filt before\"\n",
      "[1] \"se filt\"\n",
      "An object of class Seurat \n",
      "189108 features across 3607 samples within 2 assays \n",
      "Active assay: RNA (19575 features, 0 variable features)\n",
      " 1 other assay present: ATAC\n",
      " 2 dimensional reductions calculated: integrated_lsi, umap\n",
      "[1] \"curr sig\"\n",
      "               p_val  avg_log2FC pct.1 pct.2    p_val_adj p_val_adj_BH\n",
      "BOLA2B  5.911985e-67 -0.08484892 0.000 0.167 1.157271e-62 8.762744e-63\n",
      "SLX1A   3.965616e-45 -0.08470346 0.001 0.167 7.762694e-41 2.938918e-41\n",
      "OXT     1.663392e-24 -0.34968670 0.022 0.667 3.256090e-20 8.218265e-21\n",
      "SIX4    2.154879e-13 -0.24714579 0.041 0.667 4.218175e-09 7.984903e-10\n",
      "OR1J4   4.139290e-13 -0.06084218 0.003 0.167 8.102661e-09 1.227051e-09\n",
      "CT45A10 1.251451e-12 -0.15360025 0.012 0.333 2.449714e-08 3.091500e-09\n",
      "[1] \"dim response\"\n",
      "[1] 14822     6\n"
     ]
    },
    {
     "name": "stderr",
     "output_type": "stream",
     "text": [
      "The automatically generated colors map from the 1^st and 99^th of the\n",
      "values in the matrix. There are outliers in the matrix whose patterns\n",
      "might be hidden by this color mapping. You can manually set the color\n",
      "to `col` argument.\n",
      "\n",
      "Use `suppressMessages()` to turn off this message.\n",
      "\n",
      "Saving 6.67 x 6.67 in image\n",
      "\n",
      "Saving 6.67 x 6.67 in image\n",
      "\n",
      "Saving 6.67 x 6.67 in image\n",
      "\n",
      "Saving 6.67 x 6.67 in image\n",
      "\n",
      "Saving 6.67 x 6.67 in image\n",
      "\n"
     ]
    },
    {
     "name": "stdout",
     "output_type": "stream",
     "text": [
      "[1] \"gally\"\n",
      "[1] \"p_val\"        \"avg_log2FC\"   \"pct.1\"        \"pct.2\"        \"p_val_adj\"   \n",
      "[6] \"p_val_adj_BH\"\n"
     ]
    },
    {
     "name": "stderr",
     "output_type": "stream",
     "text": [
      "Saving 6.67 x 6.67 in image\n",
      "\n"
     ]
    },
    {
     "name": "stdout",
     "output_type": "stream",
     "text": [
      "[1] \"X3630A\"\n",
      "[1] \"X3630A\"\n",
      "[1] \"se filt before\"\n",
      "[1] \"se filt\"\n",
      "An object of class Seurat \n",
      "189108 features across 3666 samples within 2 assays \n",
      "Active assay: RNA (19575 features, 0 variable features)\n",
      " 1 other assay present: ATAC\n",
      " 2 dimensional reductions calculated: integrated_lsi, umap\n",
      "[1] \"curr sig\"\n",
      "                p_val avg_log2FC pct.1 pct.2    p_val_adj p_val_adj_BH\n",
      "NKX3-1   8.868230e-42 -0.2519918 0.035 0.500 1.735956e-37 1.354888e-37\n",
      "TLX1     2.740081e-32 -0.2242326 0.031 0.412 5.363709e-28 2.093148e-28\n",
      "TMEM158  1.272981e-29 -0.2923894 0.044 0.471 2.491860e-25 6.482866e-26\n",
      "LKAAEAR1 5.359831e-29 -0.2045943 0.030 0.382 1.049187e-24 2.047187e-25\n",
      "GPRC5C   8.208321e-23 -0.3713565 0.130 0.765 1.606779e-18 2.508135e-19\n",
      "WNT10A   3.456369e-22 -0.4344748 0.124 0.706 6.765842e-18 8.801067e-19\n",
      "[1] \"dim response\"\n",
      "[1] 15278     6\n"
     ]
    },
    {
     "name": "stderr",
     "output_type": "stream",
     "text": [
      "The automatically generated colors map from the 1^st and 99^th of the\n",
      "values in the matrix. There are outliers in the matrix whose patterns\n",
      "might be hidden by this color mapping. You can manually set the color\n",
      "to `col` argument.\n",
      "\n",
      "Use `suppressMessages()` to turn off this message.\n",
      "\n",
      "Saving 6.67 x 6.67 in image\n",
      "\n",
      "Saving 6.67 x 6.67 in image\n",
      "\n",
      "Saving 6.67 x 6.67 in image\n",
      "\n",
      "Saving 6.67 x 6.67 in image\n",
      "\n",
      "Saving 6.67 x 6.67 in image\n",
      "\n"
     ]
    },
    {
     "name": "stdout",
     "output_type": "stream",
     "text": [
      "[1] \"gally\"\n",
      "[1] \"p_val\"        \"avg_log2FC\"   \"pct.1\"        \"pct.2\"        \"p_val_adj\"   \n",
      "[6] \"p_val_adj_BH\"\n"
     ]
    },
    {
     "name": "stderr",
     "output_type": "stream",
     "text": [
      "Saving 6.67 x 6.67 in image\n",
      "\n"
     ]
    },
    {
     "name": "stdout",
     "output_type": "stream",
     "text": [
      "[1] \"X5147A\"\n",
      "[1] \"X5147A\"\n",
      "[1] \"se filt before\"\n",
      "[1] \"se filt\"\n",
      "An object of class Seurat \n",
      "189108 features across 3604 samples within 2 assays \n",
      "Active assay: RNA (19575 features, 0 variable features)\n",
      " 1 other assay present: ATAC\n",
      " 2 dimensional reductions calculated: integrated_lsi, umap\n",
      "[1] \"curr sig\"\n",
      "               p_val  avg_log2FC pct.1 pct.2    p_val_adj p_val_adj_BH\n",
      "BOLA2B  6.701939e-67 -0.08484856 0.000 0.167 1.311905e-62 1.013936e-62\n",
      "SLX1A   4.312032e-45 -0.08470298 0.001 0.167 8.440803e-41 3.261837e-41\n",
      "HBG1    3.996948e-23 -0.07078791 0.001 0.167 7.824025e-19 2.015661e-19\n",
      "ZNF705E 5.163150e-22 -0.58280685 0.014 0.500 1.010687e-17 1.952832e-18\n",
      "GOLGA8T 5.556274e-20 -0.07250201 0.002 0.167 1.087641e-15 1.681217e-16\n",
      "KERA    1.369937e-16 -0.13138617 0.009 0.333 2.681652e-12 3.454297e-13\n",
      "[1] \"dim response\"\n",
      "[1] 15129     6\n"
     ]
    },
    {
     "name": "stderr",
     "output_type": "stream",
     "text": [
      "Saving 6.67 x 6.67 in image\n",
      "\n",
      "Saving 6.67 x 6.67 in image\n",
      "\n",
      "Saving 6.67 x 6.67 in image\n",
      "\n",
      "Saving 6.67 x 6.67 in image\n",
      "\n",
      "Saving 6.67 x 6.67 in image\n",
      "\n"
     ]
    },
    {
     "name": "stdout",
     "output_type": "stream",
     "text": [
      "[1] \"gally\"\n",
      "[1] \"p_val\"        \"avg_log2FC\"   \"pct.1\"        \"pct.2\"        \"p_val_adj\"   \n",
      "[6] \"p_val_adj_BH\"\n"
     ]
    },
    {
     "name": "stderr",
     "output_type": "stream",
     "text": [
      "Saving 6.67 x 6.67 in image\n",
      "\n"
     ]
    },
    {
     "name": "stdout",
     "output_type": "stream",
     "text": [
      "[1] \"X13108A\"\n",
      "[1] \"X13108A\"\n",
      "[1] \"se filt before\"\n",
      "[1] \"se filt\"\n",
      "An object of class Seurat \n",
      "189108 features across 3655 samples within 2 assays \n",
      "Active assay: RNA (19575 features, 0 variable features)\n",
      " 1 other assay present: ATAC\n",
      " 2 dimensional reductions calculated: integrated_lsi, umap\n",
      "[1] \"curr sig\"\n",
      "               p_val avg_log2FC pct.1 pct.2    p_val_adj p_val_adj_BH\n",
      "SMIM6   2.103980e-16 -0.2342642 0.070 0.500 4.118540e-12 1.153774e-12\n",
      "HLA-DOA 2.262599e-16 -0.1224424 0.038 0.357 4.429037e-12 1.153774e-12\n",
      "DLX5    2.268530e-16 -0.1997946 0.032 0.321 4.440647e-12 1.153774e-12\n",
      "KLF4    3.600533e-16 -0.2737988 0.099 0.607 7.048044e-12 1.373423e-12\n",
      "NAA30   9.679089e-16 -0.3612572 0.115 0.643 1.894682e-11 2.953671e-12\n",
      "MDK     1.995628e-15 -0.2000339 0.049 0.393 3.906442e-11 5.074882e-12\n",
      "[1] \"dim response\"\n",
      "[1] 15258     6\n"
     ]
    },
    {
     "name": "stderr",
     "output_type": "stream",
     "text": [
      "The automatically generated colors map from the 1^st and 99^th of the\n",
      "values in the matrix. There are outliers in the matrix whose patterns\n",
      "might be hidden by this color mapping. You can manually set the color\n",
      "to `col` argument.\n",
      "\n",
      "Use `suppressMessages()` to turn off this message.\n",
      "\n",
      "Saving 6.67 x 6.67 in image\n",
      "\n",
      "Saving 6.67 x 6.67 in image\n",
      "\n",
      "Saving 6.67 x 6.67 in image\n",
      "\n",
      "Saving 6.67 x 6.67 in image\n",
      "\n",
      "Saving 6.67 x 6.67 in image\n",
      "\n"
     ]
    },
    {
     "name": "stdout",
     "output_type": "stream",
     "text": [
      "[1] \"gally\"\n",
      "[1] \"p_val\"        \"avg_log2FC\"   \"pct.1\"        \"pct.2\"        \"p_val_adj\"   \n",
      "[6] \"p_val_adj_BH\"\n"
     ]
    },
    {
     "name": "stderr",
     "output_type": "stream",
     "text": [
      "Saving 6.67 x 6.67 in image\n",
      "\n"
     ]
    },
    {
     "name": "stdout",
     "output_type": "stream",
     "text": [
      "[1] \"X15693C\"\n",
      "[1] \"X15693C\"\n",
      "[1] \"se filt before\"\n",
      "[1] \"se filt\"\n",
      "An object of class Seurat \n",
      "189108 features across 3602 samples within 2 assays \n",
      "Active assay: RNA (19575 features, 0 variable features)\n",
      " 1 other assay present: ATAC\n",
      " 2 dimensional reductions calculated: integrated_lsi, umap\n",
      "[1] \"curr sig\"\n",
      "                    p_val  avg_log2FC pct.1 pct.2    p_val_adj p_val_adj_BH\n",
      "CBSL         1.940021e-50 -0.09378227 0.001  0.25 3.797592e-46 2.872978e-46\n",
      "GS1-309P15.2 4.832679e-34 -0.09333443 0.001  0.25 9.459969e-30 3.578357e-30\n",
      "PWP2         6.071885e-31 -0.20671215 0.007  0.50 1.188572e-26 2.997285e-27\n",
      "TNP1         7.955318e-26 -0.10433843 0.002  0.25 1.557253e-21 2.945258e-22\n",
      "BEX5         1.048575e-22 -0.26828646 0.021  0.75 2.052586e-18 3.105670e-19\n",
      "OR4S1        4.375611e-19 -0.11367342 0.003  0.25 8.565259e-15 1.079974e-15\n",
      "[1] \"dim response\"\n",
      "[1] 14809     6\n"
     ]
    },
    {
     "name": "stderr",
     "output_type": "stream",
     "text": [
      "Saving 6.67 x 6.67 in image\n",
      "\n",
      "Saving 6.67 x 6.67 in image\n",
      "\n",
      "Saving 6.67 x 6.67 in image\n",
      "\n",
      "Saving 6.67 x 6.67 in image\n",
      "\n",
      "Saving 6.67 x 6.67 in image\n",
      "\n"
     ]
    },
    {
     "name": "stdout",
     "output_type": "stream",
     "text": [
      "[1] \"gally\"\n",
      "[1] \"p_val\"        \"avg_log2FC\"   \"pct.1\"        \"pct.2\"        \"p_val_adj\"   \n",
      "[6] \"p_val_adj_BH\"\n"
     ]
    },
    {
     "name": "stderr",
     "output_type": "stream",
     "text": [
      "Saving 6.67 x 6.67 in image\n",
      "\n"
     ]
    },
    {
     "name": "stdout",
     "output_type": "stream",
     "text": [
      "[1] \"X12705T\"\n",
      "[1] \"X12705T\"\n",
      "[1] \"se filt before\"\n",
      "[1] \"se filt\"\n",
      "An object of class Seurat \n",
      "189108 features across 3598 samples within 2 assays \n",
      "Active assay: RNA (19575 features, 0 variable features)\n",
      " 1 other assay present: ATAC\n",
      " 2 dimensional reductions calculated: integrated_lsi, umap\n",
      "Error in ValidateCellGroups(object = object, cells.1 = cells.1, cells.2 = cells.2,  : \n",
      "  Cell group 2 has fewer than 3 cells\n",
      "[1] \"X14233G\"\n",
      "[1] \"X14233G\"\n",
      "[1] \"se filt before\"\n",
      "[1] \"se filt\"\n",
      "An object of class Seurat \n",
      "189108 features across 3602 samples within 2 assays \n",
      "Active assay: RNA (19575 features, 0 variable features)\n",
      " 1 other assay present: ATAC\n",
      " 2 dimensional reductions calculated: integrated_lsi, umap\n",
      "[1] \"curr sig\"\n",
      "               p_val avg_log2FC pct.1 pct.2    p_val_adj p_val_adj_BH\n",
      "GOLGA8T 6.022048e-45 -0.1443839 0.001 0.333 1.178816e-40 8.713903e-41\n",
      "SLC10A5 6.206202e-28 -0.3599069 0.023 1.000 1.214864e-23 4.490187e-24\n",
      "RBMXL3  1.911255e-27 -0.1458610 0.003 0.333 3.741282e-23 9.218620e-24\n",
      "IFNA17  4.714313e-25 -0.1261458 0.003 0.333 9.228269e-21 1.705403e-21\n",
      "TCEAL5  1.907956e-24 -0.2514163 0.012 0.667 3.734823e-20 5.521624e-21\n",
      "TRAM1L1 6.416148e-20 -0.1257730 0.004 0.333 1.255961e-15 1.326309e-16\n",
      "[1] \"dim response\"\n",
      "[1] 14470     6\n"
     ]
    },
    {
     "name": "stderr",
     "output_type": "stream",
     "text": [
      "Saving 6.67 x 6.67 in image\n",
      "\n",
      "Saving 6.67 x 6.67 in image\n",
      "\n",
      "Saving 6.67 x 6.67 in image\n",
      "\n",
      "Saving 6.67 x 6.67 in image\n",
      "\n",
      "Saving 6.67 x 6.67 in image\n",
      "\n"
     ]
    },
    {
     "name": "stdout",
     "output_type": "stream",
     "text": [
      "[1] \"gally\"\n",
      "[1] \"p_val\"        \"avg_log2FC\"   \"pct.1\"        \"pct.2\"        \"p_val_adj\"   \n",
      "[6] \"p_val_adj_BH\"\n"
     ]
    },
    {
     "name": "stderr",
     "output_type": "stream",
     "text": [
      "Saving 6.67 x 6.67 in image\n",
      "\n"
     ]
    },
    {
     "name": "stdout",
     "output_type": "stream",
     "text": [
      "[1] \"X1199T\"\n",
      "[1] \"X1199T\"\n",
      "[1] \"se filt before\"\n",
      "[1] \"se filt\"\n",
      "An object of class Seurat \n",
      "189108 features across 3659 samples within 2 assays \n",
      "Active assay: RNA (19575 features, 0 variable features)\n",
      " 1 other assay present: ATAC\n",
      " 2 dimensional reductions calculated: integrated_lsi, umap\n",
      "[1] \"curr sig\"\n",
      "              p_val  avg_log2FC pct.1 pct.2    p_val_adj p_val_adj_BH\n",
      "GP5    1.553002e-29 -0.30435935 0.044 0.519 3.040002e-25 2.447842e-25\n",
      "TCEAL2 2.111282e-26 -0.06549335 0.004 0.148 4.132834e-22 1.547428e-22\n",
      "WNT10A 2.945237e-26 -0.45047297 0.122 0.852 5.765302e-22 1.547428e-22\n",
      "ADRA2A 1.196616e-25 -0.22254335 0.049 0.519 2.342375e-21 4.715264e-22\n",
      "MMGT1  5.691427e-25 -0.31534640 0.073 0.630 1.114097e-20 1.794165e-21\n",
      "MYCN   7.100069e-25 -0.25985700 0.071 0.630 1.389838e-20 1.865188e-21\n",
      "[1] \"dim response\"\n",
      "[1] 15762     6\n"
     ]
    },
    {
     "name": "stderr",
     "output_type": "stream",
     "text": [
      "The automatically generated colors map from the 1^st and 99^th of the\n",
      "values in the matrix. There are outliers in the matrix whose patterns\n",
      "might be hidden by this color mapping. You can manually set the color\n",
      "to `col` argument.\n",
      "\n",
      "Use `suppressMessages()` to turn off this message.\n",
      "\n",
      "Saving 6.67 x 6.67 in image\n",
      "\n",
      "Saving 6.67 x 6.67 in image\n",
      "\n",
      "Saving 6.67 x 6.67 in image\n",
      "\n",
      "Saving 6.67 x 6.67 in image\n",
      "\n",
      "Saving 6.67 x 6.67 in image\n",
      "\n"
     ]
    },
    {
     "name": "stdout",
     "output_type": "stream",
     "text": [
      "[1] \"gally\"\n",
      "[1] \"p_val\"        \"avg_log2FC\"   \"pct.1\"        \"pct.2\"        \"p_val_adj\"   \n",
      "[6] \"p_val_adj_BH\"\n"
     ]
    },
    {
     "name": "stderr",
     "output_type": "stream",
     "text": [
      "Saving 6.67 x 6.67 in image\n",
      "\n"
     ]
    },
    {
     "name": "stdout",
     "output_type": "stream",
     "text": [
      "[1] \"X15607G\"\n",
      "[1] \"X15607G\"\n",
      "[1] \"se filt before\"\n",
      "[1] \"se filt\"\n",
      "An object of class Seurat \n",
      "189108 features across 3603 samples within 2 assays \n",
      "Active assay: RNA (19575 features, 0 variable features)\n",
      " 1 other assay present: ATAC\n",
      " 2 dimensional reductions calculated: integrated_lsi, umap\n",
      "Error in ValidateCellGroups(object = object, cells.1 = cells.1, cells.2 = cells.2,  : \n",
      "  Cell group 2 has fewer than 3 cells\n",
      "[1] \"X1888A\"\n",
      "[1] \"X1888A\"\n",
      "[1] \"se filt before\"\n",
      "[1] \"se filt\"\n",
      "An object of class Seurat \n",
      "189108 features across 3603 samples within 2 assays \n",
      "Active assay: RNA (19575 features, 0 variable features)\n",
      " 1 other assay present: ATAC\n",
      " 2 dimensional reductions calculated: integrated_lsi, umap\n",
      "Error in ValidateCellGroups(object = object, cells.1 = cells.1, cells.2 = cells.2,  : \n",
      "  Cell group 2 has fewer than 3 cells\n",
      "[1] \"X11812G\"\n",
      "[1] \"X11812G\"\n",
      "[1] \"se filt before\"\n",
      "[1] \"se filt\"\n",
      "An object of class Seurat \n",
      "189108 features across 3612 samples within 2 assays \n",
      "Active assay: RNA (19575 features, 0 variable features)\n",
      " 1 other assay present: ATAC\n",
      " 2 dimensional reductions calculated: integrated_lsi, umap\n",
      "[1] \"curr sig\"\n",
      "                 p_val  avg_log2FC pct.1 pct.2    p_val_adj p_val_adj_BH\n",
      "GOLGA8T   1.028307e-40 -0.10934813 0.001  0.25 2.012912e-36 1.557989e-36\n",
      "IFNL2     2.377609e-38 -0.24997453 0.005  0.50 4.654169e-34 1.259116e-34\n",
      "ANKRD20A2 2.493134e-38 -0.26742393 0.005  0.50 4.880309e-34 1.259116e-34\n",
      "NPIPA2    3.604796e-34 -0.06781564 0.001  0.25 7.056389e-30 1.187358e-30\n",
      "KRTAP4-3  3.918413e-34 -0.10370720 0.001  0.25 7.670294e-30 1.187358e-30\n",
      "KRTAP23-1 3.623347e-23 -0.12670546 0.002  0.25 7.092702e-19 9.149555e-20\n",
      "[1] \"dim response\"\n",
      "[1] 15151     6\n"
     ]
    },
    {
     "name": "stderr",
     "output_type": "stream",
     "text": [
      "Saving 6.67 x 6.67 in image\n",
      "\n",
      "Saving 6.67 x 6.67 in image\n",
      "\n",
      "Saving 6.67 x 6.67 in image\n",
      "\n",
      "Saving 6.67 x 6.67 in image\n",
      "\n",
      "Saving 6.67 x 6.67 in image\n",
      "\n"
     ]
    },
    {
     "name": "stdout",
     "output_type": "stream",
     "text": [
      "[1] \"gally\"\n",
      "[1] \"p_val\"        \"avg_log2FC\"   \"pct.1\"        \"pct.2\"        \"p_val_adj\"   \n",
      "[6] \"p_val_adj_BH\"\n"
     ]
    },
    {
     "name": "stderr",
     "output_type": "stream",
     "text": [
      "Saving 6.67 x 6.67 in image\n",
      "\n"
     ]
    },
    {
     "name": "stdout",
     "output_type": "stream",
     "text": [
      "[1] \"X2083C\"\n",
      "[1] \"X2083C\"\n",
      "[1] \"se filt before\"\n",
      "[1] \"se filt\"\n",
      "An object of class Seurat \n",
      "189108 features across 3609 samples within 2 assays \n",
      "Active assay: RNA (19575 features, 0 variable features)\n",
      " 1 other assay present: ATAC\n",
      " 2 dimensional reductions calculated: integrated_lsi, umap\n",
      "Error in ValidateCellGroups(object = object, cells.1 = cells.1, cells.2 = cells.2,  : \n",
      "  Cell group 2 has fewer than 3 cells\n",
      "[1] \"X2875G\"\n",
      "[1] \"X2875G\"\n",
      "[1] \"se filt before\"\n",
      "[1] \"se filt\"\n",
      "An object of class Seurat \n",
      "189108 features across 3612 samples within 2 assays \n",
      "Active assay: RNA (19575 features, 0 variable features)\n",
      " 1 other assay present: ATAC\n",
      " 2 dimensional reductions calculated: integrated_lsi, umap\n",
      "Error in ValidateCellGroups(object = object, cells.1 = cells.1, cells.2 = cells.2,  : \n",
      "  Cell group 2 has fewer than 3 cells\n",
      "[1] \"X4216C\"\n",
      "[1] \"X4216C\"\n",
      "[1] \"se filt before\"\n",
      "[1] \"se filt\"\n",
      "An object of class Seurat \n",
      "189108 features across 3629 samples within 2 assays \n",
      "Active assay: RNA (19575 features, 0 variable features)\n",
      " 1 other assay present: ATAC\n",
      " 2 dimensional reductions calculated: integrated_lsi, umap\n",
      "[1] \"curr sig\"\n",
      "                 p_val  avg_log2FC pct.1 pct.2    p_val_adj p_val_adj_BH\n",
      "PLGLB2    1.621350e-80 -0.10812049 0.000   0.2 3.173792e-76 2.441428e-76\n",
      "KRTAP11-1 4.298619e-21 -0.08794182 0.002   0.2 8.414546e-17 3.236430e-17\n",
      "RARRES2   9.534563e-21 -0.39898083 0.032   0.8 1.866391e-16 4.785715e-17\n",
      "FOXD4     2.044534e-16 -0.26820636 0.023   0.6 4.002175e-12 7.696648e-13\n",
      "CTSF      7.767772e-16 -0.27110463 0.024   0.6 1.520541e-11 2.339342e-12\n",
      "KRTAP5-2  2.106853e-14 -0.10515347 0.003   0.2 4.124164e-10 4.685931e-11\n",
      "[1] \"dim response\"\n",
      "[1] 15058     6\n"
     ]
    },
    {
     "name": "stderr",
     "output_type": "stream",
     "text": [
      "The automatically generated colors map from the 1^st and 99^th of the\n",
      "values in the matrix. There are outliers in the matrix whose patterns\n",
      "might be hidden by this color mapping. You can manually set the color\n",
      "to `col` argument.\n",
      "\n",
      "Use `suppressMessages()` to turn off this message.\n",
      "\n",
      "Saving 6.67 x 6.67 in image\n",
      "\n",
      "Saving 6.67 x 6.67 in image\n",
      "\n",
      "Saving 6.67 x 6.67 in image\n",
      "\n",
      "Saving 6.67 x 6.67 in image\n",
      "\n",
      "Saving 6.67 x 6.67 in image\n",
      "\n"
     ]
    },
    {
     "name": "stdout",
     "output_type": "stream",
     "text": [
      "[1] \"gally\"\n",
      "[1] \"p_val\"        \"avg_log2FC\"   \"pct.1\"        \"pct.2\"        \"p_val_adj\"   \n",
      "[6] \"p_val_adj_BH\"\n"
     ]
    },
    {
     "name": "stderr",
     "output_type": "stream",
     "text": [
      "Saving 6.67 x 6.67 in image\n",
      "\n"
     ]
    },
    {
     "name": "stdout",
     "output_type": "stream",
     "text": [
      "[1] \"X9087A\"\n",
      "[1] \"X9087A\"\n",
      "[1] \"se filt before\"\n",
      "[1] \"se filt\"\n",
      "An object of class Seurat \n",
      "189108 features across 3679 samples within 2 assays \n",
      "Active assay: RNA (19575 features, 0 variable features)\n",
      " 1 other assay present: ATAC\n",
      " 2 dimensional reductions calculated: integrated_lsi, umap\n",
      "[1] \"curr sig\"\n",
      "                 p_val avg_log2FC pct.1 pct.2    p_val_adj p_val_adj_BH\n",
      "NKX6-1    1.128857e-28 -0.2212522 0.050 0.556 2.209738e-24 1.754018e-24\n",
      "POU3F2    6.752601e-22 -0.1559299 0.036 0.407 1.321822e-17 5.246095e-18\n",
      "GOLGA6L10 1.970105e-21 -0.1223675 0.020 0.296 3.856481e-17 1.020383e-17\n",
      "ZBTB42    4.504344e-21 -0.1776339 0.065 0.556 8.817253e-17 1.749712e-17\n",
      "FAM181B   1.516263e-20 -0.1323103 0.032 0.370 2.968085e-16 4.711940e-17\n",
      "NKX3-1    2.842704e-20 -0.1970603 0.033 0.370 5.564594e-16 7.361657e-17\n",
      "[1] \"dim response\"\n",
      "[1] 15538     6\n"
     ]
    },
    {
     "name": "stderr",
     "output_type": "stream",
     "text": [
      "The automatically generated colors map from the 1^st and 99^th of the\n",
      "values in the matrix. There are outliers in the matrix whose patterns\n",
      "might be hidden by this color mapping. You can manually set the color\n",
      "to `col` argument.\n",
      "\n",
      "Use `suppressMessages()` to turn off this message.\n",
      "\n",
      "Saving 6.67 x 6.67 in image\n",
      "\n",
      "Saving 6.67 x 6.67 in image\n",
      "\n",
      "Saving 6.67 x 6.67 in image\n",
      "\n",
      "Saving 6.67 x 6.67 in image\n",
      "\n",
      "Saving 6.67 x 6.67 in image\n",
      "\n"
     ]
    },
    {
     "name": "stdout",
     "output_type": "stream",
     "text": [
      "[1] \"gally\"\n",
      "[1] \"p_val\"        \"avg_log2FC\"   \"pct.1\"        \"pct.2\"        \"p_val_adj\"   \n",
      "[6] \"p_val_adj_BH\"\n"
     ]
    },
    {
     "name": "stderr",
     "output_type": "stream",
     "text": [
      "Saving 6.67 x 6.67 in image\n",
      "\n"
     ]
    },
    {
     "name": "stdout",
     "output_type": "stream",
     "text": [
      "[1] \"X16519C\"\n",
      "[1] \"X16519C\"\n",
      "[1] \"se filt before\"\n",
      "[1] \"se filt\"\n",
      "An object of class Seurat \n",
      "189108 features across 3629 samples within 2 assays \n",
      "Active assay: RNA (19575 features, 0 variable features)\n",
      " 1 other assay present: ATAC\n",
      " 2 dimensional reductions calculated: integrated_lsi, umap\n",
      "[1] \"curr sig\"\n",
      "                 p_val  avg_log2FC pct.1 pct.2    p_val_adj p_val_adj_BH\n",
      "ANKRD20A2 1.274912e-28 -0.19709015 0.005 0.333 2.495640e-24 1.993452e-24\n",
      "OR8H1     9.934904e-28 -0.06899080 0.001 0.167 1.944757e-23 7.767108e-24\n",
      "BEX5      4.620539e-25 -0.27202841 0.022 0.667 9.044706e-21 2.408225e-21\n",
      "IFNA7     2.814753e-23 -0.07039881 0.001 0.167 5.509880e-19 8.802297e-20\n",
      "GOLGA8T   2.814753e-23 -0.07271595 0.001 0.167 5.509880e-19 8.802297e-20\n",
      "FOXI3     8.097408e-23 -0.26145933 0.024 0.667 1.585068e-18 2.110184e-19\n",
      "[1] \"dim response\"\n",
      "[1] 15636     6\n"
     ]
    },
    {
     "name": "stderr",
     "output_type": "stream",
     "text": [
      "Saving 6.67 x 6.67 in image\n",
      "\n",
      "Saving 6.67 x 6.67 in image\n",
      "\n",
      "Saving 6.67 x 6.67 in image\n",
      "\n",
      "Saving 6.67 x 6.67 in image\n",
      "\n",
      "Saving 6.67 x 6.67 in image\n",
      "\n"
     ]
    },
    {
     "name": "stdout",
     "output_type": "stream",
     "text": [
      "[1] \"gally\"\n",
      "[1] \"p_val\"        \"avg_log2FC\"   \"pct.1\"        \"pct.2\"        \"p_val_adj\"   \n",
      "[6] \"p_val_adj_BH\"\n"
     ]
    },
    {
     "name": "stderr",
     "output_type": "stream",
     "text": [
      "Saving 6.67 x 6.67 in image\n",
      "\n"
     ]
    },
    {
     "name": "stdout",
     "output_type": "stream",
     "text": [
      "[1] \"X290T\"\n",
      "[1] \"X290T\"\n",
      "[1] \"se filt before\"\n",
      "[1] \"se filt\"\n",
      "An object of class Seurat \n",
      "189108 features across 3717 samples within 2 assays \n",
      "Active assay: RNA (19575 features, 0 variable features)\n",
      " 1 other assay present: ATAC\n",
      " 2 dimensional reductions calculated: integrated_lsi, umap\n",
      "[1] \"curr sig\"\n",
      "               p_val avg_log2FC pct.1 pct.2    p_val_adj p_val_adj_BH\n",
      "GDF6    2.467038e-28 -0.2745933 0.085 0.605 4.829227e-24 3.847346e-24\n",
      "GRASP   1.167500e-27 -0.2452465 0.091 0.628 2.285381e-23 9.103581e-24\n",
      "ZCCHC18 8.354407e-27 -0.1443424 0.041 0.395 1.635375e-22 4.342899e-23\n",
      "RTP5    7.141449e-25 -0.1467585 0.023 0.279 1.397939e-20 2.784273e-21\n",
      "HOXA7   1.691199e-24 -0.1939251 0.060 0.465 3.310523e-20 5.274850e-21\n",
      "NPPC    2.909736e-24 -0.1766671 0.065 0.488 5.695808e-20 7.140096e-21\n",
      "[1] \"dim response\"\n",
      "[1] 15595     6\n"
     ]
    },
    {
     "name": "stderr",
     "output_type": "stream",
     "text": [
      "The automatically generated colors map from the 1^st and 99^th of the\n",
      "values in the matrix. There are outliers in the matrix whose patterns\n",
      "might be hidden by this color mapping. You can manually set the color\n",
      "to `col` argument.\n",
      "\n",
      "Use `suppressMessages()` to turn off this message.\n",
      "\n",
      "Saving 6.67 x 6.67 in image\n",
      "\n",
      "Saving 6.67 x 6.67 in image\n",
      "\n",
      "Saving 6.67 x 6.67 in image\n",
      "\n",
      "Saving 6.67 x 6.67 in image\n",
      "\n",
      "Saving 6.67 x 6.67 in image\n",
      "\n"
     ]
    },
    {
     "name": "stdout",
     "output_type": "stream",
     "text": [
      "[1] \"gally\"\n",
      "[1] \"p_val\"        \"avg_log2FC\"   \"pct.1\"        \"pct.2\"        \"p_val_adj\"   \n",
      "[6] \"p_val_adj_BH\"\n"
     ]
    },
    {
     "name": "stderr",
     "output_type": "stream",
     "text": [
      "Saving 6.67 x 6.67 in image\n",
      "\n"
     ]
    },
    {
     "name": "stdout",
     "output_type": "stream",
     "text": [
      "[1] \"X5580C\"\n",
      "[1] \"X5580C\"\n",
      "[1] \"se filt before\"\n",
      "[1] \"se filt\"\n",
      "An object of class Seurat \n",
      "189108 features across 3636 samples within 2 assays \n",
      "Active assay: RNA (19575 features, 0 variable features)\n",
      " 1 other assay present: ATAC\n",
      " 2 dimensional reductions calculated: integrated_lsi, umap\n",
      "[1] \"curr sig\"\n",
      "                 p_val  avg_log2FC pct.1 pct.2    p_val_adj p_val_adj_BH\n",
      "HOXD4     6.084614e-26 -0.10921989 0.008 0.333 1.191063e-21 9.745118e-22\n",
      "SYT15     7.330120e-23 -0.06783737 0.004 0.222 1.434871e-18 5.869960e-19\n",
      "GP5       1.817888e-21 -0.28222739 0.049 0.778 3.558515e-17 7.765828e-18\n",
      "ITM2A     1.939517e-21 -0.27013225 0.037 0.667 3.796605e-17 7.765828e-18\n",
      "CH25H     1.043542e-19 -0.28940847 0.040 0.667 2.042733e-15 3.342674e-16\n",
      "ANKRD20A2 1.922036e-18 -0.12194164 0.005 0.222 3.762385e-14 5.130554e-15\n",
      "[1] \"dim response\"\n",
      "[1] 16016     6\n"
     ]
    },
    {
     "name": "stderr",
     "output_type": "stream",
     "text": [
      "The automatically generated colors map from the 1^st and 99^th of the\n",
      "values in the matrix. There are outliers in the matrix whose patterns\n",
      "might be hidden by this color mapping. You can manually set the color\n",
      "to `col` argument.\n",
      "\n",
      "Use `suppressMessages()` to turn off this message.\n",
      "\n",
      "Saving 6.67 x 6.67 in image\n",
      "\n",
      "Saving 6.67 x 6.67 in image\n",
      "\n",
      "Saving 6.67 x 6.67 in image\n",
      "\n",
      "Saving 6.67 x 6.67 in image\n",
      "\n",
      "Saving 6.67 x 6.67 in image\n",
      "\n"
     ]
    },
    {
     "name": "stdout",
     "output_type": "stream",
     "text": [
      "[1] \"gally\"\n",
      "[1] \"p_val\"        \"avg_log2FC\"   \"pct.1\"        \"pct.2\"        \"p_val_adj\"   \n",
      "[6] \"p_val_adj_BH\"\n"
     ]
    },
    {
     "name": "stderr",
     "output_type": "stream",
     "text": [
      "Saving 6.67 x 6.67 in image\n",
      "\n"
     ]
    },
    {
     "name": "stdout",
     "output_type": "stream",
     "text": [
      "[1] \"X9545G\"\n",
      "[1] \"X9545G\"\n",
      "[1] \"se filt before\"\n",
      "[1] \"se filt\"\n",
      "An object of class Seurat \n",
      "189108 features across 3626 samples within 2 assays \n",
      "Active assay: RNA (19575 features, 0 variable features)\n",
      " 1 other assay present: ATAC\n",
      " 2 dimensional reductions calculated: integrated_lsi, umap\n",
      "[1] \"curr sig\"\n",
      "               p_val  avg_log2FC pct.1 pct.2    p_val_adj p_val_adj_BH\n",
      "TNP1    1.547220e-29 -0.10716855 0.002  0.25 3.028683e-25 7.560233e-26\n",
      "TAS2R16 1.547220e-29 -0.10685218 0.002  0.25 3.028683e-25 7.560233e-26\n",
      "FSHB    1.547220e-29 -0.10698353 0.002  0.25 3.028683e-25 7.560233e-26\n",
      "FOXF1   3.435327e-25 -0.29721801 0.019  0.75 6.724653e-21 1.258962e-21\n",
      "BHLHE23 3.344233e-22 -0.28834116 0.010  0.50 6.546336e-18 9.804622e-19\n",
      "HBA2    3.320194e-19 -0.08134526 0.003  0.25 6.499280e-15 8.111787e-16\n",
      "[1] \"dim response\"\n",
      "[1] 14659     6\n"
     ]
    },
    {
     "name": "stderr",
     "output_type": "stream",
     "text": [
      "Saving 6.67 x 6.67 in image\n",
      "\n",
      "Saving 6.67 x 6.67 in image\n",
      "\n",
      "Saving 6.67 x 6.67 in image\n",
      "\n",
      "Saving 6.67 x 6.67 in image\n",
      "\n",
      "Saving 6.67 x 6.67 in image\n",
      "\n"
     ]
    },
    {
     "name": "stdout",
     "output_type": "stream",
     "text": [
      "[1] \"gally\"\n",
      "[1] \"p_val\"        \"avg_log2FC\"   \"pct.1\"        \"pct.2\"        \"p_val_adj\"   \n",
      "[6] \"p_val_adj_BH\"\n"
     ]
    },
    {
     "name": "stderr",
     "output_type": "stream",
     "text": [
      "Saving 6.67 x 6.67 in image\n",
      "\n"
     ]
    },
    {
     "name": "stdout",
     "output_type": "stream",
     "text": [
      "[1] \"X9540C\"\n",
      "[1] \"X9540C\"\n",
      "[1] \"se filt before\"\n",
      "[1] \"se filt\"\n",
      "An object of class Seurat \n",
      "189108 features across 3629 samples within 2 assays \n",
      "Active assay: RNA (19575 features, 0 variable features)\n",
      " 1 other assay present: ATAC\n",
      " 2 dimensional reductions calculated: integrated_lsi, umap\n",
      "[1] \"curr sig\"\n",
      "               p_val  avg_log2FC pct.1 pct.2    p_val_adj p_val_adj_BH\n",
      "FOXF1   1.815318e-35 -0.38046184 0.018   0.8 3.553485e-31 2.728423e-31\n",
      "TNP1    6.769606e-24 -0.08600917 0.002   0.2 1.325150e-19 2.543679e-20\n",
      "TAS2R16 6.769606e-24 -0.08569298 0.002   0.2 1.325150e-19 2.543679e-20\n",
      "FSHB    6.769606e-24 -0.08582426 0.002   0.2 1.325150e-19 2.543679e-20\n",
      "BHLHE23 4.768061e-17 -0.23287446 0.010   0.4 9.333480e-13 1.433279e-13\n",
      "HBA2    1.330924e-15 -0.06443128 0.003   0.2 2.605284e-11 3.333966e-12\n",
      "[1] \"dim response\"\n",
      "[1] 15030     6\n"
     ]
    },
    {
     "name": "stderr",
     "output_type": "stream",
     "text": [
      "The automatically generated colors map from the 1^st and 99^th of the\n",
      "values in the matrix. There are outliers in the matrix whose patterns\n",
      "might be hidden by this color mapping. You can manually set the color\n",
      "to `col` argument.\n",
      "\n",
      "Use `suppressMessages()` to turn off this message.\n",
      "\n",
      "Saving 6.67 x 6.67 in image\n",
      "\n",
      "Saving 6.67 x 6.67 in image\n",
      "\n",
      "Saving 6.67 x 6.67 in image\n",
      "\n",
      "Saving 6.67 x 6.67 in image\n",
      "\n",
      "Saving 6.67 x 6.67 in image\n",
      "\n"
     ]
    },
    {
     "name": "stdout",
     "output_type": "stream",
     "text": [
      "[1] \"gally\"\n",
      "[1] \"p_val\"        \"avg_log2FC\"   \"pct.1\"        \"pct.2\"        \"p_val_adj\"   \n",
      "[6] \"p_val_adj_BH\"\n"
     ]
    },
    {
     "name": "stderr",
     "output_type": "stream",
     "text": [
      "Saving 6.67 x 6.67 in image\n",
      "\n"
     ]
    },
    {
     "name": "stdout",
     "output_type": "stream",
     "text": [
      "[1] \"X4917G\"\n",
      "[1] \"X4917G\"\n",
      "[1] \"se filt before\"\n",
      "[1] \"se filt\"\n",
      "An object of class Seurat \n",
      "189108 features across 3632 samples within 2 assays \n",
      "Active assay: RNA (19575 features, 0 variable features)\n",
      " 1 other assay present: ATAC\n",
      " 2 dimensional reductions calculated: integrated_lsi, umap\n",
      "[1] \"curr sig\"\n",
      "               p_val  avg_log2FC pct.1 pct.2    p_val_adj p_val_adj_BH\n",
      "GP5     6.386912e-22 -0.45128939 0.047 0.857 1.250238e-17 9.885663e-18\n",
      "GOLGA8T 3.872492e-20 -0.06255196 0.001 0.143 7.580403e-16 1.997948e-16\n",
      "OR1G1   3.872492e-20 -0.05974432 0.001 0.143 7.580403e-16 1.997948e-16\n",
      "ACTR8   2.583914e-18 -0.36590263 0.072 1.000 5.058012e-14 9.998456e-15\n",
      "HSPB1   8.186086e-15 -0.46756298 0.069 0.857 1.602426e-10 2.534085e-11\n",
      "FOXF1   1.004443e-14 -0.15606337 0.018 0.429 1.966197e-10 2.591127e-11\n",
      "[1] \"dim response\"\n",
      "[1] 15478     6\n"
     ]
    },
    {
     "name": "stderr",
     "output_type": "stream",
     "text": [
      "The automatically generated colors map from the 1^st and 99^th of the\n",
      "values in the matrix. There are outliers in the matrix whose patterns\n",
      "might be hidden by this color mapping. You can manually set the color\n",
      "to `col` argument.\n",
      "\n",
      "Use `suppressMessages()` to turn off this message.\n",
      "\n",
      "Saving 6.67 x 6.67 in image\n",
      "\n",
      "Saving 6.67 x 6.67 in image\n",
      "\n",
      "Saving 6.67 x 6.67 in image\n",
      "\n",
      "Saving 6.67 x 6.67 in image\n",
      "\n",
      "Saving 6.67 x 6.67 in image\n",
      "\n"
     ]
    },
    {
     "name": "stdout",
     "output_type": "stream",
     "text": [
      "[1] \"gally\"\n",
      "[1] \"p_val\"        \"avg_log2FC\"   \"pct.1\"        \"pct.2\"        \"p_val_adj\"   \n",
      "[6] \"p_val_adj_BH\"\n"
     ]
    },
    {
     "name": "stderr",
     "output_type": "stream",
     "text": [
      "Saving 6.67 x 6.67 in image\n",
      "\n"
     ]
    },
    {
     "name": "stdout",
     "output_type": "stream",
     "text": [
      "[1] \"X7689A\"\n",
      "[1] \"X7689A\"\n",
      "[1] \"se filt before\"\n",
      "[1] \"se filt\"\n",
      "An object of class Seurat \n",
      "189108 features across 3636 samples within 2 assays \n",
      "Active assay: RNA (19575 features, 0 variable features)\n",
      " 1 other assay present: ATAC\n",
      " 2 dimensional reductions calculated: integrated_lsi, umap\n",
      "[1] \"curr sig\"\n",
      "               p_val  avg_log2FC pct.1 pct.2    p_val_adj p_val_adj_BH\n",
      "TCEAL2  1.250785e-28 -0.17046310 0.005 0.333 2.448412e-24 1.892313e-24\n",
      "LCE2C   2.551535e-23 -0.08791115 0.001 0.167 4.994629e-19 1.930109e-19\n",
      "FAM47A  3.603474e-20 -0.06948242 0.002 0.167 7.053801e-16 1.817232e-16\n",
      "OR52J3  8.731871e-18 -0.08741465 0.002 0.167 1.709264e-13 3.302612e-14\n",
      "ADAMTS1 2.877250e-15 -0.47407181 0.056 0.833 5.632217e-11 7.324525e-12\n",
      "TNNC1   3.334796e-15 -0.41629383 0.056 0.833 6.527863e-11 7.324525e-12\n",
      "[1] \"dim response\"\n",
      "[1] 15129     6\n"
     ]
    },
    {
     "name": "stderr",
     "output_type": "stream",
     "text": [
      "The automatically generated colors map from the 1^st and 99^th of the\n",
      "values in the matrix. There are outliers in the matrix whose patterns\n",
      "might be hidden by this color mapping. You can manually set the color\n",
      "to `col` argument.\n",
      "\n",
      "Use `suppressMessages()` to turn off this message.\n",
      "\n",
      "Saving 6.67 x 6.67 in image\n",
      "\n",
      "Saving 6.67 x 6.67 in image\n",
      "\n",
      "Saving 6.67 x 6.67 in image\n",
      "\n",
      "Saving 6.67 x 6.67 in image\n",
      "\n",
      "Saving 6.67 x 6.67 in image\n",
      "\n"
     ]
    },
    {
     "name": "stdout",
     "output_type": "stream",
     "text": [
      "[1] \"gally\"\n",
      "[1] \"p_val\"        \"avg_log2FC\"   \"pct.1\"        \"pct.2\"        \"p_val_adj\"   \n",
      "[6] \"p_val_adj_BH\"\n"
     ]
    },
    {
     "name": "stderr",
     "output_type": "stream",
     "text": [
      "Saving 6.67 x 6.67 in image\n",
      "\n"
     ]
    },
    {
     "name": "stdout",
     "output_type": "stream",
     "text": [
      "[1] \"X15184C\"\n",
      "[1] \"X15184C\"\n",
      "[1] \"se filt before\"\n",
      "[1] \"se filt\"\n",
      "An object of class Seurat \n",
      "189108 features across 3634 samples within 2 assays \n",
      "Active assay: RNA (19575 features, 0 variable features)\n",
      " 1 other assay present: ATAC\n",
      " 2 dimensional reductions calculated: integrated_lsi, umap\n",
      "[1] \"curr sig\"\n",
      "                     p_val  avg_log2FC pct.1 pct.2    p_val_adj p_val_adj_BH\n",
      "GUCA2B        3.967145e-27 -0.14707909 0.008  0.50 7.765686e-23 5.988802e-23\n",
      "NPPB          8.333772e-24 -0.22704043 0.020  0.75 1.631336e-19 6.290331e-20\n",
      "RP11-309L24.4 1.400300e-22 -0.40259109 0.037  1.00 2.741088e-18 7.046312e-19\n",
      "KCNA5         1.453068e-21 -0.21149363 0.010  0.50 2.844382e-17 5.483880e-18\n",
      "HBA2          3.028357e-19 -0.08135691 0.003  0.25 5.928009e-15 9.143216e-16\n",
      "IL3           4.380822e-19 -0.14208703 0.011  0.50 8.575459e-15 1.102215e-15\n",
      "[1] \"dim response\"\n",
      "[1] 15096     6\n"
     ]
    },
    {
     "name": "stderr",
     "output_type": "stream",
     "text": [
      "The automatically generated colors map from the 1^st and 99^th of the\n",
      "values in the matrix. There are outliers in the matrix whose patterns\n",
      "might be hidden by this color mapping. You can manually set the color\n",
      "to `col` argument.\n",
      "\n",
      "Use `suppressMessages()` to turn off this message.\n",
      "\n",
      "Saving 6.67 x 6.67 in image\n",
      "\n",
      "Saving 6.67 x 6.67 in image\n",
      "\n",
      "Saving 6.67 x 6.67 in image\n",
      "\n",
      "Saving 6.67 x 6.67 in image\n",
      "\n",
      "Saving 6.67 x 6.67 in image\n",
      "\n"
     ]
    },
    {
     "name": "stdout",
     "output_type": "stream",
     "text": [
      "[1] \"gally\"\n",
      "[1] \"p_val\"        \"avg_log2FC\"   \"pct.1\"        \"pct.2\"        \"p_val_adj\"   \n",
      "[6] \"p_val_adj_BH\"\n"
     ]
    },
    {
     "name": "stderr",
     "output_type": "stream",
     "text": [
      "Saving 6.67 x 6.67 in image\n",
      "\n"
     ]
    },
    {
     "name": "stdout",
     "output_type": "stream",
     "text": [
      "[1] \"X1811G\"\n",
      "[1] \"X1811G\"\n",
      "[1] \"se filt before\"\n",
      "[1] \"se filt\"\n",
      "An object of class Seurat \n",
      "189108 features across 3639 samples within 2 assays \n",
      "Active assay: RNA (19575 features, 0 variable features)\n",
      " 1 other assay present: ATAC\n",
      " 2 dimensional reductions calculated: integrated_lsi, umap\n",
      "Error in ValidateCellGroups(object = object, cells.1 = cells.1, cells.2 = cells.2,  : \n",
      "  Cell group 2 has fewer than 3 cells\n",
      "[1] \"X499A\"\n",
      "[1] \"X499A\"\n",
      "[1] \"se filt before\"\n",
      "[1] \"se filt\"\n",
      "An object of class Seurat \n",
      "189108 features across 3639 samples within 2 assays \n",
      "Active assay: RNA (19575 features, 0 variable features)\n",
      " 1 other assay present: ATAC\n",
      " 2 dimensional reductions calculated: integrated_lsi, umap\n",
      "Error in ValidateCellGroups(object = object, cells.1 = cells.1, cells.2 = cells.2,  : \n",
      "  Cell group 2 has fewer than 3 cells\n",
      "[1] \"X16362C\"\n",
      "[1] \"X16362C\"\n",
      "[1] \"se filt before\"\n",
      "[1] \"se filt\"\n",
      "An object of class Seurat \n",
      "189108 features across 3644 samples within 2 assays \n",
      "Active assay: RNA (19575 features, 0 variable features)\n",
      " 1 other assay present: ATAC\n",
      " 2 dimensional reductions calculated: integrated_lsi, umap\n",
      "[1] \"curr sig\"\n",
      "                          p_val avg_log2FC pct.1 pct.2    p_val_adj\n",
      "CH17-360D5.1       2.717659e-54 -0.1404049 0.001 0.333 5.319818e-50\n",
      "TNP1               2.132590e-34 -0.1382059 0.002 0.333 4.174545e-30\n",
      "ABC7-42404400C24.1 1.393705e-28 -0.2573802 0.010 0.667 2.728178e-24\n",
      "TAS2R50            9.436393e-28 -0.1380571 0.002 0.333 1.847174e-23\n",
      "HBA2               9.436393e-28 -0.1093885 0.002 0.333 1.847174e-23\n",
      "FOXF2              4.639853e-22 -0.4203432 0.029 1.000 9.082513e-18\n",
      "                   p_val_adj_BH\n",
      "CH17-360D5.1       3.989796e-50\n",
      "TNP1               1.565428e-30\n",
      "ABC7-42404400C24.1 6.820328e-25\n",
      "TAS2R50            2.770714e-24\n",
      "HBA2               2.770714e-24\n",
      "FOXF2              1.135295e-18\n",
      "[1] \"dim response\"\n",
      "[1] 14681     6\n"
     ]
    },
    {
     "name": "stderr",
     "output_type": "stream",
     "text": [
      "The automatically generated colors map from the 1^st and 99^th of the\n",
      "values in the matrix. There are outliers in the matrix whose patterns\n",
      "might be hidden by this color mapping. You can manually set the color\n",
      "to `col` argument.\n",
      "\n",
      "Use `suppressMessages()` to turn off this message.\n",
      "\n",
      "Saving 6.67 x 6.67 in image\n",
      "\n",
      "Saving 6.67 x 6.67 in image\n",
      "\n",
      "Saving 6.67 x 6.67 in image\n",
      "\n",
      "Saving 6.67 x 6.67 in image\n",
      "\n",
      "Saving 6.67 x 6.67 in image\n",
      "\n"
     ]
    },
    {
     "name": "stdout",
     "output_type": "stream",
     "text": [
      "[1] \"gally\"\n",
      "[1] \"p_val\"        \"avg_log2FC\"   \"pct.1\"        \"pct.2\"        \"p_val_adj\"   \n",
      "[6] \"p_val_adj_BH\"\n"
     ]
    },
    {
     "name": "stderr",
     "output_type": "stream",
     "text": [
      "Saving 6.67 x 6.67 in image\n",
      "\n"
     ]
    },
    {
     "name": "stdout",
     "output_type": "stream",
     "text": [
      "[1] \"X13368A\"\n",
      "[1] \"X13368A\"\n",
      "[1] \"se filt before\"\n",
      "[1] \"se filt\"\n",
      "An object of class Seurat \n",
      "189108 features across 3650 samples within 2 assays \n",
      "Active assay: RNA (19575 features, 0 variable features)\n",
      " 1 other assay present: ATAC\n",
      " 2 dimensional reductions calculated: integrated_lsi, umap\n",
      "[1] \"curr sig\"\n",
      "               p_val  avg_log2FC pct.1 pct.2    p_val_adj p_val_adj_BH\n",
      "SOX2    2.475116e-19 -0.27382406 0.020   0.6 4.845039e-15 3.678269e-15\n",
      "KLRC3   1.552831e-17 -0.23816278 0.010   0.4 3.039667e-13 1.153831e-13\n",
      "LAG3    3.385971e-17 -0.49489027 0.040   0.8 6.628038e-13 1.677297e-13\n",
      "PTH2    9.497917e-17 -0.34307039 0.023   0.6 1.859217e-12 3.528714e-13\n",
      "OR1J4   1.096483e-15 -0.07354735 0.003   0.2 2.146366e-11 3.258968e-12\n",
      "TAS2R31 1.542928e-14 -0.17924863 0.003   0.2 3.020281e-10 3.366261e-11\n",
      "[1] \"dim response\"\n",
      "[1] 14861     6\n"
     ]
    },
    {
     "name": "stderr",
     "output_type": "stream",
     "text": [
      "The automatically generated colors map from the 1^st and 99^th of the\n",
      "values in the matrix. There are outliers in the matrix whose patterns\n",
      "might be hidden by this color mapping. You can manually set the color\n",
      "to `col` argument.\n",
      "\n",
      "Use `suppressMessages()` to turn off this message.\n",
      "\n",
      "Saving 6.67 x 6.67 in image\n",
      "\n",
      "Saving 6.67 x 6.67 in image\n",
      "\n",
      "Saving 6.67 x 6.67 in image\n",
      "\n",
      "Saving 6.67 x 6.67 in image\n",
      "\n",
      "Saving 6.67 x 6.67 in image\n",
      "\n"
     ]
    },
    {
     "name": "stdout",
     "output_type": "stream",
     "text": [
      "[1] \"gally\"\n",
      "[1] \"p_val\"        \"avg_log2FC\"   \"pct.1\"        \"pct.2\"        \"p_val_adj\"   \n",
      "[6] \"p_val_adj_BH\"\n"
     ]
    },
    {
     "name": "stderr",
     "output_type": "stream",
     "text": [
      "Saving 6.67 x 6.67 in image\n",
      "\n"
     ]
    },
    {
     "name": "stdout",
     "output_type": "stream",
     "text": [
      "[1] \"X15452A\"\n",
      "[1] \"X15452A\"\n",
      "[1] \"se filt before\"\n",
      "[1] \"se filt\"\n",
      "An object of class Seurat \n",
      "189108 features across 3649 samples within 2 assays \n",
      "Active assay: RNA (19575 features, 0 variable features)\n",
      " 1 other assay present: ATAC\n",
      " 2 dimensional reductions calculated: integrated_lsi, umap\n",
      "[1] \"curr sig\"\n",
      "               p_val  avg_log2FC pct.1 pct.2    p_val_adj p_val_adj_BH\n",
      "GOLGA8T 4.056900e-41 -0.10969482 0.001  0.25 7.941381e-37 5.928753e-37\n",
      "POMZP3  2.991686e-16 -0.26234740 0.029  0.75 5.856226e-12 2.186025e-12\n",
      "SYT15   1.901898e-14 -0.08779534 0.004  0.25 3.722966e-10 9.264780e-11\n",
      "KLK1    1.171491e-13 -0.76017858 0.017  0.50 2.293193e-09 4.280042e-10\n",
      "OR7E24  4.525160e-13 -0.70097917 0.004  0.25 8.858001e-09 1.184012e-09\n",
      "HOXC13  4.861143e-13 -0.19800573 0.017  0.50 9.515687e-09 1.184012e-09\n",
      "[1] \"dim response\"\n",
      "[1] 14614     6\n"
     ]
    },
    {
     "name": "stderr",
     "output_type": "stream",
     "text": [
      "The automatically generated colors map from the 1^st and 99^th of the\n",
      "values in the matrix. There are outliers in the matrix whose patterns\n",
      "might be hidden by this color mapping. You can manually set the color\n",
      "to `col` argument.\n",
      "\n",
      "Use `suppressMessages()` to turn off this message.\n",
      "\n",
      "Saving 6.67 x 6.67 in image\n",
      "\n",
      "Saving 6.67 x 6.67 in image\n",
      "\n",
      "Saving 6.67 x 6.67 in image\n",
      "\n",
      "Saving 6.67 x 6.67 in image\n",
      "\n",
      "Saving 6.67 x 6.67 in image\n",
      "\n"
     ]
    },
    {
     "name": "stdout",
     "output_type": "stream",
     "text": [
      "[1] \"gally\"\n",
      "[1] \"p_val\"        \"avg_log2FC\"   \"pct.1\"        \"pct.2\"        \"p_val_adj\"   \n",
      "[6] \"p_val_adj_BH\"\n"
     ]
    },
    {
     "name": "stderr",
     "output_type": "stream",
     "text": [
      "Saving 6.67 x 6.67 in image\n",
      "\n"
     ]
    },
    {
     "name": "stdout",
     "output_type": "stream",
     "text": [
      "[1] \"X477C\"\n",
      "[1] \"X477C\"\n",
      "[1] \"se filt before\"\n",
      "[1] \"se filt\"\n",
      "An object of class Seurat \n",
      "189108 features across 3648 samples within 2 assays \n",
      "Active assay: RNA (19575 features, 0 variable features)\n",
      " 1 other assay present: ATAC\n",
      " 2 dimensional reductions calculated: integrated_lsi, umap\n",
      "Error in ValidateCellGroups(object = object, cells.1 = cells.1, cells.2 = cells.2,  : \n",
      "  Cell group 2 has fewer than 3 cells\n",
      "[1] \"X8118A\"\n",
      "[1] \"X8118A\"\n",
      "[1] \"se filt before\"\n",
      "[1] \"se filt\"\n",
      "An object of class Seurat \n",
      "189108 features across 3669 samples within 2 assays \n",
      "Active assay: RNA (19575 features, 0 variable features)\n",
      " 1 other assay present: ATAC\n",
      " 2 dimensional reductions calculated: integrated_lsi, umap\n",
      "[1] \"curr sig\"\n",
      "               p_val avg_log2FC pct.1 pct.2    p_val_adj p_val_adj_BH\n",
      "PITX1   6.706804e-21 -0.2630959 0.035 0.538 1.312857e-16 1.007362e-16\n",
      "CD24    1.432660e-16 -0.1398432 0.023 0.385 2.804431e-12 8.865593e-13\n",
      "MIXL1   1.770758e-16 -0.1651267 0.023 0.385 3.466258e-12 8.865593e-13\n",
      "ADAMTS1 1.745983e-15 -0.2936292 0.059 0.615 3.417762e-11 6.327533e-12\n",
      "ADRA2A  2.106369e-15 -0.3008696 0.047 0.538 4.123218e-11 6.327533e-12\n",
      "NKX2-2  2.700486e-15 -0.1647459 0.016 0.308 5.286200e-11 6.760215e-12\n",
      "[1] \"dim response\"\n",
      "[1] 15020     6\n"
     ]
    },
    {
     "name": "stderr",
     "output_type": "stream",
     "text": [
      "The automatically generated colors map from the 1^st and 99^th of the\n",
      "values in the matrix. There are outliers in the matrix whose patterns\n",
      "might be hidden by this color mapping. You can manually set the color\n",
      "to `col` argument.\n",
      "\n",
      "Use `suppressMessages()` to turn off this message.\n",
      "\n",
      "Saving 6.67 x 6.67 in image\n",
      "\n",
      "Saving 6.67 x 6.67 in image\n",
      "\n",
      "Saving 6.67 x 6.67 in image\n",
      "\n",
      "Saving 6.67 x 6.67 in image\n",
      "\n",
      "Saving 6.67 x 6.67 in image\n",
      "\n"
     ]
    },
    {
     "name": "stdout",
     "output_type": "stream",
     "text": [
      "[1] \"gally\"\n",
      "[1] \"p_val\"        \"avg_log2FC\"   \"pct.1\"        \"pct.2\"        \"p_val_adj\"   \n",
      "[6] \"p_val_adj_BH\"\n"
     ]
    },
    {
     "name": "stderr",
     "output_type": "stream",
     "text": [
      "Saving 6.67 x 6.67 in image\n",
      "\n"
     ]
    },
    {
     "name": "stdout",
     "output_type": "stream",
     "text": [
      "[1] \"X16356C\"\n",
      "[1] \"X16356C\"\n",
      "[1] \"se filt before\"\n",
      "[1] \"se filt\"\n",
      "An object of class Seurat \n",
      "189108 features across 3652 samples within 2 assays \n",
      "Active assay: RNA (19575 features, 0 variable features)\n",
      " 1 other assay present: ATAC\n",
      " 2 dimensional reductions calculated: integrated_lsi, umap\n",
      "[1] \"curr sig\"\n",
      "                     p_val avg_log2FC pct.1 pct.2    p_val_adj p_val_adj_BH\n",
      "TNP1          1.803227e-34 -0.1382104 0.002 0.333 3.529816e-30 2.656694e-30\n",
      "OR2T35        8.370148e-31 -0.1271423 0.002 0.333 1.638456e-26 6.165870e-27\n",
      "HBA2          8.249468e-28 -0.1093995 0.002 0.333 1.614833e-23 4.051314e-24\n",
      "TKTL2         1.192855e-21 -0.1090277 0.003 0.333 2.335013e-17 4.393582e-18\n",
      "RP11-219C20.1 3.513910e-20 -0.1365221 0.004 0.333 6.878479e-16 1.035409e-16\n",
      "KRT222        5.389189e-20 -0.3240806 0.015 0.667 1.054934e-15 1.323315e-16\n",
      "[1] \"dim response\"\n",
      "[1] 14733     6\n"
     ]
    },
    {
     "name": "stderr",
     "output_type": "stream",
     "text": [
      "Saving 6.67 x 6.67 in image\n",
      "\n",
      "Saving 6.67 x 6.67 in image\n",
      "\n",
      "Saving 6.67 x 6.67 in image\n",
      "\n",
      "Saving 6.67 x 6.67 in image\n",
      "\n",
      "Saving 6.67 x 6.67 in image\n",
      "\n"
     ]
    },
    {
     "name": "stdout",
     "output_type": "stream",
     "text": [
      "[1] \"gally\"\n",
      "[1] \"p_val\"        \"avg_log2FC\"   \"pct.1\"        \"pct.2\"        \"p_val_adj\"   \n",
      "[6] \"p_val_adj_BH\"\n"
     ]
    },
    {
     "name": "stderr",
     "output_type": "stream",
     "text": [
      "Saving 6.67 x 6.67 in image\n",
      "\n"
     ]
    },
    {
     "name": "stdout",
     "output_type": "stream",
     "text": [
      "[1] \"X11204C\"\n",
      "[1] \"X11204C\"\n",
      "[1] \"se filt before\"\n",
      "[1] \"se filt\"\n",
      "An object of class Seurat \n",
      "189108 features across 3667 samples within 2 assays \n",
      "Active assay: RNA (19575 features, 0 variable features)\n",
      " 1 other assay present: ATAC\n",
      " 2 dimensional reductions calculated: integrated_lsi, umap\n",
      "[1] \"curr sig\"\n",
      "                    p_val  avg_log2FC pct.1 pct.2    p_val_adj p_val_adj_BH\n",
      "KRTAP12-4    6.295466e-18 -0.04923538 0.001 0.125 1.232337e-13 9.804558e-14\n",
      "RP11-451G4.2 1.552329e-15 -0.05717625 0.002 0.125 3.038685e-11 8.058659e-12\n",
      "RP5-1106E3.2 1.552329e-15 -0.05925064 0.002 0.125 3.038685e-11 8.058659e-12\n",
      "HBG1         1.037394e-13 -0.05589914 0.002 0.125 2.030699e-09 3.231275e-10\n",
      "OR5M3        1.037394e-13 -0.06696178 0.002 0.125 2.030699e-09 3.231275e-10\n",
      "VPREB1       2.570042e-13 -0.19881064 0.018 0.375 5.030858e-09 6.670974e-10\n",
      "[1] \"dim response\"\n",
      "[1] 15574     6\n"
     ]
    },
    {
     "name": "stderr",
     "output_type": "stream",
     "text": [
      "The automatically generated colors map from the 1^st and 99^th of the\n",
      "values in the matrix. There are outliers in the matrix whose patterns\n",
      "might be hidden by this color mapping. You can manually set the color\n",
      "to `col` argument.\n",
      "\n",
      "Use `suppressMessages()` to turn off this message.\n",
      "\n",
      "Saving 6.67 x 6.67 in image\n",
      "\n",
      "Saving 6.67 x 6.67 in image\n",
      "\n",
      "Saving 6.67 x 6.67 in image\n",
      "\n",
      "Saving 6.67 x 6.67 in image\n",
      "\n",
      "Saving 6.67 x 6.67 in image\n",
      "\n"
     ]
    },
    {
     "name": "stdout",
     "output_type": "stream",
     "text": [
      "[1] \"gally\"\n",
      "[1] \"p_val\"        \"avg_log2FC\"   \"pct.1\"        \"pct.2\"        \"p_val_adj\"   \n",
      "[6] \"p_val_adj_BH\"\n"
     ]
    },
    {
     "name": "stderr",
     "output_type": "stream",
     "text": [
      "Saving 6.67 x 6.67 in image\n",
      "\n"
     ]
    },
    {
     "name": "stdout",
     "output_type": "stream",
     "text": [
      "[1] \"X14861A\"\n",
      "[1] \"X14861A\"\n",
      "[1] \"se filt before\"\n",
      "[1] \"se filt\"\n",
      "An object of class Seurat \n",
      "189108 features across 3659 samples within 2 assays \n",
      "Active assay: RNA (19575 features, 0 variable features)\n",
      " 1 other assay present: ATAC\n",
      " 2 dimensional reductions calculated: integrated_lsi, umap\n",
      "[1] \"curr sig\"\n",
      "                 p_val  avg_log2FC pct.1 pct.2    p_val_adj p_val_adj_BH\n",
      "KRTAP12-4 8.544174e-30 -0.09808576 0.002  0.25 1.672522e-25 1.229079e-25\n",
      "SYT15     1.215035e-13 -0.09588479 0.004  0.25 2.378431e-09 8.739139e-10\n",
      "MSX1      3.100241e-13 -0.32513030 0.037  0.75 6.068722e-09 1.486566e-09\n",
      "TCEAL2    6.737059e-13 -0.09045090 0.004  0.25 1.318779e-08 2.217489e-09\n",
      "LY6G6C    7.707643e-13 -0.26492764 0.018  0.50 1.508771e-08 2.217489e-09\n",
      "KLF14     1.791533e-12 -0.42455734 0.018  0.50 3.506925e-08 4.295200e-09\n",
      "[1] \"dim response\"\n",
      "[1] 14385     6\n"
     ]
    },
    {
     "name": "stderr",
     "output_type": "stream",
     "text": [
      "The automatically generated colors map from the 1^st and 99^th of the\n",
      "values in the matrix. There are outliers in the matrix whose patterns\n",
      "might be hidden by this color mapping. You can manually set the color\n",
      "to `col` argument.\n",
      "\n",
      "Use `suppressMessages()` to turn off this message.\n",
      "\n",
      "Saving 6.67 x 6.67 in image\n",
      "\n",
      "Saving 6.67 x 6.67 in image\n",
      "\n",
      "Saving 6.67 x 6.67 in image\n",
      "\n",
      "Saving 6.67 x 6.67 in image\n",
      "\n",
      "Saving 6.67 x 6.67 in image\n",
      "\n"
     ]
    },
    {
     "name": "stdout",
     "output_type": "stream",
     "text": [
      "[1] \"gally\"\n",
      "[1] \"p_val\"        \"avg_log2FC\"   \"pct.1\"        \"pct.2\"        \"p_val_adj\"   \n",
      "[6] \"p_val_adj_BH\"\n"
     ]
    },
    {
     "name": "stderr",
     "output_type": "stream",
     "text": [
      "Saving 6.67 x 6.67 in image\n",
      "\n"
     ]
    },
    {
     "name": "stdout",
     "output_type": "stream",
     "text": [
      "[1] \"X930A\"\n",
      "[1] \"X930A\"\n",
      "[1] \"se filt before\"\n",
      "[1] \"se filt\"\n",
      "An object of class Seurat \n",
      "189108 features across 3663 samples within 2 assays \n",
      "Active assay: RNA (19575 features, 0 variable features)\n",
      " 1 other assay present: ATAC\n",
      " 2 dimensional reductions calculated: integrated_lsi, umap\n",
      "[1] \"curr sig\"\n",
      "                 p_val  avg_log2FC pct.1 pct.2    p_val_adj p_val_adj_BH\n",
      "ENPP5     9.357804e-25 -0.48068990 0.035 0.833 1.831790e-20 1.394406e-20\n",
      "GOLGA8T   2.730513e-20 -0.07254344 0.002 0.167 5.344980e-16 1.356246e-16\n",
      "KRTAP9-9  2.730513e-20 -0.06330826 0.002 0.167 5.344980e-16 1.356246e-16\n",
      "KRTAP23-1 6.846864e-18 -0.08484690 0.002 0.167 1.340274e-13 2.550628e-14\n",
      "NKX6-1    9.340411e-18 -0.57907277 0.049 0.833 1.828385e-13 2.783629e-14\n",
      "OTUD6A    5.064503e-16 -0.06352162 0.002 0.167 9.913765e-12 1.257769e-12\n",
      "[1] \"dim response\"\n",
      "[1] 14901     6\n"
     ]
    },
    {
     "name": "stderr",
     "output_type": "stream",
     "text": [
      "The automatically generated colors map from the 1^st and 99^th of the\n",
      "values in the matrix. There are outliers in the matrix whose patterns\n",
      "might be hidden by this color mapping. You can manually set the color\n",
      "to `col` argument.\n",
      "\n",
      "Use `suppressMessages()` to turn off this message.\n",
      "\n",
      "Saving 6.67 x 6.67 in image\n",
      "\n",
      "Saving 6.67 x 6.67 in image\n",
      "\n",
      "Saving 6.67 x 6.67 in image\n",
      "\n",
      "Saving 6.67 x 6.67 in image\n",
      "\n",
      "Saving 6.67 x 6.67 in image\n",
      "\n"
     ]
    },
    {
     "name": "stdout",
     "output_type": "stream",
     "text": [
      "[1] \"gally\"\n",
      "[1] \"p_val\"        \"avg_log2FC\"   \"pct.1\"        \"pct.2\"        \"p_val_adj\"   \n",
      "[6] \"p_val_adj_BH\"\n"
     ]
    },
    {
     "name": "stderr",
     "output_type": "stream",
     "text": [
      "Saving 6.67 x 6.67 in image\n",
      "\n"
     ]
    },
    {
     "name": "stdout",
     "output_type": "stream",
     "text": [
      "[1] \"X15789T\"\n",
      "[1] \"X15789T\"\n",
      "[1] \"se filt before\"\n",
      "[1] \"se filt\"\n",
      "An object of class Seurat \n",
      "189108 features across 3660 samples within 2 assays \n",
      "Active assay: RNA (19575 features, 0 variable features)\n",
      " 1 other assay present: ATAC\n",
      " 2 dimensional reductions calculated: integrated_lsi, umap\n",
      "[1] \"curr sig\"\n",
      "                           p_val  avg_log2FC pct.1 pct.2     p_val_adj\n",
      "DEFB105A           1.140492e-200 -0.17123638 0.000  0.25 2.232513e-196\n",
      "DEFB106A           1.140492e-200 -0.17123638 0.000  0.25 2.232513e-196\n",
      "OR8H1               3.076888e-41 -0.08673615 0.001  0.25  6.023008e-37\n",
      "ZIC3                2.915688e-26 -0.48656991 0.032  1.00  5.707460e-22\n",
      "SPANXN5             3.188802e-26 -0.08269438 0.002  0.25  6.242081e-22\n",
      "ABC7-42404400C24.1  1.483282e-23 -0.21204807 0.009  0.50  2.903525e-19\n",
      "                    p_val_adj_BH\n",
      "DEFB105A           8.566805e-197\n",
      "DEFB106A           8.566805e-197\n",
      "OR8H1               1.540803e-37\n",
      "ZIC3                9.581076e-23\n",
      "SPANXN5             9.581076e-23\n",
      "ABC7-42404400C24.1  3.713892e-20\n",
      "[1] \"dim response\"\n",
      "[1] 15023     6\n"
     ]
    },
    {
     "name": "stderr",
     "output_type": "stream",
     "text": [
      "Saving 6.67 x 6.67 in image\n",
      "\n",
      "Saving 6.67 x 6.67 in image\n",
      "\n",
      "Saving 6.67 x 6.67 in image\n",
      "\n",
      "Saving 6.67 x 6.67 in image\n",
      "\n",
      "Saving 6.67 x 6.67 in image\n",
      "\n"
     ]
    },
    {
     "name": "stdout",
     "output_type": "stream",
     "text": [
      "[1] \"gally\"\n",
      "[1] \"p_val\"        \"avg_log2FC\"   \"pct.1\"        \"pct.2\"        \"p_val_adj\"   \n",
      "[6] \"p_val_adj_BH\"\n"
     ]
    },
    {
     "name": "stderr",
     "output_type": "stream",
     "text": [
      "Saving 6.67 x 6.67 in image\n",
      "\n"
     ]
    },
    {
     "name": "stdout",
     "output_type": "stream",
     "text": [
      "[1] \"X8352A\"\n",
      "[1] \"X8352A\"\n",
      "[1] \"se filt before\"\n",
      "[1] \"se filt\"\n",
      "An object of class Seurat \n",
      "189108 features across 3687 samples within 2 assays \n",
      "Active assay: RNA (19575 features, 0 variable features)\n",
      " 1 other assay present: ATAC\n",
      " 2 dimensional reductions calculated: integrated_lsi, umap\n",
      "[1] \"curr sig\"\n",
      "                      p_val  avg_log2FC pct.1 pct.2    p_val_adj p_val_adj_BH\n",
      "ANKRD20A1      3.446719e-19 -0.07729386 0.002 0.125 6.746952e-15 4.402499e-15\n",
      "CLDN15         5.783250e-19 -0.40384564 0.062 0.625 1.132071e-14 4.402499e-15\n",
      "RP11-426L16.10 2.499644e-18 -0.40140994 0.086 0.750 4.893052e-14 1.268569e-14\n",
      "MAPK11         9.320263e-18 -0.35587390 0.053 0.562 1.824441e-13 3.547525e-14\n",
      "ZBTB42         1.570223e-16 -0.24422827 0.067 0.625 3.073712e-12 4.344459e-13\n",
      "RHOC           1.712102e-16 -0.40476976 0.081 0.688 3.351440e-12 4.344459e-13\n",
      "[1] \"dim response\"\n",
      "[1] 15225     6\n"
     ]
    },
    {
     "name": "stderr",
     "output_type": "stream",
     "text": [
      "The automatically generated colors map from the 1^st and 99^th of the\n",
      "values in the matrix. There are outliers in the matrix whose patterns\n",
      "might be hidden by this color mapping. You can manually set the color\n",
      "to `col` argument.\n",
      "\n",
      "Use `suppressMessages()` to turn off this message.\n",
      "\n",
      "Saving 6.67 x 6.67 in image\n",
      "\n",
      "Saving 6.67 x 6.67 in image\n",
      "\n",
      "Saving 6.67 x 6.67 in image\n",
      "\n",
      "Saving 6.67 x 6.67 in image\n",
      "\n",
      "Saving 6.67 x 6.67 in image\n",
      "\n"
     ]
    },
    {
     "name": "stdout",
     "output_type": "stream",
     "text": [
      "[1] \"gally\"\n",
      "[1] \"p_val\"        \"avg_log2FC\"   \"pct.1\"        \"pct.2\"        \"p_val_adj\"   \n",
      "[6] \"p_val_adj_BH\"\n"
     ]
    },
    {
     "name": "stderr",
     "output_type": "stream",
     "text": [
      "Saving 6.67 x 6.67 in image\n",
      "\n"
     ]
    },
    {
     "name": "stdout",
     "output_type": "stream",
     "text": [
      "[1] \"X10646A\"\n",
      "[1] \"X10646A\"\n",
      "[1] \"se filt before\"\n",
      "[1] \"se filt\"\n",
      "An object of class Seurat \n",
      "189108 features across 3661 samples within 2 assays \n",
      "Active assay: RNA (19575 features, 0 variable features)\n",
      " 1 other assay present: ATAC\n",
      " 2 dimensional reductions calculated: integrated_lsi, umap\n",
      "[1] \"curr sig\"\n",
      "              p_val avg_log2FC pct.1 pct.2    p_val_adj p_val_adj_BH\n",
      "SRY    2.340014e-39 -0.1355071 0.002 0.333 4.580578e-35 3.442863e-35\n",
      "EBLN1  7.091687e-28 -0.1259269 0.002 0.333 1.388198e-23 5.217000e-24\n",
      "HBA2   1.912821e-25 -0.1091586 0.003 0.333 3.744347e-21 8.214107e-22\n",
      "POTEB3 2.233156e-25 -0.2196054 0.011 0.667 4.371403e-21 8.214107e-22\n",
      "CCT8L2 1.008459e-21 -0.1250947 0.003 0.333 1.974058e-17 2.603126e-18\n",
      "TKTL2  1.061562e-21 -0.1090409 0.003 0.333 2.078007e-17 2.603126e-18\n",
      "[1] \"dim response\"\n",
      "[1] 14713     6\n"
     ]
    },
    {
     "name": "stderr",
     "output_type": "stream",
     "text": [
      "Saving 6.67 x 6.67 in image\n",
      "\n",
      "Saving 6.67 x 6.67 in image\n",
      "\n",
      "Saving 6.67 x 6.67 in image\n",
      "\n",
      "Saving 6.67 x 6.67 in image\n",
      "\n",
      "Saving 6.67 x 6.67 in image\n",
      "\n"
     ]
    },
    {
     "name": "stdout",
     "output_type": "stream",
     "text": [
      "[1] \"gally\"\n",
      "[1] \"p_val\"        \"avg_log2FC\"   \"pct.1\"        \"pct.2\"        \"p_val_adj\"   \n",
      "[6] \"p_val_adj_BH\"\n"
     ]
    },
    {
     "name": "stderr",
     "output_type": "stream",
     "text": [
      "Saving 6.67 x 6.67 in image\n",
      "\n"
     ]
    },
    {
     "name": "stdout",
     "output_type": "stream",
     "text": [
      "[1] \"X4248C\"\n",
      "[1] \"X4248C\"\n",
      "[1] \"se filt before\"\n",
      "[1] \"se filt\"\n",
      "An object of class Seurat \n",
      "189108 features across 3722 samples within 2 assays \n",
      "Active assay: RNA (19575 features, 0 variable features)\n",
      " 1 other assay present: ATAC\n",
      " 2 dimensional reductions calculated: integrated_lsi, umap\n",
      "[1] \"curr sig\"\n",
      "                p_val avg_log2FC pct.1 pct.2    p_val_adj p_val_adj_BH\n",
      "GP5      1.921730e-27 -0.2465867 0.047 0.500 3.761787e-23 3.040178e-23\n",
      "C11orf95 1.289534e-22 -0.1803146 0.056 0.500 2.524263e-18 9.956380e-19\n",
      "GRASP    1.888062e-22 -0.3233303 0.094 0.667 3.695881e-18 9.956380e-19\n",
      "SMKR1    7.267462e-22 -0.2250612 0.058 0.500 1.422606e-17 2.874281e-18\n",
      "HPCAL4   1.743323e-21 -0.2077924 0.079 0.600 3.412554e-17 5.515873e-18\n",
      "TLX1     2.125037e-21 -0.1593560 0.033 0.367 4.159760e-17 5.603014e-18\n",
      "[1] \"dim response\"\n",
      "[1] 15820     6\n"
     ]
    },
    {
     "name": "stderr",
     "output_type": "stream",
     "text": [
      "The automatically generated colors map from the 1^st and 99^th of the\n",
      "values in the matrix. There are outliers in the matrix whose patterns\n",
      "might be hidden by this color mapping. You can manually set the color\n",
      "to `col` argument.\n",
      "\n",
      "Use `suppressMessages()` to turn off this message.\n",
      "\n",
      "Saving 6.67 x 6.67 in image\n",
      "\n",
      "Saving 6.67 x 6.67 in image\n",
      "\n",
      "Saving 6.67 x 6.67 in image\n",
      "\n",
      "Saving 6.67 x 6.67 in image\n",
      "\n",
      "Saving 6.67 x 6.67 in image\n",
      "\n"
     ]
    },
    {
     "name": "stdout",
     "output_type": "stream",
     "text": [
      "[1] \"gally\"\n",
      "[1] \"p_val\"        \"avg_log2FC\"   \"pct.1\"        \"pct.2\"        \"p_val_adj\"   \n",
      "[6] \"p_val_adj_BH\"\n"
     ]
    },
    {
     "name": "stderr",
     "output_type": "stream",
     "text": [
      "Saving 6.67 x 6.67 in image\n",
      "\n"
     ]
    },
    {
     "name": "stdout",
     "output_type": "stream",
     "text": [
      "[1] \"X16126C\"\n",
      "[1] \"X16126C\"\n",
      "[1] \"se filt before\"\n",
      "[1] \"se filt\"\n",
      "An object of class Seurat \n",
      "189108 features across 3669 samples within 2 assays \n",
      "Active assay: RNA (19575 features, 0 variable features)\n",
      " 1 other assay present: ATAC\n",
      " 2 dimensional reductions calculated: integrated_lsi, umap\n",
      "[1] \"curr sig\"\n",
      "               p_val  avg_log2FC pct.1 pct.2    p_val_adj p_val_adj_BH\n",
      "OR10A7  1.612961e-33 -0.11421714 0.003 0.286 3.157371e-29 2.484605e-29\n",
      "NAP1L2  8.386326e-24 -0.41403075 0.020 0.571 1.641623e-19 6.459149e-20\n",
      "GOLGA8T 2.480334e-20 -0.06257247 0.001 0.143 4.855253e-16 1.273569e-16\n",
      "LCE1A   1.331195e-17 -0.07360039 0.002 0.143 2.605814e-13 3.560251e-14\n",
      "OR5F1   1.331195e-17 -0.04451837 0.002 0.143 2.605814e-13 3.560251e-14\n",
      "TAAR6   1.386751e-17 -0.04439120 0.002 0.143 2.714564e-13 3.560251e-14\n",
      "[1] \"dim response\"\n",
      "[1] 15404     6\n"
     ]
    },
    {
     "name": "stderr",
     "output_type": "stream",
     "text": [
      "Saving 6.67 x 6.67 in image\n",
      "\n",
      "Saving 6.67 x 6.67 in image\n",
      "\n",
      "Saving 6.67 x 6.67 in image\n",
      "\n",
      "Saving 6.67 x 6.67 in image\n",
      "\n",
      "Saving 6.67 x 6.67 in image\n",
      "\n"
     ]
    },
    {
     "name": "stdout",
     "output_type": "stream",
     "text": [
      "[1] \"gally\"\n",
      "[1] \"p_val\"        \"avg_log2FC\"   \"pct.1\"        \"pct.2\"        \"p_val_adj\"   \n",
      "[6] \"p_val_adj_BH\"\n"
     ]
    },
    {
     "name": "stderr",
     "output_type": "stream",
     "text": [
      "Saving 6.67 x 6.67 in image\n",
      "\n"
     ]
    },
    {
     "name": "stdout",
     "output_type": "stream",
     "text": [
      "[1] \"X6456A\"\n",
      "[1] \"X6456A\"\n",
      "[1] \"se filt before\"\n",
      "[1] \"se filt\"\n",
      "An object of class Seurat \n",
      "189108 features across 3681 samples within 2 assays \n",
      "Active assay: RNA (19575 features, 0 variable features)\n",
      " 1 other assay present: ATAC\n",
      " 2 dimensional reductions calculated: integrated_lsi, umap\n",
      "[1] \"curr sig\"\n",
      "                p_val  avg_log2FC pct.1 pct.2    p_val_adj p_val_adj_BH\n",
      "BEX5     1.505876e-26 -0.22639848 0.022 0.500 2.947752e-22 2.271312e-22\n",
      "MTRNR2L3 3.443078e-23 -0.06207394 0.003 0.167 6.739825e-19 2.596597e-19\n",
      "CYP2A6   1.873277e-20 -0.29383985 0.049 0.667 3.666940e-16 9.418213e-17\n",
      "C2CD4D   3.235256e-20 -0.16929368 0.013 0.333 6.333014e-16 1.219934e-16\n",
      "SYT15    1.083913e-18 -0.07678313 0.004 0.167 2.121760e-14 3.269733e-15\n",
      "PRKACG   4.417083e-16 -0.18182100 0.026 0.417 8.646441e-12 1.110381e-12\n",
      "[1] \"dim response\"\n",
      "[1] 15083     6\n"
     ]
    },
    {
     "name": "stderr",
     "output_type": "stream",
     "text": [
      "The automatically generated colors map from the 1^st and 99^th of the\n",
      "values in the matrix. There are outliers in the matrix whose patterns\n",
      "might be hidden by this color mapping. You can manually set the color\n",
      "to `col` argument.\n",
      "\n",
      "Use `suppressMessages()` to turn off this message.\n",
      "\n",
      "Saving 6.67 x 6.67 in image\n",
      "\n",
      "Saving 6.67 x 6.67 in image\n",
      "\n",
      "Saving 6.67 x 6.67 in image\n",
      "\n",
      "Saving 6.67 x 6.67 in image\n",
      "\n",
      "Saving 6.67 x 6.67 in image\n",
      "\n"
     ]
    },
    {
     "name": "stdout",
     "output_type": "stream",
     "text": [
      "[1] \"gally\"\n",
      "[1] \"p_val\"        \"avg_log2FC\"   \"pct.1\"        \"pct.2\"        \"p_val_adj\"   \n",
      "[6] \"p_val_adj_BH\"\n"
     ]
    },
    {
     "name": "stderr",
     "output_type": "stream",
     "text": [
      "Saving 6.67 x 6.67 in image\n",
      "\n"
     ]
    },
    {
     "name": "stdout",
     "output_type": "stream",
     "text": [
      "[1] \"X8697A\"\n",
      "[1] \"X8697A\"\n",
      "[1] \"se filt before\"\n",
      "[1] \"se filt\"\n",
      "An object of class Seurat \n",
      "189108 features across 3660 samples within 2 assays \n",
      "Active assay: RNA (19575 features, 0 variable features)\n",
      " 1 other assay present: ATAC\n",
      " 2 dimensional reductions calculated: integrated_lsi, umap\n",
      "Error in ValidateCellGroups(object = object, cells.1 = cells.1, cells.2 = cells.2,  : \n",
      "  Cell group 2 has fewer than 3 cells\n",
      "[1] \"X16327T\"\n",
      "[1] \"X16327T\"\n",
      "[1] \"se filt before\"\n",
      "[1] \"se filt\"\n",
      "An object of class Seurat \n",
      "189108 features across 3667 samples within 2 assays \n",
      "Active assay: RNA (19575 features, 0 variable features)\n",
      " 1 other assay present: ATAC\n",
      " 2 dimensional reductions calculated: integrated_lsi, umap\n",
      "Error in ValidateCellGroups(object = object, cells.1 = cells.1, cells.2 = cells.2,  : \n",
      "  Cell group 2 has fewer than 3 cells\n",
      "[1] \"X16325C\"\n",
      "[1] \"X16325C\"\n",
      "[1] \"se filt before\"\n",
      "[1] \"se filt\"\n",
      "An object of class Seurat \n",
      "189108 features across 3666 samples within 2 assays \n",
      "Active assay: RNA (19575 features, 0 variable features)\n",
      " 1 other assay present: ATAC\n",
      " 2 dimensional reductions calculated: integrated_lsi, umap\n",
      "Error in ValidateCellGroups(object = object, cells.1 = cells.1, cells.2 = cells.2,  : \n",
      "  Cell group 2 has fewer than 3 cells\n",
      "[1] \"X5496G\"\n",
      "[1] \"X5496G\"\n",
      "[1] \"se filt before\"\n",
      "[1] \"se filt\"\n",
      "An object of class Seurat \n",
      "189108 features across 3679 samples within 2 assays \n",
      "Active assay: RNA (19575 features, 0 variable features)\n",
      " 1 other assay present: ATAC\n",
      " 2 dimensional reductions calculated: integrated_lsi, umap\n",
      "[1] \"curr sig\"\n",
      "                 p_val  avg_log2FC pct.1 pct.2    p_val_adj p_val_adj_BH\n",
      "SPATA31D3 1.726735e-41 -0.19642897 0.001  0.25 3.380083e-37 2.502384e-37\n",
      "TAS2R16   9.614605e-35 -0.10711366 0.001  0.25 1.882059e-30 6.966743e-31\n",
      "FSHB      5.961925e-30 -0.10701330 0.002  0.25 1.167047e-25 2.880007e-26\n",
      "TNP1      1.496784e-23 -0.10677896 0.002  0.25 2.929954e-19 5.422847e-20\n",
      "HBA2      1.804978e-19 -0.08142149 0.003  0.25 3.533244e-15 5.231548e-16\n",
      "GLOD5     4.003596e-18 -0.17541185 0.012  0.50 7.837038e-14 9.670018e-15\n",
      "[1] \"dim response\"\n",
      "[1] 14492     6\n"
     ]
    },
    {
     "name": "stderr",
     "output_type": "stream",
     "text": [
      "Saving 6.67 x 6.67 in image\n",
      "\n",
      "Saving 6.67 x 6.67 in image\n",
      "\n",
      "Saving 6.67 x 6.67 in image\n",
      "\n",
      "Saving 6.67 x 6.67 in image\n",
      "\n",
      "Saving 6.67 x 6.67 in image\n",
      "\n"
     ]
    },
    {
     "name": "stdout",
     "output_type": "stream",
     "text": [
      "[1] \"gally\"\n",
      "[1] \"p_val\"        \"avg_log2FC\"   \"pct.1\"        \"pct.2\"        \"p_val_adj\"   \n",
      "[6] \"p_val_adj_BH\"\n"
     ]
    },
    {
     "name": "stderr",
     "output_type": "stream",
     "text": [
      "Saving 6.67 x 6.67 in image\n",
      "\n"
     ]
    },
    {
     "name": "stdout",
     "output_type": "stream",
     "text": [
      "[1] \"X4820T\"\n",
      "[1] \"X4820T\"\n",
      "[1] \"se filt before\"\n",
      "[1] \"se filt\"\n",
      "An object of class Seurat \n",
      "189108 features across 3692 samples within 2 assays \n",
      "Active assay: RNA (19575 features, 0 variable features)\n",
      " 1 other assay present: ATAC\n",
      " 2 dimensional reductions calculated: integrated_lsi, umap\n",
      "[1] \"curr sig\"\n",
      "                    p_val  avg_log2FC pct.1 pct.2    p_val_adj p_val_adj_BH\n",
      "CCDC54       1.002037e-27 -0.08752142 0.003   0.2 1.961487e-23 1.582417e-23\n",
      "PRPS1L1      2.230917e-17 -0.05588980 0.001   0.1 4.367019e-13 1.761532e-13\n",
      "TCEAL7       1.930559e-15 -0.08944195 0.005   0.2 3.779069e-11 1.016246e-11\n",
      "OR4A15       1.001168e-12 -0.05944180 0.002   0.1 1.959786e-08 2.425662e-09\n",
      "RP11-451G4.2 1.030254e-12 -0.03723609 0.002   0.1 2.016722e-08 2.425662e-09\n",
      "IFNA7        1.030254e-12 -0.04184876 0.002   0.1 2.016722e-08 2.425662e-09\n",
      "[1] \"dim response\"\n",
      "[1] 15792     6\n"
     ]
    },
    {
     "name": "stderr",
     "output_type": "stream",
     "text": [
      "The automatically generated colors map from the 1^st and 99^th of the\n",
      "values in the matrix. There are outliers in the matrix whose patterns\n",
      "might be hidden by this color mapping. You can manually set the color\n",
      "to `col` argument.\n",
      "\n",
      "Use `suppressMessages()` to turn off this message.\n",
      "\n",
      "Saving 6.67 x 6.67 in image\n",
      "\n",
      "Saving 6.67 x 6.67 in image\n",
      "\n",
      "Saving 6.67 x 6.67 in image\n",
      "\n",
      "Saving 6.67 x 6.67 in image\n",
      "\n",
      "Saving 6.67 x 6.67 in image\n",
      "\n"
     ]
    },
    {
     "name": "stdout",
     "output_type": "stream",
     "text": [
      "[1] \"gally\"\n",
      "[1] \"p_val\"        \"avg_log2FC\"   \"pct.1\"        \"pct.2\"        \"p_val_adj\"   \n",
      "[6] \"p_val_adj_BH\"\n"
     ]
    },
    {
     "name": "stderr",
     "output_type": "stream",
     "text": [
      "Saving 6.67 x 6.67 in image\n",
      "\n"
     ]
    },
    {
     "name": "stdout",
     "output_type": "stream",
     "text": [
      "[1] \"X16304C\"\n",
      "[1] \"X16304C\"\n",
      "[1] \"se filt before\"\n",
      "[1] \"se filt\"\n",
      "An object of class Seurat \n",
      "189108 features across 3680 samples within 2 assays \n",
      "Active assay: RNA (19575 features, 0 variable features)\n",
      " 1 other assay present: ATAC\n",
      " 2 dimensional reductions calculated: integrated_lsi, umap\n",
      "Error in ValidateCellGroups(object = object, cells.1 = cells.1, cells.2 = cells.2,  : \n",
      "  Cell group 2 has fewer than 3 cells\n",
      "[1] \"X709A\"\n",
      "[1] \"X709A\"\n",
      "[1] \"se filt before\"\n",
      "[1] \"se filt\"\n",
      "An object of class Seurat \n",
      "189108 features across 3682 samples within 2 assays \n",
      "Active assay: RNA (19575 features, 0 variable features)\n",
      " 1 other assay present: ATAC\n",
      " 2 dimensional reductions calculated: integrated_lsi, umap\n",
      "[1] \"curr sig\"\n",
      "               p_val avg_log2FC pct.1 pct.2    p_val_adj p_val_adj_BH\n",
      "OR4F5   1.647694e-90 -0.1426210 0.001 0.333 3.225361e-86 2.341373e-86\n",
      "GOLGA8T 1.556777e-39 -0.1439167 0.002 0.333 3.047392e-35 1.106090e-35\n",
      "RNF133  5.150900e-31 -0.1407345 0.002 0.333 1.008289e-26 2.439810e-27\n",
      "FOXD4L1 1.600138e-22 -0.2620428 0.013 0.667 3.132270e-18 5.684491e-19\n",
      "MOS     1.174786e-21 -0.2606045 0.013 0.667 2.299643e-17 3.338741e-18\n",
      "OR7E24  3.356914e-18 -0.8768745 0.004 0.333 6.571160e-14 7.950292e-15\n",
      "[1] \"dim response\"\n",
      "[1] 14210     6\n"
     ]
    },
    {
     "name": "stderr",
     "output_type": "stream",
     "text": [
      "Saving 6.67 x 6.67 in image\n",
      "\n",
      "Saving 6.67 x 6.67 in image\n",
      "\n",
      "Saving 6.67 x 6.67 in image\n",
      "\n",
      "Saving 6.67 x 6.67 in image\n",
      "\n",
      "Saving 6.67 x 6.67 in image\n",
      "\n"
     ]
    },
    {
     "name": "stdout",
     "output_type": "stream",
     "text": [
      "[1] \"gally\"\n",
      "[1] \"p_val\"        \"avg_log2FC\"   \"pct.1\"        \"pct.2\"        \"p_val_adj\"   \n",
      "[6] \"p_val_adj_BH\"\n"
     ]
    },
    {
     "name": "stderr",
     "output_type": "stream",
     "text": [
      "Saving 6.67 x 6.67 in image\n",
      "\n"
     ]
    },
    {
     "name": "stdout",
     "output_type": "stream",
     "text": [
      "[1] \"X10398G\"\n",
      "[1] \"X10398G\"\n",
      "[1] \"se filt before\"\n",
      "[1] \"se filt\"\n",
      "An object of class Seurat \n",
      "189108 features across 3683 samples within 2 assays \n",
      "Active assay: RNA (19575 features, 0 variable features)\n",
      " 1 other assay present: ATAC\n",
      " 2 dimensional reductions calculated: integrated_lsi, umap\n",
      "Error in ValidateCellGroups(object = object, cells.1 = cells.1, cells.2 = cells.2,  : \n",
      "  Cell group 2 has fewer than 3 cells\n",
      "[1] \"X15122G\"\n",
      "[1] \"X15122G\"\n",
      "[1] \"se filt before\"\n",
      "[1] \"se filt\"\n",
      "An object of class Seurat \n",
      "189108 features across 3688 samples within 2 assays \n",
      "Active assay: RNA (19575 features, 0 variable features)\n",
      " 1 other assay present: ATAC\n",
      " 2 dimensional reductions calculated: integrated_lsi, umap\n",
      "[1] \"curr sig\"\n",
      "                   p_val  avg_log2FC pct.1 pct.2    p_val_adj p_val_adj_BH\n",
      "SRY         1.809762e-26 -0.10211297 0.002  0.25 3.542610e-22 2.656731e-22\n",
      "HBA2        2.341124e-21 -0.08191063 0.002  0.25 4.582749e-17 1.718385e-17\n",
      "TRIM77      5.371858e-18 -0.10127934 0.003  0.25 1.051541e-13 2.055430e-14\n",
      "TKTL2       5.600626e-18 -0.08148720 0.003  0.25 1.096323e-13 2.055430e-14\n",
      "RP11-90L9.8 1.468177e-15 -0.09995759 0.004  0.25 2.873957e-11 4.310568e-12\n",
      "C2CD4D      3.772386e-15 -0.26046524 0.015  0.50 7.384447e-11 9.229772e-12\n",
      "[1] \"dim response\"\n",
      "[1] 14680     6\n"
     ]
    },
    {
     "name": "stderr",
     "output_type": "stream",
     "text": [
      "Saving 6.67 x 6.67 in image\n",
      "\n",
      "Saving 6.67 x 6.67 in image\n",
      "\n",
      "Saving 6.67 x 6.67 in image\n",
      "\n",
      "Saving 6.67 x 6.67 in image\n",
      "\n",
      "Saving 6.67 x 6.67 in image\n",
      "\n"
     ]
    },
    {
     "name": "stdout",
     "output_type": "stream",
     "text": [
      "[1] \"gally\"\n",
      "[1] \"p_val\"        \"avg_log2FC\"   \"pct.1\"        \"pct.2\"        \"p_val_adj\"   \n",
      "[6] \"p_val_adj_BH\"\n"
     ]
    },
    {
     "name": "stderr",
     "output_type": "stream",
     "text": [
      "Saving 6.67 x 6.67 in image\n",
      "\n"
     ]
    },
    {
     "name": "stdout",
     "output_type": "stream",
     "text": [
      "[1] \"X6043A\"\n",
      "[1] \"X6043A\"\n",
      "[1] \"se filt before\"\n",
      "[1] \"se filt\"\n",
      "An object of class Seurat \n",
      "189108 features across 3704 samples within 2 assays \n",
      "Active assay: RNA (19575 features, 0 variable features)\n",
      " 1 other assay present: ATAC\n",
      " 2 dimensional reductions calculated: integrated_lsi, umap\n",
      "[1] \"curr sig\"\n",
      "               p_val avg_log2FC pct.1 pct.2    p_val_adj p_val_adj_BH\n",
      "FOXA1   8.317375e-23 -0.3440793 0.060 0.818 1.628126e-18 1.222987e-18\n",
      "GNG11   2.508170e-20 -0.2300625 0.022 0.455 4.909742e-16 1.844006e-16\n",
      "NKX3-1  1.228068e-19 -0.4581170 0.034 0.545 2.403943e-15 6.019171e-16\n",
      "CLEC14A 1.292150e-18 -0.2321098 0.034 0.545 2.529383e-14 4.749943e-15\n",
      "ZNF732  5.577922e-17 -0.3146106 0.050 0.636 1.091878e-12 1.640355e-13\n",
      "KCNA5   7.198290e-17 -0.1309998 0.010 0.273 1.409065e-12 1.764061e-13\n",
      "[1] \"dim response\"\n",
      "[1] 14704     6\n"
     ]
    },
    {
     "name": "stderr",
     "output_type": "stream",
     "text": [
      "The automatically generated colors map from the 1^st and 99^th of the\n",
      "values in the matrix. There are outliers in the matrix whose patterns\n",
      "might be hidden by this color mapping. You can manually set the color\n",
      "to `col` argument.\n",
      "\n",
      "Use `suppressMessages()` to turn off this message.\n",
      "\n",
      "Saving 6.67 x 6.67 in image\n",
      "\n",
      "Saving 6.67 x 6.67 in image\n",
      "\n",
      "Saving 6.67 x 6.67 in image\n",
      "\n",
      "Saving 6.67 x 6.67 in image\n",
      "\n",
      "Saving 6.67 x 6.67 in image\n",
      "\n"
     ]
    },
    {
     "name": "stdout",
     "output_type": "stream",
     "text": [
      "[1] \"gally\"\n",
      "[1] \"p_val\"        \"avg_log2FC\"   \"pct.1\"        \"pct.2\"        \"p_val_adj\"   \n",
      "[6] \"p_val_adj_BH\"\n"
     ]
    },
    {
     "name": "stderr",
     "output_type": "stream",
     "text": [
      "Saving 6.67 x 6.67 in image\n",
      "\n"
     ]
    },
    {
     "name": "stdout",
     "output_type": "stream",
     "text": [
      "[1] \"X5585T\"\n",
      "[1] \"X5585T\"\n",
      "[1] \"se filt before\"\n",
      "[1] \"se filt\"\n",
      "An object of class Seurat \n",
      "189108 features across 3729 samples within 2 assays \n",
      "Active assay: RNA (19575 features, 0 variable features)\n",
      " 1 other assay present: ATAC\n",
      " 2 dimensional reductions calculated: integrated_lsi, umap\n",
      "[1] \"curr sig\"\n",
      "             p_val avg_log2FC pct.1 pct.2    p_val_adj p_val_adj_BH\n",
      "HDHD3 8.062198e-28 -0.3181952 0.049 0.591 1.578175e-23 1.208846e-23\n",
      "GP5   9.855849e-22 -0.2756646 0.046 0.500 1.929282e-17 7.388930e-18\n",
      "LDOC1 1.248977e-20 -0.1131073 0.020 0.318 2.444872e-16 6.242387e-17\n",
      "RHOV  1.384350e-19 -0.1840538 0.035 0.409 2.709865e-15 5.189236e-16\n",
      "TIGD3 9.829689e-19 -0.3010251 0.110 0.773 1.924162e-14 2.947727e-15\n",
      "FOXD4 2.298363e-18 -0.1544544 0.023 0.318 4.499046e-14 5.743610e-15\n",
      "[1] \"dim response\"\n",
      "[1] 14994     6\n"
     ]
    },
    {
     "name": "stderr",
     "output_type": "stream",
     "text": [
      "The automatically generated colors map from the 1^st and 99^th of the\n",
      "values in the matrix. There are outliers in the matrix whose patterns\n",
      "might be hidden by this color mapping. You can manually set the color\n",
      "to `col` argument.\n",
      "\n",
      "Use `suppressMessages()` to turn off this message.\n",
      "\n",
      "Saving 6.67 x 6.67 in image\n",
      "\n",
      "Saving 6.67 x 6.67 in image\n",
      "\n",
      "Saving 6.67 x 6.67 in image\n",
      "\n",
      "Saving 6.67 x 6.67 in image\n",
      "\n",
      "Saving 6.67 x 6.67 in image\n",
      "\n"
     ]
    },
    {
     "name": "stdout",
     "output_type": "stream",
     "text": [
      "[1] \"gally\"\n",
      "[1] \"p_val\"        \"avg_log2FC\"   \"pct.1\"        \"pct.2\"        \"p_val_adj\"   \n",
      "[6] \"p_val_adj_BH\"\n"
     ]
    },
    {
     "name": "stderr",
     "output_type": "stream",
     "text": [
      "Saving 6.67 x 6.67 in image\n",
      "\n"
     ]
    },
    {
     "name": "stdout",
     "output_type": "stream",
     "text": [
      "[1] \"X16051G\"\n",
      "[1] \"X16051G\"\n",
      "[1] \"se filt before\"\n",
      "[1] \"se filt\"\n",
      "An object of class Seurat \n",
      "189108 features across 3687 samples within 2 assays \n",
      "Active assay: RNA (19575 features, 0 variable features)\n",
      " 1 other assay present: ATAC\n",
      " 2 dimensional reductions calculated: integrated_lsi, umap\n",
      "[1] \"curr sig\"\n",
      "                      p_val avg_log2FC pct.1 pct.2     p_val_adj  p_val_adj_BH\n",
      "RP11-437G21.2 3.197921e-135 -0.1236568 0.000 0.333 6.259930e-131 4.560875e-131\n",
      "IL3            1.895900e-27 -0.2152942 0.010 0.667  3.711223e-23  1.351966e-23\n",
      "HBA2           1.285462e-25 -0.1091956 0.003 0.333  2.516291e-21  6.111085e-22\n",
      "TKTL2          7.579706e-22 -0.1090787 0.003 0.333  1.483727e-17  2.702544e-18\n",
      "C2CD4D         1.750441e-20 -0.2120117 0.014 0.667  3.426487e-16  4.992957e-17\n",
      "TRIM49B        4.458321e-19 -0.1182296 0.004 0.333  8.727163e-15  1.059743e-15\n",
      "[1] \"dim response\"\n",
      "[1] 14262     6\n"
     ]
    },
    {
     "name": "stderr",
     "output_type": "stream",
     "text": [
      "The automatically generated colors map from the 1^st and 99^th of the\n",
      "values in the matrix. There are outliers in the matrix whose patterns\n",
      "might be hidden by this color mapping. You can manually set the color\n",
      "to `col` argument.\n",
      "\n",
      "Use `suppressMessages()` to turn off this message.\n",
      "\n",
      "Saving 6.67 x 6.67 in image\n",
      "\n",
      "Saving 6.67 x 6.67 in image\n",
      "\n",
      "Saving 6.67 x 6.67 in image\n",
      "\n",
      "Saving 6.67 x 6.67 in image\n",
      "\n",
      "Saving 6.67 x 6.67 in image\n",
      "\n"
     ]
    },
    {
     "name": "stdout",
     "output_type": "stream",
     "text": [
      "[1] \"gally\"\n",
      "[1] \"p_val\"        \"avg_log2FC\"   \"pct.1\"        \"pct.2\"        \"p_val_adj\"   \n",
      "[6] \"p_val_adj_BH\"\n"
     ]
    },
    {
     "name": "stderr",
     "output_type": "stream",
     "text": [
      "Saving 6.67 x 6.67 in image\n",
      "\n"
     ]
    },
    {
     "name": "stdout",
     "output_type": "stream",
     "text": [
      "[1] \"X15487T\"\n",
      "[1] \"X15487T\"\n",
      "[1] \"se filt before\"\n",
      "[1] \"se filt\"\n",
      "An object of class Seurat \n",
      "189108 features across 3694 samples within 2 assays \n",
      "Active assay: RNA (19575 features, 0 variable features)\n",
      " 1 other assay present: ATAC\n",
      " 2 dimensional reductions calculated: integrated_lsi, umap\n",
      "Error in ValidateCellGroups(object = object, cells.1 = cells.1, cells.2 = cells.2,  : \n",
      "  Cell group 2 has fewer than 3 cells\n",
      "[1] \"X10463C\"\n",
      "[1] \"X10463C\"\n",
      "[1] \"se filt before\"\n",
      "[1] \"se filt\"\n",
      "An object of class Seurat \n",
      "189108 features across 3713 samples within 2 assays \n",
      "Active assay: RNA (19575 features, 0 variable features)\n",
      " 1 other assay present: ATAC\n",
      " 2 dimensional reductions calculated: integrated_lsi, umap\n",
      "[1] \"curr sig\"\n",
      "                p_val  avg_log2FC pct.1 pct.2    p_val_adj p_val_adj_BH\n",
      "KRTAP4-3 4.713202e-35 -0.10375540 0.001  0.25 9.226092e-31 7.124947e-31\n",
      "LCE2B    7.437175e-24 -0.18681691 0.002  0.25 1.455827e-19 5.621389e-20\n",
      "OR51B6   1.623732e-21 -0.09446510 0.002  0.25 3.178456e-17 8.181987e-18\n",
      "C11orf86 5.824493e-20 -0.18201536 0.011  0.50 1.140144e-15 2.201221e-16\n",
      "OR7C2    1.114717e-19 -0.10203913 0.003  0.25 2.182058e-15 3.076150e-16\n",
      "OR1J4    1.220937e-19 -0.09118341 0.003  0.25 2.389984e-15 3.076150e-16\n",
      "[1] \"dim response\"\n",
      "[1] 15117     6\n"
     ]
    },
    {
     "name": "stderr",
     "output_type": "stream",
     "text": [
      "Saving 6.67 x 6.67 in image\n",
      "\n",
      "Saving 6.67 x 6.67 in image\n",
      "\n",
      "Saving 6.67 x 6.67 in image\n",
      "\n",
      "Saving 6.67 x 6.67 in image\n",
      "\n",
      "Saving 6.67 x 6.67 in image\n",
      "\n"
     ]
    },
    {
     "name": "stdout",
     "output_type": "stream",
     "text": [
      "[1] \"gally\"\n",
      "[1] \"p_val\"        \"avg_log2FC\"   \"pct.1\"        \"pct.2\"        \"p_val_adj\"   \n",
      "[6] \"p_val_adj_BH\"\n"
     ]
    },
    {
     "name": "stderr",
     "output_type": "stream",
     "text": [
      "Saving 6.67 x 6.67 in image\n",
      "\n"
     ]
    },
    {
     "name": "stdout",
     "output_type": "stream",
     "text": [
      "[1] \"X16294T\"\n",
      "[1] \"X16294T\"\n",
      "[1] \"se filt before\"\n",
      "[1] \"se filt\"\n",
      "An object of class Seurat \n",
      "189108 features across 3707 samples within 2 assays \n",
      "Active assay: RNA (19575 features, 0 variable features)\n",
      " 1 other assay present: ATAC\n",
      " 2 dimensional reductions calculated: integrated_lsi, umap\n",
      "Error in ValidateCellGroups(object = object, cells.1 = cells.1, cells.2 = cells.2,  : \n",
      "  Cell group 2 has fewer than 3 cells\n",
      "[1] \"X9899C\"\n",
      "[1] \"X9899C\"\n",
      "[1] \"se filt before\"\n",
      "[1] \"se filt\"\n",
      "An object of class Seurat \n",
      "189108 features across 3705 samples within 2 assays \n",
      "Active assay: RNA (19575 features, 0 variable features)\n",
      " 1 other assay present: ATAC\n",
      " 2 dimensional reductions calculated: integrated_lsi, umap\n",
      "Error in ValidateCellGroups(object = object, cells.1 = cells.1, cells.2 = cells.2,  : \n",
      "  Cell group 2 has fewer than 3 cells\n",
      "[1] \"X16296T\"\n",
      "[1] \"X16296T\"\n",
      "[1] \"se filt before\"\n",
      "[1] \"se filt\"\n",
      "An object of class Seurat \n",
      "189108 features across 3711 samples within 2 assays \n",
      "Active assay: RNA (19575 features, 0 variable features)\n",
      " 1 other assay present: ATAC\n",
      " 2 dimensional reductions calculated: integrated_lsi, umap\n",
      "Error in ValidateCellGroups(object = object, cells.1 = cells.1, cells.2 = cells.2,  : \n",
      "  Cell group 2 has fewer than 3 cells\n",
      "[1] \"X15924G\"\n",
      "[1] \"X15924G\"\n",
      "[1] \"se filt before\"\n",
      "[1] \"se filt\"\n",
      "An object of class Seurat \n",
      "189108 features across 3721 samples within 2 assays \n",
      "Active assay: RNA (19575 features, 0 variable features)\n",
      " 1 other assay present: ATAC\n",
      " 2 dimensional reductions calculated: integrated_lsi, umap\n",
      "[1] \"curr sig\"\n",
      "                 p_val  avg_log2FC pct.1 pct.2    p_val_adj p_val_adj_BH\n",
      "TCEAL2    7.152643e-31 -0.14511222 0.004 0.333 1.400130e-26 1.094641e-26\n",
      "FRG2      2.263788e-28 -0.08819544 0.001 0.167 4.431365e-24 1.732251e-24\n",
      "TAS2R16   7.746521e-24 -0.07169272 0.001 0.167 1.516382e-19 3.951759e-20\n",
      "GOLGA8H   1.449906e-21 -0.14907662 0.006 0.333 2.838191e-17 5.547339e-18\n",
      "FSHB      1.358278e-20 -0.07159344 0.002 0.167 2.658829e-16 3.464514e-17\n",
      "KRTAP12-4 1.358278e-20 -0.06546661 0.002 0.167 2.658829e-16 3.464514e-17\n",
      "[1] \"dim response\"\n",
      "[1] 15304     6\n"
     ]
    },
    {
     "name": "stderr",
     "output_type": "stream",
     "text": [
      "Saving 6.67 x 6.67 in image\n",
      "\n",
      "Saving 6.67 x 6.67 in image\n",
      "\n",
      "Saving 6.67 x 6.67 in image\n",
      "\n",
      "Saving 6.67 x 6.67 in image\n",
      "\n",
      "Saving 6.67 x 6.67 in image\n",
      "\n"
     ]
    },
    {
     "name": "stdout",
     "output_type": "stream",
     "text": [
      "[1] \"gally\"\n",
      "[1] \"p_val\"        \"avg_log2FC\"   \"pct.1\"        \"pct.2\"        \"p_val_adj\"   \n",
      "[6] \"p_val_adj_BH\"\n"
     ]
    },
    {
     "name": "stderr",
     "output_type": "stream",
     "text": [
      "Saving 6.67 x 6.67 in image\n",
      "\n"
     ]
    },
    {
     "name": "stdout",
     "output_type": "stream",
     "text": [
      "[1] \"X11251G\"\n",
      "[1] \"X11251G\"\n",
      "[1] \"se filt before\"\n",
      "[1] \"se filt\"\n",
      "An object of class Seurat \n",
      "189108 features across 3713 samples within 2 assays \n",
      "Active assay: RNA (19575 features, 0 variable features)\n",
      " 1 other assay present: ATAC\n",
      " 2 dimensional reductions calculated: integrated_lsi, umap\n",
      "[1] \"curr sig\"\n",
      "                 p_val avg_log2FC pct.1 pct.2    p_val_adj p_val_adj_BH\n",
      "GOLGA8T   7.410720e-40 -0.1439377 0.002 0.333 1.450648e-35 1.052619e-35\n",
      "KRTAP23-1 4.616687e-35 -0.1677844 0.002 0.333 9.037166e-31 3.278771e-31\n",
      "TAS2R31   1.207091e-20 -0.2888276 0.004 0.333 2.362881e-16 5.715176e-17\n",
      "ENPP5     1.386381e-18 -0.4979485 0.035 1.000 2.713841e-14 4.923040e-15\n",
      "C8orf48   1.785175e-18 -0.4120565 0.016 0.667 3.494479e-14 5.071324e-15\n",
      "OR6M1     3.837397e-18 -0.2867434 0.004 0.333 7.511705e-14 9.084398e-15\n",
      "[1] \"dim response\"\n",
      "[1] 14204     6\n"
     ]
    },
    {
     "name": "stderr",
     "output_type": "stream",
     "text": [
      "The automatically generated colors map from the 1^st and 99^th of the\n",
      "values in the matrix. There are outliers in the matrix whose patterns\n",
      "might be hidden by this color mapping. You can manually set the color\n",
      "to `col` argument.\n",
      "\n",
      "Use `suppressMessages()` to turn off this message.\n",
      "\n",
      "Saving 6.67 x 6.67 in image\n",
      "\n",
      "Saving 6.67 x 6.67 in image\n",
      "\n",
      "Saving 6.67 x 6.67 in image\n",
      "\n",
      "Saving 6.67 x 6.67 in image\n",
      "\n",
      "Saving 6.67 x 6.67 in image\n",
      "\n"
     ]
    },
    {
     "name": "stdout",
     "output_type": "stream",
     "text": [
      "[1] \"gally\"\n",
      "[1] \"p_val\"        \"avg_log2FC\"   \"pct.1\"        \"pct.2\"        \"p_val_adj\"   \n",
      "[6] \"p_val_adj_BH\"\n"
     ]
    },
    {
     "name": "stderr",
     "output_type": "stream",
     "text": [
      "Saving 6.67 x 6.67 in image\n",
      "\n"
     ]
    },
    {
     "name": "stdout",
     "output_type": "stream",
     "text": [
      "[1] \"X16223T\"\n",
      "[1] \"X16223T\"\n",
      "[1] \"se filt before\"\n",
      "[1] \"se filt\"\n",
      "An object of class Seurat \n",
      "189108 features across 3712 samples within 2 assays \n",
      "Active assay: RNA (19575 features, 0 variable features)\n",
      " 1 other assay present: ATAC\n",
      " 2 dimensional reductions calculated: integrated_lsi, umap\n",
      "Error in ValidateCellGroups(object = object, cells.1 = cells.1, cells.2 = cells.2,  : \n",
      "  Cell group 2 has fewer than 3 cells\n",
      "[1] \"X16298C\"\n",
      "[1] \"X16298C\"\n",
      "[1] \"se filt before\"\n",
      "[1] \"se filt\"\n",
      "An object of class Seurat \n",
      "189108 features across 3711 samples within 2 assays \n",
      "Active assay: RNA (19575 features, 0 variable features)\n",
      " 1 other assay present: ATAC\n",
      " 2 dimensional reductions calculated: integrated_lsi, umap\n",
      "Error in ValidateCellGroups(object = object, cells.1 = cells.1, cells.2 = cells.2,  : \n",
      "  Cell group 2 has fewer than 3 cells\n",
      "[1] \"X13068G\"\n",
      "[1] \"X13068G\"\n",
      "[1] \"se filt before\"\n",
      "[1] \"se filt\"\n",
      "An object of class Seurat \n",
      "189108 features across 3807 samples within 2 assays \n",
      "Active assay: RNA (19575 features, 0 variable features)\n",
      " 1 other assay present: ATAC\n",
      " 2 dimensional reductions calculated: integrated_lsi, umap\n",
      "[1] \"curr sig\"\n",
      "              p_val  avg_log2FC pct.1 pct.2    p_val_adj p_val_adj_BH\n",
      "SYT15  1.376115e-32 -0.05512328 0.004 0.146 2.693745e-28 2.085089e-28\n",
      "OXT    1.969087e-22 -0.13054572 0.023 0.268 3.854488e-18 1.491780e-18\n",
      "NKX3-1 4.521431e-21 -0.19209409 0.034 0.317 8.850700e-17 2.283624e-17\n",
      "CLDN15 7.540480e-21 -0.42879429 0.062 0.439 1.476049e-16 2.856334e-17\n",
      "DUS4L  1.800367e-20 -0.24248515 0.067 0.463 3.524218e-16 4.425427e-17\n",
      "SH2D2A 2.017102e-20 -0.18748673 0.098 0.585 3.948477e-16 4.425427e-17\n",
      "[1] \"dim response\"\n",
      "[1] 15152     6\n"
     ]
    },
    {
     "name": "stderr",
     "output_type": "stream",
     "text": [
      "The automatically generated colors map from the 1^st and 99^th of the\n",
      "values in the matrix. There are outliers in the matrix whose patterns\n",
      "might be hidden by this color mapping. You can manually set the color\n",
      "to `col` argument.\n",
      "\n",
      "Use `suppressMessages()` to turn off this message.\n",
      "\n",
      "Saving 6.67 x 6.67 in image\n",
      "\n",
      "Saving 6.67 x 6.67 in image\n",
      "\n",
      "Saving 6.67 x 6.67 in image\n",
      "\n",
      "Saving 6.67 x 6.67 in image\n",
      "\n",
      "Saving 6.67 x 6.67 in image\n",
      "\n"
     ]
    },
    {
     "name": "stdout",
     "output_type": "stream",
     "text": [
      "[1] \"gally\"\n",
      "[1] \"p_val\"        \"avg_log2FC\"   \"pct.1\"        \"pct.2\"        \"p_val_adj\"   \n",
      "[6] \"p_val_adj_BH\"\n"
     ]
    },
    {
     "name": "stderr",
     "output_type": "stream",
     "text": [
      "Saving 6.67 x 6.67 in image\n",
      "\n"
     ]
    },
    {
     "name": "stdout",
     "output_type": "stream",
     "text": [
      "[1] \"X3655A\"\n",
      "[1] \"X3655A\"\n",
      "[1] \"se filt before\"\n",
      "[1] \"se filt\"\n",
      "An object of class Seurat \n",
      "189108 features across 3735 samples within 2 assays \n",
      "Active assay: RNA (19575 features, 0 variable features)\n",
      " 1 other assay present: ATAC\n",
      " 2 dimensional reductions calculated: integrated_lsi, umap\n",
      "[1] \"curr sig\"\n",
      "               p_val  avg_log2FC pct.1 pct.2    p_val_adj p_val_adj_BH\n",
      "DEFB130 2.567982e-35 -0.05959099 0.001 0.125 5.026824e-31 3.914118e-31\n",
      "TCEAL2  3.025225e-22 -0.12652014 0.005 0.250 5.921879e-18 2.305524e-18\n",
      "FRG2    1.154892e-21 -0.06630554 0.001 0.125 2.260700e-17 5.867619e-18\n",
      "LCE2C   3.072190e-18 -0.06608614 0.001 0.125 6.013811e-14 1.170658e-14\n",
      "VPS37D  3.358465e-14 -0.44714012 0.045 0.625 6.574195e-10 8.868631e-11\n",
      "ID4     3.491129e-14 -0.19857496 0.017 0.375 6.833885e-10 8.868631e-11\n",
      "[1] \"dim response\"\n",
      "[1] 15242     6\n"
     ]
    },
    {
     "name": "stderr",
     "output_type": "stream",
     "text": [
      "The automatically generated colors map from the 1^st and 99^th of the\n",
      "values in the matrix. There are outliers in the matrix whose patterns\n",
      "might be hidden by this color mapping. You can manually set the color\n",
      "to `col` argument.\n",
      "\n",
      "Use `suppressMessages()` to turn off this message.\n",
      "\n",
      "Saving 6.67 x 6.67 in image\n",
      "\n",
      "Saving 6.67 x 6.67 in image\n",
      "\n",
      "Saving 6.67 x 6.67 in image\n",
      "\n",
      "Saving 6.67 x 6.67 in image\n",
      "\n",
      "Saving 6.67 x 6.67 in image\n",
      "\n"
     ]
    },
    {
     "name": "stdout",
     "output_type": "stream",
     "text": [
      "[1] \"gally\"\n",
      "[1] \"p_val\"        \"avg_log2FC\"   \"pct.1\"        \"pct.2\"        \"p_val_adj\"   \n",
      "[6] \"p_val_adj_BH\"\n"
     ]
    },
    {
     "name": "stderr",
     "output_type": "stream",
     "text": [
      "Saving 6.67 x 6.67 in image\n",
      "\n"
     ]
    },
    {
     "name": "stdout",
     "output_type": "stream",
     "text": [
      "[1] \"X15928A\"\n",
      "[1] \"X15928A\"\n",
      "[1] \"se filt before\"\n",
      "[1] \"se filt\"\n",
      "An object of class Seurat \n",
      "189108 features across 3726 samples within 2 assays \n",
      "Active assay: RNA (19575 features, 0 variable features)\n",
      " 1 other assay present: ATAC\n",
      " 2 dimensional reductions calculated: integrated_lsi, umap\n",
      "Error in ValidateCellGroups(object = object, cells.1 = cells.1, cells.2 = cells.2,  : \n",
      "  Cell group 2 has fewer than 3 cells\n",
      "[1] \"X4806A\"\n",
      "[1] \"X4806A\"\n",
      "[1] \"se filt before\"\n",
      "[1] \"se filt\"\n",
      "An object of class Seurat \n",
      "189108 features across 3750 samples within 2 assays \n",
      "Active assay: RNA (19575 features, 0 variable features)\n",
      " 1 other assay present: ATAC\n",
      " 2 dimensional reductions calculated: integrated_lsi, umap\n",
      "[1] \"curr sig\"\n",
      "                p_val  avg_log2FC pct.1 pct.2    p_val_adj p_val_adj_BH\n",
      "DRD5     8.510799e-21 -0.09868431 0.007 0.250 1.665989e-16 1.276109e-16\n",
      "TMEM229A 4.871127e-19 -0.16260534 0.014 0.333 9.535232e-15 3.651884e-15\n",
      "DLX5     4.203083e-17 -0.19971341 0.034 0.500 8.227535e-13 2.100701e-13\n",
      "WNT10A   1.530401e-15 -0.66901040 0.124 0.917 2.995759e-11 5.736707e-12\n",
      "PPP1R26  5.013502e-15 -0.19016002 0.039 0.500 9.813930e-11 1.276523e-11\n",
      "GFY      5.108133e-15 -0.18951085 0.039 0.500 9.999171e-11 1.276523e-11\n",
      "[1] \"dim response\"\n",
      "[1] 14994     6\n"
     ]
    },
    {
     "name": "stderr",
     "output_type": "stream",
     "text": [
      "The automatically generated colors map from the 1^st and 99^th of the\n",
      "values in the matrix. There are outliers in the matrix whose patterns\n",
      "might be hidden by this color mapping. You can manually set the color\n",
      "to `col` argument.\n",
      "\n",
      "Use `suppressMessages()` to turn off this message.\n",
      "\n",
      "Saving 6.67 x 6.67 in image\n",
      "\n",
      "Saving 6.67 x 6.67 in image\n",
      "\n",
      "Saving 6.67 x 6.67 in image\n",
      "\n",
      "Saving 6.67 x 6.67 in image\n",
      "\n",
      "Saving 6.67 x 6.67 in image\n",
      "\n"
     ]
    },
    {
     "name": "stdout",
     "output_type": "stream",
     "text": [
      "[1] \"gally\"\n",
      "[1] \"p_val\"        \"avg_log2FC\"   \"pct.1\"        \"pct.2\"        \"p_val_adj\"   \n",
      "[6] \"p_val_adj_BH\"\n"
     ]
    },
    {
     "name": "stderr",
     "output_type": "stream",
     "text": [
      "Saving 6.67 x 6.67 in image\n",
      "\n"
     ]
    },
    {
     "name": "stdout",
     "output_type": "stream",
     "text": [
      "[1] \"X1847A\"\n",
      "[1] \"X1847A\"\n",
      "[1] \"se filt before\"\n",
      "[1] \"se filt\"\n",
      "An object of class Seurat \n",
      "189108 features across 3755 samples within 2 assays \n",
      "Active assay: RNA (19575 features, 0 variable features)\n",
      " 1 other assay present: ATAC\n",
      " 2 dimensional reductions calculated: integrated_lsi, umap\n",
      "[1] \"curr sig\"\n",
      "              p_val  avg_log2FC pct.1 pct.2    p_val_adj p_val_adj_BH\n",
      "OR52E8 3.526443e-32 -0.05721396 0.001 0.133 6.903011e-28 5.416616e-28\n",
      "TKTL2  4.613384e-19 -0.04623504 0.003 0.133 9.030698e-15 2.362052e-15\n",
      "HBA2   4.613384e-19 -0.04373339 0.003 0.133 9.030698e-15 2.362052e-15\n",
      "FOXA1  5.983931e-17 -0.28240463 0.059 0.600 1.171354e-12 2.297829e-13\n",
      "TRIL   2.351867e-16 -0.26458236 0.049 0.533 4.603780e-12 7.224936e-13\n",
      "CXCL3  3.905154e-15 -0.22814396 0.041 0.467 7.644338e-11 9.997193e-12\n",
      "[1] \"dim response\"\n",
      "[1] 15360     6\n"
     ]
    },
    {
     "name": "stderr",
     "output_type": "stream",
     "text": [
      "The automatically generated colors map from the 1^st and 99^th of the\n",
      "values in the matrix. There are outliers in the matrix whose patterns\n",
      "might be hidden by this color mapping. You can manually set the color\n",
      "to `col` argument.\n",
      "\n",
      "Use `suppressMessages()` to turn off this message.\n",
      "\n",
      "Saving 6.67 x 6.67 in image\n",
      "\n",
      "Saving 6.67 x 6.67 in image\n",
      "\n",
      "Saving 6.67 x 6.67 in image\n",
      "\n",
      "Saving 6.67 x 6.67 in image\n",
      "\n",
      "Saving 6.67 x 6.67 in image\n",
      "\n"
     ]
    },
    {
     "name": "stdout",
     "output_type": "stream",
     "text": [
      "[1] \"gally\"\n",
      "[1] \"p_val\"        \"avg_log2FC\"   \"pct.1\"        \"pct.2\"        \"p_val_adj\"   \n",
      "[6] \"p_val_adj_BH\"\n"
     ]
    },
    {
     "name": "stderr",
     "output_type": "stream",
     "text": [
      "Saving 6.67 x 6.67 in image\n",
      "\n"
     ]
    },
    {
     "name": "stdout",
     "output_type": "stream",
     "text": [
      "[1] \"X11382A\"\n",
      "[1] \"X11382A\"\n",
      "[1] \"se filt before\"\n",
      "[1] \"se filt\"\n",
      "An object of class Seurat \n",
      "189108 features across 3770 samples within 2 assays \n",
      "Active assay: RNA (19575 features, 0 variable features)\n",
      " 1 other assay present: ATAC\n",
      " 2 dimensional reductions calculated: integrated_lsi, umap\n",
      "[1] \"curr sig\"\n",
      "                p_val avg_log2FC pct.1 pct.2    p_val_adj p_val_adj_BH\n",
      "TCEAL2   4.822170e-33 -0.1265025 0.004  0.20 9.439397e-29 7.612759e-29\n",
      "BEX2     3.969539e-25 -0.1371943 0.024  0.40 7.770373e-21 3.133356e-21\n",
      "ASPDH    4.297661e-21 -0.1205580 0.022  0.35 8.412671e-17 2.261572e-17\n",
      "KIAA1683 2.484309e-19 -0.4783180 0.078  0.65 4.863035e-15 9.804947e-16\n",
      "C11orf45 6.349088e-18 -0.2193411 0.050  0.50 1.242834e-13 2.004661e-14\n",
      "LRRC15   1.602303e-16 -0.1663555 0.036  0.40 3.136508e-12 4.215926e-13\n",
      "[1] \"dim response\"\n",
      "[1] 15787     6\n"
     ]
    },
    {
     "name": "stderr",
     "output_type": "stream",
     "text": [
      "The automatically generated colors map from the 1^st and 99^th of the\n",
      "values in the matrix. There are outliers in the matrix whose patterns\n",
      "might be hidden by this color mapping. You can manually set the color\n",
      "to `col` argument.\n",
      "\n",
      "Use `suppressMessages()` to turn off this message.\n",
      "\n",
      "Saving 6.67 x 6.67 in image\n",
      "\n",
      "Saving 6.67 x 6.67 in image\n",
      "\n",
      "Saving 6.67 x 6.67 in image\n",
      "\n",
      "Saving 6.67 x 6.67 in image\n",
      "\n",
      "Saving 6.67 x 6.67 in image\n",
      "\n"
     ]
    },
    {
     "name": "stdout",
     "output_type": "stream",
     "text": [
      "[1] \"gally\"\n",
      "[1] \"p_val\"        \"avg_log2FC\"   \"pct.1\"        \"pct.2\"        \"p_val_adj\"   \n",
      "[6] \"p_val_adj_BH\"\n"
     ]
    },
    {
     "name": "stderr",
     "output_type": "stream",
     "text": [
      "Saving 6.67 x 6.67 in image\n",
      "\n"
     ]
    },
    {
     "name": "stdout",
     "output_type": "stream",
     "text": [
      "[1] \"X195C\"\n",
      "[1] \"X195C\"\n",
      "[1] \"se filt before\"\n",
      "[1] \"se filt\"\n",
      "An object of class Seurat \n",
      "189108 features across 3731 samples within 2 assays \n",
      "Active assay: RNA (19575 features, 0 variable features)\n",
      " 1 other assay present: ATAC\n",
      " 2 dimensional reductions calculated: integrated_lsi, umap\n",
      "Error in ValidateCellGroups(object = object, cells.1 = cells.1, cells.2 = cells.2,  : \n",
      "  Cell group 2 has fewer than 3 cells\n",
      "[1] \"X7849T\"\n",
      "[1] \"X7849T\"\n",
      "[1] \"se filt before\"\n",
      "[1] \"se filt\"\n",
      "An object of class Seurat \n",
      "189108 features across 3762 samples within 2 assays \n",
      "Active assay: RNA (19575 features, 0 variable features)\n",
      " 1 other assay present: ATAC\n",
      " 2 dimensional reductions calculated: integrated_lsi, umap\n",
      "[1] \"curr sig\"\n",
      "               p_val avg_log2FC pct.1 pct.2    p_val_adj p_val_adj_BH\n",
      "PRKACG  1.688203e-19 -0.1475657 0.026 0.429 3.304657e-15 2.561173e-15\n",
      "FAM127C 2.945296e-18 -0.1638337 0.019 0.357 5.765417e-14 2.234154e-14\n",
      "MAGEE1  5.450078e-17 -0.1590319 0.029 0.429 1.066853e-12 2.756105e-13\n",
      "GRASP   1.796450e-16 -0.3931051 0.093 0.786 3.516552e-12 5.540532e-13\n",
      "MIXL1   1.826027e-16 -0.1740795 0.022 0.357 3.574448e-12 5.540532e-13\n",
      "BEX5    3.691310e-16 -0.1425580 0.022 0.357 7.225740e-12 9.333478e-13\n",
      "[1] \"dim response\"\n",
      "[1] 15171     6\n"
     ]
    },
    {
     "name": "stderr",
     "output_type": "stream",
     "text": [
      "The automatically generated colors map from the 1^st and 99^th of the\n",
      "values in the matrix. There are outliers in the matrix whose patterns\n",
      "might be hidden by this color mapping. You can manually set the color\n",
      "to `col` argument.\n",
      "\n",
      "Use `suppressMessages()` to turn off this message.\n",
      "\n",
      "Saving 6.67 x 6.67 in image\n",
      "\n",
      "Saving 6.67 x 6.67 in image\n",
      "\n",
      "Saving 6.67 x 6.67 in image\n",
      "\n",
      "Saving 6.67 x 6.67 in image\n",
      "\n",
      "Saving 6.67 x 6.67 in image\n",
      "\n"
     ]
    },
    {
     "name": "stdout",
     "output_type": "stream",
     "text": [
      "[1] \"gally\"\n",
      "[1] \"p_val\"        \"avg_log2FC\"   \"pct.1\"        \"pct.2\"        \"p_val_adj\"   \n",
      "[6] \"p_val_adj_BH\"\n"
     ]
    },
    {
     "name": "stderr",
     "output_type": "stream",
     "text": [
      "Saving 6.67 x 6.67 in image\n",
      "\n"
     ]
    },
    {
     "name": "stdout",
     "output_type": "stream",
     "text": [
      "[1] \"X8276A\"\n",
      "[1] \"X8276A\"\n",
      "[1] \"se filt before\"\n",
      "[1] \"se filt\"\n",
      "An object of class Seurat \n",
      "189108 features across 3765 samples within 2 assays \n",
      "Active assay: RNA (19575 features, 0 variable features)\n",
      " 1 other assay present: ATAC\n",
      " 2 dimensional reductions calculated: integrated_lsi, umap\n",
      "[1] \"curr sig\"\n",
      "               p_val avg_log2FC pct.1 pct.2    p_val_adj p_val_adj_BH\n",
      "HOXC11  8.615797e-23 -0.1791898 0.018 0.417 1.686542e-18 1.270572e-18\n",
      "PWP2    1.205698e-21 -0.1174225 0.007 0.250 2.360154e-17 8.890216e-18\n",
      "NAP1L3  9.041487e-18 -0.2794764 0.034 0.500 1.769871e-13 4.444493e-14\n",
      "NKX3-1  3.020177e-17 -0.3083121 0.035 0.500 5.911996e-13 1.113464e-13\n",
      "TMEM88B 3.519781e-16 -0.1513202 0.010 0.250 6.889971e-12 1.038124e-12\n",
      "PCDH20  1.565635e-15 -0.2130734 0.027 0.417 3.064731e-11 3.848071e-12\n",
      "[1] \"dim response\"\n",
      "[1] 14747     6\n"
     ]
    },
    {
     "name": "stderr",
     "output_type": "stream",
     "text": [
      "The automatically generated colors map from the 1^st and 99^th of the\n",
      "values in the matrix. There are outliers in the matrix whose patterns\n",
      "might be hidden by this color mapping. You can manually set the color\n",
      "to `col` argument.\n",
      "\n",
      "Use `suppressMessages()` to turn off this message.\n",
      "\n",
      "Saving 6.67 x 6.67 in image\n",
      "\n",
      "Saving 6.67 x 6.67 in image\n",
      "\n",
      "Saving 6.67 x 6.67 in image\n",
      "\n",
      "Saving 6.67 x 6.67 in image\n",
      "\n",
      "Saving 6.67 x 6.67 in image\n",
      "\n"
     ]
    },
    {
     "name": "stdout",
     "output_type": "stream",
     "text": [
      "[1] \"gally\"\n",
      "[1] \"p_val\"        \"avg_log2FC\"   \"pct.1\"        \"pct.2\"        \"p_val_adj\"   \n",
      "[6] \"p_val_adj_BH\"\n"
     ]
    },
    {
     "name": "stderr",
     "output_type": "stream",
     "text": [
      "Saving 6.67 x 6.67 in image\n",
      "\n"
     ]
    },
    {
     "name": "stdout",
     "output_type": "stream",
     "text": [
      "[1] \"X3296A\"\n",
      "[1] \"X3296A\"\n",
      "[1] \"se filt before\"\n",
      "[1] \"se filt\"\n",
      "An object of class Seurat \n",
      "189108 features across 3763 samples within 2 assays \n",
      "Active assay: RNA (19575 features, 0 variable features)\n",
      " 1 other assay present: ATAC\n",
      " 2 dimensional reductions calculated: integrated_lsi, umap\n",
      "[1] \"curr sig\"\n",
      "               p_val avg_log2FC pct.1 pct.2    p_val_adj p_val_adj_BH\n",
      "CDX2    1.072505e-15 -0.2779568 0.041 0.545 2.099429e-11 1.267516e-11\n",
      "C5orf52 1.732290e-15 -0.3133866 0.030 0.455 3.390957e-11 1.267516e-11\n",
      "CLPSL2  9.506643e-15 -0.1752616 0.020 0.364 1.860925e-10 4.637340e-11\n",
      "AMER3   1.297234e-14 -0.1668340 0.031 0.455 2.539336e-10 4.745932e-11\n",
      "SLC10A4 1.890852e-14 -0.2309974 0.044 0.545 3.701342e-10 5.534145e-11\n",
      "IQCA1L  2.656885e-14 -0.4362869 0.047 0.545 5.200852e-10 6.480142e-11\n",
      "[1] \"dim response\"\n",
      "[1] 14634     6\n"
     ]
    },
    {
     "name": "stderr",
     "output_type": "stream",
     "text": [
      "The automatically generated colors map from the 1^st and 99^th of the\n",
      "values in the matrix. There are outliers in the matrix whose patterns\n",
      "might be hidden by this color mapping. You can manually set the color\n",
      "to `col` argument.\n",
      "\n",
      "Use `suppressMessages()` to turn off this message.\n",
      "\n",
      "Saving 6.67 x 6.67 in image\n",
      "\n",
      "Saving 6.67 x 6.67 in image\n",
      "\n",
      "Saving 6.67 x 6.67 in image\n",
      "\n",
      "Saving 6.67 x 6.67 in image\n",
      "\n",
      "Saving 6.67 x 6.67 in image\n",
      "\n"
     ]
    },
    {
     "name": "stdout",
     "output_type": "stream",
     "text": [
      "[1] \"gally\"\n",
      "[1] \"p_val\"        \"avg_log2FC\"   \"pct.1\"        \"pct.2\"        \"p_val_adj\"   \n",
      "[6] \"p_val_adj_BH\"\n"
     ]
    },
    {
     "name": "stderr",
     "output_type": "stream",
     "text": [
      "Saving 6.67 x 6.67 in image\n",
      "\n"
     ]
    },
    {
     "name": "stdout",
     "output_type": "stream",
     "text": [
      "[1] \"X150T\"\n",
      "[1] \"X150T\"\n",
      "[1] \"se filt before\"\n",
      "[1] \"se filt\"\n",
      "An object of class Seurat \n",
      "189108 features across 3749 samples within 2 assays \n",
      "Active assay: RNA (19575 features, 0 variable features)\n",
      " 1 other assay present: ATAC\n",
      " 2 dimensional reductions calculated: integrated_lsi, umap\n",
      "[1] \"curr sig\"\n",
      "                p_val avg_log2FC pct.1 pct.2    p_val_adj p_val_adj_BH\n",
      "KRTAP4-3 9.947405e-47 -0.1372850 0.001 0.333 1.947204e-42 1.422280e-42\n",
      "GOLGA8T  3.129815e-40 -0.1439617 0.002 0.333 6.126612e-36 2.237504e-36\n",
      "BEX5     3.929145e-30 -0.6990878 0.021 1.000 7.691301e-26 1.872630e-26\n",
      "OR7C2    4.413548e-26 -0.1355856 0.003 0.333 8.639520e-22 1.577623e-22\n",
      "TAS2R31  2.369122e-22 -0.2891540 0.003 0.333 4.637556e-18 6.774741e-19\n",
      "OR6M1    9.031965e-21 -0.2875489 0.003 0.333 1.768007e-16 2.152317e-17\n",
      "[1] \"dim response\"\n",
      "[1] 14298     6\n"
     ]
    },
    {
     "name": "stderr",
     "output_type": "stream",
     "text": [
      "Saving 6.67 x 6.67 in image\n",
      "\n",
      "Saving 6.67 x 6.67 in image\n",
      "\n",
      "Saving 6.67 x 6.67 in image\n",
      "\n",
      "Saving 6.67 x 6.67 in image\n",
      "\n",
      "Saving 6.67 x 6.67 in image\n",
      "\n"
     ]
    },
    {
     "name": "stdout",
     "output_type": "stream",
     "text": [
      "[1] \"gally\"\n",
      "[1] \"p_val\"        \"avg_log2FC\"   \"pct.1\"        \"pct.2\"        \"p_val_adj\"   \n",
      "[6] \"p_val_adj_BH\"\n"
     ]
    },
    {
     "name": "stderr",
     "output_type": "stream",
     "text": [
      "Saving 6.67 x 6.67 in image\n",
      "\n"
     ]
    },
    {
     "name": "stdout",
     "output_type": "stream",
     "text": [
      "[1] \"X10571T\"\n",
      "[1] \"X10571T\"\n",
      "[1] \"se filt before\"\n",
      "[1] \"se filt\"\n",
      "An object of class Seurat \n",
      "189108 features across 3776 samples within 2 assays \n",
      "Active assay: RNA (19575 features, 0 variable features)\n",
      " 1 other assay present: ATAC\n",
      " 2 dimensional reductions calculated: integrated_lsi, umap\n",
      "[1] \"curr sig\"\n",
      "                p_val  avg_log2FC pct.1 pct.2    p_val_adj p_val_adj_BH\n",
      "CSNK1A1L 2.505983e-25 -0.04572794 0.002 0.133 4.905461e-21 3.880765e-21\n",
      "TMEM88B  1.033905e-23 -0.11208837 0.009 0.267 2.023869e-19 8.005525e-20\n",
      "NKX3-1   5.564678e-19 -0.21450826 0.033 0.467 1.089286e-14 2.872487e-15\n",
      "KIAA1683 1.094281e-18 -0.40396718 0.079 0.733 2.142055e-14 4.236508e-15\n",
      "LGALS9C  9.536130e-17 -0.21799068 0.070 0.667 1.866697e-12 2.953530e-13\n",
      "FGF9     6.310477e-16 -0.28008327 0.087 0.733 1.235276e-11 1.628734e-12\n",
      "[1] \"dim response\"\n",
      "[1] 15486     6\n"
     ]
    },
    {
     "name": "stderr",
     "output_type": "stream",
     "text": [
      "The automatically generated colors map from the 1^st and 99^th of the\n",
      "values in the matrix. There are outliers in the matrix whose patterns\n",
      "might be hidden by this color mapping. You can manually set the color\n",
      "to `col` argument.\n",
      "\n",
      "Use `suppressMessages()` to turn off this message.\n",
      "\n",
      "Saving 6.67 x 6.67 in image\n",
      "\n",
      "Saving 6.67 x 6.67 in image\n",
      "\n",
      "Saving 6.67 x 6.67 in image\n",
      "\n",
      "Saving 6.67 x 6.67 in image\n",
      "\n",
      "Saving 6.67 x 6.67 in image\n",
      "\n"
     ]
    },
    {
     "name": "stdout",
     "output_type": "stream",
     "text": [
      "[1] \"gally\"\n",
      "[1] \"p_val\"        \"avg_log2FC\"   \"pct.1\"        \"pct.2\"        \"p_val_adj\"   \n",
      "[6] \"p_val_adj_BH\"\n"
     ]
    },
    {
     "name": "stderr",
     "output_type": "stream",
     "text": [
      "Saving 6.67 x 6.67 in image\n",
      "\n"
     ]
    },
    {
     "name": "stdout",
     "output_type": "stream",
     "text": [
      "[1] \"X13094A\"\n",
      "[1] \"X13094A\"\n",
      "[1] \"se filt before\"\n",
      "[1] \"se filt\"\n",
      "An object of class Seurat \n",
      "189108 features across 3796 samples within 2 assays \n",
      "Active assay: RNA (19575 features, 0 variable features)\n",
      " 1 other assay present: ATAC\n",
      " 2 dimensional reductions calculated: integrated_lsi, umap\n",
      "[1] \"curr sig\"\n",
      "                p_val  avg_log2FC pct.1 pct.2    p_val_adj p_val_adj_BH\n",
      "TCEAL2   5.356183e-37 -0.16108087 0.004 0.222 1.048473e-32 8.414028e-33\n",
      "KRTAP4-8 2.352218e-21 -0.03961188 0.002 0.111 4.604466e-17 1.847549e-17\n",
      "WNT10A   3.741167e-20 -0.51518611 0.124 0.889 7.323334e-16 1.959000e-16\n",
      "HDHD3    5.360165e-20 -0.26246475 0.051 0.556 1.049252e-15 2.105071e-16\n",
      "MYCN     1.248135e-19 -0.17647520 0.069 0.667 2.443225e-15 3.921392e-16\n",
      "INHBB    4.218633e-19 -0.16734540 0.035 0.444 8.257974e-15 1.036316e-15\n",
      "[1] \"dim response\"\n",
      "[1] 15709     6\n"
     ]
    },
    {
     "name": "stderr",
     "output_type": "stream",
     "text": [
      "The automatically generated colors map from the 1^st and 99^th of the\n",
      "values in the matrix. There are outliers in the matrix whose patterns\n",
      "might be hidden by this color mapping. You can manually set the color\n",
      "to `col` argument.\n",
      "\n",
      "Use `suppressMessages()` to turn off this message.\n",
      "\n",
      "Saving 6.67 x 6.67 in image\n",
      "\n",
      "Saving 6.67 x 6.67 in image\n",
      "\n",
      "Saving 6.67 x 6.67 in image\n",
      "\n",
      "Saving 6.67 x 6.67 in image\n",
      "\n",
      "Saving 6.67 x 6.67 in image\n",
      "\n"
     ]
    },
    {
     "name": "stdout",
     "output_type": "stream",
     "text": [
      "[1] \"gally\"\n",
      "[1] \"p_val\"        \"avg_log2FC\"   \"pct.1\"        \"pct.2\"        \"p_val_adj\"   \n",
      "[6] \"p_val_adj_BH\"\n"
     ]
    },
    {
     "name": "stderr",
     "output_type": "stream",
     "text": [
      "Saving 6.67 x 6.67 in image\n",
      "\n"
     ]
    },
    {
     "name": "stdout",
     "output_type": "stream",
     "text": [
      "[1] \"X9590T\"\n",
      "[1] \"X9590T\"\n",
      "[1] \"se filt before\"\n",
      "[1] \"se filt\"\n",
      "An object of class Seurat \n",
      "189108 features across 3786 samples within 2 assays \n",
      "Active assay: RNA (19575 features, 0 variable features)\n",
      " 1 other assay present: ATAC\n",
      " 2 dimensional reductions calculated: integrated_lsi, umap\n",
      "[1] \"curr sig\"\n",
      "                 p_val avg_log2FC pct.1 pct.2    p_val_adj p_val_adj_BH\n",
      "SOX11     8.499316e-27 -0.2311710 0.029 0.583 1.663741e-22 1.083996e-22\n",
      "BEX5      1.422101e-26 -0.1761433 0.022 0.500 2.783762e-22 1.083996e-22\n",
      "S100A1    4.101101e-25 -0.1612468 0.023 0.500 8.027905e-21 2.084043e-21\n",
      "CD24      7.650302e-24 -0.2045957 0.025 0.500 1.497547e-19 2.915721e-20\n",
      "LRRC32    4.955758e-21 -0.3821598 0.061 0.750 9.700896e-17 1.511011e-17\n",
      "KLHDC7B.1 3.808972e-19 -0.1836599 0.022 0.417 7.456062e-15 9.677962e-16\n",
      "[1] \"dim response\"\n",
      "[1] 15245     6\n"
     ]
    },
    {
     "name": "stderr",
     "output_type": "stream",
     "text": [
      "The automatically generated colors map from the 1^st and 99^th of the\n",
      "values in the matrix. There are outliers in the matrix whose patterns\n",
      "might be hidden by this color mapping. You can manually set the color\n",
      "to `col` argument.\n",
      "\n",
      "Use `suppressMessages()` to turn off this message.\n",
      "\n",
      "Saving 6.67 x 6.67 in image\n",
      "\n",
      "Saving 6.67 x 6.67 in image\n",
      "\n",
      "Saving 6.67 x 6.67 in image\n",
      "\n",
      "Saving 6.67 x 6.67 in image\n",
      "\n",
      "Saving 6.67 x 6.67 in image\n",
      "\n"
     ]
    },
    {
     "name": "stdout",
     "output_type": "stream",
     "text": [
      "[1] \"gally\"\n",
      "[1] \"p_val\"        \"avg_log2FC\"   \"pct.1\"        \"pct.2\"        \"p_val_adj\"   \n",
      "[6] \"p_val_adj_BH\"\n"
     ]
    },
    {
     "name": "stderr",
     "output_type": "stream",
     "text": [
      "Saving 6.67 x 6.67 in image\n",
      "\n"
     ]
    },
    {
     "name": "stdout",
     "output_type": "stream",
     "text": [
      "[1] \"X983T\"\n",
      "[1] \"X983T\"\n",
      "[1] \"se filt before\"\n",
      "[1] \"se filt\"\n",
      "An object of class Seurat \n",
      "189108 features across 3770 samples within 2 assays \n",
      "Active assay: RNA (19575 features, 0 variable features)\n",
      " 1 other assay present: ATAC\n",
      " 2 dimensional reductions calculated: integrated_lsi, umap\n",
      "[1] \"curr sig\"\n",
      "                     p_val  avg_log2FC pct.1 pct.2    p_val_adj p_val_adj_BH\n",
      "RP11-192I24.1 7.360156e-70 -0.08864386 0.001  0.25 1.440751e-65 1.093572e-65\n",
      "DMRTC1        4.178151e-24 -0.08700966 0.002  0.25 8.178730e-20 3.103948e-20\n",
      "SPIN2A        6.340221e-20 -0.08498494 0.003  0.25 1.241098e-15 3.140100e-16\n",
      "IFNA17        5.043576e-17 -0.09421796 0.003  0.25 9.872800e-13 1.873436e-13\n",
      "CGB5          6.983641e-16 -0.09351682 0.003  0.25 1.367048e-11 2.075259e-12\n",
      "HCRT          8.851905e-16 -0.33038030 0.031  0.75 1.732760e-11 2.192027e-12\n",
      "[1] \"dim response\"\n",
      "[1] 14858     6\n"
     ]
    },
    {
     "name": "stderr",
     "output_type": "stream",
     "text": [
      "The automatically generated colors map from the 1^st and 99^th of the\n",
      "values in the matrix. There are outliers in the matrix whose patterns\n",
      "might be hidden by this color mapping. You can manually set the color\n",
      "to `col` argument.\n",
      "\n",
      "Use `suppressMessages()` to turn off this message.\n",
      "\n",
      "Saving 6.67 x 6.67 in image\n",
      "\n",
      "Saving 6.67 x 6.67 in image\n",
      "\n",
      "Saving 6.67 x 6.67 in image\n",
      "\n",
      "Saving 6.67 x 6.67 in image\n",
      "\n",
      "Saving 6.67 x 6.67 in image\n",
      "\n"
     ]
    },
    {
     "name": "stdout",
     "output_type": "stream",
     "text": [
      "[1] \"gally\"\n",
      "[1] \"p_val\"        \"avg_log2FC\"   \"pct.1\"        \"pct.2\"        \"p_val_adj\"   \n",
      "[6] \"p_val_adj_BH\"\n"
     ]
    },
    {
     "name": "stderr",
     "output_type": "stream",
     "text": [
      "Saving 6.67 x 6.67 in image\n",
      "\n"
     ]
    },
    {
     "name": "stdout",
     "output_type": "stream",
     "text": [
      "[1] \"X15235C\"\n",
      "[1] \"X15235C\"\n",
      "[1] \"se filt before\"\n",
      "[1] \"se filt\"\n",
      "An object of class Seurat \n",
      "189108 features across 3789 samples within 2 assays \n",
      "Active assay: RNA (19575 features, 0 variable features)\n",
      " 1 other assay present: ATAC\n",
      " 2 dimensional reductions calculated: integrated_lsi, umap\n",
      "[1] \"curr sig\"\n",
      "                 p_val  avg_log2FC pct.1 pct.2    p_val_adj p_val_adj_BH\n",
      "PLGLB2    9.599242e-43 -0.05489769 0.000   0.1 1.879052e-38 1.526759e-38\n",
      "SPATA31D3 5.348724e-22 -0.08103268 0.001   0.1 1.047013e-17 4.253573e-18\n",
      "KRTAP16-1 7.197515e-21 -0.55744444 0.047   0.7 1.408914e-16 3.815883e-17\n",
      "NT5C3B    1.561807e-19 -0.26127495 0.036   0.6 3.057236e-15 6.210133e-16\n",
      "CMTM2     7.489981e-17 -0.25790475 0.042   0.6 1.466164e-12 2.382563e-13\n",
      "KLHL10    1.953387e-16 -0.25420469 0.043   0.6 3.823756e-12 5.178104e-13\n",
      "[1] \"dim response\"\n",
      "[1] 15905     6\n"
     ]
    },
    {
     "name": "stderr",
     "output_type": "stream",
     "text": [
      "The automatically generated colors map from the 1^st and 99^th of the\n",
      "values in the matrix. There are outliers in the matrix whose patterns\n",
      "might be hidden by this color mapping. You can manually set the color\n",
      "to `col` argument.\n",
      "\n",
      "Use `suppressMessages()` to turn off this message.\n",
      "\n",
      "Saving 6.67 x 6.67 in image\n",
      "\n",
      "Saving 6.67 x 6.67 in image\n",
      "\n",
      "Saving 6.67 x 6.67 in image\n",
      "\n",
      "Saving 6.67 x 6.67 in image\n",
      "\n",
      "Saving 6.67 x 6.67 in image\n",
      "\n"
     ]
    },
    {
     "name": "stdout",
     "output_type": "stream",
     "text": [
      "[1] \"gally\"\n",
      "[1] \"p_val\"        \"avg_log2FC\"   \"pct.1\"        \"pct.2\"        \"p_val_adj\"   \n",
      "[6] \"p_val_adj_BH\"\n"
     ]
    },
    {
     "name": "stderr",
     "output_type": "stream",
     "text": [
      "Saving 6.67 x 6.67 in image\n",
      "\n"
     ]
    },
    {
     "name": "stdout",
     "output_type": "stream",
     "text": [
      "[1] \"X4100A\"\n",
      "[1] \"X4100A\"\n",
      "[1] \"se filt before\"\n",
      "[1] \"se filt\"\n",
      "An object of class Seurat \n",
      "189108 features across 3787 samples within 2 assays \n",
      "Active assay: RNA (19575 features, 0 variable features)\n",
      " 1 other assay present: ATAC\n",
      " 2 dimensional reductions calculated: integrated_lsi, umap\n",
      "[1] \"curr sig\"\n",
      "                   p_val  avg_log2FC pct.1 pct.2    p_val_adj p_val_adj_BH\n",
      "FRG2        2.292968e-34 -0.10550063 0.001   0.2 4.488486e-30 3.493108e-30\n",
      "CH507-9B2.1 6.935850e-25 -0.07720345 0.002   0.2 1.357693e-20 3.522025e-21\n",
      "KRTAP12-4   6.935850e-25 -0.07865518 0.002   0.2 1.357693e-20 3.522025e-21\n",
      "LY6G6C      1.003173e-21 -0.19924818 0.017   0.6 1.963710e-17 3.820583e-18\n",
      "TMEM47      2.055614e-21 -0.23557642 0.018   0.6 4.023864e-17 6.263044e-18\n",
      "FAM127C     1.041543e-19 -0.21702974 0.019   0.6 2.038821e-15 2.644479e-16\n",
      "[1] \"dim response\"\n",
      "[1] 15234     6\n"
     ]
    },
    {
     "name": "stderr",
     "output_type": "stream",
     "text": [
      "Saving 6.67 x 6.67 in image\n",
      "\n",
      "Saving 6.67 x 6.67 in image\n",
      "\n",
      "Saving 6.67 x 6.67 in image\n",
      "\n",
      "Saving 6.67 x 6.67 in image\n",
      "\n",
      "Saving 6.67 x 6.67 in image\n",
      "\n"
     ]
    },
    {
     "name": "stdout",
     "output_type": "stream",
     "text": [
      "[1] \"gally\"\n",
      "[1] \"p_val\"        \"avg_log2FC\"   \"pct.1\"        \"pct.2\"        \"p_val_adj\"   \n",
      "[6] \"p_val_adj_BH\"\n"
     ]
    },
    {
     "name": "stderr",
     "output_type": "stream",
     "text": [
      "Saving 6.67 x 6.67 in image\n",
      "\n"
     ]
    },
    {
     "name": "stdout",
     "output_type": "stream",
     "text": [
      "[1] \"X62A\"\n",
      "[1] \"X62A\"\n",
      "[1] \"se filt before\"\n",
      "[1] \"se filt\"\n",
      "An object of class Seurat \n",
      "189108 features across 3796 samples within 2 assays \n",
      "Active assay: RNA (19575 features, 0 variable features)\n",
      " 1 other assay present: ATAC\n",
      " 2 dimensional reductions calculated: integrated_lsi, umap\n",
      "[1] \"curr sig\"\n",
      "                p_val  avg_log2FC pct.1 pct.2    p_val_adj p_val_adj_BH\n",
      "RTP5     1.058755e-23 -0.20117272 0.024 0.556 2.072513e-19 1.696337e-19\n",
      "C10orf35 7.282343e-18 -0.17135188 0.020 0.444 1.425519e-13 5.833885e-14\n",
      "KCNA6    4.277021e-17 -0.20823509 0.021 0.444 8.372269e-13 2.284214e-13\n",
      "ARID3C   1.407509e-16 -0.25529666 0.034 0.556 2.755199e-12 5.637777e-13\n",
      "KRT27    4.128837e-16 -0.08760976 0.006 0.222 8.082199e-12 1.323045e-12\n",
      "MTRNR2L8 2.270802e-14 -0.04706381 0.002 0.111 4.445094e-10 6.063798e-11\n",
      "[1] \"dim response\"\n",
      "[1] 16022     6\n"
     ]
    },
    {
     "name": "stderr",
     "output_type": "stream",
     "text": [
      "The automatically generated colors map from the 1^st and 99^th of the\n",
      "values in the matrix. There are outliers in the matrix whose patterns\n",
      "might be hidden by this color mapping. You can manually set the color\n",
      "to `col` argument.\n",
      "\n",
      "Use `suppressMessages()` to turn off this message.\n",
      "\n",
      "Saving 6.67 x 6.67 in image\n",
      "\n",
      "Saving 6.67 x 6.67 in image\n",
      "\n",
      "Saving 6.67 x 6.67 in image\n",
      "\n",
      "Saving 6.67 x 6.67 in image\n",
      "\n",
      "Saving 6.67 x 6.67 in image\n",
      "\n"
     ]
    },
    {
     "name": "stdout",
     "output_type": "stream",
     "text": [
      "[1] \"gally\"\n",
      "[1] \"p_val\"        \"avg_log2FC\"   \"pct.1\"        \"pct.2\"        \"p_val_adj\"   \n",
      "[6] \"p_val_adj_BH\"\n"
     ]
    },
    {
     "name": "stderr",
     "output_type": "stream",
     "text": [
      "Saving 6.67 x 6.67 in image\n",
      "\n"
     ]
    },
    {
     "name": "stdout",
     "output_type": "stream",
     "text": [
      "[1] \"X15821A\"\n",
      "[1] \"X15821A\"\n",
      "[1] \"se filt before\"\n",
      "[1] \"se filt\"\n",
      "An object of class Seurat \n",
      "189108 features across 3808 samples within 2 assays \n",
      "Active assay: RNA (19575 features, 0 variable features)\n",
      " 1 other assay present: ATAC\n",
      " 2 dimensional reductions calculated: integrated_lsi, umap\n",
      "[1] \"curr sig\"\n",
      "              p_val avg_log2FC pct.1 pct.2    p_val_adj p_val_adj_BH\n",
      "TCAF2  9.799047e-24 -0.1291497 0.010 0.308 1.918163e-19 1.477500e-19\n",
      "RBP5   2.166863e-21 -0.2479231 0.043 0.615 4.241634e-17 1.633598e-17\n",
      "ZNF135 4.205650e-19 -0.2798407 0.049 0.615 8.232560e-15 2.113760e-15\n",
      "USP27X 1.911818e-17 -0.2872370 0.053 0.615 3.742384e-13 7.206598e-14\n",
      "MARCKS 6.010567e-16 -0.2642885 0.084 0.769 1.176568e-11 1.812546e-12\n",
      "KCNA5  1.013046e-14 -0.1148657 0.010 0.231 1.983037e-10 2.545783e-11\n",
      "[1] \"dim response\"\n",
      "[1] 15078     6\n"
     ]
    },
    {
     "name": "stderr",
     "output_type": "stream",
     "text": [
      "The automatically generated colors map from the 1^st and 99^th of the\n",
      "values in the matrix. There are outliers in the matrix whose patterns\n",
      "might be hidden by this color mapping. You can manually set the color\n",
      "to `col` argument.\n",
      "\n",
      "Use `suppressMessages()` to turn off this message.\n",
      "\n",
      "Saving 6.67 x 6.67 in image\n",
      "\n",
      "Saving 6.67 x 6.67 in image\n",
      "\n",
      "Saving 6.67 x 6.67 in image\n",
      "\n",
      "Saving 6.67 x 6.67 in image\n",
      "\n",
      "Saving 6.67 x 6.67 in image\n",
      "\n"
     ]
    },
    {
     "name": "stdout",
     "output_type": "stream",
     "text": [
      "[1] \"gally\"\n",
      "[1] \"p_val\"        \"avg_log2FC\"   \"pct.1\"        \"pct.2\"        \"p_val_adj\"   \n",
      "[6] \"p_val_adj_BH\"\n"
     ]
    },
    {
     "name": "stderr",
     "output_type": "stream",
     "text": [
      "Saving 6.67 x 6.67 in image\n",
      "\n"
     ]
    },
    {
     "name": "stdout",
     "output_type": "stream",
     "text": [
      "[1] \"X16150T\"\n",
      "[1] \"X16150T\"\n",
      "[1] \"se filt before\"\n",
      "[1] \"se filt\"\n",
      "An object of class Seurat \n",
      "189108 features across 3807 samples within 2 assays \n",
      "Active assay: RNA (19575 features, 0 variable features)\n",
      " 1 other assay present: ATAC\n",
      " 2 dimensional reductions calculated: integrated_lsi, umap\n",
      "[1] \"curr sig\"\n",
      "                p_val  avg_log2FC pct.1 pct.2    p_val_adj p_val_adj_BH\n",
      "SYT15    1.016087e-19 -0.08334633 0.004 0.182 1.988990e-15 1.469363e-15\n",
      "ZNF732   8.128962e-17 -0.24949229 0.050 0.636 1.591244e-12 5.877646e-13\n",
      "SLC25A52 1.720889e-14 -0.08959788 0.005 0.182 3.368639e-10 8.295257e-11\n",
      "SPINK2   5.609901e-14 -0.25589406 0.046 0.545 1.098138e-09 2.028119e-10\n",
      "LCN6     1.354561e-13 -0.22307513 0.034 0.455 2.651552e-09 3.766273e-10\n",
      "DLX5     1.562661e-13 -0.21706909 0.034 0.455 3.058908e-09 3.766273e-10\n",
      "[1] \"dim response\"\n",
      "[1] 14461     6\n"
     ]
    },
    {
     "name": "stderr",
     "output_type": "stream",
     "text": [
      "The automatically generated colors map from the 1^st and 99^th of the\n",
      "values in the matrix. There are outliers in the matrix whose patterns\n",
      "might be hidden by this color mapping. You can manually set the color\n",
      "to `col` argument.\n",
      "\n",
      "Use `suppressMessages()` to turn off this message.\n",
      "\n",
      "Saving 6.67 x 6.67 in image\n",
      "\n",
      "Saving 6.67 x 6.67 in image\n",
      "\n",
      "Saving 6.67 x 6.67 in image\n",
      "\n",
      "Saving 6.67 x 6.67 in image\n",
      "\n",
      "Saving 6.67 x 6.67 in image\n",
      "\n"
     ]
    },
    {
     "name": "stdout",
     "output_type": "stream",
     "text": [
      "[1] \"gally\"\n",
      "[1] \"p_val\"        \"avg_log2FC\"   \"pct.1\"        \"pct.2\"        \"p_val_adj\"   \n",
      "[6] \"p_val_adj_BH\"\n"
     ]
    },
    {
     "name": "stderr",
     "output_type": "stream",
     "text": [
      "Saving 6.67 x 6.67 in image\n",
      "\n"
     ]
    },
    {
     "name": "stdout",
     "output_type": "stream",
     "text": [
      "[1] \"X8908A\"\n",
      "[1] \"X8908A\"\n",
      "[1] \"se filt before\"\n",
      "[1] \"se filt\"\n",
      "An object of class Seurat \n",
      "189108 features across 3803 samples within 2 assays \n",
      "Active assay: RNA (19575 features, 0 variable features)\n",
      " 1 other assay present: ATAC\n",
      " 2 dimensional reductions calculated: integrated_lsi, umap\n",
      "[1] \"curr sig\"\n",
      "              p_val  avg_log2FC pct.1 pct.2    p_val_adj p_val_adj_BH\n",
      "TAS2R5 1.997882e-25 -0.09333626 0.003 0.222 3.910855e-21 3.176234e-21\n",
      "IFNA7  1.011928e-19 -0.04732064 0.001 0.111 1.980850e-15 8.043819e-16\n",
      "GP9    8.103281e-19 -0.22863912 0.020 0.444 1.586217e-14 4.294199e-15\n",
      "MC4R   6.562322e-18 -0.15780052 0.012 0.333 1.284575e-13 2.608195e-14\n",
      "GP5    8.506771e-18 -0.48332081 0.046 0.667 1.665200e-13 2.704813e-14\n",
      "BEX5   3.936933e-17 -0.30594265 0.022 0.444 7.706547e-13 1.043156e-13\n",
      "[1] \"dim response\"\n",
      "[1] 15898     6\n"
     ]
    },
    {
     "name": "stderr",
     "output_type": "stream",
     "text": [
      "The automatically generated colors map from the 1^st and 99^th of the\n",
      "values in the matrix. There are outliers in the matrix whose patterns\n",
      "might be hidden by this color mapping. You can manually set the color\n",
      "to `col` argument.\n",
      "\n",
      "Use `suppressMessages()` to turn off this message.\n",
      "\n",
      "Saving 6.67 x 6.67 in image\n",
      "\n",
      "Saving 6.67 x 6.67 in image\n",
      "\n",
      "Saving 6.67 x 6.67 in image\n",
      "\n",
      "Saving 6.67 x 6.67 in image\n",
      "\n",
      "Saving 6.67 x 6.67 in image\n",
      "\n"
     ]
    },
    {
     "name": "stdout",
     "output_type": "stream",
     "text": [
      "[1] \"gally\"\n",
      "[1] \"p_val\"        \"avg_log2FC\"   \"pct.1\"        \"pct.2\"        \"p_val_adj\"   \n",
      "[6] \"p_val_adj_BH\"\n"
     ]
    },
    {
     "name": "stderr",
     "output_type": "stream",
     "text": [
      "Saving 6.67 x 6.67 in image\n",
      "\n"
     ]
    },
    {
     "name": "stdout",
     "output_type": "stream",
     "text": [
      "[1] \"X7579C\"\n",
      "[1] \"X7579C\"\n",
      "[1] \"se filt before\"\n",
      "[1] \"se filt\"\n",
      "An object of class Seurat \n",
      "189108 features across 3792 samples within 2 assays \n",
      "Active assay: RNA (19575 features, 0 variable features)\n",
      " 1 other assay present: ATAC\n",
      " 2 dimensional reductions calculated: integrated_lsi, umap\n",
      "[1] \"curr sig\"\n",
      "                p_val  avg_log2FC pct.1 pct.2    p_val_adj p_val_adj_BH\n",
      "RGPD5    3.189686e-70 -0.09561144 0.001 0.333 6.243811e-66 4.755185e-66\n",
      "LCE1F    9.576704e-36 -0.09318173 0.002 0.333 1.874640e-31 7.138475e-32\n",
      "EBLN1    7.851230e-29 -0.09325820 0.002 0.333 1.536878e-24 3.901538e-25\n",
      "KRTAP9-8 3.245674e-24 -0.11343579 0.003 0.333 6.353407e-20 9.677301e-21\n",
      "CT45A3   3.245674e-24 -0.11557518 0.003 0.333 6.353407e-20 9.677301e-21\n",
      "OR1A1    2.826893e-19 -0.21249740 0.015 0.667 5.533643e-15 7.023886e-16\n",
      "[1] \"dim response\"\n",
      "[1] 14908     6\n"
     ]
    },
    {
     "name": "stderr",
     "output_type": "stream",
     "text": [
      "The automatically generated colors map from the 1^st and 99^th of the\n",
      "values in the matrix. There are outliers in the matrix whose patterns\n",
      "might be hidden by this color mapping. You can manually set the color\n",
      "to `col` argument.\n",
      "\n",
      "Use `suppressMessages()` to turn off this message.\n",
      "\n",
      "Saving 6.67 x 6.67 in image\n",
      "\n",
      "Saving 6.67 x 6.67 in image\n",
      "\n",
      "Saving 6.67 x 6.67 in image\n",
      "\n",
      "Saving 6.67 x 6.67 in image\n",
      "\n",
      "Saving 6.67 x 6.67 in image\n",
      "\n"
     ]
    },
    {
     "name": "stdout",
     "output_type": "stream",
     "text": [
      "[1] \"gally\"\n",
      "[1] \"p_val\"        \"avg_log2FC\"   \"pct.1\"        \"pct.2\"        \"p_val_adj\"   \n",
      "[6] \"p_val_adj_BH\"\n"
     ]
    },
    {
     "name": "stderr",
     "output_type": "stream",
     "text": [
      "Saving 6.67 x 6.67 in image\n",
      "\n"
     ]
    },
    {
     "name": "stdout",
     "output_type": "stream",
     "text": [
      "[1] \"X16220C\"\n",
      "[1] \"X16220C\"\n",
      "[1] \"se filt before\"\n",
      "[1] \"se filt\"\n",
      "An object of class Seurat \n",
      "189108 features across 3798 samples within 2 assays \n",
      "Active assay: RNA (19575 features, 0 variable features)\n",
      " 1 other assay present: ATAC\n",
      " 2 dimensional reductions calculated: integrated_lsi, umap\n",
      "[1] \"curr sig\"\n",
      "               p_val  avg_log2FC pct.1 pct.2    p_val_adj p_val_adj_BH\n",
      "NUPR2   7.658772e-23 -0.16176549 0.007   0.4 1.499205e-18 1.165742e-18\n",
      "TCEAL6  5.343439e-22 -0.09544675 0.002   0.2 1.045978e-17 4.066625e-18\n",
      "SRY     1.070494e-19 -0.08166663 0.002   0.2 2.095492e-15 5.431329e-16\n",
      "FAM127C 7.110225e-19 -0.30218455 0.020   0.6 1.391826e-14 2.705618e-15\n",
      "HBA2    8.424900e-18 -0.06494921 0.002   0.2 1.649174e-13 2.564708e-14\n",
      "RENBP   1.635132e-17 -0.31619383 0.056   1.0 3.200770e-13 4.148057e-14\n",
      "[1] \"dim response\"\n",
      "[1] 15221     6\n"
     ]
    },
    {
     "name": "stderr",
     "output_type": "stream",
     "text": [
      "The automatically generated colors map from the 1^st and 99^th of the\n",
      "values in the matrix. There are outliers in the matrix whose patterns\n",
      "might be hidden by this color mapping. You can manually set the color\n",
      "to `col` argument.\n",
      "\n",
      "Use `suppressMessages()` to turn off this message.\n",
      "\n",
      "Saving 6.67 x 6.67 in image\n",
      "\n",
      "Saving 6.67 x 6.67 in image\n",
      "\n",
      "Saving 6.67 x 6.67 in image\n",
      "\n",
      "Saving 6.67 x 6.67 in image\n",
      "\n",
      "Saving 6.67 x 6.67 in image\n",
      "\n"
     ]
    },
    {
     "name": "stdout",
     "output_type": "stream",
     "text": [
      "[1] \"gally\"\n",
      "[1] \"p_val\"        \"avg_log2FC\"   \"pct.1\"        \"pct.2\"        \"p_val_adj\"   \n",
      "[6] \"p_val_adj_BH\"\n"
     ]
    },
    {
     "name": "stderr",
     "output_type": "stream",
     "text": [
      "Saving 6.67 x 6.67 in image\n",
      "\n"
     ]
    },
    {
     "name": "stdout",
     "output_type": "stream",
     "text": [
      "[1] \"X12283T\"\n",
      "[1] \"X12283T\"\n",
      "[1] \"se filt before\"\n",
      "[1] \"se filt\"\n",
      "An object of class Seurat \n",
      "189108 features across 3825 samples within 2 assays \n",
      "Active assay: RNA (19575 features, 0 variable features)\n",
      " 1 other assay present: ATAC\n",
      " 2 dimensional reductions calculated: integrated_lsi, umap\n",
      "[1] \"curr sig\"\n",
      "               p_val avg_log2FC pct.1 pct.2    p_val_adj p_val_adj_BH\n",
      "SIX2    5.538414e-17 -0.1755882 0.039 0.500 1.084145e-12 8.385159e-13\n",
      "ARMCX2  7.512258e-16 -0.1368174 0.022 0.357 1.470524e-11 4.420623e-12\n",
      "FAM110D 8.759490e-16 -0.1960893 0.032 0.429 1.714670e-11 4.420623e-12\n",
      "CMTM2   1.638695e-15 -0.2052955 0.043 0.500 3.207745e-11 6.202459e-12\n",
      "MZB1    1.956027e-13 -0.2280887 0.062 0.571 3.828923e-09 5.922851e-10\n",
      "BARX1   5.905729e-13 -0.1586554 0.028 0.357 1.156046e-08 1.490212e-09\n",
      "[1] \"dim response\"\n",
      "[1] 15140     6\n"
     ]
    },
    {
     "name": "stderr",
     "output_type": "stream",
     "text": [
      "The automatically generated colors map from the 1^st and 99^th of the\n",
      "values in the matrix. There are outliers in the matrix whose patterns\n",
      "might be hidden by this color mapping. You can manually set the color\n",
      "to `col` argument.\n",
      "\n",
      "Use `suppressMessages()` to turn off this message.\n",
      "\n",
      "Saving 6.67 x 6.67 in image\n",
      "\n",
      "Saving 6.67 x 6.67 in image\n",
      "\n",
      "Saving 6.67 x 6.67 in image\n",
      "\n",
      "Saving 6.67 x 6.67 in image\n",
      "\n",
      "Saving 6.67 x 6.67 in image\n",
      "\n"
     ]
    },
    {
     "name": "stdout",
     "output_type": "stream",
     "text": [
      "[1] \"gally\"\n",
      "[1] \"p_val\"        \"avg_log2FC\"   \"pct.1\"        \"pct.2\"        \"p_val_adj\"   \n",
      "[6] \"p_val_adj_BH\"\n"
     ]
    },
    {
     "name": "stderr",
     "output_type": "stream",
     "text": [
      "Saving 6.67 x 6.67 in image\n",
      "\n"
     ]
    },
    {
     "name": "stdout",
     "output_type": "stream",
     "text": [
      "[1] \"X12723C\"\n",
      "[1] \"X12723C\"\n",
      "[1] \"se filt before\"\n",
      "[1] \"se filt\"\n",
      "An object of class Seurat \n",
      "189108 features across 3811 samples within 2 assays \n",
      "Active assay: RNA (19575 features, 0 variable features)\n",
      " 1 other assay present: ATAC\n",
      " 2 dimensional reductions calculated: integrated_lsi, umap\n",
      "[1] \"curr sig\"\n",
      "                p_val  avg_log2FC pct.1 pct.2    p_val_adj p_val_adj_BH\n",
      "SLC16A11 5.140730e-29 -0.30937258 0.031 0.750 1.006298e-24 8.011828e-25\n",
      "IZUMO3   1.378146e-18 -0.04992638 0.001 0.125 2.697722e-14 1.073921e-14\n",
      "FGF4     1.002468e-17 -0.21638333 0.013 0.375 1.962331e-13 5.207822e-14\n",
      "ATP6V1G3 1.974589e-16 -0.17724406 0.025 0.500 3.865257e-12 7.693491e-13\n",
      "CA9      3.682656e-16 -0.22670492 0.026 0.500 7.208799e-12 1.147884e-12\n",
      "VPS37D   2.193966e-13 -0.35523107 0.048 0.625 4.294688e-09 5.698826e-10\n",
      "[1] \"dim response\"\n",
      "[1] 15585     6\n"
     ]
    },
    {
     "name": "stderr",
     "output_type": "stream",
     "text": [
      "The automatically generated colors map from the 1^st and 99^th of the\n",
      "values in the matrix. There are outliers in the matrix whose patterns\n",
      "might be hidden by this color mapping. You can manually set the color\n",
      "to `col` argument.\n",
      "\n",
      "Use `suppressMessages()` to turn off this message.\n",
      "\n",
      "Saving 6.67 x 6.67 in image\n",
      "\n",
      "Saving 6.67 x 6.67 in image\n",
      "\n",
      "Saving 6.67 x 6.67 in image\n",
      "\n",
      "Saving 6.67 x 6.67 in image\n",
      "\n",
      "Saving 6.67 x 6.67 in image\n",
      "\n"
     ]
    },
    {
     "name": "stdout",
     "output_type": "stream",
     "text": [
      "[1] \"gally\"\n",
      "[1] \"p_val\"        \"avg_log2FC\"   \"pct.1\"        \"pct.2\"        \"p_val_adj\"   \n",
      "[6] \"p_val_adj_BH\"\n"
     ]
    },
    {
     "name": "stderr",
     "output_type": "stream",
     "text": [
      "Saving 6.67 x 6.67 in image\n",
      "\n"
     ]
    },
    {
     "name": "stdout",
     "output_type": "stream",
     "text": [
      "[1] \"X3554A\"\n",
      "[1] \"X3554A\"\n",
      "[1] \"se filt before\"\n",
      "[1] \"se filt\"\n",
      "An object of class Seurat \n",
      "189108 features across 3807 samples within 2 assays \n",
      "Active assay: RNA (19575 features, 0 variable features)\n",
      " 1 other assay present: ATAC\n",
      " 2 dimensional reductions calculated: integrated_lsi, umap\n",
      "[1] \"curr sig\"\n",
      "               p_val  avg_log2FC pct.1 pct.2    p_val_adj p_val_adj_BH\n",
      "BEX5    7.037671e-39 -0.35727644 0.022 0.833 1.377624e-34 1.098369e-34\n",
      "OR6C74  6.041852e-36 -0.08660153 0.001 0.167 1.182693e-31 4.714759e-32\n",
      "OR4A5   2.319719e-24 -0.06718898 0.001 0.167 4.540849e-20 1.206795e-20\n",
      "RASSF10 1.109790e-23 -0.35524579 0.023 0.667 2.172414e-19 4.330123e-20\n",
      "HBG1    1.498819e-18 -0.06728746 0.002 0.167 2.933938e-14 3.968499e-15\n",
      "SOX11   1.525661e-18 -0.44377923 0.031 0.667 2.986482e-14 3.968499e-15\n",
      "[1] \"dim response\"\n",
      "[1] 15607     6\n"
     ]
    },
    {
     "name": "stderr",
     "output_type": "stream",
     "text": [
      "The automatically generated colors map from the 1^st and 99^th of the\n",
      "values in the matrix. There are outliers in the matrix whose patterns\n",
      "might be hidden by this color mapping. You can manually set the color\n",
      "to `col` argument.\n",
      "\n",
      "Use `suppressMessages()` to turn off this message.\n",
      "\n",
      "Saving 6.67 x 6.67 in image\n",
      "\n",
      "Saving 6.67 x 6.67 in image\n",
      "\n",
      "Saving 6.67 x 6.67 in image\n",
      "\n",
      "Saving 6.67 x 6.67 in image\n",
      "\n",
      "Saving 6.67 x 6.67 in image\n",
      "\n"
     ]
    },
    {
     "name": "stdout",
     "output_type": "stream",
     "text": [
      "[1] \"gally\"\n",
      "[1] \"p_val\"        \"avg_log2FC\"   \"pct.1\"        \"pct.2\"        \"p_val_adj\"   \n",
      "[6] \"p_val_adj_BH\"\n"
     ]
    },
    {
     "name": "stderr",
     "output_type": "stream",
     "text": [
      "Saving 6.67 x 6.67 in image\n",
      "\n"
     ]
    },
    {
     "name": "stdout",
     "output_type": "stream",
     "text": [
      "[1] \"X1551T\"\n",
      "[1] \"X1551T\"\n",
      "[1] \"se filt before\"\n",
      "[1] \"se filt\"\n",
      "An object of class Seurat \n",
      "189108 features across 3812 samples within 2 assays \n",
      "Active assay: RNA (19575 features, 0 variable features)\n",
      " 1 other assay present: ATAC\n",
      " 2 dimensional reductions calculated: integrated_lsi, umap\n",
      "[1] \"curr sig\"\n",
      "                     p_val avg_log2FC pct.1 pct.2    p_val_adj p_val_adj_BH\n",
      "KRTAP12-4     4.129174e-21 -0.1309502 0.002 0.167 8.082857e-17 6.209864e-17\n",
      "C2orf66       1.137064e-20 -0.4247854 0.016 0.500 2.225803e-16 8.550154e-17\n",
      "CRCT1         2.464000e-19 -0.1891864 0.007 0.333 4.823280e-15 1.235203e-15\n",
      "OR2D3         1.204179e-16 -0.1403067 0.002 0.167 2.357180e-12 3.760037e-13\n",
      "HOXB4         1.250096e-16 -0.4731670 0.052 0.833 2.447062e-12 3.760037e-13\n",
      "RP11-309L24.4 1.501857e-15 -0.5087310 0.037 0.667 2.939886e-11 3.764405e-12\n",
      "[1] \"dim response\"\n",
      "[1] 15039     6\n"
     ]
    },
    {
     "name": "stderr",
     "output_type": "stream",
     "text": [
      "The automatically generated colors map from the 1^st and 99^th of the\n",
      "values in the matrix. There are outliers in the matrix whose patterns\n",
      "might be hidden by this color mapping. You can manually set the color\n",
      "to `col` argument.\n",
      "\n",
      "Use `suppressMessages()` to turn off this message.\n",
      "\n",
      "Saving 6.67 x 6.67 in image\n",
      "\n",
      "Saving 6.67 x 6.67 in image\n",
      "\n",
      "Saving 6.67 x 6.67 in image\n",
      "\n",
      "Saving 6.67 x 6.67 in image\n",
      "\n",
      "Saving 6.67 x 6.67 in image\n",
      "\n"
     ]
    },
    {
     "name": "stdout",
     "output_type": "stream",
     "text": [
      "[1] \"gally\"\n",
      "[1] \"p_val\"        \"avg_log2FC\"   \"pct.1\"        \"pct.2\"        \"p_val_adj\"   \n",
      "[6] \"p_val_adj_BH\"\n"
     ]
    },
    {
     "name": "stderr",
     "output_type": "stream",
     "text": [
      "Saving 6.67 x 6.67 in image\n",
      "\n"
     ]
    },
    {
     "name": "stdout",
     "output_type": "stream",
     "text": [
      "[1] \"X302C\"\n",
      "[1] \"X302C\"\n",
      "[1] \"se filt before\"\n",
      "[1] \"se filt\"\n",
      "An object of class Seurat \n",
      "189108 features across 3912 samples within 2 assays \n",
      "Active assay: RNA (19575 features, 0 variable features)\n",
      " 1 other assay present: ATAC\n",
      " 2 dimensional reductions calculated: integrated_lsi, umap\n",
      "[1] \"curr sig\"\n",
      "                 p_val avg_log2FC pct.1 pct.2    p_val_adj p_val_adj_BH\n",
      "TMEM177   1.100728e-32 -0.2427454 0.059 0.511 2.154674e-28 1.689287e-28\n",
      "NKX3-1    3.580916e-31 -0.2479753 0.033 0.362 7.009644e-27 2.747816e-27\n",
      "KRTAP16-1 2.258761e-30 -0.2592770 0.046 0.426 4.421525e-26 1.155507e-26\n",
      "C15orf62  1.500904e-28 -0.2684871 0.068 0.511 2.938020e-24 5.758594e-25\n",
      "C8orf86   4.026528e-28 -0.2640082 0.078 0.553 7.881929e-24 1.235903e-24\n",
      "ADRA2A    5.341752e-26 -0.2050418 0.048 0.404 1.045648e-21 1.366331e-22\n",
      "[1] \"dim response\"\n",
      "[1] 15347     6\n"
     ]
    },
    {
     "name": "stderr",
     "output_type": "stream",
     "text": [
      "The automatically generated colors map from the 1^st and 99^th of the\n",
      "values in the matrix. There are outliers in the matrix whose patterns\n",
      "might be hidden by this color mapping. You can manually set the color\n",
      "to `col` argument.\n",
      "\n",
      "Use `suppressMessages()` to turn off this message.\n",
      "\n",
      "Saving 6.67 x 6.67 in image\n",
      "\n",
      "Saving 6.67 x 6.67 in image\n",
      "\n",
      "Saving 6.67 x 6.67 in image\n",
      "\n",
      "Saving 6.67 x 6.67 in image\n",
      "\n",
      "Saving 6.67 x 6.67 in image\n",
      "\n"
     ]
    },
    {
     "name": "stdout",
     "output_type": "stream",
     "text": [
      "[1] \"gally\"\n",
      "[1] \"p_val\"        \"avg_log2FC\"   \"pct.1\"        \"pct.2\"        \"p_val_adj\"   \n",
      "[6] \"p_val_adj_BH\"\n"
     ]
    },
    {
     "name": "stderr",
     "output_type": "stream",
     "text": [
      "Saving 6.67 x 6.67 in image\n",
      "\n"
     ]
    },
    {
     "name": "stdout",
     "output_type": "stream",
     "text": [
      "[1] \"X10302T\"\n",
      "[1] \"X10302T\"\n",
      "[1] \"se filt before\"\n",
      "[1] \"se filt\"\n",
      "An object of class Seurat \n",
      "189108 features across 3822 samples within 2 assays \n",
      "Active assay: RNA (19575 features, 0 variable features)\n",
      " 1 other assay present: ATAC\n",
      " 2 dimensional reductions calculated: integrated_lsi, umap\n",
      "[1] \"curr sig\"\n",
      "                 p_val  avg_log2FC pct.1 pct.2    p_val_adj p_val_adj_BH\n",
      "OR5M11    3.028169e-32 -0.05096698 0.001 0.111 5.927640e-28 4.908359e-28\n",
      "PF4V1     1.728518e-26 -0.14713932 0.008 0.333 3.383574e-22 1.400878e-22\n",
      "KRTAP4-12 3.653246e-24 -0.15842458 0.008 0.333 7.151229e-20 1.973849e-20\n",
      "ADRA2C    5.083190e-23 -0.20191840 0.024 0.556 9.950344e-19 2.059836e-19\n",
      "CSF2      6.637094e-22 -0.15520413 0.017 0.444 1.299211e-17 2.151613e-18\n",
      "LRRC37A2  3.968771e-21 -0.11552848 0.010 0.333 7.768869e-17 1.072164e-17\n",
      "[1] \"dim response\"\n",
      "[1] 16209     6\n"
     ]
    },
    {
     "name": "stderr",
     "output_type": "stream",
     "text": [
      "The automatically generated colors map from the 1^st and 99^th of the\n",
      "values in the matrix. There are outliers in the matrix whose patterns\n",
      "might be hidden by this color mapping. You can manually set the color\n",
      "to `col` argument.\n",
      "\n",
      "Use `suppressMessages()` to turn off this message.\n",
      "\n",
      "Saving 6.67 x 6.67 in image\n",
      "\n",
      "Saving 6.67 x 6.67 in image\n",
      "\n",
      "Saving 6.67 x 6.67 in image\n",
      "\n",
      "Saving 6.67 x 6.67 in image\n",
      "\n",
      "Saving 6.67 x 6.67 in image\n",
      "\n"
     ]
    },
    {
     "name": "stdout",
     "output_type": "stream",
     "text": [
      "[1] \"gally\"\n",
      "[1] \"p_val\"        \"avg_log2FC\"   \"pct.1\"        \"pct.2\"        \"p_val_adj\"   \n",
      "[6] \"p_val_adj_BH\"\n"
     ]
    },
    {
     "name": "stderr",
     "output_type": "stream",
     "text": [
      "Saving 6.67 x 6.67 in image\n",
      "\n"
     ]
    },
    {
     "name": "stdout",
     "output_type": "stream",
     "text": [
      "[1] \"X9640T\"\n",
      "[1] \"X9640T\"\n",
      "[1] \"se filt before\"\n",
      "[1] \"se filt\"\n",
      "An object of class Seurat \n",
      "189108 features across 3822 samples within 2 assays \n",
      "Active assay: RNA (19575 features, 0 variable features)\n",
      " 1 other assay present: ATAC\n",
      " 2 dimensional reductions calculated: integrated_lsi, umap\n",
      "[1] \"curr sig\"\n",
      "                 p_val  avg_log2FC pct.1 pct.2    p_val_adj p_val_adj_BH\n",
      "BOLA2B    4.188581e-43 -0.03513923 0.000   0.1 8.199147e-39 6.732306e-39\n",
      "SLX1A     3.754524e-29 -0.03500182 0.001   0.1 7.349481e-25 3.017323e-25\n",
      "OR6C74    3.706834e-22 -0.05217444 0.001   0.1 7.256127e-18 1.985998e-18\n",
      "REG3A     8.575555e-22 -0.24824278 0.004   0.2 1.678665e-17 3.445872e-18\n",
      "SMIM10L2A 1.319245e-19 -0.23086371 0.026   0.5 2.582423e-15 4.240846e-16\n",
      "LGALSL    1.269930e-17 -0.20640139 0.040   0.6 2.485889e-13 3.401932e-14\n",
      "[1] \"dim response\"\n",
      "[1] 16073     6\n"
     ]
    },
    {
     "name": "stderr",
     "output_type": "stream",
     "text": [
      "The automatically generated colors map from the 1^st and 99^th of the\n",
      "values in the matrix. There are outliers in the matrix whose patterns\n",
      "might be hidden by this color mapping. You can manually set the color\n",
      "to `col` argument.\n",
      "\n",
      "Use `suppressMessages()` to turn off this message.\n",
      "\n",
      "Saving 6.67 x 6.67 in image\n",
      "\n",
      "Saving 6.67 x 6.67 in image\n",
      "\n",
      "Saving 6.67 x 6.67 in image\n",
      "\n",
      "Saving 6.67 x 6.67 in image\n",
      "\n",
      "Saving 6.67 x 6.67 in image\n",
      "\n"
     ]
    },
    {
     "name": "stdout",
     "output_type": "stream",
     "text": [
      "[1] \"gally\"\n",
      "[1] \"p_val\"        \"avg_log2FC\"   \"pct.1\"        \"pct.2\"        \"p_val_adj\"   \n",
      "[6] \"p_val_adj_BH\"\n"
     ]
    },
    {
     "name": "stderr",
     "output_type": "stream",
     "text": [
      "Saving 6.67 x 6.67 in image\n",
      "\n"
     ]
    },
    {
     "name": "stdout",
     "output_type": "stream",
     "text": [
      "[1] \"X8609A\"\n",
      "[1] \"X8609A\"\n",
      "[1] \"se filt before\"\n",
      "[1] \"se filt\"\n",
      "An object of class Seurat \n",
      "189108 features across 3820 samples within 2 assays \n",
      "Active assay: RNA (19575 features, 0 variable features)\n",
      " 1 other assay present: ATAC\n",
      " 2 dimensional reductions calculated: integrated_lsi, umap\n",
      "[1] \"curr sig\"\n",
      "                     p_val  avg_log2FC pct.1 pct.2     p_val_adj  p_val_adj_BH\n",
      "SPANXA2      2.051187e-120 -0.12118590 0.000 0.143 4.015198e-116 3.152879e-116\n",
      "KCNA5         4.007191e-27 -0.21493344 0.010 0.429  7.844076e-23  3.079727e-23\n",
      "CH17-360D5.1  4.070314e-25 -0.06121216 0.001 0.143  7.967639e-21  2.085493e-21\n",
      "LRRC14B       3.333922e-24 -0.27604676 0.019 0.571  6.526153e-20  1.281143e-20\n",
      "NKX3-1        4.932791e-21 -0.37521411 0.035 0.714  9.655938e-17  1.516439e-17\n",
      "GP5           4.969926e-16 -0.51599789 0.046 0.714  9.728631e-12  1.273212e-12\n",
      "[1] \"dim response\"\n",
      "[1] 15371     6\n"
     ]
    },
    {
     "name": "stderr",
     "output_type": "stream",
     "text": [
      "The automatically generated colors map from the 1^st and 99^th of the\n",
      "values in the matrix. There are outliers in the matrix whose patterns\n",
      "might be hidden by this color mapping. You can manually set the color\n",
      "to `col` argument.\n",
      "\n",
      "Use `suppressMessages()` to turn off this message.\n",
      "\n",
      "Saving 6.67 x 6.67 in image\n",
      "\n",
      "Saving 6.67 x 6.67 in image\n",
      "\n",
      "Saving 6.67 x 6.67 in image\n",
      "\n",
      "Saving 6.67 x 6.67 in image\n",
      "\n",
      "Saving 6.67 x 6.67 in image\n",
      "\n"
     ]
    },
    {
     "name": "stdout",
     "output_type": "stream",
     "text": [
      "[1] \"gally\"\n",
      "[1] \"p_val\"        \"avg_log2FC\"   \"pct.1\"        \"pct.2\"        \"p_val_adj\"   \n",
      "[6] \"p_val_adj_BH\"\n"
     ]
    },
    {
     "name": "stderr",
     "output_type": "stream",
     "text": [
      "Saving 6.67 x 6.67 in image\n",
      "\n"
     ]
    },
    {
     "name": "stdout",
     "output_type": "stream",
     "text": [
      "[1] \"X249T\"\n",
      "[1] \"X249T\"\n",
      "[1] \"se filt before\"\n",
      "[1] \"se filt\"\n",
      "An object of class Seurat \n",
      "189108 features across 3869 samples within 2 assays \n",
      "Active assay: RNA (19575 features, 0 variable features)\n",
      " 1 other assay present: ATAC\n",
      " 2 dimensional reductions calculated: integrated_lsi, umap\n",
      "[1] \"curr sig\"\n",
      "                  p_val  avg_log2FC pct.1 pct.2    p_val_adj p_val_adj_BH\n",
      "AC092442.3 2.500458e-33 -0.10128044 0.010 0.269 4.894647e-29 3.939972e-29\n",
      "OXT        1.482162e-31 -0.18138918 0.022 0.385 2.901331e-27 1.167721e-27\n",
      "SYT15      5.532604e-29 -0.05661505 0.004 0.154 1.083007e-24 2.905908e-25\n",
      "KIAA1683   8.710870e-28 -0.49008483 0.080 0.692 1.705153e-23 3.431429e-24\n",
      "MC4R       1.387372e-22 -0.14686707 0.011 0.231 2.715780e-18 4.372163e-19\n",
      "GDF6       2.291167e-21 -0.23643642 0.083 0.654 4.484959e-17 6.016986e-18\n",
      "[1] \"dim response\"\n",
      "[1] 15757     6\n"
     ]
    },
    {
     "name": "stderr",
     "output_type": "stream",
     "text": [
      "The automatically generated colors map from the 1^st and 99^th of the\n",
      "values in the matrix. There are outliers in the matrix whose patterns\n",
      "might be hidden by this color mapping. You can manually set the color\n",
      "to `col` argument.\n",
      "\n",
      "Use `suppressMessages()` to turn off this message.\n",
      "\n",
      "Saving 6.67 x 6.67 in image\n",
      "\n",
      "Saving 6.67 x 6.67 in image\n",
      "\n",
      "Saving 6.67 x 6.67 in image\n",
      "\n",
      "Saving 6.67 x 6.67 in image\n",
      "\n",
      "Saving 6.67 x 6.67 in image\n",
      "\n"
     ]
    },
    {
     "name": "stdout",
     "output_type": "stream",
     "text": [
      "[1] \"gally\"\n",
      "[1] \"p_val\"        \"avg_log2FC\"   \"pct.1\"        \"pct.2\"        \"p_val_adj\"   \n",
      "[6] \"p_val_adj_BH\"\n"
     ]
    },
    {
     "name": "stderr",
     "output_type": "stream",
     "text": [
      "Saving 6.67 x 6.67 in image\n",
      "\n"
     ]
    },
    {
     "name": "stdout",
     "output_type": "stream",
     "text": [
      "[1] \"X14614T\"\n",
      "[1] \"X14614T\"\n",
      "[1] \"se filt before\"\n",
      "[1] \"se filt\"\n",
      "An object of class Seurat \n",
      "189108 features across 3830 samples within 2 assays \n",
      "Active assay: RNA (19575 features, 0 variable features)\n",
      " 1 other assay present: ATAC\n",
      " 2 dimensional reductions calculated: integrated_lsi, umap\n",
      "[1] \"curr sig\"\n",
      "               p_val avg_log2FC pct.1 pct.2    p_val_adj p_val_adj_BH\n",
      "ARMCX1  1.095805e-30 -0.3047672 0.034 0.667 2.145038e-26 1.659706e-26\n",
      "BEX3    6.697472e-17 -0.1870015 0.025 0.417 1.311030e-12 5.071996e-13\n",
      "LGALS12 1.785327e-16 -0.3221284 0.075 0.750 3.494778e-12 9.013522e-13\n",
      "TCEAL2  2.518819e-16 -0.1255682 0.004 0.167 4.930589e-12 9.537510e-13\n",
      "GABRD   4.004495e-16 -0.1862584 0.036 0.500 7.838799e-12 1.213042e-12\n",
      "POU3F2  6.524050e-16 -0.1761171 0.037 0.500 1.277083e-11 1.646888e-12\n",
      "[1] \"dim response\"\n",
      "[1] 15146     6\n"
     ]
    },
    {
     "name": "stderr",
     "output_type": "stream",
     "text": [
      "The automatically generated colors map from the 1^st and 99^th of the\n",
      "values in the matrix. There are outliers in the matrix whose patterns\n",
      "might be hidden by this color mapping. You can manually set the color\n",
      "to `col` argument.\n",
      "\n",
      "Use `suppressMessages()` to turn off this message.\n",
      "\n",
      "Saving 6.67 x 6.67 in image\n",
      "\n",
      "Saving 6.67 x 6.67 in image\n",
      "\n",
      "Saving 6.67 x 6.67 in image\n",
      "\n",
      "Saving 6.67 x 6.67 in image\n",
      "\n",
      "Saving 6.67 x 6.67 in image\n",
      "\n"
     ]
    },
    {
     "name": "stdout",
     "output_type": "stream",
     "text": [
      "[1] \"gally\"\n",
      "[1] \"p_val\"        \"avg_log2FC\"   \"pct.1\"        \"pct.2\"        \"p_val_adj\"   \n",
      "[6] \"p_val_adj_BH\"\n"
     ]
    },
    {
     "name": "stderr",
     "output_type": "stream",
     "text": [
      "Saving 6.67 x 6.67 in image\n",
      "\n"
     ]
    },
    {
     "name": "stdout",
     "output_type": "stream",
     "text": [
      "[1] \"X13436A\"\n",
      "[1] \"X13436A\"\n",
      "[1] \"se filt before\"\n",
      "[1] \"se filt\"\n",
      "An object of class Seurat \n",
      "189108 features across 3856 samples within 2 assays \n",
      "Active assay: RNA (19575 features, 0 variable features)\n",
      " 1 other assay present: ATAC\n",
      " 2 dimensional reductions calculated: integrated_lsi, umap\n",
      "[1] \"curr sig\"\n",
      "                p_val avg_log2FC pct.1 pct.2    p_val_adj p_val_adj_BH\n",
      "NAP1L3   7.611110e-25 -0.1561384 0.033 0.455 1.489875e-20 1.158030e-20\n",
      "KIAA1683 7.296190e-23 -0.3991892 0.079 0.682 1.428229e-18 5.550576e-19\n",
      "MMP23B   2.511864e-22 -0.1342855 0.030 0.409 4.916974e-18 1.273934e-18\n",
      "HEY1     2.326349e-20 -0.3633711 0.087 0.682 4.553828e-16 8.848850e-17\n",
      "C6orf141 7.136534e-20 -0.1701393 0.041 0.455 1.396977e-15 2.171647e-16\n",
      "SMIM6    1.109064e-18 -0.1934214 0.069 0.591 2.170994e-14 2.812402e-15\n",
      "[1] \"dim response\"\n",
      "[1] 15215     6\n"
     ]
    },
    {
     "name": "stderr",
     "output_type": "stream",
     "text": [
      "The automatically generated colors map from the 1^st and 99^th of the\n",
      "values in the matrix. There are outliers in the matrix whose patterns\n",
      "might be hidden by this color mapping. You can manually set the color\n",
      "to `col` argument.\n",
      "\n",
      "Use `suppressMessages()` to turn off this message.\n",
      "\n",
      "Saving 6.67 x 6.67 in image\n",
      "\n",
      "Saving 6.67 x 6.67 in image\n",
      "\n",
      "Saving 6.67 x 6.67 in image\n",
      "\n",
      "Saving 6.67 x 6.67 in image\n",
      "\n",
      "Saving 6.67 x 6.67 in image\n",
      "\n"
     ]
    },
    {
     "name": "stdout",
     "output_type": "stream",
     "text": [
      "[1] \"gally\"\n",
      "[1] \"p_val\"        \"avg_log2FC\"   \"pct.1\"        \"pct.2\"        \"p_val_adj\"   \n",
      "[6] \"p_val_adj_BH\"\n"
     ]
    },
    {
     "name": "stderr",
     "output_type": "stream",
     "text": [
      "Saving 6.67 x 6.67 in image\n",
      "\n"
     ]
    },
    {
     "name": "stdout",
     "output_type": "stream",
     "text": [
      "[1] \"X513A\"\n",
      "[1] \"X513A\"\n",
      "[1] \"se filt before\"\n",
      "[1] \"se filt\"\n",
      "An object of class Seurat \n",
      "189108 features across 3817 samples within 2 assays \n",
      "Active assay: RNA (19575 features, 0 variable features)\n",
      " 1 other assay present: ATAC\n",
      " 2 dimensional reductions calculated: integrated_lsi, umap\n",
      "[1] \"curr sig\"\n",
      "                 p_val avg_log2FC pct.1 pct.2    p_val_adj p_val_adj_BH\n",
      "NPIPB7    3.152511e-14 -0.1754509 0.004  0.25 6.171040e-10 4.445671e-10\n",
      "SYT15     2.004764e-13 -0.1131109 0.004  0.25 3.924325e-09 1.413559e-09\n",
      "GPX2      5.152414e-10 -0.2544566 0.023  0.50 1.008585e-05 2.421978e-06\n",
      "SMIM10L2A 3.266532e-09 -0.3112365 0.025  0.50 6.394236e-05 1.151616e-05\n",
      "MFAP2     4.754118e-08 -0.2484397 0.029  0.50 9.306185e-04 1.179487e-04\n",
      "MYF5      5.018380e-08 -0.1077426 0.008  0.25 9.823479e-04 1.179487e-04\n",
      "[1] \"dim response\"\n",
      "[1] 14102     6\n"
     ]
    },
    {
     "name": "stderr",
     "output_type": "stream",
     "text": [
      "The automatically generated colors map from the 1^st and 99^th of the\n",
      "values in the matrix. There are outliers in the matrix whose patterns\n",
      "might be hidden by this color mapping. You can manually set the color\n",
      "to `col` argument.\n",
      "\n",
      "Use `suppressMessages()` to turn off this message.\n",
      "\n",
      "Saving 6.67 x 6.67 in image\n",
      "\n",
      "Saving 6.67 x 6.67 in image\n",
      "\n",
      "Saving 6.67 x 6.67 in image\n",
      "\n",
      "Saving 6.67 x 6.67 in image\n",
      "\n",
      "Saving 6.67 x 6.67 in image\n",
      "\n"
     ]
    },
    {
     "name": "stdout",
     "output_type": "stream",
     "text": [
      "[1] \"gally\"\n",
      "[1] \"p_val\"        \"avg_log2FC\"   \"pct.1\"        \"pct.2\"        \"p_val_adj\"   \n",
      "[6] \"p_val_adj_BH\"\n"
     ]
    },
    {
     "name": "stderr",
     "output_type": "stream",
     "text": [
      "Saving 6.67 x 6.67 in image\n",
      "\n"
     ]
    },
    {
     "name": "stdout",
     "output_type": "stream",
     "text": [
      "[1] \"X6371A\"\n",
      "[1] \"X6371A\"\n",
      "[1] \"se filt before\"\n",
      "[1] \"se filt\"\n",
      "An object of class Seurat \n",
      "189108 features across 3833 samples within 2 assays \n",
      "Active assay: RNA (19575 features, 0 variable features)\n",
      " 1 other assay present: ATAC\n",
      " 2 dimensional reductions calculated: integrated_lsi, umap\n",
      "[1] \"curr sig\"\n",
      "                          p_val  avg_log2FC pct.1 pct.2    p_val_adj\n",
      "VMO1               2.397449e-27 -0.19146066 0.016 0.455 4.693007e-23\n",
      "VAX1               7.242820e-24 -0.30800579 0.037 0.636 1.417782e-19\n",
      "LKAAEAR1           2.958637e-21 -0.46746950 0.031 0.545 5.791532e-17\n",
      "RPRM               5.500344e-21 -0.30508151 0.022 0.455 1.076692e-16\n",
      "PCDH10             9.442727e-19 -0.58814015 0.091 0.909 1.848414e-14\n",
      "ABC7-42404400C24.1 7.374064e-18 -0.09998286 0.009 0.273 1.443473e-13\n",
      "                   p_val_adj_BH\n",
      "VMO1               3.567645e-23\n",
      "VAX1               5.389020e-20\n",
      "LKAAEAR1           1.467583e-17\n",
      "RPRM               2.046265e-17\n",
      "PCDH10             2.810344e-15\n",
      "ABC7-42404400C24.1 1.611131e-14\n",
      "[1] \"dim response\"\n",
      "[1] 14881     6\n"
     ]
    },
    {
     "name": "stderr",
     "output_type": "stream",
     "text": [
      "The automatically generated colors map from the 1^st and 99^th of the\n",
      "values in the matrix. There are outliers in the matrix whose patterns\n",
      "might be hidden by this color mapping. You can manually set the color\n",
      "to `col` argument.\n",
      "\n",
      "Use `suppressMessages()` to turn off this message.\n",
      "\n",
      "Saving 6.67 x 6.67 in image\n",
      "\n",
      "Saving 6.67 x 6.67 in image\n",
      "\n",
      "Saving 6.67 x 6.67 in image\n",
      "\n",
      "Saving 6.67 x 6.67 in image\n",
      "\n",
      "Saving 6.67 x 6.67 in image\n",
      "\n"
     ]
    },
    {
     "name": "stdout",
     "output_type": "stream",
     "text": [
      "[1] \"gally\"\n",
      "[1] \"p_val\"        \"avg_log2FC\"   \"pct.1\"        \"pct.2\"        \"p_val_adj\"   \n",
      "[6] \"p_val_adj_BH\"\n"
     ]
    },
    {
     "name": "stderr",
     "output_type": "stream",
     "text": [
      "Saving 6.67 x 6.67 in image\n",
      "\n"
     ]
    },
    {
     "name": "stdout",
     "output_type": "stream",
     "text": [
      "[1] \"X13619A\"\n",
      "[1] \"X13619A\"\n",
      "[1] \"se filt before\"\n",
      "[1] \"se filt\"\n",
      "An object of class Seurat \n",
      "189108 features across 3824 samples within 2 assays \n",
      "Active assay: RNA (19575 features, 0 variable features)\n",
      " 1 other assay present: ATAC\n",
      " 2 dimensional reductions calculated: integrated_lsi, umap\n",
      "[1] \"curr sig\"\n",
      "                 p_val  avg_log2FC pct.1 pct.2     p_val_adj  p_val_adj_BH\n",
      "SPANXA2  4.895328e-168 -0.16694670 0.000   0.2 9.582605e-164 7.294039e-164\n",
      "FRG2B     1.088723e-34 -0.08129343 0.001   0.2  2.131174e-30  8.110983e-31\n",
      "KRTAP2-3  3.842360e-25 -0.09476335 0.002   0.2  7.521420e-21  1.908372e-21\n",
      "NKX3-1    1.416157e-19 -0.43769418 0.035   0.8  2.772128e-15  5.275185e-16\n",
      "KCNA5     2.533560e-18 -0.23212216 0.009   0.4  4.959444e-14  7.550010e-15\n",
      "DMRTC1    1.904250e-16 -0.16415076 0.003   0.2  3.727570e-12  4.728888e-13\n",
      "[1] \"dim response\"\n",
      "[1] 14900     6\n"
     ]
    },
    {
     "name": "stderr",
     "output_type": "stream",
     "text": [
      "The automatically generated colors map from the 1^st and 99^th of the\n",
      "values in the matrix. There are outliers in the matrix whose patterns\n",
      "might be hidden by this color mapping. You can manually set the color\n",
      "to `col` argument.\n",
      "\n",
      "Use `suppressMessages()` to turn off this message.\n",
      "\n",
      "Saving 6.67 x 6.67 in image\n",
      "\n",
      "Saving 6.67 x 6.67 in image\n",
      "\n",
      "Saving 6.67 x 6.67 in image\n",
      "\n",
      "Saving 6.67 x 6.67 in image\n",
      "\n",
      "Saving 6.67 x 6.67 in image\n",
      "\n"
     ]
    },
    {
     "name": "stdout",
     "output_type": "stream",
     "text": [
      "[1] \"gally\"\n",
      "[1] \"p_val\"        \"avg_log2FC\"   \"pct.1\"        \"pct.2\"        \"p_val_adj\"   \n",
      "[6] \"p_val_adj_BH\"\n"
     ]
    },
    {
     "name": "stderr",
     "output_type": "stream",
     "text": [
      "Saving 6.67 x 6.67 in image\n",
      "\n"
     ]
    },
    {
     "name": "stdout",
     "output_type": "stream",
     "text": [
      "[1] \"X16512A\"\n",
      "[1] \"X16512A\"\n",
      "[1] \"se filt before\"\n",
      "[1] \"se filt\"\n",
      "An object of class Seurat \n",
      "189108 features across 3823 samples within 2 assays \n",
      "Active assay: RNA (19575 features, 0 variable features)\n",
      " 1 other assay present: ATAC\n",
      " 2 dimensional reductions calculated: integrated_lsi, umap\n",
      "[1] \"curr sig\"\n",
      "                 p_val avg_log2FC pct.1 pct.2    p_val_adj p_val_adj_BH\n",
      "KRTAP12-4 3.874440e-31 -0.1931452 0.002  0.25 7.584216e-27 5.611738e-27\n",
      "SPATA31A6 1.681869e-24 -0.3082366 0.002  0.25 3.292258e-20 1.218009e-20\n",
      "ASCL3     3.447709e-20 -0.1126137 0.003  0.25 6.748891e-16 1.664554e-16\n",
      "DDX53     2.895287e-17 -0.1115370 0.003  0.25 5.667524e-13 1.048383e-13\n",
      "HOXB9     1.095596e-16 -0.5034702 0.030  0.75 2.144629e-12 3.173722e-13\n",
      "CLDN3     2.890701e-16 -0.4983302 0.014  0.50 5.658548e-12 6.978153e-13\n",
      "[1] \"dim response\"\n",
      "[1] 14484     6\n"
     ]
    },
    {
     "name": "stderr",
     "output_type": "stream",
     "text": [
      "The automatically generated colors map from the 1^st and 99^th of the\n",
      "values in the matrix. There are outliers in the matrix whose patterns\n",
      "might be hidden by this color mapping. You can manually set the color\n",
      "to `col` argument.\n",
      "\n",
      "Use `suppressMessages()` to turn off this message.\n",
      "\n",
      "Saving 6.67 x 6.67 in image\n",
      "\n",
      "Saving 6.67 x 6.67 in image\n",
      "\n",
      "Saving 6.67 x 6.67 in image\n",
      "\n",
      "Saving 6.67 x 6.67 in image\n",
      "\n",
      "Saving 6.67 x 6.67 in image\n",
      "\n"
     ]
    },
    {
     "name": "stdout",
     "output_type": "stream",
     "text": [
      "[1] \"gally\"\n",
      "[1] \"p_val\"        \"avg_log2FC\"   \"pct.1\"        \"pct.2\"        \"p_val_adj\"   \n",
      "[6] \"p_val_adj_BH\"\n"
     ]
    },
    {
     "name": "stderr",
     "output_type": "stream",
     "text": [
      "Saving 6.67 x 6.67 in image\n",
      "\n"
     ]
    },
    {
     "name": "stdout",
     "output_type": "stream",
     "text": [
      "[1] \"X3735T\"\n",
      "[1] \"X3735T\"\n",
      "[1] \"se filt before\"\n",
      "[1] \"se filt\"\n",
      "An object of class Seurat \n",
      "189108 features across 3826 samples within 2 assays \n",
      "Active assay: RNA (19575 features, 0 variable features)\n",
      " 1 other assay present: ATAC\n",
      " 2 dimensional reductions calculated: integrated_lsi, umap\n",
      "[1] \"curr sig\"\n",
      "                    p_val avg_log2FC pct.1 pct.2    p_val_adj p_val_adj_BH\n",
      "PRAMEF27     6.150518e-57 -0.1240802 0.001 0.333 1.203964e-52 8.884423e-53\n",
      "RP11-451G4.2 4.953469e-41 -0.1234008 0.002 0.333 9.696416e-37 2.385096e-37\n",
      "FSHB         4.953469e-41 -0.1250260 0.002 0.333 9.696416e-37 2.385096e-37\n",
      "OR2D3        4.319572e-36 -0.2710746 0.002 0.333 8.455562e-32 1.559905e-32\n",
      "CRCT1        1.204653e-35 -0.3685082 0.008 0.667 2.358108e-31 3.480242e-32\n",
      "CSNK1A1L     3.511275e-32 -0.1238655 0.002 0.333 6.873320e-28 8.453394e-29\n",
      "[1] \"dim response\"\n",
      "[1] 14445     6\n"
     ]
    },
    {
     "name": "stderr",
     "output_type": "stream",
     "text": [
      "Saving 6.67 x 6.67 in image\n",
      "\n",
      "Saving 6.67 x 6.67 in image\n",
      "\n",
      "Saving 6.67 x 6.67 in image\n",
      "\n",
      "Saving 6.67 x 6.67 in image\n",
      "\n",
      "Saving 6.67 x 6.67 in image\n",
      "\n"
     ]
    },
    {
     "name": "stdout",
     "output_type": "stream",
     "text": [
      "[1] \"gally\"\n",
      "[1] \"p_val\"        \"avg_log2FC\"   \"pct.1\"        \"pct.2\"        \"p_val_adj\"   \n",
      "[6] \"p_val_adj_BH\"\n"
     ]
    },
    {
     "name": "stderr",
     "output_type": "stream",
     "text": [
      "Saving 6.67 x 6.67 in image\n",
      "\n"
     ]
    },
    {
     "name": "stdout",
     "output_type": "stream",
     "text": [
      "[1] \"X5214A\"\n",
      "[1] \"X5214A\"\n",
      "[1] \"se filt before\"\n",
      "[1] \"se filt\"\n",
      "An object of class Seurat \n",
      "189108 features across 3844 samples within 2 assays \n",
      "Active assay: RNA (19575 features, 0 variable features)\n",
      " 1 other assay present: ATAC\n",
      " 2 dimensional reductions calculated: integrated_lsi, umap\n",
      "[1] \"curr sig\"\n",
      "              p_val  avg_log2FC pct.1 pct.2    p_val_adj p_val_adj_BH\n",
      "TRIM73 1.209828e-30 -0.15566397 0.006   0.3 2.368239e-26 1.951937e-26\n",
      "POU3F2 2.667106e-19 -0.25512655 0.037   0.6 5.220860e-15 2.151554e-15\n",
      "RLN1   9.900791e-19 -0.16611020 0.010   0.3 1.938080e-14 5.324645e-15\n",
      "PCSK1N 2.157681e-16 -0.18008306 0.020   0.4 4.223661e-12 8.703008e-13\n",
      "FAM43B 4.529956e-16 -0.22632423 0.021   0.4 8.867389e-12 1.373215e-12\n",
      "RIMBP3 5.106785e-16 -0.07119633 0.005   0.2 9.996532e-12 1.373215e-12\n",
      "[1] \"dim response\"\n",
      "[1] 16134     6\n"
     ]
    },
    {
     "name": "stderr",
     "output_type": "stream",
     "text": [
      "The automatically generated colors map from the 1^st and 99^th of the\n",
      "values in the matrix. There are outliers in the matrix whose patterns\n",
      "might be hidden by this color mapping. You can manually set the color\n",
      "to `col` argument.\n",
      "\n",
      "Use `suppressMessages()` to turn off this message.\n",
      "\n",
      "Saving 6.67 x 6.67 in image\n",
      "\n",
      "Saving 6.67 x 6.67 in image\n",
      "\n",
      "Saving 6.67 x 6.67 in image\n",
      "\n",
      "Saving 6.67 x 6.67 in image\n",
      "\n",
      "Saving 6.67 x 6.67 in image\n",
      "\n"
     ]
    },
    {
     "name": "stdout",
     "output_type": "stream",
     "text": [
      "[1] \"gally\"\n",
      "[1] \"p_val\"        \"avg_log2FC\"   \"pct.1\"        \"pct.2\"        \"p_val_adj\"   \n",
      "[6] \"p_val_adj_BH\"\n"
     ]
    },
    {
     "name": "stderr",
     "output_type": "stream",
     "text": [
      "Saving 6.67 x 6.67 in image\n",
      "\n"
     ]
    },
    {
     "name": "stdout",
     "output_type": "stream",
     "text": [
      "[1] \"X5337A\"\n",
      "[1] \"X5337A\"\n",
      "[1] \"se filt before\"\n",
      "[1] \"se filt\"\n",
      "An object of class Seurat \n",
      "189108 features across 3836 samples within 2 assays \n",
      "Active assay: RNA (19575 features, 0 variable features)\n",
      " 1 other assay present: ATAC\n",
      " 2 dimensional reductions calculated: integrated_lsi, umap\n",
      "[1] \"curr sig\"\n",
      "                p_val  avg_log2FC pct.1 pct.2    p_val_adj p_val_adj_BH\n",
      "AMELY    3.090242e-36 -0.05474572 0.001 0.125 6.049148e-32 4.874547e-32\n",
      "C2CD4D   2.076467e-26 -0.19405804 0.015 0.500 4.064684e-22 1.637710e-22\n",
      "TBC1D3H  3.224714e-22 -0.04091281 0.001 0.125 6.312378e-18 1.695555e-18\n",
      "KRTAP4-3 1.015453e-18 -0.12093548 0.001 0.125 1.987750e-14 2.783433e-15\n",
      "OR13C5   1.058742e-18 -0.05523199 0.001 0.125 2.072488e-14 2.783433e-15\n",
      "PRODH    1.058742e-18 -0.04504702 0.001 0.125 2.072488e-14 2.783433e-15\n",
      "[1] \"dim response\"\n",
      "[1] 15774     6\n"
     ]
    },
    {
     "name": "stderr",
     "output_type": "stream",
     "text": [
      "Saving 6.67 x 6.67 in image\n",
      "\n",
      "Saving 6.67 x 6.67 in image\n",
      "\n",
      "Saving 6.67 x 6.67 in image\n",
      "\n",
      "Saving 6.67 x 6.67 in image\n",
      "\n",
      "Saving 6.67 x 6.67 in image\n",
      "\n"
     ]
    },
    {
     "name": "stdout",
     "output_type": "stream",
     "text": [
      "[1] \"gally\"\n",
      "[1] \"p_val\"        \"avg_log2FC\"   \"pct.1\"        \"pct.2\"        \"p_val_adj\"   \n",
      "[6] \"p_val_adj_BH\"\n"
     ]
    },
    {
     "name": "stderr",
     "output_type": "stream",
     "text": [
      "Saving 6.67 x 6.67 in image\n",
      "\n"
     ]
    },
    {
     "name": "stdout",
     "output_type": "stream",
     "text": [
      "[1] \"X4631T\"\n",
      "[1] \"X4631T\"\n",
      "[1] \"se filt before\"\n",
      "[1] \"se filt\"\n",
      "An object of class Seurat \n",
      "189108 features across 3838 samples within 2 assays \n",
      "Active assay: RNA (19575 features, 0 variable features)\n",
      " 1 other assay present: ATAC\n",
      " 2 dimensional reductions calculated: integrated_lsi, umap\n",
      "[1] \"curr sig\"\n",
      "                    p_val  avg_log2FC pct.1 pct.2    p_val_adj p_val_adj_BH\n",
      "RP5-937E21.8 3.071180e-41 -0.05853098 0.001 0.143 6.011834e-37 4.733917e-37\n",
      "TMEM136      9.709152e-28 -0.37541809 0.049 1.000 1.900566e-23 7.482843e-24\n",
      "BEX3         1.047562e-19 -0.35700487 0.024 0.571 2.050604e-15 5.382376e-16\n",
      "LGALSL       9.160014e-18 -0.32601344 0.041 0.714 1.793073e-13 3.529811e-14\n",
      "CLDN15       1.291497e-16 -0.48182232 0.062 0.857 2.528105e-12 3.981426e-13\n",
      "HBG1         3.478778e-16 -0.05700978 0.002 0.143 6.809709e-12 8.936982e-13\n",
      "[1] \"dim response\"\n",
      "[1] 15414     6\n"
     ]
    },
    {
     "name": "stderr",
     "output_type": "stream",
     "text": [
      "The automatically generated colors map from the 1^st and 99^th of the\n",
      "values in the matrix. There are outliers in the matrix whose patterns\n",
      "might be hidden by this color mapping. You can manually set the color\n",
      "to `col` argument.\n",
      "\n",
      "Use `suppressMessages()` to turn off this message.\n",
      "\n",
      "Saving 6.67 x 6.67 in image\n",
      "\n",
      "Saving 6.67 x 6.67 in image\n",
      "\n",
      "Saving 6.67 x 6.67 in image\n",
      "\n",
      "Saving 6.67 x 6.67 in image\n",
      "\n",
      "Saving 6.67 x 6.67 in image\n",
      "\n"
     ]
    },
    {
     "name": "stdout",
     "output_type": "stream",
     "text": [
      "[1] \"gally\"\n",
      "[1] \"p_val\"        \"avg_log2FC\"   \"pct.1\"        \"pct.2\"        \"p_val_adj\"   \n",
      "[6] \"p_val_adj_BH\"\n"
     ]
    },
    {
     "name": "stderr",
     "output_type": "stream",
     "text": [
      "Saving 6.67 x 6.67 in image\n",
      "\n"
     ]
    },
    {
     "name": "stdout",
     "output_type": "stream",
     "text": [
      "[1] \"X16387G\"\n",
      "[1] \"X16387G\"\n",
      "[1] \"se filt before\"\n",
      "[1] \"se filt\"\n",
      "An object of class Seurat \n",
      "189108 features across 3860 samples within 2 assays \n",
      "Active assay: RNA (19575 features, 0 variable features)\n",
      " 1 other assay present: ATAC\n",
      " 2 dimensional reductions calculated: integrated_lsi, umap\n",
      "[1] \"curr sig\"\n",
      "                      p_val  avg_log2FC pct.1 pct.2    p_val_adj p_val_adj_BH\n",
      "ADM2           1.557104e-24 -0.23323276 0.029 0.471 3.048032e-20 2.404481e-20\n",
      "TRIM73         5.714104e-19 -0.06906372 0.005 0.176 1.118536e-14 2.822933e-15\n",
      "GP5            6.095200e-19 -0.28233645 0.047 0.529 1.193135e-14 2.822933e-15\n",
      "BHLHE23        7.312350e-19 -0.11361289 0.010 0.235 1.431392e-14 2.822933e-15\n",
      "RP11-249C24.12 1.059763e-18 -0.19194912 0.022 0.353 2.074486e-14 3.272973e-15\n",
      "LGALS9C        8.498302e-18 -0.31338234 0.071 0.647 1.663543e-13 2.187180e-14\n",
      "[1] \"dim response\"\n",
      "[1] 15442     6\n"
     ]
    },
    {
     "name": "stderr",
     "output_type": "stream",
     "text": [
      "The automatically generated colors map from the 1^st and 99^th of the\n",
      "values in the matrix. There are outliers in the matrix whose patterns\n",
      "might be hidden by this color mapping. You can manually set the color\n",
      "to `col` argument.\n",
      "\n",
      "Use `suppressMessages()` to turn off this message.\n",
      "\n",
      "Saving 6.67 x 6.67 in image\n",
      "\n",
      "Saving 6.67 x 6.67 in image\n",
      "\n",
      "Saving 6.67 x 6.67 in image\n",
      "\n",
      "Saving 6.67 x 6.67 in image\n",
      "\n",
      "Saving 6.67 x 6.67 in image\n",
      "\n"
     ]
    },
    {
     "name": "stdout",
     "output_type": "stream",
     "text": [
      "[1] \"gally\"\n",
      "[1] \"p_val\"        \"avg_log2FC\"   \"pct.1\"        \"pct.2\"        \"p_val_adj\"   \n",
      "[6] \"p_val_adj_BH\"\n"
     ]
    },
    {
     "name": "stderr",
     "output_type": "stream",
     "text": [
      "Saving 6.67 x 6.67 in image\n",
      "\n"
     ]
    },
    {
     "name": "stdout",
     "output_type": "stream",
     "text": [
      "[1] \"X478C\"\n",
      "[1] \"X478C\"\n",
      "[1] \"se filt before\"\n",
      "[1] \"se filt\"\n",
      "An object of class Seurat \n",
      "189108 features across 3837 samples within 2 assays \n",
      "Active assay: RNA (19575 features, 0 variable features)\n",
      " 1 other assay present: ATAC\n",
      " 2 dimensional reductions calculated: integrated_lsi, umap\n",
      "[1] \"curr sig\"\n",
      "                 p_val  avg_log2FC pct.1 pct.2    p_val_adj p_val_adj_BH\n",
      "PRAMEF27  8.380436e-35 -0.07462673 0.001   0.2 1.640470e-30 1.269468e-30\n",
      "KRTAP9-1  3.008507e-25 -0.13870933 0.002   0.2 5.889152e-21 1.703302e-21\n",
      "FSHB      3.373321e-25 -0.07557022 0.002   0.2 6.603276e-21 1.703302e-21\n",
      "MAGEE1    4.489580e-22 -0.46923975 0.031   0.8 8.788352e-18 1.700204e-18\n",
      "ANKRD20A1 5.675318e-18 -0.07467614 0.002   0.2 1.110944e-13 1.432829e-14\n",
      "CSNK1A1L  5.675321e-18 -0.07420032 0.002   0.2 1.110944e-13 1.432829e-14\n",
      "[1] \"dim response\"\n",
      "[1] 15148     6\n"
     ]
    },
    {
     "name": "stderr",
     "output_type": "stream",
     "text": [
      "The automatically generated colors map from the 1^st and 99^th of the\n",
      "values in the matrix. There are outliers in the matrix whose patterns\n",
      "might be hidden by this color mapping. You can manually set the color\n",
      "to `col` argument.\n",
      "\n",
      "Use `suppressMessages()` to turn off this message.\n",
      "\n",
      "Saving 6.67 x 6.67 in image\n",
      "\n",
      "Saving 6.67 x 6.67 in image\n",
      "\n",
      "Saving 6.67 x 6.67 in image\n",
      "\n",
      "Saving 6.67 x 6.67 in image\n",
      "\n",
      "Saving 6.67 x 6.67 in image\n",
      "\n"
     ]
    },
    {
     "name": "stdout",
     "output_type": "stream",
     "text": [
      "[1] \"gally\"\n",
      "[1] \"p_val\"        \"avg_log2FC\"   \"pct.1\"        \"pct.2\"        \"p_val_adj\"   \n",
      "[6] \"p_val_adj_BH\"\n"
     ]
    },
    {
     "name": "stderr",
     "output_type": "stream",
     "text": [
      "Saving 6.67 x 6.67 in image\n",
      "\n"
     ]
    },
    {
     "name": "stdout",
     "output_type": "stream",
     "text": [
      "[1] \"X13305T\"\n",
      "[1] \"X13305T\"\n",
      "[1] \"se filt before\"\n",
      "[1] \"se filt\"\n",
      "An object of class Seurat \n",
      "189108 features across 3838 samples within 2 assays \n",
      "Active assay: RNA (19575 features, 0 variable features)\n",
      " 1 other assay present: ATAC\n",
      " 2 dimensional reductions calculated: integrated_lsi, umap\n",
      "[1] \"curr sig\"\n",
      "                     p_val  avg_log2FC pct.1 pct.2    p_val_adj p_val_adj_BH\n",
      "RP11-192I24.1 3.602010e-57 -0.07122901 0.001   0.2 7.050934e-53 5.522601e-53\n",
      "UQCRHL        1.108177e-28 -0.15666765 0.006   0.4 2.169256e-24 8.495282e-25\n",
      "RP11-451G4.2  3.140149e-25 -0.09122416 0.002   0.2 6.146842e-21 1.604826e-21\n",
      "PCDH20        3.722455e-24 -0.37970065 0.027   0.8 7.286706e-20 1.426817e-20\n",
      "GRAPL         4.352910e-23 -0.15570281 0.007   0.4 8.520822e-19 1.334776e-19\n",
      "HBG1          3.389649e-22 -0.09000495 0.002   0.2 6.635237e-18 8.661682e-19\n",
      "[1] \"dim response\"\n",
      "[1] 15332     6\n"
     ]
    },
    {
     "name": "stderr",
     "output_type": "stream",
     "text": [
      "Saving 6.67 x 6.67 in image\n",
      "\n",
      "Saving 6.67 x 6.67 in image\n",
      "\n",
      "Saving 6.67 x 6.67 in image\n",
      "\n",
      "Saving 6.67 x 6.67 in image\n",
      "\n",
      "Saving 6.67 x 6.67 in image\n",
      "\n"
     ]
    },
    {
     "name": "stdout",
     "output_type": "stream",
     "text": [
      "[1] \"gally\"\n",
      "[1] \"p_val\"        \"avg_log2FC\"   \"pct.1\"        \"pct.2\"        \"p_val_adj\"   \n",
      "[6] \"p_val_adj_BH\"\n"
     ]
    },
    {
     "name": "stderr",
     "output_type": "stream",
     "text": [
      "Saving 6.67 x 6.67 in image\n",
      "\n"
     ]
    },
    {
     "name": "stdout",
     "output_type": "stream",
     "text": [
      "[1] \"X11137C\"\n",
      "[1] \"X11137C\"\n",
      "[1] \"se filt before\"\n",
      "[1] \"se filt\"\n",
      "An object of class Seurat \n",
      "189108 features across 3829 samples within 2 assays \n",
      "Active assay: RNA (19575 features, 0 variable features)\n",
      " 1 other assay present: ATAC\n",
      " 2 dimensional reductions calculated: integrated_lsi, umap\n",
      "Error in ValidateCellGroups(object = object, cells.1 = cells.1, cells.2 = cells.2,  : \n",
      "  Cell group 2 has fewer than 3 cells\n",
      "[1] \"X6207A\"\n",
      "[1] \"X6207A\"\n",
      "[1] \"se filt before\"\n",
      "[1] \"se filt\"\n",
      "An object of class Seurat \n",
      "189108 features across 3833 samples within 2 assays \n",
      "Active assay: RNA (19575 features, 0 variable features)\n",
      " 1 other assay present: ATAC\n",
      " 2 dimensional reductions calculated: integrated_lsi, umap\n",
      "Error in ValidateCellGroups(object = object, cells.1 = cells.1, cells.2 = cells.2,  : \n",
      "  Cell group 2 has fewer than 3 cells\n",
      "[1] \"X8926T\"\n",
      "[1] \"X8926T\"\n",
      "[1] \"se filt before\"\n",
      "[1] \"se filt\"\n",
      "An object of class Seurat \n",
      "189108 features across 3858 samples within 2 assays \n",
      "Active assay: RNA (19575 features, 0 variable features)\n",
      " 1 other assay present: ATAC\n",
      " 2 dimensional reductions calculated: integrated_lsi, umap\n",
      "[1] \"curr sig\"\n",
      "                    p_val  avg_log2FC pct.1 pct.2    p_val_adj p_val_adj_BH\n",
      "ATOH7        7.392349e-22 -0.19050128 0.029 0.545 1.447052e-17 1.097172e-17\n",
      "OXT          3.699946e-20 -0.20360249 0.023 0.455 7.242645e-16 2.745730e-16\n",
      "MAB21L2      5.914944e-20 -0.08526531 0.004 0.182 1.157850e-15 2.926320e-16\n",
      "RP11-173A6.4 5.468339e-19 -0.17488865 0.016 0.364 1.070427e-14 2.029027e-15\n",
      "SPINK2       3.485034e-18 -0.22739028 0.047 0.636 6.821953e-14 1.034497e-14\n",
      "ANXA8        4.104561e-17 -0.14686086 0.027 0.455 8.034678e-13 1.015332e-13\n",
      "[1] \"dim response\"\n",
      "[1] 14842     6\n"
     ]
    },
    {
     "name": "stderr",
     "output_type": "stream",
     "text": [
      "The automatically generated colors map from the 1^st and 99^th of the\n",
      "values in the matrix. There are outliers in the matrix whose patterns\n",
      "might be hidden by this color mapping. You can manually set the color\n",
      "to `col` argument.\n",
      "\n",
      "Use `suppressMessages()` to turn off this message.\n",
      "\n",
      "Saving 6.67 x 6.67 in image\n",
      "\n",
      "Saving 6.67 x 6.67 in image\n",
      "\n",
      "Saving 6.67 x 6.67 in image\n",
      "\n",
      "Saving 6.67 x 6.67 in image\n",
      "\n",
      "Saving 6.67 x 6.67 in image\n",
      "\n"
     ]
    },
    {
     "name": "stdout",
     "output_type": "stream",
     "text": [
      "[1] \"gally\"\n",
      "[1] \"p_val\"        \"avg_log2FC\"   \"pct.1\"        \"pct.2\"        \"p_val_adj\"   \n",
      "[6] \"p_val_adj_BH\"\n"
     ]
    },
    {
     "name": "stderr",
     "output_type": "stream",
     "text": [
      "Saving 6.67 x 6.67 in image\n",
      "\n"
     ]
    },
    {
     "name": "stdout",
     "output_type": "stream",
     "text": [
      "[1] \"X1192A\"\n",
      "[1] \"X1192A\"\n",
      "[1] \"se filt before\"\n",
      "[1] \"se filt\"\n",
      "An object of class Seurat \n",
      "189108 features across 3843 samples within 2 assays \n",
      "Active assay: RNA (19575 features, 0 variable features)\n",
      " 1 other assay present: ATAC\n",
      " 2 dimensional reductions calculated: integrated_lsi, umap\n",
      "[1] \"curr sig\"\n",
      "                 p_val  avg_log2FC pct.1 pct.2    p_val_adj p_val_adj_BH\n",
      "OR5AR1    3.094931e-43 -0.11066507 0.001  0.25 6.058327e-39 4.682012e-39\n",
      "OR5D18    3.087850e-36 -0.08467771 0.001  0.25 6.044466e-32 1.557100e-32\n",
      "KRTAP20-1 3.087850e-36 -0.08455326 0.001  0.25 6.044466e-32 1.557100e-32\n",
      "OR5L1     3.119572e-31 -0.10906937 0.002  0.25 6.106562e-27 9.438577e-28\n",
      "OR4F4     3.119572e-31 -0.08443755 0.002  0.25 6.106562e-27 9.438577e-28\n",
      "UPK3BL    3.304431e-22 -0.10991948 0.002  0.25 6.468423e-18 7.141347e-19\n",
      "[1] \"dim response\"\n",
      "[1] 15128     6\n"
     ]
    },
    {
     "name": "stderr",
     "output_type": "stream",
     "text": [
      "Saving 6.67 x 6.67 in image\n",
      "\n",
      "Saving 6.67 x 6.67 in image\n",
      "\n",
      "Saving 6.67 x 6.67 in image\n",
      "\n",
      "Saving 6.67 x 6.67 in image\n",
      "\n",
      "Saving 6.67 x 6.67 in image\n",
      "\n"
     ]
    },
    {
     "name": "stdout",
     "output_type": "stream",
     "text": [
      "[1] \"gally\"\n",
      "[1] \"p_val\"        \"avg_log2FC\"   \"pct.1\"        \"pct.2\"        \"p_val_adj\"   \n",
      "[6] \"p_val_adj_BH\"\n"
     ]
    },
    {
     "name": "stderr",
     "output_type": "stream",
     "text": [
      "Saving 6.67 x 6.67 in image\n",
      "\n"
     ]
    },
    {
     "name": "stdout",
     "output_type": "stream",
     "text": [
      "[1] \"X6797T\"\n",
      "[1] \"X6797T\"\n",
      "[1] \"se filt before\"\n",
      "[1] \"se filt\"\n",
      "An object of class Seurat \n",
      "189108 features across 3835 samples within 2 assays \n",
      "Active assay: RNA (19575 features, 0 variable features)\n",
      " 1 other assay present: ATAC\n",
      " 2 dimensional reductions calculated: integrated_lsi, umap\n",
      "Error in ValidateCellGroups(object = object, cells.1 = cells.1, cells.2 = cells.2,  : \n",
      "  Cell group 2 has fewer than 3 cells\n",
      "[1] \"X13443A\"\n",
      "[1] \"X13443A\"\n",
      "[1] \"se filt before\"\n",
      "[1] \"se filt\"\n",
      "An object of class Seurat \n",
      "189108 features across 3850 samples within 2 assays \n",
      "Active assay: RNA (19575 features, 0 variable features)\n",
      " 1 other assay present: ATAC\n",
      " 2 dimensional reductions calculated: integrated_lsi, umap\n",
      "[1] \"curr sig\"\n",
      "              p_val  avg_log2FC pct.1 pct.2    p_val_adj p_val_adj_BH\n",
      "MAGEB6 2.348455e-43 -0.09691062 0.001  0.25 4.597100e-39 3.444478e-39\n",
      "TCAF2  9.464993e-22 -0.22806450 0.010  0.50 1.852772e-17 6.941153e-18\n",
      "ASCL3  2.527922e-20 -0.11263830 0.003  0.25 4.948408e-16 1.235901e-16\n",
      "OR52B2 1.014151e-18 -0.09445949 0.003  0.25 1.985201e-14 3.718639e-15\n",
      "DDX53  2.225496e-17 -0.11158441 0.003  0.25 4.356408e-13 5.653724e-14\n",
      "OR51F1 2.312835e-17 -0.09429436 0.003  0.25 4.527374e-13 5.653724e-14\n",
      "[1] \"dim response\"\n",
      "[1] 14667     6\n"
     ]
    },
    {
     "name": "stderr",
     "output_type": "stream",
     "text": [
      "Saving 6.67 x 6.67 in image\n",
      "\n",
      "Saving 6.67 x 6.67 in image\n",
      "\n",
      "Saving 6.67 x 6.67 in image\n",
      "\n",
      "Saving 6.67 x 6.67 in image\n",
      "\n",
      "Saving 6.67 x 6.67 in image\n",
      "\n"
     ]
    },
    {
     "name": "stdout",
     "output_type": "stream",
     "text": [
      "[1] \"gally\"\n",
      "[1] \"p_val\"        \"avg_log2FC\"   \"pct.1\"        \"pct.2\"        \"p_val_adj\"   \n",
      "[6] \"p_val_adj_BH\"\n"
     ]
    },
    {
     "name": "stderr",
     "output_type": "stream",
     "text": [
      "Saving 6.67 x 6.67 in image\n",
      "\n"
     ]
    },
    {
     "name": "stdout",
     "output_type": "stream",
     "text": [
      "[1] \"X14962T\"\n",
      "[1] \"X14962T\"\n",
      "[1] \"se filt before\"\n",
      "[1] \"se filt\"\n",
      "An object of class Seurat \n",
      "189108 features across 3845 samples within 2 assays \n",
      "Active assay: RNA (19575 features, 0 variable features)\n",
      " 1 other assay present: ATAC\n",
      " 2 dimensional reductions calculated: integrated_lsi, umap\n",
      "[1] \"curr sig\"\n",
      "                      p_val avg_log2FC pct.1 pct.2     p_val_adj  p_val_adj_BH\n",
      "RP11-432M8.12 5.991707e-141 -0.1886233 0.000 0.333 1.172877e-136 8.625661e-137\n",
      "MAGEA12        3.015335e-29 -0.1860312 0.002 0.333  5.902519e-25  2.170438e-25\n",
      "SBK3           4.636862e-29 -0.5770462 0.022 1.000  9.076658e-25  2.225076e-25\n",
      "CSAG1          1.081373e-26 -0.1857349 0.003 0.333  2.116788e-22  3.891862e-23\n",
      "OR10H4         6.903215e-20 -0.1316261 0.004 0.333  1.351304e-15  1.987574e-16\n",
      "CSH2           1.080756e-18 -0.1306892 0.004 0.333  2.115579e-14  2.593093e-15\n",
      "[1] \"dim response\"\n",
      "[1] 14396     6\n"
     ]
    },
    {
     "name": "stderr",
     "output_type": "stream",
     "text": [
      "The automatically generated colors map from the 1^st and 99^th of the\n",
      "values in the matrix. There are outliers in the matrix whose patterns\n",
      "might be hidden by this color mapping. You can manually set the color\n",
      "to `col` argument.\n",
      "\n",
      "Use `suppressMessages()` to turn off this message.\n",
      "\n",
      "Saving 6.67 x 6.67 in image\n",
      "\n",
      "Saving 6.67 x 6.67 in image\n",
      "\n",
      "Saving 6.67 x 6.67 in image\n",
      "\n",
      "Saving 6.67 x 6.67 in image\n",
      "\n",
      "Saving 6.67 x 6.67 in image\n",
      "\n"
     ]
    },
    {
     "name": "stdout",
     "output_type": "stream",
     "text": [
      "[1] \"gally\"\n",
      "[1] \"p_val\"        \"avg_log2FC\"   \"pct.1\"        \"pct.2\"        \"p_val_adj\"   \n",
      "[6] \"p_val_adj_BH\"\n"
     ]
    },
    {
     "name": "stderr",
     "output_type": "stream",
     "text": [
      "Saving 6.67 x 6.67 in image\n",
      "\n"
     ]
    },
    {
     "name": "stdout",
     "output_type": "stream",
     "text": [
      "[1] \"X6364A\"\n",
      "[1] \"X6364A\"\n",
      "[1] \"se filt before\"\n",
      "[1] \"se filt\"\n",
      "An object of class Seurat \n",
      "189108 features across 3851 samples within 2 assays \n",
      "Active assay: RNA (19575 features, 0 variable features)\n",
      " 1 other assay present: ATAC\n",
      " 2 dimensional reductions calculated: integrated_lsi, umap\n",
      "[1] \"curr sig\"\n",
      "                 p_val  avg_log2FC pct.1 pct.2    p_val_adj p_val_adj_BH\n",
      "FOXD4L6   2.407684e-43 -0.09071314 0.001   0.2 4.713042e-39 1.210584e-39\n",
      "KRTAP19-1 2.407684e-43 -0.09082057 0.001   0.2 4.713042e-39 1.210584e-39\n",
      "AMELY     2.407684e-43 -0.10058119 0.001   0.2 4.713042e-39 1.210584e-39\n",
      "TCEAL2    3.673262e-36 -0.17110716 0.004   0.4 7.190411e-32 1.385187e-32\n",
      "GOLGA8T   2.756846e-25 -0.08949340 0.002   0.2 5.396526e-21 8.316852e-22\n",
      "GOLGA8K   6.449199e-20 -0.08852296 0.002   0.2 1.262431e-15 1.621329e-16\n",
      "[1] \"dim response\"\n",
      "[1] 15084     6\n"
     ]
    },
    {
     "name": "stderr",
     "output_type": "stream",
     "text": [
      "The automatically generated colors map from the 1^st and 99^th of the\n",
      "values in the matrix. There are outliers in the matrix whose patterns\n",
      "might be hidden by this color mapping. You can manually set the color\n",
      "to `col` argument.\n",
      "\n",
      "Use `suppressMessages()` to turn off this message.\n",
      "\n",
      "Saving 6.67 x 6.67 in image\n",
      "\n",
      "Saving 6.67 x 6.67 in image\n",
      "\n",
      "Saving 6.67 x 6.67 in image\n",
      "\n",
      "Saving 6.67 x 6.67 in image\n",
      "\n",
      "Saving 6.67 x 6.67 in image\n",
      "\n"
     ]
    },
    {
     "name": "stdout",
     "output_type": "stream",
     "text": [
      "[1] \"gally\"\n",
      "[1] \"p_val\"        \"avg_log2FC\"   \"pct.1\"        \"pct.2\"        \"p_val_adj\"   \n",
      "[6] \"p_val_adj_BH\"\n"
     ]
    },
    {
     "name": "stderr",
     "output_type": "stream",
     "text": [
      "Saving 6.67 x 6.67 in image\n",
      "\n"
     ]
    },
    {
     "name": "stdout",
     "output_type": "stream",
     "text": [
      "[1] \"X2723T\"\n",
      "[1] \"X2723T\"\n",
      "[1] \"se filt before\"\n",
      "[1] \"se filt\"\n",
      "An object of class Seurat \n",
      "189108 features across 3856 samples within 2 assays \n",
      "Active assay: RNA (19575 features, 0 variable features)\n",
      " 1 other assay present: ATAC\n",
      " 2 dimensional reductions calculated: integrated_lsi, umap\n",
      "[1] \"curr sig\"\n",
      "                     p_val  avg_log2FC pct.1 pct.2    p_val_adj p_val_adj_BH\n",
      "CDK5R1        3.655927e-20 -0.48130927 0.061 0.875 7.156477e-16 5.704709e-16\n",
      "TMSB15A       1.708251e-19 -0.21975642 0.021 0.500 3.343901e-15 1.332777e-15\n",
      "RP11-69H14.10 8.574180e-19 -0.04450613 0.001 0.125 1.678396e-14 4.459717e-15\n",
      "KRTAP12-4     2.702499e-16 -0.09884413 0.002 0.125 5.290142e-12 1.054245e-12\n",
      "RPRML         4.932149e-16 -0.16586013 0.015 0.375 9.654681e-12 1.539225e-12\n",
      "EIF3I         1.874385e-15 -0.55042306 0.080 0.875 3.669109e-11 4.264656e-12\n",
      "[1] \"dim response\"\n",
      "[1] 15604     6\n"
     ]
    },
    {
     "name": "stderr",
     "output_type": "stream",
     "text": [
      "The automatically generated colors map from the 1^st and 99^th of the\n",
      "values in the matrix. There are outliers in the matrix whose patterns\n",
      "might be hidden by this color mapping. You can manually set the color\n",
      "to `col` argument.\n",
      "\n",
      "Use `suppressMessages()` to turn off this message.\n",
      "\n",
      "Saving 6.67 x 6.67 in image\n",
      "\n",
      "Saving 6.67 x 6.67 in image\n",
      "\n",
      "Saving 6.67 x 6.67 in image\n",
      "\n",
      "Saving 6.67 x 6.67 in image\n",
      "\n",
      "Saving 6.67 x 6.67 in image\n",
      "\n"
     ]
    },
    {
     "name": "stdout",
     "output_type": "stream",
     "text": [
      "[1] \"gally\"\n",
      "[1] \"p_val\"        \"avg_log2FC\"   \"pct.1\"        \"pct.2\"        \"p_val_adj\"   \n",
      "[6] \"p_val_adj_BH\"\n"
     ]
    },
    {
     "name": "stderr",
     "output_type": "stream",
     "text": [
      "Saving 6.67 x 6.67 in image\n",
      "\n"
     ]
    },
    {
     "name": "stdout",
     "output_type": "stream",
     "text": [
      "[1] \"X2694T\"\n",
      "[1] \"X2694T\"\n",
      "[1] \"se filt before\"\n",
      "[1] \"se filt\"\n",
      "An object of class Seurat \n",
      "189108 features across 3853 samples within 2 assays \n",
      "Active assay: RNA (19575 features, 0 variable features)\n",
      " 1 other assay present: ATAC\n",
      " 2 dimensional reductions calculated: integrated_lsi, umap\n",
      "[1] \"curr sig\"\n",
      "                     p_val avg_log2FC pct.1 pct.2    p_val_adj p_val_adj_BH\n",
      "PCDH20        2.760265e-23 -0.4283995 0.027 1.000 5.403219e-19 3.948559e-19\n",
      "OR14I1        6.596646e-20 -0.1593555 0.004 0.333 1.291294e-15 4.718251e-16\n",
      "RP11-310K10.1 2.944933e-18 -0.5595897 0.036 1.000 5.764707e-14 1.404242e-14\n",
      "DNAJC22       6.608768e-18 -0.4211960 0.036 1.000 1.293666e-13 2.363461e-14\n",
      "SYT15         9.680616e-18 -0.1879348 0.004 0.333 1.894981e-13 2.769624e-14\n",
      "SOX1          8.629886e-17 -0.5389127 0.018 0.667 1.689300e-12 2.057509e-13\n",
      "[1] \"dim response\"\n",
      "[1] 14305     6\n"
     ]
    },
    {
     "name": "stderr",
     "output_type": "stream",
     "text": [
      "The automatically generated colors map from the 1^st and 99^th of the\n",
      "values in the matrix. There are outliers in the matrix whose patterns\n",
      "might be hidden by this color mapping. You can manually set the color\n",
      "to `col` argument.\n",
      "\n",
      "Use `suppressMessages()` to turn off this message.\n",
      "\n",
      "Saving 6.67 x 6.67 in image\n",
      "\n",
      "Saving 6.67 x 6.67 in image\n",
      "\n",
      "Saving 6.67 x 6.67 in image\n",
      "\n",
      "Saving 6.67 x 6.67 in image\n",
      "\n",
      "Saving 6.67 x 6.67 in image\n",
      "\n"
     ]
    },
    {
     "name": "stdout",
     "output_type": "stream",
     "text": [
      "[1] \"gally\"\n",
      "[1] \"p_val\"        \"avg_log2FC\"   \"pct.1\"        \"pct.2\"        \"p_val_adj\"   \n",
      "[6] \"p_val_adj_BH\"\n"
     ]
    },
    {
     "name": "stderr",
     "output_type": "stream",
     "text": [
      "Saving 6.67 x 6.67 in image\n",
      "\n"
     ]
    },
    {
     "name": "stdout",
     "output_type": "stream",
     "text": [
      "[1] \"X4972A\"\n",
      "[1] \"X4972A\"\n",
      "[1] \"se filt before\"\n",
      "[1] \"se filt\"\n",
      "An object of class Seurat \n",
      "189108 features across 3886 samples within 2 assays \n",
      "Active assay: RNA (19575 features, 0 variable features)\n",
      " 1 other assay present: ATAC\n",
      " 2 dimensional reductions calculated: integrated_lsi, umap\n",
      "[1] \"curr sig\"\n",
      "                p_val  avg_log2FC pct.1 pct.2    p_val_adj p_val_adj_BH\n",
      "GP5      2.676550e-26 -0.29567990 0.047 0.611 5.239346e-22 4.170868e-22\n",
      "C11orf96 6.595208e-20 -0.24134745 0.042 0.500 1.291012e-15 5.138656e-16\n",
      "TMEM88   5.807457e-19 -0.14540008 0.020 0.333 1.136810e-14 3.016587e-15\n",
      "TCAF2    2.453738e-18 -0.09243682 0.010 0.222 4.803192e-14 9.559149e-15\n",
      "SPP1     1.196923e-17 -0.20781419 0.056 0.556 2.342978e-13 3.730332e-14\n",
      "TMEM177  1.741670e-16 -0.21293503 0.060 0.556 3.409320e-12 4.523408e-13\n",
      "[1] \"dim response\"\n",
      "[1] 15583     6\n"
     ]
    },
    {
     "name": "stderr",
     "output_type": "stream",
     "text": [
      "The automatically generated colors map from the 1^st and 99^th of the\n",
      "values in the matrix. There are outliers in the matrix whose patterns\n",
      "might be hidden by this color mapping. You can manually set the color\n",
      "to `col` argument.\n",
      "\n",
      "Use `suppressMessages()` to turn off this message.\n",
      "\n",
      "Saving 6.67 x 6.67 in image\n",
      "\n",
      "Saving 6.67 x 6.67 in image\n",
      "\n",
      "Saving 6.67 x 6.67 in image\n",
      "\n",
      "Saving 6.67 x 6.67 in image\n",
      "\n",
      "Saving 6.67 x 6.67 in image\n",
      "\n"
     ]
    },
    {
     "name": "stdout",
     "output_type": "stream",
     "text": [
      "[1] \"gally\"\n",
      "[1] \"p_val\"        \"avg_log2FC\"   \"pct.1\"        \"pct.2\"        \"p_val_adj\"   \n",
      "[6] \"p_val_adj_BH\"\n"
     ]
    },
    {
     "name": "stderr",
     "output_type": "stream",
     "text": [
      "Saving 6.67 x 6.67 in image\n",
      "\n"
     ]
    },
    {
     "name": "stdout",
     "output_type": "stream",
     "text": [
      "[1] \"X12944A\"\n",
      "[1] \"X12944A\"\n",
      "[1] \"se filt before\"\n",
      "[1] \"se filt\"\n",
      "An object of class Seurat \n",
      "189108 features across 3857 samples within 2 assays \n",
      "Active assay: RNA (19575 features, 0 variable features)\n",
      " 1 other assay present: ATAC\n",
      " 2 dimensional reductions calculated: integrated_lsi, umap\n",
      "[1] \"curr sig\"\n",
      "                      p_val avg_log2FC pct.1 pct.2     p_val_adj  p_val_adj_BH\n",
      "RP11-432M8.12 1.884499e-106 -0.1436429 0.000  0.25 3.688906e-102 2.699168e-102\n",
      "HOXC12         6.787733e-25 -0.4329974 0.019  0.75  1.328699e-20  4.861035e-21\n",
      "HOXB13         7.015918e-24 -0.5092322 0.020  0.75  1.373366e-19  3.349633e-20\n",
      "MAGEA12        9.035092e-19 -0.1405921 0.003  0.25  1.768619e-14  3.235240e-15\n",
      "CSAG1          2.078759e-17 -0.1402968 0.003  0.25  4.069171e-13  5.954814e-14\n",
      "TMEM177        1.792868e-14 -0.5755300 0.059  1.00  3.509538e-10  4.279874e-11\n",
      "[1] \"dim response\"\n",
      "[1] 14323     6\n"
     ]
    },
    {
     "name": "stderr",
     "output_type": "stream",
     "text": [
      "The automatically generated colors map from the 1^st and 99^th of the\n",
      "values in the matrix. There are outliers in the matrix whose patterns\n",
      "might be hidden by this color mapping. You can manually set the color\n",
      "to `col` argument.\n",
      "\n",
      "Use `suppressMessages()` to turn off this message.\n",
      "\n",
      "Saving 6.67 x 6.67 in image\n",
      "\n",
      "Saving 6.67 x 6.67 in image\n",
      "\n",
      "Saving 6.67 x 6.67 in image\n",
      "\n",
      "Saving 6.67 x 6.67 in image\n",
      "\n",
      "Saving 6.67 x 6.67 in image\n",
      "\n"
     ]
    },
    {
     "name": "stdout",
     "output_type": "stream",
     "text": [
      "[1] \"gally\"\n",
      "[1] \"p_val\"        \"avg_log2FC\"   \"pct.1\"        \"pct.2\"        \"p_val_adj\"   \n",
      "[6] \"p_val_adj_BH\"\n"
     ]
    },
    {
     "name": "stderr",
     "output_type": "stream",
     "text": [
      "Saving 6.67 x 6.67 in image\n",
      "\n"
     ]
    },
    {
     "name": "stdout",
     "output_type": "stream",
     "text": [
      "[1] \"X13339A\"\n",
      "[1] \"X13339A\"\n",
      "[1] \"se filt before\"\n",
      "[1] \"se filt\"\n",
      "An object of class Seurat \n",
      "189108 features across 3862 samples within 2 assays \n",
      "Active assay: RNA (19575 features, 0 variable features)\n",
      " 1 other assay present: ATAC\n",
      " 2 dimensional reductions calculated: integrated_lsi, umap\n",
      "[1] \"curr sig\"\n",
      "                 p_val avg_log2FC pct.1 pct.2    p_val_adj p_val_adj_BH\n",
      "HBA2     8.761249e-103 -0.2548316 0.002 0.667 1.715015e-98 1.284049e-98\n",
      "AMELY     1.710367e-71 -0.1431653 0.001 0.333 3.348043e-67 1.253357e-67\n",
      "LCE4A     1.794357e-32 -0.1200540 0.002 0.333 3.512454e-28 8.766032e-29\n",
      "MTRNR2L3  8.339850e-27 -0.1410983 0.003 0.333 1.632526e-22 3.055721e-23\n",
      "CSN2      5.961977e-20 -0.1424665 0.004 0.333 1.167057e-15 1.747575e-16\n",
      "OR10AG1   9.418384e-19 -0.1408995 0.004 0.333 1.843649e-14 2.300597e-15\n",
      "[1] \"dim response\"\n",
      "[1] 14656     6\n"
     ]
    },
    {
     "name": "stderr",
     "output_type": "stream",
     "text": [
      "The automatically generated colors map from the 1^st and 99^th of the\n",
      "values in the matrix. There are outliers in the matrix whose patterns\n",
      "might be hidden by this color mapping. You can manually set the color\n",
      "to `col` argument.\n",
      "\n",
      "Use `suppressMessages()` to turn off this message.\n",
      "\n",
      "Saving 6.67 x 6.67 in image\n",
      "\n",
      "Saving 6.67 x 6.67 in image\n",
      "\n",
      "Saving 6.67 x 6.67 in image\n",
      "\n",
      "Saving 6.67 x 6.67 in image\n",
      "\n",
      "Saving 6.67 x 6.67 in image\n",
      "\n"
     ]
    },
    {
     "name": "stdout",
     "output_type": "stream",
     "text": [
      "[1] \"gally\"\n",
      "[1] \"p_val\"        \"avg_log2FC\"   \"pct.1\"        \"pct.2\"        \"p_val_adj\"   \n",
      "[6] \"p_val_adj_BH\"\n"
     ]
    },
    {
     "name": "stderr",
     "output_type": "stream",
     "text": [
      "Saving 6.67 x 6.67 in image\n",
      "\n"
     ]
    },
    {
     "name": "stdout",
     "output_type": "stream",
     "text": [
      "[1] \"X14991A\"\n",
      "[1] \"X14991A\"\n",
      "[1] \"se filt before\"\n",
      "[1] \"se filt\"\n",
      "An object of class Seurat \n",
      "189108 features across 3861 samples within 2 assays \n",
      "Active assay: RNA (19575 features, 0 variable features)\n",
      " 1 other assay present: ATAC\n",
      " 2 dimensional reductions calculated: integrated_lsi, umap\n",
      "[1] \"curr sig\"\n",
      "                 p_val avg_log2FC pct.1 pct.2    p_val_adj p_val_adj_BH\n",
      "C10orf142 4.291281e-38 -0.2635553 0.007 0.667 8.400183e-34 6.245101e-34\n",
      "SLITRK2   2.662166e-20 -0.2545818 0.014 0.667 5.211189e-16 1.937125e-16\n",
      "NBPF4     9.129551e-19 -0.1260798 0.004 0.333 1.787110e-14 4.428745e-15\n",
      "UTF1      7.466274e-18 -0.2526161 0.016 0.667 1.461523e-13 2.716417e-14\n",
      "TBC1D3B   2.305737e-13 -0.1508988 0.006 0.333 4.513480e-09 5.757117e-10\n",
      "TRIM73    2.373580e-13 -0.1471388 0.006 0.333 4.646282e-09 5.757117e-10\n",
      "[1] \"dim response\"\n",
      "[1] 14553     6\n"
     ]
    },
    {
     "name": "stderr",
     "output_type": "stream",
     "text": [
      "The automatically generated colors map from the 1^st and 99^th of the\n",
      "values in the matrix. There are outliers in the matrix whose patterns\n",
      "might be hidden by this color mapping. You can manually set the color\n",
      "to `col` argument.\n",
      "\n",
      "Use `suppressMessages()` to turn off this message.\n",
      "\n",
      "Saving 6.67 x 6.67 in image\n",
      "\n",
      "Saving 6.67 x 6.67 in image\n",
      "\n",
      "Saving 6.67 x 6.67 in image\n",
      "\n",
      "Saving 6.67 x 6.67 in image\n",
      "\n",
      "Saving 6.67 x 6.67 in image\n",
      "\n"
     ]
    },
    {
     "name": "stdout",
     "output_type": "stream",
     "text": [
      "[1] \"gally\"\n",
      "[1] \"p_val\"        \"avg_log2FC\"   \"pct.1\"        \"pct.2\"        \"p_val_adj\"   \n",
      "[6] \"p_val_adj_BH\"\n"
     ]
    },
    {
     "name": "stderr",
     "output_type": "stream",
     "text": [
      "Saving 6.67 x 6.67 in image\n",
      "\n"
     ]
    },
    {
     "name": "stdout",
     "output_type": "stream",
     "text": [
      "[1] \"X2653A\"\n",
      "[1] \"X2653A\"\n",
      "[1] \"se filt before\"\n",
      "[1] \"se filt\"\n",
      "An object of class Seurat \n",
      "189108 features across 3859 samples within 2 assays \n",
      "Active assay: RNA (19575 features, 0 variable features)\n",
      " 1 other assay present: ATAC\n",
      " 2 dimensional reductions calculated: integrated_lsi, umap\n",
      "Error in ValidateCellGroups(object = object, cells.1 = cells.1, cells.2 = cells.2,  : \n",
      "  Cell group 2 has fewer than 3 cells\n",
      "[1] \"X13169C\"\n",
      "[1] \"X13169C\"\n",
      "[1] \"se filt before\"\n",
      "[1] \"se filt\"\n",
      "An object of class Seurat \n",
      "189108 features across 3915 samples within 2 assays \n",
      "Active assay: RNA (19575 features, 0 variable features)\n",
      " 1 other assay present: ATAC\n",
      " 2 dimensional reductions calculated: integrated_lsi, umap\n",
      "[1] \"curr sig\"\n",
      "               p_val  avg_log2FC pct.1 pct.2    p_val_adj p_val_adj_BH\n",
      "C2CD4D  1.327024e-26 -0.20661165 0.015 0.304 2.597650e-22 2.008982e-22\n",
      "PCDH20  2.152323e-19 -0.21603830 0.027 0.348 4.213173e-15 1.629201e-15\n",
      "TMUB1   1.588834e-17 -0.31885276 0.062 0.522 3.110142e-13 8.017786e-14\n",
      "LSM7    1.265896e-15 -0.20994203 0.068 0.522 2.477992e-11 4.015401e-12\n",
      "LRRC32  1.326178e-15 -0.28140360 0.060 0.478 2.595993e-11 4.015401e-12\n",
      "TMEM88B 3.274129e-15 -0.07993312 0.009 0.174 6.409107e-11 7.983808e-12\n",
      "[1] \"dim response\"\n",
      "[1] 15139     6\n"
     ]
    },
    {
     "name": "stderr",
     "output_type": "stream",
     "text": [
      "The automatically generated colors map from the 1^st and 99^th of the\n",
      "values in the matrix. There are outliers in the matrix whose patterns\n",
      "might be hidden by this color mapping. You can manually set the color\n",
      "to `col` argument.\n",
      "\n",
      "Use `suppressMessages()` to turn off this message.\n",
      "\n",
      "Saving 6.67 x 6.67 in image\n",
      "\n",
      "Saving 6.67 x 6.67 in image\n",
      "\n",
      "Saving 6.67 x 6.67 in image\n",
      "\n",
      "Saving 6.67 x 6.67 in image\n",
      "\n",
      "Saving 6.67 x 6.67 in image\n",
      "\n"
     ]
    },
    {
     "name": "stdout",
     "output_type": "stream",
     "text": [
      "[1] \"gally\"\n",
      "[1] \"p_val\"        \"avg_log2FC\"   \"pct.1\"        \"pct.2\"        \"p_val_adj\"   \n",
      "[6] \"p_val_adj_BH\"\n"
     ]
    },
    {
     "name": "stderr",
     "output_type": "stream",
     "text": [
      "Saving 6.67 x 6.67 in image\n",
      "\n"
     ]
    },
    {
     "name": "stdout",
     "output_type": "stream",
     "text": [
      "[1] \"X5357C\"\n",
      "[1] \"X5357C\"\n",
      "[1] \"se filt before\"\n",
      "[1] \"se filt\"\n",
      "An object of class Seurat \n",
      "189108 features across 3873 samples within 2 assays \n",
      "Active assay: RNA (19575 features, 0 variable features)\n",
      " 1 other assay present: ATAC\n",
      " 2 dimensional reductions calculated: integrated_lsi, umap\n",
      "[1] \"curr sig\"\n",
      "                p_val  avg_log2FC pct.1 pct.2    p_val_adj p_val_adj_BH\n",
      "PRODH    1.646416e-36 -0.09063491 0.001  0.25 3.222859e-32 2.415457e-32\n",
      "GPR81    6.699988e-23 -0.57531819 0.037  1.00 1.311523e-18 4.914777e-19\n",
      "LKAAEAR1 7.166720e-16 -0.42658384 0.031  0.75 1.402885e-11 3.504765e-12\n",
      "DEFB127  1.674182e-14 -0.31435372 0.004  0.25 3.277210e-10 6.140479e-11\n",
      "PCDHB10  2.219678e-14 -0.12374024 0.004  0.25 4.345021e-10 6.512980e-11\n",
      "C15orf62 1.401241e-12 -0.47923942 0.067  1.00 2.742929e-08 3.426268e-09\n",
      "[1] \"dim response\"\n",
      "[1] 14671     6\n"
     ]
    },
    {
     "name": "stderr",
     "output_type": "stream",
     "text": [
      "The automatically generated colors map from the 1^st and 99^th of the\n",
      "values in the matrix. There are outliers in the matrix whose patterns\n",
      "might be hidden by this color mapping. You can manually set the color\n",
      "to `col` argument.\n",
      "\n",
      "Use `suppressMessages()` to turn off this message.\n",
      "\n",
      "Saving 6.67 x 6.67 in image\n",
      "\n",
      "Saving 6.67 x 6.67 in image\n",
      "\n",
      "Saving 6.67 x 6.67 in image\n",
      "\n",
      "Saving 6.67 x 6.67 in image\n",
      "\n",
      "Saving 6.67 x 6.67 in image\n",
      "\n"
     ]
    },
    {
     "name": "stdout",
     "output_type": "stream",
     "text": [
      "[1] \"gally\"\n",
      "[1] \"p_val\"        \"avg_log2FC\"   \"pct.1\"        \"pct.2\"        \"p_val_adj\"   \n",
      "[6] \"p_val_adj_BH\"\n"
     ]
    },
    {
     "name": "stderr",
     "output_type": "stream",
     "text": [
      "Saving 6.67 x 6.67 in image\n",
      "\n"
     ]
    },
    {
     "name": "stdout",
     "output_type": "stream",
     "text": [
      "[1] \"X13850T\"\n",
      "[1] \"X13850T\"\n",
      "[1] \"se filt before\"\n",
      "[1] \"se filt\"\n",
      "An object of class Seurat \n",
      "189108 features across 3869 samples within 2 assays \n",
      "Active assay: RNA (19575 features, 0 variable features)\n",
      " 1 other assay present: ATAC\n",
      " 2 dimensional reductions calculated: integrated_lsi, umap\n",
      "[1] \"curr sig\"\n",
      "                p_val avg_log2FC pct.1 pct.2    p_val_adj p_val_adj_BH\n",
      "CBS      1.276519e-71 -0.1303022 0.001 0.333 2.498786e-67 1.818785e-67\n",
      "FSHB     1.769515e-41 -0.1294281 0.002 0.333 3.463827e-37 1.260603e-37\n",
      "OR10J5   1.906268e-36 -0.1294659 0.002 0.333 3.731520e-32 9.053504e-33\n",
      "KRTAP9-8 1.102828e-24 -0.1256742 0.003 0.333 2.158785e-20 3.928272e-21\n",
      "OR6K2    5.761497e-20 -0.1320247 0.004 0.333 1.127813e-15 1.368163e-16\n",
      "CGB5     5.761497e-20 -0.1265999 0.004 0.333 1.127813e-15 1.368163e-16\n",
      "[1] \"dim response\"\n",
      "[1] 14248     6\n"
     ]
    },
    {
     "name": "stderr",
     "output_type": "stream",
     "text": [
      "Saving 6.67 x 6.67 in image\n",
      "\n",
      "Saving 6.67 x 6.67 in image\n",
      "\n",
      "Saving 6.67 x 6.67 in image\n",
      "\n",
      "Saving 6.67 x 6.67 in image\n",
      "\n",
      "Saving 6.67 x 6.67 in image\n",
      "\n"
     ]
    },
    {
     "name": "stdout",
     "output_type": "stream",
     "text": [
      "[1] \"gally\"\n",
      "[1] \"p_val\"        \"avg_log2FC\"   \"pct.1\"        \"pct.2\"        \"p_val_adj\"   \n",
      "[6] \"p_val_adj_BH\"\n"
     ]
    },
    {
     "name": "stderr",
     "output_type": "stream",
     "text": [
      "Saving 6.67 x 6.67 in image\n",
      "\n"
     ]
    },
    {
     "name": "stdout",
     "output_type": "stream",
     "text": [
      "[1] \"X6142T\"\n",
      "[1] \"X6142T\"\n",
      "[1] \"se filt before\"\n",
      "[1] \"se filt\"\n",
      "An object of class Seurat \n",
      "189108 features across 3872 samples within 2 assays \n",
      "Active assay: RNA (19575 features, 0 variable features)\n",
      " 1 other assay present: ATAC\n",
      " 2 dimensional reductions calculated: integrated_lsi, umap\n",
      "[1] \"curr sig\"\n",
      "               p_val  avg_log2FC pct.1 pct.2    p_val_adj p_val_adj_BH\n",
      "RIMBP3C 1.129436e-27 -0.10036355 0.002  0.25 2.210872e-23 1.641410e-23\n",
      "NPIPB15 3.900450e-25 -0.29630869 0.019  0.75 7.635131e-21 2.834262e-21\n",
      "KCNA1   1.714700e-20 -0.52481972 0.024  0.75 3.356526e-16 8.306579e-17\n",
      "FIBIN   2.772166e-16 -0.09910556 0.003  0.25 5.426515e-12 1.007197e-12\n",
      "LRRC37A 2.782978e-15 -0.56528282 0.056  1.00 5.447680e-11 5.782812e-12\n",
      "TAS2R20 2.785363e-15 -0.12675260 0.004  0.25 5.452349e-11 5.782812e-12\n",
      "[1] \"dim response\"\n",
      "[1] 14533     6\n"
     ]
    },
    {
     "name": "stderr",
     "output_type": "stream",
     "text": [
      "The automatically generated colors map from the 1^st and 99^th of the\n",
      "values in the matrix. There are outliers in the matrix whose patterns\n",
      "might be hidden by this color mapping. You can manually set the color\n",
      "to `col` argument.\n",
      "\n",
      "Use `suppressMessages()` to turn off this message.\n",
      "\n",
      "Saving 6.67 x 6.67 in image\n",
      "\n",
      "Saving 6.67 x 6.67 in image\n",
      "\n",
      "Saving 6.67 x 6.67 in image\n",
      "\n",
      "Saving 6.67 x 6.67 in image\n",
      "\n",
      "Saving 6.67 x 6.67 in image\n",
      "\n"
     ]
    },
    {
     "name": "stdout",
     "output_type": "stream",
     "text": [
      "[1] \"gally\"\n",
      "[1] \"p_val\"        \"avg_log2FC\"   \"pct.1\"        \"pct.2\"        \"p_val_adj\"   \n",
      "[6] \"p_val_adj_BH\"\n"
     ]
    },
    {
     "name": "stderr",
     "output_type": "stream",
     "text": [
      "Saving 6.67 x 6.67 in image\n",
      "\n"
     ]
    },
    {
     "name": "stdout",
     "output_type": "stream",
     "text": [
      "[1] \"X6532C\"\n",
      "[1] \"X6532C\"\n",
      "[1] \"se filt before\"\n",
      "[1] \"se filt\"\n",
      "An object of class Seurat \n",
      "189108 features across 3872 samples within 2 assays \n",
      "Active assay: RNA (19575 features, 0 variable features)\n",
      " 1 other assay present: ATAC\n",
      " 2 dimensional reductions calculated: integrated_lsi, umap\n",
      "[1] \"curr sig\"\n",
      "                     p_val  avg_log2FC pct.1 pct.2    p_val_adj p_val_adj_BH\n",
      "RP11-432M8.12 8.301244e-86 -0.11596640 0.000   0.2 1.624969e-81 1.258137e-81\n",
      "FRG2          4.142823e-35 -0.10553193 0.001   0.2 8.109576e-31 2.092954e-31\n",
      "OR1G1         4.142823e-35 -0.08506672 0.001   0.2 8.109576e-31 2.092954e-31\n",
      "ANKRD20A1     3.825083e-18 -0.10410390 0.002   0.2 7.487601e-14 1.206832e-14\n",
      "OR1L1         3.981368e-18 -0.10403116 0.002   0.2 7.793528e-14 1.206832e-14\n",
      "MAGEA12       2.693164e-15 -0.11292666 0.003   0.2 5.271869e-11 6.802932e-12\n",
      "[1] \"dim response\"\n",
      "[1] 15156     6\n"
     ]
    },
    {
     "name": "stderr",
     "output_type": "stream",
     "text": [
      "Saving 6.67 x 6.67 in image\n",
      "\n",
      "Saving 6.67 x 6.67 in image\n",
      "\n",
      "Saving 6.67 x 6.67 in image\n",
      "\n",
      "Saving 6.67 x 6.67 in image\n",
      "\n",
      "Saving 6.67 x 6.67 in image\n",
      "\n"
     ]
    },
    {
     "name": "stdout",
     "output_type": "stream",
     "text": [
      "[1] \"gally\"\n",
      "[1] \"p_val\"        \"avg_log2FC\"   \"pct.1\"        \"pct.2\"        \"p_val_adj\"   \n",
      "[6] \"p_val_adj_BH\"\n"
     ]
    },
    {
     "name": "stderr",
     "output_type": "stream",
     "text": [
      "Saving 6.67 x 6.67 in image\n",
      "\n"
     ]
    },
    {
     "name": "stdout",
     "output_type": "stream",
     "text": [
      "[1] \"X13246A\"\n",
      "[1] \"X13246A\"\n",
      "[1] \"se filt before\"\n",
      "[1] \"se filt\"\n",
      "An object of class Seurat \n",
      "189108 features across 3884 samples within 2 assays \n",
      "Active assay: RNA (19575 features, 0 variable features)\n",
      " 1 other assay present: ATAC\n",
      " 2 dimensional reductions calculated: integrated_lsi, umap\n",
      "[1] \"curr sig\"\n",
      "              p_val  avg_log2FC pct.1 pct.2    p_val_adj p_val_adj_BH\n",
      "TKTL2  4.590416e-25 -0.05809247 0.003   0.2 8.985738e-21 7.319877e-21\n",
      "CBS    1.694161e-22 -0.03962071 0.001   0.1 3.316320e-18 1.350755e-18\n",
      "OR8S1  1.199558e-18 -0.05361295 0.004   0.2 2.348134e-14 6.376049e-15\n",
      "GSC    6.486669e-16 -0.31146770 0.032   0.5 1.269765e-11 2.585911e-12\n",
      "SDHAF4 1.109554e-13 -0.33774770 0.069   0.7 2.171952e-09 3.538589e-10\n",
      "GK2    2.549620e-13 -0.02739591 0.002   0.1 4.990881e-09 5.808034e-10\n",
      "[1] \"dim response\"\n",
      "[1] 15946     6\n"
     ]
    },
    {
     "name": "stderr",
     "output_type": "stream",
     "text": [
      "The automatically generated colors map from the 1^st and 99^th of the\n",
      "values in the matrix. There are outliers in the matrix whose patterns\n",
      "might be hidden by this color mapping. You can manually set the color\n",
      "to `col` argument.\n",
      "\n",
      "Use `suppressMessages()` to turn off this message.\n",
      "\n",
      "Saving 6.67 x 6.67 in image\n",
      "\n",
      "Saving 6.67 x 6.67 in image\n",
      "\n",
      "Saving 6.67 x 6.67 in image\n",
      "\n",
      "Saving 6.67 x 6.67 in image\n",
      "\n",
      "Saving 6.67 x 6.67 in image\n",
      "\n"
     ]
    },
    {
     "name": "stdout",
     "output_type": "stream",
     "text": [
      "[1] \"gally\"\n",
      "[1] \"p_val\"        \"avg_log2FC\"   \"pct.1\"        \"pct.2\"        \"p_val_adj\"   \n",
      "[6] \"p_val_adj_BH\"\n"
     ]
    },
    {
     "name": "stderr",
     "output_type": "stream",
     "text": [
      "Saving 6.67 x 6.67 in image\n",
      "\n"
     ]
    },
    {
     "name": "stdout",
     "output_type": "stream",
     "text": [
      "[1] \"X3402T\"\n",
      "[1] \"X3402T\"\n",
      "[1] \"se filt before\"\n",
      "[1] \"se filt\"\n",
      "An object of class Seurat \n",
      "189108 features across 3873 samples within 2 assays \n",
      "Active assay: RNA (19575 features, 0 variable features)\n",
      " 1 other assay present: ATAC\n",
      " 2 dimensional reductions calculated: integrated_lsi, umap\n",
      "[1] \"curr sig\"\n",
      "                   p_val avg_log2FC pct.1 pct.2    p_val_adj p_val_adj_BH\n",
      "OR5M11      9.935639e-72 -0.1131606 0.001  0.25 1.944901e-67 1.457856e-67\n",
      "FRG2B       1.456285e-43 -0.1012667 0.001  0.25 2.850678e-39 1.068404e-39\n",
      "KRT27       2.637196e-33 -0.2334619 0.006  0.50 5.162312e-29 1.289853e-29\n",
      "RP11-56H2.1 7.075772e-25 -0.3257125 0.009  0.50 1.385082e-20 2.595570e-21\n",
      "KRTAP4-8    9.860112e-25 -0.1110313 0.002  0.25 1.930117e-20 2.893549e-21\n",
      "RAB40AL     1.778682e-17 -0.1460715 0.003  0.25 3.481770e-13 3.874690e-14\n",
      "[1] \"dim response\"\n",
      "[1] 14673     6\n"
     ]
    },
    {
     "name": "stderr",
     "output_type": "stream",
     "text": [
      "Saving 6.67 x 6.67 in image\n",
      "\n",
      "Saving 6.67 x 6.67 in image\n",
      "\n",
      "Saving 6.67 x 6.67 in image\n",
      "\n",
      "Saving 6.67 x 6.67 in image\n",
      "\n",
      "Saving 6.67 x 6.67 in image\n",
      "\n"
     ]
    },
    {
     "name": "stdout",
     "output_type": "stream",
     "text": [
      "[1] \"gally\"\n",
      "[1] \"p_val\"        \"avg_log2FC\"   \"pct.1\"        \"pct.2\"        \"p_val_adj\"   \n",
      "[6] \"p_val_adj_BH\"\n"
     ]
    },
    {
     "name": "stderr",
     "output_type": "stream",
     "text": [
      "Saving 6.67 x 6.67 in image\n",
      "\n"
     ]
    },
    {
     "name": "stdout",
     "output_type": "stream",
     "text": [
      "[1] \"X7032A\"\n",
      "[1] \"X7032A\"\n",
      "[1] \"se filt before\"\n",
      "[1] \"se filt\"\n",
      "An object of class Seurat \n",
      "189108 features across 3874 samples within 2 assays \n",
      "Active assay: RNA (19575 features, 0 variable features)\n",
      " 1 other assay present: ATAC\n",
      " 2 dimensional reductions calculated: integrated_lsi, umap\n",
      "[1] \"curr sig\"\n",
      "                  p_val avg_log2FC pct.1 pct.2    p_val_adj p_val_adj_BH\n",
      "KRTAP4-9   1.427187e-41 -0.1431512 0.002 0.333 2.793719e-37 2.037167e-37\n",
      "MAGEA3     1.716586e-36 -0.1423042 0.002 0.333 3.360216e-32 1.225127e-32\n",
      "NBPF6      1.434590e-32 -0.1421869 0.002 0.333 2.808209e-28 6.825778e-29\n",
      "KRTAP4-16P 7.376736e-27 -0.1409706 0.003 0.333 1.443996e-22 2.632388e-23\n",
      "DEFB131    6.389819e-23 -0.1411548 0.003 0.333 1.250807e-18 1.824165e-19\n",
      "HTN3       2.428144e-21 -0.1410264 0.003 0.333 4.753091e-17 5.776554e-18\n",
      "[1] \"dim response\"\n",
      "[1] 14274     6\n"
     ]
    },
    {
     "name": "stderr",
     "output_type": "stream",
     "text": [
      "Saving 6.67 x 6.67 in image\n",
      "\n",
      "Saving 6.67 x 6.67 in image\n",
      "\n",
      "Saving 6.67 x 6.67 in image\n",
      "\n",
      "Saving 6.67 x 6.67 in image\n",
      "\n",
      "Saving 6.67 x 6.67 in image\n",
      "\n"
     ]
    },
    {
     "name": "stdout",
     "output_type": "stream",
     "text": [
      "[1] \"gally\"\n",
      "[1] \"p_val\"        \"avg_log2FC\"   \"pct.1\"        \"pct.2\"        \"p_val_adj\"   \n",
      "[6] \"p_val_adj_BH\"\n"
     ]
    },
    {
     "name": "stderr",
     "output_type": "stream",
     "text": [
      "Saving 6.67 x 6.67 in image\n",
      "\n"
     ]
    },
    {
     "name": "stdout",
     "output_type": "stream",
     "text": [
      "[1] \"X8285A\"\n",
      "[1] \"X8285A\"\n",
      "[1] \"se filt before\"\n",
      "[1] \"se filt\"\n",
      "An object of class Seurat \n",
      "189108 features across 3874 samples within 2 assays \n",
      "Active assay: RNA (19575 features, 0 variable features)\n",
      " 1 other assay present: ATAC\n",
      " 2 dimensional reductions calculated: integrated_lsi, umap\n",
      "[1] \"curr sig\"\n",
      "                 p_val avg_log2FC pct.1 pct.2    p_val_adj p_val_adj_BH\n",
      "AMELY     1.035784e-71 -0.1647199 0.001 0.333 2.027547e-67 1.497226e-67\n",
      "FRG2B     1.234065e-57 -0.1339245 0.001 0.333 2.415683e-53 8.919206e-54\n",
      "SPATA31A6 1.434590e-32 -0.1614464 0.002 0.333 2.808209e-28 6.912332e-29\n",
      "PNMA3     7.668801e-29 -0.2740349 0.010 0.667 1.501168e-24 2.771313e-25\n",
      "CFC1      2.428144e-21 -0.1317986 0.003 0.333 4.753091e-17 7.019763e-18\n",
      "RIPPLY1   8.298898e-19 -0.1598748 0.004 0.333 1.624509e-14 1.999343e-15\n",
      "[1] \"dim response\"\n",
      "[1] 14455     6\n"
     ]
    },
    {
     "name": "stderr",
     "output_type": "stream",
     "text": [
      "The automatically generated colors map from the 1^st and 99^th of the\n",
      "values in the matrix. There are outliers in the matrix whose patterns\n",
      "might be hidden by this color mapping. You can manually set the color\n",
      "to `col` argument.\n",
      "\n",
      "Use `suppressMessages()` to turn off this message.\n",
      "\n",
      "Saving 6.67 x 6.67 in image\n",
      "\n",
      "Saving 6.67 x 6.67 in image\n",
      "\n",
      "Saving 6.67 x 6.67 in image\n",
      "\n",
      "Saving 6.67 x 6.67 in image\n",
      "\n",
      "Saving 6.67 x 6.67 in image\n",
      "\n"
     ]
    },
    {
     "name": "stdout",
     "output_type": "stream",
     "text": [
      "[1] \"gally\"\n",
      "[1] \"p_val\"        \"avg_log2FC\"   \"pct.1\"        \"pct.2\"        \"p_val_adj\"   \n",
      "[6] \"p_val_adj_BH\"\n"
     ]
    },
    {
     "name": "stderr",
     "output_type": "stream",
     "text": [
      "Saving 6.67 x 6.67 in image\n",
      "\n"
     ]
    },
    {
     "name": "stdout",
     "output_type": "stream",
     "text": [
      "[1] \"X2757G\"\n",
      "[1] \"X2757G\"\n",
      "[1] \"se filt before\"\n",
      "[1] \"se filt\"\n",
      "An object of class Seurat \n",
      "189108 features across 3912 samples within 2 assays \n",
      "Active assay: RNA (19575 features, 0 variable features)\n",
      " 1 other assay present: ATAC\n",
      " 2 dimensional reductions calculated: integrated_lsi, umap\n",
      "[1] \"curr sig\"\n",
      "               p_val  avg_log2FC pct.1 pct.2    p_val_adj p_val_adj_BH\n",
      "C2CD4D  2.225789e-61 -0.25158323 0.015 0.562 4.356982e-57 3.433725e-57\n",
      "GRASP   6.305886e-20 -0.46871596 0.093 0.812 1.234377e-15 4.864045e-16\n",
      "OXT     4.399607e-19 -0.14524639 0.023 0.375 8.612231e-15 2.262425e-15\n",
      "TKTL2   4.499574e-16 -0.04875405 0.003 0.125 8.807915e-12 1.401033e-12\n",
      "ADAMTS1 5.380460e-16 -0.21429223 0.057 0.562 1.053225e-11 1.401033e-12\n",
      "GLOD5   5.449016e-16 -0.10229904 0.013 0.250 1.066645e-11 1.401033e-12\n",
      "[1] \"dim response\"\n",
      "[1] 15427     6\n"
     ]
    },
    {
     "name": "stderr",
     "output_type": "stream",
     "text": [
      "The automatically generated colors map from the 1^st and 99^th of the\n",
      "values in the matrix. There are outliers in the matrix whose patterns\n",
      "might be hidden by this color mapping. You can manually set the color\n",
      "to `col` argument.\n",
      "\n",
      "Use `suppressMessages()` to turn off this message.\n",
      "\n",
      "Saving 6.67 x 6.67 in image\n",
      "\n",
      "Saving 6.67 x 6.67 in image\n",
      "\n",
      "Saving 6.67 x 6.67 in image\n",
      "\n",
      "Saving 6.67 x 6.67 in image\n",
      "\n",
      "Saving 6.67 x 6.67 in image\n",
      "\n"
     ]
    },
    {
     "name": "stdout",
     "output_type": "stream",
     "text": [
      "[1] \"gally\"\n",
      "[1] \"p_val\"        \"avg_log2FC\"   \"pct.1\"        \"pct.2\"        \"p_val_adj\"   \n",
      "[6] \"p_val_adj_BH\"\n"
     ]
    },
    {
     "name": "stderr",
     "output_type": "stream",
     "text": [
      "Saving 6.67 x 6.67 in image\n",
      "\n"
     ]
    },
    {
     "name": "stdout",
     "output_type": "stream",
     "text": [
      "[1] \"X9476T\"\n",
      "[1] \"X9476T\"\n",
      "[1] \"se filt before\"\n",
      "[1] \"se filt\"\n",
      "An object of class Seurat \n",
      "189108 features across 3878 samples within 2 assays \n",
      "Active assay: RNA (19575 features, 0 variable features)\n",
      " 1 other assay present: ATAC\n",
      " 2 dimensional reductions calculated: integrated_lsi, umap\n",
      "Error in ValidateCellGroups(object = object, cells.1 = cells.1, cells.2 = cells.2,  : \n",
      "  Cell group 2 has fewer than 3 cells\n",
      "[1] \"X5273T\"\n",
      "[1] \"X5273T\"\n",
      "[1] \"se filt before\"\n",
      "[1] \"se filt\"\n",
      "An object of class Seurat \n",
      "189108 features across 3888 samples within 2 assays \n",
      "Active assay: RNA (19575 features, 0 variable features)\n",
      " 1 other assay present: ATAC\n",
      " 2 dimensional reductions calculated: integrated_lsi, umap\n",
      "[1] \"curr sig\"\n",
      "               p_val  avg_log2FC pct.1 pct.2    p_val_adj p_val_adj_BH\n",
      "TAS2R16 1.388645e-31 -0.10700029 0.002  0.25 2.718272e-27 1.026417e-27\n",
      "FSHB    1.388645e-31 -0.10712279 0.002  0.25 2.718272e-27 1.026417e-27\n",
      "TNP1    7.990412e-25 -0.10690104 0.002  0.25 1.564123e-20 3.937408e-21\n",
      "OR2A2   1.633464e-20 -0.08828732 0.003  0.25 3.197506e-16 6.036874e-17\n",
      "FLG2    5.978525e-20 -0.17751484 0.011  0.50 1.170296e-15 1.767611e-16\n",
      "RD3L    8.717988e-18 -0.36781668 0.012  0.50 1.706546e-13 2.147967e-14\n",
      "[1] \"dim response\"\n",
      "[1] 14783     6\n"
     ]
    },
    {
     "name": "stderr",
     "output_type": "stream",
     "text": [
      "The automatically generated colors map from the 1^st and 99^th of the\n",
      "values in the matrix. There are outliers in the matrix whose patterns\n",
      "might be hidden by this color mapping. You can manually set the color\n",
      "to `col` argument.\n",
      "\n",
      "Use `suppressMessages()` to turn off this message.\n",
      "\n",
      "Saving 6.67 x 6.67 in image\n",
      "\n",
      "Saving 6.67 x 6.67 in image\n",
      "\n",
      "Saving 6.67 x 6.67 in image\n",
      "\n",
      "Saving 6.67 x 6.67 in image\n",
      "\n",
      "Saving 6.67 x 6.67 in image\n",
      "\n"
     ]
    },
    {
     "name": "stdout",
     "output_type": "stream",
     "text": [
      "[1] \"gally\"\n",
      "[1] \"p_val\"        \"avg_log2FC\"   \"pct.1\"        \"pct.2\"        \"p_val_adj\"   \n",
      "[6] \"p_val_adj_BH\"\n"
     ]
    },
    {
     "name": "stderr",
     "output_type": "stream",
     "text": [
      "Saving 6.67 x 6.67 in image\n",
      "\n"
     ]
    },
    {
     "name": "stdout",
     "output_type": "stream",
     "text": [
      "[1] \"X12079T\"\n",
      "[1] \"X12079T\"\n",
      "[1] \"se filt before\"\n",
      "[1] \"se filt\"\n",
      "An object of class Seurat \n",
      "189108 features across 3887 samples within 2 assays \n",
      "Active assay: RNA (19575 features, 0 variable features)\n",
      " 1 other assay present: ATAC\n",
      " 2 dimensional reductions calculated: integrated_lsi, umap\n",
      "[1] \"curr sig\"\n",
      "                 p_val avg_log2FC pct.1 pct.2    p_val_adj p_val_adj_BH\n",
      "OR5D18    2.113891e-48 -0.1124144 0.001 0.333 4.137942e-44 1.573052e-44\n",
      "KRTAP20-1 2.113891e-48 -0.1122914 0.001 0.333 4.137942e-44 1.573052e-44\n",
      "OR4F4     1.150067e-41 -0.1121770 0.002 0.333 2.251255e-37 5.705480e-38\n",
      "OR4S2     1.307130e-36 -0.1342052 0.002 0.333 2.558707e-32 4.863505e-33\n",
      "MYL7      5.736079e-34 -0.2304403 0.008 0.667 1.122837e-29 1.707401e-30\n",
      "KRTAP1-4  1.592038e-29 -0.1108121 0.002 0.333 3.116415e-25 3.949051e-26\n",
      "[1] \"dim response\"\n",
      "[1] 14883     6\n"
     ]
    },
    {
     "name": "stderr",
     "output_type": "stream",
     "text": [
      "Saving 6.67 x 6.67 in image\n",
      "\n",
      "Saving 6.67 x 6.67 in image\n",
      "\n",
      "Saving 6.67 x 6.67 in image\n",
      "\n",
      "Saving 6.67 x 6.67 in image\n",
      "\n",
      "Saving 6.67 x 6.67 in image\n",
      "\n"
     ]
    },
    {
     "name": "stdout",
     "output_type": "stream",
     "text": [
      "[1] \"gally\"\n",
      "[1] \"p_val\"        \"avg_log2FC\"   \"pct.1\"        \"pct.2\"        \"p_val_adj\"   \n",
      "[6] \"p_val_adj_BH\"\n"
     ]
    },
    {
     "name": "stderr",
     "output_type": "stream",
     "text": [
      "Saving 6.67 x 6.67 in image\n",
      "\n"
     ]
    },
    {
     "name": "stdout",
     "output_type": "stream",
     "text": [
      "[1] \"X3673C\"\n",
      "[1] \"X3673C\"\n",
      "[1] \"se filt before\"\n",
      "[1] \"se filt\"\n",
      "An object of class Seurat \n",
      "189108 features across 3907 samples within 2 assays \n",
      "Active assay: RNA (19575 features, 0 variable features)\n",
      " 1 other assay present: ATAC\n",
      " 2 dimensional reductions calculated: integrated_lsi, umap\n",
      "[1] \"curr sig\"\n",
      "               p_val  avg_log2FC pct.1 pct.2    p_val_adj p_val_adj_BH\n",
      "UGT2B15 2.832855e-18 -0.48067544 0.012 0.333 5.545314e-14 4.461747e-14\n",
      "AIF1    3.071037e-16 -0.30512693 0.063 0.778 6.011555e-12 2.418442e-12\n",
      "LOX     3.699667e-13 -0.25471569 0.058 0.667 7.242098e-09 1.844561e-09\n",
      "OR4A15  4.684599e-13 -0.06562572 0.002 0.111 9.170103e-09 1.844561e-09\n",
      "VWA1    1.295542e-12 -0.38614405 0.083 0.778 2.536024e-08 4.080958e-09\n",
      "CHRNE   3.901133e-12 -0.60574854 0.115 0.889 7.636468e-08 1.024047e-08\n",
      "[1] \"dim response\"\n",
      "[1] 15750     6\n"
     ]
    },
    {
     "name": "stderr",
     "output_type": "stream",
     "text": [
      "The automatically generated colors map from the 1^st and 99^th of the\n",
      "values in the matrix. There are outliers in the matrix whose patterns\n",
      "might be hidden by this color mapping. You can manually set the color\n",
      "to `col` argument.\n",
      "\n",
      "Use `suppressMessages()` to turn off this message.\n",
      "\n",
      "Saving 6.67 x 6.67 in image\n",
      "\n",
      "Saving 6.67 x 6.67 in image\n",
      "\n",
      "Saving 6.67 x 6.67 in image\n",
      "\n",
      "Saving 6.67 x 6.67 in image\n",
      "\n",
      "Saving 6.67 x 6.67 in image\n",
      "\n"
     ]
    },
    {
     "name": "stdout",
     "output_type": "stream",
     "text": [
      "[1] \"gally\"\n",
      "[1] \"p_val\"        \"avg_log2FC\"   \"pct.1\"        \"pct.2\"        \"p_val_adj\"   \n",
      "[6] \"p_val_adj_BH\"\n"
     ]
    },
    {
     "name": "stderr",
     "output_type": "stream",
     "text": [
      "Saving 6.67 x 6.67 in image\n",
      "\n"
     ]
    },
    {
     "name": "stdout",
     "output_type": "stream",
     "text": [
      "[1] \"X8632C\"\n",
      "[1] \"X8632C\"\n",
      "[1] \"se filt before\"\n",
      "Error in WhichCells.Seurat(object = x, cells = cells, idents = idents,  : \n",
      "  Cannot find the following identities in the object: 1_Flt3l\n",
      "[1] \"X6891T\"\n",
      "[1] \"X6891T\"\n",
      "[1] \"se filt before\"\n",
      "[1] \"se filt\"\n",
      "An object of class Seurat \n",
      "189108 features across 3889 samples within 2 assays \n",
      "Active assay: RNA (19575 features, 0 variable features)\n",
      " 1 other assay present: ATAC\n",
      " 2 dimensional reductions calculated: integrated_lsi, umap\n",
      "Error in ValidateCellGroups(object = object, cells.1 = cells.1, cells.2 = cells.2,  : \n",
      "  Cell group 2 has fewer than 3 cells\n",
      "[1] \"X5863G\"\n",
      "[1] \"X5863G\"\n",
      "[1] \"se filt before\"\n",
      "[1] \"se filt\"\n",
      "An object of class Seurat \n",
      "189108 features across 3893 samples within 2 assays \n",
      "Active assay: RNA (19575 features, 0 variable features)\n",
      " 1 other assay present: ATAC\n",
      " 2 dimensional reductions calculated: integrated_lsi, umap\n",
      "[1] \"curr sig\"\n",
      "                     p_val avg_log2FC pct.1 pct.2    p_val_adj p_val_adj_BH\n",
      "KRTAP9-1      8.232692e-42 -0.2251401 0.002 0.333 1.611550e-37 1.181227e-37\n",
      "PWP2          3.790433e-41 -0.2574811 0.007 0.667 7.419772e-37 2.719257e-37\n",
      "NPY4R         9.346925e-33 -0.1355422 0.002 0.333 1.829661e-28 3.610715e-29\n",
      "TNP1          1.006611e-32 -0.1381232 0.002 0.333 1.970442e-28 3.610715e-29\n",
      "DEFB112       1.931901e-21 -0.1334601 0.003 0.333 3.781696e-17 5.543783e-18\n",
      "RP11-219C20.1 4.399355e-20 -0.1364465 0.004 0.333 8.611737e-16 1.052032e-16\n",
      "[1] \"dim response\"\n",
      "[1] 14348     6\n"
     ]
    },
    {
     "name": "stderr",
     "output_type": "stream",
     "text": [
      "Saving 6.67 x 6.67 in image\n",
      "\n",
      "Saving 6.67 x 6.67 in image\n",
      "\n",
      "Saving 6.67 x 6.67 in image\n",
      "\n",
      "Saving 6.67 x 6.67 in image\n",
      "\n",
      "Saving 6.67 x 6.67 in image\n",
      "\n"
     ]
    },
    {
     "name": "stdout",
     "output_type": "stream",
     "text": [
      "[1] \"gally\"\n",
      "[1] \"p_val\"        \"avg_log2FC\"   \"pct.1\"        \"pct.2\"        \"p_val_adj\"   \n",
      "[6] \"p_val_adj_BH\"\n"
     ]
    },
    {
     "name": "stderr",
     "output_type": "stream",
     "text": [
      "Saving 6.67 x 6.67 in image\n",
      "\n"
     ]
    },
    {
     "name": "stdout",
     "output_type": "stream",
     "text": [
      "[1] \"X1471T\"\n",
      "[1] \"X1471T\"\n",
      "[1] \"se filt before\"\n",
      "Error in WhichCells.Seurat(object = x, cells = cells, idents = idents,  : \n",
      "  Cannot find the following identities in the object: 1_Flt3l\n",
      "[1] \"X1082G\"\n",
      "[1] \"X1082G\"\n",
      "[1] \"se filt before\"\n",
      "[1] \"se filt\"\n",
      "An object of class Seurat \n",
      "189108 features across 3902 samples within 2 assays \n",
      "Active assay: RNA (19575 features, 0 variable features)\n",
      " 1 other assay present: ATAC\n",
      " 2 dimensional reductions calculated: integrated_lsi, umap\n",
      "[1] \"curr sig\"\n",
      "                p_val  avg_log2FC pct.1 pct.2    p_val_adj p_val_adj_BH\n",
      "CT47A1   1.053152e-48 -0.06929697 0.001 0.167 2.061544e-44 1.595630e-44\n",
      "PRPS1L1  6.124747e-25 -0.09222727 0.001 0.167 1.198919e-20 4.639802e-21\n",
      "RAB9B    1.637571e-24 -0.33893375 0.023 0.667 3.205545e-20 8.270278e-21\n",
      "KRTAP2-2 5.503906e-19 -0.09201307 0.002 0.167 1.077390e-14 2.084742e-15\n",
      "TCEAL6   5.173211e-17 -0.07806765 0.002 0.167 1.012656e-12 1.355679e-13\n",
      "DEFB114  5.368669e-17 -0.06260064 0.002 0.167 1.050917e-12 1.355679e-13\n",
      "[1] \"dim response\"\n",
      "[1] 15151     6\n"
     ]
    },
    {
     "name": "stderr",
     "output_type": "stream",
     "text": [
      "The automatically generated colors map from the 1^st and 99^th of the\n",
      "values in the matrix. There are outliers in the matrix whose patterns\n",
      "might be hidden by this color mapping. You can manually set the color\n",
      "to `col` argument.\n",
      "\n",
      "Use `suppressMessages()` to turn off this message.\n",
      "\n",
      "Saving 6.67 x 6.67 in image\n",
      "\n",
      "Saving 6.67 x 6.67 in image\n",
      "\n",
      "Saving 6.67 x 6.67 in image\n",
      "\n",
      "Saving 6.67 x 6.67 in image\n",
      "\n",
      "Saving 6.67 x 6.67 in image\n",
      "\n"
     ]
    },
    {
     "name": "stdout",
     "output_type": "stream",
     "text": [
      "[1] \"gally\"\n",
      "[1] \"p_val\"        \"avg_log2FC\"   \"pct.1\"        \"pct.2\"        \"p_val_adj\"   \n",
      "[6] \"p_val_adj_BH\"\n"
     ]
    },
    {
     "name": "stderr",
     "output_type": "stream",
     "text": [
      "Saving 6.67 x 6.67 in image\n",
      "\n"
     ]
    },
    {
     "name": "stdout",
     "output_type": "stream",
     "text": [
      "[1] \"X1334A\"\n",
      "[1] \"X1334A\"\n",
      "[1] \"se filt before\"\n",
      "[1] \"se filt\"\n",
      "An object of class Seurat \n",
      "189108 features across 3892 samples within 2 assays \n",
      "Active assay: RNA (19575 features, 0 variable features)\n",
      " 1 other assay present: ATAC\n",
      " 2 dimensional reductions calculated: integrated_lsi, umap\n",
      "Error in ValidateCellGroups(object = object, cells.1 = cells.1, cells.2 = cells.2,  : \n",
      "  Cell group 2 has fewer than 3 cells\n",
      "[1] \"X9270A\"\n",
      "[1] \"X9270A\"\n",
      "[1] \"se filt before\"\n",
      "[1] \"se filt\"\n",
      "An object of class Seurat \n",
      "189108 features across 3898 samples within 2 assays \n",
      "Active assay: RNA (19575 features, 0 variable features)\n",
      " 1 other assay present: ATAC\n",
      " 2 dimensional reductions calculated: integrated_lsi, umap\n",
      "[1] \"curr sig\"\n",
      "               p_val avg_log2FC pct.1 pct.2    p_val_adj p_val_adj_BH\n",
      "OR2D3   8.514882e-33 -0.2708741 0.002 0.333 1.666788e-28 1.200854e-28\n",
      "UTS2R   2.344260e-21 -0.4076605 0.014 0.667 4.588890e-17 1.653055e-17\n",
      "DLX3    1.341059e-18 -0.5068898 0.035 1.000 2.625123e-14 6.304317e-15\n",
      "C2orf66 6.826092e-18 -0.3892346 0.016 0.667 1.336208e-13 2.406709e-14\n",
      "REG3G   1.860982e-15 -0.2666057 0.005 0.333 3.642872e-11 4.737516e-12\n",
      "GOLGA8S 2.057439e-15 -0.2675927 0.005 0.333 4.027438e-11 4.737516e-12\n",
      "[1] \"dim response\"\n",
      "[1] 14103     6\n"
     ]
    },
    {
     "name": "stderr",
     "output_type": "stream",
     "text": [
      "The automatically generated colors map from the 1^st and 99^th of the\n",
      "values in the matrix. There are outliers in the matrix whose patterns\n",
      "might be hidden by this color mapping. You can manually set the color\n",
      "to `col` argument.\n",
      "\n",
      "Use `suppressMessages()` to turn off this message.\n",
      "\n",
      "Saving 6.67 x 6.67 in image\n",
      "\n",
      "Saving 6.67 x 6.67 in image\n",
      "\n",
      "Saving 6.67 x 6.67 in image\n",
      "\n",
      "Saving 6.67 x 6.67 in image\n",
      "\n",
      "Saving 6.67 x 6.67 in image\n",
      "\n"
     ]
    },
    {
     "name": "stdout",
     "output_type": "stream",
     "text": [
      "[1] \"gally\"\n",
      "[1] \"p_val\"        \"avg_log2FC\"   \"pct.1\"        \"pct.2\"        \"p_val_adj\"   \n",
      "[6] \"p_val_adj_BH\"\n"
     ]
    },
    {
     "name": "stderr",
     "output_type": "stream",
     "text": [
      "Saving 6.67 x 6.67 in image\n",
      "\n"
     ]
    },
    {
     "name": "stdout",
     "output_type": "stream",
     "text": [
      "[1] \"X16227T\"\n",
      "[1] \"X16227T\"\n",
      "[1] \"se filt before\"\n",
      "[1] \"se filt\"\n",
      "An object of class Seurat \n",
      "189108 features across 3894 samples within 2 assays \n",
      "Active assay: RNA (19575 features, 0 variable features)\n",
      " 1 other assay present: ATAC\n",
      " 2 dimensional reductions calculated: integrated_lsi, umap\n",
      "Error in ValidateCellGroups(object = object, cells.1 = cells.1, cells.2 = cells.2,  : \n",
      "  Cell group 2 has fewer than 3 cells\n",
      "[1] \"X12790A\"\n",
      "[1] \"X12790A\"\n",
      "[1] \"se filt before\"\n",
      "Error in WhichCells.Seurat(object = x, cells = cells, idents = idents,  : \n",
      "  Cannot find the following identities in the object: 1_Flt3l\n",
      "[1] \"X6431G\"\n",
      "[1] \"X6431G\"\n",
      "[1] \"se filt before\"\n",
      "[1] \"se filt\"\n",
      "An object of class Seurat \n",
      "189108 features across 3911 samples within 2 assays \n",
      "Active assay: RNA (19575 features, 0 variable features)\n",
      " 1 other assay present: ATAC\n",
      " 2 dimensional reductions calculated: integrated_lsi, umap\n",
      "[1] \"curr sig\"\n",
      "              p_val  avg_log2FC pct.1 pct.2    p_val_adj p_val_adj_BH\n",
      "OR2A4  1.791138e-72 -0.06682893 0.000 0.167 3.506152e-68 2.811191e-68\n",
      "CBSL   6.829177e-37 -0.06295511 0.001 0.167 1.336811e-32 5.359197e-33\n",
      "SYT15  1.993487e-32 -0.12500460 0.004 0.333 3.902251e-28 1.042926e-28\n",
      "OR8H1  8.705910e-30 -0.06909431 0.001 0.167 1.704182e-25 3.415982e-26\n",
      "TSTD1  4.383117e-25 -0.34149533 0.034 0.833 8.579952e-21 1.210507e-21\n",
      "NPIPA2 5.106718e-25 -0.04520738 0.001 0.167 9.996400e-21 1.210507e-21\n",
      "[1] \"dim response\"\n",
      "[1] 15695     6\n"
     ]
    },
    {
     "name": "stderr",
     "output_type": "stream",
     "text": [
      "The automatically generated colors map from the 1^st and 99^th of the\n",
      "values in the matrix. There are outliers in the matrix whose patterns\n",
      "might be hidden by this color mapping. You can manually set the color\n",
      "to `col` argument.\n",
      "\n",
      "Use `suppressMessages()` to turn off this message.\n",
      "\n",
      "Saving 6.67 x 6.67 in image\n",
      "\n",
      "Saving 6.67 x 6.67 in image\n",
      "\n",
      "Saving 6.67 x 6.67 in image\n",
      "\n",
      "Saving 6.67 x 6.67 in image\n",
      "\n",
      "Saving 6.67 x 6.67 in image\n",
      "\n"
     ]
    },
    {
     "name": "stdout",
     "output_type": "stream",
     "text": [
      "[1] \"gally\"\n",
      "[1] \"p_val\"        \"avg_log2FC\"   \"pct.1\"        \"pct.2\"        \"p_val_adj\"   \n",
      "[6] \"p_val_adj_BH\"\n"
     ]
    },
    {
     "name": "stderr",
     "output_type": "stream",
     "text": [
      "Saving 6.67 x 6.67 in image\n",
      "\n"
     ]
    },
    {
     "name": "stdout",
     "output_type": "stream",
     "text": [
      "[1] \"X6293C\"\n",
      "[1] \"X6293C\"\n",
      "[1] \"se filt before\"\n",
      "[1] \"se filt\"\n",
      "An object of class Seurat \n",
      "189108 features across 3908 samples within 2 assays \n",
      "Active assay: RNA (19575 features, 0 variable features)\n",
      " 1 other assay present: ATAC\n",
      " 2 dimensional reductions calculated: integrated_lsi, umap\n",
      "[1] \"curr sig\"\n",
      "                p_val  avg_log2FC pct.1 pct.2    p_val_adj p_val_adj_BH\n",
      "AMELY    5.748425e-44 -0.08711971 0.001   0.2 1.125254e-39 8.566878e-40\n",
      "OR8J3    9.792319e-17 -0.11573051 0.003   0.2 1.916846e-12 3.783631e-13\n",
      "MTRNR2L3 9.792319e-17 -0.08507604 0.003   0.2 1.916846e-12 3.783631e-13\n",
      "HBA2     1.015535e-16 -0.08348425 0.003   0.2 1.987911e-12 3.783631e-13\n",
      "AVPR1A   7.822677e-15 -0.62631513 0.046   0.8 1.531289e-10 2.331627e-11\n",
      "CPXCR1   2.543057e-14 -0.11553529 0.003   0.2 4.978035e-10 6.316531e-11\n",
      "[1] \"dim response\"\n",
      "[1] 14903     6\n"
     ]
    },
    {
     "name": "stderr",
     "output_type": "stream",
     "text": [
      "The automatically generated colors map from the 1^st and 99^th of the\n",
      "values in the matrix. There are outliers in the matrix whose patterns\n",
      "might be hidden by this color mapping. You can manually set the color\n",
      "to `col` argument.\n",
      "\n",
      "Use `suppressMessages()` to turn off this message.\n",
      "\n",
      "Saving 6.67 x 6.67 in image\n",
      "\n",
      "Saving 6.67 x 6.67 in image\n",
      "\n",
      "Saving 6.67 x 6.67 in image\n",
      "\n",
      "Saving 6.67 x 6.67 in image\n",
      "\n",
      "Saving 6.67 x 6.67 in image\n",
      "\n"
     ]
    },
    {
     "name": "stdout",
     "output_type": "stream",
     "text": [
      "[1] \"gally\"\n",
      "[1] \"p_val\"        \"avg_log2FC\"   \"pct.1\"        \"pct.2\"        \"p_val_adj\"   \n",
      "[6] \"p_val_adj_BH\"\n"
     ]
    },
    {
     "name": "stderr",
     "output_type": "stream",
     "text": [
      "Saving 6.67 x 6.67 in image\n",
      "\n"
     ]
    },
    {
     "name": "stdout",
     "output_type": "stream",
     "text": [
      "[1] \"X7218T\"\n",
      "[1] \"X7218T\"\n",
      "[1] \"se filt before\"\n",
      "[1] \"se filt\"\n",
      "An object of class Seurat \n",
      "189108 features across 3902 samples within 2 assays \n",
      "Active assay: RNA (19575 features, 0 variable features)\n",
      " 1 other assay present: ATAC\n",
      " 2 dimensional reductions calculated: integrated_lsi, umap\n",
      "Error in ValidateCellGroups(object = object, cells.1 = cells.1, cells.2 = cells.2,  : \n",
      "  Cell group 2 has fewer than 3 cells\n",
      "[1] \"X769T\"\n",
      "[1] \"X769T\"\n",
      "[1] \"se filt before\"\n",
      "Error in WhichCells.Seurat(object = x, cells = cells, idents = idents,  : \n",
      "  Cannot find the following identities in the object: 1_Flt3l\n",
      "[1] \"X7589A\"\n",
      "[1] \"X7589A\"\n",
      "[1] \"se filt before\"\n",
      "[1] \"se filt\"\n",
      "An object of class Seurat \n",
      "189108 features across 3913 samples within 2 assays \n",
      "Active assay: RNA (19575 features, 0 variable features)\n",
      " 1 other assay present: ATAC\n",
      " 2 dimensional reductions calculated: integrated_lsi, umap\n",
      "[1] \"curr sig\"\n",
      "                     p_val  avg_log2FC pct.1 pct.2    p_val_adj p_val_adj_BH\n",
      "FAM47A        3.072976e-20 -0.08261279 0.002   0.2 6.015350e-16 4.643881e-16\n",
      "DPPA5         2.628473e-18 -0.07211796 0.002   0.2 5.145236e-14 1.544456e-14\n",
      "RP11-309L24.4 3.066019e-18 -0.42290911 0.037   0.8 6.001732e-14 1.544456e-14\n",
      "RASL11B       7.693386e-18 -0.37834869 0.056   1.0 1.505980e-13 2.906561e-14\n",
      "BEX2          9.557959e-17 -0.28630212 0.023   0.6 1.870970e-12 2.888798e-13\n",
      "HOXB8         1.408972e-14 -0.20154780 0.026   0.6 2.758063e-10 3.548731e-11\n",
      "[1] \"dim response\"\n",
      "[1] 15112     6\n"
     ]
    },
    {
     "name": "stderr",
     "output_type": "stream",
     "text": [
      "The automatically generated colors map from the 1^st and 99^th of the\n",
      "values in the matrix. There are outliers in the matrix whose patterns\n",
      "might be hidden by this color mapping. You can manually set the color\n",
      "to `col` argument.\n",
      "\n",
      "Use `suppressMessages()` to turn off this message.\n",
      "\n",
      "Saving 6.67 x 6.67 in image\n",
      "\n",
      "Saving 6.67 x 6.67 in image\n",
      "\n",
      "Saving 6.67 x 6.67 in image\n",
      "\n",
      "Saving 6.67 x 6.67 in image\n",
      "\n",
      "Saving 6.67 x 6.67 in image\n",
      "\n"
     ]
    },
    {
     "name": "stdout",
     "output_type": "stream",
     "text": [
      "[1] \"gally\"\n",
      "[1] \"p_val\"        \"avg_log2FC\"   \"pct.1\"        \"pct.2\"        \"p_val_adj\"   \n",
      "[6] \"p_val_adj_BH\"\n"
     ]
    },
    {
     "name": "stderr",
     "output_type": "stream",
     "text": [
      "Saving 6.67 x 6.67 in image\n",
      "\n"
     ]
    },
    {
     "name": "stdout",
     "output_type": "stream",
     "text": [
      "[1] \"X3599A\"\n",
      "[1] \"X3599A\"\n",
      "[1] \"se filt before\"\n",
      "[1] \"se filt\"\n",
      "An object of class Seurat \n",
      "189108 features across 3940 samples within 2 assays \n",
      "Active assay: RNA (19575 features, 0 variable features)\n",
      " 1 other assay present: ATAC\n",
      " 2 dimensional reductions calculated: integrated_lsi, umap\n",
      "[1] \"curr sig\"\n",
      "               p_val avg_log2FC pct.1 pct.2    p_val_adj p_val_adj_BH\n",
      "GOLGA8T 3.191264e-26 -0.0517220 0.002 0.118 6.246900e-22 4.944864e-22\n",
      "TCEAL2  2.993317e-23 -0.1122603 0.004 0.176 5.859418e-19 2.319073e-19\n",
      "POU3F2  4.224261e-15 -0.2497910 0.037 0.412 8.268992e-11 1.674963e-11\n",
      "DGCR6L  4.323881e-15 -0.2593921 0.094 0.706 8.463997e-11 1.674963e-11\n",
      "KISS1   8.910032e-15 -0.3671389 0.048 0.471 1.744139e-10 2.761219e-11\n",
      "DHH     2.951174e-14 -0.2149527 0.049 0.471 5.776923e-10 7.621406e-11\n",
      "[1] \"dim response\"\n",
      "[1] 15495     6\n"
     ]
    },
    {
     "name": "stderr",
     "output_type": "stream",
     "text": [
      "The automatically generated colors map from the 1^st and 99^th of the\n",
      "values in the matrix. There are outliers in the matrix whose patterns\n",
      "might be hidden by this color mapping. You can manually set the color\n",
      "to `col` argument.\n",
      "\n",
      "Use `suppressMessages()` to turn off this message.\n",
      "\n",
      "Saving 6.67 x 6.67 in image\n",
      "\n",
      "Saving 6.67 x 6.67 in image\n",
      "\n",
      "Saving 6.67 x 6.67 in image\n",
      "\n",
      "Saving 6.67 x 6.67 in image\n",
      "\n",
      "Saving 6.67 x 6.67 in image\n",
      "\n"
     ]
    },
    {
     "name": "stdout",
     "output_type": "stream",
     "text": [
      "[1] \"gally\"\n",
      "[1] \"p_val\"        \"avg_log2FC\"   \"pct.1\"        \"pct.2\"        \"p_val_adj\"   \n",
      "[6] \"p_val_adj_BH\"\n"
     ]
    },
    {
     "name": "stderr",
     "output_type": "stream",
     "text": [
      "Saving 6.67 x 6.67 in image\n",
      "\n"
     ]
    },
    {
     "name": "stdout",
     "output_type": "stream",
     "text": [
      "[1] \"X10734C\"\n",
      "[1] \"X10734C\"\n",
      "[1] \"se filt before\"\n",
      "[1] \"se filt\"\n",
      "An object of class Seurat \n",
      "189108 features across 3917 samples within 2 assays \n",
      "Active assay: RNA (19575 features, 0 variable features)\n",
      " 1 other assay present: ATAC\n",
      " 2 dimensional reductions calculated: integrated_lsi, umap\n",
      "[1] \"curr sig\"\n",
      "                   p_val  avg_log2FC pct.1 pct.2    p_val_adj p_val_adj_BH\n",
      "SYT15       2.693255e-81 -0.26517539 0.004   0.6 5.272046e-77 4.115024e-77\n",
      "IZUMO3      1.674680e-35 -0.08059637 0.001   0.2 3.278187e-31 1.279372e-31\n",
      "TCEAL7      1.561775e-30 -0.14836601 0.005   0.4 3.057174e-26 7.954118e-27\n",
      "KRTAP12-4   1.064795e-25 -0.07872521 0.002   0.2 2.084336e-21 4.067249e-22\n",
      "RP11-56H2.1 7.968548e-21 -0.19186528 0.008   0.4 1.559843e-16 2.435029e-17\n",
      "CARD18      3.071573e-20 -0.07389329 0.002   0.2 6.012605e-16 7.821762e-17\n",
      "[1] \"dim response\"\n",
      "[1] 15279     6\n"
     ]
    },
    {
     "name": "stderr",
     "output_type": "stream",
     "text": [
      "Saving 6.67 x 6.67 in image\n",
      "\n",
      "Saving 6.67 x 6.67 in image\n",
      "\n",
      "Saving 6.67 x 6.67 in image\n",
      "\n",
      "Saving 6.67 x 6.67 in image\n",
      "\n",
      "Saving 6.67 x 6.67 in image\n",
      "\n"
     ]
    },
    {
     "name": "stdout",
     "output_type": "stream",
     "text": [
      "[1] \"gally\"\n",
      "[1] \"p_val\"        \"avg_log2FC\"   \"pct.1\"        \"pct.2\"        \"p_val_adj\"   \n",
      "[6] \"p_val_adj_BH\"\n"
     ]
    },
    {
     "name": "stderr",
     "output_type": "stream",
     "text": [
      "Saving 6.67 x 6.67 in image\n",
      "\n"
     ]
    },
    {
     "name": "stdout",
     "output_type": "stream",
     "text": [
      "[1] \"X6961C\"\n",
      "[1] \"X6961C\"\n",
      "[1] \"se filt before\"\n",
      "[1] \"se filt\"\n",
      "An object of class Seurat \n",
      "189108 features across 3912 samples within 2 assays \n",
      "Active assay: RNA (19575 features, 0 variable features)\n",
      " 1 other assay present: ATAC\n",
      " 2 dimensional reductions calculated: integrated_lsi, umap\n",
      "[1] \"curr sig\"\n",
      "                      p_val avg_log2FC pct.1 pct.2    p_val_adj p_val_adj_BH\n",
      "OR5AR1         3.460317e-58 -0.1461864 0.001 0.333 6.773571e-54 4.988394e-54\n",
      "OR5L1          6.321584e-42 -0.1446192 0.002 0.333 1.237450e-37 4.556598e-38\n",
      "UPK3BL         1.046191e-29 -0.1454541 0.002 0.333 2.047919e-25 5.027296e-26\n",
      "OR14I1         1.465569e-21 -0.1597486 0.003 0.333 2.868852e-17 5.281912e-18\n",
      "RP11-1212A22.4 3.553480e-20 -0.1428589 0.004 0.333 6.955938e-16 1.024539e-16\n",
      "FOXD4L4        6.061689e-18 -0.1423621 0.004 0.333 1.186576e-13 1.456422e-14\n",
      "[1] \"dim response\"\n",
      "[1] 14416     6\n"
     ]
    },
    {
     "name": "stderr",
     "output_type": "stream",
     "text": [
      "Saving 6.67 x 6.67 in image\n",
      "\n",
      "Saving 6.67 x 6.67 in image\n",
      "\n",
      "Saving 6.67 x 6.67 in image\n",
      "\n",
      "Saving 6.67 x 6.67 in image\n",
      "\n",
      "Saving 6.67 x 6.67 in image\n",
      "\n"
     ]
    },
    {
     "name": "stdout",
     "output_type": "stream",
     "text": [
      "[1] \"gally\"\n",
      "[1] \"p_val\"        \"avg_log2FC\"   \"pct.1\"        \"pct.2\"        \"p_val_adj\"   \n",
      "[6] \"p_val_adj_BH\"\n"
     ]
    },
    {
     "name": "stderr",
     "output_type": "stream",
     "text": [
      "Saving 6.67 x 6.67 in image\n",
      "\n"
     ]
    },
    {
     "name": "stdout",
     "output_type": "stream",
     "text": [
      "[1] \"X6470C\"\n",
      "[1] \"X6470C\"\n",
      "[1] \"se filt before\"\n",
      "[1] \"se filt\"\n",
      "An object of class Seurat \n",
      "189108 features across 3912 samples within 2 assays \n",
      "Active assay: RNA (19575 features, 0 variable features)\n",
      " 1 other assay present: ATAC\n",
      " 2 dimensional reductions calculated: integrated_lsi, umap\n",
      "Error in ValidateCellGroups(object = object, cells.1 = cells.1, cells.2 = cells.2,  : \n",
      "  Cell group 2 has fewer than 3 cells\n",
      "[1] \"X955T\"\n",
      "[1] \"X955T\"\n",
      "[1] \"se filt before\"\n",
      "[1] \"se filt\"\n",
      "An object of class Seurat \n",
      "189108 features across 3931 samples within 2 assays \n",
      "Active assay: RNA (19575 features, 0 variable features)\n",
      " 1 other assay present: ATAC\n",
      " 2 dimensional reductions calculated: integrated_lsi, umap\n",
      "[1] \"curr sig\"\n",
      "                     p_val  avg_log2FC pct.1 pct.2    p_val_adj p_val_adj_BH\n",
      "TCEAL2        1.828168e-43 -0.26337589 0.004 0.333 3.578639e-39 2.865288e-39\n",
      "CRYGC         4.261405e-22 -0.19509612 0.004 0.222 8.341701e-18 3.339450e-18\n",
      "PCDH20        1.604788e-20 -0.28474905 0.027 0.556 3.141372e-16 8.383947e-17\n",
      "SPATA31D3     3.727017e-17 -0.08910562 0.001 0.111 7.295636e-13 1.460338e-13\n",
      "ZNF781        5.896717e-16 -0.31167850 0.049 0.667 1.154282e-11 1.848385e-12\n",
      "RP11-310K10.1 7.829312e-16 -0.31500487 0.035 0.556 1.532588e-11 2.045147e-12\n",
      "[1] \"dim response\"\n",
      "[1] 15673     6\n"
     ]
    },
    {
     "name": "stderr",
     "output_type": "stream",
     "text": [
      "The automatically generated colors map from the 1^st and 99^th of the\n",
      "values in the matrix. There are outliers in the matrix whose patterns\n",
      "might be hidden by this color mapping. You can manually set the color\n",
      "to `col` argument.\n",
      "\n",
      "Use `suppressMessages()` to turn off this message.\n",
      "\n",
      "Saving 6.67 x 6.67 in image\n",
      "\n",
      "Saving 6.67 x 6.67 in image\n",
      "\n",
      "Saving 6.67 x 6.67 in image\n",
      "\n",
      "Saving 6.67 x 6.67 in image\n",
      "\n",
      "Saving 6.67 x 6.67 in image\n",
      "\n"
     ]
    },
    {
     "name": "stdout",
     "output_type": "stream",
     "text": [
      "[1] \"gally\"\n",
      "[1] \"p_val\"        \"avg_log2FC\"   \"pct.1\"        \"pct.2\"        \"p_val_adj\"   \n",
      "[6] \"p_val_adj_BH\"\n"
     ]
    },
    {
     "name": "stderr",
     "output_type": "stream",
     "text": [
      "Saving 6.67 x 6.67 in image\n",
      "\n"
     ]
    },
    {
     "name": "stdout",
     "output_type": "stream",
     "text": [
      "[1] \"X6904C\"\n",
      "[1] \"X6904C\"\n",
      "[1] \"se filt before\"\n",
      "Error in WhichCells.Seurat(object = x, cells = cells, idents = idents,  : \n",
      "  Cannot find the following identities in the object: 1_Flt3l\n",
      "[1] \"X3590A\"\n",
      "[1] \"X3590A\"\n",
      "[1] \"se filt before\"\n",
      "[1] \"se filt\"\n",
      "An object of class Seurat \n",
      "189108 features across 3936 samples within 2 assays \n",
      "Active assay: RNA (19575 features, 0 variable features)\n",
      " 1 other assay present: ATAC\n",
      " 2 dimensional reductions calculated: integrated_lsi, umap\n",
      "[1] \"curr sig\"\n",
      "               p_val  avg_log2FC pct.1 pct.2    p_val_adj p_val_adj_BH\n",
      "BOLA2B  4.078486e-49 -0.05701449 0.000 0.111 7.983637e-45 6.509264e-45\n",
      "SLX1A   3.355367e-33 -0.05688110 0.001 0.111 6.568130e-29 2.677582e-29\n",
      "TNFRSF4 2.395153e-18 -0.28606923 0.043 0.667 4.688513e-14 1.274222e-14\n",
      "PJA1    7.076746e-18 -0.27019002 0.031 0.556 1.385273e-13 2.823622e-14\n",
      "FAM110D 1.315690e-17 -0.27863009 0.032 0.556 2.575462e-13 4.199681e-14\n",
      "MIXL1   2.263293e-16 -0.26551995 0.023 0.444 4.430395e-12 6.020358e-13\n",
      "[1] \"dim response\"\n",
      "[1] 15960     6\n"
     ]
    },
    {
     "name": "stderr",
     "output_type": "stream",
     "text": [
      "The automatically generated colors map from the 1^st and 99^th of the\n",
      "values in the matrix. There are outliers in the matrix whose patterns\n",
      "might be hidden by this color mapping. You can manually set the color\n",
      "to `col` argument.\n",
      "\n",
      "Use `suppressMessages()` to turn off this message.\n",
      "\n",
      "Saving 6.67 x 6.67 in image\n",
      "\n",
      "Saving 6.67 x 6.67 in image\n",
      "\n",
      "Saving 6.67 x 6.67 in image\n",
      "\n",
      "Saving 6.67 x 6.67 in image\n",
      "\n",
      "Saving 6.67 x 6.67 in image\n",
      "\n"
     ]
    },
    {
     "name": "stdout",
     "output_type": "stream",
     "text": [
      "[1] \"gally\"\n",
      "[1] \"p_val\"        \"avg_log2FC\"   \"pct.1\"        \"pct.2\"        \"p_val_adj\"   \n",
      "[6] \"p_val_adj_BH\"\n"
     ]
    },
    {
     "name": "stderr",
     "output_type": "stream",
     "text": [
      "Saving 6.67 x 6.67 in image\n",
      "\n"
     ]
    },
    {
     "name": "stdout",
     "output_type": "stream",
     "text": [
      "[1] \"X4855A\"\n",
      "[1] \"X4855A\"\n",
      "[1] \"se filt before\"\n",
      "Error in WhichCells.Seurat(object = x, cells = cells, idents = idents,  : \n",
      "  Cannot find the following identities in the object: 1_Flt3l\n",
      "[1] \"X9023T\"\n",
      "[1] \"X9023T\"\n",
      "[1] \"se filt before\"\n",
      "Error in WhichCells.Seurat(object = x, cells = cells, idents = idents,  : \n",
      "  Cannot find the following identities in the object: 1_Flt3l\n",
      "[1] \"X3003G\"\n",
      "[1] \"X3003G\"\n",
      "[1] \"se filt before\"\n",
      "Error in WhichCells.Seurat(object = x, cells = cells, idents = idents,  : \n",
      "  Cannot find the following identities in the object: 1_Flt3l\n",
      "[1] \"X3514A\"\n",
      "[1] \"X3514A\"\n",
      "[1] \"se filt before\"\n",
      "Error in WhichCells.Seurat(object = x, cells = cells, idents = idents,  : \n",
      "  Cannot find the following identities in the object: 1_Flt3l\n",
      "[1] \"X515G\"\n",
      "[1] \"X515G\"\n",
      "[1] \"se filt before\"\n",
      "Error in WhichCells.Seurat(object = x, cells = cells, idents = idents,  : \n",
      "  Cannot find the following identities in the object: 1_Flt3l\n"
     ]
    },
    {
     "data": {
      "text/html": [
       "<table class=\"dataframe\">\n",
       "<caption>A data.frame: 18031 × 156</caption>\n",
       "<thead>\n",
       "\t<tr><th></th><th scope=col>X11838A</th><th scope=col>X2514A</th><th scope=col>X7639T</th><th scope=col>X318A</th><th scope=col>X9173A</th><th scope=col>X13263G</th><th scope=col>X7775A</th><th scope=col>X11719A</th><th scope=col>X8701G</th><th scope=col>X14783C</th><th scope=col>⋯</th><th scope=col>X1082G</th><th scope=col>X9270A</th><th scope=col>X6431G</th><th scope=col>X6293C</th><th scope=col>X7589A</th><th scope=col>X3599A</th><th scope=col>X10734C</th><th scope=col>X6961C</th><th scope=col>X955T</th><th scope=col>X3590A</th></tr>\n",
       "\t<tr><th></th><th scope=col>&lt;dbl&gt;</th><th scope=col>&lt;dbl&gt;</th><th scope=col>&lt;dbl&gt;</th><th scope=col>&lt;dbl&gt;</th><th scope=col>&lt;dbl&gt;</th><th scope=col>&lt;dbl&gt;</th><th scope=col>&lt;dbl&gt;</th><th scope=col>&lt;dbl&gt;</th><th scope=col>&lt;dbl&gt;</th><th scope=col>&lt;dbl&gt;</th><th scope=col>⋯</th><th scope=col>&lt;dbl&gt;</th><th scope=col>&lt;dbl&gt;</th><th scope=col>&lt;dbl&gt;</th><th scope=col>&lt;dbl&gt;</th><th scope=col>&lt;dbl&gt;</th><th scope=col>&lt;dbl&gt;</th><th scope=col>&lt;dbl&gt;</th><th scope=col>&lt;dbl&gt;</th><th scope=col>&lt;dbl&gt;</th><th scope=col>&lt;dbl&gt;</th></tr>\n",
       "</thead>\n",
       "<tbody>\n",
       "\t<tr><th scope=row>OR4F5</th><td>          NA</td><td>          NA</td><td>          NA</td><td>          NA</td><td>          NA</td><td>        NA</td><td>          NA</td><td>          NA</td><td>          NA</td><td>         NA</td><td>⋯</td><td>          NA</td><td>        NA</td><td>          NA</td><td>          NA</td><td>          NA</td><td>          NA</td><td>         NA</td><td>         NA</td><td>         NA</td><td>          NA</td></tr>\n",
       "\t<tr><th scope=row>SAMD11</th><td>7.459215e-18</td><td>1.183172e-06</td><td>3.180157e-06</td><td>2.119380e-03</td><td>1.613614e-02</td><td>        NA</td><td>4.290507e-04</td><td>0.0046975950</td><td>          NA</td><td>         NA</td><td>⋯</td><td>          NA</td><td>        NA</td><td>          NA</td><td>          NA</td><td>          NA</td><td>9.964841e-06</td><td>         NA</td><td>         NA</td><td>         NA</td><td>          NA</td></tr>\n",
       "\t<tr><th scope=row>NOC2L</th><td>4.939408e-05</td><td>1.958852e-02</td><td>1.079181e-03</td><td>          NA</td><td>          NA</td><td>        NA</td><td>7.229426e-04</td><td>0.0052093875</td><td>          NA</td><td>         NA</td><td>⋯</td><td>0.0981921574</td><td>        NA</td><td>          NA</td><td>          NA</td><td>          NA</td><td>2.145988e-03</td><td>0.020582893</td><td>         NA</td><td>0.041918014</td><td>          NA</td></tr>\n",
       "\t<tr><th scope=row>KLHL17</th><td>3.877439e-07</td><td>4.063965e-04</td><td>3.967252e-04</td><td>          NA</td><td>3.077373e-03</td><td>0.02380200</td><td>2.641913e-04</td><td>0.0674724653</td><td>          NA</td><td>0.083064395</td><td>⋯</td><td>0.0366952165</td><td>        NA</td><td>          NA</td><td>          NA</td><td>          NA</td><td>2.235105e-04</td><td>0.005018092</td><td>         NA</td><td>0.012187157</td><td>          NA</td></tr>\n",
       "\t<tr><th scope=row>PLEKHN1</th><td>2.686818e-12</td><td>5.655843e-05</td><td>          NA</td><td>7.173758e-05</td><td>4.542773e-02</td><td>        NA</td><td>2.488228e-06</td><td>          NA</td><td>          NA</td><td>         NA</td><td>⋯</td><td>0.0006126678</td><td>        NA</td><td>7.475221e-08</td><td>5.700009e-05</td><td>          NA</td><td>6.096829e-04</td><td>         NA</td><td>         NA</td><td>0.011642437</td><td>          NA</td></tr>\n",
       "\t<tr><th scope=row>PERM1</th><td>          NA</td><td>          NA</td><td>3.217910e-02</td><td>          NA</td><td>          NA</td><td>        NA</td><td>          NA</td><td>          NA</td><td>          NA</td><td>         NA</td><td>⋯</td><td>0.0038576600</td><td>        NA</td><td>          NA</td><td>          NA</td><td>0.0006319642</td><td>1.787507e-04</td><td>         NA</td><td>         NA</td><td>         NA</td><td>2.420579e-02</td></tr>\n",
       "\t<tr><th scope=row>HES4</th><td>4.065391e-07</td><td>4.538462e-02</td><td>3.781847e-07</td><td>          NA</td><td>          NA</td><td>        NA</td><td>          NA</td><td>          NA</td><td>          NA</td><td>0.006068038</td><td>⋯</td><td>          NA</td><td>        NA</td><td>          NA</td><td>          NA</td><td>          NA</td><td>8.990018e-02</td><td>         NA</td><td>         NA</td><td>0.009787026</td><td>          NA</td></tr>\n",
       "\t<tr><th scope=row>ISG15</th><td>2.007922e-18</td><td>4.017967e-04</td><td>4.035935e-10</td><td>1.144949e-02</td><td>2.190622e-04</td><td>        NA</td><td>2.606180e-02</td><td>          NA</td><td>          NA</td><td>         NA</td><td>⋯</td><td>          NA</td><td>        NA</td><td>1.389492e-02</td><td>          NA</td><td>          NA</td><td>          NA</td><td>         NA</td><td>         NA</td><td>         NA</td><td>          NA</td></tr>\n",
       "\t<tr><th scope=row>AGRN</th><td>6.830466e-08</td><td>1.138430e-04</td><td>1.601573e-03</td><td>1.929599e-02</td><td>2.484567e-06</td><td>        NA</td><td>2.434972e-03</td><td>0.0552159591</td><td>          NA</td><td>         NA</td><td>⋯</td><td>          NA</td><td>        NA</td><td>4.935194e-03</td><td>          NA</td><td>          NA</td><td>1.271906e-02</td><td>         NA</td><td>         NA</td><td>         NA</td><td>          NA</td></tr>\n",
       "\t<tr><th scope=row>RNF223</th><td>          NA</td><td>          NA</td><td>          NA</td><td>          NA</td><td>          NA</td><td>        NA</td><td>          NA</td><td>          NA</td><td>          NA</td><td>         NA</td><td>⋯</td><td>          NA</td><td>        NA</td><td>          NA</td><td>          NA</td><td>          NA</td><td>          NA</td><td>         NA</td><td>         NA</td><td>         NA</td><td>          NA</td></tr>\n",
       "\t<tr><th scope=row>C1orf159</th><td>5.102322e-08</td><td>9.349603e-05</td><td>1.040771e-03</td><td>3.354133e-03</td><td>3.923652e-05</td><td>        NA</td><td>1.203917e-02</td><td>          NA</td><td>          NA</td><td>         NA</td><td>⋯</td><td>          NA</td><td>0.09837265</td><td>          NA</td><td>          NA</td><td>          NA</td><td>5.800271e-03</td><td>         NA</td><td>         NA</td><td>         NA</td><td>          NA</td></tr>\n",
       "\t<tr><th scope=row>TTLL10</th><td>8.095706e-10</td><td>          NA</td><td>          NA</td><td>1.755559e-03</td><td>1.800821e-04</td><td>        NA</td><td>1.646399e-02</td><td>          NA</td><td>          NA</td><td>         NA</td><td>⋯</td><td>          NA</td><td>        NA</td><td>          NA</td><td>          NA</td><td>          NA</td><td>          NA</td><td>         NA</td><td>         NA</td><td>         NA</td><td>          NA</td></tr>\n",
       "\t<tr><th scope=row>TNFRSF18</th><td>4.680683e-14</td><td>7.750552e-03</td><td>6.782465e-02</td><td>5.001237e-04</td><td>6.681268e-03</td><td>        NA</td><td>3.529401e-05</td><td>          NA</td><td>9.864522e-07</td><td>         NA</td><td>⋯</td><td>          NA</td><td>        NA</td><td>          NA</td><td>          NA</td><td>          NA</td><td>1.360762e-03</td><td>         NA</td><td>         NA</td><td>0.078332159</td><td>5.656443e-02</td></tr>\n",
       "\t<tr><th scope=row>TNFRSF4</th><td>7.593104e-17</td><td>5.736025e-08</td><td>1.465529e-04</td><td>1.784983e-08</td><td>1.090717e-04</td><td>        NA</td><td>          NA</td><td>          NA</td><td>1.107683e-06</td><td>         NA</td><td>⋯</td><td>          NA</td><td>        NA</td><td>1.345779e-02</td><td>          NA</td><td>0.0065645753</td><td>          NA</td><td>         NA</td><td>         NA</td><td>         NA</td><td>1.274222e-14</td></tr>\n",
       "\t<tr><th scope=row>SDF4</th><td>1.747483e-07</td><td>          NA</td><td>          NA</td><td>          NA</td><td>          NA</td><td>        NA</td><td>5.042409e-03</td><td>          NA</td><td>          NA</td><td>         NA</td><td>⋯</td><td>          NA</td><td>        NA</td><td>7.726209e-03</td><td>          NA</td><td>          NA</td><td>          NA</td><td>         NA</td><td>         NA</td><td>         NA</td><td>          NA</td></tr>\n",
       "\t<tr><th scope=row>B3GALT6</th><td>7.027372e-10</td><td>          NA</td><td>          NA</td><td>          NA</td><td>          NA</td><td>        NA</td><td>3.721201e-04</td><td>          NA</td><td>          NA</td><td>         NA</td><td>⋯</td><td>          NA</td><td>        NA</td><td>1.511334e-03</td><td>          NA</td><td>          NA</td><td>4.199856e-02</td><td>         NA</td><td>         NA</td><td>         NA</td><td>          NA</td></tr>\n",
       "\t<tr><th scope=row>C1QTNF12</th><td>          NA</td><td>          NA</td><td>4.247237e-03</td><td>          NA</td><td>          NA</td><td>        NA</td><td>          NA</td><td>          NA</td><td>9.910211e-02</td><td>         NA</td><td>⋯</td><td>          NA</td><td>        NA</td><td>9.653488e-02</td><td>          NA</td><td>          NA</td><td>          NA</td><td>         NA</td><td>         NA</td><td>         NA</td><td>          NA</td></tr>\n",
       "\t<tr><th scope=row>UBE2J2</th><td>3.262348e-05</td><td>          NA</td><td>          NA</td><td>4.027457e-02</td><td>5.835554e-02</td><td>        NA</td><td>8.578070e-02</td><td>          NA</td><td>          NA</td><td>0.037053074</td><td>⋯</td><td>          NA</td><td>        NA</td><td>          NA</td><td>          NA</td><td>          NA</td><td>          NA</td><td>         NA</td><td>         NA</td><td>         NA</td><td>          NA</td></tr>\n",
       "\t<tr><th scope=row>SCNN1D</th><td>          NA</td><td>          NA</td><td>          NA</td><td>8.915158e-04</td><td>          NA</td><td>        NA</td><td>          NA</td><td>          NA</td><td>          NA</td><td>         NA</td><td>⋯</td><td>          NA</td><td>        NA</td><td>          NA</td><td>          NA</td><td>          NA</td><td>          NA</td><td>         NA</td><td>         NA</td><td>         NA</td><td>          NA</td></tr>\n",
       "\t<tr><th scope=row>ACAP3</th><td>1.348415e-10</td><td>4.205087e-04</td><td>9.752218e-04</td><td>6.554080e-04</td><td>7.248327e-03</td><td>        NA</td><td>1.666071e-03</td><td>          NA</td><td>          NA</td><td>         NA</td><td>⋯</td><td>          NA</td><td>        NA</td><td>          NA</td><td>          NA</td><td>          NA</td><td>1.421018e-02</td><td>         NA</td><td>         NA</td><td>         NA</td><td>          NA</td></tr>\n",
       "\t<tr><th scope=row>PUSL1</th><td>1.358499e-08</td><td>7.249051e-03</td><td>1.811384e-04</td><td>          NA</td><td>          NA</td><td>        NA</td><td>4.921790e-02</td><td>          NA</td><td>          NA</td><td>         NA</td><td>⋯</td><td>          NA</td><td>        NA</td><td>          NA</td><td>          NA</td><td>          NA</td><td>          NA</td><td>         NA</td><td>         NA</td><td>         NA</td><td>          NA</td></tr>\n",
       "\t<tr><th scope=row>INTS11</th><td>3.631299e-09</td><td>2.283247e-02</td><td>6.543726e-06</td><td>3.125428e-02</td><td>1.096240e-02</td><td>        NA</td><td>6.548503e-04</td><td>          NA</td><td>          NA</td><td>         NA</td><td>⋯</td><td>          NA</td><td>        NA</td><td>          NA</td><td>          NA</td><td>          NA</td><td>          NA</td><td>         NA</td><td>         NA</td><td>         NA</td><td>          NA</td></tr>\n",
       "\t<tr><th scope=row>CPTP</th><td>1.714244e-15</td><td>7.036411e-04</td><td>6.278953e-08</td><td>8.934732e-03</td><td>1.750876e-04</td><td>        NA</td><td>8.076009e-05</td><td>          NA</td><td>          NA</td><td>         NA</td><td>⋯</td><td>          NA</td><td>        NA</td><td>4.482443e-02</td><td>          NA</td><td>          NA</td><td>1.349387e-02</td><td>0.026189793</td><td>         NA</td><td>         NA</td><td>          NA</td></tr>\n",
       "\t<tr><th scope=row>DVL1</th><td>1.170718e-06</td><td>9.749053e-04</td><td>          NA</td><td>1.288376e-02</td><td>          NA</td><td>        NA</td><td>2.856101e-02</td><td>          NA</td><td>          NA</td><td>         NA</td><td>⋯</td><td>          NA</td><td>        NA</td><td>          NA</td><td>          NA</td><td>          NA</td><td>8.746877e-02</td><td>         NA</td><td>         NA</td><td>0.095036828</td><td>          NA</td></tr>\n",
       "\t<tr><th scope=row>MXRA8</th><td>4.271490e-07</td><td>9.215910e-02</td><td>          NA</td><td>          NA</td><td>3.190007e-03</td><td>        NA</td><td>          NA</td><td>0.0066476262</td><td>          NA</td><td>         NA</td><td>⋯</td><td>          NA</td><td>        NA</td><td>          NA</td><td>          NA</td><td>          NA</td><td>          NA</td><td>         NA</td><td>0.001759785</td><td>         NA</td><td>          NA</td></tr>\n",
       "\t<tr><th scope=row>AURKAIP1</th><td>4.301235e-04</td><td>1.755263e-02</td><td>          NA</td><td>2.594271e-02</td><td>3.721020e-03</td><td>0.05712243</td><td>1.675078e-02</td><td>          NA</td><td>6.170303e-02</td><td>         NA</td><td>⋯</td><td>          NA</td><td>        NA</td><td>          NA</td><td>          NA</td><td>          NA</td><td>          NA</td><td>         NA</td><td>         NA</td><td>         NA</td><td>          NA</td></tr>\n",
       "\t<tr><th scope=row>CCNL2</th><td>1.627028e-04</td><td>8.172201e-04</td><td>1.590080e-02</td><td>4.833150e-03</td><td>2.100682e-02</td><td>        NA</td><td>4.427992e-05</td><td>          NA</td><td>          NA</td><td>         NA</td><td>⋯</td><td>          NA</td><td>        NA</td><td>8.844675e-02</td><td>          NA</td><td>          NA</td><td>5.925947e-03</td><td>         NA</td><td>         NA</td><td>         NA</td><td>          NA</td></tr>\n",
       "\t<tr><th scope=row>MRPL20</th><td>6.775735e-05</td><td>1.734317e-02</td><td>          NA</td><td>          NA</td><td>1.224014e-03</td><td>        NA</td><td>          NA</td><td>          NA</td><td>          NA</td><td>         NA</td><td>⋯</td><td>          NA</td><td>        NA</td><td>3.706921e-02</td><td>          NA</td><td>          NA</td><td>          NA</td><td>         NA</td><td>         NA</td><td>         NA</td><td>          NA</td></tr>\n",
       "\t<tr><th scope=row>ANKRD65</th><td>          NA</td><td>          NA</td><td>          NA</td><td>2.242244e-05</td><td>          NA</td><td>        NA</td><td>          NA</td><td>          NA</td><td>          NA</td><td>         NA</td><td>⋯</td><td>          NA</td><td>        NA</td><td>          NA</td><td>          NA</td><td>          NA</td><td>          NA</td><td>         NA</td><td>         NA</td><td>         NA</td><td>          NA</td></tr>\n",
       "\t<tr><th scope=row>TMEM88B</th><td>          NA</td><td>2.953201e-08</td><td>          NA</td><td>          NA</td><td>          NA</td><td>        NA</td><td>1.201197e-08</td><td>0.0001999009</td><td>9.517288e-04</td><td>         NA</td><td>⋯</td><td>          NA</td><td>        NA</td><td>2.401697e-03</td><td>          NA</td><td>0.0010010481</td><td>          NA</td><td>         NA</td><td>         NA</td><td>         NA</td><td>          NA</td></tr>\n",
       "\t<tr><th scope=row>⋮</th><td>⋮</td><td>⋮</td><td>⋮</td><td>⋮</td><td>⋮</td><td>⋮</td><td>⋮</td><td>⋮</td><td>⋮</td><td>⋮</td><td>⋱</td><td>⋮</td><td>⋮</td><td>⋮</td><td>⋮</td><td>⋮</td><td>⋮</td><td>⋮</td><td>⋮</td><td>⋮</td><td>⋮</td></tr>\n",
       "\t<tr><th scope=row>DKC1</th><td>7.942929e-02</td><td>          NA</td><td>5.499968e-02</td><td>8.373757e-02</td><td>          NA</td><td>          NA</td><td>          NA</td><td>          NA</td><td>          NA</td><td>          NA</td><td>⋯</td><td>NA</td><td>NA</td><td>3.465002e-02</td><td>          NA</td><td>NA</td><td>          NA</td><td>          NA</td><td>          NA</td><td>          NA</td><td>        NA</td></tr>\n",
       "\t<tr><th scope=row>MPP1</th><td>2.428642e-10</td><td>3.246212e-06</td><td>8.990942e-02</td><td>1.894297e-04</td><td>1.385362e-04</td><td>          NA</td><td>1.722816e-02</td><td>          NA</td><td>          NA</td><td>          NA</td><td>⋯</td><td>NA</td><td>NA</td><td>          NA</td><td>          NA</td><td>NA</td><td>          NA</td><td>          NA</td><td>          NA</td><td>          NA</td><td>        NA</td></tr>\n",
       "\t<tr><th scope=row>SMIM9</th><td>          NA</td><td>          NA</td><td>          NA</td><td>          NA</td><td>          NA</td><td>          NA</td><td>          NA</td><td>          NA</td><td>          NA</td><td>          NA</td><td>⋯</td><td>NA</td><td>NA</td><td>          NA</td><td>          NA</td><td>NA</td><td>1.138809e-02</td><td>          NA</td><td>          NA</td><td>          NA</td><td>        NA</td></tr>\n",
       "\t<tr><th scope=row>F8</th><td>1.036988e-06</td><td>          NA</td><td>          NA</td><td>5.618890e-02</td><td>          NA</td><td>          NA</td><td>          NA</td><td>          NA</td><td>          NA</td><td>          NA</td><td>⋯</td><td>NA</td><td>NA</td><td>          NA</td><td>          NA</td><td>NA</td><td>          NA</td><td>          NA</td><td>          NA</td><td>          NA</td><td>        NA</td></tr>\n",
       "\t<tr><th scope=row>F8A1</th><td>          NA</td><td>          NA</td><td>          NA</td><td>          NA</td><td>          NA</td><td>          NA</td><td>          NA</td><td>          NA</td><td>          NA</td><td>          NA</td><td>⋯</td><td>NA</td><td>NA</td><td>          NA</td><td>          NA</td><td>NA</td><td>          NA</td><td>          NA</td><td>2.509349e-12</td><td>          NA</td><td>        NA</td></tr>\n",
       "\t<tr><th scope=row>FUNDC2</th><td>4.575430e-15</td><td>1.244761e-02</td><td>2.379812e-04</td><td>8.063544e-04</td><td>1.428985e-02</td><td>          NA</td><td>          NA</td><td>          NA</td><td>3.584753e-02</td><td>          NA</td><td>⋯</td><td>NA</td><td>NA</td><td>          NA</td><td>          NA</td><td>NA</td><td>4.845132e-02</td><td>          NA</td><td>          NA</td><td>          NA</td><td>0.06943765</td></tr>\n",
       "\t<tr><th scope=row>CMC4</th><td>5.387765e-09</td><td>9.714747e-02</td><td>1.623331e-02</td><td>4.826609e-04</td><td>          NA</td><td>          NA</td><td>8.708000e-02</td><td>1.293704e-05</td><td>          NA</td><td>          NA</td><td>⋯</td><td>NA</td><td>NA</td><td>          NA</td><td>          NA</td><td>NA</td><td>          NA</td><td>          NA</td><td>          NA</td><td>          NA</td><td>        NA</td></tr>\n",
       "\t<tr><th scope=row>MTCP1</th><td>6.122840e-06</td><td>          NA</td><td>8.397437e-02</td><td>6.849789e-02</td><td>          NA</td><td>          NA</td><td>          NA</td><td>7.501549e-03</td><td>          NA</td><td>          NA</td><td>⋯</td><td>NA</td><td>NA</td><td>          NA</td><td>          NA</td><td>NA</td><td>          NA</td><td>          NA</td><td>          NA</td><td>          NA</td><td>        NA</td></tr>\n",
       "\t<tr><th scope=row>BRCC3</th><td>1.907519e-08</td><td>7.434392e-02</td><td>2.983133e-02</td><td>7.805750e-03</td><td>          NA</td><td>          NA</td><td>          NA</td><td>9.593419e-04</td><td>          NA</td><td>          NA</td><td>⋯</td><td>NA</td><td>NA</td><td>          NA</td><td>          NA</td><td>NA</td><td>          NA</td><td>          NA</td><td>          NA</td><td>          NA</td><td>        NA</td></tr>\n",
       "\t<tr><th scope=row>VBP1</th><td>2.882852e-07</td><td>1.895152e-02</td><td>          NA</td><td>4.981679e-02</td><td>4.678422e-02</td><td>          NA</td><td>3.352590e-02</td><td>          NA</td><td>          NA</td><td>          NA</td><td>⋯</td><td>NA</td><td>NA</td><td>7.462976e-03</td><td>          NA</td><td>NA</td><td>          NA</td><td>          NA</td><td>          NA</td><td>          NA</td><td>        NA</td></tr>\n",
       "\t<tr><th scope=row>RAB39B</th><td>          NA</td><td>          NA</td><td>5.622510e-02</td><td>3.909969e-02</td><td>          NA</td><td>          NA</td><td>4.374383e-02</td><td>          NA</td><td>          NA</td><td>          NA</td><td>⋯</td><td>NA</td><td>NA</td><td>          NA</td><td>          NA</td><td>NA</td><td>          NA</td><td>          NA</td><td>          NA</td><td>          NA</td><td>        NA</td></tr>\n",
       "\t<tr><th scope=row>CLIC2</th><td>1.800686e-05</td><td>2.366872e-02</td><td>4.549760e-05</td><td>4.203917e-04</td><td>2.056724e-06</td><td>          NA</td><td>1.214816e-04</td><td>          NA</td><td>7.766428e-02</td><td>          NA</td><td>⋯</td><td>NA</td><td>NA</td><td>          NA</td><td>          NA</td><td>NA</td><td>5.044759e-02</td><td>          NA</td><td>          NA</td><td>1.931563e-03</td><td>        NA</td></tr>\n",
       "\t<tr><th scope=row>TMLHE</th><td>3.800655e-03</td><td>          NA</td><td>          NA</td><td>          NA</td><td>          NA</td><td>          NA</td><td>          NA</td><td>          NA</td><td>          NA</td><td>          NA</td><td>⋯</td><td>NA</td><td>NA</td><td>          NA</td><td>          NA</td><td>NA</td><td>          NA</td><td>          NA</td><td>          NA</td><td>          NA</td><td>        NA</td></tr>\n",
       "\t<tr><th scope=row>SPRY3</th><td>3.942232e-04</td><td>          NA</td><td>          NA</td><td>          NA</td><td>          NA</td><td>          NA</td><td>          NA</td><td>3.843053e-05</td><td>          NA</td><td>          NA</td><td>⋯</td><td>NA</td><td>NA</td><td>          NA</td><td>          NA</td><td>NA</td><td>          NA</td><td>          NA</td><td>          NA</td><td>          NA</td><td>        NA</td></tr>\n",
       "\t<tr><th scope=row>VAMP7</th><td>8.307061e-04</td><td>1.439421e-02</td><td>5.218540e-02</td><td>8.494093e-02</td><td>          NA</td><td>          NA</td><td>2.070710e-02</td><td>4.835330e-02</td><td>          NA</td><td>          NA</td><td>⋯</td><td>NA</td><td>NA</td><td>          NA</td><td>          NA</td><td>NA</td><td>          NA</td><td>          NA</td><td>          NA</td><td>          NA</td><td>        NA</td></tr>\n",
       "\t<tr><th scope=row>IL9R</th><td>2.311381e-18</td><td>5.259290e-09</td><td>8.421777e-04</td><td>1.887293e-03</td><td>6.054846e-04</td><td>          NA</td><td>2.553300e-04</td><td>8.089820e-02</td><td>          NA</td><td>          NA</td><td>⋯</td><td>NA</td><td>NA</td><td>2.617155e-03</td><td>          NA</td><td>NA</td><td>2.394266e-02</td><td>5.793107e-04</td><td>2.568597e-02</td><td>4.616694e-02</td><td>        NA</td></tr>\n",
       "\t<tr><th scope=row>SRY</th><td>          NA</td><td>          NA</td><td>          NA</td><td>          NA</td><td>          NA</td><td>          NA</td><td>          NA</td><td>          NA</td><td>          NA</td><td>          NA</td><td>⋯</td><td>NA</td><td>NA</td><td>          NA</td><td>          NA</td><td>NA</td><td>          NA</td><td>          NA</td><td>          NA</td><td>          NA</td><td>        NA</td></tr>\n",
       "\t<tr><th scope=row>RPS4Y1</th><td>          NA</td><td>          NA</td><td>          NA</td><td>          NA</td><td>8.371267e-02</td><td>          NA</td><td>          NA</td><td>          NA</td><td>          NA</td><td>          NA</td><td>⋯</td><td>NA</td><td>NA</td><td>          NA</td><td>1.244898e-02</td><td>NA</td><td>          NA</td><td>          NA</td><td>          NA</td><td>1.752682e-02</td><td>        NA</td></tr>\n",
       "\t<tr><th scope=row>ZFY</th><td>1.265268e-21</td><td>4.199078e-05</td><td>5.961013e-05</td><td>6.460346e-07</td><td>1.032172e-08</td><td>          NA</td><td>1.527413e-03</td><td>6.199192e-02</td><td>          NA</td><td>          NA</td><td>⋯</td><td>NA</td><td>NA</td><td>1.504853e-04</td><td>          NA</td><td>NA</td><td>1.465993e-05</td><td>6.804588e-06</td><td>2.409689e-02</td><td>9.276341e-02</td><td>0.09542973</td></tr>\n",
       "\t<tr><th scope=row>AMELY</th><td>          NA</td><td>          NA</td><td>          NA</td><td>          NA</td><td>          NA</td><td>          NA</td><td>          NA</td><td>          NA</td><td>          NA</td><td>          NA</td><td>⋯</td><td>NA</td><td>NA</td><td>          NA</td><td>8.566878e-40</td><td>NA</td><td>          NA</td><td>          NA</td><td>          NA</td><td>          NA</td><td>        NA</td></tr>\n",
       "\t<tr><th scope=row>TBL1Y</th><td>1.973462e-03</td><td>          NA</td><td>          NA</td><td>1.279045e-02</td><td>          NA</td><td>          NA</td><td>4.190317e-03</td><td>          NA</td><td>          NA</td><td>          NA</td><td>⋯</td><td>NA</td><td>NA</td><td>          NA</td><td>          NA</td><td>NA</td><td>4.574736e-02</td><td>1.004996e-04</td><td>          NA</td><td>          NA</td><td>        NA</td></tr>\n",
       "\t<tr><th scope=row>TSPY8</th><td>          NA</td><td>          NA</td><td>          NA</td><td>          NA</td><td>          NA</td><td>          NA</td><td>          NA</td><td>          NA</td><td>          NA</td><td>          NA</td><td>⋯</td><td>NA</td><td>NA</td><td>          NA</td><td>          NA</td><td>NA</td><td>          NA</td><td>          NA</td><td>          NA</td><td>          NA</td><td>        NA</td></tr>\n",
       "\t<tr><th scope=row>USP9Y</th><td>          NA</td><td>          NA</td><td>          NA</td><td>          NA</td><td>          NA</td><td>          NA</td><td>          NA</td><td>          NA</td><td>          NA</td><td>          NA</td><td>⋯</td><td>NA</td><td>NA</td><td>          NA</td><td>          NA</td><td>NA</td><td>          NA</td><td>          NA</td><td>          NA</td><td>          NA</td><td>        NA</td></tr>\n",
       "\t<tr><th scope=row>DDX3Y</th><td>1.562905e-16</td><td>3.016304e-03</td><td>1.795072e-05</td><td>9.394530e-08</td><td>8.432851e-08</td><td>0.0014330360</td><td>7.994075e-07</td><td>          NA</td><td>1.678683e-06</td><td>          NA</td><td>⋯</td><td>NA</td><td>NA</td><td>          NA</td><td>          NA</td><td>NA</td><td>2.677603e-02</td><td>          NA</td><td>          NA</td><td>2.996589e-03</td><td>        NA</td></tr>\n",
       "\t<tr><th scope=row>UTY</th><td>2.202320e-13</td><td>1.108128e-02</td><td>3.507925e-03</td><td>2.797489e-04</td><td>3.861959e-04</td><td>          NA</td><td>1.095210e-05</td><td>          NA</td><td>          NA</td><td>2.466629e-02</td><td>⋯</td><td>NA</td><td>NA</td><td>4.730004e-04</td><td>          NA</td><td>NA</td><td>6.659960e-04</td><td>5.967855e-02</td><td>          NA</td><td>7.571984e-03</td><td>        NA</td></tr>\n",
       "\t<tr><th scope=row>TMSB4Y</th><td>1.328696e-07</td><td>          NA</td><td>2.278599e-02</td><td>          NA</td><td>1.781711e-02</td><td>          NA</td><td>7.994557e-04</td><td>          NA</td><td>          NA</td><td>          NA</td><td>⋯</td><td>NA</td><td>NA</td><td>          NA</td><td>          NA</td><td>NA</td><td>7.701345e-03</td><td>          NA</td><td>          NA</td><td>          NA</td><td>        NA</td></tr>\n",
       "\t<tr><th scope=row>NLGN4Y</th><td>          NA</td><td>          NA</td><td>          NA</td><td>2.005016e-03</td><td>          NA</td><td>          NA</td><td>1.338488e-04</td><td>          NA</td><td>          NA</td><td>          NA</td><td>⋯</td><td>NA</td><td>NA</td><td>          NA</td><td>          NA</td><td>NA</td><td>5.047866e-02</td><td>8.606041e-03</td><td>          NA</td><td>          NA</td><td>        NA</td></tr>\n",
       "\t<tr><th scope=row>KDM5D</th><td>3.783883e-08</td><td>          NA</td><td>          NA</td><td>          NA</td><td>1.265122e-02</td><td>0.0001748426</td><td>9.154871e-03</td><td>          NA</td><td>8.072675e-03</td><td>2.205973e-03</td><td>⋯</td><td>NA</td><td>NA</td><td>1.390342e-02</td><td>9.255470e-03</td><td>NA</td><td>9.812569e-05</td><td>          NA</td><td>          NA</td><td>          NA</td><td>        NA</td></tr>\n",
       "\t<tr><th scope=row>EIF1AY</th><td>9.859535e-07</td><td>          NA</td><td>7.871669e-02</td><td>5.077275e-07</td><td>1.472224e-08</td><td>          NA</td><td>3.423295e-02</td><td>3.036630e-02</td><td>          NA</td><td>          NA</td><td>⋯</td><td>NA</td><td>NA</td><td>1.190302e-05</td><td>          NA</td><td>NA</td><td>9.778478e-03</td><td>          NA</td><td>          NA</td><td>          NA</td><td>        NA</td></tr>\n",
       "\t<tr><th scope=row>RPS4Y2</th><td>          NA</td><td>          NA</td><td>5.089248e-07</td><td>3.614638e-04</td><td>          NA</td><td>0.0156033109</td><td>1.268230e-03</td><td>          NA</td><td>8.972886e-02</td><td>1.661867e-07</td><td>⋯</td><td>NA</td><td>NA</td><td>          NA</td><td>9.954100e-02</td><td>NA</td><td>          NA</td><td>7.713440e-02</td><td>1.321554e-02</td><td>6.706857e-07</td><td>0.00302496</td></tr>\n",
       "</tbody>\n",
       "</table>\n"
      ],
      "text/latex": [
       "A data.frame: 18031 × 156\n",
       "\\begin{tabular}{r|lllllllllllllllllllll}\n",
       "  & X11838A & X2514A & X7639T & X318A & X9173A & X13263G & X7775A & X11719A & X8701G & X14783C & ⋯ & X1082G & X9270A & X6431G & X6293C & X7589A & X3599A & X10734C & X6961C & X955T & X3590A\\\\\n",
       "  & <dbl> & <dbl> & <dbl> & <dbl> & <dbl> & <dbl> & <dbl> & <dbl> & <dbl> & <dbl> & ⋯ & <dbl> & <dbl> & <dbl> & <dbl> & <dbl> & <dbl> & <dbl> & <dbl> & <dbl> & <dbl>\\\\\n",
       "\\hline\n",
       "\tOR4F5 &           NA &           NA &           NA &           NA &           NA &         NA &           NA &           NA &           NA &          NA & ⋯ &           NA &         NA &           NA &           NA &           NA &           NA &          NA &          NA &          NA &           NA\\\\\n",
       "\tSAMD11 & 7.459215e-18 & 1.183172e-06 & 3.180157e-06 & 2.119380e-03 & 1.613614e-02 &         NA & 4.290507e-04 & 0.0046975950 &           NA &          NA & ⋯ &           NA &         NA &           NA &           NA &           NA & 9.964841e-06 &          NA &          NA &          NA &           NA\\\\\n",
       "\tNOC2L & 4.939408e-05 & 1.958852e-02 & 1.079181e-03 &           NA &           NA &         NA & 7.229426e-04 & 0.0052093875 &           NA &          NA & ⋯ & 0.0981921574 &         NA &           NA &           NA &           NA & 2.145988e-03 & 0.020582893 &          NA & 0.041918014 &           NA\\\\\n",
       "\tKLHL17 & 3.877439e-07 & 4.063965e-04 & 3.967252e-04 &           NA & 3.077373e-03 & 0.02380200 & 2.641913e-04 & 0.0674724653 &           NA & 0.083064395 & ⋯ & 0.0366952165 &         NA &           NA &           NA &           NA & 2.235105e-04 & 0.005018092 &          NA & 0.012187157 &           NA\\\\\n",
       "\tPLEKHN1 & 2.686818e-12 & 5.655843e-05 &           NA & 7.173758e-05 & 4.542773e-02 &         NA & 2.488228e-06 &           NA &           NA &          NA & ⋯ & 0.0006126678 &         NA & 7.475221e-08 & 5.700009e-05 &           NA & 6.096829e-04 &          NA &          NA & 0.011642437 &           NA\\\\\n",
       "\tPERM1 &           NA &           NA & 3.217910e-02 &           NA &           NA &         NA &           NA &           NA &           NA &          NA & ⋯ & 0.0038576600 &         NA &           NA &           NA & 0.0006319642 & 1.787507e-04 &          NA &          NA &          NA & 2.420579e-02\\\\\n",
       "\tHES4 & 4.065391e-07 & 4.538462e-02 & 3.781847e-07 &           NA &           NA &         NA &           NA &           NA &           NA & 0.006068038 & ⋯ &           NA &         NA &           NA &           NA &           NA & 8.990018e-02 &          NA &          NA & 0.009787026 &           NA\\\\\n",
       "\tISG15 & 2.007922e-18 & 4.017967e-04 & 4.035935e-10 & 1.144949e-02 & 2.190622e-04 &         NA & 2.606180e-02 &           NA &           NA &          NA & ⋯ &           NA &         NA & 1.389492e-02 &           NA &           NA &           NA &          NA &          NA &          NA &           NA\\\\\n",
       "\tAGRN & 6.830466e-08 & 1.138430e-04 & 1.601573e-03 & 1.929599e-02 & 2.484567e-06 &         NA & 2.434972e-03 & 0.0552159591 &           NA &          NA & ⋯ &           NA &         NA & 4.935194e-03 &           NA &           NA & 1.271906e-02 &          NA &          NA &          NA &           NA\\\\\n",
       "\tRNF223 &           NA &           NA &           NA &           NA &           NA &         NA &           NA &           NA &           NA &          NA & ⋯ &           NA &         NA &           NA &           NA &           NA &           NA &          NA &          NA &          NA &           NA\\\\\n",
       "\tC1orf159 & 5.102322e-08 & 9.349603e-05 & 1.040771e-03 & 3.354133e-03 & 3.923652e-05 &         NA & 1.203917e-02 &           NA &           NA &          NA & ⋯ &           NA & 0.09837265 &           NA &           NA &           NA & 5.800271e-03 &          NA &          NA &          NA &           NA\\\\\n",
       "\tTTLL10 & 8.095706e-10 &           NA &           NA & 1.755559e-03 & 1.800821e-04 &         NA & 1.646399e-02 &           NA &           NA &          NA & ⋯ &           NA &         NA &           NA &           NA &           NA &           NA &          NA &          NA &          NA &           NA\\\\\n",
       "\tTNFRSF18 & 4.680683e-14 & 7.750552e-03 & 6.782465e-02 & 5.001237e-04 & 6.681268e-03 &         NA & 3.529401e-05 &           NA & 9.864522e-07 &          NA & ⋯ &           NA &         NA &           NA &           NA &           NA & 1.360762e-03 &          NA &          NA & 0.078332159 & 5.656443e-02\\\\\n",
       "\tTNFRSF4 & 7.593104e-17 & 5.736025e-08 & 1.465529e-04 & 1.784983e-08 & 1.090717e-04 &         NA &           NA &           NA & 1.107683e-06 &          NA & ⋯ &           NA &         NA & 1.345779e-02 &           NA & 0.0065645753 &           NA &          NA &          NA &          NA & 1.274222e-14\\\\\n",
       "\tSDF4 & 1.747483e-07 &           NA &           NA &           NA &           NA &         NA & 5.042409e-03 &           NA &           NA &          NA & ⋯ &           NA &         NA & 7.726209e-03 &           NA &           NA &           NA &          NA &          NA &          NA &           NA\\\\\n",
       "\tB3GALT6 & 7.027372e-10 &           NA &           NA &           NA &           NA &         NA & 3.721201e-04 &           NA &           NA &          NA & ⋯ &           NA &         NA & 1.511334e-03 &           NA &           NA & 4.199856e-02 &          NA &          NA &          NA &           NA\\\\\n",
       "\tC1QTNF12 &           NA &           NA & 4.247237e-03 &           NA &           NA &         NA &           NA &           NA & 9.910211e-02 &          NA & ⋯ &           NA &         NA & 9.653488e-02 &           NA &           NA &           NA &          NA &          NA &          NA &           NA\\\\\n",
       "\tUBE2J2 & 3.262348e-05 &           NA &           NA & 4.027457e-02 & 5.835554e-02 &         NA & 8.578070e-02 &           NA &           NA & 0.037053074 & ⋯ &           NA &         NA &           NA &           NA &           NA &           NA &          NA &          NA &          NA &           NA\\\\\n",
       "\tSCNN1D &           NA &           NA &           NA & 8.915158e-04 &           NA &         NA &           NA &           NA &           NA &          NA & ⋯ &           NA &         NA &           NA &           NA &           NA &           NA &          NA &          NA &          NA &           NA\\\\\n",
       "\tACAP3 & 1.348415e-10 & 4.205087e-04 & 9.752218e-04 & 6.554080e-04 & 7.248327e-03 &         NA & 1.666071e-03 &           NA &           NA &          NA & ⋯ &           NA &         NA &           NA &           NA &           NA & 1.421018e-02 &          NA &          NA &          NA &           NA\\\\\n",
       "\tPUSL1 & 1.358499e-08 & 7.249051e-03 & 1.811384e-04 &           NA &           NA &         NA & 4.921790e-02 &           NA &           NA &          NA & ⋯ &           NA &         NA &           NA &           NA &           NA &           NA &          NA &          NA &          NA &           NA\\\\\n",
       "\tINTS11 & 3.631299e-09 & 2.283247e-02 & 6.543726e-06 & 3.125428e-02 & 1.096240e-02 &         NA & 6.548503e-04 &           NA &           NA &          NA & ⋯ &           NA &         NA &           NA &           NA &           NA &           NA &          NA &          NA &          NA &           NA\\\\\n",
       "\tCPTP & 1.714244e-15 & 7.036411e-04 & 6.278953e-08 & 8.934732e-03 & 1.750876e-04 &         NA & 8.076009e-05 &           NA &           NA &          NA & ⋯ &           NA &         NA & 4.482443e-02 &           NA &           NA & 1.349387e-02 & 0.026189793 &          NA &          NA &           NA\\\\\n",
       "\tDVL1 & 1.170718e-06 & 9.749053e-04 &           NA & 1.288376e-02 &           NA &         NA & 2.856101e-02 &           NA &           NA &          NA & ⋯ &           NA &         NA &           NA &           NA &           NA & 8.746877e-02 &          NA &          NA & 0.095036828 &           NA\\\\\n",
       "\tMXRA8 & 4.271490e-07 & 9.215910e-02 &           NA &           NA & 3.190007e-03 &         NA &           NA & 0.0066476262 &           NA &          NA & ⋯ &           NA &         NA &           NA &           NA &           NA &           NA &          NA & 0.001759785 &          NA &           NA\\\\\n",
       "\tAURKAIP1 & 4.301235e-04 & 1.755263e-02 &           NA & 2.594271e-02 & 3.721020e-03 & 0.05712243 & 1.675078e-02 &           NA & 6.170303e-02 &          NA & ⋯ &           NA &         NA &           NA &           NA &           NA &           NA &          NA &          NA &          NA &           NA\\\\\n",
       "\tCCNL2 & 1.627028e-04 & 8.172201e-04 & 1.590080e-02 & 4.833150e-03 & 2.100682e-02 &         NA & 4.427992e-05 &           NA &           NA &          NA & ⋯ &           NA &         NA & 8.844675e-02 &           NA &           NA & 5.925947e-03 &          NA &          NA &          NA &           NA\\\\\n",
       "\tMRPL20 & 6.775735e-05 & 1.734317e-02 &           NA &           NA & 1.224014e-03 &         NA &           NA &           NA &           NA &          NA & ⋯ &           NA &         NA & 3.706921e-02 &           NA &           NA &           NA &          NA &          NA &          NA &           NA\\\\\n",
       "\tANKRD65 &           NA &           NA &           NA & 2.242244e-05 &           NA &         NA &           NA &           NA &           NA &          NA & ⋯ &           NA &         NA &           NA &           NA &           NA &           NA &          NA &          NA &          NA &           NA\\\\\n",
       "\tTMEM88B &           NA & 2.953201e-08 &           NA &           NA &           NA &         NA & 1.201197e-08 & 0.0001999009 & 9.517288e-04 &          NA & ⋯ &           NA &         NA & 2.401697e-03 &           NA & 0.0010010481 &           NA &          NA &          NA &          NA &           NA\\\\\n",
       "\t⋮ & ⋮ & ⋮ & ⋮ & ⋮ & ⋮ & ⋮ & ⋮ & ⋮ & ⋮ & ⋮ & ⋱ & ⋮ & ⋮ & ⋮ & ⋮ & ⋮ & ⋮ & ⋮ & ⋮ & ⋮ & ⋮\\\\\n",
       "\tDKC1 & 7.942929e-02 &           NA & 5.499968e-02 & 8.373757e-02 &           NA &           NA &           NA &           NA &           NA &           NA & ⋯ & NA & NA & 3.465002e-02 &           NA & NA &           NA &           NA &           NA &           NA &         NA\\\\\n",
       "\tMPP1 & 2.428642e-10 & 3.246212e-06 & 8.990942e-02 & 1.894297e-04 & 1.385362e-04 &           NA & 1.722816e-02 &           NA &           NA &           NA & ⋯ & NA & NA &           NA &           NA & NA &           NA &           NA &           NA &           NA &         NA\\\\\n",
       "\tSMIM9 &           NA &           NA &           NA &           NA &           NA &           NA &           NA &           NA &           NA &           NA & ⋯ & NA & NA &           NA &           NA & NA & 1.138809e-02 &           NA &           NA &           NA &         NA\\\\\n",
       "\tF8 & 1.036988e-06 &           NA &           NA & 5.618890e-02 &           NA &           NA &           NA &           NA &           NA &           NA & ⋯ & NA & NA &           NA &           NA & NA &           NA &           NA &           NA &           NA &         NA\\\\\n",
       "\tF8A1 &           NA &           NA &           NA &           NA &           NA &           NA &           NA &           NA &           NA &           NA & ⋯ & NA & NA &           NA &           NA & NA &           NA &           NA & 2.509349e-12 &           NA &         NA\\\\\n",
       "\tFUNDC2 & 4.575430e-15 & 1.244761e-02 & 2.379812e-04 & 8.063544e-04 & 1.428985e-02 &           NA &           NA &           NA & 3.584753e-02 &           NA & ⋯ & NA & NA &           NA &           NA & NA & 4.845132e-02 &           NA &           NA &           NA & 0.06943765\\\\\n",
       "\tCMC4 & 5.387765e-09 & 9.714747e-02 & 1.623331e-02 & 4.826609e-04 &           NA &           NA & 8.708000e-02 & 1.293704e-05 &           NA &           NA & ⋯ & NA & NA &           NA &           NA & NA &           NA &           NA &           NA &           NA &         NA\\\\\n",
       "\tMTCP1 & 6.122840e-06 &           NA & 8.397437e-02 & 6.849789e-02 &           NA &           NA &           NA & 7.501549e-03 &           NA &           NA & ⋯ & NA & NA &           NA &           NA & NA &           NA &           NA &           NA &           NA &         NA\\\\\n",
       "\tBRCC3 & 1.907519e-08 & 7.434392e-02 & 2.983133e-02 & 7.805750e-03 &           NA &           NA &           NA & 9.593419e-04 &           NA &           NA & ⋯ & NA & NA &           NA &           NA & NA &           NA &           NA &           NA &           NA &         NA\\\\\n",
       "\tVBP1 & 2.882852e-07 & 1.895152e-02 &           NA & 4.981679e-02 & 4.678422e-02 &           NA & 3.352590e-02 &           NA &           NA &           NA & ⋯ & NA & NA & 7.462976e-03 &           NA & NA &           NA &           NA &           NA &           NA &         NA\\\\\n",
       "\tRAB39B &           NA &           NA & 5.622510e-02 & 3.909969e-02 &           NA &           NA & 4.374383e-02 &           NA &           NA &           NA & ⋯ & NA & NA &           NA &           NA & NA &           NA &           NA &           NA &           NA &         NA\\\\\n",
       "\tCLIC2 & 1.800686e-05 & 2.366872e-02 & 4.549760e-05 & 4.203917e-04 & 2.056724e-06 &           NA & 1.214816e-04 &           NA & 7.766428e-02 &           NA & ⋯ & NA & NA &           NA &           NA & NA & 5.044759e-02 &           NA &           NA & 1.931563e-03 &         NA\\\\\n",
       "\tTMLHE & 3.800655e-03 &           NA &           NA &           NA &           NA &           NA &           NA &           NA &           NA &           NA & ⋯ & NA & NA &           NA &           NA & NA &           NA &           NA &           NA &           NA &         NA\\\\\n",
       "\tSPRY3 & 3.942232e-04 &           NA &           NA &           NA &           NA &           NA &           NA & 3.843053e-05 &           NA &           NA & ⋯ & NA & NA &           NA &           NA & NA &           NA &           NA &           NA &           NA &         NA\\\\\n",
       "\tVAMP7 & 8.307061e-04 & 1.439421e-02 & 5.218540e-02 & 8.494093e-02 &           NA &           NA & 2.070710e-02 & 4.835330e-02 &           NA &           NA & ⋯ & NA & NA &           NA &           NA & NA &           NA &           NA &           NA &           NA &         NA\\\\\n",
       "\tIL9R & 2.311381e-18 & 5.259290e-09 & 8.421777e-04 & 1.887293e-03 & 6.054846e-04 &           NA & 2.553300e-04 & 8.089820e-02 &           NA &           NA & ⋯ & NA & NA & 2.617155e-03 &           NA & NA & 2.394266e-02 & 5.793107e-04 & 2.568597e-02 & 4.616694e-02 &         NA\\\\\n",
       "\tSRY &           NA &           NA &           NA &           NA &           NA &           NA &           NA &           NA &           NA &           NA & ⋯ & NA & NA &           NA &           NA & NA &           NA &           NA &           NA &           NA &         NA\\\\\n",
       "\tRPS4Y1 &           NA &           NA &           NA &           NA & 8.371267e-02 &           NA &           NA &           NA &           NA &           NA & ⋯ & NA & NA &           NA & 1.244898e-02 & NA &           NA &           NA &           NA & 1.752682e-02 &         NA\\\\\n",
       "\tZFY & 1.265268e-21 & 4.199078e-05 & 5.961013e-05 & 6.460346e-07 & 1.032172e-08 &           NA & 1.527413e-03 & 6.199192e-02 &           NA &           NA & ⋯ & NA & NA & 1.504853e-04 &           NA & NA & 1.465993e-05 & 6.804588e-06 & 2.409689e-02 & 9.276341e-02 & 0.09542973\\\\\n",
       "\tAMELY &           NA &           NA &           NA &           NA &           NA &           NA &           NA &           NA &           NA &           NA & ⋯ & NA & NA &           NA & 8.566878e-40 & NA &           NA &           NA &           NA &           NA &         NA\\\\\n",
       "\tTBL1Y & 1.973462e-03 &           NA &           NA & 1.279045e-02 &           NA &           NA & 4.190317e-03 &           NA &           NA &           NA & ⋯ & NA & NA &           NA &           NA & NA & 4.574736e-02 & 1.004996e-04 &           NA &           NA &         NA\\\\\n",
       "\tTSPY8 &           NA &           NA &           NA &           NA &           NA &           NA &           NA &           NA &           NA &           NA & ⋯ & NA & NA &           NA &           NA & NA &           NA &           NA &           NA &           NA &         NA\\\\\n",
       "\tUSP9Y &           NA &           NA &           NA &           NA &           NA &           NA &           NA &           NA &           NA &           NA & ⋯ & NA & NA &           NA &           NA & NA &           NA &           NA &           NA &           NA &         NA\\\\\n",
       "\tDDX3Y & 1.562905e-16 & 3.016304e-03 & 1.795072e-05 & 9.394530e-08 & 8.432851e-08 & 0.0014330360 & 7.994075e-07 &           NA & 1.678683e-06 &           NA & ⋯ & NA & NA &           NA &           NA & NA & 2.677603e-02 &           NA &           NA & 2.996589e-03 &         NA\\\\\n",
       "\tUTY & 2.202320e-13 & 1.108128e-02 & 3.507925e-03 & 2.797489e-04 & 3.861959e-04 &           NA & 1.095210e-05 &           NA &           NA & 2.466629e-02 & ⋯ & NA & NA & 4.730004e-04 &           NA & NA & 6.659960e-04 & 5.967855e-02 &           NA & 7.571984e-03 &         NA\\\\\n",
       "\tTMSB4Y & 1.328696e-07 &           NA & 2.278599e-02 &           NA & 1.781711e-02 &           NA & 7.994557e-04 &           NA &           NA &           NA & ⋯ & NA & NA &           NA &           NA & NA & 7.701345e-03 &           NA &           NA &           NA &         NA\\\\\n",
       "\tNLGN4Y &           NA &           NA &           NA & 2.005016e-03 &           NA &           NA & 1.338488e-04 &           NA &           NA &           NA & ⋯ & NA & NA &           NA &           NA & NA & 5.047866e-02 & 8.606041e-03 &           NA &           NA &         NA\\\\\n",
       "\tKDM5D & 3.783883e-08 &           NA &           NA &           NA & 1.265122e-02 & 0.0001748426 & 9.154871e-03 &           NA & 8.072675e-03 & 2.205973e-03 & ⋯ & NA & NA & 1.390342e-02 & 9.255470e-03 & NA & 9.812569e-05 &           NA &           NA &           NA &         NA\\\\\n",
       "\tEIF1AY & 9.859535e-07 &           NA & 7.871669e-02 & 5.077275e-07 & 1.472224e-08 &           NA & 3.423295e-02 & 3.036630e-02 &           NA &           NA & ⋯ & NA & NA & 1.190302e-05 &           NA & NA & 9.778478e-03 &           NA &           NA &           NA &         NA\\\\\n",
       "\tRPS4Y2 &           NA &           NA & 5.089248e-07 & 3.614638e-04 &           NA & 0.0156033109 & 1.268230e-03 &           NA & 8.972886e-02 & 1.661867e-07 & ⋯ & NA & NA &           NA & 9.954100e-02 & NA &           NA & 7.713440e-02 & 1.321554e-02 & 6.706857e-07 & 0.00302496\\\\\n",
       "\\end{tabular}\n"
      ],
      "text/markdown": [
       "\n",
       "A data.frame: 18031 × 156\n",
       "\n",
       "| <!--/--> | X11838A &lt;dbl&gt; | X2514A &lt;dbl&gt; | X7639T &lt;dbl&gt; | X318A &lt;dbl&gt; | X9173A &lt;dbl&gt; | X13263G &lt;dbl&gt; | X7775A &lt;dbl&gt; | X11719A &lt;dbl&gt; | X8701G &lt;dbl&gt; | X14783C &lt;dbl&gt; | ⋯ ⋯ | X1082G &lt;dbl&gt; | X9270A &lt;dbl&gt; | X6431G &lt;dbl&gt; | X6293C &lt;dbl&gt; | X7589A &lt;dbl&gt; | X3599A &lt;dbl&gt; | X10734C &lt;dbl&gt; | X6961C &lt;dbl&gt; | X955T &lt;dbl&gt; | X3590A &lt;dbl&gt; |\n",
       "|---|---|---|---|---|---|---|---|---|---|---|---|---|---|---|---|---|---|---|---|---|---|\n",
       "| OR4F5 |           NA |           NA |           NA |           NA |           NA |         NA |           NA |           NA |           NA |          NA | ⋯ |           NA |         NA |           NA |           NA |           NA |           NA |          NA |          NA |          NA |           NA |\n",
       "| SAMD11 | 7.459215e-18 | 1.183172e-06 | 3.180157e-06 | 2.119380e-03 | 1.613614e-02 |         NA | 4.290507e-04 | 0.0046975950 |           NA |          NA | ⋯ |           NA |         NA |           NA |           NA |           NA | 9.964841e-06 |          NA |          NA |          NA |           NA |\n",
       "| NOC2L | 4.939408e-05 | 1.958852e-02 | 1.079181e-03 |           NA |           NA |         NA | 7.229426e-04 | 0.0052093875 |           NA |          NA | ⋯ | 0.0981921574 |         NA |           NA |           NA |           NA | 2.145988e-03 | 0.020582893 |          NA | 0.041918014 |           NA |\n",
       "| KLHL17 | 3.877439e-07 | 4.063965e-04 | 3.967252e-04 |           NA | 3.077373e-03 | 0.02380200 | 2.641913e-04 | 0.0674724653 |           NA | 0.083064395 | ⋯ | 0.0366952165 |         NA |           NA |           NA |           NA | 2.235105e-04 | 0.005018092 |          NA | 0.012187157 |           NA |\n",
       "| PLEKHN1 | 2.686818e-12 | 5.655843e-05 |           NA | 7.173758e-05 | 4.542773e-02 |         NA | 2.488228e-06 |           NA |           NA |          NA | ⋯ | 0.0006126678 |         NA | 7.475221e-08 | 5.700009e-05 |           NA | 6.096829e-04 |          NA |          NA | 0.011642437 |           NA |\n",
       "| PERM1 |           NA |           NA | 3.217910e-02 |           NA |           NA |         NA |           NA |           NA |           NA |          NA | ⋯ | 0.0038576600 |         NA |           NA |           NA | 0.0006319642 | 1.787507e-04 |          NA |          NA |          NA | 2.420579e-02 |\n",
       "| HES4 | 4.065391e-07 | 4.538462e-02 | 3.781847e-07 |           NA |           NA |         NA |           NA |           NA |           NA | 0.006068038 | ⋯ |           NA |         NA |           NA |           NA |           NA | 8.990018e-02 |          NA |          NA | 0.009787026 |           NA |\n",
       "| ISG15 | 2.007922e-18 | 4.017967e-04 | 4.035935e-10 | 1.144949e-02 | 2.190622e-04 |         NA | 2.606180e-02 |           NA |           NA |          NA | ⋯ |           NA |         NA | 1.389492e-02 |           NA |           NA |           NA |          NA |          NA |          NA |           NA |\n",
       "| AGRN | 6.830466e-08 | 1.138430e-04 | 1.601573e-03 | 1.929599e-02 | 2.484567e-06 |         NA | 2.434972e-03 | 0.0552159591 |           NA |          NA | ⋯ |           NA |         NA | 4.935194e-03 |           NA |           NA | 1.271906e-02 |          NA |          NA |          NA |           NA |\n",
       "| RNF223 |           NA |           NA |           NA |           NA |           NA |         NA |           NA |           NA |           NA |          NA | ⋯ |           NA |         NA |           NA |           NA |           NA |           NA |          NA |          NA |          NA |           NA |\n",
       "| C1orf159 | 5.102322e-08 | 9.349603e-05 | 1.040771e-03 | 3.354133e-03 | 3.923652e-05 |         NA | 1.203917e-02 |           NA |           NA |          NA | ⋯ |           NA | 0.09837265 |           NA |           NA |           NA | 5.800271e-03 |          NA |          NA |          NA |           NA |\n",
       "| TTLL10 | 8.095706e-10 |           NA |           NA | 1.755559e-03 | 1.800821e-04 |         NA | 1.646399e-02 |           NA |           NA |          NA | ⋯ |           NA |         NA |           NA |           NA |           NA |           NA |          NA |          NA |          NA |           NA |\n",
       "| TNFRSF18 | 4.680683e-14 | 7.750552e-03 | 6.782465e-02 | 5.001237e-04 | 6.681268e-03 |         NA | 3.529401e-05 |           NA | 9.864522e-07 |          NA | ⋯ |           NA |         NA |           NA |           NA |           NA | 1.360762e-03 |          NA |          NA | 0.078332159 | 5.656443e-02 |\n",
       "| TNFRSF4 | 7.593104e-17 | 5.736025e-08 | 1.465529e-04 | 1.784983e-08 | 1.090717e-04 |         NA |           NA |           NA | 1.107683e-06 |          NA | ⋯ |           NA |         NA | 1.345779e-02 |           NA | 0.0065645753 |           NA |          NA |          NA |          NA | 1.274222e-14 |\n",
       "| SDF4 | 1.747483e-07 |           NA |           NA |           NA |           NA |         NA | 5.042409e-03 |           NA |           NA |          NA | ⋯ |           NA |         NA | 7.726209e-03 |           NA |           NA |           NA |          NA |          NA |          NA |           NA |\n",
       "| B3GALT6 | 7.027372e-10 |           NA |           NA |           NA |           NA |         NA | 3.721201e-04 |           NA |           NA |          NA | ⋯ |           NA |         NA | 1.511334e-03 |           NA |           NA | 4.199856e-02 |          NA |          NA |          NA |           NA |\n",
       "| C1QTNF12 |           NA |           NA | 4.247237e-03 |           NA |           NA |         NA |           NA |           NA | 9.910211e-02 |          NA | ⋯ |           NA |         NA | 9.653488e-02 |           NA |           NA |           NA |          NA |          NA |          NA |           NA |\n",
       "| UBE2J2 | 3.262348e-05 |           NA |           NA | 4.027457e-02 | 5.835554e-02 |         NA | 8.578070e-02 |           NA |           NA | 0.037053074 | ⋯ |           NA |         NA |           NA |           NA |           NA |           NA |          NA |          NA |          NA |           NA |\n",
       "| SCNN1D |           NA |           NA |           NA | 8.915158e-04 |           NA |         NA |           NA |           NA |           NA |          NA | ⋯ |           NA |         NA |           NA |           NA |           NA |           NA |          NA |          NA |          NA |           NA |\n",
       "| ACAP3 | 1.348415e-10 | 4.205087e-04 | 9.752218e-04 | 6.554080e-04 | 7.248327e-03 |         NA | 1.666071e-03 |           NA |           NA |          NA | ⋯ |           NA |         NA |           NA |           NA |           NA | 1.421018e-02 |          NA |          NA |          NA |           NA |\n",
       "| PUSL1 | 1.358499e-08 | 7.249051e-03 | 1.811384e-04 |           NA |           NA |         NA | 4.921790e-02 |           NA |           NA |          NA | ⋯ |           NA |         NA |           NA |           NA |           NA |           NA |          NA |          NA |          NA |           NA |\n",
       "| INTS11 | 3.631299e-09 | 2.283247e-02 | 6.543726e-06 | 3.125428e-02 | 1.096240e-02 |         NA | 6.548503e-04 |           NA |           NA |          NA | ⋯ |           NA |         NA |           NA |           NA |           NA |           NA |          NA |          NA |          NA |           NA |\n",
       "| CPTP | 1.714244e-15 | 7.036411e-04 | 6.278953e-08 | 8.934732e-03 | 1.750876e-04 |         NA | 8.076009e-05 |           NA |           NA |          NA | ⋯ |           NA |         NA | 4.482443e-02 |           NA |           NA | 1.349387e-02 | 0.026189793 |          NA |          NA |           NA |\n",
       "| DVL1 | 1.170718e-06 | 9.749053e-04 |           NA | 1.288376e-02 |           NA |         NA | 2.856101e-02 |           NA |           NA |          NA | ⋯ |           NA |         NA |           NA |           NA |           NA | 8.746877e-02 |          NA |          NA | 0.095036828 |           NA |\n",
       "| MXRA8 | 4.271490e-07 | 9.215910e-02 |           NA |           NA | 3.190007e-03 |         NA |           NA | 0.0066476262 |           NA |          NA | ⋯ |           NA |         NA |           NA |           NA |           NA |           NA |          NA | 0.001759785 |          NA |           NA |\n",
       "| AURKAIP1 | 4.301235e-04 | 1.755263e-02 |           NA | 2.594271e-02 | 3.721020e-03 | 0.05712243 | 1.675078e-02 |           NA | 6.170303e-02 |          NA | ⋯ |           NA |         NA |           NA |           NA |           NA |           NA |          NA |          NA |          NA |           NA |\n",
       "| CCNL2 | 1.627028e-04 | 8.172201e-04 | 1.590080e-02 | 4.833150e-03 | 2.100682e-02 |         NA | 4.427992e-05 |           NA |           NA |          NA | ⋯ |           NA |         NA | 8.844675e-02 |           NA |           NA | 5.925947e-03 |          NA |          NA |          NA |           NA |\n",
       "| MRPL20 | 6.775735e-05 | 1.734317e-02 |           NA |           NA | 1.224014e-03 |         NA |           NA |           NA |           NA |          NA | ⋯ |           NA |         NA | 3.706921e-02 |           NA |           NA |           NA |          NA |          NA |          NA |           NA |\n",
       "| ANKRD65 |           NA |           NA |           NA | 2.242244e-05 |           NA |         NA |           NA |           NA |           NA |          NA | ⋯ |           NA |         NA |           NA |           NA |           NA |           NA |          NA |          NA |          NA |           NA |\n",
       "| TMEM88B |           NA | 2.953201e-08 |           NA |           NA |           NA |         NA | 1.201197e-08 | 0.0001999009 | 9.517288e-04 |          NA | ⋯ |           NA |         NA | 2.401697e-03 |           NA | 0.0010010481 |           NA |          NA |          NA |          NA |           NA |\n",
       "| ⋮ | ⋮ | ⋮ | ⋮ | ⋮ | ⋮ | ⋮ | ⋮ | ⋮ | ⋮ | ⋮ | ⋱ | ⋮ | ⋮ | ⋮ | ⋮ | ⋮ | ⋮ | ⋮ | ⋮ | ⋮ | ⋮ |\n",
       "| DKC1 | 7.942929e-02 |           NA | 5.499968e-02 | 8.373757e-02 |           NA |           NA |           NA |           NA |           NA |           NA | ⋯ | NA | NA | 3.465002e-02 |           NA | NA |           NA |           NA |           NA |           NA |         NA |\n",
       "| MPP1 | 2.428642e-10 | 3.246212e-06 | 8.990942e-02 | 1.894297e-04 | 1.385362e-04 |           NA | 1.722816e-02 |           NA |           NA |           NA | ⋯ | NA | NA |           NA |           NA | NA |           NA |           NA |           NA |           NA |         NA |\n",
       "| SMIM9 |           NA |           NA |           NA |           NA |           NA |           NA |           NA |           NA |           NA |           NA | ⋯ | NA | NA |           NA |           NA | NA | 1.138809e-02 |           NA |           NA |           NA |         NA |\n",
       "| F8 | 1.036988e-06 |           NA |           NA | 5.618890e-02 |           NA |           NA |           NA |           NA |           NA |           NA | ⋯ | NA | NA |           NA |           NA | NA |           NA |           NA |           NA |           NA |         NA |\n",
       "| F8A1 |           NA |           NA |           NA |           NA |           NA |           NA |           NA |           NA |           NA |           NA | ⋯ | NA | NA |           NA |           NA | NA |           NA |           NA | 2.509349e-12 |           NA |         NA |\n",
       "| FUNDC2 | 4.575430e-15 | 1.244761e-02 | 2.379812e-04 | 8.063544e-04 | 1.428985e-02 |           NA |           NA |           NA | 3.584753e-02 |           NA | ⋯ | NA | NA |           NA |           NA | NA | 4.845132e-02 |           NA |           NA |           NA | 0.06943765 |\n",
       "| CMC4 | 5.387765e-09 | 9.714747e-02 | 1.623331e-02 | 4.826609e-04 |           NA |           NA | 8.708000e-02 | 1.293704e-05 |           NA |           NA | ⋯ | NA | NA |           NA |           NA | NA |           NA |           NA |           NA |           NA |         NA |\n",
       "| MTCP1 | 6.122840e-06 |           NA | 8.397437e-02 | 6.849789e-02 |           NA |           NA |           NA | 7.501549e-03 |           NA |           NA | ⋯ | NA | NA |           NA |           NA | NA |           NA |           NA |           NA |           NA |         NA |\n",
       "| BRCC3 | 1.907519e-08 | 7.434392e-02 | 2.983133e-02 | 7.805750e-03 |           NA |           NA |           NA | 9.593419e-04 |           NA |           NA | ⋯ | NA | NA |           NA |           NA | NA |           NA |           NA |           NA |           NA |         NA |\n",
       "| VBP1 | 2.882852e-07 | 1.895152e-02 |           NA | 4.981679e-02 | 4.678422e-02 |           NA | 3.352590e-02 |           NA |           NA |           NA | ⋯ | NA | NA | 7.462976e-03 |           NA | NA |           NA |           NA |           NA |           NA |         NA |\n",
       "| RAB39B |           NA |           NA | 5.622510e-02 | 3.909969e-02 |           NA |           NA | 4.374383e-02 |           NA |           NA |           NA | ⋯ | NA | NA |           NA |           NA | NA |           NA |           NA |           NA |           NA |         NA |\n",
       "| CLIC2 | 1.800686e-05 | 2.366872e-02 | 4.549760e-05 | 4.203917e-04 | 2.056724e-06 |           NA | 1.214816e-04 |           NA | 7.766428e-02 |           NA | ⋯ | NA | NA |           NA |           NA | NA | 5.044759e-02 |           NA |           NA | 1.931563e-03 |         NA |\n",
       "| TMLHE | 3.800655e-03 |           NA |           NA |           NA |           NA |           NA |           NA |           NA |           NA |           NA | ⋯ | NA | NA |           NA |           NA | NA |           NA |           NA |           NA |           NA |         NA |\n",
       "| SPRY3 | 3.942232e-04 |           NA |           NA |           NA |           NA |           NA |           NA | 3.843053e-05 |           NA |           NA | ⋯ | NA | NA |           NA |           NA | NA |           NA |           NA |           NA |           NA |         NA |\n",
       "| VAMP7 | 8.307061e-04 | 1.439421e-02 | 5.218540e-02 | 8.494093e-02 |           NA |           NA | 2.070710e-02 | 4.835330e-02 |           NA |           NA | ⋯ | NA | NA |           NA |           NA | NA |           NA |           NA |           NA |           NA |         NA |\n",
       "| IL9R | 2.311381e-18 | 5.259290e-09 | 8.421777e-04 | 1.887293e-03 | 6.054846e-04 |           NA | 2.553300e-04 | 8.089820e-02 |           NA |           NA | ⋯ | NA | NA | 2.617155e-03 |           NA | NA | 2.394266e-02 | 5.793107e-04 | 2.568597e-02 | 4.616694e-02 |         NA |\n",
       "| SRY |           NA |           NA |           NA |           NA |           NA |           NA |           NA |           NA |           NA |           NA | ⋯ | NA | NA |           NA |           NA | NA |           NA |           NA |           NA |           NA |         NA |\n",
       "| RPS4Y1 |           NA |           NA |           NA |           NA | 8.371267e-02 |           NA |           NA |           NA |           NA |           NA | ⋯ | NA | NA |           NA | 1.244898e-02 | NA |           NA |           NA |           NA | 1.752682e-02 |         NA |\n",
       "| ZFY | 1.265268e-21 | 4.199078e-05 | 5.961013e-05 | 6.460346e-07 | 1.032172e-08 |           NA | 1.527413e-03 | 6.199192e-02 |           NA |           NA | ⋯ | NA | NA | 1.504853e-04 |           NA | NA | 1.465993e-05 | 6.804588e-06 | 2.409689e-02 | 9.276341e-02 | 0.09542973 |\n",
       "| AMELY |           NA |           NA |           NA |           NA |           NA |           NA |           NA |           NA |           NA |           NA | ⋯ | NA | NA |           NA | 8.566878e-40 | NA |           NA |           NA |           NA |           NA |         NA |\n",
       "| TBL1Y | 1.973462e-03 |           NA |           NA | 1.279045e-02 |           NA |           NA | 4.190317e-03 |           NA |           NA |           NA | ⋯ | NA | NA |           NA |           NA | NA | 4.574736e-02 | 1.004996e-04 |           NA |           NA |         NA |\n",
       "| TSPY8 |           NA |           NA |           NA |           NA |           NA |           NA |           NA |           NA |           NA |           NA | ⋯ | NA | NA |           NA |           NA | NA |           NA |           NA |           NA |           NA |         NA |\n",
       "| USP9Y |           NA |           NA |           NA |           NA |           NA |           NA |           NA |           NA |           NA |           NA | ⋯ | NA | NA |           NA |           NA | NA |           NA |           NA |           NA |           NA |         NA |\n",
       "| DDX3Y | 1.562905e-16 | 3.016304e-03 | 1.795072e-05 | 9.394530e-08 | 8.432851e-08 | 0.0014330360 | 7.994075e-07 |           NA | 1.678683e-06 |           NA | ⋯ | NA | NA |           NA |           NA | NA | 2.677603e-02 |           NA |           NA | 2.996589e-03 |         NA |\n",
       "| UTY | 2.202320e-13 | 1.108128e-02 | 3.507925e-03 | 2.797489e-04 | 3.861959e-04 |           NA | 1.095210e-05 |           NA |           NA | 2.466629e-02 | ⋯ | NA | NA | 4.730004e-04 |           NA | NA | 6.659960e-04 | 5.967855e-02 |           NA | 7.571984e-03 |         NA |\n",
       "| TMSB4Y | 1.328696e-07 |           NA | 2.278599e-02 |           NA | 1.781711e-02 |           NA | 7.994557e-04 |           NA |           NA |           NA | ⋯ | NA | NA |           NA |           NA | NA | 7.701345e-03 |           NA |           NA |           NA |         NA |\n",
       "| NLGN4Y |           NA |           NA |           NA | 2.005016e-03 |           NA |           NA | 1.338488e-04 |           NA |           NA |           NA | ⋯ | NA | NA |           NA |           NA | NA | 5.047866e-02 | 8.606041e-03 |           NA |           NA |         NA |\n",
       "| KDM5D | 3.783883e-08 |           NA |           NA |           NA | 1.265122e-02 | 0.0001748426 | 9.154871e-03 |           NA | 8.072675e-03 | 2.205973e-03 | ⋯ | NA | NA | 1.390342e-02 | 9.255470e-03 | NA | 9.812569e-05 |           NA |           NA |           NA |         NA |\n",
       "| EIF1AY | 9.859535e-07 |           NA | 7.871669e-02 | 5.077275e-07 | 1.472224e-08 |           NA | 3.423295e-02 | 3.036630e-02 |           NA |           NA | ⋯ | NA | NA | 1.190302e-05 |           NA | NA | 9.778478e-03 |           NA |           NA |           NA |         NA |\n",
       "| RPS4Y2 |           NA |           NA | 5.089248e-07 | 3.614638e-04 |           NA | 0.0156033109 | 1.268230e-03 |           NA | 8.972886e-02 | 1.661867e-07 | ⋯ | NA | NA |           NA | 9.954100e-02 | NA |           NA | 7.713440e-02 | 1.321554e-02 | 6.706857e-07 | 0.00302496 |\n",
       "\n"
      ],
      "text/plain": [
       "         X11838A      X2514A       X7639T       X318A        X9173A      \n",
       "OR4F5              NA           NA           NA           NA           NA\n",
       "SAMD11   7.459215e-18 1.183172e-06 3.180157e-06 2.119380e-03 1.613614e-02\n",
       "NOC2L    4.939408e-05 1.958852e-02 1.079181e-03           NA           NA\n",
       "KLHL17   3.877439e-07 4.063965e-04 3.967252e-04           NA 3.077373e-03\n",
       "PLEKHN1  2.686818e-12 5.655843e-05           NA 7.173758e-05 4.542773e-02\n",
       "PERM1              NA           NA 3.217910e-02           NA           NA\n",
       "HES4     4.065391e-07 4.538462e-02 3.781847e-07           NA           NA\n",
       "ISG15    2.007922e-18 4.017967e-04 4.035935e-10 1.144949e-02 2.190622e-04\n",
       "AGRN     6.830466e-08 1.138430e-04 1.601573e-03 1.929599e-02 2.484567e-06\n",
       "RNF223             NA           NA           NA           NA           NA\n",
       "C1orf159 5.102322e-08 9.349603e-05 1.040771e-03 3.354133e-03 3.923652e-05\n",
       "TTLL10   8.095706e-10           NA           NA 1.755559e-03 1.800821e-04\n",
       "TNFRSF18 4.680683e-14 7.750552e-03 6.782465e-02 5.001237e-04 6.681268e-03\n",
       "TNFRSF4  7.593104e-17 5.736025e-08 1.465529e-04 1.784983e-08 1.090717e-04\n",
       "SDF4     1.747483e-07           NA           NA           NA           NA\n",
       "B3GALT6  7.027372e-10           NA           NA           NA           NA\n",
       "C1QTNF12           NA           NA 4.247237e-03           NA           NA\n",
       "UBE2J2   3.262348e-05           NA           NA 4.027457e-02 5.835554e-02\n",
       "SCNN1D             NA           NA           NA 8.915158e-04           NA\n",
       "ACAP3    1.348415e-10 4.205087e-04 9.752218e-04 6.554080e-04 7.248327e-03\n",
       "PUSL1    1.358499e-08 7.249051e-03 1.811384e-04           NA           NA\n",
       "INTS11   3.631299e-09 2.283247e-02 6.543726e-06 3.125428e-02 1.096240e-02\n",
       "CPTP     1.714244e-15 7.036411e-04 6.278953e-08 8.934732e-03 1.750876e-04\n",
       "DVL1     1.170718e-06 9.749053e-04           NA 1.288376e-02           NA\n",
       "MXRA8    4.271490e-07 9.215910e-02           NA           NA 3.190007e-03\n",
       "AURKAIP1 4.301235e-04 1.755263e-02           NA 2.594271e-02 3.721020e-03\n",
       "CCNL2    1.627028e-04 8.172201e-04 1.590080e-02 4.833150e-03 2.100682e-02\n",
       "MRPL20   6.775735e-05 1.734317e-02           NA           NA 1.224014e-03\n",
       "ANKRD65            NA           NA           NA 2.242244e-05           NA\n",
       "TMEM88B            NA 2.953201e-08           NA           NA           NA\n",
       "⋮        ⋮            ⋮            ⋮            ⋮            ⋮           \n",
       "DKC1     7.942929e-02           NA 5.499968e-02 8.373757e-02           NA\n",
       "MPP1     2.428642e-10 3.246212e-06 8.990942e-02 1.894297e-04 1.385362e-04\n",
       "SMIM9              NA           NA           NA           NA           NA\n",
       "F8       1.036988e-06           NA           NA 5.618890e-02           NA\n",
       "F8A1               NA           NA           NA           NA           NA\n",
       "FUNDC2   4.575430e-15 1.244761e-02 2.379812e-04 8.063544e-04 1.428985e-02\n",
       "CMC4     5.387765e-09 9.714747e-02 1.623331e-02 4.826609e-04           NA\n",
       "MTCP1    6.122840e-06           NA 8.397437e-02 6.849789e-02           NA\n",
       "BRCC3    1.907519e-08 7.434392e-02 2.983133e-02 7.805750e-03           NA\n",
       "VBP1     2.882852e-07 1.895152e-02           NA 4.981679e-02 4.678422e-02\n",
       "RAB39B             NA           NA 5.622510e-02 3.909969e-02           NA\n",
       "CLIC2    1.800686e-05 2.366872e-02 4.549760e-05 4.203917e-04 2.056724e-06\n",
       "TMLHE    3.800655e-03           NA           NA           NA           NA\n",
       "SPRY3    3.942232e-04           NA           NA           NA           NA\n",
       "VAMP7    8.307061e-04 1.439421e-02 5.218540e-02 8.494093e-02           NA\n",
       "IL9R     2.311381e-18 5.259290e-09 8.421777e-04 1.887293e-03 6.054846e-04\n",
       "SRY                NA           NA           NA           NA           NA\n",
       "RPS4Y1             NA           NA           NA           NA 8.371267e-02\n",
       "ZFY      1.265268e-21 4.199078e-05 5.961013e-05 6.460346e-07 1.032172e-08\n",
       "AMELY              NA           NA           NA           NA           NA\n",
       "TBL1Y    1.973462e-03           NA           NA 1.279045e-02           NA\n",
       "TSPY8              NA           NA           NA           NA           NA\n",
       "USP9Y              NA           NA           NA           NA           NA\n",
       "DDX3Y    1.562905e-16 3.016304e-03 1.795072e-05 9.394530e-08 8.432851e-08\n",
       "UTY      2.202320e-13 1.108128e-02 3.507925e-03 2.797489e-04 3.861959e-04\n",
       "TMSB4Y   1.328696e-07           NA 2.278599e-02           NA 1.781711e-02\n",
       "NLGN4Y             NA           NA           NA 2.005016e-03           NA\n",
       "KDM5D    3.783883e-08           NA           NA           NA 1.265122e-02\n",
       "EIF1AY   9.859535e-07           NA 7.871669e-02 5.077275e-07 1.472224e-08\n",
       "RPS4Y2             NA           NA 5.089248e-07 3.614638e-04           NA\n",
       "         X13263G      X7775A       X11719A      X8701G       X14783C      ⋯\n",
       "OR4F5            NA             NA           NA           NA          NA  ⋯\n",
       "SAMD11           NA   4.290507e-04 0.0046975950           NA          NA  ⋯\n",
       "NOC2L            NA   7.229426e-04 0.0052093875           NA          NA  ⋯\n",
       "KLHL17   0.02380200   2.641913e-04 0.0674724653           NA 0.083064395  ⋯\n",
       "PLEKHN1          NA   2.488228e-06           NA           NA          NA  ⋯\n",
       "PERM1            NA             NA           NA           NA          NA  ⋯\n",
       "HES4             NA             NA           NA           NA 0.006068038  ⋯\n",
       "ISG15            NA   2.606180e-02           NA           NA          NA  ⋯\n",
       "AGRN             NA   2.434972e-03 0.0552159591           NA          NA  ⋯\n",
       "RNF223           NA             NA           NA           NA          NA  ⋯\n",
       "C1orf159         NA   1.203917e-02           NA           NA          NA  ⋯\n",
       "TTLL10           NA   1.646399e-02           NA           NA          NA  ⋯\n",
       "TNFRSF18         NA   3.529401e-05           NA 9.864522e-07          NA  ⋯\n",
       "TNFRSF4          NA             NA           NA 1.107683e-06          NA  ⋯\n",
       "SDF4             NA   5.042409e-03           NA           NA          NA  ⋯\n",
       "B3GALT6          NA   3.721201e-04           NA           NA          NA  ⋯\n",
       "C1QTNF12         NA             NA           NA 9.910211e-02          NA  ⋯\n",
       "UBE2J2           NA   8.578070e-02           NA           NA 0.037053074  ⋯\n",
       "SCNN1D           NA             NA           NA           NA          NA  ⋯\n",
       "ACAP3            NA   1.666071e-03           NA           NA          NA  ⋯\n",
       "PUSL1            NA   4.921790e-02           NA           NA          NA  ⋯\n",
       "INTS11           NA   6.548503e-04           NA           NA          NA  ⋯\n",
       "CPTP             NA   8.076009e-05           NA           NA          NA  ⋯\n",
       "DVL1             NA   2.856101e-02           NA           NA          NA  ⋯\n",
       "MXRA8            NA             NA 0.0066476262           NA          NA  ⋯\n",
       "AURKAIP1 0.05712243   1.675078e-02           NA 6.170303e-02          NA  ⋯\n",
       "CCNL2            NA   4.427992e-05           NA           NA          NA  ⋯\n",
       "MRPL20           NA             NA           NA           NA          NA  ⋯\n",
       "ANKRD65          NA             NA           NA           NA          NA  ⋯\n",
       "TMEM88B          NA   1.201197e-08 0.0001999009 9.517288e-04          NA  ⋯\n",
       "⋮        ⋮            ⋮            ⋮            ⋮            ⋮            ⋱\n",
       "DKC1               NA           NA           NA           NA           NA ⋯\n",
       "MPP1               NA 1.722816e-02           NA           NA           NA ⋯\n",
       "SMIM9              NA           NA           NA           NA           NA ⋯\n",
       "F8                 NA           NA           NA           NA           NA ⋯\n",
       "F8A1               NA           NA           NA           NA           NA ⋯\n",
       "FUNDC2             NA           NA           NA 3.584753e-02           NA ⋯\n",
       "CMC4               NA 8.708000e-02 1.293704e-05           NA           NA ⋯\n",
       "MTCP1              NA           NA 7.501549e-03           NA           NA ⋯\n",
       "BRCC3              NA           NA 9.593419e-04           NA           NA ⋯\n",
       "VBP1               NA 3.352590e-02           NA           NA           NA ⋯\n",
       "RAB39B             NA 4.374383e-02           NA           NA           NA ⋯\n",
       "CLIC2              NA 1.214816e-04           NA 7.766428e-02           NA ⋯\n",
       "TMLHE              NA           NA           NA           NA           NA ⋯\n",
       "SPRY3              NA           NA 3.843053e-05           NA           NA ⋯\n",
       "VAMP7              NA 2.070710e-02 4.835330e-02           NA           NA ⋯\n",
       "IL9R               NA 2.553300e-04 8.089820e-02           NA           NA ⋯\n",
       "SRY                NA           NA           NA           NA           NA ⋯\n",
       "RPS4Y1             NA           NA           NA           NA           NA ⋯\n",
       "ZFY                NA 1.527413e-03 6.199192e-02           NA           NA ⋯\n",
       "AMELY              NA           NA           NA           NA           NA ⋯\n",
       "TBL1Y              NA 4.190317e-03           NA           NA           NA ⋯\n",
       "TSPY8              NA           NA           NA           NA           NA ⋯\n",
       "USP9Y              NA           NA           NA           NA           NA ⋯\n",
       "DDX3Y    0.0014330360 7.994075e-07           NA 1.678683e-06           NA ⋯\n",
       "UTY                NA 1.095210e-05           NA           NA 2.466629e-02 ⋯\n",
       "TMSB4Y             NA 7.994557e-04           NA           NA           NA ⋯\n",
       "NLGN4Y             NA 1.338488e-04           NA           NA           NA ⋯\n",
       "KDM5D    0.0001748426 9.154871e-03           NA 8.072675e-03 2.205973e-03 ⋯\n",
       "EIF1AY             NA 3.423295e-02 3.036630e-02           NA           NA ⋯\n",
       "RPS4Y2   0.0156033109 1.268230e-03           NA 8.972886e-02 1.661867e-07 ⋯\n",
       "         X1082G       X9270A     X6431G       X6293C       X7589A      \n",
       "OR4F5              NA         NA           NA           NA           NA\n",
       "SAMD11             NA         NA           NA           NA           NA\n",
       "NOC2L    0.0981921574         NA           NA           NA           NA\n",
       "KLHL17   0.0366952165         NA           NA           NA           NA\n",
       "PLEKHN1  0.0006126678         NA 7.475221e-08 5.700009e-05           NA\n",
       "PERM1    0.0038576600         NA           NA           NA 0.0006319642\n",
       "HES4               NA         NA           NA           NA           NA\n",
       "ISG15              NA         NA 1.389492e-02           NA           NA\n",
       "AGRN               NA         NA 4.935194e-03           NA           NA\n",
       "RNF223             NA         NA           NA           NA           NA\n",
       "C1orf159           NA 0.09837265           NA           NA           NA\n",
       "TTLL10             NA         NA           NA           NA           NA\n",
       "TNFRSF18           NA         NA           NA           NA           NA\n",
       "TNFRSF4            NA         NA 1.345779e-02           NA 0.0065645753\n",
       "SDF4               NA         NA 7.726209e-03           NA           NA\n",
       "B3GALT6            NA         NA 1.511334e-03           NA           NA\n",
       "C1QTNF12           NA         NA 9.653488e-02           NA           NA\n",
       "UBE2J2             NA         NA           NA           NA           NA\n",
       "SCNN1D             NA         NA           NA           NA           NA\n",
       "ACAP3              NA         NA           NA           NA           NA\n",
       "PUSL1              NA         NA           NA           NA           NA\n",
       "INTS11             NA         NA           NA           NA           NA\n",
       "CPTP               NA         NA 4.482443e-02           NA           NA\n",
       "DVL1               NA         NA           NA           NA           NA\n",
       "MXRA8              NA         NA           NA           NA           NA\n",
       "AURKAIP1           NA         NA           NA           NA           NA\n",
       "CCNL2              NA         NA 8.844675e-02           NA           NA\n",
       "MRPL20             NA         NA 3.706921e-02           NA           NA\n",
       "ANKRD65            NA         NA           NA           NA           NA\n",
       "TMEM88B            NA         NA 2.401697e-03           NA 0.0010010481\n",
       "⋮        ⋮            ⋮          ⋮            ⋮            ⋮           \n",
       "DKC1     NA           NA         3.465002e-02           NA NA          \n",
       "MPP1     NA           NA                   NA           NA NA          \n",
       "SMIM9    NA           NA                   NA           NA NA          \n",
       "F8       NA           NA                   NA           NA NA          \n",
       "F8A1     NA           NA                   NA           NA NA          \n",
       "FUNDC2   NA           NA                   NA           NA NA          \n",
       "CMC4     NA           NA                   NA           NA NA          \n",
       "MTCP1    NA           NA                   NA           NA NA          \n",
       "BRCC3    NA           NA                   NA           NA NA          \n",
       "VBP1     NA           NA         7.462976e-03           NA NA          \n",
       "RAB39B   NA           NA                   NA           NA NA          \n",
       "CLIC2    NA           NA                   NA           NA NA          \n",
       "TMLHE    NA           NA                   NA           NA NA          \n",
       "SPRY3    NA           NA                   NA           NA NA          \n",
       "VAMP7    NA           NA                   NA           NA NA          \n",
       "IL9R     NA           NA         2.617155e-03           NA NA          \n",
       "SRY      NA           NA                   NA           NA NA          \n",
       "RPS4Y1   NA           NA                   NA 1.244898e-02 NA          \n",
       "ZFY      NA           NA         1.504853e-04           NA NA          \n",
       "AMELY    NA           NA                   NA 8.566878e-40 NA          \n",
       "TBL1Y    NA           NA                   NA           NA NA          \n",
       "TSPY8    NA           NA                   NA           NA NA          \n",
       "USP9Y    NA           NA                   NA           NA NA          \n",
       "DDX3Y    NA           NA                   NA           NA NA          \n",
       "UTY      NA           NA         4.730004e-04           NA NA          \n",
       "TMSB4Y   NA           NA                   NA           NA NA          \n",
       "NLGN4Y   NA           NA                   NA           NA NA          \n",
       "KDM5D    NA           NA         1.390342e-02 9.255470e-03 NA          \n",
       "EIF1AY   NA           NA         1.190302e-05           NA NA          \n",
       "RPS4Y2   NA           NA                   NA 9.954100e-02 NA          \n",
       "         X3599A       X10734C      X6961C       X955T        X3590A      \n",
       "OR4F5              NA          NA           NA           NA            NA\n",
       "SAMD11   9.964841e-06          NA           NA           NA            NA\n",
       "NOC2L    2.145988e-03 0.020582893           NA  0.041918014            NA\n",
       "KLHL17   2.235105e-04 0.005018092           NA  0.012187157            NA\n",
       "PLEKHN1  6.096829e-04          NA           NA  0.011642437            NA\n",
       "PERM1    1.787507e-04          NA           NA           NA  2.420579e-02\n",
       "HES4     8.990018e-02          NA           NA  0.009787026            NA\n",
       "ISG15              NA          NA           NA           NA            NA\n",
       "AGRN     1.271906e-02          NA           NA           NA            NA\n",
       "RNF223             NA          NA           NA           NA            NA\n",
       "C1orf159 5.800271e-03          NA           NA           NA            NA\n",
       "TTLL10             NA          NA           NA           NA            NA\n",
       "TNFRSF18 1.360762e-03          NA           NA  0.078332159  5.656443e-02\n",
       "TNFRSF4            NA          NA           NA           NA  1.274222e-14\n",
       "SDF4               NA          NA           NA           NA            NA\n",
       "B3GALT6  4.199856e-02          NA           NA           NA            NA\n",
       "C1QTNF12           NA          NA           NA           NA            NA\n",
       "UBE2J2             NA          NA           NA           NA            NA\n",
       "SCNN1D             NA          NA           NA           NA            NA\n",
       "ACAP3    1.421018e-02          NA           NA           NA            NA\n",
       "PUSL1              NA          NA           NA           NA            NA\n",
       "INTS11             NA          NA           NA           NA            NA\n",
       "CPTP     1.349387e-02 0.026189793           NA           NA            NA\n",
       "DVL1     8.746877e-02          NA           NA  0.095036828            NA\n",
       "MXRA8              NA          NA  0.001759785           NA            NA\n",
       "AURKAIP1           NA          NA           NA           NA            NA\n",
       "CCNL2    5.925947e-03          NA           NA           NA            NA\n",
       "MRPL20             NA          NA           NA           NA            NA\n",
       "ANKRD65            NA          NA           NA           NA            NA\n",
       "TMEM88B            NA          NA           NA           NA            NA\n",
       "⋮        ⋮            ⋮            ⋮            ⋮            ⋮           \n",
       "DKC1               NA           NA           NA           NA         NA  \n",
       "MPP1               NA           NA           NA           NA         NA  \n",
       "SMIM9    1.138809e-02           NA           NA           NA         NA  \n",
       "F8                 NA           NA           NA           NA         NA  \n",
       "F8A1               NA           NA 2.509349e-12           NA         NA  \n",
       "FUNDC2   4.845132e-02           NA           NA           NA 0.06943765  \n",
       "CMC4               NA           NA           NA           NA         NA  \n",
       "MTCP1              NA           NA           NA           NA         NA  \n",
       "BRCC3              NA           NA           NA           NA         NA  \n",
       "VBP1               NA           NA           NA           NA         NA  \n",
       "RAB39B             NA           NA           NA           NA         NA  \n",
       "CLIC2    5.044759e-02           NA           NA 1.931563e-03         NA  \n",
       "TMLHE              NA           NA           NA           NA         NA  \n",
       "SPRY3              NA           NA           NA           NA         NA  \n",
       "VAMP7              NA           NA           NA           NA         NA  \n",
       "IL9R     2.394266e-02 5.793107e-04 2.568597e-02 4.616694e-02         NA  \n",
       "SRY                NA           NA           NA           NA         NA  \n",
       "RPS4Y1             NA           NA           NA 1.752682e-02         NA  \n",
       "ZFY      1.465993e-05 6.804588e-06 2.409689e-02 9.276341e-02 0.09542973  \n",
       "AMELY              NA           NA           NA           NA         NA  \n",
       "TBL1Y    4.574736e-02 1.004996e-04           NA           NA         NA  \n",
       "TSPY8              NA           NA           NA           NA         NA  \n",
       "USP9Y              NA           NA           NA           NA         NA  \n",
       "DDX3Y    2.677603e-02           NA           NA 2.996589e-03         NA  \n",
       "UTY      6.659960e-04 5.967855e-02           NA 7.571984e-03         NA  \n",
       "TMSB4Y   7.701345e-03           NA           NA           NA         NA  \n",
       "NLGN4Y   5.047866e-02 8.606041e-03           NA           NA         NA  \n",
       "KDM5D    9.812569e-05           NA           NA           NA         NA  \n",
       "EIF1AY   9.778478e-03           NA           NA           NA         NA  \n",
       "RPS4Y2             NA 7.713440e-02 1.321554e-02 6.706857e-07 0.00302496  "
      ]
     },
     "metadata": {},
     "output_type": "display_data"
    }
   ],
   "source": [
    "all.pvals <- data.frame(matrix(nrow=dim(se.filt)[1],ncol=0),\n",
    "                          row.names=row.names(se.filt))\n",
    "all.names.sig <- c()\n",
    "\n",
    "# #sample_names\n",
    "\n",
    "for (curr.clone in mt.vars){\n",
    "    print(curr.clone)\n",
    "    clone.ids <- sort(unique(se.filt$name))\n",
    "    se.filt$clone.stim <- paste(se.filt[[curr.clone]][,curr.clone], se.filt$condition,  sep = \"_\")\n",
    "\n",
    "    # se$clone <- se$name\n",
    "    Idents(se.filt) <- \"clone.stim\"\n",
    "\n",
    "    ident.1 = paste0(\"0\", \"_\", sample_names[[1]]) \n",
    "    ident.2 = paste0(\"1\", \"_\", sample_names[[2]])\n",
    "    try({\n",
    "        print(curr.clone)\n",
    "        curr.name <-paste0(\"clone_\", curr.clone)\n",
    "        curr.clone.outdir <- file.path(outdir, paste0(\"clone_\", curr.clone))\n",
    "        dir.create(curr.clone.outdir)\n",
    "\n",
    "        curr.sig <- find.markers.and.plot(se.filt, ident.1, ident.2, curr.clone.outdir, \n",
    "                                          curr.name=curr.clone, assay=\"RNA\", logfcthresh=logfcthresh,\n",
    "                                          min.pct=minPct, p.thresh=p_thresh, mean.fxn=NULL, fc.name=NULL)\n",
    "        names.sig <- rownames(curr.sig)\n",
    "        all.names.sig <- c(all.names.sig, head(names.sig, top_de))\n",
    "        all.pvals[names.sig,curr.clone] <- curr.sig$p_val_adj_BH        \n",
    "    })\n",
    "    }\n",
    "\n",
    "\n",
    "\n",
    "all.pvals[rowSums(is.na(all.pvals)) != ncol(all.pvals), ]\n",
    "\n",
    "\n"
   ]
  },
  {
   "cell_type": "code",
   "execution_count": null,
   "id": "33a731b4",
   "metadata": {},
   "outputs": [],
   "source": []
  },
  {
   "cell_type": "code",
   "execution_count": 21,
   "id": "0e7c071b",
   "metadata": {},
   "outputs": [],
   "source": [
    "# ## DE sig summarize\n",
    "\n",
    "# all.names.sig\n",
    "\n",
    "# ### a) top 3 significant results from each comparison\n",
    "\n",
    "# all.names.sig <- unique(all.names.sig)\n",
    "# de.plots(se, all.names.sig, btwnConds_inClone_sepDonors.outdir, curr.name=\"allDonors.allClusters\", max.size=15)\n",
    "\n",
    "# dot <- DotPlot(se, scale=FALSE,\n",
    "#                features = head(all.names.sig,20), \n",
    "#                cluster.idents=T) + RotatedAxis()\n",
    "# dot\n",
    "# ggsave(file.path(btwnConds_inClone_sepDonors.outdir, \"allDonors.allClusters.top3de.png\"))\n",
    "# ggsave(file.path(btwnConds_inClone_sepDonors.outdir, \"allDonors.allClusters.top3de.pdf\"))\n",
    "\n",
    "\n",
    "\n",
    "# ## b) averaged top p-values (only average ones that were DE)\n",
    "\n",
    "# sig.all.ordered <- sort(rowMeans(-log10(all.pvals),na.rm=T), decreasing=T)\n",
    "# dot <- DotPlot(se, scale=T,\n",
    "#                features = names(head(sig.all.ordered,20)), \n",
    "#                cluster.idents=T) + RotatedAxis()\n",
    "# dot\n",
    "# ggsave(file.path(btwnConds_inClone_sepDonors.outdir, \"allDonors.allClusters.pvalsOrdered.png\"))\n",
    "# ggsave(file.path(btwnConds_inClone_sepDonors.outdir, \"allDonors.allClusters.pvalsOrdered.pdf\"))\n",
    "# #de.plots(se, names(sig.all.ordered), outdir, curr.name=\"allDonors.allClusters.pvalsOrdered\", max.size=20)\n",
    "\n",
    "# sig.all.ordered <- sort(rowMeans(-log10(all.pvals),na.rm=T), decreasing=T)\n",
    "# dot <- DotPlot(se, scale=F,\n",
    "#                features = head(names(sig.all.ordered),20), \n",
    "#                cluster.idents=T) + RotatedAxis()\n",
    "# dot\n"
   ]
  },
  {
   "cell_type": "code",
   "execution_count": 22,
   "id": "c0daa6c8",
   "metadata": {},
   "outputs": [
    {
     "data": {
      "text/plain": [
       "R version 4.1.1 (2021-08-10)\n",
       "Platform: x86_64-conda-linux-gnu (64-bit)\n",
       "Running under: Ubuntu 20.04.3 LTS\n",
       "\n",
       "Matrix products: default\n",
       "BLAS/LAPACK: /home/isaac/miniconda3/envs/mttrace/lib/libopenblasp-r0.3.18.so\n",
       "\n",
       "locale:\n",
       " [1] LC_CTYPE=en_US.UTF-8       LC_NUMERIC=C              \n",
       " [3] LC_TIME=en_US.UTF-8        LC_COLLATE=en_US.UTF-8    \n",
       " [5] LC_MONETARY=en_US.UTF-8    LC_MESSAGES=en_US.UTF-8   \n",
       " [7] LC_PAPER=en_US.UTF-8       LC_NAME=C                 \n",
       " [9] LC_ADDRESS=C               LC_TELEPHONE=C            \n",
       "[11] LC_MEASUREMENT=en_US.UTF-8 LC_IDENTIFICATION=C       \n",
       "\n",
       "attached base packages:\n",
       "[1] stats4    stats     graphics  grDevices utils     datasets  methods  \n",
       "[8] base     \n",
       "\n",
       "other attached packages:\n",
       " [1] future_1.23.0             dplyr_1.0.7              \n",
       " [3] RColorBrewer_1.1-2        metap_1.1                \n",
       " [5] cowplot_1.1.1             magrittr_2.0.1           \n",
       " [7] data.table_1.14.2         patchwork_1.1.1          \n",
       " [9] ggplot2_3.3.5             EnsDb.Hsapiens.v75_2.99.0\n",
       "[11] ensembldb_2.18.1          AnnotationFilter_1.18.0  \n",
       "[13] GenomicFeatures_1.46.1    AnnotationDbi_1.56.1     \n",
       "[15] Biobase_2.54.0            Signac_1.4.0             \n",
       "[17] SeuratObject_4.0.4        Seurat_4.0.5             \n",
       "[19] GenomicRanges_1.46.0      GenomeInfoDb_1.30.0      \n",
       "[21] IRanges_2.28.0            S4Vectors_0.32.0         \n",
       "[23] BiocGenerics_0.40.0      \n",
       "\n",
       "loaded via a namespace (and not attached):\n",
       "  [1] utf8_1.2.2                  reticulate_1.22            \n",
       "  [3] tidyselect_1.1.1            RSQLite_2.2.8              \n",
       "  [5] htmlwidgets_1.5.4           grid_4.1.1                 \n",
       "  [7] docopt_0.7.1                BiocParallel_1.28.0        \n",
       "  [9] Rtsne_0.15                  munsell_0.5.0              \n",
       " [11] codetools_0.2-18            ica_1.0-2                  \n",
       " [13] pbdZMQ_0.3-6                miniUI_0.1.1.1             \n",
       " [15] withr_2.4.2                 colorspace_2.0-2           \n",
       " [17] filelock_1.0.2              uuid_1.0-3                 \n",
       " [19] ROCR_1.0-11                 tensor_1.5                 \n",
       " [21] listenv_0.8.0               labeling_0.4.2             \n",
       " [23] MatrixGenerics_1.6.0        Rdpack_2.1.2               \n",
       " [25] slam_0.1-49                 repr_1.1.3                 \n",
       " [27] GenomeInfoDbData_1.2.7      polyclip_1.10-0            \n",
       " [29] bit64_4.0.5                 farver_2.1.0               \n",
       " [31] parallelly_1.29.0           vctrs_0.3.8                \n",
       " [33] generics_0.1.1              BiocFileCache_2.2.0        \n",
       " [35] lsa_0.73.2                  ggseqlogo_0.1              \n",
       " [37] doParallel_1.0.16           R6_2.5.1                   \n",
       " [39] clue_0.3-60                 reshape_0.8.8              \n",
       " [41] bitops_1.0-7                spatstat.utils_2.2-0       \n",
       " [43] cachem_1.0.6                DelayedArray_0.20.0        \n",
       " [45] assertthat_0.2.1            promises_1.2.0.1           \n",
       " [47] BiocIO_1.4.0                scales_1.1.1               \n",
       " [49] gtable_0.3.0                globals_0.14.0             \n",
       " [51] goftest_1.2-3               rlang_0.4.12               \n",
       " [53] RcppRoll_0.3.0              GlobalOptions_0.1.2        \n",
       " [55] splines_4.1.1               rtracklayer_1.54.0         \n",
       " [57] lazyeval_0.2.2              spatstat.geom_2.3-0        \n",
       " [59] yaml_2.2.1                  reshape2_1.4.4             \n",
       " [61] abind_1.4-5                 httpuv_1.6.3               \n",
       " [63] tools_4.1.1                 ellipsis_0.3.2             \n",
       " [65] spatstat.core_2.3-2         ggridges_0.5.3             \n",
       " [67] Rcpp_1.0.7                  plyr_1.8.6                 \n",
       " [69] base64enc_0.1-3             progress_1.2.2             \n",
       " [71] zlibbioc_1.40.0             purrr_0.3.4                \n",
       " [73] RCurl_1.98-1.5              prettyunits_1.1.1          \n",
       " [75] rpart_4.1-15                deldir_1.0-6               \n",
       " [77] GetoptLong_1.0.5            pbapply_1.5-0              \n",
       " [79] zoo_1.8-9                   SummarizedExperiment_1.24.0\n",
       " [81] ggrepel_0.9.1               cluster_2.1.2              \n",
       " [83] magick_2.7.3                scattermore_0.7            \n",
       " [85] circlize_0.4.13             lmtest_0.9-39              \n",
       " [87] RANN_2.6.1                  SnowballC_0.7.0            \n",
       " [89] ProtGenerics_1.26.0         fitdistrplus_1.1-6         \n",
       " [91] matrixStats_0.61.0          hms_1.1.1                  \n",
       " [93] mime_0.12                   evaluate_0.14              \n",
       " [95] xtable_1.8-4                XML_3.99-0.8               \n",
       " [97] sparsesvd_0.2               shape_1.4.6                \n",
       " [99] gridExtra_2.3               compiler_4.1.1             \n",
       "[101] biomaRt_2.50.0              tibble_3.1.6               \n",
       "[103] KernSmooth_2.23-20          crayon_1.4.2               \n",
       "[105] htmltools_0.5.2             mgcv_1.8-38                \n",
       "[107] later_1.2.0                 tidyr_1.1.4                \n",
       "[109] DBI_1.1.1                   tweenr_1.0.2               \n",
       "[111] ComplexHeatmap_2.10.0       dbplyr_2.1.1               \n",
       "[113] MASS_7.3-54                 rappdirs_0.3.3             \n",
       "[115] Matrix_1.3-4                rbibutils_2.2.4            \n",
       "[117] parallel_4.1.1              igraph_1.2.9               \n",
       "[119] pkgconfig_2.0.3             GenomicAlignments_1.30.0   \n",
       "[121] IRdisplay_1.0               plotly_4.10.0              \n",
       "[123] spatstat.sparse_2.0-0       foreach_1.5.1              \n",
       "[125] xml2_1.3.2                  XVector_0.34.0             \n",
       "[127] stringr_1.4.0               digest_0.6.28              \n",
       "[129] sctransform_0.3.2           RcppAnnoy_0.0.19           \n",
       "[131] spatstat.data_2.1-0         Biostrings_2.62.0          \n",
       "[133] leiden_0.3.9                fastmatch_1.1-3            \n",
       "[135] uwot_0.1.10                 restfulr_0.0.13            \n",
       "[137] curl_4.3.2                  shiny_1.7.1                \n",
       "[139] Rsamtools_2.10.0            rjson_0.2.20               \n",
       "[141] lifecycle_1.0.1             nlme_3.1-153               \n",
       "[143] jsonlite_1.7.2              limma_3.50.0               \n",
       "[145] viridisLite_0.4.0           fansi_0.4.2                \n",
       "[147] pillar_1.6.4                GGally_2.1.2               \n",
       "[149] lattice_0.20-45             KEGGREST_1.34.0            \n",
       "[151] fastmap_1.1.0               httr_1.4.2                 \n",
       "[153] survival_3.2-13             glue_1.5.1                 \n",
       "[155] qlcMatrix_0.9.7             iterators_1.0.13           \n",
       "[157] png_0.1-7                   bit_4.0.4                  \n",
       "[159] ggforce_0.3.3               stringi_1.7.6              \n",
       "[161] blob_1.2.2                  memoise_2.0.1              \n",
       "[163] IRkernel_1.2                irlba_2.3.3                \n",
       "[165] future.apply_1.8.1         "
      ]
     },
     "metadata": {},
     "output_type": "display_data"
    }
   ],
   "source": [
    "sessionInfo()"
   ]
  },
  {
   "cell_type": "code",
   "execution_count": 23,
   "id": "1f1782dd",
   "metadata": {
    "scrolled": false
   },
   "outputs": [
    {
     "data": {
      "text/html": [
       "'/data/Mito_Trace/output/pipeline/CHIP_Input_nameFix_april08_2021/MTblacklist/data/merged/MT/cellr_True/numread_200/filters/minC10_minR50_topN0_hetT0.001_hetC10_hetCount5_bq20/mgatk/vireoIn/clones/variants_init/knn/kparam_3/concat/gff_hg38_1_2/thr__0.01_rt__10/annotation_clones/de_clone_btwnvars_RNA/minPct_0.1_logfc0_minCells1_pthresh0.1'"
      ],
      "text/latex": [
       "'/data/Mito\\_Trace/output/pipeline/CHIP\\_Input\\_nameFix\\_april08\\_2021/MTblacklist/data/merged/MT/cellr\\_True/numread\\_200/filters/minC10\\_minR50\\_topN0\\_hetT0.001\\_hetC10\\_hetCount5\\_bq20/mgatk/vireoIn/clones/variants\\_init/knn/kparam\\_3/concat/gff\\_hg38\\_1\\_2/thr\\_\\_0.01\\_rt\\_\\_10/annotation\\_clones/de\\_clone\\_btwnvars\\_RNA/minPct\\_0.1\\_logfc0\\_minCells1\\_pthresh0.1'"
      ],
      "text/markdown": [
       "'/data/Mito_Trace/output/pipeline/CHIP_Input_nameFix_april08_2021/MTblacklist/data/merged/MT/cellr_True/numread_200/filters/minC10_minR50_topN0_hetT0.001_hetC10_hetCount5_bq20/mgatk/vireoIn/clones/variants_init/knn/kparam_3/concat/gff_hg38_1_2/thr__0.01_rt__10/annotation_clones/de_clone_btwnvars_RNA/minPct_0.1_logfc0_minCells1_pthresh0.1'"
      ],
      "text/plain": [
       "[1] \"/data/Mito_Trace/output/pipeline/CHIP_Input_nameFix_april08_2021/MTblacklist/data/merged/MT/cellr_True/numread_200/filters/minC10_minR50_topN0_hetT0.001_hetC10_hetCount5_bq20/mgatk/vireoIn/clones/variants_init/knn/kparam_3/concat/gff_hg38_1_2/thr__0.01_rt__10/annotation_clones/de_clone_btwnvars_RNA/minPct_0.1_logfc0_minCells1_pthresh0.1\""
      ]
     },
     "metadata": {},
     "output_type": "display_data"
    }
   ],
   "source": [
    "outdir"
   ]
  },
  {
   "cell_type": "code",
   "execution_count": null,
   "id": "2c0d478b",
   "metadata": {},
   "outputs": [],
   "source": []
  }
 ],
 "metadata": {
  "celltoolbar": "Tags",
  "kernelspec": {
   "display_name": "R",
   "language": "R",
   "name": "ir"
  },
  "language_info": {
   "codemirror_mode": "r",
   "file_extension": ".r",
   "mimetype": "text/x-r-source",
   "name": "R",
   "pygments_lexer": "r",
   "version": "4.1.1"
  }
 },
 "nbformat": 4,
 "nbformat_minor": 5
}
