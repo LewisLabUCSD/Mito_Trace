{
 "cells": [
  {
   "cell_type": "code",
   "execution_count": 1,
   "id": "4246cc89",
   "metadata": {
    "tags": [
     "parameters"
    ]
   },
   "outputs": [],
   "source": [
    "#enrich_f = \"/data2/mito_lineage/output/pipeline/cd34norm/MTblacklist/data/merged/MT/cellr_True/numread_200/filters/minC10_minR50_topN0_hetT0.001_hetC10_hetCount5_bq20/mgatk/vireoIn/clones/variants_mgatkdonor/knn/kparam_3/enrichment/enrichmentNorm_donor0.csv\"\n",
    "\n",
    "N_DONORS = 5\n",
    "#\"/data2/mito_lineage/output/pipeline/cd34norm/MTblacklist/data/merged/clones.txt\"\n",
    "outdir = \"/data2/mito_lineage/output/annotation_clones/data/cd34norm/MTblacklist/DE/\"\n",
    "ids.reversed = TRUE\n",
    "#enrichment_f\n",
    "se_f = \"/data2/mito_lineage/output/pipeline/TcellDupi_may17_2021/MTblacklist/data/merged/MT/cellr_True/numread_200/filters/minC10_minR50_topN0_hetT0.001_hetC10_hetCount5_bq20/mgatk/vireoIn/clones/variants_simple/vireo/nclones20/enrichment/annotation_clones/SE.rds\" \n",
    "outdir = \"/data2/mito_lineage/output/pipeline/TcellDupi_may17_2021/MTblacklist/data/merged/MT/cellr_True/numread_200/filters/minC10_minR50_topN0_hetT0.001_hetC10_hetCount5_bq20/mgatk/vireoIn/clones/variants_simple/vireo/nclones20/enrichment/annotation_clones/DE\"\n"
   ]
  },
  {
   "cell_type": "code",
   "execution_count": 2,
   "id": "f87bdc42",
   "metadata": {},
   "outputs": [
    {
     "name": "stderr",
     "output_type": "stream",
     "text": [
      "Attaching SeuratObject\n",
      "\n"
     ]
    }
   ],
   "source": [
    "library(Seurat)\n",
    "library('ggplot2')"
   ]
  },
  {
   "cell_type": "markdown",
   "id": "bc1ff123",
   "metadata": {},
   "source": [
    "## Load seurat"
   ]
  },
  {
   "cell_type": "code",
   "execution_count": 3,
   "id": "b9d663ce",
   "metadata": {
    "scrolled": false
   },
   "outputs": [
    {
     "name": "stderr",
     "output_type": "stream",
     "text": [
      "Loading required package: Signac\n",
      "\n"
     ]
    },
    {
     "data": {
      "text/plain": [
       "An object of class Seurat \n",
       "169545 features across 18492 samples within 2 assays \n",
       "Active assay: RNA (20010 features, 0 variable features)\n",
       " 1 other assay present: ATAC\n",
       " 2 dimensional reductions calculated: integrated_lsi, umap"
      ]
     },
     "metadata": {},
     "output_type": "display_data"
    }
   ],
   "source": [
    "se <- readRDS(se_f)\n",
    "se"
   ]
  },
  {
   "cell_type": "code",
   "execution_count": 4,
   "id": "5192be7d",
   "metadata": {},
   "outputs": [
    {
     "data": {
      "text/html": [
       "<table class=\"dataframe\">\n",
       "<caption>A data.frame: 18492 × 32</caption>\n",
       "<thead>\n",
       "\t<tr><th></th><th scope=col>orig.ident</th><th scope=col>nCount_ATAC</th><th scope=col>nFeature_ATAC</th><th scope=col>total</th><th scope=col>duplicate</th><th scope=col>chimeric</th><th scope=col>unmapped</th><th scope=col>lowmapq</th><th scope=col>mitochondrial</th><th scope=col>passed_filters</th><th scope=col>⋯</th><th scope=col>seurat_clusters</th><th scope=col>nCount_RNA</th><th scope=col>nFeature_RNA</th><th scope=col>ID</th><th scope=col>Row.names</th><th scope=col>ID.x</th><th scope=col>lineage</th><th scope=col>donor</th><th scope=col>condition</th><th scope=col>ID.y</th></tr>\n",
       "\t<tr><th></th><th scope=col>&lt;chr&gt;</th><th scope=col>&lt;dbl&gt;</th><th scope=col>&lt;int&gt;</th><th scope=col>&lt;dbl&gt;</th><th scope=col>&lt;dbl&gt;</th><th scope=col>&lt;dbl&gt;</th><th scope=col>&lt;dbl&gt;</th><th scope=col>&lt;dbl&gt;</th><th scope=col>&lt;dbl&gt;</th><th scope=col>&lt;dbl&gt;</th><th scope=col>⋯</th><th scope=col>&lt;fct&gt;</th><th scope=col>&lt;dbl&gt;</th><th scope=col>&lt;int&gt;</th><th scope=col>&lt;chr&gt;</th><th scope=col>&lt;I&lt;chr&gt;&gt;</th><th scope=col>&lt;chr&gt;</th><th scope=col>&lt;fct&gt;</th><th scope=col>&lt;fct&gt;</th><th scope=col>&lt;fct&gt;</th><th scope=col>&lt;chr&gt;</th></tr>\n",
       "</thead>\n",
       "<tbody>\n",
       "\t<tr><th scope=row>Control_AAACGAAAGAGGTCCA-1</th><td>Control</td><td>1357</td><td>1357</td><td> 16929</td><td> 2587</td><td> 58</td><td> 70</td><td> 674</td><td> 9629</td><td> 3911</td><td>⋯</td><td>5 </td><td>1673</td><td>1406</td><td>Control_AAACGAAAGAGGTCCA-1</td><td>Control_AAACGAAAGAGGTCCA-1</td><td>AAACGAAAGAGGTCCA-1_Control</td><td>9   </td><td>3   </td><td>Control</td><td>Control_AAACGAAAGAGGTCCA-1</td></tr>\n",
       "\t<tr><th scope=row>Control_AAACGAAAGCGATACG-1</th><td>Control</td><td>3505</td><td>3505</td><td> 45359</td><td>10546</td><td>184</td><td>184</td><td>2302</td><td>22247</td><td> 9896</td><td>⋯</td><td>0 </td><td>4315</td><td>3063</td><td>Control_AAACGAAAGCGATACG-1</td><td>Control_AAACGAAAGCGATACG-1</td><td>AAACGAAAGCGATACG-1_Control</td><td>0   </td><td>1   </td><td>Control</td><td>Control_AAACGAAAGCGATACG-1</td></tr>\n",
       "\t<tr><th scope=row>Control_AAACGAAAGTCGTGAG-1</th><td>Control</td><td> 994</td><td> 994</td><td> 10177</td><td> 2450</td><td> 48</td><td> 60</td><td> 657</td><td> 2135</td><td> 4827</td><td>⋯</td><td>5 </td><td>1731</td><td>1414</td><td>Control_AAACGAAAGTCGTGAG-1</td><td>Control_AAACGAAAGTCGTGAG-1</td><td>AAACGAAAGTCGTGAG-1_Control</td><td>8   </td><td>0   </td><td>Control</td><td>Control_AAACGAAAGTCGTGAG-1</td></tr>\n",
       "\t<tr><th scope=row>Control_AAACGAACAATAGTGA-1</th><td>Control</td><td>2687</td><td>2687</td><td> 22452</td><td> 4364</td><td>100</td><td> 83</td><td> 897</td><td> 9233</td><td> 7775</td><td>⋯</td><td>0 </td><td>3113</td><td>2340</td><td>Control_AAACGAACAATAGTGA-1</td><td>Control_AAACGAACAATAGTGA-1</td><td>AAACGAACAATAGTGA-1_Control</td><td>11  </td><td>3   </td><td>Control</td><td>Control_AAACGAACAATAGTGA-1</td></tr>\n",
       "\t<tr><th scope=row>Control_AAACGAACACAATAAG-1</th><td>Control</td><td>1184</td><td>1184</td><td> 11763</td><td> 2003</td><td> 43</td><td> 57</td><td> 680</td><td> 5547</td><td> 3433</td><td>⋯</td><td>5 </td><td>1559</td><td>1394</td><td>Control_AAACGAACACAATAAG-1</td><td>Control_AAACGAACACAATAAG-1</td><td>AAACGAACACAATAAG-1_Control</td><td>22  </td><td>0   </td><td>Control</td><td>Control_AAACGAACACAATAAG-1</td></tr>\n",
       "\t<tr><th scope=row>Control_AAACGAACACTGATAC-1</th><td>Control</td><td> 954</td><td> 954</td><td>  9449</td><td> 1971</td><td> 59</td><td> 21</td><td> 489</td><td> 3785</td><td> 3124</td><td>⋯</td><td>2 </td><td>1370</td><td>1207</td><td>Control_AAACGAACACTGATAC-1</td><td>Control_AAACGAACACTGATAC-1</td><td>AAACGAACACTGATAC-1_Control</td><td>11  </td><td>2   </td><td>Control</td><td>Control_AAACGAACACTGATAC-1</td></tr>\n",
       "\t<tr><th scope=row>Control_AAACGAACAGTAACCT-1</th><td>Control</td><td> 693</td><td> 693</td><td>  6196</td><td> 1097</td><td> 19</td><td> 17</td><td> 288</td><td> 2635</td><td> 2140</td><td>⋯</td><td>8 </td><td>1018</td><td> 939</td><td>Control_AAACGAACAGTAACCT-1</td><td>Control_AAACGAACAGTAACCT-1</td><td>AAACGAACAGTAACCT-1_Control</td><td>34  </td><td>2   </td><td>Control</td><td>Control_AAACGAACAGTAACCT-1</td></tr>\n",
       "\t<tr><th scope=row>Control_AAACGAACATCGTGAT-1</th><td>Control</td><td>6800</td><td>6800</td><td>100024</td><td>36721</td><td>588</td><td>531</td><td>5317</td><td>36828</td><td>20039</td><td>⋯</td><td>12</td><td>8645</td><td>5001</td><td>Control_AAACGAACATCGTGAT-1</td><td>Control_AAACGAACATCGTGAT-1</td><td>AAACGAACATCGTGAT-1_Control</td><td>2   </td><td>3   </td><td>Control</td><td>Control_AAACGAACATCGTGAT-1</td></tr>\n",
       "\t<tr><th scope=row>Control_AAACGAAGTAACGGTG-1</th><td>Control</td><td>1074</td><td>1074</td><td>  8454</td><td> 1950</td><td> 24</td><td> 33</td><td> 354</td><td> 3729</td><td> 2364</td><td>⋯</td><td>7 </td><td>1005</td><td> 905</td><td>Control_AAACGAAGTAACGGTG-1</td><td>Control_AAACGAAGTAACGGTG-1</td><td>AAACGAAGTAACGGTG-1_Control</td><td>36  </td><td>3   </td><td>Control</td><td>Control_AAACGAAGTAACGGTG-1</td></tr>\n",
       "\t<tr><th scope=row>Control_AAACGAAGTAAGTCTC-1</th><td>Control</td><td>1262</td><td>1262</td><td>  7684</td><td> 1420</td><td> 36</td><td> 23</td><td> 488</td><td> 1787</td><td> 3930</td><td>⋯</td><td>13</td><td>1688</td><td>1452</td><td>Control_AAACGAAGTAAGTCTC-1</td><td>Control_AAACGAAGTAAGTCTC-1</td><td>AAACGAAGTAAGTCTC-1_Control</td><td>52  </td><td>0   </td><td>Control</td><td>Control_AAACGAAGTAAGTCTC-1</td></tr>\n",
       "\t<tr><th scope=row>Control_AAACGAAGTACCAAGG-1</th><td>Control</td><td>3936</td><td>3936</td><td> 27865</td><td> 7135</td><td>126</td><td>131</td><td>1330</td><td> 9549</td><td> 9594</td><td>⋯</td><td>12</td><td>4544</td><td>3265</td><td>Control_AAACGAAGTACCAAGG-1</td><td>Control_AAACGAAGTACCAAGG-1</td><td>AAACGAAGTACCAAGG-1_Control</td><td>15  </td><td>1   </td><td>Control</td><td>Control_AAACGAAGTACCAAGG-1</td></tr>\n",
       "\t<tr><th scope=row>Control_AAACGAAGTCCCGTGA-1</th><td>Control</td><td>4425</td><td>4425</td><td> 31805</td><td> 8689</td><td>178</td><td>135</td><td>1649</td><td> 7738</td><td>13416</td><td>⋯</td><td>9 </td><td>5971</td><td>3996</td><td>Control_AAACGAAGTCCCGTGA-1</td><td>Control_AAACGAAGTCCCGTGA-1</td><td>AAACGAAGTCCCGTGA-1_Control</td><td>21  </td><td>2   </td><td>Control</td><td>Control_AAACGAAGTCCCGTGA-1</td></tr>\n",
       "\t<tr><th scope=row>Control_AAACGAAGTGGATTCT-1</th><td>Control</td><td> 805</td><td> 805</td><td>  9518</td><td> 1121</td><td> 32</td><td> 37</td><td> 330</td><td> 5983</td><td> 2015</td><td>⋯</td><td>5 </td><td> 853</td><td> 780</td><td>Control_AAACGAAGTGGATTCT-1</td><td>Control_AAACGAAGTGGATTCT-1</td><td>AAACGAAGTGGATTCT-1_Control</td><td>5   </td><td>0   </td><td>Control</td><td>Control_AAACGAAGTGGATTCT-1</td></tr>\n",
       "\t<tr><th scope=row>Control_AAACGAATCGAGCGCT-1</th><td>Control</td><td>1892</td><td>1892</td><td> 11456</td><td> 2558</td><td> 61</td><td> 49</td><td> 687</td><td> 3476</td><td> 4625</td><td>⋯</td><td>0 </td><td>2089</td><td>1779</td><td>Control_AAACGAATCGAGCGCT-1</td><td>Control_AAACGAATCGAGCGCT-1</td><td>AAACGAATCGAGCGCT-1_Control</td><td>25  </td><td>3   </td><td>Control</td><td>Control_AAACGAATCGAGCGCT-1</td></tr>\n",
       "\t<tr><th scope=row>Control_AAACGAATCGCAACTA-1</th><td>Control</td><td>6272</td><td>6272</td><td> 56262</td><td>15793</td><td>214</td><td>374</td><td>3523</td><td>19210</td><td>17148</td><td>⋯</td><td>1 </td><td>7970</td><td>4809</td><td>Control_AAACGAATCGCAACTA-1</td><td>Control_AAACGAATCGCAACTA-1</td><td>AAACGAATCGCAACTA-1_Control</td><td>5   </td><td>0   </td><td>Control</td><td>Control_AAACGAATCGCAACTA-1</td></tr>\n",
       "\t<tr><th scope=row>Control_AAACGAATCGCGCTGA-1</th><td>Control</td><td> 614</td><td> 614</td><td>  6366</td><td>  747</td><td> 30</td><td> 20</td><td> 306</td><td> 3521</td><td> 1742</td><td>⋯</td><td>5 </td><td> 743</td><td> 690</td><td>Control_AAACGAATCGCGCTGA-1</td><td>Control_AAACGAATCGCGCTGA-1</td><td>AAACGAATCGCGCTGA-1_Control</td><td>0   </td><td>3   </td><td>Control</td><td>Control_AAACGAATCGCGCTGA-1</td></tr>\n",
       "\t<tr><th scope=row>Control_AAACTCGAGATTACGA-1</th><td>Control</td><td>1763</td><td>1763</td><td> 22032</td><td> 3419</td><td> 83</td><td> 85</td><td>1085</td><td>11844</td><td> 5516</td><td>⋯</td><td>3 </td><td>2362</td><td>1974</td><td>Control_AAACTCGAGATTACGA-1</td><td>Control_AAACTCGAGATTACGA-1</td><td>AAACTCGAGATTACGA-1_Control</td><td>36  </td><td>3   </td><td>Control</td><td>Control_AAACTCGAGATTACGA-1</td></tr>\n",
       "\t<tr><th scope=row>Control_AAACTCGCAAGACTTC-1</th><td>Control</td><td> 402</td><td> 402</td><td>  5303</td><td>  728</td><td>  8</td><td> 18</td><td> 232</td><td> 2874</td><td> 1443</td><td>⋯</td><td>8 </td><td> 697</td><td> 654</td><td>Control_AAACTCGCAAGACTTC-1</td><td>Control_AAACTCGCAAGACTTC-1</td><td>AAACTCGCAAGACTTC-1_Control</td><td>0   </td><td>0   </td><td>Control</td><td>Control_AAACTCGCAAGACTTC-1</td></tr>\n",
       "\t<tr><th scope=row>Control_AAACTCGCACAAGGGT-1</th><td>Control</td><td> 336</td><td> 336</td><td> 18623</td><td>  982</td><td>  9</td><td> 91</td><td> 510</td><td>15503</td><td> 1528</td><td>⋯</td><td>10</td><td> 663</td><td> 616</td><td>Control_AAACTCGCACAAGGGT-1</td><td>Control_AAACTCGCACAAGGGT-1</td><td>AAACTCGCACAAGGGT-1_Control</td><td>1   </td><td>1   </td><td>Control</td><td>Control_AAACTCGCACAAGGGT-1</td></tr>\n",
       "\t<tr><th scope=row>Control_AAACTCGCACCTCGTT-1</th><td>Control</td><td>3499</td><td>3499</td><td> 30543</td><td> 6297</td><td>148</td><td>239</td><td>1359</td><td>12689</td><td> 9811</td><td>⋯</td><td>0 </td><td>4338</td><td>3121</td><td>Control_AAACTCGCACCTCGTT-1</td><td>Control_AAACTCGCACCTCGTT-1</td><td>AAACTCGCACCTCGTT-1_Control</td><td>5   </td><td>1   </td><td>Control</td><td>Control_AAACTCGCACCTCGTT-1</td></tr>\n",
       "\t<tr><th scope=row>Control_AAACTCGCACTTGCGG-1</th><td>Control</td><td> 631</td><td> 631</td><td>  7038</td><td>  991</td><td> 27</td><td> 31</td><td> 299</td><td> 3787</td><td> 1903</td><td>⋯</td><td>7 </td><td> 799</td><td> 726</td><td>Control_AAACTCGCACTTGCGG-1</td><td>Control_AAACTCGCACTTGCGG-1</td><td>AAACTCGCACTTGCGG-1_Control</td><td>13  </td><td>2   </td><td>Control</td><td>Control_AAACTCGCACTTGCGG-1</td></tr>\n",
       "\t<tr><th scope=row>Control_AAACTCGCATCGCCTT-1</th><td>Control</td><td>1469</td><td>1469</td><td> 13537</td><td> 3614</td><td> 56</td><td> 90</td><td> 777</td><td> 3050</td><td> 5950</td><td>⋯</td><td>8 </td><td>2427</td><td>1934</td><td>Control_AAACTCGCATCGCCTT-1</td><td>Control_AAACTCGCATCGCCTT-1</td><td>AAACTCGCATCGCCTT-1_Control</td><td>52  </td><td>0   </td><td>Control</td><td>Control_AAACTCGCATCGCCTT-1</td></tr>\n",
       "\t<tr><th scope=row>Control_AAACTCGCATGTGGGA-1</th><td>Control</td><td>3349</td><td>3349</td><td> 48037</td><td> 8932</td><td>171</td><td>241</td><td>1618</td><td>26241</td><td>10834</td><td>⋯</td><td>2 </td><td>4880</td><td>3364</td><td>Control_AAACTCGCATGTGGGA-1</td><td>Control_AAACTCGCATGTGGGA-1</td><td>AAACTCGCATGTGGGA-1_Control</td><td>8   </td><td>2   </td><td>Control</td><td>Control_AAACTCGCATGTGGGA-1</td></tr>\n",
       "\t<tr><th scope=row>Control_AAACTCGGTATCCTTT-1</th><td>Control</td><td>2525</td><td>2525</td><td> 21479</td><td> 7157</td><td>101</td><td>159</td><td>1220</td><td> 2182</td><td>10660</td><td>⋯</td><td>14</td><td>5227</td><td>3582</td><td>Control_AAACTCGGTATCCTTT-1</td><td>Control_AAACTCGGTATCCTTT-1</td><td>AAACTCGGTATCCTTT-1_Control</td><td>14  </td><td>0   </td><td>Control</td><td>Control_AAACTCGGTATCCTTT-1</td></tr>\n",
       "\t<tr><th scope=row>Control_AAACTCGGTGCCCTAG-1</th><td>Control</td><td>3414</td><td>3414</td><td> 32698</td><td> 7966</td><td>110</td><td>187</td><td>1479</td><td>13991</td><td> 8965</td><td>⋯</td><td>0 </td><td>4218</td><td>3110</td><td>Control_AAACTCGGTGCCCTAG-1</td><td>Control_AAACTCGGTGCCCTAG-1</td><td>AAACTCGGTGCCCTAG-1_Control</td><td>6   </td><td>1   </td><td>Control</td><td>Control_AAACTCGGTGCCCTAG-1</td></tr>\n",
       "\t<tr><th scope=row>Control_AAACTCGGTGTAGGAC-1</th><td>Control</td><td> 517</td><td> 517</td><td>  3157</td><td>  501</td><td>  9</td><td> 12</td><td> 201</td><td>  977</td><td> 1457</td><td>⋯</td><td>11</td><td> 607</td><td> 572</td><td>Control_AAACTCGGTGTAGGAC-1</td><td>Control_AAACTCGGTGTAGGAC-1</td><td>NA                        </td><td>None</td><td>None</td><td>None   </td><td>Control_AAACTCGGTGTAGGAC-1</td></tr>\n",
       "\t<tr><th scope=row>Control_AAACTCGTCACTAGCA-1</th><td>Control</td><td>1571</td><td>1571</td><td> 30764</td><td> 4287</td><td> 64</td><td>125</td><td>1018</td><td>19274</td><td> 5996</td><td>⋯</td><td>5 </td><td>2275</td><td>1799</td><td>Control_AAACTCGTCACTAGCA-1</td><td>Control_AAACTCGTCACTAGCA-1</td><td>AAACTCGTCACTAGCA-1_Control</td><td>22  </td><td>1   </td><td>Control</td><td>Control_AAACTCGTCACTAGCA-1</td></tr>\n",
       "\t<tr><th scope=row>Control_AAACTCGTCGAGTGTT-1</th><td>Control</td><td>2715</td><td>2715</td><td> 29393</td><td> 6514</td><td>144</td><td>188</td><td>1598</td><td>10615</td><td>10334</td><td>⋯</td><td>8 </td><td>4689</td><td>3342</td><td>Control_AAACTCGTCGAGTGTT-1</td><td>Control_AAACTCGTCGAGTGTT-1</td><td>AAACTCGTCGAGTGTT-1_Control</td><td>31  </td><td>0   </td><td>Control</td><td>Control_AAACTCGTCGAGTGTT-1</td></tr>\n",
       "\t<tr><th scope=row>Control_AAACTCGTCTATCCTA-1</th><td>Control</td><td>2111</td><td>2111</td><td> 18524</td><td> 5154</td><td>104</td><td> 82</td><td>1150</td><td> 5499</td><td> 6535</td><td>⋯</td><td>2 </td><td>2967</td><td>2259</td><td>Control_AAACTCGTCTATCCTA-1</td><td>Control_AAACTCGTCTATCCTA-1</td><td>AAACTCGTCTATCCTA-1_Control</td><td>18  </td><td>1   </td><td>Control</td><td>Control_AAACTCGTCTATCCTA-1</td></tr>\n",
       "\t<tr><th scope=row>Control_AAACTGCAGCATGTGG-1</th><td>Control</td><td>3475</td><td>3475</td><td> 25818</td><td> 5609</td><td>136</td><td>114</td><td>1775</td><td> 7066</td><td>11118</td><td>⋯</td><td>5 </td><td>4983</td><td>3538</td><td>Control_AAACTGCAGCATGTGG-1</td><td>Control_AAACTGCAGCATGTGG-1</td><td>AAACTGCAGCATGTGG-1_Control</td><td>36  </td><td>3   </td><td>Control</td><td>Control_AAACTGCAGCATGTGG-1</td></tr>\n",
       "\t<tr><th scope=row>⋮</th><td>⋮</td><td>⋮</td><td>⋮</td><td>⋮</td><td>⋮</td><td>⋮</td><td>⋮</td><td>⋮</td><td>⋮</td><td>⋮</td><td>⋱</td><td>⋮</td><td>⋮</td><td>⋮</td><td>⋮</td><td>⋮</td><td>⋮</td><td>⋮</td><td>⋮</td><td>⋮</td><td>⋮</td></tr>\n",
       "\t<tr><th scope=row>Flt3l_TTTGTGTAGAGAACCC-1</th><td>Flt3l</td><td>1855</td><td>1855</td><td>13580</td><td>1993</td><td> 64</td><td> 61</td><td> 794</td><td> 5812</td><td> 4856</td><td>⋯</td><td>2 </td><td>2318</td><td>1962</td><td>Flt3l_TTTGTGTAGAGAACCC-1</td><td>Flt3l_TTTGTGTAGAGAACCC-1</td><td>TTTGTGTAGAGAACCC-1_Flt3l</td><td>1   </td><td>0   </td><td>Flt3l</td><td>Flt3l_TTTGTGTAGAGAACCC-1</td></tr>\n",
       "\t<tr><th scope=row>Flt3l_TTTGTGTAGAGAGTAG-1</th><td>Flt3l</td><td>3178</td><td>3178</td><td>20770</td><td>3871</td><td> 99</td><td> 79</td><td>1226</td><td> 6564</td><td> 8931</td><td>⋯</td><td>1 </td><td>4051</td><td>3025</td><td>Flt3l_TTTGTGTAGAGAGTAG-1</td><td>Flt3l_TTTGTGTAGAGAGTAG-1</td><td>TTTGTGTAGAGAGTAG-1_Flt3l</td><td>14  </td><td>3   </td><td>Flt3l</td><td>Flt3l_TTTGTGTAGAGAGTAG-1</td></tr>\n",
       "\t<tr><th scope=row>Flt3l_TTTGTGTAGAGGTCCA-1</th><td>Flt3l</td><td>1406</td><td>1406</td><td>10379</td><td>1486</td><td> 35</td><td> 31</td><td> 602</td><td> 4095</td><td> 4130</td><td>⋯</td><td>4 </td><td>2113</td><td>1768</td><td>Flt3l_TTTGTGTAGAGGTCCA-1</td><td>Flt3l_TTTGTGTAGAGGTCCA-1</td><td>TTTGTGTAGAGGTCCA-1_Flt3l</td><td>0   </td><td>0   </td><td>Flt3l</td><td>Flt3l_TTTGTGTAGAGGTCCA-1</td></tr>\n",
       "\t<tr><th scope=row>Flt3l_TTTGTGTAGCCTCGCA-1</th><td>Flt3l</td><td>4592</td><td>4592</td><td>34494</td><td>5001</td><td>130</td><td>122</td><td>1968</td><td>11721</td><td>15552</td><td>⋯</td><td>8 </td><td>7667</td><td>4908</td><td>Flt3l_TTTGTGTAGCCTCGCA-1</td><td>Flt3l_TTTGTGTAGCCTCGCA-1</td><td>NA                      </td><td>None</td><td>None</td><td>None </td><td>Flt3l_TTTGTGTAGCCTCGCA-1</td></tr>\n",
       "\t<tr><th scope=row>Flt3l_TTTGTGTAGCGTCAAG-1</th><td>Flt3l</td><td>2066</td><td>2066</td><td>16251</td><td>2293</td><td> 64</td><td> 74</td><td> 831</td><td> 7421</td><td> 5568</td><td>⋯</td><td>6 </td><td>2581</td><td>2112</td><td>Flt3l_TTTGTGTAGCGTCAAG-1</td><td>Flt3l_TTTGTGTAGCGTCAAG-1</td><td>TTTGTGTAGCGTCAAG-1_Flt3l</td><td>10  </td><td>0   </td><td>Flt3l</td><td>Flt3l_TTTGTGTAGCGTCAAG-1</td></tr>\n",
       "\t<tr><th scope=row>Flt3l_TTTGTGTAGCTAGTTC-1</th><td>Flt3l</td><td> 265</td><td> 265</td><td> 1014</td><td> 111</td><td> 11</td><td>  7</td><td>  87</td><td>  292</td><td>  506</td><td>⋯</td><td>6 </td><td> 235</td><td> 228</td><td>Flt3l_TTTGTGTAGCTAGTTC-1</td><td>Flt3l_TTTGTGTAGCTAGTTC-1</td><td>NA                      </td><td>None</td><td>None</td><td>None </td><td>Flt3l_TTTGTGTAGCTAGTTC-1</td></tr>\n",
       "\t<tr><th scope=row>Flt3l_TTTGTGTAGGAGTCTG-1</th><td>Flt3l</td><td>2130</td><td>2130</td><td>18213</td><td>2550</td><td> 73</td><td> 72</td><td> 951</td><td> 8332</td><td> 6235</td><td>⋯</td><td>4 </td><td>3132</td><td>2490</td><td>Flt3l_TTTGTGTAGGAGTCTG-1</td><td>Flt3l_TTTGTGTAGGAGTCTG-1</td><td>TTTGTGTAGGAGTCTG-1_Flt3l</td><td>41  </td><td>0   </td><td>Flt3l</td><td>Flt3l_TTTGTGTAGGAGTCTG-1</td></tr>\n",
       "\t<tr><th scope=row>Flt3l_TTTGTGTAGGCACCTC-1</th><td>Flt3l</td><td> 788</td><td> 788</td><td> 5515</td><td> 563</td><td> 19</td><td> 19</td><td> 277</td><td> 2347</td><td> 2290</td><td>⋯</td><td>6 </td><td>1157</td><td>1052</td><td>Flt3l_TTTGTGTAGGCACCTC-1</td><td>Flt3l_TTTGTGTAGGCACCTC-1</td><td>TTTGTGTAGGCACCTC-1_Flt3l</td><td>32  </td><td>1   </td><td>Flt3l</td><td>Flt3l_TTTGTGTAGGCACCTC-1</td></tr>\n",
       "\t<tr><th scope=row>Flt3l_TTTGTGTAGTATACCC-1</th><td>Flt3l</td><td> 730</td><td> 730</td><td> 6666</td><td> 577</td><td> 21</td><td> 28</td><td> 322</td><td> 3612</td><td> 2106</td><td>⋯</td><td>6 </td><td> 959</td><td> 875</td><td>Flt3l_TTTGTGTAGTATACCC-1</td><td>Flt3l_TTTGTGTAGTATACCC-1</td><td>TTTGTGTAGTATACCC-1_Flt3l</td><td>11  </td><td>1   </td><td>Flt3l</td><td>Flt3l_TTTGTGTAGTATACCC-1</td></tr>\n",
       "\t<tr><th scope=row>Flt3l_TTTGTGTCAACTCGTA-1</th><td>Flt3l</td><td>1324</td><td>1324</td><td>10723</td><td>1204</td><td> 38</td><td> 54</td><td> 511</td><td> 5395</td><td> 3521</td><td>⋯</td><td>3 </td><td>1558</td><td>1358</td><td>Flt3l_TTTGTGTCAACTCGTA-1</td><td>Flt3l_TTTGTGTCAACTCGTA-1</td><td>TTTGTGTCAACTCGTA-1_Flt3l</td><td>26  </td><td>1   </td><td>Flt3l</td><td>Flt3l_TTTGTGTCAACTCGTA-1</td></tr>\n",
       "\t<tr><th scope=row>Flt3l_TTTGTGTCAAGGGTAC-1</th><td>Flt3l</td><td> 936</td><td> 936</td><td> 6614</td><td> 700</td><td> 27</td><td> 38</td><td> 480</td><td> 2706</td><td> 2663</td><td>⋯</td><td>6 </td><td>1205</td><td>1102</td><td>Flt3l_TTTGTGTCAAGGGTAC-1</td><td>Flt3l_TTTGTGTCAAGGGTAC-1</td><td>TTTGTGTCAAGGGTAC-1_Flt3l</td><td>3   </td><td>1   </td><td>Flt3l</td><td>Flt3l_TTTGTGTCAAGGGTAC-1</td></tr>\n",
       "\t<tr><th scope=row>Flt3l_TTTGTGTCACGCCGAT-1</th><td>Flt3l</td><td>1120</td><td>1120</td><td> 7625</td><td> 969</td><td> 33</td><td> 31</td><td> 456</td><td> 2848</td><td> 3288</td><td>⋯</td><td>2 </td><td>1535</td><td>1377</td><td>Flt3l_TTTGTGTCACGCCGAT-1</td><td>Flt3l_TTTGTGTCACGCCGAT-1</td><td>TTTGTGTCACGCCGAT-1_Flt3l</td><td>2   </td><td>0   </td><td>Flt3l</td><td>Flt3l_TTTGTGTCACGCCGAT-1</td></tr>\n",
       "\t<tr><th scope=row>Flt3l_TTTGTGTCACTACACA-1</th><td>Flt3l</td><td>3311</td><td>3311</td><td>24547</td><td>3832</td><td>105</td><td> 86</td><td>1293</td><td> 9643</td><td> 9588</td><td>⋯</td><td>4 </td><td>4904</td><td>3436</td><td>Flt3l_TTTGTGTCACTACACA-1</td><td>Flt3l_TTTGTGTCACTACACA-1</td><td>TTTGTGTCACTACACA-1_Flt3l</td><td>3   </td><td>0   </td><td>Flt3l</td><td>Flt3l_TTTGTGTCACTACACA-1</td></tr>\n",
       "\t<tr><th scope=row>Flt3l_TTTGTGTCAGCAACCC-1</th><td>Flt3l</td><td>1188</td><td>1188</td><td> 8635</td><td>1036</td><td> 56</td><td> 24</td><td> 497</td><td> 3470</td><td> 3552</td><td>⋯</td><td>6 </td><td>1685</td><td>1492</td><td>Flt3l_TTTGTGTCAGCAACCC-1</td><td>Flt3l_TTTGTGTCAGCAACCC-1</td><td>TTTGTGTCAGCAACCC-1_Flt3l</td><td>0   </td><td>2   </td><td>Flt3l</td><td>Flt3l_TTTGTGTCAGCAACCC-1</td></tr>\n",
       "\t<tr><th scope=row>Flt3l_TTTGTGTCAGGGTAAC-1</th><td>Flt3l</td><td>2092</td><td>2092</td><td>15522</td><td>1898</td><td> 77</td><td> 56</td><td> 930</td><td> 5820</td><td> 6741</td><td>⋯</td><td>1 </td><td>3155</td><td>2538</td><td>Flt3l_TTTGTGTCAGGGTAAC-1</td><td>Flt3l_TTTGTGTCAGGGTAAC-1</td><td>TTTGTGTCAGGGTAAC-1_Flt3l</td><td>33  </td><td>1   </td><td>Flt3l</td><td>Flt3l_TTTGTGTCAGGGTAAC-1</td></tr>\n",
       "\t<tr><th scope=row>Flt3l_TTTGTGTCATTTCTTG-1</th><td>Flt3l</td><td>2226</td><td>2226</td><td>19004</td><td>2792</td><td> 86</td><td> 82</td><td> 872</td><td> 8029</td><td> 7143</td><td>⋯</td><td>3 </td><td>3145</td><td>2439</td><td>Flt3l_TTTGTGTCATTTCTTG-1</td><td>Flt3l_TTTGTGTCATTTCTTG-1</td><td>TTTGTGTCATTTCTTG-1_Flt3l</td><td>26  </td><td>1   </td><td>Flt3l</td><td>Flt3l_TTTGTGTCATTTCTTG-1</td></tr>\n",
       "\t<tr><th scope=row>Flt3l_TTTGTGTGTATACGCT-1</th><td>Flt3l</td><td> 929</td><td> 929</td><td> 6489</td><td>1081</td><td> 40</td><td> 36</td><td> 470</td><td> 2199</td><td> 2663</td><td>⋯</td><td>8 </td><td>1293</td><td>1127</td><td>Flt3l_TTTGTGTGTATACGCT-1</td><td>Flt3l_TTTGTGTGTATACGCT-1</td><td>TTTGTGTGTATACGCT-1_Flt3l</td><td>20  </td><td>0   </td><td>Flt3l</td><td>Flt3l_TTTGTGTGTATACGCT-1</td></tr>\n",
       "\t<tr><th scope=row>Flt3l_TTTGTGTGTATCTCAG-1</th><td>Flt3l</td><td>1964</td><td>1964</td><td>14441</td><td>2580</td><td> 51</td><td> 69</td><td> 826</td><td> 4943</td><td> 5972</td><td>⋯</td><td>1 </td><td>2721</td><td>2236</td><td>Flt3l_TTTGTGTGTATCTCAG-1</td><td>Flt3l_TTTGTGTGTATCTCAG-1</td><td>TTTGTGTGTATCTCAG-1_Flt3l</td><td>7   </td><td>0   </td><td>Flt3l</td><td>Flt3l_TTTGTGTGTATCTCAG-1</td></tr>\n",
       "\t<tr><th scope=row>Flt3l_TTTGTGTGTATTCTGG-1</th><td>Flt3l</td><td>5978</td><td>5978</td><td>28284</td><td>6136</td><td>134</td><td>147</td><td>1851</td><td> 2893</td><td>17123</td><td>⋯</td><td>2 </td><td>7784</td><td>4770</td><td>Flt3l_TTTGTGTGTATTCTGG-1</td><td>Flt3l_TTTGTGTGTATTCTGG-1</td><td>TTTGTGTGTATTCTGG-1_Flt3l</td><td>36  </td><td>3   </td><td>Flt3l</td><td>Flt3l_TTTGTGTGTATTCTGG-1</td></tr>\n",
       "\t<tr><th scope=row>Flt3l_TTTGTGTGTCCGTGCA-1</th><td>Flt3l</td><td>1296</td><td>1296</td><td>11556</td><td>1645</td><td> 42</td><td> 55</td><td> 534</td><td> 5287</td><td> 3993</td><td>⋯</td><td>5 </td><td>1916</td><td>1636</td><td>Flt3l_TTTGTGTGTCCGTGCA-1</td><td>Flt3l_TTTGTGTGTCCGTGCA-1</td><td>TTTGTGTGTCCGTGCA-1_Flt3l</td><td>11  </td><td>2   </td><td>Flt3l</td><td>Flt3l_TTTGTGTGTCCGTGCA-1</td></tr>\n",
       "\t<tr><th scope=row>Flt3l_TTTGTGTGTGAATACA-1</th><td>Flt3l</td><td>2845</td><td>2845</td><td>23953</td><td>3551</td><td> 94</td><td>110</td><td>1268</td><td>11009</td><td> 7921</td><td>⋯</td><td>1 </td><td>3617</td><td>2791</td><td>Flt3l_TTTGTGTGTGAATACA-1</td><td>Flt3l_TTTGTGTGTGAATACA-1</td><td>TTTGTGTGTGAATACA-1_Flt3l</td><td>10  </td><td>1   </td><td>Flt3l</td><td>Flt3l_TTTGTGTGTGAATACA-1</td></tr>\n",
       "\t<tr><th scope=row>Flt3l_TTTGTGTGTTTGACCA-1</th><td>Flt3l</td><td>1467</td><td>1467</td><td>12816</td><td>1524</td><td> 49</td><td> 73</td><td> 713</td><td> 5956</td><td> 4501</td><td>⋯</td><td>2 </td><td>2271</td><td>1893</td><td>Flt3l_TTTGTGTGTTTGACCA-1</td><td>Flt3l_TTTGTGTGTTTGACCA-1</td><td>TTTGTGTGTTTGACCA-1_Flt3l</td><td>0   </td><td>2   </td><td>Flt3l</td><td>Flt3l_TTTGTGTGTTTGACCA-1</td></tr>\n",
       "\t<tr><th scope=row>Flt3l_TTTGTGTTCAAAGTAG-1</th><td>Flt3l</td><td>1145</td><td>1145</td><td> 9612</td><td>1305</td><td> 33</td><td> 52</td><td> 557</td><td> 4519</td><td> 3146</td><td>⋯</td><td>6 </td><td>1493</td><td>1313</td><td>Flt3l_TTTGTGTTCAAAGTAG-1</td><td>Flt3l_TTTGTGTTCAAAGTAG-1</td><td>TTTGTGTTCAAAGTAG-1_Flt3l</td><td>18  </td><td>1   </td><td>Flt3l</td><td>Flt3l_TTTGTGTTCAAAGTAG-1</td></tr>\n",
       "\t<tr><th scope=row>Flt3l_TTTGTGTTCCTAGAGT-1</th><td>Flt3l</td><td>2238</td><td>2238</td><td>10933</td><td>1294</td><td> 48</td><td> 47</td><td> 919</td><td> 3685</td><td> 4940</td><td>⋯</td><td>10</td><td>2348</td><td>1992</td><td>Flt3l_TTTGTGTTCCTAGAGT-1</td><td>Flt3l_TTTGTGTTCCTAGAGT-1</td><td>TTTGTGTTCCTAGAGT-1_Flt3l</td><td>14  </td><td>2   </td><td>Flt3l</td><td>Flt3l_TTTGTGTTCCTAGAGT-1</td></tr>\n",
       "\t<tr><th scope=row>Flt3l_TTTGTGTTCCTTTGCG-1</th><td>Flt3l</td><td>2737</td><td>2737</td><td>25608</td><td>4593</td><td> 78</td><td>159</td><td>1486</td><td>11639</td><td> 7653</td><td>⋯</td><td>1 </td><td>3580</td><td>2812</td><td>Flt3l_TTTGTGTTCCTTTGCG-1</td><td>Flt3l_TTTGTGTTCCTTTGCG-1</td><td>TTTGTGTTCCTTTGCG-1_Flt3l</td><td>6   </td><td>1   </td><td>Flt3l</td><td>Flt3l_TTTGTGTTCCTTTGCG-1</td></tr>\n",
       "\t<tr><th scope=row>Flt3l_TTTGTGTTCGAGTTAC-1</th><td>Flt3l</td><td>2680</td><td>2680</td><td>17658</td><td>2695</td><td> 42</td><td> 85</td><td>1186</td><td> 5949</td><td> 7701</td><td>⋯</td><td>1 </td><td>3507</td><td>2762</td><td>Flt3l_TTTGTGTTCGAGTTAC-1</td><td>Flt3l_TTTGTGTTCGAGTTAC-1</td><td>TTTGTGTTCGAGTTAC-1_Flt3l</td><td>6   </td><td>0   </td><td>Flt3l</td><td>Flt3l_TTTGTGTTCGAGTTAC-1</td></tr>\n",
       "\t<tr><th scope=row>Flt3l_TTTGTGTTCGCATAAC-1</th><td>Flt3l</td><td>1360</td><td>1360</td><td>11301</td><td>1275</td><td> 40</td><td> 44</td><td> 596</td><td> 4231</td><td> 5115</td><td>⋯</td><td>10</td><td>2365</td><td>2004</td><td>Flt3l_TTTGTGTTCGCATAAC-1</td><td>Flt3l_TTTGTGTTCGCATAAC-1</td><td>NA                      </td><td>None</td><td>None</td><td>None </td><td>Flt3l_TTTGTGTTCGCATAAC-1</td></tr>\n",
       "\t<tr><th scope=row>Flt3l_TTTGTGTTCGTGGTAT-1</th><td>Flt3l</td><td>1510</td><td>1510</td><td> 9188</td><td>1165</td><td> 33</td><td> 42</td><td> 620</td><td> 3337</td><td> 3991</td><td>⋯</td><td>1 </td><td>1867</td><td>1611</td><td>Flt3l_TTTGTGTTCGTGGTAT-1</td><td>Flt3l_TTTGTGTTCGTGGTAT-1</td><td>TTTGTGTTCGTGGTAT-1_Flt3l</td><td>14  </td><td>1   </td><td>Flt3l</td><td>Flt3l_TTTGTGTTCGTGGTAT-1</td></tr>\n",
       "\t<tr><th scope=row>Flt3l_TTTGTGTTCGTTACAG-1</th><td>Flt3l</td><td>4063</td><td>4063</td><td>35699</td><td>6656</td><td>184</td><td>194</td><td>1921</td><td>15800</td><td>10944</td><td>⋯</td><td>1 </td><td>4833</td><td>3423</td><td>Flt3l_TTTGTGTTCGTTACAG-1</td><td>Flt3l_TTTGTGTTCGTTACAG-1</td><td>TTTGTGTTCGTTACAG-1_Flt3l</td><td>1   </td><td>3   </td><td>Flt3l</td><td>Flt3l_TTTGTGTTCGTTACAG-1</td></tr>\n",
       "\t<tr><th scope=row>Flt3l_TTTGTGTTCTCCTTGG-1</th><td>Flt3l</td><td>1996</td><td>1996</td><td>15495</td><td>2205</td><td> 56</td><td> 79</td><td> 863</td><td> 6360</td><td> 5932</td><td>⋯</td><td>4 </td><td>2813</td><td>2231</td><td>Flt3l_TTTGTGTTCTCCTTGG-1</td><td>Flt3l_TTTGTGTTCTCCTTGG-1</td><td>TTTGTGTTCTCCTTGG-1_Flt3l</td><td>1   </td><td>3   </td><td>Flt3l</td><td>Flt3l_TTTGTGTTCTCCTTGG-1</td></tr>\n",
       "</tbody>\n",
       "</table>\n"
      ],
      "text/latex": [
       "A data.frame: 18492 × 32\n",
       "\\begin{tabular}{r|lllllllllllllllllllll}\n",
       "  & orig.ident & nCount\\_ATAC & nFeature\\_ATAC & total & duplicate & chimeric & unmapped & lowmapq & mitochondrial & passed\\_filters & ⋯ & seurat\\_clusters & nCount\\_RNA & nFeature\\_RNA & ID & Row.names & ID.x & lineage & donor & condition & ID.y\\\\\n",
       "  & <chr> & <dbl> & <int> & <dbl> & <dbl> & <dbl> & <dbl> & <dbl> & <dbl> & <dbl> & ⋯ & <fct> & <dbl> & <int> & <chr> & <I<chr>> & <chr> & <fct> & <fct> & <fct> & <chr>\\\\\n",
       "\\hline\n",
       "\tControl\\_AAACGAAAGAGGTCCA-1 & Control & 1357 & 1357 &  16929 &  2587 &  58 &  70 &  674 &  9629 &  3911 & ⋯ & 5  & 1673 & 1406 & Control\\_AAACGAAAGAGGTCCA-1 & Control\\_AAACGAAAGAGGTCCA-1 & AAACGAAAGAGGTCCA-1\\_Control & 9    & 3    & Control & Control\\_AAACGAAAGAGGTCCA-1\\\\\n",
       "\tControl\\_AAACGAAAGCGATACG-1 & Control & 3505 & 3505 &  45359 & 10546 & 184 & 184 & 2302 & 22247 &  9896 & ⋯ & 0  & 4315 & 3063 & Control\\_AAACGAAAGCGATACG-1 & Control\\_AAACGAAAGCGATACG-1 & AAACGAAAGCGATACG-1\\_Control & 0    & 1    & Control & Control\\_AAACGAAAGCGATACG-1\\\\\n",
       "\tControl\\_AAACGAAAGTCGTGAG-1 & Control &  994 &  994 &  10177 &  2450 &  48 &  60 &  657 &  2135 &  4827 & ⋯ & 5  & 1731 & 1414 & Control\\_AAACGAAAGTCGTGAG-1 & Control\\_AAACGAAAGTCGTGAG-1 & AAACGAAAGTCGTGAG-1\\_Control & 8    & 0    & Control & Control\\_AAACGAAAGTCGTGAG-1\\\\\n",
       "\tControl\\_AAACGAACAATAGTGA-1 & Control & 2687 & 2687 &  22452 &  4364 & 100 &  83 &  897 &  9233 &  7775 & ⋯ & 0  & 3113 & 2340 & Control\\_AAACGAACAATAGTGA-1 & Control\\_AAACGAACAATAGTGA-1 & AAACGAACAATAGTGA-1\\_Control & 11   & 3    & Control & Control\\_AAACGAACAATAGTGA-1\\\\\n",
       "\tControl\\_AAACGAACACAATAAG-1 & Control & 1184 & 1184 &  11763 &  2003 &  43 &  57 &  680 &  5547 &  3433 & ⋯ & 5  & 1559 & 1394 & Control\\_AAACGAACACAATAAG-1 & Control\\_AAACGAACACAATAAG-1 & AAACGAACACAATAAG-1\\_Control & 22   & 0    & Control & Control\\_AAACGAACACAATAAG-1\\\\\n",
       "\tControl\\_AAACGAACACTGATAC-1 & Control &  954 &  954 &   9449 &  1971 &  59 &  21 &  489 &  3785 &  3124 & ⋯ & 2  & 1370 & 1207 & Control\\_AAACGAACACTGATAC-1 & Control\\_AAACGAACACTGATAC-1 & AAACGAACACTGATAC-1\\_Control & 11   & 2    & Control & Control\\_AAACGAACACTGATAC-1\\\\\n",
       "\tControl\\_AAACGAACAGTAACCT-1 & Control &  693 &  693 &   6196 &  1097 &  19 &  17 &  288 &  2635 &  2140 & ⋯ & 8  & 1018 &  939 & Control\\_AAACGAACAGTAACCT-1 & Control\\_AAACGAACAGTAACCT-1 & AAACGAACAGTAACCT-1\\_Control & 34   & 2    & Control & Control\\_AAACGAACAGTAACCT-1\\\\\n",
       "\tControl\\_AAACGAACATCGTGAT-1 & Control & 6800 & 6800 & 100024 & 36721 & 588 & 531 & 5317 & 36828 & 20039 & ⋯ & 12 & 8645 & 5001 & Control\\_AAACGAACATCGTGAT-1 & Control\\_AAACGAACATCGTGAT-1 & AAACGAACATCGTGAT-1\\_Control & 2    & 3    & Control & Control\\_AAACGAACATCGTGAT-1\\\\\n",
       "\tControl\\_AAACGAAGTAACGGTG-1 & Control & 1074 & 1074 &   8454 &  1950 &  24 &  33 &  354 &  3729 &  2364 & ⋯ & 7  & 1005 &  905 & Control\\_AAACGAAGTAACGGTG-1 & Control\\_AAACGAAGTAACGGTG-1 & AAACGAAGTAACGGTG-1\\_Control & 36   & 3    & Control & Control\\_AAACGAAGTAACGGTG-1\\\\\n",
       "\tControl\\_AAACGAAGTAAGTCTC-1 & Control & 1262 & 1262 &   7684 &  1420 &  36 &  23 &  488 &  1787 &  3930 & ⋯ & 13 & 1688 & 1452 & Control\\_AAACGAAGTAAGTCTC-1 & Control\\_AAACGAAGTAAGTCTC-1 & AAACGAAGTAAGTCTC-1\\_Control & 52   & 0    & Control & Control\\_AAACGAAGTAAGTCTC-1\\\\\n",
       "\tControl\\_AAACGAAGTACCAAGG-1 & Control & 3936 & 3936 &  27865 &  7135 & 126 & 131 & 1330 &  9549 &  9594 & ⋯ & 12 & 4544 & 3265 & Control\\_AAACGAAGTACCAAGG-1 & Control\\_AAACGAAGTACCAAGG-1 & AAACGAAGTACCAAGG-1\\_Control & 15   & 1    & Control & Control\\_AAACGAAGTACCAAGG-1\\\\\n",
       "\tControl\\_AAACGAAGTCCCGTGA-1 & Control & 4425 & 4425 &  31805 &  8689 & 178 & 135 & 1649 &  7738 & 13416 & ⋯ & 9  & 5971 & 3996 & Control\\_AAACGAAGTCCCGTGA-1 & Control\\_AAACGAAGTCCCGTGA-1 & AAACGAAGTCCCGTGA-1\\_Control & 21   & 2    & Control & Control\\_AAACGAAGTCCCGTGA-1\\\\\n",
       "\tControl\\_AAACGAAGTGGATTCT-1 & Control &  805 &  805 &   9518 &  1121 &  32 &  37 &  330 &  5983 &  2015 & ⋯ & 5  &  853 &  780 & Control\\_AAACGAAGTGGATTCT-1 & Control\\_AAACGAAGTGGATTCT-1 & AAACGAAGTGGATTCT-1\\_Control & 5    & 0    & Control & Control\\_AAACGAAGTGGATTCT-1\\\\\n",
       "\tControl\\_AAACGAATCGAGCGCT-1 & Control & 1892 & 1892 &  11456 &  2558 &  61 &  49 &  687 &  3476 &  4625 & ⋯ & 0  & 2089 & 1779 & Control\\_AAACGAATCGAGCGCT-1 & Control\\_AAACGAATCGAGCGCT-1 & AAACGAATCGAGCGCT-1\\_Control & 25   & 3    & Control & Control\\_AAACGAATCGAGCGCT-1\\\\\n",
       "\tControl\\_AAACGAATCGCAACTA-1 & Control & 6272 & 6272 &  56262 & 15793 & 214 & 374 & 3523 & 19210 & 17148 & ⋯ & 1  & 7970 & 4809 & Control\\_AAACGAATCGCAACTA-1 & Control\\_AAACGAATCGCAACTA-1 & AAACGAATCGCAACTA-1\\_Control & 5    & 0    & Control & Control\\_AAACGAATCGCAACTA-1\\\\\n",
       "\tControl\\_AAACGAATCGCGCTGA-1 & Control &  614 &  614 &   6366 &   747 &  30 &  20 &  306 &  3521 &  1742 & ⋯ & 5  &  743 &  690 & Control\\_AAACGAATCGCGCTGA-1 & Control\\_AAACGAATCGCGCTGA-1 & AAACGAATCGCGCTGA-1\\_Control & 0    & 3    & Control & Control\\_AAACGAATCGCGCTGA-1\\\\\n",
       "\tControl\\_AAACTCGAGATTACGA-1 & Control & 1763 & 1763 &  22032 &  3419 &  83 &  85 & 1085 & 11844 &  5516 & ⋯ & 3  & 2362 & 1974 & Control\\_AAACTCGAGATTACGA-1 & Control\\_AAACTCGAGATTACGA-1 & AAACTCGAGATTACGA-1\\_Control & 36   & 3    & Control & Control\\_AAACTCGAGATTACGA-1\\\\\n",
       "\tControl\\_AAACTCGCAAGACTTC-1 & Control &  402 &  402 &   5303 &   728 &   8 &  18 &  232 &  2874 &  1443 & ⋯ & 8  &  697 &  654 & Control\\_AAACTCGCAAGACTTC-1 & Control\\_AAACTCGCAAGACTTC-1 & AAACTCGCAAGACTTC-1\\_Control & 0    & 0    & Control & Control\\_AAACTCGCAAGACTTC-1\\\\\n",
       "\tControl\\_AAACTCGCACAAGGGT-1 & Control &  336 &  336 &  18623 &   982 &   9 &  91 &  510 & 15503 &  1528 & ⋯ & 10 &  663 &  616 & Control\\_AAACTCGCACAAGGGT-1 & Control\\_AAACTCGCACAAGGGT-1 & AAACTCGCACAAGGGT-1\\_Control & 1    & 1    & Control & Control\\_AAACTCGCACAAGGGT-1\\\\\n",
       "\tControl\\_AAACTCGCACCTCGTT-1 & Control & 3499 & 3499 &  30543 &  6297 & 148 & 239 & 1359 & 12689 &  9811 & ⋯ & 0  & 4338 & 3121 & Control\\_AAACTCGCACCTCGTT-1 & Control\\_AAACTCGCACCTCGTT-1 & AAACTCGCACCTCGTT-1\\_Control & 5    & 1    & Control & Control\\_AAACTCGCACCTCGTT-1\\\\\n",
       "\tControl\\_AAACTCGCACTTGCGG-1 & Control &  631 &  631 &   7038 &   991 &  27 &  31 &  299 &  3787 &  1903 & ⋯ & 7  &  799 &  726 & Control\\_AAACTCGCACTTGCGG-1 & Control\\_AAACTCGCACTTGCGG-1 & AAACTCGCACTTGCGG-1\\_Control & 13   & 2    & Control & Control\\_AAACTCGCACTTGCGG-1\\\\\n",
       "\tControl\\_AAACTCGCATCGCCTT-1 & Control & 1469 & 1469 &  13537 &  3614 &  56 &  90 &  777 &  3050 &  5950 & ⋯ & 8  & 2427 & 1934 & Control\\_AAACTCGCATCGCCTT-1 & Control\\_AAACTCGCATCGCCTT-1 & AAACTCGCATCGCCTT-1\\_Control & 52   & 0    & Control & Control\\_AAACTCGCATCGCCTT-1\\\\\n",
       "\tControl\\_AAACTCGCATGTGGGA-1 & Control & 3349 & 3349 &  48037 &  8932 & 171 & 241 & 1618 & 26241 & 10834 & ⋯ & 2  & 4880 & 3364 & Control\\_AAACTCGCATGTGGGA-1 & Control\\_AAACTCGCATGTGGGA-1 & AAACTCGCATGTGGGA-1\\_Control & 8    & 2    & Control & Control\\_AAACTCGCATGTGGGA-1\\\\\n",
       "\tControl\\_AAACTCGGTATCCTTT-1 & Control & 2525 & 2525 &  21479 &  7157 & 101 & 159 & 1220 &  2182 & 10660 & ⋯ & 14 & 5227 & 3582 & Control\\_AAACTCGGTATCCTTT-1 & Control\\_AAACTCGGTATCCTTT-1 & AAACTCGGTATCCTTT-1\\_Control & 14   & 0    & Control & Control\\_AAACTCGGTATCCTTT-1\\\\\n",
       "\tControl\\_AAACTCGGTGCCCTAG-1 & Control & 3414 & 3414 &  32698 &  7966 & 110 & 187 & 1479 & 13991 &  8965 & ⋯ & 0  & 4218 & 3110 & Control\\_AAACTCGGTGCCCTAG-1 & Control\\_AAACTCGGTGCCCTAG-1 & AAACTCGGTGCCCTAG-1\\_Control & 6    & 1    & Control & Control\\_AAACTCGGTGCCCTAG-1\\\\\n",
       "\tControl\\_AAACTCGGTGTAGGAC-1 & Control &  517 &  517 &   3157 &   501 &   9 &  12 &  201 &   977 &  1457 & ⋯ & 11 &  607 &  572 & Control\\_AAACTCGGTGTAGGAC-1 & Control\\_AAACTCGGTGTAGGAC-1 & NA                         & None & None & None    & Control\\_AAACTCGGTGTAGGAC-1\\\\\n",
       "\tControl\\_AAACTCGTCACTAGCA-1 & Control & 1571 & 1571 &  30764 &  4287 &  64 & 125 & 1018 & 19274 &  5996 & ⋯ & 5  & 2275 & 1799 & Control\\_AAACTCGTCACTAGCA-1 & Control\\_AAACTCGTCACTAGCA-1 & AAACTCGTCACTAGCA-1\\_Control & 22   & 1    & Control & Control\\_AAACTCGTCACTAGCA-1\\\\\n",
       "\tControl\\_AAACTCGTCGAGTGTT-1 & Control & 2715 & 2715 &  29393 &  6514 & 144 & 188 & 1598 & 10615 & 10334 & ⋯ & 8  & 4689 & 3342 & Control\\_AAACTCGTCGAGTGTT-1 & Control\\_AAACTCGTCGAGTGTT-1 & AAACTCGTCGAGTGTT-1\\_Control & 31   & 0    & Control & Control\\_AAACTCGTCGAGTGTT-1\\\\\n",
       "\tControl\\_AAACTCGTCTATCCTA-1 & Control & 2111 & 2111 &  18524 &  5154 & 104 &  82 & 1150 &  5499 &  6535 & ⋯ & 2  & 2967 & 2259 & Control\\_AAACTCGTCTATCCTA-1 & Control\\_AAACTCGTCTATCCTA-1 & AAACTCGTCTATCCTA-1\\_Control & 18   & 1    & Control & Control\\_AAACTCGTCTATCCTA-1\\\\\n",
       "\tControl\\_AAACTGCAGCATGTGG-1 & Control & 3475 & 3475 &  25818 &  5609 & 136 & 114 & 1775 &  7066 & 11118 & ⋯ & 5  & 4983 & 3538 & Control\\_AAACTGCAGCATGTGG-1 & Control\\_AAACTGCAGCATGTGG-1 & AAACTGCAGCATGTGG-1\\_Control & 36   & 3    & Control & Control\\_AAACTGCAGCATGTGG-1\\\\\n",
       "\t⋮ & ⋮ & ⋮ & ⋮ & ⋮ & ⋮ & ⋮ & ⋮ & ⋮ & ⋮ & ⋮ & ⋱ & ⋮ & ⋮ & ⋮ & ⋮ & ⋮ & ⋮ & ⋮ & ⋮ & ⋮ & ⋮\\\\\n",
       "\tFlt3l\\_TTTGTGTAGAGAACCC-1 & Flt3l & 1855 & 1855 & 13580 & 1993 &  64 &  61 &  794 &  5812 &  4856 & ⋯ & 2  & 2318 & 1962 & Flt3l\\_TTTGTGTAGAGAACCC-1 & Flt3l\\_TTTGTGTAGAGAACCC-1 & TTTGTGTAGAGAACCC-1\\_Flt3l & 1    & 0    & Flt3l & Flt3l\\_TTTGTGTAGAGAACCC-1\\\\\n",
       "\tFlt3l\\_TTTGTGTAGAGAGTAG-1 & Flt3l & 3178 & 3178 & 20770 & 3871 &  99 &  79 & 1226 &  6564 &  8931 & ⋯ & 1  & 4051 & 3025 & Flt3l\\_TTTGTGTAGAGAGTAG-1 & Flt3l\\_TTTGTGTAGAGAGTAG-1 & TTTGTGTAGAGAGTAG-1\\_Flt3l & 14   & 3    & Flt3l & Flt3l\\_TTTGTGTAGAGAGTAG-1\\\\\n",
       "\tFlt3l\\_TTTGTGTAGAGGTCCA-1 & Flt3l & 1406 & 1406 & 10379 & 1486 &  35 &  31 &  602 &  4095 &  4130 & ⋯ & 4  & 2113 & 1768 & Flt3l\\_TTTGTGTAGAGGTCCA-1 & Flt3l\\_TTTGTGTAGAGGTCCA-1 & TTTGTGTAGAGGTCCA-1\\_Flt3l & 0    & 0    & Flt3l & Flt3l\\_TTTGTGTAGAGGTCCA-1\\\\\n",
       "\tFlt3l\\_TTTGTGTAGCCTCGCA-1 & Flt3l & 4592 & 4592 & 34494 & 5001 & 130 & 122 & 1968 & 11721 & 15552 & ⋯ & 8  & 7667 & 4908 & Flt3l\\_TTTGTGTAGCCTCGCA-1 & Flt3l\\_TTTGTGTAGCCTCGCA-1 & NA                       & None & None & None  & Flt3l\\_TTTGTGTAGCCTCGCA-1\\\\\n",
       "\tFlt3l\\_TTTGTGTAGCGTCAAG-1 & Flt3l & 2066 & 2066 & 16251 & 2293 &  64 &  74 &  831 &  7421 &  5568 & ⋯ & 6  & 2581 & 2112 & Flt3l\\_TTTGTGTAGCGTCAAG-1 & Flt3l\\_TTTGTGTAGCGTCAAG-1 & TTTGTGTAGCGTCAAG-1\\_Flt3l & 10   & 0    & Flt3l & Flt3l\\_TTTGTGTAGCGTCAAG-1\\\\\n",
       "\tFlt3l\\_TTTGTGTAGCTAGTTC-1 & Flt3l &  265 &  265 &  1014 &  111 &  11 &   7 &   87 &   292 &   506 & ⋯ & 6  &  235 &  228 & Flt3l\\_TTTGTGTAGCTAGTTC-1 & Flt3l\\_TTTGTGTAGCTAGTTC-1 & NA                       & None & None & None  & Flt3l\\_TTTGTGTAGCTAGTTC-1\\\\\n",
       "\tFlt3l\\_TTTGTGTAGGAGTCTG-1 & Flt3l & 2130 & 2130 & 18213 & 2550 &  73 &  72 &  951 &  8332 &  6235 & ⋯ & 4  & 3132 & 2490 & Flt3l\\_TTTGTGTAGGAGTCTG-1 & Flt3l\\_TTTGTGTAGGAGTCTG-1 & TTTGTGTAGGAGTCTG-1\\_Flt3l & 41   & 0    & Flt3l & Flt3l\\_TTTGTGTAGGAGTCTG-1\\\\\n",
       "\tFlt3l\\_TTTGTGTAGGCACCTC-1 & Flt3l &  788 &  788 &  5515 &  563 &  19 &  19 &  277 &  2347 &  2290 & ⋯ & 6  & 1157 & 1052 & Flt3l\\_TTTGTGTAGGCACCTC-1 & Flt3l\\_TTTGTGTAGGCACCTC-1 & TTTGTGTAGGCACCTC-1\\_Flt3l & 32   & 1    & Flt3l & Flt3l\\_TTTGTGTAGGCACCTC-1\\\\\n",
       "\tFlt3l\\_TTTGTGTAGTATACCC-1 & Flt3l &  730 &  730 &  6666 &  577 &  21 &  28 &  322 &  3612 &  2106 & ⋯ & 6  &  959 &  875 & Flt3l\\_TTTGTGTAGTATACCC-1 & Flt3l\\_TTTGTGTAGTATACCC-1 & TTTGTGTAGTATACCC-1\\_Flt3l & 11   & 1    & Flt3l & Flt3l\\_TTTGTGTAGTATACCC-1\\\\\n",
       "\tFlt3l\\_TTTGTGTCAACTCGTA-1 & Flt3l & 1324 & 1324 & 10723 & 1204 &  38 &  54 &  511 &  5395 &  3521 & ⋯ & 3  & 1558 & 1358 & Flt3l\\_TTTGTGTCAACTCGTA-1 & Flt3l\\_TTTGTGTCAACTCGTA-1 & TTTGTGTCAACTCGTA-1\\_Flt3l & 26   & 1    & Flt3l & Flt3l\\_TTTGTGTCAACTCGTA-1\\\\\n",
       "\tFlt3l\\_TTTGTGTCAAGGGTAC-1 & Flt3l &  936 &  936 &  6614 &  700 &  27 &  38 &  480 &  2706 &  2663 & ⋯ & 6  & 1205 & 1102 & Flt3l\\_TTTGTGTCAAGGGTAC-1 & Flt3l\\_TTTGTGTCAAGGGTAC-1 & TTTGTGTCAAGGGTAC-1\\_Flt3l & 3    & 1    & Flt3l & Flt3l\\_TTTGTGTCAAGGGTAC-1\\\\\n",
       "\tFlt3l\\_TTTGTGTCACGCCGAT-1 & Flt3l & 1120 & 1120 &  7625 &  969 &  33 &  31 &  456 &  2848 &  3288 & ⋯ & 2  & 1535 & 1377 & Flt3l\\_TTTGTGTCACGCCGAT-1 & Flt3l\\_TTTGTGTCACGCCGAT-1 & TTTGTGTCACGCCGAT-1\\_Flt3l & 2    & 0    & Flt3l & Flt3l\\_TTTGTGTCACGCCGAT-1\\\\\n",
       "\tFlt3l\\_TTTGTGTCACTACACA-1 & Flt3l & 3311 & 3311 & 24547 & 3832 & 105 &  86 & 1293 &  9643 &  9588 & ⋯ & 4  & 4904 & 3436 & Flt3l\\_TTTGTGTCACTACACA-1 & Flt3l\\_TTTGTGTCACTACACA-1 & TTTGTGTCACTACACA-1\\_Flt3l & 3    & 0    & Flt3l & Flt3l\\_TTTGTGTCACTACACA-1\\\\\n",
       "\tFlt3l\\_TTTGTGTCAGCAACCC-1 & Flt3l & 1188 & 1188 &  8635 & 1036 &  56 &  24 &  497 &  3470 &  3552 & ⋯ & 6  & 1685 & 1492 & Flt3l\\_TTTGTGTCAGCAACCC-1 & Flt3l\\_TTTGTGTCAGCAACCC-1 & TTTGTGTCAGCAACCC-1\\_Flt3l & 0    & 2    & Flt3l & Flt3l\\_TTTGTGTCAGCAACCC-1\\\\\n",
       "\tFlt3l\\_TTTGTGTCAGGGTAAC-1 & Flt3l & 2092 & 2092 & 15522 & 1898 &  77 &  56 &  930 &  5820 &  6741 & ⋯ & 1  & 3155 & 2538 & Flt3l\\_TTTGTGTCAGGGTAAC-1 & Flt3l\\_TTTGTGTCAGGGTAAC-1 & TTTGTGTCAGGGTAAC-1\\_Flt3l & 33   & 1    & Flt3l & Flt3l\\_TTTGTGTCAGGGTAAC-1\\\\\n",
       "\tFlt3l\\_TTTGTGTCATTTCTTG-1 & Flt3l & 2226 & 2226 & 19004 & 2792 &  86 &  82 &  872 &  8029 &  7143 & ⋯ & 3  & 3145 & 2439 & Flt3l\\_TTTGTGTCATTTCTTG-1 & Flt3l\\_TTTGTGTCATTTCTTG-1 & TTTGTGTCATTTCTTG-1\\_Flt3l & 26   & 1    & Flt3l & Flt3l\\_TTTGTGTCATTTCTTG-1\\\\\n",
       "\tFlt3l\\_TTTGTGTGTATACGCT-1 & Flt3l &  929 &  929 &  6489 & 1081 &  40 &  36 &  470 &  2199 &  2663 & ⋯ & 8  & 1293 & 1127 & Flt3l\\_TTTGTGTGTATACGCT-1 & Flt3l\\_TTTGTGTGTATACGCT-1 & TTTGTGTGTATACGCT-1\\_Flt3l & 20   & 0    & Flt3l & Flt3l\\_TTTGTGTGTATACGCT-1\\\\\n",
       "\tFlt3l\\_TTTGTGTGTATCTCAG-1 & Flt3l & 1964 & 1964 & 14441 & 2580 &  51 &  69 &  826 &  4943 &  5972 & ⋯ & 1  & 2721 & 2236 & Flt3l\\_TTTGTGTGTATCTCAG-1 & Flt3l\\_TTTGTGTGTATCTCAG-1 & TTTGTGTGTATCTCAG-1\\_Flt3l & 7    & 0    & Flt3l & Flt3l\\_TTTGTGTGTATCTCAG-1\\\\\n",
       "\tFlt3l\\_TTTGTGTGTATTCTGG-1 & Flt3l & 5978 & 5978 & 28284 & 6136 & 134 & 147 & 1851 &  2893 & 17123 & ⋯ & 2  & 7784 & 4770 & Flt3l\\_TTTGTGTGTATTCTGG-1 & Flt3l\\_TTTGTGTGTATTCTGG-1 & TTTGTGTGTATTCTGG-1\\_Flt3l & 36   & 3    & Flt3l & Flt3l\\_TTTGTGTGTATTCTGG-1\\\\\n",
       "\tFlt3l\\_TTTGTGTGTCCGTGCA-1 & Flt3l & 1296 & 1296 & 11556 & 1645 &  42 &  55 &  534 &  5287 &  3993 & ⋯ & 5  & 1916 & 1636 & Flt3l\\_TTTGTGTGTCCGTGCA-1 & Flt3l\\_TTTGTGTGTCCGTGCA-1 & TTTGTGTGTCCGTGCA-1\\_Flt3l & 11   & 2    & Flt3l & Flt3l\\_TTTGTGTGTCCGTGCA-1\\\\\n",
       "\tFlt3l\\_TTTGTGTGTGAATACA-1 & Flt3l & 2845 & 2845 & 23953 & 3551 &  94 & 110 & 1268 & 11009 &  7921 & ⋯ & 1  & 3617 & 2791 & Flt3l\\_TTTGTGTGTGAATACA-1 & Flt3l\\_TTTGTGTGTGAATACA-1 & TTTGTGTGTGAATACA-1\\_Flt3l & 10   & 1    & Flt3l & Flt3l\\_TTTGTGTGTGAATACA-1\\\\\n",
       "\tFlt3l\\_TTTGTGTGTTTGACCA-1 & Flt3l & 1467 & 1467 & 12816 & 1524 &  49 &  73 &  713 &  5956 &  4501 & ⋯ & 2  & 2271 & 1893 & Flt3l\\_TTTGTGTGTTTGACCA-1 & Flt3l\\_TTTGTGTGTTTGACCA-1 & TTTGTGTGTTTGACCA-1\\_Flt3l & 0    & 2    & Flt3l & Flt3l\\_TTTGTGTGTTTGACCA-1\\\\\n",
       "\tFlt3l\\_TTTGTGTTCAAAGTAG-1 & Flt3l & 1145 & 1145 &  9612 & 1305 &  33 &  52 &  557 &  4519 &  3146 & ⋯ & 6  & 1493 & 1313 & Flt3l\\_TTTGTGTTCAAAGTAG-1 & Flt3l\\_TTTGTGTTCAAAGTAG-1 & TTTGTGTTCAAAGTAG-1\\_Flt3l & 18   & 1    & Flt3l & Flt3l\\_TTTGTGTTCAAAGTAG-1\\\\\n",
       "\tFlt3l\\_TTTGTGTTCCTAGAGT-1 & Flt3l & 2238 & 2238 & 10933 & 1294 &  48 &  47 &  919 &  3685 &  4940 & ⋯ & 10 & 2348 & 1992 & Flt3l\\_TTTGTGTTCCTAGAGT-1 & Flt3l\\_TTTGTGTTCCTAGAGT-1 & TTTGTGTTCCTAGAGT-1\\_Flt3l & 14   & 2    & Flt3l & Flt3l\\_TTTGTGTTCCTAGAGT-1\\\\\n",
       "\tFlt3l\\_TTTGTGTTCCTTTGCG-1 & Flt3l & 2737 & 2737 & 25608 & 4593 &  78 & 159 & 1486 & 11639 &  7653 & ⋯ & 1  & 3580 & 2812 & Flt3l\\_TTTGTGTTCCTTTGCG-1 & Flt3l\\_TTTGTGTTCCTTTGCG-1 & TTTGTGTTCCTTTGCG-1\\_Flt3l & 6    & 1    & Flt3l & Flt3l\\_TTTGTGTTCCTTTGCG-1\\\\\n",
       "\tFlt3l\\_TTTGTGTTCGAGTTAC-1 & Flt3l & 2680 & 2680 & 17658 & 2695 &  42 &  85 & 1186 &  5949 &  7701 & ⋯ & 1  & 3507 & 2762 & Flt3l\\_TTTGTGTTCGAGTTAC-1 & Flt3l\\_TTTGTGTTCGAGTTAC-1 & TTTGTGTTCGAGTTAC-1\\_Flt3l & 6    & 0    & Flt3l & Flt3l\\_TTTGTGTTCGAGTTAC-1\\\\\n",
       "\tFlt3l\\_TTTGTGTTCGCATAAC-1 & Flt3l & 1360 & 1360 & 11301 & 1275 &  40 &  44 &  596 &  4231 &  5115 & ⋯ & 10 & 2365 & 2004 & Flt3l\\_TTTGTGTTCGCATAAC-1 & Flt3l\\_TTTGTGTTCGCATAAC-1 & NA                       & None & None & None  & Flt3l\\_TTTGTGTTCGCATAAC-1\\\\\n",
       "\tFlt3l\\_TTTGTGTTCGTGGTAT-1 & Flt3l & 1510 & 1510 &  9188 & 1165 &  33 &  42 &  620 &  3337 &  3991 & ⋯ & 1  & 1867 & 1611 & Flt3l\\_TTTGTGTTCGTGGTAT-1 & Flt3l\\_TTTGTGTTCGTGGTAT-1 & TTTGTGTTCGTGGTAT-1\\_Flt3l & 14   & 1    & Flt3l & Flt3l\\_TTTGTGTTCGTGGTAT-1\\\\\n",
       "\tFlt3l\\_TTTGTGTTCGTTACAG-1 & Flt3l & 4063 & 4063 & 35699 & 6656 & 184 & 194 & 1921 & 15800 & 10944 & ⋯ & 1  & 4833 & 3423 & Flt3l\\_TTTGTGTTCGTTACAG-1 & Flt3l\\_TTTGTGTTCGTTACAG-1 & TTTGTGTTCGTTACAG-1\\_Flt3l & 1    & 3    & Flt3l & Flt3l\\_TTTGTGTTCGTTACAG-1\\\\\n",
       "\tFlt3l\\_TTTGTGTTCTCCTTGG-1 & Flt3l & 1996 & 1996 & 15495 & 2205 &  56 &  79 &  863 &  6360 &  5932 & ⋯ & 4  & 2813 & 2231 & Flt3l\\_TTTGTGTTCTCCTTGG-1 & Flt3l\\_TTTGTGTTCTCCTTGG-1 & TTTGTGTTCTCCTTGG-1\\_Flt3l & 1    & 3    & Flt3l & Flt3l\\_TTTGTGTTCTCCTTGG-1\\\\\n",
       "\\end{tabular}\n"
      ],
      "text/markdown": [
       "\n",
       "A data.frame: 18492 × 32\n",
       "\n",
       "| <!--/--> | orig.ident &lt;chr&gt; | nCount_ATAC &lt;dbl&gt; | nFeature_ATAC &lt;int&gt; | total &lt;dbl&gt; | duplicate &lt;dbl&gt; | chimeric &lt;dbl&gt; | unmapped &lt;dbl&gt; | lowmapq &lt;dbl&gt; | mitochondrial &lt;dbl&gt; | passed_filters &lt;dbl&gt; | ⋯ ⋯ | seurat_clusters &lt;fct&gt; | nCount_RNA &lt;dbl&gt; | nFeature_RNA &lt;int&gt; | ID &lt;chr&gt; | Row.names &lt;I&lt;chr&gt;&gt; | ID.x &lt;chr&gt; | lineage &lt;fct&gt; | donor &lt;fct&gt; | condition &lt;fct&gt; | ID.y &lt;chr&gt; |\n",
       "|---|---|---|---|---|---|---|---|---|---|---|---|---|---|---|---|---|---|---|---|---|---|\n",
       "| Control_AAACGAAAGAGGTCCA-1 | Control | 1357 | 1357 |  16929 |  2587 |  58 |  70 |  674 |  9629 |  3911 | ⋯ | 5  | 1673 | 1406 | Control_AAACGAAAGAGGTCCA-1 | Control_AAACGAAAGAGGTCCA-1 | AAACGAAAGAGGTCCA-1_Control | 9    | 3    | Control | Control_AAACGAAAGAGGTCCA-1 |\n",
       "| Control_AAACGAAAGCGATACG-1 | Control | 3505 | 3505 |  45359 | 10546 | 184 | 184 | 2302 | 22247 |  9896 | ⋯ | 0  | 4315 | 3063 | Control_AAACGAAAGCGATACG-1 | Control_AAACGAAAGCGATACG-1 | AAACGAAAGCGATACG-1_Control | 0    | 1    | Control | Control_AAACGAAAGCGATACG-1 |\n",
       "| Control_AAACGAAAGTCGTGAG-1 | Control |  994 |  994 |  10177 |  2450 |  48 |  60 |  657 |  2135 |  4827 | ⋯ | 5  | 1731 | 1414 | Control_AAACGAAAGTCGTGAG-1 | Control_AAACGAAAGTCGTGAG-1 | AAACGAAAGTCGTGAG-1_Control | 8    | 0    | Control | Control_AAACGAAAGTCGTGAG-1 |\n",
       "| Control_AAACGAACAATAGTGA-1 | Control | 2687 | 2687 |  22452 |  4364 | 100 |  83 |  897 |  9233 |  7775 | ⋯ | 0  | 3113 | 2340 | Control_AAACGAACAATAGTGA-1 | Control_AAACGAACAATAGTGA-1 | AAACGAACAATAGTGA-1_Control | 11   | 3    | Control | Control_AAACGAACAATAGTGA-1 |\n",
       "| Control_AAACGAACACAATAAG-1 | Control | 1184 | 1184 |  11763 |  2003 |  43 |  57 |  680 |  5547 |  3433 | ⋯ | 5  | 1559 | 1394 | Control_AAACGAACACAATAAG-1 | Control_AAACGAACACAATAAG-1 | AAACGAACACAATAAG-1_Control | 22   | 0    | Control | Control_AAACGAACACAATAAG-1 |\n",
       "| Control_AAACGAACACTGATAC-1 | Control |  954 |  954 |   9449 |  1971 |  59 |  21 |  489 |  3785 |  3124 | ⋯ | 2  | 1370 | 1207 | Control_AAACGAACACTGATAC-1 | Control_AAACGAACACTGATAC-1 | AAACGAACACTGATAC-1_Control | 11   | 2    | Control | Control_AAACGAACACTGATAC-1 |\n",
       "| Control_AAACGAACAGTAACCT-1 | Control |  693 |  693 |   6196 |  1097 |  19 |  17 |  288 |  2635 |  2140 | ⋯ | 8  | 1018 |  939 | Control_AAACGAACAGTAACCT-1 | Control_AAACGAACAGTAACCT-1 | AAACGAACAGTAACCT-1_Control | 34   | 2    | Control | Control_AAACGAACAGTAACCT-1 |\n",
       "| Control_AAACGAACATCGTGAT-1 | Control | 6800 | 6800 | 100024 | 36721 | 588 | 531 | 5317 | 36828 | 20039 | ⋯ | 12 | 8645 | 5001 | Control_AAACGAACATCGTGAT-1 | Control_AAACGAACATCGTGAT-1 | AAACGAACATCGTGAT-1_Control | 2    | 3    | Control | Control_AAACGAACATCGTGAT-1 |\n",
       "| Control_AAACGAAGTAACGGTG-1 | Control | 1074 | 1074 |   8454 |  1950 |  24 |  33 |  354 |  3729 |  2364 | ⋯ | 7  | 1005 |  905 | Control_AAACGAAGTAACGGTG-1 | Control_AAACGAAGTAACGGTG-1 | AAACGAAGTAACGGTG-1_Control | 36   | 3    | Control | Control_AAACGAAGTAACGGTG-1 |\n",
       "| Control_AAACGAAGTAAGTCTC-1 | Control | 1262 | 1262 |   7684 |  1420 |  36 |  23 |  488 |  1787 |  3930 | ⋯ | 13 | 1688 | 1452 | Control_AAACGAAGTAAGTCTC-1 | Control_AAACGAAGTAAGTCTC-1 | AAACGAAGTAAGTCTC-1_Control | 52   | 0    | Control | Control_AAACGAAGTAAGTCTC-1 |\n",
       "| Control_AAACGAAGTACCAAGG-1 | Control | 3936 | 3936 |  27865 |  7135 | 126 | 131 | 1330 |  9549 |  9594 | ⋯ | 12 | 4544 | 3265 | Control_AAACGAAGTACCAAGG-1 | Control_AAACGAAGTACCAAGG-1 | AAACGAAGTACCAAGG-1_Control | 15   | 1    | Control | Control_AAACGAAGTACCAAGG-1 |\n",
       "| Control_AAACGAAGTCCCGTGA-1 | Control | 4425 | 4425 |  31805 |  8689 | 178 | 135 | 1649 |  7738 | 13416 | ⋯ | 9  | 5971 | 3996 | Control_AAACGAAGTCCCGTGA-1 | Control_AAACGAAGTCCCGTGA-1 | AAACGAAGTCCCGTGA-1_Control | 21   | 2    | Control | Control_AAACGAAGTCCCGTGA-1 |\n",
       "| Control_AAACGAAGTGGATTCT-1 | Control |  805 |  805 |   9518 |  1121 |  32 |  37 |  330 |  5983 |  2015 | ⋯ | 5  |  853 |  780 | Control_AAACGAAGTGGATTCT-1 | Control_AAACGAAGTGGATTCT-1 | AAACGAAGTGGATTCT-1_Control | 5    | 0    | Control | Control_AAACGAAGTGGATTCT-1 |\n",
       "| Control_AAACGAATCGAGCGCT-1 | Control | 1892 | 1892 |  11456 |  2558 |  61 |  49 |  687 |  3476 |  4625 | ⋯ | 0  | 2089 | 1779 | Control_AAACGAATCGAGCGCT-1 | Control_AAACGAATCGAGCGCT-1 | AAACGAATCGAGCGCT-1_Control | 25   | 3    | Control | Control_AAACGAATCGAGCGCT-1 |\n",
       "| Control_AAACGAATCGCAACTA-1 | Control | 6272 | 6272 |  56262 | 15793 | 214 | 374 | 3523 | 19210 | 17148 | ⋯ | 1  | 7970 | 4809 | Control_AAACGAATCGCAACTA-1 | Control_AAACGAATCGCAACTA-1 | AAACGAATCGCAACTA-1_Control | 5    | 0    | Control | Control_AAACGAATCGCAACTA-1 |\n",
       "| Control_AAACGAATCGCGCTGA-1 | Control |  614 |  614 |   6366 |   747 |  30 |  20 |  306 |  3521 |  1742 | ⋯ | 5  |  743 |  690 | Control_AAACGAATCGCGCTGA-1 | Control_AAACGAATCGCGCTGA-1 | AAACGAATCGCGCTGA-1_Control | 0    | 3    | Control | Control_AAACGAATCGCGCTGA-1 |\n",
       "| Control_AAACTCGAGATTACGA-1 | Control | 1763 | 1763 |  22032 |  3419 |  83 |  85 | 1085 | 11844 |  5516 | ⋯ | 3  | 2362 | 1974 | Control_AAACTCGAGATTACGA-1 | Control_AAACTCGAGATTACGA-1 | AAACTCGAGATTACGA-1_Control | 36   | 3    | Control | Control_AAACTCGAGATTACGA-1 |\n",
       "| Control_AAACTCGCAAGACTTC-1 | Control |  402 |  402 |   5303 |   728 |   8 |  18 |  232 |  2874 |  1443 | ⋯ | 8  |  697 |  654 | Control_AAACTCGCAAGACTTC-1 | Control_AAACTCGCAAGACTTC-1 | AAACTCGCAAGACTTC-1_Control | 0    | 0    | Control | Control_AAACTCGCAAGACTTC-1 |\n",
       "| Control_AAACTCGCACAAGGGT-1 | Control |  336 |  336 |  18623 |   982 |   9 |  91 |  510 | 15503 |  1528 | ⋯ | 10 |  663 |  616 | Control_AAACTCGCACAAGGGT-1 | Control_AAACTCGCACAAGGGT-1 | AAACTCGCACAAGGGT-1_Control | 1    | 1    | Control | Control_AAACTCGCACAAGGGT-1 |\n",
       "| Control_AAACTCGCACCTCGTT-1 | Control | 3499 | 3499 |  30543 |  6297 | 148 | 239 | 1359 | 12689 |  9811 | ⋯ | 0  | 4338 | 3121 | Control_AAACTCGCACCTCGTT-1 | Control_AAACTCGCACCTCGTT-1 | AAACTCGCACCTCGTT-1_Control | 5    | 1    | Control | Control_AAACTCGCACCTCGTT-1 |\n",
       "| Control_AAACTCGCACTTGCGG-1 | Control |  631 |  631 |   7038 |   991 |  27 |  31 |  299 |  3787 |  1903 | ⋯ | 7  |  799 |  726 | Control_AAACTCGCACTTGCGG-1 | Control_AAACTCGCACTTGCGG-1 | AAACTCGCACTTGCGG-1_Control | 13   | 2    | Control | Control_AAACTCGCACTTGCGG-1 |\n",
       "| Control_AAACTCGCATCGCCTT-1 | Control | 1469 | 1469 |  13537 |  3614 |  56 |  90 |  777 |  3050 |  5950 | ⋯ | 8  | 2427 | 1934 | Control_AAACTCGCATCGCCTT-1 | Control_AAACTCGCATCGCCTT-1 | AAACTCGCATCGCCTT-1_Control | 52   | 0    | Control | Control_AAACTCGCATCGCCTT-1 |\n",
       "| Control_AAACTCGCATGTGGGA-1 | Control | 3349 | 3349 |  48037 |  8932 | 171 | 241 | 1618 | 26241 | 10834 | ⋯ | 2  | 4880 | 3364 | Control_AAACTCGCATGTGGGA-1 | Control_AAACTCGCATGTGGGA-1 | AAACTCGCATGTGGGA-1_Control | 8    | 2    | Control | Control_AAACTCGCATGTGGGA-1 |\n",
       "| Control_AAACTCGGTATCCTTT-1 | Control | 2525 | 2525 |  21479 |  7157 | 101 | 159 | 1220 |  2182 | 10660 | ⋯ | 14 | 5227 | 3582 | Control_AAACTCGGTATCCTTT-1 | Control_AAACTCGGTATCCTTT-1 | AAACTCGGTATCCTTT-1_Control | 14   | 0    | Control | Control_AAACTCGGTATCCTTT-1 |\n",
       "| Control_AAACTCGGTGCCCTAG-1 | Control | 3414 | 3414 |  32698 |  7966 | 110 | 187 | 1479 | 13991 |  8965 | ⋯ | 0  | 4218 | 3110 | Control_AAACTCGGTGCCCTAG-1 | Control_AAACTCGGTGCCCTAG-1 | AAACTCGGTGCCCTAG-1_Control | 6    | 1    | Control | Control_AAACTCGGTGCCCTAG-1 |\n",
       "| Control_AAACTCGGTGTAGGAC-1 | Control |  517 |  517 |   3157 |   501 |   9 |  12 |  201 |   977 |  1457 | ⋯ | 11 |  607 |  572 | Control_AAACTCGGTGTAGGAC-1 | Control_AAACTCGGTGTAGGAC-1 | NA                         | None | None | None    | Control_AAACTCGGTGTAGGAC-1 |\n",
       "| Control_AAACTCGTCACTAGCA-1 | Control | 1571 | 1571 |  30764 |  4287 |  64 | 125 | 1018 | 19274 |  5996 | ⋯ | 5  | 2275 | 1799 | Control_AAACTCGTCACTAGCA-1 | Control_AAACTCGTCACTAGCA-1 | AAACTCGTCACTAGCA-1_Control | 22   | 1    | Control | Control_AAACTCGTCACTAGCA-1 |\n",
       "| Control_AAACTCGTCGAGTGTT-1 | Control | 2715 | 2715 |  29393 |  6514 | 144 | 188 | 1598 | 10615 | 10334 | ⋯ | 8  | 4689 | 3342 | Control_AAACTCGTCGAGTGTT-1 | Control_AAACTCGTCGAGTGTT-1 | AAACTCGTCGAGTGTT-1_Control | 31   | 0    | Control | Control_AAACTCGTCGAGTGTT-1 |\n",
       "| Control_AAACTCGTCTATCCTA-1 | Control | 2111 | 2111 |  18524 |  5154 | 104 |  82 | 1150 |  5499 |  6535 | ⋯ | 2  | 2967 | 2259 | Control_AAACTCGTCTATCCTA-1 | Control_AAACTCGTCTATCCTA-1 | AAACTCGTCTATCCTA-1_Control | 18   | 1    | Control | Control_AAACTCGTCTATCCTA-1 |\n",
       "| Control_AAACTGCAGCATGTGG-1 | Control | 3475 | 3475 |  25818 |  5609 | 136 | 114 | 1775 |  7066 | 11118 | ⋯ | 5  | 4983 | 3538 | Control_AAACTGCAGCATGTGG-1 | Control_AAACTGCAGCATGTGG-1 | AAACTGCAGCATGTGG-1_Control | 36   | 3    | Control | Control_AAACTGCAGCATGTGG-1 |\n",
       "| ⋮ | ⋮ | ⋮ | ⋮ | ⋮ | ⋮ | ⋮ | ⋮ | ⋮ | ⋮ | ⋮ | ⋱ | ⋮ | ⋮ | ⋮ | ⋮ | ⋮ | ⋮ | ⋮ | ⋮ | ⋮ | ⋮ |\n",
       "| Flt3l_TTTGTGTAGAGAACCC-1 | Flt3l | 1855 | 1855 | 13580 | 1993 |  64 |  61 |  794 |  5812 |  4856 | ⋯ | 2  | 2318 | 1962 | Flt3l_TTTGTGTAGAGAACCC-1 | Flt3l_TTTGTGTAGAGAACCC-1 | TTTGTGTAGAGAACCC-1_Flt3l | 1    | 0    | Flt3l | Flt3l_TTTGTGTAGAGAACCC-1 |\n",
       "| Flt3l_TTTGTGTAGAGAGTAG-1 | Flt3l | 3178 | 3178 | 20770 | 3871 |  99 |  79 | 1226 |  6564 |  8931 | ⋯ | 1  | 4051 | 3025 | Flt3l_TTTGTGTAGAGAGTAG-1 | Flt3l_TTTGTGTAGAGAGTAG-1 | TTTGTGTAGAGAGTAG-1_Flt3l | 14   | 3    | Flt3l | Flt3l_TTTGTGTAGAGAGTAG-1 |\n",
       "| Flt3l_TTTGTGTAGAGGTCCA-1 | Flt3l | 1406 | 1406 | 10379 | 1486 |  35 |  31 |  602 |  4095 |  4130 | ⋯ | 4  | 2113 | 1768 | Flt3l_TTTGTGTAGAGGTCCA-1 | Flt3l_TTTGTGTAGAGGTCCA-1 | TTTGTGTAGAGGTCCA-1_Flt3l | 0    | 0    | Flt3l | Flt3l_TTTGTGTAGAGGTCCA-1 |\n",
       "| Flt3l_TTTGTGTAGCCTCGCA-1 | Flt3l | 4592 | 4592 | 34494 | 5001 | 130 | 122 | 1968 | 11721 | 15552 | ⋯ | 8  | 7667 | 4908 | Flt3l_TTTGTGTAGCCTCGCA-1 | Flt3l_TTTGTGTAGCCTCGCA-1 | NA                       | None | None | None  | Flt3l_TTTGTGTAGCCTCGCA-1 |\n",
       "| Flt3l_TTTGTGTAGCGTCAAG-1 | Flt3l | 2066 | 2066 | 16251 | 2293 |  64 |  74 |  831 |  7421 |  5568 | ⋯ | 6  | 2581 | 2112 | Flt3l_TTTGTGTAGCGTCAAG-1 | Flt3l_TTTGTGTAGCGTCAAG-1 | TTTGTGTAGCGTCAAG-1_Flt3l | 10   | 0    | Flt3l | Flt3l_TTTGTGTAGCGTCAAG-1 |\n",
       "| Flt3l_TTTGTGTAGCTAGTTC-1 | Flt3l |  265 |  265 |  1014 |  111 |  11 |   7 |   87 |   292 |   506 | ⋯ | 6  |  235 |  228 | Flt3l_TTTGTGTAGCTAGTTC-1 | Flt3l_TTTGTGTAGCTAGTTC-1 | NA                       | None | None | None  | Flt3l_TTTGTGTAGCTAGTTC-1 |\n",
       "| Flt3l_TTTGTGTAGGAGTCTG-1 | Flt3l | 2130 | 2130 | 18213 | 2550 |  73 |  72 |  951 |  8332 |  6235 | ⋯ | 4  | 3132 | 2490 | Flt3l_TTTGTGTAGGAGTCTG-1 | Flt3l_TTTGTGTAGGAGTCTG-1 | TTTGTGTAGGAGTCTG-1_Flt3l | 41   | 0    | Flt3l | Flt3l_TTTGTGTAGGAGTCTG-1 |\n",
       "| Flt3l_TTTGTGTAGGCACCTC-1 | Flt3l |  788 |  788 |  5515 |  563 |  19 |  19 |  277 |  2347 |  2290 | ⋯ | 6  | 1157 | 1052 | Flt3l_TTTGTGTAGGCACCTC-1 | Flt3l_TTTGTGTAGGCACCTC-1 | TTTGTGTAGGCACCTC-1_Flt3l | 32   | 1    | Flt3l | Flt3l_TTTGTGTAGGCACCTC-1 |\n",
       "| Flt3l_TTTGTGTAGTATACCC-1 | Flt3l |  730 |  730 |  6666 |  577 |  21 |  28 |  322 |  3612 |  2106 | ⋯ | 6  |  959 |  875 | Flt3l_TTTGTGTAGTATACCC-1 | Flt3l_TTTGTGTAGTATACCC-1 | TTTGTGTAGTATACCC-1_Flt3l | 11   | 1    | Flt3l | Flt3l_TTTGTGTAGTATACCC-1 |\n",
       "| Flt3l_TTTGTGTCAACTCGTA-1 | Flt3l | 1324 | 1324 | 10723 | 1204 |  38 |  54 |  511 |  5395 |  3521 | ⋯ | 3  | 1558 | 1358 | Flt3l_TTTGTGTCAACTCGTA-1 | Flt3l_TTTGTGTCAACTCGTA-1 | TTTGTGTCAACTCGTA-1_Flt3l | 26   | 1    | Flt3l | Flt3l_TTTGTGTCAACTCGTA-1 |\n",
       "| Flt3l_TTTGTGTCAAGGGTAC-1 | Flt3l |  936 |  936 |  6614 |  700 |  27 |  38 |  480 |  2706 |  2663 | ⋯ | 6  | 1205 | 1102 | Flt3l_TTTGTGTCAAGGGTAC-1 | Flt3l_TTTGTGTCAAGGGTAC-1 | TTTGTGTCAAGGGTAC-1_Flt3l | 3    | 1    | Flt3l | Flt3l_TTTGTGTCAAGGGTAC-1 |\n",
       "| Flt3l_TTTGTGTCACGCCGAT-1 | Flt3l | 1120 | 1120 |  7625 |  969 |  33 |  31 |  456 |  2848 |  3288 | ⋯ | 2  | 1535 | 1377 | Flt3l_TTTGTGTCACGCCGAT-1 | Flt3l_TTTGTGTCACGCCGAT-1 | TTTGTGTCACGCCGAT-1_Flt3l | 2    | 0    | Flt3l | Flt3l_TTTGTGTCACGCCGAT-1 |\n",
       "| Flt3l_TTTGTGTCACTACACA-1 | Flt3l | 3311 | 3311 | 24547 | 3832 | 105 |  86 | 1293 |  9643 |  9588 | ⋯ | 4  | 4904 | 3436 | Flt3l_TTTGTGTCACTACACA-1 | Flt3l_TTTGTGTCACTACACA-1 | TTTGTGTCACTACACA-1_Flt3l | 3    | 0    | Flt3l | Flt3l_TTTGTGTCACTACACA-1 |\n",
       "| Flt3l_TTTGTGTCAGCAACCC-1 | Flt3l | 1188 | 1188 |  8635 | 1036 |  56 |  24 |  497 |  3470 |  3552 | ⋯ | 6  | 1685 | 1492 | Flt3l_TTTGTGTCAGCAACCC-1 | Flt3l_TTTGTGTCAGCAACCC-1 | TTTGTGTCAGCAACCC-1_Flt3l | 0    | 2    | Flt3l | Flt3l_TTTGTGTCAGCAACCC-1 |\n",
       "| Flt3l_TTTGTGTCAGGGTAAC-1 | Flt3l | 2092 | 2092 | 15522 | 1898 |  77 |  56 |  930 |  5820 |  6741 | ⋯ | 1  | 3155 | 2538 | Flt3l_TTTGTGTCAGGGTAAC-1 | Flt3l_TTTGTGTCAGGGTAAC-1 | TTTGTGTCAGGGTAAC-1_Flt3l | 33   | 1    | Flt3l | Flt3l_TTTGTGTCAGGGTAAC-1 |\n",
       "| Flt3l_TTTGTGTCATTTCTTG-1 | Flt3l | 2226 | 2226 | 19004 | 2792 |  86 |  82 |  872 |  8029 |  7143 | ⋯ | 3  | 3145 | 2439 | Flt3l_TTTGTGTCATTTCTTG-1 | Flt3l_TTTGTGTCATTTCTTG-1 | TTTGTGTCATTTCTTG-1_Flt3l | 26   | 1    | Flt3l | Flt3l_TTTGTGTCATTTCTTG-1 |\n",
       "| Flt3l_TTTGTGTGTATACGCT-1 | Flt3l |  929 |  929 |  6489 | 1081 |  40 |  36 |  470 |  2199 |  2663 | ⋯ | 8  | 1293 | 1127 | Flt3l_TTTGTGTGTATACGCT-1 | Flt3l_TTTGTGTGTATACGCT-1 | TTTGTGTGTATACGCT-1_Flt3l | 20   | 0    | Flt3l | Flt3l_TTTGTGTGTATACGCT-1 |\n",
       "| Flt3l_TTTGTGTGTATCTCAG-1 | Flt3l | 1964 | 1964 | 14441 | 2580 |  51 |  69 |  826 |  4943 |  5972 | ⋯ | 1  | 2721 | 2236 | Flt3l_TTTGTGTGTATCTCAG-1 | Flt3l_TTTGTGTGTATCTCAG-1 | TTTGTGTGTATCTCAG-1_Flt3l | 7    | 0    | Flt3l | Flt3l_TTTGTGTGTATCTCAG-1 |\n",
       "| Flt3l_TTTGTGTGTATTCTGG-1 | Flt3l | 5978 | 5978 | 28284 | 6136 | 134 | 147 | 1851 |  2893 | 17123 | ⋯ | 2  | 7784 | 4770 | Flt3l_TTTGTGTGTATTCTGG-1 | Flt3l_TTTGTGTGTATTCTGG-1 | TTTGTGTGTATTCTGG-1_Flt3l | 36   | 3    | Flt3l | Flt3l_TTTGTGTGTATTCTGG-1 |\n",
       "| Flt3l_TTTGTGTGTCCGTGCA-1 | Flt3l | 1296 | 1296 | 11556 | 1645 |  42 |  55 |  534 |  5287 |  3993 | ⋯ | 5  | 1916 | 1636 | Flt3l_TTTGTGTGTCCGTGCA-1 | Flt3l_TTTGTGTGTCCGTGCA-1 | TTTGTGTGTCCGTGCA-1_Flt3l | 11   | 2    | Flt3l | Flt3l_TTTGTGTGTCCGTGCA-1 |\n",
       "| Flt3l_TTTGTGTGTGAATACA-1 | Flt3l | 2845 | 2845 | 23953 | 3551 |  94 | 110 | 1268 | 11009 |  7921 | ⋯ | 1  | 3617 | 2791 | Flt3l_TTTGTGTGTGAATACA-1 | Flt3l_TTTGTGTGTGAATACA-1 | TTTGTGTGTGAATACA-1_Flt3l | 10   | 1    | Flt3l | Flt3l_TTTGTGTGTGAATACA-1 |\n",
       "| Flt3l_TTTGTGTGTTTGACCA-1 | Flt3l | 1467 | 1467 | 12816 | 1524 |  49 |  73 |  713 |  5956 |  4501 | ⋯ | 2  | 2271 | 1893 | Flt3l_TTTGTGTGTTTGACCA-1 | Flt3l_TTTGTGTGTTTGACCA-1 | TTTGTGTGTTTGACCA-1_Flt3l | 0    | 2    | Flt3l | Flt3l_TTTGTGTGTTTGACCA-1 |\n",
       "| Flt3l_TTTGTGTTCAAAGTAG-1 | Flt3l | 1145 | 1145 |  9612 | 1305 |  33 |  52 |  557 |  4519 |  3146 | ⋯ | 6  | 1493 | 1313 | Flt3l_TTTGTGTTCAAAGTAG-1 | Flt3l_TTTGTGTTCAAAGTAG-1 | TTTGTGTTCAAAGTAG-1_Flt3l | 18   | 1    | Flt3l | Flt3l_TTTGTGTTCAAAGTAG-1 |\n",
       "| Flt3l_TTTGTGTTCCTAGAGT-1 | Flt3l | 2238 | 2238 | 10933 | 1294 |  48 |  47 |  919 |  3685 |  4940 | ⋯ | 10 | 2348 | 1992 | Flt3l_TTTGTGTTCCTAGAGT-1 | Flt3l_TTTGTGTTCCTAGAGT-1 | TTTGTGTTCCTAGAGT-1_Flt3l | 14   | 2    | Flt3l | Flt3l_TTTGTGTTCCTAGAGT-1 |\n",
       "| Flt3l_TTTGTGTTCCTTTGCG-1 | Flt3l | 2737 | 2737 | 25608 | 4593 |  78 | 159 | 1486 | 11639 |  7653 | ⋯ | 1  | 3580 | 2812 | Flt3l_TTTGTGTTCCTTTGCG-1 | Flt3l_TTTGTGTTCCTTTGCG-1 | TTTGTGTTCCTTTGCG-1_Flt3l | 6    | 1    | Flt3l | Flt3l_TTTGTGTTCCTTTGCG-1 |\n",
       "| Flt3l_TTTGTGTTCGAGTTAC-1 | Flt3l | 2680 | 2680 | 17658 | 2695 |  42 |  85 | 1186 |  5949 |  7701 | ⋯ | 1  | 3507 | 2762 | Flt3l_TTTGTGTTCGAGTTAC-1 | Flt3l_TTTGTGTTCGAGTTAC-1 | TTTGTGTTCGAGTTAC-1_Flt3l | 6    | 0    | Flt3l | Flt3l_TTTGTGTTCGAGTTAC-1 |\n",
       "| Flt3l_TTTGTGTTCGCATAAC-1 | Flt3l | 1360 | 1360 | 11301 | 1275 |  40 |  44 |  596 |  4231 |  5115 | ⋯ | 10 | 2365 | 2004 | Flt3l_TTTGTGTTCGCATAAC-1 | Flt3l_TTTGTGTTCGCATAAC-1 | NA                       | None | None | None  | Flt3l_TTTGTGTTCGCATAAC-1 |\n",
       "| Flt3l_TTTGTGTTCGTGGTAT-1 | Flt3l | 1510 | 1510 |  9188 | 1165 |  33 |  42 |  620 |  3337 |  3991 | ⋯ | 1  | 1867 | 1611 | Flt3l_TTTGTGTTCGTGGTAT-1 | Flt3l_TTTGTGTTCGTGGTAT-1 | TTTGTGTTCGTGGTAT-1_Flt3l | 14   | 1    | Flt3l | Flt3l_TTTGTGTTCGTGGTAT-1 |\n",
       "| Flt3l_TTTGTGTTCGTTACAG-1 | Flt3l | 4063 | 4063 | 35699 | 6656 | 184 | 194 | 1921 | 15800 | 10944 | ⋯ | 1  | 4833 | 3423 | Flt3l_TTTGTGTTCGTTACAG-1 | Flt3l_TTTGTGTTCGTTACAG-1 | TTTGTGTTCGTTACAG-1_Flt3l | 1    | 3    | Flt3l | Flt3l_TTTGTGTTCGTTACAG-1 |\n",
       "| Flt3l_TTTGTGTTCTCCTTGG-1 | Flt3l | 1996 | 1996 | 15495 | 2205 |  56 |  79 |  863 |  6360 |  5932 | ⋯ | 4  | 2813 | 2231 | Flt3l_TTTGTGTTCTCCTTGG-1 | Flt3l_TTTGTGTTCTCCTTGG-1 | TTTGTGTTCTCCTTGG-1_Flt3l | 1    | 3    | Flt3l | Flt3l_TTTGTGTTCTCCTTGG-1 |\n",
       "\n"
      ],
      "text/plain": [
       "                           orig.ident nCount_ATAC nFeature_ATAC total \n",
       "Control_AAACGAAAGAGGTCCA-1 Control    1357        1357           16929\n",
       "Control_AAACGAAAGCGATACG-1 Control    3505        3505           45359\n",
       "Control_AAACGAAAGTCGTGAG-1 Control     994         994           10177\n",
       "Control_AAACGAACAATAGTGA-1 Control    2687        2687           22452\n",
       "Control_AAACGAACACAATAAG-1 Control    1184        1184           11763\n",
       "Control_AAACGAACACTGATAC-1 Control     954         954            9449\n",
       "Control_AAACGAACAGTAACCT-1 Control     693         693            6196\n",
       "Control_AAACGAACATCGTGAT-1 Control    6800        6800          100024\n",
       "Control_AAACGAAGTAACGGTG-1 Control    1074        1074            8454\n",
       "Control_AAACGAAGTAAGTCTC-1 Control    1262        1262            7684\n",
       "Control_AAACGAAGTACCAAGG-1 Control    3936        3936           27865\n",
       "Control_AAACGAAGTCCCGTGA-1 Control    4425        4425           31805\n",
       "Control_AAACGAAGTGGATTCT-1 Control     805         805            9518\n",
       "Control_AAACGAATCGAGCGCT-1 Control    1892        1892           11456\n",
       "Control_AAACGAATCGCAACTA-1 Control    6272        6272           56262\n",
       "Control_AAACGAATCGCGCTGA-1 Control     614         614            6366\n",
       "Control_AAACTCGAGATTACGA-1 Control    1763        1763           22032\n",
       "Control_AAACTCGCAAGACTTC-1 Control     402         402            5303\n",
       "Control_AAACTCGCACAAGGGT-1 Control     336         336           18623\n",
       "Control_AAACTCGCACCTCGTT-1 Control    3499        3499           30543\n",
       "Control_AAACTCGCACTTGCGG-1 Control     631         631            7038\n",
       "Control_AAACTCGCATCGCCTT-1 Control    1469        1469           13537\n",
       "Control_AAACTCGCATGTGGGA-1 Control    3349        3349           48037\n",
       "Control_AAACTCGGTATCCTTT-1 Control    2525        2525           21479\n",
       "Control_AAACTCGGTGCCCTAG-1 Control    3414        3414           32698\n",
       "Control_AAACTCGGTGTAGGAC-1 Control     517         517            3157\n",
       "Control_AAACTCGTCACTAGCA-1 Control    1571        1571           30764\n",
       "Control_AAACTCGTCGAGTGTT-1 Control    2715        2715           29393\n",
       "Control_AAACTCGTCTATCCTA-1 Control    2111        2111           18524\n",
       "Control_AAACTGCAGCATGTGG-1 Control    3475        3475           25818\n",
       "⋮                          ⋮          ⋮           ⋮             ⋮     \n",
       "Flt3l_TTTGTGTAGAGAACCC-1   Flt3l      1855        1855          13580 \n",
       "Flt3l_TTTGTGTAGAGAGTAG-1   Flt3l      3178        3178          20770 \n",
       "Flt3l_TTTGTGTAGAGGTCCA-1   Flt3l      1406        1406          10379 \n",
       "Flt3l_TTTGTGTAGCCTCGCA-1   Flt3l      4592        4592          34494 \n",
       "Flt3l_TTTGTGTAGCGTCAAG-1   Flt3l      2066        2066          16251 \n",
       "Flt3l_TTTGTGTAGCTAGTTC-1   Flt3l       265         265           1014 \n",
       "Flt3l_TTTGTGTAGGAGTCTG-1   Flt3l      2130        2130          18213 \n",
       "Flt3l_TTTGTGTAGGCACCTC-1   Flt3l       788         788           5515 \n",
       "Flt3l_TTTGTGTAGTATACCC-1   Flt3l       730         730           6666 \n",
       "Flt3l_TTTGTGTCAACTCGTA-1   Flt3l      1324        1324          10723 \n",
       "Flt3l_TTTGTGTCAAGGGTAC-1   Flt3l       936         936           6614 \n",
       "Flt3l_TTTGTGTCACGCCGAT-1   Flt3l      1120        1120           7625 \n",
       "Flt3l_TTTGTGTCACTACACA-1   Flt3l      3311        3311          24547 \n",
       "Flt3l_TTTGTGTCAGCAACCC-1   Flt3l      1188        1188           8635 \n",
       "Flt3l_TTTGTGTCAGGGTAAC-1   Flt3l      2092        2092          15522 \n",
       "Flt3l_TTTGTGTCATTTCTTG-1   Flt3l      2226        2226          19004 \n",
       "Flt3l_TTTGTGTGTATACGCT-1   Flt3l       929         929           6489 \n",
       "Flt3l_TTTGTGTGTATCTCAG-1   Flt3l      1964        1964          14441 \n",
       "Flt3l_TTTGTGTGTATTCTGG-1   Flt3l      5978        5978          28284 \n",
       "Flt3l_TTTGTGTGTCCGTGCA-1   Flt3l      1296        1296          11556 \n",
       "Flt3l_TTTGTGTGTGAATACA-1   Flt3l      2845        2845          23953 \n",
       "Flt3l_TTTGTGTGTTTGACCA-1   Flt3l      1467        1467          12816 \n",
       "Flt3l_TTTGTGTTCAAAGTAG-1   Flt3l      1145        1145           9612 \n",
       "Flt3l_TTTGTGTTCCTAGAGT-1   Flt3l      2238        2238          10933 \n",
       "Flt3l_TTTGTGTTCCTTTGCG-1   Flt3l      2737        2737          25608 \n",
       "Flt3l_TTTGTGTTCGAGTTAC-1   Flt3l      2680        2680          17658 \n",
       "Flt3l_TTTGTGTTCGCATAAC-1   Flt3l      1360        1360          11301 \n",
       "Flt3l_TTTGTGTTCGTGGTAT-1   Flt3l      1510        1510           9188 \n",
       "Flt3l_TTTGTGTTCGTTACAG-1   Flt3l      4063        4063          35699 \n",
       "Flt3l_TTTGTGTTCTCCTTGG-1   Flt3l      1996        1996          15495 \n",
       "                           duplicate chimeric unmapped lowmapq mitochondrial\n",
       "Control_AAACGAAAGAGGTCCA-1  2587      58       70       674     9629        \n",
       "Control_AAACGAAAGCGATACG-1 10546     184      184      2302    22247        \n",
       "Control_AAACGAAAGTCGTGAG-1  2450      48       60       657     2135        \n",
       "Control_AAACGAACAATAGTGA-1  4364     100       83       897     9233        \n",
       "Control_AAACGAACACAATAAG-1  2003      43       57       680     5547        \n",
       "Control_AAACGAACACTGATAC-1  1971      59       21       489     3785        \n",
       "Control_AAACGAACAGTAACCT-1  1097      19       17       288     2635        \n",
       "Control_AAACGAACATCGTGAT-1 36721     588      531      5317    36828        \n",
       "Control_AAACGAAGTAACGGTG-1  1950      24       33       354     3729        \n",
       "Control_AAACGAAGTAAGTCTC-1  1420      36       23       488     1787        \n",
       "Control_AAACGAAGTACCAAGG-1  7135     126      131      1330     9549        \n",
       "Control_AAACGAAGTCCCGTGA-1  8689     178      135      1649     7738        \n",
       "Control_AAACGAAGTGGATTCT-1  1121      32       37       330     5983        \n",
       "Control_AAACGAATCGAGCGCT-1  2558      61       49       687     3476        \n",
       "Control_AAACGAATCGCAACTA-1 15793     214      374      3523    19210        \n",
       "Control_AAACGAATCGCGCTGA-1   747      30       20       306     3521        \n",
       "Control_AAACTCGAGATTACGA-1  3419      83       85      1085    11844        \n",
       "Control_AAACTCGCAAGACTTC-1   728       8       18       232     2874        \n",
       "Control_AAACTCGCACAAGGGT-1   982       9       91       510    15503        \n",
       "Control_AAACTCGCACCTCGTT-1  6297     148      239      1359    12689        \n",
       "Control_AAACTCGCACTTGCGG-1   991      27       31       299     3787        \n",
       "Control_AAACTCGCATCGCCTT-1  3614      56       90       777     3050        \n",
       "Control_AAACTCGCATGTGGGA-1  8932     171      241      1618    26241        \n",
       "Control_AAACTCGGTATCCTTT-1  7157     101      159      1220     2182        \n",
       "Control_AAACTCGGTGCCCTAG-1  7966     110      187      1479    13991        \n",
       "Control_AAACTCGGTGTAGGAC-1   501       9       12       201      977        \n",
       "Control_AAACTCGTCACTAGCA-1  4287      64      125      1018    19274        \n",
       "Control_AAACTCGTCGAGTGTT-1  6514     144      188      1598    10615        \n",
       "Control_AAACTCGTCTATCCTA-1  5154     104       82      1150     5499        \n",
       "Control_AAACTGCAGCATGTGG-1  5609     136      114      1775     7066        \n",
       "⋮                          ⋮         ⋮        ⋮        ⋮       ⋮            \n",
       "Flt3l_TTTGTGTAGAGAACCC-1   1993       64       61       794     5812        \n",
       "Flt3l_TTTGTGTAGAGAGTAG-1   3871       99       79      1226     6564        \n",
       "Flt3l_TTTGTGTAGAGGTCCA-1   1486       35       31       602     4095        \n",
       "Flt3l_TTTGTGTAGCCTCGCA-1   5001      130      122      1968    11721        \n",
       "Flt3l_TTTGTGTAGCGTCAAG-1   2293       64       74       831     7421        \n",
       "Flt3l_TTTGTGTAGCTAGTTC-1    111       11        7        87      292        \n",
       "Flt3l_TTTGTGTAGGAGTCTG-1   2550       73       72       951     8332        \n",
       "Flt3l_TTTGTGTAGGCACCTC-1    563       19       19       277     2347        \n",
       "Flt3l_TTTGTGTAGTATACCC-1    577       21       28       322     3612        \n",
       "Flt3l_TTTGTGTCAACTCGTA-1   1204       38       54       511     5395        \n",
       "Flt3l_TTTGTGTCAAGGGTAC-1    700       27       38       480     2706        \n",
       "Flt3l_TTTGTGTCACGCCGAT-1    969       33       31       456     2848        \n",
       "Flt3l_TTTGTGTCACTACACA-1   3832      105       86      1293     9643        \n",
       "Flt3l_TTTGTGTCAGCAACCC-1   1036       56       24       497     3470        \n",
       "Flt3l_TTTGTGTCAGGGTAAC-1   1898       77       56       930     5820        \n",
       "Flt3l_TTTGTGTCATTTCTTG-1   2792       86       82       872     8029        \n",
       "Flt3l_TTTGTGTGTATACGCT-1   1081       40       36       470     2199        \n",
       "Flt3l_TTTGTGTGTATCTCAG-1   2580       51       69       826     4943        \n",
       "Flt3l_TTTGTGTGTATTCTGG-1   6136      134      147      1851     2893        \n",
       "Flt3l_TTTGTGTGTCCGTGCA-1   1645       42       55       534     5287        \n",
       "Flt3l_TTTGTGTGTGAATACA-1   3551       94      110      1268    11009        \n",
       "Flt3l_TTTGTGTGTTTGACCA-1   1524       49       73       713     5956        \n",
       "Flt3l_TTTGTGTTCAAAGTAG-1   1305       33       52       557     4519        \n",
       "Flt3l_TTTGTGTTCCTAGAGT-1   1294       48       47       919     3685        \n",
       "Flt3l_TTTGTGTTCCTTTGCG-1   4593       78      159      1486    11639        \n",
       "Flt3l_TTTGTGTTCGAGTTAC-1   2695       42       85      1186     5949        \n",
       "Flt3l_TTTGTGTTCGCATAAC-1   1275       40       44       596     4231        \n",
       "Flt3l_TTTGTGTTCGTGGTAT-1   1165       33       42       620     3337        \n",
       "Flt3l_TTTGTGTTCGTTACAG-1   6656      184      194      1921    15800        \n",
       "Flt3l_TTTGTGTTCTCCTTGG-1   2205       56       79       863     6360        \n",
       "                           passed_filters ⋯ seurat_clusters nCount_RNA\n",
       "Control_AAACGAAAGAGGTCCA-1  3911          ⋯ 5               1673      \n",
       "Control_AAACGAAAGCGATACG-1  9896          ⋯ 0               4315      \n",
       "Control_AAACGAAAGTCGTGAG-1  4827          ⋯ 5               1731      \n",
       "Control_AAACGAACAATAGTGA-1  7775          ⋯ 0               3113      \n",
       "Control_AAACGAACACAATAAG-1  3433          ⋯ 5               1559      \n",
       "Control_AAACGAACACTGATAC-1  3124          ⋯ 2               1370      \n",
       "Control_AAACGAACAGTAACCT-1  2140          ⋯ 8               1018      \n",
       "Control_AAACGAACATCGTGAT-1 20039          ⋯ 12              8645      \n",
       "Control_AAACGAAGTAACGGTG-1  2364          ⋯ 7               1005      \n",
       "Control_AAACGAAGTAAGTCTC-1  3930          ⋯ 13              1688      \n",
       "Control_AAACGAAGTACCAAGG-1  9594          ⋯ 12              4544      \n",
       "Control_AAACGAAGTCCCGTGA-1 13416          ⋯ 9               5971      \n",
       "Control_AAACGAAGTGGATTCT-1  2015          ⋯ 5                853      \n",
       "Control_AAACGAATCGAGCGCT-1  4625          ⋯ 0               2089      \n",
       "Control_AAACGAATCGCAACTA-1 17148          ⋯ 1               7970      \n",
       "Control_AAACGAATCGCGCTGA-1  1742          ⋯ 5                743      \n",
       "Control_AAACTCGAGATTACGA-1  5516          ⋯ 3               2362      \n",
       "Control_AAACTCGCAAGACTTC-1  1443          ⋯ 8                697      \n",
       "Control_AAACTCGCACAAGGGT-1  1528          ⋯ 10               663      \n",
       "Control_AAACTCGCACCTCGTT-1  9811          ⋯ 0               4338      \n",
       "Control_AAACTCGCACTTGCGG-1  1903          ⋯ 7                799      \n",
       "Control_AAACTCGCATCGCCTT-1  5950          ⋯ 8               2427      \n",
       "Control_AAACTCGCATGTGGGA-1 10834          ⋯ 2               4880      \n",
       "Control_AAACTCGGTATCCTTT-1 10660          ⋯ 14              5227      \n",
       "Control_AAACTCGGTGCCCTAG-1  8965          ⋯ 0               4218      \n",
       "Control_AAACTCGGTGTAGGAC-1  1457          ⋯ 11               607      \n",
       "Control_AAACTCGTCACTAGCA-1  5996          ⋯ 5               2275      \n",
       "Control_AAACTCGTCGAGTGTT-1 10334          ⋯ 8               4689      \n",
       "Control_AAACTCGTCTATCCTA-1  6535          ⋯ 2               2967      \n",
       "Control_AAACTGCAGCATGTGG-1 11118          ⋯ 5               4983      \n",
       "⋮                          ⋮              ⋱ ⋮               ⋮         \n",
       "Flt3l_TTTGTGTAGAGAACCC-1    4856          ⋯ 2               2318      \n",
       "Flt3l_TTTGTGTAGAGAGTAG-1    8931          ⋯ 1               4051      \n",
       "Flt3l_TTTGTGTAGAGGTCCA-1    4130          ⋯ 4               2113      \n",
       "Flt3l_TTTGTGTAGCCTCGCA-1   15552          ⋯ 8               7667      \n",
       "Flt3l_TTTGTGTAGCGTCAAG-1    5568          ⋯ 6               2581      \n",
       "Flt3l_TTTGTGTAGCTAGTTC-1     506          ⋯ 6                235      \n",
       "Flt3l_TTTGTGTAGGAGTCTG-1    6235          ⋯ 4               3132      \n",
       "Flt3l_TTTGTGTAGGCACCTC-1    2290          ⋯ 6               1157      \n",
       "Flt3l_TTTGTGTAGTATACCC-1    2106          ⋯ 6                959      \n",
       "Flt3l_TTTGTGTCAACTCGTA-1    3521          ⋯ 3               1558      \n",
       "Flt3l_TTTGTGTCAAGGGTAC-1    2663          ⋯ 6               1205      \n",
       "Flt3l_TTTGTGTCACGCCGAT-1    3288          ⋯ 2               1535      \n",
       "Flt3l_TTTGTGTCACTACACA-1    9588          ⋯ 4               4904      \n",
       "Flt3l_TTTGTGTCAGCAACCC-1    3552          ⋯ 6               1685      \n",
       "Flt3l_TTTGTGTCAGGGTAAC-1    6741          ⋯ 1               3155      \n",
       "Flt3l_TTTGTGTCATTTCTTG-1    7143          ⋯ 3               3145      \n",
       "Flt3l_TTTGTGTGTATACGCT-1    2663          ⋯ 8               1293      \n",
       "Flt3l_TTTGTGTGTATCTCAG-1    5972          ⋯ 1               2721      \n",
       "Flt3l_TTTGTGTGTATTCTGG-1   17123          ⋯ 2               7784      \n",
       "Flt3l_TTTGTGTGTCCGTGCA-1    3993          ⋯ 5               1916      \n",
       "Flt3l_TTTGTGTGTGAATACA-1    7921          ⋯ 1               3617      \n",
       "Flt3l_TTTGTGTGTTTGACCA-1    4501          ⋯ 2               2271      \n",
       "Flt3l_TTTGTGTTCAAAGTAG-1    3146          ⋯ 6               1493      \n",
       "Flt3l_TTTGTGTTCCTAGAGT-1    4940          ⋯ 10              2348      \n",
       "Flt3l_TTTGTGTTCCTTTGCG-1    7653          ⋯ 1               3580      \n",
       "Flt3l_TTTGTGTTCGAGTTAC-1    7701          ⋯ 1               3507      \n",
       "Flt3l_TTTGTGTTCGCATAAC-1    5115          ⋯ 10              2365      \n",
       "Flt3l_TTTGTGTTCGTGGTAT-1    3991          ⋯ 1               1867      \n",
       "Flt3l_TTTGTGTTCGTTACAG-1   10944          ⋯ 1               4833      \n",
       "Flt3l_TTTGTGTTCTCCTTGG-1    5932          ⋯ 4               2813      \n",
       "                           nFeature_RNA ID                        \n",
       "Control_AAACGAAAGAGGTCCA-1 1406         Control_AAACGAAAGAGGTCCA-1\n",
       "Control_AAACGAAAGCGATACG-1 3063         Control_AAACGAAAGCGATACG-1\n",
       "Control_AAACGAAAGTCGTGAG-1 1414         Control_AAACGAAAGTCGTGAG-1\n",
       "Control_AAACGAACAATAGTGA-1 2340         Control_AAACGAACAATAGTGA-1\n",
       "Control_AAACGAACACAATAAG-1 1394         Control_AAACGAACACAATAAG-1\n",
       "Control_AAACGAACACTGATAC-1 1207         Control_AAACGAACACTGATAC-1\n",
       "Control_AAACGAACAGTAACCT-1  939         Control_AAACGAACAGTAACCT-1\n",
       "Control_AAACGAACATCGTGAT-1 5001         Control_AAACGAACATCGTGAT-1\n",
       "Control_AAACGAAGTAACGGTG-1  905         Control_AAACGAAGTAACGGTG-1\n",
       "Control_AAACGAAGTAAGTCTC-1 1452         Control_AAACGAAGTAAGTCTC-1\n",
       "Control_AAACGAAGTACCAAGG-1 3265         Control_AAACGAAGTACCAAGG-1\n",
       "Control_AAACGAAGTCCCGTGA-1 3996         Control_AAACGAAGTCCCGTGA-1\n",
       "Control_AAACGAAGTGGATTCT-1  780         Control_AAACGAAGTGGATTCT-1\n",
       "Control_AAACGAATCGAGCGCT-1 1779         Control_AAACGAATCGAGCGCT-1\n",
       "Control_AAACGAATCGCAACTA-1 4809         Control_AAACGAATCGCAACTA-1\n",
       "Control_AAACGAATCGCGCTGA-1  690         Control_AAACGAATCGCGCTGA-1\n",
       "Control_AAACTCGAGATTACGA-1 1974         Control_AAACTCGAGATTACGA-1\n",
       "Control_AAACTCGCAAGACTTC-1  654         Control_AAACTCGCAAGACTTC-1\n",
       "Control_AAACTCGCACAAGGGT-1  616         Control_AAACTCGCACAAGGGT-1\n",
       "Control_AAACTCGCACCTCGTT-1 3121         Control_AAACTCGCACCTCGTT-1\n",
       "Control_AAACTCGCACTTGCGG-1  726         Control_AAACTCGCACTTGCGG-1\n",
       "Control_AAACTCGCATCGCCTT-1 1934         Control_AAACTCGCATCGCCTT-1\n",
       "Control_AAACTCGCATGTGGGA-1 3364         Control_AAACTCGCATGTGGGA-1\n",
       "Control_AAACTCGGTATCCTTT-1 3582         Control_AAACTCGGTATCCTTT-1\n",
       "Control_AAACTCGGTGCCCTAG-1 3110         Control_AAACTCGGTGCCCTAG-1\n",
       "Control_AAACTCGGTGTAGGAC-1  572         Control_AAACTCGGTGTAGGAC-1\n",
       "Control_AAACTCGTCACTAGCA-1 1799         Control_AAACTCGTCACTAGCA-1\n",
       "Control_AAACTCGTCGAGTGTT-1 3342         Control_AAACTCGTCGAGTGTT-1\n",
       "Control_AAACTCGTCTATCCTA-1 2259         Control_AAACTCGTCTATCCTA-1\n",
       "Control_AAACTGCAGCATGTGG-1 3538         Control_AAACTGCAGCATGTGG-1\n",
       "⋮                          ⋮            ⋮                         \n",
       "Flt3l_TTTGTGTAGAGAACCC-1   1962         Flt3l_TTTGTGTAGAGAACCC-1  \n",
       "Flt3l_TTTGTGTAGAGAGTAG-1   3025         Flt3l_TTTGTGTAGAGAGTAG-1  \n",
       "Flt3l_TTTGTGTAGAGGTCCA-1   1768         Flt3l_TTTGTGTAGAGGTCCA-1  \n",
       "Flt3l_TTTGTGTAGCCTCGCA-1   4908         Flt3l_TTTGTGTAGCCTCGCA-1  \n",
       "Flt3l_TTTGTGTAGCGTCAAG-1   2112         Flt3l_TTTGTGTAGCGTCAAG-1  \n",
       "Flt3l_TTTGTGTAGCTAGTTC-1    228         Flt3l_TTTGTGTAGCTAGTTC-1  \n",
       "Flt3l_TTTGTGTAGGAGTCTG-1   2490         Flt3l_TTTGTGTAGGAGTCTG-1  \n",
       "Flt3l_TTTGTGTAGGCACCTC-1   1052         Flt3l_TTTGTGTAGGCACCTC-1  \n",
       "Flt3l_TTTGTGTAGTATACCC-1    875         Flt3l_TTTGTGTAGTATACCC-1  \n",
       "Flt3l_TTTGTGTCAACTCGTA-1   1358         Flt3l_TTTGTGTCAACTCGTA-1  \n",
       "Flt3l_TTTGTGTCAAGGGTAC-1   1102         Flt3l_TTTGTGTCAAGGGTAC-1  \n",
       "Flt3l_TTTGTGTCACGCCGAT-1   1377         Flt3l_TTTGTGTCACGCCGAT-1  \n",
       "Flt3l_TTTGTGTCACTACACA-1   3436         Flt3l_TTTGTGTCACTACACA-1  \n",
       "Flt3l_TTTGTGTCAGCAACCC-1   1492         Flt3l_TTTGTGTCAGCAACCC-1  \n",
       "Flt3l_TTTGTGTCAGGGTAAC-1   2538         Flt3l_TTTGTGTCAGGGTAAC-1  \n",
       "Flt3l_TTTGTGTCATTTCTTG-1   2439         Flt3l_TTTGTGTCATTTCTTG-1  \n",
       "Flt3l_TTTGTGTGTATACGCT-1   1127         Flt3l_TTTGTGTGTATACGCT-1  \n",
       "Flt3l_TTTGTGTGTATCTCAG-1   2236         Flt3l_TTTGTGTGTATCTCAG-1  \n",
       "Flt3l_TTTGTGTGTATTCTGG-1   4770         Flt3l_TTTGTGTGTATTCTGG-1  \n",
       "Flt3l_TTTGTGTGTCCGTGCA-1   1636         Flt3l_TTTGTGTGTCCGTGCA-1  \n",
       "Flt3l_TTTGTGTGTGAATACA-1   2791         Flt3l_TTTGTGTGTGAATACA-1  \n",
       "Flt3l_TTTGTGTGTTTGACCA-1   1893         Flt3l_TTTGTGTGTTTGACCA-1  \n",
       "Flt3l_TTTGTGTTCAAAGTAG-1   1313         Flt3l_TTTGTGTTCAAAGTAG-1  \n",
       "Flt3l_TTTGTGTTCCTAGAGT-1   1992         Flt3l_TTTGTGTTCCTAGAGT-1  \n",
       "Flt3l_TTTGTGTTCCTTTGCG-1   2812         Flt3l_TTTGTGTTCCTTTGCG-1  \n",
       "Flt3l_TTTGTGTTCGAGTTAC-1   2762         Flt3l_TTTGTGTTCGAGTTAC-1  \n",
       "Flt3l_TTTGTGTTCGCATAAC-1   2004         Flt3l_TTTGTGTTCGCATAAC-1  \n",
       "Flt3l_TTTGTGTTCGTGGTAT-1   1611         Flt3l_TTTGTGTTCGTGGTAT-1  \n",
       "Flt3l_TTTGTGTTCGTTACAG-1   3423         Flt3l_TTTGTGTTCGTTACAG-1  \n",
       "Flt3l_TTTGTGTTCTCCTTGG-1   2231         Flt3l_TTTGTGTTCTCCTTGG-1  \n",
       "                           Row.names                 \n",
       "Control_AAACGAAAGAGGTCCA-1 Control_AAACGAAAGAGGTCCA-1\n",
       "Control_AAACGAAAGCGATACG-1 Control_AAACGAAAGCGATACG-1\n",
       "Control_AAACGAAAGTCGTGAG-1 Control_AAACGAAAGTCGTGAG-1\n",
       "Control_AAACGAACAATAGTGA-1 Control_AAACGAACAATAGTGA-1\n",
       "Control_AAACGAACACAATAAG-1 Control_AAACGAACACAATAAG-1\n",
       "Control_AAACGAACACTGATAC-1 Control_AAACGAACACTGATAC-1\n",
       "Control_AAACGAACAGTAACCT-1 Control_AAACGAACAGTAACCT-1\n",
       "Control_AAACGAACATCGTGAT-1 Control_AAACGAACATCGTGAT-1\n",
       "Control_AAACGAAGTAACGGTG-1 Control_AAACGAAGTAACGGTG-1\n",
       "Control_AAACGAAGTAAGTCTC-1 Control_AAACGAAGTAAGTCTC-1\n",
       "Control_AAACGAAGTACCAAGG-1 Control_AAACGAAGTACCAAGG-1\n",
       "Control_AAACGAAGTCCCGTGA-1 Control_AAACGAAGTCCCGTGA-1\n",
       "Control_AAACGAAGTGGATTCT-1 Control_AAACGAAGTGGATTCT-1\n",
       "Control_AAACGAATCGAGCGCT-1 Control_AAACGAATCGAGCGCT-1\n",
       "Control_AAACGAATCGCAACTA-1 Control_AAACGAATCGCAACTA-1\n",
       "Control_AAACGAATCGCGCTGA-1 Control_AAACGAATCGCGCTGA-1\n",
       "Control_AAACTCGAGATTACGA-1 Control_AAACTCGAGATTACGA-1\n",
       "Control_AAACTCGCAAGACTTC-1 Control_AAACTCGCAAGACTTC-1\n",
       "Control_AAACTCGCACAAGGGT-1 Control_AAACTCGCACAAGGGT-1\n",
       "Control_AAACTCGCACCTCGTT-1 Control_AAACTCGCACCTCGTT-1\n",
       "Control_AAACTCGCACTTGCGG-1 Control_AAACTCGCACTTGCGG-1\n",
       "Control_AAACTCGCATCGCCTT-1 Control_AAACTCGCATCGCCTT-1\n",
       "Control_AAACTCGCATGTGGGA-1 Control_AAACTCGCATGTGGGA-1\n",
       "Control_AAACTCGGTATCCTTT-1 Control_AAACTCGGTATCCTTT-1\n",
       "Control_AAACTCGGTGCCCTAG-1 Control_AAACTCGGTGCCCTAG-1\n",
       "Control_AAACTCGGTGTAGGAC-1 Control_AAACTCGGTGTAGGAC-1\n",
       "Control_AAACTCGTCACTAGCA-1 Control_AAACTCGTCACTAGCA-1\n",
       "Control_AAACTCGTCGAGTGTT-1 Control_AAACTCGTCGAGTGTT-1\n",
       "Control_AAACTCGTCTATCCTA-1 Control_AAACTCGTCTATCCTA-1\n",
       "Control_AAACTGCAGCATGTGG-1 Control_AAACTGCAGCATGTGG-1\n",
       "⋮                          ⋮                         \n",
       "Flt3l_TTTGTGTAGAGAACCC-1   Flt3l_TTTGTGTAGAGAACCC-1  \n",
       "Flt3l_TTTGTGTAGAGAGTAG-1   Flt3l_TTTGTGTAGAGAGTAG-1  \n",
       "Flt3l_TTTGTGTAGAGGTCCA-1   Flt3l_TTTGTGTAGAGGTCCA-1  \n",
       "Flt3l_TTTGTGTAGCCTCGCA-1   Flt3l_TTTGTGTAGCCTCGCA-1  \n",
       "Flt3l_TTTGTGTAGCGTCAAG-1   Flt3l_TTTGTGTAGCGTCAAG-1  \n",
       "Flt3l_TTTGTGTAGCTAGTTC-1   Flt3l_TTTGTGTAGCTAGTTC-1  \n",
       "Flt3l_TTTGTGTAGGAGTCTG-1   Flt3l_TTTGTGTAGGAGTCTG-1  \n",
       "Flt3l_TTTGTGTAGGCACCTC-1   Flt3l_TTTGTGTAGGCACCTC-1  \n",
       "Flt3l_TTTGTGTAGTATACCC-1   Flt3l_TTTGTGTAGTATACCC-1  \n",
       "Flt3l_TTTGTGTCAACTCGTA-1   Flt3l_TTTGTGTCAACTCGTA-1  \n",
       "Flt3l_TTTGTGTCAAGGGTAC-1   Flt3l_TTTGTGTCAAGGGTAC-1  \n",
       "Flt3l_TTTGTGTCACGCCGAT-1   Flt3l_TTTGTGTCACGCCGAT-1  \n",
       "Flt3l_TTTGTGTCACTACACA-1   Flt3l_TTTGTGTCACTACACA-1  \n",
       "Flt3l_TTTGTGTCAGCAACCC-1   Flt3l_TTTGTGTCAGCAACCC-1  \n",
       "Flt3l_TTTGTGTCAGGGTAAC-1   Flt3l_TTTGTGTCAGGGTAAC-1  \n",
       "Flt3l_TTTGTGTCATTTCTTG-1   Flt3l_TTTGTGTCATTTCTTG-1  \n",
       "Flt3l_TTTGTGTGTATACGCT-1   Flt3l_TTTGTGTGTATACGCT-1  \n",
       "Flt3l_TTTGTGTGTATCTCAG-1   Flt3l_TTTGTGTGTATCTCAG-1  \n",
       "Flt3l_TTTGTGTGTATTCTGG-1   Flt3l_TTTGTGTGTATTCTGG-1  \n",
       "Flt3l_TTTGTGTGTCCGTGCA-1   Flt3l_TTTGTGTGTCCGTGCA-1  \n",
       "Flt3l_TTTGTGTGTGAATACA-1   Flt3l_TTTGTGTGTGAATACA-1  \n",
       "Flt3l_TTTGTGTGTTTGACCA-1   Flt3l_TTTGTGTGTTTGACCA-1  \n",
       "Flt3l_TTTGTGTTCAAAGTAG-1   Flt3l_TTTGTGTTCAAAGTAG-1  \n",
       "Flt3l_TTTGTGTTCCTAGAGT-1   Flt3l_TTTGTGTTCCTAGAGT-1  \n",
       "Flt3l_TTTGTGTTCCTTTGCG-1   Flt3l_TTTGTGTTCCTTTGCG-1  \n",
       "Flt3l_TTTGTGTTCGAGTTAC-1   Flt3l_TTTGTGTTCGAGTTAC-1  \n",
       "Flt3l_TTTGTGTTCGCATAAC-1   Flt3l_TTTGTGTTCGCATAAC-1  \n",
       "Flt3l_TTTGTGTTCGTGGTAT-1   Flt3l_TTTGTGTTCGTGGTAT-1  \n",
       "Flt3l_TTTGTGTTCGTTACAG-1   Flt3l_TTTGTGTTCGTTACAG-1  \n",
       "Flt3l_TTTGTGTTCTCCTTGG-1   Flt3l_TTTGTGTTCTCCTTGG-1  \n",
       "                           ID.x                       lineage donor condition\n",
       "Control_AAACGAAAGAGGTCCA-1 AAACGAAAGAGGTCCA-1_Control 9       3     Control  \n",
       "Control_AAACGAAAGCGATACG-1 AAACGAAAGCGATACG-1_Control 0       1     Control  \n",
       "Control_AAACGAAAGTCGTGAG-1 AAACGAAAGTCGTGAG-1_Control 8       0     Control  \n",
       "Control_AAACGAACAATAGTGA-1 AAACGAACAATAGTGA-1_Control 11      3     Control  \n",
       "Control_AAACGAACACAATAAG-1 AAACGAACACAATAAG-1_Control 22      0     Control  \n",
       "Control_AAACGAACACTGATAC-1 AAACGAACACTGATAC-1_Control 11      2     Control  \n",
       "Control_AAACGAACAGTAACCT-1 AAACGAACAGTAACCT-1_Control 34      2     Control  \n",
       "Control_AAACGAACATCGTGAT-1 AAACGAACATCGTGAT-1_Control 2       3     Control  \n",
       "Control_AAACGAAGTAACGGTG-1 AAACGAAGTAACGGTG-1_Control 36      3     Control  \n",
       "Control_AAACGAAGTAAGTCTC-1 AAACGAAGTAAGTCTC-1_Control 52      0     Control  \n",
       "Control_AAACGAAGTACCAAGG-1 AAACGAAGTACCAAGG-1_Control 15      1     Control  \n",
       "Control_AAACGAAGTCCCGTGA-1 AAACGAAGTCCCGTGA-1_Control 21      2     Control  \n",
       "Control_AAACGAAGTGGATTCT-1 AAACGAAGTGGATTCT-1_Control 5       0     Control  \n",
       "Control_AAACGAATCGAGCGCT-1 AAACGAATCGAGCGCT-1_Control 25      3     Control  \n",
       "Control_AAACGAATCGCAACTA-1 AAACGAATCGCAACTA-1_Control 5       0     Control  \n",
       "Control_AAACGAATCGCGCTGA-1 AAACGAATCGCGCTGA-1_Control 0       3     Control  \n",
       "Control_AAACTCGAGATTACGA-1 AAACTCGAGATTACGA-1_Control 36      3     Control  \n",
       "Control_AAACTCGCAAGACTTC-1 AAACTCGCAAGACTTC-1_Control 0       0     Control  \n",
       "Control_AAACTCGCACAAGGGT-1 AAACTCGCACAAGGGT-1_Control 1       1     Control  \n",
       "Control_AAACTCGCACCTCGTT-1 AAACTCGCACCTCGTT-1_Control 5       1     Control  \n",
       "Control_AAACTCGCACTTGCGG-1 AAACTCGCACTTGCGG-1_Control 13      2     Control  \n",
       "Control_AAACTCGCATCGCCTT-1 AAACTCGCATCGCCTT-1_Control 52      0     Control  \n",
       "Control_AAACTCGCATGTGGGA-1 AAACTCGCATGTGGGA-1_Control 8       2     Control  \n",
       "Control_AAACTCGGTATCCTTT-1 AAACTCGGTATCCTTT-1_Control 14      0     Control  \n",
       "Control_AAACTCGGTGCCCTAG-1 AAACTCGGTGCCCTAG-1_Control 6       1     Control  \n",
       "Control_AAACTCGGTGTAGGAC-1 NA                         None    None  None     \n",
       "Control_AAACTCGTCACTAGCA-1 AAACTCGTCACTAGCA-1_Control 22      1     Control  \n",
       "Control_AAACTCGTCGAGTGTT-1 AAACTCGTCGAGTGTT-1_Control 31      0     Control  \n",
       "Control_AAACTCGTCTATCCTA-1 AAACTCGTCTATCCTA-1_Control 18      1     Control  \n",
       "Control_AAACTGCAGCATGTGG-1 AAACTGCAGCATGTGG-1_Control 36      3     Control  \n",
       "⋮                          ⋮                          ⋮       ⋮     ⋮        \n",
       "Flt3l_TTTGTGTAGAGAACCC-1   TTTGTGTAGAGAACCC-1_Flt3l   1       0     Flt3l    \n",
       "Flt3l_TTTGTGTAGAGAGTAG-1   TTTGTGTAGAGAGTAG-1_Flt3l   14      3     Flt3l    \n",
       "Flt3l_TTTGTGTAGAGGTCCA-1   TTTGTGTAGAGGTCCA-1_Flt3l   0       0     Flt3l    \n",
       "Flt3l_TTTGTGTAGCCTCGCA-1   NA                         None    None  None     \n",
       "Flt3l_TTTGTGTAGCGTCAAG-1   TTTGTGTAGCGTCAAG-1_Flt3l   10      0     Flt3l    \n",
       "Flt3l_TTTGTGTAGCTAGTTC-1   NA                         None    None  None     \n",
       "Flt3l_TTTGTGTAGGAGTCTG-1   TTTGTGTAGGAGTCTG-1_Flt3l   41      0     Flt3l    \n",
       "Flt3l_TTTGTGTAGGCACCTC-1   TTTGTGTAGGCACCTC-1_Flt3l   32      1     Flt3l    \n",
       "Flt3l_TTTGTGTAGTATACCC-1   TTTGTGTAGTATACCC-1_Flt3l   11      1     Flt3l    \n",
       "Flt3l_TTTGTGTCAACTCGTA-1   TTTGTGTCAACTCGTA-1_Flt3l   26      1     Flt3l    \n",
       "Flt3l_TTTGTGTCAAGGGTAC-1   TTTGTGTCAAGGGTAC-1_Flt3l   3       1     Flt3l    \n",
       "Flt3l_TTTGTGTCACGCCGAT-1   TTTGTGTCACGCCGAT-1_Flt3l   2       0     Flt3l    \n",
       "Flt3l_TTTGTGTCACTACACA-1   TTTGTGTCACTACACA-1_Flt3l   3       0     Flt3l    \n",
       "Flt3l_TTTGTGTCAGCAACCC-1   TTTGTGTCAGCAACCC-1_Flt3l   0       2     Flt3l    \n",
       "Flt3l_TTTGTGTCAGGGTAAC-1   TTTGTGTCAGGGTAAC-1_Flt3l   33      1     Flt3l    \n",
       "Flt3l_TTTGTGTCATTTCTTG-1   TTTGTGTCATTTCTTG-1_Flt3l   26      1     Flt3l    \n",
       "Flt3l_TTTGTGTGTATACGCT-1   TTTGTGTGTATACGCT-1_Flt3l   20      0     Flt3l    \n",
       "Flt3l_TTTGTGTGTATCTCAG-1   TTTGTGTGTATCTCAG-1_Flt3l   7       0     Flt3l    \n",
       "Flt3l_TTTGTGTGTATTCTGG-1   TTTGTGTGTATTCTGG-1_Flt3l   36      3     Flt3l    \n",
       "Flt3l_TTTGTGTGTCCGTGCA-1   TTTGTGTGTCCGTGCA-1_Flt3l   11      2     Flt3l    \n",
       "Flt3l_TTTGTGTGTGAATACA-1   TTTGTGTGTGAATACA-1_Flt3l   10      1     Flt3l    \n",
       "Flt3l_TTTGTGTGTTTGACCA-1   TTTGTGTGTTTGACCA-1_Flt3l   0       2     Flt3l    \n",
       "Flt3l_TTTGTGTTCAAAGTAG-1   TTTGTGTTCAAAGTAG-1_Flt3l   18      1     Flt3l    \n",
       "Flt3l_TTTGTGTTCCTAGAGT-1   TTTGTGTTCCTAGAGT-1_Flt3l   14      2     Flt3l    \n",
       "Flt3l_TTTGTGTTCCTTTGCG-1   TTTGTGTTCCTTTGCG-1_Flt3l   6       1     Flt3l    \n",
       "Flt3l_TTTGTGTTCGAGTTAC-1   TTTGTGTTCGAGTTAC-1_Flt3l   6       0     Flt3l    \n",
       "Flt3l_TTTGTGTTCGCATAAC-1   NA                         None    None  None     \n",
       "Flt3l_TTTGTGTTCGTGGTAT-1   TTTGTGTTCGTGGTAT-1_Flt3l   14      1     Flt3l    \n",
       "Flt3l_TTTGTGTTCGTTACAG-1   TTTGTGTTCGTTACAG-1_Flt3l   1       3     Flt3l    \n",
       "Flt3l_TTTGTGTTCTCCTTGG-1   TTTGTGTTCTCCTTGG-1_Flt3l   1       3     Flt3l    \n",
       "                           ID.y                      \n",
       "Control_AAACGAAAGAGGTCCA-1 Control_AAACGAAAGAGGTCCA-1\n",
       "Control_AAACGAAAGCGATACG-1 Control_AAACGAAAGCGATACG-1\n",
       "Control_AAACGAAAGTCGTGAG-1 Control_AAACGAAAGTCGTGAG-1\n",
       "Control_AAACGAACAATAGTGA-1 Control_AAACGAACAATAGTGA-1\n",
       "Control_AAACGAACACAATAAG-1 Control_AAACGAACACAATAAG-1\n",
       "Control_AAACGAACACTGATAC-1 Control_AAACGAACACTGATAC-1\n",
       "Control_AAACGAACAGTAACCT-1 Control_AAACGAACAGTAACCT-1\n",
       "Control_AAACGAACATCGTGAT-1 Control_AAACGAACATCGTGAT-1\n",
       "Control_AAACGAAGTAACGGTG-1 Control_AAACGAAGTAACGGTG-1\n",
       "Control_AAACGAAGTAAGTCTC-1 Control_AAACGAAGTAAGTCTC-1\n",
       "Control_AAACGAAGTACCAAGG-1 Control_AAACGAAGTACCAAGG-1\n",
       "Control_AAACGAAGTCCCGTGA-1 Control_AAACGAAGTCCCGTGA-1\n",
       "Control_AAACGAAGTGGATTCT-1 Control_AAACGAAGTGGATTCT-1\n",
       "Control_AAACGAATCGAGCGCT-1 Control_AAACGAATCGAGCGCT-1\n",
       "Control_AAACGAATCGCAACTA-1 Control_AAACGAATCGCAACTA-1\n",
       "Control_AAACGAATCGCGCTGA-1 Control_AAACGAATCGCGCTGA-1\n",
       "Control_AAACTCGAGATTACGA-1 Control_AAACTCGAGATTACGA-1\n",
       "Control_AAACTCGCAAGACTTC-1 Control_AAACTCGCAAGACTTC-1\n",
       "Control_AAACTCGCACAAGGGT-1 Control_AAACTCGCACAAGGGT-1\n",
       "Control_AAACTCGCACCTCGTT-1 Control_AAACTCGCACCTCGTT-1\n",
       "Control_AAACTCGCACTTGCGG-1 Control_AAACTCGCACTTGCGG-1\n",
       "Control_AAACTCGCATCGCCTT-1 Control_AAACTCGCATCGCCTT-1\n",
       "Control_AAACTCGCATGTGGGA-1 Control_AAACTCGCATGTGGGA-1\n",
       "Control_AAACTCGGTATCCTTT-1 Control_AAACTCGGTATCCTTT-1\n",
       "Control_AAACTCGGTGCCCTAG-1 Control_AAACTCGGTGCCCTAG-1\n",
       "Control_AAACTCGGTGTAGGAC-1 Control_AAACTCGGTGTAGGAC-1\n",
       "Control_AAACTCGTCACTAGCA-1 Control_AAACTCGTCACTAGCA-1\n",
       "Control_AAACTCGTCGAGTGTT-1 Control_AAACTCGTCGAGTGTT-1\n",
       "Control_AAACTCGTCTATCCTA-1 Control_AAACTCGTCTATCCTA-1\n",
       "Control_AAACTGCAGCATGTGG-1 Control_AAACTGCAGCATGTGG-1\n",
       "⋮                          ⋮                         \n",
       "Flt3l_TTTGTGTAGAGAACCC-1   Flt3l_TTTGTGTAGAGAACCC-1  \n",
       "Flt3l_TTTGTGTAGAGAGTAG-1   Flt3l_TTTGTGTAGAGAGTAG-1  \n",
       "Flt3l_TTTGTGTAGAGGTCCA-1   Flt3l_TTTGTGTAGAGGTCCA-1  \n",
       "Flt3l_TTTGTGTAGCCTCGCA-1   Flt3l_TTTGTGTAGCCTCGCA-1  \n",
       "Flt3l_TTTGTGTAGCGTCAAG-1   Flt3l_TTTGTGTAGCGTCAAG-1  \n",
       "Flt3l_TTTGTGTAGCTAGTTC-1   Flt3l_TTTGTGTAGCTAGTTC-1  \n",
       "Flt3l_TTTGTGTAGGAGTCTG-1   Flt3l_TTTGTGTAGGAGTCTG-1  \n",
       "Flt3l_TTTGTGTAGGCACCTC-1   Flt3l_TTTGTGTAGGCACCTC-1  \n",
       "Flt3l_TTTGTGTAGTATACCC-1   Flt3l_TTTGTGTAGTATACCC-1  \n",
       "Flt3l_TTTGTGTCAACTCGTA-1   Flt3l_TTTGTGTCAACTCGTA-1  \n",
       "Flt3l_TTTGTGTCAAGGGTAC-1   Flt3l_TTTGTGTCAAGGGTAC-1  \n",
       "Flt3l_TTTGTGTCACGCCGAT-1   Flt3l_TTTGTGTCACGCCGAT-1  \n",
       "Flt3l_TTTGTGTCACTACACA-1   Flt3l_TTTGTGTCACTACACA-1  \n",
       "Flt3l_TTTGTGTCAGCAACCC-1   Flt3l_TTTGTGTCAGCAACCC-1  \n",
       "Flt3l_TTTGTGTCAGGGTAAC-1   Flt3l_TTTGTGTCAGGGTAAC-1  \n",
       "Flt3l_TTTGTGTCATTTCTTG-1   Flt3l_TTTGTGTCATTTCTTG-1  \n",
       "Flt3l_TTTGTGTGTATACGCT-1   Flt3l_TTTGTGTGTATACGCT-1  \n",
       "Flt3l_TTTGTGTGTATCTCAG-1   Flt3l_TTTGTGTGTATCTCAG-1  \n",
       "Flt3l_TTTGTGTGTATTCTGG-1   Flt3l_TTTGTGTGTATTCTGG-1  \n",
       "Flt3l_TTTGTGTGTCCGTGCA-1   Flt3l_TTTGTGTGTCCGTGCA-1  \n",
       "Flt3l_TTTGTGTGTGAATACA-1   Flt3l_TTTGTGTGTGAATACA-1  \n",
       "Flt3l_TTTGTGTGTTTGACCA-1   Flt3l_TTTGTGTGTTTGACCA-1  \n",
       "Flt3l_TTTGTGTTCAAAGTAG-1   Flt3l_TTTGTGTTCAAAGTAG-1  \n",
       "Flt3l_TTTGTGTTCCTAGAGT-1   Flt3l_TTTGTGTTCCTAGAGT-1  \n",
       "Flt3l_TTTGTGTTCCTTTGCG-1   Flt3l_TTTGTGTTCCTTTGCG-1  \n",
       "Flt3l_TTTGTGTTCGAGTTAC-1   Flt3l_TTTGTGTTCGAGTTAC-1  \n",
       "Flt3l_TTTGTGTTCGCATAAC-1   Flt3l_TTTGTGTTCGCATAAC-1  \n",
       "Flt3l_TTTGTGTTCGTGGTAT-1   Flt3l_TTTGTGTTCGTGGTAT-1  \n",
       "Flt3l_TTTGTGTTCGTTACAG-1   Flt3l_TTTGTGTTCGTTACAG-1  \n",
       "Flt3l_TTTGTGTTCTCCTTGG-1   Flt3l_TTTGTGTTCTCCTTGG-1  "
      ]
     },
     "metadata": {},
     "output_type": "display_data"
    }
   ],
   "source": [
    "se[[]]"
   ]
  },
  {
   "cell_type": "code",
   "execution_count": 5,
   "id": "a3eaa944",
   "metadata": {},
   "outputs": [],
   "source": [
    "plotDE <- function(integrated, de.results, a, b, outdir){\n",
    "    try\n",
    "    {\n",
    "    plot1 <- VlnPlot(\n",
    "      object = integrated,\n",
    "      features = rownames(de.results)[1],\n",
    "      pt.size = 0.1,\n",
    "      idents = c(a,b)\n",
    "    )\n",
    "    plot2 <- FeaturePlot(\n",
    "      object = integrated,\n",
    "      features = rownames(de.results)[1],\n",
    "      pt.size = 0.1\n",
    "    )\n",
    "\n",
    "    plot3 <- FeaturePlot(\n",
    "      object = integrated,\n",
    "      features = rownames(de.results)[2],\n",
    "      pt.size = 0.1\n",
    "    )\n",
    "    \n",
    "    plot1 | plot2 | plot3\n",
    "    \n",
    "    ggsave(file.path(outdir,paste0(\"clones_\",a,\"__\",b, \".DE.GeneActivity.top2.png\")))\n",
    "    \n",
    "    return(c(plot1, plot2, plot3))\n",
    "    }\n",
    "    return\n",
    "}"
   ]
  },
  {
   "cell_type": "markdown",
   "id": "05d67c60",
   "metadata": {},
   "source": [
    "## Loop through donors, load enrich, and plot"
   ]
  },
  {
   "cell_type": "code",
   "execution_count": 6,
   "id": "0ff996d0",
   "metadata": {},
   "outputs": [],
   "source": [
    "load_enrich <- function(enrich_f){\n",
    "    enrich <- as.data.frame(readr::read_csv(enrich_f)) # %>% tidyr::unite(barcode)\n",
    "    #rownames(enrich) = enrich$ID\n",
    "    colnames(enrich) <- make.names(colnames(enrich))\n",
    "\n",
    "    enrich$log2.enrichment <- log2(enrich$Flt3l.fold.enrichment.norm)\n",
    "    enrich$p.adj <- p.adjust(enrich$Fisher.p, method = \"BH\")\n",
    "    return(enrich)\n",
    "}"
   ]
  },
  {
   "cell_type": "code",
   "execution_count": 17,
   "id": "39215c8d",
   "metadata": {},
   "outputs": [],
   "source": [
    "stats_enrich <- function(enrich){\n",
    "    print(\"clone stats\")\n",
    "    print('p<0.1')\n",
    "    print(sum(enrich$p.adj < 0.1))\n",
    "    print(\"p<0.05\")\n",
    "    print(sum(enrich$p.adj < 0.05))\n",
    "    print(\"p<0.01\")\n",
    "    print(sum(enrich$p.adj < 0.01))\n",
    "    print(\"fold>1.5\")\n",
    "    print(sum(abs(enrich$log2.enrichment) > 1.5))\n",
    "    print(\"fold>1\")\n",
    "    print(sum(abs(enrich$log2.enrichment) > 1))\n",
    "    print(\"fold>1.5 and p <0.05\")\n",
    "    print(sum((abs(enrich$log2.enrichment) > 1.5) & (enrich$p.adj < 0.05)))\n",
    "}"
   ]
  },
  {
   "cell_type": "code",
   "execution_count": 8,
   "id": "4e8b2a8c",
   "metadata": {},
   "outputs": [],
   "source": [
    "run_de <- function(se.filt, clones.filt, curr.outdir){\n",
    "    clones.filt.ids <- clones.filt$lineage\n",
    "    pairs = combn(clones.filt.ids,2)\n",
    "\n",
    "    for (i in 1:dim(combn(clones.filt.ids,2))[2]){\n",
    "        print(pairs[,i])\n",
    "\n",
    "\n",
    "    try({\n",
    "        print(paste(\"clones\", i))\n",
    "        a = pairs[1,i]\n",
    "        b = pairs[2,i]\n",
    "        da.peaks <- FindMarkers(\n",
    "                      object = se.filt,\n",
    "                      ident.1 = a,\n",
    "                      ident.2 = b, #\"CD4 Naive\",\n",
    "                      min.pct = 0.01,\n",
    "                      logfc.threshold = 0.1,\n",
    "                      test.use = 'LR', latent.vars = 'peak_region_fragments'\n",
    "                    )\n",
    "        print(file.path(curr.outdir, paste0(\"clones_\",a,\"__\", b,\".DE.GeneActivity.csv\")))\n",
    "        print(head(da.peaks))\n",
    "        write.csv(da.peaks, file=file.path(curr.outdir, paste0(\"clones_\",a,\"__\", b,\".DE.GeneActivity.csv\")),\n",
    "                 quote=FALSE)\n",
    "        print(paste('saved clones', a,b))\n",
    "        plotDE(se.filt, da.peaks, a, b, curr.outdir)\n",
    "        print(paste('plotted clones', a, b))\n",
    "\n",
    "    })\n",
    "    }\n",
    "\n",
    "\n",
    "}"
   ]
  },
  {
   "cell_type": "code",
   "execution_count": 25,
   "id": "92b647a3",
   "metadata": {
    "scrolled": true
   },
   "outputs": [
    {
     "name": "stdout",
     "output_type": "stream",
     "text": [
      "[1] \"donor\"\n",
      "[1] 0\n"
     ]
    },
    {
     "name": "stderr",
     "output_type": "stream",
     "text": [
      "\u001b[1m\u001b[1mRows: \u001b[1m\u001b[22m\u001b[34m\u001b[34m60\u001b[34m\u001b[39m \u001b[1m\u001b[1mColumns: \u001b[1m\u001b[22m\u001b[34m\u001b[34m8\u001b[34m\u001b[39m\n",
      "\n",
      "\u001b[36m──\u001b[39m \u001b[1m\u001b[1mColumn specification\u001b[1m\u001b[22m \u001b[36m──────────────────────────────────────────────────────────────────────────────────────────────────────────────────────────────────────────────────────────────────────────────────────────────────────────────────────\u001b[39m\n",
      "\u001b[1mDelimiter:\u001b[22m \",\"\n",
      "\u001b[32mdbl\u001b[39m (8): lineage, # Control Cells in Cluster, # Flt3l Cells in Cluster, Flt3...\n",
      "\n",
      "\n",
      "\u001b[36mℹ\u001b[39m Use \u001b[30m\u001b[47m\u001b[30m\u001b[47m`spec()`\u001b[47m\u001b[30m\u001b[49m\u001b[39m to retrieve the full column specification for this data.\n",
      "\u001b[36mℹ\u001b[39m Specify the column types or set \u001b[30m\u001b[47m\u001b[30m\u001b[47m`show_col_types = FALSE`\u001b[47m\u001b[30m\u001b[49m\u001b[39m to quiet this message.\n",
      "\n"
     ]
    },
    {
     "name": "stdout",
     "output_type": "stream",
     "text": [
      " [1] \"lineage\"                     \"X..Control.Cells.in.Cluster\"\n",
      " [3] \"X..Flt3l.Cells.in.Cluster\"   \"Flt3l.fold.enrichment.norm\" \n",
      " [5] \"hypergeom.p\"                 \"Fisher.p\"                   \n",
      " [7] \"Fisher..log10p\"              \"X.log10p\"                   \n",
      " [9] \"log2.enrichment\"             \"p.adj\"                      \n",
      "[11] \"donor\"                      \n"
     ]
    },
    {
     "name": "stderr",
     "output_type": "stream",
     "text": [
      "Saving 6.67 x 6.67 in image\n",
      "\n"
     ]
    },
    {
     "name": "stdout",
     "output_type": "stream",
     "text": [
      "[1] \"clone stats\"\n",
      "[1] \"p<0.1\"\n",
      "[1] 16\n",
      "[1] \"p<0.05\"\n",
      "[1] 11\n",
      "[1] \"p<0.01\"\n",
      "[1] 10\n",
      "[1] \"fold>1.5\"\n",
      "[1] 5\n",
      "[1] \"fold>1\"\n",
      "[1] 23\n",
      "[1] \"fold>1.5 and p <0.05\"\n",
      "[1] 2\n",
      "[1] \"clones.filt\"\n",
      "   lineage X..Control.Cells.in.Cluster X..Flt3l.Cells.in.Cluster\n",
      "1        0                          91                       326\n",
      "2        1                          61                       246\n",
      "6        5                          42                       159\n",
      "7        6                         115                        84\n",
      "9        8                          41                       129\n",
      "12      11                          96                        57\n",
      "13      12                          31                       113\n",
      "53      52                         212                        69\n",
      "54      53                          74                        41\n",
      "   Flt3l.fold.enrichment.norm  hypergeom.p     Fisher.p Fisher..log10p\n",
      "1                   2.2820624 0.000000e+00 6.937434e-15      14.158801\n",
      "2                   2.5689555 0.000000e+00 1.587839e-13      12.799193\n",
      "6                   2.4115659 7.173324e-09 3.001457e-08       7.522668\n",
      "7                   0.4652997 1.000000e+00 4.007138e-08       7.397166\n",
      "9                   2.0042743 1.086132e-05 3.833794e-05       4.416371\n",
      "12                  0.3782291 1.000000e+00 1.727096e-09       8.762684\n",
      "13                  2.3220312 1.940702e-06 7.711756e-06       5.112847\n",
      "53                  0.2073311 1.000000e+00 9.813897e-38      37.008160\n",
      "54                  0.3529421 1.000000e+00 2.954931e-08       7.529453\n",
      "       X.log10p log2.enrichment        p.adj donor\n",
      "1  0.000000e+00        1.190338 2.081230e-13     0\n",
      "2  0.000000e+00        1.361182 3.175679e-12     0\n",
      "6  8.144280e+00        1.269970 3.001457e-07     0\n",
      "7  1.191233e-08       -1.103768 3.434690e-07     0\n",
      "9  4.964117e+00        1.003080 2.555862e-04     0\n",
      "12 4.928587e-10       -1.402668 2.590644e-08     0\n",
      "13 5.712041e+00        1.215387 5.783817e-05     0\n",
      "53 0.000000e+00       -2.269991 5.888338e-36     0\n",
      "54 8.859517e-09       -1.502497 3.001457e-07     0\n"
     ]
    },
    {
     "name": "stderr",
     "output_type": "stream",
     "text": [
      "Warning message in (lineage %in% clones.filt$lineage) & (clones.filt$donor == d):\n",
      "“longer object length is not a multiple of shorter object length”\n"
     ]
    },
    {
     "name": "stdout",
     "output_type": "stream",
     "text": [
      "[1] 0 1\n",
      "[1] \"clones 1\"\n",
      "[1] \"/data2/mito_lineage/output/annotation_clones/data/cd34norm/MTblacklist/DE//donor0/clones_0__1.DE.GeneActivity.csv\"\n",
      "            p_val avg_log2FC pct.1 pct.2 p_val_adj\n",
      "TTC6 1.528032e-05  0.1212175 0.490 0.392 0.3057591\n",
      "TOX  1.407688e-03 -0.1044906 0.343 0.369 1.0000000\n",
      "[1] \"saved clones 0 1\"\n"
     ]
    },
    {
     "name": "stderr",
     "output_type": "stream",
     "text": [
      "Saving 6.67 x 6.67 in image\n",
      "\n"
     ]
    },
    {
     "name": "stdout",
     "output_type": "stream",
     "text": [
      "[1] \"plotted clones 0 1\"\n",
      "[1] 0 5\n",
      "[1] \"clones 2\"\n",
      "[1] \"/data2/mito_lineage/output/annotation_clones/data/cd34norm/MTblacklist/DE//donor0/clones_0__5.DE.GeneActivity.csv\"\n",
      "                p_val avg_log2FC pct.1 pct.2 p_val_adj\n",
      "SUSD1    5.430215e-06  0.1467407 0.391 0.334 0.1086586\n",
      "FAM160A2 2.281383e-04 -0.1232433 0.223 0.307 1.0000000\n",
      "MAP3K1   4.066606e-04  0.1047908 0.317 0.290 1.0000000\n",
      "TLL2     1.024757e-03 -0.1135771 0.342 0.431 1.0000000\n",
      "PPARG    1.500163e-03 -0.1154541 0.337 0.429 1.0000000\n",
      "DCLK1    2.287967e-03 -0.1191723 0.570 0.653 1.0000000\n",
      "[1] \"saved clones 0 5\"\n"
     ]
    },
    {
     "name": "stderr",
     "output_type": "stream",
     "text": [
      "Saving 6.67 x 6.67 in image\n",
      "\n"
     ]
    },
    {
     "name": "stdout",
     "output_type": "stream",
     "text": [
      "[1] \"plotted clones 0 5\"\n",
      "[1] 0 6\n",
      "[1] \"clones 3\"\n",
      "[1] \"/data2/mito_lineage/output/annotation_clones/data/cd34norm/MTblacklist/DE//donor0/clones_0__6.DE.GeneActivity.csv\"\n",
      "              p_val avg_log2FC pct.1 pct.2 p_val_adj\n",
      "RNF220 6.176706e-06  0.1507758 0.447 0.395 0.1235959\n",
      "CAV2   3.028836e-05 -0.1309907 0.501 0.619 0.6060700\n",
      "RPTOR  3.165258e-05  0.1472441 0.675 0.640 0.6333681\n",
      "OSBPL6 4.516390e-05 -0.1353140 0.391 0.500 0.9037296\n",
      "PAK2   1.267827e-04  0.1087648 0.296 0.267 1.0000000\n",
      "TPK1   1.436983e-04 -0.1256558 0.389 0.497 1.0000000\n",
      "[1] \"saved clones 0 6\"\n"
     ]
    },
    {
     "name": "stderr",
     "output_type": "stream",
     "text": [
      "Saving 6.67 x 6.67 in image\n",
      "\n"
     ]
    },
    {
     "name": "stdout",
     "output_type": "stream",
     "text": [
      "[1] \"plotted clones 0 6\"\n",
      "[1] 0 8\n",
      "[1] \"clones 4\"\n",
      "[1] \"/data2/mito_lineage/output/annotation_clones/data/cd34norm/MTblacklist/DE//donor0/clones_0__8.DE.GeneActivity.csv\"\n",
      "                p_val avg_log2FC pct.1 pct.2 p_val_adj\n",
      "TTC6     0.0001125089  0.1487363 0.490 0.394         1\n",
      "ENPP2    0.0001476374  0.1249588 0.313 0.218         1\n",
      "KIAA1324 0.0002104159  0.1072014 0.206 0.145         1\n",
      "DYRK1A   0.0003381891  0.1309157 0.488 0.381         1\n",
      "PDZD7    0.0003596120 -0.1055009 0.116 0.156         1\n",
      "NCS1     0.0003762134  0.1165414 0.261 0.177         1\n",
      "[1] \"saved clones 0 8\"\n"
     ]
    },
    {
     "name": "stderr",
     "output_type": "stream",
     "text": [
      "Saving 6.67 x 6.67 in image\n",
      "\n"
     ]
    },
    {
     "name": "stdout",
     "output_type": "stream",
     "text": [
      "[1] \"plotted clones 0 8\"\n",
      "[1]  0 11\n",
      "[1] \"clones 5\"\n",
      "[1] \"/data2/mito_lineage/output/annotation_clones/data/cd34norm/MTblacklist/DE//donor0/clones_0__11.DE.GeneActivity.csv\"\n",
      "                p_val avg_log2FC pct.1 pct.2 p_val_adj\n",
      "LRRIQ1   1.499508e-05 -0.1834066 0.346 0.458 0.3000516\n",
      "COL12A1  1.036664e-04 -0.1109512 0.161 0.261 1.0000000\n",
      "ATP6AP1L 1.221853e-04 -0.1350751 0.271 0.387 1.0000000\n",
      "SCNN1A   1.598165e-04  0.1122101 0.228 0.195 1.0000000\n",
      "TIAM1    1.728227e-04  0.1567589 0.632 0.574 1.0000000\n",
      "RARB     2.158289e-04 -0.1435093 0.542 0.661 1.0000000\n",
      "[1] \"saved clones 0 11\"\n"
     ]
    },
    {
     "name": "stderr",
     "output_type": "stream",
     "text": [
      "Saving 6.67 x 6.67 in image\n",
      "\n"
     ]
    },
    {
     "name": "stdout",
     "output_type": "stream",
     "text": [
      "[1] \"plotted clones 0 11\"\n",
      "[1]  0 12\n",
      "[1] \"clones 6\"\n",
      "[1] \"/data2/mito_lineage/output/annotation_clones/data/cd34norm/MTblacklist/DE//donor0/clones_0__12.DE.GeneActivity.csv\"\n",
      "              p_val avg_log2FC pct.1 pct.2 p_val_adj\n",
      "ZNF48  6.824725e-05  0.1128648 0.161 0.130         1\n",
      "LDB2   8.551971e-05  0.1526134 0.486 0.402         1\n",
      "CBX7   1.823062e-04  0.1386451 0.256 0.229         1\n",
      "TBPL1  1.921779e-04 -0.1217929 0.156 0.253         1\n",
      "HEATR4 2.221834e-04 -0.1383823 0.222 0.317         1\n",
      "CFTR   2.774705e-04  0.1391699 0.502 0.437         1\n",
      "[1] \"saved clones 0 12\"\n"
     ]
    },
    {
     "name": "stderr",
     "output_type": "stream",
     "text": [
      "Saving 6.67 x 6.67 in image\n",
      "\n"
     ]
    },
    {
     "name": "stdout",
     "output_type": "stream",
     "text": [
      "[1] \"plotted clones 0 12\"\n",
      "[1]  0 52\n",
      "[1] \"clones 7\"\n",
      "[1] \"/data2/mito_lineage/output/annotation_clones/data/cd34norm/MTblacklist/DE//donor0/clones_0__52.DE.GeneActivity.csv\"\n",
      "                 p_val avg_log2FC pct.1 pct.2   p_val_adj\n",
      "PXN       3.152040e-07  0.2126667 0.263 0.112 0.006307233\n",
      "PITPNM2   1.538051e-06  0.2258566 0.393 0.214 0.030776395\n",
      "RXRA      4.031684e-06  0.2186049 0.389 0.210 0.080673988\n",
      "DEPDC5    9.975638e-05  0.1466616 0.238 0.109 1.000000000\n",
      "C20orf194 1.152091e-04  0.1902625 0.308 0.178 1.000000000\n",
      "CLP1      1.284691e-04 -0.2087629 0.142 0.192 1.000000000\n",
      "[1] \"saved clones 0 52\"\n"
     ]
    },
    {
     "name": "stderr",
     "output_type": "stream",
     "text": [
      "Saving 6.67 x 6.67 in image\n",
      "\n"
     ]
    },
    {
     "name": "stdout",
     "output_type": "stream",
     "text": [
      "[1] \"plotted clones 0 52\"\n",
      "[1]  0 53\n",
      "[1] \"clones 8\"\n"
     ]
    },
    {
     "name": "stderr",
     "output_type": "stream",
     "text": [
      "Warning message:\n",
      "“glm.fit: fitted probabilities numerically 0 or 1 occurred”\n"
     ]
    },
    {
     "name": "stdout",
     "output_type": "stream",
     "text": [
      "[1] \"/data2/mito_lineage/output/annotation_clones/data/cd34norm/MTblacklist/DE//donor0/clones_0__53.DE.GeneActivity.csv\"\n",
      "               p_val avg_log2FC pct.1 pct.2 p_val_adj\n",
      "ZNF789  2.060655e-05 -0.2410436 0.098 0.162  0.412337\n",
      "MYSM1   1.186230e-04  0.1468949 0.134 0.018  1.000000\n",
      "ZNF112  1.251874e-04  0.1982130 0.205 0.045  1.000000\n",
      "SNRPG   2.305705e-04  0.1004095 0.081 0.000  1.000000\n",
      "ZCCHC14 2.717920e-04 -0.2517106 0.241 0.324  1.000000\n",
      "C2ORF15 3.274829e-04 -0.1301517 0.027 0.072  1.000000\n",
      "[1] \"saved clones 0 53\"\n"
     ]
    },
    {
     "name": "stderr",
     "output_type": "stream",
     "text": [
      "Saving 6.67 x 6.67 in image\n",
      "\n"
     ]
    },
    {
     "name": "stdout",
     "output_type": "stream",
     "text": [
      "[1] \"plotted clones 0 53\"\n",
      "[1] 1 5\n",
      "[1] \"clones 9\"\n",
      "[1] \"/data2/mito_lineage/output/annotation_clones/data/cd34norm/MTblacklist/DE//donor0/clones_1__5.DE.GeneActivity.csv\"\n",
      "               p_val avg_log2FC pct.1 pct.2 p_val_adj\n",
      "NUP37   0.0001021064  0.1146280 0.187 0.163         1\n",
      "MOV10L1 0.0002205431  0.1187948 0.338 0.330         1\n",
      "SUSD1   0.0005035593  0.1301242 0.350 0.334         1\n",
      "RHOBTB1 0.0006762763  0.1465882 0.342 0.360         1\n",
      "TLL2    0.0023056859 -0.1006248 0.324 0.431         1\n",
      "ROR2    0.0025320929  0.1118076 0.496 0.513         1\n",
      "[1] \"saved clones 1 5\"\n"
     ]
    },
    {
     "name": "stderr",
     "output_type": "stream",
     "text": [
      "Saving 6.67 x 6.67 in image\n",
      "\n"
     ]
    },
    {
     "name": "stdout",
     "output_type": "stream",
     "text": [
      "[1] \"plotted clones 1 5\"\n",
      "[1] 1 6\n",
      "[1] \"clones 10\"\n",
      "[1] \"/data2/mito_lineage/output/annotation_clones/data/cd34norm/MTblacklist/DE//donor0/clones_1__6.DE.GeneActivity.csv\"\n",
      "               p_val avg_log2FC pct.1 pct.2 p_val_adj\n",
      "RBFOX2  0.0002222062  0.1397646 0.629 0.633         1\n",
      "PCDHA9  0.0003093209 -0.1213134 0.456 0.606         1\n",
      "PRR16   0.0003131123 -0.1006347 0.225 0.342         1\n",
      "FAM153C 0.0004140988  0.1069114 0.270 0.263         1\n",
      "CHD7    0.0004479450 -0.1257373 0.531 0.655         1\n",
      "CAV2    0.0004607071 -0.1114811 0.489 0.619         1\n",
      "[1] \"saved clones 1 6\"\n"
     ]
    },
    {
     "name": "stderr",
     "output_type": "stream",
     "text": [
      "Saving 6.67 x 6.67 in image\n",
      "\n"
     ]
    },
    {
     "name": "stdout",
     "output_type": "stream",
     "text": [
      "[1] \"plotted clones 1 6\"\n",
      "[1] 1 8\n",
      "[1] \"clones 11\"\n",
      "[1] \"/data2/mito_lineage/output/annotation_clones/data/cd34norm/MTblacklist/DE//donor0/clones_1__8.DE.GeneActivity.csv\"\n",
      "                  p_val avg_log2FC pct.1 pct.2 p_val_adj\n",
      "FNDC3B     2.292981e-05  0.1583996 0.809 0.732 0.4588256\n",
      "ASB3       1.641107e-04  0.1358419 0.442 0.339 1.0000000\n",
      "C11orf80   3.492500e-04 -0.1207723 0.218 0.291 1.0000000\n",
      "PRR16      3.716091e-04 -0.1252722 0.225 0.285 1.0000000\n",
      "ACOXL      3.872326e-04  0.1321130 0.489 0.397 1.0000000\n",
      "GPR75-ASB3 4.247750e-04  0.1330075 0.616 0.532 1.0000000\n",
      "[1] \"saved clones 1 8\"\n"
     ]
    },
    {
     "name": "stderr",
     "output_type": "stream",
     "text": [
      "Saving 6.67 x 6.67 in image\n",
      "\n"
     ]
    },
    {
     "name": "stdout",
     "output_type": "stream",
     "text": [
      "[1] \"plotted clones 1 8\"\n",
      "[1]  1 11\n",
      "[1] \"clones 12\"\n",
      "[1] \"/data2/mito_lineage/output/annotation_clones/data/cd34norm/MTblacklist/DE//donor0/clones_1__11.DE.GeneActivity.csv\"\n",
      "                p_val avg_log2FC pct.1 pct.2  p_val_adj\n",
      "ATP6AP1L 2.752435e-06 -0.1704004 0.234 0.387 0.05507622\n",
      "GTF3C1   2.709708e-05  0.1159018 0.232 0.183 0.54221251\n",
      "EFCAB6   9.820346e-05  0.1550875 0.515 0.485 1.00000000\n",
      "TTC6     1.231695e-04 -0.1656763 0.392 0.535 1.00000000\n",
      "TRIM66   1.477728e-04 -0.1209061 0.227 0.382 1.00000000\n",
      "RAB8B    1.995964e-04  0.1349274 0.391 0.357 1.00000000\n",
      "[1] \"saved clones 1 11\"\n"
     ]
    },
    {
     "name": "stderr",
     "output_type": "stream",
     "text": [
      "Saving 6.67 x 6.67 in image\n",
      "\n"
     ]
    },
    {
     "name": "stdout",
     "output_type": "stream",
     "text": [
      "[1] \"plotted clones 1 11\"\n",
      "[1]  1 12\n",
      "[1] \"clones 13\"\n",
      "[1] \"/data2/mito_lineage/output/annotation_clones/data/cd34norm/MTblacklist/DE//donor0/clones_1__12.DE.GeneActivity.csv\"\n",
      "             p_val avg_log2FC pct.1 pct.2 p_val_adj\n",
      "TOX   0.0001680594  0.1707532 0.369 0.326         1\n",
      "CBX7  0.0002708454  0.1178509 0.241 0.229         1\n",
      "RELA  0.0004829227  0.1270970 0.328 0.279         1\n",
      "CFTR  0.0005001089  0.1637228 0.468 0.437         1\n",
      "RNPEP 0.0005746632 -0.1026840 0.103 0.199         1\n",
      "SDHC  0.0006367888  0.1011148 0.189 0.168         1\n",
      "[1] \"saved clones 1 12\"\n"
     ]
    },
    {
     "name": "stderr",
     "output_type": "stream",
     "text": [
      "Saving 6.67 x 6.67 in image\n",
      "\n"
     ]
    },
    {
     "name": "stdout",
     "output_type": "stream",
     "text": [
      "[1] \"plotted clones 1 12\"\n",
      "[1]  1 52\n",
      "[1] \"clones 14\"\n",
      "[1] \"/data2/mito_lineage/output/annotation_clones/data/cd34norm/MTblacklist/DE//donor0/clones_1__52.DE.GeneActivity.csv\"\n",
      "               p_val avg_log2FC pct.1 pct.2  p_val_adj\n",
      "PXN     7.340281e-07  0.2067158 0.243 0.112 0.01468790\n",
      "RXRA    1.555370e-06  0.2291310 0.368 0.210 0.03112295\n",
      "DEPDC5  1.435183e-05  0.1743003 0.226 0.109 0.28718022\n",
      "PITPNM2 1.874914e-05  0.2011194 0.348 0.214 0.37517023\n",
      "TMEM163 4.326295e-05 -0.2335326 0.315 0.406 0.86569168\n",
      "VMP1    4.678365e-05  0.2292535 0.430 0.304 0.93614084\n",
      "[1] \"saved clones 1 52\"\n"
     ]
    },
    {
     "name": "stderr",
     "output_type": "stream",
     "text": [
      "Saving 6.67 x 6.67 in image\n",
      "\n"
     ]
    },
    {
     "name": "stdout",
     "output_type": "stream",
     "text": [
      "[1] \"plotted clones 1 52\"\n",
      "[1]  1 53\n",
      "[1] \"clones 15\"\n",
      "[1] \"/data2/mito_lineage/output/annotation_clones/data/cd34norm/MTblacklist/DE//donor0/clones_1__53.DE.GeneActivity.csv\"\n",
      "                p_val avg_log2FC pct.1 pct.2 p_val_adj\n",
      "TM4SF1   5.197915e-05 -0.1244519 0.034 0.108         1\n",
      "MYSM1    1.148101e-04  0.1568130 0.123 0.018         1\n",
      "ARHGAP23 1.191386e-04 -0.2432521 0.194 0.288         1\n",
      "ZCCHC14  1.236876e-04 -0.2651353 0.211 0.324         1\n",
      "ZNF112   1.420304e-04  0.2024591 0.184 0.045         1\n",
      "GPNMB    1.475387e-04 -0.2545663 0.162 0.261         1\n",
      "[1] \"saved clones 1 53\"\n"
     ]
    },
    {
     "name": "stderr",
     "output_type": "stream",
     "text": [
      "Saving 6.67 x 6.67 in image\n",
      "\n"
     ]
    },
    {
     "name": "stdout",
     "output_type": "stream",
     "text": [
      "[1] \"plotted clones 1 53\"\n",
      "[1] 5 6\n",
      "[1] \"clones 16\"\n",
      "[1] \"/data2/mito_lineage/output/annotation_clones/data/cd34norm/MTblacklist/DE//donor0/clones_5__6.DE.GeneActivity.csv\"\n",
      "              p_val avg_log2FC pct.1 pct.2  p_val_adj\n",
      "SUSD1  1.057687e-06 -0.1839571 0.334 0.450 0.02116431\n",
      "CDC37  1.893113e-05  0.1069805 0.136 0.084 0.37881197\n",
      "RPTOR  3.353289e-05  0.1773620 0.715 0.640 0.67099317\n",
      "GOLGA4 9.937548e-05 -0.1369269 0.310 0.403 1.00000000\n",
      "MAN1C1 2.386905e-04  0.1402375 0.483 0.409 1.00000000\n",
      "CAV2   2.406272e-04 -0.1380743 0.535 0.619 1.00000000\n",
      "[1] \"saved clones 5 6\"\n"
     ]
    },
    {
     "name": "stderr",
     "output_type": "stream",
     "text": [
      "Saving 6.67 x 6.67 in image\n",
      "\n"
     ]
    },
    {
     "name": "stdout",
     "output_type": "stream",
     "text": [
      "[1] \"plotted clones 5 6\"\n",
      "[1] 5 8\n",
      "[1] \"clones 17\"\n",
      "[1] \"/data2/mito_lineage/output/annotation_clones/data/cd34norm/MTblacklist/DE//donor0/clones_5__8.DE.GeneActivity.csv\"\n",
      "                p_val avg_log2FC pct.1 pct.2 p_val_adj\n",
      "C11orf80 0.0001237142 -0.1311701 0.255 0.291         1\n",
      "NUP37    0.0004216231 -0.1201342 0.163 0.193         1\n",
      "UQCC1    0.0004436132  0.1307924 0.377 0.248         1\n",
      "FAM117B  0.0007255708 -0.1233029 0.279 0.321         1\n",
      "CD276    0.0008099379  0.1088086 0.238 0.147         1\n",
      "SUSD1    0.0008407137 -0.1527800 0.334 0.371         1\n",
      "[1] \"saved clones 5 8\"\n"
     ]
    },
    {
     "name": "stderr",
     "output_type": "stream",
     "text": [
      "Saving 6.67 x 6.67 in image\n",
      "\n"
     ]
    },
    {
     "name": "stdout",
     "output_type": "stream",
     "text": [
      "[1] \"plotted clones 5 8\"\n",
      "[1]  5 11\n",
      "[1] \"clones 18\"\n",
      "[1] \"/data2/mito_lineage/output/annotation_clones/data/cd34norm/MTblacklist/DE//donor0/clones_5__11.DE.GeneActivity.csv\"\n",
      "                p_val avg_log2FC pct.1 pct.2 p_val_adj\n",
      "ATP6AP1L 4.881046e-05 -0.1697977 0.290 0.387 0.9766974\n",
      "TIAM1    5.111177e-05  0.2017604 0.661 0.574 1.0000000\n",
      "CNTLN    1.818371e-04 -0.1782968 0.480 0.565 1.0000000\n",
      "IPO5     2.457635e-04 -0.1155861 0.150 0.231 1.0000000\n",
      "PLXNB1   3.435951e-04  0.1142017 0.198 0.128 1.0000000\n",
      "SUSD1    3.626084e-04 -0.1333801 0.334 0.432 1.0000000\n",
      "[1] \"saved clones 5 11\"\n"
     ]
    },
    {
     "name": "stderr",
     "output_type": "stream",
     "text": [
      "Saving 6.67 x 6.67 in image\n",
      "\n"
     ]
    },
    {
     "name": "stdout",
     "output_type": "stream",
     "text": [
      "[1] \"plotted clones 5 11\"\n",
      "[1]  5 12\n",
      "[1] \"clones 19\"\n",
      "[1] \"/data2/mito_lineage/output/annotation_clones/data/cd34norm/MTblacklist/DE//donor0/clones_5__12.DE.GeneActivity.csv\"\n",
      "                 p_val avg_log2FC pct.1 pct.2 p_val_adj\n",
      "CACYBP    3.047090e-05 -0.1080159 0.051 0.118 0.6097226\n",
      "LINC01119 6.224501e-05 -0.1453148 0.197 0.281 1.0000000\n",
      "RABGEF1   1.520716e-04 -0.1668377 0.263 0.338 1.0000000\n",
      "ELAVL3    4.224768e-04  0.1071081 0.186 0.123 1.0000000\n",
      "A1CF      7.320967e-04  0.1098540 0.251 0.175 1.0000000\n",
      "SH3D19    9.117379e-04  0.1102044 0.425 0.329 1.0000000\n",
      "[1] \"saved clones 5 12\"\n"
     ]
    },
    {
     "name": "stderr",
     "output_type": "stream",
     "text": [
      "Saving 6.67 x 6.67 in image\n",
      "\n"
     ]
    },
    {
     "name": "stdout",
     "output_type": "stream",
     "text": [
      "[1] \"plotted clones 5 12\"\n",
      "[1]  5 52\n",
      "[1] \"clones 20\"\n",
      "[1] \"/data2/mito_lineage/output/annotation_clones/data/cd34norm/MTblacklist/DE//donor0/clones_5__52.DE.GeneActivity.csv\"\n",
      "               p_val avg_log2FC pct.1 pct.2 p_val_adj\n",
      "PITPNM2 8.631433e-07  0.2628942 0.435 0.214 0.0172715\n",
      "DEPDC5  1.830019e-05  0.2039874 0.252 0.109 0.3661868\n",
      "RXRA    5.021909e-05  0.2130642 0.419 0.210 1.0000000\n",
      "CA5A    8.595586e-05  0.1638800 0.299 0.130 1.0000000\n",
      "FAM65C  1.788058e-04  0.1916425 0.496 0.290 1.0000000\n",
      "ZNF606  1.878062e-04  0.1240685 0.193 0.054 1.0000000\n",
      "[1] \"saved clones 5 52\"\n"
     ]
    },
    {
     "name": "stderr",
     "output_type": "stream",
     "text": [
      "Saving 6.67 x 6.67 in image\n",
      "\n"
     ]
    },
    {
     "name": "stdout",
     "output_type": "stream",
     "text": [
      "[1] \"plotted clones 5 52\"\n",
      "[1]  5 53\n",
      "[1] \"clones 21\"\n"
     ]
    },
    {
     "name": "stderr",
     "output_type": "stream",
     "text": [
      "Warning message:\n",
      "“glm.fit: fitted probabilities numerically 0 or 1 occurred”\n",
      "Warning message:\n",
      "“glm.fit: fitted probabilities numerically 0 or 1 occurred”\n",
      "Warning message:\n",
      "“glm.fit: fitted probabilities numerically 0 or 1 occurred”\n"
     ]
    },
    {
     "name": "stdout",
     "output_type": "stream",
     "text": [
      "[1] \"/data2/mito_lineage/output/annotation_clones/data/cd34norm/MTblacklist/DE//donor0/clones_5__53.DE.GeneActivity.csv\"\n",
      "               p_val avg_log2FC pct.1 pct.2 p_val_adj\n",
      "PPP4R1L 4.464122e-05 -0.1730294 0.096 0.171 0.8932709\n",
      "ZNF654  9.619235e-05 -0.1279859 0.011 0.063 1.0000000\n",
      "UROC1   1.042843e-04 -0.1159079 0.057 0.099 1.0000000\n",
      "RPGR    1.723293e-04  0.1148983 0.096 0.000 1.0000000\n",
      "FUBP3   1.784966e-04  0.1861316 0.190 0.027 1.0000000\n",
      "KCTD16  1.971676e-04 -0.3132251 0.574 0.604 1.0000000\n",
      "[1] \"saved clones 5 53\"\n"
     ]
    },
    {
     "name": "stderr",
     "output_type": "stream",
     "text": [
      "Saving 6.67 x 6.67 in image\n",
      "\n"
     ]
    },
    {
     "name": "stdout",
     "output_type": "stream",
     "text": [
      "[1] \"plotted clones 5 53\"\n",
      "[1] 6 8\n",
      "[1] \"clones 22\"\n",
      "[1] \"/data2/mito_lineage/output/annotation_clones/data/cd34norm/MTblacklist/DE//donor0/clones_6__8.DE.GeneActivity.csv\"\n",
      "                p_val avg_log2FC pct.1 pct.2 p_val_adj\n",
      "OTOGL    7.445019e-05  0.1308176 0.276 0.165         1\n",
      "CAV2     1.219707e-04  0.1417702 0.619 0.456         1\n",
      "KIAA1462 1.444646e-04  0.1294759 0.316 0.183         1\n",
      "GPR126   1.850755e-04  0.1610082 0.450 0.323         1\n",
      "LRRC36   3.033283e-04 -0.1085004 0.155 0.183         1\n",
      "CCDC175  3.182100e-04 -0.1015665 0.093 0.122         1\n",
      "[1] \"saved clones 6 8\"\n"
     ]
    },
    {
     "name": "stderr",
     "output_type": "stream",
     "text": [
      "Saving 6.67 x 6.67 in image\n",
      "\n"
     ]
    },
    {
     "name": "stdout",
     "output_type": "stream",
     "text": [
      "[1] \"plotted clones 6 8\"\n",
      "[1]  6 11\n",
      "[1] \"clones 23\"\n",
      "[1] \"/data2/mito_lineage/output/annotation_clones/data/cd34norm/MTblacklist/DE//donor0/clones_6__11.DE.GeneActivity.csv\"\n",
      "              p_val avg_log2FC pct.1 pct.2 p_val_adj\n",
      "RNF220 0.0005153870 -0.1396645 0.395 0.483         1\n",
      "CHD9   0.0005269594 -0.2009229 0.575 0.650         1\n",
      "SOBP   0.0011756815  0.1394138 0.488 0.389         1\n",
      "OSBPL6 0.0014182123  0.1461796 0.500 0.419         1\n",
      "RND3   0.0014679929  0.1123663 0.291 0.215         1\n",
      "ARMC4  0.0017563773  0.1306099 0.409 0.334         1\n",
      "[1] \"saved clones 6 11\"\n"
     ]
    },
    {
     "name": "stderr",
     "output_type": "stream",
     "text": [
      "Saving 6.67 x 6.67 in image\n",
      "\n"
     ]
    },
    {
     "name": "stdout",
     "output_type": "stream",
     "text": [
      "[1] \"plotted clones 6 11\"\n",
      "[1]  6 12\n",
      "[1] \"clones 24\"\n",
      "[1] \"/data2/mito_lineage/output/annotation_clones/data/cd34norm/MTblacklist/DE//donor0/clones_6__12.DE.GeneActivity.csv\"\n",
      "              p_val avg_log2FC pct.1 pct.2  p_val_adj\n",
      "RPTOR  5.422592e-07 -0.2618664 0.640 0.745 0.01085061\n",
      "ATP9B  1.072853e-05  0.2186752 0.826 0.728 0.21467793\n",
      "CLVS2  1.808455e-05  0.1218359 0.171 0.097 0.36187193\n",
      "MYRIP  6.161601e-05  0.1942638 0.587 0.487 1.00000000\n",
      "OSBPL6 6.898302e-05  0.1821479 0.500 0.392 1.00000000\n",
      "CFTR   9.820168e-05  0.1744289 0.547 0.437 1.00000000\n",
      "[1] \"saved clones 6 12\"\n"
     ]
    },
    {
     "name": "stderr",
     "output_type": "stream",
     "text": [
      "Saving 6.67 x 6.67 in image\n",
      "\n"
     ]
    },
    {
     "name": "stdout",
     "output_type": "stream",
     "text": [
      "[1] \"plotted clones 6 12\"\n",
      "[1]  6 52\n",
      "[1] \"clones 25\"\n",
      "[1] \"/data2/mito_lineage/output/annotation_clones/data/cd34norm/MTblacklist/DE//donor0/clones_6__52.DE.GeneActivity.csv\"\n",
      "               p_val avg_log2FC pct.1 pct.2 p_val_adj\n",
      "PXN     1.221359e-06  0.2267974 0.296 0.112 0.0244394\n",
      "PITPNM2 1.999552e-05  0.2235995 0.416 0.214 0.4001104\n",
      "CTU2    4.819425e-05  0.1056423 0.118 0.029 0.9643669\n",
      "RGS12   6.820571e-05  0.1879209 0.410 0.185 1.0000000\n",
      "RXRA    7.645778e-05  0.1978528 0.425 0.210 1.0000000\n",
      "KLRD1   7.872799e-05 -0.1812779 0.201 0.250 1.0000000\n",
      "[1] \"saved clones 6 52\"\n"
     ]
    },
    {
     "name": "stderr",
     "output_type": "stream",
     "text": [
      "Saving 6.67 x 6.67 in image\n",
      "\n"
     ]
    },
    {
     "name": "stdout",
     "output_type": "stream",
     "text": [
      "[1] \"plotted clones 6 52\"\n",
      "[1]  6 53\n",
      "[1] \"clones 26\"\n"
     ]
    },
    {
     "name": "stderr",
     "output_type": "stream",
     "text": [
      "Warning message:\n",
      "“glm.fit: fitted probabilities numerically 0 or 1 occurred”\n"
     ]
    },
    {
     "name": "stdout",
     "output_type": "stream",
     "text": [
      "[1] \"/data2/mito_lineage/output/annotation_clones/data/cd34norm/MTblacklist/DE//donor0/clones_6__53.DE.GeneActivity.csv\"\n",
      "               p_val avg_log2FC pct.1 pct.2 p_val_adj\n",
      "ZCCHC14 6.716641e-05 -0.2866645 0.242 0.324         1\n",
      "SNRPG   1.782542e-04  0.1048976 0.093 0.000         1\n",
      "PPP4R1L 2.028064e-04 -0.1707845 0.087 0.171         1\n",
      "ARPP21  2.432968e-04  0.2430287 0.263 0.081         1\n",
      "PARP3   2.661157e-04 -0.1564043 0.056 0.117         1\n",
      "C2orf43 2.997269e-04  0.2081622 0.258 0.063         1\n",
      "[1] \"saved clones 6 53\"\n"
     ]
    },
    {
     "name": "stderr",
     "output_type": "stream",
     "text": [
      "Saving 6.67 x 6.67 in image\n",
      "\n"
     ]
    },
    {
     "name": "stdout",
     "output_type": "stream",
     "text": [
      "[1] \"plotted clones 6 53\"\n",
      "[1]  8 11\n",
      "[1] \"clones 27\"\n",
      "[1] \"/data2/mito_lineage/output/annotation_clones/data/cd34norm/MTblacklist/DE//donor0/clones_8__11.DE.GeneActivity.csv\"\n",
      "                p_val avg_log2FC pct.1 pct.2 p_val_adj\n",
      "GUCY1A2  4.169241e-05 -0.1682536 0.215 0.378 0.8342651\n",
      "TTC6     1.755251e-04 -0.1931951 0.394 0.535 1.0000000\n",
      "PRKAA2   2.212038e-04 -0.1047755 0.071 0.146 1.0000000\n",
      "KIAA0825 2.483377e-04 -0.2077295 0.530 0.666 1.0000000\n",
      "CEP70    3.189541e-04 -0.1635871 0.230 0.352 1.0000000\n",
      "TTC17    3.505332e-04 -0.1754130 0.248 0.368 1.0000000\n",
      "[1] \"saved clones 8 11\"\n"
     ]
    },
    {
     "name": "stderr",
     "output_type": "stream",
     "text": [
      "Saving 6.67 x 6.67 in image\n",
      "\n"
     ]
    },
    {
     "name": "stdout",
     "output_type": "stream",
     "text": [
      "[1] \"plotted clones 8 11\"\n",
      "[1]  8 12\n",
      "[1] \"clones 28\"\n",
      "[1] \"/data2/mito_lineage/output/annotation_clones/data/cd34norm/MTblacklist/DE//donor0/clones_8__12.DE.GeneActivity.csv\"\n",
      "                p_val avg_log2FC pct.1 pct.2 p_val_adj\n",
      "CACYBP   5.689221e-05 -0.1156494 0.048 0.118         1\n",
      "CLVS2    1.275802e-04  0.1097217 0.151 0.097         1\n",
      "PSMG4    1.852481e-04  0.1392947 0.202 0.161         1\n",
      "CDK5RAP1 3.186815e-04  0.1254203 0.131 0.090         1\n",
      "HUWE1    1.062471e-03  0.1566967 0.319 0.300         1\n",
      "ELAVL3   1.170810e-03  0.1051858 0.151 0.123         1\n",
      "[1] \"saved clones 8 12\"\n"
     ]
    },
    {
     "name": "stderr",
     "output_type": "stream",
     "text": [
      "Saving 6.67 x 6.67 in image\n",
      "\n"
     ]
    },
    {
     "name": "stdout",
     "output_type": "stream",
     "text": [
      "[1] \"plotted clones 8 12\"\n",
      "[1]  8 52\n",
      "[1] \"clones 29\"\n",
      "[1] \"/data2/mito_lineage/output/annotation_clones/data/cd34norm/MTblacklist/DE//donor0/clones_8__52.DE.GeneActivity.csv\"\n",
      "               p_val avg_log2FC pct.1 pct.2   p_val_adj\n",
      "PITPNM2 3.849512e-07  0.2722559 0.387 0.214 0.007702874\n",
      "PXN     3.308199e-06  0.2255546 0.254 0.112 0.066197059\n",
      "KLRD1   6.297524e-06 -0.2129522 0.149 0.250 0.126013451\n",
      "KDM7A   1.190855e-05  0.2764240 0.383 0.239 0.238290148\n",
      "RXRA    2.241957e-05  0.2386622 0.360 0.210 0.448615523\n",
      "RGS12   1.251562e-04  0.2034571 0.342 0.185 1.000000000\n",
      "[1] \"saved clones 8 52\"\n"
     ]
    },
    {
     "name": "stderr",
     "output_type": "stream",
     "text": [
      "Saving 6.67 x 6.67 in image\n",
      "\n"
     ]
    },
    {
     "name": "stdout",
     "output_type": "stream",
     "text": [
      "[1] \"plotted clones 8 52\"\n",
      "[1]  8 53\n",
      "[1] \"clones 30\"\n",
      "[1] \"/data2/mito_lineage/output/annotation_clones/data/cd34norm/MTblacklist/DE//donor0/clones_8__53.DE.GeneActivity.csv\"\n",
      "                p_val avg_log2FC pct.1 pct.2 p_val_adj\n",
      "ARHGAP23 5.350946e-05 -0.2681928 0.183 0.288         1\n",
      "ZCCHC14  7.561648e-05 -0.2775107 0.202 0.324         1\n",
      "MIER1    1.590051e-04 -0.3209534 0.275 0.351         1\n",
      "KIAA1324 1.778775e-04 -0.1954843 0.145 0.243         1\n",
      "C11orf80 2.229498e-04  0.2560520 0.291 0.117         1\n",
      "GPATCH2L 2.530716e-04  0.2098107 0.209 0.054         1\n",
      "[1] \"saved clones 8 53\"\n"
     ]
    },
    {
     "name": "stderr",
     "output_type": "stream",
     "text": [
      "Saving 6.67 x 6.67 in image\n",
      "\n"
     ]
    },
    {
     "name": "stdout",
     "output_type": "stream",
     "text": [
      "[1] \"plotted clones 8 53\"\n",
      "[1] 11 12\n",
      "[1] \"clones 31\"\n",
      "[1] \"/data2/mito_lineage/output/annotation_clones/data/cd34norm/MTblacklist/DE//donor0/clones_11__12.DE.GeneActivity.csv\"\n",
      "               p_val avg_log2FC pct.1 pct.2 p_val_adj\n",
      "HPS1    1.488167e-05  0.1589666 0.327 0.222 0.2977822\n",
      "PSMG4   1.613961e-05  0.1486350 0.256 0.161 0.3229537\n",
      "CNTLN   4.075571e-05  0.2036154 0.565 0.454 0.8155218\n",
      "CFTR    8.835303e-05  0.1711541 0.568 0.437 1.0000000\n",
      "POLD3   1.153641e-04  0.1693572 0.378 0.277 1.0000000\n",
      "SLC44A5 1.355545e-04  0.2160628 0.719 0.617 1.0000000\n",
      "[1] \"saved clones 11 12\"\n"
     ]
    },
    {
     "name": "stderr",
     "output_type": "stream",
     "text": [
      "Saving 6.67 x 6.67 in image\n",
      "\n"
     ]
    },
    {
     "name": "stdout",
     "output_type": "stream",
     "text": [
      "[1] \"plotted clones 11 12\"\n",
      "[1] 11 52\n",
      "[1] \"clones 32\"\n",
      "[1] \"/data2/mito_lineage/output/annotation_clones/data/cd34norm/MTblacklist/DE//donor0/clones_11__52.DE.GeneActivity.csv\"\n",
      "               p_val avg_log2FC pct.1 pct.2 p_val_adj\n",
      "RXRA    2.698753e-05  0.2255209 0.423 0.210 0.5400205\n",
      "PXN     3.673476e-05  0.1874375 0.291 0.112 0.7350626\n",
      "PLA2G7  3.801841e-05 -0.1443472 0.041 0.112 0.7607485\n",
      "OSBPL10 1.437374e-04  0.2790293 0.641 0.424 1.0000000\n",
      "CTU2    1.719410e-04  0.1001464 0.126 0.029 1.0000000\n",
      "NIPAL2  2.073432e-04 -0.1966227 0.178 0.214 1.0000000\n",
      "[1] \"saved clones 11 52\"\n"
     ]
    },
    {
     "name": "stderr",
     "output_type": "stream",
     "text": [
      "Saving 6.67 x 6.67 in image\n",
      "\n"
     ]
    },
    {
     "name": "stdout",
     "output_type": "stream",
     "text": [
      "[1] \"plotted clones 11 52\"\n",
      "[1] 11 53\n",
      "[1] \"clones 33\"\n",
      "[1] \"/data2/mito_lineage/output/annotation_clones/data/cd34norm/MTblacklist/DE//donor0/clones_11__53.DE.GeneActivity.csv\"\n",
      "                p_val avg_log2FC pct.1 pct.2 p_val_adj\n",
      "ZCCHC14  2.104633e-05 -0.3215656 0.206 0.324  0.421137\n",
      "ZNF789   5.393751e-05 -0.2489624 0.103 0.162  1.000000\n",
      "C18orf64 8.732691e-05 -0.1835124 0.092 0.162  1.000000\n",
      "KIAA1551 1.673852e-04  0.1813772 0.167 0.027  1.000000\n",
      "DAO      4.695465e-04 -0.1250427 0.062 0.099  1.000000\n",
      "C2orf43  6.815987e-04  0.2199135 0.249 0.063  1.000000\n",
      "[1] \"saved clones 11 53\"\n"
     ]
    },
    {
     "name": "stderr",
     "output_type": "stream",
     "text": [
      "Saving 6.67 x 6.67 in image\n",
      "\n"
     ]
    },
    {
     "name": "stdout",
     "output_type": "stream",
     "text": [
      "[1] \"plotted clones 11 53\"\n",
      "[1] 12 52\n",
      "[1] \"clones 34\"\n",
      "[1] \"/data2/mito_lineage/output/annotation_clones/data/cd34norm/MTblacklist/DE//donor0/clones_12__52.DE.GeneActivity.csv\"\n",
      "               p_val avg_log2FC pct.1 pct.2  p_val_adj\n",
      "PXN     5.582138e-07  0.2522498 0.329 0.112 0.01116986\n",
      "RGS12   1.830928e-05  0.2499440 0.426 0.185 0.36636866\n",
      "RNF166  2.529567e-05  0.1176335 0.123 0.029 0.50616644\n",
      "CTU2    2.842137e-05  0.1198780 0.128 0.029 0.56871154\n",
      "HCN2    4.342996e-05  0.1227526 0.106 0.025 0.86903343\n",
      "RABGEF1 4.991579e-05  0.2194665 0.338 0.170 0.99881505\n",
      "[1] \"saved clones 12 52\"\n"
     ]
    },
    {
     "name": "stderr",
     "output_type": "stream",
     "text": [
      "Saving 6.67 x 6.67 in image\n",
      "\n"
     ]
    },
    {
     "name": "stdout",
     "output_type": "stream",
     "text": [
      "[1] \"plotted clones 12 52\"\n",
      "[1] 12 53\n",
      "[1] \"clones 35\"\n"
     ]
    },
    {
     "name": "stderr",
     "output_type": "stream",
     "text": [
      "Warning message:\n",
      "“glm.fit: fitted probabilities numerically 0 or 1 occurred”\n"
     ]
    },
    {
     "name": "stdout",
     "output_type": "stream",
     "text": [
      "[1] \"/data2/mito_lineage/output/annotation_clones/data/cd34norm/MTblacklist/DE//donor0/clones_12__53.DE.GeneActivity.csv\"\n",
      "                     p_val avg_log2FC pct.1 pct.2 p_val_adj\n",
      "ZCCHC14       4.633333e-05 -0.2988165 0.251 0.324   0.92713\n",
      "GPATCH2L      1.126943e-04  0.2346308 0.241 0.054   1.00000\n",
      "COL4A4        1.161180e-04 -0.3337300 0.220 0.306   1.00000\n",
      "SDSL          1.488579e-04  0.1289207 0.113 0.000   1.00000\n",
      "CTD-2260A17.2 1.682504e-04 -0.2678337 0.208 0.270   1.00000\n",
      "ASXL2         1.724958e-04  0.3351149 0.551 0.270   1.00000\n",
      "[1] \"saved clones 12 53\"\n"
     ]
    },
    {
     "name": "stderr",
     "output_type": "stream",
     "text": [
      "Saving 6.67 x 6.67 in image\n",
      "\n"
     ]
    },
    {
     "name": "stdout",
     "output_type": "stream",
     "text": [
      "[1] \"plotted clones 12 53\"\n",
      "[1] 52 53\n",
      "[1] \"clones 36\"\n"
     ]
    },
    {
     "name": "stderr",
     "output_type": "stream",
     "text": [
      "Warning message:\n",
      "“glm.fit: fitted probabilities numerically 0 or 1 occurred”\n",
      "Warning message:\n",
      "“glm.fit: fitted probabilities numerically 0 or 1 occurred”\n",
      "Warning message:\n",
      "“glm.fit: fitted probabilities numerically 0 or 1 occurred”\n",
      "Warning message:\n",
      "“glm.fit: fitted probabilities numerically 0 or 1 occurred”\n",
      "Warning message:\n",
      "“glm.fit: fitted probabilities numerically 0 or 1 occurred”\n"
     ]
    },
    {
     "name": "stdout",
     "output_type": "stream",
     "text": [
      "[1] \"/data2/mito_lineage/output/annotation_clones/data/cd34norm/MTblacklist/DE//donor0/clones_52__53.DE.GeneActivity.csv\"\n",
      "                p_val avg_log2FC pct.1 pct.2  p_val_adj\n",
      "ARHGAP23 2.664522e-06 -0.3338404 0.127 0.288 0.05331708\n",
      "ZCCHC14  2.064637e-05 -0.3306333 0.149 0.324 0.41313394\n",
      "ZNF654   2.388153e-05 -0.1368111 0.000 0.063 0.47786946\n",
      "APOL2    5.552017e-05 -0.1206407 0.007 0.072 1.00000000\n",
      "OIT3     9.592377e-05  0.1660075 0.109 0.009 1.00000000\n",
      "MYSM1    1.094606e-04  0.1628821 0.123 0.018 1.00000000\n",
      "[1] \"saved clones 52 53\"\n"
     ]
    },
    {
     "name": "stderr",
     "output_type": "stream",
     "text": [
      "Saving 6.67 x 6.67 in image\n",
      "\n"
     ]
    },
    {
     "name": "stdout",
     "output_type": "stream",
     "text": [
      "[1] \"plotted clones 52 53\"\n",
      "[1] \"donor\"\n",
      "[1] 1\n"
     ]
    },
    {
     "name": "stderr",
     "output_type": "stream",
     "text": [
      "\u001b[1m\u001b[1mRows: \u001b[1m\u001b[22m\u001b[34m\u001b[34m37\u001b[34m\u001b[39m \u001b[1m\u001b[1mColumns: \u001b[1m\u001b[22m\u001b[34m\u001b[34m8\u001b[34m\u001b[39m\n",
      "\n",
      "\u001b[36m──\u001b[39m \u001b[1m\u001b[1mColumn specification\u001b[1m\u001b[22m \u001b[36m──────────────────────────────────────────────────────────────────────────────────────────────────────────────────────────────────────────────────────────────────────────────────────────────────────────────────────\u001b[39m\n",
      "\u001b[1mDelimiter:\u001b[22m \",\"\n",
      "\u001b[32mdbl\u001b[39m (8): lineage, # Control Cells in Cluster, # Flt3l Cells in Cluster, Flt3...\n",
      "\n",
      "\n",
      "\u001b[36mℹ\u001b[39m Use \u001b[30m\u001b[47m\u001b[30m\u001b[47m`spec()`\u001b[47m\u001b[30m\u001b[49m\u001b[39m to retrieve the full column specification for this data.\n",
      "\u001b[36mℹ\u001b[39m Specify the column types or set \u001b[30m\u001b[47m\u001b[30m\u001b[47m`show_col_types = FALSE`\u001b[47m\u001b[30m\u001b[49m\u001b[39m to quiet this message.\n",
      "\n"
     ]
    },
    {
     "name": "stdout",
     "output_type": "stream",
     "text": [
      " [1] \"lineage\"                     \"X..Control.Cells.in.Cluster\"\n",
      " [3] \"X..Flt3l.Cells.in.Cluster\"   \"Flt3l.fold.enrichment.norm\" \n",
      " [5] \"hypergeom.p\"                 \"Fisher.p\"                   \n",
      " [7] \"Fisher..log10p\"              \"X.log10p\"                   \n",
      " [9] \"log2.enrichment\"             \"p.adj\"                      \n",
      "[11] \"donor\"                      \n"
     ]
    },
    {
     "name": "stderr",
     "output_type": "stream",
     "text": [
      "Warning message in dir.create(curr.outdir):\n",
      "“'/data2/mito_lineage/output/annotation_clones/data/cd34norm/MTblacklist/DE//donor1' already exists”\n",
      "Saving 6.67 x 6.67 in image\n",
      "\n"
     ]
    },
    {
     "name": "stdout",
     "output_type": "stream",
     "text": [
      "[1] \"clone stats\"\n",
      "[1] \"p<0.1\"\n",
      "[1] 18\n",
      "[1] \"p<0.05\"\n",
      "[1] 12\n",
      "[1] \"p<0.01\"\n",
      "[1] 10\n",
      "[1] \"fold>1.5\"\n",
      "[1] 6\n",
      "[1] \"fold>1\"\n",
      "[1] 13\n",
      "[1] \"fold>1.5 and p <0.05\"\n",
      "[1] 4\n",
      "[1] \"clones.filt\"\n",
      "   lineage X..Control.Cells.in.Cluster X..Flt3l.Cells.in.Cluster\n",
      "7        6                          31                       140\n",
      "8        7                          23                       134\n",
      "13      12                          19                       108\n",
      "17      16                          15                        97\n",
      "20      19                          85                        17\n",
      "21      20                          54                        41\n",
      "24      23                          46                        37\n",
      "32      31                          22                        16\n",
      "35      34                          12                         4\n",
      "   Flt3l.fold.enrichment.norm  hypergeom.p     Fisher.p Fisher..log10p\n",
      "7                  2.15863149 6.813871e-06 2.593218e-05       4.586161\n",
      "8                  2.78476870 7.137861e-08 3.256218e-07       6.487287\n",
      "13                 2.71695422 1.699565e-06 7.505504e-06       5.124620\n",
      "17                 3.09095471 8.089074e-07 4.691694e-06       5.328671\n",
      "20                 0.09559654 1.000000e+00 5.880229e-27      26.230606\n",
      "21                 0.36291278 9.999994e-01 6.642605e-07       6.177661\n",
      "24                 0.38446434 9.999902e-01 1.366664e-05       4.864338\n",
      "32                 0.34762377 9.990236e-01 1.350233e-03       2.869591\n",
      "35                 0.15932756 9.994337e-01 5.662851e-04       3.246965\n",
      "       X.log10p log2.enrichment        p.adj donor\n",
      "7  5.166606e+00        1.110117 1.370701e-04     1\n",
      "8  7.146432e+00        1.477558 6.024002e-06     1\n",
      "13 5.769662e+00        1.441990 5.554073e-05     1\n",
      "17 6.092101e+00        1.628053 4.339817e-05     1\n",
      "20 0.000000e+00       -3.386898 2.175685e-25     1\n",
      "21 2.400925e-07       -1.462305 8.192547e-06     1\n",
      "24 4.256306e-06       -1.379078 8.427764e-05     1\n",
      "32 4.242352e-04       -1.524401 5.550958e-03     1\n",
      "35 2.460041e-04       -2.649932 2.619069e-03     1\n"
     ]
    },
    {
     "name": "stderr",
     "output_type": "stream",
     "text": [
      "Warning message in (lineage %in% clones.filt$lineage) & (clones.filt$donor == d):\n",
      "“longer object length is not a multiple of shorter object length”\n"
     ]
    },
    {
     "name": "stdout",
     "output_type": "stream",
     "text": [
      "[1] 6 7\n",
      "[1] \"clones 1\"\n",
      "[1] \"/data2/mito_lineage/output/annotation_clones/data/cd34norm/MTblacklist/DE//donor1/clones_6__7.DE.GeneActivity.csv\"\n",
      "               p_val avg_log2FC pct.1 pct.2  p_val_adj\n",
      "RPTOR   2.472648e-06 -0.2188280 0.640 0.688 0.04947769\n",
      "HECTD4  7.748213e-05 -0.1474075 0.299 0.345 1.00000000\n",
      "PAPSS1  1.365189e-04  0.1481674 0.450 0.316 1.00000000\n",
      "DENND4C 3.585510e-04  0.1421020 0.431 0.342 1.00000000\n",
      "KLC4    4.462519e-04 -0.1015415 0.196 0.231 1.00000000\n",
      "PHF20L1 4.480894e-04  0.1038972 0.237 0.148 1.00000000\n",
      "[1] \"saved clones 6 7\"\n"
     ]
    },
    {
     "name": "stderr",
     "output_type": "stream",
     "text": [
      "Saving 6.67 x 6.67 in image\n",
      "\n"
     ]
    },
    {
     "name": "stdout",
     "output_type": "stream",
     "text": [
      "[1] \"plotted clones 6 7\"\n",
      "[1]  6 12\n",
      "[1] \"clones 2\"\n",
      "[1] \"/data2/mito_lineage/output/annotation_clones/data/cd34norm/MTblacklist/DE//donor1/clones_6__12.DE.GeneActivity.csv\"\n",
      "              p_val avg_log2FC pct.1 pct.2  p_val_adj\n",
      "RPTOR  5.422592e-07 -0.2618664 0.640 0.745 0.01085061\n",
      "ATP9B  1.072853e-05  0.2186752 0.826 0.728 0.21467793\n",
      "CLVS2  1.808455e-05  0.1218359 0.171 0.097 0.36187193\n",
      "MYRIP  6.161601e-05  0.1942638 0.587 0.487 1.00000000\n",
      "OSBPL6 6.898302e-05  0.1821479 0.500 0.392 1.00000000\n",
      "CFTR   9.820168e-05  0.1744289 0.547 0.437 1.00000000\n",
      "[1] \"saved clones 6 12\"\n"
     ]
    },
    {
     "name": "stderr",
     "output_type": "stream",
     "text": [
      "Saving 6.67 x 6.67 in image\n",
      "\n"
     ]
    },
    {
     "name": "stdout",
     "output_type": "stream",
     "text": [
      "[1] \"plotted clones 6 12\"\n",
      "[1]  6 16\n",
      "[1] \"clones 3\"\n",
      "[1] \"/data2/mito_lineage/output/annotation_clones/data/cd34norm/MTblacklist/DE//donor1/clones_6__16.DE.GeneActivity.csv\"\n",
      "               p_val avg_log2FC pct.1 pct.2 p_val_adj\n",
      "ZNF385B 0.0000721368  0.1846597 0.518 0.417         1\n",
      "RALGPS2 0.0001152294  0.1685417 0.422 0.320         1\n",
      "RPTOR   0.0001258012 -0.2149284 0.640 0.752         1\n",
      "COL4A4  0.0001297685  0.1409061 0.285 0.180         1\n",
      "SYT14   0.0001953869  0.1729575 0.426 0.312         1\n",
      "MAN1C1  0.0002138039 -0.1717686 0.409 0.534         1\n",
      "[1] \"saved clones 6 16\"\n"
     ]
    },
    {
     "name": "stderr",
     "output_type": "stream",
     "text": [
      "Saving 6.67 x 6.67 in image\n",
      "\n"
     ]
    },
    {
     "name": "stdout",
     "output_type": "stream",
     "text": [
      "[1] \"plotted clones 6 16\"\n",
      "[1]  6 19\n",
      "[1] \"clones 4\"\n",
      "[1] \"/data2/mito_lineage/output/annotation_clones/data/cd34norm/MTblacklist/DE//donor1/clones_6__19.DE.GeneActivity.csv\"\n",
      "              p_val avg_log2FC pct.1 pct.2 p_val_adj\n",
      "PIGP   4.158533e-05  0.1097683 0.100 0.010 0.8321224\n",
      "LDHB   8.898171e-05 -0.1647966 0.133 0.178 1.0000000\n",
      "TOP2A  1.669312e-04 -0.1008381 0.078 0.109 1.0000000\n",
      "EMID1  3.895021e-04 -0.1699952 0.199 0.228 1.0000000\n",
      "PCDHA8 3.926632e-04  0.2228348 0.609 0.351 1.0000000\n",
      "HMGCL  4.440951e-04  0.1063357 0.108 0.025 1.0000000\n",
      "[1] \"saved clones 6 19\"\n"
     ]
    },
    {
     "name": "stderr",
     "output_type": "stream",
     "text": [
      "Saving 6.67 x 6.67 in image\n",
      "\n"
     ]
    },
    {
     "name": "stdout",
     "output_type": "stream",
     "text": [
      "[1] \"plotted clones 6 19\"\n",
      "[1]  6 20\n",
      "[1] \"clones 5\"\n",
      "[1] \"/data2/mito_lineage/output/annotation_clones/data/cd34norm/MTblacklist/DE//donor1/clones_6__20.DE.GeneActivity.csv\"\n",
      "                  p_val avg_log2FC pct.1 pct.2 p_val_adj\n",
      "PRDM16     0.0001201695  0.2616133 0.469 0.247         1\n",
      "VCP        0.0001222215  0.1702437 0.184 0.055         1\n",
      "TUSC2      0.0001831044 -0.1051335 0.078 0.121         1\n",
      "UBN2       0.0003162486 -0.1504084 0.264 0.275         1\n",
      "SHC4       0.0003347918 -0.1835268 0.367 0.385         1\n",
      "AC005779.2 0.0004129128  0.1688108 0.214 0.082         1\n",
      "[1] \"saved clones 6 20\"\n"
     ]
    },
    {
     "name": "stderr",
     "output_type": "stream",
     "text": [
      "Saving 6.67 x 6.67 in image\n",
      "\n"
     ]
    },
    {
     "name": "stdout",
     "output_type": "stream",
     "text": [
      "[1] \"plotted clones 6 20\"\n",
      "[1]  6 23\n",
      "[1] \"clones 6\"\n"
     ]
    },
    {
     "name": "stderr",
     "output_type": "stream",
     "text": [
      "Warning message:\n",
      "“glm.fit: fitted probabilities numerically 0 or 1 occurred”\n",
      "Warning message:\n",
      "“glm.fit: fitted probabilities numerically 0 or 1 occurred”\n"
     ]
    },
    {
     "name": "stdout",
     "output_type": "stream",
     "text": [
      "[1] \"/data2/mito_lineage/output/annotation_clones/data/cd34norm/MTblacklist/DE//donor1/clones_6__23.DE.GeneActivity.csv\"\n",
      "                     p_val avg_log2FC pct.1 pct.2 p_val_adj\n",
      "CBWD2         2.234523e-05  0.1002684 0.084 0.000 0.4471280\n",
      "GADL1         4.343382e-05 -0.2476664 0.311 0.342 0.8691106\n",
      "C9orf84       6.144081e-05  0.2623700 0.353 0.144 1.0000000\n",
      "RP11-894J14.5 1.190673e-04 -0.2524953 0.429 0.479 1.0000000\n",
      "PARP16        4.170996e-04 -0.1762346 0.149 0.205 1.0000000\n",
      "RBFOX2        4.183330e-04 -0.2319396 0.633 0.671 1.0000000\n",
      "[1] \"saved clones 6 23\"\n"
     ]
    },
    {
     "name": "stderr",
     "output_type": "stream",
     "text": [
      "Saving 6.67 x 6.67 in image\n",
      "\n"
     ]
    },
    {
     "name": "stdout",
     "output_type": "stream",
     "text": [
      "[1] \"plotted clones 6 23\"\n",
      "[1]  6 31\n",
      "[1] \"clones 7\"\n"
     ]
    },
    {
     "name": "stderr",
     "output_type": "stream",
     "text": [
      "Warning message:\n",
      "“glm.fit: fitted probabilities numerically 0 or 1 occurred”\n",
      "Warning message:\n",
      "“glm.fit: fitted probabilities numerically 0 or 1 occurred”\n"
     ]
    },
    {
     "name": "stdout",
     "output_type": "stream",
     "text": [
      "[1] \"/data2/mito_lineage/output/annotation_clones/data/cd34norm/MTblacklist/DE//donor1/clones_6__31.DE.GeneActivity.csv\"\n",
      "               p_val avg_log2FC pct.1 pct.2 p_val_adj\n",
      "JAG1    2.403529e-05 -0.2163792 0.087 0.171 0.4809461\n",
      "CEP57   5.283033e-05  0.1044182 0.112 0.000 1.0000000\n",
      "FAM227A 7.545762e-05  0.2034810 0.208 0.048 1.0000000\n",
      "COMMD3  1.435668e-04  0.1078641 0.112 0.010 1.0000000\n",
      "DSC3    2.180065e-04  0.1178012 0.081 0.000 1.0000000\n",
      "RHOBTB1 2.918872e-04  0.2910863 0.398 0.162 1.0000000\n",
      "[1] \"saved clones 6 31\"\n"
     ]
    },
    {
     "name": "stderr",
     "output_type": "stream",
     "text": [
      "Saving 6.67 x 6.67 in image\n",
      "\n"
     ]
    },
    {
     "name": "stdout",
     "output_type": "stream",
     "text": [
      "[1] \"plotted clones 6 31\"\n",
      "[1]  6 34\n",
      "[1] \"clones 8\"\n"
     ]
    },
    {
     "name": "stderr",
     "output_type": "stream",
     "text": [
      "Warning message:\n",
      "“glm.fit: fitted probabilities numerically 0 or 1 occurred”\n",
      "Warning message:\n",
      "“glm.fit: fitted probabilities numerically 0 or 1 occurred”\n",
      "Warning message:\n",
      "“glm.fit: fitted probabilities numerically 0 or 1 occurred”\n",
      "Warning message:\n",
      "“glm.fit: fitted probabilities numerically 0 or 1 occurred”\n",
      "Warning message:\n",
      "“glm.fit: fitted probabilities numerically 0 or 1 occurred”\n"
     ]
    },
    {
     "name": "stdout",
     "output_type": "stream",
     "text": [
      "[1] \"/data2/mito_lineage/output/annotation_clones/data/cd34norm/MTblacklist/DE//donor1/clones_6__34.DE.GeneActivity.csv\"\n",
      "                p_val avg_log2FC pct.1 pct.2 p_val_adj\n",
      "GCNT1    4.972572e-05  0.1905552 0.159 0.014 0.9950116\n",
      "TMEM184C 6.423814e-05 -0.2006462 0.072 0.131 1.0000000\n",
      "SLC18A2  8.420442e-05 -0.2162472 0.145 0.138 1.0000000\n",
      "ZFP3     1.568592e-04  0.1077080 0.102 0.000 1.0000000\n",
      "TRIM23   1.751903e-04 -0.1840258 0.096 0.103 1.0000000\n",
      "ZNF552   2.848006e-04  0.1114340 0.088 0.000 1.0000000\n",
      "[1] \"saved clones 6 34\"\n"
     ]
    },
    {
     "name": "stderr",
     "output_type": "stream",
     "text": [
      "Saving 6.67 x 6.67 in image\n",
      "\n"
     ]
    },
    {
     "name": "stdout",
     "output_type": "stream",
     "text": [
      "[1] \"plotted clones 6 34\"\n",
      "[1]  7 12\n",
      "[1] \"clones 9\"\n",
      "[1] \"/data2/mito_lineage/output/annotation_clones/data/cd34norm/MTblacklist/DE//donor1/clones_7__12.DE.GeneActivity.csv\"\n",
      "                     p_val avg_log2FC pct.1 pct.2 p_val_adj\n",
      "CTD-2260A17.2 4.491383e-05  0.1715431 0.275 0.208 0.8987257\n",
      "KIAA1468      2.420920e-04  0.1748296 0.453 0.383 1.0000000\n",
      "ZNF569        3.389927e-04 -0.1399617 0.159 0.248 1.0000000\n",
      "ORAI1         3.420819e-04  0.1097100 0.162 0.128 1.0000000\n",
      "NFATC3        4.142572e-04 -0.1584477 0.318 0.444 1.0000000\n",
      "RELA          4.982877e-04  0.1440993 0.350 0.279 1.0000000\n",
      "[1] \"saved clones 7 12\"\n"
     ]
    },
    {
     "name": "stderr",
     "output_type": "stream",
     "text": [
      "Saving 6.67 x 6.67 in image\n",
      "\n"
     ]
    },
    {
     "name": "stdout",
     "output_type": "stream",
     "text": [
      "[1] \"plotted clones 7 12\"\n",
      "[1]  7 16\n",
      "[1] \"clones 10\"\n",
      "[1] \"/data2/mito_lineage/output/annotation_clones/data/cd34norm/MTblacklist/DE//donor1/clones_7__16.DE.GeneActivity.csv\"\n",
      "                p_val avg_log2FC pct.1 pct.2 p_val_adj\n",
      "ZNF157   3.897758e-05 -0.1576515 0.089 0.192 0.7799413\n",
      "PDCL2    4.165836e-05 -0.1899854 0.186 0.335 0.8335837\n",
      "TLN1     5.580869e-05 -0.1679263 0.199 0.361 1.0000000\n",
      "KIAA1683 3.024485e-04 -0.1018238 0.076 0.184 1.0000000\n",
      "CNNM1    3.717257e-04 -0.1268772 0.116 0.214 1.0000000\n",
      "SYT14    5.513257e-04  0.1660456 0.385 0.312 1.0000000\n",
      "[1] \"saved clones 7 16\"\n"
     ]
    },
    {
     "name": "stderr",
     "output_type": "stream",
     "text": [
      "Saving 6.67 x 6.67 in image\n",
      "\n"
     ]
    },
    {
     "name": "stdout",
     "output_type": "stream",
     "text": [
      "[1] \"plotted clones 7 16\"\n",
      "[1]  7 19\n",
      "[1] \"clones 11\"\n",
      "[1] \"/data2/mito_lineage/output/annotation_clones/data/cd34norm/MTblacklist/DE//donor1/clones_7__19.DE.GeneActivity.csv\"\n",
      "               p_val avg_log2FC pct.1 pct.2 p_val_adj\n",
      "TCHP    0.0001843186  0.2382096 0.310 0.163         1\n",
      "DGAT2   0.0002619098  0.1294460 0.154 0.045         1\n",
      "PIP5K1C 0.0002715333  0.1432104 0.176 0.059         1\n",
      "LDHB    0.0003035350 -0.1609997 0.113 0.178         1\n",
      "SH2D4B  0.0003967588 -0.1632674 0.081 0.129         1\n",
      "SMOX    0.0006696790  0.2231754 0.267 0.139         1\n",
      "[1] \"saved clones 7 19\"\n"
     ]
    },
    {
     "name": "stderr",
     "output_type": "stream",
     "text": [
      "Saving 6.67 x 6.67 in image\n",
      "\n"
     ]
    },
    {
     "name": "stdout",
     "output_type": "stream",
     "text": [
      "[1] \"plotted clones 7 19\"\n",
      "[1]  7 20\n",
      "[1] \"clones 12\"\n",
      "[1] \"/data2/mito_lineage/output/annotation_clones/data/cd34norm/MTblacklist/DE//donor1/clones_7__20.DE.GeneActivity.csv\"\n",
      "              p_val avg_log2FC pct.1 pct.2  p_val_adj\n",
      "PRDM16 4.327413e-06  0.3325062 0.461 0.247 0.08659154\n",
      "SAMD13 5.013975e-05  0.2233830 0.289 0.121 1.00000000\n",
      "LMF1   7.078755e-05  0.1604620 0.157 0.044 1.00000000\n",
      "SHISA3 8.754032e-05 -0.1229657 0.019 0.066 1.00000000\n",
      "GIT2   8.948005e-05  0.1969528 0.229 0.066 1.00000000\n",
      "PTPN9  1.338375e-04  0.2104760 0.305 0.126 1.00000000\n",
      "[1] \"saved clones 7 20\"\n"
     ]
    },
    {
     "name": "stderr",
     "output_type": "stream",
     "text": [
      "Saving 6.67 x 6.67 in image\n",
      "\n"
     ]
    },
    {
     "name": "stdout",
     "output_type": "stream",
     "text": [
      "[1] \"plotted clones 7 20\"\n",
      "[1]  7 23\n",
      "[1] \"clones 13\"\n"
     ]
    },
    {
     "name": "stderr",
     "output_type": "stream",
     "text": [
      "Warning message:\n",
      "“glm.fit: fitted probabilities numerically 0 or 1 occurred”\n"
     ]
    },
    {
     "name": "stdout",
     "output_type": "stream",
     "text": [
      "[1] \"/data2/mito_lineage/output/annotation_clones/data/cd34norm/MTblacklist/DE//donor1/clones_7__23.DE.GeneActivity.csv\"\n",
      "              p_val avg_log2FC pct.1 pct.2 p_val_adj\n",
      "CBWD2  1.497206e-05  0.1211923 0.084 0.000 0.2995909\n",
      "ZNF850 1.023621e-04  0.1947729 0.203 0.062 1.0000000\n",
      "ADAL   1.873029e-04 -0.1296725 0.025 0.096 1.0000000\n",
      "RBP2   3.324858e-04 -0.1191713 0.035 0.082 1.0000000\n",
      "OGDH   3.832357e-04 -0.2220178 0.196 0.295 1.0000000\n",
      "CYP4B1 5.215745e-04  0.2222666 0.296 0.144 1.0000000\n",
      "[1] \"saved clones 7 23\"\n"
     ]
    },
    {
     "name": "stderr",
     "output_type": "stream",
     "text": [
      "Saving 6.67 x 6.67 in image\n",
      "\n"
     ]
    },
    {
     "name": "stdout",
     "output_type": "stream",
     "text": [
      "[1] \"plotted clones 7 23\"\n",
      "[1]  7 31\n",
      "[1] \"clones 14\"\n"
     ]
    },
    {
     "name": "stderr",
     "output_type": "stream",
     "text": [
      "Warning message:\n",
      "“glm.fit: fitted probabilities numerically 0 or 1 occurred”\n"
     ]
    },
    {
     "name": "stdout",
     "output_type": "stream",
     "text": [
      "[1] \"/data2/mito_lineage/output/annotation_clones/data/cd34norm/MTblacklist/DE//donor1/clones_7__31.DE.GeneActivity.csv\"\n",
      "               p_val avg_log2FC pct.1 pct.2 p_val_adj\n",
      "CEP57   3.735327e-05  0.1241375 0.097 0.000  0.747439\n",
      "RHOBTB1 5.369441e-05  0.3351911 0.377 0.162  1.000000\n",
      "DUOX1   6.774500e-05  0.1800218 0.169 0.029  1.000000\n",
      "COMMD3  8.555729e-05  0.1244640 0.100 0.010  1.000000\n",
      "FAM227A 9.555895e-05  0.1812575 0.189 0.048  1.000000\n",
      "ZNF451  2.297947e-04 -0.3318612 0.237 0.305  1.000000\n",
      "[1] \"saved clones 7 31\"\n"
     ]
    },
    {
     "name": "stderr",
     "output_type": "stream",
     "text": [
      "Saving 6.67 x 6.67 in image\n",
      "\n"
     ]
    },
    {
     "name": "stdout",
     "output_type": "stream",
     "text": [
      "[1] \"plotted clones 7 31\"\n",
      "[1]  7 34\n",
      "[1] \"clones 15\"\n"
     ]
    },
    {
     "name": "stderr",
     "output_type": "stream",
     "text": [
      "Warning message:\n",
      "“glm.fit: fitted probabilities numerically 0 or 1 occurred”\n",
      "Warning message:\n",
      "“glm.fit: fitted probabilities numerically 0 or 1 occurred”\n",
      "Warning message:\n",
      "“glm.fit: fitted probabilities numerically 0 or 1 occurred”\n",
      "Warning message:\n",
      "“glm.fit: fitted probabilities numerically 0 or 1 occurred”\n"
     ]
    },
    {
     "name": "stdout",
     "output_type": "stream",
     "text": [
      "[1] \"/data2/mito_lineage/output/annotation_clones/data/cd34norm/MTblacklist/DE//donor1/clones_7__34.DE.GeneActivity.csv\"\n",
      "               p_val avg_log2FC pct.1 pct.2 p_val_adj\n",
      "CPE     6.062733e-05 -0.3274065 0.184 0.228         1\n",
      "HTRA1   8.493594e-05  0.2184018 0.181 0.021         1\n",
      "TMF1    9.863721e-05 -0.2883470 0.253 0.241         1\n",
      "CCDC101 1.011220e-04  0.1291095 0.107 0.000         1\n",
      "KCNK2   1.172819e-04 -0.3606401 0.234 0.234         1\n",
      "SLCO4C1 1.394530e-04 -0.1432523 0.067 0.103         1\n",
      "[1] \"saved clones 7 34\"\n"
     ]
    },
    {
     "name": "stderr",
     "output_type": "stream",
     "text": [
      "Saving 6.67 x 6.67 in image\n",
      "\n"
     ]
    },
    {
     "name": "stdout",
     "output_type": "stream",
     "text": [
      "[1] \"plotted clones 7 34\"\n",
      "[1] 12 16\n",
      "[1] \"clones 16\"\n",
      "[1] \"/data2/mito_lineage/output/annotation_clones/data/cd34norm/MTblacklist/DE//donor1/clones_12__16.DE.GeneActivity.csv\"\n",
      "                p_val avg_log2FC pct.1 pct.2 p_val_adj\n",
      "MR1      0.0001264993 -0.1495688 0.161 0.308         1\n",
      "KIAA1468 0.0001971876 -0.1937919 0.383 0.541         1\n",
      "FAS      0.0002031617 -0.1227667 0.064 0.132         1\n",
      "PKP2     0.0002217879 -0.1202921 0.106 0.222         1\n",
      "DLGAP5   0.0003150287  0.1022735 0.123 0.053         1\n",
      "TLL1     0.0003505606 -0.1880202 0.239 0.380         1\n",
      "[1] \"saved clones 12 16\"\n"
     ]
    },
    {
     "name": "stderr",
     "output_type": "stream",
     "text": [
      "Saving 6.67 x 6.67 in image\n",
      "\n"
     ]
    },
    {
     "name": "stdout",
     "output_type": "stream",
     "text": [
      "[1] \"plotted clones 12 16\"\n",
      "[1] 12 19\n",
      "[1] \"clones 17\"\n",
      "[1] \"/data2/mito_lineage/output/annotation_clones/data/cd34norm/MTblacklist/DE//donor1/clones_12__19.DE.GeneActivity.csv\"\n",
      "               p_val avg_log2FC pct.1 pct.2 p_val_adj\n",
      "SI      6.239521e-05 -0.1366969 0.071 0.109         1\n",
      "HCN2    1.415373e-04  0.1280283 0.106 0.025         1\n",
      "PIGP    1.825844e-04  0.1094155 0.090 0.010         1\n",
      "POGLUT1 1.907160e-04  0.1068917 0.090 0.020         1\n",
      "ARHGEF3 2.129581e-04  0.2852748 0.728 0.485         1\n",
      "CACNG5  2.250706e-04  0.1615503 0.158 0.035         1\n",
      "[1] \"saved clones 12 19\"\n"
     ]
    },
    {
     "name": "stderr",
     "output_type": "stream",
     "text": [
      "Saving 6.67 x 6.67 in image\n",
      "\n"
     ]
    },
    {
     "name": "stdout",
     "output_type": "stream",
     "text": [
      "[1] \"plotted clones 12 19\"\n",
      "[1] 12 20\n",
      "[1] \"clones 18\"\n",
      "[1] \"/data2/mito_lineage/output/annotation_clones/data/cd34norm/MTblacklist/DE//donor1/clones_12__20.DE.GeneActivity.csv\"\n",
      "                  p_val avg_log2FC pct.1 pct.2 p_val_adj\n",
      "CFTR       2.394674e-05 -0.3226129 0.437 0.484 0.4791743\n",
      "C16orf78   2.976483e-05 -0.1008475 0.033 0.071 0.5955942\n",
      "AC005779.2 3.154034e-05  0.2469975 0.260 0.082 0.6311223\n",
      "HEATR4     5.888261e-05  0.2453322 0.317 0.121 1.0000000\n",
      "ECM2       8.445895e-05 -0.1405223 0.087 0.159 1.0000000\n",
      "SHC4       8.796930e-05 -0.2194170 0.348 0.385 1.0000000\n",
      "[1] \"saved clones 12 20\"\n"
     ]
    },
    {
     "name": "stderr",
     "output_type": "stream",
     "text": [
      "Saving 6.67 x 6.67 in image\n",
      "\n"
     ]
    },
    {
     "name": "stdout",
     "output_type": "stream",
     "text": [
      "[1] \"plotted clones 12 20\"\n",
      "[1] 12 23\n",
      "[1] \"clones 19\"\n"
     ]
    },
    {
     "name": "stderr",
     "output_type": "stream",
     "text": [
      "Warning message:\n",
      "“glm.fit: fitted probabilities numerically 0 or 1 occurred”\n",
      "Warning message:\n",
      "“glm.fit: fitted probabilities numerically 0 or 1 occurred”\n"
     ]
    },
    {
     "name": "stdout",
     "output_type": "stream",
     "text": [
      "[1] \"/data2/mito_lineage/output/annotation_clones/data/cd34norm/MTblacklist/DE//donor1/clones_12__23.DE.GeneActivity.csv\"\n",
      "                p_val avg_log2FC pct.1 pct.2 p_val_adj\n",
      "IL11RA   4.228043e-05 -0.1216927 0.026 0.075 0.8460313\n",
      "CBWD2    5.229845e-05  0.1119017 0.083 0.000 1.0000000\n",
      "KIAA0922 1.263200e-04 -0.3544397 0.352 0.404 1.0000000\n",
      "ARRB1    1.794214e-04  0.2156191 0.324 0.123 1.0000000\n",
      "HCN2     1.996201e-04  0.1343028 0.106 0.021 1.0000000\n",
      "CACYBP   2.004659e-04  0.1462402 0.118 0.014 1.0000000\n",
      "[1] \"saved clones 12 23\"\n"
     ]
    },
    {
     "name": "stderr",
     "output_type": "stream",
     "text": [
      "Saving 6.67 x 6.67 in image\n",
      "\n"
     ]
    },
    {
     "name": "stdout",
     "output_type": "stream",
     "text": [
      "[1] \"plotted clones 12 23\"\n",
      "[1] 12 31\n",
      "[1] \"clones 20\"\n"
     ]
    },
    {
     "name": "stderr",
     "output_type": "stream",
     "text": [
      "Warning message:\n",
      "“glm.fit: fitted probabilities numerically 0 or 1 occurred”\n",
      "Warning message:\n",
      "“glm.fit: fitted probabilities numerically 0 or 1 occurred”\n"
     ]
    },
    {
     "name": "stdout",
     "output_type": "stream",
     "text": [
      "[1] \"/data2/mito_lineage/output/annotation_clones/data/cd34norm/MTblacklist/DE//donor1/clones_12__31.DE.GeneActivity.csv\"\n",
      "               p_val avg_log2FC pct.1 pct.2 p_val_adj\n",
      "FAM227A 7.057396e-05  0.1944282 0.229 0.048         1\n",
      "CEP57   9.846406e-05  0.1117107 0.104 0.000         1\n",
      "HMCN1   1.144272e-04 -0.5131930 0.525 0.600         1\n",
      "ELAVL3  3.231380e-04 -0.2137090 0.123 0.210         1\n",
      "COMMD3  3.254356e-04  0.1151091 0.104 0.010         1\n",
      "RHOBTB1 3.501233e-04  0.3092240 0.397 0.162         1\n",
      "[1] \"saved clones 12 31\"\n"
     ]
    },
    {
     "name": "stderr",
     "output_type": "stream",
     "text": [
      "Saving 6.67 x 6.67 in image\n",
      "\n"
     ]
    },
    {
     "name": "stdout",
     "output_type": "stream",
     "text": [
      "[1] \"plotted clones 12 31\"\n",
      "[1] 12 34\n",
      "[1] \"clones 21\"\n"
     ]
    },
    {
     "name": "stderr",
     "output_type": "stream",
     "text": [
      "Warning message:\n",
      "“glm.fit: fitted probabilities numerically 0 or 1 occurred”\n",
      "Warning message:\n",
      "“glm.fit: fitted probabilities numerically 0 or 1 occurred”\n",
      "Warning message:\n",
      "“glm.fit: fitted probabilities numerically 0 or 1 occurred”\n",
      "Warning message:\n",
      "“glm.fit: fitted probabilities numerically 0 or 1 occurred”\n"
     ]
    },
    {
     "name": "stdout",
     "output_type": "stream",
     "text": [
      "[1] \"/data2/mito_lineage/output/annotation_clones/data/cd34norm/MTblacklist/DE//donor1/clones_12__34.DE.GeneActivity.csv\"\n",
      "                p_val avg_log2FC pct.1 pct.2  p_val_adj\n",
      "TMEM184C 1.205161e-06 -0.2326499 0.050 0.131 0.02411527\n",
      "RPTOR    9.829438e-06  0.4855000 0.745 0.331 0.19668706\n",
      "ADARB1   2.016805e-05  0.3476355 0.447 0.103 0.40356260\n",
      "C18orf25 2.437313e-05 -0.1863622 0.083 0.110 0.48770625\n",
      "CFTR     7.263414e-05 -0.4311910 0.437 0.428 1.00000000\n",
      "ORAI1    1.682222e-04 -0.1511707 0.128 0.117 1.00000000\n",
      "[1] \"saved clones 12 34\"\n"
     ]
    },
    {
     "name": "stderr",
     "output_type": "stream",
     "text": [
      "Saving 6.67 x 6.67 in image\n",
      "\n"
     ]
    },
    {
     "name": "stdout",
     "output_type": "stream",
     "text": [
      "[1] \"plotted clones 12 34\"\n",
      "[1] 16 19\n",
      "[1] \"clones 22\"\n",
      "[1] \"/data2/mito_lineage/output/annotation_clones/data/cd34norm/MTblacklist/DE//donor1/clones_16__19.DE.GeneActivity.csv\"\n",
      "                p_val avg_log2FC pct.1 pct.2 p_val_adj\n",
      "CALCB    4.065194e-05 -0.2617596 0.278 0.317 0.8134452\n",
      "PIK3R2.1 1.408373e-04  0.1849349 0.256 0.059 1.0000000\n",
      "TRIM36   1.542361e-04  0.1116900 0.113 0.015 1.0000000\n",
      "MMD2     2.141165e-04 -0.1520137 0.143 0.149 1.0000000\n",
      "PHF5A    2.537623e-04  0.1030114 0.071 0.005 1.0000000\n",
      "ST8SIA2  2.855279e-04 -0.2463827 0.207 0.252 1.0000000\n",
      "[1] \"saved clones 16 19\"\n"
     ]
    },
    {
     "name": "stderr",
     "output_type": "stream",
     "text": [
      "Saving 6.67 x 6.67 in image\n",
      "\n"
     ]
    },
    {
     "name": "stdout",
     "output_type": "stream",
     "text": [
      "[1] \"plotted clones 16 19\"\n",
      "[1] 16 20\n",
      "[1] \"clones 23\"\n",
      "[1] \"/data2/mito_lineage/output/annotation_clones/data/cd34norm/MTblacklist/DE//donor1/clones_16__20.DE.GeneActivity.csv\"\n",
      "                p_val avg_log2FC pct.1 pct.2 p_val_adj\n",
      "C8orf47  1.407763e-05 -0.1356006 0.079 0.143 0.2816933\n",
      "CCDC102A 4.540935e-05 -0.1095595 0.053 0.115 0.9086411\n",
      "VCP      7.597717e-05  0.1982931 0.195 0.055 1.0000000\n",
      "GPR126   1.985428e-04 -0.2855264 0.387 0.412 1.0000000\n",
      "BBIP1    2.622378e-04 -0.1770369 0.049 0.115 1.0000000\n",
      "C18orf25 3.045314e-04 -0.1623453 0.071 0.099 1.0000000\n",
      "[1] \"saved clones 16 20\"\n"
     ]
    },
    {
     "name": "stderr",
     "output_type": "stream",
     "text": [
      "Saving 6.67 x 6.67 in image\n",
      "\n"
     ]
    },
    {
     "name": "stdout",
     "output_type": "stream",
     "text": [
      "[1] \"plotted clones 16 20\"\n",
      "[1] 16 23\n",
      "[1] \"clones 24\"\n"
     ]
    },
    {
     "name": "stderr",
     "output_type": "stream",
     "text": [
      "Warning message:\n",
      "“glm.fit: fitted probabilities numerically 0 or 1 occurred”\n"
     ]
    },
    {
     "name": "stdout",
     "output_type": "stream",
     "text": [
      "[1] \"/data2/mito_lineage/output/annotation_clones/data/cd34norm/MTblacklist/DE//donor1/clones_16__23.DE.GeneActivity.csv\"\n",
      "              p_val avg_log2FC pct.1 pct.2 p_val_adj\n",
      "CBWD2  1.882207e-05  0.1145974 0.090 0.000 0.3766296\n",
      "PLLP   6.276426e-05 -0.2100182 0.150 0.219 1.0000000\n",
      "ADAL   1.111152e-04 -0.1375865 0.034 0.096 1.0000000\n",
      "BCL11A 1.532038e-04  0.2736566 0.357 0.158 1.0000000\n",
      "NDC80  1.596833e-04  0.2401135 0.278 0.096 1.0000000\n",
      "PKP2   2.404245e-04  0.1759080 0.222 0.041 1.0000000\n",
      "[1] \"saved clones 16 23\"\n"
     ]
    },
    {
     "name": "stderr",
     "output_type": "stream",
     "text": [
      "Saving 6.67 x 6.67 in image\n",
      "\n"
     ]
    },
    {
     "name": "stdout",
     "output_type": "stream",
     "text": [
      "[1] \"plotted clones 16 23\"\n",
      "[1] 16 31\n",
      "[1] \"clones 25\"\n"
     ]
    },
    {
     "name": "stderr",
     "output_type": "stream",
     "text": [
      "Warning message:\n",
      "“glm.fit: fitted probabilities numerically 0 or 1 occurred”\n"
     ]
    },
    {
     "name": "stdout",
     "output_type": "stream",
     "text": [
      "[1] \"/data2/mito_lineage/output/annotation_clones/data/cd34norm/MTblacklist/DE//donor1/clones_16__31.DE.GeneActivity.csv\"\n",
      "                     p_val avg_log2FC pct.1 pct.2 p_val_adj\n",
      "CEP57         8.147372e-05  0.1071445 0.124 0.000         1\n",
      "PITPNC1       1.049072e-04 -0.2825522 0.327 0.410         1\n",
      "DUOX1         1.188159e-04  0.1818612 0.195 0.029         1\n",
      "FAM227A       2.052583e-04  0.1994788 0.222 0.048         1\n",
      "LA16c-431H6.6 2.079609e-04  0.2529649 0.263 0.067         1\n",
      "C7orf31       2.484801e-04 -0.1811971 0.139 0.200         1\n",
      "[1] \"saved clones 16 31\"\n"
     ]
    },
    {
     "name": "stderr",
     "output_type": "stream",
     "text": [
      "Saving 6.67 x 6.67 in image\n",
      "\n"
     ]
    },
    {
     "name": "stdout",
     "output_type": "stream",
     "text": [
      "[1] \"plotted clones 16 31\"\n",
      "[1] 16 34\n",
      "[1] \"clones 26\"\n"
     ]
    },
    {
     "name": "stderr",
     "output_type": "stream",
     "text": [
      "Warning message:\n",
      "“glm.fit: fitted probabilities numerically 0 or 1 occurred”\n",
      "Warning message:\n",
      "“glm.fit: fitted probabilities numerically 0 or 1 occurred”\n",
      "Warning message:\n",
      "“glm.fit: fitted probabilities numerically 0 or 1 occurred”\n"
     ]
    },
    {
     "name": "stdout",
     "output_type": "stream",
     "text": [
      "[1] \"/data2/mito_lineage/output/annotation_clones/data/cd34norm/MTblacklist/DE//donor1/clones_16__34.DE.GeneActivity.csv\"\n",
      "                p_val avg_log2FC pct.1 pct.2 p_val_adj\n",
      "TMEM184C 2.710318e-05 -0.2319885 0.049 0.131 0.5423346\n",
      "WDR7     3.502971e-05 -0.3215674 0.462 0.366 0.7009444\n",
      "C18orf25 6.763250e-05 -0.2038346 0.071 0.110 1.0000000\n",
      "ADARB1   1.097928e-04  0.3625112 0.481 0.103 1.0000000\n",
      "SPATA17  1.271767e-04 -0.3331985 0.203 0.241 1.0000000\n",
      "TSNAX    1.754542e-04 -0.1882991 0.135 0.131 1.0000000\n",
      "[1] \"saved clones 16 34\"\n"
     ]
    },
    {
     "name": "stderr",
     "output_type": "stream",
     "text": [
      "Saving 6.67 x 6.67 in image\n",
      "\n"
     ]
    },
    {
     "name": "stdout",
     "output_type": "stream",
     "text": [
      "[1] \"plotted clones 16 34\"\n",
      "[1] 19 20\n",
      "[1] \"clones 27\"\n"
     ]
    },
    {
     "name": "stderr",
     "output_type": "stream",
     "text": [
      "Warning message:\n",
      "“glm.fit: fitted probabilities numerically 0 or 1 occurred”\n"
     ]
    },
    {
     "name": "stdout",
     "output_type": "stream",
     "text": [
      "[1] \"/data2/mito_lineage/output/annotation_clones/data/cd34norm/MTblacklist/DE//donor1/clones_19__20.DE.GeneActivity.csv\"\n",
      "              p_val avg_log2FC pct.1 pct.2 p_val_adj\n",
      "CHRNB3 1.494178e-05 -0.1643362 0.030 0.137 0.2989851\n",
      "SAMD13 2.191013e-05  0.3047332 0.257 0.121 0.4384217\n",
      "SYNM   6.041313e-05 -0.1436187 0.015 0.099 1.0000000\n",
      "PHF5A  1.189439e-04 -0.1005977 0.005 0.066 1.0000000\n",
      "DUS4L  1.383902e-04 -0.1091124 0.005 0.071 1.0000000\n",
      "MAPK4  1.904606e-04 -0.3109337 0.149 0.275 1.0000000\n",
      "[1] \"saved clones 19 20\"\n"
     ]
    },
    {
     "name": "stderr",
     "output_type": "stream",
     "text": [
      "Saving 6.67 x 6.67 in image\n",
      "\n"
     ]
    },
    {
     "name": "stdout",
     "output_type": "stream",
     "text": [
      "[1] \"plotted clones 19 20\"\n",
      "[1] 19 23\n",
      "[1] \"clones 28\"\n"
     ]
    },
    {
     "name": "stderr",
     "output_type": "stream",
     "text": [
      "Warning message:\n",
      "“glm.fit: fitted probabilities numerically 0 or 1 occurred”\n"
     ]
    },
    {
     "name": "stdout",
     "output_type": "stream",
     "text": [
      "[1] \"/data2/mito_lineage/output/annotation_clones/data/cd34norm/MTblacklist/DE//donor1/clones_19__23.DE.GeneActivity.csv\"\n",
      "              p_val avg_log2FC pct.1 pct.2 p_val_adj\n",
      "THOC7  0.0001636512 -0.1832025 0.020 0.096         1\n",
      "MB     0.0002291850 -0.1065712 0.020 0.089         1\n",
      "SMOX   0.0003144706 -0.2874835 0.139 0.253         1\n",
      "SPTBN1 0.0003746776 -0.3528379 0.297 0.452         1\n",
      "DOCK11 0.0003759038 -0.1958630 0.050 0.144         1\n",
      "WRN    0.0003793235  0.3360251 0.317 0.178         1\n",
      "[1] \"saved clones 19 23\"\n"
     ]
    },
    {
     "name": "stderr",
     "output_type": "stream",
     "text": [
      "Saving 6.67 x 6.67 in image\n",
      "\n"
     ]
    },
    {
     "name": "stdout",
     "output_type": "stream",
     "text": [
      "[1] \"plotted clones 19 23\"\n",
      "[1] 19 31\n",
      "[1] \"clones 29\"\n"
     ]
    },
    {
     "name": "stderr",
     "output_type": "stream",
     "text": [
      "Warning message:\n",
      "“glm.fit: fitted probabilities numerically 0 or 1 occurred”\n",
      "Warning message:\n",
      "“glm.fit: fitted probabilities numerically 0 or 1 occurred”\n",
      "Warning message:\n",
      "“glm.fit: fitted probabilities numerically 0 or 1 occurred”\n",
      "Warning message:\n",
      "“glm.fit: fitted probabilities numerically 0 or 1 occurred”\n",
      "Warning message:\n",
      "“glm.fit: fitted probabilities numerically 0 or 1 occurred”\n",
      "Warning message:\n",
      "“glm.fit: fitted probabilities numerically 0 or 1 occurred”\n"
     ]
    },
    {
     "name": "stdout",
     "output_type": "stream",
     "text": [
      "[1] \"/data2/mito_lineage/output/annotation_clones/data/cd34norm/MTblacklist/DE//donor1/clones_19__31.DE.GeneActivity.csv\"\n",
      "                p_val avg_log2FC pct.1 pct.2 p_val_adj\n",
      "CEP57    6.898354e-05  0.1268192 0.084 0.000         1\n",
      "TFCP2    1.102602e-04  0.2344435 0.178 0.048         1\n",
      "UQCRC2   1.615733e-04  0.1004363 0.089 0.010         1\n",
      "FAM227A  2.865403e-04  0.1963752 0.149 0.048         1\n",
      "TGOLN2   3.081266e-04 -0.2511249 0.074 0.190         1\n",
      "AASDHPPT 3.397992e-04 -0.1186272 0.000 0.057         1\n",
      "[1] \"saved clones 19 31\"\n"
     ]
    },
    {
     "name": "stderr",
     "output_type": "stream",
     "text": [
      "Saving 6.67 x 6.67 in image\n",
      "\n"
     ]
    },
    {
     "name": "stdout",
     "output_type": "stream",
     "text": [
      "[1] \"plotted clones 19 31\"\n",
      "[1] 19 34\n",
      "[1] \"clones 30\"\n"
     ]
    },
    {
     "name": "stderr",
     "output_type": "stream",
     "text": [
      "Warning message:\n",
      "“glm.fit: fitted probabilities numerically 0 or 1 occurred”\n",
      "Warning message:\n",
      "“glm.fit: fitted probabilities numerically 0 or 1 occurred”\n",
      "Warning message:\n",
      "“glm.fit: fitted probabilities numerically 0 or 1 occurred”\n",
      "Warning message:\n",
      "“glm.fit: fitted probabilities numerically 0 or 1 occurred”\n",
      "Warning message:\n",
      "“glm.fit: fitted probabilities numerically 0 or 1 occurred”\n",
      "Warning message:\n",
      "“glm.fit: fitted probabilities numerically 0 or 1 occurred”\n",
      "Warning message:\n",
      "“glm.fit: fitted probabilities numerically 0 or 1 occurred”\n"
     ]
    },
    {
     "name": "stdout",
     "output_type": "stream",
     "text": [
      "[1] \"/data2/mito_lineage/output/annotation_clones/data/cd34norm/MTblacklist/DE//donor1/clones_19__34.DE.GeneActivity.csv\"\n",
      "                    p_val avg_log2FC pct.1 pct.2 p_val_adj\n",
      "TMEM184C     2.417734e-05 -0.2271923 0.040 0.131 0.4837886\n",
      "USP32        2.959033e-05  0.4735485 0.748 0.428 0.5921026\n",
      "RP11-176H8.1 3.526407e-05 -0.3561316 0.094 0.152 0.7056340\n",
      "CWF19L2      6.741793e-05 -0.3599867 0.084 0.193 1.0000000\n",
      "PLCXD2       7.491761e-05 -0.4021093 0.188 0.303 1.0000000\n",
      "ACSF2        1.318279e-04  0.2402626 0.178 0.014 1.0000000\n",
      "[1] \"saved clones 19 34\"\n"
     ]
    },
    {
     "name": "stderr",
     "output_type": "stream",
     "text": [
      "Saving 6.67 x 6.67 in image\n",
      "\n"
     ]
    },
    {
     "name": "stdout",
     "output_type": "stream",
     "text": [
      "[1] \"plotted clones 19 34\"\n",
      "[1] 20 23\n",
      "[1] \"clones 31\"\n"
     ]
    },
    {
     "name": "stderr",
     "output_type": "stream",
     "text": [
      "Warning message:\n",
      "“glm.fit: fitted probabilities numerically 0 or 1 occurred”\n",
      "Warning message:\n",
      "“glm.fit: fitted probabilities numerically 0 or 1 occurred”\n",
      "Warning message:\n",
      "“glm.fit: fitted probabilities numerically 0 or 1 occurred”\n",
      "Warning message:\n",
      "“glm.fit: fitted probabilities numerically 0 or 1 occurred”\n",
      "Warning message:\n",
      "“glm.fit: fitted probabilities numerically 0 or 1 occurred”\n",
      "Warning message:\n",
      "“glm.fit: fitted probabilities numerically 0 or 1 occurred”\n"
     ]
    },
    {
     "name": "stdout",
     "output_type": "stream",
     "text": [
      "[1] \"/data2/mito_lineage/output/annotation_clones/data/cd34norm/MTblacklist/DE//donor1/clones_20__23.DE.GeneActivity.csv\"\n",
      "                p_val avg_log2FC pct.1 pct.2 p_val_adj\n",
      "DBH      9.777527e-05 -0.1278579 0.011 0.089         1\n",
      "GUCY2C   3.077624e-04 -0.3268605 0.220 0.425         1\n",
      "PHAX     3.417006e-04 -0.1332162 0.005 0.062         1\n",
      "RPGRIP1L 4.314616e-04 -0.2301699 0.126 0.322         1\n",
      "VCP      4.430622e-04 -0.1267543 0.055 0.171         1\n",
      "ADAL     4.777306e-04 -0.1445417 0.016 0.096         1\n",
      "[1] \"saved clones 20 23\"\n"
     ]
    },
    {
     "name": "stderr",
     "output_type": "stream",
     "text": [
      "Saving 6.67 x 6.67 in image\n",
      "\n"
     ]
    },
    {
     "name": "stdout",
     "output_type": "stream",
     "text": [
      "[1] \"plotted clones 20 23\"\n",
      "[1] 20 31\n",
      "[1] \"clones 32\"\n"
     ]
    },
    {
     "name": "stderr",
     "output_type": "stream",
     "text": [
      "Warning message:\n",
      "“glm.fit: fitted probabilities numerically 0 or 1 occurred”\n",
      "Warning message:\n",
      "“glm.fit: fitted probabilities numerically 0 or 1 occurred”\n",
      "Warning message:\n",
      "“glm.fit: fitted probabilities numerically 0 or 1 occurred”\n",
      "Warning message:\n",
      "“glm.fit: fitted probabilities numerically 0 or 1 occurred”\n",
      "Warning message:\n",
      "“glm.fit: fitted probabilities numerically 0 or 1 occurred”\n"
     ]
    },
    {
     "name": "stdout",
     "output_type": "stream",
     "text": [
      "[1] \"/data2/mito_lineage/output/annotation_clones/data/cd34norm/MTblacklist/DE//donor1/clones_20__31.DE.GeneActivity.csv\"\n",
      "               p_val avg_log2FC pct.1 pct.2 p_val_adj\n",
      "CEP57   2.414967e-05  0.1230742 0.093 0.000 0.4832350\n",
      "COMMD3  4.659408e-05  0.1040431 0.088 0.010 0.9323475\n",
      "RBM10   6.482876e-05 -0.1069434 0.000 0.076 1.0000000\n",
      "HMCN1   1.004629e-04 -0.5379363 0.412 0.600 1.0000000\n",
      "SHC4    1.232829e-04  0.3251821 0.385 0.210 1.0000000\n",
      "RHOBTB1 2.259437e-04  0.2460570 0.313 0.162 1.0000000\n",
      "[1] \"saved clones 20 31\"\n"
     ]
    },
    {
     "name": "stderr",
     "output_type": "stream",
     "text": [
      "Saving 6.67 x 6.67 in image\n",
      "\n"
     ]
    },
    {
     "name": "stdout",
     "output_type": "stream",
     "text": [
      "[1] \"plotted clones 20 31\"\n",
      "[1] 20 34\n",
      "[1] \"clones 33\"\n"
     ]
    },
    {
     "name": "stderr",
     "output_type": "stream",
     "text": [
      "Warning message:\n",
      "“glm.fit: fitted probabilities numerically 0 or 1 occurred”\n",
      "Warning message:\n",
      "“glm.fit: fitted probabilities numerically 0 or 1 occurred”\n",
      "Warning message:\n",
      "“glm.fit: fitted probabilities numerically 0 or 1 occurred”\n",
      "Warning message:\n",
      "“glm.fit: fitted probabilities numerically 0 or 1 occurred”\n",
      "Warning message:\n",
      "“glm.fit: fitted probabilities numerically 0 or 1 occurred”\n",
      "Warning message:\n",
      "“glm.fit: fitted probabilities numerically 0 or 1 occurred”\n",
      "Warning message:\n",
      "“glm.fit: fitted probabilities numerically 0 or 1 occurred”\n",
      "Warning message:\n",
      "“glm.fit: fitted probabilities numerically 0 or 1 occurred”\n",
      "Warning message:\n",
      "“glm.fit: fitted probabilities numerically 0 or 1 occurred”\n",
      "Warning message:\n",
      "“glm.fit: fitted probabilities numerically 0 or 1 occurred”\n",
      "Warning message:\n",
      "“glm.fit: fitted probabilities numerically 0 or 1 occurred”\n",
      "Warning message:\n",
      "“glm.fit: fitted probabilities numerically 0 or 1 occurred”\n",
      "Warning message:\n",
      "“glm.fit: fitted probabilities numerically 0 or 1 occurred”\n",
      "Warning message:\n",
      "“glm.fit: fitted probabilities numerically 0 or 1 occurred”\n"
     ]
    },
    {
     "name": "stdout",
     "output_type": "stream",
     "text": [
      "[1] \"/data2/mito_lineage/output/annotation_clones/data/cd34norm/MTblacklist/DE//donor1/clones_20__34.DE.GeneActivity.csv\"\n",
      "                p_val avg_log2FC pct.1 pct.2 p_val_adj\n",
      "APOBEC3C 0.0001532770 -0.1204089 0.016 0.097         1\n",
      "APOBEC3D 0.0002280105 -0.1124372 0.033 0.097         1\n",
      "PRMT7    0.0002577560  0.2425345 0.159 0.014         1\n",
      "PCDH1    0.0003046983  0.1294478 0.071 0.000         1\n",
      "DMKN     0.0003761688  0.1298161 0.071 0.000         1\n",
      "KLHL26   0.0004296052  0.1522581 0.110 0.007         1\n",
      "[1] \"saved clones 20 34\"\n"
     ]
    },
    {
     "name": "stderr",
     "output_type": "stream",
     "text": [
      "Saving 6.67 x 6.67 in image\n",
      "\n"
     ]
    },
    {
     "name": "stdout",
     "output_type": "stream",
     "text": [
      "[1] \"plotted clones 20 34\"\n",
      "[1] 23 31\n",
      "[1] \"clones 34\"\n"
     ]
    },
    {
     "name": "stderr",
     "output_type": "stream",
     "text": [
      "Warning message:\n",
      "“glm.fit: fitted probabilities numerically 0 or 1 occurred”\n",
      "Warning message:\n",
      "“glm.fit: fitted probabilities numerically 0 or 1 occurred”\n",
      "Warning message:\n",
      "“glm.fit: fitted probabilities numerically 0 or 1 occurred”\n",
      "Warning message:\n",
      "“glm.fit: fitted probabilities numerically 0 or 1 occurred”\n",
      "Warning message:\n",
      "“glm.fit: fitted probabilities numerically 0 or 1 occurred”\n",
      "Warning message:\n",
      "“glm.fit: fitted probabilities numerically 0 or 1 occurred”\n",
      "Warning message:\n",
      "“glm.fit: fitted probabilities numerically 0 or 1 occurred”\n",
      "Warning message:\n",
      "“glm.fit: fitted probabilities numerically 0 or 1 occurred”\n",
      "Warning message:\n",
      "“glm.fit: fitted probabilities numerically 0 or 1 occurred”\n",
      "Warning message:\n",
      "“glm.fit: fitted probabilities numerically 0 or 1 occurred”\n"
     ]
    },
    {
     "name": "stdout",
     "output_type": "stream",
     "text": [
      "[1] \"/data2/mito_lineage/output/annotation_clones/data/cd34norm/MTblacklist/DE//donor1/clones_23__31.DE.GeneActivity.csv\"\n",
      "                p_val avg_log2FC pct.1 pct.2 p_val_adj\n",
      "ATP9A    2.477061e-05  0.4221619 0.466 0.257 0.4956598\n",
      "MCCD1    1.523081e-04  0.1254402 0.082 0.000 1.0000000\n",
      "NMRK1    2.243829e-04  0.1312472 0.096 0.010 1.0000000\n",
      "RBP2     2.380091e-04  0.1488964 0.082 0.000 1.0000000\n",
      "A2M      3.117781e-04  0.1507993 0.096 0.010 1.0000000\n",
      "C11orf83 3.569180e-04  0.1025693 0.082 0.010 1.0000000\n",
      "[1] \"saved clones 23 31\"\n"
     ]
    },
    {
     "name": "stderr",
     "output_type": "stream",
     "text": [
      "Saving 6.67 x 6.67 in image\n",
      "\n"
     ]
    },
    {
     "name": "stdout",
     "output_type": "stream",
     "text": [
      "[1] \"plotted clones 23 31\"\n",
      "[1] 23 34\n",
      "[1] \"clones 35\"\n"
     ]
    },
    {
     "name": "stderr",
     "output_type": "stream",
     "text": [
      "Warning message:\n",
      "“glm.fit: fitted probabilities numerically 0 or 1 occurred”\n",
      "Warning message:\n",
      "“glm.fit: fitted probabilities numerically 0 or 1 occurred”\n",
      "Warning message:\n",
      "“glm.fit: fitted probabilities numerically 0 or 1 occurred”\n",
      "Warning message:\n",
      "“glm.fit: fitted probabilities numerically 0 or 1 occurred”\n",
      "Warning message:\n",
      "“glm.fit: fitted probabilities numerically 0 or 1 occurred”\n",
      "Warning message:\n",
      "“glm.fit: fitted probabilities numerically 0 or 1 occurred”\n",
      "Warning message:\n",
      "“glm.fit: fitted probabilities numerically 0 or 1 occurred”\n",
      "Warning message:\n",
      "“glm.fit: fitted probabilities numerically 0 or 1 occurred”\n",
      "Warning message:\n",
      "“glm.fit: fitted probabilities numerically 0 or 1 occurred”\n",
      "Warning message:\n",
      "“glm.fit: fitted probabilities numerically 0 or 1 occurred”\n",
      "Warning message:\n",
      "“glm.fit: fitted probabilities numerically 0 or 1 occurred”\n",
      "Warning message:\n",
      "“glm.fit: fitted probabilities numerically 0 or 1 occurred”\n",
      "Warning message:\n",
      "“glm.fit: fitted probabilities numerically 0 or 1 occurred”\n",
      "Warning message:\n",
      "“glm.fit: fitted probabilities numerically 0 or 1 occurred”\n",
      "Warning message:\n",
      "“glm.fit: fitted probabilities numerically 0 or 1 occurred”\n",
      "Warning message:\n",
      "“glm.fit: fitted probabilities numerically 0 or 1 occurred”\n",
      "Warning message:\n",
      "“glm.fit: fitted probabilities numerically 0 or 1 occurred”\n",
      "Warning message:\n",
      "“glm.fit: fitted probabilities numerically 0 or 1 occurred”\n",
      "Warning message:\n",
      "“glm.fit: fitted probabilities numerically 0 or 1 occurred”\n",
      "Warning message:\n",
      "“glm.fit: fitted probabilities numerically 0 or 1 occurred”\n",
      "Warning message:\n",
      "“glm.fit: fitted probabilities numerically 0 or 1 occurred”\n"
     ]
    },
    {
     "name": "stdout",
     "output_type": "stream",
     "text": [
      "[1] \"/data2/mito_lineage/output/annotation_clones/data/cd34norm/MTblacklist/DE//donor1/clones_23__34.DE.GeneActivity.csv\"\n",
      "                p_val avg_log2FC pct.1 pct.2 p_val_adj\n",
      "ZWILCH   0.0001416474  0.2950608 0.164 0.021         1\n",
      "KIAA1456 0.0001565258 -0.2417891 0.068 0.138         1\n",
      "PRMT7    0.0002043857  0.2069090 0.151 0.014         1\n",
      "HSDL1    0.0002475219  0.1917239 0.082 0.000         1\n",
      "EDNRA    0.0002973295  0.2917259 0.240 0.055         1\n",
      "HTRA1    0.0003323648  0.2119014 0.144 0.021         1\n",
      "[1] \"saved clones 23 34\"\n"
     ]
    },
    {
     "name": "stderr",
     "output_type": "stream",
     "text": [
      "Saving 6.67 x 6.67 in image\n",
      "\n"
     ]
    },
    {
     "name": "stdout",
     "output_type": "stream",
     "text": [
      "[1] \"plotted clones 23 34\"\n",
      "[1] 31 34\n",
      "[1] \"clones 36\"\n"
     ]
    },
    {
     "name": "stderr",
     "output_type": "stream",
     "text": [
      "Warning message:\n",
      "“glm.fit: fitted probabilities numerically 0 or 1 occurred”\n",
      "Warning message:\n",
      "“glm.fit: fitted probabilities numerically 0 or 1 occurred”\n",
      "Warning message:\n",
      "“glm.fit: fitted probabilities numerically 0 or 1 occurred”\n",
      "Warning message:\n",
      "“glm.fit: fitted probabilities numerically 0 or 1 occurred”\n",
      "Warning message:\n",
      "“glm.fit: fitted probabilities numerically 0 or 1 occurred”\n",
      "Warning message:\n",
      "“glm.fit: fitted probabilities numerically 0 or 1 occurred”\n",
      "Warning message:\n",
      "“glm.fit: fitted probabilities numerically 0 or 1 occurred”\n",
      "Warning message:\n",
      "“glm.fit: fitted probabilities numerically 0 or 1 occurred”\n",
      "Warning message:\n",
      "“glm.fit: fitted probabilities numerically 0 or 1 occurred”\n",
      "Warning message:\n",
      "“glm.fit: fitted probabilities numerically 0 or 1 occurred”\n",
      "Warning message:\n",
      "“glm.fit: fitted probabilities numerically 0 or 1 occurred”\n",
      "Warning message:\n",
      "“glm.fit: fitted probabilities numerically 0 or 1 occurred”\n",
      "Warning message:\n",
      "“glm.fit: fitted probabilities numerically 0 or 1 occurred”\n",
      "Warning message:\n",
      "“glm.fit: fitted probabilities numerically 0 or 1 occurred”\n",
      "Warning message:\n",
      "“glm.fit: fitted probabilities numerically 0 or 1 occurred”\n",
      "Warning message:\n",
      "“glm.fit: fitted probabilities numerically 0 or 1 occurred”\n",
      "Warning message:\n",
      "“glm.fit: fitted probabilities numerically 0 or 1 occurred”\n",
      "Warning message:\n",
      "“glm.fit: fitted probabilities numerically 0 or 1 occurred”\n",
      "Warning message:\n",
      "“glm.fit: fitted probabilities numerically 0 or 1 occurred”\n",
      "Warning message:\n",
      "“glm.fit: fitted probabilities numerically 0 or 1 occurred”\n",
      "Warning message:\n",
      "“glm.fit: fitted probabilities numerically 0 or 1 occurred”\n",
      "Warning message:\n",
      "“glm.fit: fitted probabilities numerically 0 or 1 occurred”\n",
      "Warning message:\n",
      "“glm.fit: fitted probabilities numerically 0 or 1 occurred”\n",
      "Warning message:\n",
      "“glm.fit: fitted probabilities numerically 0 or 1 occurred”\n",
      "Warning message:\n",
      "“glm.fit: fitted probabilities numerically 0 or 1 occurred”\n",
      "Warning message:\n",
      "“glm.fit: fitted probabilities numerically 0 or 1 occurred”\n",
      "Warning message:\n",
      "“glm.fit: fitted probabilities numerically 0 or 1 occurred”\n",
      "Warning message:\n",
      "“glm.fit: fitted probabilities numerically 0 or 1 occurred”\n",
      "Warning message:\n",
      "“glm.fit: fitted probabilities numerically 0 or 1 occurred”\n"
     ]
    },
    {
     "name": "stdout",
     "output_type": "stream",
     "text": [
      "[1] \"/data2/mito_lineage/output/annotation_clones/data/cd34norm/MTblacklist/DE//donor1/clones_31__34.DE.GeneActivity.csv\"\n",
      "              p_val avg_log2FC pct.1 pct.2  p_val_adj\n",
      "A2M    4.352205e-06 -0.1133746 0.010 0.062 0.08708763\n",
      "CHSY3  6.575282e-06 -0.5303885 0.152 0.297 0.13157139\n",
      "RHPN1  2.802927e-05  0.1632039 0.133 0.000 0.56086561\n",
      "DCX    3.421787e-05 -0.2681523 0.048 0.110 0.68469968\n",
      "COMMD3 4.165009e-05 -0.1204278 0.010 0.062 0.83341820\n",
      "NMRK1  6.276473e-05 -0.1010500 0.010 0.069 1.00000000\n",
      "[1] \"saved clones 31 34\"\n"
     ]
    },
    {
     "name": "stderr",
     "output_type": "stream",
     "text": [
      "Saving 6.67 x 6.67 in image\n",
      "\n"
     ]
    },
    {
     "name": "stdout",
     "output_type": "stream",
     "text": [
      "[1] \"plotted clones 31 34\"\n",
      "[1] \"donor\"\n",
      "[1] 2\n"
     ]
    },
    {
     "name": "stderr",
     "output_type": "stream",
     "text": [
      "\u001b[1m\u001b[1mRows: \u001b[1m\u001b[22m\u001b[34m\u001b[34m39\u001b[34m\u001b[39m \u001b[1m\u001b[1mColumns: \u001b[1m\u001b[22m\u001b[34m\u001b[34m8\u001b[34m\u001b[39m\n",
      "\n",
      "\u001b[36m──\u001b[39m \u001b[1m\u001b[1mColumn specification\u001b[1m\u001b[22m \u001b[36m──────────────────────────────────────────────────────────────────────────────────────────────────────────────────────────────────────────────────────────────────────────────────────────────────────────────────────\u001b[39m\n",
      "\u001b[1mDelimiter:\u001b[22m \",\"\n",
      "\u001b[32mdbl\u001b[39m (8): lineage, # Control Cells in Cluster, # Flt3l Cells in Cluster, Flt3...\n",
      "\n",
      "\n",
      "\u001b[36mℹ\u001b[39m Use \u001b[30m\u001b[47m\u001b[30m\u001b[47m`spec()`\u001b[47m\u001b[30m\u001b[49m\u001b[39m to retrieve the full column specification for this data.\n",
      "\u001b[36mℹ\u001b[39m Specify the column types or set \u001b[30m\u001b[47m\u001b[30m\u001b[47m`show_col_types = FALSE`\u001b[47m\u001b[30m\u001b[49m\u001b[39m to quiet this message.\n",
      "\n"
     ]
    },
    {
     "name": "stdout",
     "output_type": "stream",
     "text": [
      " [1] \"lineage\"                     \"X..Control.Cells.in.Cluster\"\n",
      " [3] \"X..Flt3l.Cells.in.Cluster\"   \"Flt3l.fold.enrichment.norm\" \n",
      " [5] \"hypergeom.p\"                 \"Fisher.p\"                   \n",
      " [7] \"Fisher..log10p\"              \"X.log10p\"                   \n",
      " [9] \"log2.enrichment\"             \"p.adj\"                      \n",
      "[11] \"donor\"                      \n"
     ]
    },
    {
     "name": "stderr",
     "output_type": "stream",
     "text": [
      "Warning message in dir.create(curr.outdir):\n",
      "“'/data2/mito_lineage/output/annotation_clones/data/cd34norm/MTblacklist/DE//donor2' already exists”\n",
      "Saving 6.67 x 6.67 in image\n",
      "\n"
     ]
    },
    {
     "name": "stdout",
     "output_type": "stream",
     "text": [
      "[1] \"clone stats\"\n",
      "[1] \"p<0.1\"\n",
      "[1] 15\n",
      "[1] \"p<0.05\"\n",
      "[1] 11\n",
      "[1] \"p<0.01\"\n",
      "[1] 8\n",
      "[1] \"fold>1.5\"\n",
      "[1] 9\n",
      "[1] \"fold>1\"\n",
      "[1] 19\n",
      "[1] \"fold>1.5 and p <0.05\"\n",
      "[1] 4\n",
      "[1] \"clones.filt\"\n",
      "   lineage X..Control.Cells.in.Cluster X..Flt3l.Cells.in.Cluster\n",
      "1        0                         101                       284\n",
      "7        6                         102                        53\n",
      "9        8                          83                        35\n",
      "10       9                          14                        97\n",
      "17      16                          12                        45\n",
      "20      19                          13                        43\n",
      "35      34                         114                        11\n",
      "   Flt3l.fold.enrichment.norm  hypergeom.p     Fisher.p Fisher..log10p\n",
      "1                  2.39695927 0.0000000000 2.884862e-17      16.539875\n",
      "7                  0.44293438 0.9999997106 5.218045e-07       6.282492\n",
      "9                  0.35946254 0.9999999543 7.817279e-08       7.106945\n",
      "10                 5.90618964 0.0000000000 3.250754e-14      13.488016\n",
      "17                 3.19664903 0.0000204321 1.284582e-04       3.891238\n",
      "20                 2.81960838 0.0001054013 5.926641e-04       3.227191\n",
      "35                 0.08225296 1.0000000000 1.313264e-27      26.881647\n",
      "       X.log10p log2.enrichment        p.adj donor\n",
      "1  0.000000e+00        1.261205 5.625481e-16     2\n",
      "7  1.256935e-07       -1.174835 4.070075e-06     2\n",
      "9  1.985466e-08       -1.476087 7.621847e-07     2\n",
      "10 0.000000e+00        2.562228 4.225980e-13     2\n",
      "17 4.689687e+00        1.676560 8.349781e-04     2\n",
      "20 3.977154e+00        1.495495 2.889238e-03     2\n",
      "35 0.000000e+00       -3.603789 5.121729e-26     2\n"
     ]
    },
    {
     "name": "stderr",
     "output_type": "stream",
     "text": [
      "Warning message in (lineage %in% clones.filt$lineage) & (clones.filt$donor == d):\n",
      "“longer object length is not a multiple of shorter object length”\n"
     ]
    },
    {
     "name": "stdout",
     "output_type": "stream",
     "text": [
      "[1] 0 6\n",
      "[1] \"clones 1\"\n",
      "[1] \"/data2/mito_lineage/output/annotation_clones/data/cd34norm/MTblacklist/DE//donor2/clones_0__6.DE.GeneActivity.csv\"\n",
      "              p_val avg_log2FC pct.1 pct.2 p_val_adj\n",
      "RNF220 6.176706e-06  0.1507758 0.447 0.395 0.1235959\n",
      "CAV2   3.028836e-05 -0.1309907 0.501 0.619 0.6060700\n",
      "RPTOR  3.165258e-05  0.1472441 0.675 0.640 0.6333681\n",
      "OSBPL6 4.516390e-05 -0.1353140 0.391 0.500 0.9037296\n",
      "PAK2   1.267827e-04  0.1087648 0.296 0.267 1.0000000\n",
      "TPK1   1.436983e-04 -0.1256558 0.389 0.497 1.0000000\n",
      "[1] \"saved clones 0 6\"\n"
     ]
    },
    {
     "name": "stderr",
     "output_type": "stream",
     "text": [
      "Saving 6.67 x 6.67 in image\n",
      "\n"
     ]
    },
    {
     "name": "stdout",
     "output_type": "stream",
     "text": [
      "[1] \"plotted clones 0 6\"\n",
      "[1] 0 8\n",
      "[1] \"clones 2\"\n",
      "[1] \"/data2/mito_lineage/output/annotation_clones/data/cd34norm/MTblacklist/DE//donor2/clones_0__8.DE.GeneActivity.csv\"\n",
      "                p_val avg_log2FC pct.1 pct.2 p_val_adj\n",
      "TTC6     0.0001125089  0.1487363 0.490 0.394         1\n",
      "ENPP2    0.0001476374  0.1249588 0.313 0.218         1\n",
      "KIAA1324 0.0002104159  0.1072014 0.206 0.145         1\n",
      "DYRK1A   0.0003381891  0.1309157 0.488 0.381         1\n",
      "PDZD7    0.0003596120 -0.1055009 0.116 0.156         1\n",
      "NCS1     0.0003762134  0.1165414 0.261 0.177         1\n",
      "[1] \"saved clones 0 8\"\n"
     ]
    },
    {
     "name": "stderr",
     "output_type": "stream",
     "text": [
      "Saving 6.67 x 6.67 in image\n",
      "\n"
     ]
    },
    {
     "name": "stdout",
     "output_type": "stream",
     "text": [
      "[1] \"plotted clones 0 8\"\n",
      "[1] 0 9\n",
      "[1] \"clones 3\"\n",
      "[1] \"/data2/mito_lineage/output/annotation_clones/data/cd34norm/MTblacklist/DE//donor2/clones_0__9.DE.GeneActivity.csv\"\n",
      "                p_val avg_log2FC pct.1 pct.2 p_val_adj\n",
      "IL5RA    3.182579e-05  0.1283364 0.236 0.168 0.6368340\n",
      "ACOT13   3.635510e-05 -0.1239943 0.140 0.201 0.7274656\n",
      "LDB2     1.765920e-04  0.1459387 0.486 0.391 1.0000000\n",
      "CCDC36   2.091878e-04 -0.1122223 0.202 0.267 1.0000000\n",
      "EPB41L4A 2.216754e-04  0.1358821 0.549 0.470 1.0000000\n",
      "ZMYM6    2.268154e-04 -0.1015407 0.136 0.191 1.0000000\n",
      "[1] \"saved clones 0 9\"\n"
     ]
    },
    {
     "name": "stderr",
     "output_type": "stream",
     "text": [
      "Saving 6.67 x 6.67 in image\n",
      "\n"
     ]
    },
    {
     "name": "stdout",
     "output_type": "stream",
     "text": [
      "[1] \"plotted clones 0 9\"\n",
      "[1]  0 16\n",
      "[1] \"clones 4\"\n",
      "[1] \"/data2/mito_lineage/output/annotation_clones/data/cd34norm/MTblacklist/DE//donor2/clones_0__16.DE.GeneActivity.csv\"\n",
      "                  p_val avg_log2FC pct.1 pct.2 p_val_adj\n",
      "IMPDH1     2.717253e-05 -0.1041422 0.068 0.154 0.5437224\n",
      "NOMO1      2.186147e-04 -0.1340349 0.136 0.218 1.0000000\n",
      "OTX2       2.306365e-04 -0.1527977 0.078 0.154 1.0000000\n",
      "WDR7       3.605324e-04  0.1873859 0.518 0.462 1.0000000\n",
      "AC007956.1 3.984753e-04 -0.1033547 0.135 0.248 1.0000000\n",
      "RALGPS2    4.311337e-04  0.1499206 0.365 0.320 1.0000000\n",
      "[1] \"saved clones 0 16\"\n"
     ]
    },
    {
     "name": "stderr",
     "output_type": "stream",
     "text": [
      "Saving 6.67 x 6.67 in image\n",
      "\n"
     ]
    },
    {
     "name": "stdout",
     "output_type": "stream",
     "text": [
      "[1] \"plotted clones 0 16\"\n",
      "[1]  0 19\n",
      "[1] \"clones 5\"\n",
      "[1] \"/data2/mito_lineage/output/annotation_clones/data/cd34norm/MTblacklist/DE//donor2/clones_0__19.DE.GeneActivity.csv\"\n",
      "              p_val avg_log2FC pct.1 pct.2 p_val_adj\n",
      "DGAT2  0.0001550551  0.1324948 0.144 0.045         1\n",
      "TNKS2  0.0003082654  0.1476453 0.209 0.079         1\n",
      "PI4K2B 0.0003127046  0.2169200 0.389 0.223         1\n",
      "MAPK4  0.0006846411  0.1707006 0.284 0.149         1\n",
      "PPCDC  0.0007864557  0.1419505 0.266 0.119         1\n",
      "RWDD4  0.0007875494 -0.1191313 0.035 0.064         1\n",
      "[1] \"saved clones 0 19\"\n"
     ]
    },
    {
     "name": "stderr",
     "output_type": "stream",
     "text": [
      "Saving 6.67 x 6.67 in image\n",
      "\n"
     ]
    },
    {
     "name": "stdout",
     "output_type": "stream",
     "text": [
      "[1] \"plotted clones 0 19\"\n",
      "[1]  0 34\n",
      "[1] \"clones 6\"\n"
     ]
    },
    {
     "name": "stderr",
     "output_type": "stream",
     "text": [
      "Warning message:\n",
      "“glm.fit: fitted probabilities numerically 0 or 1 occurred”\n",
      "Warning message:\n",
      "“glm.fit: fitted probabilities numerically 0 or 1 occurred”\n"
     ]
    },
    {
     "name": "stdout",
     "output_type": "stream",
     "text": [
      "[1] \"/data2/mito_lineage/output/annotation_clones/data/cd34norm/MTblacklist/DE//donor2/clones_0__34.DE.GeneActivity.csv\"\n",
      "                p_val avg_log2FC pct.1 pct.2   p_val_adj\n",
      "TMEM184C 2.185558e-07 -0.2103222 0.059 0.131 0.004373302\n",
      "PRMT7    9.282511e-05  0.1896798 0.165 0.014 1.000000000\n",
      "CWF19L2  1.496706e-04 -0.2713402 0.173 0.193 1.000000000\n",
      "FBXO42   1.555640e-04  0.2716938 0.363 0.097 1.000000000\n",
      "ZMYND8   1.561731e-04  0.3570393 0.531 0.214 1.000000000\n",
      "C11orf45 1.610094e-04 -0.1441529 0.040 0.069 1.000000000\n",
      "[1] \"saved clones 0 34\"\n"
     ]
    },
    {
     "name": "stderr",
     "output_type": "stream",
     "text": [
      "Saving 6.67 x 6.67 in image\n",
      "\n"
     ]
    },
    {
     "name": "stdout",
     "output_type": "stream",
     "text": [
      "[1] \"plotted clones 0 34\"\n",
      "[1] 6 8\n",
      "[1] \"clones 7\"\n",
      "[1] \"/data2/mito_lineage/output/annotation_clones/data/cd34norm/MTblacklist/DE//donor2/clones_6__8.DE.GeneActivity.csv\"\n",
      "                p_val avg_log2FC pct.1 pct.2 p_val_adj\n",
      "OTOGL    7.445019e-05  0.1308176 0.276 0.165         1\n",
      "CAV2     1.219707e-04  0.1417702 0.619 0.456         1\n",
      "KIAA1462 1.444646e-04  0.1294759 0.316 0.183         1\n",
      "GPR126   1.850755e-04  0.1610082 0.450 0.323         1\n",
      "LRRC36   3.033283e-04 -0.1085004 0.155 0.183         1\n",
      "CCDC175  3.182100e-04 -0.1015665 0.093 0.122         1\n",
      "[1] \"saved clones 6 8\"\n"
     ]
    },
    {
     "name": "stderr",
     "output_type": "stream",
     "text": [
      "Saving 6.67 x 6.67 in image\n",
      "\n"
     ]
    },
    {
     "name": "stdout",
     "output_type": "stream",
     "text": [
      "[1] \"plotted clones 6 8\"\n",
      "[1] 6 9\n",
      "[1] \"clones 8\"\n",
      "[1] \"/data2/mito_lineage/output/annotation_clones/data/cd34norm/MTblacklist/DE//donor2/clones_6__9.DE.GeneActivity.csv\"\n",
      "               p_val avg_log2FC pct.1 pct.2  p_val_adj\n",
      "PCDHA10 2.227238e-06  0.2010232 0.597 0.439 0.04456703\n",
      "ABCC4   2.624285e-06  0.2053839 0.656 0.511 0.05251194\n",
      "PCDHA9  2.881924e-06  0.1964047 0.606 0.447 0.05766729\n",
      "MAP2    8.763825e-06  0.1946117 0.565 0.410 0.17536414\n",
      "PCDHA12 1.053237e-05  0.1850388 0.550 0.398 0.21075264\n",
      "PCDHA8  1.359996e-05  0.1822886 0.609 0.458 0.27213521\n",
      "[1] \"saved clones 6 9\"\n"
     ]
    },
    {
     "name": "stderr",
     "output_type": "stream",
     "text": [
      "Saving 6.67 x 6.67 in image\n",
      "\n"
     ]
    },
    {
     "name": "stdout",
     "output_type": "stream",
     "text": [
      "[1] \"plotted clones 6 9\"\n",
      "[1]  6 16\n",
      "[1] \"clones 9\"\n",
      "[1] \"/data2/mito_lineage/output/annotation_clones/data/cd34norm/MTblacklist/DE//donor2/clones_6__16.DE.GeneActivity.csv\"\n",
      "               p_val avg_log2FC pct.1 pct.2 p_val_adj\n",
      "ZNF385B 0.0000721368  0.1846597 0.518 0.417         1\n",
      "RALGPS2 0.0001152294  0.1685417 0.422 0.320         1\n",
      "RPTOR   0.0001258012 -0.2149284 0.640 0.752         1\n",
      "COL4A4  0.0001297685  0.1409061 0.285 0.180         1\n",
      "SYT14   0.0001953869  0.1729575 0.426 0.312         1\n",
      "MAN1C1  0.0002138039 -0.1717686 0.409 0.534         1\n",
      "[1] \"saved clones 6 16\"\n"
     ]
    },
    {
     "name": "stderr",
     "output_type": "stream",
     "text": [
      "Saving 6.67 x 6.67 in image\n",
      "\n"
     ]
    },
    {
     "name": "stdout",
     "output_type": "stream",
     "text": [
      "[1] \"plotted clones 6 16\"\n",
      "[1]  6 19\n",
      "[1] \"clones 10\"\n",
      "[1] \"/data2/mito_lineage/output/annotation_clones/data/cd34norm/MTblacklist/DE//donor2/clones_6__19.DE.GeneActivity.csv\"\n",
      "              p_val avg_log2FC pct.1 pct.2 p_val_adj\n",
      "PIGP   4.158533e-05  0.1097683 0.100 0.010 0.8321224\n",
      "LDHB   8.898171e-05 -0.1647966 0.133 0.178 1.0000000\n",
      "TOP2A  1.669312e-04 -0.1008381 0.078 0.109 1.0000000\n",
      "EMID1  3.895021e-04 -0.1699952 0.199 0.228 1.0000000\n",
      "PCDHA8 3.926632e-04  0.2228348 0.609 0.351 1.0000000\n",
      "HMGCL  4.440951e-04  0.1063357 0.108 0.025 1.0000000\n",
      "[1] \"saved clones 6 19\"\n"
     ]
    },
    {
     "name": "stderr",
     "output_type": "stream",
     "text": [
      "Saving 6.67 x 6.67 in image\n",
      "\n"
     ]
    },
    {
     "name": "stdout",
     "output_type": "stream",
     "text": [
      "[1] \"plotted clones 6 19\"\n",
      "[1]  6 34\n",
      "[1] \"clones 11\"\n"
     ]
    },
    {
     "name": "stderr",
     "output_type": "stream",
     "text": [
      "Warning message:\n",
      "“glm.fit: fitted probabilities numerically 0 or 1 occurred”\n",
      "Warning message:\n",
      "“glm.fit: fitted probabilities numerically 0 or 1 occurred”\n",
      "Warning message:\n",
      "“glm.fit: fitted probabilities numerically 0 or 1 occurred”\n",
      "Warning message:\n",
      "“glm.fit: fitted probabilities numerically 0 or 1 occurred”\n",
      "Warning message:\n",
      "“glm.fit: fitted probabilities numerically 0 or 1 occurred”\n"
     ]
    },
    {
     "name": "stdout",
     "output_type": "stream",
     "text": [
      "[1] \"/data2/mito_lineage/output/annotation_clones/data/cd34norm/MTblacklist/DE//donor2/clones_6__34.DE.GeneActivity.csv\"\n",
      "                p_val avg_log2FC pct.1 pct.2 p_val_adj\n",
      "GCNT1    4.972572e-05  0.1905552 0.159 0.014 0.9950116\n",
      "TMEM184C 6.423814e-05 -0.2006462 0.072 0.131 1.0000000\n",
      "SLC18A2  8.420442e-05 -0.2162472 0.145 0.138 1.0000000\n",
      "ZFP3     1.568592e-04  0.1077080 0.102 0.000 1.0000000\n",
      "TRIM23   1.751903e-04 -0.1840258 0.096 0.103 1.0000000\n",
      "ZNF552   2.848006e-04  0.1114340 0.088 0.000 1.0000000\n",
      "[1] \"saved clones 6 34\"\n"
     ]
    },
    {
     "name": "stderr",
     "output_type": "stream",
     "text": [
      "Saving 6.67 x 6.67 in image\n",
      "\n"
     ]
    },
    {
     "name": "stdout",
     "output_type": "stream",
     "text": [
      "[1] \"plotted clones 6 34\"\n",
      "[1] 8 9\n",
      "[1] \"clones 12\"\n",
      "[1] \"/data2/mito_lineage/output/annotation_clones/data/cd34norm/MTblacklist/DE//donor2/clones_8__9.DE.GeneActivity.csv\"\n",
      "                    p_val avg_log2FC pct.1 pct.2 p_val_adj\n",
      "ADAMTSL1     0.0001151823  0.1912457 0.422 0.342         1\n",
      "RNF169       0.0001457011 -0.1508792 0.220 0.321         1\n",
      "ZNF354A      0.0004558377 -0.1078078 0.092 0.157         1\n",
      "ACTB         0.0004700108  0.1449461 0.163 0.122         1\n",
      "RP11-159G9.5 0.0005590453 -0.1302304 0.215 0.321         1\n",
      "SYNPR        0.0007251948  0.1762106 0.395 0.327         1\n",
      "[1] \"saved clones 8 9\"\n"
     ]
    },
    {
     "name": "stderr",
     "output_type": "stream",
     "text": [
      "Saving 6.67 x 6.67 in image\n",
      "\n"
     ]
    },
    {
     "name": "stdout",
     "output_type": "stream",
     "text": [
      "[1] \"plotted clones 8 9\"\n",
      "[1]  8 16\n",
      "[1] \"clones 13\"\n",
      "[1] \"/data2/mito_lineage/output/annotation_clones/data/cd34norm/MTblacklist/DE//donor2/clones_8__16.DE.GeneActivity.csv\"\n",
      "               p_val avg_log2FC pct.1 pct.2 p_val_adj\n",
      "NDC80   3.056374e-05 -0.1775943 0.126 0.278 0.6115805\n",
      "TLN1    4.078726e-05 -0.1769979 0.181 0.361 0.8161530\n",
      "BCL11A  4.378151e-05 -0.2211066 0.215 0.357 0.8760681\n",
      "RALGPS2 4.076582e-04  0.1746542 0.346 0.320 1.0000000\n",
      "EFTUD2  4.091252e-04 -0.1407828 0.105 0.229 1.0000000\n",
      "SNTB2   4.216956e-04  0.1773266 0.326 0.297 1.0000000\n",
      "[1] \"saved clones 8 16\"\n"
     ]
    },
    {
     "name": "stderr",
     "output_type": "stream",
     "text": [
      "Saving 6.67 x 6.67 in image\n",
      "\n"
     ]
    },
    {
     "name": "stdout",
     "output_type": "stream",
     "text": [
      "[1] \"plotted clones 8 16\"\n",
      "[1]  8 19\n",
      "[1] \"clones 14\"\n",
      "[1] \"/data2/mito_lineage/output/annotation_clones/data/cd34norm/MTblacklist/DE//donor2/clones_8__19.DE.GeneActivity.csv\"\n",
      "               p_val avg_log2FC pct.1 pct.2 p_val_adj\n",
      "SYNM    8.080672e-06  0.1286817 0.115 0.015 0.1616942\n",
      "SLC6A6  7.844916e-05  0.2064096 0.218 0.089 1.0000000\n",
      "SH2D4B  1.127583e-04 -0.1811172 0.062 0.129 1.0000000\n",
      "PDZD7   1.287308e-04  0.1765682 0.156 0.054 1.0000000\n",
      "PLEKHG5 2.822334e-04 -0.2024711 0.156 0.213 1.0000000\n",
      "CFHR4   3.699896e-04  0.1310854 0.098 0.030 1.0000000\n",
      "[1] \"saved clones 8 19\"\n"
     ]
    },
    {
     "name": "stderr",
     "output_type": "stream",
     "text": [
      "Saving 6.67 x 6.67 in image\n",
      "\n"
     ]
    },
    {
     "name": "stdout",
     "output_type": "stream",
     "text": [
      "[1] \"plotted clones 8 19\"\n",
      "[1]  8 34\n",
      "[1] \"clones 15\"\n"
     ]
    },
    {
     "name": "stderr",
     "output_type": "stream",
     "text": [
      "Warning message:\n",
      "“glm.fit: fitted probabilities numerically 0 or 1 occurred”\n",
      "Warning message:\n",
      "“glm.fit: fitted probabilities numerically 0 or 1 occurred”\n",
      "Warning message:\n",
      "“glm.fit: fitted probabilities numerically 0 or 1 occurred”\n"
     ]
    },
    {
     "name": "stdout",
     "output_type": "stream",
     "text": [
      "[1] \"/data2/mito_lineage/output/annotation_clones/data/cd34norm/MTblacklist/DE//donor2/clones_8__34.DE.GeneActivity.csv\"\n",
      "              p_val avg_log2FC pct.1 pct.2 p_val_adj\n",
      "CNDP2  1.800806e-05 -0.1570651 0.009 0.055 0.3603412\n",
      "GRB14  6.438011e-05 -0.3519430 0.181 0.228 1.0000000\n",
      "PRMT7  7.416406e-05  0.2104396 0.179 0.014 1.0000000\n",
      "MKL1   7.646256e-05  0.4261020 0.438 0.172 1.0000000\n",
      "DCHS2  1.054541e-04 -0.4271257 0.285 0.359 1.0000000\n",
      "CLPTM1 1.231975e-04  0.2875600 0.241 0.055 1.0000000\n",
      "[1] \"saved clones 8 34\"\n"
     ]
    },
    {
     "name": "stderr",
     "output_type": "stream",
     "text": [
      "Saving 6.67 x 6.67 in image\n",
      "\n"
     ]
    },
    {
     "name": "stdout",
     "output_type": "stream",
     "text": [
      "[1] \"plotted clones 8 34\"\n",
      "[1]  9 16\n",
      "[1] \"clones 16\"\n",
      "[1] \"/data2/mito_lineage/output/annotation_clones/data/cd34norm/MTblacklist/DE//donor2/clones_9__16.DE.GeneActivity.csv\"\n",
      "               p_val avg_log2FC pct.1 pct.2 p_val_adj\n",
      "DNAJC13 0.0001537419 -0.1703557 0.222 0.391         1\n",
      "SNTB2   0.0002043741  0.1990863 0.344 0.297         1\n",
      "LRRFIP2 0.0002384930 -0.1783871 0.309 0.511         1\n",
      "RIMBP2  0.0003399943  0.2030711 0.451 0.406         1\n",
      "PITPNC1 0.0005576131  0.1941222 0.350 0.327         1\n",
      "TLL1    0.0006590061 -0.1639871 0.228 0.380         1\n",
      "[1] \"saved clones 9 16\"\n"
     ]
    },
    {
     "name": "stderr",
     "output_type": "stream",
     "text": [
      "Saving 6.67 x 6.67 in image\n",
      "\n"
     ]
    },
    {
     "name": "stdout",
     "output_type": "stream",
     "text": [
      "[1] \"plotted clones 9 16\"\n",
      "[1]  9 19\n",
      "[1] \"clones 17\"\n",
      "[1] \"/data2/mito_lineage/output/annotation_clones/data/cd34norm/MTblacklist/DE//donor2/clones_9__19.DE.GeneActivity.csv\"\n",
      "              p_val avg_log2FC pct.1 pct.2 p_val_adj\n",
      "NFE2L1 5.439759e-05 -0.1039901 0.060 0.114         1\n",
      "ZNF77  5.952403e-05  0.1231583 0.104 0.020         1\n",
      "PI4K2B 7.136021e-05  0.2727597 0.412 0.223         1\n",
      "STRBP  1.440513e-04 -0.2371297 0.240 0.282         1\n",
      "WRN    1.475621e-04 -0.2828022 0.244 0.317         1\n",
      "TNKS2  1.882833e-04  0.1750064 0.224 0.079         1\n",
      "[1] \"saved clones 9 19\"\n"
     ]
    },
    {
     "name": "stderr",
     "output_type": "stream",
     "text": [
      "Saving 6.67 x 6.67 in image\n",
      "\n"
     ]
    },
    {
     "name": "stdout",
     "output_type": "stream",
     "text": [
      "[1] \"plotted clones 9 19\"\n",
      "[1]  9 34\n",
      "[1] \"clones 18\"\n"
     ]
    },
    {
     "name": "stderr",
     "output_type": "stream",
     "text": [
      "Warning message:\n",
      "“glm.fit: fitted probabilities numerically 0 or 1 occurred”\n",
      "Warning message:\n",
      "“glm.fit: fitted probabilities numerically 0 or 1 occurred”\n",
      "Warning message:\n",
      "“glm.fit: fitted probabilities numerically 0 or 1 occurred”\n"
     ]
    },
    {
     "name": "stdout",
     "output_type": "stream",
     "text": [
      "[1] \"/data2/mito_lineage/output/annotation_clones/data/cd34norm/MTblacklist/DE//donor2/clones_9__34.DE.GeneActivity.csv\"\n",
      "                p_val avg_log2FC pct.1 pct.2 p_val_adj\n",
      "MKL1     7.880339e-06  0.4287795 0.505 0.172 0.1576856\n",
      "EPB41L4B 1.443605e-05  0.3523821 0.393 0.103 0.2888653\n",
      "FAM72B   6.371008e-05  0.1504627 0.120 0.007 1.0000000\n",
      "SCEL     6.373670e-05 -0.3052880 0.191 0.221 1.0000000\n",
      "KCNK2    9.321894e-05 -0.3883595 0.186 0.234 1.0000000\n",
      "RHPN1    1.097268e-04  0.1422859 0.128 0.000 1.0000000\n",
      "[1] \"saved clones 9 34\"\n"
     ]
    },
    {
     "name": "stderr",
     "output_type": "stream",
     "text": [
      "Saving 6.67 x 6.67 in image\n",
      "\n"
     ]
    },
    {
     "name": "stdout",
     "output_type": "stream",
     "text": [
      "[1] \"plotted clones 9 34\"\n",
      "[1] 16 19\n",
      "[1] \"clones 19\"\n",
      "[1] \"/data2/mito_lineage/output/annotation_clones/data/cd34norm/MTblacklist/DE//donor2/clones_16__19.DE.GeneActivity.csv\"\n",
      "                p_val avg_log2FC pct.1 pct.2 p_val_adj\n",
      "CALCB    4.065194e-05 -0.2617596 0.278 0.317 0.8134452\n",
      "PIK3R2.1 1.408373e-04  0.1849349 0.256 0.059 1.0000000\n",
      "TRIM36   1.542361e-04  0.1116900 0.113 0.015 1.0000000\n",
      "MMD2     2.141165e-04 -0.1520137 0.143 0.149 1.0000000\n",
      "PHF5A    2.537623e-04  0.1030114 0.071 0.005 1.0000000\n",
      "ST8SIA2  2.855279e-04 -0.2463827 0.207 0.252 1.0000000\n",
      "[1] \"saved clones 16 19\"\n"
     ]
    },
    {
     "name": "stderr",
     "output_type": "stream",
     "text": [
      "Saving 6.67 x 6.67 in image\n",
      "\n"
     ]
    },
    {
     "name": "stdout",
     "output_type": "stream",
     "text": [
      "[1] \"plotted clones 16 19\"\n",
      "[1] 16 34\n",
      "[1] \"clones 20\"\n"
     ]
    },
    {
     "name": "stderr",
     "output_type": "stream",
     "text": [
      "Warning message:\n",
      "“glm.fit: fitted probabilities numerically 0 or 1 occurred”\n",
      "Warning message:\n",
      "“glm.fit: fitted probabilities numerically 0 or 1 occurred”\n",
      "Warning message:\n",
      "“glm.fit: fitted probabilities numerically 0 or 1 occurred”\n"
     ]
    },
    {
     "name": "stdout",
     "output_type": "stream",
     "text": [
      "[1] \"/data2/mito_lineage/output/annotation_clones/data/cd34norm/MTblacklist/DE//donor2/clones_16__34.DE.GeneActivity.csv\"\n",
      "                p_val avg_log2FC pct.1 pct.2 p_val_adj\n",
      "TMEM184C 2.710318e-05 -0.2319885 0.049 0.131 0.5423346\n",
      "WDR7     3.502971e-05 -0.3215674 0.462 0.366 0.7009444\n",
      "C18orf25 6.763250e-05 -0.2038346 0.071 0.110 1.0000000\n",
      "ADARB1   1.097928e-04  0.3625112 0.481 0.103 1.0000000\n",
      "SPATA17  1.271767e-04 -0.3331985 0.203 0.241 1.0000000\n",
      "TSNAX    1.754542e-04 -0.1882991 0.135 0.131 1.0000000\n",
      "[1] \"saved clones 16 34\"\n"
     ]
    },
    {
     "name": "stderr",
     "output_type": "stream",
     "text": [
      "Saving 6.67 x 6.67 in image\n",
      "\n"
     ]
    },
    {
     "name": "stdout",
     "output_type": "stream",
     "text": [
      "[1] \"plotted clones 16 34\"\n",
      "[1] 19 34\n",
      "[1] \"clones 21\"\n"
     ]
    },
    {
     "name": "stderr",
     "output_type": "stream",
     "text": [
      "Warning message:\n",
      "“glm.fit: fitted probabilities numerically 0 or 1 occurred”\n",
      "Warning message:\n",
      "“glm.fit: fitted probabilities numerically 0 or 1 occurred”\n",
      "Warning message:\n",
      "“glm.fit: fitted probabilities numerically 0 or 1 occurred”\n",
      "Warning message:\n",
      "“glm.fit: fitted probabilities numerically 0 or 1 occurred”\n",
      "Warning message:\n",
      "“glm.fit: fitted probabilities numerically 0 or 1 occurred”\n",
      "Warning message:\n",
      "“glm.fit: fitted probabilities numerically 0 or 1 occurred”\n",
      "Warning message:\n",
      "“glm.fit: fitted probabilities numerically 0 or 1 occurred”\n"
     ]
    },
    {
     "name": "stdout",
     "output_type": "stream",
     "text": [
      "[1] \"/data2/mito_lineage/output/annotation_clones/data/cd34norm/MTblacklist/DE//donor2/clones_19__34.DE.GeneActivity.csv\"\n",
      "                    p_val avg_log2FC pct.1 pct.2 p_val_adj\n",
      "TMEM184C     2.417734e-05 -0.2271923 0.040 0.131 0.4837886\n",
      "USP32        2.959033e-05  0.4735485 0.748 0.428 0.5921026\n",
      "RP11-176H8.1 3.526407e-05 -0.3561316 0.094 0.152 0.7056340\n",
      "CWF19L2      6.741793e-05 -0.3599867 0.084 0.193 1.0000000\n",
      "PLCXD2       7.491761e-05 -0.4021093 0.188 0.303 1.0000000\n",
      "ACSF2        1.318279e-04  0.2402626 0.178 0.014 1.0000000\n",
      "[1] \"saved clones 19 34\"\n"
     ]
    },
    {
     "name": "stderr",
     "output_type": "stream",
     "text": [
      "Saving 6.67 x 6.67 in image\n",
      "\n"
     ]
    },
    {
     "name": "stdout",
     "output_type": "stream",
     "text": [
      "[1] \"plotted clones 19 34\"\n",
      "[1] \"donor\"\n",
      "[1] 3\n"
     ]
    },
    {
     "name": "stderr",
     "output_type": "stream",
     "text": [
      "\u001b[1m\u001b[1mRows: \u001b[1m\u001b[22m\u001b[34m\u001b[34m39\u001b[34m\u001b[39m \u001b[1m\u001b[1mColumns: \u001b[1m\u001b[22m\u001b[34m\u001b[34m8\u001b[34m\u001b[39m\n",
      "\n",
      "\u001b[36m──\u001b[39m \u001b[1m\u001b[1mColumn specification\u001b[1m\u001b[22m \u001b[36m──────────────────────────────────────────────────────────────────────────────────────────────────────────────────────────────────────────────────────────────────────────────────────────────────────────────────────\u001b[39m\n",
      "\u001b[1mDelimiter:\u001b[22m \",\"\n",
      "\u001b[32mdbl\u001b[39m (8): lineage, # Control Cells in Cluster, # Flt3l Cells in Cluster, Flt3...\n",
      "\n",
      "\n",
      "\u001b[36mℹ\u001b[39m Use \u001b[30m\u001b[47m\u001b[30m\u001b[47m`spec()`\u001b[47m\u001b[30m\u001b[49m\u001b[39m to retrieve the full column specification for this data.\n",
      "\u001b[36mℹ\u001b[39m Specify the column types or set \u001b[30m\u001b[47m\u001b[30m\u001b[47m`show_col_types = FALSE`\u001b[47m\u001b[30m\u001b[49m\u001b[39m to quiet this message.\n",
      "\n"
     ]
    },
    {
     "name": "stdout",
     "output_type": "stream",
     "text": [
      " [1] \"lineage\"                     \"X..Control.Cells.in.Cluster\"\n",
      " [3] \"X..Flt3l.Cells.in.Cluster\"   \"Flt3l.fold.enrichment.norm\" \n",
      " [5] \"hypergeom.p\"                 \"Fisher.p\"                   \n",
      " [7] \"Fisher..log10p\"              \"X.log10p\"                   \n",
      " [9] \"log2.enrichment\"             \"p.adj\"                      \n",
      "[11] \"donor\"                      \n"
     ]
    },
    {
     "name": "stderr",
     "output_type": "stream",
     "text": [
      "Warning message in dir.create(curr.outdir):\n",
      "“'/data2/mito_lineage/output/annotation_clones/data/cd34norm/MTblacklist/DE//donor3' already exists”\n",
      "Saving 6.67 x 6.67 in image\n",
      "\n"
     ]
    },
    {
     "name": "stdout",
     "output_type": "stream",
     "text": [
      "[1] \"clone stats\"\n",
      "[1] \"p<0.1\"\n",
      "[1] 11\n",
      "[1] \"p<0.05\"\n",
      "[1] 10\n",
      "[1] \"p<0.01\"\n",
      "[1] 8\n",
      "[1] \"fold>1.5\"\n",
      "[1] 3\n",
      "[1] \"fold>1\"\n",
      "[1] 13\n",
      "[1] \"fold>1.5 and p <0.05\"\n",
      "[1] 1\n",
      "[1] \"clones.filt\"\n",
      "   lineage X..Control.Cells.in.Cluster X..Flt3l.Cells.in.Cluster\n",
      "2        1                          90                       438\n",
      "5        4                          42                       150\n",
      "8        7                          31                       114\n",
      "37      36                         308                       146\n",
      "   Flt3l.fold.enrichment.norm  hypergeom.p     Fisher.p Fisher..log10p\n",
      "2                   2.7392381 2.331357e-12 1.234536e-24      23.908497\n",
      "5                   2.0102041 4.888618e-06 1.937883e-05       4.712673\n",
      "8                   2.0698618 3.445311e-05 1.344699e-04       3.871375\n",
      "37                  0.2668089 1.000000e+00 0.000000e+00       0.000000\n",
      "    X.log10p log2.enrichment        p.adj donor\n",
      "2  11.632391        1.453775 2.407346e-23     3\n",
      "5   5.310814        1.007342 1.889436e-04     3\n",
      "8   4.462772        1.049534 1.048866e-03     3\n",
      "37  0.000000       -1.906121 0.000000e+00     3\n",
      "[1] 1 4\n",
      "[1] \"clones 1\"\n",
      "[1] \"/data2/mito_lineage/output/annotation_clones/data/cd34norm/MTblacklist/DE//donor3/clones_1__4.DE.GeneActivity.csv\"\n",
      "                    p_val avg_log2FC pct.1 pct.2 p_val_adj\n",
      "RIN3         4.228187e-05  0.1376093 0.504 0.429 0.8460602\n",
      "PRR16        5.658724e-05 -0.1515364 0.225 0.282 1.0000000\n",
      "CHMP3        3.909946e-04  0.1188769 0.322 0.267 1.0000000\n",
      "RNF103-CHMP3 4.481123e-04  0.1178642 0.322 0.267 1.0000000\n",
      "DAAM1        4.771780e-04  0.1106848 0.276 0.214 1.0000000\n",
      "STON2        6.275021e-04 -0.1063498 0.273 0.333 1.0000000\n",
      "[1] \"saved clones 1 4\"\n"
     ]
    },
    {
     "name": "stderr",
     "output_type": "stream",
     "text": [
      "Saving 6.67 x 6.67 in image\n",
      "\n"
     ]
    },
    {
     "name": "stdout",
     "output_type": "stream",
     "text": [
      "[1] \"plotted clones 1 4\"\n",
      "[1] 1 7\n",
      "[1] \"clones 2\"\n",
      "[1] \"/data2/mito_lineage/output/annotation_clones/data/cd34norm/MTblacklist/DE//donor3/clones_1__7.DE.GeneActivity.csv\"\n",
      "                p_val avg_log2FC pct.1 pct.2 p_val_adj\n",
      "NFATC3   8.337011e-05  0.1381806 0.369 0.318         1\n",
      "ENTPD4   2.723707e-04  0.1130216 0.237 0.184         1\n",
      "SLC25A17 2.955735e-04 -0.1008113 0.149 0.224         1\n",
      "ARHGAP44 3.015021e-04  0.1009393 0.175 0.126         1\n",
      "WHSC1L1  3.690817e-04  0.1137787 0.400 0.347         1\n",
      "TYW1     5.029955e-04 -0.1259878 0.446 0.545         1\n",
      "[1] \"saved clones 1 7\"\n"
     ]
    },
    {
     "name": "stderr",
     "output_type": "stream",
     "text": [
      "Saving 6.67 x 6.67 in image\n",
      "\n"
     ]
    },
    {
     "name": "stdout",
     "output_type": "stream",
     "text": [
      "[1] \"plotted clones 1 7\"\n",
      "[1]  1 36\n",
      "[1] \"clones 3\"\n",
      "[1] \"/data2/mito_lineage/output/annotation_clones/data/cd34norm/MTblacklist/DE//donor3/clones_1__36.DE.GeneActivity.csv\"\n",
      "              p_val avg_log2FC pct.1 pct.2  p_val_adj\n",
      "RBFOX2 9.914827e-07  0.2223521 0.629 0.443 0.01983957\n",
      "CHID1  7.676256e-06  0.1064405 0.121 0.041 0.15360188\n",
      "SKAP1  1.850164e-05  0.1879569 0.312 0.184 0.37021772\n",
      "CELSR2 3.112599e-05  0.1256282 0.179 0.086 0.62283100\n",
      "PRCC   3.131462e-05  0.1815436 0.381 0.233 0.62660549\n",
      "MARK4  3.700159e-05  0.1674165 0.587 0.400 0.74040174\n",
      "[1] \"saved clones 1 36\"\n"
     ]
    },
    {
     "name": "stderr",
     "output_type": "stream",
     "text": [
      "Saving 6.67 x 6.67 in image\n",
      "\n"
     ]
    },
    {
     "name": "stdout",
     "output_type": "stream",
     "text": [
      "[1] \"plotted clones 1 36\"\n",
      "[1] 4 7\n",
      "[1] \"clones 4\"\n",
      "[1] \"/data2/mito_lineage/output/annotation_clones/data/cd34norm/MTblacklist/DE//donor3/clones_4__7.DE.GeneActivity.csv\"\n",
      "                p_val avg_log2FC pct.1 pct.2 p_val_adj\n",
      "MINK1    5.574519e-05 -0.1177017 0.152 0.243         1\n",
      "ARHGAP44 5.956416e-05  0.1285343 0.185 0.126         1\n",
      "ENOPH1   1.170251e-04 -0.1125818 0.114 0.173         1\n",
      "FAM179A  1.322529e-04 -0.1198925 0.151 0.238         1\n",
      "SEMA5B   2.574370e-04 -0.1246056 0.235 0.324         1\n",
      "STEAP1B  2.271086e-03 -0.1082195 0.371 0.467         1\n",
      "[1] \"saved clones 4 7\"\n"
     ]
    },
    {
     "name": "stderr",
     "output_type": "stream",
     "text": [
      "Saving 6.67 x 6.67 in image\n",
      "\n"
     ]
    },
    {
     "name": "stdout",
     "output_type": "stream",
     "text": [
      "[1] \"plotted clones 4 7\"\n",
      "[1]  4 36\n",
      "[1] \"clones 5\"\n",
      "[1] \"/data2/mito_lineage/output/annotation_clones/data/cd34norm/MTblacklist/DE//donor3/clones_4__36.DE.GeneActivity.csv\"\n",
      "                 p_val avg_log2FC pct.1 pct.2   p_val_adj\n",
      "PRCC      1.625619e-07  0.2463904 0.416 0.233 0.003252864\n",
      "LRRIQ1    2.938382e-07  0.2138979 0.393 0.225 0.005879702\n",
      "MARK4     1.822162e-05  0.1931191 0.592 0.400 0.364614690\n",
      "C20orf112 2.206394e-05  0.1404471 0.170 0.076 0.441499460\n",
      "ZNF385C   3.251256e-05  0.1060563 0.128 0.048 0.650576252\n",
      "SKAP1     4.134506e-05  0.2018444 0.321 0.184 0.827314684\n",
      "[1] \"saved clones 4 36\"\n"
     ]
    },
    {
     "name": "stderr",
     "output_type": "stream",
     "text": [
      "Saving 6.67 x 6.67 in image\n",
      "\n"
     ]
    },
    {
     "name": "stdout",
     "output_type": "stream",
     "text": [
      "[1] \"plotted clones 4 36\"\n",
      "[1]  7 36\n",
      "[1] \"clones 6\"\n",
      "[1] \"/data2/mito_lineage/output/annotation_clones/data/cd34norm/MTblacklist/DE//donor3/clones_7__36.DE.GeneActivity.csv\"\n",
      "               p_val avg_log2FC pct.1 pct.2  p_val_adj\n",
      "PHF20   4.521830e-06  0.2179297 0.407 0.222 0.09048182\n",
      "ZNF385C 1.033550e-05  0.1165424 0.148 0.048 0.20681340\n",
      "ATP7B   4.765051e-05 -0.1196267 0.056 0.095 0.95348669\n",
      "CYP4B1  1.152290e-04  0.1477929 0.296 0.145 1.00000000\n",
      "MLF2    1.185758e-04  0.1204039 0.153 0.060 1.00000000\n",
      "NRCAM   1.530772e-04  0.1618550 0.607 0.382 1.00000000\n",
      "[1] \"saved clones 7 36\"\n"
     ]
    },
    {
     "name": "stderr",
     "output_type": "stream",
     "text": [
      "Saving 6.67 x 6.67 in image\n",
      "\n"
     ]
    },
    {
     "name": "stdout",
     "output_type": "stream",
     "text": [
      "[1] \"plotted clones 7 36\"\n",
      "[1] \"donor\"\n",
      "[1] 4\n"
     ]
    },
    {
     "ename": "ERROR",
     "evalue": "Error: '/data2/mito_lineage/output/pipeline/cd34norm/MTblacklist/data/merged/MT/cellr_True/numread_200/filters/minC10_minR50_topN0_hetT0.001_hetC10_hetCount5_bq20/mgatk/vireoIn/clones/variants_mgatkdonor/knn/kparam_3/enrichment/enrichmentNorm_donor4.csv' does not exist.\n",
     "output_type": "error",
     "traceback": [
      "Error: '/data2/mito_lineage/output/pipeline/cd34norm/MTblacklist/data/merged/MT/cellr_True/numread_200/filters/minC10_minR50_topN0_hetT0.001_hetC10_hetCount5_bq20/mgatk/vireoIn/clones/variants_mgatkdonor/knn/kparam_3/enrichment/enrichmentNorm_donor4.csv' does not exist.\nTraceback:\n",
      "1. load_enrich(curr_enrich_f)",
      "2. as.data.frame(readr::read_csv(enrich_f))   # at line 2 of file <text>",
      "3. readr::read_csv(enrich_f)   # at line 2 of file <text>",
      "4. vroom::vroom(file, delim = \",\", col_names = col_names, col_types = col_types, \n .     col_select = {\n .         {\n .             col_select\n .         }\n .     }, id = id, .name_repair = name_repair, skip = skip, n_max = n_max, \n .     na = na, quote = quote, comment = comment, skip_empty_rows = skip_empty_rows, \n .     trim_ws = trim_ws, escape_double = TRUE, escape_backslash = FALSE, \n .     locale = locale, guess_max = guess_max, show_col_types = show_col_types, \n .     progress = progress, altrep = lazy, num_threads = num_threads)",
      "5. vroom_(file, delim = delim %||% col_types$delim, col_names = col_names, \n .     col_types = col_types, id = id, skip = skip, col_select = col_select, \n .     name_repair = .name_repair, na = na, quote = quote, trim_ws = trim_ws, \n .     escape_double = escape_double, escape_backslash = escape_backslash, \n .     comment = comment, skip_empty_rows = skip_empty_rows, locale = locale, \n .     guess_max = guess_max, n_max = n_max, altrep = vroom_altrep(altrep), \n .     num_threads = num_threads, progress = progress)",
      "6. (function (path, write = FALSE) \n . {\n .     if (is.raw(path)) {\n .         return(rawConnection(path, \"rb\"))\n .     }\n .     if (!is.character(path)) {\n .         return(path)\n .     }\n .     if (is_url(path)) {\n .         if (requireNamespace(\"curl\", quietly = TRUE)) {\n .             con <- curl::curl(path)\n .         }\n .         else {\n .             rlang::inform(\"`curl` package not installed, falling back to using `url()`\")\n .             con <- url(path)\n .         }\n .         ext <- tolower(tools::file_ext(path))\n .         return(switch(ext, zip = , bz2 = , xz = {\n .             close(con)\n .             stop(\"Reading from remote `\", ext, \"` compressed files is not supported,\\n\", \n .                 \"  download the files locally first.\", call. = FALSE)\n .         }, gz = gzcon(con), con))\n .     }\n .     p <- split_path_ext(basename(path))\n .     if (write) {\n .         path <- normalizePath(path, mustWork = FALSE)\n .     }\n .     else {\n .         path <- check_path(path)\n .     }\n .     if (rlang::is_installed(\"archive\")) {\n .         formats <- archive_formats(p$extension)\n .         extension <- p$extension\n .         while (is.null(formats) && nzchar(extension)) {\n .             extension <- split_path_ext(extension)$extension\n .             formats <- archive_formats(extension)\n .         }\n .         if (!is.null(formats)) {\n .             p$extension <- extension\n .             if (write) {\n .                 if (is.null(formats[[1]])) {\n .                   return(archive::file_write(path, filter = formats[[2]]))\n .                 }\n .                 return(archive::archive_write(path, p$path, format = formats[[1]], \n .                   filter = formats[[2]]))\n .             }\n .             if (is.null(formats[[1]])) {\n .                 return(archive::file_read(path, filter = formats[[2]]))\n .             }\n .             return(archive::archive_read(path, format = formats[[1]], \n .                 filter = formats[[2]]))\n .         }\n .     }\n .     if (!write) {\n .         compression <- detect_compression(path)\n .     }\n .     else {\n .         compression <- NA\n .     }\n .     if (is.na(compression)) {\n .         compression <- tools::file_ext(path)\n .     }\n .     if (write && compression == \"zip\") {\n .         stop(\"Can only read from, not write to, .zip\", call. = FALSE)\n .     }\n .     switch(compression, gz = gzfile(path, \"\"), bz2 = bzfile(path, \n .         \"\"), xz = xzfile(path, \"\"), zip = zipfile(path, \"\"), \n .         if (!has_trailing_newline(path)) {\n .             file(path)\n .         } else {\n .             path\n .         })\n . })(\"/data2/mito_lineage/output/pipeline/cd34norm/MTblacklist/data/merged/MT/cellr_True/numread_200/filters/minC10_minR50_topN0_hetT0.001_hetC10_hetCount5_bq20/mgatk/vireoIn/clones/variants_mgatkdonor/knn/kparam_3/enrichment/enrichmentNorm_donor4.csv\")",
      "7. check_path(path)",
      "8. stop(\"'\", path, \"' does not exist\", if (!is_absolute_path(path)) {\n .     paste0(\" in current working directory ('\", getwd(), \"')\")\n . }, \".\", call. = FALSE)"
     ]
    }
   ],
   "source": [
    "for (d in 0:(N_DONORS-1)){\n",
    "    print('donor')\n",
    "    print(d)\n",
    "    curr_enrich_f <- file.path(enrich_d, paste0(\"enrichmentNorm_donor\",d,\".csv\"))\n",
    "    curr_enrich <- load_enrich(curr_enrich_f) #as.data.frame(readr::read_csv(curr_enrich_f)) # %>% tidyr::unite(barcode)\n",
    "    curr_enrich$donor = d\n",
    "    print(colnames(curr_enrich))\n",
    "    curr.outdir <- file.path(outdir, paste0(\"donor\", d))\n",
    "    dir.create(curr.outdir)\n",
    "    p1 <- ggplot(curr_enrich, aes_string(\"log2.enrichment\", \"Fisher..log10p\")) + geom_point()\n",
    "    p2 <- ggplot(curr_enrich, aes_string(\"p.adj\", \"Fisher.p\")) + geom_point()\n",
    "    ggsave(p1, file = file.path(curr.outdir, paste0(\"enrich_pval.png\")))\n",
    "    stats_enrich(curr_enrich)\n",
    "\n",
    "    ## Use p-adjusted significant value and log 2 threshold cut-off 0.05 and 1.5\n",
    "    clones.filt <- curr_enrich[(abs(curr_enrich$log2.enrichment) > 1) & (curr_enrich$p.adj < 0.01),]\n",
    "    print('clones.filt')\n",
    "    print(clones.filt)\n",
    "    \n",
    "    ## Filter by clones\n",
    "    se.filt <- subset(se, subset = (lineage %in% clones.filt$lineage) & (clones.filt$donor == d) )\n",
    "    Idents(se.filt) <- se.filt$lineage\n",
    "\n",
    "    DefaultAssay(se.filt) <- \"RNA\"\n",
    "\n",
    "    ## Run DE on pairs of significant clones\n",
    "    #(compare regressions vs expansions too)\n",
    "    run_de(se.filt, clones.filt, curr.outdir)\n",
    "\n",
    "    write.csv(curr_enrich[order(curr_enrich$p.adj),c('lineage', 'p.adj')], file=file.path(curr.outdir, paste0(\"enrich_order.txt\")), quote=F)    \n",
    "}"
   ]
  },
  {
   "cell_type": "code",
   "execution_count": null,
   "id": "19fa700a",
   "metadata": {},
   "outputs": [],
   "source": [
    "# for (d in 0:(N_DONORS-1)){\n",
    "#     curr_enrich_f <- file.path(enrich_d, paste0(\"enrichmentNorm_donor\",d,\".csv\"))\n",
    "#     curr_enrich <- load_enrich(curr_enrich_f) #as.data.frame(readr::read_csv(curr_enrich_f)) # %>% tidyr::unite(barcode)\n",
    "#     curr_enrich$donor = d\n",
    "#     print(colnames(curr_enrich))\n",
    "#     curr.outdir <- file.path(outdir, paste0(\"donor\", d))\n",
    "\n",
    "#     ## Use p-adjusted significant value and log 2 threshold cut-off 0.05 and 1.5\n",
    "#     clones.filt <- curr_enrich[(abs(curr_enrich$log2.enrichment) > 1) & (curr_enrich$p.adj < 0.01),]\n",
    "#     print('clones.filt')\n",
    "#     print(clones.filt)\n",
    "    \n",
    "#     ## Filter by clones\n",
    "#     se.filt <- subset(se, subset = (lineage %in% clones.filt$lineage) & (clones.filt$donor == d) )\n",
    "#     Idents(se.filt) <- se.filt$lineage\n",
    "#     DefaultAssay(se.filt) <- \"RNA\"\n",
    "\n",
    "\n",
    "#     for (i in 1:dim(combn(clones.filt.ids,2))[2]){\n",
    "#         a = pairs[1,i]\n",
    "#         b = pairs[2,i]\n",
    "#         da.peaks = read.csv(file=file.path(curr.outdir, paste0(\"clones_\",a,\"__\", b,\".DE.GeneActivity.csv\")))\n",
    "#     a\n",
    "#         }\n",
    "#     }\n"
   ]
  },
  {
   "cell_type": "code",
   "execution_count": null,
   "id": "370910aa",
   "metadata": {},
   "outputs": [],
   "source": []
  },
  {
   "cell_type": "markdown",
   "id": "0d505bf1",
   "metadata": {},
   "source": [
    "## Read in DE results and summarize\n",
    "a. average DE for each clone to others, take the top one"
   ]
  },
  {
   "cell_type": "code",
   "execution_count": null,
   "id": "aad33408",
   "metadata": {},
   "outputs": [],
   "source": []
  },
  {
   "cell_type": "code",
   "execution_count": null,
   "id": "0e22c73b",
   "metadata": {},
   "outputs": [],
   "source": [
    "# enrich <- as.data.frame(readr::read_csv(enrich_f)) # %>% tidyr::unite(barcode)\n",
    "# #rownames(enrich) = enrich$ID\n",
    "# colnames(enrich) <- make.names(colnames(enrich))\n",
    "\n",
    "# enrich$log2.enrichment <- log2(enrich$Flt3l.fold.enrichment.norm)\n",
    "# enrich$p.adj <- p.adjust(enrich$Fisher.p, method = \"BH\")\n",
    "# ggplot(enrich, aes_string(\"log2.enrichment\", \"Fisher..log10p\")) + geom_point()\n",
    "# ggplot(enrich, aes_string(\"p.adj\", \"Fisher.p\")) + geom_point()\n",
    "# stats_enrich(enrich)\n",
    "\n",
    "# ## Use p-adjusted significant value and log 2 threshold cut-off 0.05 and 1.5\n",
    "# clones.filt <- enrich[(abs(enrich$log2.enrichment) > 1) & (enrich$p.adj < 0.01),]\n",
    "\n",
    "# ## Filter by clones\n",
    "# se.filt <- subset(se, subset = (lineage %in% clones.filt$lineage) & (clones.filt$donor == d) )\n",
    "# Idents(se.filt) <- se.filt$lineage\n",
    "\n",
    "# DefaultAssay(se.filt) <- \"RNA\"\n",
    "\n",
    "# ## Run DE on pairs of significant clones\n",
    "# #(compare regressions vs expansions too)\n",
    "# run_de(se.filt, clones.filt, curr.outdir)\n",
    "\n",
    "# write.csv(enrich[order(enrich$p.adj),c('lineage', 'p.adj')], file=file.path(outdir, paste0(\"enrich_order.txt\")), quote=F)"
   ]
  },
  {
   "cell_type": "code",
   "execution_count": null,
   "id": "d0bb4475",
   "metadata": {},
   "outputs": [],
   "source": [
    "# clones.filt.ids <- clones.filt$lineage\n",
    "# pairs = combn(clones.filt.ids,2)\n",
    "\n",
    "# for (i in 1:dim(combn(clones.filt.ids,2))[2]){\n",
    "#     print(pairs[,i])\n",
    "\n",
    "\n",
    "# try({\n",
    "#     print(paste(\"clones\", i))\n",
    "#     a = pairs[1,i]\n",
    "#     b = pairs[2,i]\n",
    "#     da.peaks <- FindMarkers(\n",
    "#                   object = se.filt,\n",
    "#                   ident.1 = a,\n",
    "#                   ident.2 = b, #\"CD4 Naive\",\n",
    "#                   min.pct = 0.01,\n",
    "#                   logfc.threshold = 0.1,\n",
    "#                   test.use = 'LR', latent.vars = 'peak_region_fragments'\n",
    "#                 )\n",
    "#     print(file.path(outdir, paste0(\"clones_\",a,\"__\", b,\".DE.GeneActivity.csv\")))\n",
    "#     print(head(da.peaks))\n",
    "#     write.csv(da.peaks, file=file.path(outdir, paste0(\"clones_\",a,\"__\", b,\".DE.GeneActivity.csv\")),\n",
    "#              quote=FALSE)\n",
    "#     print(paste('saved clones', a,b))\n",
    "#     plotDE(se.filt, da.peaks, a,b, outdir)\n",
    "#     print(paste('plotted clones', a, b))\n",
    "    \n",
    "# })\n",
    "# }\n",
    "\n"
   ]
  },
  {
   "cell_type": "code",
   "execution_count": null,
   "id": "510dea00",
   "metadata": {},
   "outputs": [],
   "source": []
  },
  {
   "cell_type": "code",
   "execution_count": null,
   "id": "19d63abc",
   "metadata": {},
   "outputs": [],
   "source": [
    "# # add motif information\n",
    "#se.filt\n",
    "# chrom.assay <- AddMotifs(chrom.assay, genome = fa.file, pfm = pwm)\n",
    "\n",
    "# for (c in clones.filt.ids){ #or however many clusters you have\n",
    "# try({\n",
    "#     print(paste(\"cluster\", c))\n",
    "#     da <- FindMarkers(\n",
    "#       object = integrated,\n",
    "#       ident.1 = c,\n",
    "#       only.pos = TRUE,\n",
    "#       mean.fxn = rowMeans,\n",
    "#       fc.name = \"avg_diff\"\n",
    "#     )\n",
    "\n",
    "#     print(file.path(clust_outdir, paste0(\"cluster_\",c,\".DE.TF.csv\")))\n",
    "#     print(head(da))\n",
    "#     write.csv(da, file=file.path(clust_outdir, paste0(\"cluster_\",c,\".DE.TF.csv\")))\n",
    "#     print(paste('saved cluster', c))\n",
    "#     plotDE(integrated, da, c, clust_outdir)\n",
    "#     print(paste('plotted cluster', c))\n",
    "    \n",
    "# })\n",
    "# }"
   ]
  },
  {
   "cell_type": "code",
   "execution_count": null,
   "id": "f9eac2fc",
   "metadata": {},
   "outputs": [],
   "source": []
  }
 ],
 "metadata": {
  "celltoolbar": "Tags",
  "kernelspec": {
   "display_name": "R",
   "language": "R",
   "name": "ir"
  },
  "language_info": {
   "codemirror_mode": "r",
   "file_extension": ".r",
   "mimetype": "text/x-r-source",
   "name": "R",
   "pygments_lexer": "r",
   "version": "4.1.1"
  }
 },
 "nbformat": 4,
 "nbformat_minor": 5
}
