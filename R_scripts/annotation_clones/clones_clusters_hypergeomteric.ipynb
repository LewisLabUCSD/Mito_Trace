{
 "cells": [
  {
   "cell_type": "markdown",
   "id": "223d6f46",
   "metadata": {},
   "source": [
    "## Runs DE on different clusters. Also runs DE within each cluster for each condition.\n",
    "Does this over each donor and combined"
   ]
  },
  {
   "cell_type": "code",
   "execution_count": 1,
   "id": "235ae72f",
   "metadata": {
    "tags": [
     "parameters"
    ]
   },
   "outputs": [],
   "source": [
    "# Input info\n",
    "# se_f = \"/data/Mito_Trace/output/pipeline/DUPI_april08_2021/MTblacklist_mtasnucl_Bonly/data/merged/MT/cellr_True/numread_200/filters/minC10_minR50_topN0_hetT0.001_hetC10_hetCount5_bq20/mgatk/vireoIn/clones/variants_init/knn/kparam_3/concat/gff_hg38_1_2/annotation_clones/SE.rds\"\n",
    "# sample_names = \"preB,postB\"\n",
    "# outdir = \"/data/Mito_Trace/output/pipeline/DUPI_april08_2021/MTblacklist_mtasnucl_Bonly/data/merged/MT/cellr_True/numread_200/filters/minC10_minR50_topN0_hetT0.001_hetC10_hetCount5_bq20/mgatk/vireoIn/clones/variants_init/knn/kparam_3/concat/gff_hg38_1_2/annotation_clones/de_btwnCond_RNA/minPct_0_logfc0.01\"\n",
    "# top_de = 3\n",
    "# se_f = \"/data/Mito_Trace/output/pipeline/TcellDupi_may17_2021/MTblacklist/data/merged/MT/cellr_True/numread_200/filters/minC10_minR50_topN0_hetT0.001_hetC10_hetCount5_bq20/mgatk/vireoIn/clones/variants_init/knn/kparam_3/concat/gff_hg38_1_2/annotation_clones/SE.rds\" \n",
    "# outdir = \"/data/Mito_Trace/output/pipeline/TcellDupi_may17_2021/MTblacklist/data/merged/MT/cellr_True/numread_200/filters/minC10_minR50_topN0_hetT0.001_hetC10_hetCount5_bq20/mgatk/vireoIn/clones/variants_init/knn/kparam_3/concat/gff_hg38_1_2/annotation_clones\"\n",
    "# top_de = 3\n",
    "# sample_names = \"pre,post\"\n",
    "\n",
    "\n",
    "se_f = \"/data/Mito_Trace/output/pipeline/DUPI_april08_2021/MTblacklist_mtasnucl_Bonly/data/merged/MT/cellr_True/numread_200/filters/minC10_minR50_topN0_hetT0.001_hetC10_hetCount5_bq20/mgatk/vireoIn/clones/variants_init/knn/kparam_3/concat/gff_hg38_1_2/annotation_clones/SE.rds\"\n",
    "large_clones_f = \"/data/Mito_Trace/output/pipeline/DUPI_april08_2021/MTblacklist_mtasnucl_Bonly/data/merged/MT/cellr_True/numread_200/filters/minC10_minR50_topN0_hetT0.001_hetC10_hetCount5_bq20/mgatk/vireoIn/clones/variants_mgatkdonor/vireo/nclones20/annotation_clones/DE_large/large_clones.csv\"\n",
    "n_clones_to_plot = 15\n",
    "top_clones = 40\n",
    "\n",
    "p_thresh = 0.1 \n",
    "outdir = \"/data/Mito_Trace/output/pipeline/DUPI_april08_2021/MTblacklist_mtasnucl_Bonly/data/merged/MT/cellr_True/numread_200/filters/minC10_minR50_topN0_hetT0.001_hetC10_hetCount5_bq20/mgatk/vireoIn/clones/variants_init/knn/kparam_3/concat/gff_hg38_1_2/annotation_clones/de_clone_btwncond_RNA/\" \n",
    "top_de = 3\n",
    "sample_names = \"preB,postB\"\n",
    "\n",
    "# Input info\n",
    "# se_f = \"/data/Mito_Trace/output/pipeline/DUPI_april08_2021/MTblacklist_mtasnucl_Bonly/data/merged/MT/cellr_True/numread_200/filters/minC10_minR50_topN0_hetT0.001_hetC10_hetCount5_bq20/mgatk/vireoIn/clones/variants_init/knn/kparam_3/concat/annotation_clones/SE.rds\"\n",
    "# sample_names = \"preB,postB\"\n",
    "# outdir = \"/data/Mito_Trace/output/pipeline/DUPI_april08_2021/MTblacklist_mtasnucl_Bonly/data/merged/MT/cellr_True/numread_200/filters/minC10_minR50_topN0_hetT0.001_hetC10_hetCount5_bq20/mgatk/vireoIn/clones/variants_init/knn/kparam_3/concat/annotation_clones/genes_donors_DE_minPct_00_pval0.1\"\n",
    "\n",
    "\n",
    "# Parallel processing\n",
    "cores = 4\n",
    "\n",
    "# R utils script\n",
    "utils_script <- \"/data/Mito_Trace/R_scripts/seurat_utils.R\"\n",
    "\n",
    "\n",
    "\n",
    "# Parameters\n",
    "assay=\"RNA\"\n",
    "minPct = 0.00\n",
    "logfcthresh = 0.1\n",
    "test.use=\"wilcox\"\n",
    "latent.vars = \"NULL\"\n"
   ]
  },
  {
   "cell_type": "code",
   "execution_count": 2,
   "id": "aaec9d83",
   "metadata": {
    "scrolled": true
   },
   "outputs": [
    {
     "data": {
      "text/html": [
       "<table class=\"dataframe\">\n",
       "<caption>A data.frame: 10 × 9</caption>\n",
       "<thead>\n",
       "\t<tr><th></th><th scope=col>X</th><th scope=col>donor</th><th scope=col>lineage</th><th scope=col>norm.total</th><th scope=col>total</th><th scope=col>name</th><th scope=col>cdf.norm</th><th scope=col>cdf</th><th scope=col>index</th></tr>\n",
       "\t<tr><th></th><th scope=col>&lt;int&gt;</th><th scope=col>&lt;int&gt;</th><th scope=col>&lt;int&gt;</th><th scope=col>&lt;dbl&gt;</th><th scope=col>&lt;int&gt;</th><th scope=col>&lt;chr&gt;</th><th scope=col>&lt;dbl&gt;</th><th scope=col>&lt;int&gt;</th><th scope=col>&lt;int&gt;</th></tr>\n",
       "</thead>\n",
       "<tbody>\n",
       "\t<tr><th scope=row>8</th><td> 8</td><td>3</td><td>14</td><td>0.5310047</td><td>87</td><td>3_14</td><td>0.2655024</td><td> 87</td><td>1</td></tr>\n",
       "\t<tr><th scope=row>3</th><td> 3</td><td>2</td><td>19</td><td>0.4882479</td><td>30</td><td>2_19</td><td>0.2441239</td><td> 30</td><td>1</td></tr>\n",
       "\t<tr><th scope=row>1</th><td> 1</td><td>0</td><td> 4</td><td>0.4267738</td><td>35</td><td>0_4 </td><td>0.2133869</td><td> 35</td><td>1</td></tr>\n",
       "\t<tr><th scope=row>4</th><td> 4</td><td>2</td><td>10</td><td>0.4262821</td><td>33</td><td>2_10</td><td>0.4572650</td><td> 63</td><td>2</td></tr>\n",
       "\t<tr><th scope=row>9</th><td> 9</td><td>3</td><td> 0</td><td>0.3759812</td><td>73</td><td>3_0 </td><td>0.4534929</td><td>160</td><td>2</td></tr>\n",
       "\t<tr><th scope=row>5</th><td> 5</td><td>1</td><td> 1</td><td>0.3234890</td><td>43</td><td>1_1 </td><td>0.1617445</td><td> 43</td><td>1</td></tr>\n",
       "\t<tr><th scope=row>2</th><td> 2</td><td>0</td><td>13</td><td>0.3223166</td><td>27</td><td>0_13</td><td>0.3745452</td><td> 62</td><td>2</td></tr>\n",
       "\t<tr><th scope=row>6</th><td> 6</td><td>1</td><td>15</td><td>0.2660256</td><td>36</td><td>1_15</td><td>0.2947573</td><td> 79</td><td>2</td></tr>\n",
       "\t<tr><th scope=row>10</th><td>10</td><td>3</td><td> 4</td><td>0.2407490</td><td>49</td><td>3_4 </td><td>0.5738675</td><td>209</td><td>3</td></tr>\n",
       "\t<tr><th scope=row>7</th><td> 7</td><td>1</td><td>13</td><td>0.1968864</td><td>26</td><td>1_13</td><td>0.3932005</td><td>105</td><td>3</td></tr>\n",
       "</tbody>\n",
       "</table>\n"
      ],
      "text/latex": [
       "A data.frame: 10 × 9\n",
       "\\begin{tabular}{r|lllllllll}\n",
       "  & X & donor & lineage & norm.total & total & name & cdf.norm & cdf & index\\\\\n",
       "  & <int> & <int> & <int> & <dbl> & <int> & <chr> & <dbl> & <int> & <int>\\\\\n",
       "\\hline\n",
       "\t8 &  8 & 3 & 14 & 0.5310047 & 87 & 3\\_14 & 0.2655024 &  87 & 1\\\\\n",
       "\t3 &  3 & 2 & 19 & 0.4882479 & 30 & 2\\_19 & 0.2441239 &  30 & 1\\\\\n",
       "\t1 &  1 & 0 &  4 & 0.4267738 & 35 & 0\\_4  & 0.2133869 &  35 & 1\\\\\n",
       "\t4 &  4 & 2 & 10 & 0.4262821 & 33 & 2\\_10 & 0.4572650 &  63 & 2\\\\\n",
       "\t9 &  9 & 3 &  0 & 0.3759812 & 73 & 3\\_0  & 0.4534929 & 160 & 2\\\\\n",
       "\t5 &  5 & 1 &  1 & 0.3234890 & 43 & 1\\_1  & 0.1617445 &  43 & 1\\\\\n",
       "\t2 &  2 & 0 & 13 & 0.3223166 & 27 & 0\\_13 & 0.3745452 &  62 & 2\\\\\n",
       "\t6 &  6 & 1 & 15 & 0.2660256 & 36 & 1\\_15 & 0.2947573 &  79 & 2\\\\\n",
       "\t10 & 10 & 3 &  4 & 0.2407490 & 49 & 3\\_4  & 0.5738675 & 209 & 3\\\\\n",
       "\t7 &  7 & 1 & 13 & 0.1968864 & 26 & 1\\_13 & 0.3932005 & 105 & 3\\\\\n",
       "\\end{tabular}\n"
      ],
      "text/markdown": [
       "\n",
       "A data.frame: 10 × 9\n",
       "\n",
       "| <!--/--> | X &lt;int&gt; | donor &lt;int&gt; | lineage &lt;int&gt; | norm.total &lt;dbl&gt; | total &lt;int&gt; | name &lt;chr&gt; | cdf.norm &lt;dbl&gt; | cdf &lt;int&gt; | index &lt;int&gt; |\n",
       "|---|---|---|---|---|---|---|---|---|---|\n",
       "| 8 |  8 | 3 | 14 | 0.5310047 | 87 | 3_14 | 0.2655024 |  87 | 1 |\n",
       "| 3 |  3 | 2 | 19 | 0.4882479 | 30 | 2_19 | 0.2441239 |  30 | 1 |\n",
       "| 1 |  1 | 0 |  4 | 0.4267738 | 35 | 0_4  | 0.2133869 |  35 | 1 |\n",
       "| 4 |  4 | 2 | 10 | 0.4262821 | 33 | 2_10 | 0.4572650 |  63 | 2 |\n",
       "| 9 |  9 | 3 |  0 | 0.3759812 | 73 | 3_0  | 0.4534929 | 160 | 2 |\n",
       "| 5 |  5 | 1 |  1 | 0.3234890 | 43 | 1_1  | 0.1617445 |  43 | 1 |\n",
       "| 2 |  2 | 0 | 13 | 0.3223166 | 27 | 0_13 | 0.3745452 |  62 | 2 |\n",
       "| 6 |  6 | 1 | 15 | 0.2660256 | 36 | 1_15 | 0.2947573 |  79 | 2 |\n",
       "| 10 | 10 | 3 |  4 | 0.2407490 | 49 | 3_4  | 0.5738675 | 209 | 3 |\n",
       "| 7 |  7 | 1 | 13 | 0.1968864 | 26 | 1_13 | 0.3932005 | 105 | 3 |\n",
       "\n"
      ],
      "text/plain": [
       "   X  donor lineage norm.total total name cdf.norm  cdf index\n",
       "8   8 3     14      0.5310047  87    3_14 0.2655024  87 1    \n",
       "3   3 2     19      0.4882479  30    2_19 0.2441239  30 1    \n",
       "1   1 0      4      0.4267738  35    0_4  0.2133869  35 1    \n",
       "4   4 2     10      0.4262821  33    2_10 0.4572650  63 2    \n",
       "9   9 3      0      0.3759812  73    3_0  0.4534929 160 2    \n",
       "5   5 1      1      0.3234890  43    1_1  0.1617445  43 1    \n",
       "2   2 0     13      0.3223166  27    0_13 0.3745452  62 2    \n",
       "6   6 1     15      0.2660256  36    1_15 0.2947573  79 2    \n",
       "10 10 3      4      0.2407490  49    3_4  0.5738675 209 3    \n",
       "7   7 1     13      0.1968864  26    1_13 0.3932005 105 3    "
      ]
     },
     "metadata": {},
     "output_type": "display_data"
    },
    {
     "data": {
      "text/html": [
       "<style>\n",
       ".list-inline {list-style: none; margin:0; padding: 0}\n",
       ".list-inline>li {display: inline-block}\n",
       ".list-inline>li:not(:last-child)::after {content: \"\\00b7\"; padding: 0 .5ex}\n",
       "</style>\n",
       "<ol class=list-inline><li>'3_14'</li><li>'2_19'</li><li>'0_4'</li><li>'2_10'</li><li>'3_0'</li><li>'1_1'</li><li>'0_13'</li><li>'1_15'</li><li>'3_4'</li><li>'1_13'</li></ol>\n"
      ],
      "text/latex": [
       "\\begin{enumerate*}\n",
       "\\item '3\\_14'\n",
       "\\item '2\\_19'\n",
       "\\item '0\\_4'\n",
       "\\item '2\\_10'\n",
       "\\item '3\\_0'\n",
       "\\item '1\\_1'\n",
       "\\item '0\\_13'\n",
       "\\item '1\\_15'\n",
       "\\item '3\\_4'\n",
       "\\item '1\\_13'\n",
       "\\end{enumerate*}\n"
      ],
      "text/markdown": [
       "1. '3_14'\n",
       "2. '2_19'\n",
       "3. '0_4'\n",
       "4. '2_10'\n",
       "5. '3_0'\n",
       "6. '1_1'\n",
       "7. '0_13'\n",
       "8. '1_15'\n",
       "9. '3_4'\n",
       "10. '1_13'\n",
       "\n",
       "\n"
      ],
      "text/plain": [
       " [1] \"3_14\" \"2_19\" \"0_4\"  \"2_10\" \"3_0\"  \"1_1\"  \"0_13\" \"1_15\" \"3_4\"  \"1_13\""
      ]
     },
     "metadata": {},
     "output_type": "display_data"
    }
   ],
   "source": [
    "large_clones <- read.csv(large_clones_f)\n",
    "large_clones <- large_clones[with(large_clones, order(-norm.total,total)), ]\n",
    "large_clones\n",
    "\n",
    "clones.for.de <- head(large_clones, top_clones)$name\n",
    "clones.for.de"
   ]
  },
  {
   "cell_type": "code",
   "execution_count": 3,
   "id": "267d13e6",
   "metadata": {
    "scrolled": false
   },
   "outputs": [
    {
     "name": "stderr",
     "output_type": "stream",
     "text": [
      "Attaching SeuratObject\n",
      "\n",
      "Warning message in dir.create(btwnConds_inClone_sepDonors.outdir):\n",
      "“'/data/Mito_Trace/output/pipeline/DUPI_april08_2021/MTblacklist_mtasnucl_Bonly/data/merged/MT/cellr_True/numread_200/filters/minC10_minR50_topN0_hetT0.001_hetC10_hetCount5_bq20/mgatk/vireoIn/clones/variants_init/knn/kparam_3/concat/gff_hg38_1_2/annotation_clones/de_clone_btwncond_RNA//btwnConds_inClone_sepDonrs' already exists”\n"
     ]
    }
   ],
   "source": [
    "source(utils_script)\n",
    "source(\"/data/Mito_Trace/R_scripts/plot_de_over_all.R\")\n",
    "dir.create(outdir, showWarnings = FALSE)\n",
    "\n",
    "btwnConds_inClone_sepDonors.outdir <- file.path(outdir, \"btwnConds_inClone_sepDonrs\")\n",
    "dir.create(btwnConds_inClone_sepDonors.outdir)\n"
   ]
  },
  {
   "cell_type": "code",
   "execution_count": 4,
   "id": "8dde1fe9",
   "metadata": {
    "scrolled": false
   },
   "outputs": [
    {
     "data": {
      "text/html": [
       "<style>\n",
       ".list-inline {list-style: none; margin:0; padding: 0}\n",
       ".list-inline>li {display: inline-block}\n",
       ".list-inline>li:not(:last-child)::after {content: \"\\00b7\"; padding: 0 .5ex}\n",
       "</style>\n",
       "<ol class=list-inline><li>'preB'</li><li>'postB'</li></ol>\n"
      ],
      "text/latex": [
       "\\begin{enumerate*}\n",
       "\\item 'preB'\n",
       "\\item 'postB'\n",
       "\\end{enumerate*}\n"
      ],
      "text/markdown": [
       "1. 'preB'\n",
       "2. 'postB'\n",
       "\n",
       "\n"
      ],
      "text/plain": [
       "[1] \"preB\"  \"postB\""
      ]
     },
     "metadata": {},
     "output_type": "display_data"
    }
   ],
   "source": [
    "sample_names <- unlist(strsplit(sample_names, \",\")[[1]])\n",
    "sample_names"
   ]
  },
  {
   "cell_type": "code",
   "execution_count": 5,
   "id": "aad4f638",
   "metadata": {
    "scrolled": true
   },
   "outputs": [
    {
     "name": "stderr",
     "output_type": "stream",
     "text": [
      "Loading required package: stats4\n",
      "\n",
      "Loading required package: BiocGenerics\n",
      "\n",
      "\n",
      "Attaching package: ‘BiocGenerics’\n",
      "\n",
      "\n",
      "The following objects are masked from ‘package:stats’:\n",
      "\n",
      "    IQR, mad, sd, var, xtabs\n",
      "\n",
      "\n",
      "The following objects are masked from ‘package:base’:\n",
      "\n",
      "    anyDuplicated, append, as.data.frame, basename, cbind, colnames,\n",
      "    dirname, do.call, duplicated, eval, evalq, Filter, Find, get, grep,\n",
      "    grepl, intersect, is.unsorted, lapply, Map, mapply, match, mget,\n",
      "    order, paste, pmax, pmax.int, pmin, pmin.int, Position, rank,\n",
      "    rbind, Reduce, rownames, sapply, setdiff, sort, table, tapply,\n",
      "    union, unique, unsplit, which.max, which.min\n",
      "\n",
      "\n",
      "Loading required package: S4Vectors\n",
      "\n",
      "\n",
      "Attaching package: ‘S4Vectors’\n",
      "\n",
      "\n",
      "The following objects are masked from ‘package:base’:\n",
      "\n",
      "    expand.grid, I, unname\n",
      "\n",
      "\n",
      "Loading required package: IRanges\n",
      "\n",
      "Loading required package: GenomeInfoDb\n",
      "\n",
      "Loading required package: ensembldb\n",
      "\n",
      "Loading required package: GenomicFeatures\n",
      "\n",
      "Loading required package: AnnotationDbi\n",
      "\n",
      "Loading required package: Biobase\n",
      "\n",
      "Welcome to Bioconductor\n",
      "\n",
      "    Vignettes contain introductory material; view with\n",
      "    'browseVignettes()'. To cite Bioconductor, see\n",
      "    'citation(\"Biobase\")', and for packages 'citation(\"pkgname\")'.\n",
      "\n",
      "\n",
      "Loading required package: AnnotationFilter\n",
      "\n",
      "\n",
      "Attaching package: 'ensembldb'\n",
      "\n",
      "\n",
      "The following object is masked from 'package:stats':\n",
      "\n",
      "    filter\n",
      "\n",
      "\n",
      "\n",
      "Attaching package: 'data.table'\n",
      "\n",
      "\n",
      "The following object is masked from 'package:GenomicRanges':\n",
      "\n",
      "    shift\n",
      "\n",
      "\n",
      "The following object is masked from 'package:IRanges':\n",
      "\n",
      "    shift\n",
      "\n",
      "\n",
      "The following objects are masked from 'package:S4Vectors':\n",
      "\n",
      "    first, second\n",
      "\n",
      "\n",
      "\n",
      "Attaching package: 'magrittr'\n",
      "\n",
      "\n",
      "The following object is masked from 'package:AnnotationFilter':\n",
      "\n",
      "    not\n",
      "\n",
      "\n",
      "\n",
      "Attaching package: 'cowplot'\n",
      "\n",
      "\n",
      "The following object is masked from 'package:patchwork':\n",
      "\n",
      "    align_plots\n",
      "\n",
      "\n",
      "\n",
      "Attaching package: 'dplyr'\n",
      "\n",
      "\n",
      "The following objects are masked from 'package:data.table':\n",
      "\n",
      "    between, first, last\n",
      "\n",
      "\n",
      "The following objects are masked from 'package:ensembldb':\n",
      "\n",
      "    filter, select\n",
      "\n",
      "\n",
      "The following object is masked from 'package:AnnotationDbi':\n",
      "\n",
      "    select\n",
      "\n",
      "\n",
      "The following object is masked from 'package:Biobase':\n",
      "\n",
      "    combine\n",
      "\n",
      "\n",
      "The following objects are masked from 'package:GenomicRanges':\n",
      "\n",
      "    intersect, setdiff, union\n",
      "\n",
      "\n",
      "The following object is masked from 'package:GenomeInfoDb':\n",
      "\n",
      "    intersect\n",
      "\n",
      "\n",
      "The following objects are masked from 'package:IRanges':\n",
      "\n",
      "    collapse, desc, intersect, setdiff, slice, union\n",
      "\n",
      "\n",
      "The following objects are masked from 'package:S4Vectors':\n",
      "\n",
      "    first, intersect, rename, setdiff, setequal, union\n",
      "\n",
      "\n",
      "The following objects are masked from 'package:BiocGenerics':\n",
      "\n",
      "    combine, intersect, setdiff, union\n",
      "\n",
      "\n",
      "The following objects are masked from 'package:stats':\n",
      "\n",
      "    filter, lag\n",
      "\n",
      "\n",
      "The following objects are masked from 'package:base':\n",
      "\n",
      "    intersect, setdiff, setequal, union\n",
      "\n",
      "\n",
      "\n",
      "Attaching package: 'future'\n",
      "\n",
      "\n",
      "The following object is masked from 'package:AnnotationFilter':\n",
      "\n",
      "    value\n",
      "\n",
      "\n",
      "The following object is masked from 'package:GenomicRanges':\n",
      "\n",
      "    values\n",
      "\n",
      "\n",
      "The following object is masked from 'package:S4Vectors':\n",
      "\n",
      "    values\n",
      "\n",
      "\n"
     ]
    },
    {
     "data": {
      "text/html": [
       "<pre class=language-r><code>structure(function (..., envir = parent.frame()) \n",
       "{\n",
       "<span style=white-space:pre-wrap>    future &lt;- SequentialFuture(..., envir = envir)</span>\n",
       "<span style=white-space:pre-wrap>    if (!future$lazy) </span>\n",
       "<span style=white-space:pre-wrap>        future &lt;- run(future)</span>\n",
       "<span style=white-space:pre-wrap>    invisible(future)</span>\n",
       "}, class = c(\"FutureStrategy\", \"sequential\", \"uniprocess\", \"future\", \n",
       "\"function\"))</code></pre>"
      ],
      "text/latex": [
       "\\begin{minted}{r}\n",
       "structure(function (..., envir = parent.frame()) \n",
       "\\{\n",
       "    future <- SequentialFuture(..., envir = envir)\n",
       "    if (!future\\$lazy) \n",
       "        future <- run(future)\n",
       "    invisible(future)\n",
       "\\}, class = c(\"FutureStrategy\", \"sequential\", \"uniprocess\", \"future\", \n",
       "\"function\"))\n",
       "\\end{minted}"
      ],
      "text/markdown": [
       "```r\n",
       "structure(function (..., envir = parent.frame()) \n",
       "{\n",
       "    future <- SequentialFuture(..., envir = envir)\n",
       "    if (!future$lazy) \n",
       "        future <- run(future)\n",
       "    invisible(future)\n",
       "}, class = c(\"FutureStrategy\", \"sequential\", \"uniprocess\", \"future\", \n",
       "\"function\"))\n",
       "```"
      ],
      "text/plain": [
       "sequential:\n",
       "- args: function (..., envir = parent.frame())\n",
       "- tweaked: FALSE\n",
       "- call: NULL"
      ]
     },
     "metadata": {},
     "output_type": "display_data"
    },
    {
     "name": "stderr",
     "output_type": "stream",
     "text": [
      "Warning message:\n",
      "\"Strategy 'multiprocess' is deprecated in future (>= 1.20.0). Instead, explicitly specify either 'multisession' or 'multicore'. In the current R session, 'multiprocess' equals 'multicore'.\"\n"
     ]
    }
   ],
   "source": [
    "library(GenomicRanges)\n",
    "library(Seurat)\n",
    "library(Signac)\n",
    "library(GenomeInfoDb)\n",
    "library(EnsDb.Hsapiens.v75)\n",
    "library(ggplot2)\n",
    "library(patchwork)\n",
    "set.seed(1234)\n",
    "library(data.table)\n",
    "library(magrittr)\n",
    "library(cowplot)\n",
    "library(metap)\n",
    "library(\"RColorBrewer\")\n",
    "library(dplyr)\n",
    "library(future)\n",
    "plan()\n",
    "\n",
    "plan(\"multiprocess\", workers = cores)\n",
    "#options(future.globals.maxSize = 50000 * 1024^2) # for 50 Gb RAM\n",
    "options(future.globals.maxSize = 8000 * 1024^2)"
   ]
  },
  {
   "cell_type": "code",
   "execution_count": 6,
   "id": "7cc056e3",
   "metadata": {
    "scrolled": false
   },
   "outputs": [
    {
     "data": {
      "text/plain": [
       "An object of class Seurat \n",
       "61893 features across 4112 samples within 2 assays \n",
       "Active assay: RNA (19575 features, 0 variable features)\n",
       " 1 other assay present: ATAC\n",
       " 2 dimensional reductions calculated: integrated_lsi, umap"
      ]
     },
     "metadata": {},
     "output_type": "display_data"
    }
   ],
   "source": [
    "se <- readRDS(se_f)#file.path(indir, paste0(\"allSamples.integrated.rds\")))\n",
    "se"
   ]
  },
  {
   "cell_type": "code",
   "execution_count": 13,
   "id": "c0daa6c8",
   "metadata": {},
   "outputs": [
    {
     "data": {
      "text/plain": [
       "R version 4.1.1 (2021-08-10)\n",
       "Platform: x86_64-conda-linux-gnu (64-bit)\n",
       "Running under: Ubuntu 20.04.3 LTS\n",
       "\n",
       "Matrix products: default\n",
       "BLAS/LAPACK: /home/isaac/miniconda3/envs/mttrace/lib/libopenblasp-r0.3.18.so\n",
       "\n",
       "locale:\n",
       " [1] LC_CTYPE=en_US.UTF-8       LC_NUMERIC=C              \n",
       " [3] LC_TIME=en_US.UTF-8        LC_COLLATE=en_US.UTF-8    \n",
       " [5] LC_MONETARY=en_US.UTF-8    LC_MESSAGES=en_US.UTF-8   \n",
       " [7] LC_PAPER=en_US.UTF-8       LC_NAME=C                 \n",
       " [9] LC_ADDRESS=C               LC_TELEPHONE=C            \n",
       "[11] LC_MEASUREMENT=en_US.UTF-8 LC_IDENTIFICATION=C       \n",
       "\n",
       "attached base packages:\n",
       "[1] stats4    stats     graphics  grDevices utils     datasets  methods  \n",
       "[8] base     \n",
       "\n",
       "other attached packages:\n",
       " [1] future_1.23.0             dplyr_1.0.7              \n",
       " [3] RColorBrewer_1.1-2        metap_1.1                \n",
       " [5] cowplot_1.1.1             magrittr_2.0.1           \n",
       " [7] data.table_1.14.2         patchwork_1.1.1          \n",
       " [9] ggplot2_3.3.5             EnsDb.Hsapiens.v75_2.99.0\n",
       "[11] ensembldb_2.18.1          AnnotationFilter_1.18.0  \n",
       "[13] GenomicFeatures_1.46.1    AnnotationDbi_1.56.1     \n",
       "[15] Biobase_2.54.0            GenomicRanges_1.46.0     \n",
       "[17] GenomeInfoDb_1.30.0       IRanges_2.28.0           \n",
       "[19] S4Vectors_0.32.0          BiocGenerics_0.40.0      \n",
       "[21] SeuratObject_4.0.4        Seurat_4.0.5             \n",
       "[23] Signac_1.4.0             \n",
       "\n",
       "loaded via a namespace (and not attached):\n",
       "  [1] utf8_1.2.2                  reticulate_1.22            \n",
       "  [3] tidyselect_1.1.1            RSQLite_2.2.8              \n",
       "  [5] htmlwidgets_1.5.4           grid_4.1.1                 \n",
       "  [7] docopt_0.7.1                BiocParallel_1.28.0        \n",
       "  [9] Rtsne_0.15                  munsell_0.5.0              \n",
       " [11] codetools_0.2-18            ica_1.0-2                  \n",
       " [13] pbdZMQ_0.3-6                miniUI_0.1.1.1             \n",
       " [15] withr_2.4.2                 colorspace_2.0-2           \n",
       " [17] filelock_1.0.2              uuid_1.0-3                 \n",
       " [19] ROCR_1.0-11                 tensor_1.5                 \n",
       " [21] listenv_0.8.0               labeling_0.4.2             \n",
       " [23] MatrixGenerics_1.6.0        Rdpack_2.1.2               \n",
       " [25] slam_0.1-49                 repr_1.1.3                 \n",
       " [27] GenomeInfoDbData_1.2.7      polyclip_1.10-0            \n",
       " [29] bit64_4.0.5                 farver_2.1.0               \n",
       " [31] parallelly_1.29.0           vctrs_0.3.8                \n",
       " [33] generics_0.1.1              BiocFileCache_2.2.0        \n",
       " [35] lsa_0.73.2                  ggseqlogo_0.1              \n",
       " [37] doParallel_1.0.16           R6_2.5.1                   \n",
       " [39] clue_0.3-60                 reshape_0.8.8              \n",
       " [41] bitops_1.0-7                spatstat.utils_2.2-0       \n",
       " [43] cachem_1.0.6                DelayedArray_0.20.0        \n",
       " [45] assertthat_0.2.1            promises_1.2.0.1           \n",
       " [47] BiocIO_1.4.0                scales_1.1.1               \n",
       " [49] gtable_0.3.0                Cairo_1.5-12.2             \n",
       " [51] globals_0.14.0              goftest_1.2-3              \n",
       " [53] rlang_0.4.12                RcppRoll_0.3.0             \n",
       " [55] GlobalOptions_0.1.2         splines_4.1.1              \n",
       " [57] rtracklayer_1.54.0          lazyeval_0.2.2             \n",
       " [59] spatstat.geom_2.3-0         yaml_2.2.1                 \n",
       " [61] reshape2_1.4.4              abind_1.4-5                \n",
       " [63] httpuv_1.6.3                tools_4.1.1                \n",
       " [65] ellipsis_0.3.2              spatstat.core_2.3-2        \n",
       " [67] ggridges_0.5.3              Rcpp_1.0.7                 \n",
       " [69] plyr_1.8.6                  base64enc_0.1-3            \n",
       " [71] progress_1.2.2              zlibbioc_1.40.0            \n",
       " [73] purrr_0.3.4                 RCurl_1.98-1.5             \n",
       " [75] prettyunits_1.1.1           rpart_4.1-15               \n",
       " [77] deldir_1.0-6                GetoptLong_1.0.5           \n",
       " [79] pbapply_1.5-0               zoo_1.8-9                  \n",
       " [81] SummarizedExperiment_1.24.0 ggrepel_0.9.1              \n",
       " [83] cluster_2.1.2               magick_2.7.3               \n",
       " [85] scattermore_0.7             circlize_0.4.13            \n",
       " [87] lmtest_0.9-39               RANN_2.6.1                 \n",
       " [89] SnowballC_0.7.0             ProtGenerics_1.26.0        \n",
       " [91] fitdistrplus_1.1-6          matrixStats_0.61.0         \n",
       " [93] hms_1.1.1                   mime_0.12                  \n",
       " [95] evaluate_0.14               xtable_1.8-4               \n",
       " [97] XML_3.99-0.8                sparsesvd_0.2              \n",
       " [99] shape_1.4.6                 gridExtra_2.3              \n",
       "[101] compiler_4.1.1              biomaRt_2.50.0             \n",
       "[103] tibble_3.1.6                KernSmooth_2.23-20         \n",
       "[105] crayon_1.4.2                htmltools_0.5.2            \n",
       "[107] mgcv_1.8-38                 later_1.2.0                \n",
       "[109] tidyr_1.1.4                 DBI_1.1.1                  \n",
       "[111] tweenr_1.0.2                ComplexHeatmap_2.10.0      \n",
       "[113] dbplyr_2.1.1                MASS_7.3-54                \n",
       "[115] rappdirs_0.3.3              Matrix_1.3-4               \n",
       "[117] rbibutils_2.2.4             parallel_4.1.1             \n",
       "[119] igraph_1.2.9                pkgconfig_2.0.3            \n",
       "[121] GenomicAlignments_1.30.0    IRdisplay_1.0              \n",
       "[123] plotly_4.10.0               spatstat.sparse_2.0-0      \n",
       "[125] foreach_1.5.1               xml2_1.3.2                 \n",
       "[127] XVector_0.34.0              stringr_1.4.0              \n",
       "[129] digest_0.6.28               sctransform_0.3.2          \n",
       "[131] RcppAnnoy_0.0.19            spatstat.data_2.1-0        \n",
       "[133] Biostrings_2.62.0           leiden_0.3.9               \n",
       "[135] fastmatch_1.1-3             uwot_0.1.10                \n",
       "[137] restfulr_0.0.13             curl_4.3.2                 \n",
       "[139] shiny_1.7.1                 Rsamtools_2.10.0           \n",
       "[141] rjson_0.2.20                lifecycle_1.0.1            \n",
       "[143] nlme_3.1-153                jsonlite_1.7.2             \n",
       "[145] limma_3.50.0                viridisLite_0.4.0          \n",
       "[147] fansi_0.4.2                 pillar_1.6.4               \n",
       "[149] GGally_2.1.2                lattice_0.20-45            \n",
       "[151] KEGGREST_1.34.0             fastmap_1.1.0              \n",
       "[153] httr_1.4.2                  survival_3.2-13            \n",
       "[155] glue_1.5.1                  qlcMatrix_0.9.7            \n",
       "[157] iterators_1.0.13            png_0.1-7                  \n",
       "[159] bit_4.0.4                   ggforce_0.3.3              \n",
       "[161] stringi_1.7.6               blob_1.2.2                 \n",
       "[163] memoise_2.0.1               IRkernel_1.2               \n",
       "[165] irlba_2.3.3                 future.apply_1.8.1         "
      ]
     },
     "metadata": {},
     "output_type": "display_data"
    }
   ],
   "source": [
    "sessionInfo()"
   ]
  },
  {
   "cell_type": "code",
   "execution_count": 14,
   "id": "1f1782dd",
   "metadata": {
    "scrolled": true
   },
   "outputs": [
    {
     "data": {
      "text/html": [
       "'/data/Mito_Trace/output/pipeline/DUPI_april08_2021/MTblacklist_mtasnucl_Bonly/data/merged/MT/cellr_True/numread_200/filters/minC10_minR50_topN0_hetT0.001_hetC10_hetCount5_bq20/mgatk/vireoIn/clones/variants_init/knn/kparam_3/concat/gff_hg38_1_2/annotation_clones/de_clone_btwncond_RNA/'"
      ],
      "text/latex": [
       "'/data/Mito\\_Trace/output/pipeline/DUPI\\_april08\\_2021/MTblacklist\\_mtasnucl\\_Bonly/data/merged/MT/cellr\\_True/numread\\_200/filters/minC10\\_minR50\\_topN0\\_hetT0.001\\_hetC10\\_hetCount5\\_bq20/mgatk/vireoIn/clones/variants\\_init/knn/kparam\\_3/concat/gff\\_hg38\\_1\\_2/annotation\\_clones/de\\_clone\\_btwncond\\_RNA/'"
      ],
      "text/markdown": [
       "'/data/Mito_Trace/output/pipeline/DUPI_april08_2021/MTblacklist_mtasnucl_Bonly/data/merged/MT/cellr_True/numread_200/filters/minC10_minR50_topN0_hetT0.001_hetC10_hetCount5_bq20/mgatk/vireoIn/clones/variants_init/knn/kparam_3/concat/gff_hg38_1_2/annotation_clones/de_clone_btwncond_RNA/'"
      ],
      "text/plain": [
       "[1] \"/data/Mito_Trace/output/pipeline/DUPI_april08_2021/MTblacklist_mtasnucl_Bonly/data/merged/MT/cellr_True/numread_200/filters/minC10_minR50_topN0_hetT0.001_hetC10_hetCount5_bq20/mgatk/vireoIn/clones/variants_init/knn/kparam_3/concat/gff_hg38_1_2/annotation_clones/de_clone_btwncond_RNA/\""
      ]
     },
     "metadata": {},
     "output_type": "display_data"
    }
   ],
   "source": [
    "outdir"
   ]
  },
  {
   "cell_type": "code",
   "execution_count": null,
   "id": "2c0d478b",
   "metadata": {},
   "outputs": [],
   "source": []
  }
 ],
 "metadata": {
  "celltoolbar": "Tags",
  "kernelspec": {
   "display_name": "R",
   "language": "R",
   "name": "ir"
  },
  "language_info": {
   "codemirror_mode": "r",
   "file_extension": ".r",
   "mimetype": "text/x-r-source",
   "name": "R",
   "pygments_lexer": "r",
   "version": "4.1.1"
  }
 },
 "nbformat": 4,
 "nbformat_minor": 5
}
