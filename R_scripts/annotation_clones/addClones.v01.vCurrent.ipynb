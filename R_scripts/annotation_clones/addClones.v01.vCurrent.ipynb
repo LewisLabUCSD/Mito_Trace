{
 "cells": [
  {
   "cell_type": "code",
   "execution_count": 1,
   "id": "4246cc89",
   "metadata": {
    "tags": [
     "parameters"
    ]
   },
   "outputs": [],
   "source": [
    "#se_f =  \"/data2/mito_lineage/output/annotation/data/v01_oct012021/cd34norm/MTblacklist/mergedSamples/allSamples.integrated.rds\"\n",
    "#cells_meta_f = \"/data2/mito_lineage/output/pipeline/cd34norm/MTblacklist/data/merged/MT/cellr_True/numread_200/filters/minC10_minR50_topN0_hetT0.001_hetC10_hetCount5_bq20/mgatk/vireoIn/clones/variants_mgatkdonor/knn/kparam_3/concat/cells_meta.tsv\"\n",
    "#outdir = \"/data2/mito_lineage/output/annotation_clones/data/cd34norm/MTblacklist\"\n",
    "ids.reversed = TRUE\n",
    "#enrichment_f\n",
    "\n",
    "# se_f = \"/data2/mito_lineage/output/annotation/data/cd34norm/MTblacklist/mergedSamples/allSamples.integrated.rds\"\n",
    "# cells_meta_f = \"/data2/mito_lineage/output/pipeline/cd34norm/MTblacklist/data/merged/MT/cellr_True/numread_200/filters/minC10_minR50_topN0_hetT0.001_hetC10_hetCount5_bq20/mgatk/vireoIn/clones/variants_simple/vireo/nclones20/cells_meta.tsv\"\n",
    "# outdir = \"/data2/mito_lineage/output/pipeline/cd34norm/MTblacklist/data/merged/MT/cellr_True/numread_200/filters/minC10_minR50_topN0_hetT0.001_hetC10_hetCount5_bq20/mgatk/vireoIn/clones/variants_simple/vireo/nclones20/enrichment/annotation_clones/\"\n",
    "\n",
    "\n",
    "# se_f = \"/data/Mito_Trace/output/pipeline/DUPI_april08_2021/MTblacklist_mtasnucl_Bonly/data/annotation/mergedSamples/allSamples.integrated.rds\"\n",
    "# cells_meta_f = \"/data/Mito_Trace/output/pipeline/DUPI_april08_2021/MTblacklist_mtasnucl_Bonly/data/merged/MT/cellr_True/numread_200/filters/minC10_minR50_topN0_hetT0.001_hetC10_hetCount5_bq20/mgatk/vireoIn/clones/variants_init/knn/kparam_3/concat/cells_meta.tsv\"\n",
    "# outdir = \"/data/Mito_Trace/output/pipeline/DUPI_april08_2021/MTblacklist_mtasnucl_Bonly/data/merged/MT/cellr_True/numread_200/filters/minC10_minR50_topN0_hetT0.001_hetC10_hetCount5_bq20/mgatk/vireoIn/clones/variants_init/knn/kparam_3/concat/annotation_clones\"\n",
    "\n",
    "\n",
    "cells_meta_f = \"/data/Mito_Trace/output/pipeline/DUPI_april08_2021/MTblacklist_mtasnucl_Bonly/data/merged/MT/cellr_True/numread_200/filters/minC10_minR50_topN0_hetT0.001_hetC10_hetCount5_bq20/mgatk/vireoIn/clones/variants_init/knn/kparam_3/concat/cells_meta.tsv\" \n",
    "se_f = \"/data/Mito_Trace/output/pipeline/DUPI_april08_2021/MTblacklist_mtasnucl_Bonly/data/annotation/gff_hg38_1_2/mergedSamples/allSamples.integrated.rds\" \n",
    "outdir = \"/data/Mito_Trace/output/pipeline/DUPI_april08_2021/MTblacklist_mtasnucl_Bonly/data/merged/MT/cellr_True/numread_200/filters/minC10_minR50_topN0_hetT0.001_hetC10_hetCount5_bq20/mgatk/vireoIn/clones/variants_init/knn/kparam_3/concat/gff_hg38_1_2/annotation_clones\""
   ]
  },
  {
   "cell_type": "code",
   "execution_count": 2,
   "id": "0e22c73b",
   "metadata": {
    "scrolled": false
   },
   "outputs": [
    {
     "name": "stderr",
     "output_type": "stream",
     "text": [
      "\u001b[1mRows: \u001b[22m\u001b[34m3973\u001b[39m \u001b[1mColumns: \u001b[22m\u001b[34m4\u001b[39m\n",
      "\n",
      "\u001b[36m──\u001b[39m \u001b[1mColumn specification\u001b[22m \u001b[36m─────────────────────────────────────────────────────────────────────────────\u001b[39m\n",
      "\u001b[1mDelimiter:\u001b[22m \"\\t\"\n",
      "\u001b[31mchr\u001b[39m (2): ID, condition\n",
      "\u001b[32mdbl\u001b[39m (2): lineage, donor\n",
      "\n",
      "\n",
      "\u001b[36mℹ\u001b[39m Use \u001b[30m\u001b[47m\u001b[30m\u001b[47m`spec()`\u001b[47m\u001b[30m\u001b[49m\u001b[39m to retrieve the full column specification for this data.\n",
      "\u001b[36mℹ\u001b[39m Specify the column types or set \u001b[30m\u001b[47m\u001b[30m\u001b[47m`show_col_types = FALSE`\u001b[47m\u001b[30m\u001b[49m\u001b[39m to quiet this message.\n",
      "\n"
     ]
    }
   ],
   "source": [
    "cells_meta <- as.data.frame(readr::read_tsv(cells_meta_f)) # %>% tidyr::unite(barcode)\n",
    "rownames(cells_meta) = cells_meta$ID"
   ]
  },
  {
   "cell_type": "code",
   "execution_count": 3,
   "id": "556ca238",
   "metadata": {
    "scrolled": true
   },
   "outputs": [
    {
     "data": {
      "text/html": [
       "<table class=\"dataframe\">\n",
       "<caption>A data.frame: 6 × 4</caption>\n",
       "<thead>\n",
       "\t<tr><th></th><th scope=col>ID</th><th scope=col>lineage</th><th scope=col>donor</th><th scope=col>condition</th></tr>\n",
       "\t<tr><th></th><th scope=col>&lt;chr&gt;</th><th scope=col>&lt;dbl&gt;</th><th scope=col>&lt;dbl&gt;</th><th scope=col>&lt;chr&gt;</th></tr>\n",
       "</thead>\n",
       "<tbody>\n",
       "\t<tr><th scope=row>preB_AACTGGTAGAACCCGA-1</th><td>AACTGGTAGAACCCGA-1_preB</td><td>0</td><td>0</td><td>preB</td></tr>\n",
       "\t<tr><th scope=row>preB_ACAGACTTCGTCTAGA-1</th><td>ACAGACTTCGTCTAGA-1_preB</td><td>0</td><td>0</td><td>preB</td></tr>\n",
       "\t<tr><th scope=row>preB_ACCAAACTCCTGGAAT-1</th><td>ACCAAACTCCTGGAAT-1_preB</td><td>0</td><td>0</td><td>preB</td></tr>\n",
       "\t<tr><th scope=row>preB_ACTATTCCAGTAAGAT-1</th><td>ACTATTCCAGTAAGAT-1_preB</td><td>0</td><td>0</td><td>preB</td></tr>\n",
       "\t<tr><th scope=row>preB_AGCGATTAGATCGAGC-1</th><td>AGCGATTAGATCGAGC-1_preB</td><td>0</td><td>0</td><td>preB</td></tr>\n",
       "\t<tr><th scope=row>preB_AGCGTGCAGCCATTCA-1</th><td>AGCGTGCAGCCATTCA-1_preB</td><td>0</td><td>0</td><td>preB</td></tr>\n",
       "</tbody>\n",
       "</table>\n"
      ],
      "text/latex": [
       "A data.frame: 6 × 4\n",
       "\\begin{tabular}{r|llll}\n",
       "  & ID & lineage & donor & condition\\\\\n",
       "  & <chr> & <dbl> & <dbl> & <chr>\\\\\n",
       "\\hline\n",
       "\tpreB\\_AACTGGTAGAACCCGA-1 & AACTGGTAGAACCCGA-1\\_preB & 0 & 0 & preB\\\\\n",
       "\tpreB\\_ACAGACTTCGTCTAGA-1 & ACAGACTTCGTCTAGA-1\\_preB & 0 & 0 & preB\\\\\n",
       "\tpreB\\_ACCAAACTCCTGGAAT-1 & ACCAAACTCCTGGAAT-1\\_preB & 0 & 0 & preB\\\\\n",
       "\tpreB\\_ACTATTCCAGTAAGAT-1 & ACTATTCCAGTAAGAT-1\\_preB & 0 & 0 & preB\\\\\n",
       "\tpreB\\_AGCGATTAGATCGAGC-1 & AGCGATTAGATCGAGC-1\\_preB & 0 & 0 & preB\\\\\n",
       "\tpreB\\_AGCGTGCAGCCATTCA-1 & AGCGTGCAGCCATTCA-1\\_preB & 0 & 0 & preB\\\\\n",
       "\\end{tabular}\n"
      ],
      "text/markdown": [
       "\n",
       "A data.frame: 6 × 4\n",
       "\n",
       "| <!--/--> | ID &lt;chr&gt; | lineage &lt;dbl&gt; | donor &lt;dbl&gt; | condition &lt;chr&gt; |\n",
       "|---|---|---|---|---|\n",
       "| preB_AACTGGTAGAACCCGA-1 | AACTGGTAGAACCCGA-1_preB | 0 | 0 | preB |\n",
       "| preB_ACAGACTTCGTCTAGA-1 | ACAGACTTCGTCTAGA-1_preB | 0 | 0 | preB |\n",
       "| preB_ACCAAACTCCTGGAAT-1 | ACCAAACTCCTGGAAT-1_preB | 0 | 0 | preB |\n",
       "| preB_ACTATTCCAGTAAGAT-1 | ACTATTCCAGTAAGAT-1_preB | 0 | 0 | preB |\n",
       "| preB_AGCGATTAGATCGAGC-1 | AGCGATTAGATCGAGC-1_preB | 0 | 0 | preB |\n",
       "| preB_AGCGTGCAGCCATTCA-1 | AGCGTGCAGCCATTCA-1_preB | 0 | 0 | preB |\n",
       "\n"
      ],
      "text/plain": [
       "                        ID                      lineage donor condition\n",
       "preB_AACTGGTAGAACCCGA-1 AACTGGTAGAACCCGA-1_preB 0       0     preB     \n",
       "preB_ACAGACTTCGTCTAGA-1 ACAGACTTCGTCTAGA-1_preB 0       0     preB     \n",
       "preB_ACCAAACTCCTGGAAT-1 ACCAAACTCCTGGAAT-1_preB 0       0     preB     \n",
       "preB_ACTATTCCAGTAAGAT-1 ACTATTCCAGTAAGAT-1_preB 0       0     preB     \n",
       "preB_AGCGATTAGATCGAGC-1 AGCGATTAGATCGAGC-1_preB 0       0     preB     \n",
       "preB_AGCGTGCAGCCATTCA-1 AGCGTGCAGCCATTCA-1_preB 0       0     preB     "
      ]
     },
     "metadata": {},
     "output_type": "display_data"
    }
   ],
   "source": [
    "if (ids.reversed){\n",
    "    split.names <- stringr::str_split(rownames(cells_meta), \"_\")\n",
    "    rownames(cells_meta) = lapply(split.names, function(x){paste0(x[2], \"_\", x[1])})\n",
    "}\n",
    "head(cells_meta)"
   ]
  },
  {
   "cell_type": "code",
   "execution_count": 4,
   "id": "3bd68851",
   "metadata": {
    "scrolled": true
   },
   "outputs": [
    {
     "name": "stderr",
     "output_type": "stream",
     "text": [
      "Warning message in gzfile(file, \"rb\"):\n",
      "“cannot open compressed file '/data/Mito_Trace/output/pipeline/DUPI_april08_2021/MTblacklist_mtasnucl_Bonly/data/annotation/gff_hg38_1_2/mergedSamples/allSamples.integrated.rds', probable reason 'No such file or directory'”\n"
     ]
    },
    {
     "ename": "ERROR",
     "evalue": "Error in gzfile(file, \"rb\"): cannot open the connection\n",
     "output_type": "error",
     "traceback": [
      "Error in gzfile(file, \"rb\"): cannot open the connection\nTraceback:\n",
      "1. readRDS(se_f)",
      "2. gzfile(file, \"rb\")"
     ]
    }
   ],
   "source": [
    "se <- readRDS(se_f)\n",
    "se[[]]"
   ]
  },
  {
   "cell_type": "code",
   "execution_count": null,
   "id": "5cc8cea1",
   "metadata": {
    "scrolled": true
   },
   "outputs": [],
   "source": [
    "# se_meta = se[[]]\n",
    "# rownames(se_meta) <- apply(stringr::str_split((rownames(se_meta)), \"_\", simplify=T)[,1:2], 1, function(x) {paste0(x[1],  \"_\", x[2])})"
   ]
  },
  {
   "cell_type": "code",
   "execution_count": null,
   "id": "3cd58703",
   "metadata": {
    "scrolled": false
   },
   "outputs": [],
   "source": [
    "new_cells_meta = merge(cells_meta, se[[]], by=0, all=TRUE)\n",
    "rownames(new_cells_meta) <- new_cells_meta$Row.names\n",
    "head(new_cells_meta)\n",
    "\n"
   ]
  },
  {
   "cell_type": "code",
   "execution_count": null,
   "id": "ea88f83d",
   "metadata": {
    "scrolled": false
   },
   "outputs": [],
   "source": [
    "se$ID <- apply(stringr::str_split((rownames(se[[]])), \"_\", simplify=T)[,1:2], 1, function(x) {paste0(x[[1]],  \"_\", x[[2]])})\n",
    "se <- RenameCells(se, new.names=se$ID)\n"
   ]
  },
  {
   "cell_type": "code",
   "execution_count": null,
   "id": "3886aaf6",
   "metadata": {},
   "outputs": [],
   "source": [
    "se[[]]"
   ]
  },
  {
   "cell_type": "code",
   "execution_count": null,
   "id": "d7d4fe95",
   "metadata": {},
   "outputs": [],
   "source": [
    "new_cells_meta$name <- paste0(new_cells_meta$donor, \"_\", new_cells_meta$lineage)\n",
    "\n",
    "donor_levels <- levels(factor(new_cells_meta$donor))\n",
    "donor_levels[length(donor_levels) + 1] <- \"None\"\n",
    "\n",
    "condition_levels <- levels(factor(new_cells_meta$condition))\n",
    "condition_levels[length(condition_levels) + 1] <- \"None\"\n",
    "\n",
    "lineage_levels <- levels(factor(new_cells_meta$lineage))\n",
    "lineage_levels[length(lineage_levels) + 1] <- \"None\"\n",
    "\n",
    "\n",
    "new_cells_meta$name <- paste0(new_cells_meta$donor, \"_\", new_cells_meta$lineage)\n",
    "name_levels <- levels(factor(new_cells_meta$name))\n",
    "name_levels[length(name_levels) + 1] <- \"None\"\n",
    "\n",
    "\n",
    "\n",
    "new_cells_meta$donor <- factor(new_cells_meta$donor, levels=donor_levels)\n",
    "new_cells_meta$condition <- factor(new_cells_meta$condition, levels=condition_levels)\n",
    "new_cells_meta$lineage <- factor(new_cells_meta$lineage, levels=lineage_levels)\n",
    "new_cells_meta$name <- factor(new_cells_meta$name, levels=name_levels)\n",
    "\n",
    "\n",
    "\n",
    "new_cells_meta$donor[is.na(new_cells_meta$donor)] <- \"None\"\n",
    "new_cells_meta$condition[is.na(new_cells_meta$condition)] <- \"None\"\n",
    "new_cells_meta$lineage[is.na(new_cells_meta$lineage)] <- \"None\"\n",
    "new_cells_meta$name[(is.na(new_cells_meta$name) | grepl(\"NA\", new_cells_meta$name))] <- \"None\""
   ]
  },
  {
   "cell_type": "code",
   "execution_count": null,
   "id": "8c916149",
   "metadata": {},
   "outputs": [],
   "source": [
    "new_cells_meta"
   ]
  },
  {
   "cell_type": "code",
   "execution_count": null,
   "id": "69e8c55e",
   "metadata": {},
   "outputs": [],
   "source": [
    "se <- AddMetaData(se, new_cells_meta)\n",
    "se[[]]"
   ]
  },
  {
   "cell_type": "markdown",
   "id": "e6e3ad4f",
   "metadata": {},
   "source": [
    "## Save"
   ]
  },
  {
   "cell_type": "code",
   "execution_count": null,
   "id": "f272baab",
   "metadata": {},
   "outputs": [],
   "source": [
    "saveRDS(obj=se, file=file.path(outdir, \"SE.rds\"))"
   ]
  },
  {
   "cell_type": "code",
   "execution_count": null,
   "id": "83dcf7ba",
   "metadata": {},
   "outputs": [],
   "source": [
    "write.table(se[[]],file=file.path(outdir, \"se_cells_meta.tsv\"), sep = \"\\t\", quote=FALSE)"
   ]
  },
  {
   "cell_type": "markdown",
   "id": "084a97f6",
   "metadata": {},
   "source": [
    "## Plot by donor and condition"
   ]
  },
  {
   "cell_type": "code",
   "execution_count": null,
   "id": "5d9ca2e3",
   "metadata": {
    "scrolled": true
   },
   "outputs": [],
   "source": [
    "library(\"Seurat\")\n",
    "#library(\"Seurat\")\n",
    "library(magrittr)\n",
    "library(cowplot)\n",
    "library(ggplot2)\n",
    "library(Signac)\n",
    "library(patchwork)\n",
    "set.seed(1234)\n",
    "library(magrittr)\n",
    "library(cowplot)\n",
    "library(metap)\n",
    "library(dplyr)\n",
    "library(future)"
   ]
  },
  {
   "cell_type": "code",
   "execution_count": null,
   "id": "764fbc95",
   "metadata": {
    "scrolled": true
   },
   "outputs": [],
   "source": [
    "# Idents(t.cells) <- \"orig.ident\"\n",
    "DimPlot(object = se, label = FALSE, group.by = c('donor', 'condition')) \n",
    "ggsave(file.path(outdir, paste0(\"donor_umap.pdf\")))"
   ]
  },
  {
   "cell_type": "code",
   "execution_count": null,
   "id": "2dec1b25",
   "metadata": {
    "scrolled": false
   },
   "outputs": [],
   "source": [
    "DimPlot(object = se, label = FALSE, split.by=\"donor\", group.by = 'condition')\n",
    "ggsave(file.path(outdir, paste0(\"donor_split_umap.pdf\")))"
   ]
  },
  {
   "cell_type": "markdown",
   "id": "978a834c",
   "metadata": {},
   "source": [
    "## Plot lineage"
   ]
  },
  {
   "cell_type": "code",
   "execution_count": null,
   "id": "d4a074ac",
   "metadata": {
    "scrolled": true
   },
   "outputs": [],
   "source": [
    "DimPlot(object = se, label = FALSE, group.by=c(\"lineage\"))\n",
    "#ggsave(file.path(outdir, \"lineage.conditions.png\"))"
   ]
  },
  {
   "cell_type": "code",
   "execution_count": null,
   "id": "624319eb",
   "metadata": {
    "scrolled": true
   },
   "outputs": [],
   "source": [
    "clone.umap.condition <- file.path(outdir, \"clone_umaps\")\n",
    "dir.create(clone.umap.condition)"
   ]
  },
  {
   "cell_type": "code",
   "execution_count": null,
   "id": "e84ab8df",
   "metadata": {
    "scrolled": true
   },
   "outputs": [],
   "source": [
    "donors <- levels(se$donor)\n",
    "donors <-  donors[donors != \"None\"]\n",
    "donors"
   ]
  },
  {
   "cell_type": "code",
   "execution_count": null,
   "id": "b567b90b",
   "metadata": {
    "scrolled": true
   },
   "outputs": [],
   "source": [
    "dimplots.f <- function(cl, se){\n",
    "    print(cl)\n",
    "    d <- (DimPlot(object = subset(x = se, subset = name == cl), label = FALSE, \n",
    "                   split.by=c(\"donor\"), group.by=(\"seurat_clusters\")))\n",
    "    ggsave(file.path(clone.umap.condition.splitdonor, paste0(\"clone_\", cl, \".umap.png\")))\n",
    "\n",
    "}\n",
    "\n",
    "clone.umap.condition.splitdonor <- file.path(clone.umap.condition, \"clone_splitbydonor\")\n",
    "dir.create(clone.umap.condition.splitdonor)\n",
    "dimplots <- sapply(levels(se$name), FUN=dimplots.f, se=se)\n",
    "\n",
    "  "
   ]
  },
  {
   "cell_type": "code",
   "execution_count": null,
   "id": "b10aa2a7",
   "metadata": {
    "scrolled": true
   },
   "outputs": [],
   "source": [
    "  \n",
    "# dimplots.alldon.f <- function(cl, se){\n",
    "#     print(cl)\n",
    "#     d <- (DimPlot(object = subset(x = se, subset = lineage == cl), label = FALSE, \n",
    "#                    group.by=(\"seurat_clusters\"), split.by=\"condition\"))\n",
    "#     ggsave(file.path(clone.umap.condition.alldonors, paste0(\"clone_\", cl, \".alldonors.umap.png\")))\n",
    "\n",
    "# }\n",
    "\n",
    "# clone.umap.condition.alldonors <- file.path(clone.umap.condition, \"alldonors\")\n",
    "# dir.create(clone.umap.condition.alldonors)\n",
    "\n",
    "# dimplots <- sapply(levels(se$lineage), FUN=dimplots.alldon.f, se=se)\n",
    "\n",
    "\n"
   ]
  },
  {
   "cell_type": "code",
   "execution_count": null,
   "id": "f49804d0",
   "metadata": {},
   "outputs": [],
   "source": []
  },
  {
   "cell_type": "code",
   "execution_count": null,
   "id": "c4f72de2",
   "metadata": {
    "scrolled": true
   },
   "outputs": [],
   "source": [
    "dimplots.conditon.f <- function(cl, se){\n",
    "    print(cl)\n",
    "    d <- (DimPlot(object = subset(x = se, subset = name == cl), label = FALSE, \n",
    "                   group.by=c(\"seurat_clusters\", \"donor\"), split.by=c(\"condition\")))\n",
    "    ggsave(file.path(clone.umap.condition.lineage, paste0(\"clone_\", cl, \".condition.donors.umap.png\")))\n",
    "}\n",
    "\n",
    "clone.umap.condition.lineage <- file.path(clone.umap.condition, \"lineage_condition\")\n",
    "dir.create(clone.umap.condition.lineage)\n",
    "\n",
    "dimplots <- sapply(levels(se$name), FUN=dimplots.conditon.f, se=se)\n",
    "\n"
   ]
  },
  {
   "cell_type": "code",
   "execution_count": null,
   "id": "83b15064",
   "metadata": {
    "scrolled": true
   },
   "outputs": [],
   "source": [
    "# dimplots.donor.condition.f <- function(nm, se){\n",
    "#     print(nm)\n",
    "#     try({\n",
    "#     d <- (DimPlot(object = subset(x = se, subset = (name == nm)), label = FALSE, \n",
    "#                    group.by=\"seurat_clusters\", split.by=\"condition\"))\n",
    "#     ggsave(file.path(donor.clone.umap.condition, paste0(\"donor_clone_\", nm, \".umap.png\")), d)\n",
    "#     })\n",
    "# }\n",
    "\n",
    "# donor.clone.umap.condition <- file.path(clone.umap.condition, \"donor_clone\")\n",
    "# dir.create(donor.clone.umap.condition)\n",
    "# dimplots <- sapply(levels(se$name), FUN=dimplots.donor.condition.f, se=se)\n",
    "\n"
   ]
  },
  {
   "cell_type": "code",
   "execution_count": null,
   "id": "d2f31c24",
   "metadata": {
    "scrolled": true
   },
   "outputs": [],
   "source": [
    "barplot.df <- se[[]] %>% group_by(name,donor) %>% summarize(size=n())# %>% mutate(donor=donor)\n",
    "barplot.df"
   ]
  },
  {
   "cell_type": "code",
   "execution_count": null,
   "id": "fe110e1e",
   "metadata": {
    "scrolled": false
   },
   "outputs": [],
   "source": [
    "g <- ggplot(barplot.df[!(barplot.df$name == \"None\" | is.na(barplot.df$name)), ], aes(x=reorder(name, size), y=size, fill=donor)) + \n",
    "            geom_bar(stat='identity')\n",
    "\n",
    "g \n",
    "ggsave(file.path(outdir, paste0(\"clone_count.pdf\")))"
   ]
  },
  {
   "cell_type": "code",
   "execution_count": null,
   "id": "97c045dc",
   "metadata": {
    "scrolled": true
   },
   "outputs": [],
   "source": [
    "g <- lapply(donors, function (x) {ggplot(barplot.df[barplot.df$donor == x, ], aes(x=reorder(name, size), y= size)) + \n",
    "            geom_bar(stat='identity') + ggtitle(paste0(\"donor\", x))+theme(axis.text.x = element_text(angle = 90, vjust = 0.5, hjust=1))}) \n",
    "\n",
    "g\n",
    "#ggsave(file.path(outdir, paste0(\"clone_count.donor.pdf\")))"
   ]
  },
  {
   "cell_type": "code",
   "execution_count": null,
   "id": "6f951fc0",
   "metadata": {
    "scrolled": false
   },
   "outputs": [],
   "source": [
    "grobs <- lapply(g, as_grob)\n",
    "plot_widths <- lapply(grobs, function(x) {x$widths})\n",
    "# Aligning the left margins of all g\n",
    "aligned_widths <- align_margin(plot_widths, \"first\")\n",
    "# Aligning the right margins of all g as well\n",
    "aligned_widths <- align_margin(aligned_widths, \"last\")\n",
    "# Setting the dimensions of g to the aligned dimensions\n",
    "for (i in seq_along(g)) {\n",
    "  grobs[[i]]$widths <- aligned_widths[[i]]\n",
    "}\n",
    "# Draw aligned g\n",
    "p <- plot_grid(plotlist = grobs, ncol = 1, 'vh')\n",
    "pdf(file.path(outdir, \"clone_count.donor.pdf\"), height = 11, width = 8.5, paper = \"letter\")\n",
    "p\n",
    "dev.off()\n",
    "# ggsave(file.path(outdir, paste0(\"clone_count.donor.pdf\")), g)"
   ]
  },
  {
   "cell_type": "code",
   "execution_count": null,
   "id": "c6cbdcc7",
   "metadata": {},
   "outputs": [],
   "source": []
  },
  {
   "cell_type": "code",
   "execution_count": null,
   "id": "48de264a",
   "metadata": {},
   "outputs": [],
   "source": []
  },
  {
   "cell_type": "code",
   "execution_count": null,
   "id": "22a0899f",
   "metadata": {
    "scrolled": true
   },
   "outputs": [],
   "source": [
    "print"
   ]
  },
  {
   "cell_type": "code",
   "execution_count": null,
   "id": "c16c522a",
   "metadata": {},
   "outputs": [],
   "source": []
  }
 ],
 "metadata": {
  "celltoolbar": "Tags",
  "kernelspec": {
   "display_name": "R",
   "language": "R",
   "name": "ir"
  },
  "language_info": {
   "codemirror_mode": "r",
   "file_extension": ".r",
   "mimetype": "text/x-r-source",
   "name": "R",
   "pygments_lexer": "r",
   "version": "4.1.1"
  }
 },
 "nbformat": 4,
 "nbformat_minor": 5
}
