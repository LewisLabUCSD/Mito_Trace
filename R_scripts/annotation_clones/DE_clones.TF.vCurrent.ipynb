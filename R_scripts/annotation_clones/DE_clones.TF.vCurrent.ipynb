{
 "cells": [
  {
   "cell_type": "code",
   "execution_count": null,
   "id": "4246cc89",
   "metadata": {
    "tags": [
     "parameters"
    ]
   },
   "outputs": [],
   "source": [
    "indir =  \"/data2/mito_lineage/output/pipeline/cd34norm/MTblacklist/data/merged/MT/cellr_True/numread_200/filters/minC10_minR50_topN0_hetT0.001_hetC10_hetCount5_bq20/mgatk/vireoIn/clones/variants_mgatkdonor/vireo/nclones20/enrichment/annotation_clones/DE_large\"\n",
    "outdir = \"/data2/mito_lineage/output/pipeline/cd34norm/MTblacklist/data/merged/MT/cellr_True/numread_200/filters/minC10_minR50_topN0_hetT0.001_hetC10_hetCount5_bq20/mgatk/vireoIn/clones/variants_mgatkdonor/vireo/nclones20/enrichment/annotation_clones/DE_large/minPct_0.01__logfcthresh_0\"\n",
    "n_donors = 4\n",
    "# se_f = \"/data2/mito_lineage/output/annotation_clones/data/cd34norm/MTblacklist/SE.rds\"\n",
    "# outdir = \"/data2/mito_lineage/output/annotation_clones/data/cd34norm/MTblacklist/DE_large\"\n",
    "\n",
    "# If more than 2 clones pass the cdf_thresh, use that, o.w use n_top_clones\n",
    "cdf_thresh = 0.5\n",
    "n_top_clones = 3\n",
    "\n",
    "min_pct = 0.01\n",
    "logfc_threshold = 0.1\n",
    "use_latent_vars = FALSE\n",
    "genome = \"/data2/mito_lineage/data/external/GRCh38_MT_blacklist/fasta/genome.fa\"\n",
    "cores=16\n",
    "utils_script <- \"/data2/mito_lineage/R_scripts/seurat_utils.R\""
   ]
  },
  {
   "cell_type": "code",
   "execution_count": null,
   "id": "4adf1237",
   "metadata": {},
   "outputs": [],
   "source": [
    "if (use_latent_vars){\n",
    "    latent.vars = \"peaks_depth\"\n",
    "}else{\n",
    "    latent.vars=NULL\n",
    "}"
   ]
  },
  {
   "cell_type": "code",
   "execution_count": null,
   "id": "2ec87635",
   "metadata": {},
   "outputs": [],
   "source": [
    "source(utils_script)\n",
    "\n",
    "library(Seurat)\n",
    "library(Signac)\n",
    "library(ggplot2)\n",
    "library(patchwork)\n",
    "set.seed(1234)\n",
    "library(magrittr)\n",
    "library(cowplot)\n",
    "library(metap)\n",
    "library(dplyr)\n",
    "library(future)\n",
    "plan(\"multiprocess\", workers = cores)\n",
    "#options(future.globals.maxSize = 50000 * 1024^2) # for 50 Gb RAM\n",
    "options(future.globals.maxSize = 8000 * 1024^2)\n",
    "library(\"ComplexHeatmap\")"
   ]
  },
  {
   "cell_type": "markdown",
   "id": "e8a7d7b5",
   "metadata": {},
   "source": [
    "## Import seurat object and clones"
   ]
  },
  {
   "cell_type": "code",
   "execution_count": null,
   "id": "cca27e11",
   "metadata": {},
   "outputs": [],
   "source": [
    "large.clones <- read.csv(file=file.path(indir, \"large_clones.csv\"))\n",
    "se <- readRDS(file=file.path(indir, \"se.clonesfilt.rds\"))    "
   ]
  },
  {
   "cell_type": "markdown",
   "id": "1aa2150f",
   "metadata": {},
   "source": [
    "## Run DE"
   ]
  },
  {
   "cell_type": "code",
   "execution_count": null,
   "id": "9c5b398c",
   "metadata": {
    "scrolled": true
   },
   "outputs": [],
   "source": [
    "for (d in 0:(n_donors-1)){\n",
    "    print('donor')\n",
    "    print(d)\n",
    "    curr.outdir <- file.path(outdir, paste0(\"donor\", d, \"_TF\"))\n",
    "    dir.create(curr.outdir)\n",
    "    donor.large.clones <- large.clones %>% filter(donor==d)\n",
    "    clones.filt.ids <- sort(donor.large.clones$lineage)\n",
    "    print('clones')\n",
    "    print(clones.filt.ids)\n",
    "    print(length(clones.filt.ids))\n",
    "    se.filt <- subset(se, subset = (donor==d) & (lineage %in% donor.large.clones$lineage))\n",
    "    Idents(se.filt) <- se.filt$lineage  \n",
    "    print('se.filt')\n",
    "    print(dim(se.filt[[]]))\n",
    "\n",
    "    pairs = combn(clones.filt.ids,2)\n",
    "    for (i in 1:dim(combn(clones.filt.ids,2))[2]){\n",
    "        DefaultAssay(se.filt) <- \"chromvarnames\"\n",
    "        print(pairs[,i])\n",
    "        try({\n",
    "            print(paste(\"clones\", i))\n",
    "            a = pairs[1,i]\n",
    "            b = pairs[2,i]\n",
    "            da <- FindMarkers(\n",
    "              object = se.filt,\n",
    "              ident.1 = a,\n",
    "              ident.2 = b,\n",
    "              only.pos = FALSE,\n",
    "              mean.fxn = rowMeans,\n",
    "              logfc.threshold = logfc_thresh,\n",
    "              min.pct = min_pct,\n",
    "              #latent.vars=latent.vars,\n",
    "              fc.name = \"avg_diff\")\n",
    "            \n",
    "            da$p_val_adj_BH <- stats::p.adjust(da$p_val, method = \"BH\", n = length(da$p_val))\n",
    "            write.csv(da, \n",
    "                      file=file.path(curr.outdir, paste0(\"clones_\",a,\"__\", b,\".DE.TF.csv\")), quote=F)\n",
    "            #plotDE(se, da, c, clust_outdir)\n",
    "    })\n",
    "            gally <- GGally::ggpairs(da[,c(\"p_val\", \"p_val_adj\", \"avg_diff\", \"p_val_adj_BH\" )], aes(alpha = 0.4))\n",
    "            ggsave(plot=gally, file=file.path(curr.outdir, paste0(\"clones_\",a,\"__\", b,\".DE.TF.pvalHist.png\")))\n",
    "            # Save motifs\n",
    "            DefaultAssay(se.filt) <- \"ATAC\"\n",
    "            raw.ids <- names(Motifs(se.filt)@motif.names)\n",
    "            print(head(rownames(da)))\n",
    "            rownames(da) <- sapply((rownames(da)), function(x){raw.ids[match(x, Motifs(se.filt)@motif.names)]})\n",
    "            m <- MotifPlot(\n",
    "              object = se.filt,\n",
    "              motifs = head(rownames(da)),\n",
    "              assay = 'ATAC'\n",
    "            )\n",
    "            ggsave(plot=m, \n",
    "                       file=file.path(curr.outdir, paste0(\"clones_\",a,\"__\", b,\".DE.TF.motif.top.png\")))\n",
    "\n",
    "\n",
    "        }\n",
    "    }"
   ]
  },
  {
   "cell_type": "code",
   "execution_count": null,
   "id": "1692a487",
   "metadata": {},
   "outputs": [],
   "source": []
  },
  {
   "cell_type": "code",
   "execution_count": null,
   "id": "a9884ca6",
   "metadata": {},
   "outputs": [],
   "source": []
  }
 ],
 "metadata": {
  "celltoolbar": "Tags",
  "kernelspec": {
   "display_name": "R",
   "language": "R",
   "name": "ir"
  },
  "language_info": {
   "codemirror_mode": "r",
   "file_extension": ".r",
   "mimetype": "text/x-r-source",
   "name": "R",
   "pygments_lexer": "r",
   "version": "4.1.1"
  }
 },
 "nbformat": 4,
 "nbformat_minor": 5
}
