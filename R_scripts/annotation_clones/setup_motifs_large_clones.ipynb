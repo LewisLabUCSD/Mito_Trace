{
 "cells": [
  {
   "cell_type": "code",
   "execution_count": null,
   "id": "4246cc89",
   "metadata": {
    "tags": [
     "parameters"
    ]
   },
   "outputs": [],
   "source": [
    "se_f = \"/data2/mito_lineage/output/pipeline/cd34norm/MTblacklist/data/merged/MT/cellr_True/numread_200/filters/minC10_minR50_topN0_hetT0.001_hetC10_hetCount5_bq20/mgatk/vireoIn/clones/variants_mgatkdonor/vireo/nclones20/enrichment/annotation_clones/SE.rds\"\n",
    "outdir = \"/data2/mito_lineage/output/pipeline/cd34norm/MTblacklist/data/merged/MT/cellr_True/numread_200/filters/minC10_minR50_topN0_hetT0.001_hetC10_hetCount5_bq20/mgatk/vireoIn/clones/variants_mgatkdonor/vireo/nclones20/enrichment/annotation_clones/DE_large\"\n",
    "n_donors = 4\n",
    "# se_f = \"/data2/mito_lineage/output/annotation_clones/data/cd34norm/MTblacklist/SE.rds\"\n",
    "# outdir = \"/data2/mito_lineage/output/annotation_clones/data/cd34norm/MTblacklist/DE_large\"\n",
    "\n",
    "# If more than 2 clones pass the cdf_thresh, use that, o.w use n_top_clones\n",
    "cdf_thresh = 0.5\n",
    "n_top_clones = 3\n",
    "\n",
    "min_pct = 0.01\n",
    "use_latent_vars = FALSE\n",
    "genome = \"/data2/mito_lineage/data/external/GRCh38_MT_blacklist/fasta/genome.fa\"\n",
    "cores=16\n",
    "utils_script <- \"/data2/mito_lineage/R_scripts/seurat_utils.R\""
   ]
  },
  {
   "cell_type": "code",
   "execution_count": null,
   "id": "e72d3a57",
   "metadata": {},
   "outputs": [],
   "source": [
    "if (use_latent_vars){\n",
    "    latent.vars = \"peaks_depth\"\n",
    "}else{\n",
    "    latent.vars=NULL\n",
    "}"
   ]
  },
  {
   "cell_type": "code",
   "execution_count": null,
   "id": "b44903ca",
   "metadata": {},
   "outputs": [],
   "source": [
    "source(utils_script)"
   ]
  },
  {
   "cell_type": "code",
   "execution_count": null,
   "id": "5d9ca2e3",
   "metadata": {
    "scrolled": true
   },
   "outputs": [],
   "source": [
    "library(Seurat)\n",
    "library(Signac)\n",
    "library(ggplot2)\n",
    "library(patchwork)\n",
    "set.seed(1234)\n",
    "library(magrittr)\n",
    "library(cowplot)\n",
    "library(metap)\n",
    "library(dplyr)\n",
    "library(future)\n",
    "plan(\"multiprocess\", workers = cores)\n",
    "#options(future.globals.maxSize = 50000 * 1024^2) # for 50 Gb RAM\n",
    "options(future.globals.maxSize = 8000 * 1024^2)\n",
    "library(\"ComplexHeatmap\")"
   ]
  },
  {
   "cell_type": "markdown",
   "id": "e8a7d7b5",
   "metadata": {},
   "source": [
    "## Import seurat object"
   ]
  },
  {
   "cell_type": "code",
   "execution_count": null,
   "id": "2ef3a56c",
   "metadata": {
    "scrolled": true
   },
   "outputs": [],
   "source": [
    "# if (file.exists(file.path(outdir, \"se.chromvar.rds\"))){\n",
    "#     print(\"Loading se with chromvar\")\n",
    "#     se <- readRDS(file=file.path(outdir, \"se.chromvar.rds\"))    \n",
    "# }else{\n",
    "#     print(\"Running chromvar\")\n",
    "#     se = readRDS(se_f)\n",
    "# #     source(\"/data2/mito_lineage/R_scripts/addPWM.R\")\n",
    "#     se <- get.pwm(se, genome=genome)\n",
    "#     saveRDS(object=se, file=file.path(outdir, \"se.chromvar.rds\"))    \n",
    "# }\n",
    "\n",
    "print(\"Running chromvar\")\n",
    "se = readRDS(se_f)\n",
    "se <- get.pwm(se, genome=genome)\n",
    "saveRDS(object=se, file=file.path(outdir, \"se.chromvar.rds\"))\n",
    "\n",
    "\n",
    "# cells.meta = se[[]]\n",
    "# cells.meta$name = paste0(cells.meta$donor,\"_\", cells.meta$lineage)\n",
    "# cells.meta$name = factor(cells.meta$name)\n",
    "# cells.meta\n",
    "\n",
    "\n",
    "# se <- AddMetaData(\n",
    "#   object = se,\n",
    "#   metadata = cells.meta[\"name\"],\n",
    "#   col.name = \"name\"\n",
    "# )\n",
    "# se[[]]"
   ]
  },
  {
   "cell_type": "code",
   "execution_count": null,
   "id": "3f8f8c43",
   "metadata": {
    "scrolled": true
   },
   "outputs": [],
   "source": [
    "counts <- se[[]] %>%\n",
    "          group_by(condition, donor, lineage, name) %>%\n",
    "          summarize(size=n()) %>% filter(!name==\"None\")\n",
    "counts"
   ]
  },
  {
   "cell_type": "code",
   "execution_count": null,
   "id": "c042aa55",
   "metadata": {
    "scrolled": true
   },
   "outputs": [],
   "source": [
    "counts.norm <- counts %>% group_by(condition, donor) %>% mutate(total=sum(size)) %>% ungroup() %>% mutate(norm=size/total)\n",
    "\n",
    "counts.norm "
   ]
  },
  {
   "cell_type": "code",
   "execution_count": null,
   "id": "b15ba9af",
   "metadata": {
    "scrolled": true
   },
   "outputs": [],
   "source": [
    "counts.norm.sizes = counts.norm[order(counts.norm[,\"norm\"], decreasing=T),]\n",
    "counts.norm.sizes"
   ]
  },
  {
   "cell_type": "code",
   "execution_count": null,
   "id": "67b08dba",
   "metadata": {
    "scrolled": true
   },
   "outputs": [],
   "source": [
    "clone.sizes <- counts.norm.sizes %>% \n",
    "               group_by(donor,lineage) %>% \n",
    "               summarize(norm.total=sum(norm), total=sum(size)) %>% \n",
    "               arrange(desc(norm.total)) %>% \n",
    "               mutate(name=factor(paste0(donor,\"_\", lineage)))\n",
    "\n",
    "\n",
    "clone.sizes"
   ]
  },
  {
   "cell_type": "code",
   "execution_count": null,
   "id": "c5259eb4",
   "metadata": {
    "scrolled": true
   },
   "outputs": [],
   "source": [
    "clone.sizes <- clone.sizes %>% group_by(donor) %>% arrange(donor, desc(norm.total)) %>% \n",
    "                               mutate(cdf.norm=cumsum(norm.total)/2, cdf =cumsum(total),\n",
    "                                      index=1:n()) %>% \n",
    "                               ungroup %>% arrange(donor, desc(norm.total)) \n",
    "#head(clone.sizes,100)"
   ]
  },
  {
   "cell_type": "code",
   "execution_count": null,
   "id": "2817d47e",
   "metadata": {},
   "outputs": [],
   "source": []
  },
  {
   "cell_type": "code",
   "execution_count": null,
   "id": "fde9c568",
   "metadata": {
    "scrolled": true
   },
   "outputs": [],
   "source": [
    "p <- ggplot(data = clone.sizes, aes(index, cdf.norm)) +\n",
    "  geom_point(color = \"steelblue\", size = 1) +\n",
    "  facet_wrap(~ donor) \n",
    "\n",
    "p <- p + geom_hline(yintercept=cdf_thresh, color='green') \n",
    "ggsave(file.path(outdir, \"clones.cdf.png\"))\n",
    "p\n"
   ]
  },
  {
   "cell_type": "code",
   "execution_count": null,
   "id": "10e0018a",
   "metadata": {},
   "outputs": [],
   "source": [
    "min(clone.sizes$cdf.norm)\n",
    "max(clone.sizes$cdf.norm)"
   ]
  },
  {
   "cell_type": "code",
   "execution_count": null,
   "id": "d172f01e",
   "metadata": {
    "scrolled": true
   },
   "outputs": [],
   "source": [
    "clone.sizes"
   ]
  },
  {
   "cell_type": "code",
   "execution_count": null,
   "id": "93c23bda",
   "metadata": {
    "scrolled": true
   },
   "outputs": [],
   "source": [
    "large.clones <- clone.sizes %>% filter(cdf.norm<cdf_thresh)\n",
    "large.clones <- check.if.one.clone(large.clones, clone.sizes, n_top_clones)\n",
    "#large.clones$name = factor(paste0(large.clones$donor,\"_\", large.clones$lineage))\n",
    "write.csv(large.clones, \n",
    "          file=file.path(outdir, \"large_clones.csv\"), quote=F)\n",
    "\n",
    "large.clones"
   ]
  },
  {
   "cell_type": "code",
   "execution_count": null,
   "id": "308e6966",
   "metadata": {},
   "outputs": [],
   "source": [
    "ggplot(data=large.clones, aes(x=index,y=total, fill = factor(donor))) + \n",
    "        geom_col(position='dodge') +\n",
    "       ggtitle(paste0(\"Top clones (\", cdf_thresh,\n",
    "                      \"fraction of clones) in each donor cell size\"))\n",
    "\n",
    "ggsave(file.path(outdir, \"topClonesSize.png\"))"
   ]
  },
  {
   "cell_type": "markdown",
   "id": "5564da63",
   "metadata": {},
   "source": [
    "## TF DE"
   ]
  },
  {
   "cell_type": "markdown",
   "id": "b6a80a03",
   "metadata": {},
   "source": [
    "## Filter se for cells in the large clones"
   ]
  },
  {
   "cell_type": "code",
   "execution_count": null,
   "id": "8ec3001e",
   "metadata": {
    "scrolled": true
   },
   "outputs": [],
   "source": [
    "large.clones"
   ]
  },
  {
   "cell_type": "code",
   "execution_count": null,
   "id": "abe394ac",
   "metadata": {
    "scrolled": false
   },
   "outputs": [],
   "source": [
    "se <- subset(se, subset= name %in% factor(large.clones$name))\n",
    "se"
   ]
  },
  {
   "cell_type": "code",
   "execution_count": null,
   "id": "cca27e11",
   "metadata": {},
   "outputs": [],
   "source": [
    "saveRDS(object=se, file=file.path(outdir, \"se.clonesfilt.rds\"))    "
   ]
  },
  {
   "cell_type": "markdown",
   "id": "1aa2150f",
   "metadata": {},
   "source": [
    "## Run DE"
   ]
  },
  {
   "cell_type": "code",
   "execution_count": null,
   "id": "9c5b398c",
   "metadata": {
    "scrolled": true
   },
   "outputs": [],
   "source": [
    "# for (d in 0:(n_donors-1)){\n",
    "#     print('donor')\n",
    "#     print(d)\n",
    "#     curr.outdir <- file.path(outdir, paste0(\"donor\", d, \"_TF\"))\n",
    "#     dir.create(curr.outdir)\n",
    "#     donor.large.clones <- large.clones %>% filter(donor==d)\n",
    "#     clones.filt.ids <- sort(donor.large.clones$lineage)\n",
    "#     print('clones')\n",
    "#     print(clones.filt.ids)\n",
    "#     print(length(clones.filt.ids))\n",
    "#     se.filt <- subset(se, subset = (donor==d) & (lineage %in% donor.large.clones$lineage))\n",
    "#     Idents(se.filt) <- se.filt$lineage  \n",
    "#     print('se.filt')\n",
    "#     print(dim(se.filt[[]]))\n",
    "\n",
    "#     pairs = combn(clones.filt.ids,2)\n",
    "#     for (i in 1:dim(combn(clones.filt.ids,2))[2]){\n",
    "#         DefaultAssay(se.filt) <- \"chromvarnames\"\n",
    "#         print(pairs[,i])\n",
    "#         try({\n",
    "#             print(paste(\"clones\", i))\n",
    "#             a = pairs[1,i]\n",
    "#             b = pairs[2,i]\n",
    "#             da <- FindMarkers(\n",
    "#               object = se.filt,\n",
    "#               ident.1 = a,\n",
    "#               ident.2 = b,\n",
    "#               only.pos = FALSE,\n",
    "#               mean.fxn = rowMeans,\n",
    "#               logfc.threshold = 0.1,\n",
    "#               min.pct = min_pct,\n",
    "#               latent.vars=latent.vars,\n",
    "#               fc.name = \"avg_diff\")\n",
    "#             da$p_val_adj_BH <- stats::p.adjust(da$p_val, method = \"BH\", n = length(da$p_val))\n",
    "#             write.csv(da, \n",
    "#                       file=file.path(curr.outdir, paste0(\"clones_\",a,\"__\", b,\".DE.TF.csv\")))\n",
    "#             gally <- GGally::ggpairs(da[,c(\"p_val\", \"p_val_adj\")], aes(alpha = 0.4))\n",
    "#             ggsave(object=gally, file=file.path(curr.outdir, paste0(\"clones_\",a,\"__\", b,\".DE.TF.pvalHist.png\")))\n",
    "#             #plotDE(se, da, c, clust_outdir)\n",
    "#             # Save motifs\n",
    "#             DefaultAssay(se.filt) <- \"ATAC\"\n",
    "#             raw.ids <- names(Motifs(se.filt)@motif.names)\n",
    "#             rownames(curr.tf.da) <- sapply((curr.tf.da$X), function(x){raw.ids[match(x, Motifs(se.filt)@motif.names)]})\n",
    "#             m <- MotifPlot(\n",
    "#               object = se.filt,\n",
    "#               motifs = head(rownames(curr.tf.da)),\n",
    "#               assay = 'ATAC'\n",
    "#             )\n",
    "#             ggsave(plot=m, \n",
    "#                        file=file.path(curr.outdir, paste0(\"clones_\",a,\"__\", b,\".DE.TF.motif.top.png\")))\n",
    "\n",
    "\n",
    "\n",
    "\n",
    "#     })\n",
    "#         }\n",
    "#     }"
   ]
  },
  {
   "cell_type": "code",
   "execution_count": null,
   "id": "1692a487",
   "metadata": {},
   "outputs": [],
   "source": []
  },
  {
   "cell_type": "code",
   "execution_count": null,
   "id": "a9884ca6",
   "metadata": {},
   "outputs": [],
   "source": []
  }
 ],
 "metadata": {
  "celltoolbar": "Tags",
  "kernelspec": {
   "display_name": "R",
   "language": "R",
   "name": "ir"
  },
  "language_info": {
   "codemirror_mode": "r",
   "file_extension": ".r",
   "mimetype": "text/x-r-source",
   "name": "R",
   "pygments_lexer": "r",
   "version": "4.1.1"
  }
 },
 "nbformat": 4,
 "nbformat_minor": 5
}
