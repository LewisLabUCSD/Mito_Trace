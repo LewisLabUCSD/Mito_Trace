{
 "cells": [
  {
   "cell_type": "code",
   "execution_count": 1,
   "id": "41fdb08b",
   "metadata": {
    "tags": [
     "parameters"
    ]
   },
   "outputs": [],
   "source": [
    "export_path = \"/data/Mito_Trace/output/pipeline/TcellDupi_may17_2021/MTblacklist/data/merged/MT/cellr_True/numread_200/filters/minC10_minR50_topN0_hetT0.001_hetC10_hetCount5_bq20/mgatk/vireoIn/clones/variants_init/knn/kparam_3/concat/gff_hg38_1_2/annotation_clones/de_clone_btwncond_RNA/minPct0.01_logfc0.1/GSEA_pctthresh.0.1_pthresh.0.1_pref.FALSE_stat.log2FoldChange_padj.BH/\"\n",
    "#gsea_dir = \"/mnt/md0/isshamie/Projects/Mito_Trace/software/Bioinformatics_Tools/\"\n",
    "cells_meta_f = \"None\""
   ]
  },
  {
   "cell_type": "code",
   "execution_count": 2,
   "id": "7afc217c",
   "metadata": {},
   "outputs": [],
   "source": [
    "import os\n",
    "from os.path import basename, dirname, join, exists\n",
    "import pandas as pd\n",
    "from glob import glob\n",
    "from collections import defaultdict\n",
    "import seaborn as sns\n",
    "import numpy as np\n",
    "import matplotlib.pyplot as plt"
   ]
  },
  {
   "cell_type": "code",
   "execution_count": 3,
   "id": "f1924c60",
   "metadata": {},
   "outputs": [],
   "source": [
    "outdir = join(export_path, \"summary\")\n",
    "if not exists(outdir):\n",
    "    os.mkdir(outdir)"
   ]
  },
  {
   "cell_type": "code",
   "execution_count": 4,
   "id": "b570cec2",
   "metadata": {
    "scrolled": true
   },
   "outputs": [
    {
     "data": {
      "text/plain": [
       "['1_16_DE',\n",
       " '0_11_DE',\n",
       " '0_3_DE',\n",
       " '1_3_DE',\n",
       " '0_13_DE',\n",
       " '0_1_DE',\n",
       " '0_23_DE',\n",
       " '1_19_DE',\n",
       " '1_18_DE',\n",
       " '1_14_DE',\n",
       " '1_5_DE',\n",
       " '1_29_DE',\n",
       " '1_4_DE',\n",
       " '0_29_DE',\n",
       " '1_22_DE',\n",
       " '0_2_DE',\n",
       " '0_20_DE',\n",
       " '0_12_DE',\n",
       " '1_0_DE',\n",
       " '1_27_DE',\n",
       " '1_13_DE',\n",
       " '0_15_DE',\n",
       " '0_0_DE',\n",
       " '1_11_DE',\n",
       " '1_9_DE',\n",
       " '1_2_DE',\n",
       " '0_5_DE',\n",
       " '1_8_DE',\n",
       " '0_9_DE',\n",
       " '1_1_DE',\n",
       " '0_7_DE',\n",
       " '1_7_DE',\n",
       " '0_4_DE',\n",
       " '0_10_DE',\n",
       " '1_6_DE',\n",
       " '1_26_DE',\n",
       " '1_35_DE',\n",
       " '1_25_DE',\n",
       " '1_10_DE',\n",
       " '1_15_DE',\n",
       " '0_6_DE',\n",
       " '1_20_DE',\n",
       " '0_32_DE']"
      ]
     },
     "execution_count": 4,
     "metadata": {},
     "output_type": "execute_result"
    }
   ],
   "source": [
    "gsea_outs = glob(export_path+\"/*xlsx\")\n",
    "names = [basename(f.split(\"gsea.xlsx\")[0].strip(\"_\").replace(\".tsv\", \"\")) for f in gsea_outs ]\n",
    "names"
   ]
  },
  {
   "cell_type": "code",
   "execution_count": 5,
   "id": "0c08348a",
   "metadata": {},
   "outputs": [],
   "source": [
    "def hasOverlapInds(gene_set_ids):\n",
    "    gene_sets = []\n",
    "    if len(gene_set_ids)<=1:\n",
    "        return False\n",
    "    for g in gene_set_ids:\n",
    "       # print(gene_set_ids[g])\n",
    "        gene_sets.append(set(gene_set_ids[g]))\n",
    "\n",
    "    intersection = set.intersection(*gene_sets)\n",
    "    if len(intersection)>0:\n",
    "        print('gene_sets')\n",
    "        print(gene_sets)\n",
    "        print(\"intersection\")\n",
    "        print(intersection)\n",
    "    return len(intersection)>0"
   ]
  },
  {
   "cell_type": "code",
   "execution_count": 6,
   "id": "9e72fbc1",
   "metadata": {
    "scrolled": true
   },
   "outputs": [
    {
     "name": "stdout",
     "output_type": "stream",
     "text": [
      "f /data/Mito_Trace/output/pipeline/TcellDupi_may17_2021/MTblacklist/data/merged/MT/cellr_True/numread_200/filters/minC10_minR50_topN0_hetT0.001_hetC10_hetCount5_bq20/mgatk/vireoIn/clones/variants_init/knn/kparam_3/concat/gff_hg38_1_2/annotation_clones/de_clone_btwncond_RNA/minPct0.01_logfc0.1/GSEA_pctthresh.0.1_pthresh.0.1_pref.FALSE_stat.log2FoldChange_padj.BH/1_16_DE.tsv_gsea.xlsx\n",
      "f /data/Mito_Trace/output/pipeline/TcellDupi_may17_2021/MTblacklist/data/merged/MT/cellr_True/numread_200/filters/minC10_minR50_topN0_hetT0.001_hetC10_hetCount5_bq20/mgatk/vireoIn/clones/variants_init/knn/kparam_3/concat/gff_hg38_1_2/annotation_clones/de_clone_btwncond_RNA/minPct0.01_logfc0.1/GSEA_pctthresh.0.1_pthresh.0.1_pref.FALSE_stat.log2FoldChange_padj.BH/0_11_DE.tsv_gsea.xlsx\n",
      "f /data/Mito_Trace/output/pipeline/TcellDupi_may17_2021/MTblacklist/data/merged/MT/cellr_True/numread_200/filters/minC10_minR50_topN0_hetT0.001_hetC10_hetCount5_bq20/mgatk/vireoIn/clones/variants_init/knn/kparam_3/concat/gff_hg38_1_2/annotation_clones/de_clone_btwncond_RNA/minPct0.01_logfc0.1/GSEA_pctthresh.0.1_pthresh.0.1_pref.FALSE_stat.log2FoldChange_padj.BH/0_3_DE.tsv_gsea.xlsx\n",
      "f /data/Mito_Trace/output/pipeline/TcellDupi_may17_2021/MTblacklist/data/merged/MT/cellr_True/numread_200/filters/minC10_minR50_topN0_hetT0.001_hetC10_hetCount5_bq20/mgatk/vireoIn/clones/variants_init/knn/kparam_3/concat/gff_hg38_1_2/annotation_clones/de_clone_btwncond_RNA/minPct0.01_logfc0.1/GSEA_pctthresh.0.1_pthresh.0.1_pref.FALSE_stat.log2FoldChange_padj.BH/1_3_DE.tsv_gsea.xlsx\n",
      "f /data/Mito_Trace/output/pipeline/TcellDupi_may17_2021/MTblacklist/data/merged/MT/cellr_True/numread_200/filters/minC10_minR50_topN0_hetT0.001_hetC10_hetCount5_bq20/mgatk/vireoIn/clones/variants_init/knn/kparam_3/concat/gff_hg38_1_2/annotation_clones/de_clone_btwncond_RNA/minPct0.01_logfc0.1/GSEA_pctthresh.0.1_pthresh.0.1_pref.FALSE_stat.log2FoldChange_padj.BH/0_13_DE.tsv_gsea.xlsx\n",
      "f /data/Mito_Trace/output/pipeline/TcellDupi_may17_2021/MTblacklist/data/merged/MT/cellr_True/numread_200/filters/minC10_minR50_topN0_hetT0.001_hetC10_hetCount5_bq20/mgatk/vireoIn/clones/variants_init/knn/kparam_3/concat/gff_hg38_1_2/annotation_clones/de_clone_btwncond_RNA/minPct0.01_logfc0.1/GSEA_pctthresh.0.1_pthresh.0.1_pref.FALSE_stat.log2FoldChange_padj.BH/0_1_DE.tsv_gsea.xlsx\n",
      "f /data/Mito_Trace/output/pipeline/TcellDupi_may17_2021/MTblacklist/data/merged/MT/cellr_True/numread_200/filters/minC10_minR50_topN0_hetT0.001_hetC10_hetCount5_bq20/mgatk/vireoIn/clones/variants_init/knn/kparam_3/concat/gff_hg38_1_2/annotation_clones/de_clone_btwncond_RNA/minPct0.01_logfc0.1/GSEA_pctthresh.0.1_pthresh.0.1_pref.FALSE_stat.log2FoldChange_padj.BH/0_23_DE.tsv_gsea.xlsx\n",
      "f /data/Mito_Trace/output/pipeline/TcellDupi_may17_2021/MTblacklist/data/merged/MT/cellr_True/numread_200/filters/minC10_minR50_topN0_hetT0.001_hetC10_hetCount5_bq20/mgatk/vireoIn/clones/variants_init/knn/kparam_3/concat/gff_hg38_1_2/annotation_clones/de_clone_btwncond_RNA/minPct0.01_logfc0.1/GSEA_pctthresh.0.1_pthresh.0.1_pref.FALSE_stat.log2FoldChange_padj.BH/1_19_DE.tsv_gsea.xlsx\n",
      "f /data/Mito_Trace/output/pipeline/TcellDupi_may17_2021/MTblacklist/data/merged/MT/cellr_True/numread_200/filters/minC10_minR50_topN0_hetT0.001_hetC10_hetCount5_bq20/mgatk/vireoIn/clones/variants_init/knn/kparam_3/concat/gff_hg38_1_2/annotation_clones/de_clone_btwncond_RNA/minPct0.01_logfc0.1/GSEA_pctthresh.0.1_pthresh.0.1_pref.FALSE_stat.log2FoldChange_padj.BH/1_18_DE.tsv_gsea.xlsx\n",
      "f /data/Mito_Trace/output/pipeline/TcellDupi_may17_2021/MTblacklist/data/merged/MT/cellr_True/numread_200/filters/minC10_minR50_topN0_hetT0.001_hetC10_hetCount5_bq20/mgatk/vireoIn/clones/variants_init/knn/kparam_3/concat/gff_hg38_1_2/annotation_clones/de_clone_btwncond_RNA/minPct0.01_logfc0.1/GSEA_pctthresh.0.1_pthresh.0.1_pref.FALSE_stat.log2FoldChange_padj.BH/1_14_DE.tsv_gsea.xlsx\n",
      "f /data/Mito_Trace/output/pipeline/TcellDupi_may17_2021/MTblacklist/data/merged/MT/cellr_True/numread_200/filters/minC10_minR50_topN0_hetT0.001_hetC10_hetCount5_bq20/mgatk/vireoIn/clones/variants_init/knn/kparam_3/concat/gff_hg38_1_2/annotation_clones/de_clone_btwncond_RNA/minPct0.01_logfc0.1/GSEA_pctthresh.0.1_pthresh.0.1_pref.FALSE_stat.log2FoldChange_padj.BH/1_5_DE.tsv_gsea.xlsx\n",
      "f /data/Mito_Trace/output/pipeline/TcellDupi_may17_2021/MTblacklist/data/merged/MT/cellr_True/numread_200/filters/minC10_minR50_topN0_hetT0.001_hetC10_hetCount5_bq20/mgatk/vireoIn/clones/variants_init/knn/kparam_3/concat/gff_hg38_1_2/annotation_clones/de_clone_btwncond_RNA/minPct0.01_logfc0.1/GSEA_pctthresh.0.1_pthresh.0.1_pref.FALSE_stat.log2FoldChange_padj.BH/1_29_DE.tsv_gsea.xlsx\n",
      "f /data/Mito_Trace/output/pipeline/TcellDupi_may17_2021/MTblacklist/data/merged/MT/cellr_True/numread_200/filters/minC10_minR50_topN0_hetT0.001_hetC10_hetCount5_bq20/mgatk/vireoIn/clones/variants_init/knn/kparam_3/concat/gff_hg38_1_2/annotation_clones/de_clone_btwncond_RNA/minPct0.01_logfc0.1/GSEA_pctthresh.0.1_pthresh.0.1_pref.FALSE_stat.log2FoldChange_padj.BH/1_4_DE.tsv_gsea.xlsx\n",
      "f /data/Mito_Trace/output/pipeline/TcellDupi_may17_2021/MTblacklist/data/merged/MT/cellr_True/numread_200/filters/minC10_minR50_topN0_hetT0.001_hetC10_hetCount5_bq20/mgatk/vireoIn/clones/variants_init/knn/kparam_3/concat/gff_hg38_1_2/annotation_clones/de_clone_btwncond_RNA/minPct0.01_logfc0.1/GSEA_pctthresh.0.1_pthresh.0.1_pref.FALSE_stat.log2FoldChange_padj.BH/0_29_DE.tsv_gsea.xlsx\n",
      "f /data/Mito_Trace/output/pipeline/TcellDupi_may17_2021/MTblacklist/data/merged/MT/cellr_True/numread_200/filters/minC10_minR50_topN0_hetT0.001_hetC10_hetCount5_bq20/mgatk/vireoIn/clones/variants_init/knn/kparam_3/concat/gff_hg38_1_2/annotation_clones/de_clone_btwncond_RNA/minPct0.01_logfc0.1/GSEA_pctthresh.0.1_pthresh.0.1_pref.FALSE_stat.log2FoldChange_padj.BH/1_22_DE.tsv_gsea.xlsx\n",
      "f /data/Mito_Trace/output/pipeline/TcellDupi_may17_2021/MTblacklist/data/merged/MT/cellr_True/numread_200/filters/minC10_minR50_topN0_hetT0.001_hetC10_hetCount5_bq20/mgatk/vireoIn/clones/variants_init/knn/kparam_3/concat/gff_hg38_1_2/annotation_clones/de_clone_btwncond_RNA/minPct0.01_logfc0.1/GSEA_pctthresh.0.1_pthresh.0.1_pref.FALSE_stat.log2FoldChange_padj.BH/0_2_DE.tsv_gsea.xlsx\n",
      "f /data/Mito_Trace/output/pipeline/TcellDupi_may17_2021/MTblacklist/data/merged/MT/cellr_True/numread_200/filters/minC10_minR50_topN0_hetT0.001_hetC10_hetCount5_bq20/mgatk/vireoIn/clones/variants_init/knn/kparam_3/concat/gff_hg38_1_2/annotation_clones/de_clone_btwncond_RNA/minPct0.01_logfc0.1/GSEA_pctthresh.0.1_pthresh.0.1_pref.FALSE_stat.log2FoldChange_padj.BH/0_20_DE.tsv_gsea.xlsx\n",
      "f /data/Mito_Trace/output/pipeline/TcellDupi_may17_2021/MTblacklist/data/merged/MT/cellr_True/numread_200/filters/minC10_minR50_topN0_hetT0.001_hetC10_hetCount5_bq20/mgatk/vireoIn/clones/variants_init/knn/kparam_3/concat/gff_hg38_1_2/annotation_clones/de_clone_btwncond_RNA/minPct0.01_logfc0.1/GSEA_pctthresh.0.1_pthresh.0.1_pref.FALSE_stat.log2FoldChange_padj.BH/0_12_DE.tsv_gsea.xlsx\n",
      "f /data/Mito_Trace/output/pipeline/TcellDupi_may17_2021/MTblacklist/data/merged/MT/cellr_True/numread_200/filters/minC10_minR50_topN0_hetT0.001_hetC10_hetCount5_bq20/mgatk/vireoIn/clones/variants_init/knn/kparam_3/concat/gff_hg38_1_2/annotation_clones/de_clone_btwncond_RNA/minPct0.01_logfc0.1/GSEA_pctthresh.0.1_pthresh.0.1_pref.FALSE_stat.log2FoldChange_padj.BH/1_0_DE.tsv_gsea.xlsx\n",
      "f /data/Mito_Trace/output/pipeline/TcellDupi_may17_2021/MTblacklist/data/merged/MT/cellr_True/numread_200/filters/minC10_minR50_topN0_hetT0.001_hetC10_hetCount5_bq20/mgatk/vireoIn/clones/variants_init/knn/kparam_3/concat/gff_hg38_1_2/annotation_clones/de_clone_btwncond_RNA/minPct0.01_logfc0.1/GSEA_pctthresh.0.1_pthresh.0.1_pref.FALSE_stat.log2FoldChange_padj.BH/1_27_DE.tsv_gsea.xlsx\n",
      "f /data/Mito_Trace/output/pipeline/TcellDupi_may17_2021/MTblacklist/data/merged/MT/cellr_True/numread_200/filters/minC10_minR50_topN0_hetT0.001_hetC10_hetCount5_bq20/mgatk/vireoIn/clones/variants_init/knn/kparam_3/concat/gff_hg38_1_2/annotation_clones/de_clone_btwncond_RNA/minPct0.01_logfc0.1/GSEA_pctthresh.0.1_pthresh.0.1_pref.FALSE_stat.log2FoldChange_padj.BH/1_13_DE.tsv_gsea.xlsx\n",
      "f /data/Mito_Trace/output/pipeline/TcellDupi_may17_2021/MTblacklist/data/merged/MT/cellr_True/numread_200/filters/minC10_minR50_topN0_hetT0.001_hetC10_hetCount5_bq20/mgatk/vireoIn/clones/variants_init/knn/kparam_3/concat/gff_hg38_1_2/annotation_clones/de_clone_btwncond_RNA/minPct0.01_logfc0.1/GSEA_pctthresh.0.1_pthresh.0.1_pref.FALSE_stat.log2FoldChange_padj.BH/0_15_DE.tsv_gsea.xlsx\n",
      "f /data/Mito_Trace/output/pipeline/TcellDupi_may17_2021/MTblacklist/data/merged/MT/cellr_True/numread_200/filters/minC10_minR50_topN0_hetT0.001_hetC10_hetCount5_bq20/mgatk/vireoIn/clones/variants_init/knn/kparam_3/concat/gff_hg38_1_2/annotation_clones/de_clone_btwncond_RNA/minPct0.01_logfc0.1/GSEA_pctthresh.0.1_pthresh.0.1_pref.FALSE_stat.log2FoldChange_padj.BH/0_0_DE.tsv_gsea.xlsx\n",
      "f /data/Mito_Trace/output/pipeline/TcellDupi_may17_2021/MTblacklist/data/merged/MT/cellr_True/numread_200/filters/minC10_minR50_topN0_hetT0.001_hetC10_hetCount5_bq20/mgatk/vireoIn/clones/variants_init/knn/kparam_3/concat/gff_hg38_1_2/annotation_clones/de_clone_btwncond_RNA/minPct0.01_logfc0.1/GSEA_pctthresh.0.1_pthresh.0.1_pref.FALSE_stat.log2FoldChange_padj.BH/1_11_DE.tsv_gsea.xlsx\n",
      "f /data/Mito_Trace/output/pipeline/TcellDupi_may17_2021/MTblacklist/data/merged/MT/cellr_True/numread_200/filters/minC10_minR50_topN0_hetT0.001_hetC10_hetCount5_bq20/mgatk/vireoIn/clones/variants_init/knn/kparam_3/concat/gff_hg38_1_2/annotation_clones/de_clone_btwncond_RNA/minPct0.01_logfc0.1/GSEA_pctthresh.0.1_pthresh.0.1_pref.FALSE_stat.log2FoldChange_padj.BH/1_9_DE.tsv_gsea.xlsx\n"
     ]
    },
    {
     "name": "stdout",
     "output_type": "stream",
     "text": [
      "f /data/Mito_Trace/output/pipeline/TcellDupi_may17_2021/MTblacklist/data/merged/MT/cellr_True/numread_200/filters/minC10_minR50_topN0_hetT0.001_hetC10_hetCount5_bq20/mgatk/vireoIn/clones/variants_init/knn/kparam_3/concat/gff_hg38_1_2/annotation_clones/de_clone_btwncond_RNA/minPct0.01_logfc0.1/GSEA_pctthresh.0.1_pthresh.0.1_pref.FALSE_stat.log2FoldChange_padj.BH/1_2_DE.tsv_gsea.xlsx\n",
      "f /data/Mito_Trace/output/pipeline/TcellDupi_may17_2021/MTblacklist/data/merged/MT/cellr_True/numread_200/filters/minC10_minR50_topN0_hetT0.001_hetC10_hetCount5_bq20/mgatk/vireoIn/clones/variants_init/knn/kparam_3/concat/gff_hg38_1_2/annotation_clones/de_clone_btwncond_RNA/minPct0.01_logfc0.1/GSEA_pctthresh.0.1_pthresh.0.1_pref.FALSE_stat.log2FoldChange_padj.BH/0_5_DE.tsv_gsea.xlsx\n",
      "f /data/Mito_Trace/output/pipeline/TcellDupi_may17_2021/MTblacklist/data/merged/MT/cellr_True/numread_200/filters/minC10_minR50_topN0_hetT0.001_hetC10_hetCount5_bq20/mgatk/vireoIn/clones/variants_init/knn/kparam_3/concat/gff_hg38_1_2/annotation_clones/de_clone_btwncond_RNA/minPct0.01_logfc0.1/GSEA_pctthresh.0.1_pthresh.0.1_pref.FALSE_stat.log2FoldChange_padj.BH/1_8_DE.tsv_gsea.xlsx\n",
      "f /data/Mito_Trace/output/pipeline/TcellDupi_may17_2021/MTblacklist/data/merged/MT/cellr_True/numread_200/filters/minC10_minR50_topN0_hetT0.001_hetC10_hetCount5_bq20/mgatk/vireoIn/clones/variants_init/knn/kparam_3/concat/gff_hg38_1_2/annotation_clones/de_clone_btwncond_RNA/minPct0.01_logfc0.1/GSEA_pctthresh.0.1_pthresh.0.1_pref.FALSE_stat.log2FoldChange_padj.BH/0_9_DE.tsv_gsea.xlsx\n",
      "f /data/Mito_Trace/output/pipeline/TcellDupi_may17_2021/MTblacklist/data/merged/MT/cellr_True/numread_200/filters/minC10_minR50_topN0_hetT0.001_hetC10_hetCount5_bq20/mgatk/vireoIn/clones/variants_init/knn/kparam_3/concat/gff_hg38_1_2/annotation_clones/de_clone_btwncond_RNA/minPct0.01_logfc0.1/GSEA_pctthresh.0.1_pthresh.0.1_pref.FALSE_stat.log2FoldChange_padj.BH/1_1_DE.tsv_gsea.xlsx\n",
      "f /data/Mito_Trace/output/pipeline/TcellDupi_may17_2021/MTblacklist/data/merged/MT/cellr_True/numread_200/filters/minC10_minR50_topN0_hetT0.001_hetC10_hetCount5_bq20/mgatk/vireoIn/clones/variants_init/knn/kparam_3/concat/gff_hg38_1_2/annotation_clones/de_clone_btwncond_RNA/minPct0.01_logfc0.1/GSEA_pctthresh.0.1_pthresh.0.1_pref.FALSE_stat.log2FoldChange_padj.BH/0_7_DE.tsv_gsea.xlsx\n",
      "f /data/Mito_Trace/output/pipeline/TcellDupi_may17_2021/MTblacklist/data/merged/MT/cellr_True/numread_200/filters/minC10_minR50_topN0_hetT0.001_hetC10_hetCount5_bq20/mgatk/vireoIn/clones/variants_init/knn/kparam_3/concat/gff_hg38_1_2/annotation_clones/de_clone_btwncond_RNA/minPct0.01_logfc0.1/GSEA_pctthresh.0.1_pthresh.0.1_pref.FALSE_stat.log2FoldChange_padj.BH/1_7_DE.tsv_gsea.xlsx\n",
      "f /data/Mito_Trace/output/pipeline/TcellDupi_may17_2021/MTblacklist/data/merged/MT/cellr_True/numread_200/filters/minC10_minR50_topN0_hetT0.001_hetC10_hetCount5_bq20/mgatk/vireoIn/clones/variants_init/knn/kparam_3/concat/gff_hg38_1_2/annotation_clones/de_clone_btwncond_RNA/minPct0.01_logfc0.1/GSEA_pctthresh.0.1_pthresh.0.1_pref.FALSE_stat.log2FoldChange_padj.BH/0_4_DE.tsv_gsea.xlsx\n",
      "f /data/Mito_Trace/output/pipeline/TcellDupi_may17_2021/MTblacklist/data/merged/MT/cellr_True/numread_200/filters/minC10_minR50_topN0_hetT0.001_hetC10_hetCount5_bq20/mgatk/vireoIn/clones/variants_init/knn/kparam_3/concat/gff_hg38_1_2/annotation_clones/de_clone_btwncond_RNA/minPct0.01_logfc0.1/GSEA_pctthresh.0.1_pthresh.0.1_pref.FALSE_stat.log2FoldChange_padj.BH/0_10_DE.tsv_gsea.xlsx\n",
      "f /data/Mito_Trace/output/pipeline/TcellDupi_may17_2021/MTblacklist/data/merged/MT/cellr_True/numread_200/filters/minC10_minR50_topN0_hetT0.001_hetC10_hetCount5_bq20/mgatk/vireoIn/clones/variants_init/knn/kparam_3/concat/gff_hg38_1_2/annotation_clones/de_clone_btwncond_RNA/minPct0.01_logfc0.1/GSEA_pctthresh.0.1_pthresh.0.1_pref.FALSE_stat.log2FoldChange_padj.BH/1_6_DE.tsv_gsea.xlsx\n",
      "f /data/Mito_Trace/output/pipeline/TcellDupi_may17_2021/MTblacklist/data/merged/MT/cellr_True/numread_200/filters/minC10_minR50_topN0_hetT0.001_hetC10_hetCount5_bq20/mgatk/vireoIn/clones/variants_init/knn/kparam_3/concat/gff_hg38_1_2/annotation_clones/de_clone_btwncond_RNA/minPct0.01_logfc0.1/GSEA_pctthresh.0.1_pthresh.0.1_pref.FALSE_stat.log2FoldChange_padj.BH/1_26_DE.tsv_gsea.xlsx\n",
      "f /data/Mito_Trace/output/pipeline/TcellDupi_may17_2021/MTblacklist/data/merged/MT/cellr_True/numread_200/filters/minC10_minR50_topN0_hetT0.001_hetC10_hetCount5_bq20/mgatk/vireoIn/clones/variants_init/knn/kparam_3/concat/gff_hg38_1_2/annotation_clones/de_clone_btwncond_RNA/minPct0.01_logfc0.1/GSEA_pctthresh.0.1_pthresh.0.1_pref.FALSE_stat.log2FoldChange_padj.BH/1_35_DE.tsv_gsea.xlsx\n",
      "f /data/Mito_Trace/output/pipeline/TcellDupi_may17_2021/MTblacklist/data/merged/MT/cellr_True/numread_200/filters/minC10_minR50_topN0_hetT0.001_hetC10_hetCount5_bq20/mgatk/vireoIn/clones/variants_init/knn/kparam_3/concat/gff_hg38_1_2/annotation_clones/de_clone_btwncond_RNA/minPct0.01_logfc0.1/GSEA_pctthresh.0.1_pthresh.0.1_pref.FALSE_stat.log2FoldChange_padj.BH/1_25_DE.tsv_gsea.xlsx\n",
      "f /data/Mito_Trace/output/pipeline/TcellDupi_may17_2021/MTblacklist/data/merged/MT/cellr_True/numread_200/filters/minC10_minR50_topN0_hetT0.001_hetC10_hetCount5_bq20/mgatk/vireoIn/clones/variants_init/knn/kparam_3/concat/gff_hg38_1_2/annotation_clones/de_clone_btwncond_RNA/minPct0.01_logfc0.1/GSEA_pctthresh.0.1_pthresh.0.1_pref.FALSE_stat.log2FoldChange_padj.BH/1_10_DE.tsv_gsea.xlsx\n",
      "f /data/Mito_Trace/output/pipeline/TcellDupi_may17_2021/MTblacklist/data/merged/MT/cellr_True/numread_200/filters/minC10_minR50_topN0_hetT0.001_hetC10_hetCount5_bq20/mgatk/vireoIn/clones/variants_init/knn/kparam_3/concat/gff_hg38_1_2/annotation_clones/de_clone_btwncond_RNA/minPct0.01_logfc0.1/GSEA_pctthresh.0.1_pthresh.0.1_pref.FALSE_stat.log2FoldChange_padj.BH/1_15_DE.tsv_gsea.xlsx\n",
      "f /data/Mito_Trace/output/pipeline/TcellDupi_may17_2021/MTblacklist/data/merged/MT/cellr_True/numread_200/filters/minC10_minR50_topN0_hetT0.001_hetC10_hetCount5_bq20/mgatk/vireoIn/clones/variants_init/knn/kparam_3/concat/gff_hg38_1_2/annotation_clones/de_clone_btwncond_RNA/minPct0.01_logfc0.1/GSEA_pctthresh.0.1_pthresh.0.1_pref.FALSE_stat.log2FoldChange_padj.BH/0_6_DE.tsv_gsea.xlsx\n",
      "f /data/Mito_Trace/output/pipeline/TcellDupi_may17_2021/MTblacklist/data/merged/MT/cellr_True/numread_200/filters/minC10_minR50_topN0_hetT0.001_hetC10_hetCount5_bq20/mgatk/vireoIn/clones/variants_init/knn/kparam_3/concat/gff_hg38_1_2/annotation_clones/de_clone_btwncond_RNA/minPct0.01_logfc0.1/GSEA_pctthresh.0.1_pthresh.0.1_pref.FALSE_stat.log2FoldChange_padj.BH/1_20_DE.tsv_gsea.xlsx\n",
      "f /data/Mito_Trace/output/pipeline/TcellDupi_may17_2021/MTblacklist/data/merged/MT/cellr_True/numread_200/filters/minC10_minR50_topN0_hetT0.001_hetC10_hetCount5_bq20/mgatk/vireoIn/clones/variants_init/knn/kparam_3/concat/gff_hg38_1_2/annotation_clones/de_clone_btwncond_RNA/minPct0.01_logfc0.1/GSEA_pctthresh.0.1_pthresh.0.1_pref.FALSE_stat.log2FoldChange_padj.BH/0_32_DE.tsv_gsea.xlsx\n"
     ]
    }
   ],
   "source": [
    "out_ds = defaultdict(list)\n",
    "#out_d = []\n",
    "all_gene_set_ids = defaultdict(set)\n",
    "for ind, f in enumerate(gsea_outs):\n",
    "    print('f', f)\n",
    "    data = pd.read_excel(f, sheet_name=None)\n",
    "    name = names[ind]\n",
    "    curr_comp = []\n",
    "    gene_set_ids = defaultdict(list)\n",
    "    for grp in data:\n",
    "        curr_grp = data[grp].copy().set_index(\"ID\")\n",
    "        \n",
    "        curr_grp = curr_grp[[ \"p.adjust\"]]#, \"NES\", \"setSize\"]]\n",
    "        curr_grp = curr_grp.rename({\"p.adjust\":f\"{name} padjust\"} #\"NES\":f\"{name} NES\", \"setSize\":f\"{name} setSize\", \n",
    "                                    ,axis=1)\n",
    "        curr_comp.append(curr_grp)\n",
    "        gene_set_ids[grp].extend(curr_grp.index.values)\n",
    "        all_gene_set_ids[grp] = all_gene_set_ids[grp].union(set(curr_grp.index.values))\n",
    "        \n",
    "        out_ds[grp].append(curr_grp)\n",
    "    assert(not hasOverlapInds(gene_set_ids))\n",
    "    # concat row-wise since IDs are not the same\n",
    "    #out_d.append(pd.concat(curr_comp, ignore_index=False))\n",
    "    \n",
    "#out_df = pd.concat(out_d, axis=1)\n",
    "\n",
    "#curr_grp[\"Db\"] = grp\n",
    "\n",
    "out_dfs = {x:pd.concat(out_ds[x], axis=1, ignore_index=False) for x in out_ds}\n",
    "\n",
    "for grp in out_dfs:\n",
    "    grp_df = out_dfs[grp]\n",
    "    p_cols = grp_df.columns[grp_df.columns.str.contains(\"padjust\")]\n",
    "    p_cols\n",
    "    ordered_inds = np.log10(grp_df.loc[:,p_cols].fillna(1.0)).mean(axis=1, skipna=True).sort_values().index\n",
    "    grp_df = grp_df.loc[ordered_inds]\n",
    "    out_dfs[grp] = grp_df\n",
    "\n",
    "\n",
    "## Save csvs and figures\n",
    "%matplotlib inline\n",
    "for grp in out_dfs:\n",
    "    curr_out_f = join(outdir, f\"{grp}_summary\")\n",
    "    out_dfs[grp].to_csv(f\"{curr_out_f}.csv\")\n",
    "    f = plt.figure(figsize=(10,10))\n",
    "    sns.heatmap(out_dfs[grp], cmap=\"mako\")\n",
    "    plt.savefig(f\"{curr_out_f}.pdf\", bbox_inches='tight')\n"
   ]
  },
  {
   "cell_type": "code",
   "execution_count": 6,
   "id": "752d8bad",
   "metadata": {
    "scrolled": true
   },
   "outputs": [
    {
     "name": "stdout",
     "output_type": "stream",
     "text": [
      "f /data/Mito_Trace/output/pipeline/TcellDupi_may17_2021/MTblacklist/data/merged/MT/cellr_True/numread_200/filters/minC10_minR50_topN0_hetT0.001_hetC10_hetCount5_bq20/mgatk/vireoIn/clones/variants_init/knn/kparam_3/concat/gff_hg38_1_2/annotation_clones/de_clone_btwncond_RNA/minPct0.01_logfc0.1/GSEA_pctthresh.0.1_pthresh.0.1_pref.FALSE_stat.log2FoldChange_padj.BH/1_16_DE.tsv_gsea.xlsx\n",
      "f /data/Mito_Trace/output/pipeline/TcellDupi_may17_2021/MTblacklist/data/merged/MT/cellr_True/numread_200/filters/minC10_minR50_topN0_hetT0.001_hetC10_hetCount5_bq20/mgatk/vireoIn/clones/variants_init/knn/kparam_3/concat/gff_hg38_1_2/annotation_clones/de_clone_btwncond_RNA/minPct0.01_logfc0.1/GSEA_pctthresh.0.1_pthresh.0.1_pref.FALSE_stat.log2FoldChange_padj.BH/0_11_DE.tsv_gsea.xlsx\n",
      "f /data/Mito_Trace/output/pipeline/TcellDupi_may17_2021/MTblacklist/data/merged/MT/cellr_True/numread_200/filters/minC10_minR50_topN0_hetT0.001_hetC10_hetCount5_bq20/mgatk/vireoIn/clones/variants_init/knn/kparam_3/concat/gff_hg38_1_2/annotation_clones/de_clone_btwncond_RNA/minPct0.01_logfc0.1/GSEA_pctthresh.0.1_pthresh.0.1_pref.FALSE_stat.log2FoldChange_padj.BH/0_3_DE.tsv_gsea.xlsx\n",
      "f /data/Mito_Trace/output/pipeline/TcellDupi_may17_2021/MTblacklist/data/merged/MT/cellr_True/numread_200/filters/minC10_minR50_topN0_hetT0.001_hetC10_hetCount5_bq20/mgatk/vireoIn/clones/variants_init/knn/kparam_3/concat/gff_hg38_1_2/annotation_clones/de_clone_btwncond_RNA/minPct0.01_logfc0.1/GSEA_pctthresh.0.1_pthresh.0.1_pref.FALSE_stat.log2FoldChange_padj.BH/1_3_DE.tsv_gsea.xlsx\n",
      "f /data/Mito_Trace/output/pipeline/TcellDupi_may17_2021/MTblacklist/data/merged/MT/cellr_True/numread_200/filters/minC10_minR50_topN0_hetT0.001_hetC10_hetCount5_bq20/mgatk/vireoIn/clones/variants_init/knn/kparam_3/concat/gff_hg38_1_2/annotation_clones/de_clone_btwncond_RNA/minPct0.01_logfc0.1/GSEA_pctthresh.0.1_pthresh.0.1_pref.FALSE_stat.log2FoldChange_padj.BH/0_13_DE.tsv_gsea.xlsx\n",
      "f /data/Mito_Trace/output/pipeline/TcellDupi_may17_2021/MTblacklist/data/merged/MT/cellr_True/numread_200/filters/minC10_minR50_topN0_hetT0.001_hetC10_hetCount5_bq20/mgatk/vireoIn/clones/variants_init/knn/kparam_3/concat/gff_hg38_1_2/annotation_clones/de_clone_btwncond_RNA/minPct0.01_logfc0.1/GSEA_pctthresh.0.1_pthresh.0.1_pref.FALSE_stat.log2FoldChange_padj.BH/0_1_DE.tsv_gsea.xlsx\n",
      "f /data/Mito_Trace/output/pipeline/TcellDupi_may17_2021/MTblacklist/data/merged/MT/cellr_True/numread_200/filters/minC10_minR50_topN0_hetT0.001_hetC10_hetCount5_bq20/mgatk/vireoIn/clones/variants_init/knn/kparam_3/concat/gff_hg38_1_2/annotation_clones/de_clone_btwncond_RNA/minPct0.01_logfc0.1/GSEA_pctthresh.0.1_pthresh.0.1_pref.FALSE_stat.log2FoldChange_padj.BH/0_23_DE.tsv_gsea.xlsx\n",
      "f /data/Mito_Trace/output/pipeline/TcellDupi_may17_2021/MTblacklist/data/merged/MT/cellr_True/numread_200/filters/minC10_minR50_topN0_hetT0.001_hetC10_hetCount5_bq20/mgatk/vireoIn/clones/variants_init/knn/kparam_3/concat/gff_hg38_1_2/annotation_clones/de_clone_btwncond_RNA/minPct0.01_logfc0.1/GSEA_pctthresh.0.1_pthresh.0.1_pref.FALSE_stat.log2FoldChange_padj.BH/1_19_DE.tsv_gsea.xlsx\n",
      "f /data/Mito_Trace/output/pipeline/TcellDupi_may17_2021/MTblacklist/data/merged/MT/cellr_True/numread_200/filters/minC10_minR50_topN0_hetT0.001_hetC10_hetCount5_bq20/mgatk/vireoIn/clones/variants_init/knn/kparam_3/concat/gff_hg38_1_2/annotation_clones/de_clone_btwncond_RNA/minPct0.01_logfc0.1/GSEA_pctthresh.0.1_pthresh.0.1_pref.FALSE_stat.log2FoldChange_padj.BH/1_18_DE.tsv_gsea.xlsx\n",
      "f /data/Mito_Trace/output/pipeline/TcellDupi_may17_2021/MTblacklist/data/merged/MT/cellr_True/numread_200/filters/minC10_minR50_topN0_hetT0.001_hetC10_hetCount5_bq20/mgatk/vireoIn/clones/variants_init/knn/kparam_3/concat/gff_hg38_1_2/annotation_clones/de_clone_btwncond_RNA/minPct0.01_logfc0.1/GSEA_pctthresh.0.1_pthresh.0.1_pref.FALSE_stat.log2FoldChange_padj.BH/1_14_DE.tsv_gsea.xlsx\n",
      "f /data/Mito_Trace/output/pipeline/TcellDupi_may17_2021/MTblacklist/data/merged/MT/cellr_True/numread_200/filters/minC10_minR50_topN0_hetT0.001_hetC10_hetCount5_bq20/mgatk/vireoIn/clones/variants_init/knn/kparam_3/concat/gff_hg38_1_2/annotation_clones/de_clone_btwncond_RNA/minPct0.01_logfc0.1/GSEA_pctthresh.0.1_pthresh.0.1_pref.FALSE_stat.log2FoldChange_padj.BH/1_5_DE.tsv_gsea.xlsx\n",
      "f /data/Mito_Trace/output/pipeline/TcellDupi_may17_2021/MTblacklist/data/merged/MT/cellr_True/numread_200/filters/minC10_minR50_topN0_hetT0.001_hetC10_hetCount5_bq20/mgatk/vireoIn/clones/variants_init/knn/kparam_3/concat/gff_hg38_1_2/annotation_clones/de_clone_btwncond_RNA/minPct0.01_logfc0.1/GSEA_pctthresh.0.1_pthresh.0.1_pref.FALSE_stat.log2FoldChange_padj.BH/1_29_DE.tsv_gsea.xlsx\n",
      "f /data/Mito_Trace/output/pipeline/TcellDupi_may17_2021/MTblacklist/data/merged/MT/cellr_True/numread_200/filters/minC10_minR50_topN0_hetT0.001_hetC10_hetCount5_bq20/mgatk/vireoIn/clones/variants_init/knn/kparam_3/concat/gff_hg38_1_2/annotation_clones/de_clone_btwncond_RNA/minPct0.01_logfc0.1/GSEA_pctthresh.0.1_pthresh.0.1_pref.FALSE_stat.log2FoldChange_padj.BH/1_4_DE.tsv_gsea.xlsx\n",
      "f /data/Mito_Trace/output/pipeline/TcellDupi_may17_2021/MTblacklist/data/merged/MT/cellr_True/numread_200/filters/minC10_minR50_topN0_hetT0.001_hetC10_hetCount5_bq20/mgatk/vireoIn/clones/variants_init/knn/kparam_3/concat/gff_hg38_1_2/annotation_clones/de_clone_btwncond_RNA/minPct0.01_logfc0.1/GSEA_pctthresh.0.1_pthresh.0.1_pref.FALSE_stat.log2FoldChange_padj.BH/0_29_DE.tsv_gsea.xlsx\n",
      "f /data/Mito_Trace/output/pipeline/TcellDupi_may17_2021/MTblacklist/data/merged/MT/cellr_True/numread_200/filters/minC10_minR50_topN0_hetT0.001_hetC10_hetCount5_bq20/mgatk/vireoIn/clones/variants_init/knn/kparam_3/concat/gff_hg38_1_2/annotation_clones/de_clone_btwncond_RNA/minPct0.01_logfc0.1/GSEA_pctthresh.0.1_pthresh.0.1_pref.FALSE_stat.log2FoldChange_padj.BH/1_22_DE.tsv_gsea.xlsx\n",
      "f /data/Mito_Trace/output/pipeline/TcellDupi_may17_2021/MTblacklist/data/merged/MT/cellr_True/numread_200/filters/minC10_minR50_topN0_hetT0.001_hetC10_hetCount5_bq20/mgatk/vireoIn/clones/variants_init/knn/kparam_3/concat/gff_hg38_1_2/annotation_clones/de_clone_btwncond_RNA/minPct0.01_logfc0.1/GSEA_pctthresh.0.1_pthresh.0.1_pref.FALSE_stat.log2FoldChange_padj.BH/0_2_DE.tsv_gsea.xlsx\n",
      "f /data/Mito_Trace/output/pipeline/TcellDupi_may17_2021/MTblacklist/data/merged/MT/cellr_True/numread_200/filters/minC10_minR50_topN0_hetT0.001_hetC10_hetCount5_bq20/mgatk/vireoIn/clones/variants_init/knn/kparam_3/concat/gff_hg38_1_2/annotation_clones/de_clone_btwncond_RNA/minPct0.01_logfc0.1/GSEA_pctthresh.0.1_pthresh.0.1_pref.FALSE_stat.log2FoldChange_padj.BH/0_20_DE.tsv_gsea.xlsx\n",
      "f /data/Mito_Trace/output/pipeline/TcellDupi_may17_2021/MTblacklist/data/merged/MT/cellr_True/numread_200/filters/minC10_minR50_topN0_hetT0.001_hetC10_hetCount5_bq20/mgatk/vireoIn/clones/variants_init/knn/kparam_3/concat/gff_hg38_1_2/annotation_clones/de_clone_btwncond_RNA/minPct0.01_logfc0.1/GSEA_pctthresh.0.1_pthresh.0.1_pref.FALSE_stat.log2FoldChange_padj.BH/0_12_DE.tsv_gsea.xlsx\n",
      "f /data/Mito_Trace/output/pipeline/TcellDupi_may17_2021/MTblacklist/data/merged/MT/cellr_True/numread_200/filters/minC10_minR50_topN0_hetT0.001_hetC10_hetCount5_bq20/mgatk/vireoIn/clones/variants_init/knn/kparam_3/concat/gff_hg38_1_2/annotation_clones/de_clone_btwncond_RNA/minPct0.01_logfc0.1/GSEA_pctthresh.0.1_pthresh.0.1_pref.FALSE_stat.log2FoldChange_padj.BH/1_0_DE.tsv_gsea.xlsx\n",
      "f /data/Mito_Trace/output/pipeline/TcellDupi_may17_2021/MTblacklist/data/merged/MT/cellr_True/numread_200/filters/minC10_minR50_topN0_hetT0.001_hetC10_hetCount5_bq20/mgatk/vireoIn/clones/variants_init/knn/kparam_3/concat/gff_hg38_1_2/annotation_clones/de_clone_btwncond_RNA/minPct0.01_logfc0.1/GSEA_pctthresh.0.1_pthresh.0.1_pref.FALSE_stat.log2FoldChange_padj.BH/1_27_DE.tsv_gsea.xlsx\n",
      "f /data/Mito_Trace/output/pipeline/TcellDupi_may17_2021/MTblacklist/data/merged/MT/cellr_True/numread_200/filters/minC10_minR50_topN0_hetT0.001_hetC10_hetCount5_bq20/mgatk/vireoIn/clones/variants_init/knn/kparam_3/concat/gff_hg38_1_2/annotation_clones/de_clone_btwncond_RNA/minPct0.01_logfc0.1/GSEA_pctthresh.0.1_pthresh.0.1_pref.FALSE_stat.log2FoldChange_padj.BH/1_13_DE.tsv_gsea.xlsx\n",
      "f /data/Mito_Trace/output/pipeline/TcellDupi_may17_2021/MTblacklist/data/merged/MT/cellr_True/numread_200/filters/minC10_minR50_topN0_hetT0.001_hetC10_hetCount5_bq20/mgatk/vireoIn/clones/variants_init/knn/kparam_3/concat/gff_hg38_1_2/annotation_clones/de_clone_btwncond_RNA/minPct0.01_logfc0.1/GSEA_pctthresh.0.1_pthresh.0.1_pref.FALSE_stat.log2FoldChange_padj.BH/0_15_DE.tsv_gsea.xlsx\n",
      "f /data/Mito_Trace/output/pipeline/TcellDupi_may17_2021/MTblacklist/data/merged/MT/cellr_True/numread_200/filters/minC10_minR50_topN0_hetT0.001_hetC10_hetCount5_bq20/mgatk/vireoIn/clones/variants_init/knn/kparam_3/concat/gff_hg38_1_2/annotation_clones/de_clone_btwncond_RNA/minPct0.01_logfc0.1/GSEA_pctthresh.0.1_pthresh.0.1_pref.FALSE_stat.log2FoldChange_padj.BH/0_0_DE.tsv_gsea.xlsx\n",
      "f /data/Mito_Trace/output/pipeline/TcellDupi_may17_2021/MTblacklist/data/merged/MT/cellr_True/numread_200/filters/minC10_minR50_topN0_hetT0.001_hetC10_hetCount5_bq20/mgatk/vireoIn/clones/variants_init/knn/kparam_3/concat/gff_hg38_1_2/annotation_clones/de_clone_btwncond_RNA/minPct0.01_logfc0.1/GSEA_pctthresh.0.1_pthresh.0.1_pref.FALSE_stat.log2FoldChange_padj.BH/1_11_DE.tsv_gsea.xlsx\n",
      "f /data/Mito_Trace/output/pipeline/TcellDupi_may17_2021/MTblacklist/data/merged/MT/cellr_True/numread_200/filters/minC10_minR50_topN0_hetT0.001_hetC10_hetCount5_bq20/mgatk/vireoIn/clones/variants_init/knn/kparam_3/concat/gff_hg38_1_2/annotation_clones/de_clone_btwncond_RNA/minPct0.01_logfc0.1/GSEA_pctthresh.0.1_pthresh.0.1_pref.FALSE_stat.log2FoldChange_padj.BH/1_9_DE.tsv_gsea.xlsx\n"
     ]
    },
    {
     "name": "stdout",
     "output_type": "stream",
     "text": [
      "f /data/Mito_Trace/output/pipeline/TcellDupi_may17_2021/MTblacklist/data/merged/MT/cellr_True/numread_200/filters/minC10_minR50_topN0_hetT0.001_hetC10_hetCount5_bq20/mgatk/vireoIn/clones/variants_init/knn/kparam_3/concat/gff_hg38_1_2/annotation_clones/de_clone_btwncond_RNA/minPct0.01_logfc0.1/GSEA_pctthresh.0.1_pthresh.0.1_pref.FALSE_stat.log2FoldChange_padj.BH/1_2_DE.tsv_gsea.xlsx\n",
      "f /data/Mito_Trace/output/pipeline/TcellDupi_may17_2021/MTblacklist/data/merged/MT/cellr_True/numread_200/filters/minC10_minR50_topN0_hetT0.001_hetC10_hetCount5_bq20/mgatk/vireoIn/clones/variants_init/knn/kparam_3/concat/gff_hg38_1_2/annotation_clones/de_clone_btwncond_RNA/minPct0.01_logfc0.1/GSEA_pctthresh.0.1_pthresh.0.1_pref.FALSE_stat.log2FoldChange_padj.BH/0_5_DE.tsv_gsea.xlsx\n",
      "f /data/Mito_Trace/output/pipeline/TcellDupi_may17_2021/MTblacklist/data/merged/MT/cellr_True/numread_200/filters/minC10_minR50_topN0_hetT0.001_hetC10_hetCount5_bq20/mgatk/vireoIn/clones/variants_init/knn/kparam_3/concat/gff_hg38_1_2/annotation_clones/de_clone_btwncond_RNA/minPct0.01_logfc0.1/GSEA_pctthresh.0.1_pthresh.0.1_pref.FALSE_stat.log2FoldChange_padj.BH/1_8_DE.tsv_gsea.xlsx\n",
      "f /data/Mito_Trace/output/pipeline/TcellDupi_may17_2021/MTblacklist/data/merged/MT/cellr_True/numread_200/filters/minC10_minR50_topN0_hetT0.001_hetC10_hetCount5_bq20/mgatk/vireoIn/clones/variants_init/knn/kparam_3/concat/gff_hg38_1_2/annotation_clones/de_clone_btwncond_RNA/minPct0.01_logfc0.1/GSEA_pctthresh.0.1_pthresh.0.1_pref.FALSE_stat.log2FoldChange_padj.BH/0_9_DE.tsv_gsea.xlsx\n",
      "f /data/Mito_Trace/output/pipeline/TcellDupi_may17_2021/MTblacklist/data/merged/MT/cellr_True/numread_200/filters/minC10_minR50_topN0_hetT0.001_hetC10_hetCount5_bq20/mgatk/vireoIn/clones/variants_init/knn/kparam_3/concat/gff_hg38_1_2/annotation_clones/de_clone_btwncond_RNA/minPct0.01_logfc0.1/GSEA_pctthresh.0.1_pthresh.0.1_pref.FALSE_stat.log2FoldChange_padj.BH/1_1_DE.tsv_gsea.xlsx\n",
      "f /data/Mito_Trace/output/pipeline/TcellDupi_may17_2021/MTblacklist/data/merged/MT/cellr_True/numread_200/filters/minC10_minR50_topN0_hetT0.001_hetC10_hetCount5_bq20/mgatk/vireoIn/clones/variants_init/knn/kparam_3/concat/gff_hg38_1_2/annotation_clones/de_clone_btwncond_RNA/minPct0.01_logfc0.1/GSEA_pctthresh.0.1_pthresh.0.1_pref.FALSE_stat.log2FoldChange_padj.BH/0_7_DE.tsv_gsea.xlsx\n",
      "f /data/Mito_Trace/output/pipeline/TcellDupi_may17_2021/MTblacklist/data/merged/MT/cellr_True/numread_200/filters/minC10_minR50_topN0_hetT0.001_hetC10_hetCount5_bq20/mgatk/vireoIn/clones/variants_init/knn/kparam_3/concat/gff_hg38_1_2/annotation_clones/de_clone_btwncond_RNA/minPct0.01_logfc0.1/GSEA_pctthresh.0.1_pthresh.0.1_pref.FALSE_stat.log2FoldChange_padj.BH/1_7_DE.tsv_gsea.xlsx\n",
      "f /data/Mito_Trace/output/pipeline/TcellDupi_may17_2021/MTblacklist/data/merged/MT/cellr_True/numread_200/filters/minC10_minR50_topN0_hetT0.001_hetC10_hetCount5_bq20/mgatk/vireoIn/clones/variants_init/knn/kparam_3/concat/gff_hg38_1_2/annotation_clones/de_clone_btwncond_RNA/minPct0.01_logfc0.1/GSEA_pctthresh.0.1_pthresh.0.1_pref.FALSE_stat.log2FoldChange_padj.BH/0_4_DE.tsv_gsea.xlsx\n",
      "f /data/Mito_Trace/output/pipeline/TcellDupi_may17_2021/MTblacklist/data/merged/MT/cellr_True/numread_200/filters/minC10_minR50_topN0_hetT0.001_hetC10_hetCount5_bq20/mgatk/vireoIn/clones/variants_init/knn/kparam_3/concat/gff_hg38_1_2/annotation_clones/de_clone_btwncond_RNA/minPct0.01_logfc0.1/GSEA_pctthresh.0.1_pthresh.0.1_pref.FALSE_stat.log2FoldChange_padj.BH/0_10_DE.tsv_gsea.xlsx\n",
      "f /data/Mito_Trace/output/pipeline/TcellDupi_may17_2021/MTblacklist/data/merged/MT/cellr_True/numread_200/filters/minC10_minR50_topN0_hetT0.001_hetC10_hetCount5_bq20/mgatk/vireoIn/clones/variants_init/knn/kparam_3/concat/gff_hg38_1_2/annotation_clones/de_clone_btwncond_RNA/minPct0.01_logfc0.1/GSEA_pctthresh.0.1_pthresh.0.1_pref.FALSE_stat.log2FoldChange_padj.BH/1_6_DE.tsv_gsea.xlsx\n",
      "f /data/Mito_Trace/output/pipeline/TcellDupi_may17_2021/MTblacklist/data/merged/MT/cellr_True/numread_200/filters/minC10_minR50_topN0_hetT0.001_hetC10_hetCount5_bq20/mgatk/vireoIn/clones/variants_init/knn/kparam_3/concat/gff_hg38_1_2/annotation_clones/de_clone_btwncond_RNA/minPct0.01_logfc0.1/GSEA_pctthresh.0.1_pthresh.0.1_pref.FALSE_stat.log2FoldChange_padj.BH/1_26_DE.tsv_gsea.xlsx\n",
      "f /data/Mito_Trace/output/pipeline/TcellDupi_may17_2021/MTblacklist/data/merged/MT/cellr_True/numread_200/filters/minC10_minR50_topN0_hetT0.001_hetC10_hetCount5_bq20/mgatk/vireoIn/clones/variants_init/knn/kparam_3/concat/gff_hg38_1_2/annotation_clones/de_clone_btwncond_RNA/minPct0.01_logfc0.1/GSEA_pctthresh.0.1_pthresh.0.1_pref.FALSE_stat.log2FoldChange_padj.BH/1_35_DE.tsv_gsea.xlsx\n",
      "f /data/Mito_Trace/output/pipeline/TcellDupi_may17_2021/MTblacklist/data/merged/MT/cellr_True/numread_200/filters/minC10_minR50_topN0_hetT0.001_hetC10_hetCount5_bq20/mgatk/vireoIn/clones/variants_init/knn/kparam_3/concat/gff_hg38_1_2/annotation_clones/de_clone_btwncond_RNA/minPct0.01_logfc0.1/GSEA_pctthresh.0.1_pthresh.0.1_pref.FALSE_stat.log2FoldChange_padj.BH/1_25_DE.tsv_gsea.xlsx\n",
      "f /data/Mito_Trace/output/pipeline/TcellDupi_may17_2021/MTblacklist/data/merged/MT/cellr_True/numread_200/filters/minC10_minR50_topN0_hetT0.001_hetC10_hetCount5_bq20/mgatk/vireoIn/clones/variants_init/knn/kparam_3/concat/gff_hg38_1_2/annotation_clones/de_clone_btwncond_RNA/minPct0.01_logfc0.1/GSEA_pctthresh.0.1_pthresh.0.1_pref.FALSE_stat.log2FoldChange_padj.BH/1_10_DE.tsv_gsea.xlsx\n",
      "f /data/Mito_Trace/output/pipeline/TcellDupi_may17_2021/MTblacklist/data/merged/MT/cellr_True/numread_200/filters/minC10_minR50_topN0_hetT0.001_hetC10_hetCount5_bq20/mgatk/vireoIn/clones/variants_init/knn/kparam_3/concat/gff_hg38_1_2/annotation_clones/de_clone_btwncond_RNA/minPct0.01_logfc0.1/GSEA_pctthresh.0.1_pthresh.0.1_pref.FALSE_stat.log2FoldChange_padj.BH/1_15_DE.tsv_gsea.xlsx\n",
      "f /data/Mito_Trace/output/pipeline/TcellDupi_may17_2021/MTblacklist/data/merged/MT/cellr_True/numread_200/filters/minC10_minR50_topN0_hetT0.001_hetC10_hetCount5_bq20/mgatk/vireoIn/clones/variants_init/knn/kparam_3/concat/gff_hg38_1_2/annotation_clones/de_clone_btwncond_RNA/minPct0.01_logfc0.1/GSEA_pctthresh.0.1_pthresh.0.1_pref.FALSE_stat.log2FoldChange_padj.BH/0_6_DE.tsv_gsea.xlsx\n",
      "f /data/Mito_Trace/output/pipeline/TcellDupi_may17_2021/MTblacklist/data/merged/MT/cellr_True/numread_200/filters/minC10_minR50_topN0_hetT0.001_hetC10_hetCount5_bq20/mgatk/vireoIn/clones/variants_init/knn/kparam_3/concat/gff_hg38_1_2/annotation_clones/de_clone_btwncond_RNA/minPct0.01_logfc0.1/GSEA_pctthresh.0.1_pthresh.0.1_pref.FALSE_stat.log2FoldChange_padj.BH/1_20_DE.tsv_gsea.xlsx\n",
      "f /data/Mito_Trace/output/pipeline/TcellDupi_may17_2021/MTblacklist/data/merged/MT/cellr_True/numread_200/filters/minC10_minR50_topN0_hetT0.001_hetC10_hetCount5_bq20/mgatk/vireoIn/clones/variants_init/knn/kparam_3/concat/gff_hg38_1_2/annotation_clones/de_clone_btwncond_RNA/minPct0.01_logfc0.1/GSEA_pctthresh.0.1_pthresh.0.1_pref.FALSE_stat.log2FoldChange_padj.BH/0_32_DE.tsv_gsea.xlsx\n"
     ]
    }
   ],
   "source": [
    "out_ds = defaultdict(list)\n",
    "#out_d = []\n",
    "all_gene_set_ids = defaultdict(set)\n",
    "for ind, f in enumerate(gsea_outs):\n",
    "    print('f', f)\n",
    "    data = pd.read_excel(f, sheet_name=None)\n",
    "    name = names[ind]\n",
    "    curr_comp = []\n",
    "    gene_set_ids = defaultdict(list)\n",
    "    for grp in data:\n",
    "        curr_grp = data[grp].copy().set_index(\"ID\")\n",
    "        \n",
    "        curr_grp = curr_grp[[ \"NES\"]]#, \"NES\", \"setSize\"]]\n",
    "        curr_grp = curr_grp.rename({\"NES\":f\"{name} NES\"} #\"NES\":f\"{name} NES\", \"setSize\":f\"{name} setSize\", \n",
    "                                    ,axis=1)\n",
    "        curr_comp.append(curr_grp)\n",
    "        gene_set_ids[grp].extend(curr_grp.index.values)\n",
    "        all_gene_set_ids[grp] = all_gene_set_ids[grp].union(set(curr_grp.index.values))\n",
    "        \n",
    "        out_ds[grp].append(curr_grp)\n",
    "    assert(not hasOverlapInds(gene_set_ids))\n",
    "    # concat row-wise since IDs are not the same\n",
    "    #out_d.append(pd.concat(curr_comp, ignore_index=False))\n",
    "    \n",
    "#out_df = pd.concat(out_d, axis=1)\n",
    "\n",
    "#curr_grp[\"Db\"] = grp\n",
    "\n",
    "out_dfs = {x:pd.concat(out_ds[x], axis=1, ignore_index=False) for x in out_ds}\n",
    "\n",
    "for grp in out_dfs:\n",
    "    grp_df = out_dfs[grp]\n",
    "    p_cols = grp_df.columns[grp_df.columns.str.contains(\"NES\")]\n",
    "    p_cols\n",
    "    ordered_inds = np.log10(grp_df.loc[:,p_cols].fillna(1.0)).mean(axis=1, skipna=True).sort_values().index\n",
    "    grp_df = grp_df.loc[ordered_inds]\n",
    "    out_dfs[grp] = grp_df\n",
    "    \n",
    "    \n",
    "## Save csvs and figures\n",
    "%matplotlib inline\n",
    "for grp in out_dfs:\n",
    "    curr_out_f = join(outdir, f\"{grp}_NES_summary\")\n",
    "    out_dfs[grp].to_csv(f\"{curr_out_f}.csv\")\n",
    "    f = plt.figure(figsize=(10,10))\n",
    "    sns.heatmap(out_dfs[grp], cmap=\"mako\")\n",
    "    plt.savefig(f\"{curr_out_f}.pdf\", bbox_inches='tight')\n"
   ]
  },
  {
   "cell_type": "markdown",
   "id": "79a5b5dc",
   "metadata": {},
   "source": [
    "## Add donor and clone counts if there's a cells_meta"
   ]
  },
  {
   "cell_type": "code",
   "execution_count": null,
   "id": "ce4fd221",
   "metadata": {},
   "outputs": [],
   "source": [
    "if cells_meta_f is not None and cells_meta_f != \"None\":\n",
    "    cells_meta = pd.read_csv(cells_meta_f, sep=\"\\t\")"
   ]
  },
  {
   "cell_type": "markdown",
   "id": "d0c01837",
   "metadata": {},
   "source": [
    "### "
   ]
  }
 ],
 "metadata": {
  "celltoolbar": "Tags",
  "kernelspec": {
   "display_name": "Python 3 (ipykernel)",
   "language": "python",
   "name": "python3"
  },
  "language_info": {
   "codemirror_mode": {
    "name": "ipython",
    "version": 3
   },
   "file_extension": ".py",
   "mimetype": "text/x-python",
   "name": "python",
   "nbconvert_exporter": "python",
   "pygments_lexer": "ipython3",
   "version": "3.7.12"
  }
 },
 "nbformat": 4,
 "nbformat_minor": 5
}
