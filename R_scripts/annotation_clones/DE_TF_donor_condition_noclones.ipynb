{
 "cells": [
  {
   "cell_type": "markdown",
   "id": "223d6f46",
   "metadata": {},
   "source": [
    "## Runs TF DE between conditions within each cluster. \n",
    "### Do this for each donor separately and combined (may be biased to donor with higher cell numbers)"
   ]
  },
  {
   "cell_type": "code",
   "execution_count": 1,
   "id": "235ae72f",
   "metadata": {
    "tags": [
     "parameters"
    ]
   },
   "outputs": [],
   "source": [
    "#integrated_f = \"/data/Mito_Trace/output/pipeline/DUPI_april08_2021/MTblacklist_mtasnucl_Bonly/data/annotation/mergedSamples/allSamples.integrated.rds\" \n",
    "clones_indir = \"/data/Mito_Trace/output/pipeline/DUPI_april08_2021/MTblacklist_mtasnucl_Bonly/data/merged/MT/cellr_True/numread_200/filters/minC10_minR50_topN0_hetT0.001_hetC10_hetCount5_bq20/mgatk/vireoIn/clones/variants_init/knn/kparam_3/concat/annotation_clones\"\n",
    "outdir = \"/data/Mito_Trace/output/pipeline/DUPI_april08_2021/MTblacklist_mtasnucl_Bonly/data/merged/MT/cellr_True/numread_200/filters/minC10_minR50_topN0_hetT0.001_hetC10_hetCount5_bq20/mgatk/vireoIn/clones/variants_init/knn/kparam_3/concat/annotation_clones/DE_TF\"\n",
    "sample_names = \"preB,postB\"\n",
    "cores = 8\n",
    "\n",
    "genome = \"/data/Mito_Trace/data/external/GRCh38_MT_blacklist/fasta/genome.fa\"\n",
    "comps_f = \"\"\n",
    "utils_script <- \"/data/Mito_Trace/R_scripts/seurat_utils.R\"\n",
    "#cond.comparisons <- \"A,preA,postA;B,preB,postB\""
   ]
  },
  {
   "cell_type": "code",
   "execution_count": 2,
   "id": "f2b79c2e",
   "metadata": {},
   "outputs": [
    {
     "name": "stderr",
     "output_type": "stream",
     "text": [
      "Attaching SeuratObject\n",
      "\n"
     ]
    }
   ],
   "source": [
    "source(utils_script)"
   ]
  },
  {
   "cell_type": "markdown",
   "id": "24c21c76",
   "metadata": {},
   "source": [
    "## Libraries"
   ]
  },
  {
   "cell_type": "code",
   "execution_count": 3,
   "id": "ff34ecc1",
   "metadata": {
    "scrolled": true
   },
   "outputs": [
    {
     "name": "stderr",
     "output_type": "stream",
     "text": [
      "\n",
      "\n",
      "Loading required package: BSgenome\n",
      "\n",
      "Loading required package: BiocGenerics\n",
      "\n",
      "\n",
      "Attaching package: ‘BiocGenerics’\n",
      "\n",
      "\n",
      "The following objects are masked from ‘package:stats’:\n",
      "\n",
      "    IQR, mad, sd, var, xtabs\n",
      "\n",
      "\n",
      "The following objects are masked from ‘package:base’:\n",
      "\n",
      "    anyDuplicated, append, as.data.frame, basename, cbind, colnames,\n",
      "    dirname, do.call, duplicated, eval, evalq, Filter, Find, get, grep,\n",
      "    grepl, intersect, is.unsorted, lapply, Map, mapply, match, mget,\n",
      "    order, paste, pmax, pmax.int, pmin, pmin.int, Position, rank,\n",
      "    rbind, Reduce, rownames, sapply, setdiff, sort, table, tapply,\n",
      "    union, unique, unsplit, which.max, which.min\n",
      "\n",
      "\n",
      "Loading required package: S4Vectors\n",
      "\n",
      "Loading required package: stats4\n",
      "\n",
      "\n",
      "Attaching package: ‘S4Vectors’\n",
      "\n",
      "\n",
      "The following objects are masked from ‘package:base’:\n",
      "\n",
      "    expand.grid, I, unname\n",
      "\n",
      "\n",
      "Loading required package: IRanges\n",
      "\n",
      "Loading required package: GenomeInfoDb\n",
      "\n",
      "Loading required package: GenomicRanges\n",
      "\n",
      "Loading required package: Biostrings\n",
      "\n",
      "Loading required package: XVector\n",
      "\n",
      "\n",
      "Attaching package: ‘Biostrings’\n",
      "\n",
      "\n",
      "The following object is masked from ‘package:base’:\n",
      "\n",
      "    strsplit\n",
      "\n",
      "\n",
      "Loading required package: rtracklayer\n",
      "\n"
     ]
    }
   ],
   "source": [
    "library(motifmatchr)\n",
    "library(JASPAR2020)\n",
    "library(TFBSTools)\n",
    "library(BSgenome.Hsapiens.UCSC.hg38)"
   ]
  },
  {
   "cell_type": "code",
   "execution_count": 4,
   "id": "68b9a981",
   "metadata": {
    "scrolled": true
   },
   "outputs": [
    {
     "name": "stderr",
     "output_type": "stream",
     "text": [
      "\n",
      "Attaching package: ‘dplyr’\n",
      "\n",
      "\n",
      "The following objects are masked from ‘package:Biostrings’:\n",
      "\n",
      "    collapse, intersect, setdiff, setequal, union\n",
      "\n",
      "\n",
      "The following object is masked from ‘package:XVector’:\n",
      "\n",
      "    slice\n",
      "\n",
      "\n",
      "The following objects are masked from ‘package:GenomicRanges’:\n",
      "\n",
      "    intersect, setdiff, union\n",
      "\n",
      "\n",
      "The following object is masked from ‘package:GenomeInfoDb’:\n",
      "\n",
      "    intersect\n",
      "\n",
      "\n",
      "The following objects are masked from ‘package:IRanges’:\n",
      "\n",
      "    collapse, desc, intersect, setdiff, slice, union\n",
      "\n",
      "\n",
      "The following objects are masked from ‘package:S4Vectors’:\n",
      "\n",
      "    first, intersect, rename, setdiff, setequal, union\n",
      "\n",
      "\n",
      "The following objects are masked from ‘package:BiocGenerics’:\n",
      "\n",
      "    combine, intersect, setdiff, union\n",
      "\n",
      "\n",
      "The following objects are masked from ‘package:stats’:\n",
      "\n",
      "    filter, lag\n",
      "\n",
      "\n",
      "The following objects are masked from ‘package:base’:\n",
      "\n",
      "    intersect, setdiff, setequal, union\n",
      "\n",
      "\n",
      "Loading required package: ensembldb\n",
      "\n",
      "Loading required package: GenomicFeatures\n",
      "\n",
      "Loading required package: AnnotationDbi\n",
      "\n",
      "Loading required package: Biobase\n",
      "\n",
      "Welcome to Bioconductor\n",
      "\n",
      "    Vignettes contain introductory material; view with\n",
      "    'browseVignettes()'. To cite Bioconductor, see\n",
      "    'citation(\"Biobase\")', and for packages 'citation(\"pkgname\")'.\n",
      "\n",
      "\n",
      "\n",
      "Attaching package: ‘AnnotationDbi’\n",
      "\n",
      "\n",
      "The following object is masked from ‘package:dplyr’:\n",
      "\n",
      "    select\n",
      "\n",
      "\n",
      "Loading required package: AnnotationFilter\n",
      "\n",
      "\n",
      "Attaching package: 'ensembldb'\n",
      "\n",
      "\n",
      "The following object is masked from 'package:dplyr':\n",
      "\n",
      "    filter\n",
      "\n",
      "\n",
      "The following object is masked from 'package:stats':\n",
      "\n",
      "    filter\n",
      "\n",
      "\n",
      "\n",
      "Attaching package: 'data.table'\n",
      "\n",
      "\n",
      "The following objects are masked from 'package:dplyr':\n",
      "\n",
      "    between, first, last\n",
      "\n",
      "\n",
      "The following object is masked from 'package:GenomicRanges':\n",
      "\n",
      "    shift\n",
      "\n",
      "\n",
      "The following object is masked from 'package:IRanges':\n",
      "\n",
      "    shift\n",
      "\n",
      "\n",
      "The following objects are masked from 'package:S4Vectors':\n",
      "\n",
      "    first, second\n",
      "\n",
      "\n",
      "\n",
      "Attaching package: 'magrittr'\n",
      "\n",
      "\n",
      "The following object is masked from 'package:AnnotationFilter':\n",
      "\n",
      "    not\n",
      "\n",
      "\n",
      "\n",
      "Attaching package: 'cowplot'\n",
      "\n",
      "\n",
      "The following object is masked from 'package:patchwork':\n",
      "\n",
      "    align_plots\n",
      "\n",
      "\n",
      "\n",
      "Attaching package: 'future'\n",
      "\n",
      "\n",
      "The following object is masked from 'package:AnnotationFilter':\n",
      "\n",
      "    value\n",
      "\n",
      "\n",
      "The following object is masked from 'package:rtracklayer':\n",
      "\n",
      "    values\n",
      "\n",
      "\n",
      "The following object is masked from 'package:GenomicRanges':\n",
      "\n",
      "    values\n",
      "\n",
      "\n",
      "The following object is masked from 'package:S4Vectors':\n",
      "\n",
      "    values\n",
      "\n",
      "\n"
     ]
    },
    {
     "data": {
      "text/html": [
       "<pre class=language-r><code>structure(function (..., envir = parent.frame()) \n",
       "{\n",
       "<span style=white-space:pre-wrap>    future &lt;- SequentialFuture(..., envir = envir)</span>\n",
       "<span style=white-space:pre-wrap>    if (!future$lazy) </span>\n",
       "<span style=white-space:pre-wrap>        future &lt;- run(future)</span>\n",
       "<span style=white-space:pre-wrap>    invisible(future)</span>\n",
       "}, class = c(\"FutureStrategy\", \"sequential\", \"uniprocess\", \"future\", \n",
       "\"function\"))</code></pre>"
      ],
      "text/latex": [
       "\\begin{minted}{r}\n",
       "structure(function (..., envir = parent.frame()) \n",
       "\\{\n",
       "    future <- SequentialFuture(..., envir = envir)\n",
       "    if (!future\\$lazy) \n",
       "        future <- run(future)\n",
       "    invisible(future)\n",
       "\\}, class = c(\"FutureStrategy\", \"sequential\", \"uniprocess\", \"future\", \n",
       "\"function\"))\n",
       "\\end{minted}"
      ],
      "text/markdown": [
       "```r\n",
       "structure(function (..., envir = parent.frame()) \n",
       "{\n",
       "    future <- SequentialFuture(..., envir = envir)\n",
       "    if (!future$lazy) \n",
       "        future <- run(future)\n",
       "    invisible(future)\n",
       "}, class = c(\"FutureStrategy\", \"sequential\", \"uniprocess\", \"future\", \n",
       "\"function\"))\n",
       "```"
      ],
      "text/plain": [
       "sequential:\n",
       "- args: function (..., envir = parent.frame())\n",
       "- tweaked: FALSE\n",
       "- call: NULL"
      ]
     },
     "metadata": {},
     "output_type": "display_data"
    },
    {
     "name": "stderr",
     "output_type": "stream",
     "text": [
      "Warning message:\n",
      "\"Strategy 'multiprocess' is deprecated in future (>= 1.20.0). Instead, explicitly specify either 'multisession' or 'multicore'. In the current R session, 'multiprocess' equals 'multicore'.\"\n"
     ]
    }
   ],
   "source": [
    "library(dplyr)\n",
    "\n",
    "library(GenomicRanges)\n",
    "library(Seurat)\n",
    "library(Signac)\n",
    "library(GenomeInfoDb)\n",
    "library(EnsDb.Hsapiens.v75)\n",
    "library(ggplot2)\n",
    "library(patchwork)\n",
    "set.seed(1234)\n",
    "library(data.table)\n",
    "library(magrittr)\n",
    "library(cowplot)\n",
    "library(metap)\n",
    "library(\"RColorBrewer\")\n",
    "\n",
    "library(future)\n",
    "plan()\n",
    "\n",
    "plan(\"multiprocess\", workers = cores)\n",
    "#options(future.globals.maxSize = 50000 * 1024^2) # for 50 Gb RAM\n",
    "options(future.globals.maxSize = 8000 * 1024^2)"
   ]
  },
  {
   "cell_type": "code",
   "execution_count": 5,
   "id": "f0586405",
   "metadata": {},
   "outputs": [
    {
     "name": "stderr",
     "output_type": "stream",
     "text": [
      "Warning message in dir.create(outdir, showWarnings = T):\n",
      "\"'/data/Mito_Trace/output/pipeline/DUPI_april08_2021/MTblacklist_mtasnucl_Bonly/data/merged/MT/cellr_True/numread_200/filters/minC10_minR50_topN0_hetT0.001_hetC10_hetCount5_bq20/mgatk/vireoIn/clones/variants_init/knn/kparam_3/concat/annotation_clones/DE_TF' already exists\"\n",
      "Warning message in dir.create(cond_outdir, showWarnings = T):\n",
      "\"'/data/Mito_Trace/output/pipeline/DUPI_april08_2021/MTblacklist_mtasnucl_Bonly/data/merged/MT/cellr_True/numread_200/filters/minC10_minR50_topN0_hetT0.001_hetC10_hetCount5_bq20/mgatk/vireoIn/clones/variants_init/knn/kparam_3/concat/annotation_clones/DE_TF/conditions_clusters' already exists\"\n"
     ]
    }
   ],
   "source": [
    "#clust_outdir = file.path(outdir, \"clusters\")\n",
    "#clust_atac_outdir = file.path(outdir, \"clusters_atac\")\n",
    "cond_outdir = file.path(outdir, \"conditions_clusters\")\n",
    "#cons_outdir = file.path(outdir, \"conditions_conserved\")\n",
    "dir.create(outdir, showWarnings = T)\n",
    "#dir.create(clust_outdir, showWarnings = FALSE)\n",
    "dir.create(cond_outdir, showWarnings = T)\n",
    "#dir.create(cons_outdir, showWarnings = FALSE)\n",
    "#dir.create(clust_atac_outdir, showWarnings = FALSE)"
   ]
  },
  {
   "cell_type": "code",
   "execution_count": 6,
   "id": "c2c99fc4",
   "metadata": {
    "scrolled": true
   },
   "outputs": [
    {
     "data": {
      "text/html": [
       "<style>\n",
       ".list-inline {list-style: none; margin:0; padding: 0}\n",
       ".list-inline>li {display: inline-block}\n",
       ".list-inline>li:not(:last-child)::after {content: \"\\00b7\"; padding: 0 .5ex}\n",
       "</style>\n",
       "<ol class=list-inline><li>'preB'</li><li>'postB'</li></ol>\n"
      ],
      "text/latex": [
       "\\begin{enumerate*}\n",
       "\\item 'preB'\n",
       "\\item 'postB'\n",
       "\\end{enumerate*}\n"
      ],
      "text/markdown": [
       "1. 'preB'\n",
       "2. 'postB'\n",
       "\n",
       "\n"
      ],
      "text/plain": [
       "[1] \"preB\"  \"postB\""
      ]
     },
     "metadata": {},
     "output_type": "display_data"
    }
   ],
   "source": [
    "sample_names <- unlist(strsplit(sample_names, \",\")[[1]])\n",
    "#samples <- unlist(strsplit(samples, \",\"))\n",
    "\n",
    "sample_names"
   ]
  },
  {
   "cell_type": "code",
   "execution_count": 7,
   "id": "27d130de",
   "metadata": {},
   "outputs": [],
   "source": [
    "# # extract gene annotations from EnsDb\n",
    "# annotations <- GetGRangesFromEnsDb(ensdb = EnsDb.Hsapiens.v75)\n",
    "\n",
    "# # change to UCSC style since the data was mapped to hg19\n",
    "# seqlevelsStyle(annotations) <- 'UCSC'\n",
    "# genome(annotations) <- \"hg38\"\n",
    "\n",
    "# # add the gene information to the object\n",
    "# Annotation(integrated) <- annotations\n",
    "\n",
    "\n",
    "# gene.activities <- GeneActivity(integrated)\n"
   ]
  },
  {
   "cell_type": "code",
   "execution_count": 8,
   "id": "f882228d",
   "metadata": {
    "scrolled": true
   },
   "outputs": [
    {
     "data": {
      "text/plain": [
       "An object of class Seurat \n",
       "62328 features across 3683 samples within 2 assays \n",
       "Active assay: RNA (20010 features, 0 variable features)\n",
       " 1 other assay present: ATAC\n",
       " 2 dimensional reductions calculated: integrated_lsi, umap"
      ]
     },
     "metadata": {},
     "output_type": "display_data"
    }
   ],
   "source": [
    "se <- readRDS(file.path(clones_indir, \"SE.rds\"))\n",
    "se$donor.cond = paste0(\"d\", se$donor, se$condition)\n",
    "se\n",
    "\n",
    "# integrated <- readRDS(integrated_f)#file.path(indir, paste0(\"allSamples.integrated.rds\")))\n",
    "# integrated"
   ]
  },
  {
   "cell_type": "code",
   "execution_count": 9,
   "id": "5119e159",
   "metadata": {},
   "outputs": [
    {
     "data": {
      "text/html": [
       "<table class=\"dataframe\">\n",
       "<caption>A data.frame: 3683 × 40</caption>\n",
       "<thead>\n",
       "\t<tr><th></th><th scope=col>orig.ident</th><th scope=col>nCount_ATAC</th><th scope=col>nFeature_ATAC</th><th scope=col>total</th><th scope=col>duplicate</th><th scope=col>chimeric</th><th scope=col>unmapped</th><th scope=col>lowmapq</th><th scope=col>mitochondrial</th><th scope=col>passed_filters</th><th scope=col>⋯</th><th scope=col>seurat_clusters</th><th scope=col>nCount_RNA</th><th scope=col>nFeature_RNA</th><th scope=col>ID</th><th scope=col>Row.names</th><th scope=col>lineage</th><th scope=col>donor</th><th scope=col>condition</th><th scope=col>name</th><th scope=col>donor.cond</th></tr>\n",
       "\t<tr><th></th><th scope=col>&lt;chr&gt;</th><th scope=col>&lt;dbl&gt;</th><th scope=col>&lt;int&gt;</th><th scope=col>&lt;dbl&gt;</th><th scope=col>&lt;dbl&gt;</th><th scope=col>&lt;dbl&gt;</th><th scope=col>&lt;dbl&gt;</th><th scope=col>&lt;dbl&gt;</th><th scope=col>&lt;dbl&gt;</th><th scope=col>&lt;dbl&gt;</th><th scope=col>⋯</th><th scope=col>&lt;fct&gt;</th><th scope=col>&lt;dbl&gt;</th><th scope=col>&lt;int&gt;</th><th scope=col>&lt;chr&gt;</th><th scope=col>&lt;I&lt;chr&gt;&gt;</th><th scope=col>&lt;fct&gt;</th><th scope=col>&lt;fct&gt;</th><th scope=col>&lt;fct&gt;</th><th scope=col>&lt;fct&gt;</th><th scope=col>&lt;chr&gt;</th></tr>\n",
       "</thead>\n",
       "<tbody>\n",
       "\t<tr><th scope=row>preB_AAACGAAGTCACTCTC-1</th><td>preB</td><td>3754</td><td>3754</td><td>38954</td><td>29912</td><td>335</td><td> 145</td><td>1057</td><td>0</td><td> 7505</td><td>⋯</td><td>0</td><td>3751</td><td>2539</td><td>AAACGAAGTCACTCTC-1_preB</td><td>preB_AAACGAAGTCACTCTC-1</td><td>10  </td><td>0   </td><td>preB</td><td>0_10</td><td>d0preB   </td></tr>\n",
       "\t<tr><th scope=row>preB_AAACGAAGTCCCTAAA-1</th><td>preB</td><td>4130</td><td>4130</td><td>24309</td><td>15056</td><td>258</td><td> 113</td><td> 968</td><td>0</td><td> 7914</td><td>⋯</td><td>6</td><td>4280</td><td>2832</td><td>AAACGAAGTCCCTAAA-1_preB</td><td>preB_AAACGAAGTCCCTAAA-1</td><td>33  </td><td>3   </td><td>preB</td><td>3_33</td><td>d3preB   </td></tr>\n",
       "\t<tr><th scope=row>preB_AAACGAAGTCTGTGTA-1</th><td>preB</td><td> 683</td><td> 683</td><td>17674</td><td>15525</td><td>189</td><td>  72</td><td> 200</td><td>0</td><td> 1688</td><td>⋯</td><td>2</td><td> 581</td><td> 517</td><td>AAACGAAGTCTGTGTA-1_preB</td><td>preB_AAACGAAGTCTGTGTA-1</td><td>20  </td><td>1   </td><td>preB</td><td>1_20</td><td>d1preB   </td></tr>\n",
       "\t<tr><th scope=row>preB_AAACTCGCAACTCGTA-1</th><td>preB</td><td>5270</td><td>5270</td><td>39016</td><td>26386</td><td>437</td><td> 223</td><td>1941</td><td>0</td><td>10029</td><td>⋯</td><td>6</td><td>5460</td><td>3063</td><td>AAACTCGCAACTCGTA-1_preB</td><td>preB_AAACTCGCAACTCGTA-1</td><td>0   </td><td>2   </td><td>preB</td><td>2_0 </td><td>d2preB   </td></tr>\n",
       "\t<tr><th scope=row>preB_AAACTCGCAGAACGAC-1</th><td>preB</td><td>5575</td><td>5575</td><td>70990</td><td>51473</td><td>759</td><td> 331</td><td>2599</td><td>0</td><td>15828</td><td>⋯</td><td>5</td><td>8266</td><td>3971</td><td>AAACTCGCAGAACGAC-1_preB</td><td>preB_AAACTCGCAGAACGAC-1</td><td>9   </td><td>2   </td><td>preB</td><td>2_9 </td><td>d2preB   </td></tr>\n",
       "\t<tr><th scope=row>preB_AAACTGCCACACATGT-1</th><td>preB</td><td> 968</td><td> 968</td><td>23591</td><td>20903</td><td>197</td><td>  96</td><td> 328</td><td>0</td><td> 2067</td><td>⋯</td><td>0</td><td> 792</td><td> 645</td><td>AAACTGCCACACATGT-1_preB</td><td>preB_AAACTGCCACACATGT-1</td><td>0   </td><td>1   </td><td>preB</td><td>1_0 </td><td>d1preB   </td></tr>\n",
       "\t<tr><th scope=row>preB_AAAGATGGTTTGACCA-1</th><td>preB</td><td>2719</td><td>2719</td><td>52480</td><td>41104</td><td>526</td><td> 355</td><td>1808</td><td>0</td><td> 8687</td><td>⋯</td><td>5</td><td>3984</td><td>2639</td><td>AAAGATGGTTTGACCA-1_preB</td><td>preB_AAAGATGGTTTGACCA-1</td><td>12  </td><td>3   </td><td>preB</td><td>3_12</td><td>d3preB   </td></tr>\n",
       "\t<tr><th scope=row>preB_AAAGATGTCCGTCAAA-1</th><td>preB</td><td>1677</td><td>1677</td><td>13817</td><td> 9880</td><td>167</td><td>  66</td><td> 514</td><td>0</td><td> 3190</td><td>⋯</td><td>7</td><td>1573</td><td>1244</td><td>AAAGATGTCCGTCAAA-1_preB</td><td>preB_AAAGATGTCCGTCAAA-1</td><td>46  </td><td>3   </td><td>preB</td><td>3_46</td><td>d3preB   </td></tr>\n",
       "\t<tr><th scope=row>preB_AAAGATGTCTCTGTTA-1</th><td>preB</td><td>3013</td><td>3013</td><td>28453</td><td>20833</td><td>270</td><td> 144</td><td>1272</td><td>0</td><td> 5934</td><td>⋯</td><td>9</td><td>2832</td><td>1951</td><td>AAAGATGTCTCTGTTA-1_preB</td><td>preB_AAAGATGTCTCTGTTA-1</td><td>16  </td><td>0   </td><td>preB</td><td>0_16</td><td>d0preB   </td></tr>\n",
       "\t<tr><th scope=row>preB_AAAGGATGTGCAAAGC-1</th><td>preB</td><td>5980</td><td>5980</td><td>56034</td><td>34570</td><td>789</td><td> 306</td><td>3756</td><td>0</td><td>16613</td><td>⋯</td><td>7</td><td>7850</td><td>4255</td><td>AAAGGATGTGCAAAGC-1_preB</td><td>preB_AAAGGATGTGCAAAGC-1</td><td>27  </td><td>0   </td><td>preB</td><td>0_27</td><td>d0preB   </td></tr>\n",
       "\t<tr><th scope=row>preB_AAAGGGCAGTGTCGGA-1</th><td>preB</td><td>1310</td><td>1310</td><td>24053</td><td>17275</td><td>314</td><td>2490</td><td>1045</td><td>0</td><td> 2929</td><td>⋯</td><td>7</td><td>1162</td><td> 968</td><td>AAAGGGCAGTGTCGGA-1_preB</td><td>preB_AAAGGGCAGTGTCGGA-1</td><td>22  </td><td>3   </td><td>preB</td><td>3_22</td><td>d3preB   </td></tr>\n",
       "\t<tr><th scope=row>preB_AAAGGGCAGTTGCGCC-1</th><td>preB</td><td> 454</td><td> 454</td><td>17483</td><td>15502</td><td>125</td><td> 120</td><td> 309</td><td>0</td><td> 1427</td><td>⋯</td><td>2</td><td> 369</td><td> 324</td><td>AAAGGGCAGTTGCGCC-1_preB</td><td>preB_AAAGGGCAGTTGCGCC-1</td><td>1   </td><td>2   </td><td>preB</td><td>2_1 </td><td>d2preB   </td></tr>\n",
       "\t<tr><th scope=row>preB_AAAGGGCCACTGCTCT-1</th><td>preB</td><td>1863</td><td>1863</td><td>29798</td><td>24044</td><td>257</td><td> 253</td><td> 877</td><td>0</td><td> 4367</td><td>⋯</td><td>2</td><td>1909</td><td>1401</td><td>AAAGGGCCACTGCTCT-1_preB</td><td>preB_AAAGGGCCACTGCTCT-1</td><td>22  </td><td>3   </td><td>preB</td><td>3_22</td><td>d3preB   </td></tr>\n",
       "\t<tr><th scope=row>preB_AAATGAGCATGGATGG-1</th><td>preB</td><td>3178</td><td>3178</td><td>53971</td><td>44978</td><td>575</td><td> 325</td><td> 984</td><td>0</td><td> 7109</td><td>⋯</td><td>4</td><td>3001</td><td>2196</td><td>NA                     </td><td>preB_AAATGAGCATGGATGG-1</td><td>None</td><td>None</td><td>None</td><td>None</td><td>dNoneNone</td></tr>\n",
       "\t<tr><th scope=row>preB_AAATGAGTCGACTCGG-1</th><td>preB</td><td>1595</td><td>1595</td><td>15660</td><td>12144</td><td>147</td><td>  99</td><td> 421</td><td>0</td><td> 2849</td><td>⋯</td><td>3</td><td>1320</td><td>1089</td><td>AAATGAGTCGACTCGG-1_preB</td><td>preB_AAATGAGTCGACTCGG-1</td><td>28  </td><td>2   </td><td>preB</td><td>2_28</td><td>d2preB   </td></tr>\n",
       "\t<tr><th scope=row>preB_AAATGCCAGCGCCTAC-1</th><td>preB</td><td>1054</td><td>1054</td><td>25591</td><td>22295</td><td>175</td><td> 116</td><td> 484</td><td>0</td><td> 2521</td><td>⋯</td><td>2</td><td> 874</td><td> 721</td><td>AAATGCCAGCGCCTAC-1_preB</td><td>preB_AAATGCCAGCGCCTAC-1</td><td>5   </td><td>2   </td><td>preB</td><td>2_5 </td><td>d2preB   </td></tr>\n",
       "\t<tr><th scope=row>preB_AAATGCCGTGAGTTGG-1</th><td>preB</td><td>2368</td><td>2368</td><td>24796</td><td>18643</td><td>264</td><td> 131</td><td> 744</td><td>0</td><td> 5014</td><td>⋯</td><td>0</td><td>2265</td><td>1751</td><td>AAATGCCGTGAGTTGG-1_preB</td><td>preB_AAATGCCGTGAGTTGG-1</td><td>14  </td><td>2   </td><td>preB</td><td>2_14</td><td>d2preB   </td></tr>\n",
       "\t<tr><th scope=row>preB_AAATGCCTCAGTACAC-1</th><td>preB</td><td>2919</td><td>2919</td><td>42689</td><td>33789</td><td>411</td><td> 201</td><td>1238</td><td>0</td><td> 7050</td><td>⋯</td><td>3</td><td>3065</td><td>2195</td><td>AAATGCCTCAGTACAC-1_preB</td><td>preB_AAATGCCTCAGTACAC-1</td><td>30  </td><td>0   </td><td>preB</td><td>0_30</td><td>d0preB   </td></tr>\n",
       "\t<tr><th scope=row>preB_AAATGCCTCCGTGCGA-1</th><td>preB</td><td>1326</td><td>1326</td><td>20607</td><td>16352</td><td>163</td><td>  96</td><td> 906</td><td>0</td><td> 3090</td><td>⋯</td><td>2</td><td>1256</td><td> 998</td><td>AAATGCCTCCGTGCGA-1_preB</td><td>preB_AAATGCCTCCGTGCGA-1</td><td>1   </td><td>2   </td><td>preB</td><td>2_1 </td><td>d2preB   </td></tr>\n",
       "\t<tr><th scope=row>preB_AAATGCCTCGCGATGC-1</th><td>preB</td><td> 744</td><td> 744</td><td>24036</td><td>21515</td><td>181</td><td> 124</td><td> 363</td><td>0</td><td> 1853</td><td>⋯</td><td>2</td><td> 552</td><td> 485</td><td>AAATGCCTCGCGATGC-1_preB</td><td>preB_AAATGCCTCGCGATGC-1</td><td>10  </td><td>2   </td><td>preB</td><td>2_10</td><td>d2preB   </td></tr>\n",
       "\t<tr><th scope=row>preB_AACAAAGGTAAGCCGA-1</th><td>preB</td><td>4691</td><td>4691</td><td>39854</td><td>26065</td><td>316</td><td> 184</td><td>1668</td><td>0</td><td>11621</td><td>⋯</td><td>0</td><td>5943</td><td>3346</td><td>AACAAAGGTAAGCCGA-1_preB</td><td>preB_AACAAAGGTAAGCCGA-1</td><td>39  </td><td>1   </td><td>preB</td><td>1_39</td><td>d1preB   </td></tr>\n",
       "\t<tr><th scope=row>preB_AACAAAGTCTAAACGC-1</th><td>preB</td><td>3960</td><td>3960</td><td>46612</td><td>35991</td><td>478</td><td> 154</td><td>1551</td><td>0</td><td> 8438</td><td>⋯</td><td>1</td><td>4057</td><td>2513</td><td>AACAAAGTCTAAACGC-1_preB</td><td>preB_AACAAAGTCTAAACGC-1</td><td>5   </td><td>2   </td><td>preB</td><td>2_5 </td><td>d2preB   </td></tr>\n",
       "\t<tr><th scope=row>preB_AACAGTCAGGCCAATG-1</th><td>preB</td><td>5023</td><td>5023</td><td>44129</td><td>29870</td><td>484</td><td> 227</td><td>2396</td><td>0</td><td>11152</td><td>⋯</td><td>1</td><td>5759</td><td>3524</td><td>AACAGTCAGGCCAATG-1_preB</td><td>preB_AACAGTCAGGCCAATG-1</td><td>9   </td><td>2   </td><td>preB</td><td>2_9 </td><td>d2preB   </td></tr>\n",
       "\t<tr><th scope=row>preB_AACAGTCTCGCTATAG-1</th><td>preB</td><td>6125</td><td>6125</td><td>45633</td><td>28581</td><td>473</td><td> 296</td><td>2753</td><td>0</td><td>13530</td><td>⋯</td><td>4</td><td>7294</td><td>4027</td><td>AACAGTCTCGCTATAG-1_preB</td><td>preB_AACAGTCTCGCTATAG-1</td><td>6   </td><td>3   </td><td>preB</td><td>3_6 </td><td>d3preB   </td></tr>\n",
       "\t<tr><th scope=row>preB_AACCAACGTCAGCAAG-1</th><td>preB</td><td>2988</td><td>2988</td><td>75947</td><td>47246</td><td>524</td><td> 522</td><td>5863</td><td>0</td><td>21792</td><td>⋯</td><td>0</td><td>9432</td><td>4868</td><td>AACCAACGTCAGCAAG-1_preB</td><td>preB_AACCAACGTCAGCAAG-1</td><td>6   </td><td>1   </td><td>preB</td><td>1_6 </td><td>d1preB   </td></tr>\n",
       "\t<tr><th scope=row>preB_AACCGATCAACTCGAT-1</th><td>preB</td><td> 929</td><td> 929</td><td>35158</td><td>31296</td><td>277</td><td> 149</td><td> 568</td><td>0</td><td> 2868</td><td>⋯</td><td>2</td><td> 909</td><td> 757</td><td>AACCGATCAACTCGAT-1_preB</td><td>preB_AACCGATCAACTCGAT-1</td><td>30  </td><td>1   </td><td>preB</td><td>1_30</td><td>d1preB   </td></tr>\n",
       "\t<tr><th scope=row>preB_AACCTGAGTAGAATAC-1</th><td>preB</td><td>3222</td><td>3222</td><td>36565</td><td>27510</td><td>323</td><td> 171</td><td>1477</td><td>0</td><td> 7084</td><td>⋯</td><td>1</td><td>3296</td><td>2297</td><td>AACCTGAGTAGAATAC-1_preB</td><td>preB_AACCTGAGTAGAATAC-1</td><td>9   </td><td>2   </td><td>preB</td><td>2_9 </td><td>d2preB   </td></tr>\n",
       "\t<tr><th scope=row>preB_AACCTGATCAGAATGA-1</th><td>preB</td><td>6236</td><td>6236</td><td>62075</td><td>40774</td><td>514</td><td> 321</td><td>3420</td><td>0</td><td>17046</td><td>⋯</td><td>8</td><td>8942</td><td>4794</td><td>AACCTGATCAGAATGA-1_preB</td><td>preB_AACCTGATCAGAATGA-1</td><td>12  </td><td>1   </td><td>preB</td><td>1_12</td><td>d1preB   </td></tr>\n",
       "\t<tr><th scope=row>preB_AACCTTTAGCACACCC-1</th><td>preB</td><td>2353</td><td>2353</td><td>29530</td><td>22242</td><td>292</td><td> 136</td><td> 952</td><td>0</td><td> 5908</td><td>⋯</td><td>1</td><td>2434</td><td>1804</td><td>AACCTTTAGCACACCC-1_preB</td><td>preB_AACCTTTAGCACACCC-1</td><td>3   </td><td>1   </td><td>preB</td><td>1_3 </td><td>d1preB   </td></tr>\n",
       "\t<tr><th scope=row>preB_AACCTTTCAGTAGTTC-1</th><td>preB</td><td>6836</td><td>6836</td><td>43422</td><td>25916</td><td>535</td><td> 174</td><td>2038</td><td>0</td><td>14759</td><td>⋯</td><td>7</td><td>8195</td><td>4449</td><td>AACCTTTCAGTAGTTC-1_preB</td><td>preB_AACCTTTCAGTAGTTC-1</td><td>22  </td><td>3   </td><td>preB</td><td>3_22</td><td>d3preB   </td></tr>\n",
       "\t<tr><th scope=row>⋮</th><td>⋮</td><td>⋮</td><td>⋮</td><td>⋮</td><td>⋮</td><td>⋮</td><td>⋮</td><td>⋮</td><td>⋮</td><td>⋮</td><td>⋱</td><td>⋮</td><td>⋮</td><td>⋮</td><td>⋮</td><td>⋮</td><td>⋮</td><td>⋮</td><td>⋮</td><td>⋮</td><td>⋮</td></tr>\n",
       "\t<tr><th scope=row>postB_TTTACGTAGTCTTAGC-1</th><td>postB</td><td>2065</td><td>2065</td><td>21069</td><td>14168</td><td>193</td><td> 88</td><td> 813</td><td>0</td><td> 5807</td><td>⋯</td><td>0</td><td>2585</td><td>1961</td><td>TTTACGTAGTCTTAGC-1_postB</td><td>postB_TTTACGTAGTCTTAGC-1</td><td>1   </td><td>3   </td><td>postB</td><td>3_1 </td><td>d3postB  </td></tr>\n",
       "\t<tr><th scope=row>postB_TTTACGTCAATCATCG-1</th><td>postB</td><td>1688</td><td>1688</td><td>18539</td><td>13316</td><td>161</td><td> 75</td><td> 698</td><td>0</td><td> 4289</td><td>⋯</td><td>0</td><td>1937</td><td>1506</td><td>TTTACGTCAATCATCG-1_postB</td><td>postB_TTTACGTCAATCATCG-1</td><td>11  </td><td>3   </td><td>postB</td><td>3_11</td><td>d3postB  </td></tr>\n",
       "\t<tr><th scope=row>postB_TTTACGTCAGATGGCA-1</th><td>postB</td><td>1150</td><td>1150</td><td>22743</td><td>12921</td><td>241</td><td>121</td><td>1506</td><td>0</td><td> 7954</td><td>⋯</td><td>2</td><td>2915</td><td>1801</td><td>TTTACGTCAGATGGCA-1_postB</td><td>postB_TTTACGTCAGATGGCA-1</td><td>1   </td><td>3   </td><td>postB</td><td>3_1 </td><td>d3postB  </td></tr>\n",
       "\t<tr><th scope=row>postB_TTTACGTCAGGCATTT-1</th><td>postB</td><td> 852</td><td> 852</td><td>19503</td><td>16063</td><td>175</td><td> 72</td><td> 413</td><td>0</td><td> 2780</td><td>⋯</td><td>0</td><td>1019</td><td> 872</td><td>TTTACGTCAGGCATTT-1_postB</td><td>postB_TTTACGTCAGGCATTT-1</td><td>13  </td><td>1   </td><td>postB</td><td>1_13</td><td>d1postB  </td></tr>\n",
       "\t<tr><th scope=row>postB_TTTACGTCATCGGCTG-1</th><td>postB</td><td>1357</td><td>1357</td><td>20785</td><td>14216</td><td>193</td><td>103</td><td> 930</td><td>0</td><td> 5343</td><td>⋯</td><td>0</td><td>2263</td><td>1497</td><td>TTTACGTCATCGGCTG-1_postB</td><td>postB_TTTACGTCATCGGCTG-1</td><td>43  </td><td>3   </td><td>postB</td><td>3_43</td><td>d3postB  </td></tr>\n",
       "\t<tr><th scope=row>postB_TTTACGTTCCCGTATC-1</th><td>postB</td><td>1494</td><td>1494</td><td>10343</td><td> 6055</td><td> 91</td><td> 49</td><td> 456</td><td>0</td><td> 3692</td><td>⋯</td><td>4</td><td>1616</td><td>1270</td><td>TTTACGTTCCCGTATC-1_postB</td><td>postB_TTTACGTTCCCGTATC-1</td><td>28  </td><td>3   </td><td>postB</td><td>3_28</td><td>d3postB  </td></tr>\n",
       "\t<tr><th scope=row>postB_TTTACGTTCCGTACGG-1</th><td>postB</td><td>1004</td><td>1004</td><td>12140</td><td> 8979</td><td>113</td><td> 65</td><td> 351</td><td>0</td><td> 2632</td><td>⋯</td><td>0</td><td>1096</td><td> 944</td><td>TTTACGTTCCGTACGG-1_postB</td><td>postB_TTTACGTTCCGTACGG-1</td><td>1   </td><td>3   </td><td>postB</td><td>3_1 </td><td>d3postB  </td></tr>\n",
       "\t<tr><th scope=row>postB_TTTGAGGCAAGGAGGG-1</th><td>postB</td><td>5704</td><td>5704</td><td>45398</td><td>24730</td><td>335</td><td>238</td><td>2505</td><td>0</td><td>17590</td><td>⋯</td><td>1</td><td>8083</td><td>4627</td><td>TTTGAGGCAAGGAGGG-1_postB</td><td>postB_TTTGAGGCAAGGAGGG-1</td><td>0   </td><td>3   </td><td>postB</td><td>3_0 </td><td>d3postB  </td></tr>\n",
       "\t<tr><th scope=row>postB_TTTGAGGCACTTATGG-1</th><td>postB</td><td>4198</td><td>4198</td><td>31904</td><td>17727</td><td>249</td><td>184</td><td>1665</td><td>0</td><td>12079</td><td>⋯</td><td>8</td><td>5663</td><td>3712</td><td>TTTGAGGCACTTATGG-1_postB</td><td>postB_TTTGAGGCACTTATGG-1</td><td>22  </td><td>0   </td><td>postB</td><td>0_22</td><td>d0postB  </td></tr>\n",
       "\t<tr><th scope=row>postB_TTTGAGGCATGGATGG-1</th><td>postB</td><td>2599</td><td>2599</td><td>16673</td><td> 8399</td><td>123</td><td> 97</td><td>1108</td><td>0</td><td> 6946</td><td>⋯</td><td>6</td><td>3229</td><td>2395</td><td>TTTGAGGCATGGATGG-1_postB</td><td>postB_TTTGAGGCATGGATGG-1</td><td>19  </td><td>1   </td><td>postB</td><td>1_19</td><td>d1postB  </td></tr>\n",
       "\t<tr><th scope=row>postB_TTTGAGGCATTAGCCA-1</th><td>postB</td><td> 959</td><td> 959</td><td>13750</td><td>10552</td><td>147</td><td> 58</td><td> 384</td><td>0</td><td> 2609</td><td>⋯</td><td>3</td><td>1054</td><td> 904</td><td>TTTGAGGCATTAGCCA-1_postB</td><td>postB_TTTGAGGCATTAGCCA-1</td><td>0   </td><td>0   </td><td>postB</td><td>0_0 </td><td>d0postB  </td></tr>\n",
       "\t<tr><th scope=row>postB_TTTGAGGTCGAACACT-1</th><td>postB</td><td> 850</td><td> 850</td><td>10573</td><td> 6701</td><td> 83</td><td> 77</td><td> 626</td><td>0</td><td> 3086</td><td>⋯</td><td>2</td><td>1276</td><td> 982</td><td>TTTGAGGTCGAACACT-1_postB</td><td>postB_TTTGAGGTCGAACACT-1</td><td>20  </td><td>3   </td><td>postB</td><td>3_20</td><td>d3postB  </td></tr>\n",
       "\t<tr><th scope=row>postB_TTTGCGCCAACGTCCG-1</th><td>postB</td><td>4824</td><td>4824</td><td>32356</td><td>14961</td><td>331</td><td>200</td><td>2634</td><td>0</td><td>14230</td><td>⋯</td><td>8</td><td>7099</td><td>4221</td><td>TTTGCGCCAACGTCCG-1_postB</td><td>postB_TTTGCGCCAACGTCCG-1</td><td>7   </td><td>3   </td><td>postB</td><td>3_7 </td><td>d3postB  </td></tr>\n",
       "\t<tr><th scope=row>postB_TTTGCGCCAAGGTTCT-1</th><td>postB</td><td>4273</td><td>4273</td><td>26405</td><td>13212</td><td>192</td><td>147</td><td>1402</td><td>0</td><td>11452</td><td>⋯</td><td>4</td><td>5906</td><td>3721</td><td>TTTGCGCCAAGGTTCT-1_postB</td><td>postB_TTTGCGCCAAGGTTCT-1</td><td>17  </td><td>3   </td><td>postB</td><td>3_17</td><td>d3postB  </td></tr>\n",
       "\t<tr><th scope=row>postB_TTTGCGCCATTAGCCA-1</th><td>postB</td><td> 991</td><td> 991</td><td>18794</td><td>14010</td><td>166</td><td>103</td><td> 740</td><td>0</td><td> 3775</td><td>⋯</td><td>4</td><td>1547</td><td>1190</td><td>TTTGCGCCATTAGCCA-1_postB</td><td>postB_TTTGCGCCATTAGCCA-1</td><td>3   </td><td>3   </td><td>postB</td><td>3_3 </td><td>d3postB  </td></tr>\n",
       "\t<tr><th scope=row>postB_TTTGCGCGTCAAATCC-1</th><td>postB</td><td>2766</td><td>2766</td><td>24981</td><td>15050</td><td>235</td><td>124</td><td>1015</td><td>0</td><td> 8557</td><td>⋯</td><td>5</td><td>4207</td><td>2848</td><td>TTTGCGCGTCAAATCC-1_postB</td><td>postB_TTTGCGCGTCAAATCC-1</td><td>19  </td><td>3   </td><td>postB</td><td>3_19</td><td>d3postB  </td></tr>\n",
       "\t<tr><th scope=row>postB_TTTGCGCGTTAGAGAT-1</th><td>postB</td><td> 975</td><td> 975</td><td>13350</td><td> 9218</td><td>122</td><td> 60</td><td> 642</td><td>0</td><td> 3308</td><td>⋯</td><td>4</td><td>1240</td><td>1042</td><td>TTTGCGCGTTAGAGAT-1_postB</td><td>postB_TTTGCGCGTTAGAGAT-1</td><td>31  </td><td>3   </td><td>postB</td><td>3_31</td><td>d3postB  </td></tr>\n",
       "\t<tr><th scope=row>postB_TTTGGCCAGCGAATAT-1</th><td>postB</td><td>1509</td><td>1509</td><td> 7557</td><td> 2349</td><td> 42</td><td> 53</td><td> 406</td><td>0</td><td> 4707</td><td>⋯</td><td>5</td><td>2417</td><td>1988</td><td>NA                      </td><td>postB_TTTGGCCAGCGAATAT-1</td><td>None</td><td>None</td><td>None </td><td>None</td><td>dNoneNone</td></tr>\n",
       "\t<tr><th scope=row>postB_TTTGGCCAGGGAAATG-1</th><td>postB</td><td>1451</td><td>1451</td><td>10329</td><td> 6949</td><td> 98</td><td> 65</td><td> 452</td><td>0</td><td> 2765</td><td>⋯</td><td>6</td><td>1353</td><td>1082</td><td>TTTGGCCAGGGAAATG-1_postB</td><td>postB_TTTGGCCAGGGAAATG-1</td><td>15  </td><td>3   </td><td>postB</td><td>3_15</td><td>d3postB  </td></tr>\n",
       "\t<tr><th scope=row>postB_TTTGGCCAGTAGCAAT-1</th><td>postB</td><td>4904</td><td>4904</td><td>34154</td><td>18258</td><td>329</td><td>173</td><td>1404</td><td>0</td><td>13990</td><td>⋯</td><td>5</td><td>7024</td><td>3924</td><td>TTTGGCCAGTAGCAAT-1_postB</td><td>postB_TTTGGCCAGTAGCAAT-1</td><td>3   </td><td>3   </td><td>postB</td><td>3_3 </td><td>d3postB  </td></tr>\n",
       "\t<tr><th scope=row>postB_TTTGGCCCAATGCCAT-1</th><td>postB</td><td>1583</td><td>1583</td><td> 9927</td><td> 5569</td><td>106</td><td> 45</td><td> 553</td><td>0</td><td> 3654</td><td>⋯</td><td>4</td><td>1752</td><td>1426</td><td>TTTGGCCCAATGCCAT-1_postB</td><td>postB_TTTGGCCCAATGCCAT-1</td><td>29  </td><td>0   </td><td>postB</td><td>0_29</td><td>d0postB  </td></tr>\n",
       "\t<tr><th scope=row>postB_TTTGGCCGTGCGCTCA-1</th><td>postB</td><td>4857</td><td>4857</td><td>37845</td><td>20643</td><td>362</td><td>200</td><td>1994</td><td>0</td><td>14646</td><td>⋯</td><td>1</td><td>6866</td><td>4162</td><td>TTTGGCCGTGCGCTCA-1_postB</td><td>postB_TTTGGCCGTGCGCTCA-1</td><td>4   </td><td>3   </td><td>postB</td><td>3_4 </td><td>d3postB  </td></tr>\n",
       "\t<tr><th scope=row>postB_TTTGGTTAGGAGTCTG-1</th><td>postB</td><td>1159</td><td>1159</td><td>11094</td><td> 7510</td><td> 83</td><td> 66</td><td> 559</td><td>0</td><td> 2876</td><td>⋯</td><td>0</td><td>1311</td><td>1076</td><td>TTTGGTTAGGAGTCTG-1_postB</td><td>postB_TTTGGTTAGGAGTCTG-1</td><td>21  </td><td>3   </td><td>postB</td><td>3_21</td><td>d3postB  </td></tr>\n",
       "\t<tr><th scope=row>postB_TTTGGTTTCAAGGCAG-1</th><td>postB</td><td>2882</td><td>2882</td><td>54608</td><td>38334</td><td>572</td><td>309</td><td>2500</td><td>0</td><td>12893</td><td>⋯</td><td>5</td><td>5176</td><td>2672</td><td>TTTGGTTTCAAGGCAG-1_postB</td><td>postB_TTTGGTTTCAAGGCAG-1</td><td>8   </td><td>3   </td><td>postB</td><td>3_8 </td><td>d3postB  </td></tr>\n",
       "\t<tr><th scope=row>postB_TTTGGTTTCATCGCAA-1</th><td>postB</td><td>2352</td><td>2352</td><td>21062</td><td>13739</td><td>202</td><td>129</td><td> 916</td><td>0</td><td> 6076</td><td>⋯</td><td>0</td><td>2808</td><td>2092</td><td>TTTGGTTTCATCGCAA-1_postB</td><td>postB_TTTGGTTTCATCGCAA-1</td><td>26  </td><td>3   </td><td>postB</td><td>3_26</td><td>d3postB  </td></tr>\n",
       "\t<tr><th scope=row>postB_TTTGGTTTCGAGGTCC-1</th><td>postB</td><td>1177</td><td>1177</td><td>14837</td><td> 9808</td><td>125</td><td> 73</td><td> 599</td><td>0</td><td> 4232</td><td>⋯</td><td>3</td><td>1724</td><td>1251</td><td>TTTGGTTTCGAGGTCC-1_postB</td><td>postB_TTTGGTTTCGAGGTCC-1</td><td>9   </td><td>3   </td><td>postB</td><td>3_9 </td><td>d3postB  </td></tr>\n",
       "\t<tr><th scope=row>postB_TTTGGTTTCTAGCTGA-1</th><td>postB</td><td>1435</td><td>1435</td><td>13227</td><td> 7691</td><td>122</td><td> 69</td><td> 560</td><td>0</td><td> 4785</td><td>⋯</td><td>0</td><td>1906</td><td>1423</td><td>TTTGGTTTCTAGCTGA-1_postB</td><td>postB_TTTGGTTTCTAGCTGA-1</td><td>21  </td><td>3   </td><td>postB</td><td>3_21</td><td>d3postB  </td></tr>\n",
       "\t<tr><th scope=row>postB_TTTGTGTCACAGTTCA-1</th><td>postB</td><td>2706</td><td>2706</td><td>25571</td><td>16229</td><td>255</td><td>162</td><td>1063</td><td>0</td><td> 7862</td><td>⋯</td><td>0</td><td>3566</td><td>2147</td><td>TTTGTGTCACAGTTCA-1_postB</td><td>postB_TTTGTGTCACAGTTCA-1</td><td>4   </td><td>1   </td><td>postB</td><td>1_4 </td><td>d1postB  </td></tr>\n",
       "\t<tr><th scope=row>postB_TTTGTGTGTGCCGGTT-1</th><td>postB</td><td>1747</td><td>1747</td><td>18602</td><td>13134</td><td>184</td><td>104</td><td> 574</td><td>0</td><td> 4606</td><td>⋯</td><td>4</td><td>1824</td><td>1502</td><td>NA                      </td><td>postB_TTTGTGTGTGCCGGTT-1</td><td>None</td><td>None</td><td>None </td><td>None</td><td>dNoneNone</td></tr>\n",
       "\t<tr><th scope=row>postB_TTTGTGTTCCATGACA-1</th><td>postB</td><td>4540</td><td>4540</td><td>31499</td><td>15296</td><td>246</td><td>155</td><td>2069</td><td>0</td><td>13733</td><td>⋯</td><td>9</td><td>6306</td><td>3958</td><td>TTTGTGTTCCATGACA-1_postB</td><td>postB_TTTGTGTTCCATGACA-1</td><td>24  </td><td>0   </td><td>postB</td><td>0_24</td><td>d0postB  </td></tr>\n",
       "</tbody>\n",
       "</table>\n"
      ],
      "text/latex": [
       "A data.frame: 3683 × 40\n",
       "\\begin{tabular}{r|lllllllllllllllllllll}\n",
       "  & orig.ident & nCount\\_ATAC & nFeature\\_ATAC & total & duplicate & chimeric & unmapped & lowmapq & mitochondrial & passed\\_filters & ⋯ & seurat\\_clusters & nCount\\_RNA & nFeature\\_RNA & ID & Row.names & lineage & donor & condition & name & donor.cond\\\\\n",
       "  & <chr> & <dbl> & <int> & <dbl> & <dbl> & <dbl> & <dbl> & <dbl> & <dbl> & <dbl> & ⋯ & <fct> & <dbl> & <int> & <chr> & <I<chr>> & <fct> & <fct> & <fct> & <fct> & <chr>\\\\\n",
       "\\hline\n",
       "\tpreB\\_AAACGAAGTCACTCTC-1 & preB & 3754 & 3754 & 38954 & 29912 & 335 &  145 & 1057 & 0 &  7505 & ⋯ & 0 & 3751 & 2539 & AAACGAAGTCACTCTC-1\\_preB & preB\\_AAACGAAGTCACTCTC-1 & 10   & 0    & preB & 0\\_10 & d0preB   \\\\\n",
       "\tpreB\\_AAACGAAGTCCCTAAA-1 & preB & 4130 & 4130 & 24309 & 15056 & 258 &  113 &  968 & 0 &  7914 & ⋯ & 6 & 4280 & 2832 & AAACGAAGTCCCTAAA-1\\_preB & preB\\_AAACGAAGTCCCTAAA-1 & 33   & 3    & preB & 3\\_33 & d3preB   \\\\\n",
       "\tpreB\\_AAACGAAGTCTGTGTA-1 & preB &  683 &  683 & 17674 & 15525 & 189 &   72 &  200 & 0 &  1688 & ⋯ & 2 &  581 &  517 & AAACGAAGTCTGTGTA-1\\_preB & preB\\_AAACGAAGTCTGTGTA-1 & 20   & 1    & preB & 1\\_20 & d1preB   \\\\\n",
       "\tpreB\\_AAACTCGCAACTCGTA-1 & preB & 5270 & 5270 & 39016 & 26386 & 437 &  223 & 1941 & 0 & 10029 & ⋯ & 6 & 5460 & 3063 & AAACTCGCAACTCGTA-1\\_preB & preB\\_AAACTCGCAACTCGTA-1 & 0    & 2    & preB & 2\\_0  & d2preB   \\\\\n",
       "\tpreB\\_AAACTCGCAGAACGAC-1 & preB & 5575 & 5575 & 70990 & 51473 & 759 &  331 & 2599 & 0 & 15828 & ⋯ & 5 & 8266 & 3971 & AAACTCGCAGAACGAC-1\\_preB & preB\\_AAACTCGCAGAACGAC-1 & 9    & 2    & preB & 2\\_9  & d2preB   \\\\\n",
       "\tpreB\\_AAACTGCCACACATGT-1 & preB &  968 &  968 & 23591 & 20903 & 197 &   96 &  328 & 0 &  2067 & ⋯ & 0 &  792 &  645 & AAACTGCCACACATGT-1\\_preB & preB\\_AAACTGCCACACATGT-1 & 0    & 1    & preB & 1\\_0  & d1preB   \\\\\n",
       "\tpreB\\_AAAGATGGTTTGACCA-1 & preB & 2719 & 2719 & 52480 & 41104 & 526 &  355 & 1808 & 0 &  8687 & ⋯ & 5 & 3984 & 2639 & AAAGATGGTTTGACCA-1\\_preB & preB\\_AAAGATGGTTTGACCA-1 & 12   & 3    & preB & 3\\_12 & d3preB   \\\\\n",
       "\tpreB\\_AAAGATGTCCGTCAAA-1 & preB & 1677 & 1677 & 13817 &  9880 & 167 &   66 &  514 & 0 &  3190 & ⋯ & 7 & 1573 & 1244 & AAAGATGTCCGTCAAA-1\\_preB & preB\\_AAAGATGTCCGTCAAA-1 & 46   & 3    & preB & 3\\_46 & d3preB   \\\\\n",
       "\tpreB\\_AAAGATGTCTCTGTTA-1 & preB & 3013 & 3013 & 28453 & 20833 & 270 &  144 & 1272 & 0 &  5934 & ⋯ & 9 & 2832 & 1951 & AAAGATGTCTCTGTTA-1\\_preB & preB\\_AAAGATGTCTCTGTTA-1 & 16   & 0    & preB & 0\\_16 & d0preB   \\\\\n",
       "\tpreB\\_AAAGGATGTGCAAAGC-1 & preB & 5980 & 5980 & 56034 & 34570 & 789 &  306 & 3756 & 0 & 16613 & ⋯ & 7 & 7850 & 4255 & AAAGGATGTGCAAAGC-1\\_preB & preB\\_AAAGGATGTGCAAAGC-1 & 27   & 0    & preB & 0\\_27 & d0preB   \\\\\n",
       "\tpreB\\_AAAGGGCAGTGTCGGA-1 & preB & 1310 & 1310 & 24053 & 17275 & 314 & 2490 & 1045 & 0 &  2929 & ⋯ & 7 & 1162 &  968 & AAAGGGCAGTGTCGGA-1\\_preB & preB\\_AAAGGGCAGTGTCGGA-1 & 22   & 3    & preB & 3\\_22 & d3preB   \\\\\n",
       "\tpreB\\_AAAGGGCAGTTGCGCC-1 & preB &  454 &  454 & 17483 & 15502 & 125 &  120 &  309 & 0 &  1427 & ⋯ & 2 &  369 &  324 & AAAGGGCAGTTGCGCC-1\\_preB & preB\\_AAAGGGCAGTTGCGCC-1 & 1    & 2    & preB & 2\\_1  & d2preB   \\\\\n",
       "\tpreB\\_AAAGGGCCACTGCTCT-1 & preB & 1863 & 1863 & 29798 & 24044 & 257 &  253 &  877 & 0 &  4367 & ⋯ & 2 & 1909 & 1401 & AAAGGGCCACTGCTCT-1\\_preB & preB\\_AAAGGGCCACTGCTCT-1 & 22   & 3    & preB & 3\\_22 & d3preB   \\\\\n",
       "\tpreB\\_AAATGAGCATGGATGG-1 & preB & 3178 & 3178 & 53971 & 44978 & 575 &  325 &  984 & 0 &  7109 & ⋯ & 4 & 3001 & 2196 & NA                      & preB\\_AAATGAGCATGGATGG-1 & None & None & None & None & dNoneNone\\\\\n",
       "\tpreB\\_AAATGAGTCGACTCGG-1 & preB & 1595 & 1595 & 15660 & 12144 & 147 &   99 &  421 & 0 &  2849 & ⋯ & 3 & 1320 & 1089 & AAATGAGTCGACTCGG-1\\_preB & preB\\_AAATGAGTCGACTCGG-1 & 28   & 2    & preB & 2\\_28 & d2preB   \\\\\n",
       "\tpreB\\_AAATGCCAGCGCCTAC-1 & preB & 1054 & 1054 & 25591 & 22295 & 175 &  116 &  484 & 0 &  2521 & ⋯ & 2 &  874 &  721 & AAATGCCAGCGCCTAC-1\\_preB & preB\\_AAATGCCAGCGCCTAC-1 & 5    & 2    & preB & 2\\_5  & d2preB   \\\\\n",
       "\tpreB\\_AAATGCCGTGAGTTGG-1 & preB & 2368 & 2368 & 24796 & 18643 & 264 &  131 &  744 & 0 &  5014 & ⋯ & 0 & 2265 & 1751 & AAATGCCGTGAGTTGG-1\\_preB & preB\\_AAATGCCGTGAGTTGG-1 & 14   & 2    & preB & 2\\_14 & d2preB   \\\\\n",
       "\tpreB\\_AAATGCCTCAGTACAC-1 & preB & 2919 & 2919 & 42689 & 33789 & 411 &  201 & 1238 & 0 &  7050 & ⋯ & 3 & 3065 & 2195 & AAATGCCTCAGTACAC-1\\_preB & preB\\_AAATGCCTCAGTACAC-1 & 30   & 0    & preB & 0\\_30 & d0preB   \\\\\n",
       "\tpreB\\_AAATGCCTCCGTGCGA-1 & preB & 1326 & 1326 & 20607 & 16352 & 163 &   96 &  906 & 0 &  3090 & ⋯ & 2 & 1256 &  998 & AAATGCCTCCGTGCGA-1\\_preB & preB\\_AAATGCCTCCGTGCGA-1 & 1    & 2    & preB & 2\\_1  & d2preB   \\\\\n",
       "\tpreB\\_AAATGCCTCGCGATGC-1 & preB &  744 &  744 & 24036 & 21515 & 181 &  124 &  363 & 0 &  1853 & ⋯ & 2 &  552 &  485 & AAATGCCTCGCGATGC-1\\_preB & preB\\_AAATGCCTCGCGATGC-1 & 10   & 2    & preB & 2\\_10 & d2preB   \\\\\n",
       "\tpreB\\_AACAAAGGTAAGCCGA-1 & preB & 4691 & 4691 & 39854 & 26065 & 316 &  184 & 1668 & 0 & 11621 & ⋯ & 0 & 5943 & 3346 & AACAAAGGTAAGCCGA-1\\_preB & preB\\_AACAAAGGTAAGCCGA-1 & 39   & 1    & preB & 1\\_39 & d1preB   \\\\\n",
       "\tpreB\\_AACAAAGTCTAAACGC-1 & preB & 3960 & 3960 & 46612 & 35991 & 478 &  154 & 1551 & 0 &  8438 & ⋯ & 1 & 4057 & 2513 & AACAAAGTCTAAACGC-1\\_preB & preB\\_AACAAAGTCTAAACGC-1 & 5    & 2    & preB & 2\\_5  & d2preB   \\\\\n",
       "\tpreB\\_AACAGTCAGGCCAATG-1 & preB & 5023 & 5023 & 44129 & 29870 & 484 &  227 & 2396 & 0 & 11152 & ⋯ & 1 & 5759 & 3524 & AACAGTCAGGCCAATG-1\\_preB & preB\\_AACAGTCAGGCCAATG-1 & 9    & 2    & preB & 2\\_9  & d2preB   \\\\\n",
       "\tpreB\\_AACAGTCTCGCTATAG-1 & preB & 6125 & 6125 & 45633 & 28581 & 473 &  296 & 2753 & 0 & 13530 & ⋯ & 4 & 7294 & 4027 & AACAGTCTCGCTATAG-1\\_preB & preB\\_AACAGTCTCGCTATAG-1 & 6    & 3    & preB & 3\\_6  & d3preB   \\\\\n",
       "\tpreB\\_AACCAACGTCAGCAAG-1 & preB & 2988 & 2988 & 75947 & 47246 & 524 &  522 & 5863 & 0 & 21792 & ⋯ & 0 & 9432 & 4868 & AACCAACGTCAGCAAG-1\\_preB & preB\\_AACCAACGTCAGCAAG-1 & 6    & 1    & preB & 1\\_6  & d1preB   \\\\\n",
       "\tpreB\\_AACCGATCAACTCGAT-1 & preB &  929 &  929 & 35158 & 31296 & 277 &  149 &  568 & 0 &  2868 & ⋯ & 2 &  909 &  757 & AACCGATCAACTCGAT-1\\_preB & preB\\_AACCGATCAACTCGAT-1 & 30   & 1    & preB & 1\\_30 & d1preB   \\\\\n",
       "\tpreB\\_AACCTGAGTAGAATAC-1 & preB & 3222 & 3222 & 36565 & 27510 & 323 &  171 & 1477 & 0 &  7084 & ⋯ & 1 & 3296 & 2297 & AACCTGAGTAGAATAC-1\\_preB & preB\\_AACCTGAGTAGAATAC-1 & 9    & 2    & preB & 2\\_9  & d2preB   \\\\\n",
       "\tpreB\\_AACCTGATCAGAATGA-1 & preB & 6236 & 6236 & 62075 & 40774 & 514 &  321 & 3420 & 0 & 17046 & ⋯ & 8 & 8942 & 4794 & AACCTGATCAGAATGA-1\\_preB & preB\\_AACCTGATCAGAATGA-1 & 12   & 1    & preB & 1\\_12 & d1preB   \\\\\n",
       "\tpreB\\_AACCTTTAGCACACCC-1 & preB & 2353 & 2353 & 29530 & 22242 & 292 &  136 &  952 & 0 &  5908 & ⋯ & 1 & 2434 & 1804 & AACCTTTAGCACACCC-1\\_preB & preB\\_AACCTTTAGCACACCC-1 & 3    & 1    & preB & 1\\_3  & d1preB   \\\\\n",
       "\tpreB\\_AACCTTTCAGTAGTTC-1 & preB & 6836 & 6836 & 43422 & 25916 & 535 &  174 & 2038 & 0 & 14759 & ⋯ & 7 & 8195 & 4449 & AACCTTTCAGTAGTTC-1\\_preB & preB\\_AACCTTTCAGTAGTTC-1 & 22   & 3    & preB & 3\\_22 & d3preB   \\\\\n",
       "\t⋮ & ⋮ & ⋮ & ⋮ & ⋮ & ⋮ & ⋮ & ⋮ & ⋮ & ⋮ & ⋮ & ⋱ & ⋮ & ⋮ & ⋮ & ⋮ & ⋮ & ⋮ & ⋮ & ⋮ & ⋮ & ⋮\\\\\n",
       "\tpostB\\_TTTACGTAGTCTTAGC-1 & postB & 2065 & 2065 & 21069 & 14168 & 193 &  88 &  813 & 0 &  5807 & ⋯ & 0 & 2585 & 1961 & TTTACGTAGTCTTAGC-1\\_postB & postB\\_TTTACGTAGTCTTAGC-1 & 1    & 3    & postB & 3\\_1  & d3postB  \\\\\n",
       "\tpostB\\_TTTACGTCAATCATCG-1 & postB & 1688 & 1688 & 18539 & 13316 & 161 &  75 &  698 & 0 &  4289 & ⋯ & 0 & 1937 & 1506 & TTTACGTCAATCATCG-1\\_postB & postB\\_TTTACGTCAATCATCG-1 & 11   & 3    & postB & 3\\_11 & d3postB  \\\\\n",
       "\tpostB\\_TTTACGTCAGATGGCA-1 & postB & 1150 & 1150 & 22743 & 12921 & 241 & 121 & 1506 & 0 &  7954 & ⋯ & 2 & 2915 & 1801 & TTTACGTCAGATGGCA-1\\_postB & postB\\_TTTACGTCAGATGGCA-1 & 1    & 3    & postB & 3\\_1  & d3postB  \\\\\n",
       "\tpostB\\_TTTACGTCAGGCATTT-1 & postB &  852 &  852 & 19503 & 16063 & 175 &  72 &  413 & 0 &  2780 & ⋯ & 0 & 1019 &  872 & TTTACGTCAGGCATTT-1\\_postB & postB\\_TTTACGTCAGGCATTT-1 & 13   & 1    & postB & 1\\_13 & d1postB  \\\\\n",
       "\tpostB\\_TTTACGTCATCGGCTG-1 & postB & 1357 & 1357 & 20785 & 14216 & 193 & 103 &  930 & 0 &  5343 & ⋯ & 0 & 2263 & 1497 & TTTACGTCATCGGCTG-1\\_postB & postB\\_TTTACGTCATCGGCTG-1 & 43   & 3    & postB & 3\\_43 & d3postB  \\\\\n",
       "\tpostB\\_TTTACGTTCCCGTATC-1 & postB & 1494 & 1494 & 10343 &  6055 &  91 &  49 &  456 & 0 &  3692 & ⋯ & 4 & 1616 & 1270 & TTTACGTTCCCGTATC-1\\_postB & postB\\_TTTACGTTCCCGTATC-1 & 28   & 3    & postB & 3\\_28 & d3postB  \\\\\n",
       "\tpostB\\_TTTACGTTCCGTACGG-1 & postB & 1004 & 1004 & 12140 &  8979 & 113 &  65 &  351 & 0 &  2632 & ⋯ & 0 & 1096 &  944 & TTTACGTTCCGTACGG-1\\_postB & postB\\_TTTACGTTCCGTACGG-1 & 1    & 3    & postB & 3\\_1  & d3postB  \\\\\n",
       "\tpostB\\_TTTGAGGCAAGGAGGG-1 & postB & 5704 & 5704 & 45398 & 24730 & 335 & 238 & 2505 & 0 & 17590 & ⋯ & 1 & 8083 & 4627 & TTTGAGGCAAGGAGGG-1\\_postB & postB\\_TTTGAGGCAAGGAGGG-1 & 0    & 3    & postB & 3\\_0  & d3postB  \\\\\n",
       "\tpostB\\_TTTGAGGCACTTATGG-1 & postB & 4198 & 4198 & 31904 & 17727 & 249 & 184 & 1665 & 0 & 12079 & ⋯ & 8 & 5663 & 3712 & TTTGAGGCACTTATGG-1\\_postB & postB\\_TTTGAGGCACTTATGG-1 & 22   & 0    & postB & 0\\_22 & d0postB  \\\\\n",
       "\tpostB\\_TTTGAGGCATGGATGG-1 & postB & 2599 & 2599 & 16673 &  8399 & 123 &  97 & 1108 & 0 &  6946 & ⋯ & 6 & 3229 & 2395 & TTTGAGGCATGGATGG-1\\_postB & postB\\_TTTGAGGCATGGATGG-1 & 19   & 1    & postB & 1\\_19 & d1postB  \\\\\n",
       "\tpostB\\_TTTGAGGCATTAGCCA-1 & postB &  959 &  959 & 13750 & 10552 & 147 &  58 &  384 & 0 &  2609 & ⋯ & 3 & 1054 &  904 & TTTGAGGCATTAGCCA-1\\_postB & postB\\_TTTGAGGCATTAGCCA-1 & 0    & 0    & postB & 0\\_0  & d0postB  \\\\\n",
       "\tpostB\\_TTTGAGGTCGAACACT-1 & postB &  850 &  850 & 10573 &  6701 &  83 &  77 &  626 & 0 &  3086 & ⋯ & 2 & 1276 &  982 & TTTGAGGTCGAACACT-1\\_postB & postB\\_TTTGAGGTCGAACACT-1 & 20   & 3    & postB & 3\\_20 & d3postB  \\\\\n",
       "\tpostB\\_TTTGCGCCAACGTCCG-1 & postB & 4824 & 4824 & 32356 & 14961 & 331 & 200 & 2634 & 0 & 14230 & ⋯ & 8 & 7099 & 4221 & TTTGCGCCAACGTCCG-1\\_postB & postB\\_TTTGCGCCAACGTCCG-1 & 7    & 3    & postB & 3\\_7  & d3postB  \\\\\n",
       "\tpostB\\_TTTGCGCCAAGGTTCT-1 & postB & 4273 & 4273 & 26405 & 13212 & 192 & 147 & 1402 & 0 & 11452 & ⋯ & 4 & 5906 & 3721 & TTTGCGCCAAGGTTCT-1\\_postB & postB\\_TTTGCGCCAAGGTTCT-1 & 17   & 3    & postB & 3\\_17 & d3postB  \\\\\n",
       "\tpostB\\_TTTGCGCCATTAGCCA-1 & postB &  991 &  991 & 18794 & 14010 & 166 & 103 &  740 & 0 &  3775 & ⋯ & 4 & 1547 & 1190 & TTTGCGCCATTAGCCA-1\\_postB & postB\\_TTTGCGCCATTAGCCA-1 & 3    & 3    & postB & 3\\_3  & d3postB  \\\\\n",
       "\tpostB\\_TTTGCGCGTCAAATCC-1 & postB & 2766 & 2766 & 24981 & 15050 & 235 & 124 & 1015 & 0 &  8557 & ⋯ & 5 & 4207 & 2848 & TTTGCGCGTCAAATCC-1\\_postB & postB\\_TTTGCGCGTCAAATCC-1 & 19   & 3    & postB & 3\\_19 & d3postB  \\\\\n",
       "\tpostB\\_TTTGCGCGTTAGAGAT-1 & postB &  975 &  975 & 13350 &  9218 & 122 &  60 &  642 & 0 &  3308 & ⋯ & 4 & 1240 & 1042 & TTTGCGCGTTAGAGAT-1\\_postB & postB\\_TTTGCGCGTTAGAGAT-1 & 31   & 3    & postB & 3\\_31 & d3postB  \\\\\n",
       "\tpostB\\_TTTGGCCAGCGAATAT-1 & postB & 1509 & 1509 &  7557 &  2349 &  42 &  53 &  406 & 0 &  4707 & ⋯ & 5 & 2417 & 1988 & NA                       & postB\\_TTTGGCCAGCGAATAT-1 & None & None & None  & None & dNoneNone\\\\\n",
       "\tpostB\\_TTTGGCCAGGGAAATG-1 & postB & 1451 & 1451 & 10329 &  6949 &  98 &  65 &  452 & 0 &  2765 & ⋯ & 6 & 1353 & 1082 & TTTGGCCAGGGAAATG-1\\_postB & postB\\_TTTGGCCAGGGAAATG-1 & 15   & 3    & postB & 3\\_15 & d3postB  \\\\\n",
       "\tpostB\\_TTTGGCCAGTAGCAAT-1 & postB & 4904 & 4904 & 34154 & 18258 & 329 & 173 & 1404 & 0 & 13990 & ⋯ & 5 & 7024 & 3924 & TTTGGCCAGTAGCAAT-1\\_postB & postB\\_TTTGGCCAGTAGCAAT-1 & 3    & 3    & postB & 3\\_3  & d3postB  \\\\\n",
       "\tpostB\\_TTTGGCCCAATGCCAT-1 & postB & 1583 & 1583 &  9927 &  5569 & 106 &  45 &  553 & 0 &  3654 & ⋯ & 4 & 1752 & 1426 & TTTGGCCCAATGCCAT-1\\_postB & postB\\_TTTGGCCCAATGCCAT-1 & 29   & 0    & postB & 0\\_29 & d0postB  \\\\\n",
       "\tpostB\\_TTTGGCCGTGCGCTCA-1 & postB & 4857 & 4857 & 37845 & 20643 & 362 & 200 & 1994 & 0 & 14646 & ⋯ & 1 & 6866 & 4162 & TTTGGCCGTGCGCTCA-1\\_postB & postB\\_TTTGGCCGTGCGCTCA-1 & 4    & 3    & postB & 3\\_4  & d3postB  \\\\\n",
       "\tpostB\\_TTTGGTTAGGAGTCTG-1 & postB & 1159 & 1159 & 11094 &  7510 &  83 &  66 &  559 & 0 &  2876 & ⋯ & 0 & 1311 & 1076 & TTTGGTTAGGAGTCTG-1\\_postB & postB\\_TTTGGTTAGGAGTCTG-1 & 21   & 3    & postB & 3\\_21 & d3postB  \\\\\n",
       "\tpostB\\_TTTGGTTTCAAGGCAG-1 & postB & 2882 & 2882 & 54608 & 38334 & 572 & 309 & 2500 & 0 & 12893 & ⋯ & 5 & 5176 & 2672 & TTTGGTTTCAAGGCAG-1\\_postB & postB\\_TTTGGTTTCAAGGCAG-1 & 8    & 3    & postB & 3\\_8  & d3postB  \\\\\n",
       "\tpostB\\_TTTGGTTTCATCGCAA-1 & postB & 2352 & 2352 & 21062 & 13739 & 202 & 129 &  916 & 0 &  6076 & ⋯ & 0 & 2808 & 2092 & TTTGGTTTCATCGCAA-1\\_postB & postB\\_TTTGGTTTCATCGCAA-1 & 26   & 3    & postB & 3\\_26 & d3postB  \\\\\n",
       "\tpostB\\_TTTGGTTTCGAGGTCC-1 & postB & 1177 & 1177 & 14837 &  9808 & 125 &  73 &  599 & 0 &  4232 & ⋯ & 3 & 1724 & 1251 & TTTGGTTTCGAGGTCC-1\\_postB & postB\\_TTTGGTTTCGAGGTCC-1 & 9    & 3    & postB & 3\\_9  & d3postB  \\\\\n",
       "\tpostB\\_TTTGGTTTCTAGCTGA-1 & postB & 1435 & 1435 & 13227 &  7691 & 122 &  69 &  560 & 0 &  4785 & ⋯ & 0 & 1906 & 1423 & TTTGGTTTCTAGCTGA-1\\_postB & postB\\_TTTGGTTTCTAGCTGA-1 & 21   & 3    & postB & 3\\_21 & d3postB  \\\\\n",
       "\tpostB\\_TTTGTGTCACAGTTCA-1 & postB & 2706 & 2706 & 25571 & 16229 & 255 & 162 & 1063 & 0 &  7862 & ⋯ & 0 & 3566 & 2147 & TTTGTGTCACAGTTCA-1\\_postB & postB\\_TTTGTGTCACAGTTCA-1 & 4    & 1    & postB & 1\\_4  & d1postB  \\\\\n",
       "\tpostB\\_TTTGTGTGTGCCGGTT-1 & postB & 1747 & 1747 & 18602 & 13134 & 184 & 104 &  574 & 0 &  4606 & ⋯ & 4 & 1824 & 1502 & NA                       & postB\\_TTTGTGTGTGCCGGTT-1 & None & None & None  & None & dNoneNone\\\\\n",
       "\tpostB\\_TTTGTGTTCCATGACA-1 & postB & 4540 & 4540 & 31499 & 15296 & 246 & 155 & 2069 & 0 & 13733 & ⋯ & 9 & 6306 & 3958 & TTTGTGTTCCATGACA-1\\_postB & postB\\_TTTGTGTTCCATGACA-1 & 24   & 0    & postB & 0\\_24 & d0postB  \\\\\n",
       "\\end{tabular}\n"
      ],
      "text/markdown": [
       "\n",
       "A data.frame: 3683 × 40\n",
       "\n",
       "| <!--/--> | orig.ident &lt;chr&gt; | nCount_ATAC &lt;dbl&gt; | nFeature_ATAC &lt;int&gt; | total &lt;dbl&gt; | duplicate &lt;dbl&gt; | chimeric &lt;dbl&gt; | unmapped &lt;dbl&gt; | lowmapq &lt;dbl&gt; | mitochondrial &lt;dbl&gt; | passed_filters &lt;dbl&gt; | ⋯ ⋯ | seurat_clusters &lt;fct&gt; | nCount_RNA &lt;dbl&gt; | nFeature_RNA &lt;int&gt; | ID &lt;chr&gt; | Row.names &lt;I&lt;chr&gt;&gt; | lineage &lt;fct&gt; | donor &lt;fct&gt; | condition &lt;fct&gt; | name &lt;fct&gt; | donor.cond &lt;chr&gt; |\n",
       "|---|---|---|---|---|---|---|---|---|---|---|---|---|---|---|---|---|---|---|---|---|---|\n",
       "| preB_AAACGAAGTCACTCTC-1 | preB | 3754 | 3754 | 38954 | 29912 | 335 |  145 | 1057 | 0 |  7505 | ⋯ | 0 | 3751 | 2539 | AAACGAAGTCACTCTC-1_preB | preB_AAACGAAGTCACTCTC-1 | 10   | 0    | preB | 0_10 | d0preB    |\n",
       "| preB_AAACGAAGTCCCTAAA-1 | preB | 4130 | 4130 | 24309 | 15056 | 258 |  113 |  968 | 0 |  7914 | ⋯ | 6 | 4280 | 2832 | AAACGAAGTCCCTAAA-1_preB | preB_AAACGAAGTCCCTAAA-1 | 33   | 3    | preB | 3_33 | d3preB    |\n",
       "| preB_AAACGAAGTCTGTGTA-1 | preB |  683 |  683 | 17674 | 15525 | 189 |   72 |  200 | 0 |  1688 | ⋯ | 2 |  581 |  517 | AAACGAAGTCTGTGTA-1_preB | preB_AAACGAAGTCTGTGTA-1 | 20   | 1    | preB | 1_20 | d1preB    |\n",
       "| preB_AAACTCGCAACTCGTA-1 | preB | 5270 | 5270 | 39016 | 26386 | 437 |  223 | 1941 | 0 | 10029 | ⋯ | 6 | 5460 | 3063 | AAACTCGCAACTCGTA-1_preB | preB_AAACTCGCAACTCGTA-1 | 0    | 2    | preB | 2_0  | d2preB    |\n",
       "| preB_AAACTCGCAGAACGAC-1 | preB | 5575 | 5575 | 70990 | 51473 | 759 |  331 | 2599 | 0 | 15828 | ⋯ | 5 | 8266 | 3971 | AAACTCGCAGAACGAC-1_preB | preB_AAACTCGCAGAACGAC-1 | 9    | 2    | preB | 2_9  | d2preB    |\n",
       "| preB_AAACTGCCACACATGT-1 | preB |  968 |  968 | 23591 | 20903 | 197 |   96 |  328 | 0 |  2067 | ⋯ | 0 |  792 |  645 | AAACTGCCACACATGT-1_preB | preB_AAACTGCCACACATGT-1 | 0    | 1    | preB | 1_0  | d1preB    |\n",
       "| preB_AAAGATGGTTTGACCA-1 | preB | 2719 | 2719 | 52480 | 41104 | 526 |  355 | 1808 | 0 |  8687 | ⋯ | 5 | 3984 | 2639 | AAAGATGGTTTGACCA-1_preB | preB_AAAGATGGTTTGACCA-1 | 12   | 3    | preB | 3_12 | d3preB    |\n",
       "| preB_AAAGATGTCCGTCAAA-1 | preB | 1677 | 1677 | 13817 |  9880 | 167 |   66 |  514 | 0 |  3190 | ⋯ | 7 | 1573 | 1244 | AAAGATGTCCGTCAAA-1_preB | preB_AAAGATGTCCGTCAAA-1 | 46   | 3    | preB | 3_46 | d3preB    |\n",
       "| preB_AAAGATGTCTCTGTTA-1 | preB | 3013 | 3013 | 28453 | 20833 | 270 |  144 | 1272 | 0 |  5934 | ⋯ | 9 | 2832 | 1951 | AAAGATGTCTCTGTTA-1_preB | preB_AAAGATGTCTCTGTTA-1 | 16   | 0    | preB | 0_16 | d0preB    |\n",
       "| preB_AAAGGATGTGCAAAGC-1 | preB | 5980 | 5980 | 56034 | 34570 | 789 |  306 | 3756 | 0 | 16613 | ⋯ | 7 | 7850 | 4255 | AAAGGATGTGCAAAGC-1_preB | preB_AAAGGATGTGCAAAGC-1 | 27   | 0    | preB | 0_27 | d0preB    |\n",
       "| preB_AAAGGGCAGTGTCGGA-1 | preB | 1310 | 1310 | 24053 | 17275 | 314 | 2490 | 1045 | 0 |  2929 | ⋯ | 7 | 1162 |  968 | AAAGGGCAGTGTCGGA-1_preB | preB_AAAGGGCAGTGTCGGA-1 | 22   | 3    | preB | 3_22 | d3preB    |\n",
       "| preB_AAAGGGCAGTTGCGCC-1 | preB |  454 |  454 | 17483 | 15502 | 125 |  120 |  309 | 0 |  1427 | ⋯ | 2 |  369 |  324 | AAAGGGCAGTTGCGCC-1_preB | preB_AAAGGGCAGTTGCGCC-1 | 1    | 2    | preB | 2_1  | d2preB    |\n",
       "| preB_AAAGGGCCACTGCTCT-1 | preB | 1863 | 1863 | 29798 | 24044 | 257 |  253 |  877 | 0 |  4367 | ⋯ | 2 | 1909 | 1401 | AAAGGGCCACTGCTCT-1_preB | preB_AAAGGGCCACTGCTCT-1 | 22   | 3    | preB | 3_22 | d3preB    |\n",
       "| preB_AAATGAGCATGGATGG-1 | preB | 3178 | 3178 | 53971 | 44978 | 575 |  325 |  984 | 0 |  7109 | ⋯ | 4 | 3001 | 2196 | NA                      | preB_AAATGAGCATGGATGG-1 | None | None | None | None | dNoneNone |\n",
       "| preB_AAATGAGTCGACTCGG-1 | preB | 1595 | 1595 | 15660 | 12144 | 147 |   99 |  421 | 0 |  2849 | ⋯ | 3 | 1320 | 1089 | AAATGAGTCGACTCGG-1_preB | preB_AAATGAGTCGACTCGG-1 | 28   | 2    | preB | 2_28 | d2preB    |\n",
       "| preB_AAATGCCAGCGCCTAC-1 | preB | 1054 | 1054 | 25591 | 22295 | 175 |  116 |  484 | 0 |  2521 | ⋯ | 2 |  874 |  721 | AAATGCCAGCGCCTAC-1_preB | preB_AAATGCCAGCGCCTAC-1 | 5    | 2    | preB | 2_5  | d2preB    |\n",
       "| preB_AAATGCCGTGAGTTGG-1 | preB | 2368 | 2368 | 24796 | 18643 | 264 |  131 |  744 | 0 |  5014 | ⋯ | 0 | 2265 | 1751 | AAATGCCGTGAGTTGG-1_preB | preB_AAATGCCGTGAGTTGG-1 | 14   | 2    | preB | 2_14 | d2preB    |\n",
       "| preB_AAATGCCTCAGTACAC-1 | preB | 2919 | 2919 | 42689 | 33789 | 411 |  201 | 1238 | 0 |  7050 | ⋯ | 3 | 3065 | 2195 | AAATGCCTCAGTACAC-1_preB | preB_AAATGCCTCAGTACAC-1 | 30   | 0    | preB | 0_30 | d0preB    |\n",
       "| preB_AAATGCCTCCGTGCGA-1 | preB | 1326 | 1326 | 20607 | 16352 | 163 |   96 |  906 | 0 |  3090 | ⋯ | 2 | 1256 |  998 | AAATGCCTCCGTGCGA-1_preB | preB_AAATGCCTCCGTGCGA-1 | 1    | 2    | preB | 2_1  | d2preB    |\n",
       "| preB_AAATGCCTCGCGATGC-1 | preB |  744 |  744 | 24036 | 21515 | 181 |  124 |  363 | 0 |  1853 | ⋯ | 2 |  552 |  485 | AAATGCCTCGCGATGC-1_preB | preB_AAATGCCTCGCGATGC-1 | 10   | 2    | preB | 2_10 | d2preB    |\n",
       "| preB_AACAAAGGTAAGCCGA-1 | preB | 4691 | 4691 | 39854 | 26065 | 316 |  184 | 1668 | 0 | 11621 | ⋯ | 0 | 5943 | 3346 | AACAAAGGTAAGCCGA-1_preB | preB_AACAAAGGTAAGCCGA-1 | 39   | 1    | preB | 1_39 | d1preB    |\n",
       "| preB_AACAAAGTCTAAACGC-1 | preB | 3960 | 3960 | 46612 | 35991 | 478 |  154 | 1551 | 0 |  8438 | ⋯ | 1 | 4057 | 2513 | AACAAAGTCTAAACGC-1_preB | preB_AACAAAGTCTAAACGC-1 | 5    | 2    | preB | 2_5  | d2preB    |\n",
       "| preB_AACAGTCAGGCCAATG-1 | preB | 5023 | 5023 | 44129 | 29870 | 484 |  227 | 2396 | 0 | 11152 | ⋯ | 1 | 5759 | 3524 | AACAGTCAGGCCAATG-1_preB | preB_AACAGTCAGGCCAATG-1 | 9    | 2    | preB | 2_9  | d2preB    |\n",
       "| preB_AACAGTCTCGCTATAG-1 | preB | 6125 | 6125 | 45633 | 28581 | 473 |  296 | 2753 | 0 | 13530 | ⋯ | 4 | 7294 | 4027 | AACAGTCTCGCTATAG-1_preB | preB_AACAGTCTCGCTATAG-1 | 6    | 3    | preB | 3_6  | d3preB    |\n",
       "| preB_AACCAACGTCAGCAAG-1 | preB | 2988 | 2988 | 75947 | 47246 | 524 |  522 | 5863 | 0 | 21792 | ⋯ | 0 | 9432 | 4868 | AACCAACGTCAGCAAG-1_preB | preB_AACCAACGTCAGCAAG-1 | 6    | 1    | preB | 1_6  | d1preB    |\n",
       "| preB_AACCGATCAACTCGAT-1 | preB |  929 |  929 | 35158 | 31296 | 277 |  149 |  568 | 0 |  2868 | ⋯ | 2 |  909 |  757 | AACCGATCAACTCGAT-1_preB | preB_AACCGATCAACTCGAT-1 | 30   | 1    | preB | 1_30 | d1preB    |\n",
       "| preB_AACCTGAGTAGAATAC-1 | preB | 3222 | 3222 | 36565 | 27510 | 323 |  171 | 1477 | 0 |  7084 | ⋯ | 1 | 3296 | 2297 | AACCTGAGTAGAATAC-1_preB | preB_AACCTGAGTAGAATAC-1 | 9    | 2    | preB | 2_9  | d2preB    |\n",
       "| preB_AACCTGATCAGAATGA-1 | preB | 6236 | 6236 | 62075 | 40774 | 514 |  321 | 3420 | 0 | 17046 | ⋯ | 8 | 8942 | 4794 | AACCTGATCAGAATGA-1_preB | preB_AACCTGATCAGAATGA-1 | 12   | 1    | preB | 1_12 | d1preB    |\n",
       "| preB_AACCTTTAGCACACCC-1 | preB | 2353 | 2353 | 29530 | 22242 | 292 |  136 |  952 | 0 |  5908 | ⋯ | 1 | 2434 | 1804 | AACCTTTAGCACACCC-1_preB | preB_AACCTTTAGCACACCC-1 | 3    | 1    | preB | 1_3  | d1preB    |\n",
       "| preB_AACCTTTCAGTAGTTC-1 | preB | 6836 | 6836 | 43422 | 25916 | 535 |  174 | 2038 | 0 | 14759 | ⋯ | 7 | 8195 | 4449 | AACCTTTCAGTAGTTC-1_preB | preB_AACCTTTCAGTAGTTC-1 | 22   | 3    | preB | 3_22 | d3preB    |\n",
       "| ⋮ | ⋮ | ⋮ | ⋮ | ⋮ | ⋮ | ⋮ | ⋮ | ⋮ | ⋮ | ⋮ | ⋱ | ⋮ | ⋮ | ⋮ | ⋮ | ⋮ | ⋮ | ⋮ | ⋮ | ⋮ | ⋮ |\n",
       "| postB_TTTACGTAGTCTTAGC-1 | postB | 2065 | 2065 | 21069 | 14168 | 193 |  88 |  813 | 0 |  5807 | ⋯ | 0 | 2585 | 1961 | TTTACGTAGTCTTAGC-1_postB | postB_TTTACGTAGTCTTAGC-1 | 1    | 3    | postB | 3_1  | d3postB   |\n",
       "| postB_TTTACGTCAATCATCG-1 | postB | 1688 | 1688 | 18539 | 13316 | 161 |  75 |  698 | 0 |  4289 | ⋯ | 0 | 1937 | 1506 | TTTACGTCAATCATCG-1_postB | postB_TTTACGTCAATCATCG-1 | 11   | 3    | postB | 3_11 | d3postB   |\n",
       "| postB_TTTACGTCAGATGGCA-1 | postB | 1150 | 1150 | 22743 | 12921 | 241 | 121 | 1506 | 0 |  7954 | ⋯ | 2 | 2915 | 1801 | TTTACGTCAGATGGCA-1_postB | postB_TTTACGTCAGATGGCA-1 | 1    | 3    | postB | 3_1  | d3postB   |\n",
       "| postB_TTTACGTCAGGCATTT-1 | postB |  852 |  852 | 19503 | 16063 | 175 |  72 |  413 | 0 |  2780 | ⋯ | 0 | 1019 |  872 | TTTACGTCAGGCATTT-1_postB | postB_TTTACGTCAGGCATTT-1 | 13   | 1    | postB | 1_13 | d1postB   |\n",
       "| postB_TTTACGTCATCGGCTG-1 | postB | 1357 | 1357 | 20785 | 14216 | 193 | 103 |  930 | 0 |  5343 | ⋯ | 0 | 2263 | 1497 | TTTACGTCATCGGCTG-1_postB | postB_TTTACGTCATCGGCTG-1 | 43   | 3    | postB | 3_43 | d3postB   |\n",
       "| postB_TTTACGTTCCCGTATC-1 | postB | 1494 | 1494 | 10343 |  6055 |  91 |  49 |  456 | 0 |  3692 | ⋯ | 4 | 1616 | 1270 | TTTACGTTCCCGTATC-1_postB | postB_TTTACGTTCCCGTATC-1 | 28   | 3    | postB | 3_28 | d3postB   |\n",
       "| postB_TTTACGTTCCGTACGG-1 | postB | 1004 | 1004 | 12140 |  8979 | 113 |  65 |  351 | 0 |  2632 | ⋯ | 0 | 1096 |  944 | TTTACGTTCCGTACGG-1_postB | postB_TTTACGTTCCGTACGG-1 | 1    | 3    | postB | 3_1  | d3postB   |\n",
       "| postB_TTTGAGGCAAGGAGGG-1 | postB | 5704 | 5704 | 45398 | 24730 | 335 | 238 | 2505 | 0 | 17590 | ⋯ | 1 | 8083 | 4627 | TTTGAGGCAAGGAGGG-1_postB | postB_TTTGAGGCAAGGAGGG-1 | 0    | 3    | postB | 3_0  | d3postB   |\n",
       "| postB_TTTGAGGCACTTATGG-1 | postB | 4198 | 4198 | 31904 | 17727 | 249 | 184 | 1665 | 0 | 12079 | ⋯ | 8 | 5663 | 3712 | TTTGAGGCACTTATGG-1_postB | postB_TTTGAGGCACTTATGG-1 | 22   | 0    | postB | 0_22 | d0postB   |\n",
       "| postB_TTTGAGGCATGGATGG-1 | postB | 2599 | 2599 | 16673 |  8399 | 123 |  97 | 1108 | 0 |  6946 | ⋯ | 6 | 3229 | 2395 | TTTGAGGCATGGATGG-1_postB | postB_TTTGAGGCATGGATGG-1 | 19   | 1    | postB | 1_19 | d1postB   |\n",
       "| postB_TTTGAGGCATTAGCCA-1 | postB |  959 |  959 | 13750 | 10552 | 147 |  58 |  384 | 0 |  2609 | ⋯ | 3 | 1054 |  904 | TTTGAGGCATTAGCCA-1_postB | postB_TTTGAGGCATTAGCCA-1 | 0    | 0    | postB | 0_0  | d0postB   |\n",
       "| postB_TTTGAGGTCGAACACT-1 | postB |  850 |  850 | 10573 |  6701 |  83 |  77 |  626 | 0 |  3086 | ⋯ | 2 | 1276 |  982 | TTTGAGGTCGAACACT-1_postB | postB_TTTGAGGTCGAACACT-1 | 20   | 3    | postB | 3_20 | d3postB   |\n",
       "| postB_TTTGCGCCAACGTCCG-1 | postB | 4824 | 4824 | 32356 | 14961 | 331 | 200 | 2634 | 0 | 14230 | ⋯ | 8 | 7099 | 4221 | TTTGCGCCAACGTCCG-1_postB | postB_TTTGCGCCAACGTCCG-1 | 7    | 3    | postB | 3_7  | d3postB   |\n",
       "| postB_TTTGCGCCAAGGTTCT-1 | postB | 4273 | 4273 | 26405 | 13212 | 192 | 147 | 1402 | 0 | 11452 | ⋯ | 4 | 5906 | 3721 | TTTGCGCCAAGGTTCT-1_postB | postB_TTTGCGCCAAGGTTCT-1 | 17   | 3    | postB | 3_17 | d3postB   |\n",
       "| postB_TTTGCGCCATTAGCCA-1 | postB |  991 |  991 | 18794 | 14010 | 166 | 103 |  740 | 0 |  3775 | ⋯ | 4 | 1547 | 1190 | TTTGCGCCATTAGCCA-1_postB | postB_TTTGCGCCATTAGCCA-1 | 3    | 3    | postB | 3_3  | d3postB   |\n",
       "| postB_TTTGCGCGTCAAATCC-1 | postB | 2766 | 2766 | 24981 | 15050 | 235 | 124 | 1015 | 0 |  8557 | ⋯ | 5 | 4207 | 2848 | TTTGCGCGTCAAATCC-1_postB | postB_TTTGCGCGTCAAATCC-1 | 19   | 3    | postB | 3_19 | d3postB   |\n",
       "| postB_TTTGCGCGTTAGAGAT-1 | postB |  975 |  975 | 13350 |  9218 | 122 |  60 |  642 | 0 |  3308 | ⋯ | 4 | 1240 | 1042 | TTTGCGCGTTAGAGAT-1_postB | postB_TTTGCGCGTTAGAGAT-1 | 31   | 3    | postB | 3_31 | d3postB   |\n",
       "| postB_TTTGGCCAGCGAATAT-1 | postB | 1509 | 1509 |  7557 |  2349 |  42 |  53 |  406 | 0 |  4707 | ⋯ | 5 | 2417 | 1988 | NA                       | postB_TTTGGCCAGCGAATAT-1 | None | None | None  | None | dNoneNone |\n",
       "| postB_TTTGGCCAGGGAAATG-1 | postB | 1451 | 1451 | 10329 |  6949 |  98 |  65 |  452 | 0 |  2765 | ⋯ | 6 | 1353 | 1082 | TTTGGCCAGGGAAATG-1_postB | postB_TTTGGCCAGGGAAATG-1 | 15   | 3    | postB | 3_15 | d3postB   |\n",
       "| postB_TTTGGCCAGTAGCAAT-1 | postB | 4904 | 4904 | 34154 | 18258 | 329 | 173 | 1404 | 0 | 13990 | ⋯ | 5 | 7024 | 3924 | TTTGGCCAGTAGCAAT-1_postB | postB_TTTGGCCAGTAGCAAT-1 | 3    | 3    | postB | 3_3  | d3postB   |\n",
       "| postB_TTTGGCCCAATGCCAT-1 | postB | 1583 | 1583 |  9927 |  5569 | 106 |  45 |  553 | 0 |  3654 | ⋯ | 4 | 1752 | 1426 | TTTGGCCCAATGCCAT-1_postB | postB_TTTGGCCCAATGCCAT-1 | 29   | 0    | postB | 0_29 | d0postB   |\n",
       "| postB_TTTGGCCGTGCGCTCA-1 | postB | 4857 | 4857 | 37845 | 20643 | 362 | 200 | 1994 | 0 | 14646 | ⋯ | 1 | 6866 | 4162 | TTTGGCCGTGCGCTCA-1_postB | postB_TTTGGCCGTGCGCTCA-1 | 4    | 3    | postB | 3_4  | d3postB   |\n",
       "| postB_TTTGGTTAGGAGTCTG-1 | postB | 1159 | 1159 | 11094 |  7510 |  83 |  66 |  559 | 0 |  2876 | ⋯ | 0 | 1311 | 1076 | TTTGGTTAGGAGTCTG-1_postB | postB_TTTGGTTAGGAGTCTG-1 | 21   | 3    | postB | 3_21 | d3postB   |\n",
       "| postB_TTTGGTTTCAAGGCAG-1 | postB | 2882 | 2882 | 54608 | 38334 | 572 | 309 | 2500 | 0 | 12893 | ⋯ | 5 | 5176 | 2672 | TTTGGTTTCAAGGCAG-1_postB | postB_TTTGGTTTCAAGGCAG-1 | 8    | 3    | postB | 3_8  | d3postB   |\n",
       "| postB_TTTGGTTTCATCGCAA-1 | postB | 2352 | 2352 | 21062 | 13739 | 202 | 129 |  916 | 0 |  6076 | ⋯ | 0 | 2808 | 2092 | TTTGGTTTCATCGCAA-1_postB | postB_TTTGGTTTCATCGCAA-1 | 26   | 3    | postB | 3_26 | d3postB   |\n",
       "| postB_TTTGGTTTCGAGGTCC-1 | postB | 1177 | 1177 | 14837 |  9808 | 125 |  73 |  599 | 0 |  4232 | ⋯ | 3 | 1724 | 1251 | TTTGGTTTCGAGGTCC-1_postB | postB_TTTGGTTTCGAGGTCC-1 | 9    | 3    | postB | 3_9  | d3postB   |\n",
       "| postB_TTTGGTTTCTAGCTGA-1 | postB | 1435 | 1435 | 13227 |  7691 | 122 |  69 |  560 | 0 |  4785 | ⋯ | 0 | 1906 | 1423 | TTTGGTTTCTAGCTGA-1_postB | postB_TTTGGTTTCTAGCTGA-1 | 21   | 3    | postB | 3_21 | d3postB   |\n",
       "| postB_TTTGTGTCACAGTTCA-1 | postB | 2706 | 2706 | 25571 | 16229 | 255 | 162 | 1063 | 0 |  7862 | ⋯ | 0 | 3566 | 2147 | TTTGTGTCACAGTTCA-1_postB | postB_TTTGTGTCACAGTTCA-1 | 4    | 1    | postB | 1_4  | d1postB   |\n",
       "| postB_TTTGTGTGTGCCGGTT-1 | postB | 1747 | 1747 | 18602 | 13134 | 184 | 104 |  574 | 0 |  4606 | ⋯ | 4 | 1824 | 1502 | NA                       | postB_TTTGTGTGTGCCGGTT-1 | None | None | None  | None | dNoneNone |\n",
       "| postB_TTTGTGTTCCATGACA-1 | postB | 4540 | 4540 | 31499 | 15296 | 246 | 155 | 2069 | 0 | 13733 | ⋯ | 9 | 6306 | 3958 | TTTGTGTTCCATGACA-1_postB | postB_TTTGTGTTCCATGACA-1 | 24   | 0    | postB | 0_24 | d0postB   |\n",
       "\n"
      ],
      "text/plain": [
       "                         orig.ident nCount_ATAC nFeature_ATAC total duplicate\n",
       "preB_AAACGAAGTCACTCTC-1  preB       3754        3754          38954 29912    \n",
       "preB_AAACGAAGTCCCTAAA-1  preB       4130        4130          24309 15056    \n",
       "preB_AAACGAAGTCTGTGTA-1  preB        683         683          17674 15525    \n",
       "preB_AAACTCGCAACTCGTA-1  preB       5270        5270          39016 26386    \n",
       "preB_AAACTCGCAGAACGAC-1  preB       5575        5575          70990 51473    \n",
       "preB_AAACTGCCACACATGT-1  preB        968         968          23591 20903    \n",
       "preB_AAAGATGGTTTGACCA-1  preB       2719        2719          52480 41104    \n",
       "preB_AAAGATGTCCGTCAAA-1  preB       1677        1677          13817  9880    \n",
       "preB_AAAGATGTCTCTGTTA-1  preB       3013        3013          28453 20833    \n",
       "preB_AAAGGATGTGCAAAGC-1  preB       5980        5980          56034 34570    \n",
       "preB_AAAGGGCAGTGTCGGA-1  preB       1310        1310          24053 17275    \n",
       "preB_AAAGGGCAGTTGCGCC-1  preB        454         454          17483 15502    \n",
       "preB_AAAGGGCCACTGCTCT-1  preB       1863        1863          29798 24044    \n",
       "preB_AAATGAGCATGGATGG-1  preB       3178        3178          53971 44978    \n",
       "preB_AAATGAGTCGACTCGG-1  preB       1595        1595          15660 12144    \n",
       "preB_AAATGCCAGCGCCTAC-1  preB       1054        1054          25591 22295    \n",
       "preB_AAATGCCGTGAGTTGG-1  preB       2368        2368          24796 18643    \n",
       "preB_AAATGCCTCAGTACAC-1  preB       2919        2919          42689 33789    \n",
       "preB_AAATGCCTCCGTGCGA-1  preB       1326        1326          20607 16352    \n",
       "preB_AAATGCCTCGCGATGC-1  preB        744         744          24036 21515    \n",
       "preB_AACAAAGGTAAGCCGA-1  preB       4691        4691          39854 26065    \n",
       "preB_AACAAAGTCTAAACGC-1  preB       3960        3960          46612 35991    \n",
       "preB_AACAGTCAGGCCAATG-1  preB       5023        5023          44129 29870    \n",
       "preB_AACAGTCTCGCTATAG-1  preB       6125        6125          45633 28581    \n",
       "preB_AACCAACGTCAGCAAG-1  preB       2988        2988          75947 47246    \n",
       "preB_AACCGATCAACTCGAT-1  preB        929         929          35158 31296    \n",
       "preB_AACCTGAGTAGAATAC-1  preB       3222        3222          36565 27510    \n",
       "preB_AACCTGATCAGAATGA-1  preB       6236        6236          62075 40774    \n",
       "preB_AACCTTTAGCACACCC-1  preB       2353        2353          29530 22242    \n",
       "preB_AACCTTTCAGTAGTTC-1  preB       6836        6836          43422 25916    \n",
       "⋮                        ⋮          ⋮           ⋮             ⋮     ⋮        \n",
       "postB_TTTACGTAGTCTTAGC-1 postB      2065        2065          21069 14168    \n",
       "postB_TTTACGTCAATCATCG-1 postB      1688        1688          18539 13316    \n",
       "postB_TTTACGTCAGATGGCA-1 postB      1150        1150          22743 12921    \n",
       "postB_TTTACGTCAGGCATTT-1 postB       852         852          19503 16063    \n",
       "postB_TTTACGTCATCGGCTG-1 postB      1357        1357          20785 14216    \n",
       "postB_TTTACGTTCCCGTATC-1 postB      1494        1494          10343  6055    \n",
       "postB_TTTACGTTCCGTACGG-1 postB      1004        1004          12140  8979    \n",
       "postB_TTTGAGGCAAGGAGGG-1 postB      5704        5704          45398 24730    \n",
       "postB_TTTGAGGCACTTATGG-1 postB      4198        4198          31904 17727    \n",
       "postB_TTTGAGGCATGGATGG-1 postB      2599        2599          16673  8399    \n",
       "postB_TTTGAGGCATTAGCCA-1 postB       959         959          13750 10552    \n",
       "postB_TTTGAGGTCGAACACT-1 postB       850         850          10573  6701    \n",
       "postB_TTTGCGCCAACGTCCG-1 postB      4824        4824          32356 14961    \n",
       "postB_TTTGCGCCAAGGTTCT-1 postB      4273        4273          26405 13212    \n",
       "postB_TTTGCGCCATTAGCCA-1 postB       991         991          18794 14010    \n",
       "postB_TTTGCGCGTCAAATCC-1 postB      2766        2766          24981 15050    \n",
       "postB_TTTGCGCGTTAGAGAT-1 postB       975         975          13350  9218    \n",
       "postB_TTTGGCCAGCGAATAT-1 postB      1509        1509           7557  2349    \n",
       "postB_TTTGGCCAGGGAAATG-1 postB      1451        1451          10329  6949    \n",
       "postB_TTTGGCCAGTAGCAAT-1 postB      4904        4904          34154 18258    \n",
       "postB_TTTGGCCCAATGCCAT-1 postB      1583        1583           9927  5569    \n",
       "postB_TTTGGCCGTGCGCTCA-1 postB      4857        4857          37845 20643    \n",
       "postB_TTTGGTTAGGAGTCTG-1 postB      1159        1159          11094  7510    \n",
       "postB_TTTGGTTTCAAGGCAG-1 postB      2882        2882          54608 38334    \n",
       "postB_TTTGGTTTCATCGCAA-1 postB      2352        2352          21062 13739    \n",
       "postB_TTTGGTTTCGAGGTCC-1 postB      1177        1177          14837  9808    \n",
       "postB_TTTGGTTTCTAGCTGA-1 postB      1435        1435          13227  7691    \n",
       "postB_TTTGTGTCACAGTTCA-1 postB      2706        2706          25571 16229    \n",
       "postB_TTTGTGTGTGCCGGTT-1 postB      1747        1747          18602 13134    \n",
       "postB_TTTGTGTTCCATGACA-1 postB      4540        4540          31499 15296    \n",
       "                         chimeric unmapped lowmapq mitochondrial passed_filters\n",
       "preB_AAACGAAGTCACTCTC-1  335       145     1057    0              7505         \n",
       "preB_AAACGAAGTCCCTAAA-1  258       113      968    0              7914         \n",
       "preB_AAACGAAGTCTGTGTA-1  189        72      200    0              1688         \n",
       "preB_AAACTCGCAACTCGTA-1  437       223     1941    0             10029         \n",
       "preB_AAACTCGCAGAACGAC-1  759       331     2599    0             15828         \n",
       "preB_AAACTGCCACACATGT-1  197        96      328    0              2067         \n",
       "preB_AAAGATGGTTTGACCA-1  526       355     1808    0              8687         \n",
       "preB_AAAGATGTCCGTCAAA-1  167        66      514    0              3190         \n",
       "preB_AAAGATGTCTCTGTTA-1  270       144     1272    0              5934         \n",
       "preB_AAAGGATGTGCAAAGC-1  789       306     3756    0             16613         \n",
       "preB_AAAGGGCAGTGTCGGA-1  314      2490     1045    0              2929         \n",
       "preB_AAAGGGCAGTTGCGCC-1  125       120      309    0              1427         \n",
       "preB_AAAGGGCCACTGCTCT-1  257       253      877    0              4367         \n",
       "preB_AAATGAGCATGGATGG-1  575       325      984    0              7109         \n",
       "preB_AAATGAGTCGACTCGG-1  147        99      421    0              2849         \n",
       "preB_AAATGCCAGCGCCTAC-1  175       116      484    0              2521         \n",
       "preB_AAATGCCGTGAGTTGG-1  264       131      744    0              5014         \n",
       "preB_AAATGCCTCAGTACAC-1  411       201     1238    0              7050         \n",
       "preB_AAATGCCTCCGTGCGA-1  163        96      906    0              3090         \n",
       "preB_AAATGCCTCGCGATGC-1  181       124      363    0              1853         \n",
       "preB_AACAAAGGTAAGCCGA-1  316       184     1668    0             11621         \n",
       "preB_AACAAAGTCTAAACGC-1  478       154     1551    0              8438         \n",
       "preB_AACAGTCAGGCCAATG-1  484       227     2396    0             11152         \n",
       "preB_AACAGTCTCGCTATAG-1  473       296     2753    0             13530         \n",
       "preB_AACCAACGTCAGCAAG-1  524       522     5863    0             21792         \n",
       "preB_AACCGATCAACTCGAT-1  277       149      568    0              2868         \n",
       "preB_AACCTGAGTAGAATAC-1  323       171     1477    0              7084         \n",
       "preB_AACCTGATCAGAATGA-1  514       321     3420    0             17046         \n",
       "preB_AACCTTTAGCACACCC-1  292       136      952    0              5908         \n",
       "preB_AACCTTTCAGTAGTTC-1  535       174     2038    0             14759         \n",
       "⋮                        ⋮        ⋮        ⋮       ⋮             ⋮             \n",
       "postB_TTTACGTAGTCTTAGC-1 193       88       813    0              5807         \n",
       "postB_TTTACGTCAATCATCG-1 161       75       698    0              4289         \n",
       "postB_TTTACGTCAGATGGCA-1 241      121      1506    0              7954         \n",
       "postB_TTTACGTCAGGCATTT-1 175       72       413    0              2780         \n",
       "postB_TTTACGTCATCGGCTG-1 193      103       930    0              5343         \n",
       "postB_TTTACGTTCCCGTATC-1  91       49       456    0              3692         \n",
       "postB_TTTACGTTCCGTACGG-1 113       65       351    0              2632         \n",
       "postB_TTTGAGGCAAGGAGGG-1 335      238      2505    0             17590         \n",
       "postB_TTTGAGGCACTTATGG-1 249      184      1665    0             12079         \n",
       "postB_TTTGAGGCATGGATGG-1 123       97      1108    0              6946         \n",
       "postB_TTTGAGGCATTAGCCA-1 147       58       384    0              2609         \n",
       "postB_TTTGAGGTCGAACACT-1  83       77       626    0              3086         \n",
       "postB_TTTGCGCCAACGTCCG-1 331      200      2634    0             14230         \n",
       "postB_TTTGCGCCAAGGTTCT-1 192      147      1402    0             11452         \n",
       "postB_TTTGCGCCATTAGCCA-1 166      103       740    0              3775         \n",
       "postB_TTTGCGCGTCAAATCC-1 235      124      1015    0              8557         \n",
       "postB_TTTGCGCGTTAGAGAT-1 122       60       642    0              3308         \n",
       "postB_TTTGGCCAGCGAATAT-1  42       53       406    0              4707         \n",
       "postB_TTTGGCCAGGGAAATG-1  98       65       452    0              2765         \n",
       "postB_TTTGGCCAGTAGCAAT-1 329      173      1404    0             13990         \n",
       "postB_TTTGGCCCAATGCCAT-1 106       45       553    0              3654         \n",
       "postB_TTTGGCCGTGCGCTCA-1 362      200      1994    0             14646         \n",
       "postB_TTTGGTTAGGAGTCTG-1  83       66       559    0              2876         \n",
       "postB_TTTGGTTTCAAGGCAG-1 572      309      2500    0             12893         \n",
       "postB_TTTGGTTTCATCGCAA-1 202      129       916    0              6076         \n",
       "postB_TTTGGTTTCGAGGTCC-1 125       73       599    0              4232         \n",
       "postB_TTTGGTTTCTAGCTGA-1 122       69       560    0              4785         \n",
       "postB_TTTGTGTCACAGTTCA-1 255      162      1063    0              7862         \n",
       "postB_TTTGTGTGTGCCGGTT-1 184      104       574    0              4606         \n",
       "postB_TTTGTGTTCCATGACA-1 246      155      2069    0             13733         \n",
       "                         ⋯ seurat_clusters nCount_RNA nFeature_RNA\n",
       "preB_AAACGAAGTCACTCTC-1  ⋯ 0               3751       2539        \n",
       "preB_AAACGAAGTCCCTAAA-1  ⋯ 6               4280       2832        \n",
       "preB_AAACGAAGTCTGTGTA-1  ⋯ 2                581        517        \n",
       "preB_AAACTCGCAACTCGTA-1  ⋯ 6               5460       3063        \n",
       "preB_AAACTCGCAGAACGAC-1  ⋯ 5               8266       3971        \n",
       "preB_AAACTGCCACACATGT-1  ⋯ 0                792        645        \n",
       "preB_AAAGATGGTTTGACCA-1  ⋯ 5               3984       2639        \n",
       "preB_AAAGATGTCCGTCAAA-1  ⋯ 7               1573       1244        \n",
       "preB_AAAGATGTCTCTGTTA-1  ⋯ 9               2832       1951        \n",
       "preB_AAAGGATGTGCAAAGC-1  ⋯ 7               7850       4255        \n",
       "preB_AAAGGGCAGTGTCGGA-1  ⋯ 7               1162        968        \n",
       "preB_AAAGGGCAGTTGCGCC-1  ⋯ 2                369        324        \n",
       "preB_AAAGGGCCACTGCTCT-1  ⋯ 2               1909       1401        \n",
       "preB_AAATGAGCATGGATGG-1  ⋯ 4               3001       2196        \n",
       "preB_AAATGAGTCGACTCGG-1  ⋯ 3               1320       1089        \n",
       "preB_AAATGCCAGCGCCTAC-1  ⋯ 2                874        721        \n",
       "preB_AAATGCCGTGAGTTGG-1  ⋯ 0               2265       1751        \n",
       "preB_AAATGCCTCAGTACAC-1  ⋯ 3               3065       2195        \n",
       "preB_AAATGCCTCCGTGCGA-1  ⋯ 2               1256        998        \n",
       "preB_AAATGCCTCGCGATGC-1  ⋯ 2                552        485        \n",
       "preB_AACAAAGGTAAGCCGA-1  ⋯ 0               5943       3346        \n",
       "preB_AACAAAGTCTAAACGC-1  ⋯ 1               4057       2513        \n",
       "preB_AACAGTCAGGCCAATG-1  ⋯ 1               5759       3524        \n",
       "preB_AACAGTCTCGCTATAG-1  ⋯ 4               7294       4027        \n",
       "preB_AACCAACGTCAGCAAG-1  ⋯ 0               9432       4868        \n",
       "preB_AACCGATCAACTCGAT-1  ⋯ 2                909        757        \n",
       "preB_AACCTGAGTAGAATAC-1  ⋯ 1               3296       2297        \n",
       "preB_AACCTGATCAGAATGA-1  ⋯ 8               8942       4794        \n",
       "preB_AACCTTTAGCACACCC-1  ⋯ 1               2434       1804        \n",
       "preB_AACCTTTCAGTAGTTC-1  ⋯ 7               8195       4449        \n",
       "⋮                        ⋱ ⋮               ⋮          ⋮           \n",
       "postB_TTTACGTAGTCTTAGC-1 ⋯ 0               2585       1961        \n",
       "postB_TTTACGTCAATCATCG-1 ⋯ 0               1937       1506        \n",
       "postB_TTTACGTCAGATGGCA-1 ⋯ 2               2915       1801        \n",
       "postB_TTTACGTCAGGCATTT-1 ⋯ 0               1019        872        \n",
       "postB_TTTACGTCATCGGCTG-1 ⋯ 0               2263       1497        \n",
       "postB_TTTACGTTCCCGTATC-1 ⋯ 4               1616       1270        \n",
       "postB_TTTACGTTCCGTACGG-1 ⋯ 0               1096        944        \n",
       "postB_TTTGAGGCAAGGAGGG-1 ⋯ 1               8083       4627        \n",
       "postB_TTTGAGGCACTTATGG-1 ⋯ 8               5663       3712        \n",
       "postB_TTTGAGGCATGGATGG-1 ⋯ 6               3229       2395        \n",
       "postB_TTTGAGGCATTAGCCA-1 ⋯ 3               1054        904        \n",
       "postB_TTTGAGGTCGAACACT-1 ⋯ 2               1276        982        \n",
       "postB_TTTGCGCCAACGTCCG-1 ⋯ 8               7099       4221        \n",
       "postB_TTTGCGCCAAGGTTCT-1 ⋯ 4               5906       3721        \n",
       "postB_TTTGCGCCATTAGCCA-1 ⋯ 4               1547       1190        \n",
       "postB_TTTGCGCGTCAAATCC-1 ⋯ 5               4207       2848        \n",
       "postB_TTTGCGCGTTAGAGAT-1 ⋯ 4               1240       1042        \n",
       "postB_TTTGGCCAGCGAATAT-1 ⋯ 5               2417       1988        \n",
       "postB_TTTGGCCAGGGAAATG-1 ⋯ 6               1353       1082        \n",
       "postB_TTTGGCCAGTAGCAAT-1 ⋯ 5               7024       3924        \n",
       "postB_TTTGGCCCAATGCCAT-1 ⋯ 4               1752       1426        \n",
       "postB_TTTGGCCGTGCGCTCA-1 ⋯ 1               6866       4162        \n",
       "postB_TTTGGTTAGGAGTCTG-1 ⋯ 0               1311       1076        \n",
       "postB_TTTGGTTTCAAGGCAG-1 ⋯ 5               5176       2672        \n",
       "postB_TTTGGTTTCATCGCAA-1 ⋯ 0               2808       2092        \n",
       "postB_TTTGGTTTCGAGGTCC-1 ⋯ 3               1724       1251        \n",
       "postB_TTTGGTTTCTAGCTGA-1 ⋯ 0               1906       1423        \n",
       "postB_TTTGTGTCACAGTTCA-1 ⋯ 0               3566       2147        \n",
       "postB_TTTGTGTGTGCCGGTT-1 ⋯ 4               1824       1502        \n",
       "postB_TTTGTGTTCCATGACA-1 ⋯ 9               6306       3958        \n",
       "                         ID                       Row.names               \n",
       "preB_AAACGAAGTCACTCTC-1  AAACGAAGTCACTCTC-1_preB  preB_AAACGAAGTCACTCTC-1 \n",
       "preB_AAACGAAGTCCCTAAA-1  AAACGAAGTCCCTAAA-1_preB  preB_AAACGAAGTCCCTAAA-1 \n",
       "preB_AAACGAAGTCTGTGTA-1  AAACGAAGTCTGTGTA-1_preB  preB_AAACGAAGTCTGTGTA-1 \n",
       "preB_AAACTCGCAACTCGTA-1  AAACTCGCAACTCGTA-1_preB  preB_AAACTCGCAACTCGTA-1 \n",
       "preB_AAACTCGCAGAACGAC-1  AAACTCGCAGAACGAC-1_preB  preB_AAACTCGCAGAACGAC-1 \n",
       "preB_AAACTGCCACACATGT-1  AAACTGCCACACATGT-1_preB  preB_AAACTGCCACACATGT-1 \n",
       "preB_AAAGATGGTTTGACCA-1  AAAGATGGTTTGACCA-1_preB  preB_AAAGATGGTTTGACCA-1 \n",
       "preB_AAAGATGTCCGTCAAA-1  AAAGATGTCCGTCAAA-1_preB  preB_AAAGATGTCCGTCAAA-1 \n",
       "preB_AAAGATGTCTCTGTTA-1  AAAGATGTCTCTGTTA-1_preB  preB_AAAGATGTCTCTGTTA-1 \n",
       "preB_AAAGGATGTGCAAAGC-1  AAAGGATGTGCAAAGC-1_preB  preB_AAAGGATGTGCAAAGC-1 \n",
       "preB_AAAGGGCAGTGTCGGA-1  AAAGGGCAGTGTCGGA-1_preB  preB_AAAGGGCAGTGTCGGA-1 \n",
       "preB_AAAGGGCAGTTGCGCC-1  AAAGGGCAGTTGCGCC-1_preB  preB_AAAGGGCAGTTGCGCC-1 \n",
       "preB_AAAGGGCCACTGCTCT-1  AAAGGGCCACTGCTCT-1_preB  preB_AAAGGGCCACTGCTCT-1 \n",
       "preB_AAATGAGCATGGATGG-1  NA                       preB_AAATGAGCATGGATGG-1 \n",
       "preB_AAATGAGTCGACTCGG-1  AAATGAGTCGACTCGG-1_preB  preB_AAATGAGTCGACTCGG-1 \n",
       "preB_AAATGCCAGCGCCTAC-1  AAATGCCAGCGCCTAC-1_preB  preB_AAATGCCAGCGCCTAC-1 \n",
       "preB_AAATGCCGTGAGTTGG-1  AAATGCCGTGAGTTGG-1_preB  preB_AAATGCCGTGAGTTGG-1 \n",
       "preB_AAATGCCTCAGTACAC-1  AAATGCCTCAGTACAC-1_preB  preB_AAATGCCTCAGTACAC-1 \n",
       "preB_AAATGCCTCCGTGCGA-1  AAATGCCTCCGTGCGA-1_preB  preB_AAATGCCTCCGTGCGA-1 \n",
       "preB_AAATGCCTCGCGATGC-1  AAATGCCTCGCGATGC-1_preB  preB_AAATGCCTCGCGATGC-1 \n",
       "preB_AACAAAGGTAAGCCGA-1  AACAAAGGTAAGCCGA-1_preB  preB_AACAAAGGTAAGCCGA-1 \n",
       "preB_AACAAAGTCTAAACGC-1  AACAAAGTCTAAACGC-1_preB  preB_AACAAAGTCTAAACGC-1 \n",
       "preB_AACAGTCAGGCCAATG-1  AACAGTCAGGCCAATG-1_preB  preB_AACAGTCAGGCCAATG-1 \n",
       "preB_AACAGTCTCGCTATAG-1  AACAGTCTCGCTATAG-1_preB  preB_AACAGTCTCGCTATAG-1 \n",
       "preB_AACCAACGTCAGCAAG-1  AACCAACGTCAGCAAG-1_preB  preB_AACCAACGTCAGCAAG-1 \n",
       "preB_AACCGATCAACTCGAT-1  AACCGATCAACTCGAT-1_preB  preB_AACCGATCAACTCGAT-1 \n",
       "preB_AACCTGAGTAGAATAC-1  AACCTGAGTAGAATAC-1_preB  preB_AACCTGAGTAGAATAC-1 \n",
       "preB_AACCTGATCAGAATGA-1  AACCTGATCAGAATGA-1_preB  preB_AACCTGATCAGAATGA-1 \n",
       "preB_AACCTTTAGCACACCC-1  AACCTTTAGCACACCC-1_preB  preB_AACCTTTAGCACACCC-1 \n",
       "preB_AACCTTTCAGTAGTTC-1  AACCTTTCAGTAGTTC-1_preB  preB_AACCTTTCAGTAGTTC-1 \n",
       "⋮                        ⋮                        ⋮                       \n",
       "postB_TTTACGTAGTCTTAGC-1 TTTACGTAGTCTTAGC-1_postB postB_TTTACGTAGTCTTAGC-1\n",
       "postB_TTTACGTCAATCATCG-1 TTTACGTCAATCATCG-1_postB postB_TTTACGTCAATCATCG-1\n",
       "postB_TTTACGTCAGATGGCA-1 TTTACGTCAGATGGCA-1_postB postB_TTTACGTCAGATGGCA-1\n",
       "postB_TTTACGTCAGGCATTT-1 TTTACGTCAGGCATTT-1_postB postB_TTTACGTCAGGCATTT-1\n",
       "postB_TTTACGTCATCGGCTG-1 TTTACGTCATCGGCTG-1_postB postB_TTTACGTCATCGGCTG-1\n",
       "postB_TTTACGTTCCCGTATC-1 TTTACGTTCCCGTATC-1_postB postB_TTTACGTTCCCGTATC-1\n",
       "postB_TTTACGTTCCGTACGG-1 TTTACGTTCCGTACGG-1_postB postB_TTTACGTTCCGTACGG-1\n",
       "postB_TTTGAGGCAAGGAGGG-1 TTTGAGGCAAGGAGGG-1_postB postB_TTTGAGGCAAGGAGGG-1\n",
       "postB_TTTGAGGCACTTATGG-1 TTTGAGGCACTTATGG-1_postB postB_TTTGAGGCACTTATGG-1\n",
       "postB_TTTGAGGCATGGATGG-1 TTTGAGGCATGGATGG-1_postB postB_TTTGAGGCATGGATGG-1\n",
       "postB_TTTGAGGCATTAGCCA-1 TTTGAGGCATTAGCCA-1_postB postB_TTTGAGGCATTAGCCA-1\n",
       "postB_TTTGAGGTCGAACACT-1 TTTGAGGTCGAACACT-1_postB postB_TTTGAGGTCGAACACT-1\n",
       "postB_TTTGCGCCAACGTCCG-1 TTTGCGCCAACGTCCG-1_postB postB_TTTGCGCCAACGTCCG-1\n",
       "postB_TTTGCGCCAAGGTTCT-1 TTTGCGCCAAGGTTCT-1_postB postB_TTTGCGCCAAGGTTCT-1\n",
       "postB_TTTGCGCCATTAGCCA-1 TTTGCGCCATTAGCCA-1_postB postB_TTTGCGCCATTAGCCA-1\n",
       "postB_TTTGCGCGTCAAATCC-1 TTTGCGCGTCAAATCC-1_postB postB_TTTGCGCGTCAAATCC-1\n",
       "postB_TTTGCGCGTTAGAGAT-1 TTTGCGCGTTAGAGAT-1_postB postB_TTTGCGCGTTAGAGAT-1\n",
       "postB_TTTGGCCAGCGAATAT-1 NA                       postB_TTTGGCCAGCGAATAT-1\n",
       "postB_TTTGGCCAGGGAAATG-1 TTTGGCCAGGGAAATG-1_postB postB_TTTGGCCAGGGAAATG-1\n",
       "postB_TTTGGCCAGTAGCAAT-1 TTTGGCCAGTAGCAAT-1_postB postB_TTTGGCCAGTAGCAAT-1\n",
       "postB_TTTGGCCCAATGCCAT-1 TTTGGCCCAATGCCAT-1_postB postB_TTTGGCCCAATGCCAT-1\n",
       "postB_TTTGGCCGTGCGCTCA-1 TTTGGCCGTGCGCTCA-1_postB postB_TTTGGCCGTGCGCTCA-1\n",
       "postB_TTTGGTTAGGAGTCTG-1 TTTGGTTAGGAGTCTG-1_postB postB_TTTGGTTAGGAGTCTG-1\n",
       "postB_TTTGGTTTCAAGGCAG-1 TTTGGTTTCAAGGCAG-1_postB postB_TTTGGTTTCAAGGCAG-1\n",
       "postB_TTTGGTTTCATCGCAA-1 TTTGGTTTCATCGCAA-1_postB postB_TTTGGTTTCATCGCAA-1\n",
       "postB_TTTGGTTTCGAGGTCC-1 TTTGGTTTCGAGGTCC-1_postB postB_TTTGGTTTCGAGGTCC-1\n",
       "postB_TTTGGTTTCTAGCTGA-1 TTTGGTTTCTAGCTGA-1_postB postB_TTTGGTTTCTAGCTGA-1\n",
       "postB_TTTGTGTCACAGTTCA-1 TTTGTGTCACAGTTCA-1_postB postB_TTTGTGTCACAGTTCA-1\n",
       "postB_TTTGTGTGTGCCGGTT-1 NA                       postB_TTTGTGTGTGCCGGTT-1\n",
       "postB_TTTGTGTTCCATGACA-1 TTTGTGTTCCATGACA-1_postB postB_TTTGTGTTCCATGACA-1\n",
       "                         lineage donor condition name donor.cond\n",
       "preB_AAACGAAGTCACTCTC-1  10      0     preB      0_10 d0preB    \n",
       "preB_AAACGAAGTCCCTAAA-1  33      3     preB      3_33 d3preB    \n",
       "preB_AAACGAAGTCTGTGTA-1  20      1     preB      1_20 d1preB    \n",
       "preB_AAACTCGCAACTCGTA-1  0       2     preB      2_0  d2preB    \n",
       "preB_AAACTCGCAGAACGAC-1  9       2     preB      2_9  d2preB    \n",
       "preB_AAACTGCCACACATGT-1  0       1     preB      1_0  d1preB    \n",
       "preB_AAAGATGGTTTGACCA-1  12      3     preB      3_12 d3preB    \n",
       "preB_AAAGATGTCCGTCAAA-1  46      3     preB      3_46 d3preB    \n",
       "preB_AAAGATGTCTCTGTTA-1  16      0     preB      0_16 d0preB    \n",
       "preB_AAAGGATGTGCAAAGC-1  27      0     preB      0_27 d0preB    \n",
       "preB_AAAGGGCAGTGTCGGA-1  22      3     preB      3_22 d3preB    \n",
       "preB_AAAGGGCAGTTGCGCC-1  1       2     preB      2_1  d2preB    \n",
       "preB_AAAGGGCCACTGCTCT-1  22      3     preB      3_22 d3preB    \n",
       "preB_AAATGAGCATGGATGG-1  None    None  None      None dNoneNone \n",
       "preB_AAATGAGTCGACTCGG-1  28      2     preB      2_28 d2preB    \n",
       "preB_AAATGCCAGCGCCTAC-1  5       2     preB      2_5  d2preB    \n",
       "preB_AAATGCCGTGAGTTGG-1  14      2     preB      2_14 d2preB    \n",
       "preB_AAATGCCTCAGTACAC-1  30      0     preB      0_30 d0preB    \n",
       "preB_AAATGCCTCCGTGCGA-1  1       2     preB      2_1  d2preB    \n",
       "preB_AAATGCCTCGCGATGC-1  10      2     preB      2_10 d2preB    \n",
       "preB_AACAAAGGTAAGCCGA-1  39      1     preB      1_39 d1preB    \n",
       "preB_AACAAAGTCTAAACGC-1  5       2     preB      2_5  d2preB    \n",
       "preB_AACAGTCAGGCCAATG-1  9       2     preB      2_9  d2preB    \n",
       "preB_AACAGTCTCGCTATAG-1  6       3     preB      3_6  d3preB    \n",
       "preB_AACCAACGTCAGCAAG-1  6       1     preB      1_6  d1preB    \n",
       "preB_AACCGATCAACTCGAT-1  30      1     preB      1_30 d1preB    \n",
       "preB_AACCTGAGTAGAATAC-1  9       2     preB      2_9  d2preB    \n",
       "preB_AACCTGATCAGAATGA-1  12      1     preB      1_12 d1preB    \n",
       "preB_AACCTTTAGCACACCC-1  3       1     preB      1_3  d1preB    \n",
       "preB_AACCTTTCAGTAGTTC-1  22      3     preB      3_22 d3preB    \n",
       "⋮                        ⋮       ⋮     ⋮         ⋮    ⋮         \n",
       "postB_TTTACGTAGTCTTAGC-1 1       3     postB     3_1  d3postB   \n",
       "postB_TTTACGTCAATCATCG-1 11      3     postB     3_11 d3postB   \n",
       "postB_TTTACGTCAGATGGCA-1 1       3     postB     3_1  d3postB   \n",
       "postB_TTTACGTCAGGCATTT-1 13      1     postB     1_13 d1postB   \n",
       "postB_TTTACGTCATCGGCTG-1 43      3     postB     3_43 d3postB   \n",
       "postB_TTTACGTTCCCGTATC-1 28      3     postB     3_28 d3postB   \n",
       "postB_TTTACGTTCCGTACGG-1 1       3     postB     3_1  d3postB   \n",
       "postB_TTTGAGGCAAGGAGGG-1 0       3     postB     3_0  d3postB   \n",
       "postB_TTTGAGGCACTTATGG-1 22      0     postB     0_22 d0postB   \n",
       "postB_TTTGAGGCATGGATGG-1 19      1     postB     1_19 d1postB   \n",
       "postB_TTTGAGGCATTAGCCA-1 0       0     postB     0_0  d0postB   \n",
       "postB_TTTGAGGTCGAACACT-1 20      3     postB     3_20 d3postB   \n",
       "postB_TTTGCGCCAACGTCCG-1 7       3     postB     3_7  d3postB   \n",
       "postB_TTTGCGCCAAGGTTCT-1 17      3     postB     3_17 d3postB   \n",
       "postB_TTTGCGCCATTAGCCA-1 3       3     postB     3_3  d3postB   \n",
       "postB_TTTGCGCGTCAAATCC-1 19      3     postB     3_19 d3postB   \n",
       "postB_TTTGCGCGTTAGAGAT-1 31      3     postB     3_31 d3postB   \n",
       "postB_TTTGGCCAGCGAATAT-1 None    None  None      None dNoneNone \n",
       "postB_TTTGGCCAGGGAAATG-1 15      3     postB     3_15 d3postB   \n",
       "postB_TTTGGCCAGTAGCAAT-1 3       3     postB     3_3  d3postB   \n",
       "postB_TTTGGCCCAATGCCAT-1 29      0     postB     0_29 d0postB   \n",
       "postB_TTTGGCCGTGCGCTCA-1 4       3     postB     3_4  d3postB   \n",
       "postB_TTTGGTTAGGAGTCTG-1 21      3     postB     3_21 d3postB   \n",
       "postB_TTTGGTTTCAAGGCAG-1 8       3     postB     3_8  d3postB   \n",
       "postB_TTTGGTTTCATCGCAA-1 26      3     postB     3_26 d3postB   \n",
       "postB_TTTGGTTTCGAGGTCC-1 9       3     postB     3_9  d3postB   \n",
       "postB_TTTGGTTTCTAGCTGA-1 21      3     postB     3_21 d3postB   \n",
       "postB_TTTGTGTCACAGTTCA-1 4       1     postB     1_4  d1postB   \n",
       "postB_TTTGTGTGTGCCGGTT-1 None    None  None      None dNoneNone \n",
       "postB_TTTGTGTTCCATGACA-1 24      0     postB     0_24 d0postB   "
      ]
     },
     "metadata": {},
     "output_type": "display_data"
    }
   ],
   "source": [
    "se[[]]"
   ]
  },
  {
   "cell_type": "code",
   "execution_count": 10,
   "id": "80fcb8aa",
   "metadata": {
    "scrolled": true
   },
   "outputs": [
    {
     "data": {
      "text/html": [
       "<table class=\"dataframe\">\n",
       "<caption>A data.frame: 3683 × 1</caption>\n",
       "<thead>\n",
       "\t<tr><th></th><th scope=col>peak_region_fragments</th></tr>\n",
       "\t<tr><th></th><th scope=col>&lt;dbl&gt;</th></tr>\n",
       "</thead>\n",
       "<tbody>\n",
       "\t<tr><th scope=row>preB_AAACGAAGTCACTCTC-1</th><td>5325</td></tr>\n",
       "\t<tr><th scope=row>preB_AAACGAAGTCCCTAAA-1</th><td>5461</td></tr>\n",
       "\t<tr><th scope=row>preB_AAACGAAGTCTGTGTA-1</th><td>1246</td></tr>\n",
       "\t<tr><th scope=row>preB_AAACTCGCAACTCGTA-1</th><td>7857</td></tr>\n",
       "\t<tr><th scope=row>preB_AAACTCGCAGAACGAC-1</th><td>8179</td></tr>\n",
       "\t<tr><th scope=row>preB_AAACTGCCACACATGT-1</th><td>1672</td></tr>\n",
       "\t<tr><th scope=row>preB_AAAGATGGTTTGACCA-1</th><td>4167</td></tr>\n",
       "\t<tr><th scope=row>preB_AAAGATGTCCGTCAAA-1</th><td>2221</td></tr>\n",
       "\t<tr><th scope=row>preB_AAAGATGTCTCTGTTA-1</th><td>4294</td></tr>\n",
       "\t<tr><th scope=row>preB_AAAGGATGTGCAAAGC-1</th><td>9065</td></tr>\n",
       "\t<tr><th scope=row>preB_AAAGGGCAGTGTCGGA-1</th><td>2030</td></tr>\n",
       "\t<tr><th scope=row>preB_AAAGGGCAGTTGCGCC-1</th><td>1047</td></tr>\n",
       "\t<tr><th scope=row>preB_AAAGGGCCACTGCTCT-1</th><td>2737</td></tr>\n",
       "\t<tr><th scope=row>preB_AAATGAGCATGGATGG-1</th><td>5546</td></tr>\n",
       "\t<tr><th scope=row>preB_AAATGAGTCGACTCGG-1</th><td>2218</td></tr>\n",
       "\t<tr><th scope=row>preB_AAATGCCAGCGCCTAC-1</th><td>2074</td></tr>\n",
       "\t<tr><th scope=row>preB_AAATGCCGTGAGTTGG-1</th><td>3240</td></tr>\n",
       "\t<tr><th scope=row>preB_AAATGCCTCAGTACAC-1</th><td>4760</td></tr>\n",
       "\t<tr><th scope=row>preB_AAATGCCTCCGTGCGA-1</th><td>2031</td></tr>\n",
       "\t<tr><th scope=row>preB_AAATGCCTCGCGATGC-1</th><td>1525</td></tr>\n",
       "\t<tr><th scope=row>preB_AACAAAGGTAAGCCGA-1</th><td>7418</td></tr>\n",
       "\t<tr><th scope=row>preB_AACAAAGTCTAAACGC-1</th><td>5836</td></tr>\n",
       "\t<tr><th scope=row>preB_AACAGTCAGGCCAATG-1</th><td>7142</td></tr>\n",
       "\t<tr><th scope=row>preB_AACAGTCTCGCTATAG-1</th><td>8808</td></tr>\n",
       "\t<tr><th scope=row>preB_AACCAACGTCAGCAAG-1</th><td>5072</td></tr>\n",
       "\t<tr><th scope=row>preB_AACCGATCAACTCGAT-1</th><td>2093</td></tr>\n",
       "\t<tr><th scope=row>preB_AACCTGAGTAGAATAC-1</th><td>4646</td></tr>\n",
       "\t<tr><th scope=row>preB_AACCTGATCAGAATGA-1</th><td>9709</td></tr>\n",
       "\t<tr><th scope=row>preB_AACCTTTAGCACACCC-1</th><td>3438</td></tr>\n",
       "\t<tr><th scope=row>preB_AACCTTTCAGTAGTTC-1</th><td>9875</td></tr>\n",
       "\t<tr><th scope=row>⋮</th><td>⋮</td></tr>\n",
       "\t<tr><th scope=row>postB_TTTACGTAGTCTTAGC-1</th><td>2733</td></tr>\n",
       "\t<tr><th scope=row>postB_TTTACGTCAATCATCG-1</th><td>2207</td></tr>\n",
       "\t<tr><th scope=row>postB_TTTACGTCAGATGGCA-1</th><td>1688</td></tr>\n",
       "\t<tr><th scope=row>postB_TTTACGTCAGGCATTT-1</th><td>1413</td></tr>\n",
       "\t<tr><th scope=row>postB_TTTACGTCATCGGCTG-1</th><td>1893</td></tr>\n",
       "\t<tr><th scope=row>postB_TTTACGTTCCCGTATC-1</th><td>1956</td></tr>\n",
       "\t<tr><th scope=row>postB_TTTACGTTCCGTACGG-1</th><td>1280</td></tr>\n",
       "\t<tr><th scope=row>postB_TTTGAGGCAAGGAGGG-1</th><td>7708</td></tr>\n",
       "\t<tr><th scope=row>postB_TTTGAGGCACTTATGG-1</th><td>5393</td></tr>\n",
       "\t<tr><th scope=row>postB_TTTGAGGCATGGATGG-1</th><td>3100</td></tr>\n",
       "\t<tr><th scope=row>postB_TTTGAGGCATTAGCCA-1</th><td>1442</td></tr>\n",
       "\t<tr><th scope=row>postB_TTTGAGGTCGAACACT-1</th><td>1156</td></tr>\n",
       "\t<tr><th scope=row>postB_TTTGCGCCAACGTCCG-1</th><td>6041</td></tr>\n",
       "\t<tr><th scope=row>postB_TTTGCGCCAAGGTTCT-1</th><td>5387</td></tr>\n",
       "\t<tr><th scope=row>postB_TTTGCGCCATTAGCCA-1</th><td>1439</td></tr>\n",
       "\t<tr><th scope=row>postB_TTTGCGCGTCAAATCC-1</th><td>3422</td></tr>\n",
       "\t<tr><th scope=row>postB_TTTGCGCGTTAGAGAT-1</th><td>1481</td></tr>\n",
       "\t<tr><th scope=row>postB_TTTGGCCAGCGAATAT-1</th><td>1523</td></tr>\n",
       "\t<tr><th scope=row>postB_TTTGGCCAGGGAAATG-1</th><td>1741</td></tr>\n",
       "\t<tr><th scope=row>postB_TTTGGCCAGTAGCAAT-1</th><td>6535</td></tr>\n",
       "\t<tr><th scope=row>postB_TTTGGCCCAATGCCAT-1</th><td>1840</td></tr>\n",
       "\t<tr><th scope=row>postB_TTTGGCCGTGCGCTCA-1</th><td>6410</td></tr>\n",
       "\t<tr><th scope=row>postB_TTTGGTTAGGAGTCTG-1</th><td>1520</td></tr>\n",
       "\t<tr><th scope=row>postB_TTTGGTTTCAAGGCAG-1</th><td>4986</td></tr>\n",
       "\t<tr><th scope=row>postB_TTTGGTTTCATCGCAA-1</th><td>3126</td></tr>\n",
       "\t<tr><th scope=row>postB_TTTGGTTTCGAGGTCC-1</th><td>1465</td></tr>\n",
       "\t<tr><th scope=row>postB_TTTGGTTTCTAGCTGA-1</th><td>1764</td></tr>\n",
       "\t<tr><th scope=row>postB_TTTGTGTCACAGTTCA-1</th><td>3777</td></tr>\n",
       "\t<tr><th scope=row>postB_TTTGTGTGTGCCGGTT-1</th><td>2530</td></tr>\n",
       "\t<tr><th scope=row>postB_TTTGTGTTCCATGACA-1</th><td>5543</td></tr>\n",
       "</tbody>\n",
       "</table>\n"
      ],
      "text/latex": [
       "A data.frame: 3683 × 1\n",
       "\\begin{tabular}{r|l}\n",
       "  & peak\\_region\\_fragments\\\\\n",
       "  & <dbl>\\\\\n",
       "\\hline\n",
       "\tpreB\\_AAACGAAGTCACTCTC-1 & 5325\\\\\n",
       "\tpreB\\_AAACGAAGTCCCTAAA-1 & 5461\\\\\n",
       "\tpreB\\_AAACGAAGTCTGTGTA-1 & 1246\\\\\n",
       "\tpreB\\_AAACTCGCAACTCGTA-1 & 7857\\\\\n",
       "\tpreB\\_AAACTCGCAGAACGAC-1 & 8179\\\\\n",
       "\tpreB\\_AAACTGCCACACATGT-1 & 1672\\\\\n",
       "\tpreB\\_AAAGATGGTTTGACCA-1 & 4167\\\\\n",
       "\tpreB\\_AAAGATGTCCGTCAAA-1 & 2221\\\\\n",
       "\tpreB\\_AAAGATGTCTCTGTTA-1 & 4294\\\\\n",
       "\tpreB\\_AAAGGATGTGCAAAGC-1 & 9065\\\\\n",
       "\tpreB\\_AAAGGGCAGTGTCGGA-1 & 2030\\\\\n",
       "\tpreB\\_AAAGGGCAGTTGCGCC-1 & 1047\\\\\n",
       "\tpreB\\_AAAGGGCCACTGCTCT-1 & 2737\\\\\n",
       "\tpreB\\_AAATGAGCATGGATGG-1 & 5546\\\\\n",
       "\tpreB\\_AAATGAGTCGACTCGG-1 & 2218\\\\\n",
       "\tpreB\\_AAATGCCAGCGCCTAC-1 & 2074\\\\\n",
       "\tpreB\\_AAATGCCGTGAGTTGG-1 & 3240\\\\\n",
       "\tpreB\\_AAATGCCTCAGTACAC-1 & 4760\\\\\n",
       "\tpreB\\_AAATGCCTCCGTGCGA-1 & 2031\\\\\n",
       "\tpreB\\_AAATGCCTCGCGATGC-1 & 1525\\\\\n",
       "\tpreB\\_AACAAAGGTAAGCCGA-1 & 7418\\\\\n",
       "\tpreB\\_AACAAAGTCTAAACGC-1 & 5836\\\\\n",
       "\tpreB\\_AACAGTCAGGCCAATG-1 & 7142\\\\\n",
       "\tpreB\\_AACAGTCTCGCTATAG-1 & 8808\\\\\n",
       "\tpreB\\_AACCAACGTCAGCAAG-1 & 5072\\\\\n",
       "\tpreB\\_AACCGATCAACTCGAT-1 & 2093\\\\\n",
       "\tpreB\\_AACCTGAGTAGAATAC-1 & 4646\\\\\n",
       "\tpreB\\_AACCTGATCAGAATGA-1 & 9709\\\\\n",
       "\tpreB\\_AACCTTTAGCACACCC-1 & 3438\\\\\n",
       "\tpreB\\_AACCTTTCAGTAGTTC-1 & 9875\\\\\n",
       "\t⋮ & ⋮\\\\\n",
       "\tpostB\\_TTTACGTAGTCTTAGC-1 & 2733\\\\\n",
       "\tpostB\\_TTTACGTCAATCATCG-1 & 2207\\\\\n",
       "\tpostB\\_TTTACGTCAGATGGCA-1 & 1688\\\\\n",
       "\tpostB\\_TTTACGTCAGGCATTT-1 & 1413\\\\\n",
       "\tpostB\\_TTTACGTCATCGGCTG-1 & 1893\\\\\n",
       "\tpostB\\_TTTACGTTCCCGTATC-1 & 1956\\\\\n",
       "\tpostB\\_TTTACGTTCCGTACGG-1 & 1280\\\\\n",
       "\tpostB\\_TTTGAGGCAAGGAGGG-1 & 7708\\\\\n",
       "\tpostB\\_TTTGAGGCACTTATGG-1 & 5393\\\\\n",
       "\tpostB\\_TTTGAGGCATGGATGG-1 & 3100\\\\\n",
       "\tpostB\\_TTTGAGGCATTAGCCA-1 & 1442\\\\\n",
       "\tpostB\\_TTTGAGGTCGAACACT-1 & 1156\\\\\n",
       "\tpostB\\_TTTGCGCCAACGTCCG-1 & 6041\\\\\n",
       "\tpostB\\_TTTGCGCCAAGGTTCT-1 & 5387\\\\\n",
       "\tpostB\\_TTTGCGCCATTAGCCA-1 & 1439\\\\\n",
       "\tpostB\\_TTTGCGCGTCAAATCC-1 & 3422\\\\\n",
       "\tpostB\\_TTTGCGCGTTAGAGAT-1 & 1481\\\\\n",
       "\tpostB\\_TTTGGCCAGCGAATAT-1 & 1523\\\\\n",
       "\tpostB\\_TTTGGCCAGGGAAATG-1 & 1741\\\\\n",
       "\tpostB\\_TTTGGCCAGTAGCAAT-1 & 6535\\\\\n",
       "\tpostB\\_TTTGGCCCAATGCCAT-1 & 1840\\\\\n",
       "\tpostB\\_TTTGGCCGTGCGCTCA-1 & 6410\\\\\n",
       "\tpostB\\_TTTGGTTAGGAGTCTG-1 & 1520\\\\\n",
       "\tpostB\\_TTTGGTTTCAAGGCAG-1 & 4986\\\\\n",
       "\tpostB\\_TTTGGTTTCATCGCAA-1 & 3126\\\\\n",
       "\tpostB\\_TTTGGTTTCGAGGTCC-1 & 1465\\\\\n",
       "\tpostB\\_TTTGGTTTCTAGCTGA-1 & 1764\\\\\n",
       "\tpostB\\_TTTGTGTCACAGTTCA-1 & 3777\\\\\n",
       "\tpostB\\_TTTGTGTGTGCCGGTT-1 & 2530\\\\\n",
       "\tpostB\\_TTTGTGTTCCATGACA-1 & 5543\\\\\n",
       "\\end{tabular}\n"
      ],
      "text/markdown": [
       "\n",
       "A data.frame: 3683 × 1\n",
       "\n",
       "| <!--/--> | peak_region_fragments &lt;dbl&gt; |\n",
       "|---|---|\n",
       "| preB_AAACGAAGTCACTCTC-1 | 5325 |\n",
       "| preB_AAACGAAGTCCCTAAA-1 | 5461 |\n",
       "| preB_AAACGAAGTCTGTGTA-1 | 1246 |\n",
       "| preB_AAACTCGCAACTCGTA-1 | 7857 |\n",
       "| preB_AAACTCGCAGAACGAC-1 | 8179 |\n",
       "| preB_AAACTGCCACACATGT-1 | 1672 |\n",
       "| preB_AAAGATGGTTTGACCA-1 | 4167 |\n",
       "| preB_AAAGATGTCCGTCAAA-1 | 2221 |\n",
       "| preB_AAAGATGTCTCTGTTA-1 | 4294 |\n",
       "| preB_AAAGGATGTGCAAAGC-1 | 9065 |\n",
       "| preB_AAAGGGCAGTGTCGGA-1 | 2030 |\n",
       "| preB_AAAGGGCAGTTGCGCC-1 | 1047 |\n",
       "| preB_AAAGGGCCACTGCTCT-1 | 2737 |\n",
       "| preB_AAATGAGCATGGATGG-1 | 5546 |\n",
       "| preB_AAATGAGTCGACTCGG-1 | 2218 |\n",
       "| preB_AAATGCCAGCGCCTAC-1 | 2074 |\n",
       "| preB_AAATGCCGTGAGTTGG-1 | 3240 |\n",
       "| preB_AAATGCCTCAGTACAC-1 | 4760 |\n",
       "| preB_AAATGCCTCCGTGCGA-1 | 2031 |\n",
       "| preB_AAATGCCTCGCGATGC-1 | 1525 |\n",
       "| preB_AACAAAGGTAAGCCGA-1 | 7418 |\n",
       "| preB_AACAAAGTCTAAACGC-1 | 5836 |\n",
       "| preB_AACAGTCAGGCCAATG-1 | 7142 |\n",
       "| preB_AACAGTCTCGCTATAG-1 | 8808 |\n",
       "| preB_AACCAACGTCAGCAAG-1 | 5072 |\n",
       "| preB_AACCGATCAACTCGAT-1 | 2093 |\n",
       "| preB_AACCTGAGTAGAATAC-1 | 4646 |\n",
       "| preB_AACCTGATCAGAATGA-1 | 9709 |\n",
       "| preB_AACCTTTAGCACACCC-1 | 3438 |\n",
       "| preB_AACCTTTCAGTAGTTC-1 | 9875 |\n",
       "| ⋮ | ⋮ |\n",
       "| postB_TTTACGTAGTCTTAGC-1 | 2733 |\n",
       "| postB_TTTACGTCAATCATCG-1 | 2207 |\n",
       "| postB_TTTACGTCAGATGGCA-1 | 1688 |\n",
       "| postB_TTTACGTCAGGCATTT-1 | 1413 |\n",
       "| postB_TTTACGTCATCGGCTG-1 | 1893 |\n",
       "| postB_TTTACGTTCCCGTATC-1 | 1956 |\n",
       "| postB_TTTACGTTCCGTACGG-1 | 1280 |\n",
       "| postB_TTTGAGGCAAGGAGGG-1 | 7708 |\n",
       "| postB_TTTGAGGCACTTATGG-1 | 5393 |\n",
       "| postB_TTTGAGGCATGGATGG-1 | 3100 |\n",
       "| postB_TTTGAGGCATTAGCCA-1 | 1442 |\n",
       "| postB_TTTGAGGTCGAACACT-1 | 1156 |\n",
       "| postB_TTTGCGCCAACGTCCG-1 | 6041 |\n",
       "| postB_TTTGCGCCAAGGTTCT-1 | 5387 |\n",
       "| postB_TTTGCGCCATTAGCCA-1 | 1439 |\n",
       "| postB_TTTGCGCGTCAAATCC-1 | 3422 |\n",
       "| postB_TTTGCGCGTTAGAGAT-1 | 1481 |\n",
       "| postB_TTTGGCCAGCGAATAT-1 | 1523 |\n",
       "| postB_TTTGGCCAGGGAAATG-1 | 1741 |\n",
       "| postB_TTTGGCCAGTAGCAAT-1 | 6535 |\n",
       "| postB_TTTGGCCCAATGCCAT-1 | 1840 |\n",
       "| postB_TTTGGCCGTGCGCTCA-1 | 6410 |\n",
       "| postB_TTTGGTTAGGAGTCTG-1 | 1520 |\n",
       "| postB_TTTGGTTTCAAGGCAG-1 | 4986 |\n",
       "| postB_TTTGGTTTCATCGCAA-1 | 3126 |\n",
       "| postB_TTTGGTTTCGAGGTCC-1 | 1465 |\n",
       "| postB_TTTGGTTTCTAGCTGA-1 | 1764 |\n",
       "| postB_TTTGTGTCACAGTTCA-1 | 3777 |\n",
       "| postB_TTTGTGTGTGCCGGTT-1 | 2530 |\n",
       "| postB_TTTGTGTTCCATGACA-1 | 5543 |\n",
       "\n"
      ],
      "text/plain": [
       "                         peak_region_fragments\n",
       "preB_AAACGAAGTCACTCTC-1  5325                 \n",
       "preB_AAACGAAGTCCCTAAA-1  5461                 \n",
       "preB_AAACGAAGTCTGTGTA-1  1246                 \n",
       "preB_AAACTCGCAACTCGTA-1  7857                 \n",
       "preB_AAACTCGCAGAACGAC-1  8179                 \n",
       "preB_AAACTGCCACACATGT-1  1672                 \n",
       "preB_AAAGATGGTTTGACCA-1  4167                 \n",
       "preB_AAAGATGTCCGTCAAA-1  2221                 \n",
       "preB_AAAGATGTCTCTGTTA-1  4294                 \n",
       "preB_AAAGGATGTGCAAAGC-1  9065                 \n",
       "preB_AAAGGGCAGTGTCGGA-1  2030                 \n",
       "preB_AAAGGGCAGTTGCGCC-1  1047                 \n",
       "preB_AAAGGGCCACTGCTCT-1  2737                 \n",
       "preB_AAATGAGCATGGATGG-1  5546                 \n",
       "preB_AAATGAGTCGACTCGG-1  2218                 \n",
       "preB_AAATGCCAGCGCCTAC-1  2074                 \n",
       "preB_AAATGCCGTGAGTTGG-1  3240                 \n",
       "preB_AAATGCCTCAGTACAC-1  4760                 \n",
       "preB_AAATGCCTCCGTGCGA-1  2031                 \n",
       "preB_AAATGCCTCGCGATGC-1  1525                 \n",
       "preB_AACAAAGGTAAGCCGA-1  7418                 \n",
       "preB_AACAAAGTCTAAACGC-1  5836                 \n",
       "preB_AACAGTCAGGCCAATG-1  7142                 \n",
       "preB_AACAGTCTCGCTATAG-1  8808                 \n",
       "preB_AACCAACGTCAGCAAG-1  5072                 \n",
       "preB_AACCGATCAACTCGAT-1  2093                 \n",
       "preB_AACCTGAGTAGAATAC-1  4646                 \n",
       "preB_AACCTGATCAGAATGA-1  9709                 \n",
       "preB_AACCTTTAGCACACCC-1  3438                 \n",
       "preB_AACCTTTCAGTAGTTC-1  9875                 \n",
       "⋮                        ⋮                    \n",
       "postB_TTTACGTAGTCTTAGC-1 2733                 \n",
       "postB_TTTACGTCAATCATCG-1 2207                 \n",
       "postB_TTTACGTCAGATGGCA-1 1688                 \n",
       "postB_TTTACGTCAGGCATTT-1 1413                 \n",
       "postB_TTTACGTCATCGGCTG-1 1893                 \n",
       "postB_TTTACGTTCCCGTATC-1 1956                 \n",
       "postB_TTTACGTTCCGTACGG-1 1280                 \n",
       "postB_TTTGAGGCAAGGAGGG-1 7708                 \n",
       "postB_TTTGAGGCACTTATGG-1 5393                 \n",
       "postB_TTTGAGGCATGGATGG-1 3100                 \n",
       "postB_TTTGAGGCATTAGCCA-1 1442                 \n",
       "postB_TTTGAGGTCGAACACT-1 1156                 \n",
       "postB_TTTGCGCCAACGTCCG-1 6041                 \n",
       "postB_TTTGCGCCAAGGTTCT-1 5387                 \n",
       "postB_TTTGCGCCATTAGCCA-1 1439                 \n",
       "postB_TTTGCGCGTCAAATCC-1 3422                 \n",
       "postB_TTTGCGCGTTAGAGAT-1 1481                 \n",
       "postB_TTTGGCCAGCGAATAT-1 1523                 \n",
       "postB_TTTGGCCAGGGAAATG-1 1741                 \n",
       "postB_TTTGGCCAGTAGCAAT-1 6535                 \n",
       "postB_TTTGGCCCAATGCCAT-1 1840                 \n",
       "postB_TTTGGCCGTGCGCTCA-1 6410                 \n",
       "postB_TTTGGTTAGGAGTCTG-1 1520                 \n",
       "postB_TTTGGTTTCAAGGCAG-1 4986                 \n",
       "postB_TTTGGTTTCATCGCAA-1 3126                 \n",
       "postB_TTTGGTTTCGAGGTCC-1 1465                 \n",
       "postB_TTTGGTTTCTAGCTGA-1 1764                 \n",
       "postB_TTTGTGTCACAGTTCA-1 3777                 \n",
       "postB_TTTGTGTGTGCCGGTT-1 2530                 \n",
       "postB_TTTGTGTTCCATGACA-1 5543                 "
      ]
     },
     "metadata": {},
     "output_type": "display_data"
    }
   ],
   "source": [
    "se[['peak_region_fragments']]"
   ]
  },
  {
   "cell_type": "markdown",
   "id": "41533926",
   "metadata": {},
   "source": [
    "## UMAP plots"
   ]
  },
  {
   "cell_type": "code",
   "execution_count": 11,
   "id": "ec97dbfd",
   "metadata": {
    "scrolled": true
   },
   "outputs": [
    {
     "name": "stderr",
     "output_type": "stream",
     "text": [
      "Saving 6.67 x 6.67 in image\n",
      "\n",
      "Saving 6.67 x 6.67 in image\n",
      "\n"
     ]
    },
    {
     "data": {
      "image/png": "[encoded data removed]",
      "text/plain": [
       "plot without title"
      ]
     },
     "metadata": {
      "image/png": {
       "height": 420,
       "width": 420
      }
     },
     "output_type": "display_data"
    }
   ],
   "source": [
    "DimPlot(object = se, label = FALSE, split.by=c(\"donor\"), group.by = c('condition'))#, \"lineage\"))\n",
    "ggsave(file.path(cond_outdir, \"umap.donor.png\"))\n",
    "ggsave(file.path(cond_outdir, \"umap.donor.pdf\"))"
   ]
  },
  {
   "cell_type": "code",
   "execution_count": 12,
   "id": "afd3d6bb",
   "metadata": {
    "scrolled": true
   },
   "outputs": [
    {
     "name": "stderr",
     "output_type": "stream",
     "text": [
      "Saving 6.67 x 6.67 in image\n",
      "\n",
      "Saving 6.67 x 6.67 in image\n",
      "\n"
     ]
    },
    {
     "data": {
      "image/png": "[encoded data removed]",
      "text/plain": [
       "plot without title"
      ]
     },
     "metadata": {
      "image/png": {
       "height": 420,
       "width": 420
      }
     },
     "output_type": "display_data"
    }
   ],
   "source": [
    "DimPlot(object = se, label = FALSE, split.by=c(\"donor.cond\"), group.by=\"seurat_clusters\",\n",
    "       ncol=4)#, group.by = c('donor'))\n",
    "ggsave(file.path(cond_outdir, \"umap.donor.conditions.png\"))\n",
    "ggsave(file.path(cond_outdir, \"umap.donor.conditions.pdf\"))"
   ]
  },
  {
   "cell_type": "markdown",
   "id": "eef53516",
   "metadata": {},
   "source": [
    "## Get motifs for se"
   ]
  },
  {
   "cell_type": "code",
   "execution_count": 13,
   "id": "73634e50",
   "metadata": {
    "scrolled": true
   },
   "outputs": [
    {
     "name": "stderr",
     "output_type": "stream",
     "text": [
      "Building motif matrix\n",
      "\n",
      "Finding motif positions\n",
      "\n",
      "Creating Motif object\n",
      "\n",
      "Computing GC bias per region\n",
      "\n",
      "Selecting background regions\n",
      "\n",
      "Computing deviations from background\n",
      "\n",
      "Constructing chromVAR assay\n",
      "\n"
     ]
    }
   ],
   "source": [
    "se <- get.pwm(se, genome=genome)"
   ]
  },
  {
   "cell_type": "code",
   "execution_count": 14,
   "id": "b2268aad",
   "metadata": {},
   "outputs": [],
   "source": [
    "#DefaultAssay(se) <- 'chromvarnames'"
   ]
  },
  {
   "cell_type": "markdown",
   "id": "b241a92e",
   "metadata": {},
   "source": [
    "# Get JASPAR TF matrix"
   ]
  },
  {
   "cell_type": "code",
   "execution_count": 15,
   "id": "2dea1cdb",
   "metadata": {},
   "outputs": [],
   "source": [
    "# # extract position frequency matrices for the motifs\n",
    "# pwm <- getMatrixSet(\n",
    "#   x = JASPAR2020,\n",
    "#   opts = list(species = 9606, all_versions = FALSE)\n",
    "# )\n",
    "# fa.file <- Rsamtools::FaFile(genome, index=sprintf(\"%s.fai\", genome)) #,\n",
    "\n",
    "\n",
    "\n",
    "# DefaultAssay(se) <- \"ATAC\"\n",
    "\n",
    "# chrom.assay <- se[[\"ATAC\"]]\n",
    "\n",
    "# # add motif information\n",
    "# chrom.assay <- AddMotifs(chrom.assay, genome = fa.file, pfm = pwm)\n",
    "\n",
    "# se = SetAssayData(se, slot=\"motifs\", Motifs(chrom.assay) )\n",
    "\n",
    "# se = RunChromVAR(se, genome=fa.file)\n",
    "\n",
    "# DefaultAssay(se) <- 'chromvar'"
   ]
  },
  {
   "cell_type": "code",
   "execution_count": 16,
   "id": "4041788f",
   "metadata": {},
   "outputs": [],
   "source": [
    "# plotDE <- function(integrated, de.results, i, outdir){\n",
    "#     try\n",
    "#     {\n",
    "#     plot1 <- MotifPlot(object = integrated,\n",
    "#                        motifs = head(rownames(de.results)),\n",
    "#                        assay = 'ATAC')\n",
    "#     plot2 <- FeaturePlot(\n",
    "#       object = integrated,\n",
    "#       features = rownames(de.results)[1],\n",
    "#       pt.size = 0.1\n",
    "#     )\n",
    "\n",
    "#     plot3 <- FeaturePlot(\n",
    "#       object = integrated,\n",
    "#       features = rownames(de.results)[2],\n",
    "#       pt.size = 0.1\n",
    "#     )\n",
    "    \n",
    "#     plot2 | plot3\n",
    "#     ggsave(file.path(outdir,paste0(\"cluster_\",i,\".DE.TF.top2.png\")))\n",
    "#     ggsave(file.path(outdir,paste0(\"cluster_\",i,\".DE.TF.Motifs.png\")))\n",
    "#     ggsave(file.path(outdir,paste0(\"cluster_\",i,\".DE.TF.Motifs.pdf\")))\n",
    "#     return(c(plot1, plot2, plot3))\n",
    "#     }\n",
    "#     return\n",
    "# }"
   ]
  },
  {
   "cell_type": "markdown",
   "id": "07575123",
   "metadata": {},
   "source": [
    "# Stimulus specific response\n",
    "A. Comparing within-cluster condition differences  \n",
    "B. Comparing within-cluster and within-donor condition differences  \n",
    "C. Re-compute clusters for each donor and re-run  \n",
    "D. Clone enrichment in clusters  \n",
    "E. Overall pre vs post  "
   ]
  },
  {
   "cell_type": "code",
   "execution_count": 17,
   "id": "a0878178",
   "metadata": {},
   "outputs": [],
   "source": [
    "# create.ids <- function(se, cols, clust.col=\"seurat_clusters\"){\n",
    "#     if (length(cols)==0){\n",
    "#         Idents(se) = clust.id\n",
    "#     }else{\n",
    "#         cols = c(cols, clust.col)\n",
    "#         se$curr.id <- apply(se[[]][ , cols ] , 1 , paste , collapse = \"_\" )\n",
    "#         Idents(se) <- \"curr.id\"\n",
    "#     }\n",
    "#     return(se)\n",
    "# }\n",
    "\n",
    "# se = create.ids(se, c(\"donor\"))"
   ]
  },
  {
   "cell_type": "code",
   "execution_count": 18,
   "id": "03dffea8",
   "metadata": {},
   "outputs": [],
   "source": [
    "# stimout <- function(se, outdir, sample_names, \n",
    "#                     sample.id = \"condition\", cols=c()){\n",
    "#     clust.ids <- levels(se$seurat_clusters)\n",
    "#     don.ids <- levels(se$donor)\n",
    "    \n",
    "#     #cluster.ids <- sort(unique(se$clust.id))\n",
    "#     if (length(cols)==0){\n",
    "#         curr.ids <- as.factor(sample_names)\n",
    "#         Idents(se) <- as.factor(se$sample.id)\n",
    "        \n",
    "#     }else if(length(cols)==1){\n",
    "#         print('here')\n",
    "#         curr.ids <- levels(se[[]][[cols]])\n",
    "#         Idents(se) <- as.factor(apply(se[[]][ , c(sample.id, cols) ] , 1 , paste , collapse = \"_\" ))\n",
    "#     }else{\n",
    "#         curr.ids <- levels(as.factor(apply(se[[]][ , cols ] , 1 , paste , collapse = \"_\" )))\n",
    "#         Idents(se) <- as.factor(apply(se[[]][ , c(sample.id, cols) ] , 1 , paste , collapse = \"_\" ))\n",
    "#     }\n",
    "#     se$curr.id = Idents(se)\n",
    "#     print(head(Idents(se)))\n",
    "       \n",
    "#      #<- sort(unique(se$curr.id))\n",
    "#     for (cl in clust.ids){\n",
    "#         for (d in don.ids){\n",
    "#             c <- paste0(sample.id, \"_\", cl, \"_\" d)\n",
    "#             cl.names.sig = c()\n",
    "#     #for (c in curr.ids){\n",
    "#             try({\n",
    "#                 print(c)\n",
    "#                 if (length(cols)==0){\n",
    "#                     id1 <- sample_names[[1]]\n",
    "#                     id2 <- sample_names[[2]]\n",
    "#                 }else{\n",
    "#                     print(c)\n",
    "#                     id1 <- paste(sample_names[[1]], c, sep=\"_\")\n",
    "#                     id2 <- paste(sample_names[[2]], c, sep=\"_\")\n",
    "#                 }\n",
    "#                 DefaultAssay(se) <- \"chromvarnames\"\n",
    "#                 se.filt <- subset(se, idents = c(id1,id2))\n",
    "                \n",
    "#                 curr.clust = se_filt$seurat_clusters[[1]] #strsplit(c,\"_\")[[2]]\n",
    "#                 print(paste0('curr.clust', curr.clust))\n",
    "#                 curr.donor = se_filt$donor[[1]] #strsplit(c,\"_\")[[2]]\n",
    "#                 print(paste0('curr.donor', curr.donor))            \n",
    "\n",
    "#                 curr.clust.outdir <- file.path(outdir, paste0(\"clust_\", curr.clust))\n",
    "#                 dir.create(curr.clust.outdir)\n",
    "#                 curr.outdir <- file.path(curr.clust.outdir, paste0(\"donor\", curr.clust))\n",
    "#                 dir.create(curr.outdir)\n",
    "\n",
    "#                 response <- FindMarkers(se,\n",
    "#                                         ident.1 = id1,\n",
    "#                                         ident.2 = id2,\n",
    "#                                         verbose = T,\n",
    "#                                         only.pos = FALSE,\n",
    "#                                         mean.fxn = rowMeans,\n",
    "#                                         logfc.threshold = 0,\n",
    "#                                         min.pct = 0.01,\n",
    "#                                         #latent.vars=latent.vars,\n",
    "#                                         fc.name = \"avg_diff\")\n",
    "#                 ncells <- data.frame(table(Idents(se.filt)))\n",
    "#                 write.csv(ncells, file=file.path(curr.outdir, paste0(c,\".counts.csv\")), quote=F)\n",
    "#                 response <- response %>% arrange(p_val)\n",
    "#                 response$p_val_adj_BH <- stats::p.adjust(response$p_val, method = \"BH\", n = length(response$p_val))\n",
    "#                 print('cleaning de')\n",
    "#                 names.sig <- clean.de(response, se, n_top_genes, a=id1, b=id2, names.sig = c())\n",
    "#                 cl.names.sig <- c(cl.names.sig, names.sig)\n",
    "#                 #response <- curr.de[[1]]\n",
    "#                 #names.sig <- curr.de[[2]]\n",
    "#                 print('dim response')\n",
    "#                 print(dim(response))\n",
    "#                 if (!(dim(response)[1]==0)){\n",
    "#                     print('response plots')\n",
    "#                     print(head(response, n = 3))\n",
    "#                     de.plots(se.filt, names.sig, curr.outdir, curr.name=c)#paste0(cid1,\"_\", id2)){\n",
    "\n",
    "#                     write.csv(response, \n",
    "#                               file=file.path(curr.outdir, paste(c,sample_names[[1]], sample_names[[2]],\"DE.TF.csv\",sep=\"_\")), quote=F)\n",
    "#                     #plotDE(se, response, c, clust_outdir)\n",
    "\n",
    "#                     gally <- GGally::ggpairs(response[,c(\"p_val\", \"p_val_adj\", \"avg_diff\", \"p_val_adj_BH\" )], aes(alpha = 0.4))\n",
    "#                     ggsave(plot=gally, file=file.path(curr.outdir, \n",
    "#                                                       paste(c,sample_names[[1]], \n",
    "#                                                             sample_names[[2]],\".DE.TF.pvalHist.png\", sep=\"_\")))\n",
    "\n",
    "#                 }\n",
    "#             })\n",
    "#         }\n",
    "#     se.filt <- subset(se, seurat_clusters = cl)\n",
    "#     de.plots(se.filt, cl.names.sig, curr.clust.outdir, curr.name=\"donorsCombine\")#paste0(cid1,\"_\", id2)){\n",
    "#     se.avg = AverageExpression(se.filt, assays = \"chromvarnames\", group.by = \"curr.id\", features = all.names.sig)$chromvarnames \n",
    "#     se.avg = se.avg[order(apply(se.avg, 1, sd)),]\n",
    "#     write.csv(se.avg, \n",
    "#           file=file.path(curr.clust.outdir, \"TFactivity.topPvals.txt\"), quote=F)\n",
    "#     }\n",
    "# }"
   ]
  },
  {
   "cell_type": "code",
   "execution_count": 19,
   "id": "c1d9a757",
   "metadata": {},
   "outputs": [],
   "source": [
    "clean.de <- function(curr.tf.da, se, n_top_genes, a, b, names.sig = c()){\n",
    "    DefaultAssay(se) <- \"ATAC\"\n",
    "    #curr.tf.da <- read.csv(in_f) %>% arrange(p_val)\n",
    "    print('curr tf de results')\n",
    "    print(head(curr.tf.da))\n",
    "    print('curr.tf rownames')\n",
    "    print(head(row.names(curr.tf.da)))\n",
    "    curr.sig <- curr.tf.da %>% dplyr::filter(p_val_adj_BH<0.1)\n",
    "    if (dim(curr.sig)[1]==0){\n",
    "        curr.sig <- head(curr.tf.da[order(curr.tf.da$p_val),],3)\n",
    "    }\n",
    "    print('curr significant motifs')\n",
    "    print(dim(curr.sig))\n",
    "\n",
    "    curr.names <- row.names(curr.sig)\n",
    "    names.sig <- c(names.sig, curr.names)# head(row.names(curr.tf.da), n_top_genes))\n",
    "    return(names.sig)\n",
    "}\n",
    "\n",
    "\n",
    "\n",
    "de.plots <- function(se.filt, names.sig, curr.outdir, curr.name=\"\", max.size=10){\n",
    "    if (length(names.sig) > max.size){\n",
    "        names.sig <- names.sig[1:10]\n",
    "    }\n",
    "    dot <- DotPlot(se.filt, features = names.sig) + RotatedAxis()\n",
    "\n",
    "    feat <- FeaturePlot(se.filt,  features=names.sig)\n",
    "    vln <- VlnPlot(se.filt,  features=names.sig, pt.size = 0)\n",
    "\n",
    "    # split by a vector\n",
    "    pdf(file.path(curr.outdir, paste0(curr.name, \"heatmap.top.pdf\")), width=8,height=8)\n",
    "    heat <- ComplexHeatmap::Heatmap(GetAssayData(se.filt)[names.sig,], \n",
    "            name = curr.name,\n",
    "            column_split = se.filt[[]][\"lineage\"],\n",
    "            show_column_names = FALSE, use_raster=TRUE\n",
    "           )\n",
    "    ComplexHeatmap::draw(heat)\n",
    "    dev.off()\n",
    "    \n",
    "    ggsave(plot=feat, \n",
    "           file=file.path(curr.outdir, paste0(curr.name,\"embedFeat.top.png\")))\n",
    "    ggsave(plot=dot, \n",
    "           file=file.path(curr.outdir, paste0(curr.name, \"dot.top.png\")))\n",
    "    ggsave(plot=vln, \n",
    "           file=file.path(curr.outdir, paste0(curr.name, \"violin.top.png\")))\n",
    "    ## pdfs\n",
    "    ggsave(plot=dot, \n",
    "           file=file.path(curr.outdir, paste0(curr.name, \"dot.top.pdf\")))\n",
    "    ggsave(plot=vln, \n",
    "           file=file.path(curr.outdir, paste0(curr.name, \"violin.top.pdf\")))\n",
    "}"
   ]
  },
  {
   "cell_type": "code",
   "execution_count": 20,
   "id": "5156edad",
   "metadata": {},
   "outputs": [],
   "source": [
    "#stimout(se, cond_outdir, sample_names, sample.id = \"condition\", cols=c(\"seurat_clusters\", \"donor\"))"
   ]
  },
  {
   "cell_type": "code",
   "execution_count": 21,
   "id": "39c8d3d3",
   "metadata": {
    "scrolled": true
   },
   "outputs": [
    {
     "name": "stdout",
     "output_type": "stream",
     "text": [
      "preB_AAACGAAGTCACTCTC-1 preB_AAACGAAGTCCCTAAA-1 preB_AAACGAAGTCTGTGTA-1 \n",
      "               preB_0_0                preB_6_3                preB_2_1 \n",
      "preB_AAACTCGCAACTCGTA-1 preB_AAACTCGCAGAACGAC-1 preB_AAACTGCCACACATGT-1 \n",
      "               preB_6_2                preB_5_2                preB_0_1 \n",
      "93 Levels: None_0_None None_1_None None_10_None None_2_None ... preB_9_3\n",
      "[1] \"c\"\n",
      "[1] \"0_0\"\n",
      "[1] \"0_0\"\n",
      "[1] \"curr.clust0\"\n",
      "[1] \"curr.donor0\"\n"
     ]
    },
    {
     "name": "stderr",
     "output_type": "stream",
     "text": [
      "Warning message in dir.create(curr.clust.outdir):\n",
      "\"'/data/Mito_Trace/output/pipeline/DUPI_april08_2021/MTblacklist_mtasnucl_Bonly/data/merged/MT/cellr_True/numread_200/filters/minC10_minR50_topN0_hetT0.001_hetC10_hetCount5_bq20/mgatk/vireoIn/clones/variants_init/knn/kparam_3/concat/annotation_clones/DE_TF/conditions_clusters/clust_0' already exists\"\n",
      "Warning message in dir.create(curr.outdir):\n",
      "\"'/data/Mito_Trace/output/pipeline/DUPI_april08_2021/MTblacklist_mtasnucl_Bonly/data/merged/MT/cellr_True/numread_200/filters/minC10_minR50_topN0_hetT0.001_hetC10_hetCount5_bq20/mgatk/vireoIn/clones/variants_init/knn/kparam_3/concat/annotation_clones/DE_TF/conditions_clusters/clust_0/donor0' already exists\"\n"
     ]
    },
    {
     "name": "stdout",
     "output_type": "stream",
     "text": [
      "[1] \"cleaning de\"\n",
      "[1] \"curr tf de results\"\n",
      "             p_val   avg_diff pct.1 pct.2 p_val_adj p_val_adj_BH\n",
      "SP1   0.0001688599  0.7425346 0.649 0.388 0.1068883   0.09067453\n",
      "SOX9  0.0004830873 -0.6391424 0.189 0.537 0.3057943   0.09067453\n",
      "KLF11 0.0006696921  0.6117558 0.649 0.328 0.4239151   0.09067453\n",
      "SP3   0.0010399899  0.6373173 0.595 0.373 0.6583136   0.09067453\n",
      "BACH1 0.0010399899 -0.5768896 0.081 0.030 0.6583136   0.09067453\n",
      "PAX9  0.0010911705 -0.6589046 0.135 0.343 0.6907110   0.09067453\n",
      "[1] \"curr.tf rownames\"\n",
      "[1] \"SP1\"   \"SOX9\"  \"KLF11\" \"SP3\"   \"BACH1\" \"PAX9\" \n",
      "[1] \"curr significant motifs\"\n",
      "[1] 10  6\n",
      "[1] \"dim response\"\n",
      "[1] 633   6\n",
      "[1] \"response plots\"\n",
      "             p_val   avg_diff pct.1 pct.2 p_val_adj p_val_adj_BH\n",
      "SP1   0.0001688599  0.7425346 0.649 0.388 0.1068883   0.09067453\n",
      "SOX9  0.0004830873 -0.6391424 0.189 0.537 0.3057943   0.09067453\n",
      "KLF11 0.0006696921  0.6117558 0.649 0.328 0.4239151   0.09067453\n"
     ]
    },
    {
     "name": "stderr",
     "output_type": "stream",
     "text": [
      "'magick' package is suggested to install to give better rasterization.\n",
      "\n",
      "Set `ht_opt$message = FALSE` to turn off this message.\n",
      "\n",
      "Saving 6.67 x 6.67 in image\n",
      "\n",
      "Saving 6.67 x 6.67 in image\n",
      "\n",
      "Saving 6.67 x 6.67 in image\n",
      "\n",
      "Saving 6.67 x 6.67 in image\n",
      "\n",
      "Saving 6.67 x 6.67 in image\n",
      "\n",
      "Registered S3 method overwritten by 'GGally':\n",
      "  method from   \n",
      "  +.gg   ggplot2\n",
      "\n",
      "Saving 6.67 x 6.67 in image\n",
      "\n"
     ]
    },
    {
     "name": "stdout",
     "output_type": "stream",
     "text": [
      "[1] \"c\"\n",
      "[1] \"0_1\"\n",
      "[1] \"0_1\"\n",
      "[1] \"curr.clust0\"\n",
      "[1] \"curr.donor1\"\n"
     ]
    },
    {
     "name": "stderr",
     "output_type": "stream",
     "text": [
      "Warning message in dir.create(curr.clust.outdir):\n",
      "\"'/data/Mito_Trace/output/pipeline/DUPI_april08_2021/MTblacklist_mtasnucl_Bonly/data/merged/MT/cellr_True/numread_200/filters/minC10_minR50_topN0_hetT0.001_hetC10_hetCount5_bq20/mgatk/vireoIn/clones/variants_init/knn/kparam_3/concat/annotation_clones/DE_TF/conditions_clusters/clust_0' already exists\"\n",
      "Warning message in dir.create(curr.outdir):\n",
      "\"'/data/Mito_Trace/output/pipeline/DUPI_april08_2021/MTblacklist_mtasnucl_Bonly/data/merged/MT/cellr_True/numread_200/filters/minC10_minR50_topN0_hetT0.001_hetC10_hetCount5_bq20/mgatk/vireoIn/clones/variants_init/knn/kparam_3/concat/annotation_clones/DE_TF/conditions_clusters/clust_0/donor1' already exists\"\n"
     ]
    },
    {
     "name": "stdout",
     "output_type": "stream",
     "text": [
      "[1] \"cleaning de\"\n",
      "[1] \"curr tf de results\"\n",
      "              p_val   avg_diff pct.1 pct.2   p_val_adj p_val_adj_BH\n",
      "NFYA   1.904817e-06  0.7536532 0.763 0.512 0.001205749  0.001205749\n",
      "NFYC   1.526376e-05  0.6869847 0.817 0.512 0.009661961  0.004830981\n",
      "ARGFX  1.387923e-04 -0.5841376 0.237 0.412 0.087855512  0.029285171\n",
      "RELA   2.228728e-04 -0.6159135 0.129 0.325 0.141078462  0.031564632\n",
      "NKX6-2 3.105668e-04 -0.5168992 0.215 0.325 0.196588771  0.031564632\n",
      "SPIC   3.254593e-04 -0.5232294 0.032 0.050 0.206015736  0.031564632\n",
      "[1] \"curr.tf rownames\"\n",
      "[1] \"NFYA\"   \"NFYC\"   \"ARGFX\"  \"RELA\"   \"NKX6-2\" \"SPIC\"  \n",
      "[1] \"curr significant motifs\"\n",
      "[1] 38  6\n",
      "[1] \"dim response\"\n",
      "[1] 633   6\n",
      "[1] \"response plots\"\n",
      "             p_val   avg_diff pct.1 pct.2   p_val_adj p_val_adj_BH\n",
      "NFYA  1.904817e-06  0.7536532 0.763 0.512 0.001205749  0.001205749\n",
      "NFYC  1.526376e-05  0.6869847 0.817 0.512 0.009661961  0.004830981\n",
      "ARGFX 1.387923e-04 -0.5841376 0.237 0.412 0.087855512  0.029285171\n"
     ]
    },
    {
     "name": "stderr",
     "output_type": "stream",
     "text": [
      "'magick' package is suggested to install to give better rasterization.\n",
      "\n",
      "Set `ht_opt$message = FALSE` to turn off this message.\n",
      "\n",
      "Saving 6.67 x 6.67 in image\n",
      "\n",
      "Saving 6.67 x 6.67 in image\n",
      "\n",
      "Saving 6.67 x 6.67 in image\n",
      "\n",
      "Saving 6.67 x 6.67 in image\n",
      "\n",
      "Saving 6.67 x 6.67 in image\n",
      "\n",
      "Saving 6.67 x 6.67 in image\n",
      "\n"
     ]
    },
    {
     "name": "stdout",
     "output_type": "stream",
     "text": [
      "[1] \"c\"\n",
      "[1] \"0_2\"\n",
      "[1] \"0_2\"\n",
      "[1] \"curr.clust0\"\n",
      "[1] \"curr.donor2\"\n"
     ]
    },
    {
     "name": "stderr",
     "output_type": "stream",
     "text": [
      "Warning message in dir.create(curr.clust.outdir):\n",
      "\"'/data/Mito_Trace/output/pipeline/DUPI_april08_2021/MTblacklist_mtasnucl_Bonly/data/merged/MT/cellr_True/numread_200/filters/minC10_minR50_topN0_hetT0.001_hetC10_hetCount5_bq20/mgatk/vireoIn/clones/variants_init/knn/kparam_3/concat/annotation_clones/DE_TF/conditions_clusters/clust_0' already exists\"\n",
      "Warning message in dir.create(curr.outdir):\n",
      "\"'/data/Mito_Trace/output/pipeline/DUPI_april08_2021/MTblacklist_mtasnucl_Bonly/data/merged/MT/cellr_True/numread_200/filters/minC10_minR50_topN0_hetT0.001_hetC10_hetCount5_bq20/mgatk/vireoIn/clones/variants_init/knn/kparam_3/concat/annotation_clones/DE_TF/conditions_clusters/clust_0/donor2' already exists\"\n"
     ]
    },
    {
     "name": "stdout",
     "output_type": "stream",
     "text": [
      "[1] \"cleaning de\"\n",
      "[1] \"curr tf de results\"\n",
      "             p_val  avg_diff pct.1 pct.2    p_val_adj p_val_adj_BH\n",
      "SP4   3.667491e-07 1.3554964 0.900 0.062 0.0002321522 0.0002321522\n",
      "SP1   1.353332e-06 1.2800029 0.833 0.125 0.0008566594 0.0004283297\n",
      "SP8   3.760692e-06 1.1189487 0.700 0.125 0.0023805183 0.0007935061\n",
      "KLF15 1.377431e-05 0.8993075 0.733 0.188 0.0087191361 0.0021496382\n",
      "SP3   1.697976e-05 1.0239378 0.733 0.188 0.0107481908 0.0021496382\n",
      "SP9   2.315072e-05 0.9256053 0.667 0.188 0.0146544028 0.0024424005\n",
      "[1] \"curr.tf rownames\"\n",
      "[1] \"SP4\"   \"SP1\"   \"SP8\"   \"KLF15\" \"SP3\"   \"SP9\"  \n",
      "[1] \"curr significant motifs\"\n",
      "[1] 20  6\n",
      "[1] \"dim response\"\n",
      "[1] 633   6\n",
      "[1] \"response plots\"\n",
      "           p_val avg_diff pct.1 pct.2    p_val_adj p_val_adj_BH\n",
      "SP4 3.667491e-07 1.355496 0.900 0.062 0.0002321522 0.0002321522\n",
      "SP1 1.353332e-06 1.280003 0.833 0.125 0.0008566594 0.0004283297\n",
      "SP8 3.760692e-06 1.118949 0.700 0.125 0.0023805183 0.0007935061\n"
     ]
    },
    {
     "name": "stderr",
     "output_type": "stream",
     "text": [
      "'magick' package is suggested to install to give better rasterization.\n",
      "\n",
      "Set `ht_opt$message = FALSE` to turn off this message.\n",
      "\n",
      "Saving 6.67 x 6.67 in image\n",
      "\n",
      "Saving 6.67 x 6.67 in image\n",
      "\n",
      "Saving 6.67 x 6.67 in image\n",
      "\n",
      "Saving 6.67 x 6.67 in image\n",
      "\n",
      "Saving 6.67 x 6.67 in image\n",
      "\n",
      "Saving 6.67 x 6.67 in image\n",
      "\n"
     ]
    },
    {
     "name": "stdout",
     "output_type": "stream",
     "text": [
      "[1] \"c\"\n",
      "[1] \"0_3\"\n",
      "[1] \"0_3\"\n",
      "[1] \"curr.clust0\"\n",
      "[1] \"curr.donor3\"\n"
     ]
    },
    {
     "name": "stderr",
     "output_type": "stream",
     "text": [
      "Warning message in dir.create(curr.clust.outdir):\n",
      "\"'/data/Mito_Trace/output/pipeline/DUPI_april08_2021/MTblacklist_mtasnucl_Bonly/data/merged/MT/cellr_True/numread_200/filters/minC10_minR50_topN0_hetT0.001_hetC10_hetCount5_bq20/mgatk/vireoIn/clones/variants_init/knn/kparam_3/concat/annotation_clones/DE_TF/conditions_clusters/clust_0' already exists\"\n",
      "Warning message in dir.create(curr.outdir):\n",
      "\"'/data/Mito_Trace/output/pipeline/DUPI_april08_2021/MTblacklist_mtasnucl_Bonly/data/merged/MT/cellr_True/numread_200/filters/minC10_minR50_topN0_hetT0.001_hetC10_hetCount5_bq20/mgatk/vireoIn/clones/variants_init/knn/kparam_3/concat/annotation_clones/DE_TF/conditions_clusters/clust_0/donor3' already exists\"\n"
     ]
    },
    {
     "name": "stdout",
     "output_type": "stream",
     "text": [
      "[1] \"cleaning de\"\n",
      "[1] \"curr tf de results\"\n",
      "                      p_val   avg_diff pct.1 pct.2    p_val_adj p_val_adj_BH\n",
      "HLF            4.911967e-07 -0.7520339 0.000 0.285 0.0003109275 0.0002412868\n",
      "CREM           7.623595e-07 -0.7456870 0.065 0.329 0.0004825736 0.0002412868\n",
      "CREB3L4(var.2) 2.503474e-06 -0.7468268 0.065 0.376 0.0015846989 0.0005242390\n",
      "CEBPG(var.2)   3.312727e-06 -0.7675390 0.087 0.317 0.0020969559 0.0005242390\n",
      "JUND(var.2)    1.142053e-05 -0.6431221 0.065 0.277 0.0072291944 0.0012675543\n",
      "CEBPA          1.346125e-05 -0.6603336 0.087 0.257 0.0085209703 0.0012675543\n",
      "[1] \"curr.tf rownames\"\n",
      "[1] \"HLF\"            \"CREM\"           \"CREB3L4(var.2)\" \"CEBPG(var.2)\"  \n",
      "[5] \"JUND(var.2)\"    \"CEBPA\"         \n",
      "[1] \"curr significant motifs\"\n",
      "[1] 137   6\n",
      "[1] \"dim response\"\n",
      "[1] 633   6\n",
      "[1] \"response plots\"\n",
      "                      p_val   avg_diff pct.1 pct.2    p_val_adj p_val_adj_BH\n",
      "HLF            4.911967e-07 -0.7520339 0.000 0.285 0.0003109275 0.0002412868\n",
      "CREM           7.623595e-07 -0.7456870 0.065 0.329 0.0004825736 0.0002412868\n",
      "CREB3L4(var.2) 2.503474e-06 -0.7468268 0.065 0.376 0.0015846989 0.0005242390\n"
     ]
    },
    {
     "name": "stderr",
     "output_type": "stream",
     "text": [
      "'magick' package is suggested to install to give better rasterization.\n",
      "\n",
      "Set `ht_opt$message = FALSE` to turn off this message.\n",
      "\n",
      "Saving 6.67 x 6.67 in image\n",
      "\n",
      "Saving 6.67 x 6.67 in image\n",
      "\n",
      "Saving 6.67 x 6.67 in image\n",
      "\n",
      "Saving 6.67 x 6.67 in image\n",
      "\n",
      "Saving 6.67 x 6.67 in image\n",
      "\n",
      "Saving 6.67 x 6.67 in image\n",
      "\n"
     ]
    },
    {
     "name": "stdout",
     "output_type": "stream",
     "text": [
      "[1] \"Skipping None\"\n"
     ]
    },
    {
     "name": "stderr",
     "output_type": "stream",
     "text": [
      "'magick' package is suggested to install to give better rasterization.\n",
      "\n",
      "Set `ht_opt$message = FALSE` to turn off this message.\n",
      "\n",
      "Saving 6.67 x 6.67 in image\n",
      "\n",
      "Saving 6.67 x 6.67 in image\n",
      "\n",
      "Saving 6.67 x 6.67 in image\n",
      "\n",
      "Saving 6.67 x 6.67 in image\n",
      "\n",
      "Saving 6.67 x 6.67 in image\n",
      "\n"
     ]
    },
    {
     "name": "stdout",
     "output_type": "stream",
     "text": [
      "[1] \"c\"\n",
      "[1] \"1_0\"\n",
      "[1] \"1_0\"\n",
      "[1] \"curr.clust1\"\n",
      "[1] \"curr.donor0\"\n"
     ]
    },
    {
     "name": "stderr",
     "output_type": "stream",
     "text": [
      "Warning message in dir.create(curr.clust.outdir):\n",
      "\"'/data/Mito_Trace/output/pipeline/DUPI_april08_2021/MTblacklist_mtasnucl_Bonly/data/merged/MT/cellr_True/numread_200/filters/minC10_minR50_topN0_hetT0.001_hetC10_hetCount5_bq20/mgatk/vireoIn/clones/variants_init/knn/kparam_3/concat/annotation_clones/DE_TF/conditions_clusters/clust_1' already exists\"\n",
      "Warning message in dir.create(curr.outdir):\n",
      "\"'/data/Mito_Trace/output/pipeline/DUPI_april08_2021/MTblacklist_mtasnucl_Bonly/data/merged/MT/cellr_True/numread_200/filters/minC10_minR50_topN0_hetT0.001_hetC10_hetCount5_bq20/mgatk/vireoIn/clones/variants_init/knn/kparam_3/concat/annotation_clones/DE_TF/conditions_clusters/clust_1/donor0' already exists\"\n"
     ]
    },
    {
     "name": "stdout",
     "output_type": "stream",
     "text": [
      "[1] \"cleaning de\"\n",
      "[1] \"curr tf de results\"\n",
      "              p_val  avg_diff pct.1 pct.2  p_val_adj p_val_adj_BH\n",
      "IRF2   6.626797e-05 1.0555095 0.975 0.923 0.04194762   0.04194762\n",
      "IRF9   3.652646e-04 1.0423724 0.950 0.942 0.23121248   0.09275012\n",
      "POU2F1 5.692801e-04 0.8502800 1.000 0.981 0.36035432   0.09275012\n",
      "POU3F2 5.860987e-04 0.8002714 1.000 0.981 0.37100047   0.09275012\n",
      "IRF8   1.065757e-03 0.9970724 0.950 0.846 0.67462428   0.13492486\n",
      "HOXC4  1.652105e-03 0.6249681 0.850 0.731 1.00000000   0.16359171\n",
      "[1] \"curr.tf rownames\"\n",
      "[1] \"IRF2\"   \"IRF9\"   \"POU2F1\" \"POU3F2\" \"IRF8\"   \"HOXC4\" \n",
      "[1] \"curr significant motifs\"\n",
      "[1] 4 6\n",
      "[1] \"dim response\"\n",
      "[1] 633   6\n",
      "[1] \"response plots\"\n",
      "              p_val avg_diff pct.1 pct.2  p_val_adj p_val_adj_BH\n",
      "IRF2   6.626797e-05 1.055510 0.975 0.923 0.04194762   0.04194762\n",
      "IRF9   3.652646e-04 1.042372 0.950 0.942 0.23121248   0.09275012\n",
      "POU2F1 5.692801e-04 0.850280 1.000 0.981 0.36035432   0.09275012\n"
     ]
    },
    {
     "name": "stderr",
     "output_type": "stream",
     "text": [
      "'magick' package is suggested to install to give better rasterization.\n",
      "\n",
      "Set `ht_opt$message = FALSE` to turn off this message.\n",
      "\n",
      "Saving 6.67 x 6.67 in image\n",
      "\n",
      "Saving 6.67 x 6.67 in image\n",
      "\n",
      "Saving 6.67 x 6.67 in image\n",
      "\n",
      "Saving 6.67 x 6.67 in image\n",
      "\n",
      "Saving 6.67 x 6.67 in image\n",
      "\n",
      "Saving 6.67 x 6.67 in image\n",
      "\n"
     ]
    },
    {
     "name": "stdout",
     "output_type": "stream",
     "text": [
      "[1] \"c\"\n",
      "[1] \"1_1\"\n",
      "[1] \"1_1\"\n",
      "[1] \"curr.clust1\"\n",
      "[1] \"curr.donor1\"\n"
     ]
    },
    {
     "name": "stderr",
     "output_type": "stream",
     "text": [
      "Warning message in dir.create(curr.clust.outdir):\n",
      "\"'/data/Mito_Trace/output/pipeline/DUPI_april08_2021/MTblacklist_mtasnucl_Bonly/data/merged/MT/cellr_True/numread_200/filters/minC10_minR50_topN0_hetT0.001_hetC10_hetCount5_bq20/mgatk/vireoIn/clones/variants_init/knn/kparam_3/concat/annotation_clones/DE_TF/conditions_clusters/clust_1' already exists\"\n",
      "Warning message in dir.create(curr.outdir):\n",
      "\"'/data/Mito_Trace/output/pipeline/DUPI_april08_2021/MTblacklist_mtasnucl_Bonly/data/merged/MT/cellr_True/numread_200/filters/minC10_minR50_topN0_hetT0.001_hetC10_hetCount5_bq20/mgatk/vireoIn/clones/variants_init/knn/kparam_3/concat/annotation_clones/DE_TF/conditions_clusters/clust_1/donor1' already exists\"\n"
     ]
    },
    {
     "name": "stdout",
     "output_type": "stream",
     "text": [
      "[1] \"cleaning de\"\n",
      "[1] \"curr tf de results\"\n",
      "             p_val   avg_diff pct.1 pct.2 p_val_adj p_val_adj_BH\n",
      "ZNF682 0.000730838  0.8057172 0.800  0.44 0.4626204    0.4626204\n",
      "KLF3   0.002820013  0.6379747 0.775  0.44 1.0000000    0.4694486\n",
      "SP8    0.003079014  0.5642063 0.775  0.40 1.0000000    0.4694486\n",
      "SPI1   0.003824114  0.8553510 1.000  1.00 1.0000000    0.4694486\n",
      "ZNF282 0.004346350  0.6100703 0.850  0.60 1.0000000    0.4694486\n",
      "SRF    0.005824923 -0.6444424 0.650  0.84 1.0000000    0.4694486\n",
      "[1] \"curr.tf rownames\"\n",
      "[1] \"ZNF682\" \"KLF3\"   \"SP8\"    \"SPI1\"   \"ZNF282\" \"SRF\"   \n",
      "[1] \"curr significant motifs\"\n",
      "[1] 3 6\n",
      "[1] \"dim response\"\n",
      "[1] 633   6\n",
      "[1] \"response plots\"\n",
      "             p_val  avg_diff pct.1 pct.2 p_val_adj p_val_adj_BH\n",
      "ZNF682 0.000730838 0.8057172 0.800  0.44 0.4626204    0.4626204\n",
      "KLF3   0.002820013 0.6379747 0.775  0.44 1.0000000    0.4694486\n",
      "SP8    0.003079014 0.5642063 0.775  0.40 1.0000000    0.4694486\n"
     ]
    },
    {
     "name": "stderr",
     "output_type": "stream",
     "text": [
      "'magick' package is suggested to install to give better rasterization.\n",
      "\n",
      "Set `ht_opt$message = FALSE` to turn off this message.\n",
      "\n",
      "Saving 6.67 x 6.67 in image\n",
      "\n",
      "Saving 6.67 x 6.67 in image\n",
      "\n",
      "Saving 6.67 x 6.67 in image\n",
      "\n",
      "Saving 6.67 x 6.67 in image\n",
      "\n",
      "Saving 6.67 x 6.67 in image\n",
      "\n",
      "Saving 6.67 x 6.67 in image\n",
      "\n"
     ]
    },
    {
     "name": "stdout",
     "output_type": "stream",
     "text": [
      "[1] \"c\"\n",
      "[1] \"1_2\"\n",
      "[1] \"1_2\"\n",
      "[1] \"curr.clust1\"\n",
      "[1] \"curr.donor2\"\n"
     ]
    },
    {
     "name": "stderr",
     "output_type": "stream",
     "text": [
      "Warning message in dir.create(curr.clust.outdir):\n",
      "\"'/data/Mito_Trace/output/pipeline/DUPI_april08_2021/MTblacklist_mtasnucl_Bonly/data/merged/MT/cellr_True/numread_200/filters/minC10_minR50_topN0_hetT0.001_hetC10_hetCount5_bq20/mgatk/vireoIn/clones/variants_init/knn/kparam_3/concat/annotation_clones/DE_TF/conditions_clusters/clust_1' already exists\"\n",
      "Warning message in dir.create(curr.outdir):\n",
      "\"'/data/Mito_Trace/output/pipeline/DUPI_april08_2021/MTblacklist_mtasnucl_Bonly/data/merged/MT/cellr_True/numread_200/filters/minC10_minR50_topN0_hetT0.001_hetC10_hetCount5_bq20/mgatk/vireoIn/clones/variants_init/knn/kparam_3/concat/annotation_clones/DE_TF/conditions_clusters/clust_1/donor2' already exists\"\n"
     ]
    },
    {
     "name": "stdout",
     "output_type": "stream",
     "text": [
      "[1] \"cleaning de\"\n",
      "[1] \"curr tf de results\"\n",
      "             p_val  avg_diff pct.1 pct.2    p_val_adj p_val_adj_BH\n",
      "KLF10 8.453945e-07 1.0166527 0.835 0.348 0.0005351347 0.0005351347\n",
      "KLF16 3.411912e-06 0.8492905 0.873 0.478 0.0021597404 0.0009075141\n",
      "KLF6  4.301015e-06 0.8368451 0.911 0.609 0.0027225423 0.0009075141\n",
      "KLF14 6.062080e-06 0.9521293 0.861 0.391 0.0038372964 0.0009593241\n",
      "KLF5  1.373543e-05 0.7707881 0.924 0.609 0.0086945243 0.0017389049\n",
      "KLF2  1.835721e-05 0.7596754 0.924 0.609 0.0116201164 0.0019366861\n",
      "[1] \"curr.tf rownames\"\n",
      "[1] \"KLF10\" \"KLF16\" \"KLF6\"  \"KLF14\" \"KLF5\"  \"KLF2\" \n",
      "[1] \"curr significant motifs\"\n",
      "[1] 47  6\n",
      "[1] \"dim response\"\n",
      "[1] 633   6\n",
      "[1] \"response plots\"\n",
      "             p_val  avg_diff pct.1 pct.2    p_val_adj p_val_adj_BH\n",
      "KLF10 8.453945e-07 1.0166527 0.835 0.348 0.0005351347 0.0005351347\n",
      "KLF16 3.411912e-06 0.8492905 0.873 0.478 0.0021597404 0.0009075141\n",
      "KLF6  4.301015e-06 0.8368451 0.911 0.609 0.0027225423 0.0009075141\n"
     ]
    },
    {
     "name": "stderr",
     "output_type": "stream",
     "text": [
      "'magick' package is suggested to install to give better rasterization.\n",
      "\n",
      "Set `ht_opt$message = FALSE` to turn off this message.\n",
      "\n",
      "Saving 6.67 x 6.67 in image\n",
      "\n",
      "Saving 6.67 x 6.67 in image\n",
      "\n",
      "Saving 6.67 x 6.67 in image\n",
      "\n",
      "Saving 6.67 x 6.67 in image\n",
      "\n",
      "Saving 6.67 x 6.67 in image\n",
      "\n",
      "Saving 6.67 x 6.67 in image\n",
      "\n"
     ]
    },
    {
     "name": "stdout",
     "output_type": "stream",
     "text": [
      "[1] \"c\"\n",
      "[1] \"1_3\"\n",
      "[1] \"1_3\"\n",
      "[1] \"curr.clust1\"\n",
      "[1] \"curr.donor3\"\n"
     ]
    },
    {
     "name": "stderr",
     "output_type": "stream",
     "text": [
      "Warning message in dir.create(curr.clust.outdir):\n",
      "\"'/data/Mito_Trace/output/pipeline/DUPI_april08_2021/MTblacklist_mtasnucl_Bonly/data/merged/MT/cellr_True/numread_200/filters/minC10_minR50_topN0_hetT0.001_hetC10_hetCount5_bq20/mgatk/vireoIn/clones/variants_init/knn/kparam_3/concat/annotation_clones/DE_TF/conditions_clusters/clust_1' already exists\"\n",
      "Warning message in dir.create(curr.outdir):\n",
      "\"'/data/Mito_Trace/output/pipeline/DUPI_april08_2021/MTblacklist_mtasnucl_Bonly/data/merged/MT/cellr_True/numread_200/filters/minC10_minR50_topN0_hetT0.001_hetC10_hetCount5_bq20/mgatk/vireoIn/clones/variants_init/knn/kparam_3/concat/annotation_clones/DE_TF/conditions_clusters/clust_1/donor3' already exists\"\n"
     ]
    },
    {
     "name": "stdout",
     "output_type": "stream",
     "text": [
      "[1] \"cleaning de\"\n",
      "[1] \"curr tf de results\"\n",
      "             p_val   avg_diff pct.1 pct.2    p_val_adj p_val_adj_BH\n",
      "REL   7.629089e-10 -1.7385767 0.548 0.969 4.829213e-07 4.829213e-07\n",
      "RELA  4.357972e-09 -1.6267262 0.774 0.977 2.758596e-06 1.379298e-06\n",
      "NFYA  4.201168e-06  1.0089754 0.677 0.302 2.659340e-03 8.864465e-04\n",
      "CREB3 6.574425e-06 -0.9013961 0.129 0.519 4.161611e-03 9.345811e-04\n",
      "KLF17 7.382157e-06 -0.7360777 0.355 0.756 4.672906e-03 9.345811e-04\n",
      "FOXG1 1.041448e-05 -0.8978902 0.323 0.691 6.592365e-03 1.098727e-03\n",
      "[1] \"curr.tf rownames\"\n",
      "[1] \"REL\"   \"RELA\"  \"NFYA\"  \"CREB3\" \"KLF17\" \"FOXG1\"\n",
      "[1] \"curr significant motifs\"\n",
      "[1] 141   6\n",
      "[1] \"dim response\"\n",
      "[1] 633   6\n",
      "[1] \"response plots\"\n",
      "            p_val  avg_diff pct.1 pct.2    p_val_adj p_val_adj_BH\n",
      "REL  7.629089e-10 -1.738577 0.548 0.969 4.829213e-07 4.829213e-07\n",
      "RELA 4.357972e-09 -1.626726 0.774 0.977 2.758596e-06 1.379298e-06\n",
      "NFYA 4.201168e-06  1.008975 0.677 0.302 2.659340e-03 8.864465e-04\n"
     ]
    },
    {
     "name": "stderr",
     "output_type": "stream",
     "text": [
      "'magick' package is suggested to install to give better rasterization.\n",
      "\n",
      "Set `ht_opt$message = FALSE` to turn off this message.\n",
      "\n",
      "Saving 6.67 x 6.67 in image\n",
      "\n",
      "Saving 6.67 x 6.67 in image\n",
      "\n",
      "Saving 6.67 x 6.67 in image\n",
      "\n",
      "Saving 6.67 x 6.67 in image\n",
      "\n",
      "Saving 6.67 x 6.67 in image\n",
      "\n",
      "Saving 6.67 x 6.67 in image\n",
      "\n"
     ]
    },
    {
     "name": "stdout",
     "output_type": "stream",
     "text": [
      "[1] \"Skipping None\"\n"
     ]
    },
    {
     "name": "stderr",
     "output_type": "stream",
     "text": [
      "'magick' package is suggested to install to give better rasterization.\n",
      "\n",
      "Set `ht_opt$message = FALSE` to turn off this message.\n",
      "\n",
      "Saving 6.67 x 6.67 in image\n",
      "\n",
      "Saving 6.67 x 6.67 in image\n",
      "\n",
      "Saving 6.67 x 6.67 in image\n",
      "\n",
      "Saving 6.67 x 6.67 in image\n",
      "\n",
      "Saving 6.67 x 6.67 in image\n",
      "\n"
     ]
    },
    {
     "name": "stdout",
     "output_type": "stream",
     "text": [
      "[1] \"c\"\n",
      "[1] \"2_0\"\n",
      "[1] \"2_0\"\n",
      "[1] \"curr.clust2\"\n",
      "[1] \"curr.donor0\"\n"
     ]
    },
    {
     "name": "stderr",
     "output_type": "stream",
     "text": [
      "Warning message in dir.create(curr.clust.outdir):\n",
      "\"'/data/Mito_Trace/output/pipeline/DUPI_april08_2021/MTblacklist_mtasnucl_Bonly/data/merged/MT/cellr_True/numread_200/filters/minC10_minR50_topN0_hetT0.001_hetC10_hetCount5_bq20/mgatk/vireoIn/clones/variants_init/knn/kparam_3/concat/annotation_clones/DE_TF/conditions_clusters/clust_2' already exists\"\n",
      "Warning message in dir.create(curr.outdir):\n",
      "\"'/data/Mito_Trace/output/pipeline/DUPI_april08_2021/MTblacklist_mtasnucl_Bonly/data/merged/MT/cellr_True/numread_200/filters/minC10_minR50_topN0_hetT0.001_hetC10_hetCount5_bq20/mgatk/vireoIn/clones/variants_init/knn/kparam_3/concat/annotation_clones/DE_TF/conditions_clusters/clust_2/donor0' already exists\"\n"
     ]
    },
    {
     "name": "stdout",
     "output_type": "stream",
     "text": [
      "[1] \"cleaning de\"\n",
      "[1] \"curr tf de results\"\n",
      "             p_val  avg_diff pct.1 pct.2 p_val_adj p_val_adj_BH\n",
      "SP4   0.0002751165 0.6322832 0.750 0.312 0.1741487   0.07093859\n",
      "KLF14 0.0003870426 0.7798957 0.679 0.312 0.2449980   0.07093859\n",
      "SP8   0.0004577876 0.5559472 0.786 0.312 0.2897795   0.07093859\n",
      "SP9   0.0005404553 0.5918292 0.714 0.281 0.3421082   0.07093859\n",
      "SP3   0.0006030794 0.5980706 0.750 0.344 0.3817493   0.07093859\n",
      "SP2   0.0006724037 0.5497296 0.714 0.344 0.4256316   0.07093859\n",
      "[1] \"curr.tf rownames\"\n",
      "[1] \"SP4\"   \"KLF14\" \"SP8\"   \"SP9\"   \"SP3\"   \"SP2\"  \n",
      "[1] \"curr significant motifs\"\n",
      "[1] 6 6\n",
      "[1] \"dim response\"\n",
      "[1] 633   6\n",
      "[1] \"response plots\"\n",
      "             p_val  avg_diff pct.1 pct.2 p_val_adj p_val_adj_BH\n",
      "SP4   0.0002751165 0.6322832 0.750 0.312 0.1741487   0.07093859\n",
      "KLF14 0.0003870426 0.7798957 0.679 0.312 0.2449980   0.07093859\n",
      "SP8   0.0004577876 0.5559472 0.786 0.312 0.2897795   0.07093859\n"
     ]
    },
    {
     "name": "stderr",
     "output_type": "stream",
     "text": [
      "'magick' package is suggested to install to give better rasterization.\n",
      "\n",
      "Set `ht_opt$message = FALSE` to turn off this message.\n",
      "\n",
      "Saving 6.67 x 6.67 in image\n",
      "\n",
      "Saving 6.67 x 6.67 in image\n",
      "\n",
      "Saving 6.67 x 6.67 in image\n",
      "\n",
      "Saving 6.67 x 6.67 in image\n",
      "\n",
      "Saving 6.67 x 6.67 in image\n",
      "\n",
      "Saving 6.67 x 6.67 in image\n",
      "\n"
     ]
    },
    {
     "name": "stdout",
     "output_type": "stream",
     "text": [
      "[1] \"c\"\n",
      "[1] \"2_1\"\n",
      "[1] \"2_1\"\n",
      "[1] \"curr.clust2\"\n",
      "[1] \"curr.donor1\"\n"
     ]
    },
    {
     "name": "stderr",
     "output_type": "stream",
     "text": [
      "Warning message in dir.create(curr.clust.outdir):\n",
      "\"'/data/Mito_Trace/output/pipeline/DUPI_april08_2021/MTblacklist_mtasnucl_Bonly/data/merged/MT/cellr_True/numread_200/filters/minC10_minR50_topN0_hetT0.001_hetC10_hetCount5_bq20/mgatk/vireoIn/clones/variants_init/knn/kparam_3/concat/annotation_clones/DE_TF/conditions_clusters/clust_2' already exists\"\n",
      "Warning message in dir.create(curr.outdir):\n",
      "\"'/data/Mito_Trace/output/pipeline/DUPI_april08_2021/MTblacklist_mtasnucl_Bonly/data/merged/MT/cellr_True/numread_200/filters/minC10_minR50_topN0_hetT0.001_hetC10_hetCount5_bq20/mgatk/vireoIn/clones/variants_init/knn/kparam_3/concat/annotation_clones/DE_TF/conditions_clusters/clust_2/donor1' already exists\"\n"
     ]
    },
    {
     "name": "stdout",
     "output_type": "stream",
     "text": [
      "[1] \"cleaning de\"\n",
      "[1] \"curr tf de results\"\n",
      "             p_val   avg_diff pct.1 pct.2  p_val_adj p_val_adj_BH\n",
      "NFKB2 5.720803e-05 -0.8447487 0.211 0.657 0.03621269   0.03621269\n",
      "PAX9  2.509658e-04 -0.7595555 0.239 0.571 0.15886133   0.07612599\n",
      "RFX3  3.607867e-04 -0.7337082 0.099 0.371 0.22837798   0.07612599\n",
      "ATF2  1.094971e-03 -0.7243919 0.113 0.371 0.69311690   0.11142413\n",
      "ETV2  1.121227e-03 -0.7071861 0.183 0.457 0.70973687   0.11142413\n",
      "HLF   1.121227e-03 -0.6156507 0.268 0.486 0.70973687   0.11142413\n",
      "[1] \"curr.tf rownames\"\n",
      "[1] \"NFKB2\" \"PAX9\"  \"RFX3\"  \"ATF2\"  \"ETV2\"  \"HLF\"  \n",
      "[1] \"curr significant motifs\"\n",
      "[1] 3 6\n",
      "[1] \"dim response\"\n",
      "[1] 633   6\n",
      "[1] \"response plots\"\n",
      "             p_val   avg_diff pct.1 pct.2  p_val_adj p_val_adj_BH\n",
      "NFKB2 5.720803e-05 -0.8447487 0.211 0.657 0.03621269   0.03621269\n",
      "PAX9  2.509658e-04 -0.7595555 0.239 0.571 0.15886133   0.07612599\n",
      "RFX3  3.607867e-04 -0.7337082 0.099 0.371 0.22837798   0.07612599\n"
     ]
    },
    {
     "name": "stderr",
     "output_type": "stream",
     "text": [
      "'magick' package is suggested to install to give better rasterization.\n",
      "\n",
      "Set `ht_opt$message = FALSE` to turn off this message.\n",
      "\n",
      "Saving 6.67 x 6.67 in image\n",
      "\n",
      "Saving 6.67 x 6.67 in image\n",
      "\n",
      "Saving 6.67 x 6.67 in image\n",
      "\n",
      "Saving 6.67 x 6.67 in image\n",
      "\n",
      "Saving 6.67 x 6.67 in image\n",
      "\n",
      "Saving 6.67 x 6.67 in image\n",
      "\n"
     ]
    },
    {
     "name": "stdout",
     "output_type": "stream",
     "text": [
      "[1] \"c\"\n",
      "[1] \"2_2\"\n",
      "[1] \"2_2\"\n",
      "[1] \"curr.clust2\"\n",
      "[1] \"curr.donor2\"\n"
     ]
    },
    {
     "name": "stderr",
     "output_type": "stream",
     "text": [
      "Warning message in dir.create(curr.clust.outdir):\n",
      "\"'/data/Mito_Trace/output/pipeline/DUPI_april08_2021/MTblacklist_mtasnucl_Bonly/data/merged/MT/cellr_True/numread_200/filters/minC10_minR50_topN0_hetT0.001_hetC10_hetCount5_bq20/mgatk/vireoIn/clones/variants_init/knn/kparam_3/concat/annotation_clones/DE_TF/conditions_clusters/clust_2' already exists\"\n",
      "Warning message in dir.create(curr.outdir):\n",
      "\"'/data/Mito_Trace/output/pipeline/DUPI_april08_2021/MTblacklist_mtasnucl_Bonly/data/merged/MT/cellr_True/numread_200/filters/minC10_minR50_topN0_hetT0.001_hetC10_hetCount5_bq20/mgatk/vireoIn/clones/variants_init/knn/kparam_3/concat/annotation_clones/DE_TF/conditions_clusters/clust_2/donor2' already exists\"\n"
     ]
    },
    {
     "name": "stdout",
     "output_type": "stream",
     "text": [
      "[1] \"cleaning de\"\n",
      "[1] \"curr tf de results\"\n",
      "            p_val  avg_diff pct.1 pct.2 p_val_adj p_val_adj_BH\n",
      "FOXK1 0.005458582 1.5449698 0.732     0         1     0.594082\n",
      "KLF5  0.006188296 0.9003268 0.756     0         1     0.594082\n",
      "ZEB1  0.006188296 1.2489765 0.646     0         1     0.594082\n",
      "FOXA1 0.007916576 1.4246410 0.756     0         1     0.594082\n",
      "MEIS3 0.010065215 1.2093221 0.488     0         1     0.594082\n",
      "TBX6  0.010065215 1.0984237 0.488     0         1     0.594082\n",
      "[1] \"curr.tf rownames\"\n",
      "[1] \"FOXK1\" \"KLF5\"  \"ZEB1\"  \"FOXA1\" \"MEIS3\" \"TBX6\" \n",
      "[1] \"curr significant motifs\"\n",
      "[1] 3 6\n",
      "[1] \"dim response\"\n",
      "[1] 633   6\n",
      "[1] \"response plots\"\n",
      "            p_val  avg_diff pct.1 pct.2 p_val_adj p_val_adj_BH\n",
      "FOXK1 0.005458582 1.5449698 0.732     0         1     0.594082\n",
      "KLF5  0.006188296 0.9003268 0.756     0         1     0.594082\n",
      "ZEB1  0.006188296 1.2489765 0.646     0         1     0.594082\n"
     ]
    },
    {
     "name": "stderr",
     "output_type": "stream",
     "text": [
      "'magick' package is suggested to install to give better rasterization.\n",
      "\n",
      "Set `ht_opt$message = FALSE` to turn off this message.\n",
      "\n",
      "Saving 6.67 x 6.67 in image\n",
      "\n",
      "Saving 6.67 x 6.67 in image\n",
      "\n",
      "Saving 6.67 x 6.67 in image\n",
      "\n",
      "Saving 6.67 x 6.67 in image\n",
      "\n",
      "Saving 6.67 x 6.67 in image\n",
      "\n",
      "Saving 6.67 x 6.67 in image\n",
      "\n",
      "Warning message in cor(x, y):\n",
      "\"the standard deviation is zero\"\n",
      "Warning message in cor(x, y):\n",
      "\"the standard deviation is zero\"\n",
      "Warning message in cor(x, y):\n",
      "\"the standard deviation is zero\"\n"
     ]
    },
    {
     "name": "stdout",
     "output_type": "stream",
     "text": [
      "[1] \"c\"\n",
      "[1] \"2_3\"\n",
      "[1] \"2_3\"\n",
      "[1] \"curr.clust2\"\n",
      "[1] \"curr.donor3\"\n"
     ]
    },
    {
     "name": "stderr",
     "output_type": "stream",
     "text": [
      "Warning message in dir.create(curr.clust.outdir):\n",
      "\"'/data/Mito_Trace/output/pipeline/DUPI_april08_2021/MTblacklist_mtasnucl_Bonly/data/merged/MT/cellr_True/numread_200/filters/minC10_minR50_topN0_hetT0.001_hetC10_hetCount5_bq20/mgatk/vireoIn/clones/variants_init/knn/kparam_3/concat/annotation_clones/DE_TF/conditions_clusters/clust_2' already exists\"\n",
      "Warning message in dir.create(curr.outdir):\n",
      "\"'/data/Mito_Trace/output/pipeline/DUPI_april08_2021/MTblacklist_mtasnucl_Bonly/data/merged/MT/cellr_True/numread_200/filters/minC10_minR50_topN0_hetT0.001_hetC10_hetCount5_bq20/mgatk/vireoIn/clones/variants_init/knn/kparam_3/concat/annotation_clones/DE_TF/conditions_clusters/clust_2/donor3' already exists\"\n"
     ]
    },
    {
     "name": "stdout",
     "output_type": "stream",
     "text": [
      "[1] \"cleaning de\"\n",
      "[1] \"curr tf de results\"\n",
      "             p_val   avg_diff pct.1 pct.2   p_val_adj p_val_adj_BH\n",
      "ETV4  5.622527e-06  0.8949980 0.774 0.386 0.003559059  0.003559059\n",
      "RFX5  9.319052e-05 -0.7415997 0.129 0.337 0.058989597  0.029494798\n",
      "RFX2  1.420059e-04 -0.7511163 0.065 0.238 0.089889720  0.029963240\n",
      "LEF1  3.895056e-04 -0.7051777 0.516 0.733 0.246557068  0.061639267\n",
      "TCF7  7.683705e-04 -0.6655787 0.387 0.723 0.486378520  0.097275704\n",
      "FOSL1 1.133129e-03  1.0330841 0.484 0.248 0.717270433  0.101277537\n",
      "[1] \"curr.tf rownames\"\n",
      "[1] \"ETV4\"  \"RFX5\"  \"RFX2\"  \"LEF1\"  \"TCF7\"  \"FOSL1\"\n",
      "[1] \"curr significant motifs\"\n",
      "[1] 5 6\n",
      "[1] \"dim response\"\n",
      "[1] 633   6\n",
      "[1] \"response plots\"\n",
      "            p_val   avg_diff pct.1 pct.2   p_val_adj p_val_adj_BH\n",
      "ETV4 5.622527e-06  0.8949980 0.774 0.386 0.003559059  0.003559059\n",
      "RFX5 9.319052e-05 -0.7415997 0.129 0.337 0.058989597  0.029494798\n",
      "RFX2 1.420059e-04 -0.7511163 0.065 0.238 0.089889720  0.029963240\n"
     ]
    },
    {
     "name": "stderr",
     "output_type": "stream",
     "text": [
      "'magick' package is suggested to install to give better rasterization.\n",
      "\n",
      "Set `ht_opt$message = FALSE` to turn off this message.\n",
      "\n",
      "Saving 6.67 x 6.67 in image\n",
      "\n",
      "Saving 6.67 x 6.67 in image\n",
      "\n",
      "Saving 6.67 x 6.67 in image\n",
      "\n",
      "Saving 6.67 x 6.67 in image\n",
      "\n",
      "Saving 6.67 x 6.67 in image\n",
      "\n",
      "Saving 6.67 x 6.67 in image\n",
      "\n"
     ]
    },
    {
     "name": "stdout",
     "output_type": "stream",
     "text": [
      "[1] \"Skipping None\"\n"
     ]
    },
    {
     "name": "stderr",
     "output_type": "stream",
     "text": [
      "'magick' package is suggested to install to give better rasterization.\n",
      "\n",
      "Set `ht_opt$message = FALSE` to turn off this message.\n",
      "\n",
      "Saving 6.67 x 6.67 in image\n",
      "\n",
      "Saving 6.67 x 6.67 in image\n",
      "\n",
      "Saving 6.67 x 6.67 in image\n",
      "\n",
      "Saving 6.67 x 6.67 in image\n",
      "\n",
      "Saving 6.67 x 6.67 in image\n",
      "\n"
     ]
    },
    {
     "name": "stdout",
     "output_type": "stream",
     "text": [
      "[1] \"c\"\n",
      "[1] \"3_0\"\n",
      "[1] \"3_0\"\n",
      "[1] \"curr.clust3\"\n",
      "[1] \"curr.donor0\"\n"
     ]
    },
    {
     "name": "stderr",
     "output_type": "stream",
     "text": [
      "Warning message in dir.create(curr.clust.outdir):\n",
      "\"'/data/Mito_Trace/output/pipeline/DUPI_april08_2021/MTblacklist_mtasnucl_Bonly/data/merged/MT/cellr_True/numread_200/filters/minC10_minR50_topN0_hetT0.001_hetC10_hetCount5_bq20/mgatk/vireoIn/clones/variants_init/knn/kparam_3/concat/annotation_clones/DE_TF/conditions_clusters/clust_3' already exists\"\n",
      "Warning message in dir.create(curr.outdir):\n",
      "\"'/data/Mito_Trace/output/pipeline/DUPI_april08_2021/MTblacklist_mtasnucl_Bonly/data/merged/MT/cellr_True/numread_200/filters/minC10_minR50_topN0_hetT0.001_hetC10_hetCount5_bq20/mgatk/vireoIn/clones/variants_init/knn/kparam_3/concat/annotation_clones/DE_TF/conditions_clusters/clust_3/donor0' already exists\"\n"
     ]
    },
    {
     "name": "stdout",
     "output_type": "stream",
     "text": [
      "[1] \"cleaning de\"\n",
      "[1] \"curr tf de results\"\n",
      "               p_val   avg_diff pct.1 pct.2    p_val_adj p_val_adj_BH\n",
      "SPIB    1.029667e-06 -1.3536733 0.038 0.139 0.0006517792 0.0006517792\n",
      "SPI1    3.205554e-05 -1.0760512 0.038 0.111 0.0202911559 0.0101455780\n",
      "ETV6    8.001031e-05 -0.8168043 0.154 0.417 0.0506465250 0.0168821750\n",
      "EHF     1.139558e-04 -0.8964890 0.077 0.222 0.0721340265 0.0180335066\n",
      "KLF13   3.335625e-04  0.9465438 0.846 0.417 0.2111450377 0.0392438305\n",
      "ZKSCAN5 3.719794e-04 -0.8120212 0.077 0.361 0.2354629830 0.0392438305\n",
      "[1] \"curr.tf rownames\"\n",
      "[1] \"SPIB\"    \"SPI1\"    \"ETV6\"    \"EHF\"     \"KLF13\"   \"ZKSCAN5\"\n",
      "[1] \"curr significant motifs\"\n",
      "[1] 9 6\n",
      "[1] \"dim response\"\n",
      "[1] 633   6\n",
      "[1] \"response plots\"\n",
      "            p_val   avg_diff pct.1 pct.2    p_val_adj p_val_adj_BH\n",
      "SPIB 1.029667e-06 -1.3536733 0.038 0.139 0.0006517792 0.0006517792\n",
      "SPI1 3.205554e-05 -1.0760512 0.038 0.111 0.0202911559 0.0101455780\n",
      "ETV6 8.001031e-05 -0.8168043 0.154 0.417 0.0506465250 0.0168821750\n"
     ]
    },
    {
     "name": "stderr",
     "output_type": "stream",
     "text": [
      "'magick' package is suggested to install to give better rasterization.\n",
      "\n",
      "Set `ht_opt$message = FALSE` to turn off this message.\n",
      "\n",
      "Saving 6.67 x 6.67 in image\n",
      "\n",
      "Saving 6.67 x 6.67 in image\n",
      "\n",
      "Saving 6.67 x 6.67 in image\n",
      "\n",
      "Saving 6.67 x 6.67 in image\n",
      "\n",
      "Saving 6.67 x 6.67 in image\n",
      "\n",
      "Saving 6.67 x 6.67 in image\n",
      "\n"
     ]
    },
    {
     "name": "stdout",
     "output_type": "stream",
     "text": [
      "[1] \"c\"\n",
      "[1] \"3_1\"\n",
      "[1] \"3_1\"\n",
      "[1] \"curr.clust3\"\n",
      "[1] \"curr.donor1\"\n"
     ]
    },
    {
     "name": "stderr",
     "output_type": "stream",
     "text": [
      "Warning message in dir.create(curr.clust.outdir):\n",
      "\"'/data/Mito_Trace/output/pipeline/DUPI_april08_2021/MTblacklist_mtasnucl_Bonly/data/merged/MT/cellr_True/numread_200/filters/minC10_minR50_topN0_hetT0.001_hetC10_hetCount5_bq20/mgatk/vireoIn/clones/variants_init/knn/kparam_3/concat/annotation_clones/DE_TF/conditions_clusters/clust_3' already exists\"\n",
      "Warning message in dir.create(curr.outdir):\n",
      "\"'/data/Mito_Trace/output/pipeline/DUPI_april08_2021/MTblacklist_mtasnucl_Bonly/data/merged/MT/cellr_True/numread_200/filters/minC10_minR50_topN0_hetT0.001_hetC10_hetCount5_bq20/mgatk/vireoIn/clones/variants_init/knn/kparam_3/concat/annotation_clones/DE_TF/conditions_clusters/clust_3/donor1' already exists\"\n"
     ]
    },
    {
     "name": "stdout",
     "output_type": "stream",
     "text": [
      "[1] \"cleaning de\"\n",
      "[1] \"curr tf de results\"\n",
      "                    p_val   avg_diff pct.1 pct.2    p_val_adj p_val_adj_BH\n",
      "KLF14        1.281100e-06  0.7890491 0.642 0.200 0.0008109363 0.0006043615\n",
      "NFYB         1.909515e-06  0.8706811 0.623 0.218 0.0012087230 0.0006043615\n",
      "IRF3         2.421796e-05 -0.8016013 0.113 0.255 0.0153299688 0.0051099896\n",
      "POU5F1B      6.152765e-05 -0.7812677 0.113 0.327 0.0389470050 0.0077894010\n",
      "NFYA         6.152765e-05  0.7947976 0.660 0.364 0.0389470050 0.0077894010\n",
      "STAT1::STAT2 1.108495e-04 -0.7440030 0.019 0.164 0.0701677132 0.0113638568\n",
      "[1] \"curr.tf rownames\"\n",
      "[1] \"KLF14\"        \"NFYB\"         \"IRF3\"         \"POU5F1B\"      \"NFYA\"        \n",
      "[6] \"STAT1::STAT2\"\n",
      "[1] \"curr significant motifs\"\n",
      "[1] 82  6\n",
      "[1] \"dim response\"\n",
      "[1] 633   6\n",
      "[1] \"response plots\"\n",
      "             p_val   avg_diff pct.1 pct.2    p_val_adj p_val_adj_BH\n",
      "KLF14 1.281100e-06  0.7890491 0.642 0.200 0.0008109363 0.0006043615\n",
      "NFYB  1.909515e-06  0.8706811 0.623 0.218 0.0012087230 0.0006043615\n",
      "IRF3  2.421796e-05 -0.8016013 0.113 0.255 0.0153299688 0.0051099896\n"
     ]
    },
    {
     "name": "stderr",
     "output_type": "stream",
     "text": [
      "'magick' package is suggested to install to give better rasterization.\n",
      "\n",
      "Set `ht_opt$message = FALSE` to turn off this message.\n",
      "\n",
      "Saving 6.67 x 6.67 in image\n",
      "\n",
      "Saving 6.67 x 6.67 in image\n",
      "\n",
      "Saving 6.67 x 6.67 in image\n",
      "\n",
      "Saving 6.67 x 6.67 in image\n",
      "\n",
      "Saving 6.67 x 6.67 in image\n",
      "\n",
      "Saving 6.67 x 6.67 in image\n",
      "\n"
     ]
    },
    {
     "name": "stdout",
     "output_type": "stream",
     "text": [
      "[1] \"c\"\n",
      "[1] \"3_2\"\n",
      "[1] \"3_2\"\n",
      "[1] \"curr.clust3\"\n",
      "[1] \"curr.donor2\"\n"
     ]
    },
    {
     "name": "stderr",
     "output_type": "stream",
     "text": [
      "Warning message in dir.create(curr.clust.outdir):\n",
      "\"'/data/Mito_Trace/output/pipeline/DUPI_april08_2021/MTblacklist_mtasnucl_Bonly/data/merged/MT/cellr_True/numread_200/filters/minC10_minR50_topN0_hetT0.001_hetC10_hetCount5_bq20/mgatk/vireoIn/clones/variants_init/knn/kparam_3/concat/annotation_clones/DE_TF/conditions_clusters/clust_3' already exists\"\n",
      "Warning message in dir.create(curr.outdir):\n",
      "\"'/data/Mito_Trace/output/pipeline/DUPI_april08_2021/MTblacklist_mtasnucl_Bonly/data/merged/MT/cellr_True/numread_200/filters/minC10_minR50_topN0_hetT0.001_hetC10_hetCount5_bq20/mgatk/vireoIn/clones/variants_init/knn/kparam_3/concat/annotation_clones/DE_TF/conditions_clusters/clust_3/donor2' already exists\"\n"
     ]
    },
    {
     "name": "stdout",
     "output_type": "stream",
     "text": [
      "[1] \"cleaning de\"\n",
      "[1] \"curr tf de results\"\n",
      "             p_val avg_diff pct.1 pct.2  p_val_adj p_val_adj_BH\n",
      "KLF15 0.0001383264 1.148406 0.889 0.071 0.08756061   0.06213056\n",
      "EGR2  0.0002285647 1.330705 1.000 0.286 0.14468148   0.06213056\n",
      "KLF5  0.0003720351 1.433809 0.889 0.071 0.23549822   0.06213056\n",
      "KLF9  0.0004719855 1.210151 0.778 0.071 0.29876680   0.06213056\n",
      "RUNX3 0.0005965519 1.446872 0.778 0.143 0.37761733   0.06213056\n",
      "SP8   0.0007511822 1.133920 0.889 0.286 0.47549833   0.06213056\n",
      "[1] \"curr.tf rownames\"\n",
      "[1] \"KLF15\" \"EGR2\"  \"KLF5\"  \"KLF9\"  \"RUNX3\" \"SP8\"  \n",
      "[1] \"curr significant motifs\"\n",
      "[1] 28  6\n",
      "[1] \"dim response\"\n",
      "[1] 633   6\n",
      "[1] \"response plots\"\n",
      "             p_val avg_diff pct.1 pct.2  p_val_adj p_val_adj_BH\n",
      "KLF15 0.0001383264 1.148406 0.889 0.071 0.08756061   0.06213056\n",
      "EGR2  0.0002285647 1.330705 1.000 0.286 0.14468148   0.06213056\n",
      "KLF5  0.0003720351 1.433809 0.889 0.071 0.23549822   0.06213056\n"
     ]
    },
    {
     "name": "stderr",
     "output_type": "stream",
     "text": [
      "'magick' package is suggested to install to give better rasterization.\n",
      "\n",
      "Set `ht_opt$message = FALSE` to turn off this message.\n",
      "\n",
      "Saving 6.67 x 6.67 in image\n",
      "\n",
      "Saving 6.67 x 6.67 in image\n",
      "\n",
      "Saving 6.67 x 6.67 in image\n",
      "\n",
      "Saving 6.67 x 6.67 in image\n",
      "\n",
      "Saving 6.67 x 6.67 in image\n",
      "\n",
      "Saving 6.67 x 6.67 in image\n",
      "\n"
     ]
    },
    {
     "name": "stdout",
     "output_type": "stream",
     "text": [
      "[1] \"c\"\n",
      "[1] \"3_3\"\n",
      "[1] \"3_3\"\n",
      "[1] \"curr.clust3\"\n",
      "[1] \"curr.donor3\"\n"
     ]
    },
    {
     "name": "stderr",
     "output_type": "stream",
     "text": [
      "Warning message in dir.create(curr.clust.outdir):\n",
      "\"'/data/Mito_Trace/output/pipeline/DUPI_april08_2021/MTblacklist_mtasnucl_Bonly/data/merged/MT/cellr_True/numread_200/filters/minC10_minR50_topN0_hetT0.001_hetC10_hetCount5_bq20/mgatk/vireoIn/clones/variants_init/knn/kparam_3/concat/annotation_clones/DE_TF/conditions_clusters/clust_3' already exists\"\n",
      "Warning message in dir.create(curr.outdir):\n",
      "\"'/data/Mito_Trace/output/pipeline/DUPI_april08_2021/MTblacklist_mtasnucl_Bonly/data/merged/MT/cellr_True/numread_200/filters/minC10_minR50_topN0_hetT0.001_hetC10_hetCount5_bq20/mgatk/vireoIn/clones/variants_init/knn/kparam_3/concat/annotation_clones/DE_TF/conditions_clusters/clust_3/donor3' already exists\"\n"
     ]
    },
    {
     "name": "stdout",
     "output_type": "stream",
     "text": [
      "[1] \"cleaning de\"\n",
      "[1] \"curr tf de results\"\n",
      "              p_val   avg_diff pct.1 pct.2 p_val_adj p_val_adj_BH\n",
      "CEBPB  0.0007599476 -1.0428858 0.000 0.371 0.4810468    0.1943959\n",
      "PROX1  0.0009874507 -1.0030103 0.154 0.516 0.6250563    0.1943959\n",
      "CEBPE  0.0012048025 -0.9883117 0.000 0.396 0.7626400    0.1943959\n",
      "IRF3   0.0013839715  1.0343570 0.538 0.166 0.8760540    0.1943959\n",
      "ZNF143 0.0017184948  0.8439832 0.769 0.417 1.0000000    0.1943959\n",
      "HOXB4  0.0019665346 -0.9471761 0.077 0.314 1.0000000    0.1943959\n",
      "[1] \"curr.tf rownames\"\n",
      "[1] \"CEBPB\"  \"PROX1\"  \"CEBPE\"  \"IRF3\"   \"ZNF143\" \"HOXB4\" \n",
      "[1] \"curr significant motifs\"\n",
      "[1] 3 6\n",
      "[1] \"dim response\"\n",
      "[1] 633   6\n",
      "[1] \"response plots\"\n",
      "             p_val   avg_diff pct.1 pct.2 p_val_adj p_val_adj_BH\n",
      "CEBPB 0.0007599476 -1.0428858 0.000 0.371 0.4810468    0.1943959\n",
      "PROX1 0.0009874507 -1.0030103 0.154 0.516 0.6250563    0.1943959\n",
      "CEBPE 0.0012048025 -0.9883117 0.000 0.396 0.7626400    0.1943959\n"
     ]
    },
    {
     "name": "stderr",
     "output_type": "stream",
     "text": [
      "'magick' package is suggested to install to give better rasterization.\n",
      "\n",
      "Set `ht_opt$message = FALSE` to turn off this message.\n",
      "\n",
      "Saving 6.67 x 6.67 in image\n",
      "\n",
      "Saving 6.67 x 6.67 in image\n",
      "\n",
      "Saving 6.67 x 6.67 in image\n",
      "\n",
      "Saving 6.67 x 6.67 in image\n",
      "\n",
      "Saving 6.67 x 6.67 in image\n",
      "\n",
      "Saving 6.67 x 6.67 in image\n",
      "\n"
     ]
    },
    {
     "name": "stdout",
     "output_type": "stream",
     "text": [
      "[1] \"Skipping None\"\n"
     ]
    },
    {
     "name": "stderr",
     "output_type": "stream",
     "text": [
      "'magick' package is suggested to install to give better rasterization.\n",
      "\n",
      "Set `ht_opt$message = FALSE` to turn off this message.\n",
      "\n",
      "Saving 6.67 x 6.67 in image\n",
      "\n",
      "Saving 6.67 x 6.67 in image\n",
      "\n",
      "Saving 6.67 x 6.67 in image\n",
      "\n",
      "Saving 6.67 x 6.67 in image\n",
      "\n",
      "Saving 6.67 x 6.67 in image\n",
      "\n"
     ]
    },
    {
     "name": "stdout",
     "output_type": "stream",
     "text": [
      "[1] \"c\"\n",
      "[1] \"4_0\"\n",
      "[1] \"4_0\"\n",
      "[1] \"curr.clust4\"\n",
      "[1] \"curr.donor0\"\n"
     ]
    },
    {
     "name": "stderr",
     "output_type": "stream",
     "text": [
      "Warning message in dir.create(curr.clust.outdir):\n",
      "\"'/data/Mito_Trace/output/pipeline/DUPI_april08_2021/MTblacklist_mtasnucl_Bonly/data/merged/MT/cellr_True/numread_200/filters/minC10_minR50_topN0_hetT0.001_hetC10_hetCount5_bq20/mgatk/vireoIn/clones/variants_init/knn/kparam_3/concat/annotation_clones/DE_TF/conditions_clusters/clust_4' already exists\"\n",
      "Warning message in dir.create(curr.outdir):\n",
      "\"'/data/Mito_Trace/output/pipeline/DUPI_april08_2021/MTblacklist_mtasnucl_Bonly/data/merged/MT/cellr_True/numread_200/filters/minC10_minR50_topN0_hetT0.001_hetC10_hetCount5_bq20/mgatk/vireoIn/clones/variants_init/knn/kparam_3/concat/annotation_clones/DE_TF/conditions_clusters/clust_4/donor0' already exists\"\n"
     ]
    },
    {
     "name": "stdout",
     "output_type": "stream",
     "text": [
      "[1] \"cleaning de\"\n",
      "[1] \"curr tf de results\"\n",
      "            p_val avg_diff pct.1 pct.2    p_val_adj p_val_adj_BH\n",
      "IRF9 1.582807e-08 1.872341 0.913 0.176 1.001917e-05 1.001917e-05\n",
      "IRF4 2.026425e-07 1.955505 0.870 0.176 1.282727e-04 6.413636e-05\n",
      "IRF8 2.298989e-06 1.751500 0.870 0.235 1.455260e-03 4.850868e-04\n",
      "IRF7 5.898297e-06 1.447265 0.826 0.235 3.733622e-03 9.334054e-04\n",
      "KLF6 4.610094e-05 1.008056 0.783 0.382 2.918189e-02 4.791830e-03\n",
      "IRF5 5.299022e-05 1.444829 0.783 0.265 3.354281e-02 4.791830e-03\n",
      "[1] \"curr.tf rownames\"\n",
      "[1] \"IRF9\" \"IRF4\" \"IRF8\" \"IRF7\" \"KLF6\" \"IRF5\"\n",
      "[1] \"curr significant motifs\"\n",
      "[1] 29  6\n",
      "[1] \"dim response\"\n",
      "[1] 633   6\n",
      "[1] \"response plots\"\n",
      "            p_val avg_diff pct.1 pct.2    p_val_adj p_val_adj_BH\n",
      "IRF9 1.582807e-08 1.872341 0.913 0.176 1.001917e-05 1.001917e-05\n",
      "IRF4 2.026425e-07 1.955505 0.870 0.176 1.282727e-04 6.413636e-05\n",
      "IRF8 2.298989e-06 1.751500 0.870 0.235 1.455260e-03 4.850868e-04\n"
     ]
    },
    {
     "name": "stderr",
     "output_type": "stream",
     "text": [
      "'magick' package is suggested to install to give better rasterization.\n",
      "\n",
      "Set `ht_opt$message = FALSE` to turn off this message.\n",
      "\n",
      "Saving 6.67 x 6.67 in image\n",
      "\n",
      "Saving 6.67 x 6.67 in image\n",
      "\n",
      "Saving 6.67 x 6.67 in image\n",
      "\n",
      "Saving 6.67 x 6.67 in image\n",
      "\n",
      "Saving 6.67 x 6.67 in image\n",
      "\n",
      "Saving 6.67 x 6.67 in image\n",
      "\n"
     ]
    },
    {
     "name": "stdout",
     "output_type": "stream",
     "text": [
      "[1] \"c\"\n",
      "[1] \"4_1\"\n",
      "[1] \"4_1\"\n",
      "[1] \"curr.clust4\"\n",
      "[1] \"curr.donor1\"\n"
     ]
    },
    {
     "name": "stderr",
     "output_type": "stream",
     "text": [
      "Warning message in dir.create(curr.clust.outdir):\n",
      "\"'/data/Mito_Trace/output/pipeline/DUPI_april08_2021/MTblacklist_mtasnucl_Bonly/data/merged/MT/cellr_True/numread_200/filters/minC10_minR50_topN0_hetT0.001_hetC10_hetCount5_bq20/mgatk/vireoIn/clones/variants_init/knn/kparam_3/concat/annotation_clones/DE_TF/conditions_clusters/clust_4' already exists\"\n",
      "Warning message in dir.create(curr.outdir):\n",
      "\"'/data/Mito_Trace/output/pipeline/DUPI_april08_2021/MTblacklist_mtasnucl_Bonly/data/merged/MT/cellr_True/numread_200/filters/minC10_minR50_topN0_hetT0.001_hetC10_hetCount5_bq20/mgatk/vireoIn/clones/variants_init/knn/kparam_3/concat/annotation_clones/DE_TF/conditions_clusters/clust_4/donor1' already exists\"\n"
     ]
    },
    {
     "name": "stdout",
     "output_type": "stream",
     "text": [
      "[1] \"cleaning de\"\n",
      "[1] \"curr tf de results\"\n",
      "                     p_val   avg_diff pct.1 pct.2 p_val_adj p_val_adj_BH\n",
      "DLX5           0.002701825 -0.5789881  0.20 0.538         1    0.6793886\n",
      "CLOCK          0.005442514 -0.7855302  0.16 0.513         1    0.6793886\n",
      "BHLHE22(var.2) 0.005677567 -0.6255495  0.12 0.462         1    0.6793886\n",
      "ZNF460         0.010076348  0.4574043  0.60 0.282         1    0.6793886\n",
      "NFIC(var.2)    0.010906593 -0.5907678  0.24 0.615         1    0.6793886\n",
      "SNAI3          0.012751479 -0.5861894  0.24 0.513         1    0.6793886\n",
      "[1] \"curr.tf rownames\"\n",
      "[1] \"DLX5\"           \"CLOCK\"          \"BHLHE22(var.2)\" \"ZNF460\"        \n",
      "[5] \"NFIC(var.2)\"    \"SNAI3\"         \n",
      "[1] \"curr significant motifs\"\n",
      "[1] 3 6\n",
      "[1] \"dim response\"\n",
      "[1] 633   6\n",
      "[1] \"response plots\"\n",
      "                     p_val   avg_diff pct.1 pct.2 p_val_adj p_val_adj_BH\n",
      "DLX5           0.002701825 -0.5789881  0.20 0.538         1    0.6793886\n",
      "CLOCK          0.005442514 -0.7855302  0.16 0.513         1    0.6793886\n",
      "BHLHE22(var.2) 0.005677567 -0.6255495  0.12 0.462         1    0.6793886\n"
     ]
    },
    {
     "name": "stderr",
     "output_type": "stream",
     "text": [
      "'magick' package is suggested to install to give better rasterization.\n",
      "\n",
      "Set `ht_opt$message = FALSE` to turn off this message.\n",
      "\n",
      "Saving 6.67 x 6.67 in image\n",
      "\n",
      "Saving 6.67 x 6.67 in image\n",
      "\n",
      "Saving 6.67 x 6.67 in image\n",
      "\n",
      "Saving 6.67 x 6.67 in image\n",
      "\n",
      "Saving 6.67 x 6.67 in image\n",
      "\n",
      "Saving 6.67 x 6.67 in image\n",
      "\n",
      "Warning message in cor(x, y):\n",
      "\"the standard deviation is zero\"\n",
      "Warning message in cor(x, y):\n",
      "\"the standard deviation is zero\"\n",
      "Warning message in cor(x, y):\n",
      "\"the standard deviation is zero\"\n"
     ]
    },
    {
     "name": "stdout",
     "output_type": "stream",
     "text": [
      "[1] \"c\"\n",
      "[1] \"4_2\"\n",
      "[1] \"4_2\"\n",
      "[1] \"curr.clust4\"\n",
      "[1] \"curr.donor2\"\n"
     ]
    },
    {
     "name": "stderr",
     "output_type": "stream",
     "text": [
      "Warning message in dir.create(curr.clust.outdir):\n",
      "\"'/data/Mito_Trace/output/pipeline/DUPI_april08_2021/MTblacklist_mtasnucl_Bonly/data/merged/MT/cellr_True/numread_200/filters/minC10_minR50_topN0_hetT0.001_hetC10_hetCount5_bq20/mgatk/vireoIn/clones/variants_init/knn/kparam_3/concat/annotation_clones/DE_TF/conditions_clusters/clust_4' already exists\"\n",
      "Warning message in dir.create(curr.outdir):\n",
      "\"'/data/Mito_Trace/output/pipeline/DUPI_april08_2021/MTblacklist_mtasnucl_Bonly/data/merged/MT/cellr_True/numread_200/filters/minC10_minR50_topN0_hetT0.001_hetC10_hetCount5_bq20/mgatk/vireoIn/clones/variants_init/knn/kparam_3/concat/annotation_clones/DE_TF/conditions_clusters/clust_4/donor2' already exists\"\n"
     ]
    },
    {
     "name": "stdout",
     "output_type": "stream",
     "text": [
      "[1] \"cleaning de\"\n",
      "[1] \"curr tf de results\"\n",
      "                 p_val  avg_diff pct.1 pct.2 p_val_adj p_val_adj_BH\n",
      "KLF14       0.01073342  1.663911  1.00 0.000         1    0.7510936\n",
      "MEIS2       0.01073342 -1.327032  0.00 0.857         1    0.7510936\n",
      "KLF15       0.01073342  1.401402  1.00 0.143         1    0.7510936\n",
      "SP9         0.01073342  0.926076  0.75 0.000         1    0.7510936\n",
      "THRB(var.2) 0.01073342 -1.926015  0.00 0.857         1    0.7510936\n",
      "VEZF1       0.01073342 -1.242184  0.00 0.714         1    0.7510936\n",
      "[1] \"curr.tf rownames\"\n",
      "[1] \"KLF14\"       \"MEIS2\"       \"KLF15\"       \"SP9\"         \"THRB(var.2)\"\n",
      "[6] \"VEZF1\"      \n",
      "[1] \"curr significant motifs\"\n",
      "[1] 3 6\n",
      "[1] \"dim response\"\n",
      "[1] 631   6\n",
      "[1] \"response plots\"\n",
      "           p_val  avg_diff pct.1 pct.2 p_val_adj p_val_adj_BH\n",
      "KLF14 0.01073342  1.663911     1 0.000         1    0.7510936\n",
      "MEIS2 0.01073342 -1.327032     0 0.857         1    0.7510936\n",
      "KLF15 0.01073342  1.401402     1 0.143         1    0.7510936\n"
     ]
    },
    {
     "name": "stderr",
     "output_type": "stream",
     "text": [
      "'magick' package is suggested to install to give better rasterization.\n",
      "\n",
      "Set `ht_opt$message = FALSE` to turn off this message.\n",
      "\n",
      "Saving 6.67 x 6.67 in image\n",
      "\n",
      "Saving 6.67 x 6.67 in image\n",
      "\n",
      "Saving 6.67 x 6.67 in image\n",
      "\n",
      "Saving 6.67 x 6.67 in image\n",
      "\n",
      "Saving 6.67 x 6.67 in image\n",
      "\n",
      "Saving 6.67 x 6.67 in image\n",
      "\n",
      "Warning message in cor(x, y):\n",
      "\"the standard deviation is zero\"\n",
      "Warning message in cor(x, y):\n",
      "\"the standard deviation is zero\"\n",
      "Warning message in cor(x, y):\n",
      "\"the standard deviation is zero\"\n"
     ]
    },
    {
     "name": "stdout",
     "output_type": "stream",
     "text": [
      "[1] \"c\"\n",
      "[1] \"4_3\"\n",
      "[1] \"4_3\"\n",
      "[1] \"curr.clust4\"\n",
      "[1] \"curr.donor3\"\n"
     ]
    },
    {
     "name": "stderr",
     "output_type": "stream",
     "text": [
      "Warning message in dir.create(curr.clust.outdir):\n",
      "\"'/data/Mito_Trace/output/pipeline/DUPI_april08_2021/MTblacklist_mtasnucl_Bonly/data/merged/MT/cellr_True/numread_200/filters/minC10_minR50_topN0_hetT0.001_hetC10_hetCount5_bq20/mgatk/vireoIn/clones/variants_init/knn/kparam_3/concat/annotation_clones/DE_TF/conditions_clusters/clust_4' already exists\"\n",
      "Warning message in dir.create(curr.outdir):\n",
      "\"'/data/Mito_Trace/output/pipeline/DUPI_april08_2021/MTblacklist_mtasnucl_Bonly/data/merged/MT/cellr_True/numread_200/filters/minC10_minR50_topN0_hetT0.001_hetC10_hetCount5_bq20/mgatk/vireoIn/clones/variants_init/knn/kparam_3/concat/annotation_clones/DE_TF/conditions_clusters/clust_4/donor3' already exists\"\n"
     ]
    },
    {
     "name": "stdout",
     "output_type": "stream",
     "text": [
      "[1] \"cleaning de\"\n",
      "[1] \"curr tf de results\"\n",
      "             p_val   avg_diff pct.1 pct.2   p_val_adj p_val_adj_BH\n",
      "NFYA  6.950043e-06  0.9948972 0.867 0.526 0.004399377  0.004399377\n",
      "TCFL5 4.034704e-05 -0.8153821 0.133 0.451 0.025539679  0.007403093\n",
      "HOXA7 5.447875e-05 -0.8337001 0.100 0.486 0.034485047  0.007403093\n",
      "HOXB8 5.447875e-05 -0.8337001 0.100 0.486 0.034485047  0.007403093\n",
      "SPI1  5.847625e-05 -0.7838020 0.000 0.097 0.037015465  0.007403093\n",
      "SPIC  9.929919e-05 -0.7171261 0.000 0.063 0.062856386  0.009356737\n",
      "[1] \"curr.tf rownames\"\n",
      "[1] \"NFYA\"  \"TCFL5\" \"HOXA7\" \"HOXB8\" \"SPI1\"  \"SPIC\" \n",
      "[1] \"curr significant motifs\"\n",
      "[1] 44  6\n",
      "[1] \"dim response\"\n",
      "[1] 633   6\n",
      "[1] \"response plots\"\n",
      "             p_val   avg_diff pct.1 pct.2   p_val_adj p_val_adj_BH\n",
      "NFYA  6.950043e-06  0.9948972 0.867 0.526 0.004399377  0.004399377\n",
      "TCFL5 4.034704e-05 -0.8153821 0.133 0.451 0.025539679  0.007403093\n",
      "HOXA7 5.447875e-05 -0.8337001 0.100 0.486 0.034485047  0.007403093\n"
     ]
    },
    {
     "name": "stderr",
     "output_type": "stream",
     "text": [
      "'magick' package is suggested to install to give better rasterization.\n",
      "\n",
      "Set `ht_opt$message = FALSE` to turn off this message.\n",
      "\n",
      "Saving 6.67 x 6.67 in image\n",
      "\n",
      "Saving 6.67 x 6.67 in image\n",
      "\n",
      "Saving 6.67 x 6.67 in image\n",
      "\n",
      "Saving 6.67 x 6.67 in image\n",
      "\n",
      "Saving 6.67 x 6.67 in image\n",
      "\n",
      "Saving 6.67 x 6.67 in image\n",
      "\n"
     ]
    },
    {
     "name": "stdout",
     "output_type": "stream",
     "text": [
      "[1] \"Skipping None\"\n"
     ]
    },
    {
     "name": "stderr",
     "output_type": "stream",
     "text": [
      "'magick' package is suggested to install to give better rasterization.\n",
      "\n",
      "Set `ht_opt$message = FALSE` to turn off this message.\n",
      "\n",
      "Saving 6.67 x 6.67 in image\n",
      "\n",
      "Saving 6.67 x 6.67 in image\n",
      "\n",
      "Saving 6.67 x 6.67 in image\n",
      "\n",
      "Saving 6.67 x 6.67 in image\n",
      "\n",
      "Saving 6.67 x 6.67 in image\n",
      "\n"
     ]
    },
    {
     "name": "stdout",
     "output_type": "stream",
     "text": [
      "[1] \"c\"\n",
      "[1] \"5_0\"\n",
      "[1] \"5_0\"\n",
      "[1] \"curr.clust5\"\n",
      "[1] \"curr.donor0\"\n"
     ]
    },
    {
     "name": "stderr",
     "output_type": "stream",
     "text": [
      "Warning message in dir.create(curr.clust.outdir):\n",
      "\"'/data/Mito_Trace/output/pipeline/DUPI_april08_2021/MTblacklist_mtasnucl_Bonly/data/merged/MT/cellr_True/numread_200/filters/minC10_minR50_topN0_hetT0.001_hetC10_hetCount5_bq20/mgatk/vireoIn/clones/variants_init/knn/kparam_3/concat/annotation_clones/DE_TF/conditions_clusters/clust_5' already exists\"\n",
      "Warning message in dir.create(curr.outdir):\n",
      "\"'/data/Mito_Trace/output/pipeline/DUPI_april08_2021/MTblacklist_mtasnucl_Bonly/data/merged/MT/cellr_True/numread_200/filters/minC10_minR50_topN0_hetT0.001_hetC10_hetCount5_bq20/mgatk/vireoIn/clones/variants_init/knn/kparam_3/concat/annotation_clones/DE_TF/conditions_clusters/clust_5/donor0' already exists\"\n"
     ]
    },
    {
     "name": "stdout",
     "output_type": "stream",
     "text": [
      "[1] \"cleaning de\"\n",
      "[1] \"curr tf de results\"\n",
      "            p_val  avg_diff pct.1 pct.2 p_val_adj p_val_adj_BH\n",
      "IRF1  0.001109813 1.4106803 1.000 0.812 0.7025119    0.3035836\n",
      "IRF4  0.001675040 1.3541275 0.933 0.562 1.0000000    0.3035836\n",
      "IRF2  0.002187960 1.0690146 1.000 0.812 1.0000000    0.3035836\n",
      "KLF5  0.004159384 0.7465137 0.933 0.750 1.0000000    0.3035836\n",
      "NFYA  0.004159384 1.0736652 0.933 0.562 1.0000000    0.3035836\n",
      "HOXB6 0.004159384 0.9348608 0.733 0.250 1.0000000    0.3035836\n",
      "[1] \"curr.tf rownames\"\n",
      "[1] \"IRF1\"  \"IRF4\"  \"IRF2\"  \"KLF5\"  \"NFYA\"  \"HOXB6\"\n",
      "[1] \"curr significant motifs\"\n",
      "[1] 3 6\n",
      "[1] \"dim response\"\n",
      "[1] 631   6\n",
      "[1] \"response plots\"\n",
      "           p_val avg_diff pct.1 pct.2 p_val_adj p_val_adj_BH\n",
      "IRF1 0.001109813 1.410680 1.000 0.812 0.7025119    0.3035836\n",
      "IRF4 0.001675040 1.354128 0.933 0.562 1.0000000    0.3035836\n",
      "IRF2 0.002187960 1.069015 1.000 0.812 1.0000000    0.3035836\n"
     ]
    },
    {
     "name": "stderr",
     "output_type": "stream",
     "text": [
      "'magick' package is suggested to install to give better rasterization.\n",
      "\n",
      "Set `ht_opt$message = FALSE` to turn off this message.\n",
      "\n",
      "Saving 6.67 x 6.67 in image\n",
      "\n",
      "Saving 6.67 x 6.67 in image\n",
      "\n",
      "Saving 6.67 x 6.67 in image\n",
      "\n",
      "Saving 6.67 x 6.67 in image\n",
      "\n",
      "Saving 6.67 x 6.67 in image\n",
      "\n",
      "Saving 6.67 x 6.67 in image\n",
      "\n"
     ]
    },
    {
     "name": "stdout",
     "output_type": "stream",
     "text": [
      "[1] \"c\"\n",
      "[1] \"5_1\"\n",
      "[1] \"5_1\"\n",
      "[1] \"curr.clust5\"\n",
      "[1] \"curr.donor1\"\n"
     ]
    },
    {
     "name": "stderr",
     "output_type": "stream",
     "text": [
      "Warning message in dir.create(curr.clust.outdir):\n",
      "\"'/data/Mito_Trace/output/pipeline/DUPI_april08_2021/MTblacklist_mtasnucl_Bonly/data/merged/MT/cellr_True/numread_200/filters/minC10_minR50_topN0_hetT0.001_hetC10_hetCount5_bq20/mgatk/vireoIn/clones/variants_init/knn/kparam_3/concat/annotation_clones/DE_TF/conditions_clusters/clust_5' already exists\"\n",
      "Warning message in dir.create(curr.outdir):\n",
      "\"'/data/Mito_Trace/output/pipeline/DUPI_april08_2021/MTblacklist_mtasnucl_Bonly/data/merged/MT/cellr_True/numread_200/filters/minC10_minR50_topN0_hetT0.001_hetC10_hetCount5_bq20/mgatk/vireoIn/clones/variants_init/knn/kparam_3/concat/annotation_clones/DE_TF/conditions_clusters/clust_5/donor1' already exists\"\n"
     ]
    },
    {
     "name": "stdout",
     "output_type": "stream",
     "text": [
      "[1] \"cleaning de\"\n",
      "[1] \"curr tf de results\"\n",
      "                  p_val  avg_diff pct.1 pct.2 p_val_adj p_val_adj_BH\n",
      "EN2         0.008922348  1.066006 1.000 0.462         1     0.563892\n",
      "JUN::JUNB   0.008922348  4.442236 0.857 0.923         1     0.563892\n",
      "NFIX(var.2) 0.008922348  1.366189 1.000 0.462         1     0.563892\n",
      "SMAD5       0.011219965  1.201322 0.714 0.385         1     0.563892\n",
      "PAX6        0.014028631 -1.102217 0.143 0.846         1     0.563892\n",
      "JDP2        0.014028631  4.421321 1.000 0.923         1     0.563892\n",
      "[1] \"curr.tf rownames\"\n",
      "[1] \"EN2\"         \"JUN::JUNB\"   \"NFIX(var.2)\" \"SMAD5\"       \"PAX6\"       \n",
      "[6] \"JDP2\"       \n",
      "[1] \"curr significant motifs\"\n",
      "[1] 3 6\n",
      "[1] \"dim response\"\n",
      "[1] 631   6\n",
      "[1] \"response plots\"\n",
      "                  p_val avg_diff pct.1 pct.2 p_val_adj p_val_adj_BH\n",
      "EN2         0.008922348 1.066006 1.000 0.462         1     0.563892\n",
      "JUN::JUNB   0.008922348 4.442236 0.857 0.923         1     0.563892\n",
      "NFIX(var.2) 0.008922348 1.366189 1.000 0.462         1     0.563892\n"
     ]
    },
    {
     "name": "stderr",
     "output_type": "stream",
     "text": [
      "'magick' package is suggested to install to give better rasterization.\n",
      "\n",
      "Set `ht_opt$message = FALSE` to turn off this message.\n",
      "\n",
      "Saving 6.67 x 6.67 in image\n",
      "\n",
      "Saving 6.67 x 6.67 in image\n",
      "\n",
      "Saving 6.67 x 6.67 in image\n",
      "\n",
      "Saving 6.67 x 6.67 in image\n",
      "\n",
      "Saving 6.67 x 6.67 in image\n",
      "\n",
      "Saving 6.67 x 6.67 in image\n",
      "\n",
      "Warning message in cor(x, y):\n",
      "\"the standard deviation is zero\"\n",
      "Warning message in cor(x, y):\n",
      "\"the standard deviation is zero\"\n",
      "Warning message in cor(x, y):\n",
      "\"the standard deviation is zero\"\n"
     ]
    },
    {
     "name": "stdout",
     "output_type": "stream",
     "text": [
      "[1] \"c\"\n",
      "[1] \"5_2\"\n",
      "[1] \"5_2\"\n",
      "[1] \"curr.clust5\"\n",
      "[1] \"curr.donor2\"\n"
     ]
    },
    {
     "name": "stderr",
     "output_type": "stream",
     "text": [
      "Warning message in dir.create(curr.clust.outdir):\n",
      "\"'/data/Mito_Trace/output/pipeline/DUPI_april08_2021/MTblacklist_mtasnucl_Bonly/data/merged/MT/cellr_True/numread_200/filters/minC10_minR50_topN0_hetT0.001_hetC10_hetCount5_bq20/mgatk/vireoIn/clones/variants_init/knn/kparam_3/concat/annotation_clones/DE_TF/conditions_clusters/clust_5' already exists\"\n",
      "Warning message in dir.create(curr.outdir):\n",
      "\"'/data/Mito_Trace/output/pipeline/DUPI_april08_2021/MTblacklist_mtasnucl_Bonly/data/merged/MT/cellr_True/numread_200/filters/minC10_minR50_topN0_hetT0.001_hetC10_hetCount5_bq20/mgatk/vireoIn/clones/variants_init/knn/kparam_3/concat/annotation_clones/DE_TF/conditions_clusters/clust_5/donor2' already exists\"\n"
     ]
    },
    {
     "name": "stdout",
     "output_type": "stream",
     "text": [
      "[1] \"cleaning de\"\n",
      "[1] \"curr tf de results\"\n",
      "            p_val avg_diff pct.1 pct.2 p_val_adj p_val_adj_BH\n",
      "SP4   0.001608671 1.443126     1 0.385         1    0.2032557\n",
      "ESRRB 0.001608671 1.487509     1 1.000         1    0.2032557\n",
      "SP1   0.001608671 1.596298     1 0.462         1    0.2032557\n",
      "EHF   0.001608671 3.203480     1 1.000         1    0.2032557\n",
      "ELF3  0.002244930 2.580012     1 1.000         1    0.2032557\n",
      "SPI1  0.003104624 2.495526     1 1.000         1    0.2032557\n",
      "[1] \"curr.tf rownames\"\n",
      "[1] \"SP4\"   \"ESRRB\" \"SP1\"   \"EHF\"   \"ELF3\"  \"SPI1\" \n",
      "[1] \"curr significant motifs\"\n",
      "[1] 3 6\n",
      "[1] \"dim response\"\n",
      "[1] 627   6\n",
      "[1] \"response plots\"\n",
      "            p_val avg_diff pct.1 pct.2 p_val_adj p_val_adj_BH\n",
      "SP4   0.001608671 1.443126     1 0.385         1    0.2032557\n",
      "ESRRB 0.001608671 1.487509     1 1.000         1    0.2032557\n",
      "SP1   0.001608671 1.596298     1 0.462         1    0.2032557\n"
     ]
    },
    {
     "name": "stderr",
     "output_type": "stream",
     "text": [
      "'magick' package is suggested to install to give better rasterization.\n",
      "\n",
      "Set `ht_opt$message = FALSE` to turn off this message.\n",
      "\n",
      "Saving 6.67 x 6.67 in image\n",
      "\n",
      "Saving 6.67 x 6.67 in image\n",
      "\n",
      "Saving 6.67 x 6.67 in image\n",
      "\n",
      "Saving 6.67 x 6.67 in image\n",
      "\n",
      "Saving 6.67 x 6.67 in image\n",
      "\n",
      "Saving 6.67 x 6.67 in image\n",
      "\n",
      "Warning message in cor(x, y):\n",
      "\"the standard deviation is zero\"\n",
      "Warning message in cor(x, y):\n",
      "\"the standard deviation is zero\"\n",
      "Warning message in cor(x, y):\n",
      "\"the standard deviation is zero\"\n"
     ]
    },
    {
     "name": "stdout",
     "output_type": "stream",
     "text": [
      "[1] \"c\"\n",
      "[1] \"5_3\"\n",
      "[1] \"5_3\"\n",
      "[1] \"curr.clust5\"\n",
      "[1] \"curr.donor3\"\n"
     ]
    },
    {
     "name": "stderr",
     "output_type": "stream",
     "text": [
      "Warning message in dir.create(curr.clust.outdir):\n",
      "\"'/data/Mito_Trace/output/pipeline/DUPI_april08_2021/MTblacklist_mtasnucl_Bonly/data/merged/MT/cellr_True/numread_200/filters/minC10_minR50_topN0_hetT0.001_hetC10_hetCount5_bq20/mgatk/vireoIn/clones/variants_init/knn/kparam_3/concat/annotation_clones/DE_TF/conditions_clusters/clust_5' already exists\"\n",
      "Warning message in dir.create(curr.outdir):\n",
      "\"'/data/Mito_Trace/output/pipeline/DUPI_april08_2021/MTblacklist_mtasnucl_Bonly/data/merged/MT/cellr_True/numread_200/filters/minC10_minR50_topN0_hetT0.001_hetC10_hetCount5_bq20/mgatk/vireoIn/clones/variants_init/knn/kparam_3/concat/annotation_clones/DE_TF/conditions_clusters/clust_5/donor3' already exists\"\n"
     ]
    },
    {
     "name": "stdout",
     "output_type": "stream",
     "text": [
      "[1] \"cleaning de\"\n",
      "[1] \"curr tf de results\"\n",
      "             p_val  avg_diff pct.1 pct.2 p_val_adj p_val_adj_BH\n",
      "SOX8   0.002610864 -1.510320  0.00 0.579         1    0.3402941\n",
      "ARNT2  0.006321254 -1.521407  0.25 0.737         1    0.3402941\n",
      "TFE3   0.006515362 -1.585288  0.25 0.713         1    0.3402941\n",
      "ZNF528 0.006515362 -1.442184  0.25 0.918         1    0.3402941\n",
      "TFEB   0.006714815 -1.563014  0.25 0.789         1    0.3402941\n",
      "OSR2   0.007568644 -1.238837  0.25 0.760         1    0.3402941\n",
      "[1] \"curr.tf rownames\"\n",
      "[1] \"SOX8\"   \"ARNT2\"  \"TFE3\"   \"ZNF528\" \"TFEB\"   \"OSR2\"  \n",
      "[1] \"curr significant motifs\"\n",
      "[1] 3 6\n",
      "[1] \"dim response\"\n",
      "[1] 633   6\n",
      "[1] \"response plots\"\n",
      "            p_val  avg_diff pct.1 pct.2 p_val_adj p_val_adj_BH\n",
      "SOX8  0.002610864 -1.510320  0.00 0.579         1    0.3402941\n",
      "ARNT2 0.006321254 -1.521407  0.25 0.737         1    0.3402941\n",
      "TFE3  0.006515362 -1.585288  0.25 0.713         1    0.3402941\n"
     ]
    },
    {
     "name": "stderr",
     "output_type": "stream",
     "text": [
      "'magick' package is suggested to install to give better rasterization.\n",
      "\n",
      "Set `ht_opt$message = FALSE` to turn off this message.\n",
      "\n",
      "Saving 6.67 x 6.67 in image\n",
      "\n",
      "Saving 6.67 x 6.67 in image\n",
      "\n",
      "Saving 6.67 x 6.67 in image\n",
      "\n",
      "Saving 6.67 x 6.67 in image\n",
      "\n",
      "Saving 6.67 x 6.67 in image\n",
      "\n",
      "Saving 6.67 x 6.67 in image\n",
      "\n",
      "Warning message in cor(x, y):\n",
      "\"the standard deviation is zero\"\n",
      "Warning message in cor(x, y):\n",
      "\"the standard deviation is zero\"\n",
      "Warning message in cor(x, y):\n",
      "\"the standard deviation is zero\"\n"
     ]
    },
    {
     "name": "stdout",
     "output_type": "stream",
     "text": [
      "[1] \"Skipping None\"\n"
     ]
    },
    {
     "name": "stderr",
     "output_type": "stream",
     "text": [
      "'magick' package is suggested to install to give better rasterization.\n",
      "\n",
      "Set `ht_opt$message = FALSE` to turn off this message.\n",
      "\n",
      "Saving 6.67 x 6.67 in image\n",
      "\n",
      "Saving 6.67 x 6.67 in image\n",
      "\n",
      "Saving 6.67 x 6.67 in image\n",
      "\n",
      "Saving 6.67 x 6.67 in image\n",
      "\n",
      "Saving 6.67 x 6.67 in image\n",
      "\n"
     ]
    },
    {
     "name": "stdout",
     "output_type": "stream",
     "text": [
      "[1] \"c\"\n",
      "[1] \"6_0\"\n",
      "[1] \"6_0\"\n",
      "[1] \"curr.clust6\"\n",
      "[1] \"curr.donor0\"\n"
     ]
    },
    {
     "name": "stderr",
     "output_type": "stream",
     "text": [
      "Warning message in dir.create(curr.clust.outdir):\n",
      "\"'/data/Mito_Trace/output/pipeline/DUPI_april08_2021/MTblacklist_mtasnucl_Bonly/data/merged/MT/cellr_True/numread_200/filters/minC10_minR50_topN0_hetT0.001_hetC10_hetCount5_bq20/mgatk/vireoIn/clones/variants_init/knn/kparam_3/concat/annotation_clones/DE_TF/conditions_clusters/clust_6' already exists\"\n",
      "Warning message in dir.create(curr.outdir):\n",
      "\"'/data/Mito_Trace/output/pipeline/DUPI_april08_2021/MTblacklist_mtasnucl_Bonly/data/merged/MT/cellr_True/numread_200/filters/minC10_minR50_topN0_hetT0.001_hetC10_hetCount5_bq20/mgatk/vireoIn/clones/variants_init/knn/kparam_3/concat/annotation_clones/DE_TF/conditions_clusters/clust_6/donor0' already exists\"\n"
     ]
    },
    {
     "name": "stdout",
     "output_type": "stream",
     "text": [
      "[1] \"cleaning de\"\n",
      "[1] \"curr tf de results\"\n",
      "                           p_val  avg_diff pct.1 pct.2 p_val_adj p_val_adj_BH\n",
      "SMAD2::SMAD3::SMAD4 0.0003400700 -1.373803 0.000 0.647 0.2152643    0.2152643\n",
      "ELF2                0.0009968393  1.756137 1.000 0.353 0.6309993    0.3154997\n",
      "ELK3                0.0014988457  1.927114 1.000 0.647 0.9487693    0.3162564\n",
      "PPARA::RXRA         0.0022252488  1.117596 0.875 0.235 1.0000000    0.3243738\n",
      "KLF15               0.0026985430  1.111319 1.000 0.294 1.0000000    0.3243738\n",
      "NFATC2              0.0032621976  1.548551 0.875 0.353 1.0000000    0.3243738\n",
      "[1] \"curr.tf rownames\"\n",
      "[1] \"SMAD2::SMAD3::SMAD4\" \"ELF2\"                \"ELK3\"               \n",
      "[4] \"PPARA::RXRA\"         \"KLF15\"               \"NFATC2\"             \n",
      "[1] \"curr significant motifs\"\n",
      "[1] 3 6\n",
      "[1] \"dim response\"\n",
      "[1] 633   6\n",
      "[1] \"response plots\"\n",
      "                           p_val  avg_diff pct.1 pct.2 p_val_adj p_val_adj_BH\n",
      "SMAD2::SMAD3::SMAD4 0.0003400700 -1.373803     0 0.647 0.2152643    0.2152643\n",
      "ELF2                0.0009968393  1.756137     1 0.353 0.6309993    0.3154997\n",
      "ELK3                0.0014988457  1.927114     1 0.647 0.9487693    0.3162564\n"
     ]
    },
    {
     "name": "stderr",
     "output_type": "stream",
     "text": [
      "'magick' package is suggested to install to give better rasterization.\n",
      "\n",
      "Set `ht_opt$message = FALSE` to turn off this message.\n",
      "\n",
      "Saving 6.67 x 6.67 in image\n",
      "\n",
      "Saving 6.67 x 6.67 in image\n",
      "\n",
      "Saving 6.67 x 6.67 in image\n",
      "\n",
      "Saving 6.67 x 6.67 in image\n",
      "\n",
      "Saving 6.67 x 6.67 in image\n",
      "\n",
      "Saving 6.67 x 6.67 in image\n",
      "\n"
     ]
    },
    {
     "name": "stdout",
     "output_type": "stream",
     "text": [
      "[1] \"c\"\n",
      "[1] \"6_1\"\n",
      "[1] \"6_1\"\n",
      "[1] \"curr.clust6\"\n",
      "[1] \"curr.donor1\"\n"
     ]
    },
    {
     "name": "stderr",
     "output_type": "stream",
     "text": [
      "Warning message in dir.create(curr.clust.outdir):\n",
      "\"'/data/Mito_Trace/output/pipeline/DUPI_april08_2021/MTblacklist_mtasnucl_Bonly/data/merged/MT/cellr_True/numread_200/filters/minC10_minR50_topN0_hetT0.001_hetC10_hetCount5_bq20/mgatk/vireoIn/clones/variants_init/knn/kparam_3/concat/annotation_clones/DE_TF/conditions_clusters/clust_6' already exists\"\n",
      "Warning message in dir.create(curr.outdir):\n",
      "\"'/data/Mito_Trace/output/pipeline/DUPI_april08_2021/MTblacklist_mtasnucl_Bonly/data/merged/MT/cellr_True/numread_200/filters/minC10_minR50_topN0_hetT0.001_hetC10_hetCount5_bq20/mgatk/vireoIn/clones/variants_init/knn/kparam_3/concat/annotation_clones/DE_TF/conditions_clusters/clust_6/donor1' already exists\"\n"
     ]
    },
    {
     "name": "stdout",
     "output_type": "stream",
     "text": [
      "[1] \"cleaning de\"\n",
      "[1] \"curr tf de results\"\n",
      "                p_val   avg_diff pct.1 pct.2 p_val_adj p_val_adj_BH\n",
      "ETV2      0.005550532  0.7538324 0.826 0.393         1    0.6617698\n",
      "TBX18     0.005550532  0.8130800 0.957 0.821         1    0.6617698\n",
      "GATA5     0.005550532  0.7491074 0.739 0.464         1    0.6617698\n",
      "PRDM1     0.005550532  0.6812883 0.870 0.500         1    0.6617698\n",
      "CREM      0.005882037 -0.8501021 0.391 0.786         1    0.6617698\n",
      "MAF::NFE2 0.008273322 -0.7824883 0.478 0.643         1    0.6617698\n",
      "[1] \"curr.tf rownames\"\n",
      "[1] \"ETV2\"      \"TBX18\"     \"GATA5\"     \"PRDM1\"     \"CREM\"      \"MAF::NFE2\"\n",
      "[1] \"curr significant motifs\"\n",
      "[1] 3 6\n",
      "[1] \"dim response\"\n",
      "[1] 633   6\n",
      "[1] \"response plots\"\n",
      "            p_val  avg_diff pct.1 pct.2 p_val_adj p_val_adj_BH\n",
      "ETV2  0.005550532 0.7538324 0.826 0.393         1    0.6617698\n",
      "TBX18 0.005550532 0.8130800 0.957 0.821         1    0.6617698\n",
      "GATA5 0.005550532 0.7491074 0.739 0.464         1    0.6617698\n"
     ]
    },
    {
     "name": "stderr",
     "output_type": "stream",
     "text": [
      "'magick' package is suggested to install to give better rasterization.\n",
      "\n",
      "Set `ht_opt$message = FALSE` to turn off this message.\n",
      "\n",
      "Saving 6.67 x 6.67 in image\n",
      "\n",
      "Saving 6.67 x 6.67 in image\n",
      "\n",
      "Saving 6.67 x 6.67 in image\n",
      "\n",
      "Saving 6.67 x 6.67 in image\n",
      "\n",
      "Saving 6.67 x 6.67 in image\n",
      "\n",
      "Saving 6.67 x 6.67 in image\n",
      "\n",
      "Warning message in cor(x, y):\n",
      "\"the standard deviation is zero\"\n",
      "Warning message in cor(x, y):\n",
      "\"the standard deviation is zero\"\n",
      "Warning message in cor(x, y):\n",
      "\"the standard deviation is zero\"\n"
     ]
    },
    {
     "name": "stdout",
     "output_type": "stream",
     "text": [
      "[1] \"c\"\n",
      "[1] \"6_2\"\n",
      "[1] \"6_2\"\n",
      "[1] \"curr.clust6\"\n",
      "[1] \"curr.donor2\"\n"
     ]
    },
    {
     "name": "stderr",
     "output_type": "stream",
     "text": [
      "Warning message in dir.create(curr.clust.outdir):\n",
      "\"'/data/Mito_Trace/output/pipeline/DUPI_april08_2021/MTblacklist_mtasnucl_Bonly/data/merged/MT/cellr_True/numread_200/filters/minC10_minR50_topN0_hetT0.001_hetC10_hetCount5_bq20/mgatk/vireoIn/clones/variants_init/knn/kparam_3/concat/annotation_clones/DE_TF/conditions_clusters/clust_6' already exists\"\n",
      "Warning message in dir.create(curr.outdir):\n",
      "\"'/data/Mito_Trace/output/pipeline/DUPI_april08_2021/MTblacklist_mtasnucl_Bonly/data/merged/MT/cellr_True/numread_200/filters/minC10_minR50_topN0_hetT0.001_hetC10_hetCount5_bq20/mgatk/vireoIn/clones/variants_init/knn/kparam_3/concat/annotation_clones/DE_TF/conditions_clusters/clust_6/donor2' already exists\"\n"
     ]
    },
    {
     "name": "stdout",
     "output_type": "stream",
     "text": [
      "[1] \"cleaning de\"\n",
      "[1] \"curr tf de results\"\n",
      "                p_val avg_diff pct.1 pct.2 p_val_adj p_val_adj_BH\n",
      "EGR1      0.003983944 1.047780 0.421  0.00         1    0.5554525\n",
      "ZBTB7B    0.005136927 2.201750 0.789  0.00         1    0.5554525\n",
      "ZBTB7C    0.008386548 1.801819 0.737  0.00         1    0.5554525\n",
      "ZNF460    0.008386548 1.139685 0.842  0.25         1    0.5554525\n",
      "KLF15     0.010619165 1.235859 0.632  0.00         1    0.5554525\n",
      "JUN::JUNB 0.016721904 1.654098 0.842  0.25         1    0.5554525\n",
      "[1] \"curr.tf rownames\"\n",
      "[1] \"EGR1\"      \"ZBTB7B\"    \"ZBTB7C\"    \"ZNF460\"    \"KLF15\"     \"JUN::JUNB\"\n",
      "[1] \"curr significant motifs\"\n",
      "[1] 3 6\n",
      "[1] \"dim response\"\n",
      "[1] 633   6\n",
      "[1] \"response plots\"\n",
      "             p_val avg_diff pct.1 pct.2 p_val_adj p_val_adj_BH\n",
      "EGR1   0.003983944 1.047780 0.421     0         1    0.5554525\n",
      "ZBTB7B 0.005136927 2.201750 0.789     0         1    0.5554525\n",
      "ZBTB7C 0.008386548 1.801819 0.737     0         1    0.5554525\n"
     ]
    },
    {
     "name": "stderr",
     "output_type": "stream",
     "text": [
      "'magick' package is suggested to install to give better rasterization.\n",
      "\n",
      "Set `ht_opt$message = FALSE` to turn off this message.\n",
      "\n",
      "Saving 6.67 x 6.67 in image\n",
      "\n",
      "Saving 6.67 x 6.67 in image\n",
      "\n",
      "Saving 6.67 x 6.67 in image\n",
      "\n",
      "Saving 6.67 x 6.67 in image\n",
      "\n",
      "Saving 6.67 x 6.67 in image\n",
      "\n",
      "Saving 6.67 x 6.67 in image\n",
      "\n",
      "Warning message in cor(x, y):\n",
      "\"the standard deviation is zero\"\n",
      "Warning message in cor(x, y):\n",
      "\"the standard deviation is zero\"\n",
      "Warning message in cor(x, y):\n",
      "\"the standard deviation is zero\"\n"
     ]
    },
    {
     "name": "stdout",
     "output_type": "stream",
     "text": [
      "[1] \"c\"\n",
      "[1] \"6_3\"\n",
      "[1] \"6_3\"\n",
      "[1] \"curr.clust6\"\n",
      "[1] \"curr.donor3\"\n"
     ]
    },
    {
     "name": "stderr",
     "output_type": "stream",
     "text": [
      "Warning message in dir.create(curr.clust.outdir):\n",
      "\"'/data/Mito_Trace/output/pipeline/DUPI_april08_2021/MTblacklist_mtasnucl_Bonly/data/merged/MT/cellr_True/numread_200/filters/minC10_minR50_topN0_hetT0.001_hetC10_hetCount5_bq20/mgatk/vireoIn/clones/variants_init/knn/kparam_3/concat/annotation_clones/DE_TF/conditions_clusters/clust_6' already exists\"\n",
      "Warning message in dir.create(curr.outdir):\n",
      "\"'/data/Mito_Trace/output/pipeline/DUPI_april08_2021/MTblacklist_mtasnucl_Bonly/data/merged/MT/cellr_True/numread_200/filters/minC10_minR50_topN0_hetT0.001_hetC10_hetCount5_bq20/mgatk/vireoIn/clones/variants_init/knn/kparam_3/concat/annotation_clones/DE_TF/conditions_clusters/clust_6/donor3' already exists\"\n"
     ]
    },
    {
     "name": "stdout",
     "output_type": "stream",
     "text": [
      "[1] \"cleaning de\"\n",
      "[1] \"curr tf de results\"\n",
      "                   p_val   avg_diff pct.1 pct.2  p_val_adj p_val_adj_BH\n",
      "NFYC        0.0000209065  1.2364574 0.905 0.410 0.01323381  0.008595792\n",
      "CTCF        0.0000271589 -1.0864152 0.048 0.381 0.01719158  0.008595792\n",
      "NFYA        0.0001250388  1.1485420 0.762 0.419 0.07914953  0.024688095\n",
      "GRHL2       0.0001856088 -0.8933583 0.238 0.552 0.11749040  0.024688095\n",
      "MZF1(var.2) 0.0002006470 -0.9068434 0.286 0.543 0.12700956  0.024688095\n",
      "ZNF384      0.0002730121 -0.8001351 0.333 0.781 0.17281667  0.024688095\n",
      "[1] \"curr.tf rownames\"\n",
      "[1] \"NFYC\"        \"CTCF\"        \"NFYA\"        \"GRHL2\"       \"MZF1(var.2)\"\n",
      "[6] \"ZNF384\"     \n",
      "[1] \"curr significant motifs\"\n",
      "[1] 31  6\n",
      "[1] \"dim response\"\n",
      "[1] 633   6\n",
      "[1] \"response plots\"\n",
      "            p_val  avg_diff pct.1 pct.2  p_val_adj p_val_adj_BH\n",
      "NFYC 0.0000209065  1.236457 0.905 0.410 0.01323381  0.008595792\n",
      "CTCF 0.0000271589 -1.086415 0.048 0.381 0.01719158  0.008595792\n",
      "NFYA 0.0001250388  1.148542 0.762 0.419 0.07914953  0.024688095\n"
     ]
    },
    {
     "name": "stderr",
     "output_type": "stream",
     "text": [
      "'magick' package is suggested to install to give better rasterization.\n",
      "\n",
      "Set `ht_opt$message = FALSE` to turn off this message.\n",
      "\n",
      "Saving 6.67 x 6.67 in image\n",
      "\n",
      "Saving 6.67 x 6.67 in image\n",
      "\n",
      "Saving 6.67 x 6.67 in image\n",
      "\n",
      "Saving 6.67 x 6.67 in image\n",
      "\n",
      "Saving 6.67 x 6.67 in image\n",
      "\n",
      "Saving 6.67 x 6.67 in image\n",
      "\n"
     ]
    },
    {
     "name": "stdout",
     "output_type": "stream",
     "text": [
      "[1] \"Skipping None\"\n"
     ]
    },
    {
     "name": "stderr",
     "output_type": "stream",
     "text": [
      "'magick' package is suggested to install to give better rasterization.\n",
      "\n",
      "Set `ht_opt$message = FALSE` to turn off this message.\n",
      "\n",
      "Saving 6.67 x 6.67 in image\n",
      "\n",
      "Saving 6.67 x 6.67 in image\n",
      "\n",
      "Saving 6.67 x 6.67 in image\n",
      "\n",
      "Saving 6.67 x 6.67 in image\n",
      "\n",
      "Saving 6.67 x 6.67 in image\n",
      "\n"
     ]
    },
    {
     "name": "stdout",
     "output_type": "stream",
     "text": [
      "[1] \"c\"\n",
      "[1] \"7_0\"\n",
      "[1] \"7_0\"\n",
      "[1] \"curr.clust7\"\n",
      "[1] \"curr.donor0\"\n"
     ]
    },
    {
     "name": "stderr",
     "output_type": "stream",
     "text": [
      "Warning message in dir.create(curr.clust.outdir):\n",
      "\"'/data/Mito_Trace/output/pipeline/DUPI_april08_2021/MTblacklist_mtasnucl_Bonly/data/merged/MT/cellr_True/numread_200/filters/minC10_minR50_topN0_hetT0.001_hetC10_hetCount5_bq20/mgatk/vireoIn/clones/variants_init/knn/kparam_3/concat/annotation_clones/DE_TF/conditions_clusters/clust_7' already exists\"\n",
      "Warning message in dir.create(curr.outdir):\n",
      "\"'/data/Mito_Trace/output/pipeline/DUPI_april08_2021/MTblacklist_mtasnucl_Bonly/data/merged/MT/cellr_True/numread_200/filters/minC10_minR50_topN0_hetT0.001_hetC10_hetCount5_bq20/mgatk/vireoIn/clones/variants_init/knn/kparam_3/concat/annotation_clones/DE_TF/conditions_clusters/clust_7/donor0' already exists\"\n"
     ]
    },
    {
     "name": "stdout",
     "output_type": "stream",
     "text": [
      "[1] \"cleaning de\"\n",
      "[1] \"curr tf de results\"\n",
      "             p_val   avg_diff pct.1 pct.2 p_val_adj p_val_adj_BH\n",
      "ZNF274 0.002812101  0.8564366 0.730 0.083         1    0.8191078\n",
      "HOXB3  0.004730753 -0.9707623 0.378 0.833         1    0.8191078\n",
      "IRF9   0.006298564  0.9866832 0.838 0.333         1    0.8191078\n",
      "IRF8   0.006757386  0.8833611 0.892 0.500         1    0.8191078\n",
      "TWIST1 0.007766151  0.7417064 0.568 0.167         1    0.8191078\n",
      "NFKB2  0.010902036 -0.6959525 0.216 0.417         1    0.8191078\n",
      "[1] \"curr.tf rownames\"\n",
      "[1] \"ZNF274\" \"HOXB3\"  \"IRF9\"   \"IRF8\"   \"TWIST1\" \"NFKB2\" \n",
      "[1] \"curr significant motifs\"\n",
      "[1] 3 6\n",
      "[1] \"dim response\"\n",
      "[1] 633   6\n",
      "[1] \"response plots\"\n",
      "             p_val   avg_diff pct.1 pct.2 p_val_adj p_val_adj_BH\n",
      "ZNF274 0.002812101  0.8564366 0.730 0.083         1    0.8191078\n",
      "HOXB3  0.004730753 -0.9707623 0.378 0.833         1    0.8191078\n",
      "IRF9   0.006298564  0.9866832 0.838 0.333         1    0.8191078\n"
     ]
    },
    {
     "name": "stderr",
     "output_type": "stream",
     "text": [
      "'magick' package is suggested to install to give better rasterization.\n",
      "\n",
      "Set `ht_opt$message = FALSE` to turn off this message.\n",
      "\n",
      "Saving 6.67 x 6.67 in image\n",
      "\n",
      "Saving 6.67 x 6.67 in image\n",
      "\n",
      "Saving 6.67 x 6.67 in image\n",
      "\n",
      "Saving 6.67 x 6.67 in image\n",
      "\n",
      "Saving 6.67 x 6.67 in image\n",
      "\n",
      "Saving 6.67 x 6.67 in image\n",
      "\n",
      "Warning message in cor(x, y):\n",
      "\"the standard deviation is zero\"\n",
      "Warning message in cor(x, y):\n",
      "\"the standard deviation is zero\"\n",
      "Warning message in cor(x, y):\n",
      "\"the standard deviation is zero\"\n"
     ]
    },
    {
     "name": "stdout",
     "output_type": "stream",
     "text": [
      "[1] \"c\"\n",
      "[1] \"7_1\"\n",
      "[1] \"7_1\"\n",
      "Error in WhichCells.Seurat(object = x, cells = cells, idents = idents,  : \n",
      "  Cannot find the following identities in the object: postB_7_1\n",
      "[1] \"c\"\n",
      "[1] \"7_2\"\n",
      "[1] \"7_2\"\n",
      "[1] \"curr.clust7\"\n",
      "[1] \"curr.donor2\"\n"
     ]
    },
    {
     "name": "stderr",
     "output_type": "stream",
     "text": [
      "Warning message in dir.create(curr.clust.outdir):\n",
      "\"'/data/Mito_Trace/output/pipeline/DUPI_april08_2021/MTblacklist_mtasnucl_Bonly/data/merged/MT/cellr_True/numread_200/filters/minC10_minR50_topN0_hetT0.001_hetC10_hetCount5_bq20/mgatk/vireoIn/clones/variants_init/knn/kparam_3/concat/annotation_clones/DE_TF/conditions_clusters/clust_7' already exists\"\n",
      "Warning message in dir.create(curr.outdir):\n",
      "\"'/data/Mito_Trace/output/pipeline/DUPI_april08_2021/MTblacklist_mtasnucl_Bonly/data/merged/MT/cellr_True/numread_200/filters/minC10_minR50_topN0_hetT0.001_hetC10_hetCount5_bq20/mgatk/vireoIn/clones/variants_init/knn/kparam_3/concat/annotation_clones/DE_TF/conditions_clusters/clust_7/donor2' already exists\"\n"
     ]
    },
    {
     "name": "stdout",
     "output_type": "stream",
     "text": [
      "[1] \"cleaning de\"\n",
      "[1] \"curr tf de results\"\n",
      "            p_val   avg_diff pct.1 pct.2 p_val_adj p_val_adj_BH\n",
      "INSM1  0.05182993 -0.7976161 0.000  0.25         1      0.97621\n",
      "SREBF1 0.05182993  1.6287115 1.000  0.25         1      0.97621\n",
      "HNF1A  0.05182993 -0.9102481 0.000  1.00         1      0.97621\n",
      "NKX6-2 0.05182993 -0.8555106 0.333  1.00         1      0.97621\n",
      "ESR1   0.05182993 -1.3194001 0.000  1.00         1      0.97621\n",
      "ZBED1  0.05182993  1.4015782 1.000  0.25         1      0.97621\n",
      "[1] \"curr.tf rownames\"\n",
      "[1] \"INSM1\"  \"SREBF1\" \"HNF1A\"  \"NKX6-2\" \"ESR1\"   \"ZBED1\" \n",
      "[1] \"curr significant motifs\"\n",
      "[1] 3 6\n",
      "[1] \"dim response\"\n",
      "[1] 621   6\n",
      "[1] \"response plots\"\n",
      "            p_val   avg_diff pct.1 pct.2 p_val_adj p_val_adj_BH\n",
      "INSM1  0.05182993 -0.7976161     0  0.25         1      0.97621\n",
      "SREBF1 0.05182993  1.6287115     1  0.25         1      0.97621\n",
      "HNF1A  0.05182993 -0.9102481     0  1.00         1      0.97621\n"
     ]
    },
    {
     "name": "stderr",
     "output_type": "stream",
     "text": [
      "'magick' package is suggested to install to give better rasterization.\n",
      "\n",
      "Set `ht_opt$message = FALSE` to turn off this message.\n",
      "\n",
      "Saving 6.67 x 6.67 in image\n",
      "\n",
      "Saving 6.67 x 6.67 in image\n",
      "\n",
      "Saving 6.67 x 6.67 in image\n",
      "\n",
      "Saving 6.67 x 6.67 in image\n",
      "\n",
      "Saving 6.67 x 6.67 in image\n",
      "\n",
      "Saving 6.67 x 6.67 in image\n",
      "\n",
      "Warning message in cor(x, y):\n",
      "\"the standard deviation is zero\"\n",
      "Warning message in cor(x, y):\n",
      "\"the standard deviation is zero\"\n",
      "Warning message in cor(x, y):\n",
      "\"the standard deviation is zero\"\n"
     ]
    },
    {
     "name": "stdout",
     "output_type": "stream",
     "text": [
      "[1] \"c\"\n",
      "[1] \"7_3\"\n",
      "[1] \"7_3\"\n",
      "[1] \"curr.clust7\"\n",
      "[1] \"curr.donor3\"\n"
     ]
    },
    {
     "name": "stderr",
     "output_type": "stream",
     "text": [
      "Warning message in dir.create(curr.clust.outdir):\n",
      "\"'/data/Mito_Trace/output/pipeline/DUPI_april08_2021/MTblacklist_mtasnucl_Bonly/data/merged/MT/cellr_True/numread_200/filters/minC10_minR50_topN0_hetT0.001_hetC10_hetCount5_bq20/mgatk/vireoIn/clones/variants_init/knn/kparam_3/concat/annotation_clones/DE_TF/conditions_clusters/clust_7' already exists\"\n",
      "Warning message in dir.create(curr.outdir):\n",
      "\"'/data/Mito_Trace/output/pipeline/DUPI_april08_2021/MTblacklist_mtasnucl_Bonly/data/merged/MT/cellr_True/numread_200/filters/minC10_minR50_topN0_hetT0.001_hetC10_hetCount5_bq20/mgatk/vireoIn/clones/variants_init/knn/kparam_3/concat/annotation_clones/DE_TF/conditions_clusters/clust_7/donor3' already exists\"\n"
     ]
    },
    {
     "name": "stdout",
     "output_type": "stream",
     "text": [
      "[1] \"cleaning de\"\n",
      "[1] \"curr tf de results\"\n",
      "                   p_val  avg_diff pct.1 pct.2  p_val_adj p_val_adj_BH\n",
      "CTCF        2.005908e-05 -1.278502 0.074  0.32 0.01269740  0.004080117\n",
      "FOSL2::JUND 3.181849e-05  1.389972 0.963  0.92 0.02014110  0.004080117\n",
      "FOSL2::JUNB 3.287146e-05  1.324654 0.963  0.96 0.02080764  0.004080117\n",
      "FOSL1::JUND 3.507753e-05  1.352684 0.975  0.88 0.02220408  0.004080117\n",
      "FOSB::JUNB  4.122416e-05  1.332967 0.963  0.96 0.02609489  0.004080117\n",
      "BATF        4.395822e-05  1.300246 0.975  0.84 0.02782555  0.004080117\n",
      "[1] \"curr.tf rownames\"\n",
      "[1] \"CTCF\"        \"FOSL2::JUND\" \"FOSL2::JUNB\" \"FOSL1::JUND\" \"FOSB::JUNB\" \n",
      "[6] \"BATF\"       \n",
      "[1] \"curr significant motifs\"\n",
      "[1] 36  6\n",
      "[1] \"dim response\"\n",
      "[1] 633   6\n",
      "[1] \"response plots\"\n",
      "                   p_val  avg_diff pct.1 pct.2  p_val_adj p_val_adj_BH\n",
      "CTCF        2.005908e-05 -1.278502 0.074  0.32 0.01269740  0.004080117\n",
      "FOSL2::JUND 3.181849e-05  1.389972 0.963  0.92 0.02014110  0.004080117\n",
      "FOSL2::JUNB 3.287146e-05  1.324654 0.963  0.96 0.02080764  0.004080117\n"
     ]
    },
    {
     "name": "stderr",
     "output_type": "stream",
     "text": [
      "'magick' package is suggested to install to give better rasterization.\n",
      "\n",
      "Set `ht_opt$message = FALSE` to turn off this message.\n",
      "\n",
      "Saving 6.67 x 6.67 in image\n",
      "\n",
      "Saving 6.67 x 6.67 in image\n",
      "\n",
      "Saving 6.67 x 6.67 in image\n",
      "\n",
      "Saving 6.67 x 6.67 in image\n",
      "\n",
      "Saving 6.67 x 6.67 in image\n",
      "\n",
      "Saving 6.67 x 6.67 in image\n",
      "\n"
     ]
    },
    {
     "name": "stdout",
     "output_type": "stream",
     "text": [
      "[1] \"Skipping None\"\n"
     ]
    },
    {
     "name": "stderr",
     "output_type": "stream",
     "text": [
      "'magick' package is suggested to install to give better rasterization.\n",
      "\n",
      "Set `ht_opt$message = FALSE` to turn off this message.\n",
      "\n",
      "Saving 6.67 x 6.67 in image\n",
      "\n",
      "Saving 6.67 x 6.67 in image\n",
      "\n",
      "Saving 6.67 x 6.67 in image\n",
      "\n",
      "Warning message:\n",
      "\"Groups with fewer than two data points have been dropped.\"\n",
      "Warning message:\n",
      "\"Groups with fewer than two data points have been dropped.\"\n",
      "Warning message:\n",
      "\"Groups with fewer than two data points have been dropped.\"\n",
      "Warning message:\n",
      "\"Groups with fewer than two data points have been dropped.\"\n",
      "Warning message:\n",
      "\"Groups with fewer than two data points have been dropped.\"\n",
      "Warning message:\n",
      "\"Groups with fewer than two data points have been dropped.\"\n",
      "Warning message:\n",
      "\"Groups with fewer than two data points have been dropped.\"\n",
      "Warning message:\n",
      "\"Groups with fewer than two data points have been dropped.\"\n",
      "Warning message:\n",
      "\"Groups with fewer than two data points have been dropped.\"\n",
      "Warning message:\n",
      "\"Groups with fewer than two data points have been dropped.\"\n",
      "Saving 6.67 x 6.67 in image\n",
      "\n",
      "Saving 6.67 x 6.67 in image\n",
      "\n",
      "Warning message:\n",
      "\"Groups with fewer than two data points have been dropped.\"\n",
      "Warning message:\n",
      "\"Groups with fewer than two data points have been dropped.\"\n",
      "Warning message:\n",
      "\"Groups with fewer than two data points have been dropped.\"\n",
      "Warning message:\n",
      "\"Groups with fewer than two data points have been dropped.\"\n",
      "Warning message:\n",
      "\"Groups with fewer than two data points have been dropped.\"\n",
      "Warning message:\n",
      "\"Groups with fewer than two data points have been dropped.\"\n",
      "Warning message:\n",
      "\"Groups with fewer than two data points have been dropped.\"\n",
      "Warning message:\n",
      "\"Groups with fewer than two data points have been dropped.\"\n",
      "Warning message:\n",
      "\"Groups with fewer than two data points have been dropped.\"\n",
      "Warning message:\n",
      "\"Groups with fewer than two data points have been dropped.\"\n"
     ]
    },
    {
     "name": "stdout",
     "output_type": "stream",
     "text": [
      "[1] \"c\"\n",
      "[1] \"8_0\"\n",
      "[1] \"8_0\"\n",
      "[1] \"curr.clust8\"\n",
      "[1] \"curr.donor0\"\n"
     ]
    },
    {
     "name": "stderr",
     "output_type": "stream",
     "text": [
      "Warning message in dir.create(curr.clust.outdir):\n",
      "\"'/data/Mito_Trace/output/pipeline/DUPI_april08_2021/MTblacklist_mtasnucl_Bonly/data/merged/MT/cellr_True/numread_200/filters/minC10_minR50_topN0_hetT0.001_hetC10_hetCount5_bq20/mgatk/vireoIn/clones/variants_init/knn/kparam_3/concat/annotation_clones/DE_TF/conditions_clusters/clust_8' already exists\"\n",
      "Warning message in dir.create(curr.outdir):\n",
      "\"'/data/Mito_Trace/output/pipeline/DUPI_april08_2021/MTblacklist_mtasnucl_Bonly/data/merged/MT/cellr_True/numread_200/filters/minC10_minR50_topN0_hetT0.001_hetC10_hetCount5_bq20/mgatk/vireoIn/clones/variants_init/knn/kparam_3/concat/annotation_clones/DE_TF/conditions_clusters/clust_8/donor0' already exists\"\n"
     ]
    },
    {
     "name": "stdout",
     "output_type": "stream",
     "text": [
      "[1] \"cleaning de\"\n",
      "[1] \"curr tf de results\"\n",
      "             p_val  avg_diff pct.1 pct.2 p_val_adj p_val_adj_BH\n",
      "RORC   0.002999752 -1.453732 0.067   0.6         1    0.4505159\n",
      "CEBPE  0.003970750 -1.488925 0.133   0.8         1    0.4505159\n",
      "NRF1   0.005219119 -1.279814 0.667   1.0         1    0.4505159\n",
      "CEBPB  0.005219119 -1.301843 0.067   0.6         1    0.4505159\n",
      "PHOX2A 0.006811918 -1.355796 0.400   1.0         1    0.4505159\n",
      "HNF4G  0.006811918 -2.027218 0.067   0.8         1    0.4505159\n",
      "[1] \"curr.tf rownames\"\n",
      "[1] \"RORC\"   \"CEBPE\"  \"NRF1\"   \"CEBPB\"  \"PHOX2A\" \"HNF4G\" \n",
      "[1] \"curr significant motifs\"\n",
      "[1] 3 6\n",
      "[1] \"dim response\"\n",
      "[1] 607   6\n",
      "[1] \"response plots\"\n",
      "            p_val  avg_diff pct.1 pct.2 p_val_adj p_val_adj_BH\n",
      "RORC  0.002999752 -1.453732 0.067   0.6         1    0.4505159\n",
      "CEBPE 0.003970750 -1.488925 0.133   0.8         1    0.4505159\n",
      "NRF1  0.005219119 -1.279814 0.667   1.0         1    0.4505159\n"
     ]
    },
    {
     "name": "stderr",
     "output_type": "stream",
     "text": [
      "'magick' package is suggested to install to give better rasterization.\n",
      "\n",
      "Set `ht_opt$message = FALSE` to turn off this message.\n",
      "\n",
      "Saving 6.67 x 6.67 in image\n",
      "\n",
      "Saving 6.67 x 6.67 in image\n",
      "\n",
      "Saving 6.67 x 6.67 in image\n",
      "\n",
      "Saving 6.67 x 6.67 in image\n",
      "\n",
      "Saving 6.67 x 6.67 in image\n",
      "\n",
      "Saving 6.67 x 6.67 in image\n",
      "\n",
      "Warning message in cor(x, y):\n",
      "\"the standard deviation is zero\"\n",
      "Warning message in cor(x, y):\n",
      "\"the standard deviation is zero\"\n",
      "Warning message in cor(x, y):\n",
      "\"the standard deviation is zero\"\n"
     ]
    },
    {
     "name": "stdout",
     "output_type": "stream",
     "text": [
      "[1] \"c\"\n",
      "[1] \"8_1\"\n",
      "[1] \"8_1\"\n",
      "[1] \"curr.clust8\"\n",
      "[1] \"curr.donor1\"\n"
     ]
    },
    {
     "name": "stderr",
     "output_type": "stream",
     "text": [
      "Warning message in dir.create(curr.clust.outdir):\n",
      "\"'/data/Mito_Trace/output/pipeline/DUPI_april08_2021/MTblacklist_mtasnucl_Bonly/data/merged/MT/cellr_True/numread_200/filters/minC10_minR50_topN0_hetT0.001_hetC10_hetCount5_bq20/mgatk/vireoIn/clones/variants_init/knn/kparam_3/concat/annotation_clones/DE_TF/conditions_clusters/clust_8' already exists\"\n",
      "Warning message in dir.create(curr.outdir):\n",
      "\"'/data/Mito_Trace/output/pipeline/DUPI_april08_2021/MTblacklist_mtasnucl_Bonly/data/merged/MT/cellr_True/numread_200/filters/minC10_minR50_topN0_hetT0.001_hetC10_hetCount5_bq20/mgatk/vireoIn/clones/variants_init/knn/kparam_3/concat/annotation_clones/DE_TF/conditions_clusters/clust_8/donor1' already exists\"\n"
     ]
    },
    {
     "name": "stdout",
     "output_type": "stream",
     "text": [
      "[1] \"cleaning de\"\n",
      "[1] \"curr tf de results\"\n",
      "                   p_val  avg_diff pct.1 pct.2 p_val_adj p_val_adj_BH\n",
      "MLX          0.009801427  1.990391 0.571     0         1    0.8163106\n",
      "MLXIPL       0.009801427  2.148146 0.714     0         1    0.8163106\n",
      "ARNT2        0.009801427  1.809112 0.714     0         1    0.8163106\n",
      "TFAP4(var.2) 0.009801427  1.443599 0.214     0         1    0.8163106\n",
      "BHLHE41      0.014019277  1.919213 0.857     0         1    0.8163106\n",
      "HOXC11       0.014019277 -1.329364 0.643     1         1    0.8163106\n",
      "[1] \"curr.tf rownames\"\n",
      "[1] \"MLX\"          \"MLXIPL\"       \"ARNT2\"        \"TFAP4(var.2)\" \"BHLHE41\"     \n",
      "[6] \"HOXC11\"      \n",
      "[1] \"curr significant motifs\"\n",
      "[1] 3 6\n",
      "[1] \"dim response\"\n",
      "[1] 616   6\n",
      "[1] \"response plots\"\n",
      "             p_val avg_diff pct.1 pct.2 p_val_adj p_val_adj_BH\n",
      "MLX    0.009801427 1.990391 0.571     0         1    0.8163106\n",
      "MLXIPL 0.009801427 2.148146 0.714     0         1    0.8163106\n",
      "ARNT2  0.009801427 1.809112 0.714     0         1    0.8163106\n"
     ]
    },
    {
     "name": "stderr",
     "output_type": "stream",
     "text": [
      "'magick' package is suggested to install to give better rasterization.\n",
      "\n",
      "Set `ht_opt$message = FALSE` to turn off this message.\n",
      "\n",
      "Saving 6.67 x 6.67 in image\n",
      "\n",
      "Saving 6.67 x 6.67 in image\n",
      "\n",
      "Saving 6.67 x 6.67 in image\n",
      "\n",
      "Saving 6.67 x 6.67 in image\n",
      "\n",
      "Saving 6.67 x 6.67 in image\n",
      "\n",
      "Saving 6.67 x 6.67 in image\n",
      "\n",
      "Warning message in cor(x, y):\n",
      "\"the standard deviation is zero\"\n",
      "Warning message in cor(x, y):\n",
      "\"the standard deviation is zero\"\n",
      "Warning message in cor(x, y):\n",
      "\"the standard deviation is zero\"\n"
     ]
    },
    {
     "name": "stdout",
     "output_type": "stream",
     "text": [
      "[1] \"c\"\n",
      "[1] \"8_2\"\n",
      "[1] \"8_2\"\n",
      "Error in WhichCells.Seurat(object = x, cells = cells, idents = idents,  : \n",
      "  Cannot find the following identities in the object: postB_8_2\n",
      "[1] \"c\"\n",
      "[1] \"8_3\"\n",
      "[1] \"8_3\"\n",
      "[1] \"curr.clust8\"\n",
      "[1] \"curr.donor3\"\n"
     ]
    },
    {
     "name": "stderr",
     "output_type": "stream",
     "text": [
      "Warning message in dir.create(curr.clust.outdir):\n",
      "\"'/data/Mito_Trace/output/pipeline/DUPI_april08_2021/MTblacklist_mtasnucl_Bonly/data/merged/MT/cellr_True/numread_200/filters/minC10_minR50_topN0_hetT0.001_hetC10_hetCount5_bq20/mgatk/vireoIn/clones/variants_init/knn/kparam_3/concat/annotation_clones/DE_TF/conditions_clusters/clust_8' already exists\"\n",
      "Warning message in dir.create(curr.outdir):\n",
      "\"'/data/Mito_Trace/output/pipeline/DUPI_april08_2021/MTblacklist_mtasnucl_Bonly/data/merged/MT/cellr_True/numread_200/filters/minC10_minR50_topN0_hetT0.001_hetC10_hetCount5_bq20/mgatk/vireoIn/clones/variants_init/knn/kparam_3/concat/annotation_clones/DE_TF/conditions_clusters/clust_8/donor3' already exists\"\n"
     ]
    },
    {
     "name": "stdout",
     "output_type": "stream",
     "text": [
      "[1] \"cleaning de\"\n",
      "[1] \"curr tf de results\"\n",
      "             p_val   avg_diff pct.1 pct.2 p_val_adj p_val_adj_BH\n",
      "SMAD5  0.001316156 -1.0930161 0.222 0.696 0.8331270     0.304247\n",
      "EVX1   0.001429668 -1.2483837 0.000 0.413 0.9049797     0.304247\n",
      "TCF7L1 0.002144937  1.0418404 1.000 0.761 1.0000000     0.304247\n",
      "DBP    0.003055347 -0.9876577 0.111 0.630 1.0000000     0.304247\n",
      "CDX2   0.003429604 -0.8635821 0.000 0.489 1.0000000     0.304247\n",
      "ETV1   0.003429604  1.2306147 0.667 0.272 1.0000000     0.304247\n",
      "[1] \"curr.tf rownames\"\n",
      "[1] \"SMAD5\"  \"EVX1\"   \"TCF7L1\" \"DBP\"    \"CDX2\"   \"ETV1\"  \n",
      "[1] \"curr significant motifs\"\n",
      "[1] 3 6\n",
      "[1] \"dim response\"\n",
      "[1] 633   6\n",
      "[1] \"response plots\"\n",
      "             p_val  avg_diff pct.1 pct.2 p_val_adj p_val_adj_BH\n",
      "SMAD5  0.001316156 -1.093016 0.222 0.696 0.8331270     0.304247\n",
      "EVX1   0.001429668 -1.248384 0.000 0.413 0.9049797     0.304247\n",
      "TCF7L1 0.002144937  1.041840 1.000 0.761 1.0000000     0.304247\n"
     ]
    },
    {
     "name": "stderr",
     "output_type": "stream",
     "text": [
      "'magick' package is suggested to install to give better rasterization.\n",
      "\n",
      "Set `ht_opt$message = FALSE` to turn off this message.\n",
      "\n",
      "Saving 6.67 x 6.67 in image\n",
      "\n",
      "Saving 6.67 x 6.67 in image\n",
      "\n",
      "Saving 6.67 x 6.67 in image\n",
      "\n",
      "Saving 6.67 x 6.67 in image\n",
      "\n",
      "Saving 6.67 x 6.67 in image\n",
      "\n",
      "Saving 6.67 x 6.67 in image\n",
      "\n"
     ]
    },
    {
     "name": "stdout",
     "output_type": "stream",
     "text": [
      "[1] \"Skipping None\"\n"
     ]
    },
    {
     "name": "stderr",
     "output_type": "stream",
     "text": [
      "'magick' package is suggested to install to give better rasterization.\n",
      "\n",
      "Set `ht_opt$message = FALSE` to turn off this message.\n",
      "\n",
      "Saving 6.67 x 6.67 in image\n",
      "\n",
      "Saving 6.67 x 6.67 in image\n",
      "\n",
      "Saving 6.67 x 6.67 in image\n",
      "\n",
      "Saving 6.67 x 6.67 in image\n",
      "\n",
      "Saving 6.67 x 6.67 in image\n",
      "\n"
     ]
    },
    {
     "name": "stdout",
     "output_type": "stream",
     "text": [
      "[1] \"c\"\n",
      "[1] \"9_0\"\n",
      "[1] \"9_0\"\n",
      "[1] \"curr.clust9\"\n",
      "[1] \"curr.donor0\"\n"
     ]
    },
    {
     "name": "stderr",
     "output_type": "stream",
     "text": [
      "Warning message in dir.create(curr.clust.outdir):\n",
      "\"'/data/Mito_Trace/output/pipeline/DUPI_april08_2021/MTblacklist_mtasnucl_Bonly/data/merged/MT/cellr_True/numread_200/filters/minC10_minR50_topN0_hetT0.001_hetC10_hetCount5_bq20/mgatk/vireoIn/clones/variants_init/knn/kparam_3/concat/annotation_clones/DE_TF/conditions_clusters/clust_9' already exists\"\n",
      "Warning message in dir.create(curr.outdir):\n",
      "\"'/data/Mito_Trace/output/pipeline/DUPI_april08_2021/MTblacklist_mtasnucl_Bonly/data/merged/MT/cellr_True/numread_200/filters/minC10_minR50_topN0_hetT0.001_hetC10_hetCount5_bq20/mgatk/vireoIn/clones/variants_init/knn/kparam_3/concat/annotation_clones/DE_TF/conditions_clusters/clust_9/donor0' already exists\"\n"
     ]
    },
    {
     "name": "stdout",
     "output_type": "stream",
     "text": [
      "[1] \"cleaning de\"\n",
      "[1] \"curr tf de results\"\n",
      "                    p_val  avg_diff pct.1 pct.2 p_val_adj p_val_adj_BH\n",
      "IRF7          0.004812922  1.455561   1.0 0.348         1    0.9186976\n",
      "GSC           0.006948023  1.339878   1.0 0.348         1    0.9186976\n",
      "TFAP2C(var.2) 0.008306756  1.307981   1.0 0.435         1    0.9186976\n",
      "GSC2          0.009898494  1.260214   1.0 0.391         1    0.9186976\n",
      "HES1          0.009898494  1.128765   1.0 0.348         1    0.9186976\n",
      "ZNF528        0.011756497 -1.381160   0.2 0.609         1    0.9186976\n",
      "[1] \"curr.tf rownames\"\n",
      "[1] \"IRF7\"          \"GSC\"           \"TFAP2C(var.2)\" \"GSC2\"         \n",
      "[5] \"HES1\"          \"ZNF528\"       \n",
      "[1] \"curr significant motifs\"\n",
      "[1] 3 6\n",
      "[1] \"dim response\"\n",
      "[1] 633   6\n",
      "[1] \"response plots\"\n",
      "                    p_val avg_diff pct.1 pct.2 p_val_adj p_val_adj_BH\n",
      "IRF7          0.004812922 1.455561     1 0.348         1    0.9186976\n",
      "GSC           0.006948023 1.339878     1 0.348         1    0.9186976\n",
      "TFAP2C(var.2) 0.008306756 1.307981     1 0.435         1    0.9186976\n"
     ]
    },
    {
     "name": "stderr",
     "output_type": "stream",
     "text": [
      "'magick' package is suggested to install to give better rasterization.\n",
      "\n",
      "Set `ht_opt$message = FALSE` to turn off this message.\n",
      "\n",
      "Saving 6.67 x 6.67 in image\n",
      "\n",
      "Saving 6.67 x 6.67 in image\n",
      "\n",
      "Saving 6.67 x 6.67 in image\n",
      "\n",
      "Saving 6.67 x 6.67 in image\n",
      "\n",
      "Saving 6.67 x 6.67 in image\n",
      "\n",
      "Saving 6.67 x 6.67 in image\n",
      "\n",
      "Warning message in cor(x, y):\n",
      "\"the standard deviation is zero\"\n",
      "Warning message in cor(x, y):\n",
      "\"the standard deviation is zero\"\n",
      "Warning message in cor(x, y):\n",
      "\"the standard deviation is zero\"\n"
     ]
    },
    {
     "name": "stdout",
     "output_type": "stream",
     "text": [
      "[1] \"c\"\n",
      "[1] \"9_1\"\n",
      "[1] \"9_1\"\n",
      "[1] \"curr.clust9\"\n",
      "[1] \"curr.donor1\"\n"
     ]
    },
    {
     "name": "stderr",
     "output_type": "stream",
     "text": [
      "Warning message in dir.create(curr.clust.outdir):\n",
      "\"'/data/Mito_Trace/output/pipeline/DUPI_april08_2021/MTblacklist_mtasnucl_Bonly/data/merged/MT/cellr_True/numread_200/filters/minC10_minR50_topN0_hetT0.001_hetC10_hetCount5_bq20/mgatk/vireoIn/clones/variants_init/knn/kparam_3/concat/annotation_clones/DE_TF/conditions_clusters/clust_9' already exists\"\n",
      "Warning message in dir.create(curr.outdir):\n",
      "\"'/data/Mito_Trace/output/pipeline/DUPI_april08_2021/MTblacklist_mtasnucl_Bonly/data/merged/MT/cellr_True/numread_200/filters/minC10_minR50_topN0_hetT0.001_hetC10_hetCount5_bq20/mgatk/vireoIn/clones/variants_init/knn/kparam_3/concat/annotation_clones/DE_TF/conditions_clusters/clust_9/donor1' already exists\"\n"
     ]
    },
    {
     "name": "stdout",
     "output_type": "stream",
     "text": [
      "[1] \"cleaning de\"\n",
      "[1] \"curr tf de results\"\n",
      "                 p_val   avg_diff pct.1 pct.2 p_val_adj p_val_adj_BH\n",
      "GATA2      0.004345548 -1.1631140 0.455   1.0         1    0.7964851\n",
      "KLF14      0.006706276  1.1448448 0.727   0.3         1    0.7964851\n",
      "ZNF682     0.006706276  1.0036860 0.818   0.3         1    0.7964851\n",
      "TCFL5      0.006706276 -0.9224892 0.182   0.4         1    0.7964851\n",
      "SP1        0.008274216  0.9104461 0.636   0.2         1    0.7964851\n",
      "TAL1::TCF3 0.010162439 -1.2518765 0.273   0.5         1    0.7964851\n",
      "[1] \"curr.tf rownames\"\n",
      "[1] \"GATA2\"      \"KLF14\"      \"ZNF682\"     \"TCFL5\"      \"SP1\"       \n",
      "[6] \"TAL1::TCF3\"\n",
      "[1] \"curr significant motifs\"\n",
      "[1] 3 6\n",
      "[1] \"dim response\"\n",
      "[1] 632   6\n",
      "[1] \"response plots\"\n",
      "             p_val  avg_diff pct.1 pct.2 p_val_adj p_val_adj_BH\n",
      "GATA2  0.004345548 -1.163114 0.455   1.0         1    0.7964851\n",
      "KLF14  0.006706276  1.144845 0.727   0.3         1    0.7964851\n",
      "ZNF682 0.006706276  1.003686 0.818   0.3         1    0.7964851\n"
     ]
    },
    {
     "name": "stderr",
     "output_type": "stream",
     "text": [
      "'magick' package is suggested to install to give better rasterization.\n",
      "\n",
      "Set `ht_opt$message = FALSE` to turn off this message.\n",
      "\n",
      "Saving 6.67 x 6.67 in image\n",
      "\n",
      "Saving 6.67 x 6.67 in image\n",
      "\n",
      "Saving 6.67 x 6.67 in image\n",
      "\n",
      "Saving 6.67 x 6.67 in image\n",
      "\n",
      "Saving 6.67 x 6.67 in image\n",
      "\n",
      "Saving 6.67 x 6.67 in image\n",
      "\n",
      "Warning message in cor(x, y):\n",
      "\"the standard deviation is zero\"\n",
      "Warning message in cor(x, y):\n",
      "\"the standard deviation is zero\"\n",
      "Warning message in cor(x, y):\n",
      "\"the standard deviation is zero\"\n"
     ]
    },
    {
     "name": "stdout",
     "output_type": "stream",
     "text": [
      "[1] \"c\"\n",
      "[1] \"9_2\"\n",
      "[1] \"9_2\"\n",
      "[1] \"curr.clust9\"\n",
      "[1] \"curr.donor2\"\n"
     ]
    },
    {
     "name": "stderr",
     "output_type": "stream",
     "text": [
      "Warning message in dir.create(curr.clust.outdir):\n",
      "\"'/data/Mito_Trace/output/pipeline/DUPI_april08_2021/MTblacklist_mtasnucl_Bonly/data/merged/MT/cellr_True/numread_200/filters/minC10_minR50_topN0_hetT0.001_hetC10_hetCount5_bq20/mgatk/vireoIn/clones/variants_init/knn/kparam_3/concat/annotation_clones/DE_TF/conditions_clusters/clust_9' already exists\"\n",
      "Warning message in dir.create(curr.outdir):\n",
      "\"'/data/Mito_Trace/output/pipeline/DUPI_april08_2021/MTblacklist_mtasnucl_Bonly/data/merged/MT/cellr_True/numread_200/filters/minC10_minR50_topN0_hetT0.001_hetC10_hetCount5_bq20/mgatk/vireoIn/clones/variants_init/knn/kparam_3/concat/annotation_clones/DE_TF/conditions_clusters/clust_9/donor2' already exists\"\n"
     ]
    },
    {
     "name": "stdout",
     "output_type": "stream",
     "text": [
      "[1] \"cleaning de\"\n",
      "[1] \"curr tf de results\"\n",
      "            p_val avg_diff pct.1 pct.2 p_val_adj p_val_adj_BH\n",
      "KLF6 0.0007363404 1.040007 0.917 0.111 0.4661035    0.1406453\n",
      "SP2  0.0009510827 1.132024 0.667 0.000 0.6020354    0.1406453\n",
      "KLF5 0.0015643294 1.102662 0.833 0.111 0.9902205    0.1406453\n",
      "SP8  0.0019920810 1.019111 0.833 0.222 1.0000000    0.1406453\n",
      "ZIC4 0.0019920810 1.138136 0.750 0.333 1.0000000    0.1406453\n",
      "SP3  0.0019920810 1.099200 0.750 0.222 1.0000000    0.1406453\n",
      "[1] \"curr.tf rownames\"\n",
      "[1] \"KLF6\" \"SP2\"  \"KLF5\" \"SP8\"  \"ZIC4\" \"SP3\" \n",
      "[1] \"curr significant motifs\"\n",
      "[1] 3 6\n",
      "[1] \"dim response\"\n",
      "[1] 633   6\n",
      "[1] \"response plots\"\n",
      "            p_val avg_diff pct.1 pct.2 p_val_adj p_val_adj_BH\n",
      "KLF6 0.0007363404 1.040007 0.917 0.111 0.4661035    0.1406453\n",
      "SP2  0.0009510827 1.132024 0.667 0.000 0.6020354    0.1406453\n",
      "KLF5 0.0015643294 1.102662 0.833 0.111 0.9902205    0.1406453\n"
     ]
    },
    {
     "name": "stderr",
     "output_type": "stream",
     "text": [
      "'magick' package is suggested to install to give better rasterization.\n",
      "\n",
      "Set `ht_opt$message = FALSE` to turn off this message.\n",
      "\n",
      "Saving 6.67 x 6.67 in image\n",
      "\n",
      "Saving 6.67 x 6.67 in image\n",
      "\n",
      "Saving 6.67 x 6.67 in image\n",
      "\n",
      "Saving 6.67 x 6.67 in image\n",
      "\n",
      "Saving 6.67 x 6.67 in image\n",
      "\n",
      "Saving 6.67 x 6.67 in image\n",
      "\n"
     ]
    },
    {
     "name": "stdout",
     "output_type": "stream",
     "text": [
      "[1] \"c\"\n",
      "[1] \"9_3\"\n",
      "[1] \"9_3\"\n",
      "[1] \"curr.clust9\"\n",
      "[1] \"curr.donor3\"\n"
     ]
    },
    {
     "name": "stderr",
     "output_type": "stream",
     "text": [
      "Warning message in dir.create(curr.clust.outdir):\n",
      "\"'/data/Mito_Trace/output/pipeline/DUPI_april08_2021/MTblacklist_mtasnucl_Bonly/data/merged/MT/cellr_True/numread_200/filters/minC10_minR50_topN0_hetT0.001_hetC10_hetCount5_bq20/mgatk/vireoIn/clones/variants_init/knn/kparam_3/concat/annotation_clones/DE_TF/conditions_clusters/clust_9' already exists\"\n",
      "Warning message in dir.create(curr.outdir):\n",
      "\"'/data/Mito_Trace/output/pipeline/DUPI_april08_2021/MTblacklist_mtasnucl_Bonly/data/merged/MT/cellr_True/numread_200/filters/minC10_minR50_topN0_hetT0.001_hetC10_hetCount5_bq20/mgatk/vireoIn/clones/variants_init/knn/kparam_3/concat/annotation_clones/DE_TF/conditions_clusters/clust_9/donor3' already exists\"\n"
     ]
    },
    {
     "name": "stdout",
     "output_type": "stream",
     "text": [
      "[1] \"cleaning de\"\n",
      "[1] \"curr tf de results\"\n",
      "                        p_val  avg_diff pct.1 pct.2  p_val_adj p_val_adj_BH\n",
      "NFYC             6.010454e-05  1.988643   0.8 0.163 0.03804617   0.03060454\n",
      "NFYA             9.669680e-05  1.963329   0.7 0.116 0.06120908   0.03060454\n",
      "CREB1            3.429764e-04 -1.267102   0.2 0.791 0.21710403   0.07030968\n",
      "ATF3             4.442950e-04 -1.275095   0.1 0.605 0.28123871   0.07030968\n",
      "JDP2(var.2)      7.990062e-04 -1.278177   0.1 0.628 0.50577090   0.09924885\n",
      "JUN::JUNB(var.2) 9.407474e-04 -1.242841   0.1 0.605 0.59549310   0.09924885\n",
      "[1] \"curr.tf rownames\"\n",
      "[1] \"NFYC\"             \"NFYA\"             \"CREB1\"            \"ATF3\"            \n",
      "[5] \"JDP2(var.2)\"      \"JUN::JUNB(var.2)\"\n",
      "[1] \"curr significant motifs\"\n",
      "[1] 6 6\n",
      "[1] \"dim response\"\n",
      "[1] 633   6\n",
      "[1] \"response plots\"\n",
      "             p_val  avg_diff pct.1 pct.2  p_val_adj p_val_adj_BH\n",
      "NFYC  6.010454e-05  1.988643   0.8 0.163 0.03804617   0.03060454\n",
      "NFYA  9.669680e-05  1.963329   0.7 0.116 0.06120908   0.03060454\n",
      "CREB1 3.429764e-04 -1.267102   0.2 0.791 0.21710403   0.07030968\n"
     ]
    },
    {
     "name": "stderr",
     "output_type": "stream",
     "text": [
      "'magick' package is suggested to install to give better rasterization.\n",
      "\n",
      "Set `ht_opt$message = FALSE` to turn off this message.\n",
      "\n",
      "Saving 6.67 x 6.67 in image\n",
      "\n",
      "Saving 6.67 x 6.67 in image\n",
      "\n",
      "Saving 6.67 x 6.67 in image\n",
      "\n",
      "Saving 6.67 x 6.67 in image\n",
      "\n",
      "Saving 6.67 x 6.67 in image\n",
      "\n",
      "Saving 6.67 x 6.67 in image\n",
      "\n"
     ]
    },
    {
     "name": "stdout",
     "output_type": "stream",
     "text": [
      "[1] \"Skipping None\"\n"
     ]
    },
    {
     "name": "stderr",
     "output_type": "stream",
     "text": [
      "'magick' package is suggested to install to give better rasterization.\n",
      "\n",
      "Set `ht_opt$message = FALSE` to turn off this message.\n",
      "\n",
      "Saving 6.67 x 6.67 in image\n",
      "\n",
      "Saving 6.67 x 6.67 in image\n",
      "\n",
      "Saving 6.67 x 6.67 in image\n",
      "\n",
      "Saving 6.67 x 6.67 in image\n",
      "\n",
      "Saving 6.67 x 6.67 in image\n",
      "\n"
     ]
    },
    {
     "name": "stdout",
     "output_type": "stream",
     "text": [
      "[1] \"c\"\n",
      "[1] \"10_0\"\n",
      "[1] \"10_0\"\n",
      "Error in WhichCells.Seurat(object = x, cells = cells, idents = idents,  : \n",
      "  Cannot find the following identities in the object: preB_10_0\n",
      "[1] \"c\"\n",
      "[1] \"10_1\"\n",
      "[1] \"10_1\"\n",
      "Error in WhichCells.Seurat(object = x, cells = cells, idents = idents,  : \n",
      "  Cannot find the following identities in the object: preB_10_1postB_10_1\n",
      "[1] \"c\"\n",
      "[1] \"10_2\"\n",
      "[1] \"10_2\"\n",
      "Error in WhichCells.Seurat(object = x, cells = cells, idents = idents,  : \n",
      "  Cannot find the following identities in the object: postB_10_2\n",
      "[1] \"c\"\n",
      "[1] \"10_3\"\n",
      "[1] \"10_3\"\n",
      "[1] \"curr.clust10\"\n",
      "[1] \"curr.donor3\"\n"
     ]
    },
    {
     "name": "stderr",
     "output_type": "stream",
     "text": [
      "Warning message in dir.create(curr.clust.outdir):\n",
      "\"'/data/Mito_Trace/output/pipeline/DUPI_april08_2021/MTblacklist_mtasnucl_Bonly/data/merged/MT/cellr_True/numread_200/filters/minC10_minR50_topN0_hetT0.001_hetC10_hetCount5_bq20/mgatk/vireoIn/clones/variants_init/knn/kparam_3/concat/annotation_clones/DE_TF/conditions_clusters/clust_10' already exists\"\n",
      "Warning message in dir.create(curr.outdir):\n",
      "\"'/data/Mito_Trace/output/pipeline/DUPI_april08_2021/MTblacklist_mtasnucl_Bonly/data/merged/MT/cellr_True/numread_200/filters/minC10_minR50_topN0_hetT0.001_hetC10_hetCount5_bq20/mgatk/vireoIn/clones/variants_init/knn/kparam_3/concat/annotation_clones/DE_TF/conditions_clusters/clust_10/donor3' already exists\"\n"
     ]
    },
    {
     "name": "stdout",
     "output_type": "stream",
     "text": [
      "Error in ValidateCellGroups(object = object, cells.1 = cells.1, cells.2 = cells.2,  : \n",
      "  Cell group 1 has fewer than 3 cells\n",
      "[1] \"Skipping None\"\n",
      "Error in FetchData(object = object, vars = features, cells = cells) : \n",
      "  None of the requested variables were found: \n"
     ]
    }
   ],
   "source": [
    "sample.id = \"condition\"\n",
    "clust.ids <- levels(se$seurat_clusters)\n",
    "don.ids <- levels(se$donor)\n",
    "\n",
    "cols <- c(\"seurat_clusters\", \"donor\")\n",
    "curr.ids <- levels(as.factor(apply(se[[]][ , cols ] , 1 , paste , collapse = \"_\" )))\n",
    "Idents(se) <- as.factor(apply(se[[]][ , c(sample.id, cols) ] , 1 , paste , collapse = \"_\" ))\n",
    "se$curr.id = Idents(se)\n",
    "print(head(Idents(se)))\n",
    "\n",
    "for (cl in clust.ids){\n",
    "    if (cl == \"None\"){\n",
    "        next\n",
    "    }\n",
    "    for (d in don.ids){\n",
    "        if (d == \"None\"){\n",
    "            print('Skipping None')\n",
    "            next\n",
    "        }\n",
    "        c <- paste0(cl, \"_\", d)\n",
    "        cl.names.sig = c()\n",
    "        \n",
    "        try({\n",
    "            print(\"c\")\n",
    "            print(c)\n",
    "            if (length(cols)==0){\n",
    "                id1 <- sample_names[[1]]\n",
    "                id2 <- sample_names[[2]]\n",
    "            }else{\n",
    "                print(c)\n",
    "                id1 <- paste(sample_names[[1]], c, sep=\"_\")\n",
    "                id2 <- paste(sample_names[[2]], c, sep=\"_\")\n",
    "            }\n",
    "            DefaultAssay(se) <- \"chromvarnames\"\n",
    "            se.filt <- subset(se, idents = c(id1,id2))\n",
    "            curr.clust = se.filt$seurat_clusters[[1]] #strsplit(c,\"_\")[[2]]\n",
    "            print(paste0('curr.clust', curr.clust))\n",
    "            curr.donor = se.filt$donor[[1]] #strsplit(c,\"_\")[[2]]\n",
    "            print(paste0('curr.donor', curr.donor))            \n",
    "\n",
    "            curr.clust.outdir <- file.path(cond_outdir, paste0(\"clust_\", curr.clust))\n",
    "            dir.create(curr.clust.outdir)\n",
    "            curr.outdir <- file.path(curr.clust.outdir, paste0(\"donor\", curr.donor))\n",
    "            dir.create(curr.outdir)\n",
    "\n",
    "            response <- FindMarkers(se,\n",
    "                                    ident.1 = id1,\n",
    "                                    ident.2 = id2,\n",
    "                                    verbose = T,\n",
    "                                    only.pos = FALSE,\n",
    "                                    mean.fxn = rowMeans,\n",
    "                                    logfc.threshold = 0,\n",
    "                                    min.pct = 0.01,\n",
    "                                    #latent.vars=latent.vars,\n",
    "                                    fc.name = \"avg_diff\")\n",
    "            ncells <- data.frame(table(Idents(se.filt)))\n",
    "            write.csv(ncells, file=file.path(curr.outdir, paste0(c,\".counts.csv\")), quote=F)\n",
    "            response <- response %>% arrange(p_val)\n",
    "            response$p_val_adj_BH <- stats::p.adjust(response$p_val, method = \"BH\", n = length(response$p_val))\n",
    "            print('cleaning de')\n",
    "            names.sig <- clean.de(response, se, n_top_genes, a=id1, b=id2, names.sig = c())\n",
    "            cl.names.sig <- c(cl.names.sig, names.sig)\n",
    "            #response <- curr.de[[1]]\n",
    "            #names.sig <- curr.de[[2]]\n",
    "            print('dim response')\n",
    "            print(dim(response))\n",
    "            if (!(dim(response)[1]==0)){\n",
    "                print('response plots')\n",
    "                print(head(response, n = 3))\n",
    "                de.plots(se.filt, names.sig, curr.outdir, curr.name=c)#paste0(cid1,\"_\", id2)){\n",
    "\n",
    "                write.csv(response, \n",
    "                          file=file.path(curr.outdir, paste(c,sample_names[[1]], sample_names[[2]],\"DE.TF.csv\",sep=\"_\")), quote=F)\n",
    "                #plotDE(se, response, c, clust_outdir)\n",
    "\n",
    "                gally <- GGally::ggpairs(response[,c(\"p_val\", \"p_val_adj\", \"avg_diff\", \"p_val_adj_BH\" )], aes(alpha = 0.4))\n",
    "                ggsave(plot=gally, file=file.path(curr.outdir, \n",
    "                                                  paste(c,sample_names[[1]], \n",
    "                                                        sample_names[[2]],\".DE.TF.pvalHist.png\", sep=\"_\")))\n",
    "\n",
    "            }\n",
    "        })\n",
    "    }\n",
    "    try({\n",
    "    se.filt <- subset(se, subset = seurat_clusters == cl)\n",
    "    de.plots(se.filt, cl.names.sig, curr.clust.outdir, curr.name=\"donorsCombine\") #paste0(cid1,\"_\", id2)){\n",
    "    se.avg = AverageExpression(se.filt, assays = \"chromvarnames\", group.by = \"curr.id\", features = cl.names.sig)$chromvarnames \n",
    "    se.avg = se.avg[order(apply(se.avg, 1, sd)),]\n",
    "    write.csv(se.avg, \n",
    "          file=file.path(curr.clust.outdir, \"TFactivity.topPvals.txt\"), quote=F)\n",
    "    })\n",
    "}\n"
   ]
  },
  {
   "cell_type": "code",
   "execution_count": null,
   "id": "2a7e9540",
   "metadata": {},
   "outputs": [],
   "source": []
  },
  {
   "cell_type": "markdown",
   "id": "4883c8dc",
   "metadata": {},
   "source": [
    "## All donors in each cluster"
   ]
  },
  {
   "cell_type": "code",
   "execution_count": 22,
   "id": "a43aefea",
   "metadata": {
    "scrolled": true
   },
   "outputs": [
    {
     "name": "stdout",
     "output_type": "stream",
     "text": [
      "[1] \"curr.clust0\"\n"
     ]
    },
    {
     "name": "stderr",
     "output_type": "stream",
     "text": [
      "Warning message in dir.create(curr.outdir):\n",
      "\"'/data/Mito_Trace/output/pipeline/DUPI_april08_2021/MTblacklist_mtasnucl_Bonly/data/merged/MT/cellr_True/numread_200/filters/minC10_minR50_topN0_hetT0.001_hetC10_hetCount5_bq20/mgatk/vireoIn/clones/variants_init/knn/kparam_3/concat/annotation_clones/DE_TF/conditions_clusters/clust_0/allDonors' already exists\"\n"
     ]
    },
    {
     "name": "stdout",
     "output_type": "stream",
     "text": [
      "[1] \"cleaning de\"\n",
      "[1] \"curr tf de results\"\n",
      "             p_val   avg_diff pct.1 pct.2    p_val_adj p_val_adj_BH\n",
      "SP4   1.800571e-11  0.4662630 0.558 0.323 1.139761e-08 8.280607e-09\n",
      "SP1   2.616306e-11  0.4646108 0.549 0.354 1.656121e-08 8.280607e-09\n",
      "CREB1 5.227196e-11 -0.5280113 0.126 0.257 3.308815e-08 1.102938e-08\n",
      "KLF14 2.910799e-10  0.4574450 0.544 0.335 1.842536e-07 4.606340e-08\n",
      "BACH1 5.900557e-10 -0.5371486 0.049 0.131 3.735053e-07 7.470105e-08\n",
      "SP2   1.003175e-09  0.3906876 0.597 0.404 6.350097e-07 1.058349e-07\n",
      "[1] \"curr.tf rownames\"\n",
      "[1] \"SP4\"   \"SP1\"   \"CREB1\" \"KLF14\" \"BACH1\" \"SP2\"  \n",
      "[1] \"curr significant motifs\"\n",
      "[1] 249   6\n",
      "[1] \"dim response\"\n",
      "[1] 633   6\n",
      "[1] \"response plots\"\n",
      "             p_val   avg_diff pct.1 pct.2    p_val_adj p_val_adj_BH\n",
      "SP4   1.800571e-11  0.4662630 0.558 0.323 1.139761e-08 8.280607e-09\n",
      "SP1   2.616306e-11  0.4646108 0.549 0.354 1.656121e-08 8.280607e-09\n",
      "CREB1 5.227196e-11 -0.5280113 0.126 0.257 3.308815e-08 1.102938e-08\n"
     ]
    },
    {
     "name": "stderr",
     "output_type": "stream",
     "text": [
      "'magick' package is suggested to install to give better rasterization.\n",
      "\n",
      "Set `ht_opt$message = FALSE` to turn off this message.\n",
      "\n",
      "Saving 6.67 x 6.67 in image\n",
      "\n",
      "Saving 6.67 x 6.67 in image\n",
      "\n",
      "Saving 6.67 x 6.67 in image\n",
      "\n",
      "Saving 6.67 x 6.67 in image\n",
      "\n",
      "Saving 6.67 x 6.67 in image\n",
      "\n",
      "Saving 6.67 x 6.67 in image\n",
      "\n"
     ]
    },
    {
     "name": "stdout",
     "output_type": "stream",
     "text": [
      "[1] \"curr.clust1\"\n"
     ]
    },
    {
     "name": "stderr",
     "output_type": "stream",
     "text": [
      "Warning message in dir.create(curr.outdir):\n",
      "\"'/data/Mito_Trace/output/pipeline/DUPI_april08_2021/MTblacklist_mtasnucl_Bonly/data/merged/MT/cellr_True/numread_200/filters/minC10_minR50_topN0_hetT0.001_hetC10_hetCount5_bq20/mgatk/vireoIn/clones/variants_init/knn/kparam_3/concat/annotation_clones/DE_TF/conditions_clusters/clust_1/allDonors' already exists\"\n"
     ]
    },
    {
     "name": "stdout",
     "output_type": "stream",
     "text": [
      "[1] \"cleaning de\"\n",
      "[1] \"curr tf de results\"\n",
      "                   p_val   avg_diff pct.1 pct.2    p_val_adj p_val_adj_BH\n",
      "FOS         2.500513e-14 -0.7757238 0.063 0.146 1.582825e-11 8.463467e-12\n",
      "FOSL1::JUNB 3.107229e-14 -0.7740519 0.068 0.149 1.966876e-11 8.463467e-12\n",
      "FOS::JUN    4.011122e-14 -0.7751788 0.089 0.157 2.539040e-11 8.463467e-12\n",
      "FOSL2::JUND 7.073994e-14 -0.7759748 0.074 0.135 4.477838e-11 1.119460e-11\n",
      "FOSL1::JUND 2.592066e-13 -0.7755362 0.084 0.155 1.640778e-10 3.281556e-11\n",
      "FOS::JUND   3.154043e-13 -0.7419442 0.047 0.135 1.996509e-10 3.327516e-11\n",
      "[1] \"curr.tf rownames\"\n",
      "[1] \"FOS\"         \"FOSL1::JUNB\" \"FOS::JUN\"    \"FOSL2::JUND\" \"FOSL1::JUND\"\n",
      "[6] \"FOS::JUND\"  \n",
      "[1] \"curr significant motifs\"\n",
      "[1] 110   6\n",
      "[1] \"dim response\"\n",
      "[1] 633   6\n",
      "[1] \"response plots\"\n",
      "                   p_val   avg_diff pct.1 pct.2    p_val_adj p_val_adj_BH\n",
      "FOS         2.500513e-14 -0.7757238 0.063 0.146 1.582825e-11 8.463467e-12\n",
      "FOSL1::JUNB 3.107229e-14 -0.7740519 0.068 0.149 1.966876e-11 8.463467e-12\n",
      "FOS::JUN    4.011122e-14 -0.7751788 0.089 0.157 2.539040e-11 8.463467e-12\n"
     ]
    },
    {
     "name": "stderr",
     "output_type": "stream",
     "text": [
      "'magick' package is suggested to install to give better rasterization.\n",
      "\n",
      "Set `ht_opt$message = FALSE` to turn off this message.\n",
      "\n",
      "Saving 6.67 x 6.67 in image\n",
      "\n",
      "Saving 6.67 x 6.67 in image\n",
      "\n",
      "Saving 6.67 x 6.67 in image\n",
      "\n",
      "Saving 6.67 x 6.67 in image\n",
      "\n",
      "Saving 6.67 x 6.67 in image\n",
      "\n",
      "Saving 6.67 x 6.67 in image\n",
      "\n"
     ]
    },
    {
     "name": "stdout",
     "output_type": "stream",
     "text": [
      "[1] \"curr.clust2\"\n"
     ]
    },
    {
     "name": "stderr",
     "output_type": "stream",
     "text": [
      "Warning message in dir.create(curr.outdir):\n",
      "\"'/data/Mito_Trace/output/pipeline/DUPI_april08_2021/MTblacklist_mtasnucl_Bonly/data/merged/MT/cellr_True/numread_200/filters/minC10_minR50_topN0_hetT0.001_hetC10_hetCount5_bq20/mgatk/vireoIn/clones/variants_init/knn/kparam_3/concat/annotation_clones/DE_TF/conditions_clusters/clust_2/allDonors' already exists\"\n"
     ]
    },
    {
     "name": "stdout",
     "output_type": "stream",
     "text": [
      "[1] \"cleaning de\"\n",
      "[1] \"curr tf de results\"\n",
      "             p_val   avg_diff pct.1 pct.2    p_val_adj p_val_adj_BH\n",
      "SP4   3.748586e-07  0.3514730 0.712 0.564 0.0002372855 0.0001855061\n",
      "KLF10 5.861171e-07  0.3653113 0.675 0.487 0.0003710121 0.0001855061\n",
      "RFX5  1.246364e-06 -0.4749255 0.193 0.322 0.0007889487 0.0002629829\n",
      "SP8   2.282743e-06  0.3352314 0.736 0.538 0.0014449763 0.0003612441\n",
      "RFX2  2.995720e-06 -0.4391915 0.170 0.249 0.0018962908 0.0003792582\n",
      "KLF2  6.234627e-06  0.2882922 0.646 0.498 0.0039465187 0.0006415278\n",
      "[1] \"curr.tf rownames\"\n",
      "[1] \"SP4\"   \"KLF10\" \"RFX5\"  \"SP8\"   \"RFX2\"  \"KLF2\" \n",
      "[1] \"curr significant motifs\"\n",
      "[1] 58  6\n",
      "[1] \"dim response\"\n",
      "[1] 633   6\n",
      "[1] \"response plots\"\n",
      "             p_val   avg_diff pct.1 pct.2    p_val_adj p_val_adj_BH\n",
      "SP4   3.748586e-07  0.3514730 0.712 0.564 0.0002372855 0.0001855061\n",
      "KLF10 5.861171e-07  0.3653113 0.675 0.487 0.0003710121 0.0001855061\n",
      "RFX5  1.246364e-06 -0.4749255 0.193 0.322 0.0007889487 0.0002629829\n"
     ]
    },
    {
     "name": "stderr",
     "output_type": "stream",
     "text": [
      "'magick' package is suggested to install to give better rasterization.\n",
      "\n",
      "Set `ht_opt$message = FALSE` to turn off this message.\n",
      "\n",
      "Saving 6.67 x 6.67 in image\n",
      "\n",
      "Saving 6.67 x 6.67 in image\n",
      "\n",
      "Saving 6.67 x 6.67 in image\n",
      "\n",
      "Saving 6.67 x 6.67 in image\n",
      "\n",
      "Saving 6.67 x 6.67 in image\n",
      "\n",
      "Saving 6.67 x 6.67 in image\n",
      "\n"
     ]
    },
    {
     "name": "stdout",
     "output_type": "stream",
     "text": [
      "[1] \"curr.clust3\"\n"
     ]
    },
    {
     "name": "stderr",
     "output_type": "stream",
     "text": [
      "Warning message in dir.create(curr.outdir):\n",
      "\"'/data/Mito_Trace/output/pipeline/DUPI_april08_2021/MTblacklist_mtasnucl_Bonly/data/merged/MT/cellr_True/numread_200/filters/minC10_minR50_topN0_hetT0.001_hetC10_hetCount5_bq20/mgatk/vireoIn/clones/variants_init/knn/kparam_3/concat/annotation_clones/DE_TF/conditions_clusters/clust_3/allDonors' already exists\"\n"
     ]
    },
    {
     "name": "stdout",
     "output_type": "stream",
     "text": [
      "[1] \"cleaning de\"\n",
      "[1] \"curr tf de results\"\n",
      "             p_val  avg_diff pct.1 pct.2    p_val_adj p_val_adj_BH\n",
      "KLF14 1.779883e-11 0.6260088 0.703 0.332 1.126666e-08 1.126666e-08\n",
      "SP3   1.098989e-10 0.4968998 0.683 0.320 6.956603e-08 3.478302e-08\n",
      "SP8   3.914315e-10 0.5184823 0.673 0.343 2.477762e-07 8.259206e-08\n",
      "SP9   1.602594e-09 0.4396852 0.634 0.325 1.014442e-06 2.536105e-07\n",
      "KLF11 1.289596e-08 0.5053311 0.594 0.351 8.163146e-06 1.632629e-06\n",
      "KLF10 2.278392e-08 0.5071101 0.584 0.332 1.442222e-05 2.403703e-06\n",
      "[1] \"curr.tf rownames\"\n",
      "[1] \"KLF14\" \"SP3\"   \"SP8\"   \"SP9\"   \"KLF11\" \"KLF10\"\n",
      "[1] \"curr significant motifs\"\n",
      "[1] 89  6\n",
      "[1] \"dim response\"\n",
      "[1] 633   6\n",
      "[1] \"response plots\"\n",
      "             p_val  avg_diff pct.1 pct.2    p_val_adj p_val_adj_BH\n",
      "KLF14 1.779883e-11 0.6260088 0.703 0.332 1.126666e-08 1.126666e-08\n",
      "SP3   1.098989e-10 0.4968998 0.683 0.320 6.956603e-08 3.478302e-08\n",
      "SP8   3.914315e-10 0.5184823 0.673 0.343 2.477762e-07 8.259206e-08\n"
     ]
    },
    {
     "name": "stderr",
     "output_type": "stream",
     "text": [
      "'magick' package is suggested to install to give better rasterization.\n",
      "\n",
      "Set `ht_opt$message = FALSE` to turn off this message.\n",
      "\n",
      "Saving 6.67 x 6.67 in image\n",
      "\n",
      "Saving 6.67 x 6.67 in image\n",
      "\n",
      "Saving 6.67 x 6.67 in image\n",
      "\n",
      "Saving 6.67 x 6.67 in image\n",
      "\n",
      "Saving 6.67 x 6.67 in image\n",
      "\n",
      "Saving 6.67 x 6.67 in image\n",
      "\n"
     ]
    },
    {
     "name": "stdout",
     "output_type": "stream",
     "text": [
      "[1] \"curr.clust4\"\n"
     ]
    },
    {
     "name": "stderr",
     "output_type": "stream",
     "text": [
      "Warning message in dir.create(curr.outdir):\n",
      "\"'/data/Mito_Trace/output/pipeline/DUPI_april08_2021/MTblacklist_mtasnucl_Bonly/data/merged/MT/cellr_True/numread_200/filters/minC10_minR50_topN0_hetT0.001_hetC10_hetCount5_bq20/mgatk/vireoIn/clones/variants_init/knn/kparam_3/concat/annotation_clones/DE_TF/conditions_clusters/clust_4/allDonors' already exists\"\n"
     ]
    },
    {
     "name": "stdout",
     "output_type": "stream",
     "text": [
      "[1] \"cleaning de\"\n",
      "[1] \"curr tf de results\"\n",
      "             p_val  avg_diff pct.1 pct.2    p_val_adj p_val_adj_BH\n",
      "SP1   1.440875e-06 0.5879080 0.659 0.365 0.0009120738 0.0009120738\n",
      "NFYA  1.221982e-05 0.5911265 0.732 0.529 0.0077351438 0.0028702223\n",
      "NFYB  1.360295e-05 0.5655635 0.683 0.431 0.0086106670 0.0028702223\n",
      "NFYC  3.041247e-05 0.5682769 0.707 0.498 0.0192510943 0.0041902657\n",
      "KLF14 3.711385e-05 0.4948663 0.573 0.333 0.0234930695 0.0041902657\n",
      "SP4   3.971816e-05 0.4760959 0.573 0.361 0.0251415944 0.0041902657\n",
      "[1] \"curr.tf rownames\"\n",
      "[1] \"SP1\"   \"NFYA\"  \"NFYB\"  \"NFYC\"  \"KLF14\" \"SP4\"  \n",
      "[1] \"curr significant motifs\"\n",
      "[1] 24  6\n",
      "[1] \"dim response\"\n",
      "[1] 633   6\n",
      "[1] \"response plots\"\n",
      "            p_val  avg_diff pct.1 pct.2    p_val_adj p_val_adj_BH\n",
      "SP1  1.440875e-06 0.5879080 0.659 0.365 0.0009120738 0.0009120738\n",
      "NFYA 1.221982e-05 0.5911265 0.732 0.529 0.0077351438 0.0028702223\n",
      "NFYB 1.360295e-05 0.5655635 0.683 0.431 0.0086106670 0.0028702223\n"
     ]
    },
    {
     "name": "stderr",
     "output_type": "stream",
     "text": [
      "'magick' package is suggested to install to give better rasterization.\n",
      "\n",
      "Set `ht_opt$message = FALSE` to turn off this message.\n",
      "\n",
      "Saving 6.67 x 6.67 in image\n",
      "\n",
      "Saving 6.67 x 6.67 in image\n",
      "\n",
      "Saving 6.67 x 6.67 in image\n",
      "\n",
      "Saving 6.67 x 6.67 in image\n",
      "\n",
      "Saving 6.67 x 6.67 in image\n",
      "\n",
      "Saving 6.67 x 6.67 in image\n",
      "\n"
     ]
    },
    {
     "name": "stdout",
     "output_type": "stream",
     "text": [
      "[1] \"curr.clust5\"\n"
     ]
    },
    {
     "name": "stderr",
     "output_type": "stream",
     "text": [
      "Warning message in dir.create(curr.outdir):\n",
      "\"'/data/Mito_Trace/output/pipeline/DUPI_april08_2021/MTblacklist_mtasnucl_Bonly/data/merged/MT/cellr_True/numread_200/filters/minC10_minR50_topN0_hetT0.001_hetC10_hetCount5_bq20/mgatk/vireoIn/clones/variants_init/knn/kparam_3/concat/annotation_clones/DE_TF/conditions_clusters/clust_5/allDonors' already exists\"\n"
     ]
    },
    {
     "name": "stdout",
     "output_type": "stream",
     "text": [
      "[1] \"cleaning de\"\n",
      "[1] \"curr tf de results\"\n",
      "            p_val  avg_diff pct.1 pct.2   p_val_adj p_val_adj_BH\n",
      "SP1  5.200915e-06 0.7916665 0.839 0.606 0.003292179  0.003292179\n",
      "KLF3 9.506217e-05 0.6151428 0.903 0.681 0.060174351  0.027742416\n",
      "IRF1 1.450667e-04 0.7653222 1.000 0.953 0.091827210  0.027742416\n",
      "SP4  1.785216e-04 0.5611684 0.839 0.549 0.113004143  0.027742416\n",
      "IRF2 2.191344e-04 0.8022687 0.871 0.681 0.138712078  0.027742416\n",
      "IRF8 8.827066e-04 0.8047105 0.839 0.629 0.558753285  0.074670679\n",
      "[1] \"curr.tf rownames\"\n",
      "[1] \"SP1\"  \"KLF3\" \"IRF1\" \"SP4\"  \"IRF2\" \"IRF8\"\n",
      "[1] \"curr significant motifs\"\n",
      "[1] 22  6\n",
      "[1] \"dim response\"\n",
      "[1] 633   6\n",
      "[1] \"response plots\"\n",
      "            p_val  avg_diff pct.1 pct.2   p_val_adj p_val_adj_BH\n",
      "SP1  5.200915e-06 0.7916665 0.839 0.606 0.003292179  0.003292179\n",
      "KLF3 9.506217e-05 0.6151428 0.903 0.681 0.060174351  0.027742416\n",
      "IRF1 1.450667e-04 0.7653222 1.000 0.953 0.091827210  0.027742416\n"
     ]
    },
    {
     "name": "stderr",
     "output_type": "stream",
     "text": [
      "'magick' package is suggested to install to give better rasterization.\n",
      "\n",
      "Set `ht_opt$message = FALSE` to turn off this message.\n",
      "\n",
      "Saving 6.67 x 6.67 in image\n",
      "\n",
      "Saving 6.67 x 6.67 in image\n",
      "\n",
      "Saving 6.67 x 6.67 in image\n",
      "\n",
      "Saving 6.67 x 6.67 in image\n",
      "\n",
      "Saving 6.67 x 6.67 in image\n",
      "\n",
      "Saving 6.67 x 6.67 in image\n",
      "\n"
     ]
    },
    {
     "name": "stdout",
     "output_type": "stream",
     "text": [
      "[1] \"curr.clust6\"\n"
     ]
    },
    {
     "name": "stderr",
     "output_type": "stream",
     "text": [
      "Warning message in dir.create(curr.outdir):\n",
      "\"'/data/Mito_Trace/output/pipeline/DUPI_april08_2021/MTblacklist_mtasnucl_Bonly/data/merged/MT/cellr_True/numread_200/filters/minC10_minR50_topN0_hetT0.001_hetC10_hetCount5_bq20/mgatk/vireoIn/clones/variants_init/knn/kparam_3/concat/annotation_clones/DE_TF/conditions_clusters/clust_6/allDonors' already exists\"\n"
     ]
    },
    {
     "name": "stdout",
     "output_type": "stream",
     "text": [
      "[1] \"cleaning de\"\n",
      "[1] \"curr tf de results\"\n",
      "                          p_val   avg_diff pct.1 pct.2  p_val_adj p_val_adj_BH\n",
      "FERD3L             0.0001145400 -0.6025297 0.549 0.721 0.07250381   0.05225549\n",
      "FOSL2::JUN(var.2)  0.0001651042 -0.5936480 0.338 0.558 0.10451099   0.05225549\n",
      "FOSL1::JUND(var.2) 0.0005168185 -0.5335777 0.423 0.649 0.32714613   0.09204848\n",
      "FOSL2::JUND(var.2) 0.0007870947 -0.5246503 0.366 0.623 0.49823097   0.09204848\n",
      "MAF::NFE2          0.0008589850 -0.4818455 0.577 0.734 0.54373751   0.09204848\n",
      "JUNB(var.2)        0.0008796225 -0.5093553 0.465 0.695 0.55680104   0.09204848\n",
      "[1] \"curr.tf rownames\"\n",
      "[1] \"FERD3L\"             \"FOSL2::JUN(var.2)\"  \"FOSL1::JUND(var.2)\"\n",
      "[4] \"FOSL2::JUND(var.2)\" \"MAF::NFE2\"          \"JUNB(var.2)\"       \n",
      "[1] \"curr significant motifs\"\n",
      "[1] 9 6\n",
      "[1] \"dim response\"\n",
      "[1] 633   6\n",
      "[1] \"response plots\"\n",
      "                          p_val   avg_diff pct.1 pct.2  p_val_adj p_val_adj_BH\n",
      "FERD3L             0.0001145400 -0.6025297 0.549 0.721 0.07250381   0.05225549\n",
      "FOSL2::JUN(var.2)  0.0001651042 -0.5936480 0.338 0.558 0.10451099   0.05225549\n",
      "FOSL1::JUND(var.2) 0.0005168185 -0.5335777 0.423 0.649 0.32714613   0.09204848\n"
     ]
    },
    {
     "name": "stderr",
     "output_type": "stream",
     "text": [
      "'magick' package is suggested to install to give better rasterization.\n",
      "\n",
      "Set `ht_opt$message = FALSE` to turn off this message.\n",
      "\n",
      "Saving 6.67 x 6.67 in image\n",
      "\n",
      "Saving 6.67 x 6.67 in image\n",
      "\n",
      "Saving 6.67 x 6.67 in image\n",
      "\n",
      "Saving 6.67 x 6.67 in image\n",
      "\n",
      "Saving 6.67 x 6.67 in image\n",
      "\n",
      "Saving 6.67 x 6.67 in image\n",
      "\n"
     ]
    },
    {
     "name": "stdout",
     "output_type": "stream",
     "text": [
      "[1] \"curr.clust7\"\n"
     ]
    },
    {
     "name": "stderr",
     "output_type": "stream",
     "text": [
      "Warning message in dir.create(curr.outdir):\n",
      "\"'/data/Mito_Trace/output/pipeline/DUPI_april08_2021/MTblacklist_mtasnucl_Bonly/data/merged/MT/cellr_True/numread_200/filters/minC10_minR50_topN0_hetT0.001_hetC10_hetCount5_bq20/mgatk/vireoIn/clones/variants_init/knn/kparam_3/concat/annotation_clones/DE_TF/conditions_clusters/clust_7/allDonors' already exists\"\n"
     ]
    },
    {
     "name": "stdout",
     "output_type": "stream",
     "text": [
      "[1] \"cleaning de\"\n",
      "[1] \"curr tf de results\"\n",
      "                   p_val  avg_diff pct.1 pct.2   p_val_adj p_val_adj_BH\n",
      "IRF9        3.868599e-06 0.9241276 0.770 0.366 0.002448823  0.000776393\n",
      "FOSL2::JUND 5.092288e-06 1.2316468 0.951 0.902 0.003223418  0.000776393\n",
      "JUND        5.996093e-06 1.2344156 0.975 0.878 0.003795527  0.000776393\n",
      "BACH2       6.445332e-06 1.0085332 0.951 0.902 0.004079895  0.000776393\n",
      "FOS::JUNB   7.713653e-06 1.2002908 0.967 0.878 0.004882742  0.000776393\n",
      "FOSB::JUNB  7.852863e-06 1.1503094 0.959 0.927 0.004970862  0.000776393\n",
      "[1] \"curr.tf rownames\"\n",
      "[1] \"IRF9\"        \"FOSL2::JUND\" \"JUND\"        \"BACH2\"       \"FOS::JUNB\"  \n",
      "[6] \"FOSB::JUNB\" \n",
      "[1] \"curr significant motifs\"\n",
      "[1] 43  6\n",
      "[1] \"dim response\"\n",
      "[1] 633   6\n",
      "[1] \"response plots\"\n",
      "                   p_val  avg_diff pct.1 pct.2   p_val_adj p_val_adj_BH\n",
      "IRF9        3.868599e-06 0.9241276 0.770 0.366 0.002448823  0.000776393\n",
      "FOSL2::JUND 5.092288e-06 1.2316468 0.951 0.902 0.003223418  0.000776393\n",
      "JUND        5.996093e-06 1.2344156 0.975 0.878 0.003795527  0.000776393\n"
     ]
    },
    {
     "name": "stderr",
     "output_type": "stream",
     "text": [
      "'magick' package is suggested to install to give better rasterization.\n",
      "\n",
      "Set `ht_opt$message = FALSE` to turn off this message.\n",
      "\n",
      "Saving 6.67 x 6.67 in image\n",
      "\n",
      "Saving 6.67 x 6.67 in image\n",
      "\n",
      "Saving 6.67 x 6.67 in image\n",
      "\n",
      "Saving 6.67 x 6.67 in image\n",
      "\n",
      "Saving 6.67 x 6.67 in image\n",
      "\n",
      "Saving 6.67 x 6.67 in image\n",
      "\n"
     ]
    },
    {
     "name": "stdout",
     "output_type": "stream",
     "text": [
      "[1] \"curr.clust8\"\n"
     ]
    },
    {
     "name": "stderr",
     "output_type": "stream",
     "text": [
      "Warning message in dir.create(curr.outdir):\n",
      "\"'/data/Mito_Trace/output/pipeline/DUPI_april08_2021/MTblacklist_mtasnucl_Bonly/data/merged/MT/cellr_True/numread_200/filters/minC10_minR50_topN0_hetT0.001_hetC10_hetCount5_bq20/mgatk/vireoIn/clones/variants_init/knn/kparam_3/concat/annotation_clones/DE_TF/conditions_clusters/clust_8/allDonors' already exists\"\n"
     ]
    },
    {
     "name": "stdout",
     "output_type": "stream",
     "text": [
      "[1] \"cleaning de\"\n",
      "[1] \"curr tf de results\"\n",
      "                   p_val   avg_diff pct.1 pct.2    p_val_adj p_val_adj_BH\n",
      "MAFK        2.447912e-07 -0.9406378 0.047  0.22 0.0001549528 0.0001549528\n",
      "BACH1       8.872937e-07 -1.0243189 0.023  0.05 0.0005616569 0.0002808285\n",
      "FOSL1::JUND 7.186171e-06 -1.0686182 0.023  0.04 0.0045488459 0.0012126895\n",
      "JUNB        8.827042e-06 -1.1526922 0.000  0.02 0.0055875176 0.0012126895\n",
      "CREB1       9.578906e-06 -0.7912372 0.116  0.33 0.0060634474 0.0012126895\n",
      "FOSL1       1.406628e-05 -1.1235532 0.000  0.01 0.0089039525 0.0014839921\n",
      "[1] \"curr.tf rownames\"\n",
      "[1] \"MAFK\"        \"BACH1\"       \"FOSL1::JUND\" \"JUNB\"        \"CREB1\"      \n",
      "[6] \"FOSL1\"      \n",
      "[1] \"curr significant motifs\"\n",
      "[1] 87  6\n",
      "[1] \"dim response\"\n",
      "[1] 633   6\n",
      "[1] \"response plots\"\n",
      "                   p_val   avg_diff pct.1 pct.2    p_val_adj p_val_adj_BH\n",
      "MAFK        2.447912e-07 -0.9406378 0.047  0.22 0.0001549528 0.0001549528\n",
      "BACH1       8.872937e-07 -1.0243189 0.023  0.05 0.0005616569 0.0002808285\n",
      "FOSL1::JUND 7.186171e-06 -1.0686182 0.023  0.04 0.0045488459 0.0012126895\n"
     ]
    },
    {
     "name": "stderr",
     "output_type": "stream",
     "text": [
      "'magick' package is suggested to install to give better rasterization.\n",
      "\n",
      "Set `ht_opt$message = FALSE` to turn off this message.\n",
      "\n",
      "Saving 6.67 x 6.67 in image\n",
      "\n",
      "Saving 6.67 x 6.67 in image\n",
      "\n",
      "Saving 6.67 x 6.67 in image\n",
      "\n",
      "Saving 6.67 x 6.67 in image\n",
      "\n",
      "Saving 6.67 x 6.67 in image\n",
      "\n",
      "Saving 6.67 x 6.67 in image\n",
      "\n"
     ]
    },
    {
     "name": "stdout",
     "output_type": "stream",
     "text": [
      "[1] \"curr.clust9\"\n"
     ]
    },
    {
     "name": "stderr",
     "output_type": "stream",
     "text": [
      "Warning message in dir.create(curr.outdir):\n",
      "\"'/data/Mito_Trace/output/pipeline/DUPI_april08_2021/MTblacklist_mtasnucl_Bonly/data/merged/MT/cellr_True/numread_200/filters/minC10_minR50_topN0_hetT0.001_hetC10_hetCount5_bq20/mgatk/vireoIn/clones/variants_init/knn/kparam_3/concat/annotation_clones/DE_TF/conditions_clusters/clust_9/allDonors' already exists\"\n"
     ]
    },
    {
     "name": "stdout",
     "output_type": "stream",
     "text": [
      "[1] \"cleaning de\"\n",
      "[1] \"curr tf de results\"\n",
      "             p_val  avg_diff pct.1 pct.2    p_val_adj p_val_adj_BH\n",
      "KLF14 4.065169e-07 0.8607174 0.658 0.282 0.0002573252 0.0002573252\n",
      "KLF6  9.623643e-06 0.6672712 0.763 0.353 0.0060917658 0.0023630558\n",
      "SP3   1.119932e-05 0.6793845 0.658 0.318 0.0070891673 0.0023630558\n",
      "KLF2  2.083238e-05 0.6366427 0.789 0.353 0.0131868950 0.0032967238\n",
      "SP1   3.220994e-05 0.6712032 0.658 0.365 0.0203888890 0.0040777778\n",
      "KLF3  1.204284e-04 0.6456769 0.711 0.447 0.0762311970 0.0106503178\n",
      "[1] \"curr.tf rownames\"\n",
      "[1] \"KLF14\" \"KLF6\"  \"SP3\"   \"KLF2\"  \"SP1\"   \"KLF3\" \n",
      "[1] \"curr significant motifs\"\n",
      "[1] 19  6\n",
      "[1] \"dim response\"\n",
      "[1] 633   6\n",
      "[1] \"response plots\"\n",
      "             p_val  avg_diff pct.1 pct.2    p_val_adj p_val_adj_BH\n",
      "KLF14 4.065169e-07 0.8607174 0.658 0.282 0.0002573252 0.0002573252\n",
      "KLF6  9.623643e-06 0.6672712 0.763 0.353 0.0060917658 0.0023630558\n",
      "SP3   1.119932e-05 0.6793845 0.658 0.318 0.0070891673 0.0023630558\n"
     ]
    },
    {
     "name": "stderr",
     "output_type": "stream",
     "text": [
      "'magick' package is suggested to install to give better rasterization.\n",
      "\n",
      "Set `ht_opt$message = FALSE` to turn off this message.\n",
      "\n",
      "Saving 6.67 x 6.67 in image\n",
      "\n",
      "Saving 6.67 x 6.67 in image\n",
      "\n",
      "Saving 6.67 x 6.67 in image\n",
      "\n",
      "Saving 6.67 x 6.67 in image\n",
      "\n",
      "Saving 6.67 x 6.67 in image\n",
      "\n",
      "Saving 6.67 x 6.67 in image\n",
      "\n"
     ]
    },
    {
     "name": "stdout",
     "output_type": "stream",
     "text": [
      "[1] \"curr.clust10\"\n"
     ]
    },
    {
     "name": "stderr",
     "output_type": "stream",
     "text": [
      "Warning message in dir.create(curr.outdir):\n",
      "\"'/data/Mito_Trace/output/pipeline/DUPI_april08_2021/MTblacklist_mtasnucl_Bonly/data/merged/MT/cellr_True/numread_200/filters/minC10_minR50_topN0_hetT0.001_hetC10_hetCount5_bq20/mgatk/vireoIn/clones/variants_init/knn/kparam_3/concat/annotation_clones/DE_TF/conditions_clusters/clust_10/allDonors' already exists\"\n"
     ]
    },
    {
     "name": "stdout",
     "output_type": "stream",
     "text": [
      "[1] \"cleaning de\"\n",
      "[1] \"curr tf de results\"\n",
      "                 p_val   avg_diff pct.1 pct.2 p_val_adj p_val_adj_BH\n",
      "NRF1        0.05182993 -0.7245348     0  0.75         1    0.7379594\n",
      "TCF7L2      0.05182993 -2.2601210     0  0.25         1    0.7379594\n",
      "STAT3       0.05182993  0.9701852     1  0.75         1    0.7379594\n",
      "GATA1::TAL1 0.05182993  1.4493995     1  0.75         1    0.7379594\n",
      "SREBF1      0.05182993 -1.7796125     0  0.75         1    0.7379594\n",
      "FLI1        0.05182993  2.7565514     1  0.75         1    0.7379594\n",
      "[1] \"curr.tf rownames\"\n",
      "[1] \"NRF1\"        \"TCF7L2\"      \"STAT3\"       \"GATA1::TAL1\" \"SREBF1\"     \n",
      "[6] \"FLI1\"       \n",
      "[1] \"curr significant motifs\"\n",
      "[1] 3 6\n",
      "[1] \"dim response\"\n",
      "[1] 598   6\n",
      "[1] \"response plots\"\n",
      "            p_val   avg_diff pct.1 pct.2 p_val_adj p_val_adj_BH\n",
      "NRF1   0.05182993 -0.7245348     0  0.75         1    0.7379594\n",
      "TCF7L2 0.05182993 -2.2601210     0  0.25         1    0.7379594\n",
      "STAT3  0.05182993  0.9701852     1  0.75         1    0.7379594\n"
     ]
    },
    {
     "name": "stderr",
     "output_type": "stream",
     "text": [
      "'magick' package is suggested to install to give better rasterization.\n",
      "\n",
      "Set `ht_opt$message = FALSE` to turn off this message.\n",
      "\n",
      "Saving 6.67 x 6.67 in image\n",
      "\n",
      "Saving 6.67 x 6.67 in image\n",
      "\n",
      "Saving 6.67 x 6.67 in image\n",
      "\n",
      "Saving 6.67 x 6.67 in image\n",
      "\n",
      "Saving 6.67 x 6.67 in image\n",
      "\n",
      "Saving 6.67 x 6.67 in image\n",
      "\n",
      "Warning message in cor(x, y):\n",
      "\"the standard deviation is zero\"\n",
      "Warning message in cor(x, y):\n",
      "\"the standard deviation is zero\"\n",
      "Warning message in cor(x, y):\n",
      "\"the standard deviation is zero\"\n"
     ]
    }
   ],
   "source": [
    "curr.ids <- clust.ids\n",
    "Idents(se) <- as.factor(apply(se[[]][ , c(\"condition\", \"seurat_clusters\") ] , 1 , paste , collapse = \"_\" ))\n",
    "se$curr.id = Idents(se)\n",
    "\n",
    "for (cl in clust.ids)\n",
    "    {\n",
    "    if (cl == \"None\"){\n",
    "        next\n",
    "    }\n",
    "    c <- cl\n",
    "    \n",
    "    id1 <- paste(sample_names[[1]], cl, sep=\"_\")\n",
    "    id2 <- paste(sample_names[[2]], cl, sep=\"_\")\n",
    "    \n",
    "    DefaultAssay(se) <- \"chromvarnames\"\n",
    "    se.filt <- subset(se, idents = c(id1,id2))\n",
    "    curr.clust = se.filt$seurat_clusters[[1]] #strsplit(c,\"_\")[[2]]\n",
    "    print(paste0('curr.clust', curr.clust))\n",
    "    \n",
    "    curr.clust.outdir <- file.path(cond_outdir, paste0(\"clust_\", curr.clust))\n",
    "    curr.outdir <- file.path(curr.clust.outdir, \"allDonors\")\n",
    "    dir.create(curr.outdir)\n",
    "\n",
    "    response <- FindMarkers(se,\n",
    "                            ident.1 = id1,\n",
    "                            ident.2 = id2,\n",
    "                            verbose = T,\n",
    "                            only.pos = FALSE,\n",
    "                            mean.fxn = rowMeans,\n",
    "                            logfc.threshold = 0,\n",
    "                            min.pct = 0.01,\n",
    "                            #latent.vars=latent.vars,\n",
    "                            fc.name = \"avg_diff\")\n",
    "    ncells <- data.frame(table(Idents(se.filt)))\n",
    "    write.csv(ncells, file=file.path(curr.outdir, paste0(c,\".counts.csv\")), quote=F)\n",
    "    response <- response %>% arrange(p_val)\n",
    "    response$p_val_adj_BH <- stats::p.adjust(response$p_val, method = \"BH\", n = length(response$p_val))\n",
    "    print('cleaning de')\n",
    "    names.sig <- clean.de(response, se, n_top_genes, a=id1, b=id2, names.sig = c())\n",
    "    #cl.names.sig <- c(cl.names.sig, names.sig)\n",
    "    #response <- curr.de[[1]]\n",
    "    #names.sig <- curr.de[[2]]\n",
    "    print('dim response')\n",
    "    print(dim(response))\n",
    "    if (!(dim(response)[1]==0)){\n",
    "        print('response plots')\n",
    "        print(head(response, n = 3))\n",
    "        de.plots(se.filt, names.sig, curr.outdir, curr.name=c)#paste0(cid1,\"_\", id2)){\n",
    "\n",
    "        write.csv(response, \n",
    "                  file=file.path(curr.outdir, paste(c,sample_names[[1]], sample_names[[2]],\"DE.TF.csv\",sep=\"_\")), quote=F)\n",
    "        #plotDE(se, response, c, clust_outdir)\n",
    "\n",
    "        gally <- GGally::ggpairs(response[,c(\"p_val\", \"p_val_adj\", \"avg_diff\", \"p_val_adj_BH\" )], aes(alpha = 0.4))\n",
    "        ggsave(plot=gally, file=file.path(curr.outdir, \n",
    "                                          paste(c,sample_names[[1]], \n",
    "                                                sample_names[[2]],\".DE.TF.pvalHist.png\", sep=\"_\")))\n",
    "\n",
    "\n",
    "        se.avg = AverageExpression(se.filt, assays = \"chromvarnames\", group.by = \"condition\", \n",
    "                                   features = names.sig)$chromvarnames \n",
    "        se.avg = se.avg[order(apply(se.avg, 1, sd)),]\n",
    "        write.csv(se.avg, file=file.path(curr.outdir, \"TFactivity.topPvals.txt\"), quote=F)\n",
    "    }\n",
    "}\n",
    "\n",
    "\n"
   ]
  },
  {
   "cell_type": "code",
   "execution_count": null,
   "id": "97ebed14",
   "metadata": {},
   "outputs": [],
   "source": []
  },
  {
   "cell_type": "code",
   "execution_count": null,
   "id": "1e744bf8",
   "metadata": {},
   "outputs": [],
   "source": []
  },
  {
   "cell_type": "markdown",
   "id": "7c4e4adf",
   "metadata": {},
   "source": [
    "## Including donors"
   ]
  },
  {
   "cell_type": "code",
   "execution_count": 23,
   "id": "0bdfc394",
   "metadata": {
    "scrolled": true
   },
   "outputs": [],
   "source": [
    "#stimout(se, cond_outdir, sample_names, sample.id = \"condition\", cols=c(\"seurat_clusters\", \"donor\"))"
   ]
  },
  {
   "cell_type": "markdown",
   "id": "bf0f7953",
   "metadata": {},
   "source": [
    "## Not including donors"
   ]
  },
  {
   "cell_type": "code",
   "execution_count": 24,
   "id": "1fd43c71",
   "metadata": {
    "scrolled": true
   },
   "outputs": [],
   "source": [
    "#stimout(se, cond_outdir, sample_names, sample.id = \"condition\", cols=c(\"seurat_clusters\"))"
   ]
  },
  {
   "cell_type": "code",
   "execution_count": 25,
   "id": "a759c62a",
   "metadata": {
    "scrolled": true
   },
   "outputs": [],
   "source": [
    "# if ((comps_f==\"\") | comps_f == \"NULL\"){\n",
    "#     stimout(cond_outdir, sample_names)\n",
    "\n",
    "# }else{\n",
    "#     comps <- unlist(strsplit(comps_f, \";\")[[1]])\n",
    "#     comps <- lapply(comps, function(x) unlist(strsplit(x, ',')[[1]]))\n",
    "#     for (i in comps){\n",
    "#         print(i)\n",
    "#         curr_sample_names <- i[2:3]\n",
    "#         curr_cond_outdir <- file.path(cond_outdir, i[1])\n",
    "#         dir.create(curr_cond_outdir, showWarnings = FALSE)\n",
    "#         stimout(curr_cond_outdir, curr_sample_names)\n",
    "#     }\n",
    "# }\n"
   ]
  },
  {
   "cell_type": "code",
   "execution_count": 26,
   "id": "c4d2c34a",
   "metadata": {},
   "outputs": [],
   "source": [
    "# Idents(se) <- as.factor(apply(se[[]][ , c(\"condition\", cols) ] , 1 , paste , collapse = \"_\" ))\n",
    "\n",
    "# head(Idents(se))\n",
    "\n",
    "# c <- \"0_0\"\n",
    "# print(c)\n",
    "# cols=c(\"donor\", \"seurat_clusters\")\n",
    "# if (length(cols)==0){\n",
    "#     id1 <- sample_names[[1]]\n",
    "#     id2 <- sample_names[[2]]\n",
    "# }else{\n",
    "#     print(c)\n",
    "#     id1 <- paste(sample_names[[1]], c, sep=\"_\")\n",
    "#     id2 <- paste(sample_names[[2]], c, sep=\"_\")\n",
    "# }\n",
    "# DefaultAssay(se) <- \"chromvarnames\"\n",
    "# se.filt <- subset(se, idents %in% c(id1,id2))"
   ]
  },
  {
   "cell_type": "code",
   "execution_count": 27,
   "id": "acade9e1",
   "metadata": {},
   "outputs": [],
   "source": [
    "# donor.clusters <- function(se.filt, curr.outdir, d, all.names.sig){\n",
    "#     curr.se = subset(se.filt, donor==d)\n",
    "#     plots(curr.se, all.names.sig, curr.outdir)\n",
    "# }"
   ]
  },
  {
   "cell_type": "code",
   "execution_count": 28,
   "id": "c0daa6c8",
   "metadata": {},
   "outputs": [
    {
     "data": {
      "text/plain": [
       "R version 4.1.1 (2021-08-10)\n",
       "Platform: x86_64-conda-linux-gnu (64-bit)\n",
       "Running under: Ubuntu 20.04.3 LTS\n",
       "\n",
       "Matrix products: default\n",
       "BLAS/LAPACK: /home/isaac/miniconda3/envs/mttrace/lib/libopenblasp-r0.3.18.so\n",
       "\n",
       "locale:\n",
       " [1] LC_CTYPE=en_US.UTF-8       LC_NUMERIC=C              \n",
       " [3] LC_TIME=en_US.UTF-8        LC_COLLATE=en_US.UTF-8    \n",
       " [5] LC_MONETARY=en_US.UTF-8    LC_MESSAGES=en_US.UTF-8   \n",
       " [7] LC_PAPER=en_US.UTF-8       LC_NAME=C                 \n",
       " [9] LC_ADDRESS=C               LC_TELEPHONE=C            \n",
       "[11] LC_MEASUREMENT=en_US.UTF-8 LC_IDENTIFICATION=C       \n",
       "\n",
       "attached base packages:\n",
       "[1] stats4    stats     graphics  grDevices utils     datasets  methods  \n",
       "[8] base     \n",
       "\n",
       "other attached packages:\n",
       " [1] future_1.23.0                     RColorBrewer_1.1-2               \n",
       " [3] metap_1.1                         cowplot_1.1.1                    \n",
       " [5] magrittr_2.0.1                    data.table_1.14.2                \n",
       " [7] patchwork_1.1.1                   ggplot2_3.3.5                    \n",
       " [9] EnsDb.Hsapiens.v75_2.99.0         ensembldb_2.18.1                 \n",
       "[11] AnnotationFilter_1.18.0           GenomicFeatures_1.46.1           \n",
       "[13] AnnotationDbi_1.56.1              Biobase_2.54.0                   \n",
       "[15] dplyr_1.0.7                       BSgenome.Hsapiens.UCSC.hg38_1.4.4\n",
       "[17] BSgenome_1.62.0                   rtracklayer_1.54.0               \n",
       "[19] Biostrings_2.62.0                 XVector_0.34.0                   \n",
       "[21] GenomicRanges_1.46.0              GenomeInfoDb_1.30.0              \n",
       "[23] IRanges_2.28.0                    S4Vectors_0.32.0                 \n",
       "[25] BiocGenerics_0.40.0               TFBSTools_1.32.0                 \n",
       "[27] JASPAR2020_0.99.10                motifmatchr_1.16.0               \n",
       "[29] SeuratObject_4.0.4                Seurat_4.0.5                     \n",
       "[31] Signac_1.4.0                     \n",
       "\n",
       "loaded via a namespace (and not attached):\n",
       "  [1] rappdirs_0.3.3              SnowballC_0.7.0            \n",
       "  [3] pbdZMQ_0.3-6                scattermore_0.7            \n",
       "  [5] GGally_2.1.2                R.methodsS3_1.8.1          \n",
       "  [7] tidyr_1.1.4                 nabor_0.5.0                \n",
       "  [9] bit64_4.0.5                 irlba_2.3.3                \n",
       " [11] DelayedArray_0.20.0         R.utils_2.11.0             \n",
       " [13] rpart_4.1-15                KEGGREST_1.34.0            \n",
       " [15] RCurl_1.98-1.5              doParallel_1.0.16          \n",
       " [17] generics_0.1.1              RSQLite_2.2.8              \n",
       " [19] RANN_2.6.1                  chromVAR_1.16.0            \n",
       " [21] bit_4.0.4                   tzdb_0.2.0                 \n",
       " [23] spatstat.data_2.1-0         xml2_1.3.2                 \n",
       " [25] httpuv_1.6.3                SummarizedExperiment_1.24.0\n",
       " [27] assertthat_0.2.1            DirichletMultinomial_1.36.0\n",
       " [29] hms_1.1.1                   evaluate_0.14              \n",
       " [31] promises_1.2.0.1            fansi_0.4.2                \n",
       " [33] restfulr_0.0.13             progress_1.2.2             \n",
       " [35] caTools_1.18.2              dbplyr_2.1.1               \n",
       " [37] igraph_1.2.9                DBI_1.1.1                  \n",
       " [39] htmlwidgets_1.5.4           reshape_0.8.8              \n",
       " [41] sparsesvd_0.2               spatstat.geom_2.3-0        \n",
       " [43] purrr_0.3.4                 ellipsis_0.3.2             \n",
       " [45] annotate_1.72.0             biomaRt_2.50.0             \n",
       " [47] deldir_1.0-6                MatrixGenerics_1.6.0       \n",
       " [49] vctrs_0.3.8                 Cairo_1.5-12.2             \n",
       " [51] ROCR_1.0-11                 abind_1.4-5                \n",
       " [53] cachem_1.0.6                withr_2.4.2                \n",
       " [55] ggforce_0.3.3               sctransform_0.3.2          \n",
       " [57] GenomicAlignments_1.30.0    prettyunits_1.1.1          \n",
       " [59] goftest_1.2-3               cluster_2.1.2              \n",
       " [61] IRdisplay_1.0               lazyeval_0.2.2             \n",
       " [63] seqLogo_1.60.0              crayon_1.4.2               \n",
       " [65] pkgconfig_2.0.3             slam_0.1-49                \n",
       " [67] labeling_0.4.2              tweenr_1.0.2               \n",
       " [69] nlme_3.1-153                ProtGenerics_1.26.0        \n",
       " [71] rlang_0.4.12                globals_0.14.0             \n",
       " [73] lifecycle_1.0.1             miniUI_0.1.1.1             \n",
       " [75] filelock_1.0.2              BiocFileCache_2.2.0        \n",
       " [77] polyclip_1.10-0             matrixStats_0.61.0         \n",
       " [79] lmtest_0.9-39               Matrix_1.3-4               \n",
       " [81] ggseqlogo_0.1               IRkernel_1.2               \n",
       " [83] zoo_1.8-9                   base64enc_0.1-3            \n",
       " [85] ggridges_0.5.3              GlobalOptions_0.1.2        \n",
       " [87] png_0.1-7                   viridisLite_0.4.0          \n",
       " [89] rjson_0.2.20                bitops_1.0-7               \n",
       " [91] R.oo_1.24.0                 KernSmooth_2.23-20         \n",
       " [93] blob_1.2.2                  shape_1.4.6                \n",
       " [95] stringr_1.4.0               parallelly_1.29.0          \n",
       " [97] readr_2.1.0                 CNEr_1.30.0                \n",
       " [99] scales_1.1.1                memoise_2.0.1              \n",
       "[101] plyr_1.8.6                  ica_1.0-2                  \n",
       "[103] zlibbioc_1.40.0             compiler_4.1.1             \n",
       "[105] BiocIO_1.4.0                clue_0.3-60                \n",
       "[107] fitdistrplus_1.1-6          Rsamtools_2.10.0           \n",
       "[109] listenv_0.8.0               pbapply_1.5-0              \n",
       "[111] MASS_7.3-54                 mgcv_1.8-38                \n",
       "[113] tidyselect_1.1.1            stringi_1.7.6              \n",
       "[115] yaml_2.2.1                  ggrepel_0.9.1              \n",
       "[117] grid_4.1.1                  fastmatch_1.1-3            \n",
       "[119] tools_4.1.1                 future.apply_1.8.1         \n",
       "[121] parallel_4.1.1              circlize_0.4.13            \n",
       "[123] uuid_1.0-3                  TFMPvalue_0.0.8            \n",
       "[125] foreach_1.5.1               lsa_0.73.2                 \n",
       "[127] gridExtra_2.3               farver_2.1.0               \n",
       "[129] Rtsne_0.15                  digest_0.6.28              \n",
       "[131] shiny_1.7.1                 pracma_2.3.3               \n",
       "[133] qlcMatrix_0.9.7             Rcpp_1.0.7                 \n",
       "[135] later_1.2.0                 RcppAnnoy_0.0.19           \n",
       "[137] httr_1.4.2                  ComplexHeatmap_2.10.0      \n",
       "[139] Rdpack_2.1.2                colorspace_2.0-2           \n",
       "[141] XML_3.99-0.8                tensor_1.5                 \n",
       "[143] reticulate_1.22             splines_4.1.1              \n",
       "[145] uwot_0.1.10                 RcppRoll_0.3.0             \n",
       "[147] spatstat.utils_2.2-0        plotly_4.10.0              \n",
       "[149] xtable_1.8-4                jsonlite_1.7.2             \n",
       "[151] poweRlaw_0.70.6             R6_2.5.1                   \n",
       "[153] pillar_1.6.4                htmltools_0.5.2            \n",
       "[155] mime_0.12                   glue_1.5.1                 \n",
       "[157] fastmap_1.1.0               DT_0.20                    \n",
       "[159] BiocParallel_1.28.0         codetools_0.2-18           \n",
       "[161] utf8_1.2.2                  lattice_0.20-45            \n",
       "[163] spatstat.sparse_2.0-0       tibble_3.1.6               \n",
       "[165] curl_4.3.2                  leiden_0.3.9               \n",
       "[167] gtools_3.9.2                GO.db_3.14.0               \n",
       "[169] survival_3.2-13             limma_3.50.0               \n",
       "[171] repr_1.1.3                  docopt_0.7.1               \n",
       "[173] munsell_0.5.0               GetoptLong_1.0.5           \n",
       "[175] GenomeInfoDbData_1.2.7      iterators_1.0.13           \n",
       "[177] reshape2_1.4.4              gtable_0.3.0               \n",
       "[179] rbibutils_2.2.4             spatstat.core_2.3-2        "
      ]
     },
     "metadata": {},
     "output_type": "display_data"
    }
   ],
   "source": [
    "sessionInfo()"
   ]
  },
  {
   "cell_type": "code",
   "execution_count": null,
   "id": "2c3a2f04",
   "metadata": {},
   "outputs": [],
   "source": []
  }
 ],
 "metadata": {
  "celltoolbar": "Tags",
  "kernelspec": {
   "display_name": "R",
   "language": "R",
   "name": "ir"
  },
  "language_info": {
   "codemirror_mode": "r",
   "file_extension": ".r",
   "mimetype": "text/x-r-source",
   "name": "R",
   "pygments_lexer": "r",
   "version": "4.1.1"
  }
 },
 "nbformat": 4,
 "nbformat_minor": 5
}
