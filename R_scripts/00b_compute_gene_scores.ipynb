{
 "cells": [
  {
   "cell_type": "code",
   "execution_count": null,
   "id": "74114559",
   "metadata": {},
   "outputs": [],
   "source": [
    "library(Signac)\n",
    "library(Seurat)\n",
    "\n",
    "library(data.table)\n",
    "library(SummarizedExperiment)\n",
    "\n",
    "if(FALSE){\n",
    "  library(GenomeInfoDb)\n",
    "  library(EnsDb.Hsapiens.v75)\n",
    "  \n",
    "  # extract gene coordinates from Ensembl, and ensure name formatting is consistent with Seurat object \n",
    "  gene.coords <- genes(EnsDb.Hsapiens.v75, filter = ~ gene_biotype == \"protein_coding\")\n",
    "  seqlevelsStyle(gene.coords) <- 'UCSC'\n",
    "  genebody.coords <- keepStandardChromosomes(gene.coords, pruning.mode = 'coarse')\n",
    "  genebodyandpromoter.coords <- Extend(x = gene.coords, upstream = 2000, downstream = 0)\n",
    "  saveRDS(genebodyandpromoter.coords, \"../data/genebodyandpromoter.coords_EnsDb.Hsapiens.v75.rds\")\n",
    "}\n",
    "\n",
    "genebodyandpromoter.coords <- readRDS(\"../data/genebodyandpromoter.coords_EnsDb.Hsapiens.v75.rds\")\n",
    "\n",
    "get_gene_scores <- function(lib){\n",
    "  \n",
    "  qcdf <- fread(paste0(\"../data/singlecell_sumstats/\", exp,\"_v12-mtMask_singlecell.csv.gz\"), header = TRUE, sep = \",\") %>% \n",
    "    data.frame() %>% filter(cell_id != \"None\")\n",
    "  cells <- as.character(qcdf$barcode)\n",
    "  fragment_file <- paste0(\"../../../mtscATACpaper_large_data_files/source/cellranger_output/\", exp, \"_v12-mtMask_fragments.tsv.gz\")\n",
    "\n",
    "  # create a gene by cell matrix\n",
    "  gene.activities <- FeatureMatrix(\n",
    "    fragments = fragment_file,\n",
    "    features = genebodyandpromoter.coords,\n",
    "    cells = cells,\n",
    "    chunk = 10\n",
    "  )\n",
    "  \n",
    "  # convert rownames from chromsomal coordinates into gene names\n",
    "  gene.key <- genebodyandpromoter.coords$gene_name\n",
    "  names(gene.key) <- GRangesToString(grange = genebodyandpromoter.coords)\n",
    "  rownames(gene.activities) <- gene.key[rownames(gene.activities)]\n",
    "  saveRDS(gene.activities, file =  paste0(\"../../../mtscATACpaper_large_data_files/intermediate/\",lib,\".gene_activities.rds\"))\n",
    "}\n",
    "get_gene_scores(\"CD34_H8\")\n",
    "get_gene_scores(\"CD34_G10\")\n",
    "get_gene_scores(\"PBMC_H10\")\n",
    "get_gene_scores(\"PBMC_H9\")"
   ]
  }
 ],
 "metadata": {
  "kernelspec": {
   "display_name": "R [conda env:mito_trace] *",
   "language": "R",
   "name": "conda-env-mito_trace-r"
  },
  "language_info": {
   "codemirror_mode": "r",
   "file_extension": ".r",
   "mimetype": "text/x-r-source",
   "name": "R",
   "pygments_lexer": "r",
   "version": "4.0.2"
  }
 },
 "nbformat": 4,
 "nbformat_minor": 5
}
