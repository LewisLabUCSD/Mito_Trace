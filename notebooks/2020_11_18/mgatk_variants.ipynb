{
 "cells": [
  {
   "cell_type": "code",
   "execution_count": 1,
   "metadata": {
    "ExecuteTime": {
     "end_time": "2020-12-11T05:51:25.982239Z",
     "start_time": "2020-12-11T05:51:25.785208Z"
    }
   },
   "outputs": [
    {
     "name": "stdout",
     "output_type": "stream",
     "text": [
      "Project Directory: /data2/mito_lineage\n"
     ]
    }
   ],
   "source": [
    "from src.config import ROOT_DIR, RESULTS\n",
    "import os\n",
    "from os.path import join, exists\n",
    "from glob import glob"
   ]
  },
  {
   "cell_type": "code",
   "execution_count": 2,
   "metadata": {
    "ExecuteTime": {
     "end_time": "2020-12-11T05:51:25.987086Z",
     "start_time": "2020-12-11T05:51:25.984366Z"
    }
   },
   "outputs": [],
   "source": [
    "os.chdir(ROOT_DIR)"
   ]
  },
  {
   "cell_type": "code",
   "execution_count": 3,
   "metadata": {
    "ExecuteTime": {
     "end_time": "2020-12-11T05:51:25.997085Z",
     "start_time": "2020-12-11T05:51:25.989266Z"
    }
   },
   "outputs": [],
   "source": [
    "indir=join(RESULTS,\"mttrace\")\n",
    "in_prefix = '2020_11_18'\n",
    "mapq = \"mapq_0\"\n",
    "num_reads = 200\n",
    "pbmc_j = \"PBMC_J\"\n",
    "pbmc_p = \"PBMC_P\"\n",
    "\n",
    "\n",
    "\n",
    "pbmc_j_indir = join(indir, in_prefix, pbmc_j,\"mapq_0\")\n",
    "pbmc_p_indir = join(indir, in_prefix, pbmc_p,\"mapq_0\")\n",
    "\n",
    "# sc_coverage_pbmc_j_f = join(pbmc_j_indir,\"scPileup_concat_200\",pbmc_j+\"_200_all.coverage.txt.gz\")\n",
    "# sc_coverage_pbmc_p_f = join(pbmc_p_indir,\"scPileup_concat_200\",pbmc_p + \"_200_all.coverage.txt.gz\")\n",
    "\n",
    "coverage_pbmc_j_dir = join(pbmc_j_indir,pbmc_j+\"_scPileup_200\")\n",
    "coverage_pbmc_p_dir = join(pbmc_p_indir,pbmc_p+\"_scPileup_200\")\n",
    "\n",
    "concat_pbmc_j_dir = join(pbmc_j_indir,\"scPileup_concat_200\")\n",
    "concat_pbmc_p_dir = join(pbmc_p_indir,\"scPileup_concat_200\")"
   ]
  },
  {
   "cell_type": "code",
   "execution_count": 4,
   "metadata": {
    "ExecuteTime": {
     "end_time": "2020-12-11T05:51:26.027469Z",
     "start_time": "2020-12-11T05:51:25.998966Z"
    },
    "scrolled": true
   },
   "outputs": [
    {
     "name": "stdout",
     "output_type": "stream",
     "text": [
      "/data2/mito_lineage/software/toRDS.R\n",
      "/data2/mito_lineage/software/variant_calling.R\n"
     ]
    }
   ],
   "source": [
    "r_script = join(ROOT_DIR, \"software\",\"toRDS.R\")\n",
    "assert(exists(r_script))\n",
    "print(r_script)\n",
    "\n",
    "variant_script = join(ROOT_DIR, \"software\",\"variant_calling.R\")\n",
    "assert(exists(variant_script))\n",
    "print(variant_script)"
   ]
  },
  {
   "cell_type": "markdown",
   "metadata": {},
   "source": [
    "# 1. Create a Seurate Summarized Experiment object "
   ]
  },
  {
   "cell_type": "code",
   "execution_count": 5,
   "metadata": {
    "ExecuteTime": {
     "end_time": "2020-12-11T05:51:26.040860Z",
     "start_time": "2020-12-11T05:51:26.029278Z"
    }
   },
   "outputs": [],
   "source": [
    "data_dir = concat_pbmc_j_dir\n",
    "name = pbmc_j"
   ]
  },
  {
   "cell_type": "code",
   "execution_count": 10,
   "metadata": {
    "ExecuteTime": {
     "end_time": "2020-12-11T05:55:59.017500Z",
     "start_time": "2020-12-11T05:55:53.829668Z"
    },
    "scrolled": true
   },
   "outputs": [
    {
     "name": "stdout",
     "output_type": "stream",
     "text": [
      "Rscript /data2/mito_lineage/software/toRDS.R /data2/mito_lineage/data/processed/mttrace/2020_11_18/PBMC_J/mapq_0/scPileup_concat_200 PBMC_J\n",
      "Error in checkGrep(grep(\".depthTable.txt\", files)) : \n",
      "  Improper folder specification; file missing / extra file present. See documentation\n",
      "Calls: importMito -> checkGrep\n",
      "Execution halted\n"
     ]
    }
   ],
   "source": [
    "cmd = f\"Rscript {r_script} {data_dir} {name}\" \n",
    "print(cmd)\n",
    "!{cmd}"
   ]
  },
  {
   "cell_type": "markdown",
   "metadata": {},
   "source": [
    "# 2. call_mutations_mgatk(SE) using variant_calling.R"
   ]
  },
  {
   "cell_type": "code",
   "execution_count": 7,
   "metadata": {
    "ExecuteTime": {
     "end_time": "2020-12-11T04:51:53.498936Z",
     "start_time": "2020-12-11T04:51:53.457670Z"
    }
   },
   "outputs": [],
   "source": [
    "r_obj = join(data_dir, name + \".rds\")"
   ]
  },
  {
   "cell_type": "code",
   "execution_count": 8,
   "metadata": {
    "ExecuteTime": {
     "end_time": "2020-12-11T04:52:41.349377Z",
     "start_time": "2020-12-11T04:51:53.521771Z"
    },
    "scrolled": true
   },
   "outputs": [
    {
     "name": "stdout",
     "output_type": "stream",
     "text": [
      "Rscript /data2/mito_lineage/software/variant_calling.R /data2/mito_lineage/data/processed/mttrace/2020_11_18/PBMC_J/mapq_0/scPileup_concat_200/PBMC_J.rds\n",
      "Loading required package: GenomicRanges\n",
      "Loading required package: stats4\n",
      "Loading required package: BiocGenerics\n",
      "Loading required package: parallel\n",
      "\n",
      "Attaching package: ‘BiocGenerics’\n",
      "\n",
      "The following objects are masked from ‘package:parallel’:\n",
      "\n",
      "    clusterApply, clusterApplyLB, clusterCall, clusterEvalQ,\n",
      "    clusterExport, clusterMap, parApply, parCapply, parLapply,\n",
      "    parLapplyLB, parRapply, parSapply, parSapplyLB\n",
      "\n",
      "The following objects are masked from ‘package:stats’:\n",
      "\n",
      "    IQR, mad, sd, var, xtabs\n",
      "\n",
      "The following objects are masked from ‘package:base’:\n",
      "\n",
      "    anyDuplicated, append, as.data.frame, basename, cbind, colMeans,\n",
      "    colnames, colSums, dirname, do.call, duplicated, eval, evalq,\n",
      "    Filter, Find, get, grep, grepl, intersect, is.unsorted, lapply,\n",
      "    lengths, Map, mapply, match, mget, order, paste, pmax, pmax.int,\n",
      "    pmin, pmin.int, Position, rank, rbind, Reduce, rowMeans, rownames,\n",
      "    rowSums, sapply, setdiff, sort, table, tapply, union, unique,\n",
      "    unsplit, which, which.max, which.min\n",
      "\n",
      "Loading required package: S4Vectors\n",
      "\n",
      "Attaching package: ‘S4Vectors’\n",
      "\n",
      "The following object is masked from ‘package:base’:\n",
      "\n",
      "    expand.grid\n",
      "\n",
      "Loading required package: IRanges\n",
      "Loading required package: GenomeInfoDb\n",
      "Loading required package: Biobase\n",
      "Welcome to Bioconductor\n",
      "\n",
      "    Vignettes contain introductory material; view with\n",
      "    'browseVignettes()'. To cite Bioconductor, see\n",
      "    'citation(\"Biobase\")', and for packages 'citation(\"pkgname\")'.\n",
      "\n",
      "Loading required package: DelayedArray\n",
      "Loading required package: matrixStats\n",
      "\n",
      "Attaching package: ‘matrixStats’\n",
      "\n",
      "The following objects are masked from ‘package:Biobase’:\n",
      "\n",
      "    anyMissing, rowMedians\n",
      "\n",
      "Loading required package: BiocParallel\n",
      "\n",
      "Attaching package: ‘DelayedArray’\n",
      "\n",
      "The following objects are masked from ‘package:matrixStats’:\n",
      "\n",
      "    colMaxs, colMins, colRanges, rowMaxs, rowMins, rowRanges\n",
      "\n",
      "The following objects are masked from ‘package:base’:\n",
      "\n",
      "    aperm, apply\n",
      "\n",
      "\n",
      "Attaching package: ‘Matrix’\n",
      "\n",
      "The following object is masked from ‘package:S4Vectors’:\n",
      "\n",
      "    expand\n",
      "\n",
      "\n",
      "Attaching package: ‘dplyr’\n",
      "\n",
      "The following object is masked from ‘package:matrixStats’:\n",
      "\n",
      "    count\n",
      "\n",
      "The following object is masked from ‘package:Biobase’:\n",
      "\n",
      "    combine\n",
      "\n",
      "The following objects are masked from ‘package:GenomicRanges’:\n",
      "\n",
      "    intersect, setdiff, union\n",
      "\n",
      "The following object is masked from ‘package:GenomeInfoDb’:\n",
      "\n",
      "    intersect\n",
      "\n",
      "The following objects are masked from ‘package:IRanges’:\n",
      "\n",
      "    collapse, desc, intersect, setdiff, slice, union\n",
      "\n",
      "The following objects are masked from ‘package:S4Vectors’:\n",
      "\n",
      "    first, intersect, rename, setdiff, setequal, union\n",
      "\n",
      "The following objects are masked from ‘package:BiocGenerics’:\n",
      "\n",
      "    combine, intersect, setdiff, union\n",
      "\n",
      "The following objects are masked from ‘package:stats’:\n",
      "\n",
      "    filter, lag\n",
      "\n",
      "The following objects are masked from ‘package:base’:\n",
      "\n",
      "    intersect, setdiff, setequal, union\n",
      "\n",
      "\n",
      "Attaching package: ‘data.table’\n",
      "\n",
      "The following objects are masked from ‘package:dplyr’:\n",
      "\n",
      "    between, first, last\n",
      "\n",
      "The following object is masked from ‘package:SummarizedExperiment’:\n",
      "\n",
      "    shift\n",
      "\n",
      "The following object is masked from ‘package:GenomicRanges’:\n",
      "\n",
      "    shift\n",
      "\n",
      "The following object is masked from ‘package:IRanges’:\n",
      "\n",
      "    shift\n",
      "\n",
      "The following objects are masked from ‘package:S4Vectors’:\n",
      "\n",
      "    first, second\n",
      "\n",
      "Error in gzfile(file, \"rb\") : cannot open the connection\n",
      "Calls: readRDS -> gzfile\n",
      "In addition: Warning message:\n",
      "In gzfile(file, \"rb\") :\n",
      "  cannot open compressed file '/data2/mito_lineage/data/processed/mttrace/2020_11_18/PBMC_J/mapq_0/scPileup_concat_200/PBMC_J.rds', probable reason 'No such file or directory'\n",
      "Execution halted\n"
     ]
    }
   ],
   "source": [
    "%matplotlib inline\n",
    "cmd = f\"Rscript {variant_script} {r_obj}\"\n",
    "print(cmd)\n",
    "!{cmd}"
   ]
  },
  {
   "cell_type": "code",
   "execution_count": null,
   "metadata": {},
   "outputs": [],
   "source": []
  }
 ],
 "metadata": {
  "kernelspec": {
   "display_name": "Python 3",
   "language": "python",
   "name": "python3"
  },
  "language_info": {
   "codemirror_mode": {
    "name": "ipython",
    "version": 3
   },
   "file_extension": ".py",
   "mimetype": "text/x-python",
   "name": "python",
   "nbconvert_exporter": "python",
   "pygments_lexer": "ipython3",
   "version": "3.7.3"
  }
 },
 "nbformat": 4,
 "nbformat_minor": 4
}
