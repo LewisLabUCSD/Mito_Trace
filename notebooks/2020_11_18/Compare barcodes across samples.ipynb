{
 "cells": [
  {
   "cell_type": "code",
   "execution_count": 6,
   "metadata": {
    "ExecuteTime": {
     "end_time": "2021-01-04T01:00:15.407105Z",
     "start_time": "2021-01-04T01:00:15.396394Z"
    }
   },
   "outputs": [],
   "source": [
    "import os\n",
    "\n",
    "from glob import glob\n",
    "from os.path import basename, exists, join, dirname\n",
    "import pandas as pd\n",
    "from src.config import ROOT_DIR, RESULTS\n",
    "import pickle\n",
    "os.chdir(ROOT_DIR)\n",
    "\n",
    "import seaborn as sns\n",
    "import numpy as np\n",
    "import matplotlib.pyplot as plt\n",
    "from src.external.pyvenn import venn"
   ]
  },
  {
   "cell_type": "code",
   "execution_count": 15,
   "metadata": {
    "ExecuteTime": {
     "end_time": "2021-01-04T01:04:45.620200Z",
     "start_time": "2021-01-04T01:04:45.499938Z"
    }
   },
   "outputs": [],
   "source": [
    "from matplotlib_venn import venn2"
   ]
  },
  {
   "cell_type": "code",
   "execution_count": 2,
   "metadata": {
    "ExecuteTime": {
     "end_time": "2021-01-04T00:58:05.834056Z",
     "start_time": "2021-01-04T00:58:05.829715Z"
    }
   },
   "outputs": [],
   "source": [
    "outdir = \"data/processed/2020_11_18_Croker_mito\"\n",
    "outdir_cov = join(outdir, \"coverage\")"
   ]
  },
  {
   "cell_type": "code",
   "execution_count": 3,
   "metadata": {
    "ExecuteTime": {
     "end_time": "2021-01-04T00:58:06.549559Z",
     "start_time": "2021-01-04T00:58:06.468731Z"
    }
   },
   "outputs": [
    {
     "data": {
      "text/html": [
       "<div>\n",
       "<style scoped>\n",
       "    .dataframe tbody tr th:only-of-type {\n",
       "        vertical-align: middle;\n",
       "    }\n",
       "\n",
       "    .dataframe tbody tr th {\n",
       "        vertical-align: top;\n",
       "    }\n",
       "\n",
       "    .dataframe thead th {\n",
       "        text-align: right;\n",
       "    }\n",
       "</style>\n",
       "<table border=\"1\" class=\"dataframe\">\n",
       "  <thead>\n",
       "    <tr style=\"text-align: right;\">\n",
       "      <th></th>\n",
       "      <th>sample</th>\n",
       "      <th>raw</th>\n",
       "      <th>barcode_f</th>\n",
       "      <th>bam_f</th>\n",
       "    </tr>\n",
       "  </thead>\n",
       "  <tbody>\n",
       "    <tr>\n",
       "      <th>0</th>\n",
       "      <td>PBMC_J</td>\n",
       "      <td>NaN</td>\n",
       "      <td>/data2/isshamie/mito_lineage/data/processed/mt...</td>\n",
       "      <td>/data2/isshamie/mito_lineage/data/processed/mt...</td>\n",
       "    </tr>\n",
       "    <tr>\n",
       "      <th>1</th>\n",
       "      <td>PBMC_P</td>\n",
       "      <td>NaN</td>\n",
       "      <td>/data2/isshamie/mito_lineage/data/processed/mt...</td>\n",
       "      <td>/data2/isshamie/mito_lineage/data/processed/mt...</td>\n",
       "    </tr>\n",
       "  </tbody>\n",
       "</table>\n",
       "</div>"
      ],
      "text/plain": [
       "   sample  raw                                          barcode_f  \\\n",
       "0  PBMC_J  NaN  /data2/isshamie/mito_lineage/data/processed/mt...   \n",
       "1  PBMC_P  NaN  /data2/isshamie/mito_lineage/data/processed/mt...   \n",
       "\n",
       "                                               bam_f  \n",
       "0  /data2/isshamie/mito_lineage/data/processed/mt...  \n",
       "1  /data2/isshamie/mito_lineage/data/processed/mt...  "
      ]
     },
     "execution_count": 3,
     "metadata": {},
     "output_type": "execute_result"
    }
   ],
   "source": [
    "samples = pd.read_csv(\"parameters/2020_11_18_Croker_mito.csv\")\n",
    "samples"
   ]
  },
  {
   "cell_type": "code",
   "execution_count": 4,
   "metadata": {
    "ExecuteTime": {
     "end_time": "2021-01-04T00:58:12.149118Z",
     "start_time": "2021-01-04T00:58:11.930406Z"
    }
   },
   "outputs": [
    {
     "data": {
      "text/plain": [
       "{'samples': 'parameters/2020_11_18_Croker_mito.csv',\n",
       " 'results': 'data/processed/mttrace/2020_11_18',\n",
       " 'figures': 'figures/mttrace/2020_11_18',\n",
       " 'main': ['mtscATAC'],\n",
       " 'use_cellr_barcode': [True],\n",
       " 'num_reads_filter': [200],\n",
       " 'mito_character': 'chrM',\n",
       " 'maxBP': 16571,\n",
       " 'mapq': [0],\n",
       " 'ref_fa': '/data2/mito_lineage/data/external/GRCh38_MT_blacklist/fasta/genome.fa',\n",
       " 'mt_ref_fa': '/data2/mito_lineage/data/external/GRCh38_MT_blacklist/chrM.fasta',\n",
       " 'min_cells': [100, 500, 10],\n",
       " 'min_reads': [100],\n",
       " 'top_cells': [0],\n",
       " 'top_pos': [0],\n",
       " 'cell_mt_coverage': [10, 100],\n",
       " 'position_bq_thresh': [0, 'Gaussian']}"
      ]
     },
     "execution_count": 4,
     "metadata": {},
     "output_type": "execute_result"
    }
   ],
   "source": [
    "from src.utils.parse_config import *\n",
    "p = read_config_file(\"parameters/2020_11_18_Croker_mito.yaml\")\n",
    "p"
   ]
  },
  {
   "cell_type": "code",
   "execution_count": 5,
   "metadata": {
    "ExecuteTime": {
     "end_time": "2021-01-04T00:58:12.896247Z",
     "start_time": "2021-01-04T00:58:12.881231Z"
    }
   },
   "outputs": [
    {
     "data": {
      "text/html": [
       "<div>\n",
       "<style scoped>\n",
       "    .dataframe tbody tr th:only-of-type {\n",
       "        vertical-align: middle;\n",
       "    }\n",
       "\n",
       "    .dataframe tbody tr th {\n",
       "        vertical-align: top;\n",
       "    }\n",
       "\n",
       "    .dataframe thead th {\n",
       "        text-align: right;\n",
       "    }\n",
       "</style>\n",
       "<table border=\"1\" class=\"dataframe\">\n",
       "  <thead>\n",
       "    <tr style=\"text-align: right;\">\n",
       "      <th></th>\n",
       "      <th>sample</th>\n",
       "      <th>raw</th>\n",
       "      <th>barcode_f</th>\n",
       "      <th>bam_f</th>\n",
       "    </tr>\n",
       "  </thead>\n",
       "  <tbody>\n",
       "    <tr>\n",
       "      <th>0</th>\n",
       "      <td>PBMC_J</td>\n",
       "      <td>NaN</td>\n",
       "      <td>/data2/isshamie/mito_lineage/data/processed/mt...</td>\n",
       "      <td>/data2/isshamie/mito_lineage/data/processed/mt...</td>\n",
       "    </tr>\n",
       "    <tr>\n",
       "      <th>1</th>\n",
       "      <td>PBMC_P</td>\n",
       "      <td>NaN</td>\n",
       "      <td>/data2/isshamie/mito_lineage/data/processed/mt...</td>\n",
       "      <td>/data2/isshamie/mito_lineage/data/processed/mt...</td>\n",
       "    </tr>\n",
       "  </tbody>\n",
       "</table>\n",
       "</div>"
      ],
      "text/plain": [
       "   sample  raw                                          barcode_f  \\\n",
       "0  PBMC_J  NaN  /data2/isshamie/mito_lineage/data/processed/mt...   \n",
       "1  PBMC_P  NaN  /data2/isshamie/mito_lineage/data/processed/mt...   \n",
       "\n",
       "                                               bam_f  \n",
       "0  /data2/isshamie/mito_lineage/data/processed/mt...  \n",
       "1  /data2/isshamie/mito_lineage/data/processed/mt...  "
      ]
     },
     "execution_count": 5,
     "metadata": {},
     "output_type": "execute_result"
    }
   ],
   "source": [
    "samples"
   ]
  },
  {
   "cell_type": "code",
   "execution_count": 8,
   "metadata": {
    "ExecuteTime": {
     "end_time": "2021-01-04T01:01:46.889407Z",
     "start_time": "2021-01-04T01:01:46.871254Z"
    }
   },
   "outputs": [
    {
     "data": {
      "text/html": [
       "<div>\n",
       "<style scoped>\n",
       "    .dataframe tbody tr th:only-of-type {\n",
       "        vertical-align: middle;\n",
       "    }\n",
       "\n",
       "    .dataframe tbody tr th {\n",
       "        vertical-align: top;\n",
       "    }\n",
       "\n",
       "    .dataframe thead th {\n",
       "        text-align: right;\n",
       "    }\n",
       "</style>\n",
       "<table border=\"1\" class=\"dataframe\">\n",
       "  <thead>\n",
       "    <tr style=\"text-align: right;\">\n",
       "      <th></th>\n",
       "      <th>sample</th>\n",
       "      <th>raw</th>\n",
       "      <th>barcode_f</th>\n",
       "      <th>bam_f</th>\n",
       "      <th>cellr_barcode_filt_f</th>\n",
       "    </tr>\n",
       "  </thead>\n",
       "  <tbody>\n",
       "    <tr>\n",
       "      <th>0</th>\n",
       "      <td>PBMC_J</td>\n",
       "      <td>NaN</td>\n",
       "      <td>/data2/isshamie/mito_lineage/data/processed/mt...</td>\n",
       "      <td>/data2/isshamie/mito_lineage/data/processed/mt...</td>\n",
       "      <td>/data2/isshamie/mito_lineage/data/processed/mt...</td>\n",
       "    </tr>\n",
       "    <tr>\n",
       "      <th>1</th>\n",
       "      <td>PBMC_P</td>\n",
       "      <td>NaN</td>\n",
       "      <td>/data2/isshamie/mito_lineage/data/processed/mt...</td>\n",
       "      <td>/data2/isshamie/mito_lineage/data/processed/mt...</td>\n",
       "      <td>/data2/isshamie/mito_lineage/data/processed/mt...</td>\n",
       "    </tr>\n",
       "  </tbody>\n",
       "</table>\n",
       "</div>"
      ],
      "text/plain": [
       "   sample  raw                                          barcode_f  \\\n",
       "0  PBMC_J  NaN  /data2/isshamie/mito_lineage/data/processed/mt...   \n",
       "1  PBMC_P  NaN  /data2/isshamie/mito_lineage/data/processed/mt...   \n",
       "\n",
       "                                               bam_f  \\\n",
       "0  /data2/isshamie/mito_lineage/data/processed/mt...   \n",
       "1  /data2/isshamie/mito_lineage/data/processed/mt...   \n",
       "\n",
       "                                cellr_barcode_filt_f  \n",
       "0  /data2/isshamie/mito_lineage/data/processed/mt...  \n",
       "1  /data2/isshamie/mito_lineage/data/processed/mt...  "
      ]
     },
     "execution_count": 8,
     "metadata": {},
     "output_type": "execute_result"
    }
   ],
   "source": [
    "samples['cellr_barcode_filt_f'] = samples['bam_f'].apply(lambda x: join(dirname(x),\"filtered_peak_bc_matrix\",\"barcodes.tsv\"))\n",
    "samples\n"
   ]
  },
  {
   "cell_type": "code",
   "execution_count": 11,
   "metadata": {
    "ExecuteTime": {
     "end_time": "2021-01-04T01:03:19.916154Z",
     "start_time": "2021-01-04T01:03:19.899530Z"
    }
   },
   "outputs": [],
   "source": [
    "barcodes_dict = {}\n",
    "for ind, val in samples.iterrows():\n",
    "    barcodes_dict[val[\"sample\"]] = pd.read_csv(val[\"cellr_barcode_filt_f\"], header=None)"
   ]
  },
  {
   "cell_type": "code",
   "execution_count": 18,
   "metadata": {
    "ExecuteTime": {
     "end_time": "2021-01-04T01:05:26.497972Z",
     "start_time": "2021-01-04T01:05:26.427908Z"
    },
    "scrolled": true
   },
   "outputs": [
    {
     "data": {
      "text/plain": [
       "<matplotlib_venn._common.VennDiagram at 0x7f010d89a860>"
      ]
     },
     "execution_count": 18,
     "metadata": {},
     "output_type": "execute_result"
    },
    {
     "data": {
      "image/png": "[encoded data removed]",
      "text/plain": [
       "<Figure size 432x288 with 1 Axes>"
      ]
     },
     "metadata": {},
     "output_type": "display_data"
    }
   ],
   "source": [
    "%matplotlib inline\n",
    "venn2(subsets=[set(barcodes_dict[\"PBMC_J\"][0].values),set(barcodes_dict[\"PBMC_P\"][0].values)])"
   ]
  },
  {
   "cell_type": "code",
   "execution_count": 19,
   "metadata": {
    "ExecuteTime": {
     "end_time": "2021-01-04T01:07:02.451976Z",
     "start_time": "2021-01-04T01:07:02.439869Z"
    },
    "scrolled": true
   },
   "outputs": [
    {
     "data": {
      "text/plain": [
       "{'AACATCGGTCATTGGT-1',\n",
       " 'AACCAACCAGAATGCG-1',\n",
       " 'AACGAGGGTGCTAGTT-1',\n",
       " 'AACTGGTCAACATAAG-1',\n",
       " 'AACTGTGAGCGCCTAC-1',\n",
       " 'AAGATAGCAATTGGCT-1',\n",
       " 'AAGATAGGTCCTTATT-1',\n",
       " 'AAGGAGCCACTAGGAG-1',\n",
       " 'AATACGCCAAACCTAC-1',\n",
       " 'AATGGAAAGCTTCAAC-1',\n",
       " 'ACAAGCTCATCATGTG-1',\n",
       " 'ACAGACTGTCCGAGCT-1',\n",
       " 'ACAGCGCGTTTGCGAT-1',\n",
       " 'ACATGCAGTGCGCTCA-1',\n",
       " 'ACCGAATTCTGGACAT-1',\n",
       " 'ACTACCCCACTCAAGT-1',\n",
       " 'ACTAGGTTCGGATAAA-1',\n",
       " 'ACTATTCTCCCAATGA-1',\n",
       " 'AGCGATTGTTCCTATT-1',\n",
       " 'AGGCGAATCACAACAC-1',\n",
       " 'ATCCTGCAGTCGTGAG-1',\n",
       " 'ATCGAGTGTAAGGTCG-1',\n",
       " 'ATTCGTTAGAACCCGA-1',\n",
       " 'CAAGGCCTCATGAACC-1',\n",
       " 'CAAGGCCTCCGCTCTA-1',\n",
       " 'CAATCCCCAATGCCAT-1',\n",
       " 'CAGCTGGTCTATCTAC-1',\n",
       " 'CCTATTAGTAGCAGCA-1',\n",
       " 'CCTGCTATCCAGTTAG-1',\n",
       " 'CGCACAGGTAGTCCAT-1',\n",
       " 'CGTACAAGTGAGTAAT-1',\n",
       " 'CTCAGAACATGTAGAA-1',\n",
       " 'CTCTACGGTTCCGGCA-1',\n",
       " 'CTGGGACCAGTCAGAG-1',\n",
       " 'CTTGTCGGTATTGTCG-1',\n",
       " 'GAGCGCTCACCACCAG-1',\n",
       " 'GATTGACTCTCCACTG-1',\n",
       " 'GCAGATTAGGTACACG-1',\n",
       " 'GCAGCCAAGCGTTAGG-1',\n",
       " 'GCCATAACACGCTCAG-1',\n",
       " 'GCGAGTCGTCTAACCA-1',\n",
       " 'GGAACTTCAAAGCTGG-1',\n",
       " 'GGAGGATCACTCGCAG-1',\n",
       " 'GGAGGATTCCGGAAAG-1',\n",
       " 'GTCTACCTCCATTGAG-1',\n",
       " 'GTGTCCTAGCTGCTCG-1',\n",
       " 'GTTACGACAAGCACTT-1',\n",
       " 'TACGCCTCACATAAAG-1',\n",
       " 'TATCGAGCACTGTTAG-1',\n",
       " 'TCACTCGAGAGCACTG-1',\n",
       " 'TCCAGAATCCCAGCAG-1',\n",
       " 'TCCATCGTCGCAACTA-1',\n",
       " 'TCCCACATCTAGCAAC-1',\n",
       " 'TCGCCTAAGTTAGCGG-1',\n",
       " 'TGAGTCACAACTCCCT-1',\n",
       " 'TGATGCACACCCTTTG-1',\n",
       " 'TGGTCCTTCGCTATTT-1',\n",
       " 'TGTAAGCAGCTTTCCC-1',\n",
       " 'TGTAGCAAGCAATGTA-1',\n",
       " 'TGTAGCAGTTAGCTCA-1',\n",
       " 'TTAGCTTCAACTCGAT-1',\n",
       " 'TTAGCTTTCGAGTTAC-1',\n",
       " 'TTCAACTGTTTCCTAT-1',\n",
       " 'TTCGCGTTCACTGGTA-1',\n",
       " 'TTGCAGAGTTAGGAAT-1',\n",
       " 'TTGCTTAGTCATCGTA-1',\n",
       " 'TTGGTCCAGACCCTAT-1',\n",
       " 'TTTGCGCCAACTCGAT-1',\n",
       " 'TTTGGTTTCTACATCT-1'}"
      ]
     },
     "execution_count": 19,
     "metadata": {},
     "output_type": "execute_result"
    }
   ],
   "source": [
    "set(barcodes_dict[\"PBMC_J\"][0].values).intersection(set(barcodes_dict[\"PBMC_P\"][0].values))"
   ]
  }
 ],
 "metadata": {
  "kernelspec": {
   "display_name": "Python 3",
   "language": "python",
   "name": "python3"
  },
  "language_info": {
   "codemirror_mode": {
    "name": "ipython",
    "version": 3
   },
   "file_extension": ".py",
   "mimetype": "text/x-python",
   "name": "python",
   "nbconvert_exporter": "python",
   "pygments_lexer": "ipython3",
   "version": "3.7.3"
  }
 },
 "nbformat": 4,
 "nbformat_minor": 4
}
