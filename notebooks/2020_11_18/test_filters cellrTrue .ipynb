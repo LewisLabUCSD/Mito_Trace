{
 "cells": [
  {
   "cell_type": "markdown",
   "metadata": {},
   "source": [
    "# Filter cells+positions+variants using thresholds\n",
    "\n",
    "Saving as: \n",
    "1) NT pileup format for mgatk, similar to the input\n",
    "2) Filtered af_by_cell matrix. This may not get used b/c we will call variants with mgatk later, but nice to have\n",
    "3) Sparse matrices of Depth + allele frequency. These could be used for vireo. \n",
    "\n",
    "Create a function to convert between NT pileup and sparse matrices."
   ]
  },
  {
   "cell_type": "code",
   "execution_count": null,
   "metadata": {},
   "outputs": [],
   "source": [
    "def convert_df_to_sparse(df, in_fmt=\"wide\", out_f=None):\n",
    "    sparse_df = pd.DataFrame()\n",
    "    if out_f is not None:\n",
    "        sparse_df.to_csv(out_f, sep='\\t')\n",
    "    return`"
   ]
  },
  {
   "cell_type": "code",
   "execution_count": 1,
   "metadata": {
    "ExecuteTime": {
     "end_time": "2020-12-14T20:11:16.175019Z",
     "start_time": "2020-12-14T20:11:15.769227Z"
    },
    "scrolled": true
   },
   "outputs": [],
   "source": [
    "%load_ext autoreload\n",
    "%autoreload 2\n",
    "%matplotlib inline \n"
   ]
  },
  {
   "cell_type": "code",
   "execution_count": 2,
   "metadata": {
    "ExecuteTime": {
     "end_time": "2020-12-14T20:11:16.927725Z",
     "start_time": "2020-12-14T20:11:16.177564Z"
    }
   },
   "outputs": [
    {
     "name": "stdout",
     "output_type": "stream",
     "text": [
      "Project Directory: /data2/mito_lineage\n"
     ]
    }
   ],
   "source": [
    "import os\n",
    "from os.path import join\n",
    "import pandas as pd\n",
    "from src.config import RESULTS, FIGURES_DIR, ROOT_DIR\n",
    "from src.calculate_AF_by_cell import calculate_af\n",
    "#ref_fa = \"/data2/genome/human_GRCh38/cellranger/refdata-cellranger-GRCh38-3.0.0/fasta/genome.fa\"\n",
    "#ref_fa=\"/data2/mito_lineage/BWA-Primers-MT/MT_genome/MT.fasta\"\n",
    "maxBP = 16571\n",
    "\n",
    "\n",
    "import numpy as np"
   ]
  },
  {
   "cell_type": "code",
   "execution_count": 3,
   "metadata": {
    "ExecuteTime": {
     "end_time": "2020-12-14T20:11:17.150027Z",
     "start_time": "2020-12-14T20:11:16.930177Z"
    }
   },
   "outputs": [
    {
     "name": "stdout",
     "output_type": "stream",
     "text": [
      "fig_utils from mplh\n",
      "here\n"
     ]
    }
   ],
   "source": [
    "from matplotlib_venn import venn2\n",
    "\n",
    "import seaborn as sns\n",
    "import matplotlib.pyplot as plt\n",
    "\n",
    "from mplh import cluster_help"
   ]
  },
  {
   "cell_type": "code",
   "execution_count": 4,
   "metadata": {
    "ExecuteTime": {
     "end_time": "2020-12-14T20:11:17.172879Z",
     "start_time": "2020-12-14T20:11:17.152182Z"
    }
   },
   "outputs": [],
   "source": [
    "os.chdir(ROOT_DIR)"
   ]
  },
  {
   "cell_type": "markdown",
   "metadata": {},
   "source": [
    "## Files setup"
   ]
  },
  {
   "cell_type": "code",
   "execution_count": 5,
   "metadata": {
    "ExecuteTime": {
     "end_time": "2020-12-14T20:11:17.200786Z",
     "start_time": "2020-12-14T20:11:17.174966Z"
    }
   },
   "outputs": [],
   "source": [
    "indir=join(RESULTS,\"mttrace\")\n",
    "mapq = \"mapq_0\"\n",
    "num_reads = 200\n",
    "cellr=\"True\"\n",
    "in_prefix = f'2020_11_18'\n",
    "pbmc_j = \"PBMC_J\"\n",
    "pbmc_p = \"PBMC_P\"\n",
    "\n",
    "\n",
    "\n",
    "pbmc_j_indir = join(indir, in_prefix, pbmc_j,mapq,f\"cellr_{cellr}\")\n",
    "pbmc_p_indir = join(indir, in_prefix, pbmc_p,mapq,f\"cellr_{cellr}\")\n",
    "\n",
    "# sc_coverage_pbmc_j_f = join(pbmc_j_indir,\"scPileup_concat_200\",pbmc_j+\"_200_all.coverage.txt.gz\")\n",
    "# sc_coverage_pbmc_p_f = join(pbmc_p_indir,\"scPileup_concat_200\",pbmc_p + \"_200_all.coverage.txt.gz\")\n",
    "coverage_pbmc_j_dir = join(indir, in_prefix, pbmc_j, mapq, f\"{pbmc_j}_scPileup_{num_reads}\")\n",
    "coverage_pbmc_p_dir = join(indir, in_prefix, pbmc_p, mapq, f\"{pbmc_p}_scPileup_{num_reads}\")\n",
    "\n",
    "concat_pbmc_j_dir = join(pbmc_j_indir,f\"{pbmc_j}_{num_reads}\")\n",
    "concat_pbmc_p_dir = join(pbmc_p_indir,f\"{pbmc_p}_{num_reads}\")"
   ]
  },
  {
   "cell_type": "code",
   "execution_count": 6,
   "metadata": {
    "ExecuteTime": {
     "end_time": "2020-12-14T20:11:17.222012Z",
     "start_time": "2020-12-14T20:11:17.202901Z"
    }
   },
   "outputs": [],
   "source": [
    "min_cells=100\n",
    "min_reads=10\n",
    "topN=0\n",
    "min_het_cells=100\n",
    "het_thresh=0.02"
   ]
  },
  {
   "cell_type": "code",
   "execution_count": 7,
   "metadata": {
    "ExecuteTime": {
     "end_time": "2020-12-14T20:11:17.275319Z",
     "start_time": "2020-12-14T20:11:17.224753Z"
    }
   },
   "outputs": [],
   "source": [
    "from src.utils.parse_config import read_config_file\n",
    "p = read_config_file(\"parameters/2020_11_18_Croker_mito.yaml\")\n",
    "\n",
    "mt_ref_fa = p[\"mt_ref_fa\"]"
   ]
  },
  {
   "cell_type": "code",
   "execution_count": 8,
   "metadata": {
    "ExecuteTime": {
     "end_time": "2020-12-14T20:11:17.309206Z",
     "start_time": "2020-12-14T20:11:17.277603Z"
    }
   },
   "outputs": [
    {
     "data": {
      "text/plain": [
       "'/data2/mito_lineage/data/processed/mttrace/lineage_trace/2020_11_18/cellr_True/report/minC100_minR10_topN0_hetC100_hetT0.02_cellrTrue'"
      ]
     },
     "execution_count": 8,
     "metadata": {},
     "output_type": "execute_result"
    }
   ],
   "source": [
    "dirname = f\"minC{min_cells}_minR{min_reads}_topN{topN}_hetC{min_het_cells}_hetT{het_thresh}_cellr{cellr}\"\n",
    "outdir = join(indir, f\"lineage_trace/{in_prefix}/cellr_{cellr}/report\", dirname)\n",
    "if not os.path.exists(outdir):\n",
    "    os.makedirs(outdir)\n",
    "outdir"
   ]
  },
  {
   "cell_type": "markdown",
   "metadata": {},
   "source": [
    "### Create allele frequency matrix for both, but add metadata for each cell about which experiment it came from\n",
    "### Cluster and look"
   ]
  },
  {
   "cell_type": "markdown",
   "metadata": {},
   "source": [
    "### Additional requirements is to remove poor-quality variants of BQ- see if Erick has the code of the mixture model"
   ]
  },
  {
   "cell_type": "code",
   "execution_count": 9,
   "metadata": {
    "ExecuteTime": {
     "end_time": "2020-12-14T20:11:17.331317Z",
     "start_time": "2020-12-14T20:11:17.311264Z"
    },
    "scrolled": false
   },
   "outputs": [
    {
     "name": "stdout",
     "output_type": "stream",
     "text": [
      "/data2/mito_lineage/data/external/GRCh38_MT_blacklist/chrM.fasta\n",
      "16571\n",
      "/data2/mito_lineage/data/processed/mttrace/2020_11_18/PBMC_P/mapq_0/PBMC_P_scPileup_200\n",
      "/data2/mito_lineage/data/processed/mttrace/2020_11_18/PBMC_P/mapq_0/cellr_True/PBMC_P_200\n"
     ]
    }
   ],
   "source": [
    "print(mt_ref_fa)\n",
    "print(maxBP)\n",
    "print(coverage_pbmc_p_dir)\n",
    "print(concat_pbmc_p_dir)"
   ]
  },
  {
   "cell_type": "code",
   "execution_count": 10,
   "metadata": {
    "ExecuteTime": {
     "end_time": "2020-12-14T20:32:05.739975Z",
     "start_time": "2020-12-14T20:11:17.333232Z"
    },
    "scrolled": true
   },
   "outputs": [
    {
     "name": "stdout",
     "output_type": "stream",
     "text": [
      "no alt count 1\n",
      "topN 0\n",
      "Number of positions to keep : 16569\n",
      "Number of cells to keep : 330\n",
      "G not found for ATTACTCAGTAGCAAT-1\n",
      "coverage not found for GTAGACTCAATGATGA-1\n",
      "T not found for AGGCGTCCACGCGCAT-1\n",
      "coverage not found for ACTACGACATCACAGT-1\n",
      "C not found for GGAGGATTCCGGAAAG-1\n",
      "G not found for ATTACTCAGTAGCAAT-1\n",
      "coverage not found for GTAGACTCAATGATGA-1\n",
      "T not found for AGGCGTCCACGCGCAT-1\n",
      "coverage not found for ACTACGACATCACAGT-1\n",
      "C not found for GGAGGATTCCGGAAAG-1\n",
      "Positions that pass het filter: 107\n"
     ]
    }
   ],
   "source": [
    "pbmc_p_AF_by_cell, pbmc_p_BQ_by_cell, pbmc_p_af, pbmc_p_bq_df, pbmc_p_nt_df = calculate_af(coverage_pbmc_p_dir, concat_pbmc_p_dir, ref_fasta=mt_ref_fa, \n",
    "                                                                                           AF_F=None, maxBP=maxBP, topN=topN, min_cells=min_cells, min_reads=min_reads, \n",
    "                                                                                           min_het_cells=min_het_cells, het_thresh=het_thresh)"
   ]
  },
  {
   "cell_type": "code",
   "execution_count": 11,
   "metadata": {
    "ExecuteTime": {
     "end_time": "2020-12-14T20:32:05.813300Z",
     "start_time": "2020-12-14T20:32:05.742784Z"
    },
    "scrolled": false
   },
   "outputs": [
    {
     "name": "stdout",
     "output_type": "stream",
     "text": [
      "Number of positions with heteroplasmy fraction above 0: 107\n"
     ]
    }
   ],
   "source": [
    "print(f\"Number of positions with heteroplasmy fraction above 0: {(pbmc_p_AF_by_cell>0).any(axis=0).sum()}\")"
   ]
  }
 ],
 "metadata": {
  "kernelspec": {
   "display_name": "Python 3",
   "language": "python",
   "name": "python3"
  },
  "language_info": {
   "codemirror_mode": {
    "name": "ipython",
    "version": 3
   },
   "file_extension": ".py",
   "mimetype": "text/x-python",
   "name": "python",
   "nbconvert_exporter": "python",
   "pygments_lexer": "ipython3",
   "version": "3.7.3"
  }
 },
 "nbformat": 4,
 "nbformat_minor": 2
}
