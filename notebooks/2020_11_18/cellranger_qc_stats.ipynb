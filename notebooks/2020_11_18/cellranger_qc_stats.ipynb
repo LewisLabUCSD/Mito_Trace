{
 "cells": [
  {
   "cell_type": "code",
   "execution_count": 1,
   "metadata": {
    "ExecuteTime": {
     "end_time": "2020-12-13T04:36:54.680940Z",
     "start_time": "2020-12-13T04:36:54.101226Z"
    }
   },
   "outputs": [
    {
     "name": "stdout",
     "output_type": "stream",
     "text": [
      "Project Directory: /data2/mito_lineage\n"
     ]
    }
   ],
   "source": [
    "import pandas as pd\n",
    "import yaml\n",
    "import os\n",
    "from os.path import join\n",
    "from src.config import ROOT_DIR, RESULTS\n",
    "%matplotlib inline"
   ]
  },
  {
   "cell_type": "code",
   "execution_count": 2,
   "metadata": {
    "ExecuteTime": {
     "end_time": "2020-12-13T04:36:55.047958Z",
     "start_time": "2020-12-13T04:36:54.683389Z"
    }
   },
   "outputs": [],
   "source": [
    "import  matplotlib.pyplot as plt\n",
    "import seaborn as sns"
   ]
  },
  {
   "cell_type": "code",
   "execution_count": 3,
   "metadata": {
    "ExecuteTime": {
     "end_time": "2020-12-13T04:36:55.052996Z",
     "start_time": "2020-12-13T04:36:55.050232Z"
    }
   },
   "outputs": [],
   "source": [
    "os.chdir(ROOT_DIR)"
   ]
  },
  {
   "cell_type": "code",
   "execution_count": 4,
   "metadata": {
    "ExecuteTime": {
     "end_time": "2020-12-13T04:36:55.141712Z",
     "start_time": "2020-12-13T04:36:55.055079Z"
    },
    "scrolled": false
   },
   "outputs": [
    {
     "data": {
      "text/html": [
       "<div>\n",
       "<style scoped>\n",
       "    .dataframe tbody tr th:only-of-type {\n",
       "        vertical-align: middle;\n",
       "    }\n",
       "\n",
       "    .dataframe tbody tr th {\n",
       "        vertical-align: top;\n",
       "    }\n",
       "\n",
       "    .dataframe thead th {\n",
       "        text-align: right;\n",
       "    }\n",
       "</style>\n",
       "<table border=\"1\" class=\"dataframe\">\n",
       "  <thead>\n",
       "    <tr style=\"text-align: right;\">\n",
       "      <th></th>\n",
       "      <th>barcode_f</th>\n",
       "      <th>annotated_cells</th>\n",
       "      <th>bc_q30_bases_fract</th>\n",
       "      <th>cellranger-atac_version</th>\n",
       "      <th>cells_detected</th>\n",
       "      <th>frac_cut_fragments_in_peaks</th>\n",
       "      <th>frac_fragments_nfr</th>\n",
       "      <th>frac_fragments_nfr_or_nuc</th>\n",
       "      <th>frac_fragments_nuc</th>\n",
       "      <th>frac_fragments_overlapping_peaks</th>\n",
       "      <th>...</th>\n",
       "      <th>frac_waste_unmapped</th>\n",
       "      <th>median_fragments_per_cell</th>\n",
       "      <th>median_per_cell_total_library_complexity</th>\n",
       "      <th>median_per_cell_unique_fragments_at_30000_RRPC</th>\n",
       "      <th>median_per_cell_unique_fragments_at_50000_RRPC</th>\n",
       "      <th>num_fragments</th>\n",
       "      <th>r1_q30_bases_fract</th>\n",
       "      <th>r2_q30_bases_fract</th>\n",
       "      <th>si_q30_bases_fract</th>\n",
       "      <th>total_usable_fragments</th>\n",
       "    </tr>\n",
       "    <tr>\n",
       "      <th>sample</th>\n",
       "      <th></th>\n",
       "      <th></th>\n",
       "      <th></th>\n",
       "      <th></th>\n",
       "      <th></th>\n",
       "      <th></th>\n",
       "      <th></th>\n",
       "      <th></th>\n",
       "      <th></th>\n",
       "      <th></th>\n",
       "      <th></th>\n",
       "      <th></th>\n",
       "      <th></th>\n",
       "      <th></th>\n",
       "      <th></th>\n",
       "      <th></th>\n",
       "      <th></th>\n",
       "      <th></th>\n",
       "      <th></th>\n",
       "      <th></th>\n",
       "      <th></th>\n",
       "    </tr>\n",
       "  </thead>\n",
       "  <tbody>\n",
       "    <tr>\n",
       "      <th>PBMC_J</th>\n",
       "      <td>/data2/isshamie/mito_lineage/data/processed/mt...</td>\n",
       "      <td>743.0</td>\n",
       "      <td>0.816853</td>\n",
       "      <td>1.2.0</td>\n",
       "      <td>743.0</td>\n",
       "      <td>0.431328</td>\n",
       "      <td>0.456377</td>\n",
       "      <td>0.857266</td>\n",
       "      <td>0.400889</td>\n",
       "      <td>0.455840</td>\n",
       "      <td>...</td>\n",
       "      <td>0.003659</td>\n",
       "      <td>4600.0</td>\n",
       "      <td>5440.249850</td>\n",
       "      <td>807.212278</td>\n",
       "      <td>1228.462236</td>\n",
       "      <td>167910250.0</td>\n",
       "      <td>0.926115</td>\n",
       "      <td>0.867264</td>\n",
       "      <td>None</td>\n",
       "      <td>5693309.0</td>\n",
       "    </tr>\n",
       "    <tr>\n",
       "      <th>PBMC_P</th>\n",
       "      <td>/data2/isshamie/mito_lineage/data/processed/mt...</td>\n",
       "      <td>663.0</td>\n",
       "      <td>0.823013</td>\n",
       "      <td>1.2.0</td>\n",
       "      <td>663.0</td>\n",
       "      <td>0.622437</td>\n",
       "      <td>0.576425</td>\n",
       "      <td>0.917923</td>\n",
       "      <td>0.341498</td>\n",
       "      <td>0.642915</td>\n",
       "      <td>...</td>\n",
       "      <td>0.008394</td>\n",
       "      <td>4797.0</td>\n",
       "      <td>5111.126293</td>\n",
       "      <td>1232.088615</td>\n",
       "      <td>1802.309135</td>\n",
       "      <td>163008206.0</td>\n",
       "      <td>0.930662</td>\n",
       "      <td>0.871536</td>\n",
       "      <td>None</td>\n",
       "      <td>4524570.0</td>\n",
       "    </tr>\n",
       "  </tbody>\n",
       "</table>\n",
       "<p>2 rows × 30 columns</p>\n",
       "</div>"
      ],
      "text/plain": [
       "                                                barcode_f  annotated_cells  \\\n",
       "sample                                                                       \n",
       "PBMC_J  /data2/isshamie/mito_lineage/data/processed/mt...            743.0   \n",
       "PBMC_P  /data2/isshamie/mito_lineage/data/processed/mt...            663.0   \n",
       "\n",
       "        bc_q30_bases_fract cellranger-atac_version  cells_detected  \\\n",
       "sample                                                               \n",
       "PBMC_J            0.816853                   1.2.0           743.0   \n",
       "PBMC_P            0.823013                   1.2.0           663.0   \n",
       "\n",
       "        frac_cut_fragments_in_peaks  frac_fragments_nfr  \\\n",
       "sample                                                    \n",
       "PBMC_J                     0.431328            0.456377   \n",
       "PBMC_P                     0.622437            0.576425   \n",
       "\n",
       "        frac_fragments_nfr_or_nuc  frac_fragments_nuc  \\\n",
       "sample                                                  \n",
       "PBMC_J                   0.857266            0.400889   \n",
       "PBMC_P                   0.917923            0.341498   \n",
       "\n",
       "        frac_fragments_overlapping_peaks  ...  frac_waste_unmapped  \\\n",
       "sample                                    ...                        \n",
       "PBMC_J                          0.455840  ...             0.003659   \n",
       "PBMC_P                          0.642915  ...             0.008394   \n",
       "\n",
       "        median_fragments_per_cell  median_per_cell_total_library_complexity  \\\n",
       "sample                                                                        \n",
       "PBMC_J                     4600.0                               5440.249850   \n",
       "PBMC_P                     4797.0                               5111.126293   \n",
       "\n",
       "        median_per_cell_unique_fragments_at_30000_RRPC  \\\n",
       "sample                                                   \n",
       "PBMC_J                                      807.212278   \n",
       "PBMC_P                                     1232.088615   \n",
       "\n",
       "        median_per_cell_unique_fragments_at_50000_RRPC  num_fragments  \\\n",
       "sample                                                                  \n",
       "PBMC_J                                     1228.462236    167910250.0   \n",
       "PBMC_P                                     1802.309135    163008206.0   \n",
       "\n",
       "        r1_q30_bases_fract  r2_q30_bases_fract  si_q30_bases_fract  \\\n",
       "sample                                                               \n",
       "PBMC_J            0.926115            0.867264                None   \n",
       "PBMC_P            0.930662            0.871536                None   \n",
       "\n",
       "        total_usable_fragments  \n",
       "sample                          \n",
       "PBMC_J               5693309.0  \n",
       "PBMC_P               4524570.0  \n",
       "\n",
       "[2 rows x 30 columns]"
      ]
     },
     "execution_count": 4,
     "metadata": {},
     "output_type": "execute_result"
    }
   ],
   "source": [
    "with open(\"parameters/2020_11_18_Croker_mito.yaml\") as f:\n",
    "    config = yaml.safe_load(f)\n",
    "\n",
    "outdir = join(config[\"results\"], \"QC\")\n",
    "if not os.path.exists(outdir):\n",
    "    os.mkdir(outdir)\n",
    "    \n",
    "\n",
    "config\n",
    "\n",
    "\n",
    "samples = pd.read_table(config[\"samples\"],sep=',', index_col=0)\n",
    "samples = samples.dropna(axis=1)\n",
    "for ind, val in samples.iterrows():\n",
    "    samples.at[ind,'metrics'] = os.path.join(os.path.dirname(val['bam_f']),\"summary.csv\")\n",
    "\n",
    "for ind, val in samples.iterrows():\n",
    "    df = pd.read_csv(val[\"metrics\"])\n",
    "    df.index = [ind]\n",
    "    df.index.name = \"sample\"\n",
    "    if df.columns[0] in samples.columns:\n",
    "        samples.loc[ind, df.columns] = df.loc[ind]\n",
    "    else:\n",
    "        samples = samples.merge(df, how='outer', left_index=True, right_index=True)\n",
    "        \n",
    "samples = samples.drop(labels=[\"bam_f\", \"metrics\"], axis=1)\n",
    "\n",
    "samples"
   ]
  },
  {
   "cell_type": "code",
   "execution_count": 5,
   "metadata": {
    "ExecuteTime": {
     "end_time": "2020-12-13T04:36:55.146966Z",
     "start_time": "2020-12-13T04:36:55.143429Z"
    }
   },
   "outputs": [
    {
     "data": {
      "text/plain": [
       "array(['barcode_f', 'annotated_cells', 'bc_q30_bases_fract',\n",
       "       'cellranger-atac_version', 'cells_detected',\n",
       "       'frac_cut_fragments_in_peaks', 'frac_fragments_nfr',\n",
       "       'frac_fragments_nfr_or_nuc', 'frac_fragments_nuc',\n",
       "       'frac_fragments_overlapping_peaks',\n",
       "       'frac_fragments_overlapping_targets', 'frac_mapped_confidently',\n",
       "       'frac_waste_chimeric', 'frac_waste_duplicate',\n",
       "       'frac_waste_lowmapq', 'frac_waste_mitochondrial',\n",
       "       'frac_waste_no_barcode', 'frac_waste_non_cell_barcode',\n",
       "       'frac_waste_overall_nondup', 'frac_waste_total',\n",
       "       'frac_waste_unmapped', 'median_fragments_per_cell',\n",
       "       'median_per_cell_total_library_complexity',\n",
       "       'median_per_cell_unique_fragments_at_30000_RRPC',\n",
       "       'median_per_cell_unique_fragments_at_50000_RRPC', 'num_fragments',\n",
       "       'r1_q30_bases_fract', 'r2_q30_bases_fract', 'si_q30_bases_fract',\n",
       "       'total_usable_fragments'], dtype=object)"
      ]
     },
     "execution_count": 5,
     "metadata": {},
     "output_type": "execute_result"
    }
   ],
   "source": [
    "samples.columns.values"
   ]
  },
  {
   "cell_type": "code",
   "execution_count": 6,
   "metadata": {
    "ExecuteTime": {
     "end_time": "2020-12-13T04:36:55.155765Z",
     "start_time": "2020-12-13T04:36:55.148515Z"
    }
   },
   "outputs": [],
   "source": [
    "cols = [\"cells_detected\", \n",
    "        \"median_fragments_per_cell\", \n",
    "        \"frac_fragments_overlapping_peaks\",\n",
    "        \"frac_cut_fragments_in_peaks\",\n",
    "        \"bc_q30_bases_fract\"\n",
    "       ]"
   ]
  },
  {
   "cell_type": "code",
   "execution_count": 7,
   "metadata": {
    "ExecuteTime": {
     "end_time": "2020-12-13T04:36:55.176089Z",
     "start_time": "2020-12-13T04:36:55.157385Z"
    }
   },
   "outputs": [
    {
     "data": {
      "text/html": [
       "<div>\n",
       "<style scoped>\n",
       "    .dataframe tbody tr th:only-of-type {\n",
       "        vertical-align: middle;\n",
       "    }\n",
       "\n",
       "    .dataframe tbody tr th {\n",
       "        vertical-align: top;\n",
       "    }\n",
       "\n",
       "    .dataframe thead th {\n",
       "        text-align: right;\n",
       "    }\n",
       "</style>\n",
       "<table border=\"1\" class=\"dataframe\">\n",
       "  <thead>\n",
       "    <tr style=\"text-align: right;\">\n",
       "      <th></th>\n",
       "      <th>sample</th>\n",
       "      <th>variable</th>\n",
       "      <th>value</th>\n",
       "    </tr>\n",
       "  </thead>\n",
       "  <tbody>\n",
       "    <tr>\n",
       "      <th>0</th>\n",
       "      <td>PBMC_J</td>\n",
       "      <td>cells_detected</td>\n",
       "      <td>743.000000</td>\n",
       "    </tr>\n",
       "    <tr>\n",
       "      <th>1</th>\n",
       "      <td>PBMC_P</td>\n",
       "      <td>cells_detected</td>\n",
       "      <td>663.000000</td>\n",
       "    </tr>\n",
       "    <tr>\n",
       "      <th>2</th>\n",
       "      <td>PBMC_J</td>\n",
       "      <td>median_fragments_per_cell</td>\n",
       "      <td>4600.000000</td>\n",
       "    </tr>\n",
       "    <tr>\n",
       "      <th>3</th>\n",
       "      <td>PBMC_P</td>\n",
       "      <td>median_fragments_per_cell</td>\n",
       "      <td>4797.000000</td>\n",
       "    </tr>\n",
       "    <tr>\n",
       "      <th>4</th>\n",
       "      <td>PBMC_J</td>\n",
       "      <td>frac_fragments_overlapping_peaks</td>\n",
       "      <td>0.455840</td>\n",
       "    </tr>\n",
       "    <tr>\n",
       "      <th>5</th>\n",
       "      <td>PBMC_P</td>\n",
       "      <td>frac_fragments_overlapping_peaks</td>\n",
       "      <td>0.642915</td>\n",
       "    </tr>\n",
       "    <tr>\n",
       "      <th>6</th>\n",
       "      <td>PBMC_J</td>\n",
       "      <td>frac_cut_fragments_in_peaks</td>\n",
       "      <td>0.431328</td>\n",
       "    </tr>\n",
       "    <tr>\n",
       "      <th>7</th>\n",
       "      <td>PBMC_P</td>\n",
       "      <td>frac_cut_fragments_in_peaks</td>\n",
       "      <td>0.622437</td>\n",
       "    </tr>\n",
       "    <tr>\n",
       "      <th>8</th>\n",
       "      <td>PBMC_J</td>\n",
       "      <td>bc_q30_bases_fract</td>\n",
       "      <td>0.816853</td>\n",
       "    </tr>\n",
       "    <tr>\n",
       "      <th>9</th>\n",
       "      <td>PBMC_P</td>\n",
       "      <td>bc_q30_bases_fract</td>\n",
       "      <td>0.823013</td>\n",
       "    </tr>\n",
       "  </tbody>\n",
       "</table>\n",
       "</div>"
      ],
      "text/plain": [
       "   sample                          variable        value\n",
       "0  PBMC_J                    cells_detected   743.000000\n",
       "1  PBMC_P                    cells_detected   663.000000\n",
       "2  PBMC_J         median_fragments_per_cell  4600.000000\n",
       "3  PBMC_P         median_fragments_per_cell  4797.000000\n",
       "4  PBMC_J  frac_fragments_overlapping_peaks     0.455840\n",
       "5  PBMC_P  frac_fragments_overlapping_peaks     0.642915\n",
       "6  PBMC_J       frac_cut_fragments_in_peaks     0.431328\n",
       "7  PBMC_P       frac_cut_fragments_in_peaks     0.622437\n",
       "8  PBMC_J                bc_q30_bases_fract     0.816853\n",
       "9  PBMC_P                bc_q30_bases_fract     0.823013"
      ]
     },
     "execution_count": 7,
     "metadata": {},
     "output_type": "execute_result"
    }
   ],
   "source": [
    "samples_long = samples.reset_index().melt(id_vars=\"sample\", value_vars=cols)\n",
    "samples_long\n"
   ]
  },
  {
   "cell_type": "code",
   "execution_count": 8,
   "metadata": {
    "ExecuteTime": {
     "end_time": "2020-12-13T04:36:56.340050Z",
     "start_time": "2020-12-13T04:36:55.178408Z"
    },
    "scrolled": false
   },
   "outputs": [
    {
     "data": {
      "image/png": "[encoded data removed]",
      "text/plain": [
       "<Figure size 648x432 with 5 Axes>"
      ]
     },
     "metadata": {
      "needs_background": "light"
     },
     "output_type": "display_data"
    }
   ],
   "source": [
    "g = sns.FacetGrid(data=samples_long, col=\"variable\", sharey=False, col_wrap=3, )\n",
    "g.map_dataframe(sns.barplot, x=\"sample\", y=\"value\", hue=\"sample\", palette=\"colorblind\")\n",
    "#plt.legend(bbox_to_anchor=(1.05, 1), title=\"Ligand\", loc='upper left')\n",
    "plt.savefig(join(outdir, \"QC.png\"))"
   ]
  },
  {
   "cell_type": "code",
   "execution_count": null,
   "metadata": {},
   "outputs": [],
   "source": []
  },
  {
   "cell_type": "markdown",
   "metadata": {},
   "source": [
    "### Load in published Lareau et al dataset "
   ]
  },
  {
   "cell_type": "code",
   "execution_count": 9,
   "metadata": {
    "ExecuteTime": {
     "end_time": "2020-12-13T04:36:56.380632Z",
     "start_time": "2020-12-13T04:36:56.342126Z"
    },
    "scrolled": true
   },
   "outputs": [
    {
     "name": "stderr",
     "output_type": "stream",
     "text": [
      "/home/isshamie/software/anaconda2/envs/mito_trace/lib/python3.7/site-packages/ipykernel_launcher.py:23: FutureWarning: Sorting because non-concatenation axis is not aligned. A future version\n",
      "of pandas will change to not sort by default.\n",
      "\n",
      "To accept the future behavior, pass 'sort=False'.\n",
      "\n",
      "To retain the current behavior and silence the warning, pass 'sort=True'.\n",
      "\n"
     ]
    }
   ],
   "source": [
    "samples_Lar = pd.DataFrame({\"bam_f\": [\"/data2/isshamie/mito_lineage/data/processed/mtscATAC/Lareau_2020/PBMC_rep1/outs/possorted_bam.bam\",\n",
    "                                 \"/data2/isshamie/mito_lineage/data/processed/mtscATAC/Lareau_2020/CD34_rep1/outs/possorted_bam.bam\"]},\n",
    "                            index=[\"PBMC\", \"CD34\"])\n",
    "samples_Lar.index = samples_Lar.index.rename(\"sample\")\n",
    "samples_Lar = samples_Lar.dropna(axis=1)\n",
    "for ind, val in samples_Lar.iterrows():\n",
    "    samples_Lar.at[ind,'metrics'] = os.path.join(os.path.dirname(val['bam_f']),\"summary.csv\")\n",
    "\n",
    "all_df = []\n",
    "for ind, val in samples_Lar.iterrows():\n",
    "    df = pd.read_csv(val[\"metrics\"])\n",
    "    df.index = [ind]\n",
    "    df.index.name = \"sample\"\n",
    "    all_df.append(df)\n",
    "    #if df.columns[0] in samples_Lar.columns:\n",
    "    #    samples_Lar.loc[ind, df.columns] = df.loc[ind]\n",
    "    #else:\n",
    "    #    samples_Lar = samples_Lar.merge(df, how='outer', left_index=True, right_index=True)\n",
    "        \n",
    "#samples_Lar = samples_Lar.drop(labels=[\"bam_f\", \"metrics\"], axis=1)\n",
    "\n",
    "#samples_Lar\n",
    "samples_Lar = pd.concat(all_df)"
   ]
  },
  {
   "cell_type": "code",
   "execution_count": 10,
   "metadata": {
    "ExecuteTime": {
     "end_time": "2020-12-13T04:36:56.386359Z",
     "start_time": "2020-12-13T04:36:56.382403Z"
    },
    "scrolled": true
   },
   "outputs": [
    {
     "data": {
      "text/plain": [
       "array(['annotated_cells', 'bc_q30_bases_fract', 'cellranger-atac_version',\n",
       "       'cells_detected', 'frac_cut_fragments_in_peaks',\n",
       "       'frac_fragments_nfr', 'frac_fragments_nfr_or_nuc',\n",
       "       'frac_fragments_nuc', 'frac_fragments_overlapping_peaks',\n",
       "       'frac_fragments_overlapping_targets', 'frac_mapped_confidently',\n",
       "       'frac_waste_chimeric', 'frac_waste_duplicate',\n",
       "       'frac_waste_lowmapq', 'frac_waste_mitochondrial',\n",
       "       'frac_waste_no_barcode', 'frac_waste_non_cell_barcode',\n",
       "       'frac_waste_overall_nondup', 'frac_waste_total',\n",
       "       'frac_waste_unmapped', 'median_fragments_per_cell',\n",
       "       'median_per_cell_unique_fragments_at_30000_RRPC',\n",
       "       'median_per_cell_unique_fragments_at_50000_RRPC', 'num_fragments',\n",
       "       'r1_q30_bases_fract', 'r2_q30_bases_fract', 'si_q30_bases_fract',\n",
       "       'total_usable_fragments'], dtype=object)"
      ]
     },
     "execution_count": 10,
     "metadata": {},
     "output_type": "execute_result"
    }
   ],
   "source": [
    "samples_Lar.columns.values"
   ]
  },
  {
   "cell_type": "code",
   "execution_count": 11,
   "metadata": {
    "ExecuteTime": {
     "end_time": "2020-12-13T04:36:56.404243Z",
     "start_time": "2020-12-13T04:36:56.387999Z"
    },
    "scrolled": true
   },
   "outputs": [
    {
     "name": "stderr",
     "output_type": "stream",
     "text": [
      "/home/isshamie/software/anaconda2/envs/mito_trace/lib/python3.7/site-packages/ipykernel_launcher.py:1: FutureWarning: Sorting because non-concatenation axis is not aligned. A future version\n",
      "of pandas will change to not sort by default.\n",
      "\n",
      "To accept the future behavior, pass 'sort=False'.\n",
      "\n",
      "To retain the current behavior and silence the warning, pass 'sort=True'.\n",
      "\n",
      "  \"\"\"Entry point for launching an IPython kernel.\n"
     ]
    }
   ],
   "source": [
    "all_samples = pd.concat((samples, samples_Lar))\n",
    "all_samples[\"data\"] = \"Lareau et al 2020\"\n",
    "all_samples.loc[samples.index,\"data\"]=\"Current\""
   ]
  },
  {
   "cell_type": "code",
   "execution_count": 12,
   "metadata": {
    "ExecuteTime": {
     "end_time": "2020-12-13T04:36:56.429300Z",
     "start_time": "2020-12-13T04:36:56.405939Z"
    },
    "scrolled": true
   },
   "outputs": [
    {
     "data": {
      "text/html": [
       "<div>\n",
       "<style scoped>\n",
       "    .dataframe tbody tr th:only-of-type {\n",
       "        vertical-align: middle;\n",
       "    }\n",
       "\n",
       "    .dataframe tbody tr th {\n",
       "        vertical-align: top;\n",
       "    }\n",
       "\n",
       "    .dataframe thead th {\n",
       "        text-align: right;\n",
       "    }\n",
       "</style>\n",
       "<table border=\"1\" class=\"dataframe\">\n",
       "  <thead>\n",
       "    <tr style=\"text-align: right;\">\n",
       "      <th></th>\n",
       "      <th>sample</th>\n",
       "      <th>data</th>\n",
       "      <th>variable</th>\n",
       "      <th>value</th>\n",
       "    </tr>\n",
       "  </thead>\n",
       "  <tbody>\n",
       "    <tr>\n",
       "      <th>0</th>\n",
       "      <td>PBMC_J</td>\n",
       "      <td>Current</td>\n",
       "      <td>cells_detected</td>\n",
       "      <td>743.000000</td>\n",
       "    </tr>\n",
       "    <tr>\n",
       "      <th>1</th>\n",
       "      <td>PBMC_P</td>\n",
       "      <td>Current</td>\n",
       "      <td>cells_detected</td>\n",
       "      <td>663.000000</td>\n",
       "    </tr>\n",
       "    <tr>\n",
       "      <th>2</th>\n",
       "      <td>PBMC</td>\n",
       "      <td>Lareau et al 2020</td>\n",
       "      <td>cells_detected</td>\n",
       "      <td>6680.000000</td>\n",
       "    </tr>\n",
       "    <tr>\n",
       "      <th>3</th>\n",
       "      <td>CD34</td>\n",
       "      <td>Lareau et al 2020</td>\n",
       "      <td>cells_detected</td>\n",
       "      <td>4453.000000</td>\n",
       "    </tr>\n",
       "    <tr>\n",
       "      <th>4</th>\n",
       "      <td>PBMC_J</td>\n",
       "      <td>Current</td>\n",
       "      <td>median_fragments_per_cell</td>\n",
       "      <td>4600.000000</td>\n",
       "    </tr>\n",
       "    <tr>\n",
       "      <th>5</th>\n",
       "      <td>PBMC_P</td>\n",
       "      <td>Current</td>\n",
       "      <td>median_fragments_per_cell</td>\n",
       "      <td>4797.000000</td>\n",
       "    </tr>\n",
       "    <tr>\n",
       "      <th>6</th>\n",
       "      <td>PBMC</td>\n",
       "      <td>Lareau et al 2020</td>\n",
       "      <td>median_fragments_per_cell</td>\n",
       "      <td>7513.500000</td>\n",
       "    </tr>\n",
       "    <tr>\n",
       "      <th>7</th>\n",
       "      <td>CD34</td>\n",
       "      <td>Lareau et al 2020</td>\n",
       "      <td>median_fragments_per_cell</td>\n",
       "      <td>19110.000000</td>\n",
       "    </tr>\n",
       "    <tr>\n",
       "      <th>8</th>\n",
       "      <td>PBMC_J</td>\n",
       "      <td>Current</td>\n",
       "      <td>frac_fragments_overlapping_peaks</td>\n",
       "      <td>0.455840</td>\n",
       "    </tr>\n",
       "    <tr>\n",
       "      <th>9</th>\n",
       "      <td>PBMC_P</td>\n",
       "      <td>Current</td>\n",
       "      <td>frac_fragments_overlapping_peaks</td>\n",
       "      <td>0.642915</td>\n",
       "    </tr>\n",
       "    <tr>\n",
       "      <th>10</th>\n",
       "      <td>PBMC</td>\n",
       "      <td>Lareau et al 2020</td>\n",
       "      <td>frac_fragments_overlapping_peaks</td>\n",
       "      <td>0.776094</td>\n",
       "    </tr>\n",
       "    <tr>\n",
       "      <th>11</th>\n",
       "      <td>CD34</td>\n",
       "      <td>Lareau et al 2020</td>\n",
       "      <td>frac_fragments_overlapping_peaks</td>\n",
       "      <td>0.504895</td>\n",
       "    </tr>\n",
       "    <tr>\n",
       "      <th>12</th>\n",
       "      <td>PBMC_J</td>\n",
       "      <td>Current</td>\n",
       "      <td>frac_cut_fragments_in_peaks</td>\n",
       "      <td>0.431328</td>\n",
       "    </tr>\n",
       "    <tr>\n",
       "      <th>13</th>\n",
       "      <td>PBMC_P</td>\n",
       "      <td>Current</td>\n",
       "      <td>frac_cut_fragments_in_peaks</td>\n",
       "      <td>0.622437</td>\n",
       "    </tr>\n",
       "    <tr>\n",
       "      <th>14</th>\n",
       "      <td>PBMC</td>\n",
       "      <td>Lareau et al 2020</td>\n",
       "      <td>frac_cut_fragments_in_peaks</td>\n",
       "      <td>0.765199</td>\n",
       "    </tr>\n",
       "    <tr>\n",
       "      <th>15</th>\n",
       "      <td>CD34</td>\n",
       "      <td>Lareau et al 2020</td>\n",
       "      <td>frac_cut_fragments_in_peaks</td>\n",
       "      <td>0.479301</td>\n",
       "    </tr>\n",
       "    <tr>\n",
       "      <th>16</th>\n",
       "      <td>PBMC_J</td>\n",
       "      <td>Current</td>\n",
       "      <td>bc_q30_bases_fract</td>\n",
       "      <td>0.816853</td>\n",
       "    </tr>\n",
       "    <tr>\n",
       "      <th>17</th>\n",
       "      <td>PBMC_P</td>\n",
       "      <td>Current</td>\n",
       "      <td>bc_q30_bases_fract</td>\n",
       "      <td>0.823013</td>\n",
       "    </tr>\n",
       "    <tr>\n",
       "      <th>18</th>\n",
       "      <td>PBMC</td>\n",
       "      <td>Lareau et al 2020</td>\n",
       "      <td>bc_q30_bases_fract</td>\n",
       "      <td>0.886647</td>\n",
       "    </tr>\n",
       "    <tr>\n",
       "      <th>19</th>\n",
       "      <td>CD34</td>\n",
       "      <td>Lareau et al 2020</td>\n",
       "      <td>bc_q30_bases_fract</td>\n",
       "      <td>0.898512</td>\n",
       "    </tr>\n",
       "  </tbody>\n",
       "</table>\n",
       "</div>"
      ],
      "text/plain": [
       "    sample               data                          variable         value\n",
       "0   PBMC_J            Current                    cells_detected    743.000000\n",
       "1   PBMC_P            Current                    cells_detected    663.000000\n",
       "2     PBMC  Lareau et al 2020                    cells_detected   6680.000000\n",
       "3     CD34  Lareau et al 2020                    cells_detected   4453.000000\n",
       "4   PBMC_J            Current         median_fragments_per_cell   4600.000000\n",
       "5   PBMC_P            Current         median_fragments_per_cell   4797.000000\n",
       "6     PBMC  Lareau et al 2020         median_fragments_per_cell   7513.500000\n",
       "7     CD34  Lareau et al 2020         median_fragments_per_cell  19110.000000\n",
       "8   PBMC_J            Current  frac_fragments_overlapping_peaks      0.455840\n",
       "9   PBMC_P            Current  frac_fragments_overlapping_peaks      0.642915\n",
       "10    PBMC  Lareau et al 2020  frac_fragments_overlapping_peaks      0.776094\n",
       "11    CD34  Lareau et al 2020  frac_fragments_overlapping_peaks      0.504895\n",
       "12  PBMC_J            Current       frac_cut_fragments_in_peaks      0.431328\n",
       "13  PBMC_P            Current       frac_cut_fragments_in_peaks      0.622437\n",
       "14    PBMC  Lareau et al 2020       frac_cut_fragments_in_peaks      0.765199\n",
       "15    CD34  Lareau et al 2020       frac_cut_fragments_in_peaks      0.479301\n",
       "16  PBMC_J            Current                bc_q30_bases_fract      0.816853\n",
       "17  PBMC_P            Current                bc_q30_bases_fract      0.823013\n",
       "18    PBMC  Lareau et al 2020                bc_q30_bases_fract      0.886647\n",
       "19    CD34  Lareau et al 2020                bc_q30_bases_fract      0.898512"
      ]
     },
     "execution_count": 12,
     "metadata": {},
     "output_type": "execute_result"
    }
   ],
   "source": [
    "all_samples_long = all_samples.reset_index().melt(id_vars=[\"sample\", \"data\"], value_vars=cols)\n",
    "all_samples_long = all_samples_long.dropna(axis=0)\n",
    "all_samples_long[\"data\"] = all_samples_long[\"data\"].astype(str)\n",
    "all_samples_long"
   ]
  },
  {
   "cell_type": "code",
   "execution_count": 13,
   "metadata": {
    "ExecuteTime": {
     "end_time": "2020-12-13T04:36:58.181688Z",
     "start_time": "2020-12-13T04:36:56.430964Z"
    }
   },
   "outputs": [
    {
     "data": {
      "image/png": "[encoded data removed]",
      "text/plain": [
       "<Figure size 1204.25x720 with 5 Axes>"
      ]
     },
     "metadata": {
      "needs_background": "light"
     },
     "output_type": "display_data"
    }
   ],
   "source": [
    "sns.catplot(x=\"sample\", y=\"value\", col=\"variable\", hue=\"data\", data=all_samples_long, kind='bar', col_wrap=3, \n",
    "            sharey=False, palette=\"colorblind\")\n",
    "plt.savefig(join(outdir, \"QC_lareau.png\"))"
   ]
  },
  {
   "cell_type": "code",
   "execution_count": null,
   "metadata": {},
   "outputs": [],
   "source": []
  },
  {
   "cell_type": "code",
   "execution_count": null,
   "metadata": {},
   "outputs": [],
   "source": []
  }
 ],
 "metadata": {
  "kernelspec": {
   "display_name": "Python 3",
   "language": "python",
   "name": "python3"
  },
  "language_info": {
   "codemirror_mode": {
    "name": "ipython",
    "version": 3
   },
   "file_extension": ".py",
   "mimetype": "text/x-python",
   "name": "python",
   "nbconvert_exporter": "python",
   "pygments_lexer": "ipython3",
   "version": "3.7.3"
  }
 },
 "nbformat": 4,
 "nbformat_minor": 2
}
