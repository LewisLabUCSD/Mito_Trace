{
 "cells": [
  {
   "cell_type": "code",
   "execution_count": 1,
   "metadata": {
    "ExecuteTime": {
     "end_time": "2020-12-09T22:26:01.427766Z",
     "start_time": "2020-12-09T22:26:01.087371Z"
    },
    "scrolled": true
   },
   "outputs": [],
   "source": [
    "%load_ext autoreload\n",
    "%autoreload 2\n",
    "%matplotlib inline \n"
   ]
  },
  {
   "cell_type": "code",
   "execution_count": 2,
   "metadata": {
    "ExecuteTime": {
     "end_time": "2020-12-09T22:26:02.080355Z",
     "start_time": "2020-12-09T22:26:01.429853Z"
    }
   },
   "outputs": [
    {
     "name": "stdout",
     "output_type": "stream",
     "text": [
      "Project Directory: /data2/mito_lineage\n"
     ]
    }
   ],
   "source": [
    "import os\n",
    "from os.path import join\n",
    "import pandas as pd\n",
    "from src.config import RESULTS, FIGURES_DIR, ROOT_DIR\n",
    "from src.calculate_AF_by_cell import calculate_af\n",
    "#ref_fa = \"/data2/genome/human_GRCh38/cellranger/refdata-cellranger-GRCh38-3.0.0/fasta/genome.fa\"\n",
    "#ref_fa=\"/data2/mito_lineage/BWA-Primers-MT/MT_genome/MT.fasta\"\n",
    "maxBP = 16571\n",
    "\n",
    "\n",
    "import numpy as np"
   ]
  },
  {
   "cell_type": "code",
   "execution_count": 3,
   "metadata": {
    "ExecuteTime": {
     "end_time": "2020-12-09T22:26:02.273706Z",
     "start_time": "2020-12-09T22:26:02.082672Z"
    }
   },
   "outputs": [
    {
     "name": "stdout",
     "output_type": "stream",
     "text": [
      "fig_utils from mplh\n",
      "here\n"
     ]
    }
   ],
   "source": [
    "from matplotlib_venn import venn2\n",
    "\n",
    "import seaborn as sns\n",
    "import matplotlib.pyplot as plt\n",
    "\n",
    "from mplh import cluster_help"
   ]
  },
  {
   "cell_type": "code",
   "execution_count": 4,
   "metadata": {
    "ExecuteTime": {
     "end_time": "2020-12-09T22:26:02.291077Z",
     "start_time": "2020-12-09T22:26:02.275753Z"
    }
   },
   "outputs": [],
   "source": [
    "os.chdir(ROOT_DIR)"
   ]
  },
  {
   "cell_type": "markdown",
   "metadata": {},
   "source": [
    "## Files setup"
   ]
  },
  {
   "cell_type": "code",
   "execution_count": 5,
   "metadata": {
    "ExecuteTime": {
     "end_time": "2020-12-09T22:26:02.310849Z",
     "start_time": "2020-12-09T22:26:02.292700Z"
    }
   },
   "outputs": [],
   "source": [
    "indir=join(RESULTS,\"mttrace\")\n",
    "in_prefix = '2020_11_18'\n",
    "mapq = \"mapq_0\"\n",
    "num_reads = 200\n",
    "pbmc_j = \"PBMC_J\"\n",
    "pbmc_p = \"PBMC_P\"\n",
    "\n",
    "\n",
    "\n",
    "pbmc_j_indir = join(indir, in_prefix, pbmc_j,\"mapq_0\")\n",
    "pbmc_p_indir = join(indir, in_prefix, pbmc_p,\"mapq_0\")\n",
    "\n",
    "# sc_coverage_pbmc_j_f = join(pbmc_j_indir,\"scPileup_concat_200\",pbmc_j+\"_200_all.coverage.txt.gz\")\n",
    "# sc_coverage_pbmc_p_f = join(pbmc_p_indir,\"scPileup_concat_200\",pbmc_p + \"_200_all.coverage.txt.gz\")\n",
    "\n",
    "coverage_pbmc_j_dir = join(pbmc_j_indir,pbmc_j+\"_scPileup_200\")\n",
    "coverage_pbmc_p_dir = join(pbmc_p_indir,pbmc_p+\"_scPileup_200\")\n",
    "\n",
    "concat_pbmc_j_dir = join(pbmc_j_indir,\"scPileup_concat_200\")\n",
    "concat_pbmc_p_dir = join(pbmc_p_indir,\"scPileup_concat_200\")"
   ]
  },
  {
   "cell_type": "code",
   "execution_count": 6,
   "metadata": {
    "ExecuteTime": {
     "end_time": "2020-12-09T22:26:02.328513Z",
     "start_time": "2020-12-09T22:26:02.312556Z"
    }
   },
   "outputs": [],
   "source": [
    "min_cells=100\n",
    "min_reads=10\n",
    "topN=0\n",
    "min_het_cells=10\n",
    "het_thresh=0.2"
   ]
  },
  {
   "cell_type": "code",
   "execution_count": 7,
   "metadata": {
    "ExecuteTime": {
     "end_time": "2020-12-09T22:26:02.375624Z",
     "start_time": "2020-12-09T22:26:02.330131Z"
    }
   },
   "outputs": [],
   "source": [
    "from src.utils.parse_config import read_config_file\n",
    "p = read_config_file(\"parameters/2020_11_18_Croker_mito.yaml\")\n",
    "\n",
    "mt_ref_fa = p[\"mt_ref_fa\"]"
   ]
  },
  {
   "cell_type": "code",
   "execution_count": 8,
   "metadata": {
    "ExecuteTime": {
     "end_time": "2020-12-09T22:26:02.399835Z",
     "start_time": "2020-12-09T22:26:02.377818Z"
    }
   },
   "outputs": [
    {
     "data": {
      "text/plain": [
       "'/data2/mito_lineage/data/processed/mttrace/lineage_trace/2020_11_18/PBMC_P/report/minC100_minR10_topN0_hetC10_hetT0.2'"
      ]
     },
     "execution_count": 8,
     "metadata": {},
     "output_type": "execute_result"
    }
   ],
   "source": [
    "dirname = f\"minC{min_cells}_minR{min_reads}_topN{topN}_hetC{min_het_cells}_hetT{het_thresh}\"\n",
    "outdir = join(indir, f\"lineage_trace/{in_prefix}/PBMC_P/report\", dirname)\n",
    "if not os.path.exists(outdir):\n",
    "    os.makedirs(outdir)\n",
    "outdir"
   ]
  },
  {
   "cell_type": "markdown",
   "metadata": {},
   "source": [
    "### Get CD34 with and without pbmc_jL, first using polydT+mt\n",
    "### Create allele frequency matrix for both, but add metadata for each cell about which experiment it came from\n",
    "### Cluster and look"
   ]
  },
  {
   "cell_type": "markdown",
   "metadata": {},
   "source": [
    "### Additional requirements is to remove poor-quality variants of BQ- see if Erick has the code of the mixture model"
   ]
  },
  {
   "cell_type": "code",
   "execution_count": 9,
   "metadata": {
    "ExecuteTime": {
     "end_time": "2020-12-09T22:26:07.557935Z",
     "start_time": "2020-12-09T22:26:07.532995Z"
    },
    "scrolled": true
   },
   "outputs": [
    {
     "name": "stdout",
     "output_type": "stream",
     "text": [
      "/data2/mito_lineage/data/external/refdata-cellranger-GRCh38-3.0.0/chrM.fasta\n",
      "16571\n",
      "/data2/mito_lineage/data/processed/mttrace/2020_11_18/PBMC_P/mapq_0/PBMC_P_scPileup_200\n",
      "/data2/mito_lineage/data/processed/mttrace/2020_11_18/PBMC_P/mapq_0/scPileup_concat_200\n"
     ]
    }
   ],
   "source": [
    "print(mt_ref_fa)\n",
    "print(maxBP)\n",
    "print(coverage_pbmc_p_dir)\n",
    "print(concat_pbmc_p_dir)"
   ]
  },
  {
   "cell_type": "code",
   "execution_count": 10,
   "metadata": {
    "ExecuteTime": {
     "end_time": "2020-12-09T23:45:05.945641Z",
     "start_time": "2020-12-09T22:26:23.357808Z"
    },
    "scrolled": false
   },
   "outputs": [
    {
     "name": "stdout",
     "output_type": "stream",
     "text": [
      "no alt count 0\n",
      "topN 0\n",
      "Number of positions to keep : 16569\n",
      "Number of cells to keep : 3261\n"
     ]
    },
    {
     "ename": "FileNotFoundError",
     "evalue": "[Errno 2] File b'/data2/mito_lineage/data/processed/mttrace/2020_11_18/PBMC_P/mapq_0/PBMC_P_scPileup_200/CB_TGTGACAGTCAGTGCC-1.G.txt' does not exist: b'/data2/mito_lineage/data/processed/mttrace/2020_11_18/PBMC_P/mapq_0/PBMC_P_scPileup_200/CB_TGTGACAGTCAGTGCC-1.G.txt'",
     "output_type": "error",
     "traceback": [
      "\u001b[0;31m---------------------------------------------------------------------------\u001b[0m",
      "\u001b[0;31mRemoteTraceback\u001b[0m                           Traceback (most recent call last)",
      "\u001b[0;31mRemoteTraceback\u001b[0m: \n\"\"\"\nTraceback (most recent call last):\n  File \"/home/isshamie/software/anaconda2/envs/mito_trace/lib/python3.7/multiprocessing/pool.py\", line 121, in worker\n    result = (True, func(*args, **kwds))\n  File \"/home/isshamie/software/anaconda2/envs/mito_trace/lib/python3.7/multiprocessing/pool.py\", line 44, in mapstar\n    return list(map(*args))\n  File \"/home/isshamie/software/homebrew/parallel_functions/numpanpar/parallel_functions.py\", line 20, in multi_run_wrapper\n    return curr_func(args[1], *args[2])\n  File \"/data2/mito_lineage/src/calculate_AF_by_cell.py\", line 26, in fill_af_by_cell_loop\n    header=None)\n  File \"/home/isshamie/software/anaconda2/envs/mito_trace/lib/python3.7/site-packages/pandas/io/parsers.py\", line 685, in parser_f\n    return _read(filepath_or_buffer, kwds)\n  File \"/home/isshamie/software/anaconda2/envs/mito_trace/lib/python3.7/site-packages/pandas/io/parsers.py\", line 457, in _read\n    parser = TextFileReader(fp_or_buf, **kwds)\n  File \"/home/isshamie/software/anaconda2/envs/mito_trace/lib/python3.7/site-packages/pandas/io/parsers.py\", line 895, in __init__\n    self._make_engine(self.engine)\n  File \"/home/isshamie/software/anaconda2/envs/mito_trace/lib/python3.7/site-packages/pandas/io/parsers.py\", line 1135, in _make_engine\n    self._engine = CParserWrapper(self.f, **self.options)\n  File \"/home/isshamie/software/anaconda2/envs/mito_trace/lib/python3.7/site-packages/pandas/io/parsers.py\", line 1917, in __init__\n    self._reader = parsers.TextReader(src, **kwds)\n  File \"pandas/_libs/parsers.pyx\", line 382, in pandas._libs.parsers.TextReader.__cinit__\n  File \"pandas/_libs/parsers.pyx\", line 689, in pandas._libs.parsers.TextReader._setup_parser_source\nFileNotFoundError: [Errno 2] File b'/data2/mito_lineage/data/processed/mttrace/2020_11_18/PBMC_P/mapq_0/PBMC_P_scPileup_200/CB_TGTGACAGTCAGTGCC-1.G.txt' does not exist: b'/data2/mito_lineage/data/processed/mttrace/2020_11_18/PBMC_P/mapq_0/PBMC_P_scPileup_200/CB_TGTGACAGTCAGTGCC-1.G.txt'\n\"\"\"",
      "\nThe above exception was the direct cause of the following exception:\n",
      "\u001b[0;31mFileNotFoundError\u001b[0m                         Traceback (most recent call last)",
      "\u001b[0;32m<ipython-input-10-019577b532bc>\u001b[0m in \u001b[0;36m<module>\u001b[0;34m\u001b[0m\n\u001b[1;32m      1\u001b[0m pbmc_p_AF_by_cell, pbmc_p_BQ_by_cell, pbmc_p_af, pbmc_p_bq_df, pbmc_p_nt_df = calculate_af(coverage_pbmc_p_dir, concat_pbmc_p_dir, ref_fasta=mt_ref_fa, \n\u001b[1;32m      2\u001b[0m                                                                                            \u001b[0mAF_F\u001b[0m\u001b[0;34m=\u001b[0m\u001b[0;32mNone\u001b[0m\u001b[0;34m,\u001b[0m \u001b[0mmaxBP\u001b[0m\u001b[0;34m=\u001b[0m\u001b[0mmaxBP\u001b[0m\u001b[0;34m,\u001b[0m \u001b[0mtopN\u001b[0m\u001b[0;34m=\u001b[0m\u001b[0mtopN\u001b[0m\u001b[0;34m,\u001b[0m \u001b[0mmin_cells\u001b[0m\u001b[0;34m=\u001b[0m\u001b[0mmin_cells\u001b[0m\u001b[0;34m,\u001b[0m \u001b[0mmin_reads\u001b[0m\u001b[0;34m=\u001b[0m\u001b[0mmin_reads\u001b[0m\u001b[0;34m,\u001b[0m\u001b[0;34m\u001b[0m\u001b[0;34m\u001b[0m\u001b[0m\n\u001b[0;32m----> 3\u001b[0;31m                                                                                            min_het_cells=min_het_cells, het_thresh=het_thresh)\n\u001b[0m",
      "\u001b[0;32m/data2/mito_lineage/src/calculate_AF_by_cell.py\u001b[0m in \u001b[0;36mcalculate_af\u001b[0;34m(coverage_dir, concat_dir, AF_F, ref_fasta, maxBP, topN, min_cells, min_reads, coverage_thresh, het_thresh, min_het_cells, num_proc)\u001b[0m\n\u001b[1;32m    199\u001b[0m                             \u001b[0mfill_af_by_cell_loop\u001b[0m\u001b[0;34m,\u001b[0m\u001b[0;34m\u001b[0m\u001b[0;34m\u001b[0m\u001b[0m\n\u001b[1;32m    200\u001b[0m                             \u001b[0mfunc_args\u001b[0m\u001b[0;34m=\u001b[0m\u001b[0;34m(\u001b[0m\u001b[0mcoverage_dir\u001b[0m\u001b[0;34m,\u001b[0m\u001b[0;34m)\u001b[0m\u001b[0;34m,\u001b[0m\u001b[0;34m\u001b[0m\u001b[0;34m\u001b[0m\u001b[0m\n\u001b[0;32m--> 201\u001b[0;31m                             num_processes=num_proc)\n\u001b[0m\u001b[1;32m    202\u001b[0m     \u001b[0maf_by_cell\u001b[0m \u001b[0;34m=\u001b[0m \u001b[0maf_by_cell\u001b[0m\u001b[0;34m.\u001b[0m\u001b[0mloc\u001b[0m\u001b[0;34m[\u001b[0m\u001b[0;34m:\u001b[0m\u001b[0;34m,\u001b[0m\u001b[0;34m(\u001b[0m\u001b[0maf_by_cell\u001b[0m\u001b[0;34m>\u001b[0m\u001b[0;36m0\u001b[0m\u001b[0;34m)\u001b[0m\u001b[0;34m.\u001b[0m\u001b[0many\u001b[0m\u001b[0;34m(\u001b[0m\u001b[0maxis\u001b[0m\u001b[0;34m=\u001b[0m\u001b[0;36m0\u001b[0m\u001b[0;34m)\u001b[0m\u001b[0;34m]\u001b[0m\u001b[0;34m\u001b[0m\u001b[0;34m\u001b[0m\u001b[0m\n\u001b[1;32m    203\u001b[0m \u001b[0;34m\u001b[0m\u001b[0m\n",
      "\u001b[0;32m~/software/homebrew/parallel_functions/numpanpar/parallel_functions.py\u001b[0m in \u001b[0;36mparallel_df\u001b[0;34m(df, func, func_args, num_processes)\u001b[0m\n\u001b[1;32m     91\u001b[0m     \u001b[0;31m# apply our function to each chunk in the list\u001b[0m\u001b[0;34m\u001b[0m\u001b[0;34m\u001b[0m\u001b[0;34m\u001b[0m\u001b[0m\n\u001b[1;32m     92\u001b[0m     \u001b[0;31m#itertools.izip removed in python 3, just use zip\u001b[0m\u001b[0;34m\u001b[0m\u001b[0;34m\u001b[0m\u001b[0;34m\u001b[0m\u001b[0m\n\u001b[0;32m---> 93\u001b[0;31m     \u001b[0mresult\u001b[0m \u001b[0;34m=\u001b[0m \u001b[0mpool\u001b[0m\u001b[0;34m.\u001b[0m\u001b[0mmap\u001b[0m\u001b[0;34m(\u001b[0m\u001b[0mmulti_run_wrapper\u001b[0m\u001b[0;34m,\u001b[0m \u001b[0mzip\u001b[0m\u001b[0;34m(\u001b[0m\u001b[0mitertools\u001b[0m\u001b[0;34m.\u001b[0m\u001b[0mrepeat\u001b[0m\u001b[0;34m(\u001b[0m\u001b[0mfunc\u001b[0m\u001b[0;34m)\u001b[0m\u001b[0;34m,\u001b[0m \u001b[0mchunks\u001b[0m\u001b[0;34m,\u001b[0m \u001b[0mitertools\u001b[0m\u001b[0;34m.\u001b[0m\u001b[0mrepeat\u001b[0m\u001b[0;34m(\u001b[0m\u001b[0mfunc_args\u001b[0m\u001b[0;34m)\u001b[0m\u001b[0;34m)\u001b[0m\u001b[0;34m)\u001b[0m\u001b[0;34m\u001b[0m\u001b[0;34m\u001b[0m\u001b[0m\n\u001b[0m\u001b[1;32m     94\u001b[0m \u001b[0;34m\u001b[0m\u001b[0m\n\u001b[1;32m     95\u001b[0m     \u001b[0;31m#result = pool.map(multi_run_wrapper, itertools.izip(itertools.repeat(func), chunks, itertools.repeat(func_args)))\u001b[0m\u001b[0;34m\u001b[0m\u001b[0;34m\u001b[0m\u001b[0;34m\u001b[0m\u001b[0m\n",
      "\u001b[0;32m~/software/anaconda2/envs/mito_trace/lib/python3.7/multiprocessing/pool.py\u001b[0m in \u001b[0;36mmap\u001b[0;34m(self, func, iterable, chunksize)\u001b[0m\n\u001b[1;32m    266\u001b[0m         \u001b[0;32min\u001b[0m \u001b[0ma\u001b[0m \u001b[0mlist\u001b[0m \u001b[0mthat\u001b[0m \u001b[0;32mis\u001b[0m \u001b[0mreturned\u001b[0m\u001b[0;34m.\u001b[0m\u001b[0;34m\u001b[0m\u001b[0;34m\u001b[0m\u001b[0m\n\u001b[1;32m    267\u001b[0m         '''\n\u001b[0;32m--> 268\u001b[0;31m         \u001b[0;32mreturn\u001b[0m \u001b[0mself\u001b[0m\u001b[0;34m.\u001b[0m\u001b[0m_map_async\u001b[0m\u001b[0;34m(\u001b[0m\u001b[0mfunc\u001b[0m\u001b[0;34m,\u001b[0m \u001b[0miterable\u001b[0m\u001b[0;34m,\u001b[0m \u001b[0mmapstar\u001b[0m\u001b[0;34m,\u001b[0m \u001b[0mchunksize\u001b[0m\u001b[0;34m)\u001b[0m\u001b[0;34m.\u001b[0m\u001b[0mget\u001b[0m\u001b[0;34m(\u001b[0m\u001b[0;34m)\u001b[0m\u001b[0;34m\u001b[0m\u001b[0;34m\u001b[0m\u001b[0m\n\u001b[0m\u001b[1;32m    269\u001b[0m \u001b[0;34m\u001b[0m\u001b[0m\n\u001b[1;32m    270\u001b[0m     \u001b[0;32mdef\u001b[0m \u001b[0mstarmap\u001b[0m\u001b[0;34m(\u001b[0m\u001b[0mself\u001b[0m\u001b[0;34m,\u001b[0m \u001b[0mfunc\u001b[0m\u001b[0;34m,\u001b[0m \u001b[0miterable\u001b[0m\u001b[0;34m,\u001b[0m \u001b[0mchunksize\u001b[0m\u001b[0;34m=\u001b[0m\u001b[0;32mNone\u001b[0m\u001b[0;34m)\u001b[0m\u001b[0;34m:\u001b[0m\u001b[0;34m\u001b[0m\u001b[0;34m\u001b[0m\u001b[0m\n",
      "\u001b[0;32m~/software/anaconda2/envs/mito_trace/lib/python3.7/multiprocessing/pool.py\u001b[0m in \u001b[0;36mget\u001b[0;34m(self, timeout)\u001b[0m\n\u001b[1;32m    655\u001b[0m             \u001b[0;32mreturn\u001b[0m \u001b[0mself\u001b[0m\u001b[0;34m.\u001b[0m\u001b[0m_value\u001b[0m\u001b[0;34m\u001b[0m\u001b[0;34m\u001b[0m\u001b[0m\n\u001b[1;32m    656\u001b[0m         \u001b[0;32melse\u001b[0m\u001b[0;34m:\u001b[0m\u001b[0;34m\u001b[0m\u001b[0;34m\u001b[0m\u001b[0m\n\u001b[0;32m--> 657\u001b[0;31m             \u001b[0;32mraise\u001b[0m \u001b[0mself\u001b[0m\u001b[0;34m.\u001b[0m\u001b[0m_value\u001b[0m\u001b[0;34m\u001b[0m\u001b[0;34m\u001b[0m\u001b[0m\n\u001b[0m\u001b[1;32m    658\u001b[0m \u001b[0;34m\u001b[0m\u001b[0m\n\u001b[1;32m    659\u001b[0m     \u001b[0;32mdef\u001b[0m \u001b[0m_set\u001b[0m\u001b[0;34m(\u001b[0m\u001b[0mself\u001b[0m\u001b[0;34m,\u001b[0m \u001b[0mi\u001b[0m\u001b[0;34m,\u001b[0m \u001b[0mobj\u001b[0m\u001b[0;34m)\u001b[0m\u001b[0;34m:\u001b[0m\u001b[0;34m\u001b[0m\u001b[0;34m\u001b[0m\u001b[0m\n",
      "\u001b[0;31mFileNotFoundError\u001b[0m: [Errno 2] File b'/data2/mito_lineage/data/processed/mttrace/2020_11_18/PBMC_P/mapq_0/PBMC_P_scPileup_200/CB_TGTGACAGTCAGTGCC-1.G.txt' does not exist: b'/data2/mito_lineage/data/processed/mttrace/2020_11_18/PBMC_P/mapq_0/PBMC_P_scPileup_200/CB_TGTGACAGTCAGTGCC-1.G.txt'"
     ]
    }
   ],
   "source": [
    "pbmc_p_AF_by_cell, pbmc_p_BQ_by_cell, pbmc_p_af, pbmc_p_bq_df, pbmc_p_nt_df = calculate_af(coverage_pbmc_p_dir, concat_pbmc_p_dir, ref_fasta=mt_ref_fa, \n",
    "                                                                                           AF_F=None, maxBP=maxBP, topN=topN, min_cells=min_cells, min_reads=min_reads, \n",
    "                                                                                           min_het_cells=min_het_cells, het_thresh=het_thresh)"
   ]
  },
  {
   "cell_type": "code",
   "execution_count": null,
   "metadata": {
    "ExecuteTime": {
     "end_time": "2020-12-09T23:45:05.949800Z",
     "start_time": "2020-12-09T22:26:28.460Z"
    },
    "scrolled": true
   },
   "outputs": [],
   "source": [
    "print(f\"Number of positions with heteroplasmy fraction above 0: {(pbmc_p_AF_by_cell>0).any(axis=0).sum()}\")"
   ]
  },
  {
   "cell_type": "code",
   "execution_count": null,
   "metadata": {
    "ExecuteTime": {
     "end_time": "2020-12-09T23:45:05.951268Z",
     "start_time": "2020-12-09T22:26:28.462Z"
    },
    "scrolled": true
   },
   "outputs": [],
   "source": [
    "%matplotlib inline\n",
    "f = plt.figure()\n",
    "bq_vals = pbmc_p_bq_df.values.flatten()\n",
    "plt.hist(bq_vals[bq_vals>0])\n",
    "plt.title(\"Base Quality for all variants (removing 0s) \")\n",
    "plt.savefig(join(outdir, \"pbmc_p_base_quality.png\"))\n",
    "\n",
    "plt.figure()\n",
    "plt.hist(pbmc_p_af[\"Alternative BQ\"])\n",
    "plt.title(\"Base Quality Score of alternative alleles\")\n",
    "plt.xlabel(\"Base Quality (Higher is better)\")\n",
    "plt.ylabel(\"Count\")\n",
    "plt.savefig(join(outdir, \"pbmc_p_base_quality_altAllele.png\"))\n",
    "\n",
    "\n",
    "f = plt.figure()\n",
    "af_vals = pbmc_p_AF_by_cell.values.flatten()\n",
    "plt.hist(af_vals[af_vals>0])\n",
    "plt.title(\"Heteroplasmy of alternative allele\")\n",
    "plt.xlabel(\"Heteroplasmy fraction in variants in pbmc_p (removing 0s)\")\n",
    "plt.savefig(join(outdir, \"pbmc_p_heteroplasmy_values.png\"))\n"
   ]
  },
  {
   "cell_type": "code",
   "execution_count": null,
   "metadata": {},
   "outputs": [],
   "source": []
  },
  {
   "cell_type": "code",
   "execution_count": null,
   "metadata": {},
   "outputs": [],
   "source": []
  },
  {
   "cell_type": "markdown",
   "metadata": {},
   "source": [
    "# pbmc_j"
   ]
  },
  {
   "cell_type": "code",
   "execution_count": null,
   "metadata": {
    "ExecuteTime": {
     "end_time": "2020-12-09T23:45:05.952588Z",
     "start_time": "2020-12-09T22:26:56.760Z"
    }
   },
   "outputs": [],
   "source": [
    "pbmc_j_AF_by_cell, pbmc_j_BQ_by_cell, pbmc_j_af, pbmc_j_bq_df, pbmc_j_nt_df = calculate_af(coverage_pbmc_j_dir, concat_pbmc_j_dir, ref_fasta=mt_ref_fa,\n",
    "                                                                                           AF_F=None, maxBP=maxBP, topN=topN, \n",
    "                                                                                           min_cells=min_cells, min_reads=min_reads,\n",
    "                                                                                           min_het_cells=min_het_cells, het_thresh=het_thresh)"
   ]
  },
  {
   "cell_type": "code",
   "execution_count": null,
   "metadata": {
    "ExecuteTime": {
     "end_time": "2020-12-09T23:45:05.953840Z",
     "start_time": "2020-12-09T22:26:56.762Z"
    },
    "scrolled": true
   },
   "outputs": [],
   "source": [
    "%matplotlib inline\n",
    "f = plt.figure()\n",
    "bq_vals = pbmc_j_bq_df.values.flatten()\n",
    "plt.hist(bq_vals[bq_vals>0])\n",
    "plt.title(\"Base Quality for all variants (removing 0s) \")\n",
    "plt.savefig(join(outdir, \"pbmc_j_base_quality.png\"))\n",
    "\n",
    "plt.figure()\n",
    "plt.hist(pbmc_j_af[\"Alternative BQ\"])\n",
    "plt.title(\"Base Quality Score of alternative alleles\")\n",
    "plt.xlabel(\"Base Quality (Higher is better)\")\n",
    "plt.ylabel(\"Count\")\n",
    "plt.savefig(join(outdir, \"pbmc_j_base_quality_altAllele.png\"))\n",
    "\n",
    "\n",
    "f = plt.figure()\n",
    "af_vals = pbmc_j_AF_by_cell.values.flatten()\n",
    "plt.hist(af_vals[af_vals>0])\n",
    "plt.title(\"Heteroplasmy of alternative allele\")\n",
    "plt.xlabel(\"Heteroplasmy fraction in variants in pbmc_j (removing 0s)\")\n",
    "plt.savefig(join(outdir, \"pbmc_j_heteroplasmy_values.png\"))\n"
   ]
  },
  {
   "cell_type": "markdown",
   "metadata": {},
   "source": [
    "## Merge the two "
   ]
  },
  {
   "cell_type": "code",
   "execution_count": null,
   "metadata": {
    "ExecuteTime": {
     "end_time": "2020-12-09T23:45:05.955218Z",
     "start_time": "2020-12-09T22:26:56.770Z"
    }
   },
   "outputs": [],
   "source": [
    "pbmc_j_AF_by_cell.index = pbmc_j_AF_by_cell.index + \"_pbmc_j\"\n",
    "pbmc_p_AF_by_cell.index = pbmc_p_AF_by_cell.index + \"_pbmc_p\"\n"
   ]
  },
  {
   "cell_type": "code",
   "execution_count": null,
   "metadata": {
    "ExecuteTime": {
     "end_time": "2020-12-09T23:45:05.956541Z",
     "start_time": "2020-12-09T22:26:56.772Z"
    },
    "scrolled": false
   },
   "outputs": [],
   "source": [
    "all_cells = pd.concat((pbmc_p_AF_by_cell,pbmc_j_AF_by_cell) ,axis=1)\n"
   ]
  },
  {
   "cell_type": "code",
   "execution_count": null,
   "metadata": {
    "ExecuteTime": {
     "end_time": "2020-12-09T23:45:05.957772Z",
     "start_time": "2020-12-09T22:26:56.774Z"
    },
    "scrolled": true
   },
   "outputs": [],
   "source": [
    "all_cells_var_overlap = pd.concat((pbmc_p_AF_by_cell,pbmc_j_AF_by_cell) ,axis=0, join='inner')\n",
    "overlap_variants = all_cells_var_overlap.columns.values\n",
    "all_cells_var_overlap\n"
   ]
  },
  {
   "cell_type": "code",
   "execution_count": null,
   "metadata": {
    "ExecuteTime": {
     "end_time": "2020-12-09T23:45:05.959238Z",
     "start_time": "2020-12-09T22:26:56.775Z"
    },
    "scrolled": true
   },
   "outputs": [],
   "source": [
    "%matplotlib inline\n",
    "venn2([set(pbmc_p_AF_by_cell.columns.values),set(pbmc_j_AF_by_cell.columns.values)],set_labels=[\"pbmc_p\",\"pbmc_j\"])\n",
    "plt.title(\"Overlap of called variants\")\n",
    "plt.savefig(join(outdir,\"overlap_variants_with_without_ligand.png\"))"
   ]
  },
  {
   "cell_type": "code",
   "execution_count": null,
   "metadata": {},
   "outputs": [],
   "source": []
  },
  {
   "cell_type": "code",
   "execution_count": null,
   "metadata": {},
   "outputs": [],
   "source": []
  },
  {
   "cell_type": "markdown",
   "metadata": {},
   "source": [
    "## Plot the lineage tracing "
   ]
  },
  {
   "cell_type": "markdown",
   "metadata": {},
   "source": [
    "### With only the overlapping variants"
   ]
  },
  {
   "cell_type": "code",
   "execution_count": null,
   "metadata": {
    "ExecuteTime": {
     "end_time": "2020-12-09T23:45:05.960420Z",
     "start_time": "2020-12-09T22:34:09.080Z"
    }
   },
   "outputs": [],
   "source": [
    "all_cells_var_overlap = all_cells_var_overlap.drop((all_cells_var_overlap==0).all(axis=0).where(lambda x: x==True).dropna().index,axis=1)\n",
    "\n",
    "all_cells_var_overlap = all_cells_var_overlap.drop((all_cells_var_overlap==0).all(axis=1).where(lambda x: x==True).dropna().index,axis=0)"
   ]
  },
  {
   "cell_type": "code",
   "execution_count": null,
   "metadata": {
    "ExecuteTime": {
     "end_time": "2020-12-09T23:45:05.961775Z",
     "start_time": "2020-12-09T22:34:09.083Z"
    },
    "scrolled": true
   },
   "outputs": [],
   "source": [
    "row_meta = pd.concat((pd.DataFrame(index=pbmc_j_AF_by_cell.index, data={\"Sample\":[\"pbmc_j\"]*pbmc_j_AF_by_cell.index.shape[0]}),\n",
    "           pd.DataFrame(index= pbmc_p_AF_by_cell.index, data={\"Sample\":[\"pbmc_p\"]*pbmc_p_AF_by_cell.index.shape[0]})))\n",
    "row_meta = row_meta.loc[all_cells_var_overlap.index]\n",
    "row_meta"
   ]
  },
  {
   "cell_type": "code",
   "execution_count": null,
   "metadata": {
    "ExecuteTime": {
     "end_time": "2020-12-09T23:45:05.963107Z",
     "start_time": "2020-12-09T22:34:09.085Z"
    },
    "scrolled": false
   },
   "outputs": [],
   "source": [
    "%matplotlib inline\n",
    "cluster_help.plot_cluster(df=all_cells_var_overlap, row_meta=row_meta, col_meta=None,\n",
    "                 fsave=None, to_z=False, to_col_clust=False,\n",
    "                 to_row_clust=True, name=None, col_names=True,\n",
    "                 row_names=True, to_legend=True, method=\"average\", white_name=None)\n",
    "plt.savefig(join(outdir,\"lineage_OnlyoverlapVariants.png\"))"
   ]
  },
  {
   "cell_type": "markdown",
   "metadata": {},
   "source": [
    "## Plot number of overlapping positions from pbmc_j and without"
   ]
  },
  {
   "cell_type": "markdown",
   "metadata": {},
   "source": [
    "### With all variants"
   ]
  },
  {
   "cell_type": "code",
   "execution_count": null,
   "metadata": {
    "ExecuteTime": {
     "end_time": "2020-12-09T23:45:05.964443Z",
     "start_time": "2020-12-09T22:34:09.096Z"
    },
    "scrolled": false
   },
   "outputs": [],
   "source": [
    "all_cells = all_cells.fillna(0)\n",
    "all_cells = all_cells.drop((all_cells==0).all(axis=0).where(lambda x: x==True).dropna().index,axis=1)\n",
    "\n",
    "all_cells = all_cells.drop((all_cells==0).all(axis=1).where(lambda x: x==True).dropna().index,axis=0)\n",
    "\n",
    "# row_meta = pd.concat((pd.DataFrame(index=pbmc_j_cell, data={\"Sample\":[\"pbmc_j\"]*pbmc_j_cell.shape[0]}),\n",
    "#            pd.DataFrame(index=pbmc_p_cell, data={\"Sample\":[\"pbmc_p\"]*pbmc_p_cell.shape[0]})))\n",
    "# row_meta = row_meta.loc[all_cells.index]\n",
    "\n",
    "row_meta = pd.concat((pd.DataFrame(index=pbmc_j_AF_by_cell.index, data={\"Sample\":[\"pbmc_j\"]*pbmc_j_AF_by_cell.index.shape[0]}),\n",
    "           pd.DataFrame(index= pbmc_p_AF_by_cell.index, data={\"Sample\":[\"pbmc_p\"]*pbmc_p_AF_by_cell.index.shape[0]})))\n",
    "row_meta = row_meta.loc[all_cells.index]\n",
    "row_meta\n",
    "\n",
    "\n",
    "g = cluster_help.plot_cluster(df=all_cells, row_meta=row_meta, col_meta=None,\n",
    "                 fsave=None, to_z=False, to_col_clust=False,\n",
    "                 to_row_clust=True, name=None, col_names=True,\n",
    "                 row_names=True, to_legend=True, method=\"average\", white_name=None)\n",
    "plt.savefig(join(outdir,\"lineage_AllVariants.png\"))"
   ]
  },
  {
   "cell_type": "markdown",
   "metadata": {},
   "source": [
    "## Scatter the average AF in both samples for each position \n"
   ]
  },
  {
   "cell_type": "code",
   "execution_count": null,
   "metadata": {
    "ExecuteTime": {
     "end_time": "2020-12-09T23:45:05.965713Z",
     "start_time": "2020-12-09T22:34:09.101Z"
    },
    "scrolled": true
   },
   "outputs": [],
   "source": [
    "#pd.concat((pbmc_p_af, pbmc_j_af))\n",
    "import numpy as np\n",
    "overlap_inds = np.array(list(map(lambda x: int(x[:-1]), all_cells.columns)))\n",
    "print(overlap_inds)\n",
    "merged_af = pd.DataFrame({\"pbmc_p\":pbmc_p_af.loc[overlap_inds,\"AF\"], \"pbmc_jL\":pbmc_j_af.loc[overlap_inds, \"AF\"]})\n",
    "merged_af = merged_af.fillna(0)\n",
    "sns.pairplot(merged_af)\n",
    "plt.savefig(join(outdir, \"heteroplasmy_across_samples\"))"
   ]
  },
  {
   "cell_type": "code",
   "execution_count": null,
   "metadata": {
    "ExecuteTime": {
     "end_time": "2020-12-09T23:45:05.967441Z",
     "start_time": "2020-12-09T22:34:09.102Z"
    }
   },
   "outputs": [],
   "source": [
    "plt.hist((merged_af['pbmc_p'].astype(float)))\n",
    "plt.yscale('log')"
   ]
  },
  {
   "cell_type": "markdown",
   "metadata": {},
   "source": [
    "## Just using CD34 with no pbmc_jL"
   ]
  },
  {
   "cell_type": "markdown",
   "metadata": {},
   "source": [
    "### Here we compare the rest of sequencing techniques done and see if we see the same variants, this ensuring the differences are consistent across the techniques and not technical noise."
   ]
  },
  {
   "cell_type": "code",
   "execution_count": null,
   "metadata": {
    "ExecuteTime": {
     "end_time": "2020-12-09T23:45:05.968746Z",
     "start_time": "2020-12-09T22:34:09.111Z"
    },
    "scrolled": true
   },
   "outputs": [],
   "source": [
    "from src.utils import construct_pca\n",
    "%matplotlib inline\n",
    "construct_pca(pbmc_p_AF_by_cell.copy(), save_f=join(outdir, \"pbmc_p_pca\"))"
   ]
  },
  {
   "cell_type": "code",
   "execution_count": null,
   "metadata": {
    "ExecuteTime": {
     "end_time": "2020-12-09T23:45:05.970048Z",
     "start_time": "2020-12-09T22:34:09.113Z"
    },
    "scrolled": true
   },
   "outputs": [],
   "source": [
    "\n",
    "%matplotlib inline\n",
    "construct_pca(all_cells_var_overlap.copy(), save_f=join(outdir, \"pca\"))"
   ]
  },
  {
   "cell_type": "code",
   "execution_count": null,
   "metadata": {},
   "outputs": [],
   "source": []
  },
  {
   "cell_type": "code",
   "execution_count": null,
   "metadata": {},
   "outputs": [],
   "source": []
  },
  {
   "cell_type": "markdown",
   "metadata": {},
   "source": [
    "## Het by value"
   ]
  },
  {
   "cell_type": "code",
   "execution_count": null,
   "metadata": {},
   "outputs": [],
   "source": []
  },
  {
   "cell_type": "code",
   "execution_count": null,
   "metadata": {},
   "outputs": [],
   "source": []
  },
  {
   "cell_type": "code",
   "execution_count": null,
   "metadata": {},
   "outputs": [],
   "source": []
  },
  {
   "cell_type": "markdown",
   "metadata": {},
   "source": [
    "## Clustering"
   ]
  },
  {
   "cell_type": "code",
   "execution_count": null,
   "metadata": {
    "ExecuteTime": {
     "end_time": "2020-12-09T23:45:05.971334Z",
     "start_time": "2020-12-09T22:34:09.125Z"
    },
    "scrolled": true
   },
   "outputs": [],
   "source": [
    "pbmc_p_AF_by_cell"
   ]
  },
  {
   "cell_type": "code",
   "execution_count": null,
   "metadata": {
    "ExecuteTime": {
     "end_time": "2020-12-09T23:45:05.972582Z",
     "start_time": "2020-12-09T22:34:09.127Z"
    },
    "scrolled": false
   },
   "outputs": [],
   "source": [
    "pbmc_p_AF_by_cell = pbmc_p_AF_by_cell.loc[:,(pbmc_p_AF_by_cell>0).any(axis=0)]\n",
    "sns.clustermap(np.sqrt(pbmc_p_AF_by_cell))\n",
    "plt.savefig(join(outdir, 'pbmc_p_clust.png'))"
   ]
  },
  {
   "cell_type": "code",
   "execution_count": null,
   "metadata": {
    "ExecuteTime": {
     "end_time": "2020-12-09T23:45:05.973844Z",
     "start_time": "2020-12-09T22:34:09.128Z"
    },
    "scrolled": true
   },
   "outputs": [],
   "source": [
    "pbmc_j_AF_by_cell = pbmc_j_AF_by_cell.loc[:,(pbmc_j_AF_by_cell>0).any(axis=0)]\n",
    "sns.clustermap(np.sqrt(pbmc_j_AF_by_cell))\n",
    "plt.savefig(join(outdir, 'pbmc_j_clust.png'))"
   ]
  }
 ],
 "metadata": {
  "kernelspec": {
   "display_name": "Python 3",
   "language": "python",
   "name": "python3"
  },
  "language_info": {
   "codemirror_mode": {
    "name": "ipython",
    "version": 3
   },
   "file_extension": ".py",
   "mimetype": "text/x-python",
   "name": "python",
   "nbconvert_exporter": "python",
   "pygments_lexer": "ipython3",
   "version": "3.7.3"
  }
 },
 "nbformat": 4,
 "nbformat_minor": 2
}
