{
 "cells": [
  {
   "cell_type": "code",
   "execution_count": 2,
   "metadata": {
    "ExecuteTime": {
     "end_time": "2020-12-13T02:12:06.191514Z",
     "start_time": "2020-12-13T02:12:05.915483Z"
    }
   },
   "outputs": [],
   "source": [
    "import pandas as pd"
   ]
  },
  {
   "cell_type": "code",
   "execution_count": 1,
   "metadata": {
    "ExecuteTime": {
     "end_time": "2020-12-13T02:12:03.908650Z",
     "start_time": "2020-12-13T02:12:03.440354Z"
    }
   },
   "outputs": [
    {
     "name": "stdout",
     "output_type": "stream",
     "text": [
      "Project Directory: /data2/mito_lineage\n"
     ]
    }
   ],
   "source": [
    "from src.config import ROOT_DIR, RESULTS\n",
    "from os.path import join\n",
    "import os\n",
    "os.chdir(RESULTS)"
   ]
  },
  {
   "cell_type": "code",
   "execution_count": 6,
   "metadata": {
    "ExecuteTime": {
     "end_time": "2020-12-13T02:12:39.326487Z",
     "start_time": "2020-12-13T02:12:39.095235Z"
    },
    "scrolled": true
   },
   "outputs": [],
   "source": [
    "df = pd.read_csv(\"/data2/isshamie/mito_lineage/data/processed/mtscATAC/2020_11_18_Croker/MTblacklist_mtasnucl/PBMC_J/outs/peaks.bed\",\n",
    "            sep=\"\\t\", header=None)"
   ]
  },
  {
   "cell_type": "code",
   "execution_count": 7,
   "metadata": {
    "ExecuteTime": {
     "end_time": "2020-12-13T02:12:41.493016Z",
     "start_time": "2020-12-13T02:12:41.466245Z"
    }
   },
   "outputs": [
    {
     "data": {
      "text/html": [
       "<div>\n",
       "<style scoped>\n",
       "    .dataframe tbody tr th:only-of-type {\n",
       "        vertical-align: middle;\n",
       "    }\n",
       "\n",
       "    .dataframe tbody tr th {\n",
       "        vertical-align: top;\n",
       "    }\n",
       "\n",
       "    .dataframe thead th {\n",
       "        text-align: right;\n",
       "    }\n",
       "</style>\n",
       "<table border=\"1\" class=\"dataframe\">\n",
       "  <thead>\n",
       "    <tr style=\"text-align: right;\">\n",
       "      <th></th>\n",
       "      <th>0</th>\n",
       "      <th>1</th>\n",
       "      <th>2</th>\n",
       "    </tr>\n",
       "  </thead>\n",
       "  <tbody>\n",
       "    <tr>\n",
       "      <th>0</th>\n",
       "      <td>chr1</td>\n",
       "      <td>267855</td>\n",
       "      <td>268166</td>\n",
       "    </tr>\n",
       "    <tr>\n",
       "      <th>1</th>\n",
       "      <td>chr1</td>\n",
       "      <td>778415</td>\n",
       "      <td>779111</td>\n",
       "    </tr>\n",
       "    <tr>\n",
       "      <th>2</th>\n",
       "      <td>chr1</td>\n",
       "      <td>817144</td>\n",
       "      <td>817529</td>\n",
       "    </tr>\n",
       "    <tr>\n",
       "      <th>3</th>\n",
       "      <td>chr1</td>\n",
       "      <td>827106</td>\n",
       "      <td>827916</td>\n",
       "    </tr>\n",
       "    <tr>\n",
       "      <th>4</th>\n",
       "      <td>chr1</td>\n",
       "      <td>869790</td>\n",
       "      <td>869945</td>\n",
       "    </tr>\n",
       "    <tr>\n",
       "      <th>...</th>\n",
       "      <td>...</td>\n",
       "      <td>...</td>\n",
       "      <td>...</td>\n",
       "    </tr>\n",
       "    <tr>\n",
       "      <th>44826</th>\n",
       "      <td>chrY</td>\n",
       "      <td>56873577</td>\n",
       "      <td>56874589</td>\n",
       "    </tr>\n",
       "    <tr>\n",
       "      <th>44827</th>\n",
       "      <td>chrY</td>\n",
       "      <td>56875175</td>\n",
       "      <td>56875240</td>\n",
       "    </tr>\n",
       "    <tr>\n",
       "      <th>44828</th>\n",
       "      <td>chrY</td>\n",
       "      <td>56877275</td>\n",
       "      <td>56877497</td>\n",
       "    </tr>\n",
       "    <tr>\n",
       "      <th>44829</th>\n",
       "      <td>chrY</td>\n",
       "      <td>56880574</td>\n",
       "      <td>56880605</td>\n",
       "    </tr>\n",
       "    <tr>\n",
       "      <th>44830</th>\n",
       "      <td>chrM</td>\n",
       "      <td>0</td>\n",
       "      <td>16569</td>\n",
       "    </tr>\n",
       "  </tbody>\n",
       "</table>\n",
       "<p>44831 rows × 3 columns</p>\n",
       "</div>"
      ],
      "text/plain": [
       "          0         1         2\n",
       "0      chr1    267855    268166\n",
       "1      chr1    778415    779111\n",
       "2      chr1    817144    817529\n",
       "3      chr1    827106    827916\n",
       "4      chr1    869790    869945\n",
       "...     ...       ...       ...\n",
       "44826  chrY  56873577  56874589\n",
       "44827  chrY  56875175  56875240\n",
       "44828  chrY  56877275  56877497\n",
       "44829  chrY  56880574  56880605\n",
       "44830  chrM         0     16569\n",
       "\n",
       "[44831 rows x 3 columns]"
      ]
     },
     "execution_count": 7,
     "metadata": {},
     "output_type": "execute_result"
    }
   ],
   "source": [
    "df"
   ]
  }
 ],
 "metadata": {
  "kernelspec": {
   "display_name": "Python 3",
   "language": "python",
   "name": "python3"
  },
  "language_info": {
   "codemirror_mode": {
    "name": "ipython",
    "version": 3
   },
   "file_extension": ".py",
   "mimetype": "text/x-python",
   "name": "python",
   "nbconvert_exporter": "python",
   "pygments_lexer": "ipython3",
   "version": "3.7.3"
  }
 },
 "nbformat": 4,
 "nbformat_minor": 4
}
