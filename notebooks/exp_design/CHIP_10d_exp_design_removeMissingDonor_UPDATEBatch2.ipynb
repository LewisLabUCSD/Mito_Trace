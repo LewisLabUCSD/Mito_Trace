{
 "cells": [
  {
   "cell_type": "markdown",
   "id": "55430aa7",
   "metadata": {},
   "source": [
    "## Remove donor RB1048 from batch 2, and add in RB1071.\n",
    "Old batch:   \n",
    "RB1060+RB1003  \n",
    "RB1048+RB1065  \n"
   ]
  },
  {
   "cell_type": "code",
   "execution_count": 1,
   "id": "c9b6f35a",
   "metadata": {},
   "outputs": [],
   "source": [
    "donors_init = [\"RB1060\", \"RB1003\", \"RB1048\", \"RB1065\"]"
   ]
  },
  {
   "cell_type": "markdown",
   "id": "8d2eded3",
   "metadata": {},
   "source": [
    "## Since the algorithm works with even divisions in each multiplex, I am going to keep the donor in, but when looking for the best fit I will remove their features for the comparison (and also need to make sure that donor cannot be in the 4 person batch either o.w would be one subject)"
   ]
  },
  {
   "cell_type": "code",
   "execution_count": 2,
   "id": "a96a765a",
   "metadata": {},
   "outputs": [],
   "source": [
    "donor_to_drop = \"RB1002\""
   ]
  },
  {
   "cell_type": "code",
   "execution_count": 3,
   "id": "16b3dd9a",
   "metadata": {},
   "outputs": [
    {
     "name": "stdout",
     "output_type": "stream",
     "text": [
      "Project Directory: /data2/mito_lineage\n"
     ]
    }
   ],
   "source": [
    "import pandas as pd\n",
    "import numpy as np\n",
    "import matplotlib.pyplot as plt\n",
    "import seaborn as sns\n",
    "from os.path import join, exists\n",
    "import os\n",
    "%matplotlib inline\n",
    "from itertools import combinations\n",
    "from collections import defaultdict \n",
    "from src.config import ROOT_DIR, DATA_DIR\n",
    "from scipy.stats import ttest_ind, chisquare\n",
    "import tqdm\n",
    "from copy import deepcopy"
   ]
  },
  {
   "cell_type": "code",
   "execution_count": 4,
   "id": "327d2fd5",
   "metadata": {},
   "outputs": [],
   "source": [
    "np.random.seed(42)"
   ]
  },
  {
   "cell_type": "code",
   "execution_count": 5,
   "id": "89af0db3",
   "metadata": {},
   "outputs": [],
   "source": [
    "outdir = \"./output\"\n",
    "out_f = \"Chipd10_secondRun\""
   ]
  },
  {
   "cell_type": "code",
   "execution_count": 6,
   "id": "213a2fbc",
   "metadata": {},
   "outputs": [],
   "source": [
    "if not exists(outdir):\n",
    "    os.mkdir(outdir)"
   ]
  },
  {
   "cell_type": "markdown",
   "id": "265db6ad",
   "metadata": {},
   "source": [
    "## Set up parameters for the number of subjects in a batch (day) and number of donors in each multiplex"
   ]
  },
  {
   "cell_type": "code",
   "execution_count": 7,
   "id": "f91c29eb",
   "metadata": {},
   "outputs": [],
   "source": [
    "n_sim=10000\n",
    "batches=[3,2] #,4]\n",
    "#mult=[3,2]"
   ]
  },
  {
   "cell_type": "code",
   "execution_count": 8,
   "id": "4eb26276",
   "metadata": {
    "scrolled": true
   },
   "outputs": [
    {
     "data": {
      "text/html": [
       "<div>\n",
       "<style scoped>\n",
       "    .dataframe tbody tr th:only-of-type {\n",
       "        vertical-align: middle;\n",
       "    }\n",
       "\n",
       "    .dataframe tbody tr th {\n",
       "        vertical-align: top;\n",
       "    }\n",
       "\n",
       "    .dataframe thead th {\n",
       "        text-align: right;\n",
       "    }\n",
       "</style>\n",
       "<table border=\"1\" class=\"dataframe\">\n",
       "  <thead>\n",
       "    <tr style=\"text-align: right;\">\n",
       "      <th></th>\n",
       "      <th>Sum_VAF</th>\n",
       "      <th>Smoking_Status</th>\n",
       "      <th>Cell_count__viability</th>\n",
       "      <th>Age</th>\n",
       "      <th>Gender</th>\n",
       "      <th>Race</th>\n",
       "    </tr>\n",
       "    <tr>\n",
       "      <th>Donor_ID</th>\n",
       "      <th></th>\n",
       "      <th></th>\n",
       "      <th></th>\n",
       "      <th></th>\n",
       "      <th></th>\n",
       "      <th></th>\n",
       "    </tr>\n",
       "  </thead>\n",
       "  <tbody>\n",
       "    <tr>\n",
       "      <th>RB1046</th>\n",
       "      <td>0.546006</td>\n",
       "      <td>0</td>\n",
       "      <td>2870000</td>\n",
       "      <td>53</td>\n",
       "      <td>M</td>\n",
       "      <td>Hispanic</td>\n",
       "    </tr>\n",
       "    <tr>\n",
       "      <th>RB1085</th>\n",
       "      <td>0.154719</td>\n",
       "      <td>0</td>\n",
       "      <td>700000</td>\n",
       "      <td>53</td>\n",
       "      <td>F</td>\n",
       "      <td>Hispanic</td>\n",
       "    </tr>\n",
       "    <tr>\n",
       "      <th>RB1071</th>\n",
       "      <td>0.141314</td>\n",
       "      <td>0</td>\n",
       "      <td>1600000</td>\n",
       "      <td>54</td>\n",
       "      <td>M</td>\n",
       "      <td>Caucasian</td>\n",
       "    </tr>\n",
       "    <tr>\n",
       "      <th>RB1060</th>\n",
       "      <td>0.469024</td>\n",
       "      <td>1</td>\n",
       "      <td>1700000</td>\n",
       "      <td>51</td>\n",
       "      <td>M</td>\n",
       "      <td>Caucasian</td>\n",
       "    </tr>\n",
       "    <tr>\n",
       "      <th>RB1065</th>\n",
       "      <td>1.733630</td>\n",
       "      <td>1</td>\n",
       "      <td>1700000</td>\n",
       "      <td>53</td>\n",
       "      <td>F</td>\n",
       "      <td>African_American</td>\n",
       "    </tr>\n",
       "    <tr>\n",
       "      <th>RB1002</th>\n",
       "      <td>NaN</td>\n",
       "      <td>1</td>\n",
       "      <td>1300000</td>\n",
       "      <td>50</td>\n",
       "      <td>M</td>\n",
       "      <td>Asian</td>\n",
       "    </tr>\n",
       "    <tr>\n",
       "      <th>RB1003</th>\n",
       "      <td>0.014966</td>\n",
       "      <td>0</td>\n",
       "      <td>1090000</td>\n",
       "      <td>64</td>\n",
       "      <td>M</td>\n",
       "      <td>Caucasian</td>\n",
       "    </tr>\n",
       "    <tr>\n",
       "      <th>RB1048</th>\n",
       "      <td>0.719311</td>\n",
       "      <td>0</td>\n",
       "      <td>2230000</td>\n",
       "      <td>61</td>\n",
       "      <td>M</td>\n",
       "      <td>Asian</td>\n",
       "    </tr>\n",
       "    <tr>\n",
       "      <th>RB1138</th>\n",
       "      <td>0.006915</td>\n",
       "      <td>0</td>\n",
       "      <td>1240000</td>\n",
       "      <td>55</td>\n",
       "      <td>F</td>\n",
       "      <td>African_American</td>\n",
       "    </tr>\n",
       "    <tr>\n",
       "      <th>RB1105</th>\n",
       "      <td>0.005924</td>\n",
       "      <td>1</td>\n",
       "      <td>875000</td>\n",
       "      <td>59</td>\n",
       "      <td>M</td>\n",
       "      <td>Caucasian</td>\n",
       "    </tr>\n",
       "  </tbody>\n",
       "</table>\n",
       "</div>"
      ],
      "text/plain": [
       "           Sum_VAF  Smoking_Status  Cell_count__viability  Age Gender  \\\n",
       "Donor_ID                                                                \n",
       "RB1046    0.546006               0                2870000   53      M   \n",
       "RB1085    0.154719               0                 700000   53      F   \n",
       "RB1071    0.141314               0                1600000   54      M   \n",
       "RB1060    0.469024               1                1700000   51      M   \n",
       "RB1065    1.733630               1                1700000   53      F   \n",
       "RB1002         NaN               1                1300000   50      M   \n",
       "RB1003    0.014966               0                1090000   64      M   \n",
       "RB1048    0.719311               0                2230000   61      M   \n",
       "RB1138    0.006915               0                1240000   55      F   \n",
       "RB1105    0.005924               1                 875000   59      M   \n",
       "\n",
       "                      Race  \n",
       "Donor_ID                    \n",
       "RB1046            Hispanic  \n",
       "RB1085            Hispanic  \n",
       "RB1071           Caucasian  \n",
       "RB1060           Caucasian  \n",
       "RB1065    African_American  \n",
       "RB1002               Asian  \n",
       "RB1003           Caucasian  \n",
       "RB1048               Asian  \n",
       "RB1138    African_American  \n",
       "RB1105           Caucasian  "
      ]
     },
     "execution_count": 8,
     "metadata": {},
     "output_type": "execute_result"
    }
   ],
   "source": [
    "in_f = join(DATA_DIR, \"processed\", \"gilead_chip_profile/CHIPd10\", \"CHIPd10donor_feature.csv\")\n",
    "donor_meta = pd.read_csv(in_f, index_col=0)\n",
    "donor_meta"
   ]
  },
  {
   "cell_type": "markdown",
   "id": "50bafaf9",
   "metadata": {},
   "source": [
    "### Sum_VAF is the sum VAF across all CHIP mutations in a donor"
   ]
  },
  {
   "cell_type": "markdown",
   "id": "efccf9ad",
   "metadata": {},
   "source": [
    "## Preprocess and clean df \n",
    "make gender and race categorical. "
   ]
  },
  {
   "cell_type": "code",
   "execution_count": 9,
   "id": "3fb626d6",
   "metadata": {},
   "outputs": [],
   "source": [
    "race_map = {\"Hispanic\":0, \"Caucasian\":1, \"African_American\":2, \"Asian\":3}\n",
    "donor_meta[\"Race\"] = donor_meta[\"Race\"].map(race_map)\n",
    "gend_map ={\"M\":0,\"F\":1}\n",
    "donor_meta[\"Gender\"] = donor_meta[\"Gender\"].map(gend_map)\n",
    "\n"
   ]
  },
  {
   "cell_type": "markdown",
   "id": "9b47f17b",
   "metadata": {},
   "source": [
    "## Remove donors from batch 1 and the filtered sample"
   ]
  },
  {
   "cell_type": "code",
   "execution_count": 10,
   "id": "0b35f83f",
   "metadata": {},
   "outputs": [],
   "source": [
    "donor_meta = donor_meta.loc[~(donor_meta.index.isin(donors_init+[donor_to_drop]))]"
   ]
  },
  {
   "cell_type": "code",
   "execution_count": 11,
   "id": "d9464f1c",
   "metadata": {},
   "outputs": [],
   "source": [
    "donor_meta = donor_meta.reset_index()"
   ]
  },
  {
   "cell_type": "markdown",
   "id": "15ccc739",
   "metadata": {},
   "source": [
    "## B. Sample n_sim times an ordering of donors and store into sim_d"
   ]
  },
  {
   "cell_type": "code",
   "execution_count": 12,
   "id": "35b36c5b",
   "metadata": {
    "scrolled": true
   },
   "outputs": [
    {
     "data": {
      "text/html": [
       "<div>\n",
       "<style scoped>\n",
       "    .dataframe tbody tr th:only-of-type {\n",
       "        vertical-align: middle;\n",
       "    }\n",
       "\n",
       "    .dataframe tbody tr th {\n",
       "        vertical-align: top;\n",
       "    }\n",
       "\n",
       "    .dataframe thead th {\n",
       "        text-align: right;\n",
       "    }\n",
       "</style>\n",
       "<table border=\"1\" class=\"dataframe\">\n",
       "  <thead>\n",
       "    <tr style=\"text-align: right;\">\n",
       "      <th></th>\n",
       "      <th>sim</th>\n",
       "      <th>donor</th>\n",
       "      <th>batch</th>\n",
       "    </tr>\n",
       "  </thead>\n",
       "  <tbody>\n",
       "    <tr>\n",
       "      <th>0</th>\n",
       "      <td>0</td>\n",
       "      <td>0</td>\n",
       "      <td>1</td>\n",
       "    </tr>\n",
       "    <tr>\n",
       "      <th>1</th>\n",
       "      <td>0</td>\n",
       "      <td>1</td>\n",
       "      <td>0</td>\n",
       "    </tr>\n",
       "    <tr>\n",
       "      <th>2</th>\n",
       "      <td>0</td>\n",
       "      <td>2</td>\n",
       "      <td>0</td>\n",
       "    </tr>\n",
       "    <tr>\n",
       "      <th>3</th>\n",
       "      <td>0</td>\n",
       "      <td>3</td>\n",
       "      <td>1</td>\n",
       "    </tr>\n",
       "    <tr>\n",
       "      <th>4</th>\n",
       "      <td>0</td>\n",
       "      <td>4</td>\n",
       "      <td>0</td>\n",
       "    </tr>\n",
       "    <tr>\n",
       "      <th>...</th>\n",
       "      <td>...</td>\n",
       "      <td>...</td>\n",
       "      <td>...</td>\n",
       "    </tr>\n",
       "    <tr>\n",
       "      <th>49995</th>\n",
       "      <td>9999</td>\n",
       "      <td>0</td>\n",
       "      <td>0</td>\n",
       "    </tr>\n",
       "    <tr>\n",
       "      <th>49996</th>\n",
       "      <td>9999</td>\n",
       "      <td>1</td>\n",
       "      <td>0</td>\n",
       "    </tr>\n",
       "    <tr>\n",
       "      <th>49997</th>\n",
       "      <td>9999</td>\n",
       "      <td>2</td>\n",
       "      <td>1</td>\n",
       "    </tr>\n",
       "    <tr>\n",
       "      <th>49998</th>\n",
       "      <td>9999</td>\n",
       "      <td>3</td>\n",
       "      <td>0</td>\n",
       "    </tr>\n",
       "    <tr>\n",
       "      <th>49999</th>\n",
       "      <td>9999</td>\n",
       "      <td>4</td>\n",
       "      <td>1</td>\n",
       "    </tr>\n",
       "  </tbody>\n",
       "</table>\n",
       "<p>50000 rows × 3 columns</p>\n",
       "</div>"
      ],
      "text/plain": [
       "        sim  donor batch\n",
       "0         0      0     1\n",
       "1         0      1     0\n",
       "2         0      2     0\n",
       "3         0      3     1\n",
       "4         0      4     0\n",
       "...     ...    ...   ...\n",
       "49995  9999      0     0\n",
       "49996  9999      1     0\n",
       "49997  9999      2     1\n",
       "49998  9999      3     0\n",
       "49999  9999      4     1\n",
       "\n",
       "[50000 rows x 3 columns]"
      ]
     },
     "execution_count": 12,
     "metadata": {},
     "output_type": "execute_result"
    }
   ],
   "source": [
    "def single_run(sample, batches):\n",
    "    \"\"\" Given a permutation sample & lists of batches and multiplex, will partition donors based on ordering.\n",
    "    \n",
    "    \"\"\"\n",
    "    #print('sample', sample)\n",
    "    sim = pd.DataFrame(index=np.arange(len(sample)), columns=[\"batch\"], )\n",
    "    sim.index.name = \"donor\"\n",
    "    for b_ind, b in enumerate(batches):\n",
    "        curr_b = sample[sum(batches[:b_ind]):sum(batches[:b_ind])+b]\n",
    "        #print(\"b_ind\", b_ind)\n",
    "        #print('curr_b', curr_b)\n",
    "        #print('m_batches', m_batches)\n",
    "        sim.loc[curr_b, \"batch\"] = b_ind\n",
    "    return sim\n",
    "\n",
    "def wrap(n_sim, batches, n_donors=5):\n",
    "    sim_d={}\n",
    "    for n in range(n_sim):\n",
    "        curr = np.random.permutation(n_donors)\n",
    "        sim_d[n] = single_run(curr, batches)\n",
    "    return pd.concat(sim_d).reset_index().rename({\"level_0\":\"sim\"}, axis=1)\n",
    "\n",
    "sim_d = wrap(n_sim, batches=batches)\n",
    "sim_d"
   ]
  },
  {
   "cell_type": "markdown",
   "id": "f38e0aca",
   "metadata": {},
   "source": [
    "## C. For each sampled plate layout, calculate the t-test and/or Chi-square p-value between the two different batches (higher value means samples are more evenly mixed)\n",
    "(If >2 plates, will need to do Anova instead)"
   ]
  },
  {
   "cell_type": "code",
   "execution_count": 13,
   "id": "671fa2ca",
   "metadata": {
    "scrolled": true
   },
   "outputs": [],
   "source": [
    "sim_ttest = pd.DataFrame(index=np.arange(n_sim),columns=donor_meta.drop(\"Donor_ID\",axis=1).columns)\n",
    "for s, df in sim_d.groupby(\"sim\"):\n",
    "    curr_sol = pd.concat((df.set_index(\"donor\"),donor_meta.reset_index()), axis=1)\n",
    "    for f in donor_meta.drop(\"Donor_ID\",axis=1).columns: #sim_ttest.append(ttest_ind(df[df[\"batch\"]==0], df[df[\"batch\"]==1]))\n",
    "        try:\n",
    "            sim_ttest.loc[s, f]=ttest_ind(curr_sol[curr_sol[\"batch\"]==0][f].fillna(0), curr_sol[curr_sol[\"batch\"]==1][f].fillna(0))[1]\n",
    "        except TypeError:\n",
    "            sim_ttest.loc[s, f]=chisquare(curr_sol[curr_sol[\"batch\"]==0][f], curr_sol[curr_sol[\"batch\"]==1][f])[1]"
   ]
  },
  {
   "cell_type": "markdown",
   "id": "cf302030",
   "metadata": {},
   "source": [
    "## D. Plot the distributions of the p-value results across each feature "
   ]
  },
  {
   "cell_type": "code",
   "execution_count": 14,
   "id": "8175baee",
   "metadata": {
    "scrolled": true
   },
   "outputs": [
    {
     "data": {
      "image/png": "[encoded data removed]",
      "text/plain": [
       "<Figure size 1080x1080 with 42 Axes>"
      ]
     },
     "metadata": {
      "needs_background": "light"
     },
     "output_type": "display_data"
    }
   ],
   "source": [
    "%matplotlib inline\n",
    "sns.pairplot(sim_ttest)\n",
    "plt.suptitle(\"Ttest (or chi-square) p-val distributions over 10000 samples\")\n",
    "plt.tight_layout()"
   ]
  },
  {
   "cell_type": "code",
   "execution_count": 15,
   "id": "f2c9b8ba",
   "metadata": {
    "scrolled": true
   },
   "outputs": [
    {
     "data": {
      "text/html": [
       "<div>\n",
       "<style scoped>\n",
       "    .dataframe tbody tr th:only-of-type {\n",
       "        vertical-align: middle;\n",
       "    }\n",
       "\n",
       "    .dataframe tbody tr th {\n",
       "        vertical-align: top;\n",
       "    }\n",
       "\n",
       "    .dataframe thead th {\n",
       "        text-align: right;\n",
       "    }\n",
       "</style>\n",
       "<table border=\"1\" class=\"dataframe\">\n",
       "  <thead>\n",
       "    <tr style=\"text-align: right;\">\n",
       "      <th></th>\n",
       "      <th>Sum_VAF</th>\n",
       "      <th>Smoking_Status</th>\n",
       "      <th>Cell_count__viability</th>\n",
       "      <th>Age</th>\n",
       "      <th>Gender</th>\n",
       "      <th>Race</th>\n",
       "    </tr>\n",
       "  </thead>\n",
       "  <tbody>\n",
       "    <tr>\n",
       "      <th>0</th>\n",
       "      <td>0.464063</td>\n",
       "      <td>0.495025</td>\n",
       "      <td>0.25178</td>\n",
       "      <td>0.631991</td>\n",
       "      <td>0.78878</td>\n",
       "      <td>0.724377</td>\n",
       "    </tr>\n",
       "    <tr>\n",
       "      <th>1</th>\n",
       "      <td>0.466406</td>\n",
       "      <td>0.272228</td>\n",
       "      <td>0.458706</td>\n",
       "      <td>0.458483</td>\n",
       "      <td>0.219102</td>\n",
       "      <td>0.590801</td>\n",
       "    </tr>\n",
       "    <tr>\n",
       "      <th>2</th>\n",
       "      <td>0.502832</td>\n",
       "      <td>0.272228</td>\n",
       "      <td>0.706897</td>\n",
       "      <td>0.261338</td>\n",
       "      <td>0.219102</td>\n",
       "      <td>0.724377</td>\n",
       "    </tr>\n",
       "    <tr>\n",
       "      <th>3</th>\n",
       "      <td>0.207761</td>\n",
       "      <td>0.272228</td>\n",
       "      <td>0.478158</td>\n",
       "      <td>0.099114</td>\n",
       "      <td>0.78878</td>\n",
       "      <td>0.132842</td>\n",
       "    </tr>\n",
       "    <tr>\n",
       "      <th>4</th>\n",
       "      <td>0.535275</td>\n",
       "      <td>0.272228</td>\n",
       "      <td>0.180375</td>\n",
       "      <td>0.458483</td>\n",
       "      <td>0.78878</td>\n",
       "      <td>0.590801</td>\n",
       "    </tr>\n",
       "    <tr>\n",
       "      <th>...</th>\n",
       "      <td>...</td>\n",
       "      <td>...</td>\n",
       "      <td>...</td>\n",
       "      <td>...</td>\n",
       "      <td>...</td>\n",
       "      <td>...</td>\n",
       "    </tr>\n",
       "    <tr>\n",
       "      <th>9995</th>\n",
       "      <td>0.464063</td>\n",
       "      <td>0.495025</td>\n",
       "      <td>0.25178</td>\n",
       "      <td>0.631991</td>\n",
       "      <td>0.78878</td>\n",
       "      <td>0.724377</td>\n",
       "    </tr>\n",
       "    <tr>\n",
       "      <th>9996</th>\n",
       "      <td>0.152895</td>\n",
       "      <td>0.495025</td>\n",
       "      <td>0.567052</td>\n",
       "      <td>0.225538</td>\n",
       "      <td>0.78878</td>\n",
       "      <td>0.0533627</td>\n",
       "    </tr>\n",
       "    <tr>\n",
       "      <th>9997</th>\n",
       "      <td>0.505215</td>\n",
       "      <td>0.495025</td>\n",
       "      <td>0.950154</td>\n",
       "      <td>0.860245</td>\n",
       "      <td>0.78878</td>\n",
       "      <td>0.132842</td>\n",
       "    </tr>\n",
       "    <tr>\n",
       "      <th>9998</th>\n",
       "      <td>0.535275</td>\n",
       "      <td>0.272228</td>\n",
       "      <td>0.180375</td>\n",
       "      <td>0.458483</td>\n",
       "      <td>0.78878</td>\n",
       "      <td>0.590801</td>\n",
       "    </tr>\n",
       "    <tr>\n",
       "      <th>9999</th>\n",
       "      <td>0.502832</td>\n",
       "      <td>0.272228</td>\n",
       "      <td>0.706897</td>\n",
       "      <td>0.261338</td>\n",
       "      <td>0.219102</td>\n",
       "      <td>0.724377</td>\n",
       "    </tr>\n",
       "  </tbody>\n",
       "</table>\n",
       "<p>10000 rows × 6 columns</p>\n",
       "</div>"
      ],
      "text/plain": [
       "       Sum_VAF Smoking_Status Cell_count__viability       Age    Gender  \\\n",
       "0     0.464063       0.495025               0.25178  0.631991   0.78878   \n",
       "1     0.466406       0.272228              0.458706  0.458483  0.219102   \n",
       "2     0.502832       0.272228              0.706897  0.261338  0.219102   \n",
       "3     0.207761       0.272228              0.478158  0.099114   0.78878   \n",
       "4     0.535275       0.272228              0.180375  0.458483   0.78878   \n",
       "...        ...            ...                   ...       ...       ...   \n",
       "9995  0.464063       0.495025               0.25178  0.631991   0.78878   \n",
       "9996  0.152895       0.495025              0.567052  0.225538   0.78878   \n",
       "9997  0.505215       0.495025              0.950154  0.860245   0.78878   \n",
       "9998  0.535275       0.272228              0.180375  0.458483   0.78878   \n",
       "9999  0.502832       0.272228              0.706897  0.261338  0.219102   \n",
       "\n",
       "           Race  \n",
       "0      0.724377  \n",
       "1      0.590801  \n",
       "2      0.724377  \n",
       "3      0.132842  \n",
       "4      0.590801  \n",
       "...         ...  \n",
       "9995   0.724377  \n",
       "9996  0.0533627  \n",
       "9997   0.132842  \n",
       "9998   0.590801  \n",
       "9999   0.724377  \n",
       "\n",
       "[10000 rows x 6 columns]"
      ]
     },
     "execution_count": 15,
     "metadata": {},
     "output_type": "execute_result"
    }
   ],
   "source": [
    "sim_ttest"
   ]
  },
  {
   "cell_type": "markdown",
   "id": "9b1ea8e6",
   "metadata": {},
   "source": [
    "# Aggregate scoring with weighting"
   ]
  },
  {
   "cell_type": "code",
   "execution_count": 16,
   "id": "4943fc1a",
   "metadata": {
    "scrolled": true
   },
   "outputs": [
    {
     "data": {
      "text/plain": [
       "0       3.544640\n",
       "1       2.844411\n",
       "2       3.166861\n",
       "3       2.572443\n",
       "4       3.050830\n",
       "          ...   \n",
       "9995    3.544640\n",
       "9996    3.083339\n",
       "9997    5.112270\n",
       "9998    3.050830\n",
       "9999    3.166861\n",
       "Length: 10000, dtype: float64"
      ]
     },
     "execution_count": 16,
     "metadata": {},
     "output_type": "execute_result"
    }
   ],
   "source": [
    "weights = {\"Sum_VAF\":2, \"Cell_count__viability\":1.8, \n",
    "           \"Smoking_Status\":1.5, \"Age\":1, \"Gender\":1}\n",
    "\n",
    "scores = sim_ttest.apply(lambda x: sum([x[w]*weights[w] if (not np.isnan(x[w])) else 0 for w in weights]), axis=1)\n",
    "\n",
    "scores\n",
    "# best_df"
   ]
  },
  {
   "cell_type": "code",
   "execution_count": 17,
   "id": "5eeb3cc1",
   "metadata": {},
   "outputs": [
    {
     "name": "stdout",
     "output_type": "stream",
     "text": [
      "6339\n"
     ]
    },
    {
     "data": {
      "text/plain": [
       "<Figure size 432x288 with 0 Axes>"
      ]
     },
     "metadata": {},
     "output_type": "display_data"
    },
    {
     "data": {
      "image/png": "[encoded data removed]",
      "text/plain": [
       "<Figure size 432x288 with 1 Axes>"
      ]
     },
     "metadata": {
      "needs_background": "light"
     },
     "output_type": "display_data"
    }
   ],
   "source": [
    "%matplotlib inline\n",
    "best_sim = scores.sort_values(ascending=False).index[0]\n",
    "print(best_sim)\n",
    "best_df = sim_d.loc[sim_d[\"sim\"]==best_sim]\n",
    "best_df\n",
    "\n",
    "# Best fit layout\n",
    "\n",
    "x = []\n",
    "txt = []\n",
    "f = plt.figure()\n",
    "for ind, val in best_df.groupby(\"batch\"):\n",
    "    x.append(ind)\n",
    "    txt.append(\"\\n\".join(donor_meta.loc[val[\"donor\"], \"Donor_ID\"].dropna().values))\n",
    "\n",
    "fig, ax = plt.subplots()\n",
    "ax.scatter(x,[1]*len(x))\n",
    "for i, t in enumerate(txt):\n",
    "    ax.annotate(t, (x[i],1))\n",
    "    \n",
    "plt.xlabel(\"Multiplex group\")\n",
    "\n",
    "plt.savefig(join(outdir, f\"{out_f}_best_experiment_layout.pdf\"), bbox_inches='tight')\n"
   ]
  },
  {
   "cell_type": "code",
   "execution_count": 18,
   "id": "69887daf",
   "metadata": {
    "scrolled": false
   },
   "outputs": [
    {
     "name": "stdout",
     "output_type": "stream",
     "text": [
      "Sum_VAF\n",
      "Smoking_Status\n",
      "Cell_count__viability\n",
      "Age\n",
      "Gender\n",
      "Race\n"
     ]
    },
    {
     "data": {
      "image/png": "[encoded data removed]",
      "text/plain": [
       "<Figure size 864x864 with 6 Axes>"
      ]
     },
     "metadata": {
      "needs_background": "light"
     },
     "output_type": "display_data"
    }
   ],
   "source": [
    "count=0\n",
    "#n_batch = len(best_df[\"batch\"].unique())\n",
    "f, ax = plt.subplots(nrows=len(donor_meta.columns)-1, figsize=(12,12))\n",
    "best_in = pd.concat((best_df.set_index(\"donor\"), donor_meta),axis=1)\n",
    "for feat in donor_meta.drop(\"Donor_ID\",axis=1).columns:\n",
    "    print(feat)\n",
    "    #for b in range(n_batch):        \n",
    "    sns.swarmplot(data=best_in, y=feat, x = \"batch\",\n",
    "                 ax=ax[count])\n",
    "    plt.suptitle(\"Featues for best fit. Column is different batch (day), sub-column is the multiplex groups\")\n",
    "    count+=1\n",
    "\n",
    "plt.savefig(join(outdir, f\"{out_f}_best_experiment_features.pdf\"))\n"
   ]
  },
  {
   "cell_type": "code",
   "execution_count": 19,
   "id": "0b7a547b",
   "metadata": {},
   "outputs": [
    {
     "data": {
      "text/plain": [
       "'./output'"
      ]
     },
     "execution_count": 19,
     "metadata": {},
     "output_type": "execute_result"
    }
   ],
   "source": [
    "outdir"
   ]
  },
  {
   "cell_type": "code",
   "execution_count": 20,
   "id": "e4f53287",
   "metadata": {},
   "outputs": [
    {
     "data": {
      "text/plain": [
       "'/data2/mito_lineage/notebooks/exp_design'"
      ]
     },
     "execution_count": 20,
     "metadata": {},
     "output_type": "execute_result"
    }
   ],
   "source": [
    "pwd"
   ]
  }
 ],
 "metadata": {
  "kernelspec": {
   "display_name": "Python 3",
   "language": "python",
   "name": "python3"
  },
  "language_info": {
   "codemirror_mode": {
    "name": "ipython",
    "version": 3
   },
   "file_extension": ".py",
   "mimetype": "text/x-python",
   "name": "python",
   "nbconvert_exporter": "python",
   "pygments_lexer": "ipython3",
   "version": "3.6.13"
  }
 },
 "nbformat": 4,
 "nbformat_minor": 5
}
