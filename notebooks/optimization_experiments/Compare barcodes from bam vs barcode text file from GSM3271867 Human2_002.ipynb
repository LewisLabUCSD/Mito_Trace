{
 "cells": [
  {
   "cell_type": "markdown",
   "metadata": {},
   "source": [
    "## An analysis that compares the difference between two ways to get the cell barcodes to use:\n",
    "1. Downloaded directly the barcodes from GEO GSE117131. (This showed that there were cell barcodes in human file that mapped to the mouse and other human samples were mapping to human2_002.)\n",
    "2. From the bam file, used a) cellranger bamtofastq and b)cellranger count to establish the barcodes\n",
    "3. Take every barcode from the bam file and and set a counts filter (not compared here)"
   ]
  },
  {
   "cell_type": "markdown",
   "metadata": {},
   "source": [
    "### Data files"
   ]
  },
  {
   "cell_type": "code",
   "execution_count": 1,
   "metadata": {
    "ExecuteTime": {
     "end_time": "2020-02-06T08:09:24.533732Z",
     "start_time": "2020-02-06T08:09:24.530956Z"
    }
   },
   "outputs": [],
   "source": [
    "geo_barcodes_f = \"/data2/mito_lineage/data/raw/GSM3271867/barcodes/Human2_002_Barcodes.txt\"\n",
    "cellranger_barcodes_f = \"/data2/isshamie/mito_lineage/data/processed/GSM3271867/Human2_002/outs/filtered_feature_bc_matrix/barcodes.tsv.gz\"\n"
   ]
  },
  {
   "cell_type": "code",
   "execution_count": 2,
   "metadata": {
    "ExecuteTime": {
     "end_time": "2020-02-06T08:09:24.544035Z",
     "start_time": "2020-02-06T08:09:24.535386Z"
    }
   },
   "outputs": [],
   "source": [
    "geo_all_human_f = \"/data2/mito_lineage/data/raw/GSM3271867/barcodes/GSE117131_Zhu_SC-10X_human_annotation.txt\"\n"
   ]
  },
  {
   "cell_type": "markdown",
   "metadata": {},
   "source": [
    "### Load packages"
   ]
  },
  {
   "cell_type": "code",
   "execution_count": 3,
   "metadata": {
    "ExecuteTime": {
     "end_time": "2020-02-06T08:09:25.236809Z",
     "start_time": "2020-02-06T08:09:24.546198Z"
    }
   },
   "outputs": [],
   "source": [
    "import pandas as pd\n",
    "import  matplotlib.pyplot as plt\n",
    "%matplotlib inline\n",
    "\n",
    "from matplotlib_venn import venn2"
   ]
  },
  {
   "cell_type": "code",
   "execution_count": 4,
   "metadata": {
    "ExecuteTime": {
     "end_time": "2020-02-06T08:09:25.262985Z",
     "start_time": "2020-02-06T08:09:25.238837Z"
    },
    "scrolled": true
   },
   "outputs": [
    {
     "data": {
      "text/html": [
       "<div>\n",
       "<style scoped>\n",
       "    .dataframe tbody tr th:only-of-type {\n",
       "        vertical-align: middle;\n",
       "    }\n",
       "\n",
       "    .dataframe tbody tr th {\n",
       "        vertical-align: top;\n",
       "    }\n",
       "\n",
       "    .dataframe thead th {\n",
       "        text-align: right;\n",
       "    }\n",
       "</style>\n",
       "<table border=\"1\" class=\"dataframe\">\n",
       "  <thead>\n",
       "    <tr style=\"text-align: right;\">\n",
       "      <th></th>\n",
       "      <th>0</th>\n",
       "    </tr>\n",
       "  </thead>\n",
       "  <tbody>\n",
       "    <tr>\n",
       "      <th>0</th>\n",
       "      <td>AAACCTGAGCACGCCT-1</td>\n",
       "    </tr>\n",
       "    <tr>\n",
       "      <th>1</th>\n",
       "      <td>AAACCTGGTGTTCGAT-1</td>\n",
       "    </tr>\n",
       "    <tr>\n",
       "      <th>2</th>\n",
       "      <td>AAACCTGTCCACGACG-1</td>\n",
       "    </tr>\n",
       "    <tr>\n",
       "      <th>3</th>\n",
       "      <td>AAACCTGTCCCGGATG-1</td>\n",
       "    </tr>\n",
       "    <tr>\n",
       "      <th>4</th>\n",
       "      <td>AAACGGGAGAGGACGG-1</td>\n",
       "    </tr>\n",
       "    <tr>\n",
       "      <th>...</th>\n",
       "      <td>...</td>\n",
       "    </tr>\n",
       "    <tr>\n",
       "      <th>1387</th>\n",
       "      <td>TTTGGTTTCCTCTAGC-1</td>\n",
       "    </tr>\n",
       "    <tr>\n",
       "      <th>1388</th>\n",
       "      <td>TTTGGTTTCGGCGCAT-1</td>\n",
       "    </tr>\n",
       "    <tr>\n",
       "      <th>1389</th>\n",
       "      <td>TTTGTCAAGCTTCGCG-1</td>\n",
       "    </tr>\n",
       "    <tr>\n",
       "      <th>1390</th>\n",
       "      <td>TTTGTCAGTAGGCATG-1</td>\n",
       "    </tr>\n",
       "    <tr>\n",
       "      <th>1391</th>\n",
       "      <td>TTTGTCAGTCCGAACC-1</td>\n",
       "    </tr>\n",
       "  </tbody>\n",
       "</table>\n",
       "<p>1392 rows × 1 columns</p>\n",
       "</div>"
      ],
      "text/plain": [
       "                       0\n",
       "0     AAACCTGAGCACGCCT-1\n",
       "1     AAACCTGGTGTTCGAT-1\n",
       "2     AAACCTGTCCACGACG-1\n",
       "3     AAACCTGTCCCGGATG-1\n",
       "4     AAACGGGAGAGGACGG-1\n",
       "...                  ...\n",
       "1387  TTTGGTTTCCTCTAGC-1\n",
       "1388  TTTGGTTTCGGCGCAT-1\n",
       "1389  TTTGTCAAGCTTCGCG-1\n",
       "1390  TTTGTCAGTAGGCATG-1\n",
       "1391  TTTGTCAGTCCGAACC-1\n",
       "\n",
       "[1392 rows x 1 columns]"
      ]
     },
     "execution_count": 4,
     "metadata": {},
     "output_type": "execute_result"
    }
   ],
   "source": [
    "cellranger_barcodes = pd.read_csv(cellranger_barcodes_f, sep=\"\\t\", header=None)\n",
    "cellranger_barcodes"
   ]
  },
  {
   "cell_type": "code",
   "execution_count": 5,
   "metadata": {
    "ExecuteTime": {
     "end_time": "2020-02-06T08:09:25.281734Z",
     "start_time": "2020-02-06T08:09:25.264672Z"
    }
   },
   "outputs": [
    {
     "data": {
      "text/html": [
       "<div>\n",
       "<style scoped>\n",
       "    .dataframe tbody tr th:only-of-type {\n",
       "        vertical-align: middle;\n",
       "    }\n",
       "\n",
       "    .dataframe tbody tr th {\n",
       "        vertical-align: top;\n",
       "    }\n",
       "\n",
       "    .dataframe thead th {\n",
       "        text-align: right;\n",
       "    }\n",
       "</style>\n",
       "<table border=\"1\" class=\"dataframe\">\n",
       "  <thead>\n",
       "    <tr style=\"text-align: right;\">\n",
       "      <th></th>\n",
       "      <th>0</th>\n",
       "    </tr>\n",
       "  </thead>\n",
       "  <tbody>\n",
       "    <tr>\n",
       "      <th>0</th>\n",
       "      <td>AAACCTGGTGTTCGAT</td>\n",
       "    </tr>\n",
       "    <tr>\n",
       "      <th>1</th>\n",
       "      <td>AAACCTGTCCCGGATG</td>\n",
       "    </tr>\n",
       "    <tr>\n",
       "      <th>2</th>\n",
       "      <td>AAACGGGCACGGTAAG</td>\n",
       "    </tr>\n",
       "    <tr>\n",
       "      <th>3</th>\n",
       "      <td>AAACGGGCAGTGACAG</td>\n",
       "    </tr>\n",
       "    <tr>\n",
       "      <th>4</th>\n",
       "      <td>AAACGGGGTCTCCACT</td>\n",
       "    </tr>\n",
       "    <tr>\n",
       "      <th>...</th>\n",
       "      <td>...</td>\n",
       "    </tr>\n",
       "    <tr>\n",
       "      <th>665</th>\n",
       "      <td>TTTGGTTCATACAGCT</td>\n",
       "    </tr>\n",
       "    <tr>\n",
       "      <th>666</th>\n",
       "      <td>TTTGGTTTCCTCTAGC</td>\n",
       "    </tr>\n",
       "    <tr>\n",
       "      <th>667</th>\n",
       "      <td>TTTGTCAAGCTTCGCG</td>\n",
       "    </tr>\n",
       "    <tr>\n",
       "      <th>668</th>\n",
       "      <td>TTTGTCAGTAGGCATG</td>\n",
       "    </tr>\n",
       "    <tr>\n",
       "      <th>669</th>\n",
       "      <td>TTTGTCAGTCCGAACC</td>\n",
       "    </tr>\n",
       "  </tbody>\n",
       "</table>\n",
       "<p>670 rows × 1 columns</p>\n",
       "</div>"
      ],
      "text/plain": [
       "                    0\n",
       "0    AAACCTGGTGTTCGAT\n",
       "1    AAACCTGTCCCGGATG\n",
       "2    AAACGGGCACGGTAAG\n",
       "3    AAACGGGCAGTGACAG\n",
       "4    AAACGGGGTCTCCACT\n",
       "..                ...\n",
       "665  TTTGGTTCATACAGCT\n",
       "666  TTTGGTTTCCTCTAGC\n",
       "667  TTTGTCAAGCTTCGCG\n",
       "668  TTTGTCAGTAGGCATG\n",
       "669  TTTGTCAGTCCGAACC\n",
       "\n",
       "[670 rows x 1 columns]"
      ]
     },
     "execution_count": 5,
     "metadata": {},
     "output_type": "execute_result"
    }
   ],
   "source": [
    "geo_barcodes = pd.read_csv(geo_barcodes_f,sep=\"\\t\", header=None)\n",
    "geo_barcodes"
   ]
  },
  {
   "cell_type": "code",
   "execution_count": 6,
   "metadata": {
    "ExecuteTime": {
     "end_time": "2020-02-06T08:09:25.300568Z",
     "start_time": "2020-02-06T08:09:25.283628Z"
    },
    "scrolled": true
   },
   "outputs": [
    {
     "data": {
      "text/html": [
       "<div>\n",
       "<style scoped>\n",
       "    .dataframe tbody tr th:only-of-type {\n",
       "        vertical-align: middle;\n",
       "    }\n",
       "\n",
       "    .dataframe tbody tr th {\n",
       "        vertical-align: top;\n",
       "    }\n",
       "\n",
       "    .dataframe thead th {\n",
       "        text-align: right;\n",
       "    }\n",
       "</style>\n",
       "<table border=\"1\" class=\"dataframe\">\n",
       "  <thead>\n",
       "    <tr style=\"text-align: right;\">\n",
       "      <th></th>\n",
       "      <th>Unnamed: 0</th>\n",
       "      <th>Barcode</th>\n",
       "      <th>Sample.Name</th>\n",
       "    </tr>\n",
       "  </thead>\n",
       "  <tbody>\n",
       "    <tr>\n",
       "      <th>0</th>\n",
       "      <td>1</td>\n",
       "      <td>AAAGATGAGGGTATCG.1</td>\n",
       "      <td>Human1_001</td>\n",
       "    </tr>\n",
       "    <tr>\n",
       "      <th>1</th>\n",
       "      <td>2</td>\n",
       "      <td>AAATGCCAGTACATGA.1</td>\n",
       "      <td>Human1_001</td>\n",
       "    </tr>\n",
       "    <tr>\n",
       "      <th>2</th>\n",
       "      <td>3</td>\n",
       "      <td>AACCATGCATCACGAT.1</td>\n",
       "      <td>Human1_001</td>\n",
       "    </tr>\n",
       "    <tr>\n",
       "      <th>3</th>\n",
       "      <td>4</td>\n",
       "      <td>AACGTTGTCTATGTGG.1</td>\n",
       "      <td>Human1_001</td>\n",
       "    </tr>\n",
       "    <tr>\n",
       "      <th>4</th>\n",
       "      <td>5</td>\n",
       "      <td>AACTCCCGTCTCTCGT.1</td>\n",
       "      <td>Human1_001</td>\n",
       "    </tr>\n",
       "    <tr>\n",
       "      <th>...</th>\n",
       "      <td>...</td>\n",
       "      <td>...</td>\n",
       "      <td>...</td>\n",
       "    </tr>\n",
       "    <tr>\n",
       "      <th>2070</th>\n",
       "      <td>2071</td>\n",
       "      <td>TTTGGTTCATACAGCT.4</td>\n",
       "      <td>Human2_002</td>\n",
       "    </tr>\n",
       "    <tr>\n",
       "      <th>2071</th>\n",
       "      <td>2072</td>\n",
       "      <td>TTTGGTTTCCTCTAGC.4</td>\n",
       "      <td>Human2_002</td>\n",
       "    </tr>\n",
       "    <tr>\n",
       "      <th>2072</th>\n",
       "      <td>2073</td>\n",
       "      <td>TTTGTCAAGCTTCGCG.4</td>\n",
       "      <td>Human2_002</td>\n",
       "    </tr>\n",
       "    <tr>\n",
       "      <th>2073</th>\n",
       "      <td>2074</td>\n",
       "      <td>TTTGTCAGTAGGCATG.4</td>\n",
       "      <td>Human2_002</td>\n",
       "    </tr>\n",
       "    <tr>\n",
       "      <th>2074</th>\n",
       "      <td>2075</td>\n",
       "      <td>TTTGTCAGTCCGAACC.4</td>\n",
       "      <td>Human2_002</td>\n",
       "    </tr>\n",
       "  </tbody>\n",
       "</table>\n",
       "<p>2075 rows × 3 columns</p>\n",
       "</div>"
      ],
      "text/plain": [
       "      Unnamed: 0             Barcode Sample.Name\n",
       "0              1  AAAGATGAGGGTATCG.1  Human1_001\n",
       "1              2  AAATGCCAGTACATGA.1  Human1_001\n",
       "2              3  AACCATGCATCACGAT.1  Human1_001\n",
       "3              4  AACGTTGTCTATGTGG.1  Human1_001\n",
       "4              5  AACTCCCGTCTCTCGT.1  Human1_001\n",
       "...          ...                 ...         ...\n",
       "2070        2071  TTTGGTTCATACAGCT.4  Human2_002\n",
       "2071        2072  TTTGGTTTCCTCTAGC.4  Human2_002\n",
       "2072        2073  TTTGTCAAGCTTCGCG.4  Human2_002\n",
       "2073        2074  TTTGTCAGTAGGCATG.4  Human2_002\n",
       "2074        2075  TTTGTCAGTCCGAACC.4  Human2_002\n",
       "\n",
       "[2075 rows x 3 columns]"
      ]
     },
     "execution_count": 6,
     "metadata": {},
     "output_type": "execute_result"
    }
   ],
   "source": [
    "geo_all_human = pd.read_csv(geo_all_human_f, sep=\"\\t\")\n",
    "geo_all_human"
   ]
  },
  {
   "cell_type": "code",
   "execution_count": 7,
   "metadata": {
    "ExecuteTime": {
     "end_time": "2020-02-06T08:09:25.319414Z",
     "start_time": "2020-02-06T08:09:25.303126Z"
    }
   },
   "outputs": [
    {
     "data": {
      "text/html": [
       "<div>\n",
       "<style scoped>\n",
       "    .dataframe tbody tr th:only-of-type {\n",
       "        vertical-align: middle;\n",
       "    }\n",
       "\n",
       "    .dataframe tbody tr th {\n",
       "        vertical-align: top;\n",
       "    }\n",
       "\n",
       "    .dataframe thead th {\n",
       "        text-align: right;\n",
       "    }\n",
       "</style>\n",
       "<table border=\"1\" class=\"dataframe\">\n",
       "  <thead>\n",
       "    <tr style=\"text-align: right;\">\n",
       "      <th></th>\n",
       "      <th>Unnamed: 0</th>\n",
       "      <th>Barcode</th>\n",
       "      <th>Sample.Name</th>\n",
       "      <th>Barcodes</th>\n",
       "    </tr>\n",
       "  </thead>\n",
       "  <tbody>\n",
       "    <tr>\n",
       "      <th>0</th>\n",
       "      <td>1</td>\n",
       "      <td>AAAGATGAGGGTATCG.1</td>\n",
       "      <td>Human1_001</td>\n",
       "      <td>AAAGATGAGGGTATCG</td>\n",
       "    </tr>\n",
       "    <tr>\n",
       "      <th>1</th>\n",
       "      <td>2</td>\n",
       "      <td>AAATGCCAGTACATGA.1</td>\n",
       "      <td>Human1_001</td>\n",
       "      <td>AAATGCCAGTACATGA</td>\n",
       "    </tr>\n",
       "    <tr>\n",
       "      <th>2</th>\n",
       "      <td>3</td>\n",
       "      <td>AACCATGCATCACGAT.1</td>\n",
       "      <td>Human1_001</td>\n",
       "      <td>AACCATGCATCACGAT</td>\n",
       "    </tr>\n",
       "    <tr>\n",
       "      <th>3</th>\n",
       "      <td>4</td>\n",
       "      <td>AACGTTGTCTATGTGG.1</td>\n",
       "      <td>Human1_001</td>\n",
       "      <td>AACGTTGTCTATGTGG</td>\n",
       "    </tr>\n",
       "    <tr>\n",
       "      <th>4</th>\n",
       "      <td>5</td>\n",
       "      <td>AACTCCCGTCTCTCGT.1</td>\n",
       "      <td>Human1_001</td>\n",
       "      <td>AACTCCCGTCTCTCGT</td>\n",
       "    </tr>\n",
       "    <tr>\n",
       "      <th>...</th>\n",
       "      <td>...</td>\n",
       "      <td>...</td>\n",
       "      <td>...</td>\n",
       "      <td>...</td>\n",
       "    </tr>\n",
       "    <tr>\n",
       "      <th>2070</th>\n",
       "      <td>2071</td>\n",
       "      <td>TTTGGTTCATACAGCT.4</td>\n",
       "      <td>Human2_002</td>\n",
       "      <td>TTTGGTTCATACAGCT</td>\n",
       "    </tr>\n",
       "    <tr>\n",
       "      <th>2071</th>\n",
       "      <td>2072</td>\n",
       "      <td>TTTGGTTTCCTCTAGC.4</td>\n",
       "      <td>Human2_002</td>\n",
       "      <td>TTTGGTTTCCTCTAGC</td>\n",
       "    </tr>\n",
       "    <tr>\n",
       "      <th>2072</th>\n",
       "      <td>2073</td>\n",
       "      <td>TTTGTCAAGCTTCGCG.4</td>\n",
       "      <td>Human2_002</td>\n",
       "      <td>TTTGTCAAGCTTCGCG</td>\n",
       "    </tr>\n",
       "    <tr>\n",
       "      <th>2073</th>\n",
       "      <td>2074</td>\n",
       "      <td>TTTGTCAGTAGGCATG.4</td>\n",
       "      <td>Human2_002</td>\n",
       "      <td>TTTGTCAGTAGGCATG</td>\n",
       "    </tr>\n",
       "    <tr>\n",
       "      <th>2074</th>\n",
       "      <td>2075</td>\n",
       "      <td>TTTGTCAGTCCGAACC.4</td>\n",
       "      <td>Human2_002</td>\n",
       "      <td>TTTGTCAGTCCGAACC</td>\n",
       "    </tr>\n",
       "  </tbody>\n",
       "</table>\n",
       "<p>2075 rows × 4 columns</p>\n",
       "</div>"
      ],
      "text/plain": [
       "      Unnamed: 0             Barcode Sample.Name          Barcodes\n",
       "0              1  AAAGATGAGGGTATCG.1  Human1_001  AAAGATGAGGGTATCG\n",
       "1              2  AAATGCCAGTACATGA.1  Human1_001  AAATGCCAGTACATGA\n",
       "2              3  AACCATGCATCACGAT.1  Human1_001  AACCATGCATCACGAT\n",
       "3              4  AACGTTGTCTATGTGG.1  Human1_001  AACGTTGTCTATGTGG\n",
       "4              5  AACTCCCGTCTCTCGT.1  Human1_001  AACTCCCGTCTCTCGT\n",
       "...          ...                 ...         ...               ...\n",
       "2070        2071  TTTGGTTCATACAGCT.4  Human2_002  TTTGGTTCATACAGCT\n",
       "2071        2072  TTTGGTTTCCTCTAGC.4  Human2_002  TTTGGTTTCCTCTAGC\n",
       "2072        2073  TTTGTCAAGCTTCGCG.4  Human2_002  TTTGTCAAGCTTCGCG\n",
       "2073        2074  TTTGTCAGTAGGCATG.4  Human2_002  TTTGTCAGTAGGCATG\n",
       "2074        2075  TTTGTCAGTCCGAACC.4  Human2_002  TTTGTCAGTCCGAACC\n",
       "\n",
       "[2075 rows x 4 columns]"
      ]
     },
     "execution_count": 7,
     "metadata": {},
     "output_type": "execute_result"
    }
   ],
   "source": [
    "geo_all_human[\"Barcodes\"] = geo_all_human[\"Barcode\"].apply(lambda x:x.split(\".\")[0]).values.astype(str)\n",
    "geo_all_human"
   ]
  },
  {
   "cell_type": "code",
   "execution_count": 8,
   "metadata": {
    "ExecuteTime": {
     "end_time": "2020-02-06T08:09:25.328510Z",
     "start_time": "2020-02-06T08:09:25.321360Z"
    }
   },
   "outputs": [],
   "source": [
    "for i in cellranger_barcodes[0]:\n",
    "    if i.split(\"-\")[-1] != \"1\":\n",
    "        print(i)\n"
   ]
  },
  {
   "cell_type": "code",
   "execution_count": null,
   "metadata": {},
   "outputs": [],
   "source": []
  },
  {
   "cell_type": "code",
   "execution_count": 9,
   "metadata": {
    "ExecuteTime": {
     "end_time": "2020-02-06T08:09:25.339642Z",
     "start_time": "2020-02-06T08:09:25.330251Z"
    }
   },
   "outputs": [],
   "source": [
    "cellranger_barcodes = cellranger_barcodes[0].apply(lambda x:x.split(\"-\")[0]).values.astype(str)"
   ]
  },
  {
   "cell_type": "code",
   "execution_count": 10,
   "metadata": {
    "ExecuteTime": {
     "end_time": "2020-02-06T08:09:25.349383Z",
     "start_time": "2020-02-06T08:09:25.341970Z"
    }
   },
   "outputs": [],
   "source": [
    "geo_barcodes = geo_barcodes[0].values"
   ]
  },
  {
   "cell_type": "code",
   "execution_count": 11,
   "metadata": {
    "ExecuteTime": {
     "end_time": "2020-02-06T08:09:25.449825Z",
     "start_time": "2020-02-06T08:09:25.351252Z"
    },
    "scrolled": true
   },
   "outputs": [
    {
     "data": {
      "image/png": "[encoded data removed]",
      "text/plain": [
       "<Figure size 432x288 with 1 Axes>"
      ]
     },
     "metadata": {},
     "output_type": "display_data"
    }
   ],
   "source": [
    "v = venn2(subsets=[set(cellranger_barcodes),set(geo_barcodes)], \n",
    "          set_labels = ('cellranger_barcodes', 'geo_barcodes'))"
   ]
  },
  {
   "cell_type": "code",
   "execution_count": 12,
   "metadata": {
    "ExecuteTime": {
     "end_time": "2020-02-06T08:09:25.581194Z",
     "start_time": "2020-02-06T08:09:25.451670Z"
    },
    "scrolled": true
   },
   "outputs": [
    {
     "data": {
      "image/png": "[encoded data removed]",
      "text/plain": [
       "<Figure size 432x288 with 1 Axes>"
      ]
     },
     "metadata": {},
     "output_type": "display_data"
    }
   ],
   "source": [
    "v = venn2(subsets=[set(cellranger_barcodes),set(geo_all_human[\"Barcodes\"])], \n",
    "          set_labels = ('cellranger_barcodes', 'geo all human barcodes'))"
   ]
  },
  {
   "cell_type": "code",
   "execution_count": 13,
   "metadata": {
    "ExecuteTime": {
     "end_time": "2020-02-06T08:09:25.647933Z",
     "start_time": "2020-02-06T08:09:25.582990Z"
    },
    "scrolled": true
   },
   "outputs": [
    {
     "data": {
      "image/png": "[encoded data removed]",
      "text/plain": [
       "<Figure size 432x288 with 1 Axes>"
      ]
     },
     "metadata": {},
     "output_type": "display_data"
    }
   ],
   "source": [
    "v = venn2(subsets=[set(geo_barcodes),set(geo_all_human[\"Barcodes\"])], \n",
    "          set_labels = ('geo_barcodes', 'geo all human barcodes'))"
   ]
  }
 ],
 "metadata": {
  "kernelspec": {
   "display_name": "Python 3",
   "language": "python",
   "name": "python3"
  },
  "language_info": {
   "codemirror_mode": {
    "name": "ipython",
    "version": 3
   },
   "file_extension": ".py",
   "mimetype": "text/x-python",
   "name": "python",
   "nbconvert_exporter": "python",
   "pygments_lexer": "ipython3",
   "version": "3.7.3"
  }
 },
 "nbformat": 4,
 "nbformat_minor": 2
}
