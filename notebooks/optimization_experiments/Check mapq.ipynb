{
 "cells": [
  {
   "cell_type": "markdown",
   "metadata": {},
   "source": [
    "## Getting bamCoverage on the trimmed cellranger count bam files"
   ]
  },
  {
   "cell_type": "markdown",
   "metadata": {},
   "source": [
    "## Run STAR with the same parameters cellranger used\n",
    "STAR_2.5.1b was used\n",
    "### Concatenate fastq"
   ]
  },
  {
   "cell_type": "code",
   "execution_count": 9,
   "metadata": {
    "ExecuteTime": {
     "end_time": "2020-05-18T20:22:01.939137Z",
     "start_time": "2020-05-18T20:22:01.935631Z"
    }
   },
   "outputs": [],
   "source": [
    "import os\n",
    "from os.path import join, basename, dirname\n",
    "import pandas as pd\n",
    "import glob"
   ]
  },
  {
   "cell_type": "code",
   "execution_count": 11,
   "metadata": {
    "ExecuteTime": {
     "end_time": "2020-05-18T20:22:07.217585Z",
     "start_time": "2020-05-18T20:22:07.209856Z"
    },
    "scrolled": true
   },
   "outputs": [
    {
     "data": {
      "text/plain": [
       "['../BWA-Primers-MT/Primers add non-poly(dT) tag.ipynb',\n",
       " '../BWA-Primers-MT/final_primers.csv.bed',\n",
       " '../BWA-Primers-MT/__pycache__',\n",
       " '../BWA-Primers-MT/96-Primers.ipynb',\n",
       " '../BWA-Primers-MT/alignment.py',\n",
       " '../BWA-Primers-MT/96-Primers.fasta',\n",
       " '../BWA-Primers-MT/final_primers_withAllOld.csv',\n",
       " '../BWA-Primers-MT/final_primers.xls.sb-a9edeefd-efbB6m',\n",
       " '../BWA-Primers-MT/96-Primers-Alignment.xlsx',\n",
       " '../BWA-Primers-MT/Convert primers to bed .ipynb',\n",
       " '../BWA-Primers-MT/gene length.ipynb',\n",
       " '../BWA-Primers-MT/final_primers_withAllOld_with_tag.csv',\n",
       " '../BWA-Primers-MT/final_primers_withAllOld.csv.bed',\n",
       " '../BWA-Primers-MT/images',\n",
       " '../BWA-Primers-MT/96-Primers.xlsx',\n",
       " '../BWA-Primers-MT/MT_genome',\n",
       " '../BWA-Primers-MT/Gene lengths',\n",
       " '../BWA-Primers-MT/Gene_lengths.csv',\n",
       " '../BWA-Primers-MT/96-Primers Isaac.ipynb',\n",
       " '../BWA-Primers-MT/final_primers.csv',\n",
       " '../BWA-Primers-MT/final_primers_with_tag.csv',\n",
       " '../BWA-Primers-MT/final_primers.xls.sb-a9edeefd-IPcWRf']"
      ]
     },
     "execution_count": 11,
     "metadata": {},
     "output_type": "execute_result"
    }
   ],
   "source": [
    "primer_dir = \"../BWA-Primers-MT/\"\n",
    "glob.glob(primer_dir+\"/*\")"
   ]
  },
  {
   "cell_type": "code",
   "execution_count": 14,
   "metadata": {
    "ExecuteTime": {
     "end_time": "2020-05-18T20:32:14.156706Z",
     "start_time": "2020-05-18T20:32:14.098886Z"
    },
    "scrolled": true
   },
   "outputs": [
    {
     "data": {
      "text/html": [
       "<div>\n",
       "<style scoped>\n",
       "    .dataframe tbody tr th:only-of-type {\n",
       "        vertical-align: middle;\n",
       "    }\n",
       "\n",
       "    .dataframe tbody tr th {\n",
       "        vertical-align: top;\n",
       "    }\n",
       "\n",
       "    .dataframe thead th {\n",
       "        text-align: right;\n",
       "    }\n",
       "</style>\n",
       "<table border=\"1\" class=\"dataframe\">\n",
       "  <thead>\n",
       "    <tr style=\"text-align: right;\">\n",
       "      <th></th>\n",
       "      <th>Id</th>\n",
       "      <th>Type</th>\n",
       "      <th>Start</th>\n",
       "      <th>End</th>\n",
       "      <th>Strand</th>\n",
       "      <th>Location</th>\n",
       "      <th>Length</th>\n",
       "    </tr>\n",
       "  </thead>\n",
       "  <tbody>\n",
       "    <tr>\n",
       "      <th>0</th>\n",
       "      <td>gene60922</td>\n",
       "      <td>gene</td>\n",
       "      <td>577</td>\n",
       "      <td>647</td>\n",
       "      <td>+</td>\n",
       "      <td>NC_012920.1</td>\n",
       "      <td>71</td>\n",
       "    </tr>\n",
       "    <tr>\n",
       "      <th>1</th>\n",
       "      <td>gene60923</td>\n",
       "      <td>gene</td>\n",
       "      <td>648</td>\n",
       "      <td>1601</td>\n",
       "      <td>+</td>\n",
       "      <td>NC_012920.1</td>\n",
       "      <td>954</td>\n",
       "    </tr>\n",
       "    <tr>\n",
       "      <th>2</th>\n",
       "      <td>gene60924</td>\n",
       "      <td>gene</td>\n",
       "      <td>1602</td>\n",
       "      <td>1670</td>\n",
       "      <td>+</td>\n",
       "      <td>NC_012920.1</td>\n",
       "      <td>69</td>\n",
       "    </tr>\n",
       "    <tr>\n",
       "      <th>3</th>\n",
       "      <td>gene60925</td>\n",
       "      <td>gene</td>\n",
       "      <td>1671</td>\n",
       "      <td>3229</td>\n",
       "      <td>+</td>\n",
       "      <td>NC_012920.1</td>\n",
       "      <td>1559</td>\n",
       "    </tr>\n",
       "    <tr>\n",
       "      <th>4</th>\n",
       "      <td>gene60926</td>\n",
       "      <td>gene</td>\n",
       "      <td>3230</td>\n",
       "      <td>3304</td>\n",
       "      <td>+</td>\n",
       "      <td>NC_012920.1</td>\n",
       "      <td>75</td>\n",
       "    </tr>\n",
       "    <tr>\n",
       "      <th>5</th>\n",
       "      <td>gene60927</td>\n",
       "      <td>gene</td>\n",
       "      <td>3307</td>\n",
       "      <td>4262</td>\n",
       "      <td>+</td>\n",
       "      <td>NC_012920.1</td>\n",
       "      <td>956</td>\n",
       "    </tr>\n",
       "    <tr>\n",
       "      <th>6</th>\n",
       "      <td>gene60928</td>\n",
       "      <td>gene</td>\n",
       "      <td>4263</td>\n",
       "      <td>4331</td>\n",
       "      <td>+</td>\n",
       "      <td>NC_012920.1</td>\n",
       "      <td>69</td>\n",
       "    </tr>\n",
       "    <tr>\n",
       "      <th>7</th>\n",
       "      <td>gene60929</td>\n",
       "      <td>gene</td>\n",
       "      <td>4329</td>\n",
       "      <td>4400</td>\n",
       "      <td>-</td>\n",
       "      <td>NC_012920.1</td>\n",
       "      <td>72</td>\n",
       "    </tr>\n",
       "    <tr>\n",
       "      <th>8</th>\n",
       "      <td>gene60930</td>\n",
       "      <td>gene</td>\n",
       "      <td>4402</td>\n",
       "      <td>4469</td>\n",
       "      <td>+</td>\n",
       "      <td>NC_012920.1</td>\n",
       "      <td>68</td>\n",
       "    </tr>\n",
       "    <tr>\n",
       "      <th>9</th>\n",
       "      <td>gene60931</td>\n",
       "      <td>gene</td>\n",
       "      <td>4470</td>\n",
       "      <td>5511</td>\n",
       "      <td>+</td>\n",
       "      <td>NC_012920.1</td>\n",
       "      <td>1042</td>\n",
       "    </tr>\n",
       "    <tr>\n",
       "      <th>10</th>\n",
       "      <td>gene60932</td>\n",
       "      <td>gene</td>\n",
       "      <td>5512</td>\n",
       "      <td>5579</td>\n",
       "      <td>+</td>\n",
       "      <td>NC_012920.1</td>\n",
       "      <td>68</td>\n",
       "    </tr>\n",
       "    <tr>\n",
       "      <th>11</th>\n",
       "      <td>gene60933</td>\n",
       "      <td>gene</td>\n",
       "      <td>5587</td>\n",
       "      <td>5655</td>\n",
       "      <td>-</td>\n",
       "      <td>NC_012920.1</td>\n",
       "      <td>69</td>\n",
       "    </tr>\n",
       "    <tr>\n",
       "      <th>12</th>\n",
       "      <td>gene60934</td>\n",
       "      <td>gene</td>\n",
       "      <td>5657</td>\n",
       "      <td>5729</td>\n",
       "      <td>-</td>\n",
       "      <td>NC_012920.1</td>\n",
       "      <td>73</td>\n",
       "    </tr>\n",
       "    <tr>\n",
       "      <th>13</th>\n",
       "      <td>gene60935</td>\n",
       "      <td>gene</td>\n",
       "      <td>5761</td>\n",
       "      <td>5826</td>\n",
       "      <td>-</td>\n",
       "      <td>NC_012920.1</td>\n",
       "      <td>66</td>\n",
       "    </tr>\n",
       "    <tr>\n",
       "      <th>14</th>\n",
       "      <td>gene60936</td>\n",
       "      <td>gene</td>\n",
       "      <td>5826</td>\n",
       "      <td>5891</td>\n",
       "      <td>-</td>\n",
       "      <td>NC_012920.1</td>\n",
       "      <td>66</td>\n",
       "    </tr>\n",
       "    <tr>\n",
       "      <th>15</th>\n",
       "      <td>gene60937</td>\n",
       "      <td>gene</td>\n",
       "      <td>5904</td>\n",
       "      <td>7445</td>\n",
       "      <td>+</td>\n",
       "      <td>NC_012920.1</td>\n",
       "      <td>1542</td>\n",
       "    </tr>\n",
       "    <tr>\n",
       "      <th>16</th>\n",
       "      <td>gene60938</td>\n",
       "      <td>gene</td>\n",
       "      <td>7446</td>\n",
       "      <td>7514</td>\n",
       "      <td>-</td>\n",
       "      <td>NC_012920.1</td>\n",
       "      <td>69</td>\n",
       "    </tr>\n",
       "    <tr>\n",
       "      <th>17</th>\n",
       "      <td>gene60939</td>\n",
       "      <td>gene</td>\n",
       "      <td>7518</td>\n",
       "      <td>7585</td>\n",
       "      <td>+</td>\n",
       "      <td>NC_012920.1</td>\n",
       "      <td>68</td>\n",
       "    </tr>\n",
       "    <tr>\n",
       "      <th>18</th>\n",
       "      <td>gene60940</td>\n",
       "      <td>gene</td>\n",
       "      <td>7586</td>\n",
       "      <td>8269</td>\n",
       "      <td>+</td>\n",
       "      <td>NC_012920.1</td>\n",
       "      <td>684</td>\n",
       "    </tr>\n",
       "    <tr>\n",
       "      <th>19</th>\n",
       "      <td>gene60941</td>\n",
       "      <td>gene</td>\n",
       "      <td>8295</td>\n",
       "      <td>8364</td>\n",
       "      <td>+</td>\n",
       "      <td>NC_012920.1</td>\n",
       "      <td>70</td>\n",
       "    </tr>\n",
       "    <tr>\n",
       "      <th>20</th>\n",
       "      <td>gene60942</td>\n",
       "      <td>gene</td>\n",
       "      <td>8366</td>\n",
       "      <td>8572</td>\n",
       "      <td>+</td>\n",
       "      <td>NC_012920.1</td>\n",
       "      <td>207</td>\n",
       "    </tr>\n",
       "    <tr>\n",
       "      <th>21</th>\n",
       "      <td>gene60943</td>\n",
       "      <td>gene</td>\n",
       "      <td>8527</td>\n",
       "      <td>9207</td>\n",
       "      <td>+</td>\n",
       "      <td>NC_012920.1</td>\n",
       "      <td>681</td>\n",
       "    </tr>\n",
       "    <tr>\n",
       "      <th>22</th>\n",
       "      <td>gene60944</td>\n",
       "      <td>gene</td>\n",
       "      <td>9207</td>\n",
       "      <td>9990</td>\n",
       "      <td>+</td>\n",
       "      <td>NC_012920.1</td>\n",
       "      <td>784</td>\n",
       "    </tr>\n",
       "    <tr>\n",
       "      <th>23</th>\n",
       "      <td>gene60945</td>\n",
       "      <td>gene</td>\n",
       "      <td>9991</td>\n",
       "      <td>10058</td>\n",
       "      <td>+</td>\n",
       "      <td>NC_012920.1</td>\n",
       "      <td>68</td>\n",
       "    </tr>\n",
       "    <tr>\n",
       "      <th>24</th>\n",
       "      <td>gene60946</td>\n",
       "      <td>gene</td>\n",
       "      <td>10059</td>\n",
       "      <td>10404</td>\n",
       "      <td>+</td>\n",
       "      <td>NC_012920.1</td>\n",
       "      <td>346</td>\n",
       "    </tr>\n",
       "    <tr>\n",
       "      <th>25</th>\n",
       "      <td>gene60947</td>\n",
       "      <td>gene</td>\n",
       "      <td>10405</td>\n",
       "      <td>10469</td>\n",
       "      <td>+</td>\n",
       "      <td>NC_012920.1</td>\n",
       "      <td>65</td>\n",
       "    </tr>\n",
       "    <tr>\n",
       "      <th>26</th>\n",
       "      <td>gene60948</td>\n",
       "      <td>gene</td>\n",
       "      <td>10470</td>\n",
       "      <td>10766</td>\n",
       "      <td>+</td>\n",
       "      <td>NC_012920.1</td>\n",
       "      <td>297</td>\n",
       "    </tr>\n",
       "    <tr>\n",
       "      <th>27</th>\n",
       "      <td>gene60949</td>\n",
       "      <td>gene</td>\n",
       "      <td>10760</td>\n",
       "      <td>12137</td>\n",
       "      <td>+</td>\n",
       "      <td>NC_012920.1</td>\n",
       "      <td>1378</td>\n",
       "    </tr>\n",
       "    <tr>\n",
       "      <th>28</th>\n",
       "      <td>gene60950</td>\n",
       "      <td>gene</td>\n",
       "      <td>12138</td>\n",
       "      <td>12206</td>\n",
       "      <td>+</td>\n",
       "      <td>NC_012920.1</td>\n",
       "      <td>69</td>\n",
       "    </tr>\n",
       "    <tr>\n",
       "      <th>29</th>\n",
       "      <td>gene60951</td>\n",
       "      <td>gene</td>\n",
       "      <td>12207</td>\n",
       "      <td>12265</td>\n",
       "      <td>+</td>\n",
       "      <td>NC_012920.1</td>\n",
       "      <td>59</td>\n",
       "    </tr>\n",
       "    <tr>\n",
       "      <th>30</th>\n",
       "      <td>gene60952</td>\n",
       "      <td>gene</td>\n",
       "      <td>12266</td>\n",
       "      <td>12336</td>\n",
       "      <td>+</td>\n",
       "      <td>NC_012920.1</td>\n",
       "      <td>71</td>\n",
       "    </tr>\n",
       "    <tr>\n",
       "      <th>31</th>\n",
       "      <td>gene60953</td>\n",
       "      <td>gene</td>\n",
       "      <td>12337</td>\n",
       "      <td>14148</td>\n",
       "      <td>+</td>\n",
       "      <td>NC_012920.1</td>\n",
       "      <td>1812</td>\n",
       "    </tr>\n",
       "    <tr>\n",
       "      <th>32</th>\n",
       "      <td>gene60954</td>\n",
       "      <td>gene</td>\n",
       "      <td>14149</td>\n",
       "      <td>14673</td>\n",
       "      <td>-</td>\n",
       "      <td>NC_012920.1</td>\n",
       "      <td>525</td>\n",
       "    </tr>\n",
       "    <tr>\n",
       "      <th>33</th>\n",
       "      <td>gene60955</td>\n",
       "      <td>gene</td>\n",
       "      <td>14674</td>\n",
       "      <td>14742</td>\n",
       "      <td>-</td>\n",
       "      <td>NC_012920.1</td>\n",
       "      <td>69</td>\n",
       "    </tr>\n",
       "    <tr>\n",
       "      <th>34</th>\n",
       "      <td>gene60956</td>\n",
       "      <td>gene</td>\n",
       "      <td>14747</td>\n",
       "      <td>15887</td>\n",
       "      <td>+</td>\n",
       "      <td>NC_012920.1</td>\n",
       "      <td>1141</td>\n",
       "    </tr>\n",
       "    <tr>\n",
       "      <th>35</th>\n",
       "      <td>gene60957</td>\n",
       "      <td>gene</td>\n",
       "      <td>15888</td>\n",
       "      <td>15953</td>\n",
       "      <td>+</td>\n",
       "      <td>NC_012920.1</td>\n",
       "      <td>66</td>\n",
       "    </tr>\n",
       "    <tr>\n",
       "      <th>36</th>\n",
       "      <td>gene60958</td>\n",
       "      <td>gene</td>\n",
       "      <td>15956</td>\n",
       "      <td>16023</td>\n",
       "      <td>-</td>\n",
       "      <td>NC_012920.1</td>\n",
       "      <td>68</td>\n",
       "    </tr>\n",
       "  </tbody>\n",
       "</table>\n",
       "</div>"
      ],
      "text/plain": [
       "           Id  Type  Start    End Strand     Location  Length\n",
       "0   gene60922  gene    577    647      +  NC_012920.1      71\n",
       "1   gene60923  gene    648   1601      +  NC_012920.1     954\n",
       "2   gene60924  gene   1602   1670      +  NC_012920.1      69\n",
       "3   gene60925  gene   1671   3229      +  NC_012920.1    1559\n",
       "4   gene60926  gene   3230   3304      +  NC_012920.1      75\n",
       "5   gene60927  gene   3307   4262      +  NC_012920.1     956\n",
       "6   gene60928  gene   4263   4331      +  NC_012920.1      69\n",
       "7   gene60929  gene   4329   4400      -  NC_012920.1      72\n",
       "8   gene60930  gene   4402   4469      +  NC_012920.1      68\n",
       "9   gene60931  gene   4470   5511      +  NC_012920.1    1042\n",
       "10  gene60932  gene   5512   5579      +  NC_012920.1      68\n",
       "11  gene60933  gene   5587   5655      -  NC_012920.1      69\n",
       "12  gene60934  gene   5657   5729      -  NC_012920.1      73\n",
       "13  gene60935  gene   5761   5826      -  NC_012920.1      66\n",
       "14  gene60936  gene   5826   5891      -  NC_012920.1      66\n",
       "15  gene60937  gene   5904   7445      +  NC_012920.1    1542\n",
       "16  gene60938  gene   7446   7514      -  NC_012920.1      69\n",
       "17  gene60939  gene   7518   7585      +  NC_012920.1      68\n",
       "18  gene60940  gene   7586   8269      +  NC_012920.1     684\n",
       "19  gene60941  gene   8295   8364      +  NC_012920.1      70\n",
       "20  gene60942  gene   8366   8572      +  NC_012920.1     207\n",
       "21  gene60943  gene   8527   9207      +  NC_012920.1     681\n",
       "22  gene60944  gene   9207   9990      +  NC_012920.1     784\n",
       "23  gene60945  gene   9991  10058      +  NC_012920.1      68\n",
       "24  gene60946  gene  10059  10404      +  NC_012920.1     346\n",
       "25  gene60947  gene  10405  10469      +  NC_012920.1      65\n",
       "26  gene60948  gene  10470  10766      +  NC_012920.1     297\n",
       "27  gene60949  gene  10760  12137      +  NC_012920.1    1378\n",
       "28  gene60950  gene  12138  12206      +  NC_012920.1      69\n",
       "29  gene60951  gene  12207  12265      +  NC_012920.1      59\n",
       "30  gene60952  gene  12266  12336      +  NC_012920.1      71\n",
       "31  gene60953  gene  12337  14148      +  NC_012920.1    1812\n",
       "32  gene60954  gene  14149  14673      -  NC_012920.1     525\n",
       "33  gene60955  gene  14674  14742      -  NC_012920.1      69\n",
       "34  gene60956  gene  14747  15887      +  NC_012920.1    1141\n",
       "35  gene60957  gene  15888  15953      +  NC_012920.1      66\n",
       "36  gene60958  gene  15956  16023      -  NC_012920.1      68"
      ]
     },
     "execution_count": 14,
     "metadata": {},
     "output_type": "execute_result"
    }
   ],
   "source": [
    "pd.read_csv('../BWA-Primers-MT/Gene_lengths.csv')"
   ]
  },
  {
   "cell_type": "code",
   "execution_count": 7,
   "metadata": {
    "ExecuteTime": {
     "end_time": "2020-05-18T20:18:17.420956Z",
     "start_time": "2020-05-18T20:18:17.165268Z"
    },
    "scrolled": true
   },
   "outputs": [
    {
     "data": {
      "text/html": [
       "<div>\n",
       "<style scoped>\n",
       "    .dataframe tbody tr th:only-of-type {\n",
       "        vertical-align: middle;\n",
       "    }\n",
       "\n",
       "    .dataframe tbody tr th {\n",
       "        vertical-align: top;\n",
       "    }\n",
       "\n",
       "    .dataframe thead th {\n",
       "        text-align: right;\n",
       "    }\n",
       "</style>\n",
       "<table border=\"1\" class=\"dataframe\">\n",
       "  <thead>\n",
       "    <tr style=\"text-align: right;\">\n",
       "      <th></th>\n",
       "      <th>Name</th>\n",
       "      <th>Sequence 5'</th>\n",
       "      <th>Gene</th>\n",
       "      <th>Strand</th>\n",
       "      <th>MT Position</th>\n",
       "    </tr>\n",
       "  </thead>\n",
       "  <tbody>\n",
       "    <tr>\n",
       "      <th>0</th>\n",
       "      <td>gene60922_0</td>\n",
       "      <td>TGTTTATGGGGTGATGTGAG</td>\n",
       "      <td>gene60922</td>\n",
       "      <td>-</td>\n",
       "      <td>646</td>\n",
       "    </tr>\n",
       "    <tr>\n",
       "      <th>1</th>\n",
       "      <td>gene60923_349</td>\n",
       "      <td>CTGAGCAAGAGGTGGTGAGG</td>\n",
       "      <td>gene60923</td>\n",
       "      <td>-</td>\n",
       "      <td>1251</td>\n",
       "    </tr>\n",
       "    <tr>\n",
       "      <th>2</th>\n",
       "      <td>gene60923_830</td>\n",
       "      <td>TGCTGCGTGCTTGATGCTTG</td>\n",
       "      <td>gene60923</td>\n",
       "      <td>-</td>\n",
       "      <td>770</td>\n",
       "    </tr>\n",
       "    <tr>\n",
       "      <th>3</th>\n",
       "      <td>gene60923_499</td>\n",
       "      <td>TAGGGCTAAGCATAGTGGGG</td>\n",
       "      <td>gene60923</td>\n",
       "      <td>-</td>\n",
       "      <td>1101</td>\n",
       "    </tr>\n",
       "    <tr>\n",
       "      <th>4</th>\n",
       "      <td>gene60923_0</td>\n",
       "      <td>GTTCGTCCAAGTGCACTTTC</td>\n",
       "      <td>gene60923</td>\n",
       "      <td>-</td>\n",
       "      <td>1600</td>\n",
       "    </tr>\n",
       "    <tr>\n",
       "      <th>...</th>\n",
       "      <td>...</td>\n",
       "      <td>...</td>\n",
       "      <td>...</td>\n",
       "      <td>...</td>\n",
       "      <td>...</td>\n",
       "    </tr>\n",
       "    <tr>\n",
       "      <th>117</th>\n",
       "      <td>gene60956_981</td>\n",
       "      <td>GCATGGCTAGGAATAGTCCT</td>\n",
       "      <td>gene60956</td>\n",
       "      <td>-</td>\n",
       "      <td>14905</td>\n",
       "    </tr>\n",
       "    <tr>\n",
       "      <th>118</th>\n",
       "      <td>gene60956_831</td>\n",
       "      <td>AATATAGGCCTCGCCCGATG</td>\n",
       "      <td>gene60956</td>\n",
       "      <td>-</td>\n",
       "      <td>15055</td>\n",
       "    </tr>\n",
       "    <tr>\n",
       "      <th>119</th>\n",
       "      <td>gene60956_0</td>\n",
       "      <td>AGGCCCATTTGAGTATTTTG</td>\n",
       "      <td>gene60956</td>\n",
       "      <td>-</td>\n",
       "      <td>15886</td>\n",
       "    </tr>\n",
       "    <tr>\n",
       "      <th>120</th>\n",
       "      <td>gene60957_0</td>\n",
       "      <td>TGTCCTTGGAAAAAGGTTTT</td>\n",
       "      <td>gene60957</td>\n",
       "      <td>-</td>\n",
       "      <td>15952</td>\n",
       "    </tr>\n",
       "    <tr>\n",
       "      <th>121</th>\n",
       "      <td>gene60958_0</td>\n",
       "      <td>TCAGAGAAAAAGTCTTTAAC</td>\n",
       "      <td>gene60958</td>\n",
       "      <td>+</td>\n",
       "      <td>15955</td>\n",
       "    </tr>\n",
       "  </tbody>\n",
       "</table>\n",
       "<p>122 rows × 5 columns</p>\n",
       "</div>"
      ],
      "text/plain": [
       "              Name           Sequence 5'       Gene Strand  MT Position\n",
       "0      gene60922_0  TGTTTATGGGGTGATGTGAG  gene60922      -          646\n",
       "1    gene60923_349  CTGAGCAAGAGGTGGTGAGG  gene60923      -         1251\n",
       "2    gene60923_830  TGCTGCGTGCTTGATGCTTG  gene60923      -          770\n",
       "3    gene60923_499  TAGGGCTAAGCATAGTGGGG  gene60923      -         1101\n",
       "4      gene60923_0  GTTCGTCCAAGTGCACTTTC  gene60923      -         1600\n",
       "..             ...                   ...        ...    ...          ...\n",
       "117  gene60956_981  GCATGGCTAGGAATAGTCCT  gene60956      -        14905\n",
       "118  gene60956_831  AATATAGGCCTCGCCCGATG  gene60956      -        15055\n",
       "119    gene60956_0  AGGCCCATTTGAGTATTTTG  gene60956      -        15886\n",
       "120    gene60957_0  TGTCCTTGGAAAAAGGTTTT  gene60957      -        15952\n",
       "121    gene60958_0  TCAGAGAAAAAGTCTTTAAC  gene60958      +        15955\n",
       "\n",
       "[122 rows x 5 columns]"
      ]
     },
     "execution_count": 7,
     "metadata": {},
     "output_type": "execute_result"
    }
   ],
   "source": [
    "pd.read_csv(\"../BWA-Primers-MT/final_primers.csv\")"
   ]
  },
  {
   "cell_type": "code",
   "execution_count": 13,
   "metadata": {
    "ExecuteTime": {
     "end_time": "2020-05-18T20:22:30.982990Z",
     "start_time": "2020-05-18T20:22:30.945422Z"
    },
    "scrolled": false
   },
   "outputs": [
    {
     "data": {
      "text/html": [
       "<div>\n",
       "<style scoped>\n",
       "    .dataframe tbody tr th:only-of-type {\n",
       "        vertical-align: middle;\n",
       "    }\n",
       "\n",
       "    .dataframe tbody tr th {\n",
       "        vertical-align: top;\n",
       "    }\n",
       "\n",
       "    .dataframe thead th {\n",
       "        text-align: right;\n",
       "    }\n",
       "</style>\n",
       "<table border=\"1\" class=\"dataframe\">\n",
       "  <thead>\n",
       "    <tr style=\"text-align: right;\">\n",
       "      <th></th>\n",
       "      <th>0</th>\n",
       "      <th>1</th>\n",
       "      <th>2</th>\n",
       "      <th>3</th>\n",
       "      <th>4</th>\n",
       "      <th>5</th>\n",
       "    </tr>\n",
       "  </thead>\n",
       "  <tbody>\n",
       "    <tr>\n",
       "      <th>0</th>\n",
       "      <td>MT</td>\n",
       "      <td>646</td>\n",
       "      <td>666</td>\n",
       "      <td>gene60922_0</td>\n",
       "      <td>0</td>\n",
       "      <td>-</td>\n",
       "    </tr>\n",
       "    <tr>\n",
       "      <th>1</th>\n",
       "      <td>MT</td>\n",
       "      <td>1251</td>\n",
       "      <td>1271</td>\n",
       "      <td>gene60923_349</td>\n",
       "      <td>0</td>\n",
       "      <td>-</td>\n",
       "    </tr>\n",
       "    <tr>\n",
       "      <th>2</th>\n",
       "      <td>MT</td>\n",
       "      <td>770</td>\n",
       "      <td>790</td>\n",
       "      <td>gene60923_830</td>\n",
       "      <td>0</td>\n",
       "      <td>-</td>\n",
       "    </tr>\n",
       "    <tr>\n",
       "      <th>3</th>\n",
       "      <td>MT</td>\n",
       "      <td>1101</td>\n",
       "      <td>1121</td>\n",
       "      <td>gene60923_499</td>\n",
       "      <td>0</td>\n",
       "      <td>-</td>\n",
       "    </tr>\n",
       "    <tr>\n",
       "      <th>4</th>\n",
       "      <td>MT</td>\n",
       "      <td>1600</td>\n",
       "      <td>1620</td>\n",
       "      <td>gene60923_0</td>\n",
       "      <td>0</td>\n",
       "      <td>-</td>\n",
       "    </tr>\n",
       "    <tr>\n",
       "      <th>...</th>\n",
       "      <td>...</td>\n",
       "      <td>...</td>\n",
       "      <td>...</td>\n",
       "      <td>...</td>\n",
       "      <td>...</td>\n",
       "      <td>...</td>\n",
       "    </tr>\n",
       "    <tr>\n",
       "      <th>117</th>\n",
       "      <td>MT</td>\n",
       "      <td>14905</td>\n",
       "      <td>14925</td>\n",
       "      <td>gene60956_981</td>\n",
       "      <td>0</td>\n",
       "      <td>-</td>\n",
       "    </tr>\n",
       "    <tr>\n",
       "      <th>118</th>\n",
       "      <td>MT</td>\n",
       "      <td>15055</td>\n",
       "      <td>15075</td>\n",
       "      <td>gene60956_831</td>\n",
       "      <td>0</td>\n",
       "      <td>-</td>\n",
       "    </tr>\n",
       "    <tr>\n",
       "      <th>119</th>\n",
       "      <td>MT</td>\n",
       "      <td>15886</td>\n",
       "      <td>15906</td>\n",
       "      <td>gene60956_0</td>\n",
       "      <td>0</td>\n",
       "      <td>-</td>\n",
       "    </tr>\n",
       "    <tr>\n",
       "      <th>120</th>\n",
       "      <td>MT</td>\n",
       "      <td>15952</td>\n",
       "      <td>15972</td>\n",
       "      <td>gene60957_0</td>\n",
       "      <td>0</td>\n",
       "      <td>-</td>\n",
       "    </tr>\n",
       "    <tr>\n",
       "      <th>121</th>\n",
       "      <td>MT</td>\n",
       "      <td>15935</td>\n",
       "      <td>15955</td>\n",
       "      <td>gene60958_0</td>\n",
       "      <td>0</td>\n",
       "      <td>+</td>\n",
       "    </tr>\n",
       "  </tbody>\n",
       "</table>\n",
       "<p>122 rows × 6 columns</p>\n",
       "</div>"
      ],
      "text/plain": [
       "      0      1      2              3  4  5\n",
       "0    MT    646    666    gene60922_0  0  -\n",
       "1    MT   1251   1271  gene60923_349  0  -\n",
       "2    MT    770    790  gene60923_830  0  -\n",
       "3    MT   1101   1121  gene60923_499  0  -\n",
       "4    MT   1600   1620    gene60923_0  0  -\n",
       "..   ..    ...    ...            ... .. ..\n",
       "117  MT  14905  14925  gene60956_981  0  -\n",
       "118  MT  15055  15075  gene60956_831  0  -\n",
       "119  MT  15886  15906    gene60956_0  0  -\n",
       "120  MT  15952  15972    gene60957_0  0  -\n",
       "121  MT  15935  15955    gene60958_0  0  +\n",
       "\n",
       "[122 rows x 6 columns]"
      ]
     },
     "execution_count": 13,
     "metadata": {},
     "output_type": "execute_result"
    }
   ],
   "source": [
    "pd.read_csv(\"../BWA-Primers-MT/final_primers.csv.bed\", sep=\"\\t\", header=None)"
   ]
  },
  {
   "cell_type": "code",
   "execution_count": null,
   "metadata": {},
   "outputs": [],
   "source": []
  },
  {
   "cell_type": "markdown",
   "metadata": {},
   "source": [
    "## File names"
   ]
  },
  {
   "cell_type": "code",
   "execution_count": 2,
   "metadata": {
    "ExecuteTime": {
     "end_time": "2020-05-18T20:09:52.736215Z",
     "start_time": "2020-05-18T20:09:52.721081Z"
    }
   },
   "outputs": [],
   "source": [
    "genomedir = \"/data2/genome/human_GRCh38/cellranger/refdata-cellranger-GRCh38-3.0.0/star\"\n",
    "indir = \"/data2/isshamie/mito_lineage/data/processed/200403_A00953_0090_BHC23FDSXY/trim/\"\n",
    "\n",
    "outdir = join(indir, \"homebrew/\")\n",
    "if not os.path.exists(outdir):\n",
    "    os.mkdir(outdir)\n",
    "outdir = join(outdir, \"bam/\")\n",
    "if not os.path.exists(outdir):\n",
    "    os.mkdir(outdir)\n",
    "\n",
    "    \n",
    "ID = \"bc5prime_A\"\n",
    "f1 = join(indir,\"trimmed_BC_5Prime_031020_A_R1.concat.fastq\")\n",
    "f2 = join(indir,\"trimmed_BC_5Prime_031020_A_R2.concat.fastq\")"
   ]
  },
  {
   "cell_type": "code",
   "execution_count": 3,
   "metadata": {
    "ExecuteTime": {
     "end_time": "2020-05-18T20:09:52.854948Z",
     "start_time": "2020-05-18T20:09:52.738816Z"
    }
   },
   "outputs": [
    {
     "name": "stdout",
     "output_type": "stream",
     "text": [
      "/home/isshamie/software/STAR-2.5.3a/bin/Linux_x86_64/STAR\r\n"
     ]
    }
   ],
   "source": [
    "!which STAR"
   ]
  },
  {
   "cell_type": "markdown",
   "metadata": {},
   "source": [
    "## Run STAR and dont use R1 for mapping"
   ]
  },
  {
   "cell_type": "code",
   "execution_count": 7,
   "metadata": {
    "ExecuteTime": {
     "end_time": "2020-05-18T20:11:44.755448Z",
     "start_time": "2020-05-18T20:11:44.749407Z"
    }
   },
   "outputs": [],
   "source": [
    "def star_cmd(genomedir, r1,r2, outdir,ID):\n",
    "    cmd = f\"STAR --runThreadN 8  --genomeDir {genomedir}  --readFilesIn {r2} --outFileNamePrefix {join(outdir, ID+'.lowerParams')} --outSAMtype BAM SortedByCoordinate --outWigType bedGraph --readNameSeparator space --outStd Log   --outSAMattrRGline ID:{ID}:0:1:HC23FDSXY:3   SM:{ID} LB:0.1 PU:{ID}:0:1:HC23FDSXY:3 PL:ILLUMINA  --outSAMmultNmax 18446744073709551615\"\n",
    "    add_params = \" --outFilterScoreMinOverLread 0.3 --outFilterMatchNminOverLread 0.3\"\n",
    "    cmd = cmd + add_params\n",
    "    print(cmd)\n",
    "    return cmd\n",
    "\n",
    "#--readFilesCommand 'gunzip -c'\n",
    "#--outSAMunmapped Within KeepPairs\n",
    "#--outSAMorder PairedKeepInputOrder"
   ]
  },
  {
   "cell_type": "markdown",
   "metadata": {},
   "source": [
    "## A."
   ]
  },
  {
   "cell_type": "code",
   "execution_count": 6,
   "metadata": {
    "ExecuteTime": {
     "end_time": "2020-05-18T20:10:04.452199Z",
     "start_time": "2020-05-18T20:09:52.878206Z"
    },
    "scrolled": true
   },
   "outputs": [
    {
     "name": "stdout",
     "output_type": "stream",
     "text": [
      "STAR --runThreadN 8  --genomeDir /data2/genome/human_GRCh38/cellranger/refdata-cellranger-GRCh38-3.0.0/star --readFilesCommand 'gunzip -c' --readFilesIn /data2/isshamie/mito_lineage/data/processed/200403_A00953_0090_BHC23FDSXY/trim/trimmed_A_S1_L001_R2_001.fastq.gz --outFileNamePrefix /data2/isshamie/mito_lineage/data/processed/200403_A00953_0090_BHC23FDSXY/trim/bam/A.lowerParams --outSAMtype BAM SortedByCoordinate --outWigType bedGraph --readNameSeparator space --outStd Log   --outSAMattrRGline ID:A:0:1:HC23FDSXY:3   SM:A LB:0.1 PU:A:0:1:HC23FDSXY:3 PL:ILLUMINA  --outSAMmultNmax 18446744073709551615 --outFilterScoreMinOverLread 0.3 --outFilterMatchNminOverLread 0.3\n",
      "May 18 20:09:52 ..... started STAR run\n",
      "May 18 20:09:52 ..... loading genome\n",
      "May 18 20:10:01 ..... started mapping\n",
      "May 18 20:10:03 ..... started sorting BAM\n",
      "May 18 20:10:03 ..... started wiggle output\n",
      "[E::bam_hdr_read] invalid BAM binary header\n",
      "[E::bam_hdr_read] invalid BAM binary header\n",
      "May 18 20:10:03 ..... finished successfully\n"
     ]
    }
   ],
   "source": [
    "indir = \"/data2/isshamie/mito_lineage/data/processed/200403_A00953_0090_BHC23FDSXY/trim/\"\n",
    "A1_R1 = \"trimmed_A_S1_L001_R1_001.fastq\"\n",
    "A1_R2 = \"trimmed_A_S1_L001_R2_001.fastq\"\n",
    "ID = \"A\"\n",
    "\n",
    "outdir = \"/data2/isshamie/mito_lineage/data/processed/200403_A00953_0090_BHC23FDSXY/trim/bam\"\n",
    "if not os.path.exists(outdir):\n",
    "    os.mkdir(outdir)\n",
    "\n",
    "A1_R1 = join(indir,A1_R1)\n",
    "A1_R2 = join(indir,A1_R2)\n",
    "\n",
    "### Run STAR with parameters for matching lowered\n",
    "\n",
    "\n",
    "#cmd = f\"STAR --runThreadN 4  --genomeDir {genomedir} --readFilesCommand 'gunzip -c' --readFilesIn {A1_R2} --outFileNamePrefix {join(outdir, ID+'.lowerParams')} -–outSAMtype BAM SortedByCoordinate --outWigType bedGraph --readNameSeparator space --outStd Log --outSAMunmapped Within KeepPairs  --outSAMorder PairedKeepInputOrder --outSAMattrRGline ID:{ID}:0:1:HC23FDSXY:3   SM:{ID} LB:0.1 PU:{ID}:0:1:HC23FDSXY:3 PL:ILLUMINA  --outSAMmultNmax 18446744073709551615\"\n",
    "cmd = star_cmd(genomedir, A1_R1,A1_R2, outdir,ID)\n",
    "\n",
    "# add_params = \" --outFilterScoreMinOverLread 0.3 --outFilterMatchNminOverLread 0.3\"\n",
    "# cmd = cmd + add_params\n",
    "# print(cmd)\n",
    "!{cmd}"
   ]
  },
  {
   "cell_type": "markdown",
   "metadata": {},
   "source": [
    "## AD."
   ]
  },
  {
   "cell_type": "code",
   "execution_count": 7,
   "metadata": {
    "ExecuteTime": {
     "end_time": "2020-05-18T20:08:37.213332Z",
     "start_time": "2020-05-18T20:08:26.627215Z"
    },
    "scrolled": true
   },
   "outputs": [
    {
     "name": "stdout",
     "output_type": "stream",
     "text": [
      "STAR --runThreadN 8  --genomeDir /data2/genome/human_GRCh38/cellranger/refdata-cellranger-GRCh38-3.0.0/star --readFilesCommand 'gunzip -c' --readFilesIn /data2/isshamie/mito_lineage/data/raw/200403_A00953_0090_BHC23FDSXY/trim/trimmed_AD_R2_concat.fastq.gz --outFileNamePrefix /data2/isshamie/mito_lineage/data/processed/200403_A00953_0090_BHC23FDSXY/trim/bam/AD.lowerParams --outSAMtype BAM SortedByCoordinate --outWigType bedGraph --readNameSeparator space --outStd Log   --outSAMattrRGline ID:AD:0:1:HC23FDSXY:3   SM:AD LB:0.1 PU:AD:0:1:HC23FDSXY:3 PL:ILLUMINA  --outSAMmultNmax 18446744073709551615 --outFilterScoreMinOverLread 0.3 --outFilterMatchNminOverLread 0.3\n",
      "May 18 20:08:26 ..... started STAR run\n",
      "May 18 20:08:26 ..... loading genome\n",
      "gzip: /data2/isshamie/mito_lineage/data/raw/200403_A00953_0090_BHC23FDSXY/trim/trimmed_AD_R2_concat.fastq.gz: No such file or directory\n",
      "May 18 20:08:34 ..... started mapping\n",
      "May 18 20:08:36 ..... started sorting BAM\n",
      "May 18 20:08:36 ..... started wiggle output\n",
      "[E::bam_hdr_read] invalid BAM binary header\n",
      "[E::bam_hdr_read] invalid BAM binary header\n",
      "May 18 20:08:36 ..... finished successfully\n"
     ]
    }
   ],
   "source": [
    "indir = \"/data2/isshamie/mito_lineage/data/raw/200403_A00953_0090_BHC23FDSXY/trim/\"\n",
    "AD_R1 = \"trimmed_AD_R1_concat.fastq.gz\"\n",
    "AD_R2 = \"trimmed_AD_R2_concat.fastq.gz\"\n",
    "ID = \"AD\"\n",
    "\n",
    "outdir = \"/data2/isshamie/mito_lineage/data/processed/200403_A00953_0090_BHC23FDSXY/trim/bam\"\n",
    "if not os.path.exists(outdir):\n",
    "    os.mkdir(outdir)\n",
    "\n",
    "AD_R1 = join(indir,AD_R1)\n",
    "AD_R2 = join(indir,AD_R2)\n",
    "\n",
    "### Run STAR with parameters for matching lowered\n",
    "\n",
    "# cmd = f\"STAR --runThreadN 4  --genomeDir {genomedir}  --readFilesIn {AD_R2} --outFileNamePrefix {join(outdir, ID+'.lowerParams')} -–outSAMtype BAM SortedByCoordinate --outWigType bedGraph --readNameSeparator space --outStd Log --outSAMunmapped Within KeepPairs  --outSAMorder PairedKeepInputOrder --outSAMattrRGline ID:{ID}:0:1:HC23FDSXY:3   SM:{ID} LB:0.1 PU:{ID}:0:1:HC23FDSXY:3 PL:ILLUMINA  --outSAMmultNmax 18446744073709551615\"\n",
    "\n",
    "# add_params = \" --outFilterScoreMinOverLread 0.3 --outFilterMatchNminOverLread 0.3\"\n",
    "# cmd = cmd + add_params\n",
    "# print(cmd)\n",
    "\n",
    "cmd = star_cmd(genomedir, AD_R1,AD_R2, outdir,ID)\n",
    "!{cmd}"
   ]
  },
  {
   "cell_type": "markdown",
   "metadata": {},
   "source": [
    "## Run"
   ]
  },
  {
   "cell_type": "markdown",
   "metadata": {},
   "source": [
    "## Bamcoverage"
   ]
  },
  {
   "cell_type": "markdown",
   "metadata": {},
   "source": [
    "cmd = \"mkdir bamcoverage\"\n",
    "cmd = 'bamCoverage -b bc5prime_fiveprime_A_1/outs/possorted_genome_bam.bam -o bamcoverage/bc5prime_fiveprime_A_1.bw -p 20'\n",
    "cmd = \"bamCoverage -b bc5prime_sc5p_pe_lanes/outs/possorted_genome_bam.bam -o bamcoverage/bc5prime_sc5p_pe_lanes -p 20\""
   ]
  },
  {
   "cell_type": "code",
   "execution_count": null,
   "metadata": {
    "ExecuteTime": {
     "end_time": "2020-05-07T04:37:29.297702Z",
     "start_time": "2020-05-07T04:15:41.425Z"
    }
   },
   "outputs": [],
   "source": [
    "bamcoverage_dir = join(outdir,\"bamcov\")\n",
    "for i in glob.glob(outidr + \"/*.bam\"):\n",
    "    cmd =  f\"bamCoverage {i} -o {join(bamcoverage_dir,basename(i)+'.bw')} -p 10\"\n",
    "    print(cmd)"
   ]
  },
  {
   "cell_type": "code",
   "execution_count": null,
   "metadata": {},
   "outputs": [],
   "source": []
  },
  {
   "cell_type": "code",
   "execution_count": null,
   "metadata": {},
   "outputs": [],
   "source": []
  },
  {
   "cell_type": "markdown",
   "metadata": {},
   "source": [
    "## Plot mapq values (take first 60000)"
   ]
  },
  {
   "cell_type": "code",
   "execution_count": 6,
   "metadata": {
    "ExecuteTime": {
     "end_time": "2020-05-12T02:34:54.678667Z",
     "start_time": "2020-05-12T02:34:52.084407Z"
    }
   },
   "outputs": [],
   "source": [
    "import pandas as pd\n",
    "import numpy as np\n",
    "import seaborn as sns\n",
    "%matplotlib inline"
   ]
  },
  {
   "cell_type": "code",
   "execution_count": 7,
   "metadata": {
    "ExecuteTime": {
     "end_time": "2020-05-12T02:35:00.426908Z",
     "start_time": "2020-05-12T02:35:00.121800Z"
    },
    "scrolled": false
   },
   "outputs": [
    {
     "data": {
      "text/html": [
       "<div>\n",
       "<style scoped>\n",
       "    .dataframe tbody tr th:only-of-type {\n",
       "        vertical-align: middle;\n",
       "    }\n",
       "\n",
       "    .dataframe tbody tr th {\n",
       "        vertical-align: top;\n",
       "    }\n",
       "\n",
       "    .dataframe thead th {\n",
       "        text-align: right;\n",
       "    }\n",
       "</style>\n",
       "<table border=\"1\" class=\"dataframe\">\n",
       "  <thead>\n",
       "    <tr style=\"text-align: right;\">\n",
       "      <th></th>\n",
       "      <th>0</th>\n",
       "      <th>1</th>\n",
       "      <th>2</th>\n",
       "      <th>3</th>\n",
       "      <th>4</th>\n",
       "      <th>5</th>\n",
       "    </tr>\n",
       "  </thead>\n",
       "  <tbody>\n",
       "    <tr>\n",
       "      <th>0</th>\n",
       "      <td>A00953:90:HC23FDSXY:3:2524:26928:34695</td>\n",
       "      <td>1171</td>\n",
       "      <td>12</td>\n",
       "      <td>122981133</td>\n",
       "      <td>255</td>\n",
       "      <td>101M</td>\n",
       "    </tr>\n",
       "    <tr>\n",
       "      <th>1</th>\n",
       "      <td>A00953:90:HC23FDSXY:3:1403:24207:32487</td>\n",
       "      <td>163</td>\n",
       "      <td>12</td>\n",
       "      <td>123428838</td>\n",
       "      <td>255</td>\n",
       "      <td>89M12S</td>\n",
       "    </tr>\n",
       "    <tr>\n",
       "      <th>2</th>\n",
       "      <td>A00953:90:HC23FDSXY:3:1403:24207:32487</td>\n",
       "      <td>163</td>\n",
       "      <td>12</td>\n",
       "      <td>123428838</td>\n",
       "      <td>255</td>\n",
       "      <td>89M12S</td>\n",
       "    </tr>\n",
       "    <tr>\n",
       "      <th>3</th>\n",
       "      <td>A00953:90:HC23FDSXY:3:1650:16504:6590</td>\n",
       "      <td>163</td>\n",
       "      <td>12</td>\n",
       "      <td>123428838</td>\n",
       "      <td>255</td>\n",
       "      <td>89M12S</td>\n",
       "    </tr>\n",
       "    <tr>\n",
       "      <th>4</th>\n",
       "      <td>A00953:90:HC23FDSXY:3:1650:16504:6590</td>\n",
       "      <td>163</td>\n",
       "      <td>12</td>\n",
       "      <td>123428838</td>\n",
       "      <td>255</td>\n",
       "      <td>89M12S</td>\n",
       "    </tr>\n",
       "  </tbody>\n",
       "</table>\n",
       "</div>"
      ],
      "text/plain": [
       "                                        0     1   2          3    4       5\n",
       "0  A00953:90:HC23FDSXY:3:2524:26928:34695  1171  12  122981133  255    101M\n",
       "1  A00953:90:HC23FDSXY:3:1403:24207:32487   163  12  123428838  255  89M12S\n",
       "2  A00953:90:HC23FDSXY:3:1403:24207:32487   163  12  123428838  255  89M12S\n",
       "3   A00953:90:HC23FDSXY:3:1650:16504:6590   163  12  123428838  255  89M12S\n",
       "4   A00953:90:HC23FDSXY:3:1650:16504:6590   163  12  123428838  255  89M12S"
      ]
     },
     "execution_count": 7,
     "metadata": {},
     "output_type": "execute_result"
    }
   ],
   "source": [
    "sam_f = \"../data/processed/mttrace/A/00_bam/A.sam\"\n",
    "sam = pd.read_csv(sam_f,sep=\"\\t\",skiprows=10000,nrows=60000,header=None, comment=\"@\",usecols=np.arange(6))\n",
    "sam.head()"
   ]
  },
  {
   "cell_type": "code",
   "execution_count": 9,
   "metadata": {
    "ExecuteTime": {
     "end_time": "2020-05-12T02:35:12.157877Z",
     "start_time": "2020-05-12T02:35:12.154758Z"
    }
   },
   "outputs": [],
   "source": [
    "import matplotlib.pyplot as plt"
   ]
  },
  {
   "cell_type": "code",
   "execution_count": 10,
   "metadata": {
    "ExecuteTime": {
     "end_time": "2020-05-12T02:35:12.902432Z",
     "start_time": "2020-05-12T02:35:12.717742Z"
    }
   },
   "outputs": [
    {
     "data": {
      "text/plain": [
       "Text(0.5, 1.0, 'MAPQ')"
      ]
     },
     "execution_count": 10,
     "metadata": {},
     "output_type": "execute_result"
    },
    {
     "data": {
      "image/png": "[encoded data removed]",
      "text/plain": [
       "<Figure size 432x288 with 1 Axes>"
      ]
     },
     "metadata": {
      "needs_background": "light"
     },
     "output_type": "display_data"
    }
   ],
   "source": [
    "sns.countplot(sam[4])\n",
    "plt.title(\"MAPQ\")"
   ]
  },
  {
   "cell_type": "code",
   "execution_count": null,
   "metadata": {},
   "outputs": [],
   "source": [
    "Read Name\n",
    "SAM flag\n",
    "chromosome (if read is has no alignment, there will be a “*” here)\n",
    "position (1-based index, “left end of read”)\n",
    "MAPQ (mapping quality — describes the uniqueness of the alignment, 0=non-unique, >10 probably unique)\n",
    "CIGAR string (describes the position of insertions/deletions/matches in the alignment, encodes splice junctions, for example)\n",
    "Name of mate (mate pair information for paired-end sequencing, often “=”)\n",
    "Position of mate (mate pair information)\n",
    "Template length (always zero for me)\n",
    "Read Sequence\n",
    "Read Quality\n",
    "Program specific Flags (i.e. AS is an alignment score, NH is a number of reported alignments that contains the query in the current record)"
   ]
  },
  {
   "cell_type": "code",
   "execution_count": 15,
   "metadata": {
    "ExecuteTime": {
     "end_time": "2020-05-12T02:36:14.857376Z",
     "start_time": "2020-05-12T02:36:14.818203Z"
    },
    "scrolled": true
   },
   "outputs": [
    {
     "data": {
      "text/html": [
       "<div>\n",
       "<style scoped>\n",
       "    .dataframe tbody tr th:only-of-type {\n",
       "        vertical-align: middle;\n",
       "    }\n",
       "\n",
       "    .dataframe tbody tr th {\n",
       "        vertical-align: top;\n",
       "    }\n",
       "\n",
       "    .dataframe thead th {\n",
       "        text-align: right;\n",
       "    }\n",
       "</style>\n",
       "<table border=\"1\" class=\"dataframe\">\n",
       "  <thead>\n",
       "    <tr style=\"text-align: right;\">\n",
       "      <th></th>\n",
       "      <th>0</th>\n",
       "      <th>1</th>\n",
       "      <th>2</th>\n",
       "      <th>3</th>\n",
       "      <th>4</th>\n",
       "      <th>5</th>\n",
       "    </tr>\n",
       "  </thead>\n",
       "  <tbody>\n",
       "    <tr>\n",
       "      <th>9</th>\n",
       "      <td>A00953:90:HC23FDSXY:3:1275:25473:14700</td>\n",
       "      <td>419</td>\n",
       "      <td>12</td>\n",
       "      <td>124911769</td>\n",
       "      <td>0</td>\n",
       "      <td>15S61M</td>\n",
       "    </tr>\n",
       "    <tr>\n",
       "      <th>10</th>\n",
       "      <td>A00953:90:HC23FDSXY:3:1275:25473:14700</td>\n",
       "      <td>419</td>\n",
       "      <td>12</td>\n",
       "      <td>124911769</td>\n",
       "      <td>0</td>\n",
       "      <td>15S61M</td>\n",
       "    </tr>\n",
       "    <tr>\n",
       "      <th>19</th>\n",
       "      <td>A00953:90:HC23FDSXY:3:1428:16405:1658</td>\n",
       "      <td>419</td>\n",
       "      <td>12</td>\n",
       "      <td>124911922</td>\n",
       "      <td>0</td>\n",
       "      <td>14S62M</td>\n",
       "    </tr>\n",
       "    <tr>\n",
       "      <th>21</th>\n",
       "      <td>A00953:90:HC23FDSXY:3:1275:25473:14700</td>\n",
       "      <td>419</td>\n",
       "      <td>12</td>\n",
       "      <td>124911997</td>\n",
       "      <td>0</td>\n",
       "      <td>15S61M</td>\n",
       "    </tr>\n",
       "    <tr>\n",
       "      <th>22</th>\n",
       "      <td>A00953:90:HC23FDSXY:3:2350:10041:20071</td>\n",
       "      <td>419</td>\n",
       "      <td>12</td>\n",
       "      <td>124912052</td>\n",
       "      <td>0</td>\n",
       "      <td>101M</td>\n",
       "    </tr>\n",
       "    <tr>\n",
       "      <th>...</th>\n",
       "      <td>...</td>\n",
       "      <td>...</td>\n",
       "      <td>...</td>\n",
       "      <td>...</td>\n",
       "      <td>...</td>\n",
       "      <td>...</td>\n",
       "    </tr>\n",
       "    <tr>\n",
       "      <th>59995</th>\n",
       "      <td>A00953:90:HC23FDSXY:3:2171:23737:36245</td>\n",
       "      <td>77</td>\n",
       "      <td>*</td>\n",
       "      <td>0</td>\n",
       "      <td>0</td>\n",
       "      <td>*</td>\n",
       "    </tr>\n",
       "    <tr>\n",
       "      <th>59996</th>\n",
       "      <td>A00953:90:HC23FDSXY:3:2171:23737:36245</td>\n",
       "      <td>141</td>\n",
       "      <td>*</td>\n",
       "      <td>0</td>\n",
       "      <td>0</td>\n",
       "      <td>*</td>\n",
       "    </tr>\n",
       "    <tr>\n",
       "      <th>59997</th>\n",
       "      <td>A00953:90:HC23FDSXY:3:2202:29722:9972</td>\n",
       "      <td>77</td>\n",
       "      <td>*</td>\n",
       "      <td>0</td>\n",
       "      <td>0</td>\n",
       "      <td>*</td>\n",
       "    </tr>\n",
       "    <tr>\n",
       "      <th>59998</th>\n",
       "      <td>A00953:90:HC23FDSXY:3:2202:29722:9972</td>\n",
       "      <td>141</td>\n",
       "      <td>*</td>\n",
       "      <td>0</td>\n",
       "      <td>0</td>\n",
       "      <td>*</td>\n",
       "    </tr>\n",
       "    <tr>\n",
       "      <th>59999</th>\n",
       "      <td>A00953:90:HC23FDSXY:3:2202:29722:9972</td>\n",
       "      <td>77</td>\n",
       "      <td>*</td>\n",
       "      <td>0</td>\n",
       "      <td>0</td>\n",
       "      <td>*</td>\n",
       "    </tr>\n",
       "  </tbody>\n",
       "</table>\n",
       "<p>31266 rows × 6 columns</p>\n",
       "</div>"
      ],
      "text/plain": [
       "                                            0    1   2          3  4       5\n",
       "9      A00953:90:HC23FDSXY:3:1275:25473:14700  419  12  124911769  0  15S61M\n",
       "10     A00953:90:HC23FDSXY:3:1275:25473:14700  419  12  124911769  0  15S61M\n",
       "19      A00953:90:HC23FDSXY:3:1428:16405:1658  419  12  124911922  0  14S62M\n",
       "21     A00953:90:HC23FDSXY:3:1275:25473:14700  419  12  124911997  0  15S61M\n",
       "22     A00953:90:HC23FDSXY:3:2350:10041:20071  419  12  124912052  0    101M\n",
       "...                                       ...  ...  ..        ... ..     ...\n",
       "59995  A00953:90:HC23FDSXY:3:2171:23737:36245   77   *          0  0       *\n",
       "59996  A00953:90:HC23FDSXY:3:2171:23737:36245  141   *          0  0       *\n",
       "59997   A00953:90:HC23FDSXY:3:2202:29722:9972   77   *          0  0       *\n",
       "59998   A00953:90:HC23FDSXY:3:2202:29722:9972  141   *          0  0       *\n",
       "59999   A00953:90:HC23FDSXY:3:2202:29722:9972   77   *          0  0       *\n",
       "\n",
       "[31266 rows x 6 columns]"
      ]
     },
     "execution_count": 15,
     "metadata": {},
     "output_type": "execute_result"
    }
   ],
   "source": [
    "unmapped = sam[sam[4] == 0]\n",
    "unmapped\n"
   ]
  },
  {
   "cell_type": "code",
   "execution_count": 18,
   "metadata": {
    "ExecuteTime": {
     "end_time": "2020-05-12T02:36:58.550351Z",
     "start_time": "2020-05-12T02:36:58.544010Z"
    },
    "scrolled": true
   },
   "outputs": [
    {
     "name": "stdout",
     "output_type": "stream",
     "text": [
      "Number of duplicated reads: 27094\n"
     ]
    }
   ],
   "source": [
    "print(f\"Number of duplicated reads: {unmapped[0].duplicated().sum()}\")"
   ]
  },
  {
   "cell_type": "code",
   "execution_count": 20,
   "metadata": {
    "ExecuteTime": {
     "end_time": "2020-05-12T02:37:43.679577Z",
     "start_time": "2020-05-12T02:37:43.669904Z"
    },
    "scrolled": false
   },
   "outputs": [
    {
     "name": "stdout",
     "output_type": "stream",
     "text": [
      "Number of reads mapped to *: 5775\n"
     ]
    }
   ],
   "source": [
    "print(f\"Number of reads mapped to *: {(unmapped[2]=='*').sum()}\")"
   ]
  },
  {
   "cell_type": "code",
   "execution_count": 21,
   "metadata": {
    "ExecuteTime": {
     "end_time": "2020-05-12T02:38:23.647266Z",
     "start_time": "2020-05-12T02:38:13.307225Z"
    },
    "scrolled": false
   },
   "outputs": [
    {
     "data": {
      "text/plain": [
       "<matplotlib.axes._subplots.AxesSubplot at 0x7f4042309400>"
      ]
     },
     "execution_count": 21,
     "metadata": {},
     "output_type": "execute_result"
    },
    {
     "data": {
      "image/png": "[encoded data removed]",
      "text/plain": [
       "<Figure size 432x288 with 1 Axes>"
      ]
     },
     "metadata": {
      "needs_background": "light"
     },
     "output_type": "display_data"
    }
   ],
   "source": [
    "sns.countplot(unmapped[5])"
   ]
  },
  {
   "cell_type": "code",
   "execution_count": 35,
   "metadata": {
    "ExecuteTime": {
     "end_time": "2020-05-11T00:38:01.909101Z",
     "start_time": "2020-05-11T00:38:01.874007Z"
    },
    "scrolled": false
   },
   "outputs": [
    {
     "data": {
      "text/plain": [
       "26305"
      ]
     },
     "execution_count": 35,
     "metadata": {},
     "output_type": "execute_result"
    }
   ],
   "source": [
    "(~sam[sam[4] == 0].duplicated()).sum()"
   ]
  },
  {
   "cell_type": "code",
   "execution_count": 37,
   "metadata": {
    "ExecuteTime": {
     "end_time": "2020-05-11T00:38:42.549745Z",
     "start_time": "2020-05-11T00:38:42.441811Z"
    },
    "scrolled": false
   },
   "outputs": [
    {
     "data": {
      "text/plain": [
       "20909"
      ]
     },
     "execution_count": 37,
     "metadata": {},
     "output_type": "execute_result"
    }
   ],
   "source": [
    "((~sam[sam[4] == 0].duplicated()) & ~(sam[2]==\"*\")).sum()"
   ]
  },
  {
   "cell_type": "code",
   "execution_count": 32,
   "metadata": {
    "ExecuteTime": {
     "end_time": "2020-05-11T00:37:18.649497Z",
     "start_time": "2020-05-11T00:37:18.617058Z"
    },
    "scrolled": false
   },
   "outputs": [
    {
     "data": {
      "text/html": [
       "<div>\n",
       "<style scoped>\n",
       "    .dataframe tbody tr th:only-of-type {\n",
       "        vertical-align: middle;\n",
       "    }\n",
       "\n",
       "    .dataframe tbody tr th {\n",
       "        vertical-align: top;\n",
       "    }\n",
       "\n",
       "    .dataframe thead th {\n",
       "        text-align: right;\n",
       "    }\n",
       "</style>\n",
       "<table border=\"1\" class=\"dataframe\">\n",
       "  <thead>\n",
       "    <tr style=\"text-align: right;\">\n",
       "      <th></th>\n",
       "      <th>0</th>\n",
       "      <th>1</th>\n",
       "      <th>2</th>\n",
       "      <th>3</th>\n",
       "      <th>4</th>\n",
       "      <th>5</th>\n",
       "    </tr>\n",
       "  </thead>\n",
       "  <tbody>\n",
       "    <tr>\n",
       "      <th>54225</th>\n",
       "      <td>A00953:90:HC23FDSXY:3:1102:10755:20744</td>\n",
       "      <td>77</td>\n",
       "      <td>*</td>\n",
       "      <td>0</td>\n",
       "      <td>0</td>\n",
       "      <td>*</td>\n",
       "    </tr>\n",
       "    <tr>\n",
       "      <th>54226</th>\n",
       "      <td>A00953:90:HC23FDSXY:3:1102:10755:20744</td>\n",
       "      <td>141</td>\n",
       "      <td>*</td>\n",
       "      <td>0</td>\n",
       "      <td>0</td>\n",
       "      <td>*</td>\n",
       "    </tr>\n",
       "    <tr>\n",
       "      <th>54227</th>\n",
       "      <td>A00953:90:HC23FDSXY:3:1104:11912:30671</td>\n",
       "      <td>77</td>\n",
       "      <td>*</td>\n",
       "      <td>0</td>\n",
       "      <td>0</td>\n",
       "      <td>*</td>\n",
       "    </tr>\n",
       "    <tr>\n",
       "      <th>54228</th>\n",
       "      <td>A00953:90:HC23FDSXY:3:1104:11912:30671</td>\n",
       "      <td>141</td>\n",
       "      <td>*</td>\n",
       "      <td>0</td>\n",
       "      <td>0</td>\n",
       "      <td>*</td>\n",
       "    </tr>\n",
       "    <tr>\n",
       "      <th>54229</th>\n",
       "      <td>A00953:90:HC23FDSXY:3:1104:2166:14043</td>\n",
       "      <td>77</td>\n",
       "      <td>*</td>\n",
       "      <td>0</td>\n",
       "      <td>0</td>\n",
       "      <td>*</td>\n",
       "    </tr>\n",
       "    <tr>\n",
       "      <th>...</th>\n",
       "      <td>...</td>\n",
       "      <td>...</td>\n",
       "      <td>...</td>\n",
       "      <td>...</td>\n",
       "      <td>...</td>\n",
       "      <td>...</td>\n",
       "    </tr>\n",
       "    <tr>\n",
       "      <th>59995</th>\n",
       "      <td>A00953:90:HC23FDSXY:3:2171:23737:36245</td>\n",
       "      <td>77</td>\n",
       "      <td>*</td>\n",
       "      <td>0</td>\n",
       "      <td>0</td>\n",
       "      <td>*</td>\n",
       "    </tr>\n",
       "    <tr>\n",
       "      <th>59996</th>\n",
       "      <td>A00953:90:HC23FDSXY:3:2171:23737:36245</td>\n",
       "      <td>141</td>\n",
       "      <td>*</td>\n",
       "      <td>0</td>\n",
       "      <td>0</td>\n",
       "      <td>*</td>\n",
       "    </tr>\n",
       "    <tr>\n",
       "      <th>59997</th>\n",
       "      <td>A00953:90:HC23FDSXY:3:2202:29722:9972</td>\n",
       "      <td>77</td>\n",
       "      <td>*</td>\n",
       "      <td>0</td>\n",
       "      <td>0</td>\n",
       "      <td>*</td>\n",
       "    </tr>\n",
       "    <tr>\n",
       "      <th>59998</th>\n",
       "      <td>A00953:90:HC23FDSXY:3:2202:29722:9972</td>\n",
       "      <td>141</td>\n",
       "      <td>*</td>\n",
       "      <td>0</td>\n",
       "      <td>0</td>\n",
       "      <td>*</td>\n",
       "    </tr>\n",
       "    <tr>\n",
       "      <th>59999</th>\n",
       "      <td>A00953:90:HC23FDSXY:3:2202:29722:9972</td>\n",
       "      <td>77</td>\n",
       "      <td>*</td>\n",
       "      <td>0</td>\n",
       "      <td>0</td>\n",
       "      <td>*</td>\n",
       "    </tr>\n",
       "  </tbody>\n",
       "</table>\n",
       "<p>5775 rows × 6 columns</p>\n",
       "</div>"
      ],
      "text/plain": [
       "                                            0    1  2  3  4  5\n",
       "54225  A00953:90:HC23FDSXY:3:1102:10755:20744   77  *  0  0  *\n",
       "54226  A00953:90:HC23FDSXY:3:1102:10755:20744  141  *  0  0  *\n",
       "54227  A00953:90:HC23FDSXY:3:1104:11912:30671   77  *  0  0  *\n",
       "54228  A00953:90:HC23FDSXY:3:1104:11912:30671  141  *  0  0  *\n",
       "54229   A00953:90:HC23FDSXY:3:1104:2166:14043   77  *  0  0  *\n",
       "...                                       ...  ... .. .. .. ..\n",
       "59995  A00953:90:HC23FDSXY:3:2171:23737:36245   77  *  0  0  *\n",
       "59996  A00953:90:HC23FDSXY:3:2171:23737:36245  141  *  0  0  *\n",
       "59997   A00953:90:HC23FDSXY:3:2202:29722:9972   77  *  0  0  *\n",
       "59998   A00953:90:HC23FDSXY:3:2202:29722:9972  141  *  0  0  *\n",
       "59999   A00953:90:HC23FDSXY:3:2202:29722:9972   77  *  0  0  *\n",
       "\n",
       "[5775 rows x 6 columns]"
      ]
     },
     "execution_count": 32,
     "metadata": {},
     "output_type": "execute_result"
    }
   ],
   "source": [
    "sam[(sam[4] == 0) & (sam[2] == \"*\")]"
   ]
  },
  {
   "cell_type": "code",
   "execution_count": 38,
   "metadata": {
    "ExecuteTime": {
     "end_time": "2020-05-11T18:54:11.987700Z",
     "start_time": "2020-05-11T18:54:11.981475Z"
    }
   },
   "outputs": [
    {
     "name": "stdout",
     "output_type": "stream",
     "text": [
      "AAGCAGTGGTATCAACGCAGAGTACTGTTTATGGGGTGATGTGAG\n"
     ]
    }
   ],
   "source": [
    "print(\"AAGCAGTGGTATCAACGCAGAGTACTGTTTATGGGGTGATGTGAG\")"
   ]
  },
  {
   "cell_type": "code",
   "execution_count": 39,
   "metadata": {
    "ExecuteTime": {
     "end_time": "2020-05-11T18:54:20.543270Z",
     "start_time": "2020-05-11T18:54:20.539231Z"
    }
   },
   "outputs": [
    {
     "name": "stdout",
     "output_type": "stream",
     "text": [
      "45\n"
     ]
    }
   ],
   "source": [
    "print(len(\"AAGCAGTGGTATCAACGCAGAGTACTGTTTATGGGGTGATGTGAG\"))"
   ]
  },
  {
   "cell_type": "code",
   "execution_count": 43,
   "metadata": {
    "ExecuteTime": {
     "end_time": "2020-05-11T19:39:06.231504Z",
     "start_time": "2020-05-11T19:39:06.227663Z"
    }
   },
   "outputs": [
    {
     "name": "stdout",
     "output_type": "stream",
     "text": [
      "cellranger count --id=bc5prime_A_MT_c5p_pe_lanes --fastqs=/data2/isshamie/mito_lineage/data/processed/200403_A00953_0090_BHC23FDSXY/trim_v03 --transcriptome=/data2/isshamie/mito_lineage/external/genome/MT_genome/MT_GRCh38/ --chemistry SC5P-PE --sample trimmed_BC_5Prime_031020_A_1,trimmed_BC_5Prime_031020_A_2,trimmed_BC_5Prime_031020_A_3,trimmed_BC_5Prime_031020_A_4 --localcores 32\n"
     ]
    }
   ],
   "source": [
    "cmd = \"cellranger count --id=bc5prime_A_MT_c5p_pe_lanes --fastqs=/data2/isshamie/mito_lineage/data/processed/200403_A00953_0090_BHC23FDSXY/trim_v03 --transcriptome=/data2/isshamie/mito_lineage/external/genome/MT_genome/MT_GRCh38/ --chemistry SC5P-PE --sample trimmed_BC_5Prime_031020_A_1,trimmed_BC_5Prime_031020_A_2,trimmed_BC_5Prime_031020_A_3,trimmed_BC_5Prime_031020_A_4 --localcores 32\"\n",
    "print(cmd)"
   ]
  },
  {
   "cell_type": "code",
   "execution_count": 40,
   "metadata": {
    "ExecuteTime": {
     "end_time": "2020-05-11T18:55:32.348728Z",
     "start_time": "2020-05-11T18:55:32.344477Z"
    }
   },
   "outputs": [
    {
     "name": "stdout",
     "output_type": "stream",
     "text": [
      "25\n"
     ]
    }
   ],
   "source": [
    "print(len(\"AAGCAGTGGTATCAACGCAGAGTAC\"))"
   ]
  }
 ],
 "metadata": {
  "kernelspec": {
   "display_name": "Python 3",
   "language": "python",
   "name": "python3"
  },
  "language_info": {
   "codemirror_mode": {
    "name": "ipython",
    "version": 3
   },
   "file_extension": ".py",
   "mimetype": "text/x-python",
   "name": "python",
   "nbconvert_exporter": "python",
   "pygments_lexer": "ipython3",
   "version": "3.7.3"
  }
 },
 "nbformat": 4,
 "nbformat_minor": 2
}
