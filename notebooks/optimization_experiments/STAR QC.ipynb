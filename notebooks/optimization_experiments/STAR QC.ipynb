{
 "cells": [
  {
   "cell_type": "markdown",
   "metadata": {},
   "source": [
    "## Notebook for some of the commands tried "
   ]
  },
  {
   "cell_type": "markdown",
   "metadata": {},
   "source": [
    "## Getting bamCoverage on the trimmed cellranger count bam files"
   ]
  },
  {
   "cell_type": "markdown",
   "metadata": {},
   "source": [
    "## Run STAR with the same parameters cellranger used\n",
    "STAR_2.5.1b was used\n",
    "### Concatenate fastq"
   ]
  },
  {
   "cell_type": "code",
   "execution_count": 1,
   "metadata": {
    "ExecuteTime": {
     "end_time": "2020-05-12T01:44:52.315731Z",
     "start_time": "2020-05-12T01:44:52.312414Z"
    }
   },
   "outputs": [],
   "source": [
    "import os\n",
    "from os.path import join, basename, dirname"
   ]
  },
  {
   "cell_type": "markdown",
   "metadata": {},
   "source": [
    "## File names"
   ]
  },
  {
   "cell_type": "code",
   "execution_count": 2,
   "metadata": {
    "ExecuteTime": {
     "end_time": "2020-05-12T01:44:52.337811Z",
     "start_time": "2020-05-12T01:44:52.329132Z"
    }
   },
   "outputs": [],
   "source": [
    "genomedir = \"/data2/genome/human_GRCh38/cellranger/refdata-cellranger-GRCh38-3.0.0/star\"\n",
    "indir = \"/data2/isshamie/mito_lineage/data/processed/200403_A00953_0090_BHC23FDSXY/trim/\"\n",
    "\n",
    "outdir = join(indir, \"homebrew/\")\n",
    "if not os.path.exists(outdir):\n",
    "    os.mkdir(outdir)\n",
    "outdir = join(outdir, \"bam/\")\n",
    "if not os.path.exists(outdir):\n",
    "    os.mkdir(outdir)\n",
    "\n",
    "    \n",
    "ID = \"bc5prime_A\"\n",
    "f1 = join(indir,\"trimmed_BC_5Prime_031020_A_R1.concat.fastq\")\n",
    "f2 = join(indir,\"trimmed_BC_5Prime_031020_A_R2.concat.fastq\")\n",
    "\n",
    "# Concatenate \n",
    "# ID = \"bc5prime_A_1\"\n",
    "# f1 = join(indir,\"trimmed_BC_5Prime_031020_A_1_S173_L003_R1_001.fastq\")\n",
    "# f2 = join(indir,\"trimmed_BC_5Prime_031020_A_1_S173_L003_R2_001.fastq\")"
   ]
  },
  {
   "cell_type": "markdown",
   "metadata": {},
   "source": [
    "## Run cutadapt properly\n"
   ]
  },
  {
   "cell_type": "code",
   "execution_count": 3,
   "metadata": {
    "ExecuteTime": {
     "end_time": "2020-05-12T01:44:52.350100Z",
     "start_time": "2020-05-12T01:44:52.341006Z"
    }
   },
   "outputs": [],
   "source": [
    "indir = \"/data2/isshamie/mito_lineage/data/raw/200403_A00953_0090_BHC23FDSXY/\"\n",
    "A1_R1 = \"BC_5Prime_031020_A_1_S173_L003_R1_001.fastq.gz\"\n",
    "A1_R2 = \"BC_5Prime_031020_A_1_S173_L003_R2_001.fastq.gz\"\n",
    "\n",
    "outdir = \"/data2/isshamie/mito_lineage/data/processed/200403_A00953_0090_BHC23FDSXY/trim_v04/\"\n",
    "if not os.path.exists(outdir):\n",
    "    os.mkdir(outdir)\n",
    "trim_A1_R1 = \"trimmed_\" + A1_R1\n",
    "trim_A1_R2 = \"trimmed_\" + A1_R2\n",
    "\n",
    "\n",
    "A1_R1 = join(indir,A1_R1)\n",
    "A1_R2 = join(indir,A1_R2)\n",
    "\n",
    "trim_A1_R1 = join(outdir,trim_A1_R1)\n",
    "trim_A1_R2 = join(outdir,trim_A1_R2)"
   ]
  },
  {
   "cell_type": "code",
   "execution_count": 4,
   "metadata": {
    "ExecuteTime": {
     "end_time": "2020-05-12T02:18:04.382187Z",
     "start_time": "2020-05-12T01:44:52.353585Z"
    },
    "scrolled": true
   },
   "outputs": [
    {
     "name": "stdout",
     "output_type": "stream",
     "text": [
      "cutadapt -g AAGCAGTGGTATCAACGCAGAGTAC --minimum-length 20 --cores=16 -o tmp.1.fastq -p tmp.2.fastq /data2/isshamie/mito_lineage/data/raw/200403_A00953_0090_BHC23FDSXY/BC_5Prime_031020_A_1_S173_L003_R1_001.fastq.gz /data2/isshamie/mito_lineage/data/raw/200403_A00953_0090_BHC23FDSXY/BC_5Prime_031020_A_1_S173_L003_R2_001.fastq.gz\n",
      "This is cutadapt 2.9 with Python 3.7.3\n",
      "Command line parameters: -g AAGCAGTGGTATCAACGCAGAGTAC --minimum-length 20 --cores=16 -o tmp.1.fastq -p tmp.2.fastq /data2/isshamie/mito_lineage/data/raw/200403_A00953_0090_BHC23FDSXY/BC_5Prime_031020_A_1_S173_L003_R1_001.fastq.gz /data2/isshamie/mito_lineage/data/raw/200403_A00953_0090_BHC23FDSXY/BC_5Prime_031020_A_1_S173_L003_R2_001.fastq.gz\n",
      "Processing reads on 16 cores in paired-end mode ...\n",
      "[          8<] 00:03:01    14,208,130 reads  @     12.8 µs/read;   4.70 M reads/minute\n",
      "Finished in 181.41 s (13 us/read; 4.70 M reads/minute).\n",
      "\n",
      "=== Summary ===\n",
      "\n",
      "Total read pairs processed:         14,208,130\n",
      "  Read 1 with adapter:                 438,645 (3.1%)\n",
      "  Read 2 with adapter:                       0 (0.0%)\n",
      "Pairs written (passing filters):    14,206,363 (100.0%)\n",
      "\n",
      "Total basepairs processed: 2,870,042,260 bp\n",
      "  Read 1: 1,435,021,130 bp\n",
      "  Read 2: 1,435,021,130 bp\n",
      "Total written (filtered):  2,867,992,946 bp (99.9%)\n",
      "  Read 1: 1,433,150,283 bp\n",
      "  Read 2: 1,434,842,663 bp\n",
      "\n",
      "=== First read: Adapter 1 ===\n",
      "\n",
      "Sequence: AAGCAGTGGTATCAACGCAGAGTAC; Type: regular 5'; Length: 25; Trimmed: 438645 times\n",
      "\n",
      "No. of allowed errors:\n",
      "0-9 bp: 0; 10-19 bp: 1; 20-25 bp: 2\n",
      "\n",
      "Overview of removed sequences\n",
      "length\tcount\texpect\tmax.err\terror counts\n",
      "3\t340410\t222002.0\t0\t340410\n",
      "4\t85815\t55500.5\t0\t85815\n",
      "5\t119\t13875.1\t0\t119\n",
      "6\t74\t3468.8\t0\t74\n",
      "7\t4\t867.2\t0\t4\n",
      "8\t5\t216.8\t0\t5\n",
      "9\t9\t54.2\t0\t9\n",
      "10\t44\t13.5\t1\t5 39\n",
      "11\t2576\t3.4\t1\t27 2549\n",
      "12\t1253\t0.8\t1\t17 1236\n",
      "13\t16\t0.2\t1\t16\n",
      "14\t18\t0.1\t1\t6 12\n",
      "15\t12\t0.0\t1\t12\n",
      "16\t8\t0.0\t1\t7 1\n",
      "17\t11\t0.0\t1\t10 1\n",
      "18\t28\t0.0\t1\t28\n",
      "19\t3\t0.0\t1\t3\n",
      "20\t54\t0.0\t2\t46 5 3\n",
      "21\t80\t0.0\t2\t57 18 5\n",
      "22\t49\t0.0\t2\t24 20 5\n",
      "23\t163\t0.0\t2\t141 11 11\n",
      "24\t137\t0.0\t2\t64 57 16\n",
      "25\t2271\t0.0\t2\t2195 66 10\n",
      "26\t72\t0.0\t2\t54 15 3\n",
      "27\t28\t0.0\t2\t9 14 5\n",
      "28\t133\t0.0\t2\t76 31 26\n",
      "29\t117\t0.0\t2\t74 34 9\n",
      "30\t3\t0.0\t2\t1 1 1\n",
      "31\t33\t0.0\t2\t27 5 1\n",
      "32\t8\t0.0\t2\t1 3 4\n",
      "33\t23\t0.0\t2\t11 7 5\n",
      "34\t23\t0.0\t2\t21 2\n",
      "35\t17\t0.0\t2\t7 7 3\n",
      "36\t22\t0.0\t2\t17 2 3\n",
      "37\t34\t0.0\t2\t24 10\n",
      "38\t26\t0.0\t2\t9 12 5\n",
      "39\t16\t0.0\t2\t7 5 4\n",
      "40\t34\t0.0\t2\t11 14 9\n",
      "41\t19\t0.0\t2\t8 11\n",
      "42\t53\t0.0\t2\t18 23 12\n",
      "43\t47\t0.0\t2\t10 31 6\n",
      "44\t40\t0.0\t2\t26 14\n",
      "45\t49\t0.0\t2\t23 24 2\n",
      "46\t44\t0.0\t2\t10 14 20\n",
      "47\t44\t0.0\t2\t16 21 7\n",
      "48\t35\t0.0\t2\t21 9 5\n",
      "49\t58\t0.0\t2\t22 19 17\n",
      "50\t55\t0.0\t2\t19 16 20\n",
      "51\t89\t0.0\t2\t40 28 21\n",
      "52\t78\t0.0\t2\t26 21 31\n",
      "53\t73\t0.0\t2\t44 16 13\n",
      "54\t100\t0.0\t2\t52 25 23\n",
      "55\t71\t0.0\t2\t37 19 15\n",
      "56\t85\t0.0\t2\t44 11 30\n",
      "57\t84\t0.0\t2\t53 11 20\n",
      "58\t103\t0.0\t2\t61 10 32\n",
      "59\t76\t0.0\t2\t45 4 27\n",
      "60\t125\t0.0\t2\t97 8 20\n",
      "61\t207\t0.0\t2\t20 35 152\n",
      "62\t164\t0.0\t2\t14 12 138\n",
      "63\t80\t0.0\t2\t37 25 18\n",
      "64\t237\t0.0\t2\t213 9 15\n",
      "65\t43\t0.0\t2\t21 7 15\n",
      "66\t41\t0.0\t2\t18 0 23\n",
      "67\t47\t0.0\t2\t28 5 14\n",
      "68\t44\t0.0\t2\t22 4 18\n",
      "69\t49\t0.0\t2\t31 3 15\n",
      "70\t55\t0.0\t2\t33 5 17\n",
      "71\t69\t0.0\t2\t42 12 15\n",
      "72\t55\t0.0\t2\t26 16 13\n",
      "73\t56\t0.0\t2\t29 9 18\n",
      "74\t71\t0.0\t2\t39 10 22\n",
      "75\t64\t0.0\t2\t48 7 9\n",
      "76\t73\t0.0\t2\t53 9 11\n",
      "77\t85\t0.0\t2\t60 11 14\n",
      "78\t63\t0.0\t2\t43 8 12\n",
      "79\t95\t0.0\t2\t66 14 15\n",
      "80\t91\t0.0\t2\t63 13 15\n",
      "81\t113\t0.0\t2\t78 20 15\n",
      "82\t113\t0.0\t2\t78 18 17\n",
      "83\t148\t0.0\t2\t105 24 19\n",
      "84\t148\t0.0\t2\t99 24 25\n",
      "85\t146\t0.0\t2\t102 34 10\n",
      "86\t178\t0.0\t2\t114 35 29\n",
      "87\t145\t0.0\t2\t99 24 22\n",
      "88\t168\t0.0\t2\t119 32 17\n",
      "89\t136\t0.0\t2\t110 19 7\n",
      "90\t136\t0.0\t2\t91 22 23\n",
      "91\t132\t0.0\t2\t96 23 13\n",
      "92\t124\t0.0\t2\t87 22 15\n",
      "93\t68\t0.0\t2\t50 14 4\n",
      "94\t78\t0.0\t2\t62 13 3\n",
      "95\t15\t0.0\t2\t14 0 1\n",
      "96\t4\t0.0\t2\t3 0 1\n",
      "97\t1\t0.0\t2\t1\n",
      "98\t4\t0.0\t2\t1 2 1\n",
      "99\t5\t0.0\t2\t2 1 2\n",
      "100\t7\t0.0\t2\t6 0 1\n",
      "101\t11\t0.0\t2\t4 6 1\n",
      "cutadapt -q 15 -g AAGCAGTGGTATCAACGCAGAGTAC --minimum-length 20 -o /data2/isshamie/mito_lineage/data/processed/200403_A00953_0090_BHC23FDSXY/trim_v04/trimmed_BC_5Prime_031020_A_1_S173_L003_R2_001.fastq.gz -p /data2/isshamie/mito_lineage/data/processed/200403_A00953_0090_BHC23FDSXY/trim_v04/trimmed_BC_5Prime_031020_A_1_S173_L003_R1_001.fastq.gz tmp.2.fastq tmp.1.fastq\n",
      "This is cutadapt 2.9 with Python 3.7.3\n",
      "Command line parameters: -q 15 -g AAGCAGTGGTATCAACGCAGAGTAC --minimum-length 20 -o /data2/isshamie/mito_lineage/data/processed/200403_A00953_0090_BHC23FDSXY/trim_v04/trimmed_BC_5Prime_031020_A_1_S173_L003_R2_001.fastq.gz -p /data2/isshamie/mito_lineage/data/processed/200403_A00953_0090_BHC23FDSXY/trim_v04/trimmed_BC_5Prime_031020_A_1_S173_L003_R1_001.fastq.gz tmp.2.fastq tmp.1.fastq\n",
      "Processing reads on 1 core in paired-end mode ...\n",
      "[--------=8  ] 00:30:08    14,206,363 reads  @    127.3 µs/read;   0.47 M reads/minute\n",
      "Finished in 1808.50 s (127 us/read; 0.47 M reads/minute).\n",
      "\n",
      "=== Summary ===\n",
      "\n",
      "Total read pairs processed:         14,206,363\n",
      "  Read 1 with adapter:              13,812,300 (97.2%)\n",
      "  Read 2 with adapter:                       0 (0.0%)\n",
      "Pairs written (passing filters):    14,179,444 (99.8%)\n",
      "\n",
      "Total basepairs processed: 2,867,992,946 bp\n",
      "  Read 1: 1,434,842,663 bp\n",
      "  Read 2: 1,433,150,283 bp\n",
      "Quality-trimmed:              18,725,896 bp (0.7%)\n",
      "  Read 1:    16,157,541 bp\n",
      "  Read 2:     2,568,355 bp\n",
      "Total written (filtered):  2,505,379,932 bp (87.4%)\n",
      "  Read 1: 1,077,499,307 bp\n",
      "  Read 2: 1,427,880,625 bp\n",
      "\n",
      "=== First read: Adapter 1 ===\n",
      "\n",
      "Sequence: AAGCAGTGGTATCAACGCAGAGTAC; Type: regular 5'; Length: 25; Trimmed: 13812300 times\n",
      "\n",
      "No. of allowed errors:\n",
      "0-9 bp: 0; 10-19 bp: 1; 20-25 bp: 2\n",
      "\n",
      "Overview of removed sequences\n",
      "length\tcount\texpect\tmax.err\terror counts\n",
      "3\t1153\t221974.4\t0\t1153\n",
      "4\t554\t55493.6\t0\t554\n",
      "5\t740\t13873.4\t0\t740\n",
      "6\t9764\t3468.4\t0\t9764\n",
      "7\t799\t867.1\t0\t799\n",
      "8\t3026\t216.8\t0\t3026\n",
      "9\t4008\t54.2\t0\t3977 31\n",
      "10\t1788\t13.5\t1\t1732 56\n",
      "11\t8153\t3.4\t1\t8011 142\n",
      "12\t14631\t0.8\t1\t14331 300\n",
      "13\t16810\t0.2\t1\t16570 240\n",
      "14\t4636\t0.1\t1\t4455 181\n",
      "15\t28646\t0.0\t1\t28302 344\n",
      "16\t7884\t0.0\t1\t7561 323\n",
      "17\t19408\t0.0\t1\t18699 709\n",
      "18\t70128\t0.0\t1\t68957 1131 40\n",
      "19\t12900\t0.0\t1\t11717 1118 65\n",
      "20\t142285\t0.0\t2\t138888 3078 319\n",
      "21\t104961\t0.0\t2\t101614 2666 681\n",
      "22\t85867\t0.0\t2\t76257 8383 1227\n",
      "23\t522601\t0.0\t2\t501268 14669 6664\n",
      "24\t327069\t0.0\t2\t246193 77705 3171\n",
      "25\t12364919\t0.0\t2\t12125885 225926 13108\n",
      "26\t51447\t0.0\t2\t11692 38149 1606\n",
      "27\t969\t0.0\t2\t25 32 912\n",
      "28\t12\t0.0\t2\t6 3 3\n",
      "29\t16\t0.0\t2\t10 3 3\n",
      "30\t21\t0.0\t2\t19 1 1\n",
      "31\t16\t0.0\t2\t10 2 4\n",
      "32\t25\t0.0\t2\t20 4 1\n",
      "33\t67\t0.0\t2\t54 6 7\n",
      "34\t48\t0.0\t2\t29 15 4\n",
      "35\t107\t0.0\t2\t88 16 3\n",
      "36\t29\t0.0\t2\t18 3 8\n",
      "37\t106\t0.0\t2\t28 73 5\n",
      "38\t119\t0.0\t2\t100 16 3\n",
      "39\t224\t0.0\t2\t84 133 7\n",
      "40\t44\t0.0\t2\t24 7 13\n",
      "41\t52\t0.0\t2\t35 10 7\n",
      "42\t231\t0.0\t2\t185 37 9\n",
      "43\t116\t0.0\t2\t102 11 3\n",
      "44\t104\t0.0\t2\t60 38 6\n",
      "45\t235\t0.0\t2\t186 19 30\n",
      "46\t176\t0.0\t2\t136 35 5\n",
      "47\t792\t0.0\t2\t765 25 2\n",
      "48\t154\t0.0\t2\t143 9 2\n",
      "49\t57\t0.0\t2\t53 3 1\n",
      "50\t56\t0.0\t2\t50 5 1\n",
      "51\t62\t0.0\t2\t51 8 3\n",
      "52\t57\t0.0\t2\t49 6 2\n",
      "53\t64\t0.0\t2\t54 4 6\n",
      "54\t72\t0.0\t2\t57 9 6\n",
      "55\t77\t0.0\t2\t66 9 2\n",
      "56\t86\t0.0\t2\t70 12 4\n",
      "57\t95\t0.0\t2\t64 8 23\n",
      "58\t63\t0.0\t2\t56 5 2\n",
      "59\t81\t0.0\t2\t63 16 2\n",
      "60\t90\t0.0\t2\t70 14 6\n",
      "61\t90\t0.0\t2\t71 12 7\n",
      "62\t66\t0.0\t2\t54 7 5\n",
      "63\t90\t0.0\t2\t74 11 5\n",
      "64\t89\t0.0\t2\t75 10 4\n",
      "65\t124\t0.0\t2\t93 23 8\n",
      "66\t97\t0.0\t2\t81 13 3\n",
      "67\t114\t0.0\t2\t93 13 8\n",
      "68\t94\t0.0\t2\t71 16 7\n",
      "69\t60\t0.0\t2\t43 15 2\n",
      "70\t63\t0.0\t2\t40 20 3\n",
      "71\t46\t0.0\t2\t26 17 3\n",
      "72\t49\t0.0\t2\t21 23 5\n",
      "73\t68\t0.0\t2\t42 21 5\n",
      "74\t50\t0.0\t2\t37 12 1\n",
      "75\t59\t0.0\t2\t41 12 6\n",
      "76\t55\t0.0\t2\t38 15 2\n",
      "77\t47\t0.0\t2\t33 9 5\n",
      "78\t44\t0.0\t2\t37 4 3\n",
      "79\t54\t0.0\t2\t41 12 1\n",
      "80\t49\t0.0\t2\t38 9 2\n",
      "81\t52\t0.0\t2\t40 10 2\n",
      "82\t65\t0.0\t2\t53 9 3\n",
      "83\t58\t0.0\t2\t45 9 4\n",
      "84\t51\t0.0\t2\t38 9 4\n",
      "85\t65\t0.0\t2\t53 9 3\n",
      "86\t68\t0.0\t2\t59 4 5\n",
      "87\t75\t0.0\t2\t62 10 3\n",
      "88\t75\t0.0\t2\t60 11 4\n",
      "89\t71\t0.0\t2\t56 9 6\n",
      "90\t101\t0.0\t2\t89 9 3\n",
      "91\t91\t0.0\t2\t83 6 2\n",
      "92\t92\t0.0\t2\t80 8 4\n",
      "93\t85\t0.0\t2\t83 1 1\n",
      "94\t108\t0.0\t2\t97 4 7\n",
      "95\t113\t0.0\t2\t100 8 5\n",
      "96\t102\t0.0\t2\t94 6 2\n",
      "97\t140\t0.0\t2\t129 6 5\n",
      "98\t141\t0.0\t2\t130 6 5\n",
      "99\t140\t0.0\t2\t123 11 6\n",
      "100\t145\t0.0\t2\t131 9 5\n",
      "101\t354\t0.0\t2\t129 130 95\n",
      "rm tmp.1.fastq tmp.2.fastq\n"
     ]
    }
   ],
   "source": [
    "adaptor = 'AAGCAGTGGTATCAACGCAGAGTAC'\n",
    "cmd = f'cutadapt -g {adaptor} --minimum-length 20 --cores=16 -o tmp.1.fastq -p tmp.2.fastq {A1_R1} {A1_R2}'\n",
    "print(cmd)\n",
    "!{cmd}\n",
    "cmd = f\"cutadapt -q 15 -g {adaptor} --minimum-length 20 -o {trim_A1_R2} -p {trim_A1_R1} tmp.2.fastq tmp.1.fastq\"\n",
    "print(cmd)\n",
    "!{cmd}\n",
    "cmd = \"rm tmp.1.fastq tmp.2.fastq\"\n",
    "print(cmd)\n",
    "!{cmd}"
   ]
  },
  {
   "cell_type": "code",
   "execution_count": 4,
   "metadata": {
    "ExecuteTime": {
     "end_time": "2020-05-07T05:17:16.078728Z",
     "start_time": "2020-05-07T05:17:16.074149Z"
    }
   },
   "outputs": [],
   "source": [
    "# cmd = \"cat trimmed_BC_5Prime_031020_A_D_*R1*.fastq.gz > trimmed_BC_5Prime_031020_AD_R1.concat.fastq.gz\"\n",
    "# cmd = \"cat trimmed_BC_5Prime_031020_A_D_*R2*.fastq.gz > trimmed_BC_5Prime_031020_AD_R2.concat.fastq.gz\"\n",
    "# cmd = \"cat trimmed_BC_5Prime_031020_A_1_S173_L003_R1_001*fastq.gz trimmed_BC_5Prime_031020_A_2_S174_L003_R1_001*fastq.gz trimmed_BC_5Prime_031020_A_3_S175_L003_R1*fastq.gz trimmed_BC_5Prime_031020_A_4_S176_L003_R1_001*fastq.gz > trimmed_BC_5Prime_031020_A_R1.concat.fastq.gz\"\n",
    "# cmd = \"cat trimmed_BC_5Prime_031020_A_1_S173_L003_R2_001*fastq.gz trimmed_BC_5Prime_031020_A_2_S174_L003_R2_001*fastq.gz trimmed_BC_5Prime_031020_A_3_S175_L003_R2*fastq.gz trimmed_BC_5Prime_031020_A_4_S176_L003_R2_001*fastq.gz > trimmed_BC_5Prime_031020_A_R2.concat.fastq.gz\""
   ]
  },
  {
   "cell_type": "markdown",
   "metadata": {},
   "source": [
    "## Command\n",
    "(we need 2.5)"
   ]
  },
  {
   "cell_type": "code",
   "execution_count": 5,
   "metadata": {
    "ExecuteTime": {
     "end_time": "2020-05-07T05:17:16.202064Z",
     "start_time": "2020-05-07T05:17:16.080568Z"
    },
    "scrolled": false
   },
   "outputs": [
    {
     "name": "stdout",
     "output_type": "stream",
     "text": [
      "/home/isshamie/software/STAR-2.5.3a/bin/Linux_x86_64/STAR\r\n"
     ]
    }
   ],
   "source": [
    "!which STAR"
   ]
  },
  {
   "cell_type": "code",
   "execution_count": 27,
   "metadata": {
    "ExecuteTime": {
     "end_time": "2020-05-12T02:53:50.026352Z",
     "start_time": "2020-05-12T02:53:50.021385Z"
    },
    "scrolled": true
   },
   "outputs": [
    {
     "name": "stdout",
     "output_type": "stream",
     "text": [
      "STAR --runThreadN 4  --genomeDir /data2/genome/human_GRCh38/cellranger/refdata-cellranger-GRCh38-3.0.0/star  --readFilesIn /data2/isshamie/mito_lineage/data/processed/200403_A00953_0090_BHC23FDSXY/trim_v04/trimmed_BC_5Prime_031020_A_1_S173_L003_R1_001.fastq.gz /data2/isshamie/mito_lineage/data/processed/200403_A00953_0090_BHC23FDSXY/trim_v04/trimmed_BC_5Prime_031020_A_1_S173_L003_R2_001.fastq.gz --outFileNamePrefix /data2/isshamie/mito_lineage/data/processed/200403_A00953_0090_BHC23FDSXY/trim_v04/bc5prime_A --outSAMtype SAM   --readNameSeparator space --outStd Log --outSAMunmapped Within KeepPairs  --outSAMorder PairedKeepInputOrder --outSAMattrRGline ID:bc5prime_A:0:1:HC23FDSXY:3   SM:bc5prime_A LB:0.1 PU:bc5prime_A:0:1:HC23FDSXY:3 PL:ILLUMINA  --outSAMmultNmax 18446744073709551615\n"
     ]
    }
   ],
   "source": [
    "cmd = f\"STAR --runThreadN 4  --genomeDir {genomedir}  --readFilesIn {trim_A1_R1} {trim_A1_R2} --outFileNamePrefix {join(outdir, ID)} --outSAMtype SAM   --readNameSeparator space --outStd Log --outSAMunmapped Within KeepPairs  --outSAMorder PairedKeepInputOrder --outSAMattrRGline ID:{ID}:0:1:HC23FDSXY:3   SM:{ID} LB:0.1 PU:{ID}:0:1:HC23FDSXY:3 PL:ILLUMINA  --outSAMmultNmax 18446744073709551615\"\n",
    "print(cmd)\n",
    "#os.system(cmd)\n",
    "\n",
    "#!{cmd}"
   ]
  },
  {
   "cell_type": "markdown",
   "metadata": {},
   "source": [
    "### Run STAR with parameters for matching lowered"
   ]
  },
  {
   "cell_type": "code",
   "execution_count": 35,
   "metadata": {
    "ExecuteTime": {
     "end_time": "2020-05-13T00:02:41.076481Z",
     "start_time": "2020-05-13T00:02:41.071440Z"
    }
   },
   "outputs": [
    {
     "name": "stdout",
     "output_type": "stream",
     "text": [
      "STAR --runThreadN 4  --genomeDir /data2/genome/human_GRCh38/cellranger/refdata-cellranger-GRCh38-3.0.0/star  --readFilesIn /data2/isshamie/mito_lineage/data/processed/200403_A00953_0090_BHC23FDSXY/trim_v04/trimmed_BC_5Prime_031020_A_1_S173_L003_R1_001.fastq.gz /data2/isshamie/mito_lineage/data/processed/200403_A00953_0090_BHC23FDSXY/trim_v04/trimmed_BC_5Prime_031020_A_1_S173_L003_R2_001.fastq.gz --outFileNamePrefix /data2/isshamie/mito_lineage/data/processed/200403_A00953_0090_BHC23FDSXY/trim_v04/bc5prime_A.lowerParams --outSAMtype SAM   --readNameSeparator space --outStd Log --outSAMunmapped Within KeepPairs  --outSAMorder PairedKeepInputOrder --outSAMattrRGline ID:bc5prime_A:0:1:HC23FDSXY:3   SM:bc5prime_A LB:0.1 PU:bc5prime_A:0:1:HC23FDSXY:3 PL:ILLUMINA  --outSAMmultNmax 18446744073709551615 --outFilterScoreMinOverLread 0.1 --outFilterMatchNminOverLread 0.1\n"
     ]
    }
   ],
   "source": [
    "cmd = f\"STAR --runThreadN 4  --genomeDir {genomedir}  --readFilesIn {trim_A1_R1} {trim_A1_R2} --outFileNamePrefix {join(outdir, ID+'.lowerParams')} --outSAMtype SAM   --readNameSeparator space --outStd Log --outSAMunmapped Within KeepPairs  --outSAMorder PairedKeepInputOrder --outSAMattrRGline ID:{ID}:0:1:HC23FDSXY:3   SM:{ID} LB:0.1 PU:{ID}:0:1:HC23FDSXY:3 PL:ILLUMINA  --outSAMmultNmax 18446744073709551615\"\n",
    "\n",
    "add_params = \" --outFilterScoreMinOverLread 0.1 --outFilterMatchNminOverLread 0.1\"\n",
    "cmd = cmd + add_params\n",
    "print(cmd)"
   ]
  },
  {
   "cell_type": "markdown",
   "metadata": {},
   "source": [
    "## Run"
   ]
  },
  {
   "cell_type": "markdown",
   "metadata": {},
   "source": [
    "## Bamcoverage"
   ]
  },
  {
   "cell_type": "markdown",
   "metadata": {},
   "source": [
    "cmd = \"mkdir bamcoverage\"\n",
    "cmd = 'bamCoverage -b bc5prime_fiveprime_A_1/outs/possorted_genome_bam.bam -o bamcoverage/bc5prime_fiveprime_A_1.bw -p 20'\n",
    "cmd = \"bamCoverage -b bc5prime_sc5p_pe_lanes/outs/possorted_genome_bam.bam -o bamcoverage/bc5prime_sc5p_pe_lanes -p 20\""
   ]
  },
  {
   "cell_type": "code",
   "execution_count": null,
   "metadata": {
    "ExecuteTime": {
     "end_time": "2020-05-07T04:37:29.297702Z",
     "start_time": "2020-05-07T04:15:41.425Z"
    }
   },
   "outputs": [],
   "source": [
    "bamcoverage_dir = join(outdir,\"bamcov\")\n",
    "for i in glob.glob(outidr + \"/*.bam\"):\n",
    "    cmd =  f\"bamCoverage {i} -o {join(bamcoverage_dir,basename(i)+'.bw')} -p 10\"\n",
    "    print(cmd)"
   ]
  },
  {
   "cell_type": "code",
   "execution_count": null,
   "metadata": {},
   "outputs": [],
   "source": []
  },
  {
   "cell_type": "code",
   "execution_count": null,
   "metadata": {},
   "outputs": [],
   "source": []
  },
  {
   "cell_type": "markdown",
   "metadata": {},
   "source": [
    "## Plot mapq values (take first 60000)"
   ]
  },
  {
   "cell_type": "code",
   "execution_count": 6,
   "metadata": {
    "ExecuteTime": {
     "end_time": "2020-05-12T02:34:54.678667Z",
     "start_time": "2020-05-12T02:34:52.084407Z"
    }
   },
   "outputs": [],
   "source": [
    "import pandas as pd\n",
    "import numpy as np\n",
    "import seaborn as sns\n",
    "%matplotlib inline"
   ]
  },
  {
   "cell_type": "code",
   "execution_count": 7,
   "metadata": {
    "ExecuteTime": {
     "end_time": "2020-05-12T02:35:00.426908Z",
     "start_time": "2020-05-12T02:35:00.121800Z"
    },
    "scrolled": false
   },
   "outputs": [
    {
     "data": {
      "text/html": [
       "<div>\n",
       "<style scoped>\n",
       "    .dataframe tbody tr th:only-of-type {\n",
       "        vertical-align: middle;\n",
       "    }\n",
       "\n",
       "    .dataframe tbody tr th {\n",
       "        vertical-align: top;\n",
       "    }\n",
       "\n",
       "    .dataframe thead th {\n",
       "        text-align: right;\n",
       "    }\n",
       "</style>\n",
       "<table border=\"1\" class=\"dataframe\">\n",
       "  <thead>\n",
       "    <tr style=\"text-align: right;\">\n",
       "      <th></th>\n",
       "      <th>0</th>\n",
       "      <th>1</th>\n",
       "      <th>2</th>\n",
       "      <th>3</th>\n",
       "      <th>4</th>\n",
       "      <th>5</th>\n",
       "    </tr>\n",
       "  </thead>\n",
       "  <tbody>\n",
       "    <tr>\n",
       "      <th>0</th>\n",
       "      <td>A00953:90:HC23FDSXY:3:2524:26928:34695</td>\n",
       "      <td>1171</td>\n",
       "      <td>12</td>\n",
       "      <td>122981133</td>\n",
       "      <td>255</td>\n",
       "      <td>101M</td>\n",
       "    </tr>\n",
       "    <tr>\n",
       "      <th>1</th>\n",
       "      <td>A00953:90:HC23FDSXY:3:1403:24207:32487</td>\n",
       "      <td>163</td>\n",
       "      <td>12</td>\n",
       "      <td>123428838</td>\n",
       "      <td>255</td>\n",
       "      <td>89M12S</td>\n",
       "    </tr>\n",
       "    <tr>\n",
       "      <th>2</th>\n",
       "      <td>A00953:90:HC23FDSXY:3:1403:24207:32487</td>\n",
       "      <td>163</td>\n",
       "      <td>12</td>\n",
       "      <td>123428838</td>\n",
       "      <td>255</td>\n",
       "      <td>89M12S</td>\n",
       "    </tr>\n",
       "    <tr>\n",
       "      <th>3</th>\n",
       "      <td>A00953:90:HC23FDSXY:3:1650:16504:6590</td>\n",
       "      <td>163</td>\n",
       "      <td>12</td>\n",
       "      <td>123428838</td>\n",
       "      <td>255</td>\n",
       "      <td>89M12S</td>\n",
       "    </tr>\n",
       "    <tr>\n",
       "      <th>4</th>\n",
       "      <td>A00953:90:HC23FDSXY:3:1650:16504:6590</td>\n",
       "      <td>163</td>\n",
       "      <td>12</td>\n",
       "      <td>123428838</td>\n",
       "      <td>255</td>\n",
       "      <td>89M12S</td>\n",
       "    </tr>\n",
       "  </tbody>\n",
       "</table>\n",
       "</div>"
      ],
      "text/plain": [
       "                                        0     1   2          3    4       5\n",
       "0  A00953:90:HC23FDSXY:3:2524:26928:34695  1171  12  122981133  255    101M\n",
       "1  A00953:90:HC23FDSXY:3:1403:24207:32487   163  12  123428838  255  89M12S\n",
       "2  A00953:90:HC23FDSXY:3:1403:24207:32487   163  12  123428838  255  89M12S\n",
       "3   A00953:90:HC23FDSXY:3:1650:16504:6590   163  12  123428838  255  89M12S\n",
       "4   A00953:90:HC23FDSXY:3:1650:16504:6590   163  12  123428838  255  89M12S"
      ]
     },
     "execution_count": 7,
     "metadata": {},
     "output_type": "execute_result"
    }
   ],
   "source": [
    "sam_f = \"../data/processed/mttrace/A/00_bam/A.sam\"\n",
    "sam = pd.read_csv(sam_f,sep=\"\\t\",skiprows=10000,nrows=60000,header=None, comment=\"@\",usecols=np.arange(6))\n",
    "sam.head()"
   ]
  },
  {
   "cell_type": "code",
   "execution_count": 9,
   "metadata": {
    "ExecuteTime": {
     "end_time": "2020-05-12T02:35:12.157877Z",
     "start_time": "2020-05-12T02:35:12.154758Z"
    }
   },
   "outputs": [],
   "source": [
    "import matplotlib.pyplot as plt"
   ]
  },
  {
   "cell_type": "code",
   "execution_count": 10,
   "metadata": {
    "ExecuteTime": {
     "end_time": "2020-05-12T02:35:12.902432Z",
     "start_time": "2020-05-12T02:35:12.717742Z"
    }
   },
   "outputs": [
    {
     "data": {
      "text/plain": [
       "Text(0.5, 1.0, 'MAPQ')"
      ]
     },
     "execution_count": 10,
     "metadata": {},
     "output_type": "execute_result"
    },
    {
     "data": {
      "image/png": "[encoded data removed]",
      "text/plain": [
       "<Figure size 432x288 with 1 Axes>"
      ]
     },
     "metadata": {
      "needs_background": "light"
     },
     "output_type": "display_data"
    }
   ],
   "source": [
    "sns.countplot(sam[4])\n",
    "plt.title(\"MAPQ\")"
   ]
  },
  {
   "cell_type": "code",
   "execution_count": null,
   "metadata": {},
   "outputs": [],
   "source": [
    "Read Name\n",
    "SAM flag\n",
    "chromosome (if read is has no alignment, there will be a “*” here)\n",
    "position (1-based index, “left end of read”)\n",
    "MAPQ (mapping quality — describes the uniqueness of the alignment, 0=non-unique, >10 probably unique)\n",
    "CIGAR string (describes the position of insertions/deletions/matches in the alignment, encodes splice junctions, for example)\n",
    "Name of mate (mate pair information for paired-end sequencing, often “=”)\n",
    "Position of mate (mate pair information)\n",
    "Template length (always zero for me)\n",
    "Read Sequence\n",
    "Read Quality\n",
    "Program specific Flags (i.e. AS is an alignment score, NH is a number of reported alignments that contains the query in the current record)"
   ]
  },
  {
   "cell_type": "code",
   "execution_count": 15,
   "metadata": {
    "ExecuteTime": {
     "end_time": "2020-05-12T02:36:14.857376Z",
     "start_time": "2020-05-12T02:36:14.818203Z"
    },
    "scrolled": true
   },
   "outputs": [
    {
     "data": {
      "text/html": [
       "<div>\n",
       "<style scoped>\n",
       "    .dataframe tbody tr th:only-of-type {\n",
       "        vertical-align: middle;\n",
       "    }\n",
       "\n",
       "    .dataframe tbody tr th {\n",
       "        vertical-align: top;\n",
       "    }\n",
       "\n",
       "    .dataframe thead th {\n",
       "        text-align: right;\n",
       "    }\n",
       "</style>\n",
       "<table border=\"1\" class=\"dataframe\">\n",
       "  <thead>\n",
       "    <tr style=\"text-align: right;\">\n",
       "      <th></th>\n",
       "      <th>0</th>\n",
       "      <th>1</th>\n",
       "      <th>2</th>\n",
       "      <th>3</th>\n",
       "      <th>4</th>\n",
       "      <th>5</th>\n",
       "    </tr>\n",
       "  </thead>\n",
       "  <tbody>\n",
       "    <tr>\n",
       "      <th>9</th>\n",
       "      <td>A00953:90:HC23FDSXY:3:1275:25473:14700</td>\n",
       "      <td>419</td>\n",
       "      <td>12</td>\n",
       "      <td>124911769</td>\n",
       "      <td>0</td>\n",
       "      <td>15S61M</td>\n",
       "    </tr>\n",
       "    <tr>\n",
       "      <th>10</th>\n",
       "      <td>A00953:90:HC23FDSXY:3:1275:25473:14700</td>\n",
       "      <td>419</td>\n",
       "      <td>12</td>\n",
       "      <td>124911769</td>\n",
       "      <td>0</td>\n",
       "      <td>15S61M</td>\n",
       "    </tr>\n",
       "    <tr>\n",
       "      <th>19</th>\n",
       "      <td>A00953:90:HC23FDSXY:3:1428:16405:1658</td>\n",
       "      <td>419</td>\n",
       "      <td>12</td>\n",
       "      <td>124911922</td>\n",
       "      <td>0</td>\n",
       "      <td>14S62M</td>\n",
       "    </tr>\n",
       "    <tr>\n",
       "      <th>21</th>\n",
       "      <td>A00953:90:HC23FDSXY:3:1275:25473:14700</td>\n",
       "      <td>419</td>\n",
       "      <td>12</td>\n",
       "      <td>124911997</td>\n",
       "      <td>0</td>\n",
       "      <td>15S61M</td>\n",
       "    </tr>\n",
       "    <tr>\n",
       "      <th>22</th>\n",
       "      <td>A00953:90:HC23FDSXY:3:2350:10041:20071</td>\n",
       "      <td>419</td>\n",
       "      <td>12</td>\n",
       "      <td>124912052</td>\n",
       "      <td>0</td>\n",
       "      <td>101M</td>\n",
       "    </tr>\n",
       "    <tr>\n",
       "      <th>...</th>\n",
       "      <td>...</td>\n",
       "      <td>...</td>\n",
       "      <td>...</td>\n",
       "      <td>...</td>\n",
       "      <td>...</td>\n",
       "      <td>...</td>\n",
       "    </tr>\n",
       "    <tr>\n",
       "      <th>59995</th>\n",
       "      <td>A00953:90:HC23FDSXY:3:2171:23737:36245</td>\n",
       "      <td>77</td>\n",
       "      <td>*</td>\n",
       "      <td>0</td>\n",
       "      <td>0</td>\n",
       "      <td>*</td>\n",
       "    </tr>\n",
       "    <tr>\n",
       "      <th>59996</th>\n",
       "      <td>A00953:90:HC23FDSXY:3:2171:23737:36245</td>\n",
       "      <td>141</td>\n",
       "      <td>*</td>\n",
       "      <td>0</td>\n",
       "      <td>0</td>\n",
       "      <td>*</td>\n",
       "    </tr>\n",
       "    <tr>\n",
       "      <th>59997</th>\n",
       "      <td>A00953:90:HC23FDSXY:3:2202:29722:9972</td>\n",
       "      <td>77</td>\n",
       "      <td>*</td>\n",
       "      <td>0</td>\n",
       "      <td>0</td>\n",
       "      <td>*</td>\n",
       "    </tr>\n",
       "    <tr>\n",
       "      <th>59998</th>\n",
       "      <td>A00953:90:HC23FDSXY:3:2202:29722:9972</td>\n",
       "      <td>141</td>\n",
       "      <td>*</td>\n",
       "      <td>0</td>\n",
       "      <td>0</td>\n",
       "      <td>*</td>\n",
       "    </tr>\n",
       "    <tr>\n",
       "      <th>59999</th>\n",
       "      <td>A00953:90:HC23FDSXY:3:2202:29722:9972</td>\n",
       "      <td>77</td>\n",
       "      <td>*</td>\n",
       "      <td>0</td>\n",
       "      <td>0</td>\n",
       "      <td>*</td>\n",
       "    </tr>\n",
       "  </tbody>\n",
       "</table>\n",
       "<p>31266 rows × 6 columns</p>\n",
       "</div>"
      ],
      "text/plain": [
       "                                            0    1   2          3  4       5\n",
       "9      A00953:90:HC23FDSXY:3:1275:25473:14700  419  12  124911769  0  15S61M\n",
       "10     A00953:90:HC23FDSXY:3:1275:25473:14700  419  12  124911769  0  15S61M\n",
       "19      A00953:90:HC23FDSXY:3:1428:16405:1658  419  12  124911922  0  14S62M\n",
       "21     A00953:90:HC23FDSXY:3:1275:25473:14700  419  12  124911997  0  15S61M\n",
       "22     A00953:90:HC23FDSXY:3:2350:10041:20071  419  12  124912052  0    101M\n",
       "...                                       ...  ...  ..        ... ..     ...\n",
       "59995  A00953:90:HC23FDSXY:3:2171:23737:36245   77   *          0  0       *\n",
       "59996  A00953:90:HC23FDSXY:3:2171:23737:36245  141   *          0  0       *\n",
       "59997   A00953:90:HC23FDSXY:3:2202:29722:9972   77   *          0  0       *\n",
       "59998   A00953:90:HC23FDSXY:3:2202:29722:9972  141   *          0  0       *\n",
       "59999   A00953:90:HC23FDSXY:3:2202:29722:9972   77   *          0  0       *\n",
       "\n",
       "[31266 rows x 6 columns]"
      ]
     },
     "execution_count": 15,
     "metadata": {},
     "output_type": "execute_result"
    }
   ],
   "source": [
    "unmapped = sam[sam[4] == 0]\n",
    "unmapped\n"
   ]
  },
  {
   "cell_type": "code",
   "execution_count": 18,
   "metadata": {
    "ExecuteTime": {
     "end_time": "2020-05-12T02:36:58.550351Z",
     "start_time": "2020-05-12T02:36:58.544010Z"
    },
    "scrolled": true
   },
   "outputs": [
    {
     "name": "stdout",
     "output_type": "stream",
     "text": [
      "Number of duplicated reads: 27094\n"
     ]
    }
   ],
   "source": [
    "print(f\"Number of duplicated reads: {unmapped[0].duplicated().sum()}\")"
   ]
  },
  {
   "cell_type": "code",
   "execution_count": 20,
   "metadata": {
    "ExecuteTime": {
     "end_time": "2020-05-12T02:37:43.679577Z",
     "start_time": "2020-05-12T02:37:43.669904Z"
    },
    "scrolled": false
   },
   "outputs": [
    {
     "name": "stdout",
     "output_type": "stream",
     "text": [
      "Number of reads mapped to *: 5775\n"
     ]
    }
   ],
   "source": [
    "print(f\"Number of reads mapped to *: {(unmapped[2]=='*').sum()}\")"
   ]
  },
  {
   "cell_type": "code",
   "execution_count": 21,
   "metadata": {
    "ExecuteTime": {
     "end_time": "2020-05-12T02:38:23.647266Z",
     "start_time": "2020-05-12T02:38:13.307225Z"
    },
    "scrolled": false
   },
   "outputs": [
    {
     "data": {
      "text/plain": [
       "<matplotlib.axes._subplots.AxesSubplot at 0x7f4042309400>"
      ]
     },
     "execution_count": 21,
     "metadata": {},
     "output_type": "execute_result"
    },
    {
     "data": {
      "image/png": "[encoded data removed]",
      "text/plain": [
       "<Figure size 432x288 with 1 Axes>"
      ]
     },
     "metadata": {
      "needs_background": "light"
     },
     "output_type": "display_data"
    }
   ],
   "source": [
    "sns.countplot(unmapped[5])"
   ]
  },
  {
   "cell_type": "code",
   "execution_count": 35,
   "metadata": {
    "ExecuteTime": {
     "end_time": "2020-05-11T00:38:01.909101Z",
     "start_time": "2020-05-11T00:38:01.874007Z"
    },
    "scrolled": false
   },
   "outputs": [
    {
     "data": {
      "text/plain": [
       "26305"
      ]
     },
     "execution_count": 35,
     "metadata": {},
     "output_type": "execute_result"
    }
   ],
   "source": [
    "(~sam[sam[4] == 0].duplicated()).sum()"
   ]
  },
  {
   "cell_type": "code",
   "execution_count": 37,
   "metadata": {
    "ExecuteTime": {
     "end_time": "2020-05-11T00:38:42.549745Z",
     "start_time": "2020-05-11T00:38:42.441811Z"
    },
    "scrolled": false
   },
   "outputs": [
    {
     "data": {
      "text/plain": [
       "20909"
      ]
     },
     "execution_count": 37,
     "metadata": {},
     "output_type": "execute_result"
    }
   ],
   "source": [
    "((~sam[sam[4] == 0].duplicated()) & ~(sam[2]==\"*\")).sum()"
   ]
  },
  {
   "cell_type": "code",
   "execution_count": 32,
   "metadata": {
    "ExecuteTime": {
     "end_time": "2020-05-11T00:37:18.649497Z",
     "start_time": "2020-05-11T00:37:18.617058Z"
    },
    "scrolled": false
   },
   "outputs": [
    {
     "data": {
      "text/html": [
       "<div>\n",
       "<style scoped>\n",
       "    .dataframe tbody tr th:only-of-type {\n",
       "        vertical-align: middle;\n",
       "    }\n",
       "\n",
       "    .dataframe tbody tr th {\n",
       "        vertical-align: top;\n",
       "    }\n",
       "\n",
       "    .dataframe thead th {\n",
       "        text-align: right;\n",
       "    }\n",
       "</style>\n",
       "<table border=\"1\" class=\"dataframe\">\n",
       "  <thead>\n",
       "    <tr style=\"text-align: right;\">\n",
       "      <th></th>\n",
       "      <th>0</th>\n",
       "      <th>1</th>\n",
       "      <th>2</th>\n",
       "      <th>3</th>\n",
       "      <th>4</th>\n",
       "      <th>5</th>\n",
       "    </tr>\n",
       "  </thead>\n",
       "  <tbody>\n",
       "    <tr>\n",
       "      <th>54225</th>\n",
       "      <td>A00953:90:HC23FDSXY:3:1102:10755:20744</td>\n",
       "      <td>77</td>\n",
       "      <td>*</td>\n",
       "      <td>0</td>\n",
       "      <td>0</td>\n",
       "      <td>*</td>\n",
       "    </tr>\n",
       "    <tr>\n",
       "      <th>54226</th>\n",
       "      <td>A00953:90:HC23FDSXY:3:1102:10755:20744</td>\n",
       "      <td>141</td>\n",
       "      <td>*</td>\n",
       "      <td>0</td>\n",
       "      <td>0</td>\n",
       "      <td>*</td>\n",
       "    </tr>\n",
       "    <tr>\n",
       "      <th>54227</th>\n",
       "      <td>A00953:90:HC23FDSXY:3:1104:11912:30671</td>\n",
       "      <td>77</td>\n",
       "      <td>*</td>\n",
       "      <td>0</td>\n",
       "      <td>0</td>\n",
       "      <td>*</td>\n",
       "    </tr>\n",
       "    <tr>\n",
       "      <th>54228</th>\n",
       "      <td>A00953:90:HC23FDSXY:3:1104:11912:30671</td>\n",
       "      <td>141</td>\n",
       "      <td>*</td>\n",
       "      <td>0</td>\n",
       "      <td>0</td>\n",
       "      <td>*</td>\n",
       "    </tr>\n",
       "    <tr>\n",
       "      <th>54229</th>\n",
       "      <td>A00953:90:HC23FDSXY:3:1104:2166:14043</td>\n",
       "      <td>77</td>\n",
       "      <td>*</td>\n",
       "      <td>0</td>\n",
       "      <td>0</td>\n",
       "      <td>*</td>\n",
       "    </tr>\n",
       "    <tr>\n",
       "      <th>...</th>\n",
       "      <td>...</td>\n",
       "      <td>...</td>\n",
       "      <td>...</td>\n",
       "      <td>...</td>\n",
       "      <td>...</td>\n",
       "      <td>...</td>\n",
       "    </tr>\n",
       "    <tr>\n",
       "      <th>59995</th>\n",
       "      <td>A00953:90:HC23FDSXY:3:2171:23737:36245</td>\n",
       "      <td>77</td>\n",
       "      <td>*</td>\n",
       "      <td>0</td>\n",
       "      <td>0</td>\n",
       "      <td>*</td>\n",
       "    </tr>\n",
       "    <tr>\n",
       "      <th>59996</th>\n",
       "      <td>A00953:90:HC23FDSXY:3:2171:23737:36245</td>\n",
       "      <td>141</td>\n",
       "      <td>*</td>\n",
       "      <td>0</td>\n",
       "      <td>0</td>\n",
       "      <td>*</td>\n",
       "    </tr>\n",
       "    <tr>\n",
       "      <th>59997</th>\n",
       "      <td>A00953:90:HC23FDSXY:3:2202:29722:9972</td>\n",
       "      <td>77</td>\n",
       "      <td>*</td>\n",
       "      <td>0</td>\n",
       "      <td>0</td>\n",
       "      <td>*</td>\n",
       "    </tr>\n",
       "    <tr>\n",
       "      <th>59998</th>\n",
       "      <td>A00953:90:HC23FDSXY:3:2202:29722:9972</td>\n",
       "      <td>141</td>\n",
       "      <td>*</td>\n",
       "      <td>0</td>\n",
       "      <td>0</td>\n",
       "      <td>*</td>\n",
       "    </tr>\n",
       "    <tr>\n",
       "      <th>59999</th>\n",
       "      <td>A00953:90:HC23FDSXY:3:2202:29722:9972</td>\n",
       "      <td>77</td>\n",
       "      <td>*</td>\n",
       "      <td>0</td>\n",
       "      <td>0</td>\n",
       "      <td>*</td>\n",
       "    </tr>\n",
       "  </tbody>\n",
       "</table>\n",
       "<p>5775 rows × 6 columns</p>\n",
       "</div>"
      ],
      "text/plain": [
       "                                            0    1  2  3  4  5\n",
       "54225  A00953:90:HC23FDSXY:3:1102:10755:20744   77  *  0  0  *\n",
       "54226  A00953:90:HC23FDSXY:3:1102:10755:20744  141  *  0  0  *\n",
       "54227  A00953:90:HC23FDSXY:3:1104:11912:30671   77  *  0  0  *\n",
       "54228  A00953:90:HC23FDSXY:3:1104:11912:30671  141  *  0  0  *\n",
       "54229   A00953:90:HC23FDSXY:3:1104:2166:14043   77  *  0  0  *\n",
       "...                                       ...  ... .. .. .. ..\n",
       "59995  A00953:90:HC23FDSXY:3:2171:23737:36245   77  *  0  0  *\n",
       "59996  A00953:90:HC23FDSXY:3:2171:23737:36245  141  *  0  0  *\n",
       "59997   A00953:90:HC23FDSXY:3:2202:29722:9972   77  *  0  0  *\n",
       "59998   A00953:90:HC23FDSXY:3:2202:29722:9972  141  *  0  0  *\n",
       "59999   A00953:90:HC23FDSXY:3:2202:29722:9972   77  *  0  0  *\n",
       "\n",
       "[5775 rows x 6 columns]"
      ]
     },
     "execution_count": 32,
     "metadata": {},
     "output_type": "execute_result"
    }
   ],
   "source": [
    "sam[(sam[4] == 0) & (sam[2] == \"*\")]"
   ]
  },
  {
   "cell_type": "code",
   "execution_count": 38,
   "metadata": {
    "ExecuteTime": {
     "end_time": "2020-05-11T18:54:11.987700Z",
     "start_time": "2020-05-11T18:54:11.981475Z"
    }
   },
   "outputs": [
    {
     "name": "stdout",
     "output_type": "stream",
     "text": [
      "AAGCAGTGGTATCAACGCAGAGTACTGTTTATGGGGTGATGTGAG\n"
     ]
    }
   ],
   "source": [
    "print(\"AAGCAGTGGTATCAACGCAGAGTACTGTTTATGGGGTGATGTGAG\")"
   ]
  },
  {
   "cell_type": "code",
   "execution_count": 39,
   "metadata": {
    "ExecuteTime": {
     "end_time": "2020-05-11T18:54:20.543270Z",
     "start_time": "2020-05-11T18:54:20.539231Z"
    }
   },
   "outputs": [
    {
     "name": "stdout",
     "output_type": "stream",
     "text": [
      "45\n"
     ]
    }
   ],
   "source": [
    "print(len(\"AAGCAGTGGTATCAACGCAGAGTACTGTTTATGGGGTGATGTGAG\"))"
   ]
  },
  {
   "cell_type": "code",
   "execution_count": 43,
   "metadata": {
    "ExecuteTime": {
     "end_time": "2020-05-11T19:39:06.231504Z",
     "start_time": "2020-05-11T19:39:06.227663Z"
    }
   },
   "outputs": [
    {
     "name": "stdout",
     "output_type": "stream",
     "text": [
      "cellranger count --id=bc5prime_A_MT_c5p_pe_lanes --fastqs=/data2/isshamie/mito_lineage/data/processed/200403_A00953_0090_BHC23FDSXY/trim_v03 --transcriptome=/data2/isshamie/mito_lineage/external/genome/MT_genome/MT_GRCh38/ --chemistry SC5P-PE --sample trimmed_BC_5Prime_031020_A_1,trimmed_BC_5Prime_031020_A_2,trimmed_BC_5Prime_031020_A_3,trimmed_BC_5Prime_031020_A_4 --localcores 32\n"
     ]
    }
   ],
   "source": [
    "cmd = \"cellranger count --id=bc5prime_A_MT_c5p_pe_lanes --fastqs=/data2/isshamie/mito_lineage/data/processed/200403_A00953_0090_BHC23FDSXY/trim_v03 --transcriptome=/data2/isshamie/mito_lineage/external/genome/MT_genome/MT_GRCh38/ --chemistry SC5P-PE --sample trimmed_BC_5Prime_031020_A_1,trimmed_BC_5Prime_031020_A_2,trimmed_BC_5Prime_031020_A_3,trimmed_BC_5Prime_031020_A_4 --localcores 32\"\n",
    "print(cmd)"
   ]
  },
  {
   "cell_type": "code",
   "execution_count": 40,
   "metadata": {
    "ExecuteTime": {
     "end_time": "2020-05-11T18:55:32.348728Z",
     "start_time": "2020-05-11T18:55:32.344477Z"
    }
   },
   "outputs": [
    {
     "name": "stdout",
     "output_type": "stream",
     "text": [
      "25\n"
     ]
    }
   ],
   "source": [
    "print(len(\"AAGCAGTGGTATCAACGCAGAGTAC\"))"
   ]
  }
 ],
 "metadata": {
  "kernelspec": {
   "display_name": "Python 3",
   "language": "python",
   "name": "python3"
  },
  "language_info": {
   "codemirror_mode": {
    "name": "ipython",
    "version": 3
   },
   "file_extension": ".py",
   "mimetype": "text/x-python",
   "name": "python",
   "nbconvert_exporter": "python",
   "pygments_lexer": "ipython3",
   "version": "3.7.3"
  }
 },
 "nbformat": 4,
 "nbformat_minor": 2
}
