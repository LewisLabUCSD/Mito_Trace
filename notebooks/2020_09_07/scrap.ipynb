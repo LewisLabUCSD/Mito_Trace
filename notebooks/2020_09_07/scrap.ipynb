{
 "cells": [
  {
   "cell_type": "code",
   "execution_count": 1,
   "metadata": {
    "ExecuteTime": {
     "end_time": "2020-09-28T18:59:05.381121Z",
     "start_time": "2020-09-28T18:59:05.168478Z"
    }
   },
   "outputs": [],
   "source": [
    "import numpy as np"
   ]
  },
  {
   "cell_type": "code",
   "execution_count": 8,
   "metadata": {
    "ExecuteTime": {
     "end_time": "2020-09-28T19:01:24.509368Z",
     "start_time": "2020-09-28T19:01:24.500078Z"
    }
   },
   "outputs": [
    {
     "name": "stdout",
     "output_type": "stream",
     "text": [
      "[[[   1    2]\n",
      "  [   3    4]\n",
      "  [ 100  101]]\n",
      "\n",
      " [[  -1   -2]\n",
      "  [  -3   -4]\n",
      "  [-100 -101]]]\n"
     ]
    },
    {
     "data": {
      "text/plain": [
       "(2, 3, 2)"
      ]
     },
     "execution_count": 8,
     "metadata": {},
     "output_type": "execute_result"
    }
   ],
   "source": [
    "sc_coverage = np.array([[[1,2],[3,4],[100,101]], [[-1,-2],[-3,-4],[-100,-101]]])\n",
    "print(sc_coverage)\n",
    "sc_coverage.shape"
   ]
  },
  {
   "cell_type": "code",
   "execution_count": 14,
   "metadata": {
    "ExecuteTime": {
     "end_time": "2020-09-28T19:05:33.587951Z",
     "start_time": "2020-09-28T19:05:33.583504Z"
    }
   },
   "outputs": [],
   "source": [
    "min_reads = 10\n",
    "min_cells = 1"
   ]
  },
  {
   "cell_type": "code",
   "execution_count": 15,
   "metadata": {
    "ExecuteTime": {
     "end_time": "2020-09-28T19:05:34.306915Z",
     "start_time": "2020-09-28T19:05:34.299482Z"
    }
   },
   "outputs": [
    {
     "data": {
      "text/plain": [
       "array([[   3,    7,  201],\n",
       "       [  -3,   -7, -201]])"
      ]
     },
     "execution_count": 15,
     "metadata": {},
     "output_type": "execute_result"
    }
   ],
   "source": [
    "sc_coverage.sum(axis=2)"
   ]
  },
  {
   "cell_type": "code",
   "execution_count": 35,
   "metadata": {
    "ExecuteTime": {
     "end_time": "2020-09-28T19:17:31.549853Z",
     "start_time": "2020-09-28T19:17:31.544684Z"
    }
   },
   "outputs": [
    {
     "data": {
      "text/plain": [
       "array([2])"
      ]
     },
     "execution_count": 35,
     "metadata": {},
     "output_type": "execute_result"
    }
   ],
   "source": [
    "counts_filter = np.where((sc_coverage.sum(axis=2) >= min_reads).sum(axis=0) >= min_cells)[0]\n",
    "counts_filter\n",
    "#(np.where(counts_filter)[0])"
   ]
  },
  {
   "cell_type": "code",
   "execution_count": 38,
   "metadata": {
    "ExecuteTime": {
     "end_time": "2020-09-28T19:19:19.342088Z",
     "start_time": "2020-09-28T19:19:19.334062Z"
    }
   },
   "outputs": [
    {
     "data": {
      "text/plain": [
       "array([[[ 100,  101]],\n",
       "\n",
       "       [[-100, -101]]])"
      ]
     },
     "execution_count": 38,
     "metadata": {},
     "output_type": "execute_result"
    }
   ],
   "source": [
    "sc_coverage[:, counts_filter\n",
    "]"
   ]
  },
  {
   "cell_type": "code",
   "execution_count": 40,
   "metadata": {
    "ExecuteTime": {
     "end_time": "2020-09-28T19:46:46.234471Z",
     "start_time": "2020-09-28T19:46:46.225457Z"
    }
   },
   "outputs": [
    {
     "data": {
      "text/plain": [
       "array([[[0., 0.],\n",
       "        [0., 0.],\n",
       "        [0., 0.],\n",
       "        ...,\n",
       "        [0., 0.],\n",
       "        [0., 0.],\n",
       "        [0., 0.]]])"
      ]
     },
     "execution_count": 40,
     "metadata": {},
     "output_type": "execute_result"
    }
   ],
   "source": [
    "np.zeros(shape=[len([1]), 16571, len([0,1])])"
   ]
  },
  {
   "cell_type": "code",
   "execution_count": 36,
   "metadata": {
    "ExecuteTime": {
     "end_time": "2020-09-28T19:18:15.890463Z",
     "start_time": "2020-09-28T19:18:15.882989Z"
    }
   },
   "outputs": [
    {
     "data": {
      "text/plain": [
       "array([[[   1,    2],\n",
       "        [   3,    4],\n",
       "        [ 100,  101]],\n",
       "\n",
       "       [[  -1,   -2],\n",
       "        [  -3,   -4],\n",
       "        [-100, -101]]])"
      ]
     },
     "execution_count": 36,
     "metadata": {},
     "output_type": "execute_result"
    }
   ],
   "source": [
    "x\n"
   ]
  },
  {
   "cell_type": "code",
   "execution_count": null,
   "metadata": {},
   "outputs": [],
   "source": []
  },
  {
   "cell_type": "code",
   "execution_count": 41,
   "metadata": {
    "ExecuteTime": {
     "end_time": "2020-09-28T20:58:44.560503Z",
     "start_time": "2020-09-28T20:58:43.731877Z"
    }
   },
   "outputs": [],
   "source": [
    "from sklearn.mixture import GaussianMixture\n"
   ]
  },
  {
   "cell_type": "code",
   "execution_count": 43,
   "metadata": {
    "ExecuteTime": {
     "end_time": "2020-09-28T20:58:54.183119Z",
     "start_time": "2020-09-28T20:58:54.179399Z"
    }
   },
   "outputs": [],
   "source": [
    "bq_vals = x.flatten()"
   ]
  },
  {
   "cell_type": "code",
   "execution_count": 57,
   "metadata": {
    "ExecuteTime": {
     "end_time": "2020-09-28T21:00:50.198937Z",
     "start_time": "2020-09-28T21:00:50.193813Z"
    }
   },
   "outputs": [],
   "source": [
    "gm = GaussianMixture(n_components=3)"
   ]
  },
  {
   "cell_type": "code",
   "execution_count": 58,
   "metadata": {
    "ExecuteTime": {
     "end_time": "2020-09-28T21:00:52.012289Z",
     "start_time": "2020-09-28T21:00:51.993304Z"
    }
   },
   "outputs": [
    {
     "data": {
      "text/plain": [
       "GaussianMixture(covariance_type='full', init_params='kmeans', max_iter=100,\n",
       "                means_init=None, n_components=3, n_init=1, precisions_init=None,\n",
       "                random_state=None, reg_covar=1e-06, tol=0.001, verbose=0,\n",
       "                verbose_interval=10, warm_start=False, weights_init=None)"
      ]
     },
     "execution_count": 58,
     "metadata": {},
     "output_type": "execute_result"
    }
   ],
   "source": [
    "gm.fit(bq_vals.reshape([len(bq_vals),1]))"
   ]
  },
  {
   "cell_type": "code",
   "execution_count": 59,
   "metadata": {
    "ExecuteTime": {
     "end_time": "2020-09-28T21:00:54.177074Z",
     "start_time": "2020-09-28T21:00:54.169279Z"
    }
   },
   "outputs": [
    {
     "data": {
      "text/plain": [
       "array([0.16666667, 0.66666667, 0.16666667])"
      ]
     },
     "execution_count": 59,
     "metadata": {},
     "output_type": "execute_result"
    }
   ],
   "source": [
    "gm.weights_"
   ]
  },
  {
   "cell_type": "code",
   "execution_count": 60,
   "metadata": {
    "ExecuteTime": {
     "end_time": "2020-09-28T21:00:55.302209Z",
     "start_time": "2020-09-28T21:00:55.294344Z"
    }
   },
   "outputs": [
    {
     "data": {
      "text/plain": [
       "array([[ 1.00500000e+002],\n",
       "       [-4.44571129e-289],\n",
       "       [-1.00500000e+002]])"
      ]
     },
     "execution_count": 60,
     "metadata": {},
     "output_type": "execute_result"
    }
   ],
   "source": [
    "gm.means_"
   ]
  },
  {
   "cell_type": "code",
   "execution_count": 61,
   "metadata": {
    "ExecuteTime": {
     "end_time": "2020-09-28T21:01:17.355882Z",
     "start_time": "2020-09-28T21:01:17.346969Z"
    }
   },
   "outputs": [
    {
     "data": {
      "text/plain": [
       "array([[[0.250001]],\n",
       "\n",
       "       [[7.500001]],\n",
       "\n",
       "       [[0.250001]]])"
      ]
     },
     "execution_count": 61,
     "metadata": {},
     "output_type": "execute_result"
    }
   ],
   "source": [
    "gm.covariances_"
   ]
  },
  {
   "cell_type": "code",
   "execution_count": 62,
   "metadata": {
    "ExecuteTime": {
     "end_time": "2020-09-28T21:01:28.280022Z",
     "start_time": "2020-09-28T21:01:28.272545Z"
    }
   },
   "outputs": [
    {
     "data": {
      "text/plain": [
       "True"
      ]
     },
     "execution_count": 62,
     "metadata": {},
     "output_type": "execute_result"
    }
   ],
   "source": [
    "gm.converged_"
   ]
  },
  {
   "cell_type": "code",
   "execution_count": 67,
   "metadata": {
    "ExecuteTime": {
     "end_time": "2020-09-28T21:02:22.414956Z",
     "start_time": "2020-09-28T21:02:22.409961Z"
    }
   },
   "outputs": [
    {
     "data": {
      "text/plain": [
       "12"
      ]
     },
     "execution_count": 67,
     "metadata": {},
     "output_type": "execute_result"
    }
   ],
   "source": [
    "len(bq_vals)\n"
   ]
  },
  {
   "cell_type": "code",
   "execution_count": 72,
   "metadata": {
    "ExecuteTime": {
     "end_time": "2020-09-28T21:44:20.896623Z",
     "start_time": "2020-09-28T21:44:20.889224Z"
    }
   },
   "outputs": [
    {
     "data": {
      "text/plain": [
       "array([0., 0., 0., 0., 1., 1., 0., 0., 0., 0., 0., 0.])"
      ]
     },
     "execution_count": 72,
     "metadata": {},
     "output_type": "execute_result"
    }
   ],
   "source": [
    "bq_vals = x.flatten()\n",
    "bq_vals = bq_vals.reshape([len(bq_vals),1])\n",
    "\n",
    "#print(gm.predict_proba(bq_vals.reshape([len(bq_vals),1])).shape)\n",
    "\n",
    "\n",
    "top_bq_mean = np.argmax(gm.means_)\n",
    "gm.predict_proba(bq_vals)[:, top_bq_mean]"
   ]
  },
  {
   "cell_type": "code",
   "execution_count": 74,
   "metadata": {
    "ExecuteTime": {
     "end_time": "2020-09-28T21:44:44.006824Z",
     "start_time": "2020-09-28T21:44:44.001006Z"
    }
   },
   "outputs": [
    {
     "data": {
      "text/plain": [
       "0"
      ]
     },
     "execution_count": 74,
     "metadata": {},
     "output_type": "execute_result"
    }
   ],
   "source": [
    "top_bq_mean"
   ]
  },
  {
   "cell_type": "code",
   "execution_count": 73,
   "metadata": {
    "ExecuteTime": {
     "end_time": "2020-09-28T21:44:32.297925Z",
     "start_time": "2020-09-28T21:44:32.288400Z"
    }
   },
   "outputs": [
    {
     "data": {
      "text/plain": [
       "array([[0.00000000e+000, 1.00000000e+000, 0.00000000e+000],\n",
       "       [0.00000000e+000, 1.00000000e+000, 0.00000000e+000],\n",
       "       [0.00000000e+000, 1.00000000e+000, 0.00000000e+000],\n",
       "       [0.00000000e+000, 1.00000000e+000, 0.00000000e+000],\n",
       "       [1.00000000e+000, 3.55656359e-290, 0.00000000e+000],\n",
       "       [1.00000000e+000, 5.38871601e-296, 0.00000000e+000],\n",
       "       [0.00000000e+000, 1.00000000e+000, 0.00000000e+000],\n",
       "       [0.00000000e+000, 1.00000000e+000, 0.00000000e+000],\n",
       "       [0.00000000e+000, 1.00000000e+000, 0.00000000e+000],\n",
       "       [0.00000000e+000, 1.00000000e+000, 0.00000000e+000],\n",
       "       [0.00000000e+000, 3.55656359e-290, 1.00000000e+000],\n",
       "       [0.00000000e+000, 5.38871601e-296, 1.00000000e+000]])"
      ]
     },
     "execution_count": 73,
     "metadata": {},
     "output_type": "execute_result"
    }
   ],
   "source": [
    "bq_vals = x.flatten()\n",
    "bq_vals = bq_vals.reshape([len(bq_vals),1])\n",
    "\n",
    "#print(gm.predict_proba(bq_vals.reshape([len(bq_vals),1])).shape)\n",
    "\n",
    "\n",
    "top_bq_mean = np.argmax(gm.means_)\n",
    "gm.predict_proba(bq_vals)"
   ]
  },
  {
   "cell_type": "code",
   "execution_count": null,
   "metadata": {},
   "outputs": [],
   "source": [
    "for ind, val in enumerate(bq_vals):\n",
    "    "
   ]
  }
 ],
 "metadata": {
  "kernelspec": {
   "display_name": "Python 3",
   "language": "python",
   "name": "python3"
  },
  "language_info": {
   "codemirror_mode": {
    "name": "ipython",
    "version": 3
   },
   "file_extension": ".py",
   "mimetype": "text/x-python",
   "name": "python",
   "nbconvert_exporter": "python",
   "pygments_lexer": "ipython3",
   "version": "3.7.3"
  }
 },
 "nbformat": 4,
 "nbformat_minor": 2
}
