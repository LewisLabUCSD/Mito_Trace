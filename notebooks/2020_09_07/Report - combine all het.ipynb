{
 "cells": [
  {
   "cell_type": "code",
   "execution_count": 1,
   "metadata": {
    "ExecuteTime": {
     "end_time": "2020-10-01T04:14:27.809204Z",
     "start_time": "2020-10-01T04:14:25.940711Z"
    }
   },
   "outputs": [
    {
     "name": "stdout",
     "output_type": "stream",
     "text": [
      "Project Directory: /data2/mito_lineage\n"
     ]
    },
    {
     "data": {
      "text/html": [
       "<div>\n",
       "<style scoped>\n",
       "    .dataframe tbody tr th:only-of-type {\n",
       "        vertical-align: middle;\n",
       "    }\n",
       "\n",
       "    .dataframe tbody tr th {\n",
       "        vertical-align: top;\n",
       "    }\n",
       "\n",
       "    .dataframe thead th {\n",
       "        text-align: right;\n",
       "    }\n",
       "</style>\n",
       "<table border=\"1\" class=\"dataframe\">\n",
       "  <thead>\n",
       "    <tr style=\"text-align: right;\">\n",
       "      <th></th>\n",
       "      <th>sample</th>\n",
       "      <th>raw</th>\n",
       "      <th>bam</th>\n",
       "      <th>bam_f</th>\n",
       "    </tr>\n",
       "    <tr>\n",
       "      <th>sample</th>\n",
       "      <th></th>\n",
       "      <th></th>\n",
       "      <th></th>\n",
       "      <th></th>\n",
       "    </tr>\n",
       "  </thead>\n",
       "  <tbody>\n",
       "    <tr>\n",
       "      <th>CD34_Flt3L_mt_PolydT</th>\n",
       "      <td>CD34_Flt3L_mt_PolydT</td>\n",
       "      <td>NaN</td>\n",
       "      <td>NaN</td>\n",
       "      <td>/data2/isshamie/mito_lineage/data/processed/20...</td>\n",
       "    </tr>\n",
       "    <tr>\n",
       "      <th>CD34_Flt3L_PolydT</th>\n",
       "      <td>CD34_Flt3L_PolydT</td>\n",
       "      <td>NaN</td>\n",
       "      <td>NaN</td>\n",
       "      <td>/data2/isshamie/mito_lineage/data/processed/20...</td>\n",
       "    </tr>\n",
       "    <tr>\n",
       "      <th>CD34_Flt3L_mt</th>\n",
       "      <td>CD34_Flt3L_mt</td>\n",
       "      <td>NaN</td>\n",
       "      <td>NaN</td>\n",
       "      <td>/data2/isshamie/mito_lineage/data/processed/20...</td>\n",
       "    </tr>\n",
       "    <tr>\n",
       "      <th>CD34_mt_PolydT</th>\n",
       "      <td>CD34_mt_PolydT</td>\n",
       "      <td>NaN</td>\n",
       "      <td>NaN</td>\n",
       "      <td>/data2/isshamie/mito_lineage/data/processed/20...</td>\n",
       "    </tr>\n",
       "    <tr>\n",
       "      <th>CD34_mt</th>\n",
       "      <td>CD34_mt</td>\n",
       "      <td>NaN</td>\n",
       "      <td>NaN</td>\n",
       "      <td>/data2/isshamie/mito_lineage/data/processed/20...</td>\n",
       "    </tr>\n",
       "    <tr>\n",
       "      <th>CD34_PolydT</th>\n",
       "      <td>CD34_PolydT</td>\n",
       "      <td>NaN</td>\n",
       "      <td>NaN</td>\n",
       "      <td>/data2/isshamie/mito_lineage/data/processed/20...</td>\n",
       "    </tr>\n",
       "    <tr>\n",
       "      <th>PBMC_mt</th>\n",
       "      <td>PBMC_mt</td>\n",
       "      <td>NaN</td>\n",
       "      <td>NaN</td>\n",
       "      <td>/data2/isshamie/mito_lineage/data/processed/20...</td>\n",
       "    </tr>\n",
       "    <tr>\n",
       "      <th>PBMC_mt_PolydT</th>\n",
       "      <td>PBMC_mt_PolydT</td>\n",
       "      <td>NaN</td>\n",
       "      <td>NaN</td>\n",
       "      <td>/data2/isshamie/mito_lineage/data/processed/20...</td>\n",
       "    </tr>\n",
       "  </tbody>\n",
       "</table>\n",
       "</div>"
      ],
      "text/plain": [
       "                                    sample  raw  bam  \\\n",
       "sample                                                 \n",
       "CD34_Flt3L_mt_PolydT  CD34_Flt3L_mt_PolydT  NaN  NaN   \n",
       "CD34_Flt3L_PolydT        CD34_Flt3L_PolydT  NaN  NaN   \n",
       "CD34_Flt3L_mt                CD34_Flt3L_mt  NaN  NaN   \n",
       "CD34_mt_PolydT              CD34_mt_PolydT  NaN  NaN   \n",
       "CD34_mt                            CD34_mt  NaN  NaN   \n",
       "CD34_PolydT                    CD34_PolydT  NaN  NaN   \n",
       "PBMC_mt                            PBMC_mt  NaN  NaN   \n",
       "PBMC_mt_PolydT              PBMC_mt_PolydT  NaN  NaN   \n",
       "\n",
       "                                                                  bam_f  \n",
       "sample                                                                   \n",
       "CD34_Flt3L_mt_PolydT  /data2/isshamie/mito_lineage/data/processed/20...  \n",
       "CD34_Flt3L_PolydT     /data2/isshamie/mito_lineage/data/processed/20...  \n",
       "CD34_Flt3L_mt         /data2/isshamie/mito_lineage/data/processed/20...  \n",
       "CD34_mt_PolydT        /data2/isshamie/mito_lineage/data/processed/20...  \n",
       "CD34_mt               /data2/isshamie/mito_lineage/data/processed/20...  \n",
       "CD34_PolydT           /data2/isshamie/mito_lineage/data/processed/20...  \n",
       "PBMC_mt               /data2/isshamie/mito_lineage/data/processed/20...  \n",
       "PBMC_mt_PolydT        /data2/isshamie/mito_lineage/data/processed/20...  "
      ]
     },
     "execution_count": 1,
     "metadata": {},
     "output_type": "execute_result"
    }
   ],
   "source": [
    "import os\n",
    "from src.config import ROOT_DIR, RESULTS\n",
    "from src.calculate_AF_by_cell import calculate_af\n",
    "import yaml \n",
    "import pandas as pd\n",
    "from os.path import join\n",
    "import seaborn as sns\n",
    "import pickle\n",
    "import glob\n",
    "os.chdir(ROOT_DIR)\n",
    "with open('parameters/2020_09_07_Croker_mito.yaml') as f:\n",
    "    config = yaml.safe_load(f)\n",
    "samples = pd.read_table(config[\"samples\"], dtype=str,sep=',').set_index([\"sample\"], drop=False)\n",
    "samples"
   ]
  },
  {
   "cell_type": "code",
   "execution_count": 2,
   "metadata": {
    "ExecuteTime": {
     "end_time": "2020-10-01T04:14:27.817258Z",
     "start_time": "2020-10-01T04:14:27.812136Z"
    }
   },
   "outputs": [
    {
     "name": "stdout",
     "output_type": "stream",
     "text": [
      "minC10_minReads10_topC0_hetC10_hetT0.1_mapq30\n"
     ]
    }
   ],
   "source": [
    "min_cells=10\n",
    "min_reads=10\n",
    "topN=0\n",
    "min_het_cells=10\n",
    "het_thresh=0.1\n",
    "\n",
    "f_name = f\"minC{min_cells}_minReads{min_reads}_topC{topN}_hetC{min_het_cells}_hetT{het_thresh}_mapq30\"\n",
    "print(f_name)"
   ]
  },
  {
   "cell_type": "code",
   "execution_count": 3,
   "metadata": {
    "ExecuteTime": {
     "end_time": "2020-10-01T04:14:27.826665Z",
     "start_time": "2020-10-01T04:14:27.819652Z"
    }
   },
   "outputs": [],
   "source": [
    "from numpanpar import parallel_df as pardf"
   ]
  },
  {
   "cell_type": "code",
   "execution_count": 4,
   "metadata": {
    "ExecuteTime": {
     "end_time": "2020-10-01T04:14:28.063630Z",
     "start_time": "2020-10-01T04:14:27.828627Z"
    }
   },
   "outputs": [
    {
     "data": {
      "text/plain": [
       "'/data2/mito_lineage/data/processed/mttrace/lineage_trace/CD34_mt_polydT/report/minC10_minR10_topN0_hetC10_hetT0.1'"
      ]
     },
     "execution_count": 4,
     "metadata": {},
     "output_type": "execute_result"
    }
   ],
   "source": [
    "indir=join(RESULTS,\"mttrace\")\n",
    "\n",
    "dirname = f\"minC{min_cells}_minR{min_reads}_topN{topN}_hetC{min_het_cells}_hetT{het_thresh}\"\n",
    "outdir = join(indir, \"lineage_trace/CD34_mt_polydT/report\", dirname)\n",
    "if not os.path.exists(outdir):\n",
    "    os.makedirs(outdir)\n",
    "outdir"
   ]
  },
  {
   "cell_type": "code",
   "execution_count": 5,
   "metadata": {
    "ExecuteTime": {
     "end_time": "2020-10-01T05:07:47.611869Z",
     "start_time": "2020-10-01T04:14:28.066111Z"
    },
    "scrolled": false
   },
   "outputs": [
    {
     "name": "stdout",
     "output_type": "stream",
     "text": [
      "CD34_Flt3L_mt_PolydT\n",
      "no alt count 2142\n",
      "topN 0\n",
      "Number of positions to keep : 4130\n",
      "Number of cells to keep : 2777\n",
      "Positions that pass het filter: 1937\n",
      "CD34_mt_PolydT\n",
      "no alt count 5331\n",
      "topN 0\n",
      "Number of positions to keep : 1758\n",
      "Number of cells to keep : 887\n",
      "Positions that pass het filter: 157\n",
      "PBMC_mt_PolydT\n",
      "no alt count 10431\n",
      "topN 0\n",
      "Number of positions to keep : 1491\n",
      "Number of cells to keep : 212\n",
      "Positions that pass het filter: 32\n"
     ]
    }
   ],
   "source": [
    "samples_af_by_cell = {}\n",
    "samples_af = {}\n",
    "maxBP = 16571\n",
    "for ind, val in samples.iterrows():\n",
    "    coverage_dir = join('data/processed/mttrace/',ind,'mapq_30', ind+ '_scPileup_200')\n",
    "    concat_dir = join('data/processed/mttrace/',ind, 'mapq_30','scPileup_concat_200')\n",
    "    if 'mt_PolydT' in ind:\n",
    "        print(ind)\n",
    "        AF_by_cell, _, af, _, _ = calculate_af(coverage_dir, concat_dir, ref_fasta=config['ref_fa'],                                               \n",
    "                                                                AF_F=None, maxBP=maxBP, topN=topN, \n",
    "                                                                min_cells=min_cells, min_reads=min_reads,\n",
    "                                                                min_het_cells=min_het_cells, het_thresh=het_thresh)\n",
    "        samples_af[ind] = af\n",
    "        samples_af_by_cell[ind] = AF_by_cell"
   ]
  },
  {
   "cell_type": "code",
   "execution_count": 7,
   "metadata": {
    "ExecuteTime": {
     "end_time": "2020-10-01T05:11:03.244594Z",
     "start_time": "2020-10-01T05:11:03.237477Z"
    }
   },
   "outputs": [],
   "source": [
    "if not os.path.exists(outdir):\n",
    "    os.mkdir(outdir)"
   ]
  },
  {
   "cell_type": "code",
   "execution_count": 9,
   "metadata": {
    "ExecuteTime": {
     "end_time": "2020-10-01T05:11:16.081299Z",
     "start_time": "2020-10-01T05:11:15.212725Z"
    }
   },
   "outputs": [],
   "source": [
    "pickle.dump([samples_af, samples_af_by_cell], open(join(outdir, 'af_merge.p'),'wb'))"
   ]
  },
  {
   "cell_type": "markdown",
   "metadata": {},
   "source": [
    "### Calculate Heteroplasmy pairplot"
   ]
  },
  {
   "cell_type": "code",
   "execution_count": 10,
   "metadata": {
    "ExecuteTime": {
     "end_time": "2020-10-01T05:11:19.024597Z",
     "start_time": "2020-10-01T05:11:19.005172Z"
    },
    "scrolled": true
   },
   "outputs": [],
   "source": [
    "samples_af_cov = {}\n",
    "for ind in samples_af:\n",
    "    samples_af_cov[ind] = samples_af[ind]['AF']\n",
    "\n",
    "samples_af_cov_df = pd.DataFrame(samples_af_cov)"
   ]
  },
  {
   "cell_type": "code",
   "execution_count": 11,
   "metadata": {
    "ExecuteTime": {
     "end_time": "2020-10-01T05:11:24.163197Z",
     "start_time": "2020-10-01T05:11:24.149193Z"
    },
    "scrolled": true
   },
   "outputs": [
    {
     "data": {
      "text/html": [
       "<div>\n",
       "<style scoped>\n",
       "    .dataframe tbody tr th:only-of-type {\n",
       "        vertical-align: middle;\n",
       "    }\n",
       "\n",
       "    .dataframe tbody tr th {\n",
       "        vertical-align: top;\n",
       "    }\n",
       "\n",
       "    .dataframe thead th {\n",
       "        text-align: right;\n",
       "    }\n",
       "</style>\n",
       "<table border=\"1\" class=\"dataframe\">\n",
       "  <thead>\n",
       "    <tr style=\"text-align: right;\">\n",
       "      <th></th>\n",
       "      <th>CD34_Flt3L_mt_PolydT</th>\n",
       "      <th>CD34_mt_PolydT</th>\n",
       "      <th>PBMC_mt_PolydT</th>\n",
       "    </tr>\n",
       "  </thead>\n",
       "  <tbody>\n",
       "    <tr>\n",
       "      <th>3</th>\n",
       "      <td>0.00303951</td>\n",
       "      <td>NaN</td>\n",
       "      <td>NaN</td>\n",
       "    </tr>\n",
       "    <tr>\n",
       "      <th>9</th>\n",
       "      <td>0.00508906</td>\n",
       "      <td>NaN</td>\n",
       "      <td>NaN</td>\n",
       "    </tr>\n",
       "    <tr>\n",
       "      <th>10</th>\n",
       "      <td>NaN</td>\n",
       "      <td>0.0166667</td>\n",
       "      <td>NaN</td>\n",
       "    </tr>\n",
       "    <tr>\n",
       "      <th>11</th>\n",
       "      <td>0.00249377</td>\n",
       "      <td>NaN</td>\n",
       "      <td>NaN</td>\n",
       "    </tr>\n",
       "    <tr>\n",
       "      <th>17</th>\n",
       "      <td>0.00692841</td>\n",
       "      <td>0.0140845</td>\n",
       "      <td>NaN</td>\n",
       "    </tr>\n",
       "    <tr>\n",
       "      <th>...</th>\n",
       "      <td>...</td>\n",
       "      <td>...</td>\n",
       "      <td>...</td>\n",
       "    </tr>\n",
       "    <tr>\n",
       "      <th>16551</th>\n",
       "      <td>0.0151515</td>\n",
       "      <td>NaN</td>\n",
       "      <td>NaN</td>\n",
       "    </tr>\n",
       "    <tr>\n",
       "      <th>16552</th>\n",
       "      <td>0.0153846</td>\n",
       "      <td>NaN</td>\n",
       "      <td>NaN</td>\n",
       "    </tr>\n",
       "    <tr>\n",
       "      <th>16555</th>\n",
       "      <td>0.015873</td>\n",
       "      <td>NaN</td>\n",
       "      <td>NaN</td>\n",
       "    </tr>\n",
       "    <tr>\n",
       "      <th>16564</th>\n",
       "      <td>0.0701754</td>\n",
       "      <td>NaN</td>\n",
       "      <td>NaN</td>\n",
       "    </tr>\n",
       "    <tr>\n",
       "      <th>16566</th>\n",
       "      <td>0.0714286</td>\n",
       "      <td>NaN</td>\n",
       "      <td>NaN</td>\n",
       "    </tr>\n",
       "  </tbody>\n",
       "</table>\n",
       "<p>14723 rows × 3 columns</p>\n",
       "</div>"
      ],
      "text/plain": [
       "      CD34_Flt3L_mt_PolydT CD34_mt_PolydT PBMC_mt_PolydT\n",
       "3               0.00303951            NaN            NaN\n",
       "9               0.00508906            NaN            NaN\n",
       "10                     NaN      0.0166667            NaN\n",
       "11              0.00249377            NaN            NaN\n",
       "17              0.00692841      0.0140845            NaN\n",
       "...                    ...            ...            ...\n",
       "16551            0.0151515            NaN            NaN\n",
       "16552            0.0153846            NaN            NaN\n",
       "16555             0.015873            NaN            NaN\n",
       "16564            0.0701754            NaN            NaN\n",
       "16566            0.0714286            NaN            NaN\n",
       "\n",
       "[14723 rows x 3 columns]"
      ]
     },
     "execution_count": 11,
     "metadata": {},
     "output_type": "execute_result"
    }
   ],
   "source": [
    "samples_af_cov_df"
   ]
  },
  {
   "cell_type": "code",
   "execution_count": 14,
   "metadata": {
    "ExecuteTime": {
     "end_time": "2020-10-01T05:12:30.559588Z",
     "start_time": "2020-10-01T05:12:26.032063Z"
    },
    "scrolled": true
   },
   "outputs": [
    {
     "data": {
      "image/png": "[encoded data removed]",
      "text/plain": [
       "<Figure size 540x540 with 12 Axes>"
      ]
     },
     "metadata": {
      "needs_background": "light"
     },
     "output_type": "display_data"
    }
   ],
   "source": [
    "%matplotlib inline\n",
    "import matplotlib.pyplot as plt\n",
    "sns.pairplot(samples_af_cov_df)\n",
    "plt.title(\"Allele Frequency for called variants\")\n",
    "plt.savefig(join(outdir, 'het_across_all_samples'))"
   ]
  },
  {
   "cell_type": "markdown",
   "metadata": {},
   "source": [
    "### Add other samples"
   ]
  },
  {
   "cell_type": "code",
   "execution_count": 15,
   "metadata": {
    "ExecuteTime": {
     "end_time": "2020-10-01T07:48:14.576177Z",
     "start_time": "2020-10-01T05:17:57.012829Z"
    },
    "scrolled": false
   },
   "outputs": [
    {
     "name": "stdout",
     "output_type": "stream",
     "text": [
      "CD34_Flt3L_PolydT\n",
      "no alt count 1066\n",
      "topN 0\n",
      "Number of positions to keep : 6999\n",
      "Number of cells to keep : 7384\n",
      "Positions that pass het filter: 5834\n",
      "CD34_Flt3L_mt\n",
      "no alt count 5449\n",
      "topN 0\n",
      "Number of positions to keep : 3193\n",
      "Number of cells to keep : 1214\n",
      "Positions that pass het filter: 375\n",
      "CD34_mt\n",
      "no alt count 11481\n",
      "topN 0\n",
      "Number of positions to keep : 2227\n",
      "Number of cells to keep : 218\n",
      "Positions that pass het filter: 49\n",
      "CD34_PolydT\n",
      "no alt count 14347\n",
      "topN 0\n",
      "Number of positions to keep : 948\n",
      "Number of cells to keep : 65\n",
      "Positions that pass het filter: 10\n",
      "PBMC_mt\n",
      "no alt count 13132\n",
      "topN 0\n",
      "Number of positions to keep : 1926\n",
      "Number of cells to keep : 202\n",
      "Positions that pass het filter: 31\n"
     ]
    }
   ],
   "source": [
    "samples_af_by_cell = {}\n",
    "samples_af = {}\n",
    "maxBP = 16571\n",
    "for ind, val in samples.iterrows():\n",
    "    coverage_dir = join('data/processed/mttrace/',ind,'mapq_30', ind+ '_scPileup_200')\n",
    "    concat_dir = join('data/processed/mttrace/',ind, 'mapq_30','scPileup_concat_200')\n",
    "    if not 'mt_PolydT' in ind:\n",
    "        print(ind)\n",
    "        AF_by_cell, _, af, _, _ = calculate_af(coverage_dir, concat_dir, ref_fasta=config['ref_fa'],                                               \n",
    "                                                                AF_F=None, maxBP=maxBP, topN=topN, \n",
    "                                                                min_cells=min_cells, min_reads=min_reads,\n",
    "                                                                min_het_cells=min_het_cells, het_thresh=het_thresh)\n",
    "        samples_af[ind] = af\n",
    "        samples_af_by_cell[ind] = AF_by_cell"
   ]
  },
  {
   "cell_type": "code",
   "execution_count": null,
   "metadata": {
    "ExecuteTime": {
     "start_time": "2020-10-01T16:01:36.716Z"
    }
   },
   "outputs": [],
   "source": [
    "samples_af_by_cell"
   ]
  },
  {
   "cell_type": "code",
   "execution_count": null,
   "metadata": {},
   "outputs": [],
   "source": [
    "def plot_top_hets(af_by_cell, hets, sample_col=None, f_save=None):\n",
    "    f, ax = plt.subplots(nrows=len(hets))\n",
    "    for ind, h in enumerate(hets):\n",
    "        sns.violinplot(af_by_cell[h], hue=sample_col, inner = \"stick\", ax=ax[ind])\n",
    "    helper_save(f_save)\n",
    "    return"
   ]
  }
 ],
 "metadata": {
  "kernelspec": {
   "display_name": "Python 3",
   "language": "python",
   "name": "python3"
  },
  "language_info": {
   "codemirror_mode": {
    "name": "ipython",
    "version": 3
   },
   "file_extension": ".py",
   "mimetype": "text/x-python",
   "name": "python",
   "nbconvert_exporter": "python",
   "pygments_lexer": "ipython3",
   "version": "3.7.3"
  }
 },
 "nbformat": 4,
 "nbformat_minor": 2
}
