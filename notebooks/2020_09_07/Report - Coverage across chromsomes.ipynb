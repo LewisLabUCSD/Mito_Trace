{
 "cells": [
  {
   "cell_type": "code",
   "execution_count": 1,
   "metadata": {
    "ExecuteTime": {
     "end_time": "2020-10-01T04:01:32.363784Z",
     "start_time": "2020-10-01T04:01:31.236390Z"
    }
   },
   "outputs": [
    {
     "name": "stdout",
     "output_type": "stream",
     "text": [
      "Project Directory: /data2/mito_lineage\n"
     ]
    },
    {
     "data": {
      "text/html": [
       "<div>\n",
       "<style scoped>\n",
       "    .dataframe tbody tr th:only-of-type {\n",
       "        vertical-align: middle;\n",
       "    }\n",
       "\n",
       "    .dataframe tbody tr th {\n",
       "        vertical-align: top;\n",
       "    }\n",
       "\n",
       "    .dataframe thead th {\n",
       "        text-align: right;\n",
       "    }\n",
       "</style>\n",
       "<table border=\"1\" class=\"dataframe\">\n",
       "  <thead>\n",
       "    <tr style=\"text-align: right;\">\n",
       "      <th></th>\n",
       "      <th>sample</th>\n",
       "      <th>raw</th>\n",
       "      <th>bam</th>\n",
       "      <th>bam_f</th>\n",
       "    </tr>\n",
       "    <tr>\n",
       "      <th>sample</th>\n",
       "      <th></th>\n",
       "      <th></th>\n",
       "      <th></th>\n",
       "      <th></th>\n",
       "    </tr>\n",
       "  </thead>\n",
       "  <tbody>\n",
       "    <tr>\n",
       "      <th>CD34_Flt3L_mt_PolydT</th>\n",
       "      <td>CD34_Flt3L_mt_PolydT</td>\n",
       "      <td>NaN</td>\n",
       "      <td>NaN</td>\n",
       "      <td>/data2/isshamie/mito_lineage/data/processed/20...</td>\n",
       "    </tr>\n",
       "    <tr>\n",
       "      <th>CD34_Flt3L_PolydT</th>\n",
       "      <td>CD34_Flt3L_PolydT</td>\n",
       "      <td>NaN</td>\n",
       "      <td>NaN</td>\n",
       "      <td>/data2/isshamie/mito_lineage/data/processed/20...</td>\n",
       "    </tr>\n",
       "    <tr>\n",
       "      <th>CD34_Flt3L_mt</th>\n",
       "      <td>CD34_Flt3L_mt</td>\n",
       "      <td>NaN</td>\n",
       "      <td>NaN</td>\n",
       "      <td>/data2/isshamie/mito_lineage/data/processed/20...</td>\n",
       "    </tr>\n",
       "    <tr>\n",
       "      <th>CD34_mt_PolydT</th>\n",
       "      <td>CD34_mt_PolydT</td>\n",
       "      <td>NaN</td>\n",
       "      <td>NaN</td>\n",
       "      <td>/data2/isshamie/mito_lineage/data/processed/20...</td>\n",
       "    </tr>\n",
       "    <tr>\n",
       "      <th>CD34_mt</th>\n",
       "      <td>CD34_mt</td>\n",
       "      <td>NaN</td>\n",
       "      <td>NaN</td>\n",
       "      <td>/data2/isshamie/mito_lineage/data/processed/20...</td>\n",
       "    </tr>\n",
       "    <tr>\n",
       "      <th>CD34_PolydT</th>\n",
       "      <td>CD34_PolydT</td>\n",
       "      <td>NaN</td>\n",
       "      <td>NaN</td>\n",
       "      <td>/data2/isshamie/mito_lineage/data/processed/20...</td>\n",
       "    </tr>\n",
       "    <tr>\n",
       "      <th>PBMC_mt</th>\n",
       "      <td>PBMC_mt</td>\n",
       "      <td>NaN</td>\n",
       "      <td>NaN</td>\n",
       "      <td>/data2/isshamie/mito_lineage/data/processed/20...</td>\n",
       "    </tr>\n",
       "    <tr>\n",
       "      <th>PBMC_mt_PolydT</th>\n",
       "      <td>PBMC_mt_PolydT</td>\n",
       "      <td>NaN</td>\n",
       "      <td>NaN</td>\n",
       "      <td>/data2/isshamie/mito_lineage/data/processed/20...</td>\n",
       "    </tr>\n",
       "  </tbody>\n",
       "</table>\n",
       "</div>"
      ],
      "text/plain": [
       "                                    sample  raw  bam  \\\n",
       "sample                                                 \n",
       "CD34_Flt3L_mt_PolydT  CD34_Flt3L_mt_PolydT  NaN  NaN   \n",
       "CD34_Flt3L_PolydT        CD34_Flt3L_PolydT  NaN  NaN   \n",
       "CD34_Flt3L_mt                CD34_Flt3L_mt  NaN  NaN   \n",
       "CD34_mt_PolydT              CD34_mt_PolydT  NaN  NaN   \n",
       "CD34_mt                            CD34_mt  NaN  NaN   \n",
       "CD34_PolydT                    CD34_PolydT  NaN  NaN   \n",
       "PBMC_mt                            PBMC_mt  NaN  NaN   \n",
       "PBMC_mt_PolydT              PBMC_mt_PolydT  NaN  NaN   \n",
       "\n",
       "                                                                  bam_f  \n",
       "sample                                                                   \n",
       "CD34_Flt3L_mt_PolydT  /data2/isshamie/mito_lineage/data/processed/20...  \n",
       "CD34_Flt3L_PolydT     /data2/isshamie/mito_lineage/data/processed/20...  \n",
       "CD34_Flt3L_mt         /data2/isshamie/mito_lineage/data/processed/20...  \n",
       "CD34_mt_PolydT        /data2/isshamie/mito_lineage/data/processed/20...  \n",
       "CD34_mt               /data2/isshamie/mito_lineage/data/processed/20...  \n",
       "CD34_PolydT           /data2/isshamie/mito_lineage/data/processed/20...  \n",
       "PBMC_mt               /data2/isshamie/mito_lineage/data/processed/20...  \n",
       "PBMC_mt_PolydT        /data2/isshamie/mito_lineage/data/processed/20...  "
      ]
     },
     "execution_count": 1,
     "metadata": {},
     "output_type": "execute_result"
    }
   ],
   "source": [
    "import os\n",
    "from src.config import ROOT_DIR, RESULTS\n",
    "from src.calculate_AF_by_cell import calculate_af\n",
    "import yaml \n",
    "import pandas as pd\n",
    "from os.path import join\n",
    "os.chdir(ROOT_DIR)\n",
    "with open('parameters/2020_09_07_Croker_mito.yaml') as f:\n",
    "    config = yaml.safe_load(f)\n",
    "samples = pd.read_table(config[\"samples\"], dtype=str,sep=',').set_index([\"sample\"], drop=False)\n",
    "samples"
   ]
  },
  {
   "cell_type": "code",
   "execution_count": 2,
   "metadata": {
    "ExecuteTime": {
     "end_time": "2020-10-01T04:01:32.378906Z",
     "start_time": "2020-10-01T04:01:32.367679Z"
    }
   },
   "outputs": [
    {
     "data": {
      "text/plain": [
       "'/data2/mito_lineage/data/processed/mttrace/lineage_trace/CD34_mt_polydT/report/chrom_cov'"
      ]
     },
     "execution_count": 2,
     "metadata": {},
     "output_type": "execute_result"
    }
   ],
   "source": [
    "min_cells=10\n",
    "min_reads=10\n",
    "topN=0\n",
    "min_het_cells=10\n",
    "het_thresh=0.1\n",
    "\n",
    "indir=join(RESULTS,\"mttrace\")\n",
    "\n",
    "dirnam = f\"minC{min_cells}_minR{min_reads}_topN{topN}_hetC{min_het_cells}_hetT{het_thresh}\"\n",
    "outdir = join(indir, \"lineage_trace/CD34_mt_polydT/report/chrom_cov\")\n",
    "if not os.path.exists(outdir):\n",
    "    os.makedirs(outdir)\n",
    "outdir"
   ]
  },
  {
   "cell_type": "code",
   "execution_count": 3,
   "metadata": {
    "ExecuteTime": {
     "end_time": "2020-10-01T04:01:32.385460Z",
     "start_time": "2020-10-01T04:01:32.382107Z"
    }
   },
   "outputs": [],
   "source": [
    "import glob"
   ]
  },
  {
   "cell_type": "code",
   "execution_count": 4,
   "metadata": {
    "ExecuteTime": {
     "end_time": "2020-10-01T04:01:32.400043Z",
     "start_time": "2020-10-01T04:01:32.388617Z"
    }
   },
   "outputs": [],
   "source": [
    "from numpanpar import parallel_df as pardf"
   ]
  },
  {
   "cell_type": "code",
   "execution_count": 5,
   "metadata": {
    "ExecuteTime": {
     "end_time": "2020-10-01T04:01:32.409647Z",
     "start_time": "2020-10-01T04:01:32.402309Z"
    }
   },
   "outputs": [],
   "source": [
    "# samples_af_by_cell = {}\n",
    "# samples_af = {}\n",
    "# maxBP = 16571\n",
    "# for ind, val in samples.iterrows():\n",
    "#     cmd = f'bedtools genomecov -ibam {val[\"bam_f\"]} -d > {join(outdir, ind + \".cov.tsv\")}'\n",
    "    \n",
    "#     print(cmd)\n",
    "#     !{cmd}"
   ]
  },
  {
   "cell_type": "code",
   "execution_count": 6,
   "metadata": {
    "ExecuteTime": {
     "end_time": "2020-10-01T04:01:32.420265Z",
     "start_time": "2020-10-01T04:01:32.411969Z"
    }
   },
   "outputs": [],
   "source": [
    "def run_samdepth(curr, outdir):\n",
    "    maxBP = 16571\n",
    "    for ind, val in curr.iterrows():\n",
    "        cmd = f'samtools depth -a {val[\"bam_f\"]} > {join(outdir, ind + \".cov.tsv\")}'\n",
    "        print(cmd)\n",
    "        !{cmd}"
   ]
  },
  {
   "cell_type": "code",
   "execution_count": 7,
   "metadata": {
    "ExecuteTime": {
     "end_time": "2020-10-01T05:16:37.227717Z",
     "start_time": "2020-10-01T04:01:32.423547Z"
    },
    "scrolled": true
   },
   "outputs": [
    {
     "name": "stdout",
     "output_type": "stream",
     "text": [
      "samtools depth -a /data2/isshamie/mito_lineage/data/processed/2020_09_07_Croker_mito/CD34_Flt3L_PolydT_fiveprime/outs/possorted_genome_bam.bam > /data2/mito_lineage/data/processed/mttrace/lineage_trace/CD34_mt_polydT/report/chrom_cov/CD34_Flt3L_PolydT.cov.tsv\n",
      "samtools depth -a /data2/isshamie/mito_lineage/data/processed/2020_09_07_Croker_mito/CD34_mt_PolydT_fiveprime/outs/possorted_genome_bam.bam > /data2/mito_lineage/data/processed/mttrace/lineage_trace/CD34_mt_polydT/report/chrom_cov/CD34_mt_PolydT.cov.tsv\n",
      "samtools depth -a /data2/isshamie/mito_lineage/data/processed/2020_09_07_Croker_mito/CD34_Flt3L_mt_PolydT_fiveprime/outs/possorted_genome_bam.bam > /data2/mito_lineage/data/processed/mttrace/lineage_trace/CD34_mt_polydT/report/chrom_cov/CD34_Flt3L_mt_PolydT.cov.tsv\n",
      "samtools depth -a /data2/isshamie/mito_lineage/data/processed/2020_09_07_Croker_mito/CD34_Flt3L_mt_fiveprime/outs/possorted_genome_bam.bam > /data2/mito_lineage/data/processed/mttrace/lineage_trace/CD34_mt_polydT/report/chrom_cov/CD34_Flt3L_mt.cov.tsv\n",
      "samtools depth -a /data2/isshamie/mito_lineage/data/processed/2020_09_07_Croker_mito/CD34_mt_fiveprime/outs/possorted_genome_bam.bam > /data2/mito_lineage/data/processed/mttrace/lineage_trace/CD34_mt_polydT/report/chrom_cov/CD34_mt.cov.tsv\n",
      "samtools depth -a /data2/isshamie/mito_lineage/data/processed/2020_09_07_Croker_mito/CD34_PolydT_fiveprime/outs/possorted_genome_bam.bam > /data2/mito_lineage/data/processed/mttrace/lineage_trace/CD34_mt_polydT/report/chrom_cov/CD34_PolydT.cov.tsv\n",
      "samtools depth -a /data2/isshamie/mito_lineage/data/processed/2020_09_07_Croker_mito/PBMC_mt_PolydT_fiveprime/outs/possorted_genome_bam.bam > /data2/mito_lineage/data/processed/mttrace/lineage_trace/CD34_mt_polydT/report/chrom_cov/PBMC_mt_PolydT.cov.tsv\n",
      "samtools depth -a /data2/isshamie/mito_lineage/data/processed/2020_09_07_Croker_mito/PBMC_mt_fiveprime/outs/possorted_genome_bam.bam > /data2/mito_lineage/data/processed/mttrace/lineage_trace/CD34_mt_polydT/report/chrom_cov/PBMC_mt.cov.tsv\n"
     ]
    },
    {
     "name": "stderr",
     "output_type": "stream",
     "text": [
      "Process ForkPoolWorker-7:\n",
      "Process ForkPoolWorker-1:\n",
      "Process ForkPoolWorker-4:\n",
      "Process ForkPoolWorker-8:\n",
      "Process ForkPoolWorker-5:\n",
      "Process ForkPoolWorker-3:\n",
      "Process ForkPoolWorker-6:\n",
      "Traceback (most recent call last):\n",
      "Traceback (most recent call last):\n",
      "Traceback (most recent call last):\n",
      "Traceback (most recent call last):\n",
      "Traceback (most recent call last):\n",
      "Traceback (most recent call last):\n",
      "  File \"/home/isshamie/software/anaconda2/envs/mito_trace/lib/python3.7/multiprocessing/process.py\", line 297, in _bootstrap\n",
      "    self.run()\n",
      "  File \"/home/isshamie/software/anaconda2/envs/mito_trace/lib/python3.7/multiprocessing/process.py\", line 297, in _bootstrap\n",
      "    self.run()\n",
      "  File \"/home/isshamie/software/anaconda2/envs/mito_trace/lib/python3.7/multiprocessing/process.py\", line 297, in _bootstrap\n",
      "    self.run()\n",
      "  File \"/home/isshamie/software/anaconda2/envs/mito_trace/lib/python3.7/multiprocessing/process.py\", line 297, in _bootstrap\n",
      "    self.run()\n",
      "  File \"/home/isshamie/software/anaconda2/envs/mito_trace/lib/python3.7/multiprocessing/process.py\", line 297, in _bootstrap\n",
      "    self.run()\n",
      "  File \"/home/isshamie/software/anaconda2/envs/mito_trace/lib/python3.7/multiprocessing/process.py\", line 297, in _bootstrap\n",
      "    self.run()\n",
      "  File \"/home/isshamie/software/anaconda2/envs/mito_trace/lib/python3.7/multiprocessing/process.py\", line 99, in run\n",
      "    self._target(*self._args, **self._kwargs)\n",
      "  File \"/home/isshamie/software/anaconda2/envs/mito_trace/lib/python3.7/multiprocessing/process.py\", line 99, in run\n",
      "    self._target(*self._args, **self._kwargs)\n",
      "  File \"/home/isshamie/software/anaconda2/envs/mito_trace/lib/python3.7/multiprocessing/process.py\", line 99, in run\n",
      "    self._target(*self._args, **self._kwargs)\n",
      "  File \"/home/isshamie/software/anaconda2/envs/mito_trace/lib/python3.7/multiprocessing/process.py\", line 99, in run\n",
      "    self._target(*self._args, **self._kwargs)\n",
      "  File \"/home/isshamie/software/anaconda2/envs/mito_trace/lib/python3.7/multiprocessing/process.py\", line 99, in run\n",
      "    self._target(*self._args, **self._kwargs)\n",
      "  File \"/home/isshamie/software/anaconda2/envs/mito_trace/lib/python3.7/multiprocessing/pool.py\", line 110, in worker\n",
      "    task = get()\n",
      "  File \"/home/isshamie/software/anaconda2/envs/mito_trace/lib/python3.7/multiprocessing/process.py\", line 99, in run\n",
      "    self._target(*self._args, **self._kwargs)\n",
      "  File \"/home/isshamie/software/anaconda2/envs/mito_trace/lib/python3.7/multiprocessing/pool.py\", line 110, in worker\n",
      "    task = get()\n",
      "  File \"/home/isshamie/software/anaconda2/envs/mito_trace/lib/python3.7/multiprocessing/pool.py\", line 110, in worker\n",
      "    task = get()\n",
      "  File \"/home/isshamie/software/anaconda2/envs/mito_trace/lib/python3.7/multiprocessing/pool.py\", line 110, in worker\n",
      "    task = get()\n",
      "  File \"/home/isshamie/software/anaconda2/envs/mito_trace/lib/python3.7/multiprocessing/queues.py\", line 351, in get\n",
      "    with self._rlock:\n",
      "  File \"/home/isshamie/software/anaconda2/envs/mito_trace/lib/python3.7/multiprocessing/pool.py\", line 110, in worker\n",
      "    task = get()\n",
      "  File \"/home/isshamie/software/anaconda2/envs/mito_trace/lib/python3.7/multiprocessing/pool.py\", line 110, in worker\n",
      "    task = get()\n",
      "  File \"/home/isshamie/software/anaconda2/envs/mito_trace/lib/python3.7/multiprocessing/queues.py\", line 351, in get\n",
      "    with self._rlock:\n",
      "  File \"/home/isshamie/software/anaconda2/envs/mito_trace/lib/python3.7/multiprocessing/queues.py\", line 351, in get\n",
      "    with self._rlock:\n",
      "  File \"/home/isshamie/software/anaconda2/envs/mito_trace/lib/python3.7/multiprocessing/queues.py\", line 351, in get\n",
      "    with self._rlock:\n",
      "  File \"/home/isshamie/software/anaconda2/envs/mito_trace/lib/python3.7/multiprocessing/synchronize.py\", line 95, in __enter__\n",
      "    return self._semlock.__enter__()\n",
      "  File \"/home/isshamie/software/anaconda2/envs/mito_trace/lib/python3.7/multiprocessing/queues.py\", line 351, in get\n",
      "    with self._rlock:\n",
      "  File \"/home/isshamie/software/anaconda2/envs/mito_trace/lib/python3.7/multiprocessing/synchronize.py\", line 95, in __enter__\n",
      "    return self._semlock.__enter__()\n",
      "  File \"/home/isshamie/software/anaconda2/envs/mito_trace/lib/python3.7/multiprocessing/synchronize.py\", line 95, in __enter__\n",
      "    return self._semlock.__enter__()\n",
      "  File \"/home/isshamie/software/anaconda2/envs/mito_trace/lib/python3.7/multiprocessing/queues.py\", line 351, in get\n",
      "    with self._rlock:\n",
      "KeyboardInterrupt\n",
      "  File \"/home/isshamie/software/anaconda2/envs/mito_trace/lib/python3.7/multiprocessing/synchronize.py\", line 95, in __enter__\n",
      "    return self._semlock.__enter__()\n",
      "Traceback (most recent call last):\n",
      "  File \"/home/isshamie/software/anaconda2/envs/mito_trace/lib/python3.7/multiprocessing/synchronize.py\", line 95, in __enter__\n",
      "    return self._semlock.__enter__()\n",
      "KeyboardInterrupt\n",
      "KeyboardInterrupt\n",
      "  File \"/home/isshamie/software/anaconda2/envs/mito_trace/lib/python3.7/multiprocessing/synchronize.py\", line 95, in __enter__\n",
      "    return self._semlock.__enter__()\n",
      "KeyboardInterrupt\n",
      "  File \"/home/isshamie/software/anaconda2/envs/mito_trace/lib/python3.7/multiprocessing/process.py\", line 297, in _bootstrap\n",
      "    self.run()\n",
      "KeyboardInterrupt\n",
      "KeyboardInterrupt\n",
      "  File \"/home/isshamie/software/anaconda2/envs/mito_trace/lib/python3.7/multiprocessing/process.py\", line 99, in run\n",
      "    self._target(*self._args, **self._kwargs)\n",
      "  File \"/home/isshamie/software/anaconda2/envs/mito_trace/lib/python3.7/multiprocessing/pool.py\", line 110, in worker\n",
      "    task = get()\n",
      "  File \"/home/isshamie/software/anaconda2/envs/mito_trace/lib/python3.7/multiprocessing/queues.py\", line 352, in get\n",
      "    res = self._reader.recv_bytes()\n",
      "  File \"/home/isshamie/software/anaconda2/envs/mito_trace/lib/python3.7/multiprocessing/connection.py\", line 216, in recv_bytes\n",
      "    buf = self._recv_bytes(maxlength)\n",
      "  File \"/home/isshamie/software/anaconda2/envs/mito_trace/lib/python3.7/multiprocessing/connection.py\", line 407, in _recv_bytes\n",
      "    buf = self._recv(4)\n",
      "  File \"/home/isshamie/software/anaconda2/envs/mito_trace/lib/python3.7/multiprocessing/connection.py\", line 379, in _recv\n",
      "    chunk = read(handle, remaining)\n",
      "KeyboardInterrupt\n"
     ]
    },
    {
     "name": "stdout",
     "output_type": "stream",
     "text": [
      "^C\r\n"
     ]
    },
    {
     "name": "stderr",
     "output_type": "stream",
     "text": [
      "Process ForkPoolWorker-9:\n",
      "Process ForkPoolWorker-13:\n",
      "Process ForkPoolWorker-12:\n",
      "ERROR:root:Internal Python error in the inspect module.\n",
      "Below is the traceback from this internal error.\n",
      "\n",
      "Process ForkPoolWorker-14:\n",
      "Process ForkPoolWorker-11:\n",
      "Process ForkPoolWorker-10:\n",
      "Traceback (most recent call last):\n",
      "Traceback (most recent call last):\n",
      "Traceback (most recent call last):\n",
      "Traceback (most recent call last):\n",
      "Traceback (most recent call last):\n",
      "  File \"/home/isshamie/software/anaconda2/envs/mito_trace/lib/python3.7/multiprocessing/process.py\", line 297, in _bootstrap\n",
      "    self.run()\n",
      "Traceback (most recent call last):\n",
      "  File \"/home/isshamie/software/anaconda2/envs/mito_trace/lib/python3.7/multiprocessing/process.py\", line 297, in _bootstrap\n",
      "    self.run()\n",
      "  File \"/home/isshamie/software/anaconda2/envs/mito_trace/lib/python3.7/multiprocessing/process.py\", line 297, in _bootstrap\n",
      "    self.run()\n",
      "  File \"/home/isshamie/software/anaconda2/envs/mito_trace/lib/python3.7/multiprocessing/process.py\", line 297, in _bootstrap\n",
      "    self.run()\n",
      "  File \"/home/isshamie/software/anaconda2/envs/mito_trace/lib/python3.7/multiprocessing/process.py\", line 297, in _bootstrap\n",
      "    self.run()\n",
      "  File \"/home/isshamie/software/anaconda2/envs/mito_trace/lib/python3.7/multiprocessing/process.py\", line 99, in run\n",
      "    self._target(*self._args, **self._kwargs)\n",
      "  File \"/home/isshamie/software/anaconda2/envs/mito_trace/lib/python3.7/multiprocessing/process.py\", line 297, in _bootstrap\n",
      "    self.run()\n",
      "  File \"/home/isshamie/software/anaconda2/envs/mito_trace/lib/python3.7/multiprocessing/process.py\", line 99, in run\n",
      "    self._target(*self._args, **self._kwargs)\n",
      "  File \"/home/isshamie/software/anaconda2/envs/mito_trace/lib/python3.7/multiprocessing/process.py\", line 99, in run\n",
      "    self._target(*self._args, **self._kwargs)\n",
      "  File \"/home/isshamie/software/anaconda2/envs/mito_trace/lib/python3.7/multiprocessing/process.py\", line 99, in run\n",
      "    self._target(*self._args, **self._kwargs)\n",
      "  File \"/home/isshamie/software/anaconda2/envs/mito_trace/lib/python3.7/multiprocessing/pool.py\", line 110, in worker\n",
      "    task = get()\n",
      "  File \"/home/isshamie/software/anaconda2/envs/mito_trace/lib/python3.7/multiprocessing/process.py\", line 99, in run\n",
      "    self._target(*self._args, **self._kwargs)\n",
      "  File \"/home/isshamie/software/anaconda2/envs/mito_trace/lib/python3.7/multiprocessing/process.py\", line 99, in run\n",
      "    self._target(*self._args, **self._kwargs)\n",
      "  File \"/home/isshamie/software/anaconda2/envs/mito_trace/lib/python3.7/multiprocessing/pool.py\", line 110, in worker\n",
      "    task = get()\n",
      "  File \"/home/isshamie/software/anaconda2/envs/mito_trace/lib/python3.7/multiprocessing/pool.py\", line 110, in worker\n",
      "    task = get()\n",
      "  File \"/home/isshamie/software/anaconda2/envs/mito_trace/lib/python3.7/multiprocessing/pool.py\", line 110, in worker\n",
      "    task = get()\n",
      "  File \"/home/isshamie/software/anaconda2/envs/mito_trace/lib/python3.7/multiprocessing/queues.py\", line 352, in get\n",
      "    res = self._reader.recv_bytes()\n",
      "  File \"/home/isshamie/software/anaconda2/envs/mito_trace/lib/python3.7/multiprocessing/pool.py\", line 110, in worker\n",
      "    task = get()\n",
      "  File \"/home/isshamie/software/anaconda2/envs/mito_trace/lib/python3.7/multiprocessing/queues.py\", line 351, in get\n",
      "    with self._rlock:\n",
      "  File \"/home/isshamie/software/anaconda2/envs/mito_trace/lib/python3.7/multiprocessing/pool.py\", line 110, in worker\n",
      "    task = get()\n",
      "  File \"/home/isshamie/software/anaconda2/envs/mito_trace/lib/python3.7/multiprocessing/queues.py\", line 351, in get\n",
      "    with self._rlock:\n",
      "  File \"/home/isshamie/software/anaconda2/envs/mito_trace/lib/python3.7/multiprocessing/queues.py\", line 351, in get\n",
      "    with self._rlock:\n",
      "  File \"/home/isshamie/software/anaconda2/envs/mito_trace/lib/python3.7/multiprocessing/queues.py\", line 351, in get\n",
      "    with self._rlock:\n",
      "  File \"/home/isshamie/software/anaconda2/envs/mito_trace/lib/python3.7/multiprocessing/connection.py\", line 216, in recv_bytes\n",
      "    buf = self._recv_bytes(maxlength)\n",
      "  File \"/home/isshamie/software/anaconda2/envs/mito_trace/lib/python3.7/multiprocessing/synchronize.py\", line 95, in __enter__\n",
      "    return self._semlock.__enter__()\n",
      "  File \"/home/isshamie/software/anaconda2/envs/mito_trace/lib/python3.7/multiprocessing/queues.py\", line 351, in get\n",
      "    with self._rlock:\n",
      "  File \"/home/isshamie/software/anaconda2/envs/mito_trace/lib/python3.7/multiprocessing/synchronize.py\", line 95, in __enter__\n",
      "    return self._semlock.__enter__()\n",
      "  File \"/home/isshamie/software/anaconda2/envs/mito_trace/lib/python3.7/multiprocessing/synchronize.py\", line 95, in __enter__\n",
      "    return self._semlock.__enter__()\n",
      "  File \"/home/isshamie/software/anaconda2/envs/mito_trace/lib/python3.7/multiprocessing/synchronize.py\", line 95, in __enter__\n",
      "    return self._semlock.__enter__()\n",
      "  File \"/home/isshamie/software/anaconda2/envs/mito_trace/lib/python3.7/multiprocessing/connection.py\", line 407, in _recv_bytes\n",
      "    buf = self._recv(4)\n",
      "KeyboardInterrupt\n",
      "  File \"/home/isshamie/software/anaconda2/envs/mito_trace/lib/python3.7/multiprocessing/synchronize.py\", line 95, in __enter__\n",
      "    return self._semlock.__enter__()\n",
      "KeyboardInterrupt\n",
      "KeyboardInterrupt\n",
      "KeyboardInterrupt\n",
      "  File \"/home/isshamie/software/anaconda2/envs/mito_trace/lib/python3.7/multiprocessing/connection.py\", line 379, in _recv\n",
      "    chunk = read(handle, remaining)\n",
      "KeyboardInterrupt\n",
      "KeyboardInterrupt\n"
     ]
    },
    {
     "name": "stdout",
     "output_type": "stream",
     "text": [
      "Traceback (most recent call last):\n",
      "  File \"/home/isshamie/software/anaconda2/envs/mito_trace/lib/python3.7/site-packages/IPython/core/interactiveshell.py\", line 3326, in run_code\n",
      "    exec(code_obj, self.user_global_ns, self.user_ns)\n",
      "  File \"<ipython-input-7-16b3e0c52826>\", line 1, in <module>\n",
      "    pardf(samples, func=run_samdepth, num_processes=len(samples), func_args=(outdir,))\n",
      "  File \"/home/isshamie/software/homebrew/parallel_functions/numpanpar/parallel_functions.py\", line 93, in parallel_df\n",
      "    result = pool.map(multi_run_wrapper, zip(itertools.repeat(func), chunks, itertools.repeat(func_args)))\n",
      "  File \"/home/isshamie/software/anaconda2/envs/mito_trace/lib/python3.7/multiprocessing/pool.py\", line 268, in map\n",
      "    return self._map_async(func, iterable, mapstar, chunksize).get()\n",
      "  File \"/home/isshamie/software/anaconda2/envs/mito_trace/lib/python3.7/multiprocessing/pool.py\", line 651, in get\n",
      "    self.wait(timeout)\n",
      "  File \"/home/isshamie/software/anaconda2/envs/mito_trace/lib/python3.7/multiprocessing/pool.py\", line 648, in wait\n",
      "    self._event.wait(timeout)\n",
      "  File \"/home/isshamie/software/anaconda2/envs/mito_trace/lib/python3.7/threading.py\", line 552, in wait\n",
      "    signaled = self._cond.wait(timeout)\n",
      "  File \"/home/isshamie/software/anaconda2/envs/mito_trace/lib/python3.7/threading.py\", line 296, in wait\n",
      "    waiter.acquire()\n",
      "KeyboardInterrupt\n",
      "\n",
      "During handling of the above exception, another exception occurred:\n",
      "\n",
      "Traceback (most recent call last):\n",
      "  File \"/home/isshamie/software/anaconda2/envs/mito_trace/lib/python3.7/site-packages/IPython/core/interactiveshell.py\", line 2040, in showtraceback\n",
      "    stb = value._render_traceback_()\n",
      "AttributeError: 'KeyboardInterrupt' object has no attribute '_render_traceback_'\n",
      "\n",
      "During handling of the above exception, another exception occurred:\n",
      "\n",
      "Traceback (most recent call last):\n",
      "  File \"/home/isshamie/software/anaconda2/envs/mito_trace/lib/python3.7/site-packages/IPython/core/ultratb.py\", line 1101, in get_records\n",
      "    return _fixed_getinnerframes(etb, number_of_lines_of_context, tb_offset)\n",
      "  File \"/home/isshamie/software/anaconda2/envs/mito_trace/lib/python3.7/site-packages/IPython/core/ultratb.py\", line 319, in wrapped\n",
      "    return f(*args, **kwargs)\n",
      "  File \"/home/isshamie/software/anaconda2/envs/mito_trace/lib/python3.7/site-packages/IPython/core/ultratb.py\", line 353, in _fixed_getinnerframes\n",
      "    records = fix_frame_records_filenames(inspect.getinnerframes(etb, context))\n",
      "  File \"/home/isshamie/software/anaconda2/envs/mito_trace/lib/python3.7/inspect.py\", line 1502, in getinnerframes\n",
      "    frameinfo = (tb.tb_frame,) + getframeinfo(tb, context)\n",
      "  File \"/home/isshamie/software/anaconda2/envs/mito_trace/lib/python3.7/inspect.py\", line 1460, in getframeinfo\n",
      "    filename = getsourcefile(frame) or getfile(frame)\n",
      "  File \"/home/isshamie/software/anaconda2/envs/mito_trace/lib/python3.7/inspect.py\", line 696, in getsourcefile\n",
      "    if getattr(getmodule(object, filename), '__loader__', None) is not None:\n",
      "  File \"/home/isshamie/software/anaconda2/envs/mito_trace/lib/python3.7/inspect.py\", line 742, in getmodule\n",
      "    os.path.realpath(f)] = module.__name__\n",
      "  File \"/home/isshamie/software/anaconda2/envs/mito_trace/lib/python3.7/posixpath.py\", line 395, in realpath\n",
      "    path, ok = _joinrealpath(filename[:0], filename, {})\n",
      "  File \"/home/isshamie/software/anaconda2/envs/mito_trace/lib/python3.7/posixpath.py\", line 429, in _joinrealpath\n",
      "    if not islink(newpath):\n",
      "  File \"/home/isshamie/software/anaconda2/envs/mito_trace/lib/python3.7/posixpath.py\", line 171, in islink\n",
      "    st = os.lstat(path)\n",
      "KeyboardInterrupt\n"
     ]
    },
    {
     "ename": "KeyboardInterrupt",
     "evalue": "",
     "output_type": "error",
     "traceback": [
      "\u001b[0;31m---------------------------------------------------------------------------\u001b[0m"
     ]
    },
    {
     "name": "stderr",
     "output_type": "stream",
     "text": [
      "Process ForkPoolWorker-2:\n",
      "Process ForkPoolWorker-15:\n",
      "Traceback (most recent call last):\n",
      "Traceback (most recent call last):\n",
      "  File \"/home/isshamie/software/anaconda2/envs/mito_trace/lib/python3.7/multiprocessing/process.py\", line 297, in _bootstrap\n",
      "    self.run()\n",
      "  File \"/home/isshamie/software/anaconda2/envs/mito_trace/lib/python3.7/multiprocessing/process.py\", line 297, in _bootstrap\n",
      "    self.run()\n",
      "  File \"/home/isshamie/software/anaconda2/envs/mito_trace/lib/python3.7/multiprocessing/process.py\", line 99, in run\n",
      "    self._target(*self._args, **self._kwargs)\n",
      "  File \"/home/isshamie/software/anaconda2/envs/mito_trace/lib/python3.7/multiprocessing/process.py\", line 99, in run\n",
      "    self._target(*self._args, **self._kwargs)\n",
      "  File \"/home/isshamie/software/anaconda2/envs/mito_trace/lib/python3.7/multiprocessing/pool.py\", line 110, in worker\n",
      "    task = get()\n",
      "  File \"/home/isshamie/software/anaconda2/envs/mito_trace/lib/python3.7/multiprocessing/pool.py\", line 110, in worker\n",
      "    task = get()\n",
      "  File \"/home/isshamie/software/anaconda2/envs/mito_trace/lib/python3.7/multiprocessing/queues.py\", line 352, in get\n",
      "    res = self._reader.recv_bytes()\n",
      "  File \"/home/isshamie/software/anaconda2/envs/mito_trace/lib/python3.7/multiprocessing/queues.py\", line 351, in get\n",
      "    with self._rlock:\n",
      "  File \"/home/isshamie/software/anaconda2/envs/mito_trace/lib/python3.7/multiprocessing/connection.py\", line 216, in recv_bytes\n",
      "    buf = self._recv_bytes(maxlength)\n",
      "  File \"/home/isshamie/software/anaconda2/envs/mito_trace/lib/python3.7/multiprocessing/synchronize.py\", line 95, in __enter__\n",
      "    return self._semlock.__enter__()\n",
      "  File \"/home/isshamie/software/anaconda2/envs/mito_trace/lib/python3.7/multiprocessing/connection.py\", line 407, in _recv_bytes\n",
      "    buf = self._recv(4)\n",
      "KeyboardInterrupt\n",
      "  File \"/home/isshamie/software/anaconda2/envs/mito_trace/lib/python3.7/multiprocessing/connection.py\", line 379, in _recv\n",
      "    chunk = read(handle, remaining)\n",
      "KeyboardInterrupt\n"
     ]
    }
   ],
   "source": [
    "pardf(samples, func=run_samdepth, num_processes=len(samples), func_args=(outdir,))"
   ]
  },
  {
   "cell_type": "code",
   "execution_count": 8,
   "metadata": {
    "ExecuteTime": {
     "end_time": "2020-10-01T05:16:57.248661Z",
     "start_time": "2020-10-01T05:16:42.725200Z"
    },
    "scrolled": true
   },
   "outputs": [
    {
     "name": "stderr",
     "output_type": "stream",
     "text": [
      "ERROR:root:Internal Python error in the inspect module.\n",
      "Below is the traceback from this internal error.\n",
      "\n"
     ]
    },
    {
     "name": "stdout",
     "output_type": "stream",
     "text": [
      "Traceback (most recent call last):\n",
      "  File \"/home/isshamie/software/anaconda2/envs/mito_trace/lib/python3.7/site-packages/IPython/core/interactiveshell.py\", line 3326, in run_code\n",
      "    exec(code_obj, self.user_global_ns, self.user_ns)\n",
      "  File \"<ipython-input-8-666d9559d9eb>\", line 3, in <module>\n",
      "    cov = pd.read_csv(join(outdir, ind + \".cov.tsv\"),sep='\\t', header=None)\n",
      "  File \"/home/isshamie/software/anaconda2/envs/mito_trace/lib/python3.7/site-packages/pandas/io/parsers.py\", line 685, in parser_f\n",
      "    return _read(filepath_or_buffer, kwds)\n",
      "  File \"/home/isshamie/software/anaconda2/envs/mito_trace/lib/python3.7/site-packages/pandas/io/parsers.py\", line 463, in _read\n",
      "    data = parser.read(nrows)\n",
      "  File \"/home/isshamie/software/anaconda2/envs/mito_trace/lib/python3.7/site-packages/pandas/io/parsers.py\", line 1154, in read\n",
      "    ret = self._engine.read(nrows)\n",
      "  File \"/home/isshamie/software/anaconda2/envs/mito_trace/lib/python3.7/site-packages/pandas/io/parsers.py\", line 2059, in read\n",
      "    data = self._reader.read(nrows)\n",
      "  File \"pandas/_libs/parsers.pyx\", line 881, in pandas._libs.parsers.TextReader.read\n",
      "  File \"pandas/_libs/parsers.pyx\", line 896, in pandas._libs.parsers.TextReader._read_low_memory\n",
      "  File \"pandas/_libs/parsers.pyx\", line 973, in pandas._libs.parsers.TextReader._read_rows\n",
      "  File \"pandas/_libs/parsers.pyx\", line 1105, in pandas._libs.parsers.TextReader._convert_column_data\n",
      "  File \"pandas/_libs/parsers.pyx\", line 1151, in pandas._libs.parsers.TextReader._convert_tokens\n",
      "  File \"pandas/_libs/parsers.pyx\", line 1197, in pandas._libs.parsers.TextReader._convert_with_dtype\n",
      "  File \"/home/isshamie/software/anaconda2/envs/mito_trace/lib/python3.7/site-packages/pandas/core/dtypes/common.py\", line 678, in is_categorical_dtype\n",
      "    def is_categorical_dtype(arr_or_dtype):\n",
      "KeyboardInterrupt\n",
      "\n",
      "During handling of the above exception, another exception occurred:\n",
      "\n",
      "Traceback (most recent call last):\n",
      "  File \"/home/isshamie/software/anaconda2/envs/mito_trace/lib/python3.7/site-packages/IPython/core/interactiveshell.py\", line 2040, in showtraceback\n",
      "    stb = value._render_traceback_()\n",
      "AttributeError: 'KeyboardInterrupt' object has no attribute '_render_traceback_'\n",
      "\n",
      "During handling of the above exception, another exception occurred:\n",
      "\n",
      "Traceback (most recent call last):\n",
      "  File \"/home/isshamie/software/anaconda2/envs/mito_trace/lib/python3.7/site-packages/IPython/core/ultratb.py\", line 1101, in get_records\n",
      "    return _fixed_getinnerframes(etb, number_of_lines_of_context, tb_offset)\n",
      "  File \"/home/isshamie/software/anaconda2/envs/mito_trace/lib/python3.7/site-packages/IPython/core/ultratb.py\", line 319, in wrapped\n",
      "    return f(*args, **kwargs)\n",
      "  File \"/home/isshamie/software/anaconda2/envs/mito_trace/lib/python3.7/site-packages/IPython/core/ultratb.py\", line 353, in _fixed_getinnerframes\n",
      "    records = fix_frame_records_filenames(inspect.getinnerframes(etb, context))\n",
      "  File \"/home/isshamie/software/anaconda2/envs/mito_trace/lib/python3.7/inspect.py\", line 1502, in getinnerframes\n",
      "    frameinfo = (tb.tb_frame,) + getframeinfo(tb, context)\n",
      "  File \"/home/isshamie/software/anaconda2/envs/mito_trace/lib/python3.7/inspect.py\", line 1460, in getframeinfo\n",
      "    filename = getsourcefile(frame) or getfile(frame)\n",
      "  File \"/home/isshamie/software/anaconda2/envs/mito_trace/lib/python3.7/inspect.py\", line 696, in getsourcefile\n",
      "    if getattr(getmodule(object, filename), '__loader__', None) is not None:\n",
      "  File \"/home/isshamie/software/anaconda2/envs/mito_trace/lib/python3.7/inspect.py\", line 739, in getmodule\n",
      "    f = getabsfile(module)\n",
      "  File \"/home/isshamie/software/anaconda2/envs/mito_trace/lib/python3.7/inspect.py\", line 709, in getabsfile\n",
      "    return os.path.normcase(os.path.abspath(_filename))\n",
      "  File \"/home/isshamie/software/anaconda2/envs/mito_trace/lib/python3.7/posixpath.py\", line 385, in abspath\n",
      "    return normpath(path)\n",
      "  File \"/home/isshamie/software/anaconda2/envs/mito_trace/lib/python3.7/posixpath.py\", line 370, in normpath\n",
      "    path = sep.join(comps)\n",
      "KeyboardInterrupt\n"
     ]
    },
    {
     "ename": "KeyboardInterrupt",
     "evalue": "",
     "output_type": "error",
     "traceback": [
      "\u001b[0;31m---------------------------------------------------------------------------\u001b[0m"
     ]
    }
   ],
   "source": [
    "pd.DataFrame(index=samples.index)\n",
    "for ind, val in samples.iterrows():\n",
    "    cov = pd.read_csv(join(outdir, ind + \".cov.tsv\"),sep='\\t', header=None)\n",
    "\n",
    "    #cov.groupby(1)\n",
    "    "
   ]
  },
  {
   "cell_type": "code",
   "execution_count": null,
   "metadata": {},
   "outputs": [],
   "source": []
  }
 ],
 "metadata": {
  "kernelspec": {
   "display_name": "Python 3",
   "language": "python",
   "name": "python3"
  },
  "language_info": {
   "codemirror_mode": {
    "name": "ipython",
    "version": 3
   },
   "file_extension": ".py",
   "mimetype": "text/x-python",
   "name": "python",
   "nbconvert_exporter": "python",
   "pygments_lexer": "ipython3",
   "version": "3.7.3"
  }
 },
 "nbformat": 4,
 "nbformat_minor": 2
}
