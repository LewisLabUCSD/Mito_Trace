{
 "cells": [
  {
   "cell_type": "markdown",
   "metadata": {},
   "source": [
    "## Getting bamCoverage on the trimmed cellranger count bam files"
   ]
  },
  {
   "cell_type": "markdown",
   "metadata": {},
   "source": [
    "## Run STAR with the same parameters cellranger used\n",
    "STAR_2.5.1b was used\n",
    "### Concatenate fastq"
   ]
  },
  {
   "cell_type": "code",
   "execution_count": 1,
   "metadata": {
    "ExecuteTime": {
     "end_time": "2020-05-18T20:58:17.389447Z",
     "start_time": "2020-05-18T20:58:17.384210Z"
    }
   },
   "outputs": [],
   "source": [
    "import os\n",
    "from os.path import join, basename, dirname"
   ]
  },
  {
   "cell_type": "markdown",
   "metadata": {},
   "source": [
    "## File names"
   ]
  },
  {
   "cell_type": "code",
   "execution_count": 2,
   "metadata": {
    "ExecuteTime": {
     "end_time": "2020-05-18T20:58:17.436621Z",
     "start_time": "2020-05-18T20:58:17.416328Z"
    }
   },
   "outputs": [],
   "source": [
    "genomedir = \"/data2/genome/human_GRCh38/cellranger/refdata-cellranger-GRCh38-3.0.0/star\"\n",
    "indir = \"/data2/isshamie/mito_lineage/data/processed/200403_A00953_0090_BHC23FDSXY/trim/\"\n",
    "\n",
    "outdir = join(indir, \"homebrew/\")\n",
    "if not os.path.exists(outdir):\n",
    "    os.mkdir(outdir)\n",
    "outdir = join(outdir, \"bam/\")\n",
    "if not os.path.exists(outdir):\n",
    "    os.mkdir(outdir)\n",
    "\n",
    "    \n",
    "ID = \"bc5prime_A\"\n",
    "f1 = join(indir,\"trimmed_BC_5Prime_031020_A_R1.concat.fastq\")\n",
    "f2 = join(indir,\"trimmed_BC_5Prime_031020_A_R2.concat.fastq\")"
   ]
  },
  {
   "cell_type": "code",
   "execution_count": 3,
   "metadata": {
    "ExecuteTime": {
     "end_time": "2020-05-18T20:58:17.556093Z",
     "start_time": "2020-05-18T20:58:17.439319Z"
    }
   },
   "outputs": [
    {
     "name": "stdout",
     "output_type": "stream",
     "text": [
      "/home/isshamie/software/STAR-2.5.3a/bin/Linux_x86_64/STAR\r\n"
     ]
    }
   ],
   "source": [
    "!which STAR"
   ]
  },
  {
   "cell_type": "markdown",
   "metadata": {},
   "source": [
    "## Run STAR and dont use R1 for mapping"
   ]
  },
  {
   "cell_type": "code",
   "execution_count": 14,
   "metadata": {
    "ExecuteTime": {
     "end_time": "2020-05-19T05:34:46.769984Z",
     "start_time": "2020-05-19T05:34:46.741075Z"
    }
   },
   "outputs": [],
   "source": [
    "def star_cmd(genomedir, r1,r2, outdir,ID, math_val=0.1, use_both_reads=False):\n",
    "    if use_both_reads:\n",
    "            cmd = f\"STAR --runThreadN 8  --genomeDir {genomedir}  --readFilesIn {r1} {r2} --outFileNamePrefix {join(outdir, ID)} --outSAMtype BAM SortedByCoordinate --outWigType bedGraph --readNameSeparator space --outStd Log   --outSAMattrRGline ID:{ID}:0:1:HC23FDSXY:3   SM:{ID} LB:0.1 PU:{ID}:0:1:HC23FDSXY:3 PL:ILLUMINA  --outSAMmultNmax 18446744073709551615\"\n",
    "    else:\n",
    "        cmd = f\"STAR --runThreadN 8  --genomeDir {genomedir}  --readFilesIn {r2} --outFileNamePrefix {join(outdir, ID)} --outSAMtype BAM SortedByCoordinate --outWigType bedGraph --readNameSeparator space --outStd Log   --outSAMattrRGline ID:{ID}:0:1:HC23FDSXY:3   SM:{ID} LB:0.1 PU:{ID}:0:1:HC23FDSXY:3 PL:ILLUMINA  --outSAMmultNmax 18446744073709551615\"\n",
    "    add_params = f\" --outFilterScoreMinOverLread {math_val} --outFilterMatchNminOverLread {math_val}\"\n",
    "    cmd = cmd + add_params\n",
    "    print(cmd)\n",
    "    \n",
    "    return cmd\n",
    "\n",
    "#--readFilesCommand 'gunzip -c'\n",
    "#--outSAMunmapped Within KeepPairs\n",
    "#--outSAMorder PairedKeepInputOrder"
   ]
  },
  {
   "cell_type": "markdown",
   "metadata": {},
   "source": [
    "## A."
   ]
  },
  {
   "cell_type": "code",
   "execution_count": 5,
   "metadata": {
    "ExecuteTime": {
     "end_time": "2020-05-18T21:31:39.221127Z",
     "start_time": "2020-05-18T20:58:17.570512Z"
    },
    "scrolled": false
   },
   "outputs": [
    {
     "name": "stdout",
     "output_type": "stream",
     "text": [
      "STAR --runThreadN 8  --genomeDir /data2/genome/human_GRCh38/cellranger/refdata-cellranger-GRCh38-3.0.0/star  --readFilesIn /data2/isshamie/mito_lineage/data/processed/200403_A00953_0090_BHC23FDSXY/trim/trimmed_A_S1_L001_R2_001.fastq --outFileNamePrefix /data2/isshamie/mito_lineage/data/processed/200403_A00953_0090_BHC23FDSXY/trim/bam/A_0.1 --outSAMtype BAM SortedByCoordinate --outWigType bedGraph --readNameSeparator space --outStd Log   --outSAMattrRGline ID:A_0.1:0:1:HC23FDSXY:3   SM:A_0.1 LB:0.1 PU:A_0.1:0:1:HC23FDSXY:3 PL:ILLUMINA  --outSAMmultNmax 18446744073709551615 --outFilterScoreMinOverLread 0.1 --outFilterMatchNminOverLread 0.1\n",
      "May 18 20:58:17 ..... started STAR run\n",
      "May 18 20:58:17 ..... loading genome\n",
      "May 18 20:58:26 ..... started mapping\n",
      "May 18 21:18:15 ..... started sorting BAM\n",
      "May 18 21:26:51 ..... started wiggle output\n",
      "May 18 21:31:37 ..... finished successfully\n"
     ]
    }
   ],
   "source": [
    "indir = \"/data2/isshamie/mito_lineage/data/processed/200403_A00953_0090_BHC23FDSXY/trim/\"\n",
    "A1_R1 = \"trimmed_A_S1_L001_R1_001.fastq\"\n",
    "A1_R2 = \"trimmed_A_S1_L001_R2_001.fastq\"\n",
    "ID = \"A\"\n",
    "\n",
    "outdir = \"/data2/isshamie/mito_lineage/data/processed/200403_A00953_0090_BHC23FDSXY/trim/bam\"\n",
    "if not os.path.exists(outdir):\n",
    "    os.mkdir(outdir)\n",
    "\n",
    "A1_R1 = join(indir,A1_R1)\n",
    "A1_R2 = join(indir,A1_R2)\n",
    "\n",
    "### Run STAR with parameters for matching lowered\n",
    "\n",
    "\n",
    "#cmd = f\"STAR --runThreadN 4  --genomeDir {genomedir} --readFilesCommand 'gunzip -c' --readFilesIn {A1_R2} --outFileNamePrefix {join(outdir, ID+'.lowerParams')} -–outSAMtype BAM SortedByCoordinate --outWigType bedGraph --readNameSeparator space --outStd Log --outSAMunmapped Within KeepPairs  --outSAMorder PairedKeepInputOrder --outSAMattrRGline ID:{ID}:0:1:HC23FDSXY:3   SM:{ID} LB:0.1 PU:{ID}:0:1:HC23FDSXY:3 PL:ILLUMINA  --outSAMmultNmax 18446744073709551615\"\n",
    "math_val=0.1\n",
    "ID = f\"{ID}_{math_val:0.1f}\"\n",
    "cmd = star_cmd(genomedir, A1_R1,A1_R2, outdir,ID, math_val=0.1)\n",
    "\n",
    "# add_params = \" --outFilterScoreMinOverLread 0.3 --outFilterMatchNminOverLread 0.3\"\n",
    "# cmd = cmd + add_params\n",
    "# print(cmd)\n",
    "\n",
    "!{cmd}"
   ]
  },
  {
   "cell_type": "code",
   "execution_count": 5,
   "metadata": {
    "ExecuteTime": {
     "end_time": "2020-05-18T20:44:24.510387Z",
     "start_time": "2020-05-18T20:19:02.688112Z"
    },
    "scrolled": false
   },
   "outputs": [
    {
     "name": "stdout",
     "output_type": "stream",
     "text": [
      "STAR --runThreadN 8  --genomeDir /data2/genome/human_GRCh38/cellranger/refdata-cellranger-GRCh38-3.0.0/star  --readFilesIn /data2/isshamie/mito_lineage/data/processed/200403_A00953_0090_BHC23FDSXY/trim/trimmed_A_S1_L001_R2_001.fastq --outFileNamePrefix /data2/isshamie/mito_lineage/data/processed/200403_A00953_0090_BHC23FDSXY/trim/bam/A.lowerParams --outSAMtype BAM SortedByCoordinate --outWigType bedGraph --readNameSeparator space --outStd Log   --outSAMattrRGline ID:A:0:1:HC23FDSXY:3   SM:A LB:0.1 PU:A:0:1:HC23FDSXY:3 PL:ILLUMINA  --outSAMmultNmax 18446744073709551615 --outFilterScoreMinOverLread 0.3 --outFilterMatchNminOverLread 0.3\n",
      "May 18 20:19:02 ..... started STAR run\n",
      "May 18 20:19:03 ..... loading genome\n",
      "May 18 20:19:11 ..... started mapping\n",
      "May 18 20:38:41 ..... started sorting BAM\n",
      "May 18 20:41:47 ..... started wiggle output\n",
      "May 18 20:44:23 ..... finished successfully\n"
     ]
    }
   ],
   "source": [
    "# indir = \"/data2/isshamie/mito_lineage/data/processed/200403_A00953_0090_BHC23FDSXY/trim/\"\n",
    "# A1_R1 = \"trimmed_A_S1_L001_R1_001.fastq\"\n",
    "# A1_R2 = \"trimmed_A_S1_L001_R2_001.fastq\"\n",
    "# ID = \"A\"\n",
    "\n",
    "# outdir = \"/data2/isshamie/mito_lineage/data/processed/200403_A00953_0090_BHC23FDSXY/trim/bam\"\n",
    "# if not os.path.exists(outdir):\n",
    "#     os.mkdir(outdir)\n",
    "\n",
    "# A1_R1 = join(indir,A1_R1)\n",
    "# A1_R2 = join(indir,A1_R2)\n",
    "\n",
    "# ### Run STAR with parameters for matching lowered\n",
    "\n",
    "\n",
    "# #cmd = f\"STAR --runThreadN 4  --genomeDir {genomedir} --readFilesCommand 'gunzip -c' --readFilesIn {A1_R2} --outFileNamePrefix {join(outdir, ID+'.lowerParams')} -–outSAMtype BAM SortedByCoordinate --outWigType bedGraph --readNameSeparator space --outStd Log --outSAMunmapped Within KeepPairs  --outSAMorder PairedKeepInputOrder --outSAMattrRGline ID:{ID}:0:1:HC23FDSXY:3   SM:{ID} LB:0.1 PU:{ID}:0:1:HC23FDSXY:3 PL:ILLUMINA  --outSAMmultNmax 18446744073709551615\"\n",
    "# cmd = star_cmd(genomedir, A1_R1,A1_R2, outdir,ID)\n",
    "\n",
    "# # add_params = \" --outFilterScoreMinOverLread 0.3 --outFilterMatchNminOverLread 0.3\"\n",
    "# # cmd = cmd + add_params\n",
    "# # print(cmd)\n",
    "# !{cmd}"
   ]
  },
  {
   "cell_type": "markdown",
   "metadata": {},
   "source": [
    "## AD."
   ]
  },
  {
   "cell_type": "code",
   "execution_count": 13,
   "metadata": {
    "ExecuteTime": {
     "end_time": "2020-05-19T05:34:46.736251Z",
     "start_time": "2020-05-19T04:55:40.226659Z"
    },
    "scrolled": false
   },
   "outputs": [
    {
     "name": "stdout",
     "output_type": "stream",
     "text": [
      "STAR --runThreadN 8  --genomeDir /data2/genome/human_GRCh38/cellranger/refdata-cellranger-GRCh38-3.0.0/star  --readFilesIn /data2/isshamie/mito_lineage/data/processed/200403_A00953_0090_BHC23FDSXY/trim/trimmed_A_S1_L001_R2_001.fastq --outFileNamePrefix /data2/isshamie/mito_lineage/data/processed/200403_A00953_0090_BHC23FDSXY/trim/bam/AD_0.1 --outSAMtype BAM SortedByCoordinate --outWigType bedGraph --readNameSeparator space --outStd Log   --outSAMattrRGline ID:AD_0.1:0:1:HC23FDSXY:3   SM:AD_0.1 LB:0.1 PU:AD_0.1:0:1:HC23FDSXY:3 PL:ILLUMINA  --outSAMmultNmax 18446744073709551615 --outFilterScoreMinOverLread 0.1 --outFilterMatchNminOverLread 0.1\n",
      "May 19 04:55:40 ..... started STAR run\n",
      "May 19 04:55:40 ..... loading genome\n",
      "May 19 04:55:51 ..... started mapping\n",
      "May 19 05:19:38 ..... started sorting BAM\n",
      "May 19 05:28:32 ..... started wiggle output\n",
      "May 19 05:34:45 ..... finished successfully\n"
     ]
    }
   ],
   "source": [
    "indir = \"/data2/isshamie/mito_lineage/data/processed/200403_A00953_0090_BHC23FDSXY/trim/\"\n",
    "AD_R1 = \"trimmed_AD_R1_concat.fastq\"\n",
    "AD_R2 = \"trimmed_AD_R2_concat.fastq\"\n",
    "ID = \"AD\"\n",
    "\n",
    "outdir = \"/data2/isshamie/mito_lineage/data/processed/200403_A00953_0090_BHC23FDSXY/trim/bam\"\n",
    "if not os.path.exists(outdir):\n",
    "    os.mkdir(outdir)\n",
    "\n",
    "AD_R1 = join(indir,AD_R1)\n",
    "AD_R2 = join(indir,AD_R2)\n",
    "\n",
    "### Run STAR with parameters for matching lowered\n",
    "\n",
    "# cmd = f\"STAR --runThreadN 4  --genomeDir {genomedir}  --readFilesIn {AD_R2} --outFileNamePrefix {join(outdir, ID+'.lowerParams')} -–outSAMtype BAM SortedByCoordinate --outWigType bedGraph --readNameSeparator space --outStd Log --outSAMunmapped Within KeepPairs  --outSAMorder PairedKeepInputOrder --outSAMattrRGline ID:{ID}:0:1:HC23FDSXY:3   SM:{ID} LB:0.1 PU:{ID}:0:1:HC23FDSXY:3 PL:ILLUMINA  --outSAMmultNmax 18446744073709551615\"\n",
    "\n",
    "# add_params = \" --outFilterScoreMinOverLread 0.3 --outFilterMatchNminOverLread 0.3\"\n",
    "# cmd = cmd + add_params\n",
    "# print(cmd)\n",
    "\n",
    "math_val=0.1\n",
    "ID = f\"{ID}_{math_val:0.1f}\"\n",
    "cmd = star_cmd(genomedir, A1_R1,A1_R2, outdir,ID, math_val=0.1)\n",
    "\n",
    "#cmd = star_cmd(genomedir, AD_R1,AD_R2, outdir,ID)\n",
    "!{cmd}"
   ]
  },
  {
   "cell_type": "code",
   "execution_count": 15,
   "metadata": {
    "ExecuteTime": {
     "end_time": "2020-05-19T06:51:05.023850Z",
     "start_time": "2020-05-19T05:34:46.774738Z"
    },
    "scrolled": false
   },
   "outputs": [
    {
     "name": "stdout",
     "output_type": "stream",
     "text": [
      "STAR --runThreadN 8  --genomeDir /data2/genome/human_GRCh38/cellranger/refdata-cellranger-GRCh38-3.0.0/star  --readFilesIn /data2/isshamie/mito_lineage/data/processed/200403_A00953_0090_BHC23FDSXY/trim/trimmed_A_S1_L001_R1_001.fastq /data2/isshamie/mito_lineage/data/processed/200403_A00953_0090_BHC23FDSXY/trim/trimmed_A_S1_L001_R2_001.fastq --outFileNamePrefix /data2/isshamie/mito_lineage/data/processed/200403_A00953_0090_BHC23FDSXY/trim/bam/AD_r1r2_0.1 --outSAMtype BAM SortedByCoordinate --outWigType bedGraph --readNameSeparator space --outStd Log   --outSAMattrRGline ID:AD_r1r2_0.1:0:1:HC23FDSXY:3   SM:AD_r1r2_0.1 LB:0.1 PU:AD_r1r2_0.1:0:1:HC23FDSXY:3 PL:ILLUMINA  --outSAMmultNmax 18446744073709551615 --outFilterScoreMinOverLread 0.1 --outFilterMatchNminOverLread 0.1\n",
      "May 19 05:34:46 ..... started STAR run\n",
      "May 19 05:34:47 ..... loading genome\n",
      "May 19 05:34:58 ..... started mapping\n",
      "May 19 06:27:17 ..... started sorting BAM\n",
      "May 19 06:42:26 ..... started wiggle output\n",
      "May 19 06:51:03 ..... finished successfully\n"
     ]
    }
   ],
   "source": [
    "indir = \"/data2/isshamie/mito_lineage/data/processed/200403_A00953_0090_BHC23FDSXY/trim/\"\n",
    "AD_R1 = \"trimmed_AD_R1_concat.fastq\"\n",
    "AD_R2 = \"trimmed_AD_R2_concat.fastq\"\n",
    "ID = \"AD_r1r2\"\n",
    "\n",
    "outdir = \"/data2/isshamie/mito_lineage/data/processed/200403_A00953_0090_BHC23FDSXY/trim/bam\"\n",
    "if not os.path.exists(outdir):\n",
    "    os.mkdir(outdir)\n",
    "\n",
    "AD_R1 = join(indir,AD_R1)\n",
    "AD_R2 = join(indir,AD_R2)\n",
    "\n",
    "### Run STAR with parameters for matching lowered\n",
    "\n",
    "# cmd = f\"STAR --runThreadN 4  --genomeDir {genomedir}  --readFilesIn {AD_R2} --outFileNamePrefix {join(outdir, ID+'.lowerParams')} -–outSAMtype BAM SortedByCoordinate --outWigType bedGraph --readNameSeparator space --outStd Log --outSAMunmapped Within KeepPairs  --outSAMorder PairedKeepInputOrder --outSAMattrRGline ID:{ID}:0:1:HC23FDSXY:3   SM:{ID} LB:0.1 PU:{ID}:0:1:HC23FDSXY:3 PL:ILLUMINA  --outSAMmultNmax 18446744073709551615\"\n",
    "\n",
    "# add_params = \" --outFilterScoreMinOverLread 0.3 --outFilterMatchNminOverLread 0.3\"\n",
    "# cmd = cmd + add_params\n",
    "# print(cmd)\n",
    "\n",
    "math_val=0.1\n",
    "ID = f\"{ID}_{math_val:0.1f}\"\n",
    "cmd = star_cmd(genomedir, A1_R1,A1_R2, outdir,ID, math_val=0.1, use_both_reads=True)\n",
    "\n",
    "#cmd = star_cmd(genomedir, AD_R1,AD_R2, outdir,ID)\n",
    "!{cmd}"
   ]
  },
  {
   "cell_type": "markdown",
   "metadata": {},
   "source": [
    "## Run"
   ]
  },
  {
   "cell_type": "markdown",
   "metadata": {},
   "source": [
    "## Bamcoverage"
   ]
  },
  {
   "cell_type": "markdown",
   "metadata": {},
   "source": [
    "cmd = \"mkdir bamcoverage\"\n",
    "cmd = 'bamCoverage -b bc5prime_fiveprime_A_1/outs/possorted_genome_bam.bam -o bamcoverage/bc5prime_fiveprime_A_1.bw -p 20'\n",
    "cmd = \"bamCoverage -b bc5prime_sc5p_pe_lanes/outs/possorted_genome_bam.bam -o bamcoverage/bc5prime_sc5p_pe_lanes -p 20\""
   ]
  },
  {
   "cell_type": "code",
   "execution_count": 16,
   "metadata": {
    "ExecuteTime": {
     "end_time": "2020-05-19T07:35:43.764952Z",
     "start_time": "2020-05-19T07:35:43.759882Z"
    }
   },
   "outputs": [],
   "source": [
    "import glob"
   ]
  },
  {
   "cell_type": "code",
   "execution_count": 17,
   "metadata": {
    "ExecuteTime": {
     "end_time": "2020-05-19T07:56:25.904989Z",
     "start_time": "2020-05-19T07:35:45.322638Z"
    },
    "scrolled": true
   },
   "outputs": [
    {
     "name": "stdout",
     "output_type": "stream",
     "text": [
      "bamCoverage --bam /data2/isshamie/mito_lineage/data/processed/200403_A00953_0090_BHC23FDSXY/trim/bam/AD_r1r2_0.1Aligned.sortedByCoord.out.bam -o /data2/isshamie/mito_lineage/data/processed/200403_A00953_0090_BHC23FDSXY/trim/bam/bamcov/AD_r1r2_0.1Aligned.sortedByCoord.out.bam.bw -p 10\n",
      "'/data2/isshamie/mito_lineage/data/processed/200403_A00953_0090_BHC23FDSXY/trim/bam/AD_r1r2_0.1Aligned.sortedByCoord.out.bam' does not appear to have an index. You MUST index the file first!\n",
      "bamCoverage --bam /data2/isshamie/mito_lineage/data/processed/200403_A00953_0090_BHC23FDSXY/trim/bam/A_0.1Aligned.sortedByCoord.out.bam -o /data2/isshamie/mito_lineage/data/processed/200403_A00953_0090_BHC23FDSXY/trim/bam/bamcov/A_0.1Aligned.sortedByCoord.out.bam.bw -p 10\n",
      "bamFilesList: ['/data2/isshamie/mito_lineage/data/processed/200403_A00953_0090_BHC23FDSXY/trim/bam/A_0.1Aligned.sortedByCoord.out.bam']\n",
      "binLength: 50\n",
      "numberOfSamples: None\n",
      "blackListFileName: None\n",
      "skipZeroOverZero: False\n",
      "bed_and_bin: False\n",
      "genomeChunkSize: None\n",
      "defaultFragmentLength: read length\n",
      "numberOfProcessors: 10\n",
      "verbose: False\n",
      "region: None\n",
      "bedFile: None\n",
      "minMappingQuality: None\n",
      "ignoreDuplicates: False\n",
      "chrsToSkip: []\n",
      "stepSize: 50\n",
      "center_read: False\n",
      "samFlag_include: None\n",
      "samFlag_exclude: None\n",
      "minFragmentLength: 0\n",
      "maxFragmentLength: 0\n",
      "zerosToNans: False\n",
      "smoothLength: None\n",
      "save_data: False\n",
      "out_file_for_raw_data: None\n",
      "maxPairedFragmentLength: 1000\n",
      "bamCoverage --bam /data2/isshamie/mito_lineage/data/processed/200403_A00953_0090_BHC23FDSXY/trim/bam/AD_0.1Aligned.sortedByCoord.out.bam -o /data2/isshamie/mito_lineage/data/processed/200403_A00953_0090_BHC23FDSXY/trim/bam/bamcov/AD_0.1Aligned.sortedByCoord.out.bam.bw -p 10\n",
      "'/data2/isshamie/mito_lineage/data/processed/200403_A00953_0090_BHC23FDSXY/trim/bam/AD_0.1Aligned.sortedByCoord.out.bam' does not appear to have an index. You MUST index the file first!\n",
      "bamCoverage --bam /data2/isshamie/mito_lineage/data/processed/200403_A00953_0090_BHC23FDSXY/trim/bam/A.lowerParamsAligned.sortedByCoord.out.bam -o /data2/isshamie/mito_lineage/data/processed/200403_A00953_0090_BHC23FDSXY/trim/bam/bamcov/A.lowerParamsAligned.sortedByCoord.out.bam.bw -p 10\n",
      "bamFilesList: ['/data2/isshamie/mito_lineage/data/processed/200403_A00953_0090_BHC23FDSXY/trim/bam/A.lowerParamsAligned.sortedByCoord.out.bam']\n",
      "binLength: 50\n",
      "numberOfSamples: None\n",
      "blackListFileName: None\n",
      "skipZeroOverZero: False\n",
      "bed_and_bin: False\n",
      "genomeChunkSize: None\n",
      "defaultFragmentLength: read length\n",
      "numberOfProcessors: 10\n",
      "verbose: False\n",
      "region: None\n",
      "bedFile: None\n",
      "minMappingQuality: None\n",
      "ignoreDuplicates: False\n",
      "chrsToSkip: []\n",
      "stepSize: 50\n",
      "center_read: False\n",
      "samFlag_include: None\n",
      "samFlag_exclude: None\n",
      "minFragmentLength: 0\n",
      "maxFragmentLength: 0\n",
      "zerosToNans: False\n",
      "smoothLength: None\n",
      "save_data: False\n",
      "out_file_for_raw_data: None\n",
      "maxPairedFragmentLength: 1000\n"
     ]
    }
   ],
   "source": [
    "bamcoverage_dir = join(outdir,\"bamcov\")\n",
    "if not os.path.exists(bamcoverage_dir):\n",
    "    os.mkdir(bamcoverage_dir)\n",
    "for i in glob.glob(outdir + \"/*.bam\"):\n",
    "    cmd =  f\"bamCoverage --bam {i} -o {join(bamcoverage_dir,basename(i)+'.bw')} -p 10\"\n",
    "    print(cmd)\n",
    "    !{cmd}"
   ]
  },
  {
   "cell_type": "code",
   "execution_count": null,
   "metadata": {},
   "outputs": [],
   "source": []
  },
  {
   "cell_type": "code",
   "execution_count": null,
   "metadata": {},
   "outputs": [],
   "source": []
  },
  {
   "cell_type": "markdown",
   "metadata": {},
   "source": [
    "## Plot mapq values (take first 60000)"
   ]
  },
  {
   "cell_type": "code",
   "execution_count": 6,
   "metadata": {
    "ExecuteTime": {
     "end_time": "2020-05-12T02:34:54.678667Z",
     "start_time": "2020-05-12T02:34:52.084407Z"
    }
   },
   "outputs": [],
   "source": [
    "import pandas as pd\n",
    "import numpy as np\n",
    "import seaborn as sns\n",
    "%matplotlib inline"
   ]
  },
  {
   "cell_type": "code",
   "execution_count": 7,
   "metadata": {
    "ExecuteTime": {
     "end_time": "2020-05-12T02:35:00.426908Z",
     "start_time": "2020-05-12T02:35:00.121800Z"
    },
    "scrolled": false
   },
   "outputs": [
    {
     "data": {
      "text/html": [
       "<div>\n",
       "<style scoped>\n",
       "    .dataframe tbody tr th:only-of-type {\n",
       "        vertical-align: middle;\n",
       "    }\n",
       "\n",
       "    .dataframe tbody tr th {\n",
       "        vertical-align: top;\n",
       "    }\n",
       "\n",
       "    .dataframe thead th {\n",
       "        text-align: right;\n",
       "    }\n",
       "</style>\n",
       "<table border=\"1\" class=\"dataframe\">\n",
       "  <thead>\n",
       "    <tr style=\"text-align: right;\">\n",
       "      <th></th>\n",
       "      <th>0</th>\n",
       "      <th>1</th>\n",
       "      <th>2</th>\n",
       "      <th>3</th>\n",
       "      <th>4</th>\n",
       "      <th>5</th>\n",
       "    </tr>\n",
       "  </thead>\n",
       "  <tbody>\n",
       "    <tr>\n",
       "      <th>0</th>\n",
       "      <td>A00953:90:HC23FDSXY:3:2524:26928:34695</td>\n",
       "      <td>1171</td>\n",
       "      <td>12</td>\n",
       "      <td>122981133</td>\n",
       "      <td>255</td>\n",
       "      <td>101M</td>\n",
       "    </tr>\n",
       "    <tr>\n",
       "      <th>1</th>\n",
       "      <td>A00953:90:HC23FDSXY:3:1403:24207:32487</td>\n",
       "      <td>163</td>\n",
       "      <td>12</td>\n",
       "      <td>123428838</td>\n",
       "      <td>255</td>\n",
       "      <td>89M12S</td>\n",
       "    </tr>\n",
       "    <tr>\n",
       "      <th>2</th>\n",
       "      <td>A00953:90:HC23FDSXY:3:1403:24207:32487</td>\n",
       "      <td>163</td>\n",
       "      <td>12</td>\n",
       "      <td>123428838</td>\n",
       "      <td>255</td>\n",
       "      <td>89M12S</td>\n",
       "    </tr>\n",
       "    <tr>\n",
       "      <th>3</th>\n",
       "      <td>A00953:90:HC23FDSXY:3:1650:16504:6590</td>\n",
       "      <td>163</td>\n",
       "      <td>12</td>\n",
       "      <td>123428838</td>\n",
       "      <td>255</td>\n",
       "      <td>89M12S</td>\n",
       "    </tr>\n",
       "    <tr>\n",
       "      <th>4</th>\n",
       "      <td>A00953:90:HC23FDSXY:3:1650:16504:6590</td>\n",
       "      <td>163</td>\n",
       "      <td>12</td>\n",
       "      <td>123428838</td>\n",
       "      <td>255</td>\n",
       "      <td>89M12S</td>\n",
       "    </tr>\n",
       "  </tbody>\n",
       "</table>\n",
       "</div>"
      ],
      "text/plain": [
       "                                        0     1   2          3    4       5\n",
       "0  A00953:90:HC23FDSXY:3:2524:26928:34695  1171  12  122981133  255    101M\n",
       "1  A00953:90:HC23FDSXY:3:1403:24207:32487   163  12  123428838  255  89M12S\n",
       "2  A00953:90:HC23FDSXY:3:1403:24207:32487   163  12  123428838  255  89M12S\n",
       "3   A00953:90:HC23FDSXY:3:1650:16504:6590   163  12  123428838  255  89M12S\n",
       "4   A00953:90:HC23FDSXY:3:1650:16504:6590   163  12  123428838  255  89M12S"
      ]
     },
     "execution_count": 7,
     "metadata": {},
     "output_type": "execute_result"
    }
   ],
   "source": [
    "sam_f = \"../data/processed/mttrace/A/00_bam/A.sam\"\n",
    "sam = pd.read_csv(sam_f,sep=\"\\t\",skiprows=10000,nrows=60000,header=None, comment=\"@\",usecols=np.arange(6))\n",
    "sam.head()"
   ]
  },
  {
   "cell_type": "code",
   "execution_count": 9,
   "metadata": {
    "ExecuteTime": {
     "end_time": "2020-05-12T02:35:12.157877Z",
     "start_time": "2020-05-12T02:35:12.154758Z"
    }
   },
   "outputs": [],
   "source": [
    "import matplotlib.pyplot as plt"
   ]
  },
  {
   "cell_type": "code",
   "execution_count": 10,
   "metadata": {
    "ExecuteTime": {
     "end_time": "2020-05-12T02:35:12.902432Z",
     "start_time": "2020-05-12T02:35:12.717742Z"
    }
   },
   "outputs": [
    {
     "data": {
      "text/plain": [
       "Text(0.5, 1.0, 'MAPQ')"
      ]
     },
     "execution_count": 10,
     "metadata": {},
     "output_type": "execute_result"
    },
    {
     "data": {
      "image/png": "[encoded data removed]",
      "text/plain": [
       "<Figure size 432x288 with 1 Axes>"
      ]
     },
     "metadata": {
      "needs_background": "light"
     },
     "output_type": "display_data"
    }
   ],
   "source": [
    "sns.countplot(sam[4])\n",
    "plt.title(\"MAPQ\")"
   ]
  },
  {
   "cell_type": "code",
   "execution_count": null,
   "metadata": {},
   "outputs": [],
   "source": [
    "Read Name\n",
    "SAM flag\n",
    "chromosome (if read is has no alignment, there will be a “*” here)\n",
    "position (1-based index, “left end of read”)\n",
    "MAPQ (mapping quality — describes the uniqueness of the alignment, 0=non-unique, >10 probably unique)\n",
    "CIGAR string (describes the position of insertions/deletions/matches in the alignment, encodes splice junctions, for example)\n",
    "Name of mate (mate pair information for paired-end sequencing, often “=”)\n",
    "Position of mate (mate pair information)\n",
    "Template length (always zero for me)\n",
    "Read Sequence\n",
    "Read Quality\n",
    "Program specific Flags (i.e. AS is an alignment score, NH is a number of reported alignments that contains the query in the current record)"
   ]
  },
  {
   "cell_type": "code",
   "execution_count": 15,
   "metadata": {
    "ExecuteTime": {
     "end_time": "2020-05-12T02:36:14.857376Z",
     "start_time": "2020-05-12T02:36:14.818203Z"
    },
    "scrolled": true
   },
   "outputs": [
    {
     "data": {
      "text/html": [
       "<div>\n",
       "<style scoped>\n",
       "    .dataframe tbody tr th:only-of-type {\n",
       "        vertical-align: middle;\n",
       "    }\n",
       "\n",
       "    .dataframe tbody tr th {\n",
       "        vertical-align: top;\n",
       "    }\n",
       "\n",
       "    .dataframe thead th {\n",
       "        text-align: right;\n",
       "    }\n",
       "</style>\n",
       "<table border=\"1\" class=\"dataframe\">\n",
       "  <thead>\n",
       "    <tr style=\"text-align: right;\">\n",
       "      <th></th>\n",
       "      <th>0</th>\n",
       "      <th>1</th>\n",
       "      <th>2</th>\n",
       "      <th>3</th>\n",
       "      <th>4</th>\n",
       "      <th>5</th>\n",
       "    </tr>\n",
       "  </thead>\n",
       "  <tbody>\n",
       "    <tr>\n",
       "      <th>9</th>\n",
       "      <td>A00953:90:HC23FDSXY:3:1275:25473:14700</td>\n",
       "      <td>419</td>\n",
       "      <td>12</td>\n",
       "      <td>124911769</td>\n",
       "      <td>0</td>\n",
       "      <td>15S61M</td>\n",
       "    </tr>\n",
       "    <tr>\n",
       "      <th>10</th>\n",
       "      <td>A00953:90:HC23FDSXY:3:1275:25473:14700</td>\n",
       "      <td>419</td>\n",
       "      <td>12</td>\n",
       "      <td>124911769</td>\n",
       "      <td>0</td>\n",
       "      <td>15S61M</td>\n",
       "    </tr>\n",
       "    <tr>\n",
       "      <th>19</th>\n",
       "      <td>A00953:90:HC23FDSXY:3:1428:16405:1658</td>\n",
       "      <td>419</td>\n",
       "      <td>12</td>\n",
       "      <td>124911922</td>\n",
       "      <td>0</td>\n",
       "      <td>14S62M</td>\n",
       "    </tr>\n",
       "    <tr>\n",
       "      <th>21</th>\n",
       "      <td>A00953:90:HC23FDSXY:3:1275:25473:14700</td>\n",
       "      <td>419</td>\n",
       "      <td>12</td>\n",
       "      <td>124911997</td>\n",
       "      <td>0</td>\n",
       "      <td>15S61M</td>\n",
       "    </tr>\n",
       "    <tr>\n",
       "      <th>22</th>\n",
       "      <td>A00953:90:HC23FDSXY:3:2350:10041:20071</td>\n",
       "      <td>419</td>\n",
       "      <td>12</td>\n",
       "      <td>124912052</td>\n",
       "      <td>0</td>\n",
       "      <td>101M</td>\n",
       "    </tr>\n",
       "    <tr>\n",
       "      <th>...</th>\n",
       "      <td>...</td>\n",
       "      <td>...</td>\n",
       "      <td>...</td>\n",
       "      <td>...</td>\n",
       "      <td>...</td>\n",
       "      <td>...</td>\n",
       "    </tr>\n",
       "    <tr>\n",
       "      <th>59995</th>\n",
       "      <td>A00953:90:HC23FDSXY:3:2171:23737:36245</td>\n",
       "      <td>77</td>\n",
       "      <td>*</td>\n",
       "      <td>0</td>\n",
       "      <td>0</td>\n",
       "      <td>*</td>\n",
       "    </tr>\n",
       "    <tr>\n",
       "      <th>59996</th>\n",
       "      <td>A00953:90:HC23FDSXY:3:2171:23737:36245</td>\n",
       "      <td>141</td>\n",
       "      <td>*</td>\n",
       "      <td>0</td>\n",
       "      <td>0</td>\n",
       "      <td>*</td>\n",
       "    </tr>\n",
       "    <tr>\n",
       "      <th>59997</th>\n",
       "      <td>A00953:90:HC23FDSXY:3:2202:29722:9972</td>\n",
       "      <td>77</td>\n",
       "      <td>*</td>\n",
       "      <td>0</td>\n",
       "      <td>0</td>\n",
       "      <td>*</td>\n",
       "    </tr>\n",
       "    <tr>\n",
       "      <th>59998</th>\n",
       "      <td>A00953:90:HC23FDSXY:3:2202:29722:9972</td>\n",
       "      <td>141</td>\n",
       "      <td>*</td>\n",
       "      <td>0</td>\n",
       "      <td>0</td>\n",
       "      <td>*</td>\n",
       "    </tr>\n",
       "    <tr>\n",
       "      <th>59999</th>\n",
       "      <td>A00953:90:HC23FDSXY:3:2202:29722:9972</td>\n",
       "      <td>77</td>\n",
       "      <td>*</td>\n",
       "      <td>0</td>\n",
       "      <td>0</td>\n",
       "      <td>*</td>\n",
       "    </tr>\n",
       "  </tbody>\n",
       "</table>\n",
       "<p>31266 rows × 6 columns</p>\n",
       "</div>"
      ],
      "text/plain": [
       "                                            0    1   2          3  4       5\n",
       "9      A00953:90:HC23FDSXY:3:1275:25473:14700  419  12  124911769  0  15S61M\n",
       "10     A00953:90:HC23FDSXY:3:1275:25473:14700  419  12  124911769  0  15S61M\n",
       "19      A00953:90:HC23FDSXY:3:1428:16405:1658  419  12  124911922  0  14S62M\n",
       "21     A00953:90:HC23FDSXY:3:1275:25473:14700  419  12  124911997  0  15S61M\n",
       "22     A00953:90:HC23FDSXY:3:2350:10041:20071  419  12  124912052  0    101M\n",
       "...                                       ...  ...  ..        ... ..     ...\n",
       "59995  A00953:90:HC23FDSXY:3:2171:23737:36245   77   *          0  0       *\n",
       "59996  A00953:90:HC23FDSXY:3:2171:23737:36245  141   *          0  0       *\n",
       "59997   A00953:90:HC23FDSXY:3:2202:29722:9972   77   *          0  0       *\n",
       "59998   A00953:90:HC23FDSXY:3:2202:29722:9972  141   *          0  0       *\n",
       "59999   A00953:90:HC23FDSXY:3:2202:29722:9972   77   *          0  0       *\n",
       "\n",
       "[31266 rows x 6 columns]"
      ]
     },
     "execution_count": 15,
     "metadata": {},
     "output_type": "execute_result"
    }
   ],
   "source": [
    "unmapped = sam[sam[4] == 0]\n",
    "unmapped\n"
   ]
  },
  {
   "cell_type": "code",
   "execution_count": 18,
   "metadata": {
    "ExecuteTime": {
     "end_time": "2020-05-12T02:36:58.550351Z",
     "start_time": "2020-05-12T02:36:58.544010Z"
    },
    "scrolled": true
   },
   "outputs": [
    {
     "name": "stdout",
     "output_type": "stream",
     "text": [
      "Number of duplicated reads: 27094\n"
     ]
    }
   ],
   "source": [
    "print(f\"Number of duplicated reads: {unmapped[0].duplicated().sum()}\")"
   ]
  },
  {
   "cell_type": "code",
   "execution_count": 20,
   "metadata": {
    "ExecuteTime": {
     "end_time": "2020-05-12T02:37:43.679577Z",
     "start_time": "2020-05-12T02:37:43.669904Z"
    },
    "scrolled": false
   },
   "outputs": [
    {
     "name": "stdout",
     "output_type": "stream",
     "text": [
      "Number of reads mapped to *: 5775\n"
     ]
    }
   ],
   "source": [
    "print(f\"Number of reads mapped to *: {(unmapped[2]=='*').sum()}\")"
   ]
  },
  {
   "cell_type": "code",
   "execution_count": 21,
   "metadata": {
    "ExecuteTime": {
     "end_time": "2020-05-12T02:38:23.647266Z",
     "start_time": "2020-05-12T02:38:13.307225Z"
    },
    "scrolled": false
   },
   "outputs": [
    {
     "data": {
      "text/plain": [
       "<matplotlib.axes._subplots.AxesSubplot at 0x7f4042309400>"
      ]
     },
     "execution_count": 21,
     "metadata": {},
     "output_type": "execute_result"
    },
    {
     "data": {
      "image/png": "[encoded data removed]",
      "text/plain": [
       "<Figure size 432x288 with 1 Axes>"
      ]
     },
     "metadata": {
      "needs_background": "light"
     },
     "output_type": "display_data"
    }
   ],
   "source": [
    "sns.countplot(unmapped[5])"
   ]
  },
  {
   "cell_type": "code",
   "execution_count": 35,
   "metadata": {
    "ExecuteTime": {
     "end_time": "2020-05-11T00:38:01.909101Z",
     "start_time": "2020-05-11T00:38:01.874007Z"
    },
    "scrolled": false
   },
   "outputs": [
    {
     "data": {
      "text/plain": [
       "26305"
      ]
     },
     "execution_count": 35,
     "metadata": {},
     "output_type": "execute_result"
    }
   ],
   "source": [
    "(~sam[sam[4] == 0].duplicated()).sum()"
   ]
  },
  {
   "cell_type": "code",
   "execution_count": 37,
   "metadata": {
    "ExecuteTime": {
     "end_time": "2020-05-11T00:38:42.549745Z",
     "start_time": "2020-05-11T00:38:42.441811Z"
    },
    "scrolled": false
   },
   "outputs": [
    {
     "data": {
      "text/plain": [
       "20909"
      ]
     },
     "execution_count": 37,
     "metadata": {},
     "output_type": "execute_result"
    }
   ],
   "source": [
    "((~sam[sam[4] == 0].duplicated()) & ~(sam[2]==\"*\")).sum()"
   ]
  },
  {
   "cell_type": "code",
   "execution_count": 32,
   "metadata": {
    "ExecuteTime": {
     "end_time": "2020-05-11T00:37:18.649497Z",
     "start_time": "2020-05-11T00:37:18.617058Z"
    },
    "scrolled": false
   },
   "outputs": [
    {
     "data": {
      "text/html": [
       "<div>\n",
       "<style scoped>\n",
       "    .dataframe tbody tr th:only-of-type {\n",
       "        vertical-align: middle;\n",
       "    }\n",
       "\n",
       "    .dataframe tbody tr th {\n",
       "        vertical-align: top;\n",
       "    }\n",
       "\n",
       "    .dataframe thead th {\n",
       "        text-align: right;\n",
       "    }\n",
       "</style>\n",
       "<table border=\"1\" class=\"dataframe\">\n",
       "  <thead>\n",
       "    <tr style=\"text-align: right;\">\n",
       "      <th></th>\n",
       "      <th>0</th>\n",
       "      <th>1</th>\n",
       "      <th>2</th>\n",
       "      <th>3</th>\n",
       "      <th>4</th>\n",
       "      <th>5</th>\n",
       "    </tr>\n",
       "  </thead>\n",
       "  <tbody>\n",
       "    <tr>\n",
       "      <th>54225</th>\n",
       "      <td>A00953:90:HC23FDSXY:3:1102:10755:20744</td>\n",
       "      <td>77</td>\n",
       "      <td>*</td>\n",
       "      <td>0</td>\n",
       "      <td>0</td>\n",
       "      <td>*</td>\n",
       "    </tr>\n",
       "    <tr>\n",
       "      <th>54226</th>\n",
       "      <td>A00953:90:HC23FDSXY:3:1102:10755:20744</td>\n",
       "      <td>141</td>\n",
       "      <td>*</td>\n",
       "      <td>0</td>\n",
       "      <td>0</td>\n",
       "      <td>*</td>\n",
       "    </tr>\n",
       "    <tr>\n",
       "      <th>54227</th>\n",
       "      <td>A00953:90:HC23FDSXY:3:1104:11912:30671</td>\n",
       "      <td>77</td>\n",
       "      <td>*</td>\n",
       "      <td>0</td>\n",
       "      <td>0</td>\n",
       "      <td>*</td>\n",
       "    </tr>\n",
       "    <tr>\n",
       "      <th>54228</th>\n",
       "      <td>A00953:90:HC23FDSXY:3:1104:11912:30671</td>\n",
       "      <td>141</td>\n",
       "      <td>*</td>\n",
       "      <td>0</td>\n",
       "      <td>0</td>\n",
       "      <td>*</td>\n",
       "    </tr>\n",
       "    <tr>\n",
       "      <th>54229</th>\n",
       "      <td>A00953:90:HC23FDSXY:3:1104:2166:14043</td>\n",
       "      <td>77</td>\n",
       "      <td>*</td>\n",
       "      <td>0</td>\n",
       "      <td>0</td>\n",
       "      <td>*</td>\n",
       "    </tr>\n",
       "    <tr>\n",
       "      <th>...</th>\n",
       "      <td>...</td>\n",
       "      <td>...</td>\n",
       "      <td>...</td>\n",
       "      <td>...</td>\n",
       "      <td>...</td>\n",
       "      <td>...</td>\n",
       "    </tr>\n",
       "    <tr>\n",
       "      <th>59995</th>\n",
       "      <td>A00953:90:HC23FDSXY:3:2171:23737:36245</td>\n",
       "      <td>77</td>\n",
       "      <td>*</td>\n",
       "      <td>0</td>\n",
       "      <td>0</td>\n",
       "      <td>*</td>\n",
       "    </tr>\n",
       "    <tr>\n",
       "      <th>59996</th>\n",
       "      <td>A00953:90:HC23FDSXY:3:2171:23737:36245</td>\n",
       "      <td>141</td>\n",
       "      <td>*</td>\n",
       "      <td>0</td>\n",
       "      <td>0</td>\n",
       "      <td>*</td>\n",
       "    </tr>\n",
       "    <tr>\n",
       "      <th>59997</th>\n",
       "      <td>A00953:90:HC23FDSXY:3:2202:29722:9972</td>\n",
       "      <td>77</td>\n",
       "      <td>*</td>\n",
       "      <td>0</td>\n",
       "      <td>0</td>\n",
       "      <td>*</td>\n",
       "    </tr>\n",
       "    <tr>\n",
       "      <th>59998</th>\n",
       "      <td>A00953:90:HC23FDSXY:3:2202:29722:9972</td>\n",
       "      <td>141</td>\n",
       "      <td>*</td>\n",
       "      <td>0</td>\n",
       "      <td>0</td>\n",
       "      <td>*</td>\n",
       "    </tr>\n",
       "    <tr>\n",
       "      <th>59999</th>\n",
       "      <td>A00953:90:HC23FDSXY:3:2202:29722:9972</td>\n",
       "      <td>77</td>\n",
       "      <td>*</td>\n",
       "      <td>0</td>\n",
       "      <td>0</td>\n",
       "      <td>*</td>\n",
       "    </tr>\n",
       "  </tbody>\n",
       "</table>\n",
       "<p>5775 rows × 6 columns</p>\n",
       "</div>"
      ],
      "text/plain": [
       "                                            0    1  2  3  4  5\n",
       "54225  A00953:90:HC23FDSXY:3:1102:10755:20744   77  *  0  0  *\n",
       "54226  A00953:90:HC23FDSXY:3:1102:10755:20744  141  *  0  0  *\n",
       "54227  A00953:90:HC23FDSXY:3:1104:11912:30671   77  *  0  0  *\n",
       "54228  A00953:90:HC23FDSXY:3:1104:11912:30671  141  *  0  0  *\n",
       "54229   A00953:90:HC23FDSXY:3:1104:2166:14043   77  *  0  0  *\n",
       "...                                       ...  ... .. .. .. ..\n",
       "59995  A00953:90:HC23FDSXY:3:2171:23737:36245   77  *  0  0  *\n",
       "59996  A00953:90:HC23FDSXY:3:2171:23737:36245  141  *  0  0  *\n",
       "59997   A00953:90:HC23FDSXY:3:2202:29722:9972   77  *  0  0  *\n",
       "59998   A00953:90:HC23FDSXY:3:2202:29722:9972  141  *  0  0  *\n",
       "59999   A00953:90:HC23FDSXY:3:2202:29722:9972   77  *  0  0  *\n",
       "\n",
       "[5775 rows x 6 columns]"
      ]
     },
     "execution_count": 32,
     "metadata": {},
     "output_type": "execute_result"
    }
   ],
   "source": [
    "sam[(sam[4] == 0) & (sam[2] == \"*\")]"
   ]
  },
  {
   "cell_type": "code",
   "execution_count": 38,
   "metadata": {
    "ExecuteTime": {
     "end_time": "2020-05-11T18:54:11.987700Z",
     "start_time": "2020-05-11T18:54:11.981475Z"
    }
   },
   "outputs": [
    {
     "name": "stdout",
     "output_type": "stream",
     "text": [
      "AAGCAGTGGTATCAACGCAGAGTACTGTTTATGGGGTGATGTGAG\n"
     ]
    }
   ],
   "source": [
    "print(\"AAGCAGTGGTATCAACGCAGAGTACTGTTTATGGGGTGATGTGAG\")"
   ]
  },
  {
   "cell_type": "code",
   "execution_count": 39,
   "metadata": {
    "ExecuteTime": {
     "end_time": "2020-05-11T18:54:20.543270Z",
     "start_time": "2020-05-11T18:54:20.539231Z"
    }
   },
   "outputs": [
    {
     "name": "stdout",
     "output_type": "stream",
     "text": [
      "45\n"
     ]
    }
   ],
   "source": [
    "print(len(\"AAGCAGTGGTATCAACGCAGAGTACTGTTTATGGGGTGATGTGAG\"))"
   ]
  },
  {
   "cell_type": "code",
   "execution_count": 43,
   "metadata": {
    "ExecuteTime": {
     "end_time": "2020-05-11T19:39:06.231504Z",
     "start_time": "2020-05-11T19:39:06.227663Z"
    }
   },
   "outputs": [
    {
     "name": "stdout",
     "output_type": "stream",
     "text": [
      "cellranger count --id=bc5prime_A_MT_c5p_pe_lanes --fastqs=/data2/isshamie/mito_lineage/data/processed/200403_A00953_0090_BHC23FDSXY/trim_v03 --transcriptome=/data2/isshamie/mito_lineage/external/genome/MT_genome/MT_GRCh38/ --chemistry SC5P-PE --sample trimmed_BC_5Prime_031020_A_1,trimmed_BC_5Prime_031020_A_2,trimmed_BC_5Prime_031020_A_3,trimmed_BC_5Prime_031020_A_4 --localcores 32\n"
     ]
    }
   ],
   "source": [
    "cmd = \"cellranger count --id=bc5prime_A_MT_c5p_pe_lanes --fastqs=/data2/isshamie/mito_lineage/data/processed/200403_A00953_0090_BHC23FDSXY/trim_v03 --transcriptome=/data2/isshamie/mito_lineage/external/genome/MT_genome/MT_GRCh38/ --chemistry SC5P-PE --sample trimmed_BC_5Prime_031020_A_1,trimmed_BC_5Prime_031020_A_2,trimmed_BC_5Prime_031020_A_3,trimmed_BC_5Prime_031020_A_4 --localcores 32\"\n",
    "print(cmd)"
   ]
  },
  {
   "cell_type": "code",
   "execution_count": 40,
   "metadata": {
    "ExecuteTime": {
     "end_time": "2020-05-11T18:55:32.348728Z",
     "start_time": "2020-05-11T18:55:32.344477Z"
    }
   },
   "outputs": [
    {
     "name": "stdout",
     "output_type": "stream",
     "text": [
      "25\n"
     ]
    }
   ],
   "source": [
    "print(len(\"AAGCAGTGGTATCAACGCAGAGTAC\"))"
   ]
  }
 ],
 "metadata": {
  "kernelspec": {
   "display_name": "Python 3",
   "language": "python",
   "name": "python3"
  },
  "language_info": {
   "codemirror_mode": {
    "name": "ipython",
    "version": 3
   },
   "file_extension": ".py",
   "mimetype": "text/x-python",
   "name": "python",
   "nbconvert_exporter": "python",
   "pygments_lexer": "ipython3",
   "version": "3.7.3"
  }
 },
 "nbformat": 4,
 "nbformat_minor": 2
}
