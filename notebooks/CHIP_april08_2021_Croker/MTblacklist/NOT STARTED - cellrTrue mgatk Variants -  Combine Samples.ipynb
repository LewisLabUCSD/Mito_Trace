{
 "cells": [
  {
   "cell_type": "code",
   "execution_count": 1,
   "metadata": {
    "ExecuteTime": {
     "end_time": "2021-05-25T21:46:28.360587Z",
     "start_time": "2021-05-25T21:46:28.344831Z"
    },
    "scrolled": false
   },
   "outputs": [
    {
     "data": {
      "text/plain": [
       "'/data2/mito_lineage/notebooks/CHIP_april08_2021_Croker/MTblacklist'"
      ]
     },
     "execution_count": 1,
     "metadata": {},
     "output_type": "execute_result"
    }
   ],
   "source": [
    "pwd"
   ]
  },
  {
   "cell_type": "code",
   "execution_count": 2,
   "metadata": {
    "ExecuteTime": {
     "end_time": "2021-05-25T21:46:29.375519Z",
     "start_time": "2021-05-25T21:46:28.362309Z"
    },
    "scrolled": true
   },
   "outputs": [],
   "source": [
    "%load_ext autoreload\n",
    "%autoreload 2\n",
    "%matplotlib inline \n"
   ]
  },
  {
   "cell_type": "code",
   "execution_count": 3,
   "metadata": {
    "ExecuteTime": {
     "end_time": "2021-05-25T21:46:30.062147Z",
     "start_time": "2021-05-25T21:46:29.377714Z"
    },
    "scrolled": true
   },
   "outputs": [
    {
     "name": "stdout",
     "output_type": "stream",
     "text": [
      "Project Directory: /data2/mito_lineage\n"
     ]
    }
   ],
   "source": [
    "import os\n",
    "from os.path import join\n",
    "import pandas as pd\n",
    "from src.config import RESULTS, FIGURES_DIR, ROOT_DIR\n",
    "#from src.calculate_AF_by_cell import calculate_af\n",
    "#ref_fa = \"/data2/genome/human_GRCh38/cellranger/refdata-cellranger-GRCh38-3.0.0/fasta/genome.fa\"\n",
    "#ref_fa=\"/data2/mito_lineage/BWA-Primers-MT/MT_genome/MT.fasta\"\n",
    "maxBP = 16571\n",
    "\n",
    "import glob\n",
    "import numpy as np"
   ]
  },
  {
   "cell_type": "code",
   "execution_count": 4,
   "metadata": {
    "ExecuteTime": {
     "end_time": "2021-05-25T21:46:32.457475Z",
     "start_time": "2021-05-25T21:46:30.064200Z"
    }
   },
   "outputs": [],
   "source": [
    "from matplotlib_venn import venn2\n",
    "\n",
    "import seaborn as sns\n",
    "import matplotlib.pyplot as plt\n",
    "\n",
    "from mplh import cluster_help"
   ]
  },
  {
   "cell_type": "code",
   "execution_count": 5,
   "metadata": {
    "ExecuteTime": {
     "end_time": "2021-05-25T21:46:32.476375Z",
     "start_time": "2021-05-25T21:46:32.459449Z"
    }
   },
   "outputs": [],
   "source": [
    "os.chdir(ROOT_DIR)"
   ]
  },
  {
   "cell_type": "markdown",
   "metadata": {},
   "source": [
    "## Files setup"
   ]
  },
  {
   "cell_type": "markdown",
   "metadata": {},
   "source": [
    "#### Keep variants greater than mean heteroplasmy minimum parameter 'het'"
   ]
  },
  {
   "cell_type": "code",
   "execution_count": 6,
   "metadata": {
    "ExecuteTime": {
     "end_time": "2021-05-25T21:46:32.493706Z",
     "start_time": "2021-05-25T21:46:32.478026Z"
    }
   },
   "outputs": [],
   "source": [
    "het = 0.001"
   ]
  },
  {
   "cell_type": "code",
   "execution_count": 7,
   "metadata": {
    "ExecuteTime": {
     "end_time": "2021-05-25T21:46:32.511896Z",
     "start_time": "2021-05-25T21:46:32.495410Z"
    }
   },
   "outputs": [],
   "source": [
    "samples=[\"Control\", \"Flt3l\", \"Input\"]\n",
    "indir=join(RESULTS,\"mttrace\")\n",
    "mapq = \"MT\"\n",
    "num_reads = 200\n",
    "cellr=\"True\"\n",
    "in_prefix = f'CHIP_april08_2021_Croker/MTblacklist'\n",
    "filt_id = \"minC10_minR50_topN0_hetT0.001_hetC10_hetCount5_bq20\""
   ]
  },
  {
   "cell_type": "code",
   "execution_count": 8,
   "metadata": {
    "ExecuteTime": {
     "end_time": "2021-05-25T21:47:26.105905Z",
     "start_time": "2021-05-25T21:46:32.514502Z"
    },
    "scrolled": false
   },
   "outputs": [
    {
     "name": "stdout",
     "output_type": "stream",
     "text": [
      "Number of variants after mean heteroplasmy of 0.001: 123\n",
      "Number of variants after mean heteroplasmy of 0.001: 256\n",
      "Number of variants after mean heteroplasmy of 0.001: 173\n"
     ]
    },
    {
     "name": "stderr",
     "output_type": "stream",
     "text": [
      "/home/isshamie/software/anaconda2/envs/mito_trace/lib/python3.7/site-packages/ipykernel_launcher.py:18: FutureWarning: Sorting because non-concatenation axis is not aligned. A future version\n",
      "of pandas will change to not sort by default.\n",
      "\n",
      "To accept the future behavior, pass 'sort=False'.\n",
      "\n",
      "To retain the current behavior and silence the warning, pass 'sort=True'.\n",
      "\n"
     ]
    }
   ],
   "source": [
    "indirs={}\n",
    "concat_dirs={}\n",
    "filter_mgatk_variants = {}\n",
    "afs={}\n",
    "mgatk_afs = {}\n",
    "for s in samples:\n",
    "    indirs[s] = join(indir, in_prefix, s,mapq,f\"cellr_{cellr}\")\n",
    "    concat_dirs[s] = join(indirs[s],f\"{s}_{num_reads}\")\n",
    "    filter_mgatk_variants[s] = join(concat_dirs[s], \"filters\",filt_id,\"filter_mgatk\")\n",
    "    afs[s] = pd.read_csv(join(filter_mgatk_variants[s], f\"{s}.af.tsv\"),sep=\"\\t\")\n",
    "    mgatk_afs[s] = pd.read_csv(join(filter_mgatk_variants[s], f\"{s}.af.mgatk.tsv\"),sep=\"\\t\")\n",
    "    afs[s] = afs[s].loc[mgatk_afs[s].index]\n",
    "    print(f\"Number of variants after mean heteroplasmy of {het}: {mgatk_afs[s].shape[0]}\")\n",
    "\n",
    "## Add labels to the names\n",
    "for s in afs:\n",
    "    afs[s].columns = afs[s].columns + f\"_{s}\"\n",
    "all_cells = pd.concat(list(afs.values()), axis=1)"
   ]
  },
  {
   "cell_type": "code",
   "execution_count": 9,
   "metadata": {
    "ExecuteTime": {
     "end_time": "2021-05-25T21:47:26.256321Z",
     "start_time": "2021-05-25T21:47:26.108868Z"
    }
   },
   "outputs": [
    {
     "data": {
      "text/html": [
       "<div>\n",
       "<style scoped>\n",
       "    .dataframe tbody tr th:only-of-type {\n",
       "        vertical-align: middle;\n",
       "    }\n",
       "\n",
       "    .dataframe tbody tr th {\n",
       "        vertical-align: top;\n",
       "    }\n",
       "\n",
       "    .dataframe thead th {\n",
       "        text-align: right;\n",
       "    }\n",
       "</style>\n",
       "<table border=\"1\" class=\"dataframe\">\n",
       "  <thead>\n",
       "    <tr style=\"text-align: right;\">\n",
       "      <th></th>\n",
       "      <th>AAACTGCTCTCGCGGA-1_Control</th>\n",
       "      <th>AAAGATGCAGCAACGA-1_Control</th>\n",
       "      <th>AAAGGATGTGCTGTGC-1_Control</th>\n",
       "      <th>AAAGGATTCAAAGTAG-1_Control</th>\n",
       "      <th>AAATGCCCAGAAAGAG-1_Control</th>\n",
       "      <th>AAATGCCGTAAGGTCG-1_Control</th>\n",
       "      <th>AACAAAGAGCGATACG-1_Control</th>\n",
       "      <th>AACAAAGTCAGAGTGG-1_Control</th>\n",
       "      <th>AACAAAGTCTTACGGA-1_Control</th>\n",
       "      <th>AACATCGCATCGAGTT-1_Control</th>\n",
       "      <th>...</th>\n",
       "      <th>TTCGGTCTCTCTTCCT-1_Input</th>\n",
       "      <th>TTGCAGAAGTACGACG-1_Input</th>\n",
       "      <th>TTGCGAACATGGATGG-1_Input</th>\n",
       "      <th>TTGCTATTCCCGTAGG-1_Input</th>\n",
       "      <th>TTGCTTAGTATTCTCT-1_Input</th>\n",
       "      <th>TTGCTTATCGGTTCCT-1_Input</th>\n",
       "      <th>TTGTCTAAGCACGTAG-1_Input</th>\n",
       "      <th>TTTACGTCAGCCACGT-1_Input</th>\n",
       "      <th>TTTGAGGTCTGGGCGT-1_Input</th>\n",
       "      <th>TTTGCGCGTTGAATAG-1_Input</th>\n",
       "    </tr>\n",
       "  </thead>\n",
       "  <tbody>\n",
       "    <tr>\n",
       "      <th>10302A&gt;T</th>\n",
       "      <td>NaN</td>\n",
       "      <td>NaN</td>\n",
       "      <td>NaN</td>\n",
       "      <td>NaN</td>\n",
       "      <td>NaN</td>\n",
       "      <td>NaN</td>\n",
       "      <td>NaN</td>\n",
       "      <td>NaN</td>\n",
       "      <td>NaN</td>\n",
       "      <td>NaN</td>\n",
       "      <td>...</td>\n",
       "      <td>NaN</td>\n",
       "      <td>NaN</td>\n",
       "      <td>NaN</td>\n",
       "      <td>NaN</td>\n",
       "      <td>NaN</td>\n",
       "      <td>NaN</td>\n",
       "      <td>NaN</td>\n",
       "      <td>NaN</td>\n",
       "      <td>NaN</td>\n",
       "      <td>NaN</td>\n",
       "    </tr>\n",
       "    <tr>\n",
       "      <th>10398A&gt;G</th>\n",
       "      <td>0.0</td>\n",
       "      <td>0.0</td>\n",
       "      <td>0.000000</td>\n",
       "      <td>0.951595</td>\n",
       "      <td>0.0</td>\n",
       "      <td>1.0</td>\n",
       "      <td>0.000000</td>\n",
       "      <td>1.0</td>\n",
       "      <td>0.0</td>\n",
       "      <td>1.0</td>\n",
       "      <td>...</td>\n",
       "      <td>0.00000</td>\n",
       "      <td>0.104439</td>\n",
       "      <td>0.018799</td>\n",
       "      <td>0.000000</td>\n",
       "      <td>0.000000</td>\n",
       "      <td>0.001452</td>\n",
       "      <td>0.458447</td>\n",
       "      <td>0.003831</td>\n",
       "      <td>0.016747</td>\n",
       "      <td>0.000000</td>\n",
       "    </tr>\n",
       "    <tr>\n",
       "      <th>103G&gt;A</th>\n",
       "      <td>NaN</td>\n",
       "      <td>NaN</td>\n",
       "      <td>NaN</td>\n",
       "      <td>NaN</td>\n",
       "      <td>NaN</td>\n",
       "      <td>NaN</td>\n",
       "      <td>NaN</td>\n",
       "      <td>NaN</td>\n",
       "      <td>NaN</td>\n",
       "      <td>NaN</td>\n",
       "      <td>...</td>\n",
       "      <td>NaN</td>\n",
       "      <td>NaN</td>\n",
       "      <td>NaN</td>\n",
       "      <td>NaN</td>\n",
       "      <td>NaN</td>\n",
       "      <td>NaN</td>\n",
       "      <td>NaN</td>\n",
       "      <td>NaN</td>\n",
       "      <td>NaN</td>\n",
       "      <td>NaN</td>\n",
       "    </tr>\n",
       "    <tr>\n",
       "      <th>10400C&gt;T</th>\n",
       "      <td>0.0</td>\n",
       "      <td>0.0</td>\n",
       "      <td>0.000000</td>\n",
       "      <td>0.945312</td>\n",
       "      <td>0.0</td>\n",
       "      <td>1.0</td>\n",
       "      <td>0.000000</td>\n",
       "      <td>1.0</td>\n",
       "      <td>0.0</td>\n",
       "      <td>1.0</td>\n",
       "      <td>...</td>\n",
       "      <td>0.00000</td>\n",
       "      <td>0.108571</td>\n",
       "      <td>0.018930</td>\n",
       "      <td>0.000000</td>\n",
       "      <td>0.000000</td>\n",
       "      <td>0.001550</td>\n",
       "      <td>0.441512</td>\n",
       "      <td>0.004108</td>\n",
       "      <td>0.015044</td>\n",
       "      <td>0.000000</td>\n",
       "    </tr>\n",
       "    <tr>\n",
       "      <th>1040T&gt;C</th>\n",
       "      <td>NaN</td>\n",
       "      <td>NaN</td>\n",
       "      <td>NaN</td>\n",
       "      <td>NaN</td>\n",
       "      <td>NaN</td>\n",
       "      <td>NaN</td>\n",
       "      <td>NaN</td>\n",
       "      <td>NaN</td>\n",
       "      <td>NaN</td>\n",
       "      <td>NaN</td>\n",
       "      <td>...</td>\n",
       "      <td>NaN</td>\n",
       "      <td>NaN</td>\n",
       "      <td>NaN</td>\n",
       "      <td>NaN</td>\n",
       "      <td>NaN</td>\n",
       "      <td>NaN</td>\n",
       "      <td>NaN</td>\n",
       "      <td>NaN</td>\n",
       "      <td>NaN</td>\n",
       "      <td>NaN</td>\n",
       "    </tr>\n",
       "    <tr>\n",
       "      <th>...</th>\n",
       "      <td>...</td>\n",
       "      <td>...</td>\n",
       "      <td>...</td>\n",
       "      <td>...</td>\n",
       "      <td>...</td>\n",
       "      <td>...</td>\n",
       "      <td>...</td>\n",
       "      <td>...</td>\n",
       "      <td>...</td>\n",
       "      <td>...</td>\n",
       "      <td>...</td>\n",
       "      <td>...</td>\n",
       "      <td>...</td>\n",
       "      <td>...</td>\n",
       "      <td>...</td>\n",
       "      <td>...</td>\n",
       "      <td>...</td>\n",
       "      <td>...</td>\n",
       "      <td>...</td>\n",
       "      <td>...</td>\n",
       "      <td>...</td>\n",
       "    </tr>\n",
       "    <tr>\n",
       "      <th>9545A&gt;G</th>\n",
       "      <td>0.0</td>\n",
       "      <td>0.0</td>\n",
       "      <td>0.001871</td>\n",
       "      <td>0.996065</td>\n",
       "      <td>0.0</td>\n",
       "      <td>1.0</td>\n",
       "      <td>0.000000</td>\n",
       "      <td>1.0</td>\n",
       "      <td>0.0</td>\n",
       "      <td>1.0</td>\n",
       "      <td>...</td>\n",
       "      <td>0.00214</td>\n",
       "      <td>0.115965</td>\n",
       "      <td>0.020828</td>\n",
       "      <td>0.000429</td>\n",
       "      <td>0.000000</td>\n",
       "      <td>0.000000</td>\n",
       "      <td>0.465913</td>\n",
       "      <td>0.001287</td>\n",
       "      <td>0.000000</td>\n",
       "      <td>0.000000</td>\n",
       "    </tr>\n",
       "    <tr>\n",
       "      <th>9590A&gt;T</th>\n",
       "      <td>NaN</td>\n",
       "      <td>NaN</td>\n",
       "      <td>NaN</td>\n",
       "      <td>NaN</td>\n",
       "      <td>NaN</td>\n",
       "      <td>NaN</td>\n",
       "      <td>NaN</td>\n",
       "      <td>NaN</td>\n",
       "      <td>NaN</td>\n",
       "      <td>NaN</td>\n",
       "      <td>...</td>\n",
       "      <td>NaN</td>\n",
       "      <td>NaN</td>\n",
       "      <td>NaN</td>\n",
       "      <td>NaN</td>\n",
       "      <td>NaN</td>\n",
       "      <td>NaN</td>\n",
       "      <td>NaN</td>\n",
       "      <td>NaN</td>\n",
       "      <td>NaN</td>\n",
       "      <td>NaN</td>\n",
       "    </tr>\n",
       "    <tr>\n",
       "      <th>9640C&gt;T</th>\n",
       "      <td>NaN</td>\n",
       "      <td>NaN</td>\n",
       "      <td>NaN</td>\n",
       "      <td>NaN</td>\n",
       "      <td>NaN</td>\n",
       "      <td>NaN</td>\n",
       "      <td>NaN</td>\n",
       "      <td>NaN</td>\n",
       "      <td>NaN</td>\n",
       "      <td>NaN</td>\n",
       "      <td>...</td>\n",
       "      <td>NaN</td>\n",
       "      <td>NaN</td>\n",
       "      <td>NaN</td>\n",
       "      <td>NaN</td>\n",
       "      <td>NaN</td>\n",
       "      <td>NaN</td>\n",
       "      <td>NaN</td>\n",
       "      <td>NaN</td>\n",
       "      <td>NaN</td>\n",
       "      <td>NaN</td>\n",
       "    </tr>\n",
       "    <tr>\n",
       "      <th>983C&gt;T</th>\n",
       "      <td>NaN</td>\n",
       "      <td>NaN</td>\n",
       "      <td>NaN</td>\n",
       "      <td>NaN</td>\n",
       "      <td>NaN</td>\n",
       "      <td>NaN</td>\n",
       "      <td>NaN</td>\n",
       "      <td>NaN</td>\n",
       "      <td>NaN</td>\n",
       "      <td>NaN</td>\n",
       "      <td>...</td>\n",
       "      <td>NaN</td>\n",
       "      <td>NaN</td>\n",
       "      <td>NaN</td>\n",
       "      <td>NaN</td>\n",
       "      <td>NaN</td>\n",
       "      <td>NaN</td>\n",
       "      <td>NaN</td>\n",
       "      <td>NaN</td>\n",
       "      <td>NaN</td>\n",
       "      <td>NaN</td>\n",
       "    </tr>\n",
       "    <tr>\n",
       "      <th>9899T&gt;C</th>\n",
       "      <td>1.0</td>\n",
       "      <td>1.0</td>\n",
       "      <td>0.000000</td>\n",
       "      <td>0.000000</td>\n",
       "      <td>0.0</td>\n",
       "      <td>0.0</td>\n",
       "      <td>0.998833</td>\n",
       "      <td>0.0</td>\n",
       "      <td>0.0</td>\n",
       "      <td>0.0</td>\n",
       "      <td>...</td>\n",
       "      <td>0.00000</td>\n",
       "      <td>0.091391</td>\n",
       "      <td>0.000000</td>\n",
       "      <td>0.000000</td>\n",
       "      <td>0.036762</td>\n",
       "      <td>0.994806</td>\n",
       "      <td>0.148197</td>\n",
       "      <td>0.000644</td>\n",
       "      <td>0.000000</td>\n",
       "      <td>0.000758</td>\n",
       "    </tr>\n",
       "  </tbody>\n",
       "</table>\n",
       "<p>339 rows × 4798 columns</p>\n",
       "</div>"
      ],
      "text/plain": [
       "          AAACTGCTCTCGCGGA-1_Control  AAAGATGCAGCAACGA-1_Control  \\\n",
       "10302A>T                         NaN                         NaN   \n",
       "10398A>G                         0.0                         0.0   \n",
       "103G>A                           NaN                         NaN   \n",
       "10400C>T                         0.0                         0.0   \n",
       "1040T>C                          NaN                         NaN   \n",
       "...                              ...                         ...   \n",
       "9545A>G                          0.0                         0.0   \n",
       "9590A>T                          NaN                         NaN   \n",
       "9640C>T                          NaN                         NaN   \n",
       "983C>T                           NaN                         NaN   \n",
       "9899T>C                          1.0                         1.0   \n",
       "\n",
       "          AAAGGATGTGCTGTGC-1_Control  AAAGGATTCAAAGTAG-1_Control  \\\n",
       "10302A>T                         NaN                         NaN   \n",
       "10398A>G                    0.000000                    0.951595   \n",
       "103G>A                           NaN                         NaN   \n",
       "10400C>T                    0.000000                    0.945312   \n",
       "1040T>C                          NaN                         NaN   \n",
       "...                              ...                         ...   \n",
       "9545A>G                     0.001871                    0.996065   \n",
       "9590A>T                          NaN                         NaN   \n",
       "9640C>T                          NaN                         NaN   \n",
       "983C>T                           NaN                         NaN   \n",
       "9899T>C                     0.000000                    0.000000   \n",
       "\n",
       "          AAATGCCCAGAAAGAG-1_Control  AAATGCCGTAAGGTCG-1_Control  \\\n",
       "10302A>T                         NaN                         NaN   \n",
       "10398A>G                         0.0                         1.0   \n",
       "103G>A                           NaN                         NaN   \n",
       "10400C>T                         0.0                         1.0   \n",
       "1040T>C                          NaN                         NaN   \n",
       "...                              ...                         ...   \n",
       "9545A>G                          0.0                         1.0   \n",
       "9590A>T                          NaN                         NaN   \n",
       "9640C>T                          NaN                         NaN   \n",
       "983C>T                           NaN                         NaN   \n",
       "9899T>C                          0.0                         0.0   \n",
       "\n",
       "          AACAAAGAGCGATACG-1_Control  AACAAAGTCAGAGTGG-1_Control  \\\n",
       "10302A>T                         NaN                         NaN   \n",
       "10398A>G                    0.000000                         1.0   \n",
       "103G>A                           NaN                         NaN   \n",
       "10400C>T                    0.000000                         1.0   \n",
       "1040T>C                          NaN                         NaN   \n",
       "...                              ...                         ...   \n",
       "9545A>G                     0.000000                         1.0   \n",
       "9590A>T                          NaN                         NaN   \n",
       "9640C>T                          NaN                         NaN   \n",
       "983C>T                           NaN                         NaN   \n",
       "9899T>C                     0.998833                         0.0   \n",
       "\n",
       "          AACAAAGTCTTACGGA-1_Control  AACATCGCATCGAGTT-1_Control  ...  \\\n",
       "10302A>T                         NaN                         NaN  ...   \n",
       "10398A>G                         0.0                         1.0  ...   \n",
       "103G>A                           NaN                         NaN  ...   \n",
       "10400C>T                         0.0                         1.0  ...   \n",
       "1040T>C                          NaN                         NaN  ...   \n",
       "...                              ...                         ...  ...   \n",
       "9545A>G                          0.0                         1.0  ...   \n",
       "9590A>T                          NaN                         NaN  ...   \n",
       "9640C>T                          NaN                         NaN  ...   \n",
       "983C>T                           NaN                         NaN  ...   \n",
       "9899T>C                          0.0                         0.0  ...   \n",
       "\n",
       "          TTCGGTCTCTCTTCCT-1_Input  TTGCAGAAGTACGACG-1_Input  \\\n",
       "10302A>T                       NaN                       NaN   \n",
       "10398A>G                   0.00000                  0.104439   \n",
       "103G>A                         NaN                       NaN   \n",
       "10400C>T                   0.00000                  0.108571   \n",
       "1040T>C                        NaN                       NaN   \n",
       "...                            ...                       ...   \n",
       "9545A>G                    0.00214                  0.115965   \n",
       "9590A>T                        NaN                       NaN   \n",
       "9640C>T                        NaN                       NaN   \n",
       "983C>T                         NaN                       NaN   \n",
       "9899T>C                    0.00000                  0.091391   \n",
       "\n",
       "          TTGCGAACATGGATGG-1_Input  TTGCTATTCCCGTAGG-1_Input  \\\n",
       "10302A>T                       NaN                       NaN   \n",
       "10398A>G                  0.018799                  0.000000   \n",
       "103G>A                         NaN                       NaN   \n",
       "10400C>T                  0.018930                  0.000000   \n",
       "1040T>C                        NaN                       NaN   \n",
       "...                            ...                       ...   \n",
       "9545A>G                   0.020828                  0.000429   \n",
       "9590A>T                        NaN                       NaN   \n",
       "9640C>T                        NaN                       NaN   \n",
       "983C>T                         NaN                       NaN   \n",
       "9899T>C                   0.000000                  0.000000   \n",
       "\n",
       "          TTGCTTAGTATTCTCT-1_Input  TTGCTTATCGGTTCCT-1_Input  \\\n",
       "10302A>T                       NaN                       NaN   \n",
       "10398A>G                  0.000000                  0.001452   \n",
       "103G>A                         NaN                       NaN   \n",
       "10400C>T                  0.000000                  0.001550   \n",
       "1040T>C                        NaN                       NaN   \n",
       "...                            ...                       ...   \n",
       "9545A>G                   0.000000                  0.000000   \n",
       "9590A>T                        NaN                       NaN   \n",
       "9640C>T                        NaN                       NaN   \n",
       "983C>T                         NaN                       NaN   \n",
       "9899T>C                   0.036762                  0.994806   \n",
       "\n",
       "          TTGTCTAAGCACGTAG-1_Input  TTTACGTCAGCCACGT-1_Input  \\\n",
       "10302A>T                       NaN                       NaN   \n",
       "10398A>G                  0.458447                  0.003831   \n",
       "103G>A                         NaN                       NaN   \n",
       "10400C>T                  0.441512                  0.004108   \n",
       "1040T>C                        NaN                       NaN   \n",
       "...                            ...                       ...   \n",
       "9545A>G                   0.465913                  0.001287   \n",
       "9590A>T                        NaN                       NaN   \n",
       "9640C>T                        NaN                       NaN   \n",
       "983C>T                         NaN                       NaN   \n",
       "9899T>C                   0.148197                  0.000644   \n",
       "\n",
       "          TTTGAGGTCTGGGCGT-1_Input  TTTGCGCGTTGAATAG-1_Input  \n",
       "10302A>T                       NaN                       NaN  \n",
       "10398A>G                  0.016747                  0.000000  \n",
       "103G>A                         NaN                       NaN  \n",
       "10400C>T                  0.015044                  0.000000  \n",
       "1040T>C                        NaN                       NaN  \n",
       "...                            ...                       ...  \n",
       "9545A>G                   0.000000                  0.000000  \n",
       "9590A>T                        NaN                       NaN  \n",
       "9640C>T                        NaN                       NaN  \n",
       "983C>T                         NaN                       NaN  \n",
       "9899T>C                   0.000000                  0.000758  \n",
       "\n",
       "[339 rows x 4798 columns]"
      ]
     },
     "execution_count": 9,
     "metadata": {},
     "output_type": "execute_result"
    }
   ],
   "source": [
    "all_cells"
   ]
  },
  {
   "cell_type": "code",
   "execution_count": 10,
   "metadata": {
    "ExecuteTime": {
     "end_time": "2021-05-25T21:47:26.388975Z",
     "start_time": "2021-05-25T21:47:26.258076Z"
    }
   },
   "outputs": [],
   "source": [
    "variants_set = dict()\n",
    "for s in mgatk_afs:\n",
    "    variants_set[s] = mgatk_afs[s].index\n"
   ]
  },
  {
   "cell_type": "markdown",
   "metadata": {},
   "source": [
    "## Get type of variant information"
   ]
  },
  {
   "cell_type": "code",
   "execution_count": 11,
   "metadata": {
    "ExecuteTime": {
     "end_time": "2021-05-25T21:47:26.498113Z",
     "start_time": "2021-05-25T21:47:26.390613Z"
    }
   },
   "outputs": [],
   "source": [
    "import src.utils.variant_utils as vu"
   ]
  },
  {
   "cell_type": "code",
   "execution_count": 12,
   "metadata": {
    "ExecuteTime": {
     "end_time": "2021-05-25T21:47:26.781712Z",
     "start_time": "2021-05-25T21:47:26.499783Z"
    },
    "scrolled": true
   },
   "outputs": [
    {
     "name": "stdout",
     "output_type": "stream",
     "text": [
      "variants\n",
      "['10302A>T' '10398A>G' '103G>A' '10400C>T' '1040T>C' '10463T>C' '10516T>A'\n",
      " '10559A>G' '10571A>T' '10626T>C' '10646G>A' '10671G>A' '1082A>G'\n",
      " '10873T>C' '11137T>C' '11204T>A' '11204T>C' '11238T>C' '11251A>G'\n",
      " '11332C>T' '11339T>C' '1134G>A' '11382C>A' '11467A>G' '11655C>G'\n",
      " '11684T>C' '11689C>T' '11711G>A' '11719G>A' '1174T>C' '11812A>G'\n",
      " '11838T>A' '11914G>A' '1192C>A' '11944T>C' '1199G>T' '12079C>T'\n",
      " '12105T>C' '12283G>A' '12283G>T' '12297T>C' '12308A>G' '12372G>A'\n",
      " '1252G>A' '12705C>T' '12723A>C' '12723A>G' '12736G>A' '12790T>A'\n",
      " '12790T>C' '12913T>C' '1291T>C' '12944T>A' '13042G>A' '13053C>A'\n",
      " '13063G>A' '13094T>A' '13108T>A' '13121G>A' '13246T>A' '13246T>C'\n",
      " '13263A>G' '13263A>T' '13305C>T' '13339T>A' '1334G>A' '13368G>A'\n",
      " '13369T>C' '13422A>T' '13436C>A' '13443T>A' '13443T>C' '13619T>A'\n",
      " '13781T>C' '13850A>T' '13931T>C' '14050T>C' '14233A>G' '14274A>G'\n",
      " '14318T>C' '14524A>C' '14614A>T' '14620C>T' '146T>C' '1471A>G' '1471A>T'\n",
      " '14766C>T' '14783T>C' '14861G>A' '14905G>A' '14962C>T' '14991T>A'\n",
      " '14991T>C' '15043G>A' '15051T>C' '150C>T' '15122A>G' '15153G>A'\n",
      " '15171G>A' '15184T>C' '15235A>C' '15235A>G' '15301G>A' '15452C>A'\n",
      " '15487A>T' '1551G>T' '15536A>C' '15607A>G' '15672T>C' '15693T>C'\n",
      " '15758A>G' '15784T>C' '15789C>T' '15821T>A' '1589C>G' '15924A>G'\n",
      " '15928G>A' '16051A>G' '16066A>T' '16086T>C' '16126T>C' '16129G>A'\n",
      " '16131T>C' '16150C>T' '16189T>C' '16220A>C' '16220A>G' '16223C>T'\n",
      " '16227A>T' '16262C>T' '16294C>T' '16296C>A' '16296C>T' '16298T>C'\n",
      " '16304T>C' '16325T>C' '16327C>T' '16356T>A' '16356T>C' '16362T>C'\n",
      " '16387A>G' '16433A>T' '16465C>T' '16477G>A' '16512T>A' '16512T>C'\n",
      " '16519T>A' '16519T>C' '1779A>G' '1811A>G' '1847T>A' '1888G>A' '1945A>G'\n",
      " '1949G>A' '195T>C' '204T>C' '2083T>C' '2231A>G' '2264A>G' '2291A>T'\n",
      " '248A>G' '2514C>A' '2529T>C' '2623A>G' '2651A>G' '2653C>A' '2653C>T'\n",
      " '2694A>T' '2702G>A' '2706A>G' '2707A>G' '2723A>G' '2723A>T' '2778T>C'\n",
      " '2786T>C' '2833A>G' '2863T>A' '2871T>C' '2875A>G' '2875A>T' '287A>C'\n",
      " '290A>T' '3003A>G' '3010G>A' '3106C>A' '310T>C' '3144A>G' '318T>A'\n",
      " '3203A>G' '3242G>A' '3243A>G' '3243A>T' '3244G>A' '3296T>A' '3402A>T'\n",
      " '3412G>A' '3488T>C' '3514C>A' '3542T>C' '3552T>A' '3561A>C' '3599T>C'\n",
      " '3630C>A' '3630C>T' '3655C>A' '3672A>G' '368A>G' '3735A>T' '3801T>C'\n",
      " '3820C>A' '3820C>T' '4100T>A' '4100T>C' '4117T>C' '4216T>C' '4248T>C'\n",
      " '4428G>A' '4516G>A' '4631A>T' '4646T>C' '4715A>G' '477T>C' '478A>C'\n",
      " '478A>G' '4806T>A' '4820G>T' '4831G>A' '4837C>A' '4855T>A' '4858T>A'\n",
      " '489T>C' '4917A>G' '4972G>A' '499G>A' '513G>A' '5147G>A' '515A>G'\n",
      " '5214C>A' '5214C>T' '5231G>A' '523A>C' '5252G>A' '5273A>T' '5335A>G'\n",
      " '5337C>A' '5357A>C' '5361T>C' '5370T>C' '5442T>C' '5496A>G' '5580T>C'\n",
      " '5585G>A' '5585G>T' '5610G>A' '5622C>T' '5698G>A' '5774T>C' '5817C>T'\n",
      " '585A>G' '5999T>C' '6043T>A' '6047A>G' '6050T>C' '6142A>G' '6142A>T'\n",
      " '6207T>A' '6221T>C' '627G>A' '6293T>C' '62G>A' '6364G>A' '6371C>A'\n",
      " '639C>T' '6456G>A' '6513G>A' '6529T>G' '6795G>A' '6797C>T' '6891A>T'\n",
      " '6904G>A' '6904G>C' '7028C>T' '7032T>A' '7032T>C' '709G>A' '7158A>G'\n",
      " '7196C>A' '7218C>T' '73A>G' '747A>G' '7579T>C' '7589G>A' '7609T>C'\n",
      " '7639A>T' '7689G>A' '7697G>A' '769G>T' '7704A>C' '7704A>G' '7705T>C'\n",
      " '7775G>A' '7808C>T' '7818T>C' '7849C>T' '7950T>C' '8108A>G' '8118G>A'\n",
      " '8153G>A' '8276C>A' '8285C>A' '8352C>A' '8467C>T' '8584G>A' '8609C>A'\n",
      " '8642A>G' '8652A>C' '8697G>A' '8701A>G' '875T>C' '8770A>T' '8902G>A'\n",
      " '8908T>A' '8926C>T' '892A>C' '8989G>A' '8998G>A' '9023C>T' '9087C>A'\n",
      " '9173T>A' '9270C>A' '930G>A' '9344C>A' '9476A>T' '9540T>C' '9545A>G'\n",
      " '9590A>T' '9640C>T' '983C>T' '9899T>C']\n"
     ]
    },
    {
     "data": {
      "text/html": [
       "<div>\n",
       "<style scoped>\n",
       "    .dataframe tbody tr th:only-of-type {\n",
       "        vertical-align: middle;\n",
       "    }\n",
       "\n",
       "    .dataframe tbody tr th {\n",
       "        vertical-align: top;\n",
       "    }\n",
       "\n",
       "    .dataframe thead th {\n",
       "        text-align: right;\n",
       "    }\n",
       "</style>\n",
       "<table border=\"1\" class=\"dataframe\">\n",
       "  <thead>\n",
       "    <tr style=\"text-align: right;\">\n",
       "      <th></th>\n",
       "      <th>position</th>\n",
       "      <th>ref</th>\n",
       "      <th>alt</th>\n",
       "      <th>variant type</th>\n",
       "      <th>variant change</th>\n",
       "    </tr>\n",
       "  </thead>\n",
       "  <tbody>\n",
       "    <tr>\n",
       "      <th>10302A&gt;T</th>\n",
       "      <td>10302</td>\n",
       "      <td>A</td>\n",
       "      <td>T</td>\n",
       "      <td>Transversion</td>\n",
       "      <td>A&gt;T</td>\n",
       "    </tr>\n",
       "    <tr>\n",
       "      <th>10398A&gt;G</th>\n",
       "      <td>10398</td>\n",
       "      <td>A</td>\n",
       "      <td>G</td>\n",
       "      <td>Transition</td>\n",
       "      <td>A&gt;G</td>\n",
       "    </tr>\n",
       "    <tr>\n",
       "      <th>103G&gt;A</th>\n",
       "      <td>103</td>\n",
       "      <td>G</td>\n",
       "      <td>A</td>\n",
       "      <td>Transition</td>\n",
       "      <td>G&gt;A</td>\n",
       "    </tr>\n",
       "    <tr>\n",
       "      <th>10400C&gt;T</th>\n",
       "      <td>10400</td>\n",
       "      <td>C</td>\n",
       "      <td>T</td>\n",
       "      <td>Transition</td>\n",
       "      <td>C&gt;T</td>\n",
       "    </tr>\n",
       "    <tr>\n",
       "      <th>1040T&gt;C</th>\n",
       "      <td>1040</td>\n",
       "      <td>T</td>\n",
       "      <td>C</td>\n",
       "      <td>Transition</td>\n",
       "      <td>T&gt;C</td>\n",
       "    </tr>\n",
       "    <tr>\n",
       "      <th>...</th>\n",
       "      <td>...</td>\n",
       "      <td>...</td>\n",
       "      <td>...</td>\n",
       "      <td>...</td>\n",
       "      <td>...</td>\n",
       "    </tr>\n",
       "    <tr>\n",
       "      <th>9545A&gt;G</th>\n",
       "      <td>9545</td>\n",
       "      <td>A</td>\n",
       "      <td>G</td>\n",
       "      <td>Transition</td>\n",
       "      <td>A&gt;G</td>\n",
       "    </tr>\n",
       "    <tr>\n",
       "      <th>9590A&gt;T</th>\n",
       "      <td>9590</td>\n",
       "      <td>A</td>\n",
       "      <td>T</td>\n",
       "      <td>Transversion</td>\n",
       "      <td>A&gt;T</td>\n",
       "    </tr>\n",
       "    <tr>\n",
       "      <th>9640C&gt;T</th>\n",
       "      <td>9640</td>\n",
       "      <td>C</td>\n",
       "      <td>T</td>\n",
       "      <td>Transition</td>\n",
       "      <td>C&gt;T</td>\n",
       "    </tr>\n",
       "    <tr>\n",
       "      <th>983C&gt;T</th>\n",
       "      <td>983</td>\n",
       "      <td>C</td>\n",
       "      <td>T</td>\n",
       "      <td>Transition</td>\n",
       "      <td>C&gt;T</td>\n",
       "    </tr>\n",
       "    <tr>\n",
       "      <th>9899T&gt;C</th>\n",
       "      <td>9899</td>\n",
       "      <td>T</td>\n",
       "      <td>C</td>\n",
       "      <td>Transition</td>\n",
       "      <td>T&gt;C</td>\n",
       "    </tr>\n",
       "  </tbody>\n",
       "</table>\n",
       "<p>339 rows × 5 columns</p>\n",
       "</div>"
      ],
      "text/plain": [
       "         position ref alt  variant type variant change\n",
       "10302A>T    10302   A   T  Transversion            A>T\n",
       "10398A>G    10398   A   G    Transition            A>G\n",
       "103G>A        103   G   A    Transition            G>A\n",
       "10400C>T    10400   C   T    Transition            C>T\n",
       "1040T>C      1040   T   C    Transition            T>C\n",
       "...           ...  ..  ..           ...            ...\n",
       "9545A>G      9545   A   G    Transition            A>G\n",
       "9590A>T      9590   A   T  Transversion            A>T\n",
       "9640C>T      9640   C   T    Transition            C>T\n",
       "983C>T        983   C   T    Transition            C>T\n",
       "9899T>C      9899   T   C    Transition            T>C\n",
       "\n",
       "[339 rows x 5 columns]"
      ]
     },
     "execution_count": 12,
     "metadata": {},
     "output_type": "execute_result"
    }
   ],
   "source": [
    "variant_df = vu.type_of_variants(all_cells.index.values)\n",
    "variant_positions = list(map(lambda x: int(x[:-3]), all_cells.index))\n",
    "variant_df"
   ]
  },
  {
   "cell_type": "code",
   "execution_count": 13,
   "metadata": {
    "ExecuteTime": {
     "end_time": "2021-05-25T21:47:27.261763Z",
     "start_time": "2021-05-25T21:47:26.783442Z"
    }
   },
   "outputs": [
    {
     "data": {
      "text/plain": [
       "<matplotlib.axes._subplots.AxesSubplot at 0x7fccc32bbc88>"
      ]
     },
     "execution_count": 13,
     "metadata": {},
     "output_type": "execute_result"
    },
    {
     "data": {
      "image/png": "[encoded data removed]",
      "text/plain": [
       "<Figure size 432x288 with 1 Axes>"
      ]
     },
     "metadata": {
      "needs_background": "light"
     },
     "output_type": "display_data"
    }
   ],
   "source": [
    "%matplotlib inline\n",
    "sns.countplot(variant_df[\"variant type\"])"
   ]
  },
  {
   "cell_type": "code",
   "execution_count": 14,
   "metadata": {
    "ExecuteTime": {
     "end_time": "2021-05-25T21:47:27.584336Z",
     "start_time": "2021-05-25T21:47:27.263570Z"
    }
   },
   "outputs": [
    {
     "data": {
      "text/plain": [
       "<matplotlib.axes._subplots.AxesSubplot at 0x7fccb893acf8>"
      ]
     },
     "execution_count": 14,
     "metadata": {},
     "output_type": "execute_result"
    },
    {
     "data": {
      "image/png": "[encoded data removed]",
      "text/plain": [
       "<Figure size 432x288 with 1 Axes>"
      ]
     },
     "metadata": {
      "needs_background": "light"
     },
     "output_type": "display_data"
    }
   ],
   "source": [
    "%matplotlib inline\n",
    "sns.countplot(variant_df[\"variant change\"])"
   ]
  },
  {
   "cell_type": "code",
   "execution_count": 15,
   "metadata": {
    "ExecuteTime": {
     "end_time": "2021-05-25T21:47:27.868816Z",
     "start_time": "2021-05-25T21:47:27.586378Z"
    }
   },
   "outputs": [
    {
     "data": {
      "text/plain": [
       "<seaborn.axisgrid.FacetGrid at 0x7fccb9ab2048>"
      ]
     },
     "execution_count": 15,
     "metadata": {},
     "output_type": "execute_result"
    },
    {
     "data": {
      "image/png": "[encoded data removed]",
      "text/plain": [
       "<Figure size 360x360 with 1 Axes>"
      ]
     },
     "metadata": {
      "needs_background": "light"
     },
     "output_type": "display_data"
    }
   ],
   "source": [
    "sns.catplot(x=\"variant type\",y=\"Total coverage\",\n",
    "            data=pd.concat((variant_df,all_cells.fillna(0).sum(axis=1)), axis=1).rename({0:\"Total coverage\"}, axis=1))"
   ]
  },
  {
   "cell_type": "code",
   "execution_count": 16,
   "metadata": {
    "ExecuteTime": {
     "end_time": "2021-05-25T21:47:28.268742Z",
     "start_time": "2021-05-25T21:47:27.870601Z"
    }
   },
   "outputs": [
    {
     "data": {
      "text/plain": [
       "<seaborn.axisgrid.FacetGrid at 0x7fccc30547f0>"
      ]
     },
     "execution_count": 16,
     "metadata": {},
     "output_type": "execute_result"
    },
    {
     "data": {
      "image/png": "[encoded data removed]",
      "text/plain": [
       "<Figure size 360x360 with 1 Axes>"
      ]
     },
     "metadata": {
      "needs_background": "light"
     },
     "output_type": "display_data"
    }
   ],
   "source": [
    "sns.catplot(x=\"variant change\",y=\"Total coverage\",\n",
    "            data=pd.concat((variant_df,all_cells.sum(axis=1)), axis=1).rename({0:\"Total coverage\"}, axis=1))"
   ]
  },
  {
   "cell_type": "code",
   "execution_count": 24,
   "metadata": {
    "ExecuteTime": {
     "end_time": "2021-05-25T21:49:37.055548Z",
     "start_time": "2021-05-25T21:49:37.022019Z"
    }
   },
   "outputs": [
    {
     "data": {
      "text/html": [
       "<div>\n",
       "<style scoped>\n",
       "    .dataframe tbody tr th:only-of-type {\n",
       "        vertical-align: middle;\n",
       "    }\n",
       "\n",
       "    .dataframe tbody tr th {\n",
       "        vertical-align: top;\n",
       "    }\n",
       "\n",
       "    .dataframe thead th {\n",
       "        text-align: right;\n",
       "    }\n",
       "</style>\n",
       "<table border=\"1\" class=\"dataframe\">\n",
       "  <thead>\n",
       "    <tr style=\"text-align: right;\">\n",
       "      <th></th>\n",
       "      <th>Condition</th>\n",
       "    </tr>\n",
       "  </thead>\n",
       "  <tbody>\n",
       "    <tr>\n",
       "      <th>AAACTGCTCTCGCGGA-1_Control</th>\n",
       "      <td>Control</td>\n",
       "    </tr>\n",
       "    <tr>\n",
       "      <th>AAAGATGCAGCAACGA-1_Control</th>\n",
       "      <td>Control</td>\n",
       "    </tr>\n",
       "    <tr>\n",
       "      <th>AAAGGATGTGCTGTGC-1_Control</th>\n",
       "      <td>Control</td>\n",
       "    </tr>\n",
       "    <tr>\n",
       "      <th>AAAGGATTCAAAGTAG-1_Control</th>\n",
       "      <td>Control</td>\n",
       "    </tr>\n",
       "    <tr>\n",
       "      <th>AAATGCCCAGAAAGAG-1_Control</th>\n",
       "      <td>Control</td>\n",
       "    </tr>\n",
       "    <tr>\n",
       "      <th>...</th>\n",
       "      <td>...</td>\n",
       "    </tr>\n",
       "    <tr>\n",
       "      <th>TTGCTTATCGGTTCCT-1_Input</th>\n",
       "      <td>Input</td>\n",
       "    </tr>\n",
       "    <tr>\n",
       "      <th>TTGTCTAAGCACGTAG-1_Input</th>\n",
       "      <td>Input</td>\n",
       "    </tr>\n",
       "    <tr>\n",
       "      <th>TTTACGTCAGCCACGT-1_Input</th>\n",
       "      <td>Input</td>\n",
       "    </tr>\n",
       "    <tr>\n",
       "      <th>TTTGAGGTCTGGGCGT-1_Input</th>\n",
       "      <td>Input</td>\n",
       "    </tr>\n",
       "    <tr>\n",
       "      <th>TTTGCGCGTTGAATAG-1_Input</th>\n",
       "      <td>Input</td>\n",
       "    </tr>\n",
       "  </tbody>\n",
       "</table>\n",
       "<p>4798 rows × 1 columns</p>\n",
       "</div>"
      ],
      "text/plain": [
       "                           Condition\n",
       "AAACTGCTCTCGCGGA-1_Control   Control\n",
       "AAAGATGCAGCAACGA-1_Control   Control\n",
       "AAAGGATGTGCTGTGC-1_Control   Control\n",
       "AAAGGATTCAAAGTAG-1_Control   Control\n",
       "AAATGCCCAGAAAGAG-1_Control   Control\n",
       "...                              ...\n",
       "TTGCTTATCGGTTCCT-1_Input       Input\n",
       "TTGTCTAAGCACGTAG-1_Input       Input\n",
       "TTTACGTCAGCCACGT-1_Input       Input\n",
       "TTTGAGGTCTGGGCGT-1_Input       Input\n",
       "TTTGCGCGTTGAATAG-1_Input       Input\n",
       "\n",
       "[4798 rows x 1 columns]"
      ]
     },
     "execution_count": 24,
     "metadata": {},
     "output_type": "execute_result"
    }
   ],
   "source": [
    "cells_meta = pd.DataFrame([x.split(\"_\")[-1] for x in all_cells.columns], columns=[\"Condition\"],\n",
    "                         index=all_cells.columns)\n",
    "cells_meta"
   ]
  },
  {
   "cell_type": "code",
   "execution_count": 30,
   "metadata": {
    "ExecuteTime": {
     "end_time": "2021-05-25T22:00:18.991300Z",
     "start_time": "2021-05-25T22:00:18.949966Z"
    }
   },
   "outputs": [
    {
     "data": {
      "text/html": [
       "<div>\n",
       "<style scoped>\n",
       "    .dataframe tbody tr th:only-of-type {\n",
       "        vertical-align: middle;\n",
       "    }\n",
       "\n",
       "    .dataframe tbody tr th {\n",
       "        vertical-align: top;\n",
       "    }\n",
       "\n",
       "    .dataframe thead th {\n",
       "        text-align: right;\n",
       "    }\n",
       "</style>\n",
       "<table border=\"1\" class=\"dataframe\">\n",
       "  <thead>\n",
       "    <tr style=\"text-align: right;\">\n",
       "      <th></th>\n",
       "      <th>position</th>\n",
       "      <th>ref</th>\n",
       "      <th>alt</th>\n",
       "      <th>variant type</th>\n",
       "      <th>variant change</th>\n",
       "    </tr>\n",
       "  </thead>\n",
       "  <tbody>\n",
       "    <tr>\n",
       "      <th>10302A&gt;T</th>\n",
       "      <td>10302</td>\n",
       "      <td>A</td>\n",
       "      <td>T</td>\n",
       "      <td>Transversion</td>\n",
       "      <td>A&gt;T</td>\n",
       "    </tr>\n",
       "    <tr>\n",
       "      <th>10398A&gt;G</th>\n",
       "      <td>10398</td>\n",
       "      <td>A</td>\n",
       "      <td>G</td>\n",
       "      <td>Transition</td>\n",
       "      <td>A&gt;G</td>\n",
       "    </tr>\n",
       "    <tr>\n",
       "      <th>103G&gt;A</th>\n",
       "      <td>103</td>\n",
       "      <td>G</td>\n",
       "      <td>A</td>\n",
       "      <td>Transition</td>\n",
       "      <td>G&gt;A</td>\n",
       "    </tr>\n",
       "    <tr>\n",
       "      <th>10400C&gt;T</th>\n",
       "      <td>10400</td>\n",
       "      <td>C</td>\n",
       "      <td>T</td>\n",
       "      <td>Transition</td>\n",
       "      <td>C&gt;T</td>\n",
       "    </tr>\n",
       "    <tr>\n",
       "      <th>1040T&gt;C</th>\n",
       "      <td>1040</td>\n",
       "      <td>T</td>\n",
       "      <td>C</td>\n",
       "      <td>Transition</td>\n",
       "      <td>T&gt;C</td>\n",
       "    </tr>\n",
       "    <tr>\n",
       "      <th>...</th>\n",
       "      <td>...</td>\n",
       "      <td>...</td>\n",
       "      <td>...</td>\n",
       "      <td>...</td>\n",
       "      <td>...</td>\n",
       "    </tr>\n",
       "    <tr>\n",
       "      <th>9545A&gt;G</th>\n",
       "      <td>9545</td>\n",
       "      <td>A</td>\n",
       "      <td>G</td>\n",
       "      <td>Transition</td>\n",
       "      <td>A&gt;G</td>\n",
       "    </tr>\n",
       "    <tr>\n",
       "      <th>9590A&gt;T</th>\n",
       "      <td>9590</td>\n",
       "      <td>A</td>\n",
       "      <td>T</td>\n",
       "      <td>Transversion</td>\n",
       "      <td>A&gt;T</td>\n",
       "    </tr>\n",
       "    <tr>\n",
       "      <th>9640C&gt;T</th>\n",
       "      <td>9640</td>\n",
       "      <td>C</td>\n",
       "      <td>T</td>\n",
       "      <td>Transition</td>\n",
       "      <td>C&gt;T</td>\n",
       "    </tr>\n",
       "    <tr>\n",
       "      <th>983C&gt;T</th>\n",
       "      <td>983</td>\n",
       "      <td>C</td>\n",
       "      <td>T</td>\n",
       "      <td>Transition</td>\n",
       "      <td>C&gt;T</td>\n",
       "    </tr>\n",
       "    <tr>\n",
       "      <th>9899T&gt;C</th>\n",
       "      <td>9899</td>\n",
       "      <td>T</td>\n",
       "      <td>C</td>\n",
       "      <td>Transition</td>\n",
       "      <td>T&gt;C</td>\n",
       "    </tr>\n",
       "  </tbody>\n",
       "</table>\n",
       "<p>339 rows × 5 columns</p>\n",
       "</div>"
      ],
      "text/plain": [
       "         position ref alt  variant type variant change\n",
       "10302A>T    10302   A   T  Transversion            A>T\n",
       "10398A>G    10398   A   G    Transition            A>G\n",
       "103G>A        103   G   A    Transition            G>A\n",
       "10400C>T    10400   C   T    Transition            C>T\n",
       "1040T>C      1040   T   C    Transition            T>C\n",
       "...           ...  ..  ..           ...            ...\n",
       "9545A>G      9545   A   G    Transition            A>G\n",
       "9590A>T      9590   A   T  Transversion            A>T\n",
       "9640C>T      9640   C   T    Transition            C>T\n",
       "983C>T        983   C   T    Transition            C>T\n",
       "9899T>C      9899   T   C    Transition            T>C\n",
       "\n",
       "[339 rows x 5 columns]"
      ]
     },
     "execution_count": 30,
     "metadata": {},
     "output_type": "execute_result"
    }
   ],
   "source": [
    "variant_df"
   ]
  },
  {
   "cell_type": "code",
   "execution_count": 31,
   "metadata": {
    "ExecuteTime": {
     "end_time": "2021-05-25T22:01:08.751153Z",
     "start_time": "2021-05-25T22:00:33.503904Z"
    },
    "scrolled": false
   },
   "outputs": [
    {
     "name": "stdout",
     "output_type": "stream",
     "text": [
      "clustering\n",
      "cmap None\n"
     ]
    },
    {
     "data": {
      "text/plain": [
       "<seaborn.matrix.ClusterGrid at 0x7fcbfea13940>"
      ]
     },
     "execution_count": 31,
     "metadata": {},
     "output_type": "execute_result"
    },
    {
     "data": {
      "image/png": "[encoded data removed]",
      "text/plain": [
       "<Figure size 720x720 with 6 Axes>"
      ]
     },
     "metadata": {
      "needs_background": "light"
     },
     "output_type": "display_data"
    }
   ],
   "source": [
    "cluster_help.plot_cluster(df=all_cells.fillna(0).transpose(), col_meta=variant_df[[\"variant type\"]],\n",
    "                 fsave=None, to_z=False, to_col_clust=True, row_meta=cells_meta,\n",
    "                 to_row_clust=True, name=None, col_names=True,\n",
    "                 row_names=True, to_legend=True, method=\"average\", white_name=None, metric='jaccard')"
   ]
  },
  {
   "cell_type": "code",
   "execution_count": null,
   "metadata": {},
   "outputs": [],
   "source": []
  },
  {
   "cell_type": "code",
   "execution_count": null,
   "metadata": {},
   "outputs": [],
   "source": []
  },
  {
   "cell_type": "code",
   "execution_count": 33,
   "metadata": {
    "ExecuteTime": {
     "end_time": "2021-05-26T16:53:44.154107Z",
     "start_time": "2021-05-26T16:53:44.117143Z"
    }
   },
   "outputs": [],
   "source": [
    "from src.utils.paramspace import Paramspace"
   ]
  },
  {
   "cell_type": "code",
   "execution_count": 35,
   "metadata": {
    "ExecuteTime": {
     "end_time": "2021-05-26T16:54:42.937301Z",
     "start_time": "2021-05-26T16:54:42.896027Z"
    }
   },
   "outputs": [
    {
     "data": {
      "text/plain": [
       "'/data2/mito_lineage/parameters/CHIP_april08_2021/mttrace.csv'"
      ]
     },
     "execution_count": 35,
     "metadata": {},
     "output_type": "execute_result"
    }
   ],
   "source": [
    "join(ROOT_DIR, \"parameters\", \"CHIP_april08_2021\", \"mttrace.csv\")"
   ]
  },
  {
   "cell_type": "code",
   "execution_count": 57,
   "metadata": {
    "ExecuteTime": {
     "end_time": "2021-05-26T17:02:39.683179Z",
     "start_time": "2021-05-26T17:02:39.637371Z"
    }
   },
   "outputs": [
    {
     "data": {
      "text/plain": [
       "Index(['num_reads_filter', 'base_quality', 'min_cells', 'min_reads', 'topN',\n",
       "       'het_thresh', 'min_het_cells', 'het_count_thresh', 'bq_thresh',\n",
       "       'low_cov_thresh', 'n_clone_list'],\n",
       "      dtype='object')"
      ]
     },
     "execution_count": 57,
     "metadata": {},
     "output_type": "execute_result"
    }
   ],
   "source": [
    "params_df.columns.drop(['use_cellr_barcode'])"
   ]
  },
  {
   "cell_type": "code",
   "execution_count": 62,
   "metadata": {
    "ExecuteTime": {
     "end_time": "2021-05-26T17:03:25.007249Z",
     "start_time": "2021-05-26T17:03:24.964857Z"
    }
   },
   "outputs": [
    {
     "data": {
      "text/plain": [
       "array(['min_cells', 'min_reads', 'topN', 'het_thresh', 'min_het_cells',\n",
       "       'het_count_thresh', 'bq_thresh', 'low_cov_thresh', 'n_clone_list'],\n",
       "      dtype=object)"
      ]
     },
     "execution_count": 62,
     "metadata": {},
     "output_type": "execute_result"
    }
   ],
   "source": [
    "params_df.columns.drop(['use_cellr_barcode', 'num_reads_filter', 'base_quality']).values"
   ]
  },
  {
   "cell_type": "code",
   "execution_count": 65,
   "metadata": {
    "ExecuteTime": {
     "end_time": "2021-05-26T17:06:02.322250Z",
     "start_time": "2021-05-26T17:06:02.242446Z"
    }
   },
   "outputs": [
    {
     "data": {
      "text/plain": [
       "['use_cellr_barcode__True/num_reads_filter__200/base_quality__20/min_cells__10_min_reads__50_topN__0_het_thresh__0.001_min_het_cells__10_het_count_thresh__5_bq_thresh__20_low_cov_thresh__10_n_clone_list__5;10;20;40;100',\n",
       " 'use_cellr_barcode__True/num_reads_filter__200/base_quality__20/min_cells__10_min_reads__50_topN__0_het_thresh__0.001_min_het_cells__5_het_count_thresh__2_bq_thresh__20_low_cov_thresh__10_n_clone_list__5;10;20;40;100']"
      ]
     },
     "execution_count": 65,
     "metadata": {},
     "output_type": "execute_result"
    }
   ],
   "source": [
    "params_df = pd.read_csv(join(ROOT_DIR, \"parameters\", \"CHIP_april08_2021\", \"mttrace.csv\"))\n",
    "p = Paramspace(params_df, param_sep=\"__\", \n",
    "               filename_params=list(params_df.columns.drop(['use_cellr_barcode', 'num_reads_filter', 'base_quality']).values))\n",
    "p\n",
    "\n",
    "list(p.instance_patterns)"
   ]
  }
 ],
 "metadata": {
  "kernelspec": {
   "display_name": "Python 3",
   "language": "python",
   "name": "python3"
  },
  "language_info": {
   "codemirror_mode": {
    "name": "ipython",
    "version": 3
   },
   "file_extension": ".py",
   "mimetype": "text/x-python",
   "name": "python",
   "nbconvert_exporter": "python",
   "pygments_lexer": "ipython3",
   "version": "3.7.3"
  }
 },
 "nbformat": 4,
 "nbformat_minor": 2
}
