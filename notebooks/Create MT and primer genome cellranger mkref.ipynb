{
 "cells": [
  {
   "cell_type": "markdown",
   "metadata": {},
   "source": [
    "## Trying to understand how to properly process data from /data2/isshamie/mito_lineage/data/processed/200403_A00953_0090_BHC23FDSXY/trim, which is amplified by MT primers and done with 5'-end sequencing with 10x genomics. "
   ]
  },
  {
   "cell_type": "markdown",
   "metadata": {},
   "source": [
    "## Libraries and files"
   ]
  },
  {
   "cell_type": "code",
   "execution_count": 1,
   "metadata": {
    "ExecuteTime": {
     "end_time": "2020-04-27T01:39:28.112817Z",
     "start_time": "2020-04-27T01:39:27.660234Z"
    }
   },
   "outputs": [],
   "source": [
    "from os.path import basename, join\n",
    "import os\n",
    "import yaml\n",
    "import pandas as pd\n",
    "from glob import glob\n",
    "import pysam\n"
   ]
  },
  {
   "cell_type": "code",
   "execution_count": 2,
   "metadata": {
    "ExecuteTime": {
     "end_time": "2020-04-27T01:39:28.129014Z",
     "start_time": "2020-04-27T01:39:28.114789Z"
    }
   },
   "outputs": [
    {
     "data": {
      "text/plain": [
       "{'samples': 'parameters/samples.tsv',\n",
       " 'raw_folder': '/data2/isshamie/mito_lineage/data/raw/',\n",
       " 'dataset': '200403_A00953_0090_BHC23FDSXY',\n",
       " 'primers_list': '/data2/mito_lineage/BWA-Primers-MT/final_primers_with_tag.csv',\n",
       " 'adapter': 'AAGCAGTGGTATCAACGCAGAGTAC',\n",
       " 'MT_genes_fasta': '/data2/mito_lineage/BWA-Primers-MT/MT.genes.fasta',\n",
       " 'ref_fa': '/data2/genome/human_GRCh38/cellranger/refdata-cellranger-GRCh38-3.0.0/fasta/genome.fa',\n",
       " 'transcriptome_dir': 'transcriptome=/data2/genome/human_GRCh38/cellranger/refdata-cellranger-GRCh38-3.0.0/'}"
      ]
     },
     "execution_count": 2,
     "metadata": {},
     "output_type": "execute_result"
    }
   ],
   "source": [
    "params = \"../parameters/trim_adaptors.yaml\"\n",
    "params = yaml.load(open(params), Loader=yaml.FullLoader)\n",
    "params"
   ]
  },
  {
   "cell_type": "code",
   "execution_count": 3,
   "metadata": {
    "ExecuteTime": {
     "end_time": "2020-04-27T01:39:28.152890Z",
     "start_time": "2020-04-27T01:39:28.130900Z"
    },
    "scrolled": true
   },
   "outputs": [
    {
     "data": {
      "text/html": [
       "<div>\n",
       "<style scoped>\n",
       "    .dataframe tbody tr th:only-of-type {\n",
       "        vertical-align: middle;\n",
       "    }\n",
       "\n",
       "    .dataframe tbody tr th {\n",
       "        vertical-align: top;\n",
       "    }\n",
       "\n",
       "    .dataframe thead th {\n",
       "        text-align: right;\n",
       "    }\n",
       "</style>\n",
       "<table border=\"1\" class=\"dataframe\">\n",
       "  <thead>\n",
       "    <tr style=\"text-align: right;\">\n",
       "      <th></th>\n",
       "      <th>Name</th>\n",
       "      <th>Sequence 5'</th>\n",
       "      <th>Gene</th>\n",
       "      <th>Strand</th>\n",
       "      <th>MT Position</th>\n",
       "      <th>Sequence 5' with tag</th>\n",
       "      <th>Name with tag</th>\n",
       "    </tr>\n",
       "  </thead>\n",
       "  <tbody>\n",
       "    <tr>\n",
       "      <th>0</th>\n",
       "      <td>gene60922_0</td>\n",
       "      <td>TGTTTATGGGGTGATGTGAG</td>\n",
       "      <td>gene60922</td>\n",
       "      <td>-</td>\n",
       "      <td>646</td>\n",
       "      <td>AAGCAGTGGTATCAACGCAGAGTACTGTTTATGGGGTGATGTGAG</td>\n",
       "      <td>tag_gene60922_0</td>\n",
       "    </tr>\n",
       "    <tr>\n",
       "      <th>1</th>\n",
       "      <td>gene60923_349</td>\n",
       "      <td>CTGAGCAAGAGGTGGTGAGG</td>\n",
       "      <td>gene60923</td>\n",
       "      <td>-</td>\n",
       "      <td>1251</td>\n",
       "      <td>AAGCAGTGGTATCAACGCAGAGTACCTGAGCAAGAGGTGGTGAGG</td>\n",
       "      <td>tag_gene60923_349</td>\n",
       "    </tr>\n",
       "    <tr>\n",
       "      <th>2</th>\n",
       "      <td>gene60923_830</td>\n",
       "      <td>TGCTGCGTGCTTGATGCTTG</td>\n",
       "      <td>gene60923</td>\n",
       "      <td>-</td>\n",
       "      <td>770</td>\n",
       "      <td>AAGCAGTGGTATCAACGCAGAGTACTGCTGCGTGCTTGATGCTTG</td>\n",
       "      <td>tag_gene60923_830</td>\n",
       "    </tr>\n",
       "    <tr>\n",
       "      <th>3</th>\n",
       "      <td>gene60923_499</td>\n",
       "      <td>TAGGGCTAAGCATAGTGGGG</td>\n",
       "      <td>gene60923</td>\n",
       "      <td>-</td>\n",
       "      <td>1101</td>\n",
       "      <td>AAGCAGTGGTATCAACGCAGAGTACTAGGGCTAAGCATAGTGGGG</td>\n",
       "      <td>tag_gene60923_499</td>\n",
       "    </tr>\n",
       "    <tr>\n",
       "      <th>4</th>\n",
       "      <td>gene60923_0</td>\n",
       "      <td>GTTCGTCCAAGTGCACTTTC</td>\n",
       "      <td>gene60923</td>\n",
       "      <td>-</td>\n",
       "      <td>1600</td>\n",
       "      <td>AAGCAGTGGTATCAACGCAGAGTACGTTCGTCCAAGTGCACTTTC</td>\n",
       "      <td>tag_gene60923_0</td>\n",
       "    </tr>\n",
       "    <tr>\n",
       "      <th>...</th>\n",
       "      <td>...</td>\n",
       "      <td>...</td>\n",
       "      <td>...</td>\n",
       "      <td>...</td>\n",
       "      <td>...</td>\n",
       "      <td>...</td>\n",
       "      <td>...</td>\n",
       "    </tr>\n",
       "    <tr>\n",
       "      <th>117</th>\n",
       "      <td>gene60956_981</td>\n",
       "      <td>GCATGGCTAGGAATAGTCCT</td>\n",
       "      <td>gene60956</td>\n",
       "      <td>-</td>\n",
       "      <td>14905</td>\n",
       "      <td>AAGCAGTGGTATCAACGCAGAGTACGCATGGCTAGGAATAGTCCT</td>\n",
       "      <td>tag_gene60956_981</td>\n",
       "    </tr>\n",
       "    <tr>\n",
       "      <th>118</th>\n",
       "      <td>gene60956_831</td>\n",
       "      <td>AATATAGGCCTCGCCCGATG</td>\n",
       "      <td>gene60956</td>\n",
       "      <td>-</td>\n",
       "      <td>15055</td>\n",
       "      <td>AAGCAGTGGTATCAACGCAGAGTACAATATAGGCCTCGCCCGATG</td>\n",
       "      <td>tag_gene60956_831</td>\n",
       "    </tr>\n",
       "    <tr>\n",
       "      <th>119</th>\n",
       "      <td>gene60956_0</td>\n",
       "      <td>AGGCCCATTTGAGTATTTTG</td>\n",
       "      <td>gene60956</td>\n",
       "      <td>-</td>\n",
       "      <td>15886</td>\n",
       "      <td>AAGCAGTGGTATCAACGCAGAGTACAGGCCCATTTGAGTATTTTG</td>\n",
       "      <td>tag_gene60956_0</td>\n",
       "    </tr>\n",
       "    <tr>\n",
       "      <th>120</th>\n",
       "      <td>gene60957_0</td>\n",
       "      <td>TGTCCTTGGAAAAAGGTTTT</td>\n",
       "      <td>gene60957</td>\n",
       "      <td>-</td>\n",
       "      <td>15952</td>\n",
       "      <td>AAGCAGTGGTATCAACGCAGAGTACTGTCCTTGGAAAAAGGTTTT</td>\n",
       "      <td>tag_gene60957_0</td>\n",
       "    </tr>\n",
       "    <tr>\n",
       "      <th>121</th>\n",
       "      <td>gene60958_0</td>\n",
       "      <td>TCAGAGAAAAAGTCTTTAAC</td>\n",
       "      <td>gene60958</td>\n",
       "      <td>+</td>\n",
       "      <td>15955</td>\n",
       "      <td>AAGCAGTGGTATCAACGCAGAGTACTCAGAGAAAAAGTCTTTAAC</td>\n",
       "      <td>tag_gene60958_0</td>\n",
       "    </tr>\n",
       "  </tbody>\n",
       "</table>\n",
       "<p>122 rows × 7 columns</p>\n",
       "</div>"
      ],
      "text/plain": [
       "              Name           Sequence 5'       Gene Strand  MT Position  \\\n",
       "0      gene60922_0  TGTTTATGGGGTGATGTGAG  gene60922      -          646   \n",
       "1    gene60923_349  CTGAGCAAGAGGTGGTGAGG  gene60923      -         1251   \n",
       "2    gene60923_830  TGCTGCGTGCTTGATGCTTG  gene60923      -          770   \n",
       "3    gene60923_499  TAGGGCTAAGCATAGTGGGG  gene60923      -         1101   \n",
       "4      gene60923_0  GTTCGTCCAAGTGCACTTTC  gene60923      -         1600   \n",
       "..             ...                   ...        ...    ...          ...   \n",
       "117  gene60956_981  GCATGGCTAGGAATAGTCCT  gene60956      -        14905   \n",
       "118  gene60956_831  AATATAGGCCTCGCCCGATG  gene60956      -        15055   \n",
       "119    gene60956_0  AGGCCCATTTGAGTATTTTG  gene60956      -        15886   \n",
       "120    gene60957_0  TGTCCTTGGAAAAAGGTTTT  gene60957      -        15952   \n",
       "121    gene60958_0  TCAGAGAAAAAGTCTTTAAC  gene60958      +        15955   \n",
       "\n",
       "                              Sequence 5' with tag      Name with tag  \n",
       "0    AAGCAGTGGTATCAACGCAGAGTACTGTTTATGGGGTGATGTGAG    tag_gene60922_0  \n",
       "1    AAGCAGTGGTATCAACGCAGAGTACCTGAGCAAGAGGTGGTGAGG  tag_gene60923_349  \n",
       "2    AAGCAGTGGTATCAACGCAGAGTACTGCTGCGTGCTTGATGCTTG  tag_gene60923_830  \n",
       "3    AAGCAGTGGTATCAACGCAGAGTACTAGGGCTAAGCATAGTGGGG  tag_gene60923_499  \n",
       "4    AAGCAGTGGTATCAACGCAGAGTACGTTCGTCCAAGTGCACTTTC    tag_gene60923_0  \n",
       "..                                             ...                ...  \n",
       "117  AAGCAGTGGTATCAACGCAGAGTACGCATGGCTAGGAATAGTCCT  tag_gene60956_981  \n",
       "118  AAGCAGTGGTATCAACGCAGAGTACAATATAGGCCTCGCCCGATG  tag_gene60956_831  \n",
       "119  AAGCAGTGGTATCAACGCAGAGTACAGGCCCATTTGAGTATTTTG    tag_gene60956_0  \n",
       "120  AAGCAGTGGTATCAACGCAGAGTACTGTCCTTGGAAAAAGGTTTT    tag_gene60957_0  \n",
       "121  AAGCAGTGGTATCAACGCAGAGTACTCAGAGAAAAAGTCTTTAAC    tag_gene60958_0  \n",
       "\n",
       "[122 rows x 7 columns]"
      ]
     },
     "execution_count": 3,
     "metadata": {},
     "output_type": "execute_result"
    }
   ],
   "source": [
    "primers = pd.read_csv(params[\"primers_list\"])\n",
    "primers"
   ]
  },
  {
   "cell_type": "markdown",
   "metadata": {},
   "source": [
    "## Create the fasta sequences:\n",
    "To do this, add primer as a fasta line. Additionally, add an extended sequence of it (either to the max of the gene or extra 200 bp)  \n",
    "Caveat: This may lead to duplications  \n"
   ]
  },
  {
   "cell_type": "markdown",
   "metadata": {},
   "source": [
    "## Input: \n",
    "- MT gene fasta\n",
    "- Primer sequence, position and strand (in primers_list)\n"
   ]
  },
  {
   "cell_type": "code",
   "execution_count": 6,
   "metadata": {
    "ExecuteTime": {
     "end_time": "2020-04-27T01:40:01.530720Z",
     "start_time": "2020-04-27T01:40:01.464516Z"
    }
   },
   "outputs": [],
   "source": [
    "from Bio import SeqIO"
   ]
  },
  {
   "cell_type": "code",
   "execution_count": 9,
   "metadata": {
    "ExecuteTime": {
     "end_time": "2020-04-27T01:40:31.002406Z",
     "start_time": "2020-04-27T01:40:30.985841Z"
    }
   },
   "outputs": [
    {
     "data": {
      "text/plain": [
       "{'id1959760::NC_012920.1:0-16569(+)': SeqRecord(seq=Seq('GATCACAGGTCTATCACCCTATTAACCACTCACGGGAGCTCTCCATGCATTTGG...ATG', SingleLetterAlphabet()), id='id1959760::NC_012920.1:0-16569(+)', name='id1959760::NC_012920.1:0-16569(+)', description='id1959760::NC_012920.1:0-16569(+)', dbxrefs=[]),\n",
       " 'gene60922::NC_012920.1:576-647(+)': SeqRecord(seq=Seq('GTTTATGTAGCTTACCTCCTCAAAGCAATACACTGAAAATGTTTAGACGGGCTC...ACA', SingleLetterAlphabet()), id='gene60922::NC_012920.1:576-647(+)', name='gene60922::NC_012920.1:576-647(+)', description='gene60922::NC_012920.1:576-647(+)', dbxrefs=[]),\n",
       " 'id1959761::NC_012920.1:576-647(+)': SeqRecord(seq=Seq('GTTTATGTAGCTTACCTCCTCAAAGCAATACACTGAAAATGTTTAGACGGGCTC...ACA', SingleLetterAlphabet()), id='id1959761::NC_012920.1:576-647(+)', name='id1959761::NC_012920.1:576-647(+)', description='id1959761::NC_012920.1:576-647(+)', dbxrefs=[]),\n",
       " 'rna171173::NC_012920.1:576-647(+)': SeqRecord(seq=Seq('GTTTATGTAGCTTACCTCCTCAAAGCAATACACTGAAAATGTTTAGACGGGCTC...ACA', SingleLetterAlphabet()), id='rna171173::NC_012920.1:576-647(+)', name='rna171173::NC_012920.1:576-647(+)', description='rna171173::NC_012920.1:576-647(+)', dbxrefs=[]),\n",
       " 'gene60923::NC_012920.1:647-1601(+)': SeqRecord(seq=Seq('AATAGGTTTGGTCCTAGCCTTTCTATTAGCTCTTAGTAAGATTACACATGCAAG...AAC', SingleLetterAlphabet()), id='gene60923::NC_012920.1:647-1601(+)', name='gene60923::NC_012920.1:647-1601(+)', description='gene60923::NC_012920.1:647-1601(+)', dbxrefs=[]),\n",
       " 'id1959762::NC_012920.1:647-1601(+)': SeqRecord(seq=Seq('AATAGGTTTGGTCCTAGCCTTTCTATTAGCTCTTAGTAAGATTACACATGCAAG...AAC', SingleLetterAlphabet()), id='id1959762::NC_012920.1:647-1601(+)', name='id1959762::NC_012920.1:647-1601(+)', description='id1959762::NC_012920.1:647-1601(+)', dbxrefs=[]),\n",
       " 'rna171174::NC_012920.1:647-1601(+)': SeqRecord(seq=Seq('AATAGGTTTGGTCCTAGCCTTTCTATTAGCTCTTAGTAAGATTACACATGCAAG...AAC', SingleLetterAlphabet()), id='rna171174::NC_012920.1:647-1601(+)', name='rna171174::NC_012920.1:647-1601(+)', description='rna171174::NC_012920.1:647-1601(+)', dbxrefs=[]),\n",
       " 'gene60924::NC_012920.1:1601-1670(+)': SeqRecord(seq=Seq('CAGAGTGTAGCTTAACACAAAGCACCCAACTTACACTTAGGAGATTTCAACTTA...TGA', SingleLetterAlphabet()), id='gene60924::NC_012920.1:1601-1670(+)', name='gene60924::NC_012920.1:1601-1670(+)', description='gene60924::NC_012920.1:1601-1670(+)', dbxrefs=[]),\n",
       " 'id1959763::NC_012920.1:1601-1670(+)': SeqRecord(seq=Seq('CAGAGTGTAGCTTAACACAAAGCACCCAACTTACACTTAGGAGATTTCAACTTA...TGA', SingleLetterAlphabet()), id='id1959763::NC_012920.1:1601-1670(+)', name='id1959763::NC_012920.1:1601-1670(+)', description='id1959763::NC_012920.1:1601-1670(+)', dbxrefs=[]),\n",
       " 'rna171175::NC_012920.1:1601-1670(+)': SeqRecord(seq=Seq('CAGAGTGTAGCTTAACACAAAGCACCCAACTTACACTTAGGAGATTTCAACTTA...TGA', SingleLetterAlphabet()), id='rna171175::NC_012920.1:1601-1670(+)', name='rna171175::NC_012920.1:1601-1670(+)', description='rna171175::NC_012920.1:1601-1670(+)', dbxrefs=[]),\n",
       " 'gene60925::NC_012920.1:1670-3229(+)': SeqRecord(seq=Seq('GCTAAACCTAGCCCCAAACCCACTCCACCTTACTACCAGACAACCTTAGCCAAA...TTT', SingleLetterAlphabet()), id='gene60925::NC_012920.1:1670-3229(+)', name='gene60925::NC_012920.1:1670-3229(+)', description='gene60925::NC_012920.1:1670-3229(+)', dbxrefs=[]),\n",
       " 'id1959764::NC_012920.1:1670-3229(+)': SeqRecord(seq=Seq('GCTAAACCTAGCCCCAAACCCACTCCACCTTACTACCAGACAACCTTAGCCAAA...TTT', SingleLetterAlphabet()), id='id1959764::NC_012920.1:1670-3229(+)', name='id1959764::NC_012920.1:1670-3229(+)', description='id1959764::NC_012920.1:1670-3229(+)', dbxrefs=[]),\n",
       " 'rna171176::NC_012920.1:1670-3229(+)': SeqRecord(seq=Seq('GCTAAACCTAGCCCCAAACCCACTCCACCTTACTACCAGACAACCTTAGCCAAA...TTT', SingleLetterAlphabet()), id='rna171176::NC_012920.1:1670-3229(+)', name='rna171176::NC_012920.1:1670-3229(+)', description='rna171176::NC_012920.1:1670-3229(+)', dbxrefs=[]),\n",
       " 'id1959765::NC_012920.1:3106-3107(+)': SeqRecord(seq=Seq('N', SingleLetterAlphabet()), id='id1959765::NC_012920.1:3106-3107(+)', name='id1959765::NC_012920.1:3106-3107(+)', description='id1959765::NC_012920.1:3106-3107(+)', dbxrefs=[]),\n",
       " 'gene60926::NC_012920.1:3229-3304(+)': SeqRecord(seq=Seq('GTTAAGATGGCAGAGCCCGGTAATCGCATAAAACTTAAAACTTTACAGTCAGAG...ACA', SingleLetterAlphabet()), id='gene60926::NC_012920.1:3229-3304(+)', name='gene60926::NC_012920.1:3229-3304(+)', description='gene60926::NC_012920.1:3229-3304(+)', dbxrefs=[]),\n",
       " 'id1959766::NC_012920.1:3229-3304(+)': SeqRecord(seq=Seq('GTTAAGATGGCAGAGCCCGGTAATCGCATAAAACTTAAAACTTTACAGTCAGAG...ACA', SingleLetterAlphabet()), id='id1959766::NC_012920.1:3229-3304(+)', name='id1959766::NC_012920.1:3229-3304(+)', description='id1959766::NC_012920.1:3229-3304(+)', dbxrefs=[]),\n",
       " 'rna171177::NC_012920.1:3229-3304(+)': SeqRecord(seq=Seq('GTTAAGATGGCAGAGCCCGGTAATCGCATAAAACTTAAAACTTTACAGTCAGAG...ACA', SingleLetterAlphabet()), id='rna171177::NC_012920.1:3229-3304(+)', name='rna171177::NC_012920.1:3229-3304(+)', description='rna171177::NC_012920.1:3229-3304(+)', dbxrefs=[]),\n",
       " 'cds120168::NC_012920.1:3306-4262(+)': SeqRecord(seq=Seq('ATACCCATGGCCAACCTCCTACTCCTCATTGTACCCATTCTAATCGCAATGGCA...CTA', SingleLetterAlphabet()), id='cds120168::NC_012920.1:3306-4262(+)', name='cds120168::NC_012920.1:3306-4262(+)', description='cds120168::NC_012920.1:3306-4262(+)', dbxrefs=[]),\n",
       " 'gene60927::NC_012920.1:3306-4262(+)': SeqRecord(seq=Seq('ATACCCATGGCCAACCTCCTACTCCTCATTGTACCCATTCTAATCGCAATGGCA...CTA', SingleLetterAlphabet()), id='gene60927::NC_012920.1:3306-4262(+)', name='gene60927::NC_012920.1:3306-4262(+)', description='gene60927::NC_012920.1:3306-4262(+)', dbxrefs=[]),\n",
       " 'gene60928::NC_012920.1:4262-4331(+)': SeqRecord(seq=Seq('AGAAATATGTCTGATAAAAGAGTTACTTTGATAGAGTAAATAATAGGAGCTTAA...CTA', SingleLetterAlphabet()), id='gene60928::NC_012920.1:4262-4331(+)', name='gene60928::NC_012920.1:4262-4331(+)', description='gene60928::NC_012920.1:4262-4331(+)', dbxrefs=[]),\n",
       " 'id1959767::NC_012920.1:4262-4331(+)': SeqRecord(seq=Seq('AGAAATATGTCTGATAAAAGAGTTACTTTGATAGAGTAAATAATAGGAGCTTAA...CTA', SingleLetterAlphabet()), id='id1959767::NC_012920.1:4262-4331(+)', name='id1959767::NC_012920.1:4262-4331(+)', description='id1959767::NC_012920.1:4262-4331(+)', dbxrefs=[]),\n",
       " 'rna171178::NC_012920.1:4262-4331(+)': SeqRecord(seq=Seq('AGAAATATGTCTGATAAAAGAGTTACTTTGATAGAGTAAATAATAGGAGCTTAA...CTA', SingleLetterAlphabet()), id='rna171178::NC_012920.1:4262-4331(+)', name='rna171178::NC_012920.1:4262-4331(+)', description='rna171178::NC_012920.1:4262-4331(+)', dbxrefs=[]),\n",
       " 'gene60929::NC_012920.1:4328-4400(-)': SeqRecord(seq=Seq('TAGGATGGGGTGTGATAGGTGGCACGGAGAATTTTGGATTCTCAGGGATGGGTT...TAG', SingleLetterAlphabet()), id='gene60929::NC_012920.1:4328-4400(-)', name='gene60929::NC_012920.1:4328-4400(-)', description='gene60929::NC_012920.1:4328-4400(-)', dbxrefs=[]),\n",
       " 'id1959768::NC_012920.1:4328-4400(-)': SeqRecord(seq=Seq('TAGGATGGGGTGTGATAGGTGGCACGGAGAATTTTGGATTCTCAGGGATGGGTT...TAG', SingleLetterAlphabet()), id='id1959768::NC_012920.1:4328-4400(-)', name='id1959768::NC_012920.1:4328-4400(-)', description='id1959768::NC_012920.1:4328-4400(-)', dbxrefs=[]),\n",
       " 'rna171179::NC_012920.1:4328-4400(-)': SeqRecord(seq=Seq('TAGGATGGGGTGTGATAGGTGGCACGGAGAATTTTGGATTCTCAGGGATGGGTT...TAG', SingleLetterAlphabet()), id='rna171179::NC_012920.1:4328-4400(-)', name='rna171179::NC_012920.1:4328-4400(-)', description='rna171179::NC_012920.1:4328-4400(-)', dbxrefs=[]),\n",
       " 'gene60930::NC_012920.1:4401-4469(+)': SeqRecord(seq=Seq('AGTAAGGTCAGCTAAATAAGCTATCGGGCCCATACCCCGAAAATGTTGGTTATA...CTA', SingleLetterAlphabet()), id='gene60930::NC_012920.1:4401-4469(+)', name='gene60930::NC_012920.1:4401-4469(+)', description='gene60930::NC_012920.1:4401-4469(+)', dbxrefs=[]),\n",
       " 'id1959769::NC_012920.1:4401-4469(+)': SeqRecord(seq=Seq('AGTAAGGTCAGCTAAATAAGCTATCGGGCCCATACCCCGAAAATGTTGGTTATA...CTA', SingleLetterAlphabet()), id='id1959769::NC_012920.1:4401-4469(+)', name='id1959769::NC_012920.1:4401-4469(+)', description='id1959769::NC_012920.1:4401-4469(+)', dbxrefs=[]),\n",
       " 'rna171180::NC_012920.1:4401-4469(+)': SeqRecord(seq=Seq('AGTAAGGTCAGCTAAATAAGCTATCGGGCCCATACCCCGAAAATGTTGGTTATA...CTA', SingleLetterAlphabet()), id='rna171180::NC_012920.1:4401-4469(+)', name='rna171180::NC_012920.1:4401-4469(+)', description='rna171180::NC_012920.1:4401-4469(+)', dbxrefs=[]),\n",
       " 'cds120169::NC_012920.1:4469-5511(+)': SeqRecord(seq=Seq('ATTAATCCCCTGGCCCAACCCGTCATCTACTCTACCATCTTTGCAGGCACACTC...TAT', SingleLetterAlphabet()), id='cds120169::NC_012920.1:4469-5511(+)', name='cds120169::NC_012920.1:4469-5511(+)', description='cds120169::NC_012920.1:4469-5511(+)', dbxrefs=[]),\n",
       " 'gene60931::NC_012920.1:4469-5511(+)': SeqRecord(seq=Seq('ATTAATCCCCTGGCCCAACCCGTCATCTACTCTACCATCTTTGCAGGCACACTC...TAT', SingleLetterAlphabet()), id='gene60931::NC_012920.1:4469-5511(+)', name='gene60931::NC_012920.1:4469-5511(+)', description='gene60931::NC_012920.1:4469-5511(+)', dbxrefs=[]),\n",
       " 'gene60932::NC_012920.1:5511-5579(+)': SeqRecord(seq=Seq('AGAAATTTAGGTTAAATACAGACCAAGAGCCTTCAAAGCCCTCAGTAAGTTGCA...CTG', SingleLetterAlphabet()), id='gene60932::NC_012920.1:5511-5579(+)', name='gene60932::NC_012920.1:5511-5579(+)', description='gene60932::NC_012920.1:5511-5579(+)', dbxrefs=[]),\n",
       " 'id1959770::NC_012920.1:5511-5579(+)': SeqRecord(seq=Seq('AGAAATTTAGGTTAAATACAGACCAAGAGCCTTCAAAGCCCTCAGTAAGTTGCA...CTG', SingleLetterAlphabet()), id='id1959770::NC_012920.1:5511-5579(+)', name='id1959770::NC_012920.1:5511-5579(+)', description='id1959770::NC_012920.1:5511-5579(+)', dbxrefs=[]),\n",
       " 'rna171181::NC_012920.1:5511-5579(+)': SeqRecord(seq=Seq('AGAAATTTAGGTTAAATACAGACCAAGAGCCTTCAAAGCCCTCAGTAAGTTGCA...CTG', SingleLetterAlphabet()), id='rna171181::NC_012920.1:5511-5579(+)', name='rna171181::NC_012920.1:5511-5579(+)', description='rna171181::NC_012920.1:5511-5579(+)', dbxrefs=[]),\n",
       " 'gene60933::NC_012920.1:5586-5655(-)': SeqRecord(seq=Seq('AAGGGCTTAGCTTAATTAAAGTGGCTGATTTGCGTTCAGTTGATGCAGAGTGGG...TTA', SingleLetterAlphabet()), id='gene60933::NC_012920.1:5586-5655(-)', name='gene60933::NC_012920.1:5586-5655(-)', description='gene60933::NC_012920.1:5586-5655(-)', dbxrefs=[]),\n",
       " 'id1959771::NC_012920.1:5586-5655(-)': SeqRecord(seq=Seq('AAGGGCTTAGCTTAATTAAAGTGGCTGATTTGCGTTCAGTTGATGCAGAGTGGG...TTA', SingleLetterAlphabet()), id='id1959771::NC_012920.1:5586-5655(-)', name='id1959771::NC_012920.1:5586-5655(-)', description='id1959771::NC_012920.1:5586-5655(-)', dbxrefs=[]),\n",
       " 'rna171182::NC_012920.1:5586-5655(-)': SeqRecord(seq=Seq('AAGGGCTTAGCTTAATTAAAGTGGCTGATTTGCGTTCAGTTGATGCAGAGTGGG...TTA', SingleLetterAlphabet()), id='rna171182::NC_012920.1:5586-5655(-)', name='rna171182::NC_012920.1:5586-5655(-)', description='rna171182::NC_012920.1:5586-5655(-)', dbxrefs=[]),\n",
       " 'gene60934::NC_012920.1:5656-5729(-)': SeqRecord(seq=Seq('TAGATTGAAGCCAGTTGATTAGGGTGCTTAGCTGTTAACTAAGTGTTTGTGGGT...TAG', SingleLetterAlphabet()), id='gene60934::NC_012920.1:5656-5729(-)', name='gene60934::NC_012920.1:5656-5729(-)', description='gene60934::NC_012920.1:5656-5729(-)', dbxrefs=[]),\n",
       " 'id1959772::NC_012920.1:5656-5729(-)': SeqRecord(seq=Seq('TAGATTGAAGCCAGTTGATTAGGGTGCTTAGCTGTTAACTAAGTGTTTGTGGGT...TAG', SingleLetterAlphabet()), id='id1959772::NC_012920.1:5656-5729(-)', name='id1959772::NC_012920.1:5656-5729(-)', description='id1959772::NC_012920.1:5656-5729(-)', dbxrefs=[]),\n",
       " 'rna171183::NC_012920.1:5656-5729(-)': SeqRecord(seq=Seq('TAGATTGAAGCCAGTTGATTAGGGTGCTTAGCTGTTAACTAAGTGTTTGTGGGT...TAG', SingleLetterAlphabet()), id='rna171183::NC_012920.1:5656-5729(-)', name='rna171183::NC_012920.1:5656-5729(-)', description='rna171183::NC_012920.1:5656-5729(-)', dbxrefs=[]),\n",
       " 'gene60935::NC_012920.1:5760-5826(-)': SeqRecord(seq=Seq('AGCTCCGAGGTGATTTTCATATTGAATTGCAAATTCGAAGAAGCAGCTTCAAAC...CTT', SingleLetterAlphabet()), id='gene60935::NC_012920.1:5760-5826(-)', name='gene60935::NC_012920.1:5760-5826(-)', description='gene60935::NC_012920.1:5760-5826(-)', dbxrefs=[]),\n",
       " 'id1959773::NC_012920.1:5760-5826(-)': SeqRecord(seq=Seq('AGCTCCGAGGTGATTTTCATATTGAATTGCAAATTCGAAGAAGCAGCTTCAAAC...CTT', SingleLetterAlphabet()), id='id1959773::NC_012920.1:5760-5826(-)', name='id1959773::NC_012920.1:5760-5826(-)', description='id1959773::NC_012920.1:5760-5826(-)', dbxrefs=[]),\n",
       " 'rna171184::NC_012920.1:5760-5826(-)': SeqRecord(seq=Seq('AGCTCCGAGGTGATTTTCATATTGAATTGCAAATTCGAAGAAGCAGCTTCAAAC...CTT', SingleLetterAlphabet()), id='rna171184::NC_012920.1:5760-5826(-)', name='rna171184::NC_012920.1:5760-5826(-)', description='rna171184::NC_012920.1:5760-5826(-)', dbxrefs=[]),\n",
       " 'gene60936::NC_012920.1:5825-5891(-)': SeqRecord(seq=Seq('GGTAAAATGGCTGAGTGAAGCATTGGACTGTAAATCTAAAGACAGGGGTTAGGC...CCA', SingleLetterAlphabet()), id='gene60936::NC_012920.1:5825-5891(-)', name='gene60936::NC_012920.1:5825-5891(-)', description='gene60936::NC_012920.1:5825-5891(-)', dbxrefs=[]),\n",
       " 'id1959774::NC_012920.1:5825-5891(-)': SeqRecord(seq=Seq('GGTAAAATGGCTGAGTGAAGCATTGGACTGTAAATCTAAAGACAGGGGTTAGGC...CCA', SingleLetterAlphabet()), id='id1959774::NC_012920.1:5825-5891(-)', name='id1959774::NC_012920.1:5825-5891(-)', description='id1959774::NC_012920.1:5825-5891(-)', dbxrefs=[]),\n",
       " 'rna171185::NC_012920.1:5825-5891(-)': SeqRecord(seq=Seq('GGTAAAATGGCTGAGTGAAGCATTGGACTGTAAATCTAAAGACAGGGGTTAGGC...CCA', SingleLetterAlphabet()), id='rna171185::NC_012920.1:5825-5891(-)', name='rna171185::NC_012920.1:5825-5891(-)', description='rna171185::NC_012920.1:5825-5891(-)', dbxrefs=[]),\n",
       " 'cds120170::NC_012920.1:5903-7445(+)': SeqRecord(seq=Seq('ATGTTCGCCGACCGTTGACTATTCTCTACAAACCACAAAGACATTGGAACACTA...AGA', SingleLetterAlphabet()), id='cds120170::NC_012920.1:5903-7445(+)', name='cds120170::NC_012920.1:5903-7445(+)', description='cds120170::NC_012920.1:5903-7445(+)', dbxrefs=[]),\n",
       " 'gene60937::NC_012920.1:5903-7445(+)': SeqRecord(seq=Seq('ATGTTCGCCGACCGTTGACTATTCTCTACAAACCACAAAGACATTGGAACACTA...AGA', SingleLetterAlphabet()), id='gene60937::NC_012920.1:5903-7445(+)', name='gene60937::NC_012920.1:5903-7445(+)', description='gene60937::NC_012920.1:5903-7445(+)', dbxrefs=[]),\n",
       " 'gene60938::NC_012920.1:7445-7514(-)': SeqRecord(seq=Seq('GAAAAAGTCATGGAGGCCATGGGGTTGGCTTGAAACCAGCTTTGGGGGGTTCGA...TTG', SingleLetterAlphabet()), id='gene60938::NC_012920.1:7445-7514(-)', name='gene60938::NC_012920.1:7445-7514(-)', description='gene60938::NC_012920.1:7445-7514(-)', dbxrefs=[]),\n",
       " 'id1959775::NC_012920.1:7445-7514(-)': SeqRecord(seq=Seq('GAAAAAGTCATGGAGGCCATGGGGTTGGCTTGAAACCAGCTTTGGGGGGTTCGA...TTG', SingleLetterAlphabet()), id='id1959775::NC_012920.1:7445-7514(-)', name='id1959775::NC_012920.1:7445-7514(-)', description='id1959775::NC_012920.1:7445-7514(-)', dbxrefs=[]),\n",
       " 'rna171186::NC_012920.1:7445-7514(-)': SeqRecord(seq=Seq('GAAAAAGTCATGGAGGCCATGGGGTTGGCTTGAAACCAGCTTTGGGGGGTTCGA...TTG', SingleLetterAlphabet()), id='rna171186::NC_012920.1:7445-7514(-)', name='rna171186::NC_012920.1:7445-7514(-)', description='rna171186::NC_012920.1:7445-7514(-)', dbxrefs=[]),\n",
       " 'gene60939::NC_012920.1:7517-7585(+)': SeqRecord(seq=Seq('AAGGTATTAGAAAAACCATTTCATAACTTTGTCAAAGTTAAATTATAGGCTAAA...TTA', SingleLetterAlphabet()), id='gene60939::NC_012920.1:7517-7585(+)', name='gene60939::NC_012920.1:7517-7585(+)', description='gene60939::NC_012920.1:7517-7585(+)', dbxrefs=[]),\n",
       " 'id1959776::NC_012920.1:7517-7585(+)': SeqRecord(seq=Seq('AAGGTATTAGAAAAACCATTTCATAACTTTGTCAAAGTTAAATTATAGGCTAAA...TTA', SingleLetterAlphabet()), id='id1959776::NC_012920.1:7517-7585(+)', name='id1959776::NC_012920.1:7517-7585(+)', description='id1959776::NC_012920.1:7517-7585(+)', dbxrefs=[]),\n",
       " 'rna171187::NC_012920.1:7517-7585(+)': SeqRecord(seq=Seq('AAGGTATTAGAAAAACCATTTCATAACTTTGTCAAAGTTAAATTATAGGCTAAA...TTA', SingleLetterAlphabet()), id='rna171187::NC_012920.1:7517-7585(+)', name='rna171187::NC_012920.1:7517-7585(+)', description='rna171187::NC_012920.1:7517-7585(+)', dbxrefs=[]),\n",
       " 'cds120171::NC_012920.1:7585-8269(+)': SeqRecord(seq=Seq('ATGGCACATGCAGCGCAAGTAGGTCTACAAGACGCTACTTCCCCTATCATAGAA...TAG', SingleLetterAlphabet()), id='cds120171::NC_012920.1:7585-8269(+)', name='cds120171::NC_012920.1:7585-8269(+)', description='cds120171::NC_012920.1:7585-8269(+)', dbxrefs=[]),\n",
       " 'gene60940::NC_012920.1:7585-8269(+)': SeqRecord(seq=Seq('ATGGCACATGCAGCGCAAGTAGGTCTACAAGACGCTACTTCCCCTATCATAGAA...TAG', SingleLetterAlphabet()), id='gene60940::NC_012920.1:7585-8269(+)', name='gene60940::NC_012920.1:7585-8269(+)', description='gene60940::NC_012920.1:7585-8269(+)', dbxrefs=[]),\n",
       " 'gene60941::NC_012920.1:8294-8364(+)': SeqRecord(seq=Seq('CACTGTAAAGCTAACTTAGCATTAACCTTTTAAGTTAAAGATTAAGAGAACCAA...TGA', SingleLetterAlphabet()), id='gene60941::NC_012920.1:8294-8364(+)', name='gene60941::NC_012920.1:8294-8364(+)', description='gene60941::NC_012920.1:8294-8364(+)', dbxrefs=[]),\n",
       " 'id1959777::NC_012920.1:8294-8364(+)': SeqRecord(seq=Seq('CACTGTAAAGCTAACTTAGCATTAACCTTTTAAGTTAAAGATTAAGAGAACCAA...TGA', SingleLetterAlphabet()), id='id1959777::NC_012920.1:8294-8364(+)', name='id1959777::NC_012920.1:8294-8364(+)', description='id1959777::NC_012920.1:8294-8364(+)', dbxrefs=[]),\n",
       " 'rna171188::NC_012920.1:8294-8364(+)': SeqRecord(seq=Seq('CACTGTAAAGCTAACTTAGCATTAACCTTTTAAGTTAAAGATTAAGAGAACCAA...TGA', SingleLetterAlphabet()), id='rna171188::NC_012920.1:8294-8364(+)', name='rna171188::NC_012920.1:8294-8364(+)', description='rna171188::NC_012920.1:8294-8364(+)', dbxrefs=[]),\n",
       " 'cds120172::NC_012920.1:8365-8572(+)': SeqRecord(seq=Seq('ATGCCCCAACTAAATACTACCGTATGGCCCACCATAATTACCCCCATACTCCTT...TAG', SingleLetterAlphabet()), id='cds120172::NC_012920.1:8365-8572(+)', name='cds120172::NC_012920.1:8365-8572(+)', description='cds120172::NC_012920.1:8365-8572(+)', dbxrefs=[]),\n",
       " 'gene60942::NC_012920.1:8365-8572(+)': SeqRecord(seq=Seq('ATGCCCCAACTAAATACTACCGTATGGCCCACCATAATTACCCCCATACTCCTT...TAG', SingleLetterAlphabet()), id='gene60942::NC_012920.1:8365-8572(+)', name='gene60942::NC_012920.1:8365-8572(+)', description='gene60942::NC_012920.1:8365-8572(+)', dbxrefs=[]),\n",
       " 'cds120173::NC_012920.1:8526-9207(+)': SeqRecord(seq=Seq('ATGAACGAAAATCTGTTCGCTTCATTCATTGCCCCCACAATCCTAGGCCTACCC...TAA', SingleLetterAlphabet()), id='cds120173::NC_012920.1:8526-9207(+)', name='cds120173::NC_012920.1:8526-9207(+)', description='cds120173::NC_012920.1:8526-9207(+)', dbxrefs=[]),\n",
       " 'gene60943::NC_012920.1:8526-9207(+)': SeqRecord(seq=Seq('ATGAACGAAAATCTGTTCGCTTCATTCATTGCCCCCACAATCCTAGGCCTACCC...TAA', SingleLetterAlphabet()), id='gene60943::NC_012920.1:8526-9207(+)', name='gene60943::NC_012920.1:8526-9207(+)', description='gene60943::NC_012920.1:8526-9207(+)', dbxrefs=[]),\n",
       " 'cds120174::NC_012920.1:9206-9990(+)': SeqRecord(seq=Seq('ATGACCCACCAATCACATGCCTATCATATAGTAAAACCCAGCCCATGACCCCTA...CTT', SingleLetterAlphabet()), id='cds120174::NC_012920.1:9206-9990(+)', name='cds120174::NC_012920.1:9206-9990(+)', description='cds120174::NC_012920.1:9206-9990(+)', dbxrefs=[]),\n",
       " 'gene60944::NC_012920.1:9206-9990(+)': SeqRecord(seq=Seq('ATGACCCACCAATCACATGCCTATCATATAGTAAAACCCAGCCCATGACCCCTA...CTT', SingleLetterAlphabet()), id='gene60944::NC_012920.1:9206-9990(+)', name='gene60944::NC_012920.1:9206-9990(+)', description='gene60944::NC_012920.1:9206-9990(+)', dbxrefs=[]),\n",
       " 'gene60945::NC_012920.1:9990-10058(+)': SeqRecord(seq=Seq('ACTCTTTTAGTATAAATAGTACCGTTAACTTCCAATTAACTAGTTTTGACAACA...GTA', SingleLetterAlphabet()), id='gene60945::NC_012920.1:9990-10058(+)', name='gene60945::NC_012920.1:9990-10058(+)', description='gene60945::NC_012920.1:9990-10058(+)', dbxrefs=[]),\n",
       " 'id1959778::NC_012920.1:9990-10058(+)': SeqRecord(seq=Seq('ACTCTTTTAGTATAAATAGTACCGTTAACTTCCAATTAACTAGTTTTGACAACA...GTA', SingleLetterAlphabet()), id='id1959778::NC_012920.1:9990-10058(+)', name='id1959778::NC_012920.1:9990-10058(+)', description='id1959778::NC_012920.1:9990-10058(+)', dbxrefs=[]),\n",
       " 'rna171189::NC_012920.1:9990-10058(+)': SeqRecord(seq=Seq('ACTCTTTTAGTATAAATAGTACCGTTAACTTCCAATTAACTAGTTTTGACAACA...GTA', SingleLetterAlphabet()), id='rna171189::NC_012920.1:9990-10058(+)', name='rna171189::NC_012920.1:9990-10058(+)', description='rna171189::NC_012920.1:9990-10058(+)', dbxrefs=[]),\n",
       " 'cds120175::NC_012920.1:10058-10404(+)': SeqRecord(seq=Seq('ATAAACTTCGCCTTAATTTTAATAATCAACACCCTCCTAGCCTTACTACTAATA...AAT', SingleLetterAlphabet()), id='cds120175::NC_012920.1:10058-10404(+)', name='cds120175::NC_012920.1:10058-10404(+)', description='cds120175::NC_012920.1:10058-10404(+)', dbxrefs=[]),\n",
       " 'gene60946::NC_012920.1:10058-10404(+)': SeqRecord(seq=Seq('ATAAACTTCGCCTTAATTTTAATAATCAACACCCTCCTAGCCTTACTACTAATA...AAT', SingleLetterAlphabet()), id='gene60946::NC_012920.1:10058-10404(+)', name='gene60946::NC_012920.1:10058-10404(+)', description='gene60946::NC_012920.1:10058-10404(+)', dbxrefs=[]),\n",
       " 'gene60947::NC_012920.1:10404-10469(+)': SeqRecord(seq=Seq('TGGTATATAGTTTAAACAAAACGAATGATTTCGACTCATTAAATTATGATAATC...CAA', SingleLetterAlphabet()), id='gene60947::NC_012920.1:10404-10469(+)', name='gene60947::NC_012920.1:10404-10469(+)', description='gene60947::NC_012920.1:10404-10469(+)', dbxrefs=[]),\n",
       " 'id1959779::NC_012920.1:10404-10469(+)': SeqRecord(seq=Seq('TGGTATATAGTTTAAACAAAACGAATGATTTCGACTCATTAAATTATGATAATC...CAA', SingleLetterAlphabet()), id='id1959779::NC_012920.1:10404-10469(+)', name='id1959779::NC_012920.1:10404-10469(+)', description='id1959779::NC_012920.1:10404-10469(+)', dbxrefs=[]),\n",
       " 'rna171190::NC_012920.1:10404-10469(+)': SeqRecord(seq=Seq('TGGTATATAGTTTAAACAAAACGAATGATTTCGACTCATTAAATTATGATAATC...CAA', SingleLetterAlphabet()), id='rna171190::NC_012920.1:10404-10469(+)', name='rna171190::NC_012920.1:10404-10469(+)', description='rna171190::NC_012920.1:10404-10469(+)', dbxrefs=[]),\n",
       " 'cds120176::NC_012920.1:10469-10766(+)': SeqRecord(seq=Seq('ATGCCCCTCATTTACATAAATATTATACTAGCATTTACCATCTCACTTCTAGGA...TAA', SingleLetterAlphabet()), id='cds120176::NC_012920.1:10469-10766(+)', name='cds120176::NC_012920.1:10469-10766(+)', description='cds120176::NC_012920.1:10469-10766(+)', dbxrefs=[]),\n",
       " 'gene60948::NC_012920.1:10469-10766(+)': SeqRecord(seq=Seq('ATGCCCCTCATTTACATAAATATTATACTAGCATTTACCATCTCACTTCTAGGA...TAA', SingleLetterAlphabet()), id='gene60948::NC_012920.1:10469-10766(+)', name='gene60948::NC_012920.1:10469-10766(+)', description='gene60948::NC_012920.1:10469-10766(+)', dbxrefs=[]),\n",
       " 'cds120177::NC_012920.1:10759-12137(+)': SeqRecord(seq=Seq('ATGCTAAAACTAATCGTCCCAACAATTATATTACTACCACTGACATGACTTTCC...CTT', SingleLetterAlphabet()), id='cds120177::NC_012920.1:10759-12137(+)', name='cds120177::NC_012920.1:10759-12137(+)', description='cds120177::NC_012920.1:10759-12137(+)', dbxrefs=[]),\n",
       " 'gene60949::NC_012920.1:10759-12137(+)': SeqRecord(seq=Seq('ATGCTAAAACTAATCGTCCCAACAATTATATTACTACCACTGACATGACTTTCC...CTT', SingleLetterAlphabet()), id='gene60949::NC_012920.1:10759-12137(+)', name='gene60949::NC_012920.1:10759-12137(+)', description='gene60949::NC_012920.1:10759-12137(+)', dbxrefs=[]),\n",
       " 'gene60950::NC_012920.1:12137-12206(+)': SeqRecord(seq=Seq('GTAAATATAGTTTAACCAAAACATCAGATTGTGAATCTGACAACAGAGGCTTAC...ACC', SingleLetterAlphabet()), id='gene60950::NC_012920.1:12137-12206(+)', name='gene60950::NC_012920.1:12137-12206(+)', description='gene60950::NC_012920.1:12137-12206(+)', dbxrefs=[]),\n",
       " 'id1959780::NC_012920.1:12137-12206(+)': SeqRecord(seq=Seq('GTAAATATAGTTTAACCAAAACATCAGATTGTGAATCTGACAACAGAGGCTTAC...ACC', SingleLetterAlphabet()), id='id1959780::NC_012920.1:12137-12206(+)', name='id1959780::NC_012920.1:12137-12206(+)', description='id1959780::NC_012920.1:12137-12206(+)', dbxrefs=[]),\n",
       " 'rna171191::NC_012920.1:12137-12206(+)': SeqRecord(seq=Seq('GTAAATATAGTTTAACCAAAACATCAGATTGTGAATCTGACAACAGAGGCTTAC...ACC', SingleLetterAlphabet()), id='rna171191::NC_012920.1:12137-12206(+)', name='rna171191::NC_012920.1:12137-12206(+)', description='rna171191::NC_012920.1:12137-12206(+)', dbxrefs=[]),\n",
       " 'gene60951::NC_012920.1:12206-12265(+)': SeqRecord(seq=Seq('GAGAAAGCTCACAAGAACTGCTAACTCATGCCCCCATGTCTAACAACATGGCTTTCTCA', SingleLetterAlphabet()), id='gene60951::NC_012920.1:12206-12265(+)', name='gene60951::NC_012920.1:12206-12265(+)', description='gene60951::NC_012920.1:12206-12265(+)', dbxrefs=[]),\n",
       " 'id1959781::NC_012920.1:12206-12265(+)': SeqRecord(seq=Seq('GAGAAAGCTCACAAGAACTGCTAACTCATGCCCCCATGTCTAACAACATGGCTTTCTCA', SingleLetterAlphabet()), id='id1959781::NC_012920.1:12206-12265(+)', name='id1959781::NC_012920.1:12206-12265(+)', description='id1959781::NC_012920.1:12206-12265(+)', dbxrefs=[]),\n",
       " 'rna171192::NC_012920.1:12206-12265(+)': SeqRecord(seq=Seq('GAGAAAGCTCACAAGAACTGCTAACTCATGCCCCCATGTCTAACAACATGGCTTTCTCA', SingleLetterAlphabet()), id='rna171192::NC_012920.1:12206-12265(+)', name='rna171192::NC_012920.1:12206-12265(+)', description='rna171192::NC_012920.1:12206-12265(+)', dbxrefs=[]),\n",
       " 'gene60952::NC_012920.1:12265-12336(+)': SeqRecord(seq=Seq('ACTTTTAAAGGATAACAGCTATCCATTGGTCTTAGGCCCCAAAAATTTTGGTGC...GTA', SingleLetterAlphabet()), id='gene60952::NC_012920.1:12265-12336(+)', name='gene60952::NC_012920.1:12265-12336(+)', description='gene60952::NC_012920.1:12265-12336(+)', dbxrefs=[]),\n",
       " 'id1959782::NC_012920.1:12265-12336(+)': SeqRecord(seq=Seq('ACTTTTAAAGGATAACAGCTATCCATTGGTCTTAGGCCCCAAAAATTTTGGTGC...GTA', SingleLetterAlphabet()), id='id1959782::NC_012920.1:12265-12336(+)', name='id1959782::NC_012920.1:12265-12336(+)', description='id1959782::NC_012920.1:12265-12336(+)', dbxrefs=[]),\n",
       " 'rna171193::NC_012920.1:12265-12336(+)': SeqRecord(seq=Seq('ACTTTTAAAGGATAACAGCTATCCATTGGTCTTAGGCCCCAAAAATTTTGGTGC...GTA', SingleLetterAlphabet()), id='rna171193::NC_012920.1:12265-12336(+)', name='rna171193::NC_012920.1:12265-12336(+)', description='rna171193::NC_012920.1:12265-12336(+)', dbxrefs=[]),\n",
       " 'cds120178::NC_012920.1:12336-14148(+)': SeqRecord(seq=Seq('ATAACCATGCACACTACTATAACCACCCTAACCCTGACTTCCCTAATTCCCCCC...TAA', SingleLetterAlphabet()), id='cds120178::NC_012920.1:12336-14148(+)', name='cds120178::NC_012920.1:12336-14148(+)', description='cds120178::NC_012920.1:12336-14148(+)', dbxrefs=[]),\n",
       " 'gene60953::NC_012920.1:12336-14148(+)': SeqRecord(seq=Seq('ATAACCATGCACACTACTATAACCACCCTAACCCTGACTTCCCTAATTCCCCCC...TAA', SingleLetterAlphabet()), id='gene60953::NC_012920.1:12336-14148(+)', name='gene60953::NC_012920.1:12336-14148(+)', description='gene60953::NC_012920.1:12336-14148(+)', dbxrefs=[]),\n",
       " 'cds120179::NC_012920.1:14148-14673(-)': SeqRecord(seq=Seq('ATGATGTATGCTTTGTTTCTGTTGAGTGTGGGTTTAGTAATGGGGTTTGTGGGG...AGG', SingleLetterAlphabet()), id='cds120179::NC_012920.1:14148-14673(-)', name='cds120179::NC_012920.1:14148-14673(-)', description='cds120179::NC_012920.1:14148-14673(-)', dbxrefs=[]),\n",
       " 'gene60954::NC_012920.1:14148-14673(-)': SeqRecord(seq=Seq('ATGATGTATGCTTTGTTTCTGTTGAGTGTGGGTTTAGTAATGGGGTTTGTGGGG...AGG', SingleLetterAlphabet()), id='gene60954::NC_012920.1:14148-14673(-)', name='gene60954::NC_012920.1:14148-14673(-)', description='gene60954::NC_012920.1:14148-14673(-)', dbxrefs=[]),\n",
       " 'gene60955::NC_012920.1:14673-14742(-)': SeqRecord(seq=Seq('GTTCTTGTAGTTGAAATACAACGATGGTTTTTCATATCATTGGTCGTGGTTGTA...ATA', SingleLetterAlphabet()), id='gene60955::NC_012920.1:14673-14742(-)', name='gene60955::NC_012920.1:14673-14742(-)', description='gene60955::NC_012920.1:14673-14742(-)', dbxrefs=[]),\n",
       " 'id1959783::NC_012920.1:14673-14742(-)': SeqRecord(seq=Seq('GTTCTTGTAGTTGAAATACAACGATGGTTTTTCATATCATTGGTCGTGGTTGTA...ATA', SingleLetterAlphabet()), id='id1959783::NC_012920.1:14673-14742(-)', name='id1959783::NC_012920.1:14673-14742(-)', description='id1959783::NC_012920.1:14673-14742(-)', dbxrefs=[]),\n",
       " 'rna171194::NC_012920.1:14673-14742(-)': SeqRecord(seq=Seq('GTTCTTGTAGTTGAAATACAACGATGGTTTTTCATATCATTGGTCGTGGTTGTA...ATA', SingleLetterAlphabet()), id='rna171194::NC_012920.1:14673-14742(-)', name='rna171194::NC_012920.1:14673-14742(-)', description='rna171194::NC_012920.1:14673-14742(-)', dbxrefs=[]),\n",
       " 'cds120180::NC_012920.1:14746-15887(+)': SeqRecord(seq=Seq('ATGACCCCAATACGCAAAACTAACCCCCTAATAAAATTAATTAACCACTCATTC...CCT', SingleLetterAlphabet()), id='cds120180::NC_012920.1:14746-15887(+)', name='cds120180::NC_012920.1:14746-15887(+)', description='cds120180::NC_012920.1:14746-15887(+)', dbxrefs=[]),\n",
       " 'gene60956::NC_012920.1:14746-15887(+)': SeqRecord(seq=Seq('ATGACCCCAATACGCAAAACTAACCCCCTAATAAAATTAATTAACCACTCATTC...CCT', SingleLetterAlphabet()), id='gene60956::NC_012920.1:14746-15887(+)', name='gene60956::NC_012920.1:14746-15887(+)', description='gene60956::NC_012920.1:14746-15887(+)', dbxrefs=[]),\n",
       " 'gene60957::NC_012920.1:15887-15953(+)': SeqRecord(seq=Seq('GTCCTTGTAGTATAAACTAATACACCAGTCTTGTAAACCGGAGATGAAAACCTT...ACA', SingleLetterAlphabet()), id='gene60957::NC_012920.1:15887-15953(+)', name='gene60957::NC_012920.1:15887-15953(+)', description='gene60957::NC_012920.1:15887-15953(+)', dbxrefs=[]),\n",
       " 'id1959784::NC_012920.1:15887-15953(+)': SeqRecord(seq=Seq('GTCCTTGTAGTATAAACTAATACACCAGTCTTGTAAACCGGAGATGAAAACCTT...ACA', SingleLetterAlphabet()), id='id1959784::NC_012920.1:15887-15953(+)', name='id1959784::NC_012920.1:15887-15953(+)', description='id1959784::NC_012920.1:15887-15953(+)', dbxrefs=[]),\n",
       " 'rna171195::NC_012920.1:15887-15953(+)': SeqRecord(seq=Seq('GTCCTTGTAGTATAAACTAATACACCAGTCTTGTAAACCGGAGATGAAAACCTT...ACA', SingleLetterAlphabet()), id='rna171195::NC_012920.1:15887-15953(+)', name='rna171195::NC_012920.1:15887-15953(+)', description='rna171195::NC_012920.1:15887-15953(+)', dbxrefs=[]),\n",
       " 'gene60958::NC_012920.1:15955-16023(-)': SeqRecord(seq=Seq('CAGAGAATAGTTTAAATTAGAATCTTAGCTTTGGGTGCTAATGGTGGAGTTAAA...TGA', SingleLetterAlphabet()), id='gene60958::NC_012920.1:15955-16023(-)', name='gene60958::NC_012920.1:15955-16023(-)', description='gene60958::NC_012920.1:15955-16023(-)', dbxrefs=[]),\n",
       " 'id1959785::NC_012920.1:15955-16023(-)': SeqRecord(seq=Seq('CAGAGAATAGTTTAAATTAGAATCTTAGCTTTGGGTGCTAATGGTGGAGTTAAA...TGA', SingleLetterAlphabet()), id='id1959785::NC_012920.1:15955-16023(-)', name='id1959785::NC_012920.1:15955-16023(-)', description='id1959785::NC_012920.1:15955-16023(-)', dbxrefs=[]),\n",
       " 'rna171196::NC_012920.1:15955-16023(-)': SeqRecord(seq=Seq('CAGAGAATAGTTTAAATTAGAATCTTAGCTTTGGGTGCTAATGGTGGAGTTAAA...TGA', SingleLetterAlphabet()), id='rna171196::NC_012920.1:15955-16023(-)', name='rna171196::NC_012920.1:15955-16023(-)', description='rna171196::NC_012920.1:15955-16023(-)', dbxrefs=[])}"
      ]
     },
     "execution_count": 9,
     "metadata": {},
     "output_type": "execute_result"
    }
   ],
   "source": [
    "MT_genes = SeqIO.to_dict(SeqIO.parse(params['MT_genes_fasta'],format='fasta'))\n",
    "MT_genes\n"
   ]
  },
  {
   "cell_type": "code",
   "execution_count": null,
   "metadata": {
    "ExecuteTime": {
     "end_time": "2020-04-27T01:39:28.273895Z",
     "start_time": "2020-04-27T01:39:27.669Z"
    }
   },
   "outputs": [],
   "source": [
    "cmd = \"cellranger mkref\""
   ]
  }
 ],
 "metadata": {
  "kernelspec": {
   "display_name": "Python 3",
   "language": "python",
   "name": "python3"
  },
  "language_info": {
   "codemirror_mode": {
    "name": "ipython",
    "version": 3
   },
   "file_extension": ".py",
   "mimetype": "text/x-python",
   "name": "python",
   "nbconvert_exporter": "python",
   "pygments_lexer": "ipython3",
   "version": "3.7.3"
  }
 },
 "nbformat": 4,
 "nbformat_minor": 2
}
