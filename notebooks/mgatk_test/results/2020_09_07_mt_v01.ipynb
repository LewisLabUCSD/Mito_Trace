{
 "cells": [
  {
   "cell_type": "code",
   "execution_count": 1,
   "metadata": {
    "ExecuteTime": {
     "end_time": "2020-10-26T21:31:18.198984Z",
     "start_time": "2020-10-26T21:31:18.156958Z"
    },
    "execution": {
     "iopub.execute_input": "2020-10-27T22:55:30.794401Z",
     "iopub.status.busy": "2020-10-27T22:55:30.793734Z",
     "iopub.status.idle": "2020-10-27T22:55:30.826125Z",
     "shell.execute_reply": "2020-10-27T22:55:30.825468Z"
    },
    "papermill": {
     "duration": 0.047506,
     "end_time": "2020-10-27T22:55:30.826319",
     "exception": false,
     "start_time": "2020-10-27T22:55:30.778813",
     "status": "completed"
    },
    "tags": []
   },
   "outputs": [],
   "source": [
    "from src.utils.config import read_config_file"
   ]
  },
  {
   "cell_type": "code",
   "execution_count": 2,
   "metadata": {
    "ExecuteTime": {
     "end_time": "2020-10-26T21:31:18.204307Z",
     "start_time": "2020-10-26T21:31:18.201344Z"
    },
    "execution": {
     "iopub.execute_input": "2020-10-27T22:55:30.854443Z",
     "iopub.status.busy": "2020-10-27T22:55:30.853727Z",
     "iopub.status.idle": "2020-10-27T22:55:30.858562Z",
     "shell.execute_reply": "2020-10-27T22:55:30.857559Z"
    },
    "papermill": {
     "duration": 0.021362,
     "end_time": "2020-10-27T22:55:30.858831",
     "exception": false,
     "start_time": "2020-10-27T22:55:30.837469",
     "status": "completed"
    },
    "tags": [
     "parameters"
    ]
   },
   "outputs": [],
   "source": [
    "params_f = 'parameters/2020_09_07_v01.yaml'"
   ]
  },
  {
   "cell_type": "code",
   "execution_count": 3,
   "metadata": {
    "execution": {
     "iopub.execute_input": "2020-10-27T22:55:30.884352Z",
     "iopub.status.busy": "2020-10-27T22:55:30.883556Z",
     "iopub.status.idle": "2020-10-27T22:55:30.888221Z",
     "shell.execute_reply": "2020-10-27T22:55:30.887576Z"
    },
    "papermill": {
     "duration": 0.018082,
     "end_time": "2020-10-27T22:55:30.888387",
     "exception": false,
     "start_time": "2020-10-27T22:55:30.870305",
     "status": "completed"
    },
    "tags": [
     "injected-parameters"
    ]
   },
   "outputs": [],
   "source": [
    "# Parameters\n",
    "params_f = \"parameters/2020_09_07_mt_v01.yaml\"\n"
   ]
  },
  {
   "cell_type": "code",
   "execution_count": 4,
   "metadata": {
    "ExecuteTime": {
     "end_time": "2020-10-26T21:31:18.216896Z",
     "start_time": "2020-10-26T21:31:18.207684Z"
    },
    "execution": {
     "iopub.execute_input": "2020-10-27T22:55:30.934102Z",
     "iopub.status.busy": "2020-10-27T22:55:30.933548Z",
     "iopub.status.idle": "2020-10-27T22:55:30.942071Z",
     "shell.execute_reply": "2020-10-27T22:55:30.941439Z"
    },
    "papermill": {
     "duration": 0.025677,
     "end_time": "2020-10-27T22:55:30.942201",
     "exception": false,
     "start_time": "2020-10-27T22:55:30.916524",
     "status": "completed"
    },
    "tags": []
   },
   "outputs": [],
   "source": [
    "p = read_config_file(params_f)"
   ]
  },
  {
   "cell_type": "code",
   "execution_count": 5,
   "metadata": {
    "ExecuteTime": {
     "end_time": "2020-10-26T21:31:18.912455Z",
     "start_time": "2020-10-26T21:31:18.219123Z"
    },
    "execution": {
     "iopub.execute_input": "2020-10-27T22:55:30.968364Z",
     "iopub.status.busy": "2020-10-27T22:55:30.967541Z",
     "iopub.status.idle": "2020-10-27T22:55:31.878999Z",
     "shell.execute_reply": "2020-10-27T22:55:31.877570Z"
    },
    "papermill": {
     "duration": 0.927864,
     "end_time": "2020-10-27T22:55:31.879368",
     "exception": false,
     "start_time": "2020-10-27T22:55:30.951504",
     "status": "completed"
    },
    "slideshow": {
     "slide_type": "-"
    },
    "tags": []
   },
   "outputs": [
    {
     "name": "stdout",
     "output_type": "stream",
     "text": [
      "mgatk check -i /data2/isshamie/mito_lineage/data/processed/2020_09_07_Croker_mito/CD34_mt_fiveprime/outs/ -b /data2/isshamie/mito_lineage/data/processed/2020_09_07_Croker_mito/CD34_mt_fiveprime/outs/filtered_feature_bc_matrix/barcodes.tsv -o results//mgatk_out -g GRCh38\n"
     ]
    },
    {
     "name": "stdout",
     "output_type": "stream",
     "text": [
      "Tue Oct 27 22:55:31 UTC 2020: mgatk v0.5.9\r\n",
      "Tue Oct 27 22:55:31 UTC 2020: checking dependencies...\r\n"
     ]
    },
    {
     "name": "stdout",
     "output_type": "stream",
     "text": [
      "Tue Oct 27 22:55:31 UTC 2020: mgatk check passed! mgatk will process 1 samples if same parameters are run in `call` mode\r\n"
     ]
    }
   ],
   "source": [
    "cmd = f\"mgatk check -i {p['bam_dir']} -b {p['feature_barcodes']} -o {p['outdir']}/mgatk_out -g GRCh38\"\n",
    "print(cmd)\n",
    "!{cmd}"
   ]
  }
 ],
 "metadata": {
  "celltoolbar": "Tags",
  "kernelspec": {
   "display_name": "Python 3",
   "language": "python",
   "name": "python3"
  },
  "language_info": {
   "codemirror_mode": {
    "name": "ipython",
    "version": 3
   },
   "file_extension": ".py",
   "mimetype": "text/x-python",
   "name": "python",
   "nbconvert_exporter": "python",
   "pygments_lexer": "ipython3",
   "version": "3.7.3"
  },
  "papermill": {
   "default_parameters": {},
   "duration": 2.028177,
   "end_time": "2020-10-27T22:55:32.107239",
   "environment_variables": {},
   "exception": null,
   "input_path": "run_mgatk_check.ipynb",
   "output_path": "results/2020_09_07_mt_v01.ipynb",
   "parameters": {
    "params_f": "parameters/2020_09_07_mt_v01.yaml"
   },
   "start_time": "2020-10-27T22:55:30.079062",
   "version": "2.2.0"
  }
 },
 "nbformat": 4,
 "nbformat_minor": 2
}