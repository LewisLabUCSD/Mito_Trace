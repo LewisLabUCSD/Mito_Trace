{
 "cells": [
  {
   "cell_type": "code",
   "execution_count": 1,
   "metadata": {
    "ExecuteTime": {
     "end_time": "2020-10-26T23:24:41.847757Z",
     "start_time": "2020-10-26T23:24:41.697861Z"
    }
   },
   "outputs": [],
   "source": [
    "from src.utils.config import read_config_file"
   ]
  },
  {
   "cell_type": "code",
   "execution_count": 2,
   "metadata": {
    "ExecuteTime": {
     "end_time": "2020-10-26T23:24:41.852419Z",
     "start_time": "2020-10-26T23:24:41.849877Z"
    }
   },
   "outputs": [],
   "source": [
    "params_f = 'parameters/2020_09_07_v01.yaml'"
   ]
  },
  {
   "cell_type": "code",
   "execution_count": 3,
   "metadata": {
    "ExecuteTime": {
     "end_time": "2020-10-26T23:24:41.903945Z",
     "start_time": "2020-10-26T23:24:41.854630Z"
    }
   },
   "outputs": [],
   "source": [
    "p = read_config_file(params_f)"
   ]
  },
  {
   "cell_type": "code",
   "execution_count": 4,
   "metadata": {
    "ExecuteTime": {
     "end_time": "2020-10-26T23:24:42.624784Z",
     "start_time": "2020-10-26T23:24:41.907005Z"
    },
    "scrolled": false
   },
   "outputs": [
    {
     "name": "stdout",
     "output_type": "stream",
     "text": [
      "mgatk tenx -i /data2/isshamie/mito_lineage/data/processed/2020_09_07_Croker_mito/CD34_PolydT_fiveprime/outs/possorted_genome_bam.bam -o results//mgatk_out -g GRCh38 -b /data2/isshamie/mito_lineage/data/processed/2020_09_07_Croker_mito/CD34_PolydT_fiveprime/outs/filtered_feature_bc_matrix/barcodes.tsv \n",
      "Mon Oct 26 23:24:42 UTC 2020: mgatk v0.5.9\n",
      "ERROR: in `tenx` mode, must specify a valid read tag ID (generally two letters).\n"
     ]
    }
   ],
   "source": [
    "cmd = f\"mgatk tenx -i {p['bam_f']} -o {p['outdir']}/mgatk_out -g GRCh38 -b {p['feature_barcodes']} \"\n",
    "print(cmd)\n",
    "!{cmd}"
   ]
  },
  {
   "cell_type": "code",
   "execution_count": 5,
   "metadata": {
    "ExecuteTime": {
     "end_time": "2020-10-26T23:25:24.916668Z",
     "start_time": "2020-10-26T23:24:42.627010Z"
    },
    "scrolled": true
   },
   "outputs": [
    {
     "name": "stdout",
     "output_type": "stream",
     "text": [
      "mgatk tenx -i /data2/isshamie/mito_lineage/data/processed/2020_09_07_Croker_mito/CD34_PolydT_fiveprime/outs/possorted_genome_bam.bam -o results/mgatk_out -g GRCh38 -b /data2/isshamie/mito_lineage/data/processed/2020_09_07_Croker_mito/CD34_PolydT_fiveprime/outs/filtered_feature_bc_matrix/barcodes.tsv -bt CB\n",
      "Mon Oct 26 23:24:42 UTC 2020: mgatk v0.5.9\n",
      "Mon Oct 26 23:24:43 UTC 2020: Found bam file: /data2/isshamie/mito_lineage/data/processed/2020_09_07_Croker_mito/CD34_PolydT_fiveprime/outs/possorted_genome_bam.bam for genotyping.\n",
      "Mon Oct 26 23:24:43 UTC 2020: Found file of barcodes to be parsed: /data2/isshamie/mito_lineage/data/processed/2020_09_07_Croker_mito/CD34_PolydT_fiveprime/outs/filtered_feature_bc_matrix/barcodes.tsv\n",
      "Mon Oct 26 23:24:43 UTC 2020: User specified mitochondrial genome matches .bam file\n",
      "Mon Oct 26 23:25:13 UTC 2020: Finished determining/splitting barcodes for genotyping.\n",
      "Mon Oct 26 23:25:14 UTC 2020: Genotyping samples with 64 threads\n",
      "\u001b[33mBuilding DAG of jobs...\u001b[0m\n",
      "\u001b[33mUsing shell: /bin/bash\u001b[0m\n",
      "\u001b[33mProvided cores: 64\u001b[0m\n",
      "\u001b[33mRules claiming more threads will be scaled down.\u001b[0m\n",
      "\u001b[33mJob counts:\n",
      "\tcount\tjobs\n",
      "\t1\tall\n",
      "\t1\tmake_depth_table\n",
      "\t1\tmake_final_sparse_matrices\n",
      "\t64\tprocess_one_slice\n",
      "\t67\u001b[0m\n",
      "\u001b[32m\u001b[0m\n",
      "\u001b[32m[Mon Oct 26 23:25:19 2020]\u001b[0m\n",
      "\u001b[32mrule process_one_slice:\n",
      "    input: results/mgatk_out/.internal/samples/barcodes.62.bam.txt\n",
      "    output: results/mgatk_out/qc/depth/barcodes.62.depth.txt, results/mgatk_out/temp/sparse_matrices/barcodes.62.A.txt, results/mgatk_out/temp/sparse_matrices/barcodes.62.C.txt, results/mgatk_out/temp/sparse_matrices/barcodes.62.G.txt, results/mgatk_out/temp/sparse_matrices/barcodes.62.T.txt, results/mgatk_out/temp/sparse_matrices/barcodes.62.coverage.txt\n",
      "    jobid: 8\n",
      "    wildcards: sample=barcodes.62\u001b[0m\n",
      "\u001b[32m\u001b[0m\n",
      "\u001b[32m[Mon Oct 26 23:25:19 2020]\u001b[0m\n",
      "\u001b[32mrule process_one_slice:\n",
      "    input: results/mgatk_out/.internal/samples/barcodes.55.bam.txt\n",
      "    output: results/mgatk_out/qc/depth/barcodes.55.depth.txt, results/mgatk_out/temp/sparse_matrices/barcodes.55.A.txt, results/mgatk_out/temp/sparse_matrices/barcodes.55.C.txt, results/mgatk_out/temp/sparse_matrices/barcodes.55.G.txt, results/mgatk_out/temp/sparse_matrices/barcodes.55.T.txt, results/mgatk_out/temp/sparse_matrices/barcodes.55.coverage.txt\n",
      "    jobid: 16\n",
      "    wildcards: sample=barcodes.55\u001b[0m\n",
      "\u001b[32m\u001b[0m\n",
      "\u001b[32m[Mon Oct 26 23:25:19 2020]\u001b[0m\n",
      "\u001b[32mrule process_one_slice:\n",
      "    input: results/mgatk_out/.internal/samples/barcodes.11.bam.txt\n",
      "    output: results/mgatk_out/qc/depth/barcodes.11.depth.txt, results/mgatk_out/temp/sparse_matrices/barcodes.11.A.txt, results/mgatk_out/temp/sparse_matrices/barcodes.11.C.txt, results/mgatk_out/temp/sparse_matrices/barcodes.11.G.txt, results/mgatk_out/temp/sparse_matrices/barcodes.11.T.txt, results/mgatk_out/temp/sparse_matrices/barcodes.11.coverage.txt\n",
      "    jobid: 4\n",
      "    wildcards: sample=barcodes.11\u001b[0m\n",
      "\u001b[32m\u001b[0m\n",
      "\u001b[32m[Mon Oct 26 23:25:19 2020]\u001b[0m\n",
      "\u001b[32mrule process_one_slice:\n",
      "    input: results/mgatk_out/.internal/samples/barcodes.21.bam.txt\n",
      "    output: results/mgatk_out/qc/depth/barcodes.21.depth.txt, results/mgatk_out/temp/sparse_matrices/barcodes.21.A.txt, results/mgatk_out/temp/sparse_matrices/barcodes.21.C.txt, results/mgatk_out/temp/sparse_matrices/barcodes.21.G.txt, results/mgatk_out/temp/sparse_matrices/barcodes.21.T.txt, results/mgatk_out/temp/sparse_matrices/barcodes.21.coverage.txt\n",
      "    jobid: 44\n",
      "    wildcards: sample=barcodes.21\u001b[0m\n",
      "\u001b[32m\u001b[0m\n",
      "\u001b[33mJob counts:\n",
      "\tcount\tjobs\n",
      "\t1\tprocess_one_slice\n",
      "\t1\u001b[0m\n",
      "\u001b[32m[Mon Oct 26 23:25:19 2020]\u001b[0m\n",
      "\u001b[32mrule process_one_slice:\n",
      "    input: results/mgatk_out/.internal/samples/barcodes.23.bam.txt\n",
      "    output: results/mgatk_out/qc/depth/barcodes.23.depth.txt, results/mgatk_out/temp/sparse_matrices/barcodes.23.A.txt, results/mgatk_out/temp/sparse_matrices/barcodes.23.C.txt, results/mgatk_out/temp/sparse_matrices/barcodes.23.G.txt, results/mgatk_out/temp/sparse_matrices/barcodes.23.T.txt, results/mgatk_out/temp/sparse_matrices/barcodes.23.coverage.txt\n",
      "    jobid: 49\n",
      "    wildcards: sample=barcodes.23\u001b[0m\n",
      "\u001b[32m\u001b[0m\n",
      "\u001b[33mJob counts:\n",
      "\tcount\tjobs\n",
      "\t1\tprocess_one_slice\n",
      "\t1\u001b[0m\n",
      "\u001b[32m[Mon Oct 26 23:25:19 2020]\u001b[0m\n",
      "\u001b[32mrule process_one_slice:\n",
      "    input: results/mgatk_out/.internal/samples/barcodes.29.bam.txt\n",
      "    output: results/mgatk_out/qc/depth/barcodes.29.depth.txt, results/mgatk_out/temp/sparse_matrices/barcodes.29.A.txt, results/mgatk_out/temp/sparse_matrices/barcodes.29.C.txt, results/mgatk_out/temp/sparse_matrices/barcodes.29.G.txt, results/mgatk_out/temp/sparse_matrices/barcodes.29.T.txt, results/mgatk_out/temp/sparse_matrices/barcodes.29.coverage.txt\n",
      "    jobid: 51\n",
      "    wildcards: sample=barcodes.29\u001b[0m\n",
      "\u001b[32m\u001b[0m\n",
      "\u001b[33mJob counts:\n",
      "\tcount\tjobs\n",
      "\t1\tprocess_one_slice\n",
      "\t1\u001b[0m\n",
      "\u001b[32m[Mon Oct 26 23:25:20 2020]\u001b[0m\n",
      "\u001b[32mrule process_one_slice:\n",
      "    input: results/mgatk_out/.internal/samples/barcodes.61.bam.txt\n",
      "    output: results/mgatk_out/qc/depth/barcodes.61.depth.txt, results/mgatk_out/temp/sparse_matrices/barcodes.61.A.txt, results/mgatk_out/temp/sparse_matrices/barcodes.61.C.txt, results/mgatk_out/temp/sparse_matrices/barcodes.61.G.txt, results/mgatk_out/temp/sparse_matrices/barcodes.61.T.txt, results/mgatk_out/temp/sparse_matrices/barcodes.61.coverage.txt\n",
      "    jobid: 42\n",
      "    wildcards: sample=barcodes.61\u001b[0m\n",
      "\u001b[32m\u001b[0m\n",
      "\u001b[33mJob counts:\n",
      "\tcount\tjobs\n",
      "\t1\tprocess_one_slice\n",
      "\t1\u001b[0m\n",
      "\u001b[33mJob counts:\n",
      "\tcount\tjobs\n",
      "\t1\tprocess_one_slice\n",
      "\t1\u001b[0m\n",
      "\u001b[32m[Mon Oct 26 23:25:20 2020]\u001b[0m\n",
      "\u001b[32mrule process_one_slice:\n",
      "    input: results/mgatk_out/.internal/samples/barcodes.26.bam.txt\n",
      "    output: results/mgatk_out/qc/depth/barcodes.26.depth.txt, results/mgatk_out/temp/sparse_matrices/barcodes.26.A.txt, results/mgatk_out/temp/sparse_matrices/barcodes.26.C.txt, results/mgatk_out/temp/sparse_matrices/barcodes.26.G.txt, results/mgatk_out/temp/sparse_matrices/barcodes.26.T.txt, results/mgatk_out/temp/sparse_matrices/barcodes.26.coverage.txt\n",
      "    jobid: 50\n",
      "    wildcards: sample=barcodes.26\u001b[0m\n",
      "\u001b[32m\u001b[0m\n",
      "\u001b[33mJob counts:\n",
      "\tcount\tjobs\n",
      "\t1\tprocess_one_slice\n",
      "\t1\u001b[0m\n",
      "Error in checkGrep(grep(\".A.txt\", files)) : \n",
      "  Improper folder specification; file missing / extra file present. See documentation\n",
      "Calls: importMito -> checkGrep\n",
      "Execution halted\n",
      "\u001b[31mWorkflowError in line 8 of /home/isshamie/software/anaconda2/envs/mito_trace/lib/python3.7/site-packages/mgatk/bin/snake/Snakefile.tenx:\n",
      "Config file results/mgatk_out/.internal/parseltongue/snake.scatter.yaml not found.\n",
      "  File \"/home/isshamie/software/anaconda2/envs/mito_trace/lib/python3.7/site-packages/mgatk/bin/snake/Snakefile.tenx\", line 8, in <module>\u001b[0m\n",
      "\u001b[32m[Mon Oct 26 23:25:21 2020]\u001b[0m\n",
      "\u001b[31mError in rule process_one_slice:\u001b[0m\n",
      "\u001b[31m    jobid: 0\u001b[0m\n",
      "\u001b[31m    output: results/mgatk_out/qc/depth/barcodes.11.depth.txt, results/mgatk_out/temp/sparse_matrices/barcodes.11.A.txt, results/mgatk_out/temp/sparse_matrices/barcodes.11.C.txt, results/mgatk_out/temp/sparse_matrices/barcodes.11.G.txt, results/mgatk_out/temp/sparse_matrices/barcodes.11.T.txt, results/mgatk_out/temp/sparse_matrices/barcodes.11.coverage.txt\u001b[0m\n",
      "\u001b[31m\u001b[0m\n",
      "\u001b[31mRuleException:\n",
      "FileNotFoundError in line 73 of /home/isshamie/software/anaconda2/envs/mito_trace/lib/python3.7/site-packages/mgatk/bin/snake/Snakefile.tenx:\n",
      "[Errno 2] No such file or directory: 'results/mgatk_out/.internal/samples/barcodes.11.bam.txt'\n",
      "  File \"/home/isshamie/software/anaconda2/envs/mito_trace/lib/python3.7/site-packages/mgatk/bin/snake/Snakefile.tenx\", line 73, in __rule_process_one_slice\n",
      "  File \"/home/isshamie/software/anaconda2/envs/mito_trace/lib/python3.7/concurrent/futures/thread.py\", line 57, in run\u001b[0m\n",
      "\u001b[32m[Mon Oct 26 23:25:22 2020]\u001b[0m\n",
      "\u001b[32mrule process_one_slice:\n",
      "    input: results/mgatk_out/.internal/samples/barcodes.50.bam.txt\n",
      "    output: results/mgatk_out/qc/depth/barcodes.50.depth.txt, results/mgatk_out/temp/sparse_matrices/barcodes.50.A.txt, results/mgatk_out/temp/sparse_matrices/barcodes.50.C.txt, results/mgatk_out/temp/sparse_matrices/barcodes.50.G.txt, results/mgatk_out/temp/sparse_matrices/barcodes.50.T.txt, results/mgatk_out/temp/sparse_matrices/barcodes.50.coverage.txt\n",
      "    jobid: 30\n",
      "    wildcards: sample=barcodes.50\u001b[0m\n",
      "\u001b[32m\u001b[0m\n",
      "\u001b[33mJob counts:\n",
      "\tcount\tjobs\n",
      "\t1\tprocess_one_slice\n",
      "\t1\u001b[0m\n",
      "\u001b[32m[Mon Oct 26 23:25:22 2020]\u001b[0m\n",
      "\u001b[32mrule process_one_slice:\n",
      "    input: results/mgatk_out/.internal/samples/barcodes.32.bam.txt\n",
      "    output: results/mgatk_out/qc/depth/barcodes.32.depth.txt, results/mgatk_out/temp/sparse_matrices/barcodes.32.A.txt, results/mgatk_out/temp/sparse_matrices/barcodes.32.C.txt, results/mgatk_out/temp/sparse_matrices/barcodes.32.G.txt, results/mgatk_out/temp/sparse_matrices/barcodes.32.T.txt, results/mgatk_out/temp/sparse_matrices/barcodes.32.coverage.txt\n",
      "    jobid: 25\n",
      "    wildcards: sample=barcodes.32\u001b[0m\n",
      "\u001b[32m\u001b[0m\n"
     ]
    },
    {
     "name": "stdout",
     "output_type": "stream",
     "text": [
      "\u001b[31mExiting because a job execution failed. Look above for error message\u001b[0m\n",
      "\u001b[31mWorkflowError in line 8 of /home/isshamie/software/anaconda2/envs/mito_trace/lib/python3.7/site-packages/mgatk/bin/snake/Snakefile.tenx:\n",
      "Config file results/mgatk_out/.internal/parseltongue/snake.scatter.yaml not found.\n",
      "  File \"/home/isshamie/software/anaconda2/envs/mito_trace/lib/python3.7/site-packages/mgatk/bin/snake/Snakefile.tenx\", line 8, in <module>\u001b[0m\n",
      "\u001b[32m[Mon Oct 26 23:25:23 2020]\u001b[0m\n",
      "\u001b[32mrule process_one_slice:\n",
      "    input: results/mgatk_out/.internal/samples/barcodes.19.bam.txt\n",
      "    output: results/mgatk_out/qc/depth/barcodes.19.depth.txt, results/mgatk_out/temp/sparse_matrices/barcodes.19.A.txt, results/mgatk_out/temp/sparse_matrices/barcodes.19.C.txt, results/mgatk_out/temp/sparse_matrices/barcodes.19.G.txt, results/mgatk_out/temp/sparse_matrices/barcodes.19.T.txt, results/mgatk_out/temp/sparse_matrices/barcodes.19.coverage.txt\n",
      "    jobid: 10\n",
      "    wildcards: sample=barcodes.19\u001b[0m\n",
      "\u001b[32m\u001b[0m\n",
      "\u001b[31mWorkflowError in line 8 of /home/isshamie/software/anaconda2/envs/mito_trace/lib/python3.7/site-packages/mgatk/bin/snake/Snakefile.tenx:\n",
      "Config file results/mgatk_out/.internal/parseltongue/snake.scatter.yaml not found.\n",
      "  File \"/home/isshamie/software/anaconda2/envs/mito_trace/lib/python3.7/site-packages/mgatk/bin/snake/Snakefile.tenx\", line 8, in <module>\u001b[0m\n",
      "\u001b[32m[Mon Oct 26 23:25:24 2020]\u001b[0m\n",
      "\u001b[31mError in rule process_one_slice:\u001b[0m\n",
      "\u001b[31m    jobid: 0\u001b[0m\n",
      "\u001b[31m    output: results/mgatk_out/qc/depth/barcodes.61.depth.txt, results/mgatk_out/temp/sparse_matrices/barcodes.61.A.txt, results/mgatk_out/temp/sparse_matrices/barcodes.61.C.txt, results/mgatk_out/temp/sparse_matrices/barcodes.61.G.txt, results/mgatk_out/temp/sparse_matrices/barcodes.61.T.txt, results/mgatk_out/temp/sparse_matrices/barcodes.61.coverage.txt\u001b[0m\n",
      "\u001b[31m\u001b[0m\n",
      "\u001b[31mRuleException:\n",
      "FileNotFoundError in line 73 of /home/isshamie/software/anaconda2/envs/mito_trace/lib/python3.7/site-packages/mgatk/bin/snake/Snakefile.tenx:\n",
      "[Errno 2] No such file or directory: 'results/mgatk_out/.internal/samples/barcodes.61.bam.txt'\n",
      "  File \"/home/isshamie/software/anaconda2/envs/mito_trace/lib/python3.7/site-packages/mgatk/bin/snake/Snakefile.tenx\", line 73, in __rule_process_one_slice\n",
      "  File \"/home/isshamie/software/anaconda2/envs/mito_trace/lib/python3.7/concurrent/futures/thread.py\", line 57, in run\u001b[0m\n",
      "\u001b[31mWorkflowError in line 8 of /home/isshamie/software/anaconda2/envs/mito_trace/lib/python3.7/site-packages/mgatk/bin/snake/Snakefile.tenx:\n",
      "Config file results/mgatk_out/.internal/parseltongue/snake.scatter.yaml not found.\n",
      "  File \"/home/isshamie/software/anaconda2/envs/mito_trace/lib/python3.7/site-packages/mgatk/bin/snake/Snakefile.tenx\", line 8, in <module>\u001b[0m\n",
      "\u001b[32m[Mon Oct 26 23:25:24 2020]\u001b[0m\n",
      "\u001b[32mrule process_one_slice:\n",
      "    input: results/mgatk_out/.internal/samples/barcodes.7.bam.txt\n",
      "    output: results/mgatk_out/qc/depth/barcodes.7.depth.txt, results/mgatk_out/temp/sparse_matrices/barcodes.7.A.txt, results/mgatk_out/temp/sparse_matrices/barcodes.7.C.txt, results/mgatk_out/temp/sparse_matrices/barcodes.7.G.txt, results/mgatk_out/temp/sparse_matrices/barcodes.7.T.txt, results/mgatk_out/temp/sparse_matrices/barcodes.7.coverage.txt\n",
      "    jobid: 36\n",
      "    wildcards: sample=barcodes.7\u001b[0m\n",
      "\u001b[32m\u001b[0m\n",
      "\u001b[31mExiting because a job execution failed. Look above for error message\u001b[0m\n",
      "\u001b[32m[Mon Oct 26 23:25:24 2020]\u001b[0m\n",
      "\u001b[32mrule process_one_slice:\n",
      "    input: results/mgatk_out/.internal/samples/barcodes.30.bam.txt\n",
      "    output: results/mgatk_out/qc/depth/barcodes.30.depth.txt, results/mgatk_out/temp/sparse_matrices/barcodes.30.A.txt, results/mgatk_out/temp/sparse_matrices/barcodes.30.C.txt, results/mgatk_out/temp/sparse_matrices/barcodes.30.G.txt, results/mgatk_out/temp/sparse_matrices/barcodes.30.T.txt, results/mgatk_out/temp/sparse_matrices/barcodes.30.coverage.txt\n",
      "    jobid: 47\n",
      "    wildcards: sample=barcodes.30\u001b[0m\n",
      "\u001b[32m\u001b[0m\n",
      "\u001b[32m[Mon Oct 26 23:25:24 2020]\u001b[0m\n",
      "\u001b[32mrule process_one_slice:\n",
      "    input: results/mgatk_out/.internal/samples/barcodes.34.bam.txt\n",
      "    output: results/mgatk_out/qc/depth/barcodes.34.depth.txt, results/mgatk_out/temp/sparse_matrices/barcodes.34.A.txt, results/mgatk_out/temp/sparse_matrices/barcodes.34.C.txt, results/mgatk_out/temp/sparse_matrices/barcodes.34.G.txt, results/mgatk_out/temp/sparse_matrices/barcodes.34.T.txt, results/mgatk_out/temp/sparse_matrices/barcodes.34.coverage.txt\n",
      "    jobid: 45\n",
      "    wildcards: sample=barcodes.34\u001b[0m\n",
      "\u001b[32m\u001b[0m\n",
      "\u001b[32m[Mon Oct 26 23:25:24 2020]\u001b[0m\n",
      "\u001b[32mrule process_one_slice:\n",
      "    input: results/mgatk_out/.internal/samples/barcodes.57.bam.txt\n",
      "    output: results/mgatk_out/qc/depth/barcodes.57.depth.txt, results/mgatk_out/temp/sparse_matrices/barcodes.57.A.txt, results/mgatk_out/temp/sparse_matrices/barcodes.57.C.txt, results/mgatk_out/temp/sparse_matrices/barcodes.57.G.txt, results/mgatk_out/temp/sparse_matrices/barcodes.57.T.txt, results/mgatk_out/temp/sparse_matrices/barcodes.57.coverage.txt\n",
      "    jobid: 34\n",
      "    wildcards: sample=barcodes.57\u001b[0m\n",
      "\u001b[32m\u001b[0m\n",
      "\u001b[31mWorkflowError in line 8 of /home/isshamie/software/anaconda2/envs/mito_trace/lib/python3.7/site-packages/mgatk/bin/snake/Snakefile.tenx:\n",
      "Config file results/mgatk_out/.internal/parseltongue/snake.scatter.yaml not found.\n",
      "  File \"/home/isshamie/software/anaconda2/envs/mito_trace/lib/python3.7/site-packages/mgatk/bin/snake/Snakefile.tenx\", line 8, in <module>\u001b[0m\n",
      "Traceback (most recent call last):\n",
      "  File \"/home/isshamie/software/anaconda2/envs/mito_trace/bin/mgatk\", line 8, in <module>\n",
      "    sys.exit(main())\n",
      "  File \"/home/isshamie/software/anaconda2/envs/mito_trace/lib/python3.7/site-packages/click/core.py\", line 829, in __call__\n",
      "    return self.main(*args, **kwargs)\n",
      "  File \"/home/isshamie/software/anaconda2/envs/mito_trace/lib/python3.7/site-packages/click/core.py\", line 782, in main\n",
      "    rv = self.invoke(ctx)\n",
      "  File \"/home/isshamie/software/anaconda2/envs/mito_trace/lib/python3.7/site-packages/click/core.py\", line 1066, in invoke\n",
      "    return ctx.invoke(self.callback, **ctx.params)\n",
      "  File \"/home/isshamie/software/anaconda2/envs/mito_trace/lib/python3.7/site-packages/click/core.py\", line 610, in invoke\n",
      "    return callback(*args, **kwargs)\n",
      "  File \"/home/isshamie/software/anaconda2/envs/mito_trace/lib/python3.7/site-packages/mgatk/cli.py\", line 430, in main\n",
      "    shutil.rmtree(of + \"/temp\")\n",
      "  File \"/home/isshamie/software/anaconda2/envs/mito_trace/lib/python3.7/shutil.py\", line 491, in rmtree\n",
      "    _rmtree_safe_fd(fd, path, onerror)\n",
      "  File \"/home/isshamie/software/anaconda2/envs/mito_trace/lib/python3.7/shutil.py\", line 433, in _rmtree_safe_fd\n",
      "    onerror(os.rmdir, fullname, sys.exc_info())\n",
      "  File \"/home/isshamie/software/anaconda2/envs/mito_trace/lib/python3.7/shutil.py\", line 431, in _rmtree_safe_fd\n",
      "    os.rmdir(entry.name, dir_fd=topfd)\n",
      "OSError: [Errno 39] Directory not empty: 'temp_bam'\n"
     ]
    }
   ],
   "source": [
    "cmd = f\"mgatk tenx -i {p['bam_f']} -o {p['outdir']}mgatk_out -g GRCh38 -b {p['feature_barcodes']} -bt CB\"\n",
    "print(cmd)\n",
    "!{cmd}"
   ]
  },
  {
   "cell_type": "code",
   "execution_count": 6,
   "metadata": {
    "ExecuteTime": {
     "end_time": "2020-10-26T23:25:24.925009Z",
     "start_time": "2020-10-26T23:25:24.921218Z"
    },
    "scrolled": true
   },
   "outputs": [],
   "source": [
    "# cmd = f\"mgatk tenx -i {p['bam_f']} -o {p['outdir']}mgatk_out -g GRCh38 -b {p['feature_barcodes']} -bt CB --ncores 32\"\n",
    "# print(cmd)\n",
    "# !{cmd}"
   ]
  },
  {
   "cell_type": "code",
   "execution_count": null,
   "metadata": {},
   "outputs": [],
   "source": []
  },
  {
   "cell_type": "code",
   "execution_count": null,
   "metadata": {},
   "outputs": [],
   "source": []
  },
  {
   "cell_type": "code",
   "execution_count": null,
   "metadata": {},
   "outputs": [],
   "source": []
  },
  {
   "cell_type": "code",
   "execution_count": 7,
   "metadata": {
    "ExecuteTime": {
     "end_time": "2020-10-26T23:25:24.934666Z",
     "start_time": "2020-10-26T23:25:24.927142Z"
    },
    "scrolled": false
   },
   "outputs": [
    {
     "name": "stdout",
     "output_type": "stream",
     "text": [
      "mgatk bcall -i /data2/isshamie/mito_lineage/data/processed/2020_09_07_Croker_mito/CD34_PolydT_fiveprime/outs/possorted_genome_bam.bam -o results//mgatk_out -g GRCh38 -bt CB -b /data2/isshamie/mito_lineage/data/processed/2020_09_07_Croker_mito/CD34_PolydT_fiveprime/outs/filtered_feature_bc_matrix/barcodes.tsv --ncores 32\n"
     ]
    }
   ],
   "source": [
    "cmd = f\"mgatk bcall -i {p['bam_f']} -o {p['outdir']}/mgatk_out -g GRCh38 -bt CB -b {p['feature_barcodes']} --ncores 32\"\n",
    "print(cmd)\n",
    "#!{cmd}"
   ]
  }
 ],
 "metadata": {
  "kernelspec": {
   "display_name": "Python 3",
   "language": "python",
   "name": "python3"
  },
  "language_info": {
   "codemirror_mode": {
    "name": "ipython",
    "version": 3
   },
   "file_extension": ".py",
   "mimetype": "text/x-python",
   "name": "python",
   "nbconvert_exporter": "python",
   "pygments_lexer": "ipython3",
   "version": "3.7.3"
  }
 },
 "nbformat": 4,
 "nbformat_minor": 2
}
