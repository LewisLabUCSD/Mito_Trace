{
 "cells": [
  {
   "cell_type": "code",
   "execution_count": 1,
   "metadata": {
    "ExecuteTime": {
     "end_time": "2020-12-13T01:54:41.655907Z",
     "start_time": "2020-12-13T01:54:41.509976Z"
    }
   },
   "outputs": [],
   "source": [
    "import sys\n",
    "import re\n",
    "import os\n",
    "import pysam\n",
    "import numpy as np"
   ]
  },
  {
   "cell_type": "code",
   "execution_count": 2,
   "metadata": {
    "ExecuteTime": {
     "end_time": "2020-12-13T01:54:41.664726Z",
     "start_time": "2020-12-13T01:54:41.658210Z"
    }
   },
   "outputs": [],
   "source": [
    "bam_file = \"/data2/mito_lineage/data/processed/tests/test.bam\"\n",
    "\n",
    "bam_input = pysam.AlignmentFile(bam_file,\"rb\")\n",
    "\n"
   ]
  },
  {
   "cell_type": "code",
   "execution_count": 3,
   "metadata": {
    "ExecuteTime": {
     "end_time": "2020-12-13T01:54:41.675052Z",
     "start_time": "2020-12-13T01:54:41.666530Z"
    },
    "scrolled": true
   },
   "outputs": [
    {
     "name": "stdout",
     "output_type": "stream",
     "text": [
      "here\n",
      "A00953:185:HN7TMDSXY:2:1473:15329:2863\t1107\t24\t0\t40\t18S19M\t24\t0\t19\tAAATAAGACATCACGATGGATCACAGGTCTATCACCC\tarray('B', [37, 37, 37, 37, 37, 37, 37, 37, 37, 37, 37, 37, 37, 37, 37, 37, 37, 37, 37, 37, 37, 37, 37, 37, 37, 37, 37, 37, 37, 37, 37, 37, 37, 37, 37, 37, 37])\t[('NM', 0)]\n",
      "[('NM', 0)]\n",
      "seq AAATAAGACATCACGATGGATCACAGGTCTATCACCC\n",
      "s_idx 1\n",
      "here\n",
      "A00953:185:HN7TMDSXY:2:1473:15329:2863\t1187\t24\t0\t40\t18S19M\t24\t0\t19\tAAATAAGACATCACGATGGATCACAGGTCTATCACCC\tarray('B', [37, 37, 37, 37, 37, 37, 37, 37, 37, 37, 37, 37, 37, 37, 37, 37, 37, 37, 37, 37, 37, 37, 37, 37, 37, 37, 37, 37, 37, 37, 37, 37, 37, 37, 37, 37, 37])\t[('NM', 0), ('MD', '19'), ('MC', '18S19M'), ('AS', 19), ('XS', 0), ('CR', 'ACAGCGCAGTACGACG'), ('CY', 'FFFFFFFFFFFFFFFF'), ('CB', 'ACAGCGCAGTACGACG-1'), ('TR', 'CTGTCTCTTATACACATCTGACGCTGCCGACGACGTCGTACTGCGCTGTGTGTAGATCTCGGTG'), ('TQ', 'FFFFFFFFFFFFFFFFFFFFFFFFFFFFFFFFFFFFFFFFFFFFFFFFFFFFFFFFFFFFFFFF'), ('GP', 940786167), ('MP', 940786204), ('MQ', 40), ('RG', 'PBMC_P:MissingLibrary:1:HN7TMDSXY:2')]\n",
      "[('NM', 0), ('MD', '19'), ('MC', '18S19M'), ('AS', 19), ('XS', 0), ('CR', 'ACAGCGCAGTACGACG'), ('CY', 'FFFFFFFFFFFFFFFF'), ('CB', 'ACAGCGCAGTACGACG-1'), ('TR', 'CTGTCTCTTATACACATCTGACGCTGCCGACGACGTCGTACTGCGCTGTGTGTAGATCTCGGTG'), ('TQ', 'FFFFFFFFFFFFFFFFFFFFFFFFFFFFFFFFFFFFFFFFFFFFFFFFFFFFFFFFFFFFFFFF'), ('GP', 940786167), ('MP', 940786204), ('MQ', 40), ('RG', 'PBMC_P:MissingLibrary:1:HN7TMDSXY:2')]\n",
      "seq AAATAAGACATCACGATGGATCACAGGTCTATCACCC\n",
      "s_idx 0\n",
      "here\n",
      "A00953:185:HN7TMDSXY:2:1110:4499:5963\t1123\t24\t0\t60\t45S56M\t24\t0\t56\tAGCCTAAATAGCCCACACGTTCCCCTTAAATAAGACATCACGATGGATCACAGGTCTATCACCCTATTAACCACTCACGGGAGCTCTCCATGCATTTGGTA\tarray('B', [37, 37, 37, 37, 37, 37, 37, 37, 37, 37, 37, 37, 37, 37, 37, 37, 37, 37, 37, 37, 37, 37, 37, 37, 37, 37, 37, 37, 37, 37, 37, 37, 37, 37, 37, 37, 37, 37, 37, 37, 37, 37, 37, 37, 37, 37, 37, 37, 37, 37, 37, 37, 37, 37, 37, 37, 37, 37, 37, 37, 37, 37, 37, 37, 37, 37, 37, 37, 37, 37, 37, 37, 37, 37, 37, 37, 37, 37, 37, 37, 37, 37, 37, 37, 37, 37, 37, 37, 37, 37, 37, 37, 37, 37, 37, 37, 37, 37, 37, 37, 37])\t[('NM', 0)]\n",
      "[('NM', 0)]\n",
      "seq AGCCTAAATAGCCCACACGTTCCCCTTAAATAAGACATCACGATGGATCACAGGTCTATCACCCTATTAACCACTCACGGGAGCTCTCCATGCATTTGGTA\n",
      "s_idx 0\n"
     ]
    }
   ],
   "source": [
    "\n",
    "\n",
    "for read in bam_input:\n",
    "    print('here')\n",
    "    print(read)\n",
    "    if(read.is_reverse):\n",
    "        s_idx = 1\n",
    "    else:\n",
    "        s_idx = 0\n",
    "        \n",
    "    # Get read attributes \n",
    "    seq = read.seq\n",
    "    quality = read.query_qualities\n",
    "    align_qual_read = read.mapping_quality\n",
    "    print(read.tags)\n",
    "    \n",
    "    print('seq', seq)\n",
    "    print('s_idx', s_idx)"
   ]
  },
  {
   "cell_type": "code",
   "execution_count": 5,
   "metadata": {
    "ExecuteTime": {
     "end_time": "2020-12-13T01:54:47.100560Z",
     "start_time": "2020-12-13T01:54:47.095281Z"
    }
   },
   "outputs": [
    {
     "name": "stdout",
     "output_type": "stream",
     "text": [
      "60\n"
     ]
    }
   ],
   "source": [
    "print(align_qual_read)"
   ]
  },
  {
   "cell_type": "code",
   "execution_count": 8,
   "metadata": {
    "ExecuteTime": {
     "end_time": "2020-12-13T01:55:49.856448Z",
     "start_time": "2020-12-13T01:55:49.850006Z"
    }
   },
   "outputs": [
    {
     "name": "stdout",
     "output_type": "stream",
     "text": [
      "37\n"
     ]
    }
   ],
   "source": [
    "print(quality[3])"
   ]
  }
 ],
 "metadata": {
  "kernelspec": {
   "display_name": "Python 3",
   "language": "python",
   "name": "python3"
  },
  "language_info": {
   "codemirror_mode": {
    "name": "ipython",
    "version": 3
   },
   "file_extension": ".py",
   "mimetype": "text/x-python",
   "name": "python",
   "nbconvert_exporter": "python",
   "pygments_lexer": "ipython3",
   "version": "3.7.3"
  }
 },
 "nbformat": 4,
 "nbformat_minor": 4
}
