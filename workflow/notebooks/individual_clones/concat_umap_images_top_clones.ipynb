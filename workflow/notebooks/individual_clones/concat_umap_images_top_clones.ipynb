{
 "cells": [
  {
   "cell_type": "code",
   "execution_count": 1,
   "id": "57a92ea7",
   "metadata": {
    "tags": [
     "parameters"
    ]
   },
   "outputs": [],
   "source": [
    "#outdir = \"/data/Mito_Trace/output/pipeline/v02/CHIP_b1/MTBlacklist_A2/data/merged/MT/cellr_True/numread_200/filters/minC10_minR50_topN0_hetT0.001_hetC10_hetCount5_bq20/mgatk/vireoIn/single_clones/donor0/cloneMethod_variants_init_knn_resolution_30/clonalShift_method_clones/single/\"\n",
    "outdir = \"/data/Mito_Trace/output/pipeline/v04/CHIP_b2/InputOnly/MTBlacklist_A2/data/merged/MT/cellr_True/numread_200/filters/minC10_minR50_topN0_hetT0.001_hetC10_hetCount5_bq20/mgatk/vireoIn/single_clones/donor0/cloneMethod_variants_init_knn_resolution_30/clonalShift_method_clones/top/\"\n",
    "#cloneID = \"0_C6\"\n"
   ]
  },
  {
   "cell_type": "code",
   "execution_count": 2,
   "id": "4b786f82",
   "metadata": {},
   "outputs": [
    {
     "name": "stdout",
     "output_type": "stream",
     "text": [
      "fig_utils from mplh\n",
      "0.5.6\n"
     ]
    }
   ],
   "source": [
    "from os.path import join, exists, dirname\n",
    "from glob import glob\n",
    "import pickle\n",
    "import mplh.cluster_help as ch\n",
    "import mplh.fig_utils as fu\n",
    "\n",
    "import os\n",
    "import vireoSNP\n",
    "import numpy as np\n",
    "from scipy import sparse\n",
    "from scipy.io import mmread\n",
    "import matplotlib.pyplot as plt\n",
    "from scipy.stats import hypergeom\n",
    "print(vireoSNP.__version__)\n",
    "\n",
    "import pandas as pd\n",
    "import seaborn as sns\n",
    "from vireoSNP import Vireo\n",
    "np.set_printoptions(formatter={'float': lambda x: format(x, '.5f')})\n",
    "\n",
    "from svgutils.compose import *\n",
    "\n",
    "\n",
    "import svgutils.transform as sg\n",
    "import sys \n",
    "\n",
    "\n",
    "import src.utils.fig_concat as fc\n",
    "\n",
    "from os.path import basename"
   ]
  },
  {
   "cell_type": "code",
   "execution_count": 3,
   "id": "86db6f52",
   "metadata": {},
   "outputs": [],
   "source": [
    "out_svg_f = join(outdir,'clone_shift_combine.svg')\n",
    "out_pdf_f = join(outdir,'clone_shift_combine.pdf')\n",
    "\n",
    "out_vars_svg_f = join(outdir,'clone_variants_combine.svg')\n",
    "out_vars_pdf_f = join(outdir,'clone_variants_combine.pdf')\n",
    "\n",
    "f1_umap_clust = join(outdir,'top_umap_clust_col.svg')\n",
    "f2_umap_cond = join(outdir,'top_umap_cond_col.svg')\n",
    "f3_clone_clust = join(outdir,'top_cluster_condition_ncells.svg')\n",
    "f4_hyper = join(outdir,'top10_sig_hypergeo.svg')\n",
    "\n",
    "fvars_pct = join(outdir, \"top_variants_distinct_pct_vs_other.svg\")\n",
    "fvars_pct_minus = join(outdir, \"top_variants_pct_minus_other.svg\")\n",
    "fvars_vars_af = join(outdir, \"top_variants_af.svg\")\n",
    "fvars_vars_af_box = join(outdir, \"top_variants_in_clone_af_boxen.svg\") \n"
   ]
  },
  {
   "cell_type": "code",
   "execution_count": 8,
   "id": "67344845",
   "metadata": {
    "scrolled": true
   },
   "outputs": [
    {
     "name": "stdout",
     "output_type": "stream",
     "text": [
      "/data/Mito_Trace/output/pipeline/v04/CHIP_b2/InputOnly/MTBlacklist_A2/data/merged/MT/cellr_True/numread_200/filters/minC10_minR50_topN0_hetT0.001_hetC10_hetCount5_bq20/mgatk/vireoIn/single_clones/donor0/cloneMethod_variants_init_knn_resolution_30/clonalShift_method_clones/top/top_umap_clust_col.svg\n",
      "1440.00pt\n",
      "height\n",
      "5760.00pt\n",
      "/data/Mito_Trace/output/pipeline/v04/CHIP_b2/InputOnly/MTBlacklist_A2/data/merged/MT/cellr_True/numread_200/filters/minC10_minR50_topN0_hetT0.001_hetC10_hetCount5_bq20/mgatk/vireoIn/single_clones/donor0/cloneMethod_variants_init_knn_resolution_30/clonalShift_method_clones/top/top_umap_cond_col.svg\n",
      "1440.00pt\n",
      "height\n",
      "5760.00pt\n",
      "/data/Mito_Trace/output/pipeline/v04/CHIP_b2/InputOnly/MTBlacklist_A2/data/merged/MT/cellr_True/numread_200/filters/minC10_minR50_topN0_hetT0.001_hetC10_hetCount5_bq20/mgatk/vireoIn/single_clones/donor0/cloneMethod_variants_init_knn_resolution_30/clonalShift_method_clones/top/top_cluster_condition_ncells.svg\n",
      "626.375pt\n",
      "height\n",
      "2929.664062pt\n",
      "/data/Mito_Trace/output/pipeline/v04/CHIP_b2/InputOnly/MTBlacklist_A2/data/merged/MT/cellr_True/numread_200/filters/minC10_minR50_topN0_hetT0.001_hetC10_hetCount5_bq20/mgatk/vireoIn/single_clones/donor0/cloneMethod_variants_init_knn_resolution_30/clonalShift_method_clones/top/top10_sig_hypergeo.svg\n",
      "592.89881pt\n",
      "height\n",
      "5778.74375pt\n",
      "Figure\n",
      "inkscape --file=/data/Mito_Trace/output/pipeline/v04/CHIP_b2/InputOnly/MTBlacklist_A2/data/merged/MT/cellr_True/numread_200/filters/minC10_minR50_topN0_hetT0.001_hetC10_hetCount5_bq20/mgatk/vireoIn/single_clones/donor0/cloneMethod_variants_init_knn_resolution_30/clonalShift_method_clones/top/clone_shift_combine.svg -d 300 --export-area-drawing --without-gui --export-png=/data/Mito_Trace/output/pipeline/v04/CHIP_b2/InputOnly/MTBlacklist_A2/data/merged/MT/cellr_True/numread_200/filters/minC10_minR50_topN0_hetT0.001_hetC10_hetCount5_bq20/mgatk/vireoIn/single_clones/donor0/cloneMethod_variants_init_knn_resolution_30/clonalShift_method_clones/top/clone_shift_combine.png\n",
      "DPI: 300\n",
      "Background RRGGBBAA: ffffff00\n",
      "Area 0:-1340:1230.91:121.396 exported to 3847 x 4567 pixels (300 dpi)\n",
      "Bitmap saved as: /data/Mito_Trace/output/pipeline/v04/CHIP_b2/InputOnly/MTBlacklist_A2/data/merged/MT/cellr_True/numread_200/filters/minC10_minR50_topN0_hetT0.001_hetC10_hetCount5_bq20/mgatk/vireoIn/single_clones/donor0/cloneMethod_variants_init_knn_resolution_30/clonalShift_method_clones/top/clone_shift_combine.png\n"
     ]
    }
   ],
   "source": [
    "#tmp_out_svg_f = join(outdir,'tmp_clone_shift_combine.svg')\n",
    "figure_names = {\"umap_clust\":f1_umap_clust, \"umap_cond\":f2_umap_cond, \n",
    "                \"clone_lineage\": f3_clone_clust, \"hyper\": f4_hyper}\n",
    "#{figure_names[key]:key for key in figure_names}\n",
    "svg_df = pd.DataFrame(pd.Series(figure_names), \n",
    "                      columns=[\"Figure\"]).transpose()\n",
    "svg_df\n",
    "\n",
    "\n",
    "# svgs = fc.files_to_svg_dict(svg_df, scale=0.25, verbose=False)\n",
    "# svgs\n",
    "fc.main_df(svg_df, out_f=out_svg_f, scale=0.25, figure_names=figure_names, verbose=True)\n"
   ]
  },
  {
   "cell_type": "code",
   "execution_count": 11,
   "id": "28c20cee",
   "metadata": {},
   "outputs": [
    {
     "data": {
      "text/html": [
       "<div>\n",
       "<style scoped>\n",
       "    .dataframe tbody tr th:only-of-type {\n",
       "        vertical-align: middle;\n",
       "    }\n",
       "\n",
       "    .dataframe tbody tr th {\n",
       "        vertical-align: top;\n",
       "    }\n",
       "\n",
       "    .dataframe thead th {\n",
       "        text-align: right;\n",
       "    }\n",
       "</style>\n",
       "<table border=\"1\" class=\"dataframe\">\n",
       "  <thead>\n",
       "    <tr style=\"text-align: right;\">\n",
       "      <th></th>\n",
       "      <th>umap_clust</th>\n",
       "      <th>umap_cond</th>\n",
       "      <th>clone_lineage</th>\n",
       "      <th>hyper</th>\n",
       "    </tr>\n",
       "  </thead>\n",
       "  <tbody>\n",
       "    <tr>\n",
       "      <th>Figure</th>\n",
       "      <td>top_umap_clust_col.svg</td>\n",
       "      <td>top_umap_cond_col.svg</td>\n",
       "      <td>top_cluster_condition_ncells.svg</td>\n",
       "      <td>top10_sig_hypergeo.svg</td>\n",
       "    </tr>\n",
       "  </tbody>\n",
       "</table>\n",
       "</div>"
      ],
      "text/plain": [
       "                    umap_clust              umap_cond  \\\n",
       "Figure  top_umap_clust_col.svg  top_umap_cond_col.svg   \n",
       "\n",
       "                           clone_lineage                   hyper  \n",
       "Figure  top_cluster_condition_ncells.svg  top10_sig_hypergeo.svg  "
      ]
     },
     "execution_count": 11,
     "metadata": {},
     "output_type": "execute_result"
    }
   ],
   "source": [
    "svg_df"
   ]
  },
  {
   "cell_type": "code",
   "execution_count": 5,
   "id": "713b96b0",
   "metadata": {
    "scrolled": true
   },
   "outputs": [],
   "source": [
    "\n",
    "# svg_df\n",
    "\n",
    "# curr_init_files = []\n",
    "# curr_ref = svg_df.iloc[0,0].split('.svg')[0]\n",
    "# curr_keys = [x.split('.svg')[0] for x in svg_df.iloc[0].values]\n",
    "# fc.rescale_height(svgs, curr_keys, curr_ref)\n",
    "\n",
    "\n",
    "# def change_positions(df, svgs, widths, heights):\n",
    "#     \"\"\"Move the images to the desired positions.\"\"\"\n",
    "#     for i_row, row in enumerate(df.index):\n",
    "#         for i_col, col in enumerate(df.columns):\n",
    "#             curr = df.loc[row, col].split(\".svg\")[0]\n",
    "#             svgs[curr].move(sum(widths[:i_col]), sum(heights[:i_row]))\n",
    "\n",
    "# col_max_widths = []\n",
    "# row_max_heights = [0]*len(svg_df.columns)  # should be the same in theory\n",
    "# all_heights = []\n",
    "# for col in svg_df.columns:\n",
    "#     col_max_widths.append(svgs[svg_df.iloc[0][col].split(\".svg\")[0]].width)\n",
    "#     all_heights.append(svgs[svg_df.iloc[0][col].split(\".svg\")[0]].height)\n",
    "    \n",
    "# fc.change_positions(svg_df, svgs, col_max_widths, row_max_heights)\n",
    "\n",
    "# full_width = sum(col_max_widths)\n",
    "# full_height = sum(all_heights)\n",
    "# fig = sg.SVGFigure(full_width + 15, full_height + 15)\n",
    "\n",
    "# fig.append([s.data for s in svgs.values()])\n",
    "# text = fc.letter_annotations(svgs, df=svg_df, figure_names=figure_names,\n",
    "#                           transposed=True)\n",
    "# fig.append(text)\n",
    "# fig.save(out_svg_f)\n",
    "\n",
    "# cmd = f'inkscape --file={out_svg_f} -d 300 --export-area-drawing --without-gui --export-png={out_svg_f.replace(\".svg\", \".png\")}'  # --export-area-drawing --without-gui --export-psvg_df=output.psvg_df'\n",
    "# print(cmd)\n",
    "# os.system(cmd)\n",
    "\n",
    "\n",
    "\n",
    "# col_max_widths"
   ]
  },
  {
   "cell_type": "code",
   "execution_count": null,
   "id": "829b839f",
   "metadata": {},
   "outputs": [],
   "source": []
  },
  {
   "cell_type": "code",
   "execution_count": null,
   "id": "ceed4139",
   "metadata": {},
   "outputs": [],
   "source": []
  }
 ],
 "metadata": {
  "celltoolbar": "Tags",
  "kernelspec": {
   "display_name": "Python 3 (ipykernel)",
   "language": "python",
   "name": "python3"
  },
  "language_info": {
   "codemirror_mode": {
    "name": "ipython",
    "version": 3
   },
   "file_extension": ".py",
   "mimetype": "text/x-python",
   "name": "python",
   "nbconvert_exporter": "python",
   "pygments_lexer": "ipython3",
   "version": "3.7.12"
  }
 },
 "nbformat": 4,
 "nbformat_minor": 5
}
