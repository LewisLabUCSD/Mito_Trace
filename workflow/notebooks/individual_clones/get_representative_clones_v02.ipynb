{
 "cells": [
  {
   "cell_type": "code",
   "execution_count": 1,
   "id": "dec027fb",
   "metadata": {
    "tags": [
     "parameters"
    ]
   },
   "outputs": [],
   "source": [
    "indir = \"/data/Mito_Trace/output/pipeline/v04/CHIP_Input_nameFix_april08_2021/MTblacklist/data/merged/MT/cellr_True/numread_200/filters/minC10_minR50_topN0_hetT0.001_hetC10_hetCount5_bq20/mgatk/vireoIn/enriched_barcodes/objs_high_unique_constraints_None/clonal_shifts/variants_prefilterMerge_impute/donors/donor2/clones/knn_kparam_30\"\n",
    "outdir = \"/data/Mito_Trace/output/pipeline/v04/CHIP_Input_nameFix_april08_2021/MTblacklist/data/merged/MT/cellr_True/numread_200/filters/minC10_minR50_topN0_hetT0.001_hetC10_hetCount5_bq20/mgatk/vireoIn/enriched_barcodes/objs_high_unique_constraints_None/repr_clones/donor2/cloneMethod_variants_prefilterMerge_impute_knn_resolution_30/clonalShift_method_clones/clones_ranked\"\n",
    "cells_meta_f = \"/data/Mito_Trace/output/pipeline/v04/CHIP_Input_nameFix_april08_2021/MTblacklist/data/merged/MT/cellr_True/numread_200/filters/minC10_minR50_topN0_hetT0.001_hetC10_hetCount5_bq20/mgatk/vireoIn/enriched_barcodes/objs_high_unique_constraints_None/repr_clones/donor2/cloneMethod_variants_prefilterMerge_impute_knn_resolution_30/clonalShift_method_clones/cells_meta.tsv\"\n",
    "is_mt = False \n",
    "condition = \"None\"\n",
    "clone_id = \"cloneID\" # \"den_clust\"\n",
    "p_thresh = 0.1 \n",
    "\n",
    "\n",
    "cells_meta_f = \"\" #\"/data/Mito_Trace/output/pipeline/v04/CHIP_Input_nameFix_april08_2021/MTblacklist/data/merged/MT/cellr_True/numread_200/filters/minC10_minR50_topN0_hetT0.001_hetC10_hetCount5_bq20/mgatk/vireoIn/enriched_barcodes/objs_high_pct/repr_clones/donor2/cloneMethod_variants_init_knn_resolution_30/clonalShift_method_clones/cells_meta.tsv\"\n"
   ]
  },
  {
   "cell_type": "code",
   "execution_count": 2,
   "id": "81f2cc40",
   "metadata": {},
   "outputs": [
    {
     "name": "stdout",
     "output_type": "stream",
     "text": [
      "fig_utils from mplh\n"
     ]
    }
   ],
   "source": [
    "%load_ext autoreload\n",
    "%autoreload 2\n",
    "from glob import glob\n",
    "import pandas as pd\n",
    "import numpy as np\n",
    "from os.path import join, exists\n",
    "import os\n",
    "from tqdm.notebook import tqdm\n",
    "\n",
    "from scipy.stats import hypergeom, fisher_exact\n",
    "from statsmodels.stats import multitest \n",
    "\n",
    "import seaborn as sns\n",
    "import matplotlib.pyplot as plt\n",
    "\n",
    "from src import clonal_shifts as cs\n",
    "from icecream import ic\n",
    "\n",
    "from mplh import cluster_help as ch\n",
    "\n",
    "from scipy.stats import rankdata, gmean\n"
   ]
  },
  {
   "cell_type": "markdown",
   "id": "83b70b97",
   "metadata": {},
   "source": [
    "## Load ncells and save to output. Sort by ncells"
   ]
  },
  {
   "cell_type": "code",
   "execution_count": 4,
   "id": "f5f0918d",
   "metadata": {
    "scrolled": true
   },
   "outputs": [
    {
     "data": {
      "text/html": [
       "<div>\n",
       "<style scoped>\n",
       "    .dataframe tbody tr th:only-of-type {\n",
       "        vertical-align: middle;\n",
       "    }\n",
       "\n",
       "    .dataframe tbody tr th {\n",
       "        vertical-align: top;\n",
       "    }\n",
       "\n",
       "    .dataframe thead th {\n",
       "        text-align: right;\n",
       "    }\n",
       "</style>\n",
       "<table border=\"1\" class=\"dataframe\">\n",
       "  <thead>\n",
       "    <tr style=\"text-align: right;\">\n",
       "      <th></th>\n",
       "      <th>count_input</th>\n",
       "      <th>count_cultured</th>\n",
       "    </tr>\n",
       "    <tr>\n",
       "      <th>cloneID</th>\n",
       "      <th></th>\n",
       "      <th></th>\n",
       "    </tr>\n",
       "  </thead>\n",
       "  <tbody>\n",
       "  </tbody>\n",
       "</table>\n",
       "</div>"
      ],
      "text/plain": [
       "Empty DataFrame\n",
       "Columns: [count_input, count_cultured]\n",
       "Index: []"
      ]
     },
     "execution_count": 4,
     "metadata": {},
     "output_type": "execute_result"
    }
   ],
   "source": [
    "noInput_ncells = pd.read_csv(join(indir, \"noInput_ncells.csv\"),  index_col=0)\n",
    "input_ncells = pd.read_csv(join(indir, \"input_ncells.csv\"), index_col=0)\n",
    "\n",
    "def get_clone_ncells(df):\n",
    "    if df.shape[0] == 0:\n",
    "        df = pd.DataFrame(columns=[\"count\"])\n",
    "        df.index.name = clone_id\n",
    "        return df\n",
    "    return df.groupby(clone_id).sum()[[\"count\"]].sort_values(by=\"count\")[::-1]\n",
    "\n",
    "\n",
    "input_ncells = get_clone_ncells(input_ncells)#.groupby(clone_id).sum()[[\"count\"]].sort_values(by=\"count\")[::-1]\n",
    "noInput_ncells = get_clone_ncells(noInput_ncells) #.groupby(clone_id).sum()[[\"count\"]].sort_values(by=\"count\")[::-1]\n",
    "ncells_df = pd.merge(input_ncells,noInput_ncells,left_index=True, right_index=True, suffixes=[\"_input\", \"_cultured\"],\n",
    "                    how=\"outer\").fillna(0)\n",
    "ncells_df = ncells_df.loc[ncells_df.sum(axis=1).sort_values()[::-1].index]\n",
    "ncells_df"
   ]
  },
  {
   "cell_type": "markdown",
   "id": "68d5ee46",
   "metadata": {},
   "source": [
    "## Norm ncells for each and get ratio"
   ]
  },
  {
   "cell_type": "code",
   "execution_count": 5,
   "id": "639a990a",
   "metadata": {
    "scrolled": true
   },
   "outputs": [
    {
     "data": {
      "text/html": [
       "<div>\n",
       "<style scoped>\n",
       "    .dataframe tbody tr th:only-of-type {\n",
       "        vertical-align: middle;\n",
       "    }\n",
       "\n",
       "    .dataframe tbody tr th {\n",
       "        vertical-align: top;\n",
       "    }\n",
       "\n",
       "    .dataframe thead th {\n",
       "        text-align: right;\n",
       "    }\n",
       "</style>\n",
       "<table border=\"1\" class=\"dataframe\">\n",
       "  <thead>\n",
       "    <tr style=\"text-align: right;\">\n",
       "      <th></th>\n",
       "      <th>count_input</th>\n",
       "      <th>count_cultured</th>\n",
       "      <th>fold</th>\n",
       "    </tr>\n",
       "    <tr>\n",
       "      <th>cloneID</th>\n",
       "      <th></th>\n",
       "      <th></th>\n",
       "      <th></th>\n",
       "    </tr>\n",
       "  </thead>\n",
       "  <tbody>\n",
       "  </tbody>\n",
       "</table>\n",
       "</div>"
      ],
      "text/plain": [
       "Empty DataFrame\n",
       "Columns: [count_input, count_cultured, fold]\n",
       "Index: []"
      ]
     },
     "execution_count": 5,
     "metadata": {},
     "output_type": "execute_result"
    }
   ],
   "source": [
    "norm_ncells_df = ncells_df/ncells_df.sum(axis=0)\n",
    "norm_ncells_df\n",
    "\n",
    "norm_ncells_df[\"fold\"] = norm_ncells_df[\"count_cultured\"]/norm_ncells_df[\"count_input\"].fillna(0)\n",
    "norm_ncells_df"
   ]
  },
  {
   "cell_type": "markdown",
   "id": "2b68c7f7",
   "metadata": {},
   "source": [
    "## Load shuffle hypergeometric results for input and cultured\n",
    "## Convert into long df with cloneID ('index'), clusterID ('variable'), pval, method (hypergeo or one of four shuffle methods), and condition ('input' or 'cultured')"
   ]
  },
  {
   "cell_type": "code",
   "execution_count": 6,
   "id": "a620f6af",
   "metadata": {
    "scrolled": true
   },
   "outputs": [],
   "source": [
    "noInput_hyper = pd.read_csv(join(indir, \"noInput_hypergeo_pvals.csv\"),  index_col=0)\n",
    "noInput_shuffle_df = pd.read_csv(join(indir, \"noInput_shuffle_results_pvals.csv\"), index_col=0)\n",
    "noInput_shuffle_df = noInput_shuffle_df.rename({\"value\":\"pval\"}, axis=1)\n",
    "\n",
    "input_hyper = pd.read_csv(join(indir, \"input_hypergeo_pvals.csv\"), index_col=0)\n",
    "input_shuffle_df = pd.read_csv(join(indir, \"input_shuffle_results_pvals.csv\"), index_col=0)\n",
    "\n",
    "input_shuffle_df = input_shuffle_df.rename({\"value\":\"pval\"}, axis=1)\n",
    "input_shuffle_df\n",
    "\n",
    "input_hyper_df = input_hyper.reset_index().melt(id_vars=\"index\", value_name=\"pval\")\n",
    "input_hyper_df[\"method\"] = \"hypergeo\"\n",
    "noInput_hyper_df = noInput_hyper.reset_index().melt(id_vars=\"index\", value_name=\"pval\")\n",
    "noInput_hyper_df[\"method\"] = \"hypergeo\"\n",
    "\n",
    "\n",
    "noInput_hyper_df[\"condition\"] = \"cultured\"\n",
    "noInput_shuffle_df[\"condition\"] = \"cultured\"\n",
    "input_hyper_df[\"condition\"] = \"input\"\n",
    "input_shuffle_df[\"condition\"] = \"input\"\n"
   ]
  },
  {
   "cell_type": "code",
   "execution_count": 7,
   "id": "f63e9435",
   "metadata": {
    "scrolled": true
   },
   "outputs": [
    {
     "data": {
      "text/html": [
       "<div>\n",
       "<style scoped>\n",
       "    .dataframe tbody tr th:only-of-type {\n",
       "        vertical-align: middle;\n",
       "    }\n",
       "\n",
       "    .dataframe tbody tr th {\n",
       "        vertical-align: top;\n",
       "    }\n",
       "\n",
       "    .dataframe thead th {\n",
       "        text-align: right;\n",
       "    }\n",
       "</style>\n",
       "<table border=\"1\" class=\"dataframe\">\n",
       "  <thead>\n",
       "    <tr style=\"text-align: right;\">\n",
       "      <th></th>\n",
       "      <th>index</th>\n",
       "      <th>variable</th>\n",
       "      <th>pval</th>\n",
       "      <th>method</th>\n",
       "      <th>condition</th>\n",
       "    </tr>\n",
       "  </thead>\n",
       "  <tbody>\n",
       "  </tbody>\n",
       "</table>\n",
       "</div>"
      ],
      "text/plain": [
       "Empty DataFrame\n",
       "Columns: [index, variable, pval, method, condition]\n",
       "Index: []"
      ]
     },
     "execution_count": 7,
     "metadata": {},
     "output_type": "execute_result"
    }
   ],
   "source": [
    "input_df = pd.concat((input_hyper_df, input_shuffle_df), axis=0, ignore_index=True)\n",
    "input_df[\"variable\"] = input_df[\"variable\"].astype(object).astype(str)\n",
    "\n",
    "noInput_df = pd.concat((noInput_hyper_df, noInput_shuffle_df), axis=0, ignore_index=True)\n",
    "noInput_df[\"variable\"] = noInput_df[\"variable\"].astype(object).astype(str)\n",
    "\n",
    "\n",
    "df = pd.concat((input_df, noInput_df), axis=0).reset_index(drop=True)\n",
    "#df = pd.merge(input_df, noInput_df, on=[\"index\", \"variable\", \"method\"], suffixes=[\"_input\", \"_cultured\"])\n",
    "df"
   ]
  },
  {
   "cell_type": "markdown",
   "id": "8f3b8493",
   "metadata": {},
   "source": [
    "## Create 'sig score' that merges the hypergeo and the shuffle results. Score 0-4, with 4 the highest"
   ]
  },
  {
   "cell_type": "code",
   "execution_count": 14,
   "id": "e0d1ba91",
   "metadata": {
    "scrolled": true
   },
   "outputs": [
    {
     "name": "stdout",
     "output_type": "stream",
     "text": [
      "(0, 6)\n",
      "False\n",
      "(0, 6)\n",
      "Empty DataFrame\n",
      "Columns: [index, variable, pval, method, condition, is_sig]\n",
      "Index: []\n",
      "None\n",
      "p_df_out\n",
      "Empty DataFrame\n",
      "Columns: [index, variable, pval, method, condition, is_sig]\n",
      "Index: []\n",
      "p_df_out after\n",
      "Empty DataFrame\n",
      "Columns: [index, variable, pval, method, condition, is_sig]\n",
      "Index: []\n"
     ]
    },
    {
     "ename": "ValueError",
     "evalue": "Wrong number of items passed 6, placement implies 1",
     "output_type": "error",
     "traceback": [
      "\u001b[0;31m---------------------------------------------------------------------------\u001b[0m",
      "\u001b[0;31mKeyError\u001b[0m                                  Traceback (most recent call last)",
      "\u001b[0;32m~/miniconda3/envs/mttrace/lib/python3.7/site-packages/pandas/core/indexes/base.py\u001b[0m in \u001b[0;36mget_loc\u001b[0;34m(self, key, method, tolerance)\u001b[0m\n\u001b[1;32m   3360\u001b[0m             \u001b[0;32mtry\u001b[0m\u001b[0;34m:\u001b[0m\u001b[0;34m\u001b[0m\u001b[0;34m\u001b[0m\u001b[0m\n\u001b[0;32m-> 3361\u001b[0;31m                 \u001b[0;32mreturn\u001b[0m \u001b[0mself\u001b[0m\u001b[0;34m.\u001b[0m\u001b[0m_engine\u001b[0m\u001b[0;34m.\u001b[0m\u001b[0mget_loc\u001b[0m\u001b[0;34m(\u001b[0m\u001b[0mcasted_key\u001b[0m\u001b[0;34m)\u001b[0m\u001b[0;34m\u001b[0m\u001b[0;34m\u001b[0m\u001b[0m\n\u001b[0m\u001b[1;32m   3362\u001b[0m             \u001b[0;32mexcept\u001b[0m \u001b[0mKeyError\u001b[0m \u001b[0;32mas\u001b[0m \u001b[0merr\u001b[0m\u001b[0;34m:\u001b[0m\u001b[0;34m\u001b[0m\u001b[0;34m\u001b[0m\u001b[0m\n",
      "\u001b[0;32m~/miniconda3/envs/mttrace/lib/python3.7/site-packages/pandas/_libs/index.pyx\u001b[0m in \u001b[0;36mpandas._libs.index.IndexEngine.get_loc\u001b[0;34m()\u001b[0m\n",
      "\u001b[0;32m~/miniconda3/envs/mttrace/lib/python3.7/site-packages/pandas/_libs/index.pyx\u001b[0m in \u001b[0;36mpandas._libs.index.IndexEngine.get_loc\u001b[0;34m()\u001b[0m\n",
      "\u001b[0;32mpandas/_libs/hashtable_class_helper.pxi\u001b[0m in \u001b[0;36mpandas._libs.hashtable.PyObjectHashTable.get_item\u001b[0;34m()\u001b[0m\n",
      "\u001b[0;32mpandas/_libs/hashtable_class_helper.pxi\u001b[0m in \u001b[0;36mpandas._libs.hashtable.PyObjectHashTable.get_item\u001b[0;34m()\u001b[0m\n",
      "\u001b[0;31mKeyError\u001b[0m: 'cluster_condition'",
      "\nThe above exception was the direct cause of the following exception:\n",
      "\u001b[0;31mKeyError\u001b[0m                                  Traceback (most recent call last)",
      "\u001b[0;32m~/miniconda3/envs/mttrace/lib/python3.7/site-packages/pandas/core/frame.py\u001b[0m in \u001b[0;36m_set_item_mgr\u001b[0;34m(self, key, value)\u001b[0m\n\u001b[1;32m   3750\u001b[0m         \u001b[0;32mtry\u001b[0m\u001b[0;34m:\u001b[0m\u001b[0;34m\u001b[0m\u001b[0;34m\u001b[0m\u001b[0m\n\u001b[0;32m-> 3751\u001b[0;31m             \u001b[0mloc\u001b[0m \u001b[0;34m=\u001b[0m \u001b[0mself\u001b[0m\u001b[0;34m.\u001b[0m\u001b[0m_info_axis\u001b[0m\u001b[0;34m.\u001b[0m\u001b[0mget_loc\u001b[0m\u001b[0;34m(\u001b[0m\u001b[0mkey\u001b[0m\u001b[0;34m)\u001b[0m\u001b[0;34m\u001b[0m\u001b[0;34m\u001b[0m\u001b[0m\n\u001b[0m\u001b[1;32m   3752\u001b[0m         \u001b[0;32mexcept\u001b[0m \u001b[0mKeyError\u001b[0m\u001b[0;34m:\u001b[0m\u001b[0;34m\u001b[0m\u001b[0;34m\u001b[0m\u001b[0m\n",
      "\u001b[0;32m~/miniconda3/envs/mttrace/lib/python3.7/site-packages/pandas/core/indexes/base.py\u001b[0m in \u001b[0;36mget_loc\u001b[0;34m(self, key, method, tolerance)\u001b[0m\n\u001b[1;32m   3362\u001b[0m             \u001b[0;32mexcept\u001b[0m \u001b[0mKeyError\u001b[0m \u001b[0;32mas\u001b[0m \u001b[0merr\u001b[0m\u001b[0;34m:\u001b[0m\u001b[0;34m\u001b[0m\u001b[0;34m\u001b[0m\u001b[0m\n\u001b[0;32m-> 3363\u001b[0;31m                 \u001b[0;32mraise\u001b[0m \u001b[0mKeyError\u001b[0m\u001b[0;34m(\u001b[0m\u001b[0mkey\u001b[0m\u001b[0;34m)\u001b[0m \u001b[0;32mfrom\u001b[0m \u001b[0merr\u001b[0m\u001b[0;34m\u001b[0m\u001b[0;34m\u001b[0m\u001b[0m\n\u001b[0m\u001b[1;32m   3364\u001b[0m \u001b[0;34m\u001b[0m\u001b[0m\n",
      "\u001b[0;31mKeyError\u001b[0m: 'cluster_condition'",
      "\nDuring handling of the above exception, another exception occurred:\n",
      "\u001b[0;31mValueError\u001b[0m                                Traceback (most recent call last)",
      "\u001b[0;32m/tmp/ipykernel_685268/1905078766.py\u001b[0m in \u001b[0;36m<module>\u001b[0;34m\u001b[0m\n\u001b[0;32m----> 1\u001b[0;31m \u001b[0mp_df_group\u001b[0m\u001b[0;34m,\u001b[0m \u001b[0mp_df_out\u001b[0m \u001b[0;34m=\u001b[0m \u001b[0mcs\u001b[0m\u001b[0;34m.\u001b[0m\u001b[0mhypergeo_score\u001b[0m\u001b[0;34m(\u001b[0m\u001b[0mdf\u001b[0m\u001b[0;34m,\u001b[0m \u001b[0mp_thresh\u001b[0m \u001b[0;34m)\u001b[0m\u001b[0;34m\u001b[0m\u001b[0;34m\u001b[0m\u001b[0m\n\u001b[0m\u001b[1;32m      2\u001b[0m \u001b[0mp_df_group\u001b[0m\u001b[0;34m\u001b[0m\u001b[0;34m\u001b[0m\u001b[0m\n",
      "\u001b[0;32m/mnt/md0/isshamie/Projects/Mito_Trace/src/clonal_shifts.py\u001b[0m in \u001b[0;36mhypergeo_score\u001b[0;34m(df, p_thresh)\u001b[0m\n\u001b[1;32m    637\u001b[0m     \u001b[0mprint\u001b[0m\u001b[0;34m(\u001b[0m\u001b[0mp_df_out\u001b[0m\u001b[0;34m.\u001b[0m\u001b[0mhead\u001b[0m\u001b[0;34m(\u001b[0m\u001b[0;34m)\u001b[0m\u001b[0;34m)\u001b[0m\u001b[0;34m\u001b[0m\u001b[0;34m\u001b[0m\u001b[0m\n\u001b[1;32m    638\u001b[0m     p_df_out[\"cluster_condition\"] = p_df_out.apply(\n\u001b[0;32m--> 639\u001b[0;31m         lambda x: f'{x[\"variable\"]}_{x[\"condition\"]}', axis=1)\n\u001b[0m\u001b[1;32m    640\u001b[0m \u001b[0;34m\u001b[0m\u001b[0m\n\u001b[1;32m    641\u001b[0m     p_df_out = p_df_out.pivot(index='index',\n",
      "\u001b[0;32m~/miniconda3/envs/mttrace/lib/python3.7/site-packages/pandas/core/frame.py\u001b[0m in \u001b[0;36m__setitem__\u001b[0;34m(self, key, value)\u001b[0m\n\u001b[1;32m   3600\u001b[0m             \u001b[0mself\u001b[0m\u001b[0;34m.\u001b[0m\u001b[0m_setitem_array\u001b[0m\u001b[0;34m(\u001b[0m\u001b[0mkey\u001b[0m\u001b[0;34m,\u001b[0m \u001b[0mvalue\u001b[0m\u001b[0;34m)\u001b[0m\u001b[0;34m\u001b[0m\u001b[0;34m\u001b[0m\u001b[0m\n\u001b[1;32m   3601\u001b[0m         \u001b[0;32melif\u001b[0m \u001b[0misinstance\u001b[0m\u001b[0;34m(\u001b[0m\u001b[0mvalue\u001b[0m\u001b[0;34m,\u001b[0m \u001b[0mDataFrame\u001b[0m\u001b[0;34m)\u001b[0m\u001b[0;34m:\u001b[0m\u001b[0;34m\u001b[0m\u001b[0;34m\u001b[0m\u001b[0m\n\u001b[0;32m-> 3602\u001b[0;31m             \u001b[0mself\u001b[0m\u001b[0;34m.\u001b[0m\u001b[0m_set_item_frame_value\u001b[0m\u001b[0;34m(\u001b[0m\u001b[0mkey\u001b[0m\u001b[0;34m,\u001b[0m \u001b[0mvalue\u001b[0m\u001b[0;34m)\u001b[0m\u001b[0;34m\u001b[0m\u001b[0;34m\u001b[0m\u001b[0m\n\u001b[0m\u001b[1;32m   3603\u001b[0m         elif (\n\u001b[1;32m   3604\u001b[0m             \u001b[0mis_list_like\u001b[0m\u001b[0;34m(\u001b[0m\u001b[0mvalue\u001b[0m\u001b[0;34m)\u001b[0m\u001b[0;34m\u001b[0m\u001b[0;34m\u001b[0m\u001b[0m\n",
      "\u001b[0;32m~/miniconda3/envs/mttrace/lib/python3.7/site-packages/pandas/core/frame.py\u001b[0m in \u001b[0;36m_set_item_frame_value\u001b[0;34m(self, key, value)\u001b[0m\n\u001b[1;32m   3740\u001b[0m         \u001b[0;31m# now align rows\u001b[0m\u001b[0;34m\u001b[0m\u001b[0;34m\u001b[0m\u001b[0;34m\u001b[0m\u001b[0m\n\u001b[1;32m   3741\u001b[0m         \u001b[0marraylike\u001b[0m \u001b[0;34m=\u001b[0m \u001b[0m_reindex_for_setitem\u001b[0m\u001b[0;34m(\u001b[0m\u001b[0mvalue\u001b[0m\u001b[0;34m,\u001b[0m \u001b[0mself\u001b[0m\u001b[0;34m.\u001b[0m\u001b[0mindex\u001b[0m\u001b[0;34m)\u001b[0m\u001b[0;34m\u001b[0m\u001b[0;34m\u001b[0m\u001b[0m\n\u001b[0;32m-> 3742\u001b[0;31m         \u001b[0mself\u001b[0m\u001b[0;34m.\u001b[0m\u001b[0m_set_item_mgr\u001b[0m\u001b[0;34m(\u001b[0m\u001b[0mkey\u001b[0m\u001b[0;34m,\u001b[0m \u001b[0marraylike\u001b[0m\u001b[0;34m)\u001b[0m\u001b[0;34m\u001b[0m\u001b[0;34m\u001b[0m\u001b[0m\n\u001b[0m\u001b[1;32m   3743\u001b[0m \u001b[0;34m\u001b[0m\u001b[0m\n\u001b[1;32m   3744\u001b[0m     \u001b[0;32mdef\u001b[0m \u001b[0m_iset_item_mgr\u001b[0m\u001b[0;34m(\u001b[0m\u001b[0mself\u001b[0m\u001b[0;34m,\u001b[0m \u001b[0mloc\u001b[0m\u001b[0;34m:\u001b[0m \u001b[0mint\u001b[0m \u001b[0;34m|\u001b[0m \u001b[0mslice\u001b[0m \u001b[0;34m|\u001b[0m \u001b[0mnp\u001b[0m\u001b[0;34m.\u001b[0m\u001b[0mndarray\u001b[0m\u001b[0;34m,\u001b[0m \u001b[0mvalue\u001b[0m\u001b[0;34m)\u001b[0m \u001b[0;34m->\u001b[0m \u001b[0;32mNone\u001b[0m\u001b[0;34m:\u001b[0m\u001b[0;34m\u001b[0m\u001b[0;34m\u001b[0m\u001b[0m\n",
      "\u001b[0;32m~/miniconda3/envs/mttrace/lib/python3.7/site-packages/pandas/core/frame.py\u001b[0m in \u001b[0;36m_set_item_mgr\u001b[0;34m(self, key, value)\u001b[0m\n\u001b[1;32m   3752\u001b[0m         \u001b[0;32mexcept\u001b[0m \u001b[0mKeyError\u001b[0m\u001b[0;34m:\u001b[0m\u001b[0;34m\u001b[0m\u001b[0;34m\u001b[0m\u001b[0m\n\u001b[1;32m   3753\u001b[0m             \u001b[0;31m# This item wasn't present, just insert at end\u001b[0m\u001b[0;34m\u001b[0m\u001b[0;34m\u001b[0m\u001b[0;34m\u001b[0m\u001b[0m\n\u001b[0;32m-> 3754\u001b[0;31m             \u001b[0mself\u001b[0m\u001b[0;34m.\u001b[0m\u001b[0m_mgr\u001b[0m\u001b[0;34m.\u001b[0m\u001b[0minsert\u001b[0m\u001b[0;34m(\u001b[0m\u001b[0mlen\u001b[0m\u001b[0;34m(\u001b[0m\u001b[0mself\u001b[0m\u001b[0;34m.\u001b[0m\u001b[0m_info_axis\u001b[0m\u001b[0;34m)\u001b[0m\u001b[0;34m,\u001b[0m \u001b[0mkey\u001b[0m\u001b[0;34m,\u001b[0m \u001b[0mvalue\u001b[0m\u001b[0;34m)\u001b[0m\u001b[0;34m\u001b[0m\u001b[0;34m\u001b[0m\u001b[0m\n\u001b[0m\u001b[1;32m   3755\u001b[0m         \u001b[0;32melse\u001b[0m\u001b[0;34m:\u001b[0m\u001b[0;34m\u001b[0m\u001b[0;34m\u001b[0m\u001b[0m\n\u001b[1;32m   3756\u001b[0m             \u001b[0mself\u001b[0m\u001b[0;34m.\u001b[0m\u001b[0m_iset_item_mgr\u001b[0m\u001b[0;34m(\u001b[0m\u001b[0mloc\u001b[0m\u001b[0;34m,\u001b[0m \u001b[0mvalue\u001b[0m\u001b[0;34m)\u001b[0m\u001b[0;34m\u001b[0m\u001b[0;34m\u001b[0m\u001b[0m\n",
      "\u001b[0;32m~/miniconda3/envs/mttrace/lib/python3.7/site-packages/pandas/core/internals/managers.py\u001b[0m in \u001b[0;36minsert\u001b[0;34m(self, loc, item, value)\u001b[0m\n\u001b[1;32m   1160\u001b[0m             \u001b[0mvalue\u001b[0m \u001b[0;34m=\u001b[0m \u001b[0mensure_block_shape\u001b[0m\u001b[0;34m(\u001b[0m\u001b[0mvalue\u001b[0m\u001b[0;34m,\u001b[0m \u001b[0mndim\u001b[0m\u001b[0;34m=\u001b[0m\u001b[0mself\u001b[0m\u001b[0;34m.\u001b[0m\u001b[0mndim\u001b[0m\u001b[0;34m)\u001b[0m\u001b[0;34m\u001b[0m\u001b[0;34m\u001b[0m\u001b[0m\n\u001b[1;32m   1161\u001b[0m \u001b[0;34m\u001b[0m\u001b[0m\n\u001b[0;32m-> 1162\u001b[0;31m         \u001b[0mblock\u001b[0m \u001b[0;34m=\u001b[0m \u001b[0mnew_block\u001b[0m\u001b[0;34m(\u001b[0m\u001b[0mvalues\u001b[0m\u001b[0;34m=\u001b[0m\u001b[0mvalue\u001b[0m\u001b[0;34m,\u001b[0m \u001b[0mndim\u001b[0m\u001b[0;34m=\u001b[0m\u001b[0mself\u001b[0m\u001b[0;34m.\u001b[0m\u001b[0mndim\u001b[0m\u001b[0;34m,\u001b[0m \u001b[0mplacement\u001b[0m\u001b[0;34m=\u001b[0m\u001b[0mslice\u001b[0m\u001b[0;34m(\u001b[0m\u001b[0mloc\u001b[0m\u001b[0;34m,\u001b[0m \u001b[0mloc\u001b[0m \u001b[0;34m+\u001b[0m \u001b[0;36m1\u001b[0m\u001b[0;34m)\u001b[0m\u001b[0;34m)\u001b[0m\u001b[0;34m\u001b[0m\u001b[0;34m\u001b[0m\u001b[0m\n\u001b[0m\u001b[1;32m   1163\u001b[0m \u001b[0;34m\u001b[0m\u001b[0m\n\u001b[1;32m   1164\u001b[0m         \u001b[0;32mfor\u001b[0m \u001b[0mblkno\u001b[0m\u001b[0;34m,\u001b[0m \u001b[0mcount\u001b[0m \u001b[0;32min\u001b[0m \u001b[0m_fast_count_smallints\u001b[0m\u001b[0;34m(\u001b[0m\u001b[0mself\u001b[0m\u001b[0;34m.\u001b[0m\u001b[0mblknos\u001b[0m\u001b[0;34m[\u001b[0m\u001b[0mloc\u001b[0m\u001b[0;34m:\u001b[0m\u001b[0;34m]\u001b[0m\u001b[0;34m)\u001b[0m\u001b[0;34m:\u001b[0m\u001b[0;34m\u001b[0m\u001b[0;34m\u001b[0m\u001b[0m\n",
      "\u001b[0;32m~/miniconda3/envs/mttrace/lib/python3.7/site-packages/pandas/core/internals/blocks.py\u001b[0m in \u001b[0;36mnew_block\u001b[0;34m(values, placement, ndim, klass)\u001b[0m\n\u001b[1;32m   1935\u001b[0m \u001b[0;34m\u001b[0m\u001b[0m\n\u001b[1;32m   1936\u001b[0m     \u001b[0mvalues\u001b[0m\u001b[0;34m,\u001b[0m \u001b[0m_\u001b[0m \u001b[0;34m=\u001b[0m \u001b[0mextract_pandas_array\u001b[0m\u001b[0;34m(\u001b[0m\u001b[0mvalues\u001b[0m\u001b[0;34m,\u001b[0m \u001b[0;32mNone\u001b[0m\u001b[0;34m,\u001b[0m \u001b[0mndim\u001b[0m\u001b[0;34m)\u001b[0m\u001b[0;34m\u001b[0m\u001b[0;34m\u001b[0m\u001b[0m\n\u001b[0;32m-> 1937\u001b[0;31m     \u001b[0mcheck_ndim\u001b[0m\u001b[0;34m(\u001b[0m\u001b[0mvalues\u001b[0m\u001b[0;34m,\u001b[0m \u001b[0mplacement\u001b[0m\u001b[0;34m,\u001b[0m \u001b[0mndim\u001b[0m\u001b[0;34m)\u001b[0m\u001b[0;34m\u001b[0m\u001b[0;34m\u001b[0m\u001b[0m\n\u001b[0m\u001b[1;32m   1938\u001b[0m \u001b[0;34m\u001b[0m\u001b[0m\n\u001b[1;32m   1939\u001b[0m     \u001b[0;32mif\u001b[0m \u001b[0mklass\u001b[0m \u001b[0;32mis\u001b[0m \u001b[0;32mNone\u001b[0m\u001b[0;34m:\u001b[0m\u001b[0;34m\u001b[0m\u001b[0;34m\u001b[0m\u001b[0m\n",
      "\u001b[0;32m~/miniconda3/envs/mttrace/lib/python3.7/site-packages/pandas/core/internals/blocks.py\u001b[0m in \u001b[0;36mcheck_ndim\u001b[0;34m(values, placement, ndim)\u001b[0m\n\u001b[1;32m   1978\u001b[0m         \u001b[0;32mif\u001b[0m \u001b[0mlen\u001b[0m\u001b[0;34m(\u001b[0m\u001b[0mplacement\u001b[0m\u001b[0;34m)\u001b[0m \u001b[0;34m!=\u001b[0m \u001b[0mlen\u001b[0m\u001b[0;34m(\u001b[0m\u001b[0mvalues\u001b[0m\u001b[0;34m)\u001b[0m\u001b[0;34m:\u001b[0m\u001b[0;34m\u001b[0m\u001b[0;34m\u001b[0m\u001b[0m\n\u001b[1;32m   1979\u001b[0m             raise ValueError(\n\u001b[0;32m-> 1980\u001b[0;31m                 \u001b[0;34mf\"Wrong number of items passed {len(values)}, \"\u001b[0m\u001b[0;34m\u001b[0m\u001b[0;34m\u001b[0m\u001b[0m\n\u001b[0m\u001b[1;32m   1981\u001b[0m                 \u001b[0;34mf\"placement implies {len(placement)}\"\u001b[0m\u001b[0;34m\u001b[0m\u001b[0;34m\u001b[0m\u001b[0m\n\u001b[1;32m   1982\u001b[0m             )\n",
      "\u001b[0;31mValueError\u001b[0m: Wrong number of items passed 6, placement implies 1"
     ]
    }
   ],
   "source": [
    "p_df_group, p_df_out = cs.hypergeo_score(df, p_thresh )\n",
    "p_df_group"
   ]
  },
  {
   "cell_type": "code",
   "execution_count": null,
   "id": "4bf88ddc",
   "metadata": {
    "scrolled": true
   },
   "outputs": [],
   "source": [
    "p_df_out"
   ]
  },
  {
   "cell_type": "code",
   "execution_count": null,
   "id": "314ab785",
   "metadata": {
    "scrolled": true
   },
   "outputs": [],
   "source": [
    "p_df_out.sum()"
   ]
  },
  {
   "cell_type": "code",
   "execution_count": null,
   "id": "019438b9",
   "metadata": {
    "scrolled": true
   },
   "outputs": [],
   "source": [
    "sns.countplot(data=p_df_group.reset_index(), x=0, hue=\"condition\")\n",
    "plt.savefig(join(outdir, \"hypergeo_sig_score_distribution.pdf\"))\n"
   ]
  },
  {
   "cell_type": "markdown",
   "id": "ab62a8ef",
   "metadata": {},
   "source": [
    "## Save heatmap for initial hypergeo "
   ]
  },
  {
   "cell_type": "code",
   "execution_count": null,
   "id": "106fe6cd",
   "metadata": {
    "scrolled": true
   },
   "outputs": [],
   "source": [
    "clone_meta = pd.DataFrame(index=p_df_out.columns, columns = [\"condition\"])\n",
    "clone_meta[\"condition\"] = [\"input\" if \"input\" in x else \"cultured\" for x in clone_meta.index]\n",
    "clone_meta"
   ]
  },
  {
   "cell_type": "markdown",
   "id": "322ef08b",
   "metadata": {},
   "source": [
    "## Input and culture in same heatmap- show clones that were significant in i'th Input cluster label and j'th culture cluster label"
   ]
  },
  {
   "cell_type": "code",
   "execution_count": null,
   "id": "01bce2a8",
   "metadata": {},
   "outputs": [],
   "source": []
  },
  {
   "cell_type": "code",
   "execution_count": null,
   "id": "b944802f",
   "metadata": {
    "scrolled": true
   },
   "outputs": [],
   "source": [
    "a_input = df.loc[(df[\"method\"] == \"hypergeo\") & (df[\"condition\"] == \"input\")].pivot(index=\"index\", columns=\"variable\", values=\"pval\")\n",
    "b_cultured = df.loc[(df[\"method\"] == \"hypergeo\") & (df[\"condition\"] == \"cultured\")].pivot(index=\"index\", columns=\"variable\", values=\"pval\")\n",
    "merged_df, merged_count_df = cs.merge_hypergeom(a_input, b_cultured, \n",
    "                                             \"Input\", \"Cultured\", p_thresh=p_thresh,\n",
    "                                             f_save=join(outdir, f\"culture_input_clone_lineages\"))\n"
   ]
  },
  {
   "cell_type": "code",
   "execution_count": null,
   "id": "bffd8fd7",
   "metadata": {
    "scrolled": true
   },
   "outputs": [],
   "source": [
    "a_sig = p_df_out[clone_meta[clone_meta[\"condition\"]==\"input\"].index]\n",
    "b_sig = p_df_out[clone_meta[clone_meta[\"condition\"]==\"cultured\"].index]\n",
    "a_sig.columns = [x.replace(\"_cultured\",\"\").replace(\"_input\",\"\") for x in a_sig.columns]\n",
    "b_sig.columns = [x.replace(\"_cultured\",\"\").replace(\"_input\",\"\") for x in b_sig.columns]"
   ]
  },
  {
   "cell_type": "code",
   "execution_count": null,
   "id": "9b3f8829",
   "metadata": {
    "scrolled": true
   },
   "outputs": [],
   "source": [
    "merged_df, merged_count_df = cs.merge_hypergeom(1/(1+a_sig), 1/(1+b_sig), \n",
    "                                               \"Input\", \"Cultured\", p_thresh=0.25,\n",
    "                                                title=\"Clones sig in a cluster in both the input and culture (score=4/4)\",\n",
    "                                                f_save=join(outdir,f\"sig_score4_culture_input_clone_lineages\"))\n",
    "\n",
    "\n",
    "merged_df, merged_count_df = cs.merge_hypergeom(1/(1+a_sig), 1/(1+b_sig), \n",
    "                                                \"Input\", \"Cultured\", p_thresh=0.33,\n",
    "                                                title=\"Clones sig in a cluster in both the input and culture (score=3/4)\",\n",
    "                                                f_save=join(outdir,f\"sig_score3_culture_input_clone_lineages\"))\n",
    "\n",
    "\n",
    "merged_df, merged_count_df = cs.merge_hypergeom(1/(1+a_sig), 1/(1+b_sig), \n",
    "                                             \"Input\", \"Cultured\", p_thresh=0.5,\n",
    "                                             title=\"Clones sig in a cluster in both the input and culture (score=2/4)\",\n",
    "                                             f_save=join(outdir,f\"sig_score2_culture_input_clone_lineages\"))\n",
    "\n",
    "\n",
    "merged_df, merged_count_df = cs.merge_hypergeom(1/(1+a_sig), 1/(1+b_sig), \n",
    "                                             \"Input\", \"Cultured\", p_thresh=1,\n",
    "                                             title=\"Clones sig in a cluster in both the input and culture (score=1/4)\",\n",
    "                                             f_save=join(outdir,f\"sig_score1_culture_input_clone_lineages\"))\n"
   ]
  },
  {
   "cell_type": "markdown",
   "id": "97a603c6",
   "metadata": {},
   "source": [
    "## Get the minimum of each clone shift. This will be used for rankigng later"
   ]
  },
  {
   "cell_type": "code",
   "execution_count": null,
   "id": "f0778873",
   "metadata": {
    "scrolled": true
   },
   "outputs": [],
   "source": [
    "p_df_sep = p_df_group.reset_index().groupby([\"index\", \"condition\"]).sum().reset_index()\n",
    "p_df_sep"
   ]
  },
  {
   "cell_type": "code",
   "execution_count": null,
   "id": "c896fa59",
   "metadata": {
    "scrolled": true
   },
   "outputs": [],
   "source": [
    "def sum_hyper_score(ser):\n",
    "    out = {}\n",
    "    tot = 0\n",
    "    for ind, val in p_df_sep[p_df_sep[\"index\"]==ser.name].iterrows():\n",
    "        out[f'hyper_score_{val[\"condition\"]}'] = val[0]\n",
    "        tot += val[0]\n",
    "    out[\"hyper_score\"] = tot\n",
    "    return out\n",
    "\n",
    "\n",
    "\n",
    "min_df = df.groupby([\"index\", \"method\", \"condition\"]).min()[\"pval\"].reset_index().sort_values(\"pval\")\n",
    "min_df\n",
    "\n",
    "min_df_wide = min_df.pivot(index=\"index\", values=\"pval\", columns=[\"method\", \"condition\"])\n",
    "min_df_wide.columns = ['_'.join(col).strip() for col in min_df_wide.columns.values] # flatten to 1D columns\n",
    "min_df_wide\n",
    "ncells_df[\"ncells\"] = ncells_df.sum(axis=1)\n",
    "min_df_wide = pd.concat((ncells_df, norm_ncells_df[[\"fold\"]], min_df_wide), axis=1)\n",
    "# min_df_wide = pd.merge(min_df_wide, norm_ncells_df, left_index=True, right_index=True, \n",
    "#                       suffixes=(\"\", \"_norm\"))\n",
    "\n",
    "\n",
    "if is_mt:\n",
    "    print(\"removing donor specific variants\")\n",
    "    print(min_df_wide.shape)\n",
    "    clone_order_keep = []\n",
    "    cells_meta = pd.read_csv(cells_meta_f, sep=\"\\t\", index_col=0)\n",
    "    kept_clones = []\n",
    "    kept_clones_cells = []\n",
    "    \n",
    "    for x in cells_meta.columns:\n",
    "        if \"cloneID_\" in x:\n",
    "            kept_clones_cells.append(x)\n",
    "            kept_clones.append(x.replace(\"cloneID_\", \"\"))\n",
    "    \n",
    "    min_df_wide = min_df_wide.loc[min_df_wide.index.isin(kept_clones)]\n",
    "    print(\"after removal\")\n",
    "    print(min_df_wide.shape)\n",
    "\n",
    "min_df_wide = min_df_wide.fillna(0)\n",
    "min_df_wide = min_df_wide.sort_values(\"ncells\", ascending=False)\n",
    "\n",
    "min_df_wide = pd.concat((min_df_wide.apply(sum_hyper_score, result_type='expand', axis=1), min_df_wide ), axis=1)\n",
    "min_df_wide\n",
    "\n",
    "frst_cols = [\"ncells\", \"hyper_score\", \"fold\"]\n",
    "min_df_wide = min_df_wide[frst_cols + [i for i in min_df_wide.columns.values if i not in frst_cols]]\n",
    "min_df_wide"
   ]
  },
  {
   "cell_type": "markdown",
   "id": "566f433f",
   "metadata": {},
   "source": [
    "# *Get the representative clones:\n",
    "a. top 3 by size  \n",
    "b. bottom 2 by size (min 10)  \n",
    "c. top 2 by clonal shift score  \n",
    "d. top 2 and bottom 2 by fold  \n",
    "\n",
    "Save how they were chosen. \n",
    "Put in this order (but if there's duplicates, drop those)\n",
    "\n",
    "\n"
   ]
  },
  {
   "cell_type": "code",
   "execution_count": null,
   "id": "1b3ebfab",
   "metadata": {
    "scrolled": true
   },
   "outputs": [],
   "source": [
    "def add_to_ord(k, out_ord):\n",
    "    if k not in out_ord:\n",
    "        out_ord.append(k)\n",
    "    return out_ord\n",
    "\n",
    "def rep_clones(df):\n",
    "    out_cl = {}\n",
    "    out_ord = []\n",
    "    \n",
    "    # ncells\n",
    "    \n",
    "    ## top ncells\n",
    "    ncells = df['ncells'].sort_values()[::-1]\n",
    "    \n",
    "    print('ncells')\n",
    "    print(ncells.shape)\n",
    "    out_cl[(\"ncells\", 1) ] = ncells.index[0]\n",
    "    out_ord.append(ncells.index[0])\n",
    "    \n",
    "    if ncells.shape[0] > 1:\n",
    "        out_cl[(\"ncells\", 2)] = ncells.index[1]\n",
    "        add_to_ord(ncells.index[1], out_ord)\n",
    "    \n",
    "    ## bottom ncells\n",
    "    ncells = ncells[ncells>10]\n",
    "    #if ncells\n",
    "    if len(ncells.shape) > 2: #more than just top 2\n",
    "        out_cl[(\"smallest_ncells\", 1)] = ncells.index[-1]\n",
    "        add_to_ord(ncells.index[-1], out_ord)\n",
    "        if len(ncells.shape) > 3:\n",
    "            out_cl[(\"smallest_ncells\", 2)] = ncells.index[-2]\n",
    "            add_to_ord(ncells.index[-2], out_ord)\n",
    "    \n",
    "    # hyper score\n",
    "    hyper_score = df['hyper_score'].sort_values()[::-1]\n",
    "    hyper_score = hyper_score[hyper_score>0]\n",
    "    for i in range(min(2, len(hyper_score))):\n",
    "        out_cl[(\"hyper\", i+1)] = hyper_score.index[i]\n",
    "        add_to_ord(hyper_score.index[i], out_ord)\n",
    "        \n",
    "    # fold in culture\n",
    "    fold = df['fold'].sort_values()[::-1]\n",
    "    out_cl[(\"culture_fold\", 1) ] = fold.index[0]\n",
    "    add_to_ord(fold.index[0], out_ord)\n",
    "    if fold.shape[0] > 1:    \n",
    "        out_cl[(\"culture_fold\", 2)] = fold.index[1]\n",
    "        add_to_ord(fold.index[1], out_ord)\n",
    "    \n",
    "    return out_cl, out_ord\n",
    "\n",
    "clone_reps, clone_rep_order = rep_clones(min_df_wide)\n",
    "print(clone_rep_order)\n",
    "clone_reps\n"
   ]
  },
  {
   "cell_type": "markdown",
   "id": "7d7c0021",
   "metadata": {},
   "source": [
    "## Save"
   ]
  },
  {
   "cell_type": "code",
   "execution_count": null,
   "id": "28a42d48",
   "metadata": {},
   "outputs": [],
   "source": [
    "with open(join(outdir, \"representative_cloneID.txt\"), 'w') as f:\n",
    "    f.write('\\n'.join(clone_rep_order))\n",
    "\n",
    "pd.Series(clone_reps).reset_index().to_csv(join(outdir, \"representative_cloneID.csv\"), header=None, \n",
    "                                           index=False)\n",
    "\n"
   ]
  },
  {
   "cell_type": "code",
   "execution_count": null,
   "id": "d94a5600",
   "metadata": {},
   "outputs": [],
   "source": []
  },
  {
   "cell_type": "code",
   "execution_count": null,
   "id": "52ab1967",
   "metadata": {},
   "outputs": [],
   "source": []
  }
 ],
 "metadata": {
  "celltoolbar": "Tags",
  "kernelspec": {
   "display_name": "Python 3 (ipykernel)",
   "language": "python",
   "name": "python3"
  },
  "language_info": {
   "codemirror_mode": {
    "name": "ipython",
    "version": 3
   },
   "file_extension": ".py",
   "mimetype": "text/x-python",
   "name": "python",
   "nbconvert_exporter": "python",
   "pygments_lexer": "ipython3",
   "version": "3.7.12"
  }
 },
 "nbformat": 4,
 "nbformat_minor": 5
}
