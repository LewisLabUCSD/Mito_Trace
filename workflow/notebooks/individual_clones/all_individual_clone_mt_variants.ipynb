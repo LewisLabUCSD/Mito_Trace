{
 "cells": [
  {
   "cell_type": "code",
   "execution_count": null,
   "id": "57a92ea7",
   "metadata": {
    "tags": [
     "parameters"
    ]
   },
   "outputs": [],
   "source": [
    "# cells_meta_f = \"/data/Mito_Trace/output/pipeline/v02/CHIP_b1/MTBlacklist_A2/data/merged/MT/cellr_True/numread_200/filters/minC10_minR50_topN0_hetT0.001_hetC10_hetCount5_bq20/mgatk/vireoIn/single_clones/donor1/cloneMethod_variants_init_knn_resolution_30/clonalShift_method_clones/cells_meta.tsv\"\n",
    "# indir = \"/data/Mito_Trace/output/pipeline/v02/CHIP_b1/MTBlacklist_A2/data/merged/MT/cellr_True/numread_200/filters/minC10_minR50_topN0_hetT0.001_hetC10_hetCount5_bq20/mgatk/vireoIn/multiplex/clones_init/donor1\"\n",
    "# outdir = \"/data/Mito_Trace/output/pipeline/v02/CHIP_b1/MTBlacklist_A2/data/merged/MT/cellr_True/numread_200/filters/minC10_minR50_topN0_hetT0.001_hetC10_hetCount5_bq20/mgatk/vireoIn/single_clones/donor1/cloneMethod_variants_init_knn_resolution_30/clonalShift_method_clones/top\"\n",
    "# clone_order_f = \"/data/Mito_Trace/output/pipeline/v02/CHIP_b1/MTBlacklist_A2/data/merged/MT/cellr_True/numread_200/filters/minC10_minR50_topN0_hetT0.001_hetC10_hetCount5_bq20/mgatk/vireoIn/single_clones/donor1/cloneMethod_variants_init_knn_resolution_30/clonalShift_method_clones/clones_ranked/cloneID_rank_ncells.txt\"\n",
    "\n",
    "cells_meta_f = \"/data/Mito_Trace/output/pipeline/v03/cd34norm/MTblacklist/data/merged/MT/cellr_True/numread_200/filters/minC10_minR50_topN0_hetT0.001_hetC10_hetCount5_bq20/mgatk/vireoIn/single_clones/donor1/cloneMethod_variants_simpleUnion_knn_resolution_30/clonalShift_method_dendro_bc/cells_meta.tsv\"\n",
    "indir = \"/data/Mito_Trace/output/pipeline/v03/cd34norm/MTblacklist/data/merged/MT/cellr_True/numread_200/filters/minC10_minR50_topN0_hetT0.001_hetC10_hetCount5_bq20/mgatk/vireoIn/multiplex/clones_simpleUnion/donor1\"\n",
    "outdir = \"/data/Mito_Trace/output/pipeline/v03/cd34norm/MTblacklist/data/merged/MT/cellr_True/numread_200/filters/minC10_minR50_topN0_hetT0.001_hetC10_hetCount5_bq20/mgatk/vireoIn/single_clones/donor1/cloneMethod_variants_simpleUnion_knn_resolution_30/clonalShift_method_dendro_bc/top\"\n",
    "clone_order_f = \"/data/Mito_Trace/output/pipeline/v03/cd34norm/MTblacklist/data/merged/MT/cellr_True/numread_200/filters/minC10_minR50_topN0_hetT0.001_hetC10_hetCount5_bq20/mgatk/vireoIn/single_clones/donor1/cloneMethod_variants_simpleUnion_knn_resolution_30/clonalShift_method_dendro_bc/clones_ranked/cloneID_rank_ncells.txt\"\n",
    "\n",
    "\n",
    "ntop_clones = -1 #unused parameters\n",
    "\n",
    "af_thresh = 0.001\n",
    "cov_thresh = 2\n",
    "ntop_vars=10\n",
    "\n"
   ]
  },
  {
   "cell_type": "code",
   "execution_count": null,
   "id": "4b786f82",
   "metadata": {},
   "outputs": [],
   "source": [
    "from os.path import join, exists, dirname\n",
    "from glob import glob\n",
    "import pickle\n",
    "import mplh.cluster_help as ch\n",
    "import mplh.fig_utils as fu\n",
    "\n",
    "import os\n",
    "import vireoSNP\n",
    "import numpy as np\n",
    "from scipy import sparse\n",
    "from scipy.io import mmread\n",
    "import matplotlib.pyplot as plt\n",
    "from scipy.stats import hypergeom\n",
    "print(vireoSNP.__version__)\n",
    "\n",
    "import pandas as pd\n",
    "import seaborn as sns\n",
    "from vireoSNP import Vireo\n",
    "np.set_printoptions(formatter={'float': lambda x: format(x, '.5f')})\n",
    "\n",
    "plt.rcParams['svg.fonttype'] = 'none'"
   ]
  },
  {
   "cell_type": "code",
   "execution_count": null,
   "id": "9ef3b4cb",
   "metadata": {},
   "outputs": [],
   "source": [
    "import seaborn as sns\n",
    "from mplh import cluster_help as ch\n",
    "from src.utils.data_io import reverse_ids\n"
   ]
  },
  {
   "cell_type": "code",
   "execution_count": null,
   "id": "bae1f94a",
   "metadata": {
    "scrolled": true
   },
   "outputs": [],
   "source": [
    "clone_order = pd.read_csv(clone_order_f, header=None)[0].values\n",
    "top_clones = clone_order #clone_order[:ntop_clones]\n",
    "top_clones"
   ]
  },
  {
   "cell_type": "code",
   "execution_count": null,
   "id": "7c493fdb",
   "metadata": {},
   "outputs": [],
   "source": [
    "clone_order"
   ]
  },
  {
   "cell_type": "code",
   "execution_count": null,
   "id": "de5387c3",
   "metadata": {},
   "outputs": [],
   "source": [
    "#af_indir = join(indir, \"sc_af\", f\"donor{DONOR}\")\n",
    "af_indir = indir\n",
    "\n",
    "AF_df = pd.read_csv(join(af_indir, \"af.tsv\"), index_col=0, sep=\"\\t\")\n",
    "DP_df = pd.read_csv(join(af_indir, \"dp.tsv\"), index_col=0, sep=\"\\t\")\n",
    "\n",
    "\n",
    "#out_f = join(outdir, f\"donor{DONOR}\")\n"
   ]
  },
  {
   "cell_type": "code",
   "execution_count": null,
   "id": "6d231c8d",
   "metadata": {},
   "outputs": [],
   "source": [
    "#donor_vars = AF_df>0.9"
   ]
  },
  {
   "cell_type": "code",
   "execution_count": null,
   "id": "12d770d9",
   "metadata": {
    "scrolled": true
   },
   "outputs": [],
   "source": [
    "cells_meta = pd.read_csv(cells_meta_f,sep=\"\\t\", index_col=0)\n",
    "cells_meta = reverse_ids(cells_meta)\n",
    "cells_meta"
   ]
  },
  {
   "cell_type": "markdown",
   "id": "cbf737f6",
   "metadata": {},
   "source": [
    "## Get donor-specific variants"
   ]
  },
  {
   "cell_type": "code",
   "execution_count": null,
   "id": "1c2b14bf",
   "metadata": {
    "scrolled": true
   },
   "outputs": [],
   "source": [
    "def get_high_variants(df, thresh, pct_thresh):\n",
    "    \"\"\" Remove rows that have an average higher than threshold\n",
    "\n",
    "    :param df:\n",
    "    :param thresh:\n",
    "    :return:\n",
    "    \"\"\"\n",
    "    n_pct = pct_thresh*df.shape[0]\n",
    "    return df.loc[:,((df>thresh).sum()>n_pct)].columns.values\n",
    "\n",
    "\n",
    "donor_vars = get_high_variants(AF_df, thresh=0.8, pct_thresh=0.9)\n",
    "print(f\"number of donor vars: {len(donor_vars)}\")\n"
   ]
  },
  {
   "cell_type": "markdown",
   "id": "fe57105c",
   "metadata": {},
   "source": [
    "## Filter for clone"
   ]
  },
  {
   "cell_type": "code",
   "execution_count": null,
   "id": "dae096f1",
   "metadata": {},
   "outputs": [],
   "source": [
    "AF_df = AF_df.transpose()\n",
    "DP_df = DP_df.transpose()"
   ]
  },
  {
   "cell_type": "code",
   "execution_count": null,
   "id": "21ca2ffd",
   "metadata": {},
   "outputs": [],
   "source": [
    "AF_df.head()"
   ]
  },
  {
   "cell_type": "markdown",
   "id": "7b73eef4",
   "metadata": {},
   "source": [
    "## Remove donor-specific variants"
   ]
  },
  {
   "cell_type": "code",
   "execution_count": null,
   "id": "bb3c9dae",
   "metadata": {},
   "outputs": [],
   "source": [
    "# Remove Donor variannts\n",
    "AF_df = AF_df.loc[~(AF_df.index.isin(donor_vars))]\n",
    "DP_df = DP_df.loc[AF_df.index, AF_df.columns] "
   ]
  },
  {
   "cell_type": "markdown",
   "id": "240ebe98",
   "metadata": {},
   "source": [
    "# Figure: 1: barplot for each clone, where x=Variant, and the % of cells (and raw) in the clone that has the variant and % of cells from other clone with variant\n"
   ]
  },
  {
   "cell_type": "code",
   "execution_count": null,
   "id": "ce643b5a",
   "metadata": {
    "scrolled": true
   },
   "outputs": [],
   "source": [
    "top_cells_meta = cells_meta[cells_meta[\"cloneID\"].isin(top_clones)] \n",
    "top_cells_meta"
   ]
  },
  {
   "cell_type": "code",
   "execution_count": null,
   "id": "24c967ae",
   "metadata": {
    "scrolled": true
   },
   "outputs": [],
   "source": [
    "bin_AF_df = (AF_df > af_thresh) & (DP_df > cov_thresh)\n",
    "bin_AF_df"
   ]
  },
  {
   "cell_type": "markdown",
   "id": "b6f8433d",
   "metadata": {},
   "source": [
    "## Create variant-clone (and non-clone) percent of cells in clone with variant"
   ]
  },
  {
   "cell_type": "code",
   "execution_count": null,
   "id": "c8255e60",
   "metadata": {
    "scrolled": true
   },
   "outputs": [],
   "source": [
    "def calc_clone_pct(data, **kwargs):\n",
    "    curr_AF_df = bin_AF_df.loc[:,data.index]\n",
    "    other_curr_AF_df = bin_AF_df.loc[:, ~(bin_AF_df.columns.isin(data.index))]\n",
    "    \n",
    "    curr_AF_tot = curr_AF_df.sum(axis=1)\n",
    "    curr_AF_pct = 100*curr_AF_tot/curr_AF_df.shape[1]\n",
    "    \n",
    "    other_curr_AF_tot = other_curr_AF_df.sum(axis=1)\n",
    "    other_curr_AF_pct = 100*other_curr_AF_tot/other_curr_AF_df.shape[1]\n",
    "        \n",
    "    return pd.concat((pd.DataFrame(curr_AF_pct).rename({0:\"clone_pct\"}, axis=1),\n",
    "               pd.DataFrame(other_curr_AF_pct).rename({0:\"other_clone_pct\"}, axis=1)),axis=1, \n",
    "             ignore_index=False).rename_axis(\"variant\")\n",
    "    \n",
    "\n",
    "pct_clones_df = top_cells_meta.groupby(\"cloneID\").apply(calc_clone_pct).reset_index()\n",
    "pct_clones_df"
   ]
  },
  {
   "cell_type": "markdown",
   "id": "9402c858",
   "metadata": {},
   "source": [
    "## Rank variants for each clone by sorting by mannwhitneyu test of allele-frequency\n"
   ]
  },
  {
   "cell_type": "code",
   "execution_count": null,
   "id": "d56ae3fe",
   "metadata": {},
   "outputs": [],
   "source": [
    "from scipy.stats import mannwhitneyu"
   ]
  },
  {
   "cell_type": "code",
   "execution_count": null,
   "id": "f62ef6ab",
   "metadata": {
    "scrolled": true
   },
   "outputs": [],
   "source": [
    "def rank_unique_vars_clone_af(clone_cells):\n",
    "    clones_af = AF_df.loc[:,clone_cells.index].fillna(0)\n",
    "    other_clones_af = AF_df.loc[:, ~(AF_df.columns.isin(clone_cells.index))].fillna(0)\n",
    "    pvals = mannwhitneyu(clones_af, other_clones_af, alternative='greater', axis=1).pvalue\n",
    "    rankings = pd.DataFrame(index=clones_af.index,data=pvals).rank(method=\"min\").rename({0:\"rank\"}, axis=1) # np.argsort(pvals)\n",
    "    #print(type(rankings))\n",
    "    #print('rankings', rankings)\n",
    "\n",
    "    rankings[\"pval\"] = pvals\n",
    "    rankings[\"rank\"]= rankings[\"rank\"].astype('int')\n",
    "    #print('rankings', rankings)\n",
    "    #print('rankings', rankings.head())\n",
    "    rankings.index.name = \"variant\"\n",
    "    return rankings\n",
    "\n",
    "pvals_df = cells_meta.groupby(\"cloneID\").apply(rank_unique_vars_clone_af).reset_index()\n",
    "pvals_df"
   ]
  },
  {
   "cell_type": "code",
   "execution_count": null,
   "id": "8d307ffb",
   "metadata": {
    "scrolled": false
   },
   "outputs": [],
   "source": [
    "pct_pvals_df = pd.merge(pct_clones_df, pvals_df, on=[\"cloneID\", \"variant\"])\n",
    "pct_pvals_df"
   ]
  },
  {
   "cell_type": "code",
   "execution_count": null,
   "id": "30775614",
   "metadata": {},
   "outputs": [],
   "source": [
    "def plot_pct_bar(data, **kwargs):\n",
    "    ntop_vars = kwargs.get(\"ntop_vars\", 0)\n",
    "    data = data.set_index(\"variant\")\n",
    "    if ntop_vars != 0:\n",
    "        data = data[data['rank']<ntop_vars].sort_values(\"rank\")\n",
    "        data[[\"clone_pct\", \"other_clone_pct\"]].plot.bar(ax=plt.gca())\n",
    "        plt.gca().set_ylabel(\"% cells with variant\")\n",
    "    else:\n",
    "        data = data.loc[(data[\"clone_pct\"]-data[\"other_clone_pct\"]).sort_values()[::-1].index]\n",
    "        #data = data.sort_values(\"clone_pct\")[::-1]\n",
    "        #print(data[\"clone_pct\"]-data[\"other_clone_pct\"])\n",
    "        pd.DataFrame((data[\"clone_pct\"]-data[\"other_clone_pct\"])).plot.bar(ax=plt.gca())\n",
    "        plt.gca().set_ylabel(\"(% cells in clone with variant) - (%cells not in clone with variant)\")\n",
    "    #plt.gca().legend(loc='best') \n",
    "    return"
   ]
  },
  {
   "cell_type": "markdown",
   "id": "ef104ca2",
   "metadata": {},
   "source": [
    "## Figure: Barplot of percent in clone vs percent not in clone"
   ]
  },
  {
   "cell_type": "code",
   "execution_count": null,
   "id": "ded3f5e2",
   "metadata": {},
   "outputs": [],
   "source": [
    "outdir"
   ]
  },
  {
   "cell_type": "code",
   "execution_count": null,
   "id": "d7db7a57",
   "metadata": {
    "scrolled": true
   },
   "outputs": [],
   "source": [
    "g = sns.FacetGrid(data=pct_pvals_df, col = \"cloneID\", col_wrap=1, height=4, aspect=3,\n",
    "                 sharex=False, sharey=False)\n",
    "g.map_dataframe(plot_pct_bar, ntop_vars=ntop_vars)\n",
    "g.fig.suptitle(\"% cells in clone with variant vs % cells not in clone with variant\", y=1.02)\n",
    "#g.fig.savefig(fname=join(outdir, f\"all_variants_distinct_pct_vs_other.pdf\"), dpi=500, bbox_inches='tight', pad_inches=0.5)\n",
    "g.fig.savefig(fname=join(outdir, f\"all_variants_distinct_pct_vs_other.svg\"), dpi=500, bbox_inches='tight', pad_inches=0.5)\n",
    "\n",
    "plt.tight_layout()\n",
    "plt.legend()"
   ]
  },
  {
   "cell_type": "code",
   "execution_count": null,
   "id": "5fa34524",
   "metadata": {},
   "outputs": [],
   "source": [
    "def plot_violin(data, **kwargs):\n",
    "    ntop_vars = kwargs.get(\"ntop_vars\", 0)\n",
    "    curr_clone = data[\"cloneID\"].values[0]\n",
    "    print('curr_clone', curr_clone)\n",
    "    curr_AF_df = AF_df.loc[:,data.index]\n",
    "    other_curr_AF_df = AF_df.loc[:, ~(AF_df.columns.isin(data.index))]\n",
    "    \n",
    "    curr_AF_df = curr_AF_df.reset_index().melt(id_vars='index', var_name=\"cell\", value_name=\"AF\")\n",
    "    curr_AF_df[\"type\"] = \"clone\"\n",
    "    \n",
    "    other_curr_AF_df = other_curr_AF_df.reset_index().melt(id_vars='index', var_name=\"cell\", value_name=\"AF\")\n",
    "    other_curr_AF_df[\"type\"] = \"other\"\n",
    "    curr_merge_df = pd.concat((curr_AF_df, other_curr_AF_df), axis=0)\n",
    "    curr_merge_df = curr_merge_df.rename({\"index\":\"variant\"}, axis=1)\n",
    "    print(curr_merge_df.head())\n",
    "    if ntop_vars != 0:\n",
    "        print(pct_pvals_df[(pct_pvals_df[\"cloneID\"]==curr_clone)])\n",
    "        if pct_pvals_df[(pct_pvals_df[\"cloneID\"]==curr_clone)].shape[0] == 0:\n",
    "            return\n",
    "        curr_top_vars = pct_pvals_df[(pct_pvals_df[\"cloneID\"]==curr_clone) & (pct_pvals_df[\"rank\"]<=ntop_vars)].sort_values(\"rank\")[\"variant\"].values\n",
    "        print('top vars', curr_top_vars)\n",
    "        #print('before top vars',curr_merge_df.shape)\n",
    "        curr_merge_df = curr_merge_df[curr_merge_df[\"variant\"].isin(curr_top_vars)] #data[data['rank']<ntop_vars].sort_values(\"rank\")\n",
    "        #print('after top vars',curr_merge_df.shape)\n",
    "        \n",
    "    sns.boxenplot(data=curr_merge_df, x=\"variant\", y=\"AF\", hue=\"type\", ax=plt.gca())\n",
    "    return \n",
    "    "
   ]
  },
  {
   "cell_type": "markdown",
   "id": "ec66c137",
   "metadata": {},
   "source": [
    "# Plot variants as row and clone as x AF violin"
   ]
  },
  {
   "cell_type": "code",
   "execution_count": null,
   "id": "8f6b3f20",
   "metadata": {
    "scrolled": true
   },
   "outputs": [],
   "source": [
    "def long_af(ser, cells_meta):\n",
    "    v = ser.name\n",
    "    cells_meta[\"Variant\"] = v\n",
    "    #print('ser', pd.DataFrame(ser))\n",
    "    cells_meta  = pd.merge(pd.DataFrame(ser).rename({v:\"af\"}, axis=1), \n",
    "             cells_meta, left_index=True, right_index=True, how='inner' )\n",
    "    #cells_meta.loc[ser.index, \"AF\"] = ser\n",
    "    return cells_meta\n",
    "    \n",
    "long_af = AF_df.apply(long_af, cells_meta=cells_meta, axis=1)\n",
    "long_af = pd.concat(long_af.values, axis=0)"
   ]
  },
  {
   "cell_type": "code",
   "execution_count": null,
   "id": "e2004fde",
   "metadata": {
    "scrolled": true
   },
   "outputs": [],
   "source": [
    "vars_min_over_median = pct_pvals_df.groupby(\"variant\").apply(lambda x: min(x['rank']+1)/np.median(x['rank']+1))\n",
    "vars_min_over_median = vars_min_over_median.sort_values()\n",
    "vars_order = vars_min_over_median.index\n",
    "vars_min_over_median\n"
   ]
  },
  {
   "cell_type": "code",
   "execution_count": null,
   "id": "8e440b36",
   "metadata": {},
   "outputs": [],
   "source": [
    "print(len(vars_order))\n",
    "vars_order = [x for x in vars_order if x in long_af[\"Variant\"].values]\n",
    "print(len(vars_order))\n",
    "vars_order"
   ]
  },
  {
   "cell_type": "code",
   "execution_count": null,
   "id": "f6b69c73",
   "metadata": {
    "scrolled": true
   },
   "outputs": [],
   "source": [
    "# try:\n",
    "#     g = sns.catplot(data=long_af, x=\"cloneID\", y=\"af\", col=\"Variant\", col_wrap=2, kind='boxen', \n",
    "#                 sharey=False, col_order=vars_order,\n",
    "#                 height=4, aspect=2, order=top_clones)\n",
    "#     g.fig.savefig(fname=join(outdir, f\"all_variants_af.svg\"), dpi=500, bbox_inches='tight', pad_inches=0.5)\n",
    "# except ValueError as e:\n",
    "nvars = len(vars_order)\n",
    "nfigs = int(np.round(nvars/16))\n",
    "out_fs = []\n",
    "for curr_f in range(nfigs):\n",
    "    end_ind = min((curr_f+1)*16, nvars)\n",
    "    curr_vars = vars_order[(curr_f*16):end_ind]\n",
    "    print('curr_vars', len(curr_vars), curr_vars)\n",
    "    curr_file = join(outdir, f\"all_variants_{curr_f+1}_{(end_ind+1)*16}_af.svg\")\n",
    "    g = sns.catplot(data=long_af, x=\"cloneID\", y=\"af\", col=\"Variant\", col_wrap=2, kind='boxen', \n",
    "                sharey=False, col_order=curr_vars,\n",
    "                order=top_clones, height=2, aspect=2)\n",
    "    g.fig.savefig(fname=curr_file, bbox_inches='tight', pad_inches=0.5)\n",
    "    out_fs.append(curr_file)\n",
    "    plt.close()\n",
    "cmd = f\"svg_stack.py --direction=h --margin=100 {' '.join(out_fs)} > {join(outdir, 'all_variants_af.svg')}\"\n",
    "print(cmd)\n",
    "os.system(cmd)\n",
    "    #!{cmd}\n",
    "\n",
    "    #g.fig.savefig(fname=join(outdir, f\"top_variants_af.pdf\"), dpi=500, bbox_inches='tight', pad_inches=0.5)\n"
   ]
  },
  {
   "cell_type": "code",
   "execution_count": null,
   "id": "9b361c1c",
   "metadata": {},
   "outputs": [],
   "source": [
    "outdir"
   ]
  },
  {
   "cell_type": "markdown",
   "id": "165c68e8",
   "metadata": {},
   "source": [
    "## Overlapping variants across clones"
   ]
  },
  {
   "cell_type": "code",
   "execution_count": null,
   "id": "7bc0ff5d",
   "metadata": {},
   "outputs": [],
   "source": []
  }
 ],
 "metadata": {
  "celltoolbar": "Tags",
  "kernelspec": {
   "display_name": "Python 3 (ipykernel)",
   "language": "python",
   "name": "python3"
  },
  "language_info": {
   "codemirror_mode": {
    "name": "ipython",
    "version": 3
   },
   "file_extension": ".py",
   "mimetype": "text/x-python",
   "name": "python",
   "nbconvert_exporter": "python",
   "pygments_lexer": "ipython3",
   "version": "3.7.12"
  }
 },
 "nbformat": 4,
 "nbformat_minor": 5
}
