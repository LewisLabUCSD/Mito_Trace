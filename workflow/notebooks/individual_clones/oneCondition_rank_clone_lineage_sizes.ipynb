{
 "cells": [
  {
   "cell_type": "code",
   "execution_count": 1,
   "id": "dec027fb",
   "metadata": {
    "tags": [
     "parameters"
    ]
   },
   "outputs": [],
   "source": [
    "# indir = \"/data/Mito_Trace/output/pipeline/v03/cd34norm/MTblacklist/data/merged/MT/cellr_True/numread_200/filters/minC10_minR50_topN0_hetT0.001_hetC10_hetCount5_bq20/mgatk/vireoIn/clonal_shifts/variants_simpleUnion/donors/donor1/dendro_bc/knn_kparam_30\"\n",
    "# outdir = \"/data/Mito_Trace/output/pipeline/v03/cd34norm/MTblacklist/data/merged/MT/cellr_True/numread_200/filters/minC10_minR50_topN0_hetT0.001_hetC10_hetCount5_bq20/mgatk/vireoIn/single_clones/donor1/cloneMethod_variants_simpleUnion_knn_resolution_30/clonalShift_method_dendro_bc/clones_ranked\"\n",
    "# #only used if clone is mt, to remove some clones. see where we save the csv and text file\n",
    "# is_mt = False\n",
    "# cells_meta_f = \"/data/Mito_Trace/output/pipeline/v03/cd34norm/MTblacklist/data/merged/MT/cellr_True/numread_200/filters/minC10_minR50_topN0_hetT0.001_hetC10_hetCount5_bq20/mgatk/vireoIn/single_clones/donor1/cloneMethod_variants_simpleUnion_knn_resolution_30/clonalShift_method_dendro_bc/cells_meta.tsv\"\n",
    "# condition = \"noInput\"\n",
    "\n",
    "indir = \"/data/Mito_Trace/output/pipeline/v04/CHIP_b2/InputOnly/MTBlacklist_A2/data/merged/MT/cellr_True/numread_200/filters/minC10_minR50_topN0_hetT0.001_hetC10_hetCount5_bq20/mgatk/vireoIn/clonal_shifts/variants_init/donors/donor1/dendro_bc/knn_kparam_30\"\n",
    "outdir = \"/data/Mito_Trace/output/pipeline/v04/CHIP_b2/InputOnly/MTBlacklist_A2/data/merged/MT/cellr_True/numread_200/filters/minC10_minR50_topN0_hetT0.001_hetC10_hetCount5_bq20/mgatk/vireoIn/single_clones/donor1/cloneMethod_variants_init_knn_resolution_30/clonalShift_method_dendro_bc/clones_ranked\"\n",
    "cells_meta_f = \"/data/Mito_Trace/output/pipeline/v04/CHIP_b2/InputOnly/MTBlacklist_A2/data/merged/MT/cellr_True/numread_200/filters/minC10_minR50_topN0_hetT0.001_hetC10_hetCount5_bq20/mgatk/vireoIn/single_clones/donor1/cloneMethod_variants_init_knn_resolution_30/clonalShift_method_dendro_bc/cells_meta.tsv\"\n",
    "is_mt = False\n",
    "condition = \"inputOnly\"\n",
    "\n",
    "\n",
    "p_thresh = 0.1 \n",
    "clone_id = \"cloneID\" # \"den_clust\"\n",
    "\n"
   ]
  },
  {
   "cell_type": "code",
   "execution_count": 2,
   "id": "0c0c9ace",
   "metadata": {},
   "outputs": [],
   "source": [
    "if condition != \"inputOnly\" and condition != \"noInput\":\n",
    "    raise ValueError(\"condition needs to be inputOnly or noInput\")\n",
    "suffix = \"cultured\" if condition == \"noInput\" else \"input\""
   ]
  },
  {
   "cell_type": "code",
   "execution_count": 3,
   "id": "c5043a9f",
   "metadata": {},
   "outputs": [],
   "source": [
    "%load_ext autoreload\n",
    "%autoreload 2\n"
   ]
  },
  {
   "cell_type": "code",
   "execution_count": 4,
   "id": "81f2cc40",
   "metadata": {},
   "outputs": [
    {
     "name": "stdout",
     "output_type": "stream",
     "text": [
      "The autoreload extension is already loaded. To reload it, use:\n",
      "  %reload_ext autoreload\n",
      "fig_utils from mplh\n"
     ]
    }
   ],
   "source": [
    "%load_ext autoreload\n",
    "%autoreload 2\n",
    "from glob import glob\n",
    "import pandas as pd\n",
    "import numpy as np\n",
    "from os.path import join, exists\n",
    "import os\n",
    "from tqdm.notebook import tqdm\n",
    "\n",
    "from scipy.stats import hypergeom, fisher_exact\n",
    "from statsmodels.stats import multitest \n",
    "\n",
    "import seaborn as sns\n",
    "import matplotlib.pyplot as plt\n",
    "\n",
    "from src import clonal_shifts as cs\n",
    "from icecream import ic\n",
    "\n",
    "from mplh import cluster_help as ch\n",
    "\n",
    "from scipy.stats import rankdata, gmean\n"
   ]
  },
  {
   "cell_type": "markdown",
   "id": "83b70b97",
   "metadata": {},
   "source": [
    "## Load ncells and save to output. Sort by ncells"
   ]
  },
  {
   "cell_type": "code",
   "execution_count": 5,
   "id": "f5f0918d",
   "metadata": {
    "scrolled": true
   },
   "outputs": [
    {
     "data": {
      "text/html": [
       "<div>\n",
       "<style scoped>\n",
       "    .dataframe tbody tr th:only-of-type {\n",
       "        vertical-align: middle;\n",
       "    }\n",
       "\n",
       "    .dataframe tbody tr th {\n",
       "        vertical-align: top;\n",
       "    }\n",
       "\n",
       "    .dataframe thead th {\n",
       "        text-align: right;\n",
       "    }\n",
       "</style>\n",
       "<table border=\"1\" class=\"dataframe\">\n",
       "  <thead>\n",
       "    <tr style=\"text-align: right;\">\n",
       "      <th></th>\n",
       "      <th>count_input</th>\n",
       "    </tr>\n",
       "    <tr>\n",
       "      <th>cloneID</th>\n",
       "      <th></th>\n",
       "    </tr>\n",
       "  </thead>\n",
       "  <tbody>\n",
       "    <tr>\n",
       "      <th>1_C1</th>\n",
       "      <td>2284</td>\n",
       "    </tr>\n",
       "    <tr>\n",
       "      <th>1_C0</th>\n",
       "      <td>66</td>\n",
       "    </tr>\n",
       "  </tbody>\n",
       "</table>\n",
       "</div>"
      ],
      "text/plain": [
       "         count_input\n",
       "cloneID             \n",
       "1_C1            2284\n",
       "1_C0              66"
      ]
     },
     "execution_count": 5,
     "metadata": {},
     "output_type": "execute_result"
    }
   ],
   "source": [
    "ncells_df = pd.read_csv(join(indir, f\"{condition}_ncells.csv\"),  index_col=0)\n",
    "ncells_df = ncells_df.groupby(clone_id).sum()[[\"count\"]].sort_values(by=\"count\")[::-1]\n",
    "\n",
    "ncells_df.columns = [f\"{x}_{suffix}\" for x in ncells_df.columns]\n",
    "\n",
    "\n",
    "#ncells_df = pd.merge(input_ncells,ncells_df,left_index=True, right_index=True, suffixes=[\"_input\", \"_cultured\"])\n",
    "ncells_df = ncells_df.loc[ncells_df.sum(axis=1).sort_values()[::-1].index]\n",
    "ncells_df"
   ]
  },
  {
   "cell_type": "markdown",
   "id": "2b68c7f7",
   "metadata": {},
   "source": [
    "## Load shuffle hypergeometric results for input and cultured\n",
    "## Convert into long df with cloneID ('index'), clusterID ('variable'), pval, method (hypergeo or one of four shuffle methods), and condition ('input' or 'cultured')"
   ]
  },
  {
   "cell_type": "code",
   "execution_count": 6,
   "id": "a620f6af",
   "metadata": {
    "scrolled": true
   },
   "outputs": [
    {
     "data": {
      "text/html": [
       "<div>\n",
       "<style scoped>\n",
       "    .dataframe tbody tr th:only-of-type {\n",
       "        vertical-align: middle;\n",
       "    }\n",
       "\n",
       "    .dataframe tbody tr th {\n",
       "        vertical-align: top;\n",
       "    }\n",
       "\n",
       "    .dataframe thead th {\n",
       "        text-align: right;\n",
       "    }\n",
       "</style>\n",
       "<table border=\"1\" class=\"dataframe\">\n",
       "  <thead>\n",
       "    <tr style=\"text-align: right;\">\n",
       "      <th></th>\n",
       "      <th>index</th>\n",
       "      <th>variable</th>\n",
       "      <th>pval</th>\n",
       "      <th>method</th>\n",
       "      <th>condition</th>\n",
       "    </tr>\n",
       "  </thead>\n",
       "  <tbody>\n",
       "    <tr>\n",
       "      <th>0</th>\n",
       "      <td>1_C0</td>\n",
       "      <td>0</td>\n",
       "      <td>0.640000</td>\n",
       "      <td>hypergeo</td>\n",
       "      <td>input</td>\n",
       "    </tr>\n",
       "    <tr>\n",
       "      <th>1</th>\n",
       "      <td>1_C1</td>\n",
       "      <td>0</td>\n",
       "      <td>0.992636</td>\n",
       "      <td>hypergeo</td>\n",
       "      <td>input</td>\n",
       "    </tr>\n",
       "    <tr>\n",
       "      <th>2</th>\n",
       "      <td>1_C0</td>\n",
       "      <td>1</td>\n",
       "      <td>0.357359</td>\n",
       "      <td>hypergeo</td>\n",
       "      <td>input</td>\n",
       "    </tr>\n",
       "    <tr>\n",
       "      <th>3</th>\n",
       "      <td>1_C1</td>\n",
       "      <td>1</td>\n",
       "      <td>0.992636</td>\n",
       "      <td>hypergeo</td>\n",
       "      <td>input</td>\n",
       "    </tr>\n",
       "    <tr>\n",
       "      <th>4</th>\n",
       "      <td>1_C0</td>\n",
       "      <td>2</td>\n",
       "      <td>0.992636</td>\n",
       "      <td>hypergeo</td>\n",
       "      <td>input</td>\n",
       "    </tr>\n",
       "    <tr>\n",
       "      <th>...</th>\n",
       "      <td>...</td>\n",
       "      <td>...</td>\n",
       "      <td>...</td>\n",
       "      <td>...</td>\n",
       "      <td>...</td>\n",
       "    </tr>\n",
       "    <tr>\n",
       "      <th>95</th>\n",
       "      <td>1_C1</td>\n",
       "      <td>7</td>\n",
       "      <td>1.000000</td>\n",
       "      <td>clone_min</td>\n",
       "      <td>input</td>\n",
       "    </tr>\n",
       "    <tr>\n",
       "      <th>96</th>\n",
       "      <td>1_C0</td>\n",
       "      <td>8</td>\n",
       "      <td>1.000000</td>\n",
       "      <td>clone_min</td>\n",
       "      <td>input</td>\n",
       "    </tr>\n",
       "    <tr>\n",
       "      <th>97</th>\n",
       "      <td>1_C1</td>\n",
       "      <td>8</td>\n",
       "      <td>1.000000</td>\n",
       "      <td>clone_min</td>\n",
       "      <td>input</td>\n",
       "    </tr>\n",
       "    <tr>\n",
       "      <th>98</th>\n",
       "      <td>1_C0</td>\n",
       "      <td>9</td>\n",
       "      <td>1.000000</td>\n",
       "      <td>clone_min</td>\n",
       "      <td>input</td>\n",
       "    </tr>\n",
       "    <tr>\n",
       "      <th>99</th>\n",
       "      <td>1_C1</td>\n",
       "      <td>9</td>\n",
       "      <td>1.000000</td>\n",
       "      <td>clone_min</td>\n",
       "      <td>input</td>\n",
       "    </tr>\n",
       "  </tbody>\n",
       "</table>\n",
       "<p>100 rows × 5 columns</p>\n",
       "</div>"
      ],
      "text/plain": [
       "   index variable      pval     method condition\n",
       "0   1_C0        0  0.640000   hypergeo     input\n",
       "1   1_C1        0  0.992636   hypergeo     input\n",
       "2   1_C0        1  0.357359   hypergeo     input\n",
       "3   1_C1        1  0.992636   hypergeo     input\n",
       "4   1_C0        2  0.992636   hypergeo     input\n",
       "..   ...      ...       ...        ...       ...\n",
       "95  1_C1        7  1.000000  clone_min     input\n",
       "96  1_C0        8  1.000000  clone_min     input\n",
       "97  1_C1        8  1.000000  clone_min     input\n",
       "98  1_C0        9  1.000000  clone_min     input\n",
       "99  1_C1        9  1.000000  clone_min     input\n",
       "\n",
       "[100 rows x 5 columns]"
      ]
     },
     "execution_count": 6,
     "metadata": {},
     "output_type": "execute_result"
    }
   ],
   "source": [
    "hyper = pd.read_csv(join(indir, \"hypergeo_pvals.csv\"),  index_col=0)\n",
    "shuffle_df = pd.read_csv(join(indir, \"shuffle_results_pvals.csv\"), index_col=0)\n",
    "shuffle_df = shuffle_df.rename({\"value\":\"pval\"}, axis=1)\n",
    "shuffle_df[\"condition\"] = suffix\n",
    "\n",
    "hyper_df = hyper.reset_index().melt(id_vars=\"index\", value_name=\"pval\")\n",
    "hyper_df[\"method\"] = \"hypergeo\"\n",
    "hyper_df[\"condition\"] = suffix\n",
    "\n",
    "\n",
    "#noInput_df = pd.concat((noInput_hyper_df, noInput_shuffle_df), axis=0, ignore_index=True)\n",
    "#df = pd.concat((input_df, noInput_df), axis=0).reset_index(drop=True)\n",
    "df = pd.concat((hyper_df, shuffle_df), axis=0, ignore_index=True)\n",
    "\n",
    "df[\"variable\"] = df[\"variable\"].astype(object).astype(str)\n",
    "\n",
    "\n",
    "df"
   ]
  },
  {
   "cell_type": "code",
   "execution_count": 7,
   "id": "91d6a441",
   "metadata": {},
   "outputs": [
    {
     "data": {
      "text/plain": [
       "array(['hypergeo', 'global_all', 'global_min', 'clone_all', 'clone_min'],\n",
       "      dtype=object)"
      ]
     },
     "execution_count": 7,
     "metadata": {},
     "output_type": "execute_result"
    }
   ],
   "source": [
    "df[\"method\"].unique()"
   ]
  },
  {
   "cell_type": "markdown",
   "id": "8f3b8493",
   "metadata": {},
   "source": [
    "## Create 'sig score' that merges the hypergeo and the shuffle results. Score 0-4, with 4 the highest"
   ]
  },
  {
   "cell_type": "code",
   "execution_count": 8,
   "id": "333b44b7",
   "metadata": {
    "scrolled": true
   },
   "outputs": [
    {
     "data": {
      "text/html": [
       "<div>\n",
       "<style scoped>\n",
       "    .dataframe tbody tr th:only-of-type {\n",
       "        vertical-align: middle;\n",
       "    }\n",
       "\n",
       "    .dataframe tbody tr th {\n",
       "        vertical-align: top;\n",
       "    }\n",
       "\n",
       "    .dataframe thead th {\n",
       "        text-align: right;\n",
       "    }\n",
       "</style>\n",
       "<table border=\"1\" class=\"dataframe\">\n",
       "  <thead>\n",
       "    <tr style=\"text-align: right;\">\n",
       "      <th>cluster_condition</th>\n",
       "      <th>0_input</th>\n",
       "      <th>1_input</th>\n",
       "      <th>2_input</th>\n",
       "      <th>3_input</th>\n",
       "      <th>4_input</th>\n",
       "      <th>5_input</th>\n",
       "      <th>6_input</th>\n",
       "      <th>7_input</th>\n",
       "      <th>8_input</th>\n",
       "      <th>9_input</th>\n",
       "    </tr>\n",
       "    <tr>\n",
       "      <th>index</th>\n",
       "      <th></th>\n",
       "      <th></th>\n",
       "      <th></th>\n",
       "      <th></th>\n",
       "      <th></th>\n",
       "      <th></th>\n",
       "      <th></th>\n",
       "      <th></th>\n",
       "      <th></th>\n",
       "      <th></th>\n",
       "    </tr>\n",
       "  </thead>\n",
       "  <tbody>\n",
       "    <tr>\n",
       "      <th>1_C0</th>\n",
       "      <td>0</td>\n",
       "      <td>0</td>\n",
       "      <td>0</td>\n",
       "      <td>0</td>\n",
       "      <td>0</td>\n",
       "      <td>0</td>\n",
       "      <td>0</td>\n",
       "      <td>1</td>\n",
       "      <td>0</td>\n",
       "      <td>0</td>\n",
       "    </tr>\n",
       "    <tr>\n",
       "      <th>1_C1</th>\n",
       "      <td>0</td>\n",
       "      <td>0</td>\n",
       "      <td>1</td>\n",
       "      <td>0</td>\n",
       "      <td>0</td>\n",
       "      <td>0</td>\n",
       "      <td>0</td>\n",
       "      <td>0</td>\n",
       "      <td>0</td>\n",
       "      <td>0</td>\n",
       "    </tr>\n",
       "  </tbody>\n",
       "</table>\n",
       "</div>"
      ],
      "text/plain": [
       "cluster_condition  0_input  1_input  2_input  3_input  4_input  5_input  \\\n",
       "index                                                                     \n",
       "1_C0                     0        0        0        0        0        0   \n",
       "1_C1                     0        0        1        0        0        0   \n",
       "\n",
       "cluster_condition  6_input  7_input  8_input  9_input  \n",
       "index                                                  \n",
       "1_C0                     0        1        0        0  \n",
       "1_C1                     0        0        0        0  "
      ]
     },
     "execution_count": 8,
     "metadata": {},
     "output_type": "execute_result"
    }
   ],
   "source": [
    "p_df = df.copy()\n",
    "p_df[\"is_sig\"] = p_df[\"pval\"]<p_thresh\n",
    "p_df\n",
    "\n",
    "def check_sig(x):\n",
    "    #print(x.head())\n",
    "    name, clust, cond = x.name\n",
    "    x = x.set_index(\"method\")[\"is_sig\"]\n",
    "    assert(x.index.duplicated().sum()==0)\n",
    "    sig = 0    \n",
    "    if 'hypergeo' not in x.index:\n",
    "        return sig\n",
    "    if x[\"hypergeo\"]==True:\n",
    "        if (\"global_all\" in x) and x[\"global_all\"]==True:\n",
    "            if (\"clone_min\" in x) and (x[\"clone_min\"]==True):\n",
    "                if (\"global_min\" in x) and (x[\"global_min\"]==True):\n",
    "                    sig = 4    \n",
    "                else:\n",
    "                    sig = 3\n",
    "            else:\n",
    "                sig = 2\n",
    "        else:\n",
    "            sig = 1\n",
    "    return sig\n",
    "\n",
    "p_df = p_df.groupby([\"index\",\"variable\", \"condition\"]).apply(check_sig)\n",
    "p_df\n",
    "\n",
    "\n",
    "# df.loc[(df[\"method\"] == \"hypergeo\") & (df[\"condition\"] == \"input\")].pivot(index=\"index\", columns=\"variable\", values=\"pval\")\n",
    "\n",
    "# df.loc[(df[\"method\"] == \"hypergeo\") & (df[\"condition\"] == \"cultured\")].pivot(index=\"index\", columns=\"variable\", values=\"pval\")\n",
    "\n",
    "p_df_out = p_df.reset_index().rename({0:\"significant_score\"}, axis=1)\n",
    "#p_df_out.set_index( )\n",
    "p_df_out[\"cluster_condition\"] = p_df_out.apply(lambda x: f'{x[\"variable\"]}_{x[\"condition\"]}', axis=1)\n",
    "\n",
    "\n",
    "#p_df_out[\"clone_condition\"] = p_df_out.apply(lambda x: f'{x[\"index\"]}_{x[\"condition\"]}', axis=1)\n",
    "\n",
    "p_df_out = p_df_out.pivot(index='index', columns='cluster_condition', values=\"significant_score\").fillna(0)\n",
    "\n",
    "p_df_out"
   ]
  },
  {
   "cell_type": "code",
   "execution_count": 9,
   "id": "019438b9",
   "metadata": {
    "scrolled": true
   },
   "outputs": [
    {
     "data": {
      "image/png": "[encoded data removed]",
      "text/plain": [
       "<Figure size 432x288 with 1 Axes>"
      ]
     },
     "metadata": {
      "needs_background": "light"
     },
     "output_type": "display_data"
    }
   ],
   "source": [
    "sns.countplot(data=p_df.reset_index(), x=0, hue=\"condition\")\n",
    "plt.savefig(join(outdir, \"hypergeo_sig_score_distribution.pdf\"))\n"
   ]
  },
  {
   "cell_type": "markdown",
   "id": "ab62a8ef",
   "metadata": {},
   "source": [
    "## Save heatmap for initial hypergeo "
   ]
  },
  {
   "cell_type": "code",
   "execution_count": 10,
   "id": "106fe6cd",
   "metadata": {
    "scrolled": true
   },
   "outputs": [
    {
     "data": {
      "text/html": [
       "<div>\n",
       "<style scoped>\n",
       "    .dataframe tbody tr th:only-of-type {\n",
       "        vertical-align: middle;\n",
       "    }\n",
       "\n",
       "    .dataframe tbody tr th {\n",
       "        vertical-align: top;\n",
       "    }\n",
       "\n",
       "    .dataframe thead th {\n",
       "        text-align: right;\n",
       "    }\n",
       "</style>\n",
       "<table border=\"1\" class=\"dataframe\">\n",
       "  <thead>\n",
       "    <tr style=\"text-align: right;\">\n",
       "      <th></th>\n",
       "      <th>condition</th>\n",
       "    </tr>\n",
       "    <tr>\n",
       "      <th>cluster_condition</th>\n",
       "      <th></th>\n",
       "    </tr>\n",
       "  </thead>\n",
       "  <tbody>\n",
       "    <tr>\n",
       "      <th>0_input</th>\n",
       "      <td>input</td>\n",
       "    </tr>\n",
       "    <tr>\n",
       "      <th>1_input</th>\n",
       "      <td>input</td>\n",
       "    </tr>\n",
       "    <tr>\n",
       "      <th>2_input</th>\n",
       "      <td>input</td>\n",
       "    </tr>\n",
       "    <tr>\n",
       "      <th>3_input</th>\n",
       "      <td>input</td>\n",
       "    </tr>\n",
       "    <tr>\n",
       "      <th>4_input</th>\n",
       "      <td>input</td>\n",
       "    </tr>\n",
       "    <tr>\n",
       "      <th>5_input</th>\n",
       "      <td>input</td>\n",
       "    </tr>\n",
       "    <tr>\n",
       "      <th>6_input</th>\n",
       "      <td>input</td>\n",
       "    </tr>\n",
       "    <tr>\n",
       "      <th>7_input</th>\n",
       "      <td>input</td>\n",
       "    </tr>\n",
       "    <tr>\n",
       "      <th>8_input</th>\n",
       "      <td>input</td>\n",
       "    </tr>\n",
       "    <tr>\n",
       "      <th>9_input</th>\n",
       "      <td>input</td>\n",
       "    </tr>\n",
       "  </tbody>\n",
       "</table>\n",
       "</div>"
      ],
      "text/plain": [
       "                  condition\n",
       "cluster_condition          \n",
       "0_input               input\n",
       "1_input               input\n",
       "2_input               input\n",
       "3_input               input\n",
       "4_input               input\n",
       "5_input               input\n",
       "6_input               input\n",
       "7_input               input\n",
       "8_input               input\n",
       "9_input               input"
      ]
     },
     "execution_count": 10,
     "metadata": {},
     "output_type": "execute_result"
    }
   ],
   "source": [
    "clone_meta = pd.DataFrame(index=p_df_out.columns, columns = [\"condition\"])\n",
    "clone_meta[\"condition\"] = suffix\n",
    "clone_meta"
   ]
  },
  {
   "cell_type": "markdown",
   "id": "97a603c6",
   "metadata": {},
   "source": [
    "## Get the minimum of each clone shift. This will be used for rankigng later"
   ]
  },
  {
   "cell_type": "code",
   "execution_count": 11,
   "id": "3539ba9e",
   "metadata": {
    "scrolled": true
   },
   "outputs": [],
   "source": [
    "min_df = df.groupby([\"index\", \"method\", \"condition\"]).min()[\"pval\"].reset_index()\n",
    "min_df\n",
    "\n",
    "min_df_wide = min_df.pivot(index=\"index\", values=\"pval\", columns=[\"method\", \"condition\"])\n",
    "min_df_wide.columns = ['_'.join(col).strip() for col in min_df_wide.columns.values] # flatten to 1D columns\n",
    "min_df_wide\n",
    "ncells_df[\"ncells\"] = ncells_df.sum(axis=1)\n",
    "min_df_wide = pd.concat((min_df_wide,ncells_df), axis=1)\n"
   ]
  },
  {
   "cell_type": "code",
   "execution_count": 12,
   "id": "fc4cd217",
   "metadata": {},
   "outputs": [
    {
     "data": {
      "text/html": [
       "<div>\n",
       "<style scoped>\n",
       "    .dataframe tbody tr th:only-of-type {\n",
       "        vertical-align: middle;\n",
       "    }\n",
       "\n",
       "    .dataframe tbody tr th {\n",
       "        vertical-align: top;\n",
       "    }\n",
       "\n",
       "    .dataframe thead th {\n",
       "        text-align: right;\n",
       "    }\n",
       "</style>\n",
       "<table border=\"1\" class=\"dataframe\">\n",
       "  <thead>\n",
       "    <tr style=\"text-align: right;\">\n",
       "      <th></th>\n",
       "      <th>clone_all_input</th>\n",
       "      <th>clone_min_input</th>\n",
       "      <th>global_all_input</th>\n",
       "      <th>global_min_input</th>\n",
       "      <th>hypergeo_input</th>\n",
       "      <th>count_input</th>\n",
       "      <th>ncells</th>\n",
       "    </tr>\n",
       "  </thead>\n",
       "  <tbody>\n",
       "    <tr>\n",
       "      <th>1_C0</th>\n",
       "      <td>1.0</td>\n",
       "      <td>1.0</td>\n",
       "      <td>1.0</td>\n",
       "      <td>1.0</td>\n",
       "      <td>0.051475</td>\n",
       "      <td>66</td>\n",
       "      <td>66</td>\n",
       "    </tr>\n",
       "    <tr>\n",
       "      <th>1_C1</th>\n",
       "      <td>1.0</td>\n",
       "      <td>1.0</td>\n",
       "      <td>1.0</td>\n",
       "      <td>1.0</td>\n",
       "      <td>0.054345</td>\n",
       "      <td>2284</td>\n",
       "      <td>2284</td>\n",
       "    </tr>\n",
       "  </tbody>\n",
       "</table>\n",
       "</div>"
      ],
      "text/plain": [
       "      clone_all_input  clone_min_input  global_all_input  global_min_input  \\\n",
       "1_C0              1.0              1.0               1.0               1.0   \n",
       "1_C1              1.0              1.0               1.0               1.0   \n",
       "\n",
       "      hypergeo_input  count_input  ncells  \n",
       "1_C0        0.051475           66      66  \n",
       "1_C1        0.054345         2284    2284  "
      ]
     },
     "execution_count": 12,
     "metadata": {},
     "output_type": "execute_result"
    }
   ],
   "source": [
    "min_df_wide"
   ]
  },
  {
   "cell_type": "markdown",
   "id": "566f433f",
   "metadata": {},
   "source": [
    "# *Get the clone order based on the ncells \n"
   ]
  },
  {
   "cell_type": "code",
   "execution_count": 13,
   "id": "55fcf37c",
   "metadata": {},
   "outputs": [],
   "source": [
    "\n",
    "if is_mt:\n",
    "    print(\"removing donor specific variants\")\n",
    "    print(min_df_wide.shape)\n",
    "    clone_order_keep = []\n",
    "    cells_meta = pd.read_csv(cells_meta_f, sep=\"\\t\", index_col=0)\n",
    "    kept_clones = []\n",
    "    kept_clones_cells = []\n",
    "    \n",
    "    for x in cells_meta.columns:\n",
    "        if \"cloneID_\" in x:\n",
    "            kept_clones_cells.append(x)\n",
    "            kept_clones.append(x.replace(\"cloneID_\", \"\"))\n",
    "    \n",
    "    min_df_wide = min_df_wide.loc[min_df_wide.index.isin(kept_clones)]\n",
    "    print(\"after removal\")\n",
    "    print(min_df_wide.shape)\n",
    "        "
   ]
  },
  {
   "cell_type": "code",
   "execution_count": 14,
   "id": "c0eed74f",
   "metadata": {
    "scrolled": true
   },
   "outputs": [
    {
     "data": {
      "text/html": [
       "<div>\n",
       "<style scoped>\n",
       "    .dataframe tbody tr th:only-of-type {\n",
       "        vertical-align: middle;\n",
       "    }\n",
       "\n",
       "    .dataframe tbody tr th {\n",
       "        vertical-align: top;\n",
       "    }\n",
       "\n",
       "    .dataframe thead th {\n",
       "        text-align: right;\n",
       "    }\n",
       "</style>\n",
       "<table border=\"1\" class=\"dataframe\">\n",
       "  <thead>\n",
       "    <tr style=\"text-align: right;\">\n",
       "      <th></th>\n",
       "      <th>clone_all_input</th>\n",
       "      <th>clone_min_input</th>\n",
       "      <th>global_all_input</th>\n",
       "      <th>global_min_input</th>\n",
       "      <th>hypergeo_input</th>\n",
       "      <th>count_input</th>\n",
       "      <th>ncells</th>\n",
       "    </tr>\n",
       "  </thead>\n",
       "  <tbody>\n",
       "    <tr>\n",
       "      <th>1_C1</th>\n",
       "      <td>2</td>\n",
       "      <td>2</td>\n",
       "      <td>2</td>\n",
       "      <td>2</td>\n",
       "      <td>2</td>\n",
       "      <td>2</td>\n",
       "      <td>2</td>\n",
       "    </tr>\n",
       "    <tr>\n",
       "      <th>1_C0</th>\n",
       "      <td>2</td>\n",
       "      <td>2</td>\n",
       "      <td>2</td>\n",
       "      <td>2</td>\n",
       "      <td>1</td>\n",
       "      <td>1</td>\n",
       "      <td>1</td>\n",
       "    </tr>\n",
       "  </tbody>\n",
       "</table>\n",
       "</div>"
      ],
      "text/plain": [
       "      clone_all_input  clone_min_input  global_all_input  global_min_input  \\\n",
       "1_C1                2                2                 2                 2   \n",
       "1_C0                2                2                 2                 2   \n",
       "\n",
       "      hypergeo_input  count_input  ncells  \n",
       "1_C1               2            2       2  \n",
       "1_C0               1            1       1  "
      ]
     },
     "execution_count": 14,
     "metadata": {},
     "output_type": "execute_result"
    }
   ],
   "source": [
    "rank_df = pd.merge(min_df_wide.drop(\"ncells\", axis=1).apply(lambda x: rankdata(x, method='max'), axis=0),\n",
    "                   min_df_wide[[\"ncells\"]].apply(lambda x: rankdata(x, method='min'), axis=0), \n",
    "                   left_index=True, right_index=True)\n",
    "#rank_df = min_df_wide.apply(lambda x: rankdata(x, method='max'), axis=0)\n",
    "# gmean_ser = rank_df.apply(gmean, axis=1)\n",
    "# gmean_ser = gmean_ser.sort_values()\n",
    "rank_df = rank_df.sort_values(\"ncells\")[::-1]\n",
    "rank_df\n",
    "\n",
    "\n",
    "## Get the clone order based on the mean of the rankings\n",
    "clone_order = rank_df.index\n",
    "min_df_wide = min_df_wide.loc[clone_order]\n",
    "rank_df = rank_df.loc[clone_order]\n",
    "\n",
    "min_clone_meta = pd.DataFrame(index=min_df_wide.columns, columns = [\"condition\"])\n",
    "min_clone_meta[\"condition\"] = suffix\n",
    "rank_df"
   ]
  },
  {
   "cell_type": "markdown",
   "id": "73bbc43a",
   "metadata": {},
   "source": [
    "## Plot rankings ordered by clone, annd save output"
   ]
  },
  {
   "cell_type": "markdown",
   "id": "6bbbff17",
   "metadata": {},
   "source": [
    "## Save:\n",
    "a) cloneID_rank.png  \n",
    "b) cloneID_order.txt - line-delimited text file with cloneID on each line  \n",
    "c) cloneID_rank.csv  - csv file of the ranking for each category  \n",
    "d) all_pvals: all p-values for for each clone-method-cluster-condition"
   ]
  },
  {
   "cell_type": "code",
   "execution_count": 15,
   "id": "952ecaa3",
   "metadata": {
    "scrolled": true
   },
   "outputs": [
    {
     "data": {
      "text/plain": [
       "Index(['1_C1', '1_C0'], dtype='object')"
      ]
     },
     "execution_count": 15,
     "metadata": {},
     "output_type": "execute_result"
    }
   ],
   "source": [
    "clone_order"
   ]
  },
  {
   "cell_type": "code",
   "execution_count": 16,
   "id": "24d8b950",
   "metadata": {},
   "outputs": [],
   "source": [
    "with open(join(outdir, \"cloneID_rank_ncells.txt\"), 'w') as f:\n",
    "    f.write('\\n'.join(clone_order))"
   ]
  },
  {
   "cell_type": "code",
   "execution_count": 17,
   "id": "420cb540",
   "metadata": {},
   "outputs": [],
   "source": [
    "rank_df.to_csv(join(outdir, \"cloneID_rank_ncells_df.csv\"))"
   ]
  },
  {
   "cell_type": "markdown",
   "id": "a5bcd5ea",
   "metadata": {},
   "source": [
    "## Plot the rankings"
   ]
  },
  {
   "cell_type": "code",
   "execution_count": 18,
   "id": "03c51138",
   "metadata": {
    "scrolled": true
   },
   "outputs": [
    {
     "data": {
      "text/html": [
       "<div>\n",
       "<style scoped>\n",
       "    .dataframe tbody tr th:only-of-type {\n",
       "        vertical-align: middle;\n",
       "    }\n",
       "\n",
       "    .dataframe tbody tr th {\n",
       "        vertical-align: top;\n",
       "    }\n",
       "\n",
       "    .dataframe thead th {\n",
       "        text-align: right;\n",
       "    }\n",
       "</style>\n",
       "<table border=\"1\" class=\"dataframe\">\n",
       "  <thead>\n",
       "    <tr style=\"text-align: right;\">\n",
       "      <th></th>\n",
       "      <th>clone_all_input</th>\n",
       "      <th>clone_min_input</th>\n",
       "      <th>global_all_input</th>\n",
       "      <th>global_min_input</th>\n",
       "      <th>hypergeo_input</th>\n",
       "      <th>count_input</th>\n",
       "      <th>ncells</th>\n",
       "    </tr>\n",
       "  </thead>\n",
       "  <tbody>\n",
       "    <tr>\n",
       "      <th>1_C1</th>\n",
       "      <td>2</td>\n",
       "      <td>2</td>\n",
       "      <td>2</td>\n",
       "      <td>2</td>\n",
       "      <td>2</td>\n",
       "      <td>2</td>\n",
       "      <td>2</td>\n",
       "    </tr>\n",
       "    <tr>\n",
       "      <th>1_C0</th>\n",
       "      <td>2</td>\n",
       "      <td>2</td>\n",
       "      <td>2</td>\n",
       "      <td>2</td>\n",
       "      <td>1</td>\n",
       "      <td>1</td>\n",
       "      <td>1</td>\n",
       "    </tr>\n",
       "  </tbody>\n",
       "</table>\n",
       "</div>"
      ],
      "text/plain": [
       "      clone_all_input  clone_min_input  global_all_input  global_min_input  \\\n",
       "1_C1                2                2                 2                 2   \n",
       "1_C0                2                2                 2                 2   \n",
       "\n",
       "      hypergeo_input  count_input  ncells  \n",
       "1_C1               2            2       2  \n",
       "1_C0               1            1       1  "
      ]
     },
     "execution_count": 18,
     "metadata": {},
     "output_type": "execute_result"
    }
   ],
   "source": [
    "rank_df"
   ]
  },
  {
   "cell_type": "code",
   "execution_count": 19,
   "id": "69be4db9",
   "metadata": {
    "scrolled": true
   },
   "outputs": [
    {
     "data": {
      "image/png": "[encoded data removed]",
      "text/plain": [
       "<Figure size 720x720 with 5 Axes>"
      ]
     },
     "metadata": {
      "needs_background": "light"
     },
     "output_type": "display_data"
    }
   ],
   "source": [
    "g = ch.plot_cluster(rank_df, to_row_clust=False, to_col_clust=False, col_meta=min_clone_meta[[\"condition\"]])\n",
    "g.fig.suptitle(\"Ranking of each method across clones (lowest is best). Top is best-ranked clone\")\n",
    "plt.savefig(join(outdir, \"cloneID_rank_sizes.png\"))"
   ]
  },
  {
   "cell_type": "code",
   "execution_count": 20,
   "id": "9123885f",
   "metadata": {
    "scrolled": true
   },
   "outputs": [
    {
     "data": {
      "image/png": "[encoded data removed]",
      "text/plain": [
       "<Figure size 720x720 with 4 Axes>"
      ]
     },
     "metadata": {
      "needs_background": "light"
     },
     "output_type": "display_data"
    }
   ],
   "source": [
    "g = sns.clustermap(p_df_out.loc[clone_order], row_cluster=False)\n",
    "plt.savefig(join(outdir, f\"{suffix}_sigScore_cloneOrder.pdf\"))"
   ]
  },
  {
   "cell_type": "markdown",
   "id": "1e2f51a6",
   "metadata": {},
   "source": [
    "## Convert p-vals into * or shapes (a. hypergeo sig. b. hyper+global all c. hyper+global all + clone min d. hyper+global all + clone min + global min"
   ]
  }
 ],
 "metadata": {
  "celltoolbar": "Tags",
  "kernelspec": {
   "display_name": "Python 3 (ipykernel)",
   "language": "python",
   "name": "python3"
  },
  "language_info": {
   "codemirror_mode": {
    "name": "ipython",
    "version": 3
   },
   "file_extension": ".py",
   "mimetype": "text/x-python",
   "name": "python",
   "nbconvert_exporter": "python",
   "pygments_lexer": "ipython3",
   "version": "3.7.12"
  }
 },
 "nbformat": 4,
 "nbformat_minor": 5
}
