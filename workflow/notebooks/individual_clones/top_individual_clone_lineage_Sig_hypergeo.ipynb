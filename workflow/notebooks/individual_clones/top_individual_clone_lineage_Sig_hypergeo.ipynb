{
 "cells": [
  {
   "cell_type": "code",
   "execution_count": 1,
   "id": "dec027fb",
   "metadata": {
    "tags": [
     "parameters"
    ]
   },
   "outputs": [],
   "source": [
    "indir = \"/data/Mito_Trace/output/pipeline/v04/CHIP_b1/MTBlacklist_A2/data/merged/MT/cellr_True/numread_200/filters/minC10_minR50_topN0_hetT0.001_hetC10_hetCount5_bq20/mgatk/vireoIn/clonal_shifts/variants_prefilterMerge_impute/donors/donor1/clones/knn_kparam_30\"\n",
    "outdir = \"/data/Mito_Trace/output/pipeline/v04/CHIP_b1/MTBlacklist_A2/data/merged/MT/cellr_True/numread_200/filters/minC10_minR50_topN0_hetT0.001_hetC10_hetCount5_bq20/mgatk/vireoIn/single_clones/donor1/cloneMethod_variants_prefilterMerge_impute_knn_resolution_30/clonalShift_method_clones/top/\"\n",
    "cloneID_f = \"/data/Mito_Trace/output/pipeline/v04/CHIP_b1/MTBlacklist_A2/data/merged/MT/cellr_True/numread_200/filters/minC10_minR50_topN0_hetT0.001_hetC10_hetCount5_bq20/mgatk/vireoIn/single_clones/donor1/cloneMethod_variants_prefilterMerge_impute_knn_resolution_30/clonalShift_method_clones/clones_ranked/cloneID_rank_ncells.txt\"\n",
    "\n",
    "ntop_clones = -1\n",
    "p_thresh = 0.1"
   ]
  },
  {
   "cell_type": "code",
   "execution_count": 2,
   "id": "81f2cc40",
   "metadata": {},
   "outputs": [
    {
     "name": "stdout",
     "output_type": "stream",
     "text": [
      "fig_utils from mplh\n"
     ]
    }
   ],
   "source": [
    "from glob import glob\n",
    "import pandas as pd\n",
    "import numpy as np\n",
    "from os.path import join, exists\n",
    "import os\n",
    "from tqdm.notebook import tqdm\n",
    "from scipy.stats import hypergeom, fisher_exact\n",
    "from statsmodels.stats import multitest \n",
    "import seaborn as sns\n",
    "import matplotlib.pyplot as plt\n",
    "from src import clonal_shifts as cs\n",
    "from icecream import ic\n",
    "from mplh import cluster_help as ch\n",
    "plt.rcParams['svg.fonttype'] = 'none'"
   ]
  },
  {
   "cell_type": "code",
   "execution_count": 3,
   "id": "0545ed48",
   "metadata": {
    "scrolled": true
   },
   "outputs": [
    {
     "data": {
      "text/plain": [
       "['1_0',\n",
       " '1_1',\n",
       " '1_2',\n",
       " '1_3',\n",
       " '1_4',\n",
       " '1_6',\n",
       " '1_7',\n",
       " '1_8',\n",
       " '1_9',\n",
       " '1_10',\n",
       " '1_11',\n",
       " '1_13',\n",
       " '1_12',\n",
       " '1_14',\n",
       " '1_15',\n",
       " '1_16',\n",
       " '1_17',\n",
       " '1_18',\n",
       " '1_20',\n",
       " '1_22',\n",
       " '1_24',\n",
       " '1_25',\n",
       " '1_21',\n",
       " '1_23',\n",
       " '1_5',\n",
       " '1_19']"
      ]
     },
     "execution_count": 3,
     "metadata": {},
     "output_type": "execute_result"
    }
   ],
   "source": [
    "with open(cloneID_f, \"r\") as f:\n",
    "    cloneIDs = f.readlines()\n",
    "cloneIDs = [x.strip() for x in cloneIDs]\n",
    "cloneIDs\n",
    "\n",
    "if ntop_clones == -1:\n",
    "    top_cloneIDs = cloneIDs\n",
    "else:\n",
    "    top_cloneIDs = cloneIDs[:ntop_clones]\n",
    "top_cloneIDs"
   ]
  },
  {
   "cell_type": "code",
   "execution_count": 4,
   "id": "8817e294",
   "metadata": {
    "scrolled": true
   },
   "outputs": [],
   "source": [
    "#cells_meta = pd.read_csv(cells_meta_f, sep=\"\\t\")"
   ]
  },
  {
   "cell_type": "code",
   "execution_count": 5,
   "id": "b353a6e6",
   "metadata": {
    "scrolled": true
   },
   "outputs": [
    {
     "data": {
      "text/html": [
       "<div>\n",
       "<style scoped>\n",
       "    .dataframe tbody tr th:only-of-type {\n",
       "        vertical-align: middle;\n",
       "    }\n",
       "\n",
       "    .dataframe tbody tr th {\n",
       "        vertical-align: top;\n",
       "    }\n",
       "\n",
       "    .dataframe thead th {\n",
       "        text-align: right;\n",
       "    }\n",
       "</style>\n",
       "<table border=\"1\" class=\"dataframe\">\n",
       "  <thead>\n",
       "    <tr style=\"text-align: right;\">\n",
       "      <th></th>\n",
       "      <th>index</th>\n",
       "      <th>variable</th>\n",
       "      <th>value</th>\n",
       "      <th>method</th>\n",
       "    </tr>\n",
       "  </thead>\n",
       "  <tbody>\n",
       "    <tr>\n",
       "      <th>0</th>\n",
       "      <td>1_0</td>\n",
       "      <td>Classical Monocyte</td>\n",
       "      <td>0.923179</td>\n",
       "      <td>global_all</td>\n",
       "    </tr>\n",
       "    <tr>\n",
       "      <th>1</th>\n",
       "      <td>1_1</td>\n",
       "      <td>Classical Monocyte</td>\n",
       "      <td>0.164538</td>\n",
       "      <td>global_all</td>\n",
       "    </tr>\n",
       "    <tr>\n",
       "      <th>2</th>\n",
       "      <td>1_10</td>\n",
       "      <td>Classical Monocyte</td>\n",
       "      <td>0.680513</td>\n",
       "      <td>global_all</td>\n",
       "    </tr>\n",
       "    <tr>\n",
       "      <th>3</th>\n",
       "      <td>1_11</td>\n",
       "      <td>Classical Monocyte</td>\n",
       "      <td>0.619615</td>\n",
       "      <td>global_all</td>\n",
       "    </tr>\n",
       "    <tr>\n",
       "      <th>4</th>\n",
       "      <td>1_12</td>\n",
       "      <td>Classical Monocyte</td>\n",
       "      <td>0.174308</td>\n",
       "      <td>global_all</td>\n",
       "    </tr>\n",
       "    <tr>\n",
       "      <th>...</th>\n",
       "      <td>...</td>\n",
       "      <td>...</td>\n",
       "      <td>...</td>\n",
       "      <td>...</td>\n",
       "    </tr>\n",
       "    <tr>\n",
       "      <th>307</th>\n",
       "      <td>1_5</td>\n",
       "      <td>pre-B cells</td>\n",
       "      <td>1.000000</td>\n",
       "      <td>clone_min</td>\n",
       "    </tr>\n",
       "    <tr>\n",
       "      <th>308</th>\n",
       "      <td>1_6</td>\n",
       "      <td>pre-B cells</td>\n",
       "      <td>1.000000</td>\n",
       "      <td>clone_min</td>\n",
       "    </tr>\n",
       "    <tr>\n",
       "      <th>309</th>\n",
       "      <td>1_7</td>\n",
       "      <td>pre-B cells</td>\n",
       "      <td>1.000000</td>\n",
       "      <td>clone_min</td>\n",
       "    </tr>\n",
       "    <tr>\n",
       "      <th>310</th>\n",
       "      <td>1_8</td>\n",
       "      <td>pre-B cells</td>\n",
       "      <td>1.000000</td>\n",
       "      <td>clone_min</td>\n",
       "    </tr>\n",
       "    <tr>\n",
       "      <th>311</th>\n",
       "      <td>1_9</td>\n",
       "      <td>pre-B cells</td>\n",
       "      <td>1.000000</td>\n",
       "      <td>clone_min</td>\n",
       "    </tr>\n",
       "  </tbody>\n",
       "</table>\n",
       "<p>1248 rows × 4 columns</p>\n",
       "</div>"
      ],
      "text/plain": [
       "    index            variable     value      method\n",
       "0     1_0  Classical Monocyte  0.923179  global_all\n",
       "1     1_1  Classical Monocyte  0.164538  global_all\n",
       "2    1_10  Classical Monocyte  0.680513  global_all\n",
       "3    1_11  Classical Monocyte  0.619615  global_all\n",
       "4    1_12  Classical Monocyte  0.174308  global_all\n",
       "..    ...                 ...       ...         ...\n",
       "307   1_5         pre-B cells  1.000000   clone_min\n",
       "308   1_6         pre-B cells  1.000000   clone_min\n",
       "309   1_7         pre-B cells  1.000000   clone_min\n",
       "310   1_8         pre-B cells  1.000000   clone_min\n",
       "311   1_9         pre-B cells  1.000000   clone_min\n",
       "\n",
       "[1248 rows x 4 columns]"
      ]
     },
     "execution_count": 5,
     "metadata": {},
     "output_type": "execute_result"
    }
   ],
   "source": [
    "noInput_hyper = pd.read_csv(join(indir, \"noInput_hypergeo_pvals.csv\"),  index_col=0)\n",
    "noIn_shuffle_df = pd.read_csv(join(indir, \"noInput_shuffle_results_pvals.csv\"), index_col=0)\n",
    "\n",
    "input_hyper = pd.read_csv(join(indir, \"input_hypergeo_pvals.csv\"), index_col=0)\n",
    "input_shuffle_df = pd.read_csv(join(indir, \"input_shuffle_results_pvals.csv\"), index_col=0)\n",
    "\n",
    "input_shuffle_df"
   ]
  },
  {
   "cell_type": "code",
   "execution_count": 6,
   "id": "35aa1dfc",
   "metadata": {},
   "outputs": [],
   "source": [
    "def create_pval(clone_d, hyper_key, shuffle_key, clustIDs):\n",
    "    pval_df = pd.DataFrame(columns = [\"hypergeo\", \"global_min\", \"clone_min\", \"clone_all\", \"global_all\"],\n",
    "                           index=clustIDs)\n",
    "    if clone_d[shuffle_key] is None:\n",
    "        if clone_d[hyper_key] is not None:\n",
    "            pval_df.loc[clone_d[hyper_key].index, \"hypergeo\"] = clone_d[hyper_key]\n",
    "            print('pval_df')\n",
    "        else:\n",
    "            print(\"no sig\")\n",
    "    else:\n",
    "        shuff_df = clone_d[shuffle_key].pivot(index=\"variable\", columns=\"method\", values=\"value\")\n",
    "        shuff_df\n",
    "        pval_df.loc[shuff_df.index, shuff_df.columns] = shuff_df\n",
    "\n",
    "        if clone_d[hyper_key] is not None:\n",
    "            pval_df.loc[clone_d[hyper_key].index, \"hypergeo\"] = clone_d[hyper_key]\n",
    "    \n",
    "    #pval_df.fillna(1)     \n",
    "    return pval_df\n",
    "\n",
    "\n",
    "def run_ind_clone(clone_id):\n",
    "    print('clone_id', clone_id)\n",
    "    clone_d = {}\n",
    "    if clone_id in noInput_hyper.index:\n",
    "        clone_d[\"noIn_hyper\"] = noInput_hyper.loc[clone_id]\n",
    "    else: \n",
    "        clone_d[\"noIn_hyper\"] = None\n",
    "    \n",
    "    if clone_id in noIn_shuffle_df[\"index\"].values:\n",
    "        clone_d[\"noIn_shuffle\"] = noIn_shuffle_df.loc[noIn_shuffle_df[\"index\"]==clone_id]\n",
    "    else:\n",
    "        clone_d[\"noIn_shuffle\"] = None\n",
    "        \n",
    "        \n",
    "    if clone_id in input_hyper.index:\n",
    "        clone_d[\"input_hyper\"] = input_hyper.loc[clone_id]\n",
    "    else: \n",
    "        clone_d[\"input_hyper\"] = None\n",
    "            \n",
    "    if clone_id in input_shuffle_df[\"index\"].values:\n",
    "        clone_d[\"input_shuffle\"] = input_shuffle_df.loc[input_shuffle_df[\"index\"]==clone_id]\n",
    "    else:\n",
    "        clone_d[\"input_shuffle\"] = None\n",
    "            \n",
    "    \n",
    "    clone_d['noIn_shuffle']\n",
    "    clone_d['noIn_hyper']\n",
    "    \n",
    "    set_input_hyper = clone_d['input_hyper'].index if clone_d['input_hyper'] is not None else set()\n",
    "    set_noInput_hyper = clone_d['noIn_hyper'].index if clone_d['noIn_hyper'] is not None else set()\n",
    "\n",
    "    set_input_shuffle = clone_d['input_shuffle'][\"variable\"].values if clone_d['input_shuffle'] is not None else set()\n",
    "    set_noInput_shuffle = clone_d['noIn_shuffle'][\"variable\"].values if clone_d['noIn_shuffle'] is not None else set()\n",
    "\n",
    "    \n",
    "    clustIDs = set(set_input_hyper).union(set_noInput_hyper)\n",
    "    clustIDs = clustIDs.union(set_noInput_shuffle).union(set_input_shuffle)\n",
    "    \n",
    "    noIn_pval_df = create_pval(clone_d, hyper_key=\"noIn_hyper\",shuffle_key=\"noIn_shuffle\", clustIDs=clustIDs)\n",
    "    input_pval_df = create_pval(clone_d, hyper_key=\"input_hyper\",shuffle_key=\"input_shuffle\", clustIDs=clustIDs)\n",
    "    pval_df = pd.merge(input_pval_df, noIn_pval_df, left_index=True, right_index=True, \n",
    "                       how=\"outer\", suffixes=(\"_Input\", \"_Cultured\"))\n",
    "\n",
    "    ## Sort clusters by global_min, hypergeo, \n",
    "    pval_df = pval_df.fillna(1).sort_values([\"global_min_Input\", \"hypergeo_Input\", \"clone_min_Input\",\"global_min_Cultured\", \"hypergeo_Cultured\",  \"clone_min_Cultured\"])\n",
    "#     plt.close()\n",
    "    return pval_df"
   ]
  },
  {
   "cell_type": "code",
   "execution_count": 7,
   "id": "931b51d2",
   "metadata": {
    "scrolled": true
   },
   "outputs": [
    {
     "name": "stdout",
     "output_type": "stream",
     "text": [
      "clone_id 1_0\n",
      "clone_id 1_1\n",
      "clone_id 1_2\n",
      "clone_id 1_3\n",
      "clone_id 1_4\n",
      "clone_id 1_6\n",
      "clone_id 1_7\n",
      "clone_id 1_8\n",
      "clone_id 1_9\n",
      "clone_id 1_10\n",
      "clone_id 1_11\n",
      "clone_id 1_13\n",
      "clone_id 1_12\n",
      "clone_id 1_14\n",
      "clone_id 1_15\n",
      "clone_id 1_16\n",
      "clone_id 1_17\n",
      "clone_id 1_18\n",
      "clone_id 1_20\n",
      "clone_id 1_22\n",
      "clone_id 1_24\n",
      "clone_id 1_25\n",
      "clone_id 1_21\n",
      "pval_df\n",
      "clone_id 1_23\n",
      "pval_df\n",
      "clone_id 1_5\n",
      "pval_df\n",
      "clone_id 1_19\n",
      "pval_df\n"
     ]
    }
   ],
   "source": [
    "pval_d = {}\n",
    "for c_id in top_cloneIDs:\n",
    "    pval_d[c_id] = run_ind_clone(c_id)"
   ]
  },
  {
   "cell_type": "code",
   "execution_count": 8,
   "id": "41598fe1",
   "metadata": {
    "scrolled": true
   },
   "outputs": [
    {
     "name": "stdout",
     "output_type": "stream",
     "text": [
      "1_0\n",
      "1_1\n",
      "1_2\n",
      "1_3\n",
      "1_4\n",
      "1_6\n",
      "1_7\n",
      "1_8\n",
      "1_9\n",
      "1_10\n",
      "1_11\n",
      "1_13\n",
      "1_12\n",
      "1_14\n",
      "1_15\n",
      "1_16\n",
      "1_17\n",
      "1_18\n",
      "1_20\n",
      "1_22\n",
      "1_24\n",
      "1_25\n",
      "1_21\n",
      "1_23\n",
      "1_5\n",
      "1_19\n"
     ]
    },
    {
     "name": "stderr",
     "output_type": "stream",
     "text": [
      "/home/isaac/miniconda3/envs/mttrace/lib/python3.7/site-packages/ipykernel_launcher.py:12: DeprecationWarning: The default dtype for empty Series will be 'object' instead of 'float64' in a future version. Specify a dtype explicitly to silence this warning.\n",
      "  if sys.path[0] == \"\":\n",
      "/home/isaac/miniconda3/envs/mttrace/lib/python3.7/site-packages/ipykernel_launcher.py:25: DeprecationWarning: The default dtype for empty Series will be 'object' instead of 'float64' in a future version. Specify a dtype explicitly to silence this warning.\n"
     ]
    }
   ],
   "source": [
    "sig_input_d = []\n",
    "sig_cultured_d = []\n",
    "\n",
    "for i in pval_d:\n",
    "    print(i)\n",
    "    curr_input_cols = pval_d[i].columns[pval_d[i].columns.str.contains(\"_Input\")]\n",
    "    curr_cultured_cols = pval_d[i].columns[pval_d[i].columns.str.contains(\"_Cultured\")]\n",
    "    curr_cultured_cols\n",
    "\n",
    "    pval_bin = (pval_d[i]<p_thresh)\n",
    "    \n",
    "    curr_sig_input = pd.Series(index=pval_bin.index, name=i)\n",
    "    curr_sig_input.loc[:] = 0\n",
    "    \n",
    "    curr_sig_input.loc[(pval_bin[\"hypergeo_Input\"]==True)] = 1\n",
    "    curr_sig_input.loc[(pval_bin[\"hypergeo_Input\"]==True) & (pval_bin[\"global_all_Input\"]==True) ] = 2\n",
    "    curr_sig_input.loc[(pval_bin[\"hypergeo_Input\"]==True) & (pval_bin[\"global_all_Input\"]==True)\n",
    "                      & (pval_bin[\"clone_min_Input\"]==True)] = 3\n",
    "    curr_sig_input.loc[(pval_bin[\"hypergeo_Input\"]==True) & (pval_bin[\"global_all_Input\"]==True)\n",
    "                      & (pval_bin[\"clone_min_Input\"]==True) & (pval_bin[\"global_min_Input\"]==True)] = 4    \n",
    "\n",
    "\n",
    "    sig_input_d.append(pd.DataFrame(curr_sig_input))\n",
    "    \n",
    "    curr_sig_cultured = pd.Series(index=pval_bin.index, name=i)\n",
    "    curr_sig_cultured.loc[:] = 0\n",
    "\n",
    "    curr_sig_cultured.loc[(pval_bin[\"hypergeo_Cultured\"]==True)] = 1\n",
    "    curr_sig_cultured.loc[(pval_bin[\"hypergeo_Cultured\"]==True) & (pval_bin[\"global_all_Cultured\"]==True)] = 2\n",
    "    curr_sig_cultured.loc[(pval_bin[\"hypergeo_Cultured\"]==True) & (pval_bin[\"global_all_Cultured\"]==True)\n",
    "                           & (pval_bin[\"clone_min_Cultured\"]==True)] = 3  \n",
    "    curr_sig_cultured.loc[(pval_bin[\"hypergeo_Cultured\"]==True) & (pval_bin[\"global_all_Cultured\"]==True)\n",
    "                          & (pval_bin[\"clone_min_Cultured\"]==True) & (pval_bin[\"global_min_Cultured\"]==True)] = 4       \n",
    "        \n",
    "    sig_cultured_d.append(pd.DataFrame(curr_sig_cultured))\n",
    "\n",
    "sig_input_df = pd.concat(sig_input_d, axis=1).fillna(0)\n",
    "sig_input_df\n",
    "\n",
    "sig_cultured_df = pd.concat(sig_cultured_d, axis=1).fillna(0)\n",
    "sig_cultured_df\n",
    "\n",
    "# merge_sig_df = sig_input_df.transpose()\n",
    "# merge_sig_df\n",
    "\n",
    "melt_sig_input = sig_input_df.transpose().reset_index().melt(id_vars='index')\n",
    "melt_sig_input[\"cond\"] = \"input\"\n",
    "melt_sig_cultured = sig_cultured_df.transpose().reset_index().melt(id_vars='index')\n",
    "melt_sig_cultured[\"cond\"] = \"cultured\"\n",
    "merge_sig_df = pd.concat((melt_sig_input, melt_sig_cultured))\n"
   ]
  },
  {
   "cell_type": "markdown",
   "id": "e57bb679",
   "metadata": {},
   "source": [
    "## Save score and p-val"
   ]
  },
  {
   "cell_type": "code",
   "execution_count": 9,
   "id": "1dc43711",
   "metadata": {
    "scrolled": true
   },
   "outputs": [],
   "source": [
    "input_out = pd.merge(melt_sig_input, pd.melt(input_hyper.reset_index(),id_vars=\"index\", value_name=\"p_adj\"), \n",
    "                     on=[\"index\", \"variable\"], how=\"inner\").sort_values([\"value\", \"p_adj\"], ascending=[False, True])\n",
    "input_out = input_out.rename({\"index\": \"clone\", \"variable\":\"cluster\"}, axis=1)\n",
    "input_out.to_csv(join(outdir, \"input_pval_and_scores.csv\"), index=False)"
   ]
  },
  {
   "cell_type": "code",
   "execution_count": 10,
   "id": "304eb805",
   "metadata": {},
   "outputs": [],
   "source": [
    "noInput_out = pd.merge(melt_sig_cultured, pd.melt(noInput_hyper.reset_index(),id_vars=\"index\", value_name=\"p_adj\"), \n",
    "                     on=[\"index\", \"variable\"], how=\"inner\").sort_values([\"value\", \"p_adj\"], ascending=[False, True])\n",
    "noInput_out = noInput_out.rename({\"index\": \"clone\", \"variable\":\"cluster\"}, axis=1)\n",
    "\n",
    "noInput_out.to_csv(join(outdir, \"cultured_pval_and_scores.csv\"))"
   ]
  },
  {
   "cell_type": "markdown",
   "id": "420bdd76",
   "metadata": {},
   "source": [
    "## Plot scores as heatmap"
   ]
  },
  {
   "cell_type": "code",
   "execution_count": 11,
   "id": "826c8ea2",
   "metadata": {},
   "outputs": [],
   "source": [
    "# def plot_hyper_sig(data, **kwargs):\n",
    "#     #print(data.head())\n",
    "#     data.pivot(index=\"variable\", columns=\"index\", values=\"value\").plot.bar(ax=plt.gca())\n",
    "#     sns.heatmap(data.pivot(index=\"variable\", columns=\"index\", values=\"value\"), ax=plt.gca(),\n",
    "#                vmax=4, vmin=0)\n",
    "#     return\n",
    "\n",
    "\n",
    "# sns.set(font_scale=2)\n",
    "# g = sns.FacetGrid(data=merge_sig_df, col=\"cond\", row='index',\n",
    "#                   row_order=top_cloneIDs, col_order=[\"input\", \"cultured\"],\n",
    "#                   sharex=False, sharey=False, height=8, aspect=1)\n",
    "# g.map_dataframe(plot_hyper_sig)\n",
    "\n",
    "# g.fig.savefig(fname=join(outdir, f\"top{ntop_clones}_sig_hypergeo.svg\"), bbox_inches='tight', pad_inches=0.5)"
   ]
  }
 ],
 "metadata": {
  "celltoolbar": "Tags",
  "kernelspec": {
   "display_name": "Python 3 (ipykernel)",
   "language": "python",
   "name": "python3"
  },
  "language_info": {
   "codemirror_mode": {
    "name": "ipython",
    "version": 3
   },
   "file_extension": ".py",
   "mimetype": "text/x-python",
   "name": "python",
   "nbconvert_exporter": "python",
   "pygments_lexer": "ipython3",
   "version": "3.7.12"
  }
 },
 "nbformat": 4,
 "nbformat_minor": 5
}
