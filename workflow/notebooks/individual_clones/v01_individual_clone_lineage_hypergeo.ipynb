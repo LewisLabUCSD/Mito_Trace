{
 "cells": [
  {
   "cell_type": "code",
   "execution_count": 1,
   "id": "dec027fb",
   "metadata": {
    "tags": [
     "parameters"
    ]
   },
   "outputs": [],
   "source": [
    "# Input info\n",
    "indir = \"\"\n",
    "\n",
    "cloneID_f = \"\"\n",
    "outdir = \"/data/Mito_Trace/output/pipeline/v02/CHIP_b1/MTBlacklist_A2/data/merged/MT/cellr_True/numread_200/filters/minC10_minR50_topN0_hetT0.001_hetC10_hetCount5_bq20/mgatk/vireoIn/clonal_shifts/donors/donor0/variants_init/knn/kparam_30/clones/\"\n",
    "#clone_id = \"0_7\"\n",
    "#noIn_indir = \"/data/Mito_Trace/output/pipeline/v02/CHIP_b1/MTBlacklist_A2/data/merged/MT/cellr_True/numread_200/filters/minC10_minR50_topN0_hetT0.001_hetC10_hetCount5_bq20/mgatk/vireoIn/clonal_shifts/variants_init/clones/results/noInput/knn/kparam_30/\"\n",
    "#input_indir = \"/data/Mito_Trace/output/pipeline/v02/CHIP_b1/MTBlacklist_A2/data/merged/MT/cellr_True/numread_200/filters/minC10_minR50_topN0_hetT0.001_hetC10_hetCount5_bq20/mgatk/vireoIn/clonal_shifts/variants_init/clones/results/inputOnly/knn/kparam_30/\"\n",
    "# params\n",
    "#p_thresh = 0.1 \n",
    "\n",
    "\n",
    "\n",
    "\n",
    "\n",
    "\n"
   ]
  },
  {
   "cell_type": "code",
   "execution_count": 27,
   "id": "81f2cc40",
   "metadata": {},
   "outputs": [
    {
     "name": "stdout",
     "output_type": "stream",
     "text": [
      "fig_utils from mplh\n"
     ]
    }
   ],
   "source": [
    "\n",
    "from glob import glob\n",
    "import pandas as pd\n",
    "import numpy as np\n",
    "from os.path import join, exists\n",
    "import os\n",
    "from tqdm.notebook import tqdm\n",
    "\n",
    "from scipy.stats import hypergeom, fisher_exact\n",
    "from statsmodels.stats import multitest \n",
    "\n",
    "import seaborn as sns\n",
    "import matplotlib.pyplot as plt\n",
    "\n",
    "from src import clonal_shifts as cs\n",
    "from icecream import ic\n",
    "\n",
    "from mplh import cluster_help as ch"
   ]
  },
  {
   "cell_type": "code",
   "execution_count": null,
   "id": "0545ed48",
   "metadata": {},
   "outputs": [],
   "source": [
    "with open(cloneID_f, \"r\") as f:\n",
    "    cloneIDs = f.readlines()\n",
    "cloneIDs = [x.strip() for x in cloneIDs]\n"
   ]
  },
  {
   "cell_type": "code",
   "execution_count": 3,
   "id": "8817e294",
   "metadata": {
    "scrolled": true
   },
   "outputs": [],
   "source": [
    "#cells_meta = pd.read_csv(cells_meta_f, sep=\"\\t\")"
   ]
  },
  {
   "cell_type": "code",
   "execution_count": null,
   "id": "b353a6e6",
   "metadata": {},
   "outputs": [],
   "source": [
    "# noIn_don_indir =  join(noIn_indir,\"sepDonors\", f\"donor{donor}\")\n",
    "# noInput_hyper = pd.read_csv(join(noIn_don_indir, \"hypergeo_padjusted.csv\"),  index_col=0)\n",
    "\n",
    "# noIn_don_indir =  join(noIn_indir,\"sepDonors\", f\"donor{donor}\")\n",
    "# noInput_hyper = pd.read_csv(join(noIn_don_indir, \"hypergeo_pvals.csv\"),  index_col=0)\n",
    "# noIn_shuffle_df = pd.read_csv(join(noIn_don_indir, \"shuffle_results_pvals.tsv\"), sep=\"\\t\", index_col=0)\n",
    "\n",
    "\n",
    "# input_don_indir =  join(input_indir,\"sepDonors\", f\"donor{donor}\")\n",
    "# input_hyper = pd.read_csv(join(input_don_indir, \"hypergeo_padjusted.csv\"), index_col=0)\n",
    "# input_shuffle_df = pd.read_csv(join(input_don_indir, \"shuffle_results_pvals.tsv\"), sep=\"\\t\", index_col=0)\n",
    "\n",
    "# input_shuffle_df\n",
    "\n",
    "noInput_hyper = pd.read_csv(join(indir, \"noInput_hypergeo_pvals.csv\"),  index_col=0)\n",
    "noIn_shuffle_df = pd.read_csv(join(indir, \"noInput_shuffle_results_pvals.csv\"), index_col=0)\n",
    "\n",
    "input_hyper = pd.read_csv(join(indir, \"input_hypergeo_pvals.csv\"), index_col=0)\n",
    "input_shuffle_df = pd.read_csv(join(indir, \"input_shuffle_results_pvals.csv\"), index_col=0)\n",
    "\n",
    "input_shuffle_df"
   ]
  },
  {
   "cell_type": "code",
   "execution_count": null,
   "id": "64501756",
   "metadata": {},
   "outputs": [],
   "source": [
    "\n",
    "# hyper = pd.read_csv(join(hypergeo_in, \"hypergeo_padjusted.csv\"),  index_col=0)\n",
    "# shuffle_df = pd.read_csv(join(hypergeo_in, \"shuffle_results_pvals.tsv\"), sep=\"\\t\", index_col=0)"
   ]
  },
  {
   "cell_type": "code",
   "execution_count": null,
   "id": "35aa1dfc",
   "metadata": {},
   "outputs": [],
   "source": [
    "def create_pval(clone_d, hyper_key,shuffle_key, clustIDs):\n",
    "    pval_df = pd.DataFrame(columns = [\"hypergeo\", \"global_min\", \"clone_min\", \"clone_all\", \"global_all\"],\n",
    "                           index=clustIDs)\n",
    "\n",
    "    shuff_df = clone_d[shuffle_key].pivot(index=\"variable\", columns=\"method\", values=\"value\")\n",
    "    shuff_df\n",
    "\n",
    "    pval_df.loc[shuff_df.index, shuff_df.columns] = shuff_df\n",
    "    pval_df.loc[clone_d[hyper_key].index, \"hypergeo\"] = clone_d[hyper_key]\n",
    "    #pval_df.fillna(1)     \n",
    "    return pval_df\n",
    "\n",
    "\n",
    "def run_ind_clone(clone_id):\n",
    "    curr_outdir = join(outdir, f\"cloneID_{clone_id}\")\n",
    "    if not os.path.exists(curr_outdir):\n",
    "        os.mkdir(curr_outdir)\n",
    "    clone_d = {}\n",
    "    clone_d[\"noIn_hyper\"] = noInput_hyper.loc[clone_id]\n",
    "    clone_d[\"noIn_shuffle\"] = noIn_shuffle_df.loc[noIn_shuffle_df[\"index\"]==clone_id]\n",
    "\n",
    "    clone_d[\"input_hyper\"] = input_hyper.loc[clone_id]\n",
    "    clone_d[\"input_shuffle\"] = input_shuffle_df.loc[input_shuffle_df[\"index\"]==clone_id]\n",
    "\n",
    "    clone_d['noIn_shuffle']\n",
    "\n",
    "    clone_d['noIn_hyper']\n",
    "    clustIDs = set(clone_d['input_hyper'].index).union(set(clone_d['noIn_hyper'].index))\n",
    "    clustIDs = clustIDs.union(set(clone_d['noIn_shuffle'][\"variable\"].values).union(set(clone_d['input_shuffle'][\"variable\"].values)))\n",
    "    \n",
    "    noIn_pval_df = create_pval(clone_d, hyper_key=\"noIn_hyper\",shuffle_key=\"noIn_shuffle\", clustIDs=clustIDs)\n",
    "    input_pval_df = create_pval(clone_d, hyper_key=\"input_hyper\",shuffle_key=\"input_shuffle\", clustIDs=clustIDs)\n",
    "    pval_df = pd.merge(input_pval_df, noIn_pval_df, left_index=True, right_index=True, \n",
    "                       how=\"outer\", suffixes=(\"_Input\", \"_Cultured\"))\n",
    "\n",
    "    ## Sort clusters by global_min, hypergeo, \n",
    "    pval_df = pval_df.fillna(1).sort_values([\"global_min_Input\", \"hypergeo_Input\", \"clone_min_Input\",\"global_min_Cultured\", \"hypergeo_Cultured\",  \"clone_min_Cultured\"])\n",
    "    clone_meta = pd.DataFrame(index=pval_df.columns, columns = [\"condition\",\"size\"])\n",
    "    clone_meta[\"condition\"] = [\"Input\" if \"Input\" in x else \"Cultured\" for x in clone_meta.index]\n",
    "    pval_df.to_csv(join(curr_outdir, f\"cloneID_{clone_id}_hypergeo_pval.csv\"))\n",
    "    ch.plot_cluster(pval_df, to_col_clust=False, col_meta=clone_meta[[\"condition\"]])\n",
    "    plt.savefig(join(curr_outdir, f\"cloneID_{clone_id}_hypergeo_pval.png\"),bbox_inches='tight' )\n",
    "    return"
   ]
  },
  {
   "cell_type": "code",
   "execution_count": null,
   "id": "931b51d2",
   "metadata": {},
   "outputs": [],
   "source": [
    "for c_id in cloneIDs:\n",
    "    run_ind_clone(c_id)"
   ]
  },
  {
   "cell_type": "code",
   "execution_count": null,
   "id": "a151fbfc",
   "metadata": {},
   "outputs": [],
   "source": []
  },
  {
   "cell_type": "code",
   "execution_count": 7,
   "id": "79c6ded2",
   "metadata": {
    "scrolled": true
   },
   "outputs": [],
   "source": [
    "# clone_d = {}\n",
    "# clone_d[\"noIn_hyper\"] = noInput_hyper.loc[clone_id]\n",
    "# clone_d[\"noIn_shuffle\"] = noIn_shuffle_df.loc[noIn_shuffle_df[\"index\"]==clone_id]\n",
    "\n",
    "# clone_d[\"input_hyper\"] = input_hyper.loc[clone_id]\n",
    "# clone_d[\"input_shuffle\"] = input_shuffle_df.loc[input_shuffle_df[\"index\"]==clone_id]\n",
    "\n",
    "# clone_d['noIn_shuffle']\n",
    "\n",
    "# clone_d['noIn_hyper']\n",
    "\n",
    "# clustIDs = set(clone_d['input_hyper'].index).union(set(clone_d['noIn_hyper'].index))\n",
    "# clustIDs = clustIDs.union(set(clone_d['noIn_shuffle'][\"variable\"].values).union(set(clone_d['input_shuffle'][\"variable\"].values)))\n",
    "# clustIDs\n",
    "\n",
    "# ## Create p-val table for the clone\n",
    "\n",
    "# noIn_pval_df = create_pval(clone_d, hyper_key=\"noIn_hyper\",shuffle_key=\"noIn_shuffle\")\n",
    "# input_pval_df = create_pval(clone_d, hyper_key=\"input_hyper\",shuffle_key=\"input_shuffle\")\n",
    "# pval_df = pd.merge(input_pval_df, noIn_pval_df, left_index=True, right_index=True, \n",
    "#                    how=\"outer\", suffixes=(\"_Input\", \"_Cultured\"))\n",
    "\n",
    "# ## Sort clusters by global_min, hypergeo, \n",
    "# pval_df = pval_df.fillna(1).sort_values([\"global_min_Input\", \"hypergeo_Input\", \"clone_min_Input\",\"global_min_Cultured\", \"hypergeo_Cultured\",  \"clone_min_Cultured\"])\n",
    "# clone_meta = pd.DataFrame(index=pval_df.columns, columns = [\"condition\",\"size\"])\n",
    "# clone_meta[\"condition\"] = [\"Input\" if \"Input\" in x else \"Cultured\" for x in clone_meta.index]\n",
    "# pval_df\n",
    "\n",
    "# ch.plot_cluster(pval_df, to_col_clust=False, col_meta=clone_meta[[\"condition\"]])"
   ]
  }
 ],
 "metadata": {
  "celltoolbar": "Tags",
  "kernelspec": {
   "display_name": "Python 3 (ipykernel)",
   "language": "python",
   "name": "python3"
  },
  "language_info": {
   "codemirror_mode": {
    "name": "ipython",
    "version": 3
   },
   "file_extension": ".py",
   "mimetype": "text/x-python",
   "name": "python",
   "nbconvert_exporter": "python",
   "pygments_lexer": "ipython3",
   "version": "3.7.12"
  }
 },
 "nbformat": 4,
 "nbformat_minor": 5
}
