{
 "cells": [
  {
   "cell_type": "code",
   "execution_count": 1,
   "id": "57a92ea7",
   "metadata": {},
   "outputs": [],
   "source": [
    "#outdir = \"/data/Mito_Trace/output/pipeline/v02/CHIP_b1/MTBlacklist_A2/data/merged/MT/cellr_True/numread_200/filters/minC10_minR50_topN0_hetT0.001_hetC10_hetCount5_bq20/mgatk/vireoIn/single_clones/donor0/cloneMethod_variants_init_knn_resolution_30/clonalShift_method_clones/single/\"\n",
    "outdir = \"/data/Mito_Trace/output/pipeline/v02/CHIP_b1/MTBlacklist_A2/data/merged/MT/cellr_True/numread_200/filters/minC10_minR50_topN0_hetT0.001_hetC10_hetCount5_bq20/mgatk/vireoIn/single_clones/donor0/cloneMethod_variants_init_knn_resolution_30/clonalShift_method_dendro_bc/single\"\n",
    "\n",
    "clone_order_f = \"/data/Mito_Trace/output/pipeline/v02/CHIP_b1/MTBlacklist_A2/data/merged/MT/cellr_True/numread_200/filters/minC10_minR50_topN0_hetT0.001_hetC10_hetCount5_bq20/mgatk/vireoIn/single_clones/donor0/cloneMethod_variants_init_knn_resolution_30/clonalShift_method_dendro_bc/clones_ranked/cloneID_rank_ncells.txt\"\n",
    "\n",
    "top_clones = 10\n",
    "\n",
    "#cloneID = \"0_C6\"\n"
   ]
  },
  {
   "cell_type": "code",
   "execution_count": 2,
   "id": "6c5d7027",
   "metadata": {},
   "outputs": [],
   "source": [
    "#outdir = \"/data/Mito_Trace/output/pipeline/v02/CHIP_b1/MTBlacklist_A2/data/merged/MT/cellr_True/numread_200/filters/minC10_minR50_topN0_hetT0.001_hetC10_hetCount5_bq20/mgatk/vireoIn/single_clones/donor0/cloneMethod_variants_init_mt_bestparams_af.0.1_othaf.0.1_cov.10_othcov.10_ncells.10_othncells.0.25_mean.0/clonalShift_method_mt_as_clones_dendro/single/\"\n"
   ]
  },
  {
   "cell_type": "code",
   "execution_count": 3,
   "id": "3e9bb291",
   "metadata": {},
   "outputs": [],
   "source": [
    "from PIL import Image"
   ]
  },
  {
   "cell_type": "code",
   "execution_count": 4,
   "id": "4b786f82",
   "metadata": {},
   "outputs": [
    {
     "name": "stdout",
     "output_type": "stream",
     "text": [
      "fig_utils from mplh\n",
      "0.5.6\n"
     ]
    }
   ],
   "source": [
    "from os.path import join, exists, dirname\n",
    "from glob import glob\n",
    "import pickle\n",
    "import mplh.cluster_help as ch\n",
    "import mplh.fig_utils as fu\n",
    "\n",
    "import os\n",
    "import vireoSNP\n",
    "import numpy as np\n",
    "from scipy import sparse\n",
    "from scipy.io import mmread\n",
    "import matplotlib.pyplot as plt\n",
    "from scipy.stats import hypergeom\n",
    "print(vireoSNP.__version__)\n",
    "\n",
    "import pandas as pd\n",
    "import seaborn as sns\n",
    "from vireoSNP import Vireo\n",
    "np.set_printoptions(formatter={'float': lambda x: format(x, '.5f')})"
   ]
  },
  {
   "cell_type": "code",
   "execution_count": 5,
   "id": "5aa7b2ae",
   "metadata": {
    "scrolled": true
   },
   "outputs": [
    {
     "data": {
      "text/plain": [
       "array(['0_C1', '0_C2', '0_C0'], dtype=object)"
      ]
     },
     "execution_count": 5,
     "metadata": {},
     "output_type": "execute_result"
    }
   ],
   "source": [
    "clone_order = pd.read_csv(clone_order_f, header=None)[0].values\n",
    "clone_order"
   ]
  },
  {
   "cell_type": "markdown",
   "id": "bd871699",
   "metadata": {},
   "source": [
    "## Concatenate vertically each panel"
   ]
  },
  {
   "cell_type": "code",
   "execution_count": 6,
   "id": "b703c154",
   "metadata": {},
   "outputs": [],
   "source": [
    "in_imgs = glob(outdir+\"/*pdf\")\n",
    "n_imgs = len(in_imgs)"
   ]
  },
  {
   "cell_type": "code",
   "execution_count": 7,
   "id": "37c446df",
   "metadata": {
    "scrolled": false
   },
   "outputs": [
    {
     "name": "stdout",
     "output_type": "stream",
     "text": [
      "convert /data/Mito_Trace/output/pipeline/v02/CHIP_b1/MTBlacklist_A2/data/merged/MT/cellr_True/numread_200/filters/minC10_minR50_topN0_hetT0.001_hetC10_hetCount5_bq20/mgatk/vireoIn/single_clones/donor0/cloneMethod_variants_init_knn_resolution_30/clonalShift_method_dendro_bc/single/umap_clust_col.pdf /data/Mito_Trace/output/pipeline/v02/CHIP_b1/MTBlacklist_A2/data/merged/MT/cellr_True/numread_200/filters/minC10_minR50_topN0_hetT0.001_hetC10_hetCount5_bq20/mgatk/vireoIn/single_clones/donor0/cloneMethod_variants_init_knn_resolution_30/clonalShift_method_dendro_bc/single/umap_cond_col.pdf /data/Mito_Trace/output/pipeline/v02/CHIP_b1/MTBlacklist_A2/data/merged/MT/cellr_True/numread_200/filters/minC10_minR50_topN0_hetT0.001_hetC10_hetCount5_bq20/mgatk/vireoIn/single_clones/donor0/cloneMethod_variants_init_knn_resolution_30/clonalShift_method_dendro_bc/single/top10_sig_hypergeo.pdf +append /data/Mito_Trace/output/pipeline/v02/CHIP_b1/MTBlacklist_A2/data/merged/MT/cellr_True/numread_200/filters/minC10_minR50_topN0_hetT0.001_hetC10_hetCount5_bq20/mgatk/vireoIn/single_clones/donor0/cloneMethod_variants_init_knn_resolution_30/clonalShift_method_dendro_bc/single//merge_panels.pdf\n"
     ]
    }
   ],
   "source": [
    "cmd = f\"convert {' '.join(in_imgs)} +append {outdir}/merge_panels.pdf\"\n",
    "print(cmd)\n",
    "!{cmd}"
   ]
  },
  {
   "cell_type": "code",
   "execution_count": 8,
   "id": "fd883617",
   "metadata": {
    "scrolled": true
   },
   "outputs": [
    {
     "ename": "UnidentifiedImageError",
     "evalue": "cannot identify image file '/data/Mito_Trace/output/pipeline/v02/CHIP_b1/MTBlacklist_A2/data/merged/MT/cellr_True/numread_200/filters/minC10_minR50_topN0_hetT0.001_hetC10_hetCount5_bq20/mgatk/vireoIn/single_clones/donor0/cloneMethod_variants_init_knn_resolution_30/clonalShift_method_clones/single/top10_cluster_distribution.pdf'",
     "output_type": "error",
     "traceback": [
      "\u001b[0;31m---------------------------------------------------------------------------\u001b[0m",
      "\u001b[0;31mUnidentifiedImageError\u001b[0m                    Traceback (most recent call last)",
      "\u001b[0;32m/tmp/ipykernel_1268250/92044481.py\u001b[0m in \u001b[0;36m<module>\u001b[0;34m\u001b[0m\n\u001b[1;32m      7\u001b[0m \u001b[0mhs\u001b[0m \u001b[0;34m=\u001b[0m \u001b[0;34m[\u001b[0m\u001b[0;34m]\u001b[0m\u001b[0;34m\u001b[0m\u001b[0;34m\u001b[0m\u001b[0m\n\u001b[1;32m      8\u001b[0m \u001b[0;32mfor\u001b[0m \u001b[0mf\u001b[0m \u001b[0;32min\u001b[0m \u001b[0min_imgs\u001b[0m\u001b[0;34m:\u001b[0m\u001b[0;34m\u001b[0m\u001b[0;34m\u001b[0m\u001b[0m\n\u001b[0;32m----> 9\u001b[0;31m     \u001b[0mimgs\u001b[0m\u001b[0;34m.\u001b[0m\u001b[0mappend\u001b[0m\u001b[0;34m(\u001b[0m\u001b[0mImage\u001b[0m\u001b[0;34m.\u001b[0m\u001b[0mopen\u001b[0m\u001b[0;34m(\u001b[0m\u001b[0mfp\u001b[0m\u001b[0;34m=\u001b[0m\u001b[0mf\u001b[0m\u001b[0;34m)\u001b[0m\u001b[0;34m)\u001b[0m\u001b[0;34m\u001b[0m\u001b[0;34m\u001b[0m\u001b[0m\n\u001b[0m\u001b[1;32m     10\u001b[0m     \u001b[0mc_w\u001b[0m\u001b[0;34m,\u001b[0m \u001b[0mc_h\u001b[0m \u001b[0;34m=\u001b[0m \u001b[0mimgs\u001b[0m\u001b[0;34m[\u001b[0m\u001b[0;34m-\u001b[0m\u001b[0;36m1\u001b[0m\u001b[0;34m]\u001b[0m\u001b[0;34m.\u001b[0m\u001b[0msize\u001b[0m\u001b[0;34m\u001b[0m\u001b[0;34m\u001b[0m\u001b[0m\n\u001b[1;32m     11\u001b[0m     \u001b[0mws\u001b[0m\u001b[0;34m.\u001b[0m\u001b[0mappend\u001b[0m\u001b[0;34m(\u001b[0m\u001b[0mc_w\u001b[0m\u001b[0;34m)\u001b[0m\u001b[0;34m\u001b[0m\u001b[0;34m\u001b[0m\u001b[0m\n",
      "\u001b[0;32m~/miniconda3/envs/mttrace/lib/python3.7/site-packages/PIL/Image.py\u001b[0m in \u001b[0;36mopen\u001b[0;34m(fp, mode, formats)\u001b[0m\n\u001b[1;32m   3122\u001b[0m         \u001b[0mwarnings\u001b[0m\u001b[0;34m.\u001b[0m\u001b[0mwarn\u001b[0m\u001b[0;34m(\u001b[0m\u001b[0mmessage\u001b[0m\u001b[0;34m)\u001b[0m\u001b[0;34m\u001b[0m\u001b[0;34m\u001b[0m\u001b[0m\n\u001b[1;32m   3123\u001b[0m     raise UnidentifiedImageError(\n\u001b[0;32m-> 3124\u001b[0;31m         \u001b[0;34m\"cannot identify image file %r\"\u001b[0m \u001b[0;34m%\u001b[0m \u001b[0;34m(\u001b[0m\u001b[0mfilename\u001b[0m \u001b[0;32mif\u001b[0m \u001b[0mfilename\u001b[0m \u001b[0;32melse\u001b[0m \u001b[0mfp\u001b[0m\u001b[0;34m)\u001b[0m\u001b[0;34m\u001b[0m\u001b[0;34m\u001b[0m\u001b[0m\n\u001b[0m\u001b[1;32m   3125\u001b[0m     )\n\u001b[1;32m   3126\u001b[0m \u001b[0;34m\u001b[0m\u001b[0m\n",
      "\u001b[0;31mUnidentifiedImageError\u001b[0m: cannot identify image file '/data/Mito_Trace/output/pipeline/v02/CHIP_b1/MTBlacklist_A2/data/merged/MT/cellr_True/numread_200/filters/minC10_minR50_topN0_hetT0.001_hetC10_hetCount5_bq20/mgatk/vireoIn/single_clones/donor0/cloneMethod_variants_init_knn_resolution_30/clonalShift_method_clones/single/top10_cluster_distribution.pdf'"
     ]
    }
   ],
   "source": [
    "\n",
    "# imgs = []\n",
    "# ws = []\n",
    "# hs = []\n",
    "# for f in in_imgs:\n",
    "#     imgs.append(Image.open(fp=f))\n",
    "#     c_w, c_h = imgs[-1].size\n",
    "#     ws.append(c_w)\n",
    "#     hs.append(c_h)\n",
    "\n",
    "# w = sum(ws)\n",
    "# h = max(hs)\n",
    "\n",
    "# new_image = Image.new('RGB', (w, h)) #(w*2, h*2))\n",
    "\n",
    "# x_offset = 0\n",
    "# for ind, img in enumerate(imgs):\n",
    "#     new_image.paste(img, (x_offset,0))\n",
    "#     x_offset += img.size[0]\n",
    "# #     new_image.composite(image=img2, left=w, top=0)\n",
    "# #     new_image.composite(image=img3, left=0, top=h)\n",
    "# #     new_image.composite(image=img4, left=w, top=h)\n",
    "\n",
    "# new_image.save(join(curr_indir,'merge_figures.pdf'))\n",
    "\n",
    "\n",
    "# merge_files = {\"clust_cond_ncells\":\"cluster_condition_ncells.png\", \n",
    "#                \"clust_splitCond_ncells\":\"cluster_lineage_splitCondition_ncells_norm.png\",\n",
    "#                \"ad\":'ad.png', \"af\":'af.png',\"dp\":'dp.png', \n",
    "#                \"umap_clust\": \"umap_clust_color.png\", \"umap_cond\": \".umap_cond_color.png\" }\n",
    "\n",
    "# merge_order = [\"clust_cond_ncells\", \"clust_splitCond_ncells\", \"ad\", \"af\",\"dp\", \n",
    "#                \"umap_clust\", \"umap_cond\"]\n",
    "\n",
    "# merge_files\n",
    "\n",
    "# for i in range(top_clones):\n",
    "#     curr_clone = clone_order[i]\n",
    "#     curr_cloneID = f\"cloneID_{curr_clone}\"\n",
    "#     curr_indir = join(outdir, curr_cloneID)\n",
    "#     #print(glob(curr_indir+\"/*\"))\n",
    "    \n",
    "#     curr_merge_files = merge_files.copy()\n",
    "#     for f in curr_merge_files:\n",
    "#         if f == \"umap_clust\" or f==\"umap_cond\":\n",
    "#             curr_merge_files[f] = join(curr_indir, f\"{curr_cloneID}{curr_merge_files[f]}\")\n",
    "#             #curr_merge_files[f] = join(curr_indir, f\"{curr_cloneID}{curr_merge_files[f]}\")\n",
    "#         else:\n",
    "#             curr_merge_files[f] = join(curr_indir, curr_merge_files[f])\n",
    "        \n",
    "\n",
    "# imgs = []\n",
    "# ws = []\n",
    "# hs = []\n",
    "# for f in curr_merge_files:\n",
    "#     imgs.append(Image.open(fp=curr_merge_files[f]))\n",
    "#     c_w, c_h = imgs[-1].size\n",
    "#     ws.append(c_w)\n",
    "#     hs.append(c_h)\n",
    "\n",
    "# w = sum(ws)\n",
    "# h = max(hs)\n",
    "\n",
    "# new_image = Image.new('RGB', (w, h)) #(w*2, h*2))\n",
    "\n",
    "# x_offset = 0\n",
    "# for ind, img in enumerate(imgs):\n",
    "#     new_image.paste(img, (x_offset,0))\n",
    "#     x_offset += img.size[0]\n",
    "# #     new_image.composite(image=img2, left=w, top=0)\n",
    "# #     new_image.composite(image=img3, left=0, top=h)\n",
    "# #     new_image.composite(image=img4, left=w, top=h)\n",
    "\n",
    "# new_image.save(join(curr_indir,'merge_figures.pdf'))"
   ]
  },
  {
   "cell_type": "code",
   "execution_count": null,
   "id": "214468a1",
   "metadata": {},
   "outputs": [],
   "source": []
  }
 ],
 "metadata": {
  "kernelspec": {
   "display_name": "Python 3 (ipykernel)",
   "language": "python",
   "name": "python3"
  },
  "language_info": {
   "codemirror_mode": {
    "name": "ipython",
    "version": 3
   },
   "file_extension": ".py",
   "mimetype": "text/x-python",
   "name": "python",
   "nbconvert_exporter": "python",
   "pygments_lexer": "ipython3",
   "version": "3.7.12"
  }
 },
 "nbformat": 4,
 "nbformat_minor": 5
}
