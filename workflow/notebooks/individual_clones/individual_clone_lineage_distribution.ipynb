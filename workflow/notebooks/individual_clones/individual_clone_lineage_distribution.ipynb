{
 "cells": [
  {
   "cell_type": "code",
   "execution_count": 1,
   "id": "57a92ea7",
   "metadata": {},
   "outputs": [],
   "source": [
    "\n",
    "# INDIR = \"/data/Mito_Trace/output/pipeline/cd34norm/MTblacklist/data/merged/MT/cellr_True/numread_200/filters/minC10_minR50_topN0_hetT0.001_hetC10_hetCount5_bq20/mgatk/vireoIn/clones/variants_mgatkdonor/vireo/nclones20\"\n",
    "# OUTDIR = \"/data/Mito_Trace/output/pipeline/cd34norm/MTblacklist/results/merged/MT/cellr_True/numread_200/filters/minC10_minR50_topN0_hetT0.001_hetC10_hetCount5_bq20/mgatk/vireoIn/clones/variants_mgatkdonor/vireo/nclones20/clones_dendro\"\n",
    "# DONOR = 3\n",
    "# COUNT_INDIR = \"/data/Mito_Trace/output/pipeline/cd34norm/MTblacklist/data/merged/MT/cellr_True/numread_200/filters/minC10_minR50_topN0_hetT0.001_hetC10_hetCount5_bq20/mgatk/vireoIn/clones/variants_mgatkdonor/donor3/mgatk\"\n",
    "# var_type = \"mgatkdonor\"\n",
    "\n",
    "#INDIR = \"/data/Mito_Trace/output/pipeline/v02/CHIP_b1/MTBlacklist_A2/data/merged/MT/cellr_True/numread_200/filters/minC10_minR50_topN0_hetT0.001_hetC10_hetCount5_bq20/mgatk/vireoIn/clones/variants_init/knn/kparam_30/\"\n",
    "\n",
    "\n",
    "cells_meta_f = \"/data/Mito_Trace/output/pipeline/v02/CHIP_b1/MTBlacklist_A2/data/merged/MT/cellr_True/numread_200/filters/minC10_minR50_topN0_hetT0.001_hetC10_hetCount5_bq20/mgatk/vireoIn/single_clones/donor0/cloneMethod_variants_init_mt_bestparams_af.0.1_othaf.0.1_cov.10_othcov.10_ncells.10_othncells.0.25_mean.0/clonalShift_method_mt_as_clones_dendro/cells_meta.tsv\"\n",
    "outdir = \"/data/Mito_Trace/output/pipeline/v02/CHIP_b1/MTBlacklist_A2/data/merged/MT/cellr_True/numread_200/filters/minC10_minR50_topN0_hetT0.001_hetC10_hetCount5_bq20/mgatk/vireoIn/single_clones/donor0/cloneMethod_variants_init_mt_bestparams_af.0.1_othaf.0.1_cov.10_othcov.10_ncells.10_othncells.0.25_mean.0/clonalShift_method_mt_as_clones_dendro/single/\"\n",
    "\n",
    "#cloneID = \"0_C6\"\n"
   ]
  },
  {
   "cell_type": "code",
   "execution_count": 2,
   "id": "4b786f82",
   "metadata": {},
   "outputs": [
    {
     "name": "stdout",
     "output_type": "stream",
     "text": [
      "fig_utils from mplh\n",
      "0.5.6\n"
     ]
    }
   ],
   "source": [
    "from os.path import join, exists, dirname\n",
    "from glob import glob\n",
    "import pickle\n",
    "import mplh.cluster_help as ch\n",
    "import mplh.fig_utils as fu\n",
    "\n",
    "import os\n",
    "import vireoSNP\n",
    "import numpy as np\n",
    "from scipy import sparse\n",
    "from scipy.io import mmread\n",
    "import matplotlib.pyplot as plt\n",
    "from scipy.stats import hypergeom\n",
    "print(vireoSNP.__version__)\n",
    "\n",
    "import pandas as pd\n",
    "import seaborn as sns\n",
    "from vireoSNP import Vireo\n",
    "np.set_printoptions(formatter={'float': lambda x: format(x, '.5f')})"
   ]
  },
  {
   "cell_type": "code",
   "execution_count": 3,
   "id": "9ef3b4cb",
   "metadata": {},
   "outputs": [],
   "source": [
    "import seaborn as sns\n",
    "from mplh import cluster_help as ch"
   ]
  },
  {
   "cell_type": "code",
   "execution_count": 4,
   "id": "12d770d9",
   "metadata": {
    "scrolled": true
   },
   "outputs": [
    {
     "data": {
      "text/html": [
       "<div>\n",
       "<style scoped>\n",
       "    .dataframe tbody tr th:only-of-type {\n",
       "        vertical-align: middle;\n",
       "    }\n",
       "\n",
       "    .dataframe tbody tr th {\n",
       "        vertical-align: top;\n",
       "    }\n",
       "\n",
       "    .dataframe thead th {\n",
       "        text-align: right;\n",
       "    }\n",
       "</style>\n",
       "<table border=\"1\" class=\"dataframe\">\n",
       "  <thead>\n",
       "    <tr style=\"text-align: right;\">\n",
       "      <th></th>\n",
       "      <th>donor</th>\n",
       "      <th>cloneID</th>\n",
       "      <th>condition</th>\n",
       "      <th>clusterID</th>\n",
       "    </tr>\n",
       "  </thead>\n",
       "  <tbody>\n",
       "    <tr>\n",
       "      <th>Input_GCGCCAAGTTGCCTGG-1</th>\n",
       "      <td>0</td>\n",
       "      <td>0_C8</td>\n",
       "      <td>Input</td>\n",
       "      <td>MPP/CMP/GMP</td>\n",
       "    </tr>\n",
       "    <tr>\n",
       "      <th>Flt3l_GGTCATACAAGGCGTA-1</th>\n",
       "      <td>0</td>\n",
       "      <td>0_C7</td>\n",
       "      <td>Flt3l</td>\n",
       "      <td>neutrophil B</td>\n",
       "    </tr>\n",
       "    <tr>\n",
       "      <th>Control_CAGTGCGAGGTTCTCA-1</th>\n",
       "      <td>0</td>\n",
       "      <td>0_C0</td>\n",
       "      <td>Control</td>\n",
       "      <td>eosonophil</td>\n",
       "    </tr>\n",
       "    <tr>\n",
       "      <th>Input_ACTTTCAGTACTATGC-1</th>\n",
       "      <td>0</td>\n",
       "      <td>0_C8</td>\n",
       "      <td>Input</td>\n",
       "      <td>MPP/CMP/GMP</td>\n",
       "    </tr>\n",
       "    <tr>\n",
       "      <th>Input_TTGACGATCCTCCATG-1</th>\n",
       "      <td>0</td>\n",
       "      <td>0_C8</td>\n",
       "      <td>Input</td>\n",
       "      <td>neutrophil B</td>\n",
       "    </tr>\n",
       "    <tr>\n",
       "      <th>...</th>\n",
       "      <td>...</td>\n",
       "      <td>...</td>\n",
       "      <td>...</td>\n",
       "      <td>...</td>\n",
       "    </tr>\n",
       "    <tr>\n",
       "      <th>Control_GGATAGGAGCTCGTTA-1</th>\n",
       "      <td>0</td>\n",
       "      <td>0_C1</td>\n",
       "      <td>Control</td>\n",
       "      <td>neutrophil</td>\n",
       "    </tr>\n",
       "    <tr>\n",
       "      <th>Input_ACATGCAAGAAATACC-1</th>\n",
       "      <td>0</td>\n",
       "      <td>0_C0</td>\n",
       "      <td>Input</td>\n",
       "      <td>MPP/CMP/GMP B</td>\n",
       "    </tr>\n",
       "    <tr>\n",
       "      <th>Input_TCCAGAAGTAGGGTCA-1</th>\n",
       "      <td>0</td>\n",
       "      <td>0_C5</td>\n",
       "      <td>Input</td>\n",
       "      <td>MPP/CMP/GMP B</td>\n",
       "    </tr>\n",
       "    <tr>\n",
       "      <th>Flt3l_CTGTTCGGTGGTTCTA-1</th>\n",
       "      <td>0</td>\n",
       "      <td>0_C0</td>\n",
       "      <td>Flt3l</td>\n",
       "      <td>meg/erythroid</td>\n",
       "    </tr>\n",
       "    <tr>\n",
       "      <th>Flt3l_CGGTGCAAGCGCGTTC-1</th>\n",
       "      <td>0</td>\n",
       "      <td>0_C5</td>\n",
       "      <td>Flt3l</td>\n",
       "      <td>MPP/CMP/GMP D</td>\n",
       "    </tr>\n",
       "  </tbody>\n",
       "</table>\n",
       "<p>8660 rows × 4 columns</p>\n",
       "</div>"
      ],
      "text/plain": [
       "                            donor cloneID condition      clusterID\n",
       "Input_GCGCCAAGTTGCCTGG-1        0    0_C8     Input    MPP/CMP/GMP\n",
       "Flt3l_GGTCATACAAGGCGTA-1        0    0_C7     Flt3l   neutrophil B\n",
       "Control_CAGTGCGAGGTTCTCA-1      0    0_C0   Control     eosonophil\n",
       "Input_ACTTTCAGTACTATGC-1        0    0_C8     Input    MPP/CMP/GMP\n",
       "Input_TTGACGATCCTCCATG-1        0    0_C8     Input   neutrophil B\n",
       "...                           ...     ...       ...            ...\n",
       "Control_GGATAGGAGCTCGTTA-1      0    0_C1   Control     neutrophil\n",
       "Input_ACATGCAAGAAATACC-1        0    0_C0     Input  MPP/CMP/GMP B\n",
       "Input_TCCAGAAGTAGGGTCA-1        0    0_C5     Input  MPP/CMP/GMP B\n",
       "Flt3l_CTGTTCGGTGGTTCTA-1        0    0_C0     Flt3l  meg/erythroid\n",
       "Flt3l_CGGTGCAAGCGCGTTC-1        0    0_C5     Flt3l  MPP/CMP/GMP D\n",
       "\n",
       "[8660 rows x 4 columns]"
      ]
     },
     "execution_count": 4,
     "metadata": {},
     "output_type": "execute_result"
    }
   ],
   "source": [
    "cells_meta = pd.read_csv(cells_meta_f,sep=\"\\t\", index_col=0)\n",
    "cells_meta"
   ]
  },
  {
   "cell_type": "markdown",
   "id": "09974b64",
   "metadata": {},
   "source": [
    "## Filter for clone"
   ]
  },
  {
   "cell_type": "code",
   "execution_count": 5,
   "id": "5dd14624",
   "metadata": {
    "scrolled": true
   },
   "outputs": [
    {
     "data": {
      "text/plain": [
       "clusterID\n",
       "CLP               177\n",
       "DC                199\n",
       "MEP               310\n",
       "MPP/CMP/GMP       968\n",
       "MPP/CMP/GMP B    1353\n",
       "MPP/CMP/GMP C     554\n",
       "MPP/CMP/GMP D     182\n",
       "eosonophil        692\n",
       "erythroid         483\n",
       "macrophage       1183\n",
       "meg/erythroid     564\n",
       "monocyte          382\n",
       "neutrophil       1085\n",
       "neutrophil B      487\n",
       "dtype: int64"
      ]
     },
     "execution_count": 5,
     "metadata": {},
     "output_type": "execute_result"
    }
   ],
   "source": [
    "norm_condition = cells_meta.groupby(\"condition\").size()\n",
    "norm_condition\n",
    "\n",
    "norm_lineage = cells_meta.groupby(\"clusterID\").size()\n",
    "norm_lineage"
   ]
  },
  {
   "cell_type": "code",
   "execution_count": 6,
   "id": "f18ef4d4",
   "metadata": {
    "scrolled": false
   },
   "outputs": [
    {
     "name": "stdout",
     "output_type": "stream",
     "text": [
      "0_C0\n",
      "0_C1\n",
      "0_C2\n",
      "0_C3\n",
      "0_C4\n",
      "0_C5\n",
      "0_C6\n",
      "0_C7\n",
      "0_C8\n",
      "0_C9\n"
     ]
    }
   ],
   "source": [
    "for clone_id, curr_cells in cells_meta.groupby(\"cloneID\"):\n",
    "    print(clone_id)\n",
    "\n",
    "    curr_dir = join(outdir, f\"cloneID_{clone_id}\")\n",
    "    if not exists(curr_dir):\n",
    "        os.mkdir(curr_dir)\n",
    "        \n",
    "    f, ax = plt.subplots(figsize=(12,12), dpi=300)\n",
    "\n",
    "    curr_cells_group = curr_cells.groupby([\"clusterID\", \"condition\"]).size().reset_index().pivot(index=\"clusterID\", columns=\"condition\", values=0).fillna(0)\n",
    "    curr_cells_group.plot.bar(stacked=True, ax=ax)\n",
    "    plt.savefig(join(curr_dir, \"cluster_condition_ncells.png\"))\n",
    "    f, ax = plt.subplots(figsize=(12,12), dpi=300)\n",
    "    curr_cells_group_norm = curr_cells_group.apply(lambda x: x/norm_condition.loc[x.name], axis=0)\n",
    "    curr_cells_group_norm.plot.bar(stacked=True, ax=ax)\n",
    "    plt.savefig(join(curr_dir, \"cluster_condition_ncells_norm.png\"))\n",
    "    \n",
    "    f, ax = plt.subplots(figsize=(12,12), dpi=300)\n",
    "    curr_cells_lineage_group = curr_cells.groupby([\"clusterID\", \"condition\"]).size().reset_index().pivot(columns=\"clusterID\", index=\"condition\", values=0).fillna(0)\n",
    "    curr_cells_group_norm = curr_cells_lineage_group.apply(lambda x: x/norm_lineage.loc[x.name], axis=0)\n",
    "    curr_cells_lineage_group.plot.bar(stacked=True, ax=ax)\n",
    "    plt.savefig(join(curr_dir, \"cluster_lineage_splitCondition_ncells_norm.png\"))\n",
    "    plt.close('all')"
   ]
  },
  {
   "cell_type": "code",
   "execution_count": null,
   "id": "214468a1",
   "metadata": {},
   "outputs": [],
   "source": []
  }
 ],
 "metadata": {
  "kernelspec": {
   "display_name": "Python 3 (ipykernel)",
   "language": "python",
   "name": "python3"
  },
  "language_info": {
   "codemirror_mode": {
    "name": "ipython",
    "version": 3
   },
   "file_extension": ".py",
   "mimetype": "text/x-python",
   "name": "python",
   "nbconvert_exporter": "python",
   "pygments_lexer": "ipython3",
   "version": "3.7.12"
  }
 },
 "nbformat": 4,
 "nbformat_minor": 5
}
