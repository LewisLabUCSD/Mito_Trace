{
 "cells": [
  {
   "cell_type": "code",
   "execution_count": 1,
   "id": "57a92ea7",
   "metadata": {
    "tags": [
     "parameters"
    ]
   },
   "outputs": [],
   "source": [
    "#outdir = \"/data/Mito_Trace/output/pipeline/v02/CHIP_b1/MTBlacklist_A2/data/merged/MT/cellr_True/numread_200/filters/minC10_minR50_topN0_hetT0.001_hetC10_hetCount5_bq20/mgatk/vireoIn/single_clones/donor0/cloneMethod_variants_init_knn_resolution_30/clonalShift_method_clones/single/\"\n",
    "outdir = \"/data/Mito_Trace/output/pipeline/v02/CHIP_b1/MTBlacklist_A2/data/merged/MT/cellr_True/numread_200/filters/minC10_minR50_topN0_hetT0.001_hetC10_hetCount5_bq20/mgatk/vireoIn/single_clones/donor0/cloneMethod_variants_init_knn_resolution_30/clonalShift_method_clones/top/\"\n",
    "#cloneID = \"0_C6\"\n"
   ]
  },
  {
   "cell_type": "code",
   "execution_count": 2,
   "id": "4b786f82",
   "metadata": {},
   "outputs": [
    {
     "name": "stdout",
     "output_type": "stream",
     "text": [
      "fig_utils from mplh\n",
      "0.5.6\n"
     ]
    }
   ],
   "source": [
    "from os.path import join, exists, dirname\n",
    "from glob import glob\n",
    "import pickle\n",
    "import mplh.cluster_help as ch\n",
    "import mplh.fig_utils as fu\n",
    "\n",
    "import os\n",
    "import vireoSNP\n",
    "import numpy as np\n",
    "from scipy import sparse\n",
    "from scipy.io import mmread\n",
    "import matplotlib.pyplot as plt\n",
    "from scipy.stats import hypergeom\n",
    "print(vireoSNP.__version__)\n",
    "\n",
    "import pandas as pd\n",
    "import seaborn as sns\n",
    "from vireoSNP import Vireo\n",
    "np.set_printoptions(formatter={'float': lambda x: format(x, '.5f')})\n",
    "\n",
    "from svgutils.compose import *\n"
   ]
  },
  {
   "cell_type": "markdown",
   "id": "bd871699",
   "metadata": {},
   "source": [
    "## Concatenate vertically each panel"
   ]
  },
  {
   "cell_type": "code",
   "execution_count": 3,
   "id": "b703c154",
   "metadata": {
    "scrolled": true
   },
   "outputs": [
    {
     "data": {
      "text/plain": [
       "['/data/Mito_Trace/output/pipeline/v02/CHIP_b1/MTBlacklist_A2/data/merged/MT/cellr_True/numread_200/filters/minC10_minR50_topN0_hetT0.001_hetC10_hetCount5_bq20/mgatk/vireoIn/single_clones/donor0/cloneMethod_variants_init_knn_resolution_30/clonalShift_method_clones/top/top_variants_distinct_pct_vs_other.svg',\n",
       " '/data/Mito_Trace/output/pipeline/v02/CHIP_b1/MTBlacklist_A2/data/merged/MT/cellr_True/numread_200/filters/minC10_minR50_topN0_hetT0.001_hetC10_hetCount5_bq20/mgatk/vireoIn/single_clones/donor0/cloneMethod_variants_init_knn_resolution_30/clonalShift_method_clones/top/top10_sig_hypergeo.svg',\n",
       " '/data/Mito_Trace/output/pipeline/v02/CHIP_b1/MTBlacklist_A2/data/merged/MT/cellr_True/numread_200/filters/minC10_minR50_topN0_hetT0.001_hetC10_hetCount5_bq20/mgatk/vireoIn/single_clones/donor0/cloneMethod_variants_init_knn_resolution_30/clonalShift_method_clones/top/top_variants_af.svg',\n",
       " '/data/Mito_Trace/output/pipeline/v02/CHIP_b1/MTBlacklist_A2/data/merged/MT/cellr_True/numread_200/filters/minC10_minR50_topN0_hetT0.001_hetC10_hetCount5_bq20/mgatk/vireoIn/single_clones/donor0/cloneMethod_variants_init_knn_resolution_30/clonalShift_method_clones/top/top_umap_clust_col.svg',\n",
       " '/data/Mito_Trace/output/pipeline/v02/CHIP_b1/MTBlacklist_A2/data/merged/MT/cellr_True/numread_200/filters/minC10_minR50_topN0_hetT0.001_hetC10_hetCount5_bq20/mgatk/vireoIn/single_clones/donor0/cloneMethod_variants_init_knn_resolution_30/clonalShift_method_clones/top/top_variants_pct_minus_other.svg',\n",
       " '/data/Mito_Trace/output/pipeline/v02/CHIP_b1/MTBlacklist_A2/data/merged/MT/cellr_True/numread_200/filters/minC10_minR50_topN0_hetT0.001_hetC10_hetCount5_bq20/mgatk/vireoIn/single_clones/donor0/cloneMethod_variants_init_knn_resolution_30/clonalShift_method_clones/top/top_umap_cond_col.svg',\n",
       " '/data/Mito_Trace/output/pipeline/v02/CHIP_b1/MTBlacklist_A2/data/merged/MT/cellr_True/numread_200/filters/minC10_minR50_topN0_hetT0.001_hetC10_hetCount5_bq20/mgatk/vireoIn/single_clones/donor0/cloneMethod_variants_init_knn_resolution_30/clonalShift_method_clones/top/top_cluster_condition_ncells.svg',\n",
       " '/data/Mito_Trace/output/pipeline/v02/CHIP_b1/MTBlacklist_A2/data/merged/MT/cellr_True/numread_200/filters/minC10_minR50_topN0_hetT0.001_hetC10_hetCount5_bq20/mgatk/vireoIn/single_clones/donor0/cloneMethod_variants_init_knn_resolution_30/clonalShift_method_clones/top/top_variants_in_clone_af_boxen.svg']"
      ]
     },
     "execution_count": 3,
     "metadata": {},
     "output_type": "execute_result"
    }
   ],
   "source": [
    "in_imgs = glob(outdir+\"/*svg\")\n",
    "n_imgs = len(in_imgs)\n",
    "\n",
    "in_imgs"
   ]
  },
  {
   "cell_type": "code",
   "execution_count": 4,
   "id": "38f9c255",
   "metadata": {
    "scrolled": true
   },
   "outputs": [],
   "source": [
    "# cmd = f\"gs -dNOPAUSE -sDEVICE=pdfwrite -sOUTPUTFILE=combine.pdf -dBATCH {join(outdir,'top_umap_clust_col.pdf')} {join(outdir,'top_umap_cond_col.pdf')} {join(outdir,'top_cluster_condition_ncells.pdf')}\"\n",
    "# cmd\n"
   ]
  },
  {
   "cell_type": "code",
   "execution_count": 5,
   "id": "50b0156e",
   "metadata": {},
   "outputs": [],
   "source": [
    "import svgutils.transform as sg\n",
    "import sys \n"
   ]
  },
  {
   "cell_type": "code",
   "execution_count": 6,
   "id": "86db6f52",
   "metadata": {},
   "outputs": [],
   "source": [
    "out_svg_f = join(outdir,'clone_shift_combine.svg')\n",
    "out_pdf_f = join(outdir,'clone_shift_combine.pdf')\n",
    "\n",
    "out_vars_svg_f = join(outdir,'clone_variants_combine.svg')\n",
    "out_vars_pdf_f = join(outdir,'clone_variants_combine.pdf')"
   ]
  },
  {
   "cell_type": "code",
   "execution_count": 7,
   "id": "00f2d3ed",
   "metadata": {},
   "outputs": [],
   "source": [
    "f1_umap_clust = join(outdir,'top_umap_clust_col.svg')\n",
    "f2_umap_cond = join(outdir,'top_umap_cond_col.svg')\n",
    "f3_clone_clust = join(outdir,'top_cluster_condition_ncells.svg')\n",
    "f4_hyper = join(outdir,'top10_sig_hypergeo.svg')\n",
    "\n",
    "fvars_pct = join(outdir, \"top_variants_distinct_pct_vs_other.svg\")\n",
    "fvars_pct_minus = join(outdir, \"top_variants_pct_minus_other.svg\")\n",
    "fvars_vars_af = join(outdir, \"top_variants_af.svg\")\n",
    "fvars_vars_af_box = join(outdir, \"top_variants_in_clone_af_boxen.svg\") \n"
   ]
  },
  {
   "cell_type": "code",
   "execution_count": 8,
   "id": "905a72ac",
   "metadata": {
    "scrolled": false
   },
   "outputs": [
    {
     "name": "stdout",
     "output_type": "stream",
     "text": [
      "svg_stack.py --direction=h --margin=100 /data/Mito_Trace/output/pipeline/v02/CHIP_b1/MTBlacklist_A2/data/merged/MT/cellr_True/numread_200/filters/minC10_minR50_topN0_hetT0.001_hetC10_hetCount5_bq20/mgatk/vireoIn/single_clones/donor0/cloneMethod_variants_init_knn_resolution_30/clonalShift_method_clones/top/top_umap_clust_col.svg /data/Mito_Trace/output/pipeline/v02/CHIP_b1/MTBlacklist_A2/data/merged/MT/cellr_True/numread_200/filters/minC10_minR50_topN0_hetT0.001_hetC10_hetCount5_bq20/mgatk/vireoIn/single_clones/donor0/cloneMethod_variants_init_knn_resolution_30/clonalShift_method_clones/top/top_umap_cond_col.svg /data/Mito_Trace/output/pipeline/v02/CHIP_b1/MTBlacklist_A2/data/merged/MT/cellr_True/numread_200/filters/minC10_minR50_topN0_hetT0.001_hetC10_hetCount5_bq20/mgatk/vireoIn/single_clones/donor0/cloneMethod_variants_init_knn_resolution_30/clonalShift_method_clones/top/top_cluster_condition_ncells.svg /data/Mito_Trace/output/pipeline/v02/CHIP_b1/MTBlacklist_A2/data/merged/MT/cellr_True/numread_200/filters/minC10_minR50_topN0_hetT0.001_hetC10_hetCount5_bq20/mgatk/vireoIn/single_clones/donor0/cloneMethod_variants_init_knn_resolution_30/clonalShift_method_clones/top/top10_sig_hypergeo.svg > /data/Mito_Trace/output/pipeline/v02/CHIP_b1/MTBlacklist_A2/data/merged/MT/cellr_True/numread_200/filters/minC10_minR50_topN0_hetT0.001_hetC10_hetCount5_bq20/mgatk/vireoIn/single_clones/donor0/cloneMethod_variants_init_knn_resolution_30/clonalShift_method_clones/top/clone_shift_combine.svg\n",
      "inkscape --export-pdf=/data/Mito_Trace/output/pipeline/v02/CHIP_b1/MTBlacklist_A2/data/merged/MT/cellr_True/numread_200/filters/minC10_minR50_topN0_hetT0.001_hetC10_hetCount5_bq20/mgatk/vireoIn/single_clones/donor0/cloneMethod_variants_init_knn_resolution_30/clonalShift_method_clones/top/clone_shift_combine.pdf /data/Mito_Trace/output/pipeline/v02/CHIP_b1/MTBlacklist_A2/data/merged/MT/cellr_True/numread_200/filters/minC10_minR50_topN0_hetT0.001_hetC10_hetCount5_bq20/mgatk/vireoIn/single_clones/donor0/cloneMethod_variants_init_knn_resolution_30/clonalShift_method_clones/top/clone_shift_combine.svg\n"
     ]
    }
   ],
   "source": [
    "# cmd = f\"svg_stack.py --direction=h --margin=100 {f1_umap_clust} {f2_umap_cond} {f3_clone_clust} {f4_hyper} > {out_svg_f}\"\n",
    "# print(cmd)\n",
    "# !{cmd}\n",
    "\n",
    "# cmd=f\"inkscape --export-pdf={out_pdf_f} {out_svg_f}\"\n",
    "# print(cmd)\n",
    "# !{cmd}\n",
    "\n",
    "import src.utils.fig_concat as fc\n",
    "figure_names = {\"umap_clust\":f1_umap_clust, \"umap_cond\":f2_umap_cond, \n",
    "                \"clone_lineage\": f3_clone_clust, \"hyper\": f4_hyper}\n",
    "svg_df = pd.DataFrame(pd.Series(figure_names), \n",
    "                      columns=[\"Figure\"]).transpose()\n",
    "\n",
    "fc.main_df(svg_df, out_f=out_svg_f, scale=0.25, figure_names=figure_names, verbose=False, to_pdf=True)\n"
   ]
  },
  {
   "cell_type": "code",
   "execution_count": 9,
   "id": "e9552cc3",
   "metadata": {
    "scrolled": false
   },
   "outputs": [
    {
     "name": "stdout",
     "output_type": "stream",
     "text": [
      "svg_stack.py --direction=h --margin=100 /data/Mito_Trace/output/pipeline/v02/CHIP_b1/MTBlacklist_A2/data/merged/MT/cellr_True/numread_200/filters/minC10_minR50_topN0_hetT0.001_hetC10_hetCount5_bq20/mgatk/vireoIn/single_clones/donor0/cloneMethod_variants_init_knn_resolution_30/clonalShift_method_clones/top/top_variants_pct_minus_other.svg /data/Mito_Trace/output/pipeline/v02/CHIP_b1/MTBlacklist_A2/data/merged/MT/cellr_True/numread_200/filters/minC10_minR50_topN0_hetT0.001_hetC10_hetCount5_bq20/mgatk/vireoIn/single_clones/donor0/cloneMethod_variants_init_knn_resolution_30/clonalShift_method_clones/top/top_variants_pct_minus_other.svg /data/Mito_Trace/output/pipeline/v02/CHIP_b1/MTBlacklist_A2/data/merged/MT/cellr_True/numread_200/filters/minC10_minR50_topN0_hetT0.001_hetC10_hetCount5_bq20/mgatk/vireoIn/single_clones/donor0/cloneMethod_variants_init_knn_resolution_30/clonalShift_method_clones/top/top_variants_af.svg /data/Mito_Trace/output/pipeline/v02/CHIP_b1/MTBlacklist_A2/data/merged/MT/cellr_True/numread_200/filters/minC10_minR50_topN0_hetT0.001_hetC10_hetCount5_bq20/mgatk/vireoIn/single_clones/donor0/cloneMethod_variants_init_knn_resolution_30/clonalShift_method_clones/top/top_variants_in_clone_af_boxen.svg > /data/Mito_Trace/output/pipeline/v02/CHIP_b1/MTBlacklist_A2/data/merged/MT/cellr_True/numread_200/filters/minC10_minR50_topN0_hetT0.001_hetC10_hetCount5_bq20/mgatk/vireoIn/single_clones/donor0/cloneMethod_variants_init_knn_resolution_30/clonalShift_method_clones/top/clone_variants_combine.svg\n",
      "inkscape --export-pdf=/data/Mito_Trace/output/pipeline/v02/CHIP_b1/MTBlacklist_A2/data/merged/MT/cellr_True/numread_200/filters/minC10_minR50_topN0_hetT0.001_hetC10_hetCount5_bq20/mgatk/vireoIn/single_clones/donor0/cloneMethod_variants_init_knn_resolution_30/clonalShift_method_clones/top/clone_variants_combine.pdf /data/Mito_Trace/output/pipeline/v02/CHIP_b1/MTBlacklist_A2/data/merged/MT/cellr_True/numread_200/filters/minC10_minR50_topN0_hetT0.001_hetC10_hetCount5_bq20/mgatk/vireoIn/single_clones/donor0/cloneMethod_variants_init_knn_resolution_30/clonalShift_method_clones/top/clone_variants_combine.svg\n"
     ]
    }
   ],
   "source": [
    "cmd = f\"svg_stack.py --direction=h --margin=100 {fvars_pct} {fvars_pct_minus} {fvars_vars_af_box} {fvars_vars_af} > {out_vars_svg_f}\"\n",
    "print(cmd)\n",
    "!{cmd}\n",
    "\n",
    "cmd=f\"inkscape --export-pdf={out_vars_pdf_f} {out_vars_svg_f}\"\n",
    "print(cmd)\n",
    "!{cmd}"
   ]
  }
 ],
 "metadata": {
  "celltoolbar": "Tags",
  "kernelspec": {
   "display_name": "Python 3 (ipykernel)",
   "language": "python",
   "name": "python3"
  },
  "language_info": {
   "codemirror_mode": {
    "name": "ipython",
    "version": 3
   },
   "file_extension": ".py",
   "mimetype": "text/x-python",
   "name": "python",
   "nbconvert_exporter": "python",
   "pygments_lexer": "ipython3",
   "version": "3.7.12"
  }
 },
 "nbformat": 4,
 "nbformat_minor": 5
}
