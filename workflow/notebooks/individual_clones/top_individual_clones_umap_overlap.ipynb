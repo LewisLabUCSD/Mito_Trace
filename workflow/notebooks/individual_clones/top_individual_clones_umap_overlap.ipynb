{
 "cells": [
  {
   "cell_type": "code",
   "execution_count": 1,
   "id": "dc103cc8",
   "metadata": {
    "tags": [
     "parameters"
    ]
   },
   "outputs": [],
   "source": [
    "\n",
    "se_f  = \"/data/Mito_Trace/output/pipeline/v04/CHIP_b1/MTBlacklist_A2/data/merged/MT/cellr_True/numread_200/filters/minC10_minR50_topN0_hetT0.001_hetC10_hetCount5_bq20/mgatk/vireoIn/anno_multiplex/gff_A2_black/SE.rds\"\n",
    "cells_meta_f = \"/data/Mito_Trace/output/pipeline/v04/CHIP_b1/MTBlacklist_A2/data/merged/MT/cellr_True/numread_200/filters/minC10_minR50_topN0_hetT0.001_hetC10_hetCount5_bq20/mgatk/vireoIn/single_clones/donor1/cloneMethod_variants_prefilterMerge_impute_knn_resolution_30/clonalShift_method_clones/cells_meta.tsv\"\n",
    "outdir = \"/data/Mito_Trace/output/pipeline/v04/CHIP_b1/MTBlacklist_A2/data/merged/MT/cellr_True/numread_200/filters/minC10_minR50_topN0_hetT0.001_hetC10_hetCount5_bq20/mgatk/vireoIn/single_clones/donor1/cloneMethod_variants_prefilterMerge_impute_knn_resolution_30/clonalShift_method_clones/top/\"\n",
    "\n",
    "\n",
    "umap_labels_f = \"/data/Mito_Trace/output/pipeline/v04/CHIP_b1/MTBlacklist_A2/results/chip_b1_lineage_markers.txt\"\n",
    "#umap_labels_f = \"\"\n",
    "\n",
    "to_rename=FALSE\n",
    "clone_order_f = \"/data/Mito_Trace/output/pipeline/v04/CHIP_b1/MTBlacklist_A2/data/merged/MT/cellr_True/numread_200/filters/minC10_minR50_topN0_hetT0.001_hetC10_hetCount5_bq20/mgatk/vireoIn/single_clones/donor1/cloneMethod_variants_prefilterMerge_impute_knn_resolution_30/clonalShift_method_clones/clones_ranked/cloneID_rank_ncells.txt\"\n",
    "top_clones = -1\n",
    "conditions = \"Input,Flt3l\""
   ]
  },
  {
   "cell_type": "code",
   "execution_count": 2,
   "id": "4f2cc957",
   "metadata": {
    "scrolled": true
   },
   "outputs": [
    {
     "name": "stderr",
     "output_type": "stream",
     "text": [
      "Registered S3 method overwritten by 'spatstat.core':\n",
      "  method          from\n",
      "  formula.glmmPQL MASS\n",
      "\n",
      "Attaching SeuratObject\n",
      "\n",
      "Attaching sp\n",
      "\n",
      "Warning message:\n",
      "“package ‘RColorBrewer’ was built under R version 4.1.3”\n",
      "Warning message:\n",
      "“package ‘magrittr’ was built under R version 4.1.3”\n",
      "Warning message:\n",
      "“package ‘ggplot2’ was built under R version 4.1.3”\n",
      "\n",
      "Attaching package: ‘patchwork’\n",
      "\n",
      "\n",
      "The following object is masked from ‘package:cowplot’:\n",
      "\n",
      "    align_plots\n",
      "\n",
      "\n",
      "Warning message:\n",
      "“package ‘dplyr’ was built under R version 4.1.3”\n",
      "\n",
      "Attaching package: ‘dplyr’\n",
      "\n",
      "\n",
      "The following objects are masked from ‘package:stats’:\n",
      "\n",
      "    filter, lag\n",
      "\n",
      "\n",
      "The following objects are masked from ‘package:base’:\n",
      "\n",
      "    intersect, setdiff, setequal, union\n",
      "\n",
      "\n",
      "Warning message:\n",
      "“package ‘future’ was built under R version 4.1.3”\n"
     ]
    }
   ],
   "source": [
    "#library(\"Nebulosa\")\n",
    "library(\"Seurat\")\n",
    "library(RColorBrewer)\n",
    "#library(\"Seurat\")\n",
    "library(magrittr)\n",
    "library(cowplot)\n",
    "library(ggplot2)\n",
    "library(Signac)\n",
    "library(patchwork)\n",
    "set.seed(1234)\n",
    "library(magrittr)\n",
    "library(cowplot)\n",
    "library(metap)\n",
    "library(dplyr)\n",
    "library(future)"
   ]
  },
  {
   "cell_type": "code",
   "execution_count": 3,
   "id": "4177deb6",
   "metadata": {
    "scrolled": true
   },
   "outputs": [
    {
     "data": {
      "text/html": [
       "<style>\n",
       ".list-inline {list-style: none; margin:0; padding: 0}\n",
       ".list-inline>li {display: inline-block}\n",
       ".list-inline>li:not(:last-child)::after {content: \"\\00b7\"; padding: 0 .5ex}\n",
       "</style>\n",
       "<ol class=list-inline><li>'Input'</li><li>'Flt3l'</li></ol>\n"
      ],
      "text/latex": [
       "\\begin{enumerate*}\n",
       "\\item 'Input'\n",
       "\\item 'Flt3l'\n",
       "\\end{enumerate*}\n"
      ],
      "text/markdown": [
       "1. 'Input'\n",
       "2. 'Flt3l'\n",
       "\n",
       "\n"
      ],
      "text/plain": [
       "[1] \"Input\" \"Flt3l\""
      ]
     },
     "metadata": {},
     "output_type": "display_data"
    },
    {
     "data": {
      "text/html": [
       "<table class=\"dataframe\">\n",
       "<caption>A matrix: 2 × 2 of type chr</caption>\n",
       "<thead>\n",
       "\t<tr><th scope=col>conditions_l</th><th scope=col>shape_vals</th></tr>\n",
       "</thead>\n",
       "<tbody>\n",
       "\t<tr><td>Input</td><td>16</td></tr>\n",
       "\t<tr><td>Flt3l</td><td>1 </td></tr>\n",
       "</tbody>\n",
       "</table>\n"
      ],
      "text/latex": [
       "A matrix: 2 × 2 of type chr\n",
       "\\begin{tabular}{ll}\n",
       " conditions\\_l & shape\\_vals\\\\\n",
       "\\hline\n",
       "\t Input & 16\\\\\n",
       "\t Flt3l & 1 \\\\\n",
       "\\end{tabular}\n"
      ],
      "text/markdown": [
       "\n",
       "A matrix: 2 × 2 of type chr\n",
       "\n",
       "| conditions_l | shape_vals |\n",
       "|---|---|\n",
       "| Input | 16 |\n",
       "| Flt3l | 1  |\n",
       "\n"
      ],
      "text/plain": [
       "     conditions_l shape_vals\n",
       "[1,] Input        16        \n",
       "[2,] Flt3l        1         "
      ]
     },
     "metadata": {},
     "output_type": "display_data"
    }
   ],
   "source": [
    "shape_vals = c(16,1,15,0) #map for the shapes for the conditions in the umap\n",
    "conditions_l = unlist(strsplit(conditions, \",\",),)\n",
    "conditions_l\n",
    "\n",
    "shape_vals = shape_vals[1:(length(conditions_l))]\n",
    "shape.map <- cbind(conditions_l, shape_vals)\n",
    "shape.map"
   ]
  },
  {
   "cell_type": "code",
   "execution_count": 4,
   "id": "e4436133",
   "metadata": {
    "scrolled": true
   },
   "outputs": [
    {
     "name": "stderr",
     "output_type": "stream",
     "text": [
      "\u001b[1mRows: \u001b[22m\u001b[34m26\u001b[39m \u001b[1mColumns: \u001b[22m\u001b[34m1\u001b[39m\n",
      "\u001b[36m──\u001b[39m \u001b[1mColumn specification\u001b[22m \u001b[36m──────────────────────────────────────────────────────────────────────────────────────────────\u001b[39m\n",
      "\u001b[1mDelimiter:\u001b[22m \",\"\n",
      "\u001b[31mchr\u001b[39m (1): X1\n",
      "\n",
      "\u001b[36mℹ\u001b[39m Use `spec()` to retrieve the full column specification for this data.\n",
      "\u001b[36mℹ\u001b[39m Specify the column types or set `show_col_types = FALSE` to quiet this message.\n"
     ]
    },
    {
     "data": {
      "text/html": [
       "<style>\n",
       ".list-inline {list-style: none; margin:0; padding: 0}\n",
       ".list-inline>li {display: inline-block}\n",
       ".list-inline>li:not(:last-child)::after {content: \"\\00b7\"; padding: 0 .5ex}\n",
       "</style>\n",
       "<ol class=list-inline><li>'1_0'</li><li>'1_1'</li><li>'1_2'</li><li>'1_3'</li><li>'1_4'</li><li>'1_6'</li><li>'1_7'</li><li>'1_8'</li><li>'1_9'</li><li>'1_10'</li><li>'1_11'</li><li>'1_13'</li><li>'1_12'</li><li>'1_14'</li><li>'1_15'</li><li>'1_16'</li><li>'1_17'</li><li>'1_18'</li><li>'1_20'</li><li>'1_22'</li><li>'1_24'</li><li>'1_25'</li><li>'1_21'</li><li>'1_23'</li><li>'1_5'</li><li>'1_19'</li></ol>\n"
      ],
      "text/latex": [
       "\\begin{enumerate*}\n",
       "\\item '1\\_0'\n",
       "\\item '1\\_1'\n",
       "\\item '1\\_2'\n",
       "\\item '1\\_3'\n",
       "\\item '1\\_4'\n",
       "\\item '1\\_6'\n",
       "\\item '1\\_7'\n",
       "\\item '1\\_8'\n",
       "\\item '1\\_9'\n",
       "\\item '1\\_10'\n",
       "\\item '1\\_11'\n",
       "\\item '1\\_13'\n",
       "\\item '1\\_12'\n",
       "\\item '1\\_14'\n",
       "\\item '1\\_15'\n",
       "\\item '1\\_16'\n",
       "\\item '1\\_17'\n",
       "\\item '1\\_18'\n",
       "\\item '1\\_20'\n",
       "\\item '1\\_22'\n",
       "\\item '1\\_24'\n",
       "\\item '1\\_25'\n",
       "\\item '1\\_21'\n",
       "\\item '1\\_23'\n",
       "\\item '1\\_5'\n",
       "\\item '1\\_19'\n",
       "\\end{enumerate*}\n"
      ],
      "text/markdown": [
       "1. '1_0'\n",
       "2. '1_1'\n",
       "3. '1_2'\n",
       "4. '1_3'\n",
       "5. '1_4'\n",
       "6. '1_6'\n",
       "7. '1_7'\n",
       "8. '1_8'\n",
       "9. '1_9'\n",
       "10. '1_10'\n",
       "11. '1_11'\n",
       "12. '1_13'\n",
       "13. '1_12'\n",
       "14. '1_14'\n",
       "15. '1_15'\n",
       "16. '1_16'\n",
       "17. '1_17'\n",
       "18. '1_18'\n",
       "19. '1_20'\n",
       "20. '1_22'\n",
       "21. '1_24'\n",
       "22. '1_25'\n",
       "23. '1_21'\n",
       "24. '1_23'\n",
       "25. '1_5'\n",
       "26. '1_19'\n",
       "\n",
       "\n"
      ],
      "text/plain": [
       " [1] \"1_0\"  \"1_1\"  \"1_2\"  \"1_3\"  \"1_4\"  \"1_6\"  \"1_7\"  \"1_8\"  \"1_9\"  \"1_10\"\n",
       "[11] \"1_11\" \"1_13\" \"1_12\" \"1_14\" \"1_15\" \"1_16\" \"1_17\" \"1_18\" \"1_20\" \"1_22\"\n",
       "[21] \"1_24\" \"1_25\" \"1_21\" \"1_23\" \"1_5\"  \"1_19\""
      ]
     },
     "metadata": {},
     "output_type": "display_data"
    },
    {
     "data": {
      "text/html": [
       "<style>\n",
       ".list-inline {list-style: none; margin:0; padding: 0}\n",
       ".list-inline>li {display: inline-block}\n",
       ".list-inline>li:not(:last-child)::after {content: \"\\00b7\"; padding: 0 .5ex}\n",
       "</style>\n",
       "<ol class=list-inline><li>'1_0'</li><li>'1_1'</li><li>'1_2'</li><li>'1_3'</li><li>'1_4'</li><li>'1_6'</li><li>'1_7'</li><li>'1_8'</li><li>'1_9'</li><li>'1_10'</li><li>'1_11'</li><li>'1_13'</li><li>'1_12'</li><li>'1_14'</li><li>'1_15'</li><li>'1_16'</li><li>'1_17'</li><li>'1_18'</li><li>'1_20'</li><li>'1_22'</li><li>'1_24'</li><li>'1_25'</li><li>'1_21'</li><li>'1_23'</li><li>'1_5'</li><li>'1_19'</li></ol>\n"
      ],
      "text/latex": [
       "\\begin{enumerate*}\n",
       "\\item '1\\_0'\n",
       "\\item '1\\_1'\n",
       "\\item '1\\_2'\n",
       "\\item '1\\_3'\n",
       "\\item '1\\_4'\n",
       "\\item '1\\_6'\n",
       "\\item '1\\_7'\n",
       "\\item '1\\_8'\n",
       "\\item '1\\_9'\n",
       "\\item '1\\_10'\n",
       "\\item '1\\_11'\n",
       "\\item '1\\_13'\n",
       "\\item '1\\_12'\n",
       "\\item '1\\_14'\n",
       "\\item '1\\_15'\n",
       "\\item '1\\_16'\n",
       "\\item '1\\_17'\n",
       "\\item '1\\_18'\n",
       "\\item '1\\_20'\n",
       "\\item '1\\_22'\n",
       "\\item '1\\_24'\n",
       "\\item '1\\_25'\n",
       "\\item '1\\_21'\n",
       "\\item '1\\_23'\n",
       "\\item '1\\_5'\n",
       "\\item '1\\_19'\n",
       "\\end{enumerate*}\n"
      ],
      "text/markdown": [
       "1. '1_0'\n",
       "2. '1_1'\n",
       "3. '1_2'\n",
       "4. '1_3'\n",
       "5. '1_4'\n",
       "6. '1_6'\n",
       "7. '1_7'\n",
       "8. '1_8'\n",
       "9. '1_9'\n",
       "10. '1_10'\n",
       "11. '1_11'\n",
       "12. '1_13'\n",
       "13. '1_12'\n",
       "14. '1_14'\n",
       "15. '1_15'\n",
       "16. '1_16'\n",
       "17. '1_17'\n",
       "18. '1_18'\n",
       "19. '1_20'\n",
       "20. '1_22'\n",
       "21. '1_24'\n",
       "22. '1_25'\n",
       "23. '1_21'\n",
       "24. '1_23'\n",
       "25. '1_5'\n",
       "26. '1_19'\n",
       "\n",
       "\n"
      ],
      "text/plain": [
       " [1] \"1_0\"  \"1_1\"  \"1_2\"  \"1_3\"  \"1_4\"  \"1_6\"  \"1_7\"  \"1_8\"  \"1_9\"  \"1_10\"\n",
       "[11] \"1_11\" \"1_13\" \"1_12\" \"1_14\" \"1_15\" \"1_16\" \"1_17\" \"1_18\" \"1_20\" \"1_22\"\n",
       "[21] \"1_24\" \"1_25\" \"1_21\" \"1_23\" \"1_5\"  \"1_19\""
      ]
     },
     "metadata": {},
     "output_type": "display_data"
    }
   ],
   "source": [
    "clone_order <- as.data.frame(readr::read_csv(clone_order_f,col_names=F))$X1\n",
    "clone_order\n",
    "\n",
    "if(top_clones==-1){\n",
    "    top.clones <- clone_order\n",
    "}else{\n",
    "    top.clones <- clone_order[1:top_clones]\n",
    "}\n",
    "top.clones"
   ]
  },
  {
   "cell_type": "code",
   "execution_count": 5,
   "id": "71dc7fe0",
   "metadata": {
    "scrolled": true
   },
   "outputs": [
    {
     "name": "stderr",
     "output_type": "stream",
     "text": [
      "\u001b[1m\u001b[22mNew names:\n",
      "\u001b[36m•\u001b[39m `` -> `...1`\n",
      "\u001b[1mRows: \u001b[22m\u001b[34m2622\u001b[39m \u001b[1mColumns: \u001b[22m\u001b[34m5\u001b[39m\n",
      "\u001b[36m──\u001b[39m \u001b[1mColumn specification\u001b[22m \u001b[36m──────────────────────────────────────────────────────────────────────────────────────────────\u001b[39m\n",
      "\u001b[1mDelimiter:\u001b[22m \"\\t\"\n",
      "\u001b[31mchr\u001b[39m (4): ...1, cloneID, clusterID, condition\n",
      "\u001b[32mdbl\u001b[39m (1): donor\n",
      "\n",
      "\u001b[36mℹ\u001b[39m Use `spec()` to retrieve the full column specification for this data.\n",
      "\u001b[36mℹ\u001b[39m Specify the column types or set `show_col_types = FALSE` to quiet this message.\n"
     ]
    },
    {
     "data": {
      "text/html": [
       "<style>\n",
       ".list-inline {list-style: none; margin:0; padding: 0}\n",
       ".list-inline>li {display: inline-block}\n",
       ".list-inline>li:not(:last-child)::after {content: \"\\00b7\"; padding: 0 .5ex}\n",
       "</style>\n",
       "<ol class=list-inline><li>'cell'</li><li>'cloneID'</li><li>'clusterID'</li><li>'condition'</li><li>'donor'</li></ol>\n"
      ],
      "text/latex": [
       "\\begin{enumerate*}\n",
       "\\item 'cell'\n",
       "\\item 'cloneID'\n",
       "\\item 'clusterID'\n",
       "\\item 'condition'\n",
       "\\item 'donor'\n",
       "\\end{enumerate*}\n"
      ],
      "text/markdown": [
       "1. 'cell'\n",
       "2. 'cloneID'\n",
       "3. 'clusterID'\n",
       "4. 'condition'\n",
       "5. 'donor'\n",
       "\n",
       "\n"
      ],
      "text/plain": [
       "[1] \"cell\"      \"cloneID\"   \"clusterID\" \"condition\" \"donor\"    "
      ]
     },
     "metadata": {},
     "output_type": "display_data"
    },
    {
     "data": {
      "text/html": [
       "<table class=\"dataframe\">\n",
       "<caption>A data.frame: 2622 × 5</caption>\n",
       "<thead>\n",
       "\t<tr><th></th><th scope=col>cell</th><th scope=col>cloneID</th><th scope=col>clusterID</th><th scope=col>condition</th><th scope=col>donor</th></tr>\n",
       "\t<tr><th></th><th scope=col>&lt;chr&gt;</th><th scope=col>&lt;chr&gt;</th><th scope=col>&lt;chr&gt;</th><th scope=col>&lt;chr&gt;</th><th scope=col>&lt;dbl&gt;</th></tr>\n",
       "</thead>\n",
       "<tbody>\n",
       "\t<tr><th scope=row>Flt3l_AAACTCGGTAGGTCTT-1</th><td>Flt3l_AAACTCGGTAGGTCTT-1</td><td>1_16</td><td>Erythrocyte       </td><td>Flt3l</td><td>1</td></tr>\n",
       "\t<tr><th scope=row>Flt3l_AACATCGGTAGCGTTT-1</th><td>Flt3l_AACATCGGTAGCGTTT-1</td><td>1_7 </td><td>Neutrophil        </td><td>Flt3l</td><td>1</td></tr>\n",
       "\t<tr><th scope=row>Flt3l_AACGGGATCCTTTGCG-1</th><td>Flt3l_AACGGGATCCTTTGCG-1</td><td>1_2 </td><td>Granulocyte       </td><td>Flt3l</td><td>1</td></tr>\n",
       "\t<tr><th scope=row>Flt3l_AACGTACCAAGAAACT-1</th><td>Flt3l_AACGTACCAAGAAACT-1</td><td>1_11</td><td>Classical Monocyte</td><td>Flt3l</td><td>1</td></tr>\n",
       "\t<tr><th scope=row>Flt3l_ACAGGCCGTATCGCGC-1</th><td>Flt3l_ACAGGCCGTATCGCGC-1</td><td>1_12</td><td>Neutrophil        </td><td>Flt3l</td><td>1</td></tr>\n",
       "\t<tr><th scope=row>Flt3l_ACGTTAGCAGCCACGT-1</th><td>Flt3l_ACGTTAGCAGCCACGT-1</td><td>1_6 </td><td>Erythrocyte       </td><td>Flt3l</td><td>1</td></tr>\n",
       "\t<tr><th scope=row>Flt3l_ACTAACGCAATGGTCT-1</th><td>Flt3l_ACTAACGCAATGGTCT-1</td><td>1_13</td><td>Erythrocyte       </td><td>Flt3l</td><td>1</td></tr>\n",
       "\t<tr><th scope=row>Flt3l_ACTACCCTCCATCTAT-1</th><td>Flt3l_ACTACCCTCCATCTAT-1</td><td>1_11</td><td>Neutrophil        </td><td>Flt3l</td><td>1</td></tr>\n",
       "\t<tr><th scope=row>Flt3l_ACTATTCCATATACGC-1</th><td>Flt3l_ACTATTCCATATACGC-1</td><td>1_12</td><td>Neutrophil        </td><td>Flt3l</td><td>1</td></tr>\n",
       "\t<tr><th scope=row>Flt3l_ACTATTCTCACCACAA-1</th><td>Flt3l_ACTATTCTCACCACAA-1</td><td>1_3 </td><td>Neutrophil        </td><td>Flt3l</td><td>1</td></tr>\n",
       "\t<tr><th scope=row>Flt3l_AGCGATTTCGAGAACG-1</th><td>Flt3l_AGCGATTTCGAGAACG-1</td><td>1_8 </td><td>Granulocyte       </td><td>Flt3l</td><td>1</td></tr>\n",
       "\t<tr><th scope=row>Flt3l_AGCTGTAAGAGGCCTA-1</th><td>Flt3l_AGCTGTAAGAGGCCTA-1</td><td>1_11</td><td>Erythrocyte       </td><td>Flt3l</td><td>1</td></tr>\n",
       "\t<tr><th scope=row>Flt3l_AGGCCTGAGATACCAA-1</th><td>Flt3l_AGGCCTGAGATACCAA-1</td><td>1_6 </td><td>Erythrocyte       </td><td>Flt3l</td><td>1</td></tr>\n",
       "\t<tr><th scope=row>Flt3l_AGGCCTGGTCAGCAAG-1</th><td>Flt3l_AGGCCTGGTCAGCAAG-1</td><td>1_6 </td><td>Neutrophil        </td><td>Flt3l</td><td>1</td></tr>\n",
       "\t<tr><th scope=row>Flt3l_AGTCCGGTCGCATACA-1</th><td>Flt3l_AGTCCGGTCGCATACA-1</td><td>1_0 </td><td>Erythrocyte       </td><td>Flt3l</td><td>1</td></tr>\n",
       "\t<tr><th scope=row>Flt3l_AGTTTGGAGTAGTGTA-1</th><td>Flt3l_AGTTTGGAGTAGTGTA-1</td><td>1_4 </td><td>Neutrophil        </td><td>Flt3l</td><td>1</td></tr>\n",
       "\t<tr><th scope=row>Flt3l_ATATTCCCAAACAGTA-1</th><td>Flt3l_ATATTCCCAAACAGTA-1</td><td>1_0 </td><td>Neutrophil        </td><td>Flt3l</td><td>1</td></tr>\n",
       "\t<tr><th scope=row>Flt3l_ATCCTCGCAAGGACCA-1</th><td>Flt3l_ATCCTCGCAAGGACCA-1</td><td>1_0 </td><td>Granulocyte       </td><td>Flt3l</td><td>1</td></tr>\n",
       "\t<tr><th scope=row>Flt3l_ATGGATCGTCCTCAGG-1</th><td>Flt3l_ATGGATCGTCCTCAGG-1</td><td>1_6 </td><td>Neutrophil        </td><td>Flt3l</td><td>1</td></tr>\n",
       "\t<tr><th scope=row>Flt3l_ATGTCGAGTAAGGTCG-1</th><td>Flt3l_ATGTCGAGTAAGGTCG-1</td><td>1_13</td><td>Erythrocyte       </td><td>Flt3l</td><td>1</td></tr>\n",
       "\t<tr><th scope=row>Flt3l_ATGTCTTTCTCTTAAC-1</th><td>Flt3l_ATGTCTTTCTCTTAAC-1</td><td>1_24</td><td>Erythrocyte       </td><td>Flt3l</td><td>1</td></tr>\n",
       "\t<tr><th scope=row>Flt3l_CAACCAAAGCGCACAA-1</th><td>Flt3l_CAACCAAAGCGCACAA-1</td><td>1_13</td><td>Neutrophil        </td><td>Flt3l</td><td>1</td></tr>\n",
       "\t<tr><th scope=row>Flt3l_CAACGTATCGTGGTAT-1</th><td>Flt3l_CAACGTATCGTGGTAT-1</td><td>1_6 </td><td>Classical Monocyte</td><td>Flt3l</td><td>1</td></tr>\n",
       "\t<tr><th scope=row>Flt3l_CACAACATCCATGACA-1</th><td>Flt3l_CACAACATCCATGACA-1</td><td>1_11</td><td>Erythrocyte       </td><td>Flt3l</td><td>1</td></tr>\n",
       "\t<tr><th scope=row>Flt3l_CACAACATCCTCCCAA-1</th><td>Flt3l_CACAACATCCTCCCAA-1</td><td>1_24</td><td>Granulocyte       </td><td>Flt3l</td><td>1</td></tr>\n",
       "\t<tr><th scope=row>Flt3l_CACCACTGTGGTAGAC-1</th><td>Flt3l_CACCACTGTGGTAGAC-1</td><td>1_22</td><td>Granulocyte       </td><td>Flt3l</td><td>1</td></tr>\n",
       "\t<tr><th scope=row>Flt3l_CACCACTTCGATGCAT-1</th><td>Flt3l_CACCACTTCGATGCAT-1</td><td>1_22</td><td>Erythrocyte       </td><td>Flt3l</td><td>1</td></tr>\n",
       "\t<tr><th scope=row>Flt3l_CAGCTAATCCTTACGC-1</th><td>Flt3l_CAGCTAATCCTTACGC-1</td><td>1_13</td><td>Neutrophil        </td><td>Flt3l</td><td>1</td></tr>\n",
       "\t<tr><th scope=row>Flt3l_CAGTGCGGTACCAAGG-1</th><td>Flt3l_CAGTGCGGTACCAAGG-1</td><td>1_15</td><td>Erythrocyte       </td><td>Flt3l</td><td>1</td></tr>\n",
       "\t<tr><th scope=row>Flt3l_CAGTGTATCGGATGTT-1</th><td>Flt3l_CAGTGTATCGGATGTT-1</td><td>1_6 </td><td>Neutrophil        </td><td>Flt3l</td><td>1</td></tr>\n",
       "\t<tr><th scope=row>⋮</th><td>⋮</td><td>⋮</td><td>⋮</td><td>⋮</td><td>⋮</td></tr>\n",
       "\t<tr><th scope=row>Input_TTTGAGGCATACCCGG-1</th><td>Input_TTTGAGGCATACCCGG-1</td><td>1_7 </td><td>MkP        </td><td>Input</td><td>1</td></tr>\n",
       "\t<tr><th scope=row>Input_TTTGAGGCATGCGTTA-1</th><td>Input_TTTGAGGCATGCGTTA-1</td><td>1_10</td><td>HSPC 2     </td><td>Input</td><td>1</td></tr>\n",
       "\t<tr><th scope=row>Input_TTTGAGGGTCATAAGA-1</th><td>Input_TTTGAGGGTCATAAGA-1</td><td>1_18</td><td>HSPC 3     </td><td>Input</td><td>1</td></tr>\n",
       "\t<tr><th scope=row>Input_TTTGAGGTCATGCTTT-1</th><td>Input_TTTGAGGTCATGCTTT-1</td><td>1_8 </td><td>Erythrocyte</td><td>Input</td><td>1</td></tr>\n",
       "\t<tr><th scope=row>Input_TTTGAGGTCTCTTCCT-1</th><td>Input_TTTGAGGTCTCTTCCT-1</td><td>1_10</td><td>HSPC 2     </td><td>Input</td><td>1</td></tr>\n",
       "\t<tr><th scope=row>Input_TTTGCGCAGTGTCGGA-1</th><td>Input_TTTGCGCAGTGTCGGA-1</td><td>1_2 </td><td>HSPC 2     </td><td>Input</td><td>1</td></tr>\n",
       "\t<tr><th scope=row>Input_TTTGCGCTCCACTAGA-1</th><td>Input_TTTGCGCTCCACTAGA-1</td><td>1_0 </td><td>HSPC 2     </td><td>Input</td><td>1</td></tr>\n",
       "\t<tr><th scope=row>Input_TTTGGCCAGAGGAATG-1</th><td>Input_TTTGGCCAGAGGAATG-1</td><td>1_14</td><td>HSPC 3     </td><td>Input</td><td>1</td></tr>\n",
       "\t<tr><th scope=row>Input_TTTGGCCAGCAACTGG-1</th><td>Input_TTTGGCCAGCAACTGG-1</td><td>1_0 </td><td>HSPC 1     </td><td>Input</td><td>1</td></tr>\n",
       "\t<tr><th scope=row>Input_TTTGGCCAGCTATCGT-1</th><td>Input_TTTGGCCAGCTATCGT-1</td><td>1_4 </td><td>MkP        </td><td>Input</td><td>1</td></tr>\n",
       "\t<tr><th scope=row>Input_TTTGGCCCAAATGTCC-1</th><td>Input_TTTGGCCCAAATGTCC-1</td><td>1_4 </td><td>MkP        </td><td>Input</td><td>1</td></tr>\n",
       "\t<tr><th scope=row>Input_TTTGGCCGTATATGGA-1</th><td>Input_TTTGGCCGTATATGGA-1</td><td>1_14</td><td>HSPC 2     </td><td>Input</td><td>1</td></tr>\n",
       "\t<tr><th scope=row>Input_TTTGGCCGTTTCGTTT-1</th><td>Input_TTTGGCCGTTTCGTTT-1</td><td>1_12</td><td>HSPC 1     </td><td>Input</td><td>1</td></tr>\n",
       "\t<tr><th scope=row>Input_TTTGGCCTCGGCTATA-1</th><td>Input_TTTGGCCTCGGCTATA-1</td><td>1_0 </td><td>MkP        </td><td>Input</td><td>1</td></tr>\n",
       "\t<tr><th scope=row>Input_TTTGGCCTCGTCGCAG-1</th><td>Input_TTTGGCCTCGTCGCAG-1</td><td>1_13</td><td>Granulocyte</td><td>Input</td><td>1</td></tr>\n",
       "\t<tr><th scope=row>Input_TTTGGTTAGCGCACAA-1</th><td>Input_TTTGGTTAGCGCACAA-1</td><td>1_0 </td><td>HSPC 1     </td><td>Input</td><td>1</td></tr>\n",
       "\t<tr><th scope=row>Input_TTTGGTTCACCTGGTG-1</th><td>Input_TTTGGTTCACCTGGTG-1</td><td>1_11</td><td>HSPC 3     </td><td>Input</td><td>1</td></tr>\n",
       "\t<tr><th scope=row>Input_TTTGGTTCATATAGAG-1</th><td>Input_TTTGGTTCATATAGAG-1</td><td>1_9 </td><td>HSPC 2     </td><td>Input</td><td>1</td></tr>\n",
       "\t<tr><th scope=row>Input_TTTGGTTTCCAGAATC-1</th><td>Input_TTTGGTTTCCAGAATC-1</td><td>1_4 </td><td>HSPC 2     </td><td>Input</td><td>1</td></tr>\n",
       "\t<tr><th scope=row>Input_TTTGTGTAGAACCCGA-1</th><td>Input_TTTGTGTAGAACCCGA-1</td><td>1_13</td><td>HSPC 1     </td><td>Input</td><td>1</td></tr>\n",
       "\t<tr><th scope=row>Input_TTTGTGTAGGTTGTTC-1</th><td>Input_TTTGTGTAGGTTGTTC-1</td><td>1_5 </td><td>Granulocyte</td><td>Input</td><td>1</td></tr>\n",
       "\t<tr><th scope=row>Input_TTTGTGTAGGTTTCTG-1</th><td>Input_TTTGTGTAGGTTTCTG-1</td><td>1_7 </td><td>HSPC 2     </td><td>Input</td><td>1</td></tr>\n",
       "\t<tr><th scope=row>Input_TTTGTGTAGTAGACCG-1</th><td>Input_TTTGTGTAGTAGACCG-1</td><td>1_10</td><td>MkP        </td><td>Input</td><td>1</td></tr>\n",
       "\t<tr><th scope=row>Input_TTTGTGTCAACTCGTA-1</th><td>Input_TTTGTGTCAACTCGTA-1</td><td>1_6 </td><td>HSPC 2     </td><td>Input</td><td>1</td></tr>\n",
       "\t<tr><th scope=row>Input_TTTGTGTCAAGCCAGA-1</th><td>Input_TTTGTGTCAAGCCAGA-1</td><td>1_4 </td><td>HSPC 2     </td><td>Input</td><td>1</td></tr>\n",
       "\t<tr><th scope=row>Input_TTTGTGTCAATGACTC-1</th><td>Input_TTTGTGTCAATGACTC-1</td><td>1_3 </td><td>HSPC 2     </td><td>Input</td><td>1</td></tr>\n",
       "\t<tr><th scope=row>Input_TTTGTGTCAGAAAGAG-1</th><td>Input_TTTGTGTCAGAAAGAG-1</td><td>1_6 </td><td>HSPC 1     </td><td>Input</td><td>1</td></tr>\n",
       "\t<tr><th scope=row>Input_TTTGTGTCATAGCCAT-1</th><td>Input_TTTGTGTCATAGCCAT-1</td><td>1_1 </td><td>HSPC 1     </td><td>Input</td><td>1</td></tr>\n",
       "\t<tr><th scope=row>Input_TTTGTGTGTCATAGAA-1</th><td>Input_TTTGTGTGTCATAGAA-1</td><td>1_5 </td><td>HSPC 3     </td><td>Input</td><td>1</td></tr>\n",
       "\t<tr><th scope=row>Input_TTTGTGTTCGGGACAA-1</th><td>Input_TTTGTGTTCGGGACAA-1</td><td>1_2 </td><td>Erythrocyte</td><td>Input</td><td>1</td></tr>\n",
       "</tbody>\n",
       "</table>\n"
      ],
      "text/latex": [
       "A data.frame: 2622 × 5\n",
       "\\begin{tabular}{r|lllll}\n",
       "  & cell & cloneID & clusterID & condition & donor\\\\\n",
       "  & <chr> & <chr> & <chr> & <chr> & <dbl>\\\\\n",
       "\\hline\n",
       "\tFlt3l\\_AAACTCGGTAGGTCTT-1 & Flt3l\\_AAACTCGGTAGGTCTT-1 & 1\\_16 & Erythrocyte        & Flt3l & 1\\\\\n",
       "\tFlt3l\\_AACATCGGTAGCGTTT-1 & Flt3l\\_AACATCGGTAGCGTTT-1 & 1\\_7  & Neutrophil         & Flt3l & 1\\\\\n",
       "\tFlt3l\\_AACGGGATCCTTTGCG-1 & Flt3l\\_AACGGGATCCTTTGCG-1 & 1\\_2  & Granulocyte        & Flt3l & 1\\\\\n",
       "\tFlt3l\\_AACGTACCAAGAAACT-1 & Flt3l\\_AACGTACCAAGAAACT-1 & 1\\_11 & Classical Monocyte & Flt3l & 1\\\\\n",
       "\tFlt3l\\_ACAGGCCGTATCGCGC-1 & Flt3l\\_ACAGGCCGTATCGCGC-1 & 1\\_12 & Neutrophil         & Flt3l & 1\\\\\n",
       "\tFlt3l\\_ACGTTAGCAGCCACGT-1 & Flt3l\\_ACGTTAGCAGCCACGT-1 & 1\\_6  & Erythrocyte        & Flt3l & 1\\\\\n",
       "\tFlt3l\\_ACTAACGCAATGGTCT-1 & Flt3l\\_ACTAACGCAATGGTCT-1 & 1\\_13 & Erythrocyte        & Flt3l & 1\\\\\n",
       "\tFlt3l\\_ACTACCCTCCATCTAT-1 & Flt3l\\_ACTACCCTCCATCTAT-1 & 1\\_11 & Neutrophil         & Flt3l & 1\\\\\n",
       "\tFlt3l\\_ACTATTCCATATACGC-1 & Flt3l\\_ACTATTCCATATACGC-1 & 1\\_12 & Neutrophil         & Flt3l & 1\\\\\n",
       "\tFlt3l\\_ACTATTCTCACCACAA-1 & Flt3l\\_ACTATTCTCACCACAA-1 & 1\\_3  & Neutrophil         & Flt3l & 1\\\\\n",
       "\tFlt3l\\_AGCGATTTCGAGAACG-1 & Flt3l\\_AGCGATTTCGAGAACG-1 & 1\\_8  & Granulocyte        & Flt3l & 1\\\\\n",
       "\tFlt3l\\_AGCTGTAAGAGGCCTA-1 & Flt3l\\_AGCTGTAAGAGGCCTA-1 & 1\\_11 & Erythrocyte        & Flt3l & 1\\\\\n",
       "\tFlt3l\\_AGGCCTGAGATACCAA-1 & Flt3l\\_AGGCCTGAGATACCAA-1 & 1\\_6  & Erythrocyte        & Flt3l & 1\\\\\n",
       "\tFlt3l\\_AGGCCTGGTCAGCAAG-1 & Flt3l\\_AGGCCTGGTCAGCAAG-1 & 1\\_6  & Neutrophil         & Flt3l & 1\\\\\n",
       "\tFlt3l\\_AGTCCGGTCGCATACA-1 & Flt3l\\_AGTCCGGTCGCATACA-1 & 1\\_0  & Erythrocyte        & Flt3l & 1\\\\\n",
       "\tFlt3l\\_AGTTTGGAGTAGTGTA-1 & Flt3l\\_AGTTTGGAGTAGTGTA-1 & 1\\_4  & Neutrophil         & Flt3l & 1\\\\\n",
       "\tFlt3l\\_ATATTCCCAAACAGTA-1 & Flt3l\\_ATATTCCCAAACAGTA-1 & 1\\_0  & Neutrophil         & Flt3l & 1\\\\\n",
       "\tFlt3l\\_ATCCTCGCAAGGACCA-1 & Flt3l\\_ATCCTCGCAAGGACCA-1 & 1\\_0  & Granulocyte        & Flt3l & 1\\\\\n",
       "\tFlt3l\\_ATGGATCGTCCTCAGG-1 & Flt3l\\_ATGGATCGTCCTCAGG-1 & 1\\_6  & Neutrophil         & Flt3l & 1\\\\\n",
       "\tFlt3l\\_ATGTCGAGTAAGGTCG-1 & Flt3l\\_ATGTCGAGTAAGGTCG-1 & 1\\_13 & Erythrocyte        & Flt3l & 1\\\\\n",
       "\tFlt3l\\_ATGTCTTTCTCTTAAC-1 & Flt3l\\_ATGTCTTTCTCTTAAC-1 & 1\\_24 & Erythrocyte        & Flt3l & 1\\\\\n",
       "\tFlt3l\\_CAACCAAAGCGCACAA-1 & Flt3l\\_CAACCAAAGCGCACAA-1 & 1\\_13 & Neutrophil         & Flt3l & 1\\\\\n",
       "\tFlt3l\\_CAACGTATCGTGGTAT-1 & Flt3l\\_CAACGTATCGTGGTAT-1 & 1\\_6  & Classical Monocyte & Flt3l & 1\\\\\n",
       "\tFlt3l\\_CACAACATCCATGACA-1 & Flt3l\\_CACAACATCCATGACA-1 & 1\\_11 & Erythrocyte        & Flt3l & 1\\\\\n",
       "\tFlt3l\\_CACAACATCCTCCCAA-1 & Flt3l\\_CACAACATCCTCCCAA-1 & 1\\_24 & Granulocyte        & Flt3l & 1\\\\\n",
       "\tFlt3l\\_CACCACTGTGGTAGAC-1 & Flt3l\\_CACCACTGTGGTAGAC-1 & 1\\_22 & Granulocyte        & Flt3l & 1\\\\\n",
       "\tFlt3l\\_CACCACTTCGATGCAT-1 & Flt3l\\_CACCACTTCGATGCAT-1 & 1\\_22 & Erythrocyte        & Flt3l & 1\\\\\n",
       "\tFlt3l\\_CAGCTAATCCTTACGC-1 & Flt3l\\_CAGCTAATCCTTACGC-1 & 1\\_13 & Neutrophil         & Flt3l & 1\\\\\n",
       "\tFlt3l\\_CAGTGCGGTACCAAGG-1 & Flt3l\\_CAGTGCGGTACCAAGG-1 & 1\\_15 & Erythrocyte        & Flt3l & 1\\\\\n",
       "\tFlt3l\\_CAGTGTATCGGATGTT-1 & Flt3l\\_CAGTGTATCGGATGTT-1 & 1\\_6  & Neutrophil         & Flt3l & 1\\\\\n",
       "\t⋮ & ⋮ & ⋮ & ⋮ & ⋮ & ⋮\\\\\n",
       "\tInput\\_TTTGAGGCATACCCGG-1 & Input\\_TTTGAGGCATACCCGG-1 & 1\\_7  & MkP         & Input & 1\\\\\n",
       "\tInput\\_TTTGAGGCATGCGTTA-1 & Input\\_TTTGAGGCATGCGTTA-1 & 1\\_10 & HSPC 2      & Input & 1\\\\\n",
       "\tInput\\_TTTGAGGGTCATAAGA-1 & Input\\_TTTGAGGGTCATAAGA-1 & 1\\_18 & HSPC 3      & Input & 1\\\\\n",
       "\tInput\\_TTTGAGGTCATGCTTT-1 & Input\\_TTTGAGGTCATGCTTT-1 & 1\\_8  & Erythrocyte & Input & 1\\\\\n",
       "\tInput\\_TTTGAGGTCTCTTCCT-1 & Input\\_TTTGAGGTCTCTTCCT-1 & 1\\_10 & HSPC 2      & Input & 1\\\\\n",
       "\tInput\\_TTTGCGCAGTGTCGGA-1 & Input\\_TTTGCGCAGTGTCGGA-1 & 1\\_2  & HSPC 2      & Input & 1\\\\\n",
       "\tInput\\_TTTGCGCTCCACTAGA-1 & Input\\_TTTGCGCTCCACTAGA-1 & 1\\_0  & HSPC 2      & Input & 1\\\\\n",
       "\tInput\\_TTTGGCCAGAGGAATG-1 & Input\\_TTTGGCCAGAGGAATG-1 & 1\\_14 & HSPC 3      & Input & 1\\\\\n",
       "\tInput\\_TTTGGCCAGCAACTGG-1 & Input\\_TTTGGCCAGCAACTGG-1 & 1\\_0  & HSPC 1      & Input & 1\\\\\n",
       "\tInput\\_TTTGGCCAGCTATCGT-1 & Input\\_TTTGGCCAGCTATCGT-1 & 1\\_4  & MkP         & Input & 1\\\\\n",
       "\tInput\\_TTTGGCCCAAATGTCC-1 & Input\\_TTTGGCCCAAATGTCC-1 & 1\\_4  & MkP         & Input & 1\\\\\n",
       "\tInput\\_TTTGGCCGTATATGGA-1 & Input\\_TTTGGCCGTATATGGA-1 & 1\\_14 & HSPC 2      & Input & 1\\\\\n",
       "\tInput\\_TTTGGCCGTTTCGTTT-1 & Input\\_TTTGGCCGTTTCGTTT-1 & 1\\_12 & HSPC 1      & Input & 1\\\\\n",
       "\tInput\\_TTTGGCCTCGGCTATA-1 & Input\\_TTTGGCCTCGGCTATA-1 & 1\\_0  & MkP         & Input & 1\\\\\n",
       "\tInput\\_TTTGGCCTCGTCGCAG-1 & Input\\_TTTGGCCTCGTCGCAG-1 & 1\\_13 & Granulocyte & Input & 1\\\\\n",
       "\tInput\\_TTTGGTTAGCGCACAA-1 & Input\\_TTTGGTTAGCGCACAA-1 & 1\\_0  & HSPC 1      & Input & 1\\\\\n",
       "\tInput\\_TTTGGTTCACCTGGTG-1 & Input\\_TTTGGTTCACCTGGTG-1 & 1\\_11 & HSPC 3      & Input & 1\\\\\n",
       "\tInput\\_TTTGGTTCATATAGAG-1 & Input\\_TTTGGTTCATATAGAG-1 & 1\\_9  & HSPC 2      & Input & 1\\\\\n",
       "\tInput\\_TTTGGTTTCCAGAATC-1 & Input\\_TTTGGTTTCCAGAATC-1 & 1\\_4  & HSPC 2      & Input & 1\\\\\n",
       "\tInput\\_TTTGTGTAGAACCCGA-1 & Input\\_TTTGTGTAGAACCCGA-1 & 1\\_13 & HSPC 1      & Input & 1\\\\\n",
       "\tInput\\_TTTGTGTAGGTTGTTC-1 & Input\\_TTTGTGTAGGTTGTTC-1 & 1\\_5  & Granulocyte & Input & 1\\\\\n",
       "\tInput\\_TTTGTGTAGGTTTCTG-1 & Input\\_TTTGTGTAGGTTTCTG-1 & 1\\_7  & HSPC 2      & Input & 1\\\\\n",
       "\tInput\\_TTTGTGTAGTAGACCG-1 & Input\\_TTTGTGTAGTAGACCG-1 & 1\\_10 & MkP         & Input & 1\\\\\n",
       "\tInput\\_TTTGTGTCAACTCGTA-1 & Input\\_TTTGTGTCAACTCGTA-1 & 1\\_6  & HSPC 2      & Input & 1\\\\\n",
       "\tInput\\_TTTGTGTCAAGCCAGA-1 & Input\\_TTTGTGTCAAGCCAGA-1 & 1\\_4  & HSPC 2      & Input & 1\\\\\n",
       "\tInput\\_TTTGTGTCAATGACTC-1 & Input\\_TTTGTGTCAATGACTC-1 & 1\\_3  & HSPC 2      & Input & 1\\\\\n",
       "\tInput\\_TTTGTGTCAGAAAGAG-1 & Input\\_TTTGTGTCAGAAAGAG-1 & 1\\_6  & HSPC 1      & Input & 1\\\\\n",
       "\tInput\\_TTTGTGTCATAGCCAT-1 & Input\\_TTTGTGTCATAGCCAT-1 & 1\\_1  & HSPC 1      & Input & 1\\\\\n",
       "\tInput\\_TTTGTGTGTCATAGAA-1 & Input\\_TTTGTGTGTCATAGAA-1 & 1\\_5  & HSPC 3      & Input & 1\\\\\n",
       "\tInput\\_TTTGTGTTCGGGACAA-1 & Input\\_TTTGTGTTCGGGACAA-1 & 1\\_2  & Erythrocyte & Input & 1\\\\\n",
       "\\end{tabular}\n"
      ],
      "text/markdown": [
       "\n",
       "A data.frame: 2622 × 5\n",
       "\n",
       "| <!--/--> | cell &lt;chr&gt; | cloneID &lt;chr&gt; | clusterID &lt;chr&gt; | condition &lt;chr&gt; | donor &lt;dbl&gt; |\n",
       "|---|---|---|---|---|---|\n",
       "| Flt3l_AAACTCGGTAGGTCTT-1 | Flt3l_AAACTCGGTAGGTCTT-1 | 1_16 | Erythrocyte        | Flt3l | 1 |\n",
       "| Flt3l_AACATCGGTAGCGTTT-1 | Flt3l_AACATCGGTAGCGTTT-1 | 1_7  | Neutrophil         | Flt3l | 1 |\n",
       "| Flt3l_AACGGGATCCTTTGCG-1 | Flt3l_AACGGGATCCTTTGCG-1 | 1_2  | Granulocyte        | Flt3l | 1 |\n",
       "| Flt3l_AACGTACCAAGAAACT-1 | Flt3l_AACGTACCAAGAAACT-1 | 1_11 | Classical Monocyte | Flt3l | 1 |\n",
       "| Flt3l_ACAGGCCGTATCGCGC-1 | Flt3l_ACAGGCCGTATCGCGC-1 | 1_12 | Neutrophil         | Flt3l | 1 |\n",
       "| Flt3l_ACGTTAGCAGCCACGT-1 | Flt3l_ACGTTAGCAGCCACGT-1 | 1_6  | Erythrocyte        | Flt3l | 1 |\n",
       "| Flt3l_ACTAACGCAATGGTCT-1 | Flt3l_ACTAACGCAATGGTCT-1 | 1_13 | Erythrocyte        | Flt3l | 1 |\n",
       "| Flt3l_ACTACCCTCCATCTAT-1 | Flt3l_ACTACCCTCCATCTAT-1 | 1_11 | Neutrophil         | Flt3l | 1 |\n",
       "| Flt3l_ACTATTCCATATACGC-1 | Flt3l_ACTATTCCATATACGC-1 | 1_12 | Neutrophil         | Flt3l | 1 |\n",
       "| Flt3l_ACTATTCTCACCACAA-1 | Flt3l_ACTATTCTCACCACAA-1 | 1_3  | Neutrophil         | Flt3l | 1 |\n",
       "| Flt3l_AGCGATTTCGAGAACG-1 | Flt3l_AGCGATTTCGAGAACG-1 | 1_8  | Granulocyte        | Flt3l | 1 |\n",
       "| Flt3l_AGCTGTAAGAGGCCTA-1 | Flt3l_AGCTGTAAGAGGCCTA-1 | 1_11 | Erythrocyte        | Flt3l | 1 |\n",
       "| Flt3l_AGGCCTGAGATACCAA-1 | Flt3l_AGGCCTGAGATACCAA-1 | 1_6  | Erythrocyte        | Flt3l | 1 |\n",
       "| Flt3l_AGGCCTGGTCAGCAAG-1 | Flt3l_AGGCCTGGTCAGCAAG-1 | 1_6  | Neutrophil         | Flt3l | 1 |\n",
       "| Flt3l_AGTCCGGTCGCATACA-1 | Flt3l_AGTCCGGTCGCATACA-1 | 1_0  | Erythrocyte        | Flt3l | 1 |\n",
       "| Flt3l_AGTTTGGAGTAGTGTA-1 | Flt3l_AGTTTGGAGTAGTGTA-1 | 1_4  | Neutrophil         | Flt3l | 1 |\n",
       "| Flt3l_ATATTCCCAAACAGTA-1 | Flt3l_ATATTCCCAAACAGTA-1 | 1_0  | Neutrophil         | Flt3l | 1 |\n",
       "| Flt3l_ATCCTCGCAAGGACCA-1 | Flt3l_ATCCTCGCAAGGACCA-1 | 1_0  | Granulocyte        | Flt3l | 1 |\n",
       "| Flt3l_ATGGATCGTCCTCAGG-1 | Flt3l_ATGGATCGTCCTCAGG-1 | 1_6  | Neutrophil         | Flt3l | 1 |\n",
       "| Flt3l_ATGTCGAGTAAGGTCG-1 | Flt3l_ATGTCGAGTAAGGTCG-1 | 1_13 | Erythrocyte        | Flt3l | 1 |\n",
       "| Flt3l_ATGTCTTTCTCTTAAC-1 | Flt3l_ATGTCTTTCTCTTAAC-1 | 1_24 | Erythrocyte        | Flt3l | 1 |\n",
       "| Flt3l_CAACCAAAGCGCACAA-1 | Flt3l_CAACCAAAGCGCACAA-1 | 1_13 | Neutrophil         | Flt3l | 1 |\n",
       "| Flt3l_CAACGTATCGTGGTAT-1 | Flt3l_CAACGTATCGTGGTAT-1 | 1_6  | Classical Monocyte | Flt3l | 1 |\n",
       "| Flt3l_CACAACATCCATGACA-1 | Flt3l_CACAACATCCATGACA-1 | 1_11 | Erythrocyte        | Flt3l | 1 |\n",
       "| Flt3l_CACAACATCCTCCCAA-1 | Flt3l_CACAACATCCTCCCAA-1 | 1_24 | Granulocyte        | Flt3l | 1 |\n",
       "| Flt3l_CACCACTGTGGTAGAC-1 | Flt3l_CACCACTGTGGTAGAC-1 | 1_22 | Granulocyte        | Flt3l | 1 |\n",
       "| Flt3l_CACCACTTCGATGCAT-1 | Flt3l_CACCACTTCGATGCAT-1 | 1_22 | Erythrocyte        | Flt3l | 1 |\n",
       "| Flt3l_CAGCTAATCCTTACGC-1 | Flt3l_CAGCTAATCCTTACGC-1 | 1_13 | Neutrophil         | Flt3l | 1 |\n",
       "| Flt3l_CAGTGCGGTACCAAGG-1 | Flt3l_CAGTGCGGTACCAAGG-1 | 1_15 | Erythrocyte        | Flt3l | 1 |\n",
       "| Flt3l_CAGTGTATCGGATGTT-1 | Flt3l_CAGTGTATCGGATGTT-1 | 1_6  | Neutrophil         | Flt3l | 1 |\n",
       "| ⋮ | ⋮ | ⋮ | ⋮ | ⋮ | ⋮ |\n",
       "| Input_TTTGAGGCATACCCGG-1 | Input_TTTGAGGCATACCCGG-1 | 1_7  | MkP         | Input | 1 |\n",
       "| Input_TTTGAGGCATGCGTTA-1 | Input_TTTGAGGCATGCGTTA-1 | 1_10 | HSPC 2      | Input | 1 |\n",
       "| Input_TTTGAGGGTCATAAGA-1 | Input_TTTGAGGGTCATAAGA-1 | 1_18 | HSPC 3      | Input | 1 |\n",
       "| Input_TTTGAGGTCATGCTTT-1 | Input_TTTGAGGTCATGCTTT-1 | 1_8  | Erythrocyte | Input | 1 |\n",
       "| Input_TTTGAGGTCTCTTCCT-1 | Input_TTTGAGGTCTCTTCCT-1 | 1_10 | HSPC 2      | Input | 1 |\n",
       "| Input_TTTGCGCAGTGTCGGA-1 | Input_TTTGCGCAGTGTCGGA-1 | 1_2  | HSPC 2      | Input | 1 |\n",
       "| Input_TTTGCGCTCCACTAGA-1 | Input_TTTGCGCTCCACTAGA-1 | 1_0  | HSPC 2      | Input | 1 |\n",
       "| Input_TTTGGCCAGAGGAATG-1 | Input_TTTGGCCAGAGGAATG-1 | 1_14 | HSPC 3      | Input | 1 |\n",
       "| Input_TTTGGCCAGCAACTGG-1 | Input_TTTGGCCAGCAACTGG-1 | 1_0  | HSPC 1      | Input | 1 |\n",
       "| Input_TTTGGCCAGCTATCGT-1 | Input_TTTGGCCAGCTATCGT-1 | 1_4  | MkP         | Input | 1 |\n",
       "| Input_TTTGGCCCAAATGTCC-1 | Input_TTTGGCCCAAATGTCC-1 | 1_4  | MkP         | Input | 1 |\n",
       "| Input_TTTGGCCGTATATGGA-1 | Input_TTTGGCCGTATATGGA-1 | 1_14 | HSPC 2      | Input | 1 |\n",
       "| Input_TTTGGCCGTTTCGTTT-1 | Input_TTTGGCCGTTTCGTTT-1 | 1_12 | HSPC 1      | Input | 1 |\n",
       "| Input_TTTGGCCTCGGCTATA-1 | Input_TTTGGCCTCGGCTATA-1 | 1_0  | MkP         | Input | 1 |\n",
       "| Input_TTTGGCCTCGTCGCAG-1 | Input_TTTGGCCTCGTCGCAG-1 | 1_13 | Granulocyte | Input | 1 |\n",
       "| Input_TTTGGTTAGCGCACAA-1 | Input_TTTGGTTAGCGCACAA-1 | 1_0  | HSPC 1      | Input | 1 |\n",
       "| Input_TTTGGTTCACCTGGTG-1 | Input_TTTGGTTCACCTGGTG-1 | 1_11 | HSPC 3      | Input | 1 |\n",
       "| Input_TTTGGTTCATATAGAG-1 | Input_TTTGGTTCATATAGAG-1 | 1_9  | HSPC 2      | Input | 1 |\n",
       "| Input_TTTGGTTTCCAGAATC-1 | Input_TTTGGTTTCCAGAATC-1 | 1_4  | HSPC 2      | Input | 1 |\n",
       "| Input_TTTGTGTAGAACCCGA-1 | Input_TTTGTGTAGAACCCGA-1 | 1_13 | HSPC 1      | Input | 1 |\n",
       "| Input_TTTGTGTAGGTTGTTC-1 | Input_TTTGTGTAGGTTGTTC-1 | 1_5  | Granulocyte | Input | 1 |\n",
       "| Input_TTTGTGTAGGTTTCTG-1 | Input_TTTGTGTAGGTTTCTG-1 | 1_7  | HSPC 2      | Input | 1 |\n",
       "| Input_TTTGTGTAGTAGACCG-1 | Input_TTTGTGTAGTAGACCG-1 | 1_10 | MkP         | Input | 1 |\n",
       "| Input_TTTGTGTCAACTCGTA-1 | Input_TTTGTGTCAACTCGTA-1 | 1_6  | HSPC 2      | Input | 1 |\n",
       "| Input_TTTGTGTCAAGCCAGA-1 | Input_TTTGTGTCAAGCCAGA-1 | 1_4  | HSPC 2      | Input | 1 |\n",
       "| Input_TTTGTGTCAATGACTC-1 | Input_TTTGTGTCAATGACTC-1 | 1_3  | HSPC 2      | Input | 1 |\n",
       "| Input_TTTGTGTCAGAAAGAG-1 | Input_TTTGTGTCAGAAAGAG-1 | 1_6  | HSPC 1      | Input | 1 |\n",
       "| Input_TTTGTGTCATAGCCAT-1 | Input_TTTGTGTCATAGCCAT-1 | 1_1  | HSPC 1      | Input | 1 |\n",
       "| Input_TTTGTGTGTCATAGAA-1 | Input_TTTGTGTGTCATAGAA-1 | 1_5  | HSPC 3      | Input | 1 |\n",
       "| Input_TTTGTGTTCGGGACAA-1 | Input_TTTGTGTTCGGGACAA-1 | 1_2  | Erythrocyte | Input | 1 |\n",
       "\n"
      ],
      "text/plain": [
       "                         cell                     cloneID clusterID         \n",
       "Flt3l_AAACTCGGTAGGTCTT-1 Flt3l_AAACTCGGTAGGTCTT-1 1_16    Erythrocyte       \n",
       "Flt3l_AACATCGGTAGCGTTT-1 Flt3l_AACATCGGTAGCGTTT-1 1_7     Neutrophil        \n",
       "Flt3l_AACGGGATCCTTTGCG-1 Flt3l_AACGGGATCCTTTGCG-1 1_2     Granulocyte       \n",
       "Flt3l_AACGTACCAAGAAACT-1 Flt3l_AACGTACCAAGAAACT-1 1_11    Classical Monocyte\n",
       "Flt3l_ACAGGCCGTATCGCGC-1 Flt3l_ACAGGCCGTATCGCGC-1 1_12    Neutrophil        \n",
       "Flt3l_ACGTTAGCAGCCACGT-1 Flt3l_ACGTTAGCAGCCACGT-1 1_6     Erythrocyte       \n",
       "Flt3l_ACTAACGCAATGGTCT-1 Flt3l_ACTAACGCAATGGTCT-1 1_13    Erythrocyte       \n",
       "Flt3l_ACTACCCTCCATCTAT-1 Flt3l_ACTACCCTCCATCTAT-1 1_11    Neutrophil        \n",
       "Flt3l_ACTATTCCATATACGC-1 Flt3l_ACTATTCCATATACGC-1 1_12    Neutrophil        \n",
       "Flt3l_ACTATTCTCACCACAA-1 Flt3l_ACTATTCTCACCACAA-1 1_3     Neutrophil        \n",
       "Flt3l_AGCGATTTCGAGAACG-1 Flt3l_AGCGATTTCGAGAACG-1 1_8     Granulocyte       \n",
       "Flt3l_AGCTGTAAGAGGCCTA-1 Flt3l_AGCTGTAAGAGGCCTA-1 1_11    Erythrocyte       \n",
       "Flt3l_AGGCCTGAGATACCAA-1 Flt3l_AGGCCTGAGATACCAA-1 1_6     Erythrocyte       \n",
       "Flt3l_AGGCCTGGTCAGCAAG-1 Flt3l_AGGCCTGGTCAGCAAG-1 1_6     Neutrophil        \n",
       "Flt3l_AGTCCGGTCGCATACA-1 Flt3l_AGTCCGGTCGCATACA-1 1_0     Erythrocyte       \n",
       "Flt3l_AGTTTGGAGTAGTGTA-1 Flt3l_AGTTTGGAGTAGTGTA-1 1_4     Neutrophil        \n",
       "Flt3l_ATATTCCCAAACAGTA-1 Flt3l_ATATTCCCAAACAGTA-1 1_0     Neutrophil        \n",
       "Flt3l_ATCCTCGCAAGGACCA-1 Flt3l_ATCCTCGCAAGGACCA-1 1_0     Granulocyte       \n",
       "Flt3l_ATGGATCGTCCTCAGG-1 Flt3l_ATGGATCGTCCTCAGG-1 1_6     Neutrophil        \n",
       "Flt3l_ATGTCGAGTAAGGTCG-1 Flt3l_ATGTCGAGTAAGGTCG-1 1_13    Erythrocyte       \n",
       "Flt3l_ATGTCTTTCTCTTAAC-1 Flt3l_ATGTCTTTCTCTTAAC-1 1_24    Erythrocyte       \n",
       "Flt3l_CAACCAAAGCGCACAA-1 Flt3l_CAACCAAAGCGCACAA-1 1_13    Neutrophil        \n",
       "Flt3l_CAACGTATCGTGGTAT-1 Flt3l_CAACGTATCGTGGTAT-1 1_6     Classical Monocyte\n",
       "Flt3l_CACAACATCCATGACA-1 Flt3l_CACAACATCCATGACA-1 1_11    Erythrocyte       \n",
       "Flt3l_CACAACATCCTCCCAA-1 Flt3l_CACAACATCCTCCCAA-1 1_24    Granulocyte       \n",
       "Flt3l_CACCACTGTGGTAGAC-1 Flt3l_CACCACTGTGGTAGAC-1 1_22    Granulocyte       \n",
       "Flt3l_CACCACTTCGATGCAT-1 Flt3l_CACCACTTCGATGCAT-1 1_22    Erythrocyte       \n",
       "Flt3l_CAGCTAATCCTTACGC-1 Flt3l_CAGCTAATCCTTACGC-1 1_13    Neutrophil        \n",
       "Flt3l_CAGTGCGGTACCAAGG-1 Flt3l_CAGTGCGGTACCAAGG-1 1_15    Erythrocyte       \n",
       "Flt3l_CAGTGTATCGGATGTT-1 Flt3l_CAGTGTATCGGATGTT-1 1_6     Neutrophil        \n",
       "⋮                        ⋮                        ⋮       ⋮                 \n",
       "Input_TTTGAGGCATACCCGG-1 Input_TTTGAGGCATACCCGG-1 1_7     MkP               \n",
       "Input_TTTGAGGCATGCGTTA-1 Input_TTTGAGGCATGCGTTA-1 1_10    HSPC 2            \n",
       "Input_TTTGAGGGTCATAAGA-1 Input_TTTGAGGGTCATAAGA-1 1_18    HSPC 3            \n",
       "Input_TTTGAGGTCATGCTTT-1 Input_TTTGAGGTCATGCTTT-1 1_8     Erythrocyte       \n",
       "Input_TTTGAGGTCTCTTCCT-1 Input_TTTGAGGTCTCTTCCT-1 1_10    HSPC 2            \n",
       "Input_TTTGCGCAGTGTCGGA-1 Input_TTTGCGCAGTGTCGGA-1 1_2     HSPC 2            \n",
       "Input_TTTGCGCTCCACTAGA-1 Input_TTTGCGCTCCACTAGA-1 1_0     HSPC 2            \n",
       "Input_TTTGGCCAGAGGAATG-1 Input_TTTGGCCAGAGGAATG-1 1_14    HSPC 3            \n",
       "Input_TTTGGCCAGCAACTGG-1 Input_TTTGGCCAGCAACTGG-1 1_0     HSPC 1            \n",
       "Input_TTTGGCCAGCTATCGT-1 Input_TTTGGCCAGCTATCGT-1 1_4     MkP               \n",
       "Input_TTTGGCCCAAATGTCC-1 Input_TTTGGCCCAAATGTCC-1 1_4     MkP               \n",
       "Input_TTTGGCCGTATATGGA-1 Input_TTTGGCCGTATATGGA-1 1_14    HSPC 2            \n",
       "Input_TTTGGCCGTTTCGTTT-1 Input_TTTGGCCGTTTCGTTT-1 1_12    HSPC 1            \n",
       "Input_TTTGGCCTCGGCTATA-1 Input_TTTGGCCTCGGCTATA-1 1_0     MkP               \n",
       "Input_TTTGGCCTCGTCGCAG-1 Input_TTTGGCCTCGTCGCAG-1 1_13    Granulocyte       \n",
       "Input_TTTGGTTAGCGCACAA-1 Input_TTTGGTTAGCGCACAA-1 1_0     HSPC 1            \n",
       "Input_TTTGGTTCACCTGGTG-1 Input_TTTGGTTCACCTGGTG-1 1_11    HSPC 3            \n",
       "Input_TTTGGTTCATATAGAG-1 Input_TTTGGTTCATATAGAG-1 1_9     HSPC 2            \n",
       "Input_TTTGGTTTCCAGAATC-1 Input_TTTGGTTTCCAGAATC-1 1_4     HSPC 2            \n",
       "Input_TTTGTGTAGAACCCGA-1 Input_TTTGTGTAGAACCCGA-1 1_13    HSPC 1            \n",
       "Input_TTTGTGTAGGTTGTTC-1 Input_TTTGTGTAGGTTGTTC-1 1_5     Granulocyte       \n",
       "Input_TTTGTGTAGGTTTCTG-1 Input_TTTGTGTAGGTTTCTG-1 1_7     HSPC 2            \n",
       "Input_TTTGTGTAGTAGACCG-1 Input_TTTGTGTAGTAGACCG-1 1_10    MkP               \n",
       "Input_TTTGTGTCAACTCGTA-1 Input_TTTGTGTCAACTCGTA-1 1_6     HSPC 2            \n",
       "Input_TTTGTGTCAAGCCAGA-1 Input_TTTGTGTCAAGCCAGA-1 1_4     HSPC 2            \n",
       "Input_TTTGTGTCAATGACTC-1 Input_TTTGTGTCAATGACTC-1 1_3     HSPC 2            \n",
       "Input_TTTGTGTCAGAAAGAG-1 Input_TTTGTGTCAGAAAGAG-1 1_6     HSPC 1            \n",
       "Input_TTTGTGTCATAGCCAT-1 Input_TTTGTGTCATAGCCAT-1 1_1     HSPC 1            \n",
       "Input_TTTGTGTGTCATAGAA-1 Input_TTTGTGTGTCATAGAA-1 1_5     HSPC 3            \n",
       "Input_TTTGTGTTCGGGACAA-1 Input_TTTGTGTTCGGGACAA-1 1_2     Erythrocyte       \n",
       "                         condition donor\n",
       "Flt3l_AAACTCGGTAGGTCTT-1 Flt3l     1    \n",
       "Flt3l_AACATCGGTAGCGTTT-1 Flt3l     1    \n",
       "Flt3l_AACGGGATCCTTTGCG-1 Flt3l     1    \n",
       "Flt3l_AACGTACCAAGAAACT-1 Flt3l     1    \n",
       "Flt3l_ACAGGCCGTATCGCGC-1 Flt3l     1    \n",
       "Flt3l_ACGTTAGCAGCCACGT-1 Flt3l     1    \n",
       "Flt3l_ACTAACGCAATGGTCT-1 Flt3l     1    \n",
       "Flt3l_ACTACCCTCCATCTAT-1 Flt3l     1    \n",
       "Flt3l_ACTATTCCATATACGC-1 Flt3l     1    \n",
       "Flt3l_ACTATTCTCACCACAA-1 Flt3l     1    \n",
       "Flt3l_AGCGATTTCGAGAACG-1 Flt3l     1    \n",
       "Flt3l_AGCTGTAAGAGGCCTA-1 Flt3l     1    \n",
       "Flt3l_AGGCCTGAGATACCAA-1 Flt3l     1    \n",
       "Flt3l_AGGCCTGGTCAGCAAG-1 Flt3l     1    \n",
       "Flt3l_AGTCCGGTCGCATACA-1 Flt3l     1    \n",
       "Flt3l_AGTTTGGAGTAGTGTA-1 Flt3l     1    \n",
       "Flt3l_ATATTCCCAAACAGTA-1 Flt3l     1    \n",
       "Flt3l_ATCCTCGCAAGGACCA-1 Flt3l     1    \n",
       "Flt3l_ATGGATCGTCCTCAGG-1 Flt3l     1    \n",
       "Flt3l_ATGTCGAGTAAGGTCG-1 Flt3l     1    \n",
       "Flt3l_ATGTCTTTCTCTTAAC-1 Flt3l     1    \n",
       "Flt3l_CAACCAAAGCGCACAA-1 Flt3l     1    \n",
       "Flt3l_CAACGTATCGTGGTAT-1 Flt3l     1    \n",
       "Flt3l_CACAACATCCATGACA-1 Flt3l     1    \n",
       "Flt3l_CACAACATCCTCCCAA-1 Flt3l     1    \n",
       "Flt3l_CACCACTGTGGTAGAC-1 Flt3l     1    \n",
       "Flt3l_CACCACTTCGATGCAT-1 Flt3l     1    \n",
       "Flt3l_CAGCTAATCCTTACGC-1 Flt3l     1    \n",
       "Flt3l_CAGTGCGGTACCAAGG-1 Flt3l     1    \n",
       "Flt3l_CAGTGTATCGGATGTT-1 Flt3l     1    \n",
       "⋮                        ⋮         ⋮    \n",
       "Input_TTTGAGGCATACCCGG-1 Input     1    \n",
       "Input_TTTGAGGCATGCGTTA-1 Input     1    \n",
       "Input_TTTGAGGGTCATAAGA-1 Input     1    \n",
       "Input_TTTGAGGTCATGCTTT-1 Input     1    \n",
       "Input_TTTGAGGTCTCTTCCT-1 Input     1    \n",
       "Input_TTTGCGCAGTGTCGGA-1 Input     1    \n",
       "Input_TTTGCGCTCCACTAGA-1 Input     1    \n",
       "Input_TTTGGCCAGAGGAATG-1 Input     1    \n",
       "Input_TTTGGCCAGCAACTGG-1 Input     1    \n",
       "Input_TTTGGCCAGCTATCGT-1 Input     1    \n",
       "Input_TTTGGCCCAAATGTCC-1 Input     1    \n",
       "Input_TTTGGCCGTATATGGA-1 Input     1    \n",
       "Input_TTTGGCCGTTTCGTTT-1 Input     1    \n",
       "Input_TTTGGCCTCGGCTATA-1 Input     1    \n",
       "Input_TTTGGCCTCGTCGCAG-1 Input     1    \n",
       "Input_TTTGGTTAGCGCACAA-1 Input     1    \n",
       "Input_TTTGGTTCACCTGGTG-1 Input     1    \n",
       "Input_TTTGGTTCATATAGAG-1 Input     1    \n",
       "Input_TTTGGTTTCCAGAATC-1 Input     1    \n",
       "Input_TTTGTGTAGAACCCGA-1 Input     1    \n",
       "Input_TTTGTGTAGGTTGTTC-1 Input     1    \n",
       "Input_TTTGTGTAGGTTTCTG-1 Input     1    \n",
       "Input_TTTGTGTAGTAGACCG-1 Input     1    \n",
       "Input_TTTGTGTCAACTCGTA-1 Input     1    \n",
       "Input_TTTGTGTCAAGCCAGA-1 Input     1    \n",
       "Input_TTTGTGTCAATGACTC-1 Input     1    \n",
       "Input_TTTGTGTCAGAAAGAG-1 Input     1    \n",
       "Input_TTTGTGTCATAGCCAT-1 Input     1    \n",
       "Input_TTTGTGTGTCATAGAA-1 Input     1    \n",
       "Input_TTTGTGTTCGGGACAA-1 Input     1    "
      ]
     },
     "metadata": {},
     "output_type": "display_data"
    }
   ],
   "source": [
    "cells_meta <- as.data.frame(readr::read_tsv(cells_meta_f),) # %>% tidyr::unite(barcode)\n",
    "\n",
    "curr.cols <- colnames(cells_meta) \n",
    "curr.cols[[1]] = \"cell\"\n",
    "curr.cols\n",
    "colnames(cells_meta)  <- curr.cols\n",
    "row.names(cells_meta) <- cells_meta$cell\n",
    "cells_meta"
   ]
  },
  {
   "cell_type": "markdown",
   "id": "28b00ad2",
   "metadata": {},
   "source": [
    "## Need to change the cell IDs to have condition as prefix"
   ]
  },
  {
   "cell_type": "code",
   "execution_count": 6,
   "id": "297fadc6",
   "metadata": {
    "scrolled": true
   },
   "outputs": [
    {
     "data": {
      "text/html": [
       "7.94577595652691"
      ],
      "text/latex": [
       "7.94577595652691"
      ],
      "text/markdown": [
       "7.94577595652691"
      ],
      "text/plain": [
       "[1] 7.945776"
      ]
     },
     "metadata": {},
     "output_type": "display_data"
    },
    {
     "data": {
      "text/html": [
       "<table class=\"dataframe\">\n",
       "<caption>A data.frame: 13593 × 41</caption>\n",
       "<thead>\n",
       "\t<tr><th></th><th scope=col>orig.ident</th><th scope=col>nCount_ATAC</th><th scope=col>nFeature_ATAC</th><th scope=col>total</th><th scope=col>duplicate</th><th scope=col>chimeric</th><th scope=col>unmapped</th><th scope=col>lowmapq</th><th scope=col>mitochondrial</th><th scope=col>passed_filters</th><th scope=col>⋯</th><th scope=col>nCount_RNA</th><th scope=col>nFeature_RNA</th><th scope=col>ID</th><th scope=col>Row.names</th><th scope=col>index</th><th scope=col>raw.ID</th><th scope=col>new.index</th><th scope=col>condition</th><th scope=col>donor</th><th scope=col>donor_index</th></tr>\n",
       "\t<tr><th></th><th scope=col>&lt;chr&gt;</th><th scope=col>&lt;dbl&gt;</th><th scope=col>&lt;int&gt;</th><th scope=col>&lt;dbl&gt;</th><th scope=col>&lt;dbl&gt;</th><th scope=col>&lt;dbl&gt;</th><th scope=col>&lt;dbl&gt;</th><th scope=col>&lt;dbl&gt;</th><th scope=col>&lt;dbl&gt;</th><th scope=col>&lt;dbl&gt;</th><th scope=col>⋯</th><th scope=col>&lt;dbl&gt;</th><th scope=col>&lt;int&gt;</th><th scope=col>&lt;chr&gt;</th><th scope=col>&lt;I&lt;chr&gt;&gt;</th><th scope=col>&lt;dbl&gt;</th><th scope=col>&lt;chr&gt;</th><th scope=col>&lt;dbl&gt;</th><th scope=col>&lt;fct&gt;</th><th scope=col>&lt;fct&gt;</th><th scope=col>&lt;dbl&gt;</th></tr>\n",
       "</thead>\n",
       "<tbody>\n",
       "\t<tr><th scope=row>Flt3l_AAACGAAAGGAGACTC-1</th><td>Flt3l</td><td> 531</td><td> 531</td><td> 2286</td><td> 298</td><td> 7</td><td> 7</td><td>124</td><td> 749</td><td>1101</td><td>⋯</td><td> 649</td><td> 621</td><td>AAACGAAAGGAGACTC-1_Flt3l</td><td>Flt3l_AAACGAAAGGAGACTC-1</td><td> 0</td><td>AAACGAAAGGAGACTC-1</td><td> 1</td><td>Flt3l</td><td>1   </td><td> 1</td></tr>\n",
       "\t<tr><th scope=row>Flt3l_AAACGAAAGTCACGCC-1</th><td>Flt3l</td><td>1222</td><td>1222</td><td> 4711</td><td> 555</td><td>16</td><td>12</td><td>289</td><td> 853</td><td>2986</td><td>⋯</td><td>1674</td><td>1502</td><td>AAACGAAAGTCACGCC-1_Flt3l</td><td>Flt3l_AAACGAAAGTCACGCC-1</td><td> 1</td><td>AAACGAAAGTCACGCC-1</td><td> 2</td><td>Flt3l</td><td>1   </td><td> 2</td></tr>\n",
       "\t<tr><th scope=row>Flt3l_AAACGAACAAGACTAA-1</th><td>Flt3l</td><td>2225</td><td>2225</td><td> 9178</td><td>1509</td><td>37</td><td>19</td><td>585</td><td>1339</td><td>5689</td><td>⋯</td><td>3369</td><td>2695</td><td>AAACGAACAAGACTAA-1_Flt3l</td><td>Flt3l_AAACGAACAAGACTAA-1</td><td> 2</td><td>AAACGAACAAGACTAA-1</td><td> 3</td><td>Flt3l</td><td>1   </td><td> 3</td></tr>\n",
       "\t<tr><th scope=row>Flt3l_AAACGAACAAGCGAAC-1</th><td>Flt3l</td><td>2271</td><td>2271</td><td> 8825</td><td>1544</td><td>24</td><td>24</td><td>535</td><td>1308</td><td>5390</td><td>⋯</td><td>3360</td><td>2784</td><td>AAACGAACAAGCGAAC-1_Flt3l</td><td>Flt3l_AAACGAACAAGCGAAC-1</td><td> 3</td><td>AAACGAACAAGCGAAC-1</td><td> 4</td><td>Flt3l</td><td>0   </td><td> 1</td></tr>\n",
       "\t<tr><th scope=row>Flt3l_AAACGAACACAGCCAC-1</th><td>Flt3l</td><td>2854</td><td>2854</td><td>10589</td><td>1294</td><td>41</td><td>31</td><td>456</td><td>2764</td><td>6003</td><td>⋯</td><td>3722</td><td>2998</td><td>AAACGAACACAGCCAC-1_Flt3l</td><td>Flt3l_AAACGAACACAGCCAC-1</td><td> 4</td><td>AAACGAACACAGCCAC-1</td><td> 5</td><td>Flt3l</td><td>0   </td><td> 2</td></tr>\n",
       "\t<tr><th scope=row>Flt3l_AAACGAACACAGGTAG-1</th><td>Flt3l</td><td> 615</td><td> 615</td><td> 2384</td><td> 240</td><td>13</td><td> 7</td><td>149</td><td> 594</td><td>1381</td><td>⋯</td><td> 901</td><td> 865</td><td>AAACGAACACAGGTAG-1_Flt3l</td><td>Flt3l_AAACGAACACAGGTAG-1</td><td> 5</td><td>AAACGAACACAGGTAG-1</td><td> 6</td><td>Flt3l</td><td>0   </td><td> 3</td></tr>\n",
       "\t<tr><th scope=row>Flt3l_AAACGAACACAGTAGG-1</th><td>Flt3l</td><td>2545</td><td>2545</td><td>10019</td><td>1869</td><td>31</td><td>28</td><td>514</td><td>1008</td><td>6569</td><td>⋯</td><td>3950</td><td>3101</td><td>AAACGAACACAGTAGG-1_Flt3l</td><td>Flt3l_AAACGAACACAGTAGG-1</td><td> 6</td><td>AAACGAACACAGTAGG-1</td><td> 7</td><td>Flt3l</td><td>1   </td><td> 4</td></tr>\n",
       "\t<tr><th scope=row>Flt3l_AAACGAACATAGAATG-1</th><td>Flt3l</td><td> 985</td><td> 985</td><td> 3395</td><td> 433</td><td> 8</td><td>20</td><td>163</td><td> 985</td><td>1786</td><td>⋯</td><td>1090</td><td>1005</td><td>AAACGAACATAGAATG-1_Flt3l</td><td>Flt3l_AAACGAACATAGAATG-1</td><td> 7</td><td>AAACGAACATAGAATG-1</td><td> 8</td><td>Flt3l</td><td>0   </td><td> 4</td></tr>\n",
       "\t<tr><th scope=row>Flt3l_AAACGAACATGTAGAA-1</th><td>Flt3l</td><td>1020</td><td>1020</td><td> 5086</td><td> 708</td><td> 5</td><td>21</td><td>243</td><td>1777</td><td>2332</td><td>⋯</td><td>1347</td><td>1237</td><td>AAACGAACATGTAGAA-1_Flt3l</td><td>Flt3l_AAACGAACATGTAGAA-1</td><td> 8</td><td>AAACGAACATGTAGAA-1</td><td> 9</td><td>Flt3l</td><td>1   </td><td> 5</td></tr>\n",
       "\t<tr><th scope=row>Flt3l_AAACGAAGTATTCGAC-1</th><td>Flt3l</td><td> 894</td><td> 894</td><td> 4999</td><td> 553</td><td>16</td><td>17</td><td>197</td><td>1650</td><td>2566</td><td>⋯</td><td>1385</td><td>1248</td><td>AAACGAAGTATTCGAC-1_Flt3l</td><td>Flt3l_AAACGAAGTATTCGAC-1</td><td> 9</td><td>AAACGAAGTATTCGAC-1</td><td>10</td><td>Flt3l</td><td>0   </td><td> 5</td></tr>\n",
       "\t<tr><th scope=row>Flt3l_AAACGAAGTCTGATTG-1</th><td>Flt3l</td><td>4239</td><td>4239</td><td>15047</td><td>1940</td><td>50</td><td>52</td><td>636</td><td>4173</td><td>8196</td><td>⋯</td><td>5280</td><td>4119</td><td>AAACGAAGTCTGATTG-1_Flt3l</td><td>Flt3l_AAACGAAGTCTGATTG-1</td><td>10</td><td>AAACGAAGTCTGATTG-1</td><td>11</td><td>Flt3l</td><td>0   </td><td> 6</td></tr>\n",
       "\t<tr><th scope=row>Flt3l_AAACGAATCGCTGATA-1</th><td>Flt3l</td><td>1521</td><td>1521</td><td> 6172</td><td>1092</td><td>29</td><td>21</td><td>296</td><td>1178</td><td>3556</td><td>⋯</td><td>2029</td><td>1760</td><td>AAACGAATCGCTGATA-1_Flt3l</td><td>Flt3l_AAACGAATCGCTGATA-1</td><td>11</td><td>AAACGAATCGCTGATA-1</td><td>12</td><td>Flt3l</td><td>0   </td><td> 7</td></tr>\n",
       "\t<tr><th scope=row>Flt3l_AAACGAATCTCTTAAC-1</th><td>Flt3l</td><td>2036</td><td>2036</td><td> 6425</td><td> 857</td><td>28</td><td>17</td><td>402</td><td>1014</td><td>4107</td><td>⋯</td><td>2489</td><td>2172</td><td>AAACGAATCTCTTAAC-1_Flt3l</td><td>Flt3l_AAACGAATCTCTTAAC-1</td><td>12</td><td>AAACGAATCTCTTAAC-1</td><td>13</td><td>Flt3l</td><td>1   </td><td> 6</td></tr>\n",
       "\t<tr><th scope=row>Flt3l_AAACTCGAGACACAAT-1</th><td>Flt3l</td><td>1696</td><td>1696</td><td> 7731</td><td> 983</td><td>27</td><td>15</td><td>357</td><td>2002</td><td>4347</td><td>⋯</td><td>2907</td><td>2449</td><td>AAACTCGAGACACAAT-1_Flt3l</td><td>Flt3l_AAACTCGAGACACAAT-1</td><td>13</td><td>AAACTCGAGACACAAT-1</td><td>14</td><td>Flt3l</td><td>1   </td><td> 7</td></tr>\n",
       "\t<tr><th scope=row>Flt3l_AAACTCGAGATGTTCC-1</th><td>Flt3l</td><td>1223</td><td>1223</td><td> 4318</td><td> 548</td><td>13</td><td>13</td><td>212</td><td>1050</td><td>2482</td><td>⋯</td><td>1596</td><td>1442</td><td>AAACTCGAGATGTTCC-1_Flt3l</td><td>Flt3l_AAACTCGAGATGTTCC-1</td><td>14</td><td>AAACTCGAGATGTTCC-1</td><td>15</td><td>Flt3l</td><td>0   </td><td> 8</td></tr>\n",
       "\t<tr><th scope=row>Flt3l_AAACTCGAGGCACCTC-1</th><td>Flt3l</td><td>1297</td><td>1297</td><td> 5305</td><td> 620</td><td>23</td><td>15</td><td>256</td><td>1438</td><td>2953</td><td>⋯</td><td>1745</td><td>1579</td><td>AAACTCGAGGCACCTC-1_Flt3l</td><td>Flt3l_AAACTCGAGGCACCTC-1</td><td>15</td><td>AAACTCGAGGCACCTC-1</td><td>16</td><td>Flt3l</td><td>1   </td><td> 8</td></tr>\n",
       "\t<tr><th scope=row>Flt3l_AAACTCGAGGGCTTCC-1</th><td>Flt3l</td><td> 456</td><td> 456</td><td> 1794</td><td> 349</td><td> 6</td><td> 7</td><td> 89</td><td> 310</td><td>1033</td><td>⋯</td><td> 608</td><td> 582</td><td>AAACTCGAGGGCTTCC-1_Flt3l</td><td>Flt3l_AAACTCGAGGGCTTCC-1</td><td>NA</td><td>NA                </td><td>NA</td><td>None </td><td>None</td><td>NA</td></tr>\n",
       "\t<tr><th scope=row>Flt3l_AAACTCGAGTACCCAT-1</th><td>Flt3l</td><td>1243</td><td>1243</td><td> 5683</td><td> 525</td><td>10</td><td>13</td><td>264</td><td>2370</td><td>2501</td><td>⋯</td><td>1601</td><td>1451</td><td>AAACTCGAGTACCCAT-1_Flt3l</td><td>Flt3l_AAACTCGAGTACCCAT-1</td><td>16</td><td>AAACTCGAGTACCCAT-1</td><td>17</td><td>Flt3l</td><td>1   </td><td> 9</td></tr>\n",
       "\t<tr><th scope=row>Flt3l_AAACTCGAGTCTCCAA-1</th><td>Flt3l</td><td>2626</td><td>2626</td><td> 9545</td><td>1407</td><td>34</td><td>25</td><td>514</td><td>1931</td><td>5634</td><td>⋯</td><td>3373</td><td>2791</td><td>AAACTCGAGTCTCCAA-1_Flt3l</td><td>Flt3l_AAACTCGAGTCTCCAA-1</td><td>17</td><td>AAACTCGAGTCTCCAA-1</td><td>18</td><td>Flt3l</td><td>0   </td><td> 9</td></tr>\n",
       "\t<tr><th scope=row>Flt3l_AAACTCGAGTGCCCTG-1</th><td>Flt3l</td><td>1680</td><td>1680</td><td> 7551</td><td> 795</td><td>26</td><td>17</td><td>268</td><td>2681</td><td>3764</td><td>⋯</td><td>2326</td><td>2024</td><td>AAACTCGAGTGCCCTG-1_Flt3l</td><td>Flt3l_AAACTCGAGTGCCCTG-1</td><td>18</td><td>AAACTCGAGTGCCCTG-1</td><td>19</td><td>Flt3l</td><td>1   </td><td>10</td></tr>\n",
       "\t<tr><th scope=row>Flt3l_AAACTCGAGTGTCCCG-1</th><td>Flt3l</td><td>3117</td><td>3117</td><td>13840</td><td>1915</td><td>37</td><td>35</td><td>493</td><td>5099</td><td>6261</td><td>⋯</td><td>3907</td><td>3173</td><td>AAACTCGAGTGTCCCG-1_Flt3l</td><td>Flt3l_AAACTCGAGTGTCCCG-1</td><td>19</td><td>AAACTCGAGTGTCCCG-1</td><td>20</td><td>Flt3l</td><td>None</td><td>NA</td></tr>\n",
       "\t<tr><th scope=row>Flt3l_AAACTCGCAGGACTGA-1</th><td>Flt3l</td><td>1924</td><td>1924</td><td> 6887</td><td> 868</td><td>17</td><td>21</td><td>304</td><td>1472</td><td>4205</td><td>⋯</td><td>2718</td><td>2334</td><td>AAACTCGCAGGACTGA-1_Flt3l</td><td>Flt3l_AAACTCGCAGGACTGA-1</td><td>20</td><td>AAACTCGCAGGACTGA-1</td><td>21</td><td>Flt3l</td><td>None</td><td>NA</td></tr>\n",
       "\t<tr><th scope=row>Flt3l_AAACTCGCAGTAACGG-1</th><td>Flt3l</td><td>3051</td><td>3051</td><td>13634</td><td>1924</td><td>61</td><td>39</td><td>670</td><td>3844</td><td>7096</td><td>⋯</td><td>4099</td><td>3310</td><td>AAACTCGCAGTAACGG-1_Flt3l</td><td>Flt3l_AAACTCGCAGTAACGG-1</td><td>21</td><td>AAACTCGCAGTAACGG-1</td><td>22</td><td>Flt3l</td><td>None</td><td>NA</td></tr>\n",
       "\t<tr><th scope=row>Flt3l_AAACTCGCATATACGC-1</th><td>Flt3l</td><td>1151</td><td>1151</td><td> 5529</td><td> 714</td><td>15</td><td>16</td><td>282</td><td>1812</td><td>2690</td><td>⋯</td><td>1674</td><td>1529</td><td>AAACTCGCATATACGC-1_Flt3l</td><td>Flt3l_AAACTCGCATATACGC-1</td><td>22</td><td>AAACTCGCATATACGC-1</td><td>23</td><td>Flt3l</td><td>1   </td><td>11</td></tr>\n",
       "\t<tr><th scope=row>Flt3l_AAACTCGCATCCGTGG-1</th><td>Flt3l</td><td>1105</td><td>1105</td><td> 4086</td><td> 578</td><td>20</td><td>14</td><td>234</td><td> 904</td><td>2336</td><td>⋯</td><td>1418</td><td>1315</td><td>AAACTCGCATCCGTGG-1_Flt3l</td><td>Flt3l_AAACTCGCATCCGTGG-1</td><td>23</td><td>AAACTCGCATCCGTGG-1</td><td>24</td><td>Flt3l</td><td>0   </td><td>10</td></tr>\n",
       "\t<tr><th scope=row>Flt3l_AAACTCGCATTAACGC-1</th><td>Flt3l</td><td>1760</td><td>1760</td><td> 9563</td><td>1644</td><td>46</td><td>24</td><td>704</td><td>1661</td><td>5484</td><td>⋯</td><td>3053</td><td>2541</td><td>AAACTCGCATTAACGC-1_Flt3l</td><td>Flt3l_AAACTCGCATTAACGC-1</td><td>24</td><td>AAACTCGCATTAACGC-1</td><td>25</td><td>Flt3l</td><td>0   </td><td>11</td></tr>\n",
       "\t<tr><th scope=row>Flt3l_AAACTCGGTAGGTCTT-1</th><td>Flt3l</td><td>2925</td><td>2925</td><td>13052</td><td>1674</td><td>43</td><td>26</td><td>526</td><td>4014</td><td>6769</td><td>⋯</td><td>4538</td><td>3532</td><td>AAACTCGGTAGGTCTT-1_Flt3l</td><td>Flt3l_AAACTCGGTAGGTCTT-1</td><td>25</td><td>AAACTCGGTAGGTCTT-1</td><td>26</td><td>Flt3l</td><td>1   </td><td>12</td></tr>\n",
       "\t<tr><th scope=row>Flt3l_AAACTCGGTATTCTCT-1</th><td>Flt3l</td><td> 933</td><td> 933</td><td> 4479</td><td> 829</td><td>14</td><td>10</td><td>204</td><td>1299</td><td>2123</td><td>⋯</td><td>1428</td><td>1308</td><td>AAACTCGGTATTCTCT-1_Flt3l</td><td>Flt3l_AAACTCGGTATTCTCT-1</td><td>26</td><td>AAACTCGGTATTCTCT-1</td><td>27</td><td>Flt3l</td><td>0   </td><td>12</td></tr>\n",
       "\t<tr><th scope=row>Flt3l_AAACTCGGTGAGTCGA-1</th><td>Flt3l</td><td>1205</td><td>1205</td><td> 4638</td><td> 518</td><td>21</td><td>16</td><td>271</td><td> 947</td><td>2865</td><td>⋯</td><td>1654</td><td>1518</td><td>AAACTCGGTGAGTCGA-1_Flt3l</td><td>Flt3l_AAACTCGGTGAGTCGA-1</td><td>28</td><td>AAACTCGGTGAGTCGA-1</td><td>29</td><td>Flt3l</td><td>1   </td><td>13</td></tr>\n",
       "\t<tr><th scope=row>Flt3l_AAACTCGGTGCATCAT-1</th><td>Flt3l</td><td>1855</td><td>1855</td><td> 7376</td><td>1065</td><td>24</td><td>19</td><td>349</td><td>1806</td><td>4113</td><td>⋯</td><td>2333</td><td>2026</td><td>AAACTCGGTGCATCAT-1_Flt3l</td><td>Flt3l_AAACTCGGTGCATCAT-1</td><td>29</td><td>AAACTCGGTGCATCAT-1</td><td>30</td><td>Flt3l</td><td>1   </td><td>14</td></tr>\n",
       "\t<tr><th scope=row>⋮</th><td>⋮</td><td>⋮</td><td>⋮</td><td>⋮</td><td>⋮</td><td>⋮</td><td>⋮</td><td>⋮</td><td>⋮</td><td>⋮</td><td>⋱</td><td>⋮</td><td>⋮</td><td>⋮</td><td>⋮</td><td>⋮</td><td>⋮</td><td>⋮</td><td>⋮</td><td>⋮</td><td>⋮</td></tr>\n",
       "\t<tr><th scope=row>Input_TTTGGTTCATATAGAG-1</th><td>Input</td><td> 5470</td><td> 5470</td><td>30210</td><td> 7894</td><td>106</td><td>111</td><td>1110</td><td>11817</td><td> 9172</td><td>⋯</td><td> 5788</td><td>4107</td><td>TTTGGTTCATATAGAG-1_Input</td><td>Input_TTTGGTTCATATAGAG-1</td><td>13376</td><td>TTTGGTTCATATAGAG-1</td><td>13377</td><td>Input</td><td>1</td><td>5679</td></tr>\n",
       "\t<tr><th scope=row>Input_TTTGGTTCATGGCCCA-1</th><td>Input</td><td> 4172</td><td> 4172</td><td>26674</td><td> 7664</td><td> 86</td><td>105</td><td>1105</td><td>10024</td><td> 7690</td><td>⋯</td><td> 4643</td><td>3516</td><td>TTTGGTTCATGGCCCA-1_Input</td><td>Input_TTTGGTTCATGGCCCA-1</td><td>13377</td><td>TTTGGTTCATGGCCCA-1</td><td>13378</td><td>Input</td><td>0</td><td>6985</td></tr>\n",
       "\t<tr><th scope=row>Input_TTTGGTTGTTCTCGAA-1</th><td>Input</td><td> 3596</td><td> 3596</td><td>23621</td><td> 5512</td><td> 84</td><td> 92</td><td> 603</td><td>11441</td><td> 5889</td><td>⋯</td><td> 3586</td><td>2862</td><td>TTTGGTTGTTCTCGAA-1_Input</td><td>Input_TTTGGTTGTTCTCGAA-1</td><td>13378</td><td>TTTGGTTGTTCTCGAA-1</td><td>13379</td><td>Input</td><td>0</td><td>6986</td></tr>\n",
       "\t<tr><th scope=row>Input_TTTGGTTTCACTCGGG-1</th><td>Input</td><td> 5904</td><td> 5904</td><td>38833</td><td>11548</td><td>149</td><td>160</td><td>1847</td><td>13842</td><td>11287</td><td>⋯</td><td> 7286</td><td>5098</td><td>TTTGGTTTCACTCGGG-1_Input</td><td>Input_TTTGGTTTCACTCGGG-1</td><td>13379</td><td>TTTGGTTTCACTCGGG-1</td><td>13380</td><td>Input</td><td>0</td><td>6987</td></tr>\n",
       "\t<tr><th scope=row>Input_TTTGGTTTCATCATGG-1</th><td>Input</td><td> 8216</td><td> 8216</td><td>38225</td><td>14020</td><td>150</td><td>199</td><td>1565</td><td> 8097</td><td>14194</td><td>⋯</td><td> 9417</td><td>5915</td><td>TTTGGTTTCATCATGG-1_Input</td><td>Input_TTTGGTTTCATCATGG-1</td><td>13380</td><td>TTTGGTTTCATCATGG-1</td><td>13381</td><td>Input</td><td>0</td><td>6988</td></tr>\n",
       "\t<tr><th scope=row>Input_TTTGGTTTCCAGAATC-1</th><td>Input</td><td> 6671</td><td> 6671</td><td>36418</td><td>10369</td><td>134</td><td>140</td><td>1395</td><td>12229</td><td>12151</td><td>⋯</td><td> 7315</td><td>5031</td><td>TTTGGTTTCCAGAATC-1_Input</td><td>Input_TTTGGTTTCCAGAATC-1</td><td>13381</td><td>TTTGGTTTCCAGAATC-1</td><td>13382</td><td>Input</td><td>1</td><td>5680</td></tr>\n",
       "\t<tr><th scope=row>Input_TTTGGTTTCCAGCACG-1</th><td>Input</td><td> 5802</td><td> 5802</td><td>38276</td><td>10726</td><td>113</td><td>155</td><td>1333</td><td>12920</td><td>13029</td><td>⋯</td><td> 8066</td><td>5160</td><td>TTTGGTTTCCAGCACG-1_Input</td><td>Input_TTTGGTTTCCAGCACG-1</td><td>13382</td><td>TTTGGTTTCCAGCACG-1</td><td>13383</td><td>Input</td><td>0</td><td>6989</td></tr>\n",
       "\t<tr><th scope=row>Input_TTTGGTTTCGGGAAAC-1</th><td>Input</td><td> 9117</td><td> 9117</td><td>44036</td><td>15752</td><td>188</td><td>162</td><td>1575</td><td> 9606</td><td>16753</td><td>⋯</td><td>10849</td><td>6289</td><td>TTTGGTTTCGGGAAAC-1_Input</td><td>Input_TTTGGTTTCGGGAAAC-1</td><td>13384</td><td>TTTGGTTTCGGGAAAC-1</td><td>13385</td><td>Input</td><td>0</td><td>6991</td></tr>\n",
       "\t<tr><th scope=row>Input_TTTGGTTTCTGAGTCA-1</th><td>Input</td><td>11483</td><td>11483</td><td>46672</td><td>17946</td><td>189</td><td>182</td><td>1899</td><td> 6351</td><td>20105</td><td>⋯</td><td>13275</td><td>7406</td><td>TTTGGTTTCTGAGTCA-1_Input</td><td>Input_TTTGGTTTCTGAGTCA-1</td><td>13385</td><td>TTTGGTTTCTGAGTCA-1</td><td>13386</td><td>Input</td><td>0</td><td>6992</td></tr>\n",
       "\t<tr><th scope=row>Input_TTTGGTTTCTGATCCC-1</th><td>Input</td><td> 4347</td><td> 4347</td><td>23116</td><td> 4623</td><td>135</td><td> 91</td><td> 603</td><td>10983</td><td> 6681</td><td>⋯</td><td> 4516</td><td>3301</td><td>TTTGGTTTCTGATCCC-1_Input</td><td>Input_TTTGGTTTCTGATCCC-1</td><td>13386</td><td>TTTGGTTTCTGATCCC-1</td><td>13387</td><td>Input</td><td>0</td><td>6993</td></tr>\n",
       "\t<tr><th scope=row>Input_TTTGTGTAGAACCCGA-1</th><td>Input</td><td>10487</td><td>10487</td><td>54322</td><td>18751</td><td>185</td><td>269</td><td>1723</td><td>13043</td><td>20351</td><td>⋯</td><td>13613</td><td>6822</td><td>TTTGTGTAGAACCCGA-1_Input</td><td>Input_TTTGTGTAGAACCCGA-1</td><td>13387</td><td>TTTGTGTAGAACCCGA-1</td><td>13388</td><td>Input</td><td>1</td><td>5681</td></tr>\n",
       "\t<tr><th scope=row>Input_TTTGTGTAGGTTGTTC-1</th><td>Input</td><td> 3466</td><td> 3466</td><td>28547</td><td> 5288</td><td> 99</td><td> 92</td><td> 593</td><td>16793</td><td> 5682</td><td>⋯</td><td> 3661</td><td>2933</td><td>TTTGTGTAGGTTGTTC-1_Input</td><td>Input_TTTGTGTAGGTTGTTC-1</td><td>13388</td><td>TTTGTGTAGGTTGTTC-1</td><td>13389</td><td>Input</td><td>1</td><td>5682</td></tr>\n",
       "\t<tr><th scope=row>Input_TTTGTGTAGGTTTCTG-1</th><td>Input</td><td> 2411</td><td> 2411</td><td>15157</td><td> 2804</td><td> 35</td><td> 40</td><td> 431</td><td> 7959</td><td> 3888</td><td>⋯</td><td> 2382</td><td>1951</td><td>TTTGTGTAGGTTTCTG-1_Input</td><td>Input_TTTGTGTAGGTTTCTG-1</td><td>13389</td><td>TTTGTGTAGGTTTCTG-1</td><td>13390</td><td>Input</td><td>1</td><td>5683</td></tr>\n",
       "\t<tr><th scope=row>Input_TTTGTGTAGTAGACCG-1</th><td>Input</td><td> 1597</td><td> 1597</td><td>17478</td><td> 2545</td><td> 36</td><td> 67</td><td> 838</td><td>10895</td><td> 3097</td><td>⋯</td><td> 2156</td><td>1633</td><td>TTTGTGTAGTAGACCG-1_Input</td><td>Input_TTTGTGTAGTAGACCG-1</td><td>13390</td><td>TTTGTGTAGTAGACCG-1</td><td>13391</td><td>Input</td><td>1</td><td>5684</td></tr>\n",
       "\t<tr><th scope=row>Input_TTTGTGTAGTTCGTTG-1</th><td>Input</td><td> 7221</td><td> 7221</td><td>47326</td><td>17420</td><td>175</td><td>171</td><td>2124</td><td>11394</td><td>16042</td><td>⋯</td><td>10200</td><td>5905</td><td>TTTGTGTAGTTCGTTG-1_Input</td><td>Input_TTTGTGTAGTTCGTTG-1</td><td>13391</td><td>TTTGTGTAGTTCGTTG-1</td><td>13392</td><td>Input</td><td>0</td><td>6994</td></tr>\n",
       "\t<tr><th scope=row>Input_TTTGTGTCAACTCGTA-1</th><td>Input</td><td> 5341</td><td> 5341</td><td>35312</td><td>10401</td><td> 97</td><td>156</td><td> 985</td><td>14763</td><td> 8910</td><td>⋯</td><td> 5818</td><td>4082</td><td>TTTGTGTCAACTCGTA-1_Input</td><td>Input_TTTGTGTCAACTCGTA-1</td><td>13392</td><td>TTTGTGTCAACTCGTA-1</td><td>13393</td><td>Input</td><td>1</td><td>5685</td></tr>\n",
       "\t<tr><th scope=row>Input_TTTGTGTCAAGCCAGA-1</th><td>Input</td><td> 2635</td><td> 2635</td><td>19591</td><td> 3883</td><td> 37</td><td> 67</td><td> 496</td><td>10265</td><td> 4843</td><td>⋯</td><td> 2945</td><td>2326</td><td>TTTGTGTCAAGCCAGA-1_Input</td><td>Input_TTTGTGTCAAGCCAGA-1</td><td>13393</td><td>TTTGTGTCAAGCCAGA-1</td><td>13394</td><td>Input</td><td>1</td><td>5686</td></tr>\n",
       "\t<tr><th scope=row>Input_TTTGTGTCAATGACTC-1</th><td>Input</td><td> 4430</td><td> 4430</td><td>22045</td><td> 5463</td><td> 96</td><td> 62</td><td> 512</td><td> 9370</td><td> 6542</td><td>⋯</td><td> 4643</td><td>3485</td><td>TTTGTGTCAATGACTC-1_Input</td><td>Input_TTTGTGTCAATGACTC-1</td><td>13394</td><td>TTTGTGTCAATGACTC-1</td><td>13395</td><td>Input</td><td>1</td><td>5687</td></tr>\n",
       "\t<tr><th scope=row>Input_TTTGTGTCACACATTG-1</th><td>Input</td><td> 2474</td><td> 2474</td><td>20370</td><td> 2166</td><td> 49</td><td> 76</td><td> 272</td><td>14386</td><td> 3421</td><td>⋯</td><td> 2344</td><td>1953</td><td>TTTGTGTCACACATTG-1_Input</td><td>Input_TTTGTGTCACACATTG-1</td><td>13395</td><td>TTTGTGTCACACATTG-1</td><td>13396</td><td>Input</td><td>0</td><td>6995</td></tr>\n",
       "\t<tr><th scope=row>Input_TTTGTGTCAGAAAGAG-1</th><td>Input</td><td> 8823</td><td> 8823</td><td>54991</td><td>15520</td><td>187</td><td>199</td><td>1754</td><td>18606</td><td>18725</td><td>⋯</td><td>11729</td><td>6171</td><td>TTTGTGTCAGAAAGAG-1_Input</td><td>Input_TTTGTGTCAGAAAGAG-1</td><td>13396</td><td>TTTGTGTCAGAAAGAG-1</td><td>13397</td><td>Input</td><td>1</td><td>5688</td></tr>\n",
       "\t<tr><th scope=row>Input_TTTGTGTCATAGCCAT-1</th><td>Input</td><td> 8963</td><td> 8963</td><td>38670</td><td>12717</td><td>201</td><td>145</td><td>2007</td><td> 7501</td><td>16099</td><td>⋯</td><td> 9908</td><td>6094</td><td>TTTGTGTCATAGCCAT-1_Input</td><td>Input_TTTGTGTCATAGCCAT-1</td><td>13397</td><td>TTTGTGTCATAGCCAT-1</td><td>13398</td><td>Input</td><td>1</td><td>5689</td></tr>\n",
       "\t<tr><th scope=row>Input_TTTGTGTGTAAGCCGA-1</th><td>Input</td><td> 3558</td><td> 3558</td><td>15168</td><td> 3241</td><td> 69</td><td> 60</td><td> 437</td><td> 5996</td><td> 5365</td><td>⋯</td><td> 3719</td><td>2918</td><td>TTTGTGTGTAAGCCGA-1_Input</td><td>Input_TTTGTGTGTAAGCCGA-1</td><td>13398</td><td>TTTGTGTGTAAGCCGA-1</td><td>13399</td><td>Input</td><td>0</td><td>6996</td></tr>\n",
       "\t<tr><th scope=row>Input_TTTGTGTGTAGATTAG-1</th><td>Input</td><td> 2996</td><td> 2996</td><td>17832</td><td> 7612</td><td> 54</td><td> 78</td><td> 632</td><td> 3609</td><td> 5847</td><td>⋯</td><td> 3770</td><td>2811</td><td>TTTGTGTGTAGATTAG-1_Input</td><td>Input_TTTGTGTGTAGATTAG-1</td><td>13399</td><td>TTTGTGTGTAGATTAG-1</td><td>13400</td><td>Input</td><td>0</td><td>6997</td></tr>\n",
       "\t<tr><th scope=row>Input_TTTGTGTGTAGGGTCA-1</th><td>Input</td><td> 4527</td><td> 4527</td><td>20297</td><td> 5059</td><td> 77</td><td> 78</td><td> 535</td><td> 7531</td><td> 7017</td><td>⋯</td><td> 4695</td><td>3424</td><td>TTTGTGTGTAGGGTCA-1_Input</td><td>Input_TTTGTGTGTAGGGTCA-1</td><td>13400</td><td>TTTGTGTGTAGGGTCA-1</td><td>13401</td><td>Input</td><td>0</td><td>6998</td></tr>\n",
       "\t<tr><th scope=row>Input_TTTGTGTGTCATAGAA-1</th><td>Input</td><td> 7428</td><td> 7428</td><td>32663</td><td>10594</td><td>153</td><td>131</td><td>1320</td><td> 8708</td><td>11757</td><td>⋯</td><td> 7879</td><td>5181</td><td>TTTGTGTGTCATAGAA-1_Input</td><td>Input_TTTGTGTGTCATAGAA-1</td><td>13401</td><td>TTTGTGTGTCATAGAA-1</td><td>13402</td><td>Input</td><td>1</td><td>5690</td></tr>\n",
       "\t<tr><th scope=row>Input_TTTGTGTGTTTCTTAC-1</th><td>Input</td><td> 3580</td><td> 3580</td><td>17067</td><td> 3257</td><td> 63</td><td> 80</td><td> 461</td><td> 8097</td><td> 5109</td><td>⋯</td><td> 3738</td><td>2899</td><td>TTTGTGTGTTTCTTAC-1_Input</td><td>Input_TTTGTGTGTTTCTTAC-1</td><td>13402</td><td>TTTGTGTGTTTCTTAC-1</td><td>13403</td><td>Input</td><td>0</td><td>6999</td></tr>\n",
       "\t<tr><th scope=row>Input_TTTGTGTTCCTGAAAC-1</th><td>Input</td><td> 4328</td><td> 4328</td><td>30427</td><td> 8323</td><td> 84</td><td> 99</td><td> 799</td><td>12146</td><td> 8976</td><td>⋯</td><td> 5839</td><td>4144</td><td>TTTGTGTTCCTGAAAC-1_Input</td><td>Input_TTTGTGTTCCTGAAAC-1</td><td>13403</td><td>TTTGTGTTCCTGAAAC-1</td><td>13404</td><td>Input</td><td>0</td><td>7000</td></tr>\n",
       "\t<tr><th scope=row>Input_TTTGTGTTCGGGAAAC-1</th><td>Input</td><td> 8010</td><td> 8010</td><td>40114</td><td>14032</td><td>169</td><td>160</td><td>1561</td><td>10102</td><td>14090</td><td>⋯</td><td> 9421</td><td>5890</td><td>TTTGTGTTCGGGAAAC-1_Input</td><td>Input_TTTGTGTTCGGGAAAC-1</td><td>13404</td><td>TTTGTGTTCGGGAAAC-1</td><td>13405</td><td>Input</td><td>0</td><td>7001</td></tr>\n",
       "\t<tr><th scope=row>Input_TTTGTGTTCGGGACAA-1</th><td>Input</td><td> 3286</td><td> 3286</td><td>22721</td><td> 4421</td><td> 43</td><td> 84</td><td> 546</td><td>11692</td><td> 5935</td><td>⋯</td><td> 4303</td><td>3323</td><td>TTTGTGTTCGGGACAA-1_Input</td><td>Input_TTTGTGTTCGGGACAA-1</td><td>13405</td><td>TTTGTGTTCGGGACAA-1</td><td>13406</td><td>Input</td><td>1</td><td>5691</td></tr>\n",
       "\t<tr><th scope=row>Input_TTTGTGTTCTGGCACG-1</th><td>Input</td><td>11505</td><td>11505</td><td>57423</td><td>22063</td><td>263</td><td>235</td><td>2056</td><td>11433</td><td>21373</td><td>⋯</td><td>13841</td><td>7279</td><td>TTTGTGTTCTGGCACG-1_Input</td><td>Input_TTTGTGTTCTGGCACG-1</td><td>13406</td><td>TTTGTGTTCTGGCACG-1</td><td>13407</td><td>Input</td><td>0</td><td>7002</td></tr>\n",
       "</tbody>\n",
       "</table>\n"
      ],
      "text/latex": [
       "A data.frame: 13593 × 41\n",
       "\\begin{tabular}{r|lllllllllllllllllllll}\n",
       "  & orig.ident & nCount\\_ATAC & nFeature\\_ATAC & total & duplicate & chimeric & unmapped & lowmapq & mitochondrial & passed\\_filters & ⋯ & nCount\\_RNA & nFeature\\_RNA & ID & Row.names & index & raw.ID & new.index & condition & donor & donor\\_index\\\\\n",
       "  & <chr> & <dbl> & <int> & <dbl> & <dbl> & <dbl> & <dbl> & <dbl> & <dbl> & <dbl> & ⋯ & <dbl> & <int> & <chr> & <I<chr>> & <dbl> & <chr> & <dbl> & <fct> & <fct> & <dbl>\\\\\n",
       "\\hline\n",
       "\tFlt3l\\_AAACGAAAGGAGACTC-1 & Flt3l &  531 &  531 &  2286 &  298 &  7 &  7 & 124 &  749 & 1101 & ⋯ &  649 &  621 & AAACGAAAGGAGACTC-1\\_Flt3l & Flt3l\\_AAACGAAAGGAGACTC-1 &  0 & AAACGAAAGGAGACTC-1 &  1 & Flt3l & 1    &  1\\\\\n",
       "\tFlt3l\\_AAACGAAAGTCACGCC-1 & Flt3l & 1222 & 1222 &  4711 &  555 & 16 & 12 & 289 &  853 & 2986 & ⋯ & 1674 & 1502 & AAACGAAAGTCACGCC-1\\_Flt3l & Flt3l\\_AAACGAAAGTCACGCC-1 &  1 & AAACGAAAGTCACGCC-1 &  2 & Flt3l & 1    &  2\\\\\n",
       "\tFlt3l\\_AAACGAACAAGACTAA-1 & Flt3l & 2225 & 2225 &  9178 & 1509 & 37 & 19 & 585 & 1339 & 5689 & ⋯ & 3369 & 2695 & AAACGAACAAGACTAA-1\\_Flt3l & Flt3l\\_AAACGAACAAGACTAA-1 &  2 & AAACGAACAAGACTAA-1 &  3 & Flt3l & 1    &  3\\\\\n",
       "\tFlt3l\\_AAACGAACAAGCGAAC-1 & Flt3l & 2271 & 2271 &  8825 & 1544 & 24 & 24 & 535 & 1308 & 5390 & ⋯ & 3360 & 2784 & AAACGAACAAGCGAAC-1\\_Flt3l & Flt3l\\_AAACGAACAAGCGAAC-1 &  3 & AAACGAACAAGCGAAC-1 &  4 & Flt3l & 0    &  1\\\\\n",
       "\tFlt3l\\_AAACGAACACAGCCAC-1 & Flt3l & 2854 & 2854 & 10589 & 1294 & 41 & 31 & 456 & 2764 & 6003 & ⋯ & 3722 & 2998 & AAACGAACACAGCCAC-1\\_Flt3l & Flt3l\\_AAACGAACACAGCCAC-1 &  4 & AAACGAACACAGCCAC-1 &  5 & Flt3l & 0    &  2\\\\\n",
       "\tFlt3l\\_AAACGAACACAGGTAG-1 & Flt3l &  615 &  615 &  2384 &  240 & 13 &  7 & 149 &  594 & 1381 & ⋯ &  901 &  865 & AAACGAACACAGGTAG-1\\_Flt3l & Flt3l\\_AAACGAACACAGGTAG-1 &  5 & AAACGAACACAGGTAG-1 &  6 & Flt3l & 0    &  3\\\\\n",
       "\tFlt3l\\_AAACGAACACAGTAGG-1 & Flt3l & 2545 & 2545 & 10019 & 1869 & 31 & 28 & 514 & 1008 & 6569 & ⋯ & 3950 & 3101 & AAACGAACACAGTAGG-1\\_Flt3l & Flt3l\\_AAACGAACACAGTAGG-1 &  6 & AAACGAACACAGTAGG-1 &  7 & Flt3l & 1    &  4\\\\\n",
       "\tFlt3l\\_AAACGAACATAGAATG-1 & Flt3l &  985 &  985 &  3395 &  433 &  8 & 20 & 163 &  985 & 1786 & ⋯ & 1090 & 1005 & AAACGAACATAGAATG-1\\_Flt3l & Flt3l\\_AAACGAACATAGAATG-1 &  7 & AAACGAACATAGAATG-1 &  8 & Flt3l & 0    &  4\\\\\n",
       "\tFlt3l\\_AAACGAACATGTAGAA-1 & Flt3l & 1020 & 1020 &  5086 &  708 &  5 & 21 & 243 & 1777 & 2332 & ⋯ & 1347 & 1237 & AAACGAACATGTAGAA-1\\_Flt3l & Flt3l\\_AAACGAACATGTAGAA-1 &  8 & AAACGAACATGTAGAA-1 &  9 & Flt3l & 1    &  5\\\\\n",
       "\tFlt3l\\_AAACGAAGTATTCGAC-1 & Flt3l &  894 &  894 &  4999 &  553 & 16 & 17 & 197 & 1650 & 2566 & ⋯ & 1385 & 1248 & AAACGAAGTATTCGAC-1\\_Flt3l & Flt3l\\_AAACGAAGTATTCGAC-1 &  9 & AAACGAAGTATTCGAC-1 & 10 & Flt3l & 0    &  5\\\\\n",
       "\tFlt3l\\_AAACGAAGTCTGATTG-1 & Flt3l & 4239 & 4239 & 15047 & 1940 & 50 & 52 & 636 & 4173 & 8196 & ⋯ & 5280 & 4119 & AAACGAAGTCTGATTG-1\\_Flt3l & Flt3l\\_AAACGAAGTCTGATTG-1 & 10 & AAACGAAGTCTGATTG-1 & 11 & Flt3l & 0    &  6\\\\\n",
       "\tFlt3l\\_AAACGAATCGCTGATA-1 & Flt3l & 1521 & 1521 &  6172 & 1092 & 29 & 21 & 296 & 1178 & 3556 & ⋯ & 2029 & 1760 & AAACGAATCGCTGATA-1\\_Flt3l & Flt3l\\_AAACGAATCGCTGATA-1 & 11 & AAACGAATCGCTGATA-1 & 12 & Flt3l & 0    &  7\\\\\n",
       "\tFlt3l\\_AAACGAATCTCTTAAC-1 & Flt3l & 2036 & 2036 &  6425 &  857 & 28 & 17 & 402 & 1014 & 4107 & ⋯ & 2489 & 2172 & AAACGAATCTCTTAAC-1\\_Flt3l & Flt3l\\_AAACGAATCTCTTAAC-1 & 12 & AAACGAATCTCTTAAC-1 & 13 & Flt3l & 1    &  6\\\\\n",
       "\tFlt3l\\_AAACTCGAGACACAAT-1 & Flt3l & 1696 & 1696 &  7731 &  983 & 27 & 15 & 357 & 2002 & 4347 & ⋯ & 2907 & 2449 & AAACTCGAGACACAAT-1\\_Flt3l & Flt3l\\_AAACTCGAGACACAAT-1 & 13 & AAACTCGAGACACAAT-1 & 14 & Flt3l & 1    &  7\\\\\n",
       "\tFlt3l\\_AAACTCGAGATGTTCC-1 & Flt3l & 1223 & 1223 &  4318 &  548 & 13 & 13 & 212 & 1050 & 2482 & ⋯ & 1596 & 1442 & AAACTCGAGATGTTCC-1\\_Flt3l & Flt3l\\_AAACTCGAGATGTTCC-1 & 14 & AAACTCGAGATGTTCC-1 & 15 & Flt3l & 0    &  8\\\\\n",
       "\tFlt3l\\_AAACTCGAGGCACCTC-1 & Flt3l & 1297 & 1297 &  5305 &  620 & 23 & 15 & 256 & 1438 & 2953 & ⋯ & 1745 & 1579 & AAACTCGAGGCACCTC-1\\_Flt3l & Flt3l\\_AAACTCGAGGCACCTC-1 & 15 & AAACTCGAGGCACCTC-1 & 16 & Flt3l & 1    &  8\\\\\n",
       "\tFlt3l\\_AAACTCGAGGGCTTCC-1 & Flt3l &  456 &  456 &  1794 &  349 &  6 &  7 &  89 &  310 & 1033 & ⋯ &  608 &  582 & AAACTCGAGGGCTTCC-1\\_Flt3l & Flt3l\\_AAACTCGAGGGCTTCC-1 & NA & NA                 & NA & None  & None & NA\\\\\n",
       "\tFlt3l\\_AAACTCGAGTACCCAT-1 & Flt3l & 1243 & 1243 &  5683 &  525 & 10 & 13 & 264 & 2370 & 2501 & ⋯ & 1601 & 1451 & AAACTCGAGTACCCAT-1\\_Flt3l & Flt3l\\_AAACTCGAGTACCCAT-1 & 16 & AAACTCGAGTACCCAT-1 & 17 & Flt3l & 1    &  9\\\\\n",
       "\tFlt3l\\_AAACTCGAGTCTCCAA-1 & Flt3l & 2626 & 2626 &  9545 & 1407 & 34 & 25 & 514 & 1931 & 5634 & ⋯ & 3373 & 2791 & AAACTCGAGTCTCCAA-1\\_Flt3l & Flt3l\\_AAACTCGAGTCTCCAA-1 & 17 & AAACTCGAGTCTCCAA-1 & 18 & Flt3l & 0    &  9\\\\\n",
       "\tFlt3l\\_AAACTCGAGTGCCCTG-1 & Flt3l & 1680 & 1680 &  7551 &  795 & 26 & 17 & 268 & 2681 & 3764 & ⋯ & 2326 & 2024 & AAACTCGAGTGCCCTG-1\\_Flt3l & Flt3l\\_AAACTCGAGTGCCCTG-1 & 18 & AAACTCGAGTGCCCTG-1 & 19 & Flt3l & 1    & 10\\\\\n",
       "\tFlt3l\\_AAACTCGAGTGTCCCG-1 & Flt3l & 3117 & 3117 & 13840 & 1915 & 37 & 35 & 493 & 5099 & 6261 & ⋯ & 3907 & 3173 & AAACTCGAGTGTCCCG-1\\_Flt3l & Flt3l\\_AAACTCGAGTGTCCCG-1 & 19 & AAACTCGAGTGTCCCG-1 & 20 & Flt3l & None & NA\\\\\n",
       "\tFlt3l\\_AAACTCGCAGGACTGA-1 & Flt3l & 1924 & 1924 &  6887 &  868 & 17 & 21 & 304 & 1472 & 4205 & ⋯ & 2718 & 2334 & AAACTCGCAGGACTGA-1\\_Flt3l & Flt3l\\_AAACTCGCAGGACTGA-1 & 20 & AAACTCGCAGGACTGA-1 & 21 & Flt3l & None & NA\\\\\n",
       "\tFlt3l\\_AAACTCGCAGTAACGG-1 & Flt3l & 3051 & 3051 & 13634 & 1924 & 61 & 39 & 670 & 3844 & 7096 & ⋯ & 4099 & 3310 & AAACTCGCAGTAACGG-1\\_Flt3l & Flt3l\\_AAACTCGCAGTAACGG-1 & 21 & AAACTCGCAGTAACGG-1 & 22 & Flt3l & None & NA\\\\\n",
       "\tFlt3l\\_AAACTCGCATATACGC-1 & Flt3l & 1151 & 1151 &  5529 &  714 & 15 & 16 & 282 & 1812 & 2690 & ⋯ & 1674 & 1529 & AAACTCGCATATACGC-1\\_Flt3l & Flt3l\\_AAACTCGCATATACGC-1 & 22 & AAACTCGCATATACGC-1 & 23 & Flt3l & 1    & 11\\\\\n",
       "\tFlt3l\\_AAACTCGCATCCGTGG-1 & Flt3l & 1105 & 1105 &  4086 &  578 & 20 & 14 & 234 &  904 & 2336 & ⋯ & 1418 & 1315 & AAACTCGCATCCGTGG-1\\_Flt3l & Flt3l\\_AAACTCGCATCCGTGG-1 & 23 & AAACTCGCATCCGTGG-1 & 24 & Flt3l & 0    & 10\\\\\n",
       "\tFlt3l\\_AAACTCGCATTAACGC-1 & Flt3l & 1760 & 1760 &  9563 & 1644 & 46 & 24 & 704 & 1661 & 5484 & ⋯ & 3053 & 2541 & AAACTCGCATTAACGC-1\\_Flt3l & Flt3l\\_AAACTCGCATTAACGC-1 & 24 & AAACTCGCATTAACGC-1 & 25 & Flt3l & 0    & 11\\\\\n",
       "\tFlt3l\\_AAACTCGGTAGGTCTT-1 & Flt3l & 2925 & 2925 & 13052 & 1674 & 43 & 26 & 526 & 4014 & 6769 & ⋯ & 4538 & 3532 & AAACTCGGTAGGTCTT-1\\_Flt3l & Flt3l\\_AAACTCGGTAGGTCTT-1 & 25 & AAACTCGGTAGGTCTT-1 & 26 & Flt3l & 1    & 12\\\\\n",
       "\tFlt3l\\_AAACTCGGTATTCTCT-1 & Flt3l &  933 &  933 &  4479 &  829 & 14 & 10 & 204 & 1299 & 2123 & ⋯ & 1428 & 1308 & AAACTCGGTATTCTCT-1\\_Flt3l & Flt3l\\_AAACTCGGTATTCTCT-1 & 26 & AAACTCGGTATTCTCT-1 & 27 & Flt3l & 0    & 12\\\\\n",
       "\tFlt3l\\_AAACTCGGTGAGTCGA-1 & Flt3l & 1205 & 1205 &  4638 &  518 & 21 & 16 & 271 &  947 & 2865 & ⋯ & 1654 & 1518 & AAACTCGGTGAGTCGA-1\\_Flt3l & Flt3l\\_AAACTCGGTGAGTCGA-1 & 28 & AAACTCGGTGAGTCGA-1 & 29 & Flt3l & 1    & 13\\\\\n",
       "\tFlt3l\\_AAACTCGGTGCATCAT-1 & Flt3l & 1855 & 1855 &  7376 & 1065 & 24 & 19 & 349 & 1806 & 4113 & ⋯ & 2333 & 2026 & AAACTCGGTGCATCAT-1\\_Flt3l & Flt3l\\_AAACTCGGTGCATCAT-1 & 29 & AAACTCGGTGCATCAT-1 & 30 & Flt3l & 1    & 14\\\\\n",
       "\t⋮ & ⋮ & ⋮ & ⋮ & ⋮ & ⋮ & ⋮ & ⋮ & ⋮ & ⋮ & ⋮ & ⋱ & ⋮ & ⋮ & ⋮ & ⋮ & ⋮ & ⋮ & ⋮ & ⋮ & ⋮ & ⋮\\\\\n",
       "\tInput\\_TTTGGTTCATATAGAG-1 & Input &  5470 &  5470 & 30210 &  7894 & 106 & 111 & 1110 & 11817 &  9172 & ⋯ &  5788 & 4107 & TTTGGTTCATATAGAG-1\\_Input & Input\\_TTTGGTTCATATAGAG-1 & 13376 & TTTGGTTCATATAGAG-1 & 13377 & Input & 1 & 5679\\\\\n",
       "\tInput\\_TTTGGTTCATGGCCCA-1 & Input &  4172 &  4172 & 26674 &  7664 &  86 & 105 & 1105 & 10024 &  7690 & ⋯ &  4643 & 3516 & TTTGGTTCATGGCCCA-1\\_Input & Input\\_TTTGGTTCATGGCCCA-1 & 13377 & TTTGGTTCATGGCCCA-1 & 13378 & Input & 0 & 6985\\\\\n",
       "\tInput\\_TTTGGTTGTTCTCGAA-1 & Input &  3596 &  3596 & 23621 &  5512 &  84 &  92 &  603 & 11441 &  5889 & ⋯ &  3586 & 2862 & TTTGGTTGTTCTCGAA-1\\_Input & Input\\_TTTGGTTGTTCTCGAA-1 & 13378 & TTTGGTTGTTCTCGAA-1 & 13379 & Input & 0 & 6986\\\\\n",
       "\tInput\\_TTTGGTTTCACTCGGG-1 & Input &  5904 &  5904 & 38833 & 11548 & 149 & 160 & 1847 & 13842 & 11287 & ⋯ &  7286 & 5098 & TTTGGTTTCACTCGGG-1\\_Input & Input\\_TTTGGTTTCACTCGGG-1 & 13379 & TTTGGTTTCACTCGGG-1 & 13380 & Input & 0 & 6987\\\\\n",
       "\tInput\\_TTTGGTTTCATCATGG-1 & Input &  8216 &  8216 & 38225 & 14020 & 150 & 199 & 1565 &  8097 & 14194 & ⋯ &  9417 & 5915 & TTTGGTTTCATCATGG-1\\_Input & Input\\_TTTGGTTTCATCATGG-1 & 13380 & TTTGGTTTCATCATGG-1 & 13381 & Input & 0 & 6988\\\\\n",
       "\tInput\\_TTTGGTTTCCAGAATC-1 & Input &  6671 &  6671 & 36418 & 10369 & 134 & 140 & 1395 & 12229 & 12151 & ⋯ &  7315 & 5031 & TTTGGTTTCCAGAATC-1\\_Input & Input\\_TTTGGTTTCCAGAATC-1 & 13381 & TTTGGTTTCCAGAATC-1 & 13382 & Input & 1 & 5680\\\\\n",
       "\tInput\\_TTTGGTTTCCAGCACG-1 & Input &  5802 &  5802 & 38276 & 10726 & 113 & 155 & 1333 & 12920 & 13029 & ⋯ &  8066 & 5160 & TTTGGTTTCCAGCACG-1\\_Input & Input\\_TTTGGTTTCCAGCACG-1 & 13382 & TTTGGTTTCCAGCACG-1 & 13383 & Input & 0 & 6989\\\\\n",
       "\tInput\\_TTTGGTTTCGGGAAAC-1 & Input &  9117 &  9117 & 44036 & 15752 & 188 & 162 & 1575 &  9606 & 16753 & ⋯ & 10849 & 6289 & TTTGGTTTCGGGAAAC-1\\_Input & Input\\_TTTGGTTTCGGGAAAC-1 & 13384 & TTTGGTTTCGGGAAAC-1 & 13385 & Input & 0 & 6991\\\\\n",
       "\tInput\\_TTTGGTTTCTGAGTCA-1 & Input & 11483 & 11483 & 46672 & 17946 & 189 & 182 & 1899 &  6351 & 20105 & ⋯ & 13275 & 7406 & TTTGGTTTCTGAGTCA-1\\_Input & Input\\_TTTGGTTTCTGAGTCA-1 & 13385 & TTTGGTTTCTGAGTCA-1 & 13386 & Input & 0 & 6992\\\\\n",
       "\tInput\\_TTTGGTTTCTGATCCC-1 & Input &  4347 &  4347 & 23116 &  4623 & 135 &  91 &  603 & 10983 &  6681 & ⋯ &  4516 & 3301 & TTTGGTTTCTGATCCC-1\\_Input & Input\\_TTTGGTTTCTGATCCC-1 & 13386 & TTTGGTTTCTGATCCC-1 & 13387 & Input & 0 & 6993\\\\\n",
       "\tInput\\_TTTGTGTAGAACCCGA-1 & Input & 10487 & 10487 & 54322 & 18751 & 185 & 269 & 1723 & 13043 & 20351 & ⋯ & 13613 & 6822 & TTTGTGTAGAACCCGA-1\\_Input & Input\\_TTTGTGTAGAACCCGA-1 & 13387 & TTTGTGTAGAACCCGA-1 & 13388 & Input & 1 & 5681\\\\\n",
       "\tInput\\_TTTGTGTAGGTTGTTC-1 & Input &  3466 &  3466 & 28547 &  5288 &  99 &  92 &  593 & 16793 &  5682 & ⋯ &  3661 & 2933 & TTTGTGTAGGTTGTTC-1\\_Input & Input\\_TTTGTGTAGGTTGTTC-1 & 13388 & TTTGTGTAGGTTGTTC-1 & 13389 & Input & 1 & 5682\\\\\n",
       "\tInput\\_TTTGTGTAGGTTTCTG-1 & Input &  2411 &  2411 & 15157 &  2804 &  35 &  40 &  431 &  7959 &  3888 & ⋯ &  2382 & 1951 & TTTGTGTAGGTTTCTG-1\\_Input & Input\\_TTTGTGTAGGTTTCTG-1 & 13389 & TTTGTGTAGGTTTCTG-1 & 13390 & Input & 1 & 5683\\\\\n",
       "\tInput\\_TTTGTGTAGTAGACCG-1 & Input &  1597 &  1597 & 17478 &  2545 &  36 &  67 &  838 & 10895 &  3097 & ⋯ &  2156 & 1633 & TTTGTGTAGTAGACCG-1\\_Input & Input\\_TTTGTGTAGTAGACCG-1 & 13390 & TTTGTGTAGTAGACCG-1 & 13391 & Input & 1 & 5684\\\\\n",
       "\tInput\\_TTTGTGTAGTTCGTTG-1 & Input &  7221 &  7221 & 47326 & 17420 & 175 & 171 & 2124 & 11394 & 16042 & ⋯ & 10200 & 5905 & TTTGTGTAGTTCGTTG-1\\_Input & Input\\_TTTGTGTAGTTCGTTG-1 & 13391 & TTTGTGTAGTTCGTTG-1 & 13392 & Input & 0 & 6994\\\\\n",
       "\tInput\\_TTTGTGTCAACTCGTA-1 & Input &  5341 &  5341 & 35312 & 10401 &  97 & 156 &  985 & 14763 &  8910 & ⋯ &  5818 & 4082 & TTTGTGTCAACTCGTA-1\\_Input & Input\\_TTTGTGTCAACTCGTA-1 & 13392 & TTTGTGTCAACTCGTA-1 & 13393 & Input & 1 & 5685\\\\\n",
       "\tInput\\_TTTGTGTCAAGCCAGA-1 & Input &  2635 &  2635 & 19591 &  3883 &  37 &  67 &  496 & 10265 &  4843 & ⋯ &  2945 & 2326 & TTTGTGTCAAGCCAGA-1\\_Input & Input\\_TTTGTGTCAAGCCAGA-1 & 13393 & TTTGTGTCAAGCCAGA-1 & 13394 & Input & 1 & 5686\\\\\n",
       "\tInput\\_TTTGTGTCAATGACTC-1 & Input &  4430 &  4430 & 22045 &  5463 &  96 &  62 &  512 &  9370 &  6542 & ⋯ &  4643 & 3485 & TTTGTGTCAATGACTC-1\\_Input & Input\\_TTTGTGTCAATGACTC-1 & 13394 & TTTGTGTCAATGACTC-1 & 13395 & Input & 1 & 5687\\\\\n",
       "\tInput\\_TTTGTGTCACACATTG-1 & Input &  2474 &  2474 & 20370 &  2166 &  49 &  76 &  272 & 14386 &  3421 & ⋯ &  2344 & 1953 & TTTGTGTCACACATTG-1\\_Input & Input\\_TTTGTGTCACACATTG-1 & 13395 & TTTGTGTCACACATTG-1 & 13396 & Input & 0 & 6995\\\\\n",
       "\tInput\\_TTTGTGTCAGAAAGAG-1 & Input &  8823 &  8823 & 54991 & 15520 & 187 & 199 & 1754 & 18606 & 18725 & ⋯ & 11729 & 6171 & TTTGTGTCAGAAAGAG-1\\_Input & Input\\_TTTGTGTCAGAAAGAG-1 & 13396 & TTTGTGTCAGAAAGAG-1 & 13397 & Input & 1 & 5688\\\\\n",
       "\tInput\\_TTTGTGTCATAGCCAT-1 & Input &  8963 &  8963 & 38670 & 12717 & 201 & 145 & 2007 &  7501 & 16099 & ⋯ &  9908 & 6094 & TTTGTGTCATAGCCAT-1\\_Input & Input\\_TTTGTGTCATAGCCAT-1 & 13397 & TTTGTGTCATAGCCAT-1 & 13398 & Input & 1 & 5689\\\\\n",
       "\tInput\\_TTTGTGTGTAAGCCGA-1 & Input &  3558 &  3558 & 15168 &  3241 &  69 &  60 &  437 &  5996 &  5365 & ⋯ &  3719 & 2918 & TTTGTGTGTAAGCCGA-1\\_Input & Input\\_TTTGTGTGTAAGCCGA-1 & 13398 & TTTGTGTGTAAGCCGA-1 & 13399 & Input & 0 & 6996\\\\\n",
       "\tInput\\_TTTGTGTGTAGATTAG-1 & Input &  2996 &  2996 & 17832 &  7612 &  54 &  78 &  632 &  3609 &  5847 & ⋯ &  3770 & 2811 & TTTGTGTGTAGATTAG-1\\_Input & Input\\_TTTGTGTGTAGATTAG-1 & 13399 & TTTGTGTGTAGATTAG-1 & 13400 & Input & 0 & 6997\\\\\n",
       "\tInput\\_TTTGTGTGTAGGGTCA-1 & Input &  4527 &  4527 & 20297 &  5059 &  77 &  78 &  535 &  7531 &  7017 & ⋯ &  4695 & 3424 & TTTGTGTGTAGGGTCA-1\\_Input & Input\\_TTTGTGTGTAGGGTCA-1 & 13400 & TTTGTGTGTAGGGTCA-1 & 13401 & Input & 0 & 6998\\\\\n",
       "\tInput\\_TTTGTGTGTCATAGAA-1 & Input &  7428 &  7428 & 32663 & 10594 & 153 & 131 & 1320 &  8708 & 11757 & ⋯ &  7879 & 5181 & TTTGTGTGTCATAGAA-1\\_Input & Input\\_TTTGTGTGTCATAGAA-1 & 13401 & TTTGTGTGTCATAGAA-1 & 13402 & Input & 1 & 5690\\\\\n",
       "\tInput\\_TTTGTGTGTTTCTTAC-1 & Input &  3580 &  3580 & 17067 &  3257 &  63 &  80 &  461 &  8097 &  5109 & ⋯ &  3738 & 2899 & TTTGTGTGTTTCTTAC-1\\_Input & Input\\_TTTGTGTGTTTCTTAC-1 & 13402 & TTTGTGTGTTTCTTAC-1 & 13403 & Input & 0 & 6999\\\\\n",
       "\tInput\\_TTTGTGTTCCTGAAAC-1 & Input &  4328 &  4328 & 30427 &  8323 &  84 &  99 &  799 & 12146 &  8976 & ⋯ &  5839 & 4144 & TTTGTGTTCCTGAAAC-1\\_Input & Input\\_TTTGTGTTCCTGAAAC-1 & 13403 & TTTGTGTTCCTGAAAC-1 & 13404 & Input & 0 & 7000\\\\\n",
       "\tInput\\_TTTGTGTTCGGGAAAC-1 & Input &  8010 &  8010 & 40114 & 14032 & 169 & 160 & 1561 & 10102 & 14090 & ⋯ &  9421 & 5890 & TTTGTGTTCGGGAAAC-1\\_Input & Input\\_TTTGTGTTCGGGAAAC-1 & 13404 & TTTGTGTTCGGGAAAC-1 & 13405 & Input & 0 & 7001\\\\\n",
       "\tInput\\_TTTGTGTTCGGGACAA-1 & Input &  3286 &  3286 & 22721 &  4421 &  43 &  84 &  546 & 11692 &  5935 & ⋯ &  4303 & 3323 & TTTGTGTTCGGGACAA-1\\_Input & Input\\_TTTGTGTTCGGGACAA-1 & 13405 & TTTGTGTTCGGGACAA-1 & 13406 & Input & 1 & 5691\\\\\n",
       "\tInput\\_TTTGTGTTCTGGCACG-1 & Input & 11505 & 11505 & 57423 & 22063 & 263 & 235 & 2056 & 11433 & 21373 & ⋯ & 13841 & 7279 & TTTGTGTTCTGGCACG-1\\_Input & Input\\_TTTGTGTTCTGGCACG-1 & 13406 & TTTGTGTTCTGGCACG-1 & 13407 & Input & 0 & 7002\\\\\n",
       "\\end{tabular}\n"
      ],
      "text/markdown": [
       "\n",
       "A data.frame: 13593 × 41\n",
       "\n",
       "| <!--/--> | orig.ident &lt;chr&gt; | nCount_ATAC &lt;dbl&gt; | nFeature_ATAC &lt;int&gt; | total &lt;dbl&gt; | duplicate &lt;dbl&gt; | chimeric &lt;dbl&gt; | unmapped &lt;dbl&gt; | lowmapq &lt;dbl&gt; | mitochondrial &lt;dbl&gt; | passed_filters &lt;dbl&gt; | ⋯ ⋯ | nCount_RNA &lt;dbl&gt; | nFeature_RNA &lt;int&gt; | ID &lt;chr&gt; | Row.names &lt;I&lt;chr&gt;&gt; | index &lt;dbl&gt; | raw.ID &lt;chr&gt; | new.index &lt;dbl&gt; | condition &lt;fct&gt; | donor &lt;fct&gt; | donor_index &lt;dbl&gt; |\n",
       "|---|---|---|---|---|---|---|---|---|---|---|---|---|---|---|---|---|---|---|---|---|---|\n",
       "| Flt3l_AAACGAAAGGAGACTC-1 | Flt3l |  531 |  531 |  2286 |  298 |  7 |  7 | 124 |  749 | 1101 | ⋯ |  649 |  621 | AAACGAAAGGAGACTC-1_Flt3l | Flt3l_AAACGAAAGGAGACTC-1 |  0 | AAACGAAAGGAGACTC-1 |  1 | Flt3l | 1    |  1 |\n",
       "| Flt3l_AAACGAAAGTCACGCC-1 | Flt3l | 1222 | 1222 |  4711 |  555 | 16 | 12 | 289 |  853 | 2986 | ⋯ | 1674 | 1502 | AAACGAAAGTCACGCC-1_Flt3l | Flt3l_AAACGAAAGTCACGCC-1 |  1 | AAACGAAAGTCACGCC-1 |  2 | Flt3l | 1    |  2 |\n",
       "| Flt3l_AAACGAACAAGACTAA-1 | Flt3l | 2225 | 2225 |  9178 | 1509 | 37 | 19 | 585 | 1339 | 5689 | ⋯ | 3369 | 2695 | AAACGAACAAGACTAA-1_Flt3l | Flt3l_AAACGAACAAGACTAA-1 |  2 | AAACGAACAAGACTAA-1 |  3 | Flt3l | 1    |  3 |\n",
       "| Flt3l_AAACGAACAAGCGAAC-1 | Flt3l | 2271 | 2271 |  8825 | 1544 | 24 | 24 | 535 | 1308 | 5390 | ⋯ | 3360 | 2784 | AAACGAACAAGCGAAC-1_Flt3l | Flt3l_AAACGAACAAGCGAAC-1 |  3 | AAACGAACAAGCGAAC-1 |  4 | Flt3l | 0    |  1 |\n",
       "| Flt3l_AAACGAACACAGCCAC-1 | Flt3l | 2854 | 2854 | 10589 | 1294 | 41 | 31 | 456 | 2764 | 6003 | ⋯ | 3722 | 2998 | AAACGAACACAGCCAC-1_Flt3l | Flt3l_AAACGAACACAGCCAC-1 |  4 | AAACGAACACAGCCAC-1 |  5 | Flt3l | 0    |  2 |\n",
       "| Flt3l_AAACGAACACAGGTAG-1 | Flt3l |  615 |  615 |  2384 |  240 | 13 |  7 | 149 |  594 | 1381 | ⋯ |  901 |  865 | AAACGAACACAGGTAG-1_Flt3l | Flt3l_AAACGAACACAGGTAG-1 |  5 | AAACGAACACAGGTAG-1 |  6 | Flt3l | 0    |  3 |\n",
       "| Flt3l_AAACGAACACAGTAGG-1 | Flt3l | 2545 | 2545 | 10019 | 1869 | 31 | 28 | 514 | 1008 | 6569 | ⋯ | 3950 | 3101 | AAACGAACACAGTAGG-1_Flt3l | Flt3l_AAACGAACACAGTAGG-1 |  6 | AAACGAACACAGTAGG-1 |  7 | Flt3l | 1    |  4 |\n",
       "| Flt3l_AAACGAACATAGAATG-1 | Flt3l |  985 |  985 |  3395 |  433 |  8 | 20 | 163 |  985 | 1786 | ⋯ | 1090 | 1005 | AAACGAACATAGAATG-1_Flt3l | Flt3l_AAACGAACATAGAATG-1 |  7 | AAACGAACATAGAATG-1 |  8 | Flt3l | 0    |  4 |\n",
       "| Flt3l_AAACGAACATGTAGAA-1 | Flt3l | 1020 | 1020 |  5086 |  708 |  5 | 21 | 243 | 1777 | 2332 | ⋯ | 1347 | 1237 | AAACGAACATGTAGAA-1_Flt3l | Flt3l_AAACGAACATGTAGAA-1 |  8 | AAACGAACATGTAGAA-1 |  9 | Flt3l | 1    |  5 |\n",
       "| Flt3l_AAACGAAGTATTCGAC-1 | Flt3l |  894 |  894 |  4999 |  553 | 16 | 17 | 197 | 1650 | 2566 | ⋯ | 1385 | 1248 | AAACGAAGTATTCGAC-1_Flt3l | Flt3l_AAACGAAGTATTCGAC-1 |  9 | AAACGAAGTATTCGAC-1 | 10 | Flt3l | 0    |  5 |\n",
       "| Flt3l_AAACGAAGTCTGATTG-1 | Flt3l | 4239 | 4239 | 15047 | 1940 | 50 | 52 | 636 | 4173 | 8196 | ⋯ | 5280 | 4119 | AAACGAAGTCTGATTG-1_Flt3l | Flt3l_AAACGAAGTCTGATTG-1 | 10 | AAACGAAGTCTGATTG-1 | 11 | Flt3l | 0    |  6 |\n",
       "| Flt3l_AAACGAATCGCTGATA-1 | Flt3l | 1521 | 1521 |  6172 | 1092 | 29 | 21 | 296 | 1178 | 3556 | ⋯ | 2029 | 1760 | AAACGAATCGCTGATA-1_Flt3l | Flt3l_AAACGAATCGCTGATA-1 | 11 | AAACGAATCGCTGATA-1 | 12 | Flt3l | 0    |  7 |\n",
       "| Flt3l_AAACGAATCTCTTAAC-1 | Flt3l | 2036 | 2036 |  6425 |  857 | 28 | 17 | 402 | 1014 | 4107 | ⋯ | 2489 | 2172 | AAACGAATCTCTTAAC-1_Flt3l | Flt3l_AAACGAATCTCTTAAC-1 | 12 | AAACGAATCTCTTAAC-1 | 13 | Flt3l | 1    |  6 |\n",
       "| Flt3l_AAACTCGAGACACAAT-1 | Flt3l | 1696 | 1696 |  7731 |  983 | 27 | 15 | 357 | 2002 | 4347 | ⋯ | 2907 | 2449 | AAACTCGAGACACAAT-1_Flt3l | Flt3l_AAACTCGAGACACAAT-1 | 13 | AAACTCGAGACACAAT-1 | 14 | Flt3l | 1    |  7 |\n",
       "| Flt3l_AAACTCGAGATGTTCC-1 | Flt3l | 1223 | 1223 |  4318 |  548 | 13 | 13 | 212 | 1050 | 2482 | ⋯ | 1596 | 1442 | AAACTCGAGATGTTCC-1_Flt3l | Flt3l_AAACTCGAGATGTTCC-1 | 14 | AAACTCGAGATGTTCC-1 | 15 | Flt3l | 0    |  8 |\n",
       "| Flt3l_AAACTCGAGGCACCTC-1 | Flt3l | 1297 | 1297 |  5305 |  620 | 23 | 15 | 256 | 1438 | 2953 | ⋯ | 1745 | 1579 | AAACTCGAGGCACCTC-1_Flt3l | Flt3l_AAACTCGAGGCACCTC-1 | 15 | AAACTCGAGGCACCTC-1 | 16 | Flt3l | 1    |  8 |\n",
       "| Flt3l_AAACTCGAGGGCTTCC-1 | Flt3l |  456 |  456 |  1794 |  349 |  6 |  7 |  89 |  310 | 1033 | ⋯ |  608 |  582 | AAACTCGAGGGCTTCC-1_Flt3l | Flt3l_AAACTCGAGGGCTTCC-1 | NA | NA                 | NA | None  | None | NA |\n",
       "| Flt3l_AAACTCGAGTACCCAT-1 | Flt3l | 1243 | 1243 |  5683 |  525 | 10 | 13 | 264 | 2370 | 2501 | ⋯ | 1601 | 1451 | AAACTCGAGTACCCAT-1_Flt3l | Flt3l_AAACTCGAGTACCCAT-1 | 16 | AAACTCGAGTACCCAT-1 | 17 | Flt3l | 1    |  9 |\n",
       "| Flt3l_AAACTCGAGTCTCCAA-1 | Flt3l | 2626 | 2626 |  9545 | 1407 | 34 | 25 | 514 | 1931 | 5634 | ⋯ | 3373 | 2791 | AAACTCGAGTCTCCAA-1_Flt3l | Flt3l_AAACTCGAGTCTCCAA-1 | 17 | AAACTCGAGTCTCCAA-1 | 18 | Flt3l | 0    |  9 |\n",
       "| Flt3l_AAACTCGAGTGCCCTG-1 | Flt3l | 1680 | 1680 |  7551 |  795 | 26 | 17 | 268 | 2681 | 3764 | ⋯ | 2326 | 2024 | AAACTCGAGTGCCCTG-1_Flt3l | Flt3l_AAACTCGAGTGCCCTG-1 | 18 | AAACTCGAGTGCCCTG-1 | 19 | Flt3l | 1    | 10 |\n",
       "| Flt3l_AAACTCGAGTGTCCCG-1 | Flt3l | 3117 | 3117 | 13840 | 1915 | 37 | 35 | 493 | 5099 | 6261 | ⋯ | 3907 | 3173 | AAACTCGAGTGTCCCG-1_Flt3l | Flt3l_AAACTCGAGTGTCCCG-1 | 19 | AAACTCGAGTGTCCCG-1 | 20 | Flt3l | None | NA |\n",
       "| Flt3l_AAACTCGCAGGACTGA-1 | Flt3l | 1924 | 1924 |  6887 |  868 | 17 | 21 | 304 | 1472 | 4205 | ⋯ | 2718 | 2334 | AAACTCGCAGGACTGA-1_Flt3l | Flt3l_AAACTCGCAGGACTGA-1 | 20 | AAACTCGCAGGACTGA-1 | 21 | Flt3l | None | NA |\n",
       "| Flt3l_AAACTCGCAGTAACGG-1 | Flt3l | 3051 | 3051 | 13634 | 1924 | 61 | 39 | 670 | 3844 | 7096 | ⋯ | 4099 | 3310 | AAACTCGCAGTAACGG-1_Flt3l | Flt3l_AAACTCGCAGTAACGG-1 | 21 | AAACTCGCAGTAACGG-1 | 22 | Flt3l | None | NA |\n",
       "| Flt3l_AAACTCGCATATACGC-1 | Flt3l | 1151 | 1151 |  5529 |  714 | 15 | 16 | 282 | 1812 | 2690 | ⋯ | 1674 | 1529 | AAACTCGCATATACGC-1_Flt3l | Flt3l_AAACTCGCATATACGC-1 | 22 | AAACTCGCATATACGC-1 | 23 | Flt3l | 1    | 11 |\n",
       "| Flt3l_AAACTCGCATCCGTGG-1 | Flt3l | 1105 | 1105 |  4086 |  578 | 20 | 14 | 234 |  904 | 2336 | ⋯ | 1418 | 1315 | AAACTCGCATCCGTGG-1_Flt3l | Flt3l_AAACTCGCATCCGTGG-1 | 23 | AAACTCGCATCCGTGG-1 | 24 | Flt3l | 0    | 10 |\n",
       "| Flt3l_AAACTCGCATTAACGC-1 | Flt3l | 1760 | 1760 |  9563 | 1644 | 46 | 24 | 704 | 1661 | 5484 | ⋯ | 3053 | 2541 | AAACTCGCATTAACGC-1_Flt3l | Flt3l_AAACTCGCATTAACGC-1 | 24 | AAACTCGCATTAACGC-1 | 25 | Flt3l | 0    | 11 |\n",
       "| Flt3l_AAACTCGGTAGGTCTT-1 | Flt3l | 2925 | 2925 | 13052 | 1674 | 43 | 26 | 526 | 4014 | 6769 | ⋯ | 4538 | 3532 | AAACTCGGTAGGTCTT-1_Flt3l | Flt3l_AAACTCGGTAGGTCTT-1 | 25 | AAACTCGGTAGGTCTT-1 | 26 | Flt3l | 1    | 12 |\n",
       "| Flt3l_AAACTCGGTATTCTCT-1 | Flt3l |  933 |  933 |  4479 |  829 | 14 | 10 | 204 | 1299 | 2123 | ⋯ | 1428 | 1308 | AAACTCGGTATTCTCT-1_Flt3l | Flt3l_AAACTCGGTATTCTCT-1 | 26 | AAACTCGGTATTCTCT-1 | 27 | Flt3l | 0    | 12 |\n",
       "| Flt3l_AAACTCGGTGAGTCGA-1 | Flt3l | 1205 | 1205 |  4638 |  518 | 21 | 16 | 271 |  947 | 2865 | ⋯ | 1654 | 1518 | AAACTCGGTGAGTCGA-1_Flt3l | Flt3l_AAACTCGGTGAGTCGA-1 | 28 | AAACTCGGTGAGTCGA-1 | 29 | Flt3l | 1    | 13 |\n",
       "| Flt3l_AAACTCGGTGCATCAT-1 | Flt3l | 1855 | 1855 |  7376 | 1065 | 24 | 19 | 349 | 1806 | 4113 | ⋯ | 2333 | 2026 | AAACTCGGTGCATCAT-1_Flt3l | Flt3l_AAACTCGGTGCATCAT-1 | 29 | AAACTCGGTGCATCAT-1 | 30 | Flt3l | 1    | 14 |\n",
       "| ⋮ | ⋮ | ⋮ | ⋮ | ⋮ | ⋮ | ⋮ | ⋮ | ⋮ | ⋮ | ⋮ | ⋱ | ⋮ | ⋮ | ⋮ | ⋮ | ⋮ | ⋮ | ⋮ | ⋮ | ⋮ | ⋮ |\n",
       "| Input_TTTGGTTCATATAGAG-1 | Input |  5470 |  5470 | 30210 |  7894 | 106 | 111 | 1110 | 11817 |  9172 | ⋯ |  5788 | 4107 | TTTGGTTCATATAGAG-1_Input | Input_TTTGGTTCATATAGAG-1 | 13376 | TTTGGTTCATATAGAG-1 | 13377 | Input | 1 | 5679 |\n",
       "| Input_TTTGGTTCATGGCCCA-1 | Input |  4172 |  4172 | 26674 |  7664 |  86 | 105 | 1105 | 10024 |  7690 | ⋯ |  4643 | 3516 | TTTGGTTCATGGCCCA-1_Input | Input_TTTGGTTCATGGCCCA-1 | 13377 | TTTGGTTCATGGCCCA-1 | 13378 | Input | 0 | 6985 |\n",
       "| Input_TTTGGTTGTTCTCGAA-1 | Input |  3596 |  3596 | 23621 |  5512 |  84 |  92 |  603 | 11441 |  5889 | ⋯ |  3586 | 2862 | TTTGGTTGTTCTCGAA-1_Input | Input_TTTGGTTGTTCTCGAA-1 | 13378 | TTTGGTTGTTCTCGAA-1 | 13379 | Input | 0 | 6986 |\n",
       "| Input_TTTGGTTTCACTCGGG-1 | Input |  5904 |  5904 | 38833 | 11548 | 149 | 160 | 1847 | 13842 | 11287 | ⋯ |  7286 | 5098 | TTTGGTTTCACTCGGG-1_Input | Input_TTTGGTTTCACTCGGG-1 | 13379 | TTTGGTTTCACTCGGG-1 | 13380 | Input | 0 | 6987 |\n",
       "| Input_TTTGGTTTCATCATGG-1 | Input |  8216 |  8216 | 38225 | 14020 | 150 | 199 | 1565 |  8097 | 14194 | ⋯ |  9417 | 5915 | TTTGGTTTCATCATGG-1_Input | Input_TTTGGTTTCATCATGG-1 | 13380 | TTTGGTTTCATCATGG-1 | 13381 | Input | 0 | 6988 |\n",
       "| Input_TTTGGTTTCCAGAATC-1 | Input |  6671 |  6671 | 36418 | 10369 | 134 | 140 | 1395 | 12229 | 12151 | ⋯ |  7315 | 5031 | TTTGGTTTCCAGAATC-1_Input | Input_TTTGGTTTCCAGAATC-1 | 13381 | TTTGGTTTCCAGAATC-1 | 13382 | Input | 1 | 5680 |\n",
       "| Input_TTTGGTTTCCAGCACG-1 | Input |  5802 |  5802 | 38276 | 10726 | 113 | 155 | 1333 | 12920 | 13029 | ⋯ |  8066 | 5160 | TTTGGTTTCCAGCACG-1_Input | Input_TTTGGTTTCCAGCACG-1 | 13382 | TTTGGTTTCCAGCACG-1 | 13383 | Input | 0 | 6989 |\n",
       "| Input_TTTGGTTTCGGGAAAC-1 | Input |  9117 |  9117 | 44036 | 15752 | 188 | 162 | 1575 |  9606 | 16753 | ⋯ | 10849 | 6289 | TTTGGTTTCGGGAAAC-1_Input | Input_TTTGGTTTCGGGAAAC-1 | 13384 | TTTGGTTTCGGGAAAC-1 | 13385 | Input | 0 | 6991 |\n",
       "| Input_TTTGGTTTCTGAGTCA-1 | Input | 11483 | 11483 | 46672 | 17946 | 189 | 182 | 1899 |  6351 | 20105 | ⋯ | 13275 | 7406 | TTTGGTTTCTGAGTCA-1_Input | Input_TTTGGTTTCTGAGTCA-1 | 13385 | TTTGGTTTCTGAGTCA-1 | 13386 | Input | 0 | 6992 |\n",
       "| Input_TTTGGTTTCTGATCCC-1 | Input |  4347 |  4347 | 23116 |  4623 | 135 |  91 |  603 | 10983 |  6681 | ⋯ |  4516 | 3301 | TTTGGTTTCTGATCCC-1_Input | Input_TTTGGTTTCTGATCCC-1 | 13386 | TTTGGTTTCTGATCCC-1 | 13387 | Input | 0 | 6993 |\n",
       "| Input_TTTGTGTAGAACCCGA-1 | Input | 10487 | 10487 | 54322 | 18751 | 185 | 269 | 1723 | 13043 | 20351 | ⋯ | 13613 | 6822 | TTTGTGTAGAACCCGA-1_Input | Input_TTTGTGTAGAACCCGA-1 | 13387 | TTTGTGTAGAACCCGA-1 | 13388 | Input | 1 | 5681 |\n",
       "| Input_TTTGTGTAGGTTGTTC-1 | Input |  3466 |  3466 | 28547 |  5288 |  99 |  92 |  593 | 16793 |  5682 | ⋯ |  3661 | 2933 | TTTGTGTAGGTTGTTC-1_Input | Input_TTTGTGTAGGTTGTTC-1 | 13388 | TTTGTGTAGGTTGTTC-1 | 13389 | Input | 1 | 5682 |\n",
       "| Input_TTTGTGTAGGTTTCTG-1 | Input |  2411 |  2411 | 15157 |  2804 |  35 |  40 |  431 |  7959 |  3888 | ⋯ |  2382 | 1951 | TTTGTGTAGGTTTCTG-1_Input | Input_TTTGTGTAGGTTTCTG-1 | 13389 | TTTGTGTAGGTTTCTG-1 | 13390 | Input | 1 | 5683 |\n",
       "| Input_TTTGTGTAGTAGACCG-1 | Input |  1597 |  1597 | 17478 |  2545 |  36 |  67 |  838 | 10895 |  3097 | ⋯ |  2156 | 1633 | TTTGTGTAGTAGACCG-1_Input | Input_TTTGTGTAGTAGACCG-1 | 13390 | TTTGTGTAGTAGACCG-1 | 13391 | Input | 1 | 5684 |\n",
       "| Input_TTTGTGTAGTTCGTTG-1 | Input |  7221 |  7221 | 47326 | 17420 | 175 | 171 | 2124 | 11394 | 16042 | ⋯ | 10200 | 5905 | TTTGTGTAGTTCGTTG-1_Input | Input_TTTGTGTAGTTCGTTG-1 | 13391 | TTTGTGTAGTTCGTTG-1 | 13392 | Input | 0 | 6994 |\n",
       "| Input_TTTGTGTCAACTCGTA-1 | Input |  5341 |  5341 | 35312 | 10401 |  97 | 156 |  985 | 14763 |  8910 | ⋯ |  5818 | 4082 | TTTGTGTCAACTCGTA-1_Input | Input_TTTGTGTCAACTCGTA-1 | 13392 | TTTGTGTCAACTCGTA-1 | 13393 | Input | 1 | 5685 |\n",
       "| Input_TTTGTGTCAAGCCAGA-1 | Input |  2635 |  2635 | 19591 |  3883 |  37 |  67 |  496 | 10265 |  4843 | ⋯ |  2945 | 2326 | TTTGTGTCAAGCCAGA-1_Input | Input_TTTGTGTCAAGCCAGA-1 | 13393 | TTTGTGTCAAGCCAGA-1 | 13394 | Input | 1 | 5686 |\n",
       "| Input_TTTGTGTCAATGACTC-1 | Input |  4430 |  4430 | 22045 |  5463 |  96 |  62 |  512 |  9370 |  6542 | ⋯ |  4643 | 3485 | TTTGTGTCAATGACTC-1_Input | Input_TTTGTGTCAATGACTC-1 | 13394 | TTTGTGTCAATGACTC-1 | 13395 | Input | 1 | 5687 |\n",
       "| Input_TTTGTGTCACACATTG-1 | Input |  2474 |  2474 | 20370 |  2166 |  49 |  76 |  272 | 14386 |  3421 | ⋯ |  2344 | 1953 | TTTGTGTCACACATTG-1_Input | Input_TTTGTGTCACACATTG-1 | 13395 | TTTGTGTCACACATTG-1 | 13396 | Input | 0 | 6995 |\n",
       "| Input_TTTGTGTCAGAAAGAG-1 | Input |  8823 |  8823 | 54991 | 15520 | 187 | 199 | 1754 | 18606 | 18725 | ⋯ | 11729 | 6171 | TTTGTGTCAGAAAGAG-1_Input | Input_TTTGTGTCAGAAAGAG-1 | 13396 | TTTGTGTCAGAAAGAG-1 | 13397 | Input | 1 | 5688 |\n",
       "| Input_TTTGTGTCATAGCCAT-1 | Input |  8963 |  8963 | 38670 | 12717 | 201 | 145 | 2007 |  7501 | 16099 | ⋯ |  9908 | 6094 | TTTGTGTCATAGCCAT-1_Input | Input_TTTGTGTCATAGCCAT-1 | 13397 | TTTGTGTCATAGCCAT-1 | 13398 | Input | 1 | 5689 |\n",
       "| Input_TTTGTGTGTAAGCCGA-1 | Input |  3558 |  3558 | 15168 |  3241 |  69 |  60 |  437 |  5996 |  5365 | ⋯ |  3719 | 2918 | TTTGTGTGTAAGCCGA-1_Input | Input_TTTGTGTGTAAGCCGA-1 | 13398 | TTTGTGTGTAAGCCGA-1 | 13399 | Input | 0 | 6996 |\n",
       "| Input_TTTGTGTGTAGATTAG-1 | Input |  2996 |  2996 | 17832 |  7612 |  54 |  78 |  632 |  3609 |  5847 | ⋯ |  3770 | 2811 | TTTGTGTGTAGATTAG-1_Input | Input_TTTGTGTGTAGATTAG-1 | 13399 | TTTGTGTGTAGATTAG-1 | 13400 | Input | 0 | 6997 |\n",
       "| Input_TTTGTGTGTAGGGTCA-1 | Input |  4527 |  4527 | 20297 |  5059 |  77 |  78 |  535 |  7531 |  7017 | ⋯ |  4695 | 3424 | TTTGTGTGTAGGGTCA-1_Input | Input_TTTGTGTGTAGGGTCA-1 | 13400 | TTTGTGTGTAGGGTCA-1 | 13401 | Input | 0 | 6998 |\n",
       "| Input_TTTGTGTGTCATAGAA-1 | Input |  7428 |  7428 | 32663 | 10594 | 153 | 131 | 1320 |  8708 | 11757 | ⋯ |  7879 | 5181 | TTTGTGTGTCATAGAA-1_Input | Input_TTTGTGTGTCATAGAA-1 | 13401 | TTTGTGTGTCATAGAA-1 | 13402 | Input | 1 | 5690 |\n",
       "| Input_TTTGTGTGTTTCTTAC-1 | Input |  3580 |  3580 | 17067 |  3257 |  63 |  80 |  461 |  8097 |  5109 | ⋯ |  3738 | 2899 | TTTGTGTGTTTCTTAC-1_Input | Input_TTTGTGTGTTTCTTAC-1 | 13402 | TTTGTGTGTTTCTTAC-1 | 13403 | Input | 0 | 6999 |\n",
       "| Input_TTTGTGTTCCTGAAAC-1 | Input |  4328 |  4328 | 30427 |  8323 |  84 |  99 |  799 | 12146 |  8976 | ⋯ |  5839 | 4144 | TTTGTGTTCCTGAAAC-1_Input | Input_TTTGTGTTCCTGAAAC-1 | 13403 | TTTGTGTTCCTGAAAC-1 | 13404 | Input | 0 | 7000 |\n",
       "| Input_TTTGTGTTCGGGAAAC-1 | Input |  8010 |  8010 | 40114 | 14032 | 169 | 160 | 1561 | 10102 | 14090 | ⋯ |  9421 | 5890 | TTTGTGTTCGGGAAAC-1_Input | Input_TTTGTGTTCGGGAAAC-1 | 13404 | TTTGTGTTCGGGAAAC-1 | 13405 | Input | 0 | 7001 |\n",
       "| Input_TTTGTGTTCGGGACAA-1 | Input |  3286 |  3286 | 22721 |  4421 |  43 |  84 |  546 | 11692 |  5935 | ⋯ |  4303 | 3323 | TTTGTGTTCGGGACAA-1_Input | Input_TTTGTGTTCGGGACAA-1 | 13405 | TTTGTGTTCGGGACAA-1 | 13406 | Input | 1 | 5691 |\n",
       "| Input_TTTGTGTTCTGGCACG-1 | Input | 11505 | 11505 | 57423 | 22063 | 263 | 235 | 2056 | 11433 | 21373 | ⋯ | 13841 | 7279 | TTTGTGTTCTGGCACG-1_Input | Input_TTTGTGTTCTGGCACG-1 | 13406 | TTTGTGTTCTGGCACG-1 | 13407 | Input | 0 | 7002 |\n",
       "\n"
      ],
      "text/plain": [
       "                         orig.ident nCount_ATAC nFeature_ATAC total duplicate\n",
       "Flt3l_AAACGAAAGGAGACTC-1 Flt3l       531         531           2286  298     \n",
       "Flt3l_AAACGAAAGTCACGCC-1 Flt3l      1222        1222           4711  555     \n",
       "Flt3l_AAACGAACAAGACTAA-1 Flt3l      2225        2225           9178 1509     \n",
       "Flt3l_AAACGAACAAGCGAAC-1 Flt3l      2271        2271           8825 1544     \n",
       "Flt3l_AAACGAACACAGCCAC-1 Flt3l      2854        2854          10589 1294     \n",
       "Flt3l_AAACGAACACAGGTAG-1 Flt3l       615         615           2384  240     \n",
       "Flt3l_AAACGAACACAGTAGG-1 Flt3l      2545        2545          10019 1869     \n",
       "Flt3l_AAACGAACATAGAATG-1 Flt3l       985         985           3395  433     \n",
       "Flt3l_AAACGAACATGTAGAA-1 Flt3l      1020        1020           5086  708     \n",
       "Flt3l_AAACGAAGTATTCGAC-1 Flt3l       894         894           4999  553     \n",
       "Flt3l_AAACGAAGTCTGATTG-1 Flt3l      4239        4239          15047 1940     \n",
       "Flt3l_AAACGAATCGCTGATA-1 Flt3l      1521        1521           6172 1092     \n",
       "Flt3l_AAACGAATCTCTTAAC-1 Flt3l      2036        2036           6425  857     \n",
       "Flt3l_AAACTCGAGACACAAT-1 Flt3l      1696        1696           7731  983     \n",
       "Flt3l_AAACTCGAGATGTTCC-1 Flt3l      1223        1223           4318  548     \n",
       "Flt3l_AAACTCGAGGCACCTC-1 Flt3l      1297        1297           5305  620     \n",
       "Flt3l_AAACTCGAGGGCTTCC-1 Flt3l       456         456           1794  349     \n",
       "Flt3l_AAACTCGAGTACCCAT-1 Flt3l      1243        1243           5683  525     \n",
       "Flt3l_AAACTCGAGTCTCCAA-1 Flt3l      2626        2626           9545 1407     \n",
       "Flt3l_AAACTCGAGTGCCCTG-1 Flt3l      1680        1680           7551  795     \n",
       "Flt3l_AAACTCGAGTGTCCCG-1 Flt3l      3117        3117          13840 1915     \n",
       "Flt3l_AAACTCGCAGGACTGA-1 Flt3l      1924        1924           6887  868     \n",
       "Flt3l_AAACTCGCAGTAACGG-1 Flt3l      3051        3051          13634 1924     \n",
       "Flt3l_AAACTCGCATATACGC-1 Flt3l      1151        1151           5529  714     \n",
       "Flt3l_AAACTCGCATCCGTGG-1 Flt3l      1105        1105           4086  578     \n",
       "Flt3l_AAACTCGCATTAACGC-1 Flt3l      1760        1760           9563 1644     \n",
       "Flt3l_AAACTCGGTAGGTCTT-1 Flt3l      2925        2925          13052 1674     \n",
       "Flt3l_AAACTCGGTATTCTCT-1 Flt3l       933         933           4479  829     \n",
       "Flt3l_AAACTCGGTGAGTCGA-1 Flt3l      1205        1205           4638  518     \n",
       "Flt3l_AAACTCGGTGCATCAT-1 Flt3l      1855        1855           7376 1065     \n",
       "⋮                        ⋮          ⋮           ⋮             ⋮     ⋮        \n",
       "Input_TTTGGTTCATATAGAG-1 Input       5470        5470         30210  7894    \n",
       "Input_TTTGGTTCATGGCCCA-1 Input       4172        4172         26674  7664    \n",
       "Input_TTTGGTTGTTCTCGAA-1 Input       3596        3596         23621  5512    \n",
       "Input_TTTGGTTTCACTCGGG-1 Input       5904        5904         38833 11548    \n",
       "Input_TTTGGTTTCATCATGG-1 Input       8216        8216         38225 14020    \n",
       "Input_TTTGGTTTCCAGAATC-1 Input       6671        6671         36418 10369    \n",
       "Input_TTTGGTTTCCAGCACG-1 Input       5802        5802         38276 10726    \n",
       "Input_TTTGGTTTCGGGAAAC-1 Input       9117        9117         44036 15752    \n",
       "Input_TTTGGTTTCTGAGTCA-1 Input      11483       11483         46672 17946    \n",
       "Input_TTTGGTTTCTGATCCC-1 Input       4347        4347         23116  4623    \n",
       "Input_TTTGTGTAGAACCCGA-1 Input      10487       10487         54322 18751    \n",
       "Input_TTTGTGTAGGTTGTTC-1 Input       3466        3466         28547  5288    \n",
       "Input_TTTGTGTAGGTTTCTG-1 Input       2411        2411         15157  2804    \n",
       "Input_TTTGTGTAGTAGACCG-1 Input       1597        1597         17478  2545    \n",
       "Input_TTTGTGTAGTTCGTTG-1 Input       7221        7221         47326 17420    \n",
       "Input_TTTGTGTCAACTCGTA-1 Input       5341        5341         35312 10401    \n",
       "Input_TTTGTGTCAAGCCAGA-1 Input       2635        2635         19591  3883    \n",
       "Input_TTTGTGTCAATGACTC-1 Input       4430        4430         22045  5463    \n",
       "Input_TTTGTGTCACACATTG-1 Input       2474        2474         20370  2166    \n",
       "Input_TTTGTGTCAGAAAGAG-1 Input       8823        8823         54991 15520    \n",
       "Input_TTTGTGTCATAGCCAT-1 Input       8963        8963         38670 12717    \n",
       "Input_TTTGTGTGTAAGCCGA-1 Input       3558        3558         15168  3241    \n",
       "Input_TTTGTGTGTAGATTAG-1 Input       2996        2996         17832  7612    \n",
       "Input_TTTGTGTGTAGGGTCA-1 Input       4527        4527         20297  5059    \n",
       "Input_TTTGTGTGTCATAGAA-1 Input       7428        7428         32663 10594    \n",
       "Input_TTTGTGTGTTTCTTAC-1 Input       3580        3580         17067  3257    \n",
       "Input_TTTGTGTTCCTGAAAC-1 Input       4328        4328         30427  8323    \n",
       "Input_TTTGTGTTCGGGAAAC-1 Input       8010        8010         40114 14032    \n",
       "Input_TTTGTGTTCGGGACAA-1 Input       3286        3286         22721  4421    \n",
       "Input_TTTGTGTTCTGGCACG-1 Input      11505       11505         57423 22063    \n",
       "                         chimeric unmapped lowmapq mitochondrial passed_filters\n",
       "Flt3l_AAACGAAAGGAGACTC-1  7        7       124      749          1101          \n",
       "Flt3l_AAACGAAAGTCACGCC-1 16       12       289      853          2986          \n",
       "Flt3l_AAACGAACAAGACTAA-1 37       19       585     1339          5689          \n",
       "Flt3l_AAACGAACAAGCGAAC-1 24       24       535     1308          5390          \n",
       "Flt3l_AAACGAACACAGCCAC-1 41       31       456     2764          6003          \n",
       "Flt3l_AAACGAACACAGGTAG-1 13        7       149      594          1381          \n",
       "Flt3l_AAACGAACACAGTAGG-1 31       28       514     1008          6569          \n",
       "Flt3l_AAACGAACATAGAATG-1  8       20       163      985          1786          \n",
       "Flt3l_AAACGAACATGTAGAA-1  5       21       243     1777          2332          \n",
       "Flt3l_AAACGAAGTATTCGAC-1 16       17       197     1650          2566          \n",
       "Flt3l_AAACGAAGTCTGATTG-1 50       52       636     4173          8196          \n",
       "Flt3l_AAACGAATCGCTGATA-1 29       21       296     1178          3556          \n",
       "Flt3l_AAACGAATCTCTTAAC-1 28       17       402     1014          4107          \n",
       "Flt3l_AAACTCGAGACACAAT-1 27       15       357     2002          4347          \n",
       "Flt3l_AAACTCGAGATGTTCC-1 13       13       212     1050          2482          \n",
       "Flt3l_AAACTCGAGGCACCTC-1 23       15       256     1438          2953          \n",
       "Flt3l_AAACTCGAGGGCTTCC-1  6        7        89      310          1033          \n",
       "Flt3l_AAACTCGAGTACCCAT-1 10       13       264     2370          2501          \n",
       "Flt3l_AAACTCGAGTCTCCAA-1 34       25       514     1931          5634          \n",
       "Flt3l_AAACTCGAGTGCCCTG-1 26       17       268     2681          3764          \n",
       "Flt3l_AAACTCGAGTGTCCCG-1 37       35       493     5099          6261          \n",
       "Flt3l_AAACTCGCAGGACTGA-1 17       21       304     1472          4205          \n",
       "Flt3l_AAACTCGCAGTAACGG-1 61       39       670     3844          7096          \n",
       "Flt3l_AAACTCGCATATACGC-1 15       16       282     1812          2690          \n",
       "Flt3l_AAACTCGCATCCGTGG-1 20       14       234      904          2336          \n",
       "Flt3l_AAACTCGCATTAACGC-1 46       24       704     1661          5484          \n",
       "Flt3l_AAACTCGGTAGGTCTT-1 43       26       526     4014          6769          \n",
       "Flt3l_AAACTCGGTATTCTCT-1 14       10       204     1299          2123          \n",
       "Flt3l_AAACTCGGTGAGTCGA-1 21       16       271      947          2865          \n",
       "Flt3l_AAACTCGGTGCATCAT-1 24       19       349     1806          4113          \n",
       "⋮                        ⋮        ⋮        ⋮       ⋮             ⋮             \n",
       "Input_TTTGGTTCATATAGAG-1 106      111      1110    11817          9172         \n",
       "Input_TTTGGTTCATGGCCCA-1  86      105      1105    10024          7690         \n",
       "Input_TTTGGTTGTTCTCGAA-1  84       92       603    11441          5889         \n",
       "Input_TTTGGTTTCACTCGGG-1 149      160      1847    13842         11287         \n",
       "Input_TTTGGTTTCATCATGG-1 150      199      1565     8097         14194         \n",
       "Input_TTTGGTTTCCAGAATC-1 134      140      1395    12229         12151         \n",
       "Input_TTTGGTTTCCAGCACG-1 113      155      1333    12920         13029         \n",
       "Input_TTTGGTTTCGGGAAAC-1 188      162      1575     9606         16753         \n",
       "Input_TTTGGTTTCTGAGTCA-1 189      182      1899     6351         20105         \n",
       "Input_TTTGGTTTCTGATCCC-1 135       91       603    10983          6681         \n",
       "Input_TTTGTGTAGAACCCGA-1 185      269      1723    13043         20351         \n",
       "Input_TTTGTGTAGGTTGTTC-1  99       92       593    16793          5682         \n",
       "Input_TTTGTGTAGGTTTCTG-1  35       40       431     7959          3888         \n",
       "Input_TTTGTGTAGTAGACCG-1  36       67       838    10895          3097         \n",
       "Input_TTTGTGTAGTTCGTTG-1 175      171      2124    11394         16042         \n",
       "Input_TTTGTGTCAACTCGTA-1  97      156       985    14763          8910         \n",
       "Input_TTTGTGTCAAGCCAGA-1  37       67       496    10265          4843         \n",
       "Input_TTTGTGTCAATGACTC-1  96       62       512     9370          6542         \n",
       "Input_TTTGTGTCACACATTG-1  49       76       272    14386          3421         \n",
       "Input_TTTGTGTCAGAAAGAG-1 187      199      1754    18606         18725         \n",
       "Input_TTTGTGTCATAGCCAT-1 201      145      2007     7501         16099         \n",
       "Input_TTTGTGTGTAAGCCGA-1  69       60       437     5996          5365         \n",
       "Input_TTTGTGTGTAGATTAG-1  54       78       632     3609          5847         \n",
       "Input_TTTGTGTGTAGGGTCA-1  77       78       535     7531          7017         \n",
       "Input_TTTGTGTGTCATAGAA-1 153      131      1320     8708         11757         \n",
       "Input_TTTGTGTGTTTCTTAC-1  63       80       461     8097          5109         \n",
       "Input_TTTGTGTTCCTGAAAC-1  84       99       799    12146          8976         \n",
       "Input_TTTGTGTTCGGGAAAC-1 169      160      1561    10102         14090         \n",
       "Input_TTTGTGTTCGGGACAA-1  43       84       546    11692          5935         \n",
       "Input_TTTGTGTTCTGGCACG-1 263      235      2056    11433         21373         \n",
       "                         ⋯ nCount_RNA nFeature_RNA ID                      \n",
       "Flt3l_AAACGAAAGGAGACTC-1 ⋯  649        621         AAACGAAAGGAGACTC-1_Flt3l\n",
       "Flt3l_AAACGAAAGTCACGCC-1 ⋯ 1674       1502         AAACGAAAGTCACGCC-1_Flt3l\n",
       "Flt3l_AAACGAACAAGACTAA-1 ⋯ 3369       2695         AAACGAACAAGACTAA-1_Flt3l\n",
       "Flt3l_AAACGAACAAGCGAAC-1 ⋯ 3360       2784         AAACGAACAAGCGAAC-1_Flt3l\n",
       "Flt3l_AAACGAACACAGCCAC-1 ⋯ 3722       2998         AAACGAACACAGCCAC-1_Flt3l\n",
       "Flt3l_AAACGAACACAGGTAG-1 ⋯  901        865         AAACGAACACAGGTAG-1_Flt3l\n",
       "Flt3l_AAACGAACACAGTAGG-1 ⋯ 3950       3101         AAACGAACACAGTAGG-1_Flt3l\n",
       "Flt3l_AAACGAACATAGAATG-1 ⋯ 1090       1005         AAACGAACATAGAATG-1_Flt3l\n",
       "Flt3l_AAACGAACATGTAGAA-1 ⋯ 1347       1237         AAACGAACATGTAGAA-1_Flt3l\n",
       "Flt3l_AAACGAAGTATTCGAC-1 ⋯ 1385       1248         AAACGAAGTATTCGAC-1_Flt3l\n",
       "Flt3l_AAACGAAGTCTGATTG-1 ⋯ 5280       4119         AAACGAAGTCTGATTG-1_Flt3l\n",
       "Flt3l_AAACGAATCGCTGATA-1 ⋯ 2029       1760         AAACGAATCGCTGATA-1_Flt3l\n",
       "Flt3l_AAACGAATCTCTTAAC-1 ⋯ 2489       2172         AAACGAATCTCTTAAC-1_Flt3l\n",
       "Flt3l_AAACTCGAGACACAAT-1 ⋯ 2907       2449         AAACTCGAGACACAAT-1_Flt3l\n",
       "Flt3l_AAACTCGAGATGTTCC-1 ⋯ 1596       1442         AAACTCGAGATGTTCC-1_Flt3l\n",
       "Flt3l_AAACTCGAGGCACCTC-1 ⋯ 1745       1579         AAACTCGAGGCACCTC-1_Flt3l\n",
       "Flt3l_AAACTCGAGGGCTTCC-1 ⋯  608        582         AAACTCGAGGGCTTCC-1_Flt3l\n",
       "Flt3l_AAACTCGAGTACCCAT-1 ⋯ 1601       1451         AAACTCGAGTACCCAT-1_Flt3l\n",
       "Flt3l_AAACTCGAGTCTCCAA-1 ⋯ 3373       2791         AAACTCGAGTCTCCAA-1_Flt3l\n",
       "Flt3l_AAACTCGAGTGCCCTG-1 ⋯ 2326       2024         AAACTCGAGTGCCCTG-1_Flt3l\n",
       "Flt3l_AAACTCGAGTGTCCCG-1 ⋯ 3907       3173         AAACTCGAGTGTCCCG-1_Flt3l\n",
       "Flt3l_AAACTCGCAGGACTGA-1 ⋯ 2718       2334         AAACTCGCAGGACTGA-1_Flt3l\n",
       "Flt3l_AAACTCGCAGTAACGG-1 ⋯ 4099       3310         AAACTCGCAGTAACGG-1_Flt3l\n",
       "Flt3l_AAACTCGCATATACGC-1 ⋯ 1674       1529         AAACTCGCATATACGC-1_Flt3l\n",
       "Flt3l_AAACTCGCATCCGTGG-1 ⋯ 1418       1315         AAACTCGCATCCGTGG-1_Flt3l\n",
       "Flt3l_AAACTCGCATTAACGC-1 ⋯ 3053       2541         AAACTCGCATTAACGC-1_Flt3l\n",
       "Flt3l_AAACTCGGTAGGTCTT-1 ⋯ 4538       3532         AAACTCGGTAGGTCTT-1_Flt3l\n",
       "Flt3l_AAACTCGGTATTCTCT-1 ⋯ 1428       1308         AAACTCGGTATTCTCT-1_Flt3l\n",
       "Flt3l_AAACTCGGTGAGTCGA-1 ⋯ 1654       1518         AAACTCGGTGAGTCGA-1_Flt3l\n",
       "Flt3l_AAACTCGGTGCATCAT-1 ⋯ 2333       2026         AAACTCGGTGCATCAT-1_Flt3l\n",
       "⋮                        ⋱ ⋮          ⋮            ⋮                       \n",
       "Input_TTTGGTTCATATAGAG-1 ⋯  5788      4107         TTTGGTTCATATAGAG-1_Input\n",
       "Input_TTTGGTTCATGGCCCA-1 ⋯  4643      3516         TTTGGTTCATGGCCCA-1_Input\n",
       "Input_TTTGGTTGTTCTCGAA-1 ⋯  3586      2862         TTTGGTTGTTCTCGAA-1_Input\n",
       "Input_TTTGGTTTCACTCGGG-1 ⋯  7286      5098         TTTGGTTTCACTCGGG-1_Input\n",
       "Input_TTTGGTTTCATCATGG-1 ⋯  9417      5915         TTTGGTTTCATCATGG-1_Input\n",
       "Input_TTTGGTTTCCAGAATC-1 ⋯  7315      5031         TTTGGTTTCCAGAATC-1_Input\n",
       "Input_TTTGGTTTCCAGCACG-1 ⋯  8066      5160         TTTGGTTTCCAGCACG-1_Input\n",
       "Input_TTTGGTTTCGGGAAAC-1 ⋯ 10849      6289         TTTGGTTTCGGGAAAC-1_Input\n",
       "Input_TTTGGTTTCTGAGTCA-1 ⋯ 13275      7406         TTTGGTTTCTGAGTCA-1_Input\n",
       "Input_TTTGGTTTCTGATCCC-1 ⋯  4516      3301         TTTGGTTTCTGATCCC-1_Input\n",
       "Input_TTTGTGTAGAACCCGA-1 ⋯ 13613      6822         TTTGTGTAGAACCCGA-1_Input\n",
       "Input_TTTGTGTAGGTTGTTC-1 ⋯  3661      2933         TTTGTGTAGGTTGTTC-1_Input\n",
       "Input_TTTGTGTAGGTTTCTG-1 ⋯  2382      1951         TTTGTGTAGGTTTCTG-1_Input\n",
       "Input_TTTGTGTAGTAGACCG-1 ⋯  2156      1633         TTTGTGTAGTAGACCG-1_Input\n",
       "Input_TTTGTGTAGTTCGTTG-1 ⋯ 10200      5905         TTTGTGTAGTTCGTTG-1_Input\n",
       "Input_TTTGTGTCAACTCGTA-1 ⋯  5818      4082         TTTGTGTCAACTCGTA-1_Input\n",
       "Input_TTTGTGTCAAGCCAGA-1 ⋯  2945      2326         TTTGTGTCAAGCCAGA-1_Input\n",
       "Input_TTTGTGTCAATGACTC-1 ⋯  4643      3485         TTTGTGTCAATGACTC-1_Input\n",
       "Input_TTTGTGTCACACATTG-1 ⋯  2344      1953         TTTGTGTCACACATTG-1_Input\n",
       "Input_TTTGTGTCAGAAAGAG-1 ⋯ 11729      6171         TTTGTGTCAGAAAGAG-1_Input\n",
       "Input_TTTGTGTCATAGCCAT-1 ⋯  9908      6094         TTTGTGTCATAGCCAT-1_Input\n",
       "Input_TTTGTGTGTAAGCCGA-1 ⋯  3719      2918         TTTGTGTGTAAGCCGA-1_Input\n",
       "Input_TTTGTGTGTAGATTAG-1 ⋯  3770      2811         TTTGTGTGTAGATTAG-1_Input\n",
       "Input_TTTGTGTGTAGGGTCA-1 ⋯  4695      3424         TTTGTGTGTAGGGTCA-1_Input\n",
       "Input_TTTGTGTGTCATAGAA-1 ⋯  7879      5181         TTTGTGTGTCATAGAA-1_Input\n",
       "Input_TTTGTGTGTTTCTTAC-1 ⋯  3738      2899         TTTGTGTGTTTCTTAC-1_Input\n",
       "Input_TTTGTGTTCCTGAAAC-1 ⋯  5839      4144         TTTGTGTTCCTGAAAC-1_Input\n",
       "Input_TTTGTGTTCGGGAAAC-1 ⋯  9421      5890         TTTGTGTTCGGGAAAC-1_Input\n",
       "Input_TTTGTGTTCGGGACAA-1 ⋯  4303      3323         TTTGTGTTCGGGACAA-1_Input\n",
       "Input_TTTGTGTTCTGGCACG-1 ⋯ 13841      7279         TTTGTGTTCTGGCACG-1_Input\n",
       "                         Row.names                index raw.ID            \n",
       "Flt3l_AAACGAAAGGAGACTC-1 Flt3l_AAACGAAAGGAGACTC-1  0    AAACGAAAGGAGACTC-1\n",
       "Flt3l_AAACGAAAGTCACGCC-1 Flt3l_AAACGAAAGTCACGCC-1  1    AAACGAAAGTCACGCC-1\n",
       "Flt3l_AAACGAACAAGACTAA-1 Flt3l_AAACGAACAAGACTAA-1  2    AAACGAACAAGACTAA-1\n",
       "Flt3l_AAACGAACAAGCGAAC-1 Flt3l_AAACGAACAAGCGAAC-1  3    AAACGAACAAGCGAAC-1\n",
       "Flt3l_AAACGAACACAGCCAC-1 Flt3l_AAACGAACACAGCCAC-1  4    AAACGAACACAGCCAC-1\n",
       "Flt3l_AAACGAACACAGGTAG-1 Flt3l_AAACGAACACAGGTAG-1  5    AAACGAACACAGGTAG-1\n",
       "Flt3l_AAACGAACACAGTAGG-1 Flt3l_AAACGAACACAGTAGG-1  6    AAACGAACACAGTAGG-1\n",
       "Flt3l_AAACGAACATAGAATG-1 Flt3l_AAACGAACATAGAATG-1  7    AAACGAACATAGAATG-1\n",
       "Flt3l_AAACGAACATGTAGAA-1 Flt3l_AAACGAACATGTAGAA-1  8    AAACGAACATGTAGAA-1\n",
       "Flt3l_AAACGAAGTATTCGAC-1 Flt3l_AAACGAAGTATTCGAC-1  9    AAACGAAGTATTCGAC-1\n",
       "Flt3l_AAACGAAGTCTGATTG-1 Flt3l_AAACGAAGTCTGATTG-1 10    AAACGAAGTCTGATTG-1\n",
       "Flt3l_AAACGAATCGCTGATA-1 Flt3l_AAACGAATCGCTGATA-1 11    AAACGAATCGCTGATA-1\n",
       "Flt3l_AAACGAATCTCTTAAC-1 Flt3l_AAACGAATCTCTTAAC-1 12    AAACGAATCTCTTAAC-1\n",
       "Flt3l_AAACTCGAGACACAAT-1 Flt3l_AAACTCGAGACACAAT-1 13    AAACTCGAGACACAAT-1\n",
       "Flt3l_AAACTCGAGATGTTCC-1 Flt3l_AAACTCGAGATGTTCC-1 14    AAACTCGAGATGTTCC-1\n",
       "Flt3l_AAACTCGAGGCACCTC-1 Flt3l_AAACTCGAGGCACCTC-1 15    AAACTCGAGGCACCTC-1\n",
       "Flt3l_AAACTCGAGGGCTTCC-1 Flt3l_AAACTCGAGGGCTTCC-1 NA    NA                \n",
       "Flt3l_AAACTCGAGTACCCAT-1 Flt3l_AAACTCGAGTACCCAT-1 16    AAACTCGAGTACCCAT-1\n",
       "Flt3l_AAACTCGAGTCTCCAA-1 Flt3l_AAACTCGAGTCTCCAA-1 17    AAACTCGAGTCTCCAA-1\n",
       "Flt3l_AAACTCGAGTGCCCTG-1 Flt3l_AAACTCGAGTGCCCTG-1 18    AAACTCGAGTGCCCTG-1\n",
       "Flt3l_AAACTCGAGTGTCCCG-1 Flt3l_AAACTCGAGTGTCCCG-1 19    AAACTCGAGTGTCCCG-1\n",
       "Flt3l_AAACTCGCAGGACTGA-1 Flt3l_AAACTCGCAGGACTGA-1 20    AAACTCGCAGGACTGA-1\n",
       "Flt3l_AAACTCGCAGTAACGG-1 Flt3l_AAACTCGCAGTAACGG-1 21    AAACTCGCAGTAACGG-1\n",
       "Flt3l_AAACTCGCATATACGC-1 Flt3l_AAACTCGCATATACGC-1 22    AAACTCGCATATACGC-1\n",
       "Flt3l_AAACTCGCATCCGTGG-1 Flt3l_AAACTCGCATCCGTGG-1 23    AAACTCGCATCCGTGG-1\n",
       "Flt3l_AAACTCGCATTAACGC-1 Flt3l_AAACTCGCATTAACGC-1 24    AAACTCGCATTAACGC-1\n",
       "Flt3l_AAACTCGGTAGGTCTT-1 Flt3l_AAACTCGGTAGGTCTT-1 25    AAACTCGGTAGGTCTT-1\n",
       "Flt3l_AAACTCGGTATTCTCT-1 Flt3l_AAACTCGGTATTCTCT-1 26    AAACTCGGTATTCTCT-1\n",
       "Flt3l_AAACTCGGTGAGTCGA-1 Flt3l_AAACTCGGTGAGTCGA-1 28    AAACTCGGTGAGTCGA-1\n",
       "Flt3l_AAACTCGGTGCATCAT-1 Flt3l_AAACTCGGTGCATCAT-1 29    AAACTCGGTGCATCAT-1\n",
       "⋮                        ⋮                        ⋮     ⋮                 \n",
       "Input_TTTGGTTCATATAGAG-1 Input_TTTGGTTCATATAGAG-1 13376 TTTGGTTCATATAGAG-1\n",
       "Input_TTTGGTTCATGGCCCA-1 Input_TTTGGTTCATGGCCCA-1 13377 TTTGGTTCATGGCCCA-1\n",
       "Input_TTTGGTTGTTCTCGAA-1 Input_TTTGGTTGTTCTCGAA-1 13378 TTTGGTTGTTCTCGAA-1\n",
       "Input_TTTGGTTTCACTCGGG-1 Input_TTTGGTTTCACTCGGG-1 13379 TTTGGTTTCACTCGGG-1\n",
       "Input_TTTGGTTTCATCATGG-1 Input_TTTGGTTTCATCATGG-1 13380 TTTGGTTTCATCATGG-1\n",
       "Input_TTTGGTTTCCAGAATC-1 Input_TTTGGTTTCCAGAATC-1 13381 TTTGGTTTCCAGAATC-1\n",
       "Input_TTTGGTTTCCAGCACG-1 Input_TTTGGTTTCCAGCACG-1 13382 TTTGGTTTCCAGCACG-1\n",
       "Input_TTTGGTTTCGGGAAAC-1 Input_TTTGGTTTCGGGAAAC-1 13384 TTTGGTTTCGGGAAAC-1\n",
       "Input_TTTGGTTTCTGAGTCA-1 Input_TTTGGTTTCTGAGTCA-1 13385 TTTGGTTTCTGAGTCA-1\n",
       "Input_TTTGGTTTCTGATCCC-1 Input_TTTGGTTTCTGATCCC-1 13386 TTTGGTTTCTGATCCC-1\n",
       "Input_TTTGTGTAGAACCCGA-1 Input_TTTGTGTAGAACCCGA-1 13387 TTTGTGTAGAACCCGA-1\n",
       "Input_TTTGTGTAGGTTGTTC-1 Input_TTTGTGTAGGTTGTTC-1 13388 TTTGTGTAGGTTGTTC-1\n",
       "Input_TTTGTGTAGGTTTCTG-1 Input_TTTGTGTAGGTTTCTG-1 13389 TTTGTGTAGGTTTCTG-1\n",
       "Input_TTTGTGTAGTAGACCG-1 Input_TTTGTGTAGTAGACCG-1 13390 TTTGTGTAGTAGACCG-1\n",
       "Input_TTTGTGTAGTTCGTTG-1 Input_TTTGTGTAGTTCGTTG-1 13391 TTTGTGTAGTTCGTTG-1\n",
       "Input_TTTGTGTCAACTCGTA-1 Input_TTTGTGTCAACTCGTA-1 13392 TTTGTGTCAACTCGTA-1\n",
       "Input_TTTGTGTCAAGCCAGA-1 Input_TTTGTGTCAAGCCAGA-1 13393 TTTGTGTCAAGCCAGA-1\n",
       "Input_TTTGTGTCAATGACTC-1 Input_TTTGTGTCAATGACTC-1 13394 TTTGTGTCAATGACTC-1\n",
       "Input_TTTGTGTCACACATTG-1 Input_TTTGTGTCACACATTG-1 13395 TTTGTGTCACACATTG-1\n",
       "Input_TTTGTGTCAGAAAGAG-1 Input_TTTGTGTCAGAAAGAG-1 13396 TTTGTGTCAGAAAGAG-1\n",
       "Input_TTTGTGTCATAGCCAT-1 Input_TTTGTGTCATAGCCAT-1 13397 TTTGTGTCATAGCCAT-1\n",
       "Input_TTTGTGTGTAAGCCGA-1 Input_TTTGTGTGTAAGCCGA-1 13398 TTTGTGTGTAAGCCGA-1\n",
       "Input_TTTGTGTGTAGATTAG-1 Input_TTTGTGTGTAGATTAG-1 13399 TTTGTGTGTAGATTAG-1\n",
       "Input_TTTGTGTGTAGGGTCA-1 Input_TTTGTGTGTAGGGTCA-1 13400 TTTGTGTGTAGGGTCA-1\n",
       "Input_TTTGTGTGTCATAGAA-1 Input_TTTGTGTGTCATAGAA-1 13401 TTTGTGTGTCATAGAA-1\n",
       "Input_TTTGTGTGTTTCTTAC-1 Input_TTTGTGTGTTTCTTAC-1 13402 TTTGTGTGTTTCTTAC-1\n",
       "Input_TTTGTGTTCCTGAAAC-1 Input_TTTGTGTTCCTGAAAC-1 13403 TTTGTGTTCCTGAAAC-1\n",
       "Input_TTTGTGTTCGGGAAAC-1 Input_TTTGTGTTCGGGAAAC-1 13404 TTTGTGTTCGGGAAAC-1\n",
       "Input_TTTGTGTTCGGGACAA-1 Input_TTTGTGTTCGGGACAA-1 13405 TTTGTGTTCGGGACAA-1\n",
       "Input_TTTGTGTTCTGGCACG-1 Input_TTTGTGTTCTGGCACG-1 13406 TTTGTGTTCTGGCACG-1\n",
       "                         new.index condition donor donor_index\n",
       "Flt3l_AAACGAAAGGAGACTC-1  1        Flt3l     1      1         \n",
       "Flt3l_AAACGAAAGTCACGCC-1  2        Flt3l     1      2         \n",
       "Flt3l_AAACGAACAAGACTAA-1  3        Flt3l     1      3         \n",
       "Flt3l_AAACGAACAAGCGAAC-1  4        Flt3l     0      1         \n",
       "Flt3l_AAACGAACACAGCCAC-1  5        Flt3l     0      2         \n",
       "Flt3l_AAACGAACACAGGTAG-1  6        Flt3l     0      3         \n",
       "Flt3l_AAACGAACACAGTAGG-1  7        Flt3l     1      4         \n",
       "Flt3l_AAACGAACATAGAATG-1  8        Flt3l     0      4         \n",
       "Flt3l_AAACGAACATGTAGAA-1  9        Flt3l     1      5         \n",
       "Flt3l_AAACGAAGTATTCGAC-1 10        Flt3l     0      5         \n",
       "Flt3l_AAACGAAGTCTGATTG-1 11        Flt3l     0      6         \n",
       "Flt3l_AAACGAATCGCTGATA-1 12        Flt3l     0      7         \n",
       "Flt3l_AAACGAATCTCTTAAC-1 13        Flt3l     1      6         \n",
       "Flt3l_AAACTCGAGACACAAT-1 14        Flt3l     1      7         \n",
       "Flt3l_AAACTCGAGATGTTCC-1 15        Flt3l     0      8         \n",
       "Flt3l_AAACTCGAGGCACCTC-1 16        Flt3l     1      8         \n",
       "Flt3l_AAACTCGAGGGCTTCC-1 NA        None      None  NA         \n",
       "Flt3l_AAACTCGAGTACCCAT-1 17        Flt3l     1      9         \n",
       "Flt3l_AAACTCGAGTCTCCAA-1 18        Flt3l     0      9         \n",
       "Flt3l_AAACTCGAGTGCCCTG-1 19        Flt3l     1     10         \n",
       "Flt3l_AAACTCGAGTGTCCCG-1 20        Flt3l     None  NA         \n",
       "Flt3l_AAACTCGCAGGACTGA-1 21        Flt3l     None  NA         \n",
       "Flt3l_AAACTCGCAGTAACGG-1 22        Flt3l     None  NA         \n",
       "Flt3l_AAACTCGCATATACGC-1 23        Flt3l     1     11         \n",
       "Flt3l_AAACTCGCATCCGTGG-1 24        Flt3l     0     10         \n",
       "Flt3l_AAACTCGCATTAACGC-1 25        Flt3l     0     11         \n",
       "Flt3l_AAACTCGGTAGGTCTT-1 26        Flt3l     1     12         \n",
       "Flt3l_AAACTCGGTATTCTCT-1 27        Flt3l     0     12         \n",
       "Flt3l_AAACTCGGTGAGTCGA-1 29        Flt3l     1     13         \n",
       "Flt3l_AAACTCGGTGCATCAT-1 30        Flt3l     1     14         \n",
       "⋮                        ⋮         ⋮         ⋮     ⋮          \n",
       "Input_TTTGGTTCATATAGAG-1 13377     Input     1     5679       \n",
       "Input_TTTGGTTCATGGCCCA-1 13378     Input     0     6985       \n",
       "Input_TTTGGTTGTTCTCGAA-1 13379     Input     0     6986       \n",
       "Input_TTTGGTTTCACTCGGG-1 13380     Input     0     6987       \n",
       "Input_TTTGGTTTCATCATGG-1 13381     Input     0     6988       \n",
       "Input_TTTGGTTTCCAGAATC-1 13382     Input     1     5680       \n",
       "Input_TTTGGTTTCCAGCACG-1 13383     Input     0     6989       \n",
       "Input_TTTGGTTTCGGGAAAC-1 13385     Input     0     6991       \n",
       "Input_TTTGGTTTCTGAGTCA-1 13386     Input     0     6992       \n",
       "Input_TTTGGTTTCTGATCCC-1 13387     Input     0     6993       \n",
       "Input_TTTGTGTAGAACCCGA-1 13388     Input     1     5681       \n",
       "Input_TTTGTGTAGGTTGTTC-1 13389     Input     1     5682       \n",
       "Input_TTTGTGTAGGTTTCTG-1 13390     Input     1     5683       \n",
       "Input_TTTGTGTAGTAGACCG-1 13391     Input     1     5684       \n",
       "Input_TTTGTGTAGTTCGTTG-1 13392     Input     0     6994       \n",
       "Input_TTTGTGTCAACTCGTA-1 13393     Input     1     5685       \n",
       "Input_TTTGTGTCAAGCCAGA-1 13394     Input     1     5686       \n",
       "Input_TTTGTGTCAATGACTC-1 13395     Input     1     5687       \n",
       "Input_TTTGTGTCACACATTG-1 13396     Input     0     6995       \n",
       "Input_TTTGTGTCAGAAAGAG-1 13397     Input     1     5688       \n",
       "Input_TTTGTGTCATAGCCAT-1 13398     Input     1     5689       \n",
       "Input_TTTGTGTGTAAGCCGA-1 13399     Input     0     6996       \n",
       "Input_TTTGTGTGTAGATTAG-1 13400     Input     0     6997       \n",
       "Input_TTTGTGTGTAGGGTCA-1 13401     Input     0     6998       \n",
       "Input_TTTGTGTGTCATAGAA-1 13402     Input     1     5690       \n",
       "Input_TTTGTGTGTTTCTTAC-1 13403     Input     0     6999       \n",
       "Input_TTTGTGTTCCTGAAAC-1 13404     Input     0     7000       \n",
       "Input_TTTGTGTTCGGGAAAC-1 13405     Input     0     7001       \n",
       "Input_TTTGTGTTCGGGACAA-1 13406     Input     1     5691       \n",
       "Input_TTTGTGTTCTGGCACG-1 13407     Input     0     7002       "
      ]
     },
     "metadata": {},
     "output_type": "display_data"
    }
   ],
   "source": [
    "se <- readRDS(se_f)\n",
    "se$ID <- apply(stringr::str_split((rownames(se[[]])), \"_\", simplify=T)[,1:2], 1, function(x) {paste0(x[[2]],  \"_\", x[[1]])})\n",
    "if(to_rename){\n",
    "se <- RenameCells(se, new.names=se$ID)\n",
    "}\n",
    "coord = max(max(Embeddings(se[[\"umap\"]])), abs(min(Embeddings(se[[\"umap\"]]))))\n",
    "coord\n",
    "se[[]]\n",
    "\n"
   ]
  },
  {
   "cell_type": "code",
   "execution_count": 7,
   "id": "9e3331ef",
   "metadata": {},
   "outputs": [],
   "source": [
    "#se[[]][!duplicated(se[[]][ , c(\"seurat_clusters\", \"clusterID\")]), ][c(\"seurat_clusters\", \"clusterID\")]"
   ]
  },
  {
   "cell_type": "markdown",
   "id": "e405740c",
   "metadata": {},
   "source": [
    "## Filter for top clones"
   ]
  },
  {
   "cell_type": "code",
   "execution_count": 8,
   "id": "4cce990c",
   "metadata": {
    "scrolled": true
   },
   "outputs": [
    {
     "data": {
      "text/plain": [
       "An object of class Seurat \n",
       "212927 features across 13593 samples within 2 assays \n",
       "Active assay: RNA (19039 features, 0 variable features)\n",
       " 1 other assay present: ATAC\n",
       " 2 dimensional reductions calculated: integrated_lsi, umap"
      ]
     },
     "metadata": {},
     "output_type": "display_data"
    }
   ],
   "source": [
    "se <- AddMetaData(se, cells_meta)\n",
    "se"
   ]
  },
  {
   "cell_type": "code",
   "execution_count": null,
   "id": "13a56128",
   "metadata": {},
   "outputs": [],
   "source": []
  },
  {
   "cell_type": "code",
   "execution_count": 9,
   "id": "6f98023f",
   "metadata": {},
   "outputs": [],
   "source": [
    "umap_labels <- read.csv(umap_labels_f, header = F)"
   ]
  },
  {
   "cell_type": "code",
   "execution_count": 10,
   "id": "ecfb1e79",
   "metadata": {
    "scrolled": true
   },
   "outputs": [
    {
     "name": "stdout",
     "output_type": "stream",
     "text": [
      "[1] \"labels\"\n"
     ]
    },
    {
     "data": {
      "text/html": [
       "<style>\n",
       ".list-inline {list-style: none; margin:0; padding: 0}\n",
       ".list-inline>li {display: inline-block}\n",
       ".list-inline>li:not(:last-child)::after {content: \"\\00b7\"; padding: 0 .5ex}\n",
       "</style>\n",
       "<ol class=list-inline><li>'#66C2A5'</li><li>'#C5A07A'</li><li>'#DD927E'</li><li>'#979EC1'</li><li>'#BE93C6'</li><li>'#DB98AE'</li><li>'#B1C968'</li><li>'#CED843'</li><li>'#FCD738'</li><li>'#ECC978'</li><li>'#D2BD9F'</li><li>'#B3B3B3'</li></ol>\n"
      ],
      "text/latex": [
       "\\begin{enumerate*}\n",
       "\\item '\\#66C2A5'\n",
       "\\item '\\#C5A07A'\n",
       "\\item '\\#DD927E'\n",
       "\\item '\\#979EC1'\n",
       "\\item '\\#BE93C6'\n",
       "\\item '\\#DB98AE'\n",
       "\\item '\\#B1C968'\n",
       "\\item '\\#CED843'\n",
       "\\item '\\#FCD738'\n",
       "\\item '\\#ECC978'\n",
       "\\item '\\#D2BD9F'\n",
       "\\item '\\#B3B3B3'\n",
       "\\end{enumerate*}\n"
      ],
      "text/markdown": [
       "1. '#66C2A5'\n",
       "2. '#C5A07A'\n",
       "3. '#DD927E'\n",
       "4. '#979EC1'\n",
       "5. '#BE93C6'\n",
       "6. '#DB98AE'\n",
       "7. '#B1C968'\n",
       "8. '#CED843'\n",
       "9. '#FCD738'\n",
       "10. '#ECC978'\n",
       "11. '#D2BD9F'\n",
       "12. '#B3B3B3'\n",
       "\n",
       "\n"
      ],
      "text/plain": [
       " [1] \"#66C2A5\" \"#C5A07A\" \"#DD927E\" \"#979EC1\" \"#BE93C6\" \"#DB98AE\" \"#B1C968\"\n",
       " [8] \"#CED843\" \"#FCD738\" \"#ECC978\" \"#D2BD9F\" \"#B3B3B3\""
      ]
     },
     "metadata": {},
     "output_type": "display_data"
    },
    {
     "data": {
      "text/html": [
       "<style>\n",
       ".dl-inline {width: auto; margin:0; padding: 0}\n",
       ".dl-inline>dt, .dl-inline>dd {float: none; width: auto; display: inline-block}\n",
       ".dl-inline>dt::after {content: \":\\0020\"; padding-right: .5ex}\n",
       ".dl-inline>dt:not(:first-of-type) {padding-left: .5ex}\n",
       "</style><dl class=dl-inline><dt>HSPC 1</dt><dd>'#66C2A5'</dd><dt>Neutrophil</dt><dd>'#C5A07A'</dd><dt>HSPC 2</dt><dd>'#DD927E'</dd><dt>Erythrocyte</dt><dd>'#979EC1'</dd><dt>Classical Monocyte</dt><dd>'#BE93C6'</dd><dt>Granulocyte</dt><dd>'#DB98AE'</dd><dt>HSPC 3</dt><dd>'#B1C968'</dd><dt>MkP</dt><dd>'#CED843'</dd><dt>HSPC 4</dt><dd>'#FCD738'</dd><dt>Non-classical monocyte</dt><dd>'#ECC978'</dd><dt>pre-B cells</dt><dd>'#D2BD9F'</dd><dt>pDC</dt><dd>'#B3B3B3'</dd></dl>\n"
      ],
      "text/latex": [
       "\\begin{description*}\n",
       "\\item[HSPC 1] '\\#66C2A5'\n",
       "\\item[Neutrophil] '\\#C5A07A'\n",
       "\\item[HSPC 2] '\\#DD927E'\n",
       "\\item[Erythrocyte] '\\#979EC1'\n",
       "\\item[Classical Monocyte] '\\#BE93C6'\n",
       "\\item[Granulocyte] '\\#DB98AE'\n",
       "\\item[HSPC 3] '\\#B1C968'\n",
       "\\item[MkP] '\\#CED843'\n",
       "\\item[HSPC 4] '\\#FCD738'\n",
       "\\item[Non-classical monocyte] '\\#ECC978'\n",
       "\\item[pre-B cells] '\\#D2BD9F'\n",
       "\\item[pDC] '\\#B3B3B3'\n",
       "\\end{description*}\n"
      ],
      "text/markdown": [
       "HSPC 1\n",
       ":   '#66C2A5'Neutrophil\n",
       ":   '#C5A07A'HSPC 2\n",
       ":   '#DD927E'Erythrocyte\n",
       ":   '#979EC1'Classical Monocyte\n",
       ":   '#BE93C6'Granulocyte\n",
       ":   '#DB98AE'HSPC 3\n",
       ":   '#B1C968'MkP\n",
       ":   '#CED843'HSPC 4\n",
       ":   '#FCD738'Non-classical monocyte\n",
       ":   '#ECC978'pre-B cells\n",
       ":   '#D2BD9F'pDC\n",
       ":   '#B3B3B3'\n",
       "\n"
      ],
      "text/plain": [
       "                HSPC 1             Neutrophil                 HSPC 2 \n",
       "             \"#66C2A5\"              \"#C5A07A\"              \"#DD927E\" \n",
       "           Erythrocyte     Classical Monocyte            Granulocyte \n",
       "             \"#979EC1\"              \"#BE93C6\"              \"#DB98AE\" \n",
       "                HSPC 3                    MkP                 HSPC 4 \n",
       "             \"#B1C968\"              \"#CED843\"              \"#FCD738\" \n",
       "Non-classical monocyte            pre-B cells                    pDC \n",
       "             \"#ECC978\"              \"#D2BD9F\"              \"#B3B3B3\" "
      ]
     },
     "metadata": {},
     "output_type": "display_data"
    }
   ],
   "source": [
    "# Get color palette\n",
    "# #colorRampPalette\n",
    "# nb.cols <- 18\n",
    "# mycolors <- \n",
    "# mycolors\n",
    "f <- function(a,b){\n",
    "    return(a=b)}\n",
    "\n",
    "if((umap_labels_f==\"NULL\") | (umap_labels_f==\"\")){\n",
    "    palette1 <- colorRampPalette(brewer.pal(8, \"Set2\"))(length(unique(se$clusterID))) #rainbow(length(unique(se$clusterID)))\n",
    "    colors <- mapply(f, unique(se$clusterID),palette1)\n",
    "}else {\n",
    "    print('labels')\n",
    "    umap.labels <- read.csv(umap_labels_f, header = F)\n",
    "    row.names(umap.labels) <- umap.labels$V1\n",
    "    palette1 <- colorRampPalette(brewer.pal(8, \"Set2\"))(dim(umap.labels)[1])  #rainbow(dim(umap.labels)[1])\n",
    "    colors <- mapply(f, unique(umap.labels$V2), palette1)\n",
    "}\n",
    "\n",
    "palette1\n",
    "colors\n",
    "##c('#F68282','#31C53F','#1FA195','#B95FBB','#D4D915','#28CECA','#ff9a36','#2FF18B','#aeadb3','#faf4cf','#CCB1F1','#25aff5','#A4DFF2','#4B4BF7','#AC8F14','#E6C122') )"
   ]
  },
  {
   "cell_type": "code",
   "execution_count": 11,
   "id": "f98aadcb",
   "metadata": {
    "scrolled": false
   },
   "outputs": [
    {
     "data": {
      "text/html": [
       "<style>\n",
       ".list-inline {list-style: none; margin:0; padding: 0}\n",
       ".list-inline>li {display: inline-block}\n",
       ".list-inline>li:not(:last-child)::after {content: \"\\00b7\"; padding: 0 .5ex}\n",
       "</style>\n",
       "<ol class=list-inline><li>'1_16'</li><li>'1_7'</li><li>'1_2'</li><li>'1_11'</li><li>'1_12'</li><li>'1_6'</li><li>'1_13'</li><li>'1_3'</li><li>'1_8'</li><li>'1_0'</li><li>'1_4'</li><li>'1_24'</li><li>'1_22'</li><li>'1_15'</li><li>'1_9'</li><li>'1_20'</li><li>'1_10'</li><li>'1_14'</li><li>'1_1'</li><li>'1_18'</li><li>'1_17'</li><li>'1_25'</li><li>'1_23'</li><li>'1_5'</li><li>'1_19'</li><li>'1_21'</li></ol>\n"
      ],
      "text/latex": [
       "\\begin{enumerate*}\n",
       "\\item '1\\_16'\n",
       "\\item '1\\_7'\n",
       "\\item '1\\_2'\n",
       "\\item '1\\_11'\n",
       "\\item '1\\_12'\n",
       "\\item '1\\_6'\n",
       "\\item '1\\_13'\n",
       "\\item '1\\_3'\n",
       "\\item '1\\_8'\n",
       "\\item '1\\_0'\n",
       "\\item '1\\_4'\n",
       "\\item '1\\_24'\n",
       "\\item '1\\_22'\n",
       "\\item '1\\_15'\n",
       "\\item '1\\_9'\n",
       "\\item '1\\_20'\n",
       "\\item '1\\_10'\n",
       "\\item '1\\_14'\n",
       "\\item '1\\_1'\n",
       "\\item '1\\_18'\n",
       "\\item '1\\_17'\n",
       "\\item '1\\_25'\n",
       "\\item '1\\_23'\n",
       "\\item '1\\_5'\n",
       "\\item '1\\_19'\n",
       "\\item '1\\_21'\n",
       "\\end{enumerate*}\n"
      ],
      "text/markdown": [
       "1. '1_16'\n",
       "2. '1_7'\n",
       "3. '1_2'\n",
       "4. '1_11'\n",
       "5. '1_12'\n",
       "6. '1_6'\n",
       "7. '1_13'\n",
       "8. '1_3'\n",
       "9. '1_8'\n",
       "10. '1_0'\n",
       "11. '1_4'\n",
       "12. '1_24'\n",
       "13. '1_22'\n",
       "14. '1_15'\n",
       "15. '1_9'\n",
       "16. '1_20'\n",
       "17. '1_10'\n",
       "18. '1_14'\n",
       "19. '1_1'\n",
       "20. '1_18'\n",
       "21. '1_17'\n",
       "22. '1_25'\n",
       "23. '1_23'\n",
       "24. '1_5'\n",
       "25. '1_19'\n",
       "26. '1_21'\n",
       "\n",
       "\n"
      ],
      "text/plain": [
       " [1] \"1_16\" \"1_7\"  \"1_2\"  \"1_11\" \"1_12\" \"1_6\"  \"1_13\" \"1_3\"  \"1_8\"  \"1_0\" \n",
       "[11] \"1_4\"  \"1_24\" \"1_22\" \"1_15\" \"1_9\"  \"1_20\" \"1_10\" \"1_14\" \"1_1\"  \"1_18\"\n",
       "[21] \"1_17\" \"1_25\" \"1_23\" \"1_5\"  \"1_19\" \"1_21\"\n",
       "attr(,\"na.action\")\n",
       "[1] 1\n",
       "attr(,\"class\")\n",
       "[1] \"omit\""
      ]
     },
     "metadata": {},
     "output_type": "display_data"
    },
    {
     "data": {
      "text/html": [
       "<style>\n",
       ".list-inline {list-style: none; margin:0; padding: 0}\n",
       ".list-inline>li {display: inline-block}\n",
       ".list-inline>li:not(:last-child)::after {content: \"\\00b7\"; padding: 0 .5ex}\n",
       "</style>\n",
       "<ol class=list-inline><li>'Flt3l'</li><li>'Input'</li></ol>\n"
      ],
      "text/latex": [
       "\\begin{enumerate*}\n",
       "\\item 'Flt3l'\n",
       "\\item 'Input'\n",
       "\\end{enumerate*}\n"
      ],
      "text/markdown": [
       "1. 'Flt3l'\n",
       "2. 'Input'\n",
       "\n",
       "\n"
      ],
      "text/plain": [
       "[1] \"Flt3l\" \"Input\""
      ]
     },
     "metadata": {},
     "output_type": "display_data"
    },
    {
     "data": {
      "text/html": [
       "'1'"
      ],
      "text/latex": [
       "'1'"
      ],
      "text/markdown": [
       "'1'"
      ],
      "text/plain": [
       "[1] \"1\""
      ]
     },
     "metadata": {},
     "output_type": "display_data"
    }
   ],
   "source": [
    "cloneID <- (unique(se$cloneID))\n",
    "#cloneID <- (unique(se$cloneID))\n",
    "cloneID <- cloneID[! cloneID==\"None\"]\n",
    "cloneID <- cloneID[! cloneID==\"None\"]\n",
    "cloneID <- na.omit(cloneID)\n",
    "cloneID\n",
    "\n",
    "cond <- (unique(cells_meta$condition))\n",
    "cond <- cond[! cond==\"None\"]\n",
    "cond\n",
    "\n",
    "donors <- levels(as.factor(cells_meta$donor))\n",
    "donors <-  donors[donors != \"None\"]\n",
    "donors"
   ]
  },
  {
   "cell_type": "code",
   "execution_count": 12,
   "id": "486d55fc",
   "metadata": {
    "scrolled": true
   },
   "outputs": [],
   "source": [
    "se <- subset(x = se, subset = (cloneID != \"None\") & (donor != \"None\") & (condition != \"None\"))\n",
    "top.se <- subset(x = se, subset = cloneID %in% top.clones)\n",
    "top.se$cloneID <- factor(x = top.se$cloneID, levels =top.clones)\n"
   ]
  },
  {
   "cell_type": "code",
   "execution_count": 13,
   "id": "12e1bce8",
   "metadata": {},
   "outputs": [],
   "source": [
    "\n",
    "# my_cols <- c('3'='#F68282','15'='#31C53F','5'='#1FA195','1'='#B95FBB','13'='#D4D915',\n",
    "#   '14'='#28CECA','9'='#ff9a36','8'='#2FF18B','11'='#aeadb3','6'='#faf4cf',\n",
    "#   '2'='#CCB1F1','12'='#25aff5','7'='#A4DFF2','4'='#4B4BF7','16'='#AC8F14',\n",
    "#   '10'='#E6C122')\n",
    "\n",
    "# my_cols2 <- my_cols[order(as.integer(names(my_cols)))]\n",
    "# scales::show_col(my_cols2)"
   ]
  },
  {
   "cell_type": "code",
   "execution_count": 14,
   "id": "ede41c16",
   "metadata": {},
   "outputs": [],
   "source": [
    "#se$nuclear_cluster"
   ]
  },
  {
   "cell_type": "code",
   "execution_count": 15,
   "id": "ef001cec",
   "metadata": {},
   "outputs": [],
   "source": [
    "\n",
    "# my_cols <- c('3'='#F68282','15'='#31C53F','5'='#1FA195','1'='#B95FBB','13'='#D4D915',\n",
    "#   '14'='#28CECA','9'='#ff9a36','8'='#2FF18B','11'='#aeadb3','6'='#faf4cf',\n",
    "#   '2'='#CCB1F1','12'='#25aff5','7'='#A4DFF2','4'='#4B4BF7','16'='#AC8F14',\n",
    "#   '10'='#E6C122')\n",
    "\n",
    "# my_cols2 <- my_cols[order(as.integer(names(my_cols)))]\n",
    "# scales::show_col(my_cols2)\n",
    "\n",
    "\n",
    "# DimPlot(my_seurat,\n",
    "#         cols = my_cols2, label=TRUE , repel=TRUE)"
   ]
  },
  {
   "cell_type": "code",
   "execution_count": 16,
   "id": "9a8a3fb2",
   "metadata": {
    "scrolled": true
   },
   "outputs": [],
   "source": [
    "\n",
    "d <- DimPlot(object = top.se, label = FALSE, split.by=\"cloneID\", order = top.clones, ncol=1, \n",
    "             combine=T, cols=colors,\n",
    "             group.by=c(\"clusterID\"), shape.by=c(\"condition\"), pt.size=6) +\n",
    "    xlim(-1*coord-0.01,coord+0.01) +\n",
    "    ylim(-1*coord-0.01,coord+0.01) + \n",
    "    theme(text = element_text(size = 4*top_clones)) +\n",
    "    theme(axis.text = element_text(size = (top_clones))) +  \n",
    "    scale_shape_manual(values = c(\"Input\" = 16, \"Flt3l\" = 1)) + \n",
    "    scale_alpha_manual( values= c(.1,1))\n",
    "\n",
    "ggsave(file.path(outdir, \"top_umap_clust_col.svg\"), width=2*top_clones, height=8*top_clones, device='svg', units=\"in\", limitsize = FALSE)\n",
    "ggsave(file.path(outdir, \"top_umap_clust_col.pdf\"), width=2*top_clones, height=8*top_clones, units=\"in\", limitsize = FALSE)"
   ]
  },
  {
   "cell_type": "code",
   "execution_count": null,
   "id": "12659f48",
   "metadata": {},
   "outputs": [],
   "source": []
  },
  {
   "cell_type": "code",
   "execution_count": null,
   "id": "146c8948",
   "metadata": {},
   "outputs": [],
   "source": []
  },
  {
   "cell_type": "code",
   "execution_count": 30,
   "id": "a2bf2c0f",
   "metadata": {},
   "outputs": [
    {
     "data": {
      "image/png": "[encoded data removed]",
      "text/plain": [
       "plot without title"
      ]
     },
     "metadata": {
      "image/png": {
       "height": 420,
       "width": 420
      }
     },
     "output_type": "display_data"
    }
   ],
   "source": [
    "d"
   ]
  },
  {
   "cell_type": "code",
   "execution_count": 37,
   "id": "3e0a433e",
   "metadata": {
    "scrolled": true
   },
   "outputs": [
    {
     "name": "stderr",
     "output_type": "stream",
     "text": [
      "Warning message in dir.create(curr.outdir):\n",
      "“'/data/Mito_Trace/output/pipeline/v04/CHIP_b1/MTBlacklist_A2/data/merged/MT/cellr_True/numread_200/filters/minC10_minR50_topN0_hetT0.001_hetC10_hetCount5_bq20/mgatk/vireoIn/single_clones/donor1/cloneMethod_variants_prefilterMerge_impute_knn_resolution_30/clonalShift_method_clones/top//umap_clones' already exists”\n"
     ]
    },
    {
     "name": "stdout",
     "output_type": "stream",
     "text": [
      "[1] \"1_0\"\n"
     ]
    },
    {
     "name": "stderr",
     "output_type": "stream",
     "text": [
      "Saving 6.67 x 6.67 in image\n",
      "\n"
     ]
    },
    {
     "name": "stdout",
     "output_type": "stream",
     "text": [
      "[1] \"1_1\"\n"
     ]
    },
    {
     "name": "stderr",
     "output_type": "stream",
     "text": [
      "Saving 6.67 x 6.67 in image\n",
      "\n"
     ]
    },
    {
     "name": "stdout",
     "output_type": "stream",
     "text": [
      "[1] \"1_2\"\n"
     ]
    },
    {
     "name": "stderr",
     "output_type": "stream",
     "text": [
      "Saving 6.67 x 6.67 in image\n",
      "\n"
     ]
    },
    {
     "name": "stdout",
     "output_type": "stream",
     "text": [
      "[1] \"1_3\"\n"
     ]
    },
    {
     "name": "stderr",
     "output_type": "stream",
     "text": [
      "Saving 6.67 x 6.67 in image\n",
      "\n"
     ]
    },
    {
     "name": "stdout",
     "output_type": "stream",
     "text": [
      "[1] \"1_4\"\n"
     ]
    },
    {
     "name": "stderr",
     "output_type": "stream",
     "text": [
      "Saving 6.67 x 6.67 in image\n",
      "\n"
     ]
    },
    {
     "name": "stdout",
     "output_type": "stream",
     "text": [
      "[1] \"1_6\"\n"
     ]
    },
    {
     "name": "stderr",
     "output_type": "stream",
     "text": [
      "Saving 6.67 x 6.67 in image\n",
      "\n"
     ]
    },
    {
     "name": "stdout",
     "output_type": "stream",
     "text": [
      "[1] \"1_7\"\n"
     ]
    },
    {
     "name": "stderr",
     "output_type": "stream",
     "text": [
      "Saving 6.67 x 6.67 in image\n",
      "\n"
     ]
    },
    {
     "name": "stdout",
     "output_type": "stream",
     "text": [
      "[1] \"1_8\"\n"
     ]
    },
    {
     "name": "stderr",
     "output_type": "stream",
     "text": [
      "Saving 6.67 x 6.67 in image\n",
      "\n"
     ]
    },
    {
     "name": "stdout",
     "output_type": "stream",
     "text": [
      "[1] \"1_9\"\n"
     ]
    },
    {
     "name": "stderr",
     "output_type": "stream",
     "text": [
      "Saving 6.67 x 6.67 in image\n",
      "\n"
     ]
    },
    {
     "name": "stdout",
     "output_type": "stream",
     "text": [
      "[1] \"1_10\"\n"
     ]
    },
    {
     "name": "stderr",
     "output_type": "stream",
     "text": [
      "Saving 6.67 x 6.67 in image\n",
      "\n"
     ]
    },
    {
     "name": "stdout",
     "output_type": "stream",
     "text": [
      "[1] \"1_11\"\n"
     ]
    },
    {
     "name": "stderr",
     "output_type": "stream",
     "text": [
      "Saving 6.67 x 6.67 in image\n",
      "\n"
     ]
    },
    {
     "name": "stdout",
     "output_type": "stream",
     "text": [
      "[1] \"1_13\"\n"
     ]
    },
    {
     "name": "stderr",
     "output_type": "stream",
     "text": [
      "Saving 6.67 x 6.67 in image\n",
      "\n"
     ]
    },
    {
     "name": "stdout",
     "output_type": "stream",
     "text": [
      "[1] \"1_12\"\n"
     ]
    },
    {
     "name": "stderr",
     "output_type": "stream",
     "text": [
      "Saving 6.67 x 6.67 in image\n",
      "\n"
     ]
    },
    {
     "name": "stdout",
     "output_type": "stream",
     "text": [
      "[1] \"1_14\"\n"
     ]
    },
    {
     "name": "stderr",
     "output_type": "stream",
     "text": [
      "Saving 6.67 x 6.67 in image\n",
      "\n"
     ]
    },
    {
     "name": "stdout",
     "output_type": "stream",
     "text": [
      "[1] \"1_15\"\n"
     ]
    },
    {
     "name": "stderr",
     "output_type": "stream",
     "text": [
      "Saving 6.67 x 6.67 in image\n",
      "\n"
     ]
    },
    {
     "name": "stdout",
     "output_type": "stream",
     "text": [
      "[1] \"1_16\"\n"
     ]
    },
    {
     "name": "stderr",
     "output_type": "stream",
     "text": [
      "Saving 6.67 x 6.67 in image\n",
      "\n"
     ]
    },
    {
     "name": "stdout",
     "output_type": "stream",
     "text": [
      "[1] \"1_17\"\n"
     ]
    },
    {
     "name": "stderr",
     "output_type": "stream",
     "text": [
      "Saving 6.67 x 6.67 in image\n",
      "\n"
     ]
    },
    {
     "name": "stdout",
     "output_type": "stream",
     "text": [
      "[1] \"1_18\"\n"
     ]
    },
    {
     "name": "stderr",
     "output_type": "stream",
     "text": [
      "Saving 6.67 x 6.67 in image\n",
      "\n"
     ]
    },
    {
     "name": "stdout",
     "output_type": "stream",
     "text": [
      "[1] \"1_20\"\n"
     ]
    },
    {
     "name": "stderr",
     "output_type": "stream",
     "text": [
      "Saving 6.67 x 6.67 in image\n",
      "\n"
     ]
    },
    {
     "name": "stdout",
     "output_type": "stream",
     "text": [
      "[1] \"1_22\"\n"
     ]
    },
    {
     "name": "stderr",
     "output_type": "stream",
     "text": [
      "Saving 6.67 x 6.67 in image\n",
      "\n"
     ]
    },
    {
     "name": "stdout",
     "output_type": "stream",
     "text": [
      "[1] \"1_24\"\n"
     ]
    },
    {
     "name": "stderr",
     "output_type": "stream",
     "text": [
      "Saving 6.67 x 6.67 in image\n",
      "\n"
     ]
    },
    {
     "name": "stdout",
     "output_type": "stream",
     "text": [
      "[1] \"1_25\"\n"
     ]
    },
    {
     "name": "stderr",
     "output_type": "stream",
     "text": [
      "Saving 6.67 x 6.67 in image\n",
      "\n"
     ]
    },
    {
     "name": "stdout",
     "output_type": "stream",
     "text": [
      "[1] \"1_21\"\n"
     ]
    },
    {
     "name": "stderr",
     "output_type": "stream",
     "text": [
      "Saving 6.67 x 6.67 in image\n",
      "\n"
     ]
    },
    {
     "name": "stdout",
     "output_type": "stream",
     "text": [
      "[1] \"1_23\"\n"
     ]
    },
    {
     "name": "stderr",
     "output_type": "stream",
     "text": [
      "Saving 6.67 x 6.67 in image\n",
      "\n"
     ]
    },
    {
     "name": "stdout",
     "output_type": "stream",
     "text": [
      "[1] \"1_5\"\n"
     ]
    },
    {
     "name": "stderr",
     "output_type": "stream",
     "text": [
      "Saving 6.67 x 6.67 in image\n",
      "\n"
     ]
    },
    {
     "name": "stdout",
     "output_type": "stream",
     "text": [
      "[1] \"1_19\"\n"
     ]
    },
    {
     "name": "stderr",
     "output_type": "stream",
     "text": [
      "Saving 6.67 x 6.67 in image\n",
      "\n"
     ]
    }
   ],
   "source": [
    "if( top_clones== -1){\n",
    "    curr.outdir <- file.path(outdir, \"umap_clones\")\n",
    "    dir.create(curr.outdir)\n",
    "    for (cln in top.clones){\n",
    "        print(cln)\n",
    "        curr.se <- subset(se, subset = cloneID == cln) \n",
    "        d <- DimPlot(object = curr.se, cols=colors,\n",
    "                     label = FALSE, \n",
    "                     group.by=c(\"clusterID\"), shape.by=c(\"condition\")) + #,  pt.size=12 ) +\n",
    "            xlim(-1*coord-0.01,coord+0.01) +\n",
    "            ylim(-1*coord-0.01,coord+0.01)  \n",
    "            #theme(text = element_text(size = 4*top_clones)) +\n",
    "            #theme(axis.text = element_text(size = (top_clones)))\n",
    "        ggsave(file.path(curr.outdir, paste0(\"cln_\", cln, \"_umap_cond_col.pdf\")), limitsize = FALSE)\n",
    "    } \n",
    "}else{       \n",
    "    d <- DimPlot(object = top.se, label = FALSE, split.by=\"cloneID\", order = top.clones, ncol=1, \n",
    "                 combine=T, \n",
    "                 group.by=c(\"condition\"),  pt.size=12 ) +\n",
    "        xlim(-1*coord-0.01,coord+0.01) +\n",
    "        ylim(-1*coord-0.01,coord+0.01) + \n",
    "        theme(text = element_text(size = 4*top_clones)) +\n",
    "        theme(axis.text = element_text(size = (top_clones)))\n",
    "    ggsave(file.path(outdir, \"top_umap_cond_col.pdf\"), width=2*top_clones, height=8*top_clones, units=\"in\", limitsize = FALSE)\n",
    "\n",
    "}"
   ]
  },
  {
   "cell_type": "code",
   "execution_count": 25,
   "id": "293b5527",
   "metadata": {},
   "outputs": [
    {
     "data": {
      "text/html": [
       "'/data/Mito_Trace/output/pipeline/v04/CHIP_b1/MTBlacklist_A2/data/merged/MT/cellr_True/numread_200/filters/minC10_minR50_topN0_hetT0.001_hetC10_hetCount5_bq20/mgatk/vireoIn/single_clones/donor1/cloneMethod_variants_prefilterMerge_impute_knn_resolution_30/clonalShift_method_clones/top/'"
      ],
      "text/latex": [
       "'/data/Mito\\_Trace/output/pipeline/v04/CHIP\\_b1/MTBlacklist\\_A2/data/merged/MT/cellr\\_True/numread\\_200/filters/minC10\\_minR50\\_topN0\\_hetT0.001\\_hetC10\\_hetCount5\\_bq20/mgatk/vireoIn/single\\_clones/donor1/cloneMethod\\_variants\\_prefilterMerge\\_impute\\_knn\\_resolution\\_30/clonalShift\\_method\\_clones/top/'"
      ],
      "text/markdown": [
       "'/data/Mito_Trace/output/pipeline/v04/CHIP_b1/MTBlacklist_A2/data/merged/MT/cellr_True/numread_200/filters/minC10_minR50_topN0_hetT0.001_hetC10_hetCount5_bq20/mgatk/vireoIn/single_clones/donor1/cloneMethod_variants_prefilterMerge_impute_knn_resolution_30/clonalShift_method_clones/top/'"
      ],
      "text/plain": [
       "[1] \"/data/Mito_Trace/output/pipeline/v04/CHIP_b1/MTBlacklist_A2/data/merged/MT/cellr_True/numread_200/filters/minC10_minR50_topN0_hetT0.001_hetC10_hetCount5_bq20/mgatk/vireoIn/single_clones/donor1/cloneMethod_variants_prefilterMerge_impute_knn_resolution_30/clonalShift_method_clones/top/\""
      ]
     },
     "metadata": {},
     "output_type": "display_data"
    }
   ],
   "source": [
    "outdir"
   ]
  },
  {
   "cell_type": "code",
   "execution_count": 17,
   "id": "5369e1ac",
   "metadata": {
    "scrolled": true
   },
   "outputs": [],
   "source": [
    "# d <- DimPlot(object = top.se, label = FALSE, split.by=\"cloneID\", order = top.clones, ncol=1, \n",
    "#              combine=T,\n",
    "#              group.by=c(\"condition\"),  pt.size=2*(top_clones/2)) +\n",
    "#     xlim(-1*coord-0.01,coord+0.01) +\n",
    "#     ylim(-1*coord-0.01,coord+0.01) + \n",
    "#     theme(text = element_text(size = 8*top_clones)) +\n",
    "#     theme(axis.text = element_text(size = 20))\n",
    "\n",
    "# ggsave(file.path(outdir, \"top_umap_cond_col.svg\"), width=4*top_clones, height=4*top_clones*top_clones,limitsize = FALSE)\n",
    "# ggsave(file.path(outdir, \"top_umap_cond_col.pdf\"), width=4*top_clones, height=4*top_clones*top_clones,limitsize = FALSE)\n",
    "\n",
    "\n",
    "\n",
    "d <- DimPlot(object = top.se, label = FALSE, split.by=\"cloneID\", order = top.clones, ncol=1, \n",
    "             combine=T, \n",
    "             group.by=c(\"condition\"),  pt.size=12 ) +\n",
    "    xlim(-1*coord-0.01,coord+0.01) +\n",
    "    ylim(-1*coord-0.01,coord+0.01) + \n",
    "    theme(text = element_text(size = 4*top_clones)) +\n",
    "    theme(axis.text = element_text(size = (top_clones)))\n",
    "\n",
    "#ggsave(file.path(outdir, \"top_umap_cond_col.svg\"), width=2*top_clones, height=8*top_clones, device='svg', units=\"in\", limitsize = FALSE)\n",
    "ggsave(file.path(outdir, \"top_umap_cond_col.pdf\"), width=2*top_clones, height=8*top_clones, units=\"in\", limitsize = FALSE)"
   ]
  },
  {
   "cell_type": "code",
   "execution_count": 18,
   "id": "e89ce4ba",
   "metadata": {},
   "outputs": [
    {
     "data": {
      "text/html": [
       "'/data/Mito_Trace/output/pipeline/v04/CHIP_b1/MTBlacklist_A2/data/merged/MT/cellr_True/numread_200/filters/minC10_minR50_topN0_hetT0.001_hetC10_hetCount5_bq20/mgatk/vireoIn/single_clones/donor1/cloneMethod_variants_prefilterMerge_impute_knn_resolution_30/clonalShift_method_clones/top/'"
      ],
      "text/latex": [
       "'/data/Mito\\_Trace/output/pipeline/v04/CHIP\\_b1/MTBlacklist\\_A2/data/merged/MT/cellr\\_True/numread\\_200/filters/minC10\\_minR50\\_topN0\\_hetT0.001\\_hetC10\\_hetCount5\\_bq20/mgatk/vireoIn/single\\_clones/donor1/cloneMethod\\_variants\\_prefilterMerge\\_impute\\_knn\\_resolution\\_30/clonalShift\\_method\\_clones/top/'"
      ],
      "text/markdown": [
       "'/data/Mito_Trace/output/pipeline/v04/CHIP_b1/MTBlacklist_A2/data/merged/MT/cellr_True/numread_200/filters/minC10_minR50_topN0_hetT0.001_hetC10_hetCount5_bq20/mgatk/vireoIn/single_clones/donor1/cloneMethod_variants_prefilterMerge_impute_knn_resolution_30/clonalShift_method_clones/top/'"
      ],
      "text/plain": [
       "[1] \"/data/Mito_Trace/output/pipeline/v04/CHIP_b1/MTBlacklist_A2/data/merged/MT/cellr_True/numread_200/filters/minC10_minR50_topN0_hetT0.001_hetC10_hetCount5_bq20/mgatk/vireoIn/single_clones/donor1/cloneMethod_variants_prefilterMerge_impute_knn_resolution_30/clonalShift_method_clones/top/\""
      ]
     },
     "metadata": {},
     "output_type": "display_data"
    }
   ],
   "source": [
    "outdir"
   ]
  },
  {
   "cell_type": "code",
   "execution_count": 19,
   "id": "40a0219d",
   "metadata": {
    "scrolled": true
   },
   "outputs": [],
   "source": [
    "#RidgePlot(object = se, group.by=cloneID, features = c('UMAP_1', 'UMAP_2'), sort=F)"
   ]
  }
 ],
 "metadata": {
  "celltoolbar": "Tags",
  "kernelspec": {
   "display_name": "R",
   "language": "R",
   "name": "ir"
  },
  "language_info": {
   "codemirror_mode": "r",
   "file_extension": ".r",
   "mimetype": "text/x-r-source",
   "name": "R",
   "pygments_lexer": "r",
   "version": "4.1.1"
  }
 },
 "nbformat": 4,
 "nbformat_minor": 5
}
