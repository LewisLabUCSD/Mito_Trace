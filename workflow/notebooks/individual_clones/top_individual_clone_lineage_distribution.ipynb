{
 "cells": [
  {
   "cell_type": "code",
   "execution_count": 1,
   "id": "57a92ea7",
   "metadata": {
    "tags": [
     "parameters"
    ]
   },
   "outputs": [],
   "source": [
    "\n",
    "# INDIR = \"/data/Mito_Trace/output/pipeline/cd34norm/MTblacklist/data/merged/MT/cellr_True/numread_200/filters/minC10_minR50_topN0_hetT0.001_hetC10_hetCount5_bq20/mgatk/vireoIn/clones/variants_mgatkdonor/vireo/nclones20\"\n",
    "# OUTDIR = \"/data/Mito_Trace/output/pipeline/cd34norm/MTblacklist/results/merged/MT/cellr_True/numread_200/filters/minC10_minR50_topN0_hetT0.001_hetC10_hetCount5_bq20/mgatk/vireoIn/clones/variants_mgatkdonor/vireo/nclones20/clones_dendro\"\n",
    "# DONOR = 3\n",
    "# COUNT_INDIR = \"/data/Mito_Trace/output/pipeline/cd34norm/MTblacklist/data/merged/MT/cellr_True/numread_200/filters/minC10_minR50_topN0_hetT0.001_hetC10_hetCount5_bq20/mgatk/vireoIn/clones/variants_mgatkdonor/donor3/mgatk\"\n",
    "# var_type = \"mgatkdonor\"\n",
    "\n",
    "#INDIR = \"/data/Mito_Trace/output/pipeline/v02/CHIP_b1/MTBlacklist_A2/data/merged/MT/cellr_True/numread_200/filters/minC10_minR50_topN0_hetT0.001_hetC10_hetCount5_bq20/mgatk/vireoIn/clones/variants_init/knn/kparam_30/\"\n",
    "\n",
    "\n",
    "# cells_meta_f = \"/data/Mito_Trace/output/pipeline/v02/CHIP_b1/MTBlacklist_A2/data/merged/MT/cellr_True/numread_200/filters/minC10_minR50_topN0_hetT0.001_hetC10_hetCount5_bq20/mgatk/vireoIn/single_clones/donor0/cloneMethod_variants_init_mt_bestparams_af.0.1_othaf.0.1_cov.10_othcov.10_ncells.10_othncells.0.25_mean.0/clonalShift_method_mt_as_clones_dendro/cells_meta.tsv\"\n",
    "# outdir = \"/data/Mito_Trace/output/pipeline/v02/CHIP_b1/MTBlacklist_A2/data/merged/MT/cellr_True/numread_200/filters/minC10_minR50_topN0_hetT0.001_hetC10_hetCount5_bq20/mgatk/vireoIn/single_clones/donor0/cloneMethod_variants_init_mt_bestparams_af.0.1_othaf.0.1_cov.10_othcov.10_ncells.10_othncells.0.25_mean.0/clonalShift_method_mt_as_clones_dendro/single/\"\n",
    "\n",
    "\n",
    "cells_meta_f = \"/data/Mito_Trace/output/pipeline/v02/CHIP_b1/MTBlacklist_A2/data/merged/MT/cellr_True/numread_200/filters/minC10_minR50_topN0_hetT0.001_hetC10_hetCount5_bq20/mgatk/vireoIn/single_clones/donor0/cloneMethod_variants_init_knn_resolution_30/clonalShift_method_clones/cells_meta.tsv\"\n",
    "outdir = \"/data/Mito_Trace/output/pipeline/v02/CHIP_b1/MTBlacklist_A2/data/merged/MT/cellr_True/numread_200/filters/minC10_minR50_topN0_hetT0.001_hetC10_hetCount5_bq20/mgatk/vireoIn/single_clones/donor0/cloneMethod_variants_init_knn_resolution_30/clonalShift_method_clones/top\"\n",
    "\n",
    "clone_order_f = \"/data/Mito_Trace/output/pipeline/v02/CHIP_b1/MTBlacklist_A2/data/merged/MT/cellr_True/numread_200/filters/minC10_minR50_topN0_hetT0.001_hetC10_hetCount5_bq20/mgatk/vireoIn/single_clones/donor0/cloneMethod_variants_init_knn_resolution_30/clonalShift_method_clones/clones_ranked/cloneID_rank_ncells.txt\"\n",
    "ntop_clones = 10\n",
    "\n",
    "#cloneID = \"0_C6\""
   ]
  },
  {
   "cell_type": "code",
   "execution_count": 2,
   "id": "4b786f82",
   "metadata": {},
   "outputs": [
    {
     "name": "stdout",
     "output_type": "stream",
     "text": [
      "fig_utils from mplh\n",
      "0.5.6\n"
     ]
    }
   ],
   "source": [
    "from os.path import join, exists, dirname\n",
    "from glob import glob\n",
    "import pickle\n",
    "import mplh.cluster_help as ch\n",
    "import mplh.fig_utils as fu\n",
    "\n",
    "import os\n",
    "import vireoSNP\n",
    "import numpy as np\n",
    "from scipy import sparse\n",
    "from scipy.io import mmread\n",
    "import matplotlib.pyplot as plt\n",
    "from scipy.stats import hypergeom\n",
    "print(vireoSNP.__version__)\n",
    "\n",
    "import pandas as pd\n",
    "import seaborn as sns\n",
    "from vireoSNP import Vireo\n",
    "np.set_printoptions(formatter={'float': lambda x: format(x, '.5f')})\n",
    "\n",
    "\n",
    "plt.rcParams['svg.fonttype'] = 'none'"
   ]
  },
  {
   "cell_type": "code",
   "execution_count": 3,
   "id": "9ef3b4cb",
   "metadata": {},
   "outputs": [],
   "source": [
    "import seaborn as sns\n",
    "from mplh import cluster_help as ch"
   ]
  },
  {
   "cell_type": "code",
   "execution_count": 4,
   "id": "fed4dd46",
   "metadata": {},
   "outputs": [
    {
     "data": {
      "text/plain": [
       "array(['0_0', '0_1', '0_2', '0_3', '0_4', '0_6', '0_5', '0_7', '0_9',\n",
       "       '0_8'], dtype=object)"
      ]
     },
     "execution_count": 4,
     "metadata": {},
     "output_type": "execute_result"
    }
   ],
   "source": [
    "clone_order = pd.read_csv(clone_order_f, header=None)[0].values\n",
    "top_clones = clone_order[:ntop_clones]\n",
    "top_clones"
   ]
  },
  {
   "cell_type": "code",
   "execution_count": 5,
   "id": "12d770d9",
   "metadata": {
    "scrolled": true
   },
   "outputs": [
    {
     "data": {
      "text/html": [
       "<div>\n",
       "<style scoped>\n",
       "    .dataframe tbody tr th:only-of-type {\n",
       "        vertical-align: middle;\n",
       "    }\n",
       "\n",
       "    .dataframe tbody tr th {\n",
       "        vertical-align: top;\n",
       "    }\n",
       "\n",
       "    .dataframe thead th {\n",
       "        text-align: right;\n",
       "    }\n",
       "</style>\n",
       "<table border=\"1\" class=\"dataframe\">\n",
       "  <thead>\n",
       "    <tr style=\"text-align: right;\">\n",
       "      <th></th>\n",
       "      <th>cloneID</th>\n",
       "      <th>clusterID</th>\n",
       "      <th>condition</th>\n",
       "      <th>donor</th>\n",
       "    </tr>\n",
       "  </thead>\n",
       "  <tbody>\n",
       "    <tr>\n",
       "      <th>Control_AAACGAAAGCGAGAAA-1</th>\n",
       "      <td>0_27</td>\n",
       "      <td>MPP/CMP/GMP C</td>\n",
       "      <td>Control</td>\n",
       "      <td>0</td>\n",
       "    </tr>\n",
       "    <tr>\n",
       "      <th>Control_AAACGAAAGTACAGAT-1</th>\n",
       "      <td>0_4</td>\n",
       "      <td>erythroid</td>\n",
       "      <td>Control</td>\n",
       "      <td>0</td>\n",
       "    </tr>\n",
       "    <tr>\n",
       "      <th>Control_AAACGAACACTCGCAG-1</th>\n",
       "      <td>0_3</td>\n",
       "      <td>neutrophil</td>\n",
       "      <td>Control</td>\n",
       "      <td>0</td>\n",
       "    </tr>\n",
       "    <tr>\n",
       "      <th>Control_AAACGAATCAGGCGCT-1</th>\n",
       "      <td>0_23</td>\n",
       "      <td>macrophage</td>\n",
       "      <td>Control</td>\n",
       "      <td>0</td>\n",
       "    </tr>\n",
       "    <tr>\n",
       "      <th>Control_AAACGAATCCATCGAA-1</th>\n",
       "      <td>0_8</td>\n",
       "      <td>MPP/CMP/GMP C</td>\n",
       "      <td>Control</td>\n",
       "      <td>0</td>\n",
       "    </tr>\n",
       "    <tr>\n",
       "      <th>...</th>\n",
       "      <td>...</td>\n",
       "      <td>...</td>\n",
       "      <td>...</td>\n",
       "      <td>...</td>\n",
       "    </tr>\n",
       "    <tr>\n",
       "      <th>Input_TTTGTGTGTAGGGTCA-1</th>\n",
       "      <td>0_5</td>\n",
       "      <td>MPP/CMP/GMP B</td>\n",
       "      <td>Input</td>\n",
       "      <td>0</td>\n",
       "    </tr>\n",
       "    <tr>\n",
       "      <th>Input_TTTGTGTGTTTCTTAC-1</th>\n",
       "      <td>0_11</td>\n",
       "      <td>MPP/CMP/GMP B</td>\n",
       "      <td>Input</td>\n",
       "      <td>0</td>\n",
       "    </tr>\n",
       "    <tr>\n",
       "      <th>Input_TTTGTGTTCCTGAAAC-1</th>\n",
       "      <td>0_7</td>\n",
       "      <td>MEP</td>\n",
       "      <td>Input</td>\n",
       "      <td>0</td>\n",
       "    </tr>\n",
       "    <tr>\n",
       "      <th>Input_TTTGTGTTCGGGAAAC-1</th>\n",
       "      <td>0_25</td>\n",
       "      <td>MPP/CMP/GMP B</td>\n",
       "      <td>Input</td>\n",
       "      <td>0</td>\n",
       "    </tr>\n",
       "    <tr>\n",
       "      <th>Input_TTTGTGTTCTGGCACG-1</th>\n",
       "      <td>0_15</td>\n",
       "      <td>MPP/CMP/GMP B</td>\n",
       "      <td>Input</td>\n",
       "      <td>0</td>\n",
       "    </tr>\n",
       "  </tbody>\n",
       "</table>\n",
       "<p>8660 rows × 4 columns</p>\n",
       "</div>"
      ],
      "text/plain": [
       "                           cloneID      clusterID condition  donor\n",
       "Control_AAACGAAAGCGAGAAA-1    0_27  MPP/CMP/GMP C   Control      0\n",
       "Control_AAACGAAAGTACAGAT-1     0_4      erythroid   Control      0\n",
       "Control_AAACGAACACTCGCAG-1     0_3     neutrophil   Control      0\n",
       "Control_AAACGAATCAGGCGCT-1    0_23     macrophage   Control      0\n",
       "Control_AAACGAATCCATCGAA-1     0_8  MPP/CMP/GMP C   Control      0\n",
       "...                            ...            ...       ...    ...\n",
       "Input_TTTGTGTGTAGGGTCA-1       0_5  MPP/CMP/GMP B     Input      0\n",
       "Input_TTTGTGTGTTTCTTAC-1      0_11  MPP/CMP/GMP B     Input      0\n",
       "Input_TTTGTGTTCCTGAAAC-1       0_7            MEP     Input      0\n",
       "Input_TTTGTGTTCGGGAAAC-1      0_25  MPP/CMP/GMP B     Input      0\n",
       "Input_TTTGTGTTCTGGCACG-1      0_15  MPP/CMP/GMP B     Input      0\n",
       "\n",
       "[8660 rows x 4 columns]"
      ]
     },
     "execution_count": 5,
     "metadata": {},
     "output_type": "execute_result"
    }
   ],
   "source": [
    "cells_meta = pd.read_csv(cells_meta_f,sep=\"\\t\", index_col=0)\n",
    "cells_meta"
   ]
  },
  {
   "cell_type": "markdown",
   "id": "09974b64",
   "metadata": {},
   "source": [
    "## Filter for clone"
   ]
  },
  {
   "cell_type": "code",
   "execution_count": 6,
   "id": "5dd14624",
   "metadata": {
    "scrolled": false
   },
   "outputs": [
    {
     "data": {
      "text/plain": [
       "clusterID\n",
       "CLP               177\n",
       "DC                199\n",
       "MEP               310\n",
       "MPP/CMP/GMP       968\n",
       "MPP/CMP/GMP B    1353\n",
       "MPP/CMP/GMP C     554\n",
       "MPP/CMP/GMP D     182\n",
       "eosonophil        692\n",
       "erythroid         483\n",
       "macrophage       1183\n",
       "meg/erythroid     564\n",
       "monocyte          382\n",
       "neutrophil       1085\n",
       "neutrophil B      487\n",
       "dtype: int64"
      ]
     },
     "execution_count": 6,
     "metadata": {},
     "output_type": "execute_result"
    }
   ],
   "source": [
    "norm_condition = cells_meta.groupby(\"condition\").size()\n",
    "norm_condition\n",
    "\n",
    "norm_lineage = cells_meta.groupby(\"clusterID\").size()\n",
    "norm_lineage"
   ]
  },
  {
   "cell_type": "code",
   "execution_count": 7,
   "id": "f18ef4d4",
   "metadata": {
    "scrolled": true
   },
   "outputs": [],
   "source": [
    "# for clone_id, curr_cells in cells_meta.groupby(\"cloneID\"):\n",
    "#     print(clone_id)\n",
    "\n",
    "#     curr_dir = join(outdir, f\"cloneID_{clone_id}\")\n",
    "#     if not exists(curr_dir):\n",
    "#         os.mkdir(curr_dir)\n",
    "        \n",
    "#     f, ax = plt.subplots(figsize=(12,12), dpi=300)\n",
    "\n",
    "#     curr_cells_group = curr_cells.groupby([\"clusterID\", \"condition\"]).size().reset_index().pivot(index=\"clusterID\", columns=\"condition\", values=0).fillna(0)\n",
    "#     curr_cells_group.plot.bar(stacked=True, ax=ax)\n",
    "#     plt.savefig(join(curr_dir, \"cluster_condition_ncells.pdf\"))\n",
    "#     f, ax = plt.subplots(figsize=(12,12), dpi=300)\n",
    "#     curr_cells_group_norm = curr_cells_group.apply(lambda x: x/norm_condition.loc[x.name], axis=0)\n",
    "#     curr_cells_group_norm.plot.bar(stacked=True, ax=ax)\n",
    "#     plt.savefig(join(curr_dir, \"cluster_condition_ncells_norm.pdf\"))\n",
    "    \n",
    "#     f, ax = plt.subplots(figsize=(12,12), dpi=300)\n",
    "#     curr_cells_lineage_group = curr_cells.groupby([\"clusterID\", \"condition\"]).size().reset_index().pivot(columns=\"clusterID\", index=\"condition\", values=0).fillna(0)\n",
    "#     curr_cells_group_norm = curr_cells_lineage_group.apply(lambda x: x/norm_lineage.loc[x.name], axis=0)\n",
    "#     curr_cells_lineage_group.plot.bar(stacked=True, ax=ax)\n",
    "#     plt.savefig(join(curr_dir, \"cluster_lineage_splitCondition_ncells_norm.pdf\"))\n",
    "#     plt.close('all')"
   ]
  },
  {
   "cell_type": "code",
   "execution_count": 7,
   "id": "039320e5",
   "metadata": {},
   "outputs": [
    {
     "data": {
      "text/html": [
       "<div>\n",
       "<style scoped>\n",
       "    .dataframe tbody tr th:only-of-type {\n",
       "        vertical-align: middle;\n",
       "    }\n",
       "\n",
       "    .dataframe tbody tr th {\n",
       "        vertical-align: top;\n",
       "    }\n",
       "\n",
       "    .dataframe thead th {\n",
       "        text-align: right;\n",
       "    }\n",
       "</style>\n",
       "<table border=\"1\" class=\"dataframe\">\n",
       "  <thead>\n",
       "    <tr style=\"text-align: right;\">\n",
       "      <th></th>\n",
       "      <th>cloneID</th>\n",
       "      <th>clusterID</th>\n",
       "      <th>condition</th>\n",
       "      <th>donor</th>\n",
       "    </tr>\n",
       "  </thead>\n",
       "  <tbody>\n",
       "    <tr>\n",
       "      <th>Control_AAACGAAAGTACAGAT-1</th>\n",
       "      <td>0_4</td>\n",
       "      <td>erythroid</td>\n",
       "      <td>Control</td>\n",
       "      <td>0</td>\n",
       "    </tr>\n",
       "    <tr>\n",
       "      <th>Control_AAACGAACACTCGCAG-1</th>\n",
       "      <td>0_3</td>\n",
       "      <td>neutrophil</td>\n",
       "      <td>Control</td>\n",
       "      <td>0</td>\n",
       "    </tr>\n",
       "    <tr>\n",
       "      <th>Control_AAACGAATCCATCGAA-1</th>\n",
       "      <td>0_8</td>\n",
       "      <td>MPP/CMP/GMP C</td>\n",
       "      <td>Control</td>\n",
       "      <td>0</td>\n",
       "    </tr>\n",
       "    <tr>\n",
       "      <th>Control_AAACGAATCTCGTAGA-1</th>\n",
       "      <td>0_3</td>\n",
       "      <td>erythroid</td>\n",
       "      <td>Control</td>\n",
       "      <td>0</td>\n",
       "    </tr>\n",
       "    <tr>\n",
       "      <th>Control_AAACTCGAGTGAAGGA-1</th>\n",
       "      <td>0_1</td>\n",
       "      <td>monocyte</td>\n",
       "      <td>Control</td>\n",
       "      <td>0</td>\n",
       "    </tr>\n",
       "    <tr>\n",
       "      <th>...</th>\n",
       "      <td>...</td>\n",
       "      <td>...</td>\n",
       "      <td>...</td>\n",
       "      <td>...</td>\n",
       "    </tr>\n",
       "    <tr>\n",
       "      <th>Input_TTTGGTTTCCAGCACG-1</th>\n",
       "      <td>0_5</td>\n",
       "      <td>MEP</td>\n",
       "      <td>Input</td>\n",
       "      <td>0</td>\n",
       "    </tr>\n",
       "    <tr>\n",
       "      <th>Input_TTTGTGTAGTTCGTTG-1</th>\n",
       "      <td>0_0</td>\n",
       "      <td>MPP/CMP/GMP</td>\n",
       "      <td>Input</td>\n",
       "      <td>0</td>\n",
       "    </tr>\n",
       "    <tr>\n",
       "      <th>Input_TTTGTGTCACACATTG-1</th>\n",
       "      <td>0_2</td>\n",
       "      <td>MPP/CMP/GMP B</td>\n",
       "      <td>Input</td>\n",
       "      <td>0</td>\n",
       "    </tr>\n",
       "    <tr>\n",
       "      <th>Input_TTTGTGTGTAGGGTCA-1</th>\n",
       "      <td>0_5</td>\n",
       "      <td>MPP/CMP/GMP B</td>\n",
       "      <td>Input</td>\n",
       "      <td>0</td>\n",
       "    </tr>\n",
       "    <tr>\n",
       "      <th>Input_TTTGTGTTCCTGAAAC-1</th>\n",
       "      <td>0_7</td>\n",
       "      <td>MEP</td>\n",
       "      <td>Input</td>\n",
       "      <td>0</td>\n",
       "    </tr>\n",
       "  </tbody>\n",
       "</table>\n",
       "<p>4486 rows × 4 columns</p>\n",
       "</div>"
      ],
      "text/plain": [
       "                           cloneID      clusterID condition  donor\n",
       "Control_AAACGAAAGTACAGAT-1     0_4      erythroid   Control      0\n",
       "Control_AAACGAACACTCGCAG-1     0_3     neutrophil   Control      0\n",
       "Control_AAACGAATCCATCGAA-1     0_8  MPP/CMP/GMP C   Control      0\n",
       "Control_AAACGAATCTCGTAGA-1     0_3      erythroid   Control      0\n",
       "Control_AAACTCGAGTGAAGGA-1     0_1       monocyte   Control      0\n",
       "...                            ...            ...       ...    ...\n",
       "Input_TTTGGTTTCCAGCACG-1       0_5            MEP     Input      0\n",
       "Input_TTTGTGTAGTTCGTTG-1       0_0    MPP/CMP/GMP     Input      0\n",
       "Input_TTTGTGTCACACATTG-1       0_2  MPP/CMP/GMP B     Input      0\n",
       "Input_TTTGTGTGTAGGGTCA-1       0_5  MPP/CMP/GMP B     Input      0\n",
       "Input_TTTGTGTTCCTGAAAC-1       0_7            MEP     Input      0\n",
       "\n",
       "[4486 rows x 4 columns]"
      ]
     },
     "execution_count": 7,
     "metadata": {},
     "output_type": "execute_result"
    }
   ],
   "source": [
    "top_cells_meta = cells_meta[cells_meta[\"cloneID\"].isin(top_clones)]\n",
    "top_cells_meta"
   ]
  },
  {
   "cell_type": "code",
   "execution_count": 8,
   "id": "064958ba",
   "metadata": {},
   "outputs": [],
   "source": [
    "def plot_bar(data, **kwargs):\n",
    "    f_df = data.pivot(index=\"clusterID\", columns=\"condition\", values=0).fillna(0)\n",
    "    f_df.plot.bar(stacked=True, ax=plt.gca())\n",
    "    return"
   ]
  },
  {
   "cell_type": "code",
   "execution_count": 9,
   "id": "45beac08",
   "metadata": {},
   "outputs": [
    {
     "data": {
      "text/plain": [
       "array(['0_0', '0_1', '0_2', '0_3', '0_4', '0_6', '0_5', '0_7', '0_9',\n",
       "       '0_8'], dtype=object)"
      ]
     },
     "execution_count": 9,
     "metadata": {},
     "output_type": "execute_result"
    }
   ],
   "source": [
    "top_clones"
   ]
  },
  {
   "cell_type": "code",
   "execution_count": 10,
   "id": "580f1dc8",
   "metadata": {
    "scrolled": true
   },
   "outputs": [
    {
     "data": {
      "text/plain": [
       "<matplotlib.legend.Legend at 0x7fcab32a7f90>"
      ]
     },
     "execution_count": 10,
     "metadata": {},
     "output_type": "execute_result"
    },
    {
     "data": {
      "image/png": "[encoded data removed]",
      "text/plain": [
       "<Figure size 576x2880 with 10 Axes>"
      ]
     },
     "metadata": {
      "needs_background": "light"
     },
     "output_type": "display_data"
    }
   ],
   "source": [
    "curr_cells_group = top_cells_meta.groupby([\"clusterID\", \"cloneID\", \"condition\"]).size().reset_index()\n",
    "curr_cells_group\n",
    "\n",
    "g = sns.FacetGrid(data=curr_cells_group, col=\"cloneID\", col_order=top_clones, \n",
    "                  col_wrap=1, height=4, aspect=2)\n",
    "\n",
    "g.map_dataframe(plot_bar, axis=1)\n",
    "\n",
    "#              height=4*top_clones, width=2*4*top_clones\n",
    "#.pivot(index=\"clusterID\", columns=\"condition\", values=0).fillna(0)\n",
    "# curr_cells_group.plot.bar(stacked=True, ax=ax)\n",
    "plt.legend(loc='best')\n",
    "g.fig.savefig(fname=join(outdir, f\"top_cluster_condition_ncells.svg\"), dpi=500, bbox_inches='tight', pad_inches=0.5)\n",
    "g.fig.savefig(fname=join(outdir, f\"top_cluster_condition_ncells.pdf\"), dpi=500, bbox_inches='tight', pad_inches=0.5)\n"
   ]
  },
  {
   "cell_type": "code",
   "execution_count": 1,
   "id": "7948c429",
   "metadata": {},
   "outputs": [
    {
     "ename": "NameError",
     "evalue": "name 'outdir' is not defined",
     "output_type": "error",
     "traceback": [
      "\u001b[0;31m---------------------------------------------------------------------------\u001b[0m",
      "\u001b[0;31mNameError\u001b[0m                                 Traceback (most recent call last)",
      "\u001b[0;32m/tmp/ipykernel_1350248/1986102475.py\u001b[0m in \u001b[0;36m<module>\u001b[0;34m\u001b[0m\n\u001b[0;32m----> 1\u001b[0;31m \u001b[0mprint\u001b[0m\u001b[0;34m(\u001b[0m\u001b[0moutdir\u001b[0m\u001b[0;34m)\u001b[0m\u001b[0;34m\u001b[0m\u001b[0;34m\u001b[0m\u001b[0m\n\u001b[0m",
      "\u001b[0;31mNameError\u001b[0m: name 'outdir' is not defined"
     ]
    }
   ],
   "source": [
    "print(outdir)"
   ]
  },
  {
   "cell_type": "code",
   "execution_count": 6,
   "id": "aff4b6dc",
   "metadata": {
    "scrolled": true
   },
   "outputs": [
    {
     "name": "stdout",
     "output_type": "stream",
     "text": [
      "0_C0\n",
      "0_C1\n",
      "0_C2\n",
      "0_C3\n",
      "0_C4\n",
      "0_C5\n",
      "0_C6\n",
      "0_C7\n",
      "0_C8\n",
      "0_C9\n"
     ]
    }
   ],
   "source": [
    "# for clone_id, curr_cells in cells_meta.groupby(\"cloneID\"):\n",
    "#     print(clone_id)\n",
    "\n",
    "#     curr_dir = join(outdir, f\"cloneID_{clone_id}\")\n",
    "#     if not exists(curr_dir):\n",
    "#         os.mkdir(curr_dir)\n",
    "        \n",
    "#     f, ax = plt.subplots(figsize=(12,12), dpi=300)\n",
    "\n",
    "#     curr_cells_group = curr_cells.groupby([\"clusterID\", \"condition\"]).size().reset_index().pivot(index=\"clusterID\", columns=\"condition\", values=0).fillna(0)\n",
    "#     curr_cells_group.plot.bar(stacked=True, ax=ax)\n",
    "#     plt.savefig(join(curr_dir, \"cluster_condition_ncells.pdf\"))\n",
    "#     f, ax = plt.subplots(figsize=(12,12), dpi=300)\n",
    "#     curr_cells_group_norm = curr_cells_group.apply(lambda x: x/norm_condition.loc[x.name], axis=0)\n",
    "#     curr_cells_group_norm.plot.bar(stacked=True, ax=ax)\n",
    "#     plt.savefig(join(curr_dir, \"cluster_condition_ncells_norm.pdf\"))\n",
    "    \n",
    "#     f, ax = plt.subplots(figsize=(12,12), dpi=300)\n",
    "#     curr_cells_lineage_group = curr_cells.groupby([\"clusterID\", \"condition\"]).size().reset_index().pivot(columns=\"clusterID\", index=\"condition\", values=0).fillna(0)\n",
    "#     curr_cells_group_norm = curr_cells_lineage_group.apply(lambda x: x/norm_lineage.loc[x.name], axis=0)\n",
    "#     curr_cells_lineage_group.plot.bar(stacked=True, ax=ax)\n",
    "#     plt.savefig(join(curr_dir, \"cluster_lineage_splitCondition_ncells_norm.pdf\"))\n",
    "#     plt.close('all')"
   ]
  },
  {
   "cell_type": "code",
   "execution_count": null,
   "id": "214468a1",
   "metadata": {},
   "outputs": [],
   "source": []
  }
 ],
 "metadata": {
  "celltoolbar": "Tags",
  "kernelspec": {
   "display_name": "Python 3 (ipykernel)",
   "language": "python",
   "name": "python3"
  },
  "language_info": {
   "codemirror_mode": {
    "name": "ipython",
    "version": 3
   },
   "file_extension": ".py",
   "mimetype": "text/x-python",
   "name": "python",
   "nbconvert_exporter": "python",
   "pygments_lexer": "ipython3",
   "version": "3.7.12"
  }
 },
 "nbformat": 4,
 "nbformat_minor": 5
}
