{
 "cells": [
  {
   "cell_type": "code",
   "execution_count": 1,
   "id": "57a92ea7",
   "metadata": {
    "tags": [
     "parameters"
    ]
   },
   "outputs": [],
   "source": [
    "cells_meta_f = \"/data/Mito_Trace/output/pipeline/v04/CHIP_b1/MTBlacklist_A2/data/merged/MT/cellr_True/numread_200/filters/minC10_minR50_topN0_hetT0.001_hetC10_hetCount5_bq20/mgatk/vireoIn/enriched_barcodes/objs_standard_constraints_min_both_pct_0.5/single_clones/donor0/cloneMethod_variants_prefilterMerge_impute_knn_resolution_30/clonalShift_method_clones/cells_meta.tsv\"\n",
    "outdir = \"/data/Mito_Trace/output/pipeline/v04/CHIP_b1/MTBlacklist_A2/data/merged/MT/cellr_True/numread_200/filters/minC10_minR50_topN0_hetT0.001_hetC10_hetCount5_bq20/mgatk/vireoIn/enriched_barcodes/objs_standard_constraints_min_both_pct_0.5/single_clones/donor0/cloneMethod_variants_prefilterMerge_impute_knn_resolution_30/clonalShift_method_clones/top/scrap\"\n",
    "\n",
    "clone_order_f = \"/data/Mito_Trace/output/pipeline/v04/CHIP_b1/MTBlacklist_A2/data/merged/MT/cellr_True/numread_200/filters/minC10_minR50_topN0_hetT0.001_hetC10_hetCount5_bq20/mgatk/vireoIn/enriched_barcodes/objs_standard_constraints_min_both_pct_0.5/single_clones/donor0/cloneMethod_variants_prefilterMerge_impute_knn_resolution_30/clonalShift_method_clones/clones_ranked/representative_cloneID.txt\"\n",
    "ntop_clones = 10\n",
    "\n",
    "#cloneID = \"0_C6\""
   ]
  },
  {
   "cell_type": "code",
   "execution_count": 2,
   "id": "4b786f82",
   "metadata": {},
   "outputs": [
    {
     "name": "stdout",
     "output_type": "stream",
     "text": [
      "fig_utils from mplh\n",
      "0.5.6\n"
     ]
    }
   ],
   "source": [
    "from os.path import join, exists, dirname\n",
    "from glob import glob\n",
    "import pickle\n",
    "import mplh.cluster_help as ch\n",
    "import mplh.fig_utils as fu\n",
    "\n",
    "import os\n",
    "import vireoSNP\n",
    "import numpy as np\n",
    "from scipy import sparse\n",
    "from scipy.io import mmread\n",
    "import matplotlib.pyplot as plt\n",
    "from scipy.stats import hypergeom\n",
    "print(vireoSNP.__version__)\n",
    "\n",
    "import pandas as pd\n",
    "import seaborn as sns\n",
    "from vireoSNP import Vireo\n",
    "np.set_printoptions(formatter={'float': lambda x: format(x, '.5f')})\n",
    "\n",
    "\n",
    "plt.rcParams['svg.fonttype'] = 'none'"
   ]
  },
  {
   "cell_type": "code",
   "execution_count": 3,
   "id": "9ef3b4cb",
   "metadata": {},
   "outputs": [],
   "source": [
    "import seaborn as sns\n",
    "from mplh import cluster_help as ch"
   ]
  },
  {
   "cell_type": "code",
   "execution_count": 4,
   "id": "fed4dd46",
   "metadata": {},
   "outputs": [
    {
     "data": {
      "text/plain": [
       "array(['0_5', '0_9', '0_35', '0_24', '0_31', '0_30'], dtype=object)"
      ]
     },
     "execution_count": 4,
     "metadata": {},
     "output_type": "execute_result"
    }
   ],
   "source": [
    "clone_order = pd.read_csv(clone_order_f, header=None)[0].values\n",
    "top_clones = clone_order[:ntop_clones]\n",
    "top_clones"
   ]
  },
  {
   "cell_type": "code",
   "execution_count": 5,
   "id": "12d770d9",
   "metadata": {
    "scrolled": true
   },
   "outputs": [
    {
     "data": {
      "text/html": [
       "<div>\n",
       "<style scoped>\n",
       "    .dataframe tbody tr th:only-of-type {\n",
       "        vertical-align: middle;\n",
       "    }\n",
       "\n",
       "    .dataframe tbody tr th {\n",
       "        vertical-align: top;\n",
       "    }\n",
       "\n",
       "    .dataframe thead th {\n",
       "        text-align: right;\n",
       "    }\n",
       "</style>\n",
       "<table border=\"1\" class=\"dataframe\">\n",
       "  <thead>\n",
       "    <tr style=\"text-align: right;\">\n",
       "      <th></th>\n",
       "      <th>cloneID</th>\n",
       "      <th>clusterID</th>\n",
       "      <th>condition</th>\n",
       "      <th>donor</th>\n",
       "    </tr>\n",
       "  </thead>\n",
       "  <tbody>\n",
       "    <tr>\n",
       "      <th>Flt3l_AACGGGACAGCAACAG-1</th>\n",
       "      <td>0_17</td>\n",
       "      <td>6</td>\n",
       "      <td>Flt3l</td>\n",
       "      <td>0</td>\n",
       "    </tr>\n",
       "    <tr>\n",
       "      <th>Flt3l_AACTGGTCACTACACA-1</th>\n",
       "      <td>0_28</td>\n",
       "      <td>4</td>\n",
       "      <td>Flt3l</td>\n",
       "      <td>0</td>\n",
       "    </tr>\n",
       "    <tr>\n",
       "      <th>Flt3l_AAGGTTCGTTACGGAG-1</th>\n",
       "      <td>0_32</td>\n",
       "      <td>1</td>\n",
       "      <td>Flt3l</td>\n",
       "      <td>0</td>\n",
       "    </tr>\n",
       "    <tr>\n",
       "      <th>Flt3l_AATACGCTCCAATCCC-1</th>\n",
       "      <td>0_21</td>\n",
       "      <td>1</td>\n",
       "      <td>Flt3l</td>\n",
       "      <td>0</td>\n",
       "    </tr>\n",
       "    <tr>\n",
       "      <th>Flt3l_AATGTCGAGAAGGGCG-1</th>\n",
       "      <td>0_9</td>\n",
       "      <td>3</td>\n",
       "      <td>Flt3l</td>\n",
       "      <td>0</td>\n",
       "    </tr>\n",
       "    <tr>\n",
       "      <th>...</th>\n",
       "      <td>...</td>\n",
       "      <td>...</td>\n",
       "      <td>...</td>\n",
       "      <td>...</td>\n",
       "    </tr>\n",
       "    <tr>\n",
       "      <th>Input_TTTGTGTCACACATTG-1</th>\n",
       "      <td>0_14</td>\n",
       "      <td>0</td>\n",
       "      <td>Input</td>\n",
       "      <td>0</td>\n",
       "    </tr>\n",
       "    <tr>\n",
       "      <th>Input_TTTGTGTGTAAGCCGA-1</th>\n",
       "      <td>0_21</td>\n",
       "      <td>0</td>\n",
       "      <td>Input</td>\n",
       "      <td>0</td>\n",
       "    </tr>\n",
       "    <tr>\n",
       "      <th>Input_TTTGTGTGTAGGGTCA-1</th>\n",
       "      <td>0_26</td>\n",
       "      <td>0</td>\n",
       "      <td>Input</td>\n",
       "      <td>0</td>\n",
       "    </tr>\n",
       "    <tr>\n",
       "      <th>Input_TTTGTGTTCCTGAAAC-1</th>\n",
       "      <td>0_27</td>\n",
       "      <td>7</td>\n",
       "      <td>Input</td>\n",
       "      <td>0</td>\n",
       "    </tr>\n",
       "    <tr>\n",
       "      <th>Input_TTTGTGTTCGGGAAAC-1</th>\n",
       "      <td>0_19</td>\n",
       "      <td>0</td>\n",
       "      <td>Input</td>\n",
       "      <td>0</td>\n",
       "    </tr>\n",
       "  </tbody>\n",
       "</table>\n",
       "<p>1449 rows × 4 columns</p>\n",
       "</div>"
      ],
      "text/plain": [
       "                         cloneID  clusterID condition  donor\n",
       "Flt3l_AACGGGACAGCAACAG-1    0_17          6     Flt3l      0\n",
       "Flt3l_AACTGGTCACTACACA-1    0_28          4     Flt3l      0\n",
       "Flt3l_AAGGTTCGTTACGGAG-1    0_32          1     Flt3l      0\n",
       "Flt3l_AATACGCTCCAATCCC-1    0_21          1     Flt3l      0\n",
       "Flt3l_AATGTCGAGAAGGGCG-1     0_9          3     Flt3l      0\n",
       "...                          ...        ...       ...    ...\n",
       "Input_TTTGTGTCACACATTG-1    0_14          0     Input      0\n",
       "Input_TTTGTGTGTAAGCCGA-1    0_21          0     Input      0\n",
       "Input_TTTGTGTGTAGGGTCA-1    0_26          0     Input      0\n",
       "Input_TTTGTGTTCCTGAAAC-1    0_27          7     Input      0\n",
       "Input_TTTGTGTTCGGGAAAC-1    0_19          0     Input      0\n",
       "\n",
       "[1449 rows x 4 columns]"
      ]
     },
     "execution_count": 5,
     "metadata": {},
     "output_type": "execute_result"
    }
   ],
   "source": [
    "cells_meta = pd.read_csv(cells_meta_f,sep=\"\\t\", index_col=0)\n",
    "cells_meta"
   ]
  },
  {
   "cell_type": "markdown",
   "id": "09974b64",
   "metadata": {},
   "source": [
    "## Filter for clone"
   ]
  },
  {
   "cell_type": "code",
   "execution_count": 6,
   "id": "5dd14624",
   "metadata": {
    "scrolled": false
   },
   "outputs": [
    {
     "data": {
      "text/plain": [
       "clusterID\n",
       "0     617\n",
       "1      44\n",
       "2     362\n",
       "3      46\n",
       "4      13\n",
       "5      51\n",
       "6      43\n",
       "7     132\n",
       "8       7\n",
       "9      14\n",
       "10     56\n",
       "11     64\n",
       "dtype: int64"
      ]
     },
     "execution_count": 6,
     "metadata": {},
     "output_type": "execute_result"
    }
   ],
   "source": [
    "norm_condition = cells_meta.groupby(\"condition\").size()\n",
    "norm_condition\n",
    "\n",
    "norm_lineage = cells_meta.groupby(\"clusterID\").size()\n",
    "norm_lineage"
   ]
  },
  {
   "cell_type": "code",
   "execution_count": 7,
   "id": "f18ef4d4",
   "metadata": {
    "scrolled": true
   },
   "outputs": [],
   "source": [
    "# for clone_id, curr_cells in cells_meta.groupby(\"cloneID\"):\n",
    "#     print(clone_id)\n",
    "\n",
    "#     curr_dir = join(outdir, f\"cloneID_{clone_id}\")\n",
    "#     if not exists(curr_dir):\n",
    "#         os.mkdir(curr_dir)\n",
    "        \n",
    "#     f, ax = plt.subplots(figsize=(12,12), dpi=300)\n",
    "\n",
    "#     curr_cells_group = curr_cells.groupby([\"clusterID\", \"condition\"]).size().reset_index().pivot(index=\"clusterID\", columns=\"condition\", values=0).fillna(0)\n",
    "#     curr_cells_group.plot.bar(stacked=True, ax=ax)\n",
    "#     plt.savefig(join(curr_dir, \"cluster_condition_ncells.pdf\"))\n",
    "#     f, ax = plt.subplots(figsize=(12,12), dpi=300)\n",
    "#     curr_cells_group_norm = curr_cells_group.apply(lambda x: x/norm_condition.loc[x.name], axis=0)\n",
    "#     curr_cells_group_norm.plot.bar(stacked=True, ax=ax)\n",
    "#     plt.savefig(join(curr_dir, \"cluster_condition_ncells_norm.pdf\"))\n",
    "    \n",
    "#     f, ax = plt.subplots(figsize=(12,12), dpi=300)\n",
    "#     curr_cells_lineage_group = curr_cells.groupby([\"clusterID\", \"condition\"]).size().reset_index().pivot(columns=\"clusterID\", index=\"condition\", values=0).fillna(0)\n",
    "#     curr_cells_group_norm = curr_cells_lineage_group.apply(lambda x: x/norm_lineage.loc[x.name], axis=0)\n",
    "#     curr_cells_lineage_group.plot.bar(stacked=True, ax=ax)\n",
    "#     plt.savefig(join(curr_dir, \"cluster_lineage_splitCondition_ncells_norm.pdf\"))\n",
    "#     plt.close('all')"
   ]
  },
  {
   "cell_type": "code",
   "execution_count": 8,
   "id": "8b5a870f",
   "metadata": {},
   "outputs": [
    {
     "data": {
      "text/html": [
       "<div>\n",
       "<style scoped>\n",
       "    .dataframe tbody tr th:only-of-type {\n",
       "        vertical-align: middle;\n",
       "    }\n",
       "\n",
       "    .dataframe tbody tr th {\n",
       "        vertical-align: top;\n",
       "    }\n",
       "\n",
       "    .dataframe thead th {\n",
       "        text-align: right;\n",
       "    }\n",
       "</style>\n",
       "<table border=\"1\" class=\"dataframe\">\n",
       "  <thead>\n",
       "    <tr style=\"text-align: right;\">\n",
       "      <th></th>\n",
       "      <th>cloneID</th>\n",
       "      <th>clusterID</th>\n",
       "      <th>condition</th>\n",
       "      <th>donor</th>\n",
       "    </tr>\n",
       "  </thead>\n",
       "  <tbody>\n",
       "    <tr>\n",
       "      <th>Flt3l_AATGTCGAGAAGGGCG-1</th>\n",
       "      <td>0_9</td>\n",
       "      <td>3</td>\n",
       "      <td>Flt3l</td>\n",
       "      <td>0</td>\n",
       "    </tr>\n",
       "    <tr>\n",
       "      <th>Flt3l_ACAGCGCTCCAGGGAA-1</th>\n",
       "      <td>0_30</td>\n",
       "      <td>4</td>\n",
       "      <td>Flt3l</td>\n",
       "      <td>0</td>\n",
       "    </tr>\n",
       "    <tr>\n",
       "      <th>Flt3l_AGTCCGGGTGGTGGTA-1</th>\n",
       "      <td>0_31</td>\n",
       "      <td>4</td>\n",
       "      <td>Flt3l</td>\n",
       "      <td>0</td>\n",
       "    </tr>\n",
       "    <tr>\n",
       "      <th>Flt3l_AGTGCGCTCTTCAGAG-1</th>\n",
       "      <td>0_30</td>\n",
       "      <td>1</td>\n",
       "      <td>Flt3l</td>\n",
       "      <td>0</td>\n",
       "    </tr>\n",
       "    <tr>\n",
       "      <th>Flt3l_ATAGGCTGTACAAGCG-1</th>\n",
       "      <td>0_31</td>\n",
       "      <td>3</td>\n",
       "      <td>Flt3l</td>\n",
       "      <td>0</td>\n",
       "    </tr>\n",
       "    <tr>\n",
       "      <th>...</th>\n",
       "      <td>...</td>\n",
       "      <td>...</td>\n",
       "      <td>...</td>\n",
       "      <td>...</td>\n",
       "    </tr>\n",
       "    <tr>\n",
       "      <th>Input_TTTGGCCAGATCGATA-1</th>\n",
       "      <td>0_31</td>\n",
       "      <td>0</td>\n",
       "      <td>Input</td>\n",
       "      <td>0</td>\n",
       "    </tr>\n",
       "    <tr>\n",
       "      <th>Input_TTTGGTTCATGGCCCA-1</th>\n",
       "      <td>0_9</td>\n",
       "      <td>2</td>\n",
       "      <td>Input</td>\n",
       "      <td>0</td>\n",
       "    </tr>\n",
       "    <tr>\n",
       "      <th>Input_TTTGGTTTCACTCGGG-1</th>\n",
       "      <td>0_9</td>\n",
       "      <td>2</td>\n",
       "      <td>Input</td>\n",
       "      <td>0</td>\n",
       "    </tr>\n",
       "    <tr>\n",
       "      <th>Input_TTTGGTTTCGGGAAAC-1</th>\n",
       "      <td>0_5</td>\n",
       "      <td>0</td>\n",
       "      <td>Input</td>\n",
       "      <td>0</td>\n",
       "    </tr>\n",
       "    <tr>\n",
       "      <th>Input_TTTGGTTTCTGAGTCA-1</th>\n",
       "      <td>0_31</td>\n",
       "      <td>0</td>\n",
       "      <td>Input</td>\n",
       "      <td>0</td>\n",
       "    </tr>\n",
       "  </tbody>\n",
       "</table>\n",
       "<p>453 rows × 4 columns</p>\n",
       "</div>"
      ],
      "text/plain": [
       "                         cloneID  clusterID condition  donor\n",
       "Flt3l_AATGTCGAGAAGGGCG-1     0_9          3     Flt3l      0\n",
       "Flt3l_ACAGCGCTCCAGGGAA-1    0_30          4     Flt3l      0\n",
       "Flt3l_AGTCCGGGTGGTGGTA-1    0_31          4     Flt3l      0\n",
       "Flt3l_AGTGCGCTCTTCAGAG-1    0_30          1     Flt3l      0\n",
       "Flt3l_ATAGGCTGTACAAGCG-1    0_31          3     Flt3l      0\n",
       "...                          ...        ...       ...    ...\n",
       "Input_TTTGGCCAGATCGATA-1    0_31          0     Input      0\n",
       "Input_TTTGGTTCATGGCCCA-1     0_9          2     Input      0\n",
       "Input_TTTGGTTTCACTCGGG-1     0_9          2     Input      0\n",
       "Input_TTTGGTTTCGGGAAAC-1     0_5          0     Input      0\n",
       "Input_TTTGGTTTCTGAGTCA-1    0_31          0     Input      0\n",
       "\n",
       "[453 rows x 4 columns]"
      ]
     },
     "execution_count": 8,
     "metadata": {},
     "output_type": "execute_result"
    }
   ],
   "source": [
    "if \"cloneID\" not in cells_meta.columns:\n",
    "    # cell can have multiple entries if contains multiple variants\n",
    "    print(\"MT variants\")\n",
    "    cells_meta.columns = [x.replace(\"cloneID_\", \"\") for x in cells_meta.columns]\n",
    "    cells_meta = cells_meta.reset_index().melt(id_vars=[\"index\", \"donor\", \"clusterID\", \"condition\"], \n",
    "                                               value_name=\"inClust\", var_name=\"cloneID\")\n",
    "    cells_meta = cells_meta[cells_meta[\"inClust\"]==1]\n",
    "    top_cells_meta = cells_meta[cells_meta[\"cloneID\"].isin(top_clones)]\n",
    "    top_cells_meta\n",
    "else:\n",
    "    top_cells_meta = cells_meta[cells_meta[\"cloneID\"].isin(top_clones)]\n",
    "top_cells_meta\n",
    "\n",
    "# top_cells_meta = cells_meta[cells_meta[\"cloneID\"].isin(top_clones)]\n",
    "# top_cells_meta"
   ]
  },
  {
   "cell_type": "code",
   "execution_count": 9,
   "id": "79a07b60",
   "metadata": {},
   "outputs": [
    {
     "data": {
      "text/plain": [
       "{'Flt3l': (0.2823529411764706, 0.47058823529411764, 0.8156862745098039),\n",
       " 'Input': (0.9333333333333333, 0.5215686274509804, 0.2901960784313726)}"
      ]
     },
     "execution_count": 9,
     "metadata": {},
     "output_type": "execute_result"
    }
   ],
   "source": [
    "# Get color map for the conditions. Needed to keep consistency across clones\n",
    "conds = top_cells_meta[\"condition\" ].unique()\n",
    "colors = list(sns.color_palette(\"muted\", len(conds)))\n",
    "color_map = {val: colors[ind] for ind, val in enumerate(conds)}\n",
    "color_map"
   ]
  },
  {
   "cell_type": "code",
   "execution_count": 10,
   "id": "064958ba",
   "metadata": {},
   "outputs": [],
   "source": [
    "def plot_bar(data, **kwargs):\n",
    "    f_df = data.pivot(index=\"clusterID\", columns=\"condition\", values=0).fillna(0)\n",
    "    f_df.plot.bar(stacked=True, ax=plt.gca(), color=color_map)\n",
    "    return"
   ]
  },
  {
   "cell_type": "code",
   "execution_count": 11,
   "id": "580f1dc8",
   "metadata": {
    "scrolled": false
   },
   "outputs": [
    {
     "data": {
      "image/png": "[encoded data removed]",
      "text/plain": [
       "<Figure size 576x1728 with 6 Axes>"
      ]
     },
     "metadata": {
      "needs_background": "light"
     },
     "output_type": "display_data"
    }
   ],
   "source": [
    "curr_cells_group = top_cells_meta.groupby([\"clusterID\", \"cloneID\", \"condition\"]).size().reset_index()\n",
    "\n",
    "\n",
    "g = sns.FacetGrid(data=curr_cells_group, col=\"cloneID\", col_order=top_clones, \n",
    "                  col_wrap=1, height=4, aspect=2)\n",
    "\n",
    "g.map_dataframe(plot_bar, axis=1)\n",
    "\n",
    "#              height=4*top_clones, width=2*4*top_clones\n",
    "#.pivot(index=\"clusterID\", columns=\"condition\", values=0).fillna(0)\n",
    "# curr_cells_group.plot.bar(stacked=True, ax=ax)\n",
    "plt.legend(loc='best')\n",
    "g.fig.savefig(fname=join(outdir, f\"top_cluster_condition_ncells.svg\"), dpi=500, bbox_inches='tight', pad_inches=0.5)\n",
    "g.fig.savefig(fname=join(outdir, f\"top_cluster_condition_ncells.pdf\"), dpi=500, bbox_inches='tight', pad_inches=0.5)\n"
   ]
  },
  {
   "cell_type": "code",
   "execution_count": null,
   "id": "214468a1",
   "metadata": {},
   "outputs": [],
   "source": []
  }
 ],
 "metadata": {
  "celltoolbar": "Tags",
  "kernelspec": {
   "display_name": "Python 3 (ipykernel)",
   "language": "python",
   "name": "python3"
  },
  "language_info": {
   "codemirror_mode": {
    "name": "ipython",
    "version": 3
   },
   "file_extension": ".py",
   "mimetype": "text/x-python",
   "name": "python",
   "nbconvert_exporter": "python",
   "pygments_lexer": "ipython3",
   "version": "3.7.12"
  }
 },
 "nbformat": 4,
 "nbformat_minor": 5
}
