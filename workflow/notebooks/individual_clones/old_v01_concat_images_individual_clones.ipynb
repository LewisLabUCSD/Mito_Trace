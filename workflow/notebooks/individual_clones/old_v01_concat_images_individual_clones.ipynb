{
 "cells": [
  {
   "cell_type": "code",
   "execution_count": 1,
   "id": "57a92ea7",
   "metadata": {},
   "outputs": [],
   "source": [
    "#outdir = \"/data/Mito_Trace/output/pipeline/v02/CHIP_b1/MTBlacklist_A2/data/merged/MT/cellr_True/numread_200/filters/minC10_minR50_topN0_hetT0.001_hetC10_hetCount5_bq20/mgatk/vireoIn/single_clones/donor0/cloneMethod_variants_init_knn_resolution_30/clonalShift_method_clones/single/\"\n",
    "outdir = \"/data/Mito_Trace/output/pipeline/v02/CHIP_b1/MTBlacklist_A2/data/merged/MT/cellr_True/numread_200/filters/minC10_minR50_topN0_hetT0.001_hetC10_hetCount5_bq20/mgatk/vireoIn/single_clones/donor0/cloneMethod_variants_init_knn_resolution_30/clonalShift_method_dendro_bc/top/\"\n",
    "#cloneID = \"0_C6\"\n"
   ]
  },
  {
   "cell_type": "code",
   "execution_count": 2,
   "id": "6c5d7027",
   "metadata": {},
   "outputs": [],
   "source": [
    "#outdir = \"/data/Mito_Trace/output/pipeline/v02/CHIP_b1/MTBlacklist_A2/data/merged/MT/cellr_True/numread_200/filters/minC10_minR50_topN0_hetT0.001_hetC10_hetCount5_bq20/mgatk/vireoIn/single_clones/donor0/cloneMethod_variants_init_mt_bestparams_af.0.1_othaf.0.1_cov.10_othcov.10_ncells.10_othncells.0.25_mean.0/clonalShift_method_mt_as_clones_dendro/single/\"\n"
   ]
  },
  {
   "cell_type": "code",
   "execution_count": 3,
   "id": "3e9bb291",
   "metadata": {},
   "outputs": [],
   "source": [
    "from PIL import Image"
   ]
  },
  {
   "cell_type": "code",
   "execution_count": 4,
   "id": "4b786f82",
   "metadata": {},
   "outputs": [
    {
     "name": "stdout",
     "output_type": "stream",
     "text": [
      "fig_utils from mplh\n",
      "0.5.6\n"
     ]
    }
   ],
   "source": [
    "from os.path import join, exists, dirname\n",
    "from glob import glob\n",
    "import pickle\n",
    "import mplh.cluster_help as ch\n",
    "import mplh.fig_utils as fu\n",
    "\n",
    "import os\n",
    "import vireoSNP\n",
    "import numpy as np\n",
    "from scipy import sparse\n",
    "from scipy.io import mmread\n",
    "import matplotlib.pyplot as plt\n",
    "from scipy.stats import hypergeom\n",
    "print(vireoSNP.__version__)\n",
    "\n",
    "import pandas as pd\n",
    "import seaborn as sns\n",
    "from vireoSNP import Vireo\n",
    "np.set_printoptions(formatter={'float': lambda x: format(x, '.5f')})\n",
    "\n",
    "from svgutils.compose import *\n"
   ]
  },
  {
   "cell_type": "markdown",
   "id": "bd871699",
   "metadata": {},
   "source": [
    "## Concatenate vertically each panel"
   ]
  },
  {
   "cell_type": "code",
   "execution_count": 5,
   "id": "b703c154",
   "metadata": {
    "scrolled": true
   },
   "outputs": [
    {
     "data": {
      "text/plain": [
       "['/data/Mito_Trace/output/pipeline/v02/CHIP_b1/MTBlacklist_A2/data/merged/MT/cellr_True/numread_200/filters/minC10_minR50_topN0_hetT0.001_hetC10_hetCount5_bq20/mgatk/vireoIn/single_clones/donor0/cloneMethod_variants_init_knn_resolution_30/clonalShift_method_dendro_bc/top/top_variants_distinct_pct_vs_other.svg',\n",
       " '/data/Mito_Trace/output/pipeline/v02/CHIP_b1/MTBlacklist_A2/data/merged/MT/cellr_True/numread_200/filters/minC10_minR50_topN0_hetT0.001_hetC10_hetCount5_bq20/mgatk/vireoIn/single_clones/donor0/cloneMethod_variants_init_knn_resolution_30/clonalShift_method_dendro_bc/top/top10_sig_hypergeo.svg',\n",
       " '/data/Mito_Trace/output/pipeline/v02/CHIP_b1/MTBlacklist_A2/data/merged/MT/cellr_True/numread_200/filters/minC10_minR50_topN0_hetT0.001_hetC10_hetCount5_bq20/mgatk/vireoIn/single_clones/donor0/cloneMethod_variants_init_knn_resolution_30/clonalShift_method_dendro_bc/top/top_variants_af.svg',\n",
       " '/data/Mito_Trace/output/pipeline/v02/CHIP_b1/MTBlacklist_A2/data/merged/MT/cellr_True/numread_200/filters/minC10_minR50_topN0_hetT0.001_hetC10_hetCount5_bq20/mgatk/vireoIn/single_clones/donor0/cloneMethod_variants_init_knn_resolution_30/clonalShift_method_dendro_bc/top/top_umap_clust_col.svg',\n",
       " '/data/Mito_Trace/output/pipeline/v02/CHIP_b1/MTBlacklist_A2/data/merged/MT/cellr_True/numread_200/filters/minC10_minR50_topN0_hetT0.001_hetC10_hetCount5_bq20/mgatk/vireoIn/single_clones/donor0/cloneMethod_variants_init_knn_resolution_30/clonalShift_method_dendro_bc/top/top_variants_pct_minus_other.svg',\n",
       " '/data/Mito_Trace/output/pipeline/v02/CHIP_b1/MTBlacklist_A2/data/merged/MT/cellr_True/numread_200/filters/minC10_minR50_topN0_hetT0.001_hetC10_hetCount5_bq20/mgatk/vireoIn/single_clones/donor0/cloneMethod_variants_init_knn_resolution_30/clonalShift_method_dendro_bc/top/combine.svg',\n",
       " '/data/Mito_Trace/output/pipeline/v02/CHIP_b1/MTBlacklist_A2/data/merged/MT/cellr_True/numread_200/filters/minC10_minR50_topN0_hetT0.001_hetC10_hetCount5_bq20/mgatk/vireoIn/single_clones/donor0/cloneMethod_variants_init_knn_resolution_30/clonalShift_method_dendro_bc/top/top_cluster_condition_ncells.svg',\n",
       " '/data/Mito_Trace/output/pipeline/v02/CHIP_b1/MTBlacklist_A2/data/merged/MT/cellr_True/numread_200/filters/minC10_minR50_topN0_hetT0.001_hetC10_hetCount5_bq20/mgatk/vireoIn/single_clones/donor0/cloneMethod_variants_init_knn_resolution_30/clonalShift_method_dendro_bc/top/top_variants_in_clone_af_boxen.svg']"
      ]
     },
     "execution_count": 5,
     "metadata": {},
     "output_type": "execute_result"
    }
   ],
   "source": [
    "in_imgs = glob(outdir+\"/*svg\")\n",
    "n_imgs = len(in_imgs)\n",
    "\n",
    "in_imgs"
   ]
  },
  {
   "cell_type": "code",
   "execution_count": 6,
   "id": "1518a1d9",
   "metadata": {
    "scrolled": true
   },
   "outputs": [],
   "source": [
    "# cmd = f\"gs -dNOPAUSE -sDEVICE=pdfwrite -sOUTPUTFILE=combine.pdf -dBATCH {join(outdir,'top_umap_clust_col.pdf')} {join(outdir,'top_umap_cond_col.pdf')} {join(outdir,'top_cluster_condition_ncells.pdf')}\"\n",
    "# cmd\n"
   ]
  },
  {
   "cell_type": "code",
   "execution_count": 7,
   "id": "a84556e3",
   "metadata": {},
   "outputs": [],
   "source": [
    "import svgutils.transform as sg\n",
    "import sys \n"
   ]
  },
  {
   "cell_type": "code",
   "execution_count": 9,
   "id": "eff129e1",
   "metadata": {},
   "outputs": [],
   "source": [
    "out_svg_f = join(outdir,'clone_shift_combine.svg')\n",
    "out_pdf_f = join(outdir,'clone_shift_combine.pdf')\n",
    "\n",
    "out_vars_svg_f = join(outdir,'clone_variants_combine.svg')\n",
    "out_vars_pdf_f = join(outdir,'clone_variants_combine.pdf')"
   ]
  },
  {
   "cell_type": "code",
   "execution_count": 8,
   "id": "d232da18",
   "metadata": {},
   "outputs": [],
   "source": [
    "f1_umap_clust = join(outdir,'top_umap_clust_col.svg')\n",
    "f2_umap_cond = join(outdir,'top_umap_cond_col.svg')\n",
    "f3_clone_clust = join(outdir,'top_cluster_condition_ncells.svg')\n",
    "f4_hyper = join(outdir,'top10_sig_hypergeo.svg')\n",
    "\n",
    "fvars_pct = join(outdir, \"top_variants_pct_minus_other.svg\")\n",
    "fvars_pct_minus = join(outdir, \"top_variants_pct_minus_other.svg\")\n",
    "fvars_vars_af = join(outdir, \"top_variants_af.svg\")\n",
    "fvars_vars_af_box = join(outdir, \"top_variants_in_clone_af_boxen.svg\") \n"
   ]
  },
  {
   "cell_type": "code",
   "execution_count": 17,
   "id": "cb5fee7d",
   "metadata": {
    "scrolled": false
   },
   "outputs": [
    {
     "name": "stdout",
     "output_type": "stream",
     "text": [
      "svg_stack.py --direction=h --margin=100 /data/Mito_Trace/output/pipeline/v02/CHIP_b1/MTBlacklist_A2/data/merged/MT/cellr_True/numread_200/filters/minC10_minR50_topN0_hetT0.001_hetC10_hetCount5_bq20/mgatk/vireoIn/single_clones/donor0/cloneMethod_variants_init_knn_resolution_30/clonalShift_method_dendro_bc/top/top_umap_clust_col.svg /data/Mito_Trace/output/pipeline/v02/CHIP_b1/MTBlacklist_A2/data/merged/MT/cellr_True/numread_200/filters/minC10_minR50_topN0_hetT0.001_hetC10_hetCount5_bq20/mgatk/vireoIn/single_clones/donor0/cloneMethod_variants_init_knn_resolution_30/clonalShift_method_dendro_bc/top/top_umap_cond_col.svg /data/Mito_Trace/output/pipeline/v02/CHIP_b1/MTBlacklist_A2/data/merged/MT/cellr_True/numread_200/filters/minC10_minR50_topN0_hetT0.001_hetC10_hetCount5_bq20/mgatk/vireoIn/single_clones/donor0/cloneMethod_variants_init_knn_resolution_30/clonalShift_method_dendro_bc/top/top_cluster_condition_ncells.svg /data/Mito_Trace/output/pipeline/v02/CHIP_b1/MTBlacklist_A2/data/merged/MT/cellr_True/numread_200/filters/minC10_minR50_topN0_hetT0.001_hetC10_hetCount5_bq20/mgatk/vireoIn/single_clones/donor0/cloneMethod_variants_init_knn_resolution_30/clonalShift_method_dendro_bc/top/top10_sig_hypergeo.svg > /data/Mito_Trace/output/pipeline/v02/CHIP_b1/MTBlacklist_A2/data/merged/MT/cellr_True/numread_200/filters/minC10_minR50_topN0_hetT0.001_hetC10_hetCount5_bq20/mgatk/vireoIn/single_clones/donor0/cloneMethod_variants_init_knn_resolution_30/clonalShift_method_dendro_bc/top/combine.svg\n"
     ]
    }
   ],
   "source": [
    "cmd = f\"svg_stack.py --direction=h --margin=100 {f1_umap_clust} {f2_umap_cond} {f3_clone_clust} {f4_hyper} > {out_svg_f}\"\n",
    "print(cmd)\n",
    "!{cmd}\n",
    "\n",
    "cmd=f\"inkscape --export-pdf={out_pdf_f} {out_svg_f}\"\n",
    "print(cmd)\n",
    "!{cmd}"
   ]
  },
  {
   "cell_type": "code",
   "execution_count": 17,
   "id": "d6424843",
   "metadata": {
    "scrolled": false
   },
   "outputs": [
    {
     "name": "stdout",
     "output_type": "stream",
     "text": [
      "svg_stack.py --direction=h --margin=100 /data/Mito_Trace/output/pipeline/v02/CHIP_b1/MTBlacklist_A2/data/merged/MT/cellr_True/numread_200/filters/minC10_minR50_topN0_hetT0.001_hetC10_hetCount5_bq20/mgatk/vireoIn/single_clones/donor0/cloneMethod_variants_init_knn_resolution_30/clonalShift_method_dendro_bc/top/top_umap_clust_col.svg /data/Mito_Trace/output/pipeline/v02/CHIP_b1/MTBlacklist_A2/data/merged/MT/cellr_True/numread_200/filters/minC10_minR50_topN0_hetT0.001_hetC10_hetCount5_bq20/mgatk/vireoIn/single_clones/donor0/cloneMethod_variants_init_knn_resolution_30/clonalShift_method_dendro_bc/top/top_umap_cond_col.svg /data/Mito_Trace/output/pipeline/v02/CHIP_b1/MTBlacklist_A2/data/merged/MT/cellr_True/numread_200/filters/minC10_minR50_topN0_hetT0.001_hetC10_hetCount5_bq20/mgatk/vireoIn/single_clones/donor0/cloneMethod_variants_init_knn_resolution_30/clonalShift_method_dendro_bc/top/top_cluster_condition_ncells.svg /data/Mito_Trace/output/pipeline/v02/CHIP_b1/MTBlacklist_A2/data/merged/MT/cellr_True/numread_200/filters/minC10_minR50_topN0_hetT0.001_hetC10_hetCount5_bq20/mgatk/vireoIn/single_clones/donor0/cloneMethod_variants_init_knn_resolution_30/clonalShift_method_dendro_bc/top/top10_sig_hypergeo.svg > /data/Mito_Trace/output/pipeline/v02/CHIP_b1/MTBlacklist_A2/data/merged/MT/cellr_True/numread_200/filters/minC10_minR50_topN0_hetT0.001_hetC10_hetCount5_bq20/mgatk/vireoIn/single_clones/donor0/cloneMethod_variants_init_knn_resolution_30/clonalShift_method_dendro_bc/top/combine.svg\n"
     ]
    }
   ],
   "source": [
    "cmd = f\"svg_stack.py --direction=h --margin=100 {fvars_pct} {fvars_pct_minus} {fvars_vars_af} {fvars_vars_af_box} > {out_vars_svg_f}\"\n",
    "print(cmd)\n",
    "!{cmd}\n",
    "\n",
    "cmd=f\"inkscape --export-pdf={out_vars_pdf_f} {out_vars_svg_f}\"\n",
    "print(cmd)\n",
    "!{cmd}"
   ]
  },
  {
   "cell_type": "code",
   "execution_count": 15,
   "id": "e1803bc7",
   "metadata": {
    "scrolled": true
   },
   "outputs": [],
   "source": [
    "\n",
    "# #create new SVG figure\n",
    "# fig = sg.SVGFigure(\"64in\", \"64in\")\n",
    "\n",
    "# # load matpotlib-generated figures\n",
    "# #{join(outdir,'top_umap_cond_col.pdf')} {join(outdir,'top_cluster_condition_ncells.pdf')}\n",
    "# fig1 = sg.fromfile(f1_umap_clust)\n",
    "# fig2 = sg.fromfile(f2_clone_clust)\n",
    "\n",
    "# # get the plot objects\n",
    "# plot1 = fig1.getroot()\n",
    "# plot2 = fig2.getroot()\n",
    "# plot2.moveto(280, 0, scale_x=0.5, scale_y=0.5)\n",
    "\n",
    "# # add text labels\n",
    "# txt1 = sg.TextElement(25,20, \"A\", size=12, weight=\"bold\")\n",
    "# txt2 = sg.TextElement(305,20, \"B\", size=12, weight=\"bold\")\n",
    "\n",
    "# # append plots and labels to figure\n",
    "# fig.append([plot1, plot2])\n",
    "# fig.append([txt1, txt2])\n",
    "\n",
    "# # save generated SVG files\n",
    "# fig.save(out_svg_f)"
   ]
  },
  {
   "cell_type": "code",
   "execution_count": 23,
   "id": "4ede11f6",
   "metadata": {},
   "outputs": [],
   "source": [
    "# #!/usr/bin/env python\n",
    "# #coding=utf-8\n",
    "# from svgutils.compose import *\n",
    "\n",
    "# Figure(\"16cm\", \"6.5cm\", \n",
    "#         Panel(\n",
    "#               SVG(f1_umap_clust),\n",
    "#               Text(\"A\", 25, 20, size=12, weight='bold')\n",
    "#              ),\n",
    "#         Panel(\n",
    "#               SVG(f2_clone_clust).scale(0.5),\n",
    "#               Text(\"B\", 25, 20, size=12, weight='bold')\n",
    "#              ).move(280, 0)\n",
    "#         ).save(out_svg_f)"
   ]
  },
  {
   "cell_type": "code",
   "execution_count": 63,
   "id": "48b5e108",
   "metadata": {
    "scrolled": true
   },
   "outputs": [
    {
     "name": "stdout",
     "output_type": "stream",
     "text": [
      "line <svg xmlns='http://www.w3.org/2000/svg' xmlns:xlink='http://www.w3.org/1999/xlink' class='svglite' width='2880.00pt' height='28800.00pt' viewBox='0 0 2880.00 28800.00'>\n",
      "\n"
     ]
    },
    {
     "ename": "IndexError",
     "evalue": "list index out of range",
     "output_type": "error",
     "traceback": [
      "\u001b[0;31m---------------------------------------------------------------------------\u001b[0m",
      "\u001b[0;31mIndexError\u001b[0m                                Traceback (most recent call last)",
      "\u001b[0;32m/tmp/ipykernel_1421060/1715994551.py\u001b[0m in \u001b[0;36m<module>\u001b[0;34m\u001b[0m\n\u001b[1;32m    115\u001b[0m \u001b[0;34m\u001b[0m\u001b[0m\n\u001b[1;32m    116\u001b[0m \u001b[0;34m\u001b[0m\u001b[0m\n\u001b[0;32m--> 117\u001b[0;31m \u001b[0mmain\u001b[0m\u001b[0;34m(\u001b[0m\u001b[0;34m)\u001b[0m\u001b[0;34m\u001b[0m\u001b[0;34m\u001b[0m\u001b[0m\n\u001b[0m",
      "\u001b[0;32m/tmp/ipykernel_1421060/1715994551.py\u001b[0m in \u001b[0;36mmain\u001b[0;34m()\u001b[0m\n\u001b[1;32m    101\u001b[0m \u001b[0;34m\u001b[0m\u001b[0m\n\u001b[1;32m    102\u001b[0m \u001b[0;32mdef\u001b[0m \u001b[0mmain\u001b[0m\u001b[0;34m(\u001b[0m\u001b[0;34m)\u001b[0m\u001b[0;34m:\u001b[0m\u001b[0;34m\u001b[0m\u001b[0;34m\u001b[0m\u001b[0m\n\u001b[0;32m--> 103\u001b[0;31m     \u001b[0msvgs\u001b[0m \u001b[0;34m=\u001b[0m \u001b[0mfiles_to_svg_dict\u001b[0m\u001b[0;34m(\u001b[0m\u001b[0;34m[\u001b[0m\u001b[0mf1_umap_clust\u001b[0m\u001b[0;34m,\u001b[0m\u001b[0mf2_clone_clust\u001b[0m\u001b[0;34m]\u001b[0m\u001b[0;34m)\u001b[0m\u001b[0;34m\u001b[0m\u001b[0;34m\u001b[0m\u001b[0m\n\u001b[0m\u001b[1;32m    104\u001b[0m     \u001b[0mprint\u001b[0m\u001b[0;34m(\u001b[0m\u001b[0;34m'svgs'\u001b[0m\u001b[0;34m,\u001b[0m \u001b[0msvgs\u001b[0m\u001b[0;34m.\u001b[0m\u001b[0mkeys\u001b[0m\u001b[0;34m(\u001b[0m\u001b[0;34m)\u001b[0m\u001b[0;34m)\u001b[0m\u001b[0;34m\u001b[0m\u001b[0;34m\u001b[0m\u001b[0m\n\u001b[1;32m    105\u001b[0m     \u001b[0mrescale\u001b[0m\u001b[0;34m(\u001b[0m\u001b[0msvgs\u001b[0m\u001b[0;34m)\u001b[0m\u001b[0;34m\u001b[0m\u001b[0;34m\u001b[0m\u001b[0m\n",
      "\u001b[0;32m/tmp/ipykernel_1421060/1715994551.py\u001b[0m in \u001b[0;36mfiles_to_svg_dict\u001b[0;34m(files)\u001b[0m\n\u001b[1;32m     97\u001b[0m             \u001b[0mdim\u001b[0m\u001b[0;34m=\u001b[0m\u001b[0mget_size\u001b[0m\u001b[0;34m(\u001b[0m\u001b[0ms\u001b[0m\u001b[0;34m)\u001b[0m\u001b[0;34m,\u001b[0m\u001b[0;34m\u001b[0m\u001b[0;34m\u001b[0m\u001b[0m\n\u001b[1;32m     98\u001b[0m             coords=(0, 0))\n\u001b[0;32m---> 99\u001b[0;31m         for s in files}\n\u001b[0m\u001b[1;32m    100\u001b[0m \u001b[0;34m\u001b[0m\u001b[0m\n\u001b[1;32m    101\u001b[0m \u001b[0;34m\u001b[0m\u001b[0m\n",
      "\u001b[0;32m/tmp/ipykernel_1421060/1715994551.py\u001b[0m in \u001b[0;36m<dictcomp>\u001b[0;34m(.0)\u001b[0m\n\u001b[1;32m     97\u001b[0m             \u001b[0mdim\u001b[0m\u001b[0;34m=\u001b[0m\u001b[0mget_size\u001b[0m\u001b[0;34m(\u001b[0m\u001b[0ms\u001b[0m\u001b[0;34m)\u001b[0m\u001b[0;34m,\u001b[0m\u001b[0;34m\u001b[0m\u001b[0;34m\u001b[0m\u001b[0m\n\u001b[1;32m     98\u001b[0m             coords=(0, 0))\n\u001b[0;32m---> 99\u001b[0;31m         for s in files}\n\u001b[0m\u001b[1;32m    100\u001b[0m \u001b[0;34m\u001b[0m\u001b[0m\n\u001b[1;32m    101\u001b[0m \u001b[0;34m\u001b[0m\u001b[0m\n",
      "\u001b[0;32m/tmp/ipykernel_1421060/1715994551.py\u001b[0m in \u001b[0;36mget_size\u001b[0;34m(svg_file)\u001b[0m\n\u001b[1;32m     42\u001b[0m             \u001b[0;32mif\u001b[0m \u001b[0mline\u001b[0m\u001b[0;34m.\u001b[0m\u001b[0mstartswith\u001b[0m\u001b[0;34m(\u001b[0m\u001b[0;34m'<svg'\u001b[0m\u001b[0;34m)\u001b[0m\u001b[0;34m:\u001b[0m\u001b[0;34m\u001b[0m\u001b[0;34m\u001b[0m\u001b[0m\n\u001b[1;32m     43\u001b[0m                 \u001b[0mprint\u001b[0m\u001b[0;34m(\u001b[0m\u001b[0;34m'line'\u001b[0m\u001b[0;34m,\u001b[0m \u001b[0mline\u001b[0m\u001b[0;34m)\u001b[0m\u001b[0;34m\u001b[0m\u001b[0;34m\u001b[0m\u001b[0m\n\u001b[0;32m---> 44\u001b[0;31m                 \u001b[0mparamdict\u001b[0m \u001b[0;34m=\u001b[0m \u001b[0;34m{\u001b[0m\u001b[0me\u001b[0m\u001b[0;34m.\u001b[0m\u001b[0msplit\u001b[0m\u001b[0;34m(\u001b[0m\u001b[0;34m'=\"'\u001b[0m\u001b[0;34m)\u001b[0m\u001b[0;34m[\u001b[0m\u001b[0;36m0\u001b[0m\u001b[0;34m]\u001b[0m\u001b[0;34m:\u001b[0m \u001b[0me\u001b[0m\u001b[0;34m.\u001b[0m\u001b[0msplit\u001b[0m\u001b[0;34m(\u001b[0m\u001b[0;34m'=\"'\u001b[0m\u001b[0;34m)\u001b[0m\u001b[0;34m[\u001b[0m\u001b[0;36m1\u001b[0m\u001b[0;34m]\u001b[0m \u001b[0;32mfor\u001b[0m \u001b[0me\u001b[0m \u001b[0;32min\u001b[0m \u001b[0mline\u001b[0m\u001b[0;34m[\u001b[0m\u001b[0;34m-\u001b[0m\u001b[0;36m1\u001b[0m\u001b[0;34m:\u001b[0m\u001b[0;34m-\u001b[0m\u001b[0;36m2\u001b[0m\u001b[0;34m]\u001b[0m\u001b[0;34m.\u001b[0m\u001b[0msplit\u001b[0m\u001b[0;34m(\u001b[0m\u001b[0;34m'\" '\u001b[0m\u001b[0;34m)\u001b[0m\u001b[0;34m}\u001b[0m\u001b[0;34m\u001b[0m\u001b[0;34m\u001b[0m\u001b[0m\n\u001b[0m\u001b[1;32m     45\u001b[0m                 \u001b[0;31m#paramdict = {e.split('=\"')[0]: e.split('=\"')[1] for e in line[5:-2].split('\" ')}\u001b[0m\u001b[0;34m\u001b[0m\u001b[0;34m\u001b[0m\u001b[0;34m\u001b[0m\u001b[0m\n\u001b[1;32m     46\u001b[0m                 \u001b[0;32mbreak\u001b[0m\u001b[0;34m\u001b[0m\u001b[0;34m\u001b[0m\u001b[0m\n",
      "\u001b[0;32m/tmp/ipykernel_1421060/1715994551.py\u001b[0m in \u001b[0;36m<dictcomp>\u001b[0;34m(.0)\u001b[0m\n\u001b[1;32m     42\u001b[0m             \u001b[0;32mif\u001b[0m \u001b[0mline\u001b[0m\u001b[0;34m.\u001b[0m\u001b[0mstartswith\u001b[0m\u001b[0;34m(\u001b[0m\u001b[0;34m'<svg'\u001b[0m\u001b[0;34m)\u001b[0m\u001b[0;34m:\u001b[0m\u001b[0;34m\u001b[0m\u001b[0;34m\u001b[0m\u001b[0m\n\u001b[1;32m     43\u001b[0m                 \u001b[0mprint\u001b[0m\u001b[0;34m(\u001b[0m\u001b[0;34m'line'\u001b[0m\u001b[0;34m,\u001b[0m \u001b[0mline\u001b[0m\u001b[0;34m)\u001b[0m\u001b[0;34m\u001b[0m\u001b[0;34m\u001b[0m\u001b[0m\n\u001b[0;32m---> 44\u001b[0;31m                 \u001b[0mparamdict\u001b[0m \u001b[0;34m=\u001b[0m \u001b[0;34m{\u001b[0m\u001b[0me\u001b[0m\u001b[0;34m.\u001b[0m\u001b[0msplit\u001b[0m\u001b[0;34m(\u001b[0m\u001b[0;34m'=\"'\u001b[0m\u001b[0;34m)\u001b[0m\u001b[0;34m[\u001b[0m\u001b[0;36m0\u001b[0m\u001b[0;34m]\u001b[0m\u001b[0;34m:\u001b[0m \u001b[0me\u001b[0m\u001b[0;34m.\u001b[0m\u001b[0msplit\u001b[0m\u001b[0;34m(\u001b[0m\u001b[0;34m'=\"'\u001b[0m\u001b[0;34m)\u001b[0m\u001b[0;34m[\u001b[0m\u001b[0;36m1\u001b[0m\u001b[0;34m]\u001b[0m \u001b[0;32mfor\u001b[0m \u001b[0me\u001b[0m \u001b[0;32min\u001b[0m \u001b[0mline\u001b[0m\u001b[0;34m[\u001b[0m\u001b[0;34m-\u001b[0m\u001b[0;36m1\u001b[0m\u001b[0;34m:\u001b[0m\u001b[0;34m-\u001b[0m\u001b[0;36m2\u001b[0m\u001b[0;34m]\u001b[0m\u001b[0;34m.\u001b[0m\u001b[0msplit\u001b[0m\u001b[0;34m(\u001b[0m\u001b[0;34m'\" '\u001b[0m\u001b[0;34m)\u001b[0m\u001b[0;34m}\u001b[0m\u001b[0;34m\u001b[0m\u001b[0;34m\u001b[0m\u001b[0m\n\u001b[0m\u001b[1;32m     45\u001b[0m                 \u001b[0;31m#paramdict = {e.split('=\"')[0]: e.split('=\"')[1] for e in line[5:-2].split('\" ')}\u001b[0m\u001b[0;34m\u001b[0m\u001b[0;34m\u001b[0m\u001b[0;34m\u001b[0m\u001b[0m\n\u001b[1;32m     46\u001b[0m                 \u001b[0;32mbreak\u001b[0m\u001b[0;34m\u001b[0m\u001b[0;34m\u001b[0m\u001b[0m\n",
      "\u001b[0;31mIndexError\u001b[0m: list index out of range"
     ]
    }
   ],
   "source": [
    "# \"\"\"\n",
    "# based on https://neuroscience.telenczuk.pl/?p=331\n",
    "# \"\"\"\n",
    "\n",
    "# import svgutils.transform as sg\n",
    "\n",
    "\n",
    "# class Svg(object):\n",
    "#     \"svg files with a data object (the svg), width, height and coordinates\"\n",
    "\n",
    "#     def __init__(self, data, dim, coords):\n",
    "#         self.data = data\n",
    "#         self.width = dim[0]\n",
    "#         self.height = dim[1]\n",
    "#         self.x = coords[0]\n",
    "#         self.y = coords[1]\n",
    "\n",
    "#     def scale_width_to_reference(self, reference_width):\n",
    "#         \"\"\"Proportionally scale the image to a given width.\"\"\"\n",
    "#         scalings_factor = reference_width / self.width\n",
    "#         self.data.moveto(0, 0, scale=scalings_factor)\n",
    "#         self.width = self.width * scalings_factor\n",
    "#         self.height = self.height * scalings_factor\n",
    "\n",
    "#     def scale_by_factor(self, scalings_factor):\n",
    "#         \"\"\"Proportionally scale image by a scaling factor.\"\"\"\n",
    "#         self.data.moveto(0, 0, scale=scalings_factor)\n",
    "#         self.width = self.width * scalings_factor\n",
    "#         self.height = self.height * scalings_factor\n",
    "\n",
    "#     def move(self, x, y):\n",
    "#         \"\"\"Move the coordinates of an image.\"\"\"\n",
    "#         self.data.moveto(x, y)\n",
    "#         self.x = x\n",
    "#         self.y = y\n",
    "\n",
    "\n",
    "# def get_size(svg_file):\n",
    "#     \"\"\"Naively parse the svg text file to get the width and height.\"\"\"\n",
    "#     with open(svg_file) as svg:\n",
    "#         for line in svg:\n",
    "#             if line.startswith('<svg'):\n",
    "#                 print('line', line)\n",
    "#                 paramdict = {e.split('=\"')[0]: e.split('=\"')[1] for e in line[-1:-2].split('\" ')}\n",
    "#                 #paramdict = {e.split('=\"')[0]: e.split('=\"')[1] for e in line[5:-2].split('\" ')}\n",
    "#                 break\n",
    "#     return int(paramdict[\"width\"].replace('pt', '')), int(paramdict[\"height\"].replace('pt', ''))\n",
    "\n",
    "\n",
    "# def rescale(svgs):\n",
    "#     \"\"\"Change the dimensions of the images to the desired combinations.\"\"\"\n",
    "#     svgs['B'].scale_width_to_reference(svgs['A'].width)\n",
    "# #     svgs['C'].scale_width_to_reference(svgs['A'].width)\n",
    "# #     svgs['D'].scale_width_to_reference(svgs['A'].width)\n",
    "#     #assert svgs['A'].width == svgs['B'].width == svgs['C'].width == svgs['D'].width\n",
    "#     assert svgs['A'].width == svgs['B'].width \n",
    "    \n",
    "#    # svgs['E'].scale_width_to_reference(svgs['F'].width)\n",
    "#     #assert svgs['E'].width == svgs['F'].width\n",
    "\n",
    "#     left_height = sum([svgs[i].height for i in ['A']])\n",
    "#     right_height = sum([svgs[i].height for i in ['B']])\n",
    "#     scalings_factor = right_height / left_height\n",
    "#     svgs['A'].scale_by_factor(scalings_factor)\n",
    "#     svgs['B'].scale_by_factor(scalings_factor)\n",
    "# #     svgs['C'].scale_by_factor(scalings_factor)\n",
    "# #     svgs['D'].scale_by_factor(scalings_factor)\n",
    "# #     assert sum([svgs[i].height for i in ['A', 'B', 'C', 'D']]\n",
    "# #                ) == sum([svgs[i].height for i in ['E', 'F', ]])\n",
    "#     assert sum([svgs[i].height for i in ['A']]\n",
    "#                ) == sum([svgs[i].height for i in ['B']])\n",
    "\n",
    "\n",
    "# def change_positions(svgs):\n",
    "#     \"\"\"Move the images to the desired positions.\"\"\"\n",
    "#     svgs['B'].move(0, svgs['A'].height)\n",
    "# #     svgs['C'].move(0, svgs['A'].height + svgs['B'].height)\n",
    "# #     svgs['D'].move(0, svgs['A'].height + svgs['B'].height + svgs['C'].height)\n",
    "# #     svgs['E'].move(svgs['A'].width, 0)\n",
    "# #     svgs['F'].move(svgs['A'].width, svgs['E'].height)\n",
    "\n",
    "\n",
    "# def letter_annotations(svgs):\n",
    "#     \"\"\"Add letters based on the location of the images.\"\"\"\n",
    "#     return [sg.TextElement(value.x + 10, value.y + 15, key, size=15, weight=\"bold\")\n",
    "#             for key, value in svgs.items()]\n",
    "\n",
    "\n",
    "# def files_to_svg_dict(files):\n",
    "#     \"\"\"Convert a list of images to a dictionary.\n",
    "#     Mapping the image basename to the Svg class instance,\n",
    "#     setting the dimensions based on sizes and coordinates (0,0) by default\n",
    "#     \"\"\"\n",
    "#     return {\n",
    "#         s.split('.')[0]: Svg(\n",
    "#             data=sg.fromfile(s).getroot(),\n",
    "#             dim=get_size(s),\n",
    "#             coords=(0, 0))\n",
    "#         for s in files}\n",
    "\n",
    "\n",
    "# def main():\n",
    "#     svgs = files_to_svg_dict([f1_umap_clust,f2_clone_clust])\n",
    "#     print('svgs', svgs.keys())\n",
    "#     rescale(svgs)\n",
    "#     change_positions(svgs)\n",
    "#     full_width = sum([svgs[i].width for i in ['A', 'B']])\n",
    "#     full_height = max([svgs[i].height for i in ['A', 'B']])\n",
    "#     fig = sg.SVGFigure(full_width, full_height)\n",
    "#     text = letter_annotations(svgs)\n",
    "#     fig.append([s.data for s in svgs.values()])\n",
    "#     fig.append(text)\n",
    "#     fig.save(out_svg_f)\n",
    "\n",
    "\n",
    "\n",
    "# main()"
   ]
  },
  {
   "cell_type": "code",
   "execution_count": 8,
   "id": "fd883617",
   "metadata": {
    "scrolled": true
   },
   "outputs": [
    {
     "ename": "UnidentifiedImageError",
     "evalue": "cannot identify image file '/data/Mito_Trace/output/pipeline/v02/CHIP_b1/MTBlacklist_A2/data/merged/MT/cellr_True/numread_200/filters/minC10_minR50_topN0_hetT0.001_hetC10_hetCount5_bq20/mgatk/vireoIn/single_clones/donor0/cloneMethod_variants_init_knn_resolution_30/clonalShift_method_clones/single/top10_cluster_distribution.pdf'",
     "output_type": "error",
     "traceback": [
      "\u001b[0;31m---------------------------------------------------------------------------\u001b[0m",
      "\u001b[0;31mUnidentifiedImageError\u001b[0m                    Traceback (most recent call last)",
      "\u001b[0;32m/tmp/ipykernel_1268250/92044481.py\u001b[0m in \u001b[0;36m<module>\u001b[0;34m\u001b[0m\n\u001b[1;32m      7\u001b[0m \u001b[0mhs\u001b[0m \u001b[0;34m=\u001b[0m \u001b[0;34m[\u001b[0m\u001b[0;34m]\u001b[0m\u001b[0;34m\u001b[0m\u001b[0;34m\u001b[0m\u001b[0m\n\u001b[1;32m      8\u001b[0m \u001b[0;32mfor\u001b[0m \u001b[0mf\u001b[0m \u001b[0;32min\u001b[0m \u001b[0min_imgs\u001b[0m\u001b[0;34m:\u001b[0m\u001b[0;34m\u001b[0m\u001b[0;34m\u001b[0m\u001b[0m\n\u001b[0;32m----> 9\u001b[0;31m     \u001b[0mimgs\u001b[0m\u001b[0;34m.\u001b[0m\u001b[0mappend\u001b[0m\u001b[0;34m(\u001b[0m\u001b[0mImage\u001b[0m\u001b[0;34m.\u001b[0m\u001b[0mopen\u001b[0m\u001b[0;34m(\u001b[0m\u001b[0mfp\u001b[0m\u001b[0;34m=\u001b[0m\u001b[0mf\u001b[0m\u001b[0;34m)\u001b[0m\u001b[0;34m)\u001b[0m\u001b[0;34m\u001b[0m\u001b[0;34m\u001b[0m\u001b[0m\n\u001b[0m\u001b[1;32m     10\u001b[0m     \u001b[0mc_w\u001b[0m\u001b[0;34m,\u001b[0m \u001b[0mc_h\u001b[0m \u001b[0;34m=\u001b[0m \u001b[0mimgs\u001b[0m\u001b[0;34m[\u001b[0m\u001b[0;34m-\u001b[0m\u001b[0;36m1\u001b[0m\u001b[0;34m]\u001b[0m\u001b[0;34m.\u001b[0m\u001b[0msize\u001b[0m\u001b[0;34m\u001b[0m\u001b[0;34m\u001b[0m\u001b[0m\n\u001b[1;32m     11\u001b[0m     \u001b[0mws\u001b[0m\u001b[0;34m.\u001b[0m\u001b[0mappend\u001b[0m\u001b[0;34m(\u001b[0m\u001b[0mc_w\u001b[0m\u001b[0;34m)\u001b[0m\u001b[0;34m\u001b[0m\u001b[0;34m\u001b[0m\u001b[0m\n",
      "\u001b[0;32m~/miniconda3/envs/mttrace/lib/python3.7/site-packages/PIL/Image.py\u001b[0m in \u001b[0;36mopen\u001b[0;34m(fp, mode, formats)\u001b[0m\n\u001b[1;32m   3122\u001b[0m         \u001b[0mwarnings\u001b[0m\u001b[0;34m.\u001b[0m\u001b[0mwarn\u001b[0m\u001b[0;34m(\u001b[0m\u001b[0mmessage\u001b[0m\u001b[0;34m)\u001b[0m\u001b[0;34m\u001b[0m\u001b[0;34m\u001b[0m\u001b[0m\n\u001b[1;32m   3123\u001b[0m     raise UnidentifiedImageError(\n\u001b[0;32m-> 3124\u001b[0;31m         \u001b[0;34m\"cannot identify image file %r\"\u001b[0m \u001b[0;34m%\u001b[0m \u001b[0;34m(\u001b[0m\u001b[0mfilename\u001b[0m \u001b[0;32mif\u001b[0m \u001b[0mfilename\u001b[0m \u001b[0;32melse\u001b[0m \u001b[0mfp\u001b[0m\u001b[0;34m)\u001b[0m\u001b[0;34m\u001b[0m\u001b[0;34m\u001b[0m\u001b[0m\n\u001b[0m\u001b[1;32m   3125\u001b[0m     )\n\u001b[1;32m   3126\u001b[0m \u001b[0;34m\u001b[0m\u001b[0m\n",
      "\u001b[0;31mUnidentifiedImageError\u001b[0m: cannot identify image file '/data/Mito_Trace/output/pipeline/v02/CHIP_b1/MTBlacklist_A2/data/merged/MT/cellr_True/numread_200/filters/minC10_minR50_topN0_hetT0.001_hetC10_hetCount5_bq20/mgatk/vireoIn/single_clones/donor0/cloneMethod_variants_init_knn_resolution_30/clonalShift_method_clones/single/top10_cluster_distribution.pdf'"
     ]
    }
   ],
   "source": [
    "\n",
    "# imgs = []\n",
    "# ws = []\n",
    "# hs = []\n",
    "# for f in in_imgs:\n",
    "#     imgs.append(Image.open(fp=f))\n",
    "#     c_w, c_h = imgs[-1].size\n",
    "#     ws.append(c_w)\n",
    "#     hs.append(c_h)\n",
    "\n",
    "# w = sum(ws)\n",
    "# h = max(hs)\n",
    "\n",
    "# new_image = Image.new('RGB', (w, h)) #(w*2, h*2))\n",
    "\n",
    "# x_offset = 0\n",
    "# for ind, img in enumerate(imgs):\n",
    "#     new_image.paste(img, (x_offset,0))\n",
    "#     x_offset += img.size[0]\n",
    "# #     new_image.composite(image=img2, left=w, top=0)\n",
    "# #     new_image.composite(image=img3, left=0, top=h)\n",
    "# #     new_image.composite(image=img4, left=w, top=h)\n",
    "\n",
    "# new_image.save(join(curr_indir,'merge_figures.pdf'))\n",
    "\n",
    "\n",
    "# merge_files = {\"clust_cond_ncells\":\"cluster_condition_ncells.png\", \n",
    "#                \"clust_splitCond_ncells\":\"cluster_lineage_splitCondition_ncells_norm.png\",\n",
    "#                \"ad\":'ad.png', \"af\":'af.png',\"dp\":'dp.png', \n",
    "#                \"umap_clust\": \"umap_clust_color.png\", \"umap_cond\": \".umap_cond_color.png\" }\n",
    "\n",
    "# merge_order = [\"clust_cond_ncells\", \"clust_splitCond_ncells\", \"ad\", \"af\",\"dp\", \n",
    "#                \"umap_clust\", \"umap_cond\"]\n",
    "\n",
    "# merge_files\n",
    "\n",
    "# for i in range(top_clones):\n",
    "#     curr_clone = clone_order[i]\n",
    "#     curr_cloneID = f\"cloneID_{curr_clone}\"\n",
    "#     curr_indir = join(outdir, curr_cloneID)\n",
    "#     #print(glob(curr_indir+\"/*\"))\n",
    "    \n",
    "#     curr_merge_files = merge_files.copy()\n",
    "#     for f in curr_merge_files:\n",
    "#         if f == \"umap_clust\" or f==\"umap_cond\":\n",
    "#             curr_merge_files[f] = join(curr_indir, f\"{curr_cloneID}{curr_merge_files[f]}\")\n",
    "#             #curr_merge_files[f] = join(curr_indir, f\"{curr_cloneID}{curr_merge_files[f]}\")\n",
    "#         else:\n",
    "#             curr_merge_files[f] = join(curr_indir, curr_merge_files[f])\n",
    "        \n",
    "\n",
    "# imgs = []\n",
    "# ws = []\n",
    "# hs = []\n",
    "# for f in curr_merge_files:\n",
    "#     imgs.append(Image.open(fp=curr_merge_files[f]))\n",
    "#     c_w, c_h = imgs[-1].size\n",
    "#     ws.append(c_w)\n",
    "#     hs.append(c_h)\n",
    "\n",
    "# w = sum(ws)\n",
    "# h = max(hs)\n",
    "\n",
    "# new_image = Image.new('RGB', (w, h)) #(w*2, h*2))\n",
    "\n",
    "# x_offset = 0\n",
    "# for ind, img in enumerate(imgs):\n",
    "#     new_image.paste(img, (x_offset,0))\n",
    "#     x_offset += img.size[0]\n",
    "# #     new_image.composite(image=img2, left=w, top=0)\n",
    "# #     new_image.composite(image=img3, left=0, top=h)\n",
    "# #     new_image.composite(image=img4, left=w, top=h)\n",
    "\n",
    "# new_image.save(join(curr_indir,'merge_figures.pdf'))"
   ]
  },
  {
   "cell_type": "code",
   "execution_count": null,
   "id": "214468a1",
   "metadata": {},
   "outputs": [],
   "source": []
  }
 ],
 "metadata": {
  "kernelspec": {
   "display_name": "Python 3 (ipykernel)",
   "language": "python",
   "name": "python3"
  },
  "language_info": {
   "codemirror_mode": {
    "name": "ipython",
    "version": 3
   },
   "file_extension": ".py",
   "mimetype": "text/x-python",
   "name": "python",
   "nbconvert_exporter": "python",
   "pygments_lexer": "ipython3",
   "version": "3.7.12"
  }
 },
 "nbformat": 4,
 "nbformat_minor": 5
}
