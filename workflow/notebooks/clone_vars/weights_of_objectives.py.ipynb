{
 "cells": [
  {
   "cell_type": "code",
   "execution_count": null,
   "id": "52cb8951",
   "metadata": {},
   "outputs": [],
   "source": [
    "indir = snakemake.params.indir\n",
    "outdir = snakemake.params.outdir\n",
    "donor = int(snakemake.wildcards.d)\n",
    "weights = snakemake.params.weights\n",
    "objectives_l = snakemake.params.get(\"objectives_l\", \n",
    "                                    [\"variants_with_clone_norm_by_1_over_nclones_with_variant\", \n",
    "                                     \"max_clone_ncells_over_nclones\", \"max_clone_ncells_over_ncells\", \n",
    "                                     \"pct_thresh\",\"other_pct_thresh\", \n",
    "                                     \"n_vars\", \"obj_nclones_more_than_one_unique\"])\n",
    "topn = snakemake.params.get(\"topn\", 16)\n",
    "# try: \n",
    "#     af_indirs = snakemake.params.af_indirs\n",
    "#     indir = snakemake.params.indir\n",
    "#     outdir = snakemake.params.outdir\n",
    "#     donor = int(snakemake.wildcards.d)\n",
    "#     weights = snakemake.params.weights\n",
    "#     anno_cells_meta_f = snakemake.input.anno_cells_meta_f\n",
    "#     objectives_l = snakemake.params.get(\"objectives_l\", \n",
    "#                                         [\"variants_with_clone_norm_by_1_over_nclones_with_variant\", \n",
    "#                                          \"max_clone_ncells_over_nclones\", \"max_clone_ncells_over_ncells\", \n",
    "#                                          \"pct_thresh\",\"other_pct_thresh\", \n",
    "#                                          \"n_vars\", \"obj_nclones_more_than_one_unique\"])\n",
    "# except NameError:\n",
    "#     af_indirs = \"/data/Mito_Trace/output/pipeline/v04/CHIP_b1/MTBlacklist_A2/data/merged/MT/cellr_True/numread_200/filters/minC10_minR50_topN0_hetT0.001_hetC10_hetCount5_bq20/mgatk/vireoIn/clones/variants_init/knn/kparam_30/\"\n",
    "#     indir = \"/data/Mito_Trace/output/pipeline/v04/CHIP_b1/MTBlacklist_A2/data/merged/MT/cellr_True/numread_200/filters/minC10_minR50_topN0_hetT0.001_hetC10_hetCount5_bq20/mgatk/vireoIn/enriched_barcodes/clones/variants_init/knn/kparam_30/donor0/\"\n",
    "#     outdir = \"/data/Mito_Trace/output/pipeline/v04/CHIP_b1/MTBlacklist_A2/data/merged/MT/cellr_True/numread_200/filters/minC10_minR50_topN0_hetT0.001_hetC10_hetCount5_bq20/mgatk/vireoIn/enriched_barcodes/clones/variants_init/knn/kparam_30/donor0/optim_results/\"\n",
    "#     donor = 0\n",
    "#     anno_cells_meta_f = \"/data/Mito_Trace/output/pipeline/v04/CHIP_b1/MTBlacklist_A2/data/merged/MT/cellr_True/numread_200/filters/minC10_minR50_topN0_hetT0.001_hetC10_hetCount5_bq20/mgatk/vireoIn/clones/variants_init/knn/kparam_30/gff_A2_black/annotation_clones/se_cells_meta_labels.tsv\"\n",
    "#     weights = [1,0,0,1,-1, 1, 1]\n",
    "#     objectives_l = [\"variants_with_clone_norm_by_1_over_nclones_with_variant\", \n",
    "#                     \"max_clone_ncells_over_nclones\", \"max_clone_ncells_over_ncells\", \n",
    "#                     \"pct_thresh\",\"other_pct_thresh\", \"n_vars\", \"obj_nclones_more_than_one_unique\"] #\"nvars\"\n",
    "\n",
    "    \n",
    "param_names = [\"pct_thresh\",\"af_thresh\", \"other_pct_thresh\"]\n"
   ]
  },
  {
   "cell_type": "code",
   "execution_count": null,
   "id": "284b4dfa",
   "metadata": {},
   "outputs": [],
   "source": [
    "## Remove any weights and objectives with 0 \n",
    "temp_obj = []\n",
    "temp_weights = []\n",
    "for ind, o in enumerate(objectives_l):\n",
    "    if weights[ind] != 0:\n",
    "        temp_weights.append(weights[ind])\n",
    "        temp_obj.append(o)\n",
    "weights = temp_weights\n",
    "objectives_l = temp_obj\n",
    "print(objectives_l)\n",
    "print(weights)"
   ]
  },
  {
   "cell_type": "code",
   "execution_count": null,
   "id": "58a3bfad",
   "metadata": {},
   "outputs": [],
   "source": [
    "objectives = {ind:x for ind,x in enumerate(objectives_l)}\n"
   ]
  },
  {
   "cell_type": "code",
   "execution_count": null,
   "id": "0bdc272d",
   "metadata": {
    "scrolled": true
   },
   "outputs": [],
   "source": [
    "import src.clone_variants_optim  as optim\n",
    "from mplh import cluster_help as ch\n",
    "\n",
    "from dynamicTreeCut import cutreeHybrid\n",
    "from scipy.spatial.distance import pdist\n",
    "import numpy as np\n",
    "from scipy.cluster.hierarchy import linkage\n",
    "\n",
    "import mplh.cluster_help as ch\n",
    "import mplh.fig_utils as fu"
   ]
  },
  {
   "cell_type": "code",
   "execution_count": null,
   "id": "133f5aae",
   "metadata": {},
   "outputs": [],
   "source": [
    "%load_ext autoreload\n",
    "%autoreload 2\n",
    "import pandas as pd\n",
    "import matplotlib\n",
    "import os\n",
    "import numpy as np\n",
    "import matplotlib.pyplot as plt\n",
    "import seaborn as sns\n",
    "from os.path import join, exists, dirname\n",
    "from glob import glob\n",
    "import pickle\n",
    "from icecream import ic\n",
    "ic.disable()\n",
    "np.set_printoptions(formatter={'float': lambda x: format(x, '.3f')})\n",
    "# matplotlib.rcParams['ps.useafm'] = False\n",
    "# matplotlib.rcParams['pdf.use14corefonts'] = True\n",
    "# matplotlib.rcParams['text.usetex'] = False"
   ]
  },
  {
   "cell_type": "markdown",
   "id": "bcec335d",
   "metadata": {},
   "source": [
    "# Load results and get top 10% of them"
   ]
  },
  {
   "cell_type": "code",
   "execution_count": null,
   "id": "4d4b9156",
   "metadata": {
    "scrolled": true
   },
   "outputs": [],
   "source": [
    "results_df = pd.read_csv(join(outdir, \"objectives.csv\"), index_col=0)\n",
    "full_params = pd.read_csv(join(outdir, \"raw_params.csv\"), index_col=0)\n"
   ]
  },
  {
   "cell_type": "markdown",
   "id": "ada54efd",
   "metadata": {},
   "source": [
    "## Get the top objective result based on the distribution of scores. 1D cluster scores and take cluster with highest mean. Number of clusters determined using the loss and the elbow plot with kneedle"
   ]
  },
  {
   "cell_type": "code",
   "execution_count": null,
   "id": "04c6cfa7",
   "metadata": {},
   "outputs": [],
   "source": [
    "#print(results_df.head())\n",
    "print((results_df>0).any())\n",
    "drop_inds = results_df.loc[(results_df==0).all(axis=1)].index\n",
    "results_norm = optim.set_multi(results_df, weights)\n",
    "rank_df = optim.set_multi_rank(results_norm, weights)\n",
    "\n",
    "drop_results = results_norm.loc[results_norm[\"multi\"].isnull()]\n",
    "results_norm = results_norm.loc[~(results_norm[\"multi\"].isnull())]\n",
    "if len(results_norm) == 0:\n",
    "    raise ValueError(\"No param retrieved variants\")\n",
    "\n",
    "########################\n",
    "## Save the objective results\n",
    "########################\n",
    "results_norm.to_csv(join(outdir, \"objectives_norm.csv\"))\n",
    "#results_df.to_csv(join(outdir, \"objectives.csv\"))\n",
    "#full_params.to_csv(join(outdir, \"raw_params.csv\"))\n",
    "rank_df.to_csv(join(outdir, \"objectives_rank.csv\"))"
   ]
  },
  {
   "cell_type": "code",
   "execution_count": null,
   "id": "7eed5035",
   "metadata": {},
   "outputs": [],
   "source": [
    "\n",
    "#results_norm.loc[results_norm[\"multi\"] == np.nan]\n",
    "\n",
    "########################\n",
    "# Plot distribution results\n",
    "########################\n",
    "sns.displot(results_norm[\"multi\"])\n",
    "plt.title(\"multiobjective function (want to maximize)\")\n",
    "plt.savefig(join(outdir, \"loss_multi.pdf\"))\n",
    "\n",
    "sns.displot(rank_df[\"multi\"])\n",
    "\n",
    "sns.displot(rank_df[\"variants_with_clone_norm_by_1_over_nclones_with_variant\"])\n",
    "plt.title(\"objective: variants_with_clone_norm_by_1_over_nclones_with_variant (want to maximize)\")\n",
    "plt.savefig(join(outdir, \"loss_variants_with_clone_norm_by_1_over_nclones_with_variant.pdf\"))\n",
    "\n",
    "sns.displot(rank_df[\"obj_nclones_more_than_one_unique\"])\n",
    "plt.title(\"objective: Number of clones with at least 2 unique variants (want to maximize)\")\n",
    "plt.savefig(join(outdir, \"loss_variants_with_clone_norm_by_1_over_nclones_with_variant.pdf\"))\n"
   ]
  },
  {
   "cell_type": "code",
   "execution_count": null,
   "id": "0c770e0f",
   "metadata": {},
   "outputs": [],
   "source": [
    "\n",
    "af_indir = join(indir, \"sc_af\", f\"donor{donor}\")\n",
    "\n",
    "AF_df = pd.read_csv(join(af_indir, \"af.tsv\"), index_col=0, sep=\"\\t\")\n",
    "DP_df = pd.read_csv(join(af_indir, \"dp.tsv\"), index_col=0, sep=\"\\t\")\n",
    "\n",
    "print(AF_df.shape)\n",
    "print(DP_df.shape)\n",
    "print(\"Depth\")\n",
    "print(DP_df.head())\n",
    "AF_df.head()\n",
    "\n",
    "cells_meta = pd.read_csv(join(indir, \"cells_meta.tsv\"), sep='\\t', index_col=\"ID\")#.sort_values([\"donor\", \"lineage\"])\n",
    "cells_meta[\"name\"] = cells_meta[\"donor\"].astype(str)+\"_\"+cells_meta[\"lineage\"].astype(str)\n",
    "curr_labels = cells_meta[cells_meta[\"donor\"]==donor]\n",
    "\n",
    "conditions = curr_labels[\"condition\"].unique()\n",
    "\n",
    "## Get donor inds\n",
    "donor_inds = AF_df.index[((AF_df>0.9).sum(axis=1)>(0.9*AF_df.shape[1]))]\n",
    "\n",
    "\n",
    "def rm_high(df, thresh, pct_thresh):\n",
    "    return df.loc[~(((df>thresh).sum(axis=1)>pct_thresh*df.shape[0]))]\n",
    "\n",
    "def rm_low(df, thresh, pct_thresh):\n",
    "    return df.loc[~((df<thresh).sum(axis=1)>(pct_thresh*df.shape[1]))]\n",
    "\n"
   ]
  },
  {
   "cell_type": "code",
   "execution_count": null,
   "id": "11ee28e7",
   "metadata": {},
   "outputs": [],
   "source": [
    "########################\n",
    "# Get the top n results\n",
    "########################\n",
    "def get_top_n_results(results_df, rank_df, n=12):\n",
    "    filt_rank = rank_df.sort_values(by=[\"multi\"])[::-1].iloc[:n]\n",
    "    filt_results = results_df.loc[filt_rank.index]\n",
    "    return filt_rank, filt_results\n",
    "\n",
    "\n",
    "full_params.to_csv(join(outdir, \"params.csv\"))\n",
    "\n",
    "filt_rank, filt_results = get_top_n_results(results_norm, rank_df, n=topn)\n",
    "filt_results.columns = [f\"{x}_obj\" for x in filt_results.columns]\n",
    "filt_results = pd.merge(filt_results, full_params, left_index=True, right_index=True, how=\"left\")\n",
    "filt_rank = filt_rank.loc[filt_results.index]\n",
    "\n",
    "all_df = []\n",
    "all_objs = {}\n",
    "for ind, val in filt_results.iterrows():\n",
    "    print(ind)\n",
    "    obj_out, data = optim.evaluate_series(val, AF_df, DP_df, curr_labels, return_data=True)\n",
    "    all_df.append(data[\"all_unique_df\"])\n",
    "    all_objs[ind] = obj_out \n",
    "all_df = pd.concat(all_df)\n",
    "\n",
    "heatmap_input = all_df[[\"n_cells\", \"variant\"]].reset_index().pivot(index=\"id\", columns=\"variant\", values=\"n_cells\").fillna(0).astype(int)\n",
    "meta_df = all_df[[\"af_thresh\", \"other_pct_thresh\", \"pct_thresh\", \"clone\"]]\n",
    "meta_df = meta_df.loc[~(meta_df.index.duplicated())]\n",
    "meta_df = meta_df.sort_values([\"af_thresh\",\"pct_thresh\", \"other_pct_thresh\", \"clone\"])\n",
    "heatmap_input = heatmap_input.loc[meta_df.index]\n"
   ]
  },
  {
   "cell_type": "code",
   "execution_count": null,
   "id": "816b8218",
   "metadata": {},
   "outputs": [],
   "source": [
    "# Get the variants based on total number of cells across parameters\n",
    "heatmap_input = heatmap_input.loc[:,heatmap_input.sum().sort_values()[::-1].index]\n",
    "variants_order = heatmap_input.columns\n",
    "clone_sums = meta_df.groupby(\"clone\").apply(optim.clone_sum, heatmap_input)\n",
    "clone_sums = clone_sums.loc[:, clone_sums.sum().sort_values()[::-1].index]\n",
    "clones_order = clone_sums.index\n",
    "\n",
    "all_df[\"params\"] = all_df.apply(optim.params_to_str, axis=1, args=(param_names,))\n",
    "filt_results[\"params\"] = filt_results.apply(optim.params_to_str, axis=1, args=(param_names,))\n",
    "filt_results[\"params_multi\"] = filt_results.apply(optim.params_and_multi_str, axis=1)\n",
    "tmp = filt_results.set_index(\"params\")\n",
    "all_df[\"multi_obj\"] = all_df.apply(lambda x: tmp.loc[x[\"params\"], \"multi_obj\"], axis=1)\n",
    "del tmp                               \n",
    "\n",
    "all_df[\"params_multi\"] = all_df.apply(optim.params_and_multi_str, axis=1)\n",
    "\n",
    "\n",
    "fg = sns.FacetGrid(data=all_df.reset_index(), height=4, sharey=False, sharex=False,\n",
    "                   col=\"params\", col_wrap=4, col_order=filt_results[\"params\"].values, margin_titles=True)\n",
    "\n",
    "fg.map_dataframe(optim.draw_heatmap, 'variant','clone', 'log2_n_cells',\n",
    "                 clones_order=clones_order, variants_order=variants_order)#, cbar=False)\n",
    "\n",
    "#fg.set_titles(row_template = 'other_pct_thresh: {row_name}', col_template = 'pct_thresh: {col_name}')\n",
    "fg.fig.suptitle(f\"Best parameter combinations shown in order\")\n",
    "fg.fig.subplots_adjust(top=0.9, hspace = 0.8)\n",
    "\n",
    "plt.title(\"multiobjective function (want to maximize)\")\n",
    "#plt.savefig(join(outdir, \"top_param_results.pdf\"))\n",
    "plt.savefig(join(outdir, \"top_param_results.pdf\"), dpi=300)\n",
    "\n"
   ]
  }
 ],
 "metadata": {
  "kernelspec": {
   "display_name": "Python 3 (ipykernel)",
   "language": "python",
   "name": "python3"
  },
  "language_info": {
   "codemirror_mode": {
    "name": "ipython",
    "version": 3
   },
   "file_extension": ".py",
   "mimetype": "text/x-python",
   "name": "python",
   "nbconvert_exporter": "python",
   "pygments_lexer": "ipython3",
   "version": "3.7.12"
  }
 },
 "nbformat": 4,
 "nbformat_minor": 5
}
