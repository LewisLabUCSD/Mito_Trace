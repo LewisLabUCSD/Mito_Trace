{
 "cells": [
  {
   "cell_type": "markdown",
   "metadata": {},
   "source": [
    "## Finding specific variants in each cluster\n",
    "Using the clones, we want to find variants in each clone that are specific to them.\n",
    "To define specificity, we will use two parameters: VAF frequency cutoff, and different %of population to have that variant.\n",
    "These parameters will be used to compare each clone's variants to the population"
   ]
  },
  {
   "cell_type": "code",
   "execution_count": 1,
   "metadata": {
    "ExecuteTime": {
     "end_time": "2021-05-13T20:12:12.096903Z",
     "start_time": "2021-05-13T20:12:12.086904Z"
    },
    "scrolled": false
   },
   "outputs": [
    {
     "data": {
      "text/plain": [
       "'/mnt/md0/isshamie/Projects/Mito_Trace/workflow/notebooks/clone_vars'"
      ]
     },
     "execution_count": 1,
     "metadata": {},
     "output_type": "execute_result"
    }
   ],
   "source": [
    "pwd"
   ]
  },
  {
   "cell_type": "code",
   "execution_count": 2,
   "metadata": {
    "ExecuteTime": {
     "end_time": "2021-05-13T20:12:12.105680Z",
     "start_time": "2021-05-13T20:12:12.099105Z"
    },
    "scrolled": true,
    "tags": [
     "parameters"
    ]
   },
   "outputs": [],
   "source": [
    "INDIR = \"/data/Mito_Trace/output/pipeline/CHIP_b1/MTBlacklist_A2/data/merged/MT/cellr_True/numread_200/filters/minC10_minR50_topN0_hetT0.001_hetC10_hetCount5_bq20/mgatk/vireoIn/clones/variants_init/knn/kparam_30/concat/\"\n",
    "OUTDIR = \"/data/Mito_Trace/output/pipeline/CHIP_b1/MTBlacklist_A2/data/merged/MT/cellr_True/numread_200/filters/minC10_minR50_topN0_hetT0.001_hetC10_hetCount5_bq20/mgatk/vireoIn/clones/variants_init/knn/kparam_30/concat/distinct_variants/donor0\"\n",
    "DONOR = 0"
   ]
  },
  {
   "cell_type": "code",
   "execution_count": 3,
   "metadata": {},
   "outputs": [],
   "source": [
    "pct_thresh = [0.01, 0.5, 0.75, 0.95]\n",
    "other_pct_thresh = [0.01, 0.1, 0.25,]\n",
    "af_thresh = [0, 0.01, 0.1, 0.4]"
   ]
  },
  {
   "cell_type": "code",
   "execution_count": 4,
   "metadata": {
    "ExecuteTime": {
     "end_time": "2021-05-13T20:12:13.155526Z",
     "start_time": "2021-05-13T20:12:12.130665Z"
    },
    "scrolled": true
   },
   "outputs": [
    {
     "name": "stdout",
     "output_type": "stream",
     "text": [
      "0.5.6\n"
     ]
    }
   ],
   "source": [
    "from os.path import join, exists, dirname\n",
    "from glob import glob\n",
    "import pickle\n",
    "import mplh.cluster_help as ch\n",
    "import mplh.fig_utils as fu\n",
    "\n",
    "import os\n",
    "import vireoSNP\n",
    "import numpy as np\n",
    "from scipy import sparse\n",
    "from scipy.io import mmread\n",
    "import matplotlib.pyplot as plt\n",
    "from scipy.stats import hypergeom\n",
    "print(vireoSNP.__version__)\n",
    "\n",
    "import pandas as pd\n",
    "import seaborn as sns\n",
    "from mplh import cluster_help as ch\n",
    "from vireoSNP import Vireo\n",
    "np.set_printoptions(formatter={'float': lambda x: format(x, '.5f')})"
   ]
  },
  {
   "cell_type": "code",
   "execution_count": 5,
   "metadata": {},
   "outputs": [],
   "source": [
    "if not exists(OUTDIR):\n",
    "    os.mkdir(OUTDIR)"
   ]
  },
  {
   "cell_type": "markdown",
   "metadata": {},
   "source": [
    "## Load cluster results"
   ]
  },
  {
   "cell_type": "code",
   "execution_count": 6,
   "metadata": {
    "scrolled": true
   },
   "outputs": [
    {
     "name": "stdout",
     "output_type": "stream",
     "text": [
      "(68, 9023)\n",
      "(68, 9023)\n",
      "Depth\n",
      "         AAACGAAAGAATCAAC-1_Control  AAACGAAAGCGAGAAA-1_Control  \\\n",
      "Variant                                                           \n",
      "10397G                          2.0                        16.0   \n",
      "10463C                         11.0                        16.0   \n",
      "10559G                         15.0                        26.0   \n",
      "10589A                         17.0                        21.0   \n",
      "11251G                         13.0                        25.0   \n",
      "\n",
      "         AAACGAAAGTACAGAT-1_Control  AAACGAAAGTTAGCAA-1_Control  \\\n",
      "Variant                                                           \n",
      "10397G                          1.0                         5.0   \n",
      "10463C                          3.0                         9.0   \n",
      "10559G                          5.0                         5.0   \n",
      "10589A                          6.0                         7.0   \n",
      "11251G                          5.0                         7.0   \n",
      "\n",
      "         AAACGAACACTCGCAG-1_Control  AAACGAATCAGGCGCT-1_Control  \\\n",
      "Variant                                                           \n",
      "10397G                         14.0                        58.0   \n",
      "10463C                          6.0                        48.0   \n",
      "10559G                         10.0                        66.0   \n",
      "10589A                          9.0                        67.0   \n",
      "11251G                         12.0                        91.0   \n",
      "\n",
      "         AAACGAATCCATCGAA-1_Control  AAACGAATCTCGTAGA-1_Control  \\\n",
      "Variant                                                           \n",
      "10397G                         39.0                        12.0   \n",
      "10463C                         30.0                         3.0   \n",
      "10559G                         16.0                         5.0   \n",
      "10589A                         24.0                        12.0   \n",
      "11251G                         37.0                        16.0   \n",
      "\n",
      "         AAACTCGAGTGAAGGA-1_Control  AAACTCGCATGCACTA-1_Control  ...  \\\n",
      "Variant                                                          ...   \n",
      "10397G                         15.0                        59.0  ...   \n",
      "10463C                          8.0                        39.0  ...   \n",
      "10559G                         21.0                        59.0  ...   \n",
      "10589A                         18.0                        48.0  ...   \n",
      "11251G                         26.0                        75.0  ...   \n",
      "\n",
      "         TTTGGTTTCTGATCCC-1_Input  TTTGTGTAGTTCGTTG-1_Input  \\\n",
      "Variant                                                       \n",
      "10397G                       99.0                      92.0   \n",
      "10463C                       78.0                      99.0   \n",
      "10559G                       86.0                      80.0   \n",
      "10589A                       88.0                      66.0   \n",
      "11251G                       78.0                      83.0   \n",
      "\n",
      "         TTTGTGTCACACATTG-1_Input  TTTGTGTGTAAGCCGA-1_Input  \\\n",
      "Variant                                                       \n",
      "10397G                      116.0                      39.0   \n",
      "10463C                      156.0                      22.0   \n",
      "10559G                      138.0                      32.0   \n",
      "10589A                      135.0                      34.0   \n",
      "11251G                      133.0                      45.0   \n",
      "\n",
      "         TTTGTGTGTAGATTAG-1_Input  TTTGTGTGTAGGGTCA-1_Input  \\\n",
      "Variant                                                       \n",
      "10397G                       38.0                      69.0   \n",
      "10463C                       14.0                      77.0   \n",
      "10559G                       13.0                      60.0   \n",
      "10589A                       19.0                      59.0   \n",
      "11251G                       30.0                      81.0   \n",
      "\n",
      "         TTTGTGTGTTTCTTAC-1_Input  TTTGTGTTCCTGAAAC-1_Input  \\\n",
      "Variant                                                       \n",
      "10397G                       72.0                      93.0   \n",
      "10463C                       58.0                      89.0   \n",
      "10559G                       48.0                      77.0   \n",
      "10589A                       55.0                      99.0   \n",
      "11251G                       90.0                     139.0   \n",
      "\n",
      "         TTTGTGTTCGGGAAAC-1_Input  TTTGTGTTCTGGCACG-1_Input  \n",
      "Variant                                                      \n",
      "10397G                       71.0                      67.0  \n",
      "10463C                       49.0                      91.0  \n",
      "10559G                       64.0                      87.0  \n",
      "10589A                       71.0                      80.0  \n",
      "11251G                       80.0                      86.0  \n",
      "\n",
      "[5 rows x 9023 columns]\n"
     ]
    },
    {
     "data": {
      "text/html": [
       "<div>\n",
       "<style scoped>\n",
       "    .dataframe tbody tr th:only-of-type {\n",
       "        vertical-align: middle;\n",
       "    }\n",
       "\n",
       "    .dataframe tbody tr th {\n",
       "        vertical-align: top;\n",
       "    }\n",
       "\n",
       "    .dataframe thead th {\n",
       "        text-align: right;\n",
       "    }\n",
       "</style>\n",
       "<table border=\"1\" class=\"dataframe\">\n",
       "  <thead>\n",
       "    <tr style=\"text-align: right;\">\n",
       "      <th></th>\n",
       "      <th>AAACGAAAGAATCAAC-1_Control</th>\n",
       "      <th>AAACGAAAGCGAGAAA-1_Control</th>\n",
       "      <th>AAACGAAAGTACAGAT-1_Control</th>\n",
       "      <th>AAACGAAAGTTAGCAA-1_Control</th>\n",
       "      <th>AAACGAACACTCGCAG-1_Control</th>\n",
       "      <th>AAACGAATCAGGCGCT-1_Control</th>\n",
       "      <th>AAACGAATCCATCGAA-1_Control</th>\n",
       "      <th>AAACGAATCTCGTAGA-1_Control</th>\n",
       "      <th>AAACTCGAGTGAAGGA-1_Control</th>\n",
       "      <th>AAACTCGCATGCACTA-1_Control</th>\n",
       "      <th>...</th>\n",
       "      <th>TTTGGTTTCTGATCCC-1_Input</th>\n",
       "      <th>TTTGTGTAGTTCGTTG-1_Input</th>\n",
       "      <th>TTTGTGTCACACATTG-1_Input</th>\n",
       "      <th>TTTGTGTGTAAGCCGA-1_Input</th>\n",
       "      <th>TTTGTGTGTAGATTAG-1_Input</th>\n",
       "      <th>TTTGTGTGTAGGGTCA-1_Input</th>\n",
       "      <th>TTTGTGTGTTTCTTAC-1_Input</th>\n",
       "      <th>TTTGTGTTCCTGAAAC-1_Input</th>\n",
       "      <th>TTTGTGTTCGGGAAAC-1_Input</th>\n",
       "      <th>TTTGTGTTCTGGCACG-1_Input</th>\n",
       "    </tr>\n",
       "    <tr>\n",
       "      <th>Variant</th>\n",
       "      <th></th>\n",
       "      <th></th>\n",
       "      <th></th>\n",
       "      <th></th>\n",
       "      <th></th>\n",
       "      <th></th>\n",
       "      <th></th>\n",
       "      <th></th>\n",
       "      <th></th>\n",
       "      <th></th>\n",
       "      <th></th>\n",
       "      <th></th>\n",
       "      <th></th>\n",
       "      <th></th>\n",
       "      <th></th>\n",
       "      <th></th>\n",
       "      <th></th>\n",
       "      <th></th>\n",
       "      <th></th>\n",
       "      <th></th>\n",
       "      <th></th>\n",
       "    </tr>\n",
       "  </thead>\n",
       "  <tbody>\n",
       "    <tr>\n",
       "      <th>10397G</th>\n",
       "      <td>1.000000</td>\n",
       "      <td>1.0</td>\n",
       "      <td>0.0</td>\n",
       "      <td>0.8</td>\n",
       "      <td>1.0</td>\n",
       "      <td>1.0</td>\n",
       "      <td>1.0</td>\n",
       "      <td>1.0</td>\n",
       "      <td>1.000000</td>\n",
       "      <td>1.0</td>\n",
       "      <td>...</td>\n",
       "      <td>0.979798</td>\n",
       "      <td>1.000000</td>\n",
       "      <td>1.0</td>\n",
       "      <td>1.000000</td>\n",
       "      <td>1.000000</td>\n",
       "      <td>1.000000</td>\n",
       "      <td>1.0</td>\n",
       "      <td>0.978495</td>\n",
       "      <td>1.0</td>\n",
       "      <td>1.000000</td>\n",
       "    </tr>\n",
       "    <tr>\n",
       "      <th>10463C</th>\n",
       "      <td>0.000000</td>\n",
       "      <td>0.0</td>\n",
       "      <td>0.0</td>\n",
       "      <td>0.0</td>\n",
       "      <td>0.0</td>\n",
       "      <td>0.0</td>\n",
       "      <td>0.0</td>\n",
       "      <td>0.0</td>\n",
       "      <td>0.000000</td>\n",
       "      <td>0.0</td>\n",
       "      <td>...</td>\n",
       "      <td>0.000000</td>\n",
       "      <td>0.000000</td>\n",
       "      <td>0.0</td>\n",
       "      <td>0.000000</td>\n",
       "      <td>0.000000</td>\n",
       "      <td>0.000000</td>\n",
       "      <td>0.0</td>\n",
       "      <td>0.000000</td>\n",
       "      <td>0.0</td>\n",
       "      <td>0.000000</td>\n",
       "    </tr>\n",
       "    <tr>\n",
       "      <th>10559G</th>\n",
       "      <td>0.000000</td>\n",
       "      <td>0.0</td>\n",
       "      <td>0.0</td>\n",
       "      <td>0.0</td>\n",
       "      <td>0.0</td>\n",
       "      <td>0.0</td>\n",
       "      <td>0.0</td>\n",
       "      <td>0.0</td>\n",
       "      <td>0.000000</td>\n",
       "      <td>0.0</td>\n",
       "      <td>...</td>\n",
       "      <td>0.000000</td>\n",
       "      <td>0.000000</td>\n",
       "      <td>0.0</td>\n",
       "      <td>0.062500</td>\n",
       "      <td>0.000000</td>\n",
       "      <td>0.000000</td>\n",
       "      <td>0.0</td>\n",
       "      <td>0.000000</td>\n",
       "      <td>0.0</td>\n",
       "      <td>0.000000</td>\n",
       "    </tr>\n",
       "    <tr>\n",
       "      <th>10589A</th>\n",
       "      <td>0.882353</td>\n",
       "      <td>1.0</td>\n",
       "      <td>1.0</td>\n",
       "      <td>1.0</td>\n",
       "      <td>1.0</td>\n",
       "      <td>1.0</td>\n",
       "      <td>1.0</td>\n",
       "      <td>1.0</td>\n",
       "      <td>1.000000</td>\n",
       "      <td>1.0</td>\n",
       "      <td>...</td>\n",
       "      <td>1.000000</td>\n",
       "      <td>0.984848</td>\n",
       "      <td>1.0</td>\n",
       "      <td>0.970588</td>\n",
       "      <td>0.736842</td>\n",
       "      <td>0.966102</td>\n",
       "      <td>1.0</td>\n",
       "      <td>1.000000</td>\n",
       "      <td>1.0</td>\n",
       "      <td>1.000000</td>\n",
       "    </tr>\n",
       "    <tr>\n",
       "      <th>11251G</th>\n",
       "      <td>0.153846</td>\n",
       "      <td>0.0</td>\n",
       "      <td>0.0</td>\n",
       "      <td>0.0</td>\n",
       "      <td>0.0</td>\n",
       "      <td>0.0</td>\n",
       "      <td>0.0</td>\n",
       "      <td>0.0</td>\n",
       "      <td>0.076923</td>\n",
       "      <td>0.0</td>\n",
       "      <td>...</td>\n",
       "      <td>0.000000</td>\n",
       "      <td>0.036145</td>\n",
       "      <td>0.0</td>\n",
       "      <td>0.000000</td>\n",
       "      <td>0.000000</td>\n",
       "      <td>0.000000</td>\n",
       "      <td>0.0</td>\n",
       "      <td>0.000000</td>\n",
       "      <td>0.0</td>\n",
       "      <td>0.023256</td>\n",
       "    </tr>\n",
       "  </tbody>\n",
       "</table>\n",
       "<p>5 rows × 9023 columns</p>\n",
       "</div>"
      ],
      "text/plain": [
       "         AAACGAAAGAATCAAC-1_Control  AAACGAAAGCGAGAAA-1_Control  \\\n",
       "Variant                                                           \n",
       "10397G                     1.000000                         1.0   \n",
       "10463C                     0.000000                         0.0   \n",
       "10559G                     0.000000                         0.0   \n",
       "10589A                     0.882353                         1.0   \n",
       "11251G                     0.153846                         0.0   \n",
       "\n",
       "         AAACGAAAGTACAGAT-1_Control  AAACGAAAGTTAGCAA-1_Control  \\\n",
       "Variant                                                           \n",
       "10397G                          0.0                         0.8   \n",
       "10463C                          0.0                         0.0   \n",
       "10559G                          0.0                         0.0   \n",
       "10589A                          1.0                         1.0   \n",
       "11251G                          0.0                         0.0   \n",
       "\n",
       "         AAACGAACACTCGCAG-1_Control  AAACGAATCAGGCGCT-1_Control  \\\n",
       "Variant                                                           \n",
       "10397G                          1.0                         1.0   \n",
       "10463C                          0.0                         0.0   \n",
       "10559G                          0.0                         0.0   \n",
       "10589A                          1.0                         1.0   \n",
       "11251G                          0.0                         0.0   \n",
       "\n",
       "         AAACGAATCCATCGAA-1_Control  AAACGAATCTCGTAGA-1_Control  \\\n",
       "Variant                                                           \n",
       "10397G                          1.0                         1.0   \n",
       "10463C                          0.0                         0.0   \n",
       "10559G                          0.0                         0.0   \n",
       "10589A                          1.0                         1.0   \n",
       "11251G                          0.0                         0.0   \n",
       "\n",
       "         AAACTCGAGTGAAGGA-1_Control  AAACTCGCATGCACTA-1_Control  ...  \\\n",
       "Variant                                                          ...   \n",
       "10397G                     1.000000                         1.0  ...   \n",
       "10463C                     0.000000                         0.0  ...   \n",
       "10559G                     0.000000                         0.0  ...   \n",
       "10589A                     1.000000                         1.0  ...   \n",
       "11251G                     0.076923                         0.0  ...   \n",
       "\n",
       "         TTTGGTTTCTGATCCC-1_Input  TTTGTGTAGTTCGTTG-1_Input  \\\n",
       "Variant                                                       \n",
       "10397G                   0.979798                  1.000000   \n",
       "10463C                   0.000000                  0.000000   \n",
       "10559G                   0.000000                  0.000000   \n",
       "10589A                   1.000000                  0.984848   \n",
       "11251G                   0.000000                  0.036145   \n",
       "\n",
       "         TTTGTGTCACACATTG-1_Input  TTTGTGTGTAAGCCGA-1_Input  \\\n",
       "Variant                                                       \n",
       "10397G                        1.0                  1.000000   \n",
       "10463C                        0.0                  0.000000   \n",
       "10559G                        0.0                  0.062500   \n",
       "10589A                        1.0                  0.970588   \n",
       "11251G                        0.0                  0.000000   \n",
       "\n",
       "         TTTGTGTGTAGATTAG-1_Input  TTTGTGTGTAGGGTCA-1_Input  \\\n",
       "Variant                                                       \n",
       "10397G                   1.000000                  1.000000   \n",
       "10463C                   0.000000                  0.000000   \n",
       "10559G                   0.000000                  0.000000   \n",
       "10589A                   0.736842                  0.966102   \n",
       "11251G                   0.000000                  0.000000   \n",
       "\n",
       "         TTTGTGTGTTTCTTAC-1_Input  TTTGTGTTCCTGAAAC-1_Input  \\\n",
       "Variant                                                       \n",
       "10397G                        1.0                  0.978495   \n",
       "10463C                        0.0                  0.000000   \n",
       "10559G                        0.0                  0.000000   \n",
       "10589A                        1.0                  1.000000   \n",
       "11251G                        0.0                  0.000000   \n",
       "\n",
       "         TTTGTGTTCGGGAAAC-1_Input  TTTGTGTTCTGGCACG-1_Input  \n",
       "Variant                                                      \n",
       "10397G                        1.0                  1.000000  \n",
       "10463C                        0.0                  0.000000  \n",
       "10559G                        0.0                  0.000000  \n",
       "10589A                        1.0                  1.000000  \n",
       "11251G                        0.0                  0.023256  \n",
       "\n",
       "[5 rows x 9023 columns]"
      ]
     },
     "execution_count": 6,
     "metadata": {},
     "output_type": "execute_result"
    }
   ],
   "source": [
    "af_indir = join(INDIR, \"sc_af\", f\"donor{DONOR}\")\n",
    "\n",
    "AF_df = pd.read_csv(join(af_indir, \"af.tsv\"), index_col=0, sep=\"\\t\")\n",
    "DP_df = pd.read_csv(join(af_indir, \"dp.tsv\"), index_col=0, sep=\"\\t\")\n",
    "\n",
    "print(AF_df.shape)\n",
    "print(DP_df.shape)\n",
    "print(\"Depth\")\n",
    "print(DP_df.head())\n",
    "AF_df.head()"
   ]
  },
  {
   "cell_type": "code",
   "execution_count": 7,
   "metadata": {
    "scrolled": true
   },
   "outputs": [
    {
     "data": {
      "text/html": [
       "<div>\n",
       "<style scoped>\n",
       "    .dataframe tbody tr th:only-of-type {\n",
       "        vertical-align: middle;\n",
       "    }\n",
       "\n",
       "    .dataframe tbody tr th {\n",
       "        vertical-align: top;\n",
       "    }\n",
       "\n",
       "    .dataframe thead th {\n",
       "        text-align: right;\n",
       "    }\n",
       "</style>\n",
       "<table border=\"1\" class=\"dataframe\">\n",
       "  <thead>\n",
       "    <tr style=\"text-align: right;\">\n",
       "      <th></th>\n",
       "      <th>lineage</th>\n",
       "      <th>donor</th>\n",
       "      <th>condition</th>\n",
       "      <th>name</th>\n",
       "    </tr>\n",
       "    <tr>\n",
       "      <th>ID</th>\n",
       "      <th></th>\n",
       "      <th></th>\n",
       "      <th></th>\n",
       "      <th></th>\n",
       "    </tr>\n",
       "  </thead>\n",
       "  <tbody>\n",
       "    <tr>\n",
       "      <th>AAACGAAAGAATCAAC-1_Control</th>\n",
       "      <td>0</td>\n",
       "      <td>0</td>\n",
       "      <td>Control</td>\n",
       "      <td>0_0</td>\n",
       "    </tr>\n",
       "    <tr>\n",
       "      <th>AAATGAGAGAGACTCG-1_Control</th>\n",
       "      <td>0</td>\n",
       "      <td>0</td>\n",
       "      <td>Control</td>\n",
       "      <td>0_0</td>\n",
       "    </tr>\n",
       "    <tr>\n",
       "      <th>AACAAAGTCAAGTTGC-1_Control</th>\n",
       "      <td>0</td>\n",
       "      <td>0</td>\n",
       "      <td>Control</td>\n",
       "      <td>0_0</td>\n",
       "    </tr>\n",
       "    <tr>\n",
       "      <th>AACAAAGTCACATCCC-1_Control</th>\n",
       "      <td>0</td>\n",
       "      <td>0</td>\n",
       "      <td>Control</td>\n",
       "      <td>0_0</td>\n",
       "    </tr>\n",
       "    <tr>\n",
       "      <th>AACCAACGTTCATTTC-1_Control</th>\n",
       "      <td>0</td>\n",
       "      <td>0</td>\n",
       "      <td>Control</td>\n",
       "      <td>0_0</td>\n",
       "    </tr>\n",
       "    <tr>\n",
       "      <th>...</th>\n",
       "      <td>...</td>\n",
       "      <td>...</td>\n",
       "      <td>...</td>\n",
       "      <td>...</td>\n",
       "    </tr>\n",
       "    <tr>\n",
       "      <th>TGATCAGAGAGCACTG-1_Input</th>\n",
       "      <td>33</td>\n",
       "      <td>0</td>\n",
       "      <td>Input</td>\n",
       "      <td>0_33</td>\n",
       "    </tr>\n",
       "    <tr>\n",
       "      <th>TGCACCTCAAGCAATA-1_Input</th>\n",
       "      <td>33</td>\n",
       "      <td>0</td>\n",
       "      <td>Input</td>\n",
       "      <td>0_33</td>\n",
       "    </tr>\n",
       "    <tr>\n",
       "      <th>TGCTATTTCGCGTTCT-1_Input</th>\n",
       "      <td>33</td>\n",
       "      <td>0</td>\n",
       "      <td>Input</td>\n",
       "      <td>0_33</td>\n",
       "    </tr>\n",
       "    <tr>\n",
       "      <th>TTGCTTATCCACACCT-1_Input</th>\n",
       "      <td>33</td>\n",
       "      <td>0</td>\n",
       "      <td>Input</td>\n",
       "      <td>0_33</td>\n",
       "    </tr>\n",
       "    <tr>\n",
       "      <th>TTGTTGTTCTTAAGCG-1_Input</th>\n",
       "      <td>33</td>\n",
       "      <td>0</td>\n",
       "      <td>Input</td>\n",
       "      <td>0_33</td>\n",
       "    </tr>\n",
       "  </tbody>\n",
       "</table>\n",
       "<p>9023 rows × 4 columns</p>\n",
       "</div>"
      ],
      "text/plain": [
       "                            lineage  donor condition  name\n",
       "ID                                                        \n",
       "AAACGAAAGAATCAAC-1_Control        0      0   Control   0_0\n",
       "AAATGAGAGAGACTCG-1_Control        0      0   Control   0_0\n",
       "AACAAAGTCAAGTTGC-1_Control        0      0   Control   0_0\n",
       "AACAAAGTCACATCCC-1_Control        0      0   Control   0_0\n",
       "AACCAACGTTCATTTC-1_Control        0      0   Control   0_0\n",
       "...                             ...    ...       ...   ...\n",
       "TGATCAGAGAGCACTG-1_Input         33      0     Input  0_33\n",
       "TGCACCTCAAGCAATA-1_Input         33      0     Input  0_33\n",
       "TGCTATTTCGCGTTCT-1_Input         33      0     Input  0_33\n",
       "TTGCTTATCCACACCT-1_Input         33      0     Input  0_33\n",
       "TTGTTGTTCTTAAGCG-1_Input         33      0     Input  0_33\n",
       "\n",
       "[9023 rows x 4 columns]"
      ]
     },
     "execution_count": 7,
     "metadata": {},
     "output_type": "execute_result"
    }
   ],
   "source": [
    "cells_meta = pd.read_csv(join(INDIR, \"cells_meta.tsv\"), sep='\\t', index_col=\"ID\")#.sort_values([\"donor\", \"lineage\"])\n",
    "cells_meta[\"name\"] = cells_meta[\"donor\"].astype(str)+\"_\"+cells_meta[\"lineage\"].astype(str)\n",
    "# if \"donor_index\" in cells_meta.columns and \"lineage_index\" in cells_meta.columns:\n",
    "#     cells_meta = cells_meta.sort_values([\"donor_index\", \"lineage_index\"])\n",
    "#AD_df = pd.merge(AD_df, vcf[[\"#CHROM\", \"POS\", \"ALT\"]], how=\"inner\", left_index=True,right_index=True).set_index([\"#CHROM\", \"POS\", \"ALT\"])\n",
    "curr_labels = cells_meta[cells_meta[\"donor\"]==DONOR]\n",
    "curr_labels"
   ]
  },
  {
   "cell_type": "code",
   "execution_count": 8,
   "metadata": {},
   "outputs": [
    {
     "data": {
      "text/plain": [
       "array(['Control', 'Flt3l', 'Input'], dtype=object)"
      ]
     },
     "execution_count": 8,
     "metadata": {},
     "output_type": "execute_result"
    }
   ],
   "source": [
    "conditions = curr_labels[\"condition\"].unique()\n",
    "conditions"
   ]
  },
  {
   "cell_type": "code",
   "execution_count": 9,
   "metadata": {},
   "outputs": [],
   "source": [
    "def rm_high(df, thresh, pct_thresh):\n",
    "    return df.loc[~(((df>thresh).sum(axis=1)>pct_thresh*df.shape[0]))]\n",
    "\n",
    "def rm_low(df, thresh, pct_thresh):\n",
    "    return df.loc[~((df<thresh).sum(axis=1)>(pct_thresh*df.shape[1]))]\n",
    "\n",
    "    #return df.loc[~(((df<=thresh).sum(axis=1)>pct_thresh*df.shape[0]))]\n",
    "#df[(df<0.01).sum(axis=1)]"
   ]
  },
  {
   "cell_type": "markdown",
   "metadata": {},
   "source": [
    "## Get donor inds"
   ]
  },
  {
   "cell_type": "code",
   "execution_count": 10,
   "metadata": {
    "scrolled": false
   },
   "outputs": [
    {
     "data": {
      "text/plain": [
       "Index(['10397G', '10589A', '11761T', '13188T', '1438G', '146C', '14766T',\n",
       "       '15326G', '16126C', '16355T', '16362C', '196C', '204C', '2442C', '263G',\n",
       "       '2706G', '3847C', '4769G', '58C', '64T', '7028T', '73G', '750G',\n",
       "       '7598A', '827G', '8292A', '8461T', '8860G'],\n",
       "      dtype='object', name='Variant')"
      ]
     },
     "execution_count": 10,
     "metadata": {},
     "output_type": "execute_result"
    }
   ],
   "source": [
    "donor_inds = AF_df.index[((AF_df>0.9).sum(axis=1)>(0.9*AF_df.shape[1]))]\n",
    "donor_inds"
   ]
  },
  {
   "cell_type": "code",
   "execution_count": 11,
   "metadata": {},
   "outputs": [],
   "source": [
    "# median_af = curr_labels.groupby([\"lineage\", \"condition\"]).apply(calc_median, af=AF_df)\n",
    "# anno = median_af.reset_index()[[\"lineage\", \"condition\"]]\n",
    "\n",
    "# #median_dp = curr_labels.groupby([\"lineage\", \"condition\"]).apply(calc_median, af=nlog2(DP_df))\n",
    "# median_dp = curr_labels.groupby([\"lineage\", \"condition\"]).apply(calc_median, af=np.log2(DP_df+1))\n",
    "# anno_dp = median_dp.reset_index()[[\"lineage\", \"condition\"]]\n",
    "# median_dp = median_dp.reset_index(drop=True)\n",
    "\n",
    "# na_cells = curr_labels.loc[curr_labels[\"lineage\"].isnull()]\n",
    "# na_median_af = na_cells.groupby(\"condition\").apply(calc_median, af=AF_df)\n",
    "\n",
    "# if not (na_median_af.shape[0] == 0):\n",
    "#     print('na shape', na_median_af.shape)\n",
    "#     na_anno = pd.concat((anno,pd.DataFrame({\"lineage\":[\"None\"]*len(na_median_af.index), \"condition\":na_median_af.index})), \n",
    "#                         ignore_index=True)\n",
    "#     na_concat = pd.concat((median_af.reset_index(drop=True), na_median_af.reset_index(drop=True)), ignore_index=True)\n",
    "#     na_median_dp = na_cells.groupby(\"condition\").apply(calc_median, af=np.log2(DP_df+1))\n",
    "#     na_dp_concat = pd.concat((median_dp, na_median_dp.reset_index(drop=True)), ignore_index=True)\n",
    "# else:\n",
    "#     na_anno = anno\n",
    "#     na_concat = median_af.reset_index(drop=True)\n",
    "#     na_dp_concat = median_dp\n",
    "     \n",
    "  "
   ]
  },
  {
   "cell_type": "markdown",
   "metadata": {},
   "source": [
    "## Plot all cells in each clone"
   ]
  },
  {
   "cell_type": "code",
   "execution_count": 12,
   "metadata": {},
   "outputs": [],
   "source": [
    "from icecream import ic"
   ]
  },
  {
   "cell_type": "code",
   "execution_count": 13,
   "metadata": {},
   "outputs": [],
   "source": [
    "def get_unique_variants(cln_af, other_af, pct_thresh, af_thresh, other_pct_thresh):\n",
    "    n_thresh = pct_thresh*cln_af.shape[1]\n",
    "    n_oth_thresh = other_pct_thresh*other_af.shape[1]\n",
    "    #ic(n_thresh)\n",
    "    #ic(n_oth_thresh)\n",
    "    bin_cln = cln_af>af_thresh\n",
    "    bin_other = other_af>af_thresh\n",
    "    #ic(bin_cln.head())\n",
    "    cells_above = bin_cln.sum(axis=1)\n",
    "    pct_cells_above = cells_above/cells_above.shape[0]\n",
    "    #ic(cells_above.head())\n",
    "    up_vars = bin_cln.loc[cells_above > n_thresh].index\n",
    "    #ic(up_vars)\n",
    "    cells_other_above = bin_other.sum(axis=1)\n",
    "    pct_cells_other_above =  cells_other_above/cells_other_above.shape[0]\n",
    "    up_oth_vars = bin_other.loc[cells_other_above > n_oth_thresh].index\n",
    "    uniq_vars = list(set(up_vars) - set(up_oth_vars))\n",
    "    #ic(uniq_vars)\n",
    "    #ic(cells_above.loc[uniq_vars])\n",
    "    #ic(list(cells_above.loc[uniq_vars].values))\n",
    "    out = pd.DataFrame(index=uniq_vars, data={\"n_cells\":cells_above.loc[uniq_vars].values, \n",
    "                                              \"n_other_cells\": cells_other_above.loc[uniq_vars].values,\n",
    "                                              \"pct_above\": pct_cells_above,\n",
    "                                              \"pct_other_above\": pct_cells_other_above})\n",
    "    out[\"pct_thresh\"] = pct_thresh\n",
    "    out[\"af_thresh\"] = af_thresh\n",
    "    out[\"other_pct_thresh\"] = other_pct_thresh\n",
    "    return out"
   ]
  },
  {
   "cell_type": "code",
   "execution_count": 14,
   "metadata": {
    "scrolled": true
   },
   "outputs": [
    {
     "name": "stdout",
     "output_type": "stream",
     "text": [
      "0_0\n",
      "(68, 957)\n",
      "0_1\n",
      "(68, 624)\n",
      "0_10\n",
      "(68, 326)\n",
      "0_11\n",
      "(68, 318)\n",
      "0_12\n",
      "(68, 318)\n",
      "0_13\n",
      "(68, 266)\n",
      "0_14\n",
      "(68, 250)\n",
      "0_15\n",
      "(68, 232)\n",
      "0_16\n",
      "(68, 230)\n",
      "0_17\n",
      "(68, 214)\n",
      "0_18\n",
      "(68, 210)\n",
      "0_19\n",
      "(68, 197)\n",
      "0_2\n",
      "(68, 545)\n",
      "0_20\n",
      "(68, 177)\n",
      "0_21\n",
      "(68, 163)\n",
      "0_22\n",
      "(68, 154)\n",
      "0_23\n",
      "(68, 154)\n",
      "0_24\n",
      "(68, 146)\n",
      "0_25\n",
      "(68, 130)\n",
      "0_26\n",
      "(68, 127)\n",
      "0_27\n",
      "(68, 122)\n",
      "0_28\n",
      "(68, 122)\n",
      "0_29\n",
      "(68, 114)\n",
      "0_3\n",
      "(68, 429)\n",
      "0_30\n",
      "(68, 104)\n",
      "0_31\n",
      "(68, 102)\n",
      "0_32\n",
      "(68, 100)\n",
      "0_33\n",
      "(68, 71)\n",
      "0_4\n",
      "(68, 364)\n",
      "0_5\n",
      "(68, 362)\n",
      "0_6\n",
      "(68, 362)\n",
      "0_7\n",
      "(68, 353)\n",
      "0_8\n",
      "(68, 342)\n",
      "0_9\n",
      "(68, 338)\n"
     ]
    }
   ],
   "source": [
    "all_unique_df = []\n",
    "for cln, val in curr_labels.groupby(\"name\"):\n",
    "    print(cln)\n",
    "    cln_af = AF_df.loc[:, val.index]\n",
    "    other_af = AF_df.loc[:, curr_labels.drop(val.index).index]\n",
    "    curr_dp = DP_df.loc[:, val.index]\n",
    "    curr_labs = curr_labels[curr_labels.index.isin(cln_af.columns)]\n",
    "    print(cln_af.shape)\n",
    "    #curr_anno = pd.DataFrame(curr_af.apply(lambda x: x.name.split(\"_\")[-1], axis=0)).rename({0:\"condition\"},axis=1)\n",
    "    for pct_thr in pct_thresh:\n",
    "        for af_thr in af_thresh:\n",
    "            for other_pct_thr in other_pct_thresh:\n",
    "                unique_df = get_unique_variants(cln_af, other_af, pct_thr, af_thr, other_pct_thr)\n",
    "                unique_df[\"clone\"] = cln\n",
    "                unique_df[\"id\"] = unique_df[\"clone\"] + \"_\" + unique_df[\"pct_thresh\"].astype(str)+ \"_\" + unique_df[\"af_thresh\"].astype(str)+ \"_\" + unique_df[\"other_pct_thresh\"].astype(str)\n",
    "                unique_df[\"variant\"] = unique_df.index\n",
    "                unique_df = unique_df.set_index(\"id\")\n",
    "                all_unique_df.append(unique_df)"
   ]
  },
  {
   "cell_type": "code",
   "execution_count": 15,
   "metadata": {},
   "outputs": [],
   "source": [
    "all_df = pd.concat(all_unique_df)"
   ]
  },
  {
   "cell_type": "code",
   "execution_count": 16,
   "metadata": {
    "scrolled": false
   },
   "outputs": [
    {
     "name": "stderr",
     "output_type": "stream",
     "text": [
      "/home/isaac/miniconda3/envs/mttrace/lib/python3.7/site-packages/seaborn/_decorators.py:43: FutureWarning: Pass the following variable as a keyword arg: x. From version 0.12, the only valid positional argument will be `data`, and passing other arguments without an explicit keyword will result in an error or misinterpretation.\n",
      "  FutureWarning\n"
     ]
    },
    {
     "data": {
      "text/plain": [
       "Text(0.5, 0, 'Variants in a clone')"
      ]
     },
     "execution_count": 16,
     "metadata": {},
     "output_type": "execute_result"
    },
    {
     "data": {
      "image/png": "[encoded data removed]",
      "text/plain": [
       "<Figure size 432x288 with 1 Axes>"
      ]
     },
     "metadata": {
      "needs_background": "light"
     },
     "output_type": "display_data"
    }
   ],
   "source": [
    "import seaborn as sns\n",
    "sns.countplot([x.shape[0] for x in all_unique_df])\n",
    "plt.title(\"Number of variants in each cluster\")\n",
    "plt.xlabel(\"Variants in a clone\")"
   ]
  },
  {
   "cell_type": "code",
   "execution_count": 17,
   "metadata": {
    "scrolled": true
   },
   "outputs": [],
   "source": [
    "all_var_counts = {}\n",
    "for ind, curr_df in all_df.groupby([\"pct_thresh\", \"af_thresh\", \"other_pct_thresh\"]):\n",
    "    curr_var_counts = curr_df.groupby(\"variant\").size()\n",
    "    all_var_counts[(\"pct_thresh\", \"af_thresh\", \"other_pct_thresh\")] = curr_var_counts\n",
    "    f=plt.figure()\n",
    "    sns.countplot(x=curr_df[\"variant\"])\n",
    "    plt.title(ind)\n",
    "    plt.xticks(rotation=90)\n",
    "    plt.ylabel(\"Number of clones variant is seen in\")\n",
    "    plt.savefig(join(OUTDIR, f\"pct_thresh_{ind[0]}_af_thresh_{ind[1]}_other_pct_thresh_{ind[2]}__num_clones_per_var.png\"))\n",
    "    \n",
    "    f=plt.figure()\n",
    "    sns.countplot(x=curr_df.groupby(\"clone\").size())\n",
    "    plt.title(\"Number of variants in each cluster\")\n",
    "    plt.xlabel(\"Variants in a clone\")\n",
    "    plt.ylabel(\"Number of clones\")\n",
    "    plt.savefig(join(OUTDIR, f\"pct_thresh_{ind[0]}_af_thresh_{ind[1]}_other_pct_thresh_{ind[2]}__num_vars_in_clone.png\"))\n",
    "    plt.close('all')"
   ]
  },
  {
   "cell_type": "code",
   "execution_count": 18,
   "metadata": {},
   "outputs": [
    {
     "data": {
      "text/plain": [
       "variant\n",
       "11453A    1\n",
       "152C      1\n",
       "1949A     1\n",
       "dtype: int64"
      ]
     },
     "execution_count": 18,
     "metadata": {},
     "output_type": "execute_result"
    }
   ],
   "source": [
    "curr_var_counts = curr_df.groupby(\"variant\").size()\n",
    "curr_var_counts"
   ]
  },
  {
   "cell_type": "markdown",
   "metadata": {},
   "source": [
    "## Get dict of variants and how many clones its in"
   ]
  },
  {
   "cell_type": "code",
   "execution_count": 19,
   "metadata": {},
   "outputs": [],
   "source": [
    "# for pct_thr in pct_thresh:\n",
    "#     for af_thr in af_thresh:\n",
    "#         for other_pct_thr in other_pct_thresh:\n",
    "            "
   ]
  },
  {
   "cell_type": "code",
   "execution_count": null,
   "metadata": {},
   "outputs": [],
   "source": []
  }
 ],
 "metadata": {
  "celltoolbar": "Tags",
  "kernelspec": {
   "display_name": "Python 3 (ipykernel)",
   "language": "python",
   "name": "python3"
  },
  "language_info": {
   "codemirror_mode": {
    "name": "ipython",
    "version": 3
   },
   "file_extension": ".py",
   "mimetype": "text/x-python",
   "name": "python",
   "nbconvert_exporter": "python",
   "pygments_lexer": "ipython3",
   "version": "3.7.12"
  },
  "papermill": {
   "default_parameters": {},
   "duration": 5560.364131,
   "end_time": "2021-01-27T10:03:31.625455",
   "environment_variables": {},
   "exception": null,
   "input_path": "/data2/mito_lineage/src/vireo/vireoSNP_clones.ipynb",
   "output_path": "results/jan21_2021/chrM/P2_cellSNP_minC200_minAF0.01/lineage_chrM.ipynb",
   "parameters": {
    "AD_F": "data/jan21_2021/chrM/P2_cellSNP_minC200_minAF0.01/cellSNP.tag.AD.mtx",
    "DP_F": "data/jan21_2021/chrM/P2_cellSNP_minC200_minAF0.01/cellSNP.tag.DP.mtx"
   },
   "start_time": "2021-01-27T08:30:51.261324",
   "version": "2.2.0"
  }
 },
 "nbformat": 4,
 "nbformat_minor": 4
}
