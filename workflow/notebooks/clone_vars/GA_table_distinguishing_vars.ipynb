{
 "cells": [
  {
   "cell_type": "markdown",
   "metadata": {},
   "source": [
    "## Finding specific variants in each cluster\n",
    "Using the clones, we want to find variants in each clone that are specific to them.\n",
    "To define specificity, we will use two parameters: VAF frequency cutoff, and different %of population to have that variant.\n",
    "These parameters will be used to compare each clone's variants to the population"
   ]
  },
  {
   "cell_type": "code",
   "execution_count": 1,
   "metadata": {
    "ExecuteTime": {
     "end_time": "2021-05-13T20:12:12.105680Z",
     "start_time": "2021-05-13T20:12:12.099105Z"
    },
    "scrolled": false,
    "tags": [
     "parameters"
    ]
   },
   "outputs": [],
   "source": [
    "\n",
    "indir = \"/data/Mito_Trace/output/pipeline/v02/CHIP_b1/MTBlacklist_A2/data/merged/MT/cellr_True/numread_200/filters/minC10_minR50_topN0_hetT0.001_hetC10_hetCount5_bq20/mgatk/vireoIn/clones/variants_init/knn/kparam_30/\"\n",
    "outdir = \"/data/Mito_Trace/output/pipeline/v02/CHIP_b1/MTBlacklist_A2/data/merged/MT/cellr_True/numread_200/filters/minC10_minR50_topN0_hetT0.001_hetC10_hetCount5_bq20/mgatk/vireoIn/clones/variants_init/knn/kparam_30/distinct_variants/donor0/scrap/\"\n",
    "donor = 0\n",
    "anno_cells_meta_f = \"/data/Mito_Trace/output/pipeline/v02/CHIP_b1/MTBlacklist_A2/data/merged/MT/cellr_True/numread_200/filters/minC10_minR50_topN0_hetT0.001_hetC10_hetCount5_bq20/mgatk/vireoIn/clones/variants_init/knn/kparam_30/gff_A2_black/annotation_clones/se_cells_meta_labels.tsv\"\n",
    "# pct_thresh = [0.01, 0.1, 0.25, 0.4, 0.5, 0.75, 0.95]\n",
    "# other_pct_thresh = [0.01, 0.1, 0.25, 0.5]\n",
    "# af_thresh = [0, 0.01, 0.1, 0.25, 0.4]\n",
    "\n",
    "# Objective weights. order of the columns\n",
    "weights = [1,0,0,1,-1, 1, 1] #[1,1,1,1,1] #np.ones([len(objectives),])\n",
    "objectives_l = [\"variants_with_clone_norm_by_1_over_nclones_with_variant\", \n",
    "                \"max_clone_ncells_over_nclones\", \"max_clone_ncells_over_ncells\", \n",
    "                \"pct_thresh\",\"other_pct_thresh\", \"n_vars\", \"obj_nclones_more_than_one_unique\"] #\"nvars\"\n",
    "ncpus=8\n",
    "topn=16\n"
   ]
  },
  {
   "cell_type": "code",
   "execution_count": 2,
   "metadata": {
    "ExecuteTime": {
     "end_time": "2021-05-13T20:12:13.155526Z",
     "start_time": "2021-05-13T20:12:12.130665Z"
    },
    "scrolled": true
   },
   "outputs": [
    {
     "name": "stdout",
     "output_type": "stream",
     "text": [
      "fig_utils from mplh\n",
      "0.5.6\n"
     ]
    }
   ],
   "source": [
    "from os.path import join, exists, dirname\n",
    "from glob import glob\n",
    "import pickle\n",
    "import mplh.cluster_help as ch\n",
    "import mplh.fig_utils as fu\n",
    "\n",
    "import os\n",
    "import vireoSNP\n",
    "import numpy as np\n",
    "from scipy import sparse\n",
    "from scipy.io import mmread\n",
    "import matplotlib.pyplot as plt\n",
    "from scipy.stats import hypergeom\n",
    "print(vireoSNP.__version__)\n",
    "\n",
    "import pandas as pd\n",
    "import seaborn as sns\n",
    "from mplh import cluster_help as ch\n",
    "from vireoSNP import Vireo\n",
    "np.set_printoptions(formatter={'float': lambda x: format(x, '.3f')})\n",
    "\n",
    "from icecream import ic"
   ]
  },
  {
   "cell_type": "code",
   "execution_count": 3,
   "metadata": {},
   "outputs": [],
   "source": [
    "objectives = {ind:x for ind,x in enumerate(objectives_l)}\n",
    "weights = np.array(weights)\n",
    "\n",
    "assert(len(weights)==len(objectives))"
   ]
  },
  {
   "cell_type": "code",
   "execution_count": 4,
   "metadata": {},
   "outputs": [
    {
     "data": {
      "text/plain": [
       "{0: 'variants_with_clone_norm_by_1_over_nclones_with_variant',\n",
       " 1: 'max_clone_ncells_over_nclones',\n",
       " 2: 'max_clone_ncells_over_ncells',\n",
       " 3: 'pct_thresh',\n",
       " 4: 'other_pct_thresh',\n",
       " 5: 'n_vars',\n",
       " 6: 'obj_nclones_more_than_one_unique'}"
      ]
     },
     "execution_count": 4,
     "metadata": {},
     "output_type": "execute_result"
    }
   ],
   "source": [
    "objectives"
   ]
  },
  {
   "cell_type": "code",
   "execution_count": 5,
   "metadata": {},
   "outputs": [],
   "source": [
    "param_names = [\"pct_thresh\",\"af_thresh\", \"other_pct_thresh\"]\n",
    "n_params = 3"
   ]
  },
  {
   "cell_type": "code",
   "execution_count": 6,
   "metadata": {},
   "outputs": [],
   "source": [
    "import multiprocessing\n"
   ]
  },
  {
   "cell_type": "code",
   "execution_count": 7,
   "metadata": {},
   "outputs": [],
   "source": [
    "import pandas as pd\n",
    "import numpy as np\n",
    "import random\n",
    "from deap import base, algorithms\n",
    "from deap import creator\n",
    "from deap import tools"
   ]
  },
  {
   "cell_type": "code",
   "execution_count": 8,
   "metadata": {},
   "outputs": [],
   "source": [
    "if not exists(outdir):\n",
    "    os.mkdir(outdir)"
   ]
  },
  {
   "cell_type": "markdown",
   "metadata": {},
   "source": [
    "## Load & preprocess:\n",
    "- AF df\n",
    "- DP df\n",
    "- cells_meta with clone labels. need to create name as donor_lineage\n",
    "\n",
    "Remove donor variants (>0.9 in 90% of pop)"
   ]
  },
  {
   "cell_type": "code",
   "execution_count": 9,
   "metadata": {
    "scrolled": true
   },
   "outputs": [
    {
     "name": "stdout",
     "output_type": "stream",
     "text": [
      "(68, 9023)\n",
      "(68, 9023)\n",
      "Depth\n",
      "         AAACGAAAGAATCAAC-1_Control  AAACGAAAGCGAGAAA-1_Control  \\\n",
      "Variant                                                           \n",
      "10397G                          2.0                        16.0   \n",
      "10463C                         11.0                        16.0   \n",
      "10559G                         15.0                        26.0   \n",
      "10589A                         17.0                        21.0   \n",
      "11251G                         13.0                        25.0   \n",
      "\n",
      "         AAACGAAAGTACAGAT-1_Control  AAACGAAAGTTAGCAA-1_Control  \\\n",
      "Variant                                                           \n",
      "10397G                          1.0                         5.0   \n",
      "10463C                          3.0                         9.0   \n",
      "10559G                          5.0                         5.0   \n",
      "10589A                          6.0                         7.0   \n",
      "11251G                          5.0                         7.0   \n",
      "\n",
      "         AAACGAACACTCGCAG-1_Control  AAACGAATCAGGCGCT-1_Control  \\\n",
      "Variant                                                           \n",
      "10397G                         14.0                        58.0   \n",
      "10463C                          6.0                        48.0   \n",
      "10559G                         10.0                        66.0   \n",
      "10589A                          9.0                        67.0   \n",
      "11251G                         12.0                        91.0   \n",
      "\n",
      "         AAACGAATCCATCGAA-1_Control  AAACGAATCTCGTAGA-1_Control  \\\n",
      "Variant                                                           \n",
      "10397G                         39.0                        12.0   \n",
      "10463C                         30.0                         3.0   \n",
      "10559G                         16.0                         5.0   \n",
      "10589A                         24.0                        12.0   \n",
      "11251G                         37.0                        16.0   \n",
      "\n",
      "         AAACTCGAGTGAAGGA-1_Control  AAACTCGCATGCACTA-1_Control  ...  \\\n",
      "Variant                                                          ...   \n",
      "10397G                         15.0                        59.0  ...   \n",
      "10463C                          8.0                        39.0  ...   \n",
      "10559G                         21.0                        59.0  ...   \n",
      "10589A                         18.0                        48.0  ...   \n",
      "11251G                         26.0                        75.0  ...   \n",
      "\n",
      "         TTTGGTTTCTGATCCC-1_Input  TTTGTGTAGTTCGTTG-1_Input  \\\n",
      "Variant                                                       \n",
      "10397G                       99.0                      92.0   \n",
      "10463C                       78.0                      99.0   \n",
      "10559G                       86.0                      80.0   \n",
      "10589A                       88.0                      66.0   \n",
      "11251G                       78.0                      83.0   \n",
      "\n",
      "         TTTGTGTCACACATTG-1_Input  TTTGTGTGTAAGCCGA-1_Input  \\\n",
      "Variant                                                       \n",
      "10397G                      116.0                      39.0   \n",
      "10463C                      156.0                      22.0   \n",
      "10559G                      138.0                      32.0   \n",
      "10589A                      135.0                      34.0   \n",
      "11251G                      133.0                      45.0   \n",
      "\n",
      "         TTTGTGTGTAGATTAG-1_Input  TTTGTGTGTAGGGTCA-1_Input  \\\n",
      "Variant                                                       \n",
      "10397G                       38.0                      69.0   \n",
      "10463C                       14.0                      77.0   \n",
      "10559G                       13.0                      60.0   \n",
      "10589A                       19.0                      59.0   \n",
      "11251G                       30.0                      81.0   \n",
      "\n",
      "         TTTGTGTGTTTCTTAC-1_Input  TTTGTGTTCCTGAAAC-1_Input  \\\n",
      "Variant                                                       \n",
      "10397G                       72.0                      93.0   \n",
      "10463C                       58.0                      89.0   \n",
      "10559G                       48.0                      77.0   \n",
      "10589A                       55.0                      99.0   \n",
      "11251G                       90.0                     139.0   \n",
      "\n",
      "         TTTGTGTTCGGGAAAC-1_Input  TTTGTGTTCTGGCACG-1_Input  \n",
      "Variant                                                      \n",
      "10397G                       71.0                      67.0  \n",
      "10463C                       49.0                      91.0  \n",
      "10559G                       64.0                      87.0  \n",
      "10589A                       71.0                      80.0  \n",
      "11251G                       80.0                      86.0  \n",
      "\n",
      "[5 rows x 9023 columns]\n"
     ]
    },
    {
     "data": {
      "text/plain": [
       "Index(['10397G', '10589A', '11761T', '13188T', '1438G', '146C', '14766T',\n",
       "       '15326G', '16126C', '16355T', '16362C', '196C', '204C', '2442C', '263G',\n",
       "       '2706G', '3847C', '4769G', '58C', '64T', '7028T', '73G', '750G',\n",
       "       '7598A', '827G', '8292A', '8461T', '8860G'],\n",
       "      dtype='object', name='Variant')"
      ]
     },
     "execution_count": 9,
     "metadata": {},
     "output_type": "execute_result"
    }
   ],
   "source": [
    "af_indir = join(indir, \"sc_af\", f\"donor{donor}\")\n",
    "\n",
    "AF_df = pd.read_csv(join(af_indir, \"af.tsv\"), index_col=0, sep=\"\\t\")\n",
    "DP_df = pd.read_csv(join(af_indir, \"dp.tsv\"), index_col=0, sep=\"\\t\")\n",
    "\n",
    "print(AF_df.shape)\n",
    "print(DP_df.shape)\n",
    "print(\"Depth\")\n",
    "print(DP_df.head())\n",
    "AF_df.head()\n",
    "\n",
    "cells_meta = pd.read_csv(join(indir, \"cells_meta.tsv\"), sep='\\t', index_col=\"ID\")#.sort_values([\"donor\", \"lineage\"])\n",
    "cells_meta[\"name\"] = cells_meta[\"donor\"].astype(str)+\"_\"+cells_meta[\"lineage\"].astype(str)\n",
    "# if \"donor_index\" in cells_meta.columns and \"lineage_index\" in cells_meta.columns:\n",
    "#     cells_meta = cells_meta.sort_values([\"donor_index\", \"lineage_index\"])\n",
    "#AD_df = pd.merge(AD_df, vcf[[\"#CHROM\", \"POS\", \"ALT\"]], how=\"inner\", left_index=True,right_index=True).set_index([\"#CHROM\", \"POS\", \"ALT\"])\n",
    "curr_labels = cells_meta[cells_meta[\"donor\"]==donor]\n",
    "curr_labels\n",
    "\n",
    "conditions = curr_labels[\"condition\"].unique()\n",
    "conditions\n",
    "\n",
    "def rm_high(df, thresh, pct_thresh):\n",
    "    return df.loc[~(((df>thresh).sum(axis=1)>pct_thresh*df.shape[0]))]\n",
    "\n",
    "def rm_low(df, thresh, pct_thresh):\n",
    "    return df.loc[~((df<thresh).sum(axis=1)>(pct_thresh*df.shape[1]))]\n",
    "\n",
    "    #return df.loc[~(((df<=thresh).sum(axis=1)>pct_thresh*df.shape[0]))]\n",
    "#df[(df<0.01).sum(axis=1)]\n",
    "\n",
    "## Get donor inds\n",
    "\n",
    "donor_inds = AF_df.index[((AF_df>0.9).sum(axis=1)>(0.9*AF_df.shape[1]))]\n",
    "donor_inds"
   ]
  },
  {
   "cell_type": "code",
   "execution_count": null,
   "metadata": {},
   "outputs": [],
   "source": []
  },
  {
   "cell_type": "markdown",
   "metadata": {},
   "source": [
    "## Plot all cells in each clone"
   ]
  },
  {
   "cell_type": "markdown",
   "metadata": {},
   "source": [
    "## objective: \n",
    "1. Maximize: /sum_{v \\in V}{max({c_{ncells}\\in C}/|C|), where V is number of variants, c_{i,v,ncells} is number of cells in clone i with variant v, and C is the set of clones with the variant. We want to maximize this objective. Across all variants.\n",
    "2. Same as 1, but denominator is not number of clones with variant but number of cells with variant\n",
    "3. Maximize pct_thresh\n",
    "4. Minimize other_pct_thresh (not high priority)\n",
    "\n",
    "## Constraint:\n",
    "1. pct_thresh>=other_pct_thresh\n",
    "2. af_thresh*coverage_thresh>=2\n",
    "\n",
    "## Bounds:\n",
    "1. pct_thresh: 0.1-1\n",
    "2. other_pct_thresh: 0.1-1\n",
    "3. af_thresh: 0.01-0.4\n",
    "4. coverage_thresh: 2-60\n"
   ]
  },
  {
   "cell_type": "code",
   "execution_count": 10,
   "metadata": {},
   "outputs": [],
   "source": [
    "from icecream import ic\n",
    "\n",
    "ic.disable()"
   ]
  },
  {
   "cell_type": "code",
   "execution_count": 11,
   "metadata": {},
   "outputs": [],
   "source": [
    "def get_unique_variants(cln_af, other_af, pct_thresh, af_thresh, other_pct_thresh):\n",
    "    \"\"\" gets the distinct variants in a clone.\n",
    "    \"\"\"\n",
    "    n_thresh = pct_thresh*cln_af.shape[1]\n",
    "    n_oth_thresh = other_pct_thresh*other_af.shape[1]\n",
    "    bin_cln = cln_af>af_thresh\n",
    "    bin_other = other_af>af_thresh\n",
    "    cells_above = bin_cln.sum(axis=1)\n",
    "    pct_cells_above = cells_above/bin_cln.shape[1]\n",
    "    up_vars = bin_cln.loc[cells_above > n_thresh].index\n",
    "    cells_other_above = bin_other.sum(axis=1)\n",
    "    pct_cells_other_above = cells_other_above/bin_other.shape[1]\n",
    "    up_oth_vars = bin_other.loc[cells_other_above > n_oth_thresh].index\n",
    "    uniq_vars = list(set(up_vars) - set(up_oth_vars))\n",
    "    out = pd.DataFrame(index=uniq_vars, data={\"n_cells\":cells_above.loc[uniq_vars].values, \n",
    "                                              \"n_other_cells\": cells_other_above.loc[uniq_vars].values,\n",
    "                                              \"pct_above\": pct_cells_above,\n",
    "                                              \"pct_other_above\": pct_cells_other_above})\n",
    "    out[\"pct_thresh\"] = pct_thresh\n",
    "    out[\"af_thresh\"] = af_thresh\n",
    "    out[\"other_pct_thresh\"] = other_pct_thresh\n",
    "    return out\n",
    "\n",
    "\n",
    "def get_clones_unique_variants(solution, data):\n",
    "    all_unique_df = []\n",
    "    pct_thresh, af_thresh, other_pct_thresh = solution[\"pct_thresh\"], solution[\"af_thresh\"], solution[\"other_pct_thresh\"] #solution[0], solution[1], solution[2]\n",
    "    curr_labels = data[\"curr_labels\"]\n",
    "    AF_df = data[\"AF_df\"]\n",
    "    DP_df = data[\"DP_df\"]\n",
    "    for cln, val in curr_labels.groupby(\"name\"):\n",
    "        #ic(cln)\n",
    "        cln_af = AF_df.loc[:, val.index]\n",
    "        other_af = AF_df.loc[:, curr_labels.drop(val.index).index]\n",
    "        curr_dp = DP_df.loc[:, val.index]\n",
    "        curr_labs = curr_labels[curr_labels.index.isin(cln_af.columns)]\n",
    "        #ic(cln_af.shape)\n",
    "        unique_df = get_unique_variants(cln_af, other_af, pct_thresh, af_thresh, other_pct_thresh)\n",
    "        unique_df[\"clone\"] = cln\n",
    "        unique_df[\"id\"] = unique_df[\"clone\"] + \"_\" + unique_df[\"pct_thresh\"].astype(str)+ \"_\" + unique_df[\"af_thresh\"].astype(str)+ \"_\" + unique_df[\"other_pct_thresh\"].astype(str)\n",
    "        unique_df[\"variant\"] = unique_df.index\n",
    "        unique_df = unique_df.set_index(\"id\")\n",
    "        all_unique_df.append(unique_df)\n",
    "    all_unique_df = pd.concat(all_unique_df)\n",
    "    all_unique_df[\"log2_n_cells\"] = np.log2(all_unique_df[\"n_cells\"]+1)\n",
    "    return all_unique_df\n",
    "\n",
    "\n",
    "\n",
    "def _objective_two_unique_vars_in_clone(all_unique_df, to_pivot=True):\n",
    "    if to_pivot:\n",
    "        if \"id\" in all_unique_df.columns:\n",
    "            df = all_unique_df.pivot(index=\"id\", columns=\"variant\", values=\"n_cells\").fillna(0).astype(int)\n",
    "        else:\n",
    "            df = all_unique_df.reset_index().pivot(index=\"id\", columns=\"variant\", values=\"n_cells\").fillna(0).astype(int)\n",
    "    else:\n",
    "        df = all_unique_df\n",
    "    vars_to_keep = df.loc[:,(df>0).sum()==1].columns # Variants with just 1 clone\n",
    "    clones_to_keep = df.loc[df.sum(axis=1)>1].index # Clones w >2 enriched variants\n",
    "    obj = 0\n",
    "    def cl_more_than_one(cl_ser):  \n",
    "        curr = cl_ser[cl_ser > 0] # variants in a clone\n",
    "        # check if more than one unique variant for this clone\n",
    "        return sum([True if x in vars_to_keep else False for x in curr.index]) > 1\n",
    "\n",
    "#     def cl_more_than_one(cl_ser, vars_to_keep):  \n",
    "#         curr = cl_ser[cl_ser > 0] # variants in a clone\n",
    "#         # check if more than one unique variant for this clone\n",
    "#         return sum([True if x in vars_to_keep else False for x in curr.index]) > 1\n",
    "    #obj = sum(df.loc[clones_to_keep].apply(lambda x: x(lambda y):, axis=0))\n",
    "    obj = sum(df.loc[clones_to_keep].apply(cl_more_than_one, axis=1))\n",
    "    return obj\n",
    "\n",
    "\n",
    "def _objectives(data):\n",
    "    all_unique_df = data[\"all_unique_df\"]\n",
    "    #print('all_unique_df', all_unique_df.head)\n",
    "    #ic('all_unique_df', all_unique_df.shape)\n",
    "    obj_max_nce_over_ncl = 0\n",
    "    obj_max_nce_over_nce = 0\n",
    "    obj_cl_over_ncl = 0\n",
    "    obj_nvars = 0\n",
    "    if len(all_unique_df) == 0:\n",
    "        #print('all 0', all_unique_df.columns)\n",
    "        #return {x:(-1*np.inf) for x in objectives_l} # return score of 0 since all positive values\n",
    "        return {x:(0) for x in objectives_l} # return score of 0 since all positive values\n",
    "    obj_d = all_unique_df.iloc[0][\"pct_thresh\"] \n",
    "    obj_e = all_unique_df.iloc[0][\"other_pct_thresh\"]\n",
    "    for v, v_df in all_unique_df.groupby(\"variant\"):\n",
    "        #ic(v)\n",
    "        max_ncells = max(v_df[\"n_cells\"])\n",
    "        n_clones = len(set(v_df[\"clone\"].values))\n",
    "        obj_max_nce_over_ncl += max_ncells/n_clones\n",
    "        obj_max_nce_over_nce += max_ncells/v_df[\"n_cells\"].sum()\n",
    "        \n",
    "        if n_clones != 0:\n",
    "            obj_cl_over_ncl += 1/n_clones\n",
    "            obj_nvars += 1\n",
    "        \n",
    "    # calculate objective number of clones with more than one unique variant\n",
    "    obj_nclones_more_than_one_unique =  _objective_two_unique_vars_in_clone(all_unique_df, to_pivot=True)\n",
    "    \n",
    "    objectives = {\"variants_with_clone_norm_by_1_over_nclones_with_variant\":obj_cl_over_ncl,\n",
    "                  \"max_clone_ncells_over_nclones\":obj_max_nce_over_ncl, \n",
    "                  \"max_clone_ncells_over_ncells\":obj_max_nce_over_nce, \n",
    "                  \"pct_thresh\":obj_d,\"other_pct_thresh\":obj_e,\n",
    "                   \"n_vars\":obj_nvars, \"obj_nclones_more_than_one_unique\": obj_nclones_more_than_one_unique}\n",
    "    return objectives\n",
    "\n",
    "def _constraints(solution):\n",
    "    #if solution[\"pct_thresh\"] < solution[\"other_pct_thresh\"]:\n",
    "    if \"coverage_thresh\" not in solution:\n",
    "        return None\n",
    "    if solution[\"af_thresh\"]*solution[\"coverage_thresh\"] >= 2:\n",
    "        return True\n",
    "    else:\n",
    "        return False\n",
    "\n",
    "\n",
    "def evaluate_series(individual_ser, AF_df, DP_df, curr_labels, return_data=False):\n",
    "    params = individual_ser.to_dict()\n",
    "    #print('params', params)\n",
    "    #solution = {\"pct_thresh\": individual[0], \"af_thresh\":individual[1],  \"other_pct_thresh\": individual[2]}\n",
    "    data = {\"AF_df\": AF_df, \"DP_df\":DP_df, \"curr_labels\":curr_labels} \n",
    "    all_unique_df = get_clones_unique_variants(params, data)\n",
    "    data[\"all_unique_df\"] = all_unique_df\n",
    "    eval_out = _objectives(data)\n",
    "    if return_data:\n",
    "        return pd.Series(eval_out), data\n",
    "    else:\n",
    "        return pd.Series(eval_out)\n",
    "\n"
   ]
  },
  {
   "cell_type": "markdown",
   "metadata": {},
   "source": [
    "## GA or gridsearch on parameters and evaluate objectives \n"
   ]
  },
  {
   "cell_type": "markdown",
   "metadata": {},
   "source": [
    "## Grid search"
   ]
  },
  {
   "cell_type": "code",
   "execution_count": 12,
   "metadata": {
    "scrolled": false
   },
   "outputs": [],
   "source": [
    "# from itertools import product\n",
    "# pct_thresh = np.arange(0.05, 1, 0.05)\n",
    "# other_pct_thresh = np.arange(0.005, 1, 0.05)\n",
    "# af_thresh = np.arange(0.005, 1, 0.05)\n",
    "\n",
    "\n",
    "# # There are 7 params to use for calling the clone\n",
    "# params = {\"pct_thresh\": pct_thresh,\n",
    "#           \"other_pct_thresh\": other_pct_thresh,\n",
    "#           \"af_thresh\": af_thresh,}\n",
    "# full_params = list(product(*list(params.values())))\n",
    "# full_params = pd.DataFrame(full_params, columns=params.keys())\n",
    "\n",
    "# print(full_params.shape)\n",
    "# full_params.head()\n"
   ]
  },
  {
   "cell_type": "code",
   "execution_count": 13,
   "metadata": {},
   "outputs": [],
   "source": [
    "def set_multi_rank(results, weights):\n",
    "    if \"multi\" in results.columns: #in case multi was added before\n",
    "        rank_results = results.drop(\"multi\",axis=1).rank(na_option='top')\n",
    "    else:\n",
    "        rank_results = results.rank(na_option='top')\n",
    "    rank_results[\"multi\"] = (weights*rank_results).sum(axis=1)\n",
    "    return rank_results.sort_values(by=\"multi\")[::-1]\n",
    "\n",
    "def set_multi(results, weights):\n",
    "    print(results.shape)\n",
    "    # first normalize results for each column to sum to 1\n",
    "    objs_total = results.replace([-np.inf, np.inf], np.nan).sum(axis=0)\n",
    "    print('objs_total', objs_total.head())\n",
    "    results_norm = results.apply(lambda x: x/objs_total.loc[x.name], axis=0)\n",
    "    \n",
    "    results_norm[\"multi\"] = (weights*results_norm).sum(axis=1)\n",
    "    return results_norm.sort_values(by=\"multi\")[::-1]"
   ]
  },
  {
   "cell_type": "code",
   "execution_count": null,
   "metadata": {},
   "outputs": [],
   "source": []
  },
  {
   "cell_type": "markdown",
   "metadata": {},
   "source": [
    "---"
   ]
  },
  {
   "cell_type": "markdown",
   "metadata": {},
   "source": [
    "# Using GA"
   ]
  },
  {
   "cell_type": "code",
   "execution_count": 14,
   "metadata": {},
   "outputs": [],
   "source": [
    "ic.enable()"
   ]
  },
  {
   "cell_type": "code",
   "execution_count": 15,
   "metadata": {},
   "outputs": [],
   "source": [
    "# the random initialization of the genetic algorithm is done here\n",
    "# it gives a list of integers with for each products the number of times it is bought\n",
    "lower_bounds = [0,0,0]\n",
    "upper_bounds = [1,1,1]\n",
    "\n",
    "\n",
    "def init_pop(n):\n",
    "    return list(np.random.random(size=n))\n",
    "\n",
    "\n",
    "# def checkBounds(min, max):\n",
    "#     def decorator(func):\n",
    "#         def wrapper(*args, **kargs):\n",
    "#             offspring = func(*args, **kargs)\n",
    "#             print('offspring', offspring)\n",
    "#             print('offspring len', len(offspring))\n",
    "#             print('offspring len 0', len(offspring[0]))\n",
    "#             for child in offspring:\n",
    "#                 for i in range(len(child)):\n",
    "#                     print(child[i], 'max', max[i])\n",
    "#                     for j, attr in enumerate(child[i]):\n",
    "#                         if attr > max[j]:\n",
    "#                             child[i][j] = max\n",
    "#                         elif \n",
    "#                     if child[i] > max[i]:\n",
    "#                         child[i] = max[i]\n",
    "#                     elif child[i] < min[i]:\n",
    "#                         child[i] = min[i]\n",
    "#             return offspring\n",
    "#         return wrapper\n",
    "#     return decorator\n",
    "def checkBounds(min, max):\n",
    "    def decorator(func):\n",
    "        def wrapper(*args, **kargs):\n",
    "            offspring = func(*args, **kargs)\n",
    "            for child in offspring:\n",
    "                for i in range(len(child)):\n",
    "                    if child[i] > max:\n",
    "                        child[i] = max\n",
    "                    elif child[i] < min:\n",
    "                        child[i] = min\n",
    "            return offspring\n",
    "        return wrapper\n",
    "    return decorator\n",
    "#from scoop import futures\n",
    "\n",
    "# this is the setup of the deap library: registering the different function into the toolbox\n",
    "creator.create(\"FitnessMulti\", base.Fitness, weights = (1,0,0,1,-1, 1, 1))\n",
    "creator.create(\"Individual\", list, fitness=creator.FitnessMulti)\n",
    "\n",
    "toolbox = base.Toolbox()\n",
    "\n",
    "#toolbox.register(\"map\", futures.map)\n",
    "toolbox.register(\"n_per_product\", init_pop, n=n_params)\n",
    "\n",
    "toolbox.register(\"individual\", tools.initRepeat, creator.Individual, toolbox.n_per_product, n=n_params)\n",
    "toolbox.register(\"population\", tools.initRepeat, list, toolbox.individual)\n",
    "\n",
    "\n",
    "\n",
    "def evaluate(individual, AF_df, DP_df, curr_labels):\n",
    "    ic('individual before', individual)\n",
    "    ic(len(individual))\n",
    "    individual = individual[0]\n",
    "    ic('individual after', individual)\n",
    "    ic(len(individual))\n",
    "    #pct_thresh, af_thresh, other_pct_thresh = individual[\"pct_thresh\"], individual[\"af_thresh\"], individual[\"other_pct_thresh\"] #solution[0], solution[1], solution[2]\n",
    "    \n",
    "    solution = {\"pct_thresh\": individual[0], \"af_thresh\":individual[1],  \"other_pct_thresh\": individual[2]}\n",
    "    #data = \n",
    "    data = {\"AF_df\": AF_df, \"DP_df\":DP_df, \"curr_labels\":curr_labels} \n",
    "    all_unique_df = get_clones_unique_variants(solution, data)\n",
    "    data[\"all_unique_df\"] = all_unique_df\n",
    "    eval_out = _objectives(data)\n",
    "    ic(tuple(eval_out.values()))\n",
    "    print(tuple(eval_out.values()))\n",
    "    return tuple(eval_out.values())\n",
    "\n",
    "toolbox.register(\"evaluate\", evaluate, AF_df=AF_df, DP_df=DP_df, curr_labels=curr_labels)\n",
    "\n",
    "toolbox.register(\"mate\", tools.cxTwoPoint)\n",
    "toolbox.register(\"mutate\", tools.mutFlipBit, indpb=0.05)\n",
    "toolbox.register(\"select\", tools.selTournament, tournsize=3)\n",
    "\n",
    "# toolbox.register(\"mate\", tools.cxBlend, alpha=0.2)\n",
    "# toolbox.register(\"mutate\", tools.mutGaussian, mu=0, sigma=2, indp=0.05)\n",
    "\n",
    "# LOWER AND UPPER BOUNDs\n",
    "# toolbox.decorate(\"mate\", checkBounds(lower_bounds, upper_bounds))\n",
    "# toolbox.decorate(\"mutate\", checkBounds(lower_bounds, upper_bounds))\n",
    "toolbox.decorate(\"mate\", checkBounds(0, 1))\n",
    "toolbox.decorate(\"mutate\", checkBounds(0, 1))\n",
    "#toolbox.decorate(\"evaluate\", tools.De)\n",
    "# ## Initialize ga\n",
    "pool = multiprocessing.Pool(processes=16)\n",
    "\n",
    "toolbox.register(\"map\", pool.map)\n",
    "\n",
    "\n",
    "stats = tools.Statistics(key=lambda ind: ind.fitness.values)\n",
    "stats.register(\"avg\", np.mean)\n",
    "stats.register(\"std\", np.std)\n",
    "stats.register(\"min\", np.min)\n",
    "stats.register(\"max\", np.max)\n",
    "\n",
    "# logbook = tools.Logbook()\n",
    "# logbook.record(gen=0, evals=30, **record)\n",
    "# import pickle\n",
    "# pickle.dump(logbook, lb_file)\n"
   ]
  },
  {
   "cell_type": "code",
   "execution_count": 16,
   "metadata": {},
   "outputs": [],
   "source": [
    "ic.disable()"
   ]
  },
  {
   "cell_type": "code",
   "execution_count": 17,
   "metadata": {
    "scrolled": true
   },
   "outputs": [
    {
     "name": "stdout",
     "output_type": "stream",
     "text": [
      "(3.13125, 391.98125, 3.3998545287276465, 0.5370836996640017, 0.9294268879634274, 5, 0)\n",
      "(2.590909090909091, 286.04545454545456, 3.1485515382887943, 0.046588613875601315, 0.5699834257647383, 4, 0)\n",
      "(0, 0, 0, 0, 0, 0, 0)\n",
      "(1.1111111111111112, 139.11111111111111, 1.3021442495126705, 0.705265235408423, 0.4353603264532637, 2, 0)\n",
      "(10.0, 456.0, 10.313616071428571, 0.10579650394585671, 0.22666567688416972, 11, 1)\n",
      "(3.0, 277.0, 3.0, 0.26591531074268937, 0.059651214269890174, 3, 0)\n",
      "(3.0, 415.0, 3.0, 0.9320203462171699, 0.07306184353512313, 3, 0)\n",
      "(3.125, 499.75, 3.2906940553999378, 0.5409150097160518, 0.3921148622028032, 4, 0)\n",
      "8\n"
     ]
    },
    {
     "ename": "ZeroDivisionError",
     "evalue": "float division by zero",
     "output_type": "error",
     "traceback": [
      "\u001b[0;31m---------------------------------------------------------------------------\u001b[0m",
      "\u001b[0;31mZeroDivisionError\u001b[0m                         Traceback (most recent call last)",
      "\u001b[0;32m/tmp/ipykernel_3777926/1496378126.py\u001b[0m in \u001b[0;36m<module>\u001b[0;34m\u001b[0m\n\u001b[1;32m     72\u001b[0m     \u001b[0;32mreturn\u001b[0m \u001b[0mbest\u001b[0m\u001b[0;34m,\u001b[0m \u001b[0mpop\u001b[0m\u001b[0;34m\u001b[0m\u001b[0;34m\u001b[0m\u001b[0m\n\u001b[1;32m     73\u001b[0m \u001b[0;34m\u001b[0m\u001b[0m\n\u001b[0;32m---> 74\u001b[0;31m \u001b[0mbest_solution\u001b[0m\u001b[0;34m,\u001b[0m \u001b[0mpop\u001b[0m \u001b[0;34m=\u001b[0m \u001b[0mmain\u001b[0m\u001b[0;34m(\u001b[0m\u001b[0;34m)\u001b[0m\u001b[0;34m\u001b[0m\u001b[0;34m\u001b[0m\u001b[0m\n\u001b[0m\u001b[1;32m     75\u001b[0m \u001b[0;34m\u001b[0m\u001b[0m\n\u001b[1;32m     76\u001b[0m \u001b[0;31m#products_table['univariate_choice'] = pd.Series(best_solution[0])\u001b[0m\u001b[0;34m\u001b[0m\u001b[0;34m\u001b[0m\u001b[0;34m\u001b[0m\u001b[0m\n",
      "\u001b[0;32m/tmp/ipykernel_3777926/1496378126.py\u001b[0m in \u001b[0;36mmain\u001b[0;34m()\u001b[0m\n\u001b[1;32m     20\u001b[0m     \u001b[0mprint\u001b[0m\u001b[0;34m(\u001b[0m\u001b[0mlen\u001b[0m\u001b[0;34m(\u001b[0m\u001b[0mpop\u001b[0m\u001b[0;34m)\u001b[0m\u001b[0;34m)\u001b[0m\u001b[0;34m\u001b[0m\u001b[0;34m\u001b[0m\u001b[0m\n\u001b[1;32m     21\u001b[0m     \u001b[0;31m#print(len(pop[0].fitness.values))\u001b[0m\u001b[0;34m\u001b[0m\u001b[0;34m\u001b[0m\u001b[0;34m\u001b[0m\u001b[0m\n\u001b[0;32m---> 22\u001b[0;31m     \u001b[0mprint\u001b[0m\u001b[0;34m(\u001b[0m\u001b[0mlen\u001b[0m\u001b[0;34m(\u001b[0m\u001b[0mind\u001b[0m\u001b[0;34m.\u001b[0m\u001b[0mfitness\u001b[0m\u001b[0;34m.\u001b[0m\u001b[0mvalues\u001b[0m\u001b[0;34m)\u001b[0m\u001b[0;34m)\u001b[0m\u001b[0;34m\u001b[0m\u001b[0;34m\u001b[0m\u001b[0m\n\u001b[0m\u001b[1;32m     23\u001b[0m     \u001b[0mfits\u001b[0m \u001b[0;34m=\u001b[0m \u001b[0;34m[\u001b[0m\u001b[0mind\u001b[0m\u001b[0;34m.\u001b[0m\u001b[0mfitness\u001b[0m\u001b[0;34m.\u001b[0m\u001b[0mvalues\u001b[0m\u001b[0;34m[\u001b[0m\u001b[0;36m0\u001b[0m\u001b[0;34m]\u001b[0m \u001b[0;32mfor\u001b[0m \u001b[0mind\u001b[0m \u001b[0;32min\u001b[0m \u001b[0mpop\u001b[0m\u001b[0;34m]\u001b[0m\u001b[0;34m\u001b[0m\u001b[0;34m\u001b[0m\u001b[0m\n\u001b[1;32m     24\u001b[0m \u001b[0;34m\u001b[0m\u001b[0m\n",
      "\u001b[0;32m~/miniconda3/envs/mttrace/lib/python3.7/site-packages/deap/base.py\u001b[0m in \u001b[0;36mgetValues\u001b[0;34m(self)\u001b[0m\n\u001b[1;32m    183\u001b[0m \u001b[0;34m\u001b[0m\u001b[0m\n\u001b[1;32m    184\u001b[0m     \u001b[0;32mdef\u001b[0m \u001b[0mgetValues\u001b[0m\u001b[0;34m(\u001b[0m\u001b[0mself\u001b[0m\u001b[0;34m)\u001b[0m\u001b[0;34m:\u001b[0m\u001b[0;34m\u001b[0m\u001b[0;34m\u001b[0m\u001b[0m\n\u001b[0;32m--> 185\u001b[0;31m         \u001b[0;32mreturn\u001b[0m \u001b[0mtuple\u001b[0m\u001b[0;34m(\u001b[0m\u001b[0mmap\u001b[0m\u001b[0;34m(\u001b[0m\u001b[0mtruediv\u001b[0m\u001b[0;34m,\u001b[0m \u001b[0mself\u001b[0m\u001b[0;34m.\u001b[0m\u001b[0mwvalues\u001b[0m\u001b[0;34m,\u001b[0m \u001b[0mself\u001b[0m\u001b[0;34m.\u001b[0m\u001b[0mweights\u001b[0m\u001b[0;34m)\u001b[0m\u001b[0;34m)\u001b[0m\u001b[0;34m\u001b[0m\u001b[0;34m\u001b[0m\u001b[0m\n\u001b[0m\u001b[1;32m    186\u001b[0m \u001b[0;34m\u001b[0m\u001b[0m\n\u001b[1;32m    187\u001b[0m     \u001b[0;32mdef\u001b[0m \u001b[0msetValues\u001b[0m\u001b[0;34m(\u001b[0m\u001b[0mself\u001b[0m\u001b[0;34m,\u001b[0m \u001b[0mvalues\u001b[0m\u001b[0;34m)\u001b[0m\u001b[0;34m:\u001b[0m\u001b[0;34m\u001b[0m\u001b[0;34m\u001b[0m\u001b[0m\n",
      "\u001b[0;31mZeroDivisionError\u001b[0m: float division by zero"
     ]
    }
   ],
   "source": [
    "\n",
    "## Run\n",
    "## V02 - using main function taken from site\n",
    "\n",
    "# this is the definition of the total genetic algorithm is executed, it is almost literally copied from the deap library\n",
    "def main():\n",
    "    pop = toolbox.population(n=8)\n",
    "    \n",
    "    # Evaluate the entire population\n",
    "    fitnesses = list(map(toolbox.evaluate, pop))\n",
    "    for ind, fit in zip(pop, fitnesses):\n",
    "        ind.fitness.values = fit\n",
    "\n",
    "    # CXPB  is the probability with which two individuals\n",
    "    #       are crossed\n",
    "    #\n",
    "    # MUTPB is the probability for mutating an individual\n",
    "    CXPB, MUTPB = 0.5, 0.2\n",
    "    \n",
    "    # Extracting all the fitnesses of \n",
    "    print(len(pop))\n",
    "    #print(len(pop[0].fitness.values))\n",
    "    print(len(ind.fitness.values))\n",
    "    fits = [ind.fitness.values[0] for ind in pop]\n",
    "    \n",
    "    # Variable keeping track of the number of generations\n",
    "    g = 0\n",
    "    \n",
    "    # Begin the evolution\n",
    "    while g < 2:\n",
    "        # A new generation\n",
    "        g = g + 1\n",
    "        print(\"-- Generation %i --\" % g)\n",
    "        \n",
    "        # Select the next generation individuals\n",
    "        offspring = toolbox.select(pop, len(pop))\n",
    "        # Clone the selected individuals\n",
    "        offspring = list(map(toolbox.clone, offspring))\n",
    "        \n",
    "        # Apply crossover and mutation on the offspring\n",
    "        for child1, child2 in zip(offspring[::2], offspring[1::2]):\n",
    "            if random.random() < CXPB:\n",
    "                toolbox.mate(child1[0], child2[0])\n",
    "                del child1.fitness.values\n",
    "                del child2.fitness.values\n",
    "\n",
    "        for mutant in offspring:\n",
    "            if random.random() < MUTPB:\n",
    "                toolbox.mutate(mutant[0])\n",
    "                del mutant.fitness.values\n",
    "            \n",
    "        # Evaluate the individuals with an invalid fitness\n",
    "        invalid_ind = [ind for ind in offspring if not ind.fitness.valid]\n",
    "        fitnesses = map(toolbox.evaluate, invalid_ind)\n",
    "        for ind, fit in zip(invalid_ind, fitnesses):\n",
    "            ind.fitness.values = fit\n",
    "            \n",
    "        pop[:] = offspring\n",
    "        \n",
    "        # Gather all the fitnesses in one list and print the stats\n",
    "        print(len(ind.fitness.values))\n",
    "        fits = [ind.fitness.values[0] for ind in pop]\n",
    "        \n",
    "        length = len(pop)\n",
    "        mean = sum(fits) / length\n",
    "        sum2 = sum(x*x for x in fits)\n",
    "        std = abs(sum2 / length - mean**2)**0.5\n",
    "        \n",
    "        ic(min(fits), max(fits), mean, std)\n",
    "    print('len pop', len(pop))\n",
    "    print('len toolbox', len(toolbox.evaluate(pop[0]) ))\n",
    "    best = pop[np.argmax([toolbox.evaluate(x) for x in pop])]\n",
    "    return best, pop\n",
    "\n",
    "best_solution, pop = main()\n",
    "\n",
    "#products_table['univariate_choice'] = pd.Series(best_solution[0])\n",
    "#products_table.head()\n",
    "pd.Series(best_solution[0])"
   ]
  },
  {
   "cell_type": "code",
   "execution_count": null,
   "metadata": {},
   "outputs": [],
   "source": [
    "best_solution"
   ]
  },
  {
   "cell_type": "code",
   "execution_count": null,
   "metadata": {},
   "outputs": [],
   "source": [
    "# ## Initialize ga\n",
    "# pool = multiprocessing.Pool(processes=16)\n"
   ]
  },
  {
   "cell_type": "code",
   "execution_count": null,
   "metadata": {
    "scrolled": true
   },
   "outputs": [],
   "source": [
    "# ## V01 - using pre-defined algorithms\n",
    "\n",
    "# # this is the definition of the total genetic algorithm is executed, it is almost literally copied from the deap library\n",
    "# def main():\n",
    "#     pop = toolbox.population(n=10)\n",
    "#     pop, logbook = algorithms.eaSimple(pop, toolbox, cxpb=0.5, mutpb=0.2, ngen=3, \n",
    "#                                        stats=stats, verbose=True)\n",
    "\n",
    "# best_solution = main()\n",
    "\n",
    "# #products_table['univariate_choice'] = pd.Series(best_solution[0])\n",
    "# #products_table.head()\n",
    "# pd.Series(best_solution[0])\n"
   ]
  },
  {
   "cell_type": "code",
   "execution_count": null,
   "metadata": {},
   "outputs": [],
   "source": []
  },
  {
   "cell_type": "code",
   "execution_count": null,
   "metadata": {},
   "outputs": [],
   "source": []
  },
  {
   "cell_type": "code",
   "execution_count": null,
   "metadata": {},
   "outputs": [],
   "source": []
  },
  {
   "cell_type": "code",
   "execution_count": null,
   "metadata": {},
   "outputs": [],
   "source": []
  },
  {
   "cell_type": "code",
   "execution_count": null,
   "metadata": {},
   "outputs": [],
   "source": []
  },
  {
   "cell_type": "code",
   "execution_count": null,
   "metadata": {},
   "outputs": [],
   "source": []
  }
 ],
 "metadata": {
  "celltoolbar": "Tags",
  "kernelspec": {
   "display_name": "Python 3 (ipykernel)",
   "language": "python",
   "name": "python3"
  },
  "language_info": {
   "codemirror_mode": {
    "name": "ipython",
    "version": 3
   },
   "file_extension": ".py",
   "mimetype": "text/x-python",
   "name": "python",
   "nbconvert_exporter": "python",
   "pygments_lexer": "ipython3",
   "version": "3.7.12"
  },
  "papermill": {
   "default_parameters": {},
   "duration": 5560.364131,
   "end_time": "2021-01-27T10:03:31.625455",
   "environment_variables": {},
   "exception": null,
   "input_path": "/data2/mito_lineage/src/vireo/vireoSNP_clones.ipynb",
   "output_path": "results/jan21_2021/chrM/P2_cellSNP_minC200_minAF0.01/lineage_chrM.ipynb",
   "parameters": {
    "AD_F": "data/jan21_2021/chrM/P2_cellSNP_minC200_minAF0.01/cellSNP.tag.AD.mtx",
    "DP_F": "data/jan21_2021/chrM/P2_cellSNP_minC200_minAF0.01/cellSNP.tag.DP.mtx"
   },
   "start_time": "2021-01-27T08:30:51.261324",
   "version": "2.2.0"
  }
 },
 "nbformat": 4,
 "nbformat_minor": 4
}
