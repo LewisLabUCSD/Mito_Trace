{
 "cells": [
  {
   "cell_type": "code",
   "execution_count": 2,
   "id": "52cb8951",
   "metadata": {},
   "outputs": [],
   "source": [
    "# af_indirs = snakemake.params.af_indirs\n",
    "# indir = snakemake.params.indir\n",
    "# outdir = snakemake.params.outdir\n",
    "# donor = int(snakemake.wildcards.d)\n",
    "# weights = snakemake.params.weights\n",
    "# anno_cells_meta_f = snakemake.input.anno_cells_meta_f\n",
    "# objectives_l = snakemake.params.get(\"objectives_l\", \n",
    "#                                     [\"variants_with_clone_norm_by_1_over_nclones_with_variant\", \n",
    "#                                      \"max_clone_ncells_over_nclones\", \"max_clone_ncells_over_ncells\", \n",
    "#                                      \"pct_thresh\",\"other_pct_thresh\", \n",
    "#                                      \"n_vars\", \"obj_nclones_more_than_one_unique\"])\n",
    "try: \n",
    "    af_indirs = snakemake.params.af_indirs\n",
    "    indir = snakemake.params.indir\n",
    "    outdir = snakemake.params.outdir\n",
    "    donor = int(snakemake.wildcards.d)\n",
    "    weights = snakemake.params.weights\n",
    "    anno_cells_meta_f = snakemake.input.anno_cells_meta_f\n",
    "    objectives_l = snakemake.params.get(\"objectives_l\", \n",
    "                                        [\"variants_with_clone_norm_by_1_over_nclones_with_variant\", \n",
    "                                         \"max_clone_ncells_over_nclones\", \"max_clone_ncells_over_ncells\", \n",
    "                                         \"pct_thresh\",\"other_pct_thresh\", \n",
    "                                         \"n_vars\", \"obj_nclones_more_than_one_unique\"])\n",
    "except NameError:\n",
    "    af_indirs = \"/data/Mito_Trace/output/pipeline/v04/CHIP_b2/InputOnly/MTBlacklist_A2/data/merged/MT/cellr_True/numread_200/filters/minC10_minR50_topN0_hetT0.001_hetC10_hetCount5_bq20/mgatk/vireoIn/clones/variants_prefilterMerge_impute/knn/kparam_30/\"\n",
    "    indir = \"/data/Mito_Trace/output/pipeline/v04/CHIP_b2/InputOnly/MTBlacklist_A2/data/merged/MT/cellr_True/numread_200/filters/minC10_minR50_topN0_hetT0.001_hetC10_hetCount5_bq20/mgatk/vireoIn/enriched_barcodes/clones/variants_prefilterMerge_impute/knn/kparam_30/donor0/\"\n",
    "    outdir = \"/data/Mito_Trace/output/pipeline/v04/CHIP_b2/InputOnly/MTBlacklist_A2/data/merged/MT/cellr_True/numread_200/filters/minC10_minR50_topN0_hetT0.001_hetC10_hetCount5_bq20/mgatk/vireoIn/enriched_barcodes/clones/variants_prefilterMerge_impute/knn/kparam_30/donor0/optim_results/\"\n",
    "    donor = 0\n",
    "    anno_cells_meta_f = \"/data/Mito_Trace/output/pipeline/v04/CHIP_b2/InputOnly/MTBlacklist_A2/data/merged/MT/cellr_True/numread_200/filters/minC10_minR50_topN0_hetT0.001_hetC10_hetCount5_bq20/mgatk/vireoIn/clones/variants_prefilterMerge_impute/knn/kparam_30/gff_A2_black/annotation_clones/se_cells_meta_labels.tsv\"\n",
    "    weights = [1,1,1,1,-1, 1, 1]\n",
    "    objectives_l = [\"variants_with_clone_norm_by_1_over_nclones_with_variant\", \n",
    "                    \"max_clone_ncells_over_nclones\", \"max_clone_ncells_over_ncells\", \n",
    "                    \"pct_thresh\",\"other_pct_thresh\", \"n_vars\", \"obj_nclones_more_than_one_unique\"] #\"nvars\"\n",
    "\n",
    "    \n",
    "param_names = [\"pct_thresh\",\"af_thresh\", \"other_pct_thresh\"]\n"
   ]
  },
  {
   "cell_type": "code",
   "execution_count": 5,
   "id": "5e9245eb",
   "metadata": {},
   "outputs": [],
   "source": [
    "weights"
   ]
  },
  {
   "cell_type": "code",
   "execution_count": 4,
   "id": "bddca663",
   "metadata": {},
   "outputs": [],
   "source": [
    "objectives_l"
   ]
  },
  {
   "cell_type": "code",
   "execution_count": 6,
   "id": "284b4dfa",
   "metadata": {},
   "outputs": [],
   "source": [
    "## Remove any weights and objectives with 0 \n",
    "temp_obj = []\n",
    "temp_weights = []\n",
    "for ind, o in enumerate(objectives_l):\n",
    "    if weights[ind] != 0:\n",
    "        temp_weights.append(weights[ind])\n",
    "        temp_obj.append(o)\n",
    "weights = temp_weights\n",
    "objectives_l = temp_obj\n",
    "print(objectives_l)\n",
    "print(weights)"
   ]
  },
  {
   "cell_type": "code",
   "execution_count": 7,
   "id": "a1431d0e",
   "metadata": {},
   "outputs": [],
   "source": [
    "af_indirs"
   ]
  },
  {
   "cell_type": "code",
   "execution_count": 8,
   "id": "0bdc272d",
   "metadata": {
    "scrolled": true
   },
   "outputs": [],
   "source": [
    "import src.clone_variants_optim  as optim\n",
    "from mplh import cluster_help as ch\n",
    "\n",
    "from dynamicTreeCut import cutreeHybrid\n",
    "from scipy.spatial.distance import pdist\n",
    "import numpy as np\n",
    "from scipy.cluster.hierarchy import linkage\n",
    "\n",
    "import mplh.cluster_help as ch\n",
    "import mplh.fig_utils as fu"
   ]
  },
  {
   "cell_type": "code",
   "execution_count": 9,
   "id": "133f5aae",
   "metadata": {},
   "outputs": [],
   "source": [
    "%load_ext autoreload\n",
    "%autoreload 2\n",
    "import pandas as pd\n",
    "import matplotlib\n",
    "import os\n",
    "import numpy as np\n",
    "import matplotlib.pyplot as plt\n",
    "import seaborn as sns\n",
    "from os.path import join, exists, dirname\n",
    "from glob import glob\n",
    "import pickle\n",
    "from icecream import ic\n",
    "ic.disable()\n",
    "np.set_printoptions(formatter={'float': lambda x: format(x, '.3f')})\n",
    "# matplotlib.rcParams['ps.useafm'] = False\n",
    "# matplotlib.rcParams['pdf.use14corefonts'] = True\n",
    "# matplotlib.rcParams['text.usetex'] = False"
   ]
  },
  {
   "cell_type": "markdown",
   "id": "bcec335d",
   "metadata": {},
   "source": [
    "# Load results and get top 10% of them"
   ]
  },
  {
   "cell_type": "code",
   "execution_count": 10,
   "id": "4d4b9156",
   "metadata": {
    "scrolled": true
   },
   "outputs": [],
   "source": [
    "obj_norm_results = pd.read_csv(join(indir, \"objectives_norm.csv\"), index_col=0)\n",
    "#obj_results = pd.read_csv(join(indir, \"objectives.csv\"), index_col=0)\n",
    "#obj_rank = pd.read_csv(join(indir, \"objectives_rank.csv\"), index_col=0)\n",
    "param_results = pd.read_csv(join(indir, \"params.csv\"), index_col=0)\n",
    "\n",
    "# top 10%\n",
    "# top10perc_n = int(obj_norm_results.shape[0]*0.1)\n",
    "# obj_norm_maxClust = obj_norm_results.iloc[:top10perc_n]\n",
    "# top10perc_n\n",
    "# obj_norm_maxClust_params = pd.merge(left=obj_norm_maxClust, right=param_results, left_index=True, right_index=True, how=\"left\", \n",
    "#                                      suffixes=[\"_obj\", \"\"])\n",
    "\n",
    "\n",
    "from scipy.stats import zscore\n",
    "obj_norm_results[\"multi_z\"] = zscore(obj_norm_results[\"multi\"])\n",
    "sns.displot(obj_norm_results[\"multi_z\"])"
   ]
  },
  {
   "cell_type": "markdown",
   "id": "2093b7a2",
   "metadata": {},
   "source": [
    "## Get the top objective result based on the distribution of scores. 1D cluster scores and take cluster with highest mean. Number of clusters determined using the loss and the elbow plot with kneedle"
   ]
  },
  {
   "cell_type": "code",
   "execution_count": 11,
   "id": "3b0760ce",
   "metadata": {},
   "outputs": [],
   "source": [
    "from sklearn import mixture\n",
    "from sklearn import metrics"
   ]
  },
  {
   "cell_type": "code",
   "execution_count": 16,
   "id": "38e0afc2",
   "metadata": {
    "scrolled": false
   },
   "outputs": [],
   "source": [
    "X = obj_norm_results[[\"multi_z\"]]\n",
    "# from sklearn.mixture import GMM\n",
    "scores_d = {}\n",
    "#labels_d = {}\n",
    "for n in np.arange(2,11):\n",
    "    print('n', n)\n",
    "    model = mixture.GaussianMixture(n_components=n, covariance_type='full', max_iter=200, tol=0.0001)\n",
    "    gmm = model.fit(X)\n",
    "    max_index = np.argmax(gmm.means_[:,0])\n",
    "    \n",
    "    scores_d[n] = dict()\n",
    "    scores_d[n][\"aic\"] = gmm.aic(X)\n",
    "    scores_d[n][\"bic\"] = gmm.bic(X)\n",
    "    scores_d[n][\"likelihood\"] = gmm.score(obj_norm_results[[\"multi_z\"]])\n",
    "    scores_d[n][\"max_index\"] = max_index\n",
    "    labels = gmm.predict(X)\n",
    "    labels_df = pd.DataFrame({\"all_cluster_labels\":labels, \"multi_z\": obj_norm_results[\"multi_z\"] }, \n",
    "                             index=obj_norm_results.index)\n",
    "    labels_df[\"all_cluster_labels\"] = labels_df[\"all_cluster_labels\"].astype(object)\n",
    "    #labels = pd.DataFrame({\"all_cluster_labels\":labels}, index=obj_norm_results.index)\n",
    "    sns.displot(data=labels_df, x=\"multi_z\",hue=\"all_cluster_labels\", palette=\"hls\")#, s=40, cmap='viridis')\n",
    "    plt.title(f\"nclusters {n}\")\n",
    "    scores_d[n][\"all_cluster_labels\"] = labels_df\n",
    "    \n",
    "\n",
    "scores_df = pd.DataFrame(scores_d).transpose()\n",
    "scores_df\n",
    "\n",
    "\n",
    "from kneed import DataGenerator, KneeLocator\n",
    "\n",
    "kneedle = KneeLocator(scores_df.index, scores_df[\"likelihood\"], S=2.0, curve=\"concave\", \n",
    "                      direction=\"increasing\", online=True)\n",
    "count = 0\n",
    "while kneedle.knee is None and count < 10 : \n",
    "    kneedle = KneeLocator(scores_df.index, scores_df[\"likelihood\"], S=1.0+count, curve=\"concave\", \n",
    "                          direction=\"increasing\", online=True)\n",
    "    count += 1\n",
    "try:\n",
    "    kneedle.plot_knee_normalized()\n",
    "except:\n",
    "    print(\"kneedle plot error\")\n",
    "max_n = kneedle.knee\n",
    "# if max_n is None:\n",
    "#     max_n = \n",
    "print(f'best n: {kneedle.knee}')\n",
    "scores_df[\"n\"] = scores_df.index\n",
    "plt.figure()\n",
    "sns.scatterplot(data=scores_df, x=\"n\", y=\"likelihood\")\n",
    "if kneedle.knee is not None:\n",
    "    plt.axvline(kneedle.knee, color='g')#, axis=plt.gca())\n",
    "plt.savefig(join(outdir, \"elbow_multi_obj_nclust.pdf\"))\n",
    "\n",
    "\n"
   ]
  },
  {
   "cell_type": "code",
   "execution_count": null,
   "id": "5c6d2a9c",
   "metadata": {},
   "outputs": [],
   "source": [
    "if max_n is None:\n",
    "    print(\"no good elbo found. defaulting to 5 clusters\")\n",
    "    max_n = 5\n",
    "print(max_n)"
   ]
  },
  {
   "cell_type": "markdown",
   "id": "524372c0",
   "metadata": {},
   "source": [
    "### Get params in top cluster and plot top results"
   ]
  },
  {
   "cell_type": "code",
   "execution_count": 13,
   "id": "39cd2fe7",
   "metadata": {},
   "outputs": [],
   "source": [
    "scores_d"
   ]
  },
  {
   "cell_type": "code",
   "execution_count": 14,
   "id": "5214798f",
   "metadata": {},
   "outputs": [],
   "source": [
    "max_n"
   ]
  },
  {
   "cell_type": "code",
   "execution_count": 9,
   "id": "5ab346f1",
   "metadata": {
    "scrolled": true
   },
   "outputs": [],
   "source": [
    "labels_df = scores_d[max_n][\"all_cluster_labels\"] \n",
    "\n",
    "max_index = scores_d[max_n][\"max_index\"]\n",
    "print('max_index', max_index)\n",
    "max_scores = labels_df[labels_df[\"all_cluster_labels\"] == max_index]\n",
    "max_scores\n",
    "\n",
    "f, ax = plt.subplots(nrows=2, ncols=1, squeeze=True)\n",
    "sns.histplot(data=labels_df, x=\"multi_z\",hue=\"all_cluster_labels\", palette=\"hls\", ax=ax[0])#, s=40, cmap='viridis')\n",
    "plt.title(f\"nclusters {max_n}\")\n",
    "ax[0].set_yscale('log', base=2)\n",
    "labels_df[\"keep\"] = labels_df[\"all_cluster_labels\"] == max_index\n",
    "\n",
    "sns.histplot(data=labels_df, x=\"multi_z\",hue=\"keep\", palette=\"hls\", ax=ax[1])#, s=40, cmap='viridis')\n",
    "plt.title(f\"nclusters {max_n}\")\n",
    "ax[1].set_yscale('log', base=2)\n",
    "plt.tight_layout()\n",
    "plt.savefig(join(outdir, f\"multi_clusters_nclust_{max_n}.pdf\"), bbox_inches='tight', pad_inches=1)\n",
    "\n",
    "#plt.savefig(join(outdir, f\"multi_clusters_nclust_{max_n}_filt.pdf\"))\n"
   ]
  },
  {
   "cell_type": "code",
   "execution_count": 10,
   "id": "1f078afd",
   "metadata": {},
   "outputs": [],
   "source": [
    "sns.distplot(obj_norm_results.loc[max_scores.index,\"multi_z\"])"
   ]
  },
  {
   "cell_type": "code",
   "execution_count": 11,
   "id": "3b118583",
   "metadata": {
    "scrolled": true
   },
   "outputs": [],
   "source": [
    "obj_norm_maxClust = obj_norm_results.loc[max_scores.index].drop(\"multi_z\", axis=1)\n",
    "#obj_norm_maxClust_params\n",
    "sns.displot(obj_norm_maxClust[\"multi\"])\n",
    "print(f\"number of param sets used: {obj_norm_maxClust.shape[0]}\")\n",
    "# obj_norm_maxClust = obj_norm_results.iloc[:top10perc_n]\n",
    "obj_norm_maxClust_params = pd.merge(left=obj_norm_maxClust, \n",
    "                                            right=param_results, left_index=True, right_index=True, how=\"left\", \n",
    "                                            suffixes=[\"_obj\", \"\"])\n"
   ]
  },
  {
   "cell_type": "code",
   "execution_count": 12,
   "id": "70dcb80f",
   "metadata": {},
   "outputs": [],
   "source": [
    "param_results = param_results.loc[obj_norm_maxClust.index]\n"
   ]
  },
  {
   "cell_type": "markdown",
   "id": "0fdb0d34",
   "metadata": {},
   "source": [
    "## Cluster top results by objectives and get a dynamic tree cut of the dendrogram"
   ]
  },
  {
   "cell_type": "code",
   "execution_count": 13,
   "id": "a7143d6c",
   "metadata": {
    "scrolled": true
   },
   "outputs": [],
   "source": [
    "multi_top = zscore(obj_norm_maxClust.drop(\"multi\", axis=1).fillna(0).values)\n",
    "multi_top = pd.DataFrame(multi_top)\n",
    "multi_top = multi_top.loc[:, ~(multi_top.isnull().all())]\n",
    "multi_top"
   ]
  },
  {
   "cell_type": "code",
   "execution_count": 14,
   "id": "1f7a7bfd",
   "metadata": {
    "scrolled": true
   },
   "outputs": [],
   "source": [
    "distances = pdist(multi_top.values, \"cosine\")\n",
    "link = linkage(distances, \"average\")\n",
    "clusters = cutreeHybrid(link, distances, minClusterSize=1)[\"labels\"]\n",
    "clusters = pd.DataFrame({\"labels\": clusters}, index=obj_norm_maxClust.index)#[[\"ID\", \"labels\"]]\n",
    "\n",
    "clusters[\"ID\"] = obj_norm_maxClust.index\n",
    "to_clust_df = obj_norm_maxClust.drop(\"multi\", axis=1).apply(lambda x: zscore(x)).fillna(0)\n",
    "to_clust_df = to_clust_df.loc[~((to_clust_df==0).all(axis=1)), ~((to_clust_df==0).all(axis=0))]\n",
    "g=ch.plot_cluster(to_clust_df, \n",
    "                row_meta=clusters[[\"labels\"]],\n",
    "                metric=\"cosine\")\n",
    "g.fig.suptitle(f\"Top Parameters (n={obj_norm_maxClust.shape[0]}) \")\n",
    "plt.savefig(join(outdir, \"top10perc_param_group_clusters.pdf\"), dpi=300, bbox_inches='tight', pad_inches=1)"
   ]
  },
  {
   "cell_type": "markdown",
   "id": "38fc2d8f",
   "metadata": {},
   "source": [
    "## Get average parameters for each params-cluster "
   ]
  },
  {
   "cell_type": "code",
   "execution_count": 15,
   "id": "292dc5db",
   "metadata": {
    "scrolled": true
   },
   "outputs": [],
   "source": [
    "param_results = pd.merge(clusters, param_results, left_index=True, right_index=True, how=\"inner\")\n",
    "print(param_results.shape)\n",
    "param_results.head()"
   ]
  },
  {
   "cell_type": "code",
   "execution_count": 16,
   "id": "1bdead80",
   "metadata": {
    "scrolled": true
   },
   "outputs": [],
   "source": [
    "top_params_mean_df = param_results.groupby(\"labels\").mean().drop(\"ID\", axis=1)\n",
    "top_params_mean_df"
   ]
  },
  {
   "cell_type": "markdown",
   "id": "929de5bf",
   "metadata": {},
   "source": [
    "##  Get the clone-variant table for each params-cluster"
   ]
  },
  {
   "cell_type": "markdown",
   "id": "98c372bf",
   "metadata": {},
   "source": [
    "\n",
    "### First load the AF, DP, and cells_meta data"
   ]
  },
  {
   "cell_type": "code",
   "execution_count": 17,
   "id": "005a8703",
   "metadata": {},
   "outputs": [],
   "source": [
    "af_indir = join(af_indirs, \"sc_af\", f\"donor{donor}\")\n",
    "\n",
    "AF_df = pd.read_csv(join(af_indir, \"af.tsv\"), index_col=0, sep=\"\\t\")\n",
    "DP_df = pd.read_csv(join(af_indir, \"dp.tsv\"), index_col=0, sep=\"\\t\")\n",
    "\n",
    "cells_meta = pd.read_csv(join(af_indirs, \"cells_meta.tsv\"), sep='\\t', index_col=\"ID\")#.sort_values([\"donor\", \"lineage\"])\n",
    "cells_meta[\"name\"] = cells_meta[\"donor\"].astype(str)+\"_\"+cells_meta[\"lineage\"].astype(str)\n",
    "# if \"donor_index\" in cells_meta.columns and \"lineage_index\" in cells_meta.columns:\n",
    "#     cells_meta = cells_meta.sort_values([\"donor_index\", \"lineage_index\"])\n",
    "#AD_df = pd.merge(AD_df, vcf[[\"#CHROM\", \"POS\", \"ALT\"]], how=\"inner\", left_index=True,right_index=True).set_index([\"#CHROM\", \"POS\", \"ALT\"])\n",
    "curr_labels = cells_meta[cells_meta[\"donor\"].astype(int)==int(donor)]\n",
    "curr_labels\n",
    "\n",
    "conditions = curr_labels[\"condition\"].unique()\n",
    "conditions\n",
    "\n",
    "def rm_high(df, thresh, pct_thresh):\n",
    "    return df.loc[~(((df>thresh).sum(axis=1)>pct_thresh*df.shape[0]))]\n",
    "\n",
    "def rm_low(df, thresh, pct_thresh):\n",
    "    return df.loc[~((df<thresh).sum(axis=1)>(pct_thresh*df.shape[1]))]\n",
    "\n",
    "    #return df.loc[~(((df<=thresh).sum(axis=1)>pct_thresh*df.shape[0]))]\n",
    "#df[(df<0.01).sum(axis=1)]\n",
    "\n",
    "## Get donor inds\n",
    "donor_inds = AF_df.index[((AF_df>0.9).sum(axis=1)>(0.9*AF_df.shape[1]))]\n",
    "\n",
    "AF_df.shape"
   ]
  },
  {
   "cell_type": "markdown",
   "id": "69c5023c",
   "metadata": {},
   "source": [
    "## Then, create the clone-var table for the clustered params and get their objective scores based on the weights\n",
    "Store the results in results_norm_params, which has params, objectives, and solution cluster  \n",
    "Also store the tables in all_df, which is the long-form of clone, variant, ncells, and params"
   ]
  },
  {
   "cell_type": "code",
   "execution_count": 18,
   "id": "2c315da9",
   "metadata": {
    "scrolled": true
   },
   "outputs": [],
   "source": [
    "all_df = []\n",
    "all_objs = {}\n",
    "for ind, val in top_params_mean_df.iterrows():\n",
    "    print(ind)\n",
    "    obj_out, data = optim.evaluate_series(val, AF_df, DP_df, curr_labels, return_data=True, objectives_l=objectives_l)\n",
    "    all_df.append(data[\"all_unique_df\"])\n",
    "    all_objs[ind] = obj_out \n",
    "all_df = pd.concat(all_df)\n",
    "\n",
    "results_df = pd.DataFrame(all_objs).transpose()\n",
    "results_norm = optim.set_multi(results_df, weights)\n",
    "rank_df = optim.set_multi_rank(results_norm, weights)\n",
    "\n",
    "all_df[\"params\"] = all_df.apply(optim.params_to_str, axis=1,\n",
    "                                args=(param_names,))\n",
    "\n",
    "## merge param and results\n",
    "results_norm_params = pd.merge(left=top_params_mean_df, right=results_norm, right_index=True, left_index=True, suffixes=[\"\", \"_obj\"])\n",
    "\n",
    "results_norm_params[\"params\"] = results_norm_params.apply(optim.params_to_str, axis=1,\n",
    "                                args=(param_names,))\n",
    "results_norm_params.index.name = \"solution_cluster\"\n",
    "results_norm_params = results_norm_params.reset_index().set_index(\"params\")\n"
   ]
  },
  {
   "cell_type": "markdown",
   "id": "6e8cf0e2",
   "metadata": {},
   "source": [
    "### sort by multi\n"
   ]
  },
  {
   "cell_type": "code",
   "execution_count": 19,
   "id": "85e9831f",
   "metadata": {},
   "outputs": [],
   "source": [
    "results_norm_params = results_norm_params.sort_values([\"multi\"])[::-1]\n",
    "\n",
    "results_norm_params"
   ]
  },
  {
   "cell_type": "markdown",
   "id": "7b0d6b28",
   "metadata": {},
   "source": [
    "## Add multi_obj and solution_cluster label to the long clone-table and to the results"
   ]
  },
  {
   "cell_type": "code",
   "execution_count": 20,
   "id": "564d90bc",
   "metadata": {
    "scrolled": true
   },
   "outputs": [],
   "source": [
    "all_df[\"multi_obj\"] = all_df.apply(lambda x: results_norm_params.loc[x[\"params\"], \"multi\"], axis=1)\n",
    "all_df[\"solution_cluster\"] = all_df.apply(lambda x: results_norm_params.loc[x[\"params\"], \"solution_cluster\"], axis=1)\n",
    "all_df[\"params_multi\"] = all_df.apply(optim.params_and_multi_str, axis=1)\n",
    "clones_order, variants_order, heatmap_input = optim.prep_long_heatmap(all_df)\n",
    "all_df[\"solution_params_obj\"] = all_df.apply(lambda x: f'solution:{x[\"solution_cluster\"]}\\n {x[\"params_multi\"]}',axis=1)\n",
    "all_df\n",
    "\n",
    "results_norm_params = results_norm_params.reset_index()\n",
    "results_norm_params[\"multi_obj\"] = results_norm_params[\"multi\"]\n",
    "results_norm_params[\"params_multi\"] = results_norm_params.apply(optim.params_and_multi_str, axis=1)\n",
    "\n",
    "results_norm_params[\"solution_params_obj\"] = results_norm_params.apply(lambda x: f'solution:{x[\"solution_cluster\"]}\\n {x[\"params_multi\"]}',axis=1)\n",
    "results_norm_params"
   ]
  },
  {
   "cell_type": "markdown",
   "id": "c77961ac",
   "metadata": {},
   "source": [
    "## Plot objective scores across different params-cluster labels"
   ]
  },
  {
   "cell_type": "code",
   "execution_count": 21,
   "id": "748bc5b0",
   "metadata": {},
   "outputs": [],
   "source": [
    "results_norm"
   ]
  },
  {
   "cell_type": "code",
   "execution_count": 22,
   "id": "71a51e15",
   "metadata": {
    "scrolled": true
   },
   "outputs": [],
   "source": [
    "if results_norm.shape[0] == 1:\n",
    "    sns.heatmap(results_norm.fillna(0))\n",
    "else:\n",
    "    sns.clustermap(results_norm.fillna(0))\n",
    "plt.savefig(join(outdir, \"top_param_group_results.png\"))\n",
    "plt.savefig(join(outdir, \"top_param_group_results.pdf\"), dpi=300, bbox_inches='tight', pad_inches=1)"
   ]
  },
  {
   "cell_type": "markdown",
   "id": "63c77e37",
   "metadata": {},
   "source": [
    "## Plot cluster clone-var table"
   ]
  },
  {
   "cell_type": "code",
   "execution_count": 23,
   "id": "af3e0bb8",
   "metadata": {
    "scrolled": false
   },
   "outputs": [],
   "source": [
    "fg = sns.FacetGrid(data=all_df.reset_index(), height=4, aspect=2, sharey=True, sharex=True, \n",
    "                   col=\"solution_params_obj\", col_wrap=2, \n",
    "                   col_order=results_norm_params[\"solution_params_obj\"].values, margin_titles=False)\n",
    "\n",
    "fg.map_dataframe(optim.draw_heatmap, 'variant','clone', 'log2_n_cells', \n",
    "                 clones_order=clones_order, \n",
    "                 variants_order=variants_order)#, cbar=False)\n",
    "#fg.set_titles(row_template = 'other_pct_thresh: {row_name}', col_template = 'pct_thresh: {col_name}')\n",
    "#fg.fig.suptitle(f\"Best parameter combinations shown in order\")\n",
    "fg.fig.subplots_adjust(top=2, hspace = 1)\n",
    "\n",
    "plt.savefig(join(outdir, \"top_param_groups_clone_vars.pdf\"), dpi=300, bbox_inches='tight', pad_inches=1)"
   ]
  },
  {
   "cell_type": "code",
   "execution_count": null,
   "id": "195853bb",
   "metadata": {},
   "outputs": [],
   "source": []
  },
  {
   "cell_type": "code",
   "execution_count": 24,
   "id": "321df14a",
   "metadata": {
    "scrolled": false
   },
   "outputs": [],
   "source": [
    "for ind, val in all_df.groupby(\"solution_params_obj\"):\n",
    "    print(ind)\n",
    "    curr_dir = join(outdir, \"best_params_clusters\")\n",
    "    if not exists(curr_dir):\n",
    "        os.mkdir(curr_dir)\n",
    "    curr_name = val[\"params\"][0].replace(\"=\", \"__\").replace(\"\\n\", \"___\").strip(\"_\")\n",
    "    curr_table = val.reset_index().pivot(index=\"clone\",columns=\"variant\",values=\"n_cells\").fillna(0).astype(int)\n",
    "    curr_table.to_csv(join(curr_dir, f\"clone_variants.{curr_name}.csv\"))"
   ]
  },
  {
   "cell_type": "code",
   "execution_count": null,
   "id": "d898bb5d",
   "metadata": {},
   "outputs": [],
   "source": []
  },
  {
   "cell_type": "markdown",
   "id": "f79f5aba",
   "metadata": {},
   "source": [
    "## Get the top cluster score and save "
   ]
  },
  {
   "cell_type": "code",
   "execution_count": 25,
   "id": "b43b841e",
   "metadata": {},
   "outputs": [],
   "source": [
    "best_params = (results_norm_params.sort_values(\"multi_obj\")[::-1]).iloc[0]\n",
    "best_params\n",
    "\n",
    "best_params = pd.DataFrame(best_params).transpose()\n",
    "best_params.index = [\"objective_scores\"]\n",
    "best_params.loc[\"weight\"] = None\n",
    "\n",
    "for obj, w in zip(objectives_l, weights):\n",
    "    best_params.loc[\"weight\", f\"{obj}_obj\"] = w\n",
    "\n",
    "out_df = all_df[all_df['params'] == best_params.loc[\"objective_scores\", \"params\"]]\n",
    "\n",
    "clone_var_table = (out_df.pivot(index= 'variant',columns='clone', values='log2_n_cells').fillna(0))\n",
    "clones_keep = clone_var_table.loc[:, ~((clone_var_table==0).all(axis=0))].columns\n",
    "vars_keep = clone_var_table.loc[~((clone_var_table==0).all(axis=1))].index\n"
   ]
  },
  {
   "cell_type": "code",
   "execution_count": 26,
   "id": "353ffa96",
   "metadata": {
    "scrolled": false
   },
   "outputs": [],
   "source": [
    "sns.clustermap(clone_var_table)\n",
    "plt.title(best_params.loc[\"objective_scores\", \"params_multi\"])\n",
    "plt.savefig(join(outdir, \"best_params.pdf\"), dpi=300, bbox_inches='tight', pad_inches=1)\n",
    "\n",
    "# sns.clustermap(clone_var_table.loc[vars_keep,clones_keep])\n",
    "# plt.title(best_params.loc[\"objective_scores\", \"params_multi\"])\n",
    "# plt.savefig(join(outdir, \"best_params_filt.pdf\"))\n",
    "\n"
   ]
  },
  {
   "cell_type": "code",
   "execution_count": 27,
   "id": "86702bb6",
   "metadata": {
    "scrolled": true
   },
   "outputs": [],
   "source": [
    "# ## Save clone-variant table and the parameters\n",
    "clone_var_table.to_csv(join(outdir, \"best_params_clone_vars.csv\"))\n",
    "clone_var_table.loc[vars_keep,clones_keep].to_csv(join(outdir, \"best_params_filt_clone_vars.csv\"))\n",
    "best_params.to_csv(join(outdir, \"best_params.csv\"))\n",
    "\n",
    "anno_cells = pd.read_csv(anno_cells_meta_f, sep=\"\\t\", index_col=0)\n",
    "\n",
    "filt_curr_labels = curr_labels[curr_labels[\"name\"].isin(clones_keep)]\n",
    "\n",
    "# overlap cells of anno and curr labels\n",
    "cells_to_keep = set(anno_cells[\"ID\"].values).intersection(set(filt_curr_labels.index))\n",
    "out_cells_meta = anno_cells.loc[anno_cells[\"ID\"].isin(cells_to_keep)]\n",
    "#out_cells_meta =  out_cells_meta.reset_index().set_index(\"ID\")\n",
    "\n",
    "# out_AF_df = AF_df.loc[vars_keep, out_cells_meta.index]\n",
    "# out_DP_df = DP_df.loc[vars_keep, out_cells_meta.index]\n",
    "print(out_cells_meta.head())\n",
    "out_AF_df = AF_df.loc[vars_keep, out_cells_meta[\"ID\"]].transpose()\n",
    "out_DP_df = DP_df.loc[vars_keep, out_cells_meta[\"ID\"]].transpose()\n",
    "\n",
    "\n",
    "print(out_cells_meta.shape)\n",
    "print(out_AF_df.shape)\n",
    "print(out_DP_df.shape)\n",
    "\n",
    "assert((out_AF_df.index==out_DP_df.index).all())\n",
    "assert((out_AF_df.columns==out_DP_df.columns).all())\n",
    "assert((out_AF_df.index==out_cells_meta[\"ID\"]).all())\n",
    "\n",
    "\n",
    "# ## save cells-meta, af and dp\n",
    "out_cells_meta[\"ID\"]\n",
    "\n",
    "out_cells_meta.to_csv(join(outdir, \"cells_meta.tsv\"),sep=\"\\t\")\n",
    "out_AF_df.to_csv(join(outdir, \"af.tsv\"), sep=\"\\t\")\n",
    "out_DP_df.to_csv(join(outdir, \"dp.tsv\"), sep=\"\\t\")\n",
    "\n",
    "outdir\n",
    "\n"
   ]
  },
  {
   "cell_type": "code",
   "execution_count": null,
   "id": "33d611a6",
   "metadata": {},
   "outputs": [],
   "source": []
  },
  {
   "cell_type": "markdown",
   "id": "3382ed34",
   "metadata": {},
   "source": [
    "# plot top n"
   ]
  },
  {
   "cell_type": "code",
   "execution_count": 28,
   "id": "aafc1440",
   "metadata": {},
   "outputs": [],
   "source": [
    "# ########################\n",
    "# # Get the top n results\n",
    "# ########################\n",
    "# def get_top_n_results(results_df, rank_df, n=12):\n",
    "#     filt_rank = rank_df.sort_values(by=[\"multi\"])[::-1].iloc[:n]\n",
    "#     filt_results = results_df.loc[filt_rank.index]\n",
    "#     return filt_rank, filt_results\n",
    "\n",
    "\n",
    "# full_params.to_csv(join(outdir, \"params.csv\"))\n",
    "\n",
    "# filt_rank, filt_results = get_top_n_results(results_norm, rank_df, n=topn)\n",
    "# filt_results.columns = [f\"{x}_obj\" for x in filt_results.columns]\n",
    "# filt_results = pd.merge(filt_results, full_params, left_index=True, right_index=True, how=\"left\")\n",
    "# filt_rank = filt_rank.loc[filt_results.index]\n",
    "\n",
    "# all_df = []\n",
    "# all_objs = {}\n",
    "# for ind, val in filt_results.iterrows():\n",
    "#     print(ind)\n",
    "#     obj_out, data = optim.evaluate_series(val, AF_df, DP_df, curr_labels, return_data=True)\n",
    "#     all_df.append(data[\"all_unique_df\"])\n",
    "#     all_objs[ind] = obj_out \n",
    "# all_df = pd.concat(all_df)\n",
    "\n",
    "# heatmap_input = all_df[[\"n_cells\", \"variant\"]].reset_index().pivot(index=\"id\", columns=\"variant\", values=\"n_cells\").fillna(0).astype(int)\n",
    "# meta_df = all_df[[\"af_thresh\", \"other_pct_thresh\", \"pct_thresh\", \"clone\"]]\n",
    "# meta_df = meta_df.loc[~(meta_df.index.duplicated())]\n",
    "# meta_df = meta_df.sort_values([\"af_thresh\",\"pct_thresh\", \"other_pct_thresh\", \"clone\"])\n",
    "# heatmap_input = heatmap_input.loc[meta_df.index]\n",
    "\n",
    "# # Get the variants based on total number of cells across parameters\n",
    "# heatmap_input = heatmap_input.loc[:,heatmap_input.sum().sort_values()[::-1].index]\n",
    "# variants_order = heatmap_input.columns\n",
    "\n",
    "\n",
    "# clone_sums = meta_df.groupby(\"clone\").apply(optim.clone_sum, heatmap_input)\n",
    "# clone_sums = clone_sums.loc[:, clone_sums.sum().sort_values()[::-1].index]\n",
    "# clones_order = clone_sums.index\n",
    "\n",
    "# all_df[\"params\"] = all_df.apply(optim.params_to_str, axis=1, args=(param_names,))\n",
    "# filt_results[\"params\"] = filt_results.apply(optim.params_to_str, axis=1, args=(param_names,))\n",
    "# filt_results[\"params_multi\"] = filt_results.apply(optim.params_and_multi_str, axis=1)\n",
    "# tmp = filt_results.set_index(\"params\")\n",
    "# all_df[\"multi_obj\"] = all_df.apply(lambda x: tmp.loc[x[\"params\"], \"multi_obj\"], axis=1)\n",
    "# del tmp                               \n",
    "\n",
    "# all_df[\"params_multi\"] = all_df.apply(optim.params_and_multi_str, axis=1)\n",
    "\n",
    "\n",
    "# fg = sns.FacetGrid(data=all_df.reset_index(), height=4, sharey=False, sharex=False,\n",
    "#                    col=\"params\", col_wrap=4, col_order=filt_results[\"params\"].values, margin_titles=True)\n",
    "\n",
    "# fg.map_dataframe(optim.draw_heatmap, 'variant','clone', 'log2_n_cells',\n",
    "#                  clones_order=clones_order, variants_order=variants_order)#, cbar=False)\n",
    "\n",
    "# #fg.set_titles(row_template = 'other_pct_thresh: {row_name}', col_template = 'pct_thresh: {col_name}')\n",
    "# fg.fig.suptitle(f\"Best parameter combinations shown in order\")\n",
    "# fg.fig.subplots_adjust(top=0.9, hspace = 0.8)\n",
    "\n",
    "# plt.title(\"multiobjective function (want to maximize)\")\n",
    "# #plt.savefig(join(outdir, \"top_param_results.pdf\"))\n",
    "# plt.savefig(join(outdir, \"top_param_results.pdf\"), dpi=300)"
   ]
  }
 ],
 "metadata": {
  "kernelspec": {
   "display_name": "Python 3 (ipykernel)",
   "language": "python",
   "name": "python3"
  },
  "language_info": {
   "codemirror_mode": {
    "name": "ipython",
    "version": 3
   },
   "file_extension": ".py",
   "mimetype": "text/x-python",
   "name": "python",
   "nbconvert_exporter": "python",
   "pygments_lexer": "ipython3",
   "version": "3.7.12"
  }
 },
 "nbformat": 4,
 "nbformat_minor": 5
}
