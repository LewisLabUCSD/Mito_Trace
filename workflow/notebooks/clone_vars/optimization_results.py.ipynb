{
 "cells": [
  {
   "cell_type": "code",
   "execution_count": 1,
   "id": "52cb8951",
   "metadata": {
    "scrolled": true
   },
   "outputs": [],
   "source": [
    "# af_indirs = snakemake.params.af_indirs\n",
    "# indir = snakemake.params.indir\n",
    "# outdir = snakemake.params.outdir\n",
    "# donor = snakemake.wildcards.d\n",
    "# weights = snakemake.params.weights\n",
    "# anno_cells_meta_f = snakemake.input.anno_cells_meta_f\n",
    "# objectives_l = snakemake.params.get(\"objectives_l\", \n",
    "#                                     [\"variants_with_clone_norm_by_1_over_nclones_with_variant\", \n",
    "#                                      \"max_clone_ncells_over_nclones\", \"max_clone_ncells_over_ncells\", \n",
    "#                                      \"pct_thresh\",\"other_pct_thresh\", \n",
    "#                                      \"n_vars\", \"obj_nclones_more_than_one_unique\"])\n",
    "try: \n",
    "    af_indirs = snakemake.params.af_indirs\n",
    "    indir = snakemake.params.indir\n",
    "    outdir = snakemake.params.outdir\n",
    "    donor = snakemake.wildcards.d\n",
    "    weights = snakemake.params.weights\n",
    "    anno_cells_meta_f = snakemake.input.anno_cells_meta_f\n",
    "    objectives_l = snakemake.params.get(\"objectives_l\", \n",
    "                                        [\"variants_with_clone_norm_by_1_over_nclones_with_variant\", \n",
    "                                         \"max_clone_ncells_over_nclones\", \"max_clone_ncells_over_ncells\", \n",
    "                                         \"pct_thresh\",\"other_pct_thresh\", \n",
    "                                         \"n_vars\", \"obj_nclones_more_than_one_unique\"])\n",
    "except NameError:\n",
    "    af_indirs = \"/data/Mito_Trace/output/pipeline/v04/CHIP_b1/MTBlacklist_A2/data/merged/MT/cellr_True/numread_200/filters/minC10_minR50_topN0_hetT0.001_hetC10_hetCount5_bq20/mgatk/vireoIn/clones/variants_init/knn/kparam_30/\"\n",
    "    indir = \"/data/Mito_Trace/output/pipeline/v04/CHIP_b1/MTBlacklist_A2/data/merged/MT/cellr_True/numread_200/filters/minC10_minR50_topN0_hetT0.001_hetC10_hetCount5_bq20/mgatk/vireoIn/enriched_barcodes/clones/variants_init/knn/kparam_30/donor0/\"\n",
    "    outdir = \"/data/Mito_Trace/output/pipeline/v04/CHIP_b1/MTBlacklist_A2/data/merged/MT/cellr_True/numread_200/filters/minC10_minR50_topN0_hetT0.001_hetC10_hetCount5_bq20/mgatk/vireoIn/enriched_barcodes/clones/variants_init/knn/kparam_30/donor0/optim_results/\"\n",
    "    donor = 0\n",
    "    anno_cells_meta_f = \"/data/Mito_Trace/output/pipeline/v04/CHIP_b1/MTBlacklist_A2/data/merged/MT/cellr_True/numread_200/filters/minC10_minR50_topN0_hetT0.001_hetC10_hetCount5_bq20/mgatk/vireoIn/clones/variants_init/knn/kparam_30/gff_A2_black/annotation_clones/se_cells_meta_labels.tsv\"\n",
    "    weights = [1,0,0,1,-1, 1, 1]\n",
    "    objectives_l = [\"variants_with_clone_norm_by_1_over_nclones_with_variant\", \n",
    "                    \"max_clone_ncells_over_nclones\", \"max_clone_ncells_over_ncells\", \n",
    "                    \"pct_thresh\",\"other_pct_thresh\", \"n_vars\", \"obj_nclones_more_than_one_unique\"] #\"nvars\"\n",
    "\n",
    "    \n",
    "param_names = [\"pct_thresh\",\"af_thresh\", \"other_pct_thresh\"]\n"
   ]
  },
  {
   "cell_type": "code",
   "execution_count": 2,
   "id": "a1431d0e",
   "metadata": {},
   "outputs": [
    {
     "data": {
      "text/plain": [
       "'/data/Mito_Trace/output/pipeline/v04/CHIP_b1/MTBlacklist_A2/data/merged/MT/cellr_True/numread_200/filters/minC10_minR50_topN0_hetT0.001_hetC10_hetCount5_bq20/mgatk/vireoIn/clones/variants_init/knn/kparam_30/'"
      ]
     },
     "execution_count": 2,
     "metadata": {},
     "output_type": "execute_result"
    }
   ],
   "source": [
    "af_indirs"
   ]
  },
  {
   "cell_type": "code",
   "execution_count": 3,
   "id": "0bdc272d",
   "metadata": {
    "scrolled": false
   },
   "outputs": [
    {
     "name": "stdout",
     "output_type": "stream",
     "text": [
      "fig_utils from mplh\n"
     ]
    }
   ],
   "source": [
    "import src.clone_variants_optim  as optim\n",
    "from mplh import cluster_help as ch\n",
    "\n",
    "from dynamicTreeCut import cutreeHybrid\n",
    "from scipy.spatial.distance import pdist\n",
    "import numpy as np\n",
    "from scipy.cluster.hierarchy import linkage\n",
    "\n",
    "import mplh.cluster_help as ch\n",
    "import mplh.fig_utils as fu"
   ]
  },
  {
   "cell_type": "code",
   "execution_count": 4,
   "id": "133f5aae",
   "metadata": {},
   "outputs": [],
   "source": [
    "%load_ext autoreload\n",
    "%autoreload 2\n",
    "import pandas as pd\n",
    "import matplotlib\n",
    "import os\n",
    "import numpy as np\n",
    "import matplotlib.pyplot as plt\n",
    "import seaborn as sns\n",
    "from os.path import join, exists, dirname\n",
    "from glob import glob\n",
    "import pickle\n",
    "from icecream import ic\n",
    "ic.disable()\n",
    "np.set_printoptions(formatter={'float': lambda x: format(x, '.3f')})\n",
    "# matplotlib.rcParams['ps.useafm'] = False\n",
    "# matplotlib.rcParams['pdf.use14corefonts'] = True\n",
    "# matplotlib.rcParams['text.usetex'] = False"
   ]
  },
  {
   "cell_type": "markdown",
   "id": "bcec335d",
   "metadata": {},
   "source": [
    "# Load results and get top 10% of them"
   ]
  },
  {
   "cell_type": "code",
   "execution_count": 5,
   "id": "4d4b9156",
   "metadata": {},
   "outputs": [],
   "source": [
    "obj_norm_results = pd.read_csv(join(indir, \"objectives_norm.csv\"), index_col=0)\n",
    "obj_results = pd.read_csv(join(indir, \"objectives.csv\"), index_col=0)\n",
    "obj_results = pd.read_csv(join(indir, \"objectives_rank.csv\"), index_col=0)\n",
    "param_results = pd.read_csv(join(indir, \"params.csv\"), index_col=0)\n",
    "\n",
    "# top 10%\n",
    "top10perc_n = int(obj_norm_results.shape[0]*0.1)\n",
    "obj_norm_top10perc = obj_norm_results.iloc[:top10perc_n]\n",
    "top10perc_n\n",
    "\n",
    "param_results = param_results.loc[obj_norm_top10perc.index]\n",
    "# obj_norm_top10perc_params = pd.merge(left=obj_norm_top10perc, right=param_results, left_index=True, right_index=True, how=\"left\", \n",
    "#                                      suffixes=[\"_obj\", \"\"])\n"
   ]
  },
  {
   "cell_type": "code",
   "execution_count": 6,
   "id": "f44d1725",
   "metadata": {},
   "outputs": [],
   "source": [
    "# from sklearn.mixture import GMM\n",
    "#from sklearn import mixture\n",
    "#model = mixture.GaussianMixture(n_components=3, covariance_type='full')\n",
    "#gmm = model.fit(X)\n",
    "#\n",
    "# gmm = GMM(n_components=4).fit(X)\n",
    "# labels = gmm.predict(X)\n",
    "# plt.scatter(X[:, 0], X[:, 1], c=labels, s=40, cmap='viridis');"
   ]
  },
  {
   "cell_type": "markdown",
   "id": "0fdb0d34",
   "metadata": {},
   "source": [
    "## Cluster top results by objectives and get a dynamic tree cut of the dendrogram"
   ]
  },
  {
   "cell_type": "code",
   "execution_count": 7,
   "id": "c621b5c8",
   "metadata": {},
   "outputs": [
    {
     "data": {
      "text/html": [
       "<div>\n",
       "<style scoped>\n",
       "    .dataframe tbody tr th:only-of-type {\n",
       "        vertical-align: middle;\n",
       "    }\n",
       "\n",
       "    .dataframe tbody tr th {\n",
       "        vertical-align: top;\n",
       "    }\n",
       "\n",
       "    .dataframe thead th {\n",
       "        text-align: right;\n",
       "    }\n",
       "</style>\n",
       "<table border=\"1\" class=\"dataframe\">\n",
       "  <thead>\n",
       "    <tr style=\"text-align: right;\">\n",
       "      <th></th>\n",
       "      <th>variants_with_clone_norm_by_1_over_nclones_with_variant</th>\n",
       "      <th>max_clone_ncells_over_nclones</th>\n",
       "      <th>max_clone_ncells_over_ncells</th>\n",
       "      <th>pct_thresh</th>\n",
       "      <th>other_pct_thresh</th>\n",
       "      <th>n_vars</th>\n",
       "      <th>obj_nclones_more_than_one_unique</th>\n",
       "      <th>multi</th>\n",
       "    </tr>\n",
       "  </thead>\n",
       "  <tbody>\n",
       "    <tr>\n",
       "      <th>421</th>\n",
       "      <td>0.000699</td>\n",
       "      <td>0.000389</td>\n",
       "      <td>0.000777</td>\n",
       "      <td>0.000028</td>\n",
       "      <td>0.000015</td>\n",
       "      <td>0.000730</td>\n",
       "      <td>0.004619</td>\n",
       "      <td>0.006060</td>\n",
       "    </tr>\n",
       "    <tr>\n",
       "      <th>441</th>\n",
       "      <td>0.000699</td>\n",
       "      <td>0.000389</td>\n",
       "      <td>0.000777</td>\n",
       "      <td>0.000028</td>\n",
       "      <td>0.000029</td>\n",
       "      <td>0.000730</td>\n",
       "      <td>0.004619</td>\n",
       "      <td>0.006047</td>\n",
       "    </tr>\n",
       "    <tr>\n",
       "      <th>461</th>\n",
       "      <td>0.000699</td>\n",
       "      <td>0.000389</td>\n",
       "      <td>0.000777</td>\n",
       "      <td>0.000028</td>\n",
       "      <td>0.000043</td>\n",
       "      <td>0.000730</td>\n",
       "      <td>0.004619</td>\n",
       "      <td>0.006033</td>\n",
       "    </tr>\n",
       "    <tr>\n",
       "      <th>561</th>\n",
       "      <td>0.000735</td>\n",
       "      <td>0.000665</td>\n",
       "      <td>0.000810</td>\n",
       "      <td>0.000028</td>\n",
       "      <td>0.000112</td>\n",
       "      <td>0.000756</td>\n",
       "      <td>0.004619</td>\n",
       "      <td>0.006026</td>\n",
       "    </tr>\n",
       "    <tr>\n",
       "      <th>481</th>\n",
       "      <td>0.000699</td>\n",
       "      <td>0.000389</td>\n",
       "      <td>0.000777</td>\n",
       "      <td>0.000028</td>\n",
       "      <td>0.000057</td>\n",
       "      <td>0.000730</td>\n",
       "      <td>0.004619</td>\n",
       "      <td>0.006019</td>\n",
       "    </tr>\n",
       "    <tr>\n",
       "      <th>...</th>\n",
       "      <td>...</td>\n",
       "      <td>...</td>\n",
       "      <td>...</td>\n",
       "      <td>...</td>\n",
       "      <td>...</td>\n",
       "      <td>...</td>\n",
       "      <td>...</td>\n",
       "      <td>...</td>\n",
       "    </tr>\n",
       "    <tr>\n",
       "      <th>3920</th>\n",
       "      <td>0.000364</td>\n",
       "      <td>0.000397</td>\n",
       "      <td>0.000359</td>\n",
       "      <td>0.000138</td>\n",
       "      <td>0.000222</td>\n",
       "      <td>0.000391</td>\n",
       "      <td>0.000000</td>\n",
       "      <td>0.000671</td>\n",
       "    </tr>\n",
       "    <tr>\n",
       "      <th>4340</th>\n",
       "      <td>0.000364</td>\n",
       "      <td>0.000397</td>\n",
       "      <td>0.000359</td>\n",
       "      <td>0.000152</td>\n",
       "      <td>0.000236</td>\n",
       "      <td>0.000391</td>\n",
       "      <td>0.000000</td>\n",
       "      <td>0.000671</td>\n",
       "    </tr>\n",
       "    <tr>\n",
       "      <th>4760</th>\n",
       "      <td>0.000364</td>\n",
       "      <td>0.000397</td>\n",
       "      <td>0.000359</td>\n",
       "      <td>0.000166</td>\n",
       "      <td>0.000250</td>\n",
       "      <td>0.000391</td>\n",
       "      <td>0.000000</td>\n",
       "      <td>0.000671</td>\n",
       "    </tr>\n",
       "    <tr>\n",
       "      <th>843</th>\n",
       "      <td>0.000343</td>\n",
       "      <td>0.000142</td>\n",
       "      <td>0.000338</td>\n",
       "      <td>0.000041</td>\n",
       "      <td>0.000029</td>\n",
       "      <td>0.000313</td>\n",
       "      <td>0.000000</td>\n",
       "      <td>0.000669</td>\n",
       "    </tr>\n",
       "    <tr>\n",
       "      <th>2601</th>\n",
       "      <td>0.000346</td>\n",
       "      <td>0.000264</td>\n",
       "      <td>0.000351</td>\n",
       "      <td>0.000097</td>\n",
       "      <td>0.000140</td>\n",
       "      <td>0.000365</td>\n",
       "      <td>0.000000</td>\n",
       "      <td>0.000668</td>\n",
       "    </tr>\n",
       "  </tbody>\n",
       "</table>\n",
       "<p>739 rows × 8 columns</p>\n",
       "</div>"
      ],
      "text/plain": [
       "      variants_with_clone_norm_by_1_over_nclones_with_variant  \\\n",
       "421                                            0.000699         \n",
       "441                                            0.000699         \n",
       "461                                            0.000699         \n",
       "561                                            0.000735         \n",
       "481                                            0.000699         \n",
       "...                                                 ...         \n",
       "3920                                           0.000364         \n",
       "4340                                           0.000364         \n",
       "4760                                           0.000364         \n",
       "843                                            0.000343         \n",
       "2601                                           0.000346         \n",
       "\n",
       "      max_clone_ncells_over_nclones  max_clone_ncells_over_ncells  pct_thresh  \\\n",
       "421                        0.000389                      0.000777    0.000028   \n",
       "441                        0.000389                      0.000777    0.000028   \n",
       "461                        0.000389                      0.000777    0.000028   \n",
       "561                        0.000665                      0.000810    0.000028   \n",
       "481                        0.000389                      0.000777    0.000028   \n",
       "...                             ...                           ...         ...   \n",
       "3920                       0.000397                      0.000359    0.000138   \n",
       "4340                       0.000397                      0.000359    0.000152   \n",
       "4760                       0.000397                      0.000359    0.000166   \n",
       "843                        0.000142                      0.000338    0.000041   \n",
       "2601                       0.000264                      0.000351    0.000097   \n",
       "\n",
       "      other_pct_thresh    n_vars  obj_nclones_more_than_one_unique     multi  \n",
       "421           0.000015  0.000730                          0.004619  0.006060  \n",
       "441           0.000029  0.000730                          0.004619  0.006047  \n",
       "461           0.000043  0.000730                          0.004619  0.006033  \n",
       "561           0.000112  0.000756                          0.004619  0.006026  \n",
       "481           0.000057  0.000730                          0.004619  0.006019  \n",
       "...                ...       ...                               ...       ...  \n",
       "3920          0.000222  0.000391                          0.000000  0.000671  \n",
       "4340          0.000236  0.000391                          0.000000  0.000671  \n",
       "4760          0.000250  0.000391                          0.000000  0.000671  \n",
       "843           0.000029  0.000313                          0.000000  0.000669  \n",
       "2601          0.000140  0.000365                          0.000000  0.000668  \n",
       "\n",
       "[739 rows x 8 columns]"
      ]
     },
     "execution_count": 7,
     "metadata": {},
     "output_type": "execute_result"
    }
   ],
   "source": [
    "obj_norm_top10perc"
   ]
  },
  {
   "cell_type": "code",
   "execution_count": 8,
   "id": "1f7a7bfd",
   "metadata": {
    "scrolled": true
   },
   "outputs": [
    {
     "name": "stdout",
     "output_type": "stream",
     "text": [
      "..cutHeight not given, setting it to 0.00354542999544845  ===>  99% of the (truncated) height range in dendro.\n",
      "..done.\n"
     ]
    },
    {
     "data": {
      "image/png": "[encoded data removed]",
      "text/plain": [
       "<Figure size 720x720 with 5 Axes>"
      ]
     },
     "metadata": {
      "needs_background": "light"
     },
     "output_type": "display_data"
    }
   ],
   "source": [
    "\n",
    "# g = sns.clustermap(obj_norm_top10perc)\n",
    "# g.fig.suptitle(\"Top 10% objective scores\")\n",
    "# plt.savefig(join(outdir, \"top10_objectives.png\"))\n",
    "\n",
    "\n",
    "#d = np.transpose(np.arange(1,10001).reshape(100,100))\n",
    "\n",
    "distances = pdist(obj_norm_top10perc.drop(\"multi\", axis=1).values, \"euclidean\")\n",
    "link = linkage(distances, \"average\")\n",
    "# try:\n",
    "#     clusters = cutreeHybrid(link, distances)[\"labels\"]\n",
    "# except IndexError: \n",
    "#     print(\"too small, using each one as its own label\")\n",
    "#     clusters = np.arange(1,len(obj_norm_top10perc)+1)\n",
    "\n",
    "clusters = cutreeHybrid(link, distances, minClusterSize=1)[\"labels\"]    \n",
    "# ..cutHeight not given, setting it to 495.1  ===>  99% of the (truncated) height range in dendro.\n",
    "# ..done.\n",
    "#clusters[\"labels\"]\n",
    "#print('clusters', clusters)\n",
    "#clusters = pd.DataFrame({\"ID\":clusters[\"ID\"], \"labels\": clusters[\"labels\"]}, index=obj_norm_top10perc.index)#[[\"ID\", \"labels\"]]\n",
    "clusters = pd.DataFrame({\"labels\": clusters}, index=obj_norm_top10perc.index)#[[\"ID\", \"labels\"]]\n",
    "\n",
    "clusters[\"ID\"] = obj_norm_top10perc.index\n",
    "\n",
    "param_results = pd.merge(clusters, param_results, left_index=True, right_index=True, how=\"inner\")\n",
    "ch.plot_cluster(obj_norm_top10perc.drop(\"multi\", axis=1), row_meta=clusters[[\"labels\"]])\n",
    "plt.savefig(join(outdir, \"top10perc_param_group_clusters.pdf\"), dpi=300, bbox_inches='tight', pad_inches=1)"
   ]
  },
  {
   "cell_type": "markdown",
   "id": "38fc2d8f",
   "metadata": {},
   "source": [
    "## Get average parameters for each params-cluster "
   ]
  },
  {
   "cell_type": "code",
   "execution_count": 9,
   "id": "1bdead80",
   "metadata": {
    "scrolled": false
   },
   "outputs": [
    {
     "data": {
      "text/html": [
       "<div>\n",
       "<style scoped>\n",
       "    .dataframe tbody tr th:only-of-type {\n",
       "        vertical-align: middle;\n",
       "    }\n",
       "\n",
       "    .dataframe tbody tr th {\n",
       "        vertical-align: top;\n",
       "    }\n",
       "\n",
       "    .dataframe thead th {\n",
       "        text-align: right;\n",
       "    }\n",
       "</style>\n",
       "<table border=\"1\" class=\"dataframe\">\n",
       "  <thead>\n",
       "    <tr style=\"text-align: right;\">\n",
       "      <th></th>\n",
       "      <th>pct_thresh</th>\n",
       "      <th>other_pct_thresh</th>\n",
       "      <th>af_thresh</th>\n",
       "    </tr>\n",
       "    <tr>\n",
       "      <th>labels</th>\n",
       "      <th></th>\n",
       "      <th></th>\n",
       "      <th></th>\n",
       "    </tr>\n",
       "  </thead>\n",
       "  <tbody>\n",
       "    <tr>\n",
       "      <th>1</th>\n",
       "      <td>0.463812</td>\n",
       "      <td>0.444917</td>\n",
       "      <td>0.037044</td>\n",
       "    </tr>\n",
       "    <tr>\n",
       "      <th>2</th>\n",
       "      <td>0.298442</td>\n",
       "      <td>0.507648</td>\n",
       "      <td>0.079766</td>\n",
       "    </tr>\n",
       "    <tr>\n",
       "      <th>3</th>\n",
       "      <td>0.115179</td>\n",
       "      <td>0.513036</td>\n",
       "      <td>0.072857</td>\n",
       "    </tr>\n",
       "  </tbody>\n",
       "</table>\n",
       "</div>"
      ],
      "text/plain": [
       "        pct_thresh  other_pct_thresh  af_thresh\n",
       "labels                                         \n",
       "1         0.463812          0.444917   0.037044\n",
       "2         0.298442          0.507648   0.079766\n",
       "3         0.115179          0.513036   0.072857"
      ]
     },
     "execution_count": 9,
     "metadata": {},
     "output_type": "execute_result"
    }
   ],
   "source": [
    "top_params_mean_df = param_results.groupby(\"labels\").mean().drop(\"ID\", axis=1)\n",
    "top_params_mean_df"
   ]
  },
  {
   "cell_type": "markdown",
   "id": "929de5bf",
   "metadata": {},
   "source": [
    "##  Get the clone-variant table for each params-cluster"
   ]
  },
  {
   "cell_type": "markdown",
   "id": "98c372bf",
   "metadata": {},
   "source": [
    "\n",
    "### First load the AF, DP, and cells_meta data"
   ]
  },
  {
   "cell_type": "code",
   "execution_count": 10,
   "id": "005a8703",
   "metadata": {},
   "outputs": [
    {
     "data": {
      "text/plain": [
       "(68, 7002)"
      ]
     },
     "execution_count": 10,
     "metadata": {},
     "output_type": "execute_result"
    }
   ],
   "source": [
    "af_indir = join(af_indirs, \"sc_af\", f\"donor{donor}\")\n",
    "\n",
    "AF_df = pd.read_csv(join(af_indir, \"af.tsv\"), index_col=0, sep=\"\\t\")\n",
    "DP_df = pd.read_csv(join(af_indir, \"dp.tsv\"), index_col=0, sep=\"\\t\")\n",
    "\n",
    "cells_meta = pd.read_csv(join(af_indirs, \"cells_meta.tsv\"), sep='\\t', index_col=\"ID\")#.sort_values([\"donor\", \"lineage\"])\n",
    "cells_meta[\"name\"] = cells_meta[\"donor\"].astype(str)+\"_\"+cells_meta[\"lineage\"].astype(str)\n",
    "# if \"donor_index\" in cells_meta.columns and \"lineage_index\" in cells_meta.columns:\n",
    "#     cells_meta = cells_meta.sort_values([\"donor_index\", \"lineage_index\"])\n",
    "#AD_df = pd.merge(AD_df, vcf[[\"#CHROM\", \"POS\", \"ALT\"]], how=\"inner\", left_index=True,right_index=True).set_index([\"#CHROM\", \"POS\", \"ALT\"])\n",
    "curr_labels = cells_meta[cells_meta[\"donor\"].astype(int)==int(donor)]\n",
    "curr_labels\n",
    "\n",
    "conditions = curr_labels[\"condition\"].unique()\n",
    "conditions\n",
    "\n",
    "def rm_high(df, thresh, pct_thresh):\n",
    "    return df.loc[~(((df>thresh).sum(axis=1)>pct_thresh*df.shape[0]))]\n",
    "\n",
    "def rm_low(df, thresh, pct_thresh):\n",
    "    return df.loc[~((df<thresh).sum(axis=1)>(pct_thresh*df.shape[1]))]\n",
    "\n",
    "    #return df.loc[~(((df<=thresh).sum(axis=1)>pct_thresh*df.shape[0]))]\n",
    "#df[(df<0.01).sum(axis=1)]\n",
    "\n",
    "## Get donor inds\n",
    "donor_inds = AF_df.index[((AF_df>0.9).sum(axis=1)>(0.9*AF_df.shape[1]))]\n",
    "\n",
    "AF_df.shape"
   ]
  },
  {
   "cell_type": "markdown",
   "id": "69c5023c",
   "metadata": {},
   "source": [
    "## Then, create the clone-var table for the clustered params and get their objective scores based on the weights\n",
    "Store the results in results_norm_params, which has params, objectives, and solution cluster  \n",
    "Also store the tables in all_df, which is the long-form of clone, variant, ncells, and params"
   ]
  },
  {
   "cell_type": "code",
   "execution_count": 11,
   "id": "2c315da9",
   "metadata": {
    "scrolled": true
   },
   "outputs": [
    {
     "name": "stdout",
     "output_type": "stream",
     "text": [
      "1\n",
      "2\n",
      "3\n",
      "(3, 7)\n",
      "objs_total variants_with_clone_norm_by_1_over_nclones_with_variant      37.138095\n",
      "max_clone_ncells_over_nclones                              3546.257143\n",
      "max_clone_ncells_over_ncells                                 40.075640\n",
      "pct_thresh                                                    0.877433\n",
      "other_pct_thresh                                              1.465601\n",
      "dtype: float64\n"
     ]
    }
   ],
   "source": [
    "all_df = []\n",
    "all_objs = {}\n",
    "for ind, val in top_params_mean_df.iterrows():\n",
    "    print(ind)\n",
    "    obj_out, data = optim.evaluate_series(val, AF_df, DP_df, curr_labels, return_data=True)\n",
    "    all_df.append(data[\"all_unique_df\"])\n",
    "    all_objs[ind] = obj_out \n",
    "all_df = pd.concat(all_df)\n",
    "\n",
    "results_df = pd.DataFrame(all_objs).transpose()\n",
    "results_norm = optim.set_multi(results_df, weights)\n",
    "rank_df = optim.set_multi_rank(results_norm, weights)\n",
    "\n",
    "all_df[\"params\"] = all_df.apply(optim.params_to_str, axis=1,\n",
    "                                args=(param_names,))\n",
    "\n",
    "## merge param and results\n",
    "results_norm_params = pd.merge(left=top_params_mean_df, right=results_norm, right_index=True, left_index=True, suffixes=[\"\", \"_obj\"])\n",
    "\n",
    "results_norm_params[\"params\"] = results_norm_params.apply(optim.params_to_str, axis=1,\n",
    "                                args=(param_names,))\n",
    "results_norm_params.index.name = \"solution_cluster\"\n",
    "results_norm_params = results_norm_params.reset_index().set_index(\"params\")\n"
   ]
  },
  {
   "cell_type": "markdown",
   "id": "6e8cf0e2",
   "metadata": {},
   "source": [
    "### sort by multi\n"
   ]
  },
  {
   "cell_type": "code",
   "execution_count": 12,
   "id": "85e9831f",
   "metadata": {
    "scrolled": true
   },
   "outputs": [
    {
     "data": {
      "text/html": [
       "<div>\n",
       "<style scoped>\n",
       "    .dataframe tbody tr th:only-of-type {\n",
       "        vertical-align: middle;\n",
       "    }\n",
       "\n",
       "    .dataframe tbody tr th {\n",
       "        vertical-align: top;\n",
       "    }\n",
       "\n",
       "    .dataframe thead th {\n",
       "        text-align: right;\n",
       "    }\n",
       "</style>\n",
       "<table border=\"1\" class=\"dataframe\">\n",
       "  <thead>\n",
       "    <tr style=\"text-align: right;\">\n",
       "      <th></th>\n",
       "      <th>solution_cluster</th>\n",
       "      <th>pct_thresh</th>\n",
       "      <th>other_pct_thresh</th>\n",
       "      <th>af_thresh</th>\n",
       "      <th>variants_with_clone_norm_by_1_over_nclones_with_variant</th>\n",
       "      <th>max_clone_ncells_over_nclones</th>\n",
       "      <th>max_clone_ncells_over_ncells</th>\n",
       "      <th>pct_thresh_obj</th>\n",
       "      <th>other_pct_thresh_obj</th>\n",
       "      <th>n_vars</th>\n",
       "      <th>obj_nclones_more_than_one_unique</th>\n",
       "      <th>multi</th>\n",
       "    </tr>\n",
       "    <tr>\n",
       "      <th>params</th>\n",
       "      <th></th>\n",
       "      <th></th>\n",
       "      <th></th>\n",
       "      <th></th>\n",
       "      <th></th>\n",
       "      <th></th>\n",
       "      <th></th>\n",
       "      <th></th>\n",
       "      <th></th>\n",
       "      <th></th>\n",
       "      <th></th>\n",
       "      <th></th>\n",
       "    </tr>\n",
       "  </thead>\n",
       "  <tbody>\n",
       "    <tr>\n",
       "      <th>pct_thresh=0.115\\naf_thresh=0.073\\nother_pct_thresh=0.513\\n</th>\n",
       "      <td>3</td>\n",
       "      <td>0.115179</td>\n",
       "      <td>0.513036</td>\n",
       "      <td>0.072857</td>\n",
       "      <td>0.432620</td>\n",
       "      <td>0.289432</td>\n",
       "      <td>0.431828</td>\n",
       "      <td>0.131268</td>\n",
       "      <td>0.350051</td>\n",
       "      <td>0.42</td>\n",
       "      <td>1.0</td>\n",
       "      <td>1.633836</td>\n",
       "    </tr>\n",
       "    <tr>\n",
       "      <th>pct_thresh=0.464\\naf_thresh=0.037\\nother_pct_thresh=0.445\\n</th>\n",
       "      <td>1</td>\n",
       "      <td>0.463812</td>\n",
       "      <td>0.444917</td>\n",
       "      <td>0.037044</td>\n",
       "      <td>0.309655</td>\n",
       "      <td>0.517165</td>\n",
       "      <td>0.303243</td>\n",
       "      <td>0.528601</td>\n",
       "      <td>0.303573</td>\n",
       "      <td>0.30</td>\n",
       "      <td>0.0</td>\n",
       "      <td>0.834683</td>\n",
       "    </tr>\n",
       "    <tr>\n",
       "      <th>pct_thresh=0.298\\naf_thresh=0.080\\nother_pct_thresh=0.508\\n</th>\n",
       "      <td>2</td>\n",
       "      <td>0.298442</td>\n",
       "      <td>0.507648</td>\n",
       "      <td>0.079766</td>\n",
       "      <td>0.257725</td>\n",
       "      <td>0.193403</td>\n",
       "      <td>0.264928</td>\n",
       "      <td>0.340131</td>\n",
       "      <td>0.346375</td>\n",
       "      <td>0.28</td>\n",
       "      <td>0.0</td>\n",
       "      <td>0.531481</td>\n",
       "    </tr>\n",
       "  </tbody>\n",
       "</table>\n",
       "</div>"
      ],
      "text/plain": [
       "                                                    solution_cluster  \\\n",
       "params                                                                 \n",
       "pct_thresh=0.115\\naf_thresh=0.073\\nother_pct_th...                 3   \n",
       "pct_thresh=0.464\\naf_thresh=0.037\\nother_pct_th...                 1   \n",
       "pct_thresh=0.298\\naf_thresh=0.080\\nother_pct_th...                 2   \n",
       "\n",
       "                                                    pct_thresh  \\\n",
       "params                                                           \n",
       "pct_thresh=0.115\\naf_thresh=0.073\\nother_pct_th...    0.115179   \n",
       "pct_thresh=0.464\\naf_thresh=0.037\\nother_pct_th...    0.463812   \n",
       "pct_thresh=0.298\\naf_thresh=0.080\\nother_pct_th...    0.298442   \n",
       "\n",
       "                                                    other_pct_thresh  \\\n",
       "params                                                                 \n",
       "pct_thresh=0.115\\naf_thresh=0.073\\nother_pct_th...          0.513036   \n",
       "pct_thresh=0.464\\naf_thresh=0.037\\nother_pct_th...          0.444917   \n",
       "pct_thresh=0.298\\naf_thresh=0.080\\nother_pct_th...          0.507648   \n",
       "\n",
       "                                                    af_thresh  \\\n",
       "params                                                          \n",
       "pct_thresh=0.115\\naf_thresh=0.073\\nother_pct_th...   0.072857   \n",
       "pct_thresh=0.464\\naf_thresh=0.037\\nother_pct_th...   0.037044   \n",
       "pct_thresh=0.298\\naf_thresh=0.080\\nother_pct_th...   0.079766   \n",
       "\n",
       "                                                    variants_with_clone_norm_by_1_over_nclones_with_variant  \\\n",
       "params                                                                                                        \n",
       "pct_thresh=0.115\\naf_thresh=0.073\\nother_pct_th...                                           0.432620         \n",
       "pct_thresh=0.464\\naf_thresh=0.037\\nother_pct_th...                                           0.309655         \n",
       "pct_thresh=0.298\\naf_thresh=0.080\\nother_pct_th...                                           0.257725         \n",
       "\n",
       "                                                    max_clone_ncells_over_nclones  \\\n",
       "params                                                                              \n",
       "pct_thresh=0.115\\naf_thresh=0.073\\nother_pct_th...                       0.289432   \n",
       "pct_thresh=0.464\\naf_thresh=0.037\\nother_pct_th...                       0.517165   \n",
       "pct_thresh=0.298\\naf_thresh=0.080\\nother_pct_th...                       0.193403   \n",
       "\n",
       "                                                    max_clone_ncells_over_ncells  \\\n",
       "params                                                                             \n",
       "pct_thresh=0.115\\naf_thresh=0.073\\nother_pct_th...                      0.431828   \n",
       "pct_thresh=0.464\\naf_thresh=0.037\\nother_pct_th...                      0.303243   \n",
       "pct_thresh=0.298\\naf_thresh=0.080\\nother_pct_th...                      0.264928   \n",
       "\n",
       "                                                    pct_thresh_obj  \\\n",
       "params                                                               \n",
       "pct_thresh=0.115\\naf_thresh=0.073\\nother_pct_th...        0.131268   \n",
       "pct_thresh=0.464\\naf_thresh=0.037\\nother_pct_th...        0.528601   \n",
       "pct_thresh=0.298\\naf_thresh=0.080\\nother_pct_th...        0.340131   \n",
       "\n",
       "                                                    other_pct_thresh_obj  \\\n",
       "params                                                                     \n",
       "pct_thresh=0.115\\naf_thresh=0.073\\nother_pct_th...              0.350051   \n",
       "pct_thresh=0.464\\naf_thresh=0.037\\nother_pct_th...              0.303573   \n",
       "pct_thresh=0.298\\naf_thresh=0.080\\nother_pct_th...              0.346375   \n",
       "\n",
       "                                                    n_vars  \\\n",
       "params                                                       \n",
       "pct_thresh=0.115\\naf_thresh=0.073\\nother_pct_th...    0.42   \n",
       "pct_thresh=0.464\\naf_thresh=0.037\\nother_pct_th...    0.30   \n",
       "pct_thresh=0.298\\naf_thresh=0.080\\nother_pct_th...    0.28   \n",
       "\n",
       "                                                    obj_nclones_more_than_one_unique  \\\n",
       "params                                                                                 \n",
       "pct_thresh=0.115\\naf_thresh=0.073\\nother_pct_th...                               1.0   \n",
       "pct_thresh=0.464\\naf_thresh=0.037\\nother_pct_th...                               0.0   \n",
       "pct_thresh=0.298\\naf_thresh=0.080\\nother_pct_th...                               0.0   \n",
       "\n",
       "                                                       multi  \n",
       "params                                                        \n",
       "pct_thresh=0.115\\naf_thresh=0.073\\nother_pct_th...  1.633836  \n",
       "pct_thresh=0.464\\naf_thresh=0.037\\nother_pct_th...  0.834683  \n",
       "pct_thresh=0.298\\naf_thresh=0.080\\nother_pct_th...  0.531481  "
      ]
     },
     "execution_count": 12,
     "metadata": {},
     "output_type": "execute_result"
    }
   ],
   "source": [
    "results_norm_params = results_norm_params.sort_values([\"multi\"])[::-1]\n",
    "\n",
    "results_norm_params"
   ]
  },
  {
   "cell_type": "markdown",
   "id": "7b0d6b28",
   "metadata": {},
   "source": [
    "## Add multi_obj and solution_cluster label to the long clone-table and to the results"
   ]
  },
  {
   "cell_type": "code",
   "execution_count": 13,
   "id": "564d90bc",
   "metadata": {
    "scrolled": true
   },
   "outputs": [
    {
     "data": {
      "text/html": [
       "<div>\n",
       "<style scoped>\n",
       "    .dataframe tbody tr th:only-of-type {\n",
       "        vertical-align: middle;\n",
       "    }\n",
       "\n",
       "    .dataframe tbody tr th {\n",
       "        vertical-align: top;\n",
       "    }\n",
       "\n",
       "    .dataframe thead th {\n",
       "        text-align: right;\n",
       "    }\n",
       "</style>\n",
       "<table border=\"1\" class=\"dataframe\">\n",
       "  <thead>\n",
       "    <tr style=\"text-align: right;\">\n",
       "      <th></th>\n",
       "      <th>params</th>\n",
       "      <th>solution_cluster</th>\n",
       "      <th>pct_thresh</th>\n",
       "      <th>other_pct_thresh</th>\n",
       "      <th>af_thresh</th>\n",
       "      <th>variants_with_clone_norm_by_1_over_nclones_with_variant</th>\n",
       "      <th>max_clone_ncells_over_nclones</th>\n",
       "      <th>max_clone_ncells_over_ncells</th>\n",
       "      <th>pct_thresh_obj</th>\n",
       "      <th>other_pct_thresh_obj</th>\n",
       "      <th>n_vars</th>\n",
       "      <th>obj_nclones_more_than_one_unique</th>\n",
       "      <th>multi</th>\n",
       "      <th>multi_obj</th>\n",
       "      <th>params_multi</th>\n",
       "      <th>solution_params_obj</th>\n",
       "    </tr>\n",
       "  </thead>\n",
       "  <tbody>\n",
       "    <tr>\n",
       "      <th>0</th>\n",
       "      <td>pct_thresh=0.115\\naf_thresh=0.073\\nother_pct_t...</td>\n",
       "      <td>3</td>\n",
       "      <td>0.115179</td>\n",
       "      <td>0.513036</td>\n",
       "      <td>0.072857</td>\n",
       "      <td>0.432620</td>\n",
       "      <td>0.289432</td>\n",
       "      <td>0.431828</td>\n",
       "      <td>0.131268</td>\n",
       "      <td>0.350051</td>\n",
       "      <td>0.42</td>\n",
       "      <td>1.0</td>\n",
       "      <td>1.633836</td>\n",
       "      <td>1.633836</td>\n",
       "      <td>params:\\npct_thresh=0.115\\naf_thresh=0.073\\not...</td>\n",
       "      <td>solution:3\\n params:\\npct_thresh=0.115\\naf_thr...</td>\n",
       "    </tr>\n",
       "    <tr>\n",
       "      <th>1</th>\n",
       "      <td>pct_thresh=0.464\\naf_thresh=0.037\\nother_pct_t...</td>\n",
       "      <td>1</td>\n",
       "      <td>0.463812</td>\n",
       "      <td>0.444917</td>\n",
       "      <td>0.037044</td>\n",
       "      <td>0.309655</td>\n",
       "      <td>0.517165</td>\n",
       "      <td>0.303243</td>\n",
       "      <td>0.528601</td>\n",
       "      <td>0.303573</td>\n",
       "      <td>0.30</td>\n",
       "      <td>0.0</td>\n",
       "      <td>0.834683</td>\n",
       "      <td>0.834683</td>\n",
       "      <td>params:\\npct_thresh=0.464\\naf_thresh=0.037\\not...</td>\n",
       "      <td>solution:1\\n params:\\npct_thresh=0.464\\naf_thr...</td>\n",
       "    </tr>\n",
       "    <tr>\n",
       "      <th>2</th>\n",
       "      <td>pct_thresh=0.298\\naf_thresh=0.080\\nother_pct_t...</td>\n",
       "      <td>2</td>\n",
       "      <td>0.298442</td>\n",
       "      <td>0.507648</td>\n",
       "      <td>0.079766</td>\n",
       "      <td>0.257725</td>\n",
       "      <td>0.193403</td>\n",
       "      <td>0.264928</td>\n",
       "      <td>0.340131</td>\n",
       "      <td>0.346375</td>\n",
       "      <td>0.28</td>\n",
       "      <td>0.0</td>\n",
       "      <td>0.531481</td>\n",
       "      <td>0.531481</td>\n",
       "      <td>params:\\npct_thresh=0.298\\naf_thresh=0.080\\not...</td>\n",
       "      <td>solution:2\\n params:\\npct_thresh=0.298\\naf_thr...</td>\n",
       "    </tr>\n",
       "  </tbody>\n",
       "</table>\n",
       "</div>"
      ],
      "text/plain": [
       "                                              params  solution_cluster  \\\n",
       "0  pct_thresh=0.115\\naf_thresh=0.073\\nother_pct_t...                 3   \n",
       "1  pct_thresh=0.464\\naf_thresh=0.037\\nother_pct_t...                 1   \n",
       "2  pct_thresh=0.298\\naf_thresh=0.080\\nother_pct_t...                 2   \n",
       "\n",
       "   pct_thresh  other_pct_thresh  af_thresh  \\\n",
       "0    0.115179          0.513036   0.072857   \n",
       "1    0.463812          0.444917   0.037044   \n",
       "2    0.298442          0.507648   0.079766   \n",
       "\n",
       "   variants_with_clone_norm_by_1_over_nclones_with_variant  \\\n",
       "0                                           0.432620         \n",
       "1                                           0.309655         \n",
       "2                                           0.257725         \n",
       "\n",
       "   max_clone_ncells_over_nclones  max_clone_ncells_over_ncells  \\\n",
       "0                       0.289432                      0.431828   \n",
       "1                       0.517165                      0.303243   \n",
       "2                       0.193403                      0.264928   \n",
       "\n",
       "   pct_thresh_obj  other_pct_thresh_obj  n_vars  \\\n",
       "0        0.131268              0.350051    0.42   \n",
       "1        0.528601              0.303573    0.30   \n",
       "2        0.340131              0.346375    0.28   \n",
       "\n",
       "   obj_nclones_more_than_one_unique     multi  multi_obj  \\\n",
       "0                               1.0  1.633836   1.633836   \n",
       "1                               0.0  0.834683   0.834683   \n",
       "2                               0.0  0.531481   0.531481   \n",
       "\n",
       "                                        params_multi  \\\n",
       "0  params:\\npct_thresh=0.115\\naf_thresh=0.073\\not...   \n",
       "1  params:\\npct_thresh=0.464\\naf_thresh=0.037\\not...   \n",
       "2  params:\\npct_thresh=0.298\\naf_thresh=0.080\\not...   \n",
       "\n",
       "                                 solution_params_obj  \n",
       "0  solution:3\\n params:\\npct_thresh=0.115\\naf_thr...  \n",
       "1  solution:1\\n params:\\npct_thresh=0.464\\naf_thr...  \n",
       "2  solution:2\\n params:\\npct_thresh=0.298\\naf_thr...  "
      ]
     },
     "execution_count": 13,
     "metadata": {},
     "output_type": "execute_result"
    }
   ],
   "source": [
    "all_df[\"multi_obj\"] = all_df.apply(lambda x: results_norm_params.loc[x[\"params\"], \"multi\"], axis=1)\n",
    "all_df[\"solution_cluster\"] = all_df.apply(lambda x: results_norm_params.loc[x[\"params\"], \"solution_cluster\"], axis=1)\n",
    "all_df[\"params_multi\"] = all_df.apply(optim.params_and_multi_str, axis=1)\n",
    "clones_order, variants_order, heatmap_input = optim.prep_long_heatmap(all_df)\n",
    "all_df[\"solution_params_obj\"] = all_df.apply(lambda x: f'solution:{x[\"solution_cluster\"]}\\n {x[\"params_multi\"]}',axis=1)\n",
    "all_df\n",
    "\n",
    "results_norm_params = results_norm_params.reset_index()\n",
    "results_norm_params[\"multi_obj\"] = results_norm_params[\"multi\"]\n",
    "results_norm_params[\"params_multi\"] = results_norm_params.apply(optim.params_and_multi_str, axis=1)\n",
    "\n",
    "results_norm_params[\"solution_params_obj\"] = results_norm_params.apply(lambda x: f'solution:{x[\"solution_cluster\"]}\\n {x[\"params_multi\"]}',axis=1)\n",
    "results_norm_params"
   ]
  },
  {
   "cell_type": "markdown",
   "id": "c77961ac",
   "metadata": {},
   "source": [
    "## Plot objective scores across different params-cluster labels"
   ]
  },
  {
   "cell_type": "code",
   "execution_count": 14,
   "id": "71a51e15",
   "metadata": {
    "scrolled": false
   },
   "outputs": [
    {
     "data": {
      "image/png": "[encoded data removed]",
      "text/plain": [
       "<Figure size 720x720 with 4 Axes>"
      ]
     },
     "metadata": {
      "needs_background": "light"
     },
     "output_type": "display_data"
    }
   ],
   "source": [
    "sns.clustermap(results_norm)\n",
    "plt.savefig(join(outdir, \"top_param_group_results.png\"))\n",
    "plt.savefig(join(outdir, \"top_param_group_results.pdf\"), bbox_inches='tight', pad_inches=1)"
   ]
  },
  {
   "cell_type": "markdown",
   "id": "63c77e37",
   "metadata": {},
   "source": [
    "## Plot cluster clone-var table"
   ]
  },
  {
   "cell_type": "code",
   "execution_count": 15,
   "id": "af3e0bb8",
   "metadata": {
    "scrolled": false
   },
   "outputs": [
    {
     "data": {
      "image/png": "[encoded data removed]",
      "text/plain": [
       "<Figure size 1152x576 with 6 Axes>"
      ]
     },
     "metadata": {
      "needs_background": "light"
     },
     "output_type": "display_data"
    }
   ],
   "source": [
    "fg = sns.FacetGrid(data=all_df.reset_index(), height=4, aspect=2, sharey=True, sharex=True, \n",
    "                   col=\"solution_params_obj\", col_wrap=2, \n",
    "                   col_order=results_norm_params[\"solution_params_obj\"].values, margin_titles=False)\n",
    "\n",
    "fg.map_dataframe(optim.draw_heatmap, 'variant','clone', 'log2_n_cells', \n",
    "                 clones_order=clones_order, \n",
    "                 variants_order=variants_order)#, cbar=False)\n",
    "#fg.set_titles(row_template = 'other_pct_thresh: {row_name}', col_template = 'pct_thresh: {col_name}')\n",
    "#fg.fig.suptitle(f\"Best parameter combinations shown in order\")\n",
    "fg.fig.subplots_adjust(top=2, hspace = 1)\n",
    "\n",
    "plt.savefig(join(outdir, \"top_param_groups_clone_vars.pdf\"), dpi=300, bbox_inches='tight', pad_inches=1)"
   ]
  },
  {
   "cell_type": "code",
   "execution_count": 16,
   "id": "321df14a",
   "metadata": {
    "scrolled": true
   },
   "outputs": [
    {
     "name": "stdout",
     "output_type": "stream",
     "text": [
      "solution:1\n",
      " params:\n",
      "pct_thresh=0.464\n",
      "af_thresh=0.037\n",
      "other_pct_thresh=0.445\n",
      "Objective score=0.8346830498480404 (want to maximize)\n",
      "solution:2\n",
      " params:\n",
      "pct_thresh=0.298\n",
      "af_thresh=0.080\n",
      "other_pct_thresh=0.508\n",
      "Objective score=0.5314812095361319 (want to maximize)\n",
      "solution:3\n",
      " params:\n",
      "pct_thresh=0.115\n",
      "af_thresh=0.073\n",
      "other_pct_thresh=0.513\n",
      "Objective score=1.633835740615828 (want to maximize)\n"
     ]
    }
   ],
   "source": [
    "for ind, val in all_df.groupby(\"solution_params_obj\"):\n",
    "    print(ind)\n",
    "    curr_dir = join(outdir, \"best_params_clusters\")\n",
    "    if not exists(curr_dir):\n",
    "        os.mkdir(curr_dir)\n",
    "    curr_name = val[\"params\"][0].replace(\"=\", \"__\").replace(\"\\n\", \"___\").strip(\"_\")\n",
    "    curr_table = val.reset_index().pivot(index=\"clone\",columns=\"variant\",values=\"n_cells\").fillna(0).astype(int)\n",
    "    curr_table.to_csv(join(curr_dir, f\"clone_variants.{curr_name}.csv\"))"
   ]
  },
  {
   "cell_type": "code",
   "execution_count": null,
   "id": "d898bb5d",
   "metadata": {},
   "outputs": [],
   "source": []
  },
  {
   "cell_type": "markdown",
   "id": "f79f5aba",
   "metadata": {},
   "source": [
    "## Get the top cluster score and save "
   ]
  },
  {
   "cell_type": "code",
   "execution_count": 17,
   "id": "b43b841e",
   "metadata": {},
   "outputs": [],
   "source": [
    "best_params = (results_norm_params.sort_values(\"multi_obj\")[::-1]).iloc[0]\n",
    "best_params\n",
    "\n",
    "best_params = pd.DataFrame(best_params).transpose()\n",
    "best_params.index = [\"objective_scores\"]\n",
    "best_params.loc[\"weight\"] = None\n",
    "\n",
    "for obj, w in zip(objectives_l, weights):\n",
    "    best_params.loc[\"weight\", f\"{obj}_obj\"] = w\n",
    "\n",
    "out_df = all_df[all_df['params'] == best_params.loc[\"objective_scores\", \"params\"]]\n",
    "\n",
    "clone_var_table = (out_df.pivot(index= 'variant',columns='clone', values='log2_n_cells').fillna(0))\n",
    "clones_keep = clone_var_table.loc[:, ~((clone_var_table==0).all(axis=0))].columns\n",
    "vars_keep = clone_var_table.loc[~((clone_var_table==0).all(axis=1))].index\n"
   ]
  },
  {
   "cell_type": "code",
   "execution_count": 18,
   "id": "353ffa96",
   "metadata": {
    "scrolled": false
   },
   "outputs": [
    {
     "data": {
      "image/png": "[encoded data removed]",
      "text/plain": [
       "<Figure size 720x720 with 4 Axes>"
      ]
     },
     "metadata": {
      "needs_background": "light"
     },
     "output_type": "display_data"
    }
   ],
   "source": [
    "sns.clustermap(clone_var_table)\n",
    "plt.title(best_params.loc[\"objective_scores\", \"params_multi\"])\n",
    "plt.savefig(join(outdir, \"best_params.pdf\"), bbox_inches='tight', pad_inches=1)\n",
    "\n",
    "# sns.clustermap(clone_var_table.loc[vars_keep,clones_keep])\n",
    "# plt.title(best_params.loc[\"objective_scores\", \"params_multi\"])\n",
    "# plt.savefig(join(outdir, \"best_params_filt.pdf\"))\n",
    "\n"
   ]
  },
  {
   "cell_type": "code",
   "execution_count": 19,
   "id": "86702bb6",
   "metadata": {
    "scrolled": true
   },
   "outputs": [
    {
     "name": "stdout",
     "output_type": "stream",
     "text": [
      "                         orig.ident  nCount_ATAC  nFeature_ATAC  total  \\\n",
      "Flt3l_AAACGAACAAGCGAAC-1      Flt3l         2271           2271   8825   \n",
      "Flt3l_AAACGAACACAGCCAC-1      Flt3l         2854           2854  10589   \n",
      "Flt3l_AAACGAACACAGGTAG-1      Flt3l          615            615   2384   \n",
      "Flt3l_AAACGAACATAGAATG-1      Flt3l          985            985   3395   \n",
      "Flt3l_AAACGAAGTATTCGAC-1      Flt3l          894            894   4999   \n",
      "\n",
      "                          duplicate  chimeric  unmapped  lowmapq  \\\n",
      "Flt3l_AAACGAACAAGCGAAC-1       1544        24        24      535   \n",
      "Flt3l_AAACGAACACAGCCAC-1       1294        41        31      456   \n",
      "Flt3l_AAACGAACACAGGTAG-1        240        13         7      149   \n",
      "Flt3l_AAACGAACATAGAATG-1        433         8        20      163   \n",
      "Flt3l_AAACGAAGTATTCGAC-1        553        16        17      197   \n",
      "\n",
      "                          mitochondrial  passed_filters  ... seurat_clusters  \\\n",
      "Flt3l_AAACGAACAAGCGAAC-1           1308            5390  ...               5   \n",
      "Flt3l_AAACGAACACAGCCAC-1           2764            6003  ...               9   \n",
      "Flt3l_AAACGAACACAGGTAG-1            594            1381  ...               3   \n",
      "Flt3l_AAACGAACATAGAATG-1            985            1786  ...               4   \n",
      "Flt3l_AAACGAAGTATTCGAC-1           1650            2566  ...               9   \n",
      "\n",
      "                          nCount_RNA  nFeature_RNA                        ID  \\\n",
      "Flt3l_AAACGAACAAGCGAAC-1        3360          2784  AAACGAACAAGCGAAC-1_Flt3l   \n",
      "Flt3l_AAACGAACACAGCCAC-1        3722          2998  AAACGAACACAGCCAC-1_Flt3l   \n",
      "Flt3l_AAACGAACACAGGTAG-1         901           865  AAACGAACACAGGTAG-1_Flt3l   \n",
      "Flt3l_AAACGAACATAGAATG-1        1090          1005  AAACGAACATAGAATG-1_Flt3l   \n",
      "Flt3l_AAACGAAGTATTCGAC-1        1385          1248  AAACGAAGTATTCGAC-1_Flt3l   \n",
      "\n",
      "                                         Row.names  lineage  donor  condition  \\\n",
      "Flt3l_AAACGAACAAGCGAAC-1  Flt3l_AAACGAACAAGCGAAC-1        8      0      Flt3l   \n",
      "Flt3l_AAACGAACACAGCCAC-1  Flt3l_AAACGAACACAGCCAC-1       27      0      Flt3l   \n",
      "Flt3l_AAACGAACACAGGTAG-1  Flt3l_AAACGAACACAGGTAG-1        8      0      Flt3l   \n",
      "Flt3l_AAACGAACATAGAATG-1  Flt3l_AAACGAACATAGAATG-1        8      0      Flt3l   \n",
      "Flt3l_AAACGAAGTATTCGAC-1  Flt3l_AAACGAAGTATTCGAC-1       12      0      Flt3l   \n",
      "\n",
      "                          name  cluster_labels  \n",
      "Flt3l_AAACGAACAAGCGAAC-1   0_8   meg/erythroid  \n",
      "Flt3l_AAACGAACACAGCCAC-1  0_27   MPP/CMP/GMP D  \n",
      "Flt3l_AAACGAACACAGGTAG-1   0_8   MPP/CMP/GMP B  \n",
      "Flt3l_AAACGAACATAGAATG-1   0_8       erythroid  \n",
      "Flt3l_AAACGAAGTATTCGAC-1  0_12   MPP/CMP/GMP D  \n",
      "\n",
      "[5 rows x 40 columns]\n",
      "(5042, 40)\n",
      "(5042, 21)\n",
      "(5042, 21)\n"
     ]
    },
    {
     "data": {
      "text/plain": [
       "'/data/Mito_Trace/output/pipeline/v04/CHIP_b1/MTBlacklist_A2/data/merged/MT/cellr_True/numread_200/filters/minC10_minR50_topN0_hetT0.001_hetC10_hetCount5_bq20/mgatk/vireoIn/enriched_barcodes/clones/variants_init/knn/kparam_30/donor0/optim_results/'"
      ]
     },
     "execution_count": 19,
     "metadata": {},
     "output_type": "execute_result"
    }
   ],
   "source": [
    "# ## Save clone-variant table and the parameters\n",
    "clone_var_table.to_csv(join(outdir, \"best_params_clone_vars.csv\"))\n",
    "clone_var_table.loc[vars_keep,clones_keep].to_csv(join(outdir, \"best_params_filt_clone_vars.csv\"))\n",
    "best_params.to_csv(join(outdir, \"best_params.csv\"))\n",
    "\n",
    "anno_cells = pd.read_csv(anno_cells_meta_f, sep=\"\\t\", index_col=0)\n",
    "\n",
    "filt_curr_labels = curr_labels[curr_labels[\"name\"].isin(clones_keep)]\n",
    "\n",
    "# overlap cells of anno and curr labels\n",
    "cells_to_keep = set(anno_cells[\"ID\"].values).intersection(set(filt_curr_labels.index))\n",
    "out_cells_meta = anno_cells.loc[anno_cells[\"ID\"].isin(cells_to_keep)]\n",
    "#out_cells_meta =  out_cells_meta.reset_index().set_index(\"ID\")\n",
    "\n",
    "# out_AF_df = AF_df.loc[vars_keep, out_cells_meta.index]\n",
    "# out_DP_df = DP_df.loc[vars_keep, out_cells_meta.index]\n",
    "print(out_cells_meta.head())\n",
    "out_AF_df = AF_df.loc[vars_keep, out_cells_meta[\"ID\"]].transpose()\n",
    "out_DP_df = DP_df.loc[vars_keep, out_cells_meta[\"ID\"]].transpose()\n",
    "\n",
    "\n",
    "print(out_cells_meta.shape)\n",
    "print(out_AF_df.shape)\n",
    "print(out_DP_df.shape)\n",
    "\n",
    "assert((out_AF_df.index==out_DP_df.index).all())\n",
    "assert((out_AF_df.columns==out_DP_df.columns).all())\n",
    "assert((out_AF_df.index==out_cells_meta[\"ID\"]).all())\n",
    "\n",
    "\n",
    "# ## save cells-meta, af and dp\n",
    "out_cells_meta[\"ID\"]\n",
    "\n",
    "out_cells_meta.to_csv(join(outdir, \"cells_meta.tsv\"),sep=\"\\t\")\n",
    "out_AF_df.to_csv(join(outdir, \"af.tsv\"), sep=\"\\t\")\n",
    "out_DP_df.to_csv(join(outdir, \"dp.tsv\"), sep=\"\\t\")\n",
    "\n",
    "outdir\n",
    "\n"
   ]
  },
  {
   "cell_type": "code",
   "execution_count": 20,
   "id": "33d611a6",
   "metadata": {},
   "outputs": [],
   "source": [
    "#all_df[\"params_multi\"] = all_df.apply(optim.params_and_multi_str, axis=1)\n",
    "# ########################\n",
    "# # Get the top n results\n",
    "# ########################\n",
    "# def get_top_n_results(results_df, rank_df, n=12):\n",
    "#     filt_rank = rank_df.sort_values(by=[\"multi\"])[::-1].iloc[:n]\n",
    "#     filt_results = results_df.loc[filt_rank.index]\n",
    "#     return filt_rank, filt_results\n",
    "\n",
    "\n",
    "# full_params.to_csv(join(outdir, \"params.csv\"))\n",
    "\n",
    "# filt_rank, filt_results = get_top_n_results(results_df, rank_df, n=topn)\n",
    "# filt_results.columns = [f\"{x}_obj\" for x in filt_results.columns]\n",
    "# filt_results = pd.merge(filt_results, full_params, left_index=True, right_index=True, how=\"left\")\n",
    "# filt_rank = filt_rank.loc[filt_results.index]\n",
    "\n",
    "# all_df = []\n",
    "# all_objs = {}\n",
    "# for ind, val in filt_results.iterrows():\n",
    "#     print(ind)\n",
    "#     obj_out, data = optim.evaluate_series(val, AF_df, DP_df, curr_labels, return_data=True)\n",
    "#     all_df.append(data[\"all_unique_df\"])\n",
    "#     all_objs[ind] = obj_out \n",
    "# all_df = pd.concat(all_df)\n",
    "\n",
    "# heatmap_input = all_df[[\"n_cells\", \"variant\"]].reset_index().pivot(index=\"id\", columns=\"variant\", values=\"n_cells\").fillna(0).astype(int)\n",
    "# meta_df = all_df[[\"af_thresh\", \"other_pct_thresh\", \"pct_thresh\", \"clone\"]]\n",
    "# meta_df = meta_df.loc[~(meta_df.index.duplicated())]\n",
    "# meta_df = meta_df.sort_values([\"af_thresh\",\"pct_thresh\", \"other_pct_thresh\", \"clone\"])\n",
    "# heatmap_input = heatmap_input.loc[meta_df.index]\n",
    "\n",
    "# # Get the variants based on total number of cells across parameters\n",
    "# heatmap_input = heatmap_input.loc[:,heatmap_input.sum().sort_values()[::-1].index]\n",
    "# variants_order = heatmap_input.columns\n",
    "\n",
    "\n",
    "# clone_sums = meta_df.groupby(\"clone\").apply(optim.clone_sum, heatmap_input)\n",
    "# clone_sums = clone_sums.loc[:, clone_sums.sum().sort_values()[::-1].index]\n",
    "# clones_order = clone_sums.index\n",
    "\n",
    "# all_df[\"params\"] = all_df.apply(optim.params_to_str, axis=1, args=(param_names,))\n",
    "# filt_results[\"params\"] = filt_results.apply(optim.params_to_str, axis=1, args=(param_names,))\n",
    "# filt_results[\"params_multi\"] = filt_results.apply(optim.params_and_multi_str, axis=1)\n",
    "# tmp = filt_results.set_index(\"params\")\n",
    "# all_df[\"multi_obj\"] = all_df.apply(lambda x: tmp.loc[x[\"params\"], \"multi_obj\"], axis=1)\n",
    "# del tmp                               \n",
    "\n",
    "# all_df[\"params_multi\"] = all_df.apply(optim.params_and_multi_str, axis=1)\n",
    "\n",
    "\n",
    "# fg = sns.FacetGrid(data=all_df.reset_index(), height=4, sharey=False, sharex=False,\n",
    "#                    col=\"params\", col_wrap=4, col_order=filt_results[\"params\"].values, margin_titles=True)\n",
    "\n",
    "# fg.map_dataframe(optim.draw_heatmap, 'variant','clone', 'log2_n_cells',\n",
    "#                  clones_order=clones_order, variants_order=variants_order)#, cbar=False)\n",
    "\n",
    "# #fg.set_titles(row_template = 'other_pct_thresh: {row_name}', col_template = 'pct_thresh: {col_name}')\n",
    "# fg.fig.suptitle(f\"Best parameter combinations shown in order\")\n",
    "# fg.fig.subplots_adjust(top=0.9, hspace = 0.8)\n",
    "\n",
    "# plt.title(\"multiobjective function (want to maximize)\")\n",
    "# #plt.savefig(join(outdir, \"top_param_results.pdf\"))\n",
    "# plt.savefig(join(outdir, \"top_param_results.pdf\"), dpi=300)"
   ]
  }
 ],
 "metadata": {
  "kernelspec": {
   "display_name": "Python 3 (ipykernel)",
   "language": "python",
   "name": "python3"
  },
  "language_info": {
   "codemirror_mode": {
    "name": "ipython",
    "version": 3
   },
   "file_extension": ".py",
   "mimetype": "text/x-python",
   "name": "python",
   "nbconvert_exporter": "python",
   "pygments_lexer": "ipython3",
   "version": "3.7.12"
  }
 },
 "nbformat": 4,
 "nbformat_minor": 5
}
