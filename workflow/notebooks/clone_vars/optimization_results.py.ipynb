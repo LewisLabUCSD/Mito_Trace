{
 "cells": [
  {
   "cell_type": "code",
   "execution_count": 2,
   "id": "52cb8951",
   "metadata": {},
   "outputs": [],
   "source": [
    "af_indirs = snakemake.params.af_indirs\n",
    "indir = snakemake.params.indir\n",
    "outdir = snakemake.params.outdir\n",
    "donor = snakemake.wildcards.d\n",
    "weights = snakemake.params.weights\n",
    "anno_cells_meta_f = snakemake.input.anno_cells_meta_f\n",
    "objectives_l = snakemake.params.get(\"objectives_l\", \n",
    "                                    [\"variants_with_clone_norm_by_1_over_nclones_with_variant\", \n",
    "                                     \"max_clone_ncells_over_nclones\", \"max_clone_ncells_over_ncells\", \n",
    "                                     \"pct_thresh\",\"other_pct_thresh\", \n",
    "                                     \"n_vars\", \"obj_nclones_more_than_one_unique\"])\n",
    "# try: \n",
    "#     af_indirs = snakemake.params.af_indirs\n",
    "#     indir = snakemake.params.indir\n",
    "#     outdir = snakemake.params.outdir\n",
    "#     donor = snakemake.wildcards.d\n",
    "#     weights = snakemake.params.weights\n",
    "#     anno_cells_meta_f = snakemake.input.anno_cells_meta_f\n",
    "#     objectives_l = snakemake.params.get(\"objectives_l\", \n",
    "#                                         [\"variants_with_clone_norm_by_1_over_nclones_with_variant\", \n",
    "#                                          \"max_clone_ncells_over_nclones\", \"max_clone_ncells_over_ncells\", \n",
    "#                                          \"pct_thresh\",\"other_pct_thresh\", \n",
    "#                                          \"n_vars\", \"obj_nclones_more_than_one_unique\"])\n",
    "# except NameError:\n",
    "#     af_indirs = \"/data/Mito_Trace/output/pipeline/v04/CHIP_b1/MTBlacklist_A2/data/merged/MT/cellr_True/numread_200/filters/minC10_minR50_topN0_hetT0.001_hetC10_hetCount5_bq20/mgatk/vireoIn/clones/variants_init/knn/kparam_30/\"\n",
    "#     indir = \"/data/Mito_Trace/output/pipeline/v04/CHIP_b1/MTBlacklist_A2/data/merged/MT/cellr_True/numread_200/filters/minC10_minR50_topN0_hetT0.001_hetC10_hetCount5_bq20/mgatk/vireoIn/enriched_barcodes/clones/variants_init/knn/kparam_30/donor1/\"\n",
    "#     outdir = \"/data/Mito_Trace/output/pipeline/v04/CHIP_b1/MTBlacklist_A2/data/merged/MT/cellr_True/numread_200/filters/minC10_minR50_topN0_hetT0.001_hetC10_hetCount5_bq20/mgatk/vireoIn/enriched_barcodes/clones/variants_init/knn/kparam_30/donor1/optim_results/\"\n",
    "#     donor = 0\n",
    "#     anno_cells_meta_f = \"/data/Mito_Trace/output/pipeline/v04/CHIP_b1/MTBlacklist_A2/data/merged/MT/cellr_True/numread_200/filters/minC10_minR50_topN0_hetT0.001_hetC10_hetCount5_bq20/mgatk/vireoIn/clones/variants_init/knn/kparam_30/gff_A2_black/annotation_clones/se_cells_meta_labels.tsv\"\n",
    "#     weights = [1,0,0,1,-1, 1, 1]\n",
    "#     objectives_l = [\"variants_with_clone_norm_by_1_over_nclones_with_variant\", \n",
    "#                     \"max_clone_ncells_over_nclones\", \"max_clone_ncells_over_ncells\", \n",
    "#                     \"pct_thresh\",\"other_pct_thresh\", \"n_vars\", \"obj_nclones_more_than_one_unique\"] #\"nvars\"\n",
    "\n",
    "    \n",
    "param_names = [\"pct_thresh\",\"af_thresh\", \"other_pct_thresh\"]\n"
   ]
  },
  {
   "cell_type": "code",
   "execution_count": 3,
   "id": "a1431d0e",
   "metadata": {},
   "outputs": [],
   "source": [
    "af_indirs"
   ]
  },
  {
   "cell_type": "code",
   "execution_count": 4,
   "id": "0bdc272d",
   "metadata": {
    "scrolled": false
   },
   "outputs": [],
   "source": [
    "import src.clone_variants_optim  as optim\n",
    "from mplh import cluster_help as ch\n",
    "\n",
    "from dynamicTreeCut import cutreeHybrid\n",
    "from scipy.spatial.distance import pdist\n",
    "import numpy as np\n",
    "from scipy.cluster.hierarchy import linkage\n",
    "\n",
    "import mplh.cluster_help as ch\n",
    "import mplh.fig_utils as fu"
   ]
  },
  {
   "cell_type": "code",
   "execution_count": 5,
   "id": "133f5aae",
   "metadata": {},
   "outputs": [],
   "source": [
    "%load_ext autoreload\n",
    "%autoreload 2\n",
    "import pandas as pd\n",
    "import matplotlib\n",
    "import os\n",
    "import numpy as np\n",
    "import matplotlib.pyplot as plt\n",
    "import seaborn as sns\n",
    "from os.path import join, exists, dirname\n",
    "from glob import glob\n",
    "import pickle\n",
    "from icecream import ic\n",
    "ic.disable()\n",
    "np.set_printoptions(formatter={'float': lambda x: format(x, '.3f')})\n",
    "# matplotlib.rcParams['ps.useafm'] = False\n",
    "# matplotlib.rcParams['pdf.use14corefonts'] = True\n",
    "# matplotlib.rcParams['text.usetex'] = False"
   ]
  },
  {
   "cell_type": "markdown",
   "id": "bcec335d",
   "metadata": {},
   "source": [
    "# Load results and get top 10% of them"
   ]
  },
  {
   "cell_type": "code",
   "execution_count": 6,
   "id": "4d4b9156",
   "metadata": {},
   "outputs": [],
   "source": [
    "obj_norm_results = pd.read_csv(join(indir, \"objectives_norm.csv\"), index_col=0)\n",
    "obj_results = pd.read_csv(join(indir, \"objectives.csv\"), index_col=0)\n",
    "obj_results = pd.read_csv(join(indir, \"objectives_rank.csv\"), index_col=0)\n",
    "param_results = pd.read_csv(join(indir, \"params.csv\"), index_col=0)\n",
    "\n",
    "# top 10%\n",
    "top10perc_n = int(obj_norm_results.shape[0]*0.1)\n",
    "obj_norm_top10perc = obj_norm_results.iloc[:top10perc_n]\n",
    "top10perc_n\n",
    "\n",
    "param_results = param_results.loc[obj_norm_top10perc.index]\n",
    "# obj_norm_top10perc_params = pd.merge(left=obj_norm_top10perc, right=param_results, left_index=True, right_index=True, how=\"left\", \n",
    "#                                      suffixes=[\"_obj\", \"\"])\n"
   ]
  },
  {
   "cell_type": "code",
   "execution_count": 7,
   "id": "77a9703e",
   "metadata": {
    "scrolled": true
   },
   "outputs": [],
   "source": [
    "param_results"
   ]
  },
  {
   "cell_type": "markdown",
   "id": "0fdb0d34",
   "metadata": {},
   "source": [
    "## Cluster top results by objectives and get a dynamic tree cut of the dendrogram"
   ]
  },
  {
   "cell_type": "code",
   "execution_count": 8,
   "id": "1f7a7bfd",
   "metadata": {
    "scrolled": true
   },
   "outputs": [],
   "source": [
    "\n",
    "# g = sns.clustermap(obj_norm_top10perc)\n",
    "# g.fig.suptitle(\"Top 10% objective scores\")\n",
    "# plt.savefig(join(outdir, \"top10_objectives.png\"))\n",
    "\n",
    "\n",
    "#d = np.transpose(np.arange(1,10001).reshape(100,100))\n",
    "\n",
    "distances = pdist(obj_norm_top10perc.drop(\"multi\", axis=1).values, \"euclidean\")\n",
    "link = linkage(distances, \"average\")\n",
    "clusters = cutreeHybrid(link, distances)[\"labels\"]\n",
    "# ..cutHeight not given, setting it to 495.1  ===>  99% of the (truncated) height range in dendro.\n",
    "# ..done.\n",
    "#clusters[\"labels\"]\n",
    "#print('clusters', clusters)\n",
    "#clusters = pd.DataFrame({\"ID\":clusters[\"ID\"], \"labels\": clusters[\"labels\"]}, index=obj_norm_top10perc.index)#[[\"ID\", \"labels\"]]\n",
    "clusters = pd.DataFrame({\"labels\": clusters}, index=obj_norm_top10perc.index)#[[\"ID\", \"labels\"]]\n",
    "\n",
    "clusters[\"ID\"] = obj_norm_top10perc.index\n",
    "\n",
    "param_results = pd.merge(clusters, param_results, left_index=True, right_index=True, how=\"inner\")\n",
    "ch.plot_cluster(obj_norm_top10perc.drop(\"multi\", axis=1), row_meta=clusters[[\"labels\"]])\n",
    "plt.savefig(join(outdir, \"top10perc_param_group_clusters.pdf\"), dpi=300)"
   ]
  },
  {
   "cell_type": "markdown",
   "id": "38fc2d8f",
   "metadata": {},
   "source": [
    "## Get average parameters for each params-cluster "
   ]
  },
  {
   "cell_type": "code",
   "execution_count": 9,
   "id": "1bdead80",
   "metadata": {
    "scrolled": false
   },
   "outputs": [],
   "source": [
    "top_params_mean_df = param_results.groupby(\"labels\").mean().drop(\"ID\", axis=1)\n",
    "top_params_mean_df"
   ]
  },
  {
   "cell_type": "markdown",
   "id": "929de5bf",
   "metadata": {},
   "source": [
    "##  Get the clone-variant table for each params-cluster"
   ]
  },
  {
   "cell_type": "markdown",
   "id": "98c372bf",
   "metadata": {},
   "source": [
    "\n",
    "### First load the AF, DP, and cells_meta data"
   ]
  },
  {
   "cell_type": "code",
   "execution_count": 10,
   "id": "005a8703",
   "metadata": {},
   "outputs": [],
   "source": [
    "af_indir = join(af_indirs, \"sc_af\", f\"donor{donor}\")\n",
    "\n",
    "AF_df = pd.read_csv(join(af_indir, \"af.tsv\"), index_col=0, sep=\"\\t\")\n",
    "DP_df = pd.read_csv(join(af_indir, \"dp.tsv\"), index_col=0, sep=\"\\t\")\n",
    "\n",
    "cells_meta = pd.read_csv(join(af_indirs, \"cells_meta.tsv\"), sep='\\t', index_col=\"ID\")#.sort_values([\"donor\", \"lineage\"])\n",
    "cells_meta[\"name\"] = cells_meta[\"donor\"].astype(str)+\"_\"+cells_meta[\"lineage\"].astype(str)\n",
    "# if \"donor_index\" in cells_meta.columns and \"lineage_index\" in cells_meta.columns:\n",
    "#     cells_meta = cells_meta.sort_values([\"donor_index\", \"lineage_index\"])\n",
    "#AD_df = pd.merge(AD_df, vcf[[\"#CHROM\", \"POS\", \"ALT\"]], how=\"inner\", left_index=True,right_index=True).set_index([\"#CHROM\", \"POS\", \"ALT\"])\n",
    "curr_labels = cells_meta[cells_meta[\"donor\"].astype(int)==int(donor)]\n",
    "curr_labels\n",
    "\n",
    "conditions = curr_labels[\"condition\"].unique()\n",
    "conditions\n",
    "\n",
    "def rm_high(df, thresh, pct_thresh):\n",
    "    return df.loc[~(((df>thresh).sum(axis=1)>pct_thresh*df.shape[0]))]\n",
    "\n",
    "def rm_low(df, thresh, pct_thresh):\n",
    "    return df.loc[~((df<thresh).sum(axis=1)>(pct_thresh*df.shape[1]))]\n",
    "\n",
    "    #return df.loc[~(((df<=thresh).sum(axis=1)>pct_thresh*df.shape[0]))]\n",
    "#df[(df<0.01).sum(axis=1)]\n",
    "\n",
    "## Get donor inds\n",
    "donor_inds = AF_df.index[((AF_df>0.9).sum(axis=1)>(0.9*AF_df.shape[1]))]\n",
    "\n",
    "AF_df.shape"
   ]
  },
  {
   "cell_type": "markdown",
   "id": "69c5023c",
   "metadata": {},
   "source": [
    "## Then, create the clone-var table for the clustered params and get their objective scores based on the weights\n",
    "Store the results in results_norm_params, which has params, objectives, and solution cluster  \n",
    "Also store the tables in all_df, which is the long-form of clone, variant, ncells, and params"
   ]
  },
  {
   "cell_type": "code",
   "execution_count": 8,
   "id": "2c315da9",
   "metadata": {
    "scrolled": true
   },
   "outputs": [],
   "source": [
    "all_df = []\n",
    "all_objs = {}\n",
    "for ind, val in top_params_mean_df.iterrows():\n",
    "    print(ind)\n",
    "    obj_out, data = optim.evaluate_series(val, AF_df, DP_df, curr_labels, return_data=True)\n",
    "    all_df.append(data[\"all_unique_df\"])\n",
    "    all_objs[ind] = obj_out \n",
    "all_df = pd.concat(all_df)\n",
    "\n",
    "results_df = pd.DataFrame(all_objs).transpose()\n",
    "results_norm = optim.set_multi(results_df, weights)\n",
    "rank_df = optim.set_multi_rank(results_norm, weights)\n",
    "\n",
    "all_df[\"params\"] = all_df.apply(optim.params_to_str, axis=1,\n",
    "                                args=(param_names,))\n",
    "\n",
    "## merge param and results\n",
    "results_norm_params = pd.merge(left=top_params_mean_df, right=results_norm, right_index=True, left_index=True, suffixes=[\"\", \"_obj\"])\n",
    "\n",
    "results_norm_params[\"params\"] = results_norm_params.apply(optim.params_to_str, axis=1,\n",
    "                                args=(param_names,))\n",
    "results_norm_params.index.name = \"solution_cluster\"\n",
    "results_norm_params = results_norm_params.reset_index().set_index(\"params\")\n"
   ]
  },
  {
   "cell_type": "markdown",
   "id": "6e8cf0e2",
   "metadata": {},
   "source": [
    "### sort by multi\n"
   ]
  },
  {
   "cell_type": "code",
   "execution_count": 9,
   "id": "85e9831f",
   "metadata": {},
   "outputs": [],
   "source": [
    "results_norm_params = results_norm_params.sort_values([\"multi\"])[::-1]\n",
    "\n",
    "results_norm_params"
   ]
  },
  {
   "cell_type": "markdown",
   "id": "7b0d6b28",
   "metadata": {},
   "source": [
    "## Add multi_obj and solution_cluster label to the long clone-table and to the results"
   ]
  },
  {
   "cell_type": "code",
   "execution_count": 10,
   "id": "564d90bc",
   "metadata": {
    "scrolled": true
   },
   "outputs": [],
   "source": [
    "all_df[\"multi_obj\"] = all_df.apply(lambda x: results_norm_params.loc[x[\"params\"], \"multi\"], axis=1)\n",
    "all_df[\"solution_cluster\"] = all_df.apply(lambda x: results_norm_params.loc[x[\"params\"], \"solution_cluster\"], axis=1)\n",
    "all_df[\"params_multi\"] = all_df.apply(optim.params_and_multi_str, axis=1)\n",
    "clones_order, variants_order, heatmap_input = optim.prep_long_heatmap(all_df)\n",
    "all_df[\"solution_params_obj\"] = all_df.apply(lambda x: f'solution:{x[\"solution_cluster\"]}\\n {x[\"params_multi\"]}',axis=1)\n",
    "all_df\n",
    "\n",
    "results_norm_params = results_norm_params.reset_index()\n",
    "results_norm_params[\"multi_obj\"] = results_norm_params[\"multi\"]\n",
    "results_norm_params[\"params_multi\"] = results_norm_params.apply(optim.params_and_multi_str, axis=1)\n",
    "\n",
    "results_norm_params[\"solution_params_obj\"] = results_norm_params.apply(lambda x: f'solution:{x[\"solution_cluster\"]}\\n {x[\"params_multi\"]}',axis=1)\n",
    "results_norm_params"
   ]
  },
  {
   "cell_type": "markdown",
   "id": "c77961ac",
   "metadata": {},
   "source": [
    "## Plot objective scores across different params-cluster labels"
   ]
  },
  {
   "cell_type": "code",
   "execution_count": 11,
   "id": "71a51e15",
   "metadata": {
    "scrolled": false
   },
   "outputs": [],
   "source": [
    "sns.clustermap(results_norm)\n",
    "plt.savefig(join(outdir, \"top_param_group_results.png\"))\n",
    "plt.savefig(join(outdir, \"top_param_group_results.pdf\"))"
   ]
  },
  {
   "cell_type": "markdown",
   "id": "63c77e37",
   "metadata": {},
   "source": [
    "## Plot cluster clone-var table"
   ]
  },
  {
   "cell_type": "code",
   "execution_count": 12,
   "id": "af3e0bb8",
   "metadata": {
    "scrolled": false
   },
   "outputs": [],
   "source": [
    "fg = sns.FacetGrid(data=all_df.reset_index(), height=4, aspect=2, sharey=False, sharex=False, \n",
    "                   col=\"solution_params_obj\", col_wrap=2, \n",
    "                   col_order=results_norm_params[\"solution_params_obj\"].values, margin_titles=False)\n",
    "\n",
    "fg.map_dataframe(optim.draw_heatmap, 'variant','clone', 'log2_n_cells', \n",
    "                 clones_order=clones_order, \n",
    "                 variants_order=variants_order)#, cbar=False)\n",
    "#fg.set_titles(row_template = 'other_pct_thresh: {row_name}', col_template = 'pct_thresh: {col_name}')\n",
    "#fg.fig.suptitle(f\"Best parameter combinations shown in order\")\n",
    "fg.fig.subplots_adjust(top=2, hspace = 1)\n",
    "\n",
    "plt.savefig(join(outdir, \"top_param_groups_clone_vars.pdf\"), dpi=300)"
   ]
  },
  {
   "cell_type": "code",
   "execution_count": 13,
   "id": "321df14a",
   "metadata": {
    "scrolled": true
   },
   "outputs": [],
   "source": [
    "for ind, val in all_df.groupby(\"solution_params_obj\"):\n",
    "    print(ind)\n",
    "    curr_dir = join(outdir, \"best_params_clusters\")\n",
    "    if not exists(curr_dir):\n",
    "        os.mkdir(curr_dir)\n",
    "    curr_name = val[\"params\"][0].replace(\"=\", \"__\").replace(\"\\n\", \"___\").strip(\"_\")\n",
    "    curr_table = val.reset_index().pivot(index=\"clone\",columns=\"variant\",values=\"n_cells\").fillna(0).astype(int)\n",
    "    curr_table.to_csv(join(curr_dir, f\"clone_variants.{curr_name}.csv\"))"
   ]
  },
  {
   "cell_type": "code",
   "execution_count": null,
   "id": "d898bb5d",
   "metadata": {},
   "outputs": [],
   "source": []
  },
  {
   "cell_type": "markdown",
   "id": "f79f5aba",
   "metadata": {},
   "source": [
    "## Get the top cluster score and save "
   ]
  },
  {
   "cell_type": "code",
   "execution_count": 14,
   "id": "b43b841e",
   "metadata": {},
   "outputs": [],
   "source": [
    "best_params = (results_norm_params.sort_values(\"multi_obj\")[::-1]).iloc[0]\n",
    "best_params\n",
    "\n",
    "best_params = pd.DataFrame(best_params).transpose()\n",
    "best_params.index = [\"objective_scores\"]\n",
    "best_params.loc[\"weight\"] = None\n",
    "\n",
    "for obj, w in zip(objectives_l, weights):\n",
    "    best_params.loc[\"weight\", f\"{obj}_obj\"] = w\n",
    "\n",
    "out_df = all_df[all_df['params'] == best_params.loc[\"objective_scores\", \"params\"]]\n",
    "\n",
    "clone_var_table = (out_df.pivot(index= 'variant',columns='clone', values='log2_n_cells').fillna(0))\n",
    "clones_keep = clone_var_table.loc[:, ~((clone_var_table==0).all(axis=0))].columns\n",
    "vars_keep = clone_var_table.loc[~((clone_var_table==0).all(axis=1))].index\n"
   ]
  },
  {
   "cell_type": "code",
   "execution_count": 15,
   "id": "353ffa96",
   "metadata": {
    "scrolled": false
   },
   "outputs": [],
   "source": [
    "sns.clustermap(clone_var_table)\n",
    "plt.title(best_params.loc[\"objective_scores\", \"params_multi\"])\n",
    "plt.savefig(join(outdir, \"best_params.pdf\"))\n",
    "\n",
    "# sns.clustermap(clone_var_table.loc[vars_keep,clones_keep])\n",
    "# plt.title(best_params.loc[\"objective_scores\", \"params_multi\"])\n",
    "# plt.savefig(join(outdir, \"best_params_filt.pdf\"))\n",
    "\n"
   ]
  },
  {
   "cell_type": "code",
   "execution_count": 16,
   "id": "86702bb6",
   "metadata": {
    "scrolled": true
   },
   "outputs": [],
   "source": [
    "# ## Save clone-variant table and the parameters\n",
    "clone_var_table.to_csv(join(outdir, \"best_params_clone_vars.csv\"))\n",
    "clone_var_table.loc[vars_keep,clones_keep].to_csv(join(outdir, \"best_params_filt_clone_vars.csv\"))\n",
    "best_params.to_csv(join(outdir, \"best_params.csv\"))\n",
    "\n",
    "anno_cells = pd.read_csv(anno_cells_meta_f, sep=\"\\t\", index_col=0)\n",
    "\n",
    "filt_curr_labels = curr_labels[curr_labels[\"name\"].isin(clones_keep)]\n",
    "\n",
    "# overlap cells of anno and curr labels\n",
    "cells_to_keep = set(anno_cells[\"ID\"].values).intersection(set(filt_curr_labels.index))\n",
    "out_cells_meta = anno_cells.loc[anno_cells[\"ID\"].isin(cells_to_keep)]\n",
    "#out_cells_meta =  out_cells_meta.reset_index().set_index(\"ID\")\n",
    "\n",
    "# out_AF_df = AF_df.loc[vars_keep, out_cells_meta.index]\n",
    "# out_DP_df = DP_df.loc[vars_keep, out_cells_meta.index]\n",
    "print(out_cells_meta.head())\n",
    "out_AF_df = AF_df.loc[vars_keep, out_cells_meta[\"ID\"]].transpose()\n",
    "out_DP_df = DP_df.loc[vars_keep, out_cells_meta[\"ID\"]].transpose()\n",
    "\n",
    "\n",
    "print(out_cells_meta.shape)\n",
    "print(out_AF_df.shape)\n",
    "print(out_DP_df.shape)\n",
    "\n",
    "assert((out_AF_df.index==out_DP_df.index).all())\n",
    "assert((out_AF_df.columns==out_DP_df.columns).all())\n",
    "assert((out_AF_df.index==out_cells_meta[\"ID\"]).all())\n",
    "\n",
    "\n",
    "# ## save cells-meta, af and dp\n",
    "out_cells_meta[\"ID\"]\n",
    "\n",
    "out_cells_meta.to_csv(join(outdir, \"cells_meta.tsv\"),sep=\"\\t\")\n",
    "out_AF_df.to_csv(join(outdir, \"af.tsv\"), sep=\"\\t\")\n",
    "out_DP_df.to_csv(join(outdir, \"dp.tsv\"), sep=\"\\t\")\n",
    "\n",
    "outdir\n",
    "\n"
   ]
  },
  {
   "cell_type": "code",
   "execution_count": null,
   "id": "33d611a6",
   "metadata": {},
   "outputs": [],
   "source": []
  }
 ],
 "metadata": {
  "kernelspec": {
   "display_name": "Python 3 (ipykernel)",
   "language": "python",
   "name": "python3"
  },
  "language_info": {
   "codemirror_mode": {
    "name": "ipython",
    "version": 3
   },
   "file_extension": ".py",
   "mimetype": "text/x-python",
   "name": "python",
   "nbconvert_exporter": "python",
   "pygments_lexer": "ipython3",
   "version": "3.7.12"
  }
 },
 "nbformat": 4,
 "nbformat_minor": 5
}
