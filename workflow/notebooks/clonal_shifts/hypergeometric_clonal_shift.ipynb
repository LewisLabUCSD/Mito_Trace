{
 "cells": [
  {
   "cell_type": "code",
   "execution_count": 1,
   "id": "235ae72f",
   "metadata": {
    "tags": [
     "parameters"
    ]
   },
   "outputs": [],
   "source": [
    "# Input info\n",
    "groups_f = \"\"\n",
    "\n",
    "\n",
    "input_params = \"\"\n",
    "\n",
    "outdir = \"/data/Mito_Trace/output/pipeline/v02/CHIP_b1/MTBlacklist_A2/data/merged/MT/cellr_True/numread_200/filters/minC10_minR50_topN0_hetT0.001_hetC10_hetCount5_bq20/mgatk/vireoIn/clones/variants_init/knn/kparam_30/clonal_shifts/clones/\"\n",
    "\n",
    "clone_col = \"name\"\n",
    "atac_col = \"cluster_labels\"\n",
    "barcodes_dir = \"\"\n",
    "\n",
    "# params\n",
    "min_clone_size = 2\n",
    "p_thresh = 0.1 \n",
    "n_shuffle=1000\n",
    "n_cpus = 8\n",
    "\n"
   ]
  },
  {
   "cell_type": "code",
   "execution_count": 2,
   "id": "39e6db5a",
   "metadata": {},
   "outputs": [],
   "source": [
    "import pandas as pd\n",
    "import numpy as np\n",
    "from os.path import join, exists\n",
    "import os\n",
    "from tqdm.notebook import tqdm\n",
    "\n",
    "from scipy.stats import hypergeom, fisher_exact\n",
    "from statsmodels.stats import multitest \n",
    "\n",
    "import seaborn as sns\n",
    "import matplotlib.pyplot as plt\n",
    "import pickle\n",
    "from src import clonal_shifts as cs\n",
    "from icecream import ic"
   ]
  },
  {
   "cell_type": "markdown",
   "id": "62868ce3",
   "metadata": {},
   "source": [
    "### Setup outdirs"
   ]
  },
  {
   "cell_type": "code",
   "execution_count": null,
   "id": "2c649275",
   "metadata": {},
   "outputs": [],
   "source": [
    "sim_dir = join(outdir, \"shuffle\")\n",
    "if not exists(sim_dir):\n",
    "    os.mkdir(sim_dir)"
   ]
  },
  {
   "cell_type": "markdown",
   "id": "016894ea",
   "metadata": {},
   "source": [
    "## Load groups"
   ]
  },
  {
   "cell_type": "code",
   "execution_count": null,
   "id": "2a212a20",
   "metadata": {},
   "outputs": [],
   "source": [
    "cells_meta = pd.read_csv(groups_f, sep=\"\\t\")"
   ]
  },
  {
   "cell_type": "code",
   "execution_count": null,
   "id": "7c0dfb9f",
   "metadata": {},
   "outputs": [],
   "source": [
    "def load_groups(groups_f, clone_col, d, barclodes_dir=None):\n",
    "    if clone_col == \"name\":\n",
    "        cells_meta = pd.read_csv(groups_f, sep=\"\\t\", index_col=0)\n",
    "        if cells_meta.index.duplicated().any():\n",
    "            cells_meta = cells_meta.reset_index()\n",
    "\n",
    "        cells_meta = cells_meta.loc[~(cells_meta[\"name\"]==\"None\")]\n",
    "\n",
    "\n",
    "    elif clone_col == \"den_clust\":\n",
    "        barcodes_in = {}\n",
    "        barcodes_in[d] = pd.read_csv(join(barcodes_dir,f\"donor{d}.clones_dendro.csv\"), index_col=0)\n",
    "        #barcodes_in[d] = str(d) + \"_\" + barcodes_in[str(d)]\n",
    "        if clone_col not in barcodes_in[d].columns.values:\n",
    "            barcodes_in[d][clone_col] = f\"{d}_C0\"\n",
    "        else:\n",
    "            barcodes_in[d][clone_col] = str(d) + \"_\" + barcodes_in[d][clone_col]\n",
    "        \n",
    "        cells_meta = pd.read_csv(groups_f, sep=\"\\t\")\n",
    "        cells_meta = cells_meta.loc[~(cells_meta[\"name\"]==\"None\")]\n",
    "        cells_meta[clone_col] = cells_meta.apply(lambda x: barcodes_in[int(x[\"donor\"])].loc[x[\"name\"], clone_col] , axis=1)\n",
    "        \n",
    "    if not \"cluster_labels\" in cells_meta.columns.values:\n",
    "        cells_meta[\"cluster_labels\"] = cells_meta[\"seurat_clusters\"]\n",
    "\n",
    "    if condition == \"inputOnly\":\n",
    "        cells_meta = cells_meta.loc[cells_meta[\"condition\"]==input_cond]\n",
    "    else:\n",
    "        cells_meta = cells_meta.loc[cells_meta[\"condition\"]!=input_cond]\n",
    "\n",
    "    \n",
    "    return cells_meta[cells_meta[\"donor\"].astype(str)==str(d)]\n"
   ]
  },
  {
   "cell_type": "markdown",
   "id": "74969e4e",
   "metadata": {},
   "source": [
    "## Run hypergeo for each donor"
   ]
  },
  {
   "cell_type": "code",
   "execution_count": null,
   "id": "b9cc8207",
   "metadata": {},
   "outputs": [],
   "source": [
    "for d in cells_meta[\"donor\"].unique():\n",
    "    val = load_groups(groups_f, clone_col, d, barcodes_dir)\n",
    "    \n",
    "    curr_groups = val.groupby([atac_col, clone_col]).size().reset_index().rename({0:\"count\"}, axis=1)\n",
    "    curr_sizes = val.groupby(clone_col).size().sort_values(ascending=False)\n",
    "    curr_name_cond_size = val.groupby([clone_col]).size()\n",
    "    curr_name_cond_size = curr_name_cond_size[curr_name_cond_size>min_clone_size]\n",
    "    curr_clones_filt = curr_name_cond_size.index \n",
    "    curr_sizes = curr_sizes.loc[curr_clones_filt].sort_values(ascending=False)\n",
    "    \n",
    "    curr_clones = np.unique(curr_groups[clone_col])\n",
    "    curr_clone_map = {x:ind for ind,x in enumerate(curr_clones)}\n",
    "    print(curr_clones)\n",
    "    curr_atac_cl = np.unique(curr_groups[atac_col])\n",
    "    print(curr_atac_cl)\n",
    "    \n",
    "    curr_don_out = donor_out[int(d)]\n",
    "    \n",
    "    # Run init hypergeo and the counts data\n",
    "    cs.hypergeo_plots(curr_groups, curr_clones, curr_atac_cl, curr_sizes, p_thresh, atac_col,\n",
    "                   clone_col, curr_don_out)\n",
    "    \n",
    "    out_df, hyper_df, results_df, out_d = cs.run_data_and_shuffle(curr_groups, curr_don_out, atac_col, clone_col, p_thresh, curr_clones, \n",
    "                                                      curr_atac_cl, n_shuffle=n_shuffle, figs_close=False, to_p_correct=False,\n",
    "                                                                  n_cpus=n_cpus)\n",
    "    "
   ]
  },
  {
   "cell_type": "code",
   "execution_count": null,
   "id": "cd62efbe",
   "metadata": {},
   "outputs": [],
   "source": [
    "# cs.hypergeo_plots(curr_groups, curr_clones, curr_atac_cl, curr_sizes, p_thresh, atac_col,\n",
    "#                clone_col, curr_don_out)\n",
    "\n",
    "# out_df, hyper_df, results_df, out_d = cs.run_data_and_shuffle(curr_groups, curr_don_out, atac_col, clone_col, p_thresh, curr_clones, \n",
    "#                                                   curr_atac_cl, n_shuffle=n_shuffle, figs_close=False, to_p_correct=False,\n",
    "#                                                               n_cpus=n_cpus)\n"
   ]
  },
  {
   "cell_type": "markdown",
   "id": "f41f9ada",
   "metadata": {},
   "source": [
    "## B) Run using all donors as background"
   ]
  },
  {
   "cell_type": "code",
   "execution_count": null,
   "id": "5bf863bc",
   "metadata": {
    "scrolled": true
   },
   "outputs": [],
   "source": [
    "sizes = cells_meta.groupby(clone_col).size().sort_values(ascending=False)\n",
    "name_cond_size = cells_meta.groupby([clone_col]).size()\n",
    "name_cond_size = name_cond_size[name_cond_size>min_clone_size]\n",
    "clones_filt = name_cond_size.index \n",
    "\n",
    "sizes = sizes.loc[clones_filt].sort_values(ascending=False)\n",
    "clones_filt\n",
    "\n",
    "groups = cells_meta.groupby([atac_col, clone_col]).size().reset_index().rename({0:\"count\"}, axis=1)\n",
    "groups\n",
    "\n",
    "clones = clones_filt.values #np.unique(groups[\"name\"])\n",
    "clone_map = {x:ind for ind,x in enumerate(clones)}\n",
    "\n",
    "atac_cl = np.unique(groups[atac_col])\n",
    "atac_cl\n",
    "\n",
    "\n",
    "# Run init hypergeo\n",
    "cs.hypergeo_plots(groups, clones, atac_cl, sizes, p_thresh, atac_col,\n",
    "               clone_col, all_dir)\n",
    "## Run shuffle\n",
    "print(\"Running hypergeo shuffle and saving sig results\")\n",
    "out_df, hyper_df, results_df, out_d = cs.run_data_and_shuffle(groups, all_dir, atac_col, clone_col, p_thresh, clones, \n",
    "                                                  atac_cl, n_shuffle=n_shuffle, figs_close=False, to_p_correct=False,"
   ]
  },
  {
   "cell_type": "code",
   "execution_count": null,
   "id": "bb65bf15",
   "metadata": {},
   "outputs": [],
   "source": []
  }
 ],
 "metadata": {
  "celltoolbar": "Tags",
  "kernelspec": {
   "display_name": "Python 3 (ipykernel)",
   "language": "python",
   "name": "python3"
  },
  "language_info": {
   "codemirror_mode": {
    "name": "ipython",
    "version": 3
   },
   "file_extension": ".py",
   "mimetype": "text/x-python",
   "name": "python",
   "nbconvert_exporter": "python",
   "pygments_lexer": "ipython3",
   "version": "3.7.12"
  }
 },
 "nbformat": 4,
 "nbformat_minor": 5
}
