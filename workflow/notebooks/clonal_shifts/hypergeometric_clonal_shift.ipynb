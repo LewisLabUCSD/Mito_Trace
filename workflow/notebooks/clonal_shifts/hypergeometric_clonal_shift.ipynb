{
 "cells": [
  {
   "cell_type": "code",
   "execution_count": 1,
   "id": "235ae72f",
   "metadata": {
    "tags": [
     "parameters"
    ]
   },
   "outputs": [],
   "source": [
    "# Input info\n",
    "groups_f = \"\"\n",
    "input_params = \"\"\n",
    "\n",
    "outdir = \"/data/Mito_Trace/output/pipeline/v02/CHIP_b1/MTBlacklist_A2/data/merged/MT/cellr_True/numread_200/filters/minC10_minR50_topN0_hetT0.001_hetC10_hetCount5_bq20/mgatk/vireoIn/clones/variants_init/knn/kparam_30/clonal_shifts/clones/\"\n",
    "\n",
    "clone_col = \"name\"\n",
    "atac_col = \"cluster_labels\"\n",
    "\n",
    "\n",
    "# params\n",
    "p_thresh = 0.1 "
   ]
  },
  {
   "cell_type": "code",
   "execution_count": 2,
   "id": "39e6db5a",
   "metadata": {},
   "outputs": [],
   "source": [
    "import pandas as pd\n",
    "import numpy as np\n",
    "from os.path import join, exists\n",
    "import os\n",
    "from tqdm.notebook import tqdm\n",
    "\n",
    "from scipy.stats import hypergeom, fisher_exact\n",
    "from statsmodels.stats import multitest \n",
    "\n",
    "import seaborn as sns\n",
    "import matplotlib.pyplot as plt\n",
    "import pickle\n",
    "from src import clonal_shifts as cs\n",
    "from icecream import ic"
   ]
  },
  {
   "cell_type": "markdown",
   "id": "62868ce3",
   "metadata": {},
   "source": [
    "### Setup outdirs"
   ]
  },
  {
   "cell_type": "code",
   "execution_count": null,
   "id": "2c649275",
   "metadata": {},
   "outputs": [],
   "source": [
    "sim_dir = join(outdir, \"shuffle\")\n",
    "if not exists(sim_dir):\n",
    "    os.mkdir(sim_dir)"
   ]
  },
  {
   "cell_type": "markdown",
   "id": "016894ea",
   "metadata": {},
   "source": [
    "## Load groups"
   ]
  },
  {
   "cell_type": "code",
   "execution_count": null,
   "id": "a238feb2",
   "metadata": {},
   "outputs": [],
   "source": [
    "groups = pd.read_csv(groups_f, sep=\"\\t\")\n",
    "sizes, clones, atac_cl, clone_col, atac_col = pickle.load(open(input_params, \"rb\"))"
   ]
  },
  {
   "cell_type": "markdown",
   "id": "ca52b2c0",
   "metadata": {},
   "source": [
    "## Run"
   ]
  },
  {
   "cell_type": "code",
   "execution_count": null,
   "id": "4c762a83",
   "metadata": {
    "scrolled": true
   },
   "outputs": [],
   "source": [
    "clone_map = {x:ind for ind,x in enumerate(clones)}\n",
    "\n",
    "output_df, bh_enrichment_df = cs.pipeline_groups_hypergeo(groups, clones, atac_cl, sizes,p_thresh, atac_col, clone_col)\n",
    "bh_enrichment_df.to_csv(join(outdir, \"hypergeo_padjusted.csv\"))\n",
    "output_df.to_csv(join(outdir, \"hypergeo_padjusted_sigOnly.csv\"))\n",
    "    \n",
    "g = sns.clustermap(-np.log10(bh_enrichment_df.loc[output_df.index].fillna(1)), \n",
    "               row_cluster=False)\n",
    "\n",
    "g.ax_heatmap.set(xlabel=\"Cluster ID\")\n",
    "g.ax_cbar.set(title=\"-log10 p-value\")\n",
    "plt.savefig(join(outdir, \"hypergeo_padjusted_sigOnly.png\"))\n",
    "\n"
   ]
  },
  {
   "cell_type": "code",
   "execution_count": null,
   "id": "4f0ae33f",
   "metadata": {},
   "outputs": [],
   "source": [
    "## Run shuffle\n",
    "init_bh_enrichment = cs.create_enrichment(groups, atac_col, clone_col, p_thresh,\n",
    "                                          clones=clones, atac_cl=atac_cl)\n",
    "\n",
    "shuffle = cs.shuffle_hypergeo(groups, atac_col, clone_col, p_thresh, clones, atac_cl, n_shuffle=1000, \n",
    "                              to_parallel=True, n_cpus=24)\n",
    "\n",
    "out_all,out_min, out_cloneall, out_clonemin = cs.get_out(shuffle, clones, bh_enrichment_df, p_thresh, clone_map, atac_col, \n",
    "                                                      outdir=sim_dir)"
   ]
  }
 ],
 "metadata": {
  "celltoolbar": "Tags",
  "kernelspec": {
   "display_name": "Python 3 (ipykernel)",
   "language": "python",
   "name": "python3"
  },
  "language_info": {
   "codemirror_mode": {
    "name": "ipython",
    "version": 3
   },
   "file_extension": ".py",
   "mimetype": "text/x-python",
   "name": "python",
   "nbconvert_exporter": "python",
   "pygments_lexer": "ipython3",
   "version": "3.7.12"
  }
 },
 "nbformat": 4,
 "nbformat_minor": 5
}
