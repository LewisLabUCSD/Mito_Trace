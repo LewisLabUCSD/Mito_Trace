{
 "cells": [
  {
   "cell_type": "code",
   "execution_count": 1,
   "id": "a8fdadba",
   "metadata": {
    "tags": [
     "parameters"
    ]
   },
   "outputs": [],
   "source": [
    "### Simulation parameters\n",
    "n_donors = 2\n",
    "n_conditions = 3\n",
    "n_cells_per_donor_cond = 300\n",
    "n_clones_in_don = 5\n",
    "n_positions = 100\n",
    "n_variants_per_clone_lambda = 1\n",
    "n_donor_variants = 10\n",
    "\n",
    "seq_error = 0.01\n",
    "don_var_lim=(0.8,1)\n",
    "clone_var_lim=(0.1,0.4)\n",
    "depth_lim = (4,10)\n",
    "chars = [\"A\", \"G\", \"C\", \"T\"]\n",
    "\n",
    "\n",
    "outdir = \"/data/Mito_Trace/output/clone_pileups_simulation/samePos\"\n",
    "pileup_outdir = \"MT/cellr_True/numread_200/\"\n",
    "ref_fa = \"/data/Mito_Trace/data/processed/genomes/mtMasked/GRCh38_MT_blacklist_A2_2020/chrM.fasta\""
   ]
  },
  {
   "cell_type": "code",
   "execution_count": 2,
   "id": "f1660b9b",
   "metadata": {},
   "outputs": [
    {
     "name": "stdout",
     "output_type": "stream",
     "text": [
      "INFO: Pandarallel will run on 16 workers.\n",
      "INFO: Pandarallel will use Memory file system to transfer data between the main process and workers.\n"
     ]
    }
   ],
   "source": [
    "from Bio import SeqIO\n",
    "from collections import Counter\n",
    "import pandas as pd\n",
    "import numpy as np\n",
    "import seaborn as sns\n",
    "from os.path import join, exists, dirname\n",
    "import os\n",
    "import matplotlib.pyplot as plt\n",
    "np.random.seed(42)\n",
    "%matplotlib inline\n",
    "\n",
    "from pandarallel import pandarallel\n",
    "pandarallel.initialize(nb_workers=16)\n"
   ]
  },
  {
   "cell_type": "code",
   "execution_count": 3,
   "id": "c4dce546",
   "metadata": {},
   "outputs": [
    {
     "data": {
      "text/plain": [
       "'/data/Mito_Trace/output/clone_pileups_simulation'"
      ]
     },
     "execution_count": 3,
     "metadata": {},
     "output_type": "execute_result"
    }
   ],
   "source": [
    "dirname(outdir)"
   ]
  },
  {
   "cell_type": "code",
   "execution_count": 4,
   "id": "4930996e",
   "metadata": {
    "scrolled": false
   },
   "outputs": [
    {
     "name": "stdout",
     "output_type": "stream",
     "text": [
      "donors_2__conditions_3__cells_per_donor_cond_300__clones_in_don_5__positions_100__variants_per_clone_lambda_1__donor_variants_10\n",
      "seq_error_0.01__don_var_lim_0.8_1.0__clone_var_lim_0.1_0.4__depth_lim_4_10\n"
     ]
    }
   ],
   "source": [
    "params = {\"donors\":n_donors,\"conditions\":n_conditions, \"cells_per_donor_cond\":n_cells_per_donor_cond,\n",
    "         \"clones_in_don\":n_clones_in_don, \"positions\":n_positions, \n",
    "          \"variants_per_clone_lambda\":n_variants_per_clone_lambda, \"donor_variants\":n_donor_variants}\n",
    "\n",
    "\n",
    "seq_params = {\"seq_error\": seq_error, \"don_var_lim\":\"_\".join(np.array(don_var_lim).astype(str)), \n",
    "              \"clone_var_lim\": \"_\".join(np.array(clone_var_lim).astype(str)),\n",
    "             \"depth_lim\":\"_\".join(np.array(depth_lim).astype(str))}\n",
    "\n",
    "curr_out_meta = \"\"\n",
    "for p in params:\n",
    "    curr_out_meta = f\"{curr_out_meta}__{p}_{params[p]}\"\n",
    "\n",
    "curr_out_meta = curr_out_meta.strip(\"__\")\n",
    "print(curr_out_meta)\n",
    "\n",
    "\n",
    "curr_out_seq = \"\"\n",
    "for p in seq_params:\n",
    "    curr_out_seq = f\"{curr_out_seq}__{p}_{seq_params[p]}\"\n",
    "curr_out_seq = curr_out_seq.strip(\"__\")\n",
    "print(curr_out_seq)\n",
    "\n",
    "\n",
    "pile_in = join(dirname(outdir), curr_out_meta, curr_out_seq, \"data\")\n",
    "\n",
    "samePos_outdir = join(outdir, curr_out_meta, curr_out_seq) #join(pile_in, \"samePos\")\n",
    "#samePos_meta_outdir = join(pile_in, \"samePos\")"
   ]
  },
  {
   "cell_type": "code",
   "execution_count": 5,
   "id": "50a09c14",
   "metadata": {},
   "outputs": [
    {
     "data": {
      "text/plain": [
       "'/data/Mito_Trace/output/clone_pileups_simulation/samePos/donors_2__conditions_3__cells_per_donor_cond_300__clones_in_don_5__positions_100__variants_per_clone_lambda_1__donor_variants_10/seq_error_0.01__don_var_lim_0.8_1.0__clone_var_lim_0.1_0.4__depth_lim_4_10'"
      ]
     },
     "execution_count": 5,
     "metadata": {},
     "output_type": "execute_result"
    }
   ],
   "source": [
    "samePos_outdir"
   ]
  },
  {
   "cell_type": "markdown",
   "id": "fbdfa013",
   "metadata": {},
   "source": [
    "## load pileups"
   ]
  },
  {
   "cell_type": "code",
   "execution_count": 6,
   "id": "3bc72271",
   "metadata": {
    "scrolled": false
   },
   "outputs": [
    {
     "name": "stdout",
     "output_type": "stream",
     "text": [
      "A 0\n",
      "A 1\n",
      "A 2\n",
      "G 0\n",
      "G 1\n",
      "G 2\n",
      "C 0\n",
      "C 1\n",
      "C 2\n",
      "T 0\n",
      "T 1\n",
      "T 2\n"
     ]
    }
   ],
   "source": [
    "## Convert to nt's\n",
    "pileup_conds = {}\n",
    "curr_indir = pile_in\n",
    "for nt in chars:\n",
    "    for cond in np.arange(n_conditions):\n",
    "        cond_outdir = join(curr_indir, f\"cond{cond}\", pileup_outdir)\n",
    "        print(nt,cond)\n",
    "        pileup_conds[(nt,cond)] = pd.read_csv(join(cond_outdir, f\"cond{cond}.{nt}.strands.txt\"), header=None)\n",
    "        #curr_out.to_csv(join(outdir, f\"cond{cond}.{nt}.strands.txt.gz\"), compression='gzip')"
   ]
  },
  {
   "cell_type": "code",
   "execution_count": 7,
   "id": "12d80e2e",
   "metadata": {},
   "outputs": [],
   "source": [
    "pileups_df = pd.concat(pileup_conds).reset_index().rename({\"level_0\":\"nt\", \"level_1\":\"cond\"}, axis=1)"
   ]
  },
  {
   "cell_type": "code",
   "execution_count": 8,
   "id": "aeeaeb78",
   "metadata": {},
   "outputs": [],
   "source": [
    "pileups_df = pileups_df.rename({0:\"pos\", 1:\"cell\", 2:\"Fw Count\", 3:\"Fw BQ\", 4:\"Rev Count\", 5:\"Rev BQ\"}, \n",
    "                               axis=1)\n",
    "pileups_df\n",
    "\n",
    "pileups_df[\"counts\"] = pileups_df[\"Fw Count\"] + pileups_df[\"Rev Count\"] "
   ]
  },
  {
   "cell_type": "markdown",
   "id": "fccbc47d",
   "metadata": {},
   "source": [
    "## Load meta"
   ]
  },
  {
   "cell_type": "code",
   "execution_count": 9,
   "id": "621b69f5",
   "metadata": {},
   "outputs": [],
   "source": [
    "all_cells_df = pd.read_csv(join(dirname(pile_in),\"cells_meta.csv\"), index_col=0)\n",
    "clones_meta_cond_df = pd.read_csv(join(dirname(pile_in),\"clones_meta.csv\"), index_col=0)\n",
    "clone_vars_df = pd.read_csv(join(dirname(pile_in),\"clone_vars.csv\"), index_col=0)\n",
    "don_vars_df = pd.read_csv(join(dirname(pile_in),\"donor_vars.csv\"), index_col=0)"
   ]
  },
  {
   "cell_type": "markdown",
   "id": "dde0b00b",
   "metadata": {},
   "source": [
    "### Generate cells with donor and clone assignment"
   ]
  },
  {
   "cell_type": "code",
   "execution_count": 10,
   "id": "ec2742ab",
   "metadata": {},
   "outputs": [],
   "source": [
    "def generate_nonspec_vars(cell_ser, cell_nm, seq_err=0.001, chars=[\"A\",\"C\",\"G\",\"T\"]):\n",
    "#    print(cell_ser)\n",
    "    reads = cell_ser[\"counts\"]\n",
    "    ref = cell_ser[\"ref\"]\n",
    "    ref_id = cell_ser[\"ref_id\"]\n",
    "    seq_err_counts = np.random.binomial(reads,seq_err)\n",
    "    oth_nts = list(set(chars)-set([ref]))\n",
    "    out = {}\n",
    "    if seq_err_counts>0:\n",
    "        # Change the nt to the non alt allele\n",
    "        out = Counter(np.random.choice(oth_nts, size=seq_err_counts,replace=True))\n",
    "    else:\n",
    "        out  = {x:0 for x in oth_nts}\n",
    "    out[ref] = reads - seq_err_counts\n",
    "\n",
    "    out[\"pos\"] = cell_ser[\"pos\"]\n",
    "    out[\"cell\"] = cell_nm\n",
    "    \n",
    "    return pd.Series(out)\n",
    "\n",
    "def cell_nonspec_variants(curr_counts, cell_name):\n",
    "    curr_cell_pile = curr_counts.apply(generate_nonspec_vars, args=(cell_name,), axis=1).reset_index().rename({\"index\":\"ref_id\"},axis=1)\n",
    "    curr_cell_pile = curr_cell_pile.drop(\"ref_id\",axis=1).melt(id_vars=[\"pos\", \"cell\"], value_name=\"counts\", var_name=\"nt\")\n",
    "    curr_cell_pile = (curr_cell_pile.loc[curr_cell_pile[\"counts\"]!=0]).dropna()\n",
    "    return curr_cell_pile\n",
    "\n",
    "def generate_specific_vars(d_v_ser,  cell_nm, don_var_lim, seq_err=0.001, chars=[\"A\",\"C\",\"G\",\"T\"]):\n",
    "    #out = {}  \n",
    "    reads = d_v_ser[\"counts\"]\n",
    "    ref = d_v_ser[\"ref\"]\n",
    "    alt = d_v_ser[\"alt\"]\n",
    "    pos = d_v_ser[\"pos\"]\n",
    "    ref_id = d_v_ser[\"ref_id\"] \n",
    "    \n",
    "    curr_af = np.random.uniform(don_var_lim[0],don_var_lim[1]) # generate using uniform distribution\n",
    "    curr_af_counts = int(np.floor(curr_af*reads))\n",
    "    #curr_af_counts = int(np.floor(curr_af*counts.loc[ref_id, \"counts\" ]))\n",
    "    \n",
    "    seq_err_counts = np.random.binomial(reads,seq_err)\n",
    "        \n",
    "    oth_nts = list(set(chars)-set([alt, ref]))\n",
    "    if seq_err_counts>0:\n",
    "        # Change the nt to the non alt allele\n",
    "        out = Counter(np.random.choice(oth_nts, size=seq_err_counts,replace=True))\n",
    "    else:\n",
    "        out  = {x:0 for x in oth_nts}\n",
    "        \n",
    "    # Add in the reference and alt counts!\n",
    "    out[alt] = reads - seq_err_counts\n",
    "    out[ref] = max(reads - curr_af_counts - seq_err_counts,0)\n",
    "    out[\"pos\"] = d_v_ser[\"pos\"]\n",
    "    out[\"cell\"] = cell_nm\n",
    "    \n",
    "    # Add the reference counts\n",
    "    \n",
    "    return pd.Series(out)\n",
    "\n",
    "def cell_donor_variants(curr_cell_counts, cell_name, don_var_lim):\n",
    "    \"\"\" Generates cell's donor variant counts based on the donor variant limits.\n",
    "    \"\"\"\n",
    "    curr_cell_pile = curr_cell_counts.apply(generate_specific_vars, args=(cell_name,don_var_lim), axis=1).reset_index().rename({\"index\":\"ref_id\"},axis=1)\n",
    "#     print('curr_cell_pile')\n",
    "#     print(curr_cell_pile.head())\n",
    "   # print(curr_cell_pile)\n",
    "    curr_cell_pile = curr_cell_pile.drop(\"ref_id\",axis=1).melt(id_vars=[\"pos\", \"cell\"], value_name=\"counts\", var_name=\"nt\")\n",
    "    curr_cell_pile = (curr_cell_pile.loc[curr_cell_pile[\"counts\"]!=0]).dropna()\n",
    "    return curr_cell_pile\n",
    "\n",
    "def cell_clone_variants(curr_cell_counts, cell_name, clone_var_lim):\n",
    "    \"\"\" Generates cell's counts based on the clone limits.\n",
    "    \"\"\"\n",
    "    curr_cell_pile = curr_cell_counts.apply(generate_specific_vars, args=(cell_name, clone_var_lim), axis=1).reset_index().rename({\"index\":\"ref_id\"},axis=1)\n",
    "    curr_cell_pile = curr_cell_pile.drop(\"ref_id\",axis=1).melt(id_vars=[\"pos\", \"cell\"], value_name=\"counts\", var_name=\"nt\")\n",
    "    curr_cell_pile = (curr_cell_pile.loc[curr_cell_pile[\"counts\"]!=0]).dropna()\n",
    "    return curr_cell_pile\n"
   ]
  },
  {
   "cell_type": "markdown",
   "id": "9d59ae84",
   "metadata": {},
   "source": [
    "## For each cell, generate a 'pileup df', which contains read depth at each position\n",
    "The columns are [\"pos\",\"cell\",\"nt\",\"counts\",\"donor\",\"condition\"]"
   ]
  },
  {
   "cell_type": "markdown",
   "id": "3d77a94a",
   "metadata": {},
   "source": [
    "## Add variants with the same position"
   ]
  },
  {
   "cell_type": "markdown",
   "id": "ae5064a3",
   "metadata": {},
   "source": [
    "## Add variant that has same position but different reference"
   ]
  },
  {
   "cell_type": "markdown",
   "id": "603dd849",
   "metadata": {},
   "source": [
    "### a. Pick the variants"
   ]
  },
  {
   "cell_type": "code",
   "execution_count": 11,
   "id": "b1d351d3",
   "metadata": {
    "scrolled": false
   },
   "outputs": [
    {
     "name": "stdout",
     "output_type": "stream",
     "text": [
      "(20, 5)\n",
      "(22, 5)\n",
      "(19, 6)\n"
     ]
    }
   ],
   "source": [
    "print(don_vars_df.shape)\n",
    "don_vars_df.head()\n",
    "\n",
    "new_don_vars = []\n",
    "\n",
    "donors=list(set(don_vars_df[\"donor\"].values))\n",
    "n_same_pos_vars = 2\n",
    "for i in range(n_same_pos_vars):\n",
    "    curr = don_vars_df.iloc[i]\n",
    "    new = curr.copy()\n",
    "    new[\"alt\"] = np.random.choice(list(set(chars)-set([curr[\"alt\"], curr[\"ref\"]])))\n",
    "    new[\"donor\"] = np.random.choice(list(set(donors)-set([curr[\"donor\"]]))) # TODO: remove the same donor\n",
    "    new.name = f\"{new['pos']}_{new['ref']}_{new['alt']}\"\n",
    "    don_vars_df = don_vars_df.append(new)\n",
    "    new_don_vars.append(new)\n",
    "\n",
    "print(don_vars_df.shape)\n",
    "don_vars_df.tail()\n",
    "\n",
    "print(clone_vars_df.shape)\n",
    "clone_vars_df.tail()\n",
    "\n",
    "clone_vars_df.head()\n",
    "\n",
    "n_same_pos_vars = 3\n",
    "new_clone_vars = []\n",
    "for i in range(n_same_pos_vars):\n",
    "    curr = clone_vars_df.iloc[i]\n",
    "    new = curr.copy()\n",
    "    new[\"alt\"] = np.random.choice(list(set(chars)-set([curr[\"alt\"], curr[\"ref\"]])))\n",
    "    new[\"clone\"] = np.random.choice(list(set(clone_vars_df[\"clone\"].values)-set([curr[\"clone\"]])), size=1)[0]\n",
    "    new[\"donor\"] = new[\"clone\"].split(\"cl\")[0][1:]\n",
    "    new.name = new[\"ref_id\"]+\">\"+new[\"alt\"]+ \"_\" +new[\"clone\"]\n",
    "    #new.name = f\"{new['pos']}_{new['ref']}_{new['alt']}\"\n",
    "    new_clone_vars.append(new)\n"
   ]
  },
  {
   "cell_type": "markdown",
   "id": "275c38ce",
   "metadata": {},
   "source": [
    "## b. For each new variant, get the pileup for cells in the new clone and with that position, and re-calculate the pileup with this af"
   ]
  },
  {
   "cell_type": "code",
   "execution_count": 12,
   "id": "8d34bdfe",
   "metadata": {},
   "outputs": [
    {
     "data": {
      "text/html": [
       "<div>\n",
       "<style scoped>\n",
       "    .dataframe tbody tr th:only-of-type {\n",
       "        vertical-align: middle;\n",
       "    }\n",
       "\n",
       "    .dataframe tbody tr th {\n",
       "        vertical-align: top;\n",
       "    }\n",
       "\n",
       "    .dataframe thead th {\n",
       "        text-align: right;\n",
       "    }\n",
       "</style>\n",
       "<table border=\"1\" class=\"dataframe\">\n",
       "  <thead>\n",
       "    <tr style=\"text-align: right;\">\n",
       "      <th></th>\n",
       "      <th>pos</th>\n",
       "      <th>ref</th>\n",
       "    </tr>\n",
       "  </thead>\n",
       "  <tbody>\n",
       "    <tr>\n",
       "      <th>1_G</th>\n",
       "      <td>1</td>\n",
       "      <td>G</td>\n",
       "    </tr>\n",
       "    <tr>\n",
       "      <th>2_A</th>\n",
       "      <td>2</td>\n",
       "      <td>A</td>\n",
       "    </tr>\n",
       "    <tr>\n",
       "      <th>3_T</th>\n",
       "      <td>3</td>\n",
       "      <td>T</td>\n",
       "    </tr>\n",
       "    <tr>\n",
       "      <th>4_C</th>\n",
       "      <td>4</td>\n",
       "      <td>C</td>\n",
       "    </tr>\n",
       "    <tr>\n",
       "      <th>5_A</th>\n",
       "      <td>5</td>\n",
       "      <td>A</td>\n",
       "    </tr>\n",
       "  </tbody>\n",
       "</table>\n",
       "</div>"
      ],
      "text/plain": [
       "     pos ref\n",
       "1_G    1   G\n",
       "2_A    2   A\n",
       "3_T    3   T\n",
       "4_C    4   C\n",
       "5_A    5   A"
      ]
     },
     "execution_count": 12,
     "metadata": {},
     "output_type": "execute_result"
    }
   ],
   "source": [
    "#ref_char = np.random.choice(chars, n_positions)\n",
    "ref_char = list(str(SeqIO.to_dict(SeqIO.parse(ref_fa, \"fasta\"))[\"chrM\"].seq))\n",
    "\n",
    "ref = [f\"{i+1}_{c}\" for i, c in enumerate(ref_char)]\n",
    "\n",
    "ref_df = pd.DataFrame(np.array([range(1,1+len(ref_char)),ref_char]).transpose(),index=ref, columns=[\"pos\", \"ref\"])\n",
    "ref_df[\"pos\"] = ref_df[\"pos\"].astype(int)\n",
    "ref_df.head()"
   ]
  },
  {
   "cell_type": "code",
   "execution_count": 13,
   "id": "6b4a429b",
   "metadata": {
    "scrolled": true
   },
   "outputs": [],
   "source": [
    "new_clone_vars_df = pd.DataFrame(new_clone_vars)\n",
    "new_don_vars_df = pd.DataFrame(new_don_vars)\n",
    "new_clone_vars_df[\"donor\"] = new_clone_vars_df[\"donor\"].astype(int)\n",
    "new_clone_vars\n",
    "\n",
    "\n",
    "new_cells_df = all_cells_df.loc[(all_cells_df[\"clone\"].isin(new_clone_vars_df[\"clone\"])) | \n",
    "                               (all_cells_df[\"donor\"].isin(new_don_vars_df[\"donor\"])) ]\n",
    "\n",
    "new_ref_df = ref_df.loc[(ref_df[\"pos\"].isin(new_don_vars_df[\"pos\"])) | (ref_df[\"pos\"].isin(new_clone_vars_df[\"pos\"]))]\n"
   ]
  },
  {
   "cell_type": "code",
   "execution_count": 14,
   "id": "13f01ae6",
   "metadata": {},
   "outputs": [],
   "source": [
    "def new_cell_variants(cell_ser, ref_df, don_vars_df, clone_vars_df, seq_err=0.001, depth_lim=(2,10), strand_bin=0.5,\n",
    "                 don_var_lim=(0.8,1), clone_var_lim=(0.1,0.5)):\n",
    "    #cell_pileups = {}\n",
    "    curr_clone = cell_ser[\"clone\"]\n",
    "    curr_don = cell_ser[\"donor\"]\n",
    "    cell_name = cell_ser.name\n",
    "   # print('subset vars')\n",
    "    curr_don_vars = don_vars_df.loc[don_vars_df[\"donor\"]==curr_don].set_index(\"ref_id\")\n",
    "    curr_cl_vars = clone_vars_df.loc[clone_vars_df[\"clone\"]==curr_clone].set_index(\"ref_id\")\n",
    "    curr_don_vars.index.name = None\n",
    "    curr_cl_vars.index.name = None\n",
    "    #print('after subset')\n",
    "    # Generate counts at each position\n",
    "    counts = pd.DataFrame({\"counts\":np.floor(2**(np.random.randint(2,10, size=ref_df.shape[0]))),\n",
    "                      \"ref\":ref_df[\"ref\"], \"pos\":ref_df[\"pos\"],\n",
    "                      \"ref_id\":ref_df.index, \"cell\": cell_name},\n",
    "                      index=ref_df.index)\n",
    "    counts[\"counts\"] = counts[\"counts\"].astype(int)\n",
    "    \n",
    "    # First construct donor variants\n",
    "    #print('donor')\n",
    "    cell_donSpec_counts = counts.loc[curr_don_vars.index]\n",
    "    cell_donSpec_counts[\"alt\"] = curr_don_vars[\"alt\"]\n",
    "    cell_donSpec_pileup = cell_donor_variants(cell_donSpec_counts, cell_name, don_var_lim)\n",
    "    \n",
    "    # Construct clone variants\n",
    "    #print('clone')\n",
    "    cell_cloneSpec_counts = counts.loc[curr_cl_vars.index]\n",
    "    cell_cloneSpec_counts[\"alt\"] = curr_cl_vars[\"alt\"]\n",
    "    cell_cloneSpec_pileup = cell_clone_variants(cell_cloneSpec_counts, cell_name, clone_var_lim)\n",
    "    \n",
    "    out_df = pd.concat([cell_donSpec_pileup, cell_cloneSpec_pileup], axis=0)\n",
    "    out_df[\"donor\"] = cell_ser[\"donor\"]\n",
    "    out_df[\"condition\"] = cell_ser[\"condition\"]\n",
    "    return out_df\n",
    "\n"
   ]
  },
  {
   "cell_type": "code",
   "execution_count": 15,
   "id": "da10e122",
   "metadata": {
    "scrolled": true
   },
   "outputs": [
    {
     "name": "stderr",
     "output_type": "stream",
     "text": [
      "/home/isaac/miniconda3/envs/mttrace/lib/python3.7/site-packages/ipykernel_launcher.py:65: FutureWarning: This dataframe has a column name that matches the 'value_name' column name of the resulting Dataframe. In the future this will raise an error, please set the 'value_name' parameter of DataFrame.melt to a unique name.\n",
      "/home/isaac/miniconda3/envs/mttrace/lib/python3.7/site-packages/ipykernel_launcher.py:65: FutureWarning: This dataframe has a column name that matches the 'value_name' column name of the resulting Dataframe. In the future this will raise an error, please set the 'value_name' parameter of DataFrame.melt to a unique name.\n",
      "/home/isaac/miniconda3/envs/mttrace/lib/python3.7/site-packages/ipykernel_launcher.py:65: FutureWarning: This dataframe has a column name that matches the 'value_name' column name of the resulting Dataframe. In the future this will raise an error, please set the 'value_name' parameter of DataFrame.melt to a unique name.\n",
      "/home/isaac/miniconda3/envs/mttrace/lib/python3.7/site-packages/ipykernel_launcher.py:65: FutureWarning: This dataframe has a column name that matches the 'value_name' column name of the resulting Dataframe. In the future this will raise an error, please set the 'value_name' parameter of DataFrame.melt to a unique name.\n",
      "/home/isaac/miniconda3/envs/mttrace/lib/python3.7/site-packages/ipykernel_launcher.py:65: FutureWarning: This dataframe has a column name that matches the 'value_name' column name of the resulting Dataframe. In the future this will raise an error, please set the 'value_name' parameter of DataFrame.melt to a unique name.\n",
      "/home/isaac/miniconda3/envs/mttrace/lib/python3.7/site-packages/ipykernel_launcher.py:65: FutureWarning: This dataframe has a column name that matches the 'value_name' column name of the resulting Dataframe. In the future this will raise an error, please set the 'value_name' parameter of DataFrame.melt to a unique name.\n",
      "/home/isaac/miniconda3/envs/mttrace/lib/python3.7/site-packages/ipykernel_launcher.py:73: FutureWarning: This dataframe has a column name that matches the 'value_name' column name of the resulting Dataframe. In the future this will raise an error, please set the 'value_name' parameter of DataFrame.melt to a unique name.\n",
      "/home/isaac/miniconda3/envs/mttrace/lib/python3.7/site-packages/ipykernel_launcher.py:73: FutureWarning: This dataframe has a column name that matches the 'value_name' column name of the resulting Dataframe. In the future this will raise an error, please set the 'value_name' parameter of DataFrame.melt to a unique name.\n",
      "/home/isaac/miniconda3/envs/mttrace/lib/python3.7/site-packages/ipykernel_launcher.py:73: FutureWarning: This dataframe has a column name that matches the 'value_name' column name of the resulting Dataframe. In the future this will raise an error, please set the 'value_name' parameter of DataFrame.melt to a unique name.\n",
      "/home/isaac/miniconda3/envs/mttrace/lib/python3.7/site-packages/ipykernel_launcher.py:73: FutureWarning: This dataframe has a column name that matches the 'value_name' column name of the resulting Dataframe. In the future this will raise an error, please set the 'value_name' parameter of DataFrame.melt to a unique name.\n",
      "/home/isaac/miniconda3/envs/mttrace/lib/python3.7/site-packages/ipykernel_launcher.py:73: FutureWarning: This dataframe has a column name that matches the 'value_name' column name of the resulting Dataframe. In the future this will raise an error, please set the 'value_name' parameter of DataFrame.melt to a unique name.\n",
      "/home/isaac/miniconda3/envs/mttrace/lib/python3.7/site-packages/ipykernel_launcher.py:73: FutureWarning: This dataframe has a column name that matches the 'value_name' column name of the resulting Dataframe. In the future this will raise an error, please set the 'value_name' parameter of DataFrame.melt to a unique name.\n",
      "/home/isaac/miniconda3/envs/mttrace/lib/python3.7/site-packages/ipykernel_launcher.py:73: FutureWarning: This dataframe has a column name that matches the 'value_name' column name of the resulting Dataframe. In the future this will raise an error, please set the 'value_name' parameter of DataFrame.melt to a unique name.\n",
      "/home/isaac/miniconda3/envs/mttrace/lib/python3.7/site-packages/ipykernel_launcher.py:73: FutureWarning: This dataframe has a column name that matches the 'value_name' column name of the resulting Dataframe. In the future this will raise an error, please set the 'value_name' parameter of DataFrame.melt to a unique name.\n",
      "/home/isaac/miniconda3/envs/mttrace/lib/python3.7/site-packages/ipykernel_launcher.py:73: FutureWarning: This dataframe has a column name that matches the 'value_name' column name of the resulting Dataframe. In the future this will raise an error, please set the 'value_name' parameter of DataFrame.melt to a unique name.\n",
      "/home/isaac/miniconda3/envs/mttrace/lib/python3.7/site-packages/ipykernel_launcher.py:73: FutureWarning: This dataframe has a column name that matches the 'value_name' column name of the resulting Dataframe. In the future this will raise an error, please set the 'value_name' parameter of DataFrame.melt to a unique name.\n",
      "/home/isaac/miniconda3/envs/mttrace/lib/python3.7/site-packages/ipykernel_launcher.py:73: FutureWarning: This dataframe has a column name that matches the 'value_name' column name of the resulting Dataframe. In the future this will raise an error, please set the 'value_name' parameter of DataFrame.melt to a unique name.\n"
     ]
    }
   ],
   "source": [
    "new_pileups_all = new_cells_df.parallel_apply(new_cell_variants, \n",
    "                               args=(new_ref_df, new_don_vars_df, new_clone_vars_df, seq_error, depth_lim, 0.5, \n",
    "                                     don_var_lim, clone_var_lim), axis=1)\n",
    "\n",
    "new_pileups_df = pd.concat(new_pileups_all.values)"
   ]
  },
  {
   "cell_type": "markdown",
   "id": "82293bff",
   "metadata": {},
   "source": [
    "#### Check results"
   ]
  },
  {
   "cell_type": "code",
   "execution_count": 16,
   "id": "cabb0a07",
   "metadata": {
    "scrolled": true
   },
   "outputs": [
    {
     "data": {
      "text/plain": [
       "5"
      ]
     },
     "execution_count": 16,
     "metadata": {},
     "output_type": "execute_result"
    }
   ],
   "source": [
    "len(new_pileups_df[\"pos\"].unique())"
   ]
  },
  {
   "cell_type": "markdown",
   "id": "1508287c",
   "metadata": {},
   "source": [
    "## merge new_pileups_df and pileups_df by replacing counts_old with new if there is one\n",
    "### Replace the current (cell, pos, nt) with the updated ones"
   ]
  },
  {
   "cell_type": "code",
   "execution_count": 17,
   "id": "52ed25e3",
   "metadata": {},
   "outputs": [],
   "source": [
    "new_pileups_df[\"cell_pos\"] = new_pileups_df.apply(lambda x: f'{x[\"cell\"]}_{x[\"pos\"]}', axis=1)"
   ]
  },
  {
   "cell_type": "code",
   "execution_count": 18,
   "id": "ebf9447c",
   "metadata": {},
   "outputs": [
    {
     "data": {
      "text/html": [
       "<div>\n",
       "<style scoped>\n",
       "    .dataframe tbody tr th:only-of-type {\n",
       "        vertical-align: middle;\n",
       "    }\n",
       "\n",
       "    .dataframe tbody tr th {\n",
       "        vertical-align: top;\n",
       "    }\n",
       "\n",
       "    .dataframe thead th {\n",
       "        text-align: right;\n",
       "    }\n",
       "</style>\n",
       "<table border=\"1\" class=\"dataframe\">\n",
       "  <thead>\n",
       "    <tr style=\"text-align: right;\">\n",
       "      <th></th>\n",
       "      <th>pos</th>\n",
       "      <th>cell</th>\n",
       "      <th>nt</th>\n",
       "      <th>counts</th>\n",
       "      <th>donor</th>\n",
       "      <th>condition</th>\n",
       "      <th>cell_pos</th>\n",
       "    </tr>\n",
       "  </thead>\n",
       "  <tbody>\n",
       "    <tr>\n",
       "      <th>2</th>\n",
       "      <td>6842</td>\n",
       "      <td>Cell0donor0condition0cloned0cl3</td>\n",
       "      <td>C</td>\n",
       "      <td>256</td>\n",
       "      <td>0</td>\n",
       "      <td>0</td>\n",
       "      <td>Cell0donor0condition0cloned0cl3_6842</td>\n",
       "    </tr>\n",
       "    <tr>\n",
       "      <th>3</th>\n",
       "      <td>6842</td>\n",
       "      <td>Cell0donor0condition0cloned0cl3</td>\n",
       "      <td>T</td>\n",
       "      <td>185</td>\n",
       "      <td>0</td>\n",
       "      <td>0</td>\n",
       "      <td>Cell0donor0condition0cloned0cl3_6842</td>\n",
       "    </tr>\n",
       "    <tr>\n",
       "      <th>2</th>\n",
       "      <td>7151</td>\n",
       "      <td>Cell2donor0condition0cloned0cl2</td>\n",
       "      <td>A</td>\n",
       "      <td>64</td>\n",
       "      <td>0</td>\n",
       "      <td>0</td>\n",
       "      <td>Cell2donor0condition0cloned0cl2_7151</td>\n",
       "    </tr>\n",
       "    <tr>\n",
       "      <th>3</th>\n",
       "      <td>7151</td>\n",
       "      <td>Cell2donor0condition0cloned0cl2</td>\n",
       "      <td>C</td>\n",
       "      <td>40</td>\n",
       "      <td>0</td>\n",
       "      <td>0</td>\n",
       "      <td>Cell2donor0condition0cloned0cl2_7151</td>\n",
       "    </tr>\n",
       "    <tr>\n",
       "      <th>2</th>\n",
       "      <td>7369</td>\n",
       "      <td>Cell5donor0condition0cloned0cl1</td>\n",
       "      <td>A</td>\n",
       "      <td>4</td>\n",
       "      <td>0</td>\n",
       "      <td>0</td>\n",
       "      <td>Cell5donor0condition0cloned0cl1_7369</td>\n",
       "    </tr>\n",
       "  </tbody>\n",
       "</table>\n",
       "</div>"
      ],
      "text/plain": [
       "    pos                             cell nt counts  donor  condition  \\\n",
       "2  6842  Cell0donor0condition0cloned0cl3  C    256      0          0   \n",
       "3  6842  Cell0donor0condition0cloned0cl3  T    185      0          0   \n",
       "2  7151  Cell2donor0condition0cloned0cl2  A     64      0          0   \n",
       "3  7151  Cell2donor0condition0cloned0cl2  C     40      0          0   \n",
       "2  7369  Cell5donor0condition0cloned0cl1  A      4      0          0   \n",
       "\n",
       "                               cell_pos  \n",
       "2  Cell0donor0condition0cloned0cl3_6842  \n",
       "3  Cell0donor0condition0cloned0cl3_6842  \n",
       "2  Cell2donor0condition0cloned0cl2_7151  \n",
       "3  Cell2donor0condition0cloned0cl2_7151  \n",
       "2  Cell5donor0condition0cloned0cl1_7369  "
      ]
     },
     "execution_count": 18,
     "metadata": {},
     "output_type": "execute_result"
    }
   ],
   "source": [
    "new_pileups_df.head()"
   ]
  },
  {
   "cell_type": "code",
   "execution_count": 19,
   "id": "47769345",
   "metadata": {},
   "outputs": [],
   "source": [
    "pileups_df[\"cell_pos\"] = pileups_df.apply(lambda x: f'{x[\"cell\"]}_{x[\"pos\"]}', axis=1)\n",
    "pileups_filt_df = pileups_df.loc[~(pileups_df[\"cell_pos\"].isin(new_pileups_df[\"cell_pos\"].unique()))]\n",
    "pileups_filt_df = pileups_filt_df[[\"nt\", \"cond\", \"pos\", \"cell\", \"counts\", \"cell_pos\"]]"
   ]
  },
  {
   "cell_type": "code",
   "execution_count": 20,
   "id": "c2661ec5",
   "metadata": {
    "scrolled": true
   },
   "outputs": [
    {
     "data": {
      "text/html": [
       "<div>\n",
       "<style scoped>\n",
       "    .dataframe tbody tr th:only-of-type {\n",
       "        vertical-align: middle;\n",
       "    }\n",
       "\n",
       "    .dataframe tbody tr th {\n",
       "        vertical-align: top;\n",
       "    }\n",
       "\n",
       "    .dataframe thead th {\n",
       "        text-align: right;\n",
       "    }\n",
       "</style>\n",
       "<table border=\"1\" class=\"dataframe\">\n",
       "  <thead>\n",
       "    <tr style=\"text-align: right;\">\n",
       "      <th></th>\n",
       "      <th>pos</th>\n",
       "      <th>cell</th>\n",
       "      <th>nt</th>\n",
       "      <th>counts_new</th>\n",
       "      <th>donor</th>\n",
       "      <th>cond</th>\n",
       "      <th>cell_pos_new</th>\n",
       "      <th>counts_old</th>\n",
       "      <th>cell_pos_old</th>\n",
       "    </tr>\n",
       "  </thead>\n",
       "  <tbody>\n",
       "    <tr>\n",
       "      <th>0</th>\n",
       "      <td>6842</td>\n",
       "      <td>Cell0donor0condition0cloned0cl3</td>\n",
       "      <td>C</td>\n",
       "      <td>256</td>\n",
       "      <td>0.0</td>\n",
       "      <td>0</td>\n",
       "      <td>Cell0donor0condition0cloned0cl3_6842</td>\n",
       "      <td>NaN</td>\n",
       "      <td>NaN</td>\n",
       "    </tr>\n",
       "    <tr>\n",
       "      <th>1</th>\n",
       "      <td>6842</td>\n",
       "      <td>Cell0donor0condition0cloned0cl3</td>\n",
       "      <td>T</td>\n",
       "      <td>185</td>\n",
       "      <td>0.0</td>\n",
       "      <td>0</td>\n",
       "      <td>Cell0donor0condition0cloned0cl3_6842</td>\n",
       "      <td>NaN</td>\n",
       "      <td>NaN</td>\n",
       "    </tr>\n",
       "    <tr>\n",
       "      <th>2</th>\n",
       "      <td>7151</td>\n",
       "      <td>Cell2donor0condition0cloned0cl2</td>\n",
       "      <td>A</td>\n",
       "      <td>64</td>\n",
       "      <td>0.0</td>\n",
       "      <td>0</td>\n",
       "      <td>Cell2donor0condition0cloned0cl2_7151</td>\n",
       "      <td>NaN</td>\n",
       "      <td>NaN</td>\n",
       "    </tr>\n",
       "    <tr>\n",
       "      <th>3</th>\n",
       "      <td>7151</td>\n",
       "      <td>Cell2donor0condition0cloned0cl2</td>\n",
       "      <td>C</td>\n",
       "      <td>40</td>\n",
       "      <td>0.0</td>\n",
       "      <td>0</td>\n",
       "      <td>Cell2donor0condition0cloned0cl2_7151</td>\n",
       "      <td>NaN</td>\n",
       "      <td>NaN</td>\n",
       "    </tr>\n",
       "    <tr>\n",
       "      <th>4</th>\n",
       "      <td>7369</td>\n",
       "      <td>Cell5donor0condition0cloned0cl1</td>\n",
       "      <td>A</td>\n",
       "      <td>4</td>\n",
       "      <td>0.0</td>\n",
       "      <td>0</td>\n",
       "      <td>Cell5donor0condition0cloned0cl1_7369</td>\n",
       "      <td>NaN</td>\n",
       "      <td>NaN</td>\n",
       "    </tr>\n",
       "    <tr>\n",
       "      <th>...</th>\n",
       "      <td>...</td>\n",
       "      <td>...</td>\n",
       "      <td>...</td>\n",
       "      <td>...</td>\n",
       "      <td>...</td>\n",
       "      <td>...</td>\n",
       "      <td>...</td>\n",
       "      <td>...</td>\n",
       "      <td>...</td>\n",
       "    </tr>\n",
       "    <tr>\n",
       "      <th>33441468</th>\n",
       "      <td>16551</td>\n",
       "      <td>Cell9donor1condition2cloned1cl1</td>\n",
       "      <td>T</td>\n",
       "      <td>NaN</td>\n",
       "      <td>NaN</td>\n",
       "      <td>2</td>\n",
       "      <td>NaN</td>\n",
       "      <td>32.0</td>\n",
       "      <td>Cell9donor1condition2cloned1cl1_16551</td>\n",
       "    </tr>\n",
       "    <tr>\n",
       "      <th>33441469</th>\n",
       "      <td>16555</td>\n",
       "      <td>Cell9donor1condition2cloned1cl1</td>\n",
       "      <td>T</td>\n",
       "      <td>NaN</td>\n",
       "      <td>NaN</td>\n",
       "      <td>2</td>\n",
       "      <td>NaN</td>\n",
       "      <td>64.0</td>\n",
       "      <td>Cell9donor1condition2cloned1cl1_16555</td>\n",
       "    </tr>\n",
       "    <tr>\n",
       "      <th>33441470</th>\n",
       "      <td>16562</td>\n",
       "      <td>Cell9donor1condition2cloned1cl1</td>\n",
       "      <td>T</td>\n",
       "      <td>NaN</td>\n",
       "      <td>NaN</td>\n",
       "      <td>2</td>\n",
       "      <td>NaN</td>\n",
       "      <td>16.0</td>\n",
       "      <td>Cell9donor1condition2cloned1cl1_16562</td>\n",
       "    </tr>\n",
       "    <tr>\n",
       "      <th>33441471</th>\n",
       "      <td>16568</td>\n",
       "      <td>Cell9donor1condition2cloned1cl1</td>\n",
       "      <td>T</td>\n",
       "      <td>NaN</td>\n",
       "      <td>NaN</td>\n",
       "      <td>2</td>\n",
       "      <td>NaN</td>\n",
       "      <td>16.0</td>\n",
       "      <td>Cell9donor1condition2cloned1cl1_16568</td>\n",
       "    </tr>\n",
       "    <tr>\n",
       "      <th>33441472</th>\n",
       "      <td>16569</td>\n",
       "      <td>Cell9donor1condition2cloned1cl1</td>\n",
       "      <td>T</td>\n",
       "      <td>NaN</td>\n",
       "      <td>NaN</td>\n",
       "      <td>2</td>\n",
       "      <td>NaN</td>\n",
       "      <td>1.0</td>\n",
       "      <td>Cell9donor1condition2cloned1cl1_16569</td>\n",
       "    </tr>\n",
       "  </tbody>\n",
       "</table>\n",
       "<p>33441473 rows × 9 columns</p>\n",
       "</div>"
      ],
      "text/plain": [
       "            pos                             cell nt counts_new  donor  cond  \\\n",
       "0          6842  Cell0donor0condition0cloned0cl3  C        256    0.0     0   \n",
       "1          6842  Cell0donor0condition0cloned0cl3  T        185    0.0     0   \n",
       "2          7151  Cell2donor0condition0cloned0cl2  A         64    0.0     0   \n",
       "3          7151  Cell2donor0condition0cloned0cl2  C         40    0.0     0   \n",
       "4          7369  Cell5donor0condition0cloned0cl1  A          4    0.0     0   \n",
       "...         ...                              ... ..        ...    ...   ...   \n",
       "33441468  16551  Cell9donor1condition2cloned1cl1  T        NaN    NaN     2   \n",
       "33441469  16555  Cell9donor1condition2cloned1cl1  T        NaN    NaN     2   \n",
       "33441470  16562  Cell9donor1condition2cloned1cl1  T        NaN    NaN     2   \n",
       "33441471  16568  Cell9donor1condition2cloned1cl1  T        NaN    NaN     2   \n",
       "33441472  16569  Cell9donor1condition2cloned1cl1  T        NaN    NaN     2   \n",
       "\n",
       "                                  cell_pos_new  counts_old  \\\n",
       "0         Cell0donor0condition0cloned0cl3_6842         NaN   \n",
       "1         Cell0donor0condition0cloned0cl3_6842         NaN   \n",
       "2         Cell2donor0condition0cloned0cl2_7151         NaN   \n",
       "3         Cell2donor0condition0cloned0cl2_7151         NaN   \n",
       "4         Cell5donor0condition0cloned0cl1_7369         NaN   \n",
       "...                                        ...         ...   \n",
       "33441468                                   NaN        32.0   \n",
       "33441469                                   NaN        64.0   \n",
       "33441470                                   NaN        16.0   \n",
       "33441471                                   NaN        16.0   \n",
       "33441472                                   NaN         1.0   \n",
       "\n",
       "                                   cell_pos_old  \n",
       "0                                           NaN  \n",
       "1                                           NaN  \n",
       "2                                           NaN  \n",
       "3                                           NaN  \n",
       "4                                           NaN  \n",
       "...                                         ...  \n",
       "33441468  Cell9donor1condition2cloned1cl1_16551  \n",
       "33441469  Cell9donor1condition2cloned1cl1_16555  \n",
       "33441470  Cell9donor1condition2cloned1cl1_16562  \n",
       "33441471  Cell9donor1condition2cloned1cl1_16568  \n",
       "33441472  Cell9donor1condition2cloned1cl1_16569  \n",
       "\n",
       "[33441473 rows x 9 columns]"
      ]
     },
     "execution_count": 20,
     "metadata": {},
     "output_type": "execute_result"
    }
   ],
   "source": [
    "pileups_df_strand = pd.merge(new_pileups_df.rename({\"condition\":\"cond\"},axis=1), pileups_filt_df, how=\"outer\",\n",
    "                         on=[\"nt\", \"cond\", \"cell\", \"pos\"], suffixes=[\"_new\",\"_old\"])\n"
   ]
  },
  {
   "cell_type": "code",
   "execution_count": 29,
   "id": "0e188e9b",
   "metadata": {},
   "outputs": [
    {
     "data": {
      "text/html": [
       "<div>\n",
       "<style scoped>\n",
       "    .dataframe tbody tr th:only-of-type {\n",
       "        vertical-align: middle;\n",
       "    }\n",
       "\n",
       "    .dataframe tbody tr th {\n",
       "        vertical-align: top;\n",
       "    }\n",
       "\n",
       "    .dataframe thead th {\n",
       "        text-align: right;\n",
       "    }\n",
       "</style>\n",
       "<table border=\"1\" class=\"dataframe\">\n",
       "  <thead>\n",
       "    <tr style=\"text-align: right;\">\n",
       "      <th></th>\n",
       "      <th>pos</th>\n",
       "      <th>cell</th>\n",
       "      <th>nt</th>\n",
       "      <th>counts_new</th>\n",
       "      <th>donor</th>\n",
       "      <th>cond</th>\n",
       "      <th>cell_pos_new</th>\n",
       "      <th>counts_old</th>\n",
       "      <th>cell_pos_old</th>\n",
       "      <th>counts</th>\n",
       "    </tr>\n",
       "  </thead>\n",
       "  <tbody>\n",
       "    <tr>\n",
       "      <th>0</th>\n",
       "      <td>6842</td>\n",
       "      <td>Cell0donor0condition0cloned0cl3</td>\n",
       "      <td>C</td>\n",
       "      <td>256</td>\n",
       "      <td>0.0</td>\n",
       "      <td>0</td>\n",
       "      <td>Cell0donor0condition0cloned0cl3_6842</td>\n",
       "      <td>&lt;NA&gt;</td>\n",
       "      <td>NaN</td>\n",
       "      <td>256</td>\n",
       "    </tr>\n",
       "    <tr>\n",
       "      <th>1</th>\n",
       "      <td>6842</td>\n",
       "      <td>Cell0donor0condition0cloned0cl3</td>\n",
       "      <td>T</td>\n",
       "      <td>185</td>\n",
       "      <td>0.0</td>\n",
       "      <td>0</td>\n",
       "      <td>Cell0donor0condition0cloned0cl3_6842</td>\n",
       "      <td>&lt;NA&gt;</td>\n",
       "      <td>NaN</td>\n",
       "      <td>185</td>\n",
       "    </tr>\n",
       "    <tr>\n",
       "      <th>2</th>\n",
       "      <td>7151</td>\n",
       "      <td>Cell2donor0condition0cloned0cl2</td>\n",
       "      <td>A</td>\n",
       "      <td>64</td>\n",
       "      <td>0.0</td>\n",
       "      <td>0</td>\n",
       "      <td>Cell2donor0condition0cloned0cl2_7151</td>\n",
       "      <td>&lt;NA&gt;</td>\n",
       "      <td>NaN</td>\n",
       "      <td>64</td>\n",
       "    </tr>\n",
       "    <tr>\n",
       "      <th>3</th>\n",
       "      <td>7151</td>\n",
       "      <td>Cell2donor0condition0cloned0cl2</td>\n",
       "      <td>C</td>\n",
       "      <td>40</td>\n",
       "      <td>0.0</td>\n",
       "      <td>0</td>\n",
       "      <td>Cell2donor0condition0cloned0cl2_7151</td>\n",
       "      <td>&lt;NA&gt;</td>\n",
       "      <td>NaN</td>\n",
       "      <td>40</td>\n",
       "    </tr>\n",
       "    <tr>\n",
       "      <th>4</th>\n",
       "      <td>7369</td>\n",
       "      <td>Cell5donor0condition0cloned0cl1</td>\n",
       "      <td>A</td>\n",
       "      <td>4</td>\n",
       "      <td>0.0</td>\n",
       "      <td>0</td>\n",
       "      <td>Cell5donor0condition0cloned0cl1_7369</td>\n",
       "      <td>&lt;NA&gt;</td>\n",
       "      <td>NaN</td>\n",
       "      <td>4</td>\n",
       "    </tr>\n",
       "    <tr>\n",
       "      <th>...</th>\n",
       "      <td>...</td>\n",
       "      <td>...</td>\n",
       "      <td>...</td>\n",
       "      <td>...</td>\n",
       "      <td>...</td>\n",
       "      <td>...</td>\n",
       "      <td>...</td>\n",
       "      <td>...</td>\n",
       "      <td>...</td>\n",
       "      <td>...</td>\n",
       "    </tr>\n",
       "    <tr>\n",
       "      <th>33441468</th>\n",
       "      <td>16551</td>\n",
       "      <td>Cell9donor1condition2cloned1cl1</td>\n",
       "      <td>T</td>\n",
       "      <td>&lt;NA&gt;</td>\n",
       "      <td>NaN</td>\n",
       "      <td>2</td>\n",
       "      <td>NaN</td>\n",
       "      <td>32</td>\n",
       "      <td>Cell9donor1condition2cloned1cl1_16551</td>\n",
       "      <td>32</td>\n",
       "    </tr>\n",
       "    <tr>\n",
       "      <th>33441469</th>\n",
       "      <td>16555</td>\n",
       "      <td>Cell9donor1condition2cloned1cl1</td>\n",
       "      <td>T</td>\n",
       "      <td>&lt;NA&gt;</td>\n",
       "      <td>NaN</td>\n",
       "      <td>2</td>\n",
       "      <td>NaN</td>\n",
       "      <td>64</td>\n",
       "      <td>Cell9donor1condition2cloned1cl1_16555</td>\n",
       "      <td>64</td>\n",
       "    </tr>\n",
       "    <tr>\n",
       "      <th>33441470</th>\n",
       "      <td>16562</td>\n",
       "      <td>Cell9donor1condition2cloned1cl1</td>\n",
       "      <td>T</td>\n",
       "      <td>&lt;NA&gt;</td>\n",
       "      <td>NaN</td>\n",
       "      <td>2</td>\n",
       "      <td>NaN</td>\n",
       "      <td>16</td>\n",
       "      <td>Cell9donor1condition2cloned1cl1_16562</td>\n",
       "      <td>16</td>\n",
       "    </tr>\n",
       "    <tr>\n",
       "      <th>33441471</th>\n",
       "      <td>16568</td>\n",
       "      <td>Cell9donor1condition2cloned1cl1</td>\n",
       "      <td>T</td>\n",
       "      <td>&lt;NA&gt;</td>\n",
       "      <td>NaN</td>\n",
       "      <td>2</td>\n",
       "      <td>NaN</td>\n",
       "      <td>16</td>\n",
       "      <td>Cell9donor1condition2cloned1cl1_16568</td>\n",
       "      <td>16</td>\n",
       "    </tr>\n",
       "    <tr>\n",
       "      <th>33441472</th>\n",
       "      <td>16569</td>\n",
       "      <td>Cell9donor1condition2cloned1cl1</td>\n",
       "      <td>T</td>\n",
       "      <td>&lt;NA&gt;</td>\n",
       "      <td>NaN</td>\n",
       "      <td>2</td>\n",
       "      <td>NaN</td>\n",
       "      <td>1</td>\n",
       "      <td>Cell9donor1condition2cloned1cl1_16569</td>\n",
       "      <td>1</td>\n",
       "    </tr>\n",
       "  </tbody>\n",
       "</table>\n",
       "<p>33441473 rows × 10 columns</p>\n",
       "</div>"
      ],
      "text/plain": [
       "            pos                             cell nt  counts_new  donor  cond  \\\n",
       "0          6842  Cell0donor0condition0cloned0cl3  C         256    0.0     0   \n",
       "1          6842  Cell0donor0condition0cloned0cl3  T         185    0.0     0   \n",
       "2          7151  Cell2donor0condition0cloned0cl2  A          64    0.0     0   \n",
       "3          7151  Cell2donor0condition0cloned0cl2  C          40    0.0     0   \n",
       "4          7369  Cell5donor0condition0cloned0cl1  A           4    0.0     0   \n",
       "...         ...                              ... ..         ...    ...   ...   \n",
       "33441468  16551  Cell9donor1condition2cloned1cl1  T        <NA>    NaN     2   \n",
       "33441469  16555  Cell9donor1condition2cloned1cl1  T        <NA>    NaN     2   \n",
       "33441470  16562  Cell9donor1condition2cloned1cl1  T        <NA>    NaN     2   \n",
       "33441471  16568  Cell9donor1condition2cloned1cl1  T        <NA>    NaN     2   \n",
       "33441472  16569  Cell9donor1condition2cloned1cl1  T        <NA>    NaN     2   \n",
       "\n",
       "                                  cell_pos_new  counts_old  \\\n",
       "0         Cell0donor0condition0cloned0cl3_6842        <NA>   \n",
       "1         Cell0donor0condition0cloned0cl3_6842        <NA>   \n",
       "2         Cell2donor0condition0cloned0cl2_7151        <NA>   \n",
       "3         Cell2donor0condition0cloned0cl2_7151        <NA>   \n",
       "4         Cell5donor0condition0cloned0cl1_7369        <NA>   \n",
       "...                                        ...         ...   \n",
       "33441468                                   NaN          32   \n",
       "33441469                                   NaN          64   \n",
       "33441470                                   NaN          16   \n",
       "33441471                                   NaN          16   \n",
       "33441472                                   NaN           1   \n",
       "\n",
       "                                   cell_pos_old  counts  \n",
       "0                                           NaN     256  \n",
       "1                                           NaN     185  \n",
       "2                                           NaN      64  \n",
       "3                                           NaN      40  \n",
       "4                                           NaN       4  \n",
       "...                                         ...     ...  \n",
       "33441468  Cell9donor1condition2cloned1cl1_16551      32  \n",
       "33441469  Cell9donor1condition2cloned1cl1_16555      64  \n",
       "33441470  Cell9donor1condition2cloned1cl1_16562      16  \n",
       "33441471  Cell9donor1condition2cloned1cl1_16568      16  \n",
       "33441472  Cell9donor1condition2cloned1cl1_16569       1  \n",
       "\n",
       "[33441473 rows x 10 columns]"
      ]
     },
     "execution_count": 29,
     "metadata": {},
     "output_type": "execute_result"
    }
   ],
   "source": [
    "pileups_df_strand"
   ]
  },
  {
   "cell_type": "code",
   "execution_count": 21,
   "id": "28d03f4d",
   "metadata": {},
   "outputs": [
    {
     "data": {
      "text/plain": [
       "33436444"
      ]
     },
     "execution_count": 21,
     "metadata": {},
     "output_type": "execute_result"
    }
   ],
   "source": [
    "pileups_df_strand[\"counts_new\"].isnull().sum()"
   ]
  },
  {
   "cell_type": "code",
   "execution_count": 22,
   "id": "db802127",
   "metadata": {},
   "outputs": [],
   "source": [
    "pileups_df_strand[\"counts_new\"] = pileups_df_strand[\"counts_new\"].astype(\"Int64\")\n",
    "pileups_df_strand[\"counts_old\"] = pileups_df_strand[\"counts_old\"].astype(\"Int64\")"
   ]
  },
  {
   "cell_type": "code",
   "execution_count": 23,
   "id": "28bb01ee",
   "metadata": {
    "scrolled": true
   },
   "outputs": [
    {
     "data": {
      "text/html": [
       "<div>\n",
       "<style scoped>\n",
       "    .dataframe tbody tr th:only-of-type {\n",
       "        vertical-align: middle;\n",
       "    }\n",
       "\n",
       "    .dataframe tbody tr th {\n",
       "        vertical-align: top;\n",
       "    }\n",
       "\n",
       "    .dataframe thead th {\n",
       "        text-align: right;\n",
       "    }\n",
       "</style>\n",
       "<table border=\"1\" class=\"dataframe\">\n",
       "  <thead>\n",
       "    <tr style=\"text-align: right;\">\n",
       "      <th></th>\n",
       "      <th>pos</th>\n",
       "      <th>cell</th>\n",
       "      <th>nt</th>\n",
       "      <th>counts_new</th>\n",
       "      <th>donor</th>\n",
       "      <th>cond</th>\n",
       "      <th>cell_pos_new</th>\n",
       "      <th>counts_old</th>\n",
       "      <th>cell_pos_old</th>\n",
       "      <th>counts</th>\n",
       "    </tr>\n",
       "  </thead>\n",
       "  <tbody>\n",
       "    <tr>\n",
       "      <th>0</th>\n",
       "      <td>6842</td>\n",
       "      <td>Cell0donor0condition0cloned0cl3</td>\n",
       "      <td>C</td>\n",
       "      <td>256</td>\n",
       "      <td>0.0</td>\n",
       "      <td>0</td>\n",
       "      <td>Cell0donor0condition0cloned0cl3_6842</td>\n",
       "      <td>&lt;NA&gt;</td>\n",
       "      <td>NaN</td>\n",
       "      <td>256</td>\n",
       "    </tr>\n",
       "    <tr>\n",
       "      <th>1</th>\n",
       "      <td>6842</td>\n",
       "      <td>Cell0donor0condition0cloned0cl3</td>\n",
       "      <td>T</td>\n",
       "      <td>185</td>\n",
       "      <td>0.0</td>\n",
       "      <td>0</td>\n",
       "      <td>Cell0donor0condition0cloned0cl3_6842</td>\n",
       "      <td>&lt;NA&gt;</td>\n",
       "      <td>NaN</td>\n",
       "      <td>185</td>\n",
       "    </tr>\n",
       "    <tr>\n",
       "      <th>2</th>\n",
       "      <td>7151</td>\n",
       "      <td>Cell2donor0condition0cloned0cl2</td>\n",
       "      <td>A</td>\n",
       "      <td>64</td>\n",
       "      <td>0.0</td>\n",
       "      <td>0</td>\n",
       "      <td>Cell2donor0condition0cloned0cl2_7151</td>\n",
       "      <td>&lt;NA&gt;</td>\n",
       "      <td>NaN</td>\n",
       "      <td>64</td>\n",
       "    </tr>\n",
       "    <tr>\n",
       "      <th>3</th>\n",
       "      <td>7151</td>\n",
       "      <td>Cell2donor0condition0cloned0cl2</td>\n",
       "      <td>C</td>\n",
       "      <td>40</td>\n",
       "      <td>0.0</td>\n",
       "      <td>0</td>\n",
       "      <td>Cell2donor0condition0cloned0cl2_7151</td>\n",
       "      <td>&lt;NA&gt;</td>\n",
       "      <td>NaN</td>\n",
       "      <td>40</td>\n",
       "    </tr>\n",
       "    <tr>\n",
       "      <th>4</th>\n",
       "      <td>7369</td>\n",
       "      <td>Cell5donor0condition0cloned0cl1</td>\n",
       "      <td>A</td>\n",
       "      <td>4</td>\n",
       "      <td>0.0</td>\n",
       "      <td>0</td>\n",
       "      <td>Cell5donor0condition0cloned0cl1_7369</td>\n",
       "      <td>&lt;NA&gt;</td>\n",
       "      <td>NaN</td>\n",
       "      <td>4</td>\n",
       "    </tr>\n",
       "    <tr>\n",
       "      <th>...</th>\n",
       "      <td>...</td>\n",
       "      <td>...</td>\n",
       "      <td>...</td>\n",
       "      <td>...</td>\n",
       "      <td>...</td>\n",
       "      <td>...</td>\n",
       "      <td>...</td>\n",
       "      <td>...</td>\n",
       "      <td>...</td>\n",
       "      <td>...</td>\n",
       "    </tr>\n",
       "    <tr>\n",
       "      <th>33441468</th>\n",
       "      <td>16551</td>\n",
       "      <td>Cell9donor1condition2cloned1cl1</td>\n",
       "      <td>T</td>\n",
       "      <td>&lt;NA&gt;</td>\n",
       "      <td>NaN</td>\n",
       "      <td>2</td>\n",
       "      <td>NaN</td>\n",
       "      <td>32</td>\n",
       "      <td>Cell9donor1condition2cloned1cl1_16551</td>\n",
       "      <td>32</td>\n",
       "    </tr>\n",
       "    <tr>\n",
       "      <th>33441469</th>\n",
       "      <td>16555</td>\n",
       "      <td>Cell9donor1condition2cloned1cl1</td>\n",
       "      <td>T</td>\n",
       "      <td>&lt;NA&gt;</td>\n",
       "      <td>NaN</td>\n",
       "      <td>2</td>\n",
       "      <td>NaN</td>\n",
       "      <td>64</td>\n",
       "      <td>Cell9donor1condition2cloned1cl1_16555</td>\n",
       "      <td>64</td>\n",
       "    </tr>\n",
       "    <tr>\n",
       "      <th>33441470</th>\n",
       "      <td>16562</td>\n",
       "      <td>Cell9donor1condition2cloned1cl1</td>\n",
       "      <td>T</td>\n",
       "      <td>&lt;NA&gt;</td>\n",
       "      <td>NaN</td>\n",
       "      <td>2</td>\n",
       "      <td>NaN</td>\n",
       "      <td>16</td>\n",
       "      <td>Cell9donor1condition2cloned1cl1_16562</td>\n",
       "      <td>16</td>\n",
       "    </tr>\n",
       "    <tr>\n",
       "      <th>33441471</th>\n",
       "      <td>16568</td>\n",
       "      <td>Cell9donor1condition2cloned1cl1</td>\n",
       "      <td>T</td>\n",
       "      <td>&lt;NA&gt;</td>\n",
       "      <td>NaN</td>\n",
       "      <td>2</td>\n",
       "      <td>NaN</td>\n",
       "      <td>16</td>\n",
       "      <td>Cell9donor1condition2cloned1cl1_16568</td>\n",
       "      <td>16</td>\n",
       "    </tr>\n",
       "    <tr>\n",
       "      <th>33441472</th>\n",
       "      <td>16569</td>\n",
       "      <td>Cell9donor1condition2cloned1cl1</td>\n",
       "      <td>T</td>\n",
       "      <td>&lt;NA&gt;</td>\n",
       "      <td>NaN</td>\n",
       "      <td>2</td>\n",
       "      <td>NaN</td>\n",
       "      <td>1</td>\n",
       "      <td>Cell9donor1condition2cloned1cl1_16569</td>\n",
       "      <td>1</td>\n",
       "    </tr>\n",
       "  </tbody>\n",
       "</table>\n",
       "<p>33441473 rows × 10 columns</p>\n",
       "</div>"
      ],
      "text/plain": [
       "            pos                             cell nt  counts_new  donor  cond  \\\n",
       "0          6842  Cell0donor0condition0cloned0cl3  C         256    0.0     0   \n",
       "1          6842  Cell0donor0condition0cloned0cl3  T         185    0.0     0   \n",
       "2          7151  Cell2donor0condition0cloned0cl2  A          64    0.0     0   \n",
       "3          7151  Cell2donor0condition0cloned0cl2  C          40    0.0     0   \n",
       "4          7369  Cell5donor0condition0cloned0cl1  A           4    0.0     0   \n",
       "...         ...                              ... ..         ...    ...   ...   \n",
       "33441468  16551  Cell9donor1condition2cloned1cl1  T        <NA>    NaN     2   \n",
       "33441469  16555  Cell9donor1condition2cloned1cl1  T        <NA>    NaN     2   \n",
       "33441470  16562  Cell9donor1condition2cloned1cl1  T        <NA>    NaN     2   \n",
       "33441471  16568  Cell9donor1condition2cloned1cl1  T        <NA>    NaN     2   \n",
       "33441472  16569  Cell9donor1condition2cloned1cl1  T        <NA>    NaN     2   \n",
       "\n",
       "                                  cell_pos_new  counts_old  \\\n",
       "0         Cell0donor0condition0cloned0cl3_6842        <NA>   \n",
       "1         Cell0donor0condition0cloned0cl3_6842        <NA>   \n",
       "2         Cell2donor0condition0cloned0cl2_7151        <NA>   \n",
       "3         Cell2donor0condition0cloned0cl2_7151        <NA>   \n",
       "4         Cell5donor0condition0cloned0cl1_7369        <NA>   \n",
       "...                                        ...         ...   \n",
       "33441468                                   NaN          32   \n",
       "33441469                                   NaN          64   \n",
       "33441470                                   NaN          16   \n",
       "33441471                                   NaN          16   \n",
       "33441472                                   NaN           1   \n",
       "\n",
       "                                   cell_pos_old  counts  \n",
       "0                                           NaN     256  \n",
       "1                                           NaN     185  \n",
       "2                                           NaN      64  \n",
       "3                                           NaN      40  \n",
       "4                                           NaN       4  \n",
       "...                                         ...     ...  \n",
       "33441468  Cell9donor1condition2cloned1cl1_16551      32  \n",
       "33441469  Cell9donor1condition2cloned1cl1_16555      64  \n",
       "33441470  Cell9donor1condition2cloned1cl1_16562      16  \n",
       "33441471  Cell9donor1condition2cloned1cl1_16568      16  \n",
       "33441472  Cell9donor1condition2cloned1cl1_16569       1  \n",
       "\n",
       "[33441473 rows x 10 columns]"
      ]
     },
     "execution_count": 23,
     "metadata": {},
     "output_type": "execute_result"
    }
   ],
   "source": [
    "pileups_df_strand[\"counts\"] = pileups_df_strand[\"counts_new\"].fillna(pileups_df_strand[\"counts_old\"])\n",
    "\n",
    "\n",
    "# pileups_df_strand[\"counts\"] = pileups_df_strand.apply(lambda x: x[\"counts_old\"] if pd.isnull(x[\"counts_new\"]) else x[\"counts_new\"],\n",
    "#                                               axis=1)\n",
    "\n",
    "pileups_df_strand"
   ]
  },
  {
   "cell_type": "code",
   "execution_count": 32,
   "id": "16f45df6",
   "metadata": {
    "scrolled": true
   },
   "outputs": [],
   "source": [
    "pileups_df_strand[\"cell_pos\"] = pileups_df_strand[\"cell_pos_new\"].fillna(pileups_df_strand[\"cell_pos_old\"])\n",
    "\n"
   ]
  },
  {
   "cell_type": "code",
   "execution_count": 31,
   "id": "aeeac8cf",
   "metadata": {},
   "outputs": [],
   "source": [
    "del pileups_filt_df\n",
    "del new_pileups_df"
   ]
  },
  {
   "cell_type": "code",
   "execution_count": 33,
   "id": "69dfd9c1",
   "metadata": {
    "scrolled": true
   },
   "outputs": [],
   "source": [
    "pileups_df_strand = pileups_df_strand[[\"nt\", \"cond\", \"pos\", \"cell\", \"counts\", \"cell_pos\", \"donor\"]]\n"
   ]
  },
  {
   "cell_type": "code",
   "execution_count": 24,
   "id": "be575f24",
   "metadata": {},
   "outputs": [],
   "source": [
    "## assert if merge pileups new is not na then old is na\n",
    "#pileups_df_strand.apply(lambda x: if pd.isnull(\"\"))"
   ]
  },
  {
   "cell_type": "code",
   "execution_count": 25,
   "id": "21051b28",
   "metadata": {
    "scrolled": true
   },
   "outputs": [
    {
     "name": "stderr",
     "output_type": "stream",
     "text": [
      "/home/isaac/miniconda3/envs/mttrace/lib/python3.7/site-packages/ipykernel_launcher.py:1: SettingWithCopyWarning: \n",
      "A value is trying to be set on a copy of a slice from a DataFrame.\n",
      "Try using .loc[row_indexer,col_indexer] = value instead\n",
      "\n",
      "See the caveats in the documentation: https://pandas.pydata.org/pandas-docs/stable/user_guide/indexing.html#returning-a-view-versus-a-copy\n",
      "  \"\"\"Entry point for launching an IPython kernel.\n"
     ]
    },
    {
     "data": {
      "text/html": [
       "<div>\n",
       "<style scoped>\n",
       "    .dataframe tbody tr th:only-of-type {\n",
       "        vertical-align: middle;\n",
       "    }\n",
       "\n",
       "    .dataframe tbody tr th {\n",
       "        vertical-align: top;\n",
       "    }\n",
       "\n",
       "    .dataframe thead th {\n",
       "        text-align: right;\n",
       "    }\n",
       "</style>\n",
       "<table border=\"1\" class=\"dataframe\">\n",
       "  <thead>\n",
       "    <tr style=\"text-align: right;\">\n",
       "      <th></th>\n",
       "      <th>donor</th>\n",
       "      <th>condition</th>\n",
       "      <th>clone</th>\n",
       "      <th>cell</th>\n",
       "    </tr>\n",
       "  </thead>\n",
       "  <tbody>\n",
       "    <tr>\n",
       "      <th>0</th>\n",
       "      <td>0</td>\n",
       "      <td>0</td>\n",
       "      <td>d0cl3</td>\n",
       "      <td>Cell0donor0condition0cloned0cl3</td>\n",
       "    </tr>\n",
       "    <tr>\n",
       "      <th>1</th>\n",
       "      <td>0</td>\n",
       "      <td>0</td>\n",
       "      <td>d0cl2</td>\n",
       "      <td>Cell2donor0condition0cloned0cl2</td>\n",
       "    </tr>\n",
       "    <tr>\n",
       "      <th>2</th>\n",
       "      <td>0</td>\n",
       "      <td>0</td>\n",
       "      <td>d0cl1</td>\n",
       "      <td>Cell5donor0condition0cloned0cl1</td>\n",
       "    </tr>\n",
       "    <tr>\n",
       "      <th>3</th>\n",
       "      <td>0</td>\n",
       "      <td>0</td>\n",
       "      <td>d0cl2</td>\n",
       "      <td>Cell6donor0condition0cloned0cl2</td>\n",
       "    </tr>\n",
       "    <tr>\n",
       "      <th>4</th>\n",
       "      <td>0</td>\n",
       "      <td>0</td>\n",
       "      <td>d0cl2</td>\n",
       "      <td>Cell7donor0condition0cloned0cl2</td>\n",
       "    </tr>\n",
       "    <tr>\n",
       "      <th>...</th>\n",
       "      <td>...</td>\n",
       "      <td>...</td>\n",
       "      <td>...</td>\n",
       "      <td>...</td>\n",
       "    </tr>\n",
       "    <tr>\n",
       "      <th>2321</th>\n",
       "      <td>0</td>\n",
       "      <td>2</td>\n",
       "      <td>d0cl0</td>\n",
       "      <td>Cell294donor0condition2cloned0cl0</td>\n",
       "    </tr>\n",
       "    <tr>\n",
       "      <th>2322</th>\n",
       "      <td>0</td>\n",
       "      <td>2</td>\n",
       "      <td>d0cl4</td>\n",
       "      <td>Cell295donor0condition2cloned0cl4</td>\n",
       "    </tr>\n",
       "    <tr>\n",
       "      <th>2323</th>\n",
       "      <td>0</td>\n",
       "      <td>2</td>\n",
       "      <td>d0cl0</td>\n",
       "      <td>Cell296donor0condition2cloned0cl0</td>\n",
       "    </tr>\n",
       "    <tr>\n",
       "      <th>2324</th>\n",
       "      <td>0</td>\n",
       "      <td>2</td>\n",
       "      <td>d0cl0</td>\n",
       "      <td>Cell297donor0condition2cloned0cl0</td>\n",
       "    </tr>\n",
       "    <tr>\n",
       "      <th>2325</th>\n",
       "      <td>0</td>\n",
       "      <td>2</td>\n",
       "      <td>d0cl0</td>\n",
       "      <td>Cell298donor0condition2cloned0cl0</td>\n",
       "    </tr>\n",
       "  </tbody>\n",
       "</table>\n",
       "<p>1800 rows × 4 columns</p>\n",
       "</div>"
      ],
      "text/plain": [
       "     donor condition  clone                               cell\n",
       "0        0         0  d0cl3    Cell0donor0condition0cloned0cl3\n",
       "1        0         0  d0cl2    Cell2donor0condition0cloned0cl2\n",
       "2        0         0  d0cl1    Cell5donor0condition0cloned0cl1\n",
       "3        0         0  d0cl2    Cell6donor0condition0cloned0cl2\n",
       "4        0         0  d0cl2    Cell7donor0condition0cloned0cl2\n",
       "...    ...       ...    ...                                ...\n",
       "2321     0         2  d0cl0  Cell294donor0condition2cloned0cl0\n",
       "2322     0         2  d0cl4  Cell295donor0condition2cloned0cl4\n",
       "2323     0         2  d0cl0  Cell296donor0condition2cloned0cl0\n",
       "2324     0         2  d0cl0  Cell297donor0condition2cloned0cl0\n",
       "2325     0         2  d0cl0  Cell298donor0condition2cloned0cl0\n",
       "\n",
       "[1800 rows x 4 columns]"
      ]
     },
     "execution_count": 25,
     "metadata": {},
     "output_type": "execute_result"
    }
   ],
   "source": [
    "new_cells_df[\"cell\"] = new_cells_df.index\n",
    "all_cells_df[\"cell\"] = all_cells_df.index\n",
    "new_cells_df = new_cells_df.astype(object)\n",
    "out_cells_df = pd.concat([new_cells_df,all_cells_df],ignore_index=True).drop_duplicates(subset=['cell'], keep='first')\n",
    "out_cells_df"
   ]
  },
  {
   "cell_type": "code",
   "execution_count": 26,
   "id": "f6a4a987",
   "metadata": {},
   "outputs": [],
   "source": [
    "#pileups_df_strand = pileups_df_strand.drop([\"Fw Count\",\"Fw BQ\", \"Rev Count\", \"Rev BQ\", \"counts_old\", \"counts_new\"], axis=1)"
   ]
  },
  {
   "cell_type": "markdown",
   "id": "23ce40c0",
   "metadata": {},
   "source": [
    "---"
   ]
  },
  {
   "cell_type": "markdown",
   "id": "ee9fb64f",
   "metadata": {},
   "source": [
    "## Drop initial BQ and strand and re-do"
   ]
  },
  {
   "cell_type": "markdown",
   "id": "9bf7151c",
   "metadata": {},
   "source": [
    "## Add BQ and strand. Pick strand from binomial"
   ]
  },
  {
   "cell_type": "code",
   "execution_count": null,
   "id": "3feeb64f",
   "metadata": {},
   "outputs": [],
   "source": [
    "def split_strand(ser):\n",
    "    counts = ser[\"counts\"]\n",
    "    pos = np.random.binomial(counts, 0.5)\n",
    "    neg = counts-pos\n",
    "    \n",
    "#     pos_ser = ser.copy()\n",
    "#     pos_ser[\"counts\"] = pos\n",
    "#     pos_ser[\"strand\"] = \"+\"\n",
    "#     neg_ser = ser.copy()\n",
    "#     neg_ser[\"counts\"] = neg\n",
    "#     neg_ser[\"strand\"] = \"-\"\n",
    "    \n",
    "    ser[\"Count Fw\"] = pos\n",
    "    ser[\"Count Rev\"] = neg\n",
    "    return ser\n",
    "    #return pd.concat([pd.DataFrame(pos_tmp),pd.DataFrame(neg_tmp)], axis=1, ignore_index=True).transpose()\n",
    "\n",
    "pileups_df_strand = pileups_df_strand.parallel_apply(split_strand, axis=1)\n",
    "pileups_df_strand[\"BQ Fw\"] = 37\n",
    "pileups_df_strand[\"BQ Rev\"] = 37\n",
    "pileups_df_strand[\"BQ Fw\"] = pileups_df_strand[\"BQ Fw\"].astype(int)\n",
    "pileups_df_strand[\"BQ Rev\"] = pileups_df_strand[\"BQ Rev\"].astype(int)\n",
    "\n",
    "pileups_df_strand[\"Count Rev\"] = pileups_df_strand[\"Count Rev\"].astype(int)\n",
    "pileups_df_strand[\"Count Fw\"] = pileups_df_strand[\"Count Fw\"].astype(int)\n",
    "\n",
    "pileups_df_strand[\"pos\"] = pileups_df_strand[\"pos\"].astype(int)"
   ]
  },
  {
   "cell_type": "markdown",
   "id": "94cb10fe",
   "metadata": {},
   "source": [
    "----"
   ]
  },
  {
   "cell_type": "markdown",
   "id": "90811198",
   "metadata": {},
   "source": [
    "## Save pileups"
   ]
  },
  {
   "cell_type": "code",
   "execution_count": null,
   "id": "62cda400",
   "metadata": {},
   "outputs": [],
   "source": [
    "pileups_df_strand.head()"
   ]
  },
  {
   "cell_type": "code",
   "execution_count": null,
   "id": "93985f1b",
   "metadata": {},
   "outputs": [],
   "source": [
    "pileups_df_strand"
   ]
  },
  {
   "cell_type": "code",
   "execution_count": null,
   "id": "12006699",
   "metadata": {
    "scrolled": true
   },
   "outputs": [],
   "source": [
    "## Convert to nt's\n",
    "for (nt, cond), curr_out_df in pileups_df_strand.groupby([\"nt\", \"cond\"]):\n",
    "    cond_outdir = join(samePos_outdir, \"data\", f\"cond{cond}\", pileup_outdir)\n",
    "    print(cond_outdir)\n",
    "    if not exists(cond_outdir):\n",
    "        os.makedirs(cond_outdir)\n",
    "    print(nt,cond)\n",
    "    curr_out_df[[\"pos\",\"cell\",\"Count Fw\",\"BQ Fw\",\"Count Rev\",\"BQ Rev\"]].sort_values([\"cell\", \"pos\", \"Count Fw\"]).to_csv(join(cond_outdir, f\"cond{cond}.{nt}.strands.txt\"), \n",
    "                                                                               header=None, index=None)\n",
    "    #curr_out.to_csv(join(outdir, f\"cond{cond}.{nt}.strands.txt.gz\"), compression='gzip')"
   ]
  },
  {
   "cell_type": "markdown",
   "id": "62224b2a",
   "metadata": {},
   "source": [
    "## total coverage"
   ]
  },
  {
   "cell_type": "code",
   "execution_count": null,
   "id": "4b7dbd7b",
   "metadata": {
    "scrolled": false
   },
   "outputs": [],
   "source": [
    "for cond, curr_out_df in pileups_df_strand.groupby(\"cond\"):\n",
    "    coverage = curr_out_df.groupby([\"cell\", \"pos\"]).parallel_apply(lambda x: (x[\"Count Rev\"]+x[\"Count Fw\"]).sum()).reset_index()\n",
    "    cond_outdir = join(samePos_outdir, \"data\", f\"cond{cond}\", pileup_outdir)\n",
    "    print(cond_outdir)\n",
    "    coverage[\"pos\"] = coverage[\"pos\"].astype(int)\n",
    "    coverage[[\"pos\",\"cell\",0]].sort_values([\"cell\",\"pos\"]).to_csv(join(cond_outdir, f\"cond{cond}.coverage.strands.txt\"), \n",
    "                                                                               header=None, index=None) #compression='gzip')\n"
   ]
  },
  {
   "cell_type": "markdown",
   "id": "ed11ad9b",
   "metadata": {},
   "source": [
    "### Save cell and variant assignments"
   ]
  },
  {
   "cell_type": "markdown",
   "id": "1545d241",
   "metadata": {},
   "source": [
    "#### Append the new clone variants, create new_clones_meta_cond_df, and revert donor index back to ref_id"
   ]
  },
  {
   "cell_type": "code",
   "execution_count": null,
   "id": "cc7c05ff",
   "metadata": {
    "scrolled": true
   },
   "outputs": [],
   "source": [
    "out_clone_vars_df = clone_vars_df.append(new_clone_vars_df)\n",
    "print(\"Any dups?\" , out_clone_vars_df.index.duplicated().any())\n",
    "assert(not out_clone_vars_df.index.duplicated().any())\n",
    "out_clone_vars_df"
   ]
  },
  {
   "cell_type": "code",
   "execution_count": null,
   "id": "1bfbe347",
   "metadata": {
    "scrolled": true
   },
   "outputs": [],
   "source": [
    "# Make clones_meta_cond_df and clones_meta_df\n",
    "new_clones_meta_cond_df = new_cells_df.groupby([\"clone\", \"condition\", \"donor\"]).size().to_frame('ncells').reset_index()\n",
    "new_clones_meta_cond_df"
   ]
  },
  {
   "cell_type": "code",
   "execution_count": null,
   "id": "a9814b40",
   "metadata": {
    "scrolled": true
   },
   "outputs": [],
   "source": [
    "new_don_vars_df = don_vars_df.set_index(\"ref_id\")"
   ]
  },
  {
   "cell_type": "code",
   "execution_count": null,
   "id": "0cda6a05",
   "metadata": {
    "scrolled": true
   },
   "outputs": [],
   "source": [
    "new_don_vars_df.to_csv(join(samePos_outdir, \"donor_vars.csv\"))\n",
    "out_clone_vars_df.to_csv(join(samePos_outdir, \"clone_vars.csv\"))\n",
    "out_cells_df.to_csv(join(samePos_outdir, \"cells_meta.csv\"))\n",
    "new_clones_meta_cond_df.to_csv(join(samePos_outdir, \"clones_meta.csv\"))"
   ]
  },
  {
   "cell_type": "code",
   "execution_count": null,
   "id": "2a548bc5",
   "metadata": {
    "scrolled": true
   },
   "outputs": [],
   "source": [
    "out_cells_df"
   ]
  },
  {
   "cell_type": "code",
   "execution_count": null,
   "id": "8f235d3a",
   "metadata": {},
   "outputs": [],
   "source": [
    "new_don_vars_df"
   ]
  },
  {
   "cell_type": "code",
   "execution_count": null,
   "id": "128941e9",
   "metadata": {},
   "outputs": [],
   "source": [
    "print"
   ]
  }
 ],
 "metadata": {
  "celltoolbar": "Tags",
  "kernelspec": {
   "display_name": "Python 3 (ipykernel)",
   "language": "python",
   "name": "python3"
  },
  "language_info": {
   "codemirror_mode": {
    "name": "ipython",
    "version": 3
   },
   "file_extension": ".py",
   "mimetype": "text/x-python",
   "name": "python",
   "nbconvert_exporter": "python",
   "pygments_lexer": "ipython3",
   "version": "3.7.12"
  }
 },
 "nbformat": 4,
 "nbformat_minor": 5
}
