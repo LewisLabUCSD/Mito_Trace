{
 "cells": [
  {
   "cell_type": "code",
   "execution_count": 1,
   "id": "a8fdadba",
   "metadata": {
    "tags": [
     "parameters"
    ]
   },
   "outputs": [],
   "source": [
    "### Simulation parameters\n",
    "n_donors = 2\n",
    "n_conditions = 3\n",
    "n_cells_per_donor_cond = 300\n",
    "n_clones_in_don = 5\n",
    "n_positions = 100\n",
    "n_variants_per_clone_lambda = 1\n",
    "n_donor_variants = 10\n",
    "\n",
    "seq_error = 0.01\n",
    "don_var_lim=(0.8,1)\n",
    "clone_var_lim=(0.1,0.4)\n",
    "depth_lim = (4,10)\n",
    "chars = [\"A\", \"G\", \"C\", \"T\"]\n",
    "\n",
    "outdir = \"/data/Mito_Trace/output/clone_pileups_simulation/samePos/\"\n",
    "\n",
    "ref_fa = \"/data/Mito_Trace/data/processed/genomes/mtMasked/GRCh38_MT_blacklist_A2_2020/chrM.fasta\"\n",
    "\n",
    "pileup_outdir = \"MT/cellr_True/numread_200/\"\n",
    "clones_dir = \"filters/minC10_minR50_topN0_hetT0.001_hetC10_hetCount5_bq20/mgatk/vireoIn/clones/variants_simpleUnion/knn/kparam_30/\"\n",
    "\n",
    "\n",
    "#/data/Mito_Trace/output/clone_pileups_simulation/samePos/donors_2__conditions_3__cells_per_donor_cond_300__clones_in_don_5__positions_100__variants_per_clone_lambda_1__donor_variants_10/seq_error_0.01__don_var_lim_0.8_1.0__clone_var_lim_0.1_0.4__depth_lim_4_10/data/"
   ]
  },
  {
   "cell_type": "code",
   "execution_count": 2,
   "id": "f1660b9b",
   "metadata": {},
   "outputs": [
    {
     "name": "stdout",
     "output_type": "stream",
     "text": [
      "fig_utils from mplh\n",
      "INFO: Pandarallel will run on 16 workers.\n",
      "INFO: Pandarallel will use Memory file system to transfer data between the main process and workers.\n"
     ]
    }
   ],
   "source": [
    "from Bio import SeqIO\n",
    "\n",
    "import pandas as pd\n",
    "import numpy as np\n",
    "import seaborn as sns\n",
    "from os.path import join, exists\n",
    "import os\n",
    "import matplotlib.pyplot as plt\n",
    "np.random.seed(42)\n",
    "%matplotlib inline\n",
    "import mplh.cluster_help as ch\n",
    "\n",
    "from pandarallel import pandarallel\n",
    "pandarallel.initialize(nb_workers=16)\n"
   ]
  },
  {
   "cell_type": "code",
   "execution_count": 3,
   "id": "48ad7af8",
   "metadata": {},
   "outputs": [
    {
     "name": "stdout",
     "output_type": "stream",
     "text": [
      "donors_2__conditions_3__cells_per_donor_cond_300__clones_in_don_5__positions_100__variants_per_clone_lambda_1__donor_variants_10\n",
      "seq_error_0.01__don_var_lim_0.8_1.0__clone_var_lim_0.1_0.4__depth_lim_4_10\n"
     ]
    }
   ],
   "source": [
    "params = {\"donors\":n_donors,\"conditions\":n_conditions, \"cells_per_donor_cond\":n_cells_per_donor_cond,\n",
    "         \"clones_in_don\":n_clones_in_don, \"positions\":n_positions, \n",
    "          \"variants_per_clone_lambda\":n_variants_per_clone_lambda, \"donor_variants\":n_donor_variants}\n",
    "\n",
    "\n",
    "seq_params = {\"seq_error\": seq_error, \"don_var_lim\":\"_\".join(np.array(don_var_lim).astype(str)), \n",
    "              \"clone_var_lim\": \"_\".join(np.array(clone_var_lim).astype(str)),\n",
    "             \"depth_lim\":\"_\".join(np.array(depth_lim).astype(str))}\n",
    "\n",
    "curr_out_meta = \"\"\n",
    "for p in params:\n",
    "    curr_out_meta = f\"{curr_out_meta}__{p}_{params[p]}\"\n",
    "\n",
    "curr_out_meta = curr_out_meta.strip(\"__\")\n",
    "print(curr_out_meta)\n",
    "\n",
    "\n",
    "curr_out_seq = \"\"\n",
    "for p in seq_params:\n",
    "    curr_out_seq = f\"{curr_out_seq}__{p}_{seq_params[p]}\"\n",
    "curr_out_seq = curr_out_seq.strip(\"__\")\n",
    "print(curr_out_seq)\n",
    "\n",
    "samePos_outdir = join(outdir, curr_out_meta, curr_out_seq) #join(pile_in, \"samePos\")\n",
    "#samePos_meta_outdir = join(pile_in, \"samePos\")"
   ]
  },
  {
   "cell_type": "code",
   "execution_count": 4,
   "id": "df3ee06a",
   "metadata": {},
   "outputs": [
    {
     "data": {
      "text/plain": [
       "'/data/Mito_Trace/output/clone_pileups_simulation/samePos/donors_2__conditions_3__cells_per_donor_cond_300__clones_in_don_5__positions_100__variants_per_clone_lambda_1__donor_variants_10/seq_error_0.01__don_var_lim_0.8_1.0__clone_var_lim_0.1_0.4__depth_lim_4_10'"
      ]
     },
     "execution_count": 4,
     "metadata": {},
     "output_type": "execute_result"
    }
   ],
   "source": [
    "samePos_outdir"
   ]
  },
  {
   "cell_type": "code",
   "execution_count": 5,
   "id": "0d2687b0",
   "metadata": {},
   "outputs": [
    {
     "data": {
      "text/plain": [
       "'/data/Mito_Trace/output/clone_pileups_simulation/samePos/donors_2__conditions_3__cells_per_donor_cond_300__clones_in_don_5__positions_100__variants_per_clone_lambda_1__donor_variants_10/seq_error_0.01__don_var_lim_0.8_1.0__clone_var_lim_0.1_0.4__depth_lim_4_10/data/merged/MT/cellr_True/numread_200/filters/minC10_minR50_topN0_hetT0.001_hetC10_hetCount5_bq20/mgatk/vireoIn/clones/variants_simpleUnion/knn/kparam_30/barcodes/btwnClones_dendro_dt_0.6/'"
      ]
     },
     "execution_count": 5,
     "metadata": {},
     "output_type": "execute_result"
    }
   ],
   "source": [
    "barcode_dir = join(samePos_outdir, \"data/merged\", pileup_outdir , clones_dir, \"barcodes/btwnClones_dendro_dt_0.6/\")\n",
    "\n",
    "barcode_dir"
   ]
  },
  {
   "cell_type": "code",
   "execution_count": 6,
   "id": "85df2944",
   "metadata": {},
   "outputs": [],
   "source": [
    "from glob import glob"
   ]
  },
  {
   "cell_type": "code",
   "execution_count": 7,
   "id": "bcdbcfe7",
   "metadata": {},
   "outputs": [],
   "source": [
    "from os.path import basename"
   ]
  },
  {
   "cell_type": "code",
   "execution_count": 8,
   "id": "4fb68e45",
   "metadata": {
    "scrolled": true
   },
   "outputs": [
    {
     "data": {
      "text/plain": [
       "{'0':             8953G    11150T    12920G     1558G    12833T     9528G     4832A  \\\n",
       " lineage                                                                         \n",
       " 0_0      0.897933  0.885495  0.896866  0.889853  0.889133  0.889497  0.888365   \n",
       " 0_3      0.886934  0.886934  0.891999  0.889275  0.884418  0.889462  0.882583   \n",
       " 0_1      0.871870  0.896089  0.884108  0.879717  0.889947  0.888811  0.885621   \n",
       " 0_2      0.885715  0.877399  0.886678  0.891925  0.891178  0.882454  0.882865   \n",
       " 0_4      0.884624  0.880519  0.875572  0.885611  0.878738  0.881001  0.882394   \n",
       " \n",
       "             5767T    13461A    15306G  ...     6290A     6232G     8817T  \\\n",
       " lineage                                ...                                 \n",
       " 0_0      0.882894  0.000357  0.000294  ...  0.000281  0.000536  0.000357   \n",
       " 0_3      0.885501  0.000240  0.000721  ...  0.000255  0.000165  0.000316   \n",
       " 0_1      0.884257  0.566089  0.000039  ...  0.000419  0.000236  0.000170   \n",
       " 0_2      0.885123  0.000172  0.000185  ...  0.000739  0.000264  0.000396   \n",
       " 0_4      0.885607  0.000136  0.566016  ...  0.000151  0.000106  0.000212   \n",
       " \n",
       "            12606A     1417G    14115A     6208C     4225C     2841C     5663G  \n",
       " lineage                                                                        \n",
       " 0_0      0.000383  0.000485  0.000077  0.000077  0.000115  0.000140  0.000396  \n",
       " 0_3      0.000466  0.000541  0.000135  0.000060  0.569267  0.556841  0.563023  \n",
       " 0_1      0.000026  0.000301  0.000079  0.000446  0.001940  0.000249  0.000170  \n",
       " 0_2      0.000185  0.000158  0.000211  0.000396  0.000317  0.000251  0.000383  \n",
       " 0_4      0.000091  0.000106  0.000182  0.000197  0.000030  0.000151  0.000061  \n",
       " \n",
       " [5 rows x 33 columns],\n",
       " '1':            12606A     6208C     1619A     6331A    16213C     6364T    14115A  \\\n",
       " lineage                                                                         \n",
       " 1_0      0.881833  0.884755  0.884700  0.889256  0.885684  0.882764  0.879836   \n",
       " 1_4      0.877895  0.877483  0.889490  0.887543  0.884885  0.890776  0.886896   \n",
       " 1_2      0.879912  0.890646  0.877378  0.889396  0.886200  0.884611  0.875594   \n",
       " 1_1      0.880779  0.892232  0.873898  0.877956  0.884669  0.881961  0.887033   \n",
       " 1_3      0.899066  0.881950  0.886009  0.883371  0.882979  0.885009  0.876798   \n",
       " \n",
       "             5549A     5781A     8817T  ...     2841C    15306G    15378A  \\\n",
       " lineage                                ...                                 \n",
       " 1_0      0.885707  0.881589  0.886167  ...  0.000052  0.000156  0.000625   \n",
       " 1_4      0.885114  0.882837  0.884157  ...  0.000554  0.000554  0.000714   \n",
       " 1_2      0.878733  0.885951  0.884996  ...  0.000165  0.000055  0.000096   \n",
       " 1_1      0.881404  0.883941  0.886571  ...  0.000949  0.000109  0.000068   \n",
       " 1_3      0.873699  0.877629  0.873625  ...  0.000069  0.000166  0.000028   \n",
       " \n",
       "             4225C    12920G     1972G     5663G     9528G    13461A     2549A  \n",
       " lineage                                                                        \n",
       " 1_0      0.000456  0.000456  0.000208  0.000091  0.000091  0.000143  0.000260  \n",
       " 1_4      0.000758  0.000102  0.000306  0.000058  0.000044  0.000219  0.000175  \n",
       " 1_2      0.000330  0.000096  0.000481  0.000316  0.000399  0.000193  0.000179  \n",
       " 1_1      0.000027  0.000068  0.000081  0.000298  0.000502  0.000570  0.000353  \n",
       " 1_3      0.000305  0.000305  0.000111  0.000152  0.000277  0.000139  0.000291  \n",
       " \n",
       " [5 rows x 33 columns]}"
      ]
     },
     "execution_count": 8,
     "metadata": {},
     "output_type": "execute_result"
    }
   ],
   "source": [
    "don_means_d = {}\n",
    "for i in glob(join(barcode_dir, \"donor*.mean.csv\")):\n",
    "    don_means_d[basename(i.replace(\".mean.csv\", \"\").replace(\"donor\", \"\"))] = pd.read_csv(i, index_col=0)\n",
    "don_means_d"
   ]
  },
  {
   "cell_type": "markdown",
   "id": "57204e89",
   "metadata": {},
   "source": [
    "## Load all variables"
   ]
  },
  {
   "cell_type": "markdown",
   "id": "96f6563d",
   "metadata": {},
   "source": [
    "## make 1-based ref here for output"
   ]
  },
  {
   "cell_type": "code",
   "execution_count": 9,
   "id": "6e653611",
   "metadata": {
    "scrolled": false
   },
   "outputs": [
    {
     "data": {
      "text/html": [
       "<div>\n",
       "<style scoped>\n",
       "    .dataframe tbody tr th:only-of-type {\n",
       "        vertical-align: middle;\n",
       "    }\n",
       "\n",
       "    .dataframe tbody tr th {\n",
       "        vertical-align: top;\n",
       "    }\n",
       "\n",
       "    .dataframe thead th {\n",
       "        text-align: right;\n",
       "    }\n",
       "</style>\n",
       "<table border=\"1\" class=\"dataframe\">\n",
       "  <thead>\n",
       "    <tr style=\"text-align: right;\">\n",
       "      <th></th>\n",
       "      <th>pos</th>\n",
       "      <th>ref</th>\n",
       "    </tr>\n",
       "  </thead>\n",
       "  <tbody>\n",
       "    <tr>\n",
       "      <th>1_G</th>\n",
       "      <td>1</td>\n",
       "      <td>G</td>\n",
       "    </tr>\n",
       "    <tr>\n",
       "      <th>2_A</th>\n",
       "      <td>2</td>\n",
       "      <td>A</td>\n",
       "    </tr>\n",
       "    <tr>\n",
       "      <th>3_T</th>\n",
       "      <td>3</td>\n",
       "      <td>T</td>\n",
       "    </tr>\n",
       "    <tr>\n",
       "      <th>4_C</th>\n",
       "      <td>4</td>\n",
       "      <td>C</td>\n",
       "    </tr>\n",
       "    <tr>\n",
       "      <th>5_A</th>\n",
       "      <td>5</td>\n",
       "      <td>A</td>\n",
       "    </tr>\n",
       "  </tbody>\n",
       "</table>\n",
       "</div>"
      ],
      "text/plain": [
       "    pos ref\n",
       "1_G   1   G\n",
       "2_A   2   A\n",
       "3_T   3   T\n",
       "4_C   4   C\n",
       "5_A   5   A"
      ]
     },
     "execution_count": 9,
     "metadata": {},
     "output_type": "execute_result"
    }
   ],
   "source": [
    "#ref_char = np.random.choice(chars, n_positions)\n",
    "ref_char = list(str(SeqIO.to_dict(SeqIO.parse(ref_fa, \"fasta\"))[\"chrM\"].seq))\n",
    "\n",
    "ref = [f\"{i+1}_{c}\" for i, c in enumerate(ref_char)]\n",
    "\n",
    "ref_df = pd.DataFrame(np.array([1+np.array(range(len(ref_char))),ref_char]).transpose(),index=ref, columns=[\"pos\", \"ref\"])\n",
    "ref_df.head()"
   ]
  },
  {
   "cell_type": "code",
   "execution_count": 10,
   "id": "6becb260",
   "metadata": {
    "scrolled": false
   },
   "outputs": [
    {
     "data": {
      "text/html": [
       "<div>\n",
       "<style scoped>\n",
       "    .dataframe tbody tr th:only-of-type {\n",
       "        vertical-align: middle;\n",
       "    }\n",
       "\n",
       "    .dataframe tbody tr th {\n",
       "        vertical-align: top;\n",
       "    }\n",
       "\n",
       "    .dataframe thead th {\n",
       "        text-align: right;\n",
       "    }\n",
       "</style>\n",
       "<table border=\"1\" class=\"dataframe\">\n",
       "  <thead>\n",
       "    <tr style=\"text-align: right;\">\n",
       "      <th></th>\n",
       "      <th>clone</th>\n",
       "      <th>condition</th>\n",
       "      <th>donor</th>\n",
       "      <th>ncells</th>\n",
       "    </tr>\n",
       "  </thead>\n",
       "  <tbody>\n",
       "    <tr>\n",
       "      <th>0</th>\n",
       "      <td>d0cl4</td>\n",
       "      <td>0</td>\n",
       "      <td>0</td>\n",
       "      <td>48</td>\n",
       "    </tr>\n",
       "    <tr>\n",
       "      <th>1</th>\n",
       "      <td>d0cl4</td>\n",
       "      <td>1</td>\n",
       "      <td>0</td>\n",
       "      <td>73</td>\n",
       "    </tr>\n",
       "    <tr>\n",
       "      <th>2</th>\n",
       "      <td>d0cl4</td>\n",
       "      <td>2</td>\n",
       "      <td>0</td>\n",
       "      <td>60</td>\n",
       "    </tr>\n",
       "    <tr>\n",
       "      <th>3</th>\n",
       "      <td>d1cl0</td>\n",
       "      <td>0</td>\n",
       "      <td>1</td>\n",
       "      <td>63</td>\n",
       "    </tr>\n",
       "    <tr>\n",
       "      <th>4</th>\n",
       "      <td>d1cl0</td>\n",
       "      <td>1</td>\n",
       "      <td>1</td>\n",
       "      <td>61</td>\n",
       "    </tr>\n",
       "  </tbody>\n",
       "</table>\n",
       "</div>"
      ],
      "text/plain": [
       "   clone  condition  donor  ncells\n",
       "0  d0cl4          0      0      48\n",
       "1  d0cl4          1      0      73\n",
       "2  d0cl4          2      0      60\n",
       "3  d1cl0          0      1      63\n",
       "4  d1cl0          1      1      61"
      ]
     },
     "execution_count": 10,
     "metadata": {},
     "output_type": "execute_result"
    }
   ],
   "source": [
    "don_vars_df = pd.read_csv(join(samePos_outdir, \"donor_vars.csv\"), index_col=0)\n",
    "clone_vars_df = pd.read_csv(join(samePos_outdir, \"clone_vars.csv\"), index_col=0)\n",
    "all_cells_df = pd.read_csv(join(samePos_outdir, \"cells_meta.csv\"), index_col=0)\n",
    "clones_meta_cond_df = pd.read_csv(join(samePos_outdir, \"clones_meta.csv\"), index_col=0)\n",
    "\n",
    "clones_meta_cond_df.head()"
   ]
  },
  {
   "cell_type": "markdown",
   "id": "dde0b00b",
   "metadata": {},
   "source": [
    "### Generate cells with donor and clone assignment"
   ]
  },
  {
   "cell_type": "code",
   "execution_count": 11,
   "id": "c0dba01f",
   "metadata": {},
   "outputs": [
    {
     "data": {
      "text/plain": [
       "array([0, 1, 2])"
      ]
     },
     "execution_count": 11,
     "metadata": {},
     "output_type": "execute_result"
    }
   ],
   "source": [
    "donors = all_cells_df[\"donor\"].unique()\n",
    "conditions = all_cells_df[\"condition\"].unique()\n",
    "conditions"
   ]
  },
  {
   "cell_type": "markdown",
   "id": "162edb2f",
   "metadata": {},
   "source": [
    "### Generate clone meta with ncells, do for condition and groupby it"
   ]
  },
  {
   "cell_type": "code",
   "execution_count": 12,
   "id": "6f796064",
   "metadata": {
    "scrolled": true
   },
   "outputs": [
    {
     "data": {
      "text/html": [
       "<div>\n",
       "<style scoped>\n",
       "    .dataframe tbody tr th:only-of-type {\n",
       "        vertical-align: middle;\n",
       "    }\n",
       "\n",
       "    .dataframe tbody tr th {\n",
       "        vertical-align: top;\n",
       "    }\n",
       "\n",
       "    .dataframe thead th {\n",
       "        text-align: right;\n",
       "    }\n",
       "</style>\n",
       "<table border=\"1\" class=\"dataframe\">\n",
       "  <thead>\n",
       "    <tr style=\"text-align: right;\">\n",
       "      <th></th>\n",
       "      <th>clone</th>\n",
       "      <th>condition</th>\n",
       "      <th>donor</th>\n",
       "      <th>ncells</th>\n",
       "    </tr>\n",
       "  </thead>\n",
       "  <tbody>\n",
       "    <tr>\n",
       "      <th>0</th>\n",
       "      <td>d0cl0</td>\n",
       "      <td>0</td>\n",
       "      <td>0</td>\n",
       "      <td>69</td>\n",
       "    </tr>\n",
       "    <tr>\n",
       "      <th>1</th>\n",
       "      <td>d0cl0</td>\n",
       "      <td>1</td>\n",
       "      <td>0</td>\n",
       "      <td>58</td>\n",
       "    </tr>\n",
       "    <tr>\n",
       "      <th>2</th>\n",
       "      <td>d0cl0</td>\n",
       "      <td>2</td>\n",
       "      <td>0</td>\n",
       "      <td>65</td>\n",
       "    </tr>\n",
       "    <tr>\n",
       "      <th>3</th>\n",
       "      <td>d0cl1</td>\n",
       "      <td>0</td>\n",
       "      <td>0</td>\n",
       "      <td>46</td>\n",
       "    </tr>\n",
       "    <tr>\n",
       "      <th>4</th>\n",
       "      <td>d0cl1</td>\n",
       "      <td>1</td>\n",
       "      <td>0</td>\n",
       "      <td>65</td>\n",
       "    </tr>\n",
       "    <tr>\n",
       "      <th>5</th>\n",
       "      <td>d0cl1</td>\n",
       "      <td>2</td>\n",
       "      <td>0</td>\n",
       "      <td>63</td>\n",
       "    </tr>\n",
       "    <tr>\n",
       "      <th>6</th>\n",
       "      <td>d0cl2</td>\n",
       "      <td>0</td>\n",
       "      <td>0</td>\n",
       "      <td>63</td>\n",
       "    </tr>\n",
       "    <tr>\n",
       "      <th>7</th>\n",
       "      <td>d0cl2</td>\n",
       "      <td>1</td>\n",
       "      <td>0</td>\n",
       "      <td>44</td>\n",
       "    </tr>\n",
       "    <tr>\n",
       "      <th>8</th>\n",
       "      <td>d0cl2</td>\n",
       "      <td>2</td>\n",
       "      <td>0</td>\n",
       "      <td>59</td>\n",
       "    </tr>\n",
       "    <tr>\n",
       "      <th>9</th>\n",
       "      <td>d0cl3</td>\n",
       "      <td>0</td>\n",
       "      <td>0</td>\n",
       "      <td>74</td>\n",
       "    </tr>\n",
       "    <tr>\n",
       "      <th>10</th>\n",
       "      <td>d0cl3</td>\n",
       "      <td>1</td>\n",
       "      <td>0</td>\n",
       "      <td>60</td>\n",
       "    </tr>\n",
       "    <tr>\n",
       "      <th>11</th>\n",
       "      <td>d0cl3</td>\n",
       "      <td>2</td>\n",
       "      <td>0</td>\n",
       "      <td>53</td>\n",
       "    </tr>\n",
       "    <tr>\n",
       "      <th>12</th>\n",
       "      <td>d0cl4</td>\n",
       "      <td>0</td>\n",
       "      <td>0</td>\n",
       "      <td>48</td>\n",
       "    </tr>\n",
       "    <tr>\n",
       "      <th>13</th>\n",
       "      <td>d0cl4</td>\n",
       "      <td>1</td>\n",
       "      <td>0</td>\n",
       "      <td>73</td>\n",
       "    </tr>\n",
       "    <tr>\n",
       "      <th>14</th>\n",
       "      <td>d0cl4</td>\n",
       "      <td>2</td>\n",
       "      <td>0</td>\n",
       "      <td>60</td>\n",
       "    </tr>\n",
       "    <tr>\n",
       "      <th>15</th>\n",
       "      <td>d1cl0</td>\n",
       "      <td>0</td>\n",
       "      <td>1</td>\n",
       "      <td>63</td>\n",
       "    </tr>\n",
       "    <tr>\n",
       "      <th>16</th>\n",
       "      <td>d1cl0</td>\n",
       "      <td>1</td>\n",
       "      <td>1</td>\n",
       "      <td>61</td>\n",
       "    </tr>\n",
       "    <tr>\n",
       "      <th>17</th>\n",
       "      <td>d1cl0</td>\n",
       "      <td>2</td>\n",
       "      <td>1</td>\n",
       "      <td>59</td>\n",
       "    </tr>\n",
       "    <tr>\n",
       "      <th>18</th>\n",
       "      <td>d1cl1</td>\n",
       "      <td>0</td>\n",
       "      <td>1</td>\n",
       "      <td>59</td>\n",
       "    </tr>\n",
       "    <tr>\n",
       "      <th>19</th>\n",
       "      <td>d1cl1</td>\n",
       "      <td>1</td>\n",
       "      <td>1</td>\n",
       "      <td>61</td>\n",
       "    </tr>\n",
       "    <tr>\n",
       "      <th>20</th>\n",
       "      <td>d1cl1</td>\n",
       "      <td>2</td>\n",
       "      <td>1</td>\n",
       "      <td>58</td>\n",
       "    </tr>\n",
       "    <tr>\n",
       "      <th>21</th>\n",
       "      <td>d1cl2</td>\n",
       "      <td>0</td>\n",
       "      <td>1</td>\n",
       "      <td>61</td>\n",
       "    </tr>\n",
       "    <tr>\n",
       "      <th>22</th>\n",
       "      <td>d1cl2</td>\n",
       "      <td>1</td>\n",
       "      <td>1</td>\n",
       "      <td>66</td>\n",
       "    </tr>\n",
       "    <tr>\n",
       "      <th>23</th>\n",
       "      <td>d1cl2</td>\n",
       "      <td>2</td>\n",
       "      <td>1</td>\n",
       "      <td>54</td>\n",
       "    </tr>\n",
       "    <tr>\n",
       "      <th>24</th>\n",
       "      <td>d1cl3</td>\n",
       "      <td>0</td>\n",
       "      <td>1</td>\n",
       "      <td>53</td>\n",
       "    </tr>\n",
       "    <tr>\n",
       "      <th>25</th>\n",
       "      <td>d1cl3</td>\n",
       "      <td>1</td>\n",
       "      <td>1</td>\n",
       "      <td>46</td>\n",
       "    </tr>\n",
       "    <tr>\n",
       "      <th>26</th>\n",
       "      <td>d1cl3</td>\n",
       "      <td>2</td>\n",
       "      <td>1</td>\n",
       "      <td>72</td>\n",
       "    </tr>\n",
       "    <tr>\n",
       "      <th>27</th>\n",
       "      <td>d1cl4</td>\n",
       "      <td>0</td>\n",
       "      <td>1</td>\n",
       "      <td>64</td>\n",
       "    </tr>\n",
       "    <tr>\n",
       "      <th>28</th>\n",
       "      <td>d1cl4</td>\n",
       "      <td>1</td>\n",
       "      <td>1</td>\n",
       "      <td>66</td>\n",
       "    </tr>\n",
       "    <tr>\n",
       "      <th>29</th>\n",
       "      <td>d1cl4</td>\n",
       "      <td>2</td>\n",
       "      <td>1</td>\n",
       "      <td>57</td>\n",
       "    </tr>\n",
       "  </tbody>\n",
       "</table>\n",
       "</div>"
      ],
      "text/plain": [
       "    clone  condition  donor  ncells\n",
       "0   d0cl0          0      0      69\n",
       "1   d0cl0          1      0      58\n",
       "2   d0cl0          2      0      65\n",
       "3   d0cl1          0      0      46\n",
       "4   d0cl1          1      0      65\n",
       "5   d0cl1          2      0      63\n",
       "6   d0cl2          0      0      63\n",
       "7   d0cl2          1      0      44\n",
       "8   d0cl2          2      0      59\n",
       "9   d0cl3          0      0      74\n",
       "10  d0cl3          1      0      60\n",
       "11  d0cl3          2      0      53\n",
       "12  d0cl4          0      0      48\n",
       "13  d0cl4          1      0      73\n",
       "14  d0cl4          2      0      60\n",
       "15  d1cl0          0      1      63\n",
       "16  d1cl0          1      1      61\n",
       "17  d1cl0          2      1      59\n",
       "18  d1cl1          0      1      59\n",
       "19  d1cl1          1      1      61\n",
       "20  d1cl1          2      1      58\n",
       "21  d1cl2          0      1      61\n",
       "22  d1cl2          1      1      66\n",
       "23  d1cl2          2      1      54\n",
       "24  d1cl3          0      1      53\n",
       "25  d1cl3          1      1      46\n",
       "26  d1cl3          2      1      72\n",
       "27  d1cl4          0      1      64\n",
       "28  d1cl4          1      1      66\n",
       "29  d1cl4          2      1      57"
      ]
     },
     "execution_count": 12,
     "metadata": {},
     "output_type": "execute_result"
    }
   ],
   "source": [
    "# Make clones_meta_cond_df and clones_meta_df\n",
    "clones_meta_cond_df = all_cells_df.groupby([\"clone\", \"condition\", \"donor\"]).size().to_frame('ncells').reset_index()\n",
    "clones_meta_cond_df"
   ]
  },
  {
   "cell_type": "code",
   "execution_count": 13,
   "id": "32dd1471",
   "metadata": {
    "scrolled": true
   },
   "outputs": [
    {
     "data": {
      "text/html": [
       "<div>\n",
       "<style scoped>\n",
       "    .dataframe tbody tr th:only-of-type {\n",
       "        vertical-align: middle;\n",
       "    }\n",
       "\n",
       "    .dataframe tbody tr th {\n",
       "        vertical-align: top;\n",
       "    }\n",
       "\n",
       "    .dataframe thead th {\n",
       "        text-align: right;\n",
       "    }\n",
       "</style>\n",
       "<table border=\"1\" class=\"dataframe\">\n",
       "  <thead>\n",
       "    <tr style=\"text-align: right;\">\n",
       "      <th></th>\n",
       "      <th>clone</th>\n",
       "      <th>donor</th>\n",
       "      <th>ncells</th>\n",
       "    </tr>\n",
       "  </thead>\n",
       "  <tbody>\n",
       "    <tr>\n",
       "      <th>0</th>\n",
       "      <td>d0cl0</td>\n",
       "      <td>0</td>\n",
       "      <td>192</td>\n",
       "    </tr>\n",
       "    <tr>\n",
       "      <th>1</th>\n",
       "      <td>d0cl1</td>\n",
       "      <td>0</td>\n",
       "      <td>174</td>\n",
       "    </tr>\n",
       "    <tr>\n",
       "      <th>2</th>\n",
       "      <td>d0cl2</td>\n",
       "      <td>0</td>\n",
       "      <td>166</td>\n",
       "    </tr>\n",
       "    <tr>\n",
       "      <th>3</th>\n",
       "      <td>d0cl3</td>\n",
       "      <td>0</td>\n",
       "      <td>187</td>\n",
       "    </tr>\n",
       "    <tr>\n",
       "      <th>4</th>\n",
       "      <td>d0cl4</td>\n",
       "      <td>0</td>\n",
       "      <td>181</td>\n",
       "    </tr>\n",
       "    <tr>\n",
       "      <th>5</th>\n",
       "      <td>d1cl0</td>\n",
       "      <td>1</td>\n",
       "      <td>183</td>\n",
       "    </tr>\n",
       "    <tr>\n",
       "      <th>6</th>\n",
       "      <td>d1cl1</td>\n",
       "      <td>1</td>\n",
       "      <td>178</td>\n",
       "    </tr>\n",
       "    <tr>\n",
       "      <th>7</th>\n",
       "      <td>d1cl2</td>\n",
       "      <td>1</td>\n",
       "      <td>181</td>\n",
       "    </tr>\n",
       "    <tr>\n",
       "      <th>8</th>\n",
       "      <td>d1cl3</td>\n",
       "      <td>1</td>\n",
       "      <td>171</td>\n",
       "    </tr>\n",
       "    <tr>\n",
       "      <th>9</th>\n",
       "      <td>d1cl4</td>\n",
       "      <td>1</td>\n",
       "      <td>187</td>\n",
       "    </tr>\n",
       "  </tbody>\n",
       "</table>\n",
       "</div>"
      ],
      "text/plain": [
       "   clone  donor  ncells\n",
       "0  d0cl0      0     192\n",
       "1  d0cl1      0     174\n",
       "2  d0cl2      0     166\n",
       "3  d0cl3      0     187\n",
       "4  d0cl4      0     181\n",
       "5  d1cl0      1     183\n",
       "6  d1cl1      1     178\n",
       "7  d1cl2      1     181\n",
       "8  d1cl3      1     171\n",
       "9  d1cl4      1     187"
      ]
     },
     "execution_count": 13,
     "metadata": {},
     "output_type": "execute_result"
    }
   ],
   "source": [
    "clones_meta_df = clones_meta_cond_df.groupby([\"clone\", \"donor\"]).sum()[\"ncells\"].to_frame(\"ncells\").reset_index()\n",
    "clones_meta_df"
   ]
  },
  {
   "cell_type": "code",
   "execution_count": 14,
   "id": "12006699",
   "metadata": {
    "scrolled": true
   },
   "outputs": [],
   "source": [
    "# ## Convert to nt's\n",
    "# all_nt_pileup = {}\n",
    "# all_coverage = {}\n",
    "# for cond in conditions: #curr_out_df in pileups_df_strand.groupby([\"nt\", \"condition\"]):\n",
    "#     for nt in chars:\n",
    "#         cond_outdir = join(samePos_outdir, \"data\", f\"cond{cond}\", pileup_outdir)\n",
    "#         print(cond_outdir)\n",
    "#         print(nt,cond)\n",
    "        \n",
    "#         all_nt_pileup[(cond, nt)] = pd.read_csv(join(cond_outdir, f\"cond{cond}.{nt}.strands.txt\"), \n",
    "#                                              header=None)\n",
    "#     all_coverage[cond] = pd.read_csv(join(cond_outdir, f\"cond{cond}.coverage.strands.txt\"), \n",
    "#                                  header=None)\n",
    "#     #curr_out.to_csv(join(outdir, f\"cond_{cond}.{nt}.strands.txt.gz\"), compression='gzip')\n",
    "\n",
    "# all_coverage_df = pd.concat(all_coverage).reset_index(drop=True).pivot(index=1,columns=0, values=2)\n",
    "# all_coverage_df\n",
    "\n",
    "## Create variant-by-cell matrix for each variant \n",
    "\n",
    "## Calculate AF\n",
    "\n",
    "# all_nt_df = pd.concat(all_nt_pileup).reset_index().rename({\"level_0\":\"condition\",\"level_1\":\"nt\"}, axis=1).drop(\"level_2\", axis=1)\n",
    "# all_nt_df[\"coverage\"] = all_nt_df[2] + all_nt_df[4]\n",
    "# all_nt_df[\"af\"] = all_nt_df.apply(lambda x: x[\"coverage\"]/all_coverage_df.loc[x[1], x[0]]  ,axis=1)\n",
    "# all_nt_df[\"Variant\"]  = all_nt_df.apply(lambda x: f\"{x[0]}>{x['nt']}\", axis=1)\n",
    "# all_nt_df = all_nt_df.pivot(index=1,columns=\"Variant\", values=\"af\")\n",
    "# all_nt_df = all_nt_df.fillna(0)\n",
    "# all_nt_df"
   ]
  },
  {
   "cell_type": "markdown",
   "id": "10838e61",
   "metadata": {},
   "source": [
    "## Plot all variants (ref and alt)"
   ]
  },
  {
   "cell_type": "code",
   "execution_count": 15,
   "id": "ae8be6c4",
   "metadata": {
    "scrolled": true
   },
   "outputs": [
    {
     "data": {
      "text/html": [
       "<div>\n",
       "<style scoped>\n",
       "    .dataframe tbody tr th:only-of-type {\n",
       "        vertical-align: middle;\n",
       "    }\n",
       "\n",
       "    .dataframe tbody tr th {\n",
       "        vertical-align: top;\n",
       "    }\n",
       "\n",
       "    .dataframe thead th {\n",
       "        text-align: right;\n",
       "    }\n",
       "</style>\n",
       "<table border=\"1\" class=\"dataframe\">\n",
       "  <thead>\n",
       "    <tr style=\"text-align: right;\">\n",
       "      <th></th>\n",
       "      <th>donor</th>\n",
       "      <th>clone</th>\n",
       "      <th>var_pos</th>\n",
       "      <th>samePos</th>\n",
       "      <th>Variant</th>\n",
       "    </tr>\n",
       "    <tr>\n",
       "      <th>Variant</th>\n",
       "      <th></th>\n",
       "      <th></th>\n",
       "      <th></th>\n",
       "      <th></th>\n",
       "      <th></th>\n",
       "    </tr>\n",
       "  </thead>\n",
       "  <tbody>\n",
       "    <tr>\n",
       "      <th>7369T</th>\n",
       "      <td>0</td>\n",
       "      <td>d0cl0</td>\n",
       "      <td>7369</td>\n",
       "      <td>1</td>\n",
       "      <td>7369T</td>\n",
       "    </tr>\n",
       "    <tr>\n",
       "      <th>6842A</th>\n",
       "      <td>0</td>\n",
       "      <td>d0cl0</td>\n",
       "      <td>6842</td>\n",
       "      <td>1</td>\n",
       "      <td>6842A</td>\n",
       "    </tr>\n",
       "    <tr>\n",
       "      <th>7151T</th>\n",
       "      <td>0</td>\n",
       "      <td>d0cl1</td>\n",
       "      <td>7151</td>\n",
       "      <td>1</td>\n",
       "      <td>7151T</td>\n",
       "    </tr>\n",
       "    <tr>\n",
       "      <th>11719C</th>\n",
       "      <td>1</td>\n",
       "      <td>d1cl0</td>\n",
       "      <td>11719</td>\n",
       "      <td>1</td>\n",
       "      <td>11719C</td>\n",
       "    </tr>\n",
       "    <tr>\n",
       "      <th>7369A</th>\n",
       "      <td>1</td>\n",
       "      <td>d1cl2</td>\n",
       "      <td>7369</td>\n",
       "      <td>1</td>\n",
       "      <td>7369A</td>\n",
       "    </tr>\n",
       "    <tr>\n",
       "      <th>6842G</th>\n",
       "      <td>1</td>\n",
       "      <td>d1cl1</td>\n",
       "      <td>6842</td>\n",
       "      <td>1</td>\n",
       "      <td>6842G</td>\n",
       "    </tr>\n",
       "    <tr>\n",
       "      <th>7151A</th>\n",
       "      <td>0</td>\n",
       "      <td>d0cl4</td>\n",
       "      <td>7151</td>\n",
       "      <td>1</td>\n",
       "      <td>7151A</td>\n",
       "    </tr>\n",
       "    <tr>\n",
       "      <th>11719A</th>\n",
       "      <td>0</td>\n",
       "      <td>nan</td>\n",
       "      <td>11719</td>\n",
       "      <td>1</td>\n",
       "      <td>11719A</td>\n",
       "    </tr>\n",
       "    <tr>\n",
       "      <th>14350G</th>\n",
       "      <td>0</td>\n",
       "      <td>nan</td>\n",
       "      <td>14350</td>\n",
       "      <td>1</td>\n",
       "      <td>14350G</td>\n",
       "    </tr>\n",
       "    <tr>\n",
       "      <th>11719T</th>\n",
       "      <td>1</td>\n",
       "      <td>nan</td>\n",
       "      <td>11719</td>\n",
       "      <td>1</td>\n",
       "      <td>11719T</td>\n",
       "    </tr>\n",
       "    <tr>\n",
       "      <th>14350T</th>\n",
       "      <td>1</td>\n",
       "      <td>nan</td>\n",
       "      <td>14350</td>\n",
       "      <td>1</td>\n",
       "      <td>14350T</td>\n",
       "    </tr>\n",
       "  </tbody>\n",
       "</table>\n",
       "</div>"
      ],
      "text/plain": [
       "        donor  clone var_pos samePos Variant\n",
       "Variant                                     \n",
       "7369T       0  d0cl0    7369       1   7369T\n",
       "6842A       0  d0cl0    6842       1   6842A\n",
       "7151T       0  d0cl1    7151       1   7151T\n",
       "11719C      1  d1cl0   11719       1  11719C\n",
       "7369A       1  d1cl2    7369       1   7369A\n",
       "6842G       1  d1cl1    6842       1   6842G\n",
       "7151A       0  d0cl4    7151       1   7151A\n",
       "11719A      0    nan   11719       1  11719A\n",
       "14350G      0    nan   14350       1  14350G\n",
       "11719T      1    nan   11719       1  11719T\n",
       "14350T      1    nan   14350       1  14350T"
      ]
     },
     "execution_count": 15,
     "metadata": {},
     "output_type": "execute_result"
    }
   ],
   "source": [
    "clone_vars_df[\"id\"] = clone_vars_df.apply(lambda x: f\"{x['pos']}>{x['alt']}\", axis=1)\n",
    "don_vars_df[\"id\"] = don_vars_df.apply(lambda x: f\"{x['pos']}>{x['alt']}\", axis=1)\n",
    "vars_of_interest = pd.concat([clone_vars_df.set_index(\"id\"),don_vars_df.set_index(\"id\")], axis=0)\n",
    "vars_of_interest = vars_of_interest[[\"donor\", \"clone\"]]\n",
    "vars_of_interest\n",
    "\n",
    "## Get just the variants in same position\n",
    "\n",
    "from collections import Counter\n",
    "\n",
    "var_pos = [int(x.split(\">\")[0]) for x in vars_of_interest.index]\n",
    "vars_of_interest[\"var_pos\"] = var_pos\n",
    "\n",
    "pos_counts = Counter(var_pos)\n",
    "same_pos = []\n",
    "for ind, val  in vars_of_interest.iterrows():\n",
    "    if pos_counts[val[\"var_pos\"]] > 1:\n",
    "        same_pos.append(ind)\n",
    "\n",
    "vars_of_interest[\"samePos\"] = 0\n",
    "vars_of_interest.loc[same_pos, \"samePos\"] = 1\n",
    "\n",
    "vars_of_interest[\"Variant\"] = [x.replace(\">\", \"\") for x in vars_of_interest.index]\n",
    "vars_of_interest = vars_of_interest.set_index(\"Variant\",drop=False)\n",
    "vars_of_interest = vars_of_interest.astype(str)\n",
    "\n",
    "\n",
    "samePos_vars = vars_of_interest[vars_of_interest[\"samePos\"]==\"1\"]\n",
    "samePos_vars"
   ]
  },
  {
   "cell_type": "code",
   "execution_count": 31,
   "id": "dfd8ca02",
   "metadata": {
    "scrolled": false
   },
   "outputs": [
    {
     "name": "stdout",
     "output_type": "stream",
     "text": [
      "         pos ref\n",
      "7150_T  7150   T\n",
      "         pos ref\n",
      "7151_C  7151   C\n"
     ]
    },
    {
     "data": {
      "text/html": [
       "<div>\n",
       "<style scoped>\n",
       "    .dataframe tbody tr th:only-of-type {\n",
       "        vertical-align: middle;\n",
       "    }\n",
       "\n",
       "    .dataframe tbody tr th {\n",
       "        vertical-align: top;\n",
       "    }\n",
       "\n",
       "    .dataframe thead th {\n",
       "        text-align: right;\n",
       "    }\n",
       "</style>\n",
       "<table border=\"1\" class=\"dataframe\">\n",
       "  <thead>\n",
       "    <tr style=\"text-align: right;\">\n",
       "      <th></th>\n",
       "      <th>pos</th>\n",
       "      <th>ref</th>\n",
       "    </tr>\n",
       "  </thead>\n",
       "  <tbody>\n",
       "    <tr>\n",
       "      <th>7152_A</th>\n",
       "      <td>7152</td>\n",
       "      <td>A</td>\n",
       "    </tr>\n",
       "  </tbody>\n",
       "</table>\n",
       "</div>"
      ],
      "text/plain": [
       "         pos ref\n",
       "7152_A  7152   A"
      ]
     },
     "execution_count": 31,
     "metadata": {},
     "output_type": "execute_result"
    }
   ],
   "source": [
    "print(ref_df[ref_df[\"pos\"] == \"7150\"])\n",
    "print(ref_df[ref_df[\"pos\"] == \"7151\"])\n",
    "ref_df[ref_df[\"pos\"] == \"7152\"]"
   ]
  },
  {
   "cell_type": "code",
   "execution_count": 32,
   "id": "73f92dcd",
   "metadata": {
    "scrolled": true
   },
   "outputs": [
    {
     "name": "stdout",
     "output_type": "stream",
     "text": [
      "         pos ref\n",
      "7368_T  7368   T\n",
      "         pos ref\n",
      "7369_C  7369   C\n",
      "         pos ref\n",
      "7370_C  7370   C\n"
     ]
    }
   ],
   "source": [
    "print(ref_df[ref_df[\"pos\"] == \"7368\"])\n",
    "print(ref_df[ref_df[\"pos\"] == \"7369\"])\n",
    "print(ref_df[ref_df[\"pos\"] == \"7370\"])"
   ]
  },
  {
   "cell_type": "markdown",
   "id": "47cd53c5",
   "metadata": {},
   "source": [
    "## It appears that none of the variants got into the barcodes!"
   ]
  },
  {
   "cell_type": "code",
   "execution_count": 22,
   "id": "f2717ffa",
   "metadata": {},
   "outputs": [
    {
     "name": "stdout",
     "output_type": "stream",
     "text": [
      "Number of variants in donor: (5, 33), # of samePos: 6, # in donor 0\n",
      "Too few samples\n",
      "Number of variants in donor: (5, 33), # of samePos: 5, # in donor 0\n",
      "Too few samples\n"
     ]
    },
    {
     "name": "stderr",
     "output_type": "stream",
     "text": [
      "/home/isaac/miniconda3/envs/mttrace/lib/python3.7/site-packages/seaborn/matrix.py:709: UserWarning: Attempting to set identical left == right == 0 results in singular transformations; automatically expanding.\n",
      "  ax.set_xlim(0, max_dependent_coord * 1.05)\n"
     ]
    }
   ],
   "source": [
    "for d in don_means_d:\n",
    "    curr_v = samePos_vars[samePos_vars[\"donor\"] == d]\n",
    "    \n",
    "    var_in_output = sum(x in don_means_d[d].columns.values for x in curr_v.index)\n",
    "    #var_in_output = don_means_d[d].index.isin(curr_v).sum()\n",
    "    print(f\"Number of variants in donor: {don_means_d[d].shape}, # of samePos: {len(curr_v)}, # in donor {var_in_output}\")\n",
    "    try:\n",
    "        sns.clustermap(don_means_d[d].loc[:,don_means_d[d].columns.isin(curr_v.index)])\n",
    "    except ValueError:\n",
    "        plt.close()\n",
    "        print(\"Too few samples\")\n",
    "          "
   ]
  },
  {
   "cell_type": "code",
   "execution_count": null,
   "id": "3f99d822",
   "metadata": {
    "scrolled": true
   },
   "outputs": [],
   "source": []
  },
  {
   "cell_type": "code",
   "execution_count": 24,
   "id": "7c9f4dae",
   "metadata": {},
   "outputs": [
    {
     "name": "stdout",
     "output_type": "stream",
     "text": [
      "Number of variants in donor: (5, 33), # of samePos: 6, # in donor 0\n",
      "Too few samples\n",
      "Number of variants in donor: (5, 33), # of samePos: 5, # in donor 0\n"
     ]
    },
    {
     "name": "stderr",
     "output_type": "stream",
     "text": [
      "/home/isaac/miniconda3/envs/mttrace/lib/python3.7/site-packages/seaborn/matrix.py:709: UserWarning: Attempting to set identical left == right == 0 results in singular transformations; automatically expanding.\n",
      "  ax.set_xlim(0, max_dependent_coord * 1.05)\n"
     ]
    },
    {
     "name": "stdout",
     "output_type": "stream",
     "text": [
      "Too few samples\n"
     ]
    }
   ],
   "source": [
    "for d in don_means_d:\n",
    "    curr_v = samePos_vars[samePos_vars[\"donor\"] == d]\n",
    "    curr_v_1based = curr_v.copy()\n",
    "    curr_v_1based[\"var_pos\"] = curr_v_1based[\"var_pos\"].astype(int)+1\n",
    "    curr_v_1based.index = curr_v_1based.apply(lambda x: f'{str(x[\"var_pos\"])}{x.name[-1]}', axis=1)\n",
    "    curr_v_1based   \n",
    "    \n",
    "    var_in_output = sum(x in don_means_d[d].columns.values for x in curr_v_1based.index)\n",
    "    #var_in_output = don_means_d[d].index.isin(curr_v).sum()\n",
    "    print(f\"Number of variants in donor: {don_means_d[d].shape}, # of samePos: {len(curr_v_1based)}, # in donor {var_in_output}\")\n",
    "    try:\n",
    "        sns.clustermap(don_means_d[d].loc[:,don_means_d[d].columns.isin(curr_v_1based.index)])\n",
    "    except ValueError:\n",
    "        plt.close()\n",
    "        print(\"Too few samples\")\n",
    "          "
   ]
  },
  {
   "cell_type": "code",
   "execution_count": 25,
   "id": "d049a567",
   "metadata": {},
   "outputs": [
    {
     "name": "stdout",
     "output_type": "stream",
     "text": [
      "Number of variants in donor: (5, 33), # of samePos: 6, # in donor 0\n",
      "Too few samples\n",
      "Number of variants in donor: (5, 33), # of samePos: 5, # in donor 0\n",
      "Too few samples\n"
     ]
    }
   ],
   "source": [
    "for d in don_means_d:\n",
    "    curr_v = samePos_vars[samePos_vars[\"donor\"] == d]\n",
    "    curr_v_1based = curr_v.copy()\n",
    "    curr_v_1based[\"var_pos\"] = curr_v_1based[\"var_pos\"].astype(int)-1\n",
    "    curr_v_1based.index = curr_v_1based.apply(lambda x: f'{str(x[\"var_pos\"])}{x.name[-1]}', axis=1)\n",
    "    curr_v_1based   \n",
    "    \n",
    "    var_in_output = sum(x in don_means_d[d].columns.values for x in curr_v_1based.index)\n",
    "    #var_in_output = don_means_d[d].index.isin(curr_v).sum()\n",
    "    print(f\"Number of variants in donor: {don_means_d[d].shape}, # of samePos: {len(curr_v_1based)}, # in donor {var_in_output}\")\n",
    "    try:\n",
    "        sns.clustermap(don_means_d[d].loc[:,don_means_d[d].columns.isin(curr_v_1based.index)])\n",
    "    except ValueError:\n",
    "        plt.close()\n",
    "        print(\"Too few samples\")\n",
    "          "
   ]
  },
  {
   "cell_type": "markdown",
   "id": "1adc092a",
   "metadata": {},
   "source": [
    "## Using all variants does show up"
   ]
  },
  {
   "cell_type": "code",
   "execution_count": 29,
   "id": "5c6467ec",
   "metadata": {
    "scrolled": false
   },
   "outputs": [
    {
     "name": "stdout",
     "output_type": "stream",
     "text": [
      "\n",
      "Donor 0\n",
      "Number of variants in donor: (5, 33), # of samePos: 22\n",
      "# in donor 16 \n",
      "Total variants of interest from donor: 22\n",
      "% sim variants picked up in donor 0.7272727272727273\n",
      "\n",
      "Donor 1\n",
      "Number of variants in donor: (5, 33), # of samePos: 22\n",
      "# in donor 17 \n",
      "Total variants of interest from donor: 22\n",
      "% sim variants picked up in donor 0.7727272727272727\n"
     ]
    },
    {
     "data": {
      "image/png": "[encoded data removed]",
      "text/plain": [
       "<Figure size 720x720 with 4 Axes>"
      ]
     },
     "metadata": {
      "needs_background": "light"
     },
     "output_type": "display_data"
    },
    {
     "data": {
      "image/png": "[encoded data removed]",
      "text/plain": [
       "<Figure size 720x720 with 4 Axes>"
      ]
     },
     "metadata": {
      "needs_background": "light"
     },
     "output_type": "display_data"
    }
   ],
   "source": [
    "for d in don_means_d:\n",
    "    print(f\"\\nDonor {d}\")\n",
    "    curr_v = vars_of_interest[vars_of_interest[\"donor\"] == d]\n",
    "    \n",
    "    var_in_output = sum(x in don_means_d[d].columns.values for x in curr_v.index)\n",
    "    #var_in_output = don_means_d[d].index.isin(curr_v).sum()\n",
    "    print(f\"Number of variants in donor: {don_means_d[d].shape}, # of samePos: {len(curr_v)}\")\n",
    "\n",
    "    print(f\"# in donor {var_in_output} \\nTotal variants of interest from donor: {len(curr_v)}\")\n",
    "    \n",
    "    print(f\"% sim variants picked up in donor {var_in_output/len(curr_v)}\")\n",
    "    sns.clustermap(don_means_d[d].loc[:,don_means_d[d].columns.isin(curr_v.index)])\n",
    "    "
   ]
  },
  {
   "cell_type": "code",
   "execution_count": 30,
   "id": "f1cc0db0",
   "metadata": {},
   "outputs": [
    {
     "name": "stdout",
     "output_type": "stream",
     "text": [
      "Index(['8953G', '11150T', '12920G', '1558G', '12833T', '9528G', '4832A',\n",
      "       '5767T', '13461A', '15306G', '15378A', '1972G', '2549A', '16213C',\n",
      "       '1619A', '904T', '5549A', '5781A', '2041G', '6364T', '11981T', '12622C',\n",
      "       '6331A', '6290A', '6232G', '8817T', '12606A', '1417G', '14115A',\n",
      "       '6208C', '4225C', '2841C', '5663G'],\n",
      "      dtype='object')\n",
      "Index(['12606A', '6208C', '1619A', '6331A', '16213C', '6364T', '14115A',\n",
      "       '5549A', '5781A', '8817T', '12622C', '2041G', '11981T', '6290A',\n",
      "       '1417G', '6232G', '904T', '12833T', '5767T', '4832A', '8953G', '1558G',\n",
      "       '11150T', '2841C', '15306G', '15378A', '4225C', '12920G', '1972G',\n",
      "       '5663G', '9528G', '13461A', '2549A'],\n",
      "      dtype='object')\n",
      "same variants!\n"
     ]
    }
   ],
   "source": [
    "var_set = set()\n",
    "curr_len = 0\n",
    "for d in don_means_d:\n",
    "    print(don_means_d[d].columns)\n",
    "    var_set = var_set.union(set(don_means_d[d].columns.values))\n",
    "    if len(var_set) == curr_len:\n",
    "        print(\"same variants!\")\n",
    "    curr_len = len(var_set)\n",
    "    "
   ]
  }
 ],
 "metadata": {
  "celltoolbar": "Tags",
  "kernelspec": {
   "display_name": "Python 3 (ipykernel)",
   "language": "python",
   "name": "python3"
  },
  "language_info": {
   "codemirror_mode": {
    "name": "ipython",
    "version": 3
   },
   "file_extension": ".py",
   "mimetype": "text/x-python",
   "name": "python",
   "nbconvert_exporter": "python",
   "pygments_lexer": "ipython3",
   "version": "3.7.12"
  }
 },
 "nbformat": 4,
 "nbformat_minor": 5
}
