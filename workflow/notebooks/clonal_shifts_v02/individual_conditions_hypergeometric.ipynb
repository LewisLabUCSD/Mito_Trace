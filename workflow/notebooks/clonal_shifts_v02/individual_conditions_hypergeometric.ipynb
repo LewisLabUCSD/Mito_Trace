{
 "cells": [
  {
   "cell_type": "code",
   "execution_count": 1,
   "id": "235ae72f",
   "metadata": {
    "tags": [
     "parameters"
    ]
   },
   "outputs": [],
   "source": [
    "# Input info\n",
    "indir = \"/data/Mito_Trace/output/pipeline/v03/cd34norm/MTblacklist/data/merged/MT/cellr_True/numread_200/filters/minC10_minR50_topN0_hetT0.001_hetC10_hetCount5_bq20/mgatk/vireoIn/clonal_shifts/variants_init/clones/results/noInput/knn/kparam_30/\"\n",
    "outdir = \"/data/Mito_Trace/output/pipeline/v03/cd34norm/MTblacklist/data/merged/MT/cellr_True/numread_200/filters/minC10_minR50_topN0_hetT0.001_hetC10_hetCount5_bq20/mgatk/vireoIn/clonal_shifts/variants_init/donors/donor0/dendro_bc/knn_kparam_30/\"\n",
    "condition = \"inputOnly\"\n",
    "donor = 0\n",
    "\n",
    "# indir = \"/data/Mito_Trace/output/pipeline/v04/CHIP_b2/InputOnly/MTBlacklist_A2/data/merged/MT/cellr_True/numread_200/filters/minC10_minR50_topN0_hetT0.001_hetC10_hetCount5_bq20/mgatk/vireoIn/clonal_shifts/variants_prefilterMerge_impute/dendro_bc/results/inputOnly/knn/kparam_30\"\n",
    "# outdir = \"/data/Mito_Trace/output/pipeline/v04/CHIP_b2/InputOnly/MTBlacklist_A2/data/merged/MT/cellr_True/numread_200/filters/minC10_minR50_topN0_hetT0.001_hetC10_hetCount5_bq20/mgatk/vireoIn/clonal_shifts/variants_prefilterMerge_impute/donors/donor1/dendro_bc/knn_kparam_30\"\n",
    "# condition = \"inputOnly\"\n",
    "# donor = 1\n",
    "\n",
    "# params\n",
    "p_thresh = 0.1 \n",
    "\n",
    "atac_col = \"cluster_labels\"\n",
    "clone_col = \"den_clust\" #den_clust, \"Variants\", \"den_clust\"\n"
   ]
  },
  {
   "cell_type": "code",
   "execution_count": 2,
   "id": "39e6db5a",
   "metadata": {},
   "outputs": [],
   "source": [
    "from glob import glob\n",
    "import pandas as pd\n",
    "import numpy as np\n",
    "from os.path import join, exists\n",
    "import os\n",
    "from tqdm.notebook import tqdm\n",
    "\n",
    "from scipy.stats import hypergeom, fisher_exact\n",
    "from statsmodels.stats import multitest \n",
    "\n",
    "import seaborn as sns\n",
    "import matplotlib.pyplot as plt\n",
    "\n",
    "from src import clonal_shifts as cs\n",
    "from icecream import ic"
   ]
  },
  {
   "cell_type": "markdown",
   "id": "62868ce3",
   "metadata": {},
   "source": [
    "### Setup outdirs"
   ]
  },
  {
   "cell_type": "code",
   "execution_count": 3,
   "id": "69d48e29",
   "metadata": {
    "scrolled": true
   },
   "outputs": [
    {
     "data": {
      "text/html": [
       "<div>\n",
       "<style scoped>\n",
       "    .dataframe tbody tr th:only-of-type {\n",
       "        vertical-align: middle;\n",
       "    }\n",
       "\n",
       "    .dataframe tbody tr th {\n",
       "        vertical-align: top;\n",
       "    }\n",
       "\n",
       "    .dataframe thead th {\n",
       "        text-align: right;\n",
       "    }\n",
       "</style>\n",
       "<table border=\"1\" class=\"dataframe\">\n",
       "  <thead>\n",
       "    <tr style=\"text-align: right;\">\n",
       "      <th></th>\n",
       "      <th>index</th>\n",
       "      <th>variable</th>\n",
       "      <th>value</th>\n",
       "      <th>method</th>\n",
       "    </tr>\n",
       "  </thead>\n",
       "  <tbody>\n",
       "    <tr>\n",
       "      <th>0</th>\n",
       "      <td>1_C1</td>\n",
       "      <td>0</td>\n",
       "      <td>0.0</td>\n",
       "      <td>global_all</td>\n",
       "    </tr>\n",
       "    <tr>\n",
       "      <th>1</th>\n",
       "      <td>1_C1</td>\n",
       "      <td>1</td>\n",
       "      <td>0.0</td>\n",
       "      <td>global_all</td>\n",
       "    </tr>\n",
       "    <tr>\n",
       "      <th>2</th>\n",
       "      <td>1_C1</td>\n",
       "      <td>2</td>\n",
       "      <td>0.0</td>\n",
       "      <td>global_all</td>\n",
       "    </tr>\n",
       "    <tr>\n",
       "      <th>3</th>\n",
       "      <td>1_C1</td>\n",
       "      <td>3</td>\n",
       "      <td>0.0</td>\n",
       "      <td>global_all</td>\n",
       "    </tr>\n",
       "    <tr>\n",
       "      <th>4</th>\n",
       "      <td>1_C1</td>\n",
       "      <td>4</td>\n",
       "      <td>0.0</td>\n",
       "      <td>global_all</td>\n",
       "    </tr>\n",
       "    <tr>\n",
       "      <th>5</th>\n",
       "      <td>1_C1</td>\n",
       "      <td>5</td>\n",
       "      <td>0.0</td>\n",
       "      <td>global_all</td>\n",
       "    </tr>\n",
       "    <tr>\n",
       "      <th>6</th>\n",
       "      <td>1_C1</td>\n",
       "      <td>6</td>\n",
       "      <td>0.0</td>\n",
       "      <td>global_all</td>\n",
       "    </tr>\n",
       "    <tr>\n",
       "      <th>7</th>\n",
       "      <td>1_C1</td>\n",
       "      <td>7</td>\n",
       "      <td>0.0</td>\n",
       "      <td>global_all</td>\n",
       "    </tr>\n",
       "    <tr>\n",
       "      <th>8</th>\n",
       "      <td>1_C1</td>\n",
       "      <td>8</td>\n",
       "      <td>0.0</td>\n",
       "      <td>global_all</td>\n",
       "    </tr>\n",
       "    <tr>\n",
       "      <th>9</th>\n",
       "      <td>1_C1</td>\n",
       "      <td>9</td>\n",
       "      <td>0.0</td>\n",
       "      <td>global_all</td>\n",
       "    </tr>\n",
       "    <tr>\n",
       "      <th>0</th>\n",
       "      <td>1_C1</td>\n",
       "      <td>0</td>\n",
       "      <td>0.0</td>\n",
       "      <td>global_min</td>\n",
       "    </tr>\n",
       "    <tr>\n",
       "      <th>1</th>\n",
       "      <td>1_C1</td>\n",
       "      <td>1</td>\n",
       "      <td>0.0</td>\n",
       "      <td>global_min</td>\n",
       "    </tr>\n",
       "    <tr>\n",
       "      <th>2</th>\n",
       "      <td>1_C1</td>\n",
       "      <td>2</td>\n",
       "      <td>0.0</td>\n",
       "      <td>global_min</td>\n",
       "    </tr>\n",
       "    <tr>\n",
       "      <th>3</th>\n",
       "      <td>1_C1</td>\n",
       "      <td>3</td>\n",
       "      <td>0.0</td>\n",
       "      <td>global_min</td>\n",
       "    </tr>\n",
       "    <tr>\n",
       "      <th>4</th>\n",
       "      <td>1_C1</td>\n",
       "      <td>4</td>\n",
       "      <td>0.0</td>\n",
       "      <td>global_min</td>\n",
       "    </tr>\n",
       "    <tr>\n",
       "      <th>5</th>\n",
       "      <td>1_C1</td>\n",
       "      <td>5</td>\n",
       "      <td>0.0</td>\n",
       "      <td>global_min</td>\n",
       "    </tr>\n",
       "    <tr>\n",
       "      <th>6</th>\n",
       "      <td>1_C1</td>\n",
       "      <td>6</td>\n",
       "      <td>0.0</td>\n",
       "      <td>global_min</td>\n",
       "    </tr>\n",
       "    <tr>\n",
       "      <th>7</th>\n",
       "      <td>1_C1</td>\n",
       "      <td>7</td>\n",
       "      <td>0.0</td>\n",
       "      <td>global_min</td>\n",
       "    </tr>\n",
       "    <tr>\n",
       "      <th>8</th>\n",
       "      <td>1_C1</td>\n",
       "      <td>8</td>\n",
       "      <td>0.0</td>\n",
       "      <td>global_min</td>\n",
       "    </tr>\n",
       "    <tr>\n",
       "      <th>9</th>\n",
       "      <td>1_C1</td>\n",
       "      <td>9</td>\n",
       "      <td>0.0</td>\n",
       "      <td>global_min</td>\n",
       "    </tr>\n",
       "    <tr>\n",
       "      <th>0</th>\n",
       "      <td>1_C1</td>\n",
       "      <td>0</td>\n",
       "      <td>0.0</td>\n",
       "      <td>clone_all</td>\n",
       "    </tr>\n",
       "    <tr>\n",
       "      <th>1</th>\n",
       "      <td>1_C1</td>\n",
       "      <td>1</td>\n",
       "      <td>0.0</td>\n",
       "      <td>clone_all</td>\n",
       "    </tr>\n",
       "    <tr>\n",
       "      <th>2</th>\n",
       "      <td>1_C1</td>\n",
       "      <td>2</td>\n",
       "      <td>0.0</td>\n",
       "      <td>clone_all</td>\n",
       "    </tr>\n",
       "    <tr>\n",
       "      <th>3</th>\n",
       "      <td>1_C1</td>\n",
       "      <td>3</td>\n",
       "      <td>0.0</td>\n",
       "      <td>clone_all</td>\n",
       "    </tr>\n",
       "    <tr>\n",
       "      <th>4</th>\n",
       "      <td>1_C1</td>\n",
       "      <td>4</td>\n",
       "      <td>0.0</td>\n",
       "      <td>clone_all</td>\n",
       "    </tr>\n",
       "    <tr>\n",
       "      <th>5</th>\n",
       "      <td>1_C1</td>\n",
       "      <td>5</td>\n",
       "      <td>0.0</td>\n",
       "      <td>clone_all</td>\n",
       "    </tr>\n",
       "    <tr>\n",
       "      <th>6</th>\n",
       "      <td>1_C1</td>\n",
       "      <td>6</td>\n",
       "      <td>0.0</td>\n",
       "      <td>clone_all</td>\n",
       "    </tr>\n",
       "    <tr>\n",
       "      <th>7</th>\n",
       "      <td>1_C1</td>\n",
       "      <td>7</td>\n",
       "      <td>0.0</td>\n",
       "      <td>clone_all</td>\n",
       "    </tr>\n",
       "    <tr>\n",
       "      <th>8</th>\n",
       "      <td>1_C1</td>\n",
       "      <td>8</td>\n",
       "      <td>0.0</td>\n",
       "      <td>clone_all</td>\n",
       "    </tr>\n",
       "    <tr>\n",
       "      <th>9</th>\n",
       "      <td>1_C1</td>\n",
       "      <td>9</td>\n",
       "      <td>0.0</td>\n",
       "      <td>clone_all</td>\n",
       "    </tr>\n",
       "    <tr>\n",
       "      <th>0</th>\n",
       "      <td>1_C1</td>\n",
       "      <td>0</td>\n",
       "      <td>0.0</td>\n",
       "      <td>clone_min</td>\n",
       "    </tr>\n",
       "    <tr>\n",
       "      <th>1</th>\n",
       "      <td>1_C1</td>\n",
       "      <td>1</td>\n",
       "      <td>0.0</td>\n",
       "      <td>clone_min</td>\n",
       "    </tr>\n",
       "    <tr>\n",
       "      <th>2</th>\n",
       "      <td>1_C1</td>\n",
       "      <td>2</td>\n",
       "      <td>0.0</td>\n",
       "      <td>clone_min</td>\n",
       "    </tr>\n",
       "    <tr>\n",
       "      <th>3</th>\n",
       "      <td>1_C1</td>\n",
       "      <td>3</td>\n",
       "      <td>0.0</td>\n",
       "      <td>clone_min</td>\n",
       "    </tr>\n",
       "    <tr>\n",
       "      <th>4</th>\n",
       "      <td>1_C1</td>\n",
       "      <td>4</td>\n",
       "      <td>0.0</td>\n",
       "      <td>clone_min</td>\n",
       "    </tr>\n",
       "    <tr>\n",
       "      <th>5</th>\n",
       "      <td>1_C1</td>\n",
       "      <td>5</td>\n",
       "      <td>0.0</td>\n",
       "      <td>clone_min</td>\n",
       "    </tr>\n",
       "    <tr>\n",
       "      <th>6</th>\n",
       "      <td>1_C1</td>\n",
       "      <td>6</td>\n",
       "      <td>0.0</td>\n",
       "      <td>clone_min</td>\n",
       "    </tr>\n",
       "    <tr>\n",
       "      <th>7</th>\n",
       "      <td>1_C1</td>\n",
       "      <td>7</td>\n",
       "      <td>0.0</td>\n",
       "      <td>clone_min</td>\n",
       "    </tr>\n",
       "    <tr>\n",
       "      <th>8</th>\n",
       "      <td>1_C1</td>\n",
       "      <td>8</td>\n",
       "      <td>0.0</td>\n",
       "      <td>clone_min</td>\n",
       "    </tr>\n",
       "    <tr>\n",
       "      <th>9</th>\n",
       "      <td>1_C1</td>\n",
       "      <td>9</td>\n",
       "      <td>0.0</td>\n",
       "      <td>clone_min</td>\n",
       "    </tr>\n",
       "  </tbody>\n",
       "</table>\n",
       "</div>"
      ],
      "text/plain": [
       "  index  variable  value      method\n",
       "0  1_C1         0    0.0  global_all\n",
       "1  1_C1         1    0.0  global_all\n",
       "2  1_C1         2    0.0  global_all\n",
       "3  1_C1         3    0.0  global_all\n",
       "4  1_C1         4    0.0  global_all\n",
       "5  1_C1         5    0.0  global_all\n",
       "6  1_C1         6    0.0  global_all\n",
       "7  1_C1         7    0.0  global_all\n",
       "8  1_C1         8    0.0  global_all\n",
       "9  1_C1         9    0.0  global_all\n",
       "0  1_C1         0    0.0  global_min\n",
       "1  1_C1         1    0.0  global_min\n",
       "2  1_C1         2    0.0  global_min\n",
       "3  1_C1         3    0.0  global_min\n",
       "4  1_C1         4    0.0  global_min\n",
       "5  1_C1         5    0.0  global_min\n",
       "6  1_C1         6    0.0  global_min\n",
       "7  1_C1         7    0.0  global_min\n",
       "8  1_C1         8    0.0  global_min\n",
       "9  1_C1         9    0.0  global_min\n",
       "0  1_C1         0    0.0   clone_all\n",
       "1  1_C1         1    0.0   clone_all\n",
       "2  1_C1         2    0.0   clone_all\n",
       "3  1_C1         3    0.0   clone_all\n",
       "4  1_C1         4    0.0   clone_all\n",
       "5  1_C1         5    0.0   clone_all\n",
       "6  1_C1         6    0.0   clone_all\n",
       "7  1_C1         7    0.0   clone_all\n",
       "8  1_C1         8    0.0   clone_all\n",
       "9  1_C1         9    0.0   clone_all\n",
       "0  1_C1         0    0.0   clone_min\n",
       "1  1_C1         1    0.0   clone_min\n",
       "2  1_C1         2    0.0   clone_min\n",
       "3  1_C1         3    0.0   clone_min\n",
       "4  1_C1         4    0.0   clone_min\n",
       "5  1_C1         5    0.0   clone_min\n",
       "6  1_C1         6    0.0   clone_min\n",
       "7  1_C1         7    0.0   clone_min\n",
       "8  1_C1         8    0.0   clone_min\n",
       "9  1_C1         9    0.0   clone_min"
      ]
     },
     "execution_count": 3,
     "metadata": {},
     "output_type": "execute_result"
    }
   ],
   "source": [
    "don_indir =  join(indir,\"sepDonors\", f\"donor{donor}\")\n",
    "df = pd.read_csv(join(don_indir, \"shuffle_results_pvals.tsv\"), sep=\"\\t\", index_col=0)\n",
    "hyper = pd.read_csv(join(don_indir, \"hypergeo_padjusted.csv\"),  index_col=0)\n",
    "df"
   ]
  },
  {
   "cell_type": "code",
   "execution_count": 4,
   "id": "1c02a6d4",
   "metadata": {
    "scrolled": true
   },
   "outputs": [],
   "source": [
    "ncells_f = join(don_indir, 'ncells.csv')\n",
    "out_ncells_f = join(outdir, f'{condition}_ncells.csv')\n",
    "\n",
    "adjHyper_f = join(don_indir, \"hypergeo_padjusted.csv\")\n",
    "out_adjHyper_f = join(outdir, \"hypergeo_padjusted.csv\")\n",
    "cmd = f\"cp {adjHyper_f} {out_adjHyper_f}\"\n",
    "!{cmd}\n",
    "\n",
    "ncells = pd.read_csv(ncells_f)\n",
    "\n",
    "# if clone_col not in ncells.columns:\n",
    "#     raise ValueError(f\"{clone_col} not in columns {ncells.columns}\")\n",
    "ncells.rename({atac_col:\"clusterID\", clone_col:\"cloneID\"}, axis=1).to_csv(out_ncells_f)"
   ]
  },
  {
   "cell_type": "code",
   "execution_count": 5,
   "id": "f15dfda5",
   "metadata": {},
   "outputs": [
    {
     "data": {
      "text/html": [
       "<div>\n",
       "<style scoped>\n",
       "    .dataframe tbody tr th:only-of-type {\n",
       "        vertical-align: middle;\n",
       "    }\n",
       "\n",
       "    .dataframe tbody tr th {\n",
       "        vertical-align: top;\n",
       "    }\n",
       "\n",
       "    .dataframe thead th {\n",
       "        text-align: right;\n",
       "    }\n",
       "</style>\n",
       "<table border=\"1\" class=\"dataframe\">\n",
       "  <thead>\n",
       "    <tr style=\"text-align: right;\">\n",
       "      <th></th>\n",
       "      <th>0</th>\n",
       "      <th>1</th>\n",
       "      <th>2</th>\n",
       "      <th>3</th>\n",
       "      <th>4</th>\n",
       "      <th>5</th>\n",
       "      <th>6</th>\n",
       "      <th>7</th>\n",
       "      <th>8</th>\n",
       "      <th>9</th>\n",
       "    </tr>\n",
       "  </thead>\n",
       "  <tbody>\n",
       "    <tr>\n",
       "      <th>1_C1</th>\n",
       "      <td>0.09999</td>\n",
       "      <td>0.09999</td>\n",
       "      <td>0.09999</td>\n",
       "      <td>0.09999</td>\n",
       "      <td>0.09999</td>\n",
       "      <td>0.09999</td>\n",
       "      <td>0.09999</td>\n",
       "      <td>0.09999</td>\n",
       "      <td>0.09999</td>\n",
       "      <td>0.09999</td>\n",
       "    </tr>\n",
       "  </tbody>\n",
       "</table>\n",
       "</div>"
      ],
      "text/plain": [
       "            0        1        2        3        4        5        6        7  \\\n",
       "1_C1  0.09999  0.09999  0.09999  0.09999  0.09999  0.09999  0.09999  0.09999   \n",
       "\n",
       "            8        9  \n",
       "1_C1  0.09999  0.09999  "
      ]
     },
     "execution_count": 5,
     "metadata": {},
     "output_type": "execute_result"
    }
   ],
   "source": [
    "hyper"
   ]
  },
  {
   "cell_type": "code",
   "execution_count": 6,
   "id": "7c5bdeed",
   "metadata": {},
   "outputs": [
    {
     "data": {
      "image/png": "[encoded data removed]",
      "text/plain": [
       "<Figure size 432x288 with 2 Axes>"
      ]
     },
     "metadata": {
      "needs_background": "light"
     },
     "output_type": "display_data"
    }
   ],
   "source": [
    "hyper = pd.read_csv(adjHyper_f, index_col=0)\n",
    "if (hyper.shape[0]==1) or (hyper.shape[1]==1) :\n",
    "    f = plt.figure()\n",
    "    sns.heatmap(-np.log10(hyper))\n",
    "    plt.savefig(join(outdir, f\"hyper_padj.pdf\"),dpi=300, bbox_inches = \"tight\")\n",
    "elif len(hyper) > 1:\n",
    "    g=sns.clustermap(-np.log10(hyper))\n",
    "    g.fig.suptitle(f\"{condition} (-log 10 pvalue, 1 is p=0.1)\")\n",
    "    #inds = g.dendrogram_row.dendrogram[\"leaves\"]\n",
    "    #cols = g.dendrogram_col.dendrogram[\"leaves\"]\n",
    "    g.fig.savefig(join(outdir, f\"hyper_padj.pdf\"),dpi=300, bbox_inches = \"tight\")\n",
    "\n",
    "    \n"
   ]
  },
  {
   "cell_type": "code",
   "execution_count": 7,
   "id": "f1282c85",
   "metadata": {
    "scrolled": true
   },
   "outputs": [],
   "source": [
    "# save to combined directory\n",
    "df.to_csv(join(outdir, \"shuffle_results_pvals.csv\"))\n",
    "hyper.to_csv(join(outdir, \"hypergeo_pvals.csv\"))\n"
   ]
  },
  {
   "cell_type": "markdown",
   "id": "662af57b",
   "metadata": {},
   "source": [
    "## Get overlapping clones and clusters and use same clone indices from input to noInput"
   ]
  },
  {
   "cell_type": "code",
   "execution_count": 8,
   "id": "1f0138ad",
   "metadata": {
    "scrolled": true
   },
   "outputs": [
    {
     "name": "stdout",
     "output_type": "stream",
     "text": [
      "clone_all\n",
      "clone_min\n",
      "global_all\n",
      "global_min\n"
     ]
    },
    {
     "data": {
      "text/plain": [
       "<Figure size 432x288 with 0 Axes>"
      ]
     },
     "metadata": {},
     "output_type": "display_data"
    },
    {
     "data": {
      "image/png": "[encoded data removed]",
      "text/plain": [
       "<Figure size 720x720 with 4 Axes>"
      ]
     },
     "metadata": {
      "needs_background": "light"
     },
     "output_type": "display_data"
    },
    {
     "data": {
      "text/plain": [
       "<Figure size 432x288 with 0 Axes>"
      ]
     },
     "metadata": {},
     "output_type": "display_data"
    },
    {
     "data": {
      "image/png": "[encoded data removed]",
      "text/plain": [
       "<Figure size 720x720 with 4 Axes>"
      ]
     },
     "metadata": {
      "needs_background": "light"
     },
     "output_type": "display_data"
    },
    {
     "data": {
      "text/plain": [
       "<Figure size 432x288 with 0 Axes>"
      ]
     },
     "metadata": {},
     "output_type": "display_data"
    },
    {
     "data": {
      "image/png": "[encoded data removed]",
      "text/plain": [
       "<Figure size 720x720 with 4 Axes>"
      ]
     },
     "metadata": {
      "needs_background": "light"
     },
     "output_type": "display_data"
    },
    {
     "data": {
      "text/plain": [
       "<Figure size 432x288 with 0 Axes>"
      ]
     },
     "metadata": {},
     "output_type": "display_data"
    },
    {
     "data": {
      "image/png": "[encoded data removed]",
      "text/plain": [
       "<Figure size 720x720 with 4 Axes>"
      ]
     },
     "metadata": {
      "needs_background": "light"
     },
     "output_type": "display_data"
    }
   ],
   "source": [
    "for ind, val in df[df[\"value\"] < p_thresh].groupby(\"method\"):\n",
    "    print(ind)\n",
    "    \n",
    "    clones = set(val[\"index\"].values)\n",
    "    curr_clones = list(clones)\n",
    "    #curr_clones = list(noclones.union(clones))\n",
    "    \n",
    "    clust = set(val[\"variable\"].values)\n",
    "    curr_clust = list(clust) # list(noclust.union(clust))\n",
    "    \n",
    "    if (len(curr_clust)==0 or len(curr_clones)==0):\n",
    "        print('no significant results')\n",
    "        print(ind)\n",
    "        continue\n",
    "       \n",
    "    curr_df = pd.DataFrame(index=curr_clones, columns=curr_clust)    \n",
    "    val = val.set_index([\"index\", \"variable\"]) \n",
    " \n",
    "    def get_element_pval(x,y, val):\n",
    "        if (y.name, x.name) in val.index:\n",
    "            return val.loc[(y.name, x.name), \"value\"]\n",
    "        else: \n",
    "            return 1\n",
    "    curr_df = curr_df.apply(lambda x: pd.DataFrame(x).apply(lambda y: get_element_pval(x=x, y=y, val=val), axis=1))\n",
    "    \n",
    "  \n",
    "    # Transpose both matrices\n",
    "    curr_df = curr_df.transpose()\n",
    "    \n",
    "    # Plot the input first and then noInput with same clone indices\n",
    "    if (curr_df.shape[0] > 1) and (curr_df.shape[1] > 1):\n",
    "        g = sns.clustermap(curr_df, vmax=float(p_thresh)+0.05, figsize=(12,12))\n",
    "        cols = g.dendrogram_col.dendrogram[\"leaves\"]\n",
    "    else:\n",
    "        f = plt.figure()\n",
    "        g = sns.clustermap(curr_df, vmax=float(p_thresh)+0.05, row_cluster=False, col_cluster=False)\n",
    "\n",
    "    title = f\"{ind}\\np-val;cutoff is {p_thresh}; vmax {float(p_thresh)+0.05}\"\n",
    "    g.fig.suptitle(\"{condtion}\\n\" + title)\n",
    "    g.fig.savefig(join(outdir, f\"{ind}_shuffle_sig.png\"),dpi=300, bbox_inches = \"tight\")\n",
    "    "
   ]
  }
 ],
 "metadata": {
  "celltoolbar": "Tags",
  "kernelspec": {
   "display_name": "Python 3 (ipykernel)",
   "language": "python",
   "name": "python3"
  },
  "language_info": {
   "codemirror_mode": {
    "name": "ipython",
    "version": 3
   },
   "file_extension": ".py",
   "mimetype": "text/x-python",
   "name": "python",
   "nbconvert_exporter": "python",
   "pygments_lexer": "ipython3",
   "version": "3.7.12"
  }
 },
 "nbformat": 4,
 "nbformat_minor": 5
}
