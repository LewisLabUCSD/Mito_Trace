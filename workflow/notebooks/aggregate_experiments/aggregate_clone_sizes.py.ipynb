{
 "cells": [
  {
   "cell_type": "code",
   "execution_count": 1,
   "id": "23c8b0fb",
   "metadata": {},
   "outputs": [],
   "source": [
    "import pandas as pd\n",
    "from os.path import join, dirname, basename\n",
    "import os\n",
    "import numpy as np\n",
    "from icecream import ic\n",
    "\n",
    "#import seaborn as sns"
   ]
  },
  {
   "cell_type": "code",
   "execution_count": 2,
   "id": "b3dc6b49",
   "metadata": {},
   "outputs": [
    {
     "ename": "NameError",
     "evalue": "name 'snakemake' is not defined",
     "output_type": "error",
     "traceback": [
      "\u001b[0;31m---------------------------------------------------------------------------\u001b[0m",
      "\u001b[0;31mNameError\u001b[0m                                 Traceback (most recent call last)",
      "\u001b[0;32m/tmp/ipykernel_2566829/1376967223.py\u001b[0m in \u001b[0;36m<module>\u001b[0;34m\u001b[0m\n\u001b[0;32m----> 1\u001b[0;31m \u001b[0mallExpmts_df\u001b[0m \u001b[0;34m=\u001b[0m \u001b[0msnakemake\u001b[0m\u001b[0;34m.\u001b[0m\u001b[0mparams\u001b[0m\u001b[0;34m.\u001b[0m\u001b[0mallExpmts\u001b[0m\u001b[0;34m\u001b[0m\u001b[0;34m\u001b[0m\u001b[0m\n\u001b[0m\u001b[1;32m      2\u001b[0m \u001b[0mallRuns_don_df\u001b[0m \u001b[0;34m=\u001b[0m \u001b[0msnakemake\u001b[0m\u001b[0;34m.\u001b[0m\u001b[0mparams\u001b[0m\u001b[0;34m.\u001b[0m\u001b[0mallRuns_don_df\u001b[0m\u001b[0;34m\u001b[0m\u001b[0;34m\u001b[0m\u001b[0m\n\u001b[1;32m      3\u001b[0m \u001b[0mout_f\u001b[0m \u001b[0;34m=\u001b[0m \u001b[0msnakemake\u001b[0m\u001b[0;34m.\u001b[0m\u001b[0moutput\u001b[0m\u001b[0;34m.\u001b[0m\u001b[0mcells\u001b[0m \u001b[0;31m#/data/Mito_Trace/output/aggregate/CHIP_aggr/results/clones/variants.init_knnRes.30/aggregate/clone_sizes.pdf\u001b[0m\u001b[0;34m\u001b[0m\u001b[0;34m\u001b[0m\u001b[0m\n\u001b[1;32m      4\u001b[0m \u001b[0;31m#clone_method_dir = snakemake.params.clone_method_dir\u001b[0m\u001b[0;34m\u001b[0m\u001b[0;34m\u001b[0m\u001b[0;34m\u001b[0m\u001b[0m\n\u001b[1;32m      5\u001b[0m \u001b[0mvariants\u001b[0m \u001b[0;34m=\u001b[0m \u001b[0msnakemake\u001b[0m\u001b[0;34m.\u001b[0m\u001b[0mwildcards\u001b[0m\u001b[0;34m.\u001b[0m\u001b[0mvariants\u001b[0m\u001b[0;34m\u001b[0m\u001b[0;34m\u001b[0m\u001b[0m\n",
      "\u001b[0;31mNameError\u001b[0m: name 'snakemake' is not defined"
     ]
    }
   ],
   "source": [
    "allExpmts_df = snakemake.params.allExpmts \n",
    "allRuns_don_df = snakemake.params.allRuns_don_df\n",
    "out_f = snakemake.output.cells #/data/Mito_Trace/output/aggregate/CHIP_aggr/results/clones/variants.init_knnRes.30/aggregate/clone_sizes.pdf\n",
    "#clone_method_dir = snakemake.params.clone_method_dir\n",
    "variants = snakemake.wildcards.variants\n",
    "kparam = snakemake.wildcards.kparam\n",
    "\n",
    "\n",
    "# kparam = 30\n",
    "# variants = \"init\"\n",
    "# output = \"\"\n",
    "#\n",
    "# clone_dirs = []\n",
    "# nuclear_dirs = []\n",
    "# condition_pileup_dirs = []\n",
    "# experiment_ids = []"
   ]
  },
  {
   "cell_type": "code",
   "execution_count": null,
   "id": "7fe98dcd",
   "metadata": {},
   "outputs": [],
   "source": [
    "clone_method_dir = join(\"clones/\", f\"variants_{variants}/knn/kparam_{kparam}\")\n",
    "clone_method_dir"
   ]
  },
  {
   "cell_type": "markdown",
   "id": "e717099e",
   "metadata": {},
   "source": [
    "## Get number of cells each donor"
   ]
  },
  {
   "cell_type": "code",
   "execution_count": null,
   "id": "b4e9c7e6",
   "metadata": {
    "scrolled": true
   },
   "outputs": [],
   "source": [
    "#init_results_cond_df = pd.DataFrame(columns=[\"Donor\", \"# conditions\"])\n",
    "results_donor_df = allRuns_don_df.copy()\n",
    "results_donor_df[\"# cells after demultiplex\"] = -1\n",
    "\n",
    "results_d = []# {}\n",
    "## Get multiplex ncells\n",
    "for ind, val in allRuns_don_df.groupby(\"run\"):\n",
    "    print(ind)\n",
    "    #curr = pd.read_csv(join(val[\"indir\"][0], clone_method_dir, \"cells_meta.tsv\"), sep=\"\\t\", index_col=0)\n",
    "    curr = pd.read_csv(join(val[\"indir\"][0], clone_method_dir, f\"gff_{val['gff'].values[0]}\", \"annotation_clones/se_cells_meta_labels.tsv\"), sep=\"\\t\", index_col=0)\n",
    "    curr[\"name\"] = curr.apply(lambda x: f\"{ind}_{x['name']}\", axis=1)\n",
    "    curr[\"donor\"] = curr[\"donor\"].apply(lambda x: f\"{ind}_{x}\")\n",
    "    \n",
    "    #cl_size = curr.groupby([\"donor\", \"condition\", \"name\"]).size()\n",
    "#     for (cl, curr_size) in cl_size.iteritems():\n",
    "#         results_donor_df.loc[f\"{ind}_{cl}\", \"# cells after clones\"] = curr_size\n",
    "#     #break\n",
    "    #results_d.append(cl_size.reset_index().rename({0:\"ncells\"}, axis=1))\n",
    "    results_d.append(curr)\n",
    "    \n",
    "results_df = pd.concat(results_d)\n",
    "results_df\n",
    "\n",
    "#\"mean clone size\", \"median clone size\""
   ]
  },
  {
   "cell_type": "code",
   "execution_count": null,
   "id": "d03fba8e",
   "metadata": {},
   "outputs": [],
   "source": [
    "results_df.to_csv(out_f, sep=\"\\t\")"
   ]
  },
  {
   "cell_type": "code",
   "execution_count": null,
   "id": "a5dd3a83",
   "metadata": {},
   "outputs": [],
   "source": []
  }
 ],
 "metadata": {
  "celltoolbar": "Tags",
  "kernelspec": {
   "display_name": "Python 3 (ipykernel)",
   "language": "python",
   "name": "python3"
  },
  "language_info": {
   "codemirror_mode": {
    "name": "ipython",
    "version": 3
   },
   "file_extension": ".py",
   "mimetype": "text/x-python",
   "name": "python",
   "nbconvert_exporter": "python",
   "pygments_lexer": "ipython3",
   "version": "3.7.12"
  }
 },
 "nbformat": 4,
 "nbformat_minor": 5
}
