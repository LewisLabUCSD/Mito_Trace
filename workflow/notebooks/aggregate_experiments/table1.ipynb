{
 "cells": [
  {
   "cell_type": "code",
   "execution_count": null,
   "id": "23c8b0fb",
   "metadata": {},
   "outputs": [],
   "source": [
    "import pandas as pd\n",
    "from os.path import join, dirname, basename\n",
    "import os\n",
    "import numpy as np\n",
    "\n",
    "from icecream import ic"
   ]
  },
  {
   "cell_type": "code",
   "execution_count": null,
   "id": "b3dc6b49",
   "metadata": {},
   "outputs": [],
   "source": [
    "allExpmts_df = snakemake.params.allExpmts \n",
    "allRuns_don_df = snakemake.params.allRuns_don_df\n",
    "out_fs = snakemake.output #.summary\n",
    "# clone_dirs = []\n",
    "# nuclear_dirs = []\n",
    "# condition_pileup_dirs = []\n",
    "# experiment_ids = []"
   ]
  },
  {
   "cell_type": "code",
   "execution_count": null,
   "id": "b79a8158",
   "metadata": {
    "scrolled": true
   },
   "outputs": [],
   "source": [
    "allRuns_don_df"
   ]
  },
  {
   "cell_type": "markdown",
   "id": "e717099e",
   "metadata": {},
   "source": [
    "## Get number of cells each donor"
   ]
  },
  {
   "cell_type": "code",
   "execution_count": null,
   "id": "b4e9c7e6",
   "metadata": {
    "scrolled": true
   },
   "outputs": [],
   "source": [
    "#init_results_cond_df = pd.DataFrame(columns=[\"Donor\", \"# conditions\"])\n",
    "results_donor_df = allRuns_don_df.copy()\n",
    "results_donor_df[\"# cells after demultiplex\"] = -1\n",
    "\n",
    "## Get multiplex ncells\n",
    "for ind, val in allRuns_don_df.groupby(\"run\"):\n",
    "    print(ind)\n",
    "    curr = pd.read_csv(join(val[\"indir\"][0], \"multiplex/cells_meta.tsv\"), sep=\"\\t\", index_col=0)\n",
    "    curr[\"donor\"] = curr[\"donor\"].astype(\"Int32\")\n",
    "    d_size = curr.groupby(\"donor\").size()\n",
    "    for (d, curr_size) in d_size.iteritems():\n",
    "        results_donor_df.loc[f\"{ind}_{d}\", \"# cells after demultiplex\"] = curr_size\n",
    "    #break\n",
    "\n",
    "results_donor_df\n",
    "\n",
    "#\"mean clone size\", \"median clone size\""
   ]
  },
  {
   "cell_type": "markdown",
   "id": "a38db6d0",
   "metadata": {},
   "source": [
    "## Get number of cells each condition "
   ]
  },
  {
   "cell_type": "code",
   "execution_count": null,
   "id": "87d4870a",
   "metadata": {
    "scrolled": false
   },
   "outputs": [],
   "source": [
    "results_cond_df = allExpmts_df.copy()\n",
    "#pd.DataFrame(index=allExpmts_df.index, columns=[\"# donors\", \"Condition\", \n",
    "results_cond_df[\"# cells nuclear open-chromatin QC\"] = np.nan\n",
    "results_cond_df[\"# variants that passed MT coverage QC and open-chromatin QC\"] = np.nan\n",
    "results_cond_df[\"# cells nuclear open-chromatin QC\"] = np.nan\n",
    "\n",
    "for ind, val in allExpmts_df.iterrows():\n",
    "    print(ind)\n",
    "    #cb = pd.read_csv(val[\"cb_f\"], header=None)\n",
    "    with open(val['cb_f'], 'r') as fp:\n",
    "        x = len(fp.readlines())\n",
    "    results_cond_df.loc[ind, \"# cells nuclear open-chromatin QC\"]  = x\n",
    "    \n",
    "    try:\n",
    "        ncells, nvars = pd.read_csv(join(val[\"filt_dir\"], \"af_by_cell.tsv\"),sep=\"\\t\", index_col=0).shape\n",
    "        results_cond_df.loc[ind, \"# cells that passed MT coverage QC and open-chromatin QC\"]  = ncells\n",
    "        results_cond_df.loc[ind, \"# variants that passed MT coverage QC and open-chromatin QC\"]  = nvars\n",
    "    except FileNotFoundError:\n",
    "        print(f\"{ind} filt file not found\")\n",
    "results_cond_df"
   ]
  },
  {
   "cell_type": "markdown",
   "id": "ce37bd25",
   "metadata": {},
   "source": [
    "## Create condition-by-donor df"
   ]
  },
  {
   "cell_type": "code",
   "execution_count": null,
   "id": "0030d6b1",
   "metadata": {
    "scrolled": true
   },
   "outputs": [],
   "source": [
    "def expand_df(ser, col=\"N_DONORS\"):\n",
    "    #print(ser[\"N_DONORS\"])\n",
    "    #print(len([ser]*ser[\"N_DONORS\"]))\n",
    "    #print(pd.DataFrame(ser))\n",
    "    tmp = pd.concat([pd.DataFrame(ser).transpose()]*ser[\"N_DONORS\"])\n",
    "    tmp.index = [f\"{ser.name}_{d}\" for d in range(ser[\"N_DONORS\"])]\n",
    "    tmp[\"donor\"] = [d for d in range(ser[\"N_DONORS\"])]\n",
    "    #print('tmp', tmp.index, tmp.columns)\n",
    "    #ic(tmp.head())\n",
    "    return tmp.to_dict()\n",
    "\n",
    "\n",
    "applied_df = results_cond_df.apply(expand_df, axis=1)#, result_type=\"expand\")\n",
    "results_cond_don_df = pd.concat([pd.DataFrame(x[1]) for x in applied_df.items()], axis=0)\n",
    "\n",
    "\n",
    "### Multiplex cells size\n",
    "results_cond_don_df[\"ncells_demultiplex\"] = np.nan\n",
    "results_cond_don_df[\"ncells_demultiplex\"] = results_cond_don_df[\"ncells_demultiplex\"].astype('Int64')\n",
    "\n",
    "#for ind, val in results_cond_don_df.groupby([\"run\"]):\n",
    "#     curr_cells = pd.read_csv(join(val[\"indir\"].values[0], f\"anno_multiplex/gff_{val['gff'].values[0]}/se_cells_meta_labels.tsv\"),\n",
    "#                             sep=\"\\t\")\n",
    "for ind, val in results_donor_df.iterrows():    \n",
    "    curr_cells = pd.read_csv(join(val[\"indir\"], f\"anno_multiplex/gff_{val['gff']}/se_cells_meta_labels.tsv\"),\n",
    "                            sep=\"\\t\")\n",
    "    curr_cells = curr_cells.reset_index().rename({\"level_1\":\"cell\"},axis=1).set_index(\"cell\")\n",
    "    curr_sz = curr_cells.groupby([\"condition\", \"donor\"]).size()\n",
    "    for (cond, don), val2 in curr_sz.iteritems():\n",
    "        print(cond, don)\n",
    "        print(val2)\n",
    "        if don != \"None\":\n",
    "            nm = f\"{val['run']}_{cond}_{don}\"\n",
    "            results_cond_don_df.loc[nm, \"ncells_demultiplex\"] = val2"
   ]
  },
  {
   "cell_type": "code",
   "execution_count": null,
   "id": "c5be7cab",
   "metadata": {},
   "outputs": [],
   "source": []
  },
  {
   "cell_type": "markdown",
   "id": "55fe5105",
   "metadata": {},
   "source": [
    "## Save results"
   ]
  },
  {
   "cell_type": "code",
   "execution_count": null,
   "id": "8ac76b68",
   "metadata": {
    "scrolled": true
   },
   "outputs": [],
   "source": [
    "results_donor_df = results_donor_df.drop([\"indir\", \"anno_indir\", \"gff\"], axis=1)\n",
    "results_donor_df"
   ]
  },
  {
   "cell_type": "code",
   "execution_count": null,
   "id": "8653d115",
   "metadata": {
    "scrolled": true
   },
   "outputs": [],
   "source": [
    "results_cond_df = results_cond_df.drop([\"indir\", \"anno_indir\", \"cb_f\", \"filt_dir\", \"N_DONORS\", \"gff\"], axis=1)\n",
    "results_cond_df"
   ]
  },
  {
   "cell_type": "code",
   "execution_count": null,
   "id": "c77fd97e",
   "metadata": {
    "scrolled": true
   },
   "outputs": [],
   "source": [
    "results_cond_don_df = results_cond_don_df.drop([\"indir\", \"anno_indir\", \"cb_f\", \"filt_dir\", \"N_DONORS\", \"gff\"], axis=1)"
   ]
  },
  {
   "cell_type": "code",
   "execution_count": null,
   "id": "510ccd3f",
   "metadata": {},
   "outputs": [],
   "source": [
    "results_donor_df.to_csv(out_fs[\"summary_don\"])\n",
    "results_cond_df.to_csv(out_fs[\"summary_cond\"])\n",
    "results_cond_don_df.to_csv(out_fs[\"summary_don_cond\"])"
   ]
  },
  {
   "cell_type": "code",
   "execution_count": null,
   "id": "a5dd3a83",
   "metadata": {},
   "outputs": [],
   "source": []
  }
 ],
 "metadata": {
  "celltoolbar": "Tags",
  "kernelspec": {
   "display_name": "Python 3 (ipykernel)",
   "language": "python",
   "name": "python3"
  },
  "language_info": {
   "codemirror_mode": {
    "name": "ipython",
    "version": 3
   },
   "file_extension": ".py",
   "mimetype": "text/x-python",
   "name": "python",
   "nbconvert_exporter": "python",
   "pygments_lexer": "ipython3",
   "version": "3.7.12"
  }
 },
 "nbformat": 4,
 "nbformat_minor": 5
}
