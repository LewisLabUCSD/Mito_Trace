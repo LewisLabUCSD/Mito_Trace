{
 "cells": [
  {
   "cell_type": "code",
   "execution_count": 2,
   "id": "23c8b0fb",
   "metadata": {},
   "outputs": [],
   "source": [
    "import pandas as pd\n",
    "from os.path import join, dirname, basename\n",
    "import os\n",
    "import numpy as np\n",
    "from icecream import ic\n",
    "\n",
    "#import seaborn as sns"
   ]
  },
  {
   "cell_type": "code",
   "execution_count": 3,
   "id": "b3dc6b49",
   "metadata": {},
   "outputs": [],
   "source": [
    "# allExpmts_df = snakemake.params.allExpmts \n",
    "# allRuns_don_df = snakemake.params.allRuns_don_df\n",
    "# out_f = snakemake.output.cells #/data/Mito_Trace/output/aggregate/CHIP_aggr/results/clones/variants.init_knnRes.30/aggregate/clone_sizes.pdf\n",
    "# variants = snakemake.wildcards.variants\n",
    "# kparam = snakemake.wildcards.kparam\n",
    "\n",
    "#clone_method_dir = snakemake.params.clone_method_dir\n",
    "\n",
    "\n",
    "indirs = snakemake.params[0]\n",
    "out_f = snakemake.output.cells\n",
    "# kparam = 30\n",
    "# variants = \"init\"\n",
    "# output = \"\"\n",
    "#\n",
    "# clone_dirs = []\n",
    "# nuclear_dirs = []\n",
    "# condition_pileup_dirs = []\n",
    "# experiment_ids = []"
   ]
  },
  {
   "cell_type": "code",
   "execution_count": 4,
   "id": "61d7e1e5",
   "metadata": {
    "scrolled": false
   },
   "outputs": [],
   "source": [
    "indirs"
   ]
  },
  {
   "cell_type": "markdown",
   "id": "e717099e",
   "metadata": {},
   "outputs": [],
   "source": [
    "## Get number of cells each donor"
   ]
  },
  {
   "cell_type": "code",
   "execution_count": null,
   "id": "dcadb94b",
   "metadata": {
    "scrolled": true
   },
   "outputs": [],
   "source": [
    "results_d = []\n",
    "for curr_run in indirs:\n",
    "    print(curr_run)\n",
    "    curr = pd.read_csv(indirs[curr_run], sep=\"\\t\", index_col=0)\n",
    "    print(curr[\"ID\"].head())\n",
    "    if \"name\" not in curr.columns.values:\n",
    "        curr[\"name\"] = curr.apply(lambda x: f\"{x['donor']}_{x['lineage']}\", axis=1)\n",
    "    if \"ID\" not in curr.columns.values:\n",
    "        curr[\"ID\"] = curr.index\n",
    "#     curr[\"ID\"] = curr.apply(lambda x: curr_run + \"_\" + x.split(\"_\")[1]+\"_\" + x.split(\"_\")[0] if pd.isnull(x) else x,\n",
    "#                            axis=1)\n",
    "    curr[\"name\"] = curr.apply(lambda x: f\"{curr_run}_{x['name']}\", axis=1)\n",
    "    \n",
    "    curr[\"donor\"] = curr[\"donor\"].apply(lambda x: f\"{curr_run}_{x}\")\n",
    "    curr[\"run\"] = curr_run\n",
    "    \n",
    "    curr = curr.loc[~curr[\"ID\"].isnull()]\n",
    "    curr.index = curr[\"ID\"].apply(lambda x: curr_run + \"_\" + x.split(\"_\")[1]+\"_\" + x.split(\"_\")[0])\n",
    "    #curr[\"ID\"] = curr[\"ID\"].apply(lambda x: f'{x}_{curr_run}')\n",
    "    curr.index.name = \"cell\"\n",
    "    results_d.append(curr)\n",
    "    \n",
    "results_df = pd.concat(results_d)\n",
    "results_df"
   ]
  },
  {
   "cell_type": "code",
   "execution_count": null,
   "id": "35b054d8",
   "metadata": {},
   "outputs": [],
   "source": [
    "results_df.to_csv(out_f, sep=\"\\t\")"
   ]
  },
  {
   "cell_type": "code",
   "execution_count": null,
   "id": "a5dd3a83",
   "metadata": {},
   "outputs": [],
   "source": []
  }
 ],
 "metadata": {
  "celltoolbar": "Tags",
  "kernelspec": {
   "display_name": "Python 3 (ipykernel)",
   "language": "python",
   "name": "python3"
  },
  "language_info": {
   "codemirror_mode": {
    "name": "ipython",
    "version": 3
   },
   "file_extension": ".py",
   "mimetype": "text/x-python",
   "name": "python",
   "nbconvert_exporter": "python",
   "pygments_lexer": "ipython3",
   "version": "3.7.12"
  }
 },
 "nbformat": 4,
 "nbformat_minor": 5
}
