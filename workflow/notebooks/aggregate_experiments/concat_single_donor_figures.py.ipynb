{
 "cells": [
  {
   "cell_type": "code",
   "execution_count": 1,
   "id": "0fd76503",
   "metadata": {
    "scrolled": false
   },
   "outputs": [
    {
     "name": "stdout",
     "output_type": "stream",
     "text": [
      "fig_utils from mplh\n"
     ]
    }
   ],
   "source": [
    "from os.path import join, exists, dirname\n",
    "from glob import glob\n",
    "import pickle\n",
    "import mplh.cluster_help as ch\n",
    "import mplh.fig_utils as fu\n",
    "import numpy as np\n",
    "import os\n",
    "import numpy as np\n",
    "from scipy import sparse\n",
    "from scipy.io import mmread\n",
    "import matplotlib.pyplot as plt\n",
    "from scipy.stats import hypergeom\n",
    "\n",
    "import pandas as pd\n",
    "import seaborn as sns\n",
    "np.set_printoptions(formatter={'float': lambda x: format(x, '.5f')})\n",
    "\n",
    "from svgutils.compose import *\n",
    "import svgutils.transform as sg\n",
    "import sys "
   ]
  },
  {
   "cell_type": "code",
   "execution_count": 2,
   "id": "9b43e1b0",
   "metadata": {},
   "outputs": [],
   "source": [
    "tmp_f = \"/data/Mito_Trace/data/processed/figures/empty.svg\""
   ]
  },
  {
   "cell_type": "code",
   "execution_count": 24,
   "id": "02b1d526",
   "metadata": {
    "tags": [
     "parameters"
    ]
   },
   "outputs": [],
   "source": [
    "# outdir = snakemake.params.outdir\n",
    "# clone_var_dirs = snakemake.params.clone_var \n",
    "# clcounts_dirs = snakemake.params.clcounts\n",
    "# dendro_dirs = snakemake.params.dendro \n",
    "# vaf_dirs = snakemake.params.vaf\n",
    "\n",
    "\n",
    "indir = \"/data/Mito_Trace/output/pipeline/v04/CHIP_b1/MTBlacklist_A2/data/merged/MT/cellr_True/numread_200/filters/minC10_minR50_topN0_hetT0.001_hetC10_hetCount5_bq20/mgatk/vireoIn/\"\n",
    "outdir = \"/data/Mito_Trace/output/pipeline/v04/CHIP_b1/MTBlacklist_A2/data/merged/MT/cellr_True/numread_200/filters/minC10_minR50_topN0_hetT0.001_hetC10_hetCount5_bq20/mgatk/vireoIn/clones/variants_init/knn/kparam_30/comparisons/\"\n",
    "donor = 0\n",
    "gff_id = \"gff_A2_black\"\n",
    "prm_variants = \"variants_init\"\n",
    "prm_clone_k = \"kparam_30\"\n",
    "# prms_enriched_barcode = [\"objs_standard_constraints_None\", \"objs_standard_constraints_min_both_pct_0.5\",\n",
    "#                          \"objs_high_unique_constraints_None\", \"objs_high_unique_constraints_min_both_pct_0.5\"]\n",
    "prms_enriched_barcode = \"objs_standard_constraints_None;objs_standard_constraints_min_both_pct_0.5;objs_high_unique_constraints_None;objs_high_unique_constraints_min_both_pct_0.5\"\n",
    "prm_opt_top = \"single_clones/donor0/cloneMethod_variants_init_knn_resolution_30/clonalShift_method_clones/top/\"\n",
    "\n",
    "#aggr_indir = \"/data/Mito_Trace/output/aggregate/CHIP_aggr/v04/data/clone_var/variants.init_knnRes.30_objs_standard/aggregate/annotation/\"\n",
    "\n",
    "#variants_dirs = [\"variants_init\", \"variants_simpleUnion\", \"variants_preFilterImpute\"]\n",
    "\n",
    "\n",
    "\n",
    "#enriched_barcode_weights = [\"weights_standard\", \"weights_high_unique_None\"]\n",
    "#enriched_barcode_constraints = [\"None\", \"both_0.5\"]\n",
    "\n",
    "#top_clones = [\"top\", \"repr\"]\n",
    "#n_donors = 2\n",
    "\n"
   ]
  },
  {
   "cell_type": "code",
   "execution_count": 25,
   "id": "9928e524",
   "metadata": {
    "scrolled": false
   },
   "outputs": [
    {
     "data": {
      "text/plain": [
       "['objs_standard_constraints_None',\n",
       " 'objs_standard_constraints_min_both_pct_0.5',\n",
       " 'objs_high_unique_constraints_None',\n",
       " 'objs_high_unique_constraints_min_both_pct_0.5']"
      ]
     },
     "execution_count": 25,
     "metadata": {},
     "output_type": "execute_result"
    }
   ],
   "source": [
    "prms_enriched_barcode = prms_enriched_barcode.split(\"...\")\n",
    "prms_enriched_barcode"
   ]
  },
  {
   "cell_type": "code",
   "execution_count": 4,
   "id": "15fd4f71",
   "metadata": {},
   "outputs": [],
   "source": [
    "method_names = {\"clone\":\"knn\"}\n",
    "for i in prms_enriched_barcode:\n",
    "    curr_obj, curr_cnstr =  i.split(\"constraints\")\n",
    "    curr_cnstr  = f\"constraints {curr_cnstr.replace('_', ' ')}\"\n",
    "    curr_obj = curr_obj.split(\"objs_\")[-1].strip(\"_\")\n",
    "    method_names[i] = f\"{curr_obj}\\n{curr_cnstr}\"\n",
    "    #method_names[i] = i.split(\"constraints\")[-1]"
   ]
  },
  {
   "cell_type": "code",
   "execution_count": 5,
   "id": "bce76e0d",
   "metadata": {},
   "outputs": [
    {
     "data": {
      "text/plain": [
       "{'clone': 'knn',\n",
       " 'objs_standard_constraints_None': 'standard\\nconstraints  None',\n",
       " 'objs_standard_constraints_min_both_pct_0.5': 'standard\\nconstraints  min both pct 0.5',\n",
       " 'objs_high_unique_constraints_None': 'high_unique\\nconstraints  None',\n",
       " 'objs_high_unique_constraints_min_both_pct_0.5': 'high_unique\\nconstraints  min both pct 0.5'}"
      ]
     },
     "execution_count": 5,
     "metadata": {},
     "output_type": "execute_result"
    }
   ],
   "source": [
    "method_names"
   ]
  },
  {
   "cell_type": "code",
   "execution_count": 6,
   "id": "cf743c70",
   "metadata": {
    "scrolled": false
   },
   "outputs": [
    {
     "data": {
      "text/plain": [
       "'/data/Mito_Trace/output/pipeline/v04/CHIP_b1/MTBlacklist_A2/data/merged/MT/cellr_True/numread_200/filters/minC10_minR50_topN0_hetT0.001_hetC10_hetCount5_bq20/mgatk/vireoIn/clones/variants_init/knn/kparam_30'"
      ]
     },
     "execution_count": 6,
     "metadata": {},
     "output_type": "execute_result"
    }
   ],
   "source": [
    "clone_dir = join(indir, \"clones\", prm_variants, \"knn\", prm_clone_k)\n",
    "dendro_dir = join(clone_dir, \"barcodes/btwnClones_dendro_dt_dynamic\")\n",
    "anclo_dir = join(clone_dir, gff_id, \"annotation_clones\")\n",
    "clone_count_dir = join(anclo_dir, \"clone_counts\")\n",
    "top_dir = join(indir, prm_opt_top)\n",
    "clone_dir"
   ]
  },
  {
   "cell_type": "code",
   "execution_count": 7,
   "id": "6ad30d49",
   "metadata": {},
   "outputs": [
    {
     "data": {
      "text/plain": [
       "'/data/Mito_Trace/output/pipeline/v04/CHIP_b1/MTBlacklist_A2/data/merged/MT/cellr_True/numread_200/filters/minC10_minR50_topN0_hetT0.001_hetC10_hetCount5_bq20/mgatk/vireoIn/clones/variants_init/knn/kparam_30/barcodes/btwnClones_dendro_dt_dynamic'"
      ]
     },
     "execution_count": 7,
     "metadata": {},
     "output_type": "execute_result"
    }
   ],
   "source": [
    "dendro_dir"
   ]
  },
  {
   "cell_type": "code",
   "execution_count": 8,
   "id": "9dc79c02",
   "metadata": {
    "scrolled": true
   },
   "outputs": [
    {
     "data": {
      "text/plain": [
       "{'clone_dir': '/data/Mito_Trace/output/pipeline/v04/CHIP_b1/MTBlacklist_A2/data/merged/MT/cellr_True/numread_200/filters/minC10_minR50_topN0_hetT0.001_hetC10_hetCount5_bq20/mgatk/vireoIn/enriched_barcodes/objs_high_unique_constraints_min_both_pct_0.5/clones/variants_init/knn/kparam_30',\n",
       " 'dendro_dir': '/data/Mito_Trace/output/pipeline/v04/CHIP_b1/MTBlacklist_A2/data/merged/MT/cellr_True/numread_200/filters/minC10_minR50_topN0_hetT0.001_hetC10_hetCount5_bq20/mgatk/vireoIn/enriched_barcodes/objs_high_unique_constraints_min_both_pct_0.5/clones/variants_init/knn/kparam_30/barcodes/btwnClones_dendro',\n",
       " 'top': '/data/Mito_Trace/output/pipeline/v04/CHIP_b1/MTBlacklist_A2/data/merged/MT/cellr_True/numread_200/filters/minC10_minR50_topN0_hetT0.001_hetC10_hetCount5_bq20/mgatk/vireoIn/enriched_barcodes/objs_high_unique_constraints_min_both_pct_0.5/single_clones/donor0/cloneMethod_variants_init_knn_resolution_30/clonalShift_method_clones/top/',\n",
       " 'anclo_dir': '/data/Mito_Trace/output/pipeline/v04/CHIP_b1/MTBlacklist_A2/data/merged/MT/cellr_True/numread_200/filters/minC10_minR50_topN0_hetT0.001_hetC10_hetCount5_bq20/mgatk/vireoIn/enriched_barcodes/objs_high_unique_constraints_min_both_pct_0.5/clones/variants_init/knn/kparam_30/annotation_clones/',\n",
       " 'clone_count_dir': '/data/Mito_Trace/output/pipeline/v04/CHIP_b1/MTBlacklist_A2/data/merged/MT/cellr_True/numread_200/filters/minC10_minR50_topN0_hetT0.001_hetC10_hetCount5_bq20/mgatk/vireoIn/enriched_barcodes/objs_high_unique_constraints_min_both_pct_0.5/clones/variants_init/knn/kparam_30/annotation_clones/clone_counts/donor0/'}"
      ]
     },
     "execution_count": 8,
     "metadata": {},
     "output_type": "execute_result"
    }
   ],
   "source": [
    "opt_dirs = {}\n",
    "for i in prms_enriched_barcode:\n",
    "    opt_dirs[i] = {}\n",
    "    #opt_dirs[i][\"clone_dir\"] #clones/variants_init/knn/kparam_30/barcodes/btwnClones_dendro\n",
    "    opt_dirs[i][\"clone_dir\"] = join(indir, \"enriched_barcodes\", i, \"clones\", prm_variants, \"knn\", prm_clone_k)\n",
    "    opt_dirs[i][\"dendro_dir\"] = join(opt_dirs[i][\"clone_dir\"], \"barcodes/btwnClones_dendro\")\n",
    "    \n",
    "    opt_dirs[i][\"top\"] = join(indir, \"enriched_barcodes\", i, prm_opt_top)\n",
    "    \n",
    "    opt_dirs[i][\"anclo_dir\"] = join(opt_dirs[i][\"clone_dir\"], f\"annotation_clones/\")\n",
    "    opt_dirs[i][\"clone_count_dir\"] = join(opt_dirs[i][\"anclo_dir\"], f\"clone_counts/donor{donor}/\")\n",
    "    opt_dirs[i][\"clone_dir\"]\n",
    "opt_dirs[i]"
   ]
  },
  {
   "cell_type": "code",
   "execution_count": 9,
   "id": "bcd81937",
   "metadata": {},
   "outputs": [],
   "source": [
    "\n",
    "\"\"\"\n",
    "based on https://neuroscience.telenczuk.pl/?p=331\n",
    "\"\"\"\n",
    "\n",
    "import svgutils.transform as sg\n",
    "\n",
    "\n",
    "class Svg(object):\n",
    "    \"svg files with a data object (the svg), width, height and coordinates\"\n",
    "\n",
    "    def __init__(self, data, dim, coords, name, global_scale=0.5):\n",
    "        self.data = data\n",
    "        self.width = dim[0]*global_scale\n",
    "        self.height = dim[1]*global_scale\n",
    "        self.x = coords[0]\n",
    "        self.y = coords[1]\n",
    "        self.global_scale = global_scale\n",
    "        self.name = name\n",
    "\n",
    "    def scale_width_to_reference(self, reference_width):\n",
    "        \"\"\"Proportionally scale the image to a given width.\"\"\"\n",
    "        scalings_factor = reference_width / self.width\n",
    "        self.data.moveto(0, 0)#, scale=scalings_factor)\n",
    "        self.width = self.width * scalings_factor\n",
    "        self.height = self.height * scalings_factor\n",
    "\n",
    "    def scale_height_to_reference(self, reference_height):\n",
    "        \"\"\"Proportionally scale the image to a given height.\"\"\"\n",
    "        scalings_factor = reference_height / self.height\n",
    "        self.data.moveto(0, 0)#, scale=scalings_factor)\n",
    "        self.width = self.width * scalings_factor\n",
    "        self.height = self.height * scalings_factor\n",
    "        \n",
    "    def scale_by_factor(self, scalings_factor):\n",
    "        \"\"\"Proportionally scale image by a scaling factor.\"\"\"\n",
    "        self.data.moveto(0, 0, scale=scalings_factor)\n",
    "        self.width = self.width * scalings_factor\n",
    "        self.height = self.height * scalings_factor\n",
    "\n",
    "    def move(self, x, y):\n",
    "        \"\"\"Move the coordinates of an image.\"\"\"\n",
    "        self.data.moveto(x, y)\n",
    "        self.x = x\n",
    "        self.y = y\n",
    "\n",
    "\n",
    "def get_size(svg_file):\n",
    "    \"\"\"Naively parse the svg text file to get the width and height.\"\"\"\n",
    "    with open(svg_file) as svg:\n",
    "        for line in svg:\n",
    "            if line.startswith('<svg'):\n",
    "                paramdict = {e.split('=\"')[0]: e.split('=\"')[1] for e in line[5:-2].split('\" ')}\n",
    "                break\n",
    "    print(paramdict[\"width\"])\n",
    "    print(\"height\")\n",
    "    print(paramdict[\"height\"])\n",
    "    return int(np.ceil(float(paramdict[\"width\"].replace('pt', '').replace('\"', '')))), int(np.ceil(float(paramdict[\"height\"].replace('pt', '').replace('\"', ''))))\n",
    "\n",
    "\n",
    "\n",
    "def rescale_height(svgs, curr_keys, ref_key):\n",
    "    \"\"\"Change the dimensions of the images to the desired combinations.\"\"\"\n",
    "    for key in curr_keys:\n",
    "        svgs[key].scale_height_to_reference(svgs[ref_key].height)\n",
    "    #assert svgs[ref_key].height == svgs[curr_keys[0]].height == svgs[curr_keys[-1]].height\n",
    "\n",
    "\n",
    "def rescale_width(svgs, curr_keys, ref_key):\n",
    "    \"\"\"Change the dimensions of the images to the desired combinations.\"\"\"\n",
    "    for key in curr_keys:\n",
    "        svgs[key].scale_width_to_reference(svgs[ref_key].width)\n",
    "    #assert svgs[ref_key].height == svgs[curr_keys[0]].height == svgs[curr_keys[-1]].height\n",
    "\n",
    "\n",
    "def change_positions(df, svgs, widths, heights):\n",
    "    \"\"\"Move the images to the desired positions.\"\"\"\n",
    "    for i_row, row in enumerate(df.index):\n",
    "        for i_col, col in enumerate(df.columns):\n",
    "            curr = df.loc[row, col].split(\".svg\")[0]\n",
    "            svgs[curr].move(sum(widths[:i_col]), sum(heights[:i_row]))\n",
    "    \n",
    "\n",
    "def letter_annotations(svgs, df=None, only_grid_titles=True, figure_names=None, transposed=False):\n",
    "    if only_grid_titles:\n",
    "        all_texts = []\n",
    "        if transposed: # make donors the columns and figure_names the rows\n",
    "            for ind in df.index:\n",
    "                nm = figure_names[ind]\n",
    "                value = svgs[df.loc[ind].iloc[0].split(\".svg\")[0]]\n",
    "                all_texts.append(sg.TextElement(value.x, value.y, nm, size=10, weight=\"bold\")) \n",
    "            for col in df.columns:\n",
    "                value = svgs[df[col].iloc[0].split(\".svg\")[0]]\n",
    "                all_texts.append(sg.TextElement(value.x, value.y-20, col, size=10, weight=\"bold\"))\n",
    "                \n",
    "        else:\n",
    "            for ind in df.index:\n",
    "                value = svgs[df.loc[ind].iloc[0].split(\".svg\")[0]]\n",
    "                all_texts.append(sg.TextElement(value.x, value.y, ind, size=10, weight=\"bold\"))\n",
    "            for col in df.columns:\n",
    "                nm = figure_names[col]\n",
    "                value = svgs[df[col].iloc[0].split(\".svg\")[0]]\n",
    "                all_texts.append(sg.TextElement(value.x, value.y-20, nm, size=10, weight=\"bold\"))    \n",
    "        return all_texts\n",
    "    \"\"\"Add letters based on the location of the images.\"\"\"\n",
    "    return [sg.TextElement(value.x, value.y, value.name, size=10, weight=\"bold\")\n",
    "            for key, value in svgs.items()]\n",
    "#     return [sg.TextElement(value.x + 10, value.y + 15, value.name, size=10, weight=\"bold\")\n",
    "#             for key, value in svgs.items()]\n",
    "\n",
    "\n",
    "def files_to_svg_dict(df, scale=0.5, verbose=False):\n",
    "    \"\"\"Convert a list of images to a dictionary.\n",
    "    Mapping the image basename to the Svg class instance,\n",
    "    setting the dimensions based on sizes and coordinates (0,0) by default\n",
    "    \"\"\"\n",
    "    out = {}\n",
    "    for row in df.index:\n",
    "        for col in df.columns:\n",
    "            s = df.loc[row, col]\n",
    "            key = df.loc[row, col].split(\".svg\")[0]\n",
    "            name = f\"{row} {col.replace('dendro', '').replace('.svg', '')}\"\n",
    "            if verbose:\n",
    "                print(s)\n",
    "            if not exists(s):\n",
    "                s = tmp_f\n",
    "            out[key] = Svg(\n",
    "                data=sg.fromfile(s).getroot().scale(scale),\n",
    "                dim=get_size(s),\n",
    "                coords=(0, 0),\n",
    "                global_scale=scale,\n",
    "                name=name)            \n",
    "    return out\n",
    "\n",
    "\n",
    "\n",
    "\n",
    "def main_df(df, out_f, scale=0.25, figure_names=None, to_pdf=False):\n",
    "    svgs = files_to_svg_dict(df, scale=scale)#df.values().flatten())\n",
    "    \n",
    "    for don, val in df.iterrows():\n",
    "        curr_init_files = []\n",
    "        curr_ref = val.iloc[0].split('.svg')[0] #svgs[val.iloc[0].split('.svg')[0]]\n",
    "        curr_keys = [x.split('.svg')[0] for x in val.values] \n",
    "        rescale_height(svgs, curr_keys, curr_ref)\n",
    "    \n",
    "    col_max_widths = []\n",
    "\n",
    "    for col in df.columns:\n",
    "        curr_col_max = 0\n",
    "        for ind in df.index:\n",
    "            tmp_width = svgs[df.loc[ind, col].split(\".svg\")[0]].width\n",
    "            if tmp_width > curr_col_max:\n",
    "                curr_col_max = tmp_width\n",
    "        col_max_widths.append(curr_col_max)\n",
    "\n",
    "    row_max_heights = [] #should be the same in theory  \n",
    "    for ind in df.index:\n",
    "        curr_row_max = 0\n",
    "        for col in df.columns:\n",
    "            tmp_height = svgs[df.loc[ind, col].split(\".svg\")[0]].height\n",
    "            if tmp_height > curr_row_max:\n",
    "                curr_row_max = tmp_height\n",
    "        row_max_heights.append(curr_row_max)\n",
    "    \n",
    "    change_positions(df, svgs, col_max_widths, row_max_heights)\n",
    "    \n",
    "    full_width = sum(col_max_widths) #[svgs[i].width for i in ['A', 'E']])\n",
    "    full_height = sum(row_max_heights) #[svgs[i].height for i in ['A', 'B', 'C', 'D']])\n",
    "    fig = sg.SVGFigure(full_width+20, full_height+20)\n",
    "    text = letter_annotations(svgs, df=df, figure_names=figure_names)\n",
    "    fig.append([s.data for s in svgs.values()])\n",
    "    fig.append(text)\n",
    "    fig.save(out_f)\n",
    " \n",
    "    cmd = f'inkscape --file={out_f} -d 300 --export-area-drawing --without-gui --export-png={out_f.replace(\".svg\", \".png\")}' # --export-area-drawing --without-gui --export-pdf=output.pdf'\n",
    "    print(cmd)\n",
    "    !{cmd}\n",
    "    \n",
    "    if to_pdf:\n",
    "        cmd = f'inkscape --file={out_f} --export-area-drawing --without-gui --export-pdf={out_f.replace(\"svg\", \"pdf\")} '\n",
    "        print(cmd)\n",
    "        !{cmd}\n",
    "    \n",
    "    \n",
    "\n",
    "def main_df_transpose(df, out_f, scale=0.25, figure_names=None, to_pdf=False, to_transpose=True):\n",
    "    \n",
    "    svgs = files_to_svg_dict(df, scale=scale)#df.values().flatten())\n",
    "    \n",
    "    df = df.transpose()\n",
    "    for don, val in df.iterrows():\n",
    "        curr_init_files = []\n",
    "        tmp = 0\n",
    "        loop = True\n",
    "        while loop and tmp <= len(val):\n",
    "            if val.iloc[tmp] is not None:\n",
    "                loop = False\n",
    "            tmp += 1\n",
    "        curr_ref = val.iloc[tmp].split('.svg')[0] #svgs[val.iloc[0].split('.svg')[0]]\n",
    "        curr_keys = [x.split('.svg')[0] for x in val.values] \n",
    "        rescale_width(svgs, curr_keys, curr_ref)\n",
    "    \n",
    "    col_max_widths = []\n",
    "    for col in df.columns:\n",
    "        curr_col_max = 0\n",
    "        for ind in df.index:\n",
    "            if df.loc[ind,col] is not None:\n",
    "                tmp_width = svgs[df.loc[ind, col].split(\".svg\")[0]].width\n",
    "                if tmp_width > curr_col_max:\n",
    "                    curr_col_max = tmp_width\n",
    "        col_max_widths.append(curr_col_max)\n",
    "\n",
    "    row_max_heights = [] #should be the same in theory  \n",
    "    for ind in df.index:\n",
    "        curr_row_max = 0\n",
    "        for col in df.columns:\n",
    "            tmp_height = svgs[df.loc[ind, col].split(\".svg\")[0]].height\n",
    "            if tmp_height > curr_row_max:\n",
    "                curr_row_max = tmp_height\n",
    "        row_max_heights.append(curr_row_max)\n",
    "    \n",
    "    change_positions(df, svgs, col_max_widths, row_max_heights)\n",
    "    \n",
    "    full_width = sum(col_max_widths) #[svgs[i].width for i in ['A', 'E']])\n",
    "    full_height = sum(row_max_heights) #[svgs[i].height for i in ['A', 'B', 'C', 'D']])\n",
    "    fig = sg.SVGFigure(full_width+20, full_height+20)\n",
    "    text = letter_annotations(svgs, df=df, figure_names=figure_names, transposed=True)\n",
    "    fig.append([s.data for s in svgs.values()])\n",
    "    fig.append(text)\n",
    "    fig.save(out_f)\n",
    " \n",
    "    cmd = f'inkscape --file={out_f} -d 300 --export-area-drawing --without-gui --export-png={out_f.replace(\".svg\", \".png\")}' # --export-area-drawing --without-gui --export-pdf=output.pdf'\n",
    "    print(cmd)\n",
    "    !{cmd}\n",
    "    \n",
    "    if to_pdf:\n",
    "        cmd = f'inkscape --file={out_f} --export-area-drawing --without-gui --export-pdf={out_f.replace(\"svg\", \"pdf\")} '\n",
    "        print(cmd)\n",
    "        !{cmd}\n",
    "    \n"
   ]
  },
  {
   "cell_type": "code",
   "execution_count": 10,
   "id": "024f60d7",
   "metadata": {},
   "outputs": [],
   "source": [
    "#enriched_barcodes/objs_high_cells/clones/variants_init/knn/kparam_30"
   ]
  },
  {
   "cell_type": "code",
   "execution_count": 11,
   "id": "454925c6",
   "metadata": {
    "scrolled": true
   },
   "outputs": [
    {
     "data": {
      "text/plain": [
       "{'clone': 'knn',\n",
       " 'objs_standard_constraints_None': 'standard\\nconstraints  None',\n",
       " 'objs_standard_constraints_min_both_pct_0.5': 'standard\\nconstraints  min both pct 0.5',\n",
       " 'objs_high_unique_constraints_None': 'high_unique\\nconstraints  None',\n",
       " 'objs_high_unique_constraints_min_both_pct_0.5': 'high_unique\\nconstraints  min both pct 0.5'}"
      ]
     },
     "execution_count": 11,
     "metadata": {},
     "output_type": "execute_result"
    }
   ],
   "source": [
    "method_names"
   ]
  },
  {
   "cell_type": "markdown",
   "id": "5c26d02d",
   "metadata": {},
   "source": [
    "### Dendro"
   ]
  },
  {
   "cell_type": "code",
   "execution_count": 12,
   "id": "0fa49f3b",
   "metadata": {
    "scrolled": true
   },
   "outputs": [
    {
     "data": {
      "text/html": [
       "<div>\n",
       "<style scoped>\n",
       "    .dataframe tbody tr th:only-of-type {\n",
       "        vertical-align: middle;\n",
       "    }\n",
       "\n",
       "    .dataframe tbody tr th {\n",
       "        vertical-align: top;\n",
       "    }\n",
       "\n",
       "    .dataframe thead th {\n",
       "        text-align: right;\n",
       "    }\n",
       "</style>\n",
       "<table border=\"1\" class=\"dataframe\">\n",
       "  <thead>\n",
       "    <tr style=\"text-align: right;\">\n",
       "      <th></th>\n",
       "      <th>donor0.dendro.NoCondition.DP.svg</th>\n",
       "      <th>donor0.dendro.NoCondition.max2.AF.svg</th>\n",
       "    </tr>\n",
       "  </thead>\n",
       "  <tbody>\n",
       "    <tr>\n",
       "      <th>knn</th>\n",
       "      <td>/data/Mito_Trace/output/pipeline/v04/CHIP_b1/M...</td>\n",
       "      <td>/data/Mito_Trace/output/pipeline/v04/CHIP_b1/M...</td>\n",
       "    </tr>\n",
       "    <tr>\n",
       "      <th>standard\\nconstraints  None</th>\n",
       "      <td>/data/Mito_Trace/output/pipeline/v04/CHIP_b1/M...</td>\n",
       "      <td>/data/Mito_Trace/output/pipeline/v04/CHIP_b1/M...</td>\n",
       "    </tr>\n",
       "    <tr>\n",
       "      <th>standard\\nconstraints  min both pct 0.5</th>\n",
       "      <td>/data/Mito_Trace/output/pipeline/v04/CHIP_b1/M...</td>\n",
       "      <td>/data/Mito_Trace/output/pipeline/v04/CHIP_b1/M...</td>\n",
       "    </tr>\n",
       "    <tr>\n",
       "      <th>high_unique\\nconstraints  None</th>\n",
       "      <td>/data/Mito_Trace/output/pipeline/v04/CHIP_b1/M...</td>\n",
       "      <td>/data/Mito_Trace/output/pipeline/v04/CHIP_b1/M...</td>\n",
       "    </tr>\n",
       "    <tr>\n",
       "      <th>high_unique\\nconstraints  min both pct 0.5</th>\n",
       "      <td>/data/Mito_Trace/output/pipeline/v04/CHIP_b1/M...</td>\n",
       "      <td>/data/Mito_Trace/output/pipeline/v04/CHIP_b1/M...</td>\n",
       "    </tr>\n",
       "  </tbody>\n",
       "</table>\n",
       "</div>"
      ],
      "text/plain": [
       "                                                             donor0.dendro.NoCondition.DP.svg  \\\n",
       "knn                                         /data/Mito_Trace/output/pipeline/v04/CHIP_b1/M...   \n",
       "standard\\nconstraints  None                 /data/Mito_Trace/output/pipeline/v04/CHIP_b1/M...   \n",
       "standard\\nconstraints  min both pct 0.5     /data/Mito_Trace/output/pipeline/v04/CHIP_b1/M...   \n",
       "high_unique\\nconstraints  None              /data/Mito_Trace/output/pipeline/v04/CHIP_b1/M...   \n",
       "high_unique\\nconstraints  min both pct 0.5  /data/Mito_Trace/output/pipeline/v04/CHIP_b1/M...   \n",
       "\n",
       "                                                        donor0.dendro.NoCondition.max2.AF.svg  \n",
       "knn                                         /data/Mito_Trace/output/pipeline/v04/CHIP_b1/M...  \n",
       "standard\\nconstraints  None                 /data/Mito_Trace/output/pipeline/v04/CHIP_b1/M...  \n",
       "standard\\nconstraints  min both pct 0.5     /data/Mito_Trace/output/pipeline/v04/CHIP_b1/M...  \n",
       "high_unique\\nconstraints  None              /data/Mito_Trace/output/pipeline/v04/CHIP_b1/M...  \n",
       "high_unique\\nconstraints  min both pct 0.5  /data/Mito_Trace/output/pipeline/v04/CHIP_b1/M...  "
      ]
     },
     "execution_count": 12,
     "metadata": {},
     "output_type": "execute_result"
    }
   ],
   "source": [
    "dendro_files = [f\"donor{donor}.dendro.NoCondition.DP.svg\", f\"donor{donor}.dendro.NoCondition.max2.AF.svg\"]\n",
    "\n",
    "dendro_file_names = {x: x.split(\".svg\")[0] for x in dendro_files}\n",
    "\n",
    "\n",
    "all_dendro_files = pd.DataFrame(index = [\"clone\"] + list(opt_dirs.keys()), columns = dendro_files)\n",
    "\n",
    "all_dendro_files.loc[\"clone\"] = [join(dendro_dir,dendro_files[0]), join(dendro_dir, dendro_files[1])]\n",
    "\n",
    "for i in opt_dirs:\n",
    "    all_dendro_files.loc[i] = [join(opt_dirs[i][\"dendro_dir\"], dendro_files[0]), \n",
    "                            join(opt_dirs[i][\"dendro_dir\"], dendro_files[1])]\n",
    "\n",
    "all_dendro_files.index = all_dendro_files.index.map(method_names)\n",
    "all_dendro_files"
   ]
  },
  {
   "cell_type": "code",
   "execution_count": 13,
   "id": "b78e6aa1",
   "metadata": {
    "scrolled": true
   },
   "outputs": [
    {
     "name": "stdout",
     "output_type": "stream",
     "text": [
      "720pt\n",
      "height\n",
      "720pt\n",
      "720pt\n",
      "height\n",
      "720pt\n",
      "720pt\n",
      "height\n",
      "720pt\n",
      "720pt\n",
      "height\n",
      "720pt\n",
      "720pt\n",
      "height\n",
      "720pt\n",
      "720pt\n",
      "height\n",
      "720pt\n",
      "720pt\n",
      "height\n",
      "720pt\n",
      "720pt\n",
      "height\n",
      "720pt\n",
      "720pt\n",
      "height\n",
      "720pt\n",
      "720pt\n",
      "height\n",
      "720pt\n",
      "inkscape --file=/data/Mito_Trace/output/pipeline/v04/CHIP_b1/MTBlacklist_A2/data/merged/MT/cellr_True/numread_200/filters/minC10_minR50_topN0_hetT0.001_hetC10_hetCount5_bq20/mgatk/vireoIn/clones/variants_init/knn/kparam_30/comparisons/clones_dendro.svg -d 300 --export-area-drawing --without-gui --export-png=/data/Mito_Trace/output/pipeline/v04/CHIP_b1/MTBlacklist_A2/data/merged/MT/cellr_True/numread_200/filters/minC10_minR50_topN0_hetT0.001_hetC10_hetCount5_bq20/mgatk/vireoIn/clones/variants_init/knn/kparam_30/comparisons/clones_dendro.png\n",
      "DPI: 300\n",
      "Background RRGGBBAA: ffffff00\n",
      "Area -2.39906:-260:947.861:127.598 exported to 2970 x 1211 pixels (300 dpi)\n",
      "Bitmap saved as: /data/Mito_Trace/output/pipeline/v04/CHIP_b1/MTBlacklist_A2/data/merged/MT/cellr_True/numread_200/filters/minC10_minR50_topN0_hetT0.001_hetC10_hetCount5_bq20/mgatk/vireoIn/clones/variants_init/knn/kparam_30/comparisons/clones_dendro.png\n"
     ]
    }
   ],
   "source": [
    "main_df_transpose(all_dendro_files, join(outdir, \"clones_dendro.svg\"), scale=0.25, figure_names=dendro_file_names)"
   ]
  },
  {
   "cell_type": "markdown",
   "id": "48afde5c",
   "metadata": {},
   "source": [
    "## VAF"
   ]
  },
  {
   "cell_type": "code",
   "execution_count": 14,
   "id": "d4d43852",
   "metadata": {
    "scrolled": false
   },
   "outputs": [
    {
     "name": "stdout",
     "output_type": "stream",
     "text": [
      "1664.921875\n",
      "height\n",
      "1500.6875\"\n",
      "626.040625pt\n",
      "height\n",
      "2998.414062pt\n",
      "1664.83711\n",
      "height\n",
      "1501.7203125\"\n",
      "626.040625pt\n",
      "height\n",
      "1235.854062pt\n",
      "1656.8617199999999\n",
      "height\n",
      "1501.7203125\"\n",
      "626.040625pt\n",
      "height\n",
      "1529.614062pt\n",
      "1664.83711\n",
      "height\n",
      "1501.7203125\"\n",
      "626.040625pt\n",
      "height\n",
      "1235.854062pt\n",
      "1656.8617199999999\n",
      "height\n",
      "1501.7203125\"\n",
      "626.040625pt\n",
      "height\n",
      "1529.614062pt\n",
      "inkscape --file=/data/Mito_Trace/output/pipeline/v04/CHIP_b1/MTBlacklist_A2/data/merged/MT/cellr_True/numread_200/filters/minC10_minR50_topN0_hetT0.001_hetC10_hetCount5_bq20/mgatk/vireoIn/clones/variants_init/knn/kparam_30/comparisons/clones_barcodes.svg -d 300 --export-area-drawing --without-gui --export-png=/data/Mito_Trace/output/pipeline/v04/CHIP_b1/MTBlacklist_A2/data/merged/MT/cellr_True/numread_200/filters/minC10_minR50_topN0_hetT0.001_hetC10_hetCount5_bq20/mgatk/vireoIn/clones/variants_init/knn/kparam_30/comparisons/clones_barcodes.png\n",
      "DPI: 300\n",
      "Background RRGGBBAA: ffffff00\n",
      "Area 0:-1026.92:2079.22:127.598 exported to 6498 x 3608 pixels (300 dpi)\n",
      "Bitmap saved as: /data/Mito_Trace/output/pipeline/v04/CHIP_b1/MTBlacklist_A2/data/merged/MT/cellr_True/numread_200/filters/minC10_minR50_topN0_hetT0.001_hetC10_hetCount5_bq20/mgatk/vireoIn/clones/variants_init/knn/kparam_30/comparisons/clones_barcodes.png\n"
     ]
    }
   ],
   "source": [
    "var_files = [\"top_variants_af.svg\", \"top_variants_distinct_pct_vs_other.svg\"]\n",
    "vaf_file_names = {x: x.split(\".svg\")[0] for x in var_files}\n",
    "\n",
    "all_vaf_files = pd.DataFrame(index = [\"clone\"] + list(opt_dirs.keys()), columns = var_files)\n",
    "\n",
    "all_vaf_files.loc[\"clone\"] = [join(top_dir,\"top_variants_af.svg\"), join(top_dir, \"top_variants_distinct_pct_vs_other.svg\")]\n",
    "\n",
    "for i in opt_dirs:\n",
    "    all_vaf_files.loc[i] = [join(opt_dirs[i][\"top\"],\"top_variants_af.svg\"), \n",
    "                        join(opt_dirs[i][\"top\"],\"top_variants_distinct_pct_vs_other.svg\")]\n",
    "       \n",
    "#join(top_dir, \"top_variants_af.svg\")\n",
    "#join(top_dir, \"top_variants_distinct_pct_vs_other.svg\")\n",
    "all_vaf_files\n",
    "all_vaf_files.index = all_vaf_files.index.map(method_names)\n",
    "\n",
    "main_df_transpose(all_vaf_files, \n",
    "                  join(outdir, \"clones_barcodes.svg\"), scale=0.25, figure_names=vaf_file_names)"
   ]
  },
  {
   "cell_type": "markdown",
   "id": "d9401bfe",
   "metadata": {},
   "source": [
    "### Clone count"
   ]
  },
  {
   "cell_type": "code",
   "execution_count": null,
   "id": "7b8e0448",
   "metadata": {},
   "outputs": [],
   "source": []
  },
  {
   "cell_type": "code",
   "execution_count": 15,
   "id": "a863769f",
   "metadata": {
    "scrolled": true
   },
   "outputs": [
    {
     "name": "stdout",
     "output_type": "stream",
     "text": [
      "864pt\n",
      "height\n",
      "864pt\n",
      "864pt\n",
      "height\n",
      "864pt\n",
      "864pt\n",
      "height\n",
      "864pt\n",
      "864pt\n",
      "height\n",
      "864pt\n",
      "864pt\n",
      "height\n",
      "864pt\n",
      "864pt\n",
      "height\n",
      "864pt\n",
      "864pt\n",
      "height\n",
      "864pt\n",
      "864pt\n",
      "height\n",
      "864pt\n",
      "864pt\n",
      "height\n",
      "864pt\n",
      "864pt\n",
      "height\n",
      "864pt\n",
      "864pt\n",
      "height\n",
      "864pt\n",
      "864pt\n",
      "height\n",
      "864pt\n",
      "864pt\n",
      "height\n",
      "864pt\n",
      "864pt\n",
      "height\n",
      "864pt\n",
      "864pt\n",
      "height\n",
      "864pt\n",
      "inkscape --file=/data/Mito_Trace/output/pipeline/v04/CHIP_b1/MTBlacklist_A2/data/merged/MT/cellr_True/numread_200/filters/minC10_minR50_topN0_hetT0.001_hetC10_hetCount5_bq20/mgatk/vireoIn/clones/variants_init/knn/kparam_30/comparisons/clones_counts.svg -d 300 --export-area-drawing --without-gui --export-png=/data/Mito_Trace/output/pipeline/v04/CHIP_b1/MTBlacklist_A2/data/merged/MT/cellr_True/numread_200/filters/minC10_minR50_topN0_hetT0.001_hetC10_hetCount5_bq20/mgatk/vireoIn/clones/variants_init/knn/kparam_30/comparisons/clones_counts.png\n",
      "DPI: 300\n",
      "Background RRGGBBAA: ffffff00\n",
      "Area 0:-548:1091.86:127.598 exported to 3412 x 2111 pixels (300 dpi)\n",
      "Bitmap saved as: /data/Mito_Trace/output/pipeline/v04/CHIP_b1/MTBlacklist_A2/data/merged/MT/cellr_True/numread_200/filters/minC10_minR50_topN0_hetT0.001_hetC10_hetCount5_bq20/mgatk/vireoIn/clones/variants_init/knn/kparam_30/comparisons/clones_counts.png\n"
     ]
    }
   ],
   "source": [
    "clcount_file_names =  {\n",
    "    \"normalized_counts.barplot_conditions.svg\": \"normalized clone counts\",\n",
    "    \"clone_counts.barplot_conditions.svg\": \"clone sizes\",\n",
    "    \"clone_counts.conditionScatter.svg\": \"scatterplot of ncells across conditions\"\n",
    "}\n",
    "\n",
    "#clone_count_dir\n",
    "\n",
    "clcount_files = list(clcount_file_names.keys()) #[\"top_clcountiants_af.svg\", \"top_clcountiants_distinct_pct_vs_other.svg\"]\n",
    "#clcount_file_names = {x: x.split(\".svg\")[0] for x in clcount_files}\n",
    "\n",
    "all_clcount_files = pd.DataFrame(index = [\"clone\"] + list(opt_dirs.keys()), columns = clcount_files)\n",
    "\n",
    "all_clcount_files.loc[\"clone\"] = [join(clone_count_dir, f\"donor{donor}.normalized_clone_counts.barplot_conditions.svg\"), \n",
    "                                  join(clone_count_dir, f\"donor{donor}.{clcount_files[1]}\"), \n",
    "                                  join(clone_count_dir, f\"donor{donor}.{clcount_files[2]}\")]\n",
    "#donor0.normalized_clone_counts.barplot_conditions\n",
    "for i in opt_dirs:\n",
    "    all_clcount_files.loc[i] = [join(opt_dirs[i][\"clone_count_dir\"], clcount_files[0]), \n",
    "                                join(opt_dirs[i][\"clone_count_dir\"], clcount_files[1]),\n",
    "                                join(opt_dirs[i][\"clone_count_dir\"], clcount_files[2])]\n",
    "       \n",
    "#join(top_dir, \"top_clcountiants_af.svg\")\n",
    "#join(top_dir, \"top_clcountiants_distinct_pct_vs_other.svg\")\n",
    "\n",
    "all_clcount_files.index = all_clcount_files.index.map(method_names)\n",
    "\n",
    "main_df_transpose(all_clcount_files, \n",
    "                  join(outdir, \"clones_counts.svg\"), scale=0.25, figure_names=clcount_file_names)"
   ]
  },
  {
   "cell_type": "code",
   "execution_count": 16,
   "id": "06ba23d2",
   "metadata": {},
   "outputs": [
    {
     "data": {
      "text/plain": [
       "'/data/Mito_Trace/output/pipeline/v04/CHIP_b1/MTBlacklist_A2/data/merged/MT/cellr_True/numread_200/filters/minC10_minR50_topN0_hetT0.001_hetC10_hetCount5_bq20/mgatk/vireoIn/clones/variants_init/knn/kparam_30/gff_A2_black/annotation_clones/clone_counts/donor0.normalized_clone_counts.barplot_conditions.svg'"
      ]
     },
     "execution_count": 16,
     "metadata": {},
     "output_type": "execute_result"
    }
   ],
   "source": [
    "all_clcount_files.iloc[0,0]"
   ]
  },
  {
   "cell_type": "code",
   "execution_count": 17,
   "id": "9706e0af",
   "metadata": {},
   "outputs": [
    {
     "data": {
      "text/plain": [
       "['normalized_counts.barplot_conditions.svg',\n",
       " 'clone_counts.barplot_conditions.svg',\n",
       " 'clone_counts.conditionScatter.svg']"
      ]
     },
     "execution_count": 17,
     "metadata": {},
     "output_type": "execute_result"
    }
   ],
   "source": [
    "clcount_files"
   ]
  },
  {
   "cell_type": "code",
   "execution_count": 18,
   "id": "f9a0349f",
   "metadata": {},
   "outputs": [
    {
     "data": {
      "text/plain": [
       "'/data/Mito_Trace/output/pipeline/v04/CHIP_b1/MTBlacklist_A2/data/merged/MT/cellr_True/numread_200/filters/minC10_minR50_topN0_hetT0.001_hetC10_hetCount5_bq20/mgatk/vireoIn/clones/variants_init/knn/kparam_30/gff_A2_black/annotation_clones/clone_counts/donor0.normalized_clone_counts.barplot_conditions.svg'"
      ]
     },
     "execution_count": 18,
     "metadata": {},
     "output_type": "execute_result"
    }
   ],
   "source": [
    "all_clcount_files.iloc[0,0]"
   ]
  },
  {
   "cell_type": "code",
   "execution_count": 19,
   "id": "19022040",
   "metadata": {
    "scrolled": true
   },
   "outputs": [
    {
     "data": {
      "text/plain": [
       "'/data/Mito_Trace/output/pipeline/v04/CHIP_b1/MTBlacklist_A2/data/merged/MT/cellr_True/numread_200/filters/minC10_minR50_topN0_hetT0.001_hetC10_hetCount5_bq20/mgatk/vireoIn/enriched_barcodes/objs_standard_constraints_min_both_pct_0.5/clones/variants_init/knn/kparam_30/annotation_clones/clone_counts/donor0/normalized_counts.barplot_conditions.svg'"
      ]
     },
     "execution_count": 19,
     "metadata": {},
     "output_type": "execute_result"
    }
   ],
   "source": [
    "all_clcount_files.iloc[2,0]"
   ]
  },
  {
   "cell_type": "code",
   "execution_count": 20,
   "id": "19597ccf",
   "metadata": {},
   "outputs": [
    {
     "data": {
      "text/plain": [
       "'/data/Mito_Trace/output/pipeline/v04/CHIP_b1/MTBlacklist_A2/data/merged/MT/cellr_True/numread_200/filters/minC10_minR50_topN0_hetT0.001_hetC10_hetCount5_bq20/mgatk/vireoIn/clones/variants_init/knn/kparam_30/gff_A2_black/annotation_clones/clone_counts'"
      ]
     },
     "execution_count": 20,
     "metadata": {},
     "output_type": "execute_result"
    }
   ],
   "source": [
    "clone_count_dir"
   ]
  },
  {
   "cell_type": "code",
   "execution_count": 21,
   "id": "156f9500",
   "metadata": {},
   "outputs": [
    {
     "data": {
      "text/html": [
       "<div>\n",
       "<style scoped>\n",
       "    .dataframe tbody tr th:only-of-type {\n",
       "        vertical-align: middle;\n",
       "    }\n",
       "\n",
       "    .dataframe tbody tr th {\n",
       "        vertical-align: top;\n",
       "    }\n",
       "\n",
       "    .dataframe thead th {\n",
       "        text-align: right;\n",
       "    }\n",
       "</style>\n",
       "<table border=\"1\" class=\"dataframe\">\n",
       "  <thead>\n",
       "    <tr style=\"text-align: right;\">\n",
       "      <th></th>\n",
       "      <th>normalized_counts.barplot_conditions.svg</th>\n",
       "      <th>clone_counts.barplot_conditions.svg</th>\n",
       "      <th>clone_counts.conditionScatter.svg</th>\n",
       "    </tr>\n",
       "  </thead>\n",
       "  <tbody>\n",
       "    <tr>\n",
       "      <th>knn</th>\n",
       "      <td>/data/Mito_Trace/output/pipeline/v04/CHIP_b1/M...</td>\n",
       "      <td>/data/Mito_Trace/output/pipeline/v04/CHIP_b1/M...</td>\n",
       "      <td>/data/Mito_Trace/output/pipeline/v04/CHIP_b1/M...</td>\n",
       "    </tr>\n",
       "    <tr>\n",
       "      <th>standard\\nconstraints  None</th>\n",
       "      <td>/data/Mito_Trace/output/pipeline/v04/CHIP_b1/M...</td>\n",
       "      <td>/data/Mito_Trace/output/pipeline/v04/CHIP_b1/M...</td>\n",
       "      <td>/data/Mito_Trace/output/pipeline/v04/CHIP_b1/M...</td>\n",
       "    </tr>\n",
       "    <tr>\n",
       "      <th>standard\\nconstraints  min both pct 0.5</th>\n",
       "      <td>/data/Mito_Trace/output/pipeline/v04/CHIP_b1/M...</td>\n",
       "      <td>/data/Mito_Trace/output/pipeline/v04/CHIP_b1/M...</td>\n",
       "      <td>/data/Mito_Trace/output/pipeline/v04/CHIP_b1/M...</td>\n",
       "    </tr>\n",
       "    <tr>\n",
       "      <th>high_unique\\nconstraints  None</th>\n",
       "      <td>/data/Mito_Trace/output/pipeline/v04/CHIP_b1/M...</td>\n",
       "      <td>/data/Mito_Trace/output/pipeline/v04/CHIP_b1/M...</td>\n",
       "      <td>/data/Mito_Trace/output/pipeline/v04/CHIP_b1/M...</td>\n",
       "    </tr>\n",
       "    <tr>\n",
       "      <th>high_unique\\nconstraints  min both pct 0.5</th>\n",
       "      <td>/data/Mito_Trace/output/pipeline/v04/CHIP_b1/M...</td>\n",
       "      <td>/data/Mito_Trace/output/pipeline/v04/CHIP_b1/M...</td>\n",
       "      <td>/data/Mito_Trace/output/pipeline/v04/CHIP_b1/M...</td>\n",
       "    </tr>\n",
       "  </tbody>\n",
       "</table>\n",
       "</div>"
      ],
      "text/plain": [
       "                                                     normalized_counts.barplot_conditions.svg  \\\n",
       "knn                                         /data/Mito_Trace/output/pipeline/v04/CHIP_b1/M...   \n",
       "standard\\nconstraints  None                 /data/Mito_Trace/output/pipeline/v04/CHIP_b1/M...   \n",
       "standard\\nconstraints  min both pct 0.5     /data/Mito_Trace/output/pipeline/v04/CHIP_b1/M...   \n",
       "high_unique\\nconstraints  None              /data/Mito_Trace/output/pipeline/v04/CHIP_b1/M...   \n",
       "high_unique\\nconstraints  min both pct 0.5  /data/Mito_Trace/output/pipeline/v04/CHIP_b1/M...   \n",
       "\n",
       "                                                          clone_counts.barplot_conditions.svg  \\\n",
       "knn                                         /data/Mito_Trace/output/pipeline/v04/CHIP_b1/M...   \n",
       "standard\\nconstraints  None                 /data/Mito_Trace/output/pipeline/v04/CHIP_b1/M...   \n",
       "standard\\nconstraints  min both pct 0.5     /data/Mito_Trace/output/pipeline/v04/CHIP_b1/M...   \n",
       "high_unique\\nconstraints  None              /data/Mito_Trace/output/pipeline/v04/CHIP_b1/M...   \n",
       "high_unique\\nconstraints  min both pct 0.5  /data/Mito_Trace/output/pipeline/v04/CHIP_b1/M...   \n",
       "\n",
       "                                                            clone_counts.conditionScatter.svg  \n",
       "knn                                         /data/Mito_Trace/output/pipeline/v04/CHIP_b1/M...  \n",
       "standard\\nconstraints  None                 /data/Mito_Trace/output/pipeline/v04/CHIP_b1/M...  \n",
       "standard\\nconstraints  min both pct 0.5     /data/Mito_Trace/output/pipeline/v04/CHIP_b1/M...  \n",
       "high_unique\\nconstraints  None              /data/Mito_Trace/output/pipeline/v04/CHIP_b1/M...  \n",
       "high_unique\\nconstraints  min both pct 0.5  /data/Mito_Trace/output/pipeline/v04/CHIP_b1/M...  "
      ]
     },
     "execution_count": 21,
     "metadata": {},
     "output_type": "execute_result"
    }
   ],
   "source": [
    "all_clcount_files"
   ]
  },
  {
   "cell_type": "code",
   "execution_count": null,
   "id": "af416cf4",
   "metadata": {},
   "outputs": [],
   "source": []
  },
  {
   "cell_type": "markdown",
   "id": "3a493298",
   "metadata": {},
   "source": [
    "### All folders needed for one donor to compare methods:\n",
    "1. After clone-calling:\n",
    "A. Dendrogram (dynamic)\n",
    "B. Clone count barplots\n",
    "Scatterplot\n",
    "C. VAF \n",
    "D. lineage clone count\n",
    "E. MT as clones clone count \n",
    "F. MT as clones clone distribution\n",
    "G. Dynamic dendro lineage clone count \n",
    "H. Dynamic dendro lineage VAF\n",
    "\n",
    "2. After enriched barcode:\n",
    "A-D as above, plus:\n",
    "E. multi-objective barcode analysis\n",
    "\n",
    "\n",
    "Additionally, parameters to use:\n",
    "1. Clone-calling:\n",
    "- init\n",
    "- prefilterImpute\n",
    "- simpleUnion\n",
    "2. Multi-objective parameters:\n",
    "- standard_None\n",
    "- standard_min_both_pct_0.5\n",
    "- high_unique_None\n",
    "- high_unique_min_both_pct_0.5\n",
    "3. Clone detection parameters:\n",
    "- Clones\n",
    "- Dynamic dendro\n",
    "- MT as clones\n",
    "- MT as clones dendro\n",
    "\n",
    "\n",
    "Goal is to compare across all the methods the results visually.\n",
    "We want to compare across clone-calling methods and before and after enriched barcodes. \n",
    "\n"
   ]
  },
  {
   "cell_type": "code",
   "execution_count": 22,
   "id": "9a99c9c9",
   "metadata": {
    "scrolled": true
   },
   "outputs": [],
   "source": [
    "# indir\n",
    "\n",
    "# vaf_figure_names =  {\n",
    "#     \"top_variants_af.svg\":\"vaf\",\n",
    "#     \"top_variants_distinct_pct_vs_other.svg\": \"barcode pct in clone\"\n",
    "# }\n",
    "# dendro_figure_names =  {\"dendro.NoCondition.max2.AF.svg\": \"AF (max 0.2)\",\n",
    "#              \"dendro.NoCondition.max5.AF.svg\": \"AF (max 0.5)\",\n",
    "#              \"dendro.NoCondition.DP.svg\": \"Log2 reads per cell-MT position\"}\n",
    "\n",
    "# clonevar_figure_names = {\n",
    "#     \"best_params.svg\": \"Final clone-barcode table\",\n",
    "#     \"top10perc_param_group_clusters.svg\": \"Cluster top hyperparameters by multi-objectives\",\n",
    "#     \"elbow_multi_obj_nclust.svg\": \"Elbow plot for determining number of objective clusters\",\n",
    "#     \"multi_clusters_nclust.svg\": \"multi_obj_clusters\" ,\n",
    "#     \"top_param_group_results.svg\": \"top_objective_scores\"\n",
    "#     #\"top_param_groups_clone_vars.svg\": \"clone-barcode table of top hyperparameter clusters\",\n",
    "# }\n",
    "\n",
    "\n",
    "# cl_count_figure_names =  {\n",
    "#     \"normalized_counts.barplot_conditions.svg\": \"normalized clone counts\",\n",
    "#     \"top20_minCell10_clone_counts.barplot_conditions.svg\": \"top 20 clones\",\n",
    "#     \"clone_counts.conditionScatter.svg\": \"scatterplot of ncells across conditions\"\n",
    "# }"
   ]
  },
  {
   "cell_type": "code",
   "execution_count": 23,
   "id": "7d9728f1",
   "metadata": {},
   "outputs": [],
   "source": [
    "#\"single_clones/donor0/cloneMethod_variants_init_knn_resolution_30/clonalShift_method_clones/top/\""
   ]
  }
 ],
 "metadata": {
  "celltoolbar": "Tags",
  "kernelspec": {
   "display_name": "Python 3 (ipykernel)",
   "language": "python",
   "name": "python3"
  },
  "language_info": {
   "codemirror_mode": {
    "name": "ipython",
    "version": 3
   },
   "file_extension": ".py",
   "mimetype": "text/x-python",
   "name": "python",
   "nbconvert_exporter": "python",
   "pygments_lexer": "ipython3",
   "version": "3.7.12"
  }
 },
 "nbformat": 4,
 "nbformat_minor": 5
}
