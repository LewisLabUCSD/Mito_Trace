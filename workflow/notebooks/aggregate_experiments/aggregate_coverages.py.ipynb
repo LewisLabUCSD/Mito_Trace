{
 "cells": [
  {
   "cell_type": "code",
   "execution_count": 2,
   "id": "23c8b0fb",
   "metadata": {},
   "outputs": [],
   "source": [
    "import pandas as pd\n",
    "from os.path import join, dirname, basename\n",
    "import os\n",
    "import numpy as np\n",
    "from icecream import ic\n",
    "\n",
    "#import seaborn as sns\n",
    "\n",
    "import seaborn as sns\n",
    "\n",
    "import matplotlib.pyplot as plt"
   ]
  },
  {
   "cell_type": "code",
   "execution_count": 14,
   "id": "b3dc6b49",
   "metadata": {},
   "outputs": [],
   "source": [
    "allExpmts_df = snakemake.params.allExpmts \n",
    "allRuns_don_df = snakemake.params.allRuns_don_df\n",
    "out_f = snakemake.output.cov #/data/Mito_Trace/output/aggregate/CHIP_aggr/results/clones/variants.init_knnRes.30/aggregate/clone_sizes.pdf\n",
    "outdir = snakemake.params.outdir\n",
    "#clone_method_dir = snakemake.params.clone_method_dir\n",
    "#variants = snakemake.wildcards.variants\n",
    "#kparam = snakemake.wildcards.kparam\n",
    "\n",
    "\n",
    "#\"/mnt/md0/isshamie/Projects/Mito_Trace/output/pipeline/v02/CHIP_b1/MTBlacklist_A2/data/merged/MT/cellr_True/numread_200/filters/minC10_minR50_topN0_hetT0.001_hetC10_hetCount5_bq20/mgatk/vireoIn/multiplex/clones_init/donor0/dp.tsv\"\n",
    "# kparam = 30\n",
    "# variants = \"init\"\n",
    "# output = \"\"\n",
    "#\n",
    "# clone_dirs = []\n",
    "# nuclear_dirs = []\n",
    "# condition_pileup_dirs = []\n",
    "# experiment_ids = []"
   ]
  },
  {
   "cell_type": "code",
   "execution_count": 4,
   "id": "7fe98dcd",
   "metadata": {},
   "outputs": [],
   "source": [
    "# clone_method_dir = join(\"clones/\", f\"variants_{variants}/knn/kparam_{kparam}\")\n",
    "# clone_method_dir"
   ]
  },
  {
   "cell_type": "markdown",
   "id": "e717099e",
   "metadata": {},
   "source": [
    "## Get number of cells each condition"
   ]
  },
  {
   "cell_type": "code",
   "execution_count": 5,
   "id": "b4e9c7e6",
   "metadata": {
    "scrolled": true
   },
   "outputs": [],
   "source": [
    "#init_results_cond_df = pd.DataFrame(columns=[\"Donor\", \"# conditions\"])\n",
    "results_donor_df = allRuns_don_df.copy()\n",
    "results_donor_df[\"# cells after demultiplex\"] = -1\n",
    "\n",
    "results_af_d = []# {}\n",
    "results_cov_d = []\n",
    "## Get multiplex ncells\n",
    "for ind, val in allExpmts_df.groupby(\"run\"):\n",
    "    print(ind)\n",
    "    for ind2, val2 in val.iterrows():\n",
    "        #mgatk/Flt3l.af.tsv mgatk/Flt3l.coverage.txt\n",
    "        if not os.path.exists(join(val2[\"filt_dir\"],f\"mgatk/{val2['sample_name']}.af.tsv\")):\n",
    "            print(\"Not here\", ind2)\n",
    "        else:\n",
    "            curr = pd.read_csv(join(val2[\"filt_dir\"],f\"mgatk/{val2['sample_name']}.af.tsv\"), sep=\"\\t\", index_col=0).transpose()\n",
    "            curr.index = [f\"{x}_{ind2}\" for x in curr.index]\n",
    "            curr = curr.reset_index().melt(id_vars='index')\n",
    "            curr[\"condition\"] = val2['sample_name']\n",
    "            curr[\"run\"] = val2['run']\n",
    "            curr[\"ID\"] = ind2\n",
    "            results_af_d.append(curr)\n",
    "            curr = pd.read_csv(join(val2[\"filt_dir\"],f\"mgatk/{val2['sample_name']}.coverage.tsv\"), sep=\"\\t\", index_col=0).transpose()\n",
    "            curr.index = [f\"{x}_{ind2}\" for x in curr.index]\n",
    "            curr = curr.reset_index().melt(id_vars='index')\n",
    "            curr[\"condition\"] = val2['sample_name']\n",
    "            curr[\"run\"] = val2['run']\n",
    "            curr[\"ID\"] = ind2\n",
    "            results_cov_d.append(curr)\n",
    "    \n",
    "results_af_df = pd.concat(results_af_d).fillna(0)\n",
    "results_af_df\n",
    "\n",
    "#\"mean clone size\", \"median clone size\"\n",
    "\n",
    "results_cov_df = pd.concat(results_cov_d).fillna(0)\n",
    "results_cov_df"
   ]
  },
  {
   "cell_type": "code",
   "execution_count": 6,
   "id": "91ba16cd",
   "metadata": {
    "scrolled": true
   },
   "outputs": [],
   "source": [
    "results_cov_df[\"log2_count\"] = np.log2(1+results_cov_df[\"value\"])\n",
    "g = sns.catplot(data=results_cov_df.sample(1000), row=\"run\", col=\"condition\", height=4, \n",
    "                kind=\"violin\", y=\"log2_count\", inner=\"stick\")\n",
    "\n",
    "g.fig.savefig(fname=join(outdir, f\"coverage_log2.pdf\"), dpi=500, bbox_inches='tight', pad_inches=0.5)\n",
    "\n",
    "#g.map_dataframe(sns.violinplot, y=\"value\", hue=\"condition\" )"
   ]
  },
  {
   "cell_type": "code",
   "execution_count": 7,
   "id": "9979abcd",
   "metadata": {
    "scrolled": true
   },
   "outputs": [],
   "source": [
    "## Violinplot function\n",
    "def plot_violin(data, **kwargs):\n",
    "    #print(data.columns)\n",
    "    curr_type = kwargs.get(\"method\", \"median\")\n",
    "    curr_axis = kwargs.get(\"axis\", 0)\n",
    "    curr_dat = (data.pivot(index=\"index\", columns=\"variable\", values=\"value\").fillna(0))\n",
    "    if curr_type == \"median\":\n",
    "        sns.violinplot(x=curr_dat.median(axis=curr_axis))\n",
    "    elif curr_type == \"mean\":\n",
    "        sns.violinplot(x=curr_dat.mean(axis=curr_axis))\n",
    "    return\n",
    "\n"
   ]
  },
  {
   "cell_type": "markdown",
   "id": "98ec5d30",
   "metadata": {},
   "source": [
    "## Plot median+mean cell coverage for each position"
   ]
  },
  {
   "cell_type": "code",
   "execution_count": 8,
   "id": "28bfe354",
   "metadata": {
    "scrolled": true
   },
   "outputs": [],
   "source": [
    "g = sns.FacetGrid(data=results_cov_df, row=\"run\", col=\"condition\", height=4)\n",
    "g.map_dataframe(plot_violin, method=\"median\")\n",
    "g.fig.suptitle(\"median coverage for each called variant genomic loci\")\n",
    "plt.tight_layout()\n",
    "g.fig.savefig(fname=join(outdir, f\"coverage_median_per_variant.pdf\"), dpi=500, bbox_inches='tight', pad_inches=0.5)\n",
    "\n",
    "g = sns.FacetGrid(data=results_cov_df, row=\"run\", col=\"condition\", height=4)\n",
    "g.map_dataframe(plot_violin, method=\"mean\")\n",
    "g.fig.suptitle(\"mean coverage for each called variant genomic loci\")\n",
    "plt.tight_layout()\n",
    "g.fig.savefig(fname=join(outdir, f\"coverage_mean_per_variant.pdf\"), dpi=500, bbox_inches='tight', pad_inches=0.5)"
   ]
  },
  {
   "cell_type": "markdown",
   "id": "23650369",
   "metadata": {},
   "source": [
    "## Plot median+cell position coverage for each cell"
   ]
  },
  {
   "cell_type": "code",
   "execution_count": 9,
   "id": "46d9e125",
   "metadata": {},
   "outputs": [],
   "source": [
    "g = sns.FacetGrid(data=results_cov_df, row=\"run\", col=\"condition\")\n",
    "g.map_dataframe(plot_violin, method=\"median\", axis=1)\n",
    "g.fig.suptitle(\"median coverage for each cell over the MT genomic positions\")\n",
    "plt.tight_layout()\n",
    "g.fig.savefig(fname=join(outdir, f\"coverage_median_per_cell.pdf\"), dpi=500, bbox_inches='tight', pad_inches=0.5)\n",
    "\n",
    "g = sns.FacetGrid(data=results_cov_df, row=\"run\", col=\"condition\")\n",
    "g.map_dataframe(plot_violin, method=\"mean\", axis=1)\n",
    "g.fig.suptitle(\"mean coverage for each cell over the MT genomic positions\")\n",
    "plt.tight_layout()\n",
    "g.fig.savefig(fname=join(outdir, f\"coverage_mean_per_cell.pdf\"), dpi=500, bbox_inches='tight', pad_inches=0.5)"
   ]
  },
  {
   "cell_type": "markdown",
   "id": "4c87cf07",
   "metadata": {},
   "source": [
    "## Plot median+mean cell AF for each position"
   ]
  },
  {
   "cell_type": "code",
   "execution_count": 10,
   "id": "7c4f615d",
   "metadata": {
    "scrolled": false
   },
   "outputs": [],
   "source": [
    "g = sns.FacetGrid(data=results_af_df, row=\"run\", col=\"condition\")\n",
    "g.map_dataframe(plot_violin, method=\"median\")\n",
    "g.fig.suptitle(\"median coverage for each called variant genomic loci\")\n",
    "plt.tight_layout()\n",
    "g.fig.savefig(fname=join(outdir, f\"af_median_per_variant.pdf\"), dpi=500, bbox_inches='tight', pad_inches=0.5)\n",
    "\n",
    "g = sns.FacetGrid(data=results_af_df, row=\"run\", col=\"condition\")\n",
    "g.map_dataframe(plot_violin, method=\"mean\")\n",
    "g.fig.suptitle(\"mean coverage for each called variant genomic loci\")\n",
    "plt.tight_layout()\n",
    "g.fig.savefig(fname=join(outdir, f\"af_mean_per_variant.pdf\"), dpi=500, bbox_inches='tight', pad_inches=0.5)"
   ]
  },
  {
   "cell_type": "markdown",
   "id": "4229406a",
   "metadata": {},
   "source": [
    "## Calculate barplot coverage plot"
   ]
  },
  {
   "cell_type": "code",
   "execution_count": 11,
   "id": "cc6f917e",
   "metadata": {},
   "outputs": [],
   "source": [
    "def plot_percent_coverage_cells(data,\n",
    "                                x_cov=(5, 10, 30, 50, 100, 200, 300),\n",
    "                                cells_cov = (1, 10, 100, 500, 1000,5000,10000), **kwargs):\n",
    "    # x_cov = [1, 2, 5, 10, 30, 50, 100, 200, 1000, 2000, 3000]\n",
    "    # cells_cov = [1, 10, 100, 500]\n",
    "\n",
    "    pct_cov_df = pd.DataFrame(\n",
    "        columns=[\"Number of MT positions\", \"Minimum number of cells\",\n",
    "                 \"Minimum number of reads\"])\n",
    "\n",
    "    for x in x_cov:\n",
    "        sc_coverage = data.pivot(index=\"index\", columns=\"variable\", values=\"value\").fillna(0)\n",
    "        #curr_count = (sc_coverage >= x).sum(axis=0)\n",
    "        curr_count = (sc_coverage >= x).sum(axis=1)\n",
    "        \n",
    "        for c in cells_cov:\n",
    "            pct_cov_df = pd.concat((pct_cov_df, pd.DataFrame(\n",
    "                {\"Number of MT positions\": (curr_count >= c).sum(),\n",
    "                 \"Minimum number of cells\": c,\n",
    "                 \"Minimum number of reads\": x}, index=[len(\n",
    "                    pct_cov_df)])))  # pct_cov.append((sc_coverage > x).sum(axis=0).sum())\n",
    "    sns.barplot(data=pct_cov_df, x=\"Minimum number of reads\",\n",
    "                y=\"Number of MT positions\",\n",
    "                hue=\"Minimum number of cells\", ax=plt.gca())\n",
    "    plt.xticks(rotation=45)\n",
    "    return\n",
    "\n",
    "g = sns.FacetGrid(data=results_cov_df, row=\"run\", col=\"condition\", height=4)\n",
    "g.map_dataframe(plot_percent_coverage_cells)\n",
    "plt.legend(loc='best')\n",
    "g.fig.savefig(fname=join(outdir, f\"coverage_ncells_npositions.pdf\"), dpi=500, bbox_inches='tight', pad_inches=0.5)"
   ]
  },
  {
   "cell_type": "code",
   "execution_count": 12,
   "id": "69ffa0fe",
   "metadata": {},
   "outputs": [],
   "source": [
    "g = sns.FacetGrid(data=results_cov_df, row=\"run\", col=\"condition\", sharey=False)\n",
    "g.map_dataframe(plot_percent_coverage_cells)\n",
    "plt.legend(loc='best')\n",
    "g.fig.savefig(fname=join(outdir, f\"coverage_ncells_npositions.diff_y_axis.pdf\"), dpi=500, bbox_inches='tight', pad_inches=0.5)"
   ]
  },
  {
   "cell_type": "code",
   "execution_count": 13,
   "id": "d03fba8e",
   "metadata": {},
   "outputs": [],
   "source": [
    "#results_df.to_csv(out_f, sep=\"\\t\")"
   ]
  },
  {
   "cell_type": "code",
   "execution_count": null,
   "id": "a5dd3a83",
   "metadata": {},
   "outputs": [],
   "source": []
  }
 ],
 "metadata": {
  "celltoolbar": "Tags",
  "kernelspec": {
   "display_name": "Python 3 (ipykernel)",
   "language": "python",
   "name": "python3"
  },
  "language_info": {
   "codemirror_mode": {
    "name": "ipython",
    "version": 3
   },
   "file_extension": ".py",
   "mimetype": "text/x-python",
   "name": "python",
   "nbconvert_exporter": "python",
   "pygments_lexer": "ipython3",
   "version": "3.7.12"
  }
 },
 "nbformat": 4,
 "nbformat_minor": 5
}
