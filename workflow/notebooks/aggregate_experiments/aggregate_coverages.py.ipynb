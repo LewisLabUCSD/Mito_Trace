{
 "cells": [
  {
   "cell_type": "code",
   "execution_count": 1,
   "id": "23c8b0fb",
   "metadata": {},
   "outputs": [],
   "source": [
    "import pandas as pd\n",
    "from os.path import join, dirname, basename\n",
    "import os\n",
    "import numpy as np\n",
    "from icecream import ic\n",
    "\n",
    "#import seaborn as sns\n",
    "\n",
    "import seaborn as sns\n",
    "\n",
    "import matplotlib.pyplot as plt"
   ]
  },
  {
   "cell_type": "code",
   "execution_count": 3,
   "id": "b3dc6b49",
   "metadata": {},
   "outputs": [],
   "source": [
    "allExpmts_df = snakemake.params.allExpmts \n",
    "allRuns_don_df = snakemake.params.allRuns_don_df\n",
    "out_f = snakemake.output.cov #/data/Mito_Trace/output/aggregate/CHIP_aggr/results/clones/variants.init_knnRes.30/aggregate/clone_sizes.pdf\n",
    "outdir = snakemake.params.outdir\n",
    "#clone_method_dir = snakemake.params.clone_method_dir\n",
    "#variants = snakemake.wildcards.variants\n",
    "#kparam = snakemake.wildcards.kparam\n",
    "\n",
    "\n",
    "#\"/mnt/md0/isshamie/Projects/Mito_Trace/output/pipeline/v02/CHIP_b1/MTBlacklist_A2/data/merged/MT/cellr_True/numread_200/filters/minC10_minR50_topN0_hetT0.001_hetC10_hetCount5_bq20/mgatk/vireoIn/multiplex/clones_init/donor0/dp.tsv\"\n",
    "# kparam = 30\n",
    "# variants = \"init\"\n",
    "# output = \"\"\n",
    "#\n",
    "# clone_dirs = []\n",
    "# nuclear_dirs = []\n",
    "# condition_pileup_dirs = []\n",
    "# experiment_ids = []"
   ]
  },
  {
   "cell_type": "code",
   "execution_count": null,
   "id": "7fe98dcd",
   "metadata": {},
   "outputs": [],
   "source": [
    "# clone_method_dir = join(\"clones/\", f\"variants_{variants}/knn/kparam_{kparam}\")\n",
    "# clone_method_dir"
   ]
  },
  {
   "cell_type": "markdown",
   "id": "e717099e",
   "metadata": {},
   "source": [
    "## Get number of cells each condition"
   ]
  },
  {
   "cell_type": "code",
   "execution_count": 4,
   "id": "b4e9c7e6",
   "metadata": {
    "scrolled": true
   },
   "outputs": [],
   "source": [
    "#init_results_cond_df = pd.DataFrame(columns=[\"Donor\", \"# conditions\"])\n",
    "results_donor_df = allRuns_don_df.copy()\n",
    "results_donor_df[\"# cells after demultiplex\"] = -1\n",
    "\n",
    "results_af_d = []# {}\n",
    "results_cov_d = []\n",
    "## Get multiplex ncells\n",
    "for ind, val in allExpmts_df.groupby(\"run\"):\n",
    "    print(ind)\n",
    "    for ind2, val2 in val.iterrows():\n",
    "        #mgatk/Flt3l.af.tsv mgatk/Flt3l.coverage.txt\n",
    "        if not os.path.exists(join(val2[\"filt_dir\"],f\"mgatk/{val2['sample_name']}.af.tsv\")):\n",
    "            print(\"Not here\", ind2)\n",
    "        else:\n",
    "            curr = pd.read_csv(join(val2[\"filt_dir\"],f\"mgatk/{val2['sample_name']}.af.tsv\"), sep=\"\\t\", index_col=0).transpose()\n",
    "            curr.index = [f\"{x}_{ind2}\" for x in curr.index]\n",
    "            curr = curr.reset_index().melt(id_vars='index')\n",
    "            curr[\"condition\"] = val2['sample_name']\n",
    "            curr[\"run\"] = val2['run']\n",
    "            curr[\"ID\"] = ind2\n",
    "            results_af_d.append(curr)\n",
    "            curr = pd.read_csv(join(val2[\"filt_dir\"],f\"mgatk/{val2['sample_name']}.coverage.tsv\"), sep=\"\\t\", index_col=0).transpose()\n",
    "            curr.index = [f\"{x}_{ind2}\" for x in curr.index]\n",
    "            curr = curr.reset_index().melt(id_vars='index')\n",
    "            curr[\"condition\"] = val2['sample_name']\n",
    "            curr[\"run\"] = val2['run']\n",
    "            curr[\"ID\"] = ind2\n",
    "            results_cov_d.append(curr)\n",
    "    \n",
    "results_af_df = pd.concat(results_af_d).fillna(0)\n",
    "results_af_df\n",
    "\n",
    "#\"mean clone size\", \"median clone size\"\n",
    "\n",
    "results_cov_df = pd.concat(results_cov_d).fillna(0)\n",
    "results_cov_df"
   ]
  },
  {
   "cell_type": "code",
   "execution_count": 11,
   "id": "f822d965",
   "metadata": {},
   "outputs": [],
   "source": [
    "sns.set_context(font_scale=1.2)\n",
    "results_cov_df[\"log2_count\"] = np.log2(1+results_cov_df[\"value\"])\n",
    "g = sns.catplot(data=results_cov_df, x=\"run\", hue=\"condition\", height=6, \n",
    "                kind=\"violin\", y=\"log2_count\")\n",
    "g.fig.savefig(fname=join(outdir, f\"coverage_log2_oneRow.pdf\"), dpi=500, bbox_inches='tight', pad_inches=0.5)\n",
    "\n",
    "\n"
   ]
  },
  {
   "cell_type": "code",
   "execution_count": 6,
   "id": "91ba16cd",
   "metadata": {
    "scrolled": true
   },
   "outputs": [],
   "source": [
    "results_cov_df[\"log2_count\"] = np.log2(1+results_cov_df[\"value\"])\n",
    "g = sns.catplot(data=results_cov_df.sample(1000), row=\"run\", col=\"condition\", height=4, \n",
    "                kind=\"violin\", y=\"log2_count\", inner=\"stick\")\n",
    "\n",
    "g.fig.savefig(fname=join(outdir, f\"coverage_log2.pdf\"), dpi=500, bbox_inches='tight', pad_inches=0.5)\n",
    "\n",
    "#g.map_dataframe(sns.violinplot, y=\"value\", hue=\"condition\" )"
   ]
  },
  {
   "cell_type": "code",
   "execution_count": 7,
   "id": "9979abcd",
   "metadata": {
    "scrolled": true
   },
   "outputs": [],
   "source": [
    "## Violinplot function\n",
    "def plot_violin(data, **kwargs):\n",
    "    #print(data.columns)\n",
    "    curr_type = kwargs.get(\"method\", \"median\")\n",
    "    curr_axis = kwargs.get(\"axis\", 0)\n",
    "    curr_dat = (data.pivot(index=\"index\", columns=\"variable\", values=\"value\").fillna(0))\n",
    "    if curr_type == \"median\":\n",
    "        sns.violinplot(x=curr_dat.median(axis=curr_axis))\n",
    "    elif curr_type == \"mean\":\n",
    "        sns.violinplot(x=curr_dat.mean(axis=curr_axis))\n",
    "    return\n",
    "\n"
   ]
  },
  {
   "cell_type": "markdown",
   "id": "98ec5d30",
   "metadata": {},
   "source": [
    "## Plot median+mean cell coverage for each position"
   ]
  },
  {
   "cell_type": "code",
   "execution_count": 8,
   "id": "28bfe354",
   "metadata": {
    "scrolled": true
   },
   "outputs": [],
   "source": [
    "g = sns.FacetGrid(data=results_cov_df, row=\"run\", col=\"condition\", height=4)\n",
    "g.map_dataframe(plot_violin, method=\"median\")\n",
    "g.fig.suptitle(\"median coverage for each called variant genomic loci\")\n",
    "plt.tight_layout()\n",
    "g.fig.savefig(fname=join(outdir, f\"coverage_median_per_variant.pdf\"), dpi=500, bbox_inches='tight', pad_inches=0.5)\n",
    "\n",
    "g = sns.FacetGrid(data=results_cov_df, row=\"run\", col=\"condition\", height=4)\n",
    "g.map_dataframe(plot_violin, method=\"mean\")\n",
    "g.fig.suptitle(\"mean coverage for each called variant genomic loci\")\n",
    "plt.tight_layout()\n",
    "g.fig.savefig(fname=join(outdir, f\"coverage_mean_per_variant.pdf\"), dpi=500, bbox_inches='tight', pad_inches=0.5)"
   ]
  },
  {
   "cell_type": "markdown",
   "id": "23650369",
   "metadata": {},
   "source": [
    "## Plot median+cell position coverage for each cell"
   ]
  },
  {
   "cell_type": "code",
   "execution_count": 9,
   "id": "46d9e125",
   "metadata": {},
   "outputs": [],
   "source": [
    "g = sns.FacetGrid(data=results_cov_df, row=\"run\", col=\"condition\")\n",
    "g.map_dataframe(plot_violin, method=\"median\", axis=1)\n",
    "g.fig.suptitle(\"median coverage for each cell over the MT genomic positions\")\n",
    "plt.tight_layout()\n",
    "g.fig.savefig(fname=join(outdir, f\"coverage_median_per_cell.pdf\"), dpi=500, bbox_inches='tight', pad_inches=0.5)\n",
    "\n",
    "g = sns.FacetGrid(data=results_cov_df, row=\"run\", col=\"condition\")\n",
    "g.map_dataframe(plot_violin, method=\"mean\", axis=1)\n",
    "g.fig.suptitle(\"mean coverage for each cell over the MT genomic positions\")\n",
    "plt.tight_layout()\n",
    "g.fig.savefig(fname=join(outdir, f\"coverage_mean_per_cell.pdf\"), dpi=500, bbox_inches='tight', pad_inches=0.5)"
   ]
  },
  {
   "cell_type": "markdown",
   "id": "4c87cf07",
   "metadata": {},
   "source": [
    "## Plot median+mean cell AF for each position"
   ]
  },
  {
   "cell_type": "code",
   "execution_count": 10,
   "id": "7c4f615d",
   "metadata": {
    "scrolled": true
   },
   "outputs": [],
   "source": [
    "g = sns.FacetGrid(data=results_af_df, row=\"run\", col=\"condition\")\n",
    "g.map_dataframe(plot_violin, method=\"median\")\n",
    "g.fig.suptitle(\"median coverage for each called variant genomic loci\")\n",
    "plt.tight_layout()\n",
    "g.fig.savefig(fname=join(outdir, f\"af_median_per_variant.pdf\"), dpi=500, bbox_inches='tight', pad_inches=0.5)\n",
    "\n",
    "g = sns.FacetGrid(data=results_af_df, row=\"run\", col=\"condition\")\n",
    "g.map_dataframe(plot_violin, method=\"mean\")\n",
    "g.fig.suptitle(\"mean coverage for each called variant genomic loci\")\n",
    "plt.tight_layout()\n",
    "g.fig.savefig(fname=join(outdir, f\"af_mean_per_variant.pdf\"), dpi=500, bbox_inches='tight', pad_inches=0.5)"
   ]
  },
  {
   "cell_type": "markdown",
   "id": "4229406a",
   "metadata": {},
   "source": [
    "## Calculate barplot coverage plot"
   ]
  },
  {
   "cell_type": "code",
   "execution_count": 11,
   "id": "cc6f917e",
   "metadata": {
    "scrolled": true
   },
   "outputs": [],
   "source": [
    "def plot_percent_coverage_cells(data,\n",
    "                                x_cov=(5, 10, 30, 50, 100, 200, 300),\n",
    "                                cells_cov = (1, 10, 100, 500, 1000,5000,10000), **kwargs):\n",
    "    # x_cov = [1, 2, 5, 10, 30, 50, 100, 200, 1000, 2000, 3000]\n",
    "    # cells_cov = [1, 10, 100, 500]\n",
    "\n",
    "    pct_cov_df = pd.DataFrame(\n",
    "        columns=[\"Number of MT positions\", \"Minimum number of cells\",\n",
    "                 \"Minimum number of reads\"])\n",
    "\n",
    "    for x in x_cov:\n",
    "        sc_coverage = data.pivot(index=\"index\", columns=\"variable\", values=\"value\").fillna(0)\n",
    "        #curr_count = (sc_coverage >= x).sum(axis=0)\n",
    "        curr_count = (sc_coverage >= x).sum(axis=1)\n",
    "        \n",
    "        for c in cells_cov:\n",
    "            pct_cov_df = pd.concat((pct_cov_df, pd.DataFrame(\n",
    "                {\"Number of MT positions\": (curr_count >= c).sum(),\n",
    "                 \"Minimum number of cells\": c,\n",
    "                 \"Minimum number of reads\": x}, index=[len(\n",
    "                    pct_cov_df)])))  # pct_cov.append((sc_coverage > x).sum(axis=0).sum())\n",
    "    sns.barplot(data=pct_cov_df, x=\"Minimum number of reads\",\n",
    "                y=\"Number of MT positions\",\n",
    "                hue=\"Minimum number of cells\", ax=plt.gca())\n",
    "    plt.xticks(rotation=45)\n",
    "    return\n",
    "\n",
    "g = sns.FacetGrid(data=results_cov_df, row=\"run\", col=\"condition\", height=4)\n",
    "g.map_dataframe(plot_percent_coverage_cells)\n",
    "plt.legend(loc='best')\n",
    "g.fig.savefig(fname=join(outdir, f\"coverage_ncells_npositions.pdf\"), dpi=500, bbox_inches='tight', pad_inches=0.5)"
   ]
  },
  {
   "cell_type": "code",
   "execution_count": 12,
   "id": "69ffa0fe",
   "metadata": {},
   "outputs": [],
   "source": [
    "g = sns.FacetGrid(data=results_cov_df, row=\"run\", col=\"condition\", sharey=False)\n",
    "g.map_dataframe(plot_percent_coverage_cells)\n",
    "plt.legend(loc='best')\n",
    "g.fig.savefig(fname=join(outdir, f\"coverage_ncells_npositions.diff_y_axis.pdf\"), dpi=500, bbox_inches='tight', pad_inches=0.5)"
   ]
  },
  {
   "cell_type": "code",
   "execution_count": 13,
   "id": "d03fba8e",
   "metadata": {},
   "outputs": [],
   "source": [
    "#results_df.to_csv(out_f, sep=\"\\t\")"
   ]
  },
  {
   "cell_type": "code",
   "execution_count": null,
   "id": "a5dd3a83",
   "metadata": {},
   "outputs": [],
   "source": []
  },
  {
   "cell_type": "markdown",
   "id": "76c985c8",
   "metadata": {},
   "source": [
    "### Plot average across genome (make circular?)"
   ]
  },
  {
   "cell_type": "code",
   "execution_count": 14,
   "id": "70473479",
   "metadata": {},
   "outputs": [],
   "source": [
    "results_cov_df[\"position\"] = results_cov_df[\"variable\"].apply(lambda x: x.split(\">\")[0][:-1]).astype(int)\n",
    "\n",
    "pos_mean = results_cov_df.groupby([\"position\",\"ID\"]).mean().sort_index()\n",
    "pos_mean[\"log2_count\"] = np.log2(1+pos_mean[[\"value\"]])\n",
    "\n",
    "g=sns.FacetGrid(pos_mean.reset_index(), col=\"ID\", col_wrap=2 )\n",
    "g.map_dataframe(sns.regplot,x=\"position\", y=\"log2_count\")\n",
    "plt.savefig(join(outdir, \"position_mean.svg\"))\n",
    "plt.savefig(join(outdir, \"position_mean.pdf\"))\n",
    "\n",
    "g=sns.FacetGrid(pos_mean.reset_index(), col=\"ID\", col_wrap=2 , sharey=False)\n",
    "g.map_dataframe(sns.regplot,x=\"position\", y=\"log2_count\")\n",
    "plt.savefig(join(outdir, \"position_mean_diffY.svg\"))\n",
    "plt.savefig(join(outdir, \"position_mean_diffY.pdf\"))\n",
    "\n"
   ]
  },
  {
   "cell_type": "code",
   "execution_count": 15,
   "id": "f17772af",
   "metadata": {},
   "outputs": [],
   "source": [
    "# upperLimit = 100\n",
    "# lowerLimit = 30\n",
    "\n",
    "# # Compute max and min in the dataset\n",
    "# max = df['Value'].max()\n",
    "\n",
    "# # Let's compute heights: they are a conversion of each item value in those new coordinates\n",
    "# # In our example, 0 in the dataset will be converted to the lowerLimit (10)\n",
    "# # The maximum will be converted to the upperLimit (100)\n",
    "# slope = (max - lowerLimit) / max\n",
    "# heights = slope * df.Value + lowerLimit\n",
    "\n",
    "# # Compute the width of each bar. In total we have 2*Pi = 360°\n",
    "# width = 2*np.pi / len(df.index)\n",
    "\n",
    "# # Compute the angle each bar is centered on:\n",
    "# indexes = list(range(1, len(df.index)+1))\n",
    "# angles = [element * width for element in indexes]\n",
    "# angles\n",
    "\n",
    "# # Draw bars\n",
    "# bars = ax.bar(\n",
    "#     x=angles, \n",
    "#     height=heights, \n",
    "#     width=width, \n",
    "#     bottom=lowerLimit,\n",
    "#     linewidth=2, \n",
    "#     edgecolor=\"white\")"
   ]
  },
  {
   "cell_type": "code",
   "execution_count": null,
   "id": "b5990c3f",
   "metadata": {},
   "outputs": [],
   "source": []
  },
  {
   "cell_type": "code",
   "execution_count": null,
   "id": "c5f554c7",
   "metadata": {},
   "outputs": [],
   "source": []
  }
 ],
 "metadata": {
  "celltoolbar": "Tags",
  "kernelspec": {
   "display_name": "Python 3 (ipykernel)",
   "language": "python",
   "name": "python3"
  },
  "language_info": {
   "codemirror_mode": {
    "name": "ipython",
    "version": 3
   },
   "file_extension": ".py",
   "mimetype": "text/x-python",
   "name": "python",
   "nbconvert_exporter": "python",
   "pygments_lexer": "ipython3",
   "version": "3.7.12"
  }
 },
 "nbformat": 4,
 "nbformat_minor": 5
}
