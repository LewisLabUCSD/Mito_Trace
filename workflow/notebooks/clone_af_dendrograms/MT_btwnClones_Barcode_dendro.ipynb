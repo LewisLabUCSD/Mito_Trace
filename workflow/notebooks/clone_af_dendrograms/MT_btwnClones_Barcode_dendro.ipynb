{
 "cells": [
  {
   "cell_type": "code",
   "execution_count": 1,
   "metadata": {
    "ExecuteTime": {
     "end_time": "2021-05-13T20:12:12.096903Z",
     "start_time": "2021-05-13T20:12:12.086904Z"
    },
    "scrolled": false
   },
   "outputs": [
    {
     "data": {
      "text/plain": [
       "'/mnt/md0/isshamie/Projects/Mito_Trace/workflow/notebooks/clone_af_dendrograms'"
      ]
     },
     "execution_count": 1,
     "metadata": {},
     "output_type": "execute_result"
    }
   ],
   "source": [
    "pwd"
   ]
  },
  {
   "cell_type": "code",
   "execution_count": 2,
   "metadata": {
    "ExecuteTime": {
     "end_time": "2021-05-13T20:12:12.105680Z",
     "start_time": "2021-05-13T20:12:12.099105Z"
    },
    "tags": [
     "parameters"
    ]
   },
   "outputs": [],
   "source": [
    "\n",
    "# INDIR = \"/data/Mito_Trace/output/pipeline/v02/CHIP_b1/MTBlacklist_A2/data/merged/MT/cellr_True/numread_200/filters/minC10_minR50_topN0_hetT0.001_hetC10_hetCount5_bq20/mgatk/vireoIn/clones/variants_init/knn/kparam_3/\"\n",
    "# OUTDIR = \"/data/Mito_Trace/output/pipeline/v02/CHIP_b1/MTBlacklist_A2/data/merged/MT/cellr_True/numread_200/filters/minC10_minR50_topN0_hetT0.001_hetC10_hetCount5_bq20/mgatk/vireoIn/clones/variants_init/knn/kparam_3/barcodes/btwnClones_dendro_dt_0.6/\"\n",
    "# DONOR = 0\n",
    "# dendroThresh=0.6\n",
    "\n",
    "#clones_meta = '/data/Mito_Trace/output/pipeline/v02/CHIP_b1/MTBlacklist_A2/results/clones_summary/feb23_2022/clones_summary.csv'\n",
    "#clones_indir = \"/data/Mito_Trace/output/pipeline/v02/CHIP_b1/MTBlacklist_A2/data/merged/MT/cellr_True/numread_200/filters/minC10_minR50_topN0_hetT0.001_hetC10_hetCount5_bq20/mgatk/vireoIn/clones/variants_init/knn/kparam_3/\"\n",
    "#clone_sizes_in_f = \"/data/Mito_Trace/output/pipeline/v02/CHIP_b1/MTBlacklist_A2/data/merged/MT/cellr_True/numread_200/filters/minC10_minR50_topN0_hetT0.001_hetC10_hetCount5_bq20/mgatk/vireoIn/clones/variants_init/knn/kparam_3/gff_A2_black/annotation_clones/clone_counts/minCellConds_1/clone_sizes.csv\"\n",
    "INDIR = \"/data/Mito_Trace/output/pipeline/v04/CHIP_Input_nameFix_april08_2021/MTblacklist/data/merged/MT/cellr_True/numread_200/filters/minC10_minR50_topN0_hetT0.001_hetC10_hetCount5_bq20/mgatk/vireoIn/clones/variants_prefilterMerge_impute/knn/kparam_30\"\n",
    "OUTDIR = \"/data/Mito_Trace/output/pipeline/v04/CHIP_Input_nameFix_april08_2021/MTblacklist/data/merged/MT/cellr_True/numread_200/filters/minC10_minR50_topN0_hetT0.001_hetC10_hetCount5_bq20/mgatk/vireoIn/clones/variants_prefilterMerge_impute/knn/kparam_30/barcodes/btwnClones_dendro_dt_0.6\"\n",
    "DONOR = 3\n",
    "\n",
    "\n",
    "# INDIR = \"/data/Mito_Trace/output/pipeline/v02/CHIP_b1/MTBlacklist_A2/data/merged/MT/cellr_True/numread_200/filters/minC10_minR50_topN0_hetT0.001_hetC10_hetCount5_bq20/mgatk/vireoIn/clones/variants_init/knn/kparam_30\"\n",
    "# OUTDIR = \"/data/Mito_Trace/output/pipeline/v02/CHIP_b1/MTBlacklist_A2/data/merged/MT/cellr_True/numread_200/filters/minC10_minR50_topN0_hetT0.001_hetC10_hetCount5_bq20/mgatk/vireoIn/clones/variants_init/knn/kparam_30/barcodes/btwnClones_dendro_dt_0.6\"\n",
    "# DONOR = 1\n",
    "dendroThresh = 0.6\n",
    "\n",
    "verbose=False\n",
    "\n",
    "mt_ref=\"/data/Mito_Trace/data/processed/genomes/mtMasked/GRCh38_MT_blacklist_A2_2020/chrM.fasta\""
   ]
  },
  {
   "cell_type": "code",
   "execution_count": 3,
   "metadata": {
    "ExecuteTime": {
     "end_time": "2021-05-13T20:12:13.155526Z",
     "start_time": "2021-05-13T20:12:12.130665Z"
    }
   },
   "outputs": [
    {
     "name": "stdout",
     "output_type": "stream",
     "text": [
      "fig_utils from mplh\n",
      "0.5.6\n"
     ]
    }
   ],
   "source": [
    "import src.utils.variant_utils as vu\n",
    "import src.utils.dendro_clust as dc\n",
    "\n",
    "import mplh.cluster_help as ch\n",
    "import mplh.fig_utils as fu\n",
    "\n",
    "from os.path import join, exists, dirname\n",
    "from glob import glob\n",
    "import pickle\n",
    "import os\n",
    "import vireoSNP\n",
    "import numpy as np\n",
    "from scipy import sparse\n",
    "from scipy.io import mmread\n",
    "import matplotlib.pyplot as plt\n",
    "from scipy.stats import hypergeom\n",
    "print(vireoSNP.__version__)\n",
    "import pandas as pd\n",
    "import seaborn as sns\n",
    "from vireoSNP import Vireo\n",
    "np.set_printoptions(formatter={'float': lambda x: format(x, '.5f')})\n",
    "import scipy\n",
    "from itertools import combinations\n",
    "#from src.utils import utils  as ut"
   ]
  },
  {
   "cell_type": "code",
   "execution_count": 4,
   "metadata": {},
   "outputs": [],
   "source": [
    "%load_ext autoreload\n",
    "%autoreload 2"
   ]
  },
  {
   "cell_type": "code",
   "execution_count": 5,
   "metadata": {},
   "outputs": [],
   "source": [
    "out_f = join(OUTDIR, f\"donor{DONOR}\")"
   ]
  },
  {
   "cell_type": "markdown",
   "metadata": {},
   "source": [
    "### Load cells_meta \n",
    "### Create clones_meta - get number of cells in a clone and donor"
   ]
  },
  {
   "cell_type": "code",
   "execution_count": 6,
   "metadata": {
    "scrolled": true
   },
   "outputs": [
    {
     "data": {
      "text/html": [
       "<div>\n",
       "<style scoped>\n",
       "    .dataframe tbody tr th:only-of-type {\n",
       "        vertical-align: middle;\n",
       "    }\n",
       "\n",
       "    .dataframe tbody tr th {\n",
       "        vertical-align: top;\n",
       "    }\n",
       "\n",
       "    .dataframe thead th {\n",
       "        text-align: right;\n",
       "    }\n",
       "</style>\n",
       "<table border=\"1\" class=\"dataframe\">\n",
       "  <thead>\n",
       "    <tr style=\"text-align: right;\">\n",
       "      <th></th>\n",
       "      <th>ID</th>\n",
       "      <th>lineage</th>\n",
       "      <th>donor</th>\n",
       "      <th>condition</th>\n",
       "    </tr>\n",
       "  </thead>\n",
       "  <tbody>\n",
       "    <tr>\n",
       "      <th>0</th>\n",
       "      <td>AAACTCGCAAGACACG-1_Input</td>\n",
       "      <td>0_0</td>\n",
       "      <td>0</td>\n",
       "      <td>Input</td>\n",
       "    </tr>\n",
       "    <tr>\n",
       "      <th>1</th>\n",
       "      <td>AAAGGGCTCACAGGGA-1_Input</td>\n",
       "      <td>0_0</td>\n",
       "      <td>0</td>\n",
       "      <td>Input</td>\n",
       "    </tr>\n",
       "    <tr>\n",
       "      <th>2</th>\n",
       "      <td>AAATGAGAGAGACTCG-1_Input</td>\n",
       "      <td>0_0</td>\n",
       "      <td>0</td>\n",
       "      <td>Input</td>\n",
       "    </tr>\n",
       "    <tr>\n",
       "      <th>3</th>\n",
       "      <td>AAATGAGAGCTACGCC-1_Input</td>\n",
       "      <td>0_0</td>\n",
       "      <td>0</td>\n",
       "      <td>Input</td>\n",
       "    </tr>\n",
       "    <tr>\n",
       "      <th>4</th>\n",
       "      <td>AACAGTCCACCGAAAG-1_Input</td>\n",
       "      <td>0_0</td>\n",
       "      <td>0</td>\n",
       "      <td>Input</td>\n",
       "    </tr>\n",
       "    <tr>\n",
       "      <th>...</th>\n",
       "      <td>...</td>\n",
       "      <td>...</td>\n",
       "      <td>...</td>\n",
       "      <td>...</td>\n",
       "    </tr>\n",
       "    <tr>\n",
       "      <th>1436</th>\n",
       "      <td>TACCTCGAGCTATCGT-1_Flt3l</td>\n",
       "      <td>4_5</td>\n",
       "      <td>4</td>\n",
       "      <td>Flt3l</td>\n",
       "    </tr>\n",
       "    <tr>\n",
       "      <th>1437</th>\n",
       "      <td>TCAGCTCGTAGTACAA-1_Flt3l</td>\n",
       "      <td>4_5</td>\n",
       "      <td>4</td>\n",
       "      <td>Flt3l</td>\n",
       "    </tr>\n",
       "    <tr>\n",
       "      <th>1438</th>\n",
       "      <td>TTAACGGGTGCGTTTA-1_Flt3l</td>\n",
       "      <td>4_5</td>\n",
       "      <td>4</td>\n",
       "      <td>Flt3l</td>\n",
       "    </tr>\n",
       "    <tr>\n",
       "      <th>1439</th>\n",
       "      <td>TTACTCATCTGATCCC-1_Flt3l</td>\n",
       "      <td>4_5</td>\n",
       "      <td>4</td>\n",
       "      <td>Flt3l</td>\n",
       "    </tr>\n",
       "    <tr>\n",
       "      <th>1440</th>\n",
       "      <td>TTGCGAAAGACCGCAA-1_Flt3l</td>\n",
       "      <td>4_5</td>\n",
       "      <td>4</td>\n",
       "      <td>Flt3l</td>\n",
       "    </tr>\n",
       "  </tbody>\n",
       "</table>\n",
       "<p>1441 rows × 4 columns</p>\n",
       "</div>"
      ],
      "text/plain": [
       "                            ID lineage  donor condition\n",
       "0     AAACTCGCAAGACACG-1_Input     0_0      0     Input\n",
       "1     AAAGGGCTCACAGGGA-1_Input     0_0      0     Input\n",
       "2     AAATGAGAGAGACTCG-1_Input     0_0      0     Input\n",
       "3     AAATGAGAGCTACGCC-1_Input     0_0      0     Input\n",
       "4     AACAGTCCACCGAAAG-1_Input     0_0      0     Input\n",
       "...                        ...     ...    ...       ...\n",
       "1436  TACCTCGAGCTATCGT-1_Flt3l     4_5      4     Flt3l\n",
       "1437  TCAGCTCGTAGTACAA-1_Flt3l     4_5      4     Flt3l\n",
       "1438  TTAACGGGTGCGTTTA-1_Flt3l     4_5      4     Flt3l\n",
       "1439  TTACTCATCTGATCCC-1_Flt3l     4_5      4     Flt3l\n",
       "1440  TTGCGAAAGACCGCAA-1_Flt3l     4_5      4     Flt3l\n",
       "\n",
       "[1441 rows x 4 columns]"
      ]
     },
     "execution_count": 6,
     "metadata": {},
     "output_type": "execute_result"
    }
   ],
   "source": [
    "cells_meta = pd.read_csv(join(INDIR, \"cells_meta.tsv\"), sep=\"\\t\")\n",
    "cells_meta[\"lineage\"] = cells_meta.apply(lambda x: f'{x[\"donor\"]}_{x[\"lineage\"]}', axis=1)\n",
    "cells_meta"
   ]
  },
  {
   "cell_type": "code",
   "execution_count": 7,
   "metadata": {
    "scrolled": true
   },
   "outputs": [
    {
     "data": {
      "text/html": [
       "<div>\n",
       "<style scoped>\n",
       "    .dataframe tbody tr th:only-of-type {\n",
       "        vertical-align: middle;\n",
       "    }\n",
       "\n",
       "    .dataframe tbody tr th {\n",
       "        vertical-align: top;\n",
       "    }\n",
       "\n",
       "    .dataframe thead th {\n",
       "        text-align: right;\n",
       "    }\n",
       "</style>\n",
       "<table border=\"1\" class=\"dataframe\">\n",
       "  <thead>\n",
       "    <tr style=\"text-align: right;\">\n",
       "      <th></th>\n",
       "      <th>size</th>\n",
       "      <th>donor</th>\n",
       "    </tr>\n",
       "    <tr>\n",
       "      <th>lineage</th>\n",
       "      <th></th>\n",
       "      <th></th>\n",
       "    </tr>\n",
       "  </thead>\n",
       "  <tbody>\n",
       "    <tr>\n",
       "      <th>0_0</th>\n",
       "      <td>222</td>\n",
       "      <td>0</td>\n",
       "    </tr>\n",
       "    <tr>\n",
       "      <th>0_1</th>\n",
       "      <td>112</td>\n",
       "      <td>0</td>\n",
       "    </tr>\n",
       "    <tr>\n",
       "      <th>0_10</th>\n",
       "      <td>20</td>\n",
       "      <td>0</td>\n",
       "    </tr>\n",
       "    <tr>\n",
       "      <th>0_11</th>\n",
       "      <td>10</td>\n",
       "      <td>0</td>\n",
       "    </tr>\n",
       "    <tr>\n",
       "      <th>0_12</th>\n",
       "      <td>9</td>\n",
       "      <td>0</td>\n",
       "    </tr>\n",
       "    <tr>\n",
       "      <th>...</th>\n",
       "      <td>...</td>\n",
       "      <td>...</td>\n",
       "    </tr>\n",
       "    <tr>\n",
       "      <th>4_1</th>\n",
       "      <td>8</td>\n",
       "      <td>4</td>\n",
       "    </tr>\n",
       "    <tr>\n",
       "      <th>4_2</th>\n",
       "      <td>4</td>\n",
       "      <td>4</td>\n",
       "    </tr>\n",
       "    <tr>\n",
       "      <th>4_3</th>\n",
       "      <td>7</td>\n",
       "      <td>4</td>\n",
       "    </tr>\n",
       "    <tr>\n",
       "      <th>4_4</th>\n",
       "      <td>18</td>\n",
       "      <td>4</td>\n",
       "    </tr>\n",
       "    <tr>\n",
       "      <th>4_5</th>\n",
       "      <td>17</td>\n",
       "      <td>4</td>\n",
       "    </tr>\n",
       "  </tbody>\n",
       "</table>\n",
       "<p>91 rows × 2 columns</p>\n",
       "</div>"
      ],
      "text/plain": [
       "         size  donor\n",
       "lineage             \n",
       "0_0       222      0\n",
       "0_1       112      0\n",
       "0_10       20      0\n",
       "0_11       10      0\n",
       "0_12        9      0\n",
       "...       ...    ...\n",
       "4_1         8      4\n",
       "4_2         4      4\n",
       "4_3         7      4\n",
       "4_4        18      4\n",
       "4_5        17      4\n",
       "\n",
       "[91 rows x 2 columns]"
      ]
     },
     "execution_count": 7,
     "metadata": {},
     "output_type": "execute_result"
    }
   ],
   "source": [
    "clones_meta_df = pd.DataFrame(cells_meta.groupby(\"lineage\").size(), columns=[\"size\"]) #, index=[\"size\"])\n",
    "clones_meta_df[\"donor\"] = [x.split(\"_\")[0] for x in clones_meta_df.index]\n",
    "clones_meta_df[\"donor\"] = clones_meta_df[\"donor\"].astype(int)\n",
    "clones_meta_df"
   ]
  },
  {
   "cell_type": "code",
   "execution_count": null,
   "metadata": {},
   "outputs": [],
   "source": []
  },
  {
   "cell_type": "code",
   "execution_count": 8,
   "metadata": {
    "scrolled": true
   },
   "outputs": [],
   "source": [
    "curr_clones = clones_meta_df[clones_meta_df[\"donor\"]==DONOR]\n",
    "# cells_meta = pd.read_csv(join(INDIR, \"cells_meta.tsv\"), sep='\\t')#.sort_values([\"donor\", \"lineage\"])\n",
    "curr_labels = cells_meta[cells_meta[\"donor\"]==DONOR]"
   ]
  },
  {
   "cell_type": "code",
   "execution_count": 9,
   "metadata": {
    "scrolled": true
   },
   "outputs": [],
   "source": [
    "# curr_clones = clones_meta_df[clones_meta_df[\"donor\"]==DONOR].set_index(\"lineage\")\n",
    "# curr_clones"
   ]
  },
  {
   "cell_type": "markdown",
   "metadata": {},
   "source": [
    "## Load AF and DP"
   ]
  },
  {
   "cell_type": "code",
   "execution_count": 10,
   "metadata": {},
   "outputs": [],
   "source": [
    "af_indir = join(INDIR, \"sc_af\", f\"donor{DONOR}\")\n",
    "AF_df = pd.read_csv(join(af_indir, \"af.tsv\"), index_col=0, sep=\"\\t\")\n",
    "DP_df = pd.read_csv(join(af_indir, \"dp.tsv\"), index_col=0, sep=\"\\t\")\n"
   ]
  },
  {
   "cell_type": "markdown",
   "metadata": {},
   "source": [
    "### Functions to get mean and median"
   ]
  },
  {
   "cell_type": "code",
   "execution_count": 11,
   "metadata": {},
   "outputs": [],
   "source": [
    "def calc_mean(cells, af):\n",
    "    #print(cells.head())\n",
    "    return af.loc[:,cells[\"ID\"].values].mean(axis=1)\n",
    "\n",
    "def calc_median(cells, af):\n",
    "    #print(cells.head())\n",
    "    return af.loc[:,cells[\"ID\"].values].median(axis=1)"
   ]
  },
  {
   "cell_type": "markdown",
   "metadata": {},
   "source": [
    "### Calculate clone-barcode mean"
   ]
  },
  {
   "cell_type": "code",
   "execution_count": 12,
   "metadata": {
    "scrolled": true
   },
   "outputs": [
    {
     "data": {
      "text/html": [
       "<div>\n",
       "<style scoped>\n",
       "    .dataframe tbody tr th:only-of-type {\n",
       "        vertical-align: middle;\n",
       "    }\n",
       "\n",
       "    .dataframe tbody tr th {\n",
       "        vertical-align: top;\n",
       "    }\n",
       "\n",
       "    .dataframe thead th {\n",
       "        text-align: right;\n",
       "    }\n",
       "</style>\n",
       "<table border=\"1\" class=\"dataframe\">\n",
       "  <thead>\n",
       "    <tr style=\"text-align: right;\">\n",
       "      <th>Variant</th>\n",
       "      <th>2291T</th>\n",
       "    </tr>\n",
       "    <tr>\n",
       "      <th>lineage</th>\n",
       "      <th></th>\n",
       "    </tr>\n",
       "  </thead>\n",
       "  <tbody>\n",
       "    <tr>\n",
       "      <th>3_0</th>\n",
       "      <td>0.003272</td>\n",
       "    </tr>\n",
       "  </tbody>\n",
       "</table>\n",
       "</div>"
      ],
      "text/plain": [
       "Variant     2291T\n",
       "lineage          \n",
       "3_0      0.003272"
      ]
     },
     "execution_count": 12,
     "metadata": {},
     "output_type": "execute_result"
    }
   ],
   "source": [
    "mean_af = curr_labels.groupby([\"lineage\"]).apply(calc_mean, af=AF_df)\n",
    "anno = mean_af.reset_index()[[\"lineage\"]]\n",
    "\n",
    "# Remove clones that have all 0\n",
    "# print('mean_af shape', mean_af.shape)\n",
    "# mean_af = mean_af.loc[~((mean_af==0).all(axis=1))]\n",
    "# curr_clones = curr_clones.loc[mean_af.index]\n",
    "# print('mean_af shape after rm 0', mean_af.shape)\n",
    "\n",
    "mean_dp = curr_labels.groupby([\"lineage\"]).apply(calc_mean, af=np.log2(DP_df+1))\n",
    "mean_dp = mean_dp.loc[mean_af.index, mean_af.columns]\n",
    "\n",
    "#mean_dp = mean_dp.reset_index(drop=True)\n",
    "anno_dp = mean_dp.reset_index()[[\"lineage\"]]\n",
    "na_cells = curr_labels.loc[curr_labels[\"lineage\"].isnull()]\n",
    "na_mean_af = na_cells.groupby(\"condition\").apply(calc_mean, af=AF_df)\n",
    "\n",
    "if not (na_mean_af.shape[0] == 0):\n",
    "    print('na shape', na_mean_af.shape)\n",
    "    na_anno = pd.concat((anno,pd.DataFrame({\"lineage\":[\"None\"]*len(na_mean_af.index)})), ignore_index=True)\n",
    "    na_concat = pd.concat((mean_af.reset_index(drop=True), na_mean_af.reset_index(drop=True)), ignore_index=True)\n",
    "    na_mean_dp = na_cells.groupby(\"condition\").apply(calc_mean, af=np.log2(DP_df+1))\n",
    "    na_dp_concat = pd.concat((mean_dp, na_mean_dp.reset_index(drop=True)), ignore_index=True)\n",
    "else:\n",
    "    na_anno = anno\n",
    "    na_concat = mean_af.reset_index(drop=True)\n",
    "    na_dp_concat = mean_dp\n",
    "     \n",
    "mean_af  "
   ]
  },
  {
   "cell_type": "code",
   "execution_count": 13,
   "metadata": {},
   "outputs": [],
   "source": [
    "# Get variant types\n",
    "variants_df = vu.add_ref_to_variants(variants=mean_af.columns.values,\n",
    "                                     mt_df=vu.load_mt_ref(mt_ref))\n",
    "\n",
    "variants_df = vu.type_of_variants(variants_df, to_preproc=False)"
   ]
  },
  {
   "cell_type": "code",
   "execution_count": 14,
   "metadata": {},
   "outputs": [],
   "source": [
    "# mean_af.to_csv(out_f+\".initInds.mean.csv\")\n",
    "\n",
    "# curr_clones[[\"donor\",\"size\", \"log2_fold\",\"-log10(fold p_adj)\", \"shuffle_sig\", \n",
    "#              \"ncells\"]+ list(curr_labels[\"condition\"].unique())].to_csv(out_f+\".initInds.indsMeta.csv\")"
   ]
  },
  {
   "cell_type": "markdown",
   "metadata": {},
   "source": [
    "### Cluster to get dendro results"
   ]
  },
  {
   "cell_type": "code",
   "execution_count": 15,
   "metadata": {},
   "outputs": [
    {
     "data": {
      "text/html": [
       "<div>\n",
       "<style scoped>\n",
       "    .dataframe tbody tr th:only-of-type {\n",
       "        vertical-align: middle;\n",
       "    }\n",
       "\n",
       "    .dataframe tbody tr th {\n",
       "        vertical-align: top;\n",
       "    }\n",
       "\n",
       "    .dataframe thead th {\n",
       "        text-align: right;\n",
       "    }\n",
       "</style>\n",
       "<table border=\"1\" class=\"dataframe\">\n",
       "  <thead>\n",
       "    <tr style=\"text-align: right;\">\n",
       "      <th>Variant</th>\n",
       "      <th>2291T</th>\n",
       "    </tr>\n",
       "    <tr>\n",
       "      <th>lineage</th>\n",
       "      <th></th>\n",
       "    </tr>\n",
       "  </thead>\n",
       "  <tbody>\n",
       "    <tr>\n",
       "      <th>3_0</th>\n",
       "      <td>0.003272</td>\n",
       "    </tr>\n",
       "  </tbody>\n",
       "</table>\n",
       "</div>"
      ],
      "text/plain": [
       "Variant     2291T\n",
       "lineage          \n",
       "3_0      0.003272"
      ]
     },
     "execution_count": 15,
     "metadata": {},
     "output_type": "execute_result"
    }
   ],
   "source": [
    "mean_af"
   ]
  },
  {
   "cell_type": "code",
   "execution_count": 16,
   "metadata": {},
   "outputs": [
    {
     "name": "stdout",
     "output_type": "stream",
     "text": [
      "no clustering needed only one var\n"
     ]
    }
   ],
   "source": [
    "if mean_af.shape[0] == 1 or  mean_af.shape[1] == 1 :\n",
    "    print('no clustering needed only one var')\n",
    "else:\n",
    "    g = sns.clustermap(mean_af, row_cluster=True, col_cluster=True, vmax=0.2, vmin=0)\n",
    "    inds = g.dendrogram_row.dendrogram[\"leaves\"]\n",
    "    cols = g.dendrogram_col.dendrogram[\"leaves\"]\n",
    "    curr_clones = curr_clones.iloc[inds]\n",
    "    plt.close(g.fig)"
   ]
  },
  {
   "cell_type": "markdown",
   "metadata": {},
   "source": [
    "### Cluster and calculate proper size"
   ]
  },
  {
   "cell_type": "code",
   "execution_count": 17,
   "metadata": {
    "scrolled": false
   },
   "outputs": [],
   "source": [
    "%matplotlib inline\n",
    "if not (mean_af.shape[0] == 1 or  mean_af.shape[1] == 1 ):\n",
    "\n",
    "    den = dc.dendro_cluster(mean_af, g, d_thresh=dendroThresh)\n",
    "\n",
    "    if verbose:\n",
    "        print('icoord and color list')\n",
    "        print(len(den[\"icoord\"]))\n",
    "        print(len(den[\"color_list\"]))\n",
    "        print('leaves leaves color and mean_af shape')\n",
    "        print(len(den[\"leaves\"]))\n",
    "        print(len(den[\"leaves_color_list\"]))\n",
    "        print(mean_af.shape)\n",
    "\n",
    "\n",
    "\n",
    "    # cluster_classes = dc.get_cluster_classes(den)\n",
    "    curr_clones = dc.add_cluster_labels(den,curr_clones)\n",
    "    curr_clones\n",
    "\n",
    "    size_pvals = dc.cluster_stats(curr_clones, out_f= out_f )\n",
    "\n",
    "    curr_clones[\"donor\"]= [x.split(\"_\")[0] for x in curr_clones.index]\n",
    "    curr_clones = curr_clones.loc[mean_af.index]\n",
    "\n",
    "    # with open(out_f + \".dendrogram_pvals.txt\", \"w\") as f:\n",
    "    #     #for l in size_pvals:\n",
    "    #     f.write(\"\\n\".join(size_pvals))\n",
    "\n",
    "    curr_clones\n"
   ]
  },
  {
   "cell_type": "code",
   "execution_count": null,
   "metadata": {},
   "outputs": [],
   "source": []
  },
  {
   "cell_type": "markdown",
   "metadata": {},
   "source": [
    "## Group clones using dendrogram and run stats on size differences in the groups"
   ]
  },
  {
   "cell_type": "markdown",
   "metadata": {},
   "source": [
    "### Run ranksums on clone size btwn debdrogram clusters"
   ]
  },
  {
   "cell_type": "code",
   "execution_count": 18,
   "metadata": {},
   "outputs": [],
   "source": [
    "# size_pvals = []\n",
    "# for pair in combinations(curr_clones[\"den_clust\"].unique(),2):\n",
    "#     print(pair)\n",
    "#     stat, p_val = scipy.stats.ranksums(curr_clones.loc[curr_clones[\"den_clust\"]==pair[0], \"size\"].values, \n",
    "#                          y=curr_clones.loc[curr_clones[\"den_clust\"]==pair[1], \"size\"].values, \n",
    "#                          alternative='two-sided')\n",
    "\n",
    "#     size_pvals.append(f\"{pair[0]}, {pair[1]}, {str(p_val)}\")\n",
    "    \n"
   ]
  },
  {
   "cell_type": "markdown",
   "metadata": {},
   "source": [
    "## Plot with dendro clusters"
   ]
  },
  {
   "cell_type": "code",
   "execution_count": 19,
   "metadata": {},
   "outputs": [],
   "source": [
    "conditions = cells_meta[\"condition\"].unique()"
   ]
  },
  {
   "cell_type": "code",
   "execution_count": 20,
   "metadata": {
    "scrolled": true
   },
   "outputs": [],
   "source": [
    "if not (mean_af.shape[0] == 1 or  mean_af.shape[1] == 1 ):\n",
    "    g = ch.plot_cluster(mean_af,row_meta=curr_clones, to_row_clust=True, to_col_clust=True,\n",
    "                        col_meta=variants_df[[\"variant type\", \"variant change\"]], col_clr_schemes=\"categorical\",\n",
    "                        row_clr_schemes={\"size\":\"sequential\",\"donor\":\"categorical\",\"den_clust\":\"categorical\"}, \n",
    "                        vmax=0.2, vmin=0)\n",
    "    plt.suptitle(\"Donor sqrt allele-frequency heatmap with clone and condition labels (max AF=0.2)\")\n",
    "    #fu.helper_save(out_f+\"withEnrichmentFoldChange.NoCondition.clust.max2.AF.png\",to_pdf=False)\n",
    "    fu.helper_save(out_f+\".dendro.NoCondition.max2.AF.png\",to_pdf=False)\n",
    "\n",
    "    inds = g.dendrogram_row.dendrogram[\"leaves\"]\n",
    "    cols = g.dendrogram_col.dendrogram[\"leaves\"]\n",
    "\n",
    "    g1d = ch.plot_cluster(mean_dp.iloc[inds, cols], row_meta=curr_clones, to_row_clust=False, to_col_clust=False,\n",
    "                          row_clr_schemes={\"size\":\"sequential\",\"donor\":\"categorical\",\"den_clust\":\"categorical\"}, \n",
    "                          col_meta=variants_df[[\"variant type\", \"variant change\"]], col_clr_schemes=\"categorical\",\n",
    "                         )\n",
    "    g1d.ax_cbar.set_title(\"log2(reads+1)\")\n",
    "    fu.helper_save(out_f+\".dendro.NoCondition.DP.png\")#, f=g1d.figure)\n",
    "\n",
    "\n",
    "    mean_af = mean_af.iloc[inds,cols]\n",
    "    curr_clones = curr_clones.loc[mean_af.index]\n",
    "\n",
    "    ch.plot_cluster(mean_af,row_meta=curr_clones, to_row_clust=False, to_col_clust=False,\n",
    "                    col_meta=variants_df[[\"variant type\", \"variant change\"]], col_clr_schemes=\"categorical\",\n",
    "                    row_clr_schemes={\"size\":\"sequential\",\"donor\":\"categorical\",\"den_clust\":\"categorical\"}, \n",
    "                    vmax=0.5, vmin=0)\n",
    "    plt.suptitle(\"Donor sqrt allele-frequency heatmap with clone and condition labels (max AF=0.5)\")\n",
    "    #fu.helper_save(out_f+\"withEnrichmentFoldChange.NoCondition.clust.max5.AF.png\",to_pdf=False)\n",
    "    fu.helper_save(out_f+\".dendro.NoCondition.max5.AF.png\",to_pdf=False)\n",
    "\n"
   ]
  },
  {
   "cell_type": "code",
   "execution_count": 21,
   "metadata": {},
   "outputs": [
    {
     "data": {
      "text/plain": [
       "'/data/Mito_Trace/output/pipeline/v04/CHIP_Input_nameFix_april08_2021/MTblacklist/data/merged/MT/cellr_True/numread_200/filters/minC10_minR50_topN0_hetT0.001_hetC10_hetCount5_bq20/mgatk/vireoIn/clones/variants_prefilterMerge_impute/knn/kparam_30/barcodes/btwnClones_dendro_dt_0.6/donor3'"
      ]
     },
     "execution_count": 21,
     "metadata": {},
     "output_type": "execute_result"
    }
   ],
   "source": [
    "out_f"
   ]
  },
  {
   "cell_type": "markdown",
   "metadata": {},
   "source": [
    "### Save mean_af and curr_clonnes"
   ]
  },
  {
   "cell_type": "code",
   "execution_count": 22,
   "metadata": {},
   "outputs": [],
   "source": [
    "\n",
    "mean_af.to_csv(out_f+\".mean.csv\")\n",
    "curr_clones.to_csv(out_f+\".clones_dendro.csv\")"
   ]
  }
 ],
 "metadata": {
  "celltoolbar": "Tags",
  "kernelspec": {
   "display_name": "Python 3 (ipykernel)",
   "language": "python",
   "name": "python3"
  },
  "language_info": {
   "codemirror_mode": {
    "name": "ipython",
    "version": 3
   },
   "file_extension": ".py",
   "mimetype": "text/x-python",
   "name": "python",
   "nbconvert_exporter": "python",
   "pygments_lexer": "ipython3",
   "version": "3.7.12"
  },
  "papermill": {
   "default_parameters": {},
   "duration": 5560.364131,
   "end_time": "2021-01-27T10:03:31.625455",
   "environment_variables": {},
   "exception": null,
   "input_path": "/data2/mito_lineage/src/vireo/vireoSNP_clones.ipynb",
   "output_path": "results/jan21_2021/chrM/P2_cellSNP_minC200_minAF0.01/lineage_chrM.ipynb",
   "parameters": {
    "AD_F": "data/jan21_2021/chrM/P2_cellSNP_minC200_minAF0.01/cellSNP.tag.AD.mtx",
    "DP_F": "data/jan21_2021/chrM/P2_cellSNP_minC200_minAF0.01/cellSNP.tag.DP.mtx"
   },
   "start_time": "2021-01-27T08:30:51.261324",
   "version": "2.2.0"
  }
 },
 "nbformat": 4,
 "nbformat_minor": 4
}
