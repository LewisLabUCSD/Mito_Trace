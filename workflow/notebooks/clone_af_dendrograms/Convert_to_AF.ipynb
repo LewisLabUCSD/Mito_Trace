{
 "cells": [
  {
   "cell_type": "code",
   "execution_count": 1,
   "metadata": {
    "ExecuteTime": {
     "end_time": "2021-05-13T20:12:12.096903Z",
     "start_time": "2021-05-13T20:12:12.086904Z"
    },
    "scrolled": false
   },
   "outputs": [
    {
     "data": {
      "text/plain": [
       "'/mnt/md0/isshamie/Projects/Mito_Trace/workflow/notebooks/clone_af_dendrograms'"
      ]
     },
     "execution_count": 1,
     "metadata": {},
     "output_type": "execute_result"
    }
   ],
   "source": [
    "pwd"
   ]
  },
  {
   "cell_type": "code",
   "execution_count": 2,
   "metadata": {
    "ExecuteTime": {
     "end_time": "2021-05-13T20:12:12.105680Z",
     "start_time": "2021-05-13T20:12:12.099105Z"
    },
    "tags": [
     "parameters"
    ]
   },
   "outputs": [],
   "source": [
    "INDIR = \"/data/Mito_Trace/output/pipeline/CHIP_b1/MTBlacklist_A2/data/merged/MT/cellr_True/numread_200/filters/minC10_minR50_topN0_hetT0.001_hetC10_hetCount5_bq20/mgatk/vireoIn/clones/variants_init/knn/kparam_30/concat/\"\n",
    "COUNT_INDIR = \"/data/Mito_Trace/output/pipeline/CHIP_b1/MTBlacklist_A2/data/merged/MT/cellr_True/numread_200/filters/minC10_minR50_topN0_hetT0.001_hetC10_hetCount5_bq20/mgatk/vireoIn/multiplex/clones_init/donor0/\"\n",
    "OUTDIR = \"/data/Mito_Trace/output/pipeline/CHIP_b1/MTBlacklist_A2/data/merged/MT/cellr_True/numread_200/filters/minC10_minR50_topN0_hetT0.001_hetC10_hetCount5_bq20/mgatk/vireoIn/clones/variants_init/knn/kparam_30/concat/sc_af/donor0/\"\n",
    "DONOR = 0\n",
    "var_type = \"init\""
   ]
  },
  {
   "cell_type": "code",
   "execution_count": 3,
   "metadata": {
    "ExecuteTime": {
     "end_time": "2021-05-13T20:12:13.155526Z",
     "start_time": "2021-05-13T20:12:12.130665Z"
    }
   },
   "outputs": [
    {
     "name": "stdout",
     "output_type": "stream",
     "text": [
      "0.5.6\n"
     ]
    }
   ],
   "source": [
    "from os.path import join, exists, dirname\n",
    "from glob import glob\n",
    "import pickle\n",
    "import mplh.cluster_help as ch\n",
    "import mplh.fig_utils as fu\n",
    "\n",
    "import os\n",
    "import vireoSNP\n",
    "import numpy as np\n",
    "from scipy import sparse\n",
    "from scipy.io import mmread\n",
    "import matplotlib.pyplot as plt\n",
    "from scipy.stats import hypergeom\n",
    "print(vireoSNP.__version__)\n",
    "\n",
    "import pandas as pd\n",
    "import seaborn as sns\n",
    "from vireoSNP import Vireo\n",
    "np.set_printoptions(formatter={'float': lambda x: format(x, '.5f')})\n",
    "\n",
    "import seaborn as sns\n",
    "from mplh import cluster_help as ch"
   ]
  },
  {
   "cell_type": "code",
   "execution_count": 4,
   "metadata": {},
   "outputs": [],
   "source": [
    "if not exists(OUTDIR):\n",
    "    os.mkdir(OUTDIR)"
   ]
  },
  {
   "cell_type": "markdown",
   "metadata": {},
   "source": [
    "## Load cluster results and convert to AF"
   ]
  },
  {
   "cell_type": "code",
   "execution_count": 5,
   "metadata": {},
   "outputs": [],
   "source": [
    "out_f = join(OUTDIR, f\"donor{DONOR}\")\n",
    "\n",
    "if var_type == \"init\" or var_type == \"simpleUnion\" or var_type == \"prefilterMerge_impute\":\n",
    "    curr_af_f = join(COUNT_INDIR, \"af.tsv\")\n",
    "    curr_dp_f = join(COUNT_INDIR, \"dp.tsv\")\n",
    "    AF_df = pd.read_csv(curr_af_f, sep=\"\\t\", index_col=0).transpose()\n",
    "    DP_df = pd.read_csv(curr_dp_f, sep=\"\\t\", index_col=0).transpose()\n",
    "elif var_type==\"simple\":\n",
    "    curr_ad_f = join(COUNT_INDIR, f\"donor{DONOR}.AD.mtx\")\n",
    "    curr_dp_f = join(COUNT_INDIR, f\"donor{DONOR}.DP.mtx\")\n",
    "    from src.utils.data_io import wrap_load_mtx_df\n",
    "    AF_df, DP_df = wrap_load_mtx_df(COUNT_INDIR, prefix=f\"donor{DONOR}\", \n",
    "                                    vcf_prefix=f\"donor{DONOR}\", inc_af=True, cell_names=True, \n",
    "                                    cells_meta= f\"cell_labels.donor{DONOR}.txt\", cells_meta_sep=',')\n",
    "elif var_type==\"mgatkdonor\":\n",
    "    curr_af_f = join(COUNT_INDIR, f\"d{DONOR}.af.tsv\")\n",
    "    curr_dp_f = join(COUNT_INDIR, f\"d{DONOR}.coverage.tsv\")\n",
    "    AF_df = pd.read_csv(curr_af_f, sep=\"\\t\")\n",
    "    DP_df = pd.read_csv(curr_dp_f, sep=\"\\t\")\n",
    "    \n",
    "\n",
    "DP_df.index.name = \"Variant\"\n",
    "DP_df.columns.name = \"Cell\"\n",
    "AF_df.index.name = \"Variant\"\n",
    "AF_df.columns.name = \"Cell\"\n"
   ]
  },
  {
   "cell_type": "code",
   "execution_count": 6,
   "metadata": {},
   "outputs": [],
   "source": [
    "AF_df.to_csv(join(OUTDIR, \"af.tsv\"), sep=\"\\t\")\n",
    "DP_df.to_csv(join(OUTDIR, \"dp.tsv\"), sep=\"\\t\")"
   ]
  },
  {
   "cell_type": "code",
   "execution_count": 7,
   "metadata": {
    "scrolled": true
   },
   "outputs": [
    {
     "name": "stdout",
     "output_type": "stream",
     "text": [
      "(68, 9023)\n",
      "(68, 9023)\n",
      "Number of cells in donor 9023\n"
     ]
    }
   ],
   "source": [
    "print(AF_df.shape)\n",
    "print(DP_df.shape)\n",
    "cells_meta = pd.read_csv(join(INDIR, \"cells_meta.tsv\"), sep='\\t')#.sort_values([\"donor\", \"lineage\"])\n",
    "curr_labels = cells_meta[cells_meta[\"donor\"]==DONOR]\n",
    "print(f\"Number of cells in donor {curr_labels.shape[0]}\")"
   ]
  },
  {
   "cell_type": "code",
   "execution_count": null,
   "metadata": {},
   "outputs": [],
   "source": []
  }
 ],
 "metadata": {
  "celltoolbar": "Tags",
  "kernelspec": {
   "display_name": "Python 3 (ipykernel)",
   "language": "python",
   "name": "python3"
  },
  "language_info": {
   "codemirror_mode": {
    "name": "ipython",
    "version": 3
   },
   "file_extension": ".py",
   "mimetype": "text/x-python",
   "name": "python",
   "nbconvert_exporter": "python",
   "pygments_lexer": "ipython3",
   "version": "3.7.12"
  },
  "papermill": {
   "default_parameters": {},
   "duration": 5560.364131,
   "end_time": "2021-01-27T10:03:31.625455",
   "environment_variables": {},
   "exception": null,
   "input_path": "/data2/mito_lineage/src/vireo/vireoSNP_clones.ipynb",
   "output_path": "results/jan21_2021/chrM/P2_cellSNP_minC200_minAF0.01/lineage_chrM.ipynb",
   "parameters": {
    "AD_F": "data/jan21_2021/chrM/P2_cellSNP_minC200_minAF0.01/cellSNP.tag.AD.mtx",
    "DP_F": "data/jan21_2021/chrM/P2_cellSNP_minC200_minAF0.01/cellSNP.tag.DP.mtx"
   },
   "start_time": "2021-01-27T08:30:51.261324",
   "version": "2.2.0"
  }
 },
 "nbformat": 4,
 "nbformat_minor": 4
}
