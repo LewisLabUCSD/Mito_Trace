{
 "cells": [
  {
   "cell_type": "markdown",
   "metadata": {},
   "source": [
    "## Annotate MT variants using mseqdr tool\n",
    "\n",
    "Reference and curl API instructions: https://www.ncbi.nlm.nih.gov/pmc/articles/PMC5992054/   \n",
    "Database: https://mseqdr.org/portal.php?dbsource=genomic&name=m.16127A%3EG&x=0&y=0"
   ]
  },
  {
   "cell_type": "code",
   "execution_count": null,
   "metadata": {
    "ExecuteTime": {
     "end_time": "2021-06-04T20:17:22.532497Z",
     "start_time": "2021-06-04T20:17:22.513764Z"
    },
    "tags": [
     "parameters"
    ]
   },
   "outputs": [],
   "source": [
    "# The input vcf path\n",
    "vcf_f = \"/data/Mito_Trace/output/pipeline/v02/CHIP_b1/MTBlacklist_A2/data/merged/MT/cellr_True/numread_200/filters/minC10_minR50_topN0_hetT0.001_hetC10_hetCount5_bq20/mgatk/vireoIn/anno_variants/variants.vcf\"\n",
    "outdir = \"/data/Mito_Trace/output/pipeline/v02/CHIP_b1/MTBlacklist_A2/data/merged/MT/cellr_True/numread_200/filters/minC10_minR50_topN0_hetT0.001_hetC10_hetCount5_bq20/mgatk/vireoIn/anno_variants\"\n",
    "\n",
    "mt_fasta = \"/data/Mito_Trace/data/external/GRCh38_MT_blacklist/chrM.fasta\" # \"example_data/hg19_chr22.fa\"\n",
    "isRawVCF = False"
   ]
  },
  {
   "cell_type": "code",
   "execution_count": null,
   "metadata": {},
   "outputs": [],
   "source": [
    "from Bio import SeqIO\n",
    "import pandas as pd\n",
    "from os.path import join\n",
    "import numpy as np"
   ]
  },
  {
   "cell_type": "code",
   "execution_count": null,
   "metadata": {},
   "outputs": [],
   "source": [
    "anno_json_f = join(outdir, \"vars_anno.json\")\n",
    "varType_out_f = join(outdir, \"varsType.tsv\")\n",
    "anno_out_f = join(outdir, \"anno_variants.tsv\")"
   ]
  },
  {
   "cell_type": "code",
   "execution_count": null,
   "metadata": {},
   "outputs": [],
   "source": [
    "## Create proper formatted vcf file\n",
    "\n",
    "if isRawVCF:\n",
    "    print(\"Processing VCF\")\n",
    "    for record in SeqIO.parse(mt_fasta, \"fasta\"):\n",
    "        mt_seq = record.seq\n",
    "    mt_seq\n",
    "\n",
    "    vcf_path = raw_vcf.replace(\".vcf\", \".fmt.vcf\")\n",
    "\n",
    "    vcf = pd.read_csv(raw_vcf, sep='\\t')\n",
    "    vcf[\"QUAL\"] = \".\"\n",
    "    vcf[\"FILTER\"] = \".\"\n",
    "    vcf[\"INFO\"] = \".\"\n",
    "    vcf[\"ID\"] = \".\"\n",
    "    vcf[\"REF\"] = vcf[\"REF\"].apply(lambda x: x[-1])\n",
    "    vcf = vcf[[\"#CHROM\" ,\"POS\",\"ID\",\"REF\",\"ALT\",\"QUAL\",\"FILTER\",\"INFO\"]]\n",
    "    vcf\n",
    "\n",
    "    header = \"##fileformat=VCFv4.0\"\n",
    "    header = header + \"\\n\" + f\"##reference=file:/{mt_fasta}\"\n",
    "    #vcf.to_csv(vcf_path, sep='\\t', index=False)\n",
    "    with open(vcf_path, 'a') as file:\n",
    "        file.write(header)\n",
    "        vcf.to_csv(vcf_path, sep='\\t', index=False)\n",
    "\n",
    "else:\n",
    "    vcf_path = vcf_f"
   ]
  },
  {
   "cell_type": "markdown",
   "metadata": {},
   "source": [
    "## Get transition-transversion"
   ]
  },
  {
   "cell_type": "code",
   "execution_count": null,
   "metadata": {},
   "outputs": [],
   "source": [
    "import src.utils.variant_utils as vu"
   ]
  },
  {
   "cell_type": "code",
   "execution_count": null,
   "metadata": {},
   "outputs": [],
   "source": [
    "variants = pd.read_csv(vcf_path, skiprows=2,sep='\\t', index_col=None)\n",
    "variants\n",
    "\n",
    "#variants[\"REF\"] = [x[:-1] for x in variants[\"REF\"]]\n",
    "\n",
    "def type_of_variants(variants):\n",
    "    # Get types of mutations\n",
    "    def var_type(x):\n",
    "        nts = set(x[[\"REF\", \"ALT\"]])\n",
    "        if \"N\" in nts:\n",
    "            return \"Undefined\"\n",
    "        if nts == {\"A\", \"G\"} or nts == {\"T\", \"C\"}:\n",
    "            return \"Transition\"\n",
    "        return \"Transversion\"\n",
    "    variants[\"variant type\"] = variants.apply(var_type, axis=1)\n",
    "    variants[\"variant change\"] = variants[\"REF\"]+\">\"+variants[\"ALT\"]\n",
    "    return variants"
   ]
  },
  {
   "cell_type": "code",
   "execution_count": null,
   "metadata": {},
   "outputs": [],
   "source": [
    "variants = type_of_variants(variants=variants).set_index(\"ID\")\n",
    "variants.to_csv(varType_out_f, sep=\"\\t\")\n",
    "#vu.type_of_variants(variants=variants, to_preproc=False)"
   ]
  },
  {
   "cell_type": "markdown",
   "metadata": {},
   "source": [
    "## Run annotation"
   ]
  },
  {
   "cell_type": "code",
   "execution_count": null,
   "metadata": {
    "scrolled": true
   },
   "outputs": [],
   "source": [
    "cmd = f\"curl -s -X POST https://mseqdr.org/mtannotapi.php?format=vcf --data-binary @{vcf_path} -o {anno_json_f}\"\n",
    "print(cmd)"
   ]
  },
  {
   "cell_type": "code",
   "execution_count": null,
   "metadata": {},
   "outputs": [],
   "source": [
    "!{cmd}"
   ]
  },
  {
   "cell_type": "markdown",
   "metadata": {},
   "source": [
    "# Check results"
   ]
  },
  {
   "cell_type": "code",
   "execution_count": null,
   "metadata": {},
   "outputs": [],
   "source": [
    "import json\n",
    "var_ann = json.load(open(anno_json_f))\n",
    "var_ann"
   ]
  },
  {
   "cell_type": "code",
   "execution_count": null,
   "metadata": {},
   "outputs": [],
   "source": [
    "var_ann.keys()"
   ]
  },
  {
   "cell_type": "code",
   "execution_count": null,
   "metadata": {},
   "outputs": [],
   "source": [
    "population = pd.DataFrame(var_ann[\"population\"]).set_index(\"Input\")\n",
    "population\n",
    "population = pd.DataFrame(var_ann[\"population\"]).set_index(\"Input\")\n",
    "print(population.shape)\n",
    "population[population==\"-\"] = np.nan\n",
    "population = population.dropna(how=\"all\", axis=1)\n",
    "print(population.shape)\n"
   ]
  },
  {
   "cell_type": "code",
   "execution_count": null,
   "metadata": {
    "scrolled": false
   },
   "outputs": [],
   "source": [
    "population = pd.DataFrame(var_ann[\"population\"]).set_index(\"Input\")\n",
    "print(population.shape)\n",
    "population[population==\"-\"] = np.nan\n",
    "population = population.dropna(how=\"all\", axis=1)\n",
    "print(population.shape)\n",
    "\n",
    "dbnsfp = pd.DataFrame(var_ann[\"dbnsfp\"]).set_index(\"Input\")\n",
    "print(dbnsfp.shape)\n",
    "dbnsfp[dbnsfp==\"-\"] = np.nan\n",
    "dbnsfp = dbnsfp.dropna(how=\"all\", axis=1)\n",
    "print(dbnsfp.shape)\n",
    "\n",
    "#dbnsfp[\"Ensembl_transcriptid\"].unique()\n",
    "\n",
    "mseqdr = pd.DataFrame(var_ann[\"mseqdr\"]).set_index(\"Input\")\n",
    "print(mseqdr.shape)\n",
    "mseqdr[mseqdr==\"-\"] = np.nan\n",
    "mseqdr = mseqdr.dropna(how=\"all\", axis=1)\n",
    "print(mseqdr.shape)\n",
    "\n",
    "\n",
    "general= pd.DataFrame(var_ann[\"general\"]).set_index(\"Input\")\n",
    "general\n",
    "{x:general[x].unique() for x in general.columns}\n",
    "print(general.shape)\n",
    "general[general==\"-\"] = np.nan\n",
    "general = general.dropna(how=\"all\", axis=1)\n",
    "print(general.shape)"
   ]
  },
  {
   "cell_type": "code",
   "execution_count": null,
   "metadata": {
    "scrolled": true
   },
   "outputs": [],
   "source": [
    "var_anno_df = pd.concat([general, population, dbnsfp, mseqdr], axis=1, verify_integrity=True)\n",
    "var_anno_df"
   ]
  },
  {
   "cell_type": "code",
   "execution_count": null,
   "metadata": {
    "scrolled": true
   },
   "outputs": [],
   "source": [
    "pos = var_anno_df.groupby(\"Pos\").size()>1\n",
    "var_anno_df.loc[var_anno_df[\"Pos\"].isin(pos[pos].index)].sort_values(\"Pos\")"
   ]
  },
  {
   "cell_type": "code",
   "execution_count": null,
   "metadata": {
    "scrolled": true
   },
   "outputs": [],
   "source": [
    "%matplotlib inline\n",
    "import seaborn as sns\n",
    "import matplotlib.pyplot as plt\n",
    "drop_cols = []\n",
    "for x in var_anno_df.columns:\n",
    "    if not len(var_anno_df[x].dropna().unique())==1:\n",
    "        f=plt.figure()\n",
    "        sns.countplot(data=var_anno_df,x=x)\n",
    "        plt.xticks(rotation=90)\n",
    "    else:\n",
    "        drop_cols.append(x)"
   ]
  },
  {
   "cell_type": "code",
   "execution_count": null,
   "metadata": {},
   "outputs": [],
   "source": [
    "var_anno_df = var_anno_df.drop(drop_cols, axis=1)\n",
    "var_anno_df.index = variants.index\n",
    "pd.concat([variants, var_anno_df],axis=1).to_csv(anno_out_f, sep=\"\\t\", index=True)\n",
    "#var_anno_df.to_csv(anno_out_f, sep=\"\\t\", index=True)"
   ]
  },
  {
   "cell_type": "code",
   "execution_count": null,
   "metadata": {},
   "outputs": [],
   "source": [
    "\n"
   ]
  }
 ],
 "metadata": {
  "celltoolbar": "Tags",
  "kernelspec": {
   "display_name": "Python 3 (ipykernel)",
   "language": "python",
   "name": "python3"
  },
  "language_info": {
   "codemirror_mode": {
    "name": "ipython",
    "version": 3
   },
   "file_extension": ".py",
   "mimetype": "text/x-python",
   "name": "python",
   "nbconvert_exporter": "python",
   "pygments_lexer": "ipython3",
   "version": "3.7.12"
  },
  "papermill": {
   "default_parameters": {},
   "duration": 5560.364131,
   "end_time": "2021-01-27T10:03:31.625455",
   "environment_variables": {},
   "exception": null,
   "input_path": "/data2/mito_lineage/src/vireo/vireoSNP_clones.ipynb",
   "output_path": "results/jan21_2021/chrM/P2_cellSNP_minC200_minAF0.01/lineage_chrM.ipynb",
   "parameters": {
    "AD_F": "data/jan21_2021/chrM/P2_cellSNP_minC200_minAF0.01/cellSNP.tag.AD.mtx",
    "DP_F": "data/jan21_2021/chrM/P2_cellSNP_minC200_minAF0.01/cellSNP.tag.DP.mtx"
   },
   "start_time": "2021-01-27T08:30:51.261324",
   "version": "2.2.0"
  }
 },
 "nbformat": 4,
 "nbformat_minor": 4
}
