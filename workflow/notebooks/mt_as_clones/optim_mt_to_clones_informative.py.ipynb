{
 "cells": [
  {
   "cell_type": "code",
   "execution_count": 1,
   "id": "8f3eabb2",
   "metadata": {},
   "outputs": [],
   "source": [
    "import pandas as pd\n",
    "from os.path import join, isdir, exists, basename, dirname\n",
    "import os\n",
    "import matplotlib.pyplot as plt\n",
    "import numpy as np\n",
    "import seaborn as sns\n",
    "from icecream import ic\n",
    "from src.utils import variant_utils as vu\n",
    "from glob import glob\n",
    "from itertools import product\n",
    "from collections import defaultdict\n",
    "from tqdm.notebook import tqdm\n",
    "import pickle"
   ]
  },
  {
   "cell_type": "code",
   "execution_count": 2,
   "id": "e27fb5e4",
   "metadata": {},
   "outputs": [],
   "source": [
    "# don_dir = \"/data/Mito_Trace/output/pipeline/v02/CHIP_b1/MTBlacklist_A2/data/merged/MT/cellr_True/numread_200/filters/minC10_minR50_topN0_hetT0.001_hetC10_hetCount5_bq20/mgatk/vireoIn/multiplex/clones_simpleUnion/\"\n",
    "# outdir = \"/data/Mito_Trace/output/pipeline/v02/CHIP_b1/MTBlacklist_A2/data/merged/MT/cellr_True/numread_200/filters/minC10_minR50_topN0_hetT0.001_hetC10_hetCount5_bq20/mgatk/vireoIn/multiplex/clones_simpleUnion/mt_clones_thresh/\"\n",
    "# #samples = \"preB,postB\"\n",
    "\n",
    "# ## Parameters:\n",
    "# # af thresholds\n",
    "# # coverage threshold\n",
    "# # other_af thresholds\n",
    "# # number of cells / fraction cells\n",
    "# # number of other cells / fraction other cells\n",
    "\n",
    "# ### Smaller params\n",
    "# af_ts = [0.01, 0.1, 0.4, 0.8,]\n",
    "# oth_af_ts = [0.01, 0.1, 0.4]\n",
    "# cov_ts = [2, 10, 30] # mean coverage at position for cells with the AF\n",
    "# oth_cov_ts = [2, 10, 30]  # mean coverage for cells without AF \n",
    "# num_cells = [5, 10, 30] # num cells and fraction are for cells with sufficient coverage\n",
    "# oth_num_cells = [0.25, 0.6, 0.8] # fraction is of cells with sufficient coverage\n",
    "# mean_pos_cov = [0, 10] #populatiion average coverage at that position\n",
    "\n",
    "# use_small = False\n",
    "# to_plots = True\n",
    "\n",
    "\n",
    "\n",
    "\n",
    "# af_ts = [0.01, 0.1, 0.4, 0.8, 0.95]\n",
    "# oth_af_ts = [0.01, 0.1, 0.4, 0.8, 0.95]\n",
    "# cov_ts = [2, 5, 10, 30] # mean coverage at position for cells with the AF\n",
    "# oth_cov_ts = [2, 5, 10, 30]  # mean coverage for cells without AF \n",
    "# num_cells = [5, 10, 0.1, 0.2, 0.5 ] # num cells and fraction are for cells with sufficient coverage\n",
    "# oth_num_cells = [0.25, 0.6, 0.8] # fraction is of cells with sufficient coverage\n",
    "# mean_pos_cov = [0, 2, 5, 10] #populatiion average coverage at that position\n"
   ]
  },
  {
   "cell_type": "code",
   "execution_count": 3,
   "id": "2e457c20",
   "metadata": {},
   "outputs": [],
   "source": [
    "try:\n",
    "    use_small = snakemake.params.get(\"use_small\", False)\n",
    "    to_plots = snakemake.params.get(\"to_plots\", True)\n",
    "    don_dir = snakemake.input[\"don_dir\"]\n",
    "    outdir = snakemake.params[\"outdir\"]\n",
    "\n",
    "    params = snakemake.config[\"mt_as_clones\"][\"params\"]\n",
    "    af_ts = params[\"af_ts\"]\n",
    "    oth_af_ts = params[\"oth_af_ts\"]\n",
    "    cov_ts = params[\"cov_ts\"]\n",
    "    oth_cov_ts = params[\"oth_cov_ts\"]\n",
    "    num_cells = params[\"num_cells\"]\n",
    "    oth_num_cells = params[\"oth_num_cells\"]\n",
    "    mean_pos_cov = params[\"mean_pos_cov\"]\n",
    "except NameError:\n",
    "    use_small = False\n",
    "    to_plots = True\n",
    "    don_dir = [\"/data/Mito_Trace/output/pipeline/v04/CHIP_b1/MTBlacklist_A2/data/merged/MT/cellr_True/numread_200/filters/minC10_minR50_topN0_hetT0.001_hetC10_hetCount5_bq20/mgatk/vireoIn/multiplex/clones_simpleUnion/donor0/\",\n",
    "               \"/data/Mito_Trace/output/pipeline/v04/CHIP_b1/MTBlacklist_A2/data/merged/MT/cellr_True/numread_200/filters/minC10_minR50_topN0_hetT0.001_hetC10_hetCount5_bq20/mgatk/vireoIn/multiplex/clones_simpleUnion/donor1/\"]\n",
    "    outdir = \"/data/Mito_Trace/output/pipeline/v04/CHIP_b1/MTBlacklist_A2/data/merged/MT/cellr_True/numread_200/filters/minC10_minR50_topN0_hetT0.001_hetC10_hetCount5_bq20/mgatk/vireoIn/multiplex/clones_simpleUnion/mt_clones_thresh/scrap\"\n",
    "    \n",
    "    af_ts = [0.01, 0.1, 0.4, 0.8, 0.95]\n",
    "    oth_af_ts = [0.01, 0.1, 0.4, 0.8, 0.95]\n",
    "    cov_ts = [2, 5, 10, 30] # mean coverage at position for cells with the AF\n",
    "    oth_cov_ts = [2, 5, 10, 30]  # mean coverage for cells without AF \n",
    "    num_cells = [5, 10, 0.1, 0.2, 0.5 ] # num cells and fraction are for cells with sufficient coverage\n",
    "    oth_num_cells = [0.25, 0.6, 0.8] # fraction is of cells with sufficient coverage\n",
    "    mean_pos_cov = [0, 2, 5, 10] #populatiion average coverage at that position"
   ]
  },
  {
   "cell_type": "code",
   "execution_count": 4,
   "id": "9b498c14",
   "metadata": {},
   "outputs": [
    {
     "data": {
      "text/plain": [
       "[1, 1, 1, 1, 1, -1, 1, 1]"
      ]
     },
     "execution_count": 4,
     "metadata": {},
     "output_type": "execute_result"
    }
   ],
   "source": [
    "objectives = [\"n_vars_obs\" , \"n_cells_obs\"] \n",
    "weights = [1,1]\n",
    "param_objectives = [\"cov\", \"oth_cov\", \"af\", \"oth_af\", \"ncells\", \"oth_ncells\"]\n",
    "param_weights = [1,1,1,-1,1,1 ]\n",
    "dendro_objectives = [\"obj_nclones_more_than_one_unique\", \n",
    "                     \"variants_with_clone_norm_by_1_over_nclones_with_variant\", \n",
    "                     \"n_clones\"]\n",
    "dendro_weights = [1,1, 1]\n",
    "\n",
    "all_objectives = objectives+param_objectives+dendro_objectives\n",
    "all_weights = weights+param_weights+dendro_weights\n",
    "\n",
    "all_objectives = objectives+param_objectives\n",
    "all_weights = weights+param_weights\n",
    "\n",
    "all_weights"
   ]
  },
  {
   "cell_type": "code",
   "execution_count": 5,
   "id": "28905546",
   "metadata": {
    "scrolled": true
   },
   "outputs": [
    {
     "name": "stdout",
     "output_type": "stream",
     "text": [
      "(24000, 7)\n"
     ]
    },
    {
     "data": {
      "text/html": [
       "<div>\n",
       "<style scoped>\n",
       "    .dataframe tbody tr th:only-of-type {\n",
       "        vertical-align: middle;\n",
       "    }\n",
       "\n",
       "    .dataframe tbody tr th {\n",
       "        vertical-align: top;\n",
       "    }\n",
       "\n",
       "    .dataframe thead th {\n",
       "        text-align: right;\n",
       "    }\n",
       "</style>\n",
       "<table border=\"1\" class=\"dataframe\">\n",
       "  <thead>\n",
       "    <tr style=\"text-align: right;\">\n",
       "      <th></th>\n",
       "      <th>af</th>\n",
       "      <th>oth_af</th>\n",
       "      <th>ncells</th>\n",
       "      <th>oth_ncells</th>\n",
       "      <th>mean_cov</th>\n",
       "      <th>cov</th>\n",
       "      <th>oth_cov</th>\n",
       "    </tr>\n",
       "  </thead>\n",
       "  <tbody>\n",
       "    <tr>\n",
       "      <th>0</th>\n",
       "      <td>0.01</td>\n",
       "      <td>0.01</td>\n",
       "      <td>5.0</td>\n",
       "      <td>0.25</td>\n",
       "      <td>0</td>\n",
       "      <td>2</td>\n",
       "      <td>2</td>\n",
       "    </tr>\n",
       "    <tr>\n",
       "      <th>1</th>\n",
       "      <td>0.01</td>\n",
       "      <td>0.01</td>\n",
       "      <td>5.0</td>\n",
       "      <td>0.25</td>\n",
       "      <td>0</td>\n",
       "      <td>2</td>\n",
       "      <td>5</td>\n",
       "    </tr>\n",
       "    <tr>\n",
       "      <th>2</th>\n",
       "      <td>0.01</td>\n",
       "      <td>0.01</td>\n",
       "      <td>5.0</td>\n",
       "      <td>0.25</td>\n",
       "      <td>0</td>\n",
       "      <td>2</td>\n",
       "      <td>10</td>\n",
       "    </tr>\n",
       "    <tr>\n",
       "      <th>3</th>\n",
       "      <td>0.01</td>\n",
       "      <td>0.01</td>\n",
       "      <td>5.0</td>\n",
       "      <td>0.25</td>\n",
       "      <td>0</td>\n",
       "      <td>2</td>\n",
       "      <td>30</td>\n",
       "    </tr>\n",
       "    <tr>\n",
       "      <th>4</th>\n",
       "      <td>0.01</td>\n",
       "      <td>0.01</td>\n",
       "      <td>5.0</td>\n",
       "      <td>0.25</td>\n",
       "      <td>0</td>\n",
       "      <td>5</td>\n",
       "      <td>2</td>\n",
       "    </tr>\n",
       "  </tbody>\n",
       "</table>\n",
       "</div>"
      ],
      "text/plain": [
       "     af  oth_af  ncells  oth_ncells  mean_cov  cov  oth_cov\n",
       "0  0.01    0.01     5.0        0.25         0    2        2\n",
       "1  0.01    0.01     5.0        0.25         0    2        5\n",
       "2  0.01    0.01     5.0        0.25         0    2       10\n",
       "3  0.01    0.01     5.0        0.25         0    2       30\n",
       "4  0.01    0.01     5.0        0.25         0    5        2"
      ]
     },
     "execution_count": 5,
     "metadata": {},
     "output_type": "execute_result"
    }
   ],
   "source": [
    "# There are 7 params to use for calling the clone\n",
    "params = {\"af\":af_ts,\n",
    "          \"oth_af\":oth_af_ts,\n",
    "          \"ncells\": num_cells,\n",
    "          \"oth_ncells\":oth_num_cells,\n",
    "          \"mean_cov\": mean_pos_cov,\n",
    "          \"cov\":cov_ts,\n",
    "          \"oth_cov\":oth_cov_ts,\n",
    "         }\n",
    "param_names = params.keys()\n",
    "full_params = list(product(*list(params.values())))\n",
    "full_params = pd.DataFrame(full_params, columns=params.keys())\n",
    "print(full_params.shape)\n",
    "full_params.head()"
   ]
  },
  {
   "cell_type": "code",
   "execution_count": 6,
   "id": "ffc698e2",
   "metadata": {},
   "outputs": [],
   "source": [
    "# cells_dir = join(outdir, \"cells\")\n",
    "# if not exists(cells_dir):\n",
    "#     os.mkdir(cells_dir)"
   ]
  },
  {
   "cell_type": "code",
   "execution_count": 7,
   "id": "e8e5df95",
   "metadata": {},
   "outputs": [],
   "source": [
    "#samples = samples.split(\",\")"
   ]
  },
  {
   "cell_type": "code",
   "execution_count": null,
   "id": "e2885657",
   "metadata": {},
   "outputs": [],
   "source": []
  },
  {
   "cell_type": "code",
   "execution_count": 8,
   "id": "d584c468",
   "metadata": {
    "scrolled": true
   },
   "outputs": [
    {
     "data": {
      "text/plain": [
       "{0: '/data/Mito_Trace/output/pipeline/v04/CHIP_b1/MTBlacklist_A2/data/merged/MT/cellr_True/numread_200/filters/minC10_minR50_topN0_hetT0.001_hetC10_hetCount5_bq20/mgatk/vireoIn/multiplex/clones_simpleUnion/donor0',\n",
       " 1: '/data/Mito_Trace/output/pipeline/v04/CHIP_b1/MTBlacklist_A2/data/merged/MT/cellr_True/numread_200/filters/minC10_minR50_topN0_hetT0.001_hetC10_hetCount5_bq20/mgatk/vireoIn/multiplex/clones_simpleUnion/donor1'}"
      ]
     },
     "execution_count": 8,
     "metadata": {},
     "output_type": "execute_result"
    }
   ],
   "source": [
    "#don_dirs = [d for d in glob(don_dir + \"/donor*\") if isdir(d)]\n",
    "don_dirs = {int(basename(dirname(x)).split(\"donor\")[-1]):dirname(x) for x in don_dir} #donor{d}/af.tsv\n",
    "\n",
    "don_dirs"
   ]
  },
  {
   "cell_type": "code",
   "execution_count": 9,
   "id": "22638112",
   "metadata": {
    "scrolled": true
   },
   "outputs": [],
   "source": [
    "def load_donor(don_dir):\n",
    "    vcf = pd.read_csv(join(don_dir, \"cellSNP.base.vcf\"), sep=\"\\t\")\n",
    "    variants_meta = vcf[[\"#CHROM\", \"POS\", \"REF\", \"ALT\"]]\n",
    "    variants_meta.index = variants_meta.apply(lambda x: f\"{x['POS']}{x['REF'][0]}>{x['ALT']}\", axis=1)\n",
    "    variants_meta = vu.type_of_variants(variants_meta.index)\n",
    "    variants_meta[\"ID\"] = variants_meta.index\n",
    "    variants_meta.index = variants_meta.apply(lambda x: f\"{x['position']}{x['alt']}\", axis=1)\n",
    "    af = pd.read_csv(join(don_dir, \"af.tsv\"), sep=\"\\t\", index_col=0)\n",
    "    cov = pd.read_csv(join(don_dir, \"dp.tsv\"), sep=\"\\t\", index_col=0)                   \n",
    "    cells_meta = pd.read_csv(join(don_dir,\"cells_meta.tsv\"), sep=\"\\t\").set_index(\"ID\")\n",
    "    ic(cells_meta.shape)\n",
    "    cells_meta = cells_meta.loc[af.index]\n",
    "    ic(\"After filtering on af indices\", cells_meta.shape)\n",
    "    \n",
    "    variants = set(af.columns)\n",
    "    return af, cov, cells_meta, variants\n",
    "\n",
    "\n",
    "\n",
    "## Informative variants function\n",
    "#af\toth_af\tncells\toth_ncells\tmean_cov\tcov\toth_cov\n",
    "def get_vars(thresholds, position_af, position_cov, return_cells=True):\n",
    "    \"\"\" Sees if current position is an 'informative' variant using current thresholds\n",
    "    \"\"\"\n",
    "    # preprocess ncells thresholds\n",
    "    if thresholds[\"ncells\"] < 1: #fraction of cells or total\n",
    "        ncells = int(np.floor(thresholds[\"ncells\"] * len(position_af)))\n",
    "    else:\n",
    "        ncells = thresholds[\"ncells\"]\n",
    "        \n",
    "    # Get cells that pass af and coverage thresholds\n",
    "    bin_position_af_cov = (position_af > thresholds[\"af\"]) & (position_cov > thresholds[\"cov\"])\n",
    "    in_cells = bin_position_af_cov[bin_position_af_cov].index\n",
    "    \n",
    "    #print('bin_pos', bin_position_af_cov)\n",
    "    #print(bin_position_af_cov.sum())\n",
    "    \n",
    "    if thresholds[\"oth_ncells\"] < 1: # Fraction of the remaining population\n",
    "        oth_ncells = int(np.floor(thresholds[\"oth_ncells\"] * len(position_af)-len(in_cells)))\n",
    "    else:\n",
    "        oth_ncells = thresholds[\"oth_ncells\"]    \n",
    "\n",
    "    # positions that pass the coverage threshold but not the AF threshold. \n",
    "    # These are cells confidently not with variant, and oth_ncells needed to pass threshold.\n",
    "    oth_bin_position_af_cov = (position_af <= thresholds[\"oth_af\"]) & (position_cov > thresholds[\"oth_cov\"])\n",
    "    oth_bin_position_af_cov = oth_bin_position_af_cov.loc[~(oth_bin_position_af_cov.index.isin(in_cells))]\n",
    "    \n",
    "    if (bin_position_af_cov.sum() > ncells) & (oth_bin_position_af_cov.sum() > oth_ncells):\n",
    "        if return_cells:\n",
    "            return True, in_cells\n",
    "        return True\n",
    "    if return_cells:\n",
    "        return False, []\n",
    "    return False\n",
    "\n",
    "def run_per_pos(af_cov, thresholds ,cov_id=\"COV-\"):\n",
    "    split = int(af_cov.shape[0]/2)\n",
    "    af = af_cov.iloc[:split]\n",
    "    cov = af_cov.iloc[split:]\n",
    "\n",
    "    cov.index = [x.split(cov_id,1)[1] for x in cov.index]\n",
    "    thresholds['isVar'] = thresholds.apply(get_vars, args=(af, cov), axis=1)\n",
    "    thresholds[\"var\"] = af_cov.name\n",
    "    return thresholds\n",
    "\n",
    "\n",
    "## Plot \n",
    "def plots(params_results, outdir, prefix):\n",
    "    sns.histplot(params_results[\"n_vars\"])\n",
    "\n",
    "    cov_groups = params_results.groupby([\"cov\", \"oth_cov\", \"mean_cov\"])\n",
    "\n",
    "    for ind, val in cov_groups:\n",
    "        print(ind)\n",
    "        sns.catplot(data=val, y=\"n_vars\", x= \"ncells\", \n",
    "                    hue=\"af\", row=\"oth_af\", col=\"oth_ncells\", kind=\"bar\")\n",
    "        plt.suptitle(f\"{prefix} cov {ind[0]} oth_cov {ind[1]} mean_cov {ind[2]}\")\n",
    "        plt.tight_layout()\n",
    "        plt.savefig(join(outdir,f\"{prefix}_nvars_thresholds.cov_{ind[0]}_othcov_{ind[1]}_mean_{ind[2]}.png\"))\n",
    "    return"
   ]
  },
  {
   "cell_type": "code",
   "execution_count": 10,
   "id": "bc331eaf",
   "metadata": {},
   "outputs": [],
   "source": [
    "def get_cells(af, cov, oth_af, oth_cov, position_af, position_cov):\n",
    "    \"\"\" Gets cells and oth_cells that pass thresholds. Assumes position already passed.\n",
    "    \"\"\"\n",
    "    # Get cells that pass af and coverage thresholds\n",
    "    bin_position_af_cov = (position_af > af) & (position_cov > cov)\n",
    "    in_cells = bin_position_af_cov[bin_position_af_cov].index\n",
    "    # positions that pass the coverage threshold but not the AF threshold. \n",
    "    # These are cells confidently not with variant, and oth_ncells needed to pass threshold.\n",
    "    oth_bin_position_af_cov = (position_af <= oth_af) & (position_cov > oth_cov)\n",
    "    # drop the cells\n",
    "    oth_bin_position_af_cov = oth_bin_position_af_cov.loc[~(oth_bin_position_af_cov.index.isin(in_cells))]\n",
    "    oth_cells = oth_bin_position_af_cov[oth_bin_position_af_cov].index\n",
    "    return {\"clone_cells\": in_cells, \"other_cells\": oth_cells}"
   ]
  },
  {
   "cell_type": "code",
   "execution_count": 11,
   "id": "2d5680d8",
   "metadata": {},
   "outputs": [],
   "source": [
    "from src.clone_variants_optim import _objectives_dendro\n",
    "\n",
    "from src.utils.dendro_clust import run_dynamic\n",
    "\n",
    "from icecream import ic"
   ]
  },
  {
   "cell_type": "code",
   "execution_count": 12,
   "id": "85cf05ac",
   "metadata": {},
   "outputs": [],
   "source": [
    "def create_dendro(df):\n",
    "    clusters, link = run_dynamic(df, \"jaccard\")\n",
    "    ic(clusters.head())\n",
    "    return df.groupby(\"labels\").sum(), clusters\n",
    "\n",
    "def calc_objectives(df):\n",
    "    return {\"n_cells_obs\": df.shape[0], \"n_vars_obs\": df.shape[1]}\n",
    "\n",
    "def calc_param_objectives(val, params_objectives_l):\n",
    "    obj_params = {}\n",
    "    for p in params_objectives_l:\n",
    "        obj_params[p] = val[p]\n",
    "    return obj_params\n",
    "\n",
    "def get_binary_df(val, curr_af, curr_cov):\n",
    "    curr_df = pd.DataFrame(np.zeros(curr_af.shape), index=curr_af.index, columns=curr_af.columns).astype(bool)\n",
    "    thresh = [val[\"af\"], val[\"oth_af\"], val[\"cov\"], val[\"oth_cov\"]]\n",
    "    #c_vars_df = pd.DataFrame(index=curr_af.o)\n",
    "    for c_var in curr_af.columns:\n",
    "        #print('c_val', c_var)\n",
    "        pos_af = curr_af[c_var]\n",
    "        pos_cov = curr_cov[c_var]\n",
    "        isVar, cells = get_vars(val, pos_af, pos_cov, return_cells=True)\n",
    "        if isVar:\n",
    "            curr_df.loc[cells, c_var] = True\n",
    "    # create binarized mt-cell df and calculate the dendro objectives \n",
    "    print('before remove 0 filter', curr_df.shape)\n",
    "\n",
    "    curr_df = curr_df.loc[~((curr_df==0).all(axis=1)), ~((curr_df==0).all(axis=0))]\n",
    "    print('after', curr_df.shape)\n",
    "    #params_results.loc[ind,\"Variants\"] = \";\".join(curr_vars)\n",
    "    return curr_df\n",
    "\n",
    "\n",
    "def evaluate_series(val, curr_af, curr_cov, return_data=True):\n",
    "    curr_df = get_binary_df(val, curr_af, curr_cov)\n",
    "    ic(curr_df.shape)\n",
    "    ic(curr_df.head())\n",
    "    obj_bin = calc_objectives(curr_df)\n",
    "    ic(obj_bin)\n",
    "    obj_params = calc_param_objectives(val, param_objectives)\n",
    "    ic(obj_params)\n",
    "    obj = {}\n",
    "    for i in [obj_bin, obj_params]:\n",
    "        for o in i:\n",
    "            obj[o] = i[o]\n",
    "    if return_data:\n",
    "        return {\"objectives\":obj, \"binary_df\": curr_df}\n",
    "    return pd.Series(obj)\n",
    "\n",
    "# def evaluate_series(val, curr_af, curr_cov, return_data=True):\n",
    "#     curr_df = get_binary_df(val, curr_af, curr_cov)\n",
    "#     ic(curr_df.shape)\n",
    "#     dendro_wide, dendro_clusters = create_dendro(curr_df)\n",
    "#     dendro_wide.index.name = \"clone\"\n",
    "#     obj_bin = calc_objectives(dendro_wide)\n",
    "#     ic(obj_bin)\n",
    "#     ic(dendro_wide.head())\n",
    "#     dendro_long = dendro_wide.reset_index().melt(id_vars=\"clone\", var_name=\"variant\",value_name=\"n_cells\")\n",
    "#     ic(dendro_long.shape)\n",
    "#     obj_dendro = _objectives_dendro(dendro_long, objectives=dendro_objectives)\n",
    "#     ic(obj_dendro)\n",
    "#     obj_params = calc_param_objectives(val, param_objectives)\n",
    "#     ic(obj_params)\n",
    "#     obj = {}\n",
    "#     for i in [obj_bin, obj_dendro, obj_params]:\n",
    "#         for o in i:\n",
    "#             obj[o] = i[o]\n",
    "#     if return_data:\n",
    "#         return {\"objectives\":obj, \"binary_df\": curr_df, \"dendro_long\":dendro_long,\"dendro_cluster\": dendro_clusters}\n",
    "#     return obj\n",
    "    \n",
    "\n",
    "\n",
    "\n"
   ]
  },
  {
   "cell_type": "markdown",
   "id": "aeda34e6",
   "metadata": {},
   "source": [
    "### slightly different approach:\n",
    "1. for each parameter run evaluate_series\n",
    "2. Create a df of mt-by-cells all as 0. \n",
    "3. Loop through each variant and run get_vars_and_cells . This takes one variant, the af and cov of that variant, and returns a dictionary of {v:[cells]}, where cells have the variant with right af and coverage \n",
    "4. The dictionary is used to fill in the binary df\n",
    "5. After loop, remove cells and variants with all 0. \n",
    "6. create objective score df with weights and 0 as scores\n",
    "6. Calculate nvars, ncells by the shape and add to objective\n",
    "7. objectives_params: adds params objectives to the df\n",
    "8. cluster with jaccard (issue for many 0's?) and run dynamic tree\n",
    "9. run dendro_objectives, which uses many of the ones from the clone-vars-table.\n",
    "10. Return the objectives_params, and the df (with the labels meta) if return_date=True.\n"
   ]
  },
  {
   "cell_type": "code",
   "execution_count": 13,
   "id": "2f082640",
   "metadata": {
    "scrolled": true
   },
   "outputs": [
    {
     "name": "stdout",
     "output_type": "stream",
     "text": [
      "d 0\n",
      "d 1\n"
     ]
    }
   ],
   "source": [
    "for d in don_dirs: \n",
    "    print('d', d)\n",
    "    curr_af, curr_cov, curr_cells_meta, curr_variants = load_donor(don_dirs[d])\n",
    "    if curr_af.shape[0] == 0:\n",
    "        continue\n",
    "    curr_cov_name = curr_cov.copy()   \n",
    "    curr_cov_name.index = \"COV-\" + curr_cov.index\n",
    "    curr_af_cov = pd.concat([curr_af, curr_cov_name], verify_integrity=True, sort=False)\n",
    "\n",
    "    if use_small: \n",
    "        curr_af_cov = pd.concat([curr_af.iloc[:100,:100], curr_cov_name.iloc[:100,:100]], verify_integrity=True, sort=False)\n",
    "        full_params_df = full_params.iloc[:100]\n",
    "    else:\n",
    "        full_params_df = full_params.copy()\n",
    "    #curr_af_cov.apply(run_per_pos, args=(full_params_df,),expand=True)\n",
    "    all_passed_vars = defaultdict(list)\n",
    "    params_results = full_params_df.copy()\n",
    "    params_results[\"Variants\"] = None"
   ]
  },
  {
   "cell_type": "code",
   "execution_count": 14,
   "id": "ed4bac5a",
   "metadata": {},
   "outputs": [],
   "source": [
    "%load_ext autoreload\n",
    "%autoreload 2"
   ]
  },
  {
   "cell_type": "code",
   "execution_count": 15,
   "id": "00e25fce",
   "metadata": {
    "scrolled": true
   },
   "outputs": [
    {
     "name": "stdout",
     "output_type": "stream",
     "text": [
      "before remove 0 filter (5691, 195)\n",
      "after (5691, 35)\n"
     ]
    },
    {
     "data": {
      "text/plain": [
       "{'objectives': {'n_cells_obs': 5691,\n",
       "  'n_vars_obs': 35,\n",
       "  'cov': 5.0,\n",
       "  'oth_cov': 2.0,\n",
       "  'af': 0.95,\n",
       "  'oth_af': 0.01,\n",
       "  'ncells': 0.5,\n",
       "  'oth_ncells': 0.8},\n",
       " 'binary_df':                           4917G  1438G  16296T  16519C    73G  5147A  4769G  \\\n",
       " Cell                                                                          \n",
       " AAACGAAAGGAGACTC-1_Flt3l   True  False    True    True  False   True   True   \n",
       " AAACGAAAGTCACGCC-1_Flt3l   True   True    True    True   True   True   True   \n",
       " AAACGAACAAGACTAA-1_Flt3l   True   True   False   False   True   True   True   \n",
       " AAACGAACACAGTAGG-1_Flt3l   True   True   False    True   True  False   True   \n",
       " AAACGAACATGTAGAA-1_Flt3l   True   True   False    True   True   True   True   \n",
       " ...                         ...    ...     ...     ...    ...    ...    ...   \n",
       " TTTGTGTCAATGACTC-1_Input   True   True   False    True   True   True   True   \n",
       " TTTGTGTCAGAAAGAG-1_Input   True   True    True    True   True   True   True   \n",
       " TTTGTGTCATAGCCAT-1_Input   True   True    True    True   True   True   True   \n",
       " TTTGTGTGTCATAGAA-1_Input   True   True    True    True   True   True   True   \n",
       " TTTGTGTTCGGGACAA-1_Input   True   True    True    True   True   True   True   \n",
       " \n",
       "                           930A  7028T  13368A  ...  16304C  14233G  4216C  \\\n",
       " Cell                                           ...                          \n",
       " AAACGAAAGGAGACTC-1_Flt3l  True   True    True  ...    True    True   True   \n",
       " AAACGAAAGTCACGCC-1_Flt3l  True  False    True  ...    True    True   True   \n",
       " AAACGAACAAGACTAA-1_Flt3l  True   True    True  ...    True    True   True   \n",
       " AAACGAACACAGTAGG-1_Flt3l  True   True    True  ...   False    True  False   \n",
       " AAACGAACATGTAGAA-1_Flt3l  True   True    True  ...   False    True   True   \n",
       " ...                        ...    ...     ...  ...     ...     ...    ...   \n",
       " TTTGTGTCAATGACTC-1_Input  True   True    True  ...    True    True   True   \n",
       " TTTGTGTCAGAAAGAG-1_Input  True   True    True  ...    True    True   True   \n",
       " TTTGTGTCATAGCCAT-1_Input  True   True    True  ...    True    True   True   \n",
       " TTTGTGTGTCATAGAA-1_Input  True   True    True  ...    True    True   True   \n",
       " TTTGTGTTCGGGACAA-1_Input  True   True    True  ...    True    True   True   \n",
       " \n",
       "                           16294T  1888A  8697A   750G  15607G  14905A  2706G  \n",
       " Cell                                                                          \n",
       " AAACGAAAGGAGACTC-1_Flt3l    True   True   True   True    True    True   True  \n",
       " AAACGAAAGTCACGCC-1_Flt3l    True  False   True  False    True    True   True  \n",
       " AAACGAACAAGACTAA-1_Flt3l   False   True   True   True   False   False   True  \n",
       " AAACGAACACAGTAGG-1_Flt3l   False   True   True   True   False    True   True  \n",
       " AAACGAACATGTAGAA-1_Flt3l   False   True   True   True    True    True   True  \n",
       " ...                          ...    ...    ...    ...     ...     ...    ...  \n",
       " TTTGTGTCAATGACTC-1_Input    True   True   True   True    True    True   True  \n",
       " TTTGTGTCAGAAAGAG-1_Input    True   True   True   True    True    True   True  \n",
       " TTTGTGTCATAGCCAT-1_Input    True  False   True   True    True    True   True  \n",
       " TTTGTGTGTCATAGAA-1_Input    True   True   True   True    True    True   True  \n",
       " TTTGTGTTCGGGACAA-1_Input    True   True   True   True    True    True   True  \n",
       " \n",
       " [5691 rows x 35 columns]}"
      ]
     },
     "execution_count": 15,
     "metadata": {},
     "output_type": "execute_result"
    }
   ],
   "source": [
    "val = full_params_df.sample(1).iloc[0]\n",
    "val\n",
    "out_param_run = evaluate_series(val, curr_af, curr_cov, return_data=True)\n",
    "out_param_run"
   ]
  },
  {
   "cell_type": "code",
   "execution_count": 16,
   "id": "a1e818e4",
   "metadata": {},
   "outputs": [],
   "source": [
    "#pd.DataFrame(results_df)"
   ]
  },
  {
   "cell_type": "code",
   "execution_count": 17,
   "id": "d0aac1aa",
   "metadata": {
    "scrolled": true
   },
   "outputs": [
    {
     "name": "stdout",
     "output_type": "stream",
     "text": [
      "before remove 0 filter (5691, 195)\n",
      "after (5691, 39)\n",
      "before remove 0 filter (5691, 195)\n",
      "after (5691, 36)\n",
      "before remove 0 filter (5691, 195)\n",
      "after (5664, 15)\n",
      "before remove 0 filter (5691, 195)\n",
      "after (5682, 30)\n",
      "before remove 0 filter (5691, 195)\n",
      "after (5691, 38)\n",
      "before remove 0 filter (5691, 195)\n",
      "after (4287, 37)\n",
      "before remove 0 filter (5691, 195)\n",
      "after (4299, 28)\n",
      "before remove 0 filter (5691, 195)\n",
      "after (4339, 39)\n",
      "before remove 0 filter (5691, 195)\n",
      "after (3428, 1)\n",
      "before remove 0 filter (5691, 195)\n",
      "after (5691, 38)\n"
     ]
    }
   ],
   "source": [
    "\n"
   ]
  },
  {
   "cell_type": "code",
   "execution_count": 18,
   "id": "73386f6b",
   "metadata": {},
   "outputs": [
    {
     "data": {
      "text/html": [
       "<div>\n",
       "<style scoped>\n",
       "    .dataframe tbody tr th:only-of-type {\n",
       "        vertical-align: middle;\n",
       "    }\n",
       "\n",
       "    .dataframe tbody tr th {\n",
       "        vertical-align: top;\n",
       "    }\n",
       "\n",
       "    .dataframe thead th {\n",
       "        text-align: right;\n",
       "    }\n",
       "</style>\n",
       "<table border=\"1\" class=\"dataframe\">\n",
       "  <thead>\n",
       "    <tr style=\"text-align: right;\">\n",
       "      <th></th>\n",
       "      <th>n_cells_obs</th>\n",
       "      <th>n_vars_obs</th>\n",
       "      <th>cov</th>\n",
       "      <th>oth_cov</th>\n",
       "      <th>af</th>\n",
       "      <th>oth_af</th>\n",
       "      <th>ncells</th>\n",
       "      <th>oth_ncells</th>\n",
       "    </tr>\n",
       "  </thead>\n",
       "  <tbody>\n",
       "    <tr>\n",
       "      <th>10647</th>\n",
       "      <td>5691.0</td>\n",
       "      <td>39.0</td>\n",
       "      <td>5.0</td>\n",
       "      <td>30.0</td>\n",
       "      <td>0.40</td>\n",
       "      <td>0.10</td>\n",
       "      <td>5.0</td>\n",
       "      <td>0.6</td>\n",
       "    </tr>\n",
       "    <tr>\n",
       "      <th>21860</th>\n",
       "      <td>5691.0</td>\n",
       "      <td>36.0</td>\n",
       "      <td>5.0</td>\n",
       "      <td>2.0</td>\n",
       "      <td>0.95</td>\n",
       "      <td>0.40</td>\n",
       "      <td>0.2</td>\n",
       "      <td>0.8</td>\n",
       "    </tr>\n",
       "    <tr>\n",
       "      <th>21835</th>\n",
       "      <td>5664.0</td>\n",
       "      <td>15.0</td>\n",
       "      <td>10.0</td>\n",
       "      <td>30.0</td>\n",
       "      <td>0.95</td>\n",
       "      <td>0.40</td>\n",
       "      <td>0.2</td>\n",
       "      <td>0.8</td>\n",
       "    </tr>\n",
       "    <tr>\n",
       "      <th>7241</th>\n",
       "      <td>5682.0</td>\n",
       "      <td>30.0</td>\n",
       "      <td>10.0</td>\n",
       "      <td>5.0</td>\n",
       "      <td>0.10</td>\n",
       "      <td>0.40</td>\n",
       "      <td>0.1</td>\n",
       "      <td>0.8</td>\n",
       "    </tr>\n",
       "    <tr>\n",
       "      <th>4674</th>\n",
       "      <td>5691.0</td>\n",
       "      <td>38.0</td>\n",
       "      <td>2.0</td>\n",
       "      <td>10.0</td>\n",
       "      <td>0.01</td>\n",
       "      <td>0.95</td>\n",
       "      <td>0.5</td>\n",
       "      <td>0.6</td>\n",
       "    </tr>\n",
       "  </tbody>\n",
       "</table>\n",
       "</div>"
      ],
      "text/plain": [
       "       n_cells_obs  n_vars_obs   cov  oth_cov    af  oth_af  ncells  \\\n",
       "10647       5691.0        39.0   5.0     30.0  0.40    0.10     5.0   \n",
       "21860       5691.0        36.0   5.0      2.0  0.95    0.40     0.2   \n",
       "21835       5664.0        15.0  10.0     30.0  0.95    0.40     0.2   \n",
       "7241        5682.0        30.0  10.0      5.0  0.10    0.40     0.1   \n",
       "4674        5691.0        38.0   2.0     10.0  0.01    0.95     0.5   \n",
       "\n",
       "       oth_ncells  \n",
       "10647         0.6  \n",
       "21860         0.8  \n",
       "21835         0.8  \n",
       "7241          0.8  \n",
       "4674          0.6  "
      ]
     },
     "execution_count": 18,
     "metadata": {},
     "output_type": "execute_result"
    }
   ],
   "source": [
    "results_df.head()"
   ]
  },
  {
   "cell_type": "code",
   "execution_count": 19,
   "id": "ec41bf2c",
   "metadata": {},
   "outputs": [
    {
     "data": {
      "text/plain": [
       "['n_vars_obs',\n",
       " 'n_cells_obs',\n",
       " 'cov',\n",
       " 'oth_cov',\n",
       " 'af',\n",
       " 'oth_af',\n",
       " 'ncells',\n",
       " 'oth_ncells']"
      ]
     },
     "execution_count": 19,
     "metadata": {},
     "output_type": "execute_result"
    }
   ],
   "source": [
    "all_objectives"
   ]
  },
  {
   "cell_type": "code",
   "execution_count": 20,
   "id": "c42fe218",
   "metadata": {},
   "outputs": [
    {
     "data": {
      "text/plain": [
       "[1, 1, 1, 1, 1, -1, 1, 1]"
      ]
     },
     "execution_count": 20,
     "metadata": {},
     "output_type": "execute_result"
    }
   ],
   "source": [
    "all_weights"
   ]
  },
  {
   "cell_type": "code",
   "execution_count": 22,
   "id": "5d1692c8",
   "metadata": {},
   "outputs": [],
   "source": [
    "import src.clone_variants_optim as optim"
   ]
  },
  {
   "cell_type": "code",
   "execution_count": 23,
   "id": "9d3d83c5",
   "metadata": {
    "scrolled": true
   },
   "outputs": [
    {
     "name": "stdout",
     "output_type": "stream",
     "text": [
      "n_cells_obs    True\n",
      "n_vars_obs     True\n",
      "cov            True\n",
      "oth_cov        True\n",
      "af             True\n",
      "oth_af         True\n",
      "ncells         True\n",
      "oth_ncells     True\n",
      "dtype: bool\n",
      "(10, 8)\n",
      "objs_total n_cells_obs    50463.00\n",
      "n_vars_obs       301.00\n",
      "cov              157.00\n",
      "oth_cov          123.00\n",
      "af                 5.12\n",
      "dtype: float64\n"
     ]
    }
   ],
   "source": []
  },
  {
   "cell_type": "code",
   "execution_count": 24,
   "id": "f2aca4dd",
   "metadata": {
    "scrolled": true
   },
   "outputs": [
    {
     "data": {
      "text/html": [
       "<div>\n",
       "<style scoped>\n",
       "    .dataframe tbody tr th:only-of-type {\n",
       "        vertical-align: middle;\n",
       "    }\n",
       "\n",
       "    .dataframe tbody tr th {\n",
       "        vertical-align: top;\n",
       "    }\n",
       "\n",
       "    .dataframe thead th {\n",
       "        text-align: right;\n",
       "    }\n",
       "</style>\n",
       "<table border=\"1\" class=\"dataframe\">\n",
       "  <thead>\n",
       "    <tr style=\"text-align: right;\">\n",
       "      <th></th>\n",
       "      <th>n_cells_obs</th>\n",
       "      <th>n_vars_obs</th>\n",
       "      <th>cov</th>\n",
       "      <th>oth_cov</th>\n",
       "      <th>af</th>\n",
       "      <th>oth_af</th>\n",
       "      <th>ncells</th>\n",
       "      <th>oth_ncells</th>\n",
       "      <th>multi</th>\n",
       "    </tr>\n",
       "  </thead>\n",
       "  <tbody>\n",
       "    <tr>\n",
       "      <th>10647</th>\n",
       "      <td>0.112776</td>\n",
       "      <td>0.129568</td>\n",
       "      <td>0.031847</td>\n",
       "      <td>0.243902</td>\n",
       "      <td>0.078125</td>\n",
       "      <td>0.017857</td>\n",
       "      <td>0.675676</td>\n",
       "      <td>0.108108</td>\n",
       "      <td>1.362145</td>\n",
       "    </tr>\n",
       "    <tr>\n",
       "      <th>21835</th>\n",
       "      <td>0.112241</td>\n",
       "      <td>0.049834</td>\n",
       "      <td>0.063694</td>\n",
       "      <td>0.243902</td>\n",
       "      <td>0.185547</td>\n",
       "      <td>0.071429</td>\n",
       "      <td>0.027027</td>\n",
       "      <td>0.144144</td>\n",
       "      <td>0.754961</td>\n",
       "    </tr>\n",
       "    <tr>\n",
       "      <th>23687</th>\n",
       "      <td>0.112776</td>\n",
       "      <td>0.126246</td>\n",
       "      <td>0.031847</td>\n",
       "      <td>0.243902</td>\n",
       "      <td>0.185547</td>\n",
       "      <td>0.169643</td>\n",
       "      <td>0.027027</td>\n",
       "      <td>0.108108</td>\n",
       "      <td>0.665810</td>\n",
       "    </tr>\n",
       "    <tr>\n",
       "      <th>22510</th>\n",
       "      <td>0.084953</td>\n",
       "      <td>0.122924</td>\n",
       "      <td>0.191083</td>\n",
       "      <td>0.081301</td>\n",
       "      <td>0.185547</td>\n",
       "      <td>0.142857</td>\n",
       "      <td>0.013514</td>\n",
       "      <td>0.045045</td>\n",
       "      <td>0.581509</td>\n",
       "    </tr>\n",
       "    <tr>\n",
       "      <th>21860</th>\n",
       "      <td>0.112776</td>\n",
       "      <td>0.119601</td>\n",
       "      <td>0.031847</td>\n",
       "      <td>0.016260</td>\n",
       "      <td>0.185547</td>\n",
       "      <td>0.071429</td>\n",
       "      <td>0.027027</td>\n",
       "      <td>0.144144</td>\n",
       "      <td>0.565774</td>\n",
       "    </tr>\n",
       "    <tr>\n",
       "      <th>12332</th>\n",
       "      <td>0.085191</td>\n",
       "      <td>0.093023</td>\n",
       "      <td>0.191083</td>\n",
       "      <td>0.016260</td>\n",
       "      <td>0.078125</td>\n",
       "      <td>0.071429</td>\n",
       "      <td>0.067568</td>\n",
       "      <td>0.045045</td>\n",
       "      <td>0.504866</td>\n",
       "    </tr>\n",
       "    <tr>\n",
       "      <th>12396</th>\n",
       "      <td>0.067931</td>\n",
       "      <td>0.003322</td>\n",
       "      <td>0.191083</td>\n",
       "      <td>0.016260</td>\n",
       "      <td>0.078125</td>\n",
       "      <td>0.071429</td>\n",
       "      <td>0.067568</td>\n",
       "      <td>0.108108</td>\n",
       "      <td>0.460968</td>\n",
       "    </tr>\n",
       "    <tr>\n",
       "      <th>7241</th>\n",
       "      <td>0.112597</td>\n",
       "      <td>0.099668</td>\n",
       "      <td>0.063694</td>\n",
       "      <td>0.040650</td>\n",
       "      <td>0.019531</td>\n",
       "      <td>0.071429</td>\n",
       "      <td>0.013514</td>\n",
       "      <td>0.144144</td>\n",
       "      <td>0.422370</td>\n",
       "    </tr>\n",
       "    <tr>\n",
       "      <th>4674</th>\n",
       "      <td>0.112776</td>\n",
       "      <td>0.126246</td>\n",
       "      <td>0.012739</td>\n",
       "      <td>0.081301</td>\n",
       "      <td>0.001953</td>\n",
       "      <td>0.169643</td>\n",
       "      <td>0.067568</td>\n",
       "      <td>0.108108</td>\n",
       "      <td>0.341047</td>\n",
       "    </tr>\n",
       "    <tr>\n",
       "      <th>3324</th>\n",
       "      <td>0.085984</td>\n",
       "      <td>0.129568</td>\n",
       "      <td>0.191083</td>\n",
       "      <td>0.016260</td>\n",
       "      <td>0.001953</td>\n",
       "      <td>0.142857</td>\n",
       "      <td>0.013514</td>\n",
       "      <td>0.045045</td>\n",
       "      <td>0.340549</td>\n",
       "    </tr>\n",
       "  </tbody>\n",
       "</table>\n",
       "</div>"
      ],
      "text/plain": [
       "       n_cells_obs  n_vars_obs       cov   oth_cov        af    oth_af  \\\n",
       "10647     0.112776    0.129568  0.031847  0.243902  0.078125  0.017857   \n",
       "21835     0.112241    0.049834  0.063694  0.243902  0.185547  0.071429   \n",
       "23687     0.112776    0.126246  0.031847  0.243902  0.185547  0.169643   \n",
       "22510     0.084953    0.122924  0.191083  0.081301  0.185547  0.142857   \n",
       "21860     0.112776    0.119601  0.031847  0.016260  0.185547  0.071429   \n",
       "12332     0.085191    0.093023  0.191083  0.016260  0.078125  0.071429   \n",
       "12396     0.067931    0.003322  0.191083  0.016260  0.078125  0.071429   \n",
       "7241      0.112597    0.099668  0.063694  0.040650  0.019531  0.071429   \n",
       "4674      0.112776    0.126246  0.012739  0.081301  0.001953  0.169643   \n",
       "3324      0.085984    0.129568  0.191083  0.016260  0.001953  0.142857   \n",
       "\n",
       "         ncells  oth_ncells     multi  \n",
       "10647  0.675676    0.108108  1.362145  \n",
       "21835  0.027027    0.144144  0.754961  \n",
       "23687  0.027027    0.108108  0.665810  \n",
       "22510  0.013514    0.045045  0.581509  \n",
       "21860  0.027027    0.144144  0.565774  \n",
       "12332  0.067568    0.045045  0.504866  \n",
       "12396  0.067568    0.108108  0.460968  \n",
       "7241   0.013514    0.144144  0.422370  \n",
       "4674   0.067568    0.108108  0.341047  \n",
       "3324   0.013514    0.045045  0.340549  "
      ]
     },
     "execution_count": 24,
     "metadata": {},
     "output_type": "execute_result"
    }
   ],
   "source": [
    "results_norm"
   ]
  },
  {
   "cell_type": "code",
   "execution_count": 23,
   "id": "5370fd4d",
   "metadata": {},
   "outputs": [],
   "source": [
    "from dynamicTreeCut import cutreeHybrid\n",
    "from scipy.spatial.distance import pdist\n",
    "from scipy.cluster.hierarchy import linkage\n",
    "distances = pdist(curr_df.values,\n",
    "                  metric=\"jaccard\")\n"
   ]
  },
  {
   "cell_type": "code",
   "execution_count": null,
   "id": "28c73e7f",
   "metadata": {},
   "outputs": [],
   "source": [
    "\n",
    "for ind, val in tqdm(full_params_df.iterrows()):\n",
    "    # get boolean variant array and keep the ones that are true\n",
    "    curr_vars, curr_cells_vars_d = evaluate_series(val, curr_af, curr_cov)"
   ]
  },
  {
   "cell_type": "code",
   "execution_count": null,
   "id": "42ec11bf",
   "metadata": {
    "scrolled": true
   },
   "outputs": [],
   "source": [
    "for d in don_dirs: \n",
    "    curr_af, curr_cov, curr_cells_meta, curr_variants = load_donor(don_dirs[d])\n",
    "    if curr_af.shape[0] == 0:\n",
    "        continue\n",
    "    curr_cov_name = curr_cov.copy()   \n",
    "    curr_cov_name.index = \"COV-\" + curr_cov.index\n",
    "    curr_af_cov = pd.concat([curr_af, curr_cov_name], verify_integrity=True, sort=False)\n",
    "\n",
    "    if use_small: \n",
    "        curr_af_cov = pd.concat([curr_af.iloc[:100,:100], curr_cov_name.iloc[:100,:100]], verify_integrity=True, sort=False)\n",
    "        full_params_df = full_params.iloc[:100]\n",
    "    else:\n",
    "        full_params_df = full_params.copy()\n",
    "    #curr_af_cov.apply(run_per_pos, args=(full_params_df,),expand=True)\n",
    "\n",
    "    \n",
    "    results_df = full_params_df.sample(10).apply(evaluate_series, args=(curr_af, curr_cov, False), axis=1)\n",
    "    print((results_df>0).any())\n",
    "    drop_inds = results_df.loc[(results_df==0).all(axis=1)].index\n",
    "    results_norm = optim.set_multi(results_df, all_weights)\n",
    "    rank_df = optim.set_multi_rank(results_norm, all_weights)\n",
    "\n",
    "    drop_results = results_norm.loc[results_norm[\"multi\"].isnull()]\n",
    "    results_norm = results_norm.loc[~(results_norm[\"multi\"].isnull())]\n"
   ]
  },
  {
   "cell_type": "code",
   "execution_count": 25,
   "id": "6e0823a7",
   "metadata": {},
   "outputs": [
    {
     "name": "stderr",
     "output_type": "stream",
     "text": [
      "/home/isaac/miniconda3/envs/mttrace/lib/python3.7/site-packages/seaborn/distributions.py:2619: FutureWarning: `distplot` is a deprecated function and will be removed in a future version. Please adapt your code to use either `displot` (a figure-level function with similar flexibility) or `histplot` (an axes-level function for histograms).\n",
      "  warnings.warn(msg, FutureWarning)\n"
     ]
    },
    {
     "data": {
      "text/plain": [
       "<AxesSubplot:xlabel='multi', ylabel='Density'>"
      ]
     },
     "execution_count": 25,
     "metadata": {},
     "output_type": "execute_result"
    },
    {
     "data": {
      "image/png": "[encoded data removed]",
      "text/plain": [
       "<Figure size 432x288 with 1 Axes>"
      ]
     },
     "metadata": {
      "needs_background": "light"
     },
     "output_type": "display_data"
    }
   ],
   "source": [
    "sns.distplot(results_norm[\"multi\"])"
   ]
  },
  {
   "cell_type": "code",
   "execution_count": 27,
   "id": "1049c793",
   "metadata": {
    "scrolled": true
   },
   "outputs": [
    {
     "data": {
      "text/plain": [
       "<seaborn.matrix.ClusterGrid at 0x7f3613a83490>"
      ]
     },
     "execution_count": 27,
     "metadata": {},
     "output_type": "execute_result"
    },
    {
     "data": {
      "image/png": "[encoded data removed]",
      "text/plain": [
       "<Figure size 720x720 with 4 Axes>"
      ]
     },
     "metadata": {
      "needs_background": "light"
     },
     "output_type": "display_data"
    }
   ],
   "source": [
    "sns.clustermap(results_norm.drop(\"multi\", axis=1))"
   ]
  },
  {
   "cell_type": "code",
   "execution_count": 29,
   "id": "95a31ad9",
   "metadata": {
    "scrolled": true
   },
   "outputs": [
    {
     "data": {
      "text/plain": [
       "<seaborn.matrix.ClusterGrid at 0x7f361349cfd0>"
      ]
     },
     "execution_count": 29,
     "metadata": {},
     "output_type": "execute_result"
    },
    {
     "data": {
      "image/png": "[encoded data removed]",
      "text/plain": [
       "<Figure size 720x720 with 4 Axes>"
      ]
     },
     "metadata": {
      "needs_background": "light"
     },
     "output_type": "display_data"
    }
   ],
   "source": [
    "sns.clustermap(results_norm, row_cluster=False)"
   ]
  },
  {
   "cell_type": "code",
   "execution_count": 28,
   "id": "cfb59abe",
   "metadata": {
    "scrolled": true
   },
   "outputs": [
    {
     "data": {
      "text/plain": [
       "<seaborn.matrix.ClusterGrid at 0x7f361386df10>"
      ]
     },
     "execution_count": 28,
     "metadata": {},
     "output_type": "execute_result"
    },
    {
     "data": {
      "image/png": "[encoded data removed]",
      "text/plain": [
       "<Figure size 720x720 with 4 Axes>"
      ]
     },
     "metadata": {
      "needs_background": "light"
     },
     "output_type": "display_data"
    }
   ],
   "source": [
    "sns.clustermap(rank_df.drop(\"multi\", axis=1))"
   ]
  },
  {
   "cell_type": "code",
   "execution_count": null,
   "id": "734bc8ad",
   "metadata": {
    "scrolled": true
   },
   "outputs": [],
   "source": [
    "\n",
    "# seen_variants = params_results[\"Variants\"].dropna().apply(lambda x: x.split(\";\"))\n",
    "# params_results[\"Variants List\"] = seen_variants\n",
    "# seen_variants = set(sum(list(seen_variants.values), []))\n",
    "\n",
    "# params_results[\"n_vars\"] = params_results[\"Variants List\"].apply(lambda x: len(x) if type(x) is list else 0)\n",
    "\n",
    "# ## Save\n",
    "# params_results.drop(\"Variants List\", axis=1).to_csv(join(outdir, f\"donor_{d}_thresh_results.tsv\"), sep=\"\\t\", index=False)\n",
    "\n",
    "# if to_plots:\n",
    "#     plots(params_results,outdir, prefix=f\"donor_{d}\")\n",
    "\n"
   ]
  },
  {
   "cell_type": "markdown",
   "id": "5f59f851",
   "metadata": {},
   "source": [
    "## Check subset variants"
   ]
  },
  {
   "cell_type": "markdown",
   "id": "cb57bf90",
   "metadata": {},
   "source": [
    "## For each thresh get the variants and other and output the list of cells"
   ]
  },
  {
   "cell_type": "code",
   "execution_count": null,
   "id": "eba273cb",
   "metadata": {
    "scrolled": true
   },
   "outputs": [],
   "source": [
    "for d in don_dirs: \n",
    "    curr_af, curr_cov, curr_cells_meta, curr_variants = load_donor(don_dirs[d])\n",
    "    if curr_af.shape[0] == 0:\n",
    "        continue\n",
    "    curr_cov_name = curr_cov.copy()   \n",
    "    curr_cov_name.index = \"COV-\" + curr_cov.index\n",
    "    curr_af_cov = pd.concat([curr_af, curr_cov_name], verify_integrity=True, sort=False)\n",
    "\n",
    "    params_results = pd.read_csv(join(outdir, f\"donor_{d}_thresh_results.tsv\"), sep=\"\\t\")\n",
    "    for thresh, curr_df in params_results.groupby([\"af\", \"oth_af\", \"cov\", \"oth_cov\"]):\n",
    "        print(thresh)\n",
    "        # get all variants seen here:\n",
    "        curr_vars = set()\n",
    "        for x in curr_df[\"Variants\"].dropna().values:\n",
    "            curr_vars = curr_vars.union(set(x.split(\";\")))\n",
    "        \n",
    "        curr_cells_vars_d = {}\n",
    "        for c_var in curr_vars: #curr_af.columns:\n",
    "            pos_af = curr_af[c_var]\n",
    "            pos_cov = curr_cov[c_var]\n",
    "            curr_cells_vars_d[c_var] = get_cells(*(thresh), pos_af, pos_cov)\n",
    "        curr_f = join(cells_dir, f\"don.{d}_af.{thresh[0]}_othaf.{thresh[1]}_cov.{thresh[2]}_othcov.{thresh[3]}.p\")\n",
    "        pickle.dump(curr_cells_vars_d, open(curr_f,'wb'))"
   ]
  },
  {
   "cell_type": "code",
   "execution_count": null,
   "id": "682b1a69",
   "metadata": {
    "scrolled": true
   },
   "outputs": [],
   "source": [
    "params_results.sort_values(\"n_vars\", ascending=False)"
   ]
  },
  {
   "cell_type": "code",
   "execution_count": null,
   "id": "14b7a90d",
   "metadata": {},
   "outputs": [],
   "source": [
    "cmd = f\"touch {outdir}/.complete\"\n",
    "!{cmd}"
   ]
  },
  {
   "cell_type": "markdown",
   "id": "2fb42da4",
   "metadata": {},
   "source": [
    "## For each pairwise variants check if the cells with the variant (and coverage) is over 50%, if it is remove the smaller one (create tree)"
   ]
  }
 ],
 "metadata": {
  "celltoolbar": "Tags",
  "kernelspec": {
   "display_name": "Python 3 (ipykernel)",
   "language": "python",
   "name": "python3"
  },
  "language_info": {
   "codemirror_mode": {
    "name": "ipython",
    "version": 3
   },
   "file_extension": ".py",
   "mimetype": "text/x-python",
   "name": "python",
   "nbconvert_exporter": "python",
   "pygments_lexer": "ipython3",
   "version": "3.7.12"
  }
 },
 "nbformat": 4,
 "nbformat_minor": 5
}
