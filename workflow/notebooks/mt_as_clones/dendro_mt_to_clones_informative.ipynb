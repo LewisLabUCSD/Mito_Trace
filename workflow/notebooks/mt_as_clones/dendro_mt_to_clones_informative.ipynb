{
 "cells": [
  {
   "cell_type": "code",
   "execution_count": 1,
   "id": "8f3eabb2",
   "metadata": {
    "scrolled": true
   },
   "outputs": [
    {
     "name": "stdout",
     "output_type": "stream",
     "text": [
      "fig_utils from mplh\n"
     ]
    }
   ],
   "source": [
    "import pandas as pd\n",
    "from os.path import join, isdir\n",
    "\n",
    "import matplotlib.pyplot as plt\n",
    "import numpy as np\n",
    "import seaborn as sns\n",
    "from icecream import ic\n",
    "from src.utils import variant_utils as vu\n",
    "from glob import glob\n",
    "from itertools import product\n",
    "from collections import defaultdict\n",
    "from tqdm.notebook import tqdm\n",
    "import pickle\n",
    "\n",
    "from mplh.color_utils import create_color_df_v02\n",
    "from mplh import cluster_help as ch\n",
    "\n",
    "from src.utils import dendro_clust as dc"
   ]
  },
  {
   "cell_type": "code",
   "execution_count": 2,
   "id": "01de0677",
   "metadata": {},
   "outputs": [],
   "source": [
    "import sys\n",
    "sys.setrecursionlimit(100000)"
   ]
  },
  {
   "cell_type": "code",
   "execution_count": 3,
   "id": "5b3e3525",
   "metadata": {},
   "outputs": [],
   "source": [
    "%load_ext autoreload\n",
    "%autoreload 2"
   ]
  },
  {
   "cell_type": "code",
   "execution_count": 4,
   "id": "e27fb5e4",
   "metadata": {
    "tags": [
     "parameters"
    ]
   },
   "outputs": [],
   "source": [
    "# indir = \"/data/Mito_Trace/output/pipeline/v02/CHIP_b1/MTBlacklist_A2/data/merged/MT/cellr_True/numread_200/filters/minC10_minR50_topN0_hetT0.001_hetC10_hetCount5_bq20/mgatk/vireoIn/mt_as_clones/variants_simpleUnion/dendro/af.0.1_othaf.0.1_cov.10_othcov.10_ncells.10_othncells.0.25_mean.0/\"\n",
    "# outdir = \"/data/Mito_Trace/output/pipeline/v02/CHIP_b1/MTBlacklist_A2/data/merged/MT/cellr_True/numread_200/filters/minC10_minR50_topN0_hetT0.001_hetC10_hetCount5_bq20/mgatk/vireoIn/multiplex/clones_simpleUnion/mt_clones_thresh/dendro/\"\n",
    "# N_DONORS=2\n",
    "\n",
    "indir = \"/data/Mito_Trace/output/pipeline/v02/CHIP_b1/MTBlacklist_A2/data/merged/MT/cellr_True/numread_200/filters/minC10_minR50_topN0_hetT0.001_hetC10_hetCount5_bq20/mgatk/vireoIn/mt_as_clones/variants_init/bestparams/af.0.1_othaf.0.1_cov.10_othcov.10_ncells.10_othncells.0.25_mean.0\" \n",
    "outdir = \"/data/Mito_Trace/output/pipeline/v02/CHIP_b1/MTBlacklist_A2/data/merged/MT/cellr_True/numread_200/filters/minC10_minR50_topN0_hetT0.001_hetC10_hetCount5_bq20/mgatk/vireoIn/mt_as_clones/variants_init/dendro/af.0.1_othaf.0.1_cov.10_othcov.10_ncells.10_othncells.0.25_mean.0\"\n",
    "N_DONORS = 2\n",
    "\n",
    "\n",
    "##se_cells_meta_f = /data/Mito_Trace/output/pipeline/v02/CHIP_b1/MTBlacklist_A2/data/merged/MT/cellr_True/numread_200/filters/minC10_minR50_topN0_hetT0.001_hetC10_hetCount5_bq20/mgatk/vireoIn/clones/variants_simpleUnion/knn/kparam_50/gff_A2_black/annotation_clones/se_cells_meta_labels.tsv \n",
    "#outdir = /data/Mito_Trace/output/pipeline/v02/CHIP_b1/MTBlacklist_A2/data/merged/MT/cellr_True/numread_200/filters/minC10_minR50_topN0_hetT0.001_hetC10_hetCount5_bq20/mgatk/vireoIn/variants_simpleUnion/clonal_shifts/dendro_bc/results/inputOnly/knn/kparam_50/dendro_dt_0.6 "
   ]
  },
  {
   "cell_type": "code",
   "execution_count": null,
   "id": "fd0894ea",
   "metadata": {},
   "outputs": [],
   "source": [
    "cells_dir=join(indir, \"cells\")"
   ]
  },
  {
   "cell_type": "code",
   "execution_count": null,
   "id": "e8e5df95",
   "metadata": {},
   "outputs": [],
   "source": [
    "#samples = samples.split(\",\")"
   ]
  },
  {
   "cell_type": "markdown",
   "id": "0f79947b",
   "metadata": {},
   "source": [
    "### Smaller params"
   ]
  },
  {
   "cell_type": "code",
   "execution_count": null,
   "id": "858166a8",
   "metadata": {},
   "outputs": [],
   "source": [
    "def fill_mt_bin(curr_pos, curr_cells):\n",
    "    print(curr_pos.name)\n",
    "    curr_pos.loc[curr_cells[curr_pos.name][\"other_cells\"]] = 0\n",
    "    curr_pos.loc[curr_cells[curr_pos.name][\"clone_cells\"]] = 1\n",
    "    return curr_pos"
   ]
  },
  {
   "cell_type": "code",
   "execution_count": null,
   "id": "7f76f462",
   "metadata": {
    "scrolled": true
   },
   "outputs": [],
   "source": [
    "bin_d = {}\n",
    "#best_params = pd.read_csv(join(indir,  \"best_params.csv\"))\n",
    "#print('params', best_params)\n",
    "for d in range(N_DONORS): \n",
    "    bin_d[d] = pd.read_csv(join(indir,  f\"donor_{d}_binary.csv\"), index_col=0)\n",
    "\n",
    "\n",
    "### Remove cells with all 0s and vars with less than min_cell number of cells\n",
    "for d in bin_d:\n",
    "    print(d)\n",
    "    print(bin_d[d].shape)\n",
    "    bin_d[d] = bin_d[d].loc[~((bin_d[d])==0).all(axis=1),~((bin_d[d])==0).all(axis=0)]\n",
    "    print(bin_d[d].shape)"
   ]
  },
  {
   "cell_type": "code",
   "execution_count": null,
   "id": "63e09637",
   "metadata": {
    "scrolled": false
   },
   "outputs": [],
   "source": [
    "%matplotlib inline\n",
    "\n",
    "for d in bin_d:\n",
    "    print(f\"Donor {d}\")    \n",
    "    #df = bin_d[d].fillna(0).astype(bool).sample(1000)\n",
    "    df = bin_d[d].fillna(0).astype(bool)\n",
    "    \n",
    "    # Drop the all 0s\n",
    "    print(f\"before 0 remove: {df.shape}\")\n",
    "    df = df.loc[~((df == 0).all(axis=1))]\n",
    "    curr_clones = pd.DataFrame(index=df.index)\n",
    "    curr_clones[\"Donor\"] = d\n",
    "    print(f\"after 0 remove: {df.shape}\")    \n",
    "    den, curr_clones = dc.run_dendro_clust(df, dendroThresh=0.6, curr_clones=curr_clones, out_f=None,\n",
    "                                           to_clust_stats=False, use_seaborn=False, verbose=True)\n",
    "    \n",
    "#     g = sns.clustermap(df, row_cluster=True, col_cluster=True, metric=\"jaccard\")\n",
    "#     inds = g.dendrogram_row.dendrogram[\"leaves\"]\n",
    "#     cols = g.dendrogram_col.dendrogram[\"leaves\"]\n",
    "#     curr_clones = curr_clones.iloc[inds]\n",
    "#     plt.close(g.fig)\n",
    "\n",
    "#     den = dc.dendro_cluster(df, g, d_thresh=0.8, no_labels=True, truncate_mode= 'lastp')\n",
    "#     curr_clones = dc.add_cluster_labels(den, curr_clones)\n",
    "#     curr_clones\n",
    "\n",
    "    curr_clones[\"condition\"]= [x.split(\"_\")[-1] for x in curr_clones.index]\n",
    "    curr_clones = curr_clones.loc[df.index]\n",
    "    curr_clones\n",
    "\n",
    "    f = plt.figure()\n",
    "    sns.countplot(curr_clones[\"den_clust\"])\n",
    "    curr_clones[\"den_clust\"] = curr_clones[\"Donor\"].astype(str) +  \"_\" + curr_clones[\"den_clust\"]\n",
    "    #may want to sample when plotting\n",
    "    ch.plot_cluster(df.fillna(0), row_meta=curr_clones, metric=\"jaccard\", row_clr_schemes=\"categorical\")\n",
    "    plt.savefig(join(outdir, f\"don_{d}_dendro_mt_as_clones.png\"))\n",
    "    curr_clones.to_csv(join(outdir, f\"don_{d}_mt_dendro_clust.csv\"))"
   ]
  },
  {
   "cell_type": "code",
   "execution_count": null,
   "id": "b4655664",
   "metadata": {},
   "outputs": [],
   "source": [
    "curr_clones"
   ]
  },
  {
   "cell_type": "code",
   "execution_count": null,
   "id": "c5b7dac9",
   "metadata": {},
   "outputs": [],
   "source": [
    "outdir"
   ]
  },
  {
   "cell_type": "code",
   "execution_count": null,
   "id": "f6fa6339",
   "metadata": {
    "scrolled": true
   },
   "outputs": [],
   "source": [
    "#ch.plot_cluster(df, row_meta=curr_clones, row_clr_schemes=\"categorical\")"
   ]
  },
  {
   "cell_type": "code",
   "execution_count": null,
   "id": "aed34386",
   "metadata": {
    "scrolled": true
   },
   "outputs": [],
   "source": [
    "# %matplotlib inline\n",
    "# df = bin_d[d].fillna(0).astype(bool).sample(1000)\n",
    "# curr_clones = pd.DataFrame(index=df.index)\n",
    "# curr_clones[\"Donor\"] = d\n",
    "# g = sns.clustermap(df, row_cluster=True, col_cluster=True, metric=\"jaccard\")\n",
    "# inds = g.dendrogram_row.dendrogram[\"leaves\"]\n",
    "# cols = g.dendrogram_col.dendrogram[\"leaves\"]\n",
    "# curr_clones = curr_clones.iloc[inds]\n",
    "# plt.close(g.fig)\n",
    "\n",
    "# den_high = dc.dendro_cluster(df, g, d_thresh=0.6, no_labels=True, truncate_mode= 'lastp')\n",
    "\n",
    "# curr_clones = dc.add_cluster_labels(den_high, curr_clones)\n",
    "# curr_clones\n",
    "\n",
    "# #size_pvals = dc.cluster_stats(curr_clones, out_f= None )\n",
    "\n",
    "# curr_clones[\"condition\"]= [x.split(\"_\")[-1] for x in curr_clones.index]\n",
    "# curr_clones = curr_clones.loc[df.index]\n",
    "# curr_clones\n",
    "\n",
    "# f = plt.figure()\n",
    "# sns.countplot(curr_clones[\"den_clust\"])\n",
    "\n",
    "# curr_clones[\"den_clust\"] = curr_clones[\"Donor\"].astype(str) +  curr_clones[\"den_clust\"]"
   ]
  },
  {
   "cell_type": "code",
   "execution_count": null,
   "id": "fc4f4790",
   "metadata": {},
   "outputs": [],
   "source": []
  },
  {
   "cell_type": "code",
   "execution_count": null,
   "id": "3f0074f7",
   "metadata": {},
   "outputs": [],
   "source": []
  }
 ],
 "metadata": {
  "celltoolbar": "Tags",
  "kernelspec": {
   "display_name": "Python 3 (ipykernel)",
   "language": "python",
   "name": "python3"
  },
  "language_info": {
   "codemirror_mode": {
    "name": "ipython",
    "version": 3
   },
   "file_extension": ".py",
   "mimetype": "text/x-python",
   "name": "python",
   "nbconvert_exporter": "python",
   "pygments_lexer": "ipython3",
   "version": "3.7.12"
  }
 },
 "nbformat": 4,
 "nbformat_minor": 5
}
