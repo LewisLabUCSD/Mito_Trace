{
 "cells": [
  {
   "cell_type": "code",
   "execution_count": 1,
   "id": "8f3eabb2",
   "metadata": {},
   "outputs": [],
   "source": [
    "import pandas as pd\n",
    "from os.path import join, isdir\n",
    "\n",
    "import matplotlib.pyplot as plt\n",
    "import numpy as np\n",
    "import seaborn as sns\n",
    "from icecream import ic\n",
    "from src.utils import variant_utils as vu\n",
    "from glob import glob\n",
    "from itertools import product\n",
    "from collections import defaultdict\n",
    "from tqdm.notebook import tqdm\n",
    "import pickle"
   ]
  },
  {
   "cell_type": "code",
   "execution_count": 2,
   "id": "e27fb5e4",
   "metadata": {
    "tags": [
     "parameters"
    ]
   },
   "outputs": [],
   "source": [
    "indir = \"/data/Mito_Trace/output/pipeline/v02/CHIP_b1/MTBlacklist_A2/data/merged/MT/cellr_True/numread_200/filters/minC10_minR50_topN0_hetT0.001_hetC10_hetCount5_bq20/mgatk/vireoIn/multiplex/clones_simpleUnion/mt_clones_thresh\"\n",
    "outdir = \"/data/Mito_Trace/output/pipeline/v02/CHIP_b1/MTBlacklist_A2/data/merged/MT/cellr_True/numread_200/filters/minC10_minR50_topN0_hetT0.001_hetC10_hetCount5_bq20/mgatk/vireoIn/multiplex/clones_simpleUnion/mt_clones_thresh/best_params/\"\n",
    "N_DONORS=2\n",
    "\n",
    "## Parameters:\n",
    "# af thresholds\n",
    "# coverage threshold\n",
    "# other_af thresholds\n",
    "# number of cells / fraction cells\n",
    "# number of other cells / fraction other cells\n",
    "af_t = 0.1\n",
    "oth_af_t = 0.1\n",
    "cov_t = 10\n",
    "oth_cov_t = 10\n",
    "ncells = 10\n",
    "oth_ncells = 0.25 \n",
    "mean_pos_cov = 0\n",
    "\n",
    "\n"
   ]
  },
  {
   "cell_type": "code",
   "execution_count": 3,
   "id": "fd0894ea",
   "metadata": {},
   "outputs": [],
   "source": [
    "cells_dir=join(indir, \"cells\")"
   ]
  },
  {
   "cell_type": "code",
   "execution_count": 4,
   "id": "858166a8",
   "metadata": {},
   "outputs": [],
   "source": [
    "def fill_mt_bin(curr_pos, curr_cells):\n",
    "    print(curr_pos.name)\n",
    "    curr_pos.loc[curr_cells[curr_pos.name][\"other_cells\"]] = 0\n",
    "    curr_pos.loc[curr_cells[curr_pos.name][\"clone_cells\"]] = 1\n",
    "    return curr_pos"
   ]
  },
  {
   "cell_type": "code",
   "execution_count": 5,
   "id": "7f76f462",
   "metadata": {
    "scrolled": true
   },
   "outputs": [
    {
     "name": "stdout",
     "output_type": "stream",
     "text": [
      "10463C\n",
      "10559G\n",
      "11251G\n",
      "11453A\n",
      "11719A\n",
      "11812G\n",
      "13368A\n",
      "14233G\n",
      "14674C\n",
      "14905A\n",
      "150T\n",
      "152C\n",
      "15452A\n",
      "15607G\n",
      "15928A\n",
      "16129A\n",
      "16294T\n",
      "16296T\n",
      "16304C\n",
      "16519C\n",
      "1888A\n",
      "1949A\n",
      "2623G\n",
      "3109C\n",
      "3244A\n",
      "4117C\n",
      "4216C\n",
      "4917G\n",
      "5147A\n",
      "5580C\n",
      "5581G\n",
      "709A\n",
      "8697A\n",
      "8743A\n",
      "930A\n",
      "9899C\n",
      "10397G\n",
      "10589A\n",
      "11761T\n",
      "13188T\n",
      "146C\n",
      "15297C\n",
      "15497A\n",
      "16129A\n",
      "16355T\n",
      "16362C\n",
      "1949A\n",
      "196C\n",
      "204C\n",
      "2442C\n",
      "2623G\n",
      "3109C\n",
      "3244A\n",
      "3847C\n",
      "5442C\n",
      "5581G\n",
      "58C\n",
      "64T\n",
      "7598A\n",
      "827G\n",
      "8292A\n",
      "8461T\n",
      "9899C\n"
     ]
    }
   ],
   "source": [
    "bin_d = {}\n",
    "for d in range(N_DONORS): \n",
    "    curr_f = join(cells_dir, f\"don.{d}_af.{af_t}_othaf.{oth_af_t}_cov.{cov_t}_othcov.{oth_cov_t}.p\")\n",
    "    curr_cells = pickle.load(open(curr_f,'rb'))\n",
    "    params_results = pd.read_csv(join(indir, f\"donor_{d}_thresh_results.tsv\"), sep=\"\\t\")    \n",
    "\n",
    "\n",
    "    curr_p = params_results.loc[(params_results[\"af\"]==af_t) &\n",
    "                       (params_results[\"oth_af\"]==oth_af_t) &\n",
    "                       (params_results[\"cov\"]==cov_t) &\n",
    "                       (params_results[\"oth_cov\"]==oth_cov_t) &\n",
    "                       (params_results[\"ncells\"]==ncells) &\n",
    "                       (params_results[\"oth_ncells\"]==oth_ncells) &\n",
    "                       (params_results[\"mean_cov\"]==mean_pos_cov)]\n",
    "    assert(len(curr_p)==1)\n",
    "    \n",
    "    ## Construct a binary cell-by-variant matrix for the kept variants. \n",
    "    ## Can add N/A if not in oth cells\n",
    "    curr_vars = curr_p.iloc[0][\"Variants\"].split(\";\")\n",
    "\n",
    "    all_cells = set()\n",
    "    for x in curr_cells:\n",
    "        all_cells = all_cells.union(set(curr_cells[x][\"clone_cells\"])) \n",
    "        all_cells = all_cells.union(set(curr_cells[x][\"other_cells\"])) \n",
    "\n",
    "    mt_bin = pd.DataFrame(index = all_cells, columns=curr_vars)\n",
    "    bin_d[d] = mt_bin.apply(fill_mt_bin, curr_cells=curr_cells,axis=0).fillna(0)\n"
   ]
  },
  {
   "cell_type": "code",
   "execution_count": 6,
   "id": "73d52db8",
   "metadata": {
    "scrolled": true
   },
   "outputs": [
    {
     "name": "stdout",
     "output_type": "stream",
     "text": [
      "0\n",
      "(9020, 36)\n",
      "(6202, 36)\n",
      "1\n",
      "(8274, 27)\n",
      "(6371, 27)\n"
     ]
    }
   ],
   "source": [
    "for d in bin_d:\n",
    "    print(d)\n",
    "    print(bin_d[d].shape)\n",
    "    bin_d[d] = bin_d[d].loc[~((bin_d[d])==0).all(axis=1),~((bin_d[d])==0).all(axis=0)]\n",
    "    print(bin_d[d].shape)\n",
    "    \n",
    "\n",
    "    bin_d[d].to_csv(join(outdir, f\"donor_{d}_binary.csv\"))\n",
    "\n",
    "bin_comb = pd.concat(list(bin_d.values()),axis=0).fillna(0).astype(int)\n",
    "bin_comb.to_csv(join(outdir, \"combined_binary.csv\"))"
   ]
  },
  {
   "cell_type": "code",
   "execution_count": 9,
   "id": "9fb2a5bc",
   "metadata": {},
   "outputs": [],
   "source": [
    "curr_p.to_csv(join(outdir, \"best_params.csv\"))\n"
   ]
  }
 ],
 "metadata": {
  "celltoolbar": "Tags",
  "kernelspec": {
   "display_name": "Python 3 (ipykernel)",
   "language": "python",
   "name": "python3"
  },
  "language_info": {
   "codemirror_mode": {
    "name": "ipython",
    "version": 3
   },
   "file_extension": ".py",
   "mimetype": "text/x-python",
   "name": "python",
   "nbconvert_exporter": "python",
   "pygments_lexer": "ipython3",
   "version": "3.7.12"
  }
 },
 "nbformat": 4,
 "nbformat_minor": 5
}
