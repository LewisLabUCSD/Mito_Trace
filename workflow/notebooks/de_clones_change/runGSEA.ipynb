{
 "cells": [
  {
   "cell_type": "code",
   "execution_count": 1,
   "id": "41fdb08b",
   "metadata": {
    "tags": [
     "parameters"
    ]
   },
   "outputs": [],
   "source": [
    "DE.out.path = \"/data/Mito_Trace/output/pipeline/TcellDupi_may17_2021/MTblacklist/data/merged/MT/cellr_True/numread_200/filters/minC10_minR50_topN0_hetT0.001_hetC10_hetCount5_bq20/mgatk/vireoIn/clones/variants_init/knn/kparam_3/concat/gff_hg38_1_2/annotation_clones/de_clone_btwncond_RNA/minPct0.01_logfc0.1/btwnConds_inClone_sepDonrs/\"\n",
    "export.path = \"/data/Mito_Trace/output/pipeline/TcellDupi_may17_2021/MTblacklist/data/merged/MT/cellr_True/numread_200/filters/minC10_minR50_topN0_hetT0.001_hetC10_hetCount5_bq20/mgatk/vireoIn/clones/variants_init/knn/kparam_3/concat/gff_hg38_1_2/annotation_clones/de_clone_btwncond_RNA/minPct0.01_logfc0.1/GSEA_pctthresh.0.1_pthresh.0.1_pref.FALSE_stat.log2FoldChange_padj.BH/\"\n",
    "gsea_dir = \"/mnt/md0/isshamie/Projects/Mito_Trace/software/Bioinformatics_Tools/\"\n",
    "\n",
    "pthresh = 0.1 \n",
    "gsea_pthresh = 0.1 \n",
    "prefilter = FALSE \n",
    "stat_col = \"log2FoldChange\"\n",
    "padjmethod = \"BH\"\n",
    "\n",
    "pct_thresh = 0.1\n",
    "\n",
    "pattern = \"clone_.*counts.*\"\n",
    "\n",
    "#is_dir = TRUE"
   ]
  },
  {
   "cell_type": "code",
   "execution_count": 2,
   "id": "31043df1",
   "metadata": {},
   "outputs": [],
   "source": [
    "if ((prefilter==\"TRUE\") | (prefilter==TRUE)){\n",
    "    prefilter=TRUE\n",
    "}else{\n",
    "    prefilter=FALSE\n",
    "}"
   ]
  },
  {
   "cell_type": "code",
   "execution_count": 2,
   "id": "9d3f94d5",
   "metadata": {},
   "outputs": [],
   "source": [
    "# if ((is_dir==\"TRUE\") | (is_dir==TRUE)){\n",
    "#     is_dir=TRUE\n",
    "# }else{\n",
    "#     is_dir=FALSE\n",
    "# }\n",
    "# print(is_dir)"
   ]
  },
  {
   "cell_type": "code",
   "execution_count": 7,
   "id": "7a683f54",
   "metadata": {
    "scrolled": true
   },
   "outputs": [
    {
     "name": "stderr",
     "output_type": "stream",
     "text": [
      "Loading required package: clusterProfiler\n",
      "\n",
      "\n",
      "\n",
      "clusterProfiler v4.2.2  For help: https://yulab-smu.top/biomedical-knowledge-mining-book/\n",
      "\n",
      "If you use clusterProfiler in published research, please cite:\n",
      "T Wu, E Hu, S Xu, M Chen, P Guo, Z Dai, T Feng, L Zhou, W Tang, L Zhan, X Fu, S Liu, X Bo, and G Yu. clusterProfiler 4.0: A universal enrichment tool for interpreting omics data. The Innovation. 2021, 2(3):100141\n",
      "\n",
      "\n",
      "Attaching package: ‘clusterProfiler’\n",
      "\n",
      "\n",
      "The following object is masked from ‘package:stats’:\n",
      "\n",
      "    filter\n",
      "\n",
      "\n"
     ]
    },
    {
     "name": "stdout",
     "output_type": "stream",
     "text": [
      "[1] \"package already installed:clusterProfiler\"\n",
      "[1] \"package already installed:clusterProfiler\"\n"
     ]
    },
    {
     "name": "stderr",
     "output_type": "stream",
     "text": [
      "Loading required package: GSEABase\n",
      "\n",
      "Loading required package: BiocGenerics\n",
      "\n",
      "\n",
      "Attaching package: ‘BiocGenerics’\n",
      "\n",
      "\n",
      "The following objects are masked from ‘package:stats’:\n",
      "\n",
      "    IQR, mad, sd, var, xtabs\n",
      "\n",
      "\n",
      "The following objects are masked from ‘package:base’:\n",
      "\n",
      "    anyDuplicated, append, as.data.frame, basename, cbind, colnames,\n",
      "    dirname, do.call, duplicated, eval, evalq, Filter, Find, get, grep,\n",
      "    grepl, intersect, is.unsorted, lapply, Map, mapply, match, mget,\n",
      "    order, paste, pmax, pmax.int, pmin, pmin.int, Position, rank,\n",
      "    rbind, Reduce, rownames, sapply, setdiff, sort, table, tapply,\n",
      "    union, unique, unsplit, which.max, which.min\n",
      "\n",
      "\n",
      "Loading required package: Biobase\n",
      "\n",
      "Welcome to Bioconductor\n",
      "\n",
      "    Vignettes contain introductory material; view with\n",
      "    'browseVignettes()'. To cite Bioconductor, see\n",
      "    'citation(\"Biobase\")', and for packages 'citation(\"pkgname\")'.\n",
      "\n",
      "\n",
      "Loading required package: annotate\n",
      "\n",
      "Loading required package: AnnotationDbi\n",
      "\n",
      "Loading required package: stats4\n",
      "\n",
      "Loading required package: IRanges\n",
      "\n",
      "Loading required package: S4Vectors\n",
      "\n",
      "\n",
      "Attaching package: ‘S4Vectors’\n",
      "\n",
      "\n",
      "The following object is masked from ‘package:clusterProfiler’:\n",
      "\n",
      "    rename\n",
      "\n",
      "\n",
      "The following objects are masked from ‘package:base’:\n",
      "\n",
      "    expand.grid, I, unname\n",
      "\n",
      "\n",
      "\n",
      "Attaching package: ‘IRanges’\n",
      "\n",
      "\n",
      "The following object is masked from ‘package:clusterProfiler’:\n",
      "\n",
      "    slice\n",
      "\n",
      "\n",
      "\n",
      "Attaching package: ‘AnnotationDbi’\n",
      "\n",
      "\n",
      "The following object is masked from ‘package:clusterProfiler’:\n",
      "\n",
      "    select\n",
      "\n",
      "\n",
      "Loading required package: XML\n",
      "\n",
      "Loading required package: graph\n",
      "\n",
      "\n",
      "Attaching package: ‘graph’\n",
      "\n",
      "\n",
      "The following object is masked from ‘package:XML’:\n",
      "\n",
      "    addNode\n",
      "\n",
      "\n"
     ]
    },
    {
     "name": "stdout",
     "output_type": "stream",
     "text": [
      "[1] \"package already installed:GSEABase\"\n",
      "[1] \"package already installed:GSEABase\"\n"
     ]
    },
    {
     "name": "stderr",
     "output_type": "stream",
     "text": [
      "Loading required package: biomaRt\n",
      "\n"
     ]
    },
    {
     "name": "stdout",
     "output_type": "stream",
     "text": [
      "[1] \"package already installed:biomaRt\"\n",
      "[1] \"package already installed:biomaRt\"\n"
     ]
    },
    {
     "name": "stderr",
     "output_type": "stream",
     "text": [
      "Loading required package: org.Hs.eg.db\n",
      "\n",
      "\n",
      "\n"
     ]
    },
    {
     "name": "stdout",
     "output_type": "stream",
     "text": [
      "[1] \"package already installed:org.Hs.eg.db\"\n",
      "[1] \"package already installed:org.Hs.eg.db\"\n"
     ]
    },
    {
     "name": "stderr",
     "output_type": "stream",
     "text": [
      "Loading required package: DOSE\n",
      "\n",
      "DOSE v3.20.1  For help: https://yulab-smu.top/biomedical-knowledge-mining-book/\n",
      "\n",
      "If you use DOSE in published research, please cite:\n",
      "Guangchuang Yu, Li-Gen Wang, Guang-Rong Yan, Qing-Yu He. DOSE: an R/Bioconductor package for Disease Ontology Semantic and Enrichment analysis. Bioinformatics 2015, 31(4):608-609\n",
      "\n",
      "\n"
     ]
    },
    {
     "name": "stdout",
     "output_type": "stream",
     "text": [
      "[1] \"package already installed:DOSE\"\n",
      "[1] \"package already installed:DOSE\"\n"
     ]
    },
    {
     "name": "stderr",
     "output_type": "stream",
     "text": [
      "Loading required package: gdata\n",
      "\n",
      "gdata: read.xls support for 'XLS' (Excel 97-2004) files ENABLED.\n",
      "\n",
      "\n",
      "\n",
      "gdata: Unable to load perl libaries needed by read.xls()\n",
      "gdata: to support 'XLSX' (Excel 2007+) files.\n",
      "\n",
      "\n",
      "\n",
      "gdata: Run the function 'installXLSXsupport()'\n",
      "gdata: to automatically download and install the perl\n",
      "gdata: libaries needed to support Excel XLS and XLSX formats.\n",
      "\n",
      "\n",
      "Attaching package: ‘gdata’\n",
      "\n",
      "\n",
      "The following objects are masked from ‘package:IRanges’:\n",
      "\n",
      "    startsWith, trim\n",
      "\n",
      "\n",
      "The following objects are masked from ‘package:S4Vectors’:\n",
      "\n",
      "    first, first<-\n",
      "\n",
      "\n",
      "The following object is masked from ‘package:stats4’:\n",
      "\n",
      "    nobs\n",
      "\n",
      "\n",
      "The following object is masked from ‘package:Biobase’:\n",
      "\n",
      "    combine\n",
      "\n",
      "\n",
      "The following object is masked from ‘package:BiocGenerics’:\n",
      "\n",
      "    combine\n",
      "\n",
      "\n",
      "The following object is masked from ‘package:stats’:\n",
      "\n",
      "    nobs\n",
      "\n",
      "\n",
      "The following object is masked from ‘package:utils’:\n",
      "\n",
      "    object.size\n",
      "\n",
      "\n",
      "The following object is masked from ‘package:base’:\n",
      "\n",
      "    startsWith\n",
      "\n",
      "\n",
      "Loading required package: data.table\n",
      "\n",
      "\n",
      "Attaching package: ‘data.table’\n",
      "\n",
      "\n",
      "The following objects are masked from ‘package:gdata’:\n",
      "\n",
      "    first, last\n",
      "\n",
      "\n",
      "The following object is masked from ‘package:IRanges’:\n",
      "\n",
      "    shift\n",
      "\n",
      "\n",
      "The following objects are masked from ‘package:S4Vectors’:\n",
      "\n",
      "    first, second\n",
      "\n",
      "\n",
      "Loading required package: openxlsx\n",
      "\n",
      "Loading required package: dplyr\n",
      "\n",
      "\n",
      "Attaching package: ‘dplyr’\n",
      "\n",
      "\n",
      "The following objects are masked from ‘package:data.table’:\n",
      "\n",
      "    between, first, last\n",
      "\n",
      "\n",
      "The following objects are masked from ‘package:gdata’:\n",
      "\n",
      "    combine, first, last\n",
      "\n",
      "\n",
      "The following object is masked from ‘package:biomaRt’:\n",
      "\n",
      "    select\n",
      "\n",
      "\n",
      "The following objects are masked from ‘package:GSEABase’:\n",
      "\n",
      "    intersect, setdiff, union\n",
      "\n",
      "\n",
      "The following object is masked from ‘package:graph’:\n",
      "\n",
      "    union\n",
      "\n",
      "\n",
      "The following object is masked from ‘package:AnnotationDbi’:\n",
      "\n",
      "    select\n",
      "\n",
      "\n",
      "The following objects are masked from ‘package:IRanges’:\n",
      "\n",
      "    collapse, desc, intersect, setdiff, slice, union\n",
      "\n",
      "\n",
      "The following objects are masked from ‘package:S4Vectors’:\n",
      "\n",
      "    first, intersect, rename, setdiff, setequal, union\n",
      "\n",
      "\n",
      "The following object is masked from ‘package:Biobase’:\n",
      "\n",
      "    combine\n",
      "\n",
      "\n",
      "The following objects are masked from ‘package:BiocGenerics’:\n",
      "\n",
      "    combine, intersect, setdiff, union\n",
      "\n",
      "\n",
      "The following objects are masked from ‘package:stats’:\n",
      "\n",
      "    filter, lag\n",
      "\n",
      "\n",
      "The following objects are masked from ‘package:base’:\n",
      "\n",
      "    intersect, setdiff, setequal, union\n",
      "\n",
      "\n",
      "\n",
      "Attaching package: ‘stringr’\n",
      "\n",
      "\n",
      "The following object is masked from ‘package:graph’:\n",
      "\n",
      "    boundary\n",
      "\n",
      "\n"
     ]
    }
   ],
   "source": [
    "source(paste0(gsea_dir,'R/Gsea.R'))"
   ]
  },
  {
   "cell_type": "code",
   "execution_count": 5,
   "id": "0339478c",
   "metadata": {},
   "outputs": [],
   "source": [
    "dir.create(export.path)\n",
    "export.path.prep <- gsub(\"//\", \"/\", file.path(export.path, \"prep\"))\n",
    "dir.create(export.path.prep)"
   ]
  },
  {
   "cell_type": "code",
   "execution_count": 8,
   "id": "895b2b55",
   "metadata": {},
   "outputs": [],
   "source": [
    "cols.prior <- c(\"Gene\",\"baseMean\",\"log2FoldChange\",\"lfcSE\",\"stat\",\"pvalue\",\"padj\")\n",
    "cols.needed <- c(\"Gene\",\"log2FoldChange\")\n",
    "cols.curr <- c(\"X\",\"p_val\",\"avg_log2FC\",\"pct.1\",\"pct.2\",\"p_val_adj_BH\") #first col is empty in csv"
   ]
  },
  {
   "cell_type": "markdown",
   "id": "9270a190",
   "metadata": {},
   "source": [
    "## Prep files"
   ]
  },
  {
   "cell_type": "code",
   "execution_count": null,
   "id": "69d5fef9",
   "metadata": {},
   "outputs": [],
   "source": [
    "files <- list.files(path = DE.out.path,pattern=\"*_DE.csv\", full.names=TRUE)\n",
    "for (f in files){\n",
    "    curr <- read.csv(f)\n",
    "    if (!(nrow(curr)==0)){\n",
    "        colnames(curr) <- c(\"Gene\",\"pvalue\",\"log2FoldChange\",\"pct.1\",\"pct.2\",\"padj_bonf\", \"padj\")\n",
    "        curr$ensg <- mapIds(org.Hs.eg.db,\n",
    "                    keys=curr$Gene, \n",
    "                    column=\"ENSEMBL\",\n",
    "                    keytype=\"SYMBOL\",\n",
    "                    multiVals=\"first\")\n",
    "        write.table(curr, file.path(export.path.prep, paste0(strsplit(basename(f), \".csv\")[[1]], \".tsv\")),quote = FALSE,\n",
    "                    row.names=FALSE, sep='\\t')\n",
    "    }\n",
    "\n",
    "}"
   ]
  },
  {
   "cell_type": "code",
   "execution_count": 9,
   "id": "541f8ea4",
   "metadata": {
    "scrolled": true
   },
   "outputs": [
    {
     "name": "stdout",
     "output_type": "stream",
     "text": [
      "[1] \"/data/Mito_Trace/output/pipeline/TcellDupi_may17_2021/MTblacklist/data/merged/MT/cellr_True/numread_200/filters/minC10_minR50_topN0_hetT0.001_hetC10_hetCount5_bq20/mgatk/vireoIn/clones/variants_init/knn/kparam_3/concat/gff_hg38_1_2/annotation_clones/de_clone_btwncond_RNA/minPct0.01_logfc0.1/btwnConds_inClone_sepDonrs//1_clone_0_0counts_pre172counts_post283/0_0_DE.csv\"\n"
     ]
    },
    {
     "name": "stderr",
     "output_type": "stream",
     "text": [
      "'select()' returned 1:many mapping between keys and columns\n",
      "\n"
     ]
    },
    {
     "name": "stdout",
     "output_type": "stream",
     "text": [
      "[1] \"/data/Mito_Trace/output/pipeline/TcellDupi_may17_2021/MTblacklist/data/merged/MT/cellr_True/numread_200/filters/minC10_minR50_topN0_hetT0.001_hetC10_hetCount5_bq20/mgatk/vireoIn/clones/variants_init/knn/kparam_3/concat/gff_hg38_1_2/annotation_clones/de_clone_btwncond_RNA/minPct0.01_logfc0.1/btwnConds_inClone_sepDonrs//10_clone_0_23counts_pre74counts_post67/0_23_DE.csv\"\n"
     ]
    },
    {
     "name": "stderr",
     "output_type": "stream",
     "text": [
      "'select()' returned 1:many mapping between keys and columns\n",
      "\n"
     ]
    },
    {
     "name": "stdout",
     "output_type": "stream",
     "text": [
      "[1] \"/data/Mito_Trace/output/pipeline/TcellDupi_may17_2021/MTblacklist/data/merged/MT/cellr_True/numread_200/filters/minC10_minR50_topN0_hetT0.001_hetC10_hetCount5_bq20/mgatk/vireoIn/clones/variants_init/knn/kparam_3/concat/gff_hg38_1_2/annotation_clones/de_clone_btwncond_RNA/minPct0.01_logfc0.1/btwnConds_inClone_sepDonrs//11_clone_0_29counts_pre59counts_post56/0_29_DE.csv\"\n"
     ]
    },
    {
     "name": "stderr",
     "output_type": "stream",
     "text": [
      "'select()' returned 1:many mapping between keys and columns\n",
      "\n"
     ]
    },
    {
     "name": "stdout",
     "output_type": "stream",
     "text": [
      "[1] \"/data/Mito_Trace/output/pipeline/TcellDupi_may17_2021/MTblacklist/data/merged/MT/cellr_True/numread_200/filters/minC10_minR50_topN0_hetT0.001_hetC10_hetCount5_bq20/mgatk/vireoIn/clones/variants_init/knn/kparam_3/concat/gff_hg38_1_2/annotation_clones/de_clone_btwncond_RNA/minPct0.01_logfc0.1/btwnConds_inClone_sepDonrs//12_clone_0_3counts_pre117counts_post135/0_3_DE.csv\"\n"
     ]
    },
    {
     "name": "stderr",
     "output_type": "stream",
     "text": [
      "'select()' returned 1:many mapping between keys and columns\n",
      "\n"
     ]
    },
    {
     "name": "stdout",
     "output_type": "stream",
     "text": [
      "[1] \"/data/Mito_Trace/output/pipeline/TcellDupi_may17_2021/MTblacklist/data/merged/MT/cellr_True/numread_200/filters/minC10_minR50_topN0_hetT0.001_hetC10_hetCount5_bq20/mgatk/vireoIn/clones/variants_init/knn/kparam_3/concat/gff_hg38_1_2/annotation_clones/de_clone_btwncond_RNA/minPct0.01_logfc0.1/btwnConds_inClone_sepDonrs//13_clone_0_32counts_pre58counts_post52/0_32_DE.csv\"\n"
     ]
    },
    {
     "name": "stderr",
     "output_type": "stream",
     "text": [
      "'select()' returned 1:many mapping between keys and columns\n",
      "\n"
     ]
    },
    {
     "name": "stdout",
     "output_type": "stream",
     "text": [
      "[1] \"/data/Mito_Trace/output/pipeline/TcellDupi_may17_2021/MTblacklist/data/merged/MT/cellr_True/numread_200/filters/minC10_minR50_topN0_hetT0.001_hetC10_hetCount5_bq20/mgatk/vireoIn/clones/variants_init/knn/kparam_3/concat/gff_hg38_1_2/annotation_clones/de_clone_btwncond_RNA/minPct0.01_logfc0.1/btwnConds_inClone_sepDonrs//14_clone_0_4counts_pre65counts_post174/0_4_DE.csv\"\n"
     ]
    },
    {
     "name": "stderr",
     "output_type": "stream",
     "text": [
      "'select()' returned 1:many mapping between keys and columns\n",
      "\n"
     ]
    },
    {
     "name": "stdout",
     "output_type": "stream",
     "text": [
      "[1] \"/data/Mito_Trace/output/pipeline/TcellDupi_may17_2021/MTblacklist/data/merged/MT/cellr_True/numread_200/filters/minC10_minR50_topN0_hetT0.001_hetC10_hetCount5_bq20/mgatk/vireoIn/clones/variants_init/knn/kparam_3/concat/gff_hg38_1_2/annotation_clones/de_clone_btwncond_RNA/minPct0.01_logfc0.1/btwnConds_inClone_sepDonrs//15_clone_0_5counts_pre172counts_post62/0_5_DE.csv\"\n"
     ]
    },
    {
     "name": "stderr",
     "output_type": "stream",
     "text": [
      "'select()' returned 1:many mapping between keys and columns\n",
      "\n"
     ]
    },
    {
     "name": "stdout",
     "output_type": "stream",
     "text": [
      "[1] \"/data/Mito_Trace/output/pipeline/TcellDupi_may17_2021/MTblacklist/data/merged/MT/cellr_True/numread_200/filters/minC10_minR50_topN0_hetT0.001_hetC10_hetCount5_bq20/mgatk/vireoIn/clones/variants_init/knn/kparam_3/concat/gff_hg38_1_2/annotation_clones/de_clone_btwncond_RNA/minPct0.01_logfc0.1/btwnConds_inClone_sepDonrs//16_clone_0_6counts_pre80counts_post135/0_6_DE.csv\"\n"
     ]
    },
    {
     "name": "stderr",
     "output_type": "stream",
     "text": [
      "'select()' returned 1:many mapping between keys and columns\n",
      "\n"
     ]
    },
    {
     "name": "stdout",
     "output_type": "stream",
     "text": [
      "[1] \"/data/Mito_Trace/output/pipeline/TcellDupi_may17_2021/MTblacklist/data/merged/MT/cellr_True/numread_200/filters/minC10_minR50_topN0_hetT0.001_hetC10_hetCount5_bq20/mgatk/vireoIn/clones/variants_init/knn/kparam_3/concat/gff_hg38_1_2/annotation_clones/de_clone_btwncond_RNA/minPct0.01_logfc0.1/btwnConds_inClone_sepDonrs//17_clone_0_7counts_pre87counts_post126/0_7_DE.csv\"\n"
     ]
    },
    {
     "name": "stderr",
     "output_type": "stream",
     "text": [
      "'select()' returned 1:many mapping between keys and columns\n",
      "\n"
     ]
    },
    {
     "name": "stdout",
     "output_type": "stream",
     "text": [
      "[1] \"/data/Mito_Trace/output/pipeline/TcellDupi_may17_2021/MTblacklist/data/merged/MT/cellr_True/numread_200/filters/minC10_minR50_topN0_hetT0.001_hetC10_hetCount5_bq20/mgatk/vireoIn/clones/variants_init/knn/kparam_3/concat/gff_hg38_1_2/annotation_clones/de_clone_btwncond_RNA/minPct0.01_logfc0.1/btwnConds_inClone_sepDonrs//18_clone_0_9counts_pre95counts_post101/0_9_DE.csv\"\n"
     ]
    },
    {
     "name": "stderr",
     "output_type": "stream",
     "text": [
      "'select()' returned 1:many mapping between keys and columns\n",
      "\n"
     ]
    },
    {
     "name": "stdout",
     "output_type": "stream",
     "text": [
      "[1] \"/data/Mito_Trace/output/pipeline/TcellDupi_may17_2021/MTblacklist/data/merged/MT/cellr_True/numread_200/filters/minC10_minR50_topN0_hetT0.001_hetC10_hetCount5_bq20/mgatk/vireoIn/clones/variants_init/knn/kparam_3/concat/gff_hg38_1_2/annotation_clones/de_clone_btwncond_RNA/minPct0.01_logfc0.1/btwnConds_inClone_sepDonrs//19_clone_1_0counts_pre218counts_post231/1_0_DE.csv\"\n"
     ]
    },
    {
     "name": "stderr",
     "output_type": "stream",
     "text": [
      "'select()' returned 1:many mapping between keys and columns\n",
      "\n"
     ]
    },
    {
     "name": "stdout",
     "output_type": "stream",
     "text": [
      "[1] \"/data/Mito_Trace/output/pipeline/TcellDupi_may17_2021/MTblacklist/data/merged/MT/cellr_True/numread_200/filters/minC10_minR50_topN0_hetT0.001_hetC10_hetCount5_bq20/mgatk/vireoIn/clones/variants_init/knn/kparam_3/concat/gff_hg38_1_2/annotation_clones/de_clone_btwncond_RNA/minPct0.01_logfc0.1/btwnConds_inClone_sepDonrs//2_clone_0_1counts_pre92counts_post207/0_1_DE.csv\"\n"
     ]
    },
    {
     "name": "stderr",
     "output_type": "stream",
     "text": [
      "'select()' returned 1:many mapping between keys and columns\n",
      "\n"
     ]
    },
    {
     "name": "stdout",
     "output_type": "stream",
     "text": [
      "[1] \"/data/Mito_Trace/output/pipeline/TcellDupi_may17_2021/MTblacklist/data/merged/MT/cellr_True/numread_200/filters/minC10_minR50_topN0_hetT0.001_hetC10_hetCount5_bq20/mgatk/vireoIn/clones/variants_init/knn/kparam_3/concat/gff_hg38_1_2/annotation_clones/de_clone_btwncond_RNA/minPct0.01_logfc0.1/btwnConds_inClone_sepDonrs//20_clone_1_1counts_pre177counts_post153/1_1_DE.csv\"\n"
     ]
    },
    {
     "name": "stderr",
     "output_type": "stream",
     "text": [
      "'select()' returned 1:many mapping between keys and columns\n",
      "\n"
     ]
    },
    {
     "name": "stdout",
     "output_type": "stream",
     "text": [
      "[1] \"/data/Mito_Trace/output/pipeline/TcellDupi_may17_2021/MTblacklist/data/merged/MT/cellr_True/numread_200/filters/minC10_minR50_topN0_hetT0.001_hetC10_hetCount5_bq20/mgatk/vireoIn/clones/variants_init/knn/kparam_3/concat/gff_hg38_1_2/annotation_clones/de_clone_btwncond_RNA/minPct0.01_logfc0.1/btwnConds_inClone_sepDonrs//21_clone_1_10counts_pre69counts_post179/1_10_DE.csv\"\n"
     ]
    },
    {
     "name": "stderr",
     "output_type": "stream",
     "text": [
      "'select()' returned 1:many mapping between keys and columns\n",
      "\n"
     ]
    },
    {
     "name": "stdout",
     "output_type": "stream",
     "text": [
      "[1] \"/data/Mito_Trace/output/pipeline/TcellDupi_may17_2021/MTblacklist/data/merged/MT/cellr_True/numread_200/filters/minC10_minR50_topN0_hetT0.001_hetC10_hetCount5_bq20/mgatk/vireoIn/clones/variants_init/knn/kparam_3/concat/gff_hg38_1_2/annotation_clones/de_clone_btwncond_RNA/minPct0.01_logfc0.1/btwnConds_inClone_sepDonrs//22_clone_1_11counts_pre59counts_post172/1_11_DE.csv\"\n"
     ]
    },
    {
     "name": "stderr",
     "output_type": "stream",
     "text": [
      "'select()' returned 1:many mapping between keys and columns\n",
      "\n"
     ]
    },
    {
     "name": "stdout",
     "output_type": "stream",
     "text": [
      "[1] \"/data/Mito_Trace/output/pipeline/TcellDupi_may17_2021/MTblacklist/data/merged/MT/cellr_True/numread_200/filters/minC10_minR50_topN0_hetT0.001_hetC10_hetCount5_bq20/mgatk/vireoIn/clones/variants_init/knn/kparam_3/concat/gff_hg38_1_2/annotation_clones/de_clone_btwncond_RNA/minPct0.01_logfc0.1/btwnConds_inClone_sepDonrs//23_clone_1_13counts_pre53counts_post159/1_13_DE.csv\"\n"
     ]
    },
    {
     "name": "stderr",
     "output_type": "stream",
     "text": [
      "'select()' returned 1:many mapping between keys and columns\n",
      "\n"
     ]
    },
    {
     "name": "stdout",
     "output_type": "stream",
     "text": [
      "[1] \"/data/Mito_Trace/output/pipeline/TcellDupi_may17_2021/MTblacklist/data/merged/MT/cellr_True/numread_200/filters/minC10_minR50_topN0_hetT0.001_hetC10_hetCount5_bq20/mgatk/vireoIn/clones/variants_init/knn/kparam_3/concat/gff_hg38_1_2/annotation_clones/de_clone_btwncond_RNA/minPct0.01_logfc0.1/btwnConds_inClone_sepDonrs//24_clone_1_14counts_pre53counts_post150/1_14_DE.csv\"\n"
     ]
    },
    {
     "name": "stderr",
     "output_type": "stream",
     "text": [
      "'select()' returned 1:many mapping between keys and columns\n",
      "\n"
     ]
    },
    {
     "name": "stdout",
     "output_type": "stream",
     "text": [
      "[1] \"/data/Mito_Trace/output/pipeline/TcellDupi_may17_2021/MTblacklist/data/merged/MT/cellr_True/numread_200/filters/minC10_minR50_topN0_hetT0.001_hetC10_hetCount5_bq20/mgatk/vireoIn/clones/variants_init/knn/kparam_3/concat/gff_hg38_1_2/annotation_clones/de_clone_btwncond_RNA/minPct0.01_logfc0.1/btwnConds_inClone_sepDonrs//25_clone_1_15counts_pre87counts_post117/1_15_DE.csv\"\n"
     ]
    },
    {
     "name": "stderr",
     "output_type": "stream",
     "text": [
      "'select()' returned 1:many mapping between keys and columns\n",
      "\n"
     ]
    },
    {
     "name": "stdout",
     "output_type": "stream",
     "text": [
      "[1] \"/data/Mito_Trace/output/pipeline/TcellDupi_may17_2021/MTblacklist/data/merged/MT/cellr_True/numread_200/filters/minC10_minR50_topN0_hetT0.001_hetC10_hetCount5_bq20/mgatk/vireoIn/clones/variants_init/knn/kparam_3/concat/gff_hg38_1_2/annotation_clones/de_clone_btwncond_RNA/minPct0.01_logfc0.1/btwnConds_inClone_sepDonrs//26_clone_1_16counts_pre61counts_post139/1_16_DE.csv\"\n"
     ]
    },
    {
     "name": "stderr",
     "output_type": "stream",
     "text": [
      "'select()' returned 1:many mapping between keys and columns\n",
      "\n"
     ]
    },
    {
     "name": "stdout",
     "output_type": "stream",
     "text": [
      "[1] \"/data/Mito_Trace/output/pipeline/TcellDupi_may17_2021/MTblacklist/data/merged/MT/cellr_True/numread_200/filters/minC10_minR50_topN0_hetT0.001_hetC10_hetCount5_bq20/mgatk/vireoIn/clones/variants_init/knn/kparam_3/concat/gff_hg38_1_2/annotation_clones/de_clone_btwncond_RNA/minPct0.01_logfc0.1/btwnConds_inClone_sepDonrs//27_clone_1_18counts_pre60counts_post122/1_18_DE.csv\"\n"
     ]
    },
    {
     "name": "stderr",
     "output_type": "stream",
     "text": [
      "'select()' returned 1:many mapping between keys and columns\n",
      "\n"
     ]
    },
    {
     "name": "stdout",
     "output_type": "stream",
     "text": [
      "[1] \"/data/Mito_Trace/output/pipeline/TcellDupi_may17_2021/MTblacklist/data/merged/MT/cellr_True/numread_200/filters/minC10_minR50_topN0_hetT0.001_hetC10_hetCount5_bq20/mgatk/vireoIn/clones/variants_init/knn/kparam_3/concat/gff_hg38_1_2/annotation_clones/de_clone_btwncond_RNA/minPct0.01_logfc0.1/btwnConds_inClone_sepDonrs//28_clone_1_19counts_pre51counts_post129/1_19_DE.csv\"\n"
     ]
    },
    {
     "name": "stderr",
     "output_type": "stream",
     "text": [
      "'select()' returned 1:many mapping between keys and columns\n",
      "\n"
     ]
    },
    {
     "name": "stdout",
     "output_type": "stream",
     "text": [
      "[1] \"/data/Mito_Trace/output/pipeline/TcellDupi_may17_2021/MTblacklist/data/merged/MT/cellr_True/numread_200/filters/minC10_minR50_topN0_hetT0.001_hetC10_hetCount5_bq20/mgatk/vireoIn/clones/variants_init/knn/kparam_3/concat/gff_hg38_1_2/annotation_clones/de_clone_btwncond_RNA/minPct0.01_logfc0.1/btwnConds_inClone_sepDonrs//29_clone_1_2counts_pre123counts_post181/1_2_DE.csv\"\n"
     ]
    },
    {
     "name": "stderr",
     "output_type": "stream",
     "text": [
      "'select()' returned 1:many mapping between keys and columns\n",
      "\n"
     ]
    },
    {
     "name": "stdout",
     "output_type": "stream",
     "text": [
      "[1] \"/data/Mito_Trace/output/pipeline/TcellDupi_may17_2021/MTblacklist/data/merged/MT/cellr_True/numread_200/filters/minC10_minR50_topN0_hetT0.001_hetC10_hetCount5_bq20/mgatk/vireoIn/clones/variants_init/knn/kparam_3/concat/gff_hg38_1_2/annotation_clones/de_clone_btwncond_RNA/minPct0.01_logfc0.1/btwnConds_inClone_sepDonrs//3_clone_0_10counts_pre86counts_post106/0_10_DE.csv\"\n"
     ]
    },
    {
     "name": "stderr",
     "output_type": "stream",
     "text": [
      "'select()' returned 1:many mapping between keys and columns\n",
      "\n"
     ]
    },
    {
     "name": "stdout",
     "output_type": "stream",
     "text": [
      "[1] \"/data/Mito_Trace/output/pipeline/TcellDupi_may17_2021/MTblacklist/data/merged/MT/cellr_True/numread_200/filters/minC10_minR50_topN0_hetT0.001_hetC10_hetCount5_bq20/mgatk/vireoIn/clones/variants_init/knn/kparam_3/concat/gff_hg38_1_2/annotation_clones/de_clone_btwncond_RNA/minPct0.01_logfc0.1/btwnConds_inClone_sepDonrs//30_clone_1_20counts_pre51counts_post122/1_20_DE.csv\"\n"
     ]
    },
    {
     "name": "stderr",
     "output_type": "stream",
     "text": [
      "'select()' returned 1:many mapping between keys and columns\n",
      "\n"
     ]
    },
    {
     "name": "stdout",
     "output_type": "stream",
     "text": [
      "[1] \"/data/Mito_Trace/output/pipeline/TcellDupi_may17_2021/MTblacklist/data/merged/MT/cellr_True/numread_200/filters/minC10_minR50_topN0_hetT0.001_hetC10_hetCount5_bq20/mgatk/vireoIn/clones/variants_init/knn/kparam_3/concat/gff_hg38_1_2/annotation_clones/de_clone_btwncond_RNA/minPct0.01_logfc0.1/btwnConds_inClone_sepDonrs//31_clone_1_22counts_pre59counts_post110/1_22_DE.csv\"\n"
     ]
    },
    {
     "name": "stderr",
     "output_type": "stream",
     "text": [
      "'select()' returned 1:many mapping between keys and columns\n",
      "\n"
     ]
    },
    {
     "name": "stdout",
     "output_type": "stream",
     "text": [
      "[1] \"/data/Mito_Trace/output/pipeline/TcellDupi_may17_2021/MTblacklist/data/merged/MT/cellr_True/numread_200/filters/minC10_minR50_topN0_hetT0.001_hetC10_hetCount5_bq20/mgatk/vireoIn/clones/variants_init/knn/kparam_3/concat/gff_hg38_1_2/annotation_clones/de_clone_btwncond_RNA/minPct0.01_logfc0.1/btwnConds_inClone_sepDonrs//32_clone_1_25counts_pre77counts_post75/1_25_DE.csv\"\n"
     ]
    },
    {
     "name": "stderr",
     "output_type": "stream",
     "text": [
      "'select()' returned 1:many mapping between keys and columns\n",
      "\n"
     ]
    },
    {
     "name": "stdout",
     "output_type": "stream",
     "text": [
      "[1] \"/data/Mito_Trace/output/pipeline/TcellDupi_may17_2021/MTblacklist/data/merged/MT/cellr_True/numread_200/filters/minC10_minR50_topN0_hetT0.001_hetC10_hetCount5_bq20/mgatk/vireoIn/clones/variants_init/knn/kparam_3/concat/gff_hg38_1_2/annotation_clones/de_clone_btwncond_RNA/minPct0.01_logfc0.1/btwnConds_inClone_sepDonrs//33_clone_1_26counts_pre65counts_post84/1_26_DE.csv\"\n"
     ]
    },
    {
     "name": "stderr",
     "output_type": "stream",
     "text": [
      "'select()' returned 1:many mapping between keys and columns\n",
      "\n"
     ]
    },
    {
     "name": "stdout",
     "output_type": "stream",
     "text": [
      "[1] \"/data/Mito_Trace/output/pipeline/TcellDupi_may17_2021/MTblacklist/data/merged/MT/cellr_True/numread_200/filters/minC10_minR50_topN0_hetT0.001_hetC10_hetCount5_bq20/mgatk/vireoIn/clones/variants_init/knn/kparam_3/concat/gff_hg38_1_2/annotation_clones/de_clone_btwncond_RNA/minPct0.01_logfc0.1/btwnConds_inClone_sepDonrs//34_clone_1_27counts_pre61counts_post88/1_27_DE.csv\"\n"
     ]
    },
    {
     "name": "stderr",
     "output_type": "stream",
     "text": [
      "'select()' returned 1:many mapping between keys and columns\n",
      "\n"
     ]
    },
    {
     "name": "stdout",
     "output_type": "stream",
     "text": [
      "[1] \"/data/Mito_Trace/output/pipeline/TcellDupi_may17_2021/MTblacklist/data/merged/MT/cellr_True/numread_200/filters/minC10_minR50_topN0_hetT0.001_hetC10_hetCount5_bq20/mgatk/vireoIn/clones/variants_init/knn/kparam_3/concat/gff_hg38_1_2/annotation_clones/de_clone_btwncond_RNA/minPct0.01_logfc0.1/btwnConds_inClone_sepDonrs//35_clone_1_29counts_pre80counts_post67/1_29_DE.csv\"\n"
     ]
    },
    {
     "name": "stderr",
     "output_type": "stream",
     "text": [
      "'select()' returned 1:many mapping between keys and columns\n",
      "\n"
     ]
    },
    {
     "name": "stdout",
     "output_type": "stream",
     "text": [
      "[1] \"/data/Mito_Trace/output/pipeline/TcellDupi_may17_2021/MTblacklist/data/merged/MT/cellr_True/numread_200/filters/minC10_minR50_topN0_hetT0.001_hetC10_hetCount5_bq20/mgatk/vireoIn/clones/variants_init/knn/kparam_3/concat/gff_hg38_1_2/annotation_clones/de_clone_btwncond_RNA/minPct0.01_logfc0.1/btwnConds_inClone_sepDonrs//36_clone_1_3counts_pre103counts_post190/1_3_DE.csv\"\n"
     ]
    },
    {
     "name": "stderr",
     "output_type": "stream",
     "text": [
      "'select()' returned 1:many mapping between keys and columns\n",
      "\n"
     ]
    },
    {
     "name": "stdout",
     "output_type": "stream",
     "text": [
      "[1] \"/data/Mito_Trace/output/pipeline/TcellDupi_may17_2021/MTblacklist/data/merged/MT/cellr_True/numread_200/filters/minC10_minR50_topN0_hetT0.001_hetC10_hetCount5_bq20/mgatk/vireoIn/clones/variants_init/knn/kparam_3/concat/gff_hg38_1_2/annotation_clones/de_clone_btwncond_RNA/minPct0.01_logfc0.1/btwnConds_inClone_sepDonrs//37_clone_1_35counts_pre51counts_post63/1_35_DE.csv\"\n"
     ]
    },
    {
     "name": "stderr",
     "output_type": "stream",
     "text": [
      "'select()' returned 1:many mapping between keys and columns\n",
      "\n"
     ]
    },
    {
     "name": "stdout",
     "output_type": "stream",
     "text": [
      "[1] \"/data/Mito_Trace/output/pipeline/TcellDupi_may17_2021/MTblacklist/data/merged/MT/cellr_True/numread_200/filters/minC10_minR50_topN0_hetT0.001_hetC10_hetCount5_bq20/mgatk/vireoIn/clones/variants_init/knn/kparam_3/concat/gff_hg38_1_2/annotation_clones/de_clone_btwncond_RNA/minPct0.01_logfc0.1/btwnConds_inClone_sepDonrs//38_clone_1_4counts_pre82counts_post210/1_4_DE.csv\"\n"
     ]
    },
    {
     "name": "stderr",
     "output_type": "stream",
     "text": [
      "'select()' returned 1:many mapping between keys and columns\n",
      "\n"
     ]
    },
    {
     "name": "stdout",
     "output_type": "stream",
     "text": [
      "[1] \"/data/Mito_Trace/output/pipeline/TcellDupi_may17_2021/MTblacklist/data/merged/MT/cellr_True/numread_200/filters/minC10_minR50_topN0_hetT0.001_hetC10_hetCount5_bq20/mgatk/vireoIn/clones/variants_init/knn/kparam_3/concat/gff_hg38_1_2/annotation_clones/de_clone_btwncond_RNA/minPct0.01_logfc0.1/btwnConds_inClone_sepDonrs//39_clone_1_5counts_pre73counts_post216/1_5_DE.csv\"\n"
     ]
    },
    {
     "name": "stderr",
     "output_type": "stream",
     "text": [
      "'select()' returned 1:many mapping between keys and columns\n",
      "\n"
     ]
    },
    {
     "name": "stdout",
     "output_type": "stream",
     "text": [
      "[1] \"/data/Mito_Trace/output/pipeline/TcellDupi_may17_2021/MTblacklist/data/merged/MT/cellr_True/numread_200/filters/minC10_minR50_topN0_hetT0.001_hetC10_hetCount5_bq20/mgatk/vireoIn/clones/variants_init/knn/kparam_3/concat/gff_hg38_1_2/annotation_clones/de_clone_btwncond_RNA/minPct0.01_logfc0.1/btwnConds_inClone_sepDonrs//4_clone_0_11counts_pre119counts_post69/0_11_DE.csv\"\n"
     ]
    },
    {
     "name": "stderr",
     "output_type": "stream",
     "text": [
      "'select()' returned 1:many mapping between keys and columns\n",
      "\n"
     ]
    },
    {
     "name": "stdout",
     "output_type": "stream",
     "text": [
      "[1] \"/data/Mito_Trace/output/pipeline/TcellDupi_may17_2021/MTblacklist/data/merged/MT/cellr_True/numread_200/filters/minC10_minR50_topN0_hetT0.001_hetC10_hetCount5_bq20/mgatk/vireoIn/clones/variants_init/knn/kparam_3/concat/gff_hg38_1_2/annotation_clones/de_clone_btwncond_RNA/minPct0.01_logfc0.1/btwnConds_inClone_sepDonrs//40_clone_1_6counts_pre93counts_post181/1_6_DE.csv\"\n"
     ]
    },
    {
     "name": "stderr",
     "output_type": "stream",
     "text": [
      "'select()' returned 1:many mapping between keys and columns\n",
      "\n"
     ]
    },
    {
     "name": "stdout",
     "output_type": "stream",
     "text": [
      "[1] \"/data/Mito_Trace/output/pipeline/TcellDupi_may17_2021/MTblacklist/data/merged/MT/cellr_True/numread_200/filters/minC10_minR50_topN0_hetT0.001_hetC10_hetCount5_bq20/mgatk/vireoIn/clones/variants_init/knn/kparam_3/concat/gff_hg38_1_2/annotation_clones/de_clone_btwncond_RNA/minPct0.01_logfc0.1/btwnConds_inClone_sepDonrs//41_clone_1_7counts_pre83counts_post179/1_7_DE.csv\"\n"
     ]
    },
    {
     "name": "stderr",
     "output_type": "stream",
     "text": [
      "'select()' returned 1:many mapping between keys and columns\n",
      "\n"
     ]
    },
    {
     "name": "stdout",
     "output_type": "stream",
     "text": [
      "[1] \"/data/Mito_Trace/output/pipeline/TcellDupi_may17_2021/MTblacklist/data/merged/MT/cellr_True/numread_200/filters/minC10_minR50_topN0_hetT0.001_hetC10_hetCount5_bq20/mgatk/vireoIn/clones/variants_init/knn/kparam_3/concat/gff_hg38_1_2/annotation_clones/de_clone_btwncond_RNA/minPct0.01_logfc0.1/btwnConds_inClone_sepDonrs//42_clone_1_8counts_pre52counts_post206/1_8_DE.csv\"\n"
     ]
    },
    {
     "name": "stderr",
     "output_type": "stream",
     "text": [
      "'select()' returned 1:many mapping between keys and columns\n",
      "\n"
     ]
    },
    {
     "name": "stdout",
     "output_type": "stream",
     "text": [
      "[1] \"/data/Mito_Trace/output/pipeline/TcellDupi_may17_2021/MTblacklist/data/merged/MT/cellr_True/numread_200/filters/minC10_minR50_topN0_hetT0.001_hetC10_hetCount5_bq20/mgatk/vireoIn/clones/variants_init/knn/kparam_3/concat/gff_hg38_1_2/annotation_clones/de_clone_btwncond_RNA/minPct0.01_logfc0.1/btwnConds_inClone_sepDonrs//43_clone_1_9counts_pre105counts_post148/1_9_DE.csv\"\n"
     ]
    },
    {
     "name": "stderr",
     "output_type": "stream",
     "text": [
      "'select()' returned 1:many mapping between keys and columns\n",
      "\n"
     ]
    },
    {
     "name": "stdout",
     "output_type": "stream",
     "text": [
      "[1] \"/data/Mito_Trace/output/pipeline/TcellDupi_may17_2021/MTblacklist/data/merged/MT/cellr_True/numread_200/filters/minC10_minR50_topN0_hetT0.001_hetC10_hetCount5_bq20/mgatk/vireoIn/clones/variants_init/knn/kparam_3/concat/gff_hg38_1_2/annotation_clones/de_clone_btwncond_RNA/minPct0.01_logfc0.1/btwnConds_inClone_sepDonrs//5_clone_0_12counts_pre125counts_post56/0_12_DE.csv\"\n"
     ]
    },
    {
     "name": "stderr",
     "output_type": "stream",
     "text": [
      "'select()' returned 1:many mapping between keys and columns\n",
      "\n"
     ]
    },
    {
     "name": "stdout",
     "output_type": "stream",
     "text": [
      "[1] \"/data/Mito_Trace/output/pipeline/TcellDupi_may17_2021/MTblacklist/data/merged/MT/cellr_True/numread_200/filters/minC10_minR50_topN0_hetT0.001_hetC10_hetCount5_bq20/mgatk/vireoIn/clones/variants_init/knn/kparam_3/concat/gff_hg38_1_2/annotation_clones/de_clone_btwncond_RNA/minPct0.01_logfc0.1/btwnConds_inClone_sepDonrs//6_clone_0_13counts_pre66counts_post113/0_13_DE.csv\"\n"
     ]
    },
    {
     "name": "stderr",
     "output_type": "stream",
     "text": [
      "'select()' returned 1:many mapping between keys and columns\n",
      "\n"
     ]
    },
    {
     "name": "stdout",
     "output_type": "stream",
     "text": [
      "[1] \"/data/Mito_Trace/output/pipeline/TcellDupi_may17_2021/MTblacklist/data/merged/MT/cellr_True/numread_200/filters/minC10_minR50_topN0_hetT0.001_hetC10_hetCount5_bq20/mgatk/vireoIn/clones/variants_init/knn/kparam_3/concat/gff_hg38_1_2/annotation_clones/de_clone_btwncond_RNA/minPct0.01_logfc0.1/btwnConds_inClone_sepDonrs//7_clone_0_15counts_pre93counts_post74/0_15_DE.csv\"\n"
     ]
    },
    {
     "name": "stderr",
     "output_type": "stream",
     "text": [
      "'select()' returned 1:many mapping between keys and columns\n",
      "\n"
     ]
    },
    {
     "name": "stdout",
     "output_type": "stream",
     "text": [
      "[1] \"/data/Mito_Trace/output/pipeline/TcellDupi_may17_2021/MTblacklist/data/merged/MT/cellr_True/numread_200/filters/minC10_minR50_topN0_hetT0.001_hetC10_hetCount5_bq20/mgatk/vireoIn/clones/variants_init/knn/kparam_3/concat/gff_hg38_1_2/annotation_clones/de_clone_btwncond_RNA/minPct0.01_logfc0.1/btwnConds_inClone_sepDonrs//8_clone_0_2counts_pre84counts_post180/0_2_DE.csv\"\n"
     ]
    },
    {
     "name": "stderr",
     "output_type": "stream",
     "text": [
      "'select()' returned 1:many mapping between keys and columns\n",
      "\n"
     ]
    },
    {
     "name": "stdout",
     "output_type": "stream",
     "text": [
      "[1] \"/data/Mito_Trace/output/pipeline/TcellDupi_may17_2021/MTblacklist/data/merged/MT/cellr_True/numread_200/filters/minC10_minR50_topN0_hetT0.001_hetC10_hetCount5_bq20/mgatk/vireoIn/clones/variants_init/knn/kparam_3/concat/gff_hg38_1_2/annotation_clones/de_clone_btwncond_RNA/minPct0.01_logfc0.1/btwnConds_inClone_sepDonrs//9_clone_0_20counts_pre65counts_post91/0_20_DE.csv\"\n"
     ]
    },
    {
     "name": "stderr",
     "output_type": "stream",
     "text": [
      "'select()' returned 1:many mapping between keys and columns\n",
      "\n"
     ]
    }
   ],
   "source": [
    "# #for f in list.files(DE.path, pattern=\"*.csv\"){\n",
    "# if is_dir{\n",
    "#     files <- list.files(path=DE.out.path,pattern = pattern, full.names = T, recursive = FALSE, include.dirs = TRUE)\n",
    "#     DE_dirs <- files[file.info(files)$isdir ]\n",
    "#     #DE_dirs\n",
    "\n",
    "#     for(d in DE_dirs){\n",
    "#         f <- list.files(path=d, pattern=\"*.csv\", full.names=T)\n",
    "#         if (length(f)>1){\n",
    "#             print(\"more than one file! check\")\n",
    "#             print(f)\n",
    "#         }\n",
    "#         f = f[[1]]\n",
    "#         print(f)\n",
    "#         curr <- read.csv(f)\n",
    "\n",
    "#         if (!(nrow(curr)==0)){\n",
    "#             colnames(curr) <- c(\"Gene\",\"pvalue\",\"log2FoldChange\",\"pct.1\",\"pct.2\",\"padj_bonf\", \"padj\")\n",
    "#             curr$ensg <- mapIds(org.Hs.eg.db,\n",
    "#                         keys=curr$Gene, \n",
    "#                         column=\"ENSEMBL\",\n",
    "#                         keytype=\"SYMBOL\",\n",
    "#                         multiVals=\"first\")\n",
    "#             write.table(curr, file.path(export.path.prep, paste0(strsplit(basename(f), \".csv\")[[1]], \".tsv\")),quote = FALSE,\n",
    "#                         row.names=FALSE, sep='\\t')\n",
    "#         }\n",
    "\n",
    "#     }\n",
    "# }else{\n",
    "#     files <- list.files(path = DE.out.path,pattern=\"*DE.csv\", full.names=TRUE)\n",
    "#     for (f in files){\n",
    "#         curr <- read.csv(f)\n",
    "#         if (!(nrow(curr)==0)){\n",
    "#             colnames(curr) <- c(\"Gene\",\"pvalue\",\"log2FoldChange\",\"pct.1\",\"pct.2\",\"padj_bonf\", \"padj\")\n",
    "#             curr$ensg <- mapIds(org.Hs.eg.db,\n",
    "#                         keys=curr$Gene, \n",
    "#                         column=\"ENSEMBL\",\n",
    "#                         keytype=\"SYMBOL\",\n",
    "#                         multiVals=\"first\")\n",
    "#             write.table(curr, file.path(export.path.prep, paste0(strsplit(basename(f), \".csv\")[[1]], \".tsv\")),quote = FALSE,\n",
    "#                         row.names=FALSE, sep='\\t')\n",
    "#         }\n",
    "\n",
    "#     }\n",
    "# }\n"
   ]
  },
  {
   "cell_type": "code",
   "execution_count": 10,
   "id": "06675344",
   "metadata": {
    "scrolled": true
   },
   "outputs": [
    {
     "data": {
      "text/html": [
       "'/data/Mito_Trace/output/pipeline/TcellDupi_may17_2021/MTblacklist/data/merged/MT/cellr_True/numread_200/filters/minC10_minR50_topN0_hetT0.001_hetC10_hetCount5_bq20/mgatk/vireoIn/clones/variants_init/knn/kparam_3/concat/gff_hg38_1_2/annotation_clones/de_clone_btwncond_RNA/minPct0.01_logfc0.1/GSEA_pctthresh.0.1_pthresh.0.1_pref.FALSE_stat.log2FoldChange_padj.BH/'"
      ],
      "text/latex": [
       "'/data/Mito\\_Trace/output/pipeline/TcellDupi\\_may17\\_2021/MTblacklist/data/merged/MT/cellr\\_True/numread\\_200/filters/minC10\\_minR50\\_topN0\\_hetT0.001\\_hetC10\\_hetCount5\\_bq20/mgatk/vireoIn/clones/variants\\_init/knn/kparam\\_3/concat/gff\\_hg38\\_1\\_2/annotation\\_clones/de\\_clone\\_btwncond\\_RNA/minPct0.01\\_logfc0.1/GSEA\\_pctthresh.0.1\\_pthresh.0.1\\_pref.FALSE\\_stat.log2FoldChange\\_padj.BH/'"
      ],
      "text/markdown": [
       "'/data/Mito_Trace/output/pipeline/TcellDupi_may17_2021/MTblacklist/data/merged/MT/cellr_True/numread_200/filters/minC10_minR50_topN0_hetT0.001_hetC10_hetCount5_bq20/mgatk/vireoIn/clones/variants_init/knn/kparam_3/concat/gff_hg38_1_2/annotation_clones/de_clone_btwncond_RNA/minPct0.01_logfc0.1/GSEA_pctthresh.0.1_pthresh.0.1_pref.FALSE_stat.log2FoldChange_padj.BH/'"
      ],
      "text/plain": [
       "[1] \"/data/Mito_Trace/output/pipeline/TcellDupi_may17_2021/MTblacklist/data/merged/MT/cellr_True/numread_200/filters/minC10_minR50_topN0_hetT0.001_hetC10_hetCount5_bq20/mgatk/vireoIn/clones/variants_init/knn/kparam_3/concat/gff_hg38_1_2/annotation_clones/de_clone_btwncond_RNA/minPct0.01_logfc0.1/GSEA_pctthresh.0.1_pthresh.0.1_pref.FALSE_stat.log2FoldChange_padj.BH/\""
      ]
     },
     "metadata": {},
     "output_type": "display_data"
    }
   ],
   "source": [
    "export.path"
   ]
  },
  {
   "cell_type": "code",
   "execution_count": 11,
   "id": "c641fe0f",
   "metadata": {
    "scrolled": true
   },
   "outputs": [
    {
     "name": "stdout",
     "output_type": "stream",
     "text": [
      "[1] \"Here we go .... :/data/Mito_Trace/output/pipeline/TcellDupi_may17_2021/MTblacklist/data/merged/MT/cellr_True/numread_200/filters/minC10_minR50_topN0_hetT0.001_hetC10_hetCount5_bq20/mgatk/vireoIn/clones/variants_init/knn/kparam_3/concat/gff_hg38_1_2/annotation_clones/de_clone_btwncond_RNA/minPct0.01_logfc0.1/GSEA_pctthresh.0.1_pthresh.0.1_pref.FALSE_stat.log2FoldChange_padj.BH/prep/0_0_DE.tsv\"\n",
      "[1] \"Myclass\"\n",
      "[1] 1376    7\n",
      "[1] 1255    7\n",
      "[1] \"pvalue\"         \"log2FoldChange\" \"pct.1\"          \"pct.2\"         \n",
      "[5] \"padj_bonf\"      \"padj\"           \"ensg\"          \n",
      "                     pvalue log2FoldChange pct.1 pct.2    padj_bonf\n",
      "PMM1           4.948940e-09      0.2563615 0.395 0.134 0.0000968755\n",
      "ELK4           2.133483e-08      0.2408014 0.372 0.131 0.0004176293\n",
      "CTD-2331H12.8  2.134217e-08      0.2270742 0.465 0.184 0.0004177729\n",
      "XXcos-LUCA11.5 4.044676e-08      0.2658115 0.494 0.216 0.0007917453\n",
      "DIDO1          5.023666e-08      0.1822674 0.471 0.184 0.0009833826\n",
      "ALKBH7         6.029819e-08      0.1977485 0.471 0.187 0.0011803370\n",
      "                       padj            ensg\n",
      "PMM1           1.702435e-06 ENSG00000100417\n",
      "ELK4           4.195260e-06 ENSG00000158711\n",
      "CTD-2331H12.8  4.195260e-06            <NA>\n",
      "XXcos-LUCA11.5 5.313637e-06            <NA>\n",
      "DIDO1          5.760470e-06 ENSG00000101191\n",
      "ALKBH7         6.382331e-06 ENSG00000125652\n",
      "[1] \"here\"\n",
      "                         Gene log2FoldChange\n",
      "NR1H2                   NR1H2      0.2859796\n",
      "FBXL19                 FBXL19      0.2727703\n",
      "XXcos-LUCA11.5 XXcos-LUCA11.5      0.2658115\n",
      "PMM1                     PMM1      0.2563615\n",
      "TMEM143               TMEM143      0.2426202\n",
      "ELK4                     ELK4      0.2408014\n"
     ]
    },
    {
     "name": "stderr",
     "output_type": "stream",
     "text": [
      "preparing geneSet collections...\n",
      "\n",
      "GSEA analysis...\n",
      "\n",
      "Warning message in preparePathwaysAndStats(pathways, stats, minSize, maxSize, gseaParam, :\n",
      "“There are ties in the preranked stats (0.16% of the list).\n",
      "The order of those tied genes will be arbitrary, which may produce unexpected results.”\n",
      "leading edge analysis...\n",
      "\n",
      "done...\n",
      "\n"
     ]
    },
    {
     "name": "stdout",
     "output_type": "stream",
     "text": [
      "[1] \"result\"\n",
      "[1] \"c0\"\n"
     ]
    },
    {
     "name": "stderr",
     "output_type": "stream",
     "text": [
      "Warning message in summary(egmt[[c]]):\n",
      "“summary method to convert the object to data.frame is deprecated, please use as.data.frame instead.”\n",
      "Saving 6.67 x 6.67 in image\n",
      "\n",
      "preparing geneSet collections...\n",
      "\n",
      "GSEA analysis...\n",
      "\n",
      "Warning message in preparePathwaysAndStats(pathways, stats, minSize, maxSize, gseaParam, :\n",
      "“There are ties in the preranked stats (0.16% of the list).\n",
      "The order of those tied genes will be arbitrary, which may produce unexpected results.”\n",
      "Warning message in fgseaMultilevel(...):\n",
      "“For some pathways, in reality P-values are less than 1e-10. You can set the `eps` argument to zero for better estimation.”\n",
      "leading edge analysis...\n",
      "\n",
      "done...\n",
      "\n"
     ]
    },
    {
     "name": "stdout",
     "output_type": "stream",
     "text": [
      "[1] \"result\"\n",
      "[1] \"c2\"\n"
     ]
    },
    {
     "name": "stderr",
     "output_type": "stream",
     "text": [
      "Warning message in summary(egmt[[c]]):\n",
      "“summary method to convert the object to data.frame is deprecated, please use as.data.frame instead.”\n",
      "Saving 6.67 x 6.67 in image\n",
      "\n",
      "preparing geneSet collections...\n",
      "\n",
      "GSEA analysis...\n",
      "\n",
      "Warning message in preparePathwaysAndStats(pathways, stats, minSize, maxSize, gseaParam, :\n",
      "“There are ties in the preranked stats (0.16% of the list).\n",
      "The order of those tied genes will be arbitrary, which may produce unexpected results.”\n",
      "leading edge analysis...\n",
      "\n",
      "done...\n",
      "\n"
     ]
    },
    {
     "name": "stdout",
     "output_type": "stream",
     "text": [
      "[1] \"result\"\n",
      "[1] \"c5\"\n"
     ]
    },
    {
     "name": "stderr",
     "output_type": "stream",
     "text": [
      "Warning message in summary(egmt[[c]]):\n",
      "“summary method to convert the object to data.frame is deprecated, please use as.data.frame instead.”\n",
      "Saving 6.67 x 6.67 in image\n",
      "\n",
      "preparing geneSet collections...\n",
      "\n",
      "GSEA analysis...\n",
      "\n",
      "Warning message in preparePathwaysAndStats(pathways, stats, minSize, maxSize, gseaParam, :\n",
      "“There are ties in the preranked stats (0.16% of the list).\n",
      "The order of those tied genes will be arbitrary, which may produce unexpected results.”\n",
      "leading edge analysis...\n",
      "\n",
      "done...\n",
      "\n"
     ]
    },
    {
     "name": "stdout",
     "output_type": "stream",
     "text": [
      "[1] \"result\"\n",
      "[1] \"c7\"\n"
     ]
    },
    {
     "name": "stderr",
     "output_type": "stream",
     "text": [
      "Warning message in summary(egmt[[c]]):\n",
      "“summary method to convert the object to data.frame is deprecated, please use as.data.frame instead.”\n",
      "Saving 6.67 x 6.67 in image\n",
      "\n",
      "Warning message in is.na(egmt[[c]]):\n",
      "“is.na() applied to non-(list or vector) of type 'S4'”\n",
      "Warning message in summary(egmt[[c]]):\n",
      "“summary method to convert the object to data.frame is deprecated, please use as.data.frame instead.”\n",
      "Warning message in is.na(egmt[[c]]):\n",
      "“is.na() applied to non-(list or vector) of type 'S4'”\n",
      "Warning message in summary(egmt[[c]]):\n",
      "“summary method to convert the object to data.frame is deprecated, please use as.data.frame instead.”\n",
      "Warning message in is.na(egmt[[c]]):\n",
      "“is.na() applied to non-(list or vector) of type 'S4'”\n",
      "Warning message in summary(egmt[[c]]):\n",
      "“summary method to convert the object to data.frame is deprecated, please use as.data.frame instead.”\n",
      "Warning message in is.na(egmt[[c]]):\n",
      "“is.na() applied to non-(list or vector) of type 'S4'”\n",
      "Warning message in summary(egmt[[c]]):\n",
      "“summary method to convert the object to data.frame is deprecated, please use as.data.frame instead.”\n"
     ]
    },
    {
     "name": "stdout",
     "output_type": "stream",
     "text": [
      "[1] \"preExcel writing\"\n",
      "[1] \"postExcel writing\"\n",
      "[1] \"Here we go .... :/data/Mito_Trace/output/pipeline/TcellDupi_may17_2021/MTblacklist/data/merged/MT/cellr_True/numread_200/filters/minC10_minR50_topN0_hetT0.001_hetC10_hetCount5_bq20/mgatk/vireoIn/clones/variants_init/knn/kparam_3/concat/gff_hg38_1_2/annotation_clones/de_clone_btwncond_RNA/minPct0.01_logfc0.1/GSEA_pctthresh.0.1_pthresh.0.1_pref.FALSE_stat.log2FoldChange_padj.BH/prep/0_1_DE.tsv\"\n",
      "[1] \"Myclass\"\n",
      "[1] 2177    7\n",
      "[1] 1801    7\n",
      "[1] \"pvalue\"         \"log2FoldChange\" \"pct.1\"          \"pct.2\"         \n",
      "[5] \"padj_bonf\"      \"padj\"           \"ensg\"          \n",
      "             pvalue log2FoldChange pct.1 pct.2   padj_bonf         padj\n",
      "RBKS   6.331345e-08      0.2726672 0.391 0.111 0.001239361 6.891669e-05\n",
      "ZNRF3  6.218485e-07      0.2849487 0.413 0.140 0.012172685 1.933949e-04\n",
      "DEDD2  9.359999e-07      0.2350479 0.565 0.217 0.018322199 2.197830e-04\n",
      "NPC1   1.015999e-06      0.2457053 0.467 0.169 0.019888172 2.197830e-04\n",
      "PAFAH2 1.737183e-06      0.2377261 0.446 0.159 0.034005367 2.909114e-04\n",
      "NPHP4  2.670667e-06      0.2218199 0.446 0.164 0.052278301 3.792828e-04\n",
      "                  ensg\n",
      "RBKS   ENSG00000171174\n",
      "ZNRF3  ENSG00000183579\n",
      "DEDD2  ENSG00000160570\n",
      "NPC1   ENSG00000141458\n",
      "PAFAH2 ENSG00000158006\n",
      "NPHP4  ENSG00000131697\n",
      "[1] \"here\"\n",
      "           Gene log2FoldChange\n",
      "DNAH5     DNAH5      0.3318790\n",
      "BRE         BRE      0.3203934\n",
      "MRPL33   MRPL33      0.2884052\n",
      "ZNRF3     ZNRF3      0.2849487\n",
      "MAP3K14 MAP3K14      0.2755466\n",
      "ZC3H7A   ZC3H7A      0.2739942\n"
     ]
    },
    {
     "name": "stderr",
     "output_type": "stream",
     "text": [
      "preparing geneSet collections...\n",
      "\n",
      "GSEA analysis...\n",
      "\n",
      "Warning message in preparePathwaysAndStats(pathways, stats, minSize, maxSize, gseaParam, :\n",
      "“There are ties in the preranked stats (0.22% of the list).\n",
      "The order of those tied genes will be arbitrary, which may produce unexpected results.”\n",
      "leading edge analysis...\n",
      "\n",
      "done...\n",
      "\n"
     ]
    },
    {
     "name": "stdout",
     "output_type": "stream",
     "text": [
      "[1] \"result\"\n",
      "[1] \"c0\"\n"
     ]
    },
    {
     "name": "stderr",
     "output_type": "stream",
     "text": [
      "Warning message in summary(egmt[[c]]):\n",
      "“summary method to convert the object to data.frame is deprecated, please use as.data.frame instead.”\n",
      "Saving 6.67 x 6.67 in image\n",
      "\n",
      "preparing geneSet collections...\n",
      "\n",
      "GSEA analysis...\n",
      "\n",
      "Warning message in preparePathwaysAndStats(pathways, stats, minSize, maxSize, gseaParam, :\n",
      "“There are ties in the preranked stats (0.22% of the list).\n",
      "The order of those tied genes will be arbitrary, which may produce unexpected results.”\n",
      "leading edge analysis...\n",
      "\n",
      "done...\n",
      "\n"
     ]
    },
    {
     "name": "stdout",
     "output_type": "stream",
     "text": [
      "[1] \"result\"\n",
      "[1] \"c2\"\n"
     ]
    },
    {
     "name": "stderr",
     "output_type": "stream",
     "text": [
      "Warning message in summary(egmt[[c]]):\n",
      "“summary method to convert the object to data.frame is deprecated, please use as.data.frame instead.”\n",
      "Saving 6.67 x 6.67 in image\n",
      "\n",
      "preparing geneSet collections...\n",
      "\n",
      "GSEA analysis...\n",
      "\n",
      "Warning message in preparePathwaysAndStats(pathways, stats, minSize, maxSize, gseaParam, :\n",
      "“There are ties in the preranked stats (0.22% of the list).\n",
      "The order of those tied genes will be arbitrary, which may produce unexpected results.”\n",
      "no term enriched under specific pvalueCutoff...\n",
      "\n"
     ]
    },
    {
     "name": "stdout",
     "output_type": "stream",
     "text": [
      "[1] \"result\"\n",
      "[1] \"c5\"\n"
     ]
    },
    {
     "name": "stderr",
     "output_type": "stream",
     "text": [
      "Warning message in summary(egmt[[c]]):\n",
      "“summary method to convert the object to data.frame is deprecated, please use as.data.frame instead.”\n",
      "preparing geneSet collections...\n",
      "\n",
      "GSEA analysis...\n",
      "\n",
      "Warning message in preparePathwaysAndStats(pathways, stats, minSize, maxSize, gseaParam, :\n",
      "“There are ties in the preranked stats (0.22% of the list).\n",
      "The order of those tied genes will be arbitrary, which may produce unexpected results.”\n",
      "leading edge analysis...\n",
      "\n",
      "done...\n",
      "\n"
     ]
    },
    {
     "name": "stdout",
     "output_type": "stream",
     "text": [
      "[1] \"result\"\n",
      "[1] \"c7\"\n"
     ]
    },
    {
     "name": "stderr",
     "output_type": "stream",
     "text": [
      "Warning message in summary(egmt[[c]]):\n",
      "“summary method to convert the object to data.frame is deprecated, please use as.data.frame instead.”\n",
      "Saving 6.67 x 6.67 in image\n",
      "\n",
      "Warning message in is.na(egmt[[c]]):\n",
      "“is.na() applied to non-(list or vector) of type 'S4'”\n",
      "Warning message in summary(egmt[[c]]):\n",
      "“summary method to convert the object to data.frame is deprecated, please use as.data.frame instead.”\n",
      "Warning message in is.na(egmt[[c]]):\n",
      "“is.na() applied to non-(list or vector) of type 'S4'”\n",
      "Warning message in summary(egmt[[c]]):\n",
      "“summary method to convert the object to data.frame is deprecated, please use as.data.frame instead.”\n",
      "Warning message in is.na(egmt[[c]]):\n",
      "“is.na() applied to non-(list or vector) of type 'S4'”\n",
      "Warning message in summary(egmt[[c]]):\n",
      "“summary method to convert the object to data.frame is deprecated, please use as.data.frame instead.”\n",
      "Warning message in is.na(egmt[[c]]):\n",
      "“is.na() applied to non-(list or vector) of type 'S4'”\n",
      "Warning message in summary(egmt[[c]]):\n",
      "“summary method to convert the object to data.frame is deprecated, please use as.data.frame instead.”\n"
     ]
    },
    {
     "name": "stdout",
     "output_type": "stream",
     "text": [
      "[1] \"preExcel writing\"\n",
      "[1] \"postExcel writing\"\n",
      "[1] \"Here we go .... :/data/Mito_Trace/output/pipeline/TcellDupi_may17_2021/MTblacklist/data/merged/MT/cellr_True/numread_200/filters/minC10_minR50_topN0_hetT0.001_hetC10_hetCount5_bq20/mgatk/vireoIn/clones/variants_init/knn/kparam_3/concat/gff_hg38_1_2/annotation_clones/de_clone_btwncond_RNA/minPct0.01_logfc0.1/GSEA_pctthresh.0.1_pthresh.0.1_pref.FALSE_stat.log2FoldChange_padj.BH/prep/0_10_DE.tsv\"\n",
      "[1] \"Myclass\"\n",
      "[1] 2866    7\n",
      "[1] 2345    7\n",
      "[1] \"pvalue\"         \"log2FoldChange\" \"pct.1\"          \"pct.2\"         \n",
      "[5] \"padj_bonf\"      \"padj\"           \"ensg\"          \n",
      "              pvalue log2FoldChange pct.1 pct.2  padj_bonf        padj\n",
      "DPY30   3.294739e-06      0.3036735 0.477 0.142 0.06449451 0.003147574\n",
      "PITRM1  7.674304e-06      0.3859571 0.593 0.236 0.15022450 0.004147145\n",
      "CLN5    8.682090e-06      0.2865165 0.512 0.179 0.16995192 0.004147145\n",
      "APBB1IP 1.128991e-05      0.2994778 0.698 0.302 0.22100003 0.004622413\n",
      "AP3D1   1.721921e-05      0.2573840 0.442 0.142 0.33706613 0.005833171\n",
      "SCAF1   2.219228e-05      0.3601266 0.651 0.302 0.43441380 0.005833171\n",
      "                   ensg\n",
      "DPY30   ENSG00000162961\n",
      "PITRM1  ENSG00000107959\n",
      "CLN5    ENSG00000102805\n",
      "APBB1IP ENSG00000077420\n",
      "AP3D1   ENSG00000065000\n",
      "SCAF1   ENSG00000126461\n",
      "[1] \"here\"\n",
      "         Gene log2FoldChange\n",
      "MEI4     MEI4      1.2116487\n",
      "PITRM1 PITRM1      0.3859571\n",
      "SCAF1   SCAF1      0.3601266\n",
      "RRAS     RRAS      0.3269365\n",
      "TXNL1   TXNL1      0.3259337\n",
      "DPY30   DPY30      0.3036735\n"
     ]
    },
    {
     "name": "stderr",
     "output_type": "stream",
     "text": [
      "preparing geneSet collections...\n",
      "\n",
      "GSEA analysis...\n",
      "\n",
      "Warning message in preparePathwaysAndStats(pathways, stats, minSize, maxSize, gseaParam, :\n",
      "“There are ties in the preranked stats (0.34% of the list).\n",
      "The order of those tied genes will be arbitrary, which may produce unexpected results.”\n",
      "no term enriched under specific pvalueCutoff...\n",
      "\n"
     ]
    },
    {
     "name": "stdout",
     "output_type": "stream",
     "text": [
      "[1] \"result\"\n",
      "[1] \"c0\"\n"
     ]
    },
    {
     "name": "stderr",
     "output_type": "stream",
     "text": [
      "Warning message in summary(egmt[[c]]):\n",
      "“summary method to convert the object to data.frame is deprecated, please use as.data.frame instead.”\n",
      "preparing geneSet collections...\n",
      "\n",
      "GSEA analysis...\n",
      "\n",
      "Warning message in preparePathwaysAndStats(pathways, stats, minSize, maxSize, gseaParam, :\n",
      "“There are ties in the preranked stats (0.34% of the list).\n",
      "The order of those tied genes will be arbitrary, which may produce unexpected results.”\n",
      "leading edge analysis...\n",
      "\n",
      "done...\n",
      "\n"
     ]
    },
    {
     "name": "stdout",
     "output_type": "stream",
     "text": [
      "[1] \"result\"\n",
      "[1] \"c2\"\n"
     ]
    },
    {
     "name": "stderr",
     "output_type": "stream",
     "text": [
      "Warning message in summary(egmt[[c]]):\n",
      "“summary method to convert the object to data.frame is deprecated, please use as.data.frame instead.”\n",
      "Saving 6.67 x 6.67 in image\n",
      "\n",
      "preparing geneSet collections...\n",
      "\n",
      "GSEA analysis...\n",
      "\n",
      "Warning message in preparePathwaysAndStats(pathways, stats, minSize, maxSize, gseaParam, :\n",
      "“There are ties in the preranked stats (0.34% of the list).\n",
      "The order of those tied genes will be arbitrary, which may produce unexpected results.”\n",
      "leading edge analysis...\n",
      "\n",
      "done...\n",
      "\n"
     ]
    },
    {
     "name": "stdout",
     "output_type": "stream",
     "text": [
      "[1] \"result\"\n",
      "[1] \"c5\"\n"
     ]
    },
    {
     "name": "stderr",
     "output_type": "stream",
     "text": [
      "Warning message in summary(egmt[[c]]):\n",
      "“summary method to convert the object to data.frame is deprecated, please use as.data.frame instead.”\n",
      "Saving 6.67 x 6.67 in image\n",
      "\n",
      "preparing geneSet collections...\n",
      "\n",
      "GSEA analysis...\n",
      "\n",
      "Warning message in preparePathwaysAndStats(pathways, stats, minSize, maxSize, gseaParam, :\n",
      "“There are ties in the preranked stats (0.34% of the list).\n",
      "The order of those tied genes will be arbitrary, which may produce unexpected results.”\n",
      "leading edge analysis...\n",
      "\n",
      "done...\n",
      "\n"
     ]
    },
    {
     "name": "stdout",
     "output_type": "stream",
     "text": [
      "[1] \"result\"\n",
      "[1] \"c7\"\n"
     ]
    },
    {
     "name": "stderr",
     "output_type": "stream",
     "text": [
      "Warning message in summary(egmt[[c]]):\n",
      "“summary method to convert the object to data.frame is deprecated, please use as.data.frame instead.”\n",
      "Saving 6.67 x 6.67 in image\n",
      "\n",
      "Warning message in is.na(egmt[[c]]):\n",
      "“is.na() applied to non-(list or vector) of type 'S4'”\n",
      "Warning message in summary(egmt[[c]]):\n",
      "“summary method to convert the object to data.frame is deprecated, please use as.data.frame instead.”\n",
      "Warning message in is.na(egmt[[c]]):\n",
      "“is.na() applied to non-(list or vector) of type 'S4'”\n",
      "Warning message in summary(egmt[[c]]):\n",
      "“summary method to convert the object to data.frame is deprecated, please use as.data.frame instead.”\n",
      "Warning message in is.na(egmt[[c]]):\n",
      "“is.na() applied to non-(list or vector) of type 'S4'”\n",
      "Warning message in summary(egmt[[c]]):\n",
      "“summary method to convert the object to data.frame is deprecated, please use as.data.frame instead.”\n",
      "Warning message in is.na(egmt[[c]]):\n",
      "“is.na() applied to non-(list or vector) of type 'S4'”\n",
      "Warning message in summary(egmt[[c]]):\n",
      "“summary method to convert the object to data.frame is deprecated, please use as.data.frame instead.”\n"
     ]
    },
    {
     "name": "stdout",
     "output_type": "stream",
     "text": [
      "[1] \"preExcel writing\"\n",
      "[1] \"postExcel writing\"\n",
      "[1] \"Here we go .... :/data/Mito_Trace/output/pipeline/TcellDupi_may17_2021/MTblacklist/data/merged/MT/cellr_True/numread_200/filters/minC10_minR50_topN0_hetT0.001_hetC10_hetCount5_bq20/mgatk/vireoIn/clones/variants_init/knn/kparam_3/concat/gff_hg38_1_2/annotation_clones/de_clone_btwncond_RNA/minPct0.01_logfc0.1/GSEA_pctthresh.0.1_pthresh.0.1_pref.FALSE_stat.log2FoldChange_padj.BH/prep/0_11_DE.tsv\"\n",
      "[1] \"Myclass\"\n",
      "[1] 3642    7\n",
      "[1] 2628    7\n",
      "[1] \"pvalue\"         \"log2FoldChange\" \"pct.1\"          \"pct.2\"         \n",
      "[5] \"padj_bonf\"      \"padj\"           \"ensg\"          \n",
      "                   pvalue log2FoldChange pct.1 pct.2  padj_bonf        padj\n",
      "TRIP10       2.810179e-06      0.2520915 0.521 0.116 0.05500926 0.004245232\n",
      "GPR108       4.505266e-06      0.2242602 0.513 0.116 0.08819058 0.004245232\n",
      "CARD19       4.763916e-06      0.3995120 0.580 0.188 0.09325365 0.004245232\n",
      "STK4         1.173747e-05      0.3182792 0.479 0.130 0.22976097 0.004749763\n",
      "CTD-2135J3.4 1.692487e-05      0.3872294 0.412 0.101 0.33130433 0.006164038\n",
      "FBXO48       2.059926e-05      0.3052180 0.496 0.145 0.40323059 0.006453890\n",
      "                        ensg\n",
      "TRIP10       ENSG00000125733\n",
      "GPR108       ENSG00000125734\n",
      "CARD19       ENSG00000165233\n",
      "STK4         ENSG00000101109\n",
      "CTD-2135J3.4            <NA>\n",
      "FBXO48       ENSG00000204923\n",
      "[1] \"here\"\n",
      "         Gene log2FoldChange\n",
      "RBM6     RBM6      0.6022494\n",
      "ZNF589 ZNF589      0.5967006\n",
      "ITSN1   ITSN1      0.4449618\n",
      "CRYZL1 CRYZL1      0.4076755\n",
      "CARD19 CARD19      0.3995120\n",
      "NBN       NBN      0.3873382\n"
     ]
    },
    {
     "name": "stderr",
     "output_type": "stream",
     "text": [
      "preparing geneSet collections...\n",
      "\n",
      "GSEA analysis...\n",
      "\n",
      "Warning message in preparePathwaysAndStats(pathways, stats, minSize, maxSize, gseaParam, :\n",
      "“There are ties in the preranked stats (0.42% of the list).\n",
      "The order of those tied genes will be arbitrary, which may produce unexpected results.”\n",
      "no term enriched under specific pvalueCutoff...\n",
      "\n"
     ]
    },
    {
     "name": "stdout",
     "output_type": "stream",
     "text": [
      "[1] \"result\"\n",
      "[1] \"c0\"\n"
     ]
    },
    {
     "name": "stderr",
     "output_type": "stream",
     "text": [
      "Warning message in summary(egmt[[c]]):\n",
      "“summary method to convert the object to data.frame is deprecated, please use as.data.frame instead.”\n",
      "preparing geneSet collections...\n",
      "\n",
      "GSEA analysis...\n",
      "\n",
      "Warning message in preparePathwaysAndStats(pathways, stats, minSize, maxSize, gseaParam, :\n",
      "“There are ties in the preranked stats (0.42% of the list).\n",
      "The order of those tied genes will be arbitrary, which may produce unexpected results.”\n",
      "leading edge analysis...\n",
      "\n",
      "done...\n",
      "\n"
     ]
    },
    {
     "name": "stdout",
     "output_type": "stream",
     "text": [
      "[1] \"result\"\n",
      "[1] \"c2\"\n"
     ]
    },
    {
     "name": "stderr",
     "output_type": "stream",
     "text": [
      "Warning message in summary(egmt[[c]]):\n",
      "“summary method to convert the object to data.frame is deprecated, please use as.data.frame instead.”\n",
      "Saving 6.67 x 6.67 in image\n",
      "\n",
      "preparing geneSet collections...\n",
      "\n",
      "GSEA analysis...\n",
      "\n",
      "Warning message in preparePathwaysAndStats(pathways, stats, minSize, maxSize, gseaParam, :\n",
      "“There are ties in the preranked stats (0.42% of the list).\n",
      "The order of those tied genes will be arbitrary, which may produce unexpected results.”\n",
      "no term enriched under specific pvalueCutoff...\n",
      "\n"
     ]
    },
    {
     "name": "stdout",
     "output_type": "stream",
     "text": [
      "[1] \"result\"\n",
      "[1] \"c5\"\n"
     ]
    },
    {
     "name": "stderr",
     "output_type": "stream",
     "text": [
      "Warning message in summary(egmt[[c]]):\n",
      "“summary method to convert the object to data.frame is deprecated, please use as.data.frame instead.”\n",
      "preparing geneSet collections...\n",
      "\n",
      "GSEA analysis...\n",
      "\n",
      "Warning message in preparePathwaysAndStats(pathways, stats, minSize, maxSize, gseaParam, :\n",
      "“There are ties in the preranked stats (0.42% of the list).\n",
      "The order of those tied genes will be arbitrary, which may produce unexpected results.”\n",
      "leading edge analysis...\n",
      "\n",
      "done...\n",
      "\n"
     ]
    },
    {
     "name": "stdout",
     "output_type": "stream",
     "text": [
      "[1] \"result\"\n",
      "[1] \"c7\"\n"
     ]
    },
    {
     "name": "stderr",
     "output_type": "stream",
     "text": [
      "Warning message in summary(egmt[[c]]):\n",
      "“summary method to convert the object to data.frame is deprecated, please use as.data.frame instead.”\n",
      "Saving 6.67 x 6.67 in image\n",
      "\n",
      "Warning message in is.na(egmt[[c]]):\n",
      "“is.na() applied to non-(list or vector) of type 'S4'”\n",
      "Warning message in summary(egmt[[c]]):\n",
      "“summary method to convert the object to data.frame is deprecated, please use as.data.frame instead.”\n",
      "Warning message in is.na(egmt[[c]]):\n",
      "“is.na() applied to non-(list or vector) of type 'S4'”\n",
      "Warning message in summary(egmt[[c]]):\n",
      "“summary method to convert the object to data.frame is deprecated, please use as.data.frame instead.”\n",
      "Warning message in is.na(egmt[[c]]):\n",
      "“is.na() applied to non-(list or vector) of type 'S4'”\n",
      "Warning message in summary(egmt[[c]]):\n",
      "“summary method to convert the object to data.frame is deprecated, please use as.data.frame instead.”\n",
      "Warning message in is.na(egmt[[c]]):\n",
      "“is.na() applied to non-(list or vector) of type 'S4'”\n",
      "Warning message in summary(egmt[[c]]):\n",
      "“summary method to convert the object to data.frame is deprecated, please use as.data.frame instead.”\n"
     ]
    },
    {
     "name": "stdout",
     "output_type": "stream",
     "text": [
      "[1] \"preExcel writing\"\n",
      "[1] \"postExcel writing\"\n",
      "[1] \"Here we go .... :/data/Mito_Trace/output/pipeline/TcellDupi_may17_2021/MTblacklist/data/merged/MT/cellr_True/numread_200/filters/minC10_minR50_topN0_hetT0.001_hetC10_hetCount5_bq20/mgatk/vireoIn/clones/variants_init/knn/kparam_3/concat/gff_hg38_1_2/annotation_clones/de_clone_btwncond_RNA/minPct0.01_logfc0.1/GSEA_pctthresh.0.1_pthresh.0.1_pref.FALSE_stat.log2FoldChange_padj.BH/prep/0_12_DE.tsv\"\n",
      "[1] \"Myclass\"\n",
      "[1] 3852    7\n",
      "[1] 2788    7\n",
      "[1] \"pvalue\"         \"log2FoldChange\" \"pct.1\"          \"pct.2\"         \n",
      "[5] \"padj_bonf\"      \"padj\"           \"ensg\"          \n",
      "            pvalue log2FoldChange pct.1 pct.2 padj_bonf        padj\n",
      "RRAS  5.423442e-06      0.3593201 0.600 0.161 0.1061639 0.007231837\n",
      "SCAF1 7.509696e-06      0.3536758 0.592 0.161 0.1470023 0.007231837\n",
      "GM2A  2.811765e-05      0.2759570 0.632 0.196 0.5504031 0.015913718\n",
      "SNX8  3.964902e-05      0.3604937 0.496 0.143 0.7761295 0.015913718\n",
      "PCNA  4.106222e-05      0.3707515 0.592 0.214 0.8037930 0.015913718\n",
      "ST7L  5.286486e-05      0.1620744 0.512 0.125 1.0000000 0.015913718\n",
      "                 ensg\n",
      "RRAS  ENSG00000126458\n",
      "SCAF1 ENSG00000126461\n",
      "GM2A  ENSG00000196743\n",
      "SNX8  ENSG00000106266\n",
      "PCNA  ENSG00000132646\n",
      "ST7L  ENSG00000007341\n",
      "[1] \"here\"\n",
      "       Gene log2FoldChange\n",
      "MNT     MNT      0.3957312\n",
      "PCNA   PCNA      0.3707515\n",
      "SNX8   SNX8      0.3604937\n",
      "RRAS   RRAS      0.3593201\n",
      "STAP2 STAP2      0.3577469\n",
      "SCAF1 SCAF1      0.3536758\n"
     ]
    },
    {
     "name": "stderr",
     "output_type": "stream",
     "text": [
      "preparing geneSet collections...\n",
      "\n",
      "GSEA analysis...\n",
      "\n",
      "Warning message in preparePathwaysAndStats(pathways, stats, minSize, maxSize, gseaParam, :\n",
      "“There are ties in the preranked stats (0.32% of the list).\n",
      "The order of those tied genes will be arbitrary, which may produce unexpected results.”\n",
      "no term enriched under specific pvalueCutoff...\n",
      "\n"
     ]
    },
    {
     "name": "stdout",
     "output_type": "stream",
     "text": [
      "[1] \"result\"\n",
      "[1] \"c0\"\n"
     ]
    },
    {
     "name": "stderr",
     "output_type": "stream",
     "text": [
      "Warning message in summary(egmt[[c]]):\n",
      "“summary method to convert the object to data.frame is deprecated, please use as.data.frame instead.”\n",
      "preparing geneSet collections...\n",
      "\n",
      "GSEA analysis...\n",
      "\n",
      "Warning message in preparePathwaysAndStats(pathways, stats, minSize, maxSize, gseaParam, :\n",
      "“There are ties in the preranked stats (0.32% of the list).\n",
      "The order of those tied genes will be arbitrary, which may produce unexpected results.”\n",
      "leading edge analysis...\n",
      "\n",
      "done...\n",
      "\n"
     ]
    },
    {
     "name": "stdout",
     "output_type": "stream",
     "text": [
      "[1] \"result\"\n",
      "[1] \"c2\"\n"
     ]
    },
    {
     "name": "stderr",
     "output_type": "stream",
     "text": [
      "Warning message in summary(egmt[[c]]):\n",
      "“summary method to convert the object to data.frame is deprecated, please use as.data.frame instead.”\n",
      "Saving 6.67 x 6.67 in image\n",
      "\n",
      "preparing geneSet collections...\n",
      "\n",
      "GSEA analysis...\n",
      "\n",
      "Warning message in preparePathwaysAndStats(pathways, stats, minSize, maxSize, gseaParam, :\n",
      "“There are ties in the preranked stats (0.32% of the list).\n",
      "The order of those tied genes will be arbitrary, which may produce unexpected results.”\n",
      "no term enriched under specific pvalueCutoff...\n",
      "\n"
     ]
    },
    {
     "name": "stdout",
     "output_type": "stream",
     "text": [
      "[1] \"result\"\n",
      "[1] \"c5\"\n"
     ]
    },
    {
     "name": "stderr",
     "output_type": "stream",
     "text": [
      "Warning message in summary(egmt[[c]]):\n",
      "“summary method to convert the object to data.frame is deprecated, please use as.data.frame instead.”\n",
      "preparing geneSet collections...\n",
      "\n",
      "GSEA analysis...\n",
      "\n",
      "Warning message in preparePathwaysAndStats(pathways, stats, minSize, maxSize, gseaParam, :\n",
      "“There are ties in the preranked stats (0.32% of the list).\n",
      "The order of those tied genes will be arbitrary, which may produce unexpected results.”\n",
      "leading edge analysis...\n",
      "\n",
      "done...\n",
      "\n"
     ]
    },
    {
     "name": "stdout",
     "output_type": "stream",
     "text": [
      "[1] \"result\"\n",
      "[1] \"c7\"\n"
     ]
    },
    {
     "name": "stderr",
     "output_type": "stream",
     "text": [
      "Warning message in summary(egmt[[c]]):\n",
      "“summary method to convert the object to data.frame is deprecated, please use as.data.frame instead.”\n",
      "Saving 6.67 x 6.67 in image\n",
      "\n",
      "Warning message in is.na(egmt[[c]]):\n",
      "“is.na() applied to non-(list or vector) of type 'S4'”\n",
      "Warning message in summary(egmt[[c]]):\n",
      "“summary method to convert the object to data.frame is deprecated, please use as.data.frame instead.”\n",
      "Warning message in is.na(egmt[[c]]):\n",
      "“is.na() applied to non-(list or vector) of type 'S4'”\n",
      "Warning message in summary(egmt[[c]]):\n",
      "“summary method to convert the object to data.frame is deprecated, please use as.data.frame instead.”\n",
      "Warning message in is.na(egmt[[c]]):\n",
      "“is.na() applied to non-(list or vector) of type 'S4'”\n",
      "Warning message in summary(egmt[[c]]):\n",
      "“summary method to convert the object to data.frame is deprecated, please use as.data.frame instead.”\n",
      "Warning message in is.na(egmt[[c]]):\n",
      "“is.na() applied to non-(list or vector) of type 'S4'”\n",
      "Warning message in summary(egmt[[c]]):\n",
      "“summary method to convert the object to data.frame is deprecated, please use as.data.frame instead.”\n"
     ]
    },
    {
     "name": "stdout",
     "output_type": "stream",
     "text": [
      "[1] \"preExcel writing\"\n",
      "[1] \"postExcel writing\"\n",
      "[1] \"Here we go .... :/data/Mito_Trace/output/pipeline/TcellDupi_may17_2021/MTblacklist/data/merged/MT/cellr_True/numread_200/filters/minC10_minR50_topN0_hetT0.001_hetC10_hetCount5_bq20/mgatk/vireoIn/clones/variants_init/knn/kparam_3/concat/gff_hg38_1_2/annotation_clones/de_clone_btwncond_RNA/minPct0.01_logfc0.1/GSEA_pctthresh.0.1_pthresh.0.1_pref.FALSE_stat.log2FoldChange_padj.BH/prep/0_13_DE.tsv\"\n",
      "[1] \"Myclass\"\n",
      "[1] 3241    7\n",
      "[1] 2471    7\n",
      "[1] \"pvalue\"         \"log2FoldChange\" \"pct.1\"          \"pct.2\"         \n",
      "[5] \"padj_bonf\"      \"padj\"           \"ensg\"          \n",
      "              pvalue log2FoldChange pct.1 pct.2   padj_bonf         padj\n",
      "NAB2    3.078739e-07      0.3429780 0.500 0.124 0.006026631 0.0002046265\n",
      "TIAL1   1.292998e-06      0.2847406 0.470 0.115 0.025310436 0.0005238258\n",
      "CIB1    1.572530e-06      0.3007757 0.500 0.124 0.030782275 0.0005662855\n",
      "TIMM44  3.054415e-06      0.2460345 0.439 0.106 0.059790179 0.0008249467\n",
      "ARHGEF6 3.732521e-06      0.3972050 0.515 0.159 0.073064093 0.0009028020\n",
      "AP3D1   3.909266e-06      0.2669784 0.545 0.168 0.076523883 0.0009028020\n",
      "                   ensg\n",
      "NAB2    ENSG00000166886\n",
      "TIAL1   ENSG00000151923\n",
      "CIB1    ENSG00000185043\n",
      "TIMM44  ENSG00000104980\n",
      "ARHGEF6 ENSG00000129675\n",
      "AP3D1   ENSG00000065000\n",
      "[1] \"here\"\n",
      "           Gene log2FoldChange\n",
      "ARHGEF6 ARHGEF6      0.3972050\n",
      "MKLN1     MKLN1      0.3481270\n",
      "NAB2       NAB2      0.3429780\n",
      "TOX         TOX      0.3376736\n",
      "ALKBH7   ALKBH7      0.3366263\n",
      "CIB1       CIB1      0.3007757\n"
     ]
    },
    {
     "name": "stderr",
     "output_type": "stream",
     "text": [
      "preparing geneSet collections...\n",
      "\n",
      "GSEA analysis...\n",
      "\n",
      "Warning message in preparePathwaysAndStats(pathways, stats, minSize, maxSize, gseaParam, :\n",
      "“There are ties in the preranked stats (0.53% of the list).\n",
      "The order of those tied genes will be arbitrary, which may produce unexpected results.”\n",
      "no term enriched under specific pvalueCutoff...\n",
      "\n"
     ]
    },
    {
     "name": "stdout",
     "output_type": "stream",
     "text": [
      "[1] \"result\"\n",
      "[1] \"c0\"\n"
     ]
    },
    {
     "name": "stderr",
     "output_type": "stream",
     "text": [
      "Warning message in summary(egmt[[c]]):\n",
      "“summary method to convert the object to data.frame is deprecated, please use as.data.frame instead.”\n",
      "preparing geneSet collections...\n",
      "\n",
      "GSEA analysis...\n",
      "\n",
      "Warning message in preparePathwaysAndStats(pathways, stats, minSize, maxSize, gseaParam, :\n",
      "“There are ties in the preranked stats (0.53% of the list).\n",
      "The order of those tied genes will be arbitrary, which may produce unexpected results.”\n",
      "no term enriched under specific pvalueCutoff...\n",
      "\n"
     ]
    },
    {
     "name": "stdout",
     "output_type": "stream",
     "text": [
      "[1] \"result\"\n",
      "[1] \"c2\"\n"
     ]
    },
    {
     "name": "stderr",
     "output_type": "stream",
     "text": [
      "Warning message in summary(egmt[[c]]):\n",
      "“summary method to convert the object to data.frame is deprecated, please use as.data.frame instead.”\n",
      "preparing geneSet collections...\n",
      "\n",
      "GSEA analysis...\n",
      "\n",
      "Warning message in preparePathwaysAndStats(pathways, stats, minSize, maxSize, gseaParam, :\n",
      "“There are ties in the preranked stats (0.53% of the list).\n",
      "The order of those tied genes will be arbitrary, which may produce unexpected results.”\n",
      "no term enriched under specific pvalueCutoff...\n",
      "\n"
     ]
    },
    {
     "name": "stdout",
     "output_type": "stream",
     "text": [
      "[1] \"result\"\n",
      "[1] \"c5\"\n"
     ]
    },
    {
     "name": "stderr",
     "output_type": "stream",
     "text": [
      "Warning message in summary(egmt[[c]]):\n",
      "“summary method to convert the object to data.frame is deprecated, please use as.data.frame instead.”\n",
      "preparing geneSet collections...\n",
      "\n",
      "GSEA analysis...\n",
      "\n",
      "Warning message in preparePathwaysAndStats(pathways, stats, minSize, maxSize, gseaParam, :\n",
      "“There are ties in the preranked stats (0.53% of the list).\n",
      "The order of those tied genes will be arbitrary, which may produce unexpected results.”\n",
      "leading edge analysis...\n",
      "\n",
      "done...\n",
      "\n"
     ]
    },
    {
     "name": "stdout",
     "output_type": "stream",
     "text": [
      "[1] \"result\"\n",
      "[1] \"c7\"\n"
     ]
    },
    {
     "name": "stderr",
     "output_type": "stream",
     "text": [
      "Warning message in summary(egmt[[c]]):\n",
      "“summary method to convert the object to data.frame is deprecated, please use as.data.frame instead.”\n",
      "Saving 6.67 x 6.67 in image\n",
      "\n",
      "Warning message in is.na(egmt[[c]]):\n",
      "“is.na() applied to non-(list or vector) of type 'S4'”\n",
      "Warning message in summary(egmt[[c]]):\n",
      "“summary method to convert the object to data.frame is deprecated, please use as.data.frame instead.”\n",
      "Warning message in is.na(egmt[[c]]):\n",
      "“is.na() applied to non-(list or vector) of type 'S4'”\n",
      "Warning message in summary(egmt[[c]]):\n",
      "“summary method to convert the object to data.frame is deprecated, please use as.data.frame instead.”\n",
      "Warning message in is.na(egmt[[c]]):\n",
      "“is.na() applied to non-(list or vector) of type 'S4'”\n",
      "Warning message in summary(egmt[[c]]):\n",
      "“summary method to convert the object to data.frame is deprecated, please use as.data.frame instead.”\n",
      "Warning message in is.na(egmt[[c]]):\n",
      "“is.na() applied to non-(list or vector) of type 'S4'”\n",
      "Warning message in summary(egmt[[c]]):\n",
      "“summary method to convert the object to data.frame is deprecated, please use as.data.frame instead.”\n"
     ]
    },
    {
     "name": "stdout",
     "output_type": "stream",
     "text": [
      "[1] \"preExcel writing\"\n",
      "[1] \"postExcel writing\"\n",
      "[1] \"Here we go .... :/data/Mito_Trace/output/pipeline/TcellDupi_may17_2021/MTblacklist/data/merged/MT/cellr_True/numread_200/filters/minC10_minR50_topN0_hetT0.001_hetC10_hetCount5_bq20/mgatk/vireoIn/clones/variants_init/knn/kparam_3/concat/gff_hg38_1_2/annotation_clones/de_clone_btwncond_RNA/minPct0.01_logfc0.1/GSEA_pctthresh.0.1_pthresh.0.1_pref.FALSE_stat.log2FoldChange_padj.BH/prep/0_15_DE.tsv\"\n",
      "[1] \"Myclass\"\n",
      "[1] 3635    7\n",
      "[1] 2528    7\n",
      "[1] \"pvalue\"         \"log2FoldChange\" \"pct.1\"          \"pct.2\"         \n",
      "[5] \"padj_bonf\"      \"padj\"           \"ensg\"          \n",
      "             pvalue log2FoldChange pct.1 pct.2 padj_bonf       padj\n",
      "PWWP2A 2.155376e-05      0.3950129 0.473 0.135 0.4219148 0.01506542\n",
      "ZNF277 2.901181e-05      0.3999856 0.505 0.162 0.5679062 0.01506542\n",
      "TAF1D  7.564723e-05      0.3182687 0.484 0.149 1.0000000 0.02021929\n",
      "SNX8   1.061634e-04      0.3299938 0.548 0.230 1.0000000 0.02021929\n",
      "BAD    1.171721e-04      0.3040417 0.430 0.135 1.0000000 0.02021929\n",
      "THAP8  1.197793e-04      0.3274071 0.495 0.162 1.0000000 0.02021929\n",
      "                  ensg\n",
      "PWWP2A ENSG00000170234\n",
      "ZNF277 ENSG00000198839\n",
      "TAF1D  ENSG00000166012\n",
      "SNX8   ENSG00000106266\n",
      "BAD    ENSG00000002330\n",
      "THAP8  ENSG00000161277\n",
      "[1] \"here\"\n",
      "               Gene log2FoldChange\n",
      "KIAA1324L KIAA1324L      1.1821538\n",
      "GRM3           GRM3      0.4085031\n",
      "ZNF277       ZNF277      0.3999856\n",
      "PWWP2A       PWWP2A      0.3950129\n",
      "HNRNPUL1   HNRNPUL1      0.3634122\n",
      "MKL1           MKL1      0.3601071\n"
     ]
    },
    {
     "name": "stderr",
     "output_type": "stream",
     "text": [
      "preparing geneSet collections...\n",
      "\n",
      "GSEA analysis...\n",
      "\n",
      "Warning message in preparePathwaysAndStats(pathways, stats, minSize, maxSize, gseaParam, :\n",
      "“There are ties in the preranked stats (0.44% of the list).\n",
      "The order of those tied genes will be arbitrary, which may produce unexpected results.”\n",
      "leading edge analysis...\n",
      "\n",
      "done...\n",
      "\n"
     ]
    },
    {
     "name": "stdout",
     "output_type": "stream",
     "text": [
      "[1] \"result\"\n",
      "[1] \"c0\"\n"
     ]
    },
    {
     "name": "stderr",
     "output_type": "stream",
     "text": [
      "Warning message in summary(egmt[[c]]):\n",
      "“summary method to convert the object to data.frame is deprecated, please use as.data.frame instead.”\n",
      "Saving 6.67 x 6.67 in image\n",
      "\n",
      "preparing geneSet collections...\n",
      "\n",
      "GSEA analysis...\n",
      "\n",
      "Warning message in preparePathwaysAndStats(pathways, stats, minSize, maxSize, gseaParam, :\n",
      "“There are ties in the preranked stats (0.44% of the list).\n",
      "The order of those tied genes will be arbitrary, which may produce unexpected results.”\n",
      "leading edge analysis...\n",
      "\n",
      "done...\n",
      "\n"
     ]
    },
    {
     "name": "stdout",
     "output_type": "stream",
     "text": [
      "[1] \"result\"\n",
      "[1] \"c2\"\n"
     ]
    },
    {
     "name": "stderr",
     "output_type": "stream",
     "text": [
      "Warning message in summary(egmt[[c]]):\n",
      "“summary method to convert the object to data.frame is deprecated, please use as.data.frame instead.”\n",
      "Saving 6.67 x 6.67 in image\n",
      "\n",
      "preparing geneSet collections...\n",
      "\n",
      "GSEA analysis...\n",
      "\n",
      "Warning message in preparePathwaysAndStats(pathways, stats, minSize, maxSize, gseaParam, :\n",
      "“There are ties in the preranked stats (0.44% of the list).\n",
      "The order of those tied genes will be arbitrary, which may produce unexpected results.”\n",
      "no term enriched under specific pvalueCutoff...\n",
      "\n"
     ]
    },
    {
     "name": "stdout",
     "output_type": "stream",
     "text": [
      "[1] \"result\"\n",
      "[1] \"c5\"\n"
     ]
    },
    {
     "name": "stderr",
     "output_type": "stream",
     "text": [
      "Warning message in summary(egmt[[c]]):\n",
      "“summary method to convert the object to data.frame is deprecated, please use as.data.frame instead.”\n",
      "preparing geneSet collections...\n",
      "\n",
      "GSEA analysis...\n",
      "\n",
      "Warning message in preparePathwaysAndStats(pathways, stats, minSize, maxSize, gseaParam, :\n",
      "“There are ties in the preranked stats (0.44% of the list).\n",
      "The order of those tied genes will be arbitrary, which may produce unexpected results.”\n",
      "no term enriched under specific pvalueCutoff...\n",
      "\n"
     ]
    },
    {
     "name": "stdout",
     "output_type": "stream",
     "text": [
      "[1] \"result\"\n",
      "[1] \"c7\"\n"
     ]
    },
    {
     "name": "stderr",
     "output_type": "stream",
     "text": [
      "Warning message in summary(egmt[[c]]):\n",
      "“summary method to convert the object to data.frame is deprecated, please use as.data.frame instead.”\n",
      "Warning message in is.na(egmt[[c]]):\n",
      "“is.na() applied to non-(list or vector) of type 'S4'”\n",
      "Warning message in summary(egmt[[c]]):\n",
      "“summary method to convert the object to data.frame is deprecated, please use as.data.frame instead.”\n",
      "Warning message in is.na(egmt[[c]]):\n",
      "“is.na() applied to non-(list or vector) of type 'S4'”\n",
      "Warning message in summary(egmt[[c]]):\n",
      "“summary method to convert the object to data.frame is deprecated, please use as.data.frame instead.”\n",
      "Warning message in is.na(egmt[[c]]):\n",
      "“is.na() applied to non-(list or vector) of type 'S4'”\n",
      "Warning message in summary(egmt[[c]]):\n",
      "“summary method to convert the object to data.frame is deprecated, please use as.data.frame instead.”\n",
      "Warning message in is.na(egmt[[c]]):\n",
      "“is.na() applied to non-(list or vector) of type 'S4'”\n",
      "Warning message in summary(egmt[[c]]):\n",
      "“summary method to convert the object to data.frame is deprecated, please use as.data.frame instead.”\n"
     ]
    },
    {
     "name": "stdout",
     "output_type": "stream",
     "text": [
      "[1] \"preExcel writing\"\n",
      "[1] \"postExcel writing\"\n",
      "[1] \"Here we go .... :/data/Mito_Trace/output/pipeline/TcellDupi_may17_2021/MTblacklist/data/merged/MT/cellr_True/numread_200/filters/minC10_minR50_topN0_hetT0.001_hetC10_hetCount5_bq20/mgatk/vireoIn/clones/variants_init/knn/kparam_3/concat/gff_hg38_1_2/annotation_clones/de_clone_btwncond_RNA/minPct0.01_logfc0.1/GSEA_pctthresh.0.1_pthresh.0.1_pref.FALSE_stat.log2FoldChange_padj.BH/prep/0_2_DE.tsv\"\n",
      "[1] \"Myclass\"\n",
      "[1] 2468    7\n",
      "[1] 1993    7\n",
      "[1] \"pvalue\"         \"log2FoldChange\" \"pct.1\"          \"pct.2\"         \n",
      "[5] \"padj_bonf\"      \"padj\"           \"ensg\"          \n",
      "               pvalue log2FoldChange pct.1 pct.2    padj_bonf         padj\n",
      "FAM110A  2.409281e-08      0.3373357 0.488 0.139 0.0004716168 2.385693e-05\n",
      "PSMB3    2.460353e-07      0.2912980 0.429 0.122 0.0048161406 9.978551e-05\n",
      "NCOR1    2.998360e-07      0.2390989 0.405 0.111 0.0058692905 9.978551e-05\n",
      "RNF167   3.442687e-07      0.1906172 0.452 0.133 0.0067390607 9.978551e-05\n",
      "NPHP4    3.638856e-07      0.2963933 0.464 0.150 0.0071230598 9.978551e-05\n",
      "SLC25A11 5.370006e-07      0.1829346 0.429 0.122 0.0105117867 1.325317e-04\n",
      "                    ensg\n",
      "FAM110A  ENSG00000125898\n",
      "PSMB3    ENSG00000277791\n",
      "NCOR1    ENSG00000141027\n",
      "RNF167   ENSG00000108523\n",
      "NPHP4    ENSG00000131697\n",
      "SLC25A11 ENSG00000108528\n",
      "[1] \"here\"\n",
      "                         Gene log2FoldChange\n",
      "FAM110A               FAM110A      0.3373357\n",
      "HNRNPUL1             HNRNPUL1      0.3226815\n",
      "C21orf58             C21orf58      0.3028350\n",
      "HNRNPUL2-BSCL2 HNRNPUL2-BSCL2      0.3000328\n",
      "NPHP4                   NPHP4      0.2963933\n",
      "CATSPERG             CATSPERG      0.2961401\n"
     ]
    },
    {
     "name": "stderr",
     "output_type": "stream",
     "text": [
      "preparing geneSet collections...\n",
      "\n",
      "GSEA analysis...\n",
      "\n",
      "Warning message in preparePathwaysAndStats(pathways, stats, minSize, maxSize, gseaParam, :\n",
      "“There are ties in the preranked stats (0.6% of the list).\n",
      "The order of those tied genes will be arbitrary, which may produce unexpected results.”\n",
      "no term enriched under specific pvalueCutoff...\n",
      "\n"
     ]
    },
    {
     "name": "stdout",
     "output_type": "stream",
     "text": [
      "[1] \"result\"\n",
      "[1] \"c0\"\n"
     ]
    },
    {
     "name": "stderr",
     "output_type": "stream",
     "text": [
      "Warning message in summary(egmt[[c]]):\n",
      "“summary method to convert the object to data.frame is deprecated, please use as.data.frame instead.”\n",
      "preparing geneSet collections...\n",
      "\n",
      "GSEA analysis...\n",
      "\n",
      "Warning message in preparePathwaysAndStats(pathways, stats, minSize, maxSize, gseaParam, :\n",
      "“There are ties in the preranked stats (0.6% of the list).\n",
      "The order of those tied genes will be arbitrary, which may produce unexpected results.”\n",
      "leading edge analysis...\n",
      "\n",
      "done...\n",
      "\n"
     ]
    },
    {
     "name": "stdout",
     "output_type": "stream",
     "text": [
      "[1] \"result\"\n",
      "[1] \"c2\"\n"
     ]
    },
    {
     "name": "stderr",
     "output_type": "stream",
     "text": [
      "Warning message in summary(egmt[[c]]):\n",
      "“summary method to convert the object to data.frame is deprecated, please use as.data.frame instead.”\n",
      "Saving 6.67 x 6.67 in image\n",
      "\n",
      "preparing geneSet collections...\n",
      "\n",
      "GSEA analysis...\n",
      "\n",
      "Warning message in preparePathwaysAndStats(pathways, stats, minSize, maxSize, gseaParam, :\n",
      "“There are ties in the preranked stats (0.6% of the list).\n",
      "The order of those tied genes will be arbitrary, which may produce unexpected results.”\n",
      "leading edge analysis...\n",
      "\n",
      "done...\n",
      "\n"
     ]
    },
    {
     "name": "stdout",
     "output_type": "stream",
     "text": [
      "[1] \"result\"\n",
      "[1] \"c5\"\n"
     ]
    },
    {
     "name": "stderr",
     "output_type": "stream",
     "text": [
      "Warning message in summary(egmt[[c]]):\n",
      "“summary method to convert the object to data.frame is deprecated, please use as.data.frame instead.”\n",
      "Saving 6.67 x 6.67 in image\n",
      "\n",
      "preparing geneSet collections...\n",
      "\n",
      "GSEA analysis...\n",
      "\n",
      "Warning message in preparePathwaysAndStats(pathways, stats, minSize, maxSize, gseaParam, :\n",
      "“There are ties in the preranked stats (0.6% of the list).\n",
      "The order of those tied genes will be arbitrary, which may produce unexpected results.”\n",
      "leading edge analysis...\n",
      "\n",
      "done...\n",
      "\n"
     ]
    },
    {
     "name": "stdout",
     "output_type": "stream",
     "text": [
      "[1] \"result\"\n",
      "[1] \"c7\"\n"
     ]
    },
    {
     "name": "stderr",
     "output_type": "stream",
     "text": [
      "Warning message in summary(egmt[[c]]):\n",
      "“summary method to convert the object to data.frame is deprecated, please use as.data.frame instead.”\n",
      "Saving 6.67 x 6.67 in image\n",
      "\n",
      "Warning message in is.na(egmt[[c]]):\n",
      "“is.na() applied to non-(list or vector) of type 'S4'”\n",
      "Warning message in summary(egmt[[c]]):\n",
      "“summary method to convert the object to data.frame is deprecated, please use as.data.frame instead.”\n",
      "Warning message in is.na(egmt[[c]]):\n",
      "“is.na() applied to non-(list or vector) of type 'S4'”\n",
      "Warning message in summary(egmt[[c]]):\n",
      "“summary method to convert the object to data.frame is deprecated, please use as.data.frame instead.”\n",
      "Warning message in is.na(egmt[[c]]):\n",
      "“is.na() applied to non-(list or vector) of type 'S4'”\n",
      "Warning message in summary(egmt[[c]]):\n",
      "“summary method to convert the object to data.frame is deprecated, please use as.data.frame instead.”\n",
      "Warning message in is.na(egmt[[c]]):\n",
      "“is.na() applied to non-(list or vector) of type 'S4'”\n",
      "Warning message in summary(egmt[[c]]):\n",
      "“summary method to convert the object to data.frame is deprecated, please use as.data.frame instead.”\n"
     ]
    },
    {
     "name": "stdout",
     "output_type": "stream",
     "text": [
      "[1] \"preExcel writing\"\n",
      "[1] \"postExcel writing\"\n",
      "[1] \"Here we go .... :/data/Mito_Trace/output/pipeline/TcellDupi_may17_2021/MTblacklist/data/merged/MT/cellr_True/numread_200/filters/minC10_minR50_topN0_hetT0.001_hetC10_hetCount5_bq20/mgatk/vireoIn/clones/variants_init/knn/kparam_3/concat/gff_hg38_1_2/annotation_clones/de_clone_btwncond_RNA/minPct0.01_logfc0.1/GSEA_pctthresh.0.1_pthresh.0.1_pref.FALSE_stat.log2FoldChange_padj.BH/prep/0_20_DE.tsv\"\n",
      "[1] \"Myclass\"\n",
      "[1] 3494    7\n",
      "[1] 2597    7\n",
      "[1] \"pvalue\"         \"log2FoldChange\" \"pct.1\"          \"pct.2\"         \n",
      "[5] \"padj_bonf\"      \"padj\"           \"ensg\"          \n",
      "              pvalue log2FoldChange pct.1 pct.2 padj_bonf       padj\n",
      "FAM168A 1.020774e-05      0.3471522 0.446 0.121 0.1998165 0.01725633\n",
      "AHDC1   3.611844e-05      0.3036330 0.415 0.110 0.7070185 0.01725633\n",
      "DDX39A  6.986271e-05      0.3441847 0.400 0.121 1.0000000 0.02034169\n",
      "DNAJC21 8.050902e-05      0.3178985 0.415 0.132 1.0000000 0.02140891\n",
      "SRCAP   1.093945e-04      0.2472023 0.385 0.110 1.0000000 0.02177893\n",
      "MOB4    1.159281e-04      0.1970729 0.400 0.110 1.0000000 0.02177893\n",
      "                   ensg\n",
      "FAM168A ENSG00000054965\n",
      "AHDC1   ENSG00000126705\n",
      "DDX39A  ENSG00000123136\n",
      "DNAJC21 ENSG00000168724\n",
      "SRCAP   ENSG00000080603\n",
      "MOB4    ENSG00000115540\n",
      "[1] \"here\"\n",
      "                       Gene log2FoldChange\n",
      "ACOXL                 ACOXL      0.4067058\n",
      "SPATA13             SPATA13      0.3522014\n",
      "RP11-307N16.6 RP11-307N16.6      0.3504960\n",
      "FAM168A             FAM168A      0.3471522\n",
      "DDX39A               DDX39A      0.3441847\n",
      "CAMK4                 CAMK4      0.3418109\n"
     ]
    },
    {
     "name": "stderr",
     "output_type": "stream",
     "text": [
      "preparing geneSet collections...\n",
      "\n",
      "GSEA analysis...\n",
      "\n",
      "Warning message in preparePathwaysAndStats(pathways, stats, minSize, maxSize, gseaParam, :\n",
      "“There are ties in the preranked stats (0.54% of the list).\n",
      "The order of those tied genes will be arbitrary, which may produce unexpected results.”\n",
      "no term enriched under specific pvalueCutoff...\n",
      "\n"
     ]
    },
    {
     "name": "stdout",
     "output_type": "stream",
     "text": [
      "[1] \"result\"\n",
      "[1] \"c0\"\n"
     ]
    },
    {
     "name": "stderr",
     "output_type": "stream",
     "text": [
      "Warning message in summary(egmt[[c]]):\n",
      "“summary method to convert the object to data.frame is deprecated, please use as.data.frame instead.”\n",
      "preparing geneSet collections...\n",
      "\n",
      "GSEA analysis...\n",
      "\n",
      "Warning message in preparePathwaysAndStats(pathways, stats, minSize, maxSize, gseaParam, :\n",
      "“There are ties in the preranked stats (0.54% of the list).\n",
      "The order of those tied genes will be arbitrary, which may produce unexpected results.”\n",
      "leading edge analysis...\n",
      "\n",
      "done...\n",
      "\n"
     ]
    },
    {
     "name": "stdout",
     "output_type": "stream",
     "text": [
      "[1] \"result\"\n",
      "[1] \"c2\"\n"
     ]
    },
    {
     "name": "stderr",
     "output_type": "stream",
     "text": [
      "Warning message in summary(egmt[[c]]):\n",
      "“summary method to convert the object to data.frame is deprecated, please use as.data.frame instead.”\n",
      "Saving 6.67 x 6.67 in image\n",
      "\n",
      "preparing geneSet collections...\n",
      "\n",
      "GSEA analysis...\n",
      "\n",
      "Warning message in preparePathwaysAndStats(pathways, stats, minSize, maxSize, gseaParam, :\n",
      "“There are ties in the preranked stats (0.54% of the list).\n",
      "The order of those tied genes will be arbitrary, which may produce unexpected results.”\n",
      "no term enriched under specific pvalueCutoff...\n",
      "\n"
     ]
    },
    {
     "name": "stdout",
     "output_type": "stream",
     "text": [
      "[1] \"result\"\n",
      "[1] \"c5\"\n"
     ]
    },
    {
     "name": "stderr",
     "output_type": "stream",
     "text": [
      "Warning message in summary(egmt[[c]]):\n",
      "“summary method to convert the object to data.frame is deprecated, please use as.data.frame instead.”\n",
      "preparing geneSet collections...\n",
      "\n",
      "GSEA analysis...\n",
      "\n",
      "Warning message in preparePathwaysAndStats(pathways, stats, minSize, maxSize, gseaParam, :\n",
      "“There are ties in the preranked stats (0.54% of the list).\n",
      "The order of those tied genes will be arbitrary, which may produce unexpected results.”\n",
      "leading edge analysis...\n",
      "\n",
      "done...\n",
      "\n"
     ]
    },
    {
     "name": "stdout",
     "output_type": "stream",
     "text": [
      "[1] \"result\"\n",
      "[1] \"c7\"\n"
     ]
    },
    {
     "name": "stderr",
     "output_type": "stream",
     "text": [
      "Warning message in summary(egmt[[c]]):\n",
      "“summary method to convert the object to data.frame is deprecated, please use as.data.frame instead.”\n",
      "Saving 6.67 x 6.67 in image\n",
      "\n",
      "Warning message in is.na(egmt[[c]]):\n",
      "“is.na() applied to non-(list or vector) of type 'S4'”\n",
      "Warning message in summary(egmt[[c]]):\n",
      "“summary method to convert the object to data.frame is deprecated, please use as.data.frame instead.”\n",
      "Warning message in is.na(egmt[[c]]):\n",
      "“is.na() applied to non-(list or vector) of type 'S4'”\n",
      "Warning message in summary(egmt[[c]]):\n",
      "“summary method to convert the object to data.frame is deprecated, please use as.data.frame instead.”\n",
      "Warning message in is.na(egmt[[c]]):\n",
      "“is.na() applied to non-(list or vector) of type 'S4'”\n",
      "Warning message in summary(egmt[[c]]):\n",
      "“summary method to convert the object to data.frame is deprecated, please use as.data.frame instead.”\n",
      "Warning message in is.na(egmt[[c]]):\n",
      "“is.na() applied to non-(list or vector) of type 'S4'”\n",
      "Warning message in summary(egmt[[c]]):\n",
      "“summary method to convert the object to data.frame is deprecated, please use as.data.frame instead.”\n"
     ]
    },
    {
     "name": "stdout",
     "output_type": "stream",
     "text": [
      "[1] \"preExcel writing\"\n",
      "[1] \"postExcel writing\"\n",
      "[1] \"Here we go .... :/data/Mito_Trace/output/pipeline/TcellDupi_may17_2021/MTblacklist/data/merged/MT/cellr_True/numread_200/filters/minC10_minR50_topN0_hetT0.001_hetC10_hetCount5_bq20/mgatk/vireoIn/clones/variants_init/knn/kparam_3/concat/gff_hg38_1_2/annotation_clones/de_clone_btwncond_RNA/minPct0.01_logfc0.1/GSEA_pctthresh.0.1_pthresh.0.1_pref.FALSE_stat.log2FoldChange_padj.BH/prep/0_23_DE.tsv\"\n",
      "[1] \"Myclass\"\n",
      "[1] 4039    7\n",
      "[1] 2864    7\n",
      "[1] \"pvalue\"         \"log2FoldChange\" \"pct.1\"          \"pct.2\"         \n",
      "[5] \"padj_bonf\"      \"padj\"           \"ensg\"          \n",
      "              pvalue log2FoldChange pct.1 pct.2 padj_bonf       padj\n",
      "CBX5    6.468516e-06      0.5010025 0.568 0.164 0.1266212 0.01739364\n",
      "HNRNPA1 1.487756e-05      0.4652518 0.568 0.179 0.2912283 0.01739364\n",
      "MGRN1   2.608355e-05      0.3906967 0.473 0.134 0.5105854 0.01864130\n",
      "CDK4    5.230812e-05      0.3795235 0.568 0.194 1.0000000 0.02124970\n",
      "MANBA   7.530102e-05      0.3877690 0.473 0.134 1.0000000 0.02124970\n",
      "ACOT7   1.407393e-04      0.3001385 0.405 0.104 1.0000000 0.02642602\n",
      "                   ensg\n",
      "CBX5    ENSG00000094916\n",
      "HNRNPA1 ENSG00000135486\n",
      "MGRN1   ENSG00000102858\n",
      "CDK4    ENSG00000135446\n",
      "MANBA   ENSG00000109323\n",
      "ACOT7   ENSG00000097021\n",
      "[1] \"here\"\n",
      "             Gene log2FoldChange\n",
      "CBX5         CBX5      0.5010025\n",
      "HNRNPA1   HNRNPA1      0.4652518\n",
      "CELF4       CELF4      0.4394858\n",
      "C14orf37 C14orf37      0.4214379\n",
      "FBXL19     FBXL19      0.4125130\n",
      "MNAT1       MNAT1      0.4115809\n"
     ]
    },
    {
     "name": "stderr",
     "output_type": "stream",
     "text": [
      "preparing geneSet collections...\n",
      "\n",
      "GSEA analysis...\n",
      "\n",
      "Warning message in preparePathwaysAndStats(pathways, stats, minSize, maxSize, gseaParam, :\n",
      "“There are ties in the preranked stats (1.08% of the list).\n",
      "The order of those tied genes will be arbitrary, which may produce unexpected results.”\n",
      "leading edge analysis...\n",
      "\n",
      "done...\n",
      "\n"
     ]
    },
    {
     "name": "stdout",
     "output_type": "stream",
     "text": [
      "[1] \"result\"\n",
      "[1] \"c0\"\n"
     ]
    },
    {
     "name": "stderr",
     "output_type": "stream",
     "text": [
      "Warning message in summary(egmt[[c]]):\n",
      "“summary method to convert the object to data.frame is deprecated, please use as.data.frame instead.”\n",
      "Saving 6.67 x 6.67 in image\n",
      "\n",
      "preparing geneSet collections...\n",
      "\n",
      "GSEA analysis...\n",
      "\n",
      "Warning message in preparePathwaysAndStats(pathways, stats, minSize, maxSize, gseaParam, :\n",
      "“There are ties in the preranked stats (1.08% of the list).\n",
      "The order of those tied genes will be arbitrary, which may produce unexpected results.”\n",
      "leading edge analysis...\n",
      "\n",
      "done...\n",
      "\n"
     ]
    },
    {
     "name": "stdout",
     "output_type": "stream",
     "text": [
      "[1] \"result\"\n",
      "[1] \"c2\"\n"
     ]
    },
    {
     "name": "stderr",
     "output_type": "stream",
     "text": [
      "Warning message in summary(egmt[[c]]):\n",
      "“summary method to convert the object to data.frame is deprecated, please use as.data.frame instead.”\n",
      "Saving 6.67 x 6.67 in image\n",
      "\n",
      "preparing geneSet collections...\n",
      "\n",
      "GSEA analysis...\n",
      "\n",
      "Warning message in preparePathwaysAndStats(pathways, stats, minSize, maxSize, gseaParam, :\n",
      "“There are ties in the preranked stats (1.08% of the list).\n",
      "The order of those tied genes will be arbitrary, which may produce unexpected results.”\n",
      "no term enriched under specific pvalueCutoff...\n",
      "\n"
     ]
    },
    {
     "name": "stdout",
     "output_type": "stream",
     "text": [
      "[1] \"result\"\n",
      "[1] \"c5\"\n"
     ]
    },
    {
     "name": "stderr",
     "output_type": "stream",
     "text": [
      "Warning message in summary(egmt[[c]]):\n",
      "“summary method to convert the object to data.frame is deprecated, please use as.data.frame instead.”\n",
      "preparing geneSet collections...\n",
      "\n",
      "GSEA analysis...\n",
      "\n",
      "Warning message in preparePathwaysAndStats(pathways, stats, minSize, maxSize, gseaParam, :\n",
      "“There are ties in the preranked stats (1.08% of the list).\n",
      "The order of those tied genes will be arbitrary, which may produce unexpected results.”\n",
      "leading edge analysis...\n",
      "\n",
      "done...\n",
      "\n"
     ]
    },
    {
     "name": "stdout",
     "output_type": "stream",
     "text": [
      "[1] \"result\"\n",
      "[1] \"c7\"\n"
     ]
    },
    {
     "name": "stderr",
     "output_type": "stream",
     "text": [
      "Warning message in summary(egmt[[c]]):\n",
      "“summary method to convert the object to data.frame is deprecated, please use as.data.frame instead.”\n",
      "Saving 6.67 x 6.67 in image\n",
      "\n",
      "Warning message in is.na(egmt[[c]]):\n",
      "“is.na() applied to non-(list or vector) of type 'S4'”\n",
      "Warning message in summary(egmt[[c]]):\n",
      "“summary method to convert the object to data.frame is deprecated, please use as.data.frame instead.”\n",
      "Warning message in is.na(egmt[[c]]):\n",
      "“is.na() applied to non-(list or vector) of type 'S4'”\n",
      "Warning message in summary(egmt[[c]]):\n",
      "“summary method to convert the object to data.frame is deprecated, please use as.data.frame instead.”\n",
      "Warning message in is.na(egmt[[c]]):\n",
      "“is.na() applied to non-(list or vector) of type 'S4'”\n",
      "Warning message in summary(egmt[[c]]):\n",
      "“summary method to convert the object to data.frame is deprecated, please use as.data.frame instead.”\n",
      "Warning message in is.na(egmt[[c]]):\n",
      "“is.na() applied to non-(list or vector) of type 'S4'”\n",
      "Warning message in summary(egmt[[c]]):\n",
      "“summary method to convert the object to data.frame is deprecated, please use as.data.frame instead.”\n"
     ]
    },
    {
     "name": "stdout",
     "output_type": "stream",
     "text": [
      "[1] \"preExcel writing\"\n",
      "[1] \"postExcel writing\"\n",
      "[1] \"Here we go .... :/data/Mito_Trace/output/pipeline/TcellDupi_may17_2021/MTblacklist/data/merged/MT/cellr_True/numread_200/filters/minC10_minR50_topN0_hetT0.001_hetC10_hetCount5_bq20/mgatk/vireoIn/clones/variants_init/knn/kparam_3/concat/gff_hg38_1_2/annotation_clones/de_clone_btwncond_RNA/minPct0.01_logfc0.1/GSEA_pctthresh.0.1_pthresh.0.1_pref.FALSE_stat.log2FoldChange_padj.BH/prep/0_29_DE.tsv\"\n",
      "[1] \"Myclass\"\n",
      "[1] 4459    7\n",
      "[1] 3141    7\n",
      "[1] \"pvalue\"         \"log2FoldChange\" \"pct.1\"          \"pct.2\"         \n",
      "[5] \"padj_bonf\"      \"padj\"           \"ensg\"          \n",
      "               pvalue log2FoldChange pct.1 pct.2 padj_bonf       padj\n",
      "TMEM102  9.899925e-05      0.2986544 0.458 0.107         1 0.05341283\n",
      "KCNA2    1.015418e-04      0.2446546 0.542 0.143         1 0.05341283\n",
      "PICALM   1.152517e-04      0.3578398 0.508 0.143         1 0.05341283\n",
      "USP47    1.376029e-04      0.3657913 0.441 0.125         1 0.05341283\n",
      "TSNAXIP1 1.821008e-04      0.3368727 0.458 0.125         1 0.05341283\n",
      "TMEM116  1.987736e-04      0.4674041 0.525 0.179         1 0.05341283\n",
      "                    ensg\n",
      "TMEM102  ENSG00000181284\n",
      "KCNA2    ENSG00000177301\n",
      "PICALM   ENSG00000073921\n",
      "USP47    ENSG00000170242\n",
      "TSNAXIP1 ENSG00000102904\n",
      "TMEM116  ENSG00000198270\n",
      "[1] \"here\"\n",
      "           Gene log2FoldChange\n",
      "TMEM116 TMEM116      0.4674041\n",
      "KLF3       KLF3      0.4484592\n",
      "RALGPS1 RALGPS1      0.4192576\n",
      "TTC13     TTC13      0.4088419\n",
      "DDX42     DDX42      0.4042949\n",
      "ARV1       ARV1      0.3981412\n"
     ]
    },
    {
     "name": "stderr",
     "output_type": "stream",
     "text": [
      "preparing geneSet collections...\n",
      "\n",
      "GSEA analysis...\n",
      "\n",
      "Warning message in preparePathwaysAndStats(pathways, stats, minSize, maxSize, gseaParam, :\n",
      "“There are ties in the preranked stats (0.86% of the list).\n",
      "The order of those tied genes will be arbitrary, which may produce unexpected results.”\n",
      "no term enriched under specific pvalueCutoff...\n",
      "\n"
     ]
    },
    {
     "name": "stdout",
     "output_type": "stream",
     "text": [
      "[1] \"result\"\n",
      "[1] \"c0\"\n"
     ]
    },
    {
     "name": "stderr",
     "output_type": "stream",
     "text": [
      "Warning message in summary(egmt[[c]]):\n",
      "“summary method to convert the object to data.frame is deprecated, please use as.data.frame instead.”\n",
      "preparing geneSet collections...\n",
      "\n",
      "GSEA analysis...\n",
      "\n",
      "Warning message in preparePathwaysAndStats(pathways, stats, minSize, maxSize, gseaParam, :\n",
      "“There are ties in the preranked stats (0.86% of the list).\n",
      "The order of those tied genes will be arbitrary, which may produce unexpected results.”\n",
      "leading edge analysis...\n",
      "\n",
      "done...\n",
      "\n"
     ]
    },
    {
     "name": "stdout",
     "output_type": "stream",
     "text": [
      "[1] \"result\"\n",
      "[1] \"c2\"\n"
     ]
    },
    {
     "name": "stderr",
     "output_type": "stream",
     "text": [
      "Warning message in summary(egmt[[c]]):\n",
      "“summary method to convert the object to data.frame is deprecated, please use as.data.frame instead.”\n",
      "Saving 6.67 x 6.67 in image\n",
      "\n",
      "preparing geneSet collections...\n",
      "\n",
      "GSEA analysis...\n",
      "\n",
      "Warning message in preparePathwaysAndStats(pathways, stats, minSize, maxSize, gseaParam, :\n",
      "“There are ties in the preranked stats (0.86% of the list).\n",
      "The order of those tied genes will be arbitrary, which may produce unexpected results.”\n",
      "leading edge analysis...\n",
      "\n",
      "done...\n",
      "\n"
     ]
    },
    {
     "name": "stdout",
     "output_type": "stream",
     "text": [
      "[1] \"result\"\n",
      "[1] \"c5\"\n"
     ]
    },
    {
     "name": "stderr",
     "output_type": "stream",
     "text": [
      "Warning message in summary(egmt[[c]]):\n",
      "“summary method to convert the object to data.frame is deprecated, please use as.data.frame instead.”\n",
      "Saving 6.67 x 6.67 in image\n",
      "\n",
      "preparing geneSet collections...\n",
      "\n",
      "GSEA analysis...\n",
      "\n",
      "Warning message in preparePathwaysAndStats(pathways, stats, minSize, maxSize, gseaParam, :\n",
      "“There are ties in the preranked stats (0.86% of the list).\n",
      "The order of those tied genes will be arbitrary, which may produce unexpected results.”\n",
      "leading edge analysis...\n",
      "\n",
      "done...\n",
      "\n"
     ]
    },
    {
     "name": "stdout",
     "output_type": "stream",
     "text": [
      "[1] \"result\"\n",
      "[1] \"c7\"\n"
     ]
    },
    {
     "name": "stderr",
     "output_type": "stream",
     "text": [
      "Warning message in summary(egmt[[c]]):\n",
      "“summary method to convert the object to data.frame is deprecated, please use as.data.frame instead.”\n",
      "Saving 6.67 x 6.67 in image\n",
      "\n",
      "Warning message in is.na(egmt[[c]]):\n",
      "“is.na() applied to non-(list or vector) of type 'S4'”\n",
      "Warning message in summary(egmt[[c]]):\n",
      "“summary method to convert the object to data.frame is deprecated, please use as.data.frame instead.”\n",
      "Warning message in is.na(egmt[[c]]):\n",
      "“is.na() applied to non-(list or vector) of type 'S4'”\n",
      "Warning message in summary(egmt[[c]]):\n",
      "“summary method to convert the object to data.frame is deprecated, please use as.data.frame instead.”\n",
      "Warning message in is.na(egmt[[c]]):\n",
      "“is.na() applied to non-(list or vector) of type 'S4'”\n",
      "Warning message in summary(egmt[[c]]):\n",
      "“summary method to convert the object to data.frame is deprecated, please use as.data.frame instead.”\n",
      "Warning message in is.na(egmt[[c]]):\n",
      "“is.na() applied to non-(list or vector) of type 'S4'”\n",
      "Warning message in summary(egmt[[c]]):\n",
      "“summary method to convert the object to data.frame is deprecated, please use as.data.frame instead.”\n"
     ]
    },
    {
     "name": "stdout",
     "output_type": "stream",
     "text": [
      "[1] \"preExcel writing\"\n",
      "[1] \"postExcel writing\"\n",
      "[1] \"Here we go .... :/data/Mito_Trace/output/pipeline/TcellDupi_may17_2021/MTblacklist/data/merged/MT/cellr_True/numread_200/filters/minC10_minR50_topN0_hetT0.001_hetC10_hetCount5_bq20/mgatk/vireoIn/clones/variants_init/knn/kparam_3/concat/gff_hg38_1_2/annotation_clones/de_clone_btwncond_RNA/minPct0.01_logfc0.1/GSEA_pctthresh.0.1_pthresh.0.1_pref.FALSE_stat.log2FoldChange_padj.BH/prep/0_3_DE.tsv\"\n",
      "[1] \"Myclass\"\n",
      "[1] 2228    7\n",
      "[1] 1871    7\n",
      "[1] \"pvalue\"         \"log2FoldChange\" \"pct.1\"          \"pct.2\"         \n",
      "[5] \"padj_bonf\"      \"padj\"           \"ensg\"          \n",
      "                    pvalue log2FoldChange pct.1 pct.2   padj_bonf         padj\n",
      "SYNGAP1       1.259358e-07      0.3988700 0.658 0.267 0.002465194 0.0002071352\n",
      "LRRC45        1.859383e-07      0.2902486 0.513 0.178 0.003639742 0.0002071352\n",
      "CTD-2515O10.6 3.240497e-07      0.2734597 0.436 0.126 0.006343273 0.0002406609\n",
      "FAM102A       6.314500e-07      0.2104005 0.504 0.170 0.012360634 0.0002905858\n",
      "PHB           8.236263e-07      0.2231716 0.393 0.104 0.016122485 0.0002905858\n",
      "STRA13        9.129716e-07      0.2528691 0.496 0.178 0.017871419 0.0002905858\n",
      "                         ensg\n",
      "SYNGAP1       ENSG00000197283\n",
      "LRRC45        ENSG00000169683\n",
      "CTD-2515O10.6            <NA>\n",
      "FAM102A       ENSG00000167106\n",
      "PHB           ENSG00000167085\n",
      "STRA13                   <NA>\n",
      "[1] \"here\"\n",
      "           Gene log2FoldChange\n",
      "SYNGAP1 SYNGAP1      0.3988700\n",
      "PPP1R11 PPP1R11      0.3603451\n",
      "SMAD3     SMAD3      0.3525381\n",
      "SRF         SRF      0.3182521\n",
      "TBC1D2B TBC1D2B      0.3015877\n",
      "LRRC45   LRRC45      0.2902486\n"
     ]
    },
    {
     "name": "stderr",
     "output_type": "stream",
     "text": [
      "preparing geneSet collections...\n",
      "\n",
      "GSEA analysis...\n",
      "\n",
      "Warning message in preparePathwaysAndStats(pathways, stats, minSize, maxSize, gseaParam, :\n",
      "“There are ties in the preranked stats (0.32% of the list).\n",
      "The order of those tied genes will be arbitrary, which may produce unexpected results.”\n",
      "leading edge analysis...\n",
      "\n",
      "done...\n",
      "\n"
     ]
    },
    {
     "name": "stdout",
     "output_type": "stream",
     "text": [
      "[1] \"result\"\n",
      "[1] \"c0\"\n"
     ]
    },
    {
     "name": "stderr",
     "output_type": "stream",
     "text": [
      "Warning message in summary(egmt[[c]]):\n",
      "“summary method to convert the object to data.frame is deprecated, please use as.data.frame instead.”\n",
      "Saving 6.67 x 6.67 in image\n",
      "\n",
      "preparing geneSet collections...\n",
      "\n",
      "GSEA analysis...\n",
      "\n",
      "Warning message in preparePathwaysAndStats(pathways, stats, minSize, maxSize, gseaParam, :\n",
      "“There are ties in the preranked stats (0.32% of the list).\n",
      "The order of those tied genes will be arbitrary, which may produce unexpected results.”\n",
      "Warning message in fgseaMultilevel(...):\n",
      "“For some pathways, in reality P-values are less than 1e-10. You can set the `eps` argument to zero for better estimation.”\n",
      "leading edge analysis...\n",
      "\n",
      "done...\n",
      "\n"
     ]
    },
    {
     "name": "stdout",
     "output_type": "stream",
     "text": [
      "[1] \"result\"\n",
      "[1] \"c2\"\n"
     ]
    },
    {
     "name": "stderr",
     "output_type": "stream",
     "text": [
      "Warning message in summary(egmt[[c]]):\n",
      "“summary method to convert the object to data.frame is deprecated, please use as.data.frame instead.”\n",
      "Saving 6.67 x 6.67 in image\n",
      "\n",
      "preparing geneSet collections...\n",
      "\n",
      "GSEA analysis...\n",
      "\n",
      "Warning message in preparePathwaysAndStats(pathways, stats, minSize, maxSize, gseaParam, :\n",
      "“There are ties in the preranked stats (0.32% of the list).\n",
      "The order of those tied genes will be arbitrary, which may produce unexpected results.”\n",
      "no term enriched under specific pvalueCutoff...\n",
      "\n"
     ]
    },
    {
     "name": "stdout",
     "output_type": "stream",
     "text": [
      "[1] \"result\"\n",
      "[1] \"c5\"\n"
     ]
    },
    {
     "name": "stderr",
     "output_type": "stream",
     "text": [
      "Warning message in summary(egmt[[c]]):\n",
      "“summary method to convert the object to data.frame is deprecated, please use as.data.frame instead.”\n",
      "preparing geneSet collections...\n",
      "\n",
      "GSEA analysis...\n",
      "\n",
      "Warning message in preparePathwaysAndStats(pathways, stats, minSize, maxSize, gseaParam, :\n",
      "“There are ties in the preranked stats (0.32% of the list).\n",
      "The order of those tied genes will be arbitrary, which may produce unexpected results.”\n",
      "leading edge analysis...\n",
      "\n",
      "done...\n",
      "\n"
     ]
    },
    {
     "name": "stdout",
     "output_type": "stream",
     "text": [
      "[1] \"result\"\n",
      "[1] \"c7\"\n"
     ]
    },
    {
     "name": "stderr",
     "output_type": "stream",
     "text": [
      "Warning message in summary(egmt[[c]]):\n",
      "“summary method to convert the object to data.frame is deprecated, please use as.data.frame instead.”\n",
      "Saving 6.67 x 6.67 in image\n",
      "\n",
      "Warning message in is.na(egmt[[c]]):\n",
      "“is.na() applied to non-(list or vector) of type 'S4'”\n",
      "Warning message in summary(egmt[[c]]):\n",
      "“summary method to convert the object to data.frame is deprecated, please use as.data.frame instead.”\n",
      "Warning message in is.na(egmt[[c]]):\n",
      "“is.na() applied to non-(list or vector) of type 'S4'”\n",
      "Warning message in summary(egmt[[c]]):\n",
      "“summary method to convert the object to data.frame is deprecated, please use as.data.frame instead.”\n",
      "Warning message in is.na(egmt[[c]]):\n",
      "“is.na() applied to non-(list or vector) of type 'S4'”\n",
      "Warning message in summary(egmt[[c]]):\n",
      "“summary method to convert the object to data.frame is deprecated, please use as.data.frame instead.”\n",
      "Warning message in is.na(egmt[[c]]):\n",
      "“is.na() applied to non-(list or vector) of type 'S4'”\n",
      "Warning message in summary(egmt[[c]]):\n",
      "“summary method to convert the object to data.frame is deprecated, please use as.data.frame instead.”\n"
     ]
    },
    {
     "name": "stdout",
     "output_type": "stream",
     "text": [
      "[1] \"preExcel writing\"\n",
      "[1] \"postExcel writing\"\n",
      "[1] \"Here we go .... :/data/Mito_Trace/output/pipeline/TcellDupi_may17_2021/MTblacklist/data/merged/MT/cellr_True/numread_200/filters/minC10_minR50_topN0_hetT0.001_hetC10_hetCount5_bq20/mgatk/vireoIn/clones/variants_init/knn/kparam_3/concat/gff_hg38_1_2/annotation_clones/de_clone_btwncond_RNA/minPct0.01_logfc0.1/GSEA_pctthresh.0.1_pthresh.0.1_pref.FALSE_stat.log2FoldChange_padj.BH/prep/0_32_DE.tsv\"\n",
      "[1] \"Myclass\"\n",
      "[1] 4597    7\n",
      "[1] 2988    7\n",
      "[1] \"pvalue\"         \"log2FoldChange\" \"pct.1\"          \"pct.2\"         \n",
      "[5] \"padj_bonf\"      \"padj\"           \"ensg\"          \n",
      "                 pvalue log2FoldChange pct.1 pct.2 padj_bonf       padj\n",
      "TBC1D14    2.347291e-05      0.3114760 0.638 0.173 0.4594823 0.01707104\n",
      "C14orf80   5.373938e-05      0.3843663 0.586 0.173 1.0000000 0.01738750\n",
      "CBX5       6.547543e-05      0.3658636 0.707 0.212 1.0000000 0.01851273\n",
      "AL928654.7 7.898116e-05      0.3472999 0.655 0.212 1.0000000 0.01851273\n",
      "ZMYM5      8.963750e-05      0.2602647 0.534 0.135 1.0000000 0.01851273\n",
      "CCNK       1.302200e-04      0.3193528 0.586 0.154 1.0000000 0.01883748\n",
      "                      ensg\n",
      "TBC1D14    ENSG00000132405\n",
      "C14orf80              <NA>\n",
      "CBX5       ENSG00000094916\n",
      "AL928654.7            <NA>\n",
      "ZMYM5      ENSG00000132950\n",
      "CCNK       ENSG00000090061\n",
      "[1] \"here\"\n",
      "                 Gene log2FoldChange\n",
      "AC104532.2 AC104532.2      0.4047254\n",
      "VMAC             VMAC      0.4047254\n",
      "STAT3           STAT3      0.3966147\n",
      "C14orf80     C14orf80      0.3843663\n",
      "CHD8             CHD8      0.3830616\n",
      "ELL               ELL      0.3818352\n"
     ]
    },
    {
     "name": "stderr",
     "output_type": "stream",
     "text": [
      "preparing geneSet collections...\n",
      "\n",
      "GSEA analysis...\n",
      "\n",
      "Warning message in preparePathwaysAndStats(pathways, stats, minSize, maxSize, gseaParam, :\n",
      "“There are ties in the preranked stats (0.77% of the list).\n",
      "The order of those tied genes will be arbitrary, which may produce unexpected results.”\n",
      "no term enriched under specific pvalueCutoff...\n",
      "\n"
     ]
    },
    {
     "name": "stdout",
     "output_type": "stream",
     "text": [
      "[1] \"result\"\n",
      "[1] \"c0\"\n"
     ]
    },
    {
     "name": "stderr",
     "output_type": "stream",
     "text": [
      "Warning message in summary(egmt[[c]]):\n",
      "“summary method to convert the object to data.frame is deprecated, please use as.data.frame instead.”\n",
      "preparing geneSet collections...\n",
      "\n",
      "GSEA analysis...\n",
      "\n",
      "Warning message in preparePathwaysAndStats(pathways, stats, minSize, maxSize, gseaParam, :\n",
      "“There are ties in the preranked stats (0.77% of the list).\n",
      "The order of those tied genes will be arbitrary, which may produce unexpected results.”\n",
      "leading edge analysis...\n",
      "\n",
      "done...\n",
      "\n"
     ]
    },
    {
     "name": "stdout",
     "output_type": "stream",
     "text": [
      "[1] \"result\"\n",
      "[1] \"c2\"\n"
     ]
    },
    {
     "name": "stderr",
     "output_type": "stream",
     "text": [
      "Warning message in summary(egmt[[c]]):\n",
      "“summary method to convert the object to data.frame is deprecated, please use as.data.frame instead.”\n",
      "Saving 6.67 x 6.67 in image\n",
      "\n",
      "preparing geneSet collections...\n",
      "\n",
      "GSEA analysis...\n",
      "\n",
      "Warning message in preparePathwaysAndStats(pathways, stats, minSize, maxSize, gseaParam, :\n",
      "“There are ties in the preranked stats (0.77% of the list).\n",
      "The order of those tied genes will be arbitrary, which may produce unexpected results.”\n",
      "leading edge analysis...\n",
      "\n",
      "done...\n",
      "\n"
     ]
    },
    {
     "name": "stdout",
     "output_type": "stream",
     "text": [
      "[1] \"result\"\n",
      "[1] \"c5\"\n"
     ]
    },
    {
     "name": "stderr",
     "output_type": "stream",
     "text": [
      "Warning message in summary(egmt[[c]]):\n",
      "“summary method to convert the object to data.frame is deprecated, please use as.data.frame instead.”\n",
      "Saving 6.67 x 6.67 in image\n",
      "\n",
      "preparing geneSet collections...\n",
      "\n",
      "GSEA analysis...\n",
      "\n",
      "Warning message in preparePathwaysAndStats(pathways, stats, minSize, maxSize, gseaParam, :\n",
      "“There are ties in the preranked stats (0.77% of the list).\n",
      "The order of those tied genes will be arbitrary, which may produce unexpected results.”\n",
      "leading edge analysis...\n",
      "\n",
      "done...\n",
      "\n"
     ]
    },
    {
     "name": "stdout",
     "output_type": "stream",
     "text": [
      "[1] \"result\"\n",
      "[1] \"c7\"\n"
     ]
    },
    {
     "name": "stderr",
     "output_type": "stream",
     "text": [
      "Warning message in summary(egmt[[c]]):\n",
      "“summary method to convert the object to data.frame is deprecated, please use as.data.frame instead.”\n",
      "Saving 6.67 x 6.67 in image\n",
      "\n",
      "Warning message in is.na(egmt[[c]]):\n",
      "“is.na() applied to non-(list or vector) of type 'S4'”\n",
      "Warning message in summary(egmt[[c]]):\n",
      "“summary method to convert the object to data.frame is deprecated, please use as.data.frame instead.”\n",
      "Warning message in is.na(egmt[[c]]):\n",
      "“is.na() applied to non-(list or vector) of type 'S4'”\n",
      "Warning message in summary(egmt[[c]]):\n",
      "“summary method to convert the object to data.frame is deprecated, please use as.data.frame instead.”\n",
      "Warning message in is.na(egmt[[c]]):\n",
      "“is.na() applied to non-(list or vector) of type 'S4'”\n",
      "Warning message in summary(egmt[[c]]):\n",
      "“summary method to convert the object to data.frame is deprecated, please use as.data.frame instead.”\n",
      "Warning message in is.na(egmt[[c]]):\n",
      "“is.na() applied to non-(list or vector) of type 'S4'”\n",
      "Warning message in summary(egmt[[c]]):\n",
      "“summary method to convert the object to data.frame is deprecated, please use as.data.frame instead.”\n"
     ]
    },
    {
     "name": "stdout",
     "output_type": "stream",
     "text": [
      "[1] \"preExcel writing\"\n",
      "[1] \"postExcel writing\"\n",
      "[1] \"Here we go .... :/data/Mito_Trace/output/pipeline/TcellDupi_may17_2021/MTblacklist/data/merged/MT/cellr_True/numread_200/filters/minC10_minR50_topN0_hetT0.001_hetC10_hetCount5_bq20/mgatk/vireoIn/clones/variants_init/knn/kparam_3/concat/gff_hg38_1_2/annotation_clones/de_clone_btwncond_RNA/minPct0.01_logfc0.1/GSEA_pctthresh.0.1_pthresh.0.1_pref.FALSE_stat.log2FoldChange_padj.BH/prep/0_4_DE.tsv\"\n",
      "[1] \"Myclass\"\n",
      "[1] 2905    7\n",
      "[1] 2214    7\n",
      "[1] \"pvalue\"         \"log2FoldChange\" \"pct.1\"          \"pct.2\"         \n",
      "[5] \"padj_bonf\"      \"padj\"           \"ensg\"          \n",
      "                    pvalue log2FoldChange pct.1 pct.2   padj_bonf         padj\n",
      "DNM1L         4.825183e-07      0.2156346 0.462 0.121 0.009445297 0.0002735145\n",
      "SH3GL1        1.525686e-06      0.2755798 0.477 0.144 0.029865302 0.0004689310\n",
      "ZNF48         2.226936e-06      0.2375117 0.600 0.207 0.043592267 0.0004689310\n",
      "C7orf60       2.775522e-06      0.2283568 0.554 0.184 0.054330836 0.0004689310\n",
      "RP4-583P15.15 5.363120e-06      0.2876374 0.415 0.126 0.104983075 0.0006773854\n",
      "EIF4B         7.739869e-06      0.3083769 0.508 0.172 0.151507931 0.0008648901\n",
      "                         ensg\n",
      "DNM1L         ENSG00000087470\n",
      "SH3GL1        ENSG00000141985\n",
      "ZNF48         ENSG00000180035\n",
      "C7orf60                  <NA>\n",
      "RP4-583P15.15            <NA>\n",
      "EIF4B         ENSG00000063046\n",
      "[1] \"here\"\n",
      "         Gene log2FoldChange\n",
      "LRCH4   LRCH4      0.3465653\n",
      "FBXO24 FBXO24      0.3178750\n",
      "KLF16   KLF16      0.3144430\n",
      "USHBP1 USHBP1      0.3140566\n",
      "RAB11B RAB11B      0.3119399\n",
      "PPM1B   PPM1B      0.3112863\n"
     ]
    },
    {
     "name": "stderr",
     "output_type": "stream",
     "text": [
      "preparing geneSet collections...\n",
      "\n",
      "GSEA analysis...\n",
      "\n",
      "Warning message in preparePathwaysAndStats(pathways, stats, minSize, maxSize, gseaParam, :\n",
      "“There are ties in the preranked stats (0.32% of the list).\n",
      "The order of those tied genes will be arbitrary, which may produce unexpected results.”\n",
      "leading edge analysis...\n",
      "\n",
      "done...\n",
      "\n"
     ]
    },
    {
     "name": "stdout",
     "output_type": "stream",
     "text": [
      "[1] \"result\"\n",
      "[1] \"c0\"\n"
     ]
    },
    {
     "name": "stderr",
     "output_type": "stream",
     "text": [
      "Warning message in summary(egmt[[c]]):\n",
      "“summary method to convert the object to data.frame is deprecated, please use as.data.frame instead.”\n",
      "Saving 6.67 x 6.67 in image\n",
      "\n",
      "preparing geneSet collections...\n",
      "\n",
      "GSEA analysis...\n",
      "\n",
      "Warning message in preparePathwaysAndStats(pathways, stats, minSize, maxSize, gseaParam, :\n",
      "“There are ties in the preranked stats (0.32% of the list).\n",
      "The order of those tied genes will be arbitrary, which may produce unexpected results.”\n",
      "leading edge analysis...\n",
      "\n",
      "done...\n",
      "\n"
     ]
    },
    {
     "name": "stdout",
     "output_type": "stream",
     "text": [
      "[1] \"result\"\n",
      "[1] \"c2\"\n"
     ]
    },
    {
     "name": "stderr",
     "output_type": "stream",
     "text": [
      "Warning message in summary(egmt[[c]]):\n",
      "“summary method to convert the object to data.frame is deprecated, please use as.data.frame instead.”\n",
      "Saving 6.67 x 6.67 in image\n",
      "\n",
      "preparing geneSet collections...\n",
      "\n",
      "GSEA analysis...\n",
      "\n",
      "Warning message in preparePathwaysAndStats(pathways, stats, minSize, maxSize, gseaParam, :\n",
      "“There are ties in the preranked stats (0.32% of the list).\n",
      "The order of those tied genes will be arbitrary, which may produce unexpected results.”\n",
      "leading edge analysis...\n",
      "\n",
      "done...\n",
      "\n"
     ]
    },
    {
     "name": "stdout",
     "output_type": "stream",
     "text": [
      "[1] \"result\"\n",
      "[1] \"c5\"\n"
     ]
    },
    {
     "name": "stderr",
     "output_type": "stream",
     "text": [
      "Warning message in summary(egmt[[c]]):\n",
      "“summary method to convert the object to data.frame is deprecated, please use as.data.frame instead.”\n",
      "Saving 6.67 x 6.67 in image\n",
      "\n",
      "preparing geneSet collections...\n",
      "\n",
      "GSEA analysis...\n",
      "\n",
      "Warning message in preparePathwaysAndStats(pathways, stats, minSize, maxSize, gseaParam, :\n",
      "“There are ties in the preranked stats (0.32% of the list).\n",
      "The order of those tied genes will be arbitrary, which may produce unexpected results.”\n",
      "leading edge analysis...\n",
      "\n",
      "done...\n",
      "\n"
     ]
    },
    {
     "name": "stdout",
     "output_type": "stream",
     "text": [
      "[1] \"result\"\n",
      "[1] \"c7\"\n"
     ]
    },
    {
     "name": "stderr",
     "output_type": "stream",
     "text": [
      "Warning message in summary(egmt[[c]]):\n",
      "“summary method to convert the object to data.frame is deprecated, please use as.data.frame instead.”\n",
      "Saving 6.67 x 6.67 in image\n",
      "\n",
      "Warning message in is.na(egmt[[c]]):\n",
      "“is.na() applied to non-(list or vector) of type 'S4'”\n",
      "Warning message in summary(egmt[[c]]):\n",
      "“summary method to convert the object to data.frame is deprecated, please use as.data.frame instead.”\n",
      "Warning message in is.na(egmt[[c]]):\n",
      "“is.na() applied to non-(list or vector) of type 'S4'”\n",
      "Warning message in summary(egmt[[c]]):\n",
      "“summary method to convert the object to data.frame is deprecated, please use as.data.frame instead.”\n",
      "Warning message in is.na(egmt[[c]]):\n",
      "“is.na() applied to non-(list or vector) of type 'S4'”\n",
      "Warning message in summary(egmt[[c]]):\n",
      "“summary method to convert the object to data.frame is deprecated, please use as.data.frame instead.”\n",
      "Warning message in is.na(egmt[[c]]):\n",
      "“is.na() applied to non-(list or vector) of type 'S4'”\n",
      "Warning message in summary(egmt[[c]]):\n",
      "“summary method to convert the object to data.frame is deprecated, please use as.data.frame instead.”\n"
     ]
    },
    {
     "name": "stdout",
     "output_type": "stream",
     "text": [
      "[1] \"preExcel writing\"\n",
      "[1] \"postExcel writing\"\n",
      "[1] \"Here we go .... :/data/Mito_Trace/output/pipeline/TcellDupi_may17_2021/MTblacklist/data/merged/MT/cellr_True/numread_200/filters/minC10_minR50_topN0_hetT0.001_hetC10_hetCount5_bq20/mgatk/vireoIn/clones/variants_init/knn/kparam_3/concat/gff_hg38_1_2/annotation_clones/de_clone_btwncond_RNA/minPct0.01_logfc0.1/GSEA_pctthresh.0.1_pthresh.0.1_pref.FALSE_stat.log2FoldChange_padj.BH/prep/0_5_DE.tsv\"\n",
      "[1] \"Myclass\"\n",
      "[1] 3050    7\n",
      "[1] 2325    7\n",
      "[1] \"pvalue\"         \"log2FoldChange\" \"pct.1\"          \"pct.2\"         \n",
      "[5] \"padj_bonf\"      \"padj\"           \"ensg\"          \n",
      "                  pvalue log2FoldChange pct.1 pct.2  padj_bonf        padj\n",
      "SLC3A2      3.571041e-06      0.3066349 0.471 0.113 0.06990314 0.003630559\n",
      "CTC-429P9.4 1.104768e-05      0.4004124 0.622 0.258 0.21625831 0.005925135\n",
      "CDC25C      1.165600e-05      0.3021923 0.477 0.129 0.22816625 0.005925135\n",
      "LTBP3       1.798544e-05      0.2496185 0.430 0.113 0.35206506 0.006856950\n",
      "MSMO1       3.146721e-05      0.3269822 0.535 0.194 0.61597058 0.008345919\n",
      "SPG7        3.987457e-05      0.3495385 0.692 0.323 0.78054475 0.008345919\n",
      "                       ensg\n",
      "SLC3A2      ENSG00000168003\n",
      "CTC-429P9.4            <NA>\n",
      "CDC25C      ENSG00000158402\n",
      "LTBP3       ENSG00000168056\n",
      "MSMO1       ENSG00000052802\n",
      "SPG7        ENSG00000197912\n",
      "[1] \"here\"\n",
      "                       Gene log2FoldChange\n",
      "CTC-429P9.4     CTC-429P9.4      0.4004124\n",
      "RP11-500G10.1 RP11-500G10.1      0.3666440\n",
      "RUNX2                 RUNX2      0.3521480\n",
      "SPG7                   SPG7      0.3495385\n",
      "MSMO1                 MSMO1      0.3269822\n",
      "HIPK2                 HIPK2      0.3147539\n"
     ]
    },
    {
     "name": "stderr",
     "output_type": "stream",
     "text": [
      "preparing geneSet collections...\n",
      "\n",
      "GSEA analysis...\n",
      "\n",
      "Warning message in preparePathwaysAndStats(pathways, stats, minSize, maxSize, gseaParam, :\n",
      "“There are ties in the preranked stats (0.34% of the list).\n",
      "The order of those tied genes will be arbitrary, which may produce unexpected results.”\n",
      "leading edge analysis...\n",
      "\n",
      "done...\n",
      "\n"
     ]
    },
    {
     "name": "stdout",
     "output_type": "stream",
     "text": [
      "[1] \"result\"\n",
      "[1] \"c0\"\n"
     ]
    },
    {
     "name": "stderr",
     "output_type": "stream",
     "text": [
      "Warning message in summary(egmt[[c]]):\n",
      "“summary method to convert the object to data.frame is deprecated, please use as.data.frame instead.”\n",
      "Saving 6.67 x 6.67 in image\n",
      "\n",
      "preparing geneSet collections...\n",
      "\n",
      "GSEA analysis...\n",
      "\n",
      "Warning message in preparePathwaysAndStats(pathways, stats, minSize, maxSize, gseaParam, :\n",
      "“There are ties in the preranked stats (0.34% of the list).\n",
      "The order of those tied genes will be arbitrary, which may produce unexpected results.”\n",
      "leading edge analysis...\n",
      "\n",
      "done...\n",
      "\n"
     ]
    },
    {
     "name": "stdout",
     "output_type": "stream",
     "text": [
      "[1] \"result\"\n",
      "[1] \"c2\"\n"
     ]
    },
    {
     "name": "stderr",
     "output_type": "stream",
     "text": [
      "Warning message in summary(egmt[[c]]):\n",
      "“summary method to convert the object to data.frame is deprecated, please use as.data.frame instead.”\n",
      "Saving 6.67 x 6.67 in image\n",
      "\n",
      "preparing geneSet collections...\n",
      "\n",
      "GSEA analysis...\n",
      "\n",
      "Warning message in preparePathwaysAndStats(pathways, stats, minSize, maxSize, gseaParam, :\n",
      "“There are ties in the preranked stats (0.34% of the list).\n",
      "The order of those tied genes will be arbitrary, which may produce unexpected results.”\n",
      "no term enriched under specific pvalueCutoff...\n",
      "\n"
     ]
    },
    {
     "name": "stdout",
     "output_type": "stream",
     "text": [
      "[1] \"result\"\n",
      "[1] \"c5\"\n"
     ]
    },
    {
     "name": "stderr",
     "output_type": "stream",
     "text": [
      "Warning message in summary(egmt[[c]]):\n",
      "“summary method to convert the object to data.frame is deprecated, please use as.data.frame instead.”\n",
      "preparing geneSet collections...\n",
      "\n",
      "GSEA analysis...\n",
      "\n",
      "Warning message in preparePathwaysAndStats(pathways, stats, minSize, maxSize, gseaParam, :\n",
      "“There are ties in the preranked stats (0.34% of the list).\n",
      "The order of those tied genes will be arbitrary, which may produce unexpected results.”\n",
      "leading edge analysis...\n",
      "\n",
      "done...\n",
      "\n"
     ]
    },
    {
     "name": "stdout",
     "output_type": "stream",
     "text": [
      "[1] \"result\"\n",
      "[1] \"c7\"\n"
     ]
    },
    {
     "name": "stderr",
     "output_type": "stream",
     "text": [
      "Warning message in summary(egmt[[c]]):\n",
      "“summary method to convert the object to data.frame is deprecated, please use as.data.frame instead.”\n",
      "Saving 6.67 x 6.67 in image\n",
      "\n",
      "Warning message in is.na(egmt[[c]]):\n",
      "“is.na() applied to non-(list or vector) of type 'S4'”\n",
      "Warning message in summary(egmt[[c]]):\n",
      "“summary method to convert the object to data.frame is deprecated, please use as.data.frame instead.”\n",
      "Warning message in is.na(egmt[[c]]):\n",
      "“is.na() applied to non-(list or vector) of type 'S4'”\n",
      "Warning message in summary(egmt[[c]]):\n",
      "“summary method to convert the object to data.frame is deprecated, please use as.data.frame instead.”\n",
      "Warning message in is.na(egmt[[c]]):\n",
      "“is.na() applied to non-(list or vector) of type 'S4'”\n",
      "Warning message in summary(egmt[[c]]):\n",
      "“summary method to convert the object to data.frame is deprecated, please use as.data.frame instead.”\n",
      "Warning message in is.na(egmt[[c]]):\n",
      "“is.na() applied to non-(list or vector) of type 'S4'”\n",
      "Warning message in summary(egmt[[c]]):\n",
      "“summary method to convert the object to data.frame is deprecated, please use as.data.frame instead.”\n"
     ]
    },
    {
     "name": "stdout",
     "output_type": "stream",
     "text": [
      "[1] \"preExcel writing\"\n",
      "[1] \"postExcel writing\"\n",
      "[1] \"Here we go .... :/data/Mito_Trace/output/pipeline/TcellDupi_may17_2021/MTblacklist/data/merged/MT/cellr_True/numread_200/filters/minC10_minR50_topN0_hetT0.001_hetC10_hetCount5_bq20/mgatk/vireoIn/clones/variants_init/knn/kparam_3/concat/gff_hg38_1_2/annotation_clones/de_clone_btwncond_RNA/minPct0.01_logfc0.1/GSEA_pctthresh.0.1_pthresh.0.1_pref.FALSE_stat.log2FoldChange_padj.BH/prep/0_6_DE.tsv\"\n",
      "[1] \"Myclass\"\n",
      "[1] 2867    7\n",
      "[1] 2244    7\n",
      "[1] \"pvalue\"         \"log2FoldChange\" \"pct.1\"          \"pct.2\"         \n",
      "[5] \"padj_bonf\"      \"padj\"           \"ensg\"          \n",
      "             pvalue log2FoldChange pct.1 pct.2  padj_bonf         padj\n",
      "LENG1  7.268319e-07      0.2808300 0.537 0.178 0.01422773 0.0008716614\n",
      "MAP4K5 9.120978e-07      0.2127239 0.438 0.111 0.01785431 0.0008716614\n",
      "KDM4A  1.804202e-06      0.2265601 0.512 0.156 0.03531725 0.0009204038\n",
      "CCDC9  2.233165e-06      0.2822996 0.462 0.148 0.04371421 0.0009204038\n",
      "DARS2  2.889474e-06      0.2686163 0.438 0.126 0.05656145 0.0009810199\n",
      "ZNF33A 3.590409e-06      0.2494474 0.475 0.148 0.07028225 0.0009810199\n",
      "                  ensg\n",
      "LENG1  ENSG00000105617\n",
      "MAP4K5 ENSG00000012983\n",
      "KDM4A  ENSG00000066135\n",
      "CCDC9  ENSG00000105321\n",
      "DARS2  ENSG00000117593\n",
      "ZNF33A ENSG00000189180\n",
      "[1] \"here\"\n",
      "             Gene log2FoldChange\n",
      "CNNM2       CNNM2      0.3456382\n",
      "CIC           CIC      0.3454027\n",
      "FOSL2       FOSL2      0.3383408\n",
      "AKT1S1     AKT1S1      0.3155872\n",
      "RPTOR       RPTOR      0.3115667\n",
      "RAP1GAP2 RAP1GAP2      0.3087653\n"
     ]
    },
    {
     "name": "stderr",
     "output_type": "stream",
     "text": [
      "preparing geneSet collections...\n",
      "\n",
      "GSEA analysis...\n",
      "\n",
      "Warning message in preparePathwaysAndStats(pathways, stats, minSize, maxSize, gseaParam, :\n",
      "“There are ties in the preranked stats (0.36% of the list).\n",
      "The order of those tied genes will be arbitrary, which may produce unexpected results.”\n",
      "no term enriched under specific pvalueCutoff...\n",
      "\n"
     ]
    },
    {
     "name": "stdout",
     "output_type": "stream",
     "text": [
      "[1] \"result\"\n",
      "[1] \"c0\"\n"
     ]
    },
    {
     "name": "stderr",
     "output_type": "stream",
     "text": [
      "Warning message in summary(egmt[[c]]):\n",
      "“summary method to convert the object to data.frame is deprecated, please use as.data.frame instead.”\n",
      "preparing geneSet collections...\n",
      "\n",
      "GSEA analysis...\n",
      "\n",
      "Warning message in preparePathwaysAndStats(pathways, stats, minSize, maxSize, gseaParam, :\n",
      "“There are ties in the preranked stats (0.36% of the list).\n",
      "The order of those tied genes will be arbitrary, which may produce unexpected results.”\n",
      "Warning message in fgseaMultilevel(...):\n",
      "“For some pathways, in reality P-values are less than 1e-10. You can set the `eps` argument to zero for better estimation.”\n",
      "leading edge analysis...\n",
      "\n",
      "done...\n",
      "\n"
     ]
    },
    {
     "name": "stdout",
     "output_type": "stream",
     "text": [
      "[1] \"result\"\n",
      "[1] \"c2\"\n"
     ]
    },
    {
     "name": "stderr",
     "output_type": "stream",
     "text": [
      "Warning message in summary(egmt[[c]]):\n",
      "“summary method to convert the object to data.frame is deprecated, please use as.data.frame instead.”\n",
      "Saving 6.67 x 6.67 in image\n",
      "\n",
      "preparing geneSet collections...\n",
      "\n",
      "GSEA analysis...\n",
      "\n",
      "Warning message in preparePathwaysAndStats(pathways, stats, minSize, maxSize, gseaParam, :\n",
      "“There are ties in the preranked stats (0.36% of the list).\n",
      "The order of those tied genes will be arbitrary, which may produce unexpected results.”\n",
      "leading edge analysis...\n",
      "\n",
      "done...\n",
      "\n"
     ]
    },
    {
     "name": "stdout",
     "output_type": "stream",
     "text": [
      "[1] \"result\"\n",
      "[1] \"c5\"\n"
     ]
    },
    {
     "name": "stderr",
     "output_type": "stream",
     "text": [
      "Warning message in summary(egmt[[c]]):\n",
      "“summary method to convert the object to data.frame is deprecated, please use as.data.frame instead.”\n",
      "Saving 6.67 x 6.67 in image\n",
      "\n",
      "preparing geneSet collections...\n",
      "\n",
      "GSEA analysis...\n",
      "\n",
      "Warning message in preparePathwaysAndStats(pathways, stats, minSize, maxSize, gseaParam, :\n",
      "“There are ties in the preranked stats (0.36% of the list).\n",
      "The order of those tied genes will be arbitrary, which may produce unexpected results.”\n",
      "leading edge analysis...\n",
      "\n",
      "done...\n",
      "\n"
     ]
    },
    {
     "name": "stdout",
     "output_type": "stream",
     "text": [
      "[1] \"result\"\n",
      "[1] \"c7\"\n"
     ]
    },
    {
     "name": "stderr",
     "output_type": "stream",
     "text": [
      "Warning message in summary(egmt[[c]]):\n",
      "“summary method to convert the object to data.frame is deprecated, please use as.data.frame instead.”\n",
      "Saving 6.67 x 6.67 in image\n",
      "\n",
      "Warning message in is.na(egmt[[c]]):\n",
      "“is.na() applied to non-(list or vector) of type 'S4'”\n",
      "Warning message in summary(egmt[[c]]):\n",
      "“summary method to convert the object to data.frame is deprecated, please use as.data.frame instead.”\n",
      "Warning message in is.na(egmt[[c]]):\n",
      "“is.na() applied to non-(list or vector) of type 'S4'”\n",
      "Warning message in summary(egmt[[c]]):\n",
      "“summary method to convert the object to data.frame is deprecated, please use as.data.frame instead.”\n",
      "Warning message in is.na(egmt[[c]]):\n",
      "“is.na() applied to non-(list or vector) of type 'S4'”\n",
      "Warning message in summary(egmt[[c]]):\n",
      "“summary method to convert the object to data.frame is deprecated, please use as.data.frame instead.”\n",
      "Warning message in is.na(egmt[[c]]):\n",
      "“is.na() applied to non-(list or vector) of type 'S4'”\n",
      "Warning message in summary(egmt[[c]]):\n",
      "“summary method to convert the object to data.frame is deprecated, please use as.data.frame instead.”\n"
     ]
    },
    {
     "name": "stdout",
     "output_type": "stream",
     "text": [
      "[1] \"preExcel writing\"\n",
      "[1] \"postExcel writing\"\n",
      "[1] \"Here we go .... :/data/Mito_Trace/output/pipeline/TcellDupi_may17_2021/MTblacklist/data/merged/MT/cellr_True/numread_200/filters/minC10_minR50_topN0_hetT0.001_hetC10_hetCount5_bq20/mgatk/vireoIn/clones/variants_init/knn/kparam_3/concat/gff_hg38_1_2/annotation_clones/de_clone_btwncond_RNA/minPct0.01_logfc0.1/GSEA_pctthresh.0.1_pthresh.0.1_pref.FALSE_stat.log2FoldChange_padj.BH/prep/0_7_DE.tsv\"\n",
      "[1] \"Myclass\"\n",
      "[1] 2882    7\n",
      "[1] 2251    7\n",
      "[1] \"pvalue\"         \"log2FoldChange\" \"pct.1\"          \"pct.2\"         \n",
      "[5] \"padj_bonf\"      \"padj\"           \"ensg\"          \n",
      "                 pvalue log2FoldChange pct.1 pct.2  padj_bonf         padj\n",
      "WDR59      3.239985e-07      0.3147977 0.575 0.190 0.00634227 0.0001897096\n",
      "TMEM141    1.369431e-06      0.2427877 0.552 0.167 0.02680661 0.0003946700\n",
      "KNTC1      2.264757e-06      0.2549851 0.425 0.111 0.04433261 0.0005417254\n",
      "UBE2F-SCLY 2.525400e-06      0.2587104 0.621 0.230 0.04943471 0.0005417254\n",
      "FBXO46     2.593819e-06      0.3121224 0.494 0.167 0.05077400 0.0005417254\n",
      "PPP6R3     2.842469e-06      0.3338806 0.494 0.175 0.05564133 0.0005417254\n",
      "                      ensg\n",
      "WDR59      ENSG00000103091\n",
      "TMEM141    ENSG00000244187\n",
      "KNTC1      ENSG00000184445\n",
      "UBE2F-SCLY ENSG00000258984\n",
      "FBXO46     ENSG00000177051\n",
      "PPP6R3     ENSG00000110075\n",
      "[1] \"here\"\n",
      "             Gene log2FoldChange\n",
      "ADAMTS17 ADAMTS17      0.3753003\n",
      "PPP6R3     PPP6R3      0.3338806\n",
      "PMVK         PMVK      0.3240070\n",
      "DYRK1A     DYRK1A      0.3239138\n",
      "WDR59       WDR59      0.3147977\n",
      "FBXO46     FBXO46      0.3121224\n"
     ]
    },
    {
     "name": "stderr",
     "output_type": "stream",
     "text": [
      "preparing geneSet collections...\n",
      "\n",
      "GSEA analysis...\n",
      "\n",
      "Warning message in preparePathwaysAndStats(pathways, stats, minSize, maxSize, gseaParam, :\n",
      "“There are ties in the preranked stats (0.27% of the list).\n",
      "The order of those tied genes will be arbitrary, which may produce unexpected results.”\n",
      "no term enriched under specific pvalueCutoff...\n",
      "\n"
     ]
    },
    {
     "name": "stdout",
     "output_type": "stream",
     "text": [
      "[1] \"result\"\n",
      "[1] \"c0\"\n"
     ]
    },
    {
     "name": "stderr",
     "output_type": "stream",
     "text": [
      "Warning message in summary(egmt[[c]]):\n",
      "“summary method to convert the object to data.frame is deprecated, please use as.data.frame instead.”\n",
      "preparing geneSet collections...\n",
      "\n",
      "GSEA analysis...\n",
      "\n",
      "Warning message in preparePathwaysAndStats(pathways, stats, minSize, maxSize, gseaParam, :\n",
      "“There are ties in the preranked stats (0.27% of the list).\n",
      "The order of those tied genes will be arbitrary, which may produce unexpected results.”\n",
      "leading edge analysis...\n",
      "\n",
      "done...\n",
      "\n"
     ]
    },
    {
     "name": "stdout",
     "output_type": "stream",
     "text": [
      "[1] \"result\"\n",
      "[1] \"c2\"\n"
     ]
    },
    {
     "name": "stderr",
     "output_type": "stream",
     "text": [
      "Warning message in summary(egmt[[c]]):\n",
      "“summary method to convert the object to data.frame is deprecated, please use as.data.frame instead.”\n",
      "Saving 6.67 x 6.67 in image\n",
      "\n",
      "preparing geneSet collections...\n",
      "\n",
      "GSEA analysis...\n",
      "\n",
      "Warning message in preparePathwaysAndStats(pathways, stats, minSize, maxSize, gseaParam, :\n",
      "“There are ties in the preranked stats (0.27% of the list).\n",
      "The order of those tied genes will be arbitrary, which may produce unexpected results.”\n",
      "leading edge analysis...\n",
      "\n",
      "done...\n",
      "\n"
     ]
    },
    {
     "name": "stdout",
     "output_type": "stream",
     "text": [
      "[1] \"result\"\n",
      "[1] \"c5\"\n"
     ]
    },
    {
     "name": "stderr",
     "output_type": "stream",
     "text": [
      "Warning message in summary(egmt[[c]]):\n",
      "“summary method to convert the object to data.frame is deprecated, please use as.data.frame instead.”\n",
      "Saving 6.67 x 6.67 in image\n",
      "\n",
      "preparing geneSet collections...\n",
      "\n",
      "GSEA analysis...\n",
      "\n",
      "Warning message in preparePathwaysAndStats(pathways, stats, minSize, maxSize, gseaParam, :\n",
      "“There are ties in the preranked stats (0.27% of the list).\n",
      "The order of those tied genes will be arbitrary, which may produce unexpected results.”\n",
      "leading edge analysis...\n",
      "\n",
      "done...\n",
      "\n"
     ]
    },
    {
     "name": "stdout",
     "output_type": "stream",
     "text": [
      "[1] \"result\"\n",
      "[1] \"c7\"\n"
     ]
    },
    {
     "name": "stderr",
     "output_type": "stream",
     "text": [
      "Warning message in summary(egmt[[c]]):\n",
      "“summary method to convert the object to data.frame is deprecated, please use as.data.frame instead.”\n",
      "Saving 6.67 x 6.67 in image\n",
      "\n",
      "Warning message in is.na(egmt[[c]]):\n",
      "“is.na() applied to non-(list or vector) of type 'S4'”\n",
      "Warning message in summary(egmt[[c]]):\n",
      "“summary method to convert the object to data.frame is deprecated, please use as.data.frame instead.”\n",
      "Warning message in is.na(egmt[[c]]):\n",
      "“is.na() applied to non-(list or vector) of type 'S4'”\n",
      "Warning message in summary(egmt[[c]]):\n",
      "“summary method to convert the object to data.frame is deprecated, please use as.data.frame instead.”\n",
      "Warning message in is.na(egmt[[c]]):\n",
      "“is.na() applied to non-(list or vector) of type 'S4'”\n",
      "Warning message in summary(egmt[[c]]):\n",
      "“summary method to convert the object to data.frame is deprecated, please use as.data.frame instead.”\n",
      "Warning message in is.na(egmt[[c]]):\n",
      "“is.na() applied to non-(list or vector) of type 'S4'”\n",
      "Warning message in summary(egmt[[c]]):\n",
      "“summary method to convert the object to data.frame is deprecated, please use as.data.frame instead.”\n"
     ]
    },
    {
     "name": "stdout",
     "output_type": "stream",
     "text": [
      "[1] \"preExcel writing\"\n",
      "[1] \"postExcel writing\"\n",
      "[1] \"Here we go .... :/data/Mito_Trace/output/pipeline/TcellDupi_may17_2021/MTblacklist/data/merged/MT/cellr_True/numread_200/filters/minC10_minR50_topN0_hetT0.001_hetC10_hetCount5_bq20/mgatk/vireoIn/clones/variants_init/knn/kparam_3/concat/gff_hg38_1_2/annotation_clones/de_clone_btwncond_RNA/minPct0.01_logfc0.1/GSEA_pctthresh.0.1_pthresh.0.1_pref.FALSE_stat.log2FoldChange_padj.BH/prep/0_9_DE.tsv\"\n",
      "[1] \"Myclass\"\n",
      "[1] 2932    7\n",
      "[1] 2190    7\n",
      "[1] \"pvalue\"         \"log2FoldChange\" \"pct.1\"          \"pct.2\"         \n",
      "[5] \"padj_bonf\"      \"padj\"           \"ensg\"          \n",
      "                     pvalue log2FoldChange pct.1 pct.2 padj_bonf        padj\n",
      "AP2B1          9.109845e-06      0.2872457 0.453 0.129 0.1783252 0.003108327\n",
      "PCNX3          1.436427e-05      0.2644974 0.453 0.139 0.2811806 0.003108327\n",
      "RAI1           1.577697e-05      0.3446886 0.642 0.277 0.3088342 0.003108327\n",
      "SHISA5         1.614540e-05      0.2477626 0.442 0.139 0.3160463 0.003108327\n",
      "EEF1E1-BLOC1S5 2.065786e-05      0.2954831 0.589 0.238 0.4043777 0.003108327\n",
      "PSMC5          2.298710e-05      0.2769134 0.389 0.109 0.4499725 0.003108327\n",
      "                          ensg\n",
      "AP2B1          ENSG00000006125\n",
      "PCNX3          ENSG00000197136\n",
      "RAI1           ENSG00000108557\n",
      "SHISA5         ENSG00000164054\n",
      "EEF1E1-BLOC1S5            <NA>\n",
      "PSMC5          ENSG00000087191\n",
      "[1] \"here\"\n",
      "             Gene log2FoldChange\n",
      "CEP57       CEP57      0.3633622\n",
      "RAI1         RAI1      0.3446886\n",
      "HSD17B12 HSD17B12      0.3442752\n",
      "FAM76B     FAM76B      0.3401701\n",
      "MTA2         MTA2      0.3143309\n",
      "GSK3A       GSK3A      0.3085626\n"
     ]
    },
    {
     "name": "stderr",
     "output_type": "stream",
     "text": [
      "preparing geneSet collections...\n",
      "\n",
      "GSEA analysis...\n",
      "\n",
      "Warning message in preparePathwaysAndStats(pathways, stats, minSize, maxSize, gseaParam, :\n",
      "“There are ties in the preranked stats (0.46% of the list).\n",
      "The order of those tied genes will be arbitrary, which may produce unexpected results.”\n",
      "leading edge analysis...\n",
      "\n",
      "done...\n",
      "\n"
     ]
    },
    {
     "name": "stdout",
     "output_type": "stream",
     "text": [
      "[1] \"result\"\n",
      "[1] \"c0\"\n"
     ]
    },
    {
     "name": "stderr",
     "output_type": "stream",
     "text": [
      "Warning message in summary(egmt[[c]]):\n",
      "“summary method to convert the object to data.frame is deprecated, please use as.data.frame instead.”\n",
      "Saving 6.67 x 6.67 in image\n",
      "\n",
      "preparing geneSet collections...\n",
      "\n",
      "GSEA analysis...\n",
      "\n",
      "Warning message in preparePathwaysAndStats(pathways, stats, minSize, maxSize, gseaParam, :\n",
      "“There are ties in the preranked stats (0.46% of the list).\n",
      "The order of those tied genes will be arbitrary, which may produce unexpected results.”\n",
      "leading edge analysis...\n",
      "\n",
      "done...\n",
      "\n"
     ]
    },
    {
     "name": "stdout",
     "output_type": "stream",
     "text": [
      "[1] \"result\"\n",
      "[1] \"c2\"\n"
     ]
    },
    {
     "name": "stderr",
     "output_type": "stream",
     "text": [
      "Warning message in summary(egmt[[c]]):\n",
      "“summary method to convert the object to data.frame is deprecated, please use as.data.frame instead.”\n",
      "Saving 6.67 x 6.67 in image\n",
      "\n",
      "preparing geneSet collections...\n",
      "\n",
      "GSEA analysis...\n",
      "\n",
      "Warning message in preparePathwaysAndStats(pathways, stats, minSize, maxSize, gseaParam, :\n",
      "“There are ties in the preranked stats (0.46% of the list).\n",
      "The order of those tied genes will be arbitrary, which may produce unexpected results.”\n",
      "no term enriched under specific pvalueCutoff...\n",
      "\n"
     ]
    },
    {
     "name": "stdout",
     "output_type": "stream",
     "text": [
      "[1] \"result\"\n",
      "[1] \"c5\"\n"
     ]
    },
    {
     "name": "stderr",
     "output_type": "stream",
     "text": [
      "Warning message in summary(egmt[[c]]):\n",
      "“summary method to convert the object to data.frame is deprecated, please use as.data.frame instead.”\n",
      "preparing geneSet collections...\n",
      "\n",
      "GSEA analysis...\n",
      "\n",
      "Warning message in preparePathwaysAndStats(pathways, stats, minSize, maxSize, gseaParam, :\n",
      "“There are ties in the preranked stats (0.46% of the list).\n",
      "The order of those tied genes will be arbitrary, which may produce unexpected results.”\n",
      "leading edge analysis...\n",
      "\n",
      "done...\n",
      "\n"
     ]
    },
    {
     "name": "stdout",
     "output_type": "stream",
     "text": [
      "[1] \"result\"\n",
      "[1] \"c7\"\n"
     ]
    },
    {
     "name": "stderr",
     "output_type": "stream",
     "text": [
      "Warning message in summary(egmt[[c]]):\n",
      "“summary method to convert the object to data.frame is deprecated, please use as.data.frame instead.”\n",
      "Saving 6.67 x 6.67 in image\n",
      "\n",
      "Warning message in is.na(egmt[[c]]):\n",
      "“is.na() applied to non-(list or vector) of type 'S4'”\n",
      "Warning message in summary(egmt[[c]]):\n",
      "“summary method to convert the object to data.frame is deprecated, please use as.data.frame instead.”\n",
      "Warning message in is.na(egmt[[c]]):\n",
      "“is.na() applied to non-(list or vector) of type 'S4'”\n",
      "Warning message in summary(egmt[[c]]):\n",
      "“summary method to convert the object to data.frame is deprecated, please use as.data.frame instead.”\n",
      "Warning message in is.na(egmt[[c]]):\n",
      "“is.na() applied to non-(list or vector) of type 'S4'”\n",
      "Warning message in summary(egmt[[c]]):\n",
      "“summary method to convert the object to data.frame is deprecated, please use as.data.frame instead.”\n",
      "Warning message in is.na(egmt[[c]]):\n",
      "“is.na() applied to non-(list or vector) of type 'S4'”\n",
      "Warning message in summary(egmt[[c]]):\n",
      "“summary method to convert the object to data.frame is deprecated, please use as.data.frame instead.”\n"
     ]
    },
    {
     "name": "stdout",
     "output_type": "stream",
     "text": [
      "[1] \"preExcel writing\"\n",
      "[1] \"postExcel writing\"\n",
      "[1] \"Here we go .... :/data/Mito_Trace/output/pipeline/TcellDupi_may17_2021/MTblacklist/data/merged/MT/cellr_True/numread_200/filters/minC10_minR50_topN0_hetT0.001_hetC10_hetCount5_bq20/mgatk/vireoIn/clones/variants_init/knn/kparam_3/concat/gff_hg38_1_2/annotation_clones/de_clone_btwncond_RNA/minPct0.01_logfc0.1/GSEA_pctthresh.0.1_pthresh.0.1_pref.FALSE_stat.log2FoldChange_padj.BH/prep/1_0_DE.tsv\"\n",
      "[1] \"Myclass\"\n",
      "[1] 1570    7\n",
      "[1] 1443    7\n",
      "[1] \"pvalue\"         \"log2FoldChange\" \"pct.1\"          \"pct.2\"         \n",
      "[5] \"padj_bonf\"      \"padj\"           \"ensg\"          \n",
      "                pvalue log2FoldChange pct.1 pct.2    padj_bonf         padj\n",
      "ITPKB     4.887116e-16      0.5203777 0.940 0.680 9.566529e-12 7.672771e-13\n",
      "ZNF573    1.804452e-14      0.2401440 0.477 0.117 3.532214e-10 1.416495e-11\n",
      "RASSF2    6.557035e-13      0.2749465 0.592 0.203 1.283540e-08 3.431515e-10\n",
      "ZEB1      2.000037e-12      0.3609420 0.720 0.338 3.915072e-08 7.850144e-10\n",
      "TNFRSF1B  3.073336e-12      0.3114342 0.670 0.268 6.016056e-08 9.650276e-10\n",
      "C20orf100 4.241564e-12      0.3001649 0.606 0.242 8.302862e-08 1.094176e-09\n",
      "                     ensg\n",
      "ITPKB     ENSG00000143772\n",
      "ZNF573    ENSG00000189144\n",
      "RASSF2    ENSG00000101265\n",
      "ZEB1      ENSG00000148516\n",
      "TNFRSF1B  ENSG00000028137\n",
      "C20orf100            <NA>\n",
      "[1] \"here\"\n",
      "         Gene log2FoldChange\n",
      "ITPKB   ITPKB      0.5203777\n",
      "CTNND1 CTNND1      0.4894261\n",
      "CPAMD8 CPAMD8      0.4667287\n",
      "MAD1L1 MAD1L1      0.4300750\n",
      "ZEB1     ZEB1      0.3609420\n",
      "BCL11B BCL11B      0.3599076\n"
     ]
    },
    {
     "name": "stderr",
     "output_type": "stream",
     "text": [
      "preparing geneSet collections...\n",
      "\n",
      "GSEA analysis...\n",
      "\n",
      "Warning message in preparePathwaysAndStats(pathways, stats, minSize, maxSize, gseaParam, :\n",
      "“There are ties in the preranked stats (0.07% of the list).\n",
      "The order of those tied genes will be arbitrary, which may produce unexpected results.”\n",
      "no term enriched under specific pvalueCutoff...\n",
      "\n"
     ]
    },
    {
     "name": "stdout",
     "output_type": "stream",
     "text": [
      "[1] \"result\"\n",
      "[1] \"c0\"\n"
     ]
    },
    {
     "name": "stderr",
     "output_type": "stream",
     "text": [
      "Warning message in summary(egmt[[c]]):\n",
      "“summary method to convert the object to data.frame is deprecated, please use as.data.frame instead.”\n",
      "preparing geneSet collections...\n",
      "\n",
      "GSEA analysis...\n",
      "\n",
      "Warning message in preparePathwaysAndStats(pathways, stats, minSize, maxSize, gseaParam, :\n",
      "“There are ties in the preranked stats (0.07% of the list).\n",
      "The order of those tied genes will be arbitrary, which may produce unexpected results.”\n",
      "leading edge analysis...\n",
      "\n",
      "done...\n",
      "\n"
     ]
    },
    {
     "name": "stdout",
     "output_type": "stream",
     "text": [
      "[1] \"result\"\n",
      "[1] \"c2\"\n"
     ]
    },
    {
     "name": "stderr",
     "output_type": "stream",
     "text": [
      "Warning message in summary(egmt[[c]]):\n",
      "“summary method to convert the object to data.frame is deprecated, please use as.data.frame instead.”\n",
      "Saving 6.67 x 6.67 in image\n",
      "\n",
      "preparing geneSet collections...\n",
      "\n",
      "GSEA analysis...\n",
      "\n",
      "Warning message in preparePathwaysAndStats(pathways, stats, minSize, maxSize, gseaParam, :\n",
      "“There are ties in the preranked stats (0.07% of the list).\n",
      "The order of those tied genes will be arbitrary, which may produce unexpected results.”\n",
      "leading edge analysis...\n",
      "\n",
      "done...\n",
      "\n"
     ]
    },
    {
     "name": "stdout",
     "output_type": "stream",
     "text": [
      "[1] \"result\"\n",
      "[1] \"c5\"\n"
     ]
    },
    {
     "name": "stderr",
     "output_type": "stream",
     "text": [
      "Warning message in summary(egmt[[c]]):\n",
      "“summary method to convert the object to data.frame is deprecated, please use as.data.frame instead.”\n",
      "Saving 6.67 x 6.67 in image\n",
      "\n",
      "preparing geneSet collections...\n",
      "\n",
      "GSEA analysis...\n",
      "\n",
      "Warning message in preparePathwaysAndStats(pathways, stats, minSize, maxSize, gseaParam, :\n",
      "“There are ties in the preranked stats (0.07% of the list).\n",
      "The order of those tied genes will be arbitrary, which may produce unexpected results.”\n",
      "leading edge analysis...\n",
      "\n",
      "done...\n",
      "\n"
     ]
    },
    {
     "name": "stdout",
     "output_type": "stream",
     "text": [
      "[1] \"result\"\n",
      "[1] \"c7\"\n"
     ]
    },
    {
     "name": "stderr",
     "output_type": "stream",
     "text": [
      "Warning message in summary(egmt[[c]]):\n",
      "“summary method to convert the object to data.frame is deprecated, please use as.data.frame instead.”\n",
      "Saving 6.67 x 6.67 in image\n",
      "\n",
      "Warning message in is.na(egmt[[c]]):\n",
      "“is.na() applied to non-(list or vector) of type 'S4'”\n",
      "Warning message in summary(egmt[[c]]):\n",
      "“summary method to convert the object to data.frame is deprecated, please use as.data.frame instead.”\n",
      "Warning message in is.na(egmt[[c]]):\n",
      "“is.na() applied to non-(list or vector) of type 'S4'”\n",
      "Warning message in summary(egmt[[c]]):\n",
      "“summary method to convert the object to data.frame is deprecated, please use as.data.frame instead.”\n",
      "Warning message in is.na(egmt[[c]]):\n",
      "“is.na() applied to non-(list or vector) of type 'S4'”\n",
      "Warning message in summary(egmt[[c]]):\n",
      "“summary method to convert the object to data.frame is deprecated, please use as.data.frame instead.”\n",
      "Warning message in is.na(egmt[[c]]):\n",
      "“is.na() applied to non-(list or vector) of type 'S4'”\n",
      "Warning message in summary(egmt[[c]]):\n",
      "“summary method to convert the object to data.frame is deprecated, please use as.data.frame instead.”\n"
     ]
    },
    {
     "name": "stdout",
     "output_type": "stream",
     "text": [
      "[1] \"preExcel writing\"\n",
      "[1] \"postExcel writing\"\n",
      "[1] \"Here we go .... :/data/Mito_Trace/output/pipeline/TcellDupi_may17_2021/MTblacklist/data/merged/MT/cellr_True/numread_200/filters/minC10_minR50_topN0_hetT0.001_hetC10_hetCount5_bq20/mgatk/vireoIn/clones/variants_init/knn/kparam_3/concat/gff_hg38_1_2/annotation_clones/de_clone_btwncond_RNA/minPct0.01_logfc0.1/GSEA_pctthresh.0.1_pthresh.0.1_pref.FALSE_stat.log2FoldChange_padj.BH/prep/1_1_DE.tsv\"\n",
      "[1] \"Myclass\"\n",
      "[1] 2189    7\n",
      "[1] 1919    7\n",
      "[1] \"pvalue\"         \"log2FoldChange\" \"pct.1\"          \"pct.2\"         \n",
      "[5] \"padj_bonf\"      \"padj\"           \"ensg\"          \n",
      "              pvalue log2FoldChange pct.1 pct.2    padj_bonf         padj\n",
      "RAPGEF1 5.600326e-15      0.5306901 0.695 0.222 1.096264e-10 1.225911e-11\n",
      "SBNO2   6.389989e-10      0.2551969 0.469 0.124 1.250840e-05 5.208736e-07\n",
      "ZFP36L1 7.415107e-10      0.3695017 0.757 0.340 1.451507e-05 5.208736e-07\n",
      "FLNB    9.518020e-10      0.2964217 0.723 0.288 1.863152e-05 5.208736e-07\n",
      "ARHGEF7 1.584869e-09      0.3331078 0.599 0.235 3.102382e-05 6.842858e-07\n",
      "RBM38   1.875612e-09      0.3425108 0.695 0.301 3.671511e-05 6.842858e-07\n",
      "                   ensg\n",
      "RAPGEF1 ENSG00000107263\n",
      "SBNO2   ENSG00000064932\n",
      "ZFP36L1 ENSG00000185650\n",
      "FLNB    ENSG00000136068\n",
      "ARHGEF7 ENSG00000102606\n",
      "RBM38   ENSG00000132819\n",
      "[1] \"here\"\n",
      "           Gene log2FoldChange\n",
      "RAPGEF1 RAPGEF1      0.5306901\n",
      "ITPKB     ITPKB      0.4312052\n",
      "RUNX3     RUNX3      0.4047662\n",
      "BCL11B   BCL11B      0.3917020\n",
      "ZFP36L1 ZFP36L1      0.3695017\n",
      "AKAP13   AKAP13      0.3476415\n"
     ]
    },
    {
     "name": "stderr",
     "output_type": "stream",
     "text": [
      "preparing geneSet collections...\n",
      "\n",
      "GSEA analysis...\n",
      "\n",
      "Warning message in preparePathwaysAndStats(pathways, stats, minSize, maxSize, gseaParam, :\n",
      "“There are ties in the preranked stats (0.21% of the list).\n",
      "The order of those tied genes will be arbitrary, which may produce unexpected results.”\n",
      "leading edge analysis...\n",
      "\n",
      "done...\n",
      "\n"
     ]
    },
    {
     "name": "stdout",
     "output_type": "stream",
     "text": [
      "[1] \"result\"\n",
      "[1] \"c0\"\n"
     ]
    },
    {
     "name": "stderr",
     "output_type": "stream",
     "text": [
      "Warning message in summary(egmt[[c]]):\n",
      "“summary method to convert the object to data.frame is deprecated, please use as.data.frame instead.”\n",
      "Saving 6.67 x 6.67 in image\n",
      "\n",
      "preparing geneSet collections...\n",
      "\n",
      "GSEA analysis...\n",
      "\n",
      "Warning message in preparePathwaysAndStats(pathways, stats, minSize, maxSize, gseaParam, :\n",
      "“There are ties in the preranked stats (0.21% of the list).\n",
      "The order of those tied genes will be arbitrary, which may produce unexpected results.”\n",
      "leading edge analysis...\n",
      "\n",
      "done...\n",
      "\n"
     ]
    },
    {
     "name": "stdout",
     "output_type": "stream",
     "text": [
      "[1] \"result\"\n",
      "[1] \"c2\"\n"
     ]
    },
    {
     "name": "stderr",
     "output_type": "stream",
     "text": [
      "Warning message in summary(egmt[[c]]):\n",
      "“summary method to convert the object to data.frame is deprecated, please use as.data.frame instead.”\n",
      "Saving 6.67 x 6.67 in image\n",
      "\n",
      "preparing geneSet collections...\n",
      "\n",
      "GSEA analysis...\n",
      "\n",
      "Warning message in preparePathwaysAndStats(pathways, stats, minSize, maxSize, gseaParam, :\n",
      "“There are ties in the preranked stats (0.21% of the list).\n",
      "The order of those tied genes will be arbitrary, which may produce unexpected results.”\n",
      "leading edge analysis...\n",
      "\n",
      "done...\n",
      "\n"
     ]
    },
    {
     "name": "stdout",
     "output_type": "stream",
     "text": [
      "[1] \"result\"\n",
      "[1] \"c5\"\n"
     ]
    },
    {
     "name": "stderr",
     "output_type": "stream",
     "text": [
      "Warning message in summary(egmt[[c]]):\n",
      "“summary method to convert the object to data.frame is deprecated, please use as.data.frame instead.”\n",
      "Saving 6.67 x 6.67 in image\n",
      "\n",
      "preparing geneSet collections...\n",
      "\n",
      "GSEA analysis...\n",
      "\n",
      "Warning message in preparePathwaysAndStats(pathways, stats, minSize, maxSize, gseaParam, :\n",
      "“There are ties in the preranked stats (0.21% of the list).\n",
      "The order of those tied genes will be arbitrary, which may produce unexpected results.”\n",
      "leading edge analysis...\n",
      "\n",
      "done...\n",
      "\n"
     ]
    },
    {
     "name": "stdout",
     "output_type": "stream",
     "text": [
      "[1] \"result\"\n",
      "[1] \"c7\"\n"
     ]
    },
    {
     "name": "stderr",
     "output_type": "stream",
     "text": [
      "Warning message in summary(egmt[[c]]):\n",
      "“summary method to convert the object to data.frame is deprecated, please use as.data.frame instead.”\n",
      "Saving 6.67 x 6.67 in image\n",
      "\n",
      "Warning message in is.na(egmt[[c]]):\n",
      "“is.na() applied to non-(list or vector) of type 'S4'”\n",
      "Warning message in summary(egmt[[c]]):\n",
      "“summary method to convert the object to data.frame is deprecated, please use as.data.frame instead.”\n",
      "Warning message in is.na(egmt[[c]]):\n",
      "“is.na() applied to non-(list or vector) of type 'S4'”\n",
      "Warning message in summary(egmt[[c]]):\n",
      "“summary method to convert the object to data.frame is deprecated, please use as.data.frame instead.”\n",
      "Warning message in is.na(egmt[[c]]):\n",
      "“is.na() applied to non-(list or vector) of type 'S4'”\n",
      "Warning message in summary(egmt[[c]]):\n",
      "“summary method to convert the object to data.frame is deprecated, please use as.data.frame instead.”\n",
      "Warning message in is.na(egmt[[c]]):\n",
      "“is.na() applied to non-(list or vector) of type 'S4'”\n",
      "Warning message in summary(egmt[[c]]):\n",
      "“summary method to convert the object to data.frame is deprecated, please use as.data.frame instead.”\n"
     ]
    },
    {
     "name": "stdout",
     "output_type": "stream",
     "text": [
      "[1] \"preExcel writing\"\n",
      "[1] \"postExcel writing\"\n",
      "[1] \"Here we go .... :/data/Mito_Trace/output/pipeline/TcellDupi_may17_2021/MTblacklist/data/merged/MT/cellr_True/numread_200/filters/minC10_minR50_topN0_hetT0.001_hetC10_hetCount5_bq20/mgatk/vireoIn/clones/variants_init/knn/kparam_3/concat/gff_hg38_1_2/annotation_clones/de_clone_btwncond_RNA/minPct0.01_logfc0.1/GSEA_pctthresh.0.1_pthresh.0.1_pref.FALSE_stat.log2FoldChange_padj.BH/prep/1_10_DE.tsv\"\n",
      "[1] \"Myclass\"\n",
      "[1] 2926    7\n",
      "[1] 2589    7\n",
      "[1] \"pvalue\"         \"log2FoldChange\" \"pct.1\"          \"pct.2\"         \n",
      "[5] \"padj_bonf\"      \"padj\"           \"ensg\"          \n",
      "                pvalue log2FoldChange pct.1 pct.2    padj_bonf         padj\n",
      "UBASH3A   3.795455e-10      0.3334818 0.580 0.156 7.429603e-06 1.105744e-06\n",
      "DEAF1     1.474510e-09      0.4063763 0.725 0.268 2.886354e-05 1.105744e-06\n",
      "CDH15     1.478993e-09      0.3887631 0.551 0.156 2.895129e-05 1.105744e-06\n",
      "C20orf195 1.511612e-09      0.2751462 0.522 0.123 2.958980e-05 1.105744e-06\n",
      "IL23A     2.506088e-09      0.3169484 0.652 0.190 4.905668e-05 1.466563e-06\n",
      "EPS8L2    8.047324e-09      0.3733425 0.754 0.296 1.575264e-04 3.924412e-06\n",
      "                     ensg\n",
      "UBASH3A   ENSG00000160185\n",
      "DEAF1     ENSG00000177030\n",
      "CDH15     ENSG00000129910\n",
      "C20orf195            <NA>\n",
      "IL23A     ENSG00000110944\n",
      "EPS8L2    ENSG00000177106\n",
      "[1] \"here\"\n",
      "           Gene log2FoldChange\n",
      "ITPKB     ITPKB      0.5716242\n",
      "ST3GAL1 ST3GAL1      0.4780019\n",
      "DEAF1     DEAF1      0.4063763\n",
      "CDH15     CDH15      0.3887631\n",
      "PLEC       PLEC      0.3804769\n",
      "EPS8L2   EPS8L2      0.3733425\n"
     ]
    },
    {
     "name": "stderr",
     "output_type": "stream",
     "text": [
      "preparing geneSet collections...\n",
      "\n",
      "GSEA analysis...\n",
      "\n",
      "Warning message in preparePathwaysAndStats(pathways, stats, minSize, maxSize, gseaParam, :\n",
      "“There are ties in the preranked stats (0.54% of the list).\n",
      "The order of those tied genes will be arbitrary, which may produce unexpected results.”\n",
      "leading edge analysis...\n",
      "\n",
      "done...\n",
      "\n"
     ]
    },
    {
     "name": "stdout",
     "output_type": "stream",
     "text": [
      "[1] \"result\"\n",
      "[1] \"c0\"\n"
     ]
    },
    {
     "name": "stderr",
     "output_type": "stream",
     "text": [
      "Warning message in summary(egmt[[c]]):\n",
      "“summary method to convert the object to data.frame is deprecated, please use as.data.frame instead.”\n",
      "Saving 6.67 x 6.67 in image\n",
      "\n",
      "preparing geneSet collections...\n",
      "\n",
      "GSEA analysis...\n",
      "\n",
      "Warning message in preparePathwaysAndStats(pathways, stats, minSize, maxSize, gseaParam, :\n",
      "“There are ties in the preranked stats (0.54% of the list).\n",
      "The order of those tied genes will be arbitrary, which may produce unexpected results.”\n",
      "Warning message in fgseaMultilevel(...):\n",
      "“For some pathways, in reality P-values are less than 1e-10. You can set the `eps` argument to zero for better estimation.”\n",
      "leading edge analysis...\n",
      "\n",
      "done...\n",
      "\n"
     ]
    },
    {
     "name": "stdout",
     "output_type": "stream",
     "text": [
      "[1] \"result\"\n",
      "[1] \"c2\"\n"
     ]
    },
    {
     "name": "stderr",
     "output_type": "stream",
     "text": [
      "Warning message in summary(egmt[[c]]):\n",
      "“summary method to convert the object to data.frame is deprecated, please use as.data.frame instead.”\n",
      "Saving 6.67 x 6.67 in image\n",
      "\n",
      "preparing geneSet collections...\n",
      "\n",
      "GSEA analysis...\n",
      "\n",
      "Warning message in preparePathwaysAndStats(pathways, stats, minSize, maxSize, gseaParam, :\n",
      "“There are ties in the preranked stats (0.54% of the list).\n",
      "The order of those tied genes will be arbitrary, which may produce unexpected results.”\n",
      "leading edge analysis...\n",
      "\n",
      "done...\n",
      "\n"
     ]
    },
    {
     "name": "stdout",
     "output_type": "stream",
     "text": [
      "[1] \"result\"\n",
      "[1] \"c5\"\n"
     ]
    },
    {
     "name": "stderr",
     "output_type": "stream",
     "text": [
      "Warning message in summary(egmt[[c]]):\n",
      "“summary method to convert the object to data.frame is deprecated, please use as.data.frame instead.”\n",
      "Saving 6.67 x 6.67 in image\n",
      "\n",
      "preparing geneSet collections...\n",
      "\n",
      "GSEA analysis...\n",
      "\n",
      "Warning message in preparePathwaysAndStats(pathways, stats, minSize, maxSize, gseaParam, :\n",
      "“There are ties in the preranked stats (0.54% of the list).\n",
      "The order of those tied genes will be arbitrary, which may produce unexpected results.”\n",
      "leading edge analysis...\n",
      "\n",
      "done...\n",
      "\n"
     ]
    },
    {
     "name": "stdout",
     "output_type": "stream",
     "text": [
      "[1] \"result\"\n",
      "[1] \"c7\"\n"
     ]
    },
    {
     "name": "stderr",
     "output_type": "stream",
     "text": [
      "Warning message in summary(egmt[[c]]):\n",
      "“summary method to convert the object to data.frame is deprecated, please use as.data.frame instead.”\n",
      "Saving 6.67 x 6.67 in image\n",
      "\n",
      "Warning message in is.na(egmt[[c]]):\n",
      "“is.na() applied to non-(list or vector) of type 'S4'”\n",
      "Warning message in summary(egmt[[c]]):\n",
      "“summary method to convert the object to data.frame is deprecated, please use as.data.frame instead.”\n",
      "Warning message in is.na(egmt[[c]]):\n",
      "“is.na() applied to non-(list or vector) of type 'S4'”\n",
      "Warning message in summary(egmt[[c]]):\n",
      "“summary method to convert the object to data.frame is deprecated, please use as.data.frame instead.”\n",
      "Warning message in is.na(egmt[[c]]):\n",
      "“is.na() applied to non-(list or vector) of type 'S4'”\n",
      "Warning message in summary(egmt[[c]]):\n",
      "“summary method to convert the object to data.frame is deprecated, please use as.data.frame instead.”\n",
      "Warning message in is.na(egmt[[c]]):\n",
      "“is.na() applied to non-(list or vector) of type 'S4'”\n",
      "Warning message in summary(egmt[[c]]):\n",
      "“summary method to convert the object to data.frame is deprecated, please use as.data.frame instead.”\n"
     ]
    },
    {
     "name": "stdout",
     "output_type": "stream",
     "text": [
      "[1] \"preExcel writing\"\n",
      "[1] \"postExcel writing\"\n",
      "[1] \"Here we go .... :/data/Mito_Trace/output/pipeline/TcellDupi_may17_2021/MTblacklist/data/merged/MT/cellr_True/numread_200/filters/minC10_minR50_topN0_hetT0.001_hetC10_hetCount5_bq20/mgatk/vireoIn/clones/variants_init/knn/kparam_3/concat/gff_hg38_1_2/annotation_clones/de_clone_btwncond_RNA/minPct0.01_logfc0.1/GSEA_pctthresh.0.1_pthresh.0.1_pref.FALSE_stat.log2FoldChange_padj.BH/prep/1_11_DE.tsv\"\n",
      "[1] \"Myclass\"\n",
      "[1] 3294    7\n",
      "[1] 2779    7\n",
      "[1] \"pvalue\"         \"log2FoldChange\" \"pct.1\"          \"pct.2\"         \n",
      "[5] \"padj_bonf\"      \"padj\"           \"ensg\"          \n",
      "                   pvalue log2FoldChange pct.1 pct.2   padj_bonf         padj\n",
      "RP4-614O4.11 8.884940e-08      0.2467712 0.492 0.128 0.001739227 0.0001463350\n",
      "FAM200A      1.550907e-07      0.2731706 0.525 0.151 0.003035901 0.0001702896\n",
      "BCL3         2.425050e-07      0.2772363 0.508 0.145 0.004747036 0.0001997029\n",
      "ZFYVE28      4.207037e-07      0.3823539 0.831 0.424 0.008235276 0.0002532077\n",
      "HMG20B       5.380856e-07      0.2707161 0.508 0.157 0.010533026 0.0002532077\n",
      "RASSF1       1.079475e-06      0.2229277 0.475 0.140 0.021130731 0.0003680640\n",
      "                        ensg\n",
      "RP4-614O4.11            <NA>\n",
      "FAM200A      ENSG00000221909\n",
      "BCL3         ENSG00000069399\n",
      "ZFYVE28      ENSG00000159733\n",
      "HMG20B       ENSG00000064961\n",
      "RASSF1       ENSG00000068028\n",
      "[1] \"here\"\n",
      "                       Gene log2FoldChange\n",
      "SNX9                   SNX9      0.5292270\n",
      "BTBD11               BTBD11      0.4863686\n",
      "AKNA                   AKNA      0.4703710\n",
      "PABPN1               PABPN1      0.4292427\n",
      "BCL2L2-PABPN1 BCL2L2-PABPN1      0.4190383\n",
      "ITPKB                 ITPKB      0.3970947\n"
     ]
    },
    {
     "name": "stderr",
     "output_type": "stream",
     "text": [
      "preparing geneSet collections...\n",
      "\n",
      "GSEA analysis...\n",
      "\n",
      "Warning message in preparePathwaysAndStats(pathways, stats, minSize, maxSize, gseaParam, :\n",
      "“There are ties in the preranked stats (0.58% of the list).\n",
      "The order of those tied genes will be arbitrary, which may produce unexpected results.”\n",
      "no term enriched under specific pvalueCutoff...\n",
      "\n"
     ]
    },
    {
     "name": "stdout",
     "output_type": "stream",
     "text": [
      "[1] \"result\"\n",
      "[1] \"c0\"\n"
     ]
    },
    {
     "name": "stderr",
     "output_type": "stream",
     "text": [
      "Warning message in summary(egmt[[c]]):\n",
      "“summary method to convert the object to data.frame is deprecated, please use as.data.frame instead.”\n",
      "preparing geneSet collections...\n",
      "\n",
      "GSEA analysis...\n",
      "\n",
      "Warning message in preparePathwaysAndStats(pathways, stats, minSize, maxSize, gseaParam, :\n",
      "“There are ties in the preranked stats (0.58% of the list).\n",
      "The order of those tied genes will be arbitrary, which may produce unexpected results.”\n",
      "leading edge analysis...\n",
      "\n",
      "done...\n",
      "\n"
     ]
    },
    {
     "name": "stdout",
     "output_type": "stream",
     "text": [
      "[1] \"result\"\n",
      "[1] \"c2\"\n"
     ]
    },
    {
     "name": "stderr",
     "output_type": "stream",
     "text": [
      "Warning message in summary(egmt[[c]]):\n",
      "“summary method to convert the object to data.frame is deprecated, please use as.data.frame instead.”\n",
      "Saving 6.67 x 6.67 in image\n",
      "\n",
      "preparing geneSet collections...\n",
      "\n",
      "GSEA analysis...\n",
      "\n",
      "Warning message in preparePathwaysAndStats(pathways, stats, minSize, maxSize, gseaParam, :\n",
      "“There are ties in the preranked stats (0.58% of the list).\n",
      "The order of those tied genes will be arbitrary, which may produce unexpected results.”\n",
      "no term enriched under specific pvalueCutoff...\n",
      "\n"
     ]
    },
    {
     "name": "stdout",
     "output_type": "stream",
     "text": [
      "[1] \"result\"\n",
      "[1] \"c5\"\n"
     ]
    },
    {
     "name": "stderr",
     "output_type": "stream",
     "text": [
      "Warning message in summary(egmt[[c]]):\n",
      "“summary method to convert the object to data.frame is deprecated, please use as.data.frame instead.”\n",
      "preparing geneSet collections...\n",
      "\n",
      "GSEA analysis...\n",
      "\n",
      "Warning message in preparePathwaysAndStats(pathways, stats, minSize, maxSize, gseaParam, :\n",
      "“There are ties in the preranked stats (0.58% of the list).\n",
      "The order of those tied genes will be arbitrary, which may produce unexpected results.”\n",
      "leading edge analysis...\n",
      "\n",
      "done...\n",
      "\n"
     ]
    },
    {
     "name": "stdout",
     "output_type": "stream",
     "text": [
      "[1] \"result\"\n",
      "[1] \"c7\"\n"
     ]
    },
    {
     "name": "stderr",
     "output_type": "stream",
     "text": [
      "Warning message in summary(egmt[[c]]):\n",
      "“summary method to convert the object to data.frame is deprecated, please use as.data.frame instead.”\n",
      "Saving 6.67 x 6.67 in image\n",
      "\n",
      "Warning message in is.na(egmt[[c]]):\n",
      "“is.na() applied to non-(list or vector) of type 'S4'”\n",
      "Warning message in summary(egmt[[c]]):\n",
      "“summary method to convert the object to data.frame is deprecated, please use as.data.frame instead.”\n",
      "Warning message in is.na(egmt[[c]]):\n",
      "“is.na() applied to non-(list or vector) of type 'S4'”\n",
      "Warning message in summary(egmt[[c]]):\n",
      "“summary method to convert the object to data.frame is deprecated, please use as.data.frame instead.”\n",
      "Warning message in is.na(egmt[[c]]):\n",
      "“is.na() applied to non-(list or vector) of type 'S4'”\n",
      "Warning message in summary(egmt[[c]]):\n",
      "“summary method to convert the object to data.frame is deprecated, please use as.data.frame instead.”\n",
      "Warning message in is.na(egmt[[c]]):\n",
      "“is.na() applied to non-(list or vector) of type 'S4'”\n",
      "Warning message in summary(egmt[[c]]):\n",
      "“summary method to convert the object to data.frame is deprecated, please use as.data.frame instead.”\n"
     ]
    },
    {
     "name": "stdout",
     "output_type": "stream",
     "text": [
      "[1] \"preExcel writing\"\n",
      "[1] \"postExcel writing\"\n",
      "[1] \"Here we go .... :/data/Mito_Trace/output/pipeline/TcellDupi_may17_2021/MTblacklist/data/merged/MT/cellr_True/numread_200/filters/minC10_minR50_topN0_hetT0.001_hetC10_hetCount5_bq20/mgatk/vireoIn/clones/variants_init/knn/kparam_3/concat/gff_hg38_1_2/annotation_clones/de_clone_btwncond_RNA/minPct0.01_logfc0.1/GSEA_pctthresh.0.1_pthresh.0.1_pref.FALSE_stat.log2FoldChange_padj.BH/prep/1_13_DE.tsv\"\n",
      "[1] \"Myclass\"\n",
      "[1] 3481    7\n",
      "[1] 2805    7\n",
      "[1] \"pvalue\"         \"log2FoldChange\" \"pct.1\"          \"pct.2\"         \n",
      "[5] \"padj_bonf\"      \"padj\"           \"ensg\"          \n",
      "               pvalue log2FoldChange pct.1 pct.2   padj_bonf        padj\n",
      "KARS     2.894691e-07      0.3180210 0.547 0.164 0.005666358 0.001007642\n",
      "FNBP1    1.035242e-06      0.5776449 0.830 0.440 0.020264853 0.001088652\n",
      "NUDT16L1 1.909812e-06      0.1984414 0.472 0.126 0.037384572 0.001088652\n",
      "IFITM2   3.752893e-06      0.2125614 0.491 0.145 0.073462874 0.001088652\n",
      "ACAP3    6.292088e-06      0.2425465 0.377 0.101 0.123167629 0.001596743\n",
      "RBKS     6.421835e-06      0.3200595 0.528 0.182 0.125707423 0.001596743\n",
      "                    ensg\n",
      "KARS                <NA>\n",
      "FNBP1    ENSG00000187239\n",
      "NUDT16L1 ENSG00000168101\n",
      "IFITM2   ENSG00000185201\n",
      "ACAP3    ENSG00000131584\n",
      "RBKS     ENSG00000171174\n",
      "[1] \"here\"\n",
      "                 Gene log2FoldChange\n",
      "FNBP1           FNBP1      0.5776449\n",
      "ITPKB           ITPKB      0.4299803\n",
      "BCL11B         BCL11B      0.4144312\n",
      "ZNF331         ZNF331      0.4118370\n",
      "AC006486.9 AC006486.9      0.4116298\n",
      "TNFRSF1B     TNFRSF1B      0.4096224\n"
     ]
    },
    {
     "name": "stderr",
     "output_type": "stream",
     "text": [
      "preparing geneSet collections...\n",
      "\n",
      "GSEA analysis...\n",
      "\n",
      "Warning message in preparePathwaysAndStats(pathways, stats, minSize, maxSize, gseaParam, :\n",
      "“There are ties in the preranked stats (0.75% of the list).\n",
      "The order of those tied genes will be arbitrary, which may produce unexpected results.”\n",
      "no term enriched under specific pvalueCutoff...\n",
      "\n"
     ]
    },
    {
     "name": "stdout",
     "output_type": "stream",
     "text": [
      "[1] \"result\"\n",
      "[1] \"c0\"\n"
     ]
    },
    {
     "name": "stderr",
     "output_type": "stream",
     "text": [
      "Warning message in summary(egmt[[c]]):\n",
      "“summary method to convert the object to data.frame is deprecated, please use as.data.frame instead.”\n",
      "preparing geneSet collections...\n",
      "\n",
      "GSEA analysis...\n",
      "\n",
      "Warning message in preparePathwaysAndStats(pathways, stats, minSize, maxSize, gseaParam, :\n",
      "“There are ties in the preranked stats (0.75% of the list).\n",
      "The order of those tied genes will be arbitrary, which may produce unexpected results.”\n",
      "leading edge analysis...\n",
      "\n",
      "done...\n",
      "\n"
     ]
    },
    {
     "name": "stdout",
     "output_type": "stream",
     "text": [
      "[1] \"result\"\n",
      "[1] \"c2\"\n"
     ]
    },
    {
     "name": "stderr",
     "output_type": "stream",
     "text": [
      "Warning message in summary(egmt[[c]]):\n",
      "“summary method to convert the object to data.frame is deprecated, please use as.data.frame instead.”\n",
      "Saving 6.67 x 6.67 in image\n",
      "\n",
      "preparing geneSet collections...\n",
      "\n",
      "GSEA analysis...\n",
      "\n",
      "Warning message in preparePathwaysAndStats(pathways, stats, minSize, maxSize, gseaParam, :\n",
      "“There are ties in the preranked stats (0.75% of the list).\n",
      "The order of those tied genes will be arbitrary, which may produce unexpected results.”\n",
      "no term enriched under specific pvalueCutoff...\n",
      "\n"
     ]
    },
    {
     "name": "stdout",
     "output_type": "stream",
     "text": [
      "[1] \"result\"\n",
      "[1] \"c5\"\n"
     ]
    },
    {
     "name": "stderr",
     "output_type": "stream",
     "text": [
      "Warning message in summary(egmt[[c]]):\n",
      "“summary method to convert the object to data.frame is deprecated, please use as.data.frame instead.”\n",
      "preparing geneSet collections...\n",
      "\n",
      "GSEA analysis...\n",
      "\n",
      "Warning message in preparePathwaysAndStats(pathways, stats, minSize, maxSize, gseaParam, :\n",
      "“There are ties in the preranked stats (0.75% of the list).\n",
      "The order of those tied genes will be arbitrary, which may produce unexpected results.”\n",
      "leading edge analysis...\n",
      "\n",
      "done...\n",
      "\n"
     ]
    },
    {
     "name": "stdout",
     "output_type": "stream",
     "text": [
      "[1] \"result\"\n",
      "[1] \"c7\"\n"
     ]
    },
    {
     "name": "stderr",
     "output_type": "stream",
     "text": [
      "Warning message in summary(egmt[[c]]):\n",
      "“summary method to convert the object to data.frame is deprecated, please use as.data.frame instead.”\n",
      "Saving 6.67 x 6.67 in image\n",
      "\n",
      "Warning message in is.na(egmt[[c]]):\n",
      "“is.na() applied to non-(list or vector) of type 'S4'”\n",
      "Warning message in summary(egmt[[c]]):\n",
      "“summary method to convert the object to data.frame is deprecated, please use as.data.frame instead.”\n",
      "Warning message in is.na(egmt[[c]]):\n",
      "“is.na() applied to non-(list or vector) of type 'S4'”\n",
      "Warning message in summary(egmt[[c]]):\n",
      "“summary method to convert the object to data.frame is deprecated, please use as.data.frame instead.”\n",
      "Warning message in is.na(egmt[[c]]):\n",
      "“is.na() applied to non-(list or vector) of type 'S4'”\n",
      "Warning message in summary(egmt[[c]]):\n",
      "“summary method to convert the object to data.frame is deprecated, please use as.data.frame instead.”\n",
      "Warning message in is.na(egmt[[c]]):\n",
      "“is.na() applied to non-(list or vector) of type 'S4'”\n",
      "Warning message in summary(egmt[[c]]):\n",
      "“summary method to convert the object to data.frame is deprecated, please use as.data.frame instead.”\n"
     ]
    },
    {
     "name": "stdout",
     "output_type": "stream",
     "text": [
      "[1] \"preExcel writing\"\n",
      "[1] \"postExcel writing\"\n",
      "[1] \"Here we go .... :/data/Mito_Trace/output/pipeline/TcellDupi_may17_2021/MTblacklist/data/merged/MT/cellr_True/numread_200/filters/minC10_minR50_topN0_hetT0.001_hetC10_hetCount5_bq20/mgatk/vireoIn/clones/variants_init/knn/kparam_3/concat/gff_hg38_1_2/annotation_clones/de_clone_btwncond_RNA/minPct0.01_logfc0.1/GSEA_pctthresh.0.1_pthresh.0.1_pref.FALSE_stat.log2FoldChange_padj.BH/prep/1_14_DE.tsv\"\n",
      "[1] \"Myclass\"\n",
      "[1] 3568    7\n",
      "[1] 2880    7\n",
      "[1] \"pvalue\"         \"log2FoldChange\" \"pct.1\"          \"pct.2\"         \n",
      "[5] \"padj_bonf\"      \"padj\"           \"ensg\"          \n",
      "             pvalue log2FoldChange pct.1 pct.2   padj_bonf         padj\n",
      "NANS   1.205819e-07      0.2801606 0.509 0.120 0.002360390 0.0001075590\n",
      "UBTD1  1.705379e-07      0.2896221 0.604 0.173 0.003338280 0.0001121148\n",
      "CRLF1  1.885339e-07      0.2546402 0.509 0.120 0.003690552 0.0001121148\n",
      "STAT5B 1.127415e-06      0.3445006 0.547 0.167 0.022069150 0.0004469574\n",
      "TTC7A  1.665940e-06      0.3672179 0.774 0.300 0.032610777 0.0005403704\n",
      "BRCA1  2.271321e-06      0.3739145 0.642 0.240 0.044461109 0.0006753394\n",
      "                  ensg\n",
      "NANS   ENSG00000095380\n",
      "UBTD1  ENSG00000165886\n",
      "CRLF1  ENSG00000006016\n",
      "STAT5B ENSG00000173757\n",
      "TTC7A  ENSG00000068724\n",
      "BRCA1  ENSG00000012048\n",
      "[1] \"here\"\n",
      "         Gene log2FoldChange\n",
      "FNBP1   FNBP1      0.5179194\n",
      "ZNF672 ZNF672      0.4831404\n",
      "EIF2D   EIF2D      0.4558446\n",
      "PTK2B   PTK2B      0.4162570\n",
      "SNX9     SNX9      0.4101730\n",
      "PHTF2   PHTF2      0.4080356\n"
     ]
    },
    {
     "name": "stderr",
     "output_type": "stream",
     "text": [
      "preparing geneSet collections...\n",
      "\n",
      "GSEA analysis...\n",
      "\n",
      "Warning message in preparePathwaysAndStats(pathways, stats, minSize, maxSize, gseaParam, :\n",
      "“There are ties in the preranked stats (0.69% of the list).\n",
      "The order of those tied genes will be arbitrary, which may produce unexpected results.”\n",
      "leading edge analysis...\n",
      "\n",
      "done...\n",
      "\n"
     ]
    },
    {
     "name": "stdout",
     "output_type": "stream",
     "text": [
      "[1] \"result\"\n",
      "[1] \"c0\"\n"
     ]
    },
    {
     "name": "stderr",
     "output_type": "stream",
     "text": [
      "Warning message in summary(egmt[[c]]):\n",
      "“summary method to convert the object to data.frame is deprecated, please use as.data.frame instead.”\n",
      "Saving 6.67 x 6.67 in image\n",
      "\n",
      "preparing geneSet collections...\n",
      "\n",
      "GSEA analysis...\n",
      "\n",
      "Warning message in preparePathwaysAndStats(pathways, stats, minSize, maxSize, gseaParam, :\n",
      "“There are ties in the preranked stats (0.69% of the list).\n",
      "The order of those tied genes will be arbitrary, which may produce unexpected results.”\n",
      "leading edge analysis...\n",
      "\n",
      "done...\n",
      "\n"
     ]
    },
    {
     "name": "stdout",
     "output_type": "stream",
     "text": [
      "[1] \"result\"\n",
      "[1] \"c2\"\n"
     ]
    },
    {
     "name": "stderr",
     "output_type": "stream",
     "text": [
      "Warning message in summary(egmt[[c]]):\n",
      "“summary method to convert the object to data.frame is deprecated, please use as.data.frame instead.”\n",
      "Saving 6.67 x 6.67 in image\n",
      "\n",
      "preparing geneSet collections...\n",
      "\n",
      "GSEA analysis...\n",
      "\n",
      "Warning message in preparePathwaysAndStats(pathways, stats, minSize, maxSize, gseaParam, :\n",
      "“There are ties in the preranked stats (0.69% of the list).\n",
      "The order of those tied genes will be arbitrary, which may produce unexpected results.”\n",
      "leading edge analysis...\n",
      "\n",
      "done...\n",
      "\n"
     ]
    },
    {
     "name": "stdout",
     "output_type": "stream",
     "text": [
      "[1] \"result\"\n",
      "[1] \"c5\"\n"
     ]
    },
    {
     "name": "stderr",
     "output_type": "stream",
     "text": [
      "Warning message in summary(egmt[[c]]):\n",
      "“summary method to convert the object to data.frame is deprecated, please use as.data.frame instead.”\n",
      "Saving 6.67 x 6.67 in image\n",
      "\n",
      "preparing geneSet collections...\n",
      "\n",
      "GSEA analysis...\n",
      "\n",
      "Warning message in preparePathwaysAndStats(pathways, stats, minSize, maxSize, gseaParam, :\n",
      "“There are ties in the preranked stats (0.69% of the list).\n",
      "The order of those tied genes will be arbitrary, which may produce unexpected results.”\n",
      "leading edge analysis...\n",
      "\n",
      "done...\n",
      "\n"
     ]
    },
    {
     "name": "stdout",
     "output_type": "stream",
     "text": [
      "[1] \"result\"\n",
      "[1] \"c7\"\n"
     ]
    },
    {
     "name": "stderr",
     "output_type": "stream",
     "text": [
      "Warning message in summary(egmt[[c]]):\n",
      "“summary method to convert the object to data.frame is deprecated, please use as.data.frame instead.”\n",
      "Saving 6.67 x 6.67 in image\n",
      "\n",
      "Warning message in is.na(egmt[[c]]):\n",
      "“is.na() applied to non-(list or vector) of type 'S4'”\n",
      "Warning message in summary(egmt[[c]]):\n",
      "“summary method to convert the object to data.frame is deprecated, please use as.data.frame instead.”\n",
      "Warning message in is.na(egmt[[c]]):\n",
      "“is.na() applied to non-(list or vector) of type 'S4'”\n",
      "Warning message in summary(egmt[[c]]):\n",
      "“summary method to convert the object to data.frame is deprecated, please use as.data.frame instead.”\n",
      "Warning message in is.na(egmt[[c]]):\n",
      "“is.na() applied to non-(list or vector) of type 'S4'”\n",
      "Warning message in summary(egmt[[c]]):\n",
      "“summary method to convert the object to data.frame is deprecated, please use as.data.frame instead.”\n",
      "Warning message in is.na(egmt[[c]]):\n",
      "“is.na() applied to non-(list or vector) of type 'S4'”\n",
      "Warning message in summary(egmt[[c]]):\n",
      "“summary method to convert the object to data.frame is deprecated, please use as.data.frame instead.”\n"
     ]
    },
    {
     "name": "stdout",
     "output_type": "stream",
     "text": [
      "[1] \"preExcel writing\"\n",
      "[1] \"postExcel writing\"\n",
      "[1] \"Here we go .... :/data/Mito_Trace/output/pipeline/TcellDupi_may17_2021/MTblacklist/data/merged/MT/cellr_True/numread_200/filters/minC10_minR50_topN0_hetT0.001_hetC10_hetCount5_bq20/mgatk/vireoIn/clones/variants_init/knn/kparam_3/concat/gff_hg38_1_2/annotation_clones/de_clone_btwncond_RNA/minPct0.01_logfc0.1/GSEA_pctthresh.0.1_pthresh.0.1_pref.FALSE_stat.log2FoldChange_padj.BH/prep/1_15_DE.tsv\"\n",
      "[1] \"Myclass\"\n",
      "[1] 2943    7\n",
      "[1] 2518    7\n",
      "[1] \"pvalue\"         \"log2FoldChange\" \"pct.1\"          \"pct.2\"         \n",
      "[5] \"padj_bonf\"      \"padj\"           \"ensg\"          \n",
      "                    pvalue log2FoldChange pct.1 pct.2    padj_bonf         padj\n",
      "SNX9          3.726617e-10      0.5804086 0.874 0.470 7.294854e-06 1.096744e-06\n",
      "XPO6          5.291515e-09      0.4935858 0.759 0.325 1.035814e-04 7.786464e-06\n",
      "RP11-437B10.1 1.810236e-07      0.4449295 0.897 0.564 3.543537e-03 8.341399e-05\n",
      "JMJD6         2.006607e-07      0.2215202 0.506 0.137 3.927933e-03 8.341399e-05\n",
      "TMEM205       2.381759e-07      0.2517247 0.517 0.145 4.662294e-03 8.341399e-05\n",
      "CCDC159       2.381759e-07      0.2517247 0.517 0.145 4.662294e-03 8.341399e-05\n",
      "                         ensg\n",
      "SNX9          ENSG00000130340\n",
      "XPO6          ENSG00000169180\n",
      "RP11-437B10.1            <NA>\n",
      "JMJD6         ENSG00000070495\n",
      "TMEM205       ENSG00000105518\n",
      "CCDC159       ENSG00000183401\n",
      "[1] \"here\"\n",
      "                       Gene log2FoldChange\n",
      "SNX9                   SNX9      0.5804086\n",
      "XPO6                   XPO6      0.4935858\n",
      "RP11-437B10.1 RP11-437B10.1      0.4449295\n",
      "ZHX2                   ZHX2      0.4356958\n",
      "ITPKB                 ITPKB      0.4180427\n",
      "MBP                     MBP      0.4019366\n"
     ]
    },
    {
     "name": "stderr",
     "output_type": "stream",
     "text": [
      "preparing geneSet collections...\n",
      "\n",
      "GSEA analysis...\n",
      "\n",
      "Warning message in preparePathwaysAndStats(pathways, stats, minSize, maxSize, gseaParam, :\n",
      "“There are ties in the preranked stats (0.48% of the list).\n",
      "The order of those tied genes will be arbitrary, which may produce unexpected results.”\n",
      "leading edge analysis...\n",
      "\n",
      "done...\n",
      "\n"
     ]
    },
    {
     "name": "stdout",
     "output_type": "stream",
     "text": [
      "[1] \"result\"\n",
      "[1] \"c0\"\n"
     ]
    },
    {
     "name": "stderr",
     "output_type": "stream",
     "text": [
      "Warning message in summary(egmt[[c]]):\n",
      "“summary method to convert the object to data.frame is deprecated, please use as.data.frame instead.”\n",
      "Saving 6.67 x 6.67 in image\n",
      "\n",
      "preparing geneSet collections...\n",
      "\n",
      "GSEA analysis...\n",
      "\n",
      "Warning message in preparePathwaysAndStats(pathways, stats, minSize, maxSize, gseaParam, :\n",
      "“There are ties in the preranked stats (0.48% of the list).\n",
      "The order of those tied genes will be arbitrary, which may produce unexpected results.”\n",
      "leading edge analysis...\n",
      "\n",
      "done...\n",
      "\n"
     ]
    },
    {
     "name": "stdout",
     "output_type": "stream",
     "text": [
      "[1] \"result\"\n",
      "[1] \"c2\"\n"
     ]
    },
    {
     "name": "stderr",
     "output_type": "stream",
     "text": [
      "Warning message in summary(egmt[[c]]):\n",
      "“summary method to convert the object to data.frame is deprecated, please use as.data.frame instead.”\n",
      "Saving 6.67 x 6.67 in image\n",
      "\n",
      "preparing geneSet collections...\n",
      "\n",
      "GSEA analysis...\n",
      "\n",
      "Warning message in preparePathwaysAndStats(pathways, stats, minSize, maxSize, gseaParam, :\n",
      "“There are ties in the preranked stats (0.48% of the list).\n",
      "The order of those tied genes will be arbitrary, which may produce unexpected results.”\n",
      "leading edge analysis...\n",
      "\n",
      "done...\n",
      "\n"
     ]
    },
    {
     "name": "stdout",
     "output_type": "stream",
     "text": [
      "[1] \"result\"\n",
      "[1] \"c5\"\n"
     ]
    },
    {
     "name": "stderr",
     "output_type": "stream",
     "text": [
      "Warning message in summary(egmt[[c]]):\n",
      "“summary method to convert the object to data.frame is deprecated, please use as.data.frame instead.”\n",
      "Saving 6.67 x 6.67 in image\n",
      "\n",
      "preparing geneSet collections...\n",
      "\n",
      "GSEA analysis...\n",
      "\n",
      "Warning message in preparePathwaysAndStats(pathways, stats, minSize, maxSize, gseaParam, :\n",
      "“There are ties in the preranked stats (0.48% of the list).\n",
      "The order of those tied genes will be arbitrary, which may produce unexpected results.”\n",
      "leading edge analysis...\n",
      "\n",
      "done...\n",
      "\n"
     ]
    },
    {
     "name": "stdout",
     "output_type": "stream",
     "text": [
      "[1] \"result\"\n",
      "[1] \"c7\"\n"
     ]
    },
    {
     "name": "stderr",
     "output_type": "stream",
     "text": [
      "Warning message in summary(egmt[[c]]):\n",
      "“summary method to convert the object to data.frame is deprecated, please use as.data.frame instead.”\n",
      "Saving 6.67 x 6.67 in image\n",
      "\n",
      "Warning message in is.na(egmt[[c]]):\n",
      "“is.na() applied to non-(list or vector) of type 'S4'”\n",
      "Warning message in summary(egmt[[c]]):\n",
      "“summary method to convert the object to data.frame is deprecated, please use as.data.frame instead.”\n",
      "Warning message in is.na(egmt[[c]]):\n",
      "“is.na() applied to non-(list or vector) of type 'S4'”\n",
      "Warning message in summary(egmt[[c]]):\n",
      "“summary method to convert the object to data.frame is deprecated, please use as.data.frame instead.”\n",
      "Warning message in is.na(egmt[[c]]):\n",
      "“is.na() applied to non-(list or vector) of type 'S4'”\n",
      "Warning message in summary(egmt[[c]]):\n",
      "“summary method to convert the object to data.frame is deprecated, please use as.data.frame instead.”\n",
      "Warning message in is.na(egmt[[c]]):\n",
      "“is.na() applied to non-(list or vector) of type 'S4'”\n",
      "Warning message in summary(egmt[[c]]):\n",
      "“summary method to convert the object to data.frame is deprecated, please use as.data.frame instead.”\n"
     ]
    },
    {
     "name": "stdout",
     "output_type": "stream",
     "text": [
      "[1] \"preExcel writing\"\n",
      "[1] \"postExcel writing\"\n",
      "[1] \"Here we go .... :/data/Mito_Trace/output/pipeline/TcellDupi_may17_2021/MTblacklist/data/merged/MT/cellr_True/numread_200/filters/minC10_minR50_topN0_hetT0.001_hetC10_hetCount5_bq20/mgatk/vireoIn/clones/variants_init/knn/kparam_3/concat/gff_hg38_1_2/annotation_clones/de_clone_btwncond_RNA/minPct0.01_logfc0.1/GSEA_pctthresh.0.1_pthresh.0.1_pref.FALSE_stat.log2FoldChange_padj.BH/prep/1_16_DE.tsv\"\n",
      "[1] \"Myclass\"\n",
      "[1] 3426    7\n",
      "[1] 2768    7\n",
      "[1] \"pvalue\"         \"log2FoldChange\" \"pct.1\"          \"pct.2\"         \n",
      "[5] \"padj_bonf\"      \"padj\"           \"ensg\"          \n",
      "              pvalue log2FoldChange pct.1 pct.2   padj_bonf         padj\n",
      "MAP2K2  9.416693e-08      0.2986059 0.557 0.158 0.001843318 0.0001613079\n",
      "CHRNA1  2.064259e-07      0.3711125 0.557 0.165 0.004040787 0.0001760486\n",
      "NFX1    2.313886e-07      0.4534073 0.672 0.237 0.004529433 0.0001760486\n",
      "ZHX2    3.039590e-07      0.5036809 0.738 0.345 0.005949998 0.0001760486\n",
      "ITFG2   4.334878e-07      0.2553090 0.574 0.173 0.008485524 0.0001760486\n",
      "CSNK1G2 4.624744e-07      0.2925011 0.459 0.122 0.009052936 0.0001760486\n",
      "                   ensg\n",
      "MAP2K2  ENSG00000126934\n",
      "CHRNA1  ENSG00000138435\n",
      "NFX1    ENSG00000086102\n",
      "ZHX2    ENSG00000178764\n",
      "ITFG2   ENSG00000111203\n",
      "CSNK1G2 ENSG00000133275\n",
      "[1] \"here\"\n",
      "         Gene log2FoldChange\n",
      "ZHX2     ZHX2      0.5036809\n",
      "ITPKB   ITPKB      0.4856261\n",
      "NFX1     NFX1      0.4534073\n",
      "EVL       EVL      0.4112189\n",
      "PCBP3   PCBP3      0.3965531\n",
      "SH3TC1 SH3TC1      0.3832029\n"
     ]
    },
    {
     "name": "stderr",
     "output_type": "stream",
     "text": [
      "preparing geneSet collections...\n",
      "\n",
      "GSEA analysis...\n",
      "\n",
      "Warning message in preparePathwaysAndStats(pathways, stats, minSize, maxSize, gseaParam, :\n",
      "“There are ties in the preranked stats (0.4% of the list).\n",
      "The order of those tied genes will be arbitrary, which may produce unexpected results.”\n",
      "no term enriched under specific pvalueCutoff...\n",
      "\n"
     ]
    },
    {
     "name": "stdout",
     "output_type": "stream",
     "text": [
      "[1] \"result\"\n",
      "[1] \"c0\"\n"
     ]
    },
    {
     "name": "stderr",
     "output_type": "stream",
     "text": [
      "Warning message in summary(egmt[[c]]):\n",
      "“summary method to convert the object to data.frame is deprecated, please use as.data.frame instead.”\n",
      "preparing geneSet collections...\n",
      "\n",
      "GSEA analysis...\n",
      "\n",
      "Warning message in preparePathwaysAndStats(pathways, stats, minSize, maxSize, gseaParam, :\n",
      "“There are ties in the preranked stats (0.4% of the list).\n",
      "The order of those tied genes will be arbitrary, which may produce unexpected results.”\n",
      "leading edge analysis...\n",
      "\n",
      "done...\n",
      "\n"
     ]
    },
    {
     "name": "stdout",
     "output_type": "stream",
     "text": [
      "[1] \"result\"\n",
      "[1] \"c2\"\n"
     ]
    },
    {
     "name": "stderr",
     "output_type": "stream",
     "text": [
      "Warning message in summary(egmt[[c]]):\n",
      "“summary method to convert the object to data.frame is deprecated, please use as.data.frame instead.”\n",
      "Saving 6.67 x 6.67 in image\n",
      "\n",
      "preparing geneSet collections...\n",
      "\n",
      "GSEA analysis...\n",
      "\n",
      "Warning message in preparePathwaysAndStats(pathways, stats, minSize, maxSize, gseaParam, :\n",
      "“There are ties in the preranked stats (0.4% of the list).\n",
      "The order of those tied genes will be arbitrary, which may produce unexpected results.”\n",
      "leading edge analysis...\n",
      "\n",
      "done...\n",
      "\n"
     ]
    },
    {
     "name": "stdout",
     "output_type": "stream",
     "text": [
      "[1] \"result\"\n",
      "[1] \"c5\"\n"
     ]
    },
    {
     "name": "stderr",
     "output_type": "stream",
     "text": [
      "Warning message in summary(egmt[[c]]):\n",
      "“summary method to convert the object to data.frame is deprecated, please use as.data.frame instead.”\n",
      "Saving 6.67 x 6.67 in image\n",
      "\n",
      "preparing geneSet collections...\n",
      "\n",
      "GSEA analysis...\n",
      "\n",
      "Warning message in preparePathwaysAndStats(pathways, stats, minSize, maxSize, gseaParam, :\n",
      "“There are ties in the preranked stats (0.4% of the list).\n",
      "The order of those tied genes will be arbitrary, which may produce unexpected results.”\n",
      "leading edge analysis...\n",
      "\n",
      "done...\n",
      "\n"
     ]
    },
    {
     "name": "stdout",
     "output_type": "stream",
     "text": [
      "[1] \"result\"\n",
      "[1] \"c7\"\n"
     ]
    },
    {
     "name": "stderr",
     "output_type": "stream",
     "text": [
      "Warning message in summary(egmt[[c]]):\n",
      "“summary method to convert the object to data.frame is deprecated, please use as.data.frame instead.”\n",
      "Saving 6.67 x 6.67 in image\n",
      "\n",
      "Warning message in is.na(egmt[[c]]):\n",
      "“is.na() applied to non-(list or vector) of type 'S4'”\n",
      "Warning message in summary(egmt[[c]]):\n",
      "“summary method to convert the object to data.frame is deprecated, please use as.data.frame instead.”\n",
      "Warning message in is.na(egmt[[c]]):\n",
      "“is.na() applied to non-(list or vector) of type 'S4'”\n",
      "Warning message in summary(egmt[[c]]):\n",
      "“summary method to convert the object to data.frame is deprecated, please use as.data.frame instead.”\n",
      "Warning message in is.na(egmt[[c]]):\n",
      "“is.na() applied to non-(list or vector) of type 'S4'”\n",
      "Warning message in summary(egmt[[c]]):\n",
      "“summary method to convert the object to data.frame is deprecated, please use as.data.frame instead.”\n",
      "Warning message in is.na(egmt[[c]]):\n",
      "“is.na() applied to non-(list or vector) of type 'S4'”\n",
      "Warning message in summary(egmt[[c]]):\n",
      "“summary method to convert the object to data.frame is deprecated, please use as.data.frame instead.”\n"
     ]
    },
    {
     "name": "stdout",
     "output_type": "stream",
     "text": [
      "[1] \"preExcel writing\"\n",
      "[1] \"postExcel writing\"\n",
      "[1] \"Here we go .... :/data/Mito_Trace/output/pipeline/TcellDupi_may17_2021/MTblacklist/data/merged/MT/cellr_True/numread_200/filters/minC10_minR50_topN0_hetT0.001_hetC10_hetCount5_bq20/mgatk/vireoIn/clones/variants_init/knn/kparam_3/concat/gff_hg38_1_2/annotation_clones/de_clone_btwncond_RNA/minPct0.01_logfc0.1/GSEA_pctthresh.0.1_pthresh.0.1_pref.FALSE_stat.log2FoldChange_padj.BH/prep/1_18_DE.tsv\"\n",
      "[1] \"Myclass\"\n",
      "[1] 3486    7\n",
      "[1] 2779    7\n",
      "[1] \"pvalue\"         \"log2FoldChange\" \"pct.1\"          \"pct.2\"         \n",
      "[5] \"padj_bonf\"      \"padj\"           \"ensg\"          \n",
      "             pvalue log2FoldChange pct.1 pct.2    padj_bonf         padj\n",
      "WDR55  2.189077e-08      0.2677271 0.567 0.131 0.0004285117 0.0000381556\n",
      "SH3D21 1.361989e-06      0.2564989 0.450 0.115 0.0266609353 0.0006966504\n",
      "USP35  1.398896e-06      0.3988072 0.617 0.230 0.0273833982 0.0006966504\n",
      "GRK5   1.632374e-06      0.3978777 0.850 0.434 0.0319537138 0.0007113068\n",
      "ZC3H7A 1.968303e-06      0.4255717 0.517 0.172 0.0385295282 0.0007623893\n",
      "R3HDM4 2.778304e-06      0.2813541 0.550 0.164 0.0543852948 0.0009685167\n",
      "                  ensg\n",
      "WDR55  ENSG00000120314\n",
      "SH3D21 ENSG00000214193\n",
      "USP35  ENSG00000118369\n",
      "GRK5   ENSG00000198873\n",
      "ZC3H7A ENSG00000122299\n",
      "R3HDM4 ENSG00000198858\n",
      "[1] \"here\"\n",
      "         Gene log2FoldChange\n",
      "ZC3H7A ZC3H7A      0.4255717\n",
      "SMG6     SMG6      0.4217443\n",
      "BORCS5 BORCS5      0.4002436\n",
      "USP35   USP35      0.3988072\n",
      "SNX9     SNX9      0.3982014\n",
      "GRK5     GRK5      0.3978777\n"
     ]
    },
    {
     "name": "stderr",
     "output_type": "stream",
     "text": [
      "preparing geneSet collections...\n",
      "\n",
      "GSEA analysis...\n",
      "\n",
      "Warning message in preparePathwaysAndStats(pathways, stats, minSize, maxSize, gseaParam, :\n",
      "“There are ties in the preranked stats (0.29% of the list).\n",
      "The order of those tied genes will be arbitrary, which may produce unexpected results.”\n",
      "leading edge analysis...\n",
      "\n",
      "done...\n",
      "\n"
     ]
    },
    {
     "name": "stdout",
     "output_type": "stream",
     "text": [
      "[1] \"result\"\n",
      "[1] \"c0\"\n"
     ]
    },
    {
     "name": "stderr",
     "output_type": "stream",
     "text": [
      "Warning message in summary(egmt[[c]]):\n",
      "“summary method to convert the object to data.frame is deprecated, please use as.data.frame instead.”\n",
      "Saving 6.67 x 6.67 in image\n",
      "\n",
      "preparing geneSet collections...\n",
      "\n",
      "GSEA analysis...\n",
      "\n",
      "Warning message in preparePathwaysAndStats(pathways, stats, minSize, maxSize, gseaParam, :\n",
      "“There are ties in the preranked stats (0.29% of the list).\n",
      "The order of those tied genes will be arbitrary, which may produce unexpected results.”\n",
      "Warning message in fgseaMultilevel(...):\n",
      "“For some pathways, in reality P-values are less than 1e-10. You can set the `eps` argument to zero for better estimation.”\n",
      "leading edge analysis...\n",
      "\n",
      "done...\n",
      "\n"
     ]
    },
    {
     "name": "stdout",
     "output_type": "stream",
     "text": [
      "[1] \"result\"\n",
      "[1] \"c2\"\n"
     ]
    },
    {
     "name": "stderr",
     "output_type": "stream",
     "text": [
      "Warning message in summary(egmt[[c]]):\n",
      "“summary method to convert the object to data.frame is deprecated, please use as.data.frame instead.”\n",
      "Saving 6.67 x 6.67 in image\n",
      "\n",
      "preparing geneSet collections...\n",
      "\n",
      "GSEA analysis...\n",
      "\n",
      "Warning message in preparePathwaysAndStats(pathways, stats, minSize, maxSize, gseaParam, :\n",
      "“There are ties in the preranked stats (0.29% of the list).\n",
      "The order of those tied genes will be arbitrary, which may produce unexpected results.”\n",
      "leading edge analysis...\n",
      "\n",
      "done...\n",
      "\n"
     ]
    },
    {
     "name": "stdout",
     "output_type": "stream",
     "text": [
      "[1] \"result\"\n",
      "[1] \"c5\"\n"
     ]
    },
    {
     "name": "stderr",
     "output_type": "stream",
     "text": [
      "Warning message in summary(egmt[[c]]):\n",
      "“summary method to convert the object to data.frame is deprecated, please use as.data.frame instead.”\n",
      "Saving 6.67 x 6.67 in image\n",
      "\n",
      "preparing geneSet collections...\n",
      "\n",
      "GSEA analysis...\n",
      "\n",
      "Warning message in preparePathwaysAndStats(pathways, stats, minSize, maxSize, gseaParam, :\n",
      "“There are ties in the preranked stats (0.29% of the list).\n",
      "The order of those tied genes will be arbitrary, which may produce unexpected results.”\n",
      "leading edge analysis...\n",
      "\n",
      "done...\n",
      "\n"
     ]
    },
    {
     "name": "stdout",
     "output_type": "stream",
     "text": [
      "[1] \"result\"\n",
      "[1] \"c7\"\n"
     ]
    },
    {
     "name": "stderr",
     "output_type": "stream",
     "text": [
      "Warning message in summary(egmt[[c]]):\n",
      "“summary method to convert the object to data.frame is deprecated, please use as.data.frame instead.”\n",
      "Saving 6.67 x 6.67 in image\n",
      "\n",
      "Warning message in is.na(egmt[[c]]):\n",
      "“is.na() applied to non-(list or vector) of type 'S4'”\n",
      "Warning message in summary(egmt[[c]]):\n",
      "“summary method to convert the object to data.frame is deprecated, please use as.data.frame instead.”\n",
      "Warning message in is.na(egmt[[c]]):\n",
      "“is.na() applied to non-(list or vector) of type 'S4'”\n",
      "Warning message in summary(egmt[[c]]):\n",
      "“summary method to convert the object to data.frame is deprecated, please use as.data.frame instead.”\n",
      "Warning message in is.na(egmt[[c]]):\n",
      "“is.na() applied to non-(list or vector) of type 'S4'”\n",
      "Warning message in summary(egmt[[c]]):\n",
      "“summary method to convert the object to data.frame is deprecated, please use as.data.frame instead.”\n",
      "Warning message in is.na(egmt[[c]]):\n",
      "“is.na() applied to non-(list or vector) of type 'S4'”\n",
      "Warning message in summary(egmt[[c]]):\n",
      "“summary method to convert the object to data.frame is deprecated, please use as.data.frame instead.”\n"
     ]
    },
    {
     "name": "stdout",
     "output_type": "stream",
     "text": [
      "[1] \"preExcel writing\"\n",
      "[1] \"postExcel writing\"\n",
      "[1] \"Here we go .... :/data/Mito_Trace/output/pipeline/TcellDupi_may17_2021/MTblacklist/data/merged/MT/cellr_True/numread_200/filters/minC10_minR50_topN0_hetT0.001_hetC10_hetCount5_bq20/mgatk/vireoIn/clones/variants_init/knn/kparam_3/concat/gff_hg38_1_2/annotation_clones/de_clone_btwncond_RNA/minPct0.01_logfc0.1/GSEA_pctthresh.0.1_pthresh.0.1_pref.FALSE_stat.log2FoldChange_padj.BH/prep/1_19_DE.tsv\"\n",
      "[1] \"Myclass\"\n",
      "[1] 3415    7\n",
      "[1] 2771    7\n",
      "[1] \"pvalue\"         \"log2FoldChange\" \"pct.1\"          \"pct.2\"         \n",
      "[5] \"padj_bonf\"      \"padj\"           \"ensg\"          \n",
      "              pvalue log2FoldChange pct.1 pct.2  padj_bonf        padj\n",
      "UBE2Z   2.106186e-06      0.3170421 0.451 0.116 0.04122859 0.001438525\n",
      "RAB22A  8.207251e-06      0.2547148 0.431 0.116 0.16065694 0.003082811\n",
      "USB1    9.045381e-06      0.2914355 0.412 0.109 0.17706334 0.003082811\n",
      "EIF4G3  1.088138e-05      0.2975764 0.529 0.178 0.21300309 0.003082811\n",
      "ZNF573  1.144360e-05      0.3711559 0.471 0.163 0.22400843 0.003082811\n",
      "UBASH3A 2.175432e-05      0.2535496 0.529 0.178 0.42584089 0.004239610\n",
      "                   ensg\n",
      "UBE2Z   ENSG00000159202\n",
      "RAB22A  ENSG00000124209\n",
      "USB1    ENSG00000103005\n",
      "EIF4G3  ENSG00000075151\n",
      "ZNF573  ENSG00000189144\n",
      "UBASH3A ENSG00000160185\n",
      "[1] \"here\"\n",
      "         Gene log2FoldChange\n",
      "ZHX2     ZHX2      0.5109050\n",
      "ITPKB   ITPKB      0.4885881\n",
      "CCSER2 CCSER2      0.4477655\n",
      "MAP9     MAP9      0.4071019\n",
      "PCNT     PCNT      0.4048987\n",
      "SNX9     SNX9      0.3892782\n"
     ]
    },
    {
     "name": "stderr",
     "output_type": "stream",
     "text": [
      "preparing geneSet collections...\n",
      "\n",
      "GSEA analysis...\n",
      "\n",
      "Warning message in preparePathwaysAndStats(pathways, stats, minSize, maxSize, gseaParam, :\n",
      "“There are ties in the preranked stats (0.54% of the list).\n",
      "The order of those tied genes will be arbitrary, which may produce unexpected results.”\n",
      "no term enriched under specific pvalueCutoff...\n",
      "\n"
     ]
    },
    {
     "name": "stdout",
     "output_type": "stream",
     "text": [
      "[1] \"result\"\n",
      "[1] \"c0\"\n"
     ]
    },
    {
     "name": "stderr",
     "output_type": "stream",
     "text": [
      "Warning message in summary(egmt[[c]]):\n",
      "“summary method to convert the object to data.frame is deprecated, please use as.data.frame instead.”\n",
      "preparing geneSet collections...\n",
      "\n",
      "GSEA analysis...\n",
      "\n",
      "Warning message in preparePathwaysAndStats(pathways, stats, minSize, maxSize, gseaParam, :\n",
      "“There are ties in the preranked stats (0.54% of the list).\n",
      "The order of those tied genes will be arbitrary, which may produce unexpected results.”\n",
      "leading edge analysis...\n",
      "\n",
      "done...\n",
      "\n"
     ]
    },
    {
     "name": "stdout",
     "output_type": "stream",
     "text": [
      "[1] \"result\"\n",
      "[1] \"c2\"\n"
     ]
    },
    {
     "name": "stderr",
     "output_type": "stream",
     "text": [
      "Warning message in summary(egmt[[c]]):\n",
      "“summary method to convert the object to data.frame is deprecated, please use as.data.frame instead.”\n",
      "Saving 6.67 x 6.67 in image\n",
      "\n",
      "preparing geneSet collections...\n",
      "\n",
      "GSEA analysis...\n",
      "\n",
      "Warning message in preparePathwaysAndStats(pathways, stats, minSize, maxSize, gseaParam, :\n",
      "“There are ties in the preranked stats (0.54% of the list).\n",
      "The order of those tied genes will be arbitrary, which may produce unexpected results.”\n",
      "no term enriched under specific pvalueCutoff...\n",
      "\n"
     ]
    },
    {
     "name": "stdout",
     "output_type": "stream",
     "text": [
      "[1] \"result\"\n",
      "[1] \"c5\"\n"
     ]
    },
    {
     "name": "stderr",
     "output_type": "stream",
     "text": [
      "Warning message in summary(egmt[[c]]):\n",
      "“summary method to convert the object to data.frame is deprecated, please use as.data.frame instead.”\n",
      "preparing geneSet collections...\n",
      "\n",
      "GSEA analysis...\n",
      "\n",
      "Warning message in preparePathwaysAndStats(pathways, stats, minSize, maxSize, gseaParam, :\n",
      "“There are ties in the preranked stats (0.54% of the list).\n",
      "The order of those tied genes will be arbitrary, which may produce unexpected results.”\n",
      "leading edge analysis...\n",
      "\n",
      "done...\n",
      "\n"
     ]
    },
    {
     "name": "stdout",
     "output_type": "stream",
     "text": [
      "[1] \"result\"\n",
      "[1] \"c7\"\n"
     ]
    },
    {
     "name": "stderr",
     "output_type": "stream",
     "text": [
      "Warning message in summary(egmt[[c]]):\n",
      "“summary method to convert the object to data.frame is deprecated, please use as.data.frame instead.”\n",
      "Saving 6.67 x 6.67 in image\n",
      "\n",
      "Warning message in is.na(egmt[[c]]):\n",
      "“is.na() applied to non-(list or vector) of type 'S4'”\n",
      "Warning message in summary(egmt[[c]]):\n",
      "“summary method to convert the object to data.frame is deprecated, please use as.data.frame instead.”\n",
      "Warning message in is.na(egmt[[c]]):\n",
      "“is.na() applied to non-(list or vector) of type 'S4'”\n",
      "Warning message in summary(egmt[[c]]):\n",
      "“summary method to convert the object to data.frame is deprecated, please use as.data.frame instead.”\n",
      "Warning message in is.na(egmt[[c]]):\n",
      "“is.na() applied to non-(list or vector) of type 'S4'”\n",
      "Warning message in summary(egmt[[c]]):\n",
      "“summary method to convert the object to data.frame is deprecated, please use as.data.frame instead.”\n",
      "Warning message in is.na(egmt[[c]]):\n",
      "“is.na() applied to non-(list or vector) of type 'S4'”\n",
      "Warning message in summary(egmt[[c]]):\n",
      "“summary method to convert the object to data.frame is deprecated, please use as.data.frame instead.”\n"
     ]
    },
    {
     "name": "stdout",
     "output_type": "stream",
     "text": [
      "[1] \"preExcel writing\"\n",
      "[1] \"postExcel writing\"\n",
      "[1] \"Here we go .... :/data/Mito_Trace/output/pipeline/TcellDupi_may17_2021/MTblacklist/data/merged/MT/cellr_True/numread_200/filters/minC10_minR50_topN0_hetT0.001_hetC10_hetCount5_bq20/mgatk/vireoIn/clones/variants_init/knn/kparam_3/concat/gff_hg38_1_2/annotation_clones/de_clone_btwncond_RNA/minPct0.01_logfc0.1/GSEA_pctthresh.0.1_pthresh.0.1_pref.FALSE_stat.log2FoldChange_padj.BH/prep/1_2_DE.tsv\"\n",
      "[1] \"Myclass\"\n",
      "[1] 1923    7\n",
      "[1] 1713    7\n",
      "[1] \"pvalue\"         \"log2FoldChange\" \"pct.1\"          \"pct.2\"         \n",
      "[5] \"padj_bonf\"      \"padj\"           \"ensg\"          \n",
      "             pvalue log2FoldChange pct.1 pct.2    padj_bonf         padj\n",
      "KLF3   9.439811e-09      0.3345791 0.756 0.359 0.0001847843 7.858673e-06\n",
      "ITPKB  1.008130e-08      0.4845427 0.902 0.646 0.0001973415 7.858673e-06\n",
      "SIX5   1.226002e-08      0.2085941 0.407 0.105 0.0002399899 7.858673e-06\n",
      "TRIM39 5.703503e-08      0.2511183 0.423 0.133 0.0011164608 2.741959e-05\n",
      "GXYLT2 7.410418e-08      0.2726025 0.593 0.232 0.0014505893 2.850047e-05\n",
      "POLR1A 2.083949e-07      0.2961226 0.756 0.381 0.0040793297 5.704285e-05\n",
      "                  ensg\n",
      "KLF3   ENSG00000109787\n",
      "ITPKB  ENSG00000143772\n",
      "SIX5   ENSG00000177045\n",
      "TRIM39 ENSG00000204599\n",
      "GXYLT2 ENSG00000172986\n",
      "POLR1A ENSG00000068654\n",
      "[1] \"here\"\n",
      "           Gene log2FoldChange\n",
      "ITPKB     ITPKB      0.4845427\n",
      "GRK5       GRK5      0.4122293\n",
      "SNX9       SNX9      0.3579389\n",
      "SYTL3     SYTL3      0.3359377\n",
      "KLF3       KLF3      0.3345791\n",
      "EPS15L1 EPS15L1      0.3257659\n"
     ]
    },
    {
     "name": "stderr",
     "output_type": "stream",
     "text": [
      "preparing geneSet collections...\n",
      "\n",
      "GSEA analysis...\n",
      "\n",
      "Warning message in preparePathwaysAndStats(pathways, stats, minSize, maxSize, gseaParam, :\n",
      "“There are ties in the preranked stats (0.29% of the list).\n",
      "The order of those tied genes will be arbitrary, which may produce unexpected results.”\n",
      "leading edge analysis...\n",
      "\n",
      "done...\n",
      "\n"
     ]
    },
    {
     "name": "stdout",
     "output_type": "stream",
     "text": [
      "[1] \"result\"\n",
      "[1] \"c0\"\n"
     ]
    },
    {
     "name": "stderr",
     "output_type": "stream",
     "text": [
      "Warning message in summary(egmt[[c]]):\n",
      "“summary method to convert the object to data.frame is deprecated, please use as.data.frame instead.”\n",
      "Saving 6.67 x 6.67 in image\n",
      "\n",
      "preparing geneSet collections...\n",
      "\n",
      "GSEA analysis...\n",
      "\n",
      "Warning message in preparePathwaysAndStats(pathways, stats, minSize, maxSize, gseaParam, :\n",
      "“There are ties in the preranked stats (0.29% of the list).\n",
      "The order of those tied genes will be arbitrary, which may produce unexpected results.”\n",
      "leading edge analysis...\n",
      "\n",
      "done...\n",
      "\n"
     ]
    },
    {
     "name": "stdout",
     "output_type": "stream",
     "text": [
      "[1] \"result\"\n",
      "[1] \"c2\"\n"
     ]
    },
    {
     "name": "stderr",
     "output_type": "stream",
     "text": [
      "Warning message in summary(egmt[[c]]):\n",
      "“summary method to convert the object to data.frame is deprecated, please use as.data.frame instead.”\n",
      "Saving 6.67 x 6.67 in image\n",
      "\n",
      "preparing geneSet collections...\n",
      "\n",
      "GSEA analysis...\n",
      "\n",
      "Warning message in preparePathwaysAndStats(pathways, stats, minSize, maxSize, gseaParam, :\n",
      "“There are ties in the preranked stats (0.29% of the list).\n",
      "The order of those tied genes will be arbitrary, which may produce unexpected results.”\n",
      "leading edge analysis...\n",
      "\n",
      "done...\n",
      "\n"
     ]
    },
    {
     "name": "stdout",
     "output_type": "stream",
     "text": [
      "[1] \"result\"\n",
      "[1] \"c5\"\n"
     ]
    },
    {
     "name": "stderr",
     "output_type": "stream",
     "text": [
      "Warning message in summary(egmt[[c]]):\n",
      "“summary method to convert the object to data.frame is deprecated, please use as.data.frame instead.”\n",
      "Saving 6.67 x 6.67 in image\n",
      "\n",
      "preparing geneSet collections...\n",
      "\n",
      "GSEA analysis...\n",
      "\n",
      "Warning message in preparePathwaysAndStats(pathways, stats, minSize, maxSize, gseaParam, :\n",
      "“There are ties in the preranked stats (0.29% of the list).\n",
      "The order of those tied genes will be arbitrary, which may produce unexpected results.”\n",
      "leading edge analysis...\n",
      "\n",
      "done...\n",
      "\n"
     ]
    },
    {
     "name": "stdout",
     "output_type": "stream",
     "text": [
      "[1] \"result\"\n",
      "[1] \"c7\"\n"
     ]
    },
    {
     "name": "stderr",
     "output_type": "stream",
     "text": [
      "Warning message in summary(egmt[[c]]):\n",
      "“summary method to convert the object to data.frame is deprecated, please use as.data.frame instead.”\n",
      "Saving 6.67 x 6.67 in image\n",
      "\n",
      "Warning message in is.na(egmt[[c]]):\n",
      "“is.na() applied to non-(list or vector) of type 'S4'”\n",
      "Warning message in summary(egmt[[c]]):\n",
      "“summary method to convert the object to data.frame is deprecated, please use as.data.frame instead.”\n",
      "Warning message in is.na(egmt[[c]]):\n",
      "“is.na() applied to non-(list or vector) of type 'S4'”\n",
      "Warning message in summary(egmt[[c]]):\n",
      "“summary method to convert the object to data.frame is deprecated, please use as.data.frame instead.”\n",
      "Warning message in is.na(egmt[[c]]):\n",
      "“is.na() applied to non-(list or vector) of type 'S4'”\n",
      "Warning message in summary(egmt[[c]]):\n",
      "“summary method to convert the object to data.frame is deprecated, please use as.data.frame instead.”\n",
      "Warning message in is.na(egmt[[c]]):\n",
      "“is.na() applied to non-(list or vector) of type 'S4'”\n",
      "Warning message in summary(egmt[[c]]):\n",
      "“summary method to convert the object to data.frame is deprecated, please use as.data.frame instead.”\n"
     ]
    },
    {
     "name": "stdout",
     "output_type": "stream",
     "text": [
      "[1] \"preExcel writing\"\n",
      "[1] \"postExcel writing\"\n",
      "[1] \"Here we go .... :/data/Mito_Trace/output/pipeline/TcellDupi_may17_2021/MTblacklist/data/merged/MT/cellr_True/numread_200/filters/minC10_minR50_topN0_hetT0.001_hetC10_hetCount5_bq20/mgatk/vireoIn/clones/variants_init/knn/kparam_3/concat/gff_hg38_1_2/annotation_clones/de_clone_btwncond_RNA/minPct0.01_logfc0.1/GSEA_pctthresh.0.1_pthresh.0.1_pref.FALSE_stat.log2FoldChange_padj.BH/prep/1_20_DE.tsv\"\n",
      "[1] \"Myclass\"\n",
      "[1] 3706    7\n",
      "[1] 2905    7\n",
      "[1] \"pvalue\"         \"log2FoldChange\" \"pct.1\"          \"pct.2\"         \n",
      "[5] \"padj_bonf\"      \"padj\"           \"ensg\"          \n",
      "             pvalue log2FoldChange pct.1 pct.2  padj_bonf        padj\n",
      "ITPKB  2.934155e-06      0.5861519 0.941 0.672 0.05743608 0.003624660\n",
      "BORCS5 4.537001e-06      0.5121946 0.824 0.385 0.08881180 0.004203532\n",
      "SREBF2 8.638779e-06      0.3171185 0.549 0.180 0.16910409 0.004403372\n",
      "IPPK   9.822568e-06      0.3046494 0.471 0.139 0.19227676 0.004403372\n",
      "FNBP1  1.198896e-05      0.5015719 0.765 0.402 0.23468396 0.004403372\n",
      "CREM   1.306991e-05      0.6757553 0.824 0.467 0.25584352 0.004403372\n",
      "                  ensg\n",
      "ITPKB  ENSG00000143772\n",
      "BORCS5 ENSG00000165714\n",
      "SREBF2 ENSG00000198911\n",
      "IPPK   ENSG00000127080\n",
      "FNBP1  ENSG00000187239\n",
      "CREM   ENSG00000095794\n",
      "[1] \"here\"\n",
      "           Gene log2FoldChange\n",
      "CREM       CREM      0.6757553\n",
      "ITPKB     ITPKB      0.5861519\n",
      "DHFR       DHFR      0.5806390\n",
      "TBL1XR1 TBL1XR1      0.5758990\n",
      "BORCS5   BORCS5      0.5121946\n",
      "USP1       USP1      0.5051216\n"
     ]
    },
    {
     "name": "stderr",
     "output_type": "stream",
     "text": [
      "preparing geneSet collections...\n",
      "\n",
      "GSEA analysis...\n",
      "\n",
      "Warning message in preparePathwaysAndStats(pathways, stats, minSize, maxSize, gseaParam, :\n",
      "“There are ties in the preranked stats (0.45% of the list).\n",
      "The order of those tied genes will be arbitrary, which may produce unexpected results.”\n",
      "leading edge analysis...\n",
      "\n",
      "done...\n",
      "\n"
     ]
    },
    {
     "name": "stdout",
     "output_type": "stream",
     "text": [
      "[1] \"result\"\n",
      "[1] \"c0\"\n"
     ]
    },
    {
     "name": "stderr",
     "output_type": "stream",
     "text": [
      "Warning message in summary(egmt[[c]]):\n",
      "“summary method to convert the object to data.frame is deprecated, please use as.data.frame instead.”\n",
      "Saving 6.67 x 6.67 in image\n",
      "\n",
      "preparing geneSet collections...\n",
      "\n",
      "GSEA analysis...\n",
      "\n",
      "Warning message in preparePathwaysAndStats(pathways, stats, minSize, maxSize, gseaParam, :\n",
      "“There are ties in the preranked stats (0.45% of the list).\n",
      "The order of those tied genes will be arbitrary, which may produce unexpected results.”\n",
      "leading edge analysis...\n",
      "\n",
      "done...\n",
      "\n"
     ]
    },
    {
     "name": "stdout",
     "output_type": "stream",
     "text": [
      "[1] \"result\"\n",
      "[1] \"c2\"\n"
     ]
    },
    {
     "name": "stderr",
     "output_type": "stream",
     "text": [
      "Warning message in summary(egmt[[c]]):\n",
      "“summary method to convert the object to data.frame is deprecated, please use as.data.frame instead.”\n",
      "Saving 6.67 x 6.67 in image\n",
      "\n",
      "preparing geneSet collections...\n",
      "\n",
      "GSEA analysis...\n",
      "\n",
      "Warning message in preparePathwaysAndStats(pathways, stats, minSize, maxSize, gseaParam, :\n",
      "“There are ties in the preranked stats (0.45% of the list).\n",
      "The order of those tied genes will be arbitrary, which may produce unexpected results.”\n",
      "no term enriched under specific pvalueCutoff...\n",
      "\n"
     ]
    },
    {
     "name": "stdout",
     "output_type": "stream",
     "text": [
      "[1] \"result\"\n",
      "[1] \"c5\"\n"
     ]
    },
    {
     "name": "stderr",
     "output_type": "stream",
     "text": [
      "Warning message in summary(egmt[[c]]):\n",
      "“summary method to convert the object to data.frame is deprecated, please use as.data.frame instead.”\n",
      "preparing geneSet collections...\n",
      "\n",
      "GSEA analysis...\n",
      "\n",
      "Warning message in preparePathwaysAndStats(pathways, stats, minSize, maxSize, gseaParam, :\n",
      "“There are ties in the preranked stats (0.45% of the list).\n",
      "The order of those tied genes will be arbitrary, which may produce unexpected results.”\n",
      "leading edge analysis...\n",
      "\n",
      "done...\n",
      "\n"
     ]
    },
    {
     "name": "stdout",
     "output_type": "stream",
     "text": [
      "[1] \"result\"\n",
      "[1] \"c7\"\n"
     ]
    },
    {
     "name": "stderr",
     "output_type": "stream",
     "text": [
      "Warning message in summary(egmt[[c]]):\n",
      "“summary method to convert the object to data.frame is deprecated, please use as.data.frame instead.”\n",
      "Saving 6.67 x 6.67 in image\n",
      "\n",
      "Warning message in is.na(egmt[[c]]):\n",
      "“is.na() applied to non-(list or vector) of type 'S4'”\n",
      "Warning message in summary(egmt[[c]]):\n",
      "“summary method to convert the object to data.frame is deprecated, please use as.data.frame instead.”\n",
      "Warning message in is.na(egmt[[c]]):\n",
      "“is.na() applied to non-(list or vector) of type 'S4'”\n",
      "Warning message in summary(egmt[[c]]):\n",
      "“summary method to convert the object to data.frame is deprecated, please use as.data.frame instead.”\n",
      "Warning message in is.na(egmt[[c]]):\n",
      "“is.na() applied to non-(list or vector) of type 'S4'”\n",
      "Warning message in summary(egmt[[c]]):\n",
      "“summary method to convert the object to data.frame is deprecated, please use as.data.frame instead.”\n",
      "Warning message in is.na(egmt[[c]]):\n",
      "“is.na() applied to non-(list or vector) of type 'S4'”\n",
      "Warning message in summary(egmt[[c]]):\n",
      "“summary method to convert the object to data.frame is deprecated, please use as.data.frame instead.”\n"
     ]
    },
    {
     "name": "stdout",
     "output_type": "stream",
     "text": [
      "[1] \"preExcel writing\"\n",
      "[1] \"postExcel writing\"\n",
      "[1] \"Here we go .... :/data/Mito_Trace/output/pipeline/TcellDupi_may17_2021/MTblacklist/data/merged/MT/cellr_True/numread_200/filters/minC10_minR50_topN0_hetT0.001_hetC10_hetCount5_bq20/mgatk/vireoIn/clones/variants_init/knn/kparam_3/concat/gff_hg38_1_2/annotation_clones/de_clone_btwncond_RNA/minPct0.01_logfc0.1/GSEA_pctthresh.0.1_pthresh.0.1_pref.FALSE_stat.log2FoldChange_padj.BH/prep/1_22_DE.tsv\"\n",
      "[1] \"Myclass\"\n",
      "[1] 3590    7\n",
      "[1] 2888    7\n",
      "[1] \"pvalue\"         \"log2FoldChange\" \"pct.1\"          \"pct.2\"         \n",
      "[5] \"padj_bonf\"      \"padj\"           \"ensg\"          \n",
      "                     pvalue log2FoldChange pct.1 pct.2   padj_bonf         padj\n",
      "ITPKB          6.337388e-08      0.7139809 0.932 0.618 0.001240544 0.0001137561\n",
      "PSMD11         1.823110e-06      0.3860995 0.492 0.145 0.035687381 0.0017847264\n",
      "TMEM256-PLSCR3 3.155994e-06      0.3234805 0.559 0.191 0.061778592 0.0022091306\n",
      "ZCCHC11        3.797951e-06      0.3486757 0.576 0.200 0.074344896 0.0022091306\n",
      "COG8           4.307497e-06      0.2203745 0.475 0.118 0.084319252 0.0022091306\n",
      "TMEM256        5.560231e-06      0.2927500 0.475 0.136 0.108841528 0.0024951538\n",
      "                          ensg\n",
      "ITPKB          ENSG00000143772\n",
      "PSMD11         ENSG00000108671\n",
      "TMEM256-PLSCR3            <NA>\n",
      "ZCCHC11                   <NA>\n",
      "COG8           ENSG00000213380\n",
      "TMEM256        ENSG00000205544\n",
      "[1] \"here\"\n",
      "         Gene log2FoldChange\n",
      "ITPKB   ITPKB      0.7139809\n",
      "ZHX2     ZHX2      0.4848358\n",
      "SAE1     SAE1      0.4174440\n",
      "SNX9     SNX9      0.4064417\n",
      "PSMD11 PSMD11      0.3860995\n",
      "SP3       SP3      0.3786744\n"
     ]
    },
    {
     "name": "stderr",
     "output_type": "stream",
     "text": [
      "preparing geneSet collections...\n",
      "\n",
      "GSEA analysis...\n",
      "\n",
      "Warning message in preparePathwaysAndStats(pathways, stats, minSize, maxSize, gseaParam, :\n",
      "“There are ties in the preranked stats (0.35% of the list).\n",
      "The order of those tied genes will be arbitrary, which may produce unexpected results.”\n",
      "no term enriched under specific pvalueCutoff...\n",
      "\n"
     ]
    },
    {
     "name": "stdout",
     "output_type": "stream",
     "text": [
      "[1] \"result\"\n",
      "[1] \"c0\"\n"
     ]
    },
    {
     "name": "stderr",
     "output_type": "stream",
     "text": [
      "Warning message in summary(egmt[[c]]):\n",
      "“summary method to convert the object to data.frame is deprecated, please use as.data.frame instead.”\n",
      "preparing geneSet collections...\n",
      "\n",
      "GSEA analysis...\n",
      "\n",
      "Warning message in preparePathwaysAndStats(pathways, stats, minSize, maxSize, gseaParam, :\n",
      "“There are ties in the preranked stats (0.35% of the list).\n",
      "The order of those tied genes will be arbitrary, which may produce unexpected results.”\n",
      "leading edge analysis...\n",
      "\n",
      "done...\n",
      "\n"
     ]
    },
    {
     "name": "stdout",
     "output_type": "stream",
     "text": [
      "[1] \"result\"\n",
      "[1] \"c2\"\n"
     ]
    },
    {
     "name": "stderr",
     "output_type": "stream",
     "text": [
      "Warning message in summary(egmt[[c]]):\n",
      "“summary method to convert the object to data.frame is deprecated, please use as.data.frame instead.”\n",
      "Saving 6.67 x 6.67 in image\n",
      "\n",
      "preparing geneSet collections...\n",
      "\n",
      "GSEA analysis...\n",
      "\n",
      "Warning message in preparePathwaysAndStats(pathways, stats, minSize, maxSize, gseaParam, :\n",
      "“There are ties in the preranked stats (0.35% of the list).\n",
      "The order of those tied genes will be arbitrary, which may produce unexpected results.”\n",
      "leading edge analysis...\n",
      "\n",
      "done...\n",
      "\n"
     ]
    },
    {
     "name": "stdout",
     "output_type": "stream",
     "text": [
      "[1] \"result\"\n",
      "[1] \"c5\"\n"
     ]
    },
    {
     "name": "stderr",
     "output_type": "stream",
     "text": [
      "Warning message in summary(egmt[[c]]):\n",
      "“summary method to convert the object to data.frame is deprecated, please use as.data.frame instead.”\n",
      "Saving 6.67 x 6.67 in image\n",
      "\n",
      "preparing geneSet collections...\n",
      "\n",
      "GSEA analysis...\n",
      "\n",
      "Warning message in preparePathwaysAndStats(pathways, stats, minSize, maxSize, gseaParam, :\n",
      "“There are ties in the preranked stats (0.35% of the list).\n",
      "The order of those tied genes will be arbitrary, which may produce unexpected results.”\n",
      "leading edge analysis...\n",
      "\n",
      "done...\n",
      "\n"
     ]
    },
    {
     "name": "stdout",
     "output_type": "stream",
     "text": [
      "[1] \"result\"\n",
      "[1] \"c7\"\n"
     ]
    },
    {
     "name": "stderr",
     "output_type": "stream",
     "text": [
      "Warning message in summary(egmt[[c]]):\n",
      "“summary method to convert the object to data.frame is deprecated, please use as.data.frame instead.”\n",
      "Saving 6.67 x 6.67 in image\n",
      "\n",
      "Warning message in is.na(egmt[[c]]):\n",
      "“is.na() applied to non-(list or vector) of type 'S4'”\n",
      "Warning message in summary(egmt[[c]]):\n",
      "“summary method to convert the object to data.frame is deprecated, please use as.data.frame instead.”\n",
      "Warning message in is.na(egmt[[c]]):\n",
      "“is.na() applied to non-(list or vector) of type 'S4'”\n",
      "Warning message in summary(egmt[[c]]):\n",
      "“summary method to convert the object to data.frame is deprecated, please use as.data.frame instead.”\n",
      "Warning message in is.na(egmt[[c]]):\n",
      "“is.na() applied to non-(list or vector) of type 'S4'”\n",
      "Warning message in summary(egmt[[c]]):\n",
      "“summary method to convert the object to data.frame is deprecated, please use as.data.frame instead.”\n",
      "Warning message in is.na(egmt[[c]]):\n",
      "“is.na() applied to non-(list or vector) of type 'S4'”\n",
      "Warning message in summary(egmt[[c]]):\n",
      "“summary method to convert the object to data.frame is deprecated, please use as.data.frame instead.”\n"
     ]
    },
    {
     "name": "stdout",
     "output_type": "stream",
     "text": [
      "[1] \"preExcel writing\"\n",
      "[1] \"postExcel writing\"\n",
      "[1] \"Here we go .... :/data/Mito_Trace/output/pipeline/TcellDupi_may17_2021/MTblacklist/data/merged/MT/cellr_True/numread_200/filters/minC10_minR50_topN0_hetT0.001_hetC10_hetCount5_bq20/mgatk/vireoIn/clones/variants_init/knn/kparam_3/concat/gff_hg38_1_2/annotation_clones/de_clone_btwncond_RNA/minPct0.01_logfc0.1/GSEA_pctthresh.0.1_pthresh.0.1_pref.FALSE_stat.log2FoldChange_padj.BH/prep/1_25_DE.tsv\"\n",
      "[1] \"Myclass\"\n",
      "[1] 3706    7\n",
      "[1] 2925    7\n",
      "[1] \"pvalue\"         \"log2FoldChange\" \"pct.1\"          \"pct.2\"         \n",
      "[5] \"padj_bonf\"      \"padj\"           \"ensg\"          \n",
      "               pvalue log2FoldChange pct.1 pct.2   padj_bonf         padj\n",
      "HMHA1    2.604656e-07      0.4264121 0.636 0.173 0.005098615 0.0009652857\n",
      "MXD4     2.892218e-06      0.3635071 0.481 0.120 0.056615166 0.0015253986\n",
      "PLEKHA2  3.204215e-06      0.4009384 0.597 0.200 0.062722508 0.0015253986\n",
      "DUSP1    3.205168e-06      0.4866955 0.662 0.280 0.062741159 0.0015253986\n",
      "NFATC1   3.292819e-06      0.4284158 0.727 0.280 0.064456941 0.0015253986\n",
      "HIST1H4B 4.888170e-06      0.3009586 0.481 0.120 0.095685924 0.0020128397\n",
      "                    ensg\n",
      "HMHA1               <NA>\n",
      "MXD4     ENSG00000123933\n",
      "PLEKHA2  ENSG00000169499\n",
      "DUSP1    ENSG00000120129\n",
      "NFATC1   ENSG00000131196\n",
      "HIST1H4B            <NA>\n",
      "[1] \"here\"\n",
      "         Gene log2FoldChange\n",
      "DUSP1   DUSP1      0.4866955\n",
      "MALT1   MALT1      0.4627771\n",
      "ITPKB   ITPKB      0.4612943\n",
      "PFKFB3 PFKFB3      0.4408071\n",
      "NFATC1 NFATC1      0.4284158\n",
      "ABTB2   ABTB2      0.4274645\n"
     ]
    },
    {
     "name": "stderr",
     "output_type": "stream",
     "text": [
      "preparing geneSet collections...\n",
      "\n",
      "GSEA analysis...\n",
      "\n",
      "Warning message in preparePathwaysAndStats(pathways, stats, minSize, maxSize, gseaParam, :\n",
      "“There are ties in the preranked stats (0.72% of the list).\n",
      "The order of those tied genes will be arbitrary, which may produce unexpected results.”\n",
      "leading edge analysis...\n",
      "\n",
      "done...\n",
      "\n"
     ]
    },
    {
     "name": "stdout",
     "output_type": "stream",
     "text": [
      "[1] \"result\"\n",
      "[1] \"c0\"\n"
     ]
    },
    {
     "name": "stderr",
     "output_type": "stream",
     "text": [
      "Warning message in summary(egmt[[c]]):\n",
      "“summary method to convert the object to data.frame is deprecated, please use as.data.frame instead.”\n",
      "Saving 6.67 x 6.67 in image\n",
      "\n",
      "preparing geneSet collections...\n",
      "\n",
      "GSEA analysis...\n",
      "\n",
      "Warning message in preparePathwaysAndStats(pathways, stats, minSize, maxSize, gseaParam, :\n",
      "“There are ties in the preranked stats (0.72% of the list).\n",
      "The order of those tied genes will be arbitrary, which may produce unexpected results.”\n",
      "leading edge analysis...\n",
      "\n",
      "done...\n",
      "\n"
     ]
    },
    {
     "name": "stdout",
     "output_type": "stream",
     "text": [
      "[1] \"result\"\n",
      "[1] \"c2\"\n"
     ]
    },
    {
     "name": "stderr",
     "output_type": "stream",
     "text": [
      "Warning message in summary(egmt[[c]]):\n",
      "“summary method to convert the object to data.frame is deprecated, please use as.data.frame instead.”\n",
      "Saving 6.67 x 6.67 in image\n",
      "\n",
      "preparing geneSet collections...\n",
      "\n",
      "GSEA analysis...\n",
      "\n",
      "Warning message in preparePathwaysAndStats(pathways, stats, minSize, maxSize, gseaParam, :\n",
      "“There are ties in the preranked stats (0.72% of the list).\n",
      "The order of those tied genes will be arbitrary, which may produce unexpected results.”\n",
      "leading edge analysis...\n",
      "\n",
      "done...\n",
      "\n"
     ]
    },
    {
     "name": "stdout",
     "output_type": "stream",
     "text": [
      "[1] \"result\"\n",
      "[1] \"c5\"\n"
     ]
    },
    {
     "name": "stderr",
     "output_type": "stream",
     "text": [
      "Warning message in summary(egmt[[c]]):\n",
      "“summary method to convert the object to data.frame is deprecated, please use as.data.frame instead.”\n",
      "Saving 6.67 x 6.67 in image\n",
      "\n",
      "preparing geneSet collections...\n",
      "\n",
      "GSEA analysis...\n",
      "\n",
      "Warning message in preparePathwaysAndStats(pathways, stats, minSize, maxSize, gseaParam, :\n",
      "“There are ties in the preranked stats (0.72% of the list).\n",
      "The order of those tied genes will be arbitrary, which may produce unexpected results.”\n",
      "leading edge analysis...\n",
      "\n",
      "done...\n",
      "\n"
     ]
    },
    {
     "name": "stdout",
     "output_type": "stream",
     "text": [
      "[1] \"result\"\n",
      "[1] \"c7\"\n"
     ]
    },
    {
     "name": "stderr",
     "output_type": "stream",
     "text": [
      "Warning message in summary(egmt[[c]]):\n",
      "“summary method to convert the object to data.frame is deprecated, please use as.data.frame instead.”\n",
      "Saving 6.67 x 6.67 in image\n",
      "\n",
      "Warning message in is.na(egmt[[c]]):\n",
      "“is.na() applied to non-(list or vector) of type 'S4'”\n",
      "Warning message in summary(egmt[[c]]):\n",
      "“summary method to convert the object to data.frame is deprecated, please use as.data.frame instead.”\n",
      "Warning message in is.na(egmt[[c]]):\n",
      "“is.na() applied to non-(list or vector) of type 'S4'”\n",
      "Warning message in summary(egmt[[c]]):\n",
      "“summary method to convert the object to data.frame is deprecated, please use as.data.frame instead.”\n",
      "Warning message in is.na(egmt[[c]]):\n",
      "“is.na() applied to non-(list or vector) of type 'S4'”\n",
      "Warning message in summary(egmt[[c]]):\n",
      "“summary method to convert the object to data.frame is deprecated, please use as.data.frame instead.”\n",
      "Warning message in is.na(egmt[[c]]):\n",
      "“is.na() applied to non-(list or vector) of type 'S4'”\n",
      "Warning message in summary(egmt[[c]]):\n",
      "“summary method to convert the object to data.frame is deprecated, please use as.data.frame instead.”\n"
     ]
    },
    {
     "name": "stdout",
     "output_type": "stream",
     "text": [
      "[1] \"preExcel writing\"\n",
      "[1] \"postExcel writing\"\n",
      "[1] \"Here we go .... :/data/Mito_Trace/output/pipeline/TcellDupi_may17_2021/MTblacklist/data/merged/MT/cellr_True/numread_200/filters/minC10_minR50_topN0_hetT0.001_hetC10_hetCount5_bq20/mgatk/vireoIn/clones/variants_init/knn/kparam_3/concat/gff_hg38_1_2/annotation_clones/de_clone_btwncond_RNA/minPct0.01_logfc0.1/GSEA_pctthresh.0.1_pthresh.0.1_pref.FALSE_stat.log2FoldChange_padj.BH/prep/1_26_DE.tsv\"\n",
      "[1] \"Myclass\"\n",
      "[1] 3863    7\n",
      "[1] 2938    7\n",
      "[1] \"pvalue\"         \"log2FoldChange\" \"pct.1\"          \"pct.2\"         \n",
      "[5] \"padj_bonf\"      \"padj\"           \"ensg\"          \n",
      "               pvalue log2FoldChange pct.1 pct.2   padj_bonf         padj\n",
      "FNBP1    1.341511e-07      0.5497100 0.846 0.369 0.002626007 0.0002591128\n",
      "LNX2     5.441557e-07      0.5363652 0.631 0.190 0.010651847 0.0004184993\n",
      "KIAA1429 6.500119e-07      0.2925965 0.508 0.107 0.012723983 0.0004184993\n",
      "HDAC4    1.155890e-06      0.5076988 0.908 0.548 0.022626540 0.0006378860\n",
      "SPOCK2   2.041332e-06      0.4037999 0.569 0.167 0.039959082 0.0009857084\n",
      "CCDC88C  3.764791e-06      0.4478933 0.877 0.429 0.073695787 0.0016139389\n",
      "                    ensg\n",
      "FNBP1    ENSG00000187239\n",
      "LNX2     ENSG00000139517\n",
      "KIAA1429            <NA>\n",
      "HDAC4    ENSG00000068024\n",
      "SPOCK2   ENSG00000107742\n",
      "CCDC88C  ENSG00000015133\n",
      "[1] \"here\"\n",
      "           Gene log2FoldChange\n",
      "FNBP1     FNBP1      0.5497100\n",
      "LNX2       LNX2      0.5363652\n",
      "ANKRD11 ANKRD11      0.5251210\n",
      "HDAC4     HDAC4      0.5076988\n",
      "POLR1D   POLR1D      0.4716866\n",
      "CCDC88C CCDC88C      0.4478933\n"
     ]
    },
    {
     "name": "stderr",
     "output_type": "stream",
     "text": [
      "preparing geneSet collections...\n",
      "\n",
      "GSEA analysis...\n",
      "\n",
      "Warning message in preparePathwaysAndStats(pathways, stats, minSize, maxSize, gseaParam, :\n",
      "“There are ties in the preranked stats (0.68% of the list).\n",
      "The order of those tied genes will be arbitrary, which may produce unexpected results.”\n",
      "leading edge analysis...\n",
      "\n",
      "done...\n",
      "\n"
     ]
    },
    {
     "name": "stdout",
     "output_type": "stream",
     "text": [
      "[1] \"result\"\n",
      "[1] \"c0\"\n"
     ]
    },
    {
     "name": "stderr",
     "output_type": "stream",
     "text": [
      "Warning message in summary(egmt[[c]]):\n",
      "“summary method to convert the object to data.frame is deprecated, please use as.data.frame instead.”\n",
      "Saving 6.67 x 6.67 in image\n",
      "\n",
      "preparing geneSet collections...\n",
      "\n",
      "GSEA analysis...\n",
      "\n",
      "Warning message in preparePathwaysAndStats(pathways, stats, minSize, maxSize, gseaParam, :\n",
      "“There are ties in the preranked stats (0.68% of the list).\n",
      "The order of those tied genes will be arbitrary, which may produce unexpected results.”\n",
      "leading edge analysis...\n",
      "\n",
      "done...\n",
      "\n"
     ]
    },
    {
     "name": "stdout",
     "output_type": "stream",
     "text": [
      "[1] \"result\"\n",
      "[1] \"c2\"\n"
     ]
    },
    {
     "name": "stderr",
     "output_type": "stream",
     "text": [
      "Warning message in summary(egmt[[c]]):\n",
      "“summary method to convert the object to data.frame is deprecated, please use as.data.frame instead.”\n",
      "Saving 6.67 x 6.67 in image\n",
      "\n",
      "preparing geneSet collections...\n",
      "\n",
      "GSEA analysis...\n",
      "\n",
      "Warning message in preparePathwaysAndStats(pathways, stats, minSize, maxSize, gseaParam, :\n",
      "“There are ties in the preranked stats (0.68% of the list).\n",
      "The order of those tied genes will be arbitrary, which may produce unexpected results.”\n",
      "leading edge analysis...\n",
      "\n",
      "done...\n",
      "\n"
     ]
    },
    {
     "name": "stdout",
     "output_type": "stream",
     "text": [
      "[1] \"result\"\n",
      "[1] \"c5\"\n"
     ]
    },
    {
     "name": "stderr",
     "output_type": "stream",
     "text": [
      "Warning message in summary(egmt[[c]]):\n",
      "“summary method to convert the object to data.frame is deprecated, please use as.data.frame instead.”\n",
      "Saving 6.67 x 6.67 in image\n",
      "\n",
      "preparing geneSet collections...\n",
      "\n",
      "GSEA analysis...\n",
      "\n",
      "Warning message in preparePathwaysAndStats(pathways, stats, minSize, maxSize, gseaParam, :\n",
      "“There are ties in the preranked stats (0.68% of the list).\n",
      "The order of those tied genes will be arbitrary, which may produce unexpected results.”\n",
      "leading edge analysis...\n",
      "\n",
      "done...\n",
      "\n"
     ]
    },
    {
     "name": "stdout",
     "output_type": "stream",
     "text": [
      "[1] \"result\"\n",
      "[1] \"c7\"\n"
     ]
    },
    {
     "name": "stderr",
     "output_type": "stream",
     "text": [
      "Warning message in summary(egmt[[c]]):\n",
      "“summary method to convert the object to data.frame is deprecated, please use as.data.frame instead.”\n",
      "Saving 6.67 x 6.67 in image\n",
      "\n",
      "Warning message in is.na(egmt[[c]]):\n",
      "“is.na() applied to non-(list or vector) of type 'S4'”\n",
      "Warning message in summary(egmt[[c]]):\n",
      "“summary method to convert the object to data.frame is deprecated, please use as.data.frame instead.”\n",
      "Warning message in is.na(egmt[[c]]):\n",
      "“is.na() applied to non-(list or vector) of type 'S4'”\n",
      "Warning message in summary(egmt[[c]]):\n",
      "“summary method to convert the object to data.frame is deprecated, please use as.data.frame instead.”\n",
      "Warning message in is.na(egmt[[c]]):\n",
      "“is.na() applied to non-(list or vector) of type 'S4'”\n",
      "Warning message in summary(egmt[[c]]):\n",
      "“summary method to convert the object to data.frame is deprecated, please use as.data.frame instead.”\n",
      "Warning message in is.na(egmt[[c]]):\n",
      "“is.na() applied to non-(list or vector) of type 'S4'”\n",
      "Warning message in summary(egmt[[c]]):\n",
      "“summary method to convert the object to data.frame is deprecated, please use as.data.frame instead.”\n"
     ]
    },
    {
     "name": "stdout",
     "output_type": "stream",
     "text": [
      "[1] \"preExcel writing\"\n",
      "[1] \"postExcel writing\"\n",
      "[1] \"Here we go .... :/data/Mito_Trace/output/pipeline/TcellDupi_may17_2021/MTblacklist/data/merged/MT/cellr_True/numread_200/filters/minC10_minR50_topN0_hetT0.001_hetC10_hetCount5_bq20/mgatk/vireoIn/clones/variants_init/knn/kparam_3/concat/gff_hg38_1_2/annotation_clones/de_clone_btwncond_RNA/minPct0.01_logfc0.1/GSEA_pctthresh.0.1_pthresh.0.1_pref.FALSE_stat.log2FoldChange_padj.BH/prep/1_27_DE.tsv\"\n",
      "[1] \"Myclass\"\n",
      "[1] 3661    7\n",
      "[1] 2987    7\n",
      "[1] \"pvalue\"         \"log2FoldChange\" \"pct.1\"          \"pct.2\"         \n",
      "[5] \"padj_bonf\"      \"padj\"           \"ensg\"          \n",
      "               pvalue log2FoldChange pct.1 pct.2  padj_bonf         padj\n",
      "TNFRSF1B 9.162453e-08      0.4294828 0.639 0.159 0.00179355 0.0003354374\n",
      "USP36    2.650427e-06      0.5287206 0.672 0.295 0.05188211 0.0024873802\n",
      "CLP1     3.449651e-06      0.2644016 0.557 0.148 0.06752692 0.0025258343\n",
      "BLVRB    5.365906e-06      0.3338575 0.525 0.159 0.10503762 0.0026848208\n",
      "COPS5    6.161486e-06      0.3249721 0.656 0.216 0.12061110 0.0026848208\n",
      "RAB2A    1.016167e-05      0.2859301 0.557 0.170 0.19891470 0.0029794304\n",
      "                    ensg\n",
      "TNFRSF1B ENSG00000028137\n",
      "USP36    ENSG00000055483\n",
      "CLP1     ENSG00000172409\n",
      "BLVRB    ENSG00000090013\n",
      "COPS5    ENSG00000121022\n",
      "RAB2A    ENSG00000104388\n",
      "[1] \"here\"\n",
      "             Gene log2FoldChange\n",
      "USP36       USP36      0.5287206\n",
      "TNFRSF1B TNFRSF1B      0.4294828\n",
      "VAC14       VAC14      0.4066474\n",
      "FNBP1       FNBP1      0.3876222\n",
      "RASSF5     RASSF5      0.3875418\n",
      "IWS1         IWS1      0.3861769\n"
     ]
    },
    {
     "name": "stderr",
     "output_type": "stream",
     "text": [
      "preparing geneSet collections...\n",
      "\n",
      "GSEA analysis...\n",
      "\n",
      "Warning message in preparePathwaysAndStats(pathways, stats, minSize, maxSize, gseaParam, :\n",
      "“There are ties in the preranked stats (0.54% of the list).\n",
      "The order of those tied genes will be arbitrary, which may produce unexpected results.”\n",
      "no term enriched under specific pvalueCutoff...\n",
      "\n"
     ]
    },
    {
     "name": "stdout",
     "output_type": "stream",
     "text": [
      "[1] \"result\"\n",
      "[1] \"c0\"\n"
     ]
    },
    {
     "name": "stderr",
     "output_type": "stream",
     "text": [
      "Warning message in summary(egmt[[c]]):\n",
      "“summary method to convert the object to data.frame is deprecated, please use as.data.frame instead.”\n",
      "preparing geneSet collections...\n",
      "\n",
      "GSEA analysis...\n",
      "\n",
      "Warning message in preparePathwaysAndStats(pathways, stats, minSize, maxSize, gseaParam, :\n",
      "“There are ties in the preranked stats (0.54% of the list).\n",
      "The order of those tied genes will be arbitrary, which may produce unexpected results.”\n",
      "leading edge analysis...\n",
      "\n",
      "done...\n",
      "\n"
     ]
    },
    {
     "name": "stdout",
     "output_type": "stream",
     "text": [
      "[1] \"result\"\n",
      "[1] \"c2\"\n"
     ]
    },
    {
     "name": "stderr",
     "output_type": "stream",
     "text": [
      "Warning message in summary(egmt[[c]]):\n",
      "“summary method to convert the object to data.frame is deprecated, please use as.data.frame instead.”\n",
      "Saving 6.67 x 6.67 in image\n",
      "\n",
      "preparing geneSet collections...\n",
      "\n",
      "GSEA analysis...\n",
      "\n",
      "Warning message in preparePathwaysAndStats(pathways, stats, minSize, maxSize, gseaParam, :\n",
      "“There are ties in the preranked stats (0.54% of the list).\n",
      "The order of those tied genes will be arbitrary, which may produce unexpected results.”\n",
      "leading edge analysis...\n",
      "\n",
      "done...\n",
      "\n"
     ]
    },
    {
     "name": "stdout",
     "output_type": "stream",
     "text": [
      "[1] \"result\"\n",
      "[1] \"c5\"\n"
     ]
    },
    {
     "name": "stderr",
     "output_type": "stream",
     "text": [
      "Warning message in summary(egmt[[c]]):\n",
      "“summary method to convert the object to data.frame is deprecated, please use as.data.frame instead.”\n",
      "Saving 6.67 x 6.67 in image\n",
      "\n",
      "preparing geneSet collections...\n",
      "\n",
      "GSEA analysis...\n",
      "\n",
      "Warning message in preparePathwaysAndStats(pathways, stats, minSize, maxSize, gseaParam, :\n",
      "“There are ties in the preranked stats (0.54% of the list).\n",
      "The order of those tied genes will be arbitrary, which may produce unexpected results.”\n",
      "leading edge analysis...\n",
      "\n",
      "done...\n",
      "\n"
     ]
    },
    {
     "name": "stdout",
     "output_type": "stream",
     "text": [
      "[1] \"result\"\n",
      "[1] \"c7\"\n"
     ]
    },
    {
     "name": "stderr",
     "output_type": "stream",
     "text": [
      "Warning message in summary(egmt[[c]]):\n",
      "“summary method to convert the object to data.frame is deprecated, please use as.data.frame instead.”\n",
      "Saving 6.67 x 6.67 in image\n",
      "\n",
      "Warning message in is.na(egmt[[c]]):\n",
      "“is.na() applied to non-(list or vector) of type 'S4'”\n",
      "Warning message in summary(egmt[[c]]):\n",
      "“summary method to convert the object to data.frame is deprecated, please use as.data.frame instead.”\n",
      "Warning message in is.na(egmt[[c]]):\n",
      "“is.na() applied to non-(list or vector) of type 'S4'”\n",
      "Warning message in summary(egmt[[c]]):\n",
      "“summary method to convert the object to data.frame is deprecated, please use as.data.frame instead.”\n",
      "Warning message in is.na(egmt[[c]]):\n",
      "“is.na() applied to non-(list or vector) of type 'S4'”\n",
      "Warning message in summary(egmt[[c]]):\n",
      "“summary method to convert the object to data.frame is deprecated, please use as.data.frame instead.”\n",
      "Warning message in is.na(egmt[[c]]):\n",
      "“is.na() applied to non-(list or vector) of type 'S4'”\n",
      "Warning message in summary(egmt[[c]]):\n",
      "“summary method to convert the object to data.frame is deprecated, please use as.data.frame instead.”\n"
     ]
    },
    {
     "name": "stdout",
     "output_type": "stream",
     "text": [
      "[1] \"preExcel writing\"\n",
      "[1] \"postExcel writing\"\n",
      "[1] \"Here we go .... :/data/Mito_Trace/output/pipeline/TcellDupi_may17_2021/MTblacklist/data/merged/MT/cellr_True/numread_200/filters/minC10_minR50_topN0_hetT0.001_hetC10_hetCount5_bq20/mgatk/vireoIn/clones/variants_init/knn/kparam_3/concat/gff_hg38_1_2/annotation_clones/de_clone_btwncond_RNA/minPct0.01_logfc0.1/GSEA_pctthresh.0.1_pthresh.0.1_pref.FALSE_stat.log2FoldChange_padj.BH/prep/1_29_DE.tsv\"\n",
      "[1] \"Myclass\"\n",
      "[1] 3413    7\n",
      "[1] 2892    7\n",
      "[1] \"pvalue\"         \"log2FoldChange\" \"pct.1\"          \"pct.2\"         \n",
      "[5] \"padj_bonf\"      \"padj\"           \"ensg\"          \n",
      "                pvalue log2FoldChange pct.1 pct.2  padj_bonf        padj\n",
      "CFAP97    8.206300e-07      0.3557162 0.600 0.164 0.01606383 0.002800810\n",
      "SNX25     2.961577e-06      0.3237734 0.562 0.149 0.05797287 0.004578404\n",
      "C20orf100 7.863247e-06      0.4267988 0.637 0.224 0.15392306 0.004578404\n",
      "ARRDC2    9.168760e-06      0.2995679 0.475 0.119 0.17947848 0.004578404\n",
      "DCK       9.390223e-06      0.3192894 0.488 0.119 0.18381361 0.004578404\n",
      "ACTR2     1.149490e-05      0.2916285 0.450 0.104 0.22501271 0.004904013\n",
      "                     ensg\n",
      "CFAP97    ENSG00000164323\n",
      "SNX25     ENSG00000109762\n",
      "C20orf100            <NA>\n",
      "ARRDC2    ENSG00000105643\n",
      "DCK       ENSG00000156136\n",
      "ACTR2     ENSG00000138071\n",
      "[1] \"here\"\n",
      "               Gene log2FoldChange\n",
      "C20orf100 C20orf100      0.4267988\n",
      "FNBP1         FNBP1      0.4250412\n",
      "MBP             MBP      0.4158920\n",
      "PITPNC1     PITPNC1      0.4151214\n",
      "ITPKB         ITPKB      0.3976128\n",
      "PTK2B         PTK2B      0.3973104\n"
     ]
    },
    {
     "name": "stderr",
     "output_type": "stream",
     "text": [
      "preparing geneSet collections...\n",
      "\n",
      "GSEA analysis...\n",
      "\n",
      "Warning message in preparePathwaysAndStats(pathways, stats, minSize, maxSize, gseaParam, :\n",
      "“There are ties in the preranked stats (0.66% of the list).\n",
      "The order of those tied genes will be arbitrary, which may produce unexpected results.”\n",
      "leading edge analysis...\n",
      "\n",
      "done...\n",
      "\n"
     ]
    },
    {
     "name": "stdout",
     "output_type": "stream",
     "text": [
      "[1] \"result\"\n",
      "[1] \"c0\"\n"
     ]
    },
    {
     "name": "stderr",
     "output_type": "stream",
     "text": [
      "Warning message in summary(egmt[[c]]):\n",
      "“summary method to convert the object to data.frame is deprecated, please use as.data.frame instead.”\n",
      "Saving 6.67 x 6.67 in image\n",
      "\n",
      "preparing geneSet collections...\n",
      "\n",
      "GSEA analysis...\n",
      "\n",
      "Warning message in preparePathwaysAndStats(pathways, stats, minSize, maxSize, gseaParam, :\n",
      "“There are ties in the preranked stats (0.66% of the list).\n",
      "The order of those tied genes will be arbitrary, which may produce unexpected results.”\n",
      "leading edge analysis...\n",
      "\n",
      "done...\n",
      "\n"
     ]
    },
    {
     "name": "stdout",
     "output_type": "stream",
     "text": [
      "[1] \"result\"\n",
      "[1] \"c2\"\n"
     ]
    },
    {
     "name": "stderr",
     "output_type": "stream",
     "text": [
      "Warning message in summary(egmt[[c]]):\n",
      "“summary method to convert the object to data.frame is deprecated, please use as.data.frame instead.”\n",
      "Saving 6.67 x 6.67 in image\n",
      "\n",
      "preparing geneSet collections...\n",
      "\n",
      "GSEA analysis...\n",
      "\n",
      "Warning message in preparePathwaysAndStats(pathways, stats, minSize, maxSize, gseaParam, :\n",
      "“There are ties in the preranked stats (0.66% of the list).\n",
      "The order of those tied genes will be arbitrary, which may produce unexpected results.”\n",
      "leading edge analysis...\n",
      "\n",
      "done...\n",
      "\n"
     ]
    },
    {
     "name": "stdout",
     "output_type": "stream",
     "text": [
      "[1] \"result\"\n",
      "[1] \"c5\"\n"
     ]
    },
    {
     "name": "stderr",
     "output_type": "stream",
     "text": [
      "Warning message in summary(egmt[[c]]):\n",
      "“summary method to convert the object to data.frame is deprecated, please use as.data.frame instead.”\n",
      "Saving 6.67 x 6.67 in image\n",
      "\n",
      "preparing geneSet collections...\n",
      "\n",
      "GSEA analysis...\n",
      "\n",
      "Warning message in preparePathwaysAndStats(pathways, stats, minSize, maxSize, gseaParam, :\n",
      "“There are ties in the preranked stats (0.66% of the list).\n",
      "The order of those tied genes will be arbitrary, which may produce unexpected results.”\n",
      "no term enriched under specific pvalueCutoff...\n",
      "\n"
     ]
    },
    {
     "name": "stdout",
     "output_type": "stream",
     "text": [
      "[1] \"result\"\n",
      "[1] \"c7\"\n"
     ]
    },
    {
     "name": "stderr",
     "output_type": "stream",
     "text": [
      "Warning message in summary(egmt[[c]]):\n",
      "“summary method to convert the object to data.frame is deprecated, please use as.data.frame instead.”\n",
      "Warning message in is.na(egmt[[c]]):\n",
      "“is.na() applied to non-(list or vector) of type 'S4'”\n",
      "Warning message in summary(egmt[[c]]):\n",
      "“summary method to convert the object to data.frame is deprecated, please use as.data.frame instead.”\n",
      "Warning message in is.na(egmt[[c]]):\n",
      "“is.na() applied to non-(list or vector) of type 'S4'”\n",
      "Warning message in summary(egmt[[c]]):\n",
      "“summary method to convert the object to data.frame is deprecated, please use as.data.frame instead.”\n",
      "Warning message in is.na(egmt[[c]]):\n",
      "“is.na() applied to non-(list or vector) of type 'S4'”\n",
      "Warning message in summary(egmt[[c]]):\n",
      "“summary method to convert the object to data.frame is deprecated, please use as.data.frame instead.”\n",
      "Warning message in is.na(egmt[[c]]):\n",
      "“is.na() applied to non-(list or vector) of type 'S4'”\n",
      "Warning message in summary(egmt[[c]]):\n",
      "“summary method to convert the object to data.frame is deprecated, please use as.data.frame instead.”\n"
     ]
    },
    {
     "name": "stdout",
     "output_type": "stream",
     "text": [
      "[1] \"preExcel writing\"\n",
      "[1] \"postExcel writing\"\n",
      "[1] \"Here we go .... :/data/Mito_Trace/output/pipeline/TcellDupi_may17_2021/MTblacklist/data/merged/MT/cellr_True/numread_200/filters/minC10_minR50_topN0_hetT0.001_hetC10_hetCount5_bq20/mgatk/vireoIn/clones/variants_init/knn/kparam_3/concat/gff_hg38_1_2/annotation_clones/de_clone_btwncond_RNA/minPct0.01_logfc0.1/GSEA_pctthresh.0.1_pthresh.0.1_pref.FALSE_stat.log2FoldChange_padj.BH/prep/1_3_DE.tsv\"\n",
      "[1] \"Myclass\"\n",
      "[1] 2680    7\n",
      "[1] 2298    7\n",
      "[1] \"pvalue\"         \"log2FoldChange\" \"pct.1\"          \"pct.2\"         \n",
      "[5] \"padj_bonf\"      \"padj\"           \"ensg\"          \n",
      "             pvalue log2FoldChange pct.1 pct.2    padj_bonf         padj\n",
      "SYTL3  2.180678e-09      0.4158062 0.845 0.442 4.268677e-05 5.533842e-06\n",
      "WASHC3 1.191943e-08      0.2038310 0.544 0.174 2.333228e-04 1.064802e-05\n",
      "TESK1  1.967005e-08      0.2147164 0.612 0.216 3.850413e-04 1.317894e-05\n",
      "YWHAB  2.943297e-08      0.2315276 0.466 0.147 5.761503e-04 1.356194e-05\n",
      "CLCN3  3.501929e-08      0.3396914 0.777 0.363 6.855027e-04 1.356194e-05\n",
      "BCL3   3.621356e-08      0.2744461 0.476 0.153 7.088805e-04 1.356194e-05\n",
      "                  ensg\n",
      "SYTL3  ENSG00000164674\n",
      "WASHC3 ENSG00000120860\n",
      "TESK1  ENSG00000107140\n",
      "YWHAB  ENSG00000166913\n",
      "CLCN3  ENSG00000109572\n",
      "BCL3   ENSG00000069399\n",
      "[1] \"here\"\n",
      "         Gene log2FoldChange\n",
      "ITPKB   ITPKB      0.4701149\n",
      "BTBD11 BTBD11      0.4514167\n",
      "BCL11B BCL11B      0.4342684\n",
      "CREM     CREM      0.4172900\n",
      "SYTL3   SYTL3      0.4158062\n",
      "MAD1L1 MAD1L1      0.3930355\n"
     ]
    },
    {
     "name": "stderr",
     "output_type": "stream",
     "text": [
      "preparing geneSet collections...\n",
      "\n",
      "GSEA analysis...\n",
      "\n",
      "Warning message in preparePathwaysAndStats(pathways, stats, minSize, maxSize, gseaParam, :\n",
      "“There are ties in the preranked stats (0.22% of the list).\n",
      "The order of those tied genes will be arbitrary, which may produce unexpected results.”\n",
      "no term enriched under specific pvalueCutoff...\n",
      "\n"
     ]
    },
    {
     "name": "stdout",
     "output_type": "stream",
     "text": [
      "[1] \"result\"\n",
      "[1] \"c0\"\n"
     ]
    },
    {
     "name": "stderr",
     "output_type": "stream",
     "text": [
      "Warning message in summary(egmt[[c]]):\n",
      "“summary method to convert the object to data.frame is deprecated, please use as.data.frame instead.”\n",
      "preparing geneSet collections...\n",
      "\n",
      "GSEA analysis...\n",
      "\n",
      "Warning message in preparePathwaysAndStats(pathways, stats, minSize, maxSize, gseaParam, :\n",
      "“There are ties in the preranked stats (0.22% of the list).\n",
      "The order of those tied genes will be arbitrary, which may produce unexpected results.”\n",
      "leading edge analysis...\n",
      "\n",
      "done...\n",
      "\n"
     ]
    },
    {
     "name": "stdout",
     "output_type": "stream",
     "text": [
      "[1] \"result\"\n",
      "[1] \"c2\"\n"
     ]
    },
    {
     "name": "stderr",
     "output_type": "stream",
     "text": [
      "Warning message in summary(egmt[[c]]):\n",
      "“summary method to convert the object to data.frame is deprecated, please use as.data.frame instead.”\n",
      "Saving 6.67 x 6.67 in image\n",
      "\n",
      "preparing geneSet collections...\n",
      "\n",
      "GSEA analysis...\n",
      "\n",
      "Warning message in preparePathwaysAndStats(pathways, stats, minSize, maxSize, gseaParam, :\n",
      "“There are ties in the preranked stats (0.22% of the list).\n",
      "The order of those tied genes will be arbitrary, which may produce unexpected results.”\n",
      "leading edge analysis...\n",
      "\n",
      "done...\n",
      "\n"
     ]
    },
    {
     "name": "stdout",
     "output_type": "stream",
     "text": [
      "[1] \"result\"\n",
      "[1] \"c5\"\n"
     ]
    },
    {
     "name": "stderr",
     "output_type": "stream",
     "text": [
      "Warning message in summary(egmt[[c]]):\n",
      "“summary method to convert the object to data.frame is deprecated, please use as.data.frame instead.”\n",
      "Saving 6.67 x 6.67 in image\n",
      "\n",
      "preparing geneSet collections...\n",
      "\n",
      "GSEA analysis...\n",
      "\n",
      "Warning message in preparePathwaysAndStats(pathways, stats, minSize, maxSize, gseaParam, :\n",
      "“There are ties in the preranked stats (0.22% of the list).\n",
      "The order of those tied genes will be arbitrary, which may produce unexpected results.”\n",
      "leading edge analysis...\n",
      "\n",
      "done...\n",
      "\n"
     ]
    },
    {
     "name": "stdout",
     "output_type": "stream",
     "text": [
      "[1] \"result\"\n",
      "[1] \"c7\"\n"
     ]
    },
    {
     "name": "stderr",
     "output_type": "stream",
     "text": [
      "Warning message in summary(egmt[[c]]):\n",
      "“summary method to convert the object to data.frame is deprecated, please use as.data.frame instead.”\n",
      "Saving 6.67 x 6.67 in image\n",
      "\n",
      "Warning message in is.na(egmt[[c]]):\n",
      "“is.na() applied to non-(list or vector) of type 'S4'”\n",
      "Warning message in summary(egmt[[c]]):\n",
      "“summary method to convert the object to data.frame is deprecated, please use as.data.frame instead.”\n",
      "Warning message in is.na(egmt[[c]]):\n",
      "“is.na() applied to non-(list or vector) of type 'S4'”\n",
      "Warning message in summary(egmt[[c]]):\n",
      "“summary method to convert the object to data.frame is deprecated, please use as.data.frame instead.”\n",
      "Warning message in is.na(egmt[[c]]):\n",
      "“is.na() applied to non-(list or vector) of type 'S4'”\n",
      "Warning message in summary(egmt[[c]]):\n",
      "“summary method to convert the object to data.frame is deprecated, please use as.data.frame instead.”\n",
      "Warning message in is.na(egmt[[c]]):\n",
      "“is.na() applied to non-(list or vector) of type 'S4'”\n",
      "Warning message in summary(egmt[[c]]):\n",
      "“summary method to convert the object to data.frame is deprecated, please use as.data.frame instead.”\n"
     ]
    },
    {
     "name": "stdout",
     "output_type": "stream",
     "text": [
      "[1] \"preExcel writing\"\n",
      "[1] \"postExcel writing\"\n",
      "[1] \"Here we go .... :/data/Mito_Trace/output/pipeline/TcellDupi_may17_2021/MTblacklist/data/merged/MT/cellr_True/numread_200/filters/minC10_minR50_topN0_hetT0.001_hetC10_hetCount5_bq20/mgatk/vireoIn/clones/variants_init/knn/kparam_3/concat/gff_hg38_1_2/annotation_clones/de_clone_btwncond_RNA/minPct0.01_logfc0.1/GSEA_pctthresh.0.1_pthresh.0.1_pref.FALSE_stat.log2FoldChange_padj.BH/prep/1_35_DE.tsv\"\n",
      "[1] \"Myclass\"\n",
      "[1] 4885    7\n",
      "[1] 3382    7\n",
      "[1] \"pvalue\"         \"log2FoldChange\" \"pct.1\"          \"pct.2\"         \n",
      "[5] \"padj_bonf\"      \"padj\"           \"ensg\"          \n",
      "               pvalue log2FoldChange pct.1 pct.2   padj_bonf        padj\n",
      "SMCHD1   1.497857e-07      0.6375481 0.706 0.190 0.002932054 0.000731703\n",
      "LARP1    7.662005e-07      0.4471816 0.667 0.159 0.014998376 0.001871445\n",
      "SNX9     5.101983e-06      0.6571549 0.765 0.317 0.099871322 0.008307729\n",
      "ALDH16A1 7.691310e-06      0.4745206 0.745 0.286 0.150557399 0.009393013\n",
      "ROCK1    2.127654e-05      0.4220354 0.529 0.143 0.416488305 0.011548434\n",
      "PIH1D1   4.899004e-05      0.4021036 0.510 0.143 0.958979972 0.018540027\n",
      "                    ensg\n",
      "SMCHD1   ENSG00000101596\n",
      "LARP1    ENSG00000155506\n",
      "SNX9     ENSG00000130340\n",
      "ALDH16A1 ENSG00000161618\n",
      "ROCK1    ENSG00000067900\n",
      "PIH1D1   ENSG00000104872\n",
      "[1] \"here\"\n",
      "             Gene log2FoldChange\n",
      "ACOXL       ACOXL      0.8832081\n",
      "SNX9         SNX9      0.6571549\n",
      "SMCHD1     SMCHD1      0.6375481\n",
      "HNRNPUL1 HNRNPUL1      0.4974810\n",
      "ALDH16A1 ALDH16A1      0.4745206\n",
      "HDAC4       HDAC4      0.4617704\n"
     ]
    },
    {
     "name": "stderr",
     "output_type": "stream",
     "text": [
      "preparing geneSet collections...\n",
      "\n",
      "GSEA analysis...\n",
      "\n",
      "Warning message in preparePathwaysAndStats(pathways, stats, minSize, maxSize, gseaParam, :\n",
      "“There are ties in the preranked stats (1.06% of the list).\n",
      "The order of those tied genes will be arbitrary, which may produce unexpected results.”\n",
      "leading edge analysis...\n",
      "\n",
      "done...\n",
      "\n"
     ]
    },
    {
     "name": "stdout",
     "output_type": "stream",
     "text": [
      "[1] \"result\"\n",
      "[1] \"c0\"\n"
     ]
    },
    {
     "name": "stderr",
     "output_type": "stream",
     "text": [
      "Warning message in summary(egmt[[c]]):\n",
      "“summary method to convert the object to data.frame is deprecated, please use as.data.frame instead.”\n",
      "Saving 6.67 x 6.67 in image\n",
      "\n",
      "preparing geneSet collections...\n",
      "\n",
      "GSEA analysis...\n",
      "\n",
      "Warning message in preparePathwaysAndStats(pathways, stats, minSize, maxSize, gseaParam, :\n",
      "“There are ties in the preranked stats (1.06% of the list).\n",
      "The order of those tied genes will be arbitrary, which may produce unexpected results.”\n",
      "leading edge analysis...\n",
      "\n",
      "done...\n",
      "\n"
     ]
    },
    {
     "name": "stdout",
     "output_type": "stream",
     "text": [
      "[1] \"result\"\n",
      "[1] \"c2\"\n"
     ]
    },
    {
     "name": "stderr",
     "output_type": "stream",
     "text": [
      "Warning message in summary(egmt[[c]]):\n",
      "“summary method to convert the object to data.frame is deprecated, please use as.data.frame instead.”\n",
      "Saving 6.67 x 6.67 in image\n",
      "\n",
      "preparing geneSet collections...\n",
      "\n",
      "GSEA analysis...\n",
      "\n",
      "Warning message in preparePathwaysAndStats(pathways, stats, minSize, maxSize, gseaParam, :\n",
      "“There are ties in the preranked stats (1.06% of the list).\n",
      "The order of those tied genes will be arbitrary, which may produce unexpected results.”\n",
      "leading edge analysis...\n",
      "\n",
      "done...\n",
      "\n"
     ]
    },
    {
     "name": "stdout",
     "output_type": "stream",
     "text": [
      "[1] \"result\"\n",
      "[1] \"c5\"\n"
     ]
    },
    {
     "name": "stderr",
     "output_type": "stream",
     "text": [
      "Warning message in summary(egmt[[c]]):\n",
      "“summary method to convert the object to data.frame is deprecated, please use as.data.frame instead.”\n",
      "Saving 6.67 x 6.67 in image\n",
      "\n",
      "preparing geneSet collections...\n",
      "\n",
      "GSEA analysis...\n",
      "\n",
      "Warning message in preparePathwaysAndStats(pathways, stats, minSize, maxSize, gseaParam, :\n",
      "“There are ties in the preranked stats (1.06% of the list).\n",
      "The order of those tied genes will be arbitrary, which may produce unexpected results.”\n",
      "leading edge analysis...\n",
      "\n",
      "done...\n",
      "\n"
     ]
    },
    {
     "name": "stdout",
     "output_type": "stream",
     "text": [
      "[1] \"result\"\n",
      "[1] \"c7\"\n"
     ]
    },
    {
     "name": "stderr",
     "output_type": "stream",
     "text": [
      "Warning message in summary(egmt[[c]]):\n",
      "“summary method to convert the object to data.frame is deprecated, please use as.data.frame instead.”\n",
      "Saving 6.67 x 6.67 in image\n",
      "\n",
      "Warning message in is.na(egmt[[c]]):\n",
      "“is.na() applied to non-(list or vector) of type 'S4'”\n",
      "Warning message in summary(egmt[[c]]):\n",
      "“summary method to convert the object to data.frame is deprecated, please use as.data.frame instead.”\n",
      "Warning message in is.na(egmt[[c]]):\n",
      "“is.na() applied to non-(list or vector) of type 'S4'”\n",
      "Warning message in summary(egmt[[c]]):\n",
      "“summary method to convert the object to data.frame is deprecated, please use as.data.frame instead.”\n",
      "Warning message in is.na(egmt[[c]]):\n",
      "“is.na() applied to non-(list or vector) of type 'S4'”\n",
      "Warning message in summary(egmt[[c]]):\n",
      "“summary method to convert the object to data.frame is deprecated, please use as.data.frame instead.”\n",
      "Warning message in is.na(egmt[[c]]):\n",
      "“is.na() applied to non-(list or vector) of type 'S4'”\n",
      "Warning message in summary(egmt[[c]]):\n",
      "“summary method to convert the object to data.frame is deprecated, please use as.data.frame instead.”\n"
     ]
    },
    {
     "name": "stdout",
     "output_type": "stream",
     "text": [
      "[1] \"preExcel writing\"\n",
      "[1] \"postExcel writing\"\n",
      "[1] \"Here we go .... :/data/Mito_Trace/output/pipeline/TcellDupi_may17_2021/MTblacklist/data/merged/MT/cellr_True/numread_200/filters/minC10_minR50_topN0_hetT0.001_hetC10_hetCount5_bq20/mgatk/vireoIn/clones/variants_init/knn/kparam_3/concat/gff_hg38_1_2/annotation_clones/de_clone_btwncond_RNA/minPct0.01_logfc0.1/GSEA_pctthresh.0.1_pthresh.0.1_pref.FALSE_stat.log2FoldChange_padj.BH/prep/1_4_DE.tsv\"\n",
      "[1] \"Myclass\"\n",
      "[1] 2918    7\n",
      "[1] 2331    7\n",
      "[1] \"pvalue\"         \"log2FoldChange\" \"pct.1\"          \"pct.2\"         \n",
      "[5] \"padj_bonf\"      \"padj\"           \"ensg\"          \n",
      "               pvalue log2FoldChange pct.1 pct.2    padj_bonf         padj\n",
      "TNFRSF1B 2.893724e-09      0.4572984 0.646 0.248 5.664465e-05 8.443887e-06\n",
      "CLIC1    5.016181e-07      0.2273852 0.390 0.114 9.819175e-03 2.927443e-04\n",
      "SYTL3    8.328907e-07      0.4093383 0.720 0.371 1.630384e-02 3.640242e-04\n",
      "FGFRL1   1.580071e-06      0.2486508 0.378 0.114 3.092988e-02 5.122940e-04\n",
      "HSPBAP1  1.789103e-06      0.2808289 0.402 0.133 3.502168e-02 5.220601e-04\n",
      "DTHD1    4.757938e-06      0.2777964 0.390 0.133 9.313663e-02 1.156972e-03\n",
      "                    ensg\n",
      "TNFRSF1B ENSG00000028137\n",
      "CLIC1    ENSG00000213719\n",
      "SYTL3    ENSG00000164674\n",
      "FGFRL1   ENSG00000127418\n",
      "HSPBAP1  ENSG00000169087\n",
      "DTHD1    ENSG00000197057\n",
      "[1] \"here\"\n",
      "             Gene log2FoldChange\n",
      "TNFRSF1B TNFRSF1B      0.4572984\n",
      "SYTL3       SYTL3      0.4093383\n",
      "HDAC4       HDAC4      0.3904046\n",
      "TIGIT       TIGIT      0.3806879\n",
      "BCL11B     BCL11B      0.3759433\n",
      "CAST         CAST      0.3710832\n"
     ]
    },
    {
     "name": "stderr",
     "output_type": "stream",
     "text": [
      "preparing geneSet collections...\n",
      "\n",
      "GSEA analysis...\n",
      "\n",
      "Warning message in preparePathwaysAndStats(pathways, stats, minSize, maxSize, gseaParam, :\n",
      "“There are ties in the preranked stats (0.13% of the list).\n",
      "The order of those tied genes will be arbitrary, which may produce unexpected results.”\n",
      "leading edge analysis...\n",
      "\n",
      "done...\n",
      "\n"
     ]
    },
    {
     "name": "stdout",
     "output_type": "stream",
     "text": [
      "[1] \"result\"\n",
      "[1] \"c0\"\n"
     ]
    },
    {
     "name": "stderr",
     "output_type": "stream",
     "text": [
      "Warning message in summary(egmt[[c]]):\n",
      "“summary method to convert the object to data.frame is deprecated, please use as.data.frame instead.”\n",
      "Saving 6.67 x 6.67 in image\n",
      "\n",
      "preparing geneSet collections...\n",
      "\n",
      "GSEA analysis...\n",
      "\n",
      "Warning message in preparePathwaysAndStats(pathways, stats, minSize, maxSize, gseaParam, :\n",
      "“There are ties in the preranked stats (0.13% of the list).\n",
      "The order of those tied genes will be arbitrary, which may produce unexpected results.”\n",
      "leading edge analysis...\n",
      "\n",
      "done...\n",
      "\n"
     ]
    },
    {
     "name": "stdout",
     "output_type": "stream",
     "text": [
      "[1] \"result\"\n",
      "[1] \"c2\"\n"
     ]
    },
    {
     "name": "stderr",
     "output_type": "stream",
     "text": [
      "Warning message in summary(egmt[[c]]):\n",
      "“summary method to convert the object to data.frame is deprecated, please use as.data.frame instead.”\n",
      "Saving 6.67 x 6.67 in image\n",
      "\n",
      "preparing geneSet collections...\n",
      "\n",
      "GSEA analysis...\n",
      "\n",
      "Warning message in preparePathwaysAndStats(pathways, stats, minSize, maxSize, gseaParam, :\n",
      "“There are ties in the preranked stats (0.13% of the list).\n",
      "The order of those tied genes will be arbitrary, which may produce unexpected results.”\n",
      "leading edge analysis...\n",
      "\n",
      "done...\n",
      "\n"
     ]
    },
    {
     "name": "stdout",
     "output_type": "stream",
     "text": [
      "[1] \"result\"\n",
      "[1] \"c5\"\n"
     ]
    },
    {
     "name": "stderr",
     "output_type": "stream",
     "text": [
      "Warning message in summary(egmt[[c]]):\n",
      "“summary method to convert the object to data.frame is deprecated, please use as.data.frame instead.”\n",
      "Saving 6.67 x 6.67 in image\n",
      "\n",
      "preparing geneSet collections...\n",
      "\n",
      "GSEA analysis...\n",
      "\n",
      "Warning message in preparePathwaysAndStats(pathways, stats, minSize, maxSize, gseaParam, :\n",
      "“There are ties in the preranked stats (0.13% of the list).\n",
      "The order of those tied genes will be arbitrary, which may produce unexpected results.”\n",
      "leading edge analysis...\n",
      "\n",
      "done...\n",
      "\n"
     ]
    },
    {
     "name": "stdout",
     "output_type": "stream",
     "text": [
      "[1] \"result\"\n",
      "[1] \"c7\"\n"
     ]
    },
    {
     "name": "stderr",
     "output_type": "stream",
     "text": [
      "Warning message in summary(egmt[[c]]):\n",
      "“summary method to convert the object to data.frame is deprecated, please use as.data.frame instead.”\n",
      "Saving 6.67 x 6.67 in image\n",
      "\n",
      "Warning message in is.na(egmt[[c]]):\n",
      "“is.na() applied to non-(list or vector) of type 'S4'”\n",
      "Warning message in summary(egmt[[c]]):\n",
      "“summary method to convert the object to data.frame is deprecated, please use as.data.frame instead.”\n",
      "Warning message in is.na(egmt[[c]]):\n",
      "“is.na() applied to non-(list or vector) of type 'S4'”\n",
      "Warning message in summary(egmt[[c]]):\n",
      "“summary method to convert the object to data.frame is deprecated, please use as.data.frame instead.”\n",
      "Warning message in is.na(egmt[[c]]):\n",
      "“is.na() applied to non-(list or vector) of type 'S4'”\n",
      "Warning message in summary(egmt[[c]]):\n",
      "“summary method to convert the object to data.frame is deprecated, please use as.data.frame instead.”\n",
      "Warning message in is.na(egmt[[c]]):\n",
      "“is.na() applied to non-(list or vector) of type 'S4'”\n",
      "Warning message in summary(egmt[[c]]):\n",
      "“summary method to convert the object to data.frame is deprecated, please use as.data.frame instead.”\n"
     ]
    },
    {
     "name": "stdout",
     "output_type": "stream",
     "text": [
      "[1] \"preExcel writing\"\n",
      "[1] \"postExcel writing\"\n",
      "[1] \"Here we go .... :/data/Mito_Trace/output/pipeline/TcellDupi_may17_2021/MTblacklist/data/merged/MT/cellr_True/numread_200/filters/minC10_minR50_topN0_hetT0.001_hetC10_hetCount5_bq20/mgatk/vireoIn/clones/variants_init/knn/kparam_3/concat/gff_hg38_1_2/annotation_clones/de_clone_btwncond_RNA/minPct0.01_logfc0.1/GSEA_pctthresh.0.1_pthresh.0.1_pref.FALSE_stat.log2FoldChange_padj.BH/prep/1_5_DE.tsv\"\n",
      "[1] \"Myclass\"\n",
      "[1] 2892    7\n",
      "[1] 2322    7\n",
      "[1] \"pvalue\"         \"log2FoldChange\" \"pct.1\"          \"pct.2\"         \n",
      "[5] \"padj_bonf\"      \"padj\"           \"ensg\"          \n",
      "               pvalue log2FoldChange pct.1 pct.2    padj_bonf         padj\n",
      "KIAA0430 2.401449e-13      0.3828835 0.575 0.125 4.700837e-09 6.944991e-10\n",
      "RASSF2   4.204362e-09      0.3579464 0.589 0.194 8.230038e-05 4.053005e-06\n",
      "NRF1     1.209369e-08      0.3831662 0.452 0.125 2.367339e-04 8.743735e-06\n",
      "CARS     3.721503e-08      0.2722671 0.575 0.185 7.284843e-04 1.905977e-05\n",
      "PIGX     4.494021e-08      0.3022235 0.562 0.176 8.797045e-04 1.905977e-05\n",
      "TMEM109  1.171609e-07      0.2377348 0.479 0.144 2.293424e-03 3.725088e-05\n",
      "                    ensg\n",
      "KIAA0430            <NA>\n",
      "RASSF2   ENSG00000101265\n",
      "NRF1     ENSG00000106459\n",
      "CARS                <NA>\n",
      "PIGX     ENSG00000163964\n",
      "TMEM109  ENSG00000110108\n",
      "[1] \"here\"\n",
      "           Gene log2FoldChange\n",
      "ITPKB     ITPKB      0.4894075\n",
      "DEAF1     DEAF1      0.4018000\n",
      "POLR2M   POLR2M      0.4014567\n",
      "CABLES1 CABLES1      0.4004908\n",
      "FAM117A FAM117A      0.3920536\n",
      "BCL11B   BCL11B      0.3858460\n"
     ]
    },
    {
     "name": "stderr",
     "output_type": "stream",
     "text": [
      "preparing geneSet collections...\n",
      "\n",
      "GSEA analysis...\n",
      "\n",
      "Warning message in preparePathwaysAndStats(pathways, stats, minSize, maxSize, gseaParam, :\n",
      "“There are ties in the preranked stats (0.26% of the list).\n",
      "The order of those tied genes will be arbitrary, which may produce unexpected results.”\n",
      "no term enriched under specific pvalueCutoff...\n",
      "\n"
     ]
    },
    {
     "name": "stdout",
     "output_type": "stream",
     "text": [
      "[1] \"result\"\n",
      "[1] \"c0\"\n"
     ]
    },
    {
     "name": "stderr",
     "output_type": "stream",
     "text": [
      "Warning message in summary(egmt[[c]]):\n",
      "“summary method to convert the object to data.frame is deprecated, please use as.data.frame instead.”\n",
      "preparing geneSet collections...\n",
      "\n",
      "GSEA analysis...\n",
      "\n",
      "Warning message in preparePathwaysAndStats(pathways, stats, minSize, maxSize, gseaParam, :\n",
      "“There are ties in the preranked stats (0.26% of the list).\n",
      "The order of those tied genes will be arbitrary, which may produce unexpected results.”\n",
      "leading edge analysis...\n",
      "\n",
      "done...\n",
      "\n"
     ]
    },
    {
     "name": "stdout",
     "output_type": "stream",
     "text": [
      "[1] \"result\"\n",
      "[1] \"c2\"\n"
     ]
    },
    {
     "name": "stderr",
     "output_type": "stream",
     "text": [
      "Warning message in summary(egmt[[c]]):\n",
      "“summary method to convert the object to data.frame is deprecated, please use as.data.frame instead.”\n",
      "Saving 6.67 x 6.67 in image\n",
      "\n",
      "preparing geneSet collections...\n",
      "\n",
      "GSEA analysis...\n",
      "\n",
      "Warning message in preparePathwaysAndStats(pathways, stats, minSize, maxSize, gseaParam, :\n",
      "“There are ties in the preranked stats (0.26% of the list).\n",
      "The order of those tied genes will be arbitrary, which may produce unexpected results.”\n",
      "no term enriched under specific pvalueCutoff...\n",
      "\n"
     ]
    },
    {
     "name": "stdout",
     "output_type": "stream",
     "text": [
      "[1] \"result\"\n",
      "[1] \"c5\"\n"
     ]
    },
    {
     "name": "stderr",
     "output_type": "stream",
     "text": [
      "Warning message in summary(egmt[[c]]):\n",
      "“summary method to convert the object to data.frame is deprecated, please use as.data.frame instead.”\n",
      "preparing geneSet collections...\n",
      "\n",
      "GSEA analysis...\n",
      "\n",
      "Warning message in preparePathwaysAndStats(pathways, stats, minSize, maxSize, gseaParam, :\n",
      "“There are ties in the preranked stats (0.26% of the list).\n",
      "The order of those tied genes will be arbitrary, which may produce unexpected results.”\n",
      "leading edge analysis...\n",
      "\n",
      "done...\n",
      "\n"
     ]
    },
    {
     "name": "stdout",
     "output_type": "stream",
     "text": [
      "[1] \"result\"\n",
      "[1] \"c7\"\n"
     ]
    },
    {
     "name": "stderr",
     "output_type": "stream",
     "text": [
      "Warning message in summary(egmt[[c]]):\n",
      "“summary method to convert the object to data.frame is deprecated, please use as.data.frame instead.”\n",
      "Saving 6.67 x 6.67 in image\n",
      "\n",
      "Warning message in is.na(egmt[[c]]):\n",
      "“is.na() applied to non-(list or vector) of type 'S4'”\n",
      "Warning message in summary(egmt[[c]]):\n",
      "“summary method to convert the object to data.frame is deprecated, please use as.data.frame instead.”\n",
      "Warning message in is.na(egmt[[c]]):\n",
      "“is.na() applied to non-(list or vector) of type 'S4'”\n",
      "Warning message in summary(egmt[[c]]):\n",
      "“summary method to convert the object to data.frame is deprecated, please use as.data.frame instead.”\n",
      "Warning message in is.na(egmt[[c]]):\n",
      "“is.na() applied to non-(list or vector) of type 'S4'”\n",
      "Warning message in summary(egmt[[c]]):\n",
      "“summary method to convert the object to data.frame is deprecated, please use as.data.frame instead.”\n",
      "Warning message in is.na(egmt[[c]]):\n",
      "“is.na() applied to non-(list or vector) of type 'S4'”\n",
      "Warning message in summary(egmt[[c]]):\n",
      "“summary method to convert the object to data.frame is deprecated, please use as.data.frame instead.”\n"
     ]
    },
    {
     "name": "stdout",
     "output_type": "stream",
     "text": [
      "[1] \"preExcel writing\"\n",
      "[1] \"postExcel writing\"\n",
      "[1] \"Here we go .... :/data/Mito_Trace/output/pipeline/TcellDupi_may17_2021/MTblacklist/data/merged/MT/cellr_True/numread_200/filters/minC10_minR50_topN0_hetT0.001_hetC10_hetCount5_bq20/mgatk/vireoIn/clones/variants_init/knn/kparam_3/concat/gff_hg38_1_2/annotation_clones/de_clone_btwncond_RNA/minPct0.01_logfc0.1/GSEA_pctthresh.0.1_pthresh.0.1_pref.FALSE_stat.log2FoldChange_padj.BH/prep/1_6_DE.tsv\"\n",
      "[1] \"Myclass\"\n",
      "[1] 2611    7\n",
      "[1] 2270    7\n",
      "[1] \"pvalue\"         \"log2FoldChange\" \"pct.1\"          \"pct.2\"         \n",
      "[5] \"padj_bonf\"      \"padj\"           \"ensg\"          \n",
      "               pvalue log2FoldChange pct.1 pct.2    padj_bonf         padj\n",
      "HFE2     2.961668e-08      0.2082049 0.452 0.116 0.0005797464 3.839098e-05\n",
      "ZEB1     3.687571e-08      0.4859058 0.720 0.337 0.0007218421 3.839098e-05\n",
      "FNBP1    4.411066e-08      0.4391588 0.796 0.453 0.0008634661 3.839098e-05\n",
      "TMEM39A  1.974168e-07      0.4032136 0.581 0.232 0.0038644334 1.030910e-04\n",
      "PHOSPHO2 3.341471e-07      0.2903245 0.484 0.171 0.0065409296 1.454097e-04\n",
      "ALOXE3   8.936161e-07      0.2009305 0.441 0.138 0.0174925355 2.437665e-04\n",
      "                    ensg\n",
      "HFE2                <NA>\n",
      "ZEB1     ENSG00000148516\n",
      "FNBP1    ENSG00000187239\n",
      "TMEM39A  ENSG00000176142\n",
      "PHOSPHO2 ENSG00000144362\n",
      "ALOXE3   ENSG00000179148\n",
      "[1] \"here\"\n",
      "           Gene log2FoldChange\n",
      "ZEB1       ZEB1      0.4859058\n",
      "FNBP1     FNBP1      0.4391588\n",
      "TMEM39A TMEM39A      0.4032136\n",
      "ITPKB     ITPKB      0.4025370\n",
      "ANKRD11 ANKRD11      0.3812141\n",
      "ZFYVE28 ZFYVE28      0.3646670\n"
     ]
    },
    {
     "name": "stderr",
     "output_type": "stream",
     "text": [
      "preparing geneSet collections...\n",
      "\n",
      "GSEA analysis...\n",
      "\n",
      "Warning message in preparePathwaysAndStats(pathways, stats, minSize, maxSize, gseaParam, :\n",
      "“There are ties in the preranked stats (0.13% of the list).\n",
      "The order of those tied genes will be arbitrary, which may produce unexpected results.”\n",
      "no term enriched under specific pvalueCutoff...\n",
      "\n"
     ]
    },
    {
     "name": "stdout",
     "output_type": "stream",
     "text": [
      "[1] \"result\"\n",
      "[1] \"c0\"\n"
     ]
    },
    {
     "name": "stderr",
     "output_type": "stream",
     "text": [
      "Warning message in summary(egmt[[c]]):\n",
      "“summary method to convert the object to data.frame is deprecated, please use as.data.frame instead.”\n",
      "preparing geneSet collections...\n",
      "\n",
      "GSEA analysis...\n",
      "\n",
      "Warning message in preparePathwaysAndStats(pathways, stats, minSize, maxSize, gseaParam, :\n",
      "“There are ties in the preranked stats (0.13% of the list).\n",
      "The order of those tied genes will be arbitrary, which may produce unexpected results.”\n",
      "Warning message in fgseaMultilevel(...):\n",
      "“For some pathways, in reality P-values are less than 1e-10. You can set the `eps` argument to zero for better estimation.”\n",
      "leading edge analysis...\n",
      "\n",
      "done...\n",
      "\n"
     ]
    },
    {
     "name": "stdout",
     "output_type": "stream",
     "text": [
      "[1] \"result\"\n",
      "[1] \"c2\"\n"
     ]
    },
    {
     "name": "stderr",
     "output_type": "stream",
     "text": [
      "Warning message in summary(egmt[[c]]):\n",
      "“summary method to convert the object to data.frame is deprecated, please use as.data.frame instead.”\n",
      "Saving 6.67 x 6.67 in image\n",
      "\n",
      "preparing geneSet collections...\n",
      "\n",
      "GSEA analysis...\n",
      "\n",
      "Warning message in preparePathwaysAndStats(pathways, stats, minSize, maxSize, gseaParam, :\n",
      "“There are ties in the preranked stats (0.13% of the list).\n",
      "The order of those tied genes will be arbitrary, which may produce unexpected results.”\n",
      "no term enriched under specific pvalueCutoff...\n",
      "\n"
     ]
    },
    {
     "name": "stdout",
     "output_type": "stream",
     "text": [
      "[1] \"result\"\n",
      "[1] \"c5\"\n"
     ]
    },
    {
     "name": "stderr",
     "output_type": "stream",
     "text": [
      "Warning message in summary(egmt[[c]]):\n",
      "“summary method to convert the object to data.frame is deprecated, please use as.data.frame instead.”\n",
      "preparing geneSet collections...\n",
      "\n",
      "GSEA analysis...\n",
      "\n",
      "Warning message in preparePathwaysAndStats(pathways, stats, minSize, maxSize, gseaParam, :\n",
      "“There are ties in the preranked stats (0.13% of the list).\n",
      "The order of those tied genes will be arbitrary, which may produce unexpected results.”\n",
      "leading edge analysis...\n",
      "\n",
      "done...\n",
      "\n"
     ]
    },
    {
     "name": "stdout",
     "output_type": "stream",
     "text": [
      "[1] \"result\"\n",
      "[1] \"c7\"\n"
     ]
    },
    {
     "name": "stderr",
     "output_type": "stream",
     "text": [
      "Warning message in summary(egmt[[c]]):\n",
      "“summary method to convert the object to data.frame is deprecated, please use as.data.frame instead.”\n",
      "Saving 6.67 x 6.67 in image\n",
      "\n",
      "Warning message in is.na(egmt[[c]]):\n",
      "“is.na() applied to non-(list or vector) of type 'S4'”\n",
      "Warning message in summary(egmt[[c]]):\n",
      "“summary method to convert the object to data.frame is deprecated, please use as.data.frame instead.”\n",
      "Warning message in is.na(egmt[[c]]):\n",
      "“is.na() applied to non-(list or vector) of type 'S4'”\n",
      "Warning message in summary(egmt[[c]]):\n",
      "“summary method to convert the object to data.frame is deprecated, please use as.data.frame instead.”\n",
      "Warning message in is.na(egmt[[c]]):\n",
      "“is.na() applied to non-(list or vector) of type 'S4'”\n",
      "Warning message in summary(egmt[[c]]):\n",
      "“summary method to convert the object to data.frame is deprecated, please use as.data.frame instead.”\n",
      "Warning message in is.na(egmt[[c]]):\n",
      "“is.na() applied to non-(list or vector) of type 'S4'”\n",
      "Warning message in summary(egmt[[c]]):\n",
      "“summary method to convert the object to data.frame is deprecated, please use as.data.frame instead.”\n"
     ]
    },
    {
     "name": "stdout",
     "output_type": "stream",
     "text": [
      "[1] \"preExcel writing\"\n",
      "[1] \"postExcel writing\"\n",
      "[1] \"Here we go .... :/data/Mito_Trace/output/pipeline/TcellDupi_may17_2021/MTblacklist/data/merged/MT/cellr_True/numread_200/filters/minC10_minR50_topN0_hetT0.001_hetC10_hetCount5_bq20/mgatk/vireoIn/clones/variants_init/knn/kparam_3/concat/gff_hg38_1_2/annotation_clones/de_clone_btwncond_RNA/minPct0.01_logfc0.1/GSEA_pctthresh.0.1_pthresh.0.1_pref.FALSE_stat.log2FoldChange_padj.BH/prep/1_7_DE.tsv\"\n",
      "[1] \"Myclass\"\n",
      "[1] 2789    7\n",
      "[1] 2376    7\n",
      "[1] \"pvalue\"         \"log2FoldChange\" \"pct.1\"          \"pct.2\"         \n",
      "[5] \"padj_bonf\"      \"padj\"           \"ensg\"          \n",
      "              pvalue log2FoldChange pct.1 pct.2    padj_bonf         padj\n",
      "ZNF573  5.682134e-10      0.2500858 0.482 0.106 1.112278e-05 1.584747e-06\n",
      "DIP2A   6.883485e-09      0.4995564 0.639 0.263 1.347442e-04 9.599020e-06\n",
      "PCBP3   9.765928e-08      0.3149577 0.590 0.218 1.911680e-03 6.809293e-05\n",
      "ADNP    1.235606e-07      0.2492686 0.470 0.140 2.418699e-03 6.892212e-05\n",
      "UBASH3A 1.985450e-07      0.2800058 0.554 0.201 3.886519e-03 7.897912e-05\n",
      "CD248   2.904711e-07      0.2581806 0.373 0.101 5.685972e-03 8.017949e-05\n",
      "                   ensg\n",
      "ZNF573  ENSG00000189144\n",
      "DIP2A   ENSG00000160305\n",
      "PCBP3   ENSG00000183570\n",
      "ADNP    ENSG00000101126\n",
      "UBASH3A ENSG00000160185\n",
      "CD248   ENSG00000174807\n",
      "[1] \"here\"\n",
      "           Gene log2FoldChange\n",
      "ITPKB     ITPKB      0.5130879\n",
      "DIP2A     DIP2A      0.4995564\n",
      "CNOT6L   CNOT6L      0.4254525\n",
      "HDAC4     HDAC4      0.4017371\n",
      "EPS15L1 EPS15L1      0.3927789\n",
      "GATAD2A GATAD2A      0.3925356\n"
     ]
    },
    {
     "name": "stderr",
     "output_type": "stream",
     "text": [
      "preparing geneSet collections...\n",
      "\n",
      "GSEA analysis...\n",
      "\n",
      "Warning message in preparePathwaysAndStats(pathways, stats, minSize, maxSize, gseaParam, :\n",
      "“There are ties in the preranked stats (0.34% of the list).\n",
      "The order of those tied genes will be arbitrary, which may produce unexpected results.”\n",
      "leading edge analysis...\n",
      "\n",
      "done...\n",
      "\n"
     ]
    },
    {
     "name": "stdout",
     "output_type": "stream",
     "text": [
      "[1] \"result\"\n",
      "[1] \"c0\"\n"
     ]
    },
    {
     "name": "stderr",
     "output_type": "stream",
     "text": [
      "Warning message in summary(egmt[[c]]):\n",
      "“summary method to convert the object to data.frame is deprecated, please use as.data.frame instead.”\n",
      "Saving 6.67 x 6.67 in image\n",
      "\n",
      "preparing geneSet collections...\n",
      "\n",
      "GSEA analysis...\n",
      "\n",
      "Warning message in preparePathwaysAndStats(pathways, stats, minSize, maxSize, gseaParam, :\n",
      "“There are ties in the preranked stats (0.34% of the list).\n",
      "The order of those tied genes will be arbitrary, which may produce unexpected results.”\n",
      "leading edge analysis...\n",
      "\n",
      "done...\n",
      "\n"
     ]
    },
    {
     "name": "stdout",
     "output_type": "stream",
     "text": [
      "[1] \"result\"\n",
      "[1] \"c2\"\n"
     ]
    },
    {
     "name": "stderr",
     "output_type": "stream",
     "text": [
      "Warning message in summary(egmt[[c]]):\n",
      "“summary method to convert the object to data.frame is deprecated, please use as.data.frame instead.”\n",
      "Saving 6.67 x 6.67 in image\n",
      "\n",
      "preparing geneSet collections...\n",
      "\n",
      "GSEA analysis...\n",
      "\n",
      "Warning message in preparePathwaysAndStats(pathways, stats, minSize, maxSize, gseaParam, :\n",
      "“There are ties in the preranked stats (0.34% of the list).\n",
      "The order of those tied genes will be arbitrary, which may produce unexpected results.”\n",
      "leading edge analysis...\n",
      "\n",
      "done...\n",
      "\n"
     ]
    },
    {
     "name": "stdout",
     "output_type": "stream",
     "text": [
      "[1] \"result\"\n",
      "[1] \"c5\"\n"
     ]
    },
    {
     "name": "stderr",
     "output_type": "stream",
     "text": [
      "Warning message in summary(egmt[[c]]):\n",
      "“summary method to convert the object to data.frame is deprecated, please use as.data.frame instead.”\n",
      "Saving 6.67 x 6.67 in image\n",
      "\n",
      "preparing geneSet collections...\n",
      "\n",
      "GSEA analysis...\n",
      "\n",
      "Warning message in preparePathwaysAndStats(pathways, stats, minSize, maxSize, gseaParam, :\n",
      "“There are ties in the preranked stats (0.34% of the list).\n",
      "The order of those tied genes will be arbitrary, which may produce unexpected results.”\n",
      "leading edge analysis...\n",
      "\n",
      "done...\n",
      "\n"
     ]
    },
    {
     "name": "stdout",
     "output_type": "stream",
     "text": [
      "[1] \"result\"\n",
      "[1] \"c7\"\n"
     ]
    },
    {
     "name": "stderr",
     "output_type": "stream",
     "text": [
      "Warning message in summary(egmt[[c]]):\n",
      "“summary method to convert the object to data.frame is deprecated, please use as.data.frame instead.”\n",
      "Saving 6.67 x 6.67 in image\n",
      "\n",
      "Warning message in is.na(egmt[[c]]):\n",
      "“is.na() applied to non-(list or vector) of type 'S4'”\n",
      "Warning message in summary(egmt[[c]]):\n",
      "“summary method to convert the object to data.frame is deprecated, please use as.data.frame instead.”\n",
      "Warning message in is.na(egmt[[c]]):\n",
      "“is.na() applied to non-(list or vector) of type 'S4'”\n",
      "Warning message in summary(egmt[[c]]):\n",
      "“summary method to convert the object to data.frame is deprecated, please use as.data.frame instead.”\n",
      "Warning message in is.na(egmt[[c]]):\n",
      "“is.na() applied to non-(list or vector) of type 'S4'”\n",
      "Warning message in summary(egmt[[c]]):\n",
      "“summary method to convert the object to data.frame is deprecated, please use as.data.frame instead.”\n",
      "Warning message in is.na(egmt[[c]]):\n",
      "“is.na() applied to non-(list or vector) of type 'S4'”\n",
      "Warning message in summary(egmt[[c]]):\n",
      "“summary method to convert the object to data.frame is deprecated, please use as.data.frame instead.”\n"
     ]
    },
    {
     "name": "stdout",
     "output_type": "stream",
     "text": [
      "[1] \"preExcel writing\"\n",
      "[1] \"postExcel writing\"\n",
      "[1] \"Here we go .... :/data/Mito_Trace/output/pipeline/TcellDupi_may17_2021/MTblacklist/data/merged/MT/cellr_True/numread_200/filters/minC10_minR50_topN0_hetT0.001_hetC10_hetCount5_bq20/mgatk/vireoIn/clones/variants_init/knn/kparam_3/concat/gff_hg38_1_2/annotation_clones/de_clone_btwncond_RNA/minPct0.01_logfc0.1/GSEA_pctthresh.0.1_pthresh.0.1_pref.FALSE_stat.log2FoldChange_padj.BH/prep/1_8_DE.tsv\"\n",
      "[1] \"Myclass\"\n",
      "[1] 3002    7\n",
      "[1] 2417    7\n",
      "[1] \"pvalue\"         \"log2FoldChange\" \"pct.1\"          \"pct.2\"         \n",
      "[5] \"padj_bonf\"      \"padj\"           \"ensg\"          \n",
      "              pvalue log2FoldChange pct.1 pct.2  padj_bonf        padj\n",
      "CD83    7.971257e-07      0.2339179 0.462 0.126 0.01560374 0.001082907\n",
      "ABCC1   3.781432e-06      0.3578259 0.596 0.248 0.07402153 0.002837965\n",
      "FHOD1   5.140238e-06      0.2690379 0.462 0.141 0.10062016 0.002860485\n",
      "PLEKHA2 7.726072e-06      0.3241273 0.635 0.272 0.15123785 0.002860485\n",
      "CCR7    7.960567e-06      0.2238052 0.538 0.189 0.15582810 0.002860485\n",
      "SLC9A5  9.071935e-06      0.2595017 0.462 0.146 0.17758312 0.002860485\n",
      "                   ensg\n",
      "CD83    ENSG00000112149\n",
      "ABCC1   ENSG00000103222\n",
      "FHOD1   ENSG00000135723\n",
      "PLEKHA2 ENSG00000169499\n",
      "CCR7    ENSG00000126353\n",
      "SLC9A5  ENSG00000135740\n",
      "[1] \"here\"\n",
      "         Gene log2FoldChange\n",
      "GRK5     GRK5      0.4489828\n",
      "SMAP2   SMAP2      0.4281898\n",
      "RNF4     RNF4      0.3991581\n",
      "FLNB     FLNB      0.3978111\n",
      "TUBA1B TUBA1B      0.3688312\n",
      "CNOT6L CNOT6L      0.3607545\n"
     ]
    },
    {
     "name": "stderr",
     "output_type": "stream",
     "text": [
      "preparing geneSet collections...\n",
      "\n",
      "GSEA analysis...\n",
      "\n",
      "Warning message in preparePathwaysAndStats(pathways, stats, minSize, maxSize, gseaParam, :\n",
      "“There are ties in the preranked stats (0.25% of the list).\n",
      "The order of those tied genes will be arbitrary, which may produce unexpected results.”\n",
      "no term enriched under specific pvalueCutoff...\n",
      "\n"
     ]
    },
    {
     "name": "stdout",
     "output_type": "stream",
     "text": [
      "[1] \"result\"\n",
      "[1] \"c0\"\n"
     ]
    },
    {
     "name": "stderr",
     "output_type": "stream",
     "text": [
      "Warning message in summary(egmt[[c]]):\n",
      "“summary method to convert the object to data.frame is deprecated, please use as.data.frame instead.”\n",
      "preparing geneSet collections...\n",
      "\n",
      "GSEA analysis...\n",
      "\n",
      "Warning message in preparePathwaysAndStats(pathways, stats, minSize, maxSize, gseaParam, :\n",
      "“There are ties in the preranked stats (0.25% of the list).\n",
      "The order of those tied genes will be arbitrary, which may produce unexpected results.”\n",
      "leading edge analysis...\n",
      "\n",
      "done...\n",
      "\n"
     ]
    },
    {
     "name": "stdout",
     "output_type": "stream",
     "text": [
      "[1] \"result\"\n",
      "[1] \"c2\"\n"
     ]
    },
    {
     "name": "stderr",
     "output_type": "stream",
     "text": [
      "Warning message in summary(egmt[[c]]):\n",
      "“summary method to convert the object to data.frame is deprecated, please use as.data.frame instead.”\n",
      "Saving 6.67 x 6.67 in image\n",
      "\n",
      "preparing geneSet collections...\n",
      "\n",
      "GSEA analysis...\n",
      "\n",
      "Warning message in preparePathwaysAndStats(pathways, stats, minSize, maxSize, gseaParam, :\n",
      "“There are ties in the preranked stats (0.25% of the list).\n",
      "The order of those tied genes will be arbitrary, which may produce unexpected results.”\n",
      "no term enriched under specific pvalueCutoff...\n",
      "\n"
     ]
    },
    {
     "name": "stdout",
     "output_type": "stream",
     "text": [
      "[1] \"result\"\n",
      "[1] \"c5\"\n"
     ]
    },
    {
     "name": "stderr",
     "output_type": "stream",
     "text": [
      "Warning message in summary(egmt[[c]]):\n",
      "“summary method to convert the object to data.frame is deprecated, please use as.data.frame instead.”\n",
      "preparing geneSet collections...\n",
      "\n",
      "GSEA analysis...\n",
      "\n",
      "Warning message in preparePathwaysAndStats(pathways, stats, minSize, maxSize, gseaParam, :\n",
      "“There are ties in the preranked stats (0.25% of the list).\n",
      "The order of those tied genes will be arbitrary, which may produce unexpected results.”\n",
      "leading edge analysis...\n",
      "\n",
      "done...\n",
      "\n"
     ]
    },
    {
     "name": "stdout",
     "output_type": "stream",
     "text": [
      "[1] \"result\"\n",
      "[1] \"c7\"\n"
     ]
    },
    {
     "name": "stderr",
     "output_type": "stream",
     "text": [
      "Warning message in summary(egmt[[c]]):\n",
      "“summary method to convert the object to data.frame is deprecated, please use as.data.frame instead.”\n",
      "Saving 6.67 x 6.67 in image\n",
      "\n",
      "Warning message in is.na(egmt[[c]]):\n",
      "“is.na() applied to non-(list or vector) of type 'S4'”\n",
      "Warning message in summary(egmt[[c]]):\n",
      "“summary method to convert the object to data.frame is deprecated, please use as.data.frame instead.”\n",
      "Warning message in is.na(egmt[[c]]):\n",
      "“is.na() applied to non-(list or vector) of type 'S4'”\n",
      "Warning message in summary(egmt[[c]]):\n",
      "“summary method to convert the object to data.frame is deprecated, please use as.data.frame instead.”\n",
      "Warning message in is.na(egmt[[c]]):\n",
      "“is.na() applied to non-(list or vector) of type 'S4'”\n",
      "Warning message in summary(egmt[[c]]):\n",
      "“summary method to convert the object to data.frame is deprecated, please use as.data.frame instead.”\n",
      "Warning message in is.na(egmt[[c]]):\n",
      "“is.na() applied to non-(list or vector) of type 'S4'”\n",
      "Warning message in summary(egmt[[c]]):\n",
      "“summary method to convert the object to data.frame is deprecated, please use as.data.frame instead.”\n"
     ]
    },
    {
     "name": "stdout",
     "output_type": "stream",
     "text": [
      "[1] \"preExcel writing\"\n",
      "[1] \"postExcel writing\"\n",
      "[1] \"Here we go .... :/data/Mito_Trace/output/pipeline/TcellDupi_may17_2021/MTblacklist/data/merged/MT/cellr_True/numread_200/filters/minC10_minR50_topN0_hetT0.001_hetC10_hetCount5_bq20/mgatk/vireoIn/clones/variants_init/knn/kparam_3/concat/gff_hg38_1_2/annotation_clones/de_clone_btwncond_RNA/minPct0.01_logfc0.1/GSEA_pctthresh.0.1_pthresh.0.1_pref.FALSE_stat.log2FoldChange_padj.BH/prep/1_9_DE.tsv\"\n",
      "[1] \"Myclass\"\n",
      "[1] 2523    7\n",
      "[1] 2165    7\n",
      "[1] \"pvalue\"         \"log2FoldChange\" \"pct.1\"          \"pct.2\"         \n",
      "[5] \"padj_bonf\"      \"padj\"           \"ensg\"          \n",
      "              pvalue log2FoldChange pct.1 pct.2    padj_bonf         padj\n",
      "POLR3E  1.186181e-09      0.3253647 0.619 0.196 0.0000232195 2.992735e-06\n",
      "RABGGTA 1.039093e-08      0.2472637 0.552 0.162 0.0002034025 7.135552e-06\n",
      "SNX9    1.154485e-08      0.4295655 0.829 0.399 0.0002259905 7.135552e-06\n",
      "CHD1    1.200141e-08      0.3590255 0.848 0.372 0.0002349277 7.135552e-06\n",
      "ITPKB   1.414101e-08      0.5444376 0.914 0.608 0.0002768102 7.135552e-06\n",
      "ARHGEF7 2.054065e-08      0.3740016 0.629 0.236 0.0004020833 8.637345e-06\n",
      "                   ensg\n",
      "POLR3E  ENSG00000058600\n",
      "RABGGTA ENSG00000100949\n",
      "SNX9    ENSG00000130340\n",
      "CHD1    ENSG00000153922\n",
      "ITPKB   ENSG00000143772\n",
      "ARHGEF7 ENSG00000102606\n",
      "[1] \"here\"\n",
      "           Gene log2FoldChange\n",
      "ITPKB     ITPKB      0.5444376\n",
      "SNX9       SNX9      0.4295655\n",
      "HOOK2     HOOK2      0.4093002\n",
      "ARHGEF7 ARHGEF7      0.3740016\n",
      "ST3GAL1 ST3GAL1      0.3738497\n",
      "CHD1       CHD1      0.3590255\n"
     ]
    },
    {
     "name": "stderr",
     "output_type": "stream",
     "text": [
      "preparing geneSet collections...\n",
      "\n",
      "GSEA analysis...\n",
      "\n",
      "Warning message in preparePathwaysAndStats(pathways, stats, minSize, maxSize, gseaParam, :\n",
      "“There are ties in the preranked stats (0.18% of the list).\n",
      "The order of those tied genes will be arbitrary, which may produce unexpected results.”\n",
      "leading edge analysis...\n",
      "\n",
      "done...\n",
      "\n"
     ]
    },
    {
     "name": "stdout",
     "output_type": "stream",
     "text": [
      "[1] \"result\"\n",
      "[1] \"c0\"\n"
     ]
    },
    {
     "name": "stderr",
     "output_type": "stream",
     "text": [
      "Warning message in summary(egmt[[c]]):\n",
      "“summary method to convert the object to data.frame is deprecated, please use as.data.frame instead.”\n",
      "Saving 6.67 x 6.67 in image\n",
      "\n",
      "preparing geneSet collections...\n",
      "\n",
      "GSEA analysis...\n",
      "\n",
      "Warning message in preparePathwaysAndStats(pathways, stats, minSize, maxSize, gseaParam, :\n",
      "“There are ties in the preranked stats (0.18% of the list).\n",
      "The order of those tied genes will be arbitrary, which may produce unexpected results.”\n",
      "leading edge analysis...\n",
      "\n",
      "done...\n",
      "\n"
     ]
    },
    {
     "name": "stdout",
     "output_type": "stream",
     "text": [
      "[1] \"result\"\n",
      "[1] \"c2\"\n"
     ]
    },
    {
     "name": "stderr",
     "output_type": "stream",
     "text": [
      "Warning message in summary(egmt[[c]]):\n",
      "“summary method to convert the object to data.frame is deprecated, please use as.data.frame instead.”\n",
      "Saving 6.67 x 6.67 in image\n",
      "\n",
      "preparing geneSet collections...\n",
      "\n",
      "GSEA analysis...\n",
      "\n",
      "Warning message in preparePathwaysAndStats(pathways, stats, minSize, maxSize, gseaParam, :\n",
      "“There are ties in the preranked stats (0.18% of the list).\n",
      "The order of those tied genes will be arbitrary, which may produce unexpected results.”\n",
      "leading edge analysis...\n",
      "\n",
      "done...\n",
      "\n"
     ]
    },
    {
     "name": "stdout",
     "output_type": "stream",
     "text": [
      "[1] \"result\"\n",
      "[1] \"c5\"\n"
     ]
    },
    {
     "name": "stderr",
     "output_type": "stream",
     "text": [
      "Warning message in summary(egmt[[c]]):\n",
      "“summary method to convert the object to data.frame is deprecated, please use as.data.frame instead.”\n",
      "Saving 6.67 x 6.67 in image\n",
      "\n",
      "preparing geneSet collections...\n",
      "\n",
      "GSEA analysis...\n",
      "\n",
      "Warning message in preparePathwaysAndStats(pathways, stats, minSize, maxSize, gseaParam, :\n",
      "“There are ties in the preranked stats (0.18% of the list).\n",
      "The order of those tied genes will be arbitrary, which may produce unexpected results.”\n",
      "leading edge analysis...\n",
      "\n",
      "done...\n",
      "\n"
     ]
    },
    {
     "name": "stdout",
     "output_type": "stream",
     "text": [
      "[1] \"result\"\n",
      "[1] \"c7\"\n"
     ]
    },
    {
     "name": "stderr",
     "output_type": "stream",
     "text": [
      "Warning message in summary(egmt[[c]]):\n",
      "“summary method to convert the object to data.frame is deprecated, please use as.data.frame instead.”\n",
      "Saving 6.67 x 6.67 in image\n",
      "\n",
      "Warning message in is.na(egmt[[c]]):\n",
      "“is.na() applied to non-(list or vector) of type 'S4'”\n",
      "Warning message in summary(egmt[[c]]):\n",
      "“summary method to convert the object to data.frame is deprecated, please use as.data.frame instead.”\n",
      "Warning message in is.na(egmt[[c]]):\n",
      "“is.na() applied to non-(list or vector) of type 'S4'”\n",
      "Warning message in summary(egmt[[c]]):\n",
      "“summary method to convert the object to data.frame is deprecated, please use as.data.frame instead.”\n",
      "Warning message in is.na(egmt[[c]]):\n",
      "“is.na() applied to non-(list or vector) of type 'S4'”\n",
      "Warning message in summary(egmt[[c]]):\n",
      "“summary method to convert the object to data.frame is deprecated, please use as.data.frame instead.”\n",
      "Warning message in is.na(egmt[[c]]):\n",
      "“is.na() applied to non-(list or vector) of type 'S4'”\n",
      "Warning message in summary(egmt[[c]]):\n",
      "“summary method to convert the object to data.frame is deprecated, please use as.data.frame instead.”\n"
     ]
    },
    {
     "name": "stdout",
     "output_type": "stream",
     "text": [
      "[1] \"preExcel writing\"\n",
      "[1] \"postExcel writing\"\n"
     ]
    }
   ],
   "source": [
    "#rm(list=ls())\n",
    "\n",
    "########################################################################################\n",
    "##  gsea_ex1\n",
    "#---------------------------------------------------------------------------------------\n",
    "#' @description This example is designed to demonstrate how to run gsea analysis on the \n",
    "#'              input files (DESeq2 results) put in the same directory\n",
    "#' @details All the parameter definitions is in the below section of \"Setting Parameter\"\n",
    "#' @return out a list that summarizes the GSEA enrichment analysis\n",
    "#' \n",
    "#' @export exportExcel_fp an excel file of the 'out' can be exported\n",
    "#' @export exportPDF_fp an figure of the GSEA enrichment analysis\n",
    "#' --------------------------------------------------------------------------------------------------\n",
    "#' @author Austin W.T. Chiang\n",
    "#' @note   v1.4 -- 2017.02.15 Add description of ex1, ex2, and idmapping file\n",
    "#' @note   v1.3 -- 2017.02.08 Add function of displaying topN pathways and optimze code\n",
    "#' @note   v1.2 -- 2017.02.06 Add zebrafish2 human id mapping\n",
    "#' @note   v1.1 -- 2017.01.19 Midified for BEN\n",
    "#' @note   v1.0 -- 2016.12.15 File created\n",
    "#' --------------------------------------------------------------------------------------------------\n",
    "########################################################################################\n",
    "gsea_ex1 <- function(DE_out_path = NULL, export_path = NULL,\n",
    "                     IDmappingfile = NULL, convert = FALSE,\n",
    "                     gene_name = TRUE, stat.col=\"log2FoldChange\", GSEA_set = c('c0', 'c2', 'c3'),\n",
    "                     minGSSize = 30, pAdjustMethod = \"none\",\n",
    "                     pvalueCutoff = 0.01, export = \"BOTH\",\n",
    "                     ShowTop = TRUE, TopN = 5, gene_sets_dir=NULL){\n",
    "  DE_out_files <- list.files(path = DE_out_path,pattern=\"*.tsv\", full.names = TRUE)\n",
    "  for(f in DE_out_files){\n",
    "    print(paste0(\"Here we go .... :\", f))\n",
    "    #f <- \"res_geno_dobs_removed_C57BL6_J__M.tsv\"\n",
    "    ## Input the DESeq result file\n",
    "    myClass <- read.csv(f, row.names = 1,sep=\"\\t\")\n",
    "    if(convert == TRUE){\n",
    "      geneMapTable <- read.csv(IDmappingfile, sep = \"\\t\")\n",
    "      myClass <- useIDmappingFile(myClass=myClass,\n",
    "                                  geneMapTable=geneMapTable) #,\n",
    "                                  #Original_attribute=Original_attribute,\n",
    "                                 # Convert_attribute=Co nvert_attribute)\n",
    "    }\n",
    "    \n",
    "    #DEGTable <- subset(myClass, abs(log2FoldChange) >= .58 & (padj < 0.05) )\n",
    "    if (prefilter){\n",
    "        DEGTable <- subset(myClass, (padj < pthresh) )\n",
    "        }\n",
    "      \n",
    "    print(\"Myclass\")\n",
    "    print(dim(myClass))\n",
    "    DEGTable <- subset(myClass, (pct.1 > pct_thresh & pct.2 > pct_thresh) )\n",
    "    print(dim(DEGTable))\n",
    "\n",
    "    print(colnames(DEGTable))\n",
    "    print(head(DEGTable))\n",
    "    if(gene_name==TRUE){\n",
    "      DEGTable$Gene <- DEGTable$gene_name\n",
    "    }else{\n",
    "      DEGTable$Gene <- row.names(DEGTable)\n",
    "    }\n",
    "    \n",
    "    DEGTable <- DEGTable[with(DEGTable, order(-log2FoldChange)), ] #order\n",
    "    DEGTable <- DEGTable[,c(\"Gene\",stat.col)]\n",
    "    if (stat.col==\"padj\"){\n",
    "        DEGTable[,stat.col] <- -log10(DEGTable[,stat.col])\n",
    "        DEGTable <- DEGTable[with(DEGTable, order(-padj)), ] #order\n",
    "    }\n",
    "    \n",
    "    \n",
    "\n",
    "    #DEGTable <- DEGTable[order(stat.col, ), ]\n",
    "      \n",
    "    ## do the GSEA analysis\n",
    "    f1 <- gsub(\".csv\", \"\", basename(f))\n",
    "    exportExcel_fp = paste0(export_path,f1,\"_gsea.xlsx\")\n",
    "    exportPDF_fp = paste0(export_path,f1,\"_gsea.pdf\")\n",
    "    exportDOT_fp = file.path(export_path,paste0(f1,\"_gsea.dot\"))\n",
    "    GSEA_res <-  AnnotDEG_byGSEA(DEGTable = DEGTable, GSEA_set = GSEA_set,\n",
    "                                 export = export, ShowTop = ShowTop, TopN = TopN,\n",
    "                                 exportExcel_fp = exportExcel_fp,\n",
    "                                 exportPDF_fp = exportPDF_fp,\n",
    "                                 minGSSize = minGSSize, exportDOT_fp=exportDOT_fp,\n",
    "                                 pAdjustMethod = pAdjustMethod, stat.col=stat.col,\n",
    "                                 pvalueCutoff = pvalueCutoff, gene_sets_dir = gene_sets_dir)\n",
    "    \n",
    "    #dotplot(GSEA_res)  \n",
    "    #ggsave(file.path(export_path, paste0(f1, \"_gsea.dot.pdf\")))\n",
    "    \n",
    "  }\n",
    "    return\n",
    "}\n",
    "\n",
    "\n",
    "########################################################################################\n",
    "##  Setting Parameter\n",
    "########################################################################################\n",
    "#' @param DE_out_path the path of the DESeq2 output files \n",
    "#' @param export_path the path that user want to export the GSEA results\n",
    "#' @param convert 'TRUE': need to do id converion; 'FALSE': no id conversion needed  \n",
    "#' @param IDmappingfile the idmapping file show that user's id to human gene name\n",
    "#' @param gene_name 'TRUE': there is a columan \"gene_name\" in the input files (i.e. DESeq2 output files)\n",
    "#' @param GSEA_set = c('c0', 'c2', 'c3')\n",
    "#'                 co - hallmark gene sets;       c1 - positional gene sets; \n",
    "#'                 c2 - curated gene sets;        c3 - motif gene sets;\n",
    "#'                 c4 - computational gene sets;  c5 - GO gene sets;\n",
    "#'                 c6 - oncogenic signatures;     c7 - immunologic signatures. \n",
    "#'                 (http://software.broadinstitute.org/gsea/msigdb/collections.jsp#C2)\n",
    "#' @param minGSSize minimum size of genes for a specific GSEA gene set\n",
    "#' @param pAdjustMethod one of \"holm\", \"hochberg\", \"hommel\", \"bonferroni\", \"BH\", \"BY\", \"fdr\", \"none\"\n",
    "#' @param pvalueCutoff cutoff of pvalue in the GSEA enrichment analysis \n",
    "#' @param export option for exporting GSEA result: \"EXCEL\", \"PDF\", or \"BOTH\"\n",
    "#' @param ShowTop 'TRUE': the visualization will display only the top and bottom N gene sets; \n",
    "#'                'FALSE': all of the significant gsea gene sets will be displayed \n",
    "#'                        --> Note that: it is usually results in too many gene sets, which are not easy to see anything    \n",
    "#' @param TopN this parameter indicate how many gene sets need to be displayed in the plots\n",
    "########################################################################################\n",
    "\n",
    "# DE_out_path <- DE.out.path\n",
    "# export_path <- \n",
    "#IDmappingfile <- \"\" #\"mouse2human.txt\" #\"Data/zebrafish2human_idmapping.txt\"\n",
    "convert = FALSE\n",
    "gene_name = FALSE \n",
    "GSEA_set = c('c0', 'c2', 'c5', 'c7')\n",
    "minGSSize = 10 #20 #30\n",
    "pAdjustMethod = \"BH\"\n",
    "pvalueCutoff = pthresh\n",
    "export = \"BOTH\"\n",
    "ShowTop = TRUE \n",
    "TopN = 10\n",
    "\n",
    "\n",
    "########################################################################################\n",
    "##  RUN gsea_ex1\n",
    "########################################################################################\n",
    "out = gsea_ex1(DE_out_path = export.path.prep, export_path = export.path, gene_name = gene_name,\n",
    "         convert = convert, GSEA_set = GSEA_set, minGSSize = minGSSize,\n",
    "         pAdjustMethod = padjmethod,  pvalueCutoff = gsea_pthresh,\n",
    "         export = export, ShowTop = ShowTop,  stat.col=stat_col ,\n",
    "         TopN = TopN, gene_sets_dir=gsea_dir)"
   ]
  },
  {
   "cell_type": "code",
   "execution_count": 12,
   "id": "e4828454",
   "metadata": {},
   "outputs": [],
   "source": [
    "# require(DOSE)\n",
    "# dotplot(gse, showCategory=10, split=\".sign\") + facet_grid(.~.sign)"
   ]
  },
  {
   "cell_type": "code",
   "execution_count": 13,
   "id": "c8624952",
   "metadata": {
    "scrolled": true
   },
   "outputs": [
    {
     "data": {
      "text/html": [
       "'/data/Mito_Trace/output/pipeline/TcellDupi_may17_2021/MTblacklist/data/merged/MT/cellr_True/numread_200/filters/minC10_minR50_topN0_hetT0.001_hetC10_hetCount5_bq20/mgatk/vireoIn/clones/variants_init/knn/kparam_3/concat/gff_hg38_1_2/annotation_clones/de_clone_btwncond_RNA/minPct0.01_logfc0.1/GSEA_pctthresh.0.1_pthresh.0.1_pref.FALSE_stat.log2FoldChange_padj.BH/'"
      ],
      "text/latex": [
       "'/data/Mito\\_Trace/output/pipeline/TcellDupi\\_may17\\_2021/MTblacklist/data/merged/MT/cellr\\_True/numread\\_200/filters/minC10\\_minR50\\_topN0\\_hetT0.001\\_hetC10\\_hetCount5\\_bq20/mgatk/vireoIn/clones/variants\\_init/knn/kparam\\_3/concat/gff\\_hg38\\_1\\_2/annotation\\_clones/de\\_clone\\_btwncond\\_RNA/minPct0.01\\_logfc0.1/GSEA\\_pctthresh.0.1\\_pthresh.0.1\\_pref.FALSE\\_stat.log2FoldChange\\_padj.BH/'"
      ],
      "text/markdown": [
       "'/data/Mito_Trace/output/pipeline/TcellDupi_may17_2021/MTblacklist/data/merged/MT/cellr_True/numread_200/filters/minC10_minR50_topN0_hetT0.001_hetC10_hetCount5_bq20/mgatk/vireoIn/clones/variants_init/knn/kparam_3/concat/gff_hg38_1_2/annotation_clones/de_clone_btwncond_RNA/minPct0.01_logfc0.1/GSEA_pctthresh.0.1_pthresh.0.1_pref.FALSE_stat.log2FoldChange_padj.BH/'"
      ],
      "text/plain": [
       "[1] \"/data/Mito_Trace/output/pipeline/TcellDupi_may17_2021/MTblacklist/data/merged/MT/cellr_True/numread_200/filters/minC10_minR50_topN0_hetT0.001_hetC10_hetCount5_bq20/mgatk/vireoIn/clones/variants_init/knn/kparam_3/concat/gff_hg38_1_2/annotation_clones/de_clone_btwncond_RNA/minPct0.01_logfc0.1/GSEA_pctthresh.0.1_pthresh.0.1_pref.FALSE_stat.log2FoldChange_padj.BH/\""
      ]
     },
     "metadata": {},
     "output_type": "display_data"
    }
   ],
   "source": [
    "export.path"
   ]
  },
  {
   "cell_type": "code",
   "execution_count": 14,
   "id": "8e3f179e",
   "metadata": {
    "scrolled": true
   },
   "outputs": [
    {
     "data": {
      "text/plain": [
       "R version 4.1.1 (2021-08-10)\n",
       "Platform: x86_64-conda-linux-gnu (64-bit)\n",
       "Running under: Ubuntu 20.04.3 LTS\n",
       "\n",
       "Matrix products: default\n",
       "BLAS/LAPACK: /home/isaac/miniconda3/envs/mttrace/lib/libopenblasp-r0.3.18.so\n",
       "\n",
       "locale:\n",
       " [1] LC_CTYPE=en_US.UTF-8       LC_NUMERIC=C              \n",
       " [3] LC_TIME=en_US.UTF-8        LC_COLLATE=en_US.UTF-8    \n",
       " [5] LC_MONETARY=en_US.UTF-8    LC_MESSAGES=en_US.UTF-8   \n",
       " [7] LC_PAPER=en_US.UTF-8       LC_NAME=C                 \n",
       " [9] LC_ADDRESS=C               LC_TELEPHONE=C            \n",
       "[11] LC_MEASUREMENT=en_US.UTF-8 LC_IDENTIFICATION=C       \n",
       "\n",
       "attached base packages:\n",
       "[1] stats4    stats     graphics  grDevices utils     datasets  methods  \n",
       "[8] base     \n",
       "\n",
       "other attached packages:\n",
       " [1] stringr_1.4.0         ggplot2_3.3.5         dplyr_1.0.7          \n",
       " [4] openxlsx_4.2.4        data.table_1.14.2     gdata_2.18.0         \n",
       " [7] DOSE_3.20.1           org.Hs.eg.db_3.14.0   biomaRt_2.50.0       \n",
       "[10] GSEABase_1.56.0       graph_1.72.0          annotate_1.72.0      \n",
       "[13] XML_3.99-0.8          AnnotationDbi_1.56.1  IRanges_2.28.0       \n",
       "[16] S4Vectors_0.32.0      Biobase_2.54.0        BiocGenerics_0.40.0  \n",
       "[19] clusterProfiler_4.2.2\n",
       "\n",
       "loaded via a namespace (and not attached):\n",
       "  [1] fgsea_1.20.0           colorspace_2.0-2       ggtree_3.2.1          \n",
       "  [4] ellipsis_0.3.2         IRdisplay_1.0          qvalue_2.26.0         \n",
       "  [7] XVector_0.34.0         base64enc_0.1-3        aplot_0.1.2           \n",
       " [10] farver_2.1.0           graphlayouts_0.8.0     ggrepel_0.9.1         \n",
       " [13] bit64_4.0.5            fansi_0.4.2            scatterpie_0.1.7      \n",
       " [16] xml2_1.3.2             splines_4.1.1          cachem_1.0.6          \n",
       " [19] GOSemSim_2.20.0        polyclip_1.10-0        IRkernel_1.2          \n",
       " [22] jsonlite_1.7.2         dbplyr_2.1.1           GO.db_3.14.0          \n",
       " [25] png_0.1-7              ggforce_0.3.3          BiocManager_1.30.16   \n",
       " [28] compiler_4.1.1         httr_1.4.2             assertthat_0.2.1      \n",
       " [31] Matrix_1.3-4           fastmap_1.1.0          lazyeval_0.2.2        \n",
       " [34] tweenr_1.0.2           prettyunits_1.1.1      htmltools_0.5.2       \n",
       " [37] tools_4.1.1            igraph_1.2.9           gtable_0.3.0          \n",
       " [40] glue_1.5.1             GenomeInfoDbData_1.2.7 reshape2_1.4.4        \n",
       " [43] DO.db_2.9              rappdirs_0.3.3         fastmatch_1.1-3       \n",
       " [46] Rcpp_1.0.7             enrichplot_1.14.1      vctrs_0.3.8           \n",
       " [49] Biostrings_2.62.0      ape_5.6-1              nlme_3.1-153          \n",
       " [52] ggraph_2.0.5           lifecycle_1.0.1        gtools_3.9.2          \n",
       " [55] zlibbioc_1.40.0        MASS_7.3-54            scales_1.1.1          \n",
       " [58] tidygraph_1.2.0        hms_1.1.1              parallel_4.1.1        \n",
       " [61] RColorBrewer_1.1-2     curl_4.3.2             memoise_2.0.1         \n",
       " [64] gridExtra_2.3          downloader_0.4         ggfun_0.0.5           \n",
       " [67] yulab.utils_0.0.4      stringi_1.7.6          RSQLite_2.2.8         \n",
       " [70] tidytree_0.3.7         filelock_1.0.2         zip_2.2.0             \n",
       " [73] BiocParallel_1.28.0    repr_1.1.3             GenomeInfoDb_1.30.0   \n",
       " [76] rlang_0.4.12           pkgconfig_2.0.3        bitops_1.0-7          \n",
       " [79] evaluate_0.14          lattice_0.20-45        purrr_0.3.4           \n",
       " [82] labeling_0.4.2         treeio_1.18.1          patchwork_1.1.1       \n",
       " [85] shadowtext_0.1.1       bit_4.0.4              tidyselect_1.1.1      \n",
       " [88] plyr_1.8.6             magrittr_2.0.1         R6_2.5.1              \n",
       " [91] generics_0.1.1         pbdZMQ_0.3-6           DBI_1.1.1             \n",
       " [94] withr_2.4.2            pillar_1.6.4           KEGGREST_1.34.0       \n",
       " [97] RCurl_1.98-1.5         tibble_3.1.6           crayon_1.4.2          \n",
       "[100] uuid_1.0-3             utf8_1.2.2             BiocFileCache_2.2.0   \n",
       "[103] progress_1.2.2         viridis_0.6.2          grid_4.1.1            \n",
       "[106] blob_1.2.2             digest_0.6.28          xtable_1.8-4          \n",
       "[109] tidyr_1.1.4            gridGraphics_0.5-1     munsell_0.5.0         \n",
       "[112] viridisLite_0.4.0      ggplotify_0.1.0       "
      ]
     },
     "metadata": {},
     "output_type": "display_data"
    }
   ],
   "source": [
    "sessionInfo()"
   ]
  },
  {
   "cell_type": "code",
   "execution_count": null,
   "id": "686d6487",
   "metadata": {},
   "outputs": [],
   "source": []
  },
  {
   "cell_type": "markdown",
   "id": "d0c01837",
   "metadata": {},
   "source": [
    "### "
   ]
  }
 ],
 "metadata": {
  "celltoolbar": "Tags",
  "kernelspec": {
   "display_name": "R",
   "language": "R",
   "name": "ir"
  },
  "language_info": {
   "codemirror_mode": "r",
   "file_extension": ".r",
   "mimetype": "text/x-r-source",
   "name": "R",
   "pygments_lexer": "r",
   "version": "4.1.1"
  }
 },
 "nbformat": 4,
 "nbformat_minor": 5
}
