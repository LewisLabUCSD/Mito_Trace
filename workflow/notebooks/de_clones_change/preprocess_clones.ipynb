{
 "cells": [
  {
   "cell_type": "code",
   "execution_count": 1,
   "id": "73e1a9e2",
   "metadata": {
    "tags": [
     "parameters"
    ]
   },
   "outputs": [],
   "source": [
    "# Input\n",
    "enrichment_dir = \"/data/Mito_Trace/output/pipeline/DUPI_april08_2021/v2_MTblacklist_mtasnucl_Bonly/data/merged/MT/cellr_True/numread_200/filters/minC10_minR50_topN0_hetT0.001_hetC10_hetCount5_bq20/mgatk/vireoIn/clones/variants_init/knn/kparam_3/enrichment/\"\n",
    "# Output\n",
    "outdir = \"/data/Mito_Trace/output/pipeline/DUPI_april08_2021/v2_MTblacklist_mtasnucl_Bonly/data/merged/MT/cellr_True/numread_200/filters/minC10_minR50_topN0_hetT0.001_hetC10_hetCount5_bq20/mgatk/vireoIn/clones/variants_init/knn/kparam_3/clone_change/filt_fisher__shuffle_False__padj_True__p_0.01_minC_1__bothMinC__1\"\n",
    "\n",
    "# Params\n",
    "pthresh = 0.01\n",
    "clone_filt = \"fisher\"\n",
    "min_cell = 1\n",
    "min_cell_both = 1\n",
    "use_p_adjust = True\n",
    "shuffle = False\n",
    "\n",
    "#p adjustments\n",
    "to_calc_p_adjust = True\n",
    "p_adj_col = \"p_adj\""
   ]
  },
  {
   "cell_type": "code",
   "execution_count": 2,
   "id": "75ec3ecb",
   "metadata": {},
   "outputs": [],
   "source": [
    "import pandas as pd\n",
    "from os.path import join, exists\n",
    "import os\n"
   ]
  },
  {
   "cell_type": "code",
   "execution_count": 3,
   "id": "3436e082",
   "metadata": {},
   "outputs": [],
   "source": [
    "if not exists(outdir):\n",
    "    os.mkdir(outdir)"
   ]
  },
  {
   "cell_type": "code",
   "execution_count": 4,
   "id": "fce30c48",
   "metadata": {
    "scrolled": true
   },
   "outputs": [
    {
     "data": {
      "text/html": [
       "<div>\n",
       "<style scoped>\n",
       "    .dataframe tbody tr th:only-of-type {\n",
       "        vertical-align: middle;\n",
       "    }\n",
       "\n",
       "    .dataframe tbody tr th {\n",
       "        vertical-align: top;\n",
       "    }\n",
       "\n",
       "    .dataframe thead th {\n",
       "        text-align: right;\n",
       "    }\n",
       "</style>\n",
       "<table border=\"1\" class=\"dataframe\">\n",
       "  <thead>\n",
       "    <tr style=\"text-align: right;\">\n",
       "      <th></th>\n",
       "      <th>Donor</th>\n",
       "      <th>lineage</th>\n",
       "      <th># postB Cells in Cluster</th>\n",
       "      <th># preB Cells in Cluster</th>\n",
       "      <th>postB fold enrichment norm</th>\n",
       "      <th>hypergeom p</th>\n",
       "      <th>Fisher p</th>\n",
       "      <th>Fisher -log10p</th>\n",
       "      <th>-log10p</th>\n",
       "      <th>Comparison</th>\n",
       "    </tr>\n",
       "  </thead>\n",
       "  <tbody>\n",
       "    <tr>\n",
       "      <th>0</th>\n",
       "      <td>0</td>\n",
       "      <td>0</td>\n",
       "      <td>4</td>\n",
       "      <td>16</td>\n",
       "      <td>0.600340</td>\n",
       "      <td>0.749239</td>\n",
       "      <td>0.456268</td>\n",
       "      <td>0.340780</td>\n",
       "      <td>0.125380</td>\n",
       "      <td>None</td>\n",
       "    </tr>\n",
       "    <tr>\n",
       "      <th>1</th>\n",
       "      <td>0</td>\n",
       "      <td>1</td>\n",
       "      <td>3</td>\n",
       "      <td>16</td>\n",
       "      <td>0.450255</td>\n",
       "      <td>0.859432</td>\n",
       "      <td>0.302851</td>\n",
       "      <td>0.518771</td>\n",
       "      <td>0.065788</td>\n",
       "      <td>None</td>\n",
       "    </tr>\n",
       "    <tr>\n",
       "      <th>2</th>\n",
       "      <td>0</td>\n",
       "      <td>2</td>\n",
       "      <td>3</td>\n",
       "      <td>16</td>\n",
       "      <td>0.450255</td>\n",
       "      <td>0.859432</td>\n",
       "      <td>0.302851</td>\n",
       "      <td>0.518771</td>\n",
       "      <td>0.065788</td>\n",
       "      <td>None</td>\n",
       "    </tr>\n",
       "    <tr>\n",
       "      <th>3</th>\n",
       "      <td>0</td>\n",
       "      <td>3</td>\n",
       "      <td>7</td>\n",
       "      <td>12</td>\n",
       "      <td>1.400794</td>\n",
       "      <td>0.162283</td>\n",
       "      <td>0.451355</td>\n",
       "      <td>0.345482</td>\n",
       "      <td>0.789727</td>\n",
       "      <td>None</td>\n",
       "    </tr>\n",
       "    <tr>\n",
       "      <th>4</th>\n",
       "      <td>0</td>\n",
       "      <td>4</td>\n",
       "      <td>5</td>\n",
       "      <td>14</td>\n",
       "      <td>0.857629</td>\n",
       "      <td>0.504173</td>\n",
       "      <td>1.000000</td>\n",
       "      <td>-0.000000</td>\n",
       "      <td>0.297420</td>\n",
       "      <td>None</td>\n",
       "    </tr>\n",
       "    <tr>\n",
       "      <th>...</th>\n",
       "      <td>...</td>\n",
       "      <td>...</td>\n",
       "      <td>...</td>\n",
       "      <td>...</td>\n",
       "      <td>...</td>\n",
       "      <td>...</td>\n",
       "      <td>...</td>\n",
       "      <td>...</td>\n",
       "      <td>...</td>\n",
       "      <td>...</td>\n",
       "    </tr>\n",
       "    <tr>\n",
       "      <th>178</th>\n",
       "      <td>3</td>\n",
       "      <td>35</td>\n",
       "      <td>5</td>\n",
       "      <td>1</td>\n",
       "      <td>4.104478</td>\n",
       "      <td>0.026973</td>\n",
       "      <td>0.230441</td>\n",
       "      <td>0.637441</td>\n",
       "      <td>1.569068</td>\n",
       "      <td>None</td>\n",
       "    </tr>\n",
       "    <tr>\n",
       "      <th>179</th>\n",
       "      <td>3</td>\n",
       "      <td>36</td>\n",
       "      <td>5</td>\n",
       "      <td>1</td>\n",
       "      <td>4.104478</td>\n",
       "      <td>0.026973</td>\n",
       "      <td>0.230441</td>\n",
       "      <td>0.637441</td>\n",
       "      <td>1.569068</td>\n",
       "      <td>None</td>\n",
       "    </tr>\n",
       "    <tr>\n",
       "      <th>180</th>\n",
       "      <td>3</td>\n",
       "      <td>37</td>\n",
       "      <td>3</td>\n",
       "      <td>3</td>\n",
       "      <td>0.820896</td>\n",
       "      <td>0.439509</td>\n",
       "      <td>1.000000</td>\n",
       "      <td>-0.000000</td>\n",
       "      <td>0.357032</td>\n",
       "      <td>None</td>\n",
       "    </tr>\n",
       "    <tr>\n",
       "      <th>181</th>\n",
       "      <td>3</td>\n",
       "      <td>38</td>\n",
       "      <td>2</td>\n",
       "      <td>3</td>\n",
       "      <td>0.547264</td>\n",
       "      <td>0.591868</td>\n",
       "      <td>0.662301</td>\n",
       "      <td>0.178945</td>\n",
       "      <td>0.227775</td>\n",
       "      <td>None</td>\n",
       "    </tr>\n",
       "    <tr>\n",
       "      <th>182</th>\n",
       "      <td>3</td>\n",
       "      <td>39</td>\n",
       "      <td>3</td>\n",
       "      <td>2</td>\n",
       "      <td>1.231343</td>\n",
       "      <td>0.254169</td>\n",
       "      <td>1.000000</td>\n",
       "      <td>-0.000000</td>\n",
       "      <td>0.594877</td>\n",
       "      <td>None</td>\n",
       "    </tr>\n",
       "  </tbody>\n",
       "</table>\n",
       "<p>183 rows × 10 columns</p>\n",
       "</div>"
      ],
      "text/plain": [
       "     Donor  lineage  # postB Cells in Cluster  # preB Cells in Cluster  \\\n",
       "0        0        0                         4                       16   \n",
       "1        0        1                         3                       16   \n",
       "2        0        2                         3                       16   \n",
       "3        0        3                         7                       12   \n",
       "4        0        4                         5                       14   \n",
       "..     ...      ...                       ...                      ...   \n",
       "178      3       35                         5                        1   \n",
       "179      3       36                         5                        1   \n",
       "180      3       37                         3                        3   \n",
       "181      3       38                         2                        3   \n",
       "182      3       39                         3                        2   \n",
       "\n",
       "     postB fold enrichment norm  hypergeom p  Fisher p  Fisher -log10p  \\\n",
       "0                      0.600340     0.749239  0.456268        0.340780   \n",
       "1                      0.450255     0.859432  0.302851        0.518771   \n",
       "2                      0.450255     0.859432  0.302851        0.518771   \n",
       "3                      1.400794     0.162283  0.451355        0.345482   \n",
       "4                      0.857629     0.504173  1.000000       -0.000000   \n",
       "..                          ...          ...       ...             ...   \n",
       "178                    4.104478     0.026973  0.230441        0.637441   \n",
       "179                    4.104478     0.026973  0.230441        0.637441   \n",
       "180                    0.820896     0.439509  1.000000       -0.000000   \n",
       "181                    0.547264     0.591868  0.662301        0.178945   \n",
       "182                    1.231343     0.254169  1.000000       -0.000000   \n",
       "\n",
       "      -log10p Comparison  \n",
       "0    0.125380       None  \n",
       "1    0.065788       None  \n",
       "2    0.065788       None  \n",
       "3    0.789727       None  \n",
       "4    0.297420       None  \n",
       "..        ...        ...  \n",
       "178  1.569068       None  \n",
       "179  1.569068       None  \n",
       "180  0.357032       None  \n",
       "181  0.227775       None  \n",
       "182  0.594877       None  \n",
       "\n",
       "[183 rows x 10 columns]"
      ]
     },
     "execution_count": 4,
     "metadata": {},
     "output_type": "execute_result"
    }
   ],
   "source": [
    "clones = pd.read_csv(join(enrichment_dir, \"enrichmentNorm.csv\"))\n",
    "clones"
   ]
  },
  {
   "cell_type": "code",
   "execution_count": 5,
   "id": "e8c011b6",
   "metadata": {
    "scrolled": false
   },
   "outputs": [],
   "source": [
    "#from glob import glob\n",
    "#shuffle_stats_in = glob(join(enrichment_dir, \"shuffle_stats\", \"*clone_shuffle.csv\"))\n",
    "#shuffle_stats_in"
   ]
  },
  {
   "cell_type": "code",
   "execution_count": 6,
   "id": "60f2a4af",
   "metadata": {},
   "outputs": [
    {
     "data": {
      "text/plain": [
       "array(['# postB Cells in Cluster', '# preB Cells in Cluster'],\n",
       "      dtype=object)"
      ]
     },
     "execution_count": 6,
     "metadata": {},
     "output_type": "execute_result"
    }
   ],
   "source": [
    "count_cols = clones.columns.values[clones.columns.str.contains(\"Cells in Cluster\")]\n",
    "count_cols"
   ]
  },
  {
   "cell_type": "code",
   "execution_count": 7,
   "id": "2903c6ad",
   "metadata": {
    "scrolled": true
   },
   "outputs": [
    {
     "data": {
      "text/plain": [
       "'postB fold enrichment norm'"
      ]
     },
     "execution_count": 7,
     "metadata": {},
     "output_type": "execute_result"
    }
   ],
   "source": [
    "fold_col = clones.columns.values[clones.columns.str.contains(\"fold enrichment norm\")][0]\n",
    "fold_col"
   ]
  },
  {
   "cell_type": "markdown",
   "id": "8d8d301f",
   "metadata": {},
   "source": [
    "## Need to create name for each clone: {donor}_{cl} and d{donor}_cl{cl} is full id\n",
    "## Need to create 'change' column for expand, regress, no_change\n",
    "## Need to filter small clones if parameter is set"
   ]
  },
  {
   "cell_type": "code",
   "execution_count": 8,
   "id": "c7cacc47",
   "metadata": {
    "scrolled": true
   },
   "outputs": [
    {
     "name": "stdout",
     "output_type": "stream",
     "text": [
      "adjusting p value\n",
      "Before min-cell filter\n",
      "(183, 13)\n",
      "After min-cell filter\n",
      "(183, 13)\n",
      "After min-cell filter both\n",
      "(117, 13)\n"
     ]
    }
   ],
   "source": [
    "def get_change(x):\n",
    "    if x[\"sig\"] == False:\n",
    "        return \"no_change\"\n",
    "    if x[fold_col]>1:\n",
    "        return \"expand\"\n",
    "    else:\n",
    "        return \"regress\"\n",
    "    \n",
    "clones = pd.read_csv(join(enrichment_dir, \"enrichmentNorm.csv\"))\n",
    "if clone_filt == \"fisher\":\n",
    "    if to_calc_p_adjust:\n",
    "        from statsmodels.stats.multitest import multipletests\n",
    "        print(\"adjusting p value\")\n",
    "        _, clones[\"p_adj\"], _, _ = multipletests(clones[\"Fisher p\"].values, method=\"fdr_bh\")\n",
    "        \n",
    "        clones[\"sig\"] = clones[\"p_adj\"] < pthresh\n",
    "else: #make them all considered sig\n",
    "    clones[\"sig\"] = 1\n",
    "    clones[\"p_adj\"] = -1\n",
    "    \n",
    "clones[\"change\"] = clones.apply(get_change, axis=1)   \n",
    "# Filter for minimum number of cells in clone \n",
    "print(\"Before min-cell filter\")\n",
    "print(clones.shape)\n",
    "clones = clones.loc[clones[count_cols].sum(axis=1)>min_cell]\n",
    "print(\"After min-cell filter\")\n",
    "print(clones.shape)\n",
    "\n",
    "clones = clones.loc[(clones[count_cols]>min_cell_both).all(axis=1)]\n",
    "print(\"After min-cell filter both\")\n",
    "print(clones.shape)\n",
    "clones[\"name\"] = clones[\"Donor\"].astype(str) + \"_\" + clones[\"lineage\"].astype(str)\n",
    "clones[\"ID\"] = \"donor_\"+clones[\"Donor\"].astype(str) + \"_clone_\" + clones[\"lineage\"].astype(str)\n",
    "clones = clones.set_index(\"name\")\n",
    "\n",
    "if shuffle: \n",
    "    # if didnt pass shuffle_stats, then changed to no_change if not already\n",
    "    shuffle_stats = pd.read_csv(join(enrichment_dir, \"shuffle_stats\", \"shuffle_stats.csv\"))\n",
    "    sig_shuffle_stats = shuffle_stats[shuffle_stats[\"shuffle_sig_max\"]==True].set_index(\"name\")\n",
    "    clones[\"shuffle_sig_max\"] = False\n",
    "    \n",
    "    print(\"before shuffle stats groups\")\n",
    "    print(clones.groupby(\"change\").size())\n",
    "    clones.loc[clones.index.isin(sig_shuffle_stats.index), \"shuffle_sig_max\"] = True\n",
    "    clones.loc[clones[\"shuffle_sig_max\"]==False, \"change\"] = \"no_change\"\n",
    "    #clones = clones[clones[\"shuffle_sig_max\"]==True]\n",
    "    print(\"after shuffle stats groups\")\n",
    "    print(clones.groupby(\"change\").size())\n",
    "out = clones[[\"p_adj\", \"sig\", \"change\", \"ID\"]].sort_values(\"p_adj\")\n"
   ]
  },
  {
   "cell_type": "code",
   "execution_count": 9,
   "id": "1d702cb0",
   "metadata": {
    "scrolled": true
   },
   "outputs": [
    {
     "name": "stderr",
     "output_type": "stream",
     "text": [
      "/home/isaac/miniconda3/envs/mttrace/lib/python3.7/site-packages/seaborn/_decorators.py:43: FutureWarning: Pass the following variable as a keyword arg: x. From version 0.12, the only valid positional argument will be `data`, and passing other arguments without an explicit keyword will result in an error or misinterpretation.\n",
      "  FutureWarning\n"
     ]
    },
    {
     "data": {
      "image/png": "[encoded data removed]",
      "text/plain": [
       "<Figure size 432x288 with 1 Axes>"
      ]
     },
     "metadata": {
      "needs_background": "light"
     },
     "output_type": "display_data"
    }
   ],
   "source": [
    "import seaborn as sns\n",
    "import matplotlib.pyplot as plt\n",
    "sns.countplot(out[\"change\"])\n",
    "plt.yscale(\"log\")"
   ]
  },
  {
   "cell_type": "code",
   "execution_count": 10,
   "id": "fb6c70c7",
   "metadata": {
    "scrolled": false
   },
   "outputs": [],
   "source": [
    "out.groupby(\"change\").size().to_csv(join(outdir, \"expand_counts.csv\"))"
   ]
  },
  {
   "cell_type": "code",
   "execution_count": 11,
   "id": "e06a8a91",
   "metadata": {},
   "outputs": [],
   "source": [
    "out.to_csv(join(outdir, \"clone_change.csv\"))"
   ]
  }
 ],
 "metadata": {
  "celltoolbar": "Tags",
  "kernelspec": {
   "display_name": "Python 3 (ipykernel)",
   "language": "python",
   "name": "python3"
  },
  "language_info": {
   "codemirror_mode": {
    "name": "ipython",
    "version": 3
   },
   "file_extension": ".py",
   "mimetype": "text/x-python",
   "name": "python",
   "nbconvert_exporter": "python",
   "pygments_lexer": "ipython3",
   "version": "3.7.12"
  }
 },
 "nbformat": 4,
 "nbformat_minor": 5
}
