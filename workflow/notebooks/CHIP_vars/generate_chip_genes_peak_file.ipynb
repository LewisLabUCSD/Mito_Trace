{
 "cells": [
  {
   "cell_type": "markdown",
   "metadata": {},
   "source": [
    "## Generate bed file wiith the CHIP genes and a surrounding window (default padded by 10kb)"
   ]
  },
  {
   "cell_type": "code",
   "execution_count": null,
   "metadata": {},
   "outputs": [],
   "source": [
    "genes_f = \"/data/Mito_Trace/data/processed/genomes/mtMasked/GRCh38_MT_blacklist_A2_2020/genes/genes.gtf\"\n",
    "genes_bed = \"/data/Mito_Trace/output/geneRegions/gff_A2/genes.bed\"\n",
    "\n",
    "out_f = \"/data/Mito_Trace/output/geneRegions/gff_A2/chip_genes.bed\"\n",
    "chip_genes = \"TP53,DNMT3A,MPL,CBL,EZH2,RAD21,TET2,ASXL1,U2AF1,SF3B1,SRSF2,IDH1,IDH2\"\n",
    "pad = 5000"
   ]
  },
  {
   "cell_type": "code",
   "execution_count": null,
   "metadata": {},
   "outputs": [],
   "source": [
    "chip_genes_list = chip_genes.split(\",\")\n",
    "chip_genes_list"
   ]
  },
  {
   "cell_type": "code",
   "execution_count": null,
   "metadata": {},
   "outputs": [],
   "source": [
    "import pandas as pd\n",
    "from os.path import dirname"
   ]
  },
  {
   "cell_type": "markdown",
   "metadata": {},
   "source": [
    "## a. gtf2bed  \n",
    "## b. Read in bed file, extract genes of interest, pad and save"
   ]
  },
  {
   "cell_type": "markdown",
   "metadata": {},
   "source": [
    "# a. gtf2bed on command line\n"
   ]
  },
  {
   "cell_type": "code",
   "execution_count": null,
   "metadata": {},
   "outputs": [],
   "source": [
    "outdir = dirname(out_f)\n",
    "outdir\n",
    "\n",
    "cmd = f\"gff2bed < {genes_f} > {outdir}/all_genes.bed\"\n",
    "print(cmd)\n",
    "# !{cmd}"
   ]
  },
  {
   "cell_type": "markdown",
   "metadata": {},
   "source": [
    "## b."
   ]
  },
  {
   "cell_type": "code",
   "execution_count": null,
   "metadata": {},
   "outputs": [],
   "source": [
    "all_genes = pd.read_csv(genes_bed,sep=\"\\t\", header=None)\n",
    "\n",
    "all_genes.head(20)"
   ]
  },
  {
   "cell_type": "code",
   "execution_count": null,
   "metadata": {},
   "outputs": [],
   "source": [
    "all_genes = all_genes[all_genes[7]==\"gene\"]\n",
    "all_genes"
   ]
  },
  {
   "cell_type": "code",
   "execution_count": null,
   "metadata": {},
   "outputs": [],
   "source": [
    "def find_chip(reg, gene):\n",
    "    pattern = f'gene_name \"{gene}\"'\n",
    "    print('pattern')\n",
    "    print(pattern)\n",
    "    print(reg[9])\n",
    "    if pattern in reg[9]:\n",
    "        return True\n",
    "    else:\n",
    "        return False\n",
    "\n",
    "def is_in_gene_list(curr_region, gene_list):\n",
    "    for g in gene_list:\n",
    "        if find_chip(curr_region, g):\n",
    "            return True\n",
    "    return False"
   ]
  },
  {
   "cell_type": "code",
   "execution_count": null,
   "metadata": {},
   "outputs": [],
   "source": [
    "chip_genes_ser = all_genes.apply(is_in_gene_list, args=(chip_genes_list,),axis=1)\n",
    "chip_genes_ser"
   ]
  },
  {
   "cell_type": "code",
   "execution_count": null,
   "metadata": {},
   "outputs": [],
   "source": [
    "all_genes[\"is_chip\"] = chip_genes_ser #chip_genes.where(chip_genes==True).isnull()\n",
    "all_genes"
   ]
  },
  {
   "cell_type": "code",
   "execution_count": null,
   "metadata": {},
   "outputs": [],
   "source": [
    "chip_genes_df = all_genes.loc[all_genes[\"is_chip\"]]\n",
    "chip_genes_df"
   ]
  },
  {
   "cell_type": "markdown",
   "metadata": {},
   "source": [
    "### Add pad"
   ]
  },
  {
   "cell_type": "code",
   "execution_count": null,
   "metadata": {},
   "outputs": [],
   "source": [
    "chip_genes_df[1]-=pad\n",
    "chip_genes_df[2]+=pad"
   ]
  },
  {
   "cell_type": "code",
   "execution_count": null,
   "metadata": {},
   "outputs": [],
   "source": [
    "chip_genes_df.head()"
   ]
  },
  {
   "cell_type": "markdown",
   "metadata": {},
   "source": [
    "### save"
   ]
  },
  {
   "cell_type": "code",
   "execution_count": null,
   "metadata": {},
   "outputs": [],
   "source": [
    "chip_genes_df.to_csv(out_f, header=None, index=False, sep='\\t')"
   ]
  },
  {
   "cell_type": "code",
   "execution_count": null,
   "metadata": {},
   "outputs": [],
   "source": [
    "out_f"
   ]
  }
 ],
 "metadata": {
  "kernelspec": {
   "display_name": "Python 3 (ipykernel)",
   "language": "python",
   "name": "python3"
  },
  "language_info": {
   "codemirror_mode": {
    "name": "ipython",
    "version": 3
   },
   "file_extension": ".py",
   "mimetype": "text/x-python",
   "name": "python",
   "nbconvert_exporter": "python",
   "pygments_lexer": "ipython3",
   "version": "3.7.12"
  }
 },
 "nbformat": 4,
 "nbformat_minor": 1
}
