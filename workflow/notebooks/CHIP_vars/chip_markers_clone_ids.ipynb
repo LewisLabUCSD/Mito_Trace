{
 "cells": [
  {
   "cell_type": "code",
   "execution_count": 1,
   "metadata": {
    "ExecuteTime": {
     "end_time": "2021-05-24T04:06:26.493561Z",
     "start_time": "2021-05-24T04:06:26.488588Z"
    },
    "scrolled": false
   },
   "outputs": [
    {
     "data": {
      "text/plain": [
       "'/mnt/md0/isshamie/Projects/Mito_Trace/workflow/notebooks/CHIP_vars'"
      ]
     },
     "execution_count": 1,
     "metadata": {},
     "output_type": "execute_result"
    }
   ],
   "source": [
    "pwd"
   ]
  },
  {
   "cell_type": "markdown",
   "metadata": {},
   "source": [
    "RB1060  \n",
    "117875465\t117875465\tA\tC\texonic\tRAD21\tnonsynonymous SNV  \n",
    "117869732\t117869732\tT\tC\tintronic\tRAD21\tNA  \n",
    "106197631\t106197631\tA\tC\texonic\tTET2\tsynonymous SNV  \n",
    "31023741\t31023741\tA\tT\texonic\tASXL1\tnonsynonymous SNV  \n",
    "\n",
    "\n",
    "RB1003  \n",
    "25457243\t25457243\tG\tA\texonic\tDNMT3A\tnonsynonymous SNV  \n",
    "25462022\t25462022\tC\tT\texonic\tDNMT3A\tstopgain  \n",
    "25463541\t25463541\tG\tC\texonic\tDNMT3A\tnonsynonymous SNV  \n",
    "25464501\t25464501\tG\tC\texonic\tDNMT3A\tnonsynonymous SNV  \n",
    "43814926\t43814926\tT\tA\tintronic\tMPL\tNA  \n",
    "119149239\t119149239\tG\tC\texonic\tCBL\tnonsynonymous SNV  \n",
    "148512211\t148512211\tT\tC\tintronic\tEZH2\tNA  \n"
   ]
  },
  {
   "cell_type": "code",
   "execution_count": 2,
   "metadata": {
    "ExecuteTime": {
     "end_time": "2021-05-24T04:06:26.502297Z",
     "start_time": "2021-05-24T04:06:26.495693Z"
    },
    "tags": [
     "parameters"
    ]
   },
   "outputs": [],
   "source": [
    "#config_f = \"config.yaml\"\n",
    "outdir=\"\"\n",
    "\n",
    "frag_indir = \"/home/isaac/lewis/mito_lineage/output/mtscATAC/data/CHIP_dec172021_b1/MTBlacklist_A2/\"\n",
    "samples = \"Control,Flt3l,Input\"\n",
    "chip_genes = \"TP53,U2AF1,SF3B1,SRSF2,TET2,IDH1,IDH2,DNMT3A\"\n",
    "is_chip_nameerror = False\n",
    "cells_meta_f = \"/data/Mito_Trace/output/pipeline/v02/CHIP_b1/MTBlacklist_A2/data/merged/MT/cellr_True/numread_200/filters/minC10_minR50_topN0_hetT0.001_hetC10_hetCount5_bq20/mgatk/vireoIn/clones/variants_init/knn/kparam_3/cells_meta.tsv\"\n",
    "clones_meta_f = '/data/Mito_Trace/output/pipeline/v02/CHIP_b1/MTBlacklist_A2/results/clones_summary/feb23_2022/clones_summary.csv'"
   ]
  },
  {
   "cell_type": "code",
   "execution_count": 3,
   "metadata": {},
   "outputs": [],
   "source": [
    "# cells_meta_f = \"/data/Mito_Trace/output/pipeline/DUPI_april08_2021/MTblacklist_mtasnucl_Bonly/data/merged/MT/cellr_True/numread_200/filters/minC10_minR50_topN0_hetT0.001_hetC10_hetCount5_bq20/mgatk/vireoIn/clones/variants_init/knn/kparam_3/concat/cells_meta.tsv\" \n",
    "# se_f = \"/data/Mito_Trace/output/pipeline/DUPI_april08_2021/MTblacklist_mtasnucl_Bonly/data/annotation/gff_hg38_1_2/mergedSamples/allSamples.integrated.rds\" \n",
    "# outdir = \"/data/Mito_Trace/output/pipeline/DUPI_april08_2021/MTblacklist_mtasnucl_Bonly/data/merged/MT/cellr_True/numread_200/filters/minC10_minR50_topN0_hetT0.001_hetC10_hetCount5_bq20/mgatk/vireoIn/clones/variants_init/knn/kparam_3/concat/gff_hg38_1_2/annotation_clones\""
   ]
  },
  {
   "cell_type": "code",
   "execution_count": 4,
   "metadata": {},
   "outputs": [],
   "source": [
    "chip_genes = chip_genes.split(\",\")\n",
    "samples = samples.split(\",\")\n",
    "\n",
    "samples_dict = {ind+1: val for ind, val in enumerate(samples)}"
   ]
  },
  {
   "cell_type": "code",
   "execution_count": 5,
   "metadata": {},
   "outputs": [],
   "source": [
    "if is_chip_nameerror:\n",
    "    single_cell_dirs = {\"Flt3l\":\"Control\", \"Control\":\"Flt3l\", \"Input\":\"Input\"}\n",
    "else:\n",
    "    single_cell_dirs = {s:s for s in samples}\n"
   ]
  },
  {
   "cell_type": "code",
   "execution_count": 6,
   "metadata": {},
   "outputs": [
    {
     "data": {
      "text/plain": [
       "['Control', 'Flt3l', 'Input']"
      ]
     },
     "execution_count": 6,
     "metadata": {},
     "output_type": "execute_result"
    }
   ],
   "source": [
    "samples"
   ]
  },
  {
   "cell_type": "code",
   "execution_count": 7,
   "metadata": {
    "ExecuteTime": {
     "end_time": "2021-05-24T04:06:26.511959Z",
     "start_time": "2021-05-24T04:06:26.504251Z"
    }
   },
   "outputs": [],
   "source": [
    "import os\n",
    "if outdir == \"\":\n",
    "    outdir=\"./output\"\n",
    "\n",
    "if not os.path.exists(outdir):\n",
    "    os.mkdir(outdir)"
   ]
  },
  {
   "cell_type": "code",
   "execution_count": 8,
   "metadata": {
    "ExecuteTime": {
     "end_time": "2021-05-24T04:06:27.365171Z",
     "start_time": "2021-05-24T04:06:26.513673Z"
    },
    "scrolled": false
   },
   "outputs": [
    {
     "name": "stdout",
     "output_type": "stream",
     "text": [
      "fig_utils from mplh\n",
      "here\n"
     ]
    }
   ],
   "source": [
    "from src.utils.parse_config import read_config_file\n",
    "from os.path import join, dirname\n",
    "import pandas as pd\n",
    "from glob import glob\n",
    "import seaborn as sns\n",
    "import numpy as np\n",
    "import matplotlib.pyplot as plt\n",
    "import mplh.cluster_help as ch\n",
    "%load_ext autoreload\n",
    "%autoreload 2\n",
    "\n",
    "%matplotlib inline"
   ]
  },
  {
   "cell_type": "markdown",
   "metadata": {},
   "source": [
    "## Load clone meta and cell IDs"
   ]
  },
  {
   "cell_type": "code",
   "execution_count": 9,
   "metadata": {
    "scrolled": true
   },
   "outputs": [],
   "source": [
    "dendro_indir = \"/data/Mito_Trace/output/pipeline/v02/CHIP_b1/MTBlacklist_A2/data/merged/MT/cellr_True/numread_200/filters/minC10_minR50_topN0_hetT0.001_hetC10_hetCount5_bq20/mgatk/vireoIn/clones/variants_init/knn/kparam_3/barcodes/btwnClones/donor*dendro.csv\"\n",
    "\n",
    "dendro_fs = glob(dendro_indir)\n",
    "clones_meta = []\n",
    "for f in dendro_fs:\n",
    "    clones_meta.append(pd.read_csv(f))\n",
    "\n",
    "clones_meta = pd.concat(clones_meta, axis=0)\n",
    "\n",
    "clones_meta.index = clones_meta[\"donor\"].astype(str)+\"_\"+clones_meta[\"lineage\"].astype(str)\n",
    "\n",
    "\n",
    "#clones_meta = pd.read_csv(clones_meta_f, index_col=0)\n",
    "#clones_meta"
   ]
  },
  {
   "cell_type": "code",
   "execution_count": 10,
   "metadata": {
    "scrolled": true
   },
   "outputs": [],
   "source": [
    "cells_meta = pd.read_csv(cells_meta_f, sep=\"\\t\", index_col=0)\n",
    "cells_meta[\"name\"] = cells_meta[\"donor\"].astype(str) + \"_\" + cells_meta[\"lineage\"].astype(str) + \"_\" + cells_meta[\"condition\"]\n",
    "cells_meta[\"ID\"] = cells_meta[\"donor\"].astype(str) + \"_\" + cells_meta[\"lineage\"].astype(str) \n",
    "cells_meta[\"fold_change\"] = cells_meta[\"ID\"].map(clones_meta[\"fold_change\"])\n",
    "\n",
    "cells_meta\n",
    "\n",
    "\n",
    "cells_meta[\"den_clust\"] = cells_meta[\"ID\"].map(clones_meta[\"den_clust\"])\n"
   ]
  },
  {
   "cell_type": "code",
   "execution_count": 11,
   "metadata": {
    "ExecuteTime": {
     "end_time": "2021-05-24T04:06:27.396849Z",
     "start_time": "2021-05-24T04:06:27.368274Z"
    },
    "scrolled": false
   },
   "outputs": [],
   "source": [
    "#config = read_config_file(config_f)\n",
    "#chip_genes = config[\"chip_genes\"]\n",
    "#config\n"
   ]
  },
  {
   "cell_type": "code",
   "execution_count": 12,
   "metadata": {},
   "outputs": [],
   "source": [
    "def peaks_gene(df, gene, anno):\n",
    "    inds = anno[anno[\"gene\"]==gene].index\n",
    "    df = df.loc[df.index.isin(inds)]\n",
    "    anno=anno.loc[anno.index.isin(inds)]\n",
    "    return df, anno"
   ]
  },
  {
   "cell_type": "code",
   "execution_count": 13,
   "metadata": {},
   "outputs": [],
   "source": [
    "def filt_cells(df, cells):\n",
    "    df = df.loc[:, df.columns.isin(cells.index)]\n",
    "    cells = cells.loc[df.columns]\n",
    "    return df, cells"
   ]
  },
  {
   "cell_type": "markdown",
   "metadata": {},
   "source": [
    "## Create peak matrix for each connditionn"
   ]
  },
  {
   "cell_type": "code",
   "execution_count": 14,
   "metadata": {
    "ExecuteTime": {
     "end_time": "2021-05-24T04:06:28.332931Z",
     "start_time": "2021-05-24T04:06:27.417656Z"
    },
    "scrolled": true
   },
   "outputs": [
    {
     "name": "stdout",
     "output_type": "stream",
     "text": [
      "Control\n",
      "categorical True\n",
      "categorical True\n",
      "saving\n",
      "categorical True\n",
      "categorical True\n",
      "saving\n"
     ]
    },
    {
     "data": {
      "image/png": "[encoded data removed]",
      "text/plain": [
       "<Figure size 720x720 with 6 Axes>"
      ]
     },
     "metadata": {
      "needs_background": "light"
     },
     "output_type": "display_data"
    },
    {
     "data": {
      "image/png": "[encoded data removed]",
      "text/plain": [
       "<Figure size 720x720 with 6 Axes>"
      ]
     },
     "metadata": {
      "needs_background": "light"
     },
     "output_type": "display_data"
    }
   ],
   "source": [
    "#curr_in = join(config[\"indir\"], config['CBs'][0], 'outs')\n",
    "for s in samples:\n",
    "    print(s)\n",
    "    curr_in = join(frag_indir, s, \"outs\")\n",
    "\n",
    "    CBs = pd.read_csv(join(frag_indir, single_cell_dirs[s], \"outs\", \"singlecell.csv\"))\n",
    "    CBs = CBs.loc[CBs[\"barcode\"]!= \"NO_BARCODE\"].reset_index() ## drop the 'NO_BARCODE'\n",
    "    CBs.index= CBs.index+1\n",
    "    CBs[\"Condition ID\"] = CBs[\"barcode\"].apply(lambda x: x.split(\"-\")[-1])\n",
    "    CBs[\"Condition\"] = CBs[\"Condition ID\"].astype(int).map(samples_dict)\n",
    "      \n",
    "    cell_inds = pd.read_csv(join(curr_in, \"filtered_peak_bc_matrix\",\"barcodes.tsv\"),header=None)\n",
    "    ## Load peak annotations\n",
    "\n",
    "    peak_annotations = pd.read_csv(join(curr_in,'peak_annotation.tsv'),sep='\\t')\n",
    "    peak_annotations.index=peak_annotations.index+1\n",
    "    peak_annotations[\"gene\"] = peak_annotations[\"gene\"].str.upper()\n",
    "    peak_annotations[\"Peak\"]= peak_annotations.index\n",
    "    # peak_annotations\n",
    "\n",
    "    ## Filter for the chip genes \n",
    "    ## Uses peak_annotations\n",
    "    # Load peaks matrix\n",
    "    filename = join(curr_in,'filtered_peak_bc_matrix/matrix.mtx')\n",
    "    peaks_sparse_mtx = pd.read_csv(filename,sep=' ',skiprows=3, header=None)\n",
    "    peaks_sparse_mtx.columns = [\"Peak\", \"Cell\", \"Count\"]\n",
    "\n",
    "    chip_anno = peak_annotations[peak_annotations[\"gene\"].isin(chip_genes)].set_index(\"Peak\", drop=True).copy()\n",
    "    chip_anno.head()\n",
    "\n",
    "    peaks_sparse_mtx = peaks_sparse_mtx.loc[peaks_sparse_mtx[\"Peak\"].isin(chip_anno.index)]\n",
    "    peaks_sparse_mtx[\"gene\"] = peaks_sparse_mtx[\"Peak\"].map(peak_annotations[\"gene\"])\n",
    "    CBs[\"barcode\"] = CBs[\"barcode\"] + \"_\" + s\n",
    "    peaks_sparse_mtx[\"Cell\"] = peaks_sparse_mtx[\"Cell\"].map(CBs['barcode'])\n",
    "    \n",
    "    peaks_dense = peaks_sparse_mtx.pivot(index=\"Peak\", columns=\"Cell\",values=\"Count\").fillna(0)\n",
    "    CBs = CBs.set_index(\"barcode\")\n",
    "    chip_anno[\"ID\"] = chip_anno.apply(lambda x: x[\"gene\"]+\"_\"+x[\"peak_type\"]+\"_\"+x[\"distance\"],axis=1)\n",
    "    chip_peaks_dense = peaks_dense.loc[peaks_dense.index.isin(chip_anno.index)].copy()    \n",
    "    \n",
    "\n",
    "    # Cluster cells by peaks \n",
    "    rand_df = chip_peaks_dense.sample(n=1000,axis=1)\n",
    "    rand_df, curr_cells_meta = filt_cells(rand_df, cells_meta) #cells_meta.loc[cells_meta.index.isin(dnmt3.columns)]\n",
    "    g = ch.plot_cluster(rand_df.fillna(0), row_meta=chip_anno.loc[rand_df.index,[\"gene\", \"peak_type\"]], \n",
    "                    col_meta=curr_cells_meta[[\"donor\", \"condition\", \"fold_change\", \"den_clust\"]].astype(str),\n",
    "                    to_row_clust=True, \n",
    "                    metric='jaccard', to_legend=True, white_name=None, row_names=False )\n",
    "    g.fig.suptitle(s)\n",
    "    plt.savefig(join(outdir, f\"sample_{s}_CHIP_genes_chromatinFragments.png\"), bbox_inches='tight')\n",
    "\n",
    "#     ## Countplots for each gene and peak type\n",
    "#     f = plt.figure()\n",
    "#     sns.countplot(chip_anno[\"gene\"])\n",
    "#     plt.title(s)\n",
    "#     plt.savefig(join(outdir, f\"sample_{s}_CHIP_genes_counts.png\"), bbox_inches='tight')\n",
    "\n",
    "\n",
    "    ## Filter for only ones with assigned clones\n",
    "    # Runn for DNMT3A gene\n",
    "    dnmt3, dnmt3_anno = peaks_gene(chip_peaks_dense, \"DNMT3A\", chip_anno)\n",
    "\n",
    "    curr_dnmt3, curr_cells_meta = filt_cells(dnmt3, cells_meta) #cells_meta.loc[cells_meta.index.isin(dnmt3.columns)]\n",
    "    g = ch.plot_cluster(curr_dnmt3.fillna(0), row_meta=dnmt3_anno[[\"gene\", \"peak_type\"]], \n",
    "                        col_meta=curr_cells_meta[[\"donor\", \"condition\", \"fold_change\", \"den_clust\"]].astype(str),\n",
    "                        to_row_clust=True, sep_clr_map=True, to_col_clust=True,\n",
    "                        metric='jaccard', to_legend=True, white_name=None, row_names=False )\n",
    "\n",
    "    g.fig.suptitle(s)\n",
    "    plt.savefig(join(outdir, f\"sample_{s}_dnmt3a_chromatinFragments.png\"), bbox_inches='tight')\n",
    "    break"
   ]
  },
  {
   "cell_type": "markdown",
   "metadata": {},
   "source": [
    "## Heatmap but by average (and median) of cells in clones"
   ]
  },
  {
   "cell_type": "markdown",
   "metadata": {},
   "source": [
    "### Take average in each clone"
   ]
  },
  {
   "cell_type": "code",
   "execution_count": 21,
   "metadata": {
    "scrolled": true
   },
   "outputs": [],
   "source": [
    "def clone_mean(curr_clone, peaks_dense, method=\"mean\"):\n",
    "    if method == \"mean\":\n",
    "        return peaks_dense.loc[:, peaks_dense.columns.isin(curr_clone.index)].mean(axis=1)\n",
    "    elif method == \"median\":\n",
    "        return peaks_dense.loc[:, peaks_dense.columns.isin(curr_clone.index)].median(axis=1)\n",
    "    \n",
    "def get_clone(name, meta):\n",
    "    curr = meta.loc[\"_\".join(name.split(\"_\")[:2])]\n",
    "    #print('curr', curr)\n",
    "    curr.name=name\n",
    "    curr.loc[\"condition\"] = name.split(\"_\")[2]\n",
    "    return curr\n",
    "\n"
   ]
  },
  {
   "cell_type": "markdown",
   "metadata": {},
   "source": [
    "### Create clone meta for each condition"
   ]
  },
  {
   "cell_type": "code",
   "execution_count": 25,
   "metadata": {
    "scrolled": true
   },
   "outputs": [
    {
     "data": {
      "text/html": [
       "<div>\n",
       "<style scoped>\n",
       "    .dataframe tbody tr th:only-of-type {\n",
       "        vertical-align: middle;\n",
       "    }\n",
       "\n",
       "    .dataframe tbody tr th {\n",
       "        vertical-align: top;\n",
       "    }\n",
       "\n",
       "    .dataframe thead th {\n",
       "        text-align: right;\n",
       "    }\n",
       "</style>\n",
       "<table border=\"1\" class=\"dataframe\">\n",
       "  <thead>\n",
       "    <tr style=\"text-align: right;\">\n",
       "      <th>name</th>\n",
       "      <th>0_0_Control</th>\n",
       "      <th>0_13_Control</th>\n",
       "      <th>0_14_Control</th>\n",
       "      <th>0_15_Control</th>\n",
       "      <th>0_18_Control</th>\n",
       "      <th>0_19_Control</th>\n",
       "      <th>0_21_Control</th>\n",
       "      <th>0_24_Control</th>\n",
       "      <th>0_25_Control</th>\n",
       "      <th>0_29_Control</th>\n",
       "      <th>...</th>\n",
       "      <th>1_20_Control</th>\n",
       "      <th>1_23_Control</th>\n",
       "      <th>1_25_Control</th>\n",
       "      <th>1_26_Control</th>\n",
       "      <th>1_27_Control</th>\n",
       "      <th>1_29_Control</th>\n",
       "      <th>1_3_Control</th>\n",
       "      <th>1_4_Control</th>\n",
       "      <th>1_6_Control</th>\n",
       "      <th>1_9_Control</th>\n",
       "    </tr>\n",
       "    <tr>\n",
       "      <th>Peak</th>\n",
       "      <th></th>\n",
       "      <th></th>\n",
       "      <th></th>\n",
       "      <th></th>\n",
       "      <th></th>\n",
       "      <th></th>\n",
       "      <th></th>\n",
       "      <th></th>\n",
       "      <th></th>\n",
       "      <th></th>\n",
       "      <th></th>\n",
       "      <th></th>\n",
       "      <th></th>\n",
       "      <th></th>\n",
       "      <th></th>\n",
       "      <th></th>\n",
       "      <th></th>\n",
       "      <th></th>\n",
       "      <th></th>\n",
       "      <th></th>\n",
       "      <th></th>\n",
       "    </tr>\n",
       "  </thead>\n",
       "  <tbody>\n",
       "    <tr>\n",
       "      <th>74374</th>\n",
       "      <td>0.0</td>\n",
       "      <td>0.0</td>\n",
       "      <td>0.0</td>\n",
       "      <td>0.0</td>\n",
       "      <td>0.0</td>\n",
       "      <td>0.0</td>\n",
       "      <td>0.0</td>\n",
       "      <td>0.0</td>\n",
       "      <td>0.0</td>\n",
       "      <td>0.0</td>\n",
       "      <td>...</td>\n",
       "      <td>0.0</td>\n",
       "      <td>0.0</td>\n",
       "      <td>0.0</td>\n",
       "      <td>0.0</td>\n",
       "      <td>0.0</td>\n",
       "      <td>0.0</td>\n",
       "      <td>0.0</td>\n",
       "      <td>0.0</td>\n",
       "      <td>0.0</td>\n",
       "      <td>0.0</td>\n",
       "    </tr>\n",
       "    <tr>\n",
       "      <th>74375</th>\n",
       "      <td>0.0</td>\n",
       "      <td>0.0</td>\n",
       "      <td>0.0</td>\n",
       "      <td>0.0</td>\n",
       "      <td>0.0</td>\n",
       "      <td>0.0</td>\n",
       "      <td>0.0</td>\n",
       "      <td>0.0</td>\n",
       "      <td>0.0</td>\n",
       "      <td>0.0</td>\n",
       "      <td>...</td>\n",
       "      <td>0.0</td>\n",
       "      <td>0.0</td>\n",
       "      <td>0.0</td>\n",
       "      <td>0.0</td>\n",
       "      <td>0.0</td>\n",
       "      <td>0.0</td>\n",
       "      <td>0.0</td>\n",
       "      <td>0.0</td>\n",
       "      <td>0.0</td>\n",
       "      <td>0.0</td>\n",
       "    </tr>\n",
       "    <tr>\n",
       "      <th>74376</th>\n",
       "      <td>0.0</td>\n",
       "      <td>0.0</td>\n",
       "      <td>2.0</td>\n",
       "      <td>0.0</td>\n",
       "      <td>0.0</td>\n",
       "      <td>0.0</td>\n",
       "      <td>0.0</td>\n",
       "      <td>0.0</td>\n",
       "      <td>0.0</td>\n",
       "      <td>0.0</td>\n",
       "      <td>...</td>\n",
       "      <td>0.0</td>\n",
       "      <td>0.0</td>\n",
       "      <td>0.0</td>\n",
       "      <td>0.0</td>\n",
       "      <td>0.0</td>\n",
       "      <td>0.0</td>\n",
       "      <td>0.0</td>\n",
       "      <td>0.0</td>\n",
       "      <td>0.0</td>\n",
       "      <td>0.0</td>\n",
       "    </tr>\n",
       "    <tr>\n",
       "      <th>74377</th>\n",
       "      <td>0.0</td>\n",
       "      <td>0.0</td>\n",
       "      <td>0.0</td>\n",
       "      <td>0.0</td>\n",
       "      <td>0.0</td>\n",
       "      <td>0.0</td>\n",
       "      <td>0.0</td>\n",
       "      <td>0.0</td>\n",
       "      <td>0.0</td>\n",
       "      <td>0.0</td>\n",
       "      <td>...</td>\n",
       "      <td>0.0</td>\n",
       "      <td>2.0</td>\n",
       "      <td>0.0</td>\n",
       "      <td>0.0</td>\n",
       "      <td>0.0</td>\n",
       "      <td>0.0</td>\n",
       "      <td>0.0</td>\n",
       "      <td>0.0</td>\n",
       "      <td>0.0</td>\n",
       "      <td>0.0</td>\n",
       "    </tr>\n",
       "    <tr>\n",
       "      <th>74378</th>\n",
       "      <td>0.0</td>\n",
       "      <td>0.0</td>\n",
       "      <td>0.0</td>\n",
       "      <td>0.0</td>\n",
       "      <td>0.0</td>\n",
       "      <td>0.0</td>\n",
       "      <td>0.0</td>\n",
       "      <td>0.0</td>\n",
       "      <td>0.0</td>\n",
       "      <td>0.0</td>\n",
       "      <td>...</td>\n",
       "      <td>0.0</td>\n",
       "      <td>0.0</td>\n",
       "      <td>0.0</td>\n",
       "      <td>0.0</td>\n",
       "      <td>0.0</td>\n",
       "      <td>0.0</td>\n",
       "      <td>0.0</td>\n",
       "      <td>0.0</td>\n",
       "      <td>0.0</td>\n",
       "      <td>0.0</td>\n",
       "    </tr>\n",
       "  </tbody>\n",
       "</table>\n",
       "<p>5 rows × 35 columns</p>\n",
       "</div>"
      ],
      "text/plain": [
       "name   0_0_Control  0_13_Control  0_14_Control  0_15_Control  0_18_Control  \\\n",
       "Peak                                                                         \n",
       "74374          0.0           0.0           0.0           0.0           0.0   \n",
       "74375          0.0           0.0           0.0           0.0           0.0   \n",
       "74376          0.0           0.0           2.0           0.0           0.0   \n",
       "74377          0.0           0.0           0.0           0.0           0.0   \n",
       "74378          0.0           0.0           0.0           0.0           0.0   \n",
       "\n",
       "name   0_19_Control  0_21_Control  0_24_Control  0_25_Control  0_29_Control  \\\n",
       "Peak                                                                          \n",
       "74374           0.0           0.0           0.0           0.0           0.0   \n",
       "74375           0.0           0.0           0.0           0.0           0.0   \n",
       "74376           0.0           0.0           0.0           0.0           0.0   \n",
       "74377           0.0           0.0           0.0           0.0           0.0   \n",
       "74378           0.0           0.0           0.0           0.0           0.0   \n",
       "\n",
       "name   ...  1_20_Control  1_23_Control  1_25_Control  1_26_Control  \\\n",
       "Peak   ...                                                           \n",
       "74374  ...           0.0           0.0           0.0           0.0   \n",
       "74375  ...           0.0           0.0           0.0           0.0   \n",
       "74376  ...           0.0           0.0           0.0           0.0   \n",
       "74377  ...           0.0           2.0           0.0           0.0   \n",
       "74378  ...           0.0           0.0           0.0           0.0   \n",
       "\n",
       "name   1_27_Control  1_29_Control  1_3_Control  1_4_Control  1_6_Control  \\\n",
       "Peak                                                                       \n",
       "74374           0.0           0.0          0.0          0.0          0.0   \n",
       "74375           0.0           0.0          0.0          0.0          0.0   \n",
       "74376           0.0           0.0          0.0          0.0          0.0   \n",
       "74377           0.0           0.0          0.0          0.0          0.0   \n",
       "74378           0.0           0.0          0.0          0.0          0.0   \n",
       "\n",
       "name   1_9_Control  \n",
       "Peak                \n",
       "74374          0.0  \n",
       "74375          0.0  \n",
       "74376          0.0  \n",
       "74377          0.0  \n",
       "74378          0.0  \n",
       "\n",
       "[5 rows x 35 columns]"
      ]
     },
     "execution_count": 25,
     "metadata": {},
     "output_type": "execute_result"
    }
   ],
   "source": [
    "clones_peaks_dense = curr_cells_meta.groupby(\"name\").apply(clone_mean, dnmt3).fillna(0).transpose()\n",
    "clones_peaks_dense.head()\n",
    "    "
   ]
  },
  {
   "cell_type": "code",
   "execution_count": 29,
   "metadata": {},
   "outputs": [
    {
     "name": "stderr",
     "output_type": "stream",
     "text": [
      "/home/isaac/miniconda3/envs/mttrace/lib/python3.7/site-packages/pandas/core/indexing.py:1724: SettingWithCopyWarning: \n",
      "A value is trying to be set on a copy of a slice from a DataFrame\n",
      "\n",
      "See the caveats in the documentation: https://pandas.pydata.org/pandas-docs/stable/user_guide/indexing.html#returning-a-view-versus-a-copy\n",
      "  self._setitem_with_indexer_missing(indexer, value)\n"
     ]
    },
    {
     "data": {
      "text/html": [
       "<div>\n",
       "<style scoped>\n",
       "    .dataframe tbody tr th:only-of-type {\n",
       "        vertical-align: middle;\n",
       "    }\n",
       "\n",
       "    .dataframe tbody tr th {\n",
       "        vertical-align: top;\n",
       "    }\n",
       "\n",
       "    .dataframe thead th {\n",
       "        text-align: right;\n",
       "    }\n",
       "</style>\n",
       "<table border=\"1\" class=\"dataframe\">\n",
       "  <thead>\n",
       "    <tr style=\"text-align: right;\">\n",
       "      <th></th>\n",
       "      <th>lineage</th>\n",
       "      <th>size</th>\n",
       "      <th>Control</th>\n",
       "      <th>Flt3l</th>\n",
       "      <th>Input</th>\n",
       "      <th>size_map</th>\n",
       "      <th>donor</th>\n",
       "      <th>hypergeom_sig_clusters_inputOnly</th>\n",
       "      <th>hypergeom_min_pval_inputOnly</th>\n",
       "      <th>ncells</th>\n",
       "      <th>...</th>\n",
       "      <th>input_dominant_cluster_size</th>\n",
       "      <th>hypergeom_sig_clusters</th>\n",
       "      <th>hypergeom_min_pval</th>\n",
       "      <th>shuffle_sig</th>\n",
       "      <th>-log10(fold p_adj)</th>\n",
       "      <th>-log10(fold p_adj)_map</th>\n",
       "      <th>log2_fold_map</th>\n",
       "      <th>den_clust</th>\n",
       "      <th>den_clust_map</th>\n",
       "      <th>condition</th>\n",
       "    </tr>\n",
       "  </thead>\n",
       "  <tbody>\n",
       "    <tr>\n",
       "      <th>0_0_Control</th>\n",
       "      <td>0</td>\n",
       "      <td>437</td>\n",
       "      <td>78.0</td>\n",
       "      <td>94.0</td>\n",
       "      <td>265.0</td>\n",
       "      <td>[0.9060502442435664, 0.8870126653211716, 0.970...</td>\n",
       "      <td>0</td>\n",
       "      <td>NaN</td>\n",
       "      <td>NaN</td>\n",
       "      <td>419.0</td>\n",
       "      <td>...</td>\n",
       "      <td>90.0</td>\n",
       "      <td>2;3;12;13;14</td>\n",
       "      <td>7.995948e-08</td>\n",
       "      <td>True</td>\n",
       "      <td>12.121634</td>\n",
       "      <td>[0.7876437101137418, 0.7679718905285481, 0.613...</td>\n",
       "      <td>(0.5683143439309744, 0.6958264787361839, 0.790...</td>\n",
       "      <td>C2</td>\n",
       "      <td>(0.5529411764705883, 0.6274509803921569, 0.796...</td>\n",
       "      <td>Control</td>\n",
       "    </tr>\n",
       "    <tr>\n",
       "      <th>0_13_Control</th>\n",
       "      <td>13</td>\n",
       "      <td>269</td>\n",
       "      <td>40.0</td>\n",
       "      <td>37.0</td>\n",
       "      <td>192.0</td>\n",
       "      <td>[0.7189075545439003, 0.6995550205247335, 0.882...</td>\n",
       "      <td>0</td>\n",
       "      <td>MPP/CMP/GMP B</td>\n",
       "      <td>0.002267</td>\n",
       "      <td>275.0</td>\n",
       "      <td>...</td>\n",
       "      <td>91.0</td>\n",
       "      <td>2;3;12</td>\n",
       "      <td>0.000000e+00</td>\n",
       "      <td>True</td>\n",
       "      <td>16.674035</td>\n",
       "      <td>[0.8270344820692316, 0.815186416249202, 0.6804...</td>\n",
       "      <td>(0.3102360333260459, 0.5231362639042136, 0.680...</td>\n",
       "      <td>C2</td>\n",
       "      <td>(0.5529411764705883, 0.6274509803921569, 0.796...</td>\n",
       "      <td>Control</td>\n",
       "    </tr>\n",
       "    <tr>\n",
       "      <th>0_14_Control</th>\n",
       "      <td>14</td>\n",
       "      <td>264</td>\n",
       "      <td>53.0</td>\n",
       "      <td>91.0</td>\n",
       "      <td>120.0</td>\n",
       "      <td>[0.7015447518582452, 0.6837076850111431, 0.872...</td>\n",
       "      <td>0</td>\n",
       "      <td>NaN</td>\n",
       "      <td>NaN</td>\n",
       "      <td>271.0</td>\n",
       "      <td>...</td>\n",
       "      <td>44.0</td>\n",
       "      <td>3;12;13</td>\n",
       "      <td>1.209997e-02</td>\n",
       "      <td>False</td>\n",
       "      <td>0.398724</td>\n",
       "      <td>[0.45328373991496973, 0.3693345509383195, 0.20...</td>\n",
       "      <td>(0.9263731379461269, 0.7650389543744571, 0.776...</td>\n",
       "      <td>C1</td>\n",
       "      <td>(0.9882352941176471, 0.5529411764705883, 0.384...</td>\n",
       "      <td>Control</td>\n",
       "    </tr>\n",
       "    <tr>\n",
       "      <th>0_15_Control</th>\n",
       "      <td>15</td>\n",
       "      <td>248</td>\n",
       "      <td>65.0</td>\n",
       "      <td>124.0</td>\n",
       "      <td>59.0</td>\n",
       "      <td>[0.6841097864784726, 0.6679718449112557, 0.861...</td>\n",
       "      <td>0</td>\n",
       "      <td>NaN</td>\n",
       "      <td>NaN</td>\n",
       "      <td>255.0</td>\n",
       "      <td>...</td>\n",
       "      <td>24.0</td>\n",
       "      <td>9</td>\n",
       "      <td>3.516714e-03</td>\n",
       "      <td>True</td>\n",
       "      <td>3.721318</td>\n",
       "      <td>[0.72235575963484, 0.6875430600978242, 0.50976...</td>\n",
       "      <td>(0.9068152919027175, 0.6192539015920233, 0.640...</td>\n",
       "      <td>C2</td>\n",
       "      <td>(0.5529411764705883, 0.6274509803921569, 0.796...</td>\n",
       "      <td>Control</td>\n",
       "    </tr>\n",
       "    <tr>\n",
       "      <th>0_18_Control</th>\n",
       "      <td>18</td>\n",
       "      <td>203</td>\n",
       "      <td>63.0</td>\n",
       "      <td>74.0</td>\n",
       "      <td>66.0</td>\n",
       "      <td>[0.6314780878413411, 0.6213822957530565, 0.827...</td>\n",
       "      <td>0</td>\n",
       "      <td>NaN</td>\n",
       "      <td>NaN</td>\n",
       "      <td>211.0</td>\n",
       "      <td>...</td>\n",
       "      <td>29.0</td>\n",
       "      <td>0</td>\n",
       "      <td>6.970059e-02</td>\n",
       "      <td>False</td>\n",
       "      <td>0.077258</td>\n",
       "      <td>[0.2996279712243867, 0.21984010425249093, 0.10...</td>\n",
       "      <td>(0.48228824039599827, 0.6382630737921938, 0.75...</td>\n",
       "      <td>C1</td>\n",
       "      <td>(0.9882352941176471, 0.5529411764705883, 0.384...</td>\n",
       "      <td>Control</td>\n",
       "    </tr>\n",
       "  </tbody>\n",
       "</table>\n",
       "<p>5 rows × 29 columns</p>\n",
       "</div>"
      ],
      "text/plain": [
       "              lineage  size  Control  Flt3l  Input  \\\n",
       "0_0_Control         0   437     78.0   94.0  265.0   \n",
       "0_13_Control       13   269     40.0   37.0  192.0   \n",
       "0_14_Control       14   264     53.0   91.0  120.0   \n",
       "0_15_Control       15   248     65.0  124.0   59.0   \n",
       "0_18_Control       18   203     63.0   74.0   66.0   \n",
       "\n",
       "                                                       size_map  donor  \\\n",
       "0_0_Control   [0.9060502442435664, 0.8870126653211716, 0.970...      0   \n",
       "0_13_Control  [0.7189075545439003, 0.6995550205247335, 0.882...      0   \n",
       "0_14_Control  [0.7015447518582452, 0.6837076850111431, 0.872...      0   \n",
       "0_15_Control  [0.6841097864784726, 0.6679718449112557, 0.861...      0   \n",
       "0_18_Control  [0.6314780878413411, 0.6213822957530565, 0.827...      0   \n",
       "\n",
       "             hypergeom_sig_clusters_inputOnly  hypergeom_min_pval_inputOnly  \\\n",
       "0_0_Control                               NaN                           NaN   \n",
       "0_13_Control                    MPP/CMP/GMP B                      0.002267   \n",
       "0_14_Control                              NaN                           NaN   \n",
       "0_15_Control                              NaN                           NaN   \n",
       "0_18_Control                              NaN                           NaN   \n",
       "\n",
       "              ncells  ...  input_dominant_cluster_size  \\\n",
       "0_0_Control    419.0  ...                         90.0   \n",
       "0_13_Control   275.0  ...                         91.0   \n",
       "0_14_Control   271.0  ...                         44.0   \n",
       "0_15_Control   255.0  ...                         24.0   \n",
       "0_18_Control   211.0  ...                         29.0   \n",
       "\n",
       "              hypergeom_sig_clusters hypergeom_min_pval shuffle_sig  \\\n",
       "0_0_Control             2;3;12;13;14       7.995948e-08        True   \n",
       "0_13_Control                  2;3;12       0.000000e+00        True   \n",
       "0_14_Control                 3;12;13       1.209997e-02       False   \n",
       "0_15_Control                       9       3.516714e-03        True   \n",
       "0_18_Control                       0       6.970059e-02       False   \n",
       "\n",
       "              -log10(fold p_adj)  \\\n",
       "0_0_Control            12.121634   \n",
       "0_13_Control           16.674035   \n",
       "0_14_Control            0.398724   \n",
       "0_15_Control            3.721318   \n",
       "0_18_Control            0.077258   \n",
       "\n",
       "                                         -log10(fold p_adj)_map  \\\n",
       "0_0_Control   [0.7876437101137418, 0.7679718905285481, 0.613...   \n",
       "0_13_Control  [0.8270344820692316, 0.815186416249202, 0.6804...   \n",
       "0_14_Control  [0.45328373991496973, 0.3693345509383195, 0.20...   \n",
       "0_15_Control  [0.72235575963484, 0.6875430600978242, 0.50976...   \n",
       "0_18_Control  [0.2996279712243867, 0.21984010425249093, 0.10...   \n",
       "\n",
       "                                                  log2_fold_map  den_clust  \\\n",
       "0_0_Control   (0.5683143439309744, 0.6958264787361839, 0.790...         C2   \n",
       "0_13_Control  (0.3102360333260459, 0.5231362639042136, 0.680...         C2   \n",
       "0_14_Control  (0.9263731379461269, 0.7650389543744571, 0.776...         C1   \n",
       "0_15_Control  (0.9068152919027175, 0.6192539015920233, 0.640...         C2   \n",
       "0_18_Control  (0.48228824039599827, 0.6382630737921938, 0.75...         C1   \n",
       "\n",
       "                                                  den_clust_map  condition  \n",
       "0_0_Control   (0.5529411764705883, 0.6274509803921569, 0.796...    Control  \n",
       "0_13_Control  (0.5529411764705883, 0.6274509803921569, 0.796...    Control  \n",
       "0_14_Control  (0.9882352941176471, 0.5529411764705883, 0.384...    Control  \n",
       "0_15_Control  (0.5529411764705883, 0.6274509803921569, 0.796...    Control  \n",
       "0_18_Control  (0.9882352941176471, 0.5529411764705883, 0.384...    Control  \n",
       "\n",
       "[5 rows x 29 columns]"
      ]
     },
     "execution_count": 29,
     "metadata": {},
     "output_type": "execute_result"
    }
   ],
   "source": [
    "\n",
    "# Convert the clone_condition to clone\n",
    "curr_clone_meta = pd.DataFrame([get_clone(x, clones_meta) for x in clones_peaks_dense.columns])\n",
    "curr_clone_meta.head()"
   ]
  },
  {
   "cell_type": "code",
   "execution_count": 107,
   "metadata": {
    "scrolled": true
   },
   "outputs": [
    {
     "name": "stderr",
     "output_type": "stream",
     "text": [
      "/home/isaac/miniconda3/envs/mttrace/lib/python3.7/site-packages/pandas/core/indexing.py:1724: SettingWithCopyWarning: \n",
      "A value is trying to be set on a copy of a slice from a DataFrame\n",
      "\n",
      "See the caveats in the documentation: https://pandas.pydata.org/pandas-docs/stable/user_guide/indexing.html#returning-a-view-versus-a-copy\n",
      "  self._setitem_with_indexer_missing(indexer, value)\n"
     ]
    },
    {
     "name": "stdout",
     "output_type": "stream",
     "text": [
      "categorical True\n",
      "categorical True\n",
      "saving\n"
     ]
    },
    {
     "data": {
      "image/png": "[encoded data removed]",
      "text/plain": [
       "<Figure size 720x720 with 6 Axes>"
      ]
     },
     "metadata": {
      "needs_background": "light"
     },
     "output_type": "display_data"
    }
   ],
   "source": [
    "# inds = clone_dnmt3_anno[clone_dnmt3_anno[\"gene\"]==\"DNMT3A\"].index\n",
    "# inds\n",
    "# clone_dnmt3 = clones_peaks_dense.loc[inds,:]\n",
    "# clone_dnmt3_anno = chip_anno.loc[inds,:]\n",
    "\n",
    "g = ch.plot_cluster(clones_peaks_dense.fillna(0), row_meta=dnmt3_anno[[\"gene\", \"peak_type\"]], \n",
    "                    col_meta=curr_clone_meta[[\"donor\", \"condition\", \"fold_change\", \"den_clust\"]].astype(str),\n",
    "                    to_row_clust=True, sep_clr_map=True, to_col_clust=True,\n",
    "                    metric='jaccard', to_legend=True, white_name=None, row_names=False )\n",
    "\n",
    "g.fig.suptitle(s)\n",
    "plt.savefig(join(outdir, f\"sample_{s}_cloneMean_dnmt3a_chromatinFragments.png\"), bbox_inches='tight')\n"
   ]
  },
  {
   "cell_type": "markdown",
   "metadata": {},
   "source": [
    "## Remove low count clones\n"
   ]
  },
  {
   "cell_type": "code",
   "execution_count": 108,
   "metadata": {},
   "outputs": [
    {
     "data": {
      "text/plain": [
       "name\n",
       "0_0_Control      True\n",
       "0_0_Flt3l        True\n",
       "0_0_Input        True\n",
       "0_10_Control     True\n",
       "0_10_Flt3l       True\n",
       "                ...  \n",
       "1_8_Flt3l        True\n",
       "1_8_Input       False\n",
       "1_9_Control      True\n",
       "1_9_Flt3l        True\n",
       "1_9_Input       False\n",
       "Length: 257, dtype: bool"
      ]
     },
     "execution_count": 108,
     "metadata": {},
     "output_type": "execute_result"
    }
   ],
   "source": [
    "filt_clone_dnmt3 = clone_dnmt3.loc[~((clone_dnmt3 == 0).all())]\n",
    "filt_peak_anno_dnmt3 = \n",
    "filt_clone_anno_dnmt3 = curr_clone_meta.loc[filt_clone_dnmt3.columns]\n",
    "filt_clone_anno_dnmt3 = curr_clone_meta.loc[filt_clone_dnmt3.columns]"
   ]
  }
 ],
 "metadata": {
  "celltoolbar": "Tags",
  "kernelspec": {
   "display_name": "Python 3 (ipykernel)",
   "language": "python",
   "name": "python3"
  },
  "language_info": {
   "codemirror_mode": {
    "name": "ipython",
    "version": 3
   },
   "file_extension": ".py",
   "mimetype": "text/x-python",
   "name": "python",
   "nbconvert_exporter": "python",
   "pygments_lexer": "ipython3",
   "version": "3.7.12"
  }
 },
 "nbformat": 4,
 "nbformat_minor": 1
}
