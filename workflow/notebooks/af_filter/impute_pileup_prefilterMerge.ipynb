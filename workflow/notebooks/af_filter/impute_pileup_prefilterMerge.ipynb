{
 "cells": [
  {
   "cell_type": "code",
   "execution_count": 1,
   "id": "e64b4b89",
   "metadata": {},
   "outputs": [
    {
     "name": "stdout",
     "output_type": "stream",
     "text": [
      "fig_utils from mplh\n"
     ]
    }
   ],
   "source": [
    "%load_ext autoreload\n",
    "%autoreload 2\n",
    "import pandas as pd\n",
    "from os.path import dirname, join\n",
    "import numpy as np\n",
    "#import click\n",
    "#import snakemake\n",
    "from src.utils.data_io import af_to_vireo\n",
    "from icecream import ic\n",
    "\n",
    "\n",
    "import seaborn as sns\n",
    "import matplotlib.pyplot as plt"
   ]
  },
  {
   "cell_type": "code",
   "execution_count": 2,
   "id": "b92218cf",
   "metadata": {},
   "outputs": [],
   "source": [
    "from src.utils import impute_af as imp"
   ]
  },
  {
   "cell_type": "code",
   "execution_count": 3,
   "id": "17ff0fcb",
   "metadata": {
    "tags": [
     "parameters"
    ]
   },
   "outputs": [],
   "source": [
    "#cells_meta = \"/mnt/md0/isshamie/Projects/Mito_Trace/output/pipeline/v04/CHIP_b1/MTBlacklist_A2/data/merged/MT/cellr_True/numread_200/filters/minC10_minR50_topN0_hetT0.001_hetC10_hetCount5_bq20/mgatk/vireoIn/multiplex/cells_meta.tsv\"\n",
    "#sample = \"Input,Flt3l\"#[\"Input\",\"Flt3l\"]\n",
    "# pileup_d = \"/mnt/md0/isshamie/Projects/Mito_Trace/output/pipeline/v04/CHIP_b1/MTBlacklist_A2/data/merged/MT/cellr_True/numread_200/filters/minC10_minR50_topN0_hetT0.001_hetC10_hetCount5_bq20/mgatk/vireoIn/multiplex/clones_init/donor0\"\n",
    "# outdir = \"/data/Mito_Trace/output/pipeline/v04/CHIP_b1/MTBlacklist_A2/data/merged/MT/cellr_True/numread_200/filters/minC10_minR50_topN0_hetT0.001_hetC10_hetCount5_bq20/mgatk/vireoIn/multiplex/clones_prefilterMerge_impute/donor0\"\n",
    "\n",
    "cell_pct_cov_thresh = 0.6\n",
    "cov_thresh = 10\n",
    "alt_thresh = [{\"cell_pct_cov_thresh\":0.4, \"cov_thresh\": 10}, \n",
    "             {\"cell_pct_cov_thresh\":0.8, \"cov_thresh\": 10},\n",
    "             {\"cell_pct_cov_thresh\":0.7, \"cov_thresh\": 30}, \n",
    "             {\"cell_pct_cov_thresh\":0.6, \"cov_thresh\": 30}]\n",
    "ref_mt = \"/data/Mito_Trace/data/external/chrM_refAllele.txt\"\n",
    "\n",
    "\n",
    "\n",
    "# pileup_d = \"/data/Mito_Trace/output/pipeline/v04/CHIP_b1/MTBlacklist_A2/data/merged/MT/cellr_True/numread_200/filters/minC10_minR50_topN0_hetT0.001_hetC10_hetCount5_bq20/mgatk/vireoIn/coverage_merged/donor0\"\n",
    "# outdir=\"/data/Mito_Trace/output/pipeline/v04/CHIP_b1/MTBlacklist_A2/data/merged/MT/cellr_True/numread_200/filters/minC10_minR50_topN0_hetT0.001_hetC10_hetCount5_bq20/mgatk/vireoIn/multiplex/clones_prefilterMerge_impute/donor0\"\n",
    "\n",
    "pileup_d = \"/data/Mito_Trace/output/pipeline/v04/CHIP_Input_nameFix_april08_2021/MTblacklist/data/coverage_merged/cellr_True/numread_200/filters/minC10_minR50_topN0_hetT0.001_hetC10_hetCount5_bq20/mgatk/vireoIn/coverage_merged/donor3\"\n",
    "outdir = \"/data/Mito_Trace/output/pipeline/v04/CHIP_Input_nameFix_april08_2021/MTblacklist/data/merged/MT/cellr_True/numread_200/filters/minC10_minR50_topN0_hetT0.001_hetC10_hetCount5_bq20/mgatk/vireoIn/multiplex/clones_prefilterMerge_impute/donor3\""
   ]
  },
  {
   "cell_type": "code",
   "execution_count": 4,
   "id": "1c860cdb",
   "metadata": {},
   "outputs": [],
   "source": [
    "#sample = sample.split(\",\")"
   ]
  },
  {
   "cell_type": "code",
   "execution_count": 5,
   "id": "21c4cd71",
   "metadata": {},
   "outputs": [],
   "source": [
    "# cmd = f\"cp {cells_meta} {join(outdir, 'cells_meta.tsv')}\"\n",
    "# print(cmd)\n",
    "# !{cmd}\n"
   ]
  },
  {
   "cell_type": "code",
   "execution_count": 6,
   "id": "3aada4df",
   "metadata": {
    "scrolled": true
   },
   "outputs": [],
   "source": [
    "#cells_meta = pd.read_csv(cells_meta , sep='\\t')\n",
    "#sample = sample.split(',')\n",
    "ref_fa = pd.read_csv(ref_mt, sep='\\t', header=None, index_col=0)"
   ]
  },
  {
   "cell_type": "code",
   "execution_count": 7,
   "id": "656280fe",
   "metadata": {
    "scrolled": true
   },
   "outputs": [],
   "source": [
    "af_pile = pd.read_csv(join(pileup_d, f\"merged.af.tsv\"), sep=\"\\t\", index_col=0).transpose()\n",
    "dp_pile = pd.read_csv(join(pileup_d, f\"merged.coverage.tsv\"), sep=\"\\t\", index_col=0).transpose()\n",
    "\n",
    "vars_map = {f\"{x.split('>')[0][:-1]}{x[-1]}\":x for x in af_pile.columns}\n",
    "af_pile.columns = [f\"{x.split('>')[0][:-1]}{x[-1]}\" for x in af_pile.columns]\n",
    "dp_pile.columns = [f\"{x.split('>')[0][:-1]}{x[-1]}\" for x in dp_pile.columns]\n",
    "af_pile.index.name = \"Cell\"\n",
    "dp_pile.index.name = \"Cell\"\n",
    "#af_pile.columns.name = \"Variant\"\n"
   ]
  },
  {
   "cell_type": "code",
   "execution_count": 8,
   "id": "119a2b42",
   "metadata": {},
   "outputs": [
    {
     "data": {
      "text/plain": [
       "'/data/Mito_Trace/output/pipeline/v04/CHIP_Input_nameFix_april08_2021/MTblacklist/data/coverage_merged/cellr_True/numread_200/filters/minC10_minR50_topN0_hetT0.001_hetC10_hetCount5_bq20/mgatk/vireoIn/coverage_merged/donor3'"
      ]
     },
     "execution_count": 8,
     "metadata": {},
     "output_type": "execute_result"
    }
   ],
   "source": [
    "pileup_d"
   ]
  },
  {
   "cell_type": "code",
   "execution_count": 9,
   "id": "48d66925",
   "metadata": {
    "scrolled": true
   },
   "outputs": [
    {
     "data": {
      "text/html": [
       "<div>\n",
       "<style scoped>\n",
       "    .dataframe tbody tr th:only-of-type {\n",
       "        vertical-align: middle;\n",
       "    }\n",
       "\n",
       "    .dataframe tbody tr th {\n",
       "        vertical-align: top;\n",
       "    }\n",
       "\n",
       "    .dataframe thead th {\n",
       "        text-align: right;\n",
       "    }\n",
       "</style>\n",
       "<table border=\"1\" class=\"dataframe\">\n",
       "  <thead>\n",
       "    <tr style=\"text-align: right;\">\n",
       "      <th></th>\n",
       "      <th>2291T</th>\n",
       "    </tr>\n",
       "    <tr>\n",
       "      <th>Cell</th>\n",
       "      <th></th>\n",
       "    </tr>\n",
       "  </thead>\n",
       "  <tbody>\n",
       "    <tr>\n",
       "      <th>AAAGGATGTGCTGTGC-1_Flt3l</th>\n",
       "      <td>0.003868</td>\n",
       "    </tr>\n",
       "    <tr>\n",
       "      <th>AACAAAGTCTTACGGA-1_Flt3l</th>\n",
       "      <td>0.000000</td>\n",
       "    </tr>\n",
       "    <tr>\n",
       "      <th>AACCGATAGGTCGGTA-1_Flt3l</th>\n",
       "      <td>0.000000</td>\n",
       "    </tr>\n",
       "    <tr>\n",
       "      <th>AACGTACGTATTCGCA-1_Flt3l</th>\n",
       "      <td>0.000000</td>\n",
       "    </tr>\n",
       "    <tr>\n",
       "      <th>AATGGCTAGTGCAACG-1_Flt3l</th>\n",
       "      <td>0.000000</td>\n",
       "    </tr>\n",
       "    <tr>\n",
       "      <th>...</th>\n",
       "      <td>...</td>\n",
       "    </tr>\n",
       "    <tr>\n",
       "      <th>TGGGTTAGTGGACAGT-1_Flt3l</th>\n",
       "      <td>0.003795</td>\n",
       "    </tr>\n",
       "    <tr>\n",
       "      <th>TTAGGTGTCCATCTAT-1_Flt3l</th>\n",
       "      <td>0.005682</td>\n",
       "    </tr>\n",
       "    <tr>\n",
       "      <th>TTCAACTGTGCCGGTT-1_Flt3l</th>\n",
       "      <td>0.000000</td>\n",
       "    </tr>\n",
       "    <tr>\n",
       "      <th>TTCATCAGTGGAAAGA-1_Flt3l</th>\n",
       "      <td>0.000000</td>\n",
       "    </tr>\n",
       "    <tr>\n",
       "      <th>TTTGAGGAGTCTCGAT-1_Flt3l</th>\n",
       "      <td>0.003289</td>\n",
       "    </tr>\n",
       "  </tbody>\n",
       "</table>\n",
       "<p>88 rows × 1 columns</p>\n",
       "</div>"
      ],
      "text/plain": [
       "                             2291T\n",
       "Cell                              \n",
       "AAAGGATGTGCTGTGC-1_Flt3l  0.003868\n",
       "AACAAAGTCTTACGGA-1_Flt3l  0.000000\n",
       "AACCGATAGGTCGGTA-1_Flt3l  0.000000\n",
       "AACGTACGTATTCGCA-1_Flt3l  0.000000\n",
       "AATGGCTAGTGCAACG-1_Flt3l  0.000000\n",
       "...                            ...\n",
       "TGGGTTAGTGGACAGT-1_Flt3l  0.003795\n",
       "TTAGGTGTCCATCTAT-1_Flt3l  0.005682\n",
       "TTCAACTGTGCCGGTT-1_Flt3l  0.000000\n",
       "TTCATCAGTGGAAAGA-1_Flt3l  0.000000\n",
       "TTTGAGGAGTCTCGAT-1_Flt3l  0.003289\n",
       "\n",
       "[88 rows x 1 columns]"
      ]
     },
     "execution_count": 9,
     "metadata": {},
     "output_type": "execute_result"
    }
   ],
   "source": [
    "af_pile"
   ]
  },
  {
   "cell_type": "markdown",
   "id": "c34de095",
   "metadata": {},
   "source": [
    "## ?Find if it's the imputation.. dont i need to do that per donor? "
   ]
  },
  {
   "cell_type": "markdown",
   "id": "18e22c06",
   "metadata": {},
   "source": [
    "## Impute the new data:\n",
    "### If coverage less than 10, and >80% have coverage, then impute the median of the cells with coverage onto the low coverage cells (do i need to set depth to 10?)"
   ]
  },
  {
   "cell_type": "code",
   "execution_count": 10,
   "id": "c0cfb742",
   "metadata": {
    "scrolled": true
   },
   "outputs": [
    {
     "data": {
      "text/html": [
       "<div>\n",
       "<style scoped>\n",
       "    .dataframe tbody tr th:only-of-type {\n",
       "        vertical-align: middle;\n",
       "    }\n",
       "\n",
       "    .dataframe tbody tr th {\n",
       "        vertical-align: top;\n",
       "    }\n",
       "\n",
       "    .dataframe thead th {\n",
       "        text-align: right;\n",
       "    }\n",
       "</style>\n",
       "<table border=\"1\" class=\"dataframe\">\n",
       "  <thead>\n",
       "    <tr style=\"text-align: right;\">\n",
       "      <th></th>\n",
       "      <th>2291T</th>\n",
       "    </tr>\n",
       "    <tr>\n",
       "      <th>Cell</th>\n",
       "      <th></th>\n",
       "    </tr>\n",
       "  </thead>\n",
       "  <tbody>\n",
       "    <tr>\n",
       "      <th>AAAGGATGTGCTGTGC-1_Flt3l</th>\n",
       "      <td>0.003868</td>\n",
       "    </tr>\n",
       "    <tr>\n",
       "      <th>AACAAAGTCTTACGGA-1_Flt3l</th>\n",
       "      <td>0.000000</td>\n",
       "    </tr>\n",
       "    <tr>\n",
       "      <th>AACCGATAGGTCGGTA-1_Flt3l</th>\n",
       "      <td>0.000000</td>\n",
       "    </tr>\n",
       "    <tr>\n",
       "      <th>AACGTACGTATTCGCA-1_Flt3l</th>\n",
       "      <td>0.000000</td>\n",
       "    </tr>\n",
       "    <tr>\n",
       "      <th>AATGGCTAGTGCAACG-1_Flt3l</th>\n",
       "      <td>0.000000</td>\n",
       "    </tr>\n",
       "    <tr>\n",
       "      <th>...</th>\n",
       "      <td>...</td>\n",
       "    </tr>\n",
       "    <tr>\n",
       "      <th>TGGGTTAGTGGACAGT-1_Flt3l</th>\n",
       "      <td>0.003795</td>\n",
       "    </tr>\n",
       "    <tr>\n",
       "      <th>TTAGGTGTCCATCTAT-1_Flt3l</th>\n",
       "      <td>0.005682</td>\n",
       "    </tr>\n",
       "    <tr>\n",
       "      <th>TTCAACTGTGCCGGTT-1_Flt3l</th>\n",
       "      <td>0.000000</td>\n",
       "    </tr>\n",
       "    <tr>\n",
       "      <th>TTCATCAGTGGAAAGA-1_Flt3l</th>\n",
       "      <td>0.000000</td>\n",
       "    </tr>\n",
       "    <tr>\n",
       "      <th>TTTGAGGAGTCTCGAT-1_Flt3l</th>\n",
       "      <td>0.003289</td>\n",
       "    </tr>\n",
       "  </tbody>\n",
       "</table>\n",
       "<p>88 rows × 1 columns</p>\n",
       "</div>"
      ],
      "text/plain": [
       "                             2291T\n",
       "Cell                              \n",
       "AAAGGATGTGCTGTGC-1_Flt3l  0.003868\n",
       "AACAAAGTCTTACGGA-1_Flt3l  0.000000\n",
       "AACCGATAGGTCGGTA-1_Flt3l  0.000000\n",
       "AACGTACGTATTCGCA-1_Flt3l  0.000000\n",
       "AATGGCTAGTGCAACG-1_Flt3l  0.000000\n",
       "...                            ...\n",
       "TGGGTTAGTGGACAGT-1_Flt3l  0.003795\n",
       "TTAGGTGTCCATCTAT-1_Flt3l  0.005682\n",
       "TTCAACTGTGCCGGTT-1_Flt3l  0.000000\n",
       "TTCATCAGTGGAAAGA-1_Flt3l  0.000000\n",
       "TTTGAGGAGTCTCGAT-1_Flt3l  0.003289\n",
       "\n",
       "[88 rows x 1 columns]"
      ]
     },
     "execution_count": 10,
     "metadata": {},
     "output_type": "execute_result"
    }
   ],
   "source": [
    "af_pile"
   ]
  },
  {
   "cell_type": "code",
   "execution_count": 11,
   "id": "9b3f72a2",
   "metadata": {
    "scrolled": true
   },
   "outputs": [
    {
     "data": {
      "text/html": [
       "<div>\n",
       "<style scoped>\n",
       "    .dataframe tbody tr th:only-of-type {\n",
       "        vertical-align: middle;\n",
       "    }\n",
       "\n",
       "    .dataframe tbody tr th {\n",
       "        vertical-align: top;\n",
       "    }\n",
       "\n",
       "    .dataframe thead th {\n",
       "        text-align: right;\n",
       "    }\n",
       "</style>\n",
       "<table border=\"1\" class=\"dataframe\">\n",
       "  <thead>\n",
       "    <tr style=\"text-align: right;\">\n",
       "      <th></th>\n",
       "      <th>2291T</th>\n",
       "    </tr>\n",
       "    <tr>\n",
       "      <th>Cell</th>\n",
       "      <th></th>\n",
       "    </tr>\n",
       "  </thead>\n",
       "  <tbody>\n",
       "    <tr>\n",
       "      <th>AAAGGATGTGCTGTGC-1_Flt3l</th>\n",
       "      <td>517</td>\n",
       "    </tr>\n",
       "    <tr>\n",
       "      <th>AACAAAGTCTTACGGA-1_Flt3l</th>\n",
       "      <td>403</td>\n",
       "    </tr>\n",
       "    <tr>\n",
       "      <th>AACCGATAGGTCGGTA-1_Flt3l</th>\n",
       "      <td>551</td>\n",
       "    </tr>\n",
       "    <tr>\n",
       "      <th>AACGTACGTATTCGCA-1_Flt3l</th>\n",
       "      <td>693</td>\n",
       "    </tr>\n",
       "    <tr>\n",
       "      <th>AATGGCTAGTGCAACG-1_Flt3l</th>\n",
       "      <td>779</td>\n",
       "    </tr>\n",
       "    <tr>\n",
       "      <th>...</th>\n",
       "      <td>...</td>\n",
       "    </tr>\n",
       "    <tr>\n",
       "      <th>TGGGTTAGTGGACAGT-1_Flt3l</th>\n",
       "      <td>527</td>\n",
       "    </tr>\n",
       "    <tr>\n",
       "      <th>TTAGGTGTCCATCTAT-1_Flt3l</th>\n",
       "      <td>704</td>\n",
       "    </tr>\n",
       "    <tr>\n",
       "      <th>TTCAACTGTGCCGGTT-1_Flt3l</th>\n",
       "      <td>526</td>\n",
       "    </tr>\n",
       "    <tr>\n",
       "      <th>TTCATCAGTGGAAAGA-1_Flt3l</th>\n",
       "      <td>537</td>\n",
       "    </tr>\n",
       "    <tr>\n",
       "      <th>TTTGAGGAGTCTCGAT-1_Flt3l</th>\n",
       "      <td>608</td>\n",
       "    </tr>\n",
       "  </tbody>\n",
       "</table>\n",
       "<p>88 rows × 1 columns</p>\n",
       "</div>"
      ],
      "text/plain": [
       "                          2291T\n",
       "Cell                           \n",
       "AAAGGATGTGCTGTGC-1_Flt3l    517\n",
       "AACAAAGTCTTACGGA-1_Flt3l    403\n",
       "AACCGATAGGTCGGTA-1_Flt3l    551\n",
       "AACGTACGTATTCGCA-1_Flt3l    693\n",
       "AATGGCTAGTGCAACG-1_Flt3l    779\n",
       "...                         ...\n",
       "TGGGTTAGTGGACAGT-1_Flt3l    527\n",
       "TTAGGTGTCCATCTAT-1_Flt3l    704\n",
       "TTCAACTGTGCCGGTT-1_Flt3l    526\n",
       "TTCATCAGTGGAAAGA-1_Flt3l    537\n",
       "TTTGAGGAGTCTCGAT-1_Flt3l    608\n",
       "\n",
       "[88 rows x 1 columns]"
      ]
     },
     "execution_count": 11,
     "metadata": {},
     "output_type": "execute_result"
    }
   ],
   "source": [
    "dp_pile"
   ]
  },
  {
   "cell_type": "code",
   "execution_count": 12,
   "id": "44ba2928",
   "metadata": {
    "scrolled": true
   },
   "outputs": [
    {
     "name": "stdout",
     "output_type": "stream",
     "text": [
      "before filt (88, 3)\n",
      "after filt, low cov (0, 3)\n",
      "imp_df shape (88, 1)\n",
      "imp_df                              2291T\n",
      "Cell                              \n",
      "AAAGGATGTGCTGTGC-1_Flt3l  0.003868\n",
      "AACAAAGTCTTACGGA-1_Flt3l  0.000000\n",
      "AACCGATAGGTCGGTA-1_Flt3l  0.000000\n",
      "AACGTACGTATTCGCA-1_Flt3l  0.000000\n",
      "AATGGCTAGTGCAACG-1_Flt3l  0.000000\n",
      "n vars imputed 0\n",
      "{}\n"
     ]
    }
   ],
   "source": [
    "imp_out = imp.impute_and_plot(af_pile, dp_pile, cov_thresh=cov_thresh, cell_pct_cov_thresh=cell_pct_cov_thresh,\n",
    "                             include_orig=True)\n",
    "\n",
    "#print(imp_out[\"imputed_indices\"])\n",
    "print(imp_out[\"median_d\"])"
   ]
  },
  {
   "cell_type": "markdown",
   "id": "f2520f09",
   "metadata": {},
   "source": [
    "## Save output - af.tsv and dp.tsv"
   ]
  },
  {
   "cell_type": "code",
   "execution_count": 13,
   "id": "f6f49cea",
   "metadata": {
    "scrolled": true
   },
   "outputs": [],
   "source": [
    "imp_out[\"impute_af\"].to_csv(join(outdir, \"af.tsv\"), sep=\"\\t\")\n",
    "dp_pile.loc[imp_out[\"impute_af\"].index, imp_out[\"impute_af\"].columns].to_csv(join(outdir, \"dp.tsv\"), sep=\"\\t\")"
   ]
  },
  {
   "cell_type": "code",
   "execution_count": 14,
   "id": "696a5a17",
   "metadata": {},
   "outputs": [
    {
     "name": "stdout",
     "output_type": "stream",
     "text": [
      "cellSNP.tag\n"
     ]
    }
   ],
   "source": [
    "##  Create VireoIn\n",
    "\n",
    "# Requires AD sparse matrix\n",
    "af_df = imp_out[\"impute_af\"].fillna(0)\n",
    "dp_df = dp_pile.loc[imp_out[\"impute_af\"].index, imp_out[\"impute_af\"].columns].fillna(0)\n",
    "\n",
    "## REMAP variant names \n",
    "# af_df.columns = [vars_map[x] for x in af_df.columns]\n",
    "# dp_df.columns = [vars_map[x] for x in dp_df.columns]\n",
    "\n",
    "\n",
    "af_to_vireo(af_df.transpose(), dp_df.transpose(),\n",
    "            outdir=outdir,\n",
    "            out_name=\"cellSNP\")\n",
    "\n",
    "curr_vars = af_df.columns\n",
    "\n",
    "af_meta = pd.DataFrame({\"POS\": [int(x[:-1]) for x in curr_vars],\n",
    "                                                \"ALT\": [x[-1] for x in curr_vars],\n",
    "                                                \"index\": np.arange(1,len(curr_vars)+1),\n",
    "                                                \"REF\": [f\"{ref_fa.loc[int(x[:-1]),1]}{x[:-1]}\" for x in curr_vars]\n",
    "                                            }\n",
    "                                        )\n",
    "af_meta[\"#CHROM\"] = \"MT\"\n",
    "af_meta[[\"#CHROM\", \"POS\", \"REF\",\"ALT\", \"index\"]].to_csv(join(outdir, \"cellSNP.base.vcf\"),\n",
    "               sep=\"\\t\", index=False)\n"
   ]
  },
  {
   "cell_type": "code",
   "execution_count": 15,
   "id": "4c0dcdff",
   "metadata": {
    "scrolled": true
   },
   "outputs": [
    {
     "data": {
      "text/plain": [
       "'/data/Mito_Trace/output/pipeline/v04/CHIP_Input_nameFix_april08_2021/MTblacklist/data/merged/MT/cellr_True/numread_200/filters/minC10_minR50_topN0_hetT0.001_hetC10_hetCount5_bq20/mgatk/vireoIn/multiplex/clones_prefilterMerge_impute/donor3'"
      ]
     },
     "execution_count": 15,
     "metadata": {},
     "output_type": "execute_result"
    }
   ],
   "source": [
    "outdir"
   ]
  },
  {
   "cell_type": "markdown",
   "id": "8c774dca",
   "metadata": {},
   "source": [
    "## plot with other parameters"
   ]
  },
  {
   "cell_type": "code",
   "execution_count": 16,
   "id": "e214943c",
   "metadata": {
    "scrolled": true
   },
   "outputs": [
    {
     "name": "stdout",
     "output_type": "stream",
     "text": [
      "before filt (88, 3)\n",
      "after filt, low cov (0, 3)\n",
      "imp_df shape (88, 1)\n",
      "imp_df                              2291T\n",
      "Cell                              \n",
      "AAAGGATGTGCTGTGC-1_Flt3l  0.003868\n",
      "AACAAAGTCTTACGGA-1_Flt3l  0.000000\n",
      "AACCGATAGGTCGGTA-1_Flt3l  0.000000\n",
      "AACGTACGTATTCGCA-1_Flt3l  0.000000\n",
      "AATGGCTAGTGCAACG-1_Flt3l  0.000000\n",
      "n vars imputed 0\n",
      "before filt (88, 3)\n",
      "after filt, low cov (0, 3)\n",
      "imp_df shape (88, 1)\n",
      "imp_df                              2291T\n",
      "Cell                              \n",
      "AAAGGATGTGCTGTGC-1_Flt3l  0.003868\n",
      "AACAAAGTCTTACGGA-1_Flt3l  0.000000\n",
      "AACCGATAGGTCGGTA-1_Flt3l  0.000000\n",
      "AACGTACGTATTCGCA-1_Flt3l  0.000000\n",
      "AATGGCTAGTGCAACG-1_Flt3l  0.000000\n",
      "n vars imputed 0\n",
      "before filt (88, 3)\n",
      "after filt, low cov (0, 3)\n",
      "imp_df shape (88, 1)\n",
      "imp_df                              2291T\n",
      "Cell                              \n",
      "AAAGGATGTGCTGTGC-1_Flt3l  0.003868\n",
      "AACAAAGTCTTACGGA-1_Flt3l  0.000000\n",
      "AACCGATAGGTCGGTA-1_Flt3l  0.000000\n",
      "AACGTACGTATTCGCA-1_Flt3l  0.000000\n",
      "AATGGCTAGTGCAACG-1_Flt3l  0.000000\n",
      "n vars imputed 0\n",
      "before filt (88, 3)\n",
      "after filt, low cov (0, 3)\n",
      "imp_df shape (88, 1)\n",
      "imp_df                              2291T\n",
      "Cell                              \n",
      "AAAGGATGTGCTGTGC-1_Flt3l  0.003868\n",
      "AACAAAGTCTTACGGA-1_Flt3l  0.000000\n",
      "AACCGATAGGTCGGTA-1_Flt3l  0.000000\n",
      "AACGTACGTATTCGCA-1_Flt3l  0.000000\n",
      "AATGGCTAGTGCAACG-1_Flt3l  0.000000\n",
      "n vars imputed 0\n"
     ]
    }
   ],
   "source": [
    "for k in alt_thresh:\n",
    "    curr_cell_pct_cov_thresh, curr_cov_thresh = k[\"cell_pct_cov_thresh\"], k[\"cov_thresh\"]\n",
    "    curr_imp_out = imp.impute_and_plot(af_pile, dp_pile, \n",
    "                                       cov_thresh=curr_cov_thresh, cell_pct_cov_thresh=curr_cell_pct_cov_thresh,\n",
    "                                       include_orig=False)    "
   ]
  },
  {
   "cell_type": "code",
   "execution_count": 17,
   "id": "cb799e01",
   "metadata": {
    "scrolled": true
   },
   "outputs": [],
   "source": [
    "# cell_pct_cov_thresh = 0.4\n",
    "# cov_thresh = 10\n",
    "# imp_out = imp.impute_and_plot(af_pile, dp_pile, cov_thresh=cov_thresh, cell_pct_cov_thresh=cell_pct_cov_thresh,\n",
    "#                              include_orig=True)\n",
    "\n",
    "# #print(imp_out[\"imputed_indices\"])\n",
    "# print(imp_out[\"median_d\"])\n",
    "\n",
    "# cell_pct_cov_thresh = 0.8\n",
    "# cov_thresh = 10\n",
    "# imp_out = imp.impute_and_plot(af_pile, dp_pile, cov_thresh=cov_thresh, \n",
    "#                               cell_pct_cov_thresh=cell_pct_cov_thresh, include_orig=True)\n",
    "\n",
    "# #print(\"number of variants imputed\", len(imp_out[\"median_d\"]))\n",
    "# #print(imp_out[\"imputed_indices\"])\n",
    "# print(imp_out[\"median_d\"])\n",
    "# # diff_vars_impute = np.abs(imp_df-af_pile).sum().sort_values()[::-1]\n",
    "# # print(diff_vars_impute)\n",
    "# # if not (np.abs(imp_df-af_pile).sum().sort_values()[::-1].sum()==0):\n",
    "\n",
    "# #     diff_vars_impute = diff_vars_impute.index\n",
    "# #     _, g_pile = impute_and_plot(af_pile.loc[:, diff_vars_impute[:20]], \n",
    "# #                                 dp_pile.loc[:, diff_vars_impute[:20]], cov_thresh=cov_thresh, cell_pct_cov_thresh=cell_pct_cov_thresh)\n",
    "# # else:\n",
    "# #     print('no imputation done')\n",
    "\n",
    "# cell_pct_cov_thresh = 0.7\n",
    "# cov_thresh = 30\n",
    "# imp_out = imp.impute_and_plot(af_pile, dp_pile, cov_thresh=cov_thresh, \n",
    "#                               cell_pct_cov_thresh=cell_pct_cov_thresh, include_orig=True)\n",
    "\n",
    "# #print(\"number of variants imputed\", len(imp_out[\"median_d\"]))\n",
    "# #print(imp_out[\"imputed_indices\"])\n",
    "# print(imp_out[\"median_d\"])\n",
    "\n",
    "\n",
    "# cell_pct_cov_thresh = 0.6\n",
    "# cov_thresh = 30\n",
    "# imp_out = imp.impute_and_plot(af_pile, dp_pile, cov_thresh=cov_thresh, \n",
    "#                               cell_pct_cov_thresh=cell_pct_cov_thresh, include_orig=True)\n",
    "\n",
    "# #print(\"number of variants imputed\", len(imp_out[\"median_d\"]))\n",
    "# #print(imp_out[\"imputed_indices\"])\n",
    "# print(imp_out[\"median_d\"])\n",
    "\n"
   ]
  },
  {
   "cell_type": "code",
   "execution_count": 18,
   "id": "308e149f",
   "metadata": {
    "scrolled": true
   },
   "outputs": [],
   "source": [
    "# from mplh import cluster_help as ch\n",
    "# ch.plot_cluster(df=imp_out[\"impute_af\"], \n",
    "#                 col_meta=pd.DataFrame(imp_out[\"median_d\"], index=[\"median\"]).transpose(),\n",
    "#                 col_clr_schemes=\"sequential\")"
   ]
  },
  {
   "cell_type": "code",
   "execution_count": 19,
   "id": "51ffc968",
   "metadata": {
    "scrolled": true
   },
   "outputs": [
    {
     "data": {
      "text/plain": [
       "<matplotlib.lines.Line2D at 0x7f2f5e815f10>"
      ]
     },
     "execution_count": 19,
     "metadata": {},
     "output_type": "execute_result"
    },
    {
     "data": {
      "image/png": "[encoded data removed]",
      "text/plain": [
       "<Figure size 360x360 with 1 Axes>"
      ]
     },
     "metadata": {
      "needs_background": "light"
     },
     "output_type": "display_data"
    }
   ],
   "source": [
    "flat_dp = dp_pile.values.flatten()\n",
    "flat_dp = flat_dp[flat_dp!=0]\n",
    "sns.displot(np.log2(1+flat_dp))\n",
    "#plt.gca().set_ylim([0, 400000])\n",
    "plt.axvline(np.log2(10), color='green', alpha=0.4)"
   ]
  },
  {
   "cell_type": "code",
   "execution_count": null,
   "id": "3da287b3",
   "metadata": {},
   "outputs": [],
   "source": []
  }
 ],
 "metadata": {
  "celltoolbar": "Tags",
  "kernelspec": {
   "display_name": "Python 3 (ipykernel)",
   "language": "python",
   "name": "python3"
  },
  "language_info": {
   "codemirror_mode": {
    "name": "ipython",
    "version": 3
   },
   "file_extension": ".py",
   "mimetype": "text/x-python",
   "name": "python",
   "nbconvert_exporter": "python",
   "pygments_lexer": "ipython3",
   "version": "3.7.12"
  }
 },
 "nbformat": 4,
 "nbformat_minor": 5
}
