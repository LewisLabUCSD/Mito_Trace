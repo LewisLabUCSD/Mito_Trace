{
 "cells": [
  {
   "cell_type": "code",
   "execution_count": 1,
   "id": "235ae72f",
   "metadata": {
    "tags": [
     "parameters"
    ]
   },
   "outputs": [],
   "source": [
    "# Input info\n",
    "se_cells_meta_f = \"/data/Mito_Trace/output/pipeline/v02/CHIP_b1/MTBlacklist_A2/data/merged/MT/cellr_True/numread_200/filters/minC10_minR50_topN0_hetT0.001_hetC10_hetCount5_bq20/mgatk/vireoIn/clones/variants_init/knn/kparam_30/gff_A2_black/annotation_clones/se_cells_meta_labels.tsv\"\n",
    "barcodes_dir = \"/data/Mito_Trace/output/pipeline/v02/CHIP_b1/MTBlacklist_A2/data/merged/MT/cellr_True/numread_200/filters/minC10_minR50_topN0_hetT0.001_hetC10_hetCount5_bq20/mgatk/vireoIn/clones/variants_init/knn/kparam_30/barcodes/btwnClones_dendro_dt_0.6\"\n",
    "outdir = \"/data/Mito_Trace/output/pipeline/v02/CHIP_b1/MTBlacklist_A2/data/merged/MT/cellr_True/numread_200/filters/minC10_minR50_topN0_hetT0.001_hetC10_hetCount5_bq20/mgatk/vireoIn/clones/variants_init/knn/kparam_30/clonal_shifts/mincl.10_bothConds.False_p0.1/clones.dendro_dt_0.6__nuc.clust/\"\n",
    "\n",
    "\n",
    "clone_col = \"den_clust\"\n",
    "atac_col = \"cluster_labels\"\n",
    "\n",
    "# config\n",
    "N_DONORS = 2\n",
    "input_cond = \"Input\"\n",
    "\n",
    "# params\n",
    "min_clone_size = 10\n",
    "p_thresh = 0.1 \n",
    "\n",
    "\n",
    "#conds_sep = False\n",
    "\n",
    "counts_f = \"\""
   ]
  },
  {
   "cell_type": "code",
   "execution_count": 2,
   "id": "39e6db5a",
   "metadata": {},
   "outputs": [],
   "source": [
    "import pandas as pd\n",
    "import numpy as np\n",
    "from os.path import join, exists\n",
    "import os\n",
    "from tqdm.notebook import tqdm\n",
    "\n",
    "from scipy.stats import hypergeom, fisher_exact\n",
    "from statsmodels.stats import multitest \n",
    "\n",
    "import seaborn as sns\n",
    "import matplotlib.pyplot as plt\n",
    "\n",
    "from src import clonal_shifts as cs\n",
    "from icecream import ic"
   ]
  },
  {
   "cell_type": "code",
   "execution_count": 3,
   "id": "1efd64ef",
   "metadata": {},
   "outputs": [],
   "source": [
    "all_dir = join(outdir,\"combDonors\")\n",
    "sep_dir = join(outdir,\"sepDonors\")\n",
    "\n",
    "sim_all_dir = join(all_dir, \"shuffle\")\n",
    "sim_sep_dir = join(sep_dir, \"shuffle\")\n",
    "\n",
    "if not exists(all_dir):\n",
    "    os.mkdir(all_dir)\n",
    "if not exists(sep_dir):\n",
    "    os.mkdir(sep_dir)\n",
    "if not exists(sim_all_dir):\n",
    "    os.mkdir(sim_all_dir)\n",
    "\n",
    "donor_out = {}\n",
    "for d in np.arange(N_DONORS):\n",
    "    donor_out[d] = join(sep_dir, f\"donor{d}\")\n",
    "    if not exists(donor_out[d]):\n",
    "        os.mkdir(donor_out[d])\n",
    "    if not exists(join(donor_out[d], \"shuffle\")):\n",
    "        os.mkdir(join(donor_out[d], \"shuffle\"))"
   ]
  },
  {
   "cell_type": "code",
   "execution_count": 4,
   "id": "c24f7eab",
   "metadata": {},
   "outputs": [],
   "source": [
    "%load_ext autoreload\n",
    "%autoreload 2"
   ]
  },
  {
   "cell_type": "markdown",
   "id": "f90196c5",
   "metadata": {},
   "source": [
    "## Load barcodes, and add donor id for the labels"
   ]
  },
  {
   "cell_type": "code",
   "execution_count": 5,
   "id": "b977d54a",
   "metadata": {},
   "outputs": [
    {
     "data": {
      "text/html": [
       "<div>\n",
       "<style scoped>\n",
       "    .dataframe tbody tr th:only-of-type {\n",
       "        vertical-align: middle;\n",
       "    }\n",
       "\n",
       "    .dataframe tbody tr th {\n",
       "        vertical-align: top;\n",
       "    }\n",
       "\n",
       "    .dataframe thead th {\n",
       "        text-align: right;\n",
       "    }\n",
       "</style>\n",
       "<table border=\"1\" class=\"dataframe\">\n",
       "  <thead>\n",
       "    <tr style=\"text-align: right;\">\n",
       "      <th></th>\n",
       "      <th>size</th>\n",
       "      <th>donor</th>\n",
       "      <th>den_clust</th>\n",
       "    </tr>\n",
       "    <tr>\n",
       "      <th>lineage</th>\n",
       "      <th></th>\n",
       "      <th></th>\n",
       "      <th></th>\n",
       "    </tr>\n",
       "  </thead>\n",
       "  <tbody>\n",
       "    <tr>\n",
       "      <th>1_32</th>\n",
       "      <td>63</td>\n",
       "      <td>1</td>\n",
       "      <td>1_C0</td>\n",
       "    </tr>\n",
       "    <tr>\n",
       "      <th>1_2</th>\n",
       "      <td>552</td>\n",
       "      <td>1</td>\n",
       "      <td>1_C0</td>\n",
       "    </tr>\n",
       "    <tr>\n",
       "      <th>1_8</th>\n",
       "      <td>313</td>\n",
       "      <td>1</td>\n",
       "      <td>1_C0</td>\n",
       "    </tr>\n",
       "    <tr>\n",
       "      <th>1_4</th>\n",
       "      <td>450</td>\n",
       "      <td>1</td>\n",
       "      <td>1_C1</td>\n",
       "    </tr>\n",
       "    <tr>\n",
       "      <th>1_24</th>\n",
       "      <td>140</td>\n",
       "      <td>1</td>\n",
       "      <td>1_C1</td>\n",
       "    </tr>\n",
       "  </tbody>\n",
       "</table>\n",
       "</div>"
      ],
      "text/plain": [
       "         size  donor den_clust\n",
       "lineage                       \n",
       "1_32       63      1      1_C0\n",
       "1_2       552      1      1_C0\n",
       "1_8       313      1      1_C0\n",
       "1_4       450      1      1_C1\n",
       "1_24      140      1      1_C1"
      ]
     },
     "execution_count": 5,
     "metadata": {},
     "output_type": "execute_result"
    }
   ],
   "source": [
    "barcodes_in = {}\n",
    "for d in np.arange(N_DONORS):\n",
    "    barcodes_in[d] = pd.read_csv(join(barcodes_dir,f\"donor{d}.clones_dendro.csv\"), index_col=0)\n",
    "\n",
    "    barcodes_in[d][clone_col] = str(d) + \"_\" + barcodes_in[d][clone_col]\n",
    "    \n",
    "barcodes_in[d].head()"
   ]
  },
  {
   "cell_type": "code",
   "execution_count": 6,
   "id": "3747ae7f",
   "metadata": {},
   "outputs": [],
   "source": [
    "#counts_df = pd.read_csv(counts_f, sep=\"\\t\")"
   ]
  },
  {
   "cell_type": "markdown",
   "id": "6278afc9",
   "metadata": {},
   "source": [
    "## Load cells_meta"
   ]
  },
  {
   "cell_type": "code",
   "execution_count": 7,
   "id": "74d57bcf",
   "metadata": {},
   "outputs": [],
   "source": [
    "cells_meta = pd.read_csv(se_cells_meta_f, sep=\"\\t\")\n",
    "cells_meta = cells_meta.loc[~(cells_meta[\"name\"]==\"None\")]\n",
    "\n",
    "if not \"cluster_labels\" in cells_meta.columns.values:\n",
    "    cells_meta[\"cluster_labels\"] = cells_meta[\"seurat_clusters\"]\n"
   ]
  },
  {
   "cell_type": "markdown",
   "id": "91b54aac",
   "metadata": {},
   "source": [
    "## Map the new group to cells_meta"
   ]
  },
  {
   "cell_type": "code",
   "execution_count": 8,
   "id": "adf4806d",
   "metadata": {
    "scrolled": true
   },
   "outputs": [
    {
     "data": {
      "text/html": [
       "<div>\n",
       "<style scoped>\n",
       "    .dataframe tbody tr th:only-of-type {\n",
       "        vertical-align: middle;\n",
       "    }\n",
       "\n",
       "    .dataframe tbody tr th {\n",
       "        vertical-align: top;\n",
       "    }\n",
       "\n",
       "    .dataframe thead th {\n",
       "        text-align: right;\n",
       "    }\n",
       "</style>\n",
       "<table border=\"1\" class=\"dataframe\">\n",
       "  <thead>\n",
       "    <tr style=\"text-align: right;\">\n",
       "      <th></th>\n",
       "      <th>orig.ident</th>\n",
       "      <th>nCount_ATAC</th>\n",
       "      <th>nFeature_ATAC</th>\n",
       "      <th>total</th>\n",
       "      <th>duplicate</th>\n",
       "      <th>chimeric</th>\n",
       "      <th>unmapped</th>\n",
       "      <th>lowmapq</th>\n",
       "      <th>mitochondrial</th>\n",
       "      <th>passed_filters</th>\n",
       "      <th>...</th>\n",
       "      <th>nCount_RNA</th>\n",
       "      <th>nFeature_RNA</th>\n",
       "      <th>ID</th>\n",
       "      <th>Row.names</th>\n",
       "      <th>lineage</th>\n",
       "      <th>donor</th>\n",
       "      <th>condition</th>\n",
       "      <th>name</th>\n",
       "      <th>cluster_labels</th>\n",
       "      <th>den_clust</th>\n",
       "    </tr>\n",
       "  </thead>\n",
       "  <tbody>\n",
       "    <tr>\n",
       "      <th>Control_AAACGAAAGAATCAGT-1</th>\n",
       "      <td>Control</td>\n",
       "      <td>1972</td>\n",
       "      <td>1972</td>\n",
       "      <td>6432</td>\n",
       "      <td>1259</td>\n",
       "      <td>31</td>\n",
       "      <td>19</td>\n",
       "      <td>266</td>\n",
       "      <td>1066</td>\n",
       "      <td>3791</td>\n",
       "      <td>...</td>\n",
       "      <td>2211</td>\n",
       "      <td>1942</td>\n",
       "      <td>AAACGAAAGAATCAGT-1_Control</td>\n",
       "      <td>Control_AAACGAAAGAATCAGT-1</td>\n",
       "      <td>4</td>\n",
       "      <td>1</td>\n",
       "      <td>Control</td>\n",
       "      <td>1_4</td>\n",
       "      <td>eosonophil</td>\n",
       "      <td>1_C1</td>\n",
       "    </tr>\n",
       "    <tr>\n",
       "      <th>Control_AAACGAAAGCATACCT-1</th>\n",
       "      <td>Control</td>\n",
       "      <td>2674</td>\n",
       "      <td>2674</td>\n",
       "      <td>11858</td>\n",
       "      <td>1937</td>\n",
       "      <td>51</td>\n",
       "      <td>34</td>\n",
       "      <td>549</td>\n",
       "      <td>3102</td>\n",
       "      <td>6185</td>\n",
       "      <td>...</td>\n",
       "      <td>3311</td>\n",
       "      <td>2750</td>\n",
       "      <td>AAACGAAAGCATACCT-1_Control</td>\n",
       "      <td>Control_AAACGAAAGCATACCT-1</td>\n",
       "      <td>30</td>\n",
       "      <td>1</td>\n",
       "      <td>Control</td>\n",
       "      <td>1_30</td>\n",
       "      <td>MPP/CMP/GMP C</td>\n",
       "      <td>1_C1</td>\n",
       "    </tr>\n",
       "    <tr>\n",
       "      <th>Control_AAACGAAAGCGAGAAA-1</th>\n",
       "      <td>Control</td>\n",
       "      <td>1939</td>\n",
       "      <td>1939</td>\n",
       "      <td>7365</td>\n",
       "      <td>1097</td>\n",
       "      <td>25</td>\n",
       "      <td>27</td>\n",
       "      <td>275</td>\n",
       "      <td>2184</td>\n",
       "      <td>3757</td>\n",
       "      <td>...</td>\n",
       "      <td>2112</td>\n",
       "      <td>1838</td>\n",
       "      <td>AAACGAAAGCGAGAAA-1_Control</td>\n",
       "      <td>Control_AAACGAAAGCGAGAAA-1</td>\n",
       "      <td>27</td>\n",
       "      <td>0</td>\n",
       "      <td>Control</td>\n",
       "      <td>0_27</td>\n",
       "      <td>MPP/CMP/GMP C</td>\n",
       "      <td>0_C1</td>\n",
       "    </tr>\n",
       "    <tr>\n",
       "      <th>Control_AAACGAAAGTACAGAT-1</th>\n",
       "      <td>Control</td>\n",
       "      <td>862</td>\n",
       "      <td>862</td>\n",
       "      <td>4095</td>\n",
       "      <td>861</td>\n",
       "      <td>16</td>\n",
       "      <td>16</td>\n",
       "      <td>230</td>\n",
       "      <td>771</td>\n",
       "      <td>2201</td>\n",
       "      <td>...</td>\n",
       "      <td>1441</td>\n",
       "      <td>1317</td>\n",
       "      <td>AAACGAAAGTACAGAT-1_Control</td>\n",
       "      <td>Control_AAACGAAAGTACAGAT-1</td>\n",
       "      <td>4</td>\n",
       "      <td>0</td>\n",
       "      <td>Control</td>\n",
       "      <td>0_4</td>\n",
       "      <td>erythroid</td>\n",
       "      <td>0_C0</td>\n",
       "    </tr>\n",
       "    <tr>\n",
       "      <th>Control_AAACGAAAGTACAGTA-1</th>\n",
       "      <td>Control</td>\n",
       "      <td>1775</td>\n",
       "      <td>1775</td>\n",
       "      <td>8088</td>\n",
       "      <td>1091</td>\n",
       "      <td>27</td>\n",
       "      <td>27</td>\n",
       "      <td>369</td>\n",
       "      <td>2157</td>\n",
       "      <td>4417</td>\n",
       "      <td>...</td>\n",
       "      <td>2385</td>\n",
       "      <td>2085</td>\n",
       "      <td>AAACGAAAGTACAGTA-1_Control</td>\n",
       "      <td>Control_AAACGAAAGTACAGTA-1</td>\n",
       "      <td>21</td>\n",
       "      <td>1</td>\n",
       "      <td>Control</td>\n",
       "      <td>1_21</td>\n",
       "      <td>eosonophil</td>\n",
       "      <td>1_C2</td>\n",
       "    </tr>\n",
       "    <tr>\n",
       "      <th>...</th>\n",
       "      <td>...</td>\n",
       "      <td>...</td>\n",
       "      <td>...</td>\n",
       "      <td>...</td>\n",
       "      <td>...</td>\n",
       "      <td>...</td>\n",
       "      <td>...</td>\n",
       "      <td>...</td>\n",
       "      <td>...</td>\n",
       "      <td>...</td>\n",
       "      <td>...</td>\n",
       "      <td>...</td>\n",
       "      <td>...</td>\n",
       "      <td>...</td>\n",
       "      <td>...</td>\n",
       "      <td>...</td>\n",
       "      <td>...</td>\n",
       "      <td>...</td>\n",
       "      <td>...</td>\n",
       "      <td>...</td>\n",
       "      <td>...</td>\n",
       "    </tr>\n",
       "    <tr>\n",
       "      <th>Input_TTTGTGTGTTTCTTAC-1</th>\n",
       "      <td>Input</td>\n",
       "      <td>3585</td>\n",
       "      <td>3585</td>\n",
       "      <td>17067</td>\n",
       "      <td>3257</td>\n",
       "      <td>63</td>\n",
       "      <td>80</td>\n",
       "      <td>461</td>\n",
       "      <td>8097</td>\n",
       "      <td>5109</td>\n",
       "      <td>...</td>\n",
       "      <td>3738</td>\n",
       "      <td>2899</td>\n",
       "      <td>TTTGTGTGTTTCTTAC-1_Input</td>\n",
       "      <td>Input_TTTGTGTGTTTCTTAC-1</td>\n",
       "      <td>11</td>\n",
       "      <td>0</td>\n",
       "      <td>Input</td>\n",
       "      <td>0_11</td>\n",
       "      <td>MPP/CMP/GMP B</td>\n",
       "      <td>0_C1</td>\n",
       "    </tr>\n",
       "    <tr>\n",
       "      <th>Input_TTTGTGTTCCTGAAAC-1</th>\n",
       "      <td>Input</td>\n",
       "      <td>4362</td>\n",
       "      <td>4362</td>\n",
       "      <td>30427</td>\n",
       "      <td>8323</td>\n",
       "      <td>84</td>\n",
       "      <td>99</td>\n",
       "      <td>799</td>\n",
       "      <td>12146</td>\n",
       "      <td>8976</td>\n",
       "      <td>...</td>\n",
       "      <td>5839</td>\n",
       "      <td>4144</td>\n",
       "      <td>TTTGTGTTCCTGAAAC-1_Input</td>\n",
       "      <td>Input_TTTGTGTTCCTGAAAC-1</td>\n",
       "      <td>7</td>\n",
       "      <td>0</td>\n",
       "      <td>Input</td>\n",
       "      <td>0_7</td>\n",
       "      <td>MEP</td>\n",
       "      <td>0_C1</td>\n",
       "    </tr>\n",
       "    <tr>\n",
       "      <th>Input_TTTGTGTTCGGGAAAC-1</th>\n",
       "      <td>Input</td>\n",
       "      <td>8047</td>\n",
       "      <td>8047</td>\n",
       "      <td>40114</td>\n",
       "      <td>14032</td>\n",
       "      <td>169</td>\n",
       "      <td>160</td>\n",
       "      <td>1561</td>\n",
       "      <td>10102</td>\n",
       "      <td>14090</td>\n",
       "      <td>...</td>\n",
       "      <td>9421</td>\n",
       "      <td>5890</td>\n",
       "      <td>TTTGTGTTCGGGAAAC-1_Input</td>\n",
       "      <td>Input_TTTGTGTTCGGGAAAC-1</td>\n",
       "      <td>25</td>\n",
       "      <td>0</td>\n",
       "      <td>Input</td>\n",
       "      <td>0_25</td>\n",
       "      <td>MPP/CMP/GMP B</td>\n",
       "      <td>0_C1</td>\n",
       "    </tr>\n",
       "    <tr>\n",
       "      <th>Input_TTTGTGTTCGGGACAA-1</th>\n",
       "      <td>Input</td>\n",
       "      <td>3303</td>\n",
       "      <td>3303</td>\n",
       "      <td>22721</td>\n",
       "      <td>4421</td>\n",
       "      <td>43</td>\n",
       "      <td>84</td>\n",
       "      <td>546</td>\n",
       "      <td>11692</td>\n",
       "      <td>5935</td>\n",
       "      <td>...</td>\n",
       "      <td>4303</td>\n",
       "      <td>3323</td>\n",
       "      <td>TTTGTGTTCGGGACAA-1_Input</td>\n",
       "      <td>Input_TTTGTGTTCGGGACAA-1</td>\n",
       "      <td>6</td>\n",
       "      <td>1</td>\n",
       "      <td>Input</td>\n",
       "      <td>1_6</td>\n",
       "      <td>erythroid</td>\n",
       "      <td>1_C2</td>\n",
       "    </tr>\n",
       "    <tr>\n",
       "      <th>Input_TTTGTGTTCTGGCACG-1</th>\n",
       "      <td>Input</td>\n",
       "      <td>11556</td>\n",
       "      <td>11556</td>\n",
       "      <td>57423</td>\n",
       "      <td>22063</td>\n",
       "      <td>263</td>\n",
       "      <td>235</td>\n",
       "      <td>2056</td>\n",
       "      <td>11433</td>\n",
       "      <td>21373</td>\n",
       "      <td>...</td>\n",
       "      <td>13841</td>\n",
       "      <td>7279</td>\n",
       "      <td>TTTGTGTTCTGGCACG-1_Input</td>\n",
       "      <td>Input_TTTGTGTTCTGGCACG-1</td>\n",
       "      <td>15</td>\n",
       "      <td>0</td>\n",
       "      <td>Input</td>\n",
       "      <td>0_15</td>\n",
       "      <td>MPP/CMP/GMP B</td>\n",
       "      <td>0_C2</td>\n",
       "    </tr>\n",
       "  </tbody>\n",
       "</table>\n",
       "<p>16639 rows × 41 columns</p>\n",
       "</div>"
      ],
      "text/plain": [
       "                           orig.ident  nCount_ATAC  nFeature_ATAC  total  \\\n",
       "Control_AAACGAAAGAATCAGT-1    Control         1972           1972   6432   \n",
       "Control_AAACGAAAGCATACCT-1    Control         2674           2674  11858   \n",
       "Control_AAACGAAAGCGAGAAA-1    Control         1939           1939   7365   \n",
       "Control_AAACGAAAGTACAGAT-1    Control          862            862   4095   \n",
       "Control_AAACGAAAGTACAGTA-1    Control         1775           1775   8088   \n",
       "...                               ...          ...            ...    ...   \n",
       "Input_TTTGTGTGTTTCTTAC-1        Input         3585           3585  17067   \n",
       "Input_TTTGTGTTCCTGAAAC-1        Input         4362           4362  30427   \n",
       "Input_TTTGTGTTCGGGAAAC-1        Input         8047           8047  40114   \n",
       "Input_TTTGTGTTCGGGACAA-1        Input         3303           3303  22721   \n",
       "Input_TTTGTGTTCTGGCACG-1        Input        11556          11556  57423   \n",
       "\n",
       "                            duplicate  chimeric  unmapped  lowmapq  \\\n",
       "Control_AAACGAAAGAATCAGT-1       1259        31        19      266   \n",
       "Control_AAACGAAAGCATACCT-1       1937        51        34      549   \n",
       "Control_AAACGAAAGCGAGAAA-1       1097        25        27      275   \n",
       "Control_AAACGAAAGTACAGAT-1        861        16        16      230   \n",
       "Control_AAACGAAAGTACAGTA-1       1091        27        27      369   \n",
       "...                               ...       ...       ...      ...   \n",
       "Input_TTTGTGTGTTTCTTAC-1         3257        63        80      461   \n",
       "Input_TTTGTGTTCCTGAAAC-1         8323        84        99      799   \n",
       "Input_TTTGTGTTCGGGAAAC-1        14032       169       160     1561   \n",
       "Input_TTTGTGTTCGGGACAA-1         4421        43        84      546   \n",
       "Input_TTTGTGTTCTGGCACG-1        22063       263       235     2056   \n",
       "\n",
       "                            mitochondrial  passed_filters  ... nCount_RNA  \\\n",
       "Control_AAACGAAAGAATCAGT-1           1066            3791  ...       2211   \n",
       "Control_AAACGAAAGCATACCT-1           3102            6185  ...       3311   \n",
       "Control_AAACGAAAGCGAGAAA-1           2184            3757  ...       2112   \n",
       "Control_AAACGAAAGTACAGAT-1            771            2201  ...       1441   \n",
       "Control_AAACGAAAGTACAGTA-1           2157            4417  ...       2385   \n",
       "...                                   ...             ...  ...        ...   \n",
       "Input_TTTGTGTGTTTCTTAC-1             8097            5109  ...       3738   \n",
       "Input_TTTGTGTTCCTGAAAC-1            12146            8976  ...       5839   \n",
       "Input_TTTGTGTTCGGGAAAC-1            10102           14090  ...       9421   \n",
       "Input_TTTGTGTTCGGGACAA-1            11692            5935  ...       4303   \n",
       "Input_TTTGTGTTCTGGCACG-1            11433           21373  ...      13841   \n",
       "\n",
       "                            nFeature_RNA                          ID  \\\n",
       "Control_AAACGAAAGAATCAGT-1          1942  AAACGAAAGAATCAGT-1_Control   \n",
       "Control_AAACGAAAGCATACCT-1          2750  AAACGAAAGCATACCT-1_Control   \n",
       "Control_AAACGAAAGCGAGAAA-1          1838  AAACGAAAGCGAGAAA-1_Control   \n",
       "Control_AAACGAAAGTACAGAT-1          1317  AAACGAAAGTACAGAT-1_Control   \n",
       "Control_AAACGAAAGTACAGTA-1          2085  AAACGAAAGTACAGTA-1_Control   \n",
       "...                                  ...                         ...   \n",
       "Input_TTTGTGTGTTTCTTAC-1            2899    TTTGTGTGTTTCTTAC-1_Input   \n",
       "Input_TTTGTGTTCCTGAAAC-1            4144    TTTGTGTTCCTGAAAC-1_Input   \n",
       "Input_TTTGTGTTCGGGAAAC-1            5890    TTTGTGTTCGGGAAAC-1_Input   \n",
       "Input_TTTGTGTTCGGGACAA-1            3323    TTTGTGTTCGGGACAA-1_Input   \n",
       "Input_TTTGTGTTCTGGCACG-1            7279    TTTGTGTTCTGGCACG-1_Input   \n",
       "\n",
       "                                             Row.names  lineage  donor  \\\n",
       "Control_AAACGAAAGAATCAGT-1  Control_AAACGAAAGAATCAGT-1        4      1   \n",
       "Control_AAACGAAAGCATACCT-1  Control_AAACGAAAGCATACCT-1       30      1   \n",
       "Control_AAACGAAAGCGAGAAA-1  Control_AAACGAAAGCGAGAAA-1       27      0   \n",
       "Control_AAACGAAAGTACAGAT-1  Control_AAACGAAAGTACAGAT-1        4      0   \n",
       "Control_AAACGAAAGTACAGTA-1  Control_AAACGAAAGTACAGTA-1       21      1   \n",
       "...                                                ...      ...    ...   \n",
       "Input_TTTGTGTGTTTCTTAC-1      Input_TTTGTGTGTTTCTTAC-1       11      0   \n",
       "Input_TTTGTGTTCCTGAAAC-1      Input_TTTGTGTTCCTGAAAC-1        7      0   \n",
       "Input_TTTGTGTTCGGGAAAC-1      Input_TTTGTGTTCGGGAAAC-1       25      0   \n",
       "Input_TTTGTGTTCGGGACAA-1      Input_TTTGTGTTCGGGACAA-1        6      1   \n",
       "Input_TTTGTGTTCTGGCACG-1      Input_TTTGTGTTCTGGCACG-1       15      0   \n",
       "\n",
       "                            condition  name  cluster_labels  den_clust  \n",
       "Control_AAACGAAAGAATCAGT-1    Control   1_4      eosonophil       1_C1  \n",
       "Control_AAACGAAAGCATACCT-1    Control  1_30   MPP/CMP/GMP C       1_C1  \n",
       "Control_AAACGAAAGCGAGAAA-1    Control  0_27   MPP/CMP/GMP C       0_C1  \n",
       "Control_AAACGAAAGTACAGAT-1    Control   0_4       erythroid       0_C0  \n",
       "Control_AAACGAAAGTACAGTA-1    Control  1_21      eosonophil       1_C2  \n",
       "...                               ...   ...             ...        ...  \n",
       "Input_TTTGTGTGTTTCTTAC-1        Input  0_11   MPP/CMP/GMP B       0_C1  \n",
       "Input_TTTGTGTTCCTGAAAC-1        Input   0_7             MEP       0_C1  \n",
       "Input_TTTGTGTTCGGGAAAC-1        Input  0_25   MPP/CMP/GMP B       0_C1  \n",
       "Input_TTTGTGTTCGGGACAA-1        Input   1_6       erythroid       1_C2  \n",
       "Input_TTTGTGTTCTGGCACG-1        Input  0_15   MPP/CMP/GMP B       0_C2  \n",
       "\n",
       "[16639 rows x 41 columns]"
      ]
     },
     "execution_count": 8,
     "metadata": {},
     "output_type": "execute_result"
    }
   ],
   "source": [
    "cells_meta[clone_col] = cells_meta.apply(lambda x: barcodes_in[int(x[\"donor\"])].loc[x[\"name\"], clone_col] , axis=1)\n",
    "cells_meta"
   ]
  },
  {
   "cell_type": "markdown",
   "id": "34cc6974",
   "metadata": {},
   "source": [
    "## Filter for input only"
   ]
  },
  {
   "cell_type": "code",
   "execution_count": 9,
   "id": "82c81587",
   "metadata": {},
   "outputs": [
    {
     "data": {
      "text/html": [
       "<div>\n",
       "<style scoped>\n",
       "    .dataframe tbody tr th:only-of-type {\n",
       "        vertical-align: middle;\n",
       "    }\n",
       "\n",
       "    .dataframe tbody tr th {\n",
       "        vertical-align: top;\n",
       "    }\n",
       "\n",
       "    .dataframe thead th {\n",
       "        text-align: right;\n",
       "    }\n",
       "</style>\n",
       "<table border=\"1\" class=\"dataframe\">\n",
       "  <thead>\n",
       "    <tr style=\"text-align: right;\">\n",
       "      <th></th>\n",
       "      <th>orig.ident</th>\n",
       "      <th>nCount_ATAC</th>\n",
       "      <th>nFeature_ATAC</th>\n",
       "      <th>total</th>\n",
       "      <th>duplicate</th>\n",
       "      <th>chimeric</th>\n",
       "      <th>unmapped</th>\n",
       "      <th>lowmapq</th>\n",
       "      <th>mitochondrial</th>\n",
       "      <th>passed_filters</th>\n",
       "      <th>...</th>\n",
       "      <th>nCount_RNA</th>\n",
       "      <th>nFeature_RNA</th>\n",
       "      <th>ID</th>\n",
       "      <th>Row.names</th>\n",
       "      <th>lineage</th>\n",
       "      <th>donor</th>\n",
       "      <th>condition</th>\n",
       "      <th>name</th>\n",
       "      <th>cluster_labels</th>\n",
       "      <th>den_clust</th>\n",
       "    </tr>\n",
       "  </thead>\n",
       "  <tbody>\n",
       "    <tr>\n",
       "      <th>Input_AAACGAAAGATATGAC-1</th>\n",
       "      <td>Input</td>\n",
       "      <td>2858</td>\n",
       "      <td>2858</td>\n",
       "      <td>29954</td>\n",
       "      <td>4853</td>\n",
       "      <td>67</td>\n",
       "      <td>103</td>\n",
       "      <td>626</td>\n",
       "      <td>19521</td>\n",
       "      <td>4784</td>\n",
       "      <td>...</td>\n",
       "      <td>3172</td>\n",
       "      <td>2505</td>\n",
       "      <td>AAACGAAAGATATGAC-1_Input</td>\n",
       "      <td>Input_AAACGAAAGATATGAC-1</td>\n",
       "      <td>23</td>\n",
       "      <td>1</td>\n",
       "      <td>Input</td>\n",
       "      <td>1_23</td>\n",
       "      <td>MPP/CMP/GMP</td>\n",
       "      <td>1_C2</td>\n",
       "    </tr>\n",
       "    <tr>\n",
       "      <th>Input_AAACGAAAGTAATGTG-1</th>\n",
       "      <td>Input</td>\n",
       "      <td>6511</td>\n",
       "      <td>6511</td>\n",
       "      <td>32111</td>\n",
       "      <td>9018</td>\n",
       "      <td>96</td>\n",
       "      <td>122</td>\n",
       "      <td>1319</td>\n",
       "      <td>11232</td>\n",
       "      <td>10324</td>\n",
       "      <td>...</td>\n",
       "      <td>7161</td>\n",
       "      <td>4861</td>\n",
       "      <td>AAACGAAAGTAATGTG-1_Input</td>\n",
       "      <td>Input_AAACGAAAGTAATGTG-1</td>\n",
       "      <td>1</td>\n",
       "      <td>1</td>\n",
       "      <td>Input</td>\n",
       "      <td>1_1</td>\n",
       "      <td>MPP/CMP/GMP</td>\n",
       "      <td>1_C1</td>\n",
       "    </tr>\n",
       "    <tr>\n",
       "      <th>Input_AAACGAAAGTAGTCGG-1</th>\n",
       "      <td>Input</td>\n",
       "      <td>7561</td>\n",
       "      <td>7561</td>\n",
       "      <td>37923</td>\n",
       "      <td>12542</td>\n",
       "      <td>147</td>\n",
       "      <td>162</td>\n",
       "      <td>1705</td>\n",
       "      <td>10189</td>\n",
       "      <td>13178</td>\n",
       "      <td>...</td>\n",
       "      <td>8960</td>\n",
       "      <td>5447</td>\n",
       "      <td>AAACGAAAGTAGTCGG-1_Input</td>\n",
       "      <td>Input_AAACGAAAGTAGTCGG-1</td>\n",
       "      <td>5</td>\n",
       "      <td>1</td>\n",
       "      <td>Input</td>\n",
       "      <td>1_5</td>\n",
       "      <td>MPP/CMP/GMP B</td>\n",
       "      <td>1_C2</td>\n",
       "    </tr>\n",
       "    <tr>\n",
       "      <th>Input_AAACGAACACATTGCA-1</th>\n",
       "      <td>Input</td>\n",
       "      <td>6920</td>\n",
       "      <td>6920</td>\n",
       "      <td>46206</td>\n",
       "      <td>12553</td>\n",
       "      <td>148</td>\n",
       "      <td>184</td>\n",
       "      <td>1239</td>\n",
       "      <td>16880</td>\n",
       "      <td>15202</td>\n",
       "      <td>...</td>\n",
       "      <td>10041</td>\n",
       "      <td>5539</td>\n",
       "      <td>AAACGAACACATTGCA-1_Input</td>\n",
       "      <td>Input_AAACGAACACATTGCA-1</td>\n",
       "      <td>0</td>\n",
       "      <td>1</td>\n",
       "      <td>Input</td>\n",
       "      <td>1_0</td>\n",
       "      <td>CLP</td>\n",
       "      <td>1_C1</td>\n",
       "    </tr>\n",
       "    <tr>\n",
       "      <th>Input_AAACGAACACGCTCAG-1</th>\n",
       "      <td>Input</td>\n",
       "      <td>5875</td>\n",
       "      <td>5875</td>\n",
       "      <td>38973</td>\n",
       "      <td>7584</td>\n",
       "      <td>162</td>\n",
       "      <td>150</td>\n",
       "      <td>973</td>\n",
       "      <td>19691</td>\n",
       "      <td>10413</td>\n",
       "      <td>...</td>\n",
       "      <td>7103</td>\n",
       "      <td>4786</td>\n",
       "      <td>AAACGAACACGCTCAG-1_Input</td>\n",
       "      <td>Input_AAACGAACACGCTCAG-1</td>\n",
       "      <td>1</td>\n",
       "      <td>0</td>\n",
       "      <td>Input</td>\n",
       "      <td>0_1</td>\n",
       "      <td>MPP/CMP/GMP</td>\n",
       "      <td>0_C2</td>\n",
       "    </tr>\n",
       "  </tbody>\n",
       "</table>\n",
       "<p>5 rows × 41 columns</p>\n",
       "</div>"
      ],
      "text/plain": [
       "                         orig.ident  nCount_ATAC  nFeature_ATAC  total  \\\n",
       "Input_AAACGAAAGATATGAC-1      Input         2858           2858  29954   \n",
       "Input_AAACGAAAGTAATGTG-1      Input         6511           6511  32111   \n",
       "Input_AAACGAAAGTAGTCGG-1      Input         7561           7561  37923   \n",
       "Input_AAACGAACACATTGCA-1      Input         6920           6920  46206   \n",
       "Input_AAACGAACACGCTCAG-1      Input         5875           5875  38973   \n",
       "\n",
       "                          duplicate  chimeric  unmapped  lowmapq  \\\n",
       "Input_AAACGAAAGATATGAC-1       4853        67       103      626   \n",
       "Input_AAACGAAAGTAATGTG-1       9018        96       122     1319   \n",
       "Input_AAACGAAAGTAGTCGG-1      12542       147       162     1705   \n",
       "Input_AAACGAACACATTGCA-1      12553       148       184     1239   \n",
       "Input_AAACGAACACGCTCAG-1       7584       162       150      973   \n",
       "\n",
       "                          mitochondrial  passed_filters  ... nCount_RNA  \\\n",
       "Input_AAACGAAAGATATGAC-1          19521            4784  ...       3172   \n",
       "Input_AAACGAAAGTAATGTG-1          11232           10324  ...       7161   \n",
       "Input_AAACGAAAGTAGTCGG-1          10189           13178  ...       8960   \n",
       "Input_AAACGAACACATTGCA-1          16880           15202  ...      10041   \n",
       "Input_AAACGAACACGCTCAG-1          19691           10413  ...       7103   \n",
       "\n",
       "                          nFeature_RNA                        ID  \\\n",
       "Input_AAACGAAAGATATGAC-1          2505  AAACGAAAGATATGAC-1_Input   \n",
       "Input_AAACGAAAGTAATGTG-1          4861  AAACGAAAGTAATGTG-1_Input   \n",
       "Input_AAACGAAAGTAGTCGG-1          5447  AAACGAAAGTAGTCGG-1_Input   \n",
       "Input_AAACGAACACATTGCA-1          5539  AAACGAACACATTGCA-1_Input   \n",
       "Input_AAACGAACACGCTCAG-1          4786  AAACGAACACGCTCAG-1_Input   \n",
       "\n",
       "                                         Row.names  lineage  donor  condition  \\\n",
       "Input_AAACGAAAGATATGAC-1  Input_AAACGAAAGATATGAC-1       23      1      Input   \n",
       "Input_AAACGAAAGTAATGTG-1  Input_AAACGAAAGTAATGTG-1        1      1      Input   \n",
       "Input_AAACGAAAGTAGTCGG-1  Input_AAACGAAAGTAGTCGG-1        5      1      Input   \n",
       "Input_AAACGAACACATTGCA-1  Input_AAACGAACACATTGCA-1        0      1      Input   \n",
       "Input_AAACGAACACGCTCAG-1  Input_AAACGAACACGCTCAG-1        1      0      Input   \n",
       "\n",
       "                          name  cluster_labels  den_clust  \n",
       "Input_AAACGAAAGATATGAC-1  1_23     MPP/CMP/GMP       1_C2  \n",
       "Input_AAACGAAAGTAATGTG-1   1_1     MPP/CMP/GMP       1_C1  \n",
       "Input_AAACGAAAGTAGTCGG-1   1_5   MPP/CMP/GMP B       1_C2  \n",
       "Input_AAACGAACACATTGCA-1   1_0             CLP       1_C1  \n",
       "Input_AAACGAACACGCTCAG-1   0_1     MPP/CMP/GMP       0_C2  \n",
       "\n",
       "[5 rows x 41 columns]"
      ]
     },
     "execution_count": 9,
     "metadata": {},
     "output_type": "execute_result"
    }
   ],
   "source": [
    "cells_meta = cells_meta.loc[cells_meta[\"condition\"]==input_cond]\n",
    "cells_meta.head()"
   ]
  },
  {
   "cell_type": "code",
   "execution_count": 10,
   "id": "cc4811b9",
   "metadata": {
    "scrolled": true
   },
   "outputs": [
    {
     "data": {
      "text/plain": [
       "<AxesSubplot:xlabel='den_clust', ylabel='count'>"
      ]
     },
     "execution_count": 10,
     "metadata": {},
     "output_type": "execute_result"
    },
    {
     "data": {
      "image/png": "[encoded data removed]",
      "text/plain": [
       "<Figure size 432x288 with 1 Axes>"
      ]
     },
     "metadata": {
      "needs_background": "light"
     },
     "output_type": "display_data"
    }
   ],
   "source": [
    "sns.countplot(data=cells_meta,x=clone_col)"
   ]
  },
  {
   "cell_type": "markdown",
   "id": "4ec0f97e",
   "metadata": {},
   "source": [
    "## construct the clone_groups and atac_cl_groups"
   ]
  },
  {
   "cell_type": "code",
   "execution_count": 11,
   "id": "933db232",
   "metadata": {},
   "outputs": [],
   "source": [
    "# def run_hypergeo(groups, clones, atac_cl):\n",
    "    \n",
    "#     #p(k,M,n,N) = (n choose k)((M-n)choose(N-k))/(MchooseN)\n",
    "#     #pmf(k, M, n, N) = choose(n, k) * choose(M - n, N - k) / choose(M, N),\n",
    "#                                    #for max(0, N - (M-n)) <= k <= min(n, N)\n",
    "\n",
    "#     # M: Total number of cells\n",
    "#     # n: Number of cells in the atac cluster (group population)\n",
    "#     # N: Number of cells in clone (the draw)\n",
    "#     # x: Number of cells in specific clone and cluster\n",
    "#     enrichment_df = pd.DataFrame(index=clones,\n",
    "#                                  columns=atac_cl, dtype=np.float128)\n",
    "\n",
    "#     M = groups[\"count\"].sum()\n",
    "#     for cl in clones:\n",
    "#         for atac in atac_cl:     \n",
    "#             n = groups[groups[atac_col]==atac][\"count\"].sum()\n",
    "#             N = groups[groups[clone_col]==cl][\"count\"].sum()\n",
    "\n",
    "#             x = groups[((groups[clone_col]==cl)& (groups[atac_col]==atac))][\"count\"].sum()\n",
    "\n",
    "#             # rv = hypergeom(M, n, N)\n",
    "#             prb = 1 - hypergeom.cdf(x, M, n, N)\n",
    "#             enrichment_df.loc[cl, atac] = prb\n",
    "#     return enrichment_df\n",
    "\n",
    "\n",
    "# def pval_correct(enrichment_df, p_thresh ):\n",
    "#     reject, pvals_corrected, _, _ = multitest.multipletests(enrichment_df.values.flatten(), alpha=p_thresh, method=\"fdr_bh\")\n",
    "\n",
    "#     nrows, ncols = enrichment_df.shape\n",
    "#     reject, pvals_corrected, _, _ = multitest.multipletests(enrichment_df.values.flatten(),\n",
    "#                                                             alpha=p_thresh, method=\"fdr_bh\")\n",
    "#     pvals_corrected = np.reshape(pvals_corrected, [nrows,ncols])\n",
    "#     return pvals_corrected\n",
    "\n",
    "# def create_enrichment(groups, clones, atac_cl):\n",
    "#     enrichment_df = run_hypergeo(groups, clones, atac_cl)\n",
    "#     pvals_corrected = pval_correct(enrichment_df, p_thresh )\n",
    "#     bh_enrichment_df = enrichment_df.copy()\n",
    "#     bh_enrichment_df.loc[:,:] = pvals_corrected\n",
    "#     #print('bh_enrichment_df', bh_enrichment_df.head())\n",
    "#     return bh_enrichment_df\n",
    "\n",
    "\n",
    "# def create_output_df(bh_enrichment_df, sizes):\n",
    "#     output_df = pd.DataFrame(index=sizes.index)\n",
    "#     #output_df = pd.DataFrame(index=bh_enrichment_df.index)\n",
    "#     output_df[\"significant clusters\"] = \"\"\n",
    "#     output_df[\"size\"] = sizes\n",
    "#     output_df[\"min_significance\"] = None\n",
    "\n",
    "#     sig_results = []\n",
    "#     sig_order = []\n",
    "#     #for ind, val in bh_enrichment_df.loc[sizes.index].iterrows():\n",
    "#     for ind, val in bh_enrichment_df.iterrows():\n",
    "#         passed = val[val<p_thresh].index.values\n",
    "#         if len(passed)>0:\n",
    "#             output_df.loc[ind, \"significant clusters\"] = \";\".join([str(x) for x in passed])\n",
    "#             output_df.loc[ind, \"min_significance\"] = min(val)\n",
    "#            # sig_results.append((ind, passed))\n",
    "#     output_df.loc[:, bh_enrichment_df.columns] = bh_enrichment_df.loc[output_df.index]\n",
    "#     #print('output df before filter')\n",
    "#     #print(output_df.head())\n",
    "#     output_df = output_df.sort_values(\"min_significance\")\n",
    "\n",
    "#     output_df = output_df.loc[~(output_df[\"min_significance\"].isnull())]\n",
    "#     print('output df after filter')\n",
    "#     print(output_df.head())\n",
    "#     #output_df.to_csv(out_f, sep=\",\")\n",
    "#     output_df=output_df.sort_values(\"size\", ascending=True)\n",
    "#     bh_enrichment_df[bh_enrichment_df>p_thresh] = 1\n",
    "#     bh_enrichment_df[bh_enrichment_df==0] = min(p_thresh,min(set((bh_enrichment_df.values).flatten())-{0})) # Set to the next min, or p_thresh, whichever is smaller\n",
    "#     return output_df, bh_enrichment_df\n",
    "\n",
    "# def pipeline_groups_hypergeo(groups, clones, atac_cl, sizes):\n",
    "#     bh_enrichment_df = create_enrichment(groups, clones, atac_cl)\n",
    "#     output_df, bh_enrichment_df = create_output_df(bh_enrichment_df, sizes=sizes)\n",
    "#     return output_df, bh_enrichment_df\n",
    "\n"
   ]
  },
  {
   "cell_type": "code",
   "execution_count": null,
   "id": "de91d8e4",
   "metadata": {},
   "outputs": [],
   "source": []
  },
  {
   "cell_type": "markdown",
   "id": "f5094f06",
   "metadata": {},
   "source": [
    "## A) Loop through donor and run "
   ]
  },
  {
   "cell_type": "code",
   "execution_count": 12,
   "id": "52ec3d64",
   "metadata": {
    "scrolled": true
   },
   "outputs": [
    {
     "name": "stdout",
     "output_type": "stream",
     "text": [
      "['0_C0' '0_C1' '0_C2']\n",
      "['CLP' 'DC' 'MEP' 'MPP/CMP/GMP' 'MPP/CMP/GMP B' 'MPP/CMP/GMP C'\n",
      " 'MPP/CMP/GMP D' 'eosonophil' 'erythroid' 'macrophage' 'meg/erythroid'\n",
      " 'monocyte' 'neutrophil' 'neutrophil B']\n"
     ]
    },
    {
     "name": "stderr",
     "output_type": "stream",
     "text": [
      "/home/isaac/miniconda3/envs/mttrace/lib/python3.7/site-packages/seaborn/matrix.py:717: UserWarning: Attempting to set identical bottom == top == 0 results in singular transformations; automatically expanding.\n",
      "  ax.set_ylim(0, max_dependent_coord * 1.05)\n",
      "ic| len(global_min): 1000\n",
      "ic| len(clone_min): 3\n",
      "ic| len(clone_min): 3\n",
      "ic| len(clone_all[curr_ind]): 14000\n",
      "ic| len(clone_all[curr_ind]): 14000\n",
      "ic| len(clone_all[curr_ind]): 14000\n",
      "ic| len(clone_all): 3\n"
     ]
    },
    {
     "name": "stdout",
     "output_type": "stream",
     "text": [
      "Number of groups below p-val significance: 0\n",
      "Number of groups below p-val significance: 0\n",
      "clone all\n",
      "axs 1\n",
      "curr_thresh 6.2219118746043026294e-12\n",
      "curr_thresh 0.0\n",
      "curr_thresh 0.0\n",
      "['1_C0' '1_C1' '1_C2']\n",
      "['CLP' 'DC' 'MEP' 'MPP/CMP/GMP' 'MPP/CMP/GMP B' 'MPP/CMP/GMP C'\n",
      " 'MPP/CMP/GMP D' 'eosonophil' 'erythroid' 'macrophage' 'meg/erythroid'\n",
      " 'monocyte' 'neutrophil' 'neutrophil B']\n"
     ]
    },
    {
     "name": "stderr",
     "output_type": "stream",
     "text": [
      "/home/isaac/miniconda3/envs/mttrace/lib/python3.7/site-packages/seaborn/matrix.py:717: UserWarning: Attempting to set identical bottom == top == 0 results in singular transformations; automatically expanding.\n",
      "  ax.set_ylim(0, max_dependent_coord * 1.05)\n",
      "ic| len(global_min): 1000\n",
      "ic| len(clone_min): 3\n",
      "ic| len(clone_min): 3\n",
      "ic| len(clone_all[curr_ind]): 14000\n",
      "ic| len(clone_all[curr_ind]): 14000\n",
      "ic| len(clone_all[curr_ind]): 14000\n",
      "ic| len(clone_all): 3\n"
     ]
    },
    {
     "name": "stdout",
     "output_type": "stream",
     "text": [
      "Number of groups below p-val significance: 0\n",
      "Number of groups below p-val significance: 0\n",
      "clone all\n",
      "axs 1\n",
      "curr_thresh 0.0\n",
      "curr_thresh 0.0\n",
      "curr_thresh 0.0\n"
     ]
    },
    {
     "data": {
      "image/png": "[encoded data removed]",
      "text/plain": [
       "<Figure size 720x720 with 4 Axes>"
      ]
     },
     "metadata": {
      "needs_background": "light"
     },
     "output_type": "display_data"
    },
    {
     "data": {
      "image/png": "[encoded data removed]",
      "text/plain": [
       "<Figure size 432x288 with 1 Axes>"
      ]
     },
     "metadata": {
      "needs_background": "light"
     },
     "output_type": "display_data"
    },
    {
     "data": {
      "image/png": "[encoded data removed]",
      "text/plain": [
       "<Figure size 432x288 with 1 Axes>"
      ]
     },
     "metadata": {
      "needs_background": "light"
     },
     "output_type": "display_data"
    },
    {
     "data": {
      "image/png": "[encoded data removed]",
      "text/plain": [
       "<Figure size 864x864 with 4 Axes>"
      ]
     },
     "metadata": {
      "needs_background": "light"
     },
     "output_type": "display_data"
    },
    {
     "data": {
      "image/png": "[encoded data removed]",
      "text/plain": [
       "<Figure size 864x216 with 3 Axes>"
      ]
     },
     "metadata": {
      "needs_background": "light"
     },
     "output_type": "display_data"
    },
    {
     "data": {
      "image/png": "[encoded data removed]",
      "text/plain": [
       "<Figure size 720x720 with 4 Axes>"
      ]
     },
     "metadata": {
      "needs_background": "light"
     },
     "output_type": "display_data"
    },
    {
     "data": {
      "image/png": "[encoded data removed]",
      "text/plain": [
       "<Figure size 720x720 with 4 Axes>"
      ]
     },
     "metadata": {
      "needs_background": "light"
     },
     "output_type": "display_data"
    },
    {
     "data": {
      "image/png": "[encoded data removed]",
      "text/plain": [
       "<Figure size 432x288 with 1 Axes>"
      ]
     },
     "metadata": {
      "needs_background": "light"
     },
     "output_type": "display_data"
    },
    {
     "data": {
      "image/png": "[encoded data removed]",
      "text/plain": [
       "<Figure size 432x288 with 1 Axes>"
      ]
     },
     "metadata": {
      "needs_background": "light"
     },
     "output_type": "display_data"
    },
    {
     "data": {
      "image/png": "[encoded data removed]",
      "text/plain": [
       "<Figure size 864x864 with 4 Axes>"
      ]
     },
     "metadata": {
      "needs_background": "light"
     },
     "output_type": "display_data"
    },
    {
     "data": {
      "image/png": "[encoded data removed]",
      "text/plain": [
       "<Figure size 864x216 with 3 Axes>"
      ]
     },
     "metadata": {
      "needs_background": "light"
     },
     "output_type": "display_data"
    },
    {
     "data": {
      "image/png": "[encoded data removed]",
      "text/plain": [
       "<Figure size 720x720 with 4 Axes>"
      ]
     },
     "metadata": {
      "needs_background": "light"
     },
     "output_type": "display_data"
    }
   ],
   "source": [
    "for d, val in cells_meta.groupby(\"donor\"):\n",
    "    curr_groups = val.groupby([atac_col, clone_col]).size().reset_index().rename({0:\"count\"}, axis=1)\n",
    "    curr_groups\n",
    "    curr_sizes = val.groupby(clone_col).size().sort_values(ascending=False)\n",
    "    curr_name_cond_size = val.groupby([clone_col]).size()\n",
    "    curr_name_cond_size = curr_name_cond_size[curr_name_cond_size>min_clone_size]\n",
    "    curr_clones_filt = curr_name_cond_size.index \n",
    "    curr_sizes = curr_sizes.loc[curr_clones_filt].sort_values(ascending=False)\n",
    "    \n",
    "    curr_clones = np.unique(curr_groups[clone_col])\n",
    "    curr_clone_map = {x:ind for ind,x in enumerate(curr_clones)}\n",
    "    print(curr_clones)\n",
    "    curr_atac_cl = np.unique(curr_groups[atac_col])\n",
    "    print(curr_atac_cl)\n",
    "\n",
    "    output_df, bh_enrichment_df = cs.pipeline_groups_hypergeo(curr_groups, curr_clones, curr_atac_cl, curr_sizes,\n",
    "                                                             p_thresh=p_thresh, atac_col=atac_col, \n",
    "                                                              clone_col=clone_col)\n",
    "    #cs.pipeline_groups_hypergeo(curr_groups, curr_clones, curr_atac_cl, curr_sizes)\n",
    "\n",
    "    curr_don_out = donor_out[int(d)]\n",
    "    bh_enrichment_df.to_csv(join(curr_don_out, \"hypergeo_input_padjusted.csv\"))\n",
    "    output_df.to_csv(join(curr_don_out, \"hypergeo_input_padjusted_sigOnly.csv\"))\n",
    "    \n",
    "    if output_df.shape[0] == 0:   \n",
    "        g = sns.clustermap(-np.log10(bh_enrichment_df.fillna(1)), \n",
    "                       row_cluster=False)\n",
    "        g.fig.suptitle(\"No groups were significant\")\n",
    "    else:\n",
    "        g = sns.clustermap(-np.log10(bh_enrichment_df.loc[output_df.index].fillna(1)), \n",
    "                       row_cluster=False)\n",
    "    g.ax_heatmap.set(xlabel=\"Cluster ID\")\n",
    "    g.ax_cbar.set(title=\"-log10 p-value\")\n",
    "    plt.savefig(join(curr_don_out, \"hypergeo_input_padjusted_sigOnly.png\"))\n",
    "    \n",
    "    \n",
    "    init_bh_enrichment = cs.create_enrichment(curr_groups, atac_col, clone_col, p_thresh,\n",
    "                                              clones=curr_clones, atac_cl=curr_atac_cl)\n",
    "    \n",
    "    shuffle = cs.shuffle_hypergeo(curr_groups, atac_col, clone_col, p_thresh, curr_clones, curr_atac_cl, \n",
    "                                  n_shuffle=1000, to_parallel=True, n_cpus=24)\n",
    "\n",
    "    out_all,out_min, out_cloneall, out_clonemin = cs.get_out(shuffle, curr_clones, init_bh_enrichment, p_thresh, \n",
    "                                                          curr_clone_map, atac_col, \n",
    "                                                          outdir=join(curr_don_out, \"shuffle\"))\n",
    "    \n",
    "    \n",
    "    # plot just the counts\n",
    "    curr_groups[\"log2_count\"] = np.log2(curr_groups[\"count\"]+1)\n",
    "    g = sns.clustermap(curr_groups.pivot(index=\"cluster_labels\",columns=\"den_clust\", values=\"log2_count\").fillna(0))\n",
    "    plt.gca().set_title(\"log2 ncells\")\n",
    "    plt.savefig(join(curr_don_out, \"ncells.png\"))\n",
    "    "
   ]
  },
  {
   "cell_type": "code",
   "execution_count": 13,
   "id": "6bdb80e7",
   "metadata": {},
   "outputs": [
    {
     "data": {
      "text/plain": [
       "(1000, 3, 14)"
      ]
     },
     "execution_count": 13,
     "metadata": {},
     "output_type": "execute_result"
    }
   ],
   "source": [
    "shuffle.shape"
   ]
  },
  {
   "cell_type": "code",
   "execution_count": null,
   "id": "fa7312ce",
   "metadata": {},
   "outputs": [],
   "source": []
  },
  {
   "cell_type": "markdown",
   "id": "3ad11111",
   "metadata": {},
   "source": [
    "## B) Run using all donors as background"
   ]
  },
  {
   "cell_type": "code",
   "execution_count": 14,
   "id": "d670ce3e",
   "metadata": {
    "scrolled": false
   },
   "outputs": [
    {
     "name": "stderr",
     "output_type": "stream",
     "text": [
      "ic| len(global_min): 1000\n",
      "ic| len(clone_min): 6\n",
      "ic| len(clone_min): 6\n",
      "ic| len(clone_all[curr_ind]): 14000\n",
      "ic| len(clone_all[curr_ind]): 14000\n",
      "ic| len(clone_all[curr_ind]): 14000\n",
      "ic| len(clone_all[curr_ind]): 14000\n",
      "ic| len(clone_all[curr_ind]): 14000\n",
      "ic| len(clone_all[curr_ind]): 14000\n",
      "ic| len(clone_all): 6\n"
     ]
    },
    {
     "name": "stdout",
     "output_type": "stream",
     "text": [
      "Number of groups below p-val significance: 0\n",
      "Number of groups below p-val significance: 0\n",
      "clone all\n",
      "axs 2\n",
      "curr_thresh 3.148486599640748826e-11\n",
      "curr_thresh 0.0\n",
      "curr_thresh 1.4254597502372235676e-11\n",
      "curr_thresh 0.0\n",
      "curr_thresh 0.0\n",
      "curr_thresh 0.0\n"
     ]
    },
    {
     "data": {
      "image/png": "[encoded data removed]",
      "text/plain": [
       "<Figure size 720x720 with 4 Axes>"
      ]
     },
     "metadata": {
      "needs_background": "light"
     },
     "output_type": "display_data"
    },
    {
     "data": {
      "image/png": "[encoded data removed]",
      "text/plain": [
       "<Figure size 432x288 with 1 Axes>"
      ]
     },
     "metadata": {
      "needs_background": "light"
     },
     "output_type": "display_data"
    },
    {
     "data": {
      "image/png": "[encoded data removed]",
      "text/plain": [
       "<Figure size 432x288 with 1 Axes>"
      ]
     },
     "metadata": {
      "needs_background": "light"
     },
     "output_type": "display_data"
    },
    {
     "data": {
      "image/png": "[encoded data removed]",
      "text/plain": [
       "<Figure size 864x864 with 8 Axes>"
      ]
     },
     "metadata": {
      "needs_background": "light"
     },
     "output_type": "display_data"
    },
    {
     "data": {
      "image/png": "[encoded data removed]",
      "text/plain": [
       "<Figure size 864x432 with 6 Axes>"
      ]
     },
     "metadata": {
      "needs_background": "light"
     },
     "output_type": "display_data"
    }
   ],
   "source": [
    "sizes = cells_meta.groupby(clone_col).size().sort_values(ascending=False)\n",
    "name_cond_size = cells_meta.groupby([clone_col]).size()\n",
    "name_cond_size = name_cond_size[name_cond_size>min_clone_size]\n",
    "clones_filt = name_cond_size.index \n",
    "\n",
    "sizes = sizes.loc[clones_filt].sort_values(ascending=False)\n",
    "clones_filt\n",
    "\n",
    "groups = cells_meta.groupby([atac_col, clone_col]).size().reset_index().rename({0:\"count\"}, axis=1)\n",
    "groups\n",
    "\n",
    "clones = clones_filt.values #np.unique(groups[\"name\"])\n",
    "clone_map = {x:ind for ind,x in enumerate(clones)}\n",
    "\n",
    "atac_cl = np.unique(groups[atac_col])\n",
    "atac_cl\n",
    "\n",
    "output_df, bh_enrichment_df = cs.pipeline_groups_hypergeo(groups, clones, atac_cl, sizes,p_thresh, atac_col, clone_col)\n",
    "\n",
    "bh_enrichment_df.to_csv(join(all_dir, \"hypergeo_input_padjusted.csv\"))\n",
    "output_df.to_csv(join(all_dir, \"hypergeo_input_padjusted_sigOnly.csv\"))\n",
    "    \n",
    "g = sns.clustermap(-np.log10(bh_enrichment_df.loc[output_df.index].fillna(1)), \n",
    "               row_cluster=False)\n",
    "\n",
    "g.ax_heatmap.set(xlabel=\"Cluster ID\")\n",
    "g.ax_cbar.set(title=\"-log10 p-value\")\n",
    "plt.savefig(join(all_dir, \"hypergeo_input_padjusted_sigOnly.png\"))\n",
    "\n",
    "\n",
    "\n",
    "## Run shuffle\n",
    "init_bh_enrichment = cs.create_enrichment(groups, atac_col, clone_col, p_thresh,\n",
    "                                          clones=clones, atac_cl=atac_cl)\n",
    "\n",
    "shuffle = cs.shuffle_hypergeo(groups, atac_col, clone_col, p_thresh, clones, atac_cl, n_shuffle=1000, \n",
    "                              to_parallel=True, n_cpus=24)\n",
    "\n",
    "out_all,out_min, out_cloneall, out_clonemin = cs.get_out(shuffle, clones, bh_enrichment_df, p_thresh, clone_map, atac_col, \n",
    "                                                      outdir=sim_all_dir)"
   ]
  },
  {
   "cell_type": "code",
   "execution_count": 15,
   "id": "9bce9235",
   "metadata": {},
   "outputs": [
    {
     "data": {
      "text/plain": [
       "{'0_C0': Series([], Name: 0_C0, dtype: bool),\n",
       " '0_C1': Series([], Name: 0_C1, dtype: bool),\n",
       " '0_C2': Series([], Name: 0_C2, dtype: bool),\n",
       " '1_C0': Series([], Name: 1_C0, dtype: bool),\n",
       " '1_C1': Series([], Name: 1_C1, dtype: bool),\n",
       " '1_C2': Series([], Name: 1_C2, dtype: bool)}"
      ]
     },
     "execution_count": 15,
     "metadata": {},
     "output_type": "execute_result"
    }
   ],
   "source": [
    "out_cloneall"
   ]
  },
  {
   "cell_type": "code",
   "execution_count": 16,
   "id": "2d190da2",
   "metadata": {},
   "outputs": [
    {
     "data": {
      "text/plain": [
       "{'0_C0': Series([], Name: 0_C0, dtype: bool),\n",
       " '0_C1': Series([], Name: 0_C1, dtype: bool),\n",
       " '0_C2': Series([], Name: 0_C2, dtype: bool),\n",
       " '1_C0': Series([], Name: 1_C0, dtype: bool),\n",
       " '1_C1': Series([], Name: 1_C1, dtype: bool),\n",
       " '1_C2': Series([], Name: 1_C2, dtype: bool)}"
      ]
     },
     "execution_count": 16,
     "metadata": {},
     "output_type": "execute_result"
    }
   ],
   "source": [
    "out_clonemin"
   ]
  },
  {
   "cell_type": "code",
   "execution_count": 17,
   "id": "51d575f1",
   "metadata": {},
   "outputs": [
    {
     "data": {
      "text/html": [
       "<div>\n",
       "<style scoped>\n",
       "    .dataframe tbody tr th:only-of-type {\n",
       "        vertical-align: middle;\n",
       "    }\n",
       "\n",
       "    .dataframe tbody tr th {\n",
       "        vertical-align: top;\n",
       "    }\n",
       "\n",
       "    .dataframe thead th {\n",
       "        text-align: right;\n",
       "    }\n",
       "</style>\n",
       "<table border=\"1\" class=\"dataframe\">\n",
       "  <thead>\n",
       "    <tr style=\"text-align: right;\">\n",
       "      <th></th>\n",
       "      <th>level_0</th>\n",
       "      <th>cluster_labels</th>\n",
       "      <th>p_val</th>\n",
       "    </tr>\n",
       "  </thead>\n",
       "  <tbody>\n",
       "  </tbody>\n",
       "</table>\n",
       "</div>"
      ],
      "text/plain": [
       "Empty DataFrame\n",
       "Columns: [level_0, cluster_labels, p_val]\n",
       "Index: []"
      ]
     },
     "execution_count": 17,
     "metadata": {},
     "output_type": "execute_result"
    }
   ],
   "source": [
    "out_min[0]"
   ]
  },
  {
   "cell_type": "code",
   "execution_count": 18,
   "id": "87f042fe",
   "metadata": {},
   "outputs": [
    {
     "data": {
      "text/plain": [
       "(Empty DataFrame\n",
       " Columns: [level_0, cluster_labels, p_val]\n",
       " Index: [],\n",
       " 0.0)"
      ]
     },
     "execution_count": 18,
     "metadata": {},
     "output_type": "execute_result"
    }
   ],
   "source": [
    "out_all"
   ]
  },
  {
   "cell_type": "code",
   "execution_count": 19,
   "id": "955a16e6",
   "metadata": {},
   "outputs": [],
   "source": [
    "# global_min, clone_min, global_all, clone_all = cs.get_shuffle_results(shuffle, clones)\n",
    "\n",
    "# out_all = plot_glob_all(global_all, bh_enrichment_df, p_thresh, out_f=None)\n",
    "# plot_glob_min(bh_enrichment_df, global_min,p_thresh, out_f=None)\n",
    "# plot_clone_min(bh_enrichment_df, clone_min, out_f=None)\n",
    "# plot_clone_all(clone_all, bh_enrichment_df, p_thresh, out_f=None)"
   ]
  },
  {
   "cell_type": "code",
   "execution_count": 20,
   "id": "efb631db",
   "metadata": {},
   "outputs": [],
   "source": [
    "\n",
    "# def get_shuffle_results(shuffle, clones):\n",
    "#     # a. Get the min for each run\n",
    "#     # b. Get the min for each clone\n",
    "#     # c. Get all values across all runs\n",
    "#     # d. Get all values for each clone separatelyt\n",
    "\n",
    "#     global_min = [i.min().min() for i in shuffle]\n",
    "#     ic(len(global_min))\n",
    "#     clone_min = {}\n",
    "#     for curr_ind in clones.values:\n",
    "#         clone_min[curr_ind] = [i[clone_map[curr_ind]].min() for i in shuffle]\n",
    "#     ic(len(clone_min))\n",
    "\n",
    "\n",
    "#     clone_min = {}\n",
    "#     for curr_ind in clones.values:\n",
    "#         clone_min[curr_ind] = [i[clone_map[curr_ind]].min() for i in shuffle]\n",
    "#     ic(len(clone_min))\n",
    "\n",
    "\n",
    "#     global_all=[]\n",
    "#     for i in shuffle:\n",
    "#         global_all.extend(i.flatten()) \n",
    "#     len(global_all)\n",
    "\n",
    "#     clone_all={}\n",
    "#     for curr_ind in clones.values:\n",
    "#         clone_all[curr_ind] = []\n",
    "#         for i in shuffle:\n",
    "#             clone_all[curr_ind].extend(i[clone_map[curr_ind]])\n",
    "#     ic(len(clone_all))\n",
    "#     ic(len(clone_all[curr_ind]))\n",
    "\n",
    "#     return global_min, clone_min, global_all, clone_all\n",
    "\n",
    "\n",
    "# def plot_glob_all(global_all, bh_enrichment_df, p_thresh, out_f=None):\n",
    "#     p_thresh = 0.1\n",
    "#     curr_thresh = np.percentile(global_all, 100*p_thresh)\n",
    "#     f,ax = plt.subplots()\n",
    "#     sns.histplot(global_all, ax=ax,stat='probability')\n",
    "#     sns.histplot(bh_enrichment_df.values.flatten(), color=\"green\", stat='probability', alpha=0.4, ax=ax)\n",
    "#     plt.axvline(curr_thresh, color='r')\n",
    "#     group_vs_shuffle = bh_enrichment_df[bh_enrichment_df<curr_thresh]\n",
    "#     sig_pairs = group_vs_shuffle.stack().reset_index().rename({\"level_1\":atac_col, 0:\"p_val\"}, axis=1)\n",
    "#     print(f\"Number of groups below p-val significance: {(sig_pairs.shape[0])}\")\n",
    "#     plt.title(\"p-value across all simulations\")\n",
    "#     sig_pairs = sig_pairs.sort_values(\"p_val\")\n",
    "#     if out_f is not None:\n",
    "#         plt.savefig(out_f)\n",
    "#     return sig_pairs, curr_thresh\n",
    "\n",
    "# def plot_glob_min(bh_enrichment_df, global_min,p_thresh, out_f=None):\n",
    "#     curr_thresh = np.percentile(global_min, 100*p_thresh)\n",
    "#     f,ax = plt.subplots()\n",
    "#     sns.histplot(global_min, ax=ax,stat='probability')\n",
    "#     sns.histplot(bh_enrichment_df.values.flatten(), color=\"green\", stat='probability', alpha=0.4, ax=ax)\n",
    "#     plt.axvline(curr_thresh, color='r')\n",
    "#     plt.title(\"Minimum p-value for all simulations\")\n",
    "#     group_vs_shuffle = bh_enrichment_df[bh_enrichment_df<curr_thresh]\n",
    "#     sig_pairs = group_vs_shuffle.stack().reset_index().rename({\"level_1\":atac_col, 0:\"p_val\"}, axis=1)\n",
    "#     print(f\"Number of groups below p-val significance: {(sig_pairs.shape[0])}\")\n",
    "#     sig_pairs = sig_pairs.sort_values(\"p_val\")\n",
    "\n",
    "#     sig_pairs\n",
    "#     if out_f is not None:\n",
    "#         plt.savefig(out_f)\n",
    "#     return sig_pairs, curr_thresh\n",
    "\n",
    "\n",
    "\n",
    "# def plot_clone_all(clone_all, bh_enrichment_df, p_thresh, out_f=None):\n",
    "#     f, axs = plt.subplots(nrows=int(np.ceil(bh_enrichment_df.shape[0]/4)), ncols=4, figsize=(12,12), \n",
    "#                           sharex=False, sharey=False)\n",
    "\n",
    "#     clone_min_sig = {}\n",
    "#     for i, ind in enumerate(bh_enrichment_df.index):\n",
    "#         curr_row, curr_col = int(np.floor(i/4)), i%4\n",
    "#         data = clone_all[ind]\n",
    "#         curr_thresh = np.percentile(clone_all[ind], 100*p_thresh)\n",
    "#         group_vs_shuffle = bh_enrichment_df.loc[ind]<curr_thresh\n",
    "#         sig_pairs = group_vs_shuffle[group_vs_shuffle] #.stack().reset_index().rename({\"level_1\":atac_col, 0:\"p_val\"}, axis=1)\n",
    "#         #sig_pairs = sig_pairs.sort_values(\"p_val\")\n",
    "#     #     sig_pairs\n",
    "#         clone_min_sig[ind] = sig_pairs\n",
    "\n",
    "#         sns.histplot(data=data, stat='probability', color='blue', ax=axs[curr_row,curr_col])\n",
    "#         sns.histplot(bh_enrichment_df.loc[ind],stat='probability', color='green', alpha=0.05, ax=axs[curr_row,curr_col])\n",
    "#         #sns.histplot(data=real_df.loc[data[\"variable\"][0]], x='value',stat='probability', color='green', alpha=0.05)\n",
    "#         plt.xlabel(\"P-value\")\n",
    "#         #print(real_df.loc[data[\"variable\"][0]])\n",
    "#         #plt.title(ind)\n",
    "#         print('curr_thresh', curr_thresh)\n",
    "#         axs[curr_row,curr_col].axvline(curr_thresh, color='r')\n",
    "\n",
    "#     f.tight_layout()\n",
    "#     if out_f is not None:\n",
    "#         plt.savefig(out_f)\n",
    "#     return clone_min_sig\n",
    "\n",
    "\n",
    "# def plot_clone_min(bh_enrichment_df, clone_min, out_f=None):\n",
    "#     clone_min_sig = {}\n",
    "\n",
    "#     g = sns.FacetGrid(pd.DataFrame(clone_min).melt(), col=\"variable\", col_wrap=4, sharex=False, sharey=False)\n",
    "#     g.map_dataframe(sns.histplot, x=\"value\", stat='probability', color='blue', alpha=0.6)\n",
    "\n",
    "#     if out_f is not None:\n",
    "#         plt.savefig(out_f)\n",
    "        \n",
    "        \n",
    "#     for i, ind in enumerate(bh_enrichment_df.index):\n",
    "#         data = clone_min[ind]\n",
    "#         curr_thresh = np.percentile(clone_min[ind], 100*p_thresh)\n",
    "#         group_vs_shuffle = bh_enrichment_df.loc[ind]<curr_thresh\n",
    "#         sig_pairs = group_vs_shuffle[group_vs_shuffle] \n",
    "#         clone_min_sig[ind] = sig_pairs\n",
    "#         g.axes_dict[ind].axvline(curr_thresh, color='red', linewidth=4)\n",
    "#         sns.histplot(bh_enrichment_df.loc[ind], stat='probability', color='green', alpha=0.4, ax=g.axes_dict[ind])\n",
    "#     return clone_min_sig\n"
   ]
  },
  {
   "cell_type": "code",
   "execution_count": 21,
   "id": "bf80e374",
   "metadata": {},
   "outputs": [],
   "source": [
    "# def wrap_out():\n",
    "#     out_glob_all = plot_glob_all(global_all, bh_enrichment_df, p_thresh, out_f=None)\n",
    "#     out_glob_min =plot_glob_min(bh_enrichment_df, global_min,p_thresh, out_f=None)\n",
    "#     out_clone_all =plot_clone_all(clone_all, bh_enrichment_df, p_thresh, out_f=None)\n",
    "#     out_clone_min =plot_clone_min(bh_enrichment_df, clone_min, out_f=None)\n",
    "#     return"
   ]
  },
  {
   "cell_type": "code",
   "execution_count": 22,
   "id": "81d7fc31",
   "metadata": {
    "scrolled": true
   },
   "outputs": [],
   "source": [
    "# def plot_overlay_hist(*args, **kwargs):\n",
    "#     data = kwargs.pop(\"data\").reset_index()\n",
    "#     real_df = args[0]\n",
    "#     #print(data.head())\n",
    "#     #print('var', data[\"variable\"][0])\n",
    "#     #print(real_df.loc[data[\"variable\"][0]])\n",
    "#     #print('real_df', real_df)\n",
    "#     #print(real_df.loc[data[\"variable\"][0]])\n",
    "#     ax = plt.gca()\n",
    "#     sns.histplot(data=data,x=\"value\", stat='probability', color='blue', ax=ax)\n",
    "#     sns.histplot(real_df.loc[data[\"variable\"][0]],stat='probability', color='green', alpha=0.05, ax=ax)\n",
    "#     #sns.histplot(data=real_df.loc[data[\"variable\"][0]], x='value',stat='probability', color='green', alpha=0.05)\n",
    "#     plt.xlabel(\"P-value\")\n",
    "#     #print(real_df.loc[data[\"variable\"][0]])\n",
    "#     plt.title(data[\"variable\"][0])\n",
    "#     return\n",
    "    \n",
    "# ## clone_all\n",
    "# g = sns.FacetGrid(pd.DataFrame(clone_all).melt(), col=\"variable\", col_wrap=4, sharex=False, sharey=False)\n",
    "# #g.map_dataframe(sns.histplot, x=\"value\", stat='probability', color='blue')\n",
    "# g.map_dataframe(plot_overlay_hist, bh_enrichment_df)"
   ]
  },
  {
   "cell_type": "markdown",
   "id": "451f2162",
   "metadata": {},
   "source": [
    "## no parallel"
   ]
  },
  {
   "cell_type": "code",
   "execution_count": 23,
   "id": "81fa35c1",
   "metadata": {
    "scrolled": true
   },
   "outputs": [],
   "source": [
    "# shuffle = cs.shuffle_hypergeo(groups, atac_col, clone_col, p_thresh, clones, atac_cl, n_shuffle=100)\n",
    "\n",
    "# ## a. Get the min for each run\n",
    "# ## b. Get the \n",
    "# global_min = [i.min().min() for i in shuffle]\n",
    "# ic(len(global_min))\n",
    "# clone_min = [i.min(axis=1) for i in shuffle]\n",
    "# ic(len(clone_min))\n",
    "\n",
    "# clone_all={}\n",
    "# for curr_ind in shuffle[0].index:\n",
    "#     clone_all[curr_ind] = []\n",
    "#     for i in shuffle:\n",
    "#         clone_all[curr_ind].extend(list(i.loc[curr_ind].values))\n",
    "# ic(len(clone_all))\n",
    "# ic(len(clone_all[0]))\n",
    "\n",
    "# global_all=[]\n",
    "# for i in shuffle:\n",
    "#     global_all.extend(i.values.flatten()) \n",
    "# len(global_all)"
   ]
  },
  {
   "cell_type": "code",
   "execution_count": 24,
   "id": "2a3fdada",
   "metadata": {
    "scrolled": true
   },
   "outputs": [],
   "source": [
    "# output_df, bh_enrichment_df = pipeline_groups_hypergeo(groups, clones, atac_cl, sizes)\n",
    "\n",
    "# g = sns.clustermap(-np.log10(bh_enrichment_df.loc[output_df.index].fillna(1)), \n",
    "#                row_cluster=False)\n",
    "# g.ax_heatmap.set(xlabel=\"Cluster ID\")\n",
    "# g.ax_cbar.set(title=\"-log10 p-value\")"
   ]
  }
 ],
 "metadata": {
  "celltoolbar": "Tags",
  "kernelspec": {
   "display_name": "Python 3 (ipykernel)",
   "language": "python",
   "name": "python3"
  },
  "language_info": {
   "codemirror_mode": {
    "name": "ipython",
    "version": 3
   },
   "file_extension": ".py",
   "mimetype": "text/x-python",
   "name": "python",
   "nbconvert_exporter": "python",
   "pygments_lexer": "ipython3",
   "version": "3.7.12"
  }
 },
 "nbformat": 4,
 "nbformat_minor": 5
}
