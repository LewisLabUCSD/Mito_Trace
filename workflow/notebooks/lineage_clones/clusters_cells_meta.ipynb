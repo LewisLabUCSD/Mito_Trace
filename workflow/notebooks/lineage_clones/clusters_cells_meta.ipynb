{
 "cells": [
  {
   "cell_type": "markdown",
   "id": "223d6f46",
   "metadata": {},
   "source": [
    "## Runs DE on different clusters. Also runs DE within each cluster for each condition.\n",
    "Does this over each donor and combined"
   ]
  },
  {
   "cell_type": "code",
   "execution_count": 1,
   "id": "235ae72f",
   "metadata": {
    "tags": [
     "parameters"
    ]
   },
   "outputs": [],
   "source": [
    "#se_f = \"/data/Mito_Trace/output/pipeline/v02/TcellDupi_may17_2021/MTblacklist/data/merged/MT/cellr_True/numread_200/filters/minC10_minR50_topN0_hetT0.001_hetC10_hetCount5_bq20/mgatk/vireoIn/clones/variants_init/knn/kparam_3/gff_hg38_1_2/annotation_clones/SE.rds\"\n",
    "se_f = \"/data/Mito_Trace/output/pipeline/v02/CHIP_b2/InputOnly/MTBlacklist_A2/data/merged/MT/cellr_True/numread_200/filters/minC10_minR50_topN0_hetT0.001_hetC10_hetCount5_bq20/mgatk/vireoIn/clones/variants_simpleUnion/knn/kparam_30/gff_A2_black/annotation_clones/SE.rds\"\n"
   ]
  },
  {
   "cell_type": "code",
   "execution_count": 2,
   "id": "7cc056e3",
   "metadata": {
    "scrolled": true
   },
   "outputs": [
    {
     "name": "stderr",
     "output_type": "stream",
     "text": [
      "Loading required package: SeuratObject\n",
      "\n",
      "Warning message:\n",
      "“package ‘SeuratObject’ was built under R version 4.1.3”\n",
      "Attaching sp\n",
      "\n",
      "Loading required package: Signac\n",
      "\n",
      "Registered S3 method overwritten by 'spatstat.core':\n",
      "  method          from\n",
      "  formula.glmmPQL MASS\n",
      "\n"
     ]
    },
    {
     "data": {
      "text/plain": [
       "An object of class Seurat \n",
       "112098 features across 4657 samples within 2 assays \n",
       "Active assay: RNA (19039 features, 0 variable features)\n",
       " 1 other assay present: ATAC\n",
       " 2 dimensional reductions calculated: lsi, umap"
      ]
     },
     "metadata": {},
     "output_type": "display_data"
    }
   ],
   "source": [
    "se <- readRDS(se_f)#file.path(indir, paste0(\"allSamples.integrated.rds\")))\n",
    "se"
   ]
  },
  {
   "cell_type": "code",
   "execution_count": 3,
   "id": "6a62960d",
   "metadata": {},
   "outputs": [
    {
     "data": {
      "text/html": [
       "<style>\n",
       ".list-inline {list-style: none; margin:0; padding: 0}\n",
       ".list-inline>li {display: inline-block}\n",
       ".list-inline>li:not(:last-child)::after {content: \"\\00b7\"; padding: 0 .5ex}\n",
       "</style>\n",
       "<ol class=list-inline><li>'orig.ident'</li><li>'nCount_ATAC'</li><li>'nFeature_ATAC'</li><li>'total'</li><li>'duplicate'</li><li>'chimeric'</li><li>'unmapped'</li><li>'lowmapq'</li><li>'mitochondrial'</li><li>'passed_filters'</li><li>'cell_id'</li><li>'is__cell_barcode'</li><li>'TSS_fragments'</li><li>'DNase_sensitive_region_fragments'</li><li>'enhancer_region_fragments'</li><li>'promoter_region_fragments'</li><li>'on_target_fragments'</li><li>'blacklist_region_fragments'</li><li>'peak_region_fragments'</li><li>'peak_region_cutsites'</li><li>'proj'</li><li>'nucleosome_signal'</li><li>'nucleosome_percentile'</li><li>'TSS.enrichment'</li><li>'TSS.percentile'</li><li>'pct_reads_in_peaks'</li><li>'blacklist_ratio'</li><li>'high.tss'</li><li>'nucleosome_group'</li><li>'ATAC_snn_res.0.8'</li><li>'seurat_clusters'</li><li>'nCount_RNA'</li><li>'nFeature_RNA'</li><li>'ID'</li><li>'Row.names'</li><li>'lineage'</li><li>'donor'</li><li>'condition'</li><li>'name'</li></ol>\n"
      ],
      "text/latex": [
       "\\begin{enumerate*}\n",
       "\\item 'orig.ident'\n",
       "\\item 'nCount\\_ATAC'\n",
       "\\item 'nFeature\\_ATAC'\n",
       "\\item 'total'\n",
       "\\item 'duplicate'\n",
       "\\item 'chimeric'\n",
       "\\item 'unmapped'\n",
       "\\item 'lowmapq'\n",
       "\\item 'mitochondrial'\n",
       "\\item 'passed\\_filters'\n",
       "\\item 'cell\\_id'\n",
       "\\item 'is\\_\\_cell\\_barcode'\n",
       "\\item 'TSS\\_fragments'\n",
       "\\item 'DNase\\_sensitive\\_region\\_fragments'\n",
       "\\item 'enhancer\\_region\\_fragments'\n",
       "\\item 'promoter\\_region\\_fragments'\n",
       "\\item 'on\\_target\\_fragments'\n",
       "\\item 'blacklist\\_region\\_fragments'\n",
       "\\item 'peak\\_region\\_fragments'\n",
       "\\item 'peak\\_region\\_cutsites'\n",
       "\\item 'proj'\n",
       "\\item 'nucleosome\\_signal'\n",
       "\\item 'nucleosome\\_percentile'\n",
       "\\item 'TSS.enrichment'\n",
       "\\item 'TSS.percentile'\n",
       "\\item 'pct\\_reads\\_in\\_peaks'\n",
       "\\item 'blacklist\\_ratio'\n",
       "\\item 'high.tss'\n",
       "\\item 'nucleosome\\_group'\n",
       "\\item 'ATAC\\_snn\\_res.0.8'\n",
       "\\item 'seurat\\_clusters'\n",
       "\\item 'nCount\\_RNA'\n",
       "\\item 'nFeature\\_RNA'\n",
       "\\item 'ID'\n",
       "\\item 'Row.names'\n",
       "\\item 'lineage'\n",
       "\\item 'donor'\n",
       "\\item 'condition'\n",
       "\\item 'name'\n",
       "\\end{enumerate*}\n"
      ],
      "text/markdown": [
       "1. 'orig.ident'\n",
       "2. 'nCount_ATAC'\n",
       "3. 'nFeature_ATAC'\n",
       "4. 'total'\n",
       "5. 'duplicate'\n",
       "6. 'chimeric'\n",
       "7. 'unmapped'\n",
       "8. 'lowmapq'\n",
       "9. 'mitochondrial'\n",
       "10. 'passed_filters'\n",
       "11. 'cell_id'\n",
       "12. 'is__cell_barcode'\n",
       "13. 'TSS_fragments'\n",
       "14. 'DNase_sensitive_region_fragments'\n",
       "15. 'enhancer_region_fragments'\n",
       "16. 'promoter_region_fragments'\n",
       "17. 'on_target_fragments'\n",
       "18. 'blacklist_region_fragments'\n",
       "19. 'peak_region_fragments'\n",
       "20. 'peak_region_cutsites'\n",
       "21. 'proj'\n",
       "22. 'nucleosome_signal'\n",
       "23. 'nucleosome_percentile'\n",
       "24. 'TSS.enrichment'\n",
       "25. 'TSS.percentile'\n",
       "26. 'pct_reads_in_peaks'\n",
       "27. 'blacklist_ratio'\n",
       "28. 'high.tss'\n",
       "29. 'nucleosome_group'\n",
       "30. 'ATAC_snn_res.0.8'\n",
       "31. 'seurat_clusters'\n",
       "32. 'nCount_RNA'\n",
       "33. 'nFeature_RNA'\n",
       "34. 'ID'\n",
       "35. 'Row.names'\n",
       "36. 'lineage'\n",
       "37. 'donor'\n",
       "38. 'condition'\n",
       "39. 'name'\n",
       "\n",
       "\n"
      ],
      "text/plain": [
       " [1] \"orig.ident\"                       \"nCount_ATAC\"                     \n",
       " [3] \"nFeature_ATAC\"                    \"total\"                           \n",
       " [5] \"duplicate\"                        \"chimeric\"                        \n",
       " [7] \"unmapped\"                         \"lowmapq\"                         \n",
       " [9] \"mitochondrial\"                    \"passed_filters\"                  \n",
       "[11] \"cell_id\"                          \"is__cell_barcode\"                \n",
       "[13] \"TSS_fragments\"                    \"DNase_sensitive_region_fragments\"\n",
       "[15] \"enhancer_region_fragments\"        \"promoter_region_fragments\"       \n",
       "[17] \"on_target_fragments\"              \"blacklist_region_fragments\"      \n",
       "[19] \"peak_region_fragments\"            \"peak_region_cutsites\"            \n",
       "[21] \"proj\"                             \"nucleosome_signal\"               \n",
       "[23] \"nucleosome_percentile\"            \"TSS.enrichment\"                  \n",
       "[25] \"TSS.percentile\"                   \"pct_reads_in_peaks\"              \n",
       "[27] \"blacklist_ratio\"                  \"high.tss\"                        \n",
       "[29] \"nucleosome_group\"                 \"ATAC_snn_res.0.8\"                \n",
       "[31] \"seurat_clusters\"                  \"nCount_RNA\"                      \n",
       "[33] \"nFeature_RNA\"                     \"ID\"                              \n",
       "[35] \"Row.names\"                        \"lineage\"                         \n",
       "[37] \"donor\"                            \"condition\"                       \n",
       "[39] \"name\"                            "
      ]
     },
     "metadata": {},
     "output_type": "display_data"
    }
   ],
   "source": [
    "colnames(se[[]])"
   ]
  },
  {
   "cell_type": "code",
   "execution_count": 6,
   "id": "f332d4ea",
   "metadata": {},
   "outputs": [],
   "source": [
    "`%notin%` <- Negate(`%in%`)\n",
    "if (\"ID\" %notin% colnames(se[[]])){\n",
    "  print(\"adding ID\")\n",
    "  se$ID <- apply(stringr::str_split((rownames(se[[]])), \"_\", simplify=T)[,1:2], 1, function(x) {paste0(x[[1]],  \"_\", x[[2]])})\n",
    "}\n",
    "#se <- RenameCells(se, new.names=se$ID)\n"
   ]
  },
  {
   "cell_type": "code",
   "execution_count": null,
   "id": "5d5a47f9",
   "metadata": {},
   "outputs": [],
   "source": [
    "write.table(se[[]],file=file.path(dirname(se_f), \"se_cells_meta.tsv\"), sep = \"\\t\", quote=FALSE)"
   ]
  },
  {
   "cell_type": "code",
   "execution_count": null,
   "id": "c0daa6c8",
   "metadata": {
    "scrolled": true
   },
   "outputs": [],
   "source": [
    "sessionInfo()"
   ]
  },
  {
   "cell_type": "code",
   "execution_count": null,
   "id": "2c0d478b",
   "metadata": {},
   "outputs": [],
   "source": []
  }
 ],
 "metadata": {
  "celltoolbar": "Tags",
  "kernelspec": {
   "display_name": "R",
   "language": "R",
   "name": "ir"
  },
  "language_info": {
   "codemirror_mode": "r",
   "file_extension": ".r",
   "mimetype": "text/x-r-source",
   "name": "R",
   "pygments_lexer": "r",
   "version": "4.1.1"
  }
 },
 "nbformat": 4,
 "nbformat_minor": 5
}
