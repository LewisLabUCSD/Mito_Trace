{
 "cells": [
  {
   "cell_type": "code",
   "execution_count": 2,
   "id": "4246cc89",
   "metadata": {
    "tags": [
     "parameters"
    ]
   },
   "outputs": [],
   "source": [
    "se_f = \"/data/Mito_Trace/output/pipeline/CHIP_b1/MTBlacklist_A2/data/merged/MT/cellr_True/numread_200/filters/minC10_minR50_topN0_hetT0.001_hetC10_hetCount5_bq20/mgatk/vireoIn/clones/variants_init/knn/kparam_3/concat/gff_A2_black/annotation_clones/SE.rds\"\n",
    "aggr_in = \"/data/Mito_Trace/output/pipeline/CHIP_b1/MTBlacklist_A2/data/merged/MT/cellr_True/numread_200/filters/minC10_minR50_topN0_hetT0.001_hetC10_hetCount5_bq20/mgatk/vireoIn/clones/variants_init/knn/kparam_3/concat/gff_A2_black/annotation_clones/aggregate_clone_meta\"\n",
    "outdir = \"/data/Mito_Trace/output/pipeline/CHIP_b1/MTBlacklist_A2/data/merged/MT/cellr_True/numread_200/filters/minC10_minR50_topN0_hetT0.001_hetC10_hetCount5_bq20/mgatk/vireoIn/clones/variants_init/knn/kparam_3/concat/gff_A2_black/annotation_clones/input_umap_clones_overlay\""
   ]
  },
  {
   "cell_type": "code",
   "execution_count": 21,
   "id": "c5238cb5",
   "metadata": {},
   "outputs": [
    {
     "name": "stderr",
     "output_type": "stream",
     "text": [
      "Warning message in file(file, \"rt\"):\n",
      "“cannot open file '/data/Mito_Trace/output/pipeline/CHIP_b1/MTBlacklist_A2/data/merged/MT/cellr_True/numread_200/filters/minC10_minR50_topN0_hetT0.001_hetC10_hetCount5_bq20/mgatk/vireoIn/clones/variants_init/knn/kparam_3/concat/gff_A2_black/annotation_clones/aggregate_clone_meta/Input': No such file or directory”\n"
     ]
    },
    {
     "ename": "ERROR",
     "evalue": "Error in file(file, \"rt\"): cannot open the connection\n",
     "output_type": "error",
     "traceback": [
      "Error in file(file, \"rt\"): cannot open the connection\nTraceback:\n",
      "1. read.csv(file.path(aggr_in, \"Input\"))",
      "2. read.table(file = file, header = header, sep = sep, quote = quote, \n .     dec = dec, fill = fill, comment.char = comment.char, ...)",
      "3. file(file, \"rt\")"
     ]
    }
   ],
   "source": [
    "read.csv(file.path(aggr_in, \"Input\"))"
   ]
  },
  {
   "cell_type": "code",
   "execution_count": 3,
   "id": "3bd68851",
   "metadata": {
    "scrolled": true
   },
   "outputs": [
    {
     "name": "stderr",
     "output_type": "stream",
     "text": [
      "Loading required package: SeuratObject\n",
      "\n"
     ]
    },
    {
     "data": {
      "text/html": [
       "<table class=\"dataframe\">\n",
       "<caption>A data.frame: 18672 × 39</caption>\n",
       "<thead>\n",
       "\t<tr><th></th><th scope=col>orig.ident</th><th scope=col>nCount_ATAC</th><th scope=col>nFeature_ATAC</th><th scope=col>total</th><th scope=col>duplicate</th><th scope=col>chimeric</th><th scope=col>unmapped</th><th scope=col>lowmapq</th><th scope=col>mitochondrial</th><th scope=col>passed_filters</th><th scope=col>⋯</th><th scope=col>ATAC_snn_res.0.8</th><th scope=col>seurat_clusters</th><th scope=col>nCount_RNA</th><th scope=col>nFeature_RNA</th><th scope=col>ID</th><th scope=col>Row.names</th><th scope=col>lineage</th><th scope=col>donor</th><th scope=col>condition</th><th scope=col>name</th></tr>\n",
       "\t<tr><th></th><th scope=col>&lt;chr&gt;</th><th scope=col>&lt;dbl&gt;</th><th scope=col>&lt;int&gt;</th><th scope=col>&lt;dbl&gt;</th><th scope=col>&lt;dbl&gt;</th><th scope=col>&lt;dbl&gt;</th><th scope=col>&lt;dbl&gt;</th><th scope=col>&lt;dbl&gt;</th><th scope=col>&lt;dbl&gt;</th><th scope=col>&lt;dbl&gt;</th><th scope=col>⋯</th><th scope=col>&lt;fct&gt;</th><th scope=col>&lt;fct&gt;</th><th scope=col>&lt;dbl&gt;</th><th scope=col>&lt;int&gt;</th><th scope=col>&lt;chr&gt;</th><th scope=col>&lt;I&lt;chr&gt;&gt;</th><th scope=col>&lt;fct&gt;</th><th scope=col>&lt;fct&gt;</th><th scope=col>&lt;fct&gt;</th><th scope=col>&lt;fct&gt;</th></tr>\n",
       "</thead>\n",
       "<tbody>\n",
       "\t<tr><th scope=row>Control_AAACGAAAGAATCAGT-1</th><td>Control</td><td>1972</td><td>1972</td><td> 6432</td><td>1259</td><td> 31</td><td> 19</td><td> 266</td><td>1066</td><td> 3791</td><td>⋯</td><td>6 </td><td>6 </td><td> 2211</td><td>1942</td><td>AAACGAAAGAATCAGT-1_Control</td><td>Control_AAACGAAAGAATCAGT-1</td><td>4   </td><td>1   </td><td>Control</td><td>1_4 </td></tr>\n",
       "\t<tr><th scope=row>Control_AAACGAAAGCATACCT-1</th><td>Control</td><td>2674</td><td>2674</td><td>11858</td><td>1937</td><td> 51</td><td> 34</td><td> 549</td><td>3102</td><td> 6185</td><td>⋯</td><td>7 </td><td>7 </td><td> 3311</td><td>2750</td><td>AAACGAAAGCATACCT-1_Control</td><td>Control_AAACGAAAGCATACCT-1</td><td>30  </td><td>1   </td><td>Control</td><td>1_30</td></tr>\n",
       "\t<tr><th scope=row>Control_AAACGAAAGCGAGAAA-1</th><td>Control</td><td>1939</td><td>1939</td><td> 7365</td><td>1097</td><td> 25</td><td> 27</td><td> 275</td><td>2184</td><td> 3757</td><td>⋯</td><td>7 </td><td>7 </td><td> 2112</td><td>1838</td><td>AAACGAAAGCGAGAAA-1_Control</td><td>Control_AAACGAAAGCGAGAAA-1</td><td>15  </td><td>0   </td><td>Control</td><td>0_15</td></tr>\n",
       "\t<tr><th scope=row>Control_AAACGAAAGTACAGAT-1</th><td>Control</td><td> 862</td><td> 862</td><td> 4095</td><td> 861</td><td> 16</td><td> 16</td><td> 230</td><td> 771</td><td> 2201</td><td>⋯</td><td>4 </td><td>4 </td><td> 1441</td><td>1317</td><td>AAACGAAAGTACAGAT-1_Control</td><td>Control_AAACGAAAGTACAGAT-1</td><td>9   </td><td>0   </td><td>Control</td><td>0_9 </td></tr>\n",
       "\t<tr><th scope=row>Control_AAACGAAAGTACAGTA-1</th><td>Control</td><td>1775</td><td>1775</td><td> 8088</td><td>1091</td><td> 27</td><td> 27</td><td> 369</td><td>2157</td><td> 4417</td><td>⋯</td><td>6 </td><td>6 </td><td> 2385</td><td>2085</td><td>AAACGAAAGTACAGTA-1_Control</td><td>Control_AAACGAAAGTACAGTA-1</td><td>17  </td><td>1   </td><td>Control</td><td>1_17</td></tr>\n",
       "\t<tr><th scope=row>Control_AAACGAAAGTGTCGGA-1</th><td>Control</td><td> 756</td><td> 756</td><td> 3362</td><td> 524</td><td> 15</td><td> 12</td><td> 154</td><td> 836</td><td> 1821</td><td>⋯</td><td>4 </td><td>4 </td><td> 1133</td><td>1068</td><td>AAACGAAAGTGTCGGA-1_Control</td><td>Control_AAACGAAAGTGTCGGA-1</td><td>3   </td><td>1   </td><td>Control</td><td>1_3 </td></tr>\n",
       "\t<tr><th scope=row>Control_AAACGAACACTCGCAG-1</th><td>Control</td><td>1444</td><td>1444</td><td> 6285</td><td> 831</td><td> 22</td><td> 23</td><td> 319</td><td>1872</td><td> 3218</td><td>⋯</td><td>1 </td><td>1 </td><td> 1855</td><td>1658</td><td>AAACGAACACTCGCAG-1_Control</td><td>Control_AAACGAACACTCGCAG-1</td><td>21  </td><td>0   </td><td>Control</td><td>0_21</td></tr>\n",
       "\t<tr><th scope=row>Control_AAACGAAGTCTTAGCA-1</th><td>Control</td><td>1921</td><td>1921</td><td>10456</td><td>1353</td><td> 31</td><td> 23</td><td> 417</td><td>3769</td><td> 4863</td><td>⋯</td><td>4 </td><td>4 </td><td> 2918</td><td>2480</td><td>AAACGAAGTCTTAGCA-1_Control</td><td>Control_AAACGAAGTCTTAGCA-1</td><td>20  </td><td>1   </td><td>Control</td><td>1_20</td></tr>\n",
       "\t<tr><th scope=row>Control_AAACGAAGTGAGGGTT-1</th><td>Control</td><td> 425</td><td> 425</td><td> 1347</td><td> 226</td><td>  5</td><td>  9</td><td>  48</td><td> 307</td><td>  752</td><td>⋯</td><td>9 </td><td>9 </td><td>  439</td><td> 426</td><td>NA                        </td><td>Control_AAACGAAGTGAGGGTT-1</td><td>None</td><td>None</td><td>None   </td><td>None</td></tr>\n",
       "\t<tr><th scope=row>Control_AAACGAATCAGGCGCT-1</th><td>Control</td><td>7347</td><td>7347</td><td>33434</td><td>6309</td><td>129</td><td>123</td><td>1245</td><td>8223</td><td>17405</td><td>⋯</td><td>0 </td><td>0 </td><td>10814</td><td>6456</td><td>AAACGAATCAGGCGCT-1_Control</td><td>Control_AAACGAATCAGGCGCT-1</td><td>24  </td><td>0   </td><td>Control</td><td>0_24</td></tr>\n",
       "\t<tr><th scope=row>Control_AAACGAATCCATCGAA-1</th><td>Control</td><td>3980</td><td>3980</td><td>19085</td><td>3491</td><td> 66</td><td> 37</td><td> 887</td><td>5147</td><td> 9457</td><td>⋯</td><td>7 </td><td>7 </td><td> 5168</td><td>3854</td><td>AAACGAATCCATCGAA-1_Control</td><td>Control_AAACGAATCCATCGAA-1</td><td>13  </td><td>0   </td><td>Control</td><td>0_13</td></tr>\n",
       "\t<tr><th scope=row>Control_AAACGAATCCCACGGA-1</th><td>Control</td><td>2655</td><td>2655</td><td>10468</td><td>1550</td><td> 58</td><td> 37</td><td> 472</td><td>2179</td><td> 6172</td><td>⋯</td><td>7 </td><td>7 </td><td> 3420</td><td>2848</td><td>AAACGAATCCCACGGA-1_Control</td><td>Control_AAACGAATCCCACGGA-1</td><td>3   </td><td>1   </td><td>Control</td><td>1_3 </td></tr>\n",
       "\t<tr><th scope=row>Control_AAACGAATCTCGTAGA-1</th><td>Control</td><td>1487</td><td>1487</td><td> 6532</td><td>1102</td><td> 13</td><td> 23</td><td> 348</td><td>1688</td><td> 3358</td><td>⋯</td><td>4 </td><td>4 </td><td> 2115</td><td>1881</td><td>AAACGAATCTCGTAGA-1_Control</td><td>Control_AAACGAATCTCGTAGA-1</td><td>25  </td><td>0   </td><td>Control</td><td>0_25</td></tr>\n",
       "\t<tr><th scope=row>Control_AAACTCGAGTCTCTAG-1</th><td>Control</td><td>1521</td><td>1521</td><td> 7080</td><td>1150</td><td> 33</td><td> 25</td><td> 380</td><td>1601</td><td> 3891</td><td>⋯</td><td>4 </td><td>4 </td><td> 2249</td><td>2002</td><td>AAACTCGAGTCTCTAG-1_Control</td><td>Control_AAACTCGAGTCTCTAG-1</td><td>20  </td><td>1   </td><td>Control</td><td>1_20</td></tr>\n",
       "\t<tr><th scope=row>Control_AAACTCGAGTGAAGGA-1</th><td>Control</td><td>2323</td><td>2323</td><td> 8492</td><td>1182</td><td> 17</td><td> 16</td><td> 344</td><td>2358</td><td> 4575</td><td>⋯</td><td>10</td><td>10</td><td> 2852</td><td>2432</td><td>AAACTCGAGTGAAGGA-1_Control</td><td>Control_AAACTCGAGTGAAGGA-1</td><td>0   </td><td>0   </td><td>Control</td><td>0_0 </td></tr>\n",
       "\t<tr><th scope=row>Control_AAACTCGCATGCACTA-1</th><td>Control</td><td>4322</td><td>4322</td><td>22421</td><td>3235</td><td> 66</td><td> 75</td><td> 893</td><td>7533</td><td>10619</td><td>⋯</td><td>7 </td><td>7 </td><td> 5835</td><td>4241</td><td>AAACTCGCATGCACTA-1_Control</td><td>Control_AAACTCGCATGCACTA-1</td><td>19  </td><td>0   </td><td>Control</td><td>0_19</td></tr>\n",
       "\t<tr><th scope=row>Control_AAACTCGGTCTCTGGG-1</th><td>Control</td><td>1038</td><td>1038</td><td> 3433</td><td> 636</td><td>  7</td><td> 12</td><td> 172</td><td> 564</td><td> 2042</td><td>⋯</td><td>10</td><td>10</td><td> 1239</td><td>1157</td><td>NA                        </td><td>Control_AAACTCGGTCTCTGGG-1</td><td>None</td><td>None</td><td>None   </td><td>None</td></tr>\n",
       "\t<tr><th scope=row>Control_AAACTCGGTCTGCACG-1</th><td>Control</td><td>2226</td><td>2226</td><td>10751</td><td>1285</td><td> 30</td><td> 36</td><td> 440</td><td>3757</td><td> 5203</td><td>⋯</td><td>1 </td><td>1 </td><td> 3054</td><td>2546</td><td>AAACTCGGTCTGCACG-1_Control</td><td>Control_AAACTCGGTCTGCACG-1</td><td>9   </td><td>1   </td><td>Control</td><td>1_9 </td></tr>\n",
       "\t<tr><th scope=row>Control_AAACTCGGTTGGCTTA-1</th><td>Control</td><td>3507</td><td>3507</td><td>17456</td><td>2829</td><td> 55</td><td> 65</td><td> 754</td><td>5314</td><td> 8439</td><td>⋯</td><td>1 </td><td>1 </td><td> 4501</td><td>3462</td><td>AAACTCGGTTGGCTTA-1_Control</td><td>Control_AAACTCGGTTGGCTTA-1</td><td>26  </td><td>1   </td><td>Control</td><td>1_26</td></tr>\n",
       "\t<tr><th scope=row>Control_AAACTCGTCGGGAAAC-1</th><td>Control</td><td>1727</td><td>1727</td><td> 7197</td><td>1049</td><td> 25</td><td> 19</td><td> 256</td><td>1885</td><td> 3963</td><td>⋯</td><td>8 </td><td>8 </td><td> 2368</td><td>2044</td><td>AAACTCGTCGGGAAAC-1_Control</td><td>Control_AAACTCGTCGGGAAAC-1</td><td>6   </td><td>0   </td><td>Control</td><td>0_6 </td></tr>\n",
       "\t<tr><th scope=row>Control_AAACTCGTCTGCGTCT-1</th><td>Control</td><td>1650</td><td>1650</td><td> 7665</td><td>1178</td><td> 21</td><td> 33</td><td> 300</td><td>2670</td><td> 3463</td><td>⋯</td><td>4 </td><td>4 </td><td> 2172</td><td>1886</td><td>AAACTCGTCTGCGTCT-1_Control</td><td>Control_AAACTCGTCTGCGTCT-1</td><td>1   </td><td>1   </td><td>Control</td><td>1_1 </td></tr>\n",
       "\t<tr><th scope=row>Control_AAACTGCAGCCCATGC-1</th><td>Control</td><td>2478</td><td>2478</td><td>11638</td><td>1560</td><td> 45</td><td> 29</td><td> 503</td><td>3664</td><td> 5837</td><td>⋯</td><td>4 </td><td>4 </td><td> 3542</td><td>2881</td><td>AAACTGCAGCCCATGC-1_Control</td><td>Control_AAACTGCAGCCCATGC-1</td><td>8   </td><td>0   </td><td>Control</td><td>0_8 </td></tr>\n",
       "\t<tr><th scope=row>Control_AAACTGCAGCGTTGCC-1</th><td>Control</td><td>4532</td><td>4532</td><td>17895</td><td>2441</td><td> 73</td><td> 58</td><td> 732</td><td>4266</td><td>10325</td><td>⋯</td><td>0 </td><td>0 </td><td> 6199</td><td>4472</td><td>NA                        </td><td>Control_AAACTGCAGCGTTGCC-1</td><td>None</td><td>None</td><td>None   </td><td>None</td></tr>\n",
       "\t<tr><th scope=row>Control_AAACTGCAGGATGTAT-1</th><td>Control</td><td>2149</td><td>2149</td><td>10499</td><td>1546</td><td> 28</td><td> 33</td><td> 517</td><td>2639</td><td> 5736</td><td>⋯</td><td>4 </td><td>4 </td><td> 3348</td><td>2780</td><td>AAACTGCAGGATGTAT-1_Control</td><td>Control_AAACTGCAGGATGTAT-1</td><td>0   </td><td>1   </td><td>Control</td><td>1_0 </td></tr>\n",
       "\t<tr><th scope=row>Control_AAACTGCCAAGAGATT-1</th><td>Control</td><td>2667</td><td>2667</td><td>11592</td><td>1817</td><td> 40</td><td> 25</td><td> 597</td><td>2930</td><td> 6183</td><td>⋯</td><td>1 </td><td>1 </td><td> 3642</td><td>2912</td><td>AAACTGCCAAGAGATT-1_Control</td><td>Control_AAACTGCCAAGAGATT-1</td><td>4   </td><td>0   </td><td>Control</td><td>0_4 </td></tr>\n",
       "\t<tr><th scope=row>Control_AAACTGCCACTCGCAG-1</th><td>Control</td><td> 528</td><td> 528</td><td> 2588</td><td> 548</td><td>  2</td><td> 10</td><td> 106</td><td> 583</td><td> 1339</td><td>⋯</td><td>9 </td><td>9 </td><td>  800</td><td> 768</td><td>NA                        </td><td>Control_AAACTGCCACTCGCAG-1</td><td>None</td><td>None</td><td>None   </td><td>None</td></tr>\n",
       "\t<tr><th scope=row>Control_AAACTGCGTAACTGAA-1</th><td>Control</td><td>3280</td><td>3280</td><td>12446</td><td>3098</td><td> 45</td><td> 34</td><td> 564</td><td>1738</td><td> 6967</td><td>⋯</td><td>7 </td><td>7 </td><td> 3875</td><td>3158</td><td>AAACTGCGTAACTGAA-1_Control</td><td>Control_AAACTGCGTAACTGAA-1</td><td>18  </td><td>0   </td><td>Control</td><td>0_18</td></tr>\n",
       "\t<tr><th scope=row>Control_AAACTGCGTGCAAGCA-1</th><td>Control</td><td>3170</td><td>3170</td><td>13509</td><td>2327</td><td> 41</td><td> 31</td><td> 647</td><td>3705</td><td> 6758</td><td>⋯</td><td>7 </td><td>7 </td><td> 3986</td><td>3218</td><td>AAACTGCGTGCAAGCA-1_Control</td><td>Control_AAACTGCGTGCAAGCA-1</td><td>2   </td><td>1   </td><td>Control</td><td>1_2 </td></tr>\n",
       "\t<tr><th scope=row>Control_AAACTGCGTTAACCAC-1</th><td>Control</td><td> 481</td><td> 481</td><td> 3245</td><td> 668</td><td>  8</td><td>  8</td><td> 109</td><td>1317</td><td> 1135</td><td>⋯</td><td>9 </td><td>9 </td><td>  687</td><td> 661</td><td>AAACTGCGTTAACCAC-1_Control</td><td>Control_AAACTGCGTTAACCAC-1</td><td>25  </td><td>1   </td><td>Control</td><td>1_25</td></tr>\n",
       "\t<tr><th scope=row>Control_AAACTGCGTTACGGAG-1</th><td>Control</td><td>5498</td><td>5498</td><td>25200</td><td>4282</td><td> 71</td><td>100</td><td>1092</td><td>6054</td><td>13601</td><td>⋯</td><td>8 </td><td>8 </td><td> 8423</td><td>5399</td><td>AAACTGCGTTACGGAG-1_Control</td><td>Control_AAACTGCGTTACGGAG-1</td><td>29  </td><td>1   </td><td>Control</td><td>1_29</td></tr>\n",
       "\t<tr><th scope=row>⋮</th><td>⋮</td><td>⋮</td><td>⋮</td><td>⋮</td><td>⋮</td><td>⋮</td><td>⋮</td><td>⋮</td><td>⋮</td><td>⋮</td><td>⋱</td><td>⋮</td><td>⋮</td><td>⋮</td><td>⋮</td><td>⋮</td><td>⋮</td><td>⋮</td><td>⋮</td><td>⋮</td><td>⋮</td></tr>\n",
       "\t<tr><th scope=row>Input_TTTGGTTCATATAGAG-1</th><td>Input</td><td> 5484</td><td> 5484</td><td>30210</td><td> 7894</td><td>106</td><td>111</td><td>1110</td><td>11817</td><td> 9172</td><td>⋯</td><td>2 </td><td>2 </td><td> 5788</td><td>4107</td><td>TTTGGTTCATATAGAG-1_Input</td><td>Input_TTTGGTTCATATAGAG-1</td><td>3 </td><td>1</td><td>Input</td><td>1_3 </td></tr>\n",
       "\t<tr><th scope=row>Input_TTTGGTTCATGGCCCA-1</th><td>Input</td><td> 4186</td><td> 4186</td><td>26674</td><td> 7664</td><td> 86</td><td>105</td><td>1105</td><td>10024</td><td> 7690</td><td>⋯</td><td>2 </td><td>2 </td><td> 4643</td><td>3516</td><td>TTTGGTTCATGGCCCA-1_Input</td><td>Input_TTTGGTTCATGGCCCA-1</td><td>15</td><td>0</td><td>Input</td><td>0_15</td></tr>\n",
       "\t<tr><th scope=row>Input_TTTGGTTGTTCTCGAA-1</th><td>Input</td><td> 3606</td><td> 3606</td><td>23621</td><td> 5512</td><td> 84</td><td> 92</td><td> 603</td><td>11441</td><td> 5889</td><td>⋯</td><td>2 </td><td>2 </td><td> 3586</td><td>2862</td><td>TTTGGTTGTTCTCGAA-1_Input</td><td>Input_TTTGGTTGTTCTCGAA-1</td><td>5 </td><td>0</td><td>Input</td><td>0_5 </td></tr>\n",
       "\t<tr><th scope=row>Input_TTTGGTTTCACTCGGG-1</th><td>Input</td><td> 5912</td><td> 5912</td><td>38833</td><td>11548</td><td>149</td><td>160</td><td>1847</td><td>13842</td><td>11287</td><td>⋯</td><td>2 </td><td>2 </td><td> 7286</td><td>5098</td><td>TTTGGTTTCACTCGGG-1_Input</td><td>Input_TTTGGTTTCACTCGGG-1</td><td>6 </td><td>0</td><td>Input</td><td>0_6 </td></tr>\n",
       "\t<tr><th scope=row>Input_TTTGGTTTCATCATGG-1</th><td>Input</td><td> 8242</td><td> 8242</td><td>38225</td><td>14020</td><td>150</td><td>199</td><td>1565</td><td> 8097</td><td>14194</td><td>⋯</td><td>3 </td><td>3 </td><td> 9417</td><td>5915</td><td>TTTGGTTTCATCATGG-1_Input</td><td>Input_TTTGGTTTCATCATGG-1</td><td>2 </td><td>0</td><td>Input</td><td>0_2 </td></tr>\n",
       "\t<tr><th scope=row>Input_TTTGGTTTCCAGAATC-1</th><td>Input</td><td> 6701</td><td> 6701</td><td>36418</td><td>10369</td><td>134</td><td>140</td><td>1395</td><td>12229</td><td>12151</td><td>⋯</td><td>2 </td><td>2 </td><td> 7315</td><td>5031</td><td>TTTGGTTTCCAGAATC-1_Input</td><td>Input_TTTGGTTTCCAGAATC-1</td><td>28</td><td>1</td><td>Input</td><td>1_28</td></tr>\n",
       "\t<tr><th scope=row>Input_TTTGGTTTCCAGCACG-1</th><td>Input</td><td> 5854</td><td> 5854</td><td>38276</td><td>10726</td><td>113</td><td>155</td><td>1333</td><td>12920</td><td>13029</td><td>⋯</td><td>11</td><td>11</td><td> 8066</td><td>5160</td><td>TTTGGTTTCCAGCACG-1_Input</td><td>Input_TTTGGTTTCCAGCACG-1</td><td>5 </td><td>0</td><td>Input</td><td>0_5 </td></tr>\n",
       "\t<tr><th scope=row>Input_TTTGGTTTCGGGAAAC-1</th><td>Input</td><td> 9159</td><td> 9159</td><td>44036</td><td>15752</td><td>188</td><td>162</td><td>1575</td><td> 9606</td><td>16753</td><td>⋯</td><td>3 </td><td>3 </td><td>10849</td><td>6289</td><td>TTTGGTTTCGGGAAAC-1_Input</td><td>Input_TTTGGTTTCGGGAAAC-1</td><td>16</td><td>0</td><td>Input</td><td>0_16</td></tr>\n",
       "\t<tr><th scope=row>Input_TTTGGTTTCTGAGTCA-1</th><td>Input</td><td>11537</td><td>11537</td><td>46672</td><td>17946</td><td>189</td><td>182</td><td>1899</td><td> 6351</td><td>20105</td><td>⋯</td><td>3 </td><td>3 </td><td>13275</td><td>7406</td><td>TTTGGTTTCTGAGTCA-1_Input</td><td>Input_TTTGGTTTCTGAGTCA-1</td><td>24</td><td>0</td><td>Input</td><td>0_24</td></tr>\n",
       "\t<tr><th scope=row>Input_TTTGGTTTCTGATCCC-1</th><td>Input</td><td> 4354</td><td> 4354</td><td>23116</td><td> 4623</td><td>135</td><td> 91</td><td> 603</td><td>10983</td><td> 6681</td><td>⋯</td><td>3 </td><td>3 </td><td> 4516</td><td>3301</td><td>TTTGGTTTCTGATCCC-1_Input</td><td>Input_TTTGGTTTCTGATCCC-1</td><td>25</td><td>0</td><td>Input</td><td>0_25</td></tr>\n",
       "\t<tr><th scope=row>Input_TTTGTGTAGAACCCGA-1</th><td>Input</td><td>10520</td><td>10520</td><td>54322</td><td>18751</td><td>185</td><td>269</td><td>1723</td><td>13043</td><td>20351</td><td>⋯</td><td>3 </td><td>3 </td><td>13613</td><td>6822</td><td>TTTGTGTAGAACCCGA-1_Input</td><td>Input_TTTGTGTAGAACCCGA-1</td><td>13</td><td>1</td><td>Input</td><td>1_13</td></tr>\n",
       "\t<tr><th scope=row>Input_TTTGTGTAGGTTGTTC-1</th><td>Input</td><td> 3485</td><td> 3485</td><td>28547</td><td> 5288</td><td> 99</td><td> 92</td><td> 593</td><td>16793</td><td> 5682</td><td>⋯</td><td>6 </td><td>6 </td><td> 3661</td><td>2933</td><td>TTTGTGTAGGTTGTTC-1_Input</td><td>Input_TTTGTGTAGGTTGTTC-1</td><td>7 </td><td>1</td><td>Input</td><td>1_7 </td></tr>\n",
       "\t<tr><th scope=row>Input_TTTGTGTAGGTTTCTG-1</th><td>Input</td><td> 2413</td><td> 2413</td><td>15157</td><td> 2804</td><td> 35</td><td> 40</td><td> 431</td><td> 7959</td><td> 3888</td><td>⋯</td><td>7 </td><td>7 </td><td> 2382</td><td>1951</td><td>TTTGTGTAGGTTTCTG-1_Input</td><td>Input_TTTGTGTAGGTTTCTG-1</td><td>5 </td><td>1</td><td>Input</td><td>1_5 </td></tr>\n",
       "\t<tr><th scope=row>Input_TTTGTGTAGTAGACCG-1</th><td>Input</td><td> 1601</td><td> 1601</td><td>17478</td><td> 2545</td><td> 36</td><td> 67</td><td> 838</td><td>10895</td><td> 3097</td><td>⋯</td><td>14</td><td>14</td><td> 2156</td><td>1633</td><td>TTTGTGTAGTAGACCG-1_Input</td><td>Input_TTTGTGTAGTAGACCG-1</td><td>11</td><td>1</td><td>Input</td><td>1_11</td></tr>\n",
       "\t<tr><th scope=row>Input_TTTGTGTAGTTCGTTG-1</th><td>Input</td><td> 7250</td><td> 7250</td><td>47326</td><td>17420</td><td>175</td><td>171</td><td>2124</td><td>11394</td><td>16042</td><td>⋯</td><td>2 </td><td>2 </td><td>10200</td><td>5905</td><td>TTTGTGTAGTTCGTTG-1_Input</td><td>Input_TTTGTGTAGTTCGTTG-1</td><td>17</td><td>0</td><td>Input</td><td>0_17</td></tr>\n",
       "\t<tr><th scope=row>Input_TTTGTGTCAACTCGTA-1</th><td>Input</td><td> 5354</td><td> 5354</td><td>35312</td><td>10401</td><td> 97</td><td>156</td><td> 985</td><td>14763</td><td> 8910</td><td>⋯</td><td>2 </td><td>2 </td><td> 5818</td><td>4082</td><td>TTTGTGTCAACTCGTA-1_Input</td><td>Input_TTTGTGTCAACTCGTA-1</td><td>4 </td><td>1</td><td>Input</td><td>1_4 </td></tr>\n",
       "\t<tr><th scope=row>Input_TTTGTGTCAAGCCAGA-1</th><td>Input</td><td> 2639</td><td> 2639</td><td>19591</td><td> 3883</td><td> 37</td><td> 67</td><td> 496</td><td>10265</td><td> 4843</td><td>⋯</td><td>2 </td><td>2 </td><td> 2945</td><td>2326</td><td>TTTGTGTCAAGCCAGA-1_Input</td><td>Input_TTTGTGTCAAGCCAGA-1</td><td>27</td><td>1</td><td>Input</td><td>1_27</td></tr>\n",
       "\t<tr><th scope=row>Input_TTTGTGTCAATGACTC-1</th><td>Input</td><td> 4432</td><td> 4432</td><td>22045</td><td> 5463</td><td> 96</td><td> 62</td><td> 512</td><td> 9370</td><td> 6542</td><td>⋯</td><td>2 </td><td>2 </td><td> 4643</td><td>3485</td><td>TTTGTGTCAATGACTC-1_Input</td><td>Input_TTTGTGTCAATGACTC-1</td><td>2 </td><td>1</td><td>Input</td><td>1_2 </td></tr>\n",
       "\t<tr><th scope=row>Input_TTTGTGTCACACATTG-1</th><td>Input</td><td> 2478</td><td> 2478</td><td>20370</td><td> 2166</td><td> 49</td><td> 76</td><td> 272</td><td>14386</td><td> 3421</td><td>⋯</td><td>3 </td><td>3 </td><td> 2344</td><td>1953</td><td>TTTGTGTCACACATTG-1_Input</td><td>Input_TTTGTGTCACACATTG-1</td><td>1 </td><td>0</td><td>Input</td><td>0_1 </td></tr>\n",
       "\t<tr><th scope=row>Input_TTTGTGTCAGAAAGAG-1</th><td>Input</td><td> 8863</td><td> 8863</td><td>54991</td><td>15520</td><td>187</td><td>199</td><td>1754</td><td>18606</td><td>18725</td><td>⋯</td><td>3 </td><td>3 </td><td>11729</td><td>6171</td><td>TTTGTGTCAGAAAGAG-1_Input</td><td>Input_TTTGTGTCAGAAAGAG-1</td><td>4 </td><td>1</td><td>Input</td><td>1_4 </td></tr>\n",
       "\t<tr><th scope=row>Input_TTTGTGTCATAGCCAT-1</th><td>Input</td><td> 8994</td><td> 8994</td><td>38670</td><td>12717</td><td>201</td><td>145</td><td>2007</td><td> 7501</td><td>16099</td><td>⋯</td><td>3 </td><td>3 </td><td> 9908</td><td>6094</td><td>TTTGTGTCATAGCCAT-1_Input</td><td>Input_TTTGTGTCATAGCCAT-1</td><td>16</td><td>1</td><td>Input</td><td>1_16</td></tr>\n",
       "\t<tr><th scope=row>Input_TTTGTGTGTAAGCCGA-1</th><td>Input</td><td> 3557</td><td> 3557</td><td>15168</td><td> 3241</td><td> 69</td><td> 60</td><td> 437</td><td> 5996</td><td> 5365</td><td>⋯</td><td>3 </td><td>3 </td><td> 3719</td><td>2918</td><td>TTTGTGTGTAAGCCGA-1_Input</td><td>Input_TTTGTGTGTAAGCCGA-1</td><td>6 </td><td>0</td><td>Input</td><td>0_6 </td></tr>\n",
       "\t<tr><th scope=row>Input_TTTGTGTGTAGATTAG-1</th><td>Input</td><td> 3000</td><td> 3000</td><td>17832</td><td> 7612</td><td> 54</td><td> 78</td><td> 632</td><td> 3609</td><td> 5847</td><td>⋯</td><td>13</td><td>13</td><td> 3770</td><td>2811</td><td>TTTGTGTGTAGATTAG-1_Input</td><td>Input_TTTGTGTGTAGATTAG-1</td><td>12</td><td>0</td><td>Input</td><td>0_12</td></tr>\n",
       "\t<tr><th scope=row>Input_TTTGTGTGTAGGGTCA-1</th><td>Input</td><td> 4531</td><td> 4531</td><td>20297</td><td> 5059</td><td> 77</td><td> 78</td><td> 535</td><td> 7531</td><td> 7017</td><td>⋯</td><td>3 </td><td>3 </td><td> 4695</td><td>3424</td><td>TTTGTGTGTAGGGTCA-1_Input</td><td>Input_TTTGTGTGTAGGGTCA-1</td><td>43</td><td>0</td><td>Input</td><td>0_43</td></tr>\n",
       "\t<tr><th scope=row>Input_TTTGTGTGTCATAGAA-1</th><td>Input</td><td> 7436</td><td> 7436</td><td>32663</td><td>10594</td><td>153</td><td>131</td><td>1320</td><td> 8708</td><td>11757</td><td>⋯</td><td>2 </td><td>2 </td><td> 7879</td><td>5181</td><td>TTTGTGTGTCATAGAA-1_Input</td><td>Input_TTTGTGTGTCATAGAA-1</td><td>1 </td><td>1</td><td>Input</td><td>1_1 </td></tr>\n",
       "\t<tr><th scope=row>Input_TTTGTGTGTTTCTTAC-1</th><td>Input</td><td> 3585</td><td> 3585</td><td>17067</td><td> 3257</td><td> 63</td><td> 80</td><td> 461</td><td> 8097</td><td> 5109</td><td>⋯</td><td>3 </td><td>3 </td><td> 3738</td><td>2899</td><td>TTTGTGTGTTTCTTAC-1_Input</td><td>Input_TTTGTGTGTTTCTTAC-1</td><td>6 </td><td>0</td><td>Input</td><td>0_6 </td></tr>\n",
       "\t<tr><th scope=row>Input_TTTGTGTTCCTGAAAC-1</th><td>Input</td><td> 4362</td><td> 4362</td><td>30427</td><td> 8323</td><td> 84</td><td> 99</td><td> 799</td><td>12146</td><td> 8976</td><td>⋯</td><td>11</td><td>11</td><td> 5839</td><td>4144</td><td>TTTGTGTTCCTGAAAC-1_Input</td><td>Input_TTTGTGTTCCTGAAAC-1</td><td>11</td><td>0</td><td>Input</td><td>0_11</td></tr>\n",
       "\t<tr><th scope=row>Input_TTTGTGTTCGGGAAAC-1</th><td>Input</td><td> 8047</td><td> 8047</td><td>40114</td><td>14032</td><td>169</td><td>160</td><td>1561</td><td>10102</td><td>14090</td><td>⋯</td><td>3 </td><td>3 </td><td> 9421</td><td>5890</td><td>TTTGTGTTCGGGAAAC-1_Input</td><td>Input_TTTGTGTTCGGGAAAC-1</td><td>37</td><td>0</td><td>Input</td><td>0_37</td></tr>\n",
       "\t<tr><th scope=row>Input_TTTGTGTTCGGGACAA-1</th><td>Input</td><td> 3303</td><td> 3303</td><td>22721</td><td> 4421</td><td> 43</td><td> 84</td><td> 546</td><td>11692</td><td> 5935</td><td>⋯</td><td>4 </td><td>4 </td><td> 4303</td><td>3323</td><td>TTTGTGTTCGGGACAA-1_Input</td><td>Input_TTTGTGTTCGGGACAA-1</td><td>3 </td><td>1</td><td>Input</td><td>1_3 </td></tr>\n",
       "\t<tr><th scope=row>Input_TTTGTGTTCTGGCACG-1</th><td>Input</td><td>11556</td><td>11556</td><td>57423</td><td>22063</td><td>263</td><td>235</td><td>2056</td><td>11433</td><td>21373</td><td>⋯</td><td>3 </td><td>3 </td><td>13841</td><td>7279</td><td>TTTGTGTTCTGGCACG-1_Input</td><td>Input_TTTGTGTTCTGGCACG-1</td><td>19</td><td>0</td><td>Input</td><td>0_19</td></tr>\n",
       "</tbody>\n",
       "</table>\n"
      ],
      "text/latex": [
       "A data.frame: 18672 × 39\n",
       "\\begin{tabular}{r|lllllllllllllllllllll}\n",
       "  & orig.ident & nCount\\_ATAC & nFeature\\_ATAC & total & duplicate & chimeric & unmapped & lowmapq & mitochondrial & passed\\_filters & ⋯ & ATAC\\_snn\\_res.0.8 & seurat\\_clusters & nCount\\_RNA & nFeature\\_RNA & ID & Row.names & lineage & donor & condition & name\\\\\n",
       "  & <chr> & <dbl> & <int> & <dbl> & <dbl> & <dbl> & <dbl> & <dbl> & <dbl> & <dbl> & ⋯ & <fct> & <fct> & <dbl> & <int> & <chr> & <I<chr>> & <fct> & <fct> & <fct> & <fct>\\\\\n",
       "\\hline\n",
       "\tControl\\_AAACGAAAGAATCAGT-1 & Control & 1972 & 1972 &  6432 & 1259 &  31 &  19 &  266 & 1066 &  3791 & ⋯ & 6  & 6  &  2211 & 1942 & AAACGAAAGAATCAGT-1\\_Control & Control\\_AAACGAAAGAATCAGT-1 & 4    & 1    & Control & 1\\_4 \\\\\n",
       "\tControl\\_AAACGAAAGCATACCT-1 & Control & 2674 & 2674 & 11858 & 1937 &  51 &  34 &  549 & 3102 &  6185 & ⋯ & 7  & 7  &  3311 & 2750 & AAACGAAAGCATACCT-1\\_Control & Control\\_AAACGAAAGCATACCT-1 & 30   & 1    & Control & 1\\_30\\\\\n",
       "\tControl\\_AAACGAAAGCGAGAAA-1 & Control & 1939 & 1939 &  7365 & 1097 &  25 &  27 &  275 & 2184 &  3757 & ⋯ & 7  & 7  &  2112 & 1838 & AAACGAAAGCGAGAAA-1\\_Control & Control\\_AAACGAAAGCGAGAAA-1 & 15   & 0    & Control & 0\\_15\\\\\n",
       "\tControl\\_AAACGAAAGTACAGAT-1 & Control &  862 &  862 &  4095 &  861 &  16 &  16 &  230 &  771 &  2201 & ⋯ & 4  & 4  &  1441 & 1317 & AAACGAAAGTACAGAT-1\\_Control & Control\\_AAACGAAAGTACAGAT-1 & 9    & 0    & Control & 0\\_9 \\\\\n",
       "\tControl\\_AAACGAAAGTACAGTA-1 & Control & 1775 & 1775 &  8088 & 1091 &  27 &  27 &  369 & 2157 &  4417 & ⋯ & 6  & 6  &  2385 & 2085 & AAACGAAAGTACAGTA-1\\_Control & Control\\_AAACGAAAGTACAGTA-1 & 17   & 1    & Control & 1\\_17\\\\\n",
       "\tControl\\_AAACGAAAGTGTCGGA-1 & Control &  756 &  756 &  3362 &  524 &  15 &  12 &  154 &  836 &  1821 & ⋯ & 4  & 4  &  1133 & 1068 & AAACGAAAGTGTCGGA-1\\_Control & Control\\_AAACGAAAGTGTCGGA-1 & 3    & 1    & Control & 1\\_3 \\\\\n",
       "\tControl\\_AAACGAACACTCGCAG-1 & Control & 1444 & 1444 &  6285 &  831 &  22 &  23 &  319 & 1872 &  3218 & ⋯ & 1  & 1  &  1855 & 1658 & AAACGAACACTCGCAG-1\\_Control & Control\\_AAACGAACACTCGCAG-1 & 21   & 0    & Control & 0\\_21\\\\\n",
       "\tControl\\_AAACGAAGTCTTAGCA-1 & Control & 1921 & 1921 & 10456 & 1353 &  31 &  23 &  417 & 3769 &  4863 & ⋯ & 4  & 4  &  2918 & 2480 & AAACGAAGTCTTAGCA-1\\_Control & Control\\_AAACGAAGTCTTAGCA-1 & 20   & 1    & Control & 1\\_20\\\\\n",
       "\tControl\\_AAACGAAGTGAGGGTT-1 & Control &  425 &  425 &  1347 &  226 &   5 &   9 &   48 &  307 &   752 & ⋯ & 9  & 9  &   439 &  426 & NA                         & Control\\_AAACGAAGTGAGGGTT-1 & None & None & None    & None\\\\\n",
       "\tControl\\_AAACGAATCAGGCGCT-1 & Control & 7347 & 7347 & 33434 & 6309 & 129 & 123 & 1245 & 8223 & 17405 & ⋯ & 0  & 0  & 10814 & 6456 & AAACGAATCAGGCGCT-1\\_Control & Control\\_AAACGAATCAGGCGCT-1 & 24   & 0    & Control & 0\\_24\\\\\n",
       "\tControl\\_AAACGAATCCATCGAA-1 & Control & 3980 & 3980 & 19085 & 3491 &  66 &  37 &  887 & 5147 &  9457 & ⋯ & 7  & 7  &  5168 & 3854 & AAACGAATCCATCGAA-1\\_Control & Control\\_AAACGAATCCATCGAA-1 & 13   & 0    & Control & 0\\_13\\\\\n",
       "\tControl\\_AAACGAATCCCACGGA-1 & Control & 2655 & 2655 & 10468 & 1550 &  58 &  37 &  472 & 2179 &  6172 & ⋯ & 7  & 7  &  3420 & 2848 & AAACGAATCCCACGGA-1\\_Control & Control\\_AAACGAATCCCACGGA-1 & 3    & 1    & Control & 1\\_3 \\\\\n",
       "\tControl\\_AAACGAATCTCGTAGA-1 & Control & 1487 & 1487 &  6532 & 1102 &  13 &  23 &  348 & 1688 &  3358 & ⋯ & 4  & 4  &  2115 & 1881 & AAACGAATCTCGTAGA-1\\_Control & Control\\_AAACGAATCTCGTAGA-1 & 25   & 0    & Control & 0\\_25\\\\\n",
       "\tControl\\_AAACTCGAGTCTCTAG-1 & Control & 1521 & 1521 &  7080 & 1150 &  33 &  25 &  380 & 1601 &  3891 & ⋯ & 4  & 4  &  2249 & 2002 & AAACTCGAGTCTCTAG-1\\_Control & Control\\_AAACTCGAGTCTCTAG-1 & 20   & 1    & Control & 1\\_20\\\\\n",
       "\tControl\\_AAACTCGAGTGAAGGA-1 & Control & 2323 & 2323 &  8492 & 1182 &  17 &  16 &  344 & 2358 &  4575 & ⋯ & 10 & 10 &  2852 & 2432 & AAACTCGAGTGAAGGA-1\\_Control & Control\\_AAACTCGAGTGAAGGA-1 & 0    & 0    & Control & 0\\_0 \\\\\n",
       "\tControl\\_AAACTCGCATGCACTA-1 & Control & 4322 & 4322 & 22421 & 3235 &  66 &  75 &  893 & 7533 & 10619 & ⋯ & 7  & 7  &  5835 & 4241 & AAACTCGCATGCACTA-1\\_Control & Control\\_AAACTCGCATGCACTA-1 & 19   & 0    & Control & 0\\_19\\\\\n",
       "\tControl\\_AAACTCGGTCTCTGGG-1 & Control & 1038 & 1038 &  3433 &  636 &   7 &  12 &  172 &  564 &  2042 & ⋯ & 10 & 10 &  1239 & 1157 & NA                         & Control\\_AAACTCGGTCTCTGGG-1 & None & None & None    & None\\\\\n",
       "\tControl\\_AAACTCGGTCTGCACG-1 & Control & 2226 & 2226 & 10751 & 1285 &  30 &  36 &  440 & 3757 &  5203 & ⋯ & 1  & 1  &  3054 & 2546 & AAACTCGGTCTGCACG-1\\_Control & Control\\_AAACTCGGTCTGCACG-1 & 9    & 1    & Control & 1\\_9 \\\\\n",
       "\tControl\\_AAACTCGGTTGGCTTA-1 & Control & 3507 & 3507 & 17456 & 2829 &  55 &  65 &  754 & 5314 &  8439 & ⋯ & 1  & 1  &  4501 & 3462 & AAACTCGGTTGGCTTA-1\\_Control & Control\\_AAACTCGGTTGGCTTA-1 & 26   & 1    & Control & 1\\_26\\\\\n",
       "\tControl\\_AAACTCGTCGGGAAAC-1 & Control & 1727 & 1727 &  7197 & 1049 &  25 &  19 &  256 & 1885 &  3963 & ⋯ & 8  & 8  &  2368 & 2044 & AAACTCGTCGGGAAAC-1\\_Control & Control\\_AAACTCGTCGGGAAAC-1 & 6    & 0    & Control & 0\\_6 \\\\\n",
       "\tControl\\_AAACTCGTCTGCGTCT-1 & Control & 1650 & 1650 &  7665 & 1178 &  21 &  33 &  300 & 2670 &  3463 & ⋯ & 4  & 4  &  2172 & 1886 & AAACTCGTCTGCGTCT-1\\_Control & Control\\_AAACTCGTCTGCGTCT-1 & 1    & 1    & Control & 1\\_1 \\\\\n",
       "\tControl\\_AAACTGCAGCCCATGC-1 & Control & 2478 & 2478 & 11638 & 1560 &  45 &  29 &  503 & 3664 &  5837 & ⋯ & 4  & 4  &  3542 & 2881 & AAACTGCAGCCCATGC-1\\_Control & Control\\_AAACTGCAGCCCATGC-1 & 8    & 0    & Control & 0\\_8 \\\\\n",
       "\tControl\\_AAACTGCAGCGTTGCC-1 & Control & 4532 & 4532 & 17895 & 2441 &  73 &  58 &  732 & 4266 & 10325 & ⋯ & 0  & 0  &  6199 & 4472 & NA                         & Control\\_AAACTGCAGCGTTGCC-1 & None & None & None    & None\\\\\n",
       "\tControl\\_AAACTGCAGGATGTAT-1 & Control & 2149 & 2149 & 10499 & 1546 &  28 &  33 &  517 & 2639 &  5736 & ⋯ & 4  & 4  &  3348 & 2780 & AAACTGCAGGATGTAT-1\\_Control & Control\\_AAACTGCAGGATGTAT-1 & 0    & 1    & Control & 1\\_0 \\\\\n",
       "\tControl\\_AAACTGCCAAGAGATT-1 & Control & 2667 & 2667 & 11592 & 1817 &  40 &  25 &  597 & 2930 &  6183 & ⋯ & 1  & 1  &  3642 & 2912 & AAACTGCCAAGAGATT-1\\_Control & Control\\_AAACTGCCAAGAGATT-1 & 4    & 0    & Control & 0\\_4 \\\\\n",
       "\tControl\\_AAACTGCCACTCGCAG-1 & Control &  528 &  528 &  2588 &  548 &   2 &  10 &  106 &  583 &  1339 & ⋯ & 9  & 9  &   800 &  768 & NA                         & Control\\_AAACTGCCACTCGCAG-1 & None & None & None    & None\\\\\n",
       "\tControl\\_AAACTGCGTAACTGAA-1 & Control & 3280 & 3280 & 12446 & 3098 &  45 &  34 &  564 & 1738 &  6967 & ⋯ & 7  & 7  &  3875 & 3158 & AAACTGCGTAACTGAA-1\\_Control & Control\\_AAACTGCGTAACTGAA-1 & 18   & 0    & Control & 0\\_18\\\\\n",
       "\tControl\\_AAACTGCGTGCAAGCA-1 & Control & 3170 & 3170 & 13509 & 2327 &  41 &  31 &  647 & 3705 &  6758 & ⋯ & 7  & 7  &  3986 & 3218 & AAACTGCGTGCAAGCA-1\\_Control & Control\\_AAACTGCGTGCAAGCA-1 & 2    & 1    & Control & 1\\_2 \\\\\n",
       "\tControl\\_AAACTGCGTTAACCAC-1 & Control &  481 &  481 &  3245 &  668 &   8 &   8 &  109 & 1317 &  1135 & ⋯ & 9  & 9  &   687 &  661 & AAACTGCGTTAACCAC-1\\_Control & Control\\_AAACTGCGTTAACCAC-1 & 25   & 1    & Control & 1\\_25\\\\\n",
       "\tControl\\_AAACTGCGTTACGGAG-1 & Control & 5498 & 5498 & 25200 & 4282 &  71 & 100 & 1092 & 6054 & 13601 & ⋯ & 8  & 8  &  8423 & 5399 & AAACTGCGTTACGGAG-1\\_Control & Control\\_AAACTGCGTTACGGAG-1 & 29   & 1    & Control & 1\\_29\\\\\n",
       "\t⋮ & ⋮ & ⋮ & ⋮ & ⋮ & ⋮ & ⋮ & ⋮ & ⋮ & ⋮ & ⋮ & ⋱ & ⋮ & ⋮ & ⋮ & ⋮ & ⋮ & ⋮ & ⋮ & ⋮ & ⋮ & ⋮\\\\\n",
       "\tInput\\_TTTGGTTCATATAGAG-1 & Input &  5484 &  5484 & 30210 &  7894 & 106 & 111 & 1110 & 11817 &  9172 & ⋯ & 2  & 2  &  5788 & 4107 & TTTGGTTCATATAGAG-1\\_Input & Input\\_TTTGGTTCATATAGAG-1 & 3  & 1 & Input & 1\\_3 \\\\\n",
       "\tInput\\_TTTGGTTCATGGCCCA-1 & Input &  4186 &  4186 & 26674 &  7664 &  86 & 105 & 1105 & 10024 &  7690 & ⋯ & 2  & 2  &  4643 & 3516 & TTTGGTTCATGGCCCA-1\\_Input & Input\\_TTTGGTTCATGGCCCA-1 & 15 & 0 & Input & 0\\_15\\\\\n",
       "\tInput\\_TTTGGTTGTTCTCGAA-1 & Input &  3606 &  3606 & 23621 &  5512 &  84 &  92 &  603 & 11441 &  5889 & ⋯ & 2  & 2  &  3586 & 2862 & TTTGGTTGTTCTCGAA-1\\_Input & Input\\_TTTGGTTGTTCTCGAA-1 & 5  & 0 & Input & 0\\_5 \\\\\n",
       "\tInput\\_TTTGGTTTCACTCGGG-1 & Input &  5912 &  5912 & 38833 & 11548 & 149 & 160 & 1847 & 13842 & 11287 & ⋯ & 2  & 2  &  7286 & 5098 & TTTGGTTTCACTCGGG-1\\_Input & Input\\_TTTGGTTTCACTCGGG-1 & 6  & 0 & Input & 0\\_6 \\\\\n",
       "\tInput\\_TTTGGTTTCATCATGG-1 & Input &  8242 &  8242 & 38225 & 14020 & 150 & 199 & 1565 &  8097 & 14194 & ⋯ & 3  & 3  &  9417 & 5915 & TTTGGTTTCATCATGG-1\\_Input & Input\\_TTTGGTTTCATCATGG-1 & 2  & 0 & Input & 0\\_2 \\\\\n",
       "\tInput\\_TTTGGTTTCCAGAATC-1 & Input &  6701 &  6701 & 36418 & 10369 & 134 & 140 & 1395 & 12229 & 12151 & ⋯ & 2  & 2  &  7315 & 5031 & TTTGGTTTCCAGAATC-1\\_Input & Input\\_TTTGGTTTCCAGAATC-1 & 28 & 1 & Input & 1\\_28\\\\\n",
       "\tInput\\_TTTGGTTTCCAGCACG-1 & Input &  5854 &  5854 & 38276 & 10726 & 113 & 155 & 1333 & 12920 & 13029 & ⋯ & 11 & 11 &  8066 & 5160 & TTTGGTTTCCAGCACG-1\\_Input & Input\\_TTTGGTTTCCAGCACG-1 & 5  & 0 & Input & 0\\_5 \\\\\n",
       "\tInput\\_TTTGGTTTCGGGAAAC-1 & Input &  9159 &  9159 & 44036 & 15752 & 188 & 162 & 1575 &  9606 & 16753 & ⋯ & 3  & 3  & 10849 & 6289 & TTTGGTTTCGGGAAAC-1\\_Input & Input\\_TTTGGTTTCGGGAAAC-1 & 16 & 0 & Input & 0\\_16\\\\\n",
       "\tInput\\_TTTGGTTTCTGAGTCA-1 & Input & 11537 & 11537 & 46672 & 17946 & 189 & 182 & 1899 &  6351 & 20105 & ⋯ & 3  & 3  & 13275 & 7406 & TTTGGTTTCTGAGTCA-1\\_Input & Input\\_TTTGGTTTCTGAGTCA-1 & 24 & 0 & Input & 0\\_24\\\\\n",
       "\tInput\\_TTTGGTTTCTGATCCC-1 & Input &  4354 &  4354 & 23116 &  4623 & 135 &  91 &  603 & 10983 &  6681 & ⋯ & 3  & 3  &  4516 & 3301 & TTTGGTTTCTGATCCC-1\\_Input & Input\\_TTTGGTTTCTGATCCC-1 & 25 & 0 & Input & 0\\_25\\\\\n",
       "\tInput\\_TTTGTGTAGAACCCGA-1 & Input & 10520 & 10520 & 54322 & 18751 & 185 & 269 & 1723 & 13043 & 20351 & ⋯ & 3  & 3  & 13613 & 6822 & TTTGTGTAGAACCCGA-1\\_Input & Input\\_TTTGTGTAGAACCCGA-1 & 13 & 1 & Input & 1\\_13\\\\\n",
       "\tInput\\_TTTGTGTAGGTTGTTC-1 & Input &  3485 &  3485 & 28547 &  5288 &  99 &  92 &  593 & 16793 &  5682 & ⋯ & 6  & 6  &  3661 & 2933 & TTTGTGTAGGTTGTTC-1\\_Input & Input\\_TTTGTGTAGGTTGTTC-1 & 7  & 1 & Input & 1\\_7 \\\\\n",
       "\tInput\\_TTTGTGTAGGTTTCTG-1 & Input &  2413 &  2413 & 15157 &  2804 &  35 &  40 &  431 &  7959 &  3888 & ⋯ & 7  & 7  &  2382 & 1951 & TTTGTGTAGGTTTCTG-1\\_Input & Input\\_TTTGTGTAGGTTTCTG-1 & 5  & 1 & Input & 1\\_5 \\\\\n",
       "\tInput\\_TTTGTGTAGTAGACCG-1 & Input &  1601 &  1601 & 17478 &  2545 &  36 &  67 &  838 & 10895 &  3097 & ⋯ & 14 & 14 &  2156 & 1633 & TTTGTGTAGTAGACCG-1\\_Input & Input\\_TTTGTGTAGTAGACCG-1 & 11 & 1 & Input & 1\\_11\\\\\n",
       "\tInput\\_TTTGTGTAGTTCGTTG-1 & Input &  7250 &  7250 & 47326 & 17420 & 175 & 171 & 2124 & 11394 & 16042 & ⋯ & 2  & 2  & 10200 & 5905 & TTTGTGTAGTTCGTTG-1\\_Input & Input\\_TTTGTGTAGTTCGTTG-1 & 17 & 0 & Input & 0\\_17\\\\\n",
       "\tInput\\_TTTGTGTCAACTCGTA-1 & Input &  5354 &  5354 & 35312 & 10401 &  97 & 156 &  985 & 14763 &  8910 & ⋯ & 2  & 2  &  5818 & 4082 & TTTGTGTCAACTCGTA-1\\_Input & Input\\_TTTGTGTCAACTCGTA-1 & 4  & 1 & Input & 1\\_4 \\\\\n",
       "\tInput\\_TTTGTGTCAAGCCAGA-1 & Input &  2639 &  2639 & 19591 &  3883 &  37 &  67 &  496 & 10265 &  4843 & ⋯ & 2  & 2  &  2945 & 2326 & TTTGTGTCAAGCCAGA-1\\_Input & Input\\_TTTGTGTCAAGCCAGA-1 & 27 & 1 & Input & 1\\_27\\\\\n",
       "\tInput\\_TTTGTGTCAATGACTC-1 & Input &  4432 &  4432 & 22045 &  5463 &  96 &  62 &  512 &  9370 &  6542 & ⋯ & 2  & 2  &  4643 & 3485 & TTTGTGTCAATGACTC-1\\_Input & Input\\_TTTGTGTCAATGACTC-1 & 2  & 1 & Input & 1\\_2 \\\\\n",
       "\tInput\\_TTTGTGTCACACATTG-1 & Input &  2478 &  2478 & 20370 &  2166 &  49 &  76 &  272 & 14386 &  3421 & ⋯ & 3  & 3  &  2344 & 1953 & TTTGTGTCACACATTG-1\\_Input & Input\\_TTTGTGTCACACATTG-1 & 1  & 0 & Input & 0\\_1 \\\\\n",
       "\tInput\\_TTTGTGTCAGAAAGAG-1 & Input &  8863 &  8863 & 54991 & 15520 & 187 & 199 & 1754 & 18606 & 18725 & ⋯ & 3  & 3  & 11729 & 6171 & TTTGTGTCAGAAAGAG-1\\_Input & Input\\_TTTGTGTCAGAAAGAG-1 & 4  & 1 & Input & 1\\_4 \\\\\n",
       "\tInput\\_TTTGTGTCATAGCCAT-1 & Input &  8994 &  8994 & 38670 & 12717 & 201 & 145 & 2007 &  7501 & 16099 & ⋯ & 3  & 3  &  9908 & 6094 & TTTGTGTCATAGCCAT-1\\_Input & Input\\_TTTGTGTCATAGCCAT-1 & 16 & 1 & Input & 1\\_16\\\\\n",
       "\tInput\\_TTTGTGTGTAAGCCGA-1 & Input &  3557 &  3557 & 15168 &  3241 &  69 &  60 &  437 &  5996 &  5365 & ⋯ & 3  & 3  &  3719 & 2918 & TTTGTGTGTAAGCCGA-1\\_Input & Input\\_TTTGTGTGTAAGCCGA-1 & 6  & 0 & Input & 0\\_6 \\\\\n",
       "\tInput\\_TTTGTGTGTAGATTAG-1 & Input &  3000 &  3000 & 17832 &  7612 &  54 &  78 &  632 &  3609 &  5847 & ⋯ & 13 & 13 &  3770 & 2811 & TTTGTGTGTAGATTAG-1\\_Input & Input\\_TTTGTGTGTAGATTAG-1 & 12 & 0 & Input & 0\\_12\\\\\n",
       "\tInput\\_TTTGTGTGTAGGGTCA-1 & Input &  4531 &  4531 & 20297 &  5059 &  77 &  78 &  535 &  7531 &  7017 & ⋯ & 3  & 3  &  4695 & 3424 & TTTGTGTGTAGGGTCA-1\\_Input & Input\\_TTTGTGTGTAGGGTCA-1 & 43 & 0 & Input & 0\\_43\\\\\n",
       "\tInput\\_TTTGTGTGTCATAGAA-1 & Input &  7436 &  7436 & 32663 & 10594 & 153 & 131 & 1320 &  8708 & 11757 & ⋯ & 2  & 2  &  7879 & 5181 & TTTGTGTGTCATAGAA-1\\_Input & Input\\_TTTGTGTGTCATAGAA-1 & 1  & 1 & Input & 1\\_1 \\\\\n",
       "\tInput\\_TTTGTGTGTTTCTTAC-1 & Input &  3585 &  3585 & 17067 &  3257 &  63 &  80 &  461 &  8097 &  5109 & ⋯ & 3  & 3  &  3738 & 2899 & TTTGTGTGTTTCTTAC-1\\_Input & Input\\_TTTGTGTGTTTCTTAC-1 & 6  & 0 & Input & 0\\_6 \\\\\n",
       "\tInput\\_TTTGTGTTCCTGAAAC-1 & Input &  4362 &  4362 & 30427 &  8323 &  84 &  99 &  799 & 12146 &  8976 & ⋯ & 11 & 11 &  5839 & 4144 & TTTGTGTTCCTGAAAC-1\\_Input & Input\\_TTTGTGTTCCTGAAAC-1 & 11 & 0 & Input & 0\\_11\\\\\n",
       "\tInput\\_TTTGTGTTCGGGAAAC-1 & Input &  8047 &  8047 & 40114 & 14032 & 169 & 160 & 1561 & 10102 & 14090 & ⋯ & 3  & 3  &  9421 & 5890 & TTTGTGTTCGGGAAAC-1\\_Input & Input\\_TTTGTGTTCGGGAAAC-1 & 37 & 0 & Input & 0\\_37\\\\\n",
       "\tInput\\_TTTGTGTTCGGGACAA-1 & Input &  3303 &  3303 & 22721 &  4421 &  43 &  84 &  546 & 11692 &  5935 & ⋯ & 4  & 4  &  4303 & 3323 & TTTGTGTTCGGGACAA-1\\_Input & Input\\_TTTGTGTTCGGGACAA-1 & 3  & 1 & Input & 1\\_3 \\\\\n",
       "\tInput\\_TTTGTGTTCTGGCACG-1 & Input & 11556 & 11556 & 57423 & 22063 & 263 & 235 & 2056 & 11433 & 21373 & ⋯ & 3  & 3  & 13841 & 7279 & TTTGTGTTCTGGCACG-1\\_Input & Input\\_TTTGTGTTCTGGCACG-1 & 19 & 0 & Input & 0\\_19\\\\\n",
       "\\end{tabular}\n"
      ],
      "text/markdown": [
       "\n",
       "A data.frame: 18672 × 39\n",
       "\n",
       "| <!--/--> | orig.ident &lt;chr&gt; | nCount_ATAC &lt;dbl&gt; | nFeature_ATAC &lt;int&gt; | total &lt;dbl&gt; | duplicate &lt;dbl&gt; | chimeric &lt;dbl&gt; | unmapped &lt;dbl&gt; | lowmapq &lt;dbl&gt; | mitochondrial &lt;dbl&gt; | passed_filters &lt;dbl&gt; | ⋯ ⋯ | ATAC_snn_res.0.8 &lt;fct&gt; | seurat_clusters &lt;fct&gt; | nCount_RNA &lt;dbl&gt; | nFeature_RNA &lt;int&gt; | ID &lt;chr&gt; | Row.names &lt;I&lt;chr&gt;&gt; | lineage &lt;fct&gt; | donor &lt;fct&gt; | condition &lt;fct&gt; | name &lt;fct&gt; |\n",
       "|---|---|---|---|---|---|---|---|---|---|---|---|---|---|---|---|---|---|---|---|---|---|\n",
       "| Control_AAACGAAAGAATCAGT-1 | Control | 1972 | 1972 |  6432 | 1259 |  31 |  19 |  266 | 1066 |  3791 | ⋯ | 6  | 6  |  2211 | 1942 | AAACGAAAGAATCAGT-1_Control | Control_AAACGAAAGAATCAGT-1 | 4    | 1    | Control | 1_4  |\n",
       "| Control_AAACGAAAGCATACCT-1 | Control | 2674 | 2674 | 11858 | 1937 |  51 |  34 |  549 | 3102 |  6185 | ⋯ | 7  | 7  |  3311 | 2750 | AAACGAAAGCATACCT-1_Control | Control_AAACGAAAGCATACCT-1 | 30   | 1    | Control | 1_30 |\n",
       "| Control_AAACGAAAGCGAGAAA-1 | Control | 1939 | 1939 |  7365 | 1097 |  25 |  27 |  275 | 2184 |  3757 | ⋯ | 7  | 7  |  2112 | 1838 | AAACGAAAGCGAGAAA-1_Control | Control_AAACGAAAGCGAGAAA-1 | 15   | 0    | Control | 0_15 |\n",
       "| Control_AAACGAAAGTACAGAT-1 | Control |  862 |  862 |  4095 |  861 |  16 |  16 |  230 |  771 |  2201 | ⋯ | 4  | 4  |  1441 | 1317 | AAACGAAAGTACAGAT-1_Control | Control_AAACGAAAGTACAGAT-1 | 9    | 0    | Control | 0_9  |\n",
       "| Control_AAACGAAAGTACAGTA-1 | Control | 1775 | 1775 |  8088 | 1091 |  27 |  27 |  369 | 2157 |  4417 | ⋯ | 6  | 6  |  2385 | 2085 | AAACGAAAGTACAGTA-1_Control | Control_AAACGAAAGTACAGTA-1 | 17   | 1    | Control | 1_17 |\n",
       "| Control_AAACGAAAGTGTCGGA-1 | Control |  756 |  756 |  3362 |  524 |  15 |  12 |  154 |  836 |  1821 | ⋯ | 4  | 4  |  1133 | 1068 | AAACGAAAGTGTCGGA-1_Control | Control_AAACGAAAGTGTCGGA-1 | 3    | 1    | Control | 1_3  |\n",
       "| Control_AAACGAACACTCGCAG-1 | Control | 1444 | 1444 |  6285 |  831 |  22 |  23 |  319 | 1872 |  3218 | ⋯ | 1  | 1  |  1855 | 1658 | AAACGAACACTCGCAG-1_Control | Control_AAACGAACACTCGCAG-1 | 21   | 0    | Control | 0_21 |\n",
       "| Control_AAACGAAGTCTTAGCA-1 | Control | 1921 | 1921 | 10456 | 1353 |  31 |  23 |  417 | 3769 |  4863 | ⋯ | 4  | 4  |  2918 | 2480 | AAACGAAGTCTTAGCA-1_Control | Control_AAACGAAGTCTTAGCA-1 | 20   | 1    | Control | 1_20 |\n",
       "| Control_AAACGAAGTGAGGGTT-1 | Control |  425 |  425 |  1347 |  226 |   5 |   9 |   48 |  307 |   752 | ⋯ | 9  | 9  |   439 |  426 | NA                         | Control_AAACGAAGTGAGGGTT-1 | None | None | None    | None |\n",
       "| Control_AAACGAATCAGGCGCT-1 | Control | 7347 | 7347 | 33434 | 6309 | 129 | 123 | 1245 | 8223 | 17405 | ⋯ | 0  | 0  | 10814 | 6456 | AAACGAATCAGGCGCT-1_Control | Control_AAACGAATCAGGCGCT-1 | 24   | 0    | Control | 0_24 |\n",
       "| Control_AAACGAATCCATCGAA-1 | Control | 3980 | 3980 | 19085 | 3491 |  66 |  37 |  887 | 5147 |  9457 | ⋯ | 7  | 7  |  5168 | 3854 | AAACGAATCCATCGAA-1_Control | Control_AAACGAATCCATCGAA-1 | 13   | 0    | Control | 0_13 |\n",
       "| Control_AAACGAATCCCACGGA-1 | Control | 2655 | 2655 | 10468 | 1550 |  58 |  37 |  472 | 2179 |  6172 | ⋯ | 7  | 7  |  3420 | 2848 | AAACGAATCCCACGGA-1_Control | Control_AAACGAATCCCACGGA-1 | 3    | 1    | Control | 1_3  |\n",
       "| Control_AAACGAATCTCGTAGA-1 | Control | 1487 | 1487 |  6532 | 1102 |  13 |  23 |  348 | 1688 |  3358 | ⋯ | 4  | 4  |  2115 | 1881 | AAACGAATCTCGTAGA-1_Control | Control_AAACGAATCTCGTAGA-1 | 25   | 0    | Control | 0_25 |\n",
       "| Control_AAACTCGAGTCTCTAG-1 | Control | 1521 | 1521 |  7080 | 1150 |  33 |  25 |  380 | 1601 |  3891 | ⋯ | 4  | 4  |  2249 | 2002 | AAACTCGAGTCTCTAG-1_Control | Control_AAACTCGAGTCTCTAG-1 | 20   | 1    | Control | 1_20 |\n",
       "| Control_AAACTCGAGTGAAGGA-1 | Control | 2323 | 2323 |  8492 | 1182 |  17 |  16 |  344 | 2358 |  4575 | ⋯ | 10 | 10 |  2852 | 2432 | AAACTCGAGTGAAGGA-1_Control | Control_AAACTCGAGTGAAGGA-1 | 0    | 0    | Control | 0_0  |\n",
       "| Control_AAACTCGCATGCACTA-1 | Control | 4322 | 4322 | 22421 | 3235 |  66 |  75 |  893 | 7533 | 10619 | ⋯ | 7  | 7  |  5835 | 4241 | AAACTCGCATGCACTA-1_Control | Control_AAACTCGCATGCACTA-1 | 19   | 0    | Control | 0_19 |\n",
       "| Control_AAACTCGGTCTCTGGG-1 | Control | 1038 | 1038 |  3433 |  636 |   7 |  12 |  172 |  564 |  2042 | ⋯ | 10 | 10 |  1239 | 1157 | NA                         | Control_AAACTCGGTCTCTGGG-1 | None | None | None    | None |\n",
       "| Control_AAACTCGGTCTGCACG-1 | Control | 2226 | 2226 | 10751 | 1285 |  30 |  36 |  440 | 3757 |  5203 | ⋯ | 1  | 1  |  3054 | 2546 | AAACTCGGTCTGCACG-1_Control | Control_AAACTCGGTCTGCACG-1 | 9    | 1    | Control | 1_9  |\n",
       "| Control_AAACTCGGTTGGCTTA-1 | Control | 3507 | 3507 | 17456 | 2829 |  55 |  65 |  754 | 5314 |  8439 | ⋯ | 1  | 1  |  4501 | 3462 | AAACTCGGTTGGCTTA-1_Control | Control_AAACTCGGTTGGCTTA-1 | 26   | 1    | Control | 1_26 |\n",
       "| Control_AAACTCGTCGGGAAAC-1 | Control | 1727 | 1727 |  7197 | 1049 |  25 |  19 |  256 | 1885 |  3963 | ⋯ | 8  | 8  |  2368 | 2044 | AAACTCGTCGGGAAAC-1_Control | Control_AAACTCGTCGGGAAAC-1 | 6    | 0    | Control | 0_6  |\n",
       "| Control_AAACTCGTCTGCGTCT-1 | Control | 1650 | 1650 |  7665 | 1178 |  21 |  33 |  300 | 2670 |  3463 | ⋯ | 4  | 4  |  2172 | 1886 | AAACTCGTCTGCGTCT-1_Control | Control_AAACTCGTCTGCGTCT-1 | 1    | 1    | Control | 1_1  |\n",
       "| Control_AAACTGCAGCCCATGC-1 | Control | 2478 | 2478 | 11638 | 1560 |  45 |  29 |  503 | 3664 |  5837 | ⋯ | 4  | 4  |  3542 | 2881 | AAACTGCAGCCCATGC-1_Control | Control_AAACTGCAGCCCATGC-1 | 8    | 0    | Control | 0_8  |\n",
       "| Control_AAACTGCAGCGTTGCC-1 | Control | 4532 | 4532 | 17895 | 2441 |  73 |  58 |  732 | 4266 | 10325 | ⋯ | 0  | 0  |  6199 | 4472 | NA                         | Control_AAACTGCAGCGTTGCC-1 | None | None | None    | None |\n",
       "| Control_AAACTGCAGGATGTAT-1 | Control | 2149 | 2149 | 10499 | 1546 |  28 |  33 |  517 | 2639 |  5736 | ⋯ | 4  | 4  |  3348 | 2780 | AAACTGCAGGATGTAT-1_Control | Control_AAACTGCAGGATGTAT-1 | 0    | 1    | Control | 1_0  |\n",
       "| Control_AAACTGCCAAGAGATT-1 | Control | 2667 | 2667 | 11592 | 1817 |  40 |  25 |  597 | 2930 |  6183 | ⋯ | 1  | 1  |  3642 | 2912 | AAACTGCCAAGAGATT-1_Control | Control_AAACTGCCAAGAGATT-1 | 4    | 0    | Control | 0_4  |\n",
       "| Control_AAACTGCCACTCGCAG-1 | Control |  528 |  528 |  2588 |  548 |   2 |  10 |  106 |  583 |  1339 | ⋯ | 9  | 9  |   800 |  768 | NA                         | Control_AAACTGCCACTCGCAG-1 | None | None | None    | None |\n",
       "| Control_AAACTGCGTAACTGAA-1 | Control | 3280 | 3280 | 12446 | 3098 |  45 |  34 |  564 | 1738 |  6967 | ⋯ | 7  | 7  |  3875 | 3158 | AAACTGCGTAACTGAA-1_Control | Control_AAACTGCGTAACTGAA-1 | 18   | 0    | Control | 0_18 |\n",
       "| Control_AAACTGCGTGCAAGCA-1 | Control | 3170 | 3170 | 13509 | 2327 |  41 |  31 |  647 | 3705 |  6758 | ⋯ | 7  | 7  |  3986 | 3218 | AAACTGCGTGCAAGCA-1_Control | Control_AAACTGCGTGCAAGCA-1 | 2    | 1    | Control | 1_2  |\n",
       "| Control_AAACTGCGTTAACCAC-1 | Control |  481 |  481 |  3245 |  668 |   8 |   8 |  109 | 1317 |  1135 | ⋯ | 9  | 9  |   687 |  661 | AAACTGCGTTAACCAC-1_Control | Control_AAACTGCGTTAACCAC-1 | 25   | 1    | Control | 1_25 |\n",
       "| Control_AAACTGCGTTACGGAG-1 | Control | 5498 | 5498 | 25200 | 4282 |  71 | 100 | 1092 | 6054 | 13601 | ⋯ | 8  | 8  |  8423 | 5399 | AAACTGCGTTACGGAG-1_Control | Control_AAACTGCGTTACGGAG-1 | 29   | 1    | Control | 1_29 |\n",
       "| ⋮ | ⋮ | ⋮ | ⋮ | ⋮ | ⋮ | ⋮ | ⋮ | ⋮ | ⋮ | ⋮ | ⋱ | ⋮ | ⋮ | ⋮ | ⋮ | ⋮ | ⋮ | ⋮ | ⋮ | ⋮ | ⋮ |\n",
       "| Input_TTTGGTTCATATAGAG-1 | Input |  5484 |  5484 | 30210 |  7894 | 106 | 111 | 1110 | 11817 |  9172 | ⋯ | 2  | 2  |  5788 | 4107 | TTTGGTTCATATAGAG-1_Input | Input_TTTGGTTCATATAGAG-1 | 3  | 1 | Input | 1_3  |\n",
       "| Input_TTTGGTTCATGGCCCA-1 | Input |  4186 |  4186 | 26674 |  7664 |  86 | 105 | 1105 | 10024 |  7690 | ⋯ | 2  | 2  |  4643 | 3516 | TTTGGTTCATGGCCCA-1_Input | Input_TTTGGTTCATGGCCCA-1 | 15 | 0 | Input | 0_15 |\n",
       "| Input_TTTGGTTGTTCTCGAA-1 | Input |  3606 |  3606 | 23621 |  5512 |  84 |  92 |  603 | 11441 |  5889 | ⋯ | 2  | 2  |  3586 | 2862 | TTTGGTTGTTCTCGAA-1_Input | Input_TTTGGTTGTTCTCGAA-1 | 5  | 0 | Input | 0_5  |\n",
       "| Input_TTTGGTTTCACTCGGG-1 | Input |  5912 |  5912 | 38833 | 11548 | 149 | 160 | 1847 | 13842 | 11287 | ⋯ | 2  | 2  |  7286 | 5098 | TTTGGTTTCACTCGGG-1_Input | Input_TTTGGTTTCACTCGGG-1 | 6  | 0 | Input | 0_6  |\n",
       "| Input_TTTGGTTTCATCATGG-1 | Input |  8242 |  8242 | 38225 | 14020 | 150 | 199 | 1565 |  8097 | 14194 | ⋯ | 3  | 3  |  9417 | 5915 | TTTGGTTTCATCATGG-1_Input | Input_TTTGGTTTCATCATGG-1 | 2  | 0 | Input | 0_2  |\n",
       "| Input_TTTGGTTTCCAGAATC-1 | Input |  6701 |  6701 | 36418 | 10369 | 134 | 140 | 1395 | 12229 | 12151 | ⋯ | 2  | 2  |  7315 | 5031 | TTTGGTTTCCAGAATC-1_Input | Input_TTTGGTTTCCAGAATC-1 | 28 | 1 | Input | 1_28 |\n",
       "| Input_TTTGGTTTCCAGCACG-1 | Input |  5854 |  5854 | 38276 | 10726 | 113 | 155 | 1333 | 12920 | 13029 | ⋯ | 11 | 11 |  8066 | 5160 | TTTGGTTTCCAGCACG-1_Input | Input_TTTGGTTTCCAGCACG-1 | 5  | 0 | Input | 0_5  |\n",
       "| Input_TTTGGTTTCGGGAAAC-1 | Input |  9159 |  9159 | 44036 | 15752 | 188 | 162 | 1575 |  9606 | 16753 | ⋯ | 3  | 3  | 10849 | 6289 | TTTGGTTTCGGGAAAC-1_Input | Input_TTTGGTTTCGGGAAAC-1 | 16 | 0 | Input | 0_16 |\n",
       "| Input_TTTGGTTTCTGAGTCA-1 | Input | 11537 | 11537 | 46672 | 17946 | 189 | 182 | 1899 |  6351 | 20105 | ⋯ | 3  | 3  | 13275 | 7406 | TTTGGTTTCTGAGTCA-1_Input | Input_TTTGGTTTCTGAGTCA-1 | 24 | 0 | Input | 0_24 |\n",
       "| Input_TTTGGTTTCTGATCCC-1 | Input |  4354 |  4354 | 23116 |  4623 | 135 |  91 |  603 | 10983 |  6681 | ⋯ | 3  | 3  |  4516 | 3301 | TTTGGTTTCTGATCCC-1_Input | Input_TTTGGTTTCTGATCCC-1 | 25 | 0 | Input | 0_25 |\n",
       "| Input_TTTGTGTAGAACCCGA-1 | Input | 10520 | 10520 | 54322 | 18751 | 185 | 269 | 1723 | 13043 | 20351 | ⋯ | 3  | 3  | 13613 | 6822 | TTTGTGTAGAACCCGA-1_Input | Input_TTTGTGTAGAACCCGA-1 | 13 | 1 | Input | 1_13 |\n",
       "| Input_TTTGTGTAGGTTGTTC-1 | Input |  3485 |  3485 | 28547 |  5288 |  99 |  92 |  593 | 16793 |  5682 | ⋯ | 6  | 6  |  3661 | 2933 | TTTGTGTAGGTTGTTC-1_Input | Input_TTTGTGTAGGTTGTTC-1 | 7  | 1 | Input | 1_7  |\n",
       "| Input_TTTGTGTAGGTTTCTG-1 | Input |  2413 |  2413 | 15157 |  2804 |  35 |  40 |  431 |  7959 |  3888 | ⋯ | 7  | 7  |  2382 | 1951 | TTTGTGTAGGTTTCTG-1_Input | Input_TTTGTGTAGGTTTCTG-1 | 5  | 1 | Input | 1_5  |\n",
       "| Input_TTTGTGTAGTAGACCG-1 | Input |  1601 |  1601 | 17478 |  2545 |  36 |  67 |  838 | 10895 |  3097 | ⋯ | 14 | 14 |  2156 | 1633 | TTTGTGTAGTAGACCG-1_Input | Input_TTTGTGTAGTAGACCG-1 | 11 | 1 | Input | 1_11 |\n",
       "| Input_TTTGTGTAGTTCGTTG-1 | Input |  7250 |  7250 | 47326 | 17420 | 175 | 171 | 2124 | 11394 | 16042 | ⋯ | 2  | 2  | 10200 | 5905 | TTTGTGTAGTTCGTTG-1_Input | Input_TTTGTGTAGTTCGTTG-1 | 17 | 0 | Input | 0_17 |\n",
       "| Input_TTTGTGTCAACTCGTA-1 | Input |  5354 |  5354 | 35312 | 10401 |  97 | 156 |  985 | 14763 |  8910 | ⋯ | 2  | 2  |  5818 | 4082 | TTTGTGTCAACTCGTA-1_Input | Input_TTTGTGTCAACTCGTA-1 | 4  | 1 | Input | 1_4  |\n",
       "| Input_TTTGTGTCAAGCCAGA-1 | Input |  2639 |  2639 | 19591 |  3883 |  37 |  67 |  496 | 10265 |  4843 | ⋯ | 2  | 2  |  2945 | 2326 | TTTGTGTCAAGCCAGA-1_Input | Input_TTTGTGTCAAGCCAGA-1 | 27 | 1 | Input | 1_27 |\n",
       "| Input_TTTGTGTCAATGACTC-1 | Input |  4432 |  4432 | 22045 |  5463 |  96 |  62 |  512 |  9370 |  6542 | ⋯ | 2  | 2  |  4643 | 3485 | TTTGTGTCAATGACTC-1_Input | Input_TTTGTGTCAATGACTC-1 | 2  | 1 | Input | 1_2  |\n",
       "| Input_TTTGTGTCACACATTG-1 | Input |  2478 |  2478 | 20370 |  2166 |  49 |  76 |  272 | 14386 |  3421 | ⋯ | 3  | 3  |  2344 | 1953 | TTTGTGTCACACATTG-1_Input | Input_TTTGTGTCACACATTG-1 | 1  | 0 | Input | 0_1  |\n",
       "| Input_TTTGTGTCAGAAAGAG-1 | Input |  8863 |  8863 | 54991 | 15520 | 187 | 199 | 1754 | 18606 | 18725 | ⋯ | 3  | 3  | 11729 | 6171 | TTTGTGTCAGAAAGAG-1_Input | Input_TTTGTGTCAGAAAGAG-1 | 4  | 1 | Input | 1_4  |\n",
       "| Input_TTTGTGTCATAGCCAT-1 | Input |  8994 |  8994 | 38670 | 12717 | 201 | 145 | 2007 |  7501 | 16099 | ⋯ | 3  | 3  |  9908 | 6094 | TTTGTGTCATAGCCAT-1_Input | Input_TTTGTGTCATAGCCAT-1 | 16 | 1 | Input | 1_16 |\n",
       "| Input_TTTGTGTGTAAGCCGA-1 | Input |  3557 |  3557 | 15168 |  3241 |  69 |  60 |  437 |  5996 |  5365 | ⋯ | 3  | 3  |  3719 | 2918 | TTTGTGTGTAAGCCGA-1_Input | Input_TTTGTGTGTAAGCCGA-1 | 6  | 0 | Input | 0_6  |\n",
       "| Input_TTTGTGTGTAGATTAG-1 | Input |  3000 |  3000 | 17832 |  7612 |  54 |  78 |  632 |  3609 |  5847 | ⋯ | 13 | 13 |  3770 | 2811 | TTTGTGTGTAGATTAG-1_Input | Input_TTTGTGTGTAGATTAG-1 | 12 | 0 | Input | 0_12 |\n",
       "| Input_TTTGTGTGTAGGGTCA-1 | Input |  4531 |  4531 | 20297 |  5059 |  77 |  78 |  535 |  7531 |  7017 | ⋯ | 3  | 3  |  4695 | 3424 | TTTGTGTGTAGGGTCA-1_Input | Input_TTTGTGTGTAGGGTCA-1 | 43 | 0 | Input | 0_43 |\n",
       "| Input_TTTGTGTGTCATAGAA-1 | Input |  7436 |  7436 | 32663 | 10594 | 153 | 131 | 1320 |  8708 | 11757 | ⋯ | 2  | 2  |  7879 | 5181 | TTTGTGTGTCATAGAA-1_Input | Input_TTTGTGTGTCATAGAA-1 | 1  | 1 | Input | 1_1  |\n",
       "| Input_TTTGTGTGTTTCTTAC-1 | Input |  3585 |  3585 | 17067 |  3257 |  63 |  80 |  461 |  8097 |  5109 | ⋯ | 3  | 3  |  3738 | 2899 | TTTGTGTGTTTCTTAC-1_Input | Input_TTTGTGTGTTTCTTAC-1 | 6  | 0 | Input | 0_6  |\n",
       "| Input_TTTGTGTTCCTGAAAC-1 | Input |  4362 |  4362 | 30427 |  8323 |  84 |  99 |  799 | 12146 |  8976 | ⋯ | 11 | 11 |  5839 | 4144 | TTTGTGTTCCTGAAAC-1_Input | Input_TTTGTGTTCCTGAAAC-1 | 11 | 0 | Input | 0_11 |\n",
       "| Input_TTTGTGTTCGGGAAAC-1 | Input |  8047 |  8047 | 40114 | 14032 | 169 | 160 | 1561 | 10102 | 14090 | ⋯ | 3  | 3  |  9421 | 5890 | TTTGTGTTCGGGAAAC-1_Input | Input_TTTGTGTTCGGGAAAC-1 | 37 | 0 | Input | 0_37 |\n",
       "| Input_TTTGTGTTCGGGACAA-1 | Input |  3303 |  3303 | 22721 |  4421 |  43 |  84 |  546 | 11692 |  5935 | ⋯ | 4  | 4  |  4303 | 3323 | TTTGTGTTCGGGACAA-1_Input | Input_TTTGTGTTCGGGACAA-1 | 3  | 1 | Input | 1_3  |\n",
       "| Input_TTTGTGTTCTGGCACG-1 | Input | 11556 | 11556 | 57423 | 22063 | 263 | 235 | 2056 | 11433 | 21373 | ⋯ | 3  | 3  | 13841 | 7279 | TTTGTGTTCTGGCACG-1_Input | Input_TTTGTGTTCTGGCACG-1 | 19 | 0 | Input | 0_19 |\n",
       "\n"
      ],
      "text/plain": [
       "                           orig.ident nCount_ATAC nFeature_ATAC total duplicate\n",
       "Control_AAACGAAAGAATCAGT-1 Control    1972        1972           6432 1259     \n",
       "Control_AAACGAAAGCATACCT-1 Control    2674        2674          11858 1937     \n",
       "Control_AAACGAAAGCGAGAAA-1 Control    1939        1939           7365 1097     \n",
       "Control_AAACGAAAGTACAGAT-1 Control     862         862           4095  861     \n",
       "Control_AAACGAAAGTACAGTA-1 Control    1775        1775           8088 1091     \n",
       "Control_AAACGAAAGTGTCGGA-1 Control     756         756           3362  524     \n",
       "Control_AAACGAACACTCGCAG-1 Control    1444        1444           6285  831     \n",
       "Control_AAACGAAGTCTTAGCA-1 Control    1921        1921          10456 1353     \n",
       "Control_AAACGAAGTGAGGGTT-1 Control     425         425           1347  226     \n",
       "Control_AAACGAATCAGGCGCT-1 Control    7347        7347          33434 6309     \n",
       "Control_AAACGAATCCATCGAA-1 Control    3980        3980          19085 3491     \n",
       "Control_AAACGAATCCCACGGA-1 Control    2655        2655          10468 1550     \n",
       "Control_AAACGAATCTCGTAGA-1 Control    1487        1487           6532 1102     \n",
       "Control_AAACTCGAGTCTCTAG-1 Control    1521        1521           7080 1150     \n",
       "Control_AAACTCGAGTGAAGGA-1 Control    2323        2323           8492 1182     \n",
       "Control_AAACTCGCATGCACTA-1 Control    4322        4322          22421 3235     \n",
       "Control_AAACTCGGTCTCTGGG-1 Control    1038        1038           3433  636     \n",
       "Control_AAACTCGGTCTGCACG-1 Control    2226        2226          10751 1285     \n",
       "Control_AAACTCGGTTGGCTTA-1 Control    3507        3507          17456 2829     \n",
       "Control_AAACTCGTCGGGAAAC-1 Control    1727        1727           7197 1049     \n",
       "Control_AAACTCGTCTGCGTCT-1 Control    1650        1650           7665 1178     \n",
       "Control_AAACTGCAGCCCATGC-1 Control    2478        2478          11638 1560     \n",
       "Control_AAACTGCAGCGTTGCC-1 Control    4532        4532          17895 2441     \n",
       "Control_AAACTGCAGGATGTAT-1 Control    2149        2149          10499 1546     \n",
       "Control_AAACTGCCAAGAGATT-1 Control    2667        2667          11592 1817     \n",
       "Control_AAACTGCCACTCGCAG-1 Control     528         528           2588  548     \n",
       "Control_AAACTGCGTAACTGAA-1 Control    3280        3280          12446 3098     \n",
       "Control_AAACTGCGTGCAAGCA-1 Control    3170        3170          13509 2327     \n",
       "Control_AAACTGCGTTAACCAC-1 Control     481         481           3245  668     \n",
       "Control_AAACTGCGTTACGGAG-1 Control    5498        5498          25200 4282     \n",
       "⋮                          ⋮          ⋮           ⋮             ⋮     ⋮        \n",
       "Input_TTTGGTTCATATAGAG-1   Input       5484        5484         30210  7894    \n",
       "Input_TTTGGTTCATGGCCCA-1   Input       4186        4186         26674  7664    \n",
       "Input_TTTGGTTGTTCTCGAA-1   Input       3606        3606         23621  5512    \n",
       "Input_TTTGGTTTCACTCGGG-1   Input       5912        5912         38833 11548    \n",
       "Input_TTTGGTTTCATCATGG-1   Input       8242        8242         38225 14020    \n",
       "Input_TTTGGTTTCCAGAATC-1   Input       6701        6701         36418 10369    \n",
       "Input_TTTGGTTTCCAGCACG-1   Input       5854        5854         38276 10726    \n",
       "Input_TTTGGTTTCGGGAAAC-1   Input       9159        9159         44036 15752    \n",
       "Input_TTTGGTTTCTGAGTCA-1   Input      11537       11537         46672 17946    \n",
       "Input_TTTGGTTTCTGATCCC-1   Input       4354        4354         23116  4623    \n",
       "Input_TTTGTGTAGAACCCGA-1   Input      10520       10520         54322 18751    \n",
       "Input_TTTGTGTAGGTTGTTC-1   Input       3485        3485         28547  5288    \n",
       "Input_TTTGTGTAGGTTTCTG-1   Input       2413        2413         15157  2804    \n",
       "Input_TTTGTGTAGTAGACCG-1   Input       1601        1601         17478  2545    \n",
       "Input_TTTGTGTAGTTCGTTG-1   Input       7250        7250         47326 17420    \n",
       "Input_TTTGTGTCAACTCGTA-1   Input       5354        5354         35312 10401    \n",
       "Input_TTTGTGTCAAGCCAGA-1   Input       2639        2639         19591  3883    \n",
       "Input_TTTGTGTCAATGACTC-1   Input       4432        4432         22045  5463    \n",
       "Input_TTTGTGTCACACATTG-1   Input       2478        2478         20370  2166    \n",
       "Input_TTTGTGTCAGAAAGAG-1   Input       8863        8863         54991 15520    \n",
       "Input_TTTGTGTCATAGCCAT-1   Input       8994        8994         38670 12717    \n",
       "Input_TTTGTGTGTAAGCCGA-1   Input       3557        3557         15168  3241    \n",
       "Input_TTTGTGTGTAGATTAG-1   Input       3000        3000         17832  7612    \n",
       "Input_TTTGTGTGTAGGGTCA-1   Input       4531        4531         20297  5059    \n",
       "Input_TTTGTGTGTCATAGAA-1   Input       7436        7436         32663 10594    \n",
       "Input_TTTGTGTGTTTCTTAC-1   Input       3585        3585         17067  3257    \n",
       "Input_TTTGTGTTCCTGAAAC-1   Input       4362        4362         30427  8323    \n",
       "Input_TTTGTGTTCGGGAAAC-1   Input       8047        8047         40114 14032    \n",
       "Input_TTTGTGTTCGGGACAA-1   Input       3303        3303         22721  4421    \n",
       "Input_TTTGTGTTCTGGCACG-1   Input      11556       11556         57423 22063    \n",
       "                           chimeric unmapped lowmapq mitochondrial\n",
       "Control_AAACGAAAGAATCAGT-1  31       19       266    1066         \n",
       "Control_AAACGAAAGCATACCT-1  51       34       549    3102         \n",
       "Control_AAACGAAAGCGAGAAA-1  25       27       275    2184         \n",
       "Control_AAACGAAAGTACAGAT-1  16       16       230     771         \n",
       "Control_AAACGAAAGTACAGTA-1  27       27       369    2157         \n",
       "Control_AAACGAAAGTGTCGGA-1  15       12       154     836         \n",
       "Control_AAACGAACACTCGCAG-1  22       23       319    1872         \n",
       "Control_AAACGAAGTCTTAGCA-1  31       23       417    3769         \n",
       "Control_AAACGAAGTGAGGGTT-1   5        9        48     307         \n",
       "Control_AAACGAATCAGGCGCT-1 129      123      1245    8223         \n",
       "Control_AAACGAATCCATCGAA-1  66       37       887    5147         \n",
       "Control_AAACGAATCCCACGGA-1  58       37       472    2179         \n",
       "Control_AAACGAATCTCGTAGA-1  13       23       348    1688         \n",
       "Control_AAACTCGAGTCTCTAG-1  33       25       380    1601         \n",
       "Control_AAACTCGAGTGAAGGA-1  17       16       344    2358         \n",
       "Control_AAACTCGCATGCACTA-1  66       75       893    7533         \n",
       "Control_AAACTCGGTCTCTGGG-1   7       12       172     564         \n",
       "Control_AAACTCGGTCTGCACG-1  30       36       440    3757         \n",
       "Control_AAACTCGGTTGGCTTA-1  55       65       754    5314         \n",
       "Control_AAACTCGTCGGGAAAC-1  25       19       256    1885         \n",
       "Control_AAACTCGTCTGCGTCT-1  21       33       300    2670         \n",
       "Control_AAACTGCAGCCCATGC-1  45       29       503    3664         \n",
       "Control_AAACTGCAGCGTTGCC-1  73       58       732    4266         \n",
       "Control_AAACTGCAGGATGTAT-1  28       33       517    2639         \n",
       "Control_AAACTGCCAAGAGATT-1  40       25       597    2930         \n",
       "Control_AAACTGCCACTCGCAG-1   2       10       106     583         \n",
       "Control_AAACTGCGTAACTGAA-1  45       34       564    1738         \n",
       "Control_AAACTGCGTGCAAGCA-1  41       31       647    3705         \n",
       "Control_AAACTGCGTTAACCAC-1   8        8       109    1317         \n",
       "Control_AAACTGCGTTACGGAG-1  71      100      1092    6054         \n",
       "⋮                          ⋮        ⋮        ⋮       ⋮            \n",
       "Input_TTTGGTTCATATAGAG-1   106      111      1110    11817        \n",
       "Input_TTTGGTTCATGGCCCA-1    86      105      1105    10024        \n",
       "Input_TTTGGTTGTTCTCGAA-1    84       92       603    11441        \n",
       "Input_TTTGGTTTCACTCGGG-1   149      160      1847    13842        \n",
       "Input_TTTGGTTTCATCATGG-1   150      199      1565     8097        \n",
       "Input_TTTGGTTTCCAGAATC-1   134      140      1395    12229        \n",
       "Input_TTTGGTTTCCAGCACG-1   113      155      1333    12920        \n",
       "Input_TTTGGTTTCGGGAAAC-1   188      162      1575     9606        \n",
       "Input_TTTGGTTTCTGAGTCA-1   189      182      1899     6351        \n",
       "Input_TTTGGTTTCTGATCCC-1   135       91       603    10983        \n",
       "Input_TTTGTGTAGAACCCGA-1   185      269      1723    13043        \n",
       "Input_TTTGTGTAGGTTGTTC-1    99       92       593    16793        \n",
       "Input_TTTGTGTAGGTTTCTG-1    35       40       431     7959        \n",
       "Input_TTTGTGTAGTAGACCG-1    36       67       838    10895        \n",
       "Input_TTTGTGTAGTTCGTTG-1   175      171      2124    11394        \n",
       "Input_TTTGTGTCAACTCGTA-1    97      156       985    14763        \n",
       "Input_TTTGTGTCAAGCCAGA-1    37       67       496    10265        \n",
       "Input_TTTGTGTCAATGACTC-1    96       62       512     9370        \n",
       "Input_TTTGTGTCACACATTG-1    49       76       272    14386        \n",
       "Input_TTTGTGTCAGAAAGAG-1   187      199      1754    18606        \n",
       "Input_TTTGTGTCATAGCCAT-1   201      145      2007     7501        \n",
       "Input_TTTGTGTGTAAGCCGA-1    69       60       437     5996        \n",
       "Input_TTTGTGTGTAGATTAG-1    54       78       632     3609        \n",
       "Input_TTTGTGTGTAGGGTCA-1    77       78       535     7531        \n",
       "Input_TTTGTGTGTCATAGAA-1   153      131      1320     8708        \n",
       "Input_TTTGTGTGTTTCTTAC-1    63       80       461     8097        \n",
       "Input_TTTGTGTTCCTGAAAC-1    84       99       799    12146        \n",
       "Input_TTTGTGTTCGGGAAAC-1   169      160      1561    10102        \n",
       "Input_TTTGTGTTCGGGACAA-1    43       84       546    11692        \n",
       "Input_TTTGTGTTCTGGCACG-1   263      235      2056    11433        \n",
       "                           passed_filters ⋯ ATAC_snn_res.0.8 seurat_clusters\n",
       "Control_AAACGAAAGAATCAGT-1  3791          ⋯ 6                6              \n",
       "Control_AAACGAAAGCATACCT-1  6185          ⋯ 7                7              \n",
       "Control_AAACGAAAGCGAGAAA-1  3757          ⋯ 7                7              \n",
       "Control_AAACGAAAGTACAGAT-1  2201          ⋯ 4                4              \n",
       "Control_AAACGAAAGTACAGTA-1  4417          ⋯ 6                6              \n",
       "Control_AAACGAAAGTGTCGGA-1  1821          ⋯ 4                4              \n",
       "Control_AAACGAACACTCGCAG-1  3218          ⋯ 1                1              \n",
       "Control_AAACGAAGTCTTAGCA-1  4863          ⋯ 4                4              \n",
       "Control_AAACGAAGTGAGGGTT-1   752          ⋯ 9                9              \n",
       "Control_AAACGAATCAGGCGCT-1 17405          ⋯ 0                0              \n",
       "Control_AAACGAATCCATCGAA-1  9457          ⋯ 7                7              \n",
       "Control_AAACGAATCCCACGGA-1  6172          ⋯ 7                7              \n",
       "Control_AAACGAATCTCGTAGA-1  3358          ⋯ 4                4              \n",
       "Control_AAACTCGAGTCTCTAG-1  3891          ⋯ 4                4              \n",
       "Control_AAACTCGAGTGAAGGA-1  4575          ⋯ 10               10             \n",
       "Control_AAACTCGCATGCACTA-1 10619          ⋯ 7                7              \n",
       "Control_AAACTCGGTCTCTGGG-1  2042          ⋯ 10               10             \n",
       "Control_AAACTCGGTCTGCACG-1  5203          ⋯ 1                1              \n",
       "Control_AAACTCGGTTGGCTTA-1  8439          ⋯ 1                1              \n",
       "Control_AAACTCGTCGGGAAAC-1  3963          ⋯ 8                8              \n",
       "Control_AAACTCGTCTGCGTCT-1  3463          ⋯ 4                4              \n",
       "Control_AAACTGCAGCCCATGC-1  5837          ⋯ 4                4              \n",
       "Control_AAACTGCAGCGTTGCC-1 10325          ⋯ 0                0              \n",
       "Control_AAACTGCAGGATGTAT-1  5736          ⋯ 4                4              \n",
       "Control_AAACTGCCAAGAGATT-1  6183          ⋯ 1                1              \n",
       "Control_AAACTGCCACTCGCAG-1  1339          ⋯ 9                9              \n",
       "Control_AAACTGCGTAACTGAA-1  6967          ⋯ 7                7              \n",
       "Control_AAACTGCGTGCAAGCA-1  6758          ⋯ 7                7              \n",
       "Control_AAACTGCGTTAACCAC-1  1135          ⋯ 9                9              \n",
       "Control_AAACTGCGTTACGGAG-1 13601          ⋯ 8                8              \n",
       "⋮                          ⋮              ⋱ ⋮                ⋮              \n",
       "Input_TTTGGTTCATATAGAG-1    9172          ⋯ 2                2              \n",
       "Input_TTTGGTTCATGGCCCA-1    7690          ⋯ 2                2              \n",
       "Input_TTTGGTTGTTCTCGAA-1    5889          ⋯ 2                2              \n",
       "Input_TTTGGTTTCACTCGGG-1   11287          ⋯ 2                2              \n",
       "Input_TTTGGTTTCATCATGG-1   14194          ⋯ 3                3              \n",
       "Input_TTTGGTTTCCAGAATC-1   12151          ⋯ 2                2              \n",
       "Input_TTTGGTTTCCAGCACG-1   13029          ⋯ 11               11             \n",
       "Input_TTTGGTTTCGGGAAAC-1   16753          ⋯ 3                3              \n",
       "Input_TTTGGTTTCTGAGTCA-1   20105          ⋯ 3                3              \n",
       "Input_TTTGGTTTCTGATCCC-1    6681          ⋯ 3                3              \n",
       "Input_TTTGTGTAGAACCCGA-1   20351          ⋯ 3                3              \n",
       "Input_TTTGTGTAGGTTGTTC-1    5682          ⋯ 6                6              \n",
       "Input_TTTGTGTAGGTTTCTG-1    3888          ⋯ 7                7              \n",
       "Input_TTTGTGTAGTAGACCG-1    3097          ⋯ 14               14             \n",
       "Input_TTTGTGTAGTTCGTTG-1   16042          ⋯ 2                2              \n",
       "Input_TTTGTGTCAACTCGTA-1    8910          ⋯ 2                2              \n",
       "Input_TTTGTGTCAAGCCAGA-1    4843          ⋯ 2                2              \n",
       "Input_TTTGTGTCAATGACTC-1    6542          ⋯ 2                2              \n",
       "Input_TTTGTGTCACACATTG-1    3421          ⋯ 3                3              \n",
       "Input_TTTGTGTCAGAAAGAG-1   18725          ⋯ 3                3              \n",
       "Input_TTTGTGTCATAGCCAT-1   16099          ⋯ 3                3              \n",
       "Input_TTTGTGTGTAAGCCGA-1    5365          ⋯ 3                3              \n",
       "Input_TTTGTGTGTAGATTAG-1    5847          ⋯ 13               13             \n",
       "Input_TTTGTGTGTAGGGTCA-1    7017          ⋯ 3                3              \n",
       "Input_TTTGTGTGTCATAGAA-1   11757          ⋯ 2                2              \n",
       "Input_TTTGTGTGTTTCTTAC-1    5109          ⋯ 3                3              \n",
       "Input_TTTGTGTTCCTGAAAC-1    8976          ⋯ 11               11             \n",
       "Input_TTTGTGTTCGGGAAAC-1   14090          ⋯ 3                3              \n",
       "Input_TTTGTGTTCGGGACAA-1    5935          ⋯ 4                4              \n",
       "Input_TTTGTGTTCTGGCACG-1   21373          ⋯ 3                3              \n",
       "                           nCount_RNA nFeature_RNA ID                        \n",
       "Control_AAACGAAAGAATCAGT-1  2211      1942         AAACGAAAGAATCAGT-1_Control\n",
       "Control_AAACGAAAGCATACCT-1  3311      2750         AAACGAAAGCATACCT-1_Control\n",
       "Control_AAACGAAAGCGAGAAA-1  2112      1838         AAACGAAAGCGAGAAA-1_Control\n",
       "Control_AAACGAAAGTACAGAT-1  1441      1317         AAACGAAAGTACAGAT-1_Control\n",
       "Control_AAACGAAAGTACAGTA-1  2385      2085         AAACGAAAGTACAGTA-1_Control\n",
       "Control_AAACGAAAGTGTCGGA-1  1133      1068         AAACGAAAGTGTCGGA-1_Control\n",
       "Control_AAACGAACACTCGCAG-1  1855      1658         AAACGAACACTCGCAG-1_Control\n",
       "Control_AAACGAAGTCTTAGCA-1  2918      2480         AAACGAAGTCTTAGCA-1_Control\n",
       "Control_AAACGAAGTGAGGGTT-1   439       426         NA                        \n",
       "Control_AAACGAATCAGGCGCT-1 10814      6456         AAACGAATCAGGCGCT-1_Control\n",
       "Control_AAACGAATCCATCGAA-1  5168      3854         AAACGAATCCATCGAA-1_Control\n",
       "Control_AAACGAATCCCACGGA-1  3420      2848         AAACGAATCCCACGGA-1_Control\n",
       "Control_AAACGAATCTCGTAGA-1  2115      1881         AAACGAATCTCGTAGA-1_Control\n",
       "Control_AAACTCGAGTCTCTAG-1  2249      2002         AAACTCGAGTCTCTAG-1_Control\n",
       "Control_AAACTCGAGTGAAGGA-1  2852      2432         AAACTCGAGTGAAGGA-1_Control\n",
       "Control_AAACTCGCATGCACTA-1  5835      4241         AAACTCGCATGCACTA-1_Control\n",
       "Control_AAACTCGGTCTCTGGG-1  1239      1157         NA                        \n",
       "Control_AAACTCGGTCTGCACG-1  3054      2546         AAACTCGGTCTGCACG-1_Control\n",
       "Control_AAACTCGGTTGGCTTA-1  4501      3462         AAACTCGGTTGGCTTA-1_Control\n",
       "Control_AAACTCGTCGGGAAAC-1  2368      2044         AAACTCGTCGGGAAAC-1_Control\n",
       "Control_AAACTCGTCTGCGTCT-1  2172      1886         AAACTCGTCTGCGTCT-1_Control\n",
       "Control_AAACTGCAGCCCATGC-1  3542      2881         AAACTGCAGCCCATGC-1_Control\n",
       "Control_AAACTGCAGCGTTGCC-1  6199      4472         NA                        \n",
       "Control_AAACTGCAGGATGTAT-1  3348      2780         AAACTGCAGGATGTAT-1_Control\n",
       "Control_AAACTGCCAAGAGATT-1  3642      2912         AAACTGCCAAGAGATT-1_Control\n",
       "Control_AAACTGCCACTCGCAG-1   800       768         NA                        \n",
       "Control_AAACTGCGTAACTGAA-1  3875      3158         AAACTGCGTAACTGAA-1_Control\n",
       "Control_AAACTGCGTGCAAGCA-1  3986      3218         AAACTGCGTGCAAGCA-1_Control\n",
       "Control_AAACTGCGTTAACCAC-1   687       661         AAACTGCGTTAACCAC-1_Control\n",
       "Control_AAACTGCGTTACGGAG-1  8423      5399         AAACTGCGTTACGGAG-1_Control\n",
       "⋮                          ⋮          ⋮            ⋮                         \n",
       "Input_TTTGGTTCATATAGAG-1    5788      4107         TTTGGTTCATATAGAG-1_Input  \n",
       "Input_TTTGGTTCATGGCCCA-1    4643      3516         TTTGGTTCATGGCCCA-1_Input  \n",
       "Input_TTTGGTTGTTCTCGAA-1    3586      2862         TTTGGTTGTTCTCGAA-1_Input  \n",
       "Input_TTTGGTTTCACTCGGG-1    7286      5098         TTTGGTTTCACTCGGG-1_Input  \n",
       "Input_TTTGGTTTCATCATGG-1    9417      5915         TTTGGTTTCATCATGG-1_Input  \n",
       "Input_TTTGGTTTCCAGAATC-1    7315      5031         TTTGGTTTCCAGAATC-1_Input  \n",
       "Input_TTTGGTTTCCAGCACG-1    8066      5160         TTTGGTTTCCAGCACG-1_Input  \n",
       "Input_TTTGGTTTCGGGAAAC-1   10849      6289         TTTGGTTTCGGGAAAC-1_Input  \n",
       "Input_TTTGGTTTCTGAGTCA-1   13275      7406         TTTGGTTTCTGAGTCA-1_Input  \n",
       "Input_TTTGGTTTCTGATCCC-1    4516      3301         TTTGGTTTCTGATCCC-1_Input  \n",
       "Input_TTTGTGTAGAACCCGA-1   13613      6822         TTTGTGTAGAACCCGA-1_Input  \n",
       "Input_TTTGTGTAGGTTGTTC-1    3661      2933         TTTGTGTAGGTTGTTC-1_Input  \n",
       "Input_TTTGTGTAGGTTTCTG-1    2382      1951         TTTGTGTAGGTTTCTG-1_Input  \n",
       "Input_TTTGTGTAGTAGACCG-1    2156      1633         TTTGTGTAGTAGACCG-1_Input  \n",
       "Input_TTTGTGTAGTTCGTTG-1   10200      5905         TTTGTGTAGTTCGTTG-1_Input  \n",
       "Input_TTTGTGTCAACTCGTA-1    5818      4082         TTTGTGTCAACTCGTA-1_Input  \n",
       "Input_TTTGTGTCAAGCCAGA-1    2945      2326         TTTGTGTCAAGCCAGA-1_Input  \n",
       "Input_TTTGTGTCAATGACTC-1    4643      3485         TTTGTGTCAATGACTC-1_Input  \n",
       "Input_TTTGTGTCACACATTG-1    2344      1953         TTTGTGTCACACATTG-1_Input  \n",
       "Input_TTTGTGTCAGAAAGAG-1   11729      6171         TTTGTGTCAGAAAGAG-1_Input  \n",
       "Input_TTTGTGTCATAGCCAT-1    9908      6094         TTTGTGTCATAGCCAT-1_Input  \n",
       "Input_TTTGTGTGTAAGCCGA-1    3719      2918         TTTGTGTGTAAGCCGA-1_Input  \n",
       "Input_TTTGTGTGTAGATTAG-1    3770      2811         TTTGTGTGTAGATTAG-1_Input  \n",
       "Input_TTTGTGTGTAGGGTCA-1    4695      3424         TTTGTGTGTAGGGTCA-1_Input  \n",
       "Input_TTTGTGTGTCATAGAA-1    7879      5181         TTTGTGTGTCATAGAA-1_Input  \n",
       "Input_TTTGTGTGTTTCTTAC-1    3738      2899         TTTGTGTGTTTCTTAC-1_Input  \n",
       "Input_TTTGTGTTCCTGAAAC-1    5839      4144         TTTGTGTTCCTGAAAC-1_Input  \n",
       "Input_TTTGTGTTCGGGAAAC-1    9421      5890         TTTGTGTTCGGGAAAC-1_Input  \n",
       "Input_TTTGTGTTCGGGACAA-1    4303      3323         TTTGTGTTCGGGACAA-1_Input  \n",
       "Input_TTTGTGTTCTGGCACG-1   13841      7279         TTTGTGTTCTGGCACG-1_Input  \n",
       "                           Row.names                  lineage donor condition\n",
       "Control_AAACGAAAGAATCAGT-1 Control_AAACGAAAGAATCAGT-1 4       1     Control  \n",
       "Control_AAACGAAAGCATACCT-1 Control_AAACGAAAGCATACCT-1 30      1     Control  \n",
       "Control_AAACGAAAGCGAGAAA-1 Control_AAACGAAAGCGAGAAA-1 15      0     Control  \n",
       "Control_AAACGAAAGTACAGAT-1 Control_AAACGAAAGTACAGAT-1 9       0     Control  \n",
       "Control_AAACGAAAGTACAGTA-1 Control_AAACGAAAGTACAGTA-1 17      1     Control  \n",
       "Control_AAACGAAAGTGTCGGA-1 Control_AAACGAAAGTGTCGGA-1 3       1     Control  \n",
       "Control_AAACGAACACTCGCAG-1 Control_AAACGAACACTCGCAG-1 21      0     Control  \n",
       "Control_AAACGAAGTCTTAGCA-1 Control_AAACGAAGTCTTAGCA-1 20      1     Control  \n",
       "Control_AAACGAAGTGAGGGTT-1 Control_AAACGAAGTGAGGGTT-1 None    None  None     \n",
       "Control_AAACGAATCAGGCGCT-1 Control_AAACGAATCAGGCGCT-1 24      0     Control  \n",
       "Control_AAACGAATCCATCGAA-1 Control_AAACGAATCCATCGAA-1 13      0     Control  \n",
       "Control_AAACGAATCCCACGGA-1 Control_AAACGAATCCCACGGA-1 3       1     Control  \n",
       "Control_AAACGAATCTCGTAGA-1 Control_AAACGAATCTCGTAGA-1 25      0     Control  \n",
       "Control_AAACTCGAGTCTCTAG-1 Control_AAACTCGAGTCTCTAG-1 20      1     Control  \n",
       "Control_AAACTCGAGTGAAGGA-1 Control_AAACTCGAGTGAAGGA-1 0       0     Control  \n",
       "Control_AAACTCGCATGCACTA-1 Control_AAACTCGCATGCACTA-1 19      0     Control  \n",
       "Control_AAACTCGGTCTCTGGG-1 Control_AAACTCGGTCTCTGGG-1 None    None  None     \n",
       "Control_AAACTCGGTCTGCACG-1 Control_AAACTCGGTCTGCACG-1 9       1     Control  \n",
       "Control_AAACTCGGTTGGCTTA-1 Control_AAACTCGGTTGGCTTA-1 26      1     Control  \n",
       "Control_AAACTCGTCGGGAAAC-1 Control_AAACTCGTCGGGAAAC-1 6       0     Control  \n",
       "Control_AAACTCGTCTGCGTCT-1 Control_AAACTCGTCTGCGTCT-1 1       1     Control  \n",
       "Control_AAACTGCAGCCCATGC-1 Control_AAACTGCAGCCCATGC-1 8       0     Control  \n",
       "Control_AAACTGCAGCGTTGCC-1 Control_AAACTGCAGCGTTGCC-1 None    None  None     \n",
       "Control_AAACTGCAGGATGTAT-1 Control_AAACTGCAGGATGTAT-1 0       1     Control  \n",
       "Control_AAACTGCCAAGAGATT-1 Control_AAACTGCCAAGAGATT-1 4       0     Control  \n",
       "Control_AAACTGCCACTCGCAG-1 Control_AAACTGCCACTCGCAG-1 None    None  None     \n",
       "Control_AAACTGCGTAACTGAA-1 Control_AAACTGCGTAACTGAA-1 18      0     Control  \n",
       "Control_AAACTGCGTGCAAGCA-1 Control_AAACTGCGTGCAAGCA-1 2       1     Control  \n",
       "Control_AAACTGCGTTAACCAC-1 Control_AAACTGCGTTAACCAC-1 25      1     Control  \n",
       "Control_AAACTGCGTTACGGAG-1 Control_AAACTGCGTTACGGAG-1 29      1     Control  \n",
       "⋮                          ⋮                          ⋮       ⋮     ⋮        \n",
       "Input_TTTGGTTCATATAGAG-1   Input_TTTGGTTCATATAGAG-1   3       1     Input    \n",
       "Input_TTTGGTTCATGGCCCA-1   Input_TTTGGTTCATGGCCCA-1   15      0     Input    \n",
       "Input_TTTGGTTGTTCTCGAA-1   Input_TTTGGTTGTTCTCGAA-1   5       0     Input    \n",
       "Input_TTTGGTTTCACTCGGG-1   Input_TTTGGTTTCACTCGGG-1   6       0     Input    \n",
       "Input_TTTGGTTTCATCATGG-1   Input_TTTGGTTTCATCATGG-1   2       0     Input    \n",
       "Input_TTTGGTTTCCAGAATC-1   Input_TTTGGTTTCCAGAATC-1   28      1     Input    \n",
       "Input_TTTGGTTTCCAGCACG-1   Input_TTTGGTTTCCAGCACG-1   5       0     Input    \n",
       "Input_TTTGGTTTCGGGAAAC-1   Input_TTTGGTTTCGGGAAAC-1   16      0     Input    \n",
       "Input_TTTGGTTTCTGAGTCA-1   Input_TTTGGTTTCTGAGTCA-1   24      0     Input    \n",
       "Input_TTTGGTTTCTGATCCC-1   Input_TTTGGTTTCTGATCCC-1   25      0     Input    \n",
       "Input_TTTGTGTAGAACCCGA-1   Input_TTTGTGTAGAACCCGA-1   13      1     Input    \n",
       "Input_TTTGTGTAGGTTGTTC-1   Input_TTTGTGTAGGTTGTTC-1   7       1     Input    \n",
       "Input_TTTGTGTAGGTTTCTG-1   Input_TTTGTGTAGGTTTCTG-1   5       1     Input    \n",
       "Input_TTTGTGTAGTAGACCG-1   Input_TTTGTGTAGTAGACCG-1   11      1     Input    \n",
       "Input_TTTGTGTAGTTCGTTG-1   Input_TTTGTGTAGTTCGTTG-1   17      0     Input    \n",
       "Input_TTTGTGTCAACTCGTA-1   Input_TTTGTGTCAACTCGTA-1   4       1     Input    \n",
       "Input_TTTGTGTCAAGCCAGA-1   Input_TTTGTGTCAAGCCAGA-1   27      1     Input    \n",
       "Input_TTTGTGTCAATGACTC-1   Input_TTTGTGTCAATGACTC-1   2       1     Input    \n",
       "Input_TTTGTGTCACACATTG-1   Input_TTTGTGTCACACATTG-1   1       0     Input    \n",
       "Input_TTTGTGTCAGAAAGAG-1   Input_TTTGTGTCAGAAAGAG-1   4       1     Input    \n",
       "Input_TTTGTGTCATAGCCAT-1   Input_TTTGTGTCATAGCCAT-1   16      1     Input    \n",
       "Input_TTTGTGTGTAAGCCGA-1   Input_TTTGTGTGTAAGCCGA-1   6       0     Input    \n",
       "Input_TTTGTGTGTAGATTAG-1   Input_TTTGTGTGTAGATTAG-1   12      0     Input    \n",
       "Input_TTTGTGTGTAGGGTCA-1   Input_TTTGTGTGTAGGGTCA-1   43      0     Input    \n",
       "Input_TTTGTGTGTCATAGAA-1   Input_TTTGTGTGTCATAGAA-1   1       1     Input    \n",
       "Input_TTTGTGTGTTTCTTAC-1   Input_TTTGTGTGTTTCTTAC-1   6       0     Input    \n",
       "Input_TTTGTGTTCCTGAAAC-1   Input_TTTGTGTTCCTGAAAC-1   11      0     Input    \n",
       "Input_TTTGTGTTCGGGAAAC-1   Input_TTTGTGTTCGGGAAAC-1   37      0     Input    \n",
       "Input_TTTGTGTTCGGGACAA-1   Input_TTTGTGTTCGGGACAA-1   3       1     Input    \n",
       "Input_TTTGTGTTCTGGCACG-1   Input_TTTGTGTTCTGGCACG-1   19      0     Input    \n",
       "                           name\n",
       "Control_AAACGAAAGAATCAGT-1 1_4 \n",
       "Control_AAACGAAAGCATACCT-1 1_30\n",
       "Control_AAACGAAAGCGAGAAA-1 0_15\n",
       "Control_AAACGAAAGTACAGAT-1 0_9 \n",
       "Control_AAACGAAAGTACAGTA-1 1_17\n",
       "Control_AAACGAAAGTGTCGGA-1 1_3 \n",
       "Control_AAACGAACACTCGCAG-1 0_21\n",
       "Control_AAACGAAGTCTTAGCA-1 1_20\n",
       "Control_AAACGAAGTGAGGGTT-1 None\n",
       "Control_AAACGAATCAGGCGCT-1 0_24\n",
       "Control_AAACGAATCCATCGAA-1 0_13\n",
       "Control_AAACGAATCCCACGGA-1 1_3 \n",
       "Control_AAACGAATCTCGTAGA-1 0_25\n",
       "Control_AAACTCGAGTCTCTAG-1 1_20\n",
       "Control_AAACTCGAGTGAAGGA-1 0_0 \n",
       "Control_AAACTCGCATGCACTA-1 0_19\n",
       "Control_AAACTCGGTCTCTGGG-1 None\n",
       "Control_AAACTCGGTCTGCACG-1 1_9 \n",
       "Control_AAACTCGGTTGGCTTA-1 1_26\n",
       "Control_AAACTCGTCGGGAAAC-1 0_6 \n",
       "Control_AAACTCGTCTGCGTCT-1 1_1 \n",
       "Control_AAACTGCAGCCCATGC-1 0_8 \n",
       "Control_AAACTGCAGCGTTGCC-1 None\n",
       "Control_AAACTGCAGGATGTAT-1 1_0 \n",
       "Control_AAACTGCCAAGAGATT-1 0_4 \n",
       "Control_AAACTGCCACTCGCAG-1 None\n",
       "Control_AAACTGCGTAACTGAA-1 0_18\n",
       "Control_AAACTGCGTGCAAGCA-1 1_2 \n",
       "Control_AAACTGCGTTAACCAC-1 1_25\n",
       "Control_AAACTGCGTTACGGAG-1 1_29\n",
       "⋮                          ⋮   \n",
       "Input_TTTGGTTCATATAGAG-1   1_3 \n",
       "Input_TTTGGTTCATGGCCCA-1   0_15\n",
       "Input_TTTGGTTGTTCTCGAA-1   0_5 \n",
       "Input_TTTGGTTTCACTCGGG-1   0_6 \n",
       "Input_TTTGGTTTCATCATGG-1   0_2 \n",
       "Input_TTTGGTTTCCAGAATC-1   1_28\n",
       "Input_TTTGGTTTCCAGCACG-1   0_5 \n",
       "Input_TTTGGTTTCGGGAAAC-1   0_16\n",
       "Input_TTTGGTTTCTGAGTCA-1   0_24\n",
       "Input_TTTGGTTTCTGATCCC-1   0_25\n",
       "Input_TTTGTGTAGAACCCGA-1   1_13\n",
       "Input_TTTGTGTAGGTTGTTC-1   1_7 \n",
       "Input_TTTGTGTAGGTTTCTG-1   1_5 \n",
       "Input_TTTGTGTAGTAGACCG-1   1_11\n",
       "Input_TTTGTGTAGTTCGTTG-1   0_17\n",
       "Input_TTTGTGTCAACTCGTA-1   1_4 \n",
       "Input_TTTGTGTCAAGCCAGA-1   1_27\n",
       "Input_TTTGTGTCAATGACTC-1   1_2 \n",
       "Input_TTTGTGTCACACATTG-1   0_1 \n",
       "Input_TTTGTGTCAGAAAGAG-1   1_4 \n",
       "Input_TTTGTGTCATAGCCAT-1   1_16\n",
       "Input_TTTGTGTGTAAGCCGA-1   0_6 \n",
       "Input_TTTGTGTGTAGATTAG-1   0_12\n",
       "Input_TTTGTGTGTAGGGTCA-1   0_43\n",
       "Input_TTTGTGTGTCATAGAA-1   1_1 \n",
       "Input_TTTGTGTGTTTCTTAC-1   0_6 \n",
       "Input_TTTGTGTTCCTGAAAC-1   0_11\n",
       "Input_TTTGTGTTCGGGAAAC-1   0_37\n",
       "Input_TTTGTGTTCGGGACAA-1   1_3 \n",
       "Input_TTTGTGTTCTGGCACG-1   0_19"
      ]
     },
     "metadata": {},
     "output_type": "display_data"
    }
   ],
   "source": [
    "# Load experiment\n",
    "se <- readRDS(se_f)\n",
    "#se[[]]"
   ]
  },
  {
   "cell_type": "markdown",
   "id": "084a97f6",
   "metadata": {},
   "source": [
    "## Plot by donor and condition"
   ]
  },
  {
   "cell_type": "code",
   "execution_count": 4,
   "id": "5d9ca2e3",
   "metadata": {
    "scrolled": true
   },
   "outputs": [
    {
     "name": "stderr",
     "output_type": "stream",
     "text": [
      "\n",
      "Attaching package: ‘patchwork’\n",
      "\n",
      "\n",
      "The following object is masked from ‘package:cowplot’:\n",
      "\n",
      "    align_plots\n",
      "\n",
      "\n",
      "\n",
      "Attaching package: ‘dplyr’\n",
      "\n",
      "\n",
      "The following objects are masked from ‘package:stats’:\n",
      "\n",
      "    filter, lag\n",
      "\n",
      "\n",
      "The following objects are masked from ‘package:base’:\n",
      "\n",
      "    intersect, setdiff, setequal, union\n",
      "\n",
      "\n"
     ]
    }
   ],
   "source": [
    "library(\"Seurat\")\n",
    "#library(\"Seurat\")\n",
    "library(magrittr)\n",
    "library(cowplot)\n",
    "library(ggplot2)\n",
    "library(Signac)\n",
    "library(patchwork)\n",
    "set.seed(1234)\n",
    "library(magrittr)\n",
    "library(cowplot)\n",
    "library(metap)\n",
    "library(dplyr)\n",
    "library(future)"
   ]
  },
  {
   "cell_type": "markdown",
   "id": "f546e7f6",
   "metadata": {},
   "source": [
    "## Plot donor barplots"
   ]
  },
  {
   "cell_type": "code",
   "execution_count": 14,
   "id": "749e093e",
   "metadata": {
    "scrolled": true
   },
   "outputs": [
    {
     "data": {
      "text/html": [
       "<table class=\"dataframe\">\n",
       "<caption>A grouped_df: 1172 × 4</caption>\n",
       "<thead>\n",
       "\t<tr><th scope=col>name</th><th scope=col>donor</th><th scope=col>seurat_clusters</th><th scope=col>size</th></tr>\n",
       "\t<tr><th scope=col>&lt;fct&gt;</th><th scope=col>&lt;fct&gt;</th><th scope=col>&lt;fct&gt;</th><th scope=col>&lt;int&gt;</th></tr>\n",
       "</thead>\n",
       "<tbody>\n",
       "\t<tr><td>0_0</td><td>0</td><td>0 </td><td> 41</td></tr>\n",
       "\t<tr><td>0_0</td><td>0</td><td>1 </td><td> 22</td></tr>\n",
       "\t<tr><td>0_0</td><td>0</td><td>2 </td><td> 71</td></tr>\n",
       "\t<tr><td>0_0</td><td>0</td><td>3 </td><td> 89</td></tr>\n",
       "\t<tr><td>0_0</td><td>0</td><td>4 </td><td> 23</td></tr>\n",
       "\t<tr><td>0_0</td><td>0</td><td>5 </td><td> 22</td></tr>\n",
       "\t<tr><td>0_0</td><td>0</td><td>6 </td><td> 30</td></tr>\n",
       "\t<tr><td>0_0</td><td>0</td><td>7 </td><td> 21</td></tr>\n",
       "\t<tr><td>0_0</td><td>0</td><td>8 </td><td> 14</td></tr>\n",
       "\t<tr><td>0_0</td><td>0</td><td>9 </td><td>  6</td></tr>\n",
       "\t<tr><td>0_0</td><td>0</td><td>10</td><td> 16</td></tr>\n",
       "\t<tr><td>0_0</td><td>0</td><td>11</td><td> 17</td></tr>\n",
       "\t<tr><td>0_0</td><td>0</td><td>12</td><td> 14</td></tr>\n",
       "\t<tr><td>0_0</td><td>0</td><td>13</td><td> 12</td></tr>\n",
       "\t<tr><td>0_0</td><td>0</td><td>14</td><td>  6</td></tr>\n",
       "\t<tr><td>0_1</td><td>0</td><td>0 </td><td> 22</td></tr>\n",
       "\t<tr><td>0_1</td><td>0</td><td>1 </td><td> 34</td></tr>\n",
       "\t<tr><td>0_1</td><td>0</td><td>2 </td><td> 65</td></tr>\n",
       "\t<tr><td>0_1</td><td>0</td><td>3 </td><td>124</td></tr>\n",
       "\t<tr><td>0_1</td><td>0</td><td>4 </td><td> 13</td></tr>\n",
       "\t<tr><td>0_1</td><td>0</td><td>5 </td><td> 18</td></tr>\n",
       "\t<tr><td>0_1</td><td>0</td><td>6 </td><td> 16</td></tr>\n",
       "\t<tr><td>0_1</td><td>0</td><td>7 </td><td> 27</td></tr>\n",
       "\t<tr><td>0_1</td><td>0</td><td>8 </td><td> 22</td></tr>\n",
       "\t<tr><td>0_1</td><td>0</td><td>9 </td><td>  2</td></tr>\n",
       "\t<tr><td>0_1</td><td>0</td><td>10</td><td> 15</td></tr>\n",
       "\t<tr><td>0_1</td><td>0</td><td>11</td><td> 29</td></tr>\n",
       "\t<tr><td>0_1</td><td>0</td><td>12</td><td> 13</td></tr>\n",
       "\t<tr><td>0_1</td><td>0</td><td>13</td><td>  7</td></tr>\n",
       "\t<tr><td>0_1</td><td>0</td><td>14</td><td>  3</td></tr>\n",
       "\t<tr><td>⋮</td><td>⋮</td><td>⋮</td><td>⋮</td></tr>\n",
       "\t<tr><td>1_9 </td><td>1   </td><td>0 </td><td> 37</td></tr>\n",
       "\t<tr><td>1_9 </td><td>1   </td><td>1 </td><td> 46</td></tr>\n",
       "\t<tr><td>1_9 </td><td>1   </td><td>2 </td><td> 30</td></tr>\n",
       "\t<tr><td>1_9 </td><td>1   </td><td>3 </td><td> 14</td></tr>\n",
       "\t<tr><td>1_9 </td><td>1   </td><td>4 </td><td> 37</td></tr>\n",
       "\t<tr><td>1_9 </td><td>1   </td><td>5 </td><td> 35</td></tr>\n",
       "\t<tr><td>1_9 </td><td>1   </td><td>6 </td><td> 26</td></tr>\n",
       "\t<tr><td>1_9 </td><td>1   </td><td>7 </td><td> 24</td></tr>\n",
       "\t<tr><td>1_9 </td><td>1   </td><td>8 </td><td>  9</td></tr>\n",
       "\t<tr><td>1_9 </td><td>1   </td><td>9 </td><td>  4</td></tr>\n",
       "\t<tr><td>1_9 </td><td>1   </td><td>10</td><td>  9</td></tr>\n",
       "\t<tr><td>1_9 </td><td>1   </td><td>11</td><td> 16</td></tr>\n",
       "\t<tr><td>1_9 </td><td>1   </td><td>12</td><td>  6</td></tr>\n",
       "\t<tr><td>1_9 </td><td>1   </td><td>13</td><td>  6</td></tr>\n",
       "\t<tr><td>1_9 </td><td>1   </td><td>14</td><td>  2</td></tr>\n",
       "\t<tr><td>None</td><td>None</td><td>0 </td><td>297</td></tr>\n",
       "\t<tr><td>None</td><td>None</td><td>1 </td><td>156</td></tr>\n",
       "\t<tr><td>None</td><td>None</td><td>2 </td><td> 95</td></tr>\n",
       "\t<tr><td>None</td><td>None</td><td>3 </td><td> 73</td></tr>\n",
       "\t<tr><td>None</td><td>None</td><td>4 </td><td>207</td></tr>\n",
       "\t<tr><td>None</td><td>None</td><td>5 </td><td>141</td></tr>\n",
       "\t<tr><td>None</td><td>None</td><td>6 </td><td>191</td></tr>\n",
       "\t<tr><td>None</td><td>None</td><td>7 </td><td> 74</td></tr>\n",
       "\t<tr><td>None</td><td>None</td><td>8 </td><td> 48</td></tr>\n",
       "\t<tr><td>None</td><td>None</td><td>9 </td><td>421</td></tr>\n",
       "\t<tr><td>None</td><td>None</td><td>10</td><td>140</td></tr>\n",
       "\t<tr><td>None</td><td>None</td><td>11</td><td> 37</td></tr>\n",
       "\t<tr><td>None</td><td>None</td><td>12</td><td> 55</td></tr>\n",
       "\t<tr><td>None</td><td>None</td><td>13</td><td> 79</td></tr>\n",
       "\t<tr><td>None</td><td>None</td><td>14</td><td> 19</td></tr>\n",
       "</tbody>\n",
       "</table>\n"
      ],
      "text/latex": [
       "A grouped\\_df: 1172 × 4\n",
       "\\begin{tabular}{llll}\n",
       " name & donor & seurat\\_clusters & size\\\\\n",
       " <fct> & <fct> & <fct> & <int>\\\\\n",
       "\\hline\n",
       "\t 0\\_0 & 0 & 0  &  41\\\\\n",
       "\t 0\\_0 & 0 & 1  &  22\\\\\n",
       "\t 0\\_0 & 0 & 2  &  71\\\\\n",
       "\t 0\\_0 & 0 & 3  &  89\\\\\n",
       "\t 0\\_0 & 0 & 4  &  23\\\\\n",
       "\t 0\\_0 & 0 & 5  &  22\\\\\n",
       "\t 0\\_0 & 0 & 6  &  30\\\\\n",
       "\t 0\\_0 & 0 & 7  &  21\\\\\n",
       "\t 0\\_0 & 0 & 8  &  14\\\\\n",
       "\t 0\\_0 & 0 & 9  &   6\\\\\n",
       "\t 0\\_0 & 0 & 10 &  16\\\\\n",
       "\t 0\\_0 & 0 & 11 &  17\\\\\n",
       "\t 0\\_0 & 0 & 12 &  14\\\\\n",
       "\t 0\\_0 & 0 & 13 &  12\\\\\n",
       "\t 0\\_0 & 0 & 14 &   6\\\\\n",
       "\t 0\\_1 & 0 & 0  &  22\\\\\n",
       "\t 0\\_1 & 0 & 1  &  34\\\\\n",
       "\t 0\\_1 & 0 & 2  &  65\\\\\n",
       "\t 0\\_1 & 0 & 3  & 124\\\\\n",
       "\t 0\\_1 & 0 & 4  &  13\\\\\n",
       "\t 0\\_1 & 0 & 5  &  18\\\\\n",
       "\t 0\\_1 & 0 & 6  &  16\\\\\n",
       "\t 0\\_1 & 0 & 7  &  27\\\\\n",
       "\t 0\\_1 & 0 & 8  &  22\\\\\n",
       "\t 0\\_1 & 0 & 9  &   2\\\\\n",
       "\t 0\\_1 & 0 & 10 &  15\\\\\n",
       "\t 0\\_1 & 0 & 11 &  29\\\\\n",
       "\t 0\\_1 & 0 & 12 &  13\\\\\n",
       "\t 0\\_1 & 0 & 13 &   7\\\\\n",
       "\t 0\\_1 & 0 & 14 &   3\\\\\n",
       "\t ⋮ & ⋮ & ⋮ & ⋮\\\\\n",
       "\t 1\\_9  & 1    & 0  &  37\\\\\n",
       "\t 1\\_9  & 1    & 1  &  46\\\\\n",
       "\t 1\\_9  & 1    & 2  &  30\\\\\n",
       "\t 1\\_9  & 1    & 3  &  14\\\\\n",
       "\t 1\\_9  & 1    & 4  &  37\\\\\n",
       "\t 1\\_9  & 1    & 5  &  35\\\\\n",
       "\t 1\\_9  & 1    & 6  &  26\\\\\n",
       "\t 1\\_9  & 1    & 7  &  24\\\\\n",
       "\t 1\\_9  & 1    & 8  &   9\\\\\n",
       "\t 1\\_9  & 1    & 9  &   4\\\\\n",
       "\t 1\\_9  & 1    & 10 &   9\\\\\n",
       "\t 1\\_9  & 1    & 11 &  16\\\\\n",
       "\t 1\\_9  & 1    & 12 &   6\\\\\n",
       "\t 1\\_9  & 1    & 13 &   6\\\\\n",
       "\t 1\\_9  & 1    & 14 &   2\\\\\n",
       "\t None & None & 0  & 297\\\\\n",
       "\t None & None & 1  & 156\\\\\n",
       "\t None & None & 2  &  95\\\\\n",
       "\t None & None & 3  &  73\\\\\n",
       "\t None & None & 4  & 207\\\\\n",
       "\t None & None & 5  & 141\\\\\n",
       "\t None & None & 6  & 191\\\\\n",
       "\t None & None & 7  &  74\\\\\n",
       "\t None & None & 8  &  48\\\\\n",
       "\t None & None & 9  & 421\\\\\n",
       "\t None & None & 10 & 140\\\\\n",
       "\t None & None & 11 &  37\\\\\n",
       "\t None & None & 12 &  55\\\\\n",
       "\t None & None & 13 &  79\\\\\n",
       "\t None & None & 14 &  19\\\\\n",
       "\\end{tabular}\n"
      ],
      "text/markdown": [
       "\n",
       "A grouped_df: 1172 × 4\n",
       "\n",
       "| name &lt;fct&gt; | donor &lt;fct&gt; | seurat_clusters &lt;fct&gt; | size &lt;int&gt; |\n",
       "|---|---|---|---|\n",
       "| 0_0 | 0 | 0  |  41 |\n",
       "| 0_0 | 0 | 1  |  22 |\n",
       "| 0_0 | 0 | 2  |  71 |\n",
       "| 0_0 | 0 | 3  |  89 |\n",
       "| 0_0 | 0 | 4  |  23 |\n",
       "| 0_0 | 0 | 5  |  22 |\n",
       "| 0_0 | 0 | 6  |  30 |\n",
       "| 0_0 | 0 | 7  |  21 |\n",
       "| 0_0 | 0 | 8  |  14 |\n",
       "| 0_0 | 0 | 9  |   6 |\n",
       "| 0_0 | 0 | 10 |  16 |\n",
       "| 0_0 | 0 | 11 |  17 |\n",
       "| 0_0 | 0 | 12 |  14 |\n",
       "| 0_0 | 0 | 13 |  12 |\n",
       "| 0_0 | 0 | 14 |   6 |\n",
       "| 0_1 | 0 | 0  |  22 |\n",
       "| 0_1 | 0 | 1  |  34 |\n",
       "| 0_1 | 0 | 2  |  65 |\n",
       "| 0_1 | 0 | 3  | 124 |\n",
       "| 0_1 | 0 | 4  |  13 |\n",
       "| 0_1 | 0 | 5  |  18 |\n",
       "| 0_1 | 0 | 6  |  16 |\n",
       "| 0_1 | 0 | 7  |  27 |\n",
       "| 0_1 | 0 | 8  |  22 |\n",
       "| 0_1 | 0 | 9  |   2 |\n",
       "| 0_1 | 0 | 10 |  15 |\n",
       "| 0_1 | 0 | 11 |  29 |\n",
       "| 0_1 | 0 | 12 |  13 |\n",
       "| 0_1 | 0 | 13 |   7 |\n",
       "| 0_1 | 0 | 14 |   3 |\n",
       "| ⋮ | ⋮ | ⋮ | ⋮ |\n",
       "| 1_9  | 1    | 0  |  37 |\n",
       "| 1_9  | 1    | 1  |  46 |\n",
       "| 1_9  | 1    | 2  |  30 |\n",
       "| 1_9  | 1    | 3  |  14 |\n",
       "| 1_9  | 1    | 4  |  37 |\n",
       "| 1_9  | 1    | 5  |  35 |\n",
       "| 1_9  | 1    | 6  |  26 |\n",
       "| 1_9  | 1    | 7  |  24 |\n",
       "| 1_9  | 1    | 8  |   9 |\n",
       "| 1_9  | 1    | 9  |   4 |\n",
       "| 1_9  | 1    | 10 |   9 |\n",
       "| 1_9  | 1    | 11 |  16 |\n",
       "| 1_9  | 1    | 12 |   6 |\n",
       "| 1_9  | 1    | 13 |   6 |\n",
       "| 1_9  | 1    | 14 |   2 |\n",
       "| None | None | 0  | 297 |\n",
       "| None | None | 1  | 156 |\n",
       "| None | None | 2  |  95 |\n",
       "| None | None | 3  |  73 |\n",
       "| None | None | 4  | 207 |\n",
       "| None | None | 5  | 141 |\n",
       "| None | None | 6  | 191 |\n",
       "| None | None | 7  |  74 |\n",
       "| None | None | 8  |  48 |\n",
       "| None | None | 9  | 421 |\n",
       "| None | None | 10 | 140 |\n",
       "| None | None | 11 |  37 |\n",
       "| None | None | 12 |  55 |\n",
       "| None | None | 13 |  79 |\n",
       "| None | None | 14 |  19 |\n",
       "\n"
      ],
      "text/plain": [
       "     name donor seurat_clusters size\n",
       "1    0_0  0     0                41 \n",
       "2    0_0  0     1                22 \n",
       "3    0_0  0     2                71 \n",
       "4    0_0  0     3                89 \n",
       "5    0_0  0     4                23 \n",
       "6    0_0  0     5                22 \n",
       "7    0_0  0     6                30 \n",
       "8    0_0  0     7                21 \n",
       "9    0_0  0     8                14 \n",
       "10   0_0  0     9                 6 \n",
       "11   0_0  0     10               16 \n",
       "12   0_0  0     11               17 \n",
       "13   0_0  0     12               14 \n",
       "14   0_0  0     13               12 \n",
       "15   0_0  0     14                6 \n",
       "16   0_1  0     0                22 \n",
       "17   0_1  0     1                34 \n",
       "18   0_1  0     2                65 \n",
       "19   0_1  0     3               124 \n",
       "20   0_1  0     4                13 \n",
       "21   0_1  0     5                18 \n",
       "22   0_1  0     6                16 \n",
       "23   0_1  0     7                27 \n",
       "24   0_1  0     8                22 \n",
       "25   0_1  0     9                 2 \n",
       "26   0_1  0     10               15 \n",
       "27   0_1  0     11               29 \n",
       "28   0_1  0     12               13 \n",
       "29   0_1  0     13                7 \n",
       "30   0_1  0     14                3 \n",
       "⋮    ⋮    ⋮     ⋮               ⋮   \n",
       "1143 1_9  1     0                37 \n",
       "1144 1_9  1     1                46 \n",
       "1145 1_9  1     2                30 \n",
       "1146 1_9  1     3                14 \n",
       "1147 1_9  1     4                37 \n",
       "1148 1_9  1     5                35 \n",
       "1149 1_9  1     6                26 \n",
       "1150 1_9  1     7                24 \n",
       "1151 1_9  1     8                 9 \n",
       "1152 1_9  1     9                 4 \n",
       "1153 1_9  1     10                9 \n",
       "1154 1_9  1     11               16 \n",
       "1155 1_9  1     12                6 \n",
       "1156 1_9  1     13                6 \n",
       "1157 1_9  1     14                2 \n",
       "1158 None None  0               297 \n",
       "1159 None None  1               156 \n",
       "1160 None None  2                95 \n",
       "1161 None None  3                73 \n",
       "1162 None None  4               207 \n",
       "1163 None None  5               141 \n",
       "1164 None None  6               191 \n",
       "1165 None None  7                74 \n",
       "1166 None None  8                48 \n",
       "1167 None None  9               421 \n",
       "1168 None None  10              140 \n",
       "1169 None None  11               37 \n",
       "1170 None None  12               55 \n",
       "1171 None None  13               79 \n",
       "1172 None None  14               19 "
      ]
     },
     "metadata": {},
     "output_type": "display_data"
    }
   ],
   "source": [
    "barplot.df"
   ]
  },
  {
   "cell_type": "code",
   "execution_count": 20,
   "id": "16a8f2f4",
   "metadata": {
    "scrolled": true
   },
   "outputs": [
    {
     "name": "stderr",
     "output_type": "stream",
     "text": [
      "`summarise()` has grouped output by 'name', 'donor'. You can override using the `.groups` argument.\n",
      "\n"
     ]
    },
    {
     "data": {
      "text/html": [
       "<table class=\"dataframe\">\n",
       "<caption>A grouped_df: 1172 × 4</caption>\n",
       "<thead>\n",
       "\t<tr><th scope=col>name</th><th scope=col>donor</th><th scope=col>seurat_clusters</th><th scope=col>size</th></tr>\n",
       "\t<tr><th scope=col>&lt;fct&gt;</th><th scope=col>&lt;fct&gt;</th><th scope=col>&lt;fct&gt;</th><th scope=col>&lt;int&gt;</th></tr>\n",
       "</thead>\n",
       "<tbody>\n",
       "\t<tr><td>0_0</td><td>0</td><td>0 </td><td> 41</td></tr>\n",
       "\t<tr><td>0_0</td><td>0</td><td>1 </td><td> 22</td></tr>\n",
       "\t<tr><td>0_0</td><td>0</td><td>2 </td><td> 71</td></tr>\n",
       "\t<tr><td>0_0</td><td>0</td><td>3 </td><td> 89</td></tr>\n",
       "\t<tr><td>0_0</td><td>0</td><td>4 </td><td> 23</td></tr>\n",
       "\t<tr><td>0_0</td><td>0</td><td>5 </td><td> 22</td></tr>\n",
       "\t<tr><td>0_0</td><td>0</td><td>6 </td><td> 30</td></tr>\n",
       "\t<tr><td>0_0</td><td>0</td><td>7 </td><td> 21</td></tr>\n",
       "\t<tr><td>0_0</td><td>0</td><td>8 </td><td> 14</td></tr>\n",
       "\t<tr><td>0_0</td><td>0</td><td>9 </td><td>  6</td></tr>\n",
       "\t<tr><td>0_0</td><td>0</td><td>10</td><td> 16</td></tr>\n",
       "\t<tr><td>0_0</td><td>0</td><td>11</td><td> 17</td></tr>\n",
       "\t<tr><td>0_0</td><td>0</td><td>12</td><td> 14</td></tr>\n",
       "\t<tr><td>0_0</td><td>0</td><td>13</td><td> 12</td></tr>\n",
       "\t<tr><td>0_0</td><td>0</td><td>14</td><td>  6</td></tr>\n",
       "\t<tr><td>0_1</td><td>0</td><td>0 </td><td> 22</td></tr>\n",
       "\t<tr><td>0_1</td><td>0</td><td>1 </td><td> 34</td></tr>\n",
       "\t<tr><td>0_1</td><td>0</td><td>2 </td><td> 65</td></tr>\n",
       "\t<tr><td>0_1</td><td>0</td><td>3 </td><td>124</td></tr>\n",
       "\t<tr><td>0_1</td><td>0</td><td>4 </td><td> 13</td></tr>\n",
       "\t<tr><td>0_1</td><td>0</td><td>5 </td><td> 18</td></tr>\n",
       "\t<tr><td>0_1</td><td>0</td><td>6 </td><td> 16</td></tr>\n",
       "\t<tr><td>0_1</td><td>0</td><td>7 </td><td> 27</td></tr>\n",
       "\t<tr><td>0_1</td><td>0</td><td>8 </td><td> 22</td></tr>\n",
       "\t<tr><td>0_1</td><td>0</td><td>9 </td><td>  2</td></tr>\n",
       "\t<tr><td>0_1</td><td>0</td><td>10</td><td> 15</td></tr>\n",
       "\t<tr><td>0_1</td><td>0</td><td>11</td><td> 29</td></tr>\n",
       "\t<tr><td>0_1</td><td>0</td><td>12</td><td> 13</td></tr>\n",
       "\t<tr><td>0_1</td><td>0</td><td>13</td><td>  7</td></tr>\n",
       "\t<tr><td>0_1</td><td>0</td><td>14</td><td>  3</td></tr>\n",
       "\t<tr><td>⋮</td><td>⋮</td><td>⋮</td><td>⋮</td></tr>\n",
       "\t<tr><td>1_9 </td><td>1   </td><td>0 </td><td> 37</td></tr>\n",
       "\t<tr><td>1_9 </td><td>1   </td><td>1 </td><td> 46</td></tr>\n",
       "\t<tr><td>1_9 </td><td>1   </td><td>2 </td><td> 30</td></tr>\n",
       "\t<tr><td>1_9 </td><td>1   </td><td>3 </td><td> 14</td></tr>\n",
       "\t<tr><td>1_9 </td><td>1   </td><td>4 </td><td> 37</td></tr>\n",
       "\t<tr><td>1_9 </td><td>1   </td><td>5 </td><td> 35</td></tr>\n",
       "\t<tr><td>1_9 </td><td>1   </td><td>6 </td><td> 26</td></tr>\n",
       "\t<tr><td>1_9 </td><td>1   </td><td>7 </td><td> 24</td></tr>\n",
       "\t<tr><td>1_9 </td><td>1   </td><td>8 </td><td>  9</td></tr>\n",
       "\t<tr><td>1_9 </td><td>1   </td><td>9 </td><td>  4</td></tr>\n",
       "\t<tr><td>1_9 </td><td>1   </td><td>10</td><td>  9</td></tr>\n",
       "\t<tr><td>1_9 </td><td>1   </td><td>11</td><td> 16</td></tr>\n",
       "\t<tr><td>1_9 </td><td>1   </td><td>12</td><td>  6</td></tr>\n",
       "\t<tr><td>1_9 </td><td>1   </td><td>13</td><td>  6</td></tr>\n",
       "\t<tr><td>1_9 </td><td>1   </td><td>14</td><td>  2</td></tr>\n",
       "\t<tr><td>None</td><td>None</td><td>0 </td><td>297</td></tr>\n",
       "\t<tr><td>None</td><td>None</td><td>1 </td><td>156</td></tr>\n",
       "\t<tr><td>None</td><td>None</td><td>2 </td><td> 95</td></tr>\n",
       "\t<tr><td>None</td><td>None</td><td>3 </td><td> 73</td></tr>\n",
       "\t<tr><td>None</td><td>None</td><td>4 </td><td>207</td></tr>\n",
       "\t<tr><td>None</td><td>None</td><td>5 </td><td>141</td></tr>\n",
       "\t<tr><td>None</td><td>None</td><td>6 </td><td>191</td></tr>\n",
       "\t<tr><td>None</td><td>None</td><td>7 </td><td> 74</td></tr>\n",
       "\t<tr><td>None</td><td>None</td><td>8 </td><td> 48</td></tr>\n",
       "\t<tr><td>None</td><td>None</td><td>9 </td><td>421</td></tr>\n",
       "\t<tr><td>None</td><td>None</td><td>10</td><td>140</td></tr>\n",
       "\t<tr><td>None</td><td>None</td><td>11</td><td> 37</td></tr>\n",
       "\t<tr><td>None</td><td>None</td><td>12</td><td> 55</td></tr>\n",
       "\t<tr><td>None</td><td>None</td><td>13</td><td> 79</td></tr>\n",
       "\t<tr><td>None</td><td>None</td><td>14</td><td> 19</td></tr>\n",
       "</tbody>\n",
       "</table>\n"
      ],
      "text/latex": [
       "A grouped\\_df: 1172 × 4\n",
       "\\begin{tabular}{llll}\n",
       " name & donor & seurat\\_clusters & size\\\\\n",
       " <fct> & <fct> & <fct> & <int>\\\\\n",
       "\\hline\n",
       "\t 0\\_0 & 0 & 0  &  41\\\\\n",
       "\t 0\\_0 & 0 & 1  &  22\\\\\n",
       "\t 0\\_0 & 0 & 2  &  71\\\\\n",
       "\t 0\\_0 & 0 & 3  &  89\\\\\n",
       "\t 0\\_0 & 0 & 4  &  23\\\\\n",
       "\t 0\\_0 & 0 & 5  &  22\\\\\n",
       "\t 0\\_0 & 0 & 6  &  30\\\\\n",
       "\t 0\\_0 & 0 & 7  &  21\\\\\n",
       "\t 0\\_0 & 0 & 8  &  14\\\\\n",
       "\t 0\\_0 & 0 & 9  &   6\\\\\n",
       "\t 0\\_0 & 0 & 10 &  16\\\\\n",
       "\t 0\\_0 & 0 & 11 &  17\\\\\n",
       "\t 0\\_0 & 0 & 12 &  14\\\\\n",
       "\t 0\\_0 & 0 & 13 &  12\\\\\n",
       "\t 0\\_0 & 0 & 14 &   6\\\\\n",
       "\t 0\\_1 & 0 & 0  &  22\\\\\n",
       "\t 0\\_1 & 0 & 1  &  34\\\\\n",
       "\t 0\\_1 & 0 & 2  &  65\\\\\n",
       "\t 0\\_1 & 0 & 3  & 124\\\\\n",
       "\t 0\\_1 & 0 & 4  &  13\\\\\n",
       "\t 0\\_1 & 0 & 5  &  18\\\\\n",
       "\t 0\\_1 & 0 & 6  &  16\\\\\n",
       "\t 0\\_1 & 0 & 7  &  27\\\\\n",
       "\t 0\\_1 & 0 & 8  &  22\\\\\n",
       "\t 0\\_1 & 0 & 9  &   2\\\\\n",
       "\t 0\\_1 & 0 & 10 &  15\\\\\n",
       "\t 0\\_1 & 0 & 11 &  29\\\\\n",
       "\t 0\\_1 & 0 & 12 &  13\\\\\n",
       "\t 0\\_1 & 0 & 13 &   7\\\\\n",
       "\t 0\\_1 & 0 & 14 &   3\\\\\n",
       "\t ⋮ & ⋮ & ⋮ & ⋮\\\\\n",
       "\t 1\\_9  & 1    & 0  &  37\\\\\n",
       "\t 1\\_9  & 1    & 1  &  46\\\\\n",
       "\t 1\\_9  & 1    & 2  &  30\\\\\n",
       "\t 1\\_9  & 1    & 3  &  14\\\\\n",
       "\t 1\\_9  & 1    & 4  &  37\\\\\n",
       "\t 1\\_9  & 1    & 5  &  35\\\\\n",
       "\t 1\\_9  & 1    & 6  &  26\\\\\n",
       "\t 1\\_9  & 1    & 7  &  24\\\\\n",
       "\t 1\\_9  & 1    & 8  &   9\\\\\n",
       "\t 1\\_9  & 1    & 9  &   4\\\\\n",
       "\t 1\\_9  & 1    & 10 &   9\\\\\n",
       "\t 1\\_9  & 1    & 11 &  16\\\\\n",
       "\t 1\\_9  & 1    & 12 &   6\\\\\n",
       "\t 1\\_9  & 1    & 13 &   6\\\\\n",
       "\t 1\\_9  & 1    & 14 &   2\\\\\n",
       "\t None & None & 0  & 297\\\\\n",
       "\t None & None & 1  & 156\\\\\n",
       "\t None & None & 2  &  95\\\\\n",
       "\t None & None & 3  &  73\\\\\n",
       "\t None & None & 4  & 207\\\\\n",
       "\t None & None & 5  & 141\\\\\n",
       "\t None & None & 6  & 191\\\\\n",
       "\t None & None & 7  &  74\\\\\n",
       "\t None & None & 8  &  48\\\\\n",
       "\t None & None & 9  & 421\\\\\n",
       "\t None & None & 10 & 140\\\\\n",
       "\t None & None & 11 &  37\\\\\n",
       "\t None & None & 12 &  55\\\\\n",
       "\t None & None & 13 &  79\\\\\n",
       "\t None & None & 14 &  19\\\\\n",
       "\\end{tabular}\n"
      ],
      "text/markdown": [
       "\n",
       "A grouped_df: 1172 × 4\n",
       "\n",
       "| name &lt;fct&gt; | donor &lt;fct&gt; | seurat_clusters &lt;fct&gt; | size &lt;int&gt; |\n",
       "|---|---|---|---|\n",
       "| 0_0 | 0 | 0  |  41 |\n",
       "| 0_0 | 0 | 1  |  22 |\n",
       "| 0_0 | 0 | 2  |  71 |\n",
       "| 0_0 | 0 | 3  |  89 |\n",
       "| 0_0 | 0 | 4  |  23 |\n",
       "| 0_0 | 0 | 5  |  22 |\n",
       "| 0_0 | 0 | 6  |  30 |\n",
       "| 0_0 | 0 | 7  |  21 |\n",
       "| 0_0 | 0 | 8  |  14 |\n",
       "| 0_0 | 0 | 9  |   6 |\n",
       "| 0_0 | 0 | 10 |  16 |\n",
       "| 0_0 | 0 | 11 |  17 |\n",
       "| 0_0 | 0 | 12 |  14 |\n",
       "| 0_0 | 0 | 13 |  12 |\n",
       "| 0_0 | 0 | 14 |   6 |\n",
       "| 0_1 | 0 | 0  |  22 |\n",
       "| 0_1 | 0 | 1  |  34 |\n",
       "| 0_1 | 0 | 2  |  65 |\n",
       "| 0_1 | 0 | 3  | 124 |\n",
       "| 0_1 | 0 | 4  |  13 |\n",
       "| 0_1 | 0 | 5  |  18 |\n",
       "| 0_1 | 0 | 6  |  16 |\n",
       "| 0_1 | 0 | 7  |  27 |\n",
       "| 0_1 | 0 | 8  |  22 |\n",
       "| 0_1 | 0 | 9  |   2 |\n",
       "| 0_1 | 0 | 10 |  15 |\n",
       "| 0_1 | 0 | 11 |  29 |\n",
       "| 0_1 | 0 | 12 |  13 |\n",
       "| 0_1 | 0 | 13 |   7 |\n",
       "| 0_1 | 0 | 14 |   3 |\n",
       "| ⋮ | ⋮ | ⋮ | ⋮ |\n",
       "| 1_9  | 1    | 0  |  37 |\n",
       "| 1_9  | 1    | 1  |  46 |\n",
       "| 1_9  | 1    | 2  |  30 |\n",
       "| 1_9  | 1    | 3  |  14 |\n",
       "| 1_9  | 1    | 4  |  37 |\n",
       "| 1_9  | 1    | 5  |  35 |\n",
       "| 1_9  | 1    | 6  |  26 |\n",
       "| 1_9  | 1    | 7  |  24 |\n",
       "| 1_9  | 1    | 8  |   9 |\n",
       "| 1_9  | 1    | 9  |   4 |\n",
       "| 1_9  | 1    | 10 |   9 |\n",
       "| 1_9  | 1    | 11 |  16 |\n",
       "| 1_9  | 1    | 12 |   6 |\n",
       "| 1_9  | 1    | 13 |   6 |\n",
       "| 1_9  | 1    | 14 |   2 |\n",
       "| None | None | 0  | 297 |\n",
       "| None | None | 1  | 156 |\n",
       "| None | None | 2  |  95 |\n",
       "| None | None | 3  |  73 |\n",
       "| None | None | 4  | 207 |\n",
       "| None | None | 5  | 141 |\n",
       "| None | None | 6  | 191 |\n",
       "| None | None | 7  |  74 |\n",
       "| None | None | 8  |  48 |\n",
       "| None | None | 9  | 421 |\n",
       "| None | None | 10 | 140 |\n",
       "| None | None | 11 |  37 |\n",
       "| None | None | 12 |  55 |\n",
       "| None | None | 13 |  79 |\n",
       "| None | None | 14 |  19 |\n",
       "\n"
      ],
      "text/plain": [
       "     name donor seurat_clusters size\n",
       "1    0_0  0     0                41 \n",
       "2    0_0  0     1                22 \n",
       "3    0_0  0     2                71 \n",
       "4    0_0  0     3                89 \n",
       "5    0_0  0     4                23 \n",
       "6    0_0  0     5                22 \n",
       "7    0_0  0     6                30 \n",
       "8    0_0  0     7                21 \n",
       "9    0_0  0     8                14 \n",
       "10   0_0  0     9                 6 \n",
       "11   0_0  0     10               16 \n",
       "12   0_0  0     11               17 \n",
       "13   0_0  0     12               14 \n",
       "14   0_0  0     13               12 \n",
       "15   0_0  0     14                6 \n",
       "16   0_1  0     0                22 \n",
       "17   0_1  0     1                34 \n",
       "18   0_1  0     2                65 \n",
       "19   0_1  0     3               124 \n",
       "20   0_1  0     4                13 \n",
       "21   0_1  0     5                18 \n",
       "22   0_1  0     6                16 \n",
       "23   0_1  0     7                27 \n",
       "24   0_1  0     8                22 \n",
       "25   0_1  0     9                 2 \n",
       "26   0_1  0     10               15 \n",
       "27   0_1  0     11               29 \n",
       "28   0_1  0     12               13 \n",
       "29   0_1  0     13                7 \n",
       "30   0_1  0     14                3 \n",
       "⋮    ⋮    ⋮     ⋮               ⋮   \n",
       "1143 1_9  1     0                37 \n",
       "1144 1_9  1     1                46 \n",
       "1145 1_9  1     2                30 \n",
       "1146 1_9  1     3                14 \n",
       "1147 1_9  1     4                37 \n",
       "1148 1_9  1     5                35 \n",
       "1149 1_9  1     6                26 \n",
       "1150 1_9  1     7                24 \n",
       "1151 1_9  1     8                 9 \n",
       "1152 1_9  1     9                 4 \n",
       "1153 1_9  1     10                9 \n",
       "1154 1_9  1     11               16 \n",
       "1155 1_9  1     12                6 \n",
       "1156 1_9  1     13                6 \n",
       "1157 1_9  1     14                2 \n",
       "1158 None None  0               297 \n",
       "1159 None None  1               156 \n",
       "1160 None None  2                95 \n",
       "1161 None None  3                73 \n",
       "1162 None None  4               207 \n",
       "1163 None None  5               141 \n",
       "1164 None None  6               191 \n",
       "1165 None None  7                74 \n",
       "1166 None None  8                48 \n",
       "1167 None None  9               421 \n",
       "1168 None None  10              140 \n",
       "1169 None None  11               37 \n",
       "1170 None None  12               55 \n",
       "1171 None None  13               79 \n",
       "1172 None None  14               19 "
      ]
     },
     "metadata": {},
     "output_type": "display_data"
    },
    {
     "name": "stderr",
     "output_type": "stream",
     "text": [
      "`summarise()` has grouped output by 'name', 'donor'. You can override using the `.groups` argument.\n",
      "\n"
     ]
    },
    {
     "data": {
      "text/html": [
       "<table class=\"dataframe\">\n",
       "<caption>A grouped_df: 1172 × 5</caption>\n",
       "<thead>\n",
       "\t<tr><th scope=col>name</th><th scope=col>donor</th><th scope=col>seurat_clusters</th><th scope=col>size</th><th scope=col>tot</th></tr>\n",
       "\t<tr><th scope=col>&lt;fct&gt;</th><th scope=col>&lt;fct&gt;</th><th scope=col>&lt;fct&gt;</th><th scope=col>&lt;int&gt;</th><th scope=col>&lt;dbl&gt;</th></tr>\n",
       "</thead>\n",
       "<tbody>\n",
       "\t<tr><td>0_0</td><td>0</td><td>0 </td><td> 41</td><td>1</td></tr>\n",
       "\t<tr><td>0_0</td><td>0</td><td>1 </td><td> 22</td><td>1</td></tr>\n",
       "\t<tr><td>0_0</td><td>0</td><td>2 </td><td> 71</td><td>1</td></tr>\n",
       "\t<tr><td>0_0</td><td>0</td><td>3 </td><td> 89</td><td>1</td></tr>\n",
       "\t<tr><td>0_0</td><td>0</td><td>4 </td><td> 23</td><td>1</td></tr>\n",
       "\t<tr><td>0_0</td><td>0</td><td>5 </td><td> 22</td><td>1</td></tr>\n",
       "\t<tr><td>0_0</td><td>0</td><td>6 </td><td> 30</td><td>1</td></tr>\n",
       "\t<tr><td>0_0</td><td>0</td><td>7 </td><td> 21</td><td>1</td></tr>\n",
       "\t<tr><td>0_0</td><td>0</td><td>8 </td><td> 14</td><td>1</td></tr>\n",
       "\t<tr><td>0_0</td><td>0</td><td>9 </td><td>  6</td><td>1</td></tr>\n",
       "\t<tr><td>0_0</td><td>0</td><td>10</td><td> 16</td><td>1</td></tr>\n",
       "\t<tr><td>0_0</td><td>0</td><td>11</td><td> 17</td><td>1</td></tr>\n",
       "\t<tr><td>0_0</td><td>0</td><td>12</td><td> 14</td><td>1</td></tr>\n",
       "\t<tr><td>0_0</td><td>0</td><td>13</td><td> 12</td><td>1</td></tr>\n",
       "\t<tr><td>0_0</td><td>0</td><td>14</td><td>  6</td><td>1</td></tr>\n",
       "\t<tr><td>0_1</td><td>0</td><td>0 </td><td> 22</td><td>1</td></tr>\n",
       "\t<tr><td>0_1</td><td>0</td><td>1 </td><td> 34</td><td>1</td></tr>\n",
       "\t<tr><td>0_1</td><td>0</td><td>2 </td><td> 65</td><td>1</td></tr>\n",
       "\t<tr><td>0_1</td><td>0</td><td>3 </td><td>124</td><td>1</td></tr>\n",
       "\t<tr><td>0_1</td><td>0</td><td>4 </td><td> 13</td><td>1</td></tr>\n",
       "\t<tr><td>0_1</td><td>0</td><td>5 </td><td> 18</td><td>1</td></tr>\n",
       "\t<tr><td>0_1</td><td>0</td><td>6 </td><td> 16</td><td>1</td></tr>\n",
       "\t<tr><td>0_1</td><td>0</td><td>7 </td><td> 27</td><td>1</td></tr>\n",
       "\t<tr><td>0_1</td><td>0</td><td>8 </td><td> 22</td><td>1</td></tr>\n",
       "\t<tr><td>0_1</td><td>0</td><td>9 </td><td>  2</td><td>1</td></tr>\n",
       "\t<tr><td>0_1</td><td>0</td><td>10</td><td> 15</td><td>1</td></tr>\n",
       "\t<tr><td>0_1</td><td>0</td><td>11</td><td> 29</td><td>1</td></tr>\n",
       "\t<tr><td>0_1</td><td>0</td><td>12</td><td> 13</td><td>1</td></tr>\n",
       "\t<tr><td>0_1</td><td>0</td><td>13</td><td>  7</td><td>1</td></tr>\n",
       "\t<tr><td>0_1</td><td>0</td><td>14</td><td>  3</td><td>1</td></tr>\n",
       "\t<tr><td>⋮</td><td>⋮</td><td>⋮</td><td>⋮</td><td>⋮</td></tr>\n",
       "\t<tr><td>1_9 </td><td>1   </td><td>0 </td><td> 37</td><td>1</td></tr>\n",
       "\t<tr><td>1_9 </td><td>1   </td><td>1 </td><td> 46</td><td>1</td></tr>\n",
       "\t<tr><td>1_9 </td><td>1   </td><td>2 </td><td> 30</td><td>1</td></tr>\n",
       "\t<tr><td>1_9 </td><td>1   </td><td>3 </td><td> 14</td><td>1</td></tr>\n",
       "\t<tr><td>1_9 </td><td>1   </td><td>4 </td><td> 37</td><td>1</td></tr>\n",
       "\t<tr><td>1_9 </td><td>1   </td><td>5 </td><td> 35</td><td>1</td></tr>\n",
       "\t<tr><td>1_9 </td><td>1   </td><td>6 </td><td> 26</td><td>1</td></tr>\n",
       "\t<tr><td>1_9 </td><td>1   </td><td>7 </td><td> 24</td><td>1</td></tr>\n",
       "\t<tr><td>1_9 </td><td>1   </td><td>8 </td><td>  9</td><td>1</td></tr>\n",
       "\t<tr><td>1_9 </td><td>1   </td><td>9 </td><td>  4</td><td>1</td></tr>\n",
       "\t<tr><td>1_9 </td><td>1   </td><td>10</td><td>  9</td><td>1</td></tr>\n",
       "\t<tr><td>1_9 </td><td>1   </td><td>11</td><td> 16</td><td>1</td></tr>\n",
       "\t<tr><td>1_9 </td><td>1   </td><td>12</td><td>  6</td><td>1</td></tr>\n",
       "\t<tr><td>1_9 </td><td>1   </td><td>13</td><td>  6</td><td>1</td></tr>\n",
       "\t<tr><td>1_9 </td><td>1   </td><td>14</td><td>  2</td><td>1</td></tr>\n",
       "\t<tr><td>None</td><td>None</td><td>0 </td><td>297</td><td>1</td></tr>\n",
       "\t<tr><td>None</td><td>None</td><td>1 </td><td>156</td><td>1</td></tr>\n",
       "\t<tr><td>None</td><td>None</td><td>2 </td><td> 95</td><td>1</td></tr>\n",
       "\t<tr><td>None</td><td>None</td><td>3 </td><td> 73</td><td>1</td></tr>\n",
       "\t<tr><td>None</td><td>None</td><td>4 </td><td>207</td><td>1</td></tr>\n",
       "\t<tr><td>None</td><td>None</td><td>5 </td><td>141</td><td>1</td></tr>\n",
       "\t<tr><td>None</td><td>None</td><td>6 </td><td>191</td><td>1</td></tr>\n",
       "\t<tr><td>None</td><td>None</td><td>7 </td><td> 74</td><td>1</td></tr>\n",
       "\t<tr><td>None</td><td>None</td><td>8 </td><td> 48</td><td>1</td></tr>\n",
       "\t<tr><td>None</td><td>None</td><td>9 </td><td>421</td><td>1</td></tr>\n",
       "\t<tr><td>None</td><td>None</td><td>10</td><td>140</td><td>1</td></tr>\n",
       "\t<tr><td>None</td><td>None</td><td>11</td><td> 37</td><td>1</td></tr>\n",
       "\t<tr><td>None</td><td>None</td><td>12</td><td> 55</td><td>1</td></tr>\n",
       "\t<tr><td>None</td><td>None</td><td>13</td><td> 79</td><td>1</td></tr>\n",
       "\t<tr><td>None</td><td>None</td><td>14</td><td> 19</td><td>1</td></tr>\n",
       "</tbody>\n",
       "</table>\n"
      ],
      "text/latex": [
       "A grouped\\_df: 1172 × 5\n",
       "\\begin{tabular}{lllll}\n",
       " name & donor & seurat\\_clusters & size & tot\\\\\n",
       " <fct> & <fct> & <fct> & <int> & <dbl>\\\\\n",
       "\\hline\n",
       "\t 0\\_0 & 0 & 0  &  41 & 1\\\\\n",
       "\t 0\\_0 & 0 & 1  &  22 & 1\\\\\n",
       "\t 0\\_0 & 0 & 2  &  71 & 1\\\\\n",
       "\t 0\\_0 & 0 & 3  &  89 & 1\\\\\n",
       "\t 0\\_0 & 0 & 4  &  23 & 1\\\\\n",
       "\t 0\\_0 & 0 & 5  &  22 & 1\\\\\n",
       "\t 0\\_0 & 0 & 6  &  30 & 1\\\\\n",
       "\t 0\\_0 & 0 & 7  &  21 & 1\\\\\n",
       "\t 0\\_0 & 0 & 8  &  14 & 1\\\\\n",
       "\t 0\\_0 & 0 & 9  &   6 & 1\\\\\n",
       "\t 0\\_0 & 0 & 10 &  16 & 1\\\\\n",
       "\t 0\\_0 & 0 & 11 &  17 & 1\\\\\n",
       "\t 0\\_0 & 0 & 12 &  14 & 1\\\\\n",
       "\t 0\\_0 & 0 & 13 &  12 & 1\\\\\n",
       "\t 0\\_0 & 0 & 14 &   6 & 1\\\\\n",
       "\t 0\\_1 & 0 & 0  &  22 & 1\\\\\n",
       "\t 0\\_1 & 0 & 1  &  34 & 1\\\\\n",
       "\t 0\\_1 & 0 & 2  &  65 & 1\\\\\n",
       "\t 0\\_1 & 0 & 3  & 124 & 1\\\\\n",
       "\t 0\\_1 & 0 & 4  &  13 & 1\\\\\n",
       "\t 0\\_1 & 0 & 5  &  18 & 1\\\\\n",
       "\t 0\\_1 & 0 & 6  &  16 & 1\\\\\n",
       "\t 0\\_1 & 0 & 7  &  27 & 1\\\\\n",
       "\t 0\\_1 & 0 & 8  &  22 & 1\\\\\n",
       "\t 0\\_1 & 0 & 9  &   2 & 1\\\\\n",
       "\t 0\\_1 & 0 & 10 &  15 & 1\\\\\n",
       "\t 0\\_1 & 0 & 11 &  29 & 1\\\\\n",
       "\t 0\\_1 & 0 & 12 &  13 & 1\\\\\n",
       "\t 0\\_1 & 0 & 13 &   7 & 1\\\\\n",
       "\t 0\\_1 & 0 & 14 &   3 & 1\\\\\n",
       "\t ⋮ & ⋮ & ⋮ & ⋮ & ⋮\\\\\n",
       "\t 1\\_9  & 1    & 0  &  37 & 1\\\\\n",
       "\t 1\\_9  & 1    & 1  &  46 & 1\\\\\n",
       "\t 1\\_9  & 1    & 2  &  30 & 1\\\\\n",
       "\t 1\\_9  & 1    & 3  &  14 & 1\\\\\n",
       "\t 1\\_9  & 1    & 4  &  37 & 1\\\\\n",
       "\t 1\\_9  & 1    & 5  &  35 & 1\\\\\n",
       "\t 1\\_9  & 1    & 6  &  26 & 1\\\\\n",
       "\t 1\\_9  & 1    & 7  &  24 & 1\\\\\n",
       "\t 1\\_9  & 1    & 8  &   9 & 1\\\\\n",
       "\t 1\\_9  & 1    & 9  &   4 & 1\\\\\n",
       "\t 1\\_9  & 1    & 10 &   9 & 1\\\\\n",
       "\t 1\\_9  & 1    & 11 &  16 & 1\\\\\n",
       "\t 1\\_9  & 1    & 12 &   6 & 1\\\\\n",
       "\t 1\\_9  & 1    & 13 &   6 & 1\\\\\n",
       "\t 1\\_9  & 1    & 14 &   2 & 1\\\\\n",
       "\t None & None & 0  & 297 & 1\\\\\n",
       "\t None & None & 1  & 156 & 1\\\\\n",
       "\t None & None & 2  &  95 & 1\\\\\n",
       "\t None & None & 3  &  73 & 1\\\\\n",
       "\t None & None & 4  & 207 & 1\\\\\n",
       "\t None & None & 5  & 141 & 1\\\\\n",
       "\t None & None & 6  & 191 & 1\\\\\n",
       "\t None & None & 7  &  74 & 1\\\\\n",
       "\t None & None & 8  &  48 & 1\\\\\n",
       "\t None & None & 9  & 421 & 1\\\\\n",
       "\t None & None & 10 & 140 & 1\\\\\n",
       "\t None & None & 11 &  37 & 1\\\\\n",
       "\t None & None & 12 &  55 & 1\\\\\n",
       "\t None & None & 13 &  79 & 1\\\\\n",
       "\t None & None & 14 &  19 & 1\\\\\n",
       "\\end{tabular}\n"
      ],
      "text/markdown": [
       "\n",
       "A grouped_df: 1172 × 5\n",
       "\n",
       "| name &lt;fct&gt; | donor &lt;fct&gt; | seurat_clusters &lt;fct&gt; | size &lt;int&gt; | tot &lt;dbl&gt; |\n",
       "|---|---|---|---|---|\n",
       "| 0_0 | 0 | 0  |  41 | 1 |\n",
       "| 0_0 | 0 | 1  |  22 | 1 |\n",
       "| 0_0 | 0 | 2  |  71 | 1 |\n",
       "| 0_0 | 0 | 3  |  89 | 1 |\n",
       "| 0_0 | 0 | 4  |  23 | 1 |\n",
       "| 0_0 | 0 | 5  |  22 | 1 |\n",
       "| 0_0 | 0 | 6  |  30 | 1 |\n",
       "| 0_0 | 0 | 7  |  21 | 1 |\n",
       "| 0_0 | 0 | 8  |  14 | 1 |\n",
       "| 0_0 | 0 | 9  |   6 | 1 |\n",
       "| 0_0 | 0 | 10 |  16 | 1 |\n",
       "| 0_0 | 0 | 11 |  17 | 1 |\n",
       "| 0_0 | 0 | 12 |  14 | 1 |\n",
       "| 0_0 | 0 | 13 |  12 | 1 |\n",
       "| 0_0 | 0 | 14 |   6 | 1 |\n",
       "| 0_1 | 0 | 0  |  22 | 1 |\n",
       "| 0_1 | 0 | 1  |  34 | 1 |\n",
       "| 0_1 | 0 | 2  |  65 | 1 |\n",
       "| 0_1 | 0 | 3  | 124 | 1 |\n",
       "| 0_1 | 0 | 4  |  13 | 1 |\n",
       "| 0_1 | 0 | 5  |  18 | 1 |\n",
       "| 0_1 | 0 | 6  |  16 | 1 |\n",
       "| 0_1 | 0 | 7  |  27 | 1 |\n",
       "| 0_1 | 0 | 8  |  22 | 1 |\n",
       "| 0_1 | 0 | 9  |   2 | 1 |\n",
       "| 0_1 | 0 | 10 |  15 | 1 |\n",
       "| 0_1 | 0 | 11 |  29 | 1 |\n",
       "| 0_1 | 0 | 12 |  13 | 1 |\n",
       "| 0_1 | 0 | 13 |   7 | 1 |\n",
       "| 0_1 | 0 | 14 |   3 | 1 |\n",
       "| ⋮ | ⋮ | ⋮ | ⋮ | ⋮ |\n",
       "| 1_9  | 1    | 0  |  37 | 1 |\n",
       "| 1_9  | 1    | 1  |  46 | 1 |\n",
       "| 1_9  | 1    | 2  |  30 | 1 |\n",
       "| 1_9  | 1    | 3  |  14 | 1 |\n",
       "| 1_9  | 1    | 4  |  37 | 1 |\n",
       "| 1_9  | 1    | 5  |  35 | 1 |\n",
       "| 1_9  | 1    | 6  |  26 | 1 |\n",
       "| 1_9  | 1    | 7  |  24 | 1 |\n",
       "| 1_9  | 1    | 8  |   9 | 1 |\n",
       "| 1_9  | 1    | 9  |   4 | 1 |\n",
       "| 1_9  | 1    | 10 |   9 | 1 |\n",
       "| 1_9  | 1    | 11 |  16 | 1 |\n",
       "| 1_9  | 1    | 12 |   6 | 1 |\n",
       "| 1_9  | 1    | 13 |   6 | 1 |\n",
       "| 1_9  | 1    | 14 |   2 | 1 |\n",
       "| None | None | 0  | 297 | 1 |\n",
       "| None | None | 1  | 156 | 1 |\n",
       "| None | None | 2  |  95 | 1 |\n",
       "| None | None | 3  |  73 | 1 |\n",
       "| None | None | 4  | 207 | 1 |\n",
       "| None | None | 5  | 141 | 1 |\n",
       "| None | None | 6  | 191 | 1 |\n",
       "| None | None | 7  |  74 | 1 |\n",
       "| None | None | 8  |  48 | 1 |\n",
       "| None | None | 9  | 421 | 1 |\n",
       "| None | None | 10 | 140 | 1 |\n",
       "| None | None | 11 |  37 | 1 |\n",
       "| None | None | 12 |  55 | 1 |\n",
       "| None | None | 13 |  79 | 1 |\n",
       "| None | None | 14 |  19 | 1 |\n",
       "\n"
      ],
      "text/plain": [
       "     name donor seurat_clusters size tot\n",
       "1    0_0  0     0                41  1  \n",
       "2    0_0  0     1                22  1  \n",
       "3    0_0  0     2                71  1  \n",
       "4    0_0  0     3                89  1  \n",
       "5    0_0  0     4                23  1  \n",
       "6    0_0  0     5                22  1  \n",
       "7    0_0  0     6                30  1  \n",
       "8    0_0  0     7                21  1  \n",
       "9    0_0  0     8                14  1  \n",
       "10   0_0  0     9                 6  1  \n",
       "11   0_0  0     10               16  1  \n",
       "12   0_0  0     11               17  1  \n",
       "13   0_0  0     12               14  1  \n",
       "14   0_0  0     13               12  1  \n",
       "15   0_0  0     14                6  1  \n",
       "16   0_1  0     0                22  1  \n",
       "17   0_1  0     1                34  1  \n",
       "18   0_1  0     2                65  1  \n",
       "19   0_1  0     3               124  1  \n",
       "20   0_1  0     4                13  1  \n",
       "21   0_1  0     5                18  1  \n",
       "22   0_1  0     6                16  1  \n",
       "23   0_1  0     7                27  1  \n",
       "24   0_1  0     8                22  1  \n",
       "25   0_1  0     9                 2  1  \n",
       "26   0_1  0     10               15  1  \n",
       "27   0_1  0     11               29  1  \n",
       "28   0_1  0     12               13  1  \n",
       "29   0_1  0     13                7  1  \n",
       "30   0_1  0     14                3  1  \n",
       "⋮    ⋮    ⋮     ⋮               ⋮    ⋮  \n",
       "1143 1_9  1     0                37  1  \n",
       "1144 1_9  1     1                46  1  \n",
       "1145 1_9  1     2                30  1  \n",
       "1146 1_9  1     3                14  1  \n",
       "1147 1_9  1     4                37  1  \n",
       "1148 1_9  1     5                35  1  \n",
       "1149 1_9  1     6                26  1  \n",
       "1150 1_9  1     7                24  1  \n",
       "1151 1_9  1     8                 9  1  \n",
       "1152 1_9  1     9                 4  1  \n",
       "1153 1_9  1     10                9  1  \n",
       "1154 1_9  1     11               16  1  \n",
       "1155 1_9  1     12                6  1  \n",
       "1156 1_9  1     13                6  1  \n",
       "1157 1_9  1     14                2  1  \n",
       "1158 None None  0               297  1  \n",
       "1159 None None  1               156  1  \n",
       "1160 None None  2                95  1  \n",
       "1161 None None  3                73  1  \n",
       "1162 None None  4               207  1  \n",
       "1163 None None  5               141  1  \n",
       "1164 None None  6               191  1  \n",
       "1165 None None  7                74  1  \n",
       "1166 None None  8                48  1  \n",
       "1167 None None  9               421  1  \n",
       "1168 None None  10              140  1  \n",
       "1169 None None  11               37  1  \n",
       "1170 None None  12               55  1  \n",
       "1171 None None  13               79  1  \n",
       "1172 None None  14               19  1  "
      ]
     },
     "metadata": {},
     "output_type": "display_data"
    },
    {
     "data": {
      "image/png": "[encoded data removed]",
      "text/plain": [
       "plot without title"
      ]
     },
     "metadata": {
      "image/png": {
       "height": 420,
       "width": 420
      }
     },
     "output_type": "display_data"
    },
    {
     "data": {
      "image/png": "[encoded data removed]",
      "text/plain": [
       "plot without title"
      ]
     },
     "metadata": {
      "image/png": {
       "height": 420,
       "width": 420
      }
     },
     "output_type": "display_data"
    }
   ],
   "source": [
    "barplot.df <- se[[]] %>% group_by(name, donor, seurat_clusters) %>% summarize(size=n())# %>% mutate(donor=donor)\n",
    "barplot.df\n",
    "g <- ggplot(barplot.df[!(barplot.df$name == \"None\" | is.na(barplot.df$name)), ], aes(x=seurat_clusters, y=size, fill=donor)) + \n",
    "            geom_bar(stat='identity')\n",
    "\n",
    "g \n",
    "ggsave(file.path(outdir, paste0(\"input_clone_total_cluster_donor.pdf\")))\n",
    "#ggsave(file.path(outdir, paste0(\"clone_count.pdf\")))\n",
    "\n",
    "barplot.df <- se[[]] %>% group_by(name, donor, seurat_clusters) %>% summarize(size=n())# %>% mutate(donor=donor)\n",
    "\n",
    "barplot.df$tot = 1\n",
    "barplot.df\n",
    "g2 <- ggplot(barplot.df[!(barplot.df$name == \"None\" | is.na(barplot.df$name)), ], aes(x=seurat_clusters, y=tot, fill=donor)) + \n",
    "            geom_bar(stat='identity')\n",
    "\n",
    "g2 \n",
    "ggsave(file.path(outdir, paste0(\"input_num_clones_cluster_donor.pdf\")))"
   ]
  },
  {
   "cell_type": "code",
   "execution_count": 19,
   "id": "103e3704",
   "metadata": {
    "scrolled": true
   },
   "outputs": [
    {
     "data": {
      "image/png": "[encoded data removed]",
      "text/plain": [
       "plot without title"
      ]
     },
     "metadata": {
      "image/png": {
       "height": 420,
       "width": 420
      }
     },
     "output_type": "display_data"
    },
    {
     "data": {
      "image/png": "[encoded data removed]",
      "text/plain": [
       "plot without title"
      ]
     },
     "metadata": {
      "image/png": {
       "height": 420,
       "width": 420
      }
     },
     "output_type": "display_data"
    }
   ],
   "source": [
    "g <- ggplot(barplot.df, aes(x=seurat_clusters, y=size, fill=donor)) + \n",
    "            geom_bar(stat='identity')\n",
    "ggsave(file.path(outdir, paste0(\"extended_input_clones_size_cluster_donor_None.pdf\")))\n",
    "\n",
    "g2 <- ggplot(barplot.df[!(barplot.df$name == \"None\" | is.na(barplot.df$name)), ], aes(x=seurat_clusters, y=tot, fill=donor)) + \n",
    "            geom_bar(stat='identity')\n",
    "ggsave(file.path(outdir, paste0(\"extended_input_num_clones_cluster_donor_None.pdf\")))\n",
    "g\n",
    "g2"
   ]
  },
  {
   "cell_type": "markdown",
   "id": "978a834c",
   "metadata": {},
   "source": [
    "## Plot lineage"
   ]
  },
  {
   "cell_type": "code",
   "execution_count": 4,
   "id": "624319eb",
   "metadata": {
    "scrolled": false
   },
   "outputs": [
    {
     "name": "stderr",
     "output_type": "stream",
     "text": [
      "Warning message in dir.create(clone.umap.condition):\n",
      "“'/data/Mito_Trace/output/pipeline/CHIP_b1/MTBlacklist_A2/data/merged/MT/cellr_True/numread_200/filters/minC10_minR50_topN0_hetT0.001_hetC10_hetCount5_bq20/mgatk/vireoIn/clones/variants_init/knn/kparam_3/concat/gff_A2_black/annotation_clones/umap_clones_overlay' already exists”\n"
     ]
    }
   ],
   "source": [
    "clone.umap.condition <- file.path(outdir)\n",
    "dir.create(clone.umap.condition)"
   ]
  },
  {
   "cell_type": "code",
   "execution_count": 5,
   "id": "e84ab8df",
   "metadata": {
    "scrolled": false
   },
   "outputs": [
    {
     "data": {
      "text/html": [
       "<style>\n",
       ".list-inline {list-style: none; margin:0; padding: 0}\n",
       ".list-inline>li {display: inline-block}\n",
       ".list-inline>li:not(:last-child)::after {content: \"\\00b7\"; padding: 0 .5ex}\n",
       "</style>\n",
       "<ol class=list-inline><li>'0'</li><li>'1'</li></ol>\n"
      ],
      "text/latex": [
       "\\begin{enumerate*}\n",
       "\\item '0'\n",
       "\\item '1'\n",
       "\\end{enumerate*}\n"
      ],
      "text/markdown": [
       "1. '0'\n",
       "2. '1'\n",
       "\n",
       "\n"
      ],
      "text/plain": [
       "[1] \"0\" \"1\""
      ]
     },
     "metadata": {},
     "output_type": "display_data"
    }
   ],
   "source": [
    "donors <- levels(se$donor)\n",
    "donors <-  donors[donors != \"None\"]\n",
    "donors"
   ]
  },
  {
   "cell_type": "code",
   "execution_count": 6,
   "id": "33dc182c",
   "metadata": {},
   "outputs": [],
   "source": [
    "names <- (unique(se$name))\n",
    "names <- names[! names==\"None\"]"
   ]
  },
  {
   "cell_type": "markdown",
   "id": "31042b80",
   "metadata": {},
   "source": [
    "## For each clone, get the input size, the total size, expand-regressed, and use for naming. color by condition"
   ]
  },
  {
   "cell_type": "code",
   "execution_count": 7,
   "id": "b567b90b",
   "metadata": {
    "scrolled": true
   },
   "outputs": [
    {
     "name": "stderr",
     "output_type": "stream",
     "text": [
      "Warning message in dir.create(clone.umap.condition.splitdonor):\n",
      "“'/data/Mito_Trace/output/pipeline/CHIP_b1/MTBlacklist_A2/data/merged/MT/cellr_True/numread_200/filters/minC10_minR50_topN0_hetT0.001_hetC10_hetCount5_bq20/mgatk/vireoIn/clones/variants_init/knn/kparam_3/concat/gff_A2_black/annotation_clones/umap_clones_overlay/clone_splitbydonor' already exists”\n"
     ]
    },
    {
     "name": "stdout",
     "output_type": "stream",
     "text": [
      "[1] 1_4\n",
      "91 Levels: 0_0 0_1 0_10 0_11 0_12 0_13 0_14 0_15 0_16 0_17 0_18 0_19 ... None\n"
     ]
    },
    {
     "name": "stderr",
     "output_type": "stream",
     "text": [
      "Saving 6.67 x 6.67 in image\n",
      "\n"
     ]
    },
    {
     "name": "stdout",
     "output_type": "stream",
     "text": [
      "[1] 1_30\n",
      "91 Levels: 0_0 0_1 0_10 0_11 0_12 0_13 0_14 0_15 0_16 0_17 0_18 0_19 ... None\n"
     ]
    },
    {
     "name": "stderr",
     "output_type": "stream",
     "text": [
      "Saving 6.67 x 6.67 in image\n",
      "\n"
     ]
    },
    {
     "name": "stdout",
     "output_type": "stream",
     "text": [
      "[1] 0_15\n",
      "91 Levels: 0_0 0_1 0_10 0_11 0_12 0_13 0_14 0_15 0_16 0_17 0_18 0_19 ... None\n"
     ]
    },
    {
     "name": "stderr",
     "output_type": "stream",
     "text": [
      "Saving 6.67 x 6.67 in image\n",
      "\n"
     ]
    },
    {
     "name": "stdout",
     "output_type": "stream",
     "text": [
      "[1] 0_9\n",
      "91 Levels: 0_0 0_1 0_10 0_11 0_12 0_13 0_14 0_15 0_16 0_17 0_18 0_19 ... None\n"
     ]
    },
    {
     "name": "stderr",
     "output_type": "stream",
     "text": [
      "Saving 6.67 x 6.67 in image\n",
      "\n"
     ]
    },
    {
     "name": "stdout",
     "output_type": "stream",
     "text": [
      "[1] 1_17\n",
      "91 Levels: 0_0 0_1 0_10 0_11 0_12 0_13 0_14 0_15 0_16 0_17 0_18 0_19 ... None\n"
     ]
    },
    {
     "name": "stderr",
     "output_type": "stream",
     "text": [
      "Saving 6.67 x 6.67 in image\n",
      "\n"
     ]
    },
    {
     "name": "stdout",
     "output_type": "stream",
     "text": [
      "[1] 1_3\n",
      "91 Levels: 0_0 0_1 0_10 0_11 0_12 0_13 0_14 0_15 0_16 0_17 0_18 0_19 ... None\n"
     ]
    },
    {
     "name": "stderr",
     "output_type": "stream",
     "text": [
      "Saving 6.67 x 6.67 in image\n",
      "\n"
     ]
    },
    {
     "name": "stdout",
     "output_type": "stream",
     "text": [
      "[1] 0_21\n",
      "91 Levels: 0_0 0_1 0_10 0_11 0_12 0_13 0_14 0_15 0_16 0_17 0_18 0_19 ... None\n"
     ]
    },
    {
     "name": "stderr",
     "output_type": "stream",
     "text": [
      "Saving 6.67 x 6.67 in image\n",
      "\n"
     ]
    },
    {
     "name": "stdout",
     "output_type": "stream",
     "text": [
      "[1] 1_20\n",
      "91 Levels: 0_0 0_1 0_10 0_11 0_12 0_13 0_14 0_15 0_16 0_17 0_18 0_19 ... None\n"
     ]
    },
    {
     "name": "stderr",
     "output_type": "stream",
     "text": [
      "Saving 6.67 x 6.67 in image\n",
      "\n"
     ]
    },
    {
     "name": "stdout",
     "output_type": "stream",
     "text": [
      "[1] 0_24\n",
      "91 Levels: 0_0 0_1 0_10 0_11 0_12 0_13 0_14 0_15 0_16 0_17 0_18 0_19 ... None\n"
     ]
    },
    {
     "name": "stderr",
     "output_type": "stream",
     "text": [
      "Saving 6.67 x 6.67 in image\n",
      "\n"
     ]
    },
    {
     "name": "stdout",
     "output_type": "stream",
     "text": [
      "[1] 0_13\n",
      "91 Levels: 0_0 0_1 0_10 0_11 0_12 0_13 0_14 0_15 0_16 0_17 0_18 0_19 ... None\n"
     ]
    },
    {
     "name": "stderr",
     "output_type": "stream",
     "text": [
      "Saving 6.67 x 6.67 in image\n",
      "\n"
     ]
    },
    {
     "name": "stdout",
     "output_type": "stream",
     "text": [
      "[1] 0_25\n",
      "91 Levels: 0_0 0_1 0_10 0_11 0_12 0_13 0_14 0_15 0_16 0_17 0_18 0_19 ... None\n"
     ]
    },
    {
     "name": "stderr",
     "output_type": "stream",
     "text": [
      "Saving 6.67 x 6.67 in image\n",
      "\n"
     ]
    },
    {
     "name": "stdout",
     "output_type": "stream",
     "text": [
      "[1] 0_0\n",
      "91 Levels: 0_0 0_1 0_10 0_11 0_12 0_13 0_14 0_15 0_16 0_17 0_18 0_19 ... None\n"
     ]
    },
    {
     "name": "stderr",
     "output_type": "stream",
     "text": [
      "Saving 6.67 x 6.67 in image\n",
      "\n"
     ]
    },
    {
     "name": "stdout",
     "output_type": "stream",
     "text": [
      "[1] 0_19\n",
      "91 Levels: 0_0 0_1 0_10 0_11 0_12 0_13 0_14 0_15 0_16 0_17 0_18 0_19 ... None\n"
     ]
    },
    {
     "name": "stderr",
     "output_type": "stream",
     "text": [
      "Saving 6.67 x 6.67 in image\n",
      "\n"
     ]
    },
    {
     "name": "stdout",
     "output_type": "stream",
     "text": [
      "[1] 1_9\n",
      "91 Levels: 0_0 0_1 0_10 0_11 0_12 0_13 0_14 0_15 0_16 0_17 0_18 0_19 ... None\n"
     ]
    },
    {
     "name": "stderr",
     "output_type": "stream",
     "text": [
      "Saving 6.67 x 6.67 in image\n",
      "\n"
     ]
    },
    {
     "name": "stdout",
     "output_type": "stream",
     "text": [
      "[1] 1_26\n",
      "91 Levels: 0_0 0_1 0_10 0_11 0_12 0_13 0_14 0_15 0_16 0_17 0_18 0_19 ... None\n"
     ]
    },
    {
     "name": "stderr",
     "output_type": "stream",
     "text": [
      "Saving 6.67 x 6.67 in image\n",
      "\n"
     ]
    },
    {
     "name": "stdout",
     "output_type": "stream",
     "text": [
      "[1] 0_6\n",
      "91 Levels: 0_0 0_1 0_10 0_11 0_12 0_13 0_14 0_15 0_16 0_17 0_18 0_19 ... None\n"
     ]
    },
    {
     "name": "stderr",
     "output_type": "stream",
     "text": [
      "Saving 6.67 x 6.67 in image\n",
      "\n"
     ]
    },
    {
     "name": "stdout",
     "output_type": "stream",
     "text": [
      "[1] 1_1\n",
      "91 Levels: 0_0 0_1 0_10 0_11 0_12 0_13 0_14 0_15 0_16 0_17 0_18 0_19 ... None\n"
     ]
    },
    {
     "name": "stderr",
     "output_type": "stream",
     "text": [
      "Saving 6.67 x 6.67 in image\n",
      "\n"
     ]
    },
    {
     "name": "stdout",
     "output_type": "stream",
     "text": [
      "[1] 0_8\n",
      "91 Levels: 0_0 0_1 0_10 0_11 0_12 0_13 0_14 0_15 0_16 0_17 0_18 0_19 ... None\n"
     ]
    },
    {
     "name": "stderr",
     "output_type": "stream",
     "text": [
      "Saving 6.67 x 6.67 in image\n",
      "\n"
     ]
    },
    {
     "name": "stdout",
     "output_type": "stream",
     "text": [
      "[1] 1_0\n",
      "91 Levels: 0_0 0_1 0_10 0_11 0_12 0_13 0_14 0_15 0_16 0_17 0_18 0_19 ... None\n"
     ]
    },
    {
     "name": "stderr",
     "output_type": "stream",
     "text": [
      "Saving 6.67 x 6.67 in image\n",
      "\n"
     ]
    },
    {
     "name": "stdout",
     "output_type": "stream",
     "text": [
      "[1] 0_4\n",
      "91 Levels: 0_0 0_1 0_10 0_11 0_12 0_13 0_14 0_15 0_16 0_17 0_18 0_19 ... None\n"
     ]
    },
    {
     "name": "stderr",
     "output_type": "stream",
     "text": [
      "Saving 6.67 x 6.67 in image\n",
      "\n"
     ]
    },
    {
     "name": "stdout",
     "output_type": "stream",
     "text": [
      "[1] 0_18\n",
      "91 Levels: 0_0 0_1 0_10 0_11 0_12 0_13 0_14 0_15 0_16 0_17 0_18 0_19 ... None\n"
     ]
    },
    {
     "name": "stderr",
     "output_type": "stream",
     "text": [
      "Saving 6.67 x 6.67 in image\n",
      "\n"
     ]
    },
    {
     "name": "stdout",
     "output_type": "stream",
     "text": [
      "[1] 1_2\n",
      "91 Levels: 0_0 0_1 0_10 0_11 0_12 0_13 0_14 0_15 0_16 0_17 0_18 0_19 ... None\n"
     ]
    },
    {
     "name": "stderr",
     "output_type": "stream",
     "text": [
      "Saving 6.67 x 6.67 in image\n",
      "\n"
     ]
    },
    {
     "name": "stdout",
     "output_type": "stream",
     "text": [
      "[1] 1_25\n",
      "91 Levels: 0_0 0_1 0_10 0_11 0_12 0_13 0_14 0_15 0_16 0_17 0_18 0_19 ... None\n"
     ]
    },
    {
     "name": "stderr",
     "output_type": "stream",
     "text": [
      "Saving 6.67 x 6.67 in image\n",
      "\n"
     ]
    },
    {
     "name": "stdout",
     "output_type": "stream",
     "text": [
      "[1] 1_29\n",
      "91 Levels: 0_0 0_1 0_10 0_11 0_12 0_13 0_14 0_15 0_16 0_17 0_18 0_19 ... None\n"
     ]
    },
    {
     "name": "stderr",
     "output_type": "stream",
     "text": [
      "Saving 6.67 x 6.67 in image\n",
      "\n"
     ]
    },
    {
     "name": "stdout",
     "output_type": "stream",
     "text": [
      "[1] 1_6\n",
      "91 Levels: 0_0 0_1 0_10 0_11 0_12 0_13 0_14 0_15 0_16 0_17 0_18 0_19 ... None\n"
     ]
    },
    {
     "name": "stderr",
     "output_type": "stream",
     "text": [
      "Saving 6.67 x 6.67 in image\n",
      "\n"
     ]
    },
    {
     "name": "stdout",
     "output_type": "stream",
     "text": [
      "[1] 0_30\n",
      "91 Levels: 0_0 0_1 0_10 0_11 0_12 0_13 0_14 0_15 0_16 0_17 0_18 0_19 ... None\n"
     ]
    },
    {
     "name": "stderr",
     "output_type": "stream",
     "text": [
      "Saving 6.67 x 6.67 in image\n",
      "\n"
     ]
    },
    {
     "name": "stdout",
     "output_type": "stream",
     "text": [
      "[1] 1_27\n",
      "91 Levels: 0_0 0_1 0_10 0_11 0_12 0_13 0_14 0_15 0_16 0_17 0_18 0_19 ... None\n"
     ]
    },
    {
     "name": "stderr",
     "output_type": "stream",
     "text": [
      "Saving 6.67 x 6.67 in image\n",
      "\n"
     ]
    },
    {
     "name": "stdout",
     "output_type": "stream",
     "text": [
      "[1] 0_14\n",
      "91 Levels: 0_0 0_1 0_10 0_11 0_12 0_13 0_14 0_15 0_16 0_17 0_18 0_19 ... None\n"
     ]
    },
    {
     "name": "stderr",
     "output_type": "stream",
     "text": [
      "Saving 6.67 x 6.67 in image\n",
      "\n"
     ]
    },
    {
     "name": "stdout",
     "output_type": "stream",
     "text": [
      "[1] 0_37\n",
      "91 Levels: 0_0 0_1 0_10 0_11 0_12 0_13 0_14 0_15 0_16 0_17 0_18 0_19 ... None\n"
     ]
    },
    {
     "name": "stderr",
     "output_type": "stream",
     "text": [
      "Saving 6.67 x 6.67 in image\n",
      "\n"
     ]
    },
    {
     "name": "stdout",
     "output_type": "stream",
     "text": [
      "[1] 1_28\n",
      "91 Levels: 0_0 0_1 0_10 0_11 0_12 0_13 0_14 0_15 0_16 0_17 0_18 0_19 ... None\n"
     ]
    },
    {
     "name": "stderr",
     "output_type": "stream",
     "text": [
      "Saving 6.67 x 6.67 in image\n",
      "\n"
     ]
    },
    {
     "name": "stdout",
     "output_type": "stream",
     "text": [
      "[1] 0_29\n",
      "91 Levels: 0_0 0_1 0_10 0_11 0_12 0_13 0_14 0_15 0_16 0_17 0_18 0_19 ... None\n"
     ]
    },
    {
     "name": "stderr",
     "output_type": "stream",
     "text": [
      "Saving 6.67 x 6.67 in image\n",
      "\n"
     ]
    },
    {
     "name": "stdout",
     "output_type": "stream",
     "text": [
      "[1] 1_18\n",
      "91 Levels: 0_0 0_1 0_10 0_11 0_12 0_13 0_14 0_15 0_16 0_17 0_18 0_19 ... None\n"
     ]
    },
    {
     "name": "stderr",
     "output_type": "stream",
     "text": [
      "Saving 6.67 x 6.67 in image\n",
      "\n"
     ]
    },
    {
     "name": "stdout",
     "output_type": "stream",
     "text": [
      "[1] 1_23\n",
      "91 Levels: 0_0 0_1 0_10 0_11 0_12 0_13 0_14 0_15 0_16 0_17 0_18 0_19 ... None\n"
     ]
    },
    {
     "name": "stderr",
     "output_type": "stream",
     "text": [
      "Saving 6.67 x 6.67 in image\n",
      "\n"
     ]
    },
    {
     "name": "stdout",
     "output_type": "stream",
     "text": [
      "[1] 0_35\n",
      "91 Levels: 0_0 0_1 0_10 0_11 0_12 0_13 0_14 0_15 0_16 0_17 0_18 0_19 ... None\n"
     ]
    },
    {
     "name": "stderr",
     "output_type": "stream",
     "text": [
      "Saving 6.67 x 6.67 in image\n",
      "\n"
     ]
    },
    {
     "name": "stdout",
     "output_type": "stream",
     "text": [
      "[1] 1_19\n",
      "91 Levels: 0_0 0_1 0_10 0_11 0_12 0_13 0_14 0_15 0_16 0_17 0_18 0_19 ... None\n"
     ]
    },
    {
     "name": "stderr",
     "output_type": "stream",
     "text": [
      "Saving 6.67 x 6.67 in image\n",
      "\n"
     ]
    },
    {
     "name": "stdout",
     "output_type": "stream",
     "text": [
      "[1] 1_22\n",
      "91 Levels: 0_0 0_1 0_10 0_11 0_12 0_13 0_14 0_15 0_16 0_17 0_18 0_19 ... None\n"
     ]
    },
    {
     "name": "stderr",
     "output_type": "stream",
     "text": [
      "Saving 6.67 x 6.67 in image\n",
      "\n"
     ]
    },
    {
     "name": "stdout",
     "output_type": "stream",
     "text": [
      "[1] 1_16\n",
      "91 Levels: 0_0 0_1 0_10 0_11 0_12 0_13 0_14 0_15 0_16 0_17 0_18 0_19 ... None\n"
     ]
    },
    {
     "name": "stderr",
     "output_type": "stream",
     "text": [
      "Saving 6.67 x 6.67 in image\n",
      "\n"
     ]
    },
    {
     "name": "stdout",
     "output_type": "stream",
     "text": [
      "[1] 0_23\n",
      "91 Levels: 0_0 0_1 0_10 0_11 0_12 0_13 0_14 0_15 0_16 0_17 0_18 0_19 ... None\n"
     ]
    },
    {
     "name": "stderr",
     "output_type": "stream",
     "text": [
      "Saving 6.67 x 6.67 in image\n",
      "\n"
     ]
    },
    {
     "name": "stdout",
     "output_type": "stream",
     "text": [
      "[1] 1_5\n",
      "91 Levels: 0_0 0_1 0_10 0_11 0_12 0_13 0_14 0_15 0_16 0_17 0_18 0_19 ... None\n"
     ]
    },
    {
     "name": "stderr",
     "output_type": "stream",
     "text": [
      "Saving 6.67 x 6.67 in image\n",
      "\n"
     ]
    },
    {
     "name": "stdout",
     "output_type": "stream",
     "text": [
      "[1] 0_36\n",
      "91 Levels: 0_0 0_1 0_10 0_11 0_12 0_13 0_14 0_15 0_16 0_17 0_18 0_19 ... None\n"
     ]
    },
    {
     "name": "stderr",
     "output_type": "stream",
     "text": [
      "Saving 6.67 x 6.67 in image\n",
      "\n"
     ]
    },
    {
     "name": "stdout",
     "output_type": "stream",
     "text": [
      "[1] 1_13\n",
      "91 Levels: 0_0 0_1 0_10 0_11 0_12 0_13 0_14 0_15 0_16 0_17 0_18 0_19 ... None\n"
     ]
    },
    {
     "name": "stderr",
     "output_type": "stream",
     "text": [
      "Saving 6.67 x 6.67 in image\n",
      "\n"
     ]
    },
    {
     "name": "stdout",
     "output_type": "stream",
     "text": [
      "[1] 0_41\n",
      "91 Levels: 0_0 0_1 0_10 0_11 0_12 0_13 0_14 0_15 0_16 0_17 0_18 0_19 ... None\n"
     ]
    },
    {
     "name": "stderr",
     "output_type": "stream",
     "text": [
      "Saving 6.67 x 6.67 in image\n",
      "\n"
     ]
    },
    {
     "name": "stdout",
     "output_type": "stream",
     "text": [
      "[1] 1_12\n",
      "91 Levels: 0_0 0_1 0_10 0_11 0_12 0_13 0_14 0_15 0_16 0_17 0_18 0_19 ... None\n"
     ]
    },
    {
     "name": "stderr",
     "output_type": "stream",
     "text": [
      "Saving 6.67 x 6.67 in image\n",
      "\n"
     ]
    },
    {
     "name": "stdout",
     "output_type": "stream",
     "text": [
      "[1] 1_37\n",
      "91 Levels: 0_0 0_1 0_10 0_11 0_12 0_13 0_14 0_15 0_16 0_17 0_18 0_19 ... None\n"
     ]
    },
    {
     "name": "stderr",
     "output_type": "stream",
     "text": [
      "Saving 6.67 x 6.67 in image\n",
      "\n"
     ]
    },
    {
     "name": "stdout",
     "output_type": "stream",
     "text": [
      "[1] 0_10\n",
      "91 Levels: 0_0 0_1 0_10 0_11 0_12 0_13 0_14 0_15 0_16 0_17 0_18 0_19 ... None\n"
     ]
    },
    {
     "name": "stderr",
     "output_type": "stream",
     "text": [
      "Saving 6.67 x 6.67 in image\n",
      "\n"
     ]
    },
    {
     "name": "stdout",
     "output_type": "stream",
     "text": [
      "[1] 0_2\n",
      "91 Levels: 0_0 0_1 0_10 0_11 0_12 0_13 0_14 0_15 0_16 0_17 0_18 0_19 ... None\n"
     ]
    },
    {
     "name": "stderr",
     "output_type": "stream",
     "text": [
      "Saving 6.67 x 6.67 in image\n",
      "\n"
     ]
    },
    {
     "name": "stdout",
     "output_type": "stream",
     "text": [
      "[1] 0_17\n",
      "91 Levels: 0_0 0_1 0_10 0_11 0_12 0_13 0_14 0_15 0_16 0_17 0_18 0_19 ... None\n"
     ]
    },
    {
     "name": "stderr",
     "output_type": "stream",
     "text": [
      "Saving 6.67 x 6.67 in image\n",
      "\n"
     ]
    },
    {
     "name": "stdout",
     "output_type": "stream",
     "text": [
      "[1] 0_33\n",
      "91 Levels: 0_0 0_1 0_10 0_11 0_12 0_13 0_14 0_15 0_16 0_17 0_18 0_19 ... None\n"
     ]
    },
    {
     "name": "stderr",
     "output_type": "stream",
     "text": [
      "Saving 6.67 x 6.67 in image\n",
      "\n"
     ]
    },
    {
     "name": "stdout",
     "output_type": "stream",
     "text": [
      "[1] 1_24\n",
      "91 Levels: 0_0 0_1 0_10 0_11 0_12 0_13 0_14 0_15 0_16 0_17 0_18 0_19 ... None\n"
     ]
    },
    {
     "name": "stderr",
     "output_type": "stream",
     "text": [
      "Saving 6.67 x 6.67 in image\n",
      "\n"
     ]
    },
    {
     "name": "stdout",
     "output_type": "stream",
     "text": [
      "[1] 0_1\n",
      "91 Levels: 0_0 0_1 0_10 0_11 0_12 0_13 0_14 0_15 0_16 0_17 0_18 0_19 ... None\n"
     ]
    },
    {
     "name": "stderr",
     "output_type": "stream",
     "text": [
      "Saving 6.67 x 6.67 in image\n",
      "\n"
     ]
    },
    {
     "name": "stdout",
     "output_type": "stream",
     "text": [
      "[1] 1_11\n",
      "91 Levels: 0_0 0_1 0_10 0_11 0_12 0_13 0_14 0_15 0_16 0_17 0_18 0_19 ... None\n"
     ]
    },
    {
     "name": "stderr",
     "output_type": "stream",
     "text": [
      "Saving 6.67 x 6.67 in image\n",
      "\n"
     ]
    },
    {
     "name": "stdout",
     "output_type": "stream",
     "text": [
      "[1] 0_5\n",
      "91 Levels: 0_0 0_1 0_10 0_11 0_12 0_13 0_14 0_15 0_16 0_17 0_18 0_19 ... None\n"
     ]
    },
    {
     "name": "stderr",
     "output_type": "stream",
     "text": [
      "Saving 6.67 x 6.67 in image\n",
      "\n"
     ]
    },
    {
     "name": "stdout",
     "output_type": "stream",
     "text": [
      "[1] 0_28\n",
      "91 Levels: 0_0 0_1 0_10 0_11 0_12 0_13 0_14 0_15 0_16 0_17 0_18 0_19 ... None\n"
     ]
    },
    {
     "name": "stderr",
     "output_type": "stream",
     "text": [
      "Saving 6.67 x 6.67 in image\n",
      "\n"
     ]
    },
    {
     "name": "stdout",
     "output_type": "stream",
     "text": [
      "[1] 0_3\n",
      "91 Levels: 0_0 0_1 0_10 0_11 0_12 0_13 0_14 0_15 0_16 0_17 0_18 0_19 ... None\n"
     ]
    },
    {
     "name": "stderr",
     "output_type": "stream",
     "text": [
      "Saving 6.67 x 6.67 in image\n",
      "\n"
     ]
    },
    {
     "name": "stdout",
     "output_type": "stream",
     "text": [
      "[1] 0_39\n",
      "91 Levels: 0_0 0_1 0_10 0_11 0_12 0_13 0_14 0_15 0_16 0_17 0_18 0_19 ... None\n"
     ]
    },
    {
     "name": "stderr",
     "output_type": "stream",
     "text": [
      "Saving 6.67 x 6.67 in image\n",
      "\n"
     ]
    },
    {
     "name": "stdout",
     "output_type": "stream",
     "text": [
      "[1] 0_22\n",
      "91 Levels: 0_0 0_1 0_10 0_11 0_12 0_13 0_14 0_15 0_16 0_17 0_18 0_19 ... None\n"
     ]
    },
    {
     "name": "stderr",
     "output_type": "stream",
     "text": [
      "Saving 6.67 x 6.67 in image\n",
      "\n"
     ]
    },
    {
     "name": "stdout",
     "output_type": "stream",
     "text": [
      "[1] 0_31\n",
      "91 Levels: 0_0 0_1 0_10 0_11 0_12 0_13 0_14 0_15 0_16 0_17 0_18 0_19 ... None\n"
     ]
    },
    {
     "name": "stderr",
     "output_type": "stream",
     "text": [
      "Saving 6.67 x 6.67 in image\n",
      "\n"
     ]
    },
    {
     "name": "stdout",
     "output_type": "stream",
     "text": [
      "[1] 1_36\n",
      "91 Levels: 0_0 0_1 0_10 0_11 0_12 0_13 0_14 0_15 0_16 0_17 0_18 0_19 ... None\n"
     ]
    },
    {
     "name": "stderr",
     "output_type": "stream",
     "text": [
      "Saving 6.67 x 6.67 in image\n",
      "\n"
     ]
    },
    {
     "name": "stdout",
     "output_type": "stream",
     "text": [
      "[1] 0_7\n",
      "91 Levels: 0_0 0_1 0_10 0_11 0_12 0_13 0_14 0_15 0_16 0_17 0_18 0_19 ... None\n"
     ]
    },
    {
     "name": "stderr",
     "output_type": "stream",
     "text": [
      "Saving 6.67 x 6.67 in image\n",
      "\n"
     ]
    },
    {
     "name": "stdout",
     "output_type": "stream",
     "text": [
      "[1] 0_12\n",
      "91 Levels: 0_0 0_1 0_10 0_11 0_12 0_13 0_14 0_15 0_16 0_17 0_18 0_19 ... None\n"
     ]
    },
    {
     "name": "stderr",
     "output_type": "stream",
     "text": [
      "Saving 6.67 x 6.67 in image\n",
      "\n"
     ]
    },
    {
     "name": "stdout",
     "output_type": "stream",
     "text": [
      "[1] 0_32\n",
      "91 Levels: 0_0 0_1 0_10 0_11 0_12 0_13 0_14 0_15 0_16 0_17 0_18 0_19 ... None\n"
     ]
    },
    {
     "name": "stderr",
     "output_type": "stream",
     "text": [
      "Saving 6.67 x 6.67 in image\n",
      "\n"
     ]
    },
    {
     "name": "stdout",
     "output_type": "stream",
     "text": [
      "[1] 0_11\n",
      "91 Levels: 0_0 0_1 0_10 0_11 0_12 0_13 0_14 0_15 0_16 0_17 0_18 0_19 ... None\n"
     ]
    },
    {
     "name": "stderr",
     "output_type": "stream",
     "text": [
      "Saving 6.67 x 6.67 in image\n",
      "\n"
     ]
    },
    {
     "name": "stdout",
     "output_type": "stream",
     "text": [
      "[1] 1_8\n",
      "91 Levels: 0_0 0_1 0_10 0_11 0_12 0_13 0_14 0_15 0_16 0_17 0_18 0_19 ... None\n"
     ]
    },
    {
     "name": "stderr",
     "output_type": "stream",
     "text": [
      "Saving 6.67 x 6.67 in image\n",
      "\n"
     ]
    },
    {
     "name": "stdout",
     "output_type": "stream",
     "text": [
      "[1] 1_15\n",
      "91 Levels: 0_0 0_1 0_10 0_11 0_12 0_13 0_14 0_15 0_16 0_17 0_18 0_19 ... None\n"
     ]
    },
    {
     "name": "stderr",
     "output_type": "stream",
     "text": [
      "Saving 6.67 x 6.67 in image\n",
      "\n"
     ]
    },
    {
     "name": "stdout",
     "output_type": "stream",
     "text": [
      "[1] 1_7\n",
      "91 Levels: 0_0 0_1 0_10 0_11 0_12 0_13 0_14 0_15 0_16 0_17 0_18 0_19 ... None\n"
     ]
    },
    {
     "name": "stderr",
     "output_type": "stream",
     "text": [
      "Saving 6.67 x 6.67 in image\n",
      "\n"
     ]
    },
    {
     "name": "stdout",
     "output_type": "stream",
     "text": [
      "[1] 1_21\n",
      "91 Levels: 0_0 0_1 0_10 0_11 0_12 0_13 0_14 0_15 0_16 0_17 0_18 0_19 ... None\n"
     ]
    },
    {
     "name": "stderr",
     "output_type": "stream",
     "text": [
      "Saving 6.67 x 6.67 in image\n",
      "\n"
     ]
    },
    {
     "name": "stdout",
     "output_type": "stream",
     "text": [
      "[1] 0_16\n",
      "91 Levels: 0_0 0_1 0_10 0_11 0_12 0_13 0_14 0_15 0_16 0_17 0_18 0_19 ... None\n"
     ]
    },
    {
     "name": "stderr",
     "output_type": "stream",
     "text": [
      "Saving 6.67 x 6.67 in image\n",
      "\n"
     ]
    },
    {
     "name": "stdout",
     "output_type": "stream",
     "text": [
      "[1] 0_34\n",
      "91 Levels: 0_0 0_1 0_10 0_11 0_12 0_13 0_14 0_15 0_16 0_17 0_18 0_19 ... None\n"
     ]
    },
    {
     "name": "stderr",
     "output_type": "stream",
     "text": [
      "Saving 6.67 x 6.67 in image\n",
      "\n"
     ]
    },
    {
     "name": "stdout",
     "output_type": "stream",
     "text": [
      "[1] 0_26\n",
      "91 Levels: 0_0 0_1 0_10 0_11 0_12 0_13 0_14 0_15 0_16 0_17 0_18 0_19 ... None\n"
     ]
    },
    {
     "name": "stderr",
     "output_type": "stream",
     "text": [
      "Saving 6.67 x 6.67 in image\n",
      "\n"
     ]
    },
    {
     "name": "stdout",
     "output_type": "stream",
     "text": [
      "[1] 0_20\n",
      "91 Levels: 0_0 0_1 0_10 0_11 0_12 0_13 0_14 0_15 0_16 0_17 0_18 0_19 ... None\n"
     ]
    },
    {
     "name": "stderr",
     "output_type": "stream",
     "text": [
      "Saving 6.67 x 6.67 in image\n",
      "\n"
     ]
    },
    {
     "name": "stdout",
     "output_type": "stream",
     "text": [
      "[1] 0_40\n",
      "91 Levels: 0_0 0_1 0_10 0_11 0_12 0_13 0_14 0_15 0_16 0_17 0_18 0_19 ... None\n"
     ]
    },
    {
     "name": "stderr",
     "output_type": "stream",
     "text": [
      "Saving 6.67 x 6.67 in image\n",
      "\n"
     ]
    },
    {
     "name": "stdout",
     "output_type": "stream",
     "text": [
      "[1] 0_38\n",
      "91 Levels: 0_0 0_1 0_10 0_11 0_12 0_13 0_14 0_15 0_16 0_17 0_18 0_19 ... None\n"
     ]
    },
    {
     "name": "stderr",
     "output_type": "stream",
     "text": [
      "Saving 6.67 x 6.67 in image\n",
      "\n"
     ]
    },
    {
     "name": "stdout",
     "output_type": "stream",
     "text": [
      "[1] 1_10\n",
      "91 Levels: 0_0 0_1 0_10 0_11 0_12 0_13 0_14 0_15 0_16 0_17 0_18 0_19 ... None\n"
     ]
    },
    {
     "name": "stderr",
     "output_type": "stream",
     "text": [
      "Saving 6.67 x 6.67 in image\n",
      "\n"
     ]
    },
    {
     "name": "stdout",
     "output_type": "stream",
     "text": [
      "[1] 1_14\n",
      "91 Levels: 0_0 0_1 0_10 0_11 0_12 0_13 0_14 0_15 0_16 0_17 0_18 0_19 ... None\n"
     ]
    },
    {
     "name": "stderr",
     "output_type": "stream",
     "text": [
      "Saving 6.67 x 6.67 in image\n",
      "\n"
     ]
    },
    {
     "name": "stdout",
     "output_type": "stream",
     "text": [
      "[1] 0_43\n",
      "91 Levels: 0_0 0_1 0_10 0_11 0_12 0_13 0_14 0_15 0_16 0_17 0_18 0_19 ... None\n"
     ]
    },
    {
     "name": "stderr",
     "output_type": "stream",
     "text": [
      "Saving 6.67 x 6.67 in image\n",
      "\n"
     ]
    },
    {
     "name": "stdout",
     "output_type": "stream",
     "text": [
      "[1] 1_33\n",
      "91 Levels: 0_0 0_1 0_10 0_11 0_12 0_13 0_14 0_15 0_16 0_17 0_18 0_19 ... None\n"
     ]
    },
    {
     "name": "stderr",
     "output_type": "stream",
     "text": [
      "Saving 6.67 x 6.67 in image\n",
      "\n"
     ]
    },
    {
     "name": "stdout",
     "output_type": "stream",
     "text": [
      "[1] 0_42\n",
      "91 Levels: 0_0 0_1 0_10 0_11 0_12 0_13 0_14 0_15 0_16 0_17 0_18 0_19 ... None\n"
     ]
    },
    {
     "name": "stderr",
     "output_type": "stream",
     "text": [
      "Saving 6.67 x 6.67 in image\n",
      "\n"
     ]
    },
    {
     "name": "stdout",
     "output_type": "stream",
     "text": [
      "[1] 0_45\n",
      "91 Levels: 0_0 0_1 0_10 0_11 0_12 0_13 0_14 0_15 0_16 0_17 0_18 0_19 ... None\n"
     ]
    },
    {
     "name": "stderr",
     "output_type": "stream",
     "text": [
      "Saving 6.67 x 6.67 in image\n",
      "\n"
     ]
    },
    {
     "name": "stdout",
     "output_type": "stream",
     "text": [
      "[1] 0_27\n",
      "91 Levels: 0_0 0_1 0_10 0_11 0_12 0_13 0_14 0_15 0_16 0_17 0_18 0_19 ... None\n"
     ]
    },
    {
     "name": "stderr",
     "output_type": "stream",
     "text": [
      "Saving 6.67 x 6.67 in image\n",
      "\n"
     ]
    },
    {
     "name": "stdout",
     "output_type": "stream",
     "text": [
      "[1] 0_44\n",
      "91 Levels: 0_0 0_1 0_10 0_11 0_12 0_13 0_14 0_15 0_16 0_17 0_18 0_19 ... None\n"
     ]
    },
    {
     "name": "stderr",
     "output_type": "stream",
     "text": [
      "Saving 6.67 x 6.67 in image\n",
      "\n"
     ]
    },
    {
     "name": "stdout",
     "output_type": "stream",
     "text": [
      "[1] 0_46\n",
      "91 Levels: 0_0 0_1 0_10 0_11 0_12 0_13 0_14 0_15 0_16 0_17 0_18 0_19 ... None\n"
     ]
    },
    {
     "name": "stderr",
     "output_type": "stream",
     "text": [
      "Saving 6.67 x 6.67 in image\n",
      "\n"
     ]
    },
    {
     "name": "stdout",
     "output_type": "stream",
     "text": [
      "[1] 1_31\n",
      "91 Levels: 0_0 0_1 0_10 0_11 0_12 0_13 0_14 0_15 0_16 0_17 0_18 0_19 ... None\n"
     ]
    },
    {
     "name": "stderr",
     "output_type": "stream",
     "text": [
      "Saving 6.67 x 6.67 in image\n",
      "\n"
     ]
    },
    {
     "name": "stdout",
     "output_type": "stream",
     "text": [
      "[1] 0_50\n",
      "91 Levels: 0_0 0_1 0_10 0_11 0_12 0_13 0_14 0_15 0_16 0_17 0_18 0_19 ... None\n"
     ]
    },
    {
     "name": "stderr",
     "output_type": "stream",
     "text": [
      "Saving 6.67 x 6.67 in image\n",
      "\n"
     ]
    },
    {
     "name": "stdout",
     "output_type": "stream",
     "text": [
      "[1] 1_35\n",
      "91 Levels: 0_0 0_1 0_10 0_11 0_12 0_13 0_14 0_15 0_16 0_17 0_18 0_19 ... None\n"
     ]
    },
    {
     "name": "stderr",
     "output_type": "stream",
     "text": [
      "Saving 6.67 x 6.67 in image\n",
      "\n"
     ]
    },
    {
     "name": "stdout",
     "output_type": "stream",
     "text": [
      "[1] 1_34\n",
      "91 Levels: 0_0 0_1 0_10 0_11 0_12 0_13 0_14 0_15 0_16 0_17 0_18 0_19 ... None\n"
     ]
    },
    {
     "name": "stderr",
     "output_type": "stream",
     "text": [
      "Saving 6.67 x 6.67 in image\n",
      "\n"
     ]
    },
    {
     "name": "stdout",
     "output_type": "stream",
     "text": [
      "[1] 0_48\n",
      "91 Levels: 0_0 0_1 0_10 0_11 0_12 0_13 0_14 0_15 0_16 0_17 0_18 0_19 ... None\n"
     ]
    },
    {
     "name": "stderr",
     "output_type": "stream",
     "text": [
      "Saving 6.67 x 6.67 in image\n",
      "\n"
     ]
    },
    {
     "name": "stdout",
     "output_type": "stream",
     "text": [
      "[1] 0_47\n",
      "91 Levels: 0_0 0_1 0_10 0_11 0_12 0_13 0_14 0_15 0_16 0_17 0_18 0_19 ... None\n"
     ]
    },
    {
     "name": "stderr",
     "output_type": "stream",
     "text": [
      "Saving 6.67 x 6.67 in image\n",
      "\n"
     ]
    },
    {
     "name": "stdout",
     "output_type": "stream",
     "text": [
      "[1] 1_32\n",
      "91 Levels: 0_0 0_1 0_10 0_11 0_12 0_13 0_14 0_15 0_16 0_17 0_18 0_19 ... None\n"
     ]
    },
    {
     "name": "stderr",
     "output_type": "stream",
     "text": [
      "Saving 6.67 x 6.67 in image\n",
      "\n"
     ]
    },
    {
     "name": "stdout",
     "output_type": "stream",
     "text": [
      "[1] 0_49\n",
      "91 Levels: 0_0 0_1 0_10 0_11 0_12 0_13 0_14 0_15 0_16 0_17 0_18 0_19 ... None\n"
     ]
    },
    {
     "name": "stderr",
     "output_type": "stream",
     "text": [
      "Saving 6.67 x 6.67 in image\n",
      "\n"
     ]
    }
   ],
   "source": [
    "dimplots.f <- function(cl, se){\n",
    "    print(cl)\n",
    "    d <- (DimPlot(object = subset(x = se, subset = name == cl), label = FALSE, \n",
    "                   split.by=c(\"donor\"), group.by=(\"seurat_clusters\")))\n",
    "    ggsave(file.path(clone.umap.condition.splitdonor, paste0(\"clone_\", cl, \".umap.png\")))\n",
    "    \n",
    "}\n",
    "\n",
    "clone.umap.condition.splitdonor <- file.path(clone.umap.condition, \"clone_splitbydonor\")\n",
    "dir.create(clone.umap.condition.splitdonor)\n",
    "dimplots <- sapply(names, FUN=dimplots.f, se=se)\n",
    "\n",
    "  "
   ]
  },
  {
   "cell_type": "code",
   "execution_count": 8,
   "id": "a459bfe8",
   "metadata": {},
   "outputs": [
    {
     "data": {
      "text/html": [
       "'/data/Mito_Trace/output/pipeline/CHIP_b1/MTBlacklist_A2/data/merged/MT/cellr_True/numread_200/filters/minC10_minR50_topN0_hetT0.001_hetC10_hetCount5_bq20/mgatk/vireoIn/clones/variants_init/knn/kparam_3/concat/gff_A2_black/annotation_clones/umap_clones_overlay/clone_splitbydonor'"
      ],
      "text/latex": [
       "'/data/Mito\\_Trace/output/pipeline/CHIP\\_b1/MTBlacklist\\_A2/data/merged/MT/cellr\\_True/numread\\_200/filters/minC10\\_minR50\\_topN0\\_hetT0.001\\_hetC10\\_hetCount5\\_bq20/mgatk/vireoIn/clones/variants\\_init/knn/kparam\\_3/concat/gff\\_A2\\_black/annotation\\_clones/umap\\_clones\\_overlay/clone\\_splitbydonor'"
      ],
      "text/markdown": [
       "'/data/Mito_Trace/output/pipeline/CHIP_b1/MTBlacklist_A2/data/merged/MT/cellr_True/numread_200/filters/minC10_minR50_topN0_hetT0.001_hetC10_hetCount5_bq20/mgatk/vireoIn/clones/variants_init/knn/kparam_3/concat/gff_A2_black/annotation_clones/umap_clones_overlay/clone_splitbydonor'"
      ],
      "text/plain": [
       "[1] \"/data/Mito_Trace/output/pipeline/CHIP_b1/MTBlacklist_A2/data/merged/MT/cellr_True/numread_200/filters/minC10_minR50_topN0_hetT0.001_hetC10_hetCount5_bq20/mgatk/vireoIn/clones/variants_init/knn/kparam_3/concat/gff_A2_black/annotation_clones/umap_clones_overlay/clone_splitbydonor\""
      ]
     },
     "metadata": {},
     "output_type": "display_data"
    }
   ],
   "source": [
    "clone.umap.condition.splitdonor"
   ]
  },
  {
   "cell_type": "code",
   "execution_count": null,
   "id": "1376122e",
   "metadata": {},
   "outputs": [],
   "source": []
  },
  {
   "cell_type": "code",
   "execution_count": 9,
   "id": "c4f72de2",
   "metadata": {
    "scrolled": true
   },
   "outputs": [
    {
     "name": "stderr",
     "output_type": "stream",
     "text": [
      "Warning message in dir.create(clone.umap.condition.lineage):\n",
      "“'/data/Mito_Trace/output/pipeline/CHIP_b1/MTBlacklist_A2/data/merged/MT/cellr_True/numread_200/filters/minC10_minR50_topN0_hetT0.001_hetC10_hetCount5_bq20/mgatk/vireoIn/clones/variants_init/knn/kparam_3/concat/gff_A2_black/annotation_clones/umap_clones_overlay/lineage_condition' already exists”\n"
     ]
    },
    {
     "name": "stdout",
     "output_type": "stream",
     "text": [
      "[1] 1_4\n",
      "91 Levels: 0_0 0_1 0_10 0_11 0_12 0_13 0_14 0_15 0_16 0_17 0_18 0_19 ... None\n"
     ]
    },
    {
     "name": "stderr",
     "output_type": "stream",
     "text": [
      "Saving 6.67 x 6.67 in image\n",
      "\n"
     ]
    },
    {
     "name": "stdout",
     "output_type": "stream",
     "text": [
      "[1] 1_30\n",
      "91 Levels: 0_0 0_1 0_10 0_11 0_12 0_13 0_14 0_15 0_16 0_17 0_18 0_19 ... None\n"
     ]
    },
    {
     "name": "stderr",
     "output_type": "stream",
     "text": [
      "Saving 6.67 x 6.67 in image\n",
      "\n"
     ]
    },
    {
     "name": "stdout",
     "output_type": "stream",
     "text": [
      "[1] 0_15\n",
      "91 Levels: 0_0 0_1 0_10 0_11 0_12 0_13 0_14 0_15 0_16 0_17 0_18 0_19 ... None\n"
     ]
    },
    {
     "name": "stderr",
     "output_type": "stream",
     "text": [
      "Saving 6.67 x 6.67 in image\n",
      "\n"
     ]
    },
    {
     "name": "stdout",
     "output_type": "stream",
     "text": [
      "[1] 0_9\n",
      "91 Levels: 0_0 0_1 0_10 0_11 0_12 0_13 0_14 0_15 0_16 0_17 0_18 0_19 ... None\n"
     ]
    },
    {
     "name": "stderr",
     "output_type": "stream",
     "text": [
      "Saving 6.67 x 6.67 in image\n",
      "\n"
     ]
    },
    {
     "name": "stdout",
     "output_type": "stream",
     "text": [
      "[1] 1_17\n",
      "91 Levels: 0_0 0_1 0_10 0_11 0_12 0_13 0_14 0_15 0_16 0_17 0_18 0_19 ... None\n"
     ]
    },
    {
     "name": "stderr",
     "output_type": "stream",
     "text": [
      "Saving 6.67 x 6.67 in image\n",
      "\n"
     ]
    },
    {
     "name": "stdout",
     "output_type": "stream",
     "text": [
      "[1] 1_3\n",
      "91 Levels: 0_0 0_1 0_10 0_11 0_12 0_13 0_14 0_15 0_16 0_17 0_18 0_19 ... None\n"
     ]
    },
    {
     "name": "stderr",
     "output_type": "stream",
     "text": [
      "Saving 6.67 x 6.67 in image\n",
      "\n"
     ]
    },
    {
     "name": "stdout",
     "output_type": "stream",
     "text": [
      "[1] 0_21\n",
      "91 Levels: 0_0 0_1 0_10 0_11 0_12 0_13 0_14 0_15 0_16 0_17 0_18 0_19 ... None\n"
     ]
    },
    {
     "name": "stderr",
     "output_type": "stream",
     "text": [
      "Saving 6.67 x 6.67 in image\n",
      "\n"
     ]
    },
    {
     "name": "stdout",
     "output_type": "stream",
     "text": [
      "[1] 1_20\n",
      "91 Levels: 0_0 0_1 0_10 0_11 0_12 0_13 0_14 0_15 0_16 0_17 0_18 0_19 ... None\n"
     ]
    },
    {
     "name": "stderr",
     "output_type": "stream",
     "text": [
      "Saving 6.67 x 6.67 in image\n",
      "\n"
     ]
    },
    {
     "name": "stdout",
     "output_type": "stream",
     "text": [
      "[1] 0_24\n",
      "91 Levels: 0_0 0_1 0_10 0_11 0_12 0_13 0_14 0_15 0_16 0_17 0_18 0_19 ... None\n"
     ]
    },
    {
     "name": "stderr",
     "output_type": "stream",
     "text": [
      "Saving 6.67 x 6.67 in image\n",
      "\n"
     ]
    },
    {
     "name": "stdout",
     "output_type": "stream",
     "text": [
      "[1] 0_13\n",
      "91 Levels: 0_0 0_1 0_10 0_11 0_12 0_13 0_14 0_15 0_16 0_17 0_18 0_19 ... None\n"
     ]
    },
    {
     "name": "stderr",
     "output_type": "stream",
     "text": [
      "Saving 6.67 x 6.67 in image\n",
      "\n"
     ]
    },
    {
     "name": "stdout",
     "output_type": "stream",
     "text": [
      "[1] 0_25\n",
      "91 Levels: 0_0 0_1 0_10 0_11 0_12 0_13 0_14 0_15 0_16 0_17 0_18 0_19 ... None\n"
     ]
    },
    {
     "name": "stderr",
     "output_type": "stream",
     "text": [
      "Saving 6.67 x 6.67 in image\n",
      "\n"
     ]
    },
    {
     "name": "stdout",
     "output_type": "stream",
     "text": [
      "[1] 0_0\n",
      "91 Levels: 0_0 0_1 0_10 0_11 0_12 0_13 0_14 0_15 0_16 0_17 0_18 0_19 ... None\n"
     ]
    },
    {
     "name": "stderr",
     "output_type": "stream",
     "text": [
      "Saving 6.67 x 6.67 in image\n",
      "\n"
     ]
    },
    {
     "name": "stdout",
     "output_type": "stream",
     "text": [
      "[1] 0_19\n",
      "91 Levels: 0_0 0_1 0_10 0_11 0_12 0_13 0_14 0_15 0_16 0_17 0_18 0_19 ... None\n"
     ]
    },
    {
     "name": "stderr",
     "output_type": "stream",
     "text": [
      "Saving 6.67 x 6.67 in image\n",
      "\n"
     ]
    },
    {
     "name": "stdout",
     "output_type": "stream",
     "text": [
      "[1] 1_9\n",
      "91 Levels: 0_0 0_1 0_10 0_11 0_12 0_13 0_14 0_15 0_16 0_17 0_18 0_19 ... None\n"
     ]
    },
    {
     "name": "stderr",
     "output_type": "stream",
     "text": [
      "Saving 6.67 x 6.67 in image\n",
      "\n"
     ]
    },
    {
     "name": "stdout",
     "output_type": "stream",
     "text": [
      "[1] 1_26\n",
      "91 Levels: 0_0 0_1 0_10 0_11 0_12 0_13 0_14 0_15 0_16 0_17 0_18 0_19 ... None\n"
     ]
    },
    {
     "name": "stderr",
     "output_type": "stream",
     "text": [
      "Saving 6.67 x 6.67 in image\n",
      "\n"
     ]
    },
    {
     "name": "stdout",
     "output_type": "stream",
     "text": [
      "[1] 0_6\n",
      "91 Levels: 0_0 0_1 0_10 0_11 0_12 0_13 0_14 0_15 0_16 0_17 0_18 0_19 ... None\n"
     ]
    },
    {
     "name": "stderr",
     "output_type": "stream",
     "text": [
      "Saving 6.67 x 6.67 in image\n",
      "\n"
     ]
    },
    {
     "name": "stdout",
     "output_type": "stream",
     "text": [
      "[1] 1_1\n",
      "91 Levels: 0_0 0_1 0_10 0_11 0_12 0_13 0_14 0_15 0_16 0_17 0_18 0_19 ... None\n"
     ]
    },
    {
     "name": "stderr",
     "output_type": "stream",
     "text": [
      "Saving 6.67 x 6.67 in image\n",
      "\n"
     ]
    },
    {
     "name": "stdout",
     "output_type": "stream",
     "text": [
      "[1] 0_8\n",
      "91 Levels: 0_0 0_1 0_10 0_11 0_12 0_13 0_14 0_15 0_16 0_17 0_18 0_19 ... None\n"
     ]
    },
    {
     "name": "stderr",
     "output_type": "stream",
     "text": [
      "Saving 6.67 x 6.67 in image\n",
      "\n"
     ]
    },
    {
     "name": "stdout",
     "output_type": "stream",
     "text": [
      "[1] 1_0\n",
      "91 Levels: 0_0 0_1 0_10 0_11 0_12 0_13 0_14 0_15 0_16 0_17 0_18 0_19 ... None\n"
     ]
    },
    {
     "name": "stderr",
     "output_type": "stream",
     "text": [
      "Saving 6.67 x 6.67 in image\n",
      "\n"
     ]
    },
    {
     "name": "stdout",
     "output_type": "stream",
     "text": [
      "[1] 0_4\n",
      "91 Levels: 0_0 0_1 0_10 0_11 0_12 0_13 0_14 0_15 0_16 0_17 0_18 0_19 ... None\n"
     ]
    },
    {
     "name": "stderr",
     "output_type": "stream",
     "text": [
      "Saving 6.67 x 6.67 in image\n",
      "\n"
     ]
    },
    {
     "name": "stdout",
     "output_type": "stream",
     "text": [
      "[1] 0_18\n",
      "91 Levels: 0_0 0_1 0_10 0_11 0_12 0_13 0_14 0_15 0_16 0_17 0_18 0_19 ... None\n"
     ]
    },
    {
     "name": "stderr",
     "output_type": "stream",
     "text": [
      "Saving 6.67 x 6.67 in image\n",
      "\n"
     ]
    },
    {
     "name": "stdout",
     "output_type": "stream",
     "text": [
      "[1] 1_2\n",
      "91 Levels: 0_0 0_1 0_10 0_11 0_12 0_13 0_14 0_15 0_16 0_17 0_18 0_19 ... None\n"
     ]
    },
    {
     "name": "stderr",
     "output_type": "stream",
     "text": [
      "Saving 6.67 x 6.67 in image\n",
      "\n"
     ]
    },
    {
     "name": "stdout",
     "output_type": "stream",
     "text": [
      "[1] 1_25\n",
      "91 Levels: 0_0 0_1 0_10 0_11 0_12 0_13 0_14 0_15 0_16 0_17 0_18 0_19 ... None\n"
     ]
    },
    {
     "name": "stderr",
     "output_type": "stream",
     "text": [
      "Saving 6.67 x 6.67 in image\n",
      "\n"
     ]
    },
    {
     "name": "stdout",
     "output_type": "stream",
     "text": [
      "[1] 1_29\n",
      "91 Levels: 0_0 0_1 0_10 0_11 0_12 0_13 0_14 0_15 0_16 0_17 0_18 0_19 ... None\n"
     ]
    },
    {
     "name": "stderr",
     "output_type": "stream",
     "text": [
      "Saving 6.67 x 6.67 in image\n",
      "\n"
     ]
    },
    {
     "name": "stdout",
     "output_type": "stream",
     "text": [
      "[1] 1_6\n",
      "91 Levels: 0_0 0_1 0_10 0_11 0_12 0_13 0_14 0_15 0_16 0_17 0_18 0_19 ... None\n"
     ]
    },
    {
     "name": "stderr",
     "output_type": "stream",
     "text": [
      "Saving 6.67 x 6.67 in image\n",
      "\n"
     ]
    },
    {
     "name": "stdout",
     "output_type": "stream",
     "text": [
      "[1] 0_30\n",
      "91 Levels: 0_0 0_1 0_10 0_11 0_12 0_13 0_14 0_15 0_16 0_17 0_18 0_19 ... None\n"
     ]
    },
    {
     "name": "stderr",
     "output_type": "stream",
     "text": [
      "Saving 6.67 x 6.67 in image\n",
      "\n"
     ]
    },
    {
     "name": "stdout",
     "output_type": "stream",
     "text": [
      "[1] 1_27\n",
      "91 Levels: 0_0 0_1 0_10 0_11 0_12 0_13 0_14 0_15 0_16 0_17 0_18 0_19 ... None\n"
     ]
    },
    {
     "name": "stderr",
     "output_type": "stream",
     "text": [
      "Saving 6.67 x 6.67 in image\n",
      "\n"
     ]
    },
    {
     "name": "stdout",
     "output_type": "stream",
     "text": [
      "[1] 0_14\n",
      "91 Levels: 0_0 0_1 0_10 0_11 0_12 0_13 0_14 0_15 0_16 0_17 0_18 0_19 ... None\n"
     ]
    },
    {
     "name": "stderr",
     "output_type": "stream",
     "text": [
      "Saving 6.67 x 6.67 in image\n",
      "\n"
     ]
    },
    {
     "name": "stdout",
     "output_type": "stream",
     "text": [
      "[1] 0_37\n",
      "91 Levels: 0_0 0_1 0_10 0_11 0_12 0_13 0_14 0_15 0_16 0_17 0_18 0_19 ... None\n"
     ]
    },
    {
     "name": "stderr",
     "output_type": "stream",
     "text": [
      "Saving 6.67 x 6.67 in image\n",
      "\n"
     ]
    },
    {
     "name": "stdout",
     "output_type": "stream",
     "text": [
      "[1] 1_28\n",
      "91 Levels: 0_0 0_1 0_10 0_11 0_12 0_13 0_14 0_15 0_16 0_17 0_18 0_19 ... None\n"
     ]
    },
    {
     "name": "stderr",
     "output_type": "stream",
     "text": [
      "Saving 6.67 x 6.67 in image\n",
      "\n"
     ]
    },
    {
     "name": "stdout",
     "output_type": "stream",
     "text": [
      "[1] 0_29\n",
      "91 Levels: 0_0 0_1 0_10 0_11 0_12 0_13 0_14 0_15 0_16 0_17 0_18 0_19 ... None\n"
     ]
    },
    {
     "name": "stderr",
     "output_type": "stream",
     "text": [
      "Saving 6.67 x 6.67 in image\n",
      "\n"
     ]
    },
    {
     "name": "stdout",
     "output_type": "stream",
     "text": [
      "[1] 1_18\n",
      "91 Levels: 0_0 0_1 0_10 0_11 0_12 0_13 0_14 0_15 0_16 0_17 0_18 0_19 ... None\n"
     ]
    },
    {
     "name": "stderr",
     "output_type": "stream",
     "text": [
      "Saving 6.67 x 6.67 in image\n",
      "\n"
     ]
    },
    {
     "name": "stdout",
     "output_type": "stream",
     "text": [
      "[1] 1_23\n",
      "91 Levels: 0_0 0_1 0_10 0_11 0_12 0_13 0_14 0_15 0_16 0_17 0_18 0_19 ... None\n"
     ]
    },
    {
     "name": "stderr",
     "output_type": "stream",
     "text": [
      "Saving 6.67 x 6.67 in image\n",
      "\n"
     ]
    },
    {
     "name": "stdout",
     "output_type": "stream",
     "text": [
      "[1] 0_35\n",
      "91 Levels: 0_0 0_1 0_10 0_11 0_12 0_13 0_14 0_15 0_16 0_17 0_18 0_19 ... None\n"
     ]
    },
    {
     "name": "stderr",
     "output_type": "stream",
     "text": [
      "Saving 6.67 x 6.67 in image\n",
      "\n"
     ]
    },
    {
     "name": "stdout",
     "output_type": "stream",
     "text": [
      "[1] 1_19\n",
      "91 Levels: 0_0 0_1 0_10 0_11 0_12 0_13 0_14 0_15 0_16 0_17 0_18 0_19 ... None\n"
     ]
    },
    {
     "name": "stderr",
     "output_type": "stream",
     "text": [
      "Saving 6.67 x 6.67 in image\n",
      "\n"
     ]
    },
    {
     "name": "stdout",
     "output_type": "stream",
     "text": [
      "[1] 1_22\n",
      "91 Levels: 0_0 0_1 0_10 0_11 0_12 0_13 0_14 0_15 0_16 0_17 0_18 0_19 ... None\n"
     ]
    },
    {
     "name": "stderr",
     "output_type": "stream",
     "text": [
      "Saving 6.67 x 6.67 in image\n",
      "\n"
     ]
    },
    {
     "name": "stdout",
     "output_type": "stream",
     "text": [
      "[1] 1_16\n",
      "91 Levels: 0_0 0_1 0_10 0_11 0_12 0_13 0_14 0_15 0_16 0_17 0_18 0_19 ... None\n"
     ]
    },
    {
     "name": "stderr",
     "output_type": "stream",
     "text": [
      "Saving 6.67 x 6.67 in image\n",
      "\n"
     ]
    },
    {
     "name": "stdout",
     "output_type": "stream",
     "text": [
      "[1] 0_23\n",
      "91 Levels: 0_0 0_1 0_10 0_11 0_12 0_13 0_14 0_15 0_16 0_17 0_18 0_19 ... None\n"
     ]
    },
    {
     "name": "stderr",
     "output_type": "stream",
     "text": [
      "Saving 6.67 x 6.67 in image\n",
      "\n"
     ]
    },
    {
     "name": "stdout",
     "output_type": "stream",
     "text": [
      "[1] 1_5\n",
      "91 Levels: 0_0 0_1 0_10 0_11 0_12 0_13 0_14 0_15 0_16 0_17 0_18 0_19 ... None\n"
     ]
    },
    {
     "name": "stderr",
     "output_type": "stream",
     "text": [
      "Saving 6.67 x 6.67 in image\n",
      "\n"
     ]
    },
    {
     "name": "stdout",
     "output_type": "stream",
     "text": [
      "[1] 0_36\n",
      "91 Levels: 0_0 0_1 0_10 0_11 0_12 0_13 0_14 0_15 0_16 0_17 0_18 0_19 ... None\n"
     ]
    },
    {
     "name": "stderr",
     "output_type": "stream",
     "text": [
      "Saving 6.67 x 6.67 in image\n",
      "\n"
     ]
    },
    {
     "name": "stdout",
     "output_type": "stream",
     "text": [
      "[1] 1_13\n",
      "91 Levels: 0_0 0_1 0_10 0_11 0_12 0_13 0_14 0_15 0_16 0_17 0_18 0_19 ... None\n"
     ]
    },
    {
     "name": "stderr",
     "output_type": "stream",
     "text": [
      "Saving 6.67 x 6.67 in image\n",
      "\n"
     ]
    },
    {
     "name": "stdout",
     "output_type": "stream",
     "text": [
      "[1] 0_41\n",
      "91 Levels: 0_0 0_1 0_10 0_11 0_12 0_13 0_14 0_15 0_16 0_17 0_18 0_19 ... None\n"
     ]
    },
    {
     "name": "stderr",
     "output_type": "stream",
     "text": [
      "Saving 6.67 x 6.67 in image\n",
      "\n"
     ]
    },
    {
     "name": "stdout",
     "output_type": "stream",
     "text": [
      "[1] 1_12\n",
      "91 Levels: 0_0 0_1 0_10 0_11 0_12 0_13 0_14 0_15 0_16 0_17 0_18 0_19 ... None\n"
     ]
    },
    {
     "name": "stderr",
     "output_type": "stream",
     "text": [
      "Saving 6.67 x 6.67 in image\n",
      "\n"
     ]
    },
    {
     "name": "stdout",
     "output_type": "stream",
     "text": [
      "[1] 1_37\n",
      "91 Levels: 0_0 0_1 0_10 0_11 0_12 0_13 0_14 0_15 0_16 0_17 0_18 0_19 ... None\n"
     ]
    },
    {
     "name": "stderr",
     "output_type": "stream",
     "text": [
      "Saving 6.67 x 6.67 in image\n",
      "\n"
     ]
    },
    {
     "name": "stdout",
     "output_type": "stream",
     "text": [
      "[1] 0_10\n",
      "91 Levels: 0_0 0_1 0_10 0_11 0_12 0_13 0_14 0_15 0_16 0_17 0_18 0_19 ... None\n"
     ]
    },
    {
     "name": "stderr",
     "output_type": "stream",
     "text": [
      "Saving 6.67 x 6.67 in image\n",
      "\n"
     ]
    },
    {
     "name": "stdout",
     "output_type": "stream",
     "text": [
      "[1] 0_2\n",
      "91 Levels: 0_0 0_1 0_10 0_11 0_12 0_13 0_14 0_15 0_16 0_17 0_18 0_19 ... None\n"
     ]
    },
    {
     "name": "stderr",
     "output_type": "stream",
     "text": [
      "Saving 6.67 x 6.67 in image\n",
      "\n"
     ]
    },
    {
     "name": "stdout",
     "output_type": "stream",
     "text": [
      "[1] 0_17\n",
      "91 Levels: 0_0 0_1 0_10 0_11 0_12 0_13 0_14 0_15 0_16 0_17 0_18 0_19 ... None\n"
     ]
    },
    {
     "name": "stderr",
     "output_type": "stream",
     "text": [
      "Saving 6.67 x 6.67 in image\n",
      "\n"
     ]
    },
    {
     "name": "stdout",
     "output_type": "stream",
     "text": [
      "[1] 0_33\n",
      "91 Levels: 0_0 0_1 0_10 0_11 0_12 0_13 0_14 0_15 0_16 0_17 0_18 0_19 ... None\n"
     ]
    },
    {
     "name": "stderr",
     "output_type": "stream",
     "text": [
      "Saving 6.67 x 6.67 in image\n",
      "\n"
     ]
    },
    {
     "name": "stdout",
     "output_type": "stream",
     "text": [
      "[1] 1_24\n",
      "91 Levels: 0_0 0_1 0_10 0_11 0_12 0_13 0_14 0_15 0_16 0_17 0_18 0_19 ... None\n"
     ]
    },
    {
     "name": "stderr",
     "output_type": "stream",
     "text": [
      "Saving 6.67 x 6.67 in image\n",
      "\n"
     ]
    },
    {
     "name": "stdout",
     "output_type": "stream",
     "text": [
      "[1] 0_1\n",
      "91 Levels: 0_0 0_1 0_10 0_11 0_12 0_13 0_14 0_15 0_16 0_17 0_18 0_19 ... None\n"
     ]
    },
    {
     "name": "stderr",
     "output_type": "stream",
     "text": [
      "Saving 6.67 x 6.67 in image\n",
      "\n"
     ]
    },
    {
     "name": "stdout",
     "output_type": "stream",
     "text": [
      "[1] 1_11\n",
      "91 Levels: 0_0 0_1 0_10 0_11 0_12 0_13 0_14 0_15 0_16 0_17 0_18 0_19 ... None\n"
     ]
    },
    {
     "name": "stderr",
     "output_type": "stream",
     "text": [
      "Saving 6.67 x 6.67 in image\n",
      "\n"
     ]
    },
    {
     "name": "stdout",
     "output_type": "stream",
     "text": [
      "[1] 0_5\n",
      "91 Levels: 0_0 0_1 0_10 0_11 0_12 0_13 0_14 0_15 0_16 0_17 0_18 0_19 ... None\n"
     ]
    },
    {
     "name": "stderr",
     "output_type": "stream",
     "text": [
      "Saving 6.67 x 6.67 in image\n",
      "\n"
     ]
    },
    {
     "name": "stdout",
     "output_type": "stream",
     "text": [
      "[1] 0_28\n",
      "91 Levels: 0_0 0_1 0_10 0_11 0_12 0_13 0_14 0_15 0_16 0_17 0_18 0_19 ... None\n"
     ]
    },
    {
     "name": "stderr",
     "output_type": "stream",
     "text": [
      "Saving 6.67 x 6.67 in image\n",
      "\n"
     ]
    },
    {
     "name": "stdout",
     "output_type": "stream",
     "text": [
      "[1] 0_3\n",
      "91 Levels: 0_0 0_1 0_10 0_11 0_12 0_13 0_14 0_15 0_16 0_17 0_18 0_19 ... None\n"
     ]
    },
    {
     "name": "stderr",
     "output_type": "stream",
     "text": [
      "Saving 6.67 x 6.67 in image\n",
      "\n"
     ]
    },
    {
     "name": "stdout",
     "output_type": "stream",
     "text": [
      "[1] 0_39\n",
      "91 Levels: 0_0 0_1 0_10 0_11 0_12 0_13 0_14 0_15 0_16 0_17 0_18 0_19 ... None\n"
     ]
    },
    {
     "name": "stderr",
     "output_type": "stream",
     "text": [
      "Saving 6.67 x 6.67 in image\n",
      "\n"
     ]
    },
    {
     "name": "stdout",
     "output_type": "stream",
     "text": [
      "[1] 0_22\n",
      "91 Levels: 0_0 0_1 0_10 0_11 0_12 0_13 0_14 0_15 0_16 0_17 0_18 0_19 ... None\n"
     ]
    },
    {
     "name": "stderr",
     "output_type": "stream",
     "text": [
      "Saving 6.67 x 6.67 in image\n",
      "\n"
     ]
    },
    {
     "name": "stdout",
     "output_type": "stream",
     "text": [
      "[1] 0_31\n",
      "91 Levels: 0_0 0_1 0_10 0_11 0_12 0_13 0_14 0_15 0_16 0_17 0_18 0_19 ... None\n"
     ]
    },
    {
     "name": "stderr",
     "output_type": "stream",
     "text": [
      "Saving 6.67 x 6.67 in image\n",
      "\n"
     ]
    },
    {
     "name": "stdout",
     "output_type": "stream",
     "text": [
      "[1] 1_36\n",
      "91 Levels: 0_0 0_1 0_10 0_11 0_12 0_13 0_14 0_15 0_16 0_17 0_18 0_19 ... None\n"
     ]
    },
    {
     "name": "stderr",
     "output_type": "stream",
     "text": [
      "Saving 6.67 x 6.67 in image\n",
      "\n"
     ]
    },
    {
     "name": "stdout",
     "output_type": "stream",
     "text": [
      "[1] 0_7\n",
      "91 Levels: 0_0 0_1 0_10 0_11 0_12 0_13 0_14 0_15 0_16 0_17 0_18 0_19 ... None\n"
     ]
    },
    {
     "name": "stderr",
     "output_type": "stream",
     "text": [
      "Saving 6.67 x 6.67 in image\n",
      "\n"
     ]
    },
    {
     "name": "stdout",
     "output_type": "stream",
     "text": [
      "[1] 0_12\n",
      "91 Levels: 0_0 0_1 0_10 0_11 0_12 0_13 0_14 0_15 0_16 0_17 0_18 0_19 ... None\n"
     ]
    },
    {
     "name": "stderr",
     "output_type": "stream",
     "text": [
      "Saving 6.67 x 6.67 in image\n",
      "\n"
     ]
    },
    {
     "name": "stdout",
     "output_type": "stream",
     "text": [
      "[1] 0_32\n",
      "91 Levels: 0_0 0_1 0_10 0_11 0_12 0_13 0_14 0_15 0_16 0_17 0_18 0_19 ... None\n"
     ]
    },
    {
     "name": "stderr",
     "output_type": "stream",
     "text": [
      "Saving 6.67 x 6.67 in image\n",
      "\n"
     ]
    },
    {
     "name": "stdout",
     "output_type": "stream",
     "text": [
      "[1] 0_11\n",
      "91 Levels: 0_0 0_1 0_10 0_11 0_12 0_13 0_14 0_15 0_16 0_17 0_18 0_19 ... None\n"
     ]
    },
    {
     "name": "stderr",
     "output_type": "stream",
     "text": [
      "Saving 6.67 x 6.67 in image\n",
      "\n"
     ]
    },
    {
     "name": "stdout",
     "output_type": "stream",
     "text": [
      "[1] 1_8\n",
      "91 Levels: 0_0 0_1 0_10 0_11 0_12 0_13 0_14 0_15 0_16 0_17 0_18 0_19 ... None\n"
     ]
    },
    {
     "name": "stderr",
     "output_type": "stream",
     "text": [
      "Saving 6.67 x 6.67 in image\n",
      "\n"
     ]
    },
    {
     "name": "stdout",
     "output_type": "stream",
     "text": [
      "[1] 1_15\n",
      "91 Levels: 0_0 0_1 0_10 0_11 0_12 0_13 0_14 0_15 0_16 0_17 0_18 0_19 ... None\n"
     ]
    },
    {
     "name": "stderr",
     "output_type": "stream",
     "text": [
      "Saving 6.67 x 6.67 in image\n",
      "\n"
     ]
    },
    {
     "name": "stdout",
     "output_type": "stream",
     "text": [
      "[1] 1_7\n",
      "91 Levels: 0_0 0_1 0_10 0_11 0_12 0_13 0_14 0_15 0_16 0_17 0_18 0_19 ... None\n"
     ]
    },
    {
     "name": "stderr",
     "output_type": "stream",
     "text": [
      "Saving 6.67 x 6.67 in image\n",
      "\n"
     ]
    },
    {
     "name": "stdout",
     "output_type": "stream",
     "text": [
      "[1] 1_21\n",
      "91 Levels: 0_0 0_1 0_10 0_11 0_12 0_13 0_14 0_15 0_16 0_17 0_18 0_19 ... None\n"
     ]
    },
    {
     "name": "stderr",
     "output_type": "stream",
     "text": [
      "Saving 6.67 x 6.67 in image\n",
      "\n"
     ]
    },
    {
     "name": "stdout",
     "output_type": "stream",
     "text": [
      "[1] 0_16\n",
      "91 Levels: 0_0 0_1 0_10 0_11 0_12 0_13 0_14 0_15 0_16 0_17 0_18 0_19 ... None\n"
     ]
    },
    {
     "name": "stderr",
     "output_type": "stream",
     "text": [
      "Saving 6.67 x 6.67 in image\n",
      "\n"
     ]
    },
    {
     "name": "stdout",
     "output_type": "stream",
     "text": [
      "[1] 0_34\n",
      "91 Levels: 0_0 0_1 0_10 0_11 0_12 0_13 0_14 0_15 0_16 0_17 0_18 0_19 ... None\n"
     ]
    },
    {
     "name": "stderr",
     "output_type": "stream",
     "text": [
      "Saving 6.67 x 6.67 in image\n",
      "\n"
     ]
    },
    {
     "name": "stdout",
     "output_type": "stream",
     "text": [
      "[1] 0_26\n",
      "91 Levels: 0_0 0_1 0_10 0_11 0_12 0_13 0_14 0_15 0_16 0_17 0_18 0_19 ... None\n"
     ]
    },
    {
     "name": "stderr",
     "output_type": "stream",
     "text": [
      "Saving 6.67 x 6.67 in image\n",
      "\n"
     ]
    },
    {
     "name": "stdout",
     "output_type": "stream",
     "text": [
      "[1] 0_20\n",
      "91 Levels: 0_0 0_1 0_10 0_11 0_12 0_13 0_14 0_15 0_16 0_17 0_18 0_19 ... None\n"
     ]
    },
    {
     "name": "stderr",
     "output_type": "stream",
     "text": [
      "Saving 6.67 x 6.67 in image\n",
      "\n"
     ]
    },
    {
     "name": "stdout",
     "output_type": "stream",
     "text": [
      "[1] 0_40\n",
      "91 Levels: 0_0 0_1 0_10 0_11 0_12 0_13 0_14 0_15 0_16 0_17 0_18 0_19 ... None\n"
     ]
    },
    {
     "name": "stderr",
     "output_type": "stream",
     "text": [
      "Saving 6.67 x 6.67 in image\n",
      "\n"
     ]
    },
    {
     "name": "stdout",
     "output_type": "stream",
     "text": [
      "[1] 0_38\n",
      "91 Levels: 0_0 0_1 0_10 0_11 0_12 0_13 0_14 0_15 0_16 0_17 0_18 0_19 ... None\n"
     ]
    },
    {
     "name": "stderr",
     "output_type": "stream",
     "text": [
      "Saving 6.67 x 6.67 in image\n",
      "\n"
     ]
    },
    {
     "name": "stdout",
     "output_type": "stream",
     "text": [
      "[1] 1_10\n",
      "91 Levels: 0_0 0_1 0_10 0_11 0_12 0_13 0_14 0_15 0_16 0_17 0_18 0_19 ... None\n"
     ]
    },
    {
     "name": "stderr",
     "output_type": "stream",
     "text": [
      "Saving 6.67 x 6.67 in image\n",
      "\n"
     ]
    },
    {
     "name": "stdout",
     "output_type": "stream",
     "text": [
      "[1] 1_14\n",
      "91 Levels: 0_0 0_1 0_10 0_11 0_12 0_13 0_14 0_15 0_16 0_17 0_18 0_19 ... None\n"
     ]
    },
    {
     "name": "stderr",
     "output_type": "stream",
     "text": [
      "Saving 6.67 x 6.67 in image\n",
      "\n"
     ]
    },
    {
     "name": "stdout",
     "output_type": "stream",
     "text": [
      "[1] 0_43\n",
      "91 Levels: 0_0 0_1 0_10 0_11 0_12 0_13 0_14 0_15 0_16 0_17 0_18 0_19 ... None\n"
     ]
    },
    {
     "name": "stderr",
     "output_type": "stream",
     "text": [
      "Saving 6.67 x 6.67 in image\n",
      "\n"
     ]
    },
    {
     "name": "stdout",
     "output_type": "stream",
     "text": [
      "[1] 1_33\n",
      "91 Levels: 0_0 0_1 0_10 0_11 0_12 0_13 0_14 0_15 0_16 0_17 0_18 0_19 ... None\n"
     ]
    },
    {
     "name": "stderr",
     "output_type": "stream",
     "text": [
      "Saving 6.67 x 6.67 in image\n",
      "\n"
     ]
    },
    {
     "name": "stdout",
     "output_type": "stream",
     "text": [
      "[1] 0_42\n",
      "91 Levels: 0_0 0_1 0_10 0_11 0_12 0_13 0_14 0_15 0_16 0_17 0_18 0_19 ... None\n"
     ]
    },
    {
     "name": "stderr",
     "output_type": "stream",
     "text": [
      "Saving 6.67 x 6.67 in image\n",
      "\n"
     ]
    },
    {
     "name": "stdout",
     "output_type": "stream",
     "text": [
      "[1] 0_45\n",
      "91 Levels: 0_0 0_1 0_10 0_11 0_12 0_13 0_14 0_15 0_16 0_17 0_18 0_19 ... None\n"
     ]
    },
    {
     "name": "stderr",
     "output_type": "stream",
     "text": [
      "Saving 6.67 x 6.67 in image\n",
      "\n"
     ]
    },
    {
     "name": "stdout",
     "output_type": "stream",
     "text": [
      "[1] 0_27\n",
      "91 Levels: 0_0 0_1 0_10 0_11 0_12 0_13 0_14 0_15 0_16 0_17 0_18 0_19 ... None\n"
     ]
    },
    {
     "name": "stderr",
     "output_type": "stream",
     "text": [
      "Saving 6.67 x 6.67 in image\n",
      "\n"
     ]
    },
    {
     "name": "stdout",
     "output_type": "stream",
     "text": [
      "[1] 0_44\n",
      "91 Levels: 0_0 0_1 0_10 0_11 0_12 0_13 0_14 0_15 0_16 0_17 0_18 0_19 ... None\n"
     ]
    },
    {
     "name": "stderr",
     "output_type": "stream",
     "text": [
      "Saving 6.67 x 6.67 in image\n",
      "\n"
     ]
    },
    {
     "name": "stdout",
     "output_type": "stream",
     "text": [
      "[1] 0_46\n",
      "91 Levels: 0_0 0_1 0_10 0_11 0_12 0_13 0_14 0_15 0_16 0_17 0_18 0_19 ... None\n"
     ]
    },
    {
     "name": "stderr",
     "output_type": "stream",
     "text": [
      "Saving 6.67 x 6.67 in image\n",
      "\n"
     ]
    },
    {
     "name": "stdout",
     "output_type": "stream",
     "text": [
      "[1] 1_31\n",
      "91 Levels: 0_0 0_1 0_10 0_11 0_12 0_13 0_14 0_15 0_16 0_17 0_18 0_19 ... None\n"
     ]
    },
    {
     "name": "stderr",
     "output_type": "stream",
     "text": [
      "Saving 6.67 x 6.67 in image\n",
      "\n"
     ]
    },
    {
     "name": "stdout",
     "output_type": "stream",
     "text": [
      "[1] 0_50\n",
      "91 Levels: 0_0 0_1 0_10 0_11 0_12 0_13 0_14 0_15 0_16 0_17 0_18 0_19 ... None\n"
     ]
    },
    {
     "name": "stderr",
     "output_type": "stream",
     "text": [
      "Saving 6.67 x 6.67 in image\n",
      "\n"
     ]
    },
    {
     "name": "stdout",
     "output_type": "stream",
     "text": [
      "[1] 1_35\n",
      "91 Levels: 0_0 0_1 0_10 0_11 0_12 0_13 0_14 0_15 0_16 0_17 0_18 0_19 ... None\n"
     ]
    },
    {
     "name": "stderr",
     "output_type": "stream",
     "text": [
      "Saving 6.67 x 6.67 in image\n",
      "\n"
     ]
    },
    {
     "name": "stdout",
     "output_type": "stream",
     "text": [
      "[1] 1_34\n",
      "91 Levels: 0_0 0_1 0_10 0_11 0_12 0_13 0_14 0_15 0_16 0_17 0_18 0_19 ... None\n"
     ]
    },
    {
     "name": "stderr",
     "output_type": "stream",
     "text": [
      "Saving 6.67 x 6.67 in image\n",
      "\n"
     ]
    },
    {
     "name": "stdout",
     "output_type": "stream",
     "text": [
      "[1] 0_48\n",
      "91 Levels: 0_0 0_1 0_10 0_11 0_12 0_13 0_14 0_15 0_16 0_17 0_18 0_19 ... None\n"
     ]
    },
    {
     "name": "stderr",
     "output_type": "stream",
     "text": [
      "Saving 6.67 x 6.67 in image\n",
      "\n"
     ]
    },
    {
     "name": "stdout",
     "output_type": "stream",
     "text": [
      "[1] 0_47\n",
      "91 Levels: 0_0 0_1 0_10 0_11 0_12 0_13 0_14 0_15 0_16 0_17 0_18 0_19 ... None\n"
     ]
    },
    {
     "name": "stderr",
     "output_type": "stream",
     "text": [
      "Saving 6.67 x 6.67 in image\n",
      "\n"
     ]
    },
    {
     "name": "stdout",
     "output_type": "stream",
     "text": [
      "[1] 1_32\n",
      "91 Levels: 0_0 0_1 0_10 0_11 0_12 0_13 0_14 0_15 0_16 0_17 0_18 0_19 ... None\n"
     ]
    },
    {
     "name": "stderr",
     "output_type": "stream",
     "text": [
      "Saving 6.67 x 6.67 in image\n",
      "\n"
     ]
    },
    {
     "name": "stdout",
     "output_type": "stream",
     "text": [
      "[1] 0_49\n",
      "91 Levels: 0_0 0_1 0_10 0_11 0_12 0_13 0_14 0_15 0_16 0_17 0_18 0_19 ... None\n"
     ]
    },
    {
     "name": "stderr",
     "output_type": "stream",
     "text": [
      "Saving 6.67 x 6.67 in image\n",
      "\n"
     ]
    }
   ],
   "source": [
    "dimplots.conditon.f <- function(cl, se){\n",
    "    print(cl)\n",
    "    d <- (DimPlot(object = subset(x = se, subset = name == cl), label = FALSE, \n",
    "                   group.by=c(\"seurat_clusters\"), split.by=c(\"condition\")))\n",
    "    ggsave(file.path(clone.umap.condition.lineage, paste0(\"clone_\", cl, \".condition.donors.umap.png\")))\n",
    "}\n",
    "\n",
    "clone.umap.condition.lineage <- file.path(clone.umap.condition, \"lineage_condition\")\n",
    "dir.create(clone.umap.condition.lineage)\n",
    "\n",
    "dimplots <- sapply(names, FUN=dimplots.conditon.f, se=se)\n",
    "\n"
   ]
  },
  {
   "cell_type": "code",
   "execution_count": null,
   "id": "c6cbdcc7",
   "metadata": {},
   "outputs": [],
   "source": []
  },
  {
   "cell_type": "markdown",
   "id": "869ed392",
   "metadata": {},
   "source": [
    "## If Input, use that"
   ]
  }
 ],
 "metadata": {
  "celltoolbar": "Tags",
  "kernelspec": {
   "display_name": "R",
   "language": "R",
   "name": "ir"
  },
  "language_info": {
   "codemirror_mode": "r",
   "file_extension": ".r",
   "mimetype": "text/x-r-source",
   "name": "R",
   "pygments_lexer": "r",
   "version": "4.1.1"
  }
 },
 "nbformat": 4,
 "nbformat_minor": 5
}
