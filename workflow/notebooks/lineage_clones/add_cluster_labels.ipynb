{
 "cells": [
  {
   "cell_type": "markdown",
   "id": "223d6f46",
   "metadata": {},
   "source": [
    "## Runs DE on different clusters. Also runs DE within each cluster for each condition.\n",
    "Does this over each donor and combined"
   ]
  },
  {
   "cell_type": "code",
   "execution_count": 1,
   "id": "235ae72f",
   "metadata": {
    "tags": [
     "parameters"
    ]
   },
   "outputs": [],
   "source": [
    "se_f = \"/data/Mito_Trace/output/pipeline/v02/CHIP_b1/MTBlacklist_A2/data/merged/MT/cellr_True/numread_200/filters/minC10_minR50_topN0_hetT0.001_hetC10_hetCount5_bq20/mgatk/vireoIn/clones/variants_init/knn/kparam_3/gff_A2_black/annotation_clones/SE.rds\"\n",
    "cluster_labels_f = \"/mnt/md0/isshamie/Projects/Mito_Trace/output/pipeline/v02/CHIP_b1/MTBlacklist_A2/results/atac_clusters.txt\"\n"
   ]
  },
  {
   "cell_type": "code",
   "execution_count": 2,
   "id": "7cc056e3",
   "metadata": {
    "scrolled": false
   },
   "outputs": [
    {
     "name": "stderr",
     "output_type": "stream",
     "text": [
      "Loading required package: SeuratObject\n",
      "\n",
      "Loading required package: Signac\n",
      "\n"
     ]
    },
    {
     "data": {
      "text/plain": [
       "An object of class Seurat \n",
       "221404 features across 18672 samples within 2 assays \n",
       "Active assay: RNA (19039 features, 0 variable features)\n",
       " 1 other assay present: ATAC\n",
       " 2 dimensional reductions calculated: integrated_lsi, umap"
      ]
     },
     "metadata": {},
     "output_type": "display_data"
    }
   ],
   "source": [
    "se <- readRDS(se_f)#file.path(indir, paste0(\"allSamples.integrated.rds\")))\n",
    "se"
   ]
  },
  {
   "cell_type": "code",
   "execution_count": 3,
   "id": "f509c42b",
   "metadata": {},
   "outputs": [],
   "source": [
    "meta <- se[[]]"
   ]
  },
  {
   "cell_type": "code",
   "execution_count": 4,
   "id": "4b064929",
   "metadata": {},
   "outputs": [
    {
     "name": "stdout",
     "output_type": "stream",
     "text": [
      "[1] \"Adding label information\"\n"
     ]
    }
   ],
   "source": [
    "if ((cluster_labels_f != \"\") & (cluster_labels_f != \"FALSE\")){\n",
    "    print(\"Adding label information\")\n",
    "    clusters <- read.csv(cluster_labels_f, header = FALSE)\n",
    "    row.names(clusters) = clusters$V1\n",
    "    meta$cluster_labels <- sapply(meta$seurat_clusters, function(x) (clusters[as.character(x), \"V2\"]) )\n",
    "}else{\n",
    "    meta$cluster_labels <- meta$seurat_clusters\n",
    "}\n",
    "write.table(meta,file=file.path(dirname(se_f), \"se_cells_meta_labels.tsv\"), sep = \"\\t\", quote=FALSE)"
   ]
  },
  {
   "cell_type": "code",
   "execution_count": 5,
   "id": "c0daa6c8",
   "metadata": {
    "scrolled": true
   },
   "outputs": [
    {
     "data": {
      "text/plain": [
       "R version 4.1.1 (2021-08-10)\n",
       "Platform: x86_64-conda-linux-gnu (64-bit)\n",
       "Running under: Ubuntu 20.04.4 LTS\n",
       "\n",
       "Matrix products: default\n",
       "BLAS/LAPACK: /home/isaac/miniconda3/envs/mttrace/lib/libopenblasp-r0.3.18.so\n",
       "\n",
       "locale:\n",
       " [1] LC_CTYPE=en_US.UTF-8       LC_NUMERIC=C              \n",
       " [3] LC_TIME=en_US.UTF-8        LC_COLLATE=en_US.UTF-8    \n",
       " [5] LC_MONETARY=en_US.UTF-8    LC_MESSAGES=en_US.UTF-8   \n",
       " [7] LC_PAPER=en_US.UTF-8       LC_NAME=C                 \n",
       " [9] LC_ADDRESS=C               LC_TELEPHONE=C            \n",
       "[11] LC_MEASUREMENT=en_US.UTF-8 LC_IDENTIFICATION=C       \n",
       "\n",
       "attached base packages:\n",
       "[1] stats     graphics  grDevices utils     datasets  methods   base     \n",
       "\n",
       "other attached packages:\n",
       "[1] Signac_1.4.0       SeuratObject_4.0.4\n",
       "\n",
       "loaded via a namespace (and not attached):\n",
       "  [1] Seurat_4.1.0           Rtsne_0.15             colorspace_2.0-2      \n",
       "  [4] deldir_1.0-6           ellipsis_0.3.2         ggridges_0.5.3        \n",
       "  [7] lsa_0.73.2             IRdisplay_1.0          XVector_0.34.0        \n",
       " [10] GenomicRanges_1.46.0   base64enc_0.1-3        spatstat.data_2.1-2   \n",
       " [13] farver_2.1.0           leiden_0.3.9           listenv_0.8.0         \n",
       " [16] SnowballC_0.7.0        ggrepel_0.9.1          fansi_1.0.2           \n",
       " [19] codetools_0.2-18       splines_4.1.1          docopt_0.7.1          \n",
       " [22] polyclip_1.10-0        RcppRoll_0.3.0         IRkernel_1.2          \n",
       " [25] jsonlite_1.7.3         Rsamtools_2.10.0       ica_1.0-2             \n",
       " [28] cluster_2.1.2          png_0.1-7              uwot_0.1.11           \n",
       " [31] ggforce_0.3.3          spatstat.sparse_2.1-0  shiny_1.7.1           \n",
       " [34] sctransform_0.3.3      compiler_4.1.1         httr_1.4.2            \n",
       " [37] assertthat_0.2.1       Matrix_1.3-4           fastmap_1.1.0         \n",
       " [40] lazyeval_0.2.2         cli_3.2.0              tweenr_1.0.2          \n",
       " [43] later_1.3.0            htmltools_0.5.2        tools_4.1.1           \n",
       " [46] igraph_1.2.11          gtable_0.3.0           glue_1.6.1            \n",
       " [49] GenomeInfoDbData_1.2.7 RANN_2.6.1             reshape2_1.4.4        \n",
       " [52] dplyr_1.0.8            fastmatch_1.1-3        Rcpp_1.0.8            \n",
       " [55] slam_0.1-49            scattermore_0.8        vctrs_0.3.8           \n",
       " [58] Biostrings_2.62.0      nlme_3.1-153           ggseqlogo_0.1         \n",
       " [61] lmtest_0.9-39          spatstat.random_2.1-0  stringr_1.4.0         \n",
       " [64] globals_0.14.0         mime_0.12              miniUI_0.1.1.1        \n",
       " [67] lifecycle_1.0.1        irlba_2.3.5            goftest_1.2-3         \n",
       " [70] future_1.23.0          zlibbioc_1.40.0        MASS_7.3-54           \n",
       " [73] zoo_1.8-9              scales_1.1.1           spatstat.core_2.4-0   \n",
       " [76] spatstat.utils_2.3-0   promises_1.2.0.1       parallel_4.1.1        \n",
       " [79] RColorBrewer_1.1-2     reticulate_1.24        pbapply_1.5-0         \n",
       " [82] gridExtra_2.3          ggplot2_3.3.5          rpart_4.1-15          \n",
       " [85] stringi_1.7.6          S4Vectors_0.32.0       BiocGenerics_0.40.0   \n",
       " [88] BiocParallel_1.28.0    repr_1.1.3             GenomeInfoDb_1.30.0   \n",
       " [91] rlang_1.0.1            pkgconfig_2.0.3        bitops_1.0-7          \n",
       " [94] matrixStats_0.61.0     qlcMatrix_0.9.7        evaluate_0.14         \n",
       " [97] lattice_0.20-45        tensor_1.5             ROCR_1.0-11           \n",
       "[100] purrr_0.3.4            patchwork_1.1.1        htmlwidgets_1.5.4     \n",
       "[103] cowplot_1.1.1          tidyselect_1.1.1       parallelly_1.30.0     \n",
       "[106] RcppAnnoy_0.0.19       plyr_1.8.6             magrittr_2.0.2        \n",
       "[109] R6_2.5.1               IRanges_2.28.0         generics_0.1.2        \n",
       "[112] pbdZMQ_0.3-6           DBI_1.1.1              mgcv_1.8-38           \n",
       "[115] pillar_1.7.0           fitdistrplus_1.1-6     abind_1.4-5           \n",
       "[118] survival_3.2-13        RCurl_1.98-1.5         tibble_3.1.6          \n",
       "[121] future.apply_1.8.1     crayon_1.5.0           uuid_1.0-3            \n",
       "[124] KernSmooth_2.23-20     utf8_1.2.2             spatstat.geom_2.3-2   \n",
       "[127] plotly_4.10.0          grid_4.1.1             data.table_1.14.2     \n",
       "[130] sparsesvd_0.2          digest_0.6.29          xtable_1.8-4          \n",
       "[133] tidyr_1.2.0            httpuv_1.6.5           stats4_4.1.1          \n",
       "[136] munsell_0.5.0          viridisLite_0.4.0     "
      ]
     },
     "metadata": {},
     "output_type": "display_data"
    }
   ],
   "source": [
    "sessionInfo()"
   ]
  },
  {
   "cell_type": "code",
   "execution_count": null,
   "id": "2c0d478b",
   "metadata": {},
   "outputs": [],
   "source": []
  }
 ],
 "metadata": {
  "celltoolbar": "Tags",
  "kernelspec": {
   "display_name": "R",
   "language": "R",
   "name": "ir"
  },
  "language_info": {
   "codemirror_mode": "r",
   "file_extension": ".r",
   "mimetype": "text/x-r-source",
   "name": "R",
   "pygments_lexer": "r",
   "version": "4.1.1"
  }
 },
 "nbformat": 4,
 "nbformat_minor": 5
}
