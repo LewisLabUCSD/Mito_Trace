{
 "cells": [
  {
   "cell_type": "code",
   "execution_count": 1,
   "id": "4246cc89",
   "metadata": {
    "tags": [
     "parameters"
    ]
   },
   "outputs": [],
   "source": [
    "#se_f = \"/data/Mito_Trace/output/pipeline/CHIP_b1/MTBlacklist_A2/data/merged/MT/cellr_True/numread_200/filters/minC10_minR50_topN0_hetT0.001_hetC10_hetCount5_bq20/mgatk/vireoIn/clones/variants_init/knn/kparam_3/concat/gff_A2_black/annotation_clones/SE.rds\"\n",
    "#outdir = \"/data/Mito_Trace/output/pipeline/CHIP_b1/MTBlacklist_A2/data/merged/MT/cellr_True/numread_200/filters/minC10_minR50_topN0_hetT0.001_hetC10_hetCount5_bq20/mgatk/vireoIn/clones/variants_init/knn/kparam_3/concat/gff_A2_black/annotation_clones/umap_clones_overlay\"\n",
    "enrichment_f = \"\"#\"/data/Mito_Trace/output/pipeline/CHIP_b1/MTBlacklist_A2/data/merged/MT/cellr_True/numread_200/filters/minC10_minR50_topN0_hetT0.001_hetC10_hetCount5_bq20/mgatk/vireoIn/clones/variants_init/knn/kparam_3/concat/gff_A2_black/clones_change/filt_fisher__shuffle_False__padj_True__pthresh_0.01_minC_1__bothMinC__0/preproc/clone_change.csv\"\n",
    "\n",
    "se_f = \"/data/Mito_Trace/output/pipeline/v02/CHIP_b1/InputOnly/MTBlacklist_A2/data/merged/MT/cellr_True/numread_200/filters/minC10_minR50_topN0_hetT0.001_hetC10_hetCount5_bq20/mgatk/vireoIn/clones/variants_init/knn/kparam_30/gff_A2_black/annotation_clones/SE.rds\"\n",
    "outdir = \"/data/Mito_Trace/output/pipeline/v02/CHIP_b1/InputOnly/MTBlacklist_A2/data/merged/MT/cellr_True/numread_200/filters/minC10_minR50_topN0_hetT0.001_hetC10_hetCount5_bq20/mgatk/vireoIn/clones/variants_init/knn/kparam_30/gff_A2_black/annotation_clones/umap_clones_overlay\""
   ]
  },
  {
   "cell_type": "markdown",
   "id": "084a97f6",
   "metadata": {},
   "source": [
    "## Plot by donor and condition"
   ]
  },
  {
   "cell_type": "code",
   "execution_count": 2,
   "id": "5d9ca2e3",
   "metadata": {
    "scrolled": true
   },
   "outputs": [
    {
     "name": "stderr",
     "output_type": "stream",
     "text": [
      "Attaching SeuratObject\n",
      "\n",
      "\n",
      "Attaching package: ‘patchwork’\n",
      "\n",
      "\n",
      "The following object is masked from ‘package:cowplot’:\n",
      "\n",
      "    align_plots\n",
      "\n",
      "\n",
      "\n",
      "Attaching package: ‘dplyr’\n",
      "\n",
      "\n",
      "The following objects are masked from ‘package:stats’:\n",
      "\n",
      "    filter, lag\n",
      "\n",
      "\n",
      "The following objects are masked from ‘package:base’:\n",
      "\n",
      "    intersect, setdiff, setequal, union\n",
      "\n",
      "\n"
     ]
    }
   ],
   "source": [
    "library(\"Seurat\")\n",
    "#library(\"Seurat\")\n",
    "library(magrittr)\n",
    "library(cowplot)\n",
    "library(ggplot2)\n",
    "library(Signac)\n",
    "library(patchwork)\n",
    "set.seed(1234)\n",
    "library(magrittr)\n",
    "library(cowplot)\n",
    "library(metap)\n",
    "library(dplyr)\n",
    "library(future)"
   ]
  },
  {
   "cell_type": "code",
   "execution_count": 3,
   "id": "01d0da94",
   "metadata": {
    "scrolled": true
   },
   "outputs": [
    {
     "data": {
      "text/html": [
       "8.93889644174733"
      ],
      "text/latex": [
       "8.93889644174733"
      ],
      "text/markdown": [
       "8.93889644174733"
      ],
      "text/plain": [
       "[1] 8.938896"
      ]
     },
     "metadata": {},
     "output_type": "display_data"
    },
    {
     "data": {
      "text/html": [
       "<table class=\"dataframe\">\n",
       "<caption>A data.frame: 6381 × 39</caption>\n",
       "<thead>\n",
       "\t<tr><th></th><th scope=col>orig.ident</th><th scope=col>nCount_ATAC</th><th scope=col>nFeature_ATAC</th><th scope=col>total</th><th scope=col>duplicate</th><th scope=col>chimeric</th><th scope=col>unmapped</th><th scope=col>lowmapq</th><th scope=col>mitochondrial</th><th scope=col>passed_filters</th><th scope=col>⋯</th><th scope=col>ATAC_snn_res.0.8</th><th scope=col>seurat_clusters</th><th scope=col>nCount_RNA</th><th scope=col>nFeature_RNA</th><th scope=col>ID</th><th scope=col>Row.names</th><th scope=col>lineage</th><th scope=col>donor</th><th scope=col>condition</th><th scope=col>name</th></tr>\n",
       "\t<tr><th></th><th scope=col>&lt;fct&gt;</th><th scope=col>&lt;dbl&gt;</th><th scope=col>&lt;int&gt;</th><th scope=col>&lt;dbl&gt;</th><th scope=col>&lt;dbl&gt;</th><th scope=col>&lt;dbl&gt;</th><th scope=col>&lt;dbl&gt;</th><th scope=col>&lt;dbl&gt;</th><th scope=col>&lt;dbl&gt;</th><th scope=col>&lt;dbl&gt;</th><th scope=col>⋯</th><th scope=col>&lt;fct&gt;</th><th scope=col>&lt;fct&gt;</th><th scope=col>&lt;dbl&gt;</th><th scope=col>&lt;int&gt;</th><th scope=col>&lt;chr&gt;</th><th scope=col>&lt;I&lt;chr&gt;&gt;</th><th scope=col>&lt;fct&gt;</th><th scope=col>&lt;fct&gt;</th><th scope=col>&lt;fct&gt;</th><th scope=col>&lt;fct&gt;</th></tr>\n",
       "</thead>\n",
       "<tbody>\n",
       "\t<tr><th scope=row>Input_AAACGAAAGATATGAC-1</th><td>Input</td><td> 2841</td><td> 2841</td><td>29954</td><td> 4853</td><td> 67</td><td>103</td><td> 626</td><td>19521</td><td> 4784</td><td>⋯</td><td>1 </td><td>1 </td><td> 3172</td><td>2505</td><td>AAACGAAAGATATGAC-1_Input</td><td>Input_AAACGAAAGATATGAC-1</td><td>27  </td><td>0   </td><td>Input</td><td>0_27 </td></tr>\n",
       "\t<tr><th scope=row>Input_AAACGAAAGTAATGTG-1</th><td>Input</td><td> 6473</td><td> 6473</td><td>32111</td><td> 9018</td><td> 96</td><td>122</td><td>1319</td><td>11232</td><td>10324</td><td>⋯</td><td>1 </td><td>1 </td><td> 7161</td><td>4861</td><td>AAACGAAAGTAATGTG-1_Input</td><td>Input_AAACGAAAGTAATGTG-1</td><td>11  </td><td>0   </td><td>Input</td><td>0_11 </td></tr>\n",
       "\t<tr><th scope=row>Input_AAACGAAAGTAGTCGG-1</th><td>Input</td><td> 7391</td><td> 7391</td><td>37923</td><td>12542</td><td>147</td><td>162</td><td>1705</td><td>10189</td><td>13178</td><td>⋯</td><td>0 </td><td>0 </td><td> 8960</td><td>5447</td><td>AAACGAAAGTAGTCGG-1_Input</td><td>Input_AAACGAAAGTAGTCGG-1</td><td>81  </td><td>0   </td><td>Input</td><td>0_81 </td></tr>\n",
       "\t<tr><th scope=row>Input_AAACGAACACATTGCA-1</th><td>Input</td><td> 6795</td><td> 6795</td><td>46206</td><td>12553</td><td>148</td><td>184</td><td>1239</td><td>16880</td><td>15202</td><td>⋯</td><td>8 </td><td>8 </td><td>10041</td><td>5539</td><td>AAACGAACACATTGCA-1_Input</td><td>Input_AAACGAACACATTGCA-1</td><td>28  </td><td>0   </td><td>Input</td><td>0_28 </td></tr>\n",
       "\t<tr><th scope=row>Input_AAACGAACACGCTCAG-1</th><td>Input</td><td> 5816</td><td> 5816</td><td>38973</td><td> 7584</td><td>162</td><td>150</td><td> 973</td><td>19691</td><td>10413</td><td>⋯</td><td>6 </td><td>6 </td><td> 7103</td><td>4786</td><td>AAACGAACACGCTCAG-1_Input</td><td>Input_AAACGAACACGCTCAG-1</td><td>0   </td><td>1   </td><td>Input</td><td>1_0  </td></tr>\n",
       "\t<tr><th scope=row>Input_AAACGAAGTACCAAGG-1</th><td>Input</td><td> 3146</td><td> 3146</td><td>16484</td><td> 3515</td><td> 46</td><td> 59</td><td> 336</td><td> 7811</td><td> 4717</td><td>⋯</td><td>3 </td><td>3 </td><td> 3299</td><td>2592</td><td>AAACGAAGTACCAAGG-1_Input</td><td>Input_AAACGAAGTACCAAGG-1</td><td>34  </td><td>1   </td><td>Input</td><td>1_34 </td></tr>\n",
       "\t<tr><th scope=row>Input_AAACGAAGTGGTTCTA-1</th><td>Input</td><td> 3603</td><td> 3603</td><td>27753</td><td> 5848</td><td> 76</td><td>100</td><td> 764</td><td>13707</td><td> 7258</td><td>⋯</td><td>4 </td><td>4 </td><td> 4714</td><td>3448</td><td>AAACGAAGTGGTTCTA-1_Input</td><td>Input_AAACGAAGTGGTTCTA-1</td><td>7   </td><td>0   </td><td>Input</td><td>0_7  </td></tr>\n",
       "\t<tr><th scope=row>Input_AAACGAAGTGTTGTTG-1</th><td>Input</td><td> 4501</td><td> 4501</td><td>25940</td><td> 6903</td><td> 97</td><td>112</td><td> 866</td><td>10773</td><td> 7189</td><td>⋯</td><td>0 </td><td>0 </td><td> 4694</td><td>3465</td><td>AAACGAAGTGTTGTTG-1_Input</td><td>Input_AAACGAAGTGTTGTTG-1</td><td>2   </td><td>0   </td><td>Input</td><td>0_2  </td></tr>\n",
       "\t<tr><th scope=row>Input_AAACGAAGTTCTCGAA-1</th><td>Input</td><td> 9230</td><td> 9230</td><td>42150</td><td>15885</td><td>171</td><td>160</td><td>1772</td><td> 7158</td><td>17004</td><td>⋯</td><td>5 </td><td>5 </td><td>11329</td><td>6953</td><td>AAACGAAGTTCTCGAA-1_Input</td><td>Input_AAACGAAGTTCTCGAA-1</td><td>159 </td><td>1   </td><td>Input</td><td>1_159</td></tr>\n",
       "\t<tr><th scope=row>Input_AAACGAAGTTTGACCA-1</th><td>Input</td><td> 3819</td><td> 3819</td><td>19868</td><td> 5589</td><td> 86</td><td> 90</td><td> 685</td><td> 7124</td><td> 6294</td><td>⋯</td><td>5 </td><td>5 </td><td> 4083</td><td>3187</td><td>AAACGAAGTTTGACCA-1_Input</td><td>Input_AAACGAAGTTTGACCA-1</td><td>38  </td><td>1   </td><td>Input</td><td>1_38 </td></tr>\n",
       "\t<tr><th scope=row>Input_AAACTCGAGTCCGTGC-1</th><td>Input</td><td> 7027</td><td> 7027</td><td>33222</td><td>12252</td><td>129</td><td>112</td><td>1275</td><td> 5856</td><td>13598</td><td>⋯</td><td>7 </td><td>7 </td><td> 9036</td><td>5501</td><td>NA                      </td><td>Input_AAACTCGAGTCCGTGC-1</td><td>None</td><td>None</td><td>None </td><td>None </td></tr>\n",
       "\t<tr><th scope=row>Input_AAACTCGCAACAACTC-1</th><td>Input</td><td> 5157</td><td> 5157</td><td>25833</td><td> 8992</td><td> 99</td><td> 87</td><td> 940</td><td> 7402</td><td> 8313</td><td>⋯</td><td>11</td><td>11</td><td> 5576</td><td>3937</td><td>AAACTCGCAACAACTC-1_Input</td><td>Input_AAACTCGCAACAACTC-1</td><td>24  </td><td>1   </td><td>Input</td><td>1_24 </td></tr>\n",
       "\t<tr><th scope=row>Input_AAACTCGCAAGGACCA-1</th><td>Input</td><td> 5630</td><td> 5630</td><td>25041</td><td> 6729</td><td>156</td><td> 80</td><td> 829</td><td> 8380</td><td> 8867</td><td>⋯</td><td>3 </td><td>3 </td><td> 6093</td><td>4163</td><td>AAACTCGCAAGGACCA-1_Input</td><td>Input_AAACTCGCAAGGACCA-1</td><td>8   </td><td>1   </td><td>Input</td><td>1_8  </td></tr>\n",
       "\t<tr><th scope=row>Input_AAACTCGCAAGTCTGT-1</th><td>Input</td><td> 3855</td><td> 3855</td><td>24009</td><td> 5303</td><td> 89</td><td> 68</td><td> 603</td><td>11654</td><td> 6292</td><td>⋯</td><td>1 </td><td>1 </td><td> 4201</td><td>3269</td><td>AAACTCGCAAGTCTGT-1_Input</td><td>Input_AAACTCGCAAGTCTGT-1</td><td>5   </td><td>0   </td><td>Input</td><td>0_5  </td></tr>\n",
       "\t<tr><th scope=row>Input_AAACTCGCAGTGCTCG-1</th><td>Input</td><td> 8189</td><td> 8189</td><td>41258</td><td>16481</td><td>161</td><td>162</td><td>2010</td><td> 7082</td><td>15362</td><td>⋯</td><td>9 </td><td>9 </td><td>10260</td><td>6297</td><td>AAACTCGCAGTGCTCG-1_Input</td><td>Input_AAACTCGCAGTGCTCG-1</td><td>49  </td><td>0   </td><td>Input</td><td>0_49 </td></tr>\n",
       "\t<tr><th scope=row>Input_AAACTCGCATCCCAAA-1</th><td>Input</td><td> 3460</td><td> 3460</td><td>21508</td><td> 4348</td><td> 73</td><td> 60</td><td> 597</td><td>10350</td><td> 6080</td><td>⋯</td><td>4 </td><td>4 </td><td> 4126</td><td>3107</td><td>AAACTCGCATCCCAAA-1_Input</td><td>Input_AAACTCGCATCCCAAA-1</td><td>74  </td><td>1   </td><td>Input</td><td>1_74 </td></tr>\n",
       "\t<tr><th scope=row>Input_AAACTCGCATTTCACT-1</th><td>Input</td><td> 2865</td><td> 2865</td><td>15017</td><td> 4300</td><td> 36</td><td> 58</td><td> 543</td><td> 5064</td><td> 5016</td><td>⋯</td><td>11</td><td>11</td><td> 3321</td><td>2621</td><td>AAACTCGCATTTCACT-1_Input</td><td>Input_AAACTCGCATTTCACT-1</td><td>25  </td><td>0   </td><td>Input</td><td>0_25 </td></tr>\n",
       "\t<tr><th scope=row>Input_AAACTCGGTAAGTCTC-1</th><td>Input</td><td> 6616</td><td> 6616</td><td>35647</td><td>10514</td><td>132</td><td>125</td><td>1122</td><td>12996</td><td>10758</td><td>⋯</td><td>0 </td><td>0 </td><td> 7105</td><td>4842</td><td>AAACTCGGTAAGTCTC-1_Input</td><td>Input_AAACTCGGTAAGTCTC-1</td><td>81  </td><td>0   </td><td>Input</td><td>0_81 </td></tr>\n",
       "\t<tr><th scope=row>Input_AAACTCGGTACGGATG-1</th><td>Input</td><td>10550</td><td>10550</td><td>45734</td><td>17190</td><td>203</td><td>239</td><td>2792</td><td> 5894</td><td>19416</td><td>⋯</td><td>2 </td><td>2 </td><td>13828</td><td>7746</td><td>AAACTCGGTACGGATG-1_Input</td><td>Input_AAACTCGGTACGGATG-1</td><td>163 </td><td>1   </td><td>Input</td><td>1_163</td></tr>\n",
       "\t<tr><th scope=row>Input_AAACTCGGTATTCGAC-1</th><td>Input</td><td> 4152</td><td> 4152</td><td>24643</td><td> 5239</td><td> 91</td><td> 97</td><td> 610</td><td>10850</td><td> 7756</td><td>⋯</td><td>2 </td><td>2 </td><td> 4660</td><td>3279</td><td>AAACTCGGTATTCGAC-1_Input</td><td>Input_AAACTCGGTATTCGAC-1</td><td>181 </td><td>1   </td><td>Input</td><td>1_181</td></tr>\n",
       "\t<tr><th scope=row>Input_AAACTCGGTCAAACAA-1</th><td>Input</td><td>10137</td><td>10137</td><td>89961</td><td>25138</td><td>203</td><td>315</td><td>2742</td><td>32638</td><td>28925</td><td>⋯</td><td>4 </td><td>4 </td><td>16941</td><td>7973</td><td>AAACTCGGTCAAACAA-1_Input</td><td>Input_AAACTCGGTCAAACAA-1</td><td>0   </td><td>1   </td><td>Input</td><td>1_0  </td></tr>\n",
       "\t<tr><th scope=row>Input_AAACTCGGTGAGGGTT-1</th><td>Input</td><td> 7805</td><td> 7805</td><td>42215</td><td>17618</td><td>145</td><td>149</td><td>1524</td><td> 9183</td><td>13596</td><td>⋯</td><td>0 </td><td>0 </td><td> 8822</td><td>5662</td><td>AAACTCGGTGAGGGTT-1_Input</td><td>Input_AAACTCGGTGAGGGTT-1</td><td>1   </td><td>1   </td><td>Input</td><td>1_1  </td></tr>\n",
       "\t<tr><th scope=row>Input_AAACTCGTCCAATCCC-1</th><td>Input</td><td> 4087</td><td> 4087</td><td>25228</td><td> 7256</td><td> 67</td><td> 94</td><td> 791</td><td>10209</td><td> 6811</td><td>⋯</td><td>1 </td><td>1 </td><td> 4214</td><td>3163</td><td>AAACTCGTCCAATCCC-1_Input</td><td>Input_AAACTCGTCCAATCCC-1</td><td>9   </td><td>1   </td><td>Input</td><td>1_9  </td></tr>\n",
       "\t<tr><th scope=row>Input_AAACTCGTCGAGGTAG-1</th><td>Input</td><td> 8080</td><td> 8080</td><td>46439</td><td>17313</td><td>142</td><td>164</td><td>1807</td><td>13148</td><td>13865</td><td>⋯</td><td>5 </td><td>5 </td><td> 9069</td><td>5852</td><td>AAACTCGTCGAGGTAG-1_Input</td><td>Input_AAACTCGTCGAGGTAG-1</td><td>181 </td><td>1   </td><td>Input</td><td>1_181</td></tr>\n",
       "\t<tr><th scope=row>Input_AAACTGCAGACTTCCA-1</th><td>Input</td><td> 3668</td><td> 3668</td><td>21123</td><td> 8504</td><td> 47</td><td> 79</td><td> 950</td><td> 3823</td><td> 7720</td><td>⋯</td><td>8 </td><td>8 </td><td> 4907</td><td>3419</td><td>AAACTGCAGACTTCCA-1_Input</td><td>Input_AAACTGCAGACTTCCA-1</td><td>0   </td><td>1   </td><td>Input</td><td>1_0  </td></tr>\n",
       "\t<tr><th scope=row>Input_AAACTGCAGCTAGCAG-1</th><td>Input</td><td> 4395</td><td> 4395</td><td>21564</td><td> 5953</td><td> 69</td><td> 68</td><td> 713</td><td> 8125</td><td> 6636</td><td>⋯</td><td>3 </td><td>3 </td><td> 4851</td><td>3558</td><td>AAACTGCAGCTAGCAG-1_Input</td><td>Input_AAACTGCAGCTAGCAG-1</td><td>5   </td><td>1   </td><td>Input</td><td>1_5  </td></tr>\n",
       "\t<tr><th scope=row>Input_AAACTGCAGTTACACC-1</th><td>Input</td><td> 2976</td><td> 2976</td><td>21167</td><td> 5698</td><td> 59</td><td> 68</td><td> 569</td><td> 9235</td><td> 5538</td><td>⋯</td><td>4 </td><td>4 </td><td> 3473</td><td>2770</td><td>AAACTGCAGTTACACC-1_Input</td><td>Input_AAACTGCAGTTACACC-1</td><td>150 </td><td>1   </td><td>Input</td><td>1_150</td></tr>\n",
       "\t<tr><th scope=row>Input_AAACTGCCAAGGAACC-1</th><td>Input</td><td> 6525</td><td> 6525</td><td>36328</td><td>12169</td><td>155</td><td>144</td><td>1735</td><td>10392</td><td>11733</td><td>⋯</td><td>1 </td><td>1 </td><td> 7118</td><td>4863</td><td>AAACTGCCAAGGAACC-1_Input</td><td>Input_AAACTGCCAAGGAACC-1</td><td>4   </td><td>0   </td><td>Input</td><td>0_4  </td></tr>\n",
       "\t<tr><th scope=row>Input_AAACTGCCACAGATGG-1</th><td>Input</td><td> 9346</td><td> 9346</td><td>44080</td><td>13308</td><td>157</td><td>158</td><td>1575</td><td>11182</td><td>17700</td><td>⋯</td><td>8 </td><td>8 </td><td>12131</td><td>6918</td><td>AAACTGCCACAGATGG-1_Input</td><td>Input_AAACTGCCACAGATGG-1</td><td>4   </td><td>1   </td><td>Input</td><td>1_4  </td></tr>\n",
       "\t<tr><th scope=row>Input_AAACTGCCATCCGTGG-1</th><td>Input</td><td> 2972</td><td> 2972</td><td>14829</td><td> 3836</td><td> 68</td><td> 67</td><td> 529</td><td> 4182</td><td> 6147</td><td>⋯</td><td>6 </td><td>6 </td><td> 3744</td><td>2749</td><td>AAACTGCCATCCGTGG-1_Input</td><td>Input_AAACTGCCATCCGTGG-1</td><td>104 </td><td>1   </td><td>Input</td><td>1_104</td></tr>\n",
       "\t<tr><th scope=row>⋮</th><td>⋮</td><td>⋮</td><td>⋮</td><td>⋮</td><td>⋮</td><td>⋮</td><td>⋮</td><td>⋮</td><td>⋮</td><td>⋮</td><td>⋱</td><td>⋮</td><td>⋮</td><td>⋮</td><td>⋮</td><td>⋮</td><td>⋮</td><td>⋮</td><td>⋮</td><td>⋮</td><td>⋮</td></tr>\n",
       "\t<tr><th scope=row>Input_TTTGGTTCATATAGAG-1</th><td>Input</td><td> 5403</td><td> 5403</td><td>30210</td><td> 7894</td><td>106</td><td>111</td><td>1110</td><td>11817</td><td> 9172</td><td>⋯</td><td>6 </td><td>6 </td><td> 5788</td><td>4107</td><td>TTTGGTTCATATAGAG-1_Input</td><td>Input_TTTGGTTCATATAGAG-1</td><td>6  </td><td>0</td><td>Input</td><td>0_6  </td></tr>\n",
       "\t<tr><th scope=row>Input_TTTGGTTCATGGCCCA-1</th><td>Input</td><td> 4145</td><td> 4145</td><td>26674</td><td> 7664</td><td> 86</td><td>105</td><td>1105</td><td>10024</td><td> 7690</td><td>⋯</td><td>1 </td><td>1 </td><td> 4643</td><td>3516</td><td>TTTGGTTCATGGCCCA-1_Input</td><td>Input_TTTGGTTCATGGCCCA-1</td><td>152</td><td>1</td><td>Input</td><td>1_152</td></tr>\n",
       "\t<tr><th scope=row>Input_TTTGGTTGTTCTCGAA-1</th><td>Input</td><td> 3556</td><td> 3556</td><td>23621</td><td> 5512</td><td> 84</td><td> 92</td><td> 603</td><td>11441</td><td> 5889</td><td>⋯</td><td>1 </td><td>1 </td><td> 3586</td><td>2862</td><td>TTTGGTTGTTCTCGAA-1_Input</td><td>Input_TTTGGTTGTTCTCGAA-1</td><td>1  </td><td>1</td><td>Input</td><td>1_1  </td></tr>\n",
       "\t<tr><th scope=row>Input_TTTGGTTTCACTCGGG-1</th><td>Input</td><td> 5864</td><td> 5864</td><td>38833</td><td>11548</td><td>149</td><td>160</td><td>1847</td><td>13842</td><td>11287</td><td>⋯</td><td>1 </td><td>1 </td><td> 7286</td><td>5098</td><td>TTTGGTTTCACTCGGG-1_Input</td><td>Input_TTTGGTTTCACTCGGG-1</td><td>204</td><td>1</td><td>Input</td><td>1_204</td></tr>\n",
       "\t<tr><th scope=row>Input_TTTGGTTTCATCATGG-1</th><td>Input</td><td> 8040</td><td> 8040</td><td>38225</td><td>14020</td><td>150</td><td>199</td><td>1565</td><td> 8097</td><td>14194</td><td>⋯</td><td>0 </td><td>0 </td><td> 9417</td><td>5915</td><td>TTTGGTTTCATCATGG-1_Input</td><td>Input_TTTGGTTTCATCATGG-1</td><td>11 </td><td>1</td><td>Input</td><td>1_11 </td></tr>\n",
       "\t<tr><th scope=row>Input_TTTGGTTTCCAGAATC-1</th><td>Input</td><td> 6585</td><td> 6585</td><td>36418</td><td>10369</td><td>134</td><td>140</td><td>1395</td><td>12229</td><td>12151</td><td>⋯</td><td>1 </td><td>1 </td><td> 7315</td><td>5031</td><td>TTTGGTTTCCAGAATC-1_Input</td><td>Input_TTTGGTTTCCAGAATC-1</td><td>4  </td><td>0</td><td>Input</td><td>0_4  </td></tr>\n",
       "\t<tr><th scope=row>Input_TTTGGTTTCCAGCACG-1</th><td>Input</td><td> 5651</td><td> 5651</td><td>38276</td><td>10726</td><td>113</td><td>155</td><td>1333</td><td>12920</td><td>13029</td><td>⋯</td><td>4 </td><td>4 </td><td> 8066</td><td>5160</td><td>TTTGGTTTCCAGCACG-1_Input</td><td>Input_TTTGGTTTCCAGCACG-1</td><td>1  </td><td>1</td><td>Input</td><td>1_1  </td></tr>\n",
       "\t<tr><th scope=row>Input_TTTGGTTTCGGGAAAC-1</th><td>Input</td><td> 8970</td><td> 8970</td><td>44036</td><td>15752</td><td>188</td><td>162</td><td>1575</td><td> 9606</td><td>16753</td><td>⋯</td><td>2 </td><td>2 </td><td>10849</td><td>6289</td><td>TTTGGTTTCGGGAAAC-1_Input</td><td>Input_TTTGGTTTCGGGAAAC-1</td><td>165</td><td>1</td><td>Input</td><td>1_165</td></tr>\n",
       "\t<tr><th scope=row>Input_TTTGGTTTCTGAGTCA-1</th><td>Input</td><td>11264</td><td>11264</td><td>46672</td><td>17946</td><td>189</td><td>182</td><td>1899</td><td> 6351</td><td>20105</td><td>⋯</td><td>2 </td><td>2 </td><td>13275</td><td>7406</td><td>TTTGGTTTCTGAGTCA-1_Input</td><td>Input_TTTGGTTTCTGAGTCA-1</td><td>12 </td><td>1</td><td>Input</td><td>1_12 </td></tr>\n",
       "\t<tr><th scope=row>Input_TTTGGTTTCTGATCCC-1</th><td>Input</td><td> 4318</td><td> 4318</td><td>23116</td><td> 4623</td><td>135</td><td> 91</td><td> 603</td><td>10983</td><td> 6681</td><td>⋯</td><td>3 </td><td>3 </td><td> 4516</td><td>3301</td><td>TTTGGTTTCTGATCCC-1_Input</td><td>Input_TTTGGTTTCTGATCCC-1</td><td>5  </td><td>1</td><td>Input</td><td>1_5  </td></tr>\n",
       "\t<tr><th scope=row>Input_TTTGTGTAGAACCCGA-1</th><td>Input</td><td>10332</td><td>10332</td><td>54322</td><td>18751</td><td>185</td><td>269</td><td>1723</td><td>13043</td><td>20351</td><td>⋯</td><td>2 </td><td>2 </td><td>13613</td><td>6822</td><td>TTTGTGTAGAACCCGA-1_Input</td><td>Input_TTTGTGTAGAACCCGA-1</td><td>12 </td><td>0</td><td>Input</td><td>0_12 </td></tr>\n",
       "\t<tr><th scope=row>Input_TTTGTGTAGGTTGTTC-1</th><td>Input</td><td> 3370</td><td> 3370</td><td>28547</td><td> 5288</td><td> 99</td><td> 92</td><td> 593</td><td>16793</td><td> 5682</td><td>⋯</td><td>6 </td><td>6 </td><td> 3661</td><td>2933</td><td>TTTGTGTAGGTTGTTC-1_Input</td><td>Input_TTTGTGTAGGTTGTTC-1</td><td>80 </td><td>0</td><td>Input</td><td>0_80 </td></tr>\n",
       "\t<tr><th scope=row>Input_TTTGTGTAGGTTTCTG-1</th><td>Input</td><td> 2399</td><td> 2399</td><td>15157</td><td> 2804</td><td> 35</td><td> 40</td><td> 431</td><td> 7959</td><td> 3888</td><td>⋯</td><td>0 </td><td>0 </td><td> 2382</td><td>1951</td><td>TTTGTGTAGGTTTCTG-1_Input</td><td>Input_TTTGTGTAGGTTTCTG-1</td><td>3  </td><td>0</td><td>Input</td><td>0_3  </td></tr>\n",
       "\t<tr><th scope=row>Input_TTTGTGTAGTAGACCG-1</th><td>Input</td><td> 1591</td><td> 1591</td><td>17478</td><td> 2545</td><td> 36</td><td> 67</td><td> 838</td><td>10895</td><td> 3097</td><td>⋯</td><td>9 </td><td>9 </td><td> 2156</td><td>1633</td><td>TTTGTGTAGTAGACCG-1_Input</td><td>Input_TTTGTGTAGTAGACCG-1</td><td>7  </td><td>0</td><td>Input</td><td>0_7  </td></tr>\n",
       "\t<tr><th scope=row>Input_TTTGTGTAGTTCGTTG-1</th><td>Input</td><td> 7159</td><td> 7159</td><td>47326</td><td>17420</td><td>175</td><td>171</td><td>2124</td><td>11394</td><td>16042</td><td>⋯</td><td>5 </td><td>5 </td><td>10200</td><td>5905</td><td>TTTGTGTAGTTCGTTG-1_Input</td><td>Input_TTTGTGTAGTTCGTTG-1</td><td>3  </td><td>1</td><td>Input</td><td>1_3  </td></tr>\n",
       "\t<tr><th scope=row>Input_TTTGTGTCAACTCGTA-1</th><td>Input</td><td> 5301</td><td> 5301</td><td>35312</td><td>10401</td><td> 97</td><td>156</td><td> 985</td><td>14763</td><td> 8910</td><td>⋯</td><td>1 </td><td>1 </td><td> 5818</td><td>4082</td><td>TTTGTGTCAACTCGTA-1_Input</td><td>Input_TTTGTGTCAACTCGTA-1</td><td>2  </td><td>0</td><td>Input</td><td>0_2  </td></tr>\n",
       "\t<tr><th scope=row>Input_TTTGTGTCAAGCCAGA-1</th><td>Input</td><td> 2632</td><td> 2632</td><td>19591</td><td> 3883</td><td> 37</td><td> 67</td><td> 496</td><td>10265</td><td> 4843</td><td>⋯</td><td>1 </td><td>1 </td><td> 2945</td><td>2326</td><td>TTTGTGTCAAGCCAGA-1_Input</td><td>Input_TTTGTGTCAAGCCAGA-1</td><td>4  </td><td>0</td><td>Input</td><td>0_4  </td></tr>\n",
       "\t<tr><th scope=row>Input_TTTGTGTCAATGACTC-1</th><td>Input</td><td> 4411</td><td> 4411</td><td>22045</td><td> 5463</td><td> 96</td><td> 62</td><td> 512</td><td> 9370</td><td> 6542</td><td>⋯</td><td>1 </td><td>1 </td><td> 4643</td><td>3485</td><td>TTTGTGTCAATGACTC-1_Input</td><td>Input_TTTGTGTCAATGACTC-1</td><td>1  </td><td>0</td><td>Input</td><td>0_1  </td></tr>\n",
       "\t<tr><th scope=row>Input_TTTGTGTCACACATTG-1</th><td>Input</td><td> 2465</td><td> 2465</td><td>20370</td><td> 2166</td><td> 49</td><td> 76</td><td> 272</td><td>14386</td><td> 3421</td><td>⋯</td><td>3 </td><td>3 </td><td> 2344</td><td>1953</td><td>TTTGTGTCACACATTG-1_Input</td><td>Input_TTTGTGTCACACATTG-1</td><td>29 </td><td>1</td><td>Input</td><td>1_29 </td></tr>\n",
       "\t<tr><th scope=row>Input_TTTGTGTCAGAAAGAG-1</th><td>Input</td><td> 8651</td><td> 8651</td><td>54991</td><td>15520</td><td>187</td><td>199</td><td>1754</td><td>18606</td><td>18725</td><td>⋯</td><td>10</td><td>10</td><td>11729</td><td>6171</td><td>TTTGTGTCAGAAAGAG-1_Input</td><td>Input_TTTGTGTCAGAAAGAG-1</td><td>2  </td><td>0</td><td>Input</td><td>0_2  </td></tr>\n",
       "\t<tr><th scope=row>Input_TTTGTGTCATAGCCAT-1</th><td>Input</td><td> 8819</td><td> 8819</td><td>38670</td><td>12717</td><td>201</td><td>145</td><td>2007</td><td> 7501</td><td>16099</td><td>⋯</td><td>2 </td><td>2 </td><td> 9908</td><td>6094</td><td>TTTGTGTCATAGCCAT-1_Input</td><td>Input_TTTGTGTCATAGCCAT-1</td><td>15 </td><td>0</td><td>Input</td><td>0_15 </td></tr>\n",
       "\t<tr><th scope=row>Input_TTTGTGTGTAAGCCGA-1</th><td>Input</td><td> 3540</td><td> 3540</td><td>15168</td><td> 3241</td><td> 69</td><td> 60</td><td> 437</td><td> 5996</td><td> 5365</td><td>⋯</td><td>3 </td><td>3 </td><td> 3719</td><td>2918</td><td>TTTGTGTGTAAGCCGA-1_Input</td><td>Input_TTTGTGTGTAAGCCGA-1</td><td>14 </td><td>1</td><td>Input</td><td>1_14 </td></tr>\n",
       "\t<tr><th scope=row>Input_TTTGTGTGTAGATTAG-1</th><td>Input</td><td> 2965</td><td> 2965</td><td>17832</td><td> 7612</td><td> 54</td><td> 78</td><td> 632</td><td> 3609</td><td> 5847</td><td>⋯</td><td>8 </td><td>8 </td><td> 3770</td><td>2811</td><td>TTTGTGTGTAGATTAG-1_Input</td><td>Input_TTTGTGTGTAGATTAG-1</td><td>20 </td><td>1</td><td>Input</td><td>1_20 </td></tr>\n",
       "\t<tr><th scope=row>Input_TTTGTGTGTAGGGTCA-1</th><td>Input</td><td> 4462</td><td> 4462</td><td>20297</td><td> 5059</td><td> 77</td><td> 78</td><td> 535</td><td> 7531</td><td> 7017</td><td>⋯</td><td>2 </td><td>2 </td><td> 4695</td><td>3424</td><td>TTTGTGTGTAGGGTCA-1_Input</td><td>Input_TTTGTGTGTAGGGTCA-1</td><td>54 </td><td>1</td><td>Input</td><td>1_54 </td></tr>\n",
       "\t<tr><th scope=row>Input_TTTGTGTGTCATAGAA-1</th><td>Input</td><td> 7393</td><td> 7393</td><td>32663</td><td>10594</td><td>153</td><td>131</td><td>1320</td><td> 8708</td><td>11757</td><td>⋯</td><td>0 </td><td>0 </td><td> 7879</td><td>5181</td><td>TTTGTGTGTCATAGAA-1_Input</td><td>Input_TTTGTGTGTCATAGAA-1</td><td>81 </td><td>0</td><td>Input</td><td>0_81 </td></tr>\n",
       "\t<tr><th scope=row>Input_TTTGTGTGTTTCTTAC-1</th><td>Input</td><td> 3563</td><td> 3563</td><td>17067</td><td> 3257</td><td> 63</td><td> 80</td><td> 461</td><td> 8097</td><td> 5109</td><td>⋯</td><td>3 </td><td>3 </td><td> 3738</td><td>2899</td><td>TTTGTGTGTTTCTTAC-1_Input</td><td>Input_TTTGTGTGTTTCTTAC-1</td><td>159</td><td>1</td><td>Input</td><td>1_159</td></tr>\n",
       "\t<tr><th scope=row>Input_TTTGTGTTCCTGAAAC-1</th><td>Input</td><td> 4187</td><td> 4187</td><td>30427</td><td> 8323</td><td> 84</td><td> 99</td><td> 799</td><td>12146</td><td> 8976</td><td>⋯</td><td>4 </td><td>4 </td><td> 5839</td><td>4144</td><td>TTTGTGTTCCTGAAAC-1_Input</td><td>Input_TTTGTGTTCCTGAAAC-1</td><td>191</td><td>1</td><td>Input</td><td>1_191</td></tr>\n",
       "\t<tr><th scope=row>Input_TTTGTGTTCGGGAAAC-1</th><td>Input</td><td> 7841</td><td> 7841</td><td>40114</td><td>14032</td><td>169</td><td>160</td><td>1561</td><td>10102</td><td>14090</td><td>⋯</td><td>0 </td><td>0 </td><td> 9421</td><td>5890</td><td>TTTGTGTTCGGGAAAC-1_Input</td><td>Input_TTTGTGTTCGGGAAAC-1</td><td>63 </td><td>1</td><td>Input</td><td>1_63 </td></tr>\n",
       "\t<tr><th scope=row>Input_TTTGTGTTCGGGACAA-1</th><td>Input</td><td> 3212</td><td> 3212</td><td>22721</td><td> 4421</td><td> 43</td><td> 84</td><td> 546</td><td>11692</td><td> 5935</td><td>⋯</td><td>4 </td><td>4 </td><td> 4303</td><td>3323</td><td>TTTGTGTTCGGGACAA-1_Input</td><td>Input_TTTGTGTTCGGGACAA-1</td><td>55 </td><td>0</td><td>Input</td><td>0_55 </td></tr>\n",
       "\t<tr><th scope=row>Input_TTTGTGTTCTGGCACG-1</th><td>Input</td><td>11279</td><td>11279</td><td>57423</td><td>22063</td><td>263</td><td>235</td><td>2056</td><td>11433</td><td>21373</td><td>⋯</td><td>2 </td><td>2 </td><td>13841</td><td>7279</td><td>TTTGTGTTCTGGCACG-1_Input</td><td>Input_TTTGTGTTCTGGCACG-1</td><td>2  </td><td>1</td><td>Input</td><td>1_2  </td></tr>\n",
       "</tbody>\n",
       "</table>\n"
      ],
      "text/latex": [
       "A data.frame: 6381 × 39\n",
       "\\begin{tabular}{r|lllllllllllllllllllll}\n",
       "  & orig.ident & nCount\\_ATAC & nFeature\\_ATAC & total & duplicate & chimeric & unmapped & lowmapq & mitochondrial & passed\\_filters & ⋯ & ATAC\\_snn\\_res.0.8 & seurat\\_clusters & nCount\\_RNA & nFeature\\_RNA & ID & Row.names & lineage & donor & condition & name\\\\\n",
       "  & <fct> & <dbl> & <int> & <dbl> & <dbl> & <dbl> & <dbl> & <dbl> & <dbl> & <dbl> & ⋯ & <fct> & <fct> & <dbl> & <int> & <chr> & <I<chr>> & <fct> & <fct> & <fct> & <fct>\\\\\n",
       "\\hline\n",
       "\tInput\\_AAACGAAAGATATGAC-1 & Input &  2841 &  2841 & 29954 &  4853 &  67 & 103 &  626 & 19521 &  4784 & ⋯ & 1  & 1  &  3172 & 2505 & AAACGAAAGATATGAC-1\\_Input & Input\\_AAACGAAAGATATGAC-1 & 27   & 0    & Input & 0\\_27 \\\\\n",
       "\tInput\\_AAACGAAAGTAATGTG-1 & Input &  6473 &  6473 & 32111 &  9018 &  96 & 122 & 1319 & 11232 & 10324 & ⋯ & 1  & 1  &  7161 & 4861 & AAACGAAAGTAATGTG-1\\_Input & Input\\_AAACGAAAGTAATGTG-1 & 11   & 0    & Input & 0\\_11 \\\\\n",
       "\tInput\\_AAACGAAAGTAGTCGG-1 & Input &  7391 &  7391 & 37923 & 12542 & 147 & 162 & 1705 & 10189 & 13178 & ⋯ & 0  & 0  &  8960 & 5447 & AAACGAAAGTAGTCGG-1\\_Input & Input\\_AAACGAAAGTAGTCGG-1 & 81   & 0    & Input & 0\\_81 \\\\\n",
       "\tInput\\_AAACGAACACATTGCA-1 & Input &  6795 &  6795 & 46206 & 12553 & 148 & 184 & 1239 & 16880 & 15202 & ⋯ & 8  & 8  & 10041 & 5539 & AAACGAACACATTGCA-1\\_Input & Input\\_AAACGAACACATTGCA-1 & 28   & 0    & Input & 0\\_28 \\\\\n",
       "\tInput\\_AAACGAACACGCTCAG-1 & Input &  5816 &  5816 & 38973 &  7584 & 162 & 150 &  973 & 19691 & 10413 & ⋯ & 6  & 6  &  7103 & 4786 & AAACGAACACGCTCAG-1\\_Input & Input\\_AAACGAACACGCTCAG-1 & 0    & 1    & Input & 1\\_0  \\\\\n",
       "\tInput\\_AAACGAAGTACCAAGG-1 & Input &  3146 &  3146 & 16484 &  3515 &  46 &  59 &  336 &  7811 &  4717 & ⋯ & 3  & 3  &  3299 & 2592 & AAACGAAGTACCAAGG-1\\_Input & Input\\_AAACGAAGTACCAAGG-1 & 34   & 1    & Input & 1\\_34 \\\\\n",
       "\tInput\\_AAACGAAGTGGTTCTA-1 & Input &  3603 &  3603 & 27753 &  5848 &  76 & 100 &  764 & 13707 &  7258 & ⋯ & 4  & 4  &  4714 & 3448 & AAACGAAGTGGTTCTA-1\\_Input & Input\\_AAACGAAGTGGTTCTA-1 & 7    & 0    & Input & 0\\_7  \\\\\n",
       "\tInput\\_AAACGAAGTGTTGTTG-1 & Input &  4501 &  4501 & 25940 &  6903 &  97 & 112 &  866 & 10773 &  7189 & ⋯ & 0  & 0  &  4694 & 3465 & AAACGAAGTGTTGTTG-1\\_Input & Input\\_AAACGAAGTGTTGTTG-1 & 2    & 0    & Input & 0\\_2  \\\\\n",
       "\tInput\\_AAACGAAGTTCTCGAA-1 & Input &  9230 &  9230 & 42150 & 15885 & 171 & 160 & 1772 &  7158 & 17004 & ⋯ & 5  & 5  & 11329 & 6953 & AAACGAAGTTCTCGAA-1\\_Input & Input\\_AAACGAAGTTCTCGAA-1 & 159  & 1    & Input & 1\\_159\\\\\n",
       "\tInput\\_AAACGAAGTTTGACCA-1 & Input &  3819 &  3819 & 19868 &  5589 &  86 &  90 &  685 &  7124 &  6294 & ⋯ & 5  & 5  &  4083 & 3187 & AAACGAAGTTTGACCA-1\\_Input & Input\\_AAACGAAGTTTGACCA-1 & 38   & 1    & Input & 1\\_38 \\\\\n",
       "\tInput\\_AAACTCGAGTCCGTGC-1 & Input &  7027 &  7027 & 33222 & 12252 & 129 & 112 & 1275 &  5856 & 13598 & ⋯ & 7  & 7  &  9036 & 5501 & NA                       & Input\\_AAACTCGAGTCCGTGC-1 & None & None & None  & None \\\\\n",
       "\tInput\\_AAACTCGCAACAACTC-1 & Input &  5157 &  5157 & 25833 &  8992 &  99 &  87 &  940 &  7402 &  8313 & ⋯ & 11 & 11 &  5576 & 3937 & AAACTCGCAACAACTC-1\\_Input & Input\\_AAACTCGCAACAACTC-1 & 24   & 1    & Input & 1\\_24 \\\\\n",
       "\tInput\\_AAACTCGCAAGGACCA-1 & Input &  5630 &  5630 & 25041 &  6729 & 156 &  80 &  829 &  8380 &  8867 & ⋯ & 3  & 3  &  6093 & 4163 & AAACTCGCAAGGACCA-1\\_Input & Input\\_AAACTCGCAAGGACCA-1 & 8    & 1    & Input & 1\\_8  \\\\\n",
       "\tInput\\_AAACTCGCAAGTCTGT-1 & Input &  3855 &  3855 & 24009 &  5303 &  89 &  68 &  603 & 11654 &  6292 & ⋯ & 1  & 1  &  4201 & 3269 & AAACTCGCAAGTCTGT-1\\_Input & Input\\_AAACTCGCAAGTCTGT-1 & 5    & 0    & Input & 0\\_5  \\\\\n",
       "\tInput\\_AAACTCGCAGTGCTCG-1 & Input &  8189 &  8189 & 41258 & 16481 & 161 & 162 & 2010 &  7082 & 15362 & ⋯ & 9  & 9  & 10260 & 6297 & AAACTCGCAGTGCTCG-1\\_Input & Input\\_AAACTCGCAGTGCTCG-1 & 49   & 0    & Input & 0\\_49 \\\\\n",
       "\tInput\\_AAACTCGCATCCCAAA-1 & Input &  3460 &  3460 & 21508 &  4348 &  73 &  60 &  597 & 10350 &  6080 & ⋯ & 4  & 4  &  4126 & 3107 & AAACTCGCATCCCAAA-1\\_Input & Input\\_AAACTCGCATCCCAAA-1 & 74   & 1    & Input & 1\\_74 \\\\\n",
       "\tInput\\_AAACTCGCATTTCACT-1 & Input &  2865 &  2865 & 15017 &  4300 &  36 &  58 &  543 &  5064 &  5016 & ⋯ & 11 & 11 &  3321 & 2621 & AAACTCGCATTTCACT-1\\_Input & Input\\_AAACTCGCATTTCACT-1 & 25   & 0    & Input & 0\\_25 \\\\\n",
       "\tInput\\_AAACTCGGTAAGTCTC-1 & Input &  6616 &  6616 & 35647 & 10514 & 132 & 125 & 1122 & 12996 & 10758 & ⋯ & 0  & 0  &  7105 & 4842 & AAACTCGGTAAGTCTC-1\\_Input & Input\\_AAACTCGGTAAGTCTC-1 & 81   & 0    & Input & 0\\_81 \\\\\n",
       "\tInput\\_AAACTCGGTACGGATG-1 & Input & 10550 & 10550 & 45734 & 17190 & 203 & 239 & 2792 &  5894 & 19416 & ⋯ & 2  & 2  & 13828 & 7746 & AAACTCGGTACGGATG-1\\_Input & Input\\_AAACTCGGTACGGATG-1 & 163  & 1    & Input & 1\\_163\\\\\n",
       "\tInput\\_AAACTCGGTATTCGAC-1 & Input &  4152 &  4152 & 24643 &  5239 &  91 &  97 &  610 & 10850 &  7756 & ⋯ & 2  & 2  &  4660 & 3279 & AAACTCGGTATTCGAC-1\\_Input & Input\\_AAACTCGGTATTCGAC-1 & 181  & 1    & Input & 1\\_181\\\\\n",
       "\tInput\\_AAACTCGGTCAAACAA-1 & Input & 10137 & 10137 & 89961 & 25138 & 203 & 315 & 2742 & 32638 & 28925 & ⋯ & 4  & 4  & 16941 & 7973 & AAACTCGGTCAAACAA-1\\_Input & Input\\_AAACTCGGTCAAACAA-1 & 0    & 1    & Input & 1\\_0  \\\\\n",
       "\tInput\\_AAACTCGGTGAGGGTT-1 & Input &  7805 &  7805 & 42215 & 17618 & 145 & 149 & 1524 &  9183 & 13596 & ⋯ & 0  & 0  &  8822 & 5662 & AAACTCGGTGAGGGTT-1\\_Input & Input\\_AAACTCGGTGAGGGTT-1 & 1    & 1    & Input & 1\\_1  \\\\\n",
       "\tInput\\_AAACTCGTCCAATCCC-1 & Input &  4087 &  4087 & 25228 &  7256 &  67 &  94 &  791 & 10209 &  6811 & ⋯ & 1  & 1  &  4214 & 3163 & AAACTCGTCCAATCCC-1\\_Input & Input\\_AAACTCGTCCAATCCC-1 & 9    & 1    & Input & 1\\_9  \\\\\n",
       "\tInput\\_AAACTCGTCGAGGTAG-1 & Input &  8080 &  8080 & 46439 & 17313 & 142 & 164 & 1807 & 13148 & 13865 & ⋯ & 5  & 5  &  9069 & 5852 & AAACTCGTCGAGGTAG-1\\_Input & Input\\_AAACTCGTCGAGGTAG-1 & 181  & 1    & Input & 1\\_181\\\\\n",
       "\tInput\\_AAACTGCAGACTTCCA-1 & Input &  3668 &  3668 & 21123 &  8504 &  47 &  79 &  950 &  3823 &  7720 & ⋯ & 8  & 8  &  4907 & 3419 & AAACTGCAGACTTCCA-1\\_Input & Input\\_AAACTGCAGACTTCCA-1 & 0    & 1    & Input & 1\\_0  \\\\\n",
       "\tInput\\_AAACTGCAGCTAGCAG-1 & Input &  4395 &  4395 & 21564 &  5953 &  69 &  68 &  713 &  8125 &  6636 & ⋯ & 3  & 3  &  4851 & 3558 & AAACTGCAGCTAGCAG-1\\_Input & Input\\_AAACTGCAGCTAGCAG-1 & 5    & 1    & Input & 1\\_5  \\\\\n",
       "\tInput\\_AAACTGCAGTTACACC-1 & Input &  2976 &  2976 & 21167 &  5698 &  59 &  68 &  569 &  9235 &  5538 & ⋯ & 4  & 4  &  3473 & 2770 & AAACTGCAGTTACACC-1\\_Input & Input\\_AAACTGCAGTTACACC-1 & 150  & 1    & Input & 1\\_150\\\\\n",
       "\tInput\\_AAACTGCCAAGGAACC-1 & Input &  6525 &  6525 & 36328 & 12169 & 155 & 144 & 1735 & 10392 & 11733 & ⋯ & 1  & 1  &  7118 & 4863 & AAACTGCCAAGGAACC-1\\_Input & Input\\_AAACTGCCAAGGAACC-1 & 4    & 0    & Input & 0\\_4  \\\\\n",
       "\tInput\\_AAACTGCCACAGATGG-1 & Input &  9346 &  9346 & 44080 & 13308 & 157 & 158 & 1575 & 11182 & 17700 & ⋯ & 8  & 8  & 12131 & 6918 & AAACTGCCACAGATGG-1\\_Input & Input\\_AAACTGCCACAGATGG-1 & 4    & 1    & Input & 1\\_4  \\\\\n",
       "\tInput\\_AAACTGCCATCCGTGG-1 & Input &  2972 &  2972 & 14829 &  3836 &  68 &  67 &  529 &  4182 &  6147 & ⋯ & 6  & 6  &  3744 & 2749 & AAACTGCCATCCGTGG-1\\_Input & Input\\_AAACTGCCATCCGTGG-1 & 104  & 1    & Input & 1\\_104\\\\\n",
       "\t⋮ & ⋮ & ⋮ & ⋮ & ⋮ & ⋮ & ⋮ & ⋮ & ⋮ & ⋮ & ⋮ & ⋱ & ⋮ & ⋮ & ⋮ & ⋮ & ⋮ & ⋮ & ⋮ & ⋮ & ⋮ & ⋮\\\\\n",
       "\tInput\\_TTTGGTTCATATAGAG-1 & Input &  5403 &  5403 & 30210 &  7894 & 106 & 111 & 1110 & 11817 &  9172 & ⋯ & 6  & 6  &  5788 & 4107 & TTTGGTTCATATAGAG-1\\_Input & Input\\_TTTGGTTCATATAGAG-1 & 6   & 0 & Input & 0\\_6  \\\\\n",
       "\tInput\\_TTTGGTTCATGGCCCA-1 & Input &  4145 &  4145 & 26674 &  7664 &  86 & 105 & 1105 & 10024 &  7690 & ⋯ & 1  & 1  &  4643 & 3516 & TTTGGTTCATGGCCCA-1\\_Input & Input\\_TTTGGTTCATGGCCCA-1 & 152 & 1 & Input & 1\\_152\\\\\n",
       "\tInput\\_TTTGGTTGTTCTCGAA-1 & Input &  3556 &  3556 & 23621 &  5512 &  84 &  92 &  603 & 11441 &  5889 & ⋯ & 1  & 1  &  3586 & 2862 & TTTGGTTGTTCTCGAA-1\\_Input & Input\\_TTTGGTTGTTCTCGAA-1 & 1   & 1 & Input & 1\\_1  \\\\\n",
       "\tInput\\_TTTGGTTTCACTCGGG-1 & Input &  5864 &  5864 & 38833 & 11548 & 149 & 160 & 1847 & 13842 & 11287 & ⋯ & 1  & 1  &  7286 & 5098 & TTTGGTTTCACTCGGG-1\\_Input & Input\\_TTTGGTTTCACTCGGG-1 & 204 & 1 & Input & 1\\_204\\\\\n",
       "\tInput\\_TTTGGTTTCATCATGG-1 & Input &  8040 &  8040 & 38225 & 14020 & 150 & 199 & 1565 &  8097 & 14194 & ⋯ & 0  & 0  &  9417 & 5915 & TTTGGTTTCATCATGG-1\\_Input & Input\\_TTTGGTTTCATCATGG-1 & 11  & 1 & Input & 1\\_11 \\\\\n",
       "\tInput\\_TTTGGTTTCCAGAATC-1 & Input &  6585 &  6585 & 36418 & 10369 & 134 & 140 & 1395 & 12229 & 12151 & ⋯ & 1  & 1  &  7315 & 5031 & TTTGGTTTCCAGAATC-1\\_Input & Input\\_TTTGGTTTCCAGAATC-1 & 4   & 0 & Input & 0\\_4  \\\\\n",
       "\tInput\\_TTTGGTTTCCAGCACG-1 & Input &  5651 &  5651 & 38276 & 10726 & 113 & 155 & 1333 & 12920 & 13029 & ⋯ & 4  & 4  &  8066 & 5160 & TTTGGTTTCCAGCACG-1\\_Input & Input\\_TTTGGTTTCCAGCACG-1 & 1   & 1 & Input & 1\\_1  \\\\\n",
       "\tInput\\_TTTGGTTTCGGGAAAC-1 & Input &  8970 &  8970 & 44036 & 15752 & 188 & 162 & 1575 &  9606 & 16753 & ⋯ & 2  & 2  & 10849 & 6289 & TTTGGTTTCGGGAAAC-1\\_Input & Input\\_TTTGGTTTCGGGAAAC-1 & 165 & 1 & Input & 1\\_165\\\\\n",
       "\tInput\\_TTTGGTTTCTGAGTCA-1 & Input & 11264 & 11264 & 46672 & 17946 & 189 & 182 & 1899 &  6351 & 20105 & ⋯ & 2  & 2  & 13275 & 7406 & TTTGGTTTCTGAGTCA-1\\_Input & Input\\_TTTGGTTTCTGAGTCA-1 & 12  & 1 & Input & 1\\_12 \\\\\n",
       "\tInput\\_TTTGGTTTCTGATCCC-1 & Input &  4318 &  4318 & 23116 &  4623 & 135 &  91 &  603 & 10983 &  6681 & ⋯ & 3  & 3  &  4516 & 3301 & TTTGGTTTCTGATCCC-1\\_Input & Input\\_TTTGGTTTCTGATCCC-1 & 5   & 1 & Input & 1\\_5  \\\\\n",
       "\tInput\\_TTTGTGTAGAACCCGA-1 & Input & 10332 & 10332 & 54322 & 18751 & 185 & 269 & 1723 & 13043 & 20351 & ⋯ & 2  & 2  & 13613 & 6822 & TTTGTGTAGAACCCGA-1\\_Input & Input\\_TTTGTGTAGAACCCGA-1 & 12  & 0 & Input & 0\\_12 \\\\\n",
       "\tInput\\_TTTGTGTAGGTTGTTC-1 & Input &  3370 &  3370 & 28547 &  5288 &  99 &  92 &  593 & 16793 &  5682 & ⋯ & 6  & 6  &  3661 & 2933 & TTTGTGTAGGTTGTTC-1\\_Input & Input\\_TTTGTGTAGGTTGTTC-1 & 80  & 0 & Input & 0\\_80 \\\\\n",
       "\tInput\\_TTTGTGTAGGTTTCTG-1 & Input &  2399 &  2399 & 15157 &  2804 &  35 &  40 &  431 &  7959 &  3888 & ⋯ & 0  & 0  &  2382 & 1951 & TTTGTGTAGGTTTCTG-1\\_Input & Input\\_TTTGTGTAGGTTTCTG-1 & 3   & 0 & Input & 0\\_3  \\\\\n",
       "\tInput\\_TTTGTGTAGTAGACCG-1 & Input &  1591 &  1591 & 17478 &  2545 &  36 &  67 &  838 & 10895 &  3097 & ⋯ & 9  & 9  &  2156 & 1633 & TTTGTGTAGTAGACCG-1\\_Input & Input\\_TTTGTGTAGTAGACCG-1 & 7   & 0 & Input & 0\\_7  \\\\\n",
       "\tInput\\_TTTGTGTAGTTCGTTG-1 & Input &  7159 &  7159 & 47326 & 17420 & 175 & 171 & 2124 & 11394 & 16042 & ⋯ & 5  & 5  & 10200 & 5905 & TTTGTGTAGTTCGTTG-1\\_Input & Input\\_TTTGTGTAGTTCGTTG-1 & 3   & 1 & Input & 1\\_3  \\\\\n",
       "\tInput\\_TTTGTGTCAACTCGTA-1 & Input &  5301 &  5301 & 35312 & 10401 &  97 & 156 &  985 & 14763 &  8910 & ⋯ & 1  & 1  &  5818 & 4082 & TTTGTGTCAACTCGTA-1\\_Input & Input\\_TTTGTGTCAACTCGTA-1 & 2   & 0 & Input & 0\\_2  \\\\\n",
       "\tInput\\_TTTGTGTCAAGCCAGA-1 & Input &  2632 &  2632 & 19591 &  3883 &  37 &  67 &  496 & 10265 &  4843 & ⋯ & 1  & 1  &  2945 & 2326 & TTTGTGTCAAGCCAGA-1\\_Input & Input\\_TTTGTGTCAAGCCAGA-1 & 4   & 0 & Input & 0\\_4  \\\\\n",
       "\tInput\\_TTTGTGTCAATGACTC-1 & Input &  4411 &  4411 & 22045 &  5463 &  96 &  62 &  512 &  9370 &  6542 & ⋯ & 1  & 1  &  4643 & 3485 & TTTGTGTCAATGACTC-1\\_Input & Input\\_TTTGTGTCAATGACTC-1 & 1   & 0 & Input & 0\\_1  \\\\\n",
       "\tInput\\_TTTGTGTCACACATTG-1 & Input &  2465 &  2465 & 20370 &  2166 &  49 &  76 &  272 & 14386 &  3421 & ⋯ & 3  & 3  &  2344 & 1953 & TTTGTGTCACACATTG-1\\_Input & Input\\_TTTGTGTCACACATTG-1 & 29  & 1 & Input & 1\\_29 \\\\\n",
       "\tInput\\_TTTGTGTCAGAAAGAG-1 & Input &  8651 &  8651 & 54991 & 15520 & 187 & 199 & 1754 & 18606 & 18725 & ⋯ & 10 & 10 & 11729 & 6171 & TTTGTGTCAGAAAGAG-1\\_Input & Input\\_TTTGTGTCAGAAAGAG-1 & 2   & 0 & Input & 0\\_2  \\\\\n",
       "\tInput\\_TTTGTGTCATAGCCAT-1 & Input &  8819 &  8819 & 38670 & 12717 & 201 & 145 & 2007 &  7501 & 16099 & ⋯ & 2  & 2  &  9908 & 6094 & TTTGTGTCATAGCCAT-1\\_Input & Input\\_TTTGTGTCATAGCCAT-1 & 15  & 0 & Input & 0\\_15 \\\\\n",
       "\tInput\\_TTTGTGTGTAAGCCGA-1 & Input &  3540 &  3540 & 15168 &  3241 &  69 &  60 &  437 &  5996 &  5365 & ⋯ & 3  & 3  &  3719 & 2918 & TTTGTGTGTAAGCCGA-1\\_Input & Input\\_TTTGTGTGTAAGCCGA-1 & 14  & 1 & Input & 1\\_14 \\\\\n",
       "\tInput\\_TTTGTGTGTAGATTAG-1 & Input &  2965 &  2965 & 17832 &  7612 &  54 &  78 &  632 &  3609 &  5847 & ⋯ & 8  & 8  &  3770 & 2811 & TTTGTGTGTAGATTAG-1\\_Input & Input\\_TTTGTGTGTAGATTAG-1 & 20  & 1 & Input & 1\\_20 \\\\\n",
       "\tInput\\_TTTGTGTGTAGGGTCA-1 & Input &  4462 &  4462 & 20297 &  5059 &  77 &  78 &  535 &  7531 &  7017 & ⋯ & 2  & 2  &  4695 & 3424 & TTTGTGTGTAGGGTCA-1\\_Input & Input\\_TTTGTGTGTAGGGTCA-1 & 54  & 1 & Input & 1\\_54 \\\\\n",
       "\tInput\\_TTTGTGTGTCATAGAA-1 & Input &  7393 &  7393 & 32663 & 10594 & 153 & 131 & 1320 &  8708 & 11757 & ⋯ & 0  & 0  &  7879 & 5181 & TTTGTGTGTCATAGAA-1\\_Input & Input\\_TTTGTGTGTCATAGAA-1 & 81  & 0 & Input & 0\\_81 \\\\\n",
       "\tInput\\_TTTGTGTGTTTCTTAC-1 & Input &  3563 &  3563 & 17067 &  3257 &  63 &  80 &  461 &  8097 &  5109 & ⋯ & 3  & 3  &  3738 & 2899 & TTTGTGTGTTTCTTAC-1\\_Input & Input\\_TTTGTGTGTTTCTTAC-1 & 159 & 1 & Input & 1\\_159\\\\\n",
       "\tInput\\_TTTGTGTTCCTGAAAC-1 & Input &  4187 &  4187 & 30427 &  8323 &  84 &  99 &  799 & 12146 &  8976 & ⋯ & 4  & 4  &  5839 & 4144 & TTTGTGTTCCTGAAAC-1\\_Input & Input\\_TTTGTGTTCCTGAAAC-1 & 191 & 1 & Input & 1\\_191\\\\\n",
       "\tInput\\_TTTGTGTTCGGGAAAC-1 & Input &  7841 &  7841 & 40114 & 14032 & 169 & 160 & 1561 & 10102 & 14090 & ⋯ & 0  & 0  &  9421 & 5890 & TTTGTGTTCGGGAAAC-1\\_Input & Input\\_TTTGTGTTCGGGAAAC-1 & 63  & 1 & Input & 1\\_63 \\\\\n",
       "\tInput\\_TTTGTGTTCGGGACAA-1 & Input &  3212 &  3212 & 22721 &  4421 &  43 &  84 &  546 & 11692 &  5935 & ⋯ & 4  & 4  &  4303 & 3323 & TTTGTGTTCGGGACAA-1\\_Input & Input\\_TTTGTGTTCGGGACAA-1 & 55  & 0 & Input & 0\\_55 \\\\\n",
       "\tInput\\_TTTGTGTTCTGGCACG-1 & Input & 11279 & 11279 & 57423 & 22063 & 263 & 235 & 2056 & 11433 & 21373 & ⋯ & 2  & 2  & 13841 & 7279 & TTTGTGTTCTGGCACG-1\\_Input & Input\\_TTTGTGTTCTGGCACG-1 & 2   & 1 & Input & 1\\_2  \\\\\n",
       "\\end{tabular}\n"
      ],
      "text/markdown": [
       "\n",
       "A data.frame: 6381 × 39\n",
       "\n",
       "| <!--/--> | orig.ident &lt;fct&gt; | nCount_ATAC &lt;dbl&gt; | nFeature_ATAC &lt;int&gt; | total &lt;dbl&gt; | duplicate &lt;dbl&gt; | chimeric &lt;dbl&gt; | unmapped &lt;dbl&gt; | lowmapq &lt;dbl&gt; | mitochondrial &lt;dbl&gt; | passed_filters &lt;dbl&gt; | ⋯ ⋯ | ATAC_snn_res.0.8 &lt;fct&gt; | seurat_clusters &lt;fct&gt; | nCount_RNA &lt;dbl&gt; | nFeature_RNA &lt;int&gt; | ID &lt;chr&gt; | Row.names &lt;I&lt;chr&gt;&gt; | lineage &lt;fct&gt; | donor &lt;fct&gt; | condition &lt;fct&gt; | name &lt;fct&gt; |\n",
       "|---|---|---|---|---|---|---|---|---|---|---|---|---|---|---|---|---|---|---|---|---|---|\n",
       "| Input_AAACGAAAGATATGAC-1 | Input |  2841 |  2841 | 29954 |  4853 |  67 | 103 |  626 | 19521 |  4784 | ⋯ | 1  | 1  |  3172 | 2505 | AAACGAAAGATATGAC-1_Input | Input_AAACGAAAGATATGAC-1 | 27   | 0    | Input | 0_27  |\n",
       "| Input_AAACGAAAGTAATGTG-1 | Input |  6473 |  6473 | 32111 |  9018 |  96 | 122 | 1319 | 11232 | 10324 | ⋯ | 1  | 1  |  7161 | 4861 | AAACGAAAGTAATGTG-1_Input | Input_AAACGAAAGTAATGTG-1 | 11   | 0    | Input | 0_11  |\n",
       "| Input_AAACGAAAGTAGTCGG-1 | Input |  7391 |  7391 | 37923 | 12542 | 147 | 162 | 1705 | 10189 | 13178 | ⋯ | 0  | 0  |  8960 | 5447 | AAACGAAAGTAGTCGG-1_Input | Input_AAACGAAAGTAGTCGG-1 | 81   | 0    | Input | 0_81  |\n",
       "| Input_AAACGAACACATTGCA-1 | Input |  6795 |  6795 | 46206 | 12553 | 148 | 184 | 1239 | 16880 | 15202 | ⋯ | 8  | 8  | 10041 | 5539 | AAACGAACACATTGCA-1_Input | Input_AAACGAACACATTGCA-1 | 28   | 0    | Input | 0_28  |\n",
       "| Input_AAACGAACACGCTCAG-1 | Input |  5816 |  5816 | 38973 |  7584 | 162 | 150 |  973 | 19691 | 10413 | ⋯ | 6  | 6  |  7103 | 4786 | AAACGAACACGCTCAG-1_Input | Input_AAACGAACACGCTCAG-1 | 0    | 1    | Input | 1_0   |\n",
       "| Input_AAACGAAGTACCAAGG-1 | Input |  3146 |  3146 | 16484 |  3515 |  46 |  59 |  336 |  7811 |  4717 | ⋯ | 3  | 3  |  3299 | 2592 | AAACGAAGTACCAAGG-1_Input | Input_AAACGAAGTACCAAGG-1 | 34   | 1    | Input | 1_34  |\n",
       "| Input_AAACGAAGTGGTTCTA-1 | Input |  3603 |  3603 | 27753 |  5848 |  76 | 100 |  764 | 13707 |  7258 | ⋯ | 4  | 4  |  4714 | 3448 | AAACGAAGTGGTTCTA-1_Input | Input_AAACGAAGTGGTTCTA-1 | 7    | 0    | Input | 0_7   |\n",
       "| Input_AAACGAAGTGTTGTTG-1 | Input |  4501 |  4501 | 25940 |  6903 |  97 | 112 |  866 | 10773 |  7189 | ⋯ | 0  | 0  |  4694 | 3465 | AAACGAAGTGTTGTTG-1_Input | Input_AAACGAAGTGTTGTTG-1 | 2    | 0    | Input | 0_2   |\n",
       "| Input_AAACGAAGTTCTCGAA-1 | Input |  9230 |  9230 | 42150 | 15885 | 171 | 160 | 1772 |  7158 | 17004 | ⋯ | 5  | 5  | 11329 | 6953 | AAACGAAGTTCTCGAA-1_Input | Input_AAACGAAGTTCTCGAA-1 | 159  | 1    | Input | 1_159 |\n",
       "| Input_AAACGAAGTTTGACCA-1 | Input |  3819 |  3819 | 19868 |  5589 |  86 |  90 |  685 |  7124 |  6294 | ⋯ | 5  | 5  |  4083 | 3187 | AAACGAAGTTTGACCA-1_Input | Input_AAACGAAGTTTGACCA-1 | 38   | 1    | Input | 1_38  |\n",
       "| Input_AAACTCGAGTCCGTGC-1 | Input |  7027 |  7027 | 33222 | 12252 | 129 | 112 | 1275 |  5856 | 13598 | ⋯ | 7  | 7  |  9036 | 5501 | NA                       | Input_AAACTCGAGTCCGTGC-1 | None | None | None  | None  |\n",
       "| Input_AAACTCGCAACAACTC-1 | Input |  5157 |  5157 | 25833 |  8992 |  99 |  87 |  940 |  7402 |  8313 | ⋯ | 11 | 11 |  5576 | 3937 | AAACTCGCAACAACTC-1_Input | Input_AAACTCGCAACAACTC-1 | 24   | 1    | Input | 1_24  |\n",
       "| Input_AAACTCGCAAGGACCA-1 | Input |  5630 |  5630 | 25041 |  6729 | 156 |  80 |  829 |  8380 |  8867 | ⋯ | 3  | 3  |  6093 | 4163 | AAACTCGCAAGGACCA-1_Input | Input_AAACTCGCAAGGACCA-1 | 8    | 1    | Input | 1_8   |\n",
       "| Input_AAACTCGCAAGTCTGT-1 | Input |  3855 |  3855 | 24009 |  5303 |  89 |  68 |  603 | 11654 |  6292 | ⋯ | 1  | 1  |  4201 | 3269 | AAACTCGCAAGTCTGT-1_Input | Input_AAACTCGCAAGTCTGT-1 | 5    | 0    | Input | 0_5   |\n",
       "| Input_AAACTCGCAGTGCTCG-1 | Input |  8189 |  8189 | 41258 | 16481 | 161 | 162 | 2010 |  7082 | 15362 | ⋯ | 9  | 9  | 10260 | 6297 | AAACTCGCAGTGCTCG-1_Input | Input_AAACTCGCAGTGCTCG-1 | 49   | 0    | Input | 0_49  |\n",
       "| Input_AAACTCGCATCCCAAA-1 | Input |  3460 |  3460 | 21508 |  4348 |  73 |  60 |  597 | 10350 |  6080 | ⋯ | 4  | 4  |  4126 | 3107 | AAACTCGCATCCCAAA-1_Input | Input_AAACTCGCATCCCAAA-1 | 74   | 1    | Input | 1_74  |\n",
       "| Input_AAACTCGCATTTCACT-1 | Input |  2865 |  2865 | 15017 |  4300 |  36 |  58 |  543 |  5064 |  5016 | ⋯ | 11 | 11 |  3321 | 2621 | AAACTCGCATTTCACT-1_Input | Input_AAACTCGCATTTCACT-1 | 25   | 0    | Input | 0_25  |\n",
       "| Input_AAACTCGGTAAGTCTC-1 | Input |  6616 |  6616 | 35647 | 10514 | 132 | 125 | 1122 | 12996 | 10758 | ⋯ | 0  | 0  |  7105 | 4842 | AAACTCGGTAAGTCTC-1_Input | Input_AAACTCGGTAAGTCTC-1 | 81   | 0    | Input | 0_81  |\n",
       "| Input_AAACTCGGTACGGATG-1 | Input | 10550 | 10550 | 45734 | 17190 | 203 | 239 | 2792 |  5894 | 19416 | ⋯ | 2  | 2  | 13828 | 7746 | AAACTCGGTACGGATG-1_Input | Input_AAACTCGGTACGGATG-1 | 163  | 1    | Input | 1_163 |\n",
       "| Input_AAACTCGGTATTCGAC-1 | Input |  4152 |  4152 | 24643 |  5239 |  91 |  97 |  610 | 10850 |  7756 | ⋯ | 2  | 2  |  4660 | 3279 | AAACTCGGTATTCGAC-1_Input | Input_AAACTCGGTATTCGAC-1 | 181  | 1    | Input | 1_181 |\n",
       "| Input_AAACTCGGTCAAACAA-1 | Input | 10137 | 10137 | 89961 | 25138 | 203 | 315 | 2742 | 32638 | 28925 | ⋯ | 4  | 4  | 16941 | 7973 | AAACTCGGTCAAACAA-1_Input | Input_AAACTCGGTCAAACAA-1 | 0    | 1    | Input | 1_0   |\n",
       "| Input_AAACTCGGTGAGGGTT-1 | Input |  7805 |  7805 | 42215 | 17618 | 145 | 149 | 1524 |  9183 | 13596 | ⋯ | 0  | 0  |  8822 | 5662 | AAACTCGGTGAGGGTT-1_Input | Input_AAACTCGGTGAGGGTT-1 | 1    | 1    | Input | 1_1   |\n",
       "| Input_AAACTCGTCCAATCCC-1 | Input |  4087 |  4087 | 25228 |  7256 |  67 |  94 |  791 | 10209 |  6811 | ⋯ | 1  | 1  |  4214 | 3163 | AAACTCGTCCAATCCC-1_Input | Input_AAACTCGTCCAATCCC-1 | 9    | 1    | Input | 1_9   |\n",
       "| Input_AAACTCGTCGAGGTAG-1 | Input |  8080 |  8080 | 46439 | 17313 | 142 | 164 | 1807 | 13148 | 13865 | ⋯ | 5  | 5  |  9069 | 5852 | AAACTCGTCGAGGTAG-1_Input | Input_AAACTCGTCGAGGTAG-1 | 181  | 1    | Input | 1_181 |\n",
       "| Input_AAACTGCAGACTTCCA-1 | Input |  3668 |  3668 | 21123 |  8504 |  47 |  79 |  950 |  3823 |  7720 | ⋯ | 8  | 8  |  4907 | 3419 | AAACTGCAGACTTCCA-1_Input | Input_AAACTGCAGACTTCCA-1 | 0    | 1    | Input | 1_0   |\n",
       "| Input_AAACTGCAGCTAGCAG-1 | Input |  4395 |  4395 | 21564 |  5953 |  69 |  68 |  713 |  8125 |  6636 | ⋯ | 3  | 3  |  4851 | 3558 | AAACTGCAGCTAGCAG-1_Input | Input_AAACTGCAGCTAGCAG-1 | 5    | 1    | Input | 1_5   |\n",
       "| Input_AAACTGCAGTTACACC-1 | Input |  2976 |  2976 | 21167 |  5698 |  59 |  68 |  569 |  9235 |  5538 | ⋯ | 4  | 4  |  3473 | 2770 | AAACTGCAGTTACACC-1_Input | Input_AAACTGCAGTTACACC-1 | 150  | 1    | Input | 1_150 |\n",
       "| Input_AAACTGCCAAGGAACC-1 | Input |  6525 |  6525 | 36328 | 12169 | 155 | 144 | 1735 | 10392 | 11733 | ⋯ | 1  | 1  |  7118 | 4863 | AAACTGCCAAGGAACC-1_Input | Input_AAACTGCCAAGGAACC-1 | 4    | 0    | Input | 0_4   |\n",
       "| Input_AAACTGCCACAGATGG-1 | Input |  9346 |  9346 | 44080 | 13308 | 157 | 158 | 1575 | 11182 | 17700 | ⋯ | 8  | 8  | 12131 | 6918 | AAACTGCCACAGATGG-1_Input | Input_AAACTGCCACAGATGG-1 | 4    | 1    | Input | 1_4   |\n",
       "| Input_AAACTGCCATCCGTGG-1 | Input |  2972 |  2972 | 14829 |  3836 |  68 |  67 |  529 |  4182 |  6147 | ⋯ | 6  | 6  |  3744 | 2749 | AAACTGCCATCCGTGG-1_Input | Input_AAACTGCCATCCGTGG-1 | 104  | 1    | Input | 1_104 |\n",
       "| ⋮ | ⋮ | ⋮ | ⋮ | ⋮ | ⋮ | ⋮ | ⋮ | ⋮ | ⋮ | ⋮ | ⋱ | ⋮ | ⋮ | ⋮ | ⋮ | ⋮ | ⋮ | ⋮ | ⋮ | ⋮ | ⋮ |\n",
       "| Input_TTTGGTTCATATAGAG-1 | Input |  5403 |  5403 | 30210 |  7894 | 106 | 111 | 1110 | 11817 |  9172 | ⋯ | 6  | 6  |  5788 | 4107 | TTTGGTTCATATAGAG-1_Input | Input_TTTGGTTCATATAGAG-1 | 6   | 0 | Input | 0_6   |\n",
       "| Input_TTTGGTTCATGGCCCA-1 | Input |  4145 |  4145 | 26674 |  7664 |  86 | 105 | 1105 | 10024 |  7690 | ⋯ | 1  | 1  |  4643 | 3516 | TTTGGTTCATGGCCCA-1_Input | Input_TTTGGTTCATGGCCCA-1 | 152 | 1 | Input | 1_152 |\n",
       "| Input_TTTGGTTGTTCTCGAA-1 | Input |  3556 |  3556 | 23621 |  5512 |  84 |  92 |  603 | 11441 |  5889 | ⋯ | 1  | 1  |  3586 | 2862 | TTTGGTTGTTCTCGAA-1_Input | Input_TTTGGTTGTTCTCGAA-1 | 1   | 1 | Input | 1_1   |\n",
       "| Input_TTTGGTTTCACTCGGG-1 | Input |  5864 |  5864 | 38833 | 11548 | 149 | 160 | 1847 | 13842 | 11287 | ⋯ | 1  | 1  |  7286 | 5098 | TTTGGTTTCACTCGGG-1_Input | Input_TTTGGTTTCACTCGGG-1 | 204 | 1 | Input | 1_204 |\n",
       "| Input_TTTGGTTTCATCATGG-1 | Input |  8040 |  8040 | 38225 | 14020 | 150 | 199 | 1565 |  8097 | 14194 | ⋯ | 0  | 0  |  9417 | 5915 | TTTGGTTTCATCATGG-1_Input | Input_TTTGGTTTCATCATGG-1 | 11  | 1 | Input | 1_11  |\n",
       "| Input_TTTGGTTTCCAGAATC-1 | Input |  6585 |  6585 | 36418 | 10369 | 134 | 140 | 1395 | 12229 | 12151 | ⋯ | 1  | 1  |  7315 | 5031 | TTTGGTTTCCAGAATC-1_Input | Input_TTTGGTTTCCAGAATC-1 | 4   | 0 | Input | 0_4   |\n",
       "| Input_TTTGGTTTCCAGCACG-1 | Input |  5651 |  5651 | 38276 | 10726 | 113 | 155 | 1333 | 12920 | 13029 | ⋯ | 4  | 4  |  8066 | 5160 | TTTGGTTTCCAGCACG-1_Input | Input_TTTGGTTTCCAGCACG-1 | 1   | 1 | Input | 1_1   |\n",
       "| Input_TTTGGTTTCGGGAAAC-1 | Input |  8970 |  8970 | 44036 | 15752 | 188 | 162 | 1575 |  9606 | 16753 | ⋯ | 2  | 2  | 10849 | 6289 | TTTGGTTTCGGGAAAC-1_Input | Input_TTTGGTTTCGGGAAAC-1 | 165 | 1 | Input | 1_165 |\n",
       "| Input_TTTGGTTTCTGAGTCA-1 | Input | 11264 | 11264 | 46672 | 17946 | 189 | 182 | 1899 |  6351 | 20105 | ⋯ | 2  | 2  | 13275 | 7406 | TTTGGTTTCTGAGTCA-1_Input | Input_TTTGGTTTCTGAGTCA-1 | 12  | 1 | Input | 1_12  |\n",
       "| Input_TTTGGTTTCTGATCCC-1 | Input |  4318 |  4318 | 23116 |  4623 | 135 |  91 |  603 | 10983 |  6681 | ⋯ | 3  | 3  |  4516 | 3301 | TTTGGTTTCTGATCCC-1_Input | Input_TTTGGTTTCTGATCCC-1 | 5   | 1 | Input | 1_5   |\n",
       "| Input_TTTGTGTAGAACCCGA-1 | Input | 10332 | 10332 | 54322 | 18751 | 185 | 269 | 1723 | 13043 | 20351 | ⋯ | 2  | 2  | 13613 | 6822 | TTTGTGTAGAACCCGA-1_Input | Input_TTTGTGTAGAACCCGA-1 | 12  | 0 | Input | 0_12  |\n",
       "| Input_TTTGTGTAGGTTGTTC-1 | Input |  3370 |  3370 | 28547 |  5288 |  99 |  92 |  593 | 16793 |  5682 | ⋯ | 6  | 6  |  3661 | 2933 | TTTGTGTAGGTTGTTC-1_Input | Input_TTTGTGTAGGTTGTTC-1 | 80  | 0 | Input | 0_80  |\n",
       "| Input_TTTGTGTAGGTTTCTG-1 | Input |  2399 |  2399 | 15157 |  2804 |  35 |  40 |  431 |  7959 |  3888 | ⋯ | 0  | 0  |  2382 | 1951 | TTTGTGTAGGTTTCTG-1_Input | Input_TTTGTGTAGGTTTCTG-1 | 3   | 0 | Input | 0_3   |\n",
       "| Input_TTTGTGTAGTAGACCG-1 | Input |  1591 |  1591 | 17478 |  2545 |  36 |  67 |  838 | 10895 |  3097 | ⋯ | 9  | 9  |  2156 | 1633 | TTTGTGTAGTAGACCG-1_Input | Input_TTTGTGTAGTAGACCG-1 | 7   | 0 | Input | 0_7   |\n",
       "| Input_TTTGTGTAGTTCGTTG-1 | Input |  7159 |  7159 | 47326 | 17420 | 175 | 171 | 2124 | 11394 | 16042 | ⋯ | 5  | 5  | 10200 | 5905 | TTTGTGTAGTTCGTTG-1_Input | Input_TTTGTGTAGTTCGTTG-1 | 3   | 1 | Input | 1_3   |\n",
       "| Input_TTTGTGTCAACTCGTA-1 | Input |  5301 |  5301 | 35312 | 10401 |  97 | 156 |  985 | 14763 |  8910 | ⋯ | 1  | 1  |  5818 | 4082 | TTTGTGTCAACTCGTA-1_Input | Input_TTTGTGTCAACTCGTA-1 | 2   | 0 | Input | 0_2   |\n",
       "| Input_TTTGTGTCAAGCCAGA-1 | Input |  2632 |  2632 | 19591 |  3883 |  37 |  67 |  496 | 10265 |  4843 | ⋯ | 1  | 1  |  2945 | 2326 | TTTGTGTCAAGCCAGA-1_Input | Input_TTTGTGTCAAGCCAGA-1 | 4   | 0 | Input | 0_4   |\n",
       "| Input_TTTGTGTCAATGACTC-1 | Input |  4411 |  4411 | 22045 |  5463 |  96 |  62 |  512 |  9370 |  6542 | ⋯ | 1  | 1  |  4643 | 3485 | TTTGTGTCAATGACTC-1_Input | Input_TTTGTGTCAATGACTC-1 | 1   | 0 | Input | 0_1   |\n",
       "| Input_TTTGTGTCACACATTG-1 | Input |  2465 |  2465 | 20370 |  2166 |  49 |  76 |  272 | 14386 |  3421 | ⋯ | 3  | 3  |  2344 | 1953 | TTTGTGTCACACATTG-1_Input | Input_TTTGTGTCACACATTG-1 | 29  | 1 | Input | 1_29  |\n",
       "| Input_TTTGTGTCAGAAAGAG-1 | Input |  8651 |  8651 | 54991 | 15520 | 187 | 199 | 1754 | 18606 | 18725 | ⋯ | 10 | 10 | 11729 | 6171 | TTTGTGTCAGAAAGAG-1_Input | Input_TTTGTGTCAGAAAGAG-1 | 2   | 0 | Input | 0_2   |\n",
       "| Input_TTTGTGTCATAGCCAT-1 | Input |  8819 |  8819 | 38670 | 12717 | 201 | 145 | 2007 |  7501 | 16099 | ⋯ | 2  | 2  |  9908 | 6094 | TTTGTGTCATAGCCAT-1_Input | Input_TTTGTGTCATAGCCAT-1 | 15  | 0 | Input | 0_15  |\n",
       "| Input_TTTGTGTGTAAGCCGA-1 | Input |  3540 |  3540 | 15168 |  3241 |  69 |  60 |  437 |  5996 |  5365 | ⋯ | 3  | 3  |  3719 | 2918 | TTTGTGTGTAAGCCGA-1_Input | Input_TTTGTGTGTAAGCCGA-1 | 14  | 1 | Input | 1_14  |\n",
       "| Input_TTTGTGTGTAGATTAG-1 | Input |  2965 |  2965 | 17832 |  7612 |  54 |  78 |  632 |  3609 |  5847 | ⋯ | 8  | 8  |  3770 | 2811 | TTTGTGTGTAGATTAG-1_Input | Input_TTTGTGTGTAGATTAG-1 | 20  | 1 | Input | 1_20  |\n",
       "| Input_TTTGTGTGTAGGGTCA-1 | Input |  4462 |  4462 | 20297 |  5059 |  77 |  78 |  535 |  7531 |  7017 | ⋯ | 2  | 2  |  4695 | 3424 | TTTGTGTGTAGGGTCA-1_Input | Input_TTTGTGTGTAGGGTCA-1 | 54  | 1 | Input | 1_54  |\n",
       "| Input_TTTGTGTGTCATAGAA-1 | Input |  7393 |  7393 | 32663 | 10594 | 153 | 131 | 1320 |  8708 | 11757 | ⋯ | 0  | 0  |  7879 | 5181 | TTTGTGTGTCATAGAA-1_Input | Input_TTTGTGTGTCATAGAA-1 | 81  | 0 | Input | 0_81  |\n",
       "| Input_TTTGTGTGTTTCTTAC-1 | Input |  3563 |  3563 | 17067 |  3257 |  63 |  80 |  461 |  8097 |  5109 | ⋯ | 3  | 3  |  3738 | 2899 | TTTGTGTGTTTCTTAC-1_Input | Input_TTTGTGTGTTTCTTAC-1 | 159 | 1 | Input | 1_159 |\n",
       "| Input_TTTGTGTTCCTGAAAC-1 | Input |  4187 |  4187 | 30427 |  8323 |  84 |  99 |  799 | 12146 |  8976 | ⋯ | 4  | 4  |  5839 | 4144 | TTTGTGTTCCTGAAAC-1_Input | Input_TTTGTGTTCCTGAAAC-1 | 191 | 1 | Input | 1_191 |\n",
       "| Input_TTTGTGTTCGGGAAAC-1 | Input |  7841 |  7841 | 40114 | 14032 | 169 | 160 | 1561 | 10102 | 14090 | ⋯ | 0  | 0  |  9421 | 5890 | TTTGTGTTCGGGAAAC-1_Input | Input_TTTGTGTTCGGGAAAC-1 | 63  | 1 | Input | 1_63  |\n",
       "| Input_TTTGTGTTCGGGACAA-1 | Input |  3212 |  3212 | 22721 |  4421 |  43 |  84 |  546 | 11692 |  5935 | ⋯ | 4  | 4  |  4303 | 3323 | TTTGTGTTCGGGACAA-1_Input | Input_TTTGTGTTCGGGACAA-1 | 55  | 0 | Input | 0_55  |\n",
       "| Input_TTTGTGTTCTGGCACG-1 | Input | 11279 | 11279 | 57423 | 22063 | 263 | 235 | 2056 | 11433 | 21373 | ⋯ | 2  | 2  | 13841 | 7279 | TTTGTGTTCTGGCACG-1_Input | Input_TTTGTGTTCTGGCACG-1 | 2   | 1 | Input | 1_2   |\n",
       "\n"
      ],
      "text/plain": [
       "                         orig.ident nCount_ATAC nFeature_ATAC total duplicate\n",
       "Input_AAACGAAAGATATGAC-1 Input       2841        2841         29954  4853    \n",
       "Input_AAACGAAAGTAATGTG-1 Input       6473        6473         32111  9018    \n",
       "Input_AAACGAAAGTAGTCGG-1 Input       7391        7391         37923 12542    \n",
       "Input_AAACGAACACATTGCA-1 Input       6795        6795         46206 12553    \n",
       "Input_AAACGAACACGCTCAG-1 Input       5816        5816         38973  7584    \n",
       "Input_AAACGAAGTACCAAGG-1 Input       3146        3146         16484  3515    \n",
       "Input_AAACGAAGTGGTTCTA-1 Input       3603        3603         27753  5848    \n",
       "Input_AAACGAAGTGTTGTTG-1 Input       4501        4501         25940  6903    \n",
       "Input_AAACGAAGTTCTCGAA-1 Input       9230        9230         42150 15885    \n",
       "Input_AAACGAAGTTTGACCA-1 Input       3819        3819         19868  5589    \n",
       "Input_AAACTCGAGTCCGTGC-1 Input       7027        7027         33222 12252    \n",
       "Input_AAACTCGCAACAACTC-1 Input       5157        5157         25833  8992    \n",
       "Input_AAACTCGCAAGGACCA-1 Input       5630        5630         25041  6729    \n",
       "Input_AAACTCGCAAGTCTGT-1 Input       3855        3855         24009  5303    \n",
       "Input_AAACTCGCAGTGCTCG-1 Input       8189        8189         41258 16481    \n",
       "Input_AAACTCGCATCCCAAA-1 Input       3460        3460         21508  4348    \n",
       "Input_AAACTCGCATTTCACT-1 Input       2865        2865         15017  4300    \n",
       "Input_AAACTCGGTAAGTCTC-1 Input       6616        6616         35647 10514    \n",
       "Input_AAACTCGGTACGGATG-1 Input      10550       10550         45734 17190    \n",
       "Input_AAACTCGGTATTCGAC-1 Input       4152        4152         24643  5239    \n",
       "Input_AAACTCGGTCAAACAA-1 Input      10137       10137         89961 25138    \n",
       "Input_AAACTCGGTGAGGGTT-1 Input       7805        7805         42215 17618    \n",
       "Input_AAACTCGTCCAATCCC-1 Input       4087        4087         25228  7256    \n",
       "Input_AAACTCGTCGAGGTAG-1 Input       8080        8080         46439 17313    \n",
       "Input_AAACTGCAGACTTCCA-1 Input       3668        3668         21123  8504    \n",
       "Input_AAACTGCAGCTAGCAG-1 Input       4395        4395         21564  5953    \n",
       "Input_AAACTGCAGTTACACC-1 Input       2976        2976         21167  5698    \n",
       "Input_AAACTGCCAAGGAACC-1 Input       6525        6525         36328 12169    \n",
       "Input_AAACTGCCACAGATGG-1 Input       9346        9346         44080 13308    \n",
       "Input_AAACTGCCATCCGTGG-1 Input       2972        2972         14829  3836    \n",
       "⋮                        ⋮          ⋮           ⋮             ⋮     ⋮        \n",
       "Input_TTTGGTTCATATAGAG-1 Input       5403        5403         30210  7894    \n",
       "Input_TTTGGTTCATGGCCCA-1 Input       4145        4145         26674  7664    \n",
       "Input_TTTGGTTGTTCTCGAA-1 Input       3556        3556         23621  5512    \n",
       "Input_TTTGGTTTCACTCGGG-1 Input       5864        5864         38833 11548    \n",
       "Input_TTTGGTTTCATCATGG-1 Input       8040        8040         38225 14020    \n",
       "Input_TTTGGTTTCCAGAATC-1 Input       6585        6585         36418 10369    \n",
       "Input_TTTGGTTTCCAGCACG-1 Input       5651        5651         38276 10726    \n",
       "Input_TTTGGTTTCGGGAAAC-1 Input       8970        8970         44036 15752    \n",
       "Input_TTTGGTTTCTGAGTCA-1 Input      11264       11264         46672 17946    \n",
       "Input_TTTGGTTTCTGATCCC-1 Input       4318        4318         23116  4623    \n",
       "Input_TTTGTGTAGAACCCGA-1 Input      10332       10332         54322 18751    \n",
       "Input_TTTGTGTAGGTTGTTC-1 Input       3370        3370         28547  5288    \n",
       "Input_TTTGTGTAGGTTTCTG-1 Input       2399        2399         15157  2804    \n",
       "Input_TTTGTGTAGTAGACCG-1 Input       1591        1591         17478  2545    \n",
       "Input_TTTGTGTAGTTCGTTG-1 Input       7159        7159         47326 17420    \n",
       "Input_TTTGTGTCAACTCGTA-1 Input       5301        5301         35312 10401    \n",
       "Input_TTTGTGTCAAGCCAGA-1 Input       2632        2632         19591  3883    \n",
       "Input_TTTGTGTCAATGACTC-1 Input       4411        4411         22045  5463    \n",
       "Input_TTTGTGTCACACATTG-1 Input       2465        2465         20370  2166    \n",
       "Input_TTTGTGTCAGAAAGAG-1 Input       8651        8651         54991 15520    \n",
       "Input_TTTGTGTCATAGCCAT-1 Input       8819        8819         38670 12717    \n",
       "Input_TTTGTGTGTAAGCCGA-1 Input       3540        3540         15168  3241    \n",
       "Input_TTTGTGTGTAGATTAG-1 Input       2965        2965         17832  7612    \n",
       "Input_TTTGTGTGTAGGGTCA-1 Input       4462        4462         20297  5059    \n",
       "Input_TTTGTGTGTCATAGAA-1 Input       7393        7393         32663 10594    \n",
       "Input_TTTGTGTGTTTCTTAC-1 Input       3563        3563         17067  3257    \n",
       "Input_TTTGTGTTCCTGAAAC-1 Input       4187        4187         30427  8323    \n",
       "Input_TTTGTGTTCGGGAAAC-1 Input       7841        7841         40114 14032    \n",
       "Input_TTTGTGTTCGGGACAA-1 Input       3212        3212         22721  4421    \n",
       "Input_TTTGTGTTCTGGCACG-1 Input      11279       11279         57423 22063    \n",
       "                         chimeric unmapped lowmapq mitochondrial passed_filters\n",
       "Input_AAACGAAAGATATGAC-1  67      103       626    19521          4784         \n",
       "Input_AAACGAAAGTAATGTG-1  96      122      1319    11232         10324         \n",
       "Input_AAACGAAAGTAGTCGG-1 147      162      1705    10189         13178         \n",
       "Input_AAACGAACACATTGCA-1 148      184      1239    16880         15202         \n",
       "Input_AAACGAACACGCTCAG-1 162      150       973    19691         10413         \n",
       "Input_AAACGAAGTACCAAGG-1  46       59       336     7811          4717         \n",
       "Input_AAACGAAGTGGTTCTA-1  76      100       764    13707          7258         \n",
       "Input_AAACGAAGTGTTGTTG-1  97      112       866    10773          7189         \n",
       "Input_AAACGAAGTTCTCGAA-1 171      160      1772     7158         17004         \n",
       "Input_AAACGAAGTTTGACCA-1  86       90       685     7124          6294         \n",
       "Input_AAACTCGAGTCCGTGC-1 129      112      1275     5856         13598         \n",
       "Input_AAACTCGCAACAACTC-1  99       87       940     7402          8313         \n",
       "Input_AAACTCGCAAGGACCA-1 156       80       829     8380          8867         \n",
       "Input_AAACTCGCAAGTCTGT-1  89       68       603    11654          6292         \n",
       "Input_AAACTCGCAGTGCTCG-1 161      162      2010     7082         15362         \n",
       "Input_AAACTCGCATCCCAAA-1  73       60       597    10350          6080         \n",
       "Input_AAACTCGCATTTCACT-1  36       58       543     5064          5016         \n",
       "Input_AAACTCGGTAAGTCTC-1 132      125      1122    12996         10758         \n",
       "Input_AAACTCGGTACGGATG-1 203      239      2792     5894         19416         \n",
       "Input_AAACTCGGTATTCGAC-1  91       97       610    10850          7756         \n",
       "Input_AAACTCGGTCAAACAA-1 203      315      2742    32638         28925         \n",
       "Input_AAACTCGGTGAGGGTT-1 145      149      1524     9183         13596         \n",
       "Input_AAACTCGTCCAATCCC-1  67       94       791    10209          6811         \n",
       "Input_AAACTCGTCGAGGTAG-1 142      164      1807    13148         13865         \n",
       "Input_AAACTGCAGACTTCCA-1  47       79       950     3823          7720         \n",
       "Input_AAACTGCAGCTAGCAG-1  69       68       713     8125          6636         \n",
       "Input_AAACTGCAGTTACACC-1  59       68       569     9235          5538         \n",
       "Input_AAACTGCCAAGGAACC-1 155      144      1735    10392         11733         \n",
       "Input_AAACTGCCACAGATGG-1 157      158      1575    11182         17700         \n",
       "Input_AAACTGCCATCCGTGG-1  68       67       529     4182          6147         \n",
       "⋮                        ⋮        ⋮        ⋮       ⋮             ⋮             \n",
       "Input_TTTGGTTCATATAGAG-1 106      111      1110    11817          9172         \n",
       "Input_TTTGGTTCATGGCCCA-1  86      105      1105    10024          7690         \n",
       "Input_TTTGGTTGTTCTCGAA-1  84       92       603    11441          5889         \n",
       "Input_TTTGGTTTCACTCGGG-1 149      160      1847    13842         11287         \n",
       "Input_TTTGGTTTCATCATGG-1 150      199      1565     8097         14194         \n",
       "Input_TTTGGTTTCCAGAATC-1 134      140      1395    12229         12151         \n",
       "Input_TTTGGTTTCCAGCACG-1 113      155      1333    12920         13029         \n",
       "Input_TTTGGTTTCGGGAAAC-1 188      162      1575     9606         16753         \n",
       "Input_TTTGGTTTCTGAGTCA-1 189      182      1899     6351         20105         \n",
       "Input_TTTGGTTTCTGATCCC-1 135       91       603    10983          6681         \n",
       "Input_TTTGTGTAGAACCCGA-1 185      269      1723    13043         20351         \n",
       "Input_TTTGTGTAGGTTGTTC-1  99       92       593    16793          5682         \n",
       "Input_TTTGTGTAGGTTTCTG-1  35       40       431     7959          3888         \n",
       "Input_TTTGTGTAGTAGACCG-1  36       67       838    10895          3097         \n",
       "Input_TTTGTGTAGTTCGTTG-1 175      171      2124    11394         16042         \n",
       "Input_TTTGTGTCAACTCGTA-1  97      156       985    14763          8910         \n",
       "Input_TTTGTGTCAAGCCAGA-1  37       67       496    10265          4843         \n",
       "Input_TTTGTGTCAATGACTC-1  96       62       512     9370          6542         \n",
       "Input_TTTGTGTCACACATTG-1  49       76       272    14386          3421         \n",
       "Input_TTTGTGTCAGAAAGAG-1 187      199      1754    18606         18725         \n",
       "Input_TTTGTGTCATAGCCAT-1 201      145      2007     7501         16099         \n",
       "Input_TTTGTGTGTAAGCCGA-1  69       60       437     5996          5365         \n",
       "Input_TTTGTGTGTAGATTAG-1  54       78       632     3609          5847         \n",
       "Input_TTTGTGTGTAGGGTCA-1  77       78       535     7531          7017         \n",
       "Input_TTTGTGTGTCATAGAA-1 153      131      1320     8708         11757         \n",
       "Input_TTTGTGTGTTTCTTAC-1  63       80       461     8097          5109         \n",
       "Input_TTTGTGTTCCTGAAAC-1  84       99       799    12146          8976         \n",
       "Input_TTTGTGTTCGGGAAAC-1 169      160      1561    10102         14090         \n",
       "Input_TTTGTGTTCGGGACAA-1  43       84       546    11692          5935         \n",
       "Input_TTTGTGTTCTGGCACG-1 263      235      2056    11433         21373         \n",
       "                         ⋯ ATAC_snn_res.0.8 seurat_clusters nCount_RNA\n",
       "Input_AAACGAAAGATATGAC-1 ⋯ 1                1                3172     \n",
       "Input_AAACGAAAGTAATGTG-1 ⋯ 1                1                7161     \n",
       "Input_AAACGAAAGTAGTCGG-1 ⋯ 0                0                8960     \n",
       "Input_AAACGAACACATTGCA-1 ⋯ 8                8               10041     \n",
       "Input_AAACGAACACGCTCAG-1 ⋯ 6                6                7103     \n",
       "Input_AAACGAAGTACCAAGG-1 ⋯ 3                3                3299     \n",
       "Input_AAACGAAGTGGTTCTA-1 ⋯ 4                4                4714     \n",
       "Input_AAACGAAGTGTTGTTG-1 ⋯ 0                0                4694     \n",
       "Input_AAACGAAGTTCTCGAA-1 ⋯ 5                5               11329     \n",
       "Input_AAACGAAGTTTGACCA-1 ⋯ 5                5                4083     \n",
       "Input_AAACTCGAGTCCGTGC-1 ⋯ 7                7                9036     \n",
       "Input_AAACTCGCAACAACTC-1 ⋯ 11               11               5576     \n",
       "Input_AAACTCGCAAGGACCA-1 ⋯ 3                3                6093     \n",
       "Input_AAACTCGCAAGTCTGT-1 ⋯ 1                1                4201     \n",
       "Input_AAACTCGCAGTGCTCG-1 ⋯ 9                9               10260     \n",
       "Input_AAACTCGCATCCCAAA-1 ⋯ 4                4                4126     \n",
       "Input_AAACTCGCATTTCACT-1 ⋯ 11               11               3321     \n",
       "Input_AAACTCGGTAAGTCTC-1 ⋯ 0                0                7105     \n",
       "Input_AAACTCGGTACGGATG-1 ⋯ 2                2               13828     \n",
       "Input_AAACTCGGTATTCGAC-1 ⋯ 2                2                4660     \n",
       "Input_AAACTCGGTCAAACAA-1 ⋯ 4                4               16941     \n",
       "Input_AAACTCGGTGAGGGTT-1 ⋯ 0                0                8822     \n",
       "Input_AAACTCGTCCAATCCC-1 ⋯ 1                1                4214     \n",
       "Input_AAACTCGTCGAGGTAG-1 ⋯ 5                5                9069     \n",
       "Input_AAACTGCAGACTTCCA-1 ⋯ 8                8                4907     \n",
       "Input_AAACTGCAGCTAGCAG-1 ⋯ 3                3                4851     \n",
       "Input_AAACTGCAGTTACACC-1 ⋯ 4                4                3473     \n",
       "Input_AAACTGCCAAGGAACC-1 ⋯ 1                1                7118     \n",
       "Input_AAACTGCCACAGATGG-1 ⋯ 8                8               12131     \n",
       "Input_AAACTGCCATCCGTGG-1 ⋯ 6                6                3744     \n",
       "⋮                        ⋱ ⋮                ⋮               ⋮         \n",
       "Input_TTTGGTTCATATAGAG-1 ⋯ 6                6                5788     \n",
       "Input_TTTGGTTCATGGCCCA-1 ⋯ 1                1                4643     \n",
       "Input_TTTGGTTGTTCTCGAA-1 ⋯ 1                1                3586     \n",
       "Input_TTTGGTTTCACTCGGG-1 ⋯ 1                1                7286     \n",
       "Input_TTTGGTTTCATCATGG-1 ⋯ 0                0                9417     \n",
       "Input_TTTGGTTTCCAGAATC-1 ⋯ 1                1                7315     \n",
       "Input_TTTGGTTTCCAGCACG-1 ⋯ 4                4                8066     \n",
       "Input_TTTGGTTTCGGGAAAC-1 ⋯ 2                2               10849     \n",
       "Input_TTTGGTTTCTGAGTCA-1 ⋯ 2                2               13275     \n",
       "Input_TTTGGTTTCTGATCCC-1 ⋯ 3                3                4516     \n",
       "Input_TTTGTGTAGAACCCGA-1 ⋯ 2                2               13613     \n",
       "Input_TTTGTGTAGGTTGTTC-1 ⋯ 6                6                3661     \n",
       "Input_TTTGTGTAGGTTTCTG-1 ⋯ 0                0                2382     \n",
       "Input_TTTGTGTAGTAGACCG-1 ⋯ 9                9                2156     \n",
       "Input_TTTGTGTAGTTCGTTG-1 ⋯ 5                5               10200     \n",
       "Input_TTTGTGTCAACTCGTA-1 ⋯ 1                1                5818     \n",
       "Input_TTTGTGTCAAGCCAGA-1 ⋯ 1                1                2945     \n",
       "Input_TTTGTGTCAATGACTC-1 ⋯ 1                1                4643     \n",
       "Input_TTTGTGTCACACATTG-1 ⋯ 3                3                2344     \n",
       "Input_TTTGTGTCAGAAAGAG-1 ⋯ 10               10              11729     \n",
       "Input_TTTGTGTCATAGCCAT-1 ⋯ 2                2                9908     \n",
       "Input_TTTGTGTGTAAGCCGA-1 ⋯ 3                3                3719     \n",
       "Input_TTTGTGTGTAGATTAG-1 ⋯ 8                8                3770     \n",
       "Input_TTTGTGTGTAGGGTCA-1 ⋯ 2                2                4695     \n",
       "Input_TTTGTGTGTCATAGAA-1 ⋯ 0                0                7879     \n",
       "Input_TTTGTGTGTTTCTTAC-1 ⋯ 3                3                3738     \n",
       "Input_TTTGTGTTCCTGAAAC-1 ⋯ 4                4                5839     \n",
       "Input_TTTGTGTTCGGGAAAC-1 ⋯ 0                0                9421     \n",
       "Input_TTTGTGTTCGGGACAA-1 ⋯ 4                4                4303     \n",
       "Input_TTTGTGTTCTGGCACG-1 ⋯ 2                2               13841     \n",
       "                         nFeature_RNA ID                      \n",
       "Input_AAACGAAAGATATGAC-1 2505         AAACGAAAGATATGAC-1_Input\n",
       "Input_AAACGAAAGTAATGTG-1 4861         AAACGAAAGTAATGTG-1_Input\n",
       "Input_AAACGAAAGTAGTCGG-1 5447         AAACGAAAGTAGTCGG-1_Input\n",
       "Input_AAACGAACACATTGCA-1 5539         AAACGAACACATTGCA-1_Input\n",
       "Input_AAACGAACACGCTCAG-1 4786         AAACGAACACGCTCAG-1_Input\n",
       "Input_AAACGAAGTACCAAGG-1 2592         AAACGAAGTACCAAGG-1_Input\n",
       "Input_AAACGAAGTGGTTCTA-1 3448         AAACGAAGTGGTTCTA-1_Input\n",
       "Input_AAACGAAGTGTTGTTG-1 3465         AAACGAAGTGTTGTTG-1_Input\n",
       "Input_AAACGAAGTTCTCGAA-1 6953         AAACGAAGTTCTCGAA-1_Input\n",
       "Input_AAACGAAGTTTGACCA-1 3187         AAACGAAGTTTGACCA-1_Input\n",
       "Input_AAACTCGAGTCCGTGC-1 5501         NA                      \n",
       "Input_AAACTCGCAACAACTC-1 3937         AAACTCGCAACAACTC-1_Input\n",
       "Input_AAACTCGCAAGGACCA-1 4163         AAACTCGCAAGGACCA-1_Input\n",
       "Input_AAACTCGCAAGTCTGT-1 3269         AAACTCGCAAGTCTGT-1_Input\n",
       "Input_AAACTCGCAGTGCTCG-1 6297         AAACTCGCAGTGCTCG-1_Input\n",
       "Input_AAACTCGCATCCCAAA-1 3107         AAACTCGCATCCCAAA-1_Input\n",
       "Input_AAACTCGCATTTCACT-1 2621         AAACTCGCATTTCACT-1_Input\n",
       "Input_AAACTCGGTAAGTCTC-1 4842         AAACTCGGTAAGTCTC-1_Input\n",
       "Input_AAACTCGGTACGGATG-1 7746         AAACTCGGTACGGATG-1_Input\n",
       "Input_AAACTCGGTATTCGAC-1 3279         AAACTCGGTATTCGAC-1_Input\n",
       "Input_AAACTCGGTCAAACAA-1 7973         AAACTCGGTCAAACAA-1_Input\n",
       "Input_AAACTCGGTGAGGGTT-1 5662         AAACTCGGTGAGGGTT-1_Input\n",
       "Input_AAACTCGTCCAATCCC-1 3163         AAACTCGTCCAATCCC-1_Input\n",
       "Input_AAACTCGTCGAGGTAG-1 5852         AAACTCGTCGAGGTAG-1_Input\n",
       "Input_AAACTGCAGACTTCCA-1 3419         AAACTGCAGACTTCCA-1_Input\n",
       "Input_AAACTGCAGCTAGCAG-1 3558         AAACTGCAGCTAGCAG-1_Input\n",
       "Input_AAACTGCAGTTACACC-1 2770         AAACTGCAGTTACACC-1_Input\n",
       "Input_AAACTGCCAAGGAACC-1 4863         AAACTGCCAAGGAACC-1_Input\n",
       "Input_AAACTGCCACAGATGG-1 6918         AAACTGCCACAGATGG-1_Input\n",
       "Input_AAACTGCCATCCGTGG-1 2749         AAACTGCCATCCGTGG-1_Input\n",
       "⋮                        ⋮            ⋮                       \n",
       "Input_TTTGGTTCATATAGAG-1 4107         TTTGGTTCATATAGAG-1_Input\n",
       "Input_TTTGGTTCATGGCCCA-1 3516         TTTGGTTCATGGCCCA-1_Input\n",
       "Input_TTTGGTTGTTCTCGAA-1 2862         TTTGGTTGTTCTCGAA-1_Input\n",
       "Input_TTTGGTTTCACTCGGG-1 5098         TTTGGTTTCACTCGGG-1_Input\n",
       "Input_TTTGGTTTCATCATGG-1 5915         TTTGGTTTCATCATGG-1_Input\n",
       "Input_TTTGGTTTCCAGAATC-1 5031         TTTGGTTTCCAGAATC-1_Input\n",
       "Input_TTTGGTTTCCAGCACG-1 5160         TTTGGTTTCCAGCACG-1_Input\n",
       "Input_TTTGGTTTCGGGAAAC-1 6289         TTTGGTTTCGGGAAAC-1_Input\n",
       "Input_TTTGGTTTCTGAGTCA-1 7406         TTTGGTTTCTGAGTCA-1_Input\n",
       "Input_TTTGGTTTCTGATCCC-1 3301         TTTGGTTTCTGATCCC-1_Input\n",
       "Input_TTTGTGTAGAACCCGA-1 6822         TTTGTGTAGAACCCGA-1_Input\n",
       "Input_TTTGTGTAGGTTGTTC-1 2933         TTTGTGTAGGTTGTTC-1_Input\n",
       "Input_TTTGTGTAGGTTTCTG-1 1951         TTTGTGTAGGTTTCTG-1_Input\n",
       "Input_TTTGTGTAGTAGACCG-1 1633         TTTGTGTAGTAGACCG-1_Input\n",
       "Input_TTTGTGTAGTTCGTTG-1 5905         TTTGTGTAGTTCGTTG-1_Input\n",
       "Input_TTTGTGTCAACTCGTA-1 4082         TTTGTGTCAACTCGTA-1_Input\n",
       "Input_TTTGTGTCAAGCCAGA-1 2326         TTTGTGTCAAGCCAGA-1_Input\n",
       "Input_TTTGTGTCAATGACTC-1 3485         TTTGTGTCAATGACTC-1_Input\n",
       "Input_TTTGTGTCACACATTG-1 1953         TTTGTGTCACACATTG-1_Input\n",
       "Input_TTTGTGTCAGAAAGAG-1 6171         TTTGTGTCAGAAAGAG-1_Input\n",
       "Input_TTTGTGTCATAGCCAT-1 6094         TTTGTGTCATAGCCAT-1_Input\n",
       "Input_TTTGTGTGTAAGCCGA-1 2918         TTTGTGTGTAAGCCGA-1_Input\n",
       "Input_TTTGTGTGTAGATTAG-1 2811         TTTGTGTGTAGATTAG-1_Input\n",
       "Input_TTTGTGTGTAGGGTCA-1 3424         TTTGTGTGTAGGGTCA-1_Input\n",
       "Input_TTTGTGTGTCATAGAA-1 5181         TTTGTGTGTCATAGAA-1_Input\n",
       "Input_TTTGTGTGTTTCTTAC-1 2899         TTTGTGTGTTTCTTAC-1_Input\n",
       "Input_TTTGTGTTCCTGAAAC-1 4144         TTTGTGTTCCTGAAAC-1_Input\n",
       "Input_TTTGTGTTCGGGAAAC-1 5890         TTTGTGTTCGGGAAAC-1_Input\n",
       "Input_TTTGTGTTCGGGACAA-1 3323         TTTGTGTTCGGGACAA-1_Input\n",
       "Input_TTTGTGTTCTGGCACG-1 7279         TTTGTGTTCTGGCACG-1_Input\n",
       "                         Row.names                lineage donor condition name \n",
       "Input_AAACGAAAGATATGAC-1 Input_AAACGAAAGATATGAC-1 27      0     Input     0_27 \n",
       "Input_AAACGAAAGTAATGTG-1 Input_AAACGAAAGTAATGTG-1 11      0     Input     0_11 \n",
       "Input_AAACGAAAGTAGTCGG-1 Input_AAACGAAAGTAGTCGG-1 81      0     Input     0_81 \n",
       "Input_AAACGAACACATTGCA-1 Input_AAACGAACACATTGCA-1 28      0     Input     0_28 \n",
       "Input_AAACGAACACGCTCAG-1 Input_AAACGAACACGCTCAG-1 0       1     Input     1_0  \n",
       "Input_AAACGAAGTACCAAGG-1 Input_AAACGAAGTACCAAGG-1 34      1     Input     1_34 \n",
       "Input_AAACGAAGTGGTTCTA-1 Input_AAACGAAGTGGTTCTA-1 7       0     Input     0_7  \n",
       "Input_AAACGAAGTGTTGTTG-1 Input_AAACGAAGTGTTGTTG-1 2       0     Input     0_2  \n",
       "Input_AAACGAAGTTCTCGAA-1 Input_AAACGAAGTTCTCGAA-1 159     1     Input     1_159\n",
       "Input_AAACGAAGTTTGACCA-1 Input_AAACGAAGTTTGACCA-1 38      1     Input     1_38 \n",
       "Input_AAACTCGAGTCCGTGC-1 Input_AAACTCGAGTCCGTGC-1 None    None  None      None \n",
       "Input_AAACTCGCAACAACTC-1 Input_AAACTCGCAACAACTC-1 24      1     Input     1_24 \n",
       "Input_AAACTCGCAAGGACCA-1 Input_AAACTCGCAAGGACCA-1 8       1     Input     1_8  \n",
       "Input_AAACTCGCAAGTCTGT-1 Input_AAACTCGCAAGTCTGT-1 5       0     Input     0_5  \n",
       "Input_AAACTCGCAGTGCTCG-1 Input_AAACTCGCAGTGCTCG-1 49      0     Input     0_49 \n",
       "Input_AAACTCGCATCCCAAA-1 Input_AAACTCGCATCCCAAA-1 74      1     Input     1_74 \n",
       "Input_AAACTCGCATTTCACT-1 Input_AAACTCGCATTTCACT-1 25      0     Input     0_25 \n",
       "Input_AAACTCGGTAAGTCTC-1 Input_AAACTCGGTAAGTCTC-1 81      0     Input     0_81 \n",
       "Input_AAACTCGGTACGGATG-1 Input_AAACTCGGTACGGATG-1 163     1     Input     1_163\n",
       "Input_AAACTCGGTATTCGAC-1 Input_AAACTCGGTATTCGAC-1 181     1     Input     1_181\n",
       "Input_AAACTCGGTCAAACAA-1 Input_AAACTCGGTCAAACAA-1 0       1     Input     1_0  \n",
       "Input_AAACTCGGTGAGGGTT-1 Input_AAACTCGGTGAGGGTT-1 1       1     Input     1_1  \n",
       "Input_AAACTCGTCCAATCCC-1 Input_AAACTCGTCCAATCCC-1 9       1     Input     1_9  \n",
       "Input_AAACTCGTCGAGGTAG-1 Input_AAACTCGTCGAGGTAG-1 181     1     Input     1_181\n",
       "Input_AAACTGCAGACTTCCA-1 Input_AAACTGCAGACTTCCA-1 0       1     Input     1_0  \n",
       "Input_AAACTGCAGCTAGCAG-1 Input_AAACTGCAGCTAGCAG-1 5       1     Input     1_5  \n",
       "Input_AAACTGCAGTTACACC-1 Input_AAACTGCAGTTACACC-1 150     1     Input     1_150\n",
       "Input_AAACTGCCAAGGAACC-1 Input_AAACTGCCAAGGAACC-1 4       0     Input     0_4  \n",
       "Input_AAACTGCCACAGATGG-1 Input_AAACTGCCACAGATGG-1 4       1     Input     1_4  \n",
       "Input_AAACTGCCATCCGTGG-1 Input_AAACTGCCATCCGTGG-1 104     1     Input     1_104\n",
       "⋮                        ⋮                        ⋮       ⋮     ⋮         ⋮    \n",
       "Input_TTTGGTTCATATAGAG-1 Input_TTTGGTTCATATAGAG-1 6       0     Input     0_6  \n",
       "Input_TTTGGTTCATGGCCCA-1 Input_TTTGGTTCATGGCCCA-1 152     1     Input     1_152\n",
       "Input_TTTGGTTGTTCTCGAA-1 Input_TTTGGTTGTTCTCGAA-1 1       1     Input     1_1  \n",
       "Input_TTTGGTTTCACTCGGG-1 Input_TTTGGTTTCACTCGGG-1 204     1     Input     1_204\n",
       "Input_TTTGGTTTCATCATGG-1 Input_TTTGGTTTCATCATGG-1 11      1     Input     1_11 \n",
       "Input_TTTGGTTTCCAGAATC-1 Input_TTTGGTTTCCAGAATC-1 4       0     Input     0_4  \n",
       "Input_TTTGGTTTCCAGCACG-1 Input_TTTGGTTTCCAGCACG-1 1       1     Input     1_1  \n",
       "Input_TTTGGTTTCGGGAAAC-1 Input_TTTGGTTTCGGGAAAC-1 165     1     Input     1_165\n",
       "Input_TTTGGTTTCTGAGTCA-1 Input_TTTGGTTTCTGAGTCA-1 12      1     Input     1_12 \n",
       "Input_TTTGGTTTCTGATCCC-1 Input_TTTGGTTTCTGATCCC-1 5       1     Input     1_5  \n",
       "Input_TTTGTGTAGAACCCGA-1 Input_TTTGTGTAGAACCCGA-1 12      0     Input     0_12 \n",
       "Input_TTTGTGTAGGTTGTTC-1 Input_TTTGTGTAGGTTGTTC-1 80      0     Input     0_80 \n",
       "Input_TTTGTGTAGGTTTCTG-1 Input_TTTGTGTAGGTTTCTG-1 3       0     Input     0_3  \n",
       "Input_TTTGTGTAGTAGACCG-1 Input_TTTGTGTAGTAGACCG-1 7       0     Input     0_7  \n",
       "Input_TTTGTGTAGTTCGTTG-1 Input_TTTGTGTAGTTCGTTG-1 3       1     Input     1_3  \n",
       "Input_TTTGTGTCAACTCGTA-1 Input_TTTGTGTCAACTCGTA-1 2       0     Input     0_2  \n",
       "Input_TTTGTGTCAAGCCAGA-1 Input_TTTGTGTCAAGCCAGA-1 4       0     Input     0_4  \n",
       "Input_TTTGTGTCAATGACTC-1 Input_TTTGTGTCAATGACTC-1 1       0     Input     0_1  \n",
       "Input_TTTGTGTCACACATTG-1 Input_TTTGTGTCACACATTG-1 29      1     Input     1_29 \n",
       "Input_TTTGTGTCAGAAAGAG-1 Input_TTTGTGTCAGAAAGAG-1 2       0     Input     0_2  \n",
       "Input_TTTGTGTCATAGCCAT-1 Input_TTTGTGTCATAGCCAT-1 15      0     Input     0_15 \n",
       "Input_TTTGTGTGTAAGCCGA-1 Input_TTTGTGTGTAAGCCGA-1 14      1     Input     1_14 \n",
       "Input_TTTGTGTGTAGATTAG-1 Input_TTTGTGTGTAGATTAG-1 20      1     Input     1_20 \n",
       "Input_TTTGTGTGTAGGGTCA-1 Input_TTTGTGTGTAGGGTCA-1 54      1     Input     1_54 \n",
       "Input_TTTGTGTGTCATAGAA-1 Input_TTTGTGTGTCATAGAA-1 81      0     Input     0_81 \n",
       "Input_TTTGTGTGTTTCTTAC-1 Input_TTTGTGTGTTTCTTAC-1 159     1     Input     1_159\n",
       "Input_TTTGTGTTCCTGAAAC-1 Input_TTTGTGTTCCTGAAAC-1 191     1     Input     1_191\n",
       "Input_TTTGTGTTCGGGAAAC-1 Input_TTTGTGTTCGGGAAAC-1 63      1     Input     1_63 \n",
       "Input_TTTGTGTTCGGGACAA-1 Input_TTTGTGTTCGGGACAA-1 55      0     Input     0_55 \n",
       "Input_TTTGTGTTCTGGCACG-1 Input_TTTGTGTTCTGGCACG-1 2       1     Input     1_2  "
      ]
     },
     "metadata": {},
     "output_type": "display_data"
    }
   ],
   "source": [
    "se <- readRDS(se_f)\n",
    "coord = max(max(Embeddings(se[[\"umap\"]])), abs(min(Embeddings(se[[\"umap\"]]))))\n",
    "coord\n",
    "se[[]]"
   ]
  },
  {
   "cell_type": "markdown",
   "id": "978a834c",
   "metadata": {},
   "source": [
    "## Plot lineage"
   ]
  },
  {
   "cell_type": "code",
   "execution_count": 4,
   "id": "624319eb",
   "metadata": {
    "scrolled": false
   },
   "outputs": [
    {
     "name": "stderr",
     "output_type": "stream",
     "text": [
      "Warning message in dir.create(clone.umap.condition):\n",
      "“'/data/Mito_Trace/output/pipeline/v02/CHIP_b1/InputOnly/MTBlacklist_A2/data/merged/MT/cellr_True/numread_200/filters/minC10_minR50_topN0_hetT0.001_hetC10_hetCount5_bq20/mgatk/vireoIn/clones/variants_init/knn/kparam_30/gff_A2_black/annotation_clones/umap_clones_overlay' already exists”\n"
     ]
    }
   ],
   "source": [
    "clone.umap.condition <- file.path(outdir)\n",
    "dir.create(clone.umap.condition)"
   ]
  },
  {
   "cell_type": "code",
   "execution_count": 5,
   "id": "e84ab8df",
   "metadata": {
    "scrolled": true
   },
   "outputs": [
    {
     "data": {
      "text/html": [
       "<style>\n",
       ".list-inline {list-style: none; margin:0; padding: 0}\n",
       ".list-inline>li {display: inline-block}\n",
       ".list-inline>li:not(:last-child)::after {content: \"\\00b7\"; padding: 0 .5ex}\n",
       "</style>\n",
       "<ol class=list-inline><li>'0'</li><li>'1'</li></ol>\n"
      ],
      "text/latex": [
       "\\begin{enumerate*}\n",
       "\\item '0'\n",
       "\\item '1'\n",
       "\\end{enumerate*}\n"
      ],
      "text/markdown": [
       "1. '0'\n",
       "2. '1'\n",
       "\n",
       "\n"
      ],
      "text/plain": [
       "[1] \"0\" \"1\""
      ]
     },
     "metadata": {},
     "output_type": "display_data"
    }
   ],
   "source": [
    "donors <- levels(se$donor)\n",
    "donors <-  donors[donors != \"None\"]\n",
    "donors"
   ]
  },
  {
   "cell_type": "code",
   "execution_count": 6,
   "id": "3891c8e6",
   "metadata": {},
   "outputs": [],
   "source": [
    "names <- (unique(se$name))\n",
    "names <- names[! names==\"None\"]"
   ]
  },
  {
   "cell_type": "code",
   "execution_count": 13,
   "id": "ceea5519",
   "metadata": {},
   "outputs": [
    {
     "data": {
      "text/html": [
       "Input\n",
       "<details>\n",
       "\t<summary style=display:list-item;cursor:pointer>\n",
       "\t\t<strong>Levels</strong>:\n",
       "\t</summary>\n",
       "\t'Input'\n",
       "</details>"
      ],
      "text/latex": [
       "Input\n",
       "\\emph{Levels}: 'Input'"
      ],
      "text/markdown": [
       "Input\n",
       "**Levels**: 'Input'"
      ],
      "text/plain": [
       "[1] Input\n",
       "Levels: Input"
      ]
     },
     "metadata": {},
     "output_type": "display_data"
    }
   ],
   "source": [
    "cond <- (unique(se$orig.ident))\n",
    "cond <- cond[! cond==\"None\"]\n",
    "cond"
   ]
  },
  {
   "cell_type": "code",
   "execution_count": 7,
   "id": "dbf33e72",
   "metadata": {
    "scrolled": true
   },
   "outputs": [
    {
     "name": "stderr",
     "output_type": "stream",
     "text": [
      "Warning message in dir.create(clone.umap.condition.lineage):\n",
      "“'/data/Mito_Trace/output/pipeline/v02/CHIP_b1/InputOnly/MTBlacklist_A2/data/merged/MT/cellr_True/numread_200/filters/minC10_minR50_topN0_hetT0.001_hetC10_hetCount5_bq20/mgatk/vireoIn/clones/variants_init/knn/kparam_30/gff_A2_black/annotation_clones/umap_clones_overlay' already exists”\n"
     ]
    },
    {
     "name": "stdout",
     "output_type": "stream",
     "text": [
      "[1] 0_27\n",
      "338 Levels: 0_0 0_1 0_10 0_100 0_101 0_102 0_103 0_104 0_105 0_106 ... None\n"
     ]
    },
    {
     "name": "stderr",
     "output_type": "stream",
     "text": [
      "Saving 6.67 x 6.67 in image\n",
      "\n",
      "Saving 6.67 x 6.67 in image\n",
      "\n",
      "Saving 6.67 x 6.67 in image\n",
      "\n",
      "Saving 6.67 x 6.67 in image\n",
      "\n"
     ]
    },
    {
     "name": "stdout",
     "output_type": "stream",
     "text": [
      "[1] 0_11\n",
      "338 Levels: 0_0 0_1 0_10 0_100 0_101 0_102 0_103 0_104 0_105 0_106 ... None\n"
     ]
    },
    {
     "name": "stderr",
     "output_type": "stream",
     "text": [
      "Saving 6.67 x 6.67 in image\n",
      "\n",
      "Saving 6.67 x 6.67 in image\n",
      "\n",
      "Saving 6.67 x 6.67 in image\n",
      "\n",
      "Saving 6.67 x 6.67 in image\n",
      "\n"
     ]
    },
    {
     "name": "stdout",
     "output_type": "stream",
     "text": [
      "[1] 0_81\n",
      "338 Levels: 0_0 0_1 0_10 0_100 0_101 0_102 0_103 0_104 0_105 0_106 ... None\n"
     ]
    },
    {
     "name": "stderr",
     "output_type": "stream",
     "text": [
      "Saving 6.67 x 6.67 in image\n",
      "\n",
      "Saving 6.67 x 6.67 in image\n",
      "\n",
      "Saving 6.67 x 6.67 in image\n",
      "\n",
      "Saving 6.67 x 6.67 in image\n",
      "\n"
     ]
    },
    {
     "name": "stdout",
     "output_type": "stream",
     "text": [
      "[1] 0_28\n",
      "338 Levels: 0_0 0_1 0_10 0_100 0_101 0_102 0_103 0_104 0_105 0_106 ... None\n"
     ]
    },
    {
     "name": "stderr",
     "output_type": "stream",
     "text": [
      "Saving 6.67 x 6.67 in image\n",
      "\n",
      "Saving 6.67 x 6.67 in image\n",
      "\n",
      "Saving 6.67 x 6.67 in image\n",
      "\n",
      "Saving 6.67 x 6.67 in image\n",
      "\n"
     ]
    },
    {
     "name": "stdout",
     "output_type": "stream",
     "text": [
      "[1] 1_0\n",
      "338 Levels: 0_0 0_1 0_10 0_100 0_101 0_102 0_103 0_104 0_105 0_106 ... None\n"
     ]
    },
    {
     "name": "stderr",
     "output_type": "stream",
     "text": [
      "Saving 6.67 x 6.67 in image\n",
      "\n",
      "Saving 6.67 x 6.67 in image\n",
      "\n",
      "Saving 6.67 x 6.67 in image\n",
      "\n",
      "Saving 6.67 x 6.67 in image\n",
      "\n"
     ]
    },
    {
     "name": "stdout",
     "output_type": "stream",
     "text": [
      "[1] 1_34\n",
      "338 Levels: 0_0 0_1 0_10 0_100 0_101 0_102 0_103 0_104 0_105 0_106 ... None\n"
     ]
    },
    {
     "name": "stderr",
     "output_type": "stream",
     "text": [
      "Saving 6.67 x 6.67 in image\n",
      "\n",
      "Saving 6.67 x 6.67 in image\n",
      "\n",
      "Saving 6.67 x 6.67 in image\n",
      "\n",
      "Saving 6.67 x 6.67 in image\n",
      "\n"
     ]
    },
    {
     "name": "stdout",
     "output_type": "stream",
     "text": [
      "[1] 0_7\n",
      "338 Levels: 0_0 0_1 0_10 0_100 0_101 0_102 0_103 0_104 0_105 0_106 ... None\n"
     ]
    },
    {
     "name": "stderr",
     "output_type": "stream",
     "text": [
      "Saving 6.67 x 6.67 in image\n",
      "\n",
      "Saving 6.67 x 6.67 in image\n",
      "\n",
      "Saving 6.67 x 6.67 in image\n",
      "\n",
      "Saving 6.67 x 6.67 in image\n",
      "\n"
     ]
    },
    {
     "name": "stdout",
     "output_type": "stream",
     "text": [
      "[1] 0_2\n",
      "338 Levels: 0_0 0_1 0_10 0_100 0_101 0_102 0_103 0_104 0_105 0_106 ... None\n"
     ]
    },
    {
     "name": "stderr",
     "output_type": "stream",
     "text": [
      "Saving 6.67 x 6.67 in image\n",
      "\n",
      "Saving 6.67 x 6.67 in image\n",
      "\n",
      "Saving 6.67 x 6.67 in image\n",
      "\n",
      "Saving 6.67 x 6.67 in image\n",
      "\n"
     ]
    },
    {
     "name": "stdout",
     "output_type": "stream",
     "text": [
      "[1] 1_159\n",
      "338 Levels: 0_0 0_1 0_10 0_100 0_101 0_102 0_103 0_104 0_105 0_106 ... None\n"
     ]
    },
    {
     "name": "stderr",
     "output_type": "stream",
     "text": [
      "Saving 6.67 x 6.67 in image\n",
      "\n",
      "Saving 6.67 x 6.67 in image\n",
      "\n",
      "Saving 6.67 x 6.67 in image\n",
      "\n",
      "Saving 6.67 x 6.67 in image\n",
      "\n"
     ]
    },
    {
     "name": "stdout",
     "output_type": "stream",
     "text": [
      "[1] 1_38\n",
      "338 Levels: 0_0 0_1 0_10 0_100 0_101 0_102 0_103 0_104 0_105 0_106 ... None\n"
     ]
    },
    {
     "name": "stderr",
     "output_type": "stream",
     "text": [
      "Saving 6.67 x 6.67 in image\n",
      "\n",
      "Saving 6.67 x 6.67 in image\n",
      "\n",
      "Saving 6.67 x 6.67 in image\n",
      "\n",
      "Saving 6.67 x 6.67 in image\n",
      "\n"
     ]
    },
    {
     "name": "stdout",
     "output_type": "stream",
     "text": [
      "[1] 1_24\n",
      "338 Levels: 0_0 0_1 0_10 0_100 0_101 0_102 0_103 0_104 0_105 0_106 ... None\n"
     ]
    },
    {
     "name": "stderr",
     "output_type": "stream",
     "text": [
      "Saving 6.67 x 6.67 in image\n",
      "\n",
      "Saving 6.67 x 6.67 in image\n",
      "\n",
      "Saving 6.67 x 6.67 in image\n",
      "\n",
      "Saving 6.67 x 6.67 in image\n",
      "\n"
     ]
    },
    {
     "name": "stdout",
     "output_type": "stream",
     "text": [
      "[1] 1_8\n",
      "338 Levels: 0_0 0_1 0_10 0_100 0_101 0_102 0_103 0_104 0_105 0_106 ... None\n"
     ]
    },
    {
     "name": "stderr",
     "output_type": "stream",
     "text": [
      "Saving 6.67 x 6.67 in image\n",
      "\n",
      "Saving 6.67 x 6.67 in image\n",
      "\n",
      "Saving 6.67 x 6.67 in image\n",
      "\n",
      "Saving 6.67 x 6.67 in image\n",
      "\n"
     ]
    },
    {
     "name": "stdout",
     "output_type": "stream",
     "text": [
      "[1] 0_5\n",
      "338 Levels: 0_0 0_1 0_10 0_100 0_101 0_102 0_103 0_104 0_105 0_106 ... None\n"
     ]
    },
    {
     "name": "stderr",
     "output_type": "stream",
     "text": [
      "Saving 6.67 x 6.67 in image\n",
      "\n",
      "Saving 6.67 x 6.67 in image\n",
      "\n",
      "Saving 6.67 x 6.67 in image\n",
      "\n",
      "Saving 6.67 x 6.67 in image\n",
      "\n"
     ]
    },
    {
     "name": "stdout",
     "output_type": "stream",
     "text": [
      "[1] 0_49\n",
      "338 Levels: 0_0 0_1 0_10 0_100 0_101 0_102 0_103 0_104 0_105 0_106 ... None\n"
     ]
    },
    {
     "name": "stderr",
     "output_type": "stream",
     "text": [
      "Saving 6.67 x 6.67 in image\n",
      "\n",
      "Saving 6.67 x 6.67 in image\n",
      "\n",
      "Saving 6.67 x 6.67 in image\n",
      "\n",
      "Saving 6.67 x 6.67 in image\n",
      "\n"
     ]
    },
    {
     "name": "stdout",
     "output_type": "stream",
     "text": [
      "[1] 1_74\n",
      "338 Levels: 0_0 0_1 0_10 0_100 0_101 0_102 0_103 0_104 0_105 0_106 ... None\n"
     ]
    },
    {
     "name": "stderr",
     "output_type": "stream",
     "text": [
      "Saving 6.67 x 6.67 in image\n",
      "\n",
      "Saving 6.67 x 6.67 in image\n",
      "\n",
      "Saving 6.67 x 6.67 in image\n",
      "\n",
      "Saving 6.67 x 6.67 in image\n",
      "\n"
     ]
    },
    {
     "name": "stdout",
     "output_type": "stream",
     "text": [
      "[1] 0_25\n",
      "338 Levels: 0_0 0_1 0_10 0_100 0_101 0_102 0_103 0_104 0_105 0_106 ... None\n"
     ]
    },
    {
     "name": "stderr",
     "output_type": "stream",
     "text": [
      "Saving 6.67 x 6.67 in image\n",
      "\n",
      "Saving 6.67 x 6.67 in image\n",
      "\n",
      "Saving 6.67 x 6.67 in image\n",
      "\n",
      "Saving 6.67 x 6.67 in image\n",
      "\n"
     ]
    },
    {
     "name": "stdout",
     "output_type": "stream",
     "text": [
      "[1] 1_163\n",
      "338 Levels: 0_0 0_1 0_10 0_100 0_101 0_102 0_103 0_104 0_105 0_106 ... None\n"
     ]
    },
    {
     "name": "stderr",
     "output_type": "stream",
     "text": [
      "Saving 6.67 x 6.67 in image\n",
      "\n",
      "Saving 6.67 x 6.67 in image\n",
      "\n",
      "Saving 6.67 x 6.67 in image\n",
      "\n",
      "Saving 6.67 x 6.67 in image\n",
      "\n"
     ]
    },
    {
     "name": "stdout",
     "output_type": "stream",
     "text": [
      "[1] 1_181\n",
      "338 Levels: 0_0 0_1 0_10 0_100 0_101 0_102 0_103 0_104 0_105 0_106 ... None\n"
     ]
    },
    {
     "name": "stderr",
     "output_type": "stream",
     "text": [
      "Saving 6.67 x 6.67 in image\n",
      "\n",
      "Saving 6.67 x 6.67 in image\n",
      "\n",
      "Saving 6.67 x 6.67 in image\n",
      "\n",
      "Saving 6.67 x 6.67 in image\n",
      "\n"
     ]
    },
    {
     "name": "stdout",
     "output_type": "stream",
     "text": [
      "[1] 1_1\n",
      "338 Levels: 0_0 0_1 0_10 0_100 0_101 0_102 0_103 0_104 0_105 0_106 ... None\n"
     ]
    },
    {
     "name": "stderr",
     "output_type": "stream",
     "text": [
      "Saving 6.67 x 6.67 in image\n",
      "\n",
      "Saving 6.67 x 6.67 in image\n",
      "\n",
      "Saving 6.67 x 6.67 in image\n",
      "\n",
      "Saving 6.67 x 6.67 in image\n",
      "\n"
     ]
    },
    {
     "name": "stdout",
     "output_type": "stream",
     "text": [
      "[1] 1_9\n",
      "338 Levels: 0_0 0_1 0_10 0_100 0_101 0_102 0_103 0_104 0_105 0_106 ... None\n"
     ]
    },
    {
     "name": "stderr",
     "output_type": "stream",
     "text": [
      "Saving 6.67 x 6.67 in image\n",
      "\n",
      "Saving 6.67 x 6.67 in image\n",
      "\n",
      "Saving 6.67 x 6.67 in image\n",
      "\n",
      "Saving 6.67 x 6.67 in image\n",
      "\n"
     ]
    },
    {
     "name": "stdout",
     "output_type": "stream",
     "text": [
      "[1] 1_5\n",
      "338 Levels: 0_0 0_1 0_10 0_100 0_101 0_102 0_103 0_104 0_105 0_106 ... None\n"
     ]
    },
    {
     "name": "stderr",
     "output_type": "stream",
     "text": [
      "Saving 6.67 x 6.67 in image\n",
      "\n",
      "Saving 6.67 x 6.67 in image\n",
      "\n",
      "Saving 6.67 x 6.67 in image\n",
      "\n",
      "Saving 6.67 x 6.67 in image\n",
      "\n"
     ]
    },
    {
     "name": "stdout",
     "output_type": "stream",
     "text": [
      "[1] 1_150\n",
      "338 Levels: 0_0 0_1 0_10 0_100 0_101 0_102 0_103 0_104 0_105 0_106 ... None\n"
     ]
    },
    {
     "name": "stderr",
     "output_type": "stream",
     "text": [
      "Saving 6.67 x 6.67 in image\n",
      "\n",
      "Saving 6.67 x 6.67 in image\n",
      "\n",
      "Saving 6.67 x 6.67 in image\n",
      "\n",
      "Saving 6.67 x 6.67 in image\n",
      "\n"
     ]
    },
    {
     "name": "stdout",
     "output_type": "stream",
     "text": [
      "[1] 0_4\n",
      "338 Levels: 0_0 0_1 0_10 0_100 0_101 0_102 0_103 0_104 0_105 0_106 ... None\n"
     ]
    },
    {
     "name": "stderr",
     "output_type": "stream",
     "text": [
      "Saving 6.67 x 6.67 in image\n",
      "\n",
      "Saving 6.67 x 6.67 in image\n",
      "\n",
      "Saving 6.67 x 6.67 in image\n",
      "\n",
      "Saving 6.67 x 6.67 in image\n",
      "\n"
     ]
    },
    {
     "name": "stdout",
     "output_type": "stream",
     "text": [
      "[1] 1_4\n",
      "338 Levels: 0_0 0_1 0_10 0_100 0_101 0_102 0_103 0_104 0_105 0_106 ... None\n"
     ]
    },
    {
     "name": "stderr",
     "output_type": "stream",
     "text": [
      "Saving 6.67 x 6.67 in image\n",
      "\n",
      "Saving 6.67 x 6.67 in image\n",
      "\n",
      "Saving 6.67 x 6.67 in image\n",
      "\n",
      "Saving 6.67 x 6.67 in image\n",
      "\n"
     ]
    },
    {
     "name": "stdout",
     "output_type": "stream",
     "text": [
      "[1] 1_104\n",
      "338 Levels: 0_0 0_1 0_10 0_100 0_101 0_102 0_103 0_104 0_105 0_106 ... None\n"
     ]
    },
    {
     "name": "stderr",
     "output_type": "stream",
     "text": [
      "Saving 6.67 x 6.67 in image\n",
      "\n",
      "Saving 6.67 x 6.67 in image\n",
      "\n",
      "Saving 6.67 x 6.67 in image\n",
      "\n",
      "Saving 6.67 x 6.67 in image\n",
      "\n"
     ]
    },
    {
     "name": "stdout",
     "output_type": "stream",
     "text": [
      "[1] 1_64\n",
      "338 Levels: 0_0 0_1 0_10 0_100 0_101 0_102 0_103 0_104 0_105 0_106 ... None\n"
     ]
    },
    {
     "name": "stderr",
     "output_type": "stream",
     "text": [
      "Saving 6.67 x 6.67 in image\n",
      "\n",
      "Saving 6.67 x 6.67 in image\n",
      "\n",
      "Saving 6.67 x 6.67 in image\n",
      "\n",
      "Saving 6.67 x 6.67 in image\n",
      "\n"
     ]
    },
    {
     "name": "stdout",
     "output_type": "stream",
     "text": [
      "[1] 1_21\n",
      "338 Levels: 0_0 0_1 0_10 0_100 0_101 0_102 0_103 0_104 0_105 0_106 ... None\n"
     ]
    },
    {
     "name": "stderr",
     "output_type": "stream",
     "text": [
      "Saving 6.67 x 6.67 in image\n",
      "\n",
      "Saving 6.67 x 6.67 in image\n",
      "\n",
      "Saving 6.67 x 6.67 in image\n",
      "\n",
      "Saving 6.67 x 6.67 in image\n",
      "\n"
     ]
    },
    {
     "name": "stdout",
     "output_type": "stream",
     "text": [
      "[1] 0_53\n",
      "338 Levels: 0_0 0_1 0_10 0_100 0_101 0_102 0_103 0_104 0_105 0_106 ... None\n"
     ]
    },
    {
     "name": "stderr",
     "output_type": "stream",
     "text": [
      "Saving 6.67 x 6.67 in image\n",
      "\n",
      "Saving 6.67 x 6.67 in image\n",
      "\n",
      "Saving 6.67 x 6.67 in image\n",
      "\n",
      "Saving 6.67 x 6.67 in image\n",
      "\n"
     ]
    },
    {
     "name": "stdout",
     "output_type": "stream",
     "text": [
      "[1] 0_0\n",
      "338 Levels: 0_0 0_1 0_10 0_100 0_101 0_102 0_103 0_104 0_105 0_106 ... None\n"
     ]
    },
    {
     "name": "stderr",
     "output_type": "stream",
     "text": [
      "Saving 6.67 x 6.67 in image\n",
      "\n",
      "Saving 6.67 x 6.67 in image\n",
      "\n",
      "Saving 6.67 x 6.67 in image\n",
      "\n",
      "Saving 6.67 x 6.67 in image\n",
      "\n"
     ]
    },
    {
     "name": "stdout",
     "output_type": "stream",
     "text": [
      "[1] 0_35\n",
      "338 Levels: 0_0 0_1 0_10 0_100 0_101 0_102 0_103 0_104 0_105 0_106 ... None\n"
     ]
    },
    {
     "name": "stderr",
     "output_type": "stream",
     "text": [
      "Saving 6.67 x 6.67 in image\n",
      "\n",
      "Saving 6.67 x 6.67 in image\n",
      "\n",
      "Saving 6.67 x 6.67 in image\n",
      "\n",
      "Saving 6.67 x 6.67 in image\n",
      "\n"
     ]
    },
    {
     "name": "stdout",
     "output_type": "stream",
     "text": [
      "[1] 0_80\n",
      "338 Levels: 0_0 0_1 0_10 0_100 0_101 0_102 0_103 0_104 0_105 0_106 ... None\n"
     ]
    },
    {
     "name": "stderr",
     "output_type": "stream",
     "text": [
      "Saving 6.67 x 6.67 in image\n",
      "\n",
      "Saving 6.67 x 6.67 in image\n",
      "\n",
      "Saving 6.67 x 6.67 in image\n",
      "\n",
      "Saving 6.67 x 6.67 in image\n",
      "\n"
     ]
    },
    {
     "name": "stdout",
     "output_type": "stream",
     "text": [
      "[1] 1_174\n",
      "338 Levels: 0_0 0_1 0_10 0_100 0_101 0_102 0_103 0_104 0_105 0_106 ... None\n"
     ]
    },
    {
     "name": "stderr",
     "output_type": "stream",
     "text": [
      "Saving 6.67 x 6.67 in image\n",
      "\n",
      "Saving 6.67 x 6.67 in image\n",
      "\n",
      "Saving 6.67 x 6.67 in image\n",
      "\n",
      "Saving 6.67 x 6.67 in image\n",
      "\n"
     ]
    },
    {
     "name": "stdout",
     "output_type": "stream",
     "text": [
      "[1] 0_1\n",
      "338 Levels: 0_0 0_1 0_10 0_100 0_101 0_102 0_103 0_104 0_105 0_106 ... None\n"
     ]
    },
    {
     "name": "stderr",
     "output_type": "stream",
     "text": [
      "Saving 6.67 x 6.67 in image\n",
      "\n",
      "Saving 6.67 x 6.67 in image\n",
      "\n",
      "Saving 6.67 x 6.67 in image\n",
      "\n",
      "Saving 6.67 x 6.67 in image\n",
      "\n"
     ]
    },
    {
     "name": "stdout",
     "output_type": "stream",
     "text": [
      "[1] 1_36\n",
      "338 Levels: 0_0 0_1 0_10 0_100 0_101 0_102 0_103 0_104 0_105 0_106 ... None\n"
     ]
    },
    {
     "name": "stderr",
     "output_type": "stream",
     "text": [
      "Saving 6.67 x 6.67 in image\n",
      "\n",
      "Saving 6.67 x 6.67 in image\n",
      "\n",
      "Saving 6.67 x 6.67 in image\n",
      "\n",
      "Saving 6.67 x 6.67 in image\n",
      "\n"
     ]
    },
    {
     "name": "stdout",
     "output_type": "stream",
     "text": [
      "[1] 0_9\n",
      "338 Levels: 0_0 0_1 0_10 0_100 0_101 0_102 0_103 0_104 0_105 0_106 ... None\n"
     ]
    },
    {
     "name": "stderr",
     "output_type": "stream",
     "text": [
      "Saving 6.67 x 6.67 in image\n",
      "\n",
      "Saving 6.67 x 6.67 in image\n",
      "\n",
      "Saving 6.67 x 6.67 in image\n",
      "\n",
      "Saving 6.67 x 6.67 in image\n",
      "\n"
     ]
    },
    {
     "name": "stdout",
     "output_type": "stream",
     "text": [
      "[1] 1_22\n",
      "338 Levels: 0_0 0_1 0_10 0_100 0_101 0_102 0_103 0_104 0_105 0_106 ... None\n"
     ]
    },
    {
     "name": "stderr",
     "output_type": "stream",
     "text": [
      "Saving 6.67 x 6.67 in image\n",
      "\n",
      "Saving 6.67 x 6.67 in image\n",
      "\n",
      "Saving 6.67 x 6.67 in image\n",
      "\n",
      "Saving 6.67 x 6.67 in image\n",
      "\n"
     ]
    },
    {
     "name": "stdout",
     "output_type": "stream",
     "text": [
      "[1] 0_62\n",
      "338 Levels: 0_0 0_1 0_10 0_100 0_101 0_102 0_103 0_104 0_105 0_106 ... None\n"
     ]
    },
    {
     "name": "stderr",
     "output_type": "stream",
     "text": [
      "Saving 6.67 x 6.67 in image\n",
      "\n",
      "Saving 6.67 x 6.67 in image\n",
      "\n",
      "Saving 6.67 x 6.67 in image\n",
      "\n",
      "Saving 6.67 x 6.67 in image\n",
      "\n"
     ]
    },
    {
     "name": "stdout",
     "output_type": "stream",
     "text": [
      "[1] 0_12\n",
      "338 Levels: 0_0 0_1 0_10 0_100 0_101 0_102 0_103 0_104 0_105 0_106 ... None\n"
     ]
    },
    {
     "name": "stderr",
     "output_type": "stream",
     "text": [
      "Saving 6.67 x 6.67 in image\n",
      "\n",
      "Saving 6.67 x 6.67 in image\n",
      "\n",
      "Saving 6.67 x 6.67 in image\n",
      "\n",
      "Saving 6.67 x 6.67 in image\n",
      "\n"
     ]
    },
    {
     "name": "stdout",
     "output_type": "stream",
     "text": [
      "[1] 1_33\n",
      "338 Levels: 0_0 0_1 0_10 0_100 0_101 0_102 0_103 0_104 0_105 0_106 ... None\n"
     ]
    },
    {
     "name": "stderr",
     "output_type": "stream",
     "text": [
      "Saving 6.67 x 6.67 in image\n",
      "\n",
      "Saving 6.67 x 6.67 in image\n",
      "\n",
      "Saving 6.67 x 6.67 in image\n",
      "\n",
      "Saving 6.67 x 6.67 in image\n",
      "\n"
     ]
    },
    {
     "name": "stdout",
     "output_type": "stream",
     "text": [
      "[1] 1_191\n",
      "338 Levels: 0_0 0_1 0_10 0_100 0_101 0_102 0_103 0_104 0_105 0_106 ... None\n"
     ]
    },
    {
     "name": "stderr",
     "output_type": "stream",
     "text": [
      "Saving 6.67 x 6.67 in image\n",
      "\n",
      "Saving 6.67 x 6.67 in image\n",
      "\n",
      "Saving 6.67 x 6.67 in image\n",
      "\n",
      "Saving 6.67 x 6.67 in image\n",
      "\n"
     ]
    },
    {
     "name": "stdout",
     "output_type": "stream",
     "text": [
      "[1] 0_8\n",
      "338 Levels: 0_0 0_1 0_10 0_100 0_101 0_102 0_103 0_104 0_105 0_106 ... None\n"
     ]
    },
    {
     "name": "stderr",
     "output_type": "stream",
     "text": [
      "Saving 6.67 x 6.67 in image\n",
      "\n",
      "Saving 6.67 x 6.67 in image\n",
      "\n",
      "Saving 6.67 x 6.67 in image\n",
      "\n",
      "Saving 6.67 x 6.67 in image\n",
      "\n"
     ]
    },
    {
     "name": "stdout",
     "output_type": "stream",
     "text": [
      "[1] 0_121\n",
      "338 Levels: 0_0 0_1 0_10 0_100 0_101 0_102 0_103 0_104 0_105 0_106 ... None\n"
     ]
    },
    {
     "name": "stderr",
     "output_type": "stream",
     "text": [
      "Saving 6.67 x 6.67 in image\n",
      "\n",
      "Saving 6.67 x 6.67 in image\n",
      "\n",
      "Saving 6.67 x 6.67 in image\n",
      "\n",
      "Saving 6.67 x 6.67 in image\n",
      "\n"
     ]
    },
    {
     "name": "stdout",
     "output_type": "stream",
     "text": [
      "[1] 1_125\n",
      "338 Levels: 0_0 0_1 0_10 0_100 0_101 0_102 0_103 0_104 0_105 0_106 ... None\n"
     ]
    },
    {
     "name": "stderr",
     "output_type": "stream",
     "text": [
      "Saving 6.67 x 6.67 in image\n",
      "\n",
      "Saving 6.67 x 6.67 in image\n",
      "\n",
      "Saving 6.67 x 6.67 in image\n",
      "\n",
      "Saving 6.67 x 6.67 in image\n",
      "\n"
     ]
    },
    {
     "name": "stdout",
     "output_type": "stream",
     "text": [
      "[1] 1_3\n",
      "338 Levels: 0_0 0_1 0_10 0_100 0_101 0_102 0_103 0_104 0_105 0_106 ... None\n"
     ]
    },
    {
     "name": "stderr",
     "output_type": "stream",
     "text": [
      "Saving 6.67 x 6.67 in image\n",
      "\n",
      "Saving 6.67 x 6.67 in image\n",
      "\n",
      "Saving 6.67 x 6.67 in image\n",
      "\n",
      "Saving 6.67 x 6.67 in image\n",
      "\n"
     ]
    },
    {
     "name": "stdout",
     "output_type": "stream",
     "text": [
      "[1] 1_183\n",
      "338 Levels: 0_0 0_1 0_10 0_100 0_101 0_102 0_103 0_104 0_105 0_106 ... None\n"
     ]
    },
    {
     "name": "stderr",
     "output_type": "stream",
     "text": [
      "Saving 6.67 x 6.67 in image\n",
      "\n",
      "Saving 6.67 x 6.67 in image\n",
      "\n",
      "Saving 6.67 x 6.67 in image\n",
      "\n",
      "Saving 6.67 x 6.67 in image\n",
      "\n"
     ]
    },
    {
     "name": "stdout",
     "output_type": "stream",
     "text": [
      "[1] 1_124\n",
      "338 Levels: 0_0 0_1 0_10 0_100 0_101 0_102 0_103 0_104 0_105 0_106 ... None\n"
     ]
    },
    {
     "name": "stderr",
     "output_type": "stream",
     "text": [
      "Saving 6.67 x 6.67 in image\n",
      "\n",
      "Saving 6.67 x 6.67 in image\n",
      "\n",
      "Saving 6.67 x 6.67 in image\n",
      "\n",
      "Saving 6.67 x 6.67 in image\n",
      "\n"
     ]
    },
    {
     "name": "stdout",
     "output_type": "stream",
     "text": [
      "[1] 0_39\n",
      "338 Levels: 0_0 0_1 0_10 0_100 0_101 0_102 0_103 0_104 0_105 0_106 ... None\n"
     ]
    },
    {
     "name": "stderr",
     "output_type": "stream",
     "text": [
      "Saving 6.67 x 6.67 in image\n",
      "\n",
      "Saving 6.67 x 6.67 in image\n",
      "\n",
      "Saving 6.67 x 6.67 in image\n",
      "\n",
      "Saving 6.67 x 6.67 in image\n",
      "\n"
     ]
    },
    {
     "name": "stdout",
     "output_type": "stream",
     "text": [
      "[1] 1_152\n",
      "338 Levels: 0_0 0_1 0_10 0_100 0_101 0_102 0_103 0_104 0_105 0_106 ... None\n"
     ]
    },
    {
     "name": "stderr",
     "output_type": "stream",
     "text": [
      "Saving 6.67 x 6.67 in image\n",
      "\n",
      "Saving 6.67 x 6.67 in image\n",
      "\n",
      "Saving 6.67 x 6.67 in image\n",
      "\n",
      "Saving 6.67 x 6.67 in image\n",
      "\n"
     ]
    },
    {
     "name": "stdout",
     "output_type": "stream",
     "text": [
      "[1] 1_204\n",
      "338 Levels: 0_0 0_1 0_10 0_100 0_101 0_102 0_103 0_104 0_105 0_106 ... None\n"
     ]
    },
    {
     "name": "stderr",
     "output_type": "stream",
     "text": [
      "Saving 6.67 x 6.67 in image\n",
      "\n",
      "Saving 6.67 x 6.67 in image\n",
      "\n",
      "Saving 6.67 x 6.67 in image\n",
      "\n",
      "Saving 6.67 x 6.67 in image\n",
      "\n"
     ]
    },
    {
     "name": "stdout",
     "output_type": "stream",
     "text": [
      "[1] 1_30\n",
      "338 Levels: 0_0 0_1 0_10 0_100 0_101 0_102 0_103 0_104 0_105 0_106 ... None\n"
     ]
    },
    {
     "name": "stderr",
     "output_type": "stream",
     "text": [
      "Saving 6.67 x 6.67 in image\n",
      "\n",
      "Saving 6.67 x 6.67 in image\n",
      "\n",
      "Saving 6.67 x 6.67 in image\n",
      "\n",
      "Saving 6.67 x 6.67 in image\n",
      "\n"
     ]
    },
    {
     "name": "stdout",
     "output_type": "stream",
     "text": [
      "[1] 0_87\n",
      "338 Levels: 0_0 0_1 0_10 0_100 0_101 0_102 0_103 0_104 0_105 0_106 ... None\n"
     ]
    },
    {
     "name": "stderr",
     "output_type": "stream",
     "text": [
      "Saving 6.67 x 6.67 in image\n",
      "\n",
      "Saving 6.67 x 6.67 in image\n",
      "\n",
      "Saving 6.67 x 6.67 in image\n",
      "\n",
      "Saving 6.67 x 6.67 in image\n",
      "\n"
     ]
    },
    {
     "name": "stdout",
     "output_type": "stream",
     "text": [
      "[1] 0_110\n",
      "338 Levels: 0_0 0_1 0_10 0_100 0_101 0_102 0_103 0_104 0_105 0_106 ... None\n"
     ]
    },
    {
     "name": "stderr",
     "output_type": "stream",
     "text": [
      "Saving 6.67 x 6.67 in image\n",
      "\n",
      "Saving 6.67 x 6.67 in image\n",
      "\n",
      "Saving 6.67 x 6.67 in image\n",
      "\n",
      "Saving 6.67 x 6.67 in image\n",
      "\n"
     ]
    },
    {
     "name": "stdout",
     "output_type": "stream",
     "text": [
      "[1] 0_24\n",
      "338 Levels: 0_0 0_1 0_10 0_100 0_101 0_102 0_103 0_104 0_105 0_106 ... None\n"
     ]
    },
    {
     "name": "stderr",
     "output_type": "stream",
     "text": [
      "Saving 6.67 x 6.67 in image\n",
      "\n",
      "Saving 6.67 x 6.67 in image\n",
      "\n",
      "Saving 6.67 x 6.67 in image\n",
      "\n",
      "Saving 6.67 x 6.67 in image\n",
      "\n"
     ]
    },
    {
     "name": "stdout",
     "output_type": "stream",
     "text": [
      "[1] 1_187\n",
      "338 Levels: 0_0 0_1 0_10 0_100 0_101 0_102 0_103 0_104 0_105 0_106 ... None\n"
     ]
    },
    {
     "name": "stderr",
     "output_type": "stream",
     "text": [
      "Saving 6.67 x 6.67 in image\n",
      "\n",
      "Saving 6.67 x 6.67 in image\n",
      "\n",
      "Saving 6.67 x 6.67 in image\n",
      "\n",
      "Saving 6.67 x 6.67 in image\n",
      "\n"
     ]
    },
    {
     "name": "stdout",
     "output_type": "stream",
     "text": [
      "[1] 0_22\n",
      "338 Levels: 0_0 0_1 0_10 0_100 0_101 0_102 0_103 0_104 0_105 0_106 ... None\n"
     ]
    },
    {
     "name": "stderr",
     "output_type": "stream",
     "text": [
      "Saving 6.67 x 6.67 in image\n",
      "\n",
      "Saving 6.67 x 6.67 in image\n",
      "\n",
      "Saving 6.67 x 6.67 in image\n",
      "\n",
      "Saving 6.67 x 6.67 in image\n",
      "\n"
     ]
    },
    {
     "name": "stdout",
     "output_type": "stream",
     "text": [
      "[1] 0_3\n",
      "338 Levels: 0_0 0_1 0_10 0_100 0_101 0_102 0_103 0_104 0_105 0_106 ... None\n"
     ]
    },
    {
     "name": "stderr",
     "output_type": "stream",
     "text": [
      "Saving 6.67 x 6.67 in image\n",
      "\n",
      "Saving 6.67 x 6.67 in image\n",
      "\n",
      "Saving 6.67 x 6.67 in image\n",
      "\n",
      "Saving 6.67 x 6.67 in image\n",
      "\n"
     ]
    },
    {
     "name": "stdout",
     "output_type": "stream",
     "text": [
      "[1] 1_2\n",
      "338 Levels: 0_0 0_1 0_10 0_100 0_101 0_102 0_103 0_104 0_105 0_106 ... None\n"
     ]
    },
    {
     "name": "stderr",
     "output_type": "stream",
     "text": [
      "Saving 6.67 x 6.67 in image\n",
      "\n",
      "Saving 6.67 x 6.67 in image\n",
      "\n",
      "Saving 6.67 x 6.67 in image\n",
      "\n",
      "Saving 6.67 x 6.67 in image\n",
      "\n"
     ]
    },
    {
     "name": "stdout",
     "output_type": "stream",
     "text": [
      "[1] 0_38\n",
      "338 Levels: 0_0 0_1 0_10 0_100 0_101 0_102 0_103 0_104 0_105 0_106 ... None\n"
     ]
    },
    {
     "name": "stderr",
     "output_type": "stream",
     "text": [
      "Saving 6.67 x 6.67 in image\n",
      "\n",
      "Saving 6.67 x 6.67 in image\n",
      "\n",
      "Saving 6.67 x 6.67 in image\n",
      "\n",
      "Saving 6.67 x 6.67 in image\n",
      "\n"
     ]
    },
    {
     "name": "stdout",
     "output_type": "stream",
     "text": [
      "[1] 0_26\n",
      "338 Levels: 0_0 0_1 0_10 0_100 0_101 0_102 0_103 0_104 0_105 0_106 ... None\n"
     ]
    },
    {
     "name": "stderr",
     "output_type": "stream",
     "text": [
      "Saving 6.67 x 6.67 in image\n",
      "\n",
      "Saving 6.67 x 6.67 in image\n",
      "\n",
      "Saving 6.67 x 6.67 in image\n",
      "\n",
      "Saving 6.67 x 6.67 in image\n",
      "\n"
     ]
    },
    {
     "name": "stdout",
     "output_type": "stream",
     "text": [
      "[1] 1_18\n",
      "338 Levels: 0_0 0_1 0_10 0_100 0_101 0_102 0_103 0_104 0_105 0_106 ... None\n"
     ]
    },
    {
     "name": "stderr",
     "output_type": "stream",
     "text": [
      "Saving 6.67 x 6.67 in image\n",
      "\n",
      "Saving 6.67 x 6.67 in image\n",
      "\n",
      "Saving 6.67 x 6.67 in image\n",
      "\n",
      "Saving 6.67 x 6.67 in image\n",
      "\n"
     ]
    },
    {
     "name": "stdout",
     "output_type": "stream",
     "text": [
      "[1] 1_11\n",
      "338 Levels: 0_0 0_1 0_10 0_100 0_101 0_102 0_103 0_104 0_105 0_106 ... None\n"
     ]
    },
    {
     "name": "stderr",
     "output_type": "stream",
     "text": [
      "Saving 6.67 x 6.67 in image\n",
      "\n",
      "Saving 6.67 x 6.67 in image\n",
      "\n",
      "Saving 6.67 x 6.67 in image\n",
      "\n",
      "Saving 6.67 x 6.67 in image\n",
      "\n"
     ]
    },
    {
     "name": "stdout",
     "output_type": "stream",
     "text": [
      "[1] 0_115\n",
      "338 Levels: 0_0 0_1 0_10 0_100 0_101 0_102 0_103 0_104 0_105 0_106 ... None\n"
     ]
    },
    {
     "name": "stderr",
     "output_type": "stream",
     "text": [
      "Saving 6.67 x 6.67 in image\n",
      "\n",
      "Saving 6.67 x 6.67 in image\n",
      "\n",
      "Saving 6.67 x 6.67 in image\n",
      "\n",
      "Saving 6.67 x 6.67 in image\n",
      "\n"
     ]
    },
    {
     "name": "stdout",
     "output_type": "stream",
     "text": [
      "[1] 0_16\n",
      "338 Levels: 0_0 0_1 0_10 0_100 0_101 0_102 0_103 0_104 0_105 0_106 ... None\n"
     ]
    },
    {
     "name": "stderr",
     "output_type": "stream",
     "text": [
      "Saving 6.67 x 6.67 in image\n",
      "\n",
      "Saving 6.67 x 6.67 in image\n",
      "\n",
      "Saving 6.67 x 6.67 in image\n",
      "\n",
      "Saving 6.67 x 6.67 in image\n",
      "\n"
     ]
    },
    {
     "name": "stdout",
     "output_type": "stream",
     "text": [
      "[1] 1_7\n",
      "338 Levels: 0_0 0_1 0_10 0_100 0_101 0_102 0_103 0_104 0_105 0_106 ... None\n"
     ]
    },
    {
     "name": "stderr",
     "output_type": "stream",
     "text": [
      "Saving 6.67 x 6.67 in image\n",
      "\n",
      "Saving 6.67 x 6.67 in image\n",
      "\n",
      "Saving 6.67 x 6.67 in image\n",
      "\n",
      "Saving 6.67 x 6.67 in image\n",
      "\n"
     ]
    },
    {
     "name": "stdout",
     "output_type": "stream",
     "text": [
      "[1] 1_107\n",
      "338 Levels: 0_0 0_1 0_10 0_100 0_101 0_102 0_103 0_104 0_105 0_106 ... None\n"
     ]
    },
    {
     "name": "stderr",
     "output_type": "stream",
     "text": [
      "Saving 6.67 x 6.67 in image\n",
      "\n",
      "Saving 6.67 x 6.67 in image\n",
      "\n",
      "Saving 6.67 x 6.67 in image\n",
      "\n",
      "Saving 6.67 x 6.67 in image\n",
      "\n"
     ]
    },
    {
     "name": "stdout",
     "output_type": "stream",
     "text": [
      "[1] 1_105\n",
      "338 Levels: 0_0 0_1 0_10 0_100 0_101 0_102 0_103 0_104 0_105 0_106 ... None\n"
     ]
    },
    {
     "name": "stderr",
     "output_type": "stream",
     "text": [
      "Saving 6.67 x 6.67 in image\n",
      "\n",
      "Saving 6.67 x 6.67 in image\n",
      "\n",
      "Saving 6.67 x 6.67 in image\n",
      "\n",
      "Saving 6.67 x 6.67 in image\n",
      "\n"
     ]
    },
    {
     "name": "stdout",
     "output_type": "stream",
     "text": [
      "[1] 1_25\n",
      "338 Levels: 0_0 0_1 0_10 0_100 0_101 0_102 0_103 0_104 0_105 0_106 ... None\n"
     ]
    },
    {
     "name": "stderr",
     "output_type": "stream",
     "text": [
      "Saving 6.67 x 6.67 in image\n",
      "\n",
      "Saving 6.67 x 6.67 in image\n",
      "\n",
      "Saving 6.67 x 6.67 in image\n",
      "\n",
      "Saving 6.67 x 6.67 in image\n",
      "\n"
     ]
    },
    {
     "name": "stdout",
     "output_type": "stream",
     "text": [
      "[1] 0_6\n",
      "338 Levels: 0_0 0_1 0_10 0_100 0_101 0_102 0_103 0_104 0_105 0_106 ... None\n"
     ]
    },
    {
     "name": "stderr",
     "output_type": "stream",
     "text": [
      "Saving 6.67 x 6.67 in image\n",
      "\n",
      "Saving 6.67 x 6.67 in image\n",
      "\n",
      "Saving 6.67 x 6.67 in image\n",
      "\n",
      "Saving 6.67 x 6.67 in image\n",
      "\n"
     ]
    },
    {
     "name": "stdout",
     "output_type": "stream",
     "text": [
      "[1] 0_42\n",
      "338 Levels: 0_0 0_1 0_10 0_100 0_101 0_102 0_103 0_104 0_105 0_106 ... None\n"
     ]
    },
    {
     "name": "stderr",
     "output_type": "stream",
     "text": [
      "Saving 6.67 x 6.67 in image\n",
      "\n",
      "Saving 6.67 x 6.67 in image\n",
      "\n",
      "Saving 6.67 x 6.67 in image\n",
      "\n",
      "Saving 6.67 x 6.67 in image\n",
      "\n"
     ]
    },
    {
     "name": "stdout",
     "output_type": "stream",
     "text": [
      "[1] 1_37\n",
      "338 Levels: 0_0 0_1 0_10 0_100 0_101 0_102 0_103 0_104 0_105 0_106 ... None\n"
     ]
    },
    {
     "name": "stderr",
     "output_type": "stream",
     "text": [
      "Saving 6.67 x 6.67 in image\n",
      "\n",
      "Saving 6.67 x 6.67 in image\n",
      "\n",
      "Saving 6.67 x 6.67 in image\n",
      "\n",
      "Saving 6.67 x 6.67 in image\n",
      "\n"
     ]
    },
    {
     "name": "stdout",
     "output_type": "stream",
     "text": [
      "[1] 1_6\n",
      "338 Levels: 0_0 0_1 0_10 0_100 0_101 0_102 0_103 0_104 0_105 0_106 ... None\n"
     ]
    },
    {
     "name": "stderr",
     "output_type": "stream",
     "text": [
      "Saving 6.67 x 6.67 in image\n",
      "\n",
      "Saving 6.67 x 6.67 in image\n",
      "\n",
      "Saving 6.67 x 6.67 in image\n",
      "\n",
      "Saving 6.67 x 6.67 in image\n",
      "\n"
     ]
    },
    {
     "name": "stdout",
     "output_type": "stream",
     "text": [
      "[1] 1_15\n",
      "338 Levels: 0_0 0_1 0_10 0_100 0_101 0_102 0_103 0_104 0_105 0_106 ... None\n"
     ]
    },
    {
     "name": "stderr",
     "output_type": "stream",
     "text": [
      "Saving 6.67 x 6.67 in image\n",
      "\n",
      "Saving 6.67 x 6.67 in image\n",
      "\n",
      "Saving 6.67 x 6.67 in image\n",
      "\n",
      "Saving 6.67 x 6.67 in image\n",
      "\n"
     ]
    },
    {
     "name": "stdout",
     "output_type": "stream",
     "text": [
      "[1] 1_144\n",
      "338 Levels: 0_0 0_1 0_10 0_100 0_101 0_102 0_103 0_104 0_105 0_106 ... None\n"
     ]
    },
    {
     "name": "stderr",
     "output_type": "stream",
     "text": [
      "Saving 6.67 x 6.67 in image\n",
      "\n",
      "Saving 6.67 x 6.67 in image\n",
      "\n",
      "Saving 6.67 x 6.67 in image\n",
      "\n",
      "Saving 6.67 x 6.67 in image\n",
      "\n"
     ]
    },
    {
     "name": "stdout",
     "output_type": "stream",
     "text": [
      "[1] 1_153\n",
      "338 Levels: 0_0 0_1 0_10 0_100 0_101 0_102 0_103 0_104 0_105 0_106 ... None\n"
     ]
    },
    {
     "name": "stderr",
     "output_type": "stream",
     "text": [
      "Saving 6.67 x 6.67 in image\n",
      "\n",
      "Saving 6.67 x 6.67 in image\n",
      "\n",
      "Saving 6.67 x 6.67 in image\n",
      "\n",
      "Saving 6.67 x 6.67 in image\n",
      "\n"
     ]
    },
    {
     "name": "stdout",
     "output_type": "stream",
     "text": [
      "[1] 0_52\n",
      "338 Levels: 0_0 0_1 0_10 0_100 0_101 0_102 0_103 0_104 0_105 0_106 ... None\n"
     ]
    },
    {
     "name": "stderr",
     "output_type": "stream",
     "text": [
      "Saving 6.67 x 6.67 in image\n",
      "\n",
      "Saving 6.67 x 6.67 in image\n",
      "\n",
      "Saving 6.67 x 6.67 in image\n",
      "\n",
      "Saving 6.67 x 6.67 in image\n",
      "\n"
     ]
    },
    {
     "name": "stdout",
     "output_type": "stream",
     "text": [
      "[1] 1_149\n",
      "338 Levels: 0_0 0_1 0_10 0_100 0_101 0_102 0_103 0_104 0_105 0_106 ... None\n"
     ]
    },
    {
     "name": "stderr",
     "output_type": "stream",
     "text": [
      "Saving 6.67 x 6.67 in image\n",
      "\n",
      "Saving 6.67 x 6.67 in image\n",
      "\n",
      "Saving 6.67 x 6.67 in image\n",
      "\n",
      "Saving 6.67 x 6.67 in image\n",
      "\n"
     ]
    },
    {
     "name": "stdout",
     "output_type": "stream",
     "text": [
      "[1] 0_111\n",
      "338 Levels: 0_0 0_1 0_10 0_100 0_101 0_102 0_103 0_104 0_105 0_106 ... None\n"
     ]
    },
    {
     "name": "stderr",
     "output_type": "stream",
     "text": [
      "Saving 6.67 x 6.67 in image\n",
      "\n",
      "Saving 6.67 x 6.67 in image\n",
      "\n",
      "Saving 6.67 x 6.67 in image\n",
      "\n",
      "Saving 6.67 x 6.67 in image\n",
      "\n"
     ]
    },
    {
     "name": "stdout",
     "output_type": "stream",
     "text": [
      "[1] 1_29\n",
      "338 Levels: 0_0 0_1 0_10 0_100 0_101 0_102 0_103 0_104 0_105 0_106 ... None\n"
     ]
    },
    {
     "name": "stderr",
     "output_type": "stream",
     "text": [
      "Saving 6.67 x 6.67 in image\n",
      "\n",
      "Saving 6.67 x 6.67 in image\n",
      "\n",
      "Saving 6.67 x 6.67 in image\n",
      "\n",
      "Saving 6.67 x 6.67 in image\n",
      "\n"
     ]
    },
    {
     "name": "stdout",
     "output_type": "stream",
     "text": [
      "[1] 1_50\n",
      "338 Levels: 0_0 0_1 0_10 0_100 0_101 0_102 0_103 0_104 0_105 0_106 ... None\n"
     ]
    },
    {
     "name": "stderr",
     "output_type": "stream",
     "text": [
      "Saving 6.67 x 6.67 in image\n",
      "\n",
      "Saving 6.67 x 6.67 in image\n",
      "\n",
      "Saving 6.67 x 6.67 in image\n",
      "\n",
      "Saving 6.67 x 6.67 in image\n",
      "\n"
     ]
    },
    {
     "name": "stdout",
     "output_type": "stream",
     "text": [
      "[1] 1_10\n",
      "338 Levels: 0_0 0_1 0_10 0_100 0_101 0_102 0_103 0_104 0_105 0_106 ... None\n"
     ]
    },
    {
     "name": "stderr",
     "output_type": "stream",
     "text": [
      "Saving 6.67 x 6.67 in image\n",
      "\n",
      "Saving 6.67 x 6.67 in image\n",
      "\n",
      "Saving 6.67 x 6.67 in image\n",
      "\n",
      "Saving 6.67 x 6.67 in image\n",
      "\n"
     ]
    },
    {
     "name": "stdout",
     "output_type": "stream",
     "text": [
      "[1] 0_48\n",
      "338 Levels: 0_0 0_1 0_10 0_100 0_101 0_102 0_103 0_104 0_105 0_106 ... None\n"
     ]
    },
    {
     "name": "stderr",
     "output_type": "stream",
     "text": [
      "Saving 6.67 x 6.67 in image\n",
      "\n",
      "Saving 6.67 x 6.67 in image\n",
      "\n",
      "Saving 6.67 x 6.67 in image\n",
      "\n",
      "Saving 6.67 x 6.67 in image\n",
      "\n"
     ]
    },
    {
     "name": "stdout",
     "output_type": "stream",
     "text": [
      "[1] 1_76\n",
      "338 Levels: 0_0 0_1 0_10 0_100 0_101 0_102 0_103 0_104 0_105 0_106 ... None\n"
     ]
    },
    {
     "name": "stderr",
     "output_type": "stream",
     "text": [
      "Saving 6.67 x 6.67 in image\n",
      "\n",
      "Saving 6.67 x 6.67 in image\n",
      "\n",
      "Saving 6.67 x 6.67 in image\n",
      "\n",
      "Saving 6.67 x 6.67 in image\n",
      "\n"
     ]
    },
    {
     "name": "stdout",
     "output_type": "stream",
     "text": [
      "[1] 0_94\n",
      "338 Levels: 0_0 0_1 0_10 0_100 0_101 0_102 0_103 0_104 0_105 0_106 ... None\n"
     ]
    },
    {
     "name": "stderr",
     "output_type": "stream",
     "text": [
      "Saving 6.67 x 6.67 in image\n",
      "\n",
      "Saving 6.67 x 6.67 in image\n",
      "\n",
      "Saving 6.67 x 6.67 in image\n",
      "\n",
      "Saving 6.67 x 6.67 in image\n",
      "\n"
     ]
    },
    {
     "name": "stdout",
     "output_type": "stream",
     "text": [
      "[1] 1_115\n",
      "338 Levels: 0_0 0_1 0_10 0_100 0_101 0_102 0_103 0_104 0_105 0_106 ... None\n"
     ]
    },
    {
     "name": "stderr",
     "output_type": "stream",
     "text": [
      "Saving 6.67 x 6.67 in image\n",
      "\n",
      "Saving 6.67 x 6.67 in image\n",
      "\n",
      "Saving 6.67 x 6.67 in image\n",
      "\n",
      "Saving 6.67 x 6.67 in image\n",
      "\n"
     ]
    },
    {
     "name": "stdout",
     "output_type": "stream",
     "text": [
      "[1] 0_18\n",
      "338 Levels: 0_0 0_1 0_10 0_100 0_101 0_102 0_103 0_104 0_105 0_106 ... None\n"
     ]
    },
    {
     "name": "stderr",
     "output_type": "stream",
     "text": [
      "Saving 6.67 x 6.67 in image\n",
      "\n",
      "Saving 6.67 x 6.67 in image\n",
      "\n",
      "Saving 6.67 x 6.67 in image\n",
      "\n",
      "Saving 6.67 x 6.67 in image\n",
      "\n"
     ]
    },
    {
     "name": "stdout",
     "output_type": "stream",
     "text": [
      "[1] 1_132\n",
      "338 Levels: 0_0 0_1 0_10 0_100 0_101 0_102 0_103 0_104 0_105 0_106 ... None\n"
     ]
    },
    {
     "name": "stderr",
     "output_type": "stream",
     "text": [
      "Saving 6.67 x 6.67 in image\n",
      "\n",
      "Saving 6.67 x 6.67 in image\n",
      "\n",
      "Saving 6.67 x 6.67 in image\n",
      "\n",
      "Saving 6.67 x 6.67 in image\n",
      "\n"
     ]
    },
    {
     "name": "stdout",
     "output_type": "stream",
     "text": [
      "[1] 1_28\n",
      "338 Levels: 0_0 0_1 0_10 0_100 0_101 0_102 0_103 0_104 0_105 0_106 ... None\n"
     ]
    },
    {
     "name": "stderr",
     "output_type": "stream",
     "text": [
      "Saving 6.67 x 6.67 in image\n",
      "\n",
      "Saving 6.67 x 6.67 in image\n",
      "\n",
      "Saving 6.67 x 6.67 in image\n",
      "\n",
      "Saving 6.67 x 6.67 in image\n",
      "\n"
     ]
    },
    {
     "name": "stdout",
     "output_type": "stream",
     "text": [
      "[1] 0_17\n",
      "338 Levels: 0_0 0_1 0_10 0_100 0_101 0_102 0_103 0_104 0_105 0_106 ... None\n"
     ]
    },
    {
     "name": "stderr",
     "output_type": "stream",
     "text": [
      "Saving 6.67 x 6.67 in image\n",
      "\n",
      "Saving 6.67 x 6.67 in image\n",
      "\n",
      "Saving 6.67 x 6.67 in image\n",
      "\n",
      "Saving 6.67 x 6.67 in image\n",
      "\n"
     ]
    },
    {
     "name": "stdout",
     "output_type": "stream",
     "text": [
      "[1] 1_77\n",
      "338 Levels: 0_0 0_1 0_10 0_100 0_101 0_102 0_103 0_104 0_105 0_106 ... None\n"
     ]
    },
    {
     "name": "stderr",
     "output_type": "stream",
     "text": [
      "Saving 6.67 x 6.67 in image\n",
      "\n",
      "Saving 6.67 x 6.67 in image\n",
      "\n",
      "Saving 6.67 x 6.67 in image\n",
      "\n",
      "Saving 6.67 x 6.67 in image\n",
      "\n"
     ]
    },
    {
     "name": "stdout",
     "output_type": "stream",
     "text": [
      "[1] 1_164\n",
      "338 Levels: 0_0 0_1 0_10 0_100 0_101 0_102 0_103 0_104 0_105 0_106 ... None\n"
     ]
    },
    {
     "name": "stderr",
     "output_type": "stream",
     "text": [
      "Saving 6.67 x 6.67 in image\n",
      "\n",
      "Saving 6.67 x 6.67 in image\n",
      "\n",
      "Saving 6.67 x 6.67 in image\n",
      "\n",
      "Saving 6.67 x 6.67 in image\n",
      "\n"
     ]
    },
    {
     "name": "stdout",
     "output_type": "stream",
     "text": [
      "[1] 1_196\n",
      "338 Levels: 0_0 0_1 0_10 0_100 0_101 0_102 0_103 0_104 0_105 0_106 ... None\n"
     ]
    },
    {
     "name": "stderr",
     "output_type": "stream",
     "text": [
      "Saving 6.67 x 6.67 in image\n",
      "\n",
      "Saving 6.67 x 6.67 in image\n",
      "\n",
      "Saving 6.67 x 6.67 in image\n",
      "\n",
      "Saving 6.67 x 6.67 in image\n",
      "\n"
     ]
    },
    {
     "name": "stdout",
     "output_type": "stream",
     "text": [
      "[1] 1_53\n",
      "338 Levels: 0_0 0_1 0_10 0_100 0_101 0_102 0_103 0_104 0_105 0_106 ... None\n"
     ]
    },
    {
     "name": "stderr",
     "output_type": "stream",
     "text": [
      "Saving 6.67 x 6.67 in image\n",
      "\n",
      "Saving 6.67 x 6.67 in image\n",
      "\n",
      "Saving 6.67 x 6.67 in image\n",
      "\n",
      "Saving 6.67 x 6.67 in image\n",
      "\n"
     ]
    },
    {
     "name": "stdout",
     "output_type": "stream",
     "text": [
      "[1] 1_40\n",
      "338 Levels: 0_0 0_1 0_10 0_100 0_101 0_102 0_103 0_104 0_105 0_106 ... None\n"
     ]
    },
    {
     "name": "stderr",
     "output_type": "stream",
     "text": [
      "Saving 6.67 x 6.67 in image\n",
      "\n",
      "Saving 6.67 x 6.67 in image\n",
      "\n",
      "Saving 6.67 x 6.67 in image\n",
      "\n",
      "Saving 6.67 x 6.67 in image\n",
      "\n"
     ]
    },
    {
     "name": "stdout",
     "output_type": "stream",
     "text": [
      "[1] 1_113\n",
      "338 Levels: 0_0 0_1 0_10 0_100 0_101 0_102 0_103 0_104 0_105 0_106 ... None\n"
     ]
    },
    {
     "name": "stderr",
     "output_type": "stream",
     "text": [
      "Saving 6.67 x 6.67 in image\n",
      "\n",
      "Saving 6.67 x 6.67 in image\n",
      "\n",
      "Saving 6.67 x 6.67 in image\n",
      "\n",
      "Saving 6.67 x 6.67 in image\n",
      "\n"
     ]
    },
    {
     "name": "stdout",
     "output_type": "stream",
     "text": [
      "[1] 0_91\n",
      "338 Levels: 0_0 0_1 0_10 0_100 0_101 0_102 0_103 0_104 0_105 0_106 ... None\n"
     ]
    },
    {
     "name": "stderr",
     "output_type": "stream",
     "text": [
      "Saving 6.67 x 6.67 in image\n",
      "\n",
      "Saving 6.67 x 6.67 in image\n",
      "\n",
      "Saving 6.67 x 6.67 in image\n",
      "\n",
      "Saving 6.67 x 6.67 in image\n",
      "\n"
     ]
    },
    {
     "name": "stdout",
     "output_type": "stream",
     "text": [
      "[1] 0_85\n",
      "338 Levels: 0_0 0_1 0_10 0_100 0_101 0_102 0_103 0_104 0_105 0_106 ... None\n"
     ]
    },
    {
     "name": "stderr",
     "output_type": "stream",
     "text": [
      "Saving 6.67 x 6.67 in image\n",
      "\n",
      "Saving 6.67 x 6.67 in image\n",
      "\n",
      "Saving 6.67 x 6.67 in image\n",
      "\n",
      "Saving 6.67 x 6.67 in image\n",
      "\n"
     ]
    },
    {
     "name": "stdout",
     "output_type": "stream",
     "text": [
      "[1] 0_15\n",
      "338 Levels: 0_0 0_1 0_10 0_100 0_101 0_102 0_103 0_104 0_105 0_106 ... None\n"
     ]
    },
    {
     "name": "stderr",
     "output_type": "stream",
     "text": [
      "Saving 6.67 x 6.67 in image\n",
      "\n",
      "Saving 6.67 x 6.67 in image\n",
      "\n",
      "Saving 6.67 x 6.67 in image\n",
      "\n",
      "Saving 6.67 x 6.67 in image\n",
      "\n"
     ]
    },
    {
     "name": "stdout",
     "output_type": "stream",
     "text": [
      "[1] 1_20\n",
      "338 Levels: 0_0 0_1 0_10 0_100 0_101 0_102 0_103 0_104 0_105 0_106 ... None\n"
     ]
    },
    {
     "name": "stderr",
     "output_type": "stream",
     "text": [
      "Saving 6.67 x 6.67 in image\n",
      "\n",
      "Saving 6.67 x 6.67 in image\n",
      "\n",
      "Saving 6.67 x 6.67 in image\n",
      "\n",
      "Saving 6.67 x 6.67 in image\n",
      "\n"
     ]
    },
    {
     "name": "stdout",
     "output_type": "stream",
     "text": [
      "[1] 0_13\n",
      "338 Levels: 0_0 0_1 0_10 0_100 0_101 0_102 0_103 0_104 0_105 0_106 ... None\n"
     ]
    },
    {
     "name": "stderr",
     "output_type": "stream",
     "text": [
      "Saving 6.67 x 6.67 in image\n",
      "\n",
      "Saving 6.67 x 6.67 in image\n",
      "\n",
      "Saving 6.67 x 6.67 in image\n",
      "\n",
      "Saving 6.67 x 6.67 in image\n",
      "\n"
     ]
    },
    {
     "name": "stdout",
     "output_type": "stream",
     "text": [
      "[1] 1_57\n",
      "338 Levels: 0_0 0_1 0_10 0_100 0_101 0_102 0_103 0_104 0_105 0_106 ... None\n"
     ]
    },
    {
     "name": "stderr",
     "output_type": "stream",
     "text": [
      "Saving 6.67 x 6.67 in image\n",
      "\n",
      "Saving 6.67 x 6.67 in image\n",
      "\n",
      "Saving 6.67 x 6.67 in image\n",
      "\n",
      "Saving 6.67 x 6.67 in image\n",
      "\n"
     ]
    },
    {
     "name": "stdout",
     "output_type": "stream",
     "text": [
      "[1] 1_67\n",
      "338 Levels: 0_0 0_1 0_10 0_100 0_101 0_102 0_103 0_104 0_105 0_106 ... None\n"
     ]
    },
    {
     "name": "stderr",
     "output_type": "stream",
     "text": [
      "Saving 6.67 x 6.67 in image\n",
      "\n",
      "Saving 6.67 x 6.67 in image\n",
      "\n",
      "Saving 6.67 x 6.67 in image\n",
      "\n",
      "Saving 6.67 x 6.67 in image\n",
      "\n"
     ]
    },
    {
     "name": "stdout",
     "output_type": "stream",
     "text": [
      "[1] 0_82\n",
      "338 Levels: 0_0 0_1 0_10 0_100 0_101 0_102 0_103 0_104 0_105 0_106 ... None\n"
     ]
    },
    {
     "name": "stderr",
     "output_type": "stream",
     "text": [
      "Saving 6.67 x 6.67 in image\n",
      "\n",
      "Saving 6.67 x 6.67 in image\n",
      "\n",
      "Saving 6.67 x 6.67 in image\n",
      "\n",
      "Saving 6.67 x 6.67 in image\n",
      "\n"
     ]
    },
    {
     "name": "stdout",
     "output_type": "stream",
     "text": [
      "[1] 1_140\n",
      "338 Levels: 0_0 0_1 0_10 0_100 0_101 0_102 0_103 0_104 0_105 0_106 ... None\n"
     ]
    },
    {
     "name": "stderr",
     "output_type": "stream",
     "text": [
      "Saving 6.67 x 6.67 in image\n",
      "\n",
      "Saving 6.67 x 6.67 in image\n",
      "\n",
      "Saving 6.67 x 6.67 in image\n",
      "\n",
      "Saving 6.67 x 6.67 in image\n",
      "\n"
     ]
    },
    {
     "name": "stdout",
     "output_type": "stream",
     "text": [
      "[1] 1_45\n",
      "338 Levels: 0_0 0_1 0_10 0_100 0_101 0_102 0_103 0_104 0_105 0_106 ... None\n"
     ]
    },
    {
     "name": "stderr",
     "output_type": "stream",
     "text": [
      "Saving 6.67 x 6.67 in image\n",
      "\n",
      "Saving 6.67 x 6.67 in image\n",
      "\n",
      "Saving 6.67 x 6.67 in image\n",
      "\n",
      "Saving 6.67 x 6.67 in image\n",
      "\n"
     ]
    },
    {
     "name": "stdout",
     "output_type": "stream",
     "text": [
      "[1] 0_10\n",
      "338 Levels: 0_0 0_1 0_10 0_100 0_101 0_102 0_103 0_104 0_105 0_106 ... None\n"
     ]
    },
    {
     "name": "stderr",
     "output_type": "stream",
     "text": [
      "Saving 6.67 x 6.67 in image\n",
      "\n",
      "Saving 6.67 x 6.67 in image\n",
      "\n",
      "Saving 6.67 x 6.67 in image\n",
      "\n",
      "Saving 6.67 x 6.67 in image\n",
      "\n"
     ]
    },
    {
     "name": "stdout",
     "output_type": "stream",
     "text": [
      "[1] 1_43\n",
      "338 Levels: 0_0 0_1 0_10 0_100 0_101 0_102 0_103 0_104 0_105 0_106 ... None\n"
     ]
    },
    {
     "name": "stderr",
     "output_type": "stream",
     "text": [
      "Saving 6.67 x 6.67 in image\n",
      "\n",
      "Saving 6.67 x 6.67 in image\n",
      "\n",
      "Saving 6.67 x 6.67 in image\n",
      "\n",
      "Saving 6.67 x 6.67 in image\n",
      "\n"
     ]
    },
    {
     "name": "stdout",
     "output_type": "stream",
     "text": [
      "[1] 1_202\n",
      "338 Levels: 0_0 0_1 0_10 0_100 0_101 0_102 0_103 0_104 0_105 0_106 ... None\n"
     ]
    },
    {
     "name": "stderr",
     "output_type": "stream",
     "text": [
      "Saving 6.67 x 6.67 in image\n",
      "\n",
      "Saving 6.67 x 6.67 in image\n",
      "\n",
      "Saving 6.67 x 6.67 in image\n",
      "\n",
      "Saving 6.67 x 6.67 in image\n",
      "\n"
     ]
    },
    {
     "name": "stdout",
     "output_type": "stream",
     "text": [
      "[1] 0_105\n",
      "338 Levels: 0_0 0_1 0_10 0_100 0_101 0_102 0_103 0_104 0_105 0_106 ... None\n"
     ]
    },
    {
     "name": "stderr",
     "output_type": "stream",
     "text": [
      "Saving 6.67 x 6.67 in image\n",
      "\n",
      "Saving 6.67 x 6.67 in image\n",
      "\n",
      "Saving 6.67 x 6.67 in image\n",
      "\n",
      "Saving 6.67 x 6.67 in image\n",
      "\n"
     ]
    },
    {
     "name": "stdout",
     "output_type": "stream",
     "text": [
      "[1] 1_145\n",
      "338 Levels: 0_0 0_1 0_10 0_100 0_101 0_102 0_103 0_104 0_105 0_106 ... None\n"
     ]
    },
    {
     "name": "stderr",
     "output_type": "stream",
     "text": [
      "Saving 6.67 x 6.67 in image\n",
      "\n",
      "Saving 6.67 x 6.67 in image\n",
      "\n",
      "Saving 6.67 x 6.67 in image\n",
      "\n",
      "Saving 6.67 x 6.67 in image\n",
      "\n"
     ]
    },
    {
     "name": "stdout",
     "output_type": "stream",
     "text": [
      "[1] 1_19\n",
      "338 Levels: 0_0 0_1 0_10 0_100 0_101 0_102 0_103 0_104 0_105 0_106 ... None\n"
     ]
    },
    {
     "name": "stderr",
     "output_type": "stream",
     "text": [
      "Saving 6.67 x 6.67 in image\n",
      "\n",
      "Saving 6.67 x 6.67 in image\n",
      "\n",
      "Saving 6.67 x 6.67 in image\n",
      "\n",
      "Saving 6.67 x 6.67 in image\n",
      "\n"
     ]
    },
    {
     "name": "stdout",
     "output_type": "stream",
     "text": [
      "[1] 1_198\n",
      "338 Levels: 0_0 0_1 0_10 0_100 0_101 0_102 0_103 0_104 0_105 0_106 ... None\n"
     ]
    },
    {
     "name": "stderr",
     "output_type": "stream",
     "text": [
      "Saving 6.67 x 6.67 in image\n",
      "\n",
      "Saving 6.67 x 6.67 in image\n",
      "\n",
      "Saving 6.67 x 6.67 in image\n",
      "\n",
      "Saving 6.67 x 6.67 in image\n",
      "\n"
     ]
    },
    {
     "name": "stdout",
     "output_type": "stream",
     "text": [
      "[1] 0_127\n",
      "338 Levels: 0_0 0_1 0_10 0_100 0_101 0_102 0_103 0_104 0_105 0_106 ... None\n"
     ]
    },
    {
     "name": "stderr",
     "output_type": "stream",
     "text": [
      "Saving 6.67 x 6.67 in image\n",
      "\n",
      "Saving 6.67 x 6.67 in image\n",
      "\n",
      "Saving 6.67 x 6.67 in image\n",
      "\n",
      "Saving 6.67 x 6.67 in image\n",
      "\n"
     ]
    },
    {
     "name": "stdout",
     "output_type": "stream",
     "text": [
      "[1] 0_128\n",
      "338 Levels: 0_0 0_1 0_10 0_100 0_101 0_102 0_103 0_104 0_105 0_106 ... None\n"
     ]
    },
    {
     "name": "stderr",
     "output_type": "stream",
     "text": [
      "Saving 6.67 x 6.67 in image\n",
      "\n",
      "Saving 6.67 x 6.67 in image\n",
      "\n",
      "Saving 6.67 x 6.67 in image\n",
      "\n",
      "Saving 6.67 x 6.67 in image\n",
      "\n"
     ]
    },
    {
     "name": "stdout",
     "output_type": "stream",
     "text": [
      "[1] 1_12\n",
      "338 Levels: 0_0 0_1 0_10 0_100 0_101 0_102 0_103 0_104 0_105 0_106 ... None\n"
     ]
    },
    {
     "name": "stderr",
     "output_type": "stream",
     "text": [
      "Saving 6.67 x 6.67 in image\n",
      "\n",
      "Saving 6.67 x 6.67 in image\n",
      "\n",
      "Saving 6.67 x 6.67 in image\n",
      "\n",
      "Saving 6.67 x 6.67 in image\n",
      "\n"
     ]
    },
    {
     "name": "stdout",
     "output_type": "stream",
     "text": [
      "[1] 1_48\n",
      "338 Levels: 0_0 0_1 0_10 0_100 0_101 0_102 0_103 0_104 0_105 0_106 ... None\n"
     ]
    },
    {
     "name": "stderr",
     "output_type": "stream",
     "text": [
      "Saving 6.67 x 6.67 in image\n",
      "\n",
      "Saving 6.67 x 6.67 in image\n",
      "\n",
      "Saving 6.67 x 6.67 in image\n",
      "\n",
      "Saving 6.67 x 6.67 in image\n",
      "\n"
     ]
    },
    {
     "name": "stdout",
     "output_type": "stream",
     "text": [
      "[1] 1_42\n",
      "338 Levels: 0_0 0_1 0_10 0_100 0_101 0_102 0_103 0_104 0_105 0_106 ... None\n"
     ]
    },
    {
     "name": "stderr",
     "output_type": "stream",
     "text": [
      "Saving 6.67 x 6.67 in image\n",
      "\n",
      "Saving 6.67 x 6.67 in image\n",
      "\n",
      "Saving 6.67 x 6.67 in image\n",
      "\n",
      "Saving 6.67 x 6.67 in image\n",
      "\n"
     ]
    },
    {
     "name": "stdout",
     "output_type": "stream",
     "text": [
      "[1] 1_49\n",
      "338 Levels: 0_0 0_1 0_10 0_100 0_101 0_102 0_103 0_104 0_105 0_106 ... None\n"
     ]
    },
    {
     "name": "stderr",
     "output_type": "stream",
     "text": [
      "Saving 6.67 x 6.67 in image\n",
      "\n",
      "Saving 6.67 x 6.67 in image\n",
      "\n",
      "Saving 6.67 x 6.67 in image\n",
      "\n",
      "Saving 6.67 x 6.67 in image\n",
      "\n"
     ]
    },
    {
     "name": "stdout",
     "output_type": "stream",
     "text": [
      "[1] 1_128\n",
      "338 Levels: 0_0 0_1 0_10 0_100 0_101 0_102 0_103 0_104 0_105 0_106 ... None\n"
     ]
    },
    {
     "name": "stderr",
     "output_type": "stream",
     "text": [
      "Saving 6.67 x 6.67 in image\n",
      "\n",
      "Saving 6.67 x 6.67 in image\n",
      "\n",
      "Saving 6.67 x 6.67 in image\n",
      "\n",
      "Saving 6.67 x 6.67 in image\n",
      "\n"
     ]
    },
    {
     "name": "stdout",
     "output_type": "stream",
     "text": [
      "[1] 0_29\n",
      "338 Levels: 0_0 0_1 0_10 0_100 0_101 0_102 0_103 0_104 0_105 0_106 ... None\n"
     ]
    },
    {
     "name": "stderr",
     "output_type": "stream",
     "text": [
      "Saving 6.67 x 6.67 in image\n",
      "\n",
      "Saving 6.67 x 6.67 in image\n",
      "\n",
      "Saving 6.67 x 6.67 in image\n",
      "\n",
      "Saving 6.67 x 6.67 in image\n",
      "\n"
     ]
    },
    {
     "name": "stdout",
     "output_type": "stream",
     "text": [
      "[1] 0_117\n",
      "338 Levels: 0_0 0_1 0_10 0_100 0_101 0_102 0_103 0_104 0_105 0_106 ... None\n"
     ]
    },
    {
     "name": "stderr",
     "output_type": "stream",
     "text": [
      "Saving 6.67 x 6.67 in image\n",
      "\n",
      "Saving 6.67 x 6.67 in image\n",
      "\n",
      "Saving 6.67 x 6.67 in image\n",
      "\n",
      "Saving 6.67 x 6.67 in image\n",
      "\n"
     ]
    },
    {
     "name": "stdout",
     "output_type": "stream",
     "text": [
      "[1] 1_79\n",
      "338 Levels: 0_0 0_1 0_10 0_100 0_101 0_102 0_103 0_104 0_105 0_106 ... None\n"
     ]
    },
    {
     "name": "stderr",
     "output_type": "stream",
     "text": [
      "Saving 6.67 x 6.67 in image\n",
      "\n",
      "Saving 6.67 x 6.67 in image\n",
      "\n",
      "Saving 6.67 x 6.67 in image\n",
      "\n",
      "Saving 6.67 x 6.67 in image\n",
      "\n"
     ]
    },
    {
     "name": "stdout",
     "output_type": "stream",
     "text": [
      "[1] 0_93\n",
      "338 Levels: 0_0 0_1 0_10 0_100 0_101 0_102 0_103 0_104 0_105 0_106 ... None\n"
     ]
    },
    {
     "name": "stderr",
     "output_type": "stream",
     "text": [
      "Saving 6.67 x 6.67 in image\n",
      "\n",
      "Saving 6.67 x 6.67 in image\n",
      "\n",
      "Saving 6.67 x 6.67 in image\n",
      "\n",
      "Saving 6.67 x 6.67 in image\n",
      "\n"
     ]
    },
    {
     "name": "stdout",
     "output_type": "stream",
     "text": [
      "[1] 1_83\n",
      "338 Levels: 0_0 0_1 0_10 0_100 0_101 0_102 0_103 0_104 0_105 0_106 ... None\n"
     ]
    },
    {
     "name": "stderr",
     "output_type": "stream",
     "text": [
      "Saving 6.67 x 6.67 in image\n",
      "\n",
      "Saving 6.67 x 6.67 in image\n",
      "\n",
      "Saving 6.67 x 6.67 in image\n",
      "\n",
      "Saving 6.67 x 6.67 in image\n",
      "\n"
     ]
    },
    {
     "name": "stdout",
     "output_type": "stream",
     "text": [
      "[1] 1_59\n",
      "338 Levels: 0_0 0_1 0_10 0_100 0_101 0_102 0_103 0_104 0_105 0_106 ... None\n"
     ]
    },
    {
     "name": "stderr",
     "output_type": "stream",
     "text": [
      "Saving 6.67 x 6.67 in image\n",
      "\n",
      "Saving 6.67 x 6.67 in image\n",
      "\n",
      "Saving 6.67 x 6.67 in image\n",
      "\n",
      "Saving 6.67 x 6.67 in image\n",
      "\n"
     ]
    },
    {
     "name": "stdout",
     "output_type": "stream",
     "text": [
      "[1] 0_63\n",
      "338 Levels: 0_0 0_1 0_10 0_100 0_101 0_102 0_103 0_104 0_105 0_106 ... None\n"
     ]
    },
    {
     "name": "stderr",
     "output_type": "stream",
     "text": [
      "Saving 6.67 x 6.67 in image\n",
      "\n",
      "Saving 6.67 x 6.67 in image\n",
      "\n",
      "Saving 6.67 x 6.67 in image\n",
      "\n",
      "Saving 6.67 x 6.67 in image\n",
      "\n"
     ]
    },
    {
     "name": "stdout",
     "output_type": "stream",
     "text": [
      "[1] 1_80\n",
      "338 Levels: 0_0 0_1 0_10 0_100 0_101 0_102 0_103 0_104 0_105 0_106 ... None\n"
     ]
    },
    {
     "name": "stderr",
     "output_type": "stream",
     "text": [
      "Saving 6.67 x 6.67 in image\n",
      "\n",
      "Saving 6.67 x 6.67 in image\n",
      "\n",
      "Saving 6.67 x 6.67 in image\n",
      "\n",
      "Saving 6.67 x 6.67 in image\n",
      "\n"
     ]
    },
    {
     "name": "stdout",
     "output_type": "stream",
     "text": [
      "[1] 1_133\n",
      "338 Levels: 0_0 0_1 0_10 0_100 0_101 0_102 0_103 0_104 0_105 0_106 ... None\n"
     ]
    },
    {
     "name": "stderr",
     "output_type": "stream",
     "text": [
      "Saving 6.67 x 6.67 in image\n",
      "\n",
      "Saving 6.67 x 6.67 in image\n",
      "\n",
      "Saving 6.67 x 6.67 in image\n",
      "\n",
      "Saving 6.67 x 6.67 in image\n",
      "\n"
     ]
    },
    {
     "name": "stdout",
     "output_type": "stream",
     "text": [
      "[1] 1_52\n",
      "338 Levels: 0_0 0_1 0_10 0_100 0_101 0_102 0_103 0_104 0_105 0_106 ... None\n"
     ]
    },
    {
     "name": "stderr",
     "output_type": "stream",
     "text": [
      "Saving 6.67 x 6.67 in image\n",
      "\n",
      "Saving 6.67 x 6.67 in image\n",
      "\n",
      "Saving 6.67 x 6.67 in image\n",
      "\n",
      "Saving 6.67 x 6.67 in image\n",
      "\n"
     ]
    },
    {
     "name": "stdout",
     "output_type": "stream",
     "text": [
      "[1] 1_65\n",
      "338 Levels: 0_0 0_1 0_10 0_100 0_101 0_102 0_103 0_104 0_105 0_106 ... None\n"
     ]
    },
    {
     "name": "stderr",
     "output_type": "stream",
     "text": [
      "Saving 6.67 x 6.67 in image\n",
      "\n",
      "Saving 6.67 x 6.67 in image\n",
      "\n",
      "Saving 6.67 x 6.67 in image\n",
      "\n",
      "Saving 6.67 x 6.67 in image\n",
      "\n"
     ]
    },
    {
     "name": "stdout",
     "output_type": "stream",
     "text": [
      "[1] 0_21\n",
      "338 Levels: 0_0 0_1 0_10 0_100 0_101 0_102 0_103 0_104 0_105 0_106 ... None\n"
     ]
    },
    {
     "name": "stderr",
     "output_type": "stream",
     "text": [
      "Saving 6.67 x 6.67 in image\n",
      "\n",
      "Saving 6.67 x 6.67 in image\n",
      "\n",
      "Saving 6.67 x 6.67 in image\n",
      "\n",
      "Saving 6.67 x 6.67 in image\n",
      "\n"
     ]
    },
    {
     "name": "stdout",
     "output_type": "stream",
     "text": [
      "[1] 1_56\n",
      "338 Levels: 0_0 0_1 0_10 0_100 0_101 0_102 0_103 0_104 0_105 0_106 ... None\n"
     ]
    },
    {
     "name": "stderr",
     "output_type": "stream",
     "text": [
      "Saving 6.67 x 6.67 in image\n",
      "\n",
      "Saving 6.67 x 6.67 in image\n",
      "\n",
      "Saving 6.67 x 6.67 in image\n",
      "\n",
      "Saving 6.67 x 6.67 in image\n",
      "\n"
     ]
    },
    {
     "name": "stdout",
     "output_type": "stream",
     "text": [
      "[1] 1_14\n",
      "338 Levels: 0_0 0_1 0_10 0_100 0_101 0_102 0_103 0_104 0_105 0_106 ... None\n"
     ]
    },
    {
     "name": "stderr",
     "output_type": "stream",
     "text": [
      "Saving 6.67 x 6.67 in image\n",
      "\n",
      "Saving 6.67 x 6.67 in image\n",
      "\n",
      "Saving 6.67 x 6.67 in image\n",
      "\n",
      "Saving 6.67 x 6.67 in image\n",
      "\n"
     ]
    },
    {
     "name": "stdout",
     "output_type": "stream",
     "text": [
      "[1] 1_27\n",
      "338 Levels: 0_0 0_1 0_10 0_100 0_101 0_102 0_103 0_104 0_105 0_106 ... None\n"
     ]
    },
    {
     "name": "stderr",
     "output_type": "stream",
     "text": [
      "Saving 6.67 x 6.67 in image\n",
      "\n",
      "Saving 6.67 x 6.67 in image\n",
      "\n",
      "Saving 6.67 x 6.67 in image\n",
      "\n",
      "Saving 6.67 x 6.67 in image\n",
      "\n"
     ]
    },
    {
     "name": "stdout",
     "output_type": "stream",
     "text": [
      "[1] 0_32\n",
      "338 Levels: 0_0 0_1 0_10 0_100 0_101 0_102 0_103 0_104 0_105 0_106 ... None\n"
     ]
    },
    {
     "name": "stderr",
     "output_type": "stream",
     "text": [
      "Saving 6.67 x 6.67 in image\n",
      "\n",
      "Saving 6.67 x 6.67 in image\n",
      "\n",
      "Saving 6.67 x 6.67 in image\n",
      "\n",
      "Saving 6.67 x 6.67 in image\n",
      "\n"
     ]
    },
    {
     "name": "stdout",
     "output_type": "stream",
     "text": [
      "[1] 0_30\n",
      "338 Levels: 0_0 0_1 0_10 0_100 0_101 0_102 0_103 0_104 0_105 0_106 ... None\n"
     ]
    },
    {
     "name": "stderr",
     "output_type": "stream",
     "text": [
      "Saving 6.67 x 6.67 in image\n",
      "\n",
      "Saving 6.67 x 6.67 in image\n",
      "\n",
      "Saving 6.67 x 6.67 in image\n",
      "\n",
      "Saving 6.67 x 6.67 in image\n",
      "\n"
     ]
    },
    {
     "name": "stdout",
     "output_type": "stream",
     "text": [
      "[1] 1_188\n",
      "338 Levels: 0_0 0_1 0_10 0_100 0_101 0_102 0_103 0_104 0_105 0_106 ... None\n"
     ]
    },
    {
     "name": "stderr",
     "output_type": "stream",
     "text": [
      "Saving 6.67 x 6.67 in image\n",
      "\n",
      "Saving 6.67 x 6.67 in image\n",
      "\n",
      "Saving 6.67 x 6.67 in image\n",
      "\n",
      "Saving 6.67 x 6.67 in image\n",
      "\n"
     ]
    },
    {
     "name": "stdout",
     "output_type": "stream",
     "text": [
      "[1] 0_33\n",
      "338 Levels: 0_0 0_1 0_10 0_100 0_101 0_102 0_103 0_104 0_105 0_106 ... None\n"
     ]
    },
    {
     "name": "stderr",
     "output_type": "stream",
     "text": [
      "Saving 6.67 x 6.67 in image\n",
      "\n",
      "Saving 6.67 x 6.67 in image\n",
      "\n",
      "Saving 6.67 x 6.67 in image\n",
      "\n",
      "Saving 6.67 x 6.67 in image\n",
      "\n"
     ]
    },
    {
     "name": "stdout",
     "output_type": "stream",
     "text": [
      "[1] 1_13\n",
      "338 Levels: 0_0 0_1 0_10 0_100 0_101 0_102 0_103 0_104 0_105 0_106 ... None\n"
     ]
    },
    {
     "name": "stderr",
     "output_type": "stream",
     "text": [
      "Saving 6.67 x 6.67 in image\n",
      "\n",
      "Saving 6.67 x 6.67 in image\n",
      "\n",
      "Saving 6.67 x 6.67 in image\n",
      "\n",
      "Saving 6.67 x 6.67 in image\n",
      "\n"
     ]
    },
    {
     "name": "stdout",
     "output_type": "stream",
     "text": [
      "[1] 1_55\n",
      "338 Levels: 0_0 0_1 0_10 0_100 0_101 0_102 0_103 0_104 0_105 0_106 ... None\n"
     ]
    },
    {
     "name": "stderr",
     "output_type": "stream",
     "text": [
      "Saving 6.67 x 6.67 in image\n",
      "\n",
      "Saving 6.67 x 6.67 in image\n",
      "\n",
      "Saving 6.67 x 6.67 in image\n",
      "\n",
      "Saving 6.67 x 6.67 in image\n",
      "\n"
     ]
    },
    {
     "name": "stdout",
     "output_type": "stream",
     "text": [
      "[1] 1_16\n",
      "338 Levels: 0_0 0_1 0_10 0_100 0_101 0_102 0_103 0_104 0_105 0_106 ... None\n"
     ]
    },
    {
     "name": "stderr",
     "output_type": "stream",
     "text": [
      "Saving 6.67 x 6.67 in image\n",
      "\n",
      "Saving 6.67 x 6.67 in image\n",
      "\n",
      "Saving 6.67 x 6.67 in image\n",
      "\n",
      "Saving 6.67 x 6.67 in image\n",
      "\n"
     ]
    },
    {
     "name": "stdout",
     "output_type": "stream",
     "text": [
      "[1] 1_129\n",
      "338 Levels: 0_0 0_1 0_10 0_100 0_101 0_102 0_103 0_104 0_105 0_106 ... None\n"
     ]
    },
    {
     "name": "stderr",
     "output_type": "stream",
     "text": [
      "Saving 6.67 x 6.67 in image\n",
      "\n",
      "Saving 6.67 x 6.67 in image\n",
      "\n",
      "Saving 6.67 x 6.67 in image\n",
      "\n",
      "Saving 6.67 x 6.67 in image\n",
      "\n"
     ]
    },
    {
     "name": "stdout",
     "output_type": "stream",
     "text": [
      "[1] 1_87\n",
      "338 Levels: 0_0 0_1 0_10 0_100 0_101 0_102 0_103 0_104 0_105 0_106 ... None\n"
     ]
    },
    {
     "name": "stderr",
     "output_type": "stream",
     "text": [
      "Saving 6.67 x 6.67 in image\n",
      "\n",
      "Saving 6.67 x 6.67 in image\n",
      "\n",
      "Saving 6.67 x 6.67 in image\n",
      "\n",
      "Saving 6.67 x 6.67 in image\n",
      "\n"
     ]
    },
    {
     "name": "stdout",
     "output_type": "stream",
     "text": [
      "[1] 1_120\n",
      "338 Levels: 0_0 0_1 0_10 0_100 0_101 0_102 0_103 0_104 0_105 0_106 ... None\n"
     ]
    },
    {
     "name": "stderr",
     "output_type": "stream",
     "text": [
      "Saving 6.67 x 6.67 in image\n",
      "\n",
      "Saving 6.67 x 6.67 in image\n",
      "\n",
      "Saving 6.67 x 6.67 in image\n",
      "\n",
      "Saving 6.67 x 6.67 in image\n",
      "\n"
     ]
    },
    {
     "name": "stdout",
     "output_type": "stream",
     "text": [
      "[1] 1_182\n",
      "338 Levels: 0_0 0_1 0_10 0_100 0_101 0_102 0_103 0_104 0_105 0_106 ... None\n"
     ]
    },
    {
     "name": "stderr",
     "output_type": "stream",
     "text": [
      "Saving 6.67 x 6.67 in image\n",
      "\n",
      "Saving 6.67 x 6.67 in image\n",
      "\n",
      "Saving 6.67 x 6.67 in image\n",
      "\n",
      "Saving 6.67 x 6.67 in image\n",
      "\n"
     ]
    },
    {
     "name": "stdout",
     "output_type": "stream",
     "text": [
      "[1] 1_110\n",
      "338 Levels: 0_0 0_1 0_10 0_100 0_101 0_102 0_103 0_104 0_105 0_106 ... None\n"
     ]
    },
    {
     "name": "stderr",
     "output_type": "stream",
     "text": [
      "Saving 6.67 x 6.67 in image\n",
      "\n",
      "Saving 6.67 x 6.67 in image\n",
      "\n",
      "Saving 6.67 x 6.67 in image\n",
      "\n",
      "Saving 6.67 x 6.67 in image\n",
      "\n"
     ]
    },
    {
     "name": "stdout",
     "output_type": "stream",
     "text": [
      "[1] 1_170\n",
      "338 Levels: 0_0 0_1 0_10 0_100 0_101 0_102 0_103 0_104 0_105 0_106 ... None\n"
     ]
    },
    {
     "name": "stderr",
     "output_type": "stream",
     "text": [
      "Saving 6.67 x 6.67 in image\n",
      "\n",
      "Saving 6.67 x 6.67 in image\n",
      "\n",
      "Saving 6.67 x 6.67 in image\n",
      "\n",
      "Saving 6.67 x 6.67 in image\n",
      "\n"
     ]
    },
    {
     "name": "stdout",
     "output_type": "stream",
     "text": [
      "[1] 1_62\n",
      "338 Levels: 0_0 0_1 0_10 0_100 0_101 0_102 0_103 0_104 0_105 0_106 ... None\n"
     ]
    },
    {
     "name": "stderr",
     "output_type": "stream",
     "text": [
      "Saving 6.67 x 6.67 in image\n",
      "\n",
      "Saving 6.67 x 6.67 in image\n",
      "\n",
      "Saving 6.67 x 6.67 in image\n",
      "\n",
      "Saving 6.67 x 6.67 in image\n",
      "\n"
     ]
    },
    {
     "name": "stdout",
     "output_type": "stream",
     "text": [
      "[1] 1_26\n",
      "338 Levels: 0_0 0_1 0_10 0_100 0_101 0_102 0_103 0_104 0_105 0_106 ... None\n"
     ]
    },
    {
     "name": "stderr",
     "output_type": "stream",
     "text": [
      "Saving 6.67 x 6.67 in image\n",
      "\n",
      "Saving 6.67 x 6.67 in image\n",
      "\n",
      "Saving 6.67 x 6.67 in image\n",
      "\n",
      "Saving 6.67 x 6.67 in image\n",
      "\n"
     ]
    },
    {
     "name": "stdout",
     "output_type": "stream",
     "text": [
      "[1] 0_83\n",
      "338 Levels: 0_0 0_1 0_10 0_100 0_101 0_102 0_103 0_104 0_105 0_106 ... None\n"
     ]
    },
    {
     "name": "stderr",
     "output_type": "stream",
     "text": [
      "Saving 6.67 x 6.67 in image\n",
      "\n",
      "Saving 6.67 x 6.67 in image\n",
      "\n",
      "Saving 6.67 x 6.67 in image\n",
      "\n",
      "Saving 6.67 x 6.67 in image\n",
      "\n"
     ]
    },
    {
     "name": "stdout",
     "output_type": "stream",
     "text": [
      "[1] 0_103\n",
      "338 Levels: 0_0 0_1 0_10 0_100 0_101 0_102 0_103 0_104 0_105 0_106 ... None\n"
     ]
    },
    {
     "name": "stderr",
     "output_type": "stream",
     "text": [
      "Saving 6.67 x 6.67 in image\n",
      "\n",
      "Saving 6.67 x 6.67 in image\n",
      "\n",
      "Saving 6.67 x 6.67 in image\n",
      "\n",
      "Saving 6.67 x 6.67 in image\n",
      "\n"
     ]
    },
    {
     "name": "stdout",
     "output_type": "stream",
     "text": [
      "[1] 0_51\n",
      "338 Levels: 0_0 0_1 0_10 0_100 0_101 0_102 0_103 0_104 0_105 0_106 ... None\n"
     ]
    },
    {
     "name": "stderr",
     "output_type": "stream",
     "text": [
      "Saving 6.67 x 6.67 in image\n",
      "\n",
      "Saving 6.67 x 6.67 in image\n",
      "\n",
      "Saving 6.67 x 6.67 in image\n",
      "\n",
      "Saving 6.67 x 6.67 in image\n",
      "\n"
     ]
    },
    {
     "name": "stdout",
     "output_type": "stream",
     "text": [
      "[1] 1_35\n",
      "338 Levels: 0_0 0_1 0_10 0_100 0_101 0_102 0_103 0_104 0_105 0_106 ... None\n"
     ]
    },
    {
     "name": "stderr",
     "output_type": "stream",
     "text": [
      "Saving 6.67 x 6.67 in image\n",
      "\n",
      "Saving 6.67 x 6.67 in image\n",
      "\n",
      "Saving 6.67 x 6.67 in image\n",
      "\n",
      "Saving 6.67 x 6.67 in image\n",
      "\n"
     ]
    },
    {
     "name": "stdout",
     "output_type": "stream",
     "text": [
      "[1] 1_72\n",
      "338 Levels: 0_0 0_1 0_10 0_100 0_101 0_102 0_103 0_104 0_105 0_106 ... None\n"
     ]
    },
    {
     "name": "stderr",
     "output_type": "stream",
     "text": [
      "Saving 6.67 x 6.67 in image\n",
      "\n",
      "Saving 6.67 x 6.67 in image\n",
      "\n",
      "Saving 6.67 x 6.67 in image\n",
      "\n",
      "Saving 6.67 x 6.67 in image\n",
      "\n"
     ]
    },
    {
     "name": "stdout",
     "output_type": "stream",
     "text": [
      "[1] 0_14\n",
      "338 Levels: 0_0 0_1 0_10 0_100 0_101 0_102 0_103 0_104 0_105 0_106 ... None\n"
     ]
    },
    {
     "name": "stderr",
     "output_type": "stream",
     "text": [
      "Saving 6.67 x 6.67 in image\n",
      "\n",
      "Saving 6.67 x 6.67 in image\n",
      "\n",
      "Saving 6.67 x 6.67 in image\n",
      "\n",
      "Saving 6.67 x 6.67 in image\n",
      "\n"
     ]
    },
    {
     "name": "stdout",
     "output_type": "stream",
     "text": [
      "[1] 0_89\n",
      "338 Levels: 0_0 0_1 0_10 0_100 0_101 0_102 0_103 0_104 0_105 0_106 ... None\n"
     ]
    },
    {
     "name": "stderr",
     "output_type": "stream",
     "text": [
      "Saving 6.67 x 6.67 in image\n",
      "\n",
      "Saving 6.67 x 6.67 in image\n",
      "\n",
      "Saving 6.67 x 6.67 in image\n",
      "\n",
      "Saving 6.67 x 6.67 in image\n",
      "\n"
     ]
    },
    {
     "name": "stdout",
     "output_type": "stream",
     "text": [
      "[1] 1_109\n",
      "338 Levels: 0_0 0_1 0_10 0_100 0_101 0_102 0_103 0_104 0_105 0_106 ... None\n"
     ]
    },
    {
     "name": "stderr",
     "output_type": "stream",
     "text": [
      "Saving 6.67 x 6.67 in image\n",
      "\n",
      "Saving 6.67 x 6.67 in image\n",
      "\n",
      "Saving 6.67 x 6.67 in image\n",
      "\n",
      "Saving 6.67 x 6.67 in image\n",
      "\n"
     ]
    },
    {
     "name": "stdout",
     "output_type": "stream",
     "text": [
      "[1] 0_34\n",
      "338 Levels: 0_0 0_1 0_10 0_100 0_101 0_102 0_103 0_104 0_105 0_106 ... None\n"
     ]
    },
    {
     "name": "stderr",
     "output_type": "stream",
     "text": [
      "Saving 6.67 x 6.67 in image\n",
      "\n",
      "Saving 6.67 x 6.67 in image\n",
      "\n",
      "Saving 6.67 x 6.67 in image\n",
      "\n",
      "Saving 6.67 x 6.67 in image\n",
      "\n"
     ]
    },
    {
     "name": "stdout",
     "output_type": "stream",
     "text": [
      "[1] 0_64\n",
      "338 Levels: 0_0 0_1 0_10 0_100 0_101 0_102 0_103 0_104 0_105 0_106 ... None\n"
     ]
    },
    {
     "name": "stderr",
     "output_type": "stream",
     "text": [
      "Saving 6.67 x 6.67 in image\n",
      "\n",
      "Saving 6.67 x 6.67 in image\n",
      "\n",
      "Saving 6.67 x 6.67 in image\n",
      "\n",
      "Saving 6.67 x 6.67 in image\n",
      "\n"
     ]
    },
    {
     "name": "stdout",
     "output_type": "stream",
     "text": [
      "[1] 1_195\n",
      "338 Levels: 0_0 0_1 0_10 0_100 0_101 0_102 0_103 0_104 0_105 0_106 ... None\n"
     ]
    },
    {
     "name": "stderr",
     "output_type": "stream",
     "text": [
      "Saving 6.67 x 6.67 in image\n",
      "\n",
      "Saving 6.67 x 6.67 in image\n",
      "\n",
      "Saving 6.67 x 6.67 in image\n",
      "\n",
      "Saving 6.67 x 6.67 in image\n",
      "\n"
     ]
    },
    {
     "name": "stdout",
     "output_type": "stream",
     "text": [
      "[1] 1_142\n",
      "338 Levels: 0_0 0_1 0_10 0_100 0_101 0_102 0_103 0_104 0_105 0_106 ... None\n"
     ]
    },
    {
     "name": "stderr",
     "output_type": "stream",
     "text": [
      "Saving 6.67 x 6.67 in image\n",
      "\n",
      "Saving 6.67 x 6.67 in image\n",
      "\n",
      "Saving 6.67 x 6.67 in image\n",
      "\n",
      "Saving 6.67 x 6.67 in image\n",
      "\n"
     ]
    },
    {
     "name": "stdout",
     "output_type": "stream",
     "text": [
      "[1] 1_44\n",
      "338 Levels: 0_0 0_1 0_10 0_100 0_101 0_102 0_103 0_104 0_105 0_106 ... None\n"
     ]
    },
    {
     "name": "stderr",
     "output_type": "stream",
     "text": [
      "Saving 6.67 x 6.67 in image\n",
      "\n",
      "Saving 6.67 x 6.67 in image\n",
      "\n",
      "Saving 6.67 x 6.67 in image\n",
      "\n",
      "Saving 6.67 x 6.67 in image\n",
      "\n"
     ]
    },
    {
     "name": "stdout",
     "output_type": "stream",
     "text": [
      "[1] 1_81\n",
      "338 Levels: 0_0 0_1 0_10 0_100 0_101 0_102 0_103 0_104 0_105 0_106 ... None\n"
     ]
    },
    {
     "name": "stderr",
     "output_type": "stream",
     "text": [
      "Saving 6.67 x 6.67 in image\n",
      "\n",
      "Saving 6.67 x 6.67 in image\n",
      "\n",
      "Saving 6.67 x 6.67 in image\n",
      "\n",
      "Saving 6.67 x 6.67 in image\n",
      "\n"
     ]
    },
    {
     "name": "stdout",
     "output_type": "stream",
     "text": [
      "[1] 1_93\n",
      "338 Levels: 0_0 0_1 0_10 0_100 0_101 0_102 0_103 0_104 0_105 0_106 ... None\n"
     ]
    },
    {
     "name": "stderr",
     "output_type": "stream",
     "text": [
      "Saving 6.67 x 6.67 in image\n",
      "\n",
      "Saving 6.67 x 6.67 in image\n",
      "\n",
      "Saving 6.67 x 6.67 in image\n",
      "\n",
      "Saving 6.67 x 6.67 in image\n",
      "\n"
     ]
    },
    {
     "name": "stdout",
     "output_type": "stream",
     "text": [
      "[1] 1_75\n",
      "338 Levels: 0_0 0_1 0_10 0_100 0_101 0_102 0_103 0_104 0_105 0_106 ... None\n"
     ]
    },
    {
     "name": "stderr",
     "output_type": "stream",
     "text": [
      "Saving 6.67 x 6.67 in image\n",
      "\n",
      "Saving 6.67 x 6.67 in image\n",
      "\n",
      "Saving 6.67 x 6.67 in image\n",
      "\n",
      "Saving 6.67 x 6.67 in image\n",
      "\n"
     ]
    },
    {
     "name": "stdout",
     "output_type": "stream",
     "text": [
      "[1] 1_114\n",
      "338 Levels: 0_0 0_1 0_10 0_100 0_101 0_102 0_103 0_104 0_105 0_106 ... None\n"
     ]
    },
    {
     "name": "stderr",
     "output_type": "stream",
     "text": [
      "Saving 6.67 x 6.67 in image\n",
      "\n",
      "Saving 6.67 x 6.67 in image\n",
      "\n",
      "Saving 6.67 x 6.67 in image\n",
      "\n",
      "Saving 6.67 x 6.67 in image\n",
      "\n"
     ]
    },
    {
     "name": "stdout",
     "output_type": "stream",
     "text": [
      "[1] 0_31\n",
      "338 Levels: 0_0 0_1 0_10 0_100 0_101 0_102 0_103 0_104 0_105 0_106 ... None\n"
     ]
    },
    {
     "name": "stderr",
     "output_type": "stream",
     "text": [
      "Saving 6.67 x 6.67 in image\n",
      "\n",
      "Saving 6.67 x 6.67 in image\n",
      "\n",
      "Saving 6.67 x 6.67 in image\n",
      "\n",
      "Saving 6.67 x 6.67 in image\n",
      "\n"
     ]
    },
    {
     "name": "stdout",
     "output_type": "stream",
     "text": [
      "[1] 1_176\n",
      "338 Levels: 0_0 0_1 0_10 0_100 0_101 0_102 0_103 0_104 0_105 0_106 ... None\n"
     ]
    },
    {
     "name": "stderr",
     "output_type": "stream",
     "text": [
      "Saving 6.67 x 6.67 in image\n",
      "\n",
      "Saving 6.67 x 6.67 in image\n",
      "\n",
      "Saving 6.67 x 6.67 in image\n",
      "\n",
      "Saving 6.67 x 6.67 in image\n",
      "\n"
     ]
    },
    {
     "name": "stdout",
     "output_type": "stream",
     "text": [
      "[1] 1_148\n",
      "338 Levels: 0_0 0_1 0_10 0_100 0_101 0_102 0_103 0_104 0_105 0_106 ... None\n"
     ]
    },
    {
     "ename": "ERROR",
     "evalue": "Error in SetAssayData.ChromatinAssay(object = new.assay, slot = \"positionEnrichment\", : Position enrichment must be provided as a matrix or sparseMatrix\n",
     "output_type": "error",
     "traceback": [
      "Error in SetAssayData.ChromatinAssay(object = new.assay, slot = \"positionEnrichment\", : Position enrichment must be provided as a matrix or sparseMatrix\nTraceback:\n",
      "1. sapply(names, FUN = dimplots.conditon.f, se = se)",
      "2. lapply(X = X, FUN = FUN, ...)",
      "3. FUN(X[[i]], ...)",
      "4. DimPlot(object = subset(x = se, subset = name == cl), label = FALSE, \n .     group.by = c(\"seurat_clusters\"), shape.by = c(\"condition\"), \n .     pt.size = 2)   # at line 7-10 of file <text>",
      "5. reduction %||% DefaultDimReduc(object = object)",
      "6. DefaultDimReduc(object = object)",
      "7. UpdateSlots(object = object)",
      "8. sapply(X = slotNames(x = object), FUN = function(x) {\n .     return(tryCatch(expr = slot(object = object, name = x), error = function(...) {\n .         return(NULL)\n .     }))\n . }, simplify = FALSE, USE.NAMES = TRUE)",
      "9. lapply(X = X, FUN = FUN, ...)",
      "10. slotNames(x = object)",
      "11. is(x, \"classRepresentation\")",
      "12. subset(x = se, subset = name == cl)   # at line 7-10 of file <text>",
      "13. subset.Seurat(x = se, subset = name == cl)",
      "14. tryCatch(expr = base::subset(x = x[[assay]], cells = cells, features = assay.features), \n  .     error = function(e) {\n  .         if (e$message == \"Cannot find features provided\") {\n  .             return(NULL)\n  .         }\n  .         else {\n  .             stop(e)\n  .         }\n  .     })",
      "15. tryCatchList(expr, classes, parentenv, handlers)",
      "16. tryCatchOne(expr, names, parentenv, handlers[[1L]])",
      "17. value[[3L]](cond)"
     ]
    }
   ],
   "source": [
    "clone.umap.condition.lineage <- file.path(clone.umap.condition)\n",
    "dir.create(clone.umap.condition.lineage)\n",
    "\n",
    "dimplots.conditon.f <- function(cl, se)\n",
    "{\n",
    "    print(cl)  \n",
    "    try({\n",
    "        d <- DimPlot(object = subset(x = se, subset = name == cl), label = FALSE, \n",
    "                     group.by=c(\"seurat_clusters\"), shape.by=c(\"condition\"), pt.size=2) +\n",
    "            xlim(-1*coord-0.01,coord+0.01) +\n",
    "            ylim(-1*coord-0.01,coord+0.01)\n",
    "        ggsave(file.path(clone.umap.condition.lineage, paste0(\"clone_\", cl, \"clust_color.png\")))\n",
    "        #ggsave(file.path(clone.umap.condition.lineage, paste0(\"clone_\", cl, \"clust_color.pdf\")))\n",
    "\n",
    "        if(length(cond)>1)\n",
    "            d <- DimPlot(object = subset(x = se, subset = name == cl), label = FALSE, \n",
    "                         group.by=c(\"condition\"), pt.size=2) +\n",
    "                xlim(-1*coord-0.01,coord+0.01) +\n",
    "                ylim(-1*coord-0.01,coord+0.01)\n",
    "            ggsave(file.path(clone.umap.condition.lineage, paste0(\"clone_\", cl, \"cond_color.png\")))    \n",
    "            #ggsave(file.path(clone.umap.condition.lineage, paste0(\"clone_\", cl, \"cond_color.pdf\")))\n",
    "    })\n",
    "}\n",
    "    \n",
    "\n",
    "\n",
    "dimplots <- sapply(names, FUN=dimplots.conditon.f, se=se)\n",
    "#d <- dimplots.conditon.f(names[[10]], se) \n",
    "#d"
   ]
  },
  {
   "cell_type": "code",
   "execution_count": null,
   "id": "b567b90b",
   "metadata": {
    "scrolled": true
   },
   "outputs": [],
   "source": [
    "# dimplots.f <- function(cl, se){\n",
    "#     print(cl)\n",
    "#     d <- (DimPlot(object = subset(x = se, subset = name == cl), label = FALSE, \n",
    "#                    split.by=c(\"donor\"), group.by=(\"seurat_clusters\")))\n",
    "#     ggsave(file.path(clone.umap.condition.splitdonor, paste0(\"clone_\", cl, \".umap.png\")))\n",
    "    \n",
    "# }\n",
    "\n",
    "# clone.umap.condition.splitdonor <- file.path(clone.umap.condition, \"clone_splitbydonor\")\n",
    "# dir.create(clone.umap.condition.splitdonor)\n",
    "# dimplots <- sapply(names, FUN=dimplots.f, se=se)\n",
    "\n",
    "  "
   ]
  },
  {
   "cell_type": "code",
   "execution_count": null,
   "id": "c4f72de2",
   "metadata": {
    "scrolled": true
   },
   "outputs": [],
   "source": [
    "# dimplots.conditon.f <- function(cl, se){\n",
    "#     print(cl)\n",
    "#     d <- (DimPlot(object = subset(x = se, subset = name == cl), label = FALSE, \n",
    "#                    group.by=c(\"seurat_clusters\"), split.by=c(\"condition\")))\n",
    "#     ggsave(file.path(clone.umap.condition.lineage, paste0(\"clone_\", cl, \".condition.donors.umap.png\")))\n",
    "# }\n",
    "\n",
    "# clone.umap.condition.lineage <- file.path(clone.umap.condition, \"lineage_condition\")\n",
    "# dir.create(clone.umap.condition.lineage)\n",
    "\n",
    "# dimplots <- sapply(names, FUN=dimplots.conditon.f, se=se)\n",
    "\n"
   ]
  },
  {
   "cell_type": "markdown",
   "id": "9b107405",
   "metadata": {},
   "source": [
    "## If enrichment, use that as name"
   ]
  },
  {
   "cell_type": "code",
   "execution_count": null,
   "id": "dba7192d",
   "metadata": {
    "scrolled": true
   },
   "outputs": [],
   "source": [
    "if (enrichment_f != \"\"){\n",
    "    try({\n",
    "        enrichment = read.csv(enrichment_f, row.names = \"name\")\n",
    "        enrichment\n",
    "\n",
    "        clone.umap.condition.lineage <- file.path(clone.umap.condition, \"clone_overlay_signame\")\n",
    "        dir.create(clone.umap.condition.lineage)\n",
    "\n",
    "        dimplots.conditon.f <- function(cl, se){\n",
    "            print(cl)\n",
    "            change = enrichment[cl,\"change\"]\n",
    "            change\n",
    "            log2_fold = enrichment[cl,\"log2_fold\"]\n",
    "            log2_fold\n",
    "\n",
    "            f.name <- paste0(\"change_\", change, \"_logFold_\", log2_fold,  \"_clone_\", cl)\n",
    "\n",
    "            d <- DimPlot(object = subset(x = se, subset = name == cl), label = FALSE, \n",
    "                         group.by=c(\"seurat_clusters\"), shape.by=c(\"condition\"), pt.size=2) +\n",
    "                xlim(-1*coord-0.01,coord+0.01) +\n",
    "                ylim(-1*coord-0.01,coord+0.01)\n",
    "            ggsave(file.path(clone.umap.condition.lineage, paste0(f.name, \"clust_color.png\")))\n",
    "            ggsave(file.path(clone.umap.condition.lineage, paste0(f.name, \"clust_color.pdf\")))\n",
    "\n",
    "            d <- DimPlot(object = subset(x = se, subset = name == cl), label = FALSE, \n",
    "                         group.by=c(\"condition\"), pt.size=2) +\n",
    "                xlim(-1*coord-0.01,coord+0.01) +\n",
    "                ylim(-1*coord-0.01,coord+0.01)\n",
    "            ggsave(file.path(clone.umap.condition.lineage, paste0(f.name, \"cond_color.png\")))    \n",
    "            ggsave(file.path(clone.umap.condition.lineage, paste0(f.name, \"cond_color.pdf\")))\n",
    "        }\n",
    "\n",
    "\n",
    "            dimplots <- sapply(names, FUN=dimplots.conditon.f, se=se)\n",
    "    })\n",
    "    #d <- dimplots.conditon.f(names[[10]], se) \n",
    "    #d\n",
    "}"
   ]
  }
 ],
 "metadata": {
  "celltoolbar": "Tags",
  "kernelspec": {
   "display_name": "R",
   "language": "R",
   "name": "ir"
  },
  "language_info": {
   "codemirror_mode": "r",
   "file_extension": ".r",
   "mimetype": "text/x-r-source",
   "name": "R",
   "pygments_lexer": "r",
   "version": "4.1.1"
  }
 },
 "nbformat": 4,
 "nbformat_minor": 5
}
