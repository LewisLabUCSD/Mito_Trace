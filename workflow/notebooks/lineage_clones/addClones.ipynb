{
 "cells": [
  {
   "cell_type": "code",
   "execution_count": 1,
   "id": "4246cc89",
   "metadata": {
    "tags": [
     "parameters"
    ]
   },
   "outputs": [],
   "source": [
    "#se_f =  \"/data2/mito_lineage/output/annotation/data/v01_oct012021/cd34norm/MTblacklist/mergedSamples/allSamples.integrated.rds\"\n",
    "#cells_meta_f = \"/data2/mito_lineage/output/pipeline/cd34norm/MTblacklist/data/merged/MT/cellr_True/numread_200/filters/minC10_minR50_topN0_hetT0.001_hetC10_hetCount5_bq20/mgatk/vireoIn/clones/variants_mgatkdonor/knn/kparam_3/concat/cells_meta.tsv\"\n",
    "#outdir = \"/data2/mito_lineage/output/annotation_clones/data/cd34norm/MTblacklist\"\n",
    "ids.reversed = TRUE\n",
    "#enrichment_f\n",
    "\n",
    "# se_f = \"/data2/mito_lineage/output/annotation/data/cd34norm/MTblacklist/mergedSamples/allSamples.integrated.rds\"\n",
    "# cells_meta_f = \"/data2/mito_lineage/output/pipeline/cd34norm/MTblacklist/data/merged/MT/cellr_True/numread_200/filters/minC10_minR50_topN0_hetT0.001_hetC10_hetCount5_bq20/mgatk/vireoIn/clones/variants_simple/vireo/nclones20/cells_meta.tsv\"\n",
    "# outdir = \"/data2/mito_lineage/output/pipeline/cd34norm/MTblacklist/data/merged/MT/cellr_True/numread_200/filters/minC10_minR50_topN0_hetT0.001_hetC10_hetCount5_bq20/mgatk/vireoIn/clones/variants_simple/vireo/nclones20/enrichment/annotation_clones/\"\n",
    "\n",
    "\n",
    "# se_f = \"/data/Mito_Trace/output/pipeline/DUPI_april08_2021/MTblacklist_mtasnucl_Bonly/data/annotation/mergedSamples/allSamples.integrated.rds\"\n",
    "# cells_meta_f = \"/data/Mito_Trace/output/pipeline/DUPI_april08_2021/MTblacklist_mtasnucl_Bonly/data/merged/MT/cellr_True/numread_200/filters/minC10_minR50_topN0_hetT0.001_hetC10_hetCount5_bq20/mgatk/vireoIn/clones/variants_init/knn/kparam_3/concat/cells_meta.tsv\"\n",
    "# outdir = \"/data/Mito_Trace/output/pipeline/DUPI_april08_2021/MTblacklist_mtasnucl_Bonly/data/merged/MT/cellr_True/numread_200/filters/minC10_minR50_topN0_hetT0.001_hetC10_hetCount5_bq20/mgatk/vireoIn/clones/variants_init/knn/kparam_3/concat/annotation_clones\"\n",
    "\n",
    "\n",
    "cells_meta_f = \"/data/Mito_Trace/output/pipeline/DUPI_april08_2021/MTblacklist_mtasnucl_Bonly/data/merged/MT/cellr_True/numread_200/filters/minC10_minR50_topN0_hetT0.001_hetC10_hetCount5_bq20/mgatk/vireoIn/clones/variants_init/knn/kparam_3/concat/cells_meta.tsv\" \n",
    "se_f = \"/data/Mito_Trace/output/pipeline/DUPI_april08_2021/MTblacklist_mtasnucl_Bonly/data/annotation/gff_hg38_1_2/mergedSamples/allSamples.integrated.rds\" \n",
    "outdir = \"/data/Mito_Trace/output/pipeline/DUPI_april08_2021/MTblacklist_mtasnucl_Bonly/data/merged/MT/cellr_True/numread_200/filters/minC10_minR50_topN0_hetT0.001_hetC10_hetCount5_bq20/mgatk/vireoIn/clones/variants_init/knn/kparam_3/concat/gff_hg38_1_2/annotation_clones\""
   ]
  },
  {
   "cell_type": "code",
   "execution_count": 2,
   "id": "0e22c73b",
   "metadata": {
    "scrolled": true
   },
   "outputs": [
    {
     "ename": "ERROR",
     "evalue": "Error: '/data/Mito_Trace/output/pipeline/DUPI_april08_2021/MTblacklist_mtasnucl_Bonly/data/merged/MT/cellr_True/numread_200/filters/minC10_minR50_topN0_hetT0.001_hetC10_hetCount5_bq20/mgatk/vireoIn/clones/variants_init/knn/kparam_3/concat/cells_meta.tsv' does not exist.\n",
     "output_type": "error",
     "traceback": [
      "Error: '/data/Mito_Trace/output/pipeline/DUPI_april08_2021/MTblacklist_mtasnucl_Bonly/data/merged/MT/cellr_True/numread_200/filters/minC10_minR50_topN0_hetT0.001_hetC10_hetCount5_bq20/mgatk/vireoIn/clones/variants_init/knn/kparam_3/concat/cells_meta.tsv' does not exist.\nTraceback:\n",
      "1. as.data.frame(readr::read_tsv(cells_meta_f))",
      "2. readr::read_tsv(cells_meta_f)",
      "3. vroom::vroom(file, delim = \"\\t\", col_names = col_names, col_types = col_types, \n .     col_select = {\n .         {\n .             col_select\n .         }\n .     }, id = id, .name_repair = name_repair, skip = skip, n_max = n_max, \n .     na = na, quote = quote, comment = comment, skip_empty_rows = skip_empty_rows, \n .     trim_ws = trim_ws, escape_double = TRUE, escape_backslash = FALSE, \n .     locale = locale, guess_max = guess_max, show_col_types = show_col_types, \n .     progress = progress, altrep = lazy, num_threads = num_threads)",
      "4. vroom_(file, delim = delim %||% col_types$delim, col_names = col_names, \n .     col_types = col_types, id = id, skip = skip, col_select = col_select, \n .     name_repair = .name_repair, na = na, quote = quote, trim_ws = trim_ws, \n .     escape_double = escape_double, escape_backslash = escape_backslash, \n .     comment = comment, skip_empty_rows = skip_empty_rows, locale = locale, \n .     guess_max = guess_max, n_max = n_max, altrep = vroom_altrep(altrep), \n .     num_threads = num_threads, progress = progress)",
      "5. (function (path, write = FALSE) \n . {\n .     if (is.raw(path)) {\n .         return(rawConnection(path, \"rb\"))\n .     }\n .     if (!is.character(path)) {\n .         return(path)\n .     }\n .     if (is_url(path)) {\n .         if (requireNamespace(\"curl\", quietly = TRUE)) {\n .             con <- curl::curl(path)\n .         }\n .         else {\n .             rlang::inform(\"`curl` package not installed, falling back to using `url()`\")\n .             con <- url(path)\n .         }\n .         ext <- tolower(tools::file_ext(path))\n .         return(switch(ext, zip = , bz2 = , xz = {\n .             close(con)\n .             stop(\"Reading from remote `\", ext, \"` compressed files is not supported,\\n\", \n .                 \"  download the files locally first.\", call. = FALSE)\n .         }, gz = gzcon(con), con))\n .     }\n .     p <- split_path_ext(basename(path))\n .     if (write) {\n .         path <- normalizePath(path, mustWork = FALSE)\n .     }\n .     else {\n .         path <- check_path(path)\n .     }\n .     if (rlang::is_installed(\"archive\")) {\n .         formats <- archive_formats(p$extension)\n .         extension <- p$extension\n .         while (is.null(formats) && nzchar(extension)) {\n .             extension <- split_path_ext(extension)$extension\n .             formats <- archive_formats(extension)\n .         }\n .         if (!is.null(formats)) {\n .             p$extension <- extension\n .             if (write) {\n .                 if (is.null(formats[[1]])) {\n .                   return(archive::file_write(path, filter = formats[[2]]))\n .                 }\n .                 return(archive::archive_write(path, p$path, format = formats[[1]], \n .                   filter = formats[[2]]))\n .             }\n .             if (is.null(formats[[1]])) {\n .                 return(archive::file_read(path, filter = formats[[2]]))\n .             }\n .             return(archive::archive_read(path, format = formats[[1]], \n .                 filter = formats[[2]]))\n .         }\n .     }\n .     if (!write) {\n .         compression <- detect_compression(path)\n .     }\n .     else {\n .         compression <- NA\n .     }\n .     if (is.na(compression)) {\n .         compression <- tools::file_ext(path)\n .     }\n .     if (write && compression == \"zip\") {\n .         stop(\"Can only read from, not write to, .zip\", call. = FALSE)\n .     }\n .     switch(compression, gz = gzfile(path, \"\"), bz2 = bzfile(path, \n .         \"\"), xz = xzfile(path, \"\"), zip = zipfile(path, \"\"), \n .         if (!has_trailing_newline(path)) {\n .             file(path)\n .         } else {\n .             path\n .         })\n . })(\"/data/Mito_Trace/output/pipeline/DUPI_april08_2021/MTblacklist_mtasnucl_Bonly/data/merged/MT/cellr_True/numread_200/filters/minC10_minR50_topN0_hetT0.001_hetC10_hetCount5_bq20/mgatk/vireoIn/clones/variants_init/knn/kparam_3/concat/cells_meta.tsv\")",
      "6. check_path(path)",
      "7. stop(\"'\", path, \"' does not exist\", if (!is_absolute_path(path)) {\n .     paste0(\" in current working directory ('\", getwd(), \"')\")\n . }, \".\", call. = FALSE)"
     ]
    }
   ],
   "source": [
    "cells_meta <- as.data.frame(readr::read_tsv(cells_meta_f)) # %>% tidyr::unite(barcode)\n",
    "rownames(cells_meta) = cells_meta$ID"
   ]
  },
  {
   "cell_type": "code",
   "execution_count": null,
   "id": "556ca238",
   "metadata": {
    "scrolled": true
   },
   "outputs": [],
   "source": [
    "if (ids.reversed){\n",
    "    split.names <- stringr::str_split(rownames(cells_meta), \"_\")\n",
    "    rownames(cells_meta) = lapply(split.names, function(x){paste0(x[2], \"_\", x[1])})\n",
    "}\n",
    "head(cells_meta)"
   ]
  },
  {
   "cell_type": "code",
   "execution_count": null,
   "id": "3bd68851",
   "metadata": {
    "scrolled": true
   },
   "outputs": [],
   "source": [
    "se <- readRDS(se_f)\n",
    "se[[]]"
   ]
  },
  {
   "cell_type": "code",
   "execution_count": 5,
   "id": "8fb5ff47",
   "metadata": {
    "scrolled": true
   },
   "outputs": [
    {
     "name": "stderr",
     "output_type": "stream",
     "text": [
      "Loading required package: Signac\n",
      "\n"
     ]
    },
    {
     "data": {
      "text/plain": [
       "An object of class Seurat \n",
       "61893 features across 4112 samples within 2 assays \n",
       "Active assay: RNA (19575 features, 0 variable features)\n",
       " 1 other assay present: ATAC\n",
       " 2 dimensional reductions calculated: integrated_lsi, umap"
      ]
     },
     "metadata": {},
     "output_type": "display_data"
    }
   ],
   "source": [
    "se"
   ]
  },
  {
   "cell_type": "code",
   "execution_count": null,
   "id": "5cc8cea1",
   "metadata": {
    "scrolled": true
   },
   "outputs": [],
   "source": [
    "# se_meta = se[[]]\n",
    "# rownames(se_meta) <- apply(stringr::str_split((rownames(se_meta)), \"_\", simplify=T)[,1:2], 1, function(x) {paste0(x[1],  \"_\", x[2])})"
   ]
  },
  {
   "cell_type": "code",
   "execution_count": null,
   "id": "3cd58703",
   "metadata": {
    "scrolled": false
   },
   "outputs": [],
   "source": [
    "new_cells_meta = merge(cells_meta, se[[]], by=0, all=TRUE)\n",
    "rownames(new_cells_meta) <- new_cells_meta$Row.names\n",
    "head(new_cells_meta)\n",
    "\n"
   ]
  },
  {
   "cell_type": "code",
   "execution_count": null,
   "id": "ea88f83d",
   "metadata": {
    "scrolled": false
   },
   "outputs": [],
   "source": [
    "se$ID <- apply(stringr::str_split((rownames(se[[]])), \"_\", simplify=T)[,1:2], 1, function(x) {paste0(x[[1]],  \"_\", x[[2]])})\n",
    "se <- RenameCells(se, new.names=se$ID)\n"
   ]
  },
  {
   "cell_type": "code",
   "execution_count": null,
   "id": "3886aaf6",
   "metadata": {},
   "outputs": [],
   "source": [
    "se[[]]"
   ]
  },
  {
   "cell_type": "code",
   "execution_count": null,
   "id": "d7d4fe95",
   "metadata": {},
   "outputs": [],
   "source": [
    "new_cells_meta$name <- paste0(new_cells_meta$donor, \"_\", new_cells_meta$lineage)\n",
    "\n",
    "donor_levels <- levels(factor(new_cells_meta$donor))\n",
    "donor_levels[length(donor_levels) + 1] <- \"None\"\n",
    "\n",
    "condition_levels <- levels(factor(new_cells_meta$condition))\n",
    "condition_levels[length(condition_levels) + 1] <- \"None\"\n",
    "\n",
    "lineage_levels <- levels(factor(new_cells_meta$lineage))\n",
    "lineage_levels[length(lineage_levels) + 1] <- \"None\"\n",
    "\n",
    "\n",
    "new_cells_meta$name <- paste0(new_cells_meta$donor, \"_\", new_cells_meta$lineage)\n",
    "name_levels <- levels(factor(new_cells_meta$name))\n",
    "name_levels[length(name_levels) + 1] <- \"None\"\n",
    "\n",
    "\n",
    "\n",
    "new_cells_meta$donor <- factor(new_cells_meta$donor, levels=donor_levels)\n",
    "new_cells_meta$condition <- factor(new_cells_meta$condition, levels=condition_levels)\n",
    "new_cells_meta$lineage <- factor(new_cells_meta$lineage, levels=lineage_levels)\n",
    "new_cells_meta$name <- factor(new_cells_meta$name, levels=name_levels)\n",
    "\n",
    "\n",
    "\n",
    "new_cells_meta$donor[is.na(new_cells_meta$donor)] <- \"None\"\n",
    "new_cells_meta$condition[is.na(new_cells_meta$condition)] <- \"None\"\n",
    "new_cells_meta$lineage[is.na(new_cells_meta$lineage)] <- \"None\"\n",
    "new_cells_meta$name[(is.na(new_cells_meta$name) | grepl(\"NA\", new_cells_meta$name))] <- \"None\""
   ]
  },
  {
   "cell_type": "code",
   "execution_count": null,
   "id": "8c916149",
   "metadata": {},
   "outputs": [],
   "source": [
    "new_cells_meta"
   ]
  },
  {
   "cell_type": "code",
   "execution_count": null,
   "id": "69e8c55e",
   "metadata": {},
   "outputs": [],
   "source": [
    "se <- AddMetaData(se, new_cells_meta)\n",
    "se[[]]"
   ]
  },
  {
   "cell_type": "markdown",
   "id": "e6e3ad4f",
   "metadata": {},
   "source": [
    "## Save"
   ]
  },
  {
   "cell_type": "code",
   "execution_count": null,
   "id": "f272baab",
   "metadata": {},
   "outputs": [],
   "source": [
    "saveRDS(obj=se, file=file.path(outdir, \"SE.rds\"))"
   ]
  },
  {
   "cell_type": "code",
   "execution_count": null,
   "id": "83dcf7ba",
   "metadata": {},
   "outputs": [],
   "source": [
    "write.table(se[[]],file=file.path(outdir, \"se_cells_meta.tsv\"), sep = \"\\t\", quote=FALSE)"
   ]
  },
  {
   "cell_type": "markdown",
   "id": "084a97f6",
   "metadata": {},
   "source": [
    "## Plot by donor and condition"
   ]
  },
  {
   "cell_type": "code",
   "execution_count": null,
   "id": "5d9ca2e3",
   "metadata": {
    "scrolled": true
   },
   "outputs": [],
   "source": [
    "library(\"Seurat\")\n",
    "#library(\"Seurat\")\n",
    "library(magrittr)\n",
    "library(cowplot)\n",
    "library(ggplot2)\n",
    "library(Signac)\n",
    "library(patchwork)\n",
    "set.seed(1234)\n",
    "library(magrittr)\n",
    "library(cowplot)\n",
    "library(metap)\n",
    "library(dplyr)\n",
    "library(future)"
   ]
  },
  {
   "cell_type": "code",
   "execution_count": null,
   "id": "764fbc95",
   "metadata": {
    "scrolled": true
   },
   "outputs": [],
   "source": [
    "# Idents(t.cells) <- \"orig.ident\"\n",
    "DimPlot(object = se, label = FALSE, group.by = c('donor', 'condition')) \n",
    "ggsave(file.path(outdir, paste0(\"donor_umap.pdf\")))"
   ]
  },
  {
   "cell_type": "code",
   "execution_count": null,
   "id": "2dec1b25",
   "metadata": {
    "scrolled": false
   },
   "outputs": [],
   "source": [
    "DimPlot(object = se, label = FALSE, split.by=\"donor\", group.by = 'condition')\n",
    "ggsave(file.path(outdir, paste0(\"donor_split_umap.pdf\")))"
   ]
  },
  {
   "cell_type": "markdown",
   "id": "978a834c",
   "metadata": {},
   "source": [
    "## Plot lineage"
   ]
  },
  {
   "cell_type": "code",
   "execution_count": null,
   "id": "d4a074ac",
   "metadata": {
    "scrolled": true
   },
   "outputs": [],
   "source": [
    "DimPlot(object = se, label = FALSE, group.by=c(\"lineage\"))\n",
    "#ggsave(file.path(outdir, \"lineage.conditions.png\"))"
   ]
  },
  {
   "cell_type": "code",
   "execution_count": null,
   "id": "624319eb",
   "metadata": {
    "scrolled": true
   },
   "outputs": [],
   "source": [
    "clone.umap.condition <- file.path(outdir, \"clone_umaps\")\n",
    "dir.create(clone.umap.condition)"
   ]
  },
  {
   "cell_type": "code",
   "execution_count": null,
   "id": "e84ab8df",
   "metadata": {
    "scrolled": true
   },
   "outputs": [],
   "source": [
    "donors <- levels(se$donor)\n",
    "donors <-  donors[donors != \"None\"]\n",
    "donors"
   ]
  },
  {
   "cell_type": "code",
   "execution_count": null,
   "id": "d2f31c24",
   "metadata": {
    "scrolled": true
   },
   "outputs": [],
   "source": [
    "barplot.df <- se[[]] %>% group_by(name,donor) %>% summarize(size=n())# %>% mutate(donor=donor)\n",
    "barplot.df"
   ]
  },
  {
   "cell_type": "code",
   "execution_count": null,
   "id": "fe110e1e",
   "metadata": {
    "scrolled": false
   },
   "outputs": [],
   "source": [
    "g <- ggplot(barplot.df[!(barplot.df$name == \"None\" | is.na(barplot.df$name)), ], aes(x=reorder(name, size), y=size, fill=donor)) + \n",
    "            geom_bar(stat='identity')\n",
    "\n",
    "g \n",
    "ggsave(file.path(outdir, paste0(\"clone_count.pdf\")))"
   ]
  },
  {
   "cell_type": "code",
   "execution_count": null,
   "id": "97c045dc",
   "metadata": {
    "scrolled": true
   },
   "outputs": [],
   "source": [
    "g <- lapply(donors, function (x) {ggplot(barplot.df[barplot.df$donor == x, ], aes(x=reorder(name, size), y= size)) + \n",
    "            geom_bar(stat='identity') + ggtitle(paste0(\"donor\", x))+theme(axis.text.x = element_text(angle = 90, vjust = 0.5, hjust=1))}) \n",
    "\n",
    "g\n",
    "#ggsave(file.path(outdir, paste0(\"clone_count.donor.pdf\")))"
   ]
  },
  {
   "cell_type": "code",
   "execution_count": null,
   "id": "6f951fc0",
   "metadata": {
    "scrolled": false
   },
   "outputs": [],
   "source": [
    "grobs <- lapply(g, as_grob)\n",
    "plot_widths <- lapply(grobs, function(x) {x$widths})\n",
    "# Aligning the left margins of all g\n",
    "aligned_widths <- align_margin(plot_widths, \"first\")\n",
    "# Aligning the right margins of all g as well\n",
    "aligned_widths <- align_margin(aligned_widths, \"last\")\n",
    "# Setting the dimensions of g to the aligned dimensions\n",
    "for (i in seq_along(g)) {\n",
    "  grobs[[i]]$widths <- aligned_widths[[i]]\n",
    "}\n",
    "# Draw aligned g\n",
    "p <- plot_grid(plotlist = grobs, ncol = 1, 'vh')\n",
    "pdf(file.path(outdir, \"clone_count.donor.pdf\"), height = 11, width = 8.5, paper = \"letter\")\n",
    "p\n",
    "dev.off()\n",
    "# ggsave(file.path(outdir, paste0(\"clone_count.donor.pdf\")), g)"
   ]
  },
  {
   "cell_type": "code",
   "execution_count": null,
   "id": "c6cbdcc7",
   "metadata": {},
   "outputs": [],
   "source": []
  },
  {
   "cell_type": "code",
   "execution_count": null,
   "id": "48de264a",
   "metadata": {},
   "outputs": [],
   "source": []
  },
  {
   "cell_type": "code",
   "execution_count": null,
   "id": "22a0899f",
   "metadata": {
    "scrolled": true
   },
   "outputs": [],
   "source": [
    "print"
   ]
  },
  {
   "cell_type": "code",
   "execution_count": null,
   "id": "c16c522a",
   "metadata": {},
   "outputs": [],
   "source": []
  }
 ],
 "metadata": {
  "celltoolbar": "Tags",
  "kernelspec": {
   "display_name": "R",
   "language": "R",
   "name": "ir"
  },
  "language_info": {
   "codemirror_mode": "r",
   "file_extension": ".r",
   "mimetype": "text/x-r-source",
   "name": "R",
   "pygments_lexer": "r",
   "version": "4.1.1"
  }
 },
 "nbformat": 4,
 "nbformat_minor": 5
}
