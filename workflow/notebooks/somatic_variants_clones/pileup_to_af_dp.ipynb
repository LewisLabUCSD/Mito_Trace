{
 "cells": [
  {
   "cell_type": "code",
   "execution_count": 1,
   "id": "d165efb4",
   "metadata": {
    "tags": [
     "parameters"
    ]
   },
   "outputs": [],
   "source": [
    "# scPileupVars = \"/data/Mito_Trace/output/somatic_variants/CHIP_dec172021/aggregate/needle_post/peaks_chip_genes/CHIP_b1_Control/concat_scPileupVars/pileup.tsv\"\n",
    "# vcf = \"/data/Mito_Trace/output/somatic_variants/CHIP_dec172021/aggregate/variants.all.vcf\"\n",
    "# outdir = \"/data/Mito_Trace/output/somatic_variants/CHIP_dec172021/aggregate/needle_post/CHIP_b1_Control/cells_vars/vcfpad_1/\"\n",
    "# vcf_pad = 1\n",
    "\n",
    "\n",
    "# vcf = \"/data/Mito_Trace/output/somatic_variants/CHIP_dec172021/aggregate/variants.all.vcf\"\n",
    "# scPileupVars = \"/data/Mito_Trace/output/somatic_variants/CHIP_dec172021/aggregate/needle_post/peaks_all/CHIP_b1_Control/concat_scPileupVars/pileup.tsv\"\n",
    "# vcf_pad = 1\n",
    "# outdir = \"/data/Mito_Trace/output/somatic_variants/CHIP_dec172021/aggregate/needle_post/peaks_all/CHIP_b1_Control/cells_vars/vcfpad_1\"\n",
    "\n",
    "vcf = \"/data/Mito_Trace/output/pipeline/v02/CHIP_b1/MTBlacklist_A2/somatic_variants/regions_atac_peaks/gatk_mutect/variants.vcf.gz\"\n",
    "scPileupVars = \"/data/Mito_Trace/output/pipeline/v02/CHIP_b1/MTBlacklist_A2/somatic_variants/regions_atac_peaks/gatk_mutect/post/pileup/Control/concat_scPileupVars/pileup.tsv.gz\"\n",
    "outdir = \"/data/Mito_Trace/output/pipeline/v02/CHIP_b1/MTBlacklist_A2/somatic_variants/regions_atac_peaks/gatk_mutect/post/pileup/Control/cells_vars/vcfpad_1\"\n",
    "vcf_pad=1"
   ]
  },
  {
   "cell_type": "code",
   "execution_count": 2,
   "id": "9da443f6",
   "metadata": {},
   "outputs": [
    {
     "name": "stdout",
     "output_type": "stream",
     "text": [
      "fig_utils from mplh\n"
     ]
    }
   ],
   "source": [
    "from glob import glob\n",
    "from os.path import basename, join\n",
    "from src.utils.data_io import read_csv_multichar\n",
    "import pandas as pd\n",
    "from pandarallel import pandarallel\n",
    "import matplotlib.pyplot as plt\n",
    "from tqdm.notebook import tqdm\n",
    "import numpy as np"
   ]
  },
  {
   "cell_type": "code",
   "execution_count": 3,
   "id": "24a9c8e6",
   "metadata": {},
   "outputs": [
    {
     "name": "stdout",
     "output_type": "stream",
     "text": [
      "INFO: Pandarallel will run on 16 workers.\n",
      "INFO: Pandarallel will use Memory file system to transfer data between the main process and workers.\n"
     ]
    }
   ],
   "source": [
    "pandarallel.initialize(nb_workers=16)"
   ]
  },
  {
   "cell_type": "code",
   "execution_count": 4,
   "id": "ad611bbe",
   "metadata": {},
   "outputs": [],
   "source": [
    "region_f = vcf+\".region.txt\"\n",
    "vcf_df = read_csv_multichar(vcf, sep=\"\\t\", multicomment=\"##\")\n",
    "vcf_df[[\"#CHROM\", \"POS\"]].to_csv(region_f, index=None, sep=\"\\t\", header=None)"
   ]
  },
  {
   "cell_type": "markdown",
   "id": "74ab3458",
   "metadata": {},
   "source": [
    "#### The vcf file is 1-based, while the pileup positions are 0-based since they were from bam (pysam was the program used)\n",
    "** Need to double check this"
   ]
  },
  {
   "cell_type": "code",
   "execution_count": 5,
   "id": "09e58375",
   "metadata": {
    "scrolled": true
   },
   "outputs": [
    {
     "data": {
      "text/html": [
       "<div>\n",
       "<style scoped>\n",
       "    .dataframe tbody tr th:only-of-type {\n",
       "        vertical-align: middle;\n",
       "    }\n",
       "\n",
       "    .dataframe tbody tr th {\n",
       "        vertical-align: top;\n",
       "    }\n",
       "\n",
       "    .dataframe thead th {\n",
       "        text-align: right;\n",
       "    }\n",
       "</style>\n",
       "<table border=\"1\" class=\"dataframe\">\n",
       "  <thead>\n",
       "    <tr style=\"text-align: right;\">\n",
       "      <th></th>\n",
       "      <th>#CHROM</th>\n",
       "      <th>POS</th>\n",
       "      <th>ID</th>\n",
       "      <th>REF</th>\n",
       "      <th>ALT</th>\n",
       "      <th>QUAL</th>\n",
       "      <th>FILTER</th>\n",
       "      <th>INFO</th>\n",
       "      <th>FORMAT</th>\n",
       "      <th>Control</th>\n",
       "      <th>Flt3l</th>\n",
       "      <th>Input</th>\n",
       "      <th>posID</th>\n",
       "    </tr>\n",
       "  </thead>\n",
       "  <tbody>\n",
       "    <tr>\n",
       "      <th>0</th>\n",
       "      <td>chr1</td>\n",
       "      <td>10146</td>\n",
       "      <td>.</td>\n",
       "      <td>AC</td>\n",
       "      <td>A</td>\n",
       "      <td>.</td>\n",
       "      <td>.</td>\n",
       "      <td>AS_SB_TABLE=11,14|160,159;DP=345;ECNT=2;MBQ=37...</td>\n",
       "      <td>GT:AD:AF:DP:F1R2:F2R1:FAD:PGT:PID:PS:SB</td>\n",
       "      <td>0|1:7,120:0.901:127:3,23:3,46:6,72:0|1:10146_A...</td>\n",
       "      <td>0|1:5,109:0.933:114:2,23:1,42:4,76:0|1:10146_A...</td>\n",
       "      <td>0|1:13,90:0.834:103:3,36:3,21:11,65:0|1:10146_...</td>\n",
       "      <td>chr1_10145</td>\n",
       "    </tr>\n",
       "    <tr>\n",
       "      <th>1</th>\n",
       "      <td>chr1</td>\n",
       "      <td>10180</td>\n",
       "      <td>.</td>\n",
       "      <td>T</td>\n",
       "      <td>C</td>\n",
       "      <td>.</td>\n",
       "      <td>.</td>\n",
       "      <td>AS_SB_TABLE=29,38|148,142;DP=359;ECNT=2;MBQ=20...</td>\n",
       "      <td>GT:AD:AF:DP:F1R2:F2R1:FAD:PGT:PID:PS:SB</td>\n",
       "      <td>0|1:3,105:0.913:108:2,17:0,43:5,70:0|1:10146_A...</td>\n",
       "      <td>0|1:8,96:0.895:104:2,23:0,33:5,67:0|1:10146_AC...</td>\n",
       "      <td>0|1:56,89:0.522:145:21,31:23,19:46,68:0|1:1014...</td>\n",
       "      <td>chr1_10179</td>\n",
       "    </tr>\n",
       "    <tr>\n",
       "      <th>2</th>\n",
       "      <td>chr1</td>\n",
       "      <td>10601</td>\n",
       "      <td>.</td>\n",
       "      <td>G</td>\n",
       "      <td>A</td>\n",
       "      <td>.</td>\n",
       "      <td>.</td>\n",
       "      <td>AS_SB_TABLE=7,12|0,6;DP=27;ECNT=1;MBQ=20,37;MF...</td>\n",
       "      <td>GT:AD:AF:DP:F1R2:F2R1:FAD:SB</td>\n",
       "      <td>0/1:8,5:0.500:13:2,2:3,3:5,5:3,5,0,5</td>\n",
       "      <td>0/1:3,1:0.396:4:1,1:1,0:2,1:1,2,0,1</td>\n",
       "      <td>0/1:8,0:0.143:8:4,0:1,0:5,0:3,5,0,0</td>\n",
       "      <td>chr1_10600</td>\n",
       "    </tr>\n",
       "    <tr>\n",
       "      <th>3</th>\n",
       "      <td>chr1</td>\n",
       "      <td>16257</td>\n",
       "      <td>.</td>\n",
       "      <td>G</td>\n",
       "      <td>C</td>\n",
       "      <td>.</td>\n",
       "      <td>.</td>\n",
       "      <td>AS_SB_TABLE=70,65|4,3;DP=143;ECNT=3;MBQ=20,20;...</td>\n",
       "      <td>GT:AD:AF:DP:F1R2:F2R1:FAD:SB</td>\n",
       "      <td>0/1:27,2:0.090:29:8,0:10,1:19,1:15,12,1,1</td>\n",
       "      <td>0/1:40,3:0.107:43:9,1:14,1:24,2:22,18,2,1</td>\n",
       "      <td>0/1:68,2:0.048:70:23,0:15,1:39,1:33,35,1,1</td>\n",
       "      <td>chr1_16256</td>\n",
       "    </tr>\n",
       "    <tr>\n",
       "      <th>4</th>\n",
       "      <td>chr1</td>\n",
       "      <td>16288</td>\n",
       "      <td>.</td>\n",
       "      <td>C</td>\n",
       "      <td>G</td>\n",
       "      <td>.</td>\n",
       "      <td>.</td>\n",
       "      <td>AS_SB_TABLE=32,37|9,10;DP=93;ECNT=3;MBQ=29,20;...</td>\n",
       "      <td>GT:AD:AF:DP:F1R2:F2R1:FAD:SB</td>\n",
       "      <td>0/1:16,2:0.115:18:6,1:4,0:14,1:9,7,1,1</td>\n",
       "      <td>0/1:23,7:0.272:30:4,2:9,2:15,5:12,11,4,3</td>\n",
       "      <td>0/1:30,10:0.226:40:8,4:6,0:23,6:11,19,4,6</td>\n",
       "      <td>chr1_16287</td>\n",
       "    </tr>\n",
       "  </tbody>\n",
       "</table>\n",
       "</div>"
      ],
      "text/plain": [
       "  #CHROM    POS ID REF ALT QUAL FILTER  \\\n",
       "0   chr1  10146  .  AC   A    .      .   \n",
       "1   chr1  10180  .   T   C    .      .   \n",
       "2   chr1  10601  .   G   A    .      .   \n",
       "3   chr1  16257  .   G   C    .      .   \n",
       "4   chr1  16288  .   C   G    .      .   \n",
       "\n",
       "                                                INFO  \\\n",
       "0  AS_SB_TABLE=11,14|160,159;DP=345;ECNT=2;MBQ=37...   \n",
       "1  AS_SB_TABLE=29,38|148,142;DP=359;ECNT=2;MBQ=20...   \n",
       "2  AS_SB_TABLE=7,12|0,6;DP=27;ECNT=1;MBQ=20,37;MF...   \n",
       "3  AS_SB_TABLE=70,65|4,3;DP=143;ECNT=3;MBQ=20,20;...   \n",
       "4  AS_SB_TABLE=32,37|9,10;DP=93;ECNT=3;MBQ=29,20;...   \n",
       "\n",
       "                                    FORMAT  \\\n",
       "0  GT:AD:AF:DP:F1R2:F2R1:FAD:PGT:PID:PS:SB   \n",
       "1  GT:AD:AF:DP:F1R2:F2R1:FAD:PGT:PID:PS:SB   \n",
       "2             GT:AD:AF:DP:F1R2:F2R1:FAD:SB   \n",
       "3             GT:AD:AF:DP:F1R2:F2R1:FAD:SB   \n",
       "4             GT:AD:AF:DP:F1R2:F2R1:FAD:SB   \n",
       "\n",
       "                                             Control  \\\n",
       "0  0|1:7,120:0.901:127:3,23:3,46:6,72:0|1:10146_A...   \n",
       "1  0|1:3,105:0.913:108:2,17:0,43:5,70:0|1:10146_A...   \n",
       "2               0/1:8,5:0.500:13:2,2:3,3:5,5:3,5,0,5   \n",
       "3          0/1:27,2:0.090:29:8,0:10,1:19,1:15,12,1,1   \n",
       "4             0/1:16,2:0.115:18:6,1:4,0:14,1:9,7,1,1   \n",
       "\n",
       "                                               Flt3l  \\\n",
       "0  0|1:5,109:0.933:114:2,23:1,42:4,76:0|1:10146_A...   \n",
       "1  0|1:8,96:0.895:104:2,23:0,33:5,67:0|1:10146_AC...   \n",
       "2                0/1:3,1:0.396:4:1,1:1,0:2,1:1,2,0,1   \n",
       "3          0/1:40,3:0.107:43:9,1:14,1:24,2:22,18,2,1   \n",
       "4           0/1:23,7:0.272:30:4,2:9,2:15,5:12,11,4,3   \n",
       "\n",
       "                                               Input       posID  \n",
       "0  0|1:13,90:0.834:103:3,36:3,21:11,65:0|1:10146_...  chr1_10145  \n",
       "1  0|1:56,89:0.522:145:21,31:23,19:46,68:0|1:1014...  chr1_10179  \n",
       "2                0/1:8,0:0.143:8:4,0:1,0:5,0:3,5,0,0  chr1_10600  \n",
       "3         0/1:68,2:0.048:70:23,0:15,1:39,1:33,35,1,1  chr1_16256  \n",
       "4          0/1:30,10:0.226:40:8,4:6,0:23,6:11,19,4,6  chr1_16287  "
      ]
     },
     "execution_count": 5,
     "metadata": {},
     "output_type": "execute_result"
    }
   ],
   "source": [
    "vcf_df = vcf_df.loc[vcf_df[\"#CHROM\"].str.contains(\"^chr\")]\n",
    "vcf_df\n",
    "\n",
    "vcf_df[\"posID\"] = vcf_df[\"#CHROM\"] + \"_\" + (vcf_df[\"POS\"].astype(int)-vcf_pad).astype(str)\n",
    "vcf_df.head()"
   ]
  },
  {
   "cell_type": "code",
   "execution_count": 6,
   "id": "aca2c5f5",
   "metadata": {},
   "outputs": [],
   "source": [
    "# pileup_files = glob(scPileupVars+\"/*.bq.tsv\")\n",
    "# len(pileup_files)"
   ]
  },
  {
   "cell_type": "code",
   "execution_count": null,
   "id": "1e2373e4",
   "metadata": {
    "scrolled": false
   },
   "outputs": [],
   "source": [
    "pileup_df = pd.read_csv(scPileupVars,sep=\"\\t\", index_col=0, compression='gzip', dtype=object)\n",
    "pileup_df.head()\n",
    "\n",
    "### When concatenating the column names were added too so need to drop those entries and convert the dtypes\n",
    "print(pileup_df.shape)\n",
    "pileup_df = pileup_df.loc[~((pileup_df[\"chr\"] == \"chr\") & (pileup_df[\"nt\"] == \"nt\"))].copy()\n",
    "pileup_df.shape\n",
    "\n",
    "# Add posID and BQ\n",
    "pileup_df[\"posID\"] = pileup_df[\"chr\"] + \"_\" + pileup_df[\"pos\"]\n",
    "pileup_df = pileup_df.astype({\"pos\":int, \"BQ\": float, \"count\": int})\n",
    "pileup_df[\"BQ\"] = pileup_df[\"BQ\"].astype(int)\n",
    "pileup_df.dtypes"
   ]
  },
  {
   "cell_type": "markdown",
   "id": "ba28275b",
   "metadata": {},
   "source": [
    "## Generate coverage for each pos"
   ]
  },
  {
   "cell_type": "code",
   "execution_count": null,
   "id": "85c6a4ff",
   "metadata": {},
   "outputs": [],
   "source": [
    "num_nts_each = pileup_df.groupby([\"chr\", \"pos\", \"cell\"]).size()\n",
    "plt.hist(num_nts_each)\n",
    "plt.yscale('log')"
   ]
  },
  {
   "cell_type": "markdown",
   "id": "9525013a",
   "metadata": {},
   "source": [
    "## Extract just the variants"
   ]
  },
  {
   "cell_type": "code",
   "execution_count": null,
   "id": "cb33b14f",
   "metadata": {
    "scrolled": false
   },
   "outputs": [],
   "source": [
    "pileup_vars_df = pileup_df.loc[pileup_df[\"posID\"].isin(vcf_df[\"posID\"])].copy()\n",
    "pileup_vars_df\n",
    "\n",
    "pileup_vars_df[\"coverage\"] = pileup_vars_df.groupby([\"chr\", \"pos\", \"cell\"])[\"count\"].transform(lambda x: sum(x))\n",
    "pileup_vars_df[\"AF\"] = pileup_vars_df[\"count\"]/pileup_vars_df[\"coverage\"]\n",
    "pileup_vars_df.head()\n",
    "\n",
    "vcf_pos_df = vcf_df.set_index(\"posID\")\n",
    "vcf_pos_df = vcf_pos_df.loc[~(vcf_pos_df.index.duplicated())] #rm duplicated position variants just for position\n",
    "vcf_pos_df.head()\n",
    "\n",
    "pileup_vars_df[\"ref\"] = pileup_vars_df.apply(lambda x: vcf_pos_df.loc[x[\"posID\"], \"REF\"], axis=1)\n",
    "pileup_vars_df.head()\n",
    "\n",
    "del vcf_pos_df"
   ]
  },
  {
   "cell_type": "code",
   "execution_count": null,
   "id": "d3fe6ef1",
   "metadata": {
    "scrolled": true
   },
   "outputs": [],
   "source": [
    "# print(\"Multi-allele positions\")\n",
    "# pileup_vars_df.loc[pileup_vars_df[\"count\"]!=pileup_vars_df[\"coverage\"]].sort_values([\"cell\", \"posID\"]).head(20)"
   ]
  },
  {
   "cell_type": "markdown",
   "id": "ee092bda",
   "metadata": {},
   "source": [
    "## Keep the variants not ref"
   ]
  },
  {
   "cell_type": "code",
   "execution_count": null,
   "id": "de4dad77",
   "metadata": {},
   "outputs": [],
   "source": [
    "vcf_df[\"ID\"] = vcf_df.apply(lambda x: f\"{x['posID']}_{x['ALT']}\", axis=1)\n",
    "assert(vcf_df.set_index(\"ID\").index.duplicated().sum()==0)\n",
    "vcf_df = vcf_df.set_index(\"ID\")"
   ]
  },
  {
   "cell_type": "code",
   "execution_count": null,
   "id": "4b85983a",
   "metadata": {},
   "outputs": [],
   "source": [
    "pileup_vars_df[\"ID\"] = pileup_vars_df.parallel_apply(lambda x: f\"{x['posID']}_{x['nt']}\", axis=1)\n",
    "pileup_vars_df.head()\n",
    "                                            "
   ]
  },
  {
   "cell_type": "code",
   "execution_count": null,
   "id": "e812144d",
   "metadata": {
    "scrolled": true
   },
   "outputs": [],
   "source": [
    "def is_var(entry, vcf_df):\n",
    "    if entry[\"ID\"] in vcf_df.index:\n",
    "        return True\n",
    "    return False \n",
    "#     curr_v = vcf_df.loc[(vcf_df[\"posID\"] == entry[\"posID\"]) & (vcf_df[\"ALT\"] == entry[\"nt\"])]\n",
    "#     if len(curr_v)==1:\n",
    "#         return True\n",
    "#     elif len(curr_v)>1:\n",
    "#         raise ValueError(f\"more than one variant? {curr_v}\")\n",
    "#     return False\n",
    "pileup_vars_df[\"isVar\"] = pileup_vars_df.parallel_apply(is_var, args=(vcf_df,), axis=1)"
   ]
  },
  {
   "cell_type": "code",
   "execution_count": null,
   "id": "c437cc8a",
   "metadata": {
    "scrolled": true
   },
   "outputs": [],
   "source": [
    "print(f\"total bases including ref {pileup_vars_df.shape[0]}\")\n",
    "print(f\"Variants detected {pileup_vars_df['isVar'].sum()}\")"
   ]
  },
  {
   "cell_type": "code",
   "execution_count": null,
   "id": "8a5d48cb",
   "metadata": {},
   "outputs": [],
   "source": [
    "pileup_vars_df[pileup_vars_df[\"isVar\"]]"
   ]
  },
  {
   "cell_type": "markdown",
   "id": "41c7e110",
   "metadata": {},
   "source": [
    "## Save"
   ]
  },
  {
   "cell_type": "code",
   "execution_count": null,
   "id": "49576a73",
   "metadata": {},
   "outputs": [],
   "source": [
    "pileup_vars_df[pileup_vars_df[\"isVar\"]].to_csv(join(outdir, \"af.pileup.tsv\"), sep=\"\\t\")"
   ]
  },
  {
   "cell_type": "code",
   "execution_count": null,
   "id": "621c2b2d",
   "metadata": {
    "scrolled": true
   },
   "outputs": [],
   "source": [
    "pileup_vars_df.to_csv(join(outdir, \"af.ref.pileup.tsv\"), sep=\"\\t\")"
   ]
  }
 ],
 "metadata": {
  "celltoolbar": "Tags",
  "kernelspec": {
   "display_name": "Python 3 (ipykernel)",
   "language": "python",
   "name": "python3"
  },
  "language_info": {
   "codemirror_mode": {
    "name": "ipython",
    "version": 3
   },
   "file_extension": ".py",
   "mimetype": "text/x-python",
   "name": "python",
   "nbconvert_exporter": "python",
   "pygments_lexer": "ipython3",
   "version": "3.7.12"
  }
 },
 "nbformat": 4,
 "nbformat_minor": 5
}
