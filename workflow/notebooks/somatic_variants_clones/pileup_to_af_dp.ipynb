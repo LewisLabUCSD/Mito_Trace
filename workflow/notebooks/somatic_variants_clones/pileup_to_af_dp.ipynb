{
 "cells": [
  {
   "cell_type": "code",
   "execution_count": 1,
   "id": "d165efb4",
   "metadata": {
    "tags": [
     "parameters"
    ]
   },
   "outputs": [],
   "source": [
    "# scPileupVars = \"/data/Mito_Trace/output/somatic_variants/CHIP_dec172021/aggregate/needle_post/peaks_chip_genes/CHIP_b1_Control/concat_scPileupVars/pileup.tsv\"\n",
    "# vcf = \"/data/Mito_Trace/output/somatic_variants/CHIP_dec172021/aggregate/variants.all.vcf\"\n",
    "# outdir = \"/data/Mito_Trace/output/somatic_variants/CHIP_dec172021/aggregate/needle_post/CHIP_b1_Control/cells_vars/vcfpad_1/\"\n",
    "# vcf_pad = 1\n",
    "\n",
    "vcf = \"/data/Mito_Trace/output/somatic_variants/CHIP_dec172021/aggregate/variants.all.vcf\"\n",
    "scPileupVars = \"/data/Mito_Trace/output/somatic_variants/CHIP_dec172021/aggregate/needle_post/peaks_all/CHIP_b1_Control/concat_scPileupVars/pileup.tsv\"\n",
    "vcf_pad = 1\n",
    "outdir = \"/data/Mito_Trace/output/somatic_variants/CHIP_dec172021/aggregate/needle_post/peaks_all/CHIP_b1_Control/cells_vars/vcfpad_1\"\n",
    "\n",
    "#barcodes_f = \"/home/isaac/lewis/mito_lineage/output/mtscATAC/data/CHIP_dec172021_b1/MTBlacklist_A2/Control/outs/filtered_peak_bc_matrix/barcodes.tsv\"\n",
    "#scPileupVars = \"/data/Mito_Trace/output/somatic_variants/CHIP_dec172021/aggregate/needle_post/CHIP_b1_Control/old_v01_scPileupVars/\""
   ]
  },
  {
   "cell_type": "code",
   "execution_count": 2,
   "id": "9da443f6",
   "metadata": {},
   "outputs": [
    {
     "name": "stdout",
     "output_type": "stream",
     "text": [
      "fig_utils from mplh\n"
     ]
    }
   ],
   "source": [
    "from glob import glob\n",
    "from os.path import basename, join\n",
    "from src.utils.data_io import read_csv_multichar\n",
    "import pandas as pd\n",
    "from pandarallel import pandarallel\n",
    "import matplotlib.pyplot as plt\n",
    "from tqdm.notebook import tqdm\n",
    "import numpy as np"
   ]
  },
  {
   "cell_type": "code",
   "execution_count": 3,
   "id": "24a9c8e6",
   "metadata": {},
   "outputs": [
    {
     "name": "stdout",
     "output_type": "stream",
     "text": [
      "INFO: Pandarallel will run on 16 workers.\n",
      "INFO: Pandarallel will use Memory file system to transfer data between the main process and workers.\n"
     ]
    }
   ],
   "source": [
    "pandarallel.initialize(nb_workers=16)"
   ]
  },
  {
   "cell_type": "code",
   "execution_count": 4,
   "id": "ad611bbe",
   "metadata": {},
   "outputs": [],
   "source": [
    "region_f = vcf+\".region.txt\"\n",
    "vcf_df = read_csv_multichar(vcf, sep=\"\\t\", multicomment=\"##\")\n",
    "vcf_df[[\"#CHROM\", \"POS\"]].to_csv(region_f, index=None, sep=\"\\t\", header=None)"
   ]
  },
  {
   "cell_type": "markdown",
   "id": "74ab3458",
   "metadata": {},
   "source": [
    "#### The vcf file is 1-based, while the pileup positions are 0-based since they were from bam (pysam was the program used)\n",
    "** Need to double check this"
   ]
  },
  {
   "cell_type": "code",
   "execution_count": 5,
   "id": "09e58375",
   "metadata": {
    "scrolled": true
   },
   "outputs": [
    {
     "data": {
      "text/html": [
       "<div>\n",
       "<style scoped>\n",
       "    .dataframe tbody tr th:only-of-type {\n",
       "        vertical-align: middle;\n",
       "    }\n",
       "\n",
       "    .dataframe tbody tr th {\n",
       "        vertical-align: top;\n",
       "    }\n",
       "\n",
       "    .dataframe thead th {\n",
       "        text-align: right;\n",
       "    }\n",
       "</style>\n",
       "<table border=\"1\" class=\"dataframe\">\n",
       "  <thead>\n",
       "    <tr style=\"text-align: right;\">\n",
       "      <th></th>\n",
       "      <th>#CHROM</th>\n",
       "      <th>POS</th>\n",
       "      <th>ID</th>\n",
       "      <th>REF</th>\n",
       "      <th>ALT</th>\n",
       "      <th>QUAL</th>\n",
       "      <th>FILTER</th>\n",
       "      <th>INFO</th>\n",
       "      <th>FORMAT</th>\n",
       "      <th>CHIP_b1_Control</th>\n",
       "      <th>...</th>\n",
       "      <th>CHIP_b2_Control</th>\n",
       "      <th>CHIP_b2_Flt3l</th>\n",
       "      <th>CHIP_b2_Input</th>\n",
       "      <th>CHIP_b3_Control</th>\n",
       "      <th>CHIP_b3_Flt3l</th>\n",
       "      <th>CHIP_b3_Input</th>\n",
       "      <th>CHIP_b4_Control</th>\n",
       "      <th>CHIP_b4_Flt3l</th>\n",
       "      <th>CHIP_b4_Input</th>\n",
       "      <th>posID</th>\n",
       "    </tr>\n",
       "  </thead>\n",
       "  <tbody>\n",
       "    <tr>\n",
       "      <th>1000</th>\n",
       "      <td>chr1</td>\n",
       "      <td>10018</td>\n",
       "      <td>.</td>\n",
       "      <td>C</td>\n",
       "      <td>G</td>\n",
       "      <td>97.47380</td>\n",
       "      <td>.</td>\n",
       "      <td>TYPE=snv;NS=12;AF=0.08333333;DP=4744;RO=4722;A...</td>\n",
       "      <td>GT:QVAL:DP:RO:AO:AF:SB:SOR:RVSB:FS:QVAL_minAF:...</td>\n",
       "      <td>0/0:0.2387064:681:678:1:0.001468429:402,276,1,...</td>\n",
       "      <td>...</td>\n",
       "      <td>0/0:0:234:233:0:0:113,120,0,0:-1:-1:0:944.2852:.</td>\n",
       "      <td>0/0:0:225:225:0:0:113,112,0,0:-1:-1:0:926.5604:.</td>\n",
       "      <td>0/0:0:343:343:0:0:176,167,0,0:-1:-1:0:1432.95:.</td>\n",
       "      <td>0/0:16.98098:186:184:2:0.01075269:100,84,0,2:9...</td>\n",
       "      <td>0/0:0:269:269:0:0:130,139,0,0:-1:-1:0:1116.99:.</td>\n",
       "      <td>0/0:0:108:108:0:0:53,55,0,0:-1:-1:0:416.3386:.</td>\n",
       "      <td>0/0:21.71786:356:353:3:0.008426966:162,191,2,1...</td>\n",
       "      <td>0/0:0:315:314:0:0:160,154,0,0:-1:-1:0:1305.324:.</td>\n",
       "      <td>0/0:0:118:118:0:0:67,51,0,0:-1:-1:0:458.7915:.</td>\n",
       "      <td>chr1_10017</td>\n",
       "    </tr>\n",
       "    <tr>\n",
       "      <th>1001</th>\n",
       "      <td>chr1</td>\n",
       "      <td>10031</td>\n",
       "      <td>.</td>\n",
       "      <td>T</td>\n",
       "      <td>TA</td>\n",
       "      <td>65.50475</td>\n",
       "      <td>.</td>\n",
       "      <td>TYPE=ins;NS=12;AF=0.08333333;DP=6095;RO=6077;A...</td>\n",
       "      <td>GT:QVAL:DP:RO:AO:AF:SB:SOR:RVSB:FS:QVAL_minAF:...</td>\n",
       "      <td>0/1:65.50475:856:853:5:0.005841121:532,321,3,2...</td>\n",
       "      <td>...</td>\n",
       "      <td>0/0:0:315:315:0:0:163,152,0,0:-1:-1:0:1790.363:.</td>\n",
       "      <td>0/0:0:286:286:0:0:146,140,0,0:-1:-1:0:1616.495:.</td>\n",
       "      <td>0/0:0:432:431:0:0:237,194,0,0:-1:-1:0:2483.383:.</td>\n",
       "      <td>0/0:0:245:245:0:0:141,104,0,0:-1:-1:0:1386.389:.</td>\n",
       "      <td>0/0:0:357:357:0:0:189,168,0,0:-1:-1:0:2052.156:.</td>\n",
       "      <td>0/0:0:141:141:0:0:70,71,0,0:-1:-1:0:744.5862:.</td>\n",
       "      <td>0/0:0:446:444:0:0:230,214,0,0:-1:-1:0:2570.377:.</td>\n",
       "      <td>0/0:0:381:379:0:0:208,171,0,0:-1:-1:0:2196.873:.</td>\n",
       "      <td>0/0:0:154:153:0:0:94,59,0,0:-1:-1:0:833.2017:.</td>\n",
       "      <td>chr1_10030</td>\n",
       "    </tr>\n",
       "    <tr>\n",
       "      <th>1002</th>\n",
       "      <td>chr1</td>\n",
       "      <td>10039</td>\n",
       "      <td>.</td>\n",
       "      <td>AC</td>\n",
       "      <td>A</td>\n",
       "      <td>87.23672</td>\n",
       "      <td>.</td>\n",
       "      <td>TYPE=del;NS=12;AF=0.08333333;DP=6678;RO=6620;A...</td>\n",
       "      <td>GT:QVAL:DP:RO:AO:AF:SB:SOR:RVSB:FS:QVAL_minAF:...</td>\n",
       "      <td>0/0:0:946:939:0:0:633,306,0,0:-1:-1:0:Inf:.</td>\n",
       "      <td>...</td>\n",
       "      <td>0/0:0:341:340:0:0:195,145,0,0:-1:-1:0:1873.462:.</td>\n",
       "      <td>0/0:0:308:306:0:0:178,128,0,0:-1:-1:0:1679.652:.</td>\n",
       "      <td>0/0:0:472:470:0:0:277,193,0,0:-1:-1:0:2615.803:.</td>\n",
       "      <td>0/0:0:259:259:0:0:168,91,0,0:-1:-1:0:1403.992:.</td>\n",
       "      <td>0/0:22.05355:368:361:2:0.005434783:218,143,0,2...</td>\n",
       "      <td>0/0:0:161:160:0:0:94,66,0,0:-1:-1:0:819.4477:.</td>\n",
       "      <td>0/0:21.33713:492:489:2:0.004065041:288,201,2,0...</td>\n",
       "      <td>0/0:0:422:422:0:0:251,171,0,0:-1:-1:0:2310.822:.</td>\n",
       "      <td>0/0:0:176:174:0:0:124,50,0,0:-1:-1:0:933.9806:.</td>\n",
       "      <td>chr1_10038</td>\n",
       "    </tr>\n",
       "    <tr>\n",
       "      <th>1003</th>\n",
       "      <td>chr1</td>\n",
       "      <td>10051</td>\n",
       "      <td>.</td>\n",
       "      <td>A</td>\n",
       "      <td>ACCG</td>\n",
       "      <td>67.72425</td>\n",
       "      <td>.</td>\n",
       "      <td>TYPE=ins;NS=12;AF=0.08333333;DP=7730;RO=7680;A...</td>\n",
       "      <td>GT:QVAL:DP:RO:AO:AF:SB:SOR:RVSB:FS:QVAL_minAF:...</td>\n",
       "      <td>0/0:0:1123:1117:0:0:754,363,0,0:-1:-1:0:Inf:.</td>\n",
       "      <td>...</td>\n",
       "      <td>0/0:0:384:382:0:0:230,152,0,0:-1:-1:0:2286.389:.</td>\n",
       "      <td>0/0:0:348:348:0:0:212,136,0,0:-1:-1:0:2077.343:.</td>\n",
       "      <td>0/0:0:535:532:0:0:317,215,0,0:-1:-1:0:Inf:.</td>\n",
       "      <td>0/0:0:293:291:0:0:191,100,0,0:-1:-1:0:1747.041:.</td>\n",
       "      <td>0/0:0:419:416:0:0:272,144,0,0:-1:-1:0:2530.343:.</td>\n",
       "      <td>0/0:0:190:190:0:0:113,77,0,0:-1:-1:0:1078.799:.</td>\n",
       "      <td>0/0:0:562:561:0:0:346,215,0,0:-1:-1:0:Inf:.</td>\n",
       "      <td>0/0:0:456:456:0:0:289,167,0,0:-1:-1:0:2738.056:.</td>\n",
       "      <td>0/0:0:208:206:0:0:137,69,0,0:-1:-1:0:1201.061:.</td>\n",
       "      <td>chr1_10050</td>\n",
       "    </tr>\n",
       "    <tr>\n",
       "      <th>1004</th>\n",
       "      <td>chr1</td>\n",
       "      <td>10055</td>\n",
       "      <td>.</td>\n",
       "      <td>TA</td>\n",
       "      <td>T</td>\n",
       "      <td>60.01402</td>\n",
       "      <td>.</td>\n",
       "      <td>TYPE=del;NS=12;AF=0.1666667;DP=7734;RO=7677;AO...</td>\n",
       "      <td>GT:QVAL:DP:RO:AO:AF:SB:SOR:RVSB:FS:QVAL_minAF:...</td>\n",
       "      <td>0/1:60.01402:1122:1113:9:0.00802139:707,406,4,...</td>\n",
       "      <td>...</td>\n",
       "      <td>0/0:0:389:388:0:0:236,152,0,0:-1:-1:0:1570.522:.</td>\n",
       "      <td>0/0:0:352:352:0:0:216,136,0,0:-1:-1:0:1430.16:.</td>\n",
       "      <td>0/0:0.5660855:535:535:1:0.001869159:314,221,0,...</td>\n",
       "      <td>0/0:0:295:294:0:0:196,98,0,0:-1:-1:0:1183.517:.</td>\n",
       "      <td>0/0:0.5660855:422:421:1:0.002369668:270,151,0,...</td>\n",
       "      <td>0/0:0:189:186:0:0:107,79,0,0:-1:-1:0:730.9136:.</td>\n",
       "      <td>0/0:0:557:555:0:0:335,220,0,0:-1:-1:0:2283.826:.</td>\n",
       "      <td>0/0:0:451:449:0:0:288,161,0,0:-1:-1:0:1836.398:.</td>\n",
       "      <td>0/0:0:198:197:0:0:128,69,0,0:-1:-1:0:772.6831:.</td>\n",
       "      <td>chr1_10054</td>\n",
       "    </tr>\n",
       "  </tbody>\n",
       "</table>\n",
       "<p>5 rows × 22 columns</p>\n",
       "</div>"
      ],
      "text/plain": [
       "     #CHROM    POS ID REF   ALT      QUAL FILTER  \\\n",
       "1000   chr1  10018  .   C     G  97.47380      .   \n",
       "1001   chr1  10031  .   T    TA  65.50475      .   \n",
       "1002   chr1  10039  .  AC     A  87.23672      .   \n",
       "1003   chr1  10051  .   A  ACCG  67.72425      .   \n",
       "1004   chr1  10055  .  TA     T  60.01402      .   \n",
       "\n",
       "                                                   INFO  \\\n",
       "1000  TYPE=snv;NS=12;AF=0.08333333;DP=4744;RO=4722;A...   \n",
       "1001  TYPE=ins;NS=12;AF=0.08333333;DP=6095;RO=6077;A...   \n",
       "1002  TYPE=del;NS=12;AF=0.08333333;DP=6678;RO=6620;A...   \n",
       "1003  TYPE=ins;NS=12;AF=0.08333333;DP=7730;RO=7680;A...   \n",
       "1004  TYPE=del;NS=12;AF=0.1666667;DP=7734;RO=7677;AO...   \n",
       "\n",
       "                                                 FORMAT  \\\n",
       "1000  GT:QVAL:DP:RO:AO:AF:SB:SOR:RVSB:FS:QVAL_minAF:...   \n",
       "1001  GT:QVAL:DP:RO:AO:AF:SB:SOR:RVSB:FS:QVAL_minAF:...   \n",
       "1002  GT:QVAL:DP:RO:AO:AF:SB:SOR:RVSB:FS:QVAL_minAF:...   \n",
       "1003  GT:QVAL:DP:RO:AO:AF:SB:SOR:RVSB:FS:QVAL_minAF:...   \n",
       "1004  GT:QVAL:DP:RO:AO:AF:SB:SOR:RVSB:FS:QVAL_minAF:...   \n",
       "\n",
       "                                        CHIP_b1_Control  ...  \\\n",
       "1000  0/0:0.2387064:681:678:1:0.001468429:402,276,1,...  ...   \n",
       "1001  0/1:65.50475:856:853:5:0.005841121:532,321,3,2...  ...   \n",
       "1002        0/0:0:946:939:0:0:633,306,0,0:-1:-1:0:Inf:.  ...   \n",
       "1003      0/0:0:1123:1117:0:0:754,363,0,0:-1:-1:0:Inf:.  ...   \n",
       "1004  0/1:60.01402:1122:1113:9:0.00802139:707,406,4,...  ...   \n",
       "\n",
       "                                       CHIP_b2_Control  \\\n",
       "1000  0/0:0:234:233:0:0:113,120,0,0:-1:-1:0:944.2852:.   \n",
       "1001  0/0:0:315:315:0:0:163,152,0,0:-1:-1:0:1790.363:.   \n",
       "1002  0/0:0:341:340:0:0:195,145,0,0:-1:-1:0:1873.462:.   \n",
       "1003  0/0:0:384:382:0:0:230,152,0,0:-1:-1:0:2286.389:.   \n",
       "1004  0/0:0:389:388:0:0:236,152,0,0:-1:-1:0:1570.522:.   \n",
       "\n",
       "                                         CHIP_b2_Flt3l  \\\n",
       "1000  0/0:0:225:225:0:0:113,112,0,0:-1:-1:0:926.5604:.   \n",
       "1001  0/0:0:286:286:0:0:146,140,0,0:-1:-1:0:1616.495:.   \n",
       "1002  0/0:0:308:306:0:0:178,128,0,0:-1:-1:0:1679.652:.   \n",
       "1003  0/0:0:348:348:0:0:212,136,0,0:-1:-1:0:2077.343:.   \n",
       "1004   0/0:0:352:352:0:0:216,136,0,0:-1:-1:0:1430.16:.   \n",
       "\n",
       "                                          CHIP_b2_Input  \\\n",
       "1000    0/0:0:343:343:0:0:176,167,0,0:-1:-1:0:1432.95:.   \n",
       "1001   0/0:0:432:431:0:0:237,194,0,0:-1:-1:0:2483.383:.   \n",
       "1002   0/0:0:472:470:0:0:277,193,0,0:-1:-1:0:2615.803:.   \n",
       "1003        0/0:0:535:532:0:0:317,215,0,0:-1:-1:0:Inf:.   \n",
       "1004  0/0:0.5660855:535:535:1:0.001869159:314,221,0,...   \n",
       "\n",
       "                                        CHIP_b3_Control  \\\n",
       "1000  0/0:16.98098:186:184:2:0.01075269:100,84,0,2:9...   \n",
       "1001   0/0:0:245:245:0:0:141,104,0,0:-1:-1:0:1386.389:.   \n",
       "1002    0/0:0:259:259:0:0:168,91,0,0:-1:-1:0:1403.992:.   \n",
       "1003   0/0:0:293:291:0:0:191,100,0,0:-1:-1:0:1747.041:.   \n",
       "1004    0/0:0:295:294:0:0:196,98,0,0:-1:-1:0:1183.517:.   \n",
       "\n",
       "                                          CHIP_b3_Flt3l  \\\n",
       "1000    0/0:0:269:269:0:0:130,139,0,0:-1:-1:0:1116.99:.   \n",
       "1001   0/0:0:357:357:0:0:189,168,0,0:-1:-1:0:2052.156:.   \n",
       "1002  0/0:22.05355:368:361:2:0.005434783:218,143,0,2...   \n",
       "1003   0/0:0:419:416:0:0:272,144,0,0:-1:-1:0:2530.343:.   \n",
       "1004  0/0:0.5660855:422:421:1:0.002369668:270,151,0,...   \n",
       "\n",
       "                                        CHIP_b3_Input  \\\n",
       "1000   0/0:0:108:108:0:0:53,55,0,0:-1:-1:0:416.3386:.   \n",
       "1001   0/0:0:141:141:0:0:70,71,0,0:-1:-1:0:744.5862:.   \n",
       "1002   0/0:0:161:160:0:0:94,66,0,0:-1:-1:0:819.4477:.   \n",
       "1003  0/0:0:190:190:0:0:113,77,0,0:-1:-1:0:1078.799:.   \n",
       "1004  0/0:0:189:186:0:0:107,79,0,0:-1:-1:0:730.9136:.   \n",
       "\n",
       "                                        CHIP_b4_Control  \\\n",
       "1000  0/0:21.71786:356:353:3:0.008426966:162,191,2,1...   \n",
       "1001   0/0:0:446:444:0:0:230,214,0,0:-1:-1:0:2570.377:.   \n",
       "1002  0/0:21.33713:492:489:2:0.004065041:288,201,2,0...   \n",
       "1003        0/0:0:562:561:0:0:346,215,0,0:-1:-1:0:Inf:.   \n",
       "1004   0/0:0:557:555:0:0:335,220,0,0:-1:-1:0:2283.826:.   \n",
       "\n",
       "                                         CHIP_b4_Flt3l  \\\n",
       "1000  0/0:0:315:314:0:0:160,154,0,0:-1:-1:0:1305.324:.   \n",
       "1001  0/0:0:381:379:0:0:208,171,0,0:-1:-1:0:2196.873:.   \n",
       "1002  0/0:0:422:422:0:0:251,171,0,0:-1:-1:0:2310.822:.   \n",
       "1003  0/0:0:456:456:0:0:289,167,0,0:-1:-1:0:2738.056:.   \n",
       "1004  0/0:0:451:449:0:0:288,161,0,0:-1:-1:0:1836.398:.   \n",
       "\n",
       "                                        CHIP_b4_Input       posID  \n",
       "1000   0/0:0:118:118:0:0:67,51,0,0:-1:-1:0:458.7915:.  chr1_10017  \n",
       "1001   0/0:0:154:153:0:0:94,59,0,0:-1:-1:0:833.2017:.  chr1_10030  \n",
       "1002  0/0:0:176:174:0:0:124,50,0,0:-1:-1:0:933.9806:.  chr1_10038  \n",
       "1003  0/0:0:208:206:0:0:137,69,0,0:-1:-1:0:1201.061:.  chr1_10050  \n",
       "1004  0/0:0:198:197:0:0:128,69,0,0:-1:-1:0:772.6831:.  chr1_10054  \n",
       "\n",
       "[5 rows x 22 columns]"
      ]
     },
     "execution_count": 5,
     "metadata": {},
     "output_type": "execute_result"
    }
   ],
   "source": [
    "vcf_df = vcf_df.loc[vcf_df[\"#CHROM\"].str.contains(\"^chr\")]\n",
    "vcf_df\n",
    "\n",
    "vcf_df[\"posID\"] = vcf_df[\"#CHROM\"] + \"_\" + (vcf_df[\"POS\"].astype(int)-vcf_pad).astype(str)\n",
    "vcf_df.head()"
   ]
  },
  {
   "cell_type": "code",
   "execution_count": 6,
   "id": "aca2c5f5",
   "metadata": {},
   "outputs": [],
   "source": [
    "# pileup_files = glob(scPileupVars+\"/*.bq.tsv\")\n",
    "# len(pileup_files)"
   ]
  },
  {
   "cell_type": "code",
   "execution_count": null,
   "id": "1e2373e4",
   "metadata": {
    "scrolled": false
   },
   "outputs": [],
   "source": [
    "pileup_df = pd.read_csv(scPileupVars,sep=\"\\t\", index_col=0)\n",
    "pileup_df.head()"
   ]
  },
  {
   "cell_type": "markdown",
   "id": "3671075d",
   "metadata": {},
   "source": [
    "### When concatenating the column names were added too so need to drop those entries and convert the dtypes"
   ]
  },
  {
   "cell_type": "code",
   "execution_count": null,
   "id": "f1542f54",
   "metadata": {},
   "outputs": [],
   "source": [
    "print(pileup_df.shape)\n",
    "pileup_df = pileup_df.loc[~((pileup_df[\"chr\"] == \"chr\") & (pileup_df[\"nt\"] == \"nt\"))].copy()\n",
    "pileup_df.shape"
   ]
  },
  {
   "cell_type": "code",
   "execution_count": null,
   "id": "da5e4331",
   "metadata": {
    "scrolled": false
   },
   "outputs": [],
   "source": [
    "pileup_df[\"posID\"] = pileup_df[\"chr\"] + \"_\" + pileup_df[\"pos\"]\n",
    "pileup_df = pileup_df.astype({\"pos\":int, \"BQ\": float, \"count\": int})\n",
    "pileup_df[\"BQ\"] = pileup_df[\"BQ\"].astype(int)\n",
    "pileup_df.dtypes"
   ]
  },
  {
   "cell_type": "markdown",
   "id": "ba28275b",
   "metadata": {},
   "source": [
    "## Generate coverage for each pos"
   ]
  },
  {
   "cell_type": "code",
   "execution_count": null,
   "id": "85c6a4ff",
   "metadata": {},
   "outputs": [],
   "source": [
    "num_nts_each = pileup_df.groupby([\"chr\", \"pos\", \"cell\"]).size()\n",
    "plt.hist(num_nts_each)\n",
    "plt.yscale('log')"
   ]
  },
  {
   "cell_type": "markdown",
   "id": "9525013a",
   "metadata": {},
   "source": [
    "## Extract just the variants"
   ]
  },
  {
   "cell_type": "code",
   "execution_count": null,
   "id": "dd37b111",
   "metadata": {
    "scrolled": false
   },
   "outputs": [],
   "source": [
    "vcf_df.head()"
   ]
  },
  {
   "cell_type": "code",
   "execution_count": null,
   "id": "cb33b14f",
   "metadata": {
    "scrolled": false
   },
   "outputs": [],
   "source": [
    "pileup_vars_df = pileup_df.loc[pileup_df[\"posID\"].isin(vcf_df[\"posID\"])].copy()\n",
    "pileup_vars_df"
   ]
  },
  {
   "cell_type": "code",
   "execution_count": null,
   "id": "3aea3bee",
   "metadata": {
    "scrolled": true
   },
   "outputs": [],
   "source": [
    "pileup_vars_df[\"coverage\"] = pileup_vars_df.groupby([\"chr\", \"pos\", \"cell\"])[\"count\"].transform(lambda x: sum(x))\n",
    "pileup_vars_df[\"AF\"] = pileup_vars_df[\"count\"]/pileup_vars_df[\"coverage\"]\n",
    "pileup_vars_df.head()"
   ]
  },
  {
   "cell_type": "code",
   "execution_count": null,
   "id": "45f6fa8e",
   "metadata": {
    "scrolled": true
   },
   "outputs": [],
   "source": [
    "vcf_pos_df = vcf_df.set_index(\"posID\")\n",
    "vcf_pos_df = vcf_pos_df.loc[~(vcf_pos_df.index.duplicated())]\n",
    "vcf_pos_df.head()"
   ]
  },
  {
   "cell_type": "code",
   "execution_count": null,
   "id": "a1a77430",
   "metadata": {},
   "outputs": [],
   "source": [
    "pileup_vars_df[\"ref\"] = pileup_vars_df.apply(lambda x: vcf_pos_df.loc[x[\"posID\"], \"REF\"], axis=1)\n",
    "pileup_vars_df.head()"
   ]
  },
  {
   "cell_type": "code",
   "execution_count": null,
   "id": "d3fe6ef1",
   "metadata": {
    "scrolled": true
   },
   "outputs": [],
   "source": [
    "# print(\"Multi-allele positions\")\n",
    "# pileup_vars_df.loc[pileup_vars_df[\"count\"]!=pileup_vars_df[\"coverage\"]].sort_values([\"cell\", \"posID\"]).head(20)"
   ]
  },
  {
   "cell_type": "markdown",
   "id": "ee092bda",
   "metadata": {},
   "source": [
    "## Keep the variants not ref"
   ]
  },
  {
   "cell_type": "code",
   "execution_count": null,
   "id": "8a85ee3f",
   "metadata": {},
   "outputs": [],
   "source": [
    "vcf_df[\"ID\"] = vcf_df.apply(lambda x: f\"{x['posID']}_{x['ALT']}\", axis=1)\n",
    "assert(vcf_df.set_index(\"ID\").index.duplicated().sum()==0)\n",
    "vcf_df = vcf_df.set_index(\"ID\")"
   ]
  },
  {
   "cell_type": "code",
   "execution_count": null,
   "id": "4b85983a",
   "metadata": {},
   "outputs": [],
   "source": [
    "pileup_vars_df[\"ID\"] = pileup_vars_df.apply(lambda x: f\"{x['posID']}_{x['nt']}\", axis=1)\n",
    "pileup_vars_df.head()\n",
    "                                            "
   ]
  },
  {
   "cell_type": "code",
   "execution_count": null,
   "id": "e812144d",
   "metadata": {
    "scrolled": true
   },
   "outputs": [],
   "source": [
    "def is_var(entry, vcf_df):\n",
    "    if entry[\"ID\"] in vcf_df.index:\n",
    "        return True\n",
    "    return False \n",
    "#     curr_v = vcf_df.loc[(vcf_df[\"posID\"] == entry[\"posID\"]) & (vcf_df[\"ALT\"] == entry[\"nt\"])]\n",
    "#     if len(curr_v)==1:\n",
    "#         return True\n",
    "#     elif len(curr_v)>1:\n",
    "#         raise ValueError(f\"more than one variant? {curr_v}\")\n",
    "#     return False\n",
    "pileup_vars_df[\"isVar\"] = pileup_vars_df.parallel_apply(is_var, args=(vcf_df,), axis=1)"
   ]
  },
  {
   "cell_type": "code",
   "execution_count": null,
   "id": "c437cc8a",
   "metadata": {
    "scrolled": true
   },
   "outputs": [],
   "source": [
    "print(f\"total bases including ref {pileup_vars_df.shape[0]}\")\n",
    "print(f\"Variants detected {pileup_vars_df['isVar'].sum()}\")"
   ]
  },
  {
   "cell_type": "code",
   "execution_count": null,
   "id": "8a5d48cb",
   "metadata": {},
   "outputs": [],
   "source": [
    "pileup_vars_df[pileup_vars_df[\"isVar\"]]"
   ]
  },
  {
   "cell_type": "markdown",
   "id": "41c7e110",
   "metadata": {},
   "source": [
    "## Save"
   ]
  },
  {
   "cell_type": "code",
   "execution_count": null,
   "id": "49576a73",
   "metadata": {},
   "outputs": [],
   "source": [
    "pileup_vars_df[pileup_vars_df[\"isVar\"]].to_csv(join(outdir, \"af.pileup.tsv\"), sep=\"\\t\")"
   ]
  },
  {
   "cell_type": "code",
   "execution_count": null,
   "id": "621c2b2d",
   "metadata": {
    "scrolled": true
   },
   "outputs": [],
   "source": [
    "pileup_vars_df.to_csv(join(outdir, \"af.ref.pileup.tsv\"), sep=\"\\t\")"
   ]
  }
 ],
 "metadata": {
  "celltoolbar": "Tags",
  "kernelspec": {
   "display_name": "Python 3 (ipykernel)",
   "language": "python",
   "name": "python3"
  },
  "language_info": {
   "codemirror_mode": {
    "name": "ipython",
    "version": 3
   },
   "file_extension": ".py",
   "mimetype": "text/x-python",
   "name": "python",
   "nbconvert_exporter": "python",
   "pygments_lexer": "ipython3",
   "version": "3.7.12"
  }
 },
 "nbformat": 4,
 "nbformat_minor": 5
}
