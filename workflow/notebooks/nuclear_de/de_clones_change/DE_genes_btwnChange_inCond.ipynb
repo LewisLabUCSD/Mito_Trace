{
 "cells": [
  {
   "cell_type": "markdown",
   "id": "223d6f46",
   "metadata": {},
   "source": [
    "## Runs DE on different clusters. Also runs DE within each cluster for each condition.\n",
    "Does this over each donor and combined"
   ]
  },
  {
   "cell_type": "code",
   "execution_count": 1,
   "id": "235ae72f",
   "metadata": {
    "tags": [
     "parameters"
    ]
   },
   "outputs": [],
   "source": [
    "# Input info\n",
    "se_f = \"/data/Mito_Trace/output/pipeline/TcellDupi_may17_2021/MTblacklist/data/merged/MT/cellr_True/numread_200/filters/minC10_minR50_topN0_hetT0.001_hetC10_hetCount5_bq20/mgatk/vireoIn/clones/variants_init/knn/kparam_3/concat/gff_hg38_1_2/annotation_clones/SE.rds\"\n",
    "clone_changes_f = \"/data/Mito_Trace/output/pipeline/TcellDupi_may17_2021/MTblacklist/data/merged/MT/cellr_True/numread_200/filters/minC10_minR50_topN0_hetT0.001_hetC10_hetCount5_bq20/mgatk/vireoIn/clones/variants_init/knn/kparam_3/concat/gff_hg38_1_2/clones_change/filt_fisher__shuffle_False__padj_True__pthresh_0.01_minC_1__bothMinC__0/preproc/clone_change.csv\"\n",
    "\n",
    "outdir = \"/data/Mito_Trace/output/pipeline/TcellDupi_may17_2021/MTblacklist/data/merged/MT/cellr_True/numread_200/filters/minC10_minR50_topN0_hetT0.001_hetC10_hetCount5_bq20/mgatk/vireoIn/clones/variants_init/knn/kparam_3/concat/gff_hg38_1_2/clones_change/filt_fisher__shuffle_False__padj_True__pthresh_0.01_minC_1__bothMinC__0/de/btwnChange_inCond/minPct_0.01__logfc0.1_pthresh_0.01\"\n",
    "\n",
    "# Parallel processing\n",
    "cores = 4\n",
    "# R utils script\n",
    "utils_script <- \"/data/Mito_Trace/R_scripts/seurat_utils.R\"\n",
    "\n",
    "top_de = 3\n",
    "logfcthresh=0.1\n",
    "minPct = 0.01\n",
    "p_thresh=0.01"
   ]
  },
  {
   "cell_type": "code",
   "execution_count": 2,
   "id": "267d13e6",
   "metadata": {
    "scrolled": true
   },
   "outputs": [
    {
     "name": "stderr",
     "output_type": "stream",
     "text": [
      "Attaching SeuratObject\n",
      "\n",
      "\n",
      "Attaching package: ‘dplyr’\n",
      "\n",
      "\n",
      "The following objects are masked from ‘package:stats’:\n",
      "\n",
      "    filter, lag\n",
      "\n",
      "\n",
      "The following objects are masked from ‘package:base’:\n",
      "\n",
      "    intersect, setdiff, setequal, union\n",
      "\n",
      "\n"
     ]
    }
   ],
   "source": [
    "source(utils_script)\n",
    "source(\"/data/Mito_Trace/R_scripts/plot_de_over_all.R\")\n",
    "dir.create(outdir)\n",
    "donor.outdir <- file.path(outdir, \"sepDonors\")\n",
    "dir.create(donor.outdir)\n",
    "\n",
    "all.donor.outdir <- file.path(outdir, \"allDonors\")\n",
    "dir.create(all.donor.outdir)"
   ]
  },
  {
   "cell_type": "code",
   "execution_count": 3,
   "id": "aad4f638",
   "metadata": {
    "scrolled": true
   },
   "outputs": [
    {
     "name": "stderr",
     "output_type": "stream",
     "text": [
      "Loading required package: stats4\n",
      "\n",
      "Loading required package: BiocGenerics\n",
      "\n",
      "\n",
      "Attaching package: ‘BiocGenerics’\n",
      "\n",
      "\n",
      "The following objects are masked from ‘package:dplyr’:\n",
      "\n",
      "    combine, intersect, setdiff, union\n",
      "\n",
      "\n",
      "The following objects are masked from ‘package:stats’:\n",
      "\n",
      "    IQR, mad, sd, var, xtabs\n",
      "\n",
      "\n",
      "The following objects are masked from ‘package:base’:\n",
      "\n",
      "    anyDuplicated, append, as.data.frame, basename, cbind, colnames,\n",
      "    dirname, do.call, duplicated, eval, evalq, Filter, Find, get, grep,\n",
      "    grepl, intersect, is.unsorted, lapply, Map, mapply, match, mget,\n",
      "    order, paste, pmax, pmax.int, pmin, pmin.int, Position, rank,\n",
      "    rbind, Reduce, rownames, sapply, setdiff, sort, table, tapply,\n",
      "    union, unique, unsplit, which.max, which.min\n",
      "\n",
      "\n",
      "Loading required package: S4Vectors\n",
      "\n",
      "\n",
      "Attaching package: ‘S4Vectors’\n",
      "\n",
      "\n",
      "The following objects are masked from ‘package:dplyr’:\n",
      "\n",
      "    first, rename\n",
      "\n",
      "\n",
      "The following objects are masked from ‘package:base’:\n",
      "\n",
      "    expand.grid, I, unname\n",
      "\n",
      "\n",
      "Loading required package: IRanges\n",
      "\n",
      "\n",
      "Attaching package: ‘IRanges’\n",
      "\n",
      "\n",
      "The following objects are masked from ‘package:dplyr’:\n",
      "\n",
      "    collapse, desc, slice\n",
      "\n",
      "\n",
      "Loading required package: GenomeInfoDb\n",
      "\n",
      "Loading required package: ensembldb\n",
      "\n",
      "Loading required package: GenomicFeatures\n",
      "\n",
      "Loading required package: AnnotationDbi\n",
      "\n",
      "Loading required package: Biobase\n",
      "\n",
      "Welcome to Bioconductor\n",
      "\n",
      "    Vignettes contain introductory material; view with\n",
      "    'browseVignettes()'. To cite Bioconductor, see\n",
      "    'citation(\"Biobase\")', and for packages 'citation(\"pkgname\")'.\n",
      "\n",
      "\n",
      "\n",
      "Attaching package: ‘AnnotationDbi’\n",
      "\n",
      "\n",
      "The following object is masked from ‘package:dplyr’:\n",
      "\n",
      "    select\n",
      "\n",
      "\n",
      "Loading required package: AnnotationFilter\n",
      "\n",
      "\n",
      "Attaching package: 'ensembldb'\n",
      "\n",
      "\n",
      "The following object is masked from 'package:dplyr':\n",
      "\n",
      "    filter\n",
      "\n",
      "\n",
      "The following object is masked from 'package:stats':\n",
      "\n",
      "    filter\n",
      "\n",
      "\n",
      "\n",
      "Attaching package: 'data.table'\n",
      "\n",
      "\n",
      "The following object is masked from 'package:GenomicRanges':\n",
      "\n",
      "    shift\n",
      "\n",
      "\n",
      "The following object is masked from 'package:IRanges':\n",
      "\n",
      "    shift\n",
      "\n",
      "\n",
      "The following objects are masked from 'package:S4Vectors':\n",
      "\n",
      "    first, second\n",
      "\n",
      "\n",
      "The following objects are masked from 'package:dplyr':\n",
      "\n",
      "    between, first, last\n",
      "\n",
      "\n",
      "\n",
      "Attaching package: 'magrittr'\n",
      "\n",
      "\n",
      "The following object is masked from 'package:AnnotationFilter':\n",
      "\n",
      "    not\n",
      "\n",
      "\n",
      "\n",
      "Attaching package: 'cowplot'\n",
      "\n",
      "\n",
      "The following object is masked from 'package:patchwork':\n",
      "\n",
      "    align_plots\n",
      "\n",
      "\n",
      "\n",
      "Attaching package: 'future'\n",
      "\n",
      "\n",
      "The following object is masked from 'package:AnnotationFilter':\n",
      "\n",
      "    value\n",
      "\n",
      "\n",
      "The following object is masked from 'package:GenomicRanges':\n",
      "\n",
      "    values\n",
      "\n",
      "\n",
      "The following object is masked from 'package:S4Vectors':\n",
      "\n",
      "    values\n",
      "\n",
      "\n"
     ]
    },
    {
     "data": {
      "text/html": [
       "<pre class=language-r><code>structure(function (..., envir = parent.frame()) \n",
       "{\n",
       "<span style=white-space:pre-wrap>    future &lt;- SequentialFuture(..., envir = envir)</span>\n",
       "<span style=white-space:pre-wrap>    if (!future$lazy) </span>\n",
       "<span style=white-space:pre-wrap>        future &lt;- run(future)</span>\n",
       "<span style=white-space:pre-wrap>    invisible(future)</span>\n",
       "}, class = c(\"FutureStrategy\", \"sequential\", \"uniprocess\", \"future\", \n",
       "\"function\"))</code></pre>"
      ],
      "text/latex": [
       "\\begin{minted}{r}\n",
       "structure(function (..., envir = parent.frame()) \n",
       "\\{\n",
       "    future <- SequentialFuture(..., envir = envir)\n",
       "    if (!future\\$lazy) \n",
       "        future <- run(future)\n",
       "    invisible(future)\n",
       "\\}, class = c(\"FutureStrategy\", \"sequential\", \"uniprocess\", \"future\", \n",
       "\"function\"))\n",
       "\\end{minted}"
      ],
      "text/markdown": [
       "```r\n",
       "structure(function (..., envir = parent.frame()) \n",
       "{\n",
       "    future <- SequentialFuture(..., envir = envir)\n",
       "    if (!future$lazy) \n",
       "        future <- run(future)\n",
       "    invisible(future)\n",
       "}, class = c(\"FutureStrategy\", \"sequential\", \"uniprocess\", \"future\", \n",
       "\"function\"))\n",
       "```"
      ],
      "text/plain": [
       "sequential:\n",
       "- args: function (..., envir = parent.frame())\n",
       "- tweaked: FALSE\n",
       "- call: NULL"
      ]
     },
     "metadata": {},
     "output_type": "display_data"
    },
    {
     "name": "stderr",
     "output_type": "stream",
     "text": [
      "Warning message:\n",
      "\"Strategy 'multiprocess' is deprecated in future (>= 1.20.0). Instead, explicitly specify either 'multisession' or 'multicore'. In the current R session, 'multiprocess' equals 'multicore'.\"\n"
     ]
    }
   ],
   "source": [
    "library(GenomicRanges)\n",
    "library(Seurat)\n",
    "library(Signac)\n",
    "library(GenomeInfoDb)\n",
    "library(EnsDb.Hsapiens.v75)\n",
    "library(ggplot2)\n",
    "library(patchwork)\n",
    "set.seed(1234)\n",
    "library(data.table)\n",
    "library(magrittr)\n",
    "library(cowplot)\n",
    "library(metap)\n",
    "library(\"RColorBrewer\")\n",
    "library(dplyr)\n",
    "library(future)\n",
    "plan()\n",
    "\n",
    "plan(\"multiprocess\", workers = cores)\n",
    "#options(future.globals.maxSize = 50000 * 1024^2) # for 50 Gb RAM\n",
    "options(future.globals.maxSize = 8000 * 1024^2)"
   ]
  },
  {
   "cell_type": "code",
   "execution_count": 4,
   "id": "7cc056e3",
   "metadata": {
    "scrolled": true
   },
   "outputs": [
    {
     "data": {
      "text/plain": [
       "An object of class Seurat \n",
       "97805 features across 22239 samples within 2 assays \n",
       "Active assay: RNA (19575 features, 0 variable features)\n",
       " 1 other assay present: ATAC\n",
       " 2 dimensional reductions calculated: integrated_lsi, umap"
      ]
     },
     "metadata": {},
     "output_type": "display_data"
    }
   ],
   "source": [
    "se <- readRDS(se_f)#file.path(indir, paste0(\"allSamples.integrated.rds\")))\n",
    "se"
   ]
  },
  {
   "cell_type": "markdown",
   "id": "0c2e4e1d",
   "metadata": {},
   "source": [
    "# Load clone_changes"
   ]
  },
  {
   "cell_type": "code",
   "execution_count": 5,
   "id": "1edf3a6c",
   "metadata": {},
   "outputs": [
    {
     "data": {
      "text/html": [
       "'/data/Mito_Trace/output/pipeline/TcellDupi_may17_2021/MTblacklist/data/merged/MT/cellr_True/numread_200/filters/minC10_minR50_topN0_hetT0.001_hetC10_hetCount5_bq20/mgatk/vireoIn/clones/variants_init/knn/kparam_3/concat/gff_hg38_1_2/clones_change/filt_fisher__shuffle_False__padj_True__pthresh_0.01_minC_1__bothMinC__0/preproc/clone_change.csv'"
      ],
      "text/latex": [
       "'/data/Mito\\_Trace/output/pipeline/TcellDupi\\_may17\\_2021/MTblacklist/data/merged/MT/cellr\\_True/numread\\_200/filters/minC10\\_minR50\\_topN0\\_hetT0.001\\_hetC10\\_hetCount5\\_bq20/mgatk/vireoIn/clones/variants\\_init/knn/kparam\\_3/concat/gff\\_hg38\\_1\\_2/clones\\_change/filt\\_fisher\\_\\_shuffle\\_False\\_\\_padj\\_True\\_\\_pthresh\\_0.01\\_minC\\_1\\_\\_bothMinC\\_\\_0/preproc/clone\\_change.csv'"
      ],
      "text/markdown": [
       "'/data/Mito_Trace/output/pipeline/TcellDupi_may17_2021/MTblacklist/data/merged/MT/cellr_True/numread_200/filters/minC10_minR50_topN0_hetT0.001_hetC10_hetCount5_bq20/mgatk/vireoIn/clones/variants_init/knn/kparam_3/concat/gff_hg38_1_2/clones_change/filt_fisher__shuffle_False__padj_True__pthresh_0.01_minC_1__bothMinC__0/preproc/clone_change.csv'"
      ],
      "text/plain": [
       "[1] \"/data/Mito_Trace/output/pipeline/TcellDupi_may17_2021/MTblacklist/data/merged/MT/cellr_True/numread_200/filters/minC10_minR50_topN0_hetT0.001_hetC10_hetCount5_bq20/mgatk/vireoIn/clones/variants_init/knn/kparam_3/concat/gff_hg38_1_2/clones_change/filt_fisher__shuffle_False__padj_True__pthresh_0.01_minC_1__bothMinC__0/preproc/clone_change.csv\""
      ]
     },
     "metadata": {},
     "output_type": "display_data"
    }
   ],
   "source": [
    "clone_changes_f"
   ]
  },
  {
   "cell_type": "code",
   "execution_count": 6,
   "id": "d235ac0e",
   "metadata": {},
   "outputs": [],
   "source": [
    "clone_changes <- read.csv(clone_changes_f)\n",
    "row.names(clone_changes) <-clone_changes$name"
   ]
  },
  {
   "cell_type": "code",
   "execution_count": 7,
   "id": "1e91be08",
   "metadata": {
    "scrolled": true
   },
   "outputs": [
    {
     "data": {
      "text/html": [
       "<table class=\"dataframe\">\n",
       "<caption>A data.frame: 95 × 2</caption>\n",
       "<thead>\n",
       "\t<tr><th></th><th scope=col>name</th><th scope=col>change</th></tr>\n",
       "\t<tr><th></th><th scope=col>&lt;chr&gt;</th><th scope=col>&lt;chr&gt;</th></tr>\n",
       "</thead>\n",
       "<tbody>\n",
       "\t<tr><th scope=row>0_5</th><td>0_5 </td><td>regress</td></tr>\n",
       "\t<tr><th scope=row>0_25</th><td>0_25</td><td>regress</td></tr>\n",
       "\t<tr><th scope=row>0_8</th><td>0_8 </td><td>expand </td></tr>\n",
       "\t<tr><th scope=row>0_12</th><td>0_12</td><td>regress</td></tr>\n",
       "\t<tr><th scope=row>0_17</th><td>0_17</td><td>expand </td></tr>\n",
       "\t<tr><th scope=row>1_39</th><td>1_39</td><td>regress</td></tr>\n",
       "\t<tr><th scope=row>1_1</th><td>1_1 </td><td>regress</td></tr>\n",
       "\t<tr><th scope=row>0_11</th><td>0_11</td><td>regress</td></tr>\n",
       "\t<tr><th scope=row>0_24</th><td>0_24</td><td>regress</td></tr>\n",
       "\t<tr><th scope=row>1_0</th><td>1_0 </td><td>regress</td></tr>\n",
       "\t<tr><th scope=row>0_18</th><td>0_18</td><td>expand </td></tr>\n",
       "\t<tr><th scope=row>0_14</th><td>0_14</td><td>expand </td></tr>\n",
       "\t<tr><th scope=row>0_26</th><td>0_26</td><td>regress</td></tr>\n",
       "\t<tr><th scope=row>0_16</th><td>0_16</td><td>expand </td></tr>\n",
       "\t<tr><th scope=row>1_29</th><td>1_29</td><td>regress</td></tr>\n",
       "\t<tr><th scope=row>0_31</th><td>0_31</td><td>expand </td></tr>\n",
       "\t<tr><th scope=row>1_8</th><td>1_8 </td><td>expand </td></tr>\n",
       "\t<tr><th scope=row>1_24</th><td>1_24</td><td>expand </td></tr>\n",
       "\t<tr><th scope=row>0_15</th><td>0_15</td><td>regress</td></tr>\n",
       "\t<tr><th scope=row>1_25</th><td>1_25</td><td>regress</td></tr>\n",
       "\t<tr><th scope=row>0_19</th><td>0_19</td><td>expand </td></tr>\n",
       "\t<tr><th scope=row>1_12</th><td>1_12</td><td>expand </td></tr>\n",
       "\t<tr><th scope=row>0_4</th><td>0_4 </td><td>expand </td></tr>\n",
       "\t<tr><th scope=row>0_27</th><td>0_27</td><td>expand </td></tr>\n",
       "\t<tr><th scope=row>0_36</th><td>0_36</td><td>expand </td></tr>\n",
       "\t<tr><th scope=row>1_28</th><td>1_28</td><td>expand </td></tr>\n",
       "\t<tr><th scope=row>0_21</th><td>0_21</td><td>expand </td></tr>\n",
       "\t<tr><th scope=row>0_41</th><td>0_41</td><td>regress</td></tr>\n",
       "\t<tr><th scope=row>0_23</th><td>0_23</td><td>regress</td></tr>\n",
       "\t<tr><th scope=row>1_23</th><td>1_23</td><td>expand </td></tr>\n",
       "\t<tr><th scope=row>⋮</th><td>⋮</td><td>⋮</td></tr>\n",
       "\t<tr><th scope=row>1_20</th><td>1_20</td><td>no_change</td></tr>\n",
       "\t<tr><th scope=row>0_39</th><td>0_39</td><td>no_change</td></tr>\n",
       "\t<tr><th scope=row>1_16</th><td>1_16</td><td>no_change</td></tr>\n",
       "\t<tr><th scope=row>0_42</th><td>0_42</td><td>no_change</td></tr>\n",
       "\t<tr><th scope=row>0_40</th><td>0_40</td><td>no_change</td></tr>\n",
       "\t<tr><th scope=row>0_46</th><td>0_46</td><td>no_change</td></tr>\n",
       "\t<tr><th scope=row>0_47</th><td>0_47</td><td>no_change</td></tr>\n",
       "\t<tr><th scope=row>1_7</th><td>1_7 </td><td>no_change</td></tr>\n",
       "\t<tr><th scope=row>0_20</th><td>0_20</td><td>no_change</td></tr>\n",
       "\t<tr><th scope=row>0_7</th><td>0_7 </td><td>no_change</td></tr>\n",
       "\t<tr><th scope=row>1_41</th><td>1_41</td><td>no_change</td></tr>\n",
       "\t<tr><th scope=row>0_13</th><td>0_13</td><td>no_change</td></tr>\n",
       "\t<tr><th scope=row>0_0</th><td>0_0 </td><td>no_change</td></tr>\n",
       "\t<tr><th scope=row>1_3</th><td>1_3 </td><td>no_change</td></tr>\n",
       "\t<tr><th scope=row>0_6</th><td>0_6 </td><td>no_change</td></tr>\n",
       "\t<tr><th scope=row>0_45</th><td>0_45</td><td>no_change</td></tr>\n",
       "\t<tr><th scope=row>1_18</th><td>1_18</td><td>no_change</td></tr>\n",
       "\t<tr><th scope=row>0_35</th><td>0_35</td><td>no_change</td></tr>\n",
       "\t<tr><th scope=row>1_34</th><td>1_34</td><td>no_change</td></tr>\n",
       "\t<tr><th scope=row>0_43</th><td>0_43</td><td>no_change</td></tr>\n",
       "\t<tr><th scope=row>1_42</th><td>1_42</td><td>no_change</td></tr>\n",
       "\t<tr><th scope=row>1_22</th><td>1_22</td><td>no_change</td></tr>\n",
       "\t<tr><th scope=row>0_44</th><td>0_44</td><td>no_change</td></tr>\n",
       "\t<tr><th scope=row>1_37</th><td>1_37</td><td>no_change</td></tr>\n",
       "\t<tr><th scope=row>0_48</th><td>0_48</td><td>no_change</td></tr>\n",
       "\t<tr><th scope=row>1_33</th><td>1_33</td><td>no_change</td></tr>\n",
       "\t<tr><th scope=row>1_32</th><td>1_32</td><td>no_change</td></tr>\n",
       "\t<tr><th scope=row>1_6</th><td>1_6 </td><td>no_change</td></tr>\n",
       "\t<tr><th scope=row>1_44</th><td>1_44</td><td>no_change</td></tr>\n",
       "\t<tr><th scope=row>1_45</th><td>1_45</td><td>no_change</td></tr>\n",
       "</tbody>\n",
       "</table>\n"
      ],
      "text/latex": [
       "A data.frame: 95 × 2\n",
       "\\begin{tabular}{r|ll}\n",
       "  & name & change\\\\\n",
       "  & <chr> & <chr>\\\\\n",
       "\\hline\n",
       "\t0\\_5 & 0\\_5  & regress\\\\\n",
       "\t0\\_25 & 0\\_25 & regress\\\\\n",
       "\t0\\_8 & 0\\_8  & expand \\\\\n",
       "\t0\\_12 & 0\\_12 & regress\\\\\n",
       "\t0\\_17 & 0\\_17 & expand \\\\\n",
       "\t1\\_39 & 1\\_39 & regress\\\\\n",
       "\t1\\_1 & 1\\_1  & regress\\\\\n",
       "\t0\\_11 & 0\\_11 & regress\\\\\n",
       "\t0\\_24 & 0\\_24 & regress\\\\\n",
       "\t1\\_0 & 1\\_0  & regress\\\\\n",
       "\t0\\_18 & 0\\_18 & expand \\\\\n",
       "\t0\\_14 & 0\\_14 & expand \\\\\n",
       "\t0\\_26 & 0\\_26 & regress\\\\\n",
       "\t0\\_16 & 0\\_16 & expand \\\\\n",
       "\t1\\_29 & 1\\_29 & regress\\\\\n",
       "\t0\\_31 & 0\\_31 & expand \\\\\n",
       "\t1\\_8 & 1\\_8  & expand \\\\\n",
       "\t1\\_24 & 1\\_24 & expand \\\\\n",
       "\t0\\_15 & 0\\_15 & regress\\\\\n",
       "\t1\\_25 & 1\\_25 & regress\\\\\n",
       "\t0\\_19 & 0\\_19 & expand \\\\\n",
       "\t1\\_12 & 1\\_12 & expand \\\\\n",
       "\t0\\_4 & 0\\_4  & expand \\\\\n",
       "\t0\\_27 & 0\\_27 & expand \\\\\n",
       "\t0\\_36 & 0\\_36 & expand \\\\\n",
       "\t1\\_28 & 1\\_28 & expand \\\\\n",
       "\t0\\_21 & 0\\_21 & expand \\\\\n",
       "\t0\\_41 & 0\\_41 & regress\\\\\n",
       "\t0\\_23 & 0\\_23 & regress\\\\\n",
       "\t1\\_23 & 1\\_23 & expand \\\\\n",
       "\t⋮ & ⋮ & ⋮\\\\\n",
       "\t1\\_20 & 1\\_20 & no\\_change\\\\\n",
       "\t0\\_39 & 0\\_39 & no\\_change\\\\\n",
       "\t1\\_16 & 1\\_16 & no\\_change\\\\\n",
       "\t0\\_42 & 0\\_42 & no\\_change\\\\\n",
       "\t0\\_40 & 0\\_40 & no\\_change\\\\\n",
       "\t0\\_46 & 0\\_46 & no\\_change\\\\\n",
       "\t0\\_47 & 0\\_47 & no\\_change\\\\\n",
       "\t1\\_7 & 1\\_7  & no\\_change\\\\\n",
       "\t0\\_20 & 0\\_20 & no\\_change\\\\\n",
       "\t0\\_7 & 0\\_7  & no\\_change\\\\\n",
       "\t1\\_41 & 1\\_41 & no\\_change\\\\\n",
       "\t0\\_13 & 0\\_13 & no\\_change\\\\\n",
       "\t0\\_0 & 0\\_0  & no\\_change\\\\\n",
       "\t1\\_3 & 1\\_3  & no\\_change\\\\\n",
       "\t0\\_6 & 0\\_6  & no\\_change\\\\\n",
       "\t0\\_45 & 0\\_45 & no\\_change\\\\\n",
       "\t1\\_18 & 1\\_18 & no\\_change\\\\\n",
       "\t0\\_35 & 0\\_35 & no\\_change\\\\\n",
       "\t1\\_34 & 1\\_34 & no\\_change\\\\\n",
       "\t0\\_43 & 0\\_43 & no\\_change\\\\\n",
       "\t1\\_42 & 1\\_42 & no\\_change\\\\\n",
       "\t1\\_22 & 1\\_22 & no\\_change\\\\\n",
       "\t0\\_44 & 0\\_44 & no\\_change\\\\\n",
       "\t1\\_37 & 1\\_37 & no\\_change\\\\\n",
       "\t0\\_48 & 0\\_48 & no\\_change\\\\\n",
       "\t1\\_33 & 1\\_33 & no\\_change\\\\\n",
       "\t1\\_32 & 1\\_32 & no\\_change\\\\\n",
       "\t1\\_6 & 1\\_6  & no\\_change\\\\\n",
       "\t1\\_44 & 1\\_44 & no\\_change\\\\\n",
       "\t1\\_45 & 1\\_45 & no\\_change\\\\\n",
       "\\end{tabular}\n"
      ],
      "text/markdown": [
       "\n",
       "A data.frame: 95 × 2\n",
       "\n",
       "| <!--/--> | name &lt;chr&gt; | change &lt;chr&gt; |\n",
       "|---|---|---|\n",
       "| 0_5 | 0_5  | regress |\n",
       "| 0_25 | 0_25 | regress |\n",
       "| 0_8 | 0_8  | expand  |\n",
       "| 0_12 | 0_12 | regress |\n",
       "| 0_17 | 0_17 | expand  |\n",
       "| 1_39 | 1_39 | regress |\n",
       "| 1_1 | 1_1  | regress |\n",
       "| 0_11 | 0_11 | regress |\n",
       "| 0_24 | 0_24 | regress |\n",
       "| 1_0 | 1_0  | regress |\n",
       "| 0_18 | 0_18 | expand  |\n",
       "| 0_14 | 0_14 | expand  |\n",
       "| 0_26 | 0_26 | regress |\n",
       "| 0_16 | 0_16 | expand  |\n",
       "| 1_29 | 1_29 | regress |\n",
       "| 0_31 | 0_31 | expand  |\n",
       "| 1_8 | 1_8  | expand  |\n",
       "| 1_24 | 1_24 | expand  |\n",
       "| 0_15 | 0_15 | regress |\n",
       "| 1_25 | 1_25 | regress |\n",
       "| 0_19 | 0_19 | expand  |\n",
       "| 1_12 | 1_12 | expand  |\n",
       "| 0_4 | 0_4  | expand  |\n",
       "| 0_27 | 0_27 | expand  |\n",
       "| 0_36 | 0_36 | expand  |\n",
       "| 1_28 | 1_28 | expand  |\n",
       "| 0_21 | 0_21 | expand  |\n",
       "| 0_41 | 0_41 | regress |\n",
       "| 0_23 | 0_23 | regress |\n",
       "| 1_23 | 1_23 | expand  |\n",
       "| ⋮ | ⋮ | ⋮ |\n",
       "| 1_20 | 1_20 | no_change |\n",
       "| 0_39 | 0_39 | no_change |\n",
       "| 1_16 | 1_16 | no_change |\n",
       "| 0_42 | 0_42 | no_change |\n",
       "| 0_40 | 0_40 | no_change |\n",
       "| 0_46 | 0_46 | no_change |\n",
       "| 0_47 | 0_47 | no_change |\n",
       "| 1_7 | 1_7  | no_change |\n",
       "| 0_20 | 0_20 | no_change |\n",
       "| 0_7 | 0_7  | no_change |\n",
       "| 1_41 | 1_41 | no_change |\n",
       "| 0_13 | 0_13 | no_change |\n",
       "| 0_0 | 0_0  | no_change |\n",
       "| 1_3 | 1_3  | no_change |\n",
       "| 0_6 | 0_6  | no_change |\n",
       "| 0_45 | 0_45 | no_change |\n",
       "| 1_18 | 1_18 | no_change |\n",
       "| 0_35 | 0_35 | no_change |\n",
       "| 1_34 | 1_34 | no_change |\n",
       "| 0_43 | 0_43 | no_change |\n",
       "| 1_42 | 1_42 | no_change |\n",
       "| 1_22 | 1_22 | no_change |\n",
       "| 0_44 | 0_44 | no_change |\n",
       "| 1_37 | 1_37 | no_change |\n",
       "| 0_48 | 0_48 | no_change |\n",
       "| 1_33 | 1_33 | no_change |\n",
       "| 1_32 | 1_32 | no_change |\n",
       "| 1_6 | 1_6  | no_change |\n",
       "| 1_44 | 1_44 | no_change |\n",
       "| 1_45 | 1_45 | no_change |\n",
       "\n"
      ],
      "text/plain": [
       "     name change   \n",
       "0_5  0_5  regress  \n",
       "0_25 0_25 regress  \n",
       "0_8  0_8  expand   \n",
       "0_12 0_12 regress  \n",
       "0_17 0_17 expand   \n",
       "1_39 1_39 regress  \n",
       "1_1  1_1  regress  \n",
       "0_11 0_11 regress  \n",
       "0_24 0_24 regress  \n",
       "1_0  1_0  regress  \n",
       "0_18 0_18 expand   \n",
       "0_14 0_14 expand   \n",
       "0_26 0_26 regress  \n",
       "0_16 0_16 expand   \n",
       "1_29 1_29 regress  \n",
       "0_31 0_31 expand   \n",
       "1_8  1_8  expand   \n",
       "1_24 1_24 expand   \n",
       "0_15 0_15 regress  \n",
       "1_25 1_25 regress  \n",
       "0_19 0_19 expand   \n",
       "1_12 1_12 expand   \n",
       "0_4  0_4  expand   \n",
       "0_27 0_27 expand   \n",
       "0_36 0_36 expand   \n",
       "1_28 1_28 expand   \n",
       "0_21 0_21 expand   \n",
       "0_41 0_41 regress  \n",
       "0_23 0_23 regress  \n",
       "1_23 1_23 expand   \n",
       "⋮    ⋮    ⋮        \n",
       "1_20 1_20 no_change\n",
       "0_39 0_39 no_change\n",
       "1_16 1_16 no_change\n",
       "0_42 0_42 no_change\n",
       "0_40 0_40 no_change\n",
       "0_46 0_46 no_change\n",
       "0_47 0_47 no_change\n",
       "1_7  1_7  no_change\n",
       "0_20 0_20 no_change\n",
       "0_7  0_7  no_change\n",
       "1_41 1_41 no_change\n",
       "0_13 0_13 no_change\n",
       "0_0  0_0  no_change\n",
       "1_3  1_3  no_change\n",
       "0_6  0_6  no_change\n",
       "0_45 0_45 no_change\n",
       "1_18 1_18 no_change\n",
       "0_35 0_35 no_change\n",
       "1_34 1_34 no_change\n",
       "0_43 0_43 no_change\n",
       "1_42 1_42 no_change\n",
       "1_22 1_22 no_change\n",
       "0_44 0_44 no_change\n",
       "1_37 1_37 no_change\n",
       "0_48 0_48 no_change\n",
       "1_33 1_33 no_change\n",
       "1_32 1_32 no_change\n",
       "1_6  1_6  no_change\n",
       "1_44 1_44 no_change\n",
       "1_45 1_45 no_change"
      ]
     },
     "metadata": {},
     "output_type": "display_data"
    }
   ],
   "source": [
    "clone_changes[c(\"name\",\"change\")]"
   ]
  },
  {
   "cell_type": "markdown",
   "id": "2c43bfef",
   "metadata": {},
   "source": [
    "## Subset clones"
   ]
  },
  {
   "cell_type": "markdown",
   "id": "f3c30848",
   "metadata": {},
   "source": [
    "### Add change col metadata for each clone\n",
    "a) subset se by clone names\n",
    "b) need to map each cell based on the clone value, create a dataframe. should be same number rows as se"
   ]
  },
  {
   "cell_type": "code",
   "execution_count": 8,
   "id": "c3a3c42a",
   "metadata": {},
   "outputs": [],
   "source": [
    "se.filt <- subset(se , subset = name %in% clone_changes$name)\n",
    "se.filt = subset(se.filt , subset = (name != \"None\"))"
   ]
  },
  {
   "cell_type": "code",
   "execution_count": 9,
   "id": "f9a793cf",
   "metadata": {
    "scrolled": true
   },
   "outputs": [],
   "source": [
    "meta <- se.filt[[]]\n",
    "meta$change <- NA\n",
    "for (cell in row.names(meta)){\n",
    "    curr <- clone_changes[as.character(meta[cell, \"name\"]),\"change\"]\n",
    "    if(is.na(curr)){\n",
    "        break\n",
    "    }\n",
    "    meta[cell, \"change\"] = curr\n",
    "}\n",
    "\n",
    "se.filt <- AddMetaData(se.filt, meta[[\"change\"]], col.name=\"change\")\n"
   ]
  },
  {
   "cell_type": "code",
   "execution_count": 10,
   "id": "1d153fb3",
   "metadata": {},
   "outputs": [],
   "source": [
    "clust.ids <- levels(se.filt$seurat_clusters)\n",
    "don.ids <- levels(se.filt$donor)\n",
    "conds <- levels(as.factor(se.filt$orig.ident))"
   ]
  },
  {
   "cell_type": "markdown",
   "id": "db056885",
   "metadata": {},
   "source": [
    "## a) All donors"
   ]
  },
  {
   "cell_type": "code",
   "execution_count": 11,
   "id": "656cbd6a",
   "metadata": {},
   "outputs": [
    {
     "name": "stdout",
     "output_type": "stream",
     "text": [
      "[1] \"cond\"\n",
      "[1] \"post\"\n",
      "[1] \"pair\"\n",
      "[1] \"regress\" \"expand\" \n",
      "[1] \"se filt before\"\n",
      "[1] \"se filt\"\n",
      "An object of class Seurat \n",
      "97805 features across 3433 samples within 2 assays \n",
      "Active assay: RNA (19575 features, 0 variable features)\n",
      " 1 other assay present: ATAC\n",
      " 2 dimensional reductions calculated: integrated_lsi, umap\n",
      "[1] \"curr sig\"\n",
      "              p_val avg_log2FC pct.1 pct.2 p_val_adj p_val_adj_BH\n",
      "NT5E   0.0000108727  0.1036175 0.207 0.147 0.2128332 0.0001522178\n",
      "DDX60L 0.0001105454  0.1133483 0.321 0.261 1.0000000 0.0007738175\n",
      "SMAD3  0.0002377694 -0.1199789 0.251 0.311 1.0000000 0.0011095905\n",
      "LPIN1  0.0024651532 -0.1218815 0.316 0.355 1.0000000 0.0061092742\n",
      "VPS41  0.0025609667 -0.1004583 0.152 0.191 1.0000000 0.0061092742\n",
      "MAML3  0.0026182604  0.1195197 0.564 0.508 1.0000000 0.0061092742\n",
      "[1] \"dim response\"\n",
      "[1] 14  6\n"
     ]
    },
    {
     "name": "stderr",
     "output_type": "stream",
     "text": [
      "The automatically generated colors map from the 1^st and 99^th of the\n",
      "values in the matrix. There are outliers in the matrix whose patterns\n",
      "might be hidden by this color mapping. You can manually set the color\n",
      "to `col` argument.\n",
      "\n",
      "Use `suppressMessages()` to turn off this message.\n",
      "\n",
      "Saving 6.67 x 6.67 in image\n",
      "\n",
      "Saving 6.67 x 6.67 in image\n",
      "\n",
      "Saving 6.67 x 6.67 in image\n",
      "\n",
      "Saving 6.67 x 6.67 in image\n",
      "\n",
      "Saving 6.67 x 6.67 in image\n",
      "\n"
     ]
    },
    {
     "name": "stdout",
     "output_type": "stream",
     "text": [
      "[1] \"gally\"\n",
      "[1] \"p_val\"        \"avg_log2FC\"   \"pct.1\"        \"pct.2\"        \"p_val_adj\"   \n",
      "[6] \"p_val_adj_BH\"\n"
     ]
    },
    {
     "name": "stderr",
     "output_type": "stream",
     "text": [
      "Registered S3 method overwritten by 'GGally':\n",
      "  method from   \n",
      "  +.gg   ggplot2\n",
      "\n",
      "Saving 6.67 x 6.67 in image\n",
      "\n"
     ]
    },
    {
     "name": "stdout",
     "output_type": "stream",
     "text": [
      "[1] \"pair\"\n",
      "[1] \"regress\"   \"no_change\"\n",
      "[1] \"se filt before\"\n",
      "[1] \"se filt\"\n",
      "An object of class Seurat \n",
      "97805 features across 7033 samples within 2 assays \n",
      "Active assay: RNA (19575 features, 0 variable features)\n",
      " 1 other assay present: ATAC\n",
      " 2 dimensional reductions calculated: integrated_lsi, umap\n",
      "[1] \"curr sig\"\n",
      "              p_val avg_log2FC pct.1 pct.2 p_val_adj p_val_adj_BH\n",
      "MPP7   2.457992e-05  0.1148838 0.608 0.555 0.4811519 0.0002212193\n",
      "DDX60L 6.464403e-04  0.1097304 0.321 0.280 1.0000000 0.0029089814\n",
      "[1] \"dim response\"\n",
      "[1] 9 6\n"
     ]
    },
    {
     "name": "stderr",
     "output_type": "stream",
     "text": [
      "Saving 6.67 x 6.67 in image\n",
      "\n",
      "Saving 6.67 x 6.67 in image\n",
      "\n",
      "Saving 6.67 x 6.67 in image\n",
      "\n",
      "Saving 6.67 x 6.67 in image\n",
      "\n",
      "Saving 6.67 x 6.67 in image\n",
      "\n"
     ]
    },
    {
     "name": "stdout",
     "output_type": "stream",
     "text": [
      "[1] \"gally\"\n",
      "[1] \"p_val\"        \"avg_log2FC\"   \"pct.1\"        \"pct.2\"        \"p_val_adj\"   \n",
      "[6] \"p_val_adj_BH\"\n"
     ]
    },
    {
     "name": "stderr",
     "output_type": "stream",
     "text": [
      "Saving 6.67 x 6.67 in image\n",
      "\n"
     ]
    },
    {
     "name": "stdout",
     "output_type": "stream",
     "text": [
      "[1] \"pair\"\n",
      "[1] \"expand\"    \"no_change\"\n",
      "[1] \"se filt before\"\n",
      "[1] \"se filt\"\n",
      "An object of class Seurat \n",
      "97805 features across 8344 samples within 2 assays \n",
      "Active assay: RNA (19575 features, 0 variable features)\n",
      " 1 other assay present: ATAC\n",
      " 2 dimensional reductions calculated: integrated_lsi, umap\n",
      "[1] \"curr sig\"\n",
      "               p_val avg_log2FC pct.1 pct.2 p_val_adj p_val_adj_BH\n",
      "TMEM163 0.0001477437  0.1001234 0.337 0.307         1 0.0001477437\n",
      "[1] \"dim response\"\n",
      "[1] 1 6\n"
     ]
    },
    {
     "name": "stderr",
     "output_type": "stream",
     "text": [
      "Saving 6.67 x 6.67 in image\n",
      "\n",
      "Saving 6.67 x 6.67 in image\n",
      "\n",
      "Saving 6.67 x 6.67 in image\n",
      "\n",
      "Saving 6.67 x 6.67 in image\n",
      "\n",
      "Saving 6.67 x 6.67 in image\n",
      "\n"
     ]
    },
    {
     "name": "stdout",
     "output_type": "stream",
     "text": [
      "[1] \"gally\"\n",
      "[1] \"p_val\"        \"avg_log2FC\"   \"pct.1\"        \"pct.2\"        \"p_val_adj\"   \n",
      "[6] \"p_val_adj_BH\"\n"
     ]
    },
    {
     "name": "stderr",
     "output_type": "stream",
     "text": [
      "Saving 6.67 x 6.67 in image\n",
      "\n",
      "Warning message:\n",
      "\"Groups with fewer than two data points have been dropped.\"\n",
      "Warning message in max(ids, na.rm = TRUE):\n",
      "\"no non-missing arguments to max; returning -Inf\"\n"
     ]
    },
    {
     "name": "stdout",
     "output_type": "stream",
     "text": [
      "Error in cor.test.default(x, y, method = method, use = use) : \n",
      "  not enough finite observations\n",
      "[1] \"cond\"\n",
      "[1] \"pre\"\n",
      "[1] \"pair\"\n",
      "[1] \"regress\"   \"no_change\"\n",
      "[1] \"se filt before\"\n",
      "[1] \"se filt\"\n",
      "An object of class Seurat \n",
      "97805 features across 4727 samples within 2 assays \n",
      "Active assay: RNA (19575 features, 0 variable features)\n",
      " 1 other assay present: ATAC\n",
      " 2 dimensional reductions calculated: integrated_lsi, umap\n",
      "[1] \"curr sig\"\n",
      "              p_val avg_log2FC pct.1 pct.2 p_val_adj p_val_adj_BH\n",
      "HIVEP2 2.043365e-05 -0.1077515 0.897 0.898 0.3999888 8.173462e-05\n",
      "DGKI   6.436239e-04  0.1627654 0.243 0.201 1.0000000 1.287248e-03\n",
      "[1] \"dim response\"\n",
      "[1] 4 6\n"
     ]
    },
    {
     "name": "stderr",
     "output_type": "stream",
     "text": [
      "The automatically generated colors map from the 1^st and 99^th of the\n",
      "values in the matrix. There are outliers in the matrix whose patterns\n",
      "might be hidden by this color mapping. You can manually set the color\n",
      "to `col` argument.\n",
      "\n",
      "Use `suppressMessages()` to turn off this message.\n",
      "\n",
      "Saving 6.67 x 6.67 in image\n",
      "\n",
      "Saving 6.67 x 6.67 in image\n",
      "\n",
      "Saving 6.67 x 6.67 in image\n",
      "\n",
      "Saving 6.67 x 6.67 in image\n",
      "\n",
      "Saving 6.67 x 6.67 in image\n",
      "\n"
     ]
    },
    {
     "name": "stdout",
     "output_type": "stream",
     "text": [
      "[1] \"gally\"\n",
      "[1] \"p_val\"        \"avg_log2FC\"   \"pct.1\"        \"pct.2\"        \"p_val_adj\"   \n",
      "[6] \"p_val_adj_BH\"\n"
     ]
    },
    {
     "name": "stderr",
     "output_type": "stream",
     "text": [
      "Saving 6.67 x 6.67 in image\n",
      "\n"
     ]
    },
    {
     "name": "stdout",
     "output_type": "stream",
     "text": [
      "[1] \"pair\"\n",
      "[1] \"regress\" \"expand\" \n",
      "[1] \"se filt before\"\n",
      "[1] \"se filt\"\n",
      "An object of class Seurat \n",
      "97805 features across 2162 samples within 2 assays \n",
      "Active assay: RNA (19575 features, 0 variable features)\n",
      " 1 other assay present: ATAC\n",
      " 2 dimensional reductions calculated: integrated_lsi, umap\n",
      "[1] \"curr sig\"\n",
      "                p_val avg_log2FC pct.1 pct.2 p_val_adj p_val_adj_BH\n",
      "CNNM2    5.516536e-06  0.1130204 0.521 0.402 0.1079862 0.0001103307\n",
      "TOM1L2   1.974893e-05  0.1003225 0.642 0.534 0.3865853 0.0001974893\n",
      "TRAPPC10 9.894360e-05  0.1010202 0.460 0.363 1.0000000 0.0006596240\n",
      "TIAM1    1.898407e-04  0.1282358 0.797 0.696 1.0000000 0.0009492033\n",
      "DGKI     8.120384e-04  0.1381911 0.243 0.171 1.0000000 0.0032481535\n",
      "HIVEP2   2.808756e-03 -0.1334524 0.897 0.879 1.0000000 0.0093625204\n",
      "[1] \"dim response\"\n",
      "[1] 20  6\n"
     ]
    },
    {
     "name": "stderr",
     "output_type": "stream",
     "text": [
      "The automatically generated colors map from the 1^st and 99^th of the\n",
      "values in the matrix. There are outliers in the matrix whose patterns\n",
      "might be hidden by this color mapping. You can manually set the color\n",
      "to `col` argument.\n",
      "\n",
      "Use `suppressMessages()` to turn off this message.\n",
      "\n",
      "Saving 6.67 x 6.67 in image\n",
      "\n",
      "Saving 6.67 x 6.67 in image\n",
      "\n",
      "Saving 6.67 x 6.67 in image\n",
      "\n",
      "Saving 6.67 x 6.67 in image\n",
      "\n",
      "Saving 6.67 x 6.67 in image\n",
      "\n"
     ]
    },
    {
     "name": "stdout",
     "output_type": "stream",
     "text": [
      "[1] \"gally\"\n",
      "[1] \"p_val\"        \"avg_log2FC\"   \"pct.1\"        \"pct.2\"        \"p_val_adj\"   \n",
      "[6] \"p_val_adj_BH\"\n"
     ]
    },
    {
     "name": "stderr",
     "output_type": "stream",
     "text": [
      "Saving 6.67 x 6.67 in image\n",
      "\n"
     ]
    },
    {
     "name": "stdout",
     "output_type": "stream",
     "text": [
      "[1] \"pair\"\n",
      "[1] \"no_change\" \"expand\"   \n",
      "[1] \"se filt before\"\n",
      "[1] \"se filt\"\n",
      "An object of class Seurat \n",
      "97805 features across 3755 samples within 2 assays \n",
      "Active assay: RNA (19575 features, 0 variable features)\n",
      " 1 other assay present: ATAC\n",
      " 2 dimensional reductions calculated: integrated_lsi, umap\n",
      "[1] \"curr sig\"\n",
      "              p_val avg_log2FC pct.1 pct.2 p_val_adj p_val_adj_BH\n",
      "PLB1   1.186398e-05  0.1116741 0.504 0.407 0.2322374 0.0001305038\n",
      "ZNF331 4.414388e-05  0.1199583 0.580 0.492 0.8641165 0.0002427914\n",
      "[1] \"dim response\"\n",
      "[1] 11  6\n"
     ]
    },
    {
     "name": "stderr",
     "output_type": "stream",
     "text": [
      "Saving 6.67 x 6.67 in image\n",
      "\n",
      "Saving 6.67 x 6.67 in image\n",
      "\n",
      "Saving 6.67 x 6.67 in image\n",
      "\n",
      "Saving 6.67 x 6.67 in image\n",
      "\n",
      "Saving 6.67 x 6.67 in image\n",
      "\n"
     ]
    },
    {
     "name": "stdout",
     "output_type": "stream",
     "text": [
      "[1] \"gally\"\n",
      "[1] \"p_val\"        \"avg_log2FC\"   \"pct.1\"        \"pct.2\"        \"p_val_adj\"   \n",
      "[6] \"p_val_adj_BH\"\n"
     ]
    },
    {
     "name": "stderr",
     "output_type": "stream",
     "text": [
      "Saving 6.67 x 6.67 in image\n",
      "\n",
      "The automatically generated colors map from the 1^st and 99^th of the\n",
      "values in the matrix. There are outliers in the matrix whose patterns\n",
      "might be hidden by this color mapping. You can manually set the color\n",
      "to `col` argument.\n",
      "\n",
      "Use `suppressMessages()` to turn off this message.\n",
      "\n",
      "Saving 6.67 x 6.67 in image\n",
      "\n",
      "Saving 6.67 x 6.67 in image\n",
      "\n",
      "Saving 6.67 x 6.67 in image\n",
      "\n",
      "Saving 6.67 x 6.67 in image\n",
      "\n",
      "Saving 6.67 x 6.67 in image\n",
      "\n",
      "Saving 6.67 x 6.67 in image\n",
      "\n",
      "Saving 6.67 x 6.67 in image\n",
      "\n",
      "Saving 6.67 x 6.67 in image\n",
      "\n",
      "Saving 6.67 x 6.67 in image\n",
      "\n"
     ]
    },
    {
     "data": {
      "image/png": "[encoded data removed]",
      "text/plain": [
       "plot without title"
      ]
     },
     "metadata": {
      "image/png": {
       "height": 420,
       "width": 420
      }
     },
     "output_type": "display_data"
    }
   ],
   "source": [
    "curr.outdir <- all.donor.outdir\n",
    "\n",
    "Idents(se.filt) <- as.factor(apply(se.filt[[]][ , c(\"orig.ident\", \"change\") ] , 1 , paste , collapse = \"_\" ))\n",
    "\n",
    "\n",
    "all.pvals <- data.frame(matrix(nrow=dim(se.filt)[1],ncol=0),\n",
    "                          row.names=row.names(se.filt))\n",
    "all.names.sig <- c()\n",
    "\n",
    "\n",
    "\n",
    "\n",
    "for (curr.cond in conds){\n",
    "    print('cond')\n",
    "    print(curr.cond)\n",
    "    try({\n",
    "        curr.se <- subset(se.filt, subset = (orig.ident==curr.cond))\n",
    "\n",
    "        changes <- unique(curr.se$change)\n",
    "        if (length(changes)<2){\n",
    "            print(\"Only one type of change for clone in this donor\")\n",
    "            print(changes)\n",
    "            next\n",
    "        }\n",
    "        pairs <- combn(changes, 2)\n",
    "        for (p in 1:ncol(pairs)){\n",
    "            pair <- pairs[,p]\n",
    "            print('pair')\n",
    "            print(pair)\n",
    "            ident.1 = paste(curr.cond, pair[[1]] ,sep=\"_\")\n",
    "            ident.2 = paste(curr.cond, pair[[2]] ,sep=\"_\")\n",
    "\n",
    "            curr.name <- paste(ident.1, \"vs\", ident.2, \"cond\", curr.cond, sep=\"_\")\n",
    "            #curr.dir <- paste0(\"donor\", \"_\", curr.d)\n",
    "            #curr.outdir <- file.path(donor.outdir, curr.dir)\n",
    "            \n",
    "            #dir.create(curr.outdir)\n",
    "\n",
    "            ## Run DE\n",
    "            curr.sig <- find.markers.and.plot(curr.se, ident.1, ident.2, curr.outdir, \n",
    "                                              curr.name=curr.name, assay=\"RNA\", logfcthresh=logfcthresh,\n",
    "                                              min.pct=minPct, p.thresh=p_thresh, mean.fxn=NULL, fc.name=NULL)\n",
    "            #curr.sig <- run.de(p)\n",
    "            # Add DE to global results\n",
    "            names.sig <- rownames(curr.sig)\n",
    "            all.names.sig <- c(all.names.sig, head(names.sig, top_de))\n",
    "            all.pvals[names.sig,curr.name] <- curr.sig$p_val_adj_BH\n",
    "        }\n",
    "    })\n",
    "}\n",
    "\n",
    "\n",
    "### a) top 3 significant results from each comparison\n",
    "if (length(all.names.sig)>0){\n",
    "    all.names.sig <- unique(all.names.sig)\n",
    "    de.plots(se.filt, all.names.sig, curr.outdir, curr.name=\"allDonors.allClusters\", max.size=15)\n",
    "\n",
    "    dot <- DotPlot(se.filt, scale=FALSE,\n",
    "                   features = head(all.names.sig,20), \n",
    "                   cluster.idents=T) + RotatedAxis()\n",
    "    dot\n",
    "    ggsave(file.path(curr.outdir, \"allDonors.allClusters.top3de.png\"))\n",
    "    ggsave(file.path(curr.outdir, \"allDonors.allClusters.top3de.pdf\"))\n",
    "    }\n",
    "\n",
    "\n",
    "## b) averaged top p-values (only average ones that were DE)\n",
    "try({\n",
    "sig.all.ordered <- sort(rowMeans(-log10(all.pvals),na.rm=T), decreasing=T)\n",
    "dot <- DotPlot(se.filt, scale=T,\n",
    "               features = names(head(sig.all.ordered,20)), \n",
    "               cluster.idents=T) + RotatedAxis()\n",
    "dot\n",
    "ggsave(file.path(curr.outdir, \"allDonors.allClusters.pvalsOrdered.png\"))\n",
    "ggsave(file.path(curr.outdir, \"allDonors.allClusters.pvalsOrdered.pdf\"))\n",
    "#de.plots(se, names(sig.all.ordered), outdir, curr.name=\"allDonors.allClusters.pvalsOrdered\", max.size=20)\n",
    "\n",
    "sig.all.ordered <- sort(rowMeans(-log10(all.pvals),na.rm=T), decreasing=T)\n",
    "dot <- DotPlot(se.filt, scale=F,\n",
    "               features = head(names(sig.all.ordered),20), \n",
    "               cluster.idents=T) + RotatedAxis()\n",
    "dot\n",
    "    \n",
    "})"
   ]
  },
  {
   "cell_type": "markdown",
   "id": "abf15621",
   "metadata": {},
   "source": [
    "## b) For each donor, de for expanded vs regressed vs no change"
   ]
  },
  {
   "cell_type": "code",
   "execution_count": 12,
   "id": "e5fd37f2",
   "metadata": {
    "scrolled": true
   },
   "outputs": [
    {
     "name": "stdout",
     "output_type": "stream",
     "text": [
      "[1] \"donor 0\"\n",
      "[1] \"cond\"\n",
      "[1] \"post\"\n",
      "[1] \"pairs\"\n",
      "[1] \"expand\"    \"no_change\"\n",
      "[1] \"se filt before\"\n",
      "[1] \"se filt\"\n",
      "An object of class Seurat \n",
      "97805 features across 3617 samples within 2 assays \n",
      "Active assay: RNA (19575 features, 0 variable features)\n",
      " 1 other assay present: ATAC\n",
      " 2 dimensional reductions calculated: integrated_lsi, umap\n",
      "[1] \"curr sig\"\n",
      "[1] p_val        avg_log2FC   pct.1        pct.2        p_val_adj   \n",
      "[6] p_val_adj_BH\n",
      "<0 rows> (or 0-length row.names)\n",
      "[1] \"dim response\"\n",
      "[1] 10  6\n",
      "[1] \"pairs\"\n",
      "[1] \"expand\"  \"regress\"\n",
      "[1] \"se filt before\"\n",
      "[1] \"se filt\"\n",
      "An object of class Seurat \n",
      "97805 features across 1909 samples within 2 assays \n",
      "Active assay: RNA (19575 features, 0 variable features)\n",
      " 1 other assay present: ATAC\n",
      " 2 dimensional reductions calculated: integrated_lsi, umap\n",
      "[1] \"curr sig\"\n",
      "                     p_val avg_log2FC pct.1 pct.2 p_val_adj p_val_adj_BH\n",
      "POLK          7.826074e-05  0.1617037 0.241 0.161         1  0.004978685\n",
      "CTD-2410N18.5 9.667350e-05  0.1619052 0.352 0.255         1  0.004978685\n",
      "[1] \"dim response\"\n",
      "[1] 103   6\n"
     ]
    },
    {
     "name": "stderr",
     "output_type": "stream",
     "text": [
      "Saving 6.67 x 6.67 in image\n",
      "\n",
      "Saving 6.67 x 6.67 in image\n",
      "\n",
      "Saving 6.67 x 6.67 in image\n",
      "\n",
      "Saving 6.67 x 6.67 in image\n",
      "\n",
      "Saving 6.67 x 6.67 in image\n",
      "\n"
     ]
    },
    {
     "name": "stdout",
     "output_type": "stream",
     "text": [
      "[1] \"gally\"\n",
      "[1] \"p_val\"        \"avg_log2FC\"   \"pct.1\"        \"pct.2\"        \"p_val_adj\"   \n",
      "[6] \"p_val_adj_BH\"\n"
     ]
    },
    {
     "name": "stderr",
     "output_type": "stream",
     "text": [
      "Saving 6.67 x 6.67 in image\n",
      "\n",
      "Warning message in cor(x, y):\n",
      "\"the standard deviation is zero\"\n",
      "Warning message in cor(x, y):\n",
      "\"the standard deviation is zero\"\n",
      "Warning message in cor(x, y):\n",
      "\"the standard deviation is zero\"\n"
     ]
    },
    {
     "name": "stdout",
     "output_type": "stream",
     "text": [
      "[1] \"pairs\"\n",
      "[1] \"no_change\" \"regress\"  \n",
      "[1] \"se filt before\"\n",
      "[1] \"se filt\"\n",
      "An object of class Seurat \n",
      "97805 features across 2736 samples within 2 assays \n",
      "Active assay: RNA (19575 features, 0 variable features)\n",
      " 1 other assay present: ATAC\n",
      " 2 dimensional reductions calculated: integrated_lsi, umap\n",
      "[1] \"curr sig\"\n",
      "[1] p_val        avg_log2FC   pct.1        pct.2        p_val_adj   \n",
      "[6] p_val_adj_BH\n",
      "<0 rows> (or 0-length row.names)\n",
      "[1] \"dim response\"\n",
      "[1] 64  6\n",
      "[1] \"cond\"\n",
      "[1] \"pre\"\n",
      "[1] \"pairs\"\n",
      "[1] \"regress\"   \"no_change\"\n",
      "[1] \"se filt before\"\n",
      "[1] \"se filt\"\n",
      "An object of class Seurat \n",
      "97805 features across 2281 samples within 2 assays \n",
      "Active assay: RNA (19575 features, 0 variable features)\n",
      " 1 other assay present: ATAC\n",
      " 2 dimensional reductions calculated: integrated_lsi, umap\n",
      "[1] \"curr sig\"\n",
      "[1] p_val        avg_log2FC   pct.1        pct.2        p_val_adj   \n",
      "[6] p_val_adj_BH\n",
      "<0 rows> (or 0-length row.names)\n",
      "[1] \"dim response\"\n",
      "[1] 5 6\n",
      "[1] \"pairs\"\n",
      "[1] \"regress\" \"expand\" \n",
      "[1] \"se filt before\"\n",
      "[1] \"se filt\"\n",
      "An object of class Seurat \n",
      "97805 features across 1279 samples within 2 assays \n",
      "Active assay: RNA (19575 features, 0 variable features)\n",
      " 1 other assay present: ATAC\n",
      " 2 dimensional reductions calculated: integrated_lsi, umap\n",
      "[1] \"curr sig\"\n",
      "                p_val avg_log2FC pct.1 pct.2 p_val_adj p_val_adj_BH\n",
      "POC5     8.440097e-06  0.1392077 0.354 0.212 0.1652149 0.0005603559\n",
      "KHNYN    1.806281e-05  0.1220242 0.237 0.126 0.3535795 0.0005603559\n",
      "NDUFV2   2.001712e-05  0.1563716 0.440 0.304 0.3918351 0.0005603559\n",
      "IL6ST    2.114551e-05  0.1553789 0.465 0.334 0.4139233 0.0005603559\n",
      "GATS     3.064604e-05  0.1255523 0.422 0.282 0.5998963 0.0006496961\n",
      "TNFRSF21 5.606016e-05  0.1072549 0.157 0.067 1.0000000 0.0009903961\n",
      "[1] \"dim response\"\n",
      "[1] 106   6\n"
     ]
    },
    {
     "name": "stderr",
     "output_type": "stream",
     "text": [
      "Saving 6.67 x 6.67 in image\n",
      "\n",
      "Saving 6.67 x 6.67 in image\n",
      "\n",
      "Saving 6.67 x 6.67 in image\n",
      "\n",
      "Saving 6.67 x 6.67 in image\n",
      "\n",
      "Saving 6.67 x 6.67 in image\n",
      "\n"
     ]
    },
    {
     "name": "stdout",
     "output_type": "stream",
     "text": [
      "[1] \"gally\"\n",
      "[1] \"p_val\"        \"avg_log2FC\"   \"pct.1\"        \"pct.2\"        \"p_val_adj\"   \n",
      "[6] \"p_val_adj_BH\"\n"
     ]
    },
    {
     "name": "stderr",
     "output_type": "stream",
     "text": [
      "Saving 6.67 x 6.67 in image\n",
      "\n"
     ]
    },
    {
     "name": "stdout",
     "output_type": "stream",
     "text": [
      "[1] \"pairs\"\n",
      "[1] \"no_change\" \"expand\"   \n",
      "[1] \"se filt before\"\n",
      "[1] \"se filt\"\n",
      "An object of class Seurat \n",
      "97805 features across 1654 samples within 2 assays \n",
      "Active assay: RNA (19575 features, 0 variable features)\n",
      " 1 other assay present: ATAC\n",
      " 2 dimensional reductions calculated: integrated_lsi, umap\n",
      "[1] \"curr sig\"\n",
      "              p_val avg_log2FC pct.1 pct.2 p_val_adj p_val_adj_BH\n",
      "FOXO6  5.742782e-05  0.1163342 0.250 0.147         1  0.004019947\n",
      "GSK3A  1.498483e-04  0.1368387 0.529 0.408         1  0.004213161\n",
      "GNG2   1.805641e-04  0.1320437 0.686 0.601         1  0.004213161\n",
      "CCDC15 2.686563e-04  0.1014755 0.258 0.163         1  0.004701486\n",
      "CD46   3.868855e-04 -0.1314194 0.194 0.276         1  0.005058974\n",
      "IL6ST  4.405207e-04  0.1036614 0.436 0.334         1  0.005058974\n",
      "[1] \"dim response\"\n",
      "[1] 70  6\n"
     ]
    },
    {
     "name": "stderr",
     "output_type": "stream",
     "text": [
      "Saving 6.67 x 6.67 in image\n",
      "\n",
      "Saving 6.67 x 6.67 in image\n",
      "\n",
      "Saving 6.67 x 6.67 in image\n",
      "\n",
      "Saving 6.67 x 6.67 in image\n",
      "\n",
      "Saving 6.67 x 6.67 in image\n",
      "\n"
     ]
    },
    {
     "name": "stdout",
     "output_type": "stream",
     "text": [
      "[1] \"gally\"\n",
      "[1] \"p_val\"        \"avg_log2FC\"   \"pct.1\"        \"pct.2\"        \"p_val_adj\"   \n",
      "[6] \"p_val_adj_BH\"\n"
     ]
    },
    {
     "name": "stderr",
     "output_type": "stream",
     "text": [
      "Saving 6.67 x 6.67 in image\n",
      "\n",
      "Warning message in cor(x, y):\n",
      "\"the standard deviation is zero\"\n",
      "Warning message in cor(x, y):\n",
      "\"the standard deviation is zero\"\n",
      "Warning message in cor(x, y):\n",
      "\"the standard deviation is zero\"\n"
     ]
    },
    {
     "name": "stdout",
     "output_type": "stream",
     "text": [
      "[1] \"donor 1\"\n",
      "[1] \"cond\"\n",
      "[1] \"post\"\n",
      "[1] \"pairs\"\n",
      "[1] \"regress\" \"expand\" \n",
      "[1] \"se filt before\"\n",
      "[1] \"se filt\"\n",
      "An object of class Seurat \n",
      "97805 features across 1524 samples within 2 assays \n",
      "Active assay: RNA (19575 features, 0 variable features)\n",
      " 1 other assay present: ATAC\n",
      " 2 dimensional reductions calculated: integrated_lsi, umap\n",
      "[1] \"curr sig\"\n",
      "               p_val avg_log2FC pct.1 pct.2 p_val_adj p_val_adj_BH\n",
      "RNF32   4.133591e-05  0.1034736 0.152 0.085 0.8091504  0.002842741\n",
      "TMEM218 6.317203e-05  0.1243430 0.346 0.243 1.0000000  0.002842741\n",
      "MOB4    1.456055e-04 -0.1206889 0.150 0.227 1.0000000  0.004368165\n",
      "[1] \"dim response\"\n",
      "[1] 90  6\n"
     ]
    },
    {
     "name": "stderr",
     "output_type": "stream",
     "text": [
      "Saving 6.67 x 6.67 in image\n",
      "\n",
      "Saving 6.67 x 6.67 in image\n",
      "\n",
      "Saving 6.67 x 6.67 in image\n",
      "\n",
      "Saving 6.67 x 6.67 in image\n",
      "\n",
      "Saving 6.67 x 6.67 in image\n",
      "\n"
     ]
    },
    {
     "name": "stdout",
     "output_type": "stream",
     "text": [
      "[1] \"gally\"\n",
      "[1] \"p_val\"        \"avg_log2FC\"   \"pct.1\"        \"pct.2\"        \"p_val_adj\"   \n",
      "[6] \"p_val_adj_BH\"\n"
     ]
    },
    {
     "name": "stderr",
     "output_type": "stream",
     "text": [
      "Saving 6.67 x 6.67 in image\n",
      "\n"
     ]
    },
    {
     "name": "stdout",
     "output_type": "stream",
     "text": [
      "[1] \"pairs\"\n",
      "[1] \"regress\"   \"no_change\"\n",
      "[1] \"se filt before\"\n",
      "[1] \"se filt\"\n",
      "An object of class Seurat \n",
      "97805 features across 4297 samples within 2 assays \n",
      "Active assay: RNA (19575 features, 0 variable features)\n",
      " 1 other assay present: ATAC\n",
      " 2 dimensional reductions calculated: integrated_lsi, umap\n",
      "[1] \"curr sig\"\n",
      "             p_val avg_log2FC pct.1 pct.2 p_val_adj p_val_adj_BH\n",
      "TDRKH 7.046935e-05 -0.1220325 0.168 0.241         1  0.001183636\n",
      "MOB4  1.127272e-04 -0.1088354 0.150 0.218         1  0.001183636\n",
      "NRCAM 1.536519e-03  0.1254882 0.318 0.258         1  0.008561981\n",
      "MPP7  1.630853e-03  0.1009915 0.629 0.565         1  0.008561981\n",
      "XRCC5 2.374258e-03 -0.1129158 0.291 0.347         1  0.009971884\n",
      "[1] \"dim response\"\n",
      "[1] 21  6\n"
     ]
    },
    {
     "name": "stderr",
     "output_type": "stream",
     "text": [
      "Saving 6.67 x 6.67 in image\n",
      "\n",
      "Saving 6.67 x 6.67 in image\n",
      "\n",
      "Saving 6.67 x 6.67 in image\n",
      "\n",
      "Saving 6.67 x 6.67 in image\n",
      "\n",
      "Saving 6.67 x 6.67 in image\n",
      "\n"
     ]
    },
    {
     "name": "stdout",
     "output_type": "stream",
     "text": [
      "[1] \"gally\"\n",
      "[1] \"p_val\"        \"avg_log2FC\"   \"pct.1\"        \"pct.2\"        \"p_val_adj\"   \n",
      "[6] \"p_val_adj_BH\"\n"
     ]
    },
    {
     "name": "stderr",
     "output_type": "stream",
     "text": [
      "Saving 6.67 x 6.67 in image\n",
      "\n",
      "Warning message in cor(x, y):\n",
      "\"the standard deviation is zero\"\n",
      "Warning message in cor(x, y):\n",
      "\"the standard deviation is zero\"\n",
      "Warning message in cor(x, y):\n",
      "\"the standard deviation is zero\"\n"
     ]
    },
    {
     "name": "stdout",
     "output_type": "stream",
     "text": [
      "[1] \"pairs\"\n",
      "[1] \"expand\"    \"no_change\"\n",
      "[1] \"se filt before\"\n",
      "[1] \"se filt\"\n",
      "An object of class Seurat \n",
      "97805 features across 4727 samples within 2 assays \n",
      "Active assay: RNA (19575 features, 0 variable features)\n",
      " 1 other assay present: ATAC\n",
      " 2 dimensional reductions calculated: integrated_lsi, umap\n",
      "[1] \"curr sig\"\n",
      "             p_val avg_log2FC pct.1 pct.2 p_val_adj p_val_adj_BH\n",
      "TACC1 0.0004973408 -0.1001072 0.244 0.301         1  0.002984045\n",
      "[1] \"dim response\"\n",
      "[1] 6 6\n"
     ]
    },
    {
     "name": "stderr",
     "output_type": "stream",
     "text": [
      "The automatically generated colors map from the 1^st and 99^th of the\n",
      "values in the matrix. There are outliers in the matrix whose patterns\n",
      "might be hidden by this color mapping. You can manually set the color\n",
      "to `col` argument.\n",
      "\n",
      "Use `suppressMessages()` to turn off this message.\n",
      "\n",
      "Saving 6.67 x 6.67 in image\n",
      "\n",
      "Saving 6.67 x 6.67 in image\n",
      "\n",
      "Saving 6.67 x 6.67 in image\n",
      "\n",
      "Saving 6.67 x 6.67 in image\n",
      "\n",
      "Saving 6.67 x 6.67 in image\n",
      "\n"
     ]
    },
    {
     "name": "stdout",
     "output_type": "stream",
     "text": [
      "[1] \"gally\"\n",
      "[1] \"p_val\"        \"avg_log2FC\"   \"pct.1\"        \"pct.2\"        \"p_val_adj\"   \n",
      "[6] \"p_val_adj_BH\"\n"
     ]
    },
    {
     "name": "stderr",
     "output_type": "stream",
     "text": [
      "Saving 6.67 x 6.67 in image\n",
      "\n",
      "Warning message in cor(x, y):\n",
      "\"the standard deviation is zero\"\n",
      "Warning message in cor(x, y):\n",
      "\"the standard deviation is zero\"\n",
      "Warning message in cor(x, y):\n",
      "\"the standard deviation is zero\"\n"
     ]
    },
    {
     "name": "stdout",
     "output_type": "stream",
     "text": [
      "[1] \"cond\"\n",
      "[1] \"pre\"\n",
      "[1] \"pairs\"\n",
      "[1] \"regress\"   \"no_change\"\n",
      "[1] \"se filt before\"\n",
      "[1] \"se filt\"\n",
      "An object of class Seurat \n",
      "97805 features across 2446 samples within 2 assays \n",
      "Active assay: RNA (19575 features, 0 variable features)\n",
      " 1 other assay present: ATAC\n",
      " 2 dimensional reductions calculated: integrated_lsi, umap\n",
      "[1] \"curr sig\"\n",
      "[1] p_val        avg_log2FC   pct.1        pct.2        p_val_adj   \n",
      "[6] p_val_adj_BH\n",
      "<0 rows> (or 0-length row.names)\n",
      "[1] \"dim response\"\n",
      "[1] 8 6\n",
      "[1] \"pairs\"\n",
      "[1] \"regress\" \"expand\" \n",
      "[1] \"se filt before\"\n",
      "[1] \"se filt\"\n",
      "An object of class Seurat \n",
      "97805 features across 883 samples within 2 assays \n",
      "Active assay: RNA (19575 features, 0 variable features)\n",
      " 1 other assay present: ATAC\n",
      " 2 dimensional reductions calculated: integrated_lsi, umap\n",
      "[1] \"curr sig\"\n",
      "                p_val avg_log2FC pct.1 pct.2 p_val_adj p_val_adj_BH\n",
      "RELT     7.073028e-06  0.1151319 0.327 0.171 0.1384545  0.001301437\n",
      "GGNBP2   2.738149e-05  0.1464009 0.513 0.338 0.5359927  0.001625139\n",
      "ADGRE5   2.983319e-05  0.1170034 0.397 0.238 0.5839847  0.001625139\n",
      "ZNF547   3.696234e-05  0.1110929 0.270 0.145 0.7235378  0.001625139\n",
      "TRAPPC2B 4.608355e-05  0.1090956 0.269 0.145 0.9020855  0.001625139\n",
      "MBD5     5.299368e-05  0.1238098 0.684 0.517 1.0000000  0.001625139\n",
      "[1] \"dim response\"\n",
      "[1] 184   6\n"
     ]
    },
    {
     "name": "stderr",
     "output_type": "stream",
     "text": [
      "Saving 6.67 x 6.67 in image\n",
      "\n",
      "Saving 6.67 x 6.67 in image\n",
      "\n",
      "Saving 6.67 x 6.67 in image\n",
      "\n",
      "Saving 6.67 x 6.67 in image\n",
      "\n",
      "Saving 6.67 x 6.67 in image\n",
      "\n"
     ]
    },
    {
     "name": "stdout",
     "output_type": "stream",
     "text": [
      "[1] \"gally\"\n",
      "[1] \"p_val\"        \"avg_log2FC\"   \"pct.1\"        \"pct.2\"        \"p_val_adj\"   \n",
      "[6] \"p_val_adj_BH\"\n"
     ]
    },
    {
     "name": "stderr",
     "output_type": "stream",
     "text": [
      "Saving 6.67 x 6.67 in image\n",
      "\n"
     ]
    },
    {
     "name": "stdout",
     "output_type": "stream",
     "text": [
      "[1] \"pairs\"\n",
      "[1] \"no_change\" \"expand\"   \n",
      "[1] \"se filt before\"\n",
      "[1] \"se filt\"\n",
      "An object of class Seurat \n",
      "97805 features across 2101 samples within 2 assays \n",
      "Active assay: RNA (19575 features, 0 variable features)\n",
      " 1 other assay present: ATAC\n",
      " 2 dimensional reductions calculated: integrated_lsi, umap\n",
      "[1] \"curr sig\"\n",
      "               p_val avg_log2FC pct.1 pct.2 p_val_adj p_val_adj_BH\n",
      "RELT    2.014749e-05  0.1000499 0.300 0.171 0.3943871  0.001006813\n",
      "KCNN3   2.426056e-05  0.1357351 0.419 0.286 0.4749005  0.001006813\n",
      "ZKSCAN5 1.059186e-04  0.1203208 0.397 0.275 1.0000000  0.002930416\n",
      "RBM23   1.659419e-04  0.1274395 0.525 0.401 1.0000000  0.003399947\n",
      "MBD5    2.128537e-04  0.1142682 0.648 0.517 1.0000000  0.003399947\n",
      "RQCD1   2.457793e-04  0.1517498 0.519 0.409 1.0000000  0.003399947\n",
      "[1] \"dim response\"\n",
      "[1] 83  6\n"
     ]
    },
    {
     "name": "stderr",
     "output_type": "stream",
     "text": [
      "Saving 6.67 x 6.67 in image\n",
      "\n",
      "Saving 6.67 x 6.67 in image\n",
      "\n",
      "Saving 6.67 x 6.67 in image\n",
      "\n",
      "Saving 6.67 x 6.67 in image\n",
      "\n",
      "Saving 6.67 x 6.67 in image\n",
      "\n"
     ]
    },
    {
     "name": "stdout",
     "output_type": "stream",
     "text": [
      "[1] \"gally\"\n",
      "[1] \"p_val\"        \"avg_log2FC\"   \"pct.1\"        \"pct.2\"        \"p_val_adj\"   \n",
      "[6] \"p_val_adj_BH\"\n"
     ]
    },
    {
     "name": "stderr",
     "output_type": "stream",
     "text": [
      "Saving 6.67 x 6.67 in image\n",
      "\n",
      "The automatically generated colors map from the 1^st and 99^th of the\n",
      "values in the matrix. There are outliers in the matrix whose patterns\n",
      "might be hidden by this color mapping. You can manually set the color\n",
      "to `col` argument.\n",
      "\n",
      "Use `suppressMessages()` to turn off this message.\n",
      "\n",
      "Saving 6.67 x 6.67 in image\n",
      "\n",
      "Saving 6.67 x 6.67 in image\n",
      "\n",
      "Saving 6.67 x 6.67 in image\n",
      "\n",
      "Saving 6.67 x 6.67 in image\n",
      "\n",
      "Saving 6.67 x 6.67 in image\n",
      "\n",
      "Saving 6.67 x 6.67 in image\n",
      "\n",
      "Saving 6.67 x 6.67 in image\n",
      "\n",
      "Saving 6.67 x 6.67 in image\n",
      "\n",
      "Saving 6.67 x 6.67 in image\n",
      "\n"
     ]
    },
    {
     "data": {
      "image/png": "[encoded data removed]",
      "text/plain": [
       "plot without title"
      ]
     },
     "metadata": {
      "image/png": {
       "height": 420,
       "width": 420
      }
     },
     "output_type": "display_data"
    }
   ],
   "source": [
    "Idents(se.filt) <- as.factor(apply(se.filt[[]][ , c(\"donor\", \"orig.ident\", \"change\") ] , 1 , paste , collapse = \"_\" ))\n",
    "donors <- sort(unique(se.filt$donor))\n",
    "all.pvals <- data.frame(matrix(nrow=dim(se.filt)[1],ncol=0),\n",
    "                          row.names=row.names(se.filt))\n",
    "all.names.sig <- c()\n",
    "for (curr.donor in donors){\n",
    "    print(paste0(\"donor \", curr.donor))\n",
    "    for (curr.cond in conds){\n",
    "        print('cond')\n",
    "        print(curr.cond)\n",
    "        try({\n",
    "            curr.se <- subset(se.filt, subset = (donor == curr.donor) & (orig.ident==curr.cond))\n",
    "            changes <- unique(curr.se$change)\n",
    "            if (length(changes)<2){\n",
    "                print(\"Only one type of change for clone in this donor\")\n",
    "                print(changes)\n",
    "                next\n",
    "            }\n",
    "            pairs <- combn(changes, 2)\n",
    "            for (p in 1:ncol(pairs)){\n",
    "                pair <- pairs[,p]\n",
    "                print(\"pairs\")\n",
    "                print(pair)\n",
    "                ident.1 = paste(curr.donor, curr.cond, pair[[1]] ,sep=\"_\")\n",
    "                ident.2 = paste(curr.donor, curr.cond, pair[[2]] ,sep=\"_\")\n",
    "\n",
    "                curr.name <- paste(ident.1, \"vs\", ident.2, \"donor\", curr.donor, \"cond\", curr.cond, sep=\"_\")\n",
    "                #curr.dir <- paste0(\"donor\", \"_\", curr.d)\n",
    "                #curr.outdir <- file.path(donor.outdir, curr.dir)\n",
    "                curr.outdir <- donor.outdir\n",
    "                #dir.create(curr.outdir)\n",
    "\n",
    "                ## Run DE\n",
    "                curr.sig <- find.markers.and.plot(curr.se, ident.1, ident.2, curr.outdir, \n",
    "                                                  curr.name=curr.name, assay=\"RNA\", logfcthresh=logfcthresh,\n",
    "                                                  min.pct=minPct, p.thresh=p_thresh, mean.fxn=NULL, fc.name=NULL)\n",
    "                #curr.sig <- run.de(p)\n",
    "\n",
    "                # Add DE to global results\n",
    "                names.sig <- rownames(curr.sig)\n",
    "                all.names.sig <- c(all.names.sig, head(names.sig, top_de))\n",
    "                all.pvals[names.sig,curr.name] <- curr.sig$p_val_adj_BH\n",
    "            }\n",
    "        })\n",
    "    }\n",
    "   \n",
    "}\n",
    "\n",
    "### a) top 3 significant results from each comparison\n",
    "if (length(all.names.sig)>0){\n",
    "    all.names.sig <- unique(all.names.sig)\n",
    "    de.plots(se.filt, all.names.sig, donor.outdir, curr.name=\"allDonors.allClusters\", max.size=15)\n",
    "\n",
    "    dot <- DotPlot(se.filt, scale=FALSE,\n",
    "                   features = head(all.names.sig,20), \n",
    "                   cluster.idents=T) + RotatedAxis()\n",
    "    dot\n",
    "    ggsave(file.path(donor.outdir, \"allDonors.allClusters.top3de.png\"))\n",
    "    ggsave(file.path(donor.outdir, \"allDonors.allClusters.top3de.pdf\"))\n",
    "    }\n",
    "\n",
    "\n",
    "## b) averaged top p-values (only average ones that were DE)\n",
    "try({\n",
    "sig.all.ordered <- sort(rowMeans(-log10(all.pvals),na.rm=T), decreasing=T)\n",
    "dot <- DotPlot(se.filt, scale=T,\n",
    "               features = names(head(sig.all.ordered,20)), \n",
    "               cluster.idents=T) + RotatedAxis()\n",
    "dot\n",
    "ggsave(file.path(donor.outdir, \"allDonors.allClusters.pvalsOrdered.png\"))\n",
    "ggsave(file.path(donor.outdir, \"allDonors.allClusters.pvalsOrdered.pdf\"))\n",
    "#de.plots(se, names(sig.all.ordered), outdir, curr.name=\"allDonors.allClusters.pvalsOrdered\", max.size=20)\n",
    "\n",
    "sig.all.ordered <- sort(rowMeans(-log10(all.pvals),na.rm=T), decreasing=T)\n",
    "dot <- DotPlot(se.filt, scale=F,\n",
    "               features = head(names(sig.all.ordered),20), \n",
    "               cluster.idents=T) + RotatedAxis()\n",
    "dot\n",
    "    \n",
    "})"
   ]
  },
  {
   "cell_type": "code",
   "execution_count": 13,
   "id": "c0daa6c8",
   "metadata": {},
   "outputs": [
    {
     "data": {
      "text/plain": [
       "R version 4.1.1 (2021-08-10)\n",
       "Platform: x86_64-conda-linux-gnu (64-bit)\n",
       "Running under: Ubuntu 20.04.4 LTS\n",
       "\n",
       "Matrix products: default\n",
       "BLAS/LAPACK: /home/isaac/miniconda3/envs/mttrace/lib/libopenblasp-r0.3.18.so\n",
       "\n",
       "locale:\n",
       " [1] LC_CTYPE=en_US.UTF-8       LC_NUMERIC=C              \n",
       " [3] LC_TIME=en_US.UTF-8        LC_COLLATE=en_US.UTF-8    \n",
       " [5] LC_MONETARY=en_US.UTF-8    LC_MESSAGES=en_US.UTF-8   \n",
       " [7] LC_PAPER=en_US.UTF-8       LC_NAME=C                 \n",
       " [9] LC_ADDRESS=C               LC_TELEPHONE=C            \n",
       "[11] LC_MEASUREMENT=en_US.UTF-8 LC_IDENTIFICATION=C       \n",
       "\n",
       "attached base packages:\n",
       "[1] stats4    stats     graphics  grDevices utils     datasets  methods  \n",
       "[8] base     \n",
       "\n",
       "other attached packages:\n",
       " [1] future_1.23.0             RColorBrewer_1.1-2       \n",
       " [3] metap_1.1                 cowplot_1.1.1            \n",
       " [5] magrittr_2.0.2            data.table_1.14.2        \n",
       " [7] patchwork_1.1.1           ggplot2_3.3.5            \n",
       " [9] EnsDb.Hsapiens.v75_2.99.0 ensembldb_2.18.1         \n",
       "[11] AnnotationFilter_1.18.0   GenomicFeatures_1.46.1   \n",
       "[13] AnnotationDbi_1.56.1      Biobase_2.54.0           \n",
       "[15] GenomicRanges_1.46.0      GenomeInfoDb_1.30.0      \n",
       "[17] IRanges_2.28.0            S4Vectors_0.32.0         \n",
       "[19] BiocGenerics_0.40.0       dplyr_1.0.8              \n",
       "[21] SeuratObject_4.0.4        Seurat_4.1.0             \n",
       "[23] Signac_1.4.0             \n",
       "\n",
       "loaded via a namespace (and not attached):\n",
       "  [1] utf8_1.2.2                  reticulate_1.24            \n",
       "  [3] tidyselect_1.1.1            RSQLite_2.2.8              \n",
       "  [5] htmlwidgets_1.5.4           grid_4.1.1                 \n",
       "  [7] docopt_0.7.1                BiocParallel_1.28.0        \n",
       "  [9] Rtsne_0.15                  munsell_0.5.0              \n",
       " [11] codetools_0.2-18            ica_1.0-2                  \n",
       " [13] pbdZMQ_0.3-6                miniUI_0.1.1.1             \n",
       " [15] withr_2.4.3                 spatstat.random_2.1-0      \n",
       " [17] colorspace_2.0-2            filelock_1.0.2             \n",
       " [19] uuid_1.0-3                  ROCR_1.0-11                \n",
       " [21] tensor_1.5                  listenv_0.8.0              \n",
       " [23] labeling_0.4.2              Rdpack_2.1.2               \n",
       " [25] MatrixGenerics_1.6.0        slam_0.1-49                \n",
       " [27] repr_1.1.3                  GenomeInfoDbData_1.2.7     \n",
       " [29] polyclip_1.10-0             bit64_4.0.5                \n",
       " [31] farver_2.1.0                parallelly_1.30.0          \n",
       " [33] vctrs_0.3.8                 generics_0.1.2             \n",
       " [35] BiocFileCache_2.2.0         lsa_0.73.2                 \n",
       " [37] ggseqlogo_0.1               doParallel_1.0.16          \n",
       " [39] R6_2.5.1                    clue_0.3-60                \n",
       " [41] reshape_0.8.8               bitops_1.0-7               \n",
       " [43] spatstat.utils_2.3-0        cachem_1.0.6               \n",
       " [45] DelayedArray_0.20.0         assertthat_0.2.1           \n",
       " [47] promises_1.2.0.1            BiocIO_1.4.0               \n",
       " [49] scales_1.1.1                gtable_0.3.0               \n",
       " [51] Cairo_1.5-12.2              globals_0.14.0             \n",
       " [53] goftest_1.2-3               rlang_1.0.1                \n",
       " [55] RcppRoll_0.3.0              GlobalOptions_0.1.2        \n",
       " [57] splines_4.1.1               rtracklayer_1.54.0         \n",
       " [59] lazyeval_0.2.2              spatstat.geom_2.3-2        \n",
       " [61] yaml_2.2.2                  reshape2_1.4.4             \n",
       " [63] abind_1.4-5                 httpuv_1.6.5               \n",
       " [65] tools_4.1.1                 ellipsis_0.3.2             \n",
       " [67] spatstat.core_2.4-0         ggridges_0.5.3             \n",
       " [69] Rcpp_1.0.8                  plyr_1.8.6                 \n",
       " [71] base64enc_0.1-3             progress_1.2.2             \n",
       " [73] zlibbioc_1.40.0             purrr_0.3.4                \n",
       " [75] RCurl_1.98-1.5              prettyunits_1.1.1          \n",
       " [77] rpart_4.1-15                deldir_1.0-6               \n",
       " [79] GetoptLong_1.0.5            pbapply_1.5-0              \n",
       " [81] zoo_1.8-9                   SummarizedExperiment_1.24.0\n",
       " [83] ggrepel_0.9.1               cluster_2.1.2              \n",
       " [85] magick_2.7.3                scattermore_0.8            \n",
       " [87] circlize_0.4.13             lmtest_0.9-39              \n",
       " [89] RANN_2.6.1                  SnowballC_0.7.0            \n",
       " [91] ProtGenerics_1.26.0         fitdistrplus_1.1-6         \n",
       " [93] matrixStats_0.61.0          hms_1.1.1                  \n",
       " [95] mime_0.12                   evaluate_0.14              \n",
       " [97] xtable_1.8-4                XML_3.99-0.8               \n",
       " [99] sparsesvd_0.2               shape_1.4.6                \n",
       "[101] gridExtra_2.3               compiler_4.1.1             \n",
       "[103] biomaRt_2.50.0              tibble_3.1.6               \n",
       "[105] KernSmooth_2.23-20          crayon_1.5.0               \n",
       "[107] htmltools_0.5.2             mgcv_1.8-38                \n",
       "[109] later_1.3.0                 tidyr_1.2.0                \n",
       "[111] DBI_1.1.1                   tweenr_1.0.2               \n",
       "[113] ComplexHeatmap_2.10.0       dbplyr_2.1.1               \n",
       "[115] MASS_7.3-54                 rappdirs_0.3.3             \n",
       "[117] Matrix_1.3-4                cli_3.2.0                  \n",
       "[119] rbibutils_2.2.4             parallel_4.1.1             \n",
       "[121] igraph_1.2.11               pkgconfig_2.0.3            \n",
       "[123] GenomicAlignments_1.30.0    IRdisplay_1.0              \n",
       "[125] plotly_4.10.0               spatstat.sparse_2.1-0      \n",
       "[127] foreach_1.5.1               xml2_1.3.2                 \n",
       "[129] XVector_0.34.0              stringr_1.4.0              \n",
       "[131] digest_0.6.29               sctransform_0.3.3          \n",
       "[133] RcppAnnoy_0.0.19            spatstat.data_2.1-2        \n",
       "[135] Biostrings_2.62.0           leiden_0.3.9               \n",
       "[137] fastmatch_1.1-3             uwot_0.1.11                \n",
       "[139] restfulr_0.0.13             curl_4.3.2                 \n",
       "[141] shiny_1.7.1                 Rsamtools_2.10.0           \n",
       "[143] rjson_0.2.20                lifecycle_1.0.1            \n",
       "[145] nlme_3.1-153                jsonlite_1.7.3             \n",
       "[147] limma_3.50.0                viridisLite_0.4.0          \n",
       "[149] fansi_1.0.2                 pillar_1.7.0               \n",
       "[151] GGally_2.1.2                lattice_0.20-45            \n",
       "[153] KEGGREST_1.34.0             fastmap_1.1.0              \n",
       "[155] httr_1.4.2                  survival_3.2-13            \n",
       "[157] glue_1.6.1                  qlcMatrix_0.9.7            \n",
       "[159] iterators_1.0.13            png_0.1-7                  \n",
       "[161] bit_4.0.4                   ggforce_0.3.3              \n",
       "[163] stringi_1.7.6               blob_1.2.2                 \n",
       "[165] memoise_2.0.1               IRkernel_1.2               \n",
       "[167] irlba_2.3.5                 future.apply_1.8.1         "
      ]
     },
     "metadata": {},
     "output_type": "display_data"
    }
   ],
   "source": [
    "sessionInfo()"
   ]
  },
  {
   "cell_type": "code",
   "execution_count": 14,
   "id": "1f1782dd",
   "metadata": {
    "scrolled": true
   },
   "outputs": [
    {
     "data": {
      "text/html": [
       "'/data/Mito_Trace/output/pipeline/TcellDupi_may17_2021/MTblacklist/data/merged/MT/cellr_True/numread_200/filters/minC10_minR50_topN0_hetT0.001_hetC10_hetCount5_bq20/mgatk/vireoIn/clones/variants_init/knn/kparam_3/concat/gff_hg38_1_2/clones_change/filt_fisher__shuffle_False__padj_True__pthresh_0.01_minC_1__bothMinC__0/de/btwnChange_inCond/minPct_0.01__logfc0.1_pthresh_0.01'"
      ],
      "text/latex": [
       "'/data/Mito\\_Trace/output/pipeline/TcellDupi\\_may17\\_2021/MTblacklist/data/merged/MT/cellr\\_True/numread\\_200/filters/minC10\\_minR50\\_topN0\\_hetT0.001\\_hetC10\\_hetCount5\\_bq20/mgatk/vireoIn/clones/variants\\_init/knn/kparam\\_3/concat/gff\\_hg38\\_1\\_2/clones\\_change/filt\\_fisher\\_\\_shuffle\\_False\\_\\_padj\\_True\\_\\_pthresh\\_0.01\\_minC\\_1\\_\\_bothMinC\\_\\_0/de/btwnChange\\_inCond/minPct\\_0.01\\_\\_logfc0.1\\_pthresh\\_0.01'"
      ],
      "text/markdown": [
       "'/data/Mito_Trace/output/pipeline/TcellDupi_may17_2021/MTblacklist/data/merged/MT/cellr_True/numread_200/filters/minC10_minR50_topN0_hetT0.001_hetC10_hetCount5_bq20/mgatk/vireoIn/clones/variants_init/knn/kparam_3/concat/gff_hg38_1_2/clones_change/filt_fisher__shuffle_False__padj_True__pthresh_0.01_minC_1__bothMinC__0/de/btwnChange_inCond/minPct_0.01__logfc0.1_pthresh_0.01'"
      ],
      "text/plain": [
       "[1] \"/data/Mito_Trace/output/pipeline/TcellDupi_may17_2021/MTblacklist/data/merged/MT/cellr_True/numread_200/filters/minC10_minR50_topN0_hetT0.001_hetC10_hetCount5_bq20/mgatk/vireoIn/clones/variants_init/knn/kparam_3/concat/gff_hg38_1_2/clones_change/filt_fisher__shuffle_False__padj_True__pthresh_0.01_minC_1__bothMinC__0/de/btwnChange_inCond/minPct_0.01__logfc0.1_pthresh_0.01\""
      ]
     },
     "metadata": {},
     "output_type": "display_data"
    }
   ],
   "source": [
    "outdir"
   ]
  },
  {
   "cell_type": "code",
   "execution_count": null,
   "id": "2c0d478b",
   "metadata": {},
   "outputs": [],
   "source": []
  }
 ],
 "metadata": {
  "celltoolbar": "Tags",
  "kernelspec": {
   "display_name": "R",
   "language": "R",
   "name": "ir"
  },
  "language_info": {
   "codemirror_mode": "r",
   "file_extension": ".r",
   "mimetype": "text/x-r-source",
   "name": "R",
   "pygments_lexer": "r",
   "version": "4.1.1"
  }
 },
 "nbformat": 4,
 "nbformat_minor": 5
}
