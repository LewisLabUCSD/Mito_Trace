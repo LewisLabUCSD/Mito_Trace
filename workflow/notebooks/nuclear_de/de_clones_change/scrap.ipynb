{
 "cells": [
  {
   "cell_type": "markdown",
   "id": "223d6f46",
   "metadata": {},
   "source": [
    "## Runs DE on different clusters. Also runs DE within each cluster for each condition.\n",
    "Does this over each donor and combined"
   ]
  },
  {
   "cell_type": "code",
   "execution_count": 1,
   "id": "235ae72f",
   "metadata": {
    "tags": [
     "parameters"
    ]
   },
   "outputs": [],
   "source": [
    "se_f = \"/data/Mito_Trace/output/pipeline/DUPI_april08_2021/MTblacklist_mtasnucl_Bonly/data/merged/MT/cellr_True/numread_200/filters/minC10_minR50_topN0_hetT0.001_hetC10_hetCount5_bq20/mgatk/vireoIn/clones/variants_init/knn/kparam_3/concat/gff_hg38_1_2/annotation_clones/SE.rds\"\n",
    "cells_meta_f = \"/data/Mito_Trace/output/pipeline/DUPI_april08_2021/MTblacklist_mtasnucl_Bonly/data/merged/MT/cellr_True/numread_200/filters/minC10_minR50_topN0_hetT0.001_hetC10_hetCount5_bq20/mgatk/vireoIn/multiplex/mt_clones/cells_meta.tsv\"\n",
    "outdir = \"/data/Mito_Trace/output/pipeline/DUPI_april08_2021/MTblacklist_mtasnucl_Bonly/data/merged/MT/cellr_True/numread_200/filters/minC10_minR50_topN0_hetT0.001_hetC10_hetCount5_bq20/mgatk/vireoIn/clones/variants_init/knn/kparam_3/concat/gff_hg38_1_2/annotation_clones/de_clone_btwnvars_RNA/\"\n",
    "sample_names = \"preB,postB\"\n",
    "\n",
    "#cells_meta_f = \"/data/Mito_Trace/output/pipeline/DUPI_april08_2021/v2_MTblacklist_mtasnucl_Bonly/data/merged/MT/cellr_True/numread_200/filters/minC10_minR50_topN0_hetT0.001_hetC10_hetCount5_bq20/mgatk/vireoIn/multiplex/mt_clones/thr__0.01_rt__10/cells_meta.tsv\"\n",
    "#outdir = \"/data/Mito_Trace/output/pipeline/DUPI_april08_2021/v2_MTblacklist_mtasnucl_Bonly/data/merged/MT/cellr_True/numread_200/filters/minC10_minR50_topN0_hetT0.001_hetC10_hetCount5_bq20/mgatk/vireoIn/clones/variants_init/knn/kparam_3/concat/gff_hg38_1_2/thr__0.01_rt__10/annotation_clones/de_clone_btwnvars_RNA/minPct_0_logfc0_minCells1_pthresh0.1_pthresh_0.1\"\n",
    "min_cells = 1 \n",
    "\n",
    "# Parameters\n",
    "ncells_thresh = 10\n",
    "minPct = 0.00\n",
    "logfcthresh = 0.1\n",
    "test.use=\"wilcox\"\n",
    "latent.vars = \"NULL\"\n",
    "p_thresh = 0.1 \n",
    "top_de = 3\n",
    "ids.reversed = T\n",
    "\n",
    "# Parallel processing\n",
    "cores = 4\n",
    "# R utils script\n",
    "utils_script <- \"/data/Mito_Trace/R_scripts/seurat_utils.R\"\n"
   ]
  },
  {
   "cell_type": "code",
   "execution_count": 2,
   "id": "2c603eba",
   "metadata": {
    "scrolled": true
   },
   "outputs": [
    {
     "name": "stderr",
     "output_type": "stream",
     "text": [
      "Loading required package: stats4\n",
      "\n",
      "Loading required package: BiocGenerics\n",
      "\n",
      "\n",
      "Attaching package: ‘BiocGenerics’\n",
      "\n",
      "\n",
      "The following objects are masked from ‘package:stats’:\n",
      "\n",
      "    IQR, mad, sd, var, xtabs\n",
      "\n",
      "\n",
      "The following objects are masked from ‘package:base’:\n",
      "\n",
      "    anyDuplicated, append, as.data.frame, basename, cbind, colnames,\n",
      "    dirname, do.call, duplicated, eval, evalq, Filter, Find, get, grep,\n",
      "    grepl, intersect, is.unsorted, lapply, Map, mapply, match, mget,\n",
      "    order, paste, pmax, pmax.int, pmin, pmin.int, Position, rank,\n",
      "    rbind, Reduce, rownames, sapply, setdiff, sort, table, tapply,\n",
      "    union, unique, unsplit, which.max, which.min\n",
      "\n",
      "\n",
      "Loading required package: S4Vectors\n",
      "\n",
      "\n",
      "Attaching package: ‘S4Vectors’\n",
      "\n",
      "\n",
      "The following objects are masked from ‘package:base’:\n",
      "\n",
      "    expand.grid, I, unname\n",
      "\n",
      "\n",
      "Loading required package: IRanges\n",
      "\n",
      "Loading required package: GenomeInfoDb\n",
      "\n",
      "Attaching SeuratObject\n",
      "\n",
      "Loading required package: ensembldb\n",
      "\n",
      "Loading required package: GenomicFeatures\n",
      "\n",
      "Loading required package: AnnotationDbi\n",
      "\n",
      "Loading required package: Biobase\n",
      "\n",
      "Welcome to Bioconductor\n",
      "\n",
      "    Vignettes contain introductory material; view with\n",
      "    'browseVignettes()'. To cite Bioconductor, see\n",
      "    'citation(\"Biobase\")', and for packages 'citation(\"pkgname\")'.\n",
      "\n",
      "\n",
      "Loading required package: AnnotationFilter\n",
      "\n",
      "\n",
      "Attaching package: 'ensembldb'\n",
      "\n",
      "\n",
      "The following object is masked from 'package:stats':\n",
      "\n",
      "    filter\n",
      "\n",
      "\n",
      "\n",
      "Attaching package: 'data.table'\n",
      "\n",
      "\n",
      "The following object is masked from 'package:GenomicRanges':\n",
      "\n",
      "    shift\n",
      "\n",
      "\n",
      "The following object is masked from 'package:IRanges':\n",
      "\n",
      "    shift\n",
      "\n",
      "\n",
      "The following objects are masked from 'package:S4Vectors':\n",
      "\n",
      "    first, second\n",
      "\n",
      "\n",
      "\n",
      "Attaching package: 'magrittr'\n",
      "\n",
      "\n",
      "The following object is masked from 'package:AnnotationFilter':\n",
      "\n",
      "    not\n",
      "\n",
      "\n",
      "\n",
      "Attaching package: 'cowplot'\n",
      "\n",
      "\n",
      "The following object is masked from 'package:patchwork':\n",
      "\n",
      "    align_plots\n",
      "\n",
      "\n",
      "\n",
      "Attaching package: 'dplyr'\n",
      "\n",
      "\n",
      "The following objects are masked from 'package:data.table':\n",
      "\n",
      "    between, first, last\n",
      "\n",
      "\n",
      "The following objects are masked from 'package:ensembldb':\n",
      "\n",
      "    filter, select\n",
      "\n",
      "\n",
      "The following object is masked from 'package:AnnotationDbi':\n",
      "\n",
      "    select\n",
      "\n",
      "\n",
      "The following object is masked from 'package:Biobase':\n",
      "\n",
      "    combine\n",
      "\n",
      "\n",
      "The following objects are masked from 'package:GenomicRanges':\n",
      "\n",
      "    intersect, setdiff, union\n",
      "\n",
      "\n",
      "The following object is masked from 'package:GenomeInfoDb':\n",
      "\n",
      "    intersect\n",
      "\n",
      "\n",
      "The following objects are masked from 'package:IRanges':\n",
      "\n",
      "    collapse, desc, intersect, setdiff, slice, union\n",
      "\n",
      "\n",
      "The following objects are masked from 'package:S4Vectors':\n",
      "\n",
      "    first, intersect, rename, setdiff, setequal, union\n",
      "\n",
      "\n",
      "The following objects are masked from 'package:BiocGenerics':\n",
      "\n",
      "    combine, intersect, setdiff, union\n",
      "\n",
      "\n",
      "The following objects are masked from 'package:stats':\n",
      "\n",
      "    filter, lag\n",
      "\n",
      "\n",
      "The following objects are masked from 'package:base':\n",
      "\n",
      "    intersect, setdiff, setequal, union\n",
      "\n",
      "\n",
      "\n",
      "Attaching package: 'future'\n",
      "\n",
      "\n",
      "The following object is masked from 'package:AnnotationFilter':\n",
      "\n",
      "    value\n",
      "\n",
      "\n",
      "The following object is masked from 'package:GenomicRanges':\n",
      "\n",
      "    values\n",
      "\n",
      "\n",
      "The following object is masked from 'package:S4Vectors':\n",
      "\n",
      "    values\n",
      "\n",
      "\n"
     ]
    },
    {
     "data": {
      "text/html": [
       "<pre class=language-r><code>structure(function (..., envir = parent.frame()) \n",
       "{\n",
       "<span style=white-space:pre-wrap>    future &lt;- SequentialFuture(..., envir = envir)</span>\n",
       "<span style=white-space:pre-wrap>    if (!future$lazy) </span>\n",
       "<span style=white-space:pre-wrap>        future &lt;- run(future)</span>\n",
       "<span style=white-space:pre-wrap>    invisible(future)</span>\n",
       "}, class = c(\"FutureStrategy\", \"sequential\", \"uniprocess\", \"future\", \n",
       "\"function\"))</code></pre>"
      ],
      "text/latex": [
       "\\begin{minted}{r}\n",
       "structure(function (..., envir = parent.frame()) \n",
       "\\{\n",
       "    future <- SequentialFuture(..., envir = envir)\n",
       "    if (!future\\$lazy) \n",
       "        future <- run(future)\n",
       "    invisible(future)\n",
       "\\}, class = c(\"FutureStrategy\", \"sequential\", \"uniprocess\", \"future\", \n",
       "\"function\"))\n",
       "\\end{minted}"
      ],
      "text/markdown": [
       "```r\n",
       "structure(function (..., envir = parent.frame()) \n",
       "{\n",
       "    future <- SequentialFuture(..., envir = envir)\n",
       "    if (!future$lazy) \n",
       "        future <- run(future)\n",
       "    invisible(future)\n",
       "}, class = c(\"FutureStrategy\", \"sequential\", \"uniprocess\", \"future\", \n",
       "\"function\"))\n",
       "```"
      ],
      "text/plain": [
       "sequential:\n",
       "- args: function (..., envir = parent.frame())\n",
       "- tweaked: FALSE\n",
       "- call: NULL"
      ]
     },
     "metadata": {},
     "output_type": "display_data"
    },
    {
     "name": "stderr",
     "output_type": "stream",
     "text": [
      "Warning message:\n",
      "\"Strategy 'multiprocess' is deprecated in future (>= 1.20.0). Instead, explicitly specify either 'multisession' or 'multicore'. In the current R session, 'multiprocess' equals 'multicore'.\"\n"
     ]
    }
   ],
   "source": [
    "library(GenomicRanges)\n",
    "library(Seurat)\n",
    "library(Signac)\n",
    "library(GenomeInfoDb)\n",
    "library(EnsDb.Hsapiens.v75)\n",
    "library(ggplot2)\n",
    "library(patchwork)\n",
    "set.seed(1234)\n",
    "library(data.table)\n",
    "library(magrittr)\n",
    "library(cowplot)\n",
    "library(metap)\n",
    "library(\"RColorBrewer\")\n",
    "library(dplyr)\n",
    "library(future)\n",
    "plan()\n",
    "\n",
    "plan(\"multiprocess\", workers = cores)\n",
    "#options(future.globals.maxSize = 50000 * 1024^2) # for 50 Gb RAM\n",
    "options(future.globals.maxSize = 8000 * 1024^2)"
   ]
  },
  {
   "cell_type": "code",
   "execution_count": 3,
   "id": "40b4b453",
   "metadata": {},
   "outputs": [],
   "source": [
    "source(utils_script)"
   ]
  },
  {
   "cell_type": "code",
   "execution_count": 4,
   "id": "d52360db",
   "metadata": {
    "scrolled": true
   },
   "outputs": [
    {
     "data": {
      "text/html": [
       "<style>\n",
       ".list-inline {list-style: none; margin:0; padding: 0}\n",
       ".list-inline>li {display: inline-block}\n",
       ".list-inline>li:not(:last-child)::after {content: \"\\00b7\"; padding: 0 .5ex}\n",
       "</style>\n",
       "<ol class=list-inline><li>'preB'</li><li>'postB'</li></ol>\n"
      ],
      "text/latex": [
       "\\begin{enumerate*}\n",
       "\\item 'preB'\n",
       "\\item 'postB'\n",
       "\\end{enumerate*}\n"
      ],
      "text/markdown": [
       "1. 'preB'\n",
       "2. 'postB'\n",
       "\n",
       "\n"
      ],
      "text/plain": [
       "[1] \"preB\"  \"postB\""
      ]
     },
     "metadata": {},
     "output_type": "display_data"
    }
   ],
   "source": [
    "sample_names <- unlist(strsplit(sample_names, \",\")[[1]])\n",
    "sample_names"
   ]
  },
  {
   "cell_type": "code",
   "execution_count": 5,
   "id": "dcb04677",
   "metadata": {},
   "outputs": [],
   "source": [
    "dir.create(outdir)"
   ]
  },
  {
   "cell_type": "code",
   "execution_count": 6,
   "id": "aaec9d83",
   "metadata": {
    "scrolled": true
   },
   "outputs": [
    {
     "name": "stderr",
     "output_type": "stream",
     "text": [
      "Warning message in file(file, \"rt\"):\n",
      "\"cannot open file '/data/Mito_Trace/output/pipeline/DUPI_april08_2021/MTblacklist_mtasnucl_Bonly/data/merged/MT/cellr_True/numread_200/filters/minC10_minR50_topN0_hetT0.001_hetC10_hetCount5_bq20/mgatk/vireoIn/multiplex/mt_clones/cells_meta.tsv': No such file or directory\"\n"
     ]
    },
    {
     "ename": "ERROR",
     "evalue": "Error in file(file, \"rt\"): cannot open the connection\n",
     "output_type": "error",
     "traceback": [
      "Error in file(file, \"rt\"): cannot open the connection\nTraceback:\n",
      "1. read.table(cells_meta_f, sep = \"\\t\", header = T, row.names = \"cell\")",
      "2. file(file, \"rt\")"
     ]
    }
   ],
   "source": [
    "cells_meta <- read.table(cells_meta_f, sep=\"\\t\", header = T, row.names=\"cell\")\n",
    "cells_meta \n",
    "\n",
    "#cells_meta\n",
    "ids.reversed = T\n",
    "\n",
    "if (ids.reversed){\n",
    "    print('here')\n",
    "    split.names <- stringr::str_split(rownames(cells_meta), \"_\")\n",
    "    rownames(cells_meta) = lapply(split.names, function(x){paste0(x[2], \"_\", x[1])})\n",
    "}\n",
    "cells_meta = cells_meta[, order(colSums(-cells_meta))]\n",
    "head(cells_meta)"
   ]
  },
  {
   "cell_type": "code",
   "execution_count": null,
   "id": "1ae98d46",
   "metadata": {
    "scrolled": false
   },
   "outputs": [],
   "source": [
    "se <- readRDS(se_f)#file.path(indir, paste0(\"allSamples.integrated.rds\")))\n",
    "se"
   ]
  },
  {
   "cell_type": "markdown",
   "id": "c48bbe03",
   "metadata": {},
   "source": [
    "### Subset to just in cells_meta"
   ]
  },
  {
   "cell_type": "code",
   "execution_count": null,
   "id": "452ac4ff",
   "metadata": {},
   "outputs": [],
   "source": [
    "se$inClones = 0\n",
    "se[[\"inClones\"]][(colnames(se) %in% row.names(cells_meta)), \"inClones\"] = 1\n",
    "\n",
    "sum(se[[\"inClones\"]])/dim(se[[]][1])\n",
    "\n",
    "se.filt <- subset(se, subset = inClones == 1 )"
   ]
  },
  {
   "cell_type": "code",
   "execution_count": null,
   "id": "0f422931",
   "metadata": {},
   "outputs": [],
   "source": [
    "se.filt <- AddMetaData(se.filt, cells_meta)"
   ]
  },
  {
   "cell_type": "code",
   "execution_count": null,
   "id": "8ed9794b",
   "metadata": {
    "scrolled": false
   },
   "outputs": [],
   "source": [
    "se"
   ]
  },
  {
   "cell_type": "code",
   "execution_count": null,
   "id": "de0dfca9",
   "metadata": {
    "scrolled": true
   },
   "outputs": [],
   "source": [
    "se.filt"
   ]
  },
  {
   "cell_type": "code",
   "execution_count": null,
   "id": "722ff5ef",
   "metadata": {
    "scrolled": true
   },
   "outputs": [],
   "source": [
    "source(utils_script)\n",
    "tmp <- get.clone.sizes(se.filt)\n",
    "counts.conds.norm <- tmp[[\"counts.norm\"]]\n",
    "clone.sizes <- tmp[[\"clone.size\"]]\n",
    "head(clone.sizes)"
   ]
  },
  {
   "cell_type": "code",
   "execution_count": null,
   "id": "1bfd335c",
   "metadata": {},
   "outputs": [],
   "source": [
    "dim(se.filt[[]])"
   ]
  },
  {
   "cell_type": "markdown",
   "id": "92fe40c1",
   "metadata": {},
   "source": [
    "## plot each clone pre and post "
   ]
  },
  {
   "cell_type": "code",
   "execution_count": null,
   "id": "199211af",
   "metadata": {
    "scrolled": true
   },
   "outputs": [],
   "source": [
    "mt.vars <- colnames(cells_meta)\n",
    "mt.vars"
   ]
  },
  {
   "cell_type": "code",
   "execution_count": null,
   "id": "f0b1708a",
   "metadata": {},
   "outputs": [],
   "source": [
    "se.filt[[]]"
   ]
  },
  {
   "cell_type": "code",
   "execution_count": null,
   "id": "7d75bc16",
   "metadata": {
    "scrolled": true
   },
   "outputs": [],
   "source": [
    "for (mt in (mt.vars)){\n",
    "    print(mt)    \n",
    "    expr <- FetchData(se.filt, vars = mt)\n",
    "    curr.se <- se.filt[, which(expr == 1)]\n",
    "    #curr.se\n",
    "    p <- DimPlot(se.filt , group.by = \"condition\", split.by=mt)\n",
    "    p2 <- DimPlot(curr.se , split.by=\"condition\")\n",
    "    curr.count = sum(se.filt[[mt]])\n",
    "    ggsave(file.path(outdir, paste(\"count\", curr.count,mt, \"groupCond.png\", sep=\"_\")), p)\n",
    "    ggsave(file.path(outdir, paste(\"count\", curr.count,mt, \"clrCond.png\", sep=\"_\")), p2)\n",
    "}"
   ]
  },
  {
   "cell_type": "code",
   "execution_count": null,
   "id": "3a6b9ecc",
   "metadata": {},
   "outputs": [],
   "source": [
    "outdir"
   ]
  },
  {
   "cell_type": "code",
   "execution_count": null,
   "id": "74779238",
   "metadata": {},
   "outputs": [],
   "source": []
  },
  {
   "cell_type": "markdown",
   "id": "07575123",
   "metadata": {},
   "source": [
    "# Stimulus specific response in each clone\n",
    "\n",
    "A. with variant vs without\n",
    "B. top variants against top variants"
   ]
  },
  {
   "cell_type": "code",
   "execution_count": null,
   "id": "ddac3765",
   "metadata": {},
   "outputs": [],
   "source": [
    "#    expr <- FetchData(se.filt, vars = mt)\n",
    "    #curr.se <- se.filt[, which(expr == 1)]\n",
    "    #curr.se"
   ]
  },
  {
   "cell_type": "code",
   "execution_count": null,
   "id": "6133e742",
   "metadata": {
    "scrolled": true
   },
   "outputs": [],
   "source": [
    "all.pvals <- data.frame(matrix(nrow=dim(se.filt)[1],ncol=0),\n",
    "                          row.names=row.names(se.filt))\n",
    "all.names.sig <- c()\n",
    "\n",
    "# #sample_names\n",
    "\n",
    "for (curr.clone in mt.vars){\n",
    "    print(curr.clone)\n",
    "    clone.ids <- sort(unique(se.filt$name))\n",
    "    se.filt$clone.stim <- paste(se.filt[[curr.clone]][,curr.clone], se.filt$condition,  sep = \"_\")\n",
    "\n",
    "    # se$clone <- se$name\n",
    "    Idents(se.filt) <- \"clone.stim\"\n",
    "\n",
    "    ident.1 = paste0(\"0\", \"_\", sample_names[[1]]) \n",
    "    ident.2 = paste0(\"1\", \"_\", sample_names[[2]])\n",
    "    #try({\n",
    "        print(curr.clone)\n",
    "        curr.name <-paste0(\"clone_\", curr.clone)\n",
    "        curr.clone.outdir <- file.path(outdir, paste0(\"clone_\", curr.clone))\n",
    "        dir.create(curr.clone.outdir)\n",
    "\n",
    "        curr.sig <- find.markers.and.plot(se.filt, ident.1, ident.2, curr.clone.outdir, \n",
    "                                          curr.name=curr.clone, assay=\"RNA\", logfcthresh=logfcthresh,\n",
    "                                          min.pct=minPct, p.thresh=p_thresh, mean.fxn=NULL, fc.name=NULL)\n",
    "        names.sig <- rownames(curr.sig)\n",
    "        all.names.sig <- c(all.names.sig, head(names.sig, top_de))\n",
    "        all.pvals[names.sig,curr.clone] <- curr.sig$p_val_adj_BH        \n",
    "        #})\n",
    "    }\n",
    "\n",
    "\n",
    "\n",
    "all.pvals[rowSums(is.na(all.pvals)) != ncol(all.pvals), ]\n",
    "\n",
    "\n"
   ]
  },
  {
   "cell_type": "code",
   "execution_count": null,
   "id": "33a731b4",
   "metadata": {},
   "outputs": [],
   "source": []
  },
  {
   "cell_type": "code",
   "execution_count": null,
   "id": "0e7c071b",
   "metadata": {},
   "outputs": [],
   "source": [
    "# ## DE sig summarize\n",
    "\n",
    "# all.names.sig\n",
    "\n",
    "# ### a) top 3 significant results from each comparison\n",
    "\n",
    "# all.names.sig <- unique(all.names.sig)\n",
    "# de.plots(se, all.names.sig, btwnConds_inClone_sepDonors.outdir, curr.name=\"allDonors.allClusters\", max.size=15)\n",
    "\n",
    "# dot <- DotPlot(se, scale=FALSE,\n",
    "#                features = head(all.names.sig,20), \n",
    "#                cluster.idents=T) + RotatedAxis()\n",
    "# dot\n",
    "# ggsave(file.path(btwnConds_inClone_sepDonors.outdir, \"allDonors.allClusters.top3de.png\"))\n",
    "# ggsave(file.path(btwnConds_inClone_sepDonors.outdir, \"allDonors.allClusters.top3de.pdf\"))\n",
    "\n",
    "\n",
    "\n",
    "# ## b) averaged top p-values (only average ones that were DE)\n",
    "\n",
    "# sig.all.ordered <- sort(rowMeans(-log10(all.pvals),na.rm=T), decreasing=T)\n",
    "# dot <- DotPlot(se, scale=T,\n",
    "#                features = names(head(sig.all.ordered,20)), \n",
    "#                cluster.idents=T) + RotatedAxis()\n",
    "# dot\n",
    "# ggsave(file.path(btwnConds_inClone_sepDonors.outdir, \"allDonors.allClusters.pvalsOrdered.png\"))\n",
    "# ggsave(file.path(btwnConds_inClone_sepDonors.outdir, \"allDonors.allClusters.pvalsOrdered.pdf\"))\n",
    "# #de.plots(se, names(sig.all.ordered), outdir, curr.name=\"allDonors.allClusters.pvalsOrdered\", max.size=20)\n",
    "\n",
    "# sig.all.ordered <- sort(rowMeans(-log10(all.pvals),na.rm=T), decreasing=T)\n",
    "# dot <- DotPlot(se, scale=F,\n",
    "#                features = head(names(sig.all.ordered),20), \n",
    "#                cluster.idents=T) + RotatedAxis()\n",
    "# dot\n"
   ]
  },
  {
   "cell_type": "code",
   "execution_count": null,
   "id": "c0daa6c8",
   "metadata": {},
   "outputs": [],
   "source": [
    "sessionInfo()"
   ]
  },
  {
   "cell_type": "code",
   "execution_count": null,
   "id": "1f1782dd",
   "metadata": {
    "scrolled": false
   },
   "outputs": [],
   "source": [
    "outdir"
   ]
  },
  {
   "cell_type": "code",
   "execution_count": null,
   "id": "2c0d478b",
   "metadata": {},
   "outputs": [],
   "source": []
  }
 ],
 "metadata": {
  "celltoolbar": "Tags",
  "kernelspec": {
   "display_name": "R",
   "language": "R",
   "name": "ir"
  },
  "language_info": {
   "codemirror_mode": "r",
   "file_extension": ".r",
   "mimetype": "text/x-r-source",
   "name": "R",
   "pygments_lexer": "r",
   "version": "4.1.1"
  }
 },
 "nbformat": 4,
 "nbformat_minor": 5
}
