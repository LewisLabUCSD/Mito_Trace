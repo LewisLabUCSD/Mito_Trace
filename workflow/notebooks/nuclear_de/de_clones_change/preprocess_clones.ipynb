{
 "cells": [
  {
   "cell_type": "code",
   "execution_count": 1,
   "id": "73e1a9e2",
   "metadata": {
    "tags": [
     "parameters"
    ]
   },
   "outputs": [],
   "source": [
    "# Input\n",
    "enrichment_dir = \"/data/Mito_Trace/output/pipeline/TcellDupi_may17_2021/MTblacklist/data/merged/MT/cellr_True/numread_200/filters/minC10_minR50_topN0_hetT0.001_hetC10_hetCount5_bq20/mgatk/vireoIn/clones/variants_init/knn/kparam_3/enrichment/\"\n",
    "# Output\n",
    "outdir = \"/data/Mito_Trace/output/pipeline/TcellDupi_may17_2021/MTblacklist/data/merged/MT/cellr_True/numread_200/filters/minC10_minR50_topN0_hetT0.001_hetC10_hetCount5_bq20/mgatk/vireoIn/clones/variants_init/knn/kparam_3/concat/gff_hg38_1_2/clones_change/filt_fisher__shuffle_False__padj_True__pthresh_0.01_minC_1__bothMinC__0/preproc\"\n",
    "\n",
    "# Params\n",
    "pthresh = 0.01\n",
    "clone_filt = \"fisher\"\n",
    "min_cell = 1\n",
    "min_cell_both = 1\n",
    "use_p_adjust = True\n",
    "shuffle = False\n",
    "\n",
    "#p adjustments\n",
    "to_calc_p_adjust = True\n",
    "p_adj_col = \"p_adj\""
   ]
  },
  {
   "cell_type": "code",
   "execution_count": 2,
   "id": "75ec3ecb",
   "metadata": {},
   "outputs": [],
   "source": [
    "import pandas as pd\n",
    "from os.path import join, exists\n",
    "import os\n",
    "import seaborn as sns\n",
    "import numpy as np\n",
    "import matplotlib.pyplot as plt"
   ]
  },
  {
   "cell_type": "code",
   "execution_count": 3,
   "id": "3436e082",
   "metadata": {},
   "outputs": [],
   "source": [
    "if not exists(outdir):\n",
    "    os.mkdir(outdir)"
   ]
  },
  {
   "cell_type": "code",
   "execution_count": 4,
   "id": "e8c011b6",
   "metadata": {
    "scrolled": false
   },
   "outputs": [],
   "source": [
    "#from glob import glob\n",
    "#shuffle_stats_in = glob(join(enrichment_dir, \"shuffle_stats\", \"*clone_shuffle.csv\"))\n",
    "#shuffle_stats_in"
   ]
  },
  {
   "cell_type": "markdown",
   "id": "8d8d301f",
   "metadata": {},
   "source": [
    "## Need to create name for each clone: {donor}_{cl} and d{donor}_cl{cl} is full id\n",
    "## Need to create 'change' column for expand, regress, no_change\n",
    "## Need to filter small clones if parameter is set"
   ]
  },
  {
   "cell_type": "code",
   "execution_count": 5,
   "id": "c7cacc47",
   "metadata": {
    "scrolled": true
   },
   "outputs": [
    {
     "name": "stdout",
     "output_type": "stream",
     "text": [
      "adjusting p value\n",
      "Before min-cell filter\n",
      "(97, 15)\n",
      "After min-cell filter\n",
      "(97, 15)\n",
      "After min-cell filter both\n",
      "(95, 15)\n"
     ]
    }
   ],
   "source": [
    "def get_change(x):\n",
    "    if x[\"sig\"] == False:\n",
    "        return \"no_change\"\n",
    "    if x[fold_col]>1:\n",
    "        return \"expand\"\n",
    "    else:\n",
    "        return \"regress\"\n",
    "    \n",
    "clones = pd.read_csv(join(enrichment_dir, \"enrichmentNorm.csv\"))\n",
    "\n",
    "fold_col = clones.columns.values[clones.columns.str.contains(\"fold enrichment norm\")][0]\n",
    "count_cols = clones.columns.values[clones.columns.str.contains(\"Cells in Cluster\")]\n",
    "clones[\"log2_fold\"] = np.log2(clones[fold_col])\n",
    "\n",
    "if clone_filt == \"fisher\":\n",
    "    if to_calc_p_adjust:\n",
    "        from statsmodels.stats.multitest import multipletests\n",
    "        print(\"adjusting p value\")\n",
    "        _, clones[\"p_adj\"], _, _ = multipletests(clones[\"Fisher p\"].values, method=\"fdr_bh\")\n",
    "        \n",
    "        clones[\"sig\"] = clones[\"p_adj\"] < pthresh\n",
    "else: #make them all considered sig\n",
    "    clones[\"sig\"] = 1\n",
    "    clones[\"p_adj\"] = -1\n",
    "    \n",
    "clones[\"change\"] = clones.apply(get_change, axis=1)   \n",
    "clones[\"negLog10_p_adj\"] = -np.log10(clones[\"p_adj\"])\n",
    "# Filter for minimum number of cells in clone \n",
    "print(\"Before min-cell filter\")\n",
    "print(clones.shape)\n",
    "clones = clones.loc[clones[count_cols].sum(axis=1)>min_cell]\n",
    "print(\"After min-cell filter\")\n",
    "print(clones.shape)\n",
    "\n",
    "clones = clones.loc[(clones[count_cols]>min_cell_both).all(axis=1)]\n",
    "print(\"After min-cell filter both\")\n",
    "print(clones.shape)\n",
    "clones[\"name\"] = clones[\"Donor\"].astype(str) + \"_\" + clones[\"lineage\"].astype(str)\n",
    "clones[\"ID\"] = \"donor_\"+clones[\"Donor\"].astype(str) + \"_clone_\" + clones[\"lineage\"].astype(str)\n",
    "clones = clones.set_index(\"name\")\n",
    "\n",
    "if shuffle: \n",
    "    # if didnt pass shuffle_stats, then changed to no_change if not already\n",
    "    shuffle_stats = pd.read_csv(join(enrichment_dir, \"shuffle_stats\", \"shuffle_stats.csv\"))\n",
    "    sig_shuffle_stats = shuffle_stats[shuffle_stats[\"shuffle_sig_max\"]==True].set_index(\"name\")\n",
    "    clones[\"shuffle_sig_max\"] = False\n",
    "    \n",
    "    print(\"before shuffle stats groups\")\n",
    "    print(clones.groupby(\"change\").size())\n",
    "    clones.loc[clones.index.isin(sig_shuffle_stats.index), \"shuffle_sig_max\"] = True\n",
    "    clones.loc[clones[\"shuffle_sig_max\"]==False, \"change\"] = \"no_change\"\n",
    "    #clones = clones[clones[\"shuffle_sig_max\"]==True]\n",
    "    print(\"after shuffle stats groups\")\n",
    "    print(clones.groupby(\"change\").size())\n",
    "out = clones[[\"p_adj\", \"sig\", \"change\", \"ID\", \"log2_fold\", \"negLog10_p_adj\"]+list(count_cols)].sort_values(\"p_adj\")\n"
   ]
  },
  {
   "cell_type": "code",
   "execution_count": 6,
   "id": "ba66f795",
   "metadata": {
    "scrolled": false
   },
   "outputs": [
    {
     "data": {
      "image/png": "[encoded data removed]",
      "text/plain": [
       "<Figure size 432x288 with 1 Axes>"
      ]
     },
     "metadata": {
      "needs_background": "light"
     },
     "output_type": "display_data"
    }
   ],
   "source": [
    "sns.histplot(clones[\"log2_fold\"])\n",
    "plt.savefig(join(outdir,\"log2_enrich.png\"))"
   ]
  },
  {
   "cell_type": "code",
   "execution_count": 7,
   "id": "1d702cb0",
   "metadata": {
    "scrolled": true
   },
   "outputs": [
    {
     "name": "stderr",
     "output_type": "stream",
     "text": [
      "/home/isaac/miniconda3/envs/mttrace/lib/python3.7/site-packages/seaborn/_decorators.py:43: FutureWarning: Pass the following variable as a keyword arg: x. From version 0.12, the only valid positional argument will be `data`, and passing other arguments without an explicit keyword will result in an error or misinterpretation.\n",
      "  FutureWarning\n"
     ]
    },
    {
     "data": {
      "image/png": "[encoded data removed]",
      "text/plain": [
       "<Figure size 432x288 with 1 Axes>"
      ]
     },
     "metadata": {
      "needs_background": "light"
     },
     "output_type": "display_data"
    }
   ],
   "source": [
    "import seaborn as sns\n",
    "import matplotlib.pyplot as plt\n",
    "sns.countplot(out[\"change\"])\n",
    "plt.yscale(\"log\")\n",
    "plt.savefig(join(outdir,\"expand_hist.png\"))"
   ]
  },
  {
   "cell_type": "code",
   "execution_count": 8,
   "id": "fb6c70c7",
   "metadata": {
    "scrolled": false
   },
   "outputs": [],
   "source": [
    "out.groupby(\"change\").size().to_csv(join(outdir, \"expand_counts.csv\"))"
   ]
  },
  {
   "cell_type": "code",
   "execution_count": 9,
   "id": "e06a8a91",
   "metadata": {},
   "outputs": [],
   "source": [
    "out.to_csv(join(outdir, \"clone_change.csv\"))"
   ]
  }
 ],
 "metadata": {
  "celltoolbar": "Tags",
  "kernelspec": {
   "display_name": "Python 3 (ipykernel)",
   "language": "python",
   "name": "python3"
  },
  "language_info": {
   "codemirror_mode": {
    "name": "ipython",
    "version": 3
   },
   "file_extension": ".py",
   "mimetype": "text/x-python",
   "name": "python",
   "nbconvert_exporter": "python",
   "pygments_lexer": "ipython3",
   "version": "3.7.12"
  }
 },
 "nbformat": 4,
 "nbformat_minor": 5
}
