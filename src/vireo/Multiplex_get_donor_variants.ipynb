{
 "cells": [
  {
   "cell_type": "markdown",
   "metadata": {
    "papermill": {
     "duration": 0.047745,
     "end_time": "2021-01-27T08:30:54.010679",
     "exception": false,
     "start_time": "2021-01-27T08:30:53.962934",
     "status": "completed"
    },
    "tags": []
   },
   "source": [
    "# Read in the AF-snps results and calculate donor variants"
   ]
  },
  {
   "cell_type": "markdown",
   "metadata": {},
   "source": [
    "## 1.1 Parameters"
   ]
  },
  {
   "cell_type": "code",
   "execution_count": 1,
   "metadata": {
    "ExecuteTime": {
     "end_time": "2021-06-04T00:01:29.413241Z",
     "start_time": "2021-06-04T00:01:29.410435Z"
    },
    "tags": [
     "parameters"
    ]
   },
   "outputs": [],
   "source": [
    "# cd34norm\n",
    "# af_mean_f = \"/data/Mito_Trace/output/pipeline/v04/cd34norm/MTblacklist/data/merged/MT/cellr_True/numread_200/filters/minC10_minR50_topN0_hetT0.001_hetC10_hetCount5_bq20/mgatk/vireoIn/multiplex/AF_SNPs.csv\"\n",
    "# outdir = \"/data/Mito_Trace/output/pipeline/v04/cd34norm/MTblacklist/data/merged/MT/cellr_True/numread_200/filters/minC10_minR50_topN0_hetT0.001_hetC10_hetCount5_bq20/mgatk/vireoIn/multiplex/\"\n",
    "\n",
    "# # chip_b1\n",
    "# af_mean_f = \"/data/Mito_Trace/output/pipeline/v04/CHIP_b1/MTBlacklist_A2/data/merged/MT/cellr_True/numread_200/filters/minC10_minR50_topN0_hetT0.001_hetC10_hetCount5_bq20/mgatk/vireoIn/multiplex/AF_SNPs.csv\"\n",
    "# outdir = \"/data/Mito_Trace/output/pipeline/v04/CHIP_b1/MTBlacklist_A2/data/merged/MT/cellr_True/numread_200/filters/minC10_minR50_topN0_hetT0.001_hetC10_hetCount5_bq20/mgatk/vireoIn/multiplex/\"\n",
    "\n",
    "# # chip_b2\n",
    "# af_mean_f = \"/data/Mito_Trace/output/pipeline/v04/CHIP_b2/InputOnly/MTBlacklist_A2/data/merged/MT/cellr_True/numread_200/filters/minC10_minR50_topN0_hetT0.001_hetC10_hetCount5_bq20/mgatk/vireoIn/multiplex/AF_SNPs.csv\"\n",
    "# outdir = \"/data/Mito_Trace/output/pipeline/v04/CHIP_b2/InputOnly/MTBlacklist_A2/data/merged/MT/cellr_True/numread_200/filters/minC10_minR50_topN0_hetT0.001_hetC10_hetCount5_bq20/mgatk/vireoIn/multiplex/\"\n",
    "\n",
    "# # chip_a1\n",
    "# af_mean_f = \"/data/Mito_Trace/output/pipeline/v04/CHIP_Input_nameFix_april08_2021/MTblacklist/data/merged/MT/cellr_True/numread_200/filters/minC10_minR50_topN0_hetT0.001_hetC10_hetCount5_bq20/mgatk/vireoIn/multiplex/AF_SNPs.csv\"\n",
    "# outdir = \"/data/Mito_Trace/output/pipeline/v04/CHIP_Input_nameFix_april08_2021/MTblacklist/data/merged/MT/cellr_True/numread_200/filters/minC10_minR50_topN0_hetT0.001_hetC10_hetCount5_bq20/mgatk/vireoIn/multiplex/\"\n",
    "af_mean_f = \"/data/Mito_Trace/output/pipeline/v04/CHIP_Input_nameFix_april08_2021/MTblacklist/data/merged/MT/cellr_True/numread_200/filters/minC10_minR50_topN0_hetT0.001_hetC10_hetCount5_bq20/mgatk/vireoIn/v01.sep2922.fiveDonors/multiplex/AF_SNPs.csv\"\n",
    "outdir = \"/data/Mito_Trace/output/pipeline/v04/CHIP_Input_nameFix_april08_2021/MTblacklist/data/merged/MT/cellr_True/numread_200/filters/minC10_minR50_topN0_hetT0.001_hetC10_hetCount5_bq20/mgatk/vireoIn/v01.sep2922.fiveDonors/multiplex/\"\n",
    "\n",
    "don_th=0.7\n",
    "oth_th=0.1"
   ]
  },
  {
   "cell_type": "markdown",
   "metadata": {},
   "source": [
    "## 1.2 Import packages"
   ]
  },
  {
   "cell_type": "code",
   "execution_count": 2,
   "metadata": {
    "ExecuteTime": {
     "end_time": "2021-06-04T00:01:31.155755Z",
     "start_time": "2021-06-04T00:01:29.427932Z"
    },
    "scrolled": false
   },
   "outputs": [
    {
     "name": "stdout",
     "output_type": "stream",
     "text": [
      "fig_utils from mplh\n"
     ]
    }
   ],
   "source": [
    "from os.path import join, exists, dirname\n",
    "import os\n",
    "from glob import glob\n",
    "import mplh.cluster_help as ch\n",
    "import numpy as np\n",
    "from scipy import sparse\n",
    "from scipy.io import mmread\n",
    "import matplotlib.pyplot as plt\n",
    "import pandas as pd\n",
    "import seaborn as sns\n",
    "%load_ext autoreload\n",
    "%autoreload 2\n",
    "\n",
    "np.set_printoptions(formatter={'float': lambda x: format(x, '.3f')})"
   ]
  },
  {
   "cell_type": "code",
   "execution_count": 3,
   "metadata": {
    "scrolled": false
   },
   "outputs": [
    {
     "data": {
      "text/html": [
       "<div>\n",
       "<style scoped>\n",
       "    .dataframe tbody tr th:only-of-type {\n",
       "        vertical-align: middle;\n",
       "    }\n",
       "\n",
       "    .dataframe tbody tr th {\n",
       "        vertical-align: top;\n",
       "    }\n",
       "\n",
       "    .dataframe thead th {\n",
       "        text-align: right;\n",
       "    }\n",
       "</style>\n",
       "<table border=\"1\" class=\"dataframe\">\n",
       "  <thead>\n",
       "    <tr style=\"text-align: right;\">\n",
       "      <th></th>\n",
       "      <th>Cluster 0</th>\n",
       "      <th>Cluster 1</th>\n",
       "      <th>Cluster 2</th>\n",
       "      <th>Cluster 3</th>\n",
       "      <th>Cluster 4</th>\n",
       "    </tr>\n",
       "  </thead>\n",
       "  <tbody>\n",
       "    <tr>\n",
       "      <th>0</th>\n",
       "      <td>0.001350</td>\n",
       "      <td>0.000797</td>\n",
       "      <td>0.001350</td>\n",
       "      <td>0.000797</td>\n",
       "      <td>0.000797</td>\n",
       "    </tr>\n",
       "    <tr>\n",
       "      <th>1</th>\n",
       "      <td>0.982756</td>\n",
       "      <td>0.982756</td>\n",
       "      <td>0.982756</td>\n",
       "      <td>0.020291</td>\n",
       "      <td>0.020291</td>\n",
       "    </tr>\n",
       "    <tr>\n",
       "      <th>2</th>\n",
       "      <td>0.000139</td>\n",
       "      <td>0.000417</td>\n",
       "      <td>0.000417</td>\n",
       "      <td>0.000139</td>\n",
       "      <td>0.000417</td>\n",
       "    </tr>\n",
       "    <tr>\n",
       "      <th>3</th>\n",
       "      <td>0.002320</td>\n",
       "      <td>0.000633</td>\n",
       "      <td>0.000633</td>\n",
       "      <td>0.000633</td>\n",
       "      <td>0.002320</td>\n",
       "    </tr>\n",
       "    <tr>\n",
       "      <th>4</th>\n",
       "      <td>0.007093</td>\n",
       "      <td>0.968360</td>\n",
       "      <td>0.007093</td>\n",
       "      <td>0.007093</td>\n",
       "      <td>0.007093</td>\n",
       "    </tr>\n",
       "    <tr>\n",
       "      <th>...</th>\n",
       "      <td>...</td>\n",
       "      <td>...</td>\n",
       "      <td>...</td>\n",
       "      <td>...</td>\n",
       "      <td>...</td>\n",
       "    </tr>\n",
       "    <tr>\n",
       "      <th>283</th>\n",
       "      <td>0.008582</td>\n",
       "      <td>0.000354</td>\n",
       "      <td>0.000354</td>\n",
       "      <td>0.000354</td>\n",
       "      <td>0.000354</td>\n",
       "    </tr>\n",
       "    <tr>\n",
       "      <th>284</th>\n",
       "      <td>0.000139</td>\n",
       "      <td>0.000139</td>\n",
       "      <td>0.000139</td>\n",
       "      <td>0.000139</td>\n",
       "      <td>0.001419</td>\n",
       "    </tr>\n",
       "    <tr>\n",
       "      <th>285</th>\n",
       "      <td>0.000044</td>\n",
       "      <td>0.000044</td>\n",
       "      <td>0.000446</td>\n",
       "      <td>0.000446</td>\n",
       "      <td>0.000446</td>\n",
       "    </tr>\n",
       "    <tr>\n",
       "      <th>286</th>\n",
       "      <td>0.000612</td>\n",
       "      <td>0.000612</td>\n",
       "      <td>0.000612</td>\n",
       "      <td>0.000612</td>\n",
       "      <td>0.000612</td>\n",
       "    </tr>\n",
       "    <tr>\n",
       "      <th>287</th>\n",
       "      <td>0.000161</td>\n",
       "      <td>0.000161</td>\n",
       "      <td>0.000161</td>\n",
       "      <td>0.000161</td>\n",
       "      <td>0.000161</td>\n",
       "    </tr>\n",
       "  </tbody>\n",
       "</table>\n",
       "<p>288 rows × 5 columns</p>\n",
       "</div>"
      ],
      "text/plain": [
       "     Cluster 0  Cluster 1  Cluster 2  Cluster 3  Cluster 4\n",
       "0     0.001350   0.000797   0.001350   0.000797   0.000797\n",
       "1     0.982756   0.982756   0.982756   0.020291   0.020291\n",
       "2     0.000139   0.000417   0.000417   0.000139   0.000417\n",
       "3     0.002320   0.000633   0.000633   0.000633   0.002320\n",
       "4     0.007093   0.968360   0.007093   0.007093   0.007093\n",
       "..         ...        ...        ...        ...        ...\n",
       "283   0.008582   0.000354   0.000354   0.000354   0.000354\n",
       "284   0.000139   0.000139   0.000139   0.000139   0.001419\n",
       "285   0.000044   0.000044   0.000446   0.000446   0.000446\n",
       "286   0.000612   0.000612   0.000612   0.000612   0.000612\n",
       "287   0.000161   0.000161   0.000161   0.000161   0.000161\n",
       "\n",
       "[288 rows x 5 columns]"
      ]
     },
     "execution_count": 3,
     "metadata": {},
     "output_type": "execute_result"
    }
   ],
   "source": [
    "af_mean = pd.read_csv(af_mean_f)\n",
    "af_mean"
   ]
  },
  {
   "cell_type": "markdown",
   "metadata": {},
   "source": [
    "## Calculate number of variants for each donor (>0.9, <0.2 in all others)"
   ]
  },
  {
   "cell_type": "code",
   "execution_count": 4,
   "metadata": {
    "scrolled": true
   },
   "outputs": [
    {
     "data": {
      "text/plain": [
       "Cluster 0    23\n",
       "Cluster 1    24\n",
       "Cluster 2    28\n",
       "Cluster 3     5\n",
       "Cluster 4     2\n",
       "dtype: int64"
      ]
     },
     "execution_count": 4,
     "metadata": {},
     "output_type": "execute_result"
    }
   ],
   "source": [
    "def is_don(col, df, don_th, oth_th):\n",
    "    return len(df.loc[(df[col]>=don_th) & ((df.drop(col, axis=1)<=oth_th).all(axis=1))].index)\n",
    "    \n",
    "n_don_vars = pd.Series([is_don(c, af_mean, don_th, oth_th) for c in af_mean.columns], index=af_mean.columns)\n",
    "n_don_vars.to_csv(join(outdir, \"n_donor_vars.csv\"))\n",
    "n_don_vars"
   ]
  },
  {
   "cell_type": "code",
   "execution_count": 5,
   "metadata": {
    "scrolled": true
   },
   "outputs": [
    {
     "data": {
      "image/png": "[encoded data removed]",
      "text/plain": [
       "<Figure size 720x720 with 4 Axes>"
      ]
     },
     "metadata": {
      "needs_background": "light"
     },
     "output_type": "display_data"
    }
   ],
   "source": [
    "sns.clustermap(af_mean.loc[~(af_mean<0.1).all(axis=1)], col_cluster=False, cmap=\"Blues\")\n",
    "plt.savefig(join(outdir, \"af_snps_mean.pdf\"))"
   ]
  },
  {
   "cell_type": "code",
   "execution_count": null,
   "metadata": {},
   "outputs": [],
   "source": []
  },
  {
   "cell_type": "markdown",
   "metadata": {},
   "source": [
    "## Save heterozygous too (0.45)"
   ]
  },
  {
   "cell_type": "code",
   "execution_count": 6,
   "metadata": {
    "scrolled": false
   },
   "outputs": [
    {
     "data": {
      "text/plain": [
       "Cluster 0    23\n",
       "Cluster 1    25\n",
       "Cluster 2    28\n",
       "Cluster 3     5\n",
       "Cluster 4     2\n",
       "dtype: int64"
      ]
     },
     "execution_count": 6,
     "metadata": {},
     "output_type": "execute_result"
    }
   ],
   "source": [
    "n_don_vars = pd.Series([is_don(c, af_mean, don_th=0.45, oth_th=oth_th) for c in af_mean.columns], index=af_mean.columns)\n",
    "n_don_vars.to_csv(join(outdir, \"n_donor_vars_Het0.45.csv\"))\n",
    "n_don_vars"
   ]
  }
 ],
 "metadata": {
  "celltoolbar": "Tags",
  "kernelspec": {
   "display_name": "Python 3 (ipykernel)",
   "language": "python",
   "name": "python3"
  },
  "language_info": {
   "codemirror_mode": {
    "name": "ipython",
    "version": 3
   },
   "file_extension": ".py",
   "mimetype": "text/x-python",
   "name": "python",
   "nbconvert_exporter": "python",
   "pygments_lexer": "ipython3",
   "version": "3.7.12"
  },
  "papermill": {
   "default_parameters": {},
   "duration": 5560.364131,
   "end_time": "2021-01-27T10:03:31.625455",
   "environment_variables": {},
   "exception": null,
   "input_path": "/data2/mito_lineage/src/vireo/vireoSNP_clones.ipynb",
   "output_path": "results/jan21_2021/chrM/P2_cellSNP_minC200_minAF0.01/lineage_chrM.ipynb",
   "parameters": {
    "AD_F": "data/jan21_2021/chrM/P2_cellSNP_minC200_minAF0.01/cellSNP.tag.AD.mtx",
    "DP_F": "data/jan21_2021/chrM/P2_cellSNP_minC200_minAF0.01/cellSNP.tag.DP.mtx"
   },
   "start_time": "2021-01-27T08:30:51.261324",
   "version": "2.2.0"
  }
 },
 "nbformat": 4,
 "nbformat_minor": 4
}
