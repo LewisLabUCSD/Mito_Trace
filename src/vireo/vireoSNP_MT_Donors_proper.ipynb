{
 "cells": [
  {
   "cell_type": "code",
   "execution_count": 1,
   "metadata": {
    "ExecuteTime": {
     "end_time": "2021-01-18T18:04:05.484723Z",
     "start_time": "2021-01-18T18:04:05.475484Z"
    },
    "execution": {
     "iopub.execute_input": "2021-01-14T01:24:24.666432Z",
     "iopub.status.busy": "2021-01-14T01:24:24.665782Z",
     "iopub.status.idle": "2021-01-14T01:24:24.668641Z",
     "shell.execute_reply": "2021-01-14T01:24:24.669144Z"
    },
    "papermill": {
     "duration": 0.078751,
     "end_time": "2021-01-14T01:24:24.669335",
     "exception": false,
     "start_time": "2021-01-14T01:24:24.590584",
     "status": "completed"
    },
    "scrolled": false,
    "tags": []
   },
   "outputs": [
    {
     "data": {
      "text/plain": [
       "'/data2/mito_lineage/Analysis/multiplex/data/chrM/pseudo/minC20_minAF0.01/numC2000_ispropFalse'"
      ]
     },
     "execution_count": 1,
     "metadata": {},
     "output_type": "execute_result"
    }
   ],
   "source": [
    "pwd"
   ]
  },
  {
   "cell_type": "code",
   "execution_count": 2,
   "metadata": {
    "ExecuteTime": {
     "end_time": "2021-01-18T18:04:05.493424Z",
     "start_time": "2021-01-18T18:04:05.486689Z"
    },
    "execution": {
     "iopub.execute_input": "2021-01-14T01:24:24.757424Z",
     "iopub.status.busy": "2021-01-14T01:24:24.756759Z",
     "iopub.status.idle": "2021-01-14T01:24:24.758904Z",
     "shell.execute_reply": "2021-01-14T01:24:24.759393Z"
    },
    "papermill": {
     "duration": 0.04764,
     "end_time": "2021-01-14T01:24:24.759542",
     "exception": false,
     "start_time": "2021-01-14T01:24:24.711902",
     "status": "completed"
    },
    "tags": [
     "parameters"
    ]
   },
   "outputs": [],
   "source": [
    "# AD_F = \"\"#\"cellSNP.tag.AD.mtx\"\n",
    "# DP_F = \"\"#\"cellSNP.tag.DP.mtx\"\n",
    "# VCF_F = \"\"#\"cellSNP.base.vcf\"\n",
    "NUM_DONORS=2\n",
    "prob_threshold=0.8\n",
    "INDIR = \"\""
   ]
  },
  {
   "cell_type": "code",
   "execution_count": 4,
   "metadata": {
    "ExecuteTime": {
     "end_time": "2021-01-18T18:04:06.367544Z",
     "start_time": "2021-01-18T18:04:05.505063Z"
    },
    "execution": {
     "iopub.execute_input": "2021-01-14T01:24:24.936060Z",
     "iopub.status.busy": "2021-01-14T01:24:24.935424Z",
     "iopub.status.idle": "2021-01-14T01:24:25.841876Z",
     "shell.execute_reply": "2021-01-14T01:24:25.842383Z"
    },
    "papermill": {
     "duration": 0.951815,
     "end_time": "2021-01-14T01:24:25.842573",
     "exception": false,
     "start_time": "2021-01-14T01:24:24.890758",
     "status": "completed"
    },
    "tags": []
   },
   "outputs": [],
   "source": [
    "import os\n",
    "import pandas as pd\n",
    "import seaborn as sns\n",
    "from glob import glob\n",
    "from scipy import stats\n",
    "from os.path import join, dirname, basename\n",
    "import numpy as np"
   ]
  },
  {
   "cell_type": "code",
   "execution_count": 5,
   "metadata": {
    "ExecuteTime": {
     "end_time": "2021-01-18T18:04:06.374062Z",
     "start_time": "2021-01-18T18:04:06.369558Z"
    }
   },
   "outputs": [
    {
     "name": "stdout",
     "output_type": "stream",
     "text": [
      "data/chrM/pseudo/minC20_minAF0.01/numC2000_ispropFalse does not exist.\n"
     ]
    }
   ],
   "source": [
    "if not os.path.exists(INDIR):\n",
    "    print(f\"{INDIR} does not exist.\")\n",
    "\n",
    "os.chdir(INDIR)"
   ]
  },
  {
   "cell_type": "code",
   "execution_count": 6,
   "metadata": {
    "ExecuteTime": {
     "end_time": "2021-01-18T18:04:06.381946Z",
     "start_time": "2021-01-18T18:04:06.375782Z"
    },
    "execution": {
     "iopub.execute_input": "2021-01-14T01:24:25.931185Z",
     "iopub.status.busy": "2021-01-14T01:24:25.930514Z",
     "iopub.status.idle": "2021-01-14T01:24:25.933122Z",
     "shell.execute_reply": "2021-01-14T01:24:25.933611Z"
    },
    "papermill": {
     "duration": 0.048941,
     "end_time": "2021-01-14T01:24:25.933758",
     "exception": false,
     "start_time": "2021-01-14T01:24:25.884817",
     "status": "completed"
    },
    "tags": []
   },
   "outputs": [],
   "source": [
    "AD_F = \"cellSNP.tag.AD.mtx\"\n",
    "DP_F = \"cellSNP.tag.DP.mtx\"\n",
    "VCF_F = \"cellSNP.base.vcf\""
   ]
  },
  {
   "cell_type": "code",
   "execution_count": 8,
   "metadata": {
    "ExecuteTime": {
     "end_time": "2021-01-18T18:04:06.408013Z",
     "start_time": "2021-01-18T18:04:06.393477Z"
    },
    "execution": {
     "iopub.execute_input": "2021-01-14T01:24:26.111172Z",
     "iopub.status.busy": "2021-01-14T01:24:26.110525Z",
     "iopub.status.idle": "2021-01-14T01:24:26.113329Z",
     "shell.execute_reply": "2021-01-14T01:24:26.113812Z"
    },
    "papermill": {
     "duration": 0.048733,
     "end_time": "2021-01-14T01:24:26.113947",
     "exception": false,
     "start_time": "2021-01-14T01:24:26.065214",
     "status": "completed"
    },
    "tags": []
   },
   "outputs": [],
   "source": [
    "if not os.path.exists(VCF_F):\n",
    "    if not os.path.exists(VCF_F+\".gz\"):\n",
    "        print(\"VCF file not here!\")\n",
    "    else:\n",
    "        VCF_F = VCF_F + \".gz\""
   ]
  },
  {
   "cell_type": "code",
   "execution_count": 9,
   "metadata": {
    "ExecuteTime": {
     "end_time": "2021-01-18T18:04:06.417915Z",
     "start_time": "2021-01-18T18:04:06.409631Z"
    },
    "execution": {
     "iopub.execute_input": "2021-01-14T01:24:26.200922Z",
     "iopub.status.busy": "2021-01-14T01:24:26.200289Z",
     "iopub.status.idle": "2021-01-14T01:24:26.204249Z",
     "shell.execute_reply": "2021-01-14T01:24:26.204750Z"
    },
    "papermill": {
     "duration": 0.049161,
     "end_time": "2021-01-14T01:24:26.204900",
     "exception": false,
     "start_time": "2021-01-14T01:24:26.155739",
     "status": "completed"
    },
    "tags": []
   },
   "outputs": [
    {
     "name": "stdout",
     "output_type": "stream",
     "text": [
      "cellSNP.tag.AD.mtx\n",
      "cellSNP.tag.DP.mtx\n",
      "cellSNP.base.vcf\n"
     ]
    }
   ],
   "source": [
    "print(AD_F)\n",
    "print(DP_F)\n",
    "print(VCF_F)"
   ]
  },
  {
   "cell_type": "code",
   "execution_count": 10,
   "metadata": {
    "ExecuteTime": {
     "end_time": "2021-01-18T18:04:06.427248Z",
     "start_time": "2021-01-18T18:04:06.419532Z"
    },
    "execution": {
     "iopub.execute_input": "2021-01-14T01:24:26.292920Z",
     "iopub.status.busy": "2021-01-14T01:24:26.292307Z",
     "iopub.status.idle": "2021-01-14T01:24:26.294821Z",
     "shell.execute_reply": "2021-01-14T01:24:26.295348Z"
    },
    "papermill": {
     "duration": 0.047218,
     "end_time": "2021-01-14T01:24:26.295488",
     "exception": false,
     "start_time": "2021-01-14T01:24:26.248270",
     "status": "completed"
    },
    "tags": []
   },
   "outputs": [],
   "source": [
    "OUTDIR='./results/'"
   ]
  },
  {
   "cell_type": "code",
   "execution_count": 11,
   "metadata": {
    "ExecuteTime": {
     "end_time": "2021-01-18T18:04:06.436414Z",
     "start_time": "2021-01-18T18:04:06.428895Z"
    },
    "execution": {
     "iopub.execute_input": "2021-01-14T01:24:26.384074Z",
     "iopub.status.busy": "2021-01-14T01:24:26.383463Z",
     "iopub.status.idle": "2021-01-14T01:24:26.385987Z",
     "shell.execute_reply": "2021-01-14T01:24:26.386473Z"
    },
    "papermill": {
     "duration": 0.048259,
     "end_time": "2021-01-14T01:24:26.386617",
     "exception": false,
     "start_time": "2021-01-14T01:24:26.338358",
     "status": "completed"
    },
    "tags": []
   },
   "outputs": [],
   "source": [
    "#indirs = (\"data/PBMC_J_cellSNP\", \"data/PBMC_P_cellSNP\")"
   ]
  },
  {
   "cell_type": "code",
   "execution_count": 12,
   "metadata": {
    "ExecuteTime": {
     "end_time": "2021-01-18T18:04:06.445929Z",
     "start_time": "2021-01-18T18:04:06.438054Z"
    },
    "execution": {
     "iopub.execute_input": "2021-01-14T01:24:26.476953Z",
     "iopub.status.busy": "2021-01-14T01:24:26.476262Z",
     "iopub.status.idle": "2021-01-14T01:24:26.481201Z",
     "shell.execute_reply": "2021-01-14T01:24:26.481718Z"
    },
    "papermill": {
     "duration": 0.051841,
     "end_time": "2021-01-14T01:24:26.481877",
     "exception": false,
     "start_time": "2021-01-14T01:24:26.430036",
     "status": "completed"
    },
    "tags": []
   },
   "outputs": [],
   "source": [
    "if not os.path.exists(OUTDIR):\n",
    "    os.mkdir(OUTDIR)"
   ]
  },
  {
   "cell_type": "code",
   "execution_count": 13,
   "metadata": {
    "ExecuteTime": {
     "end_time": "2021-01-18T18:04:06.463232Z",
     "start_time": "2021-01-18T18:04:06.447668Z"
    },
    "execution": {
     "iopub.execute_input": "2021-01-14T01:24:26.573819Z",
     "iopub.status.busy": "2021-01-14T01:24:26.573153Z",
     "iopub.status.idle": "2021-01-14T01:24:26.586149Z",
     "shell.execute_reply": "2021-01-14T01:24:26.586622Z"
    },
    "papermill": {
     "duration": 0.063058,
     "end_time": "2021-01-14T01:24:26.586792",
     "exception": false,
     "start_time": "2021-01-14T01:24:26.523734",
     "status": "completed"
    },
    "scrolled": true,
    "tags": []
   },
   "outputs": [
    {
     "name": "stdout",
     "output_type": "stream",
     "text": [
      "cell inds ['cell_indices_0.txt', 'cell_indices_1.txt']\n",
      "cell_indices_0.txt\n",
      "cell_indices_1.txt\n"
     ]
    }
   ],
   "source": [
    "\n",
    "in_cell_f = glob(\"cell_indices_*.txt\")\n",
    "print('cell inds', in_cell_f)\n",
    "in_cell_names = []\n",
    "cell_map = {}\n",
    "for curr_cell_f in in_cell_f:\n",
    "    print(curr_cell_f)\n",
    "    with open(curr_cell_f, \"r\") as f:\n",
    "        count = 0\n",
    "        lines = []\n",
    "        for line in f: \n",
    "            if count == 0:\n",
    "                curr_f = line.strip()\n",
    "            else:\n",
    "                lines.append(line.strip().split(','))\n",
    "            count += 1\n",
    "    curr_df = pd.DataFrame(lines[1:], columns=lines[0])\n",
    "    cell_map[curr_f] = curr_df[\"new index\"].astype(int).values\n",
    "    in_cell_names.append(curr_f)"
   ]
  },
  {
   "cell_type": "code",
   "execution_count": 14,
   "metadata": {
    "ExecuteTime": {
     "end_time": "2021-01-18T18:04:06.471102Z",
     "start_time": "2021-01-18T18:04:06.465398Z"
    },
    "execution": {
     "iopub.execute_input": "2021-01-14T01:24:26.678329Z",
     "iopub.status.busy": "2021-01-14T01:24:26.677698Z",
     "iopub.status.idle": "2021-01-14T01:24:26.681773Z",
     "shell.execute_reply": "2021-01-14T01:24:26.682245Z"
    },
    "papermill": {
     "duration": 0.05437,
     "end_time": "2021-01-14T01:24:26.682386",
     "exception": false,
     "start_time": "2021-01-14T01:24:26.628016",
     "status": "completed"
    },
    "scrolled": true,
    "tags": []
   },
   "outputs": [
    {
     "data": {
      "text/plain": [
       "array([ 744,  745,  746,  747,  748,  749,  750,  751,  752,  753,  754,\n",
       "        755,  756,  757,  758,  759,  760,  761,  762,  763,  764,  765,\n",
       "        766,  767,  768,  769,  770,  771,  772,  773,  774,  775,  776,\n",
       "        777,  778,  779,  780,  781,  782,  783,  784,  785,  786,  787,\n",
       "        788,  789,  790,  791,  792,  793,  794,  795,  796,  797,  798,\n",
       "        799,  800,  801,  802,  803,  804,  805,  806,  807,  808,  809,\n",
       "        810,  811,  812,  813,  814,  815,  816,  817,  818,  819,  820,\n",
       "        821,  822,  823,  824,  825,  826,  827,  828,  829,  830,  831,\n",
       "        832,  833,  834,  835,  836,  837,  838,  839,  840,  841,  842,\n",
       "        843,  844,  845,  846,  847,  848,  849,  850,  851,  852,  853,\n",
       "        854,  855,  856,  857,  858,  859,  860,  861,  862,  863,  864,\n",
       "        865,  866,  867,  868,  869,  870,  871,  872,  873,  874,  875,\n",
       "        876,  877,  878,  879,  880,  881,  882,  883,  884,  885,  886,\n",
       "        887,  888,  889,  890,  891,  892,  893,  894,  895,  896,  897,\n",
       "        898,  899,  900,  901,  902,  903,  904,  905,  906,  907,  908,\n",
       "        909,  910,  911,  912,  913,  914,  915,  916,  917,  918,  919,\n",
       "        920,  921,  922,  923,  924,  925,  926,  927,  928,  929,  930,\n",
       "        931,  932,  933,  934,  935,  936,  937,  938,  939,  940,  941,\n",
       "        942,  943,  944,  945,  946,  947,  948,  949,  950,  951,  952,\n",
       "        953,  954,  955,  956,  957,  958,  959,  960,  961,  962,  963,\n",
       "        964,  965,  966,  967,  968,  969,  970,  971,  972,  973,  974,\n",
       "        975,  976,  977,  978,  979,  980,  981,  982,  983,  984,  985,\n",
       "        986,  987,  988,  989,  990,  991,  992,  993,  994,  995,  996,\n",
       "        997,  998,  999, 1000, 1001, 1002, 1003, 1004, 1005, 1006, 1007,\n",
       "       1008, 1009, 1010, 1011, 1012, 1013, 1014, 1015, 1016, 1017, 1018,\n",
       "       1019, 1020, 1021, 1022, 1023, 1024, 1025, 1026, 1027, 1028, 1029,\n",
       "       1030, 1031, 1032, 1033, 1034, 1035, 1036, 1037, 1038, 1039, 1040,\n",
       "       1041, 1042, 1043, 1044, 1045, 1046, 1047, 1048, 1049, 1050, 1051,\n",
       "       1052, 1053, 1054, 1055, 1056, 1057, 1058, 1059, 1060, 1061, 1062,\n",
       "       1063, 1064, 1065, 1066, 1067, 1068, 1069, 1070, 1071, 1072, 1073,\n",
       "       1074, 1075, 1076, 1077, 1078, 1079, 1080, 1081, 1082, 1083, 1084,\n",
       "       1085, 1086, 1087, 1088, 1089, 1090, 1091, 1092, 1093, 1094, 1095,\n",
       "       1096, 1097, 1098, 1099, 1100, 1101, 1102, 1103, 1104, 1105, 1106,\n",
       "       1107, 1108, 1109, 1110, 1111, 1112, 1113, 1114, 1115, 1116, 1117,\n",
       "       1118, 1119, 1120, 1121, 1122, 1123, 1124, 1125, 1126, 1127, 1128,\n",
       "       1129, 1130, 1131, 1132, 1133, 1134, 1135, 1136, 1137, 1138, 1139,\n",
       "       1140, 1141, 1142, 1143, 1144, 1145, 1146, 1147, 1148, 1149, 1150,\n",
       "       1151, 1152, 1153, 1154, 1155, 1156, 1157, 1158, 1159, 1160, 1161,\n",
       "       1162, 1163, 1164, 1165, 1166, 1167, 1168, 1169, 1170, 1171, 1172,\n",
       "       1173, 1174, 1175, 1176, 1177, 1178, 1179, 1180, 1181, 1182, 1183,\n",
       "       1184, 1185, 1186, 1187, 1188, 1189, 1190, 1191, 1192, 1193, 1194,\n",
       "       1195, 1196, 1197, 1198, 1199, 1200, 1201, 1202, 1203, 1204, 1205,\n",
       "       1206, 1207, 1208, 1209, 1210, 1211, 1212, 1213, 1214, 1215, 1216,\n",
       "       1217, 1218, 1219, 1220, 1221, 1222, 1223, 1224, 1225, 1226, 1227,\n",
       "       1228, 1229, 1230, 1231, 1232, 1233, 1234, 1235, 1236, 1237, 1238,\n",
       "       1239, 1240, 1241, 1242, 1243, 1244, 1245, 1246, 1247, 1248, 1249,\n",
       "       1250, 1251, 1252, 1253, 1254, 1255, 1256, 1257, 1258, 1259, 1260,\n",
       "       1261, 1262, 1263, 1264, 1265, 1266, 1267, 1268, 1269, 1270, 1271,\n",
       "       1272, 1273, 1274, 1275, 1276, 1277, 1278, 1279, 1280, 1281, 1282,\n",
       "       1283, 1284, 1285, 1286, 1287, 1288, 1289, 1290, 1291, 1292, 1293,\n",
       "       1294, 1295, 1296, 1297, 1298, 1299, 1300, 1301, 1302, 1303, 1304,\n",
       "       1305, 1306, 1307, 1308, 1309, 1310, 1311, 1312, 1313, 1314, 1315,\n",
       "       1316, 1317, 1318, 1319, 1320, 1321, 1322, 1323, 1324, 1325, 1326,\n",
       "       1327, 1328, 1329, 1330, 1331, 1332, 1333, 1334, 1335, 1336, 1337,\n",
       "       1338, 1339, 1340, 1341, 1342, 1343, 1344, 1345, 1346, 1347, 1348,\n",
       "       1349, 1350, 1351, 1352, 1353, 1354, 1355, 1356, 1357, 1358, 1359,\n",
       "       1360, 1361, 1362, 1363, 1364, 1365, 1366, 1367, 1368, 1369, 1370,\n",
       "       1371, 1372, 1373, 1374, 1375, 1376, 1377, 1378, 1379, 1380, 1381,\n",
       "       1382, 1383, 1384, 1385, 1386, 1387, 1388, 1389, 1390, 1391, 1392,\n",
       "       1393, 1394, 1395, 1396, 1397, 1398, 1399, 1400, 1401, 1402, 1403,\n",
       "       1404, 1405, 1406])"
      ]
     },
     "execution_count": 14,
     "metadata": {},
     "output_type": "execute_result"
    }
   ],
   "source": [
    "cell_map[curr_f]"
   ]
  },
  {
   "cell_type": "code",
   "execution_count": 15,
   "metadata": {
    "ExecuteTime": {
     "end_time": "2021-01-18T18:04:06.482127Z",
     "start_time": "2021-01-18T18:04:06.472921Z"
    },
    "execution": {
     "iopub.execute_input": "2021-01-14T01:24:26.779078Z",
     "iopub.status.busy": "2021-01-14T01:24:26.778402Z",
     "iopub.status.idle": "2021-01-14T01:24:26.781651Z",
     "shell.execute_reply": "2021-01-14T01:24:26.782202Z"
    },
    "papermill": {
     "duration": 0.056339,
     "end_time": "2021-01-14T01:24:26.782399",
     "exception": false,
     "start_time": "2021-01-14T01:24:26.726060",
     "status": "completed"
    },
    "scrolled": true,
    "tags": []
   },
   "outputs": [
    {
     "data": {
      "text/plain": [
       "['data/chrM/PBMC_J_cellSNP_minC20_minAF0.01',\n",
       " 'data/chrM/PBMC_P_cellSNP_minC20_minAF0.01']"
      ]
     },
     "execution_count": 15,
     "metadata": {},
     "output_type": "execute_result"
    }
   ],
   "source": [
    "in_cell_names"
   ]
  },
  {
   "cell_type": "markdown",
   "metadata": {
    "papermill": {
     "duration": 0.044148,
     "end_time": "2021-01-14T01:24:26.872667",
     "exception": false,
     "start_time": "2021-01-14T01:24:26.828519",
     "status": "completed"
    },
    "tags": []
   },
   "source": [
    "# Examples of using vireoSNP for donor deconvolution"
   ]
  },
  {
   "cell_type": "code",
   "execution_count": 16,
   "metadata": {
    "ExecuteTime": {
     "end_time": "2021-01-18T18:04:06.501729Z",
     "start_time": "2021-01-18T18:04:06.484706Z"
    },
    "execution": {
     "iopub.execute_input": "2021-01-14T01:24:26.963723Z",
     "iopub.status.busy": "2021-01-14T01:24:26.963122Z",
     "iopub.status.idle": "2021-01-14T01:24:26.975330Z",
     "shell.execute_reply": "2021-01-14T01:24:26.975820Z"
    },
    "papermill": {
     "duration": 0.059425,
     "end_time": "2021-01-14T01:24:26.975965",
     "exception": false,
     "start_time": "2021-01-14T01:24:26.916540",
     "status": "completed"
    },
    "tags": []
   },
   "outputs": [],
   "source": [
    "import vireoSNP\n",
    "from vireoSNP import Vireo\n",
    "\n",
    "import numpy as np\n",
    "from scipy import sparse\n",
    "from scipy.io import mmread"
   ]
  },
  {
   "cell_type": "markdown",
   "metadata": {
    "papermill": {
     "duration": 0.042739,
     "end_time": "2021-01-14T01:24:27.062220",
     "exception": false,
     "start_time": "2021-01-14T01:24:27.019481",
     "status": "completed"
    },
    "tags": []
   },
   "source": [
    "## Load cellSNP data "
   ]
  },
  {
   "cell_type": "markdown",
   "metadata": {
    "papermill": {
     "duration": 0.042796,
     "end_time": "2021-01-14T01:24:27.147881",
     "exception": false,
     "start_time": "2021-01-14T01:24:27.105085",
     "status": "completed"
    },
    "tags": []
   },
   "source": [
    "##### Option 1 - VCF format"
   ]
  },
  {
   "cell_type": "code",
   "execution_count": 17,
   "metadata": {
    "ExecuteTime": {
     "end_time": "2021-01-18T18:04:06.505964Z",
     "start_time": "2021-01-18T18:04:06.503661Z"
    },
    "execution": {
     "iopub.execute_input": "2021-01-14T01:24:27.238083Z",
     "iopub.status.busy": "2021-01-14T01:24:27.237483Z",
     "iopub.status.idle": "2021-01-14T01:24:27.239924Z",
     "shell.execute_reply": "2021-01-14T01:24:27.240437Z"
    },
    "papermill": {
     "duration": 0.049164,
     "end_time": "2021-01-14T01:24:27.240571",
     "exception": false,
     "start_time": "2021-01-14T01:24:27.191407",
     "status": "completed"
    },
    "scrolled": true,
    "tags": []
   },
   "outputs": [],
   "source": [
    "# cell_vcf = vireoSNP.load_VCF(VCF_F, biallelic_only=True)\n",
    "# cell_dat = vireoSNP.vcf.read_sparse_GeneINFO(cell_vcf['GenoINFO'], keys=['AD', 'DP'])\n",
    "\n",
    "# AD = cell_dat['AD']\n",
    "# DP = cell_dat['DP']"
   ]
  },
  {
   "cell_type": "markdown",
   "metadata": {
    "papermill": {
     "duration": 0.044486,
     "end_time": "2021-01-14T01:24:27.329495",
     "exception": false,
     "start_time": "2021-01-14T01:24:27.285009",
     "status": "completed"
    },
    "tags": []
   },
   "source": [
    "##### Option 2 - sparse matrices"
   ]
  },
  {
   "cell_type": "code",
   "execution_count": 18,
   "metadata": {
    "ExecuteTime": {
     "end_time": "2021-01-18T18:04:06.950032Z",
     "start_time": "2021-01-18T18:04:06.507822Z"
    },
    "execution": {
     "iopub.execute_input": "2021-01-14T01:24:27.421139Z",
     "iopub.status.busy": "2021-01-14T01:24:27.420417Z",
     "iopub.status.idle": "2021-01-14T01:24:27.885345Z",
     "shell.execute_reply": "2021-01-14T01:24:27.885803Z"
    },
    "papermill": {
     "duration": 0.513176,
     "end_time": "2021-01-14T01:24:27.885946",
     "exception": false,
     "start_time": "2021-01-14T01:24:27.372770",
     "status": "completed"
    },
    "scrolled": true,
    "tags": []
   },
   "outputs": [],
   "source": [
    "AD = mmread(AD_F).tocsc()\n",
    "AD_shape = AD.todense().shape\n",
    "DP = mmread(DP_F).tocsc()\n",
    "vcf = pd.read_csv(VCF_F, sep='\\t')"
   ]
  },
  {
   "cell_type": "code",
   "execution_count": 19,
   "metadata": {
    "ExecuteTime": {
     "end_time": "2021-01-18T18:04:06.970232Z",
     "start_time": "2021-01-18T18:04:06.952071Z"
    },
    "execution": {
     "iopub.execute_input": "2021-01-14T01:24:27.991199Z",
     "iopub.status.busy": "2021-01-14T01:24:27.983887Z",
     "iopub.status.idle": "2021-01-14T01:24:27.995523Z",
     "shell.execute_reply": "2021-01-14T01:24:27.994887Z"
    },
    "papermill": {
     "duration": 0.065623,
     "end_time": "2021-01-14T01:24:27.995642",
     "exception": false,
     "start_time": "2021-01-14T01:24:27.930019",
     "status": "completed"
    },
    "tags": []
   },
   "outputs": [
    {
     "data": {
      "text/html": [
       "<div>\n",
       "<style scoped>\n",
       "    .dataframe tbody tr th:only-of-type {\n",
       "        vertical-align: middle;\n",
       "    }\n",
       "\n",
       "    .dataframe tbody tr th {\n",
       "        vertical-align: top;\n",
       "    }\n",
       "\n",
       "    .dataframe thead th {\n",
       "        text-align: right;\n",
       "    }\n",
       "</style>\n",
       "<table border=\"1\" class=\"dataframe\">\n",
       "  <thead>\n",
       "    <tr style=\"text-align: right;\">\n",
       "      <th></th>\n",
       "      <th>#CHROM</th>\n",
       "      <th>POS</th>\n",
       "      <th>ID_x</th>\n",
       "      <th>REF_x</th>\n",
       "      <th>ALT</th>\n",
       "      <th>QUAL_x</th>\n",
       "      <th>FILTER_x</th>\n",
       "      <th>INFO_x</th>\n",
       "      <th>old data/chrM/PBMC_J_cellSNP_minC20_minAF0.01</th>\n",
       "      <th>ID_y</th>\n",
       "      <th>REF_y</th>\n",
       "      <th>QUAL_y</th>\n",
       "      <th>FILTER_y</th>\n",
       "      <th>INFO_y</th>\n",
       "      <th>old data/chrM/PBMC_P_cellSNP_minC20_minAF0.01</th>\n",
       "      <th>new ID</th>\n",
       "    </tr>\n",
       "  </thead>\n",
       "  <tbody>\n",
       "    <tr>\n",
       "      <th>0</th>\n",
       "      <td>chrM</td>\n",
       "      <td>297</td>\n",
       "      <td>.</td>\n",
       "      <td>A</td>\n",
       "      <td>C</td>\n",
       "      <td>.</td>\n",
       "      <td>PASS</td>\n",
       "      <td>AD=1999;DP=131616;OTH=497</td>\n",
       "      <td>1.0</td>\n",
       "      <td>NaN</td>\n",
       "      <td>NaN</td>\n",
       "      <td>NaN</td>\n",
       "      <td>NaN</td>\n",
       "      <td>NaN</td>\n",
       "      <td>NaN</td>\n",
       "      <td>1</td>\n",
       "    </tr>\n",
       "    <tr>\n",
       "      <th>1</th>\n",
       "      <td>chrM</td>\n",
       "      <td>300</td>\n",
       "      <td>.</td>\n",
       "      <td>A</td>\n",
       "      <td>C</td>\n",
       "      <td>.</td>\n",
       "      <td>PASS</td>\n",
       "      <td>AD=4336;DP=123361;OTH=353</td>\n",
       "      <td>2.0</td>\n",
       "      <td>.</td>\n",
       "      <td>A</td>\n",
       "      <td>.</td>\n",
       "      <td>PASS</td>\n",
       "      <td>AD=6667;DP=298868;OTH=1024</td>\n",
       "      <td>1.0</td>\n",
       "      <td>2</td>\n",
       "    </tr>\n",
       "    <tr>\n",
       "      <th>2</th>\n",
       "      <td>chrM</td>\n",
       "      <td>301</td>\n",
       "      <td>.</td>\n",
       "      <td>A</td>\n",
       "      <td>C</td>\n",
       "      <td>.</td>\n",
       "      <td>PASS</td>\n",
       "      <td>AD=1275;DP=116676;OTH=1179</td>\n",
       "      <td>3.0</td>\n",
       "      <td>NaN</td>\n",
       "      <td>NaN</td>\n",
       "      <td>NaN</td>\n",
       "      <td>NaN</td>\n",
       "      <td>NaN</td>\n",
       "      <td>NaN</td>\n",
       "      <td>3</td>\n",
       "    </tr>\n",
       "    <tr>\n",
       "      <th>3</th>\n",
       "      <td>chrM</td>\n",
       "      <td>302</td>\n",
       "      <td>.</td>\n",
       "      <td>A</td>\n",
       "      <td>G</td>\n",
       "      <td>.</td>\n",
       "      <td>PASS</td>\n",
       "      <td>AD=3326;DP=111520;OTH=2183</td>\n",
       "      <td>4.0</td>\n",
       "      <td>.</td>\n",
       "      <td>A</td>\n",
       "      <td>.</td>\n",
       "      <td>PASS</td>\n",
       "      <td>AD=13460;DP=267646;OTH=7457</td>\n",
       "      <td>2.0</td>\n",
       "      <td>4</td>\n",
       "    </tr>\n",
       "    <tr>\n",
       "      <th>4</th>\n",
       "      <td>chrM</td>\n",
       "      <td>304</td>\n",
       "      <td>.</td>\n",
       "      <td>C</td>\n",
       "      <td>G</td>\n",
       "      <td>.</td>\n",
       "      <td>PASS</td>\n",
       "      <td>AD=1486;DP=111198;OTH=255</td>\n",
       "      <td>5.0</td>\n",
       "      <td>NaN</td>\n",
       "      <td>NaN</td>\n",
       "      <td>NaN</td>\n",
       "      <td>NaN</td>\n",
       "      <td>NaN</td>\n",
       "      <td>NaN</td>\n",
       "      <td>5</td>\n",
       "    </tr>\n",
       "  </tbody>\n",
       "</table>\n",
       "</div>"
      ],
      "text/plain": [
       "  #CHROM  POS ID_x REF_x ALT QUAL_x FILTER_x                      INFO_x  \\\n",
       "0   chrM  297    .     A   C      .     PASS   AD=1999;DP=131616;OTH=497   \n",
       "1   chrM  300    .     A   C      .     PASS   AD=4336;DP=123361;OTH=353   \n",
       "2   chrM  301    .     A   C      .     PASS  AD=1275;DP=116676;OTH=1179   \n",
       "3   chrM  302    .     A   G      .     PASS  AD=3326;DP=111520;OTH=2183   \n",
       "4   chrM  304    .     C   G      .     PASS   AD=1486;DP=111198;OTH=255   \n",
       "\n",
       "   old data/chrM/PBMC_J_cellSNP_minC20_minAF0.01 ID_y REF_y QUAL_y FILTER_y  \\\n",
       "0                                            1.0  NaN   NaN    NaN      NaN   \n",
       "1                                            2.0    .     A      .     PASS   \n",
       "2                                            3.0  NaN   NaN    NaN      NaN   \n",
       "3                                            4.0    .     A      .     PASS   \n",
       "4                                            5.0  NaN   NaN    NaN      NaN   \n",
       "\n",
       "                        INFO_y  old data/chrM/PBMC_P_cellSNP_minC20_minAF0.01  \\\n",
       "0                          NaN                                            NaN   \n",
       "1   AD=6667;DP=298868;OTH=1024                                            1.0   \n",
       "2                          NaN                                            NaN   \n",
       "3  AD=13460;DP=267646;OTH=7457                                            2.0   \n",
       "4                          NaN                                            NaN   \n",
       "\n",
       "   new ID  \n",
       "0       1  \n",
       "1       2  \n",
       "2       3  \n",
       "3       4  \n",
       "4       5  "
      ]
     },
     "execution_count": 19,
     "metadata": {},
     "output_type": "execute_result"
    }
   ],
   "source": [
    "vcf.head()"
   ]
  },
  {
   "cell_type": "markdown",
   "metadata": {
    "papermill": {
     "duration": 0.04498,
     "end_time": "2021-01-14T01:24:28.085229",
     "exception": false,
     "start_time": "2021-01-14T01:24:28.040249",
     "status": "completed"
    },
    "tags": []
   },
   "source": [
    "Note, `AD` and `DP` are sparse matrices, not `numpy.array`"
   ]
  },
  {
   "cell_type": "markdown",
   "metadata": {
    "papermill": {
     "duration": 0.044338,
     "end_time": "2021-01-14T01:24:28.173660",
     "exception": false,
     "start_time": "2021-01-14T01:24:28.129322",
     "status": "completed"
    },
    "tags": []
   },
   "source": [
    "## Run Vireo\n",
    "For donor deconvolution, the `vireoSNP.vireo_wrap` function can be directly used, which contains multiple initialization and have options for different situtaions of donor genotype, fully missing, partially lack, or all available."
   ]
  },
  {
   "cell_type": "code",
   "execution_count": 20,
   "metadata": {
    "ExecuteTime": {
     "end_time": "2021-01-18T18:04:30.021669Z",
     "start_time": "2021-01-18T18:04:06.972042Z"
    }
   },
   "outputs": [],
   "source": [
    "np.random.seed(1)\n",
    "\n",
    "n_initials = 50\n",
    "\n",
    "_models_all = []\n",
    "for i in range(n_initials):\n",
    "    _modelCA = Vireo(n_var=AD_shape[0], n_cell=AD_shape[1], n_donor=2, n_GT=2,\n",
    "                     fix_beta_sum=False, ASE_mode=True)\n",
    "    _modelCA.set_prior(beta_mu_prior=np.array([[0.01, 0.5]]))\n",
    "    _modelCA.fit(AD, DP, min_iter=20, verbose=False, delay_fit_theta=0)\n",
    "    _models_all.append(_modelCA)\n",
    "    "
   ]
  },
  {
   "cell_type": "code",
   "execution_count": null,
   "metadata": {},
   "outputs": [],
   "source": []
  },
  {
   "cell_type": "code",
   "execution_count": 21,
   "metadata": {
    "ExecuteTime": {
     "end_time": "2021-01-18T18:04:30.409311Z",
     "start_time": "2021-01-18T18:04:30.025469Z"
    }
   },
   "outputs": [
    {
     "data": {
      "image/png": "[encoded data removed]",
      "text/plain": [
       "<Figure size 792x288 with 2 Axes>"
      ]
     },
     "metadata": {
      "needs_background": "light"
     },
     "output_type": "display_data"
    }
   ],
   "source": [
    "import matplotlib.pyplot as plt\n",
    "## Choose the model giving highest ELBO\n",
    "\n",
    "_idx = np.argmax([x.ELBO_[-1] for x in _models_all])\n",
    "modelCA = _models_all[_idx]\n",
    "_losses = modelCA.ELBO_\n",
    "\n",
    "fig = plt.figure(figsize=(11, 4))\n",
    "plt.subplot(1, 2, 1)\n",
    "plt.hist([x.ELBO_[-1] for x in _models_all])\n",
    "plt.ylabel(\"Frequency\")\n",
    "plt.xlabel(\"ELBO with multiple initializations\")\n",
    "\n",
    "plt.subplot(1, 2, 2)\n",
    "plt.plot(_losses)\n",
    "plt.xlabel(\"Iterations\")\n",
    "plt.ylabel(\"ELBO in a single run\")\n",
    "\n",
    "plt.tight_layout()\n",
    "plt.show()"
   ]
  },
  {
   "cell_type": "code",
   "execution_count": 22,
   "metadata": {
    "ExecuteTime": {
     "end_time": "2021-01-18T18:04:30.885474Z",
     "start_time": "2021-01-18T18:04:30.413885Z"
    }
   },
   "outputs": [
    {
     "data": {
      "image/png": "[encoded data removed]",
      "text/plain": [
       "<Figure size 700x400 with 4 Axes>"
      ]
     },
     "metadata": {
      "needs_background": "light"
     },
     "output_type": "display_data"
    }
   ],
   "source": [
    "import matplotlib.pyplot as plt\n",
    "from vireoSNP.plot.base_plot import heat_matrix\n",
    "\n",
    "fig = plt.figure(figsize=(7, 4), dpi=100)\n",
    "plt.subplot(1, 2, 1)\n",
    "im = heat_matrix(modelCA.ID_prob, cmap=\"Oranges\", alpha=0.8,\n",
    "                 display_value=False, row_sort=True)\n",
    "plt.colorbar(im, fraction=0.046, pad=0.04)\n",
    "plt.title(\"Assignment probability\")\n",
    "plt.xlabel(\"Clone\")\n",
    "plt.ylabel(\"%d cells\" %(modelCA.n_cell))\n",
    "plt.xticks(range(modelCA.n_donor))\n",
    "\n",
    "\n",
    "plt.subplot(1, 2, 2)\n",
    "AF_SNPs = np.sum(modelCA.GT_prob * \n",
    "                 np.expand_dims(modelCA.beta_mu, 1), axis=2)\n",
    "im = heat_matrix(AF_SNPs, cmap=\"Blues\", alpha=0.8, \n",
    "                 display_value=False, row_sort=True)\n",
    "plt.colorbar(im, fraction=0.046, pad=0.04)\n",
    "plt.title(\"Mean allelic ratio\")\n",
    "plt.xlabel(\"Clone\")\n",
    "plt.ylabel(\"%d SNPs\" %(modelCA.n_var))\n",
    "plt.xticks(range(modelCA.n_donor))\n",
    "\n",
    "plt.tight_layout()\n",
    "plt.show()"
   ]
  },
  {
   "cell_type": "code",
   "execution_count": 23,
   "metadata": {
    "ExecuteTime": {
     "end_time": "2021-01-18T18:04:30.894053Z",
     "start_time": "2021-01-18T18:04:30.887206Z"
    }
   },
   "outputs": [
    {
     "data": {
      "text/plain": [
       "array([0., 0., 0., ..., 1., 1., 1.])"
      ]
     },
     "execution_count": 23,
     "metadata": {},
     "output_type": "execute_result"
    }
   ],
   "source": [
    "max_v = 0\n",
    "for i in in_cell_names:\n",
    "    max_v = max(max_v, max(cell_map[i]))\n",
    "    \n",
    "# create index map:\n",
    "cell_ind_map = {}\n",
    "count = 0\n",
    "for i in in_cell_names: \n",
    "    cell_ind_map[i] = count\n",
    "    count += 1\n",
    "\n",
    "cell_inds = -1*np.ones(max_v)\n",
    "for i in in_cell_names:\n",
    "    cell_inds[cell_map[i]-1] = cell_ind_map[i] #cell_map[i]\n",
    "cell_inds"
   ]
  },
  {
   "cell_type": "code",
   "execution_count": 24,
   "metadata": {
    "ExecuteTime": {
     "end_time": "2021-01-18T18:04:30.926123Z",
     "start_time": "2021-01-18T18:04:30.895636Z"
    }
   },
   "outputs": [
    {
     "data": {
      "text/plain": [
       "(710, 33, 34, 629)"
      ]
     },
     "execution_count": 24,
     "metadata": {},
     "output_type": "execute_result"
    }
   ],
   "source": [
    "donor_ids_best = np.argmax(modelCA.ID_prob, axis=1)\n",
    "from sklearn.metrics import confusion_matrix\n",
    "\n",
    "tn, fp, fn, tp = confusion_matrix(cell_inds, donor_ids_best).ravel()\n",
    "(tn, fp, fn, tp)"
   ]
  },
  {
   "cell_type": "code",
   "execution_count": 25,
   "metadata": {
    "ExecuteTime": {
     "end_time": "2021-01-18T18:04:31.608321Z",
     "start_time": "2021-01-18T18:04:30.927837Z"
    }
   },
   "outputs": [
    {
     "data": {
      "text/plain": [
       "Text(205.02197802197801, 0.5, 'Cell')"
      ]
     },
     "execution_count": 25,
     "metadata": {},
     "output_type": "execute_result"
    },
    {
     "data": {
      "image/png": "[encoded data removed]",
      "text/plain": [
       "<Figure size 720x720 with 5 Axes>"
      ]
     },
     "metadata": {
      "needs_background": "light"
     },
     "output_type": "display_data"
    }
   ],
   "source": [
    "colors = {0:\"blue\", 1:\"red\"}\n",
    "cell_colors = [colors[x] for x in cell_inds]\n",
    "cell_colors = pd.Series(cell_colors, name=\"sample ID\")\n",
    "g = sns.clustermap(data=pd.DataFrame(modelCA.ID_prob, columns=[f\"AF {x+1}\" for x in np.arange(modelCA.ID_prob.shape[1])]), row_cluster=False, col_cluster=False,\n",
    "              row_colors=cell_colors)\n",
    "#plt.ylabel(\"Cell\")\n",
    "#plt.xlabel(\"Predicted Genotype Cluster\")\n",
    "g.fig.suptitle(\"Probability of being in cluster\\nColors on left is sample ID\")\n",
    "g.ax_heatmap.set_xlabel(\"Predicted Genotype Cluster\")\n",
    "g.ax_heatmap.set_ylabel(\"Cell\")\n",
    "\n",
    "#plt.savefig(\"pseudo_multiplex_with_cellIDs.png\")"
   ]
  },
  {
   "cell_type": "code",
   "execution_count": 26,
   "metadata": {
    "ExecuteTime": {
     "end_time": "2021-01-18T18:04:31.956409Z",
     "start_time": "2021-01-18T18:04:31.609922Z"
    },
    "scrolled": true
   },
   "outputs": [
    {
     "data": {
      "text/plain": [
       "<matplotlib.axes._subplots.AxesSubplot at 0x7f47cac0bd30>"
      ]
     },
     "execution_count": 26,
     "metadata": {},
     "output_type": "execute_result"
    },
    {
     "data": {
      "image/png": "[encoded data removed]",
      "text/plain": [
       "<Figure size 432x288 with 1 Axes>"
      ]
     },
     "metadata": {
      "needs_background": "light"
     },
     "output_type": "display_data"
    }
   ],
   "source": [
    "for ind, val in enumerate(in_cell_names):\n",
    "    vcf[\"AF \" + str(ind)] = AF_SNPs[:, ind]\n",
    "#vcf.iloc[ind.argsort()[::-1]].head(100)\n",
    "vcf.iloc[vcf[\"AF \" + str(ind)].argsort()[::-1].values]\n",
    "\n",
    "sns.regplot(data=vcf, x =\"AF 0\" , y=\"AF 1\")"
   ]
  },
  {
   "cell_type": "code",
   "execution_count": null,
   "metadata": {},
   "outputs": [],
   "source": []
  },
  {
   "cell_type": "code",
   "execution_count": null,
   "metadata": {},
   "outputs": [],
   "source": []
  },
  {
   "cell_type": "code",
   "execution_count": null,
   "metadata": {},
   "outputs": [],
   "source": []
  },
  {
   "cell_type": "markdown",
   "metadata": {
    "papermill": {
     "duration": 0.071264,
     "end_time": "2021-01-14T01:24:42.864410",
     "exception": false,
     "start_time": "2021-01-14T01:24:42.793146",
     "status": "completed"
    },
    "tags": []
   },
   "source": [
    "## Choose the number of donors"
   ]
  },
  {
   "cell_type": "markdown",
   "metadata": {
    "papermill": {
     "duration": 0.069347,
     "end_time": "2021-01-14T01:24:43.003402",
     "exception": false,
     "start_time": "2021-01-14T01:24:42.934055",
     "status": "completed"
    },
    "tags": []
   },
   "source": [
    "Unsually, the number of donors are known. In case you are not sure on this, you could try a set of numbers, e.g., from 2 to 6 here, and pick the one when the evidence lower bound (ELBO) stops increasing, e.g., \n",
    "[Figure 2A in Vireo paper](https://genomebiology.biomedcentral.com/articles/10.1186/s13059-019-1865-2/figures/2)\n",
    "\n",
    "In this data set, `n_donor=4` is a sensible choice."
   ]
  },
  {
   "cell_type": "code",
   "execution_count": 27,
   "metadata": {
    "ExecuteTime": {
     "end_time": "2021-01-18T18:05:00.630413Z",
     "start_time": "2021-01-18T18:04:31.957996Z"
    },
    "execution": {
     "iopub.execute_input": "2021-01-14T01:24:43.150714Z",
     "iopub.status.busy": "2021-01-14T01:24:43.150073Z",
     "iopub.status.idle": "2021-01-14T01:25:12.261235Z",
     "shell.execute_reply": "2021-01-14T01:25:12.261712Z"
    },
    "papermill": {
     "duration": 29.18694,
     "end_time": "2021-01-14T01:25:12.261885",
     "exception": false,
     "start_time": "2021-01-14T01:24:43.074945",
     "status": "completed"
    },
    "scrolled": false,
    "tags": []
   },
   "outputs": [
    {
     "name": "stdout",
     "output_type": "stream",
     "text": [
      "[vireo] lower bound ranges [-686892.6, -686892.6, -672720.4]\n",
      "[vireo] allelic rate mean and concentrations:\n",
      "[[0.019 0.137 0.99 ]]\n",
      "[[4.93374674e+07 4.20221360e+06 5.00000000e+01]]\n",
      "[vireo] donor size before removing doublets:\n",
      "donor0\tdonor1\n",
      "842\t564\n",
      "[vireo] lower bound ranges [-686788.2, -686788.2, -672642.1]\n",
      "[vireo] allelic rate mean and concentrations:\n",
      "[[0.019 0.137 0.99 ]]\n",
      "[[4.93436181e+07 4.19606290e+06 5.00000000e+01]]\n",
      "[vireo] donor size before removing doublets:\n",
      "donor0\tdonor1\tdonor2\n",
      "438\t530\t438\n",
      "[vireo] lower bound ranges [-686683.9, -686683.9, -684345.3]\n",
      "[vireo] allelic rate mean and concentrations:\n",
      "[[0.019 0.143 0.99 ]]\n",
      "[[4.96977951e+07 3.84188590e+06 5.00000000e+01]]\n",
      "[vireo] donor size before removing doublets:\n",
      "donor0\tdonor1\tdonor2\tdonor3\n",
      "341\t382\t341\t341\n",
      "[vireo] lower bound ranges [-686579.5, -686579.5, -684239.6]\n",
      "[vireo] allelic rate mean and concentrations:\n",
      "[[0.019 0.143 0.99 ]]\n",
      "[[4.96974344e+07 3.84224660e+06 5.00000000e+01]]\n",
      "[vireo] donor size before removing doublets:\n",
      "donor0\tdonor1\tdonor2\tdonor3\tdonor4\n",
      "266\t341\t266\t266\t266\n",
      "[vireo] lower bound ranges [-686475.1, -686475.1, -672329.0]\n",
      "[vireo] allelic rate mean and concentrations:\n",
      "[[0.019 0.137 0.99 ]]\n",
      "[[4.93436181e+07 4.19606290e+06 5.00000000e+01]]\n",
      "[vireo] donor size before removing doublets:\n",
      "donor0\tdonor1\tdonor2\tdonor3\tdonor4\tdonor5\n",
      "219\t265\t219\t265\t219\t219\n"
     ]
    },
    {
     "data": {
      "image/png": "[encoded data removed]",
      "text/plain": [
       "<Figure size 500x400 with 1 Axes>"
      ]
     },
     "metadata": {
      "needs_background": "light"
     },
     "output_type": "display_data"
    }
   ],
   "source": [
    "n_donor_list = np.arange(2, 7)\n",
    "ELBO_list_all = []\n",
    "for _n_don in n_donor_list:\n",
    "    res = vireoSNP.vireo_wrap(AD, DP, n_donor=_n_don, learn_GT=True,\n",
    "                              n_extra_donor=0, ASE_mode=False, fix_beta_sum=False,\n",
    "                              n_init=50, check_doublet=True, random_seed=1)\n",
    "    ELBO_list_all.append(res['LB_list'])\n",
    "\n",
    "import matplotlib.pyplot as plt\n",
    "from vireoSNP.plot.base_plot import heat_matrix\n",
    "\n",
    "fig = plt.figure(figsize=(5, 4), dpi=100)\n",
    "plt.plot(n_donor_list - 1, np.max(ELBO_list_all, axis=1))\n",
    "plt.boxplot(ELBO_list_all)\n",
    "plt.xticks(n_donor_list - 1, n_donor_list)\n",
    "plt.ylabel(\"ELBO\")\n",
    "plt.xlabel(\"n_clones\")\n",
    "plt.show()\n",
    "\n",
    "#plt.savefig(join(OUTDIR, \"number_of_donors_ELBO.png\"))"
   ]
  }
 ],
 "metadata": {
  "celltoolbar": "Tags",
  "kernelspec": {
   "display_name": "Python 3",
   "language": "python",
   "name": "python3"
  },
  "language_info": {
   "codemirror_mode": {
    "name": "ipython",
    "version": 3
   },
   "file_extension": ".py",
   "mimetype": "text/x-python",
   "name": "python",
   "nbconvert_exporter": "python",
   "pygments_lexer": "ipython3",
   "version": "3.7.3"
  },
  "papermill": {
   "default_parameters": {},
   "duration": 50.143863,
   "end_time": "2021-01-14T01:25:14.025849",
   "environment_variables": {},
   "exception": null,
   "input_path": "/data2/mito_lineage/src/vireo/vireoSNP_donors.ipynb",
   "output_path": "data/chrM/pseudo/minC20_minAF0.01/numC2000_ispropFalse/pseudo.ipynb",
   "parameters": {
    "INDIR": "data/chrM/pseudo/minC20_minAF0.01/numC2000_ispropFalse"
   },
   "start_time": "2021-01-14T01:24:23.881986",
   "version": "2.2.0"
  }
 },
 "nbformat": 4,
 "nbformat_minor": 4
}
