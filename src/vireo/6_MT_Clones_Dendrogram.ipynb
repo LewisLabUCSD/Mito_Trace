{
 "cells": [
  {
   "cell_type": "code",
   "execution_count": 1,
   "metadata": {
    "ExecuteTime": {
     "end_time": "2021-05-13T20:12:12.096903Z",
     "start_time": "2021-05-13T20:12:12.086904Z"
    },
    "scrolled": true
   },
   "outputs": [
    {
     "data": {
      "text/plain": [
       "'/data2/mito_lineage/src/vireo'"
      ]
     },
     "execution_count": 1,
     "metadata": {},
     "output_type": "execute_result"
    }
   ],
   "source": [
    "pwd"
   ]
  },
  {
   "cell_type": "code",
   "execution_count": 2,
   "metadata": {
    "ExecuteTime": {
     "end_time": "2021-05-13T20:12:12.105680Z",
     "start_time": "2021-05-13T20:12:12.099105Z"
    },
    "tags": [
     "parameters"
    ]
   },
   "outputs": [],
   "source": [
    "INDIR=\"data/jan21_2021/chrM/pseudo/minC200_minAF0.01/numC25000_ispropFalse\"\n",
    "OUTDIR= \"data/jan21_2021/chrM/pseudo/minC200_minAF0.01/numC25000_ispropFalse/flt3\"\n",
    "N_DONORS=4 \n",
    "#INDIR=\"\"\n",
    "sample_names=\"\" #\"Control,Flt3l,Input\""
   ]
  },
  {
   "cell_type": "code",
   "execution_count": null,
   "metadata": {},
   "outputs": [],
   "source": [
    "from src.utils.data_io import setup_outdir\n",
    "setup_outdir(OUTDIR, dirs=('figures'))"
   ]
  },
  {
   "cell_type": "code",
   "execution_count": 3,
   "metadata": {
    "ExecuteTime": {
     "end_time": "2021-05-13T20:12:12.127379Z",
     "start_time": "2021-05-13T20:12:12.108328Z"
    }
   },
   "outputs": [],
   "source": [
    "sample_names = {ind:val for ind,val in enumerate(sample_names.split(\",\"))}\n"
   ]
  },
  {
   "cell_type": "code",
   "execution_count": 4,
   "metadata": {
    "ExecuteTime": {
     "end_time": "2021-05-13T20:12:13.155526Z",
     "start_time": "2021-05-13T20:12:12.130665Z"
    }
   },
   "outputs": [
    {
     "name": "stdout",
     "output_type": "stream",
     "text": [
      "0.4.2\n"
     ]
    }
   ],
   "source": [
    "from os.path import join, exists, dirname\n",
    "from glob import glob\n",
    "import pickle\n",
    "import mplh.cluster_help as ch\n",
    "import os\n",
    "import vireoSNP\n",
    "import numpy as np\n",
    "from scipy import sparse\n",
    "from scipy.io import mmread\n",
    "import matplotlib.pyplot as plt\n",
    "from scipy.stats import hypergeom\n",
    "print(vireoSNP.__version__)\n",
    "\n",
    "import pandas as pd\n",
    "import seaborn as sns\n",
    "from vireoSNP import Vireo\n",
    "np.set_printoptions(formatter={'float': lambda x: format(x, '.5f')})"
   ]
  },
  {
   "cell_type": "code",
   "execution_count": 5,
   "metadata": {
    "ExecuteTime": {
     "end_time": "2021-05-13T20:12:13.160604Z",
     "start_time": "2021-05-13T20:12:13.157511Z"
    }
   },
   "outputs": [],
   "source": [
    "def filt_high(df, thresh):\n",
    "    return df.loc[(df.mean(axis=1)<thresh)].index.values\n"
   ]
  },
  {
   "cell_type": "markdown",
   "metadata": {
    "papermill": {
     "duration": 0.047745,
     "end_time": "2021-01-27T08:30:54.010679",
     "exception": false,
     "start_time": "2021-01-27T08:30:53.962934",
     "status": "completed"
    },
    "tags": []
   },
   "source": [
    "# Using vireo for clonal reconstruction - mitochondrial mutations"
   ]
  },
  {
   "cell_type": "markdown",
   "metadata": {
    "papermill": {
     "duration": 0.3043,
     "end_time": "2021-01-27T08:30:54.367961",
     "exception": false,
     "start_time": "2021-01-27T08:30:54.063661",
     "status": "completed"
    },
    "tags": []
   },
   "source": [
    "The mitochondrial mutations data set is extracted from [Ludwig et al, Cell, 2019](https://doi.org/10.1016/j.cell.2019.01.022), the 9 variants used here are from Supp Fig. 2F (and main Fig. 2F).\n",
    "\n",
    "For clonal reconstruction, we are using the core class `vireoSNP.Vireo` with multiple initializations"
   ]
  },
  {
   "cell_type": "markdown",
   "metadata": {},
   "source": [
    "## Load cluster results and test for enrichment"
   ]
  },
  {
   "cell_type": "code",
   "execution_count": 6,
   "metadata": {
    "ExecuteTime": {
     "end_time": "2021-05-13T20:12:13.249783Z",
     "start_time": "2021-05-13T20:12:13.162277Z"
    }
   },
   "outputs": [
    {
     "data": {
      "image/png": "[encoded data removed]",
      "text/plain": [
       "<Figure size 720x72 with 1 Axes>"
      ]
     },
     "metadata": {
      "needs_background": "light"
     },
     "output_type": "display_data"
    }
   ],
   "source": [
    "import seaborn as sns\n",
    "from mplh import cluster_help as ch"
   ]
  },
  {
   "cell_type": "code",
   "execution_count": null,
   "metadata": {
    "ExecuteTime": {
     "end_time": "2021-05-13T20:12:13.430341Z",
     "start_time": "2021-05-13T20:12:13.251906Z"
    },
    "code_folding": [],
    "scrolled": false
   },
   "outputs": [],
   "source": [
    "#n_clone_list = [7]#[2,3,4,5,6,7]\n",
    "\n",
    "for n in range(N_DONORS):\n",
    "#     curr_ad_f = join(INDIR, f\"cluster{n}.AD.txt\")\n",
    "#     curr_dp_f = join(INDIR, f\"cluster{n}.DP.txt\")\n",
    "    curr_ad_f = join(INDIR, f\"donor{n}.AD.mtx\")\n",
    "    curr_dp_f = join(INDIR, f\"donor{n}.DP.mtx\")\n",
    "    print(curr_ad_f)\n",
    "    print(curr_dp_f)\n",
    "    curr_ad = mmread(curr_ad_f).tocsc()\n",
    "    curr_dp = mmread(curr_dp_f).tocsc()\n",
    "    AD_df = pd.DataFrame(curr_ad.todense())\n",
    "    DP_df = pd.DataFrame(curr_dp.todense())\n",
    "    DP_df.index.name = \"Variant\"\n",
    "    DP_df.columns.name = \"Cell\"\n",
    "    AD_df.index.name = \"Variant\"\n",
    "    AD_df.columns.name = \"Cell\"\n",
    "    AF_df = AD_df/(DP_df+0.001)\n",
    "    #AD_df = pd.merge(AD_df, vcf[[\"#CHROM\", \"POS\", \"ALT\"]], how=\"inner\", left_index=True,right_index=True).set_index([\"#CHROM\", \"POS\", \"ALT\"])\n",
    "    curr_labels = pd.read_csv(join(INDIR, f\"donor{n}.labels.txt\"), index_col=0)\n",
    "    out_f = join(OUTDIR,'figures', f\"donor{n}_dendrogram.png\")\n",
    "    \n",
    "    #cols=np.random.choice(AF_df.columns,size=500, replace=False)\n",
    "#     cols = AF_df.columns\n",
    "    \n",
    "#     #f, ax = plt.subplots(nrows=2, ncols=1)\n",
    "#     raw_af = AF_df.copy()\n",
    "#     AF_df = AF_df.loc[:,cols]\n",
    "#     DP_df = DP_df.loc[:,cols]\n",
    "#     curr_labels = curr_labels.loc[cols]\n",
    "    \n",
    "    colors={val[0]:val[1] for val in zip(sample_names, sns.color_palette('Set2', len(sample_names)))}\n",
    "    curr_labels[\"Color\"] = curr_labels[\"sample ID\"].map(colors)\n",
    "    g = ch.plot_cluster(np.sqrt(AF_df), col_meta=curr_labels[[\"sample ID\"]], to_row_clust=True, to_col_clust=True)\n",
    "    #g = sns.clustermap(np.sqrt(AF_df), col_colors=curr_labels[[\"Color\"]], to_row_clust=True, to_col_clust=True, metric='jaccard')\n",
    "    plt.title(f\"Donor:{n}\")\n",
    "    plt.savefig(out_f+\".withHigh.png\")\n",
    "    \n",
    "    cols2 = filt_high(AF_df, thresh=0.9)\n",
    "    AF_df = AF_df.loc[cols2]\n",
    "    DP_df = DP_df.loc[cols2]\n",
    "    #curr_labels = curr_labels.loc[cols2]\n",
    "    \n",
    "    g = ch.plot_cluster(np.sqrt(AF_df), col_meta=curr_labels[[\"sample ID\"]], to_row_clust=True, to_col_clust=True)\n",
    "    #g = sns.clustermap(np.sqrt(AF_df), col_colors=curr_labels[[\"Color\"]], to_row_clust=True, to_col_clust=True)\n",
    "    plt.title(f\"{n}\")\n",
    "    plt.savefig(out_f)\n",
    "    \n",
    "    inds = g.dendrogram_row.dendrogram[\"leaves\"]\n",
    "    cols = g.dendrogram_col.dendrogram[\"leaves\"]\n",
    "\n",
    "    ch.plot_cluster(np.log2(DP_df.iloc[inds, cols]+1), to_row_clust=False, to_col_clust=False, \n",
    "                            col_meta=curr_labels.iloc[cols][[\"sample ID\"]])\n",
    "    #inds = AF_df.sum(axis=1).sort_values().index.values\n",
    "#     sns.clustermap(np.log2(DP_df.iloc[inds, cols]+1), to_row_clust=False, to_col_clust=False, \n",
    "#                   col_colors=curr_labels.iloc[cols][[\"Color\"]])\n",
    "\n",
    "    plt.title(f\"Donor:{n}\\nLog2 counts\")\n",
    "    plt.savefig(out_f+\".depth.png\")"
   ]
  },
  {
   "cell_type": "code",
   "execution_count": null,
   "metadata": {},
   "outputs": [],
   "source": []
  },
  {
   "cell_type": "markdown",
   "metadata": {},
   "source": [
    "## Get variants and types of variants"
   ]
  }
 ],
 "metadata": {
  "celltoolbar": "Tags",
  "kernelspec": {
   "display_name": "Python 3",
   "language": "python",
   "name": "python3"
  },
  "language_info": {
   "codemirror_mode": {
    "name": "ipython",
    "version": 3
   },
   "file_extension": ".py",
   "mimetype": "text/x-python",
   "name": "python",
   "nbconvert_exporter": "python",
   "pygments_lexer": "ipython3",
   "version": "3.6.13"
  },
  "papermill": {
   "default_parameters": {},
   "duration": 5560.364131,
   "end_time": "2021-01-27T10:03:31.625455",
   "environment_variables": {},
   "exception": null,
   "input_path": "/data2/mito_lineage/src/vireo/vireoSNP_clones.ipynb",
   "output_path": "results/jan21_2021/chrM/P2_cellSNP_minC200_minAF0.01/lineage_chrM.ipynb",
   "parameters": {
    "AD_F": "data/jan21_2021/chrM/P2_cellSNP_minC200_minAF0.01/cellSNP.tag.AD.mtx",
    "DP_F": "data/jan21_2021/chrM/P2_cellSNP_minC200_minAF0.01/cellSNP.tag.DP.mtx"
   },
   "start_time": "2021-01-27T08:30:51.261324",
   "version": "2.2.0"
  }
 },
 "nbformat": 4,
 "nbformat_minor": 4
}
