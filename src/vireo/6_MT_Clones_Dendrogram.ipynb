{
 "cells": [
  {
   "cell_type": "code",
   "execution_count": 1,
   "metadata": {
    "ExecuteTime": {
     "end_time": "2021-05-13T20:12:12.096903Z",
     "start_time": "2021-05-13T20:12:12.086904Z"
    },
    "scrolled": false
   },
   "outputs": [
    {
     "data": {
      "text/plain": [
       "'/mnt/md0/isshamie/Projects/Mito_Trace/src/vireo'"
      ]
     },
     "execution_count": 1,
     "metadata": {},
     "output_type": "execute_result"
    }
   ],
   "source": [
    "pwd"
   ]
  },
  {
   "cell_type": "code",
   "execution_count": 2,
   "metadata": {
    "ExecuteTime": {
     "end_time": "2021-05-13T20:12:12.105680Z",
     "start_time": "2021-05-13T20:12:12.099105Z"
    },
    "tags": [
     "parameters"
    ]
   },
   "outputs": [],
   "source": [
    "INDIR=\"/home/isshamie/data/Projects/Mito_Trace/output/pipeline/cd34norm/MTblacklist/data/merged/MT/cellr_True/numread_200/filters/minC10_minR50_topN0_hetT0.001_hetC10_hetCount5_bq20/mgatk/vireoIn/clones/variants_init/knn/kparam_3/concat\"\n",
    "COUNT_INDIR=\"/home/isshamie/data/Projects/Mito_Trace/output/pipeline/cd34norm/MTblacklist/data/merged/MT/cellr_True/numread_200/filters/minC10_minR50_topN0_hetT0.001_hetC10_hetCount5_bq20/mgatk/vireoIn/multiplex\"\n",
    "OUTDIR= \"/home/isshamie/data/Projects/Mito_Trace/output/pipeline/cd34norm/MTblacklist/results/merged/MT/cellr_True/numread_200/filters/minC10_minR50_topN0_hetT0.001_hetC10_hetCount5_bq20/mgatk/vireoIn/clones/variants_init/knn/kparam_3/clones_dendro\"\n",
    "#N_DONORS=4\n",
    "DONOR=1\n",
    "#INDIR=\"\"\n",
    "#sample_names=\"Control,Flt3l\" #\"Control,Flt3l,Input\""
   ]
  },
  {
   "cell_type": "code",
   "execution_count": 3,
   "metadata": {
    "ExecuteTime": {
     "end_time": "2021-05-13T20:12:12.127379Z",
     "start_time": "2021-05-13T20:12:12.108328Z"
    }
   },
   "outputs": [],
   "source": [
    "#sample_names = {ind:val for ind,val in enumerate(sample_names.split(\",\"))}\n"
   ]
  },
  {
   "cell_type": "code",
   "execution_count": 4,
   "metadata": {
    "ExecuteTime": {
     "end_time": "2021-05-13T20:12:13.155526Z",
     "start_time": "2021-05-13T20:12:12.130665Z"
    }
   },
   "outputs": [
    {
     "name": "stdout",
     "output_type": "stream",
     "text": [
      "fig_utils from mplh\n",
      "0.5.6\n"
     ]
    }
   ],
   "source": [
    "from os.path import join, exists, dirname\n",
    "from glob import glob\n",
    "import pickle\n",
    "import mplh.cluster_help as ch\n",
    "import mplh.fig_utils as fu\n",
    "\n",
    "import os\n",
    "import vireoSNP\n",
    "import numpy as np\n",
    "from scipy import sparse\n",
    "from scipy.io import mmread\n",
    "import matplotlib.pyplot as plt\n",
    "from scipy.stats import hypergeom\n",
    "print(vireoSNP.__version__)\n",
    "\n",
    "import pandas as pd\n",
    "import seaborn as sns\n",
    "from vireoSNP import Vireo\n",
    "np.set_printoptions(formatter={'float': lambda x: format(x, '.5f')})"
   ]
  },
  {
   "cell_type": "code",
   "execution_count": null,
   "metadata": {},
   "outputs": [],
   "source": []
  },
  {
   "cell_type": "code",
   "execution_count": 5,
   "metadata": {
    "ExecuteTime": {
     "end_time": "2021-05-13T20:12:13.160604Z",
     "start_time": "2021-05-13T20:12:13.157511Z"
    }
   },
   "outputs": [],
   "source": [
    "def filt_high(df, thresh):\n",
    "    return df.loc[(df.mean(axis=1)<thresh)].index.values\n"
   ]
  },
  {
   "cell_type": "markdown",
   "metadata": {
    "papermill": {
     "duration": 0.047745,
     "end_time": "2021-01-27T08:30:54.010679",
     "exception": false,
     "start_time": "2021-01-27T08:30:53.962934",
     "status": "completed"
    },
    "tags": []
   },
   "source": [
    "# Using vireo for clonal reconstruction - mitochondrial mutations"
   ]
  },
  {
   "cell_type": "markdown",
   "metadata": {
    "papermill": {
     "duration": 0.3043,
     "end_time": "2021-01-27T08:30:54.367961",
     "exception": false,
     "start_time": "2021-01-27T08:30:54.063661",
     "status": "completed"
    },
    "tags": []
   },
   "source": [
    "The mitochondrial mutations data set is extracted from [Ludwig et al, Cell, 2019](https://doi.org/10.1016/j.cell.2019.01.022), the 9 variants used here are from Supp Fig. 2F (and main Fig. 2F).\n",
    "\n",
    "For clonal reconstruction, we are using the core class `vireoSNP.Vireo` with multiple initializations"
   ]
  },
  {
   "cell_type": "markdown",
   "metadata": {},
   "source": [
    "## Load cluster results and plot dendrograms"
   ]
  },
  {
   "cell_type": "code",
   "execution_count": 6,
   "metadata": {
    "ExecuteTime": {
     "end_time": "2021-05-13T20:12:13.249783Z",
     "start_time": "2021-05-13T20:12:13.162277Z"
    }
   },
   "outputs": [],
   "source": [
    "import seaborn as sns\n",
    "from mplh import cluster_help as ch"
   ]
  },
  {
   "cell_type": "code",
   "execution_count": 7,
   "metadata": {},
   "outputs": [],
   "source": [
    "out_f = join(OUTDIR, f\"donor{DONOR}\")\n",
    "\n",
    "curr_ad_f = join(COUNT_INDIR, f\"donor{DONOR}.AD.mtx\")\n",
    "curr_dp_f = join(COUNT_INDIR, f\"donor{DONOR}.DP.mtx\")\n",
    "\n"
   ]
  },
  {
   "cell_type": "code",
   "execution_count": 8,
   "metadata": {
    "scrolled": true
   },
   "outputs": [
    {
     "data": {
      "text/html": [
       "<div>\n",
       "<style scoped>\n",
       "    .dataframe tbody tr th:only-of-type {\n",
       "        vertical-align: middle;\n",
       "    }\n",
       "\n",
       "    .dataframe tbody tr th {\n",
       "        vertical-align: top;\n",
       "    }\n",
       "\n",
       "    .dataframe thead th {\n",
       "        text-align: right;\n",
       "    }\n",
       "</style>\n",
       "<table border=\"1\" class=\"dataframe\">\n",
       "  <thead>\n",
       "    <tr style=\"text-align: right;\">\n",
       "      <th></th>\n",
       "      <th>ID</th>\n",
       "      <th>lineage</th>\n",
       "      <th>donor</th>\n",
       "      <th>condition</th>\n",
       "    </tr>\n",
       "  </thead>\n",
       "  <tbody>\n",
       "    <tr>\n",
       "      <th>0</th>\n",
       "      <td>AAACTCGTCGAGTGTT-1_Control</td>\n",
       "      <td>0</td>\n",
       "      <td>0</td>\n",
       "      <td>Control</td>\n",
       "    </tr>\n",
       "    <tr>\n",
       "      <th>1</th>\n",
       "      <td>AAAGATGCAATAGTGA-1_Control</td>\n",
       "      <td>0</td>\n",
       "      <td>0</td>\n",
       "      <td>Control</td>\n",
       "    </tr>\n",
       "    <tr>\n",
       "      <th>2</th>\n",
       "      <td>AAAGGGCCATAGGCGA-1_Control</td>\n",
       "      <td>0</td>\n",
       "      <td>0</td>\n",
       "      <td>Control</td>\n",
       "    </tr>\n",
       "    <tr>\n",
       "      <th>3</th>\n",
       "      <td>AAATGAGCACCATTCC-1_Control</td>\n",
       "      <td>0</td>\n",
       "      <td>0</td>\n",
       "      <td>Control</td>\n",
       "    </tr>\n",
       "    <tr>\n",
       "      <th>4</th>\n",
       "      <td>AAATGAGGTGGTGGTA-1_Control</td>\n",
       "      <td>0</td>\n",
       "      <td>0</td>\n",
       "      <td>Control</td>\n",
       "    </tr>\n",
       "    <tr>\n",
       "      <th>...</th>\n",
       "      <td>...</td>\n",
       "      <td>...</td>\n",
       "      <td>...</td>\n",
       "      <td>...</td>\n",
       "    </tr>\n",
       "    <tr>\n",
       "      <th>14875</th>\n",
       "      <td>TACTGCCAGATATGAC-1_Flt3l</td>\n",
       "      <td>57</td>\n",
       "      <td>3</td>\n",
       "      <td>Flt3l</td>\n",
       "    </tr>\n",
       "    <tr>\n",
       "      <th>14876</th>\n",
       "      <td>ACATGGTGTGCAAAGC-1_Control</td>\n",
       "      <td>58</td>\n",
       "      <td>3</td>\n",
       "      <td>Control</td>\n",
       "    </tr>\n",
       "    <tr>\n",
       "      <th>14877</th>\n",
       "      <td>GGCGAAACAGCCGAAA-1_Control</td>\n",
       "      <td>58</td>\n",
       "      <td>3</td>\n",
       "      <td>Control</td>\n",
       "    </tr>\n",
       "    <tr>\n",
       "      <th>14878</th>\n",
       "      <td>CATGTTTGTCAAGACG-1_Flt3l</td>\n",
       "      <td>58</td>\n",
       "      <td>3</td>\n",
       "      <td>Flt3l</td>\n",
       "    </tr>\n",
       "    <tr>\n",
       "      <th>14879</th>\n",
       "      <td>GCTCGAGTCTCTATTG-1_Flt3l</td>\n",
       "      <td>58</td>\n",
       "      <td>3</td>\n",
       "      <td>Flt3l</td>\n",
       "    </tr>\n",
       "  </tbody>\n",
       "</table>\n",
       "<p>14880 rows × 4 columns</p>\n",
       "</div>"
      ],
      "text/plain": [
       "                               ID  lineage  donor condition\n",
       "0      AAACTCGTCGAGTGTT-1_Control        0      0   Control\n",
       "1      AAAGATGCAATAGTGA-1_Control        0      0   Control\n",
       "2      AAAGGGCCATAGGCGA-1_Control        0      0   Control\n",
       "3      AAATGAGCACCATTCC-1_Control        0      0   Control\n",
       "4      AAATGAGGTGGTGGTA-1_Control        0      0   Control\n",
       "...                           ...      ...    ...       ...\n",
       "14875    TACTGCCAGATATGAC-1_Flt3l       57      3     Flt3l\n",
       "14876  ACATGGTGTGCAAAGC-1_Control       58      3   Control\n",
       "14877  GGCGAAACAGCCGAAA-1_Control       58      3   Control\n",
       "14878    CATGTTTGTCAAGACG-1_Flt3l       58      3     Flt3l\n",
       "14879    GCTCGAGTCTCTATTG-1_Flt3l       58      3     Flt3l\n",
       "\n",
       "[14880 rows x 4 columns]"
      ]
     },
     "execution_count": 8,
     "metadata": {},
     "output_type": "execute_result"
    }
   ],
   "source": [
    "cells_meta = pd.read_csv(join(INDIR, \"cells_meta.tsv\"), sep='\\t').sort_values([\"donor\", \"lineage\"])\n",
    "if \"donor_index\" in cells_meta.columns and \"lineage_index\" in cells_meta.columns:\n",
    "    cells_meta = cells_meta.sort_values(\"donor_index\", \"lineage_index\", )\n",
    "cells_meta"
   ]
  },
  {
   "cell_type": "code",
   "execution_count": 9,
   "metadata": {},
   "outputs": [],
   "source": [
    "def calc_mean(cells, af):\n",
    "    #print(cells.head())\n",
    "    if 'donor_index' in cells.columns:\n",
    "        return af.iloc[:, cells['donor_index'].values-1].mean(axis=1)\n",
    "    else:\n",
    "        return af.mean(axis=1)\n",
    "    "
   ]
  },
  {
   "cell_type": "code",
   "execution_count": 10,
   "metadata": {},
   "outputs": [],
   "source": [
    "#TO_SAVE_FIG=False"
   ]
  },
  {
   "cell_type": "code",
   "execution_count": 11,
   "metadata": {},
   "outputs": [
    {
     "name": "stdout",
     "output_type": "stream",
     "text": [
      "/home/isshamie/data/Projects/Mito_Trace/output/pipeline/cd34norm/MTblacklist/data/merged/MT/cellr_True/numread_200/filters/minC10_minR50_topN0_hetT0.001_hetC10_hetCount5_bq20/mgatk/vireoIn/multiplex/donor1.AD.mtx\n",
      "/home/isshamie/data/Projects/Mito_Trace/output/pipeline/cd34norm/MTblacklist/data/merged/MT/cellr_True/numread_200/filters/minC10_minR50_topN0_hetT0.001_hetC10_hetCount5_bq20/mgatk/vireoIn/multiplex/donor1.DP.mtx\n"
     ]
    }
   ],
   "source": [
    "#for n in range(N_DONORS):\n",
    "print(curr_ad_f)\n",
    "print(curr_dp_f)\n",
    "curr_ad = mmread(curr_ad_f).tocsc()\n",
    "curr_dp = mmread(curr_dp_f).tocsc()\n",
    "AD_df = pd.DataFrame(curr_ad.todense())\n",
    "AD_df.index.name = \"Variant\"\n",
    "AD_df.columns.name = \"Cell\"\n",
    "DP_df = pd.DataFrame(curr_dp.todense())\n",
    "DP_df.index.name = \"Variant\"\n",
    "DP_df.columns.name = \"Cell\"\n",
    "AF_df = AD_df/(DP_df+0.001)\n",
    "#AD_df = pd.merge(AD_df, vcf[[\"#CHROM\", \"POS\", \"ALT\"]], how=\"inner\", left_index=True,right_index=True).set_index([\"#CHROM\", \"POS\", \"ALT\"])\n",
    "curr_labels = cells_meta[cells_meta[\"donor\"]==DONOR]\n"
   ]
  },
  {
   "cell_type": "code",
   "execution_count": null,
   "metadata": {
    "scrolled": true
   },
   "outputs": [
    {
     "name": "stdout",
     "output_type": "stream",
     "text": [
      "clustering\n",
      "cmap None\n"
     ]
    },
    {
     "name": "stderr",
     "output_type": "stream",
     "text": [
      "/home/isshamie/miniconda3/envs/mttrace/lib/python3.7/site-packages/seaborn/matrix.py:654: UserWarning: Clustering large matrix with scipy. Installing `fastcluster` may give better performance.\n",
      "  warnings.warn(msg)\n",
      "/home/isshamie/miniconda3/envs/mttrace/lib/python3.7/site-packages/seaborn/matrix.py:709: UserWarning: Attempting to set identical left == right == 0 results in singular transformations; automatically expanding.\n",
      "  ax.set_xlim(0, max_dependent_coord * 1.05)\n",
      "No handles with labels found to put in legend.\n"
     ]
    },
    {
     "name": "stdout",
     "output_type": "stream",
     "text": [
      "clustering\n",
      "cmap None\n",
      "clustering\n",
      "cmap None\n"
     ]
    },
    {
     "name": "stderr",
     "output_type": "stream",
     "text": [
      "/home/isshamie/miniconda3/envs/mttrace/lib/python3.7/site-packages/seaborn/matrix.py:654: UserWarning: Clustering large matrix with scipy. Installing `fastcluster` may give better performance.\n",
      "  warnings.warn(msg)\n",
      "/home/isshamie/miniconda3/envs/mttrace/lib/python3.7/site-packages/seaborn/matrix.py:709: UserWarning: Attempting to set identical left == right == 0 results in singular transformations; automatically expanding.\n",
      "  ax.set_xlim(0, max_dependent_coord * 1.05)\n",
      "No handles with labels found to put in legend.\n"
     ]
    },
    {
     "name": "stdout",
     "output_type": "stream",
     "text": [
      "clustering\n",
      "cmap None\n",
      "clustering\n",
      "cmap None\n"
     ]
    },
    {
     "name": "stderr",
     "output_type": "stream",
     "text": [
      "/home/isshamie/miniconda3/envs/mttrace/lib/python3.7/site-packages/seaborn/matrix.py:654: UserWarning: Clustering large matrix with scipy. Installing `fastcluster` may give better performance.\n",
      "  warnings.warn(msg)\n",
      "/home/isshamie/miniconda3/envs/mttrace/lib/python3.7/site-packages/seaborn/matrix.py:709: UserWarning: Attempting to set identical left == right == 0 results in singular transformations; automatically expanding.\n",
      "  ax.set_xlim(0, max_dependent_coord * 1.05)\n",
      "No handles with labels found to put in legend.\n"
     ]
    },
    {
     "name": "stdout",
     "output_type": "stream",
     "text": [
      "clustering\n",
      "cmap None\n",
      "clustering\n",
      "cmap None\n"
     ]
    },
    {
     "name": "stderr",
     "output_type": "stream",
     "text": [
      "/home/isshamie/miniconda3/envs/mttrace/lib/python3.7/site-packages/seaborn/matrix.py:654: UserWarning: Clustering large matrix with scipy. Installing `fastcluster` may give better performance.\n",
      "  warnings.warn(msg)\n",
      "No handles with labels found to put in legend.\n"
     ]
    },
    {
     "name": "stdout",
     "output_type": "stream",
     "text": [
      "clustering\n"
     ]
    }
   ],
   "source": [
    "mean_af = curr_labels.groupby([\"lineage\", \"condition\"]).apply(calc_mean, af=AF_df)\n",
    "anno = mean_af.reset_index()[[\"lineage\", \"condition\"]]\n",
    "\n",
    "#mean_dp = curr_labels.groupby([\"lineage\", \"condition\"]).apply(calc_mean, af=nlog2(DP_df))\n",
    "mean_dp = curr_labels.groupby([\"lineage\", \"condition\"]).apply(calc_mean, af=np.log2(DP_df+1))\n",
    "anno_dp = mean_dp.reset_index()[[\"lineage\", \"condition\"]]\n",
    "mean_dp = mean_dp.reset_index(drop=True)\n",
    "\n",
    "na_cells = curr_labels.loc[curr_labels[\"lineage\"].isnull()]\n",
    "na_mean_af = na_cells.groupby(\"condition\").apply(calc_mean, af=AF_df)\n",
    "\n",
    "if not (na_mean_af.shape[0] == 0):\n",
    "    print('na shape', na_mean_af.shape)\n",
    "    na_anno = pd.concat((anno,pd.DataFrame({\"lineage\":[\"None\", \"None\"], \"condition\":na_mean_af.index})), ignore_index=True)\n",
    "    na_concat = pd.concat((mean_af.reset_index(drop=True), na_mean_af.reset_index(drop=True)), ignore_index=True)\n",
    "    na_mean_dp = na_cells.groupby(\"condition\").apply(calc_mean, af=np.log2(DP_df+1))\n",
    "    na_dp_concat = pd.concat((mean_dp, na_mean_dp.reset_index(drop=True)), ignore_index=True)\n",
    "else:\n",
    "    na_anno = anno\n",
    "    na_concat = mean_af.reset_index(drop=True)\n",
    "    na_dp_concat = mean_dp\n",
    "     \n",
    "    \n",
    "################\n",
    "## Plotting\n",
    "################\n",
    "## 1.\n",
    "g1 = ch.plot_cluster((mean_af.reset_index(drop=True)), row_meta=anno, #curr_labels[[\"condition\", \"lineage\"]], \n",
    "                    to_row_clust=True, to_col_clust=True)\n",
    "g1.figure.suptitle(\"Donor allele-frequency heatmap with clone and condition labels (max AF=0.4)\")\n",
    "plt.legend(loc='center left', bbox_to_anchor=(1.1, 0.5))\n",
    "fu.helper_save(out_f+\".raw.clust.AF.png\", f=g1.figure)\n",
    "\n",
    "inds = g1.dendrogram_row.dendrogram[\"leaves\"]\n",
    "cols = g1.dendrogram_col.dendrogram[\"leaves\"]\n",
    "g1d = ch.plot_cluster(mean_dp.iloc[inds, cols], to_row_clust=False, to_col_clust=False, \n",
    "                        row_meta=anno_dp.iloc[inds])\n",
    "fu.helper_save(out_f+\".raw.clust.DP.png\", f=g1d.figure)\n",
    "\n",
    "\n",
    "# ## 2.\n",
    "g2 = ch.plot_cluster((mean_af.reset_index(drop=True)), row_meta=anno, #curr_labels[[\"condition\", \"lineage\"]], \n",
    "                    to_row_clust=True, to_col_clust=True, vmax=0.4, vmin=0)\n",
    "plt.legend(loc='center left', bbox_to_anchor=(1.1, 0.5))\n",
    "g2.figure.suptitle(\"Donor allele-frequency heatmap with clone and condition labels (max AF=0.4)\")\n",
    "fu.helper_save(out_f+\".raw.clust.max4.AF.png\")\n",
    "inds = g2.dendrogram_row.dendrogram[\"leaves\"]\n",
    "cols = g2.dendrogram_col.dendrogram[\"leaves\"]\n",
    "ch.plot_cluster(mean_dp.iloc[inds,cols], to_row_clust=False, to_col_clust=False, \n",
    "                        row_meta=anno_dp.iloc[inds])\n",
    "fu.helper_save(out_f+\".raw.clust.max4.DP.png\")\n",
    "\n",
    "\n",
    "## 3.\n",
    "g = ch.plot_cluster(na_concat, row_meta=na_anno, #curr_labels[[\"condition\", \"lineage\"]], \n",
    "                    to_row_clust=True, to_col_clust=True, vmax=0.2, vmin=0)\n",
    "plt.legend(loc='center left', bbox_to_anchor=(1.1, 0.5))\n",
    "plt.suptitle(\"Donor allele-frequency heatmap with clone and condition labels (max AF=0.2)\")\n",
    "fu.helper_save(out_f+\".na.clust.max2.AF.png\")\n",
    "\n",
    "inds = g.dendrogram_row.dendrogram[\"leaves\"]\n",
    "cols = g.dendrogram_col.dendrogram[\"leaves\"]\n",
    "ch.plot_cluster(na_dp_concat.iloc[inds,cols], to_row_clust=False, to_col_clust=False, \n",
    "                        row_meta=na_anno.iloc[inds])\n",
    "plt.suptitle(\"Donor read coverage heatmap with clone and condition labels \")\n",
    "fu.helper_save(out_f+\".na.clust.max2.DP.png\")\n",
    "\n",
    "\n",
    "# ## 4.\n",
    "g = ch.plot_cluster(np.sqrt(na_concat), row_meta=na_anno, #curr_labels[[\"condition\", \"lineage\"]], \n",
    "                    to_row_clust=False, to_col_clust=True, vmax=0.5, vmin=0)\n",
    "plt.legend(loc='center left', bbox_to_anchor=(1.1, 0.5))\n",
    "plt.suptitle(\"Donor sqrt allele-frequency heatmap with clone and condition labels (max AF=0.5)\")\n",
    "fu.helper_save(out_f+\".na.max5.AF.png\")\n",
    "#inds = g.dendrogram_row.dendrogram[\"leaves\"]\n",
    "cols = g.dendrogram_col.dendrogram[\"leaves\"]\n",
    "ch.plot_cluster(na_dp_concat.iloc[:,cols], to_row_clust=False, to_col_clust=False, \n",
    "                        row_meta=na_anno.iloc[inds])\n",
    "fu.helper_save(out_f+\".na.max5.DP.png\")\n",
    "\n",
    "#plt.close('all')"
   ]
  },
  {
   "cell_type": "code",
   "execution_count": null,
   "metadata": {},
   "outputs": [],
   "source": []
  },
  {
   "cell_type": "markdown",
   "metadata": {},
   "source": [
    "## Get variants and types of variants"
   ]
  }
 ],
 "metadata": {
  "celltoolbar": "Tags",
  "kernelspec": {
   "display_name": "Python 3 (ipykernel)",
   "language": "python",
   "name": "python3"
  },
  "language_info": {
   "codemirror_mode": {
    "name": "ipython",
    "version": 3
   },
   "file_extension": ".py",
   "mimetype": "text/x-python",
   "name": "python",
   "nbconvert_exporter": "python",
   "pygments_lexer": "ipython3",
   "version": "3.7.12"
  },
  "papermill": {
   "default_parameters": {},
   "duration": 5560.364131,
   "end_time": "2021-01-27T10:03:31.625455",
   "environment_variables": {},
   "exception": null,
   "input_path": "/data2/mito_lineage/src/vireo/vireoSNP_clones.ipynb",
   "output_path": "results/jan21_2021/chrM/P2_cellSNP_minC200_minAF0.01/lineage_chrM.ipynb",
   "parameters": {
    "AD_F": "data/jan21_2021/chrM/P2_cellSNP_minC200_minAF0.01/cellSNP.tag.AD.mtx",
    "DP_F": "data/jan21_2021/chrM/P2_cellSNP_minC200_minAF0.01/cellSNP.tag.DP.mtx"
   },
   "start_time": "2021-01-27T08:30:51.261324",
   "version": "2.2.0"
  }
 },
 "nbformat": 4,
 "nbformat_minor": 4
}
