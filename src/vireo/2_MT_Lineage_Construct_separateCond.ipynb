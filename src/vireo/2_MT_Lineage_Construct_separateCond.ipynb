{
 "cells": [
  {
   "cell_type": "markdown",
   "metadata": {
    "papermill": {
     "duration": 0.047745,
     "end_time": "2021-01-27T08:30:54.010679",
     "exception": false,
     "start_time": "2021-01-27T08:30:53.962934",
     "status": "completed"
    },
    "tags": []
   },
   "source": [
    "# Using vireo for multiplexing, followed by lineage tracing of those groups"
   ]
  },
  {
   "cell_type": "markdown",
   "metadata": {},
   "source": [
    "# 1. Set up"
   ]
  },
  {
   "cell_type": "code",
   "execution_count": 1,
   "metadata": {
    "ExecuteTime": {
     "end_time": "2021-06-04T17:43:43.984223Z",
     "start_time": "2021-06-04T17:43:43.979835Z"
    }
   },
   "outputs": [],
   "source": [
    "import os\n",
    "from scipy.sparse import csc_matrix\n",
    "\n",
    "os.chdir(\"/data2/mito_lineage/\")#Analysis/multiplex\")"
   ]
  },
  {
   "cell_type": "code",
   "execution_count": 2,
   "metadata": {
    "ExecuteTime": {
     "end_time": "2021-06-04T17:43:44.002330Z",
     "start_time": "2021-06-04T17:43:43.987777Z"
    }
   },
   "outputs": [],
   "source": [
    "# papermill --cwd /data2/mito_lineage -p INDIR {INDIR} -p OUTDIR data/processed/mttrace/CHIP_april08_2021_Croker/MTblacklist/merged/MT/cellr_True/numread_200/filters/minC10_minR50_topN0_hetT0.001_hetC10_hetCount5_bq20/filter_mgatk/vireoIn/clones -p  src/vireo/2_MT_Lineage_Construct.ipynb "
   ]
  },
  {
   "cell_type": "code",
   "execution_count": 3,
   "metadata": {
    "ExecuteTime": {
     "end_time": "2021-06-04T17:43:44.028790Z",
     "start_time": "2021-06-04T17:43:44.006245Z"
    },
    "scrolled": false
   },
   "outputs": [
    {
     "data": {
      "text/plain": [
       "'/data2/mito_lineage'"
      ]
     },
     "execution_count": 3,
     "metadata": {},
     "output_type": "execute_result"
    }
   ],
   "source": [
    "pwd"
   ]
  },
  {
   "cell_type": "markdown",
   "metadata": {},
   "source": [
    "### Remove this when running in snakemake"
   ]
  },
  {
   "cell_type": "markdown",
   "metadata": {},
   "source": [
    "## 1.1 Parameters"
   ]
  },
  {
   "cell_type": "code",
   "execution_count": 4,
   "metadata": {
    "ExecuteTime": {
     "end_time": "2021-06-04T17:43:44.036919Z",
     "start_time": "2021-06-04T17:43:44.032369Z"
    },
    "tags": [
     "parameters"
    ]
   },
   "outputs": [],
   "source": [
    "# INDIR=\"\"\n",
    "# OUTDIR=\"\"\n",
    "# N_DONORS=5\n",
    "\n",
    "# INDIR= \"data/processed/mttrace/TcellDupi_may17_2021/MTblacklist/merged/filters/minC10_minR50_topN0_hetT0.001_hetC10_hetCount5_bq20/filter_mgatk/vireoIn/multiplex\"\n",
    "# OUTDIR= \"data/processed/mttrace/TcellDupi_may17_2021/MTblacklist/merged/filters/minC10_minR50_topN0_hetT0.001_hetC10_hetCount5_bq20/filter_mgatk/vireoIn/clones/\"\n",
    "# N_DONORS=2\n",
    "DEBUG=True\n",
    "\n",
    "INDIR= \"data/processed/mttrace/TcellDupi_may17_2021/MTblacklist/merged/filters/minC10_minR50_topN0_hetT0.001_hetC10_hetCount5_bq20/filter_mgatk/vireoIn/multiplex\"\n",
    "OUTDIR = \"data/processed/mttrace/TcellDupi_may17_2021/MTblacklist/post/filters/minC10_minR50_topN0_hetT0.001_hetC10_hetCount5_bq20/filter_mgatk/vireoIn/clones\"\n",
    "N_DONORS=2\n",
    "exp=\"post\""
   ]
  },
  {
   "cell_type": "code",
   "execution_count": 5,
   "metadata": {
    "ExecuteTime": {
     "end_time": "2021-06-04T17:43:44.046913Z",
     "start_time": "2021-06-04T17:43:44.039867Z"
    }
   },
   "outputs": [],
   "source": [
    "# # Parameters\n",
    "# #INDIR=\"data/CHIP_april08_2021/MTblacklist/chrM/pseudo/minC200_minAF0.0001/numC25000_ispropFalse/\"\n",
    "# INDIR=\"\"\n",
    "# OUTDIR=\"\"\n",
    "# #OUTDIR=\"data/CHIP_april08_2021/MTblacklist/chrM/pseudo/minC200_minAF0.0001/numC25000_ispropFalse/lineages\"\n",
    "# N_DONORS=5"
   ]
  },
  {
   "cell_type": "markdown",
   "metadata": {},
   "source": [
    "## 1.2 Import packages"
   ]
  },
  {
   "cell_type": "code",
   "execution_count": 6,
   "metadata": {
    "ExecuteTime": {
     "end_time": "2021-06-04T17:51:34.448465Z",
     "start_time": "2021-06-04T17:51:34.198577Z"
    },
    "scrolled": false
   },
   "outputs": [
    {
     "name": "stderr",
     "output_type": "stream",
     "text": [
      "ic| vireoSNP.__version__: '0.5.6'\n"
     ]
    }
   ],
   "source": [
    "from os.path import join, exists, dirname\n",
    "from icecream import ic\n",
    "from glob import glob\n",
    "import mplh.cluster_help as ch\n",
    "import os\n",
    "from vireoSNP.plot.base_plot import heat_matrix\n",
    "from vireoSNP import Vireo\n",
    "import src.pseudo_batch as pb\n",
    "import vireoSNP\n",
    "ic(vireoSNP.__version__)\n",
    "from tqdm import tqdm\n",
    "import numpy as np\n",
    "from scipy import sparse\n",
    "from scipy.io import mmread\n",
    "import matplotlib.pyplot as plt\n",
    "import pandas as pd\n",
    "import seaborn as sns\n",
    "from src.vireo.vireo_utils import run_vireo, plot_vireo_out, extract_clusters, run_elbo, separate_donors\n",
    "%load_ext autoreload\n",
    "%autoreload 2\n",
    "from src.vireo.vireo_utils import run_lineage\n",
    "#np.set_icoptions(formatter={'float': lambda x: format(x, '.5f')})"
   ]
  },
  {
   "cell_type": "code",
   "execution_count": 7,
   "metadata": {},
   "outputs": [],
   "source": [
    "from src.utils.data_io import load_mtx_df"
   ]
  },
  {
   "cell_type": "code",
   "execution_count": 8,
   "metadata": {},
   "outputs": [],
   "source": [
    "if not DEBUG:\n",
    "    ic.disable()\n"
   ]
  },
  {
   "cell_type": "markdown",
   "metadata": {},
   "source": [
    "# 2 Lineage construction for each donor. Filter by exp"
   ]
  },
  {
   "cell_type": "code",
   "execution_count": 9,
   "metadata": {
    "ExecuteTime": {
     "end_time": "2021-06-04T17:43:46.649280Z",
     "start_time": "2021-06-04T17:43:46.610964Z"
    }
   },
   "outputs": [],
   "source": [
    "# num_cores = 12# N_DONORS #multiprocessing.cpu_count()\n",
    "# inputs = tqdm(np.arange(N_DONORS))\n",
    "# for n in np.arange(N_DONORS):\n",
    "#     ic('n', n)\n",
    "#     run_lineage(n, INDIR, OUTDIR, n_clone_list=[5, 10, 20, 40, 100], rerun_model=False)"
   ]
  },
  {
   "cell_type": "code",
   "execution_count": 10,
   "metadata": {
    "ExecuteTime": {
     "end_time": "2021-06-04T17:43:46.691389Z",
     "start_time": "2021-06-04T17:43:46.653028Z"
    }
   },
   "outputs": [],
   "source": [
    "n_clone_list=[20, 40, 100]"
   ]
  },
  {
   "cell_type": "code",
   "execution_count": 11,
   "metadata": {
    "ExecuteTime": {
     "end_time": "2021-06-04T17:43:46.792143Z",
     "start_time": "2021-06-04T17:43:46.694972Z"
    },
    "scrolled": true
   },
   "outputs": [
    {
     "data": {
      "text/html": [
       "<div>\n",
       "<style scoped>\n",
       "    .dataframe tbody tr th:only-of-type {\n",
       "        vertical-align: middle;\n",
       "    }\n",
       "\n",
       "    .dataframe tbody tr th {\n",
       "        vertical-align: top;\n",
       "    }\n",
       "\n",
       "    .dataframe thead th {\n",
       "        text-align: right;\n",
       "    }\n",
       "</style>\n",
       "<table border=\"1\" class=\"dataframe\">\n",
       "  <thead>\n",
       "    <tr style=\"text-align: right;\">\n",
       "      <th></th>\n",
       "      <th>new index</th>\n",
       "      <th>ID</th>\n",
       "      <th>raw ID</th>\n",
       "      <th>condition</th>\n",
       "      <th>donor</th>\n",
       "      <th>donor_index</th>\n",
       "    </tr>\n",
       "  </thead>\n",
       "  <tbody>\n",
       "    <tr>\n",
       "      <th>5538</th>\n",
       "      <td>5539</td>\n",
       "      <td>AAACGAAAGAACAGGA-1_post</td>\n",
       "      <td>AAACGAAAGAACAGGA-1</td>\n",
       "      <td>post</td>\n",
       "      <td>1</td>\n",
       "      <td>2721</td>\n",
       "    </tr>\n",
       "    <tr>\n",
       "      <th>5539</th>\n",
       "      <td>5540</td>\n",
       "      <td>AAACGAAAGATTGACA-1_post</td>\n",
       "      <td>AAACGAAAGATTGACA-1</td>\n",
       "      <td>post</td>\n",
       "      <td>1</td>\n",
       "      <td>2722</td>\n",
       "    </tr>\n",
       "    <tr>\n",
       "      <th>5540</th>\n",
       "      <td>5541</td>\n",
       "      <td>AAACGAAAGCGTTGCC-1_post</td>\n",
       "      <td>AAACGAAAGCGTTGCC-1</td>\n",
       "      <td>post</td>\n",
       "      <td>0</td>\n",
       "      <td>2614</td>\n",
       "    </tr>\n",
       "    <tr>\n",
       "      <th>5541</th>\n",
       "      <td>5542</td>\n",
       "      <td>AAACGAAAGGTACTCT-1_post</td>\n",
       "      <td>AAACGAAAGGTACTCT-1</td>\n",
       "      <td>post</td>\n",
       "      <td>1</td>\n",
       "      <td>2723</td>\n",
       "    </tr>\n",
       "    <tr>\n",
       "      <th>5542</th>\n",
       "      <td>5543</td>\n",
       "      <td>AAACGAAAGGTTAACA-1_post</td>\n",
       "      <td>AAACGAAAGGTTAACA-1</td>\n",
       "      <td>post</td>\n",
       "      <td>0</td>\n",
       "      <td>2615</td>\n",
       "    </tr>\n",
       "    <tr>\n",
       "      <th>...</th>\n",
       "      <td>...</td>\n",
       "      <td>...</td>\n",
       "      <td>...</td>\n",
       "      <td>...</td>\n",
       "      <td>...</td>\n",
       "      <td>...</td>\n",
       "    </tr>\n",
       "    <tr>\n",
       "      <th>15584</th>\n",
       "      <td>15585</td>\n",
       "      <td>TTTGTGTTCCGGAAAG-1_post</td>\n",
       "      <td>TTTGTGTTCCGGAAAG-1</td>\n",
       "      <td>post</td>\n",
       "      <td>1</td>\n",
       "      <td>8015</td>\n",
       "    </tr>\n",
       "    <tr>\n",
       "      <th>15585</th>\n",
       "      <td>15586</td>\n",
       "      <td>TTTGTGTTCCTGACCT-1_post</td>\n",
       "      <td>TTTGTGTTCCTGACCT-1</td>\n",
       "      <td>post</td>\n",
       "      <td>1</td>\n",
       "      <td>8016</td>\n",
       "    </tr>\n",
       "    <tr>\n",
       "      <th>15586</th>\n",
       "      <td>15587</td>\n",
       "      <td>TTTGTGTTCGGATGTT-1_post</td>\n",
       "      <td>TTTGTGTTCGGATGTT-1</td>\n",
       "      <td>post</td>\n",
       "      <td>0</td>\n",
       "      <td>6745</td>\n",
       "    </tr>\n",
       "    <tr>\n",
       "      <th>15587</th>\n",
       "      <td>15588</td>\n",
       "      <td>TTTGTGTTCTTAATCC-1_post</td>\n",
       "      <td>TTTGTGTTCTTAATCC-1</td>\n",
       "      <td>post</td>\n",
       "      <td>1</td>\n",
       "      <td>8017</td>\n",
       "    </tr>\n",
       "    <tr>\n",
       "      <th>15588</th>\n",
       "      <td>15589</td>\n",
       "      <td>TTTGTGTTCTTGCGCT-1_post</td>\n",
       "      <td>TTTGTGTTCTTGCGCT-1</td>\n",
       "      <td>post</td>\n",
       "      <td>0</td>\n",
       "      <td>6746</td>\n",
       "    </tr>\n",
       "  </tbody>\n",
       "</table>\n",
       "<p>10051 rows × 6 columns</p>\n",
       "</div>"
      ],
      "text/plain": [
       "       new index                       ID              raw ID condition  \\\n",
       "5538        5539  AAACGAAAGAACAGGA-1_post  AAACGAAAGAACAGGA-1      post   \n",
       "5539        5540  AAACGAAAGATTGACA-1_post  AAACGAAAGATTGACA-1      post   \n",
       "5540        5541  AAACGAAAGCGTTGCC-1_post  AAACGAAAGCGTTGCC-1      post   \n",
       "5541        5542  AAACGAAAGGTACTCT-1_post  AAACGAAAGGTACTCT-1      post   \n",
       "5542        5543  AAACGAAAGGTTAACA-1_post  AAACGAAAGGTTAACA-1      post   \n",
       "...          ...                      ...                 ...       ...   \n",
       "15584      15585  TTTGTGTTCCGGAAAG-1_post  TTTGTGTTCCGGAAAG-1      post   \n",
       "15585      15586  TTTGTGTTCCTGACCT-1_post  TTTGTGTTCCTGACCT-1      post   \n",
       "15586      15587  TTTGTGTTCGGATGTT-1_post  TTTGTGTTCGGATGTT-1      post   \n",
       "15587      15588  TTTGTGTTCTTAATCC-1_post  TTTGTGTTCTTAATCC-1      post   \n",
       "15588      15589  TTTGTGTTCTTGCGCT-1_post  TTTGTGTTCTTGCGCT-1      post   \n",
       "\n",
       "       donor  donor_index  \n",
       "5538       1         2721  \n",
       "5539       1         2722  \n",
       "5540       0         2614  \n",
       "5541       1         2723  \n",
       "5542       0         2615  \n",
       "...      ...          ...  \n",
       "15584      1         8015  \n",
       "15585      1         8016  \n",
       "15586      0         6745  \n",
       "15587      1         8017  \n",
       "15588      0         6746  \n",
       "\n",
       "[10051 rows x 6 columns]"
      ]
     },
     "execution_count": 11,
     "metadata": {},
     "output_type": "execute_result"
    }
   ],
   "source": [
    "cells_meta = pd.read_csv(join(INDIR, f\"cells_meta.tsv\"), sep='\\t')\n",
    "\n",
    "cells_meta=cells_meta.astype({\"donor_index\": \"Int64\", \"donor\": \"Int64\"})\n",
    "cells_meta = cells_meta[cells_meta[\"condition\"]==exp]\n",
    "cells_meta"
   ]
  },
  {
   "cell_type": "code",
   "execution_count": 12,
   "metadata": {
    "scrolled": true
   },
   "outputs": [
    {
     "name": "stderr",
     "output_type": "stream",
     "text": [
      "/data/isshamie/software/anaconda3/envs/mito_trace/lib/python3.6/site-packages/seaborn/_decorators.py:43: FutureWarning: Pass the following variable as a keyword arg: x. From version 0.12, the only valid positional argument will be `data`, and passing other arguments without an explicit keyword will result in an error or misinterpretation.\n",
      "  FutureWarning\n"
     ]
    },
    {
     "data": {
      "text/plain": [
       "<AxesSubplot:xlabel='donor', ylabel='count'>"
      ]
     },
     "execution_count": 12,
     "metadata": {},
     "output_type": "execute_result"
    },
    {
     "data": {
      "image/png": "[encoded data removed]",
      "text/plain": [
       "<Figure size 432x288 with 1 Axes>"
      ]
     },
     "metadata": {
      "needs_background": "light"
     },
     "output_type": "display_data"
    }
   ],
   "source": [
    "sns.countplot(cells_meta[\"donor\"].fillna(-1))"
   ]
  },
  {
   "cell_type": "code",
   "execution_count": 13,
   "metadata": {
    "scrolled": false
   },
   "outputs": [
    {
     "name": "stderr",
     "output_type": "stream",
     "text": [
      "ic| curr_ad_f: 'data/processed/mttrace/TcellDupi_may17_2021/MTblacklist/merged/filters/minC10_minR50_topN0_hetT0.001_hetC10_hetCount5_bq20/filter_mgatk/vireoIn/multiplex/donor0.AD.mtx'\n",
      "ic| curr_dp_f: 'data/processed/mttrace/TcellDupi_may17_2021/MTblacklist/merged/filters/minC10_minR50_topN0_hetT0.001_hetC10_hetCount5_bq20/filter_mgatk/vireoIn/multiplex/donor0.DP.mtx'\n"
     ]
    },
    {
     "name": "stdout",
     "output_type": "stream",
     "text": [
      "clone: [20] donor: 0\n"
     ]
    },
    {
     "name": "stderr",
     "output_type": "stream",
     "text": [
      "ic| curr_ad.shape: (90723, 3)\n",
      "ic| 'Before filtering'\n",
      "ic| cells_meta.shape: (4133, 6)\n",
      "ic| 'After filtering'\n",
      "ic| cells_meta.shape: (4133, 7)\n",
      "ic| allAD.shape: (1425, 4133)\n",
      "ic| len(curr_dp[\"Cell\"].unique())-len(keep_inds): 0\n",
      "ic| cells_meta.shape: (4133, 9)\n",
      "ic| len(curr_dp[\"Cell\"].unique())-len(keep_inds): 0\n",
      "ic| cells_meta.shape: (4133, 9)\n",
      "ic|"
     ]
    },
    {
     "name": "stdout",
     "output_type": "stream",
     "text": [
      "lineage 0: 15 cells \n",
      "(364, 3)\n",
      "(364, 3)\n",
      "donor0_lineage0\n",
      "lineage 1: 74 cells \n",
      "(1759, 3)\n",
      "(1759, 3)\n",
      "donor0_lineage1\n"
     ]
    },
    {
     "name": "stderr",
     "output_type": "stream",
     "text": [
      " len(curr_dp[\"Cell\"].unique())-len(keep_inds): 0\n",
      "ic| cells_meta.shape: (4133, 9)\n",
      "ic| len(curr_dp[\"Cell\"].unique())-len(keep_inds): 0\n",
      "ic| cells_meta.shape: (4133, 9)\n"
     ]
    },
    {
     "name": "stdout",
     "output_type": "stream",
     "text": [
      "lineage 2: 11 cells \n",
      "(288, 3)\n",
      "(288, 3)\n",
      "donor0_lineage2\n",
      "lineage 3: 10 cells \n",
      "(211, 3)\n",
      "(211, 3)\n",
      "donor0_lineage3\n"
     ]
    },
    {
     "name": "stderr",
     "output_type": "stream",
     "text": [
      "ic| len(curr_dp[\"Cell\"].unique())-len(keep_inds): 0\n",
      "ic| cells_meta.shape: (4133, 9)\n",
      "ic| len(curr_dp[\"Cell\"].unique())-len(keep_inds): 0\n",
      "ic| cells_meta.shape: (4133, 9)\n"
     ]
    },
    {
     "name": "stdout",
     "output_type": "stream",
     "text": [
      "lineage 4: 121 cells \n",
      "(2793, 3)\n",
      "(2793, 3)\n",
      "donor0_lineage4\n",
      "lineage 5: 10 cells \n",
      "(246, 3)\n",
      "(246, 3)\n",
      "donor0_lineage5\n"
     ]
    },
    {
     "name": "stderr",
     "output_type": "stream",
     "text": [
      "ic| len(curr_dp[\"Cell\"].unique())-len(keep_inds): 0\n",
      "ic| cells_meta.shape: (4133, 9)\n",
      "ic| len(curr_dp[\"Cell\"].unique())-len(keep_inds): 0\n",
      "ic| cells_meta.shape: (4133, 9)\n",
      "ic| len(curr_dp[\"Cell\"].unique())-len(keep_inds): 0\n"
     ]
    },
    {
     "name": "stdout",
     "output_type": "stream",
     "text": [
      "lineage 6: 32 cells \n",
      "(743, 3)\n",
      "(743, 3)\n",
      "donor0_lineage6\n",
      "lineage 7: 7 cells \n",
      "(169, 3)\n",
      "(169, 3)\n",
      "donor0_lineage7\n"
     ]
    },
    {
     "name": "stderr",
     "output_type": "stream",
     "text": [
      "ic| cells_meta.shape: (4133, 9)\n",
      "ic| len(curr_dp[\"Cell\"].unique())-len(keep_inds): 0\n",
      "ic| cells_meta.shape: (4133, 9)\n",
      "ic| len(curr_dp[\"Cell\"].unique("
     ]
    },
    {
     "name": "stdout",
     "output_type": "stream",
     "text": [
      "lineage 8: 19 cells \n",
      "(467, 3)\n",
      "(467, 3)\n",
      "donor0_lineage8\n",
      "lineage 9: 13 cells \n",
      "(276, 3)\n",
      "(276, 3)\n",
      "donor0_lineage9\n"
     ]
    },
    {
     "name": "stderr",
     "output_type": "stream",
     "text": [
      "))-len(keep_inds): 0\n",
      "ic| cells_meta.shape: (4133, 9)\n",
      "ic| len(curr_dp[\"Cell\"].unique())-len(keep_inds): 0\n",
      "ic| cells_meta.shape: (4133, 9)\n",
      "ic| len(curr_dp[\"Cell\"].unique())-len(keep_inds): 0\n"
     ]
    },
    {
     "name": "stdout",
     "output_type": "stream",
     "text": [
      "lineage 10: 11 cells \n",
      "(250, 3)\n",
      "(250, 3)\n",
      "donor0_lineage10\n",
      "lineage 11: 7 cells \n",
      "(176, 3)\n",
      "(176, 3)\n",
      "donor0_lineage11\n"
     ]
    },
    {
     "name": "stderr",
     "output_type": "stream",
     "text": [
      "ic| cells_meta.shape: (4133, 9)\n",
      "ic| len(curr_dp[\"Cell\"].unique())-len(keep_inds): 0\n",
      "ic| cells_meta.shape: (4133, 9)\n"
     ]
    },
    {
     "name": "stdout",
     "output_type": "stream",
     "text": [
      "lineage 12: 6 cells \n",
      "(159, 3)\n",
      "(159, 3)\n",
      "donor0_lineage12\n",
      "lineage 13: 20 cells \n",
      "(473, 3)\n",
      "(473, 3)\n",
      "donor0_lineage13\n"
     ]
    },
    {
     "name": "stderr",
     "output_type": "stream",
     "text": [
      "ic| len(curr_dp[\"Cell\"].unique())-len(keep_inds): 0\n",
      "ic| cells_meta.shape: (4133, 9)\n",
      "ic| len(curr_dp[\"Cell\"].unique())-len(keep_inds): 0\n",
      "ic| cells_meta.shape: (4133, 9)\n"
     ]
    },
    {
     "name": "stdout",
     "output_type": "stream",
     "text": [
      "lineage 14: 19 cells \n",
      "(483, 3)\n",
      "(483, 3)\n",
      "donor0_lineage14\n",
      "lineage 15: 4 cells \n",
      "(101, 3)\n",
      "(101, 3)\n",
      "donor0_lineage15\n"
     ]
    },
    {
     "name": "stderr",
     "output_type": "stream",
     "text": [
      "ic| len(curr_dp[\"Cell\"].unique())-len(keep_inds): 0\n",
      "ic| cells_meta.shape: (4133, 9)\n",
      "ic| len(curr_dp[\"Cell\"].unique())-len(keep_inds): 0\n",
      "ic| cells_meta.shape: (4133, 9)\n"
     ]
    },
    {
     "name": "stdout",
     "output_type": "stream",
     "text": [
      "lineage 16: 24 cells \n",
      "(560, 3)\n",
      "(560, 3)\n",
      "donor0_lineage16\n",
      "lineage 17: 131 cells \n",
      "(3005, 3)\n",
      "(3005, 3)\n",
      "donor0_lineage17\n"
     ]
    },
    {
     "name": "stderr",
     "output_type": "stream",
     "text": [
      "ic| len(curr_dp[\"Cell\"].unique())-len(keep_inds): 0\n",
      "ic| cells_meta.shape: (4133, 9)\n",
      "ic| len(curr_dp[\"Cell\"].unique())-len(keep_inds): 0\n",
      "ic| cells_meta.shape: (4133, 9)\n"
     ]
    },
    {
     "name": "stdout",
     "output_type": "stream",
     "text": [
      "lineage 18: 6 cells \n",
      "(159, 3)\n",
      "(159, 3)\n",
      "donor0_lineage18\n",
      "lineage 19: 217 cells \n",
      "(4818, 3)\n",
      "(4818, 3)\n",
      "donor0_lineage19\n"
     ]
    },
    {
     "name": "stderr",
     "output_type": "stream",
     "text": [
      "ic| lin_cells_meta.head():    index  new index                       ID              raw ID condition  \\\n",
      "                           0      0       5541  AAACGAAAGCGTTGCC-1_post  AAACGAAAGCGTTGCC-1      post   \n",
      "                           1      1       5543  AAACGAAAGGTTAACA-1_post  AAACGAAAGGTTAACA-1      post   \n",
      "                           2      2       5547  AAACGAAAGTGCTAGG-1_post  AAACGAAAGTGCTAGG-1      post   \n",
      "                           3      3       5553  AAACGAACATAGAATG-1_post  AAACGAACATAGAATG-1      post   \n",
      "                           4      4       5554  AAACGAACATCCCAAA-1_post  AAACGAACATCCCAAA-1      post   \n",
      "                           \n",
      "                              donor  donor_index  lineage  lineage_index  \n",
      "                           0      0         2614      NaN            NaN  \n",
      "                           1      0         2615      NaN            NaN  \n",
      "                           2      0         2616      NaN            NaN  \n",
      "                           3      0         2617      NaN            NaN  \n",
      "                           4      0         2618      NaN            NaN  \n",
      "ic| lin_cells_meta.shape: (4133, 9)\n",
      "ic| 'Plotting AF SNPs'\n"
     ]
    },
    {
     "name": "stdout",
     "output_type": "stream",
     "text": [
      "     condition  lineage\n",
      "3416      post       -1\n",
      "159       post       17\n",
      "502       post       -1\n",
      "1499      post       -1\n",
      "3950      post       -1\n",
      "clustering\n",
      "cmap Oranges\n",
      "AF_SNPs shape (1425, 20)\n",
      "clustering\n",
      "cmap Blues\n"
     ]
    },
    {
     "name": "stderr",
     "output_type": "stream",
     "text": [
      "ic| curr_ad_f: 'data/processed/mttrace/TcellDupi_may17_2021/MTblacklist/merged/filters/minC10_minR50_topN0_hetT0.001_hetC10_hetCount5_bq20/filter_mgatk/vireoIn/multiplex/donor1.AD.mtx'\n",
      "ic| curr_dp_f: 'data/processed/mttrace/TcellDupi_may17_2021/MTblacklist/merged/filters/minC10_minR50_topN0_hetT0.001_hetC10_hetCount5_bq20/filter_mgatk/vireoIn/multiplex/donor1.DP.mtx'\n"
     ]
    },
    {
     "name": "stdout",
     "output_type": "stream",
     "text": [
      "clone: [20] donor: 1\n"
     ]
    },
    {
     "name": "stderr",
     "output_type": "stream",
     "text": [
      "ic| curr_ad.shape: (140489, 3)\n",
      "ic| 'Before filtering'\n",
      "ic| cells_meta.shape: (5297, 6)\n",
      "ic| 'After filtering'\n",
      "ic| cells_meta.shape: (5297, 7)\n",
      "ic| allAD.shape: (1428, 5297)\n",
      "ic| len(curr_dp[\"Cell\"].unique())-len(keep_inds): 0\n",
      "ic| cells_meta.shape: (5297, 9)\n",
      "ic| len(curr_dp[\"Cell\"].unique())-len(keep_inds): 0\n",
      "ic| cells_meta.shape: (5297, 9)\n",
      "ic| len(curr_dp[\"Cell\"].unique())-len(keep_inds): 0\n"
     ]
    },
    {
     "name": "stdout",
     "output_type": "stream",
     "text": [
      "lineage 0: 16 cells \n",
      "(471, 3)\n",
      "(471, 3)\n",
      "donor1_lineage0\n",
      "lineage 1: 32 cells \n",
      "(899, 3)\n",
      "(899, 3)\n",
      "donor1_lineage1\n"
     ]
    },
    {
     "name": "stderr",
     "output_type": "stream",
     "text": [
      "ic| cells_meta.shape: (5297, 9)\n",
      "ic| len(curr_dp[\"Cell\"].unique())-len(keep_inds): 0\n",
      "ic| cells_meta.shape: (5297, 9)\n"
     ]
    },
    {
     "name": "stdout",
     "output_type": "stream",
     "text": [
      "lineage 2: 2 cells \n",
      "(71, 3)\n",
      "(71, 3)\n",
      "donor1_lineage2\n",
      "lineage 3: 204 cells \n",
      "(5542, 3)\n",
      "(5542, 3)\n",
      "donor1_lineage3\n"
     ]
    },
    {
     "name": "stderr",
     "output_type": "stream",
     "text": [
      "ic| len(curr_dp[\"Cell\"].unique())-len(keep_inds): 0\n",
      "ic| cells_meta.shape: (5297, 9)\n",
      "ic| len(curr_dp[\"Cell\"].unique())-len(keep_inds): 0\n",
      "ic| cells_meta.shape: (5297, 9)\n"
     ]
    },
    {
     "name": "stdout",
     "output_type": "stream",
     "text": [
      "lineage 4: 12 cells \n",
      "(303, 3)\n",
      "(303, 3)\n",
      "donor1_lineage4\n",
      "lineage 5: 213 cells \n",
      "(5950, 3)\n",
      "(5950, 3)\n",
      "donor1_lineage5\n"
     ]
    },
    {
     "name": "stderr",
     "output_type": "stream",
     "text": [
      "ic| len(curr_dp[\"Cell\"].unique())-len(keep_inds): 0\n",
      "ic| cells_meta.shape: (5297, 9)\n",
      "ic| len(curr_dp[\"Cell\"].unique())-len(keep_inds): 0\n",
      "ic| cells_meta.shape: (5297, 9)\n",
      "ic| len(curr_dp[\"Cell\"].unique())-len(keep_inds)"
     ]
    },
    {
     "name": "stdout",
     "output_type": "stream",
     "text": [
      "lineage 6: 13 cells \n",
      "(393, 3)\n",
      "(393, 3)\n",
      "donor1_lineage6\n",
      "lineage 7: 6 cells \n",
      "(173, 3)\n",
      "(173, 3)\n",
      "donor1_lineage7\n"
     ]
    },
    {
     "name": "stderr",
     "output_type": "stream",
     "text": [
      ": 0\n",
      "ic| cells_meta.shape: (5297, 9)\n",
      "ic| len(curr_dp[\"Cell\"].unique())-len(keep_inds): 0\n",
      "ic| cells_meta.shape: (5297, 9)\n",
      "ic|"
     ]
    },
    {
     "name": "stdout",
     "output_type": "stream",
     "text": [
      "lineage 8: 224 cells \n",
      "(6088, 3)\n",
      "(6088, 3)\n",
      "donor1_lineage8\n",
      "lineage 9: 47 cells \n",
      "(1402, 3)\n",
      "(1402, 3)\n",
      "donor1_lineage9\n"
     ]
    },
    {
     "name": "stderr",
     "output_type": "stream",
     "text": [
      " len(curr_dp[\"Cell\"].unique())-len(keep_inds): 0\n",
      "ic| cells_meta.shape: (5297, 9)\n",
      "ic| len(curr_dp[\"Cell\"].unique())-len(keep_inds): 0\n",
      "ic| cells_meta.shape: (5297, 9)\n",
      "ic| len(curr_dp[\"Cell\"].unique())-len(keep_inds): "
     ]
    },
    {
     "name": "stdout",
     "output_type": "stream",
     "text": [
      "lineage 10: 4 cells \n",
      "(128, 3)\n",
      "(128, 3)\n",
      "donor1_lineage10\n",
      "lineage 11: 7 cells \n",
      "(208, 3)\n",
      "(208, 3)\n",
      "donor1_lineage11\n"
     ]
    },
    {
     "name": "stderr",
     "output_type": "stream",
     "text": [
      "0\n",
      "ic| cells_meta.shape: (5297, 9)\n",
      "ic| len(curr_dp[\"Cell\"].unique())-len(keep_inds): 0\n",
      "ic| cells_meta.shape: (5297, 9)\n",
      "ic| len(curr_dp[\"Cell\"].unique())-len(keep_inds): 0\n",
      "ic| cells_meta.shape: (5297, 9)\n"
     ]
    },
    {
     "name": "stdout",
     "output_type": "stream",
     "text": [
      "lineage 12: 24 cells \n",
      "(719, 3)\n",
      "(719, 3)\n",
      "donor1_lineage12\n",
      "lineage 13: 9 cells \n",
      "(256, 3)\n",
      "(256, 3)\n",
      "donor1_lineage13\n"
     ]
    },
    {
     "name": "stderr",
     "output_type": "stream",
     "text": [
      "ic| len(curr_dp[\"Cell\"].unique())-len(keep_inds): 0\n",
      "ic| cells_meta.shape: (5297, 9)\n"
     ]
    },
    {
     "name": "stdout",
     "output_type": "stream",
     "text": [
      "lineage 14: 7 cells \n",
      "(198, 3)\n",
      "(198, 3)\n",
      "donor1_lineage14\n",
      "lineage 15: 60 cells \n",
      "(1663, 3)\n",
      "(1663, 3)\n",
      "donor1_lineage15\n"
     ]
    },
    {
     "name": "stderr",
     "output_type": "stream",
     "text": [
      "ic| len(curr_dp[\"Cell\"].unique())-len(keep_inds): 0\n",
      "ic| cells_meta.shape: (5297, 9)\n",
      "ic| len(curr_dp[\"Cell\"].unique())-len(keep_inds): 0\n",
      "ic| cells_meta.shape: (5297, 9)\n"
     ]
    },
    {
     "name": "stdout",
     "output_type": "stream",
     "text": [
      "lineage 16: 220 cells \n",
      "(5848, 3)\n",
      "(5848, 3)\n",
      "donor1_lineage16\n",
      "lineage 17: 13 cells \n",
      "(345, 3)\n",
      "(345, 3)\n",
      "donor1_lineage17\n"
     ]
    },
    {
     "name": "stderr",
     "output_type": "stream",
     "text": [
      "ic| len(curr_dp[\"Cell\"].unique())-len(keep_inds): 0\n",
      "ic| cells_meta.shape: (5297, 9)\n",
      "ic| len(curr_dp[\"Cell\"].unique())-len(keep_inds): 0\n",
      "ic| cells_meta.shape: (5297, 9)\n"
     ]
    },
    {
     "name": "stdout",
     "output_type": "stream",
     "text": [
      "lineage 18: 1 cells \n",
      "(25, 3)\n",
      "(25, 3)\n",
      "donor1_lineage18\n",
      "lineage 19: 13 cells \n",
      "(385, 3)\n",
      "(385, 3)\n",
      "donor1_lineage19\n"
     ]
    },
    {
     "name": "stderr",
     "output_type": "stream",
     "text": [
      "ic| lin_cells_meta.head():    index  new index                       ID              raw ID condition  \\\n",
      "                           0      0       5539  AAACGAAAGAACAGGA-1_post  AAACGAAAGAACAGGA-1      post   \n",
      "                           1      1       5540  AAACGAAAGATTGACA-1_post  AAACGAAAGATTGACA-1      post   \n",
      "                           2      2       5542  AAACGAAAGGTACTCT-1_post  AAACGAAAGGTACTCT-1      post   \n",
      "                           3      3       5544  AAACGAAAGTAGAAGG-1_post  AAACGAAAGTAGAAGG-1      post   \n",
      "                           4      4       5545  AAACGAAAGTAGTGTA-1_post  AAACGAAAGTAGTGTA-1      post   \n",
      "                           \n",
      "                              donor  donor_index  lineage  lineage_index  \n",
      "                           0      1         2721      NaN            NaN  \n",
      "                           1      1         2722      NaN            NaN  \n",
      "                           2      1         2723      NaN            NaN  \n",
      "                           3      1         2724      NaN            NaN  \n",
      "                           4      1         2725      NaN            NaN  \n",
      "ic| lin_cells_meta.shape: (5297, 9)\n",
      "ic| 'Plotting AF SNPs'\n"
     ]
    },
    {
     "name": "stdout",
     "output_type": "stream",
     "text": [
      "     condition  lineage\n",
      "573       post       -1\n",
      "2173      post       -1\n",
      "1185      post       -1\n",
      "1143      post       -1\n",
      "4353      post       -1\n",
      "clustering\n",
      "cmap Oranges\n",
      "AF_SNPs shape (1428, 20)\n",
      "clustering\n",
      "cmap Blues\n"
     ]
    },
    {
     "name": "stderr",
     "output_type": "stream",
     "text": [
      "ic| all_cells_meta.head():    index  new index                       ID              raw ID condition  \\\n",
      "                           0      0       5541  AAACGAAAGCGTTGCC-1_post  AAACGAAAGCGTTGCC-1      post   \n",
      "                           1      1       5543  AAACGAAAGGTTAACA-1_post  AAACGAAAGGTTAACA-1      post   \n",
      "                           2      2       5547  AAACGAAAGTGCTAGG-1_post  AAACGAAAGTGCTAGG-1      post   \n",
      "                           3      3       5553  AAACGAACATAGAATG-1_post  AAACGAACATAGAATG-1      post   \n",
      "                           4      4       5554  AAACGAACATCCCAAA-1_post  AAACGAACATCCCAAA-1      post   \n",
      "                           \n",
      "                              donor  donor_index  lineage  lineage_index  \n",
      "                           0      0         2614     <NA>           <NA>  \n",
      "                           1      0         2615     <NA>           <NA>  \n",
      "                           2      0         2616     <NA>           <NA>  \n",
      "                           3      0         2617     <NA>           <NA>  \n",
      "                           4      0         2618     <NA>           <NA>  \n",
      "ic| all_cells_meta.shape: (9430, 9)\n"
     ]
    },
    {
     "data": {
      "image/png": "[encoded data removed]",
      "text/plain": [
       "<Figure size 792x288 with 2 Axes>"
      ]
     },
     "metadata": {
      "needs_background": "light"
     },
     "output_type": "display_data"
    },
    {
     "data": {
      "image/png": "[encoded data removed]",
      "text/plain": [
       "<Figure size 720x720 with 5 Axes>"
      ]
     },
     "metadata": {
      "needs_background": "light"
     },
     "output_type": "display_data"
    },
    {
     "data": {
      "image/png": "[encoded data removed]",
      "text/plain": [
       "<Figure size 792x288 with 2 Axes>"
      ]
     },
     "metadata": {
      "needs_background": "light"
     },
     "output_type": "display_data"
    },
    {
     "data": {
      "image/png": "[encoded data removed]",
      "text/plain": [
       "<Figure size 720x720 with 5 Axes>"
      ]
     },
     "metadata": {
      "needs_background": "light"
     },
     "output_type": "display_data"
    }
   ],
   "source": [
    "indir, outdir, n_donors, n_clone_list, cells_meta = INDIR, OUTDIR, N_DONORS, n_clone_list, cells_meta\n",
    "n_clone_list = [20]\n",
    "for clone in n_clone_list:\n",
    "    cells_meta_col = f\"lineage{clone}\"\n",
    "    curr_outdir = join(outdir, cells_meta_col)\n",
    "    if not exists(curr_outdir):\n",
    "        os.mkdir(curr_outdir)\n",
    "\n",
    "    all_cells_meta = [] #concat across donors\n",
    "\n",
    "    for donor in np.arange(n_donors):\n",
    "        print(f'clone: {n_clone_list} donor: {donor}')\n",
    "        curr_cells_meta = cells_meta.copy()\n",
    "        curr_cells_meta = curr_cells_meta[curr_cells_meta[\"donor\"] == donor].sort_values('donor_index').reset_index(drop=True)\n",
    "        \n",
    "        curr_ad_f = join(indir, f\"donor{donor}.AD.mtx\")\n",
    "        curr_dp_f = join(indir, f\"donor{donor}.DP.mtx\")\n",
    "        #curr_labels_f = join(indir, f\"donor{donor}.labels.txt\")\n",
    "        curr_vcf_f = join(indir, f\"donor{donor}.vcf\")\n",
    "        #curr_labels_rawID = join(indir, f\"cell_labels.donor{donor}.txt\")\n",
    "        prefix=f\"donor{donor}_\"\n",
    "\n",
    "        ic(curr_ad_f)\n",
    "        ic(curr_dp_f)\n",
    "        if not ((cells_meta[\"donor\"] == donor).any()):\n",
    "            print(f\"Donor {donor} is empty. Continuing\")\n",
    "            continue\n",
    "        #curr_ad = mmread(curr_ad_f).tocsc()\n",
    "        #curr_dp = mmread(curr_dp_f).tocsc()\n",
    "        curr_ad = load_mtx_df(curr_ad_f, skip_first=True, give_header=False,\n",
    "            columns=(\"Variant\", \"Cell\", \"integer\"), sep=\"\\t\").astype(int)\n",
    "        curr_dp = load_mtx_df(curr_dp_f, skip_first=True, give_header=False, \n",
    "                              columns=(\"Variant\", \"Cell\", \"integer\"), sep=\"\\t\").astype(int)\n",
    "        \n",
    "        cells_map = {x:ind+1 for ind, x in enumerate(curr_cells_meta[\"donor_index\"].values)}\n",
    "\n",
    "        curr_vcf = pd.read_csv(curr_vcf_f, sep='\\t')\n",
    "        # Get vcf inds to keep\n",
    "        vcf_inds = (curr_ad[\"Variant\"].astype(int).unique())\n",
    "        ic(curr_vcf)\n",
    "        curr_vcf = (curr_vcf.loc[vcf_inds-1]).reset_index() # 0 based index\n",
    "        \n",
    "        curr_ad[\"Cell\"] = curr_ad[\"Cell\"].map(cells_map)#curr_cells_meta.set_index(\"donor_index\")['ID'])\n",
    "        curr_dp[\"Cell\"] = curr_dp[\"Cell\"].map(cells_map)#curr_cells_meta.set_index(\"donor_index\")['ID'])\n",
    "        curr_ad = curr_ad.dropna(subset=(\"Cell\",)).astype(int)\n",
    "        curr_dp = curr_dp.dropna(subset=(\"Cell\",)).astype(int)\n",
    "        ic(curr_ad.shape)\n",
    "        #curr_labels = pd.read_csv(curr_labels_f, index_col=0)\n",
    "        \n",
    "        assert(len(curr_ad[\"Cell\"].unique())==len(curr_cells_meta[\"ID\"].unique()))\n",
    "\n",
    "\n",
    "        #curr_cells_meta = pd.read_csv(curr_labels_rawID, index_col=0)\n",
    "#             ic('curr_labels')\n",
    "#             ic(curr_labels.head())\n",
    "        prefix = f\"donor{donor}_\"\n",
    "        model_name = f\"{prefix}lineage_{clone}\"\n",
    "        \n",
    "        curr_ad = csc_matrix((curr_ad[\"integer\"], \n",
    "                              (curr_ad[\"Variant\"]-1, curr_ad[\"Cell\"]-1)))\n",
    "        curr_dp = csc_matrix((curr_dp[\"integer\"], \n",
    "                              (curr_dp[\"Variant\"]-1, curr_dp[\"Cell\"]-1)))\n",
    "\n",
    "        modelCA, elbo = run_vireo(curr_ad, curr_dp, clone, n_cores=32, plot_qc=True,out_f=join(curr_outdir, model_name))\n",
    "        try:\n",
    "            doublet_prob = modelCA.predict_doublet(curr_ad, curr_dp, update_GT=False, update_ID=False)[0].sum(axis=1)\n",
    "        except AttributeError: # New version of Vireo 2021\n",
    "            #doublet_prob = vireoSNP.utils.vireo_doublet.predict_doublet(modelCA,AD, DP, update_GT=False, update_ID=False)[0].sum(axis=1)\n",
    "            doublet_prob = vireoSNP.utils.vireo_doublet.predict_doublet(modelCA, curr_ad, curr_dp, update_GT=False, update_ID=False)[0].sum(axis=1)\n",
    "\n",
    "        separate_donors(curr_ad, curr_dp, modelCA, curr_cells_meta, curr_outdir,\n",
    "                        doublet_prob,\n",
    "                        prob_thresh=0.9, doublet_thresh=0.9,\n",
    "                        cells_ind_col='donor_index',\n",
    "                        out_name=\"lineage\", prefix=prefix, cells_filt_col=\"donor\", \n",
    "                        cells_filt_val=donor, vars_meta=curr_vcf)    \n",
    "\n",
    "        lin_cells_meta = pd.read_csv(join(curr_outdir, f\"{prefix}cells_meta.tsv\"), sep='\\t')\n",
    "        ic(lin_cells_meta.head())\n",
    "        ic(lin_cells_meta.shape)\n",
    "        all_cells_meta.append(lin_cells_meta)\n",
    "        ic(\"Plotting AF SNPs\")\n",
    "        lin_cells_meta = lin_cells_meta.astype({\"lineage\": 'Int64'}) #.fillna(-1).astype(str)\n",
    "        lin_cells_meta['Assigned'] = ~(lin_cells_meta[\"lineage\"].isnull())\n",
    "        plot_vireo_out(modelCA, out_f=join(curr_outdir, model_name+\"OUT\"), \n",
    "                       labels=lin_cells_meta[[\"condition\", \"lineage\"]].fillna(-1), \n",
    "                       doublet_prob=doublet_prob)\n",
    "\n",
    "        plt.close()\n",
    "\n",
    "    # Concat cells_meta across donors\n",
    "    all_cells_meta = pd.concat(all_cells_meta, axis=0)\n",
    "    all_cells_meta = all_cells_meta.astype({\"lineage_index\": \"Int64\", \"lineage\": \"Int64\"})\n",
    "    ic(all_cells_meta.head())\n",
    "    ic(all_cells_meta.shape)\n",
    "    all_cells_meta.to_csv(join(curr_outdir, \"cells_meta.tsv\"), sep='\\t')\n",
    "    "
   ]
  },
  {
   "cell_type": "code",
   "execution_count": 14,
   "metadata": {
    "scrolled": true
   },
   "outputs": [],
   "source": [
    "# plot_vireo_out(modelCA, out_f=join(curr_outdir, model_name+\"OUT\"), \n",
    "#                labels=lin_cells_meta.reset_index()[[\"condition\", \"Assigned\"]].fillna(-1), \n",
    "#                doublet_prob=doublet_prob)\n"
   ]
  },
  {
   "cell_type": "code",
   "execution_count": null,
   "metadata": {},
   "outputs": [],
   "source": []
  },
  {
   "cell_type": "code",
   "execution_count": 15,
   "metadata": {},
   "outputs": [],
   "source": [
    "# def separate_donors(AD, DP, modelCA, cells_meta, outdir,\n",
    "#                 doublet_prob,\n",
    "#                 prob_thresh=0.9, doublet_thresh=0.9,\n",
    "#                 cells_ind_col='new index',\n",
    "#                 out_name=\"donor\", prefix=\"\",\n",
    "#                 cells_filt_col=None, cells_filt_val=None, vars_meta=None):\n",
    "# \"\"\"Separates the matrices and labels by donor using the multiplex output.\n",
    "\n",
    "# :param AD: sparse matrix, position-by-cell.\n",
    "# :param DP: sparse matrix, position-by-cell.\n",
    "# :param modelCA:\n",
    "# :param cells_meta:\n",
    "# :param outdir:\n",
    "# :param N_DONORS:\n",
    "# :param doublet_prob:\n",
    "# :param prob_thresh:\n",
    "# :param doublet_thresh:\n",
    "# :return:\n",
    "# \"\"\"\n",
    "# low_conf_cells = np.flatnonzero(doublet_prob > doublet_thresh)\n",
    "# cell_clusters = dict()\n",
    "\n",
    "# # filter for certain columns\n",
    "# if cells_filt_col is not None and cells_filt_val is not None:\n",
    "#     cells_meta = cells_meta[cells_meta[cells_filt_col]==cells_filt_val]\n",
    "# cells_meta = cells_meta.reset_index()\n",
    "\n",
    "# allAD = pd.DataFrame(AD.todense())\n",
    "# allDP = pd.DataFrame(DP.todense())\n",
    "# ic(allAD.shape)\n",
    "# ic(allAD.head())\n",
    "\n",
    "# #assert((min(cells_meta.index)==1))\n",
    "# cells_meta[out_name] = np.nan\n",
    "# cells_meta[f\"{out_name}_index\"] = np.nan # Add additional index\n",
    "# # For each donor, extract their cells for their matrices and labels\n",
    "# # print('cell meta')\n",
    "# # print(cells_meta.head())\n",
    "# for n in range(modelCA.ID_prob.shape[1]):\n",
    "#     # Drop low probability and/or high doublet probability\n",
    "#     cell_clusters[n] = np.sort(np.flatnonzero(\n",
    "#         (modelCA.ID_prob[:, n] > prob_thresh)))\n",
    "#     cell_clusters[n] = np.sort(cell_clusters[n][\n",
    "#         ~(np.isin(cell_clusters[n], low_conf_cells))])\n",
    "\n",
    "#     ## Extract specific AD+DP indices and re-index to 1-based\n",
    "#     # 1. make dense 0-based and take only the cluster indices\n",
    "#     curr_ad = allAD.loc[:, cell_clusters[n]].reset_index().melt(\n",
    "#         id_vars='index', var_name=\"Cell\",\n",
    "#         value_name=\"Count\").rename({\"index\": \"Position\"}, axis=1)\n",
    "\n",
    "#     curr_dp = allDP.loc[:, cell_clusters[n]].reset_index().melt(\n",
    "#         id_vars='index', var_name=\"Cell\",\n",
    "#         value_name=\"Count\").rename({\"index\": \"Position\"}, axis=1)\n",
    "\n",
    "\n",
    "#     # 2. Then drop indices with AD=0 to make sparse to remove positions/cells.\n",
    "#     #    This may remove some cells\n",
    "#     curr_dp = curr_dp.loc[~(curr_ad[\"Count\"] == 0)]\n",
    "#     curr_ad = curr_ad.loc[~(curr_ad[\"Count\"] == 0)]\n",
    "\n",
    "#     #i for ind, valcell_clusters[n]\n",
    "#     # 3. Assign cells_meta labels and indices based on curr_dp 0-based indices.\n",
    "\n",
    "#     # If any labels were removed from step 2, remove\n",
    "#     keep_inds = np.sort(list(set(cell_clusters[n]).intersection((set(curr_ad[\"Cell\"].values)))))\n",
    "#     ic(len(curr_dp[\"Cell\"].unique())-len(keep_inds))\n",
    "#     ic(cells_meta.shape)\n",
    "#     cells_meta.loc[keep_inds, out_name] = n # df is 1-based index but model is 0-based\n",
    "#     cells_meta.loc[keep_inds, f\"{out_name}_index\"] = np.arange(1,len(keep_inds)+1) # Set new index to 1-based\n",
    "#     cells_meta = cells_meta.astype({f\"{out_name}_index\": \"Int64\", out_name: \"Int64\"})\n",
    "\n",
    "\n",
    "#     # 4. Update the cell and position maps using dp, making it 1-based\n",
    "#     #curr_cell_map = {val-1: val for val in cells_meta[f\"{out_name}_index\"].values} #1-based to 0-based\n",
    "#     curr_cell_map = {val: ind + 1 for ind, val in\n",
    "#                      enumerate(np.sort(curr_dp[\"Cell\"].unique()))}\n",
    "#     curr_pos_map = {val: ind + 1 for ind, val in enumerate(\n",
    "#         np.sort(curr_dp[\"Position\"].unique()))}\n",
    "#     curr_ad[\"Cell\"] = curr_ad[\"Cell\"].map(curr_cell_map)\n",
    "#     curr_ad[\"Position\"] = curr_ad[\"Position\"].map(curr_pos_map)\n",
    "#     curr_dp[\"Cell\"] = curr_dp[\"Cell\"].map(curr_cell_map)\n",
    "#     curr_dp[\"Position\"] = curr_dp[\"Position\"].map(curr_pos_map)\n",
    "\n",
    "#     ic(curr_cell_map)\n",
    "#     # 5. Get only the passed variants\n",
    "#     if vars_meta is not None:\n",
    "#         curr_vars_meta = vars_meta.iloc[curr_pos_map.keys()]\n",
    "\n",
    "#     print(f\"{out_name} {n}: {len(cell_clusters[n])} cells \")\n",
    "#     print(curr_dp.shape)\n",
    "#     print(curr_ad.shape)\n",
    "\n",
    "#     # Get cell labels for specific lineages\n",
    "#     curr_cells_meta = cells_meta.loc[keep_inds].copy()\n",
    "#     curr_cells_meta = curr_cells_meta.reset_index() #make it 0-based\n",
    "#     # Get their IDs\n",
    "#     if outdir != \"\" and exists(outdir):\n",
    "#         curr_out = join(outdir, f\"{prefix}{out_name}{n}_cells.txt\")\n",
    "#         curr_str = \"\\n\".join(cell_clusters[n].astype(str))\n",
    "#         with open(curr_out, \"w\") as f:\n",
    "#             f.write(curr_str)\n",
    "#         curr_cells_meta.to_csv(\n",
    "#             join(outdir, f\"{prefix}{out_name}{n}.labels.txt\"))\n",
    "#         curr_cells_meta.to_csv(\n",
    "#             join(outdir, f\"cell_labels.{prefix}{out_name}{n}.txt\"))\n",
    "#         #print('curr_ad', curr_ad.head())\n",
    "#         wrap_write_mtx_df(outdir, curr_ad, curr_dp,\n",
    "#                           oth=None, to_rm=True, prefix=f\"{prefix}{out_name}{n}\",\n",
    "#                           columns=('Position', 'Cell', 'Count'))\n",
    "#         if vars_meta is not None:\n",
    "#             curr_vars_meta.to_csv(join(outdir, f\"{prefix}{out_name}{n}.vcf\"), sep='\\t', index   =False)\n",
    "\n",
    "# cells_meta = cells_meta.sort_values(f\"{out_name}_index\")\n",
    "# cells_meta = cells_meta.set_index(\n",
    "#     cells_ind_col)  # Set to original col1-based index\n",
    "# if outdir != \"\" and exists(outdir):\n",
    "#     cells_meta.to_csv(join(outdir, f\"{prefix}cells_meta.tsv\"),sep='\\t')\n",
    "#     AF_SNPs = np.sum(\n",
    "#         modelCA.GT_prob * np.expand_dims(modelCA.beta_mu, 1),\n",
    "#         axis=2)\n",
    "#     pd.DataFrame(AF_SNPs, columns=[f\"Cluster {x}\" for x in\n",
    "#                                    range(AF_SNPs.shape[1])]).to_csv(\n",
    "#         join(outdir, \"AF_SNPs.csv\"), index=False)\n"
   ]
  },
  {
   "cell_type": "code",
   "execution_count": null,
   "metadata": {},
   "outputs": [],
   "source": []
  },
  {
   "cell_type": "code",
   "execution_count": 16,
   "metadata": {
    "ExecuteTime": {
     "end_time": "2021-06-04T17:50:26.047446Z",
     "start_time": "2021-06-04T17:43:46.854008Z"
    },
    "scrolled": true
   },
   "outputs": [],
   "source": [
    "#run_lineage_wrap(INDIR, OUTDIR, N_DONORS, n_clone_list, cells_meta)"
   ]
  }
 ],
 "metadata": {
  "celltoolbar": "Tags",
  "kernelspec": {
   "display_name": "Python 3",
   "language": "python",
   "name": "python3"
  },
  "language_info": {
   "codemirror_mode": {
    "name": "ipython",
    "version": 3
   },
   "file_extension": ".py",
   "mimetype": "text/x-python",
   "name": "python",
   "nbconvert_exporter": "python",
   "pygments_lexer": "ipython3",
   "version": "3.6.13"
  },
  "papermill": {
   "default_parameters": {},
   "duration": 5560.364131,
   "end_time": "2021-01-27T10:03:31.625455",
   "environment_variables": {},
   "exception": null,
   "input_path": "/data2/mito_lineage/src/vireo/vireoSNP_clones.ipynb",
   "output_path": "results/jan21_2021/chrM/P2_cellSNP_minC200_minAF0.01/lineage_chrM.ipynb",
   "parameters": {
    "AD_F": "data/jan21_2021/chrM/P2_cellSNP_minC200_minAF0.01/cellSNP.tag.AD.mtx",
    "DP_F": "data/jan21_2021/chrM/P2_cellSNP_minC200_minAF0.01/cellSNP.tag.DP.mtx"
   },
   "start_time": "2021-01-27T08:30:51.261324",
   "version": "2.2.0"
  }
 },
 "nbformat": 4,
 "nbformat_minor": 4
}
