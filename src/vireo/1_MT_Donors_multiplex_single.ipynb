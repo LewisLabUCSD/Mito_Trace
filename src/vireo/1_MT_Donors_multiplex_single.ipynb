{
 "cells": [
  {
   "cell_type": "markdown",
   "metadata": {
    "papermill": {
     "duration": 0.047745,
     "end_time": "2021-01-27T08:30:54.010679",
     "exception": false,
     "start_time": "2021-01-27T08:30:53.962934",
     "status": "completed"
    },
    "tags": []
   },
   "source": [
    "# Using vireo for multiplexing, followed by lineage tracing of those groups"
   ]
  },
  {
   "cell_type": "markdown",
   "metadata": {},
   "source": [
    "# 1. Set up"
   ]
  },
  {
   "cell_type": "code",
   "execution_count": 1,
   "metadata": {
    "ExecuteTime": {
     "end_time": "2021-05-07T00:12:23.701793Z",
     "start_time": "2021-05-07T00:12:23.698158Z"
    }
   },
   "outputs": [],
   "source": [
    "import os\n",
    "os.chdir(\"/data2/mito_lineage/Analysis/multiplex\")"
   ]
  },
  {
   "cell_type": "code",
   "execution_count": 2,
   "metadata": {
    "ExecuteTime": {
     "end_time": "2021-05-07T00:12:23.721664Z",
     "start_time": "2021-05-07T00:12:23.703750Z"
    },
    "scrolled": false
   },
   "outputs": [
    {
     "data": {
      "text/plain": [
       "'/data2/mito_lineage/Analysis/multiplex'"
      ]
     },
     "execution_count": 2,
     "metadata": {},
     "output_type": "execute_result"
    }
   ],
   "source": [
    "pwd"
   ]
  },
  {
   "cell_type": "markdown",
   "metadata": {},
   "source": [
    "### Remove this when running in snakemake"
   ]
  },
  {
   "cell_type": "markdown",
   "metadata": {},
   "source": [
    "## 1.1 Parameters"
   ]
  },
  {
   "cell_type": "code",
   "execution_count": 3,
   "metadata": {
    "ExecuteTime": {
     "end_time": "2021-05-07T00:12:23.730255Z",
     "start_time": "2021-05-07T00:12:23.723413Z"
    },
    "execution": {
     "iopub.execute_input": "2021-01-27T08:30:53.605497Z",
     "iopub.status.busy": "2021-01-27T08:30:53.601260Z",
     "iopub.status.idle": "2021-01-27T08:30:53.611152Z",
     "shell.execute_reply": "2021-01-27T08:30:53.612706Z"
    },
    "papermill": {
     "duration": 0.083577,
     "end_time": "2021-01-27T08:30:53.613379",
     "exception": false,
     "start_time": "2021-01-27T08:30:53.529802",
     "status": "completed"
    },
    "tags": [
     "parameters"
    ]
   },
   "outputs": [],
   "source": [
    "# Parameters\n",
    "INDIR=\"data/CHIP_april08_2021/MTblacklist/chrM/\"\n",
    "#INDIR=\"data/jan21_2021/chrM/pseudo/minC200_minAF0.01/numC25000_ispropFalse/\"\n",
    "N_DONORS=5\n",
    "OUTDIR=\"data/CHIP_april08_2021/chrM/\""
   ]
  },
  {
   "cell_type": "code",
   "execution_count": null,
   "metadata": {},
   "outputs": [],
   "source": [
    "print(\"INDIR\", INDIR)\n",
    "print(\"N_DONORS\", N_DONORS)\n",
    "print(\"OUTDIR\", OUTDIR)"
   ]
  },
  {
   "cell_type": "code",
   "execution_count": null,
   "metadata": {},
   "outputs": [],
   "source": []
  },
  {
   "cell_type": "code",
   "execution_count": 4,
   "metadata": {
    "ExecuteTime": {
     "end_time": "2021-05-07T00:12:23.858548Z",
     "start_time": "2021-05-07T00:12:23.732358Z"
    }
   },
   "outputs": [],
   "source": [
    "# INDIR=\"data/jan21_2021/chrM/pseudo/minC200_minAF0.01/numC25000_ispropFalse\"\n",
    "# OUTDIR= \"data/jan21_2021/chrM/pseudo/minC200_minAF0.01/numC25000_ispropFalse/flt3\"\n",
    "# N_DONORS=4 \n"
   ]
  },
  {
   "cell_type": "markdown",
   "metadata": {},
   "source": [
    "## 1.2 Import packages"
   ]
  },
  {
   "cell_type": "code",
   "execution_count": 5,
   "metadata": {
    "ExecuteTime": {
     "end_time": "2021-05-07T00:12:25.089762Z",
     "start_time": "2021-05-07T00:12:23.861358Z"
    },
    "scrolled": false
   },
   "outputs": [
    {
     "name": "stdout",
     "output_type": "stream",
     "text": [
      "fig_utils from mplh\n",
      "here\n",
      "0.4.2\n"
     ]
    }
   ],
   "source": [
    "from os.path import join, exists, dirname\n",
    "from glob import glob\n",
    "import mplh.cluster_help as ch\n",
    "import os\n",
    "from vireoSNP.plot.base_plot import heat_matrix\n",
    "from vireoSNP import Vireo\n",
    "import src.pseudo_batch as pb\n",
    "import vireoSNP\n",
    "print(vireoSNP.__version__)\n",
    "import numpy as np\n",
    "from scipy import sparse\n",
    "from scipy.io import mmread\n",
    "import matplotlib.pyplot as plt\n",
    "import pandas as pd\n",
    "import seaborn as sns\n",
    "from src.vireo.vireo_utils import run_vireo, plot_vireo_out, extract_clusters, run_elbo\n",
    "%load_ext autoreload\n",
    "%autoreload 2"
   ]
  },
  {
   "cell_type": "code",
   "execution_count": 6,
   "metadata": {
    "ExecuteTime": {
     "end_time": "2021-05-07T00:12:25.107973Z",
     "start_time": "2021-05-07T00:12:25.091676Z"
    },
    "execution": {
     "iopub.execute_input": "2021-01-27T08:30:58.591556Z",
     "iopub.status.busy": "2021-01-27T08:30:58.589747Z",
     "iopub.status.idle": "2021-01-27T08:30:58.595785Z",
     "shell.execute_reply": "2021-01-27T08:30:58.597375Z"
    },
    "papermill": {
     "duration": 0.08872,
     "end_time": "2021-01-27T08:30:58.597995",
     "exception": false,
     "start_time": "2021-01-27T08:30:58.509275",
     "status": "completed"
    },
    "tags": []
   },
   "outputs": [],
   "source": [
    "np.set_printoptions(formatter={'float': lambda x: format(x, '.5f')})"
   ]
  },
  {
   "cell_type": "markdown",
   "metadata": {},
   "source": [
    "## 1.3 Load"
   ]
  },
  {
   "cell_type": "code",
   "execution_count": 7,
   "metadata": {
    "ExecuteTime": {
     "end_time": "2021-05-07T00:12:25.177194Z",
     "start_time": "2021-05-07T00:12:25.109774Z"
    }
   },
   "outputs": [],
   "source": [
    "AD_F = join(INDIR, \"cellSNP.tag.AD.mtx\")\n",
    "DP_F = join(INDIR, \"cellSNP.tag.DP.mtx\")\n",
    "cell_inds_names = join(INDIR,\"cell_indices_*.txt\")\n",
    "sample_labels = join(INDIR, \"cell_labels.txt\")"
   ]
  },
  {
   "cell_type": "code",
   "execution_count": 8,
   "metadata": {
    "ExecuteTime": {
     "end_time": "2021-05-07T00:16:43.811778Z",
     "start_time": "2021-05-07T00:12:25.178766Z"
    },
    "execution": {
     "iopub.execute_input": "2021-01-27T08:30:58.733722Z",
     "iopub.status.busy": "2021-01-27T08:30:58.731514Z",
     "iopub.status.idle": "2021-01-27T08:31:11.479507Z",
     "shell.execute_reply": "2021-01-27T08:31:11.480844Z"
    },
    "papermill": {
     "duration": 12.824224,
     "end_time": "2021-01-27T08:31:11.481566",
     "exception": false,
     "start_time": "2021-01-27T08:30:58.657342",
     "status": "completed"
    },
    "scrolled": true,
    "tags": []
   },
   "outputs": [],
   "source": [
    "AD = mmread(AD_F).tocsc()\n",
    "DP = mmread(DP_F).tocsc()\n",
    "AD_shape = AD.todense().shape"
   ]
  },
  {
   "cell_type": "markdown",
   "metadata": {},
   "source": [
    "# 2 Run vireo to demultiplex"
   ]
  },
  {
   "cell_type": "code",
   "execution_count": 13,
   "metadata": {
    "ExecuteTime": {
     "end_time": "2021-05-07T02:45:07.529573Z",
     "start_time": "2021-05-07T00:17:41.369747Z"
    },
    "code_folding": [],
    "scrolled": false
   },
   "outputs": [
    {
     "data": {
      "image/png": "[encoded data removed]",
      "text/plain": [
       "<Figure size 792x288 with 2 Axes>"
      ]
     },
     "metadata": {
      "needs_background": "light"
     },
     "output_type": "display_data"
    }
   ],
   "source": [
    "modelCA = run_vireo(AD, DP, N_DONORS, n_cores=32, plot_qc=True,out_f=join(OUTDIR, \"donors\"))\n",
    "doublet_prob = modelCA.predict_doublet(AD, DP, update_GT=False, update_ID=False)[0].sum(axis=1)"
   ]
  },
  {
   "cell_type": "code",
   "execution_count": 14,
   "metadata": {
    "ExecuteTime": {
     "end_time": "2021-05-07T02:45:27.694348Z",
     "start_time": "2021-05-07T02:45:07.532185Z"
    },
    "scrolled": false
   },
   "outputs": [
    {
     "name": "stdout",
     "output_type": "stream",
     "text": [
      "Clustering\n"
     ]
    },
    {
     "data": {
      "image/png": "[encoded data removed]",
      "text/plain": [
       "<Figure size 700x400 with 4 Axes>"
      ]
     },
     "metadata": {
      "needs_background": "light"
     },
     "output_type": "display_data"
    },
    {
     "data": {
      "image/png": "[encoded data removed]",
      "text/plain": [
       "<Figure size 720x720 with 4 Axes>"
      ]
     },
     "metadata": {
      "needs_background": "light"
     },
     "output_type": "display_data"
    }
   ],
   "source": [
    "plot_vireo_out(modelCA, out_f=join(OUTDIR, \"donors\"), to_sqrt=False, labels=None,\n",
    "                   doublet_prob=0.9)"
   ]
  },
  {
   "cell_type": "markdown",
   "metadata": {},
   "source": [
    "## Extract donors"
   ]
  },
  {
   "cell_type": "code",
   "execution_count": 15,
   "metadata": {
    "ExecuteTime": {
     "end_time": "2021-05-07T02:45:27.825234Z",
     "start_time": "2021-05-07T02:45:27.696398Z"
    },
    "code_folding": []
   },
   "outputs": [
    {
     "data": {
      "text/plain": [
       "{0: array([   4,    6,   12,   19,   36,   42,   46,   47,   50,   54,   55,\n",
       "          58,   61,   69,   75,   76,   80,   84,   89,   92,   93,   98,\n",
       "         101,  102,  104,  106,  110,  113,  114,  115,  120,  121,  122,\n",
       "         123,  126,  141,  143,  146,  151,  161,  167,  168,  169,  180,\n",
       "         185,  186,  192,  193,  194,  196,  201,  206,  209,  213,  215,\n",
       "         224,  231,  232,  233,  237,  241,  242,  246,  249,  251,  256,\n",
       "         257,  260,  261,  270,  271,  273,  275,  276,  281,  299,  301,\n",
       "         302,  309,  313,  315,  321,  322,  331,  338,  342,  349,  354,\n",
       "         355,  360,  372,  373,  375,  376,  377,  378,  383,  384,  389,\n",
       "         393,  396,  398,  399,  404,  422,  425,  434,  435,  436,  438,\n",
       "         439,  449,  451,  458,  459,  461,  466,  471,  473,  475,  479,\n",
       "         486,  491,  498,  509,  510,  511,  521,  522,  525,  530,  538,\n",
       "         547,  552,  553,  558,  571,  572,  576,  577,  580,  581,  583,\n",
       "         584,  585,  590,  600,  602,  604,  606,  608,  620,  627,  628,\n",
       "         629,  630,  631,  634,  637,  639,  650,  657,  661,  665,  666,\n",
       "         672,  678,  682,  687,  690,  692,  693,  699,  701,  703,  709,\n",
       "         710,  713,  714,  715,  718,  725,  727,  729,  732,  739,  743,\n",
       "         745,  746,  753,  766,  768,  772,  776,  779,  784,  787,  793,\n",
       "         795,  798,  805,  807,  809,  815,  822,  825,  826,  833,  834,\n",
       "         844,  848,  849,  852,  862,  866,  876,  883,  884,  886,  888,\n",
       "         893,  896,  911,  913,  927,  936,  944,  949,  959,  970,  971,\n",
       "         974,  987,  989,  998, 1002, 1005, 1011, 1012, 1014, 1018, 1024,\n",
       "        1027, 1029, 1031, 1036, 1037, 1038, 1040, 1064, 1073, 1075, 1077,\n",
       "        1083, 1109, 1148, 1152, 1156, 1157, 1163, 1181, 1189, 1196, 1197,\n",
       "        1206, 1213, 1223, 1224, 1239, 1256, 1259, 1263, 1287, 1305, 1315,\n",
       "        1321, 1330, 1342, 1344, 1353, 1354, 1371, 1372, 1386, 1399, 1402,\n",
       "        1403, 1404, 1412, 1432, 1433, 1436, 1437, 1442, 1445, 1472, 1473,\n",
       "        1487, 1488, 1489, 1517, 1518, 1521, 1526, 1543, 1546, 1547, 1549,\n",
       "        1551, 1557, 1566, 1567, 1577, 1579, 1594, 1596, 1605, 1608, 1609,\n",
       "        1611, 1632, 1653, 1670, 1693, 1698, 1704, 1707, 1710, 1717, 1719,\n",
       "        1720, 1723, 1748, 1758, 1766, 1781, 1784, 1786, 1790, 1814, 1822,\n",
       "        1844, 1852, 1858, 1863, 1890, 1891, 1893, 1905, 1936, 1948, 1949,\n",
       "        1957, 1962, 1965, 1970, 1976, 1996, 1998, 2010, 2011, 2012, 2015,\n",
       "        2020, 2024, 2027, 2033, 2037, 2045, 2050, 2055, 2057, 2059, 2066,\n",
       "        2070, 2071, 2083, 2085, 2088, 2118, 2124, 2131, 2139, 2144, 2146,\n",
       "        2154, 2159, 2163, 2165, 2172, 2176, 2181, 2184, 2201, 2212, 2214,\n",
       "        2219, 2224, 2226, 2236, 2238, 2240, 2245, 2257, 2261, 2265, 2273,\n",
       "        2277, 2279, 2281, 2288, 2293, 2299, 2317, 2332, 2334, 2337, 2340,\n",
       "        2343, 2360, 2366, 2377, 2380, 2387, 2389, 2391, 2395, 2406, 2410,\n",
       "        2413, 2417, 2421, 2423, 2434, 2435, 2447, 2452, 2458, 2459, 2460,\n",
       "        2464, 2469, 2480, 2481, 2494, 2496, 2503, 2505, 2506, 2515, 2528,\n",
       "        2531, 2538, 2558, 2560, 2565, 2575, 2582, 2584, 2589, 2594, 2605,\n",
       "        2607, 2635, 2639, 2640, 2651, 2652, 2656, 2669, 2678, 2685, 2686,\n",
       "        2707, 2711, 2723, 2730, 2734, 2739, 2750, 2760, 2781, 2798, 2806,\n",
       "        2821, 2825, 2829, 2831, 2833, 2839, 2851, 2854, 2858, 2863, 2874,\n",
       "        2879, 2882, 2883, 2894, 2907, 2917, 2933, 2936, 2938, 2939, 2963,\n",
       "        2978, 2994, 2995, 2997, 3017, 3020, 3021, 3026, 3027, 3035, 3039,\n",
       "        3040, 3046, 3054, 3056, 3064, 3076, 3079, 3085, 3104, 3108, 3120,\n",
       "        3125, 3134, 3136, 3151, 3169, 3201, 3207, 3208, 3234, 3236, 3237,\n",
       "        3244, 3246, 3250, 3251, 3279, 3285, 3287, 3290, 3292, 3318, 3322,\n",
       "        3338, 3339, 3348, 3351, 3355, 3364, 3367, 3369, 3371, 3372, 3381,\n",
       "        3384, 3390, 3411, 3415, 3420, 3421, 3428, 3439, 3442, 3446, 3455,\n",
       "        3458, 3459, 3505, 3512, 3521, 3558, 3559, 3560, 3575, 3576, 3595,\n",
       "        3596, 3599, 3604, 3610, 3611, 3612, 3620, 3622, 3629, 3630, 3641,\n",
       "        3643, 3657, 3664, 3665, 3670, 3674, 3678, 3683, 3684, 3688, 3697,\n",
       "        3710, 3732, 3735, 3769, 3775, 3780, 3784, 3791, 3796, 3808, 3818,\n",
       "        3819, 3831, 3843, 3849, 3855, 3866, 3872, 3873, 3877, 3878, 3879,\n",
       "        3880, 3883, 3884, 3891, 3898, 3901, 3903, 3906, 3913, 3917, 3921,\n",
       "        3930, 3934, 3964, 3984, 3999, 4001, 4010, 4030, 4051, 4053, 4058,\n",
       "        4065, 4067, 4074, 4088, 4096, 4103, 4104, 4114, 4115, 4118, 4121,\n",
       "        4131, 4141, 4144, 4146, 4170, 4172, 4181, 4187, 4198, 4199, 4203,\n",
       "        4207, 4229, 4234, 4236, 4251, 4261, 4264, 4279, 4281, 4286, 4289,\n",
       "        4290, 4294, 4297, 4300, 4303, 4310, 4317, 4331, 4340, 4352, 4354,\n",
       "        4367, 4370, 4375, 4405, 4416, 4434, 4455, 4456, 4462, 4464, 4470,\n",
       "        4482, 4492, 4496, 4507, 4516, 4518, 4519, 4540, 4554, 4561, 4565,\n",
       "        4580, 4585, 4586, 4591, 4598, 4604, 4608, 4611, 4612, 4629, 4630,\n",
       "        4632, 4641, 4645, 4651, 4665, 4681, 4700, 4706, 4720, 4725, 4729,\n",
       "        4747, 4750, 4754, 4755, 4759, 4760, 4776, 4784, 4796, 4798, 4801,\n",
       "        4815, 4828, 4882, 4909, 4913, 4915, 4920, 4933, 4941, 4947, 4952,\n",
       "        4955, 4956, 4958, 4959, 4962, 4966, 4997, 5006, 5008, 5010, 5012,\n",
       "        5013, 5014, 5025, 5028, 5045, 5047, 5066, 5072, 5073, 5087, 5089,\n",
       "        5090, 5094, 5095, 5103, 5104, 5105, 5110, 5117, 5123, 5129, 5131,\n",
       "        5143, 5146, 5149, 5153, 5162, 5195, 5197, 5203, 5205, 5216, 5221,\n",
       "        5229, 5241, 5243, 5256, 5259, 5272, 5275, 5300, 5305, 5314, 5356,\n",
       "        5381, 5384, 5408, 5418, 5431, 5437, 5441, 5448, 5449, 5455, 5467,\n",
       "        5489, 5498, 5510, 5511, 5528, 5565, 5584, 5599, 5603, 5604, 5608,\n",
       "        5610, 5621, 5633, 5634, 5637, 5638, 5645, 5655, 5670, 5671, 5678,\n",
       "        5680, 5681, 5687, 5692, 5696, 5703, 5704, 5705, 5710, 5711, 5727,\n",
       "        5729, 5737, 5743, 5750, 5752, 5765, 5771, 5775, 5790, 5809, 5823,\n",
       "        5826, 5828, 5846, 5848, 5852, 5855, 5857, 5870, 5884, 5901, 5915,\n",
       "        5920, 5932, 5944, 5952, 5955, 5960, 5961, 5973, 5987, 5989, 6008,\n",
       "        6016, 6022, 6025, 6032, 6035, 6049, 6053, 6054, 6084, 6092, 6126,\n",
       "        6135, 6137, 6139, 6142, 6145, 6149, 6153, 6156, 6169, 6174, 6191,\n",
       "        6195, 6208, 6213, 6218, 6220, 6222, 6224, 6225, 6233, 6235, 6239,\n",
       "        6240, 6243, 6244, 6251, 6259, 6268, 6271, 6272, 6274, 6275, 6276,\n",
       "        6281, 6290, 6296, 6305, 6324, 6327, 6331, 6348, 6352, 6353, 6360,\n",
       "        6366, 6374]),\n",
       " 1: array([   9,   10,   16,   18,   21,   23,   33,   35,   38,   40,   48,\n",
       "          65,   70,   82,   90,   94,  105,  112,  127,  138,  145,  155,\n",
       "         156,  164,  173,  177,  189,  202,  216,  228,  244,  250,  253,\n",
       "         258,  262,  272,  279,  284,  288,  298,  305,  306,  319,  325,\n",
       "         330,  341,  344,  347,  348,  356,  361,  363,  366,  369,  371,\n",
       "         382,  386,  394,  408,  413,  415,  417,  423,  427,  428,  429,\n",
       "         433,  437,  441,  447,  452,  478,  480,  508,  533,  534,  536,\n",
       "         539,  542,  545,  546,  551,  554,  555,  556,  575,  579,  587,\n",
       "         591,  599,  607,  614,  617,  619,  624,  626,  632,  655,  660,\n",
       "         667,  670,  677,  681,  684,  694,  697,  733,  737,  742,  748,\n",
       "         749,  756,  761,  762,  764,  765,  775,  777,  778,  785,  788,\n",
       "         789,  791,  794,  811,  814,  823,  824,  829,  832,  838,  841,\n",
       "         842,  845,  854,  861,  865,  872,  887,  890,  904,  907,  912,\n",
       "         918,  920,  923,  924,  932,  935,  939,  947,  950,  966,  969,\n",
       "         975,  981,  982,  986,  995, 1003, 1010, 1023, 1028, 1049, 1050,\n",
       "        1055, 1061, 1066, 1068, 1071, 1076, 1078, 1081, 1082, 1086, 1089,\n",
       "        1094, 1095, 1099, 1100, 1101, 1105, 1107, 1117, 1118, 1121, 1123,\n",
       "        1133, 1135, 1139, 1143, 1146, 1149, 1153, 1165, 1173, 1175, 1180,\n",
       "        1185, 1187, 1192, 1199, 1202, 1203, 1214, 1221, 1222, 1228, 1238,\n",
       "        1243, 1246, 1251, 1254, 1264, 1267, 1271, 1280, 1292, 1297, 1299,\n",
       "        1313, 1323, 1325, 1329, 1337, 1338, 1341, 1346, 1347, 1351, 1355,\n",
       "        1356, 1357, 1358, 1362, 1370, 1375, 1381, 1382, 1390, 1395, 1401,\n",
       "        1408, 1429, 1435, 1443, 1455, 1459, 1462, 1470, 1474, 1476, 1480,\n",
       "        1500, 1509, 1512, 1523, 1532, 1542, 1553, 1559, 1564, 1565, 1584,\n",
       "        1587, 1588, 1595, 1597, 1603, 1606, 1612, 1614, 1615, 1620, 1621,\n",
       "        1629, 1630, 1631, 1642, 1647, 1648, 1654, 1658, 1664, 1667, 1683,\n",
       "        1686, 1688, 1689, 1692, 1694, 1695, 1699, 1701, 1715, 1718, 1721,\n",
       "        1722, 1724, 1733, 1740, 1746, 1750, 1752, 1760, 1764, 1772, 1777,\n",
       "        1780, 1788, 1801, 1811, 1817, 1824, 1832, 1833, 1840, 1843, 1848,\n",
       "        1850, 1851, 1855, 1859, 1862, 1865, 1876, 1886, 1892, 1895, 1896,\n",
       "        1906, 1914, 1917, 1921, 1933, 1942, 1943, 1946, 1954, 1963, 1980,\n",
       "        1982, 1984, 1986, 1992, 2002, 2028, 2039, 2044, 2048, 2054, 2060,\n",
       "        2064, 2065, 2074, 2084, 2091, 2093, 2097, 2101, 2103, 2108, 2109,\n",
       "        2111, 2121, 2127, 2130, 2136, 2145, 2168, 2178, 2179, 2190, 2191,\n",
       "        2211, 2215, 2225, 2229, 2253, 2254, 2255, 2258, 2262, 2272, 2276,\n",
       "        2287, 2306, 2309, 2312, 2318, 2319, 2320, 2329, 2331, 2333, 2363,\n",
       "        2369, 2372, 2381, 2403, 2404, 2405, 2416, 2422, 2424, 2426, 2429,\n",
       "        2430, 2437, 2439, 2445, 2453, 2466, 2476, 2485, 2502, 2507, 2509,\n",
       "        2513, 2522, 2525, 2545, 2546, 2548, 2557, 2567, 2576, 2580, 2581,\n",
       "        2583, 2593, 2603, 2612, 2622, 2657, 2670, 2681, 2683, 2700, 2708,\n",
       "        2714, 2721, 2727, 2728, 2746, 2747, 2749, 2761, 2768, 2769, 2776,\n",
       "        2787, 2790, 2791, 2808, 2809, 2813, 2816, 2819, 2826, 2838, 2845,\n",
       "        2853, 2866, 2867, 2873, 2880, 2886, 2888, 2889, 2897, 2903, 2910,\n",
       "        2911, 2912, 2913, 2930, 2934, 2935, 2943, 2945, 2950, 2954, 2960,\n",
       "        2961, 2966, 2967, 2977, 2987, 2993, 2996, 3000, 3004, 3005, 3007,\n",
       "        3008, 3012, 3023, 3033, 3041, 3049, 3053, 3055, 3066, 3067, 3073,\n",
       "        3082, 3084, 3087, 3095, 3102, 3103, 3118, 3127, 3131, 3148, 3157,\n",
       "        3160, 3163, 3164, 3170, 3177, 3182, 3194, 3235, 3248, 3252, 3282,\n",
       "        3301, 3302, 3305, 3309, 3310, 3311, 3312, 3321, 3330, 3346, 3349,\n",
       "        3354, 3357, 3359, 3365, 3368, 3373, 3408, 3436, 3438, 3443, 3457,\n",
       "        3467, 3473, 3474, 3481, 3482, 3488, 3493, 3496, 3497, 3498, 3506,\n",
       "        3517, 3529, 3531, 3536, 3537, 3540, 3555, 3567, 3578, 3581, 3591,\n",
       "        3592, 3593, 3594, 3608, 3616, 3617, 3634, 3638, 3666, 3667, 3672,\n",
       "        3696, 3702, 3717, 3719, 3727, 3737, 3741, 3748, 3754, 3758, 3768,\n",
       "        3771, 3781, 3793, 3802, 3806, 3807, 3809, 3813, 3817, 3820, 3824,\n",
       "        3829, 3830, 3858, 3862, 3864, 3869, 3870, 3902, 3904, 3914, 3915,\n",
       "        3918, 3919, 3922, 3929, 3949, 3952, 3956, 3958, 3959, 3969, 3971,\n",
       "        3981, 3987, 3989, 3990, 4003, 4005, 4011, 4013, 4014, 4021, 4023,\n",
       "        4027, 4038, 4048, 4072, 4077, 4082, 4083, 4094, 4100, 4107, 4111,\n",
       "        4112, 4125, 4128, 4132, 4142, 4147, 4158, 4162, 4166, 4171, 4182,\n",
       "        4195, 4200, 4206, 4221, 4222, 4228, 4245, 4259, 4260, 4266, 4296,\n",
       "        4302, 4305, 4318, 4327, 4333, 4346, 4360, 4371, 4379, 4389, 4396,\n",
       "        4410, 4418, 4442, 4447, 4490, 4493, 4494, 4497, 4501, 4503, 4515,\n",
       "        4536, 4539, 4550, 4563, 4573, 4593, 4596, 4606, 4607, 4617, 4621,\n",
       "        4624, 4626, 4627, 4633, 4635, 4638, 4648, 4654, 4657, 4658, 4662,\n",
       "        4672, 4676, 4682, 4683, 4696, 4707, 4709, 4710, 4733, 4761, 4769,\n",
       "        4773, 4774, 4780, 4788, 4789, 4810, 4816, 4821, 4826, 4832, 4838,\n",
       "        4839, 4844, 4849, 4856, 4860, 4861, 4864, 4878, 4897, 4903, 4918,\n",
       "        4926, 4937, 4945, 4963, 4964, 4971, 4974, 4981, 4982, 4991, 4992,\n",
       "        5024, 5034, 5037, 5041, 5043, 5046, 5049, 5054, 5058, 5060, 5062,\n",
       "        5067, 5075, 5079, 5080, 5081, 5085, 5093, 5097, 5101, 5107, 5113,\n",
       "        5115, 5127, 5132, 5133, 5145, 5156, 5158, 5159, 5160, 5164, 5165,\n",
       "        5172, 5174, 5178, 5187, 5204, 5209, 5230, 5232, 5233, 5234, 5244,\n",
       "        5250, 5255, 5257, 5263, 5264, 5268, 5269, 5277, 5279, 5282, 5287,\n",
       "        5288, 5289, 5292, 5298, 5304, 5313, 5324, 5325, 5340, 5351, 5355,\n",
       "        5359, 5369, 5370, 5376, 5387, 5390, 5397, 5405, 5406, 5421, 5424,\n",
       "        5425, 5429, 5442, 5445, 5459, 5460, 5462, 5463, 5470, 5479, 5480,\n",
       "        5491, 5504, 5512, 5516, 5517, 5518, 5521, 5525, 5526, 5527, 5532,\n",
       "        5534, 5540, 5544, 5546, 5547, 5553, 5554, 5559, 5563, 5579, 5581,\n",
       "        5582, 5592, 5597, 5601, 5617, 5624, 5640, 5642, 5646, 5647, 5650,\n",
       "        5651, 5673, 5685, 5689, 5690, 5728, 5741, 5744, 5748, 5755, 5757,\n",
       "        5772, 5776, 5777, 5781, 5782, 5784, 5797, 5800, 5810, 5811, 5815,\n",
       "        5817, 5819, 5842, 5843, 5858, 5861, 5862, 5864, 5874, 5876, 5885,\n",
       "        5889, 5890, 5892, 5893, 5899, 5910, 5926, 5937, 5949, 5958, 5963,\n",
       "        5965, 5970, 5976, 5984, 5991, 5999, 6000, 6001, 6002, 6004, 6007,\n",
       "        6017, 6019, 6028, 6037, 6048, 6061, 6065, 6067, 6076, 6082, 6095,\n",
       "        6098, 6105, 6108, 6113, 6115, 6116, 6132, 6134, 6136, 6140, 6148,\n",
       "        6152, 6158, 6173, 6181, 6183, 6189, 6199, 6200, 6205, 6221, 6226,\n",
       "        6228, 6231, 6238, 6245, 6252, 6254, 6255, 6257, 6258, 6263, 6264,\n",
       "        6267, 6280, 6291, 6294, 6313, 6314, 6320, 6322, 6323, 6326, 6334,\n",
       "        6338, 6343, 6346, 6347, 6349, 6355, 6356, 6358, 6368, 6369]),\n",
       " 2: array([   2,    5,    7, ..., 6373, 6377, 6378]),\n",
       " 3: array([   1,    3,    8, ..., 6350, 6351, 6363]),\n",
       " 4: array([  45,   49,   62, ..., 6361, 6372, 6376])}"
      ]
     },
     "execution_count": 15,
     "metadata": {},
     "output_type": "execute_result"
    }
   ],
   "source": [
    "cell_clusters = extract_clusters(modelCA, prob_thresh=0.9, doublet_thresh=0.9, doublet_prob=doublet_prob,\n",
    "                                 sample_colors=None, outdir=OUTDIR, out_f=\"donors\")\n",
    "cell_clusters"
   ]
  },
  {
   "cell_type": "code",
   "execution_count": 16,
   "metadata": {
    "ExecuteTime": {
     "end_time": "2021-05-07T13:42:04.224453Z",
     "start_time": "2021-05-07T02:45:27.826998Z"
    },
    "scrolled": false
   },
   "outputs": [
    {
     "name": "stdout",
     "output_type": "stream",
     "text": [
      "lineages 3\n",
      "lineages 4\n",
      "lineages 5\n",
      "lineages 6\n",
      "lineages 7\n"
     ]
    },
    {
     "data": {
      "text/plain": [
       "([], array([3, 4, 5, 6, 7]))"
      ]
     },
     "execution_count": 16,
     "metadata": {},
     "output_type": "execute_result"
    }
   ],
   "source": [
    "%matplotlib inline\n",
    "run_elbo(AD, DP, out_f=join(OUTDIR, \"donors_elbo\"), n_clone_list=np.arange(N_DONORS-2, N_DONORS+3), \n",
    "         n_cores=12, sample_colors=None, save_clusters=False)"
   ]
  },
  {
   "cell_type": "code",
   "execution_count": null,
   "metadata": {},
   "outputs": [],
   "source": []
  },
  {
   "cell_type": "code",
   "execution_count": null,
   "metadata": {},
   "outputs": [],
   "source": []
  },
  {
   "cell_type": "code",
   "execution_count": null,
   "metadata": {},
   "outputs": [],
   "source": []
  },
  {
   "cell_type": "code",
   "execution_count": 21,
   "metadata": {
    "ExecuteTime": {
     "end_time": "2021-05-07T19:42:32.122885Z",
     "start_time": "2021-05-07T19:42:31.357547Z"
    },
    "scrolled": true
   },
   "outputs": [
    {
     "data": {
      "image/png": "[encoded data removed]",
      "text/plain": [
       "<Figure size 700x400 with 4 Axes>"
      ]
     },
     "metadata": {
      "needs_background": "light"
     },
     "output_type": "display_data"
    }
   ],
   "source": [
    "#fig = plt.figure(figsize=(7, 4), dpi=100)\n",
    "f, ax = plt.subplots(figsize=(7, 4), dpi=100, nrows=2,ncols=2)\n",
    "plt.subplot(1, 2, 1)\n",
    "im = heat_matrix(modelCA.ID_prob, cmap=\"Oranges\", alpha=0.8,\n",
    "                 display_value=False, row_sort=True)\n",
    "plt.colorbar(im, fraction=0.046, pad=0.04)\n",
    "plt.title(\"Assignment probability\")\n",
    "plt.xlabel(\"Clone\")\n",
    "plt.ylabel(\"%d cells\" % (modelCA.n_cell))\n",
    "plt.xticks(range(modelCA.n_donor))\n",
    "\n",
    "plt.subplot(1, 2, 2)\n",
    "AF_SNPs = np.sum(\n",
    "    modelCA.GT_prob * np.expand_dims(modelCA.beta_mu, 1), axis=2)\n",
    "\n",
    "\n",
    "# f = plt.figure()\n",
    "im = heat_matrix(np.sqrt(AF_SNPs), cmap=\"Blues\", alpha=0.8,\n",
    "                 display_value=False, row_sort=True)\n",
    "plt.colorbar(im, fraction=0.046, pad=0.04)\n",
    "plt.title(\"Mean allelic ratio\")\n",
    "plt.xlabel(\"Clone\")\n",
    "plt.ylabel(\"%d SNPs\" % (modelCA.n_var))\n",
    "plt.xticks(range(modelCA.n_donor))\n",
    "plt.tight_layout()\n",
    "#plt.savefig(out_f)\n",
    "#plt.close()"
   ]
  },
  {
   "cell_type": "code",
   "execution_count": 29,
   "metadata": {
    "ExecuteTime": {
     "end_time": "2021-05-07T19:44:27.369758Z",
     "start_time": "2021-05-07T19:44:27.130797Z"
    }
   },
   "outputs": [
    {
     "data": {
      "image/png": "[encoded data removed]",
      "text/plain": [
       "<Figure size 432x288 with 1 Axes>"
      ]
     },
     "metadata": {
      "needs_background": "light"
     },
     "output_type": "display_data"
    }
   ],
   "source": [
    "f = plt.figure()\n",
    "im = heat_matrix(np.sqrt(AF_SNPs[(AF_SNPs.sum(axis=1)>0.01),:]), cmap=\"Blues\", alpha=0.8,\n",
    "                 display_value=False, row_sort=True)"
   ]
  },
  {
   "cell_type": "code",
   "execution_count": null,
   "metadata": {},
   "outputs": [],
   "source": []
  },
  {
   "cell_type": "code",
   "execution_count": null,
   "metadata": {},
   "outputs": [],
   "source": []
  },
  {
   "cell_type": "markdown",
   "metadata": {},
   "source": [
    "## Separate for each sample before"
   ]
  },
  {
   "cell_type": "code",
   "execution_count": null,
   "metadata": {},
   "outputs": [],
   "source": []
  }
 ],
 "metadata": {
  "celltoolbar": "Tags",
  "kernelspec": {
   "display_name": "Python 3",
   "language": "python",
   "name": "python3"
  },
  "language_info": {
   "codemirror_mode": {
    "name": "ipython",
    "version": 3
   },
   "file_extension": ".py",
   "mimetype": "text/x-python",
   "name": "python",
   "nbconvert_exporter": "python",
   "pygments_lexer": "ipython3",
   "version": "3.7.3"
  },
  "papermill": {
   "default_parameters": {},
   "duration": 5560.364131,
   "end_time": "2021-01-27T10:03:31.625455",
   "environment_variables": {},
   "exception": null,
   "input_path": "/data2/mito_lineage/src/vireo/vireoSNP_clones.ipynb",
   "output_path": "results/jan21_2021/chrM/P2_cellSNP_minC200_minAF0.01/lineage_chrM.ipynb",
   "parameters": {
    "AD_F": "data/jan21_2021/chrM/P2_cellSNP_minC200_minAF0.01/cellSNP.tag.AD.mtx",
    "DP_F": "data/jan21_2021/chrM/P2_cellSNP_minC200_minAF0.01/cellSNP.tag.DP.mtx"
   },
   "start_time": "2021-01-27T08:30:51.261324",
   "version": "2.2.0"
  }
 },
 "nbformat": 4,
 "nbformat_minor": 4
}
