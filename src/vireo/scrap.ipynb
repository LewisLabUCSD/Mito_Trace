{
 "cells": [
  {
   "cell_type": "markdown",
   "metadata": {
    "papermill": {
     "duration": 0.047745,
     "end_time": "2021-01-27T08:30:54.010679",
     "exception": false,
     "start_time": "2021-01-27T08:30:53.962934",
     "status": "completed"
    },
    "tags": []
   },
   "source": [
    "# Using vireo for multiplexing, followed by lineage tracing of those groups"
   ]
  },
  {
   "cell_type": "markdown",
   "metadata": {},
   "source": [
    "# 1. Set up"
   ]
  },
  {
   "cell_type": "code",
   "execution_count": 1,
   "metadata": {
    "ExecuteTime": {
     "end_time": "2021-06-04T17:43:43.984223Z",
     "start_time": "2021-06-04T17:43:43.979835Z"
    }
   },
   "outputs": [],
   "source": [
    "import os\n",
    "os.chdir(\"/data2/mito_lineage/\")#Analysis/multiplex\")"
   ]
  },
  {
   "cell_type": "code",
   "execution_count": 2,
   "metadata": {
    "ExecuteTime": {
     "end_time": "2021-06-04T17:43:44.002330Z",
     "start_time": "2021-06-04T17:43:43.987777Z"
    }
   },
   "outputs": [],
   "source": [
    "# papermill --cwd /data2/mito_lineage -p INDIR {INDIR} -p OUTDIR data/processed/mttrace/CHIP_april08_2021_Croker/MTblacklist/merged/MT/cellr_True/numread_200/filters/minC10_minR50_topN0_hetT0.001_hetC10_hetCount5_bq20/filter_mgatk/vireoIn/clones -p  src/vireo/2_MT_Lineage_Construct.ipynb "
   ]
  },
  {
   "cell_type": "code",
   "execution_count": 3,
   "metadata": {
    "ExecuteTime": {
     "end_time": "2021-06-04T17:43:44.028790Z",
     "start_time": "2021-06-04T17:43:44.006245Z"
    },
    "scrolled": false
   },
   "outputs": [
    {
     "data": {
      "text/plain": [
       "'/data2/mito_lineage'"
      ]
     },
     "execution_count": 3,
     "metadata": {},
     "output_type": "execute_result"
    }
   ],
   "source": [
    "pwd"
   ]
  },
  {
   "cell_type": "markdown",
   "metadata": {},
   "source": [
    "### Remove this when running in snakemake"
   ]
  },
  {
   "cell_type": "code",
   "execution_count": 18,
   "metadata": {},
   "outputs": [],
   "source": [
    "in_af = \"data/processed/mttrace/TcellDupi_may17_2021/MTblacklist/merged/filters/minC10_minR50_topN0_hetT0.001_hetC10_hetCount5_bq20/filter_mgatk/vireoIn/multiplex/donors_mgatk_in/donor0/donor_mgatk/d0.af.tsv\"\n",
    "af = pd.read_csv(in_af, sep=\"\\t\")\n",
    "# Remove cells and positions that are all 0s\n"
   ]
  },
  {
   "cell_type": "code",
   "execution_count": 19,
   "metadata": {},
   "outputs": [
    {
     "data": {
      "text/plain": [
       "Index(['AAACGAAAGAACAGGA-1_post', 'AAACGAAAGATTGACA-1_post',\n",
       "       'AAACGAAAGCCGCAAA-1_pre', 'AAACGAAAGGTACTCT-1_post',\n",
       "       'AAACGAAAGTAGAAGG-1_post', 'AAACGAAAGTAGCAAT-1_pre',\n",
       "       'AAACGAAAGTAGTGTA-1_post', 'AAACGAAAGTATCTGC-1_post',\n",
       "       'AAACGAACAAGCACTT-1_post', 'AAACGAACAAGGCTTT-1_post',\n",
       "       ...\n",
       "       'TTTGGTTTCGAGGCTC-1_pre', 'TTTGGTTTCGTTCAGA-1_pre',\n",
       "       'TTTGTGTCAAAGAGAG-1_post', 'TTTGTGTCAAGGGTAC-1_pre',\n",
       "       'TTTGTGTGTCATAAGA-1_pre', 'TTTGTGTGTTCTTTCA-1_post',\n",
       "       'TTTGTGTTCCGGAAAG-1_post', 'TTTGTGTTCCTGACCT-1_post',\n",
       "       'TTTGTGTTCGCGATGC-1_pre', 'TTTGTGTTCTTAATCC-1_post'],\n",
       "      dtype='object', length=8017)"
      ]
     },
     "execution_count": 19,
     "metadata": {},
     "output_type": "execute_result"
    }
   ],
   "source": [
    "cells = af.columns\n",
    "cells"
   ]
  },
  {
   "cell_type": "code",
   "execution_count": 20,
   "metadata": {},
   "outputs": [],
   "source": [
    "af = af.loc[(~((af==0).all(axis=1)))]\n",
    "af = af.loc[:, (~((af == 0).all(axis=0)))]\n",
    "#af_meta = pd.read_csv(in_af_meta, sep=\"\\t\")\n",
    "#coverage = pd.read_csv(in_coverage, sep=\"\\t\")\n",
    "#af_meta = af_meta.loc[af.index]\n"
   ]
  },
  {
   "cell_type": "code",
   "execution_count": 22,
   "metadata": {},
   "outputs": [
    {
     "data": {
      "text/plain": [
       "22"
      ]
     },
     "execution_count": 22,
     "metadata": {},
     "output_type": "execute_result"
    }
   ],
   "source": [
    "af.columns.str.contains(\"pre\").sum()"
   ]
  },
  {
   "cell_type": "code",
   "execution_count": 23,
   "metadata": {
    "scrolled": true
   },
   "outputs": [
    {
     "data": {
      "text/html": [
       "<div>\n",
       "<style scoped>\n",
       "    .dataframe tbody tr th:only-of-type {\n",
       "        vertical-align: middle;\n",
       "    }\n",
       "\n",
       "    .dataframe tbody tr th {\n",
       "        vertical-align: top;\n",
       "    }\n",
       "\n",
       "    .dataframe thead th {\n",
       "        text-align: right;\n",
       "    }\n",
       "</style>\n",
       "<table border=\"1\" class=\"dataframe\">\n",
       "  <thead>\n",
       "    <tr style=\"text-align: right;\">\n",
       "      <th></th>\n",
       "      <th>index</th>\n",
       "      <th>ID</th>\n",
       "      <th>raw ID</th>\n",
       "      <th>new index</th>\n",
       "      <th>condition</th>\n",
       "      <th>donor</th>\n",
       "      <th>donor_index</th>\n",
       "    </tr>\n",
       "  </thead>\n",
       "  <tbody>\n",
       "    <tr>\n",
       "      <th>0</th>\n",
       "      <td>0</td>\n",
       "      <td>AAACGAAAGCCGCAAA-1_pre</td>\n",
       "      <td>AAACGAAAGCCGCAAA-1</td>\n",
       "      <td>1</td>\n",
       "      <td>pre</td>\n",
       "      <td>0.0</td>\n",
       "      <td>1.0</td>\n",
       "    </tr>\n",
       "    <tr>\n",
       "      <th>1</th>\n",
       "      <td>1</td>\n",
       "      <td>AAACGAAAGGCTCCTG-1_pre</td>\n",
       "      <td>AAACGAAAGGCTCCTG-1</td>\n",
       "      <td>2</td>\n",
       "      <td>pre</td>\n",
       "      <td>1.0</td>\n",
       "      <td>1.0</td>\n",
       "    </tr>\n",
       "    <tr>\n",
       "      <th>2</th>\n",
       "      <td>2</td>\n",
       "      <td>AAACGAAAGTAGCAAT-1_pre</td>\n",
       "      <td>AAACGAAAGTAGCAAT-1</td>\n",
       "      <td>3</td>\n",
       "      <td>pre</td>\n",
       "      <td>0.0</td>\n",
       "      <td>2.0</td>\n",
       "    </tr>\n",
       "    <tr>\n",
       "      <th>3</th>\n",
       "      <td>3</td>\n",
       "      <td>AAACGAAAGTGAATAC-1_pre</td>\n",
       "      <td>AAACGAAAGTGAATAC-1</td>\n",
       "      <td>4</td>\n",
       "      <td>pre</td>\n",
       "      <td>1.0</td>\n",
       "      <td>2.0</td>\n",
       "    </tr>\n",
       "    <tr>\n",
       "      <th>4</th>\n",
       "      <td>4</td>\n",
       "      <td>AAACGAAAGTGTCACT-1_pre</td>\n",
       "      <td>AAACGAAAGTGTCACT-1</td>\n",
       "      <td>5</td>\n",
       "      <td>pre</td>\n",
       "      <td>1.0</td>\n",
       "      <td>3.0</td>\n",
       "    </tr>\n",
       "    <tr>\n",
       "      <th>...</th>\n",
       "      <td>...</td>\n",
       "      <td>...</td>\n",
       "      <td>...</td>\n",
       "      <td>...</td>\n",
       "      <td>...</td>\n",
       "      <td>...</td>\n",
       "      <td>...</td>\n",
       "    </tr>\n",
       "    <tr>\n",
       "      <th>15584</th>\n",
       "      <td>15584</td>\n",
       "      <td>TTTGTGTTCCGGAAAG-1_post</td>\n",
       "      <td>TTTGTGTTCCGGAAAG-1</td>\n",
       "      <td>15585</td>\n",
       "      <td>post</td>\n",
       "      <td>0.0</td>\n",
       "      <td>8015.0</td>\n",
       "    </tr>\n",
       "    <tr>\n",
       "      <th>15585</th>\n",
       "      <td>15585</td>\n",
       "      <td>TTTGTGTTCCTGACCT-1_post</td>\n",
       "      <td>TTTGTGTTCCTGACCT-1</td>\n",
       "      <td>15586</td>\n",
       "      <td>post</td>\n",
       "      <td>0.0</td>\n",
       "      <td>8016.0</td>\n",
       "    </tr>\n",
       "    <tr>\n",
       "      <th>15586</th>\n",
       "      <td>15586</td>\n",
       "      <td>TTTGTGTTCGGATGTT-1_post</td>\n",
       "      <td>TTTGTGTTCGGATGTT-1</td>\n",
       "      <td>15587</td>\n",
       "      <td>post</td>\n",
       "      <td>1.0</td>\n",
       "      <td>6745.0</td>\n",
       "    </tr>\n",
       "    <tr>\n",
       "      <th>15587</th>\n",
       "      <td>15587</td>\n",
       "      <td>TTTGTGTTCTTAATCC-1_post</td>\n",
       "      <td>TTTGTGTTCTTAATCC-1</td>\n",
       "      <td>15588</td>\n",
       "      <td>post</td>\n",
       "      <td>0.0</td>\n",
       "      <td>8017.0</td>\n",
       "    </tr>\n",
       "    <tr>\n",
       "      <th>15588</th>\n",
       "      <td>15588</td>\n",
       "      <td>TTTGTGTTCTTGCGCT-1_post</td>\n",
       "      <td>TTTGTGTTCTTGCGCT-1</td>\n",
       "      <td>15589</td>\n",
       "      <td>post</td>\n",
       "      <td>1.0</td>\n",
       "      <td>6746.0</td>\n",
       "    </tr>\n",
       "  </tbody>\n",
       "</table>\n",
       "<p>15589 rows × 7 columns</p>\n",
       "</div>"
      ],
      "text/plain": [
       "       index                       ID              raw ID  new index  \\\n",
       "0          0   AAACGAAAGCCGCAAA-1_pre  AAACGAAAGCCGCAAA-1          1   \n",
       "1          1   AAACGAAAGGCTCCTG-1_pre  AAACGAAAGGCTCCTG-1          2   \n",
       "2          2   AAACGAAAGTAGCAAT-1_pre  AAACGAAAGTAGCAAT-1          3   \n",
       "3          3   AAACGAAAGTGAATAC-1_pre  AAACGAAAGTGAATAC-1          4   \n",
       "4          4   AAACGAAAGTGTCACT-1_pre  AAACGAAAGTGTCACT-1          5   \n",
       "...      ...                      ...                 ...        ...   \n",
       "15584  15584  TTTGTGTTCCGGAAAG-1_post  TTTGTGTTCCGGAAAG-1      15585   \n",
       "15585  15585  TTTGTGTTCCTGACCT-1_post  TTTGTGTTCCTGACCT-1      15586   \n",
       "15586  15586  TTTGTGTTCGGATGTT-1_post  TTTGTGTTCGGATGTT-1      15587   \n",
       "15587  15587  TTTGTGTTCTTAATCC-1_post  TTTGTGTTCTTAATCC-1      15588   \n",
       "15588  15588  TTTGTGTTCTTGCGCT-1_post  TTTGTGTTCTTGCGCT-1      15589   \n",
       "\n",
       "      condition  donor  donor_index  \n",
       "0           pre    0.0          1.0  \n",
       "1           pre    1.0          1.0  \n",
       "2           pre    0.0          2.0  \n",
       "3           pre    1.0          2.0  \n",
       "4           pre    1.0          3.0  \n",
       "...         ...    ...          ...  \n",
       "15584      post    0.0       8015.0  \n",
       "15585      post    0.0       8016.0  \n",
       "15586      post    1.0       6745.0  \n",
       "15587      post    0.0       8017.0  \n",
       "15588      post    1.0       6746.0  \n",
       "\n",
       "[15589 rows x 7 columns]"
      ]
     },
     "execution_count": 23,
     "metadata": {},
     "output_type": "execute_result"
    }
   ],
   "source": [
    "cells_meta = pd.read_csv(\"/data2/mito_lineage/data/processed/mttrace/TcellDupi_may17_2021/MTblacklist/merged/filters/minC10_minR50_topN0_hetT0.001_hetC10_hetCount5_bq20/filter_mgatk/vireoIn/multiplex/donors_mgatk_in/donor0/donor_mgatk/vireoIn/cells_meta.tsv\", sep='\\t')\n",
    "cells_meta"
   ]
  },
  {
   "cell_type": "code",
   "execution_count": 26,
   "metadata": {},
   "outputs": [],
   "source": [
    "cellSamples = pd.read_csv(\"/data2/mito_lineage/data/processed/mttrace/TcellDupi_may17_2021/MTblacklist/merged/filters/minC10_minR50_topN0_hetT0.001_hetC10_hetCount5_bq20/filter_mgatk/vireoIn/multiplex/donors_mgatk_in/donor0/donor_mgatk/vireoIn/cellSNP.samples.tsv\", \n",
    "                         header=None)"
   ]
  },
  {
   "cell_type": "code",
   "execution_count": 36,
   "metadata": {
    "scrolled": true
   },
   "outputs": [
    {
     "data": {
      "text/html": [
       "<div>\n",
       "<style scoped>\n",
       "    .dataframe tbody tr th:only-of-type {\n",
       "        vertical-align: middle;\n",
       "    }\n",
       "\n",
       "    .dataframe tbody tr th {\n",
       "        vertical-align: top;\n",
       "    }\n",
       "\n",
       "    .dataframe thead th {\n",
       "        text-align: right;\n",
       "    }\n",
       "</style>\n",
       "<table border=\"1\" class=\"dataframe\">\n",
       "  <thead>\n",
       "    <tr style=\"text-align: right;\">\n",
       "      <th></th>\n",
       "      <th>0</th>\n",
       "    </tr>\n",
       "  </thead>\n",
       "  <tbody>\n",
       "    <tr>\n",
       "      <th>0</th>\n",
       "      <td>AAACGAAAGAACAGGA-1_post</td>\n",
       "    </tr>\n",
       "    <tr>\n",
       "      <th>1</th>\n",
       "      <td>AAACGAAAGATTGACA-1_post</td>\n",
       "    </tr>\n",
       "    <tr>\n",
       "      <th>2</th>\n",
       "      <td>AAACGAAAGGTACTCT-1_post</td>\n",
       "    </tr>\n",
       "    <tr>\n",
       "      <th>3</th>\n",
       "      <td>AAACGAAAGTAGAAGG-1_post</td>\n",
       "    </tr>\n",
       "    <tr>\n",
       "      <th>4</th>\n",
       "      <td>AAACGAAAGTAGTGTA-1_post</td>\n",
       "    </tr>\n",
       "    <tr>\n",
       "      <th>...</th>\n",
       "      <td>...</td>\n",
       "    </tr>\n",
       "    <tr>\n",
       "      <th>5292</th>\n",
       "      <td>TTTGTGTCAAAGAGAG-1_post</td>\n",
       "    </tr>\n",
       "    <tr>\n",
       "      <th>5293</th>\n",
       "      <td>TTTGTGTGTTCTTTCA-1_post</td>\n",
       "    </tr>\n",
       "    <tr>\n",
       "      <th>5294</th>\n",
       "      <td>TTTGTGTTCCGGAAAG-1_post</td>\n",
       "    </tr>\n",
       "    <tr>\n",
       "      <th>5295</th>\n",
       "      <td>TTTGTGTTCCTGACCT-1_post</td>\n",
       "    </tr>\n",
       "    <tr>\n",
       "      <th>5296</th>\n",
       "      <td>TTTGTGTTCTTAATCC-1_post</td>\n",
       "    </tr>\n",
       "  </tbody>\n",
       "</table>\n",
       "<p>5297 rows × 1 columns</p>\n",
       "</div>"
      ],
      "text/plain": [
       "                            0\n",
       "0     AAACGAAAGAACAGGA-1_post\n",
       "1     AAACGAAAGATTGACA-1_post\n",
       "2     AAACGAAAGGTACTCT-1_post\n",
       "3     AAACGAAAGTAGAAGG-1_post\n",
       "4     AAACGAAAGTAGTGTA-1_post\n",
       "...                       ...\n",
       "5292  TTTGTGTCAAAGAGAG-1_post\n",
       "5293  TTTGTGTGTTCTTTCA-1_post\n",
       "5294  TTTGTGTTCCGGAAAG-1_post\n",
       "5295  TTTGTGTTCCTGACCT-1_post\n",
       "5296  TTTGTGTTCTTAATCC-1_post\n",
       "\n",
       "[5297 rows x 1 columns]"
      ]
     },
     "execution_count": 36,
     "metadata": {},
     "output_type": "execute_result"
    }
   ],
   "source": [
    "cellSamples"
   ]
  },
  {
   "cell_type": "code",
   "execution_count": 50,
   "metadata": {
    "scrolled": true
   },
   "outputs": [
    {
     "data": {
      "text/html": [
       "<div>\n",
       "<style scoped>\n",
       "    .dataframe tbody tr th:only-of-type {\n",
       "        vertical-align: middle;\n",
       "    }\n",
       "\n",
       "    .dataframe tbody tr th {\n",
       "        vertical-align: top;\n",
       "    }\n",
       "\n",
       "    .dataframe thead th {\n",
       "        text-align: right;\n",
       "    }\n",
       "</style>\n",
       "<table border=\"1\" class=\"dataframe\">\n",
       "  <thead>\n",
       "    <tr style=\"text-align: right;\">\n",
       "      <th></th>\n",
       "      <th>index</th>\n",
       "      <th>ID</th>\n",
       "      <th>raw ID</th>\n",
       "      <th>new index</th>\n",
       "      <th>condition</th>\n",
       "      <th>donor</th>\n",
       "      <th>donor_index</th>\n",
       "    </tr>\n",
       "  </thead>\n",
       "  <tbody>\n",
       "    <tr>\n",
       "      <th>0</th>\n",
       "      <td>0</td>\n",
       "      <td>AAACGAAAGCCGCAAA-1_pre</td>\n",
       "      <td>AAACGAAAGCCGCAAA-1</td>\n",
       "      <td>1</td>\n",
       "      <td>pre</td>\n",
       "      <td>0.0</td>\n",
       "      <td>1.0</td>\n",
       "    </tr>\n",
       "    <tr>\n",
       "      <th>2</th>\n",
       "      <td>2</td>\n",
       "      <td>AAACGAAAGTAGCAAT-1_pre</td>\n",
       "      <td>AAACGAAAGTAGCAAT-1</td>\n",
       "      <td>3</td>\n",
       "      <td>pre</td>\n",
       "      <td>0.0</td>\n",
       "      <td>2.0</td>\n",
       "    </tr>\n",
       "    <tr>\n",
       "      <th>5</th>\n",
       "      <td>5</td>\n",
       "      <td>AAACGAACACGGCCAT-1_pre</td>\n",
       "      <td>AAACGAACACGGCCAT-1</td>\n",
       "      <td>6</td>\n",
       "      <td>pre</td>\n",
       "      <td>0.0</td>\n",
       "      <td>3.0</td>\n",
       "    </tr>\n",
       "    <tr>\n",
       "      <th>7</th>\n",
       "      <td>7</td>\n",
       "      <td>AAACGAACATTAACGC-1_pre</td>\n",
       "      <td>AAACGAACATTAACGC-1</td>\n",
       "      <td>8</td>\n",
       "      <td>pre</td>\n",
       "      <td>0.0</td>\n",
       "      <td>4.0</td>\n",
       "    </tr>\n",
       "    <tr>\n",
       "      <th>9</th>\n",
       "      <td>9</td>\n",
       "      <td>AAACGAAGTTTAAGGA-1_pre</td>\n",
       "      <td>AAACGAAGTTTAAGGA-1</td>\n",
       "      <td>10</td>\n",
       "      <td>pre</td>\n",
       "      <td>0.0</td>\n",
       "      <td>5.0</td>\n",
       "    </tr>\n",
       "    <tr>\n",
       "      <th>...</th>\n",
       "      <td>...</td>\n",
       "      <td>...</td>\n",
       "      <td>...</td>\n",
       "      <td>...</td>\n",
       "      <td>...</td>\n",
       "      <td>...</td>\n",
       "      <td>...</td>\n",
       "    </tr>\n",
       "    <tr>\n",
       "      <th>5524</th>\n",
       "      <td>5524</td>\n",
       "      <td>TTTGGTTTCGAGGCTC-1_pre</td>\n",
       "      <td>TTTGGTTTCGAGGCTC-1</td>\n",
       "      <td>5525</td>\n",
       "      <td>pre</td>\n",
       "      <td>0.0</td>\n",
       "      <td>2716.0</td>\n",
       "    </tr>\n",
       "    <tr>\n",
       "      <th>5526</th>\n",
       "      <td>5526</td>\n",
       "      <td>TTTGGTTTCGTTCAGA-1_pre</td>\n",
       "      <td>TTTGGTTTCGTTCAGA-1</td>\n",
       "      <td>5527</td>\n",
       "      <td>pre</td>\n",
       "      <td>0.0</td>\n",
       "      <td>2717.0</td>\n",
       "    </tr>\n",
       "    <tr>\n",
       "      <th>5532</th>\n",
       "      <td>5532</td>\n",
       "      <td>TTTGTGTCAAGGGTAC-1_pre</td>\n",
       "      <td>TTTGTGTCAAGGGTAC-1</td>\n",
       "      <td>5533</td>\n",
       "      <td>pre</td>\n",
       "      <td>0.0</td>\n",
       "      <td>2718.0</td>\n",
       "    </tr>\n",
       "    <tr>\n",
       "      <th>5536</th>\n",
       "      <td>5536</td>\n",
       "      <td>TTTGTGTGTCATAAGA-1_pre</td>\n",
       "      <td>TTTGTGTGTCATAAGA-1</td>\n",
       "      <td>5537</td>\n",
       "      <td>pre</td>\n",
       "      <td>0.0</td>\n",
       "      <td>2719.0</td>\n",
       "    </tr>\n",
       "    <tr>\n",
       "      <th>5537</th>\n",
       "      <td>5537</td>\n",
       "      <td>TTTGTGTTCGCGATGC-1_pre</td>\n",
       "      <td>TTTGTGTTCGCGATGC-1</td>\n",
       "      <td>5538</td>\n",
       "      <td>pre</td>\n",
       "      <td>0.0</td>\n",
       "      <td>2720.0</td>\n",
       "    </tr>\n",
       "  </tbody>\n",
       "</table>\n",
       "<p>2720 rows × 7 columns</p>\n",
       "</div>"
      ],
      "text/plain": [
       "      index                      ID              raw ID  new index condition  \\\n",
       "0         0  AAACGAAAGCCGCAAA-1_pre  AAACGAAAGCCGCAAA-1          1       pre   \n",
       "2         2  AAACGAAAGTAGCAAT-1_pre  AAACGAAAGTAGCAAT-1          3       pre   \n",
       "5         5  AAACGAACACGGCCAT-1_pre  AAACGAACACGGCCAT-1          6       pre   \n",
       "7         7  AAACGAACATTAACGC-1_pre  AAACGAACATTAACGC-1          8       pre   \n",
       "9         9  AAACGAAGTTTAAGGA-1_pre  AAACGAAGTTTAAGGA-1         10       pre   \n",
       "...     ...                     ...                 ...        ...       ...   \n",
       "5524   5524  TTTGGTTTCGAGGCTC-1_pre  TTTGGTTTCGAGGCTC-1       5525       pre   \n",
       "5526   5526  TTTGGTTTCGTTCAGA-1_pre  TTTGGTTTCGTTCAGA-1       5527       pre   \n",
       "5532   5532  TTTGTGTCAAGGGTAC-1_pre  TTTGTGTCAAGGGTAC-1       5533       pre   \n",
       "5536   5536  TTTGTGTGTCATAAGA-1_pre  TTTGTGTGTCATAAGA-1       5537       pre   \n",
       "5537   5537  TTTGTGTTCGCGATGC-1_pre  TTTGTGTTCGCGATGC-1       5538       pre   \n",
       "\n",
       "      donor  donor_index  \n",
       "0       0.0          1.0  \n",
       "2       0.0          2.0  \n",
       "5       0.0          3.0  \n",
       "7       0.0          4.0  \n",
       "9       0.0          5.0  \n",
       "...     ...          ...  \n",
       "5524    0.0       2716.0  \n",
       "5526    0.0       2717.0  \n",
       "5532    0.0       2718.0  \n",
       "5536    0.0       2719.0  \n",
       "5537    0.0       2720.0  \n",
       "\n",
       "[2720 rows x 7 columns]"
      ]
     },
     "execution_count": 50,
     "metadata": {},
     "output_type": "execute_result"
    }
   ],
   "source": [
    "cells_meta[((cells_meta[\"donor\"] == 0.0)  & (~(cells_meta[\"ID\"].isin(cellSamples[0]))))]"
   ]
  },
  {
   "cell_type": "code",
   "execution_count": 47,
   "metadata": {},
   "outputs": [
    {
     "data": {
      "text/plain": [
       "condition\n",
       "post    5297\n",
       "pre     2720\n",
       "dtype: int64"
      ]
     },
     "execution_count": 47,
     "metadata": {},
     "output_type": "execute_result"
    }
   ],
   "source": [
    "cells_meta[((cells_meta[\"donor\"] == 0.0))].groupby(\"condition\").size()"
   ]
  },
  {
   "cell_type": "code",
   "execution_count": 48,
   "metadata": {},
   "outputs": [
    {
     "data": {
      "text/plain": [
       "0"
      ]
     },
     "execution_count": 48,
     "metadata": {},
     "output_type": "execute_result"
    }
   ],
   "source": [
    "(cells_meta[((cells_meta[\"donor\"] == 0.0)  & ((cells_meta[\"ID\"].isin(cellSamples[0]))))][\"condition\"]==\"pre\").sum()"
   ]
  },
  {
   "cell_type": "code",
   "execution_count": 49,
   "metadata": {},
   "outputs": [
    {
     "data": {
      "text/plain": [
       "2720"
      ]
     },
     "execution_count": 49,
     "metadata": {},
     "output_type": "execute_result"
    }
   ],
   "source": [
    "(cells_meta[((cells_meta[\"donor\"] == 0.0)  & (~(cells_meta[\"ID\"].isin(cellSamples[0]))))][\"condition\"]==\"pre\").sum()"
   ]
  },
  {
   "cell_type": "markdown",
   "metadata": {},
   "source": [
    "## 1.1 Parameters"
   ]
  },
  {
   "cell_type": "code",
   "execution_count": 4,
   "metadata": {
    "ExecuteTime": {
     "end_time": "2021-06-04T17:43:44.036919Z",
     "start_time": "2021-06-04T17:43:44.032369Z"
    },
    "tags": [
     "parameters"
    ]
   },
   "outputs": [],
   "source": [
    "DEBUG=True\n",
    "INDIR= \"data/processed/mttrace/TcellDupi_may17_2021/MTblacklist/merged/filters/minC10_minR50_topN0_hetT0.001_hetC10_hetCount5_bq20/filter_mgatk/vireoIn/multiplex/donors_mgatk_in/donor0/donor_mgatk/vireoIn/\"\n",
    "OUTDIR = \"data/processed/mttrace/TcellDupi_may17_2021/MTblacklist/merged/filters/minC10_minR50_topN0_hetT0.001_hetC10_hetCount5_bq20/filter_mgatk/vireoIn/multiplex/donors_mgatk_in/donor0/donor_mgatk/vireoIn/clones\"\n",
    "\n",
    "donor = 0\n",
    "n_clone_list=\"20,40,100\"#[20, 40, 100]"
   ]
  },
  {
   "cell_type": "code",
   "execution_count": 5,
   "metadata": {},
   "outputs": [
    {
     "data": {
      "text/plain": [
       "[20, 40, 100]"
      ]
     },
     "execution_count": 5,
     "metadata": {},
     "output_type": "execute_result"
    }
   ],
   "source": [
    "n_clone_list = [int(x) for x in n_clone_list.split(\",\")]\n",
    "n_clone_list"
   ]
  },
  {
   "cell_type": "markdown",
   "metadata": {},
   "source": [
    "## 1.2 Import packages"
   ]
  },
  {
   "cell_type": "code",
   "execution_count": 6,
   "metadata": {
    "ExecuteTime": {
     "end_time": "2021-06-04T17:51:34.448465Z",
     "start_time": "2021-06-04T17:51:34.198577Z"
    },
    "scrolled": false
   },
   "outputs": [
    {
     "name": "stderr",
     "output_type": "stream",
     "text": [
      "ic| vireoSNP.__version__: '0.5.6'\n"
     ]
    }
   ],
   "source": [
    "from os.path import join, exists, dirname\n",
    "from icecream import ic\n",
    "from glob import glob\n",
    "import mplh.cluster_help as ch\n",
    "import os\n",
    "from vireoSNP.plot.base_plot import heat_matrix\n",
    "from vireoSNP import Vireo\n",
    "import src.pseudo_batch as pb\n",
    "import vireoSNP\n",
    "ic(vireoSNP.__version__)\n",
    "from tqdm import tqdm\n",
    "import numpy as np\n",
    "from scipy import sparse\n",
    "from scipy.io import mmread\n",
    "import matplotlib.pyplot as plt\n",
    "import pandas as pd\n",
    "import seaborn as sns\n",
    "from src.vireo.vireo_utils import run_vireo, plot_vireo_out, extract_clusters, run_elbo, separate_donors\n",
    "%load_ext autoreload\n",
    "%autoreload 2\n",
    "from src.vireo.vireo_utils import run_lineage\n",
    "#np.set_icoptions(formatter={'float': lambda x: format(x, '.5f')})"
   ]
  },
  {
   "cell_type": "code",
   "execution_count": 7,
   "metadata": {
    "scrolled": true
   },
   "outputs": [
    {
     "data": {
      "text/html": [
       "<div>\n",
       "<style scoped>\n",
       "    .dataframe tbody tr th:only-of-type {\n",
       "        vertical-align: middle;\n",
       "    }\n",
       "\n",
       "    .dataframe tbody tr th {\n",
       "        vertical-align: top;\n",
       "    }\n",
       "\n",
       "    .dataframe thead th {\n",
       "        text-align: right;\n",
       "    }\n",
       "</style>\n",
       "<table border=\"1\" class=\"dataframe\">\n",
       "  <thead>\n",
       "    <tr style=\"text-align: right;\">\n",
       "      <th></th>\n",
       "      <th>0</th>\n",
       "      <th>1</th>\n",
       "      <th>2</th>\n",
       "    </tr>\n",
       "  </thead>\n",
       "  <tbody>\n",
       "    <tr>\n",
       "      <th>0</th>\n",
       "      <td>49</td>\n",
       "      <td>AAACGAAAGCCGCAAA-1_pre</td>\n",
       "      <td>151</td>\n",
       "    </tr>\n",
       "    <tr>\n",
       "      <th>1</th>\n",
       "      <td>57</td>\n",
       "      <td>AAACGAAAGCCGCAAA-1_pre</td>\n",
       "      <td>150</td>\n",
       "    </tr>\n",
       "    <tr>\n",
       "      <th>2</th>\n",
       "      <td>58</td>\n",
       "      <td>AAACGAAAGCCGCAAA-1_pre</td>\n",
       "      <td>146</td>\n",
       "    </tr>\n",
       "    <tr>\n",
       "      <th>3</th>\n",
       "      <td>64</td>\n",
       "      <td>AAACGAAAGCCGCAAA-1_pre</td>\n",
       "      <td>128</td>\n",
       "    </tr>\n",
       "    <tr>\n",
       "      <th>4</th>\n",
       "      <td>66</td>\n",
       "      <td>AAACGAAAGCCGCAAA-1_pre</td>\n",
       "      <td>138</td>\n",
       "    </tr>\n",
       "    <tr>\n",
       "      <th>...</th>\n",
       "      <td>...</td>\n",
       "      <td>...</td>\n",
       "      <td>...</td>\n",
       "    </tr>\n",
       "    <tr>\n",
       "      <th>1996227</th>\n",
       "      <td>16362</td>\n",
       "      <td>TTTGTGTTCTTAATCC-1_post</td>\n",
       "      <td>41</td>\n",
       "    </tr>\n",
       "    <tr>\n",
       "      <th>1996228</th>\n",
       "      <td>16387</td>\n",
       "      <td>TTTGTGTTCTTAATCC-1_post</td>\n",
       "      <td>46</td>\n",
       "    </tr>\n",
       "    <tr>\n",
       "      <th>1996229</th>\n",
       "      <td>16512</td>\n",
       "      <td>TTTGTGTTCTTAATCC-1_post</td>\n",
       "      <td>67</td>\n",
       "    </tr>\n",
       "    <tr>\n",
       "      <th>1996230</th>\n",
       "      <td>16519</td>\n",
       "      <td>TTTGTGTTCTTAATCC-1_post</td>\n",
       "      <td>63</td>\n",
       "    </tr>\n",
       "    <tr>\n",
       "      <th>1996231</th>\n",
       "      <td>16537</td>\n",
       "      <td>TTTGTGTTCTTAATCC-1_post</td>\n",
       "      <td>50</td>\n",
       "    </tr>\n",
       "  </tbody>\n",
       "</table>\n",
       "<p>1996232 rows × 3 columns</p>\n",
       "</div>"
      ],
      "text/plain": [
       "             0                        1    2\n",
       "0           49   AAACGAAAGCCGCAAA-1_pre  151\n",
       "1           57   AAACGAAAGCCGCAAA-1_pre  150\n",
       "2           58   AAACGAAAGCCGCAAA-1_pre  146\n",
       "3           64   AAACGAAAGCCGCAAA-1_pre  128\n",
       "4           66   AAACGAAAGCCGCAAA-1_pre  138\n",
       "...        ...                      ...  ...\n",
       "1996227  16362  TTTGTGTTCTTAATCC-1_post   41\n",
       "1996228  16387  TTTGTGTTCTTAATCC-1_post   46\n",
       "1996229  16512  TTTGTGTTCTTAATCC-1_post   67\n",
       "1996230  16519  TTTGTGTTCTTAATCC-1_post   63\n",
       "1996231  16537  TTTGTGTTCTTAATCC-1_post   50\n",
       "\n",
       "[1996232 rows x 3 columns]"
      ]
     },
     "execution_count": 7,
     "metadata": {},
     "output_type": "execute_result"
    }
   ],
   "source": [
    "cov = pd.read_csv(\"/data2/mito_lineage/data/processed/mttrace/TcellDupi_may17_2021/MTblacklist/merged/filters/minC10_minR50_topN0_hetT0.001_hetC10_hetCount5_bq20/filter_mgatk/vireoIn/multiplex/donors_mgatk_in/donor0/d0.coverage.txt\",\n",
    "               header=None)\n",
    "cov"
   ]
  },
  {
   "cell_type": "code",
   "execution_count": 8,
   "metadata": {},
   "outputs": [],
   "source": [
    "cells = cov[1].unique()\n",
    "pos = cov[0].unique()\n",
    "\n",
    "for n in [\"A\", \"C\", \"G\", \"T\"]:\n",
    "    curr = pd.read_csv(f\"/data2/mito_lineage/data/processed/mttrace/TcellDupi_may17_2021/MTblacklist/merged/filters/minC10_minR50_topN0_hetT0.001_hetC10_hetCount5_bq20/filter_mgatk/vireoIn/multiplex/donors_mgatk_in/donor0/d0.{n}.txt\",\n",
    "               header=None)\n",
    "    if (~(curr[1].isin(cells))).any():\n",
    "        print('cells missing')\n",
    "\n",
    "    if (~(curr[0].isin(pos))).any():\n",
    "        print('var missing')"
   ]
  },
  {
   "cell_type": "code",
   "execution_count": 9,
   "metadata": {
    "scrolled": true
   },
   "outputs": [
    {
     "data": {
      "text/html": [
       "<div>\n",
       "<style scoped>\n",
       "    .dataframe tbody tr th:only-of-type {\n",
       "        vertical-align: middle;\n",
       "    }\n",
       "\n",
       "    .dataframe tbody tr th {\n",
       "        vertical-align: top;\n",
       "    }\n",
       "\n",
       "    .dataframe thead th {\n",
       "        text-align: right;\n",
       "    }\n",
       "</style>\n",
       "<table border=\"1\" class=\"dataframe\">\n",
       "  <thead>\n",
       "    <tr style=\"text-align: right;\">\n",
       "      <th></th>\n",
       "      <th>0</th>\n",
       "      <th>1</th>\n",
       "      <th>2</th>\n",
       "    </tr>\n",
       "  </thead>\n",
       "  <tbody>\n",
       "    <tr>\n",
       "      <th>0</th>\n",
       "      <td>49</td>\n",
       "      <td>AAACGAAAGCCGCAAA-1_pre</td>\n",
       "      <td>151</td>\n",
       "    </tr>\n",
       "    <tr>\n",
       "      <th>1</th>\n",
       "      <td>57</td>\n",
       "      <td>AAACGAAAGCCGCAAA-1_pre</td>\n",
       "      <td>150</td>\n",
       "    </tr>\n",
       "    <tr>\n",
       "      <th>2</th>\n",
       "      <td>58</td>\n",
       "      <td>AAACGAAAGCCGCAAA-1_pre</td>\n",
       "      <td>146</td>\n",
       "    </tr>\n",
       "    <tr>\n",
       "      <th>3</th>\n",
       "      <td>64</td>\n",
       "      <td>AAACGAAAGCCGCAAA-1_pre</td>\n",
       "      <td>128</td>\n",
       "    </tr>\n",
       "    <tr>\n",
       "      <th>4</th>\n",
       "      <td>66</td>\n",
       "      <td>AAACGAAAGCCGCAAA-1_pre</td>\n",
       "      <td>138</td>\n",
       "    </tr>\n",
       "  </tbody>\n",
       "</table>\n",
       "</div>"
      ],
      "text/plain": [
       "    0                       1    2\n",
       "0  49  AAACGAAAGCCGCAAA-1_pre  151\n",
       "1  57  AAACGAAAGCCGCAAA-1_pre  150\n",
       "2  58  AAACGAAAGCCGCAAA-1_pre  146\n",
       "3  64  AAACGAAAGCCGCAAA-1_pre  128\n",
       "4  66  AAACGAAAGCCGCAAA-1_pre  138"
      ]
     },
     "execution_count": 9,
     "metadata": {},
     "output_type": "execute_result"
    }
   ],
   "source": [
    "cov.head()"
   ]
  },
  {
   "cell_type": "code",
   "execution_count": 10,
   "metadata": {},
   "outputs": [
    {
     "data": {
      "text/html": [
       "<div>\n",
       "<style scoped>\n",
       "    .dataframe tbody tr th:only-of-type {\n",
       "        vertical-align: middle;\n",
       "    }\n",
       "\n",
       "    .dataframe tbody tr th {\n",
       "        vertical-align: top;\n",
       "    }\n",
       "\n",
       "    .dataframe thead th {\n",
       "        text-align: right;\n",
       "    }\n",
       "</style>\n",
       "<table border=\"1\" class=\"dataframe\">\n",
       "  <thead>\n",
       "    <tr style=\"text-align: right;\">\n",
       "      <th></th>\n",
       "      <th>0</th>\n",
       "      <th>1</th>\n",
       "      <th>2</th>\n",
       "    </tr>\n",
       "  </thead>\n",
       "  <tbody>\n",
       "    <tr>\n",
       "      <th>1996227</th>\n",
       "      <td>16362</td>\n",
       "      <td>TTTGTGTTCTTAATCC-1_post</td>\n",
       "      <td>41</td>\n",
       "    </tr>\n",
       "    <tr>\n",
       "      <th>1996228</th>\n",
       "      <td>16387</td>\n",
       "      <td>TTTGTGTTCTTAATCC-1_post</td>\n",
       "      <td>46</td>\n",
       "    </tr>\n",
       "    <tr>\n",
       "      <th>1996229</th>\n",
       "      <td>16512</td>\n",
       "      <td>TTTGTGTTCTTAATCC-1_post</td>\n",
       "      <td>67</td>\n",
       "    </tr>\n",
       "    <tr>\n",
       "      <th>1996230</th>\n",
       "      <td>16519</td>\n",
       "      <td>TTTGTGTTCTTAATCC-1_post</td>\n",
       "      <td>63</td>\n",
       "    </tr>\n",
       "    <tr>\n",
       "      <th>1996231</th>\n",
       "      <td>16537</td>\n",
       "      <td>TTTGTGTTCTTAATCC-1_post</td>\n",
       "      <td>50</td>\n",
       "    </tr>\n",
       "  </tbody>\n",
       "</table>\n",
       "</div>"
      ],
      "text/plain": [
       "             0                        1   2\n",
       "1996227  16362  TTTGTGTTCTTAATCC-1_post  41\n",
       "1996228  16387  TTTGTGTTCTTAATCC-1_post  46\n",
       "1996229  16512  TTTGTGTTCTTAATCC-1_post  67\n",
       "1996230  16519  TTTGTGTTCTTAATCC-1_post  63\n",
       "1996231  16537  TTTGTGTTCTTAATCC-1_post  50"
      ]
     },
     "execution_count": 10,
     "metadata": {},
     "output_type": "execute_result"
    }
   ],
   "source": [
    "cov.tail()"
   ]
  },
  {
   "cell_type": "code",
   "execution_count": 11,
   "metadata": {},
   "outputs": [
    {
     "data": {
      "text/plain": [
       "array(['AAACGAAAGCCGCAAA-1_pre', 'AAACGAAAGTAGCAAT-1_pre',\n",
       "       'AAACGAACACGGCCAT-1_pre', ..., 'TTTGTGTTCCGGAAAG-1_post',\n",
       "       'TTTGTGTTCCTGACCT-1_post', 'TTTGTGTTCTTAATCC-1_post'], dtype=object)"
      ]
     },
     "execution_count": 11,
     "metadata": {},
     "output_type": "execute_result"
    }
   ],
   "source": [
    "cells"
   ]
  },
  {
   "cell_type": "code",
   "execution_count": 12,
   "metadata": {},
   "outputs": [
    {
     "data": {
      "text/plain": [
       "(499125, 6)"
      ]
     },
     "execution_count": 12,
     "metadata": {},
     "output_type": "execute_result"
    }
   ],
   "source": [
    "curr.shape"
   ]
  },
  {
   "cell_type": "code",
   "execution_count": 13,
   "metadata": {},
   "outputs": [
    {
     "data": {
      "text/plain": [
       "False"
      ]
     },
     "execution_count": 13,
     "metadata": {},
     "output_type": "execute_result"
    }
   ],
   "source": [
    "curr.loc[~(curr[1].isin(cells))][1].str.contains(\"post\").any()"
   ]
  },
  {
   "cell_type": "code",
   "execution_count": 14,
   "metadata": {},
   "outputs": [
    {
     "data": {
      "text/plain": [
       "False"
      ]
     },
     "execution_count": 14,
     "metadata": {},
     "output_type": "execute_result"
    }
   ],
   "source": [
    "curr.loc[~(curr[1].isin(cells))][1].str.contains(\"pre\").any()"
   ]
  },
  {
   "cell_type": "code",
   "execution_count": 15,
   "metadata": {},
   "outputs": [
    {
     "data": {
      "text/plain": [
       "Series([], Name: 1, dtype: object)"
      ]
     },
     "execution_count": 15,
     "metadata": {},
     "output_type": "execute_result"
    }
   ],
   "source": [
    "curr.loc[~(curr[1].isin(cells))][1]"
   ]
  },
  {
   "cell_type": "code",
   "execution_count": 16,
   "metadata": {},
   "outputs": [
    {
     "data": {
      "text/plain": [
       "0          AACATCGAGTGTCGGA-1_pre\n",
       "1          AACATCGAGTGTCGGA-1_pre\n",
       "2          AACATCGAGTGTCGGA-1_pre\n",
       "3          AACATCGAGTGTCGGA-1_pre\n",
       "4          AACATCGAGTGTCGGA-1_pre\n",
       "                   ...           \n",
       "499120    TTTGTGTTCTTAATCC-1_post\n",
       "499121    TTTGTGTTCTTAATCC-1_post\n",
       "499122    TTTGTGTTCTTAATCC-1_post\n",
       "499123    TTTGTGTTCTTAATCC-1_post\n",
       "499124    TTTGTGTTCTTAATCC-1_post\n",
       "Name: 1, Length: 499125, dtype: object"
      ]
     },
     "execution_count": 16,
     "metadata": {},
     "output_type": "execute_result"
    }
   ],
   "source": [
    "curr[1]"
   ]
  },
  {
   "cell_type": "code",
   "execution_count": 17,
   "metadata": {},
   "outputs": [],
   "source": [
    "if not DEBUG:\n",
    "    ic.disable()\n"
   ]
  },
  {
   "cell_type": "markdown",
   "metadata": {},
   "source": [
    "# 2 Lineage construction for each donor"
   ]
  }
 ],
 "metadata": {
  "celltoolbar": "Tags",
  "kernelspec": {
   "display_name": "Python 3",
   "language": "python",
   "name": "python3"
  },
  "language_info": {
   "codemirror_mode": {
    "name": "ipython",
    "version": 3
   },
   "file_extension": ".py",
   "mimetype": "text/x-python",
   "name": "python",
   "nbconvert_exporter": "python",
   "pygments_lexer": "ipython3",
   "version": "3.6.13"
  },
  "papermill": {
   "default_parameters": {},
   "duration": 5560.364131,
   "end_time": "2021-01-27T10:03:31.625455",
   "environment_variables": {},
   "exception": null,
   "input_path": "/data2/mito_lineage/src/vireo/vireoSNP_clones.ipynb",
   "output_path": "results/jan21_2021/chrM/P2_cellSNP_minC200_minAF0.01/lineage_chrM.ipynb",
   "parameters": {
    "AD_F": "data/jan21_2021/chrM/P2_cellSNP_minC200_minAF0.01/cellSNP.tag.AD.mtx",
    "DP_F": "data/jan21_2021/chrM/P2_cellSNP_minC200_minAF0.01/cellSNP.tag.DP.mtx"
   },
   "start_time": "2021-01-27T08:30:51.261324",
   "version": "2.2.0"
  }
 },
 "nbformat": 4,
 "nbformat_minor": 4
}
