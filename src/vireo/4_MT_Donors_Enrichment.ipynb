{
 "cells": [
  {
   "cell_type": "code",
   "execution_count": 1,
   "metadata": {
    "ExecuteTime": {
     "end_time": "2021-05-13T20:12:12.096903Z",
     "start_time": "2021-05-13T20:12:12.086904Z"
    },
    "scrolled": true
   },
   "outputs": [
    {
     "data": {
      "text/plain": [
       "'/data2/mito_lineage/src/vireo'"
      ]
     },
     "execution_count": 1,
     "metadata": {},
     "output_type": "execute_result"
    }
   ],
   "source": [
    "pwd"
   ]
  },
  {
   "cell_type": "code",
   "execution_count": 2,
   "metadata": {
    "ExecuteTime": {
     "end_time": "2021-05-13T20:12:12.105680Z",
     "start_time": "2021-05-13T20:12:12.099105Z"
    },
    "tags": [
     "parameters"
    ]
   },
   "outputs": [],
   "source": [
    "INDIR=\"data/jan21_2021/chrM/pseudo/minC200_minAF0.01/numC25000_ispropFalse\"\n",
    "OUTDIR= \"data/jan21_2021/chrM/pseudo/minC200_minAF0.01/numC25000_ispropFalse/flt3\"\n",
    "N_DONORS=4 \n",
    "#INDIR=\"\"\n",
    "sample_names=\"\" #\"Control,Flt3l,Input\""
   ]
  },
  {
   "cell_type": "code",
   "execution_count": null,
   "metadata": {},
   "outputs": [],
   "source": [
    "from src.utils.data_io import setup_outdir\n",
    "setup_outdir(OUTDIR, dirs=('figures'))"
   ]
  },
  {
   "cell_type": "code",
   "execution_count": 3,
   "metadata": {
    "ExecuteTime": {
     "end_time": "2021-05-13T20:12:12.127379Z",
     "start_time": "2021-05-13T20:12:12.108328Z"
    }
   },
   "outputs": [],
   "source": [
    "sample_names = {ind:val for ind,val in enumerate(sample_names.split(\",\"))}\n"
   ]
  },
  {
   "cell_type": "code",
   "execution_count": 4,
   "metadata": {
    "ExecuteTime": {
     "end_time": "2021-05-13T20:12:13.155526Z",
     "start_time": "2021-05-13T20:12:12.130665Z"
    }
   },
   "outputs": [
    {
     "name": "stdout",
     "output_type": "stream",
     "text": [
      "0.4.2\n"
     ]
    }
   ],
   "source": [
    "from os.path import join, exists, dirname\n",
    "from glob import glob\n",
    "import pickle\n",
    "import mplh.cluster_help as ch\n",
    "import os\n",
    "import vireoSNP\n",
    "import numpy as np\n",
    "from scipy import sparse\n",
    "from scipy.io import mmread\n",
    "import matplotlib.pyplot as plt\n",
    "from scipy.stats import hypergeom\n",
    "print(vireoSNP.__version__)\n",
    "\n",
    "import pandas as pd\n",
    "import seaborn as sns\n",
    "from vireoSNP import Vireo\n",
    "np.set_printoptions(formatter={'float': lambda x: format(x, '.5f')})"
   ]
  },
  {
   "cell_type": "code",
   "execution_count": 5,
   "metadata": {
    "ExecuteTime": {
     "end_time": "2021-05-13T20:12:13.160604Z",
     "start_time": "2021-05-13T20:12:13.157511Z"
    }
   },
   "outputs": [],
   "source": [
    "def filt_high(df, thresh):\n",
    "    return df.loc[(df.mean(axis=1)<thresh)].index.values\n"
   ]
  },
  {
   "cell_type": "markdown",
   "metadata": {
    "papermill": {
     "duration": 0.047745,
     "end_time": "2021-01-27T08:30:54.010679",
     "exception": false,
     "start_time": "2021-01-27T08:30:53.962934",
     "status": "completed"
    },
    "tags": []
   },
   "source": [
    "# Using vireo for clonal reconstruction - mitochondrial mutations"
   ]
  },
  {
   "cell_type": "markdown",
   "metadata": {
    "papermill": {
     "duration": 0.3043,
     "end_time": "2021-01-27T08:30:54.367961",
     "exception": false,
     "start_time": "2021-01-27T08:30:54.063661",
     "status": "completed"
    },
    "tags": []
   },
   "source": [
    "The mitochondrial mutations data set is extracted from [Ludwig et al, Cell, 2019](https://doi.org/10.1016/j.cell.2019.01.022), the 9 variants used here are from Supp Fig. 2F (and main Fig. 2F).\n",
    "\n",
    "For clonal reconstruction, we are using the core class `vireoSNP.Vireo` with multiple initializations"
   ]
  },
  {
   "cell_type": "markdown",
   "metadata": {},
   "source": [
    "## Load cluster results and test for enrichment"
   ]
  },
  {
   "cell_type": "code",
   "execution_count": 6,
   "metadata": {
    "ExecuteTime": {
     "end_time": "2021-05-13T20:12:13.249783Z",
     "start_time": "2021-05-13T20:12:13.162277Z"
    }
   },
   "outputs": [
    {
     "data": {
      "image/png": "[encoded data removed]",
      "text/plain": [
       "<Figure size 720x72 with 1 Axes>"
      ]
     },
     "metadata": {
      "needs_background": "light"
     },
     "output_type": "display_data"
    }
   ],
   "source": [
    "import seaborn as sns\n",
    "sns.palplot(sns.color_palette('Set2', 10))\n",
    "from mplh import cluster_help as ch"
   ]
  },
  {
   "cell_type": "code",
   "execution_count": null,
   "metadata": {},
   "outputs": [],
   "source": [
    "n_clone_list = [3, 5, 10, 20, 40]#[2,3,4,5,6,7]\n",
    "\n",
    "for n in range(N_DONORS):\n",
    "    curr_ad_f = join(OUTDIR, f\"cluster{n}.AD.mtx\")\n",
    "    curr_dp_f = join(OUTDIR, f\"cluster{n}.DP.mtx\")\n",
    "    print(curr_ad_f)\n",
    "    print(curr_dp_f)\n",
    "    curr_ad = mmread(curr_ad_f).tocsc()\n",
    "    curr_dp = mmread(curr_dp_f).tocsc()\n",
    "    curr_labels = pd.read_csv(join(OUTDIR, f\"cluster{n}.labels.txt\"), index_col=0)\n",
    "    out_f = join(OUTDIR,\"figures\", f\"cluster{n}_lineage_elbow.png\")\n",
    "    for k in n_clone_list:\n",
    "        curr_modelCA = pickle.load(open(out_f+f\"clones{k}.modelCA.p\", \"rb\"))\n",
    "        cell_clusters, sample_labels = extract_clusters(curr_modelCA, curr_ad, curr_dp, \n",
    "                                                        curr_labels)\n",
    "        # Create counts df \n",
    "        clust_counts = pd.DataFrame(index=[\"# Control Cells in Cluster\", \"# Flt3 Cells in Cluster\"], \n",
    "                                 columns=sample_labels.keys())\n",
    "        for curr_k in clust_counts.columns:\n",
    "            clust_counts.at[\"# Control Cells in Cluster\", curr_k] = (sample_labels[curr_k][\"sample ID\"] == \"Control\").sum()\n",
    "            clust_counts.at[\"# Flt3 Cells in Cluster\", curr_k] = (sample_labels[curr_k][\"sample ID\"] == \"Flt3\").sum()\n",
    "        clust_counts = clust_counts.astype(np.double)\n",
    "        fold_df = pd.DataFrame(np.log2((clust_counts.loc[\"# Flt3 Cells in Cluster\"]+1)/(clust_counts.loc[\"# Control Cells in Cluster\"]+1))).transpose()\n",
    "        fold_df = fold_df.rename({0:\"Flt3 fold enrichment\"}, axis=0)                \n",
    "        \n",
    "        # Get enrichment\n",
    "        enrich_df = run_enrichment(clust_counts)\n",
    "        enrich_stats = pd.concat((clust_counts, fold_df, enrich_df)).transpose()\n",
    "\n",
    "        f, ax = plt.subplots(nrows=3, ncols=1 ,figsize=(15,15),dpi=300)\n",
    "        labels = np.array([f\"{x:.2E}\" for x in enrich_df.astype(float).values[0]])\n",
    "        #fig, ax = plt.subplots()\n",
    "        sns.heatmap(enrich_df.astype(float), annot=True, fmt=\".2E\", cbar=False, #labels.reshape([1, len(labels)]), \n",
    "                    cmap='RdYlGn', ax=ax[0])\n",
    "        \n",
    "        ax[0].set_title(\"Flt3 enrichment p-value\")\n",
    "\n",
    "        \n",
    "\n",
    "        sns.heatmap(fold_df, ax=ax[1],  annot=True, fmt=\".2f\", cbar=False, cmap=\"RdBu\")\n",
    "                    #annot=np.array(labels).astype('unicode').reshape([1, len(labels)]))\n",
    "        ax[1].set_aspect('equal', adjustable='box')\n",
    "        ax[1].set_title(\"Log2 Fold change of flt3/control\")\n",
    "        \n",
    "        plt.xlabel(\"log2((Flt3+1)/(WT+1))\")\n",
    "        #plt.savefig(out_f+f\"clones{k}_labelChange.png\")\n",
    "        #plt.savefig(out_f+f\"clones{k}_labelCounts.png\")\n",
    "        sns.heatmap((clust_counts.astype(int)), vmin=0, ax=ax[2],annot=True, fmt=\".1E\", cbar=False, cmap=\"Blues\")\n",
    "        ax[2].set_title(\"Number of cells in each cluster\")\n",
    "        \n",
    "        plt.suptitle(f\"Donor {n}\")\n",
    "        plt.savefig(out_f+f\"clones{k}_labelEnrich.png\")\n",
    "        plt.close()\n",
    "\n",
    "        \n",
    "        # Put in scatterplot. \n",
    "        enrich_stats = pd.concat((clust_counts, fold_df, enrich_df)).transpose()\n",
    "        enrich_stats['p'] = enrich_stats['p'].astype(np.float32)\n",
    "        enrich_stats['-log10p'] = -np.log10(enrich_stats['p'])\n",
    "        enrich_stats.loc[enrich_stats[\"-log10p\"]==np.infty, \"-log10p\"] = 0\n",
    "        f = plt.figure(figsize=(10,10))\n",
    "        sns.scatterplot(data=enrich_stats,x=\"# Control Cells in Cluster\", y=\"# Flt3 Cells in Cluster\", size=\"-log10p\", s=100, \n",
    "                        sizes=(20,200), hue=\"Flt3 fold enrichment\", palette=\"RdBu\")\n",
    "        plt.savefig(out_f+f\"clones{k}_scatterEnrich.png\")\n",
    "        plt.close()\n",
    "        \n",
    "        \n",
    "        enrich_stats['Fisher p'] = enrich_stats['Fisher p'].astype(np.float32)\n",
    "        enrich_stats['Fisher -log10p'] = -np.log10(enrich_stats['Fisher p'])\n",
    "        enrich_stats.loc[enrich_stats[\"Fisher -log10p\"]==np.infty, \"Fisher -log10p\"] = 0\n",
    "        f, ax = plt.subplots(figsize=(10,10))\n",
    "        sns.scatterplot(data=enrich_stats,x=\"# Control Cells in Cluster\", y=\"# Flt3 Cells in Cluster\", size=\"Fisher -log10p\", s=100, \n",
    "                        sizes=(20,200), hue=\"Flt3 fold enrichment\", palette=\"RdBu\")\n",
    "        plt.axis('square')\n",
    "        ax.plot([0, 1], [0, 1], transform=ax.transAxes, color='black')\n",
    "        #ax.plot([0, max(max(enrich_stats[[\"Control\", \"Flt3\"]]))])\n",
    "\n",
    "        #helper_save(out_f+f\"clones{k}_scatterFisherEnrich.png\", to_pdf=False)\n",
    "        plt.savefig(out_f+f\"clones{k}_scatterFisherEnrich.png\", dpi=300)\n",
    "        plt.close()"
   ]
  }
 ],
 "metadata": {
  "celltoolbar": "Tags",
  "kernelspec": {
   "display_name": "Python 3",
   "language": "python",
   "name": "python3"
  },
  "language_info": {
   "codemirror_mode": {
    "name": "ipython",
    "version": 3
   },
   "file_extension": ".py",
   "mimetype": "text/x-python",
   "name": "python",
   "nbconvert_exporter": "python",
   "pygments_lexer": "ipython3",
   "version": "3.7.3"
  },
  "papermill": {
   "default_parameters": {},
   "duration": 5560.364131,
   "end_time": "2021-01-27T10:03:31.625455",
   "environment_variables": {},
   "exception": null,
   "input_path": "/data2/mito_lineage/src/vireo/vireoSNP_clones.ipynb",
   "output_path": "results/jan21_2021/chrM/P2_cellSNP_minC200_minAF0.01/lineage_chrM.ipynb",
   "parameters": {
    "AD_F": "data/jan21_2021/chrM/P2_cellSNP_minC200_minAF0.01/cellSNP.tag.AD.mtx",
    "DP_F": "data/jan21_2021/chrM/P2_cellSNP_minC200_minAF0.01/cellSNP.tag.DP.mtx"
   },
   "start_time": "2021-01-27T08:30:51.261324",
   "version": "2.2.0"
  }
 },
 "nbformat": 4,
 "nbformat_minor": 4
}
