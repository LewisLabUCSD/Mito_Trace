{
 "cells": [
  {
   "cell_type": "code",
   "execution_count": 1,
   "metadata": {
    "ExecuteTime": {
     "end_time": "2021-05-13T20:12:12.096903Z",
     "start_time": "2021-05-13T20:12:12.086904Z"
    },
    "scrolled": false
   },
   "outputs": [
    {
     "data": {
      "text/plain": [
       "'/data2/mito_lineage/src/vireo'"
      ]
     },
     "execution_count": 1,
     "metadata": {},
     "output_type": "execute_result"
    }
   ],
   "source": [
    "pwd"
   ]
  },
  {
   "cell_type": "code",
   "execution_count": 2,
   "metadata": {
    "ExecuteTime": {
     "end_time": "2021-05-13T20:12:12.105680Z",
     "start_time": "2021-05-13T20:12:12.099105Z"
    },
    "tags": [
     "parameters"
    ]
   },
   "outputs": [],
   "source": [
    "\n",
    "INDIR=\"/data/isshamie/mito_lineage/output/pipeline/cd34norm/MTblacklist/data/merged/MT/cellr_True/numread_200/filters/minC10_minR50_topN0_hetT0.001_hetC5_hetCount2_bq20/mgatk/vireoIn/multiplex\"\n",
    "OUTDIR = \"/data/isshamie/mito_lineage/output/pipeline/cd34norm/MTblacklist/data/merged/MT/cellr_True/numread_200/filters/minC10_minR50_topN0_hetT0.001_hetC5_hetCount2_bq20/mgatk/vireoIn/multiplex/dendrograms\"\n",
    "sample_names =  \"Control,Flt3l\"\n",
    "N_DONORS=4\n",
    "#curr_dir=\"/data2/mito_lineage\"\n",
    "# INDIR=\"data/processed/mttrace/CHIP_april08_2021/MTblacklist/merged/MT/cellr_True/numread_200/filters/minC10_minR50_topN0_hetT0.001_hetC10_hetCount5_bq20/filter_mgatk/vireoIn/multiplex\"\n",
    "# OUTDIR=\"data/processed/mttrace/CHIP_april08_2021/MTblacklist/merged/MT/cellr_True/numread_200/filters/minC10_minR50_topN0_hetT0.001_hetC10_hetCount5_bq20/filter_mgatk/vireoIn/dendrograms\"\n",
    "# #OUTDIR= \"data/CHIP_april08_2021/MTblacklist/chrM/pseudo/minC200_minAF0.01/numC100000_ispropFalse/variants\"\n",
    "# N_DONORS=5 \n",
    "# sample_names=\"Control,Flt3l,Input\""
   ]
  },
  {
   "cell_type": "code",
   "execution_count": 3,
   "metadata": {},
   "outputs": [],
   "source": [
    "import os\n",
    "from src.utils.data_io import setup_outdir\n",
    "#os.chdir(curr_dir)\n",
    "setup_outdir(OUTDIR, dirs=('figures',))"
   ]
  },
  {
   "cell_type": "code",
   "execution_count": 4,
   "metadata": {
    "ExecuteTime": {
     "end_time": "2021-05-13T20:12:12.127379Z",
     "start_time": "2021-05-13T20:12:12.108328Z"
    }
   },
   "outputs": [],
   "source": [
    "sample_names = {ind:val for ind,val in enumerate(sample_names.split(\",\"))}"
   ]
  },
  {
   "cell_type": "code",
   "execution_count": 5,
   "metadata": {
    "ExecuteTime": {
     "end_time": "2021-05-13T20:12:13.155526Z",
     "start_time": "2021-05-13T20:12:12.130665Z"
    }
   },
   "outputs": [],
   "source": [
    "import mplh.cluster_help as ch\n",
    "from os.path import join, exists, dirname\n",
    "import matplotlib.pyplot as plt\n",
    "import vireoSNP\n",
    "import numpy as np\n",
    "import pandas as pd\n",
    "import seaborn as sns\n",
    "from scipy.io import mmread"
   ]
  },
  {
   "cell_type": "code",
   "execution_count": 6,
   "metadata": {
    "ExecuteTime": {
     "end_time": "2021-05-13T20:12:13.160604Z",
     "start_time": "2021-05-13T20:12:13.157511Z"
    }
   },
   "outputs": [],
   "source": [
    "def filt_high(df, thresh):\n",
    "    return df.loc[(df.mean(axis=1)<thresh)].index.values\n"
   ]
  },
  {
   "cell_type": "markdown",
   "metadata": {
    "papermill": {
     "duration": 0.047745,
     "end_time": "2021-01-27T08:30:54.010679",
     "exception": false,
     "start_time": "2021-01-27T08:30:53.962934",
     "status": "completed"
    },
    "tags": []
   },
   "source": [
    "# Using vireo for clonal reconstruction - mitochondrial mutations"
   ]
  },
  {
   "cell_type": "markdown",
   "metadata": {
    "papermill": {
     "duration": 0.3043,
     "end_time": "2021-01-27T08:30:54.367961",
     "exception": false,
     "start_time": "2021-01-27T08:30:54.063661",
     "status": "completed"
    },
    "tags": []
   },
   "source": [
    "The mitochondrial mutations data set is extracted from [Ludwig et al, Cell, 2019](https://doi.org/10.1016/j.cell.2019.01.022), the 9 variants used here are from Supp Fig. 2F (and main Fig. 2F).\n",
    "\n",
    "For clonal reconstruction, we are using the core class `vireoSNP.Vireo` with multiple initializations"
   ]
  },
  {
   "cell_type": "markdown",
   "metadata": {},
   "source": [
    "## Load cluster results and test for enrichment"
   ]
  },
  {
   "cell_type": "code",
   "execution_count": 7,
   "metadata": {
    "ExecuteTime": {
     "end_time": "2021-05-13T20:12:13.249783Z",
     "start_time": "2021-05-13T20:12:13.162277Z"
    }
   },
   "outputs": [],
   "source": [
    "import seaborn as sns\n",
    "from mplh import cluster_help as ch"
   ]
  },
  {
   "cell_type": "code",
   "execution_count": 8,
   "metadata": {},
   "outputs": [
    {
     "data": {
      "text/html": [
       "<div>\n",
       "<style scoped>\n",
       "    .dataframe tbody tr th:only-of-type {\n",
       "        vertical-align: middle;\n",
       "    }\n",
       "\n",
       "    .dataframe tbody tr th {\n",
       "        vertical-align: top;\n",
       "    }\n",
       "\n",
       "    .dataframe thead th {\n",
       "        text-align: right;\n",
       "    }\n",
       "</style>\n",
       "<table border=\"1\" class=\"dataframe\">\n",
       "  <thead>\n",
       "    <tr style=\"text-align: right;\">\n",
       "      <th></th>\n",
       "      <th>ID</th>\n",
       "      <th>raw ID</th>\n",
       "      <th>new index</th>\n",
       "      <th>condition</th>\n",
       "      <th>donor</th>\n",
       "      <th>donor_index</th>\n",
       "    </tr>\n",
       "    <tr>\n",
       "      <th>index</th>\n",
       "      <th></th>\n",
       "      <th></th>\n",
       "      <th></th>\n",
       "      <th></th>\n",
       "      <th></th>\n",
       "      <th></th>\n",
       "    </tr>\n",
       "  </thead>\n",
       "  <tbody>\n",
       "    <tr>\n",
       "      <th>0</th>\n",
       "      <td>AAACGAAAGAGGTCCA-1_Control</td>\n",
       "      <td>AAACGAAAGAGGTCCA-1</td>\n",
       "      <td>1</td>\n",
       "      <td>Control</td>\n",
       "      <td>0</td>\n",
       "      <td>1</td>\n",
       "    </tr>\n",
       "    <tr>\n",
       "      <th>1</th>\n",
       "      <td>AAACGAAAGCGATACG-1_Control</td>\n",
       "      <td>AAACGAAAGCGATACG-1</td>\n",
       "      <td>2</td>\n",
       "      <td>Control</td>\n",
       "      <td>2</td>\n",
       "      <td>1</td>\n",
       "    </tr>\n",
       "    <tr>\n",
       "      <th>2</th>\n",
       "      <td>AAACGAAAGTCGTGAG-1_Control</td>\n",
       "      <td>AAACGAAAGTCGTGAG-1</td>\n",
       "      <td>3</td>\n",
       "      <td>Control</td>\n",
       "      <td>3</td>\n",
       "      <td>1</td>\n",
       "    </tr>\n",
       "    <tr>\n",
       "      <th>3</th>\n",
       "      <td>AAACGAACAATAGTGA-1_Control</td>\n",
       "      <td>AAACGAACAATAGTGA-1</td>\n",
       "      <td>4</td>\n",
       "      <td>Control</td>\n",
       "      <td>0</td>\n",
       "      <td>2</td>\n",
       "    </tr>\n",
       "    <tr>\n",
       "      <th>4</th>\n",
       "      <td>AAACGAACACAATAAG-1_Control</td>\n",
       "      <td>AAACGAACACAATAAG-1</td>\n",
       "      <td>5</td>\n",
       "      <td>Control</td>\n",
       "      <td>3</td>\n",
       "      <td>2</td>\n",
       "    </tr>\n",
       "    <tr>\n",
       "      <th>...</th>\n",
       "      <td>...</td>\n",
       "      <td>...</td>\n",
       "      <td>...</td>\n",
       "      <td>...</td>\n",
       "      <td>...</td>\n",
       "      <td>...</td>\n",
       "    </tr>\n",
       "    <tr>\n",
       "      <th>17400</th>\n",
       "      <td>TTTGTGTTCGAGTTAC-1_Flt3l</td>\n",
       "      <td>TTTGTGTTCGAGTTAC-1</td>\n",
       "      <td>17401</td>\n",
       "      <td>Flt3l</td>\n",
       "      <td>3</td>\n",
       "      <td>4204</td>\n",
       "    </tr>\n",
       "    <tr>\n",
       "      <th>17401</th>\n",
       "      <td>TTTGTGTTCGCATAAC-1_Flt3l</td>\n",
       "      <td>TTTGTGTTCGCATAAC-1</td>\n",
       "      <td>17402</td>\n",
       "      <td>Flt3l</td>\n",
       "      <td>&lt;NA&gt;</td>\n",
       "      <td>&lt;NA&gt;</td>\n",
       "    </tr>\n",
       "    <tr>\n",
       "      <th>17402</th>\n",
       "      <td>TTTGTGTTCGTGGTAT-1_Flt3l</td>\n",
       "      <td>TTTGTGTTCGTGGTAT-1</td>\n",
       "      <td>17403</td>\n",
       "      <td>Flt3l</td>\n",
       "      <td>2</td>\n",
       "      <td>3853</td>\n",
       "    </tr>\n",
       "    <tr>\n",
       "      <th>17403</th>\n",
       "      <td>TTTGTGTTCGTTACAG-1_Flt3l</td>\n",
       "      <td>TTTGTGTTCGTTACAG-1</td>\n",
       "      <td>17404</td>\n",
       "      <td>Flt3l</td>\n",
       "      <td>0</td>\n",
       "      <td>3749</td>\n",
       "    </tr>\n",
       "    <tr>\n",
       "      <th>17404</th>\n",
       "      <td>TTTGTGTTCTCCTTGG-1_Flt3l</td>\n",
       "      <td>TTTGTGTTCTCCTTGG-1</td>\n",
       "      <td>17405</td>\n",
       "      <td>Flt3l</td>\n",
       "      <td>0</td>\n",
       "      <td>3750</td>\n",
       "    </tr>\n",
       "  </tbody>\n",
       "</table>\n",
       "<p>17405 rows × 6 columns</p>\n",
       "</div>"
      ],
      "text/plain": [
       "                               ID              raw ID  new index condition  \\\n",
       "index                                                                        \n",
       "0      AAACGAAAGAGGTCCA-1_Control  AAACGAAAGAGGTCCA-1          1   Control   \n",
       "1      AAACGAAAGCGATACG-1_Control  AAACGAAAGCGATACG-1          2   Control   \n",
       "2      AAACGAAAGTCGTGAG-1_Control  AAACGAAAGTCGTGAG-1          3   Control   \n",
       "3      AAACGAACAATAGTGA-1_Control  AAACGAACAATAGTGA-1          4   Control   \n",
       "4      AAACGAACACAATAAG-1_Control  AAACGAACACAATAAG-1          5   Control   \n",
       "...                           ...                 ...        ...       ...   \n",
       "17400    TTTGTGTTCGAGTTAC-1_Flt3l  TTTGTGTTCGAGTTAC-1      17401     Flt3l   \n",
       "17401    TTTGTGTTCGCATAAC-1_Flt3l  TTTGTGTTCGCATAAC-1      17402     Flt3l   \n",
       "17402    TTTGTGTTCGTGGTAT-1_Flt3l  TTTGTGTTCGTGGTAT-1      17403     Flt3l   \n",
       "17403    TTTGTGTTCGTTACAG-1_Flt3l  TTTGTGTTCGTTACAG-1      17404     Flt3l   \n",
       "17404    TTTGTGTTCTCCTTGG-1_Flt3l  TTTGTGTTCTCCTTGG-1      17405     Flt3l   \n",
       "\n",
       "       donor  donor_index  \n",
       "index                      \n",
       "0          0            1  \n",
       "1          2            1  \n",
       "2          3            1  \n",
       "3          0            2  \n",
       "4          3            2  \n",
       "...      ...          ...  \n",
       "17400      3         4204  \n",
       "17401   <NA>         <NA>  \n",
       "17402      2         3853  \n",
       "17403      0         3749  \n",
       "17404      0         3750  \n",
       "\n",
       "[17405 rows x 6 columns]"
      ]
     },
     "execution_count": 8,
     "metadata": {},
     "output_type": "execute_result"
    }
   ],
   "source": [
    "cells_meta = pd.read_csv(join(INDIR, \"cells_meta.tsv\"), index_col=0, sep='\\t')\n",
    "cells_meta = cells_meta.astype({\"donor\":\"Int64\", 'donor_index': 'Int64'})\n",
    "cells_meta"
   ]
  },
  {
   "cell_type": "code",
   "execution_count": null,
   "metadata": {
    "ExecuteTime": {
     "end_time": "2021-05-13T20:12:13.430341Z",
     "start_time": "2021-05-13T20:12:13.251906Z"
    },
    "code_folding": [],
    "scrolled": true
   },
   "outputs": [
    {
     "name": "stdout",
     "output_type": "stream",
     "text": [
      "/data/isshamie/mito_lineage/output/pipeline/cd34norm/MTblacklist/data/merged/MT/cellr_True/numread_200/filters/minC10_minR50_topN0_hetT0.001_hetC5_hetCount2_bq20/mgatk/vireoIn/multiplex/donor0.AD.mtx\n",
      "/data/isshamie/mito_lineage/output/pipeline/cd34norm/MTblacklist/data/merged/MT/cellr_True/numread_200/filters/minC10_minR50_topN0_hetT0.001_hetC5_hetCount2_bq20/mgatk/vireoIn/multiplex/donor0.DP.mtx\n",
      "clustering\n",
      "cmap None\n",
      "clustering\n",
      "cmap None\n",
      "clustering\n",
      "cmap None\n",
      "/data/isshamie/mito_lineage/output/pipeline/cd34norm/MTblacklist/data/merged/MT/cellr_True/numread_200/filters/minC10_minR50_topN0_hetT0.001_hetC5_hetCount2_bq20/mgatk/vireoIn/multiplex/donor1.AD.mtx\n",
      "/data/isshamie/mito_lineage/output/pipeline/cd34norm/MTblacklist/data/merged/MT/cellr_True/numread_200/filters/minC10_minR50_topN0_hetT0.001_hetC5_hetCount2_bq20/mgatk/vireoIn/multiplex/donor1.DP.mtx\n",
      "clustering\n",
      "cmap None\n",
      "clustering\n",
      "cmap None\n"
     ]
    }
   ],
   "source": [
    "#n_clone_list = [7]#[2,3,4,5,6,7]\n",
    "\n",
    "for n in range(N_DONORS):\n",
    "    out_f = join(OUTDIR, 'figures',  f\"donor{n}_dendrogram.png\")\n",
    "    curr_ad_f = join(INDIR, f\"donor{n}.AD.mtx\")\n",
    "    curr_dp_f = join(INDIR, f\"donor{n}.DP.mtx\")\n",
    "    print(curr_ad_f)\n",
    "    print(curr_dp_f)\n",
    "    curr_ad = mmread(curr_ad_f).tocsc()\n",
    "    curr_dp = mmread(curr_dp_f).tocsc()\n",
    "    AD_df = pd.DataFrame(curr_ad.todense())\n",
    "    DP_df = pd.DataFrame(curr_dp.todense())\n",
    "    DP_df.index.name = \"Variant\"\n",
    "    DP_df.columns.name = \"Cell\"\n",
    "    AD_df.index.name = \"Variant\"\n",
    "    AD_df.columns.name = \"Cell\"\n",
    "    AF_df = AD_df/(DP_df+0.001)\n",
    "    #AD_df = pd.merge(AD_df, vcf[[\"#CHROM\", \"POS\", \"ALT\"]], how=\"inner\", left_index=True,right_index=True).set_index([\"#CHROM\", \"POS\", \"ALT\"])\n",
    "    curr_labels = cells_meta.loc[cells_meta['donor']==n].copy().sort_values(\"donor_index\").reset_index()    \n",
    "    \n",
    "    if (AF_df.shape[1] > 500):\n",
    "        cols=np.random.choice(AF_df.columns,size=500, replace=False)\n",
    "    else:\n",
    "        cols = AF_df.columns\n",
    "    if (AF_df.shape[0] > 500):\n",
    "        rows = AF_df.mean(axis=1).sort_values(ascending=False).index[:500]\n",
    "    else:\n",
    "        rows = AF_df.index\n",
    "    \n",
    "    nvars = AF_df.shape[0]\n",
    "    ncells = AF_df.shape[1]\n",
    "    \n",
    "    AF_df = AF_df.loc[rows,cols]\n",
    "    DP_df = DP_df.loc[rows,cols]\n",
    "    curr_labels = curr_labels.loc[cols]\n",
    "    \n",
    "    g = ch.plot_cluster(np.sqrt(AF_df), col_meta=curr_labels[[\"condition\"]], to_row_clust=True, to_col_clust=True, use_white=False )\n",
    "    #g = sns.clustermap(np.sqrt(AF_df), col_colors=curr_labels[[\"Color\"]], to_row_clust=True, to_col_clust=True, metric='jaccard')\n",
    "    plt.suptitle(f\"Donor:{n} Square root variant allele frequency\\nvars:{nvars} cells:{ncells}\")\n",
    "    plt.savefig(out_f.replace(\".png\",\".withHigh.png\"))\n",
    "    \n",
    "    varsLow = filt_high(AF_df, thresh=0.9)\n",
    "    AF_df = AF_df.loc[varsLow]\n",
    "    DP_df = DP_df.loc[varsLow]\n",
    "    \n",
    "    g = ch.plot_cluster(np.sqrt(AF_df), col_meta=curr_labels[[\"condition\"]], to_row_clust=True, to_col_clust=True, use_white=False )\n",
    "    \n",
    "    plt.suptitle(f\"Donor:{n} Square root variant allele frequency removing donor-specific variants\\nvars:{nvars} cells:{ncells}\")\n",
    "    plt.savefig(out_f)\n",
    "    \n",
    "    inds = g.dendrogram_row.dendrogram[\"leaves\"]\n",
    "    cols = g.dendrogram_col.dendrogram[\"leaves\"]\n",
    "\n",
    "    ch.plot_cluster(np.log2(DP_df.iloc[inds, cols]+1), to_row_clust=False, to_col_clust=False, \n",
    "                            col_meta=curr_labels.iloc[cols][[\"condition\"]], use_white=False)\n",
    "\n",
    "    plt.suptitle(f\"Donor:{n}\\nLog2 counts\")\n",
    "    plt.savefig(out_f.replace(\".png\",\".depth.png\"))"
   ]
  },
  {
   "cell_type": "code",
   "execution_count": 10,
   "metadata": {
    "scrolled": true
   },
   "outputs": [],
   "source": [
    "# import mplh.cluster_help as ch\n",
    "\n",
    "# ch.plot_cluster(np.log2(DP_df.iloc[inds, cols2]+1), to_row_clust=False, to_col_clust=False, \n",
    "#                         col_meta=curr_labels.iloc[cols2][[\"condition\"]], use_white=False )\n"
   ]
  }
 ],
 "metadata": {
  "celltoolbar": "Tags",
  "kernelspec": {
   "display_name": "Python 3",
   "language": "python",
   "name": "python3"
  },
  "language_info": {
   "codemirror_mode": {
    "name": "ipython",
    "version": 3
   },
   "file_extension": ".py",
   "mimetype": "text/x-python",
   "name": "python",
   "nbconvert_exporter": "python",
   "pygments_lexer": "ipython3",
   "version": "3.6.13"
  },
  "papermill": {
   "default_parameters": {},
   "duration": 5560.364131,
   "end_time": "2021-01-27T10:03:31.625455",
   "environment_variables": {},
   "exception": null,
   "input_path": "/data2/mito_lineage/src/vireo/vireoSNP_clones.ipynb",
   "output_path": "results/jan21_2021/chrM/P2_cellSNP_minC200_minAF0.01/lineage_chrM.ipynb",
   "parameters": {
    "AD_F": "data/jan21_2021/chrM/P2_cellSNP_minC200_minAF0.01/cellSNP.tag.AD.mtx",
    "DP_F": "data/jan21_2021/chrM/P2_cellSNP_minC200_minAF0.01/cellSNP.tag.DP.mtx"
   },
   "start_time": "2021-01-27T08:30:51.261324",
   "version": "2.2.0"
  }
 },
 "nbformat": 4,
 "nbformat_minor": 4
}
