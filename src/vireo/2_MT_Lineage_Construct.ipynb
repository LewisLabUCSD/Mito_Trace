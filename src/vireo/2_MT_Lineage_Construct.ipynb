{
 "cells": [
  {
   "cell_type": "markdown",
   "metadata": {
    "papermill": {
     "duration": 0.047745,
     "end_time": "2021-01-27T08:30:54.010679",
     "exception": false,
     "start_time": "2021-01-27T08:30:53.962934",
     "status": "completed"
    },
    "tags": []
   },
   "source": [
    "# Using vireo for multiplexing, followed by lineage tracing of those groups"
   ]
  },
  {
   "cell_type": "markdown",
   "metadata": {},
   "source": [
    "# 1. Set up"
   ]
  },
  {
   "cell_type": "code",
   "execution_count": null,
   "metadata": {
    "ExecuteTime": {
     "end_time": "2021-06-04T17:43:43.984223Z",
     "start_time": "2021-06-04T17:43:43.979835Z"
    }
   },
   "outputs": [],
   "source": [
    "#import os\n",
    "#os.chdir(\"/data2/mito_lineage/\")#Analysis/multiplex\")"
   ]
  },
  {
   "cell_type": "code",
   "execution_count": null,
   "metadata": {
    "ExecuteTime": {
     "end_time": "2021-06-04T17:43:44.002330Z",
     "start_time": "2021-06-04T17:43:43.987777Z"
    }
   },
   "outputs": [],
   "source": [
    "# papermill --cwd /data2/mito_lineage -p INDIR {INDIR} -p OUTDIR data/processed/mttrace/CHIP_april08_2021_Croker/MTblacklist/merged/MT/cellr_True/numread_200/filters/minC10_minR50_topN0_hetT0.001_hetC10_hetCount5_bq20/filter_mgatk/vireoIn/clones -p  src/vireo/2_MT_Lineage_Construct.ipynb "
   ]
  },
  {
   "cell_type": "code",
   "execution_count": null,
   "metadata": {
    "ExecuteTime": {
     "end_time": "2021-06-04T17:43:44.028790Z",
     "start_time": "2021-06-04T17:43:44.006245Z"
    },
    "scrolled": false
   },
   "outputs": [],
   "source": [
    "pwd"
   ]
  },
  {
   "cell_type": "markdown",
   "metadata": {},
   "source": [
    "### Remove this when running in snakemake"
   ]
  },
  {
   "cell_type": "markdown",
   "metadata": {},
   "source": [
    "## 1.1 Parameters"
   ]
  },
  {
   "cell_type": "code",
   "execution_count": null,
   "metadata": {
    "ExecuteTime": {
     "end_time": "2021-06-04T17:43:44.036919Z",
     "start_time": "2021-06-04T17:43:44.032369Z"
    },
    "tags": [
     "parameters"
    ]
   },
   "outputs": [],
   "source": [
    "# INDIR=\"\"\n",
    "# OUTDIR=\"\"\n",
    "# N_DONORS=5\n",
    "\n",
    "# INDIR= \"data/processed/mttrace/TcellDupi_may17_2021/MTblacklist/merged/filters/minC10_minR50_topN0_hetT0.001_hetC10_hetCount5_bq20/filter_mgatk/vireoIn/multiplex\"\n",
    "# OUTDIR= \"data/processed/mttrace/TcellDupi_may17_2021/MTblacklist/merged/filters/minC10_minR50_topN0_hetT0.001_hetC10_hetCount5_bq20/filter_mgatk/vireoIn/clones/\"\n",
    "# N_DONORS=2\n",
    "DEBUG=True\n",
    "\n",
    "INDIR= \"data/processed/mttrace/TcellDupi_may17_2021/MTblacklist/merged/filters/minC10_minR50_topN0_hetT0.001_hetC10_hetCount5_bq20/filter_mgatk/vireoIn/multiplex\"\n",
    "OUTDIR = \"data/processed/mttrace/TcellDupi_may17_2021/MTblacklist/merged/filters/minC10_minR50_topN0_hetT0.001_hetC10_hetCount5_bq20/filter_mgatk/vireoIn/clones\"\n",
    "#N_DONORS=2\n",
    "N_DONORS=4 #0 #Donor ID\n",
    "\n",
    "nclones = 20\n",
    "#n_clone_list=\"20,40,100\"#[20, 40, 100]"
   ]
  },
  {
   "cell_type": "code",
   "execution_count": null,
   "metadata": {},
   "outputs": [],
   "source": [
    "nclones = int(nclones)"
   ]
  },
  {
   "cell_type": "code",
   "execution_count": null,
   "metadata": {},
   "outputs": [],
   "source": [
    "# n_clone_list = [int(x) for x in n_clone_list.split(\",\")]\n",
    "# n_clone_list"
   ]
  },
  {
   "cell_type": "code",
   "execution_count": null,
   "metadata": {
    "ExecuteTime": {
     "end_time": "2021-06-04T17:43:44.046913Z",
     "start_time": "2021-06-04T17:43:44.039867Z"
    }
   },
   "outputs": [],
   "source": [
    "# # Parameters\n",
    "# #INDIR=\"data/CHIP_april08_2021/MTblacklist/chrM/pseudo/minC200_minAF0.0001/numC25000_ispropFalse/\"\n",
    "# INDIR=\"\"\n",
    "# OUTDIR=\"\"\n",
    "# #OUTDIR=\"data/CHIP_april08_2021/MTblacklist/chrM/pseudo/minC200_minAF0.0001/numC25000_ispropFalse/lineages\"\n",
    "# N_DONORS=5"
   ]
  },
  {
   "cell_type": "markdown",
   "metadata": {},
   "source": [
    "## 1.2 Import packages"
   ]
  },
  {
   "cell_type": "code",
   "execution_count": null,
   "metadata": {
    "ExecuteTime": {
     "end_time": "2021-06-04T17:51:34.448465Z",
     "start_time": "2021-06-04T17:51:34.198577Z"
    },
    "scrolled": false
   },
   "outputs": [],
   "source": [
    "from os.path import join, exists, dirname\n",
    "from icecream import ic\n",
    "from glob import glob\n",
    "import mplh.cluster_help as ch\n",
    "import os\n",
    "from vireoSNP.plot.base_plot import heat_matrix\n",
    "from vireoSNP import Vireo\n",
    "import src.pseudo_batch as pb\n",
    "import vireoSNP\n",
    "ic(vireoSNP.__version__)\n",
    "from tqdm import tqdm\n",
    "import numpy as np\n",
    "from scipy import sparse\n",
    "from scipy.io import mmread\n",
    "import matplotlib.pyplot as plt\n",
    "import pandas as pd\n",
    "import seaborn as sns\n",
    "from src.vireo.vireo_utils import run_vireo, plot_vireo_out, extract_clusters, run_elbo, separate_donors\n",
    "%load_ext autoreload\n",
    "%autoreload 2\n",
    "from src.vireo.vireo_utils import run_lineage\n",
    "#np.set_icoptions(formatter={'float': lambda x: format(x, '.5f')})"
   ]
  },
  {
   "cell_type": "code",
   "execution_count": null,
   "metadata": {},
   "outputs": [],
   "source": [
    "if not DEBUG:\n",
    "    ic.disable()\n"
   ]
  },
  {
   "cell_type": "markdown",
   "metadata": {},
   "source": [
    "# 2 Lineage construction for each donor"
   ]
  },
  {
   "cell_type": "code",
   "execution_count": null,
   "metadata": {
    "ExecuteTime": {
     "end_time": "2021-06-04T17:43:46.649280Z",
     "start_time": "2021-06-04T17:43:46.610964Z"
    }
   },
   "outputs": [],
   "source": [
    "# num_cores = 12# N_DONORS #multiprocessing.cpu_count()\n",
    "# inputs = tqdm(np.arange(N_DONORS))\n",
    "# for n in np.arange(N_DONORS):\n",
    "#     ic('n', n)\n",
    "#     run_lineage(n, INDIR, OUTDIR, n_clone_list=[5, 10, 20, 40, 100], rerun_model=False)"
   ]
  },
  {
   "cell_type": "code",
   "execution_count": null,
   "metadata": {
    "ExecuteTime": {
     "end_time": "2021-06-04T17:43:46.792143Z",
     "start_time": "2021-06-04T17:43:46.694972Z"
    },
    "scrolled": true
   },
   "outputs": [],
   "source": [
    "cells_meta = pd.read_csv(join(INDIR, f\"cells_meta.tsv\"), sep='\\t')\n",
    "\n",
    "cells_meta=cells_meta.astype({\"donor_index\": \"Int64\", \"donor\": \"Int64\"})\n",
    "\n",
    "sns.countplot(cells_meta[\"donor\"].fillna(-1))"
   ]
  },
  {
   "cell_type": "code",
   "execution_count": null,
   "metadata": {
    "ExecuteTime": {
     "end_time": "2021-06-04T17:43:46.850550Z",
     "start_time": "2021-06-04T17:43:46.795667Z"
    }
   },
   "outputs": [],
   "source": [
    "def run_lineage_wrap(indir, outdir, n_donors, nclones, cells_meta):\n",
    " #   for clone in n_clone_list:\n",
    "#     cells_meta_col = f\"lineage{nclones}\"\n",
    "#     curr_outdir = join(outdir, cells_meta_col)\n",
    "\n",
    "    if not exists(outdir):\n",
    "        os.mkdir(outdir)\n",
    "    curr_cells_meta = cells_meta.copy()\n",
    "    all_cells_meta = [] #concat across donors\n",
    "\n",
    "    for donor in np.arange(n_donors):\n",
    "        print(f'clone: {nclones} donor: {donor}')\n",
    "        curr_ad_f = join(indir, f\"donor{donor}.AD.mtx\")\n",
    "        curr_dp_f = join(indir, f\"donor{donor}.DP.mtx\")\n",
    "        curr_labels_f = join(indir, f\"donor{donor}.labels.txt\")\n",
    "        curr_vcf_f = join(indir, f\"donor{donor}.vcf\")\n",
    "        curr_labels_rawID = join(indir, f\"cell_labels.donor{donor}.txt\")\n",
    "        prefix=f\"donor{donor}\"\n",
    "\n",
    "        ic(curr_ad_f)\n",
    "        ic(curr_dp_f)\n",
    "        if not ((cells_meta[\"donor\"] == donor).any()):\n",
    "            print(f\"Donor {donor} is empty. Continuing\")\n",
    "            continue\n",
    "        curr_ad = mmread(curr_ad_f).tocsc()\n",
    "        curr_dp = mmread(curr_dp_f).tocsc()\n",
    "        curr_labels = pd.read_csv(curr_labels_f, index_col=0)\n",
    "\n",
    "        curr_vcf = pd.read_csv(curr_vcf_f, sep='\\t')\n",
    "        ic('curr_vcf')\n",
    "        ic(curr_vcf.head())\n",
    "        #curr_cells_meta = pd.read_csv(curr_labels_rawID, index_col=0)\n",
    "#             ic('curr_labels')\n",
    "#             ic(curr_labels.head())\n",
    "        #prefix = f\"donor{donor}_\"\n",
    "        model_name = f\"{prefix}\"#lineage_{nclones}\"\n",
    "        modelCA, elbo = run_vireo(curr_ad, curr_dp, nclones, n_cores=32, plot_qc=True,out_f=join(outdir, model_name))\n",
    "        try:\n",
    "            doublet_prob = modelCA.predict_doublet(curr_ad, curr_dp, update_GT=False, update_ID=False)[0].sum(axis=1)\n",
    "        except AttributeError: # New version of Vireo 2021\n",
    "            #doublet_prob = vireoSNP.utils.vireo_doublet.predict_doublet(modelCA,AD, DP, update_GT=False, update_ID=False)[0].sum(axis=1)\n",
    "            doublet_prob = vireoSNP.utils.vireo_doublet.predict_doublet(modelCA, curr_ad, curr_dp, update_GT=False, update_ID=False)[0].sum(axis=1)\n",
    "\n",
    "        separate_donors(curr_ad, curr_dp, modelCA, curr_cells_meta, outdir,\n",
    "                        doublet_prob,\n",
    "                        prob_thresh=0.9, doublet_thresh=0.9,\n",
    "                        cells_ind_col='donor_index',\n",
    "                        out_name=\"lineage\", prefix=prefix, cells_filt_col=\"donor\", \n",
    "                        cells_filt_val=donor, vars_meta=curr_vcf)    \n",
    "\n",
    "        lin_cells_meta = pd.read_csv(join(outdir, f\"{prefix}cells_meta.tsv\"), sep='\\t')\n",
    "        ic(lin_cells_meta.head())\n",
    "        ic(lin_cells_meta.shape)\n",
    "        all_cells_meta.append(lin_cells_meta)\n",
    "        ic(\"Plotting AF SNPs\")\n",
    "        lin_cells_meta = lin_cells_meta.astype({\"lineage\": 'Int64'}).fillna(-1).astype(str)\n",
    "        plot_vireo_out(modelCA, out_f=join(outdir, model_name), \n",
    "                       labels=lin_cells_meta[[\"condition\", \"lineage\"]], \n",
    "                       doublet_prob=doublet_prob)\n",
    "\n",
    "        plt.close()\n",
    "\n",
    "    # Concat cells_meta across donors\n",
    "    all_cells_meta = pd.concat(all_cells_meta, axis=0)\n",
    "    all_cells_meta = all_cells_meta.astype({\"lineage_index\": \"Int64\", \"lineage\": \"Int64\"})\n",
    "    ic(all_cells_meta.head())\n",
    "    ic(all_cells_meta.shape)\n",
    "    all_cells_meta.to_csv(join(outdir, \"cells_meta.tsv\"), sep='\\t')\n",
    "    return"
   ]
  },
  {
   "cell_type": "code",
   "execution_count": null,
   "metadata": {
    "ExecuteTime": {
     "end_time": "2021-06-04T17:50:26.047446Z",
     "start_time": "2021-06-04T17:43:46.854008Z"
    },
    "scrolled": true
   },
   "outputs": [],
   "source": [
    "run_lineage_wrap(INDIR, OUTDIR, N_DONORS, nclones, cells_meta)"
   ]
  }
 ],
 "metadata": {
  "celltoolbar": "Tags",
  "kernelspec": {
   "display_name": "Python 3 (ipykernel)",
   "language": "python",
   "name": "python3"
  },
  "language_info": {
   "codemirror_mode": {
    "name": "ipython",
    "version": 3
   },
   "file_extension": ".py",
   "mimetype": "text/x-python",
   "name": "python",
   "nbconvert_exporter": "python",
   "pygments_lexer": "ipython3",
   "version": "3.7.12"
  },
  "papermill": {
   "default_parameters": {},
   "duration": 5560.364131,
   "end_time": "2021-01-27T10:03:31.625455",
   "environment_variables": {},
   "exception": null,
   "input_path": "/data2/mito_lineage/src/vireo/vireoSNP_clones.ipynb",
   "output_path": "results/jan21_2021/chrM/P2_cellSNP_minC200_minAF0.01/lineage_chrM.ipynb",
   "parameters": {
    "AD_F": "data/jan21_2021/chrM/P2_cellSNP_minC200_minAF0.01/cellSNP.tag.AD.mtx",
    "DP_F": "data/jan21_2021/chrM/P2_cellSNP_minC200_minAF0.01/cellSNP.tag.DP.mtx"
   },
   "start_time": "2021-01-27T08:30:51.261324",
   "version": "2.2.0"
  }
 },
 "nbformat": 4,
 "nbformat_minor": 4
}
