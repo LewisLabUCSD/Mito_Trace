{
 "cells": [
  {
   "cell_type": "markdown",
   "metadata": {
    "papermill": {
     "duration": 0.047745,
     "end_time": "2021-01-27T08:30:54.010679",
     "exception": false,
     "start_time": "2021-01-27T08:30:53.962934",
     "status": "completed"
    },
    "tags": []
   },
   "source": [
    "# Using vireo for multiplexing, followed by lineage tracing of those groups"
   ]
  },
  {
   "cell_type": "markdown",
   "metadata": {},
   "source": [
    "# 1. Change to analysis directory"
   ]
  },
  {
   "cell_type": "code",
   "execution_count": null,
   "metadata": {
    "ExecuteTime": {
     "end_time": "2021-06-04T00:01:29.377696Z",
     "start_time": "2021-06-04T00:01:29.374601Z"
    }
   },
   "outputs": [],
   "source": [
    "#import os\n",
    "#os.chdir(\"/data2/mito_lineage\")#/Analysis/multiplex\")"
   ]
  },
  {
   "cell_type": "code",
   "execution_count": null,
   "metadata": {},
   "outputs": [],
   "source": [
    "pwd"
   ]
  },
  {
   "cell_type": "markdown",
   "metadata": {},
   "source": [
    "### Remove this when running in snakemake"
   ]
  },
  {
   "cell_type": "markdown",
   "metadata": {},
   "source": [
    "## 1.1 Parameters"
   ]
  },
  {
   "cell_type": "code",
   "execution_count": null,
   "metadata": {
    "ExecuteTime": {
     "end_time": "2021-06-04T00:01:29.413241Z",
     "start_time": "2021-06-04T00:01:29.410435Z"
    },
    "tags": [
     "parameters"
    ]
   },
   "outputs": [],
   "source": [
    "# INDIR=\"output/clones/CHIP_april08_2021/MTblacklist/merged/filters/minC10_minR50_topN0_hetT0.001_hetC10_hetCount5_bq20/filter_mgatk/vireoIn\"\n",
    "# OUTDIR=\"output/clones/CHIP_april08_2021/MTblacklist/merged/filters/minC10_minR50_topN0_hetT0.001_hetC10_hetCount5_bq20/filter_mgatk/vireoIn/multiplex/elbo\"\n",
    "# N_DONORS=5\n",
    "# sample_names=\"Control,Flt3l,Input\"\n",
    "# to_elbo=True\n",
    "\n",
    "INDIR = \"/data/Mito_Trace/output/pipeline/v02/CHIP_b1/MTBlacklist_A2/data/merged/MT/cellr_True/numread_200/filters/minC10_minR50_topN0_hetT0.001_hetC10_hetCount5_bq20/mgatk/vireoIn\"\n",
    "OUTDIR = \"/data/Mito_Trace/output/pipeline/v02/CHIP_b1/MTBlacklist_A2/data/merged/MT/cellr_True/numread_200/filters/minC10_minR50_topN0_hetT0.001_hetC10_hetCount5_bq20/mgatk/vireoIn/multiplex/elbo\"\n",
    "N_DONORS = 2\n",
    "sample_names=\"Control,Flt3l,Input\"\n",
    "to_elbo=True"
   ]
  },
  {
   "cell_type": "markdown",
   "metadata": {},
   "source": [
    "## 1.2 Import packages"
   ]
  },
  {
   "cell_type": "code",
   "execution_count": null,
   "metadata": {
    "ExecuteTime": {
     "end_time": "2021-06-04T00:01:31.155755Z",
     "start_time": "2021-06-04T00:01:29.427932Z"
    },
    "scrolled": false
   },
   "outputs": [],
   "source": [
    "from os.path import join, exists, dirname\n",
    "from glob import glob\n",
    "import mplh.cluster_help as ch\n",
    "import os\n",
    "from vireoSNP.plot.base_plot import heat_matrix\n",
    "from vireoSNP import Vireo\n",
    "import src.pseudo_batch as pb\n",
    "import vireoSNP\n",
    "print(vireoSNP.__version__)\n",
    "import numpy as np\n",
    "from scipy import sparse\n",
    "from scipy.io import mmread\n",
    "import matplotlib.pyplot as plt\n",
    "import pandas as pd\n",
    "import seaborn as sns\n",
    "from src.vireo.vireo_utils import run_vireo, plot_vireo_out, extract_clusters, run_elbo, separate_donors\n",
    "%load_ext autoreload\n",
    "%autoreload 2"
   ]
  },
  {
   "cell_type": "code",
   "execution_count": null,
   "metadata": {
    "ExecuteTime": {
     "end_time": "2021-06-04T00:01:31.175538Z",
     "start_time": "2021-06-04T00:01:31.158256Z"
    },
    "execution": {
     "iopub.execute_input": "2021-01-27T08:30:58.591556Z",
     "iopub.status.busy": "2021-01-27T08:30:58.589747Z",
     "iopub.status.idle": "2021-01-27T08:30:58.595785Z",
     "shell.execute_reply": "2021-01-27T08:30:58.597375Z"
    },
    "papermill": {
     "duration": 0.08872,
     "end_time": "2021-01-27T08:30:58.597995",
     "exception": false,
     "start_time": "2021-01-27T08:30:58.509275",
     "status": "completed"
    },
    "tags": []
   },
   "outputs": [],
   "source": [
    "np.set_printoptions(formatter={'float': lambda x: format(x, '.5f')})"
   ]
  },
  {
   "cell_type": "markdown",
   "metadata": {},
   "source": [
    "## 1.3 Load"
   ]
  },
  {
   "cell_type": "code",
   "execution_count": null,
   "metadata": {
    "ExecuteTime": {
     "end_time": "2021-06-04T00:01:31.195925Z",
     "start_time": "2021-06-04T00:01:31.178238Z"
    }
   },
   "outputs": [],
   "source": [
    "AD_F = join(INDIR, \"cellSNP.tag.AD.mtx\")\n",
    "DP_F = join(INDIR, \"cellSNP.tag.DP.mtx\")\n",
    "cell_inds_names = join(INDIR,\"cell_indices_*.txt\")\n",
    "cells_meta_f = join(INDIR, \"cells_meta.tsv\")\n",
    "vars_f = join(INDIR, \"cellSNP.base.vcf\")\n"
   ]
  },
  {
   "cell_type": "code",
   "execution_count": null,
   "metadata": {
    "ExecuteTime": {
     "end_time": "2021-06-04T00:01:31.317536Z",
     "start_time": "2021-06-04T00:01:31.198078Z"
    },
    "scrolled": false
   },
   "outputs": [],
   "source": [
    "vars_df = pd.read_csv(vars_f, sep=\"\\t\")\n",
    "vars_df"
   ]
  },
  {
   "cell_type": "code",
   "execution_count": null,
   "metadata": {
    "ExecuteTime": {
     "end_time": "2021-06-04T00:01:31.359353Z",
     "start_time": "2021-06-04T00:01:31.319596Z"
    }
   },
   "outputs": [],
   "source": [
    "# columns are 'ID', 'raw ID', and 'new index'. The first contains the\n",
    "# suffix with the old id, the new index contains the mapping to the\n",
    "# outputted subsampled cells, which is 1-based, and the raw ID is the initial cell IDs without the suffix.   \n",
    "cells_meta = pd.read_csv(cells_meta_f, sep=\"\\t\")\n",
    "cells_meta = cells_meta.sort_values('new index')\n",
    "print('cells_meta', cells_meta.head())\n",
    "sample_names = {ind:val for ind,val in enumerate(sample_names.split(\",\"))}\n",
    "print('sample_names', sample_names)"
   ]
  },
  {
   "cell_type": "code",
   "execution_count": null,
   "metadata": {
    "ExecuteTime": {
     "end_time": "2021-06-04T00:01:39.093995Z",
     "start_time": "2021-06-04T00:01:31.361239Z"
    },
    "execution": {
     "iopub.execute_input": "2021-01-27T08:30:58.733722Z",
     "iopub.status.busy": "2021-01-27T08:30:58.731514Z",
     "iopub.status.idle": "2021-01-27T08:31:11.479507Z",
     "shell.execute_reply": "2021-01-27T08:31:11.480844Z"
    },
    "papermill": {
     "duration": 12.824224,
     "end_time": "2021-01-27T08:31:11.481566",
     "exception": false,
     "start_time": "2021-01-27T08:30:58.657342",
     "status": "completed"
    },
    "scrolled": true,
    "tags": []
   },
   "outputs": [],
   "source": [
    "AD = mmread(AD_F).tocsc()\n",
    "DP = mmread(DP_F).tocsc()\n",
    "AD_shape = AD.todense().shape\n",
    "print('AD_shape', AD_shape)\n",
    "assert(AD_shape[1]) == cells_meta.shape[0] # These should match up."
   ]
  },
  {
   "cell_type": "markdown",
   "metadata": {},
   "source": [
    "# Run multiplex across range of parameter k for number of donors, and plot the loss "
   ]
  },
  {
   "cell_type": "code",
   "execution_count": null,
   "metadata": {
    "ExecuteTime": {
     "end_time": "2021-06-04T00:10:46.544198Z",
     "start_time": "2021-06-04T00:03:17.069130Z"
    },
    "scrolled": true
   },
   "outputs": [],
   "source": [
    "if to_elbo:\n",
    "    run_elbo(AD, DP, out_f=join(OUTDIR, \"donors_elbo\"), \n",
    "             n_clone_list=np.arange(max(N_DONORS-2, 1), N_DONORS+3), \n",
    "             n_cores=12, cells_meta=cells_meta, save_clusters=False)"
   ]
  },
  {
   "cell_type": "code",
   "execution_count": null,
   "metadata": {},
   "outputs": [],
   "source": []
  }
 ],
 "metadata": {
  "celltoolbar": "Tags",
  "kernelspec": {
   "display_name": "Python 3 (ipykernel)",
   "language": "python",
   "name": "python3"
  },
  "language_info": {
   "codemirror_mode": {
    "name": "ipython",
    "version": 3
   },
   "file_extension": ".py",
   "mimetype": "text/x-python",
   "name": "python",
   "nbconvert_exporter": "python",
   "pygments_lexer": "ipython3",
   "version": "3.7.12"
  },
  "papermill": {
   "default_parameters": {},
   "duration": 5560.364131,
   "end_time": "2021-01-27T10:03:31.625455",
   "environment_variables": {},
   "exception": null,
   "input_path": "/data2/mito_lineage/src/vireo/vireoSNP_clones.ipynb",
   "output_path": "results/jan21_2021/chrM/P2_cellSNP_minC200_minAF0.01/lineage_chrM.ipynb",
   "parameters": {
    "AD_F": "data/jan21_2021/chrM/P2_cellSNP_minC200_minAF0.01/cellSNP.tag.AD.mtx",
    "DP_F": "data/jan21_2021/chrM/P2_cellSNP_minC200_minAF0.01/cellSNP.tag.DP.mtx"
   },
   "start_time": "2021-01-27T08:30:51.261324",
   "version": "2.2.0"
  }
 },
 "nbformat": 4,
 "nbformat_minor": 4
}
