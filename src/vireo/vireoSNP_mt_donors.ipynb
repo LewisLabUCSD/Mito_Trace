{
 "cells": [
  {
   "cell_type": "code",
   "execution_count": 1,
   "metadata": {
    "ExecuteTime": {
     "end_time": "2021-01-16T00:12:11.310681Z",
     "start_time": "2021-01-16T00:12:11.295365Z"
    },
    "execution": {
     "iopub.execute_input": "2021-01-14T01:24:24.666432Z",
     "iopub.status.busy": "2021-01-14T01:24:24.665782Z",
     "iopub.status.idle": "2021-01-14T01:24:24.668641Z",
     "shell.execute_reply": "2021-01-14T01:24:24.669144Z"
    },
    "papermill": {
     "duration": 0.078751,
     "end_time": "2021-01-14T01:24:24.669335",
     "exception": false,
     "start_time": "2021-01-14T01:24:24.590584",
     "status": "completed"
    },
    "scrolled": false,
    "tags": []
   },
   "outputs": [
    {
     "data": {
      "text/plain": [
       "'/data2/mito_lineage/Analysis/multiplex/data/chrM/pseudo/minC20_minAF0.01/numC2000_ispropFalse'"
      ]
     },
     "execution_count": 1,
     "metadata": {},
     "output_type": "execute_result"
    }
   ],
   "source": [
    "pwd"
   ]
  },
  {
   "cell_type": "code",
   "execution_count": 2,
   "metadata": {
    "ExecuteTime": {
     "end_time": "2021-01-16T00:12:11.319093Z",
     "start_time": "2021-01-16T00:12:11.312494Z"
    },
    "execution": {
     "iopub.execute_input": "2021-01-14T01:24:24.757424Z",
     "iopub.status.busy": "2021-01-14T01:24:24.756759Z",
     "iopub.status.idle": "2021-01-14T01:24:24.758904Z",
     "shell.execute_reply": "2021-01-14T01:24:24.759393Z"
    },
    "papermill": {
     "duration": 0.04764,
     "end_time": "2021-01-14T01:24:24.759542",
     "exception": false,
     "start_time": "2021-01-14T01:24:24.711902",
     "status": "completed"
    },
    "tags": [
     "parameters"
    ]
   },
   "outputs": [],
   "source": [
    "# AD_F = \"\"#\"cellSNP.tag.AD.mtx\"\n",
    "# DP_F = \"\"#\"cellSNP.tag.DP.mtx\"\n",
    "# VCF_F = \"\"#\"cellSNP.base.vcf\"\n",
    "NUM_DONORS=2\n",
    "prob_threshold=0.8\n",
    "INDIR = \"\""
   ]
  },
  {
   "cell_type": "code",
   "execution_count": 3,
   "metadata": {
    "ExecuteTime": {
     "end_time": "2021-01-16T00:12:11.328606Z",
     "start_time": "2021-01-16T00:12:11.321231Z"
    },
    "execution": {
     "iopub.execute_input": "2021-01-14T01:24:24.846543Z",
     "iopub.status.busy": "2021-01-14T01:24:24.845913Z",
     "iopub.status.idle": "2021-01-14T01:24:24.848631Z",
     "shell.execute_reply": "2021-01-14T01:24:24.848102Z"
    },
    "papermill": {
     "duration": 0.047547,
     "end_time": "2021-01-14T01:24:24.848764",
     "exception": false,
     "start_time": "2021-01-14T01:24:24.801217",
     "status": "completed"
    },
    "tags": [
     "injected-parameters"
    ]
   },
   "outputs": [],
   "source": [
    "# Parameters\n",
    "INDIR = \"data/chrM/pseudo/minC20_minAF0.01/numC2000_ispropFalse\"\n"
   ]
  },
  {
   "cell_type": "code",
   "execution_count": 4,
   "metadata": {
    "ExecuteTime": {
     "end_time": "2021-01-16T00:12:12.161223Z",
     "start_time": "2021-01-16T00:12:11.330392Z"
    },
    "execution": {
     "iopub.execute_input": "2021-01-14T01:24:24.936060Z",
     "iopub.status.busy": "2021-01-14T01:24:24.935424Z",
     "iopub.status.idle": "2021-01-14T01:24:25.841876Z",
     "shell.execute_reply": "2021-01-14T01:24:25.842383Z"
    },
    "papermill": {
     "duration": 0.951815,
     "end_time": "2021-01-14T01:24:25.842573",
     "exception": false,
     "start_time": "2021-01-14T01:24:24.890758",
     "status": "completed"
    },
    "tags": []
   },
   "outputs": [],
   "source": [
    "import os\n",
    "import pandas as pd\n",
    "import seaborn as sns\n",
    "from glob import glob\n",
    "from scipy import stats\n",
    "from os.path import join, dirname, basename\n",
    "import numpy as np"
   ]
  },
  {
   "cell_type": "code",
   "execution_count": 5,
   "metadata": {
    "ExecuteTime": {
     "end_time": "2021-01-16T00:12:12.165717Z",
     "start_time": "2021-01-16T00:12:12.163127Z"
    },
    "execution": {
     "iopub.execute_input": "2021-01-14T01:24:25.931185Z",
     "iopub.status.busy": "2021-01-14T01:24:25.930514Z",
     "iopub.status.idle": "2021-01-14T01:24:25.933122Z",
     "shell.execute_reply": "2021-01-14T01:24:25.933611Z"
    },
    "papermill": {
     "duration": 0.048941,
     "end_time": "2021-01-14T01:24:25.933758",
     "exception": false,
     "start_time": "2021-01-14T01:24:25.884817",
     "status": "completed"
    },
    "tags": []
   },
   "outputs": [],
   "source": [
    "AD_F = \"cellSNP.tag.AD.mtx\"\n",
    "DP_F = \"cellSNP.tag.DP.mtx\"\n",
    "VCF_F = \"cellSNP.base.vcf\""
   ]
  },
  {
   "cell_type": "code",
   "execution_count": 6,
   "metadata": {
    "ExecuteTime": {
     "end_time": "2021-01-16T00:12:12.175003Z",
     "start_time": "2021-01-16T00:12:12.167400Z"
    },
    "execution": {
     "iopub.execute_input": "2021-01-14T01:24:26.021317Z",
     "iopub.status.busy": "2021-01-14T01:24:26.020729Z",
     "iopub.status.idle": "2021-01-14T01:24:26.023203Z",
     "shell.execute_reply": "2021-01-14T01:24:26.023685Z"
    },
    "papermill": {
     "duration": 0.048067,
     "end_time": "2021-01-14T01:24:26.023820",
     "exception": false,
     "start_time": "2021-01-14T01:24:25.975753",
     "status": "completed"
    },
    "tags": []
   },
   "outputs": [],
   "source": [
    "#print('AD_F', AD_F)\n",
    "#INDIR = dirname(AD_F)\n",
    "\n",
    "#os.chdir(INDIR)"
   ]
  },
  {
   "cell_type": "code",
   "execution_count": 7,
   "metadata": {
    "ExecuteTime": {
     "end_time": "2021-01-16T00:12:12.184624Z",
     "start_time": "2021-01-16T00:12:12.176659Z"
    },
    "execution": {
     "iopub.execute_input": "2021-01-14T01:24:26.111172Z",
     "iopub.status.busy": "2021-01-14T01:24:26.110525Z",
     "iopub.status.idle": "2021-01-14T01:24:26.113329Z",
     "shell.execute_reply": "2021-01-14T01:24:26.113812Z"
    },
    "papermill": {
     "duration": 0.048733,
     "end_time": "2021-01-14T01:24:26.113947",
     "exception": false,
     "start_time": "2021-01-14T01:24:26.065214",
     "status": "completed"
    },
    "tags": []
   },
   "outputs": [],
   "source": [
    "if not os.path.exists(VCF_F):\n",
    "    if not os.path.exists(VCF_F+\".gz\"):\n",
    "        print(\"VCF file not here!\")\n",
    "    else:\n",
    "        VCF_F = VCF_F + \".gz\""
   ]
  },
  {
   "cell_type": "code",
   "execution_count": 8,
   "metadata": {
    "ExecuteTime": {
     "end_time": "2021-01-16T00:12:12.201972Z",
     "start_time": "2021-01-16T00:12:12.187109Z"
    },
    "execution": {
     "iopub.execute_input": "2021-01-14T01:24:26.200922Z",
     "iopub.status.busy": "2021-01-14T01:24:26.200289Z",
     "iopub.status.idle": "2021-01-14T01:24:26.204249Z",
     "shell.execute_reply": "2021-01-14T01:24:26.204750Z"
    },
    "papermill": {
     "duration": 0.049161,
     "end_time": "2021-01-14T01:24:26.204900",
     "exception": false,
     "start_time": "2021-01-14T01:24:26.155739",
     "status": "completed"
    },
    "tags": []
   },
   "outputs": [
    {
     "name": "stdout",
     "output_type": "stream",
     "text": [
      "cellSNP.tag.AD.mtx\n",
      "cellSNP.tag.DP.mtx\n",
      "cellSNP.base.vcf\n"
     ]
    }
   ],
   "source": [
    "print(AD_F)\n",
    "print(DP_F)\n",
    "print(VCF_F)"
   ]
  },
  {
   "cell_type": "code",
   "execution_count": 9,
   "metadata": {
    "ExecuteTime": {
     "end_time": "2021-01-16T00:12:12.210870Z",
     "start_time": "2021-01-16T00:12:12.203801Z"
    },
    "execution": {
     "iopub.execute_input": "2021-01-14T01:24:26.292920Z",
     "iopub.status.busy": "2021-01-14T01:24:26.292307Z",
     "iopub.status.idle": "2021-01-14T01:24:26.294821Z",
     "shell.execute_reply": "2021-01-14T01:24:26.295348Z"
    },
    "papermill": {
     "duration": 0.047218,
     "end_time": "2021-01-14T01:24:26.295488",
     "exception": false,
     "start_time": "2021-01-14T01:24:26.248270",
     "status": "completed"
    },
    "tags": []
   },
   "outputs": [],
   "source": [
    "OUTDIR='./results/'"
   ]
  },
  {
   "cell_type": "code",
   "execution_count": 10,
   "metadata": {
    "ExecuteTime": {
     "end_time": "2021-01-16T00:12:12.219982Z",
     "start_time": "2021-01-16T00:12:12.212497Z"
    },
    "execution": {
     "iopub.execute_input": "2021-01-14T01:24:26.384074Z",
     "iopub.status.busy": "2021-01-14T01:24:26.383463Z",
     "iopub.status.idle": "2021-01-14T01:24:26.385987Z",
     "shell.execute_reply": "2021-01-14T01:24:26.386473Z"
    },
    "papermill": {
     "duration": 0.048259,
     "end_time": "2021-01-14T01:24:26.386617",
     "exception": false,
     "start_time": "2021-01-14T01:24:26.338358",
     "status": "completed"
    },
    "tags": []
   },
   "outputs": [],
   "source": [
    "#indirs = (\"data/PBMC_J_cellSNP\", \"data/PBMC_P_cellSNP\")"
   ]
  },
  {
   "cell_type": "code",
   "execution_count": 11,
   "metadata": {
    "ExecuteTime": {
     "end_time": "2021-01-16T00:12:12.229279Z",
     "start_time": "2021-01-16T00:12:12.221503Z"
    },
    "execution": {
     "iopub.execute_input": "2021-01-14T01:24:26.476953Z",
     "iopub.status.busy": "2021-01-14T01:24:26.476262Z",
     "iopub.status.idle": "2021-01-14T01:24:26.481201Z",
     "shell.execute_reply": "2021-01-14T01:24:26.481718Z"
    },
    "papermill": {
     "duration": 0.051841,
     "end_time": "2021-01-14T01:24:26.481877",
     "exception": false,
     "start_time": "2021-01-14T01:24:26.430036",
     "status": "completed"
    },
    "tags": []
   },
   "outputs": [],
   "source": [
    "if not os.path.exists(OUTDIR):\n",
    "    os.mkdir(OUTDIR)"
   ]
  },
  {
   "cell_type": "code",
   "execution_count": 12,
   "metadata": {
    "ExecuteTime": {
     "end_time": "2021-01-16T00:12:12.245622Z",
     "start_time": "2021-01-16T00:12:12.230924Z"
    },
    "execution": {
     "iopub.execute_input": "2021-01-14T01:24:26.573819Z",
     "iopub.status.busy": "2021-01-14T01:24:26.573153Z",
     "iopub.status.idle": "2021-01-14T01:24:26.586149Z",
     "shell.execute_reply": "2021-01-14T01:24:26.586622Z"
    },
    "papermill": {
     "duration": 0.063058,
     "end_time": "2021-01-14T01:24:26.586792",
     "exception": false,
     "start_time": "2021-01-14T01:24:26.523734",
     "status": "completed"
    },
    "scrolled": true,
    "tags": []
   },
   "outputs": [
    {
     "name": "stdout",
     "output_type": "stream",
     "text": [
      "cell inds ['cell_indices_0.txt', 'cell_indices_1.txt']\n",
      "cell_indices_0.txt\n",
      "cell_indices_1.txt\n"
     ]
    }
   ],
   "source": [
    "\n",
    "in_cell_f = glob(\"cell_indices_*.txt\")\n",
    "print('cell inds', in_cell_f)\n",
    "in_cell_names = []\n",
    "cell_map = {}\n",
    "for curr_cell_f in in_cell_f:\n",
    "    print(curr_cell_f)\n",
    "    with open(curr_cell_f, \"r\") as f:\n",
    "        count = 0\n",
    "        lines = []\n",
    "        for line in f: \n",
    "            if count == 0:\n",
    "                curr_f = line.strip()\n",
    "            else:\n",
    "                lines.append(line.strip().split(','))\n",
    "            count += 1\n",
    "    curr_df = pd.DataFrame(lines[1:], columns=lines[0])\n",
    "    cell_map[curr_f] = curr_df[\"new index\"].astype(int).values\n",
    "    in_cell_names.append(curr_f)"
   ]
  },
  {
   "cell_type": "code",
   "execution_count": 13,
   "metadata": {
    "ExecuteTime": {
     "end_time": "2021-01-16T00:12:12.252594Z",
     "start_time": "2021-01-16T00:12:12.247332Z"
    },
    "execution": {
     "iopub.execute_input": "2021-01-14T01:24:26.678329Z",
     "iopub.status.busy": "2021-01-14T01:24:26.677698Z",
     "iopub.status.idle": "2021-01-14T01:24:26.681773Z",
     "shell.execute_reply": "2021-01-14T01:24:26.682245Z"
    },
    "papermill": {
     "duration": 0.05437,
     "end_time": "2021-01-14T01:24:26.682386",
     "exception": false,
     "start_time": "2021-01-14T01:24:26.628016",
     "status": "completed"
    },
    "scrolled": true,
    "tags": []
   },
   "outputs": [
    {
     "data": {
      "text/plain": [
       "array([ 744,  745,  746,  747,  748,  749,  750,  751,  752,  753,  754,\n",
       "        755,  756,  757,  758,  759,  760,  761,  762,  763,  764,  765,\n",
       "        766,  767,  768,  769,  770,  771,  772,  773,  774,  775,  776,\n",
       "        777,  778,  779,  780,  781,  782,  783,  784,  785,  786,  787,\n",
       "        788,  789,  790,  791,  792,  793,  794,  795,  796,  797,  798,\n",
       "        799,  800,  801,  802,  803,  804,  805,  806,  807,  808,  809,\n",
       "        810,  811,  812,  813,  814,  815,  816,  817,  818,  819,  820,\n",
       "        821,  822,  823,  824,  825,  826,  827,  828,  829,  830,  831,\n",
       "        832,  833,  834,  835,  836,  837,  838,  839,  840,  841,  842,\n",
       "        843,  844,  845,  846,  847,  848,  849,  850,  851,  852,  853,\n",
       "        854,  855,  856,  857,  858,  859,  860,  861,  862,  863,  864,\n",
       "        865,  866,  867,  868,  869,  870,  871,  872,  873,  874,  875,\n",
       "        876,  877,  878,  879,  880,  881,  882,  883,  884,  885,  886,\n",
       "        887,  888,  889,  890,  891,  892,  893,  894,  895,  896,  897,\n",
       "        898,  899,  900,  901,  902,  903,  904,  905,  906,  907,  908,\n",
       "        909,  910,  911,  912,  913,  914,  915,  916,  917,  918,  919,\n",
       "        920,  921,  922,  923,  924,  925,  926,  927,  928,  929,  930,\n",
       "        931,  932,  933,  934,  935,  936,  937,  938,  939,  940,  941,\n",
       "        942,  943,  944,  945,  946,  947,  948,  949,  950,  951,  952,\n",
       "        953,  954,  955,  956,  957,  958,  959,  960,  961,  962,  963,\n",
       "        964,  965,  966,  967,  968,  969,  970,  971,  972,  973,  974,\n",
       "        975,  976,  977,  978,  979,  980,  981,  982,  983,  984,  985,\n",
       "        986,  987,  988,  989,  990,  991,  992,  993,  994,  995,  996,\n",
       "        997,  998,  999, 1000, 1001, 1002, 1003, 1004, 1005, 1006, 1007,\n",
       "       1008, 1009, 1010, 1011, 1012, 1013, 1014, 1015, 1016, 1017, 1018,\n",
       "       1019, 1020, 1021, 1022, 1023, 1024, 1025, 1026, 1027, 1028, 1029,\n",
       "       1030, 1031, 1032, 1033, 1034, 1035, 1036, 1037, 1038, 1039, 1040,\n",
       "       1041, 1042, 1043, 1044, 1045, 1046, 1047, 1048, 1049, 1050, 1051,\n",
       "       1052, 1053, 1054, 1055, 1056, 1057, 1058, 1059, 1060, 1061, 1062,\n",
       "       1063, 1064, 1065, 1066, 1067, 1068, 1069, 1070, 1071, 1072, 1073,\n",
       "       1074, 1075, 1076, 1077, 1078, 1079, 1080, 1081, 1082, 1083, 1084,\n",
       "       1085, 1086, 1087, 1088, 1089, 1090, 1091, 1092, 1093, 1094, 1095,\n",
       "       1096, 1097, 1098, 1099, 1100, 1101, 1102, 1103, 1104, 1105, 1106,\n",
       "       1107, 1108, 1109, 1110, 1111, 1112, 1113, 1114, 1115, 1116, 1117,\n",
       "       1118, 1119, 1120, 1121, 1122, 1123, 1124, 1125, 1126, 1127, 1128,\n",
       "       1129, 1130, 1131, 1132, 1133, 1134, 1135, 1136, 1137, 1138, 1139,\n",
       "       1140, 1141, 1142, 1143, 1144, 1145, 1146, 1147, 1148, 1149, 1150,\n",
       "       1151, 1152, 1153, 1154, 1155, 1156, 1157, 1158, 1159, 1160, 1161,\n",
       "       1162, 1163, 1164, 1165, 1166, 1167, 1168, 1169, 1170, 1171, 1172,\n",
       "       1173, 1174, 1175, 1176, 1177, 1178, 1179, 1180, 1181, 1182, 1183,\n",
       "       1184, 1185, 1186, 1187, 1188, 1189, 1190, 1191, 1192, 1193, 1194,\n",
       "       1195, 1196, 1197, 1198, 1199, 1200, 1201, 1202, 1203, 1204, 1205,\n",
       "       1206, 1207, 1208, 1209, 1210, 1211, 1212, 1213, 1214, 1215, 1216,\n",
       "       1217, 1218, 1219, 1220, 1221, 1222, 1223, 1224, 1225, 1226, 1227,\n",
       "       1228, 1229, 1230, 1231, 1232, 1233, 1234, 1235, 1236, 1237, 1238,\n",
       "       1239, 1240, 1241, 1242, 1243, 1244, 1245, 1246, 1247, 1248, 1249,\n",
       "       1250, 1251, 1252, 1253, 1254, 1255, 1256, 1257, 1258, 1259, 1260,\n",
       "       1261, 1262, 1263, 1264, 1265, 1266, 1267, 1268, 1269, 1270, 1271,\n",
       "       1272, 1273, 1274, 1275, 1276, 1277, 1278, 1279, 1280, 1281, 1282,\n",
       "       1283, 1284, 1285, 1286, 1287, 1288, 1289, 1290, 1291, 1292, 1293,\n",
       "       1294, 1295, 1296, 1297, 1298, 1299, 1300, 1301, 1302, 1303, 1304,\n",
       "       1305, 1306, 1307, 1308, 1309, 1310, 1311, 1312, 1313, 1314, 1315,\n",
       "       1316, 1317, 1318, 1319, 1320, 1321, 1322, 1323, 1324, 1325, 1326,\n",
       "       1327, 1328, 1329, 1330, 1331, 1332, 1333, 1334, 1335, 1336, 1337,\n",
       "       1338, 1339, 1340, 1341, 1342, 1343, 1344, 1345, 1346, 1347, 1348,\n",
       "       1349, 1350, 1351, 1352, 1353, 1354, 1355, 1356, 1357, 1358, 1359,\n",
       "       1360, 1361, 1362, 1363, 1364, 1365, 1366, 1367, 1368, 1369, 1370,\n",
       "       1371, 1372, 1373, 1374, 1375, 1376, 1377, 1378, 1379, 1380, 1381,\n",
       "       1382, 1383, 1384, 1385, 1386, 1387, 1388, 1389, 1390, 1391, 1392,\n",
       "       1393, 1394, 1395, 1396, 1397, 1398, 1399, 1400, 1401, 1402, 1403,\n",
       "       1404, 1405, 1406])"
      ]
     },
     "execution_count": 13,
     "metadata": {},
     "output_type": "execute_result"
    }
   ],
   "source": [
    "cell_map[curr_f]"
   ]
  },
  {
   "cell_type": "code",
   "execution_count": 14,
   "metadata": {
    "ExecuteTime": {
     "end_time": "2021-01-16T00:12:12.265799Z",
     "start_time": "2021-01-16T00:12:12.254171Z"
    },
    "execution": {
     "iopub.execute_input": "2021-01-14T01:24:26.779078Z",
     "iopub.status.busy": "2021-01-14T01:24:26.778402Z",
     "iopub.status.idle": "2021-01-14T01:24:26.781651Z",
     "shell.execute_reply": "2021-01-14T01:24:26.782202Z"
    },
    "papermill": {
     "duration": 0.056339,
     "end_time": "2021-01-14T01:24:26.782399",
     "exception": false,
     "start_time": "2021-01-14T01:24:26.726060",
     "status": "completed"
    },
    "tags": []
   },
   "outputs": [
    {
     "data": {
      "text/plain": [
       "['data/chrM/PBMC_J_cellSNP_minC20_minAF0.01',\n",
       " 'data/chrM/PBMC_P_cellSNP_minC20_minAF0.01']"
      ]
     },
     "execution_count": 14,
     "metadata": {},
     "output_type": "execute_result"
    }
   ],
   "source": [
    "in_cell_names"
   ]
  },
  {
   "cell_type": "markdown",
   "metadata": {
    "papermill": {
     "duration": 0.044148,
     "end_time": "2021-01-14T01:24:26.872667",
     "exception": false,
     "start_time": "2021-01-14T01:24:26.828519",
     "status": "completed"
    },
    "tags": []
   },
   "source": [
    "# Examples of using vireoSNP for donor deconvolution"
   ]
  },
  {
   "cell_type": "code",
   "execution_count": 15,
   "metadata": {
    "ExecuteTime": {
     "end_time": "2021-01-16T00:12:12.282596Z",
     "start_time": "2021-01-16T00:12:12.267359Z"
    },
    "execution": {
     "iopub.execute_input": "2021-01-14T01:24:26.963723Z",
     "iopub.status.busy": "2021-01-14T01:24:26.963122Z",
     "iopub.status.idle": "2021-01-14T01:24:26.975330Z",
     "shell.execute_reply": "2021-01-14T01:24:26.975820Z"
    },
    "papermill": {
     "duration": 0.059425,
     "end_time": "2021-01-14T01:24:26.975965",
     "exception": false,
     "start_time": "2021-01-14T01:24:26.916540",
     "status": "completed"
    },
    "tags": []
   },
   "outputs": [],
   "source": [
    "import vireoSNP\n",
    "from vireoSNP import Vireo\n",
    "\n",
    "import numpy as np\n",
    "from scipy import sparse\n",
    "from scipy.io import mmread"
   ]
  },
  {
   "cell_type": "markdown",
   "metadata": {
    "papermill": {
     "duration": 0.042739,
     "end_time": "2021-01-14T01:24:27.062220",
     "exception": false,
     "start_time": "2021-01-14T01:24:27.019481",
     "status": "completed"
    },
    "tags": []
   },
   "source": [
    "## Load cellSNP data "
   ]
  },
  {
   "cell_type": "markdown",
   "metadata": {
    "papermill": {
     "duration": 0.042796,
     "end_time": "2021-01-14T01:24:27.147881",
     "exception": false,
     "start_time": "2021-01-14T01:24:27.105085",
     "status": "completed"
    },
    "tags": []
   },
   "source": [
    "##### Option 1 - VCF format"
   ]
  },
  {
   "cell_type": "code",
   "execution_count": 16,
   "metadata": {
    "ExecuteTime": {
     "end_time": "2021-01-16T00:08:15.238086Z",
     "start_time": "2021-01-16T00:08:15.236088Z"
    },
    "execution": {
     "iopub.execute_input": "2021-01-14T01:24:27.238083Z",
     "iopub.status.busy": "2021-01-14T01:24:27.237483Z",
     "iopub.status.idle": "2021-01-14T01:24:27.239924Z",
     "shell.execute_reply": "2021-01-14T01:24:27.240437Z"
    },
    "papermill": {
     "duration": 0.049164,
     "end_time": "2021-01-14T01:24:27.240571",
     "exception": false,
     "start_time": "2021-01-14T01:24:27.191407",
     "status": "completed"
    },
    "scrolled": true,
    "tags": []
   },
   "outputs": [],
   "source": [
    "# cell_vcf = vireoSNP.load_VCF(VCF_F, biallelic_only=True)\n",
    "# cell_dat = vireoSNP.vcf.read_sparse_GeneINFO(cell_vcf['GenoINFO'], keys=['AD', 'DP'])\n",
    "\n",
    "# AD = cell_dat['AD']\n",
    "# DP = cell_dat['DP']"
   ]
  },
  {
   "cell_type": "markdown",
   "metadata": {
    "papermill": {
     "duration": 0.044486,
     "end_time": "2021-01-14T01:24:27.329495",
     "exception": false,
     "start_time": "2021-01-14T01:24:27.285009",
     "status": "completed"
    },
    "tags": []
   },
   "source": [
    "##### Option 2 - sparse matrices"
   ]
  },
  {
   "cell_type": "code",
   "execution_count": 16,
   "metadata": {
    "ExecuteTime": {
     "end_time": "2021-01-16T00:12:17.261222Z",
     "start_time": "2021-01-16T00:12:16.828187Z"
    },
    "execution": {
     "iopub.execute_input": "2021-01-14T01:24:27.421139Z",
     "iopub.status.busy": "2021-01-14T01:24:27.420417Z",
     "iopub.status.idle": "2021-01-14T01:24:27.885345Z",
     "shell.execute_reply": "2021-01-14T01:24:27.885803Z"
    },
    "papermill": {
     "duration": 0.513176,
     "end_time": "2021-01-14T01:24:27.885946",
     "exception": false,
     "start_time": "2021-01-14T01:24:27.372770",
     "status": "completed"
    },
    "scrolled": true,
    "tags": []
   },
   "outputs": [],
   "source": [
    "AD = mmread(AD_F).tocsc()\n",
    "AD_shape = AD.todense().shape\n",
    "DP = mmread(DP_F).tocsc()\n",
    "vcf = pd.read_csv(VCF_F, sep='\\t')"
   ]
  },
  {
   "cell_type": "code",
   "execution_count": 17,
   "metadata": {
    "ExecuteTime": {
     "end_time": "2021-01-16T00:12:17.545600Z",
     "start_time": "2021-01-16T00:12:17.519721Z"
    },
    "execution": {
     "iopub.execute_input": "2021-01-14T01:24:27.991199Z",
     "iopub.status.busy": "2021-01-14T01:24:27.983887Z",
     "iopub.status.idle": "2021-01-14T01:24:27.995523Z",
     "shell.execute_reply": "2021-01-14T01:24:27.994887Z"
    },
    "papermill": {
     "duration": 0.065623,
     "end_time": "2021-01-14T01:24:27.995642",
     "exception": false,
     "start_time": "2021-01-14T01:24:27.930019",
     "status": "completed"
    },
    "tags": []
   },
   "outputs": [
    {
     "data": {
      "text/html": [
       "<div>\n",
       "<style scoped>\n",
       "    .dataframe tbody tr th:only-of-type {\n",
       "        vertical-align: middle;\n",
       "    }\n",
       "\n",
       "    .dataframe tbody tr th {\n",
       "        vertical-align: top;\n",
       "    }\n",
       "\n",
       "    .dataframe thead th {\n",
       "        text-align: right;\n",
       "    }\n",
       "</style>\n",
       "<table border=\"1\" class=\"dataframe\">\n",
       "  <thead>\n",
       "    <tr style=\"text-align: right;\">\n",
       "      <th></th>\n",
       "      <th>#CHROM</th>\n",
       "      <th>POS</th>\n",
       "      <th>ID_x</th>\n",
       "      <th>REF_x</th>\n",
       "      <th>ALT</th>\n",
       "      <th>QUAL_x</th>\n",
       "      <th>FILTER_x</th>\n",
       "      <th>INFO_x</th>\n",
       "      <th>old data/chrM/PBMC_J_cellSNP_minC20_minAF0.01</th>\n",
       "      <th>ID_y</th>\n",
       "      <th>REF_y</th>\n",
       "      <th>QUAL_y</th>\n",
       "      <th>FILTER_y</th>\n",
       "      <th>INFO_y</th>\n",
       "      <th>old data/chrM/PBMC_P_cellSNP_minC20_minAF0.01</th>\n",
       "      <th>new ID</th>\n",
       "    </tr>\n",
       "  </thead>\n",
       "  <tbody>\n",
       "    <tr>\n",
       "      <th>0</th>\n",
       "      <td>chrM</td>\n",
       "      <td>297</td>\n",
       "      <td>.</td>\n",
       "      <td>A</td>\n",
       "      <td>C</td>\n",
       "      <td>.</td>\n",
       "      <td>PASS</td>\n",
       "      <td>AD=1999;DP=131616;OTH=497</td>\n",
       "      <td>1.0</td>\n",
       "      <td>NaN</td>\n",
       "      <td>NaN</td>\n",
       "      <td>NaN</td>\n",
       "      <td>NaN</td>\n",
       "      <td>NaN</td>\n",
       "      <td>NaN</td>\n",
       "      <td>1</td>\n",
       "    </tr>\n",
       "    <tr>\n",
       "      <th>1</th>\n",
       "      <td>chrM</td>\n",
       "      <td>300</td>\n",
       "      <td>.</td>\n",
       "      <td>A</td>\n",
       "      <td>C</td>\n",
       "      <td>.</td>\n",
       "      <td>PASS</td>\n",
       "      <td>AD=4336;DP=123361;OTH=353</td>\n",
       "      <td>2.0</td>\n",
       "      <td>.</td>\n",
       "      <td>A</td>\n",
       "      <td>.</td>\n",
       "      <td>PASS</td>\n",
       "      <td>AD=6667;DP=298868;OTH=1024</td>\n",
       "      <td>1.0</td>\n",
       "      <td>2</td>\n",
       "    </tr>\n",
       "    <tr>\n",
       "      <th>2</th>\n",
       "      <td>chrM</td>\n",
       "      <td>301</td>\n",
       "      <td>.</td>\n",
       "      <td>A</td>\n",
       "      <td>C</td>\n",
       "      <td>.</td>\n",
       "      <td>PASS</td>\n",
       "      <td>AD=1275;DP=116676;OTH=1179</td>\n",
       "      <td>3.0</td>\n",
       "      <td>NaN</td>\n",
       "      <td>NaN</td>\n",
       "      <td>NaN</td>\n",
       "      <td>NaN</td>\n",
       "      <td>NaN</td>\n",
       "      <td>NaN</td>\n",
       "      <td>3</td>\n",
       "    </tr>\n",
       "    <tr>\n",
       "      <th>3</th>\n",
       "      <td>chrM</td>\n",
       "      <td>302</td>\n",
       "      <td>.</td>\n",
       "      <td>A</td>\n",
       "      <td>G</td>\n",
       "      <td>.</td>\n",
       "      <td>PASS</td>\n",
       "      <td>AD=3326;DP=111520;OTH=2183</td>\n",
       "      <td>4.0</td>\n",
       "      <td>.</td>\n",
       "      <td>A</td>\n",
       "      <td>.</td>\n",
       "      <td>PASS</td>\n",
       "      <td>AD=13460;DP=267646;OTH=7457</td>\n",
       "      <td>2.0</td>\n",
       "      <td>4</td>\n",
       "    </tr>\n",
       "    <tr>\n",
       "      <th>4</th>\n",
       "      <td>chrM</td>\n",
       "      <td>304</td>\n",
       "      <td>.</td>\n",
       "      <td>C</td>\n",
       "      <td>G</td>\n",
       "      <td>.</td>\n",
       "      <td>PASS</td>\n",
       "      <td>AD=1486;DP=111198;OTH=255</td>\n",
       "      <td>5.0</td>\n",
       "      <td>NaN</td>\n",
       "      <td>NaN</td>\n",
       "      <td>NaN</td>\n",
       "      <td>NaN</td>\n",
       "      <td>NaN</td>\n",
       "      <td>NaN</td>\n",
       "      <td>5</td>\n",
       "    </tr>\n",
       "  </tbody>\n",
       "</table>\n",
       "</div>"
      ],
      "text/plain": [
       "  #CHROM  POS ID_x REF_x ALT QUAL_x FILTER_x                      INFO_x  \\\n",
       "0   chrM  297    .     A   C      .     PASS   AD=1999;DP=131616;OTH=497   \n",
       "1   chrM  300    .     A   C      .     PASS   AD=4336;DP=123361;OTH=353   \n",
       "2   chrM  301    .     A   C      .     PASS  AD=1275;DP=116676;OTH=1179   \n",
       "3   chrM  302    .     A   G      .     PASS  AD=3326;DP=111520;OTH=2183   \n",
       "4   chrM  304    .     C   G      .     PASS   AD=1486;DP=111198;OTH=255   \n",
       "\n",
       "   old data/chrM/PBMC_J_cellSNP_minC20_minAF0.01 ID_y REF_y QUAL_y FILTER_y  \\\n",
       "0                                            1.0  NaN   NaN    NaN      NaN   \n",
       "1                                            2.0    .     A      .     PASS   \n",
       "2                                            3.0  NaN   NaN    NaN      NaN   \n",
       "3                                            4.0    .     A      .     PASS   \n",
       "4                                            5.0  NaN   NaN    NaN      NaN   \n",
       "\n",
       "                        INFO_y  old data/chrM/PBMC_P_cellSNP_minC20_minAF0.01  \\\n",
       "0                          NaN                                            NaN   \n",
       "1   AD=6667;DP=298868;OTH=1024                                            1.0   \n",
       "2                          NaN                                            NaN   \n",
       "3  AD=13460;DP=267646;OTH=7457                                            2.0   \n",
       "4                          NaN                                            NaN   \n",
       "\n",
       "   new ID  \n",
       "0       1  \n",
       "1       2  \n",
       "2       3  \n",
       "3       4  \n",
       "4       5  "
      ]
     },
     "execution_count": 17,
     "metadata": {},
     "output_type": "execute_result"
    }
   ],
   "source": [
    "vcf.head()"
   ]
  },
  {
   "cell_type": "markdown",
   "metadata": {
    "papermill": {
     "duration": 0.04498,
     "end_time": "2021-01-14T01:24:28.085229",
     "exception": false,
     "start_time": "2021-01-14T01:24:28.040249",
     "status": "completed"
    },
    "tags": []
   },
   "source": [
    "Note, `AD` and `DP` are sparse matrices, not `numpy.array`"
   ]
  },
  {
   "cell_type": "markdown",
   "metadata": {
    "papermill": {
     "duration": 0.044338,
     "end_time": "2021-01-14T01:24:28.173660",
     "exception": false,
     "start_time": "2021-01-14T01:24:28.129322",
     "status": "completed"
    },
    "tags": []
   },
   "source": [
    "## Run Vireo\n",
    "For donor deconvolution, the `vireoSNP.vireo_wrap` function can be directly used, which contains multiple initialization and have options for different situtaions of donor genotype, fully missing, partially lack, or all available."
   ]
  },
  {
   "cell_type": "code",
   "execution_count": 18,
   "metadata": {
    "ExecuteTime": {
     "end_time": "2021-01-16T00:12:44.857196Z",
     "start_time": "2021-01-16T00:12:22.081152Z"
    }
   },
   "outputs": [],
   "source": [
    "np.random.seed(1)\n",
    "\n",
    "n_initials = 50\n",
    "\n",
    "_models_all = []\n",
    "for i in range(n_initials):\n",
    "    _modelCA = Vireo(n_var=AD_shape[0], n_cell=AD_shape[1], n_donor=2, n_GT=2,\n",
    "                     fix_beta_sum=False, ASE_mode=True)\n",
    "    _modelCA.set_prior(beta_mu_prior=np.array([[0.01, 0.5]]))\n",
    "    _modelCA.fit(AD, DP, min_iter=20, verbose=False, delay_fit_theta=0)\n",
    "    _models_all.append(_modelCA)\n",
    "    "
   ]
  },
  {
   "cell_type": "code",
   "execution_count": null,
   "metadata": {},
   "outputs": [],
   "source": []
  },
  {
   "cell_type": "code",
   "execution_count": 19,
   "metadata": {
    "ExecuteTime": {
     "end_time": "2021-01-16T00:12:52.677598Z",
     "start_time": "2021-01-16T00:12:52.305072Z"
    }
   },
   "outputs": [
    {
     "data": {
      "image/png": "[encoded data removed]",
      "text/plain": [
       "<Figure size 792x288 with 2 Axes>"
      ]
     },
     "metadata": {
      "needs_background": "light"
     },
     "output_type": "display_data"
    }
   ],
   "source": [
    "import matplotlib.pyplot as plt\n",
    "## Choose the model giving highest ELBO\n",
    "\n",
    "_idx = np.argmax([x.ELBO_[-1] for x in _models_all])\n",
    "modelCA = _models_all[_idx]\n",
    "_losses = modelCA.ELBO_\n",
    "\n",
    "fig = plt.figure(figsize=(11, 4))\n",
    "plt.subplot(1, 2, 1)\n",
    "plt.hist([x.ELBO_[-1] for x in _models_all])\n",
    "plt.ylabel(\"Frequency\")\n",
    "plt.xlabel(\"ELBO with multiple initializations\")\n",
    "\n",
    "plt.subplot(1, 2, 2)\n",
    "plt.plot(_losses)\n",
    "plt.xlabel(\"Iterations\")\n",
    "plt.ylabel(\"ELBO in a single run\")\n",
    "\n",
    "plt.tight_layout()\n",
    "plt.show()"
   ]
  },
  {
   "cell_type": "code",
   "execution_count": 20,
   "metadata": {
    "ExecuteTime": {
     "end_time": "2021-01-16T00:12:56.239160Z",
     "start_time": "2021-01-16T00:12:55.774889Z"
    }
   },
   "outputs": [
    {
     "data": {
      "image/png": "[encoded data removed]",
      "text/plain": [
       "<Figure size 700x400 with 4 Axes>"
      ]
     },
     "metadata": {
      "needs_background": "light"
     },
     "output_type": "display_data"
    }
   ],
   "source": [
    "import matplotlib.pyplot as plt\n",
    "from vireoSNP.plot.base_plot import heat_matrix\n",
    "\n",
    "fig = plt.figure(figsize=(7, 4), dpi=100)\n",
    "plt.subplot(1, 2, 1)\n",
    "im = heat_matrix(modelCA.ID_prob, cmap=\"Oranges\", alpha=0.8,\n",
    "                 display_value=False, row_sort=True)\n",
    "plt.colorbar(im, fraction=0.046, pad=0.04)\n",
    "plt.title(\"Assignment probability\")\n",
    "plt.xlabel(\"Clone\")\n",
    "plt.ylabel(\"%d cells\" %(modelCA.n_cell))\n",
    "plt.xticks(range(modelCA.n_donor))\n",
    "\n",
    "\n",
    "plt.subplot(1, 2, 2)\n",
    "AF_SNPs = np.sum(modelCA.GT_prob * \n",
    "                 np.expand_dims(modelCA.beta_mu, 1), axis=2)\n",
    "im = heat_matrix(AF_SNPs, cmap=\"Blues\", alpha=0.8, \n",
    "                 display_value=False, row_sort=True)\n",
    "plt.colorbar(im, fraction=0.046, pad=0.04)\n",
    "plt.title(\"Mean allelic ratio\")\n",
    "plt.xlabel(\"Clone\")\n",
    "plt.ylabel(\"%d SNPs\" %(modelCA.n_var))\n",
    "plt.xticks(range(modelCA.n_donor))\n",
    "\n",
    "plt.tight_layout()\n",
    "plt.show()"
   ]
  },
  {
   "cell_type": "code",
   "execution_count": 21,
   "metadata": {
    "ExecuteTime": {
     "end_time": "2021-01-16T00:13:00.003648Z",
     "start_time": "2021-01-16T00:12:59.988174Z"
    }
   },
   "outputs": [
    {
     "data": {
      "text/plain": [
       "array([0., 0., 0., ..., 1., 1., 1.])"
      ]
     },
     "execution_count": 21,
     "metadata": {},
     "output_type": "execute_result"
    }
   ],
   "source": [
    "max_v = 0\n",
    "for i in in_cell_names:\n",
    "    max_v = max(max_v, max(cell_map[i]))\n",
    "    \n",
    "# create index map:\n",
    "cell_ind_map = {}\n",
    "count = 0\n",
    "for i in in_cell_names: \n",
    "    cell_ind_map[i] = count\n",
    "    count += 1\n",
    "\n",
    "cell_inds = -1*np.ones(max_v)\n",
    "for i in in_cell_names:\n",
    "    cell_inds[cell_map[i]-1] = cell_ind_map[i] #cell_map[i]\n",
    "cell_inds"
   ]
  },
  {
   "cell_type": "code",
   "execution_count": 22,
   "metadata": {
    "ExecuteTime": {
     "end_time": "2021-01-16T00:13:00.604814Z",
     "start_time": "2021-01-16T00:13:00.580614Z"
    }
   },
   "outputs": [
    {
     "data": {
      "text/plain": [
       "(710, 33, 34, 629)"
      ]
     },
     "execution_count": 22,
     "metadata": {},
     "output_type": "execute_result"
    }
   ],
   "source": [
    "donor_ids_best = np.argmax(modelCA.ID_prob, axis=1)\n",
    "from sklearn.metrics import confusion_matrix\n",
    "\n",
    "tn, fp, fn, tp = confusion_matrix(cell_inds, donor_ids_best).ravel()\n",
    "(tn, fp, fn, tp)"
   ]
  },
  {
   "cell_type": "code",
   "execution_count": 23,
   "metadata": {
    "ExecuteTime": {
     "end_time": "2021-01-16T00:13:02.517157Z",
     "start_time": "2021-01-16T00:13:01.707760Z"
    }
   },
   "outputs": [
    {
     "data": {
      "image/png": "[encoded data removed]",
      "text/plain": [
       "<Figure size 720x720 with 5 Axes>"
      ]
     },
     "metadata": {
      "needs_background": "light"
     },
     "output_type": "display_data"
    }
   ],
   "source": [
    "colors = {0:\"blue\", 1:\"red\"}\n",
    "cell_colors = [colors[x] for x in cell_inds]\n",
    "cell_colors = pd.Series(cell_colors, name=\"sample ID\")\n",
    "g = sns.clustermap(data=pd.DataFrame(modelCA.ID_prob, columns=[f\"AF {x+1}\" for x in np.arange(modelCA.ID_prob.shape[1])]), row_cluster=False, col_cluster=False,\n",
    "              row_colors=cell_colors)\n",
    "#plt.ylabel(\"Cell\")\n",
    "#plt.xlabel(\"Predicted Genotype Cluster\")\n",
    "g.fig.suptitle(\"Probability of being in cluster\\nColors on left is sample ID\")\n",
    "g.ax_heatmap.set_xlabel(\"Predicted Genotype Cluster\")\n",
    "g.ax_heatmap.set_ylabel(\"Cell\")\n",
    "\n",
    "plt.savefig(\"pseudo_multiplex_with_cellIDs.png\")"
   ]
  },
  {
   "cell_type": "code",
   "execution_count": 24,
   "metadata": {
    "ExecuteTime": {
     "end_time": "2021-01-16T00:13:05.304127Z",
     "start_time": "2021-01-16T00:13:04.955687Z"
    }
   },
   "outputs": [
    {
     "data": {
      "text/plain": [
       "<matplotlib.axes._subplots.AxesSubplot at 0x7fa2e098a860>"
      ]
     },
     "execution_count": 24,
     "metadata": {},
     "output_type": "execute_result"
    },
    {
     "data": {
      "image/png": "[encoded data removed]",
      "text/plain": [
       "<Figure size 432x288 with 1 Axes>"
      ]
     },
     "metadata": {
      "needs_background": "light"
     },
     "output_type": "display_data"
    }
   ],
   "source": [
    "for ind, val in enumerate(in_cell_names):\n",
    "    vcf[\"AF \" + str(ind)] = AF_SNPs[:, ind]\n",
    "#vcf.iloc[ind.argsort()[::-1]].head(100)\n",
    "vcf.iloc[vcf[\"AF \" + str(ind)].argsort()[::-1].values]\n",
    "\n",
    "sns.regplot(data=vcf, x =\"AF 0\" , y=\"AF 1\")"
   ]
  },
  {
   "cell_type": "code",
   "execution_count": null,
   "metadata": {},
   "outputs": [],
   "source": []
  },
  {
   "cell_type": "markdown",
   "metadata": {},
   "source": [
    "## with n_GT=3"
   ]
  },
  {
   "cell_type": "code",
   "execution_count": 27,
   "metadata": {
    "ExecuteTime": {
     "end_time": "2021-01-18T17:44:29.745936Z",
     "start_time": "2021-01-18T17:44:01.287501Z"
    }
   },
   "outputs": [
    {
     "data": {
      "image/png": "[encoded data removed]",
      "text/plain": [
       "<Figure size 792x288 with 2 Axes>"
      ]
     },
     "metadata": {
      "needs_background": "light"
     },
     "output_type": "display_data"
    },
    {
     "data": {
      "image/png": "[encoded data removed]",
      "text/plain": [
       "<Figure size 700x400 with 4 Axes>"
      ]
     },
     "metadata": {
      "needs_background": "light"
     },
     "output_type": "display_data"
    },
    {
     "data": {
      "image/png": "[encoded data removed]",
      "text/plain": [
       "<Figure size 720x720 with 5 Axes>"
      ]
     },
     "metadata": {
      "needs_background": "light"
     },
     "output_type": "display_data"
    }
   ],
   "source": [
    "\n",
    "np.random.seed(1)\n",
    "\n",
    "n_initials = 50\n",
    "\n",
    "_models_all = []\n",
    "for i in range(n_initials):\n",
    "    _modelCA = Vireo(n_var=AD_shape[0], n_cell=AD_shape[1], n_donor=2, n_GT=2,\n",
    "                     fix_beta_sum=False, ASE_mode=True)\n",
    "    _modelCA.set_prior(beta_mu_prior=np.array([[0.01, 0.5]]))\n",
    "    _modelCA.fit(AD, DP, min_iter=20, verbose=False, delay_fit_theta=0)\n",
    "    _models_all.append(_modelCA)\n",
    "    \n",
    "import matplotlib.pyplot as plt\n",
    "## Choose the model giving highest ELBO\n",
    "\n",
    "_idx = np.argmax([x.ELBO_[-1] for x in _models_all])\n",
    "modelCA = _models_all[_idx]\n",
    "_losses = modelCA.ELBO_\n",
    "\n",
    "fig = plt.figure(figsize=(11, 4))\n",
    "plt.subplot(1, 2, 1)\n",
    "plt.hist([x.ELBO_[-1] for x in _models_all])\n",
    "plt.ylabel(\"Frequency\")\n",
    "plt.xlabel(\"ELBO with multiple initializations\")\n",
    "\n",
    "plt.subplot(1, 2, 2)\n",
    "plt.plot(_losses)\n",
    "plt.xlabel(\"Iterations\")\n",
    "plt.ylabel(\"ELBO in a single run\")\n",
    "\n",
    "plt.tight_layout()\n",
    "\n",
    "plt.show()\n",
    "\n",
    "\n",
    "import matplotlib.pyplot as plt\n",
    "from vireoSNP.plot.base_plot import heat_matrix\n",
    "\n",
    "fig = plt.figure(figsize=(7, 4), dpi=100)\n",
    "plt.subplot(1, 2, 1)\n",
    "im = heat_matrix(modelCA.ID_prob, cmap=\"Oranges\", alpha=0.8,\n",
    "                 display_value=False, row_sort=True)\n",
    "plt.colorbar(im, fraction=0.046, pad=0.04)\n",
    "plt.title(\"Assignment probability\")\n",
    "plt.xlabel(\"Clone\")\n",
    "plt.ylabel(\"%d cells\" %(modelCA.n_cell))\n",
    "plt.xticks(range(modelCA.n_donor))\n",
    "\n",
    "\n",
    "plt.subplot(1, 2, 2)\n",
    "AF_SNPs = np.sum(modelCA.GT_prob * \n",
    "                 np.expand_dims(modelCA.beta_mu, 1), axis=2)\n",
    "im = heat_matrix(AF_SNPs, cmap=\"Blues\", alpha=0.8, \n",
    "                 display_value=False, row_sort=True)\n",
    "plt.colorbar(im, fraction=0.046, pad=0.04)\n",
    "plt.title(\"Mean allelic ratio\")\n",
    "plt.xlabel(\"Clone\")\n",
    "plt.ylabel(\"%d SNPs\" %(modelCA.n_var))\n",
    "plt.xticks(range(modelCA.n_donor))\n",
    "\n",
    "plt.tight_layout()\n",
    "plt.show()\n",
    "    \n",
    "    \n",
    "colors = {0:\"blue\", 1:\"red\"}\n",
    "cell_colors = [colors[x] for x in cell_inds]\n",
    "cell_colors = pd.Series(cell_colors, name=\"sample ID\")\n",
    "g = sns.clustermap(data=pd.DataFrame(modelCA.ID_prob, columns=[f\"AF {x+1}\" for x in np.arange(modelCA.ID_prob.shape[1])]), row_cluster=False, col_cluster=False,\n",
    "              row_colors=cell_colors)\n",
    "#plt.ylabel(\"Cell\")\n",
    "#plt.xlabel(\"Predicted Genotype Cluster\")\n",
    "g.fig.suptitle(\"Probability of being in cluster\\nColors on left is sample ID\")\n",
    "g.ax_heatmap.set_xlabel(\"Predicted Genotype Cluster\")\n",
    "g.ax_heatmap.set_ylabel(\"Cell\")\n",
    "\n",
    "plt.savefig(\"pseudo_multiplex_with_cellIDs.png\")"
   ]
  },
  {
   "cell_type": "code",
   "execution_count": null,
   "metadata": {},
   "outputs": [],
   "source": []
  },
  {
   "cell_type": "code",
   "execution_count": null,
   "metadata": {},
   "outputs": [],
   "source": []
  },
  {
   "cell_type": "code",
   "execution_count": 57,
   "metadata": {
    "ExecuteTime": {
     "end_time": "2021-01-16T00:05:04.607504Z",
     "start_time": "2021-01-16T00:04:52.302802Z"
    },
    "execution": {
     "iopub.execute_input": "2021-01-14T01:24:28.268562Z",
     "iopub.status.busy": "2021-01-14T01:24:28.267943Z",
     "iopub.status.idle": "2021-01-14T01:24:33.285827Z",
     "shell.execute_reply": "2021-01-14T01:24:33.285283Z"
    },
    "papermill": {
     "duration": 5.067425,
     "end_time": "2021-01-14T01:24:33.285980",
     "exception": false,
     "start_time": "2021-01-14T01:24:28.218555",
     "status": "completed"
    },
    "scrolled": true,
    "tags": []
   },
   "outputs": [
    {
     "name": "stdout",
     "output_type": "stream",
     "text": [
      "[vireo] lower bound ranges [-515759.7, -515759.7, -458201.6]\n",
      "[vireo] allelic rate mean and concentrations:\n",
      "[[0.015 0.119 0.228 0.337 0.446 0.554 0.663 0.772 0.881 0.99 ]\n",
      " [0.023 0.038 0.228 0.337 0.446 0.554 0.663 0.772 0.881 0.99 ]\n",
      " [0.011 0.119 0.228 0.337 0.446 0.554 0.663 0.772 0.881 0.99 ]\n",
      " [0.01  0.044 0.228 0.337 0.446 0.554 0.663 0.772 0.881 0.99 ]\n",
      " [0.013 0.119 0.228 0.337 0.446 0.554 0.663 0.772 0.881 0.99 ]\n",
      " [0.01  0.119 0.228 0.337 0.446 0.554 0.663 0.772 0.881 0.99 ]\n",
      " [0.01  0.122 0.228 0.337 0.446 0.554 0.663 0.772 0.881 0.99 ]\n",
      " [0.013 0.119 0.228 0.337 0.446 0.554 0.663 0.772 0.881 0.99 ]\n",
      " [0.015 0.119 0.228 0.337 0.446 0.554 0.663 0.772 0.881 0.99 ]\n",
      " [0.011 0.119 0.228 0.337 0.446 0.554 0.663 0.772 0.881 0.99 ]\n",
      " [0.016 0.119 0.228 0.337 0.446 0.554 0.663 0.772 0.881 0.99 ]\n",
      " [0.012 0.119 0.228 0.337 0.446 0.554 0.663 0.772 0.881 0.99 ]\n",
      " [0.013 0.119 0.228 0.337 0.446 0.554 0.663 0.772 0.881 0.99 ]\n",
      " [0.015 0.119 0.228 0.337 0.446 0.554 0.663 0.772 0.881 0.99 ]\n",
      " [0.01  0.132 0.228 0.337 0.446 0.554 0.663 0.772 0.881 0.99 ]\n",
      " [0.015 0.119 0.228 0.337 0.446 0.554 0.663 0.772 0.881 0.99 ]\n",
      " [0.022 0.119 0.228 0.337 0.446 0.554 0.663 0.772 0.881 0.99 ]\n",
      " [0.018 0.119 0.228 0.337 0.446 0.554 0.663 0.772 0.881 0.99 ]\n",
      " [0.011 0.119 0.228 0.337 0.446 0.554 0.663 0.772 0.881 0.99 ]\n",
      " [0.01  0.119 0.228 0.337 0.446 0.554 0.663 0.772 0.881 0.99 ]\n",
      " [0.02  0.119 0.228 0.337 0.446 0.554 0.663 0.772 0.881 0.99 ]\n",
      " [0.011 0.119 0.228 0.337 0.446 0.554 0.663 0.772 0.881 0.99 ]\n",
      " [0.011 0.119 0.228 0.337 0.446 0.554 0.663 0.772 0.881 0.99 ]\n",
      " [0.01  0.119 0.228 0.337 0.423 0.554 0.663 0.772 0.881 0.99 ]\n",
      " [0.011 0.119 0.228 0.337 0.446 0.554 0.663 0.772 0.881 0.99 ]\n",
      " [0.01  0.135 0.228 0.337 0.446 0.554 0.663 0.772 0.881 0.99 ]\n",
      " [0.018 0.119 0.228 0.337 0.446 0.554 0.663 0.772 0.881 0.99 ]\n",
      " [0.01  0.119 0.169 0.337 0.446 0.554 0.663 0.772 0.881 0.99 ]\n",
      " [0.025 0.119 0.228 0.337 0.446 0.554 0.663 0.772 0.881 0.99 ]\n",
      " [0.013 0.119 0.228 0.337 0.446 0.554 0.663 0.772 0.881 0.99 ]\n",
      " [0.015 0.119 0.228 0.337 0.446 0.554 0.663 0.772 0.881 0.99 ]\n",
      " [0.01  0.159 0.228 0.337 0.446 0.554 0.663 0.772 0.881 0.99 ]\n",
      " [0.01  0.089 0.228 0.337 0.446 0.554 0.663 0.772 0.881 0.99 ]\n",
      " [0.01  0.062 0.228 0.337 0.446 0.554 0.663 0.772 0.881 0.99 ]\n",
      " [0.019 0.119 0.228 0.337 0.446 0.554 0.663 0.772 0.881 0.99 ]\n",
      " [0.023 0.119 0.228 0.337 0.446 0.554 0.663 0.772 0.881 0.99 ]\n",
      " [0.014 0.119 0.228 0.337 0.446 0.554 0.663 0.772 0.881 0.99 ]\n",
      " [0.014 0.119 0.228 0.337 0.446 0.554 0.663 0.772 0.881 0.99 ]\n",
      " [0.015 0.119 0.228 0.337 0.446 0.554 0.663 0.772 0.881 0.99 ]\n",
      " [0.012 0.119 0.228 0.337 0.446 0.554 0.663 0.772 0.881 0.99 ]\n",
      " [0.01  0.119 0.228 0.337 0.446 0.554 0.663 0.772 0.881 0.99 ]\n",
      " [0.022 0.119 0.228 0.337 0.446 0.554 0.663 0.772 0.881 0.99 ]\n",
      " [0.01  0.037 0.228 0.337 0.446 0.554 0.663 0.772 0.881 0.99 ]\n",
      " [0.014 0.119 0.228 0.337 0.446 0.554 0.663 0.772 0.881 0.99 ]\n",
      " [0.01  0.119 0.228 0.337 0.446 0.554 0.663 0.772 0.881 0.99 ]\n",
      " [0.011 0.119 0.228 0.337 0.446 0.554 0.663 0.772 0.881 0.99 ]\n",
      " [0.012 0.119 0.228 0.337 0.446 0.554 0.663 0.772 0.881 0.99 ]\n",
      " [0.018 0.119 0.228 0.337 0.446 0.554 0.663 0.772 0.881 0.99 ]\n",
      " [0.01  0.119 0.228 0.337 0.446 0.554 0.663 0.772 0.881 0.99 ]\n",
      " [0.017 0.119 0.228 0.337 0.446 0.554 0.663 0.772 0.881 0.99 ]\n",
      " [0.022 0.119 0.228 0.337 0.446 0.554 0.663 0.772 0.881 0.99 ]\n",
      " [0.01  0.034 0.228 0.337 0.446 0.554 0.663 0.772 0.881 0.99 ]\n",
      " [0.01  0.086 0.228 0.337 0.446 0.554 0.663 0.772 0.881 0.99 ]\n",
      " [0.01  0.035 0.228 0.337 0.446 0.554 0.663 0.772 0.881 0.99 ]\n",
      " [0.019 0.119 0.228 0.337 0.446 0.554 0.663 0.772 0.881 0.99 ]\n",
      " [0.014 0.119 0.228 0.337 0.446 0.554 0.663 0.772 0.881 0.99 ]\n",
      " [0.028 0.119 0.228 0.337 0.446 0.554 0.663 0.772 0.881 0.99 ]\n",
      " [0.029 0.119 0.228 0.337 0.446 0.554 0.663 0.772 0.881 0.99 ]\n",
      " [0.01  0.041 0.228 0.337 0.446 0.554 0.663 0.772 0.881 0.99 ]\n",
      " [0.018 0.119 0.228 0.337 0.446 0.554 0.663 0.772 0.881 0.99 ]\n",
      " [0.01  0.119 0.228 0.337 0.446 0.554 0.663 0.772 0.881 0.99 ]\n",
      " [0.011 0.119 0.228 0.337 0.446 0.554 0.663 0.772 0.881 0.99 ]\n",
      " [0.011 0.119 0.228 0.337 0.446 0.554 0.663 0.772 0.881 0.99 ]\n",
      " [0.015 0.119 0.228 0.337 0.446 0.554 0.663 0.772 0.881 0.99 ]\n",
      " [0.024 0.119 0.228 0.337 0.446 0.554 0.663 0.772 0.881 0.99 ]\n",
      " [0.01  0.042 0.228 0.337 0.446 0.554 0.663 0.772 0.881 0.99 ]\n",
      " [0.01  0.047 0.228 0.337 0.446 0.554 0.663 0.772 0.881 0.99 ]\n",
      " [0.01  0.039 0.228 0.337 0.446 0.554 0.663 0.772 0.881 0.99 ]\n",
      " [0.024 0.119 0.228 0.337 0.446 0.554 0.663 0.772 0.881 0.99 ]\n",
      " [0.012 0.119 0.228 0.337 0.446 0.554 0.663 0.772 0.881 0.99 ]\n",
      " [0.015 0.119 0.228 0.337 0.446 0.554 0.663 0.772 0.881 0.99 ]\n",
      " [0.028 0.119 0.228 0.337 0.446 0.554 0.663 0.772 0.881 0.99 ]\n",
      " [0.024 0.119 0.228 0.337 0.446 0.554 0.663 0.772 0.881 0.99 ]\n",
      " [0.012 0.119 0.228 0.337 0.446 0.554 0.663 0.772 0.881 0.99 ]\n",
      " [0.012 0.119 0.228 0.337 0.446 0.554 0.663 0.772 0.881 0.99 ]\n",
      " [0.015 0.119 0.228 0.337 0.446 0.554 0.663 0.772 0.881 0.99 ]\n",
      " [0.012 0.119 0.228 0.337 0.446 0.554 0.663 0.772 0.881 0.99 ]\n",
      " [0.012 0.119 0.228 0.337 0.446 0.554 0.663 0.772 0.881 0.99 ]\n",
      " [0.01  0.035 0.228 0.337 0.446 0.554 0.663 0.772 0.881 0.99 ]\n",
      " [0.03  0.119 0.228 0.337 0.446 0.554 0.663 0.772 0.881 0.99 ]\n",
      " [0.011 0.119 0.228 0.337 0.446 0.554 0.663 0.772 0.881 0.99 ]\n",
      " [0.01  0.037 0.228 0.337 0.446 0.554 0.663 0.772 0.881 0.99 ]\n",
      " [0.01  0.119 0.228 0.279 0.446 0.554 0.663 0.772 0.881 0.99 ]\n",
      " [0.014 0.119 0.228 0.337 0.446 0.554 0.663 0.772 0.881 0.99 ]\n",
      " [0.013 0.119 0.228 0.337 0.446 0.554 0.663 0.772 0.881 0.99 ]\n",
      " [0.01  0.119 0.228 0.337 0.446 0.554 0.663 0.772 0.881 0.99 ]\n",
      " [0.01  0.119 0.228 0.337 0.446 0.554 0.663 0.772 0.881 0.99 ]\n",
      " [0.013 0.119 0.228 0.337 0.446 0.554 0.663 0.772 0.881 0.99 ]\n",
      " [0.012 0.119 0.228 0.337 0.446 0.554 0.663 0.772 0.881 0.99 ]\n",
      " [0.013 0.119 0.228 0.337 0.446 0.554 0.663 0.772 0.881 0.99 ]\n",
      " [0.014 0.119 0.228 0.337 0.446 0.554 0.663 0.772 0.881 0.99 ]\n",
      " [0.025 0.119 0.228 0.337 0.446 0.554 0.663 0.772 0.881 0.99 ]\n",
      " [0.011 0.119 0.228 0.337 0.446 0.554 0.663 0.772 0.881 0.99 ]\n",
      " [0.003 0.119 0.228 0.337 0.597 0.554 0.663 0.772 0.881 0.99 ]\n",
      " [0.011 0.119 0.228 0.337 0.446 0.554 0.663 0.772 0.881 0.99 ]]\n",
      "[[1.316660e+05 5.000000e+01 5.000000e+01 5.000000e+01 5.000000e+01\n",
      "  5.000000e+01 5.000000e+01 5.000000e+01 5.000000e+01 5.000000e+01]\n",
      " [3.300065e+05 9.232250e+04 5.000000e+01 5.000000e+01 5.000000e+01\n",
      "  5.000000e+01 5.000000e+01 5.000000e+01 5.000000e+01 5.000000e+01]\n",
      " [1.167260e+05 5.000000e+01 5.000000e+01 5.000000e+01 5.000000e+01\n",
      "  5.000000e+01 5.000000e+01 5.000000e+01 5.000000e+01 5.000000e+01]\n",
      " [5.000000e+01 3.792160e+05 5.000000e+01 5.000000e+01 5.000000e+01\n",
      "  5.000000e+01 5.000000e+01 5.000000e+01 5.000000e+01 5.000000e+01]\n",
      " [1.112480e+05 5.000000e+01 5.000000e+01 5.000000e+01 5.000000e+01\n",
      "  5.000000e+01 5.000000e+01 5.000000e+01 5.000000e+01 5.000000e+01]\n",
      " [1.107130e+05 5.000000e+01 5.000000e+01 5.000000e+01 5.000000e+01\n",
      "  5.000000e+01 5.000000e+01 5.000000e+01 5.000000e+01 5.000000e+01]\n",
      " [5.000000e+01 1.044650e+05 5.000000e+01 5.000000e+01 5.000000e+01\n",
      "  5.000000e+01 5.000000e+01 5.000000e+01 5.000000e+01 5.000000e+01]\n",
      " [2.107450e+05 5.000000e+01 5.000000e+01 5.000000e+01 5.000000e+01\n",
      "  5.000000e+01 5.000000e+01 5.000000e+01 5.000000e+01 5.000000e+01]\n",
      " [6.125100e+05 5.000000e+01 5.000000e+01 5.000000e+01 5.000000e+01\n",
      "  5.000000e+01 5.000000e+01 5.000000e+01 5.000000e+01 5.000000e+01]\n",
      " [1.963150e+05 5.000000e+01 5.000000e+01 5.000000e+01 5.000000e+01\n",
      "  5.000000e+01 5.000000e+01 5.000000e+01 5.000000e+01 5.000000e+01]\n",
      " [6.342850e+05 5.000000e+01 5.000000e+01 5.000000e+01 5.000000e+01\n",
      "  5.000000e+01 5.000000e+01 5.000000e+01 5.000000e+01 5.000000e+01]\n",
      " [6.284760e+05 5.000000e+01 5.000000e+01 5.000000e+01 5.000000e+01\n",
      "  5.000000e+01 5.000000e+01 5.000000e+01 5.000000e+01 5.000000e+01]\n",
      " [7.656360e+05 5.000000e+01 5.000000e+01 5.000000e+01 5.000000e+01\n",
      "  5.000000e+01 5.000000e+01 5.000000e+01 5.000000e+01 5.000000e+01]\n",
      " [7.643860e+05 5.000000e+01 5.000000e+01 5.000000e+01 5.000000e+01\n",
      "  5.000000e+01 5.000000e+01 5.000000e+01 5.000000e+01 5.000000e+01]\n",
      " [5.000000e+01 2.094670e+05 5.000000e+01 5.000000e+01 5.000000e+01\n",
      "  5.000000e+01 5.000000e+01 5.000000e+01 5.000000e+01 5.000000e+01]\n",
      " [6.598840e+05 5.000000e+01 5.000000e+01 5.000000e+01 5.000000e+01\n",
      "  5.000000e+01 5.000000e+01 5.000000e+01 5.000000e+01 5.000000e+01]\n",
      " [8.079850e+05 5.000000e+01 5.000000e+01 5.000000e+01 5.000000e+01\n",
      "  5.000000e+01 5.000000e+01 5.000000e+01 5.000000e+01 5.000000e+01]\n",
      " [7.899940e+05 5.000000e+01 5.000000e+01 5.000000e+01 5.000000e+01\n",
      "  5.000000e+01 5.000000e+01 5.000000e+01 5.000000e+01 5.000000e+01]\n",
      " [7.635820e+05 5.000000e+01 5.000000e+01 5.000000e+01 5.000000e+01\n",
      "  5.000000e+01 5.000000e+01 5.000000e+01 5.000000e+01 5.000000e+01]\n",
      " [7.081920e+05 5.000000e+01 5.000000e+01 5.000000e+01 5.000000e+01\n",
      "  5.000000e+01 5.000000e+01 5.000000e+01 5.000000e+01 5.000000e+01]\n",
      " [7.635270e+05 5.000000e+01 5.000000e+01 5.000000e+01 5.000000e+01\n",
      "  5.000000e+01 5.000000e+01 5.000000e+01 5.000000e+01 5.000000e+01]\n",
      " [2.222000e+05 5.000000e+01 5.000000e+01 5.000000e+01 5.000000e+01\n",
      "  5.000000e+01 5.000000e+01 5.000000e+01 5.000000e+01 5.000000e+01]\n",
      " [6.446590e+05 5.000000e+01 5.000000e+01 5.000000e+01 5.000000e+01\n",
      "  5.000000e+01 5.000000e+01 5.000000e+01 5.000000e+01 5.000000e+01]\n",
      " [5.000000e+01 5.000000e+01 5.000000e+01 5.000000e+01 4.703600e+04\n",
      "  5.000000e+01 5.000000e+01 5.000000e+01 5.000000e+01 5.000000e+01]\n",
      " [6.327220e+05 5.000000e+01 5.000000e+01 5.000000e+01 5.000000e+01\n",
      "  5.000000e+01 5.000000e+01 5.000000e+01 5.000000e+01 5.000000e+01]\n",
      " [5.000000e+01 5.721120e+05 5.000000e+01 5.000000e+01 5.000000e+01\n",
      "  5.000000e+01 5.000000e+01 5.000000e+01 5.000000e+01 5.000000e+01]\n",
      " [7.355680e+05 5.000000e+01 5.000000e+01 5.000000e+01 5.000000e+01\n",
      "  5.000000e+01 5.000000e+01 5.000000e+01 5.000000e+01 5.000000e+01]\n",
      " [5.000000e+01 5.000000e+01 7.205420e+05 5.000000e+01 5.000000e+01\n",
      "  5.000000e+01 5.000000e+01 5.000000e+01 5.000000e+01 5.000000e+01]\n",
      " [7.775720e+05 5.000000e+01 5.000000e+01 5.000000e+01 5.000000e+01\n",
      "  5.000000e+01 5.000000e+01 5.000000e+01 5.000000e+01 5.000000e+01]\n",
      " [6.778060e+05 5.000000e+01 5.000000e+01 5.000000e+01 5.000000e+01\n",
      "  5.000000e+01 5.000000e+01 5.000000e+01 5.000000e+01 5.000000e+01]\n",
      " [7.024960e+05 5.000000e+01 5.000000e+01 5.000000e+01 5.000000e+01\n",
      "  5.000000e+01 5.000000e+01 5.000000e+01 5.000000e+01 5.000000e+01]\n",
      " [5.000000e+01 6.378610e+05 5.000000e+01 5.000000e+01 5.000000e+01\n",
      "  5.000000e+01 5.000000e+01 5.000000e+01 5.000000e+01 5.000000e+01]\n",
      " [5.000000e+01 7.364030e+05 5.000000e+01 5.000000e+01 5.000000e+01\n",
      "  5.000000e+01 5.000000e+01 5.000000e+01 5.000000e+01 5.000000e+01]\n",
      " [5.000000e+01 7.168640e+05 5.000000e+01 5.000000e+01 5.000000e+01\n",
      "  5.000000e+01 5.000000e+01 5.000000e+01 5.000000e+01 5.000000e+01]\n",
      " [6.674030e+05 5.000000e+01 5.000000e+01 5.000000e+01 5.000000e+01\n",
      "  5.000000e+01 5.000000e+01 5.000000e+01 5.000000e+01 5.000000e+01]\n",
      " [7.315400e+05 5.000000e+01 5.000000e+01 5.000000e+01 5.000000e+01\n",
      "  5.000000e+01 5.000000e+01 5.000000e+01 5.000000e+01 5.000000e+01]\n",
      " [7.516920e+05 5.000000e+01 5.000000e+01 5.000000e+01 5.000000e+01\n",
      "  5.000000e+01 5.000000e+01 5.000000e+01 5.000000e+01 5.000000e+01]\n",
      " [7.623620e+05 5.000000e+01 5.000000e+01 5.000000e+01 5.000000e+01\n",
      "  5.000000e+01 5.000000e+01 5.000000e+01 5.000000e+01 5.000000e+01]\n",
      " [8.010770e+05 5.000000e+01 5.000000e+01 5.000000e+01 5.000000e+01\n",
      "  5.000000e+01 5.000000e+01 5.000000e+01 5.000000e+01 5.000000e+01]\n",
      " [2.662820e+05 5.000000e+01 5.000000e+01 5.000000e+01 5.000000e+01\n",
      "  5.000000e+01 5.000000e+01 5.000000e+01 5.000000e+01 5.000000e+01]\n",
      " [2.543420e+05 5.000000e+01 5.000000e+01 5.000000e+01 5.000000e+01\n",
      "  5.000000e+01 5.000000e+01 5.000000e+01 5.000000e+01 5.000000e+01]\n",
      " [7.724420e+05 5.000000e+01 5.000000e+01 5.000000e+01 5.000000e+01\n",
      "  5.000000e+01 5.000000e+01 5.000000e+01 5.000000e+01 5.000000e+01]\n",
      " [5.000000e+01 7.080020e+05 5.000000e+01 5.000000e+01 5.000000e+01\n",
      "  5.000000e+01 5.000000e+01 5.000000e+01 5.000000e+01 5.000000e+01]\n",
      " [8.510530e+05 5.000000e+01 5.000000e+01 5.000000e+01 5.000000e+01\n",
      "  5.000000e+01 5.000000e+01 5.000000e+01 5.000000e+01 5.000000e+01]\n",
      " [8.211040e+05 5.000000e+01 5.000000e+01 5.000000e+01 5.000000e+01\n",
      "  5.000000e+01 5.000000e+01 5.000000e+01 5.000000e+01 5.000000e+01]\n",
      " [6.497110e+05 5.000000e+01 5.000000e+01 5.000000e+01 5.000000e+01\n",
      "  5.000000e+01 5.000000e+01 5.000000e+01 5.000000e+01 5.000000e+01]\n",
      " [2.711950e+05 5.000000e+01 5.000000e+01 5.000000e+01 5.000000e+01\n",
      "  5.000000e+01 5.000000e+01 5.000000e+01 5.000000e+01 5.000000e+01]\n",
      " [2.942170e+05 5.000000e+01 5.000000e+01 5.000000e+01 5.000000e+01\n",
      "  5.000000e+01 5.000000e+01 5.000000e+01 5.000000e+01 5.000000e+01]\n",
      " [5.847220e+05 5.000000e+01 5.000000e+01 5.000000e+01 5.000000e+01\n",
      "  5.000000e+01 5.000000e+01 5.000000e+01 5.000000e+01 5.000000e+01]\n",
      " [5.786920e+05 5.000000e+01 5.000000e+01 5.000000e+01 5.000000e+01\n",
      "  5.000000e+01 5.000000e+01 5.000000e+01 5.000000e+01 5.000000e+01]\n",
      " [5.778910e+05 5.000000e+01 5.000000e+01 5.000000e+01 5.000000e+01\n",
      "  5.000000e+01 5.000000e+01 5.000000e+01 5.000000e+01 5.000000e+01]\n",
      " [5.000000e+01 5.730820e+05 5.000000e+01 5.000000e+01 5.000000e+01\n",
      "  5.000000e+01 5.000000e+01 5.000000e+01 5.000000e+01 5.000000e+01]\n",
      " [5.000000e+01 5.787790e+05 5.000000e+01 5.000000e+01 5.000000e+01\n",
      "  5.000000e+01 5.000000e+01 5.000000e+01 5.000000e+01 5.000000e+01]\n",
      " [5.000000e+01 6.289100e+05 5.000000e+01 5.000000e+01 5.000000e+01\n",
      "  5.000000e+01 5.000000e+01 5.000000e+01 5.000000e+01 5.000000e+01]\n",
      " [6.135870e+05 5.000000e+01 5.000000e+01 5.000000e+01 5.000000e+01\n",
      "  5.000000e+01 5.000000e+01 5.000000e+01 5.000000e+01 5.000000e+01]\n",
      " [6.118730e+05 5.000000e+01 5.000000e+01 5.000000e+01 5.000000e+01\n",
      "  5.000000e+01 5.000000e+01 5.000000e+01 5.000000e+01 5.000000e+01]\n",
      " [5.634910e+05 5.000000e+01 5.000000e+01 5.000000e+01 5.000000e+01\n",
      "  5.000000e+01 5.000000e+01 5.000000e+01 5.000000e+01 5.000000e+01]\n",
      " [5.631290e+05 5.000000e+01 5.000000e+01 5.000000e+01 5.000000e+01\n",
      "  5.000000e+01 5.000000e+01 5.000000e+01 5.000000e+01 5.000000e+01]\n",
      " [5.000000e+01 5.416710e+05 5.000000e+01 5.000000e+01 5.000000e+01\n",
      "  5.000000e+01 5.000000e+01 5.000000e+01 5.000000e+01 5.000000e+01]\n",
      " [5.751350e+05 5.000000e+01 5.000000e+01 5.000000e+01 5.000000e+01\n",
      "  5.000000e+01 5.000000e+01 5.000000e+01 5.000000e+01 5.000000e+01]\n",
      " [6.121910e+05 5.000000e+01 5.000000e+01 5.000000e+01 5.000000e+01\n",
      "  5.000000e+01 5.000000e+01 5.000000e+01 5.000000e+01 5.000000e+01]\n",
      " [5.418480e+05 5.000000e+01 5.000000e+01 5.000000e+01 5.000000e+01\n",
      "  5.000000e+01 5.000000e+01 5.000000e+01 5.000000e+01 5.000000e+01]\n",
      " [7.233140e+05 5.000000e+01 5.000000e+01 5.000000e+01 5.000000e+01\n",
      "  5.000000e+01 5.000000e+01 5.000000e+01 5.000000e+01 5.000000e+01]\n",
      " [8.806420e+05 5.000000e+01 5.000000e+01 5.000000e+01 5.000000e+01\n",
      "  5.000000e+01 5.000000e+01 5.000000e+01 5.000000e+01 5.000000e+01]\n",
      " [7.742640e+05 5.000000e+01 5.000000e+01 5.000000e+01 5.000000e+01\n",
      "  5.000000e+01 5.000000e+01 5.000000e+01 5.000000e+01 5.000000e+01]\n",
      " [5.000000e+01 6.105760e+05 5.000000e+01 5.000000e+01 5.000000e+01\n",
      "  5.000000e+01 5.000000e+01 5.000000e+01 5.000000e+01 5.000000e+01]\n",
      " [5.000000e+01 6.395950e+05 5.000000e+01 5.000000e+01 5.000000e+01\n",
      "  5.000000e+01 5.000000e+01 5.000000e+01 5.000000e+01 5.000000e+01]\n",
      " [5.000000e+01 6.444400e+05 5.000000e+01 5.000000e+01 5.000000e+01\n",
      "  5.000000e+01 5.000000e+01 5.000000e+01 5.000000e+01 5.000000e+01]\n",
      " [6.490990e+05 5.000000e+01 5.000000e+01 5.000000e+01 5.000000e+01\n",
      "  5.000000e+01 5.000000e+01 5.000000e+01 5.000000e+01 5.000000e+01]\n",
      " [6.478790e+05 5.000000e+01 5.000000e+01 5.000000e+01 5.000000e+01\n",
      "  5.000000e+01 5.000000e+01 5.000000e+01 5.000000e+01 5.000000e+01]\n",
      " [6.362360e+05 5.000000e+01 5.000000e+01 5.000000e+01 5.000000e+01\n",
      "  5.000000e+01 5.000000e+01 5.000000e+01 5.000000e+01 5.000000e+01]\n",
      " [6.359940e+05 5.000000e+01 5.000000e+01 5.000000e+01 5.000000e+01\n",
      "  5.000000e+01 5.000000e+01 5.000000e+01 5.000000e+01 5.000000e+01]\n",
      " [6.306560e+05 5.000000e+01 5.000000e+01 5.000000e+01 5.000000e+01\n",
      "  5.000000e+01 5.000000e+01 5.000000e+01 5.000000e+01 5.000000e+01]\n",
      " [7.097250e+05 5.000000e+01 5.000000e+01 5.000000e+01 5.000000e+01\n",
      "  5.000000e+01 5.000000e+01 5.000000e+01 5.000000e+01 5.000000e+01]\n",
      " [6.923610e+05 5.000000e+01 5.000000e+01 5.000000e+01 5.000000e+01\n",
      "  5.000000e+01 5.000000e+01 5.000000e+01 5.000000e+01 5.000000e+01]\n",
      " [6.948150e+05 5.000000e+01 5.000000e+01 5.000000e+01 5.000000e+01\n",
      "  5.000000e+01 5.000000e+01 5.000000e+01 5.000000e+01 5.000000e+01]\n",
      " [7.136570e+05 5.000000e+01 5.000000e+01 5.000000e+01 5.000000e+01\n",
      "  5.000000e+01 5.000000e+01 5.000000e+01 5.000000e+01 5.000000e+01]\n",
      " [7.970450e+05 5.000000e+01 5.000000e+01 5.000000e+01 5.000000e+01\n",
      "  5.000000e+01 5.000000e+01 5.000000e+01 5.000000e+01 5.000000e+01]\n",
      " [5.000000e+01 6.978970e+05 5.000000e+01 5.000000e+01 5.000000e+01\n",
      "  5.000000e+01 5.000000e+01 5.000000e+01 5.000000e+01 5.000000e+01]\n",
      " [7.301010e+05 5.000000e+01 5.000000e+01 5.000000e+01 5.000000e+01\n",
      "  5.000000e+01 5.000000e+01 5.000000e+01 5.000000e+01 5.000000e+01]\n",
      " [2.246050e+05 5.000000e+01 5.000000e+01 5.000000e+01 5.000000e+01\n",
      "  5.000000e+01 5.000000e+01 5.000000e+01 5.000000e+01 5.000000e+01]\n",
      " [5.000000e+01 2.674340e+05 5.000000e+01 5.000000e+01 5.000000e+01\n",
      "  5.000000e+01 5.000000e+01 5.000000e+01 5.000000e+01 5.000000e+01]\n",
      " [5.000000e+01 5.000000e+01 5.000000e+01 2.646780e+05 5.000000e+01\n",
      "  5.000000e+01 5.000000e+01 5.000000e+01 5.000000e+01 5.000000e+01]\n",
      " [4.098490e+05 5.000000e+01 5.000000e+01 5.000000e+01 5.000000e+01\n",
      "  5.000000e+01 5.000000e+01 5.000000e+01 5.000000e+01 5.000000e+01]\n",
      " [3.819730e+05 5.000000e+01 5.000000e+01 5.000000e+01 5.000000e+01\n",
      "  5.000000e+01 5.000000e+01 5.000000e+01 5.000000e+01 5.000000e+01]\n",
      " [5.703320e+05 5.000000e+01 5.000000e+01 5.000000e+01 5.000000e+01\n",
      "  5.000000e+01 5.000000e+01 5.000000e+01 5.000000e+01 5.000000e+01]\n",
      " [4.823360e+05 5.000000e+01 5.000000e+01 5.000000e+01 5.000000e+01\n",
      "  5.000000e+01 5.000000e+01 5.000000e+01 5.000000e+01 5.000000e+01]\n",
      " [4.565910e+05 5.000000e+01 5.000000e+01 5.000000e+01 5.000000e+01\n",
      "  5.000000e+01 5.000000e+01 5.000000e+01 5.000000e+01 5.000000e+01]\n",
      " [5.411740e+05 5.000000e+01 5.000000e+01 5.000000e+01 5.000000e+01\n",
      "  5.000000e+01 5.000000e+01 5.000000e+01 5.000000e+01 5.000000e+01]\n",
      " [5.618550e+05 5.000000e+01 5.000000e+01 5.000000e+01 5.000000e+01\n",
      "  5.000000e+01 5.000000e+01 5.000000e+01 5.000000e+01 5.000000e+01]\n",
      " [4.452750e+05 5.000000e+01 5.000000e+01 5.000000e+01 5.000000e+01\n",
      "  5.000000e+01 5.000000e+01 5.000000e+01 5.000000e+01 5.000000e+01]\n",
      " [4.401930e+05 5.000000e+01 5.000000e+01 5.000000e+01 5.000000e+01\n",
      "  5.000000e+01 5.000000e+01 5.000000e+01 5.000000e+01 5.000000e+01]\n",
      " [5.057490e+05 5.000000e+01 5.000000e+01 5.000000e+01 5.000000e+01\n",
      "  5.000000e+01 5.000000e+01 5.000000e+01 5.000000e+01 5.000000e+01]\n",
      " [5.353775e+05 5.000000e+01 5.000000e+01 5.000000e+01 3.220750e+04\n",
      "  5.000000e+01 5.000000e+01 5.000000e+01 5.000000e+01 5.000000e+01]\n",
      " [4.538950e+05 5.000000e+01 5.000000e+01 5.000000e+01 5.000000e+01\n",
      "  5.000000e+01 5.000000e+01 5.000000e+01 5.000000e+01 5.000000e+01]]\n",
      "[vireo] donor size before removing doublets:\n",
      "donor0\tdonor1\n",
      "949\t457\n"
     ]
    }
   ],
   "source": [
    "res = vireoSNP.vireo_wrap(AD, DP, n_donor=NUM_DONORS, n_GT=10,\n",
    "                          n_extra_donor=0, ASE_mode=True, fix_beta_sum=False,\n",
    "                          n_init=50, check_doublet=True, random_seed=1)"
   ]
  },
  {
   "cell_type": "code",
   "execution_count": 58,
   "metadata": {
    "ExecuteTime": {
     "end_time": "2021-01-16T00:05:12.684822Z",
     "start_time": "2021-01-16T00:05:12.675531Z"
    },
    "execution": {
     "iopub.execute_input": "2021-01-14T01:24:33.383044Z",
     "iopub.status.busy": "2021-01-14T01:24:33.382348Z",
     "iopub.status.idle": "2021-01-14T01:24:33.385192Z",
     "shell.execute_reply": "2021-01-14T01:24:33.385678Z"
    },
    "papermill": {
     "duration": 0.052555,
     "end_time": "2021-01-14T01:24:33.385815",
     "exception": false,
     "start_time": "2021-01-14T01:24:33.333260",
     "status": "completed"
    },
    "scrolled": true,
    "tags": []
   },
   "outputs": [
    {
     "data": {
      "text/plain": [
       "dict_keys(['ID_prob', 'GT_prob', 'doublet_prob', 'theta_shapes', 'theta_mean', 'theta_sum', 'LB_list', 'LB_doublet'])"
      ]
     },
     "execution_count": 58,
     "metadata": {},
     "output_type": "execute_result"
    }
   ],
   "source": [
    "res.keys()"
   ]
  },
  {
   "cell_type": "markdown",
   "metadata": {
    "papermill": {
     "duration": 0.044058,
     "end_time": "2021-01-14T01:24:33.474692",
     "exception": false,
     "start_time": "2021-01-14T01:24:33.430634",
     "status": "completed"
    },
    "tags": []
   },
   "source": [
    "##### The donor assignment probability"
   ]
  },
  {
   "cell_type": "code",
   "execution_count": 59,
   "metadata": {
    "ExecuteTime": {
     "end_time": "2021-01-16T00:05:14.756025Z",
     "start_time": "2021-01-16T00:05:14.749405Z"
    },
    "execution": {
     "iopub.execute_input": "2021-01-14T01:24:33.566184Z",
     "iopub.status.busy": "2021-01-14T01:24:33.565502Z",
     "iopub.status.idle": "2021-01-14T01:24:33.568801Z",
     "shell.execute_reply": "2021-01-14T01:24:33.568297Z"
    },
    "papermill": {
     "duration": 0.050534,
     "end_time": "2021-01-14T01:24:33.568921",
     "exception": false,
     "start_time": "2021-01-14T01:24:33.518387",
     "status": "completed"
    },
    "tags": []
   },
   "outputs": [
    {
     "data": {
      "text/plain": [
       "(1406, 2)"
      ]
     },
     "execution_count": 59,
     "metadata": {},
     "output_type": "execute_result"
    }
   ],
   "source": [
    "res[\"ID_prob\"].shape"
   ]
  },
  {
   "cell_type": "code",
   "execution_count": 60,
   "metadata": {
    "ExecuteTime": {
     "end_time": "2021-01-16T00:05:16.364717Z",
     "start_time": "2021-01-16T00:05:16.175417Z"
    },
    "execution": {
     "iopub.execute_input": "2021-01-14T01:24:33.672901Z",
     "iopub.status.busy": "2021-01-14T01:24:33.667174Z",
     "iopub.status.idle": "2021-01-14T01:24:33.863766Z",
     "shell.execute_reply": "2021-01-14T01:24:33.864243Z"
    },
    "papermill": {
     "duration": 0.250135,
     "end_time": "2021-01-14T01:24:33.864402",
     "exception": false,
     "start_time": "2021-01-14T01:24:33.614267",
     "status": "completed"
    },
    "scrolled": false,
    "tags": []
   },
   "outputs": [
    {
     "data": {
      "image/png": "[encoded data removed]",
      "text/plain": [
       "<Figure size 400x500 with 2 Axes>"
      ]
     },
     "metadata": {
      "needs_background": "light"
     },
     "output_type": "display_data"
    }
   ],
   "source": [
    "import matplotlib.pyplot as plt\n",
    "from vireoSNP.plot.base_plot import heat_matrix\n",
    "\n",
    "fig = plt.figure(figsize=(4, 5), dpi=100)\n",
    "# assign_prob_comb = res['ID_prob']\n",
    "assign_prob_comb = np.append(res['ID_prob'], \n",
    "                             np.sum(res['doublet_prob'], axis=1, \n",
    "                                    keepdims=True), axis=1)\n",
    "im = heat_matrix(assign_prob_comb,\n",
    "                 cmap=\"Oranges\", alpha=0.8,\n",
    "                 display_value=False, row_sort=False)\n",
    "plt.colorbar(im, fraction=0.046, pad=0.04)\n",
    "plt.title(\"cell assignment prob\")\n",
    "plt.xlabel(\"Donors\")\n",
    "plt.ylabel(\"%d cells\" %(res['ID_prob'].shape[0]))\n",
    "plt.yticks([])\n",
    "plt.xticks(np.arange(NUM_DONORS+1), np.append(np.arange(NUM_DONORS)+1,\"doublet\"))\n",
    "\n",
    "# plt.tight_layout()\n",
    "plt.show()"
   ]
  },
  {
   "cell_type": "code",
   "execution_count": 61,
   "metadata": {
    "ExecuteTime": {
     "end_time": "2021-01-16T00:05:20.593443Z",
     "start_time": "2021-01-16T00:05:20.415921Z"
    },
    "execution": {
     "iopub.execute_input": "2021-01-14T01:24:33.971499Z",
     "iopub.status.busy": "2021-01-14T01:24:33.970740Z",
     "iopub.status.idle": "2021-01-14T01:24:34.148634Z",
     "shell.execute_reply": "2021-01-14T01:24:34.149137Z"
    },
    "papermill": {
     "duration": 0.236363,
     "end_time": "2021-01-14T01:24:34.149287",
     "exception": false,
     "start_time": "2021-01-14T01:24:33.912924",
     "status": "completed"
    },
    "scrolled": false,
    "tags": []
   },
   "outputs": [
    {
     "data": {
      "image/png": "[encoded data removed]",
      "text/plain": [
       "<Figure size 400x500 with 2 Axes>"
      ]
     },
     "metadata": {
      "needs_background": "light"
     },
     "output_type": "display_data"
    }
   ],
   "source": [
    "import matplotlib.pyplot as plt\n",
    "from vireoSNP.plot.base_plot import heat_matrix\n",
    "\n",
    "fig = plt.figure(figsize=(4, 5), dpi=100)\n",
    "# assign_prob_comb = res['ID_prob']\n",
    "assign_prob_comb = np.append(res['ID_prob'], \n",
    "                             np.sum(res['doublet_prob'], axis=1, \n",
    "                                    keepdims=True), axis=1)\n",
    "im = heat_matrix(assign_prob_comb,\n",
    "                 cmap=\"Oranges\", alpha=0.8,\n",
    "                 display_value=False, row_sort=True)\n",
    "plt.colorbar(im, fraction=0.046, pad=0.04)\n",
    "plt.title(\"cell assignment prob\")\n",
    "plt.xlabel(\"Donors\")\n",
    "plt.ylabel(\"%d cells\" %(res['ID_prob'].shape[0]))\n",
    "plt.yticks([])\n",
    "plt.xticks(np.arange(NUM_DONORS+1), np.append(np.arange(NUM_DONORS)+1,\"doublet\"))\n",
    "\n",
    "# plt.tight_layout()\n",
    "plt.show()"
   ]
  },
  {
   "cell_type": "code",
   "execution_count": 62,
   "metadata": {
    "ExecuteTime": {
     "end_time": "2021-01-16T00:05:24.985991Z",
     "start_time": "2021-01-16T00:05:24.976629Z"
    },
    "execution": {
     "iopub.execute_input": "2021-01-14T01:24:34.362255Z",
     "iopub.status.busy": "2021-01-14T01:24:34.361624Z",
     "iopub.status.idle": "2021-01-14T01:24:34.366493Z",
     "shell.execute_reply": "2021-01-14T01:24:34.365967Z"
    },
    "papermill": {
     "duration": 0.058926,
     "end_time": "2021-01-14T01:24:34.366625",
     "exception": false,
     "start_time": "2021-01-14T01:24:34.307699",
     "status": "completed"
    },
    "tags": []
   },
   "outputs": [
    {
     "data": {
      "text/plain": [
       "(95, 1)"
      ]
     },
     "execution_count": 62,
     "metadata": {},
     "output_type": "execute_result"
    }
   ],
   "source": [
    "AD_dense = AD.todense()\n",
    "(AD_dense > 0).sum(axis=1).shape"
   ]
  },
  {
   "cell_type": "markdown",
   "metadata": {
    "papermill": {
     "duration": 0.052598,
     "end_time": "2021-01-14T01:24:34.701723",
     "exception": false,
     "start_time": "2021-01-14T01:24:34.649125",
     "status": "completed"
    },
    "tags": []
   },
   "source": [
    "## Compare cell IDs to known values"
   ]
  },
  {
   "cell_type": "code",
   "execution_count": 63,
   "metadata": {
    "ExecuteTime": {
     "end_time": "2021-01-16T00:05:26.468218Z",
     "start_time": "2021-01-16T00:05:26.462084Z"
    },
    "execution": {
     "iopub.execute_input": "2021-01-14T01:24:34.809313Z",
     "iopub.status.busy": "2021-01-14T01:24:34.808686Z",
     "iopub.status.idle": "2021-01-14T01:24:34.811040Z",
     "shell.execute_reply": "2021-01-14T01:24:34.811557Z"
    },
    "papermill": {
     "duration": 0.05884,
     "end_time": "2021-01-14T01:24:34.811701",
     "exception": false,
     "start_time": "2021-01-14T01:24:34.752861",
     "status": "completed"
    },
    "tags": []
   },
   "outputs": [],
   "source": [
    "## donor id with highest probability\n",
    "donor_ids_best = np.argmax(res['ID_prob'], axis=1)\n"
   ]
  },
  {
   "cell_type": "code",
   "execution_count": 64,
   "metadata": {
    "ExecuteTime": {
     "end_time": "2021-01-16T00:05:27.226165Z",
     "start_time": "2021-01-16T00:05:27.211793Z"
    },
    "execution": {
     "iopub.execute_input": "2021-01-14T01:24:34.923764Z",
     "iopub.status.busy": "2021-01-14T01:24:34.923137Z",
     "iopub.status.idle": "2021-01-14T01:24:34.926855Z",
     "shell.execute_reply": "2021-01-14T01:24:34.926308Z"
    },
    "papermill": {
     "duration": 0.062268,
     "end_time": "2021-01-14T01:24:34.926986",
     "exception": false,
     "start_time": "2021-01-14T01:24:34.864718",
     "status": "completed"
    },
    "tags": []
   },
   "outputs": [
    {
     "data": {
      "text/plain": [
       "{'data/chrM/PBMC_J_cellSNP_minC20_minAF0.01': array([  1,   2,   3,   4,   5,   6,   7,   8,   9,  10,  11,  12,  13,\n",
       "         14,  15,  16,  17,  18,  19,  20,  21,  22,  23,  24,  25,  26,\n",
       "         27,  28,  29,  30,  31,  32,  33,  34,  35,  36,  37,  38,  39,\n",
       "         40,  41,  42,  43,  44,  45,  46,  47,  48,  49,  50,  51,  52,\n",
       "         53,  54,  55,  56,  57,  58,  59,  60,  61,  62,  63,  64,  65,\n",
       "         66,  67,  68,  69,  70,  71,  72,  73,  74,  75,  76,  77,  78,\n",
       "         79,  80,  81,  82,  83,  84,  85,  86,  87,  88,  89,  90,  91,\n",
       "         92,  93,  94,  95,  96,  97,  98,  99, 100, 101, 102, 103, 104,\n",
       "        105, 106, 107, 108, 109, 110, 111, 112, 113, 114, 115, 116, 117,\n",
       "        118, 119, 120, 121, 122, 123, 124, 125, 126, 127, 128, 129, 130,\n",
       "        131, 132, 133, 134, 135, 136, 137, 138, 139, 140, 141, 142, 143,\n",
       "        144, 145, 146, 147, 148, 149, 150, 151, 152, 153, 154, 155, 156,\n",
       "        157, 158, 159, 160, 161, 162, 163, 164, 165, 166, 167, 168, 169,\n",
       "        170, 171, 172, 173, 174, 175, 176, 177, 178, 179, 180, 181, 182,\n",
       "        183, 184, 185, 186, 187, 188, 189, 190, 191, 192, 193, 194, 195,\n",
       "        196, 197, 198, 199, 200, 201, 202, 203, 204, 205, 206, 207, 208,\n",
       "        209, 210, 211, 212, 213, 214, 215, 216, 217, 218, 219, 220, 221,\n",
       "        222, 223, 224, 225, 226, 227, 228, 229, 230, 231, 232, 233, 234,\n",
       "        235, 236, 237, 238, 239, 240, 241, 242, 243, 244, 245, 246, 247,\n",
       "        248, 249, 250, 251, 252, 253, 254, 255, 256, 257, 258, 259, 260,\n",
       "        261, 262, 263, 264, 265, 266, 267, 268, 269, 270, 271, 272, 273,\n",
       "        274, 275, 276, 277, 278, 279, 280, 281, 282, 283, 284, 285, 286,\n",
       "        287, 288, 289, 290, 291, 292, 293, 294, 295, 296, 297, 298, 299,\n",
       "        300, 301, 302, 303, 304, 305, 306, 307, 308, 309, 310, 311, 312,\n",
       "        313, 314, 315, 316, 317, 318, 319, 320, 321, 322, 323, 324, 325,\n",
       "        326, 327, 328, 329, 330, 331, 332, 333, 334, 335, 336, 337, 338,\n",
       "        339, 340, 341, 342, 343, 344, 345, 346, 347, 348, 349, 350, 351,\n",
       "        352, 353, 354, 355, 356, 357, 358, 359, 360, 361, 362, 363, 364,\n",
       "        365, 366, 367, 368, 369, 370, 371, 372, 373, 374, 375, 376, 377,\n",
       "        378, 379, 380, 381, 382, 383, 384, 385, 386, 387, 388, 389, 390,\n",
       "        391, 392, 393, 394, 395, 396, 397, 398, 399, 400, 401, 402, 403,\n",
       "        404, 405, 406, 407, 408, 409, 410, 411, 412, 413, 414, 415, 416,\n",
       "        417, 418, 419, 420, 421, 422, 423, 424, 425, 426, 427, 428, 429,\n",
       "        430, 431, 432, 433, 434, 435, 436, 437, 438, 439, 440, 441, 442,\n",
       "        443, 444, 445, 446, 447, 448, 449, 450, 451, 452, 453, 454, 455,\n",
       "        456, 457, 458, 459, 460, 461, 462, 463, 464, 465, 466, 467, 468,\n",
       "        469, 470, 471, 472, 473, 474, 475, 476, 477, 478, 479, 480, 481,\n",
       "        482, 483, 484, 485, 486, 487, 488, 489, 490, 491, 492, 493, 494,\n",
       "        495, 496, 497, 498, 499, 500, 501, 502, 503, 504, 505, 506, 507,\n",
       "        508, 509, 510, 511, 512, 513, 514, 515, 516, 517, 518, 519, 520,\n",
       "        521, 522, 523, 524, 525, 526, 527, 528, 529, 530, 531, 532, 533,\n",
       "        534, 535, 536, 537, 538, 539, 540, 541, 542, 543, 544, 545, 546,\n",
       "        547, 548, 549, 550, 551, 552, 553, 554, 555, 556, 557, 558, 559,\n",
       "        560, 561, 562, 563, 564, 565, 566, 567, 568, 569, 570, 571, 572,\n",
       "        573, 574, 575, 576, 577, 578, 579, 580, 581, 582, 583, 584, 585,\n",
       "        586, 587, 588, 589, 590, 591, 592, 593, 594, 595, 596, 597, 598,\n",
       "        599, 600, 601, 602, 603, 604, 605, 606, 607, 608, 609, 610, 611,\n",
       "        612, 613, 614, 615, 616, 617, 618, 619, 620, 621, 622, 623, 624,\n",
       "        625, 626, 627, 628, 629, 630, 631, 632, 633, 634, 635, 636, 637,\n",
       "        638, 639, 640, 641, 642, 643, 644, 645, 646, 647, 648, 649, 650,\n",
       "        651, 652, 653, 654, 655, 656, 657, 658, 659, 660, 661, 662, 663,\n",
       "        664, 665, 666, 667, 668, 669, 670, 671, 672, 673, 674, 675, 676,\n",
       "        677, 678, 679, 680, 681, 682, 683, 684, 685, 686, 687, 688, 689,\n",
       "        690, 691, 692, 693, 694, 695, 696, 697, 698, 699, 700, 701, 702,\n",
       "        703, 704, 705, 706, 707, 708, 709, 710, 711, 712, 713, 714, 715,\n",
       "        716, 717, 718, 719, 720, 721, 722, 723, 724, 725, 726, 727, 728,\n",
       "        729, 730, 731, 732, 733, 734, 735, 736, 737, 738, 739, 740, 741,\n",
       "        742, 743]),\n",
       " 'data/chrM/PBMC_P_cellSNP_minC20_minAF0.01': array([ 744,  745,  746,  747,  748,  749,  750,  751,  752,  753,  754,\n",
       "         755,  756,  757,  758,  759,  760,  761,  762,  763,  764,  765,\n",
       "         766,  767,  768,  769,  770,  771,  772,  773,  774,  775,  776,\n",
       "         777,  778,  779,  780,  781,  782,  783,  784,  785,  786,  787,\n",
       "         788,  789,  790,  791,  792,  793,  794,  795,  796,  797,  798,\n",
       "         799,  800,  801,  802,  803,  804,  805,  806,  807,  808,  809,\n",
       "         810,  811,  812,  813,  814,  815,  816,  817,  818,  819,  820,\n",
       "         821,  822,  823,  824,  825,  826,  827,  828,  829,  830,  831,\n",
       "         832,  833,  834,  835,  836,  837,  838,  839,  840,  841,  842,\n",
       "         843,  844,  845,  846,  847,  848,  849,  850,  851,  852,  853,\n",
       "         854,  855,  856,  857,  858,  859,  860,  861,  862,  863,  864,\n",
       "         865,  866,  867,  868,  869,  870,  871,  872,  873,  874,  875,\n",
       "         876,  877,  878,  879,  880,  881,  882,  883,  884,  885,  886,\n",
       "         887,  888,  889,  890,  891,  892,  893,  894,  895,  896,  897,\n",
       "         898,  899,  900,  901,  902,  903,  904,  905,  906,  907,  908,\n",
       "         909,  910,  911,  912,  913,  914,  915,  916,  917,  918,  919,\n",
       "         920,  921,  922,  923,  924,  925,  926,  927,  928,  929,  930,\n",
       "         931,  932,  933,  934,  935,  936,  937,  938,  939,  940,  941,\n",
       "         942,  943,  944,  945,  946,  947,  948,  949,  950,  951,  952,\n",
       "         953,  954,  955,  956,  957,  958,  959,  960,  961,  962,  963,\n",
       "         964,  965,  966,  967,  968,  969,  970,  971,  972,  973,  974,\n",
       "         975,  976,  977,  978,  979,  980,  981,  982,  983,  984,  985,\n",
       "         986,  987,  988,  989,  990,  991,  992,  993,  994,  995,  996,\n",
       "         997,  998,  999, 1000, 1001, 1002, 1003, 1004, 1005, 1006, 1007,\n",
       "        1008, 1009, 1010, 1011, 1012, 1013, 1014, 1015, 1016, 1017, 1018,\n",
       "        1019, 1020, 1021, 1022, 1023, 1024, 1025, 1026, 1027, 1028, 1029,\n",
       "        1030, 1031, 1032, 1033, 1034, 1035, 1036, 1037, 1038, 1039, 1040,\n",
       "        1041, 1042, 1043, 1044, 1045, 1046, 1047, 1048, 1049, 1050, 1051,\n",
       "        1052, 1053, 1054, 1055, 1056, 1057, 1058, 1059, 1060, 1061, 1062,\n",
       "        1063, 1064, 1065, 1066, 1067, 1068, 1069, 1070, 1071, 1072, 1073,\n",
       "        1074, 1075, 1076, 1077, 1078, 1079, 1080, 1081, 1082, 1083, 1084,\n",
       "        1085, 1086, 1087, 1088, 1089, 1090, 1091, 1092, 1093, 1094, 1095,\n",
       "        1096, 1097, 1098, 1099, 1100, 1101, 1102, 1103, 1104, 1105, 1106,\n",
       "        1107, 1108, 1109, 1110, 1111, 1112, 1113, 1114, 1115, 1116, 1117,\n",
       "        1118, 1119, 1120, 1121, 1122, 1123, 1124, 1125, 1126, 1127, 1128,\n",
       "        1129, 1130, 1131, 1132, 1133, 1134, 1135, 1136, 1137, 1138, 1139,\n",
       "        1140, 1141, 1142, 1143, 1144, 1145, 1146, 1147, 1148, 1149, 1150,\n",
       "        1151, 1152, 1153, 1154, 1155, 1156, 1157, 1158, 1159, 1160, 1161,\n",
       "        1162, 1163, 1164, 1165, 1166, 1167, 1168, 1169, 1170, 1171, 1172,\n",
       "        1173, 1174, 1175, 1176, 1177, 1178, 1179, 1180, 1181, 1182, 1183,\n",
       "        1184, 1185, 1186, 1187, 1188, 1189, 1190, 1191, 1192, 1193, 1194,\n",
       "        1195, 1196, 1197, 1198, 1199, 1200, 1201, 1202, 1203, 1204, 1205,\n",
       "        1206, 1207, 1208, 1209, 1210, 1211, 1212, 1213, 1214, 1215, 1216,\n",
       "        1217, 1218, 1219, 1220, 1221, 1222, 1223, 1224, 1225, 1226, 1227,\n",
       "        1228, 1229, 1230, 1231, 1232, 1233, 1234, 1235, 1236, 1237, 1238,\n",
       "        1239, 1240, 1241, 1242, 1243, 1244, 1245, 1246, 1247, 1248, 1249,\n",
       "        1250, 1251, 1252, 1253, 1254, 1255, 1256, 1257, 1258, 1259, 1260,\n",
       "        1261, 1262, 1263, 1264, 1265, 1266, 1267, 1268, 1269, 1270, 1271,\n",
       "        1272, 1273, 1274, 1275, 1276, 1277, 1278, 1279, 1280, 1281, 1282,\n",
       "        1283, 1284, 1285, 1286, 1287, 1288, 1289, 1290, 1291, 1292, 1293,\n",
       "        1294, 1295, 1296, 1297, 1298, 1299, 1300, 1301, 1302, 1303, 1304,\n",
       "        1305, 1306, 1307, 1308, 1309, 1310, 1311, 1312, 1313, 1314, 1315,\n",
       "        1316, 1317, 1318, 1319, 1320, 1321, 1322, 1323, 1324, 1325, 1326,\n",
       "        1327, 1328, 1329, 1330, 1331, 1332, 1333, 1334, 1335, 1336, 1337,\n",
       "        1338, 1339, 1340, 1341, 1342, 1343, 1344, 1345, 1346, 1347, 1348,\n",
       "        1349, 1350, 1351, 1352, 1353, 1354, 1355, 1356, 1357, 1358, 1359,\n",
       "        1360, 1361, 1362, 1363, 1364, 1365, 1366, 1367, 1368, 1369, 1370,\n",
       "        1371, 1372, 1373, 1374, 1375, 1376, 1377, 1378, 1379, 1380, 1381,\n",
       "        1382, 1383, 1384, 1385, 1386, 1387, 1388, 1389, 1390, 1391, 1392,\n",
       "        1393, 1394, 1395, 1396, 1397, 1398, 1399, 1400, 1401, 1402, 1403,\n",
       "        1404, 1405, 1406])}"
      ]
     },
     "execution_count": 64,
     "metadata": {},
     "output_type": "execute_result"
    }
   ],
   "source": [
    "cell_map"
   ]
  },
  {
   "cell_type": "code",
   "execution_count": 65,
   "metadata": {
    "ExecuteTime": {
     "end_time": "2021-01-16T00:05:28.211214Z",
     "start_time": "2021-01-16T00:05:28.200436Z"
    },
    "execution": {
     "iopub.execute_input": "2021-01-14T01:24:35.040506Z",
     "iopub.status.busy": "2021-01-14T01:24:35.039810Z",
     "iopub.status.idle": "2021-01-14T01:24:35.042637Z",
     "shell.execute_reply": "2021-01-14T01:24:35.043164Z"
    },
    "papermill": {
     "duration": 0.06333,
     "end_time": "2021-01-14T01:24:35.043306",
     "exception": false,
     "start_time": "2021-01-14T01:24:34.979976",
     "status": "completed"
    },
    "scrolled": false,
    "tags": []
   },
   "outputs": [
    {
     "data": {
      "text/plain": [
       "array([0., 0., 0., ..., 1., 1., 1.])"
      ]
     },
     "execution_count": 65,
     "metadata": {},
     "output_type": "execute_result"
    }
   ],
   "source": [
    "max_v = 0\n",
    "for i in in_cell_names:\n",
    "    max_v = max(max_v, max(cell_map[i]))\n",
    "    \n",
    "# create index map:\n",
    "cell_ind_map = {}\n",
    "count = 0\n",
    "for i in in_cell_names: \n",
    "    cell_ind_map[i] = count\n",
    "    count += 1\n",
    "\n",
    "cell_inds = -1*np.ones(max_v)\n",
    "for i in in_cell_names:\n",
    "    cell_inds[cell_map[i]-1] = cell_ind_map[i] #cell_map[i]\n",
    "cell_inds"
   ]
  },
  {
   "cell_type": "code",
   "execution_count": 66,
   "metadata": {
    "ExecuteTime": {
     "end_time": "2021-01-16T00:05:30.104611Z",
     "start_time": "2021-01-16T00:05:29.327591Z"
    },
    "execution": {
     "iopub.execute_input": "2021-01-14T01:24:35.159836Z",
     "iopub.status.busy": "2021-01-14T01:24:35.158302Z",
     "iopub.status.idle": "2021-01-14T01:24:35.955066Z",
     "shell.execute_reply": "2021-01-14T01:24:35.955562Z"
    },
    "papermill": {
     "duration": 0.860062,
     "end_time": "2021-01-14T01:24:35.955729",
     "exception": false,
     "start_time": "2021-01-14T01:24:35.095667",
     "status": "completed"
    },
    "scrolled": false,
    "tags": []
   },
   "outputs": [
    {
     "data": {
      "image/png": "[encoded data removed]",
      "text/plain": [
       "<Figure size 720x720 with 5 Axes>"
      ]
     },
     "metadata": {
      "needs_background": "light"
     },
     "output_type": "display_data"
    }
   ],
   "source": [
    "colors = {0:\"blue\", 1:\"red\"}\n",
    "cell_colors = [colors[x] for x in cell_inds]\n",
    "cell_colors = pd.Series(cell_colors, name=\"sample ID\")\n",
    "g = sns.clustermap(data=pd.DataFrame(assign_prob_comb, columns=[f\"AF {x+1}\" for x in np.arange(assign_prob_comb.shape[1]-1)]+[\"doublet\"]), row_cluster=False, col_cluster=False,\n",
    "              row_colors=cell_colors)\n",
    "#plt.ylabel(\"Cell\")\n",
    "#plt.xlabel(\"Predicted Genotype Cluster\")\n",
    "g.fig.suptitle(\"Probability of being in cluster\\nColors on left is sample ID\")\n",
    "g.ax_heatmap.set_xlabel(\"Predicted Genotype Cluster\")\n",
    "g.ax_heatmap.set_ylabel(\"Cell\")\n",
    "\n",
    "plt.savefig(\"pseudo_multiplex_with_cellIDs.png\")"
   ]
  },
  {
   "cell_type": "code",
   "execution_count": null,
   "metadata": {
    "papermill": {
     "duration": 0.056281,
     "end_time": "2021-01-14T01:24:36.137418",
     "exception": false,
     "start_time": "2021-01-14T01:24:36.081137",
     "status": "completed"
    },
    "tags": []
   },
   "outputs": [],
   "source": []
  },
  {
   "cell_type": "code",
   "execution_count": 67,
   "metadata": {
    "ExecuteTime": {
     "end_time": "2021-01-16T00:05:33.539005Z",
     "start_time": "2021-01-16T00:05:32.737237Z"
    },
    "execution": {
     "iopub.execute_input": "2021-01-14T01:24:36.258704Z",
     "iopub.status.busy": "2021-01-14T01:24:36.256831Z",
     "iopub.status.idle": "2021-01-14T01:24:37.085276Z",
     "shell.execute_reply": "2021-01-14T01:24:37.085752Z"
    },
    "papermill": {
     "duration": 0.891948,
     "end_time": "2021-01-14T01:24:37.085931",
     "exception": false,
     "start_time": "2021-01-14T01:24:36.193983",
     "status": "completed"
    },
    "scrolled": false,
    "tags": []
   },
   "outputs": [
    {
     "data": {
      "text/plain": [
       "<seaborn.matrix.ClusterGrid at 0x7f292cc69cf8>"
      ]
     },
     "execution_count": 67,
     "metadata": {},
     "output_type": "execute_result"
    },
    {
     "data": {
      "image/png": "[encoded data removed]",
      "text/plain": [
       "<Figure size 720x720 with 5 Axes>"
      ]
     },
     "metadata": {
      "needs_background": "light"
     },
     "output_type": "display_data"
    }
   ],
   "source": [
    "colors = {0:\"blue\", 1:\"red\"}\n",
    "cell_colors = [colors[x] for x in cell_inds]\n",
    "\n",
    "sns.clustermap(data=assign_prob_comb, row_cluster=True, col_cluster=False,\n",
    "              row_colors=cell_colors)"
   ]
  },
  {
   "cell_type": "code",
   "execution_count": 68,
   "metadata": {
    "ExecuteTime": {
     "end_time": "2021-01-16T00:06:01.365864Z",
     "start_time": "2021-01-16T00:06:01.351744Z"
    },
    "execution": {
     "iopub.execute_input": "2021-01-14T01:24:37.207366Z",
     "iopub.status.busy": "2021-01-14T01:24:37.206730Z",
     "iopub.status.idle": "2021-01-14T01:24:37.286764Z",
     "shell.execute_reply": "2021-01-14T01:24:37.287296Z"
    },
    "papermill": {
     "duration": 0.143413,
     "end_time": "2021-01-14T01:24:37.287481",
     "exception": false,
     "start_time": "2021-01-14T01:24:37.144068",
     "status": "completed"
    },
    "tags": []
   },
   "outputs": [
    {
     "data": {
      "text/plain": [
       "(358, 385, 630, 33)"
      ]
     },
     "execution_count": 68,
     "metadata": {},
     "output_type": "execute_result"
    }
   ],
   "source": [
    "from sklearn.metrics import confusion_matrix\n",
    "\n",
    "tn, fp, fn, tp = confusion_matrix(cell_inds, donor_ids_best).ravel()\n",
    "(tn, fp, fn, tp)"
   ]
  },
  {
   "cell_type": "markdown",
   "metadata": {
    "papermill": {
     "duration": 0.059264,
     "end_time": "2021-01-14T01:24:37.406237",
     "exception": false,
     "start_time": "2021-01-14T01:24:37.346973",
     "status": "completed"
    },
    "tags": []
   },
   "source": [
    "### Assignment probability threshold"
   ]
  },
  {
   "cell_type": "code",
   "execution_count": 69,
   "metadata": {
    "ExecuteTime": {
     "end_time": "2021-01-16T00:06:06.224037Z",
     "start_time": "2021-01-16T00:06:06.202810Z"
    },
    "execution": {
     "iopub.execute_input": "2021-01-14T01:24:37.538904Z",
     "iopub.status.busy": "2021-01-14T01:24:37.533337Z",
     "iopub.status.idle": "2021-01-14T01:24:37.542373Z",
     "shell.execute_reply": "2021-01-14T01:24:37.541840Z"
    },
    "papermill": {
     "duration": 0.078022,
     "end_time": "2021-01-14T01:24:37.542499",
     "exception": false,
     "start_time": "2021-01-14T01:24:37.464477",
     "status": "completed"
    },
    "tags": []
   },
   "outputs": [
    {
     "name": "stdout",
     "output_type": "stream",
     "text": [
      "20 cells are called doublet\n",
      "572 cells are unassigned to singlet or doublets\n"
     ]
    }
   ],
   "source": [
    "## doublet rate\n",
    "\n",
    "doublet_threshold = 0.9\n",
    "is_doublet = np.sum(res['doublet_prob'], axis=1) > doublet_threshold\n",
    "print(\"%d cells are called doublet\" %(sum(is_doublet)))\n",
    "\n",
    "prob_threshold = prob_threshold #0.9\n",
    "is_unassigned = (np.max(res['ID_prob'], axis=1) < prob_threshold) & (~is_doublet)\n",
    "print(\"%d cells are unassigned to singlet or doublets\" %(sum(is_unassigned)))"
   ]
  },
  {
   "cell_type": "markdown",
   "metadata": {
    "papermill": {
     "duration": 0.058913,
     "end_time": "2021-01-14T01:24:37.659719",
     "exception": false,
     "start_time": "2021-01-14T01:24:37.600806",
     "status": "completed"
    },
    "tags": []
   },
   "source": [
    "### Allelic ratio per variant per donor"
   ]
  },
  {
   "cell_type": "code",
   "execution_count": 70,
   "metadata": {
    "ExecuteTime": {
     "end_time": "2021-01-16T00:06:12.170418Z",
     "start_time": "2021-01-16T00:06:12.163752Z"
    },
    "execution": {
     "iopub.execute_input": "2021-01-14T01:24:37.818573Z",
     "iopub.status.busy": "2021-01-14T01:24:37.817941Z",
     "iopub.status.idle": "2021-01-14T01:24:37.820043Z",
     "shell.execute_reply": "2021-01-14T01:24:37.820558Z"
    },
    "papermill": {
     "duration": 0.100963,
     "end_time": "2021-01-14T01:24:37.820711",
     "exception": false,
     "start_time": "2021-01-14T01:24:37.719748",
     "status": "completed"
    },
    "tags": []
   },
   "outputs": [],
   "source": [
    "## If ASE_mode is False\n",
    "AF_SNPs = np.tensordot(res['GT_prob'], res['theta_mean'][0, :], axes=[2, 0])"
   ]
  },
  {
   "cell_type": "markdown",
   "metadata": {
    "papermill": {
     "duration": 0.058995,
     "end_time": "2021-01-14T01:24:37.938969",
     "exception": false,
     "start_time": "2021-01-14T01:24:37.879974",
     "status": "completed"
    },
    "tags": []
   },
   "source": [
    "## Get the top averaged SNP AF , print out the AD counts in each sample and get the vcf"
   ]
  },
  {
   "cell_type": "code",
   "execution_count": 71,
   "metadata": {
    "ExecuteTime": {
     "end_time": "2021-01-16T00:06:13.274430Z",
     "start_time": "2021-01-16T00:06:12.989372Z"
    },
    "execution": {
     "iopub.execute_input": "2021-01-14T01:24:38.074713Z",
     "iopub.status.busy": "2021-01-14T01:24:38.073811Z",
     "iopub.status.idle": "2021-01-14T01:24:38.339635Z",
     "shell.execute_reply": "2021-01-14T01:24:38.340111Z"
    },
    "papermill": {
     "duration": 0.342135,
     "end_time": "2021-01-14T01:24:38.340276",
     "exception": false,
     "start_time": "2021-01-14T01:24:37.998141",
     "status": "completed"
    },
    "scrolled": false,
    "tags": []
   },
   "outputs": [
    {
     "data": {
      "image/png": "[encoded data removed]",
      "text/plain": [
       "<Figure size 400x500 with 2 Axes>"
      ]
     },
     "metadata": {
      "needs_background": "light"
     },
     "output_type": "display_data"
    }
   ],
   "source": [
    "import matplotlib.pyplot as plt\n",
    "%matplotlib inline\n",
    "from vireoSNP.plot.base_plot import heat_matrix\n",
    "\n",
    "fig = plt.figure(figsize=(4, 5), dpi=100)\n",
    "im = heat_matrix(AF_SNPs, cmap=\"GnBu\", alpha=0.8,\n",
    "                 display_value=False, row_sort=True)\n",
    "plt.colorbar(im, fraction=0.046, pad=0.04)\n",
    "plt.title(\"Mean allelic ratio\")\n",
    "plt.xlabel(\"Donors\")\n",
    "plt.ylabel(\"%d SNPs\" %(AF_SNPs.shape[0]))\n",
    "plt.yticks([])\n",
    "plt.xticks(np.arange(AF_SNPs.shape[1]))\n",
    "\n",
    "plt.tight_layout()\n",
    "#plt.show()\n",
    "plt.savefig(\"Allele_Clusters.png\")"
   ]
  },
  {
   "cell_type": "code",
   "execution_count": 72,
   "metadata": {
    "ExecuteTime": {
     "end_time": "2021-01-16T00:06:18.133322Z",
     "start_time": "2021-01-16T00:06:18.089255Z"
    },
    "execution": {
     "iopub.execute_input": "2021-01-14T01:24:38.499430Z",
     "iopub.status.busy": "2021-01-14T01:24:38.468577Z",
     "iopub.status.idle": "2021-01-14T01:24:38.503216Z",
     "shell.execute_reply": "2021-01-14T01:24:38.502656Z"
    },
    "papermill": {
     "duration": 0.103993,
     "end_time": "2021-01-14T01:24:38.503345",
     "exception": false,
     "start_time": "2021-01-14T01:24:38.399352",
     "status": "completed"
    },
    "scrolled": true,
    "tags": []
   },
   "outputs": [
    {
     "data": {
      "text/html": [
       "<div>\n",
       "<style scoped>\n",
       "    .dataframe tbody tr th:only-of-type {\n",
       "        vertical-align: middle;\n",
       "    }\n",
       "\n",
       "    .dataframe tbody tr th {\n",
       "        vertical-align: top;\n",
       "    }\n",
       "\n",
       "    .dataframe thead th {\n",
       "        text-align: right;\n",
       "    }\n",
       "</style>\n",
       "<table border=\"1\" class=\"dataframe\">\n",
       "  <thead>\n",
       "    <tr style=\"text-align: right;\">\n",
       "      <th></th>\n",
       "      <th>#CHROM</th>\n",
       "      <th>POS</th>\n",
       "      <th>ID_x</th>\n",
       "      <th>REF_x</th>\n",
       "      <th>ALT</th>\n",
       "      <th>QUAL_x</th>\n",
       "      <th>FILTER_x</th>\n",
       "      <th>INFO_x</th>\n",
       "      <th>old data/chrM/PBMC_J_cellSNP_minC20_minAF0.01</th>\n",
       "      <th>ID_y</th>\n",
       "      <th>REF_y</th>\n",
       "      <th>QUAL_y</th>\n",
       "      <th>FILTER_y</th>\n",
       "      <th>INFO_y</th>\n",
       "      <th>old data/chrM/PBMC_P_cellSNP_minC20_minAF0.01</th>\n",
       "      <th>new ID</th>\n",
       "      <th>AF 0</th>\n",
       "      <th>AF 1</th>\n",
       "    </tr>\n",
       "  </thead>\n",
       "  <tbody>\n",
       "    <tr>\n",
       "      <th>93</th>\n",
       "      <td>chrM</td>\n",
       "      <td>14883</td>\n",
       "      <td>NaN</td>\n",
       "      <td>NaN</td>\n",
       "      <td>T</td>\n",
       "      <td>NaN</td>\n",
       "      <td>NaN</td>\n",
       "      <td>NaN</td>\n",
       "      <td>NaN</td>\n",
       "      <td>.</td>\n",
       "      <td>C</td>\n",
       "      <td>.</td>\n",
       "      <td>PASS</td>\n",
       "      <td>AD=20753;DP=567485;OTH=741</td>\n",
       "      <td>78.0</td>\n",
       "      <td>94</td>\n",
       "      <td>0.015186</td>\n",
       "      <td>0.772222</td>\n",
       "    </tr>\n",
       "    <tr>\n",
       "      <th>23</th>\n",
       "      <td>chrM</td>\n",
       "      <td>3106</td>\n",
       "      <td>.</td>\n",
       "      <td>A</td>\n",
       "      <td>C</td>\n",
       "      <td>.</td>\n",
       "      <td>PASS</td>\n",
       "      <td>AD=7473;DP=17384;OTH=383</td>\n",
       "      <td>24.0</td>\n",
       "      <td>.</td>\n",
       "      <td>A</td>\n",
       "      <td>.</td>\n",
       "      <td>PASS</td>\n",
       "      <td>AD=12400;DP=29602;OTH=778</td>\n",
       "      <td>22.0</td>\n",
       "      <td>24</td>\n",
       "      <td>0.445556</td>\n",
       "      <td>0.445556</td>\n",
       "    </tr>\n",
       "    <tr>\n",
       "      <th>82</th>\n",
       "      <td>chrM</td>\n",
       "      <td>310</td>\n",
       "      <td>NaN</td>\n",
       "      <td>NaN</td>\n",
       "      <td>C</td>\n",
       "      <td>NaN</td>\n",
       "      <td>NaN</td>\n",
       "      <td>NaN</td>\n",
       "      <td>NaN</td>\n",
       "      <td>.</td>\n",
       "      <td>T</td>\n",
       "      <td>.</td>\n",
       "      <td>PASS</td>\n",
       "      <td>AD=73817;DP=264628;OTH=15841</td>\n",
       "      <td>4.0</td>\n",
       "      <td>83</td>\n",
       "      <td>0.336667</td>\n",
       "      <td>0.336667</td>\n",
       "    </tr>\n",
       "    <tr>\n",
       "      <th>27</th>\n",
       "      <td>chrM</td>\n",
       "      <td>3578</td>\n",
       "      <td>.</td>\n",
       "      <td>T</td>\n",
       "      <td>A</td>\n",
       "      <td>.</td>\n",
       "      <td>PASS</td>\n",
       "      <td>AD=41379;DP=243862;OTH=7084</td>\n",
       "      <td>28.0</td>\n",
       "      <td>.</td>\n",
       "      <td>T</td>\n",
       "      <td>.</td>\n",
       "      <td>PASS</td>\n",
       "      <td>AD=80370;DP=476630;OTH=11626</td>\n",
       "      <td>26.0</td>\n",
       "      <td>28</td>\n",
       "      <td>0.227778</td>\n",
       "      <td>0.227778</td>\n",
       "    </tr>\n",
       "    <tr>\n",
       "      <th>42</th>\n",
       "      <td>chrM</td>\n",
       "      <td>7461</td>\n",
       "      <td>.</td>\n",
       "      <td>T</td>\n",
       "      <td>C</td>\n",
       "      <td>.</td>\n",
       "      <td>PASS</td>\n",
       "      <td>AD=9122;DP=239350;OTH=4449</td>\n",
       "      <td>43.0</td>\n",
       "      <td>.</td>\n",
       "      <td>T</td>\n",
       "      <td>.</td>\n",
       "      <td>PASS</td>\n",
       "      <td>AD=17069;DP=468602;OTH=8916</td>\n",
       "      <td>40.0</td>\n",
       "      <td>43</td>\n",
       "      <td>0.118889</td>\n",
       "      <td>0.118889</td>\n",
       "    </tr>\n",
       "    <tr>\n",
       "      <th>...</th>\n",
       "      <td>...</td>\n",
       "      <td>...</td>\n",
       "      <td>...</td>\n",
       "      <td>...</td>\n",
       "      <td>...</td>\n",
       "      <td>...</td>\n",
       "      <td>...</td>\n",
       "      <td>...</td>\n",
       "      <td>...</td>\n",
       "      <td>...</td>\n",
       "      <td>...</td>\n",
       "      <td>...</td>\n",
       "      <td>...</td>\n",
       "      <td>...</td>\n",
       "      <td>...</td>\n",
       "      <td>...</td>\n",
       "      <td>...</td>\n",
       "      <td>...</td>\n",
       "    </tr>\n",
       "    <tr>\n",
       "      <th>62</th>\n",
       "      <td>chrM</td>\n",
       "      <td>10983</td>\n",
       "      <td>.</td>\n",
       "      <td>T</td>\n",
       "      <td>G</td>\n",
       "      <td>.</td>\n",
       "      <td>PASS</td>\n",
       "      <td>AD=2735;DP=248984;OTH=2339</td>\n",
       "      <td>63.0</td>\n",
       "      <td>.</td>\n",
       "      <td>T</td>\n",
       "      <td>.</td>\n",
       "      <td>PASS</td>\n",
       "      <td>AD=5106;DP=474280;OTH=4305</td>\n",
       "      <td>59.0</td>\n",
       "      <td>63</td>\n",
       "      <td>0.015186</td>\n",
       "      <td>0.015186</td>\n",
       "    </tr>\n",
       "    <tr>\n",
       "      <th>63</th>\n",
       "      <td>chrM</td>\n",
       "      <td>11838</td>\n",
       "      <td>.</td>\n",
       "      <td>T</td>\n",
       "      <td>A</td>\n",
       "      <td>.</td>\n",
       "      <td>PASS</td>\n",
       "      <td>AD=3658;DP=303656;OTH=193</td>\n",
       "      <td>64.0</td>\n",
       "      <td>.</td>\n",
       "      <td>T</td>\n",
       "      <td>.</td>\n",
       "      <td>PASS</td>\n",
       "      <td>AD=9312;DP=576936;OTH=373</td>\n",
       "      <td>60.0</td>\n",
       "      <td>64</td>\n",
       "      <td>0.015186</td>\n",
       "      <td>0.015186</td>\n",
       "    </tr>\n",
       "    <tr>\n",
       "      <th>64</th>\n",
       "      <td>chrM</td>\n",
       "      <td>13447</td>\n",
       "      <td>.</td>\n",
       "      <td>A</td>\n",
       "      <td>G</td>\n",
       "      <td>.</td>\n",
       "      <td>PASS</td>\n",
       "      <td>AD=4971;DP=260022;OTH=1347</td>\n",
       "      <td>65.0</td>\n",
       "      <td>.</td>\n",
       "      <td>A</td>\n",
       "      <td>.</td>\n",
       "      <td>PASS</td>\n",
       "      <td>AD=13481;DP=514192;OTH=3408</td>\n",
       "      <td>65.0</td>\n",
       "      <td>65</td>\n",
       "      <td>0.015186</td>\n",
       "      <td>0.015186</td>\n",
       "    </tr>\n",
       "    <tr>\n",
       "      <th>68</th>\n",
       "      <td>chrM</td>\n",
       "      <td>13769</td>\n",
       "      <td>.</td>\n",
       "      <td>T</td>\n",
       "      <td>G</td>\n",
       "      <td>.</td>\n",
       "      <td>PASS</td>\n",
       "      <td>AD=5308;DP=215839;OTH=716</td>\n",
       "      <td>69.0</td>\n",
       "      <td>.</td>\n",
       "      <td>T</td>\n",
       "      <td>.</td>\n",
       "      <td>PASS</td>\n",
       "      <td>AD=10489;DP=433210;OTH=1397</td>\n",
       "      <td>69.0</td>\n",
       "      <td>69</td>\n",
       "      <td>0.015186</td>\n",
       "      <td>0.015186</td>\n",
       "    </tr>\n",
       "    <tr>\n",
       "      <th>0</th>\n",
       "      <td>chrM</td>\n",
       "      <td>297</td>\n",
       "      <td>.</td>\n",
       "      <td>A</td>\n",
       "      <td>C</td>\n",
       "      <td>.</td>\n",
       "      <td>PASS</td>\n",
       "      <td>AD=1999;DP=131616;OTH=497</td>\n",
       "      <td>1.0</td>\n",
       "      <td>NaN</td>\n",
       "      <td>NaN</td>\n",
       "      <td>NaN</td>\n",
       "      <td>NaN</td>\n",
       "      <td>NaN</td>\n",
       "      <td>NaN</td>\n",
       "      <td>1</td>\n",
       "      <td>0.015186</td>\n",
       "      <td>0.015186</td>\n",
       "    </tr>\n",
       "  </tbody>\n",
       "</table>\n",
       "<p>95 rows × 18 columns</p>\n",
       "</div>"
      ],
      "text/plain": [
       "   #CHROM    POS ID_x REF_x ALT QUAL_x FILTER_x                       INFO_x  \\\n",
       "93   chrM  14883  NaN   NaN   T    NaN      NaN                          NaN   \n",
       "23   chrM   3106    .     A   C      .     PASS     AD=7473;DP=17384;OTH=383   \n",
       "82   chrM    310  NaN   NaN   C    NaN      NaN                          NaN   \n",
       "27   chrM   3578    .     T   A      .     PASS  AD=41379;DP=243862;OTH=7084   \n",
       "42   chrM   7461    .     T   C      .     PASS   AD=9122;DP=239350;OTH=4449   \n",
       "..    ...    ...  ...   ...  ..    ...      ...                          ...   \n",
       "62   chrM  10983    .     T   G      .     PASS   AD=2735;DP=248984;OTH=2339   \n",
       "63   chrM  11838    .     T   A      .     PASS    AD=3658;DP=303656;OTH=193   \n",
       "64   chrM  13447    .     A   G      .     PASS   AD=4971;DP=260022;OTH=1347   \n",
       "68   chrM  13769    .     T   G      .     PASS    AD=5308;DP=215839;OTH=716   \n",
       "0    chrM    297    .     A   C      .     PASS    AD=1999;DP=131616;OTH=497   \n",
       "\n",
       "    old data/chrM/PBMC_J_cellSNP_minC20_minAF0.01 ID_y REF_y QUAL_y FILTER_y  \\\n",
       "93                                            NaN    .     C      .     PASS   \n",
       "23                                           24.0    .     A      .     PASS   \n",
       "82                                            NaN    .     T      .     PASS   \n",
       "27                                           28.0    .     T      .     PASS   \n",
       "42                                           43.0    .     T      .     PASS   \n",
       "..                                            ...  ...   ...    ...      ...   \n",
       "62                                           63.0    .     T      .     PASS   \n",
       "63                                           64.0    .     T      .     PASS   \n",
       "64                                           65.0    .     A      .     PASS   \n",
       "68                                           69.0    .     T      .     PASS   \n",
       "0                                             1.0  NaN   NaN    NaN      NaN   \n",
       "\n",
       "                          INFO_y  \\\n",
       "93    AD=20753;DP=567485;OTH=741   \n",
       "23     AD=12400;DP=29602;OTH=778   \n",
       "82  AD=73817;DP=264628;OTH=15841   \n",
       "27  AD=80370;DP=476630;OTH=11626   \n",
       "42   AD=17069;DP=468602;OTH=8916   \n",
       "..                           ...   \n",
       "62    AD=5106;DP=474280;OTH=4305   \n",
       "63     AD=9312;DP=576936;OTH=373   \n",
       "64   AD=13481;DP=514192;OTH=3408   \n",
       "68   AD=10489;DP=433210;OTH=1397   \n",
       "0                            NaN   \n",
       "\n",
       "    old data/chrM/PBMC_P_cellSNP_minC20_minAF0.01  new ID      AF 0      AF 1  \n",
       "93                                           78.0      94  0.015186  0.772222  \n",
       "23                                           22.0      24  0.445556  0.445556  \n",
       "82                                            4.0      83  0.336667  0.336667  \n",
       "27                                           26.0      28  0.227778  0.227778  \n",
       "42                                           40.0      43  0.118889  0.118889  \n",
       "..                                            ...     ...       ...       ...  \n",
       "62                                           59.0      63  0.015186  0.015186  \n",
       "63                                           60.0      64  0.015186  0.015186  \n",
       "64                                           65.0      65  0.015186  0.015186  \n",
       "68                                           69.0      69  0.015186  0.015186  \n",
       "0                                             NaN       1  0.015186  0.015186  \n",
       "\n",
       "[95 rows x 18 columns]"
      ]
     },
     "execution_count": 72,
     "metadata": {},
     "output_type": "execute_result"
    }
   ],
   "source": [
    "for ind, val in enumerate(in_cell_names):\n",
    "    vcf[\"AF \" + str(ind)] = AF_SNPs[:, ind]\n",
    "#vcf.iloc[ind.argsort()[::-1]].head(100)\n",
    "vcf.iloc[vcf[\"AF \" + str(ind)].argsort()[::-1].values]\n",
    "\n",
    "sns.regplot(data=vcf, x =\"AF 0\" , y=\"AF 1\")"
   ]
  },
  {
   "cell_type": "code",
   "execution_count": 74,
   "metadata": {
    "ExecuteTime": {
     "end_time": "2021-01-16T00:06:26.514325Z",
     "start_time": "2021-01-16T00:06:25.340707Z"
    },
    "execution": {
     "iopub.execute_input": "2021-01-14T01:24:39.143677Z",
     "iopub.status.busy": "2021-01-14T01:24:39.141530Z",
     "iopub.status.idle": "2021-01-14T01:24:40.191944Z",
     "shell.execute_reply": "2021-01-14T01:24:40.192421Z"
    },
    "papermill": {
     "duration": 1.121688,
     "end_time": "2021-01-14T01:24:40.192589",
     "exception": false,
     "start_time": "2021-01-14T01:24:39.070901",
     "status": "completed"
    },
    "tags": []
   },
   "outputs": [
    {
     "data": {
      "text/plain": [
       "<seaborn.axisgrid.PairGrid at 0x7f293079a8d0>"
      ]
     },
     "execution_count": 74,
     "metadata": {},
     "output_type": "execute_result"
    },
    {
     "data": {
      "image/png": "[encoded data removed]",
      "text/plain": [
       "<Figure size 360x360 with 6 Axes>"
      ]
     },
     "metadata": {
      "needs_background": "light"
     },
     "output_type": "display_data"
    }
   ],
   "source": [
    "sns.pairplot(data=vcf, vars=[\"AF 0\", \"AF 1\"])"
   ]
  },
  {
   "cell_type": "code",
   "execution_count": 75,
   "metadata": {
    "ExecuteTime": {
     "end_time": "2021-01-16T00:06:27.245806Z",
     "start_time": "2021-01-16T00:06:26.728775Z"
    },
    "execution": {
     "iopub.execute_input": "2021-01-14T01:24:40.335041Z",
     "iopub.status.busy": "2021-01-14T01:24:40.333116Z",
     "iopub.status.idle": "2021-01-14T01:24:40.870279Z",
     "shell.execute_reply": "2021-01-14T01:24:40.869729Z"
    },
    "papermill": {
     "duration": 0.613786,
     "end_time": "2021-01-14T01:24:40.870438",
     "exception": false,
     "start_time": "2021-01-14T01:24:40.256652",
     "status": "completed"
    },
    "scrolled": false,
    "tags": []
   },
   "outputs": [
    {
     "data": {
      "text/plain": [
       "<seaborn.matrix.ClusterGrid at 0x7f293089f390>"
      ]
     },
     "execution_count": 75,
     "metadata": {},
     "output_type": "execute_result"
    },
    {
     "data": {
      "text/plain": [
       "<Figure size 3000x3000 with 0 Axes>"
      ]
     },
     "metadata": {},
     "output_type": "display_data"
    },
    {
     "data": {
      "image/png": "[encoded data removed]",
      "text/plain": [
       "<Figure size 720x720 with 4 Axes>"
      ]
     },
     "metadata": {
      "needs_background": "light"
     },
     "output_type": "display_data"
    }
   ],
   "source": [
    "f = plt.figure(figsize=(10,10), dpi=300)\n",
    "sns.clustermap(data=vcf[[\"AF 0\" , \"AF 1\"]])"
   ]
  },
  {
   "cell_type": "code",
   "execution_count": 76,
   "metadata": {
    "ExecuteTime": {
     "end_time": "2021-01-16T00:06:30.771000Z",
     "start_time": "2021-01-16T00:06:29.911789Z"
    },
    "execution": {
     "iopub.execute_input": "2021-01-14T01:24:41.008433Z",
     "iopub.status.busy": "2021-01-14T01:24:41.007808Z",
     "iopub.status.idle": "2021-01-14T01:24:41.953635Z",
     "shell.execute_reply": "2021-01-14T01:24:41.954113Z"
    },
    "papermill": {
     "duration": 1.016597,
     "end_time": "2021-01-14T01:24:41.954296",
     "exception": false,
     "start_time": "2021-01-14T01:24:40.937699",
     "status": "completed"
    },
    "tags": []
   },
   "outputs": [
    {
     "data": {
      "text/plain": [
       "111059"
      ]
     },
     "execution_count": 76,
     "metadata": {},
     "output_type": "execute_result"
    }
   ],
   "source": [
    "dense_ad = pd.DataFrame(AD.todense())\n",
    "(dense_ad>0).sum().sum()\n",
    "\n",
    "dense_dp = pd.DataFrame(DP.todense())\n",
    "(dense_dp>0).sum().sum()"
   ]
  },
  {
   "cell_type": "code",
   "execution_count": 42,
   "metadata": {
    "ExecuteTime": {
     "end_time": "2021-01-11T02:39:20.272444Z",
     "start_time": "2021-01-11T02:39:20.264169Z"
    },
    "execution": {
     "iopub.execute_input": "2021-01-14T01:24:42.092374Z",
     "iopub.status.busy": "2021-01-14T01:24:42.091746Z",
     "iopub.status.idle": "2021-01-14T01:24:42.094374Z",
     "shell.execute_reply": "2021-01-14T01:24:42.094905Z"
    },
    "papermill": {
     "duration": 0.07242,
     "end_time": "2021-01-14T01:24:42.095049",
     "exception": false,
     "start_time": "2021-01-14T01:24:42.022629",
     "status": "completed"
    },
    "tags": []
   },
   "outputs": [
    {
     "name": "stdout",
     "output_type": "stream",
     "text": [
      "Number of variants with 99.5% AF: 0\n"
     ]
    }
   ],
   "source": [
    "print(f\"Number of variants with 99.5% AF: {len(AF_SNPs[(np.absolute(AF_SNPs[:,0]-0.99518961))<0.01])}\")"
   ]
  },
  {
   "cell_type": "code",
   "execution_count": 43,
   "metadata": {
    "ExecuteTime": {
     "end_time": "2021-01-11T02:39:20.309194Z",
     "start_time": "2021-01-11T02:39:20.274242Z"
    },
    "execution": {
     "iopub.execute_input": "2021-01-14T01:24:42.268265Z",
     "iopub.status.busy": "2021-01-14T01:24:42.267607Z",
     "iopub.status.idle": "2021-01-14T01:24:42.271212Z",
     "shell.execute_reply": "2021-01-14T01:24:42.270628Z"
    },
    "papermill": {
     "duration": 0.106962,
     "end_time": "2021-01-14T01:24:42.271361",
     "exception": false,
     "start_time": "2021-01-14T01:24:42.164399",
     "status": "completed"
    },
    "tags": []
   },
   "outputs": [
    {
     "data": {
      "text/html": [
       "<div>\n",
       "<style scoped>\n",
       "    .dataframe tbody tr th:only-of-type {\n",
       "        vertical-align: middle;\n",
       "    }\n",
       "\n",
       "    .dataframe tbody tr th {\n",
       "        vertical-align: top;\n",
       "    }\n",
       "\n",
       "    .dataframe thead th {\n",
       "        text-align: right;\n",
       "    }\n",
       "</style>\n",
       "<table border=\"1\" class=\"dataframe\">\n",
       "  <thead>\n",
       "    <tr style=\"text-align: right;\">\n",
       "      <th></th>\n",
       "      <th>#CHROM</th>\n",
       "      <th>POS</th>\n",
       "      <th>ID_x</th>\n",
       "      <th>REF_x</th>\n",
       "      <th>ALT</th>\n",
       "      <th>QUAL_x</th>\n",
       "      <th>FILTER_x</th>\n",
       "      <th>INFO_x</th>\n",
       "      <th>old data/chrM/PBMC_J_cellSNP_minC20_minAF0.01</th>\n",
       "      <th>ID_y</th>\n",
       "      <th>REF_y</th>\n",
       "      <th>QUAL_y</th>\n",
       "      <th>FILTER_y</th>\n",
       "      <th>INFO_y</th>\n",
       "      <th>old data/chrM/PBMC_P_cellSNP_minC20_minAF0.01</th>\n",
       "      <th>new ID</th>\n",
       "      <th>AF 0</th>\n",
       "      <th>AF 1</th>\n",
       "    </tr>\n",
       "  </thead>\n",
       "  <tbody>\n",
       "    <tr>\n",
       "      <th>0</th>\n",
       "      <td>chrM</td>\n",
       "      <td>297</td>\n",
       "      <td>.</td>\n",
       "      <td>A</td>\n",
       "      <td>C</td>\n",
       "      <td>.</td>\n",
       "      <td>PASS</td>\n",
       "      <td>AD=1999;DP=131616;OTH=497</td>\n",
       "      <td>1.0</td>\n",
       "      <td>NaN</td>\n",
       "      <td>NaN</td>\n",
       "      <td>NaN</td>\n",
       "      <td>NaN</td>\n",
       "      <td>NaN</td>\n",
       "      <td>NaN</td>\n",
       "      <td>1</td>\n",
       "      <td>0.019059</td>\n",
       "      <td>0.019059</td>\n",
       "    </tr>\n",
       "    <tr>\n",
       "      <th>1</th>\n",
       "      <td>chrM</td>\n",
       "      <td>300</td>\n",
       "      <td>.</td>\n",
       "      <td>A</td>\n",
       "      <td>C</td>\n",
       "      <td>.</td>\n",
       "      <td>PASS</td>\n",
       "      <td>AD=4336;DP=123361;OTH=353</td>\n",
       "      <td>2.0</td>\n",
       "      <td>.</td>\n",
       "      <td>A</td>\n",
       "      <td>.</td>\n",
       "      <td>PASS</td>\n",
       "      <td>AD=6667;DP=298868;OTH=1024</td>\n",
       "      <td>1.0</td>\n",
       "      <td>2</td>\n",
       "      <td>0.019059</td>\n",
       "      <td>0.019059</td>\n",
       "    </tr>\n",
       "    <tr>\n",
       "      <th>2</th>\n",
       "      <td>chrM</td>\n",
       "      <td>301</td>\n",
       "      <td>.</td>\n",
       "      <td>A</td>\n",
       "      <td>C</td>\n",
       "      <td>.</td>\n",
       "      <td>PASS</td>\n",
       "      <td>AD=1275;DP=116676;OTH=1179</td>\n",
       "      <td>3.0</td>\n",
       "      <td>NaN</td>\n",
       "      <td>NaN</td>\n",
       "      <td>NaN</td>\n",
       "      <td>NaN</td>\n",
       "      <td>NaN</td>\n",
       "      <td>NaN</td>\n",
       "      <td>3</td>\n",
       "      <td>0.019059</td>\n",
       "      <td>0.019059</td>\n",
       "    </tr>\n",
       "    <tr>\n",
       "      <th>3</th>\n",
       "      <td>chrM</td>\n",
       "      <td>302</td>\n",
       "      <td>.</td>\n",
       "      <td>A</td>\n",
       "      <td>G</td>\n",
       "      <td>.</td>\n",
       "      <td>PASS</td>\n",
       "      <td>AD=3326;DP=111520;OTH=2183</td>\n",
       "      <td>4.0</td>\n",
       "      <td>.</td>\n",
       "      <td>A</td>\n",
       "      <td>.</td>\n",
       "      <td>PASS</td>\n",
       "      <td>AD=13460;DP=267646;OTH=7457</td>\n",
       "      <td>2.0</td>\n",
       "      <td>4</td>\n",
       "      <td>0.019059</td>\n",
       "      <td>0.019059</td>\n",
       "    </tr>\n",
       "    <tr>\n",
       "      <th>4</th>\n",
       "      <td>chrM</td>\n",
       "      <td>304</td>\n",
       "      <td>.</td>\n",
       "      <td>C</td>\n",
       "      <td>G</td>\n",
       "      <td>.</td>\n",
       "      <td>PASS</td>\n",
       "      <td>AD=1486;DP=111198;OTH=255</td>\n",
       "      <td>5.0</td>\n",
       "      <td>NaN</td>\n",
       "      <td>NaN</td>\n",
       "      <td>NaN</td>\n",
       "      <td>NaN</td>\n",
       "      <td>NaN</td>\n",
       "      <td>NaN</td>\n",
       "      <td>5</td>\n",
       "      <td>0.019059</td>\n",
       "      <td>0.019059</td>\n",
       "    </tr>\n",
       "    <tr>\n",
       "      <th>...</th>\n",
       "      <td>...</td>\n",
       "      <td>...</td>\n",
       "      <td>...</td>\n",
       "      <td>...</td>\n",
       "      <td>...</td>\n",
       "      <td>...</td>\n",
       "      <td>...</td>\n",
       "      <td>...</td>\n",
       "      <td>...</td>\n",
       "      <td>...</td>\n",
       "      <td>...</td>\n",
       "      <td>...</td>\n",
       "      <td>...</td>\n",
       "      <td>...</td>\n",
       "      <td>...</td>\n",
       "      <td>...</td>\n",
       "      <td>...</td>\n",
       "      <td>...</td>\n",
       "    </tr>\n",
       "    <tr>\n",
       "      <th>90</th>\n",
       "      <td>chrM</td>\n",
       "      <td>13435</td>\n",
       "      <td>NaN</td>\n",
       "      <td>NaN</td>\n",
       "      <td>G</td>\n",
       "      <td>NaN</td>\n",
       "      <td>NaN</td>\n",
       "      <td>NaN</td>\n",
       "      <td>NaN</td>\n",
       "      <td>.</td>\n",
       "      <td>C</td>\n",
       "      <td>.</td>\n",
       "      <td>PASS</td>\n",
       "      <td>AD=6403;DP=445225;OTH=582</td>\n",
       "      <td>62.0</td>\n",
       "      <td>91</td>\n",
       "      <td>0.019059</td>\n",
       "      <td>0.019059</td>\n",
       "    </tr>\n",
       "    <tr>\n",
       "      <th>91</th>\n",
       "      <td>chrM</td>\n",
       "      <td>13436</td>\n",
       "      <td>NaN</td>\n",
       "      <td>NaN</td>\n",
       "      <td>G</td>\n",
       "      <td>NaN</td>\n",
       "      <td>NaN</td>\n",
       "      <td>NaN</td>\n",
       "      <td>NaN</td>\n",
       "      <td>.</td>\n",
       "      <td>C</td>\n",
       "      <td>.</td>\n",
       "      <td>PASS</td>\n",
       "      <td>AD=11025;DP=440143;OTH=1040</td>\n",
       "      <td>63.0</td>\n",
       "      <td>92</td>\n",
       "      <td>0.019059</td>\n",
       "      <td>0.019059</td>\n",
       "    </tr>\n",
       "    <tr>\n",
       "      <th>92</th>\n",
       "      <td>chrM</td>\n",
       "      <td>13446</td>\n",
       "      <td>NaN</td>\n",
       "      <td>NaN</td>\n",
       "      <td>G</td>\n",
       "      <td>NaN</td>\n",
       "      <td>NaN</td>\n",
       "      <td>NaN</td>\n",
       "      <td>NaN</td>\n",
       "      <td>.</td>\n",
       "      <td>A</td>\n",
       "      <td>.</td>\n",
       "      <td>PASS</td>\n",
       "      <td>AD=5755;DP=505699;OTH=2456</td>\n",
       "      <td>64.0</td>\n",
       "      <td>93</td>\n",
       "      <td>0.019059</td>\n",
       "      <td>0.019059</td>\n",
       "    </tr>\n",
       "    <tr>\n",
       "      <th>93</th>\n",
       "      <td>chrM</td>\n",
       "      <td>14883</td>\n",
       "      <td>NaN</td>\n",
       "      <td>NaN</td>\n",
       "      <td>T</td>\n",
       "      <td>NaN</td>\n",
       "      <td>NaN</td>\n",
       "      <td>NaN</td>\n",
       "      <td>NaN</td>\n",
       "      <td>.</td>\n",
       "      <td>C</td>\n",
       "      <td>.</td>\n",
       "      <td>PASS</td>\n",
       "      <td>AD=20753;DP=567485;OTH=741</td>\n",
       "      <td>78.0</td>\n",
       "      <td>94</td>\n",
       "      <td>0.019059</td>\n",
       "      <td>0.019059</td>\n",
       "    </tr>\n",
       "    <tr>\n",
       "      <th>94</th>\n",
       "      <td>chrM</td>\n",
       "      <td>15448</td>\n",
       "      <td>NaN</td>\n",
       "      <td>NaN</td>\n",
       "      <td>G</td>\n",
       "      <td>NaN</td>\n",
       "      <td>NaN</td>\n",
       "      <td>NaN</td>\n",
       "      <td>NaN</td>\n",
       "      <td>.</td>\n",
       "      <td>C</td>\n",
       "      <td>.</td>\n",
       "      <td>PASS</td>\n",
       "      <td>AD=5190;DP=453845;OTH=594</td>\n",
       "      <td>82.0</td>\n",
       "      <td>95</td>\n",
       "      <td>0.019059</td>\n",
       "      <td>0.019059</td>\n",
       "    </tr>\n",
       "  </tbody>\n",
       "</table>\n",
       "<p>95 rows × 18 columns</p>\n",
       "</div>"
      ],
      "text/plain": [
       "   #CHROM    POS ID_x REF_x ALT QUAL_x FILTER_x                      INFO_x  \\\n",
       "0    chrM    297    .     A   C      .     PASS   AD=1999;DP=131616;OTH=497   \n",
       "1    chrM    300    .     A   C      .     PASS   AD=4336;DP=123361;OTH=353   \n",
       "2    chrM    301    .     A   C      .     PASS  AD=1275;DP=116676;OTH=1179   \n",
       "3    chrM    302    .     A   G      .     PASS  AD=3326;DP=111520;OTH=2183   \n",
       "4    chrM    304    .     C   G      .     PASS   AD=1486;DP=111198;OTH=255   \n",
       "..    ...    ...  ...   ...  ..    ...      ...                         ...   \n",
       "90   chrM  13435  NaN   NaN   G    NaN      NaN                         NaN   \n",
       "91   chrM  13436  NaN   NaN   G    NaN      NaN                         NaN   \n",
       "92   chrM  13446  NaN   NaN   G    NaN      NaN                         NaN   \n",
       "93   chrM  14883  NaN   NaN   T    NaN      NaN                         NaN   \n",
       "94   chrM  15448  NaN   NaN   G    NaN      NaN                         NaN   \n",
       "\n",
       "    old data/chrM/PBMC_J_cellSNP_minC20_minAF0.01 ID_y REF_y QUAL_y FILTER_y  \\\n",
       "0                                             1.0  NaN   NaN    NaN      NaN   \n",
       "1                                             2.0    .     A      .     PASS   \n",
       "2                                             3.0  NaN   NaN    NaN      NaN   \n",
       "3                                             4.0    .     A      .     PASS   \n",
       "4                                             5.0  NaN   NaN    NaN      NaN   \n",
       "..                                            ...  ...   ...    ...      ...   \n",
       "90                                            NaN    .     C      .     PASS   \n",
       "91                                            NaN    .     C      .     PASS   \n",
       "92                                            NaN    .     A      .     PASS   \n",
       "93                                            NaN    .     C      .     PASS   \n",
       "94                                            NaN    .     C      .     PASS   \n",
       "\n",
       "                         INFO_y  \\\n",
       "0                           NaN   \n",
       "1    AD=6667;DP=298868;OTH=1024   \n",
       "2                           NaN   \n",
       "3   AD=13460;DP=267646;OTH=7457   \n",
       "4                           NaN   \n",
       "..                          ...   \n",
       "90    AD=6403;DP=445225;OTH=582   \n",
       "91  AD=11025;DP=440143;OTH=1040   \n",
       "92   AD=5755;DP=505699;OTH=2456   \n",
       "93   AD=20753;DP=567485;OTH=741   \n",
       "94    AD=5190;DP=453845;OTH=594   \n",
       "\n",
       "    old data/chrM/PBMC_P_cellSNP_minC20_minAF0.01  new ID      AF 0      AF 1  \n",
       "0                                             NaN       1  0.019059  0.019059  \n",
       "1                                             1.0       2  0.019059  0.019059  \n",
       "2                                             NaN       3  0.019059  0.019059  \n",
       "3                                             2.0       4  0.019059  0.019059  \n",
       "4                                             NaN       5  0.019059  0.019059  \n",
       "..                                            ...     ...       ...       ...  \n",
       "90                                           62.0      91  0.019059  0.019059  \n",
       "91                                           63.0      92  0.019059  0.019059  \n",
       "92                                           64.0      93  0.019059  0.019059  \n",
       "93                                           78.0      94  0.019059  0.019059  \n",
       "94                                           82.0      95  0.019059  0.019059  \n",
       "\n",
       "[95 rows x 18 columns]"
      ]
     },
     "execution_count": 43,
     "metadata": {},
     "output_type": "execute_result"
    }
   ],
   "source": [
    "vcf"
   ]
  },
  {
   "cell_type": "code",
   "execution_count": 44,
   "metadata": {
    "ExecuteTime": {
     "end_time": "2021-01-11T02:39:20.346076Z",
     "start_time": "2021-01-11T02:39:20.311006Z"
    },
    "execution": {
     "iopub.execute_input": "2021-01-14T01:24:42.425163Z",
     "iopub.status.busy": "2021-01-14T01:24:42.424492Z",
     "iopub.status.idle": "2021-01-14T01:24:42.427475Z",
     "shell.execute_reply": "2021-01-14T01:24:42.428008Z"
    },
    "papermill": {
     "duration": 0.087394,
     "end_time": "2021-01-14T01:24:42.428172",
     "exception": false,
     "start_time": "2021-01-14T01:24:42.340778",
     "status": "completed"
    },
    "scrolled": false,
    "tags": []
   },
   "outputs": [
    {
     "data": {
      "text/html": [
       "<div>\n",
       "<style scoped>\n",
       "    .dataframe tbody tr th:only-of-type {\n",
       "        vertical-align: middle;\n",
       "    }\n",
       "\n",
       "    .dataframe tbody tr th {\n",
       "        vertical-align: top;\n",
       "    }\n",
       "\n",
       "    .dataframe thead th {\n",
       "        text-align: right;\n",
       "    }\n",
       "</style>\n",
       "<table border=\"1\" class=\"dataframe\">\n",
       "  <thead>\n",
       "    <tr style=\"text-align: right;\">\n",
       "      <th></th>\n",
       "      <th>#CHROM</th>\n",
       "      <th>POS</th>\n",
       "      <th>ID_x</th>\n",
       "      <th>REF_x</th>\n",
       "      <th>ALT</th>\n",
       "      <th>QUAL_x</th>\n",
       "      <th>FILTER_x</th>\n",
       "      <th>INFO_x</th>\n",
       "      <th>old data/chrM/PBMC_J_cellSNP_minC20_minAF0.01</th>\n",
       "      <th>ID_y</th>\n",
       "      <th>REF_y</th>\n",
       "      <th>QUAL_y</th>\n",
       "      <th>FILTER_y</th>\n",
       "      <th>INFO_y</th>\n",
       "      <th>old data/chrM/PBMC_P_cellSNP_minC20_minAF0.01</th>\n",
       "      <th>new ID</th>\n",
       "      <th>AF 0</th>\n",
       "      <th>AF 1</th>\n",
       "    </tr>\n",
       "  </thead>\n",
       "  <tbody>\n",
       "  </tbody>\n",
       "</table>\n",
       "</div>"
      ],
      "text/plain": [
       "Empty DataFrame\n",
       "Columns: [#CHROM, POS, ID_x, REF_x, ALT, QUAL_x, FILTER_x, INFO_x, old data/chrM/PBMC_J_cellSNP_minC20_minAF0.01, ID_y, REF_y, QUAL_y, FILTER_y, INFO_y, old data/chrM/PBMC_P_cellSNP_minC20_minAF0.01, new ID, AF 0, AF 1]\n",
       "Index: []"
      ]
     },
     "execution_count": 44,
     "metadata": {},
     "output_type": "execute_result"
    }
   ],
   "source": [
    "vcf[(vcf[\"AF 0\"]>0.9) & (vcf[\"AF 1\"]>0.9)]"
   ]
  },
  {
   "cell_type": "code",
   "execution_count": 45,
   "metadata": {
    "ExecuteTime": {
     "end_time": "2021-01-11T02:39:20.380322Z",
     "start_time": "2021-01-11T02:39:20.347815Z"
    },
    "execution": {
     "iopub.execute_input": "2021-01-14T01:24:42.577523Z",
     "iopub.status.busy": "2021-01-14T01:24:42.576877Z",
     "iopub.status.idle": "2021-01-14T01:24:42.579777Z",
     "shell.execute_reply": "2021-01-14T01:24:42.580297Z"
    },
    "papermill": {
     "duration": 0.085311,
     "end_time": "2021-01-14T01:24:42.580443",
     "exception": false,
     "start_time": "2021-01-14T01:24:42.495132",
     "status": "completed"
    },
    "scrolled": false,
    "tags": []
   },
   "outputs": [
    {
     "data": {
      "text/html": [
       "<div>\n",
       "<style scoped>\n",
       "    .dataframe tbody tr th:only-of-type {\n",
       "        vertical-align: middle;\n",
       "    }\n",
       "\n",
       "    .dataframe tbody tr th {\n",
       "        vertical-align: top;\n",
       "    }\n",
       "\n",
       "    .dataframe thead th {\n",
       "        text-align: right;\n",
       "    }\n",
       "</style>\n",
       "<table border=\"1\" class=\"dataframe\">\n",
       "  <thead>\n",
       "    <tr style=\"text-align: right;\">\n",
       "      <th></th>\n",
       "      <th>#CHROM</th>\n",
       "      <th>POS</th>\n",
       "      <th>ID_x</th>\n",
       "      <th>REF_x</th>\n",
       "      <th>ALT</th>\n",
       "      <th>QUAL_x</th>\n",
       "      <th>FILTER_x</th>\n",
       "      <th>INFO_x</th>\n",
       "      <th>old data/chrM/PBMC_J_cellSNP_minC20_minAF0.01</th>\n",
       "      <th>ID_y</th>\n",
       "      <th>REF_y</th>\n",
       "      <th>QUAL_y</th>\n",
       "      <th>FILTER_y</th>\n",
       "      <th>INFO_y</th>\n",
       "      <th>old data/chrM/PBMC_P_cellSNP_minC20_minAF0.01</th>\n",
       "      <th>new ID</th>\n",
       "      <th>AF 0</th>\n",
       "      <th>AF 1</th>\n",
       "    </tr>\n",
       "  </thead>\n",
       "  <tbody>\n",
       "  </tbody>\n",
       "</table>\n",
       "</div>"
      ],
      "text/plain": [
       "Empty DataFrame\n",
       "Columns: [#CHROM, POS, ID_x, REF_x, ALT, QUAL_x, FILTER_x, INFO_x, old data/chrM/PBMC_J_cellSNP_minC20_minAF0.01, ID_y, REF_y, QUAL_y, FILTER_y, INFO_y, old data/chrM/PBMC_P_cellSNP_minC20_minAF0.01, new ID, AF 0, AF 1]\n",
       "Index: []"
      ]
     },
     "execution_count": 45,
     "metadata": {},
     "output_type": "execute_result"
    }
   ],
   "source": [
    "vcf[(vcf[\"AF 0\"]>0.95) & (vcf[\"AF 1\"]>0.95)]"
   ]
  },
  {
   "cell_type": "code",
   "execution_count": null,
   "metadata": {
    "papermill": {
     "duration": 0.070895,
     "end_time": "2021-01-14T01:24:42.722594",
     "exception": false,
     "start_time": "2021-01-14T01:24:42.651699",
     "status": "completed"
    },
    "tags": []
   },
   "outputs": [],
   "source": []
  },
  {
   "cell_type": "markdown",
   "metadata": {
    "papermill": {
     "duration": 0.071264,
     "end_time": "2021-01-14T01:24:42.864410",
     "exception": false,
     "start_time": "2021-01-14T01:24:42.793146",
     "status": "completed"
    },
    "tags": []
   },
   "source": [
    "## Choose the number of donors"
   ]
  },
  {
   "cell_type": "markdown",
   "metadata": {
    "papermill": {
     "duration": 0.069347,
     "end_time": "2021-01-14T01:24:43.003402",
     "exception": false,
     "start_time": "2021-01-14T01:24:42.934055",
     "status": "completed"
    },
    "tags": []
   },
   "source": [
    "Unsually, the number of donors are known. In case you are not sure on this, you could try a set of numbers, e.g., from 2 to 6 here, and pick the one when the evidence lower bound (ELBO) stops increasing, e.g., \n",
    "[Figure 2A in Vireo paper](https://genomebiology.biomedcentral.com/articles/10.1186/s13059-019-1865-2/figures/2)\n",
    "\n",
    "In this data set, `n_donor=4` is a sensible choice."
   ]
  },
  {
   "cell_type": "code",
   "execution_count": 46,
   "metadata": {
    "ExecuteTime": {
     "end_time": "2021-01-11T02:40:18.846291Z",
     "start_time": "2021-01-11T02:39:20.381961Z"
    },
    "execution": {
     "iopub.execute_input": "2021-01-14T01:24:43.150714Z",
     "iopub.status.busy": "2021-01-14T01:24:43.150073Z",
     "iopub.status.idle": "2021-01-14T01:25:12.261235Z",
     "shell.execute_reply": "2021-01-14T01:25:12.261712Z"
    },
    "papermill": {
     "duration": 29.18694,
     "end_time": "2021-01-14T01:25:12.261885",
     "exception": false,
     "start_time": "2021-01-14T01:24:43.074945",
     "status": "completed"
    },
    "scrolled": true,
    "tags": []
   },
   "outputs": [
    {
     "name": "stdout",
     "output_type": "stream",
     "text": [
      "[vireo] lower bound ranges [-686892.6, -686892.6, -672720.4]\n",
      "[vireo] allelic rate mean and concentrations:\n",
      "[[0.019 0.137 0.99 ]]\n",
      "[[4.93374674e+07 4.20221360e+06 5.00000000e+01]]\n",
      "[vireo] donor size before removing doublets:\n",
      "donor0\tdonor1\n",
      "842\t564\n",
      "[vireo] lower bound ranges [-686788.2, -686788.2, -672642.1]\n",
      "[vireo] allelic rate mean and concentrations:\n",
      "[[0.019 0.137 0.99 ]]\n",
      "[[4.93436181e+07 4.19606290e+06 5.00000000e+01]]\n",
      "[vireo] donor size before removing doublets:\n",
      "donor0\tdonor1\tdonor2\n",
      "438\t530\t438\n",
      "[vireo] lower bound ranges [-686683.9, -686683.9, -684345.3]\n",
      "[vireo] allelic rate mean and concentrations:\n",
      "[[0.019 0.143 0.99 ]]\n",
      "[[4.96977951e+07 3.84188590e+06 5.00000000e+01]]\n",
      "[vireo] donor size before removing doublets:\n",
      "donor0\tdonor1\tdonor2\tdonor3\n",
      "341\t382\t341\t341\n",
      "[vireo] lower bound ranges [-686579.5, -686579.5, -684239.6]\n",
      "[vireo] allelic rate mean and concentrations:\n",
      "[[0.019 0.143 0.99 ]]\n",
      "[[4.96974344e+07 3.84224660e+06 5.00000000e+01]]\n",
      "[vireo] donor size before removing doublets:\n",
      "donor0\tdonor1\tdonor2\tdonor3\tdonor4\n",
      "266\t341\t266\t266\t266\n",
      "[vireo] lower bound ranges [-686475.1, -686475.1, -672329.0]\n",
      "[vireo] allelic rate mean and concentrations:\n",
      "[[0.019 0.137 0.99 ]]\n",
      "[[4.93436181e+07 4.19606290e+06 5.00000000e+01]]\n",
      "[vireo] donor size before removing doublets:\n",
      "donor0\tdonor1\tdonor2\tdonor3\tdonor4\tdonor5\n",
      "219\t265\t219\t265\t219\t219\n"
     ]
    }
   ],
   "source": [
    "n_donor_list = np.arange(2, 7)\n",
    "ELBO_list_all = []\n",
    "for _n_don in n_donor_list:\n",
    "    res = vireoSNP.vireo_wrap(AD, DP, n_donor=_n_don, learn_GT=True,\n",
    "                              n_extra_donor=0, ASE_mode=False, fix_beta_sum=False,\n",
    "                              n_init=50, check_doublet=True, random_seed=1)\n",
    "    ELBO_list_all.append(res['LB_list'])"
   ]
  },
  {
   "cell_type": "code",
   "execution_count": 47,
   "metadata": {
    "ExecuteTime": {
     "end_time": "2021-01-11T02:40:19.086313Z",
     "start_time": "2021-01-11T02:40:18.849947Z"
    },
    "execution": {
     "iopub.execute_input": "2021-01-14T01:25:12.425642Z",
     "iopub.status.busy": "2021-01-14T01:25:12.423660Z",
     "iopub.status.idle": "2021-01-14T01:25:12.682796Z",
     "shell.execute_reply": "2021-01-14T01:25:12.683271Z"
    },
    "papermill": {
     "duration": 0.345559,
     "end_time": "2021-01-14T01:25:12.683425",
     "exception": false,
     "start_time": "2021-01-14T01:25:12.337866",
     "status": "completed"
    },
    "scrolled": false,
    "tags": []
   },
   "outputs": [
    {
     "data": {
      "image/png": "[encoded data removed]",
      "text/plain": [
       "<Figure size 500x400 with 1 Axes>"
      ]
     },
     "metadata": {
      "needs_background": "light"
     },
     "output_type": "display_data"
    },
    {
     "data": {
      "text/plain": [
       "<Figure size 432x288 with 0 Axes>"
      ]
     },
     "metadata": {},
     "output_type": "display_data"
    }
   ],
   "source": [
    "import matplotlib.pyplot as plt\n",
    "from vireoSNP.plot.base_plot import heat_matrix\n",
    "\n",
    "fig = plt.figure(figsize=(5, 4), dpi=100)\n",
    "plt.plot(n_donor_list - 1, np.max(ELBO_list_all, axis=1))\n",
    "plt.boxplot(ELBO_list_all)\n",
    "plt.xticks(n_donor_list - 1, n_donor_list)\n",
    "plt.ylabel(\"ELBO\")\n",
    "plt.xlabel(\"n_clones\")\n",
    "plt.show()\n",
    "\n",
    "plt.savefig(join(OUTDIR, \"number_of_donors_ELBO.png\"))"
   ]
  }
 ],
 "metadata": {
  "celltoolbar": "Tags",
  "kernelspec": {
   "display_name": "Python 3",
   "language": "python",
   "name": "python3"
  },
  "language_info": {
   "codemirror_mode": {
    "name": "ipython",
    "version": 3
   },
   "file_extension": ".py",
   "mimetype": "text/x-python",
   "name": "python",
   "nbconvert_exporter": "python",
   "pygments_lexer": "ipython3",
   "version": "3.7.3"
  },
  "papermill": {
   "default_parameters": {},
   "duration": 50.143863,
   "end_time": "2021-01-14T01:25:14.025849",
   "environment_variables": {},
   "exception": null,
   "input_path": "/data2/mito_lineage/src/vireo/vireoSNP_donors.ipynb",
   "output_path": "data/chrM/pseudo/minC20_minAF0.01/numC2000_ispropFalse/pseudo.ipynb",
   "parameters": {
    "INDIR": "data/chrM/pseudo/minC20_minAF0.01/numC2000_ispropFalse"
   },
   "start_time": "2021-01-14T01:24:23.881986",
   "version": "2.2.0"
  }
 },
 "nbformat": 4,
 "nbformat_minor": 4
}
