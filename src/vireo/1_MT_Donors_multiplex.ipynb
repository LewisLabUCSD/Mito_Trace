{
 "cells": [
  {
   "cell_type": "markdown",
   "metadata": {
    "papermill": {
     "duration": 0.047745,
     "end_time": "2021-01-27T08:30:54.010679",
     "exception": false,
     "start_time": "2021-01-27T08:30:53.962934",
     "status": "completed"
    },
    "tags": []
   },
   "source": [
    "# Using vireo for multiplexing, followed by lineage tracing of those groups"
   ]
  },
  {
   "cell_type": "markdown",
   "metadata": {},
   "source": [
    "# 1. Change to analysis directory"
   ]
  },
  {
   "cell_type": "code",
   "execution_count": 2,
   "metadata": {
    "ExecuteTime": {
     "end_time": "2021-06-04T00:01:29.395300Z",
     "start_time": "2021-06-04T00:01:29.379755Z"
    },
    "scrolled": false
   },
   "outputs": [
    {
     "data": {
      "text/plain": [
       "'/data2/mito_lineage'"
      ]
     },
     "execution_count": 2,
     "metadata": {},
     "output_type": "execute_result"
    }
   ],
   "source": [
    "pwd"
   ]
  },
  {
   "cell_type": "markdown",
   "metadata": {},
   "source": [
    "## 1.1 Parameters"
   ]
  },
  {
   "cell_type": "code",
   "execution_count": 3,
   "metadata": {
    "ExecuteTime": {
     "end_time": "2021-06-04T00:01:29.413241Z",
     "start_time": "2021-06-04T00:01:29.410435Z"
    },
    "tags": [
     "parameters"
    ]
   },
   "outputs": [],
   "source": [
    "\n",
    "INDIR=\"output/clones/CHIP_april08_2021/MTblacklist/merged/filters/minC10_minR50_topN0_hetT0.001_hetC10_hetCount5_bq20/filter_mgatk/vireoIn\"\n",
    "OUTDIR=\"output/clones/CHIP_april08_2021/MTblacklist/merged/filters/minC10_minR50_topN0_hetT0.001_hetC10_hetCount5_bq20/filter_mgatk/vireoIn/multiplex\"\n",
    "N_DONORS=5\n",
    "sample_names=\"Control,Flt3l,Input\"\n",
    "to_elbo=False\n",
    "\n",
    "cores = 8\n",
    "# INDIR=\"data/processed/testsets/mttrace/testsetA/merged\"\n",
    "# OUTDIR=\"data/processed/testsets/mttrace/testsetA/merged/multiplex\"\n",
    "# N_DONORS=2\n",
    "# sample_names=\"pre,post\"\n",
    "# to_elbo=False"
   ]
  },
  {
   "cell_type": "markdown",
   "metadata": {},
   "source": [
    "## 1.2 Import packages"
   ]
  },
  {
   "cell_type": "code",
   "execution_count": 5,
   "metadata": {
    "ExecuteTime": {
     "end_time": "2021-06-04T00:01:31.155755Z",
     "start_time": "2021-06-04T00:01:29.427932Z"
    },
    "scrolled": false
   },
   "outputs": [
    {
     "name": "stdout",
     "output_type": "stream",
     "text": [
      "0.5.6\n"
     ]
    }
   ],
   "source": [
    "from os.path import join, exists, dirname\n",
    "from glob import glob\n",
    "import mplh.cluster_help as ch\n",
    "import os\n",
    "from vireoSNP.plot.base_plot import heat_matrix\n",
    "from vireoSNP import Vireo\n",
    "import src.pseudo_batch as pb\n",
    "import vireoSNP\n",
    "print(vireoSNP.__version__)\n",
    "import numpy as np\n",
    "from scipy import sparse\n",
    "from scipy.io import mmread\n",
    "import matplotlib.pyplot as plt\n",
    "import pandas as pd\n",
    "import seaborn as sns\n",
    "from src.vireo.vireo_utils import run_vireo, plot_vireo_out, extract_clusters, run_elbo, separate_donors\n",
    "%load_ext autoreload\n",
    "%autoreload 2"
   ]
  },
  {
   "cell_type": "code",
   "execution_count": 6,
   "metadata": {
    "ExecuteTime": {
     "end_time": "2021-06-04T00:01:31.175538Z",
     "start_time": "2021-06-04T00:01:31.158256Z"
    },
    "execution": {
     "iopub.execute_input": "2021-01-27T08:30:58.591556Z",
     "iopub.status.busy": "2021-01-27T08:30:58.589747Z",
     "iopub.status.idle": "2021-01-27T08:30:58.595785Z",
     "shell.execute_reply": "2021-01-27T08:30:58.597375Z"
    },
    "papermill": {
     "duration": 0.08872,
     "end_time": "2021-01-27T08:30:58.597995",
     "exception": false,
     "start_time": "2021-01-27T08:30:58.509275",
     "status": "completed"
    },
    "tags": []
   },
   "outputs": [],
   "source": [
    "np.set_printoptions(formatter={'float': lambda x: format(x, '.5f')})"
   ]
  },
  {
   "cell_type": "markdown",
   "metadata": {},
   "source": [
    "## 1.3 Load"
   ]
  },
  {
   "cell_type": "code",
   "execution_count": 7,
   "metadata": {
    "ExecuteTime": {
     "end_time": "2021-06-04T00:01:31.195925Z",
     "start_time": "2021-06-04T00:01:31.178238Z"
    }
   },
   "outputs": [],
   "source": [
    "AD_F = join(INDIR, \"cellSNP.tag.AD.mtx\")\n",
    "DP_F = join(INDIR, \"cellSNP.tag.DP.mtx\")\n",
    "cell_inds_names = join(INDIR,\"cell_indices_*.txt\")\n",
    "cells_meta_f = join(INDIR, \"cells_meta.tsv\")\n",
    "vars_f = join(INDIR, \"cellSNP.base.vcf\")\n"
   ]
  },
  {
   "cell_type": "code",
   "execution_count": 8,
   "metadata": {
    "ExecuteTime": {
     "end_time": "2021-06-04T00:01:31.317536Z",
     "start_time": "2021-06-04T00:01:31.198078Z"
    },
    "scrolled": false
   },
   "outputs": [
    {
     "data": {
      "text/html": [
       "<div>\n",
       "<style scoped>\n",
       "    .dataframe tbody tr th:only-of-type {\n",
       "        vertical-align: middle;\n",
       "    }\n",
       "\n",
       "    .dataframe tbody tr th {\n",
       "        vertical-align: top;\n",
       "    }\n",
       "\n",
       "    .dataframe thead th {\n",
       "        text-align: right;\n",
       "    }\n",
       "</style>\n",
       "<table border=\"1\" class=\"dataframe\">\n",
       "  <thead>\n",
       "    <tr style=\"text-align: right;\">\n",
       "      <th></th>\n",
       "      <th>#CHROM</th>\n",
       "      <th>POS</th>\n",
       "      <th>REF</th>\n",
       "      <th>ALT</th>\n",
       "      <th>strand_correlation_x</th>\n",
       "      <th>vmr_x</th>\n",
       "      <th>n_cells_over_5_x</th>\n",
       "      <th>n_cells_over_20_x</th>\n",
       "      <th>index</th>\n",
       "      <th>old output/clones/CHIP_april08_2021/MTblacklist/Control/filters/minC10_minR50_topN0_hetT0.001_hetC10_hetCount5_bq20/filter_mgatk/vireoIn</th>\n",
       "      <th>...</th>\n",
       "      <th>vmr_y</th>\n",
       "      <th>n_cells_over_5_y</th>\n",
       "      <th>n_cells_over_20_y</th>\n",
       "      <th>old output/clones/CHIP_april08_2021/MTblacklist/Flt3l/filters/minC10_minR50_topN0_hetT0.001_hetC10_hetCount5_bq20/filter_mgatk/vireoIn</th>\n",
       "      <th>strand_correlation</th>\n",
       "      <th>vmr</th>\n",
       "      <th>n_cells_over_5</th>\n",
       "      <th>n_cells_over_20</th>\n",
       "      <th>old output/clones/CHIP_april08_2021/MTblacklist/Input/filters/minC10_minR50_topN0_hetT0.001_hetC10_hetCount5_bq20/filter_mgatk/vireoIn</th>\n",
       "      <th>new ID</th>\n",
       "    </tr>\n",
       "  </thead>\n",
       "  <tbody>\n",
       "    <tr>\n",
       "      <th>0</th>\n",
       "      <td>chrM</td>\n",
       "      <td>62</td>\n",
       "      <td>62G</td>\n",
       "      <td>C</td>\n",
       "      <td>1.000000</td>\n",
       "      <td>0.023067</td>\n",
       "      <td>0.0</td>\n",
       "      <td>0.0</td>\n",
       "      <td>62G&gt;C</td>\n",
       "      <td>1.0</td>\n",
       "      <td>...</td>\n",
       "      <td>NaN</td>\n",
       "      <td>NaN</td>\n",
       "      <td>NaN</td>\n",
       "      <td>NaN</td>\n",
       "      <td>NaN</td>\n",
       "      <td>NaN</td>\n",
       "      <td>NaN</td>\n",
       "      <td>NaN</td>\n",
       "      <td>NaN</td>\n",
       "      <td>1</td>\n",
       "    </tr>\n",
       "    <tr>\n",
       "      <th>1</th>\n",
       "      <td>chrM</td>\n",
       "      <td>73</td>\n",
       "      <td>73A</td>\n",
       "      <td>G</td>\n",
       "      <td>0.997152</td>\n",
       "      <td>0.327625</td>\n",
       "      <td>329.0</td>\n",
       "      <td>329.0</td>\n",
       "      <td>73A&gt;G</td>\n",
       "      <td>2.0</td>\n",
       "      <td>...</td>\n",
       "      <td>0.339238</td>\n",
       "      <td>2823.0</td>\n",
       "      <td>2751.0</td>\n",
       "      <td>3.0</td>\n",
       "      <td>0.996919</td>\n",
       "      <td>0.382955</td>\n",
       "      <td>119.0</td>\n",
       "      <td>116.0</td>\n",
       "      <td>1.0</td>\n",
       "      <td>2</td>\n",
       "    </tr>\n",
       "    <tr>\n",
       "      <th>2</th>\n",
       "      <td>chrM</td>\n",
       "      <td>150</td>\n",
       "      <td>150C</td>\n",
       "      <td>T</td>\n",
       "      <td>0.977417</td>\n",
       "      <td>0.624277</td>\n",
       "      <td>177.0</td>\n",
       "      <td>177.0</td>\n",
       "      <td>150C&gt;T</td>\n",
       "      <td>3.0</td>\n",
       "      <td>...</td>\n",
       "      <td>0.801082</td>\n",
       "      <td>727.0</td>\n",
       "      <td>676.0</td>\n",
       "      <td>10.0</td>\n",
       "      <td>0.979327</td>\n",
       "      <td>0.670372</td>\n",
       "      <td>61.0</td>\n",
       "      <td>49.0</td>\n",
       "      <td>3.0</td>\n",
       "      <td>3</td>\n",
       "    </tr>\n",
       "    <tr>\n",
       "      <th>3</th>\n",
       "      <td>chrM</td>\n",
       "      <td>195</td>\n",
       "      <td>195T</td>\n",
       "      <td>C</td>\n",
       "      <td>0.986475</td>\n",
       "      <td>1.003792</td>\n",
       "      <td>22.0</td>\n",
       "      <td>22.0</td>\n",
       "      <td>195T&gt;C</td>\n",
       "      <td>4.0</td>\n",
       "      <td>...</td>\n",
       "      <td>0.668427</td>\n",
       "      <td>1125.0</td>\n",
       "      <td>1047.0</td>\n",
       "      <td>11.0</td>\n",
       "      <td>0.990257</td>\n",
       "      <td>0.623396</td>\n",
       "      <td>44.0</td>\n",
       "      <td>31.0</td>\n",
       "      <td>4.0</td>\n",
       "      <td>4</td>\n",
       "    </tr>\n",
       "    <tr>\n",
       "      <th>4</th>\n",
       "      <td>chrM</td>\n",
       "      <td>248</td>\n",
       "      <td>248A</td>\n",
       "      <td>G</td>\n",
       "      <td>0.768094</td>\n",
       "      <td>4.211685</td>\n",
       "      <td>95.0</td>\n",
       "      <td>88.0</td>\n",
       "      <td>248A&gt;G</td>\n",
       "      <td>5.0</td>\n",
       "      <td>...</td>\n",
       "      <td>1.708703</td>\n",
       "      <td>247.0</td>\n",
       "      <td>227.0</td>\n",
       "      <td>13.0</td>\n",
       "      <td>0.705534</td>\n",
       "      <td>4.216593</td>\n",
       "      <td>24.0</td>\n",
       "      <td>14.0</td>\n",
       "      <td>5.0</td>\n",
       "      <td>5</td>\n",
       "    </tr>\n",
       "    <tr>\n",
       "      <th>...</th>\n",
       "      <td>...</td>\n",
       "      <td>...</td>\n",
       "      <td>...</td>\n",
       "      <td>...</td>\n",
       "      <td>...</td>\n",
       "      <td>...</td>\n",
       "      <td>...</td>\n",
       "      <td>...</td>\n",
       "      <td>...</td>\n",
       "      <td>...</td>\n",
       "      <td>...</td>\n",
       "      <td>...</td>\n",
       "      <td>...</td>\n",
       "      <td>...</td>\n",
       "      <td>...</td>\n",
       "      <td>...</td>\n",
       "      <td>...</td>\n",
       "      <td>...</td>\n",
       "      <td>...</td>\n",
       "      <td>...</td>\n",
       "      <td>...</td>\n",
       "    </tr>\n",
       "    <tr>\n",
       "      <th>496</th>\n",
       "      <td>chrM</td>\n",
       "      <td>15596</td>\n",
       "      <td>15596G</td>\n",
       "      <td>C</td>\n",
       "      <td>NaN</td>\n",
       "      <td>NaN</td>\n",
       "      <td>NaN</td>\n",
       "      <td>NaN</td>\n",
       "      <td>15596G&gt;C</td>\n",
       "      <td>NaN</td>\n",
       "      <td>...</td>\n",
       "      <td>NaN</td>\n",
       "      <td>NaN</td>\n",
       "      <td>NaN</td>\n",
       "      <td>NaN</td>\n",
       "      <td>1.000000</td>\n",
       "      <td>0.021713</td>\n",
       "      <td>0.0</td>\n",
       "      <td>0.0</td>\n",
       "      <td>173.0</td>\n",
       "      <td>497</td>\n",
       "    </tr>\n",
       "    <tr>\n",
       "      <th>497</th>\n",
       "      <td>chrM</td>\n",
       "      <td>15784</td>\n",
       "      <td>15784T</td>\n",
       "      <td>C</td>\n",
       "      <td>NaN</td>\n",
       "      <td>NaN</td>\n",
       "      <td>NaN</td>\n",
       "      <td>NaN</td>\n",
       "      <td>15784T&gt;C</td>\n",
       "      <td>NaN</td>\n",
       "      <td>...</td>\n",
       "      <td>NaN</td>\n",
       "      <td>NaN</td>\n",
       "      <td>NaN</td>\n",
       "      <td>NaN</td>\n",
       "      <td>0.999269</td>\n",
       "      <td>0.358081</td>\n",
       "      <td>1.0</td>\n",
       "      <td>1.0</td>\n",
       "      <td>176.0</td>\n",
       "      <td>498</td>\n",
       "    </tr>\n",
       "    <tr>\n",
       "      <th>498</th>\n",
       "      <td>chrM</td>\n",
       "      <td>16433</td>\n",
       "      <td>16433A</td>\n",
       "      <td>T</td>\n",
       "      <td>NaN</td>\n",
       "      <td>NaN</td>\n",
       "      <td>NaN</td>\n",
       "      <td>NaN</td>\n",
       "      <td>16433A&gt;T</td>\n",
       "      <td>NaN</td>\n",
       "      <td>...</td>\n",
       "      <td>NaN</td>\n",
       "      <td>NaN</td>\n",
       "      <td>NaN</td>\n",
       "      <td>NaN</td>\n",
       "      <td>0.997595</td>\n",
       "      <td>0.011517</td>\n",
       "      <td>0.0</td>\n",
       "      <td>0.0</td>\n",
       "      <td>193.0</td>\n",
       "      <td>499</td>\n",
       "    </tr>\n",
       "    <tr>\n",
       "      <th>499</th>\n",
       "      <td>chrM</td>\n",
       "      <td>16465</td>\n",
       "      <td>16465C</td>\n",
       "      <td>T</td>\n",
       "      <td>NaN</td>\n",
       "      <td>NaN</td>\n",
       "      <td>NaN</td>\n",
       "      <td>NaN</td>\n",
       "      <td>16465C&gt;T</td>\n",
       "      <td>NaN</td>\n",
       "      <td>...</td>\n",
       "      <td>NaN</td>\n",
       "      <td>NaN</td>\n",
       "      <td>NaN</td>\n",
       "      <td>NaN</td>\n",
       "      <td>0.998655</td>\n",
       "      <td>0.101256</td>\n",
       "      <td>1.0</td>\n",
       "      <td>0.0</td>\n",
       "      <td>194.0</td>\n",
       "      <td>500</td>\n",
       "    </tr>\n",
       "    <tr>\n",
       "      <th>500</th>\n",
       "      <td>chrM</td>\n",
       "      <td>16477</td>\n",
       "      <td>16477G</td>\n",
       "      <td>A</td>\n",
       "      <td>NaN</td>\n",
       "      <td>NaN</td>\n",
       "      <td>NaN</td>\n",
       "      <td>NaN</td>\n",
       "      <td>16477G&gt;A</td>\n",
       "      <td>NaN</td>\n",
       "      <td>...</td>\n",
       "      <td>NaN</td>\n",
       "      <td>NaN</td>\n",
       "      <td>NaN</td>\n",
       "      <td>NaN</td>\n",
       "      <td>0.981775</td>\n",
       "      <td>0.010420</td>\n",
       "      <td>0.0</td>\n",
       "      <td>0.0</td>\n",
       "      <td>195.0</td>\n",
       "      <td>501</td>\n",
       "    </tr>\n",
       "  </tbody>\n",
       "</table>\n",
       "<p>501 rows × 21 columns</p>\n",
       "</div>"
      ],
      "text/plain": [
       "    #CHROM    POS     REF ALT  strand_correlation_x     vmr_x  \\\n",
       "0     chrM     62     62G   C              1.000000  0.023067   \n",
       "1     chrM     73     73A   G              0.997152  0.327625   \n",
       "2     chrM    150    150C   T              0.977417  0.624277   \n",
       "3     chrM    195    195T   C              0.986475  1.003792   \n",
       "4     chrM    248    248A   G              0.768094  4.211685   \n",
       "..     ...    ...     ...  ..                   ...       ...   \n",
       "496   chrM  15596  15596G   C                   NaN       NaN   \n",
       "497   chrM  15784  15784T   C                   NaN       NaN   \n",
       "498   chrM  16433  16433A   T                   NaN       NaN   \n",
       "499   chrM  16465  16465C   T                   NaN       NaN   \n",
       "500   chrM  16477  16477G   A                   NaN       NaN   \n",
       "\n",
       "     n_cells_over_5_x  n_cells_over_20_x     index  \\\n",
       "0                 0.0                0.0     62G>C   \n",
       "1               329.0              329.0     73A>G   \n",
       "2               177.0              177.0    150C>T   \n",
       "3                22.0               22.0    195T>C   \n",
       "4                95.0               88.0    248A>G   \n",
       "..                ...                ...       ...   \n",
       "496               NaN                NaN  15596G>C   \n",
       "497               NaN                NaN  15784T>C   \n",
       "498               NaN                NaN  16433A>T   \n",
       "499               NaN                NaN  16465C>T   \n",
       "500               NaN                NaN  16477G>A   \n",
       "\n",
       "     old output/clones/CHIP_april08_2021/MTblacklist/Control/filters/minC10_minR50_topN0_hetT0.001_hetC10_hetCount5_bq20/filter_mgatk/vireoIn  \\\n",
       "0                                                  1.0                                                                                          \n",
       "1                                                  2.0                                                                                          \n",
       "2                                                  3.0                                                                                          \n",
       "3                                                  4.0                                                                                          \n",
       "4                                                  5.0                                                                                          \n",
       "..                                                 ...                                                                                          \n",
       "496                                                NaN                                                                                          \n",
       "497                                                NaN                                                                                          \n",
       "498                                                NaN                                                                                          \n",
       "499                                                NaN                                                                                          \n",
       "500                                                NaN                                                                                          \n",
       "\n",
       "     ...     vmr_y  n_cells_over_5_y  n_cells_over_20_y  \\\n",
       "0    ...       NaN               NaN                NaN   \n",
       "1    ...  0.339238            2823.0             2751.0   \n",
       "2    ...  0.801082             727.0              676.0   \n",
       "3    ...  0.668427            1125.0             1047.0   \n",
       "4    ...  1.708703             247.0              227.0   \n",
       "..   ...       ...               ...                ...   \n",
       "496  ...       NaN               NaN                NaN   \n",
       "497  ...       NaN               NaN                NaN   \n",
       "498  ...       NaN               NaN                NaN   \n",
       "499  ...       NaN               NaN                NaN   \n",
       "500  ...       NaN               NaN                NaN   \n",
       "\n",
       "     old output/clones/CHIP_april08_2021/MTblacklist/Flt3l/filters/minC10_minR50_topN0_hetT0.001_hetC10_hetCount5_bq20/filter_mgatk/vireoIn  \\\n",
       "0                                                  NaN                                                                                        \n",
       "1                                                  3.0                                                                                        \n",
       "2                                                 10.0                                                                                        \n",
       "3                                                 11.0                                                                                        \n",
       "4                                                 13.0                                                                                        \n",
       "..                                                 ...                                                                                        \n",
       "496                                                NaN                                                                                        \n",
       "497                                                NaN                                                                                        \n",
       "498                                                NaN                                                                                        \n",
       "499                                                NaN                                                                                        \n",
       "500                                                NaN                                                                                        \n",
       "\n",
       "     strand_correlation       vmr  n_cells_over_5  n_cells_over_20  \\\n",
       "0                   NaN       NaN             NaN              NaN   \n",
       "1              0.996919  0.382955           119.0            116.0   \n",
       "2              0.979327  0.670372            61.0             49.0   \n",
       "3              0.990257  0.623396            44.0             31.0   \n",
       "4              0.705534  4.216593            24.0             14.0   \n",
       "..                  ...       ...             ...              ...   \n",
       "496            1.000000  0.021713             0.0              0.0   \n",
       "497            0.999269  0.358081             1.0              1.0   \n",
       "498            0.997595  0.011517             0.0              0.0   \n",
       "499            0.998655  0.101256             1.0              0.0   \n",
       "500            0.981775  0.010420             0.0              0.0   \n",
       "\n",
       "     old output/clones/CHIP_april08_2021/MTblacklist/Input/filters/minC10_minR50_topN0_hetT0.001_hetC10_hetCount5_bq20/filter_mgatk/vireoIn  \\\n",
       "0                                                  NaN                                                                                        \n",
       "1                                                  1.0                                                                                        \n",
       "2                                                  3.0                                                                                        \n",
       "3                                                  4.0                                                                                        \n",
       "4                                                  5.0                                                                                        \n",
       "..                                                 ...                                                                                        \n",
       "496                                              173.0                                                                                        \n",
       "497                                              176.0                                                                                        \n",
       "498                                              193.0                                                                                        \n",
       "499                                              194.0                                                                                        \n",
       "500                                              195.0                                                                                        \n",
       "\n",
       "     new ID  \n",
       "0         1  \n",
       "1         2  \n",
       "2         3  \n",
       "3         4  \n",
       "4         5  \n",
       "..      ...  \n",
       "496     497  \n",
       "497     498  \n",
       "498     499  \n",
       "499     500  \n",
       "500     501  \n",
       "\n",
       "[501 rows x 21 columns]"
      ]
     },
     "execution_count": 8,
     "metadata": {},
     "output_type": "execute_result"
    }
   ],
   "source": [
    "vars_df = pd.read_csv(vars_f, sep=\"\\t\")\n",
    "vars_df.head()"
   ]
  },
  {
   "cell_type": "code",
   "execution_count": 9,
   "metadata": {
    "ExecuteTime": {
     "end_time": "2021-06-04T00:01:31.359353Z",
     "start_time": "2021-06-04T00:01:31.319596Z"
    }
   },
   "outputs": [
    {
     "name": "stdout",
     "output_type": "stream",
     "text": [
      "cells_meta                            ID              raw ID  new index condition\n",
      "0  AAACTGCTCTCGCGGA-1_Control  AAACTGCTCTCGCGGA-1          1   Control\n",
      "1  AAAGATGCAGCAACGA-1_Control  AAAGATGCAGCAACGA-1          2   Control\n",
      "2  AAAGGATGTGCTGTGC-1_Control  AAAGGATGTGCTGTGC-1          3   Control\n",
      "3  AAAGGATTCAAAGTAG-1_Control  AAAGGATTCAAAGTAG-1          4   Control\n",
      "4  AAATGCCCAGAAAGAG-1_Control  AAATGCCCAGAAAGAG-1          5   Control\n",
      "sample_names {0: 'Control', 1: 'Flt3l', 2: 'Input'}\n"
     ]
    }
   ],
   "source": [
    "# columns are 'ID', 'raw ID', and 'new index'. The first contains the\n",
    "# suffix with the old id, the new index contains the mapping to the\n",
    "# outputted subsampled cells, which is 1-based, and the raw ID is the initial cell IDs without the suffix.   \n",
    "cells_meta = pd.read_csv(cells_meta_f, sep=\"\\t\")\n",
    "cells_meta = cells_meta.sort_values('new index')\n",
    "print('cells_meta', cells_meta.head())\n",
    "sample_names = {ind:val for ind,val in enumerate(sample_names.split(\",\"))}\n",
    "print('sample_names', sample_names)"
   ]
  },
  {
   "cell_type": "code",
   "execution_count": 10,
   "metadata": {
    "ExecuteTime": {
     "end_time": "2021-06-04T00:01:39.093995Z",
     "start_time": "2021-06-04T00:01:31.361239Z"
    },
    "execution": {
     "iopub.execute_input": "2021-01-27T08:30:58.733722Z",
     "iopub.status.busy": "2021-01-27T08:30:58.731514Z",
     "iopub.status.idle": "2021-01-27T08:31:11.479507Z",
     "shell.execute_reply": "2021-01-27T08:31:11.480844Z"
    },
    "papermill": {
     "duration": 12.824224,
     "end_time": "2021-01-27T08:31:11.481566",
     "exception": false,
     "start_time": "2021-01-27T08:30:58.657342",
     "status": "completed"
    },
    "scrolled": true,
    "tags": []
   },
   "outputs": [
    {
     "name": "stdout",
     "output_type": "stream",
     "text": [
      "AD_shape (501, 4875)\n"
     ]
    }
   ],
   "source": [
    "AD = mmread(AD_F).tocsc()\n",
    "DP = mmread(DP_F).tocsc()\n",
    "AD_shape = AD.todense().shape\n",
    "print('AD_shape', AD_shape)\n",
    "assert(AD_shape[1]) == cells_meta.shape[0] # These should match up."
   ]
  },
  {
   "cell_type": "markdown",
   "metadata": {},
   "source": [
    "## Add in cell IDs to get sample information"
   ]
  },
  {
   "cell_type": "markdown",
   "metadata": {},
   "source": [
    "# 2 Run vireo to demultiplex"
   ]
  },
  {
   "cell_type": "code",
   "execution_count": 12,
   "metadata": {
    "ExecuteTime": {
     "end_time": "2021-06-04T00:03:07.416891Z",
     "start_time": "2021-06-04T00:01:39.122123Z"
    },
    "code_folding": [],
    "scrolled": true
   },
   "outputs": [
    {
     "name": "stdout",
     "output_type": "stream",
     "text": [
      "[-27201189.73224294, -15811409.036806732, -15811692.466763288, -44698434.16964744, -15705760.610887088, -38177472.236864865, -15821288.370389711, -42457358.209209755, -27344836.203591138, -12061983.04760196, -48543999.383025475, -15785355.327925645, -15819806.927582353, -30255320.24821002, -15802656.024770442, -29771089.148540534, -15790418.454248108, -12060910.319169093, -41051832.827251166, -36514298.68444948, -15824095.569554988, -15712628.571714338, -34789348.722992085, -34896369.668881744, -34694885.12986001, -29824196.221229427, -15788932.240609836, -15790205.193308331, -15801375.228465822, -42448986.23156028, -15819939.504941717, -34784472.224586986, -15785175.497192666, -27689802.911736667, -46180782.15417795, -15813896.09054565, -15819666.446659341, -15802090.280994538, -43053379.68344566, -33735622.15474787, -15685436.359729603, -46461988.30699509, -15821021.044842314, -15790782.855768315, -15802794.13364264, -29793165.427807003, -15806282.256952431, -34783878.09614192, -34684514.64197641, -15782430.187774323]\n"
     ]
    },
    {
     "data": {
      "image/png": "[encoded data removed]",
      "text/plain": [
       "<Figure size 792x288 with 2 Axes>"
      ]
     },
     "metadata": {
      "needs_background": "light"
     },
     "output_type": "display_data"
    }
   ],
   "source": [
    "modelCA, elbo = run_vireo(AD, DP, N_DONORS, n_cores=cores, plot_qc=True,out_f=join(OUTDIR, \"donors\"))\n",
    "try:\n",
    "    doublet_prob = modelCA.predict_doublet(AD, DP, update_GT=False, update_ID=False)[0].sum(axis=1)\n",
    "except AttributeError: # New version of Vireo 2021\n",
    "    doublet_prob = vireoSNP.utils.vireo_doublet.predict_doublet(modelCA,AD, DP, update_GT=False, update_ID=False)[0].sum(axis=1)"
   ]
  },
  {
   "cell_type": "markdown",
   "metadata": {},
   "source": [
    "## Extract donors"
   ]
  },
  {
   "cell_type": "code",
   "execution_count": 14,
   "metadata": {
    "ExecuteTime": {
     "end_time": "2021-06-04T00:03:17.066713Z",
     "start_time": "2021-06-04T00:03:07.466307Z"
    },
    "scrolled": true
   },
   "outputs": [
    {
     "name": "stderr",
     "output_type": "stream",
     "text": [
      "ic| 'Before filtering'\n",
      "ic| cells_meta.shape: (4875, 4)\n",
      "ic| 'After filtering'\n",
      "ic| cells_meta.shape: (4875, 5)\n",
      "ic| allAD.shape: (501, 4875)\n",
      "ic| len(curr_dp[\"Cell\"].unique())-len(keep_inds): 0\n",
      "ic| cells_meta.shape: (4875, 7)\n"
     ]
    },
    {
     "name": "stdout",
     "output_type": "stream",
     "text": [
      "donor 0: 1157 cells \n",
      "(63547, 3)\n",
      "(63547, 3)\n",
      "donor0\n"
     ]
    },
    {
     "name": "stderr",
     "output_type": "stream",
     "text": [
      "ic| len(curr_dp[\"Cell\"].unique())-len(keep_inds): 0\n",
      "ic| cells_meta.shape: (4875, 7)\n"
     ]
    },
    {
     "name": "stdout",
     "output_type": "stream",
     "text": [
      "donor 1: 967 cells \n",
      "(49638, 3)\n",
      "(49638, 3)\n",
      "donor1\n"
     ]
    },
    {
     "name": "stderr",
     "output_type": "stream",
     "text": [
      "ic| len(curr_dp[\"Cell\"].unique())-len(keep_inds): 0\n",
      "ic| cells_meta.shape: (4875, 7)\n"
     ]
    },
    {
     "name": "stdout",
     "output_type": "stream",
     "text": [
      "donor 2: 849 cells \n",
      "(26893, 3)\n",
      "(26893, 3)\n",
      "donor2\n"
     ]
    },
    {
     "name": "stderr",
     "output_type": "stream",
     "text": [
      "ic| len(curr_dp[\"Cell\"].unique())-len(keep_inds): 0\n",
      "ic| cells_meta.shape: (4875, 7)\n"
     ]
    },
    {
     "name": "stdout",
     "output_type": "stream",
     "text": [
      "donor 3: 799 cells \n",
      "(42863, 3)\n",
      "(42863, 3)\n",
      "donor3\n"
     ]
    },
    {
     "name": "stderr",
     "output_type": "stream",
     "text": [
      "ic| len(curr_dp[\"Cell\"].unique())-len(keep_inds): 0\n",
      "ic| cells_meta.shape: (4875, 7)\n"
     ]
    },
    {
     "name": "stdout",
     "output_type": "stream",
     "text": [
      "donor 4: 808 cells \n",
      "(25873, 3)\n",
      "(25873, 3)\n",
      "donor4\n"
     ]
    },
    {
     "data": {
      "text/plain": [
       "{0: array([   3,    5,    7, ..., 4849, 4850, 4859]),\n",
       " 1: array([  61,   99,  120,  147,  206,  237,  243,  306,  325,  330,  350,\n",
       "         376,  404,  407,  427,  428,  433,  475,  493,  498,  500,  501,\n",
       "         507,  509,  516,  523,  535,  542,  543,  550,  554,  555,  560,\n",
       "         563,  567,  570,  572,  573,  583,  585,  587,  590,  591,  593,\n",
       "         601,  603,  606,  610,  612,  629,  632,  633,  635,  645,  647,\n",
       "         658,  659,  664,  667,  669,  671,  678,  680,  681,  683,  695,\n",
       "         697,  698,  699,  704,  720,  723,  730,  752,  753,  755,  778,\n",
       "         780,  788,  789,  790,  795,  796,  804,  805,  807,  826,  829,\n",
       "         836,  837,  842,  847,  848,  849,  855,  862,  864,  869,  878,\n",
       "         880,  884,  888,  891,  895,  900,  908,  931,  937,  947,  953,\n",
       "         957,  959,  960,  962,  966,  968,  982,  983,  985,  996, 1001,\n",
       "        1002, 1009, 1023, 1024, 1029, 1033, 1034, 1035, 1036, 1038, 1051,\n",
       "        1052, 1056, 1058, 1083, 1086, 1087, 1089, 1092, 1094, 1109, 1112,\n",
       "        1121, 1123, 1127, 1135, 1142, 1155, 1156, 1162, 1166, 1167, 1175,\n",
       "        1176, 1186, 1205, 1209, 1210, 1214, 1225, 1228, 1229, 1233, 1237,\n",
       "        1239, 1246, 1247, 1255, 1257, 1260, 1266, 1269, 1272, 1277, 1280,\n",
       "        1284, 1285, 1288, 1292, 1293, 1298, 1303, 1306, 1312, 1316, 1318,\n",
       "        1320, 1325, 1337, 1339, 1340, 1349, 1350, 1353, 1361, 1363, 1365,\n",
       "        1366, 1372, 1373, 1374, 1385, 1389, 1398, 1409, 1414, 1418, 1419,\n",
       "        1434, 1438, 1440, 1444, 1454, 1463, 1471, 1483, 1484, 1491, 1494,\n",
       "        1495, 1500, 1502, 1510, 1521, 1523, 1530, 1532, 1538, 1542, 1544,\n",
       "        1554, 1561, 1573, 1574, 1585, 1601, 1602, 1605, 1608, 1610, 1616,\n",
       "        1637, 1655, 1672, 1674, 1686, 1693, 1701, 1705, 1707, 1708, 1711,\n",
       "        1723, 1724, 1728, 1730, 1732, 1736, 1737, 1738, 1745, 1747, 1758,\n",
       "        1771, 1787, 1795, 1805, 1807, 1813, 1814, 1815, 1825, 1833, 1838,\n",
       "        1843, 1844, 1853, 1868, 1870, 1876, 1882, 1885, 1889, 1890, 1891,\n",
       "        1892, 1894, 1898, 1901, 1903, 1905, 1907, 1909, 1912, 1915, 1927,\n",
       "        1936, 1938, 1945, 1946, 1954, 1956, 1959, 1960, 1961, 1963, 1968,\n",
       "        1973, 1976, 1979, 1994, 1996, 2002, 2005, 2007, 2016, 2018, 2020,\n",
       "        2025, 2026, 2028, 2037, 2039, 2042, 2043, 2045, 2052, 2060, 2067,\n",
       "        2070, 2072, 2078, 2079, 2095, 2098, 2104, 2113, 2117, 2119, 2120,\n",
       "        2132, 2134, 2141, 2143, 2148, 2155, 2156, 2161, 2164, 2165, 2167,\n",
       "        2169, 2172, 2173, 2180, 2181, 2194, 2197, 2204, 2205, 2206, 2207,\n",
       "        2229, 2232, 2233, 2243, 2245, 2247, 2250, 2252, 2254, 2256, 2259,\n",
       "        2261, 2262, 2273, 2286, 2287, 2291, 2292, 2297, 2306, 2313, 2329,\n",
       "        2331, 2334, 2338, 2339, 2342, 2343, 2344, 2346, 2347, 2348, 2350,\n",
       "        2353, 2357, 2362, 2364, 2367, 2377, 2378, 2381, 2383, 2386, 2388,\n",
       "        2389, 2395, 2396, 2399, 2402, 2406, 2408, 2419, 2446, 2448, 2454,\n",
       "        2460, 2467, 2472, 2484, 2494, 2496, 2506, 2509, 2517, 2518, 2519,\n",
       "        2524, 2525, 2526, 2528, 2536, 2546, 2547, 2548, 2549, 2556, 2557,\n",
       "        2558, 2560, 2563, 2565, 2569, 2573, 2593, 2596, 2599, 2605, 2608,\n",
       "        2620, 2626, 2627, 2630, 2631, 2635, 2645, 2647, 2653, 2655, 2657,\n",
       "        2659, 2661, 2668, 2681, 2687, 2690, 2692, 2693, 2696, 2698, 2699,\n",
       "        2701, 2708, 2711, 2717, 2735, 2739, 2742, 2743, 2748, 2753, 2755,\n",
       "        2757, 2760, 2765, 2768, 2777, 2778, 2779, 2780, 2784, 2785, 2786,\n",
       "        2791, 2792, 2795, 2799, 2801, 2802, 2805, 2806, 2812, 2817, 2819,\n",
       "        2823, 2826, 2830, 2831, 2841, 2845, 2848, 2851, 2856, 2858, 2866,\n",
       "        2867, 2869, 2876, 2878, 2894, 2898, 2900, 2905, 2906, 2907, 2910,\n",
       "        2913, 2921, 2925, 2934, 2937, 2942, 2946, 2948, 2949, 2956, 2966,\n",
       "        2969, 2971, 2975, 2988, 2992, 2994, 2995, 3001, 3008, 3010, 3017,\n",
       "        3032, 3036, 3037, 3043, 3046, 3050, 3052, 3054, 3057, 3060, 3072,\n",
       "        3077, 3080, 3088, 3090, 3092, 3094, 3097, 3101, 3105, 3110, 3111,\n",
       "        3113, 3118, 3121, 3124, 3127, 3139, 3140, 3141, 3147, 3158, 3159,\n",
       "        3160, 3164, 3166, 3169, 3176, 3177, 3180, 3181, 3183, 3187, 3194,\n",
       "        3202, 3206, 3212, 3213, 3218, 3220, 3225, 3226, 3238, 3239, 3244,\n",
       "        3258, 3259, 3260, 3268, 3273, 3275, 3278, 3281, 3283, 3284, 3285,\n",
       "        3286, 3288, 3294, 3299, 3302, 3303, 3305, 3306, 3313, 3314, 3317,\n",
       "        3319, 3324, 3327, 3331, 3332, 3338, 3346, 3363, 3367, 3369, 3376,\n",
       "        3379, 3382, 3396, 3400, 3404, 3409, 3413, 3417, 3418, 3420, 3422,\n",
       "        3424, 3428, 3434, 3436, 3437, 3439, 3441, 3445, 3448, 3449, 3456,\n",
       "        3457, 3461, 3471, 3473, 3488, 3489, 3493, 3495, 3500, 3508, 3515,\n",
       "        3516, 3523, 3524, 3529, 3532, 3535, 3541, 3542, 3544, 3546, 3555,\n",
       "        3556, 3560, 3562, 3563, 3564, 3575, 3576, 3591, 3592, 3600, 3601,\n",
       "        3604, 3606, 3611, 3612, 3615, 3620, 3621, 3625, 3628, 3629, 3632,\n",
       "        3636, 3637, 3642, 3644, 3647, 3653, 3654, 3656, 3663, 3665, 3680,\n",
       "        3684, 3687, 3708, 3712, 3717, 3723, 3724, 3729, 3740, 3756, 3761,\n",
       "        3762, 3765, 3777, 3789, 3791, 3805, 3806, 3807, 3824, 3826, 3829,\n",
       "        3833, 3834, 3835, 3840, 3843, 3849, 3851, 3855, 3859, 3861, 3867,\n",
       "        3874, 3875, 3877, 3883, 3884, 3887, 3889, 3892, 3905, 3906, 3908,\n",
       "        3913, 3922, 3924, 3927, 3936, 3937, 3941, 3945, 3946, 3949, 3952,\n",
       "        3956, 3957, 3967, 3969, 3973, 3976, 3980, 3988, 3992, 3995, 4003,\n",
       "        4005, 4013, 4015, 4027, 4029, 4030, 4033, 4034, 4035, 4037, 4039,\n",
       "        4040, 4046, 4050, 4053, 4057, 4060, 4066, 4068, 4069, 4071, 4073,\n",
       "        4076, 4083, 4084, 4092, 4095, 4096, 4098, 4104, 4108, 4116, 4117,\n",
       "        4130, 4132, 4145, 4152, 4161, 4163, 4166, 4167, 4169, 4170, 4174,\n",
       "        4179, 4187, 4188, 4189, 4194, 4205, 4208, 4214, 4221, 4224, 4225,\n",
       "        4226, 4227, 4233, 4237, 4238, 4239, 4242, 4245, 4251, 4253, 4260,\n",
       "        4261, 4265, 4267, 4285, 4288, 4294, 4295, 4296, 4298, 4306, 4309,\n",
       "        4321, 4322, 4325, 4332, 4341, 4342, 4343, 4344, 4351, 4352, 4353,\n",
       "        4362, 4368, 4371, 4373, 4376, 4386, 4387, 4390, 4394, 4395, 4397,\n",
       "        4401, 4404, 4405, 4407, 4415, 4423, 4424, 4430, 4437, 4442, 4450,\n",
       "        4455, 4457, 4459, 4466, 4468, 4488, 4491, 4492, 4494, 4495, 4499,\n",
       "        4504, 4507, 4508, 4512, 4517, 4518, 4521, 4525, 4534, 4537, 4539,\n",
       "        4544, 4550, 4552, 4570, 4580, 4585, 4589, 4593, 4594, 4599, 4600,\n",
       "        4610, 4612, 4614, 4619, 4620, 4626, 4627, 4635, 4643, 4644, 4649,\n",
       "        4658, 4659, 4660, 4662, 4668, 4677, 4679, 4686, 4694, 4701, 4706,\n",
       "        4707, 4709, 4715, 4716, 4722, 4726, 4734, 4735, 4754, 4759, 4767,\n",
       "        4797, 4798, 4809, 4812, 4813, 4816, 4822, 4858, 4868, 4872]),\n",
       " 2: array([   2,    8,   11,   14,   25,   40,   41,   47,   62,   78,   84,\n",
       "          91,   92,   93,   94,  100,  102,  103,  114,  115,  119,  125,\n",
       "         137,  140,  148,  151,  156,  169,  170,  174,  180,  184,  187,\n",
       "         188,  192,  194,  199,  202,  203,  213,  228,  229,  230,  251,\n",
       "         261,  266,  267,  271,  279,  282,  285,  287,  295,  296,  303,\n",
       "         315,  320,  328,  352,  354,  358,  370,  375,  377,  379,  380,\n",
       "         383,  391,  400,  416,  423,  426,  431,  437,  443,  464,  467,\n",
       "         469,  485,  490,  494,  496,  499,  504,  508,  512,  517,  518,\n",
       "         527,  529,  531,  536,  538,  541,  547,  557,  568,  571,  575,\n",
       "         581,  584,  589,  600,  614,  615,  616,  620,  625,  631,  636,\n",
       "         646,  653,  656,  657,  666,  674,  676,  708,  709,  713,  717,\n",
       "         718,  721,  725,  726,  732,  735,  737,  739,  740,  754,  766,\n",
       "         770,  775,  781,  787,  792,  797,  801,  806,  808,  811,  814,\n",
       "         817,  819,  852,  860,  868,  870,  877,  886,  887,  909,  914,\n",
       "         919,  924,  927,  935,  936,  941,  952,  954,  961,  965,  969,\n",
       "         972,  974,  977,  988,  993, 1000, 1011, 1025, 1026, 1041, 1043,\n",
       "        1044, 1048, 1050, 1054, 1060, 1082, 1084, 1088, 1098, 1136, 1138,\n",
       "        1139, 1141, 1144, 1153, 1160, 1169, 1172, 1193, 1195, 1206, 1211,\n",
       "        1212, 1213, 1215, 1220, 1222, 1227, 1234, 1238, 1254, 1256, 1258,\n",
       "        1265, 1274, 1287, 1296, 1302, 1313, 1314, 1315, 1319, 1321, 1322,\n",
       "        1324, 1326, 1328, 1329, 1338, 1343, 1344, 1348, 1352, 1359, 1367,\n",
       "        1369, 1376, 1379, 1383, 1387, 1390, 1397, 1403, 1405, 1407, 1410,\n",
       "        1411, 1416, 1420, 1421, 1423, 1428, 1429, 1448, 1449, 1453, 1457,\n",
       "        1462, 1466, 1469, 1475, 1476, 1477, 1485, 1486, 1504, 1508, 1513,\n",
       "        1514, 1520, 1527, 1528, 1540, 1547, 1549, 1556, 1557, 1564, 1565,\n",
       "        1566, 1567, 1571, 1576, 1580, 1583, 1592, 1593, 1594, 1600, 1613,\n",
       "        1615, 1632, 1633, 1639, 1641, 1642, 1650, 1656, 1657, 1665, 1673,\n",
       "        1681, 1691, 1694, 1698, 1699, 1703, 1718, 1726, 1739, 1748, 1750,\n",
       "        1754, 1756, 1759, 1770, 1775, 1776, 1783, 1785, 1800, 1803, 1806,\n",
       "        1812, 1818, 1822, 1824, 1830, 1845, 1864, 1884, 1893, 1896, 1900,\n",
       "        1916, 1917, 1919, 1924, 1928, 1931, 1962, 1967, 1974, 1977, 1980,\n",
       "        1982, 1988, 1989, 1991, 1992, 1997, 2003, 2006, 2013, 2019, 2021,\n",
       "        2027, 2031, 2036, 2038, 2041, 2046, 2053, 2061, 2063, 2081, 2083,\n",
       "        2089, 2092, 2112, 2114, 2122, 2126, 2127, 2136, 2140, 2150, 2151,\n",
       "        2152, 2157, 2158, 2166, 2170, 2187, 2209, 2221, 2222, 2227, 2230,\n",
       "        2265, 2267, 2276, 2280, 2284, 2288, 2295, 2302, 2307, 2310, 2312,\n",
       "        2319, 2324, 2328, 2330, 2335, 2337, 2340, 2341, 2351, 2359, 2360,\n",
       "        2365, 2366, 2370, 2391, 2394, 2398, 2401, 2403, 2409, 2416, 2418,\n",
       "        2420, 2421, 2427, 2435, 2436, 2438, 2440, 2450, 2452, 2458, 2466,\n",
       "        2485, 2486, 2487, 2489, 2491, 2499, 2501, 2504, 2508, 2515, 2520,\n",
       "        2530, 2531, 2533, 2539, 2571, 2583, 2587, 2589, 2591, 2597, 2610,\n",
       "        2612, 2615, 2616, 2617, 2623, 2624, 2629, 2642, 2643, 2648, 2652,\n",
       "        2658, 2673, 2675, 2691, 2697, 2705, 2706, 2716, 2741, 2745, 2752,\n",
       "        2759, 2761, 2766, 2774, 2781, 2783, 2789, 2796, 2804, 2813, 2815,\n",
       "        2816, 2820, 2822, 2838, 2840, 2846, 2850, 2853, 2854, 2861, 2862,\n",
       "        2863, 2864, 2873, 2875, 2882, 2886, 2908, 2920, 2922, 2926, 2928,\n",
       "        2931, 2954, 2957, 2958, 2962, 2970, 2973, 2979, 2981, 2990, 3002,\n",
       "        3003, 3007, 3012, 3016, 3023, 3027, 3030, 3035, 3041, 3045, 3064,\n",
       "        3065, 3068, 3078, 3079, 3085, 3091, 3098, 3099, 3102, 3106, 3112,\n",
       "        3114, 3117, 3119, 3126, 3132, 3133, 3137, 3142, 3145, 3162, 3163,\n",
       "        3170, 3182, 3184, 3186, 3190, 3193, 3197, 3198, 3200, 3201, 3221,\n",
       "        3227, 3228, 3231, 3232, 3236, 3237, 3241, 3243, 3249, 3252, 3255,\n",
       "        3257, 3261, 3267, 3270, 3274, 3276, 3282, 3292, 3296, 3298, 3300,\n",
       "        3307, 3310, 3312, 3329, 3335, 3336, 3347, 3349, 3358, 3361, 3364,\n",
       "        3370, 3378, 3381, 3386, 3388, 3398, 3401, 3405, 3407, 3423, 3425,\n",
       "        3427, 3431, 3442, 3452, 3455, 3459, 3463, 3466, 3468, 3474, 3476,\n",
       "        3482, 3501, 3506, 3513, 3514, 3518, 3519, 3522, 3533, 3534, 3536,\n",
       "        3537, 3540, 3547, 3549, 3550, 3557, 3567, 3568, 3569, 3573, 3574,\n",
       "        3579, 3582, 3583, 3587, 3593, 3595, 3597, 3610, 3613, 3624, 3638,\n",
       "        3655, 3660, 3667, 3668, 3674, 3685, 3688, 3689, 3691, 3693, 3695,\n",
       "        3696, 3699, 3706, 3711, 3716, 3728, 3731, 3737, 3743, 3751, 3755,\n",
       "        3775, 3812, 3814, 3816, 3820, 3822, 3839, 3842, 3852, 3853, 3862,\n",
       "        3886, 3897, 3909, 3910, 3912, 3921, 3923, 3939, 3940, 3942, 3958,\n",
       "        3975, 3977, 3981, 3983, 3986, 3993, 3996, 4006, 4016, 4017, 4018,\n",
       "        4023, 4026, 4028, 4032, 4036, 4038, 4048, 4061, 4075, 4080, 4081,\n",
       "        4088, 4089, 4091, 4093, 4101, 4106, 4112, 4114, 4121, 4129, 4134,\n",
       "        4139, 4140, 4142, 4147, 4150, 4158, 4159, 4160, 4164, 4165, 4168,\n",
       "        4175, 4183, 4195, 4197, 4200, 4203, 4207, 4213, 4220, 4222, 4236,\n",
       "        4243, 4244, 4247, 4268, 4272, 4276, 4281, 4286, 4289, 4291, 4292,\n",
       "        4293, 4299, 4300, 4302, 4303, 4308, 4315, 4326, 4338, 4345, 4346,\n",
       "        4347, 4361, 4363, 4365, 4378, 4382, 4383, 4392, 4400, 4419, 4429,\n",
       "        4431, 4432, 4433, 4434, 4444, 4467, 4479, 4482, 4484, 4503, 4506,\n",
       "        4515, 4519, 4532, 4546, 4547, 4556, 4560, 4564, 4566, 4573, 4574,\n",
       "        4577, 4591, 4597, 4606, 4616, 4621, 4623, 4624, 4632, 4634, 4641,\n",
       "        4645, 4665, 4669, 4680, 4691, 4693, 4699, 4714, 4727, 4729, 4740,\n",
       "        4749, 4751, 4760, 4761, 4773, 4778, 4779, 4786, 4791, 4795, 4796,\n",
       "        4807, 4808, 4819, 4823, 4834, 4838, 4852, 4861, 4863, 4867, 4869,\n",
       "        4873, 4874]),\n",
       " 3: array([   0,    1,    6,   10,   24,   27,   28,   30,   31,   34,   35,\n",
       "          42,   44,   49,   50,   53,   55,   56,   58,   60,   63,   65,\n",
       "          66,   67,   70,   71,   72,   74,   81,   83,   85,   87,   97,\n",
       "          98,  105,  106,  107,  110,  111,  112,  116,  121,  122,  126,\n",
       "         130,  132,  133,  134,  135,  138,  139,  142,  143,  145,  149,\n",
       "         150,  152,  153,  157,  158,  160,  161,  162,  164,  175,  176,\n",
       "         177,  182,  185,  186,  196,  204,  208,  210,  211,  216,  217,\n",
       "         218,  219,  222,  223,  227,  233,  234,  235,  238,  246,  247,\n",
       "         253,  254,  255,  257,  258,  264,  268,  269,  273,  277,  278,\n",
       "         280,  286,  298,  299,  300,  304,  305,  307,  309,  319,  322,\n",
       "         324,  332,  333,  336,  338,  339,  340,  341,  343,  349,  351,\n",
       "         353,  355,  356,  362,  365,  366,  367,  368,  371,  373,  374,\n",
       "         382,  388,  392,  393,  396,  399,  402,  405,  406,  408,  409,\n",
       "         410,  411,  415,  417,  418,  419,  422,  424,  425,  429,  434,\n",
       "         438,  445,  447,  449,  452,  454,  456,  461,  463,  468,  470,\n",
       "         472,  477,  480,  481,  484,  488,  492,  495,  503,  506,  515,\n",
       "         521,  522,  524,  528,  530,  544,  546,  558,  566,  574,  595,\n",
       "         596,  598,  608,  609,  618,  621,  627,  628,  630,  634,  639,\n",
       "         642,  644,  650,  651,  652,  654,  675,  684,  686,  688,  693,\n",
       "         714,  751,  757,  771,  777,  782,  793,  800,  810,  825,  828,\n",
       "         832,  851,  867,  875,  879,  894,  896,  902,  903,  917,  918,\n",
       "         929,  942,  945,  946,  951,  970,  971,  978,  981, 1006, 1007,\n",
       "        1020, 1021, 1045, 1046, 1049, 1065, 1066, 1067, 1068, 1073, 1080,\n",
       "        1081, 1091, 1093, 1105, 1106, 1111, 1113, 1114, 1115, 1132, 1158,\n",
       "        1178, 1183, 1188, 1191, 1198, 1199, 1219, 1224, 1232, 1244, 1248,\n",
       "        1273, 1290, 1300, 1305, 1330, 1331, 1333, 1345, 1371, 1381, 1382,\n",
       "        1391, 1394, 1399, 1415, 1417, 1425, 1426, 1427, 1430, 1435, 1439,\n",
       "        1442, 1447, 1450, 1456, 1461, 1465, 1467, 1474, 1478, 1479, 1488,\n",
       "        1490, 1512, 1517, 1529, 1534, 1536, 1541, 1548, 1550, 1555, 1558,\n",
       "        1562, 1563, 1579, 1589, 1590, 1597, 1598, 1606, 1607, 1609, 1614,\n",
       "        1624, 1627, 1631, 1636, 1638, 1640, 1644, 1647, 1652, 1667, 1679,\n",
       "        1683, 1685, 1687, 1704, 1709, 1720, 1721, 1729, 1731, 1733, 1742,\n",
       "        1744, 1746, 1753, 1760, 1761, 1768, 1773, 1778, 1779, 1780, 1784,\n",
       "        1789, 1798, 1799, 1809, 1811, 1817, 1819, 1820, 1829, 1839, 1841,\n",
       "        1847, 1859, 1861, 1865, 1873, 1880, 1887, 1897, 1899, 1918, 1922,\n",
       "        1932, 1942, 1947, 1952, 1953, 1969, 1972, 1981, 1986, 1990, 2000,\n",
       "        2008, 2024, 2040, 2047, 2059, 2062, 2065, 2068, 2074, 2082, 2085,\n",
       "        2087, 2091, 2102, 2105, 2106, 2115, 2125, 2133, 2144, 2147, 2149,\n",
       "        2177, 2191, 2192, 2193, 2208, 2211, 2212, 2215, 2216, 2220, 2224,\n",
       "        2225, 2231, 2237, 2239, 2244, 2251, 2253, 2258, 2272, 2275, 2285,\n",
       "        2296, 2311, 2325, 2354, 2355, 2372, 2374, 2379, 2380, 2384, 2385,\n",
       "        2404, 2410, 2412, 2415, 2417, 2439, 2443, 2457, 2462, 2465, 2469,\n",
       "        2476, 2480, 2482, 2493, 2497, 2513, 2516, 2521, 2522, 2540, 2544,\n",
       "        2551, 2554, 2555, 2594, 2598, 2606, 2637, 2638, 2639, 2650, 2651,\n",
       "        2666, 2667, 2669, 2672, 2678, 2679, 2680, 2686, 2688, 2694, 2695,\n",
       "        2702, 2703, 2713, 2719, 2720, 2727, 2730, 2731, 2733, 2751, 2769,\n",
       "        2798, 2803, 2807, 2811, 2821, 2828, 2833, 2834, 2844, 2855, 2860,\n",
       "        2865, 2879, 2880, 2883, 2884, 2887, 2888, 2893, 2899, 2902, 2904,\n",
       "        2911, 2914, 2924, 2947, 2974, 2983, 3000, 3013, 3015, 3018, 3024,\n",
       "        3025, 3031, 3042, 3048, 3053, 3061, 3062, 3067, 3075, 3082, 3084,\n",
       "        3086, 3107, 3109, 3116, 3128, 3135, 3150, 3154, 3156, 3175, 3178,\n",
       "        3189, 3191, 3196, 3199, 3203, 3205, 3207, 3210, 3216, 3222, 3234,\n",
       "        3246, 3248, 3262, 3266, 3287, 3295, 3311, 3323, 3328, 3333, 3343,\n",
       "        3352, 3355, 3365, 3372, 3374, 3375, 3403, 3410, 3414, 3426, 3429,\n",
       "        3433, 3440, 3444, 3447, 3450, 3451, 3464, 3465, 3467, 3475, 3479,\n",
       "        3484, 3496, 3509, 3525, 3527, 3539, 3543, 3558, 3561, 3565, 3566,\n",
       "        3570, 3571, 3586, 3594, 3605, 3607, 3609, 3622, 3633, 3679, 3702,\n",
       "        3705, 3707, 3710, 3720, 3726, 3732, 3735, 3738, 3739, 3741, 3742,\n",
       "        3745, 3749, 3772, 3778, 3780, 3782, 3784, 3785, 3786, 3796, 3799,\n",
       "        3827, 3830, 3831, 3844, 3845, 3847, 3848, 3856, 3857, 3858, 3863,\n",
       "        3868, 3873, 3878, 3879, 3888, 3891, 3894, 3901, 3925, 3926, 3931,\n",
       "        3933, 3943, 3950, 3959, 3960, 3971, 3974, 3984, 3987, 4007, 4010,\n",
       "        4044, 4065, 4067, 4087, 4097, 4109, 4115, 4118, 4125, 4126, 4131,\n",
       "        4154, 4162, 4171, 4172, 4186, 4234, 4246, 4250, 4254, 4255, 4262,\n",
       "        4270, 4271, 4274, 4275, 4282, 4290, 4304, 4305, 4311, 4313, 4316,\n",
       "        4320, 4324, 4331, 4334, 4335, 4348, 4354, 4359, 4366, 4367, 4380,\n",
       "        4384, 4396, 4409, 4422, 4425, 4427, 4439, 4441, 4446, 4448, 4469,\n",
       "        4485, 4498, 4501, 4509, 4523, 4526, 4530, 4531, 4541, 4554, 4555,\n",
       "        4569, 4575, 4578, 4581, 4587, 4590, 4603, 4607, 4608, 4630, 4637,\n",
       "        4664, 4673, 4674, 4676, 4678, 4682, 4685, 4687, 4698, 4703, 4718,\n",
       "        4721, 4733, 4738, 4741, 4743, 4745, 4747, 4755, 4757, 4762, 4763,\n",
       "        4768, 4776, 4785, 4787, 4788, 4789, 4790, 4794, 4800, 4805, 4814,\n",
       "        4830, 4832, 4835, 4851, 4857, 4862, 4870]),\n",
       " 4: array([   4,   18,   19,   21,   23,   37,   38,   48,   59,   64,   75,\n",
       "          79,   89,   90,   95,  101,  104,  109,  117,  141,  144,  146,\n",
       "         159,  165,  168,  179,  189,  191,  195,  207,  214,  215,  225,\n",
       "         231,  240,  241,  242,  249,  250,  252,  256,  260,  262,  265,\n",
       "         283,  311,  313,  314,  317,  318,  321,  323,  335,  342,  344,\n",
       "         348,  359,  361,  369,  386,  395,  398,  432,  435,  436,  441,\n",
       "         442,  444,  448,  450,  451,  455,  457,  458,  460,  462,  476,\n",
       "         478,  479,  486,  489,  497,  502,  505,  511,  525,  537,  540,\n",
       "         545,  551,  553,  562,  565,  569,  577,  579,  592,  594,  599,\n",
       "         604,  605,  607,  613,  619,  626,  638,  643,  662,  663,  668,\n",
       "         673,  677,  679,  682,  687,  689,  691,  692,  696,  701,  702,\n",
       "         705,  706,  707,  711,  712,  719,  722,  724,  733,  734,  738,\n",
       "         742,  744,  746,  748,  759,  765,  767,  774,  776,  779,  785,\n",
       "         786,  794,  798,  799,  803,  809,  815,  820,  823,  833,  835,\n",
       "         838,  845,  856,  861,  863,  873,  881,  883,  885,  890,  893,\n",
       "         898,  899,  904,  905,  906,  907,  910,  916,  920,  926,  933,\n",
       "         938,  944,  949,  967,  973,  979,  990,  994,  997, 1004, 1008,\n",
       "        1010, 1014, 1031, 1037, 1040, 1057, 1064, 1070, 1078, 1079, 1096,\n",
       "        1099, 1110, 1116, 1118, 1119, 1124, 1125, 1129, 1130, 1131, 1140,\n",
       "        1145, 1148, 1150, 1154, 1170, 1174, 1177, 1179, 1180, 1184, 1185,\n",
       "        1196, 1200, 1201, 1202, 1217, 1221, 1226, 1230, 1236, 1240, 1243,\n",
       "        1270, 1275, 1281, 1286, 1289, 1294, 1295, 1297, 1301, 1304, 1307,\n",
       "        1317, 1327, 1332, 1335, 1336, 1346, 1354, 1358, 1368, 1377, 1378,\n",
       "        1380, 1386, 1392, 1402, 1404, 1406, 1408, 1412, 1443, 1452, 1455,\n",
       "        1459, 1464, 1472, 1473, 1482, 1487, 1492, 1499, 1501, 1506, 1507,\n",
       "        1515, 1519, 1522, 1526, 1535, 1560, 1568, 1569, 1588, 1591, 1599,\n",
       "        1622, 1623, 1625, 1628, 1635, 1643, 1659, 1661, 1668, 1669, 1670,\n",
       "        1678, 1680, 1706, 1712, 1715, 1722, 1740, 1741, 1749, 1752, 1755,\n",
       "        1757, 1774, 1786, 1794, 1802, 1816, 1821, 1823, 1827, 1834, 1837,\n",
       "        1852, 1858, 1867, 1874, 1878, 1879, 1881, 1895, 1902, 1910, 1934,\n",
       "        1943, 1949, 1950, 1970, 1975, 1984, 1998, 1999, 2009, 2014, 2029,\n",
       "        2032, 2033, 2049, 2050, 2054, 2056, 2073, 2077, 2084, 2093, 2094,\n",
       "        2099, 2103, 2108, 2110, 2111, 2116, 2128, 2129, 2130, 2131, 2145,\n",
       "        2146, 2154, 2159, 2163, 2168, 2171, 2176, 2185, 2190, 2198, 2199,\n",
       "        2200, 2203, 2219, 2226, 2236, 2238, 2246, 2249, 2255, 2257, 2260,\n",
       "        2264, 2270, 2271, 2283, 2290, 2293, 2308, 2315, 2318, 2320, 2321,\n",
       "        2326, 2332, 2336, 2345, 2373, 2382, 2407, 2422, 2423, 2426, 2430,\n",
       "        2431, 2432, 2433, 2442, 2449, 2461, 2463, 2468, 2471, 2473, 2477,\n",
       "        2479, 2483, 2510, 2535, 2537, 2541, 2553, 2562, 2567, 2568, 2575,\n",
       "        2576, 2581, 2586, 2588, 2602, 2611, 2613, 2618, 2619, 2622, 2636,\n",
       "        2644, 2654, 2663, 2664, 2665, 2676, 2683, 2684, 2700, 2721, 2722,\n",
       "        2725, 2740, 2756, 2758, 2773, 2775, 2782, 2788, 2790, 2800, 2808,\n",
       "        2818, 2825, 2827, 2829, 2832, 2835, 2839, 2842, 2843, 2868, 2872,\n",
       "        2874, 2877, 2903, 2912, 2915, 2916, 2917, 2923, 2936, 2938, 2941,\n",
       "        2943, 2944, 2953, 2961, 2965, 2967, 2968, 2976, 2978, 2984, 2986,\n",
       "        2991, 2993, 2997, 3004, 3029, 3034, 3038, 3039, 3056, 3058, 3059,\n",
       "        3071, 3073, 3076, 3083, 3087, 3096, 3100, 3103, 3108, 3129, 3134,\n",
       "        3143, 3144, 3149, 3173, 3174, 3179, 3204, 3209, 3211, 3223, 3230,\n",
       "        3235, 3242, 3263, 3269, 3277, 3290, 3297, 3316, 3320, 3350, 3353,\n",
       "        3354, 3356, 3360, 3362, 3371, 3389, 3391, 3399, 3412, 3421, 3435,\n",
       "        3438, 3446, 3454, 3458, 3460, 3462, 3469, 3472, 3481, 3487, 3490,\n",
       "        3491, 3494, 3502, 3505, 3510, 3511, 3521, 3528, 3530, 3531, 3548,\n",
       "        3572, 3580, 3584, 3585, 3590, 3598, 3599, 3618, 3623, 3626, 3631,\n",
       "        3635, 3639, 3640, 3645, 3650, 3657, 3661, 3664, 3676, 3692, 3697,\n",
       "        3709, 3715, 3722, 3730, 3746, 3747, 3752, 3754, 3760, 3767, 3795,\n",
       "        3804, 3808, 3809, 3811, 3813, 3817, 3819, 3821, 3823, 3828, 3832,\n",
       "        3836, 3837, 3838, 3841, 3850, 3854, 3860, 3864, 3866, 3876, 3880,\n",
       "        3881, 3890, 3899, 3900, 3903, 3904, 3911, 3915, 3920, 3932, 3935,\n",
       "        3951, 3953, 3954, 3961, 3965, 3970, 3972, 3978, 3979, 3982, 3989,\n",
       "        3991, 3994, 3998, 3999, 4002, 4004, 4009, 4019, 4020, 4031, 4041,\n",
       "        4043, 4047, 4056, 4070, 4072, 4078, 4085, 4086, 4100, 4102, 4103,\n",
       "        4107, 4119, 4122, 4135, 4137, 4138, 4144, 4148, 4149, 4155, 4173,\n",
       "        4176, 4177, 4178, 4181, 4184, 4185, 4190, 4192, 4198, 4202, 4209,\n",
       "        4210, 4215, 4219, 4229, 4231, 4232, 4241, 4248, 4259, 4264, 4277,\n",
       "        4279, 4283, 4284, 4287, 4307, 4317, 4318, 4349, 4357, 4360, 4364,\n",
       "        4370, 4381, 4385, 4388, 4389, 4391, 4402, 4410, 4414, 4416, 4418,\n",
       "        4436, 4449, 4451, 4453, 4460, 4462, 4470, 4474, 4475, 4477, 4478,\n",
       "        4483, 4493, 4505, 4520, 4528, 4533, 4535, 4538, 4543, 4551, 4557,\n",
       "        4562, 4563, 4565, 4568, 4576, 4583, 4592, 4602, 4615, 4617, 4628,\n",
       "        4640, 4642, 4646, 4648, 4653, 4655, 4670, 4672, 4681, 4689, 4702,\n",
       "        4710, 4712, 4717, 4724, 4725, 4730, 4744, 4748, 4750, 4753, 4764,\n",
       "        4769, 4771, 4772, 4774, 4775, 4780, 4781, 4784, 4793, 4801, 4820,\n",
       "        4821, 4826, 4828, 4829, 4831, 4837, 4839, 4843, 4846, 4847, 4848,\n",
       "        4853, 4854, 4855, 4864, 4865])}"
      ]
     },
     "execution_count": 14,
     "metadata": {},
     "output_type": "execute_result"
    }
   ],
   "source": [
    "cell_clusters = separate_donors(AD, DP, modelCA, cells_meta, OUTDIR,\n",
    "                    doublet_prob,\n",
    "                    prob_thresh = 0.9, doublet_thresh = 0.9, vars_meta=vars_df)\n",
    "cell_clusters"
   ]
  },
  {
   "cell_type": "code",
   "execution_count": 15,
   "metadata": {
    "ExecuteTime": {
     "end_time": "2021-06-04T00:10:46.544198Z",
     "start_time": "2021-06-04T00:03:17.069130Z"
    },
    "scrolled": true
   },
   "outputs": [],
   "source": [
    "if to_elbo:\n",
    "    run_elbo(AD, DP, out_f=join(OUTDIR, \"donors_elbo\"), \n",
    "             n_clone_list=np.arange(N_DONORS-2, N_DONORS+3), \n",
    "             n_cores=cores, cells_meta=cells_meta, save_clusters=False,)"
   ]
  },
  {
   "cell_type": "code",
   "execution_count": null,
   "metadata": {},
   "outputs": [],
   "source": [
    "del AD\n",
    "del DP"
   ]
  },
  {
   "cell_type": "code",
   "execution_count": 18,
   "metadata": {
    "ExecuteTime": {
     "end_time": "2021-06-04T03:11:54.154777Z",
     "start_time": "2021-06-04T00:45:00.501888Z"
    },
    "code_folding": [
     0
    ],
    "scrolled": true
   },
   "outputs": [
    {
     "name": "stdout",
     "output_type": "stream",
     "text": [
      "     condition\n",
      "99     Control\n",
      "2479     Flt3l\n",
      "3929     Flt3l\n",
      "1104     Flt3l\n",
      "1005     Flt3l\n",
      "clustering\n",
      "cmap Oranges\n",
      "AF_SNPs shape (501, 5)\n",
      "clustering\n",
      "cmap Blues\n"
     ]
    },
    {
     "data": {
      "image/png": "[encoded data removed]",
      "text/plain": [
       "<Figure size 720x720 with 5 Axes>"
      ]
     },
     "metadata": {
      "needs_background": "light"
     },
     "output_type": "display_data"
    },
    {
     "data": {
      "image/png": "[encoded data removed]",
      "text/plain": [
       "<Figure size 720x720 with 4 Axes>"
      ]
     },
     "metadata": {
      "needs_background": "light"
     },
     "output_type": "display_data"
    }
   ],
   "source": [
    "clust_df, AF_SNPs = plot_vireo_out(modelCA, out_f=join(OUTDIR, \"multiplex_clusters_all\"), labels=cells_meta[['condition']],\n",
    "                                   to_sqrt=False, doublet_prob=doublet_prob)"
   ]
  },
  {
   "cell_type": "code",
   "execution_count": 19,
   "metadata": {
    "ExecuteTime": {
     "end_time": "2021-06-04T00:44:52.260773Z",
     "start_time": "2021-06-04T00:01:29.513Z"
    },
    "scrolled": true
   },
   "outputs": [
    {
     "name": "stdout",
     "output_type": "stream",
     "text": [
      "Control\n",
      "             AF 1          AF 2          AF 3          AF 4          AF 5  \\\n",
      "0    8.900741e-08  2.955996e-07  3.613367e-07  1.000000e+00  3.791257e-07   \n",
      "1    3.321712e-07  1.916231e-07  3.850723e-07  1.000000e+00  4.657328e-07   \n",
      "2    1.642030e-07  4.370559e-07  1.000000e+00  2.628009e-07  3.347530e-07   \n",
      "3    1.000000e+00  1.461447e-07  3.129095e-07  8.128027e-08  1.524805e-07   \n",
      "4    8.023494e-08  1.028992e-07  3.508634e-07  2.569419e-07  1.000000e+00   \n",
      "..            ...           ...           ...           ...           ...   \n",
      "483  1.000000e+00  4.572545e-08  3.366103e-07  4.813930e-07  2.880732e-07   \n",
      "484  2.530552e-08  1.967406e-07  1.355653e-07  1.000000e+00  4.221106e-07   \n",
      "485  3.981223e-07  1.470963e-08  1.000000e+00  4.958245e-07  2.415997e-07   \n",
      "486  2.691848e-08  3.145965e-07  3.293653e-07  1.940845e-08  1.000000e+00   \n",
      "487  1.000000e+00  1.273918e-07  2.603210e-07  3.334061e-07  2.509885e-07   \n",
      "\n",
      "     Doublet  \n",
      "0        0.0  \n",
      "1        0.0  \n",
      "2        0.0  \n",
      "3        0.0  \n",
      "4        0.0  \n",
      "..       ...  \n",
      "483      0.0  \n",
      "484      0.0  \n",
      "485      0.0  \n",
      "486      0.0  \n",
      "487      0.0  \n",
      "\n",
      "[488 rows x 6 columns]\n",
      "clustering\n",
      "cmap Oranges\n",
      "Flt3l\n",
      "              AF 1          AF 2          AF 3          AF 4          AF 5  \\\n",
      "488   1.103788e-07  2.670637e-08  3.666455e-07  1.000000e+00  2.796606e-07   \n",
      "489   4.747532e-07  6.879707e-08  3.735756e-07  8.362815e-08  1.000000e+00   \n",
      "490   8.677195e-08  4.144266e-07  1.000000e+00  4.983702e-07  3.275447e-07   \n",
      "491   1.000000e+00  2.743316e-07  1.579721e-07  2.482042e-07  4.454147e-07   \n",
      "492   6.645653e-08  4.768889e-07  2.596937e-07  1.000000e+00  9.658633e-08   \n",
      "...            ...           ...           ...           ...           ...   \n",
      "4683  1.000000e+00  1.852932e-07  1.158099e-07  9.010871e-08  2.878405e-07   \n",
      "4684  1.000000e+00  1.104067e-07  3.342475e-07  4.966770e-07  4.327428e-07   \n",
      "4685  4.051657e-07  3.112313e-07  3.042105e-07  1.000000e+00  6.990958e-08   \n",
      "4686  4.413671e-07  1.000000e+00  4.419466e-07  3.349962e-07  4.858529e-07   \n",
      "4687  4.704561e-07  4.732990e-07  3.525926e-07  1.000000e+00  2.321995e-07   \n",
      "\n",
      "      Doublet  \n",
      "488       0.0  \n",
      "489       0.0  \n",
      "490       0.0  \n",
      "491       1.0  \n",
      "492       0.0  \n",
      "...       ...  \n",
      "4683      0.0  \n",
      "4684      0.0  \n",
      "4685      0.0  \n",
      "4686      0.0  \n",
      "4687      0.0  \n",
      "\n",
      "[4200 rows x 6 columns]\n",
      "clustering\n",
      "cmap Oranges\n",
      "Input\n",
      "              AF 1          AF 2          AF 3          AF 4          AF 5  \\\n",
      "4688  1.000000e+00  2.195208e-07  2.786631e-07  3.622033e-07  4.301056e-07   \n",
      "4689  4.400500e-07  4.463155e-07  2.077224e-07  2.787208e-07  1.000000e+00   \n",
      "4690  4.519386e-07  1.184684e-07  2.634037e-07  1.109916e-07  1.000000e+00   \n",
      "4691  1.140115e-07  2.027624e-07  1.000000e+00  1.697007e-07  4.416568e-07   \n",
      "4692  1.977030e-07  4.437412e-07  1.633533e-07  1.494261e-07  1.000000e+00   \n",
      "...            ...           ...           ...           ...           ...   \n",
      "4870  4.131322e-08  1.842727e-07  4.711416e-07  1.000000e+00  4.340124e-07   \n",
      "4871  1.000000e+00  9.778133e-08  7.671713e-08  4.164889e-07  2.595546e-07   \n",
      "4872  5.195214e-08  1.000000e+00  3.920018e-07  6.439397e-08  2.578861e-08   \n",
      "4873  3.617818e-07  4.465866e-07  1.000000e+00  3.836697e-07  3.042069e-07   \n",
      "4874  3.503513e-07  3.370822e-07  1.000000e+00  7.776338e-08  1.303039e-07   \n",
      "\n",
      "      Doublet  \n",
      "4688      0.0  \n",
      "4689      0.0  \n",
      "4690      1.0  \n",
      "4691      0.0  \n",
      "4692      1.0  \n",
      "...       ...  \n",
      "4870      0.0  \n",
      "4871      1.0  \n",
      "4872      0.0  \n",
      "4873      0.0  \n",
      "4874      0.0  \n",
      "\n",
      "[187 rows x 6 columns]\n",
      "clustering\n",
      "cmap Oranges\n"
     ]
    },
    {
     "data": {
      "text/plain": [
       "<Figure size 432x288 with 0 Axes>"
      ]
     },
     "metadata": {},
     "output_type": "display_data"
    },
    {
     "data": {
      "image/png": "[encoded data removed]",
      "text/plain": [
       "<Figure size 720x720 with 4 Axes>"
      ]
     },
     "metadata": {
      "needs_background": "light"
     },
     "output_type": "display_data"
    },
    {
     "data": {
      "text/plain": [
       "<Figure size 432x288 with 0 Axes>"
      ]
     },
     "metadata": {},
     "output_type": "display_data"
    },
    {
     "data": {
      "image/png": "[encoded data removed]",
      "text/plain": [
       "<Figure size 720x720 with 4 Axes>"
      ]
     },
     "metadata": {
      "needs_background": "light"
     },
     "output_type": "display_data"
    },
    {
     "data": {
      "text/plain": [
       "<Figure size 432x288 with 0 Axes>"
      ]
     },
     "metadata": {},
     "output_type": "display_data"
    },
    {
     "data": {
      "image/png": "[encoded data removed]",
      "text/plain": [
       "<Figure size 720x720 with 4 Axes>"
      ]
     },
     "metadata": {
      "needs_background": "light"
     },
     "output_type": "display_data"
    }
   ],
   "source": [
    "for ind, val in cells_meta.groupby(\"condition\"):\n",
    "    print(ind)\n",
    "    print(clust_df.loc[val.index]) #, curr_AF_SNPs\n",
    "    f = plt.figure()\n",
    "#     curr_AF_SNPs = AF_SNPs \n",
    "#     im = heat_matrix(np.sqrt(curr_AF_SNPs[(curr_AF_SNPs.sum(axis=1)>0.01),:]), cmap=\"Blues\", alpha=0.8,\n",
    "#             display_value=False, row_sort=True)\n",
    "    ch.plot_cluster(clust_df.loc[val.index], cmap='Oranges', alpha=0.8,\n",
    "                to_row_clust=True, to_col_clust=False,\n",
    "                to_legend=True,\n",
    "                white_name=None)\n",
    "    plt.suptitle(ind)\n",
    "    plt.savefig(join(OUTDIR, f\"multiplex_clusters_{ind}\"))"
   ]
  },
  {
   "cell_type": "code",
   "execution_count": 20,
   "metadata": {
    "ExecuteTime": {
     "end_time": "2021-06-04T00:44:52.262308Z",
     "start_time": "2021-06-04T00:01:29.515Z"
    },
    "scrolled": true
   },
   "outputs": [
    {
     "data": {
      "image/png": "[encoded data removed]",
      "text/plain": [
       "<Figure size 432x288 with 1 Axes>"
      ]
     },
     "metadata": {
      "needs_background": "light"
     },
     "output_type": "display_data"
    }
   ],
   "source": [
    "f = plt.figure()\n",
    "im = heat_matrix(np.sqrt(AF_SNPs[(AF_SNPs.sum(axis=1)>0.01),:]), cmap=\"Blues\", alpha=0.8,\n",
    "                 display_value=False, row_sort=True)\n",
    "plt.savefig(join(OUTDIR, \"multiplex_AF_SNPs_all_afFilt\"))"
   ]
  }
 ],
 "metadata": {
  "celltoolbar": "Tags",
  "kernelspec": {
   "display_name": "Python 3",
   "language": "python",
   "name": "python3"
  },
  "language_info": {
   "codemirror_mode": {
    "name": "ipython",
    "version": 3
   },
   "file_extension": ".py",
   "mimetype": "text/x-python",
   "name": "python",
   "nbconvert_exporter": "python",
   "pygments_lexer": "ipython3",
   "version": "3.6.13"
  },
  "papermill": {
   "default_parameters": {},
   "duration": 5560.364131,
   "end_time": "2021-01-27T10:03:31.625455",
   "environment_variables": {},
   "exception": null,
   "input_path": "/data2/mito_lineage/src/vireo/vireoSNP_clones.ipynb",
   "output_path": "results/jan21_2021/chrM/P2_cellSNP_minC200_minAF0.01/lineage_chrM.ipynb",
   "parameters": {
    "AD_F": "data/jan21_2021/chrM/P2_cellSNP_minC200_minAF0.01/cellSNP.tag.AD.mtx",
    "DP_F": "data/jan21_2021/chrM/P2_cellSNP_minC200_minAF0.01/cellSNP.tag.DP.mtx"
   },
   "start_time": "2021-01-27T08:30:51.261324",
   "version": "2.2.0"
  }
 },
 "nbformat": 4,
 "nbformat_minor": 4
}
