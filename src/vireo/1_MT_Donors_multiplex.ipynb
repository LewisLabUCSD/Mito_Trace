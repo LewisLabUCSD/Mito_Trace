{
 "cells": [
  {
   "cell_type": "markdown",
   "metadata": {
    "papermill": {
     "duration": 0.047745,
     "end_time": "2021-01-27T08:30:54.010679",
     "exception": false,
     "start_time": "2021-01-27T08:30:53.962934",
     "status": "completed"
    },
    "tags": []
   },
   "source": [
    "# Using vireo for multiplexing, followed by lineage tracing of those groups"
   ]
  },
  {
   "cell_type": "markdown",
   "metadata": {},
   "source": [
    "# 1. Change to analysis directory"
   ]
  },
  {
   "cell_type": "code",
   "execution_count": 1,
   "metadata": {
    "ExecuteTime": {
     "end_time": "2021-06-04T00:01:29.377696Z",
     "start_time": "2021-06-04T00:01:29.374601Z"
    }
   },
   "outputs": [],
   "source": [
    "import os\n",
    "os.chdir(\"/data2/mito_lineage\")#/Analysis/multiplex\")"
   ]
  },
  {
   "cell_type": "code",
   "execution_count": 2,
   "metadata": {
    "ExecuteTime": {
     "end_time": "2021-06-04T00:01:29.395300Z",
     "start_time": "2021-06-04T00:01:29.379755Z"
    },
    "scrolled": false
   },
   "outputs": [
    {
     "data": {
      "text/plain": [
       "'/data2/mito_lineage'"
      ]
     },
     "execution_count": 2,
     "metadata": {},
     "output_type": "execute_result"
    }
   ],
   "source": [
    "pwd"
   ]
  },
  {
   "cell_type": "markdown",
   "metadata": {},
   "source": [
    "### Remove this when running in snakemake"
   ]
  },
  {
   "cell_type": "markdown",
   "metadata": {},
   "source": [
    "## 1.1 Parameters"
   ]
  },
  {
   "cell_type": "code",
   "execution_count": 3,
   "metadata": {
    "ExecuteTime": {
     "end_time": "2021-06-04T00:01:29.413241Z",
     "start_time": "2021-06-04T00:01:29.410435Z"
    },
    "tags": [
     "parameters"
    ]
   },
   "outputs": [],
   "source": [
    "# INDIR= \"data/processed/mttrace/CHIP_april08_2021_Croker/MTblacklist/merged/MT/cellr_True/numread_200/filters/minC10_minR50_topN0_hetT0.001_hetC10_hetCount5_bq20/filter_mgatk/vireoIn\"\n",
    "# OUTDIR= \"data/processed/mttrace/CHIP_april08_2021_Croker/MTblacklist/merged/MT/cellr_True/numread_200/filters/minC10_minR50_topN0_hetT0.001_hetC10_hetCount5_bq20/filter_mgatk/vireoIn/multiplex\"\n",
    "# N_DONORS=5\n",
    "# sample_names=\"\" \n",
    "# to_elbo = False\n",
    "\n",
    "INDIR=\"output/clones/CHIP_april08_2021/MTblacklist/merged/filters/minC10_minR50_topN0_hetT0.001_hetC10_hetCount5_bq20/filter_mgatk/vireoIn\"\n",
    "OUTDIR=\"output/clones/CHIP_april08_2021/MTblacklist/merged/filters/minC10_minR50_topN0_hetT0.001_hetC10_hetCount5_bq20/filter_mgatk/vireoIn/multiplex\"\n",
    "N_DONORS=5\n",
    "sample_names=\"Control,Flt3l,Input\"\n",
    "to_elbo=False"
   ]
  },
  {
   "cell_type": "code",
   "execution_count": 4,
   "metadata": {
    "ExecuteTime": {
     "end_time": "2021-06-04T00:01:29.422032Z",
     "start_time": "2021-06-04T00:01:29.417721Z"
    }
   },
   "outputs": [],
   "source": [
    "# # Parameters\n",
    "# INDIR=\"data/CHIP_april08_2021/MTblacklist/chrM/pseudo/minC200_minAF0.0001/numC25000_ispropFalse/\"\n",
    "# #INDIR=\"data/jan21_2021/chrM/pseudo/minC200_minAF0.01/numC25000_ispropFalse/\"\n",
    "# N_DONORS=5\n",
    "# OUTDIR=\"\"#\"data/CHIP_april08_2021/MTblacklist/chrM/pseudo/minC200_minAF0.0001/numC25000_ispropFalse/flt3\"\n",
    "# #sample_csv=\"/data2/mito_lineage/parameters/CHIP_april08_2021/CHIP_april08_2021.csv\"\n",
    "# sample_names=\"\" #\"Control,Flt3l,Input\""
   ]
  },
  {
   "cell_type": "markdown",
   "metadata": {},
   "source": [
    "## 1.2 Import packages"
   ]
  },
  {
   "cell_type": "code",
   "execution_count": 5,
   "metadata": {
    "ExecuteTime": {
     "end_time": "2021-06-04T00:01:31.155755Z",
     "start_time": "2021-06-04T00:01:29.427932Z"
    },
    "scrolled": false
   },
   "outputs": [
    {
     "name": "stdout",
     "output_type": "stream",
     "text": [
      "0.5.6\n"
     ]
    }
   ],
   "source": [
    "from os.path import join, exists, dirname\n",
    "from glob import glob\n",
    "import mplh.cluster_help as ch\n",
    "import os\n",
    "from vireoSNP.plot.base_plot import heat_matrix\n",
    "from vireoSNP import Vireo\n",
    "import src.pseudo_batch as pb\n",
    "import vireoSNP\n",
    "print(vireoSNP.__version__)\n",
    "import numpy as np\n",
    "from scipy import sparse\n",
    "from scipy.io import mmread\n",
    "import matplotlib.pyplot as plt\n",
    "import pandas as pd\n",
    "import seaborn as sns\n",
    "from src.vireo.vireo_utils import run_vireo, plot_vireo_out, extract_clusters, run_elbo, separate_donors\n",
    "%load_ext autoreload\n",
    "%autoreload 2"
   ]
  },
  {
   "cell_type": "code",
   "execution_count": 6,
   "metadata": {
    "ExecuteTime": {
     "end_time": "2021-06-04T00:01:31.175538Z",
     "start_time": "2021-06-04T00:01:31.158256Z"
    },
    "execution": {
     "iopub.execute_input": "2021-01-27T08:30:58.591556Z",
     "iopub.status.busy": "2021-01-27T08:30:58.589747Z",
     "iopub.status.idle": "2021-01-27T08:30:58.595785Z",
     "shell.execute_reply": "2021-01-27T08:30:58.597375Z"
    },
    "papermill": {
     "duration": 0.08872,
     "end_time": "2021-01-27T08:30:58.597995",
     "exception": false,
     "start_time": "2021-01-27T08:30:58.509275",
     "status": "completed"
    },
    "tags": []
   },
   "outputs": [],
   "source": [
    "np.set_printoptions(formatter={'float': lambda x: format(x, '.5f')})"
   ]
  },
  {
   "cell_type": "markdown",
   "metadata": {},
   "source": [
    "## 1.3 Load"
   ]
  },
  {
   "cell_type": "code",
   "execution_count": 7,
   "metadata": {
    "ExecuteTime": {
     "end_time": "2021-06-04T00:01:31.195925Z",
     "start_time": "2021-06-04T00:01:31.178238Z"
    }
   },
   "outputs": [],
   "source": [
    "AD_F = join(INDIR, \"cellSNP.tag.AD.mtx\")\n",
    "DP_F = join(INDIR, \"cellSNP.tag.DP.mtx\")\n",
    "cell_inds_names = join(INDIR,\"cell_indices_*.txt\")\n",
    "cells_meta_f = join(INDIR, \"cells_meta.tsv\")\n",
    "vars_f = join(INDIR, \"cellSNP.base.vcf\")\n"
   ]
  },
  {
   "cell_type": "code",
   "execution_count": 8,
   "metadata": {
    "ExecuteTime": {
     "end_time": "2021-06-04T00:01:31.317536Z",
     "start_time": "2021-06-04T00:01:31.198078Z"
    }
   },
   "outputs": [
    {
     "data": {
      "text/html": [
       "<div>\n",
       "<style scoped>\n",
       "    .dataframe tbody tr th:only-of-type {\n",
       "        vertical-align: middle;\n",
       "    }\n",
       "\n",
       "    .dataframe tbody tr th {\n",
       "        vertical-align: top;\n",
       "    }\n",
       "\n",
       "    .dataframe thead th {\n",
       "        text-align: right;\n",
       "    }\n",
       "</style>\n",
       "<table border=\"1\" class=\"dataframe\">\n",
       "  <thead>\n",
       "    <tr style=\"text-align: right;\">\n",
       "      <th></th>\n",
       "      <th>index_x</th>\n",
       "      <th>#CHROM</th>\n",
       "      <th>POS</th>\n",
       "      <th>REF</th>\n",
       "      <th>ALT</th>\n",
       "      <th>strand_correlation_x</th>\n",
       "      <th>vmr_x</th>\n",
       "      <th>n_cells_over_5_x</th>\n",
       "      <th>n_cells_over_20_x</th>\n",
       "      <th>old output/clones/CHIP_april08_2021/MTblacklist/Control/filters/minC10_minR50_topN0_hetT0.001_hetC10_hetCount5_bq20/filter_mgatk/vireoIn</th>\n",
       "      <th>...</th>\n",
       "      <th>n_cells_over_5_y</th>\n",
       "      <th>n_cells_over_20_y</th>\n",
       "      <th>old output/clones/CHIP_april08_2021/MTblacklist/Flt3l/filters/minC10_minR50_topN0_hetT0.001_hetC10_hetCount5_bq20/filter_mgatk/vireoIn</th>\n",
       "      <th>index</th>\n",
       "      <th>strand_correlation</th>\n",
       "      <th>vmr</th>\n",
       "      <th>n_cells_over_5</th>\n",
       "      <th>n_cells_over_20</th>\n",
       "      <th>old output/clones/CHIP_april08_2021/MTblacklist/Input/filters/minC10_minR50_topN0_hetT0.001_hetC10_hetCount5_bq20/filter_mgatk/vireoIn</th>\n",
       "      <th>new ID</th>\n",
       "    </tr>\n",
       "  </thead>\n",
       "  <tbody>\n",
       "    <tr>\n",
       "      <th>0</th>\n",
       "      <td>62G&gt;C</td>\n",
       "      <td>chrM</td>\n",
       "      <td>62</td>\n",
       "      <td>62G</td>\n",
       "      <td>C</td>\n",
       "      <td>1.000000</td>\n",
       "      <td>0.023067</td>\n",
       "      <td>0.0</td>\n",
       "      <td>0.0</td>\n",
       "      <td>1.0</td>\n",
       "      <td>...</td>\n",
       "      <td>NaN</td>\n",
       "      <td>NaN</td>\n",
       "      <td>NaN</td>\n",
       "      <td>NaN</td>\n",
       "      <td>NaN</td>\n",
       "      <td>NaN</td>\n",
       "      <td>NaN</td>\n",
       "      <td>NaN</td>\n",
       "      <td>NaN</td>\n",
       "      <td>1</td>\n",
       "    </tr>\n",
       "    <tr>\n",
       "      <th>1</th>\n",
       "      <td>73A&gt;G</td>\n",
       "      <td>chrM</td>\n",
       "      <td>73</td>\n",
       "      <td>73A</td>\n",
       "      <td>G</td>\n",
       "      <td>0.997152</td>\n",
       "      <td>0.327625</td>\n",
       "      <td>329.0</td>\n",
       "      <td>329.0</td>\n",
       "      <td>2.0</td>\n",
       "      <td>...</td>\n",
       "      <td>2823.0</td>\n",
       "      <td>2751.0</td>\n",
       "      <td>3.0</td>\n",
       "      <td>73A&gt;G</td>\n",
       "      <td>0.996919</td>\n",
       "      <td>0.382955</td>\n",
       "      <td>119.0</td>\n",
       "      <td>116.0</td>\n",
       "      <td>1.0</td>\n",
       "      <td>2</td>\n",
       "    </tr>\n",
       "    <tr>\n",
       "      <th>2</th>\n",
       "      <td>150C&gt;T</td>\n",
       "      <td>chrM</td>\n",
       "      <td>150</td>\n",
       "      <td>150C</td>\n",
       "      <td>T</td>\n",
       "      <td>0.977417</td>\n",
       "      <td>0.624277</td>\n",
       "      <td>177.0</td>\n",
       "      <td>177.0</td>\n",
       "      <td>3.0</td>\n",
       "      <td>...</td>\n",
       "      <td>727.0</td>\n",
       "      <td>676.0</td>\n",
       "      <td>10.0</td>\n",
       "      <td>150C&gt;T</td>\n",
       "      <td>0.979327</td>\n",
       "      <td>0.670372</td>\n",
       "      <td>61.0</td>\n",
       "      <td>49.0</td>\n",
       "      <td>3.0</td>\n",
       "      <td>3</td>\n",
       "    </tr>\n",
       "    <tr>\n",
       "      <th>3</th>\n",
       "      <td>195T&gt;C</td>\n",
       "      <td>chrM</td>\n",
       "      <td>195</td>\n",
       "      <td>195T</td>\n",
       "      <td>C</td>\n",
       "      <td>0.986475</td>\n",
       "      <td>1.003792</td>\n",
       "      <td>22.0</td>\n",
       "      <td>22.0</td>\n",
       "      <td>4.0</td>\n",
       "      <td>...</td>\n",
       "      <td>1125.0</td>\n",
       "      <td>1047.0</td>\n",
       "      <td>11.0</td>\n",
       "      <td>195T&gt;C</td>\n",
       "      <td>0.990257</td>\n",
       "      <td>0.623396</td>\n",
       "      <td>44.0</td>\n",
       "      <td>31.0</td>\n",
       "      <td>4.0</td>\n",
       "      <td>4</td>\n",
       "    </tr>\n",
       "    <tr>\n",
       "      <th>4</th>\n",
       "      <td>248A&gt;G</td>\n",
       "      <td>chrM</td>\n",
       "      <td>248</td>\n",
       "      <td>248A</td>\n",
       "      <td>G</td>\n",
       "      <td>0.768094</td>\n",
       "      <td>4.211685</td>\n",
       "      <td>95.0</td>\n",
       "      <td>88.0</td>\n",
       "      <td>5.0</td>\n",
       "      <td>...</td>\n",
       "      <td>247.0</td>\n",
       "      <td>227.0</td>\n",
       "      <td>13.0</td>\n",
       "      <td>248A&gt;G</td>\n",
       "      <td>0.705534</td>\n",
       "      <td>4.216593</td>\n",
       "      <td>24.0</td>\n",
       "      <td>14.0</td>\n",
       "      <td>5.0</td>\n",
       "      <td>5</td>\n",
       "    </tr>\n",
       "    <tr>\n",
       "      <th>...</th>\n",
       "      <td>...</td>\n",
       "      <td>...</td>\n",
       "      <td>...</td>\n",
       "      <td>...</td>\n",
       "      <td>...</td>\n",
       "      <td>...</td>\n",
       "      <td>...</td>\n",
       "      <td>...</td>\n",
       "      <td>...</td>\n",
       "      <td>...</td>\n",
       "      <td>...</td>\n",
       "      <td>...</td>\n",
       "      <td>...</td>\n",
       "      <td>...</td>\n",
       "      <td>...</td>\n",
       "      <td>...</td>\n",
       "      <td>...</td>\n",
       "      <td>...</td>\n",
       "      <td>...</td>\n",
       "      <td>...</td>\n",
       "      <td>...</td>\n",
       "    </tr>\n",
       "    <tr>\n",
       "      <th>496</th>\n",
       "      <td>NaN</td>\n",
       "      <td>chrM</td>\n",
       "      <td>15596</td>\n",
       "      <td>15596G</td>\n",
       "      <td>C</td>\n",
       "      <td>NaN</td>\n",
       "      <td>NaN</td>\n",
       "      <td>NaN</td>\n",
       "      <td>NaN</td>\n",
       "      <td>NaN</td>\n",
       "      <td>...</td>\n",
       "      <td>NaN</td>\n",
       "      <td>NaN</td>\n",
       "      <td>NaN</td>\n",
       "      <td>15596G&gt;C</td>\n",
       "      <td>1.000000</td>\n",
       "      <td>0.021713</td>\n",
       "      <td>0.0</td>\n",
       "      <td>0.0</td>\n",
       "      <td>173.0</td>\n",
       "      <td>497</td>\n",
       "    </tr>\n",
       "    <tr>\n",
       "      <th>497</th>\n",
       "      <td>NaN</td>\n",
       "      <td>chrM</td>\n",
       "      <td>15784</td>\n",
       "      <td>15784T</td>\n",
       "      <td>C</td>\n",
       "      <td>NaN</td>\n",
       "      <td>NaN</td>\n",
       "      <td>NaN</td>\n",
       "      <td>NaN</td>\n",
       "      <td>NaN</td>\n",
       "      <td>...</td>\n",
       "      <td>NaN</td>\n",
       "      <td>NaN</td>\n",
       "      <td>NaN</td>\n",
       "      <td>15784T&gt;C</td>\n",
       "      <td>0.999269</td>\n",
       "      <td>0.358081</td>\n",
       "      <td>1.0</td>\n",
       "      <td>1.0</td>\n",
       "      <td>176.0</td>\n",
       "      <td>498</td>\n",
       "    </tr>\n",
       "    <tr>\n",
       "      <th>498</th>\n",
       "      <td>NaN</td>\n",
       "      <td>chrM</td>\n",
       "      <td>16433</td>\n",
       "      <td>16433A</td>\n",
       "      <td>T</td>\n",
       "      <td>NaN</td>\n",
       "      <td>NaN</td>\n",
       "      <td>NaN</td>\n",
       "      <td>NaN</td>\n",
       "      <td>NaN</td>\n",
       "      <td>...</td>\n",
       "      <td>NaN</td>\n",
       "      <td>NaN</td>\n",
       "      <td>NaN</td>\n",
       "      <td>16433A&gt;T</td>\n",
       "      <td>0.997595</td>\n",
       "      <td>0.011517</td>\n",
       "      <td>0.0</td>\n",
       "      <td>0.0</td>\n",
       "      <td>193.0</td>\n",
       "      <td>499</td>\n",
       "    </tr>\n",
       "    <tr>\n",
       "      <th>499</th>\n",
       "      <td>NaN</td>\n",
       "      <td>chrM</td>\n",
       "      <td>16465</td>\n",
       "      <td>16465C</td>\n",
       "      <td>T</td>\n",
       "      <td>NaN</td>\n",
       "      <td>NaN</td>\n",
       "      <td>NaN</td>\n",
       "      <td>NaN</td>\n",
       "      <td>NaN</td>\n",
       "      <td>...</td>\n",
       "      <td>NaN</td>\n",
       "      <td>NaN</td>\n",
       "      <td>NaN</td>\n",
       "      <td>16465C&gt;T</td>\n",
       "      <td>0.998655</td>\n",
       "      <td>0.101256</td>\n",
       "      <td>1.0</td>\n",
       "      <td>0.0</td>\n",
       "      <td>194.0</td>\n",
       "      <td>500</td>\n",
       "    </tr>\n",
       "    <tr>\n",
       "      <th>500</th>\n",
       "      <td>NaN</td>\n",
       "      <td>chrM</td>\n",
       "      <td>16477</td>\n",
       "      <td>16477G</td>\n",
       "      <td>A</td>\n",
       "      <td>NaN</td>\n",
       "      <td>NaN</td>\n",
       "      <td>NaN</td>\n",
       "      <td>NaN</td>\n",
       "      <td>NaN</td>\n",
       "      <td>...</td>\n",
       "      <td>NaN</td>\n",
       "      <td>NaN</td>\n",
       "      <td>NaN</td>\n",
       "      <td>16477G&gt;A</td>\n",
       "      <td>0.981775</td>\n",
       "      <td>0.010420</td>\n",
       "      <td>0.0</td>\n",
       "      <td>0.0</td>\n",
       "      <td>195.0</td>\n",
       "      <td>501</td>\n",
       "    </tr>\n",
       "  </tbody>\n",
       "</table>\n",
       "<p>501 rows × 23 columns</p>\n",
       "</div>"
      ],
      "text/plain": [
       "    index_x #CHROM    POS     REF ALT  strand_correlation_x     vmr_x  \\\n",
       "0     62G>C   chrM     62     62G   C              1.000000  0.023067   \n",
       "1     73A>G   chrM     73     73A   G              0.997152  0.327625   \n",
       "2    150C>T   chrM    150    150C   T              0.977417  0.624277   \n",
       "3    195T>C   chrM    195    195T   C              0.986475  1.003792   \n",
       "4    248A>G   chrM    248    248A   G              0.768094  4.211685   \n",
       "..      ...    ...    ...     ...  ..                   ...       ...   \n",
       "496     NaN   chrM  15596  15596G   C                   NaN       NaN   \n",
       "497     NaN   chrM  15784  15784T   C                   NaN       NaN   \n",
       "498     NaN   chrM  16433  16433A   T                   NaN       NaN   \n",
       "499     NaN   chrM  16465  16465C   T                   NaN       NaN   \n",
       "500     NaN   chrM  16477  16477G   A                   NaN       NaN   \n",
       "\n",
       "     n_cells_over_5_x  n_cells_over_20_x  \\\n",
       "0                 0.0                0.0   \n",
       "1               329.0              329.0   \n",
       "2               177.0              177.0   \n",
       "3                22.0               22.0   \n",
       "4                95.0               88.0   \n",
       "..                ...                ...   \n",
       "496               NaN                NaN   \n",
       "497               NaN                NaN   \n",
       "498               NaN                NaN   \n",
       "499               NaN                NaN   \n",
       "500               NaN                NaN   \n",
       "\n",
       "     old output/clones/CHIP_april08_2021/MTblacklist/Control/filters/minC10_minR50_topN0_hetT0.001_hetC10_hetCount5_bq20/filter_mgatk/vireoIn  \\\n",
       "0                                                  1.0                                                                                          \n",
       "1                                                  2.0                                                                                          \n",
       "2                                                  3.0                                                                                          \n",
       "3                                                  4.0                                                                                          \n",
       "4                                                  5.0                                                                                          \n",
       "..                                                 ...                                                                                          \n",
       "496                                                NaN                                                                                          \n",
       "497                                                NaN                                                                                          \n",
       "498                                                NaN                                                                                          \n",
       "499                                                NaN                                                                                          \n",
       "500                                                NaN                                                                                          \n",
       "\n",
       "     ... n_cells_over_5_y  n_cells_over_20_y  \\\n",
       "0    ...              NaN                NaN   \n",
       "1    ...           2823.0             2751.0   \n",
       "2    ...            727.0              676.0   \n",
       "3    ...           1125.0             1047.0   \n",
       "4    ...            247.0              227.0   \n",
       "..   ...              ...                ...   \n",
       "496  ...              NaN                NaN   \n",
       "497  ...              NaN                NaN   \n",
       "498  ...              NaN                NaN   \n",
       "499  ...              NaN                NaN   \n",
       "500  ...              NaN                NaN   \n",
       "\n",
       "     old output/clones/CHIP_april08_2021/MTblacklist/Flt3l/filters/minC10_minR50_topN0_hetT0.001_hetC10_hetCount5_bq20/filter_mgatk/vireoIn  \\\n",
       "0                                                  NaN                                                                                        \n",
       "1                                                  3.0                                                                                        \n",
       "2                                                 10.0                                                                                        \n",
       "3                                                 11.0                                                                                        \n",
       "4                                                 13.0                                                                                        \n",
       "..                                                 ...                                                                                        \n",
       "496                                                NaN                                                                                        \n",
       "497                                                NaN                                                                                        \n",
       "498                                                NaN                                                                                        \n",
       "499                                                NaN                                                                                        \n",
       "500                                                NaN                                                                                        \n",
       "\n",
       "        index  strand_correlation       vmr n_cells_over_5  n_cells_over_20  \\\n",
       "0         NaN                 NaN       NaN            NaN              NaN   \n",
       "1       73A>G            0.996919  0.382955          119.0            116.0   \n",
       "2      150C>T            0.979327  0.670372           61.0             49.0   \n",
       "3      195T>C            0.990257  0.623396           44.0             31.0   \n",
       "4      248A>G            0.705534  4.216593           24.0             14.0   \n",
       "..        ...                 ...       ...            ...              ...   \n",
       "496  15596G>C            1.000000  0.021713            0.0              0.0   \n",
       "497  15784T>C            0.999269  0.358081            1.0              1.0   \n",
       "498  16433A>T            0.997595  0.011517            0.0              0.0   \n",
       "499  16465C>T            0.998655  0.101256            1.0              0.0   \n",
       "500  16477G>A            0.981775  0.010420            0.0              0.0   \n",
       "\n",
       "     old output/clones/CHIP_april08_2021/MTblacklist/Input/filters/minC10_minR50_topN0_hetT0.001_hetC10_hetCount5_bq20/filter_mgatk/vireoIn  \\\n",
       "0                                                  NaN                                                                                        \n",
       "1                                                  1.0                                                                                        \n",
       "2                                                  3.0                                                                                        \n",
       "3                                                  4.0                                                                                        \n",
       "4                                                  5.0                                                                                        \n",
       "..                                                 ...                                                                                        \n",
       "496                                              173.0                                                                                        \n",
       "497                                              176.0                                                                                        \n",
       "498                                              193.0                                                                                        \n",
       "499                                              194.0                                                                                        \n",
       "500                                              195.0                                                                                        \n",
       "\n",
       "     new ID  \n",
       "0         1  \n",
       "1         2  \n",
       "2         3  \n",
       "3         4  \n",
       "4         5  \n",
       "..      ...  \n",
       "496     497  \n",
       "497     498  \n",
       "498     499  \n",
       "499     500  \n",
       "500     501  \n",
       "\n",
       "[501 rows x 23 columns]"
      ]
     },
     "execution_count": 8,
     "metadata": {},
     "output_type": "execute_result"
    }
   ],
   "source": [
    "vars_df = pd.read_csv(vars_f, sep=\"\\t\")\n",
    "vars_df"
   ]
  },
  {
   "cell_type": "code",
   "execution_count": 9,
   "metadata": {
    "ExecuteTime": {
     "end_time": "2021-06-04T00:01:31.359353Z",
     "start_time": "2021-06-04T00:01:31.319596Z"
    }
   },
   "outputs": [
    {
     "name": "stdout",
     "output_type": "stream",
     "text": [
      "cells_meta                            ID              raw ID  new index condition\n",
      "0  AAACTGCTCTCGCGGA-1_Control  AAACTGCTCTCGCGGA-1          1   Control\n",
      "1  AAAGATGCAGCAACGA-1_Control  AAAGATGCAGCAACGA-1          2   Control\n",
      "2  AAAGGATGTGCTGTGC-1_Control  AAAGGATGTGCTGTGC-1          3   Control\n",
      "3  AAAGGATTCAAAGTAG-1_Control  AAAGGATTCAAAGTAG-1          4   Control\n",
      "4  AAATGCCCAGAAAGAG-1_Control  AAATGCCCAGAAAGAG-1          5   Control\n",
      "sample_names {0: 'Control', 1: 'Flt3l', 2: 'Input'}\n"
     ]
    }
   ],
   "source": [
    "# columns are 'ID', 'raw ID', and 'new index'. The first contains the\n",
    "# suffix with the old id, the new index contains the mapping to the\n",
    "# outputted subsampled cells, which is 1-based, and the raw ID is the initial cell IDs without the suffix.   \n",
    "cells_meta = pd.read_csv(cells_meta_f, sep=\"\\t\")\n",
    "cells_meta = cells_meta.sort_values('new index')\n",
    "print('cells_meta', cells_meta.head())\n",
    "sample_names = {ind:val for ind,val in enumerate(sample_names.split(\",\"))}\n",
    "print('sample_names', sample_names)"
   ]
  },
  {
   "cell_type": "code",
   "execution_count": 10,
   "metadata": {
    "ExecuteTime": {
     "end_time": "2021-06-04T00:01:39.093995Z",
     "start_time": "2021-06-04T00:01:31.361239Z"
    },
    "execution": {
     "iopub.execute_input": "2021-01-27T08:30:58.733722Z",
     "iopub.status.busy": "2021-01-27T08:30:58.731514Z",
     "iopub.status.idle": "2021-01-27T08:31:11.479507Z",
     "shell.execute_reply": "2021-01-27T08:31:11.480844Z"
    },
    "papermill": {
     "duration": 12.824224,
     "end_time": "2021-01-27T08:31:11.481566",
     "exception": false,
     "start_time": "2021-01-27T08:30:58.657342",
     "status": "completed"
    },
    "scrolled": true,
    "tags": []
   },
   "outputs": [
    {
     "name": "stdout",
     "output_type": "stream",
     "text": [
      "AD_shape (501, 4875)\n"
     ]
    }
   ],
   "source": [
    "AD = mmread(AD_F).tocsc()\n",
    "DP = mmread(DP_F).tocsc()\n",
    "AD_shape = AD.todense().shape\n",
    "print('AD_shape', AD_shape)\n",
    "assert(AD_shape[1]) == cells_meta.shape[0] # These should match up."
   ]
  },
  {
   "cell_type": "markdown",
   "metadata": {},
   "source": [
    "## Add in cell IDs to get sample information"
   ]
  },
  {
   "cell_type": "code",
   "execution_count": 11,
   "metadata": {
    "ExecuteTime": {
     "end_time": "2021-06-04T00:01:39.120097Z",
     "start_time": "2021-06-04T00:01:39.096664Z"
    },
    "scrolled": true
   },
   "outputs": [],
   "source": [
    "# # A. \n",
    "# # Input: cell indices files, where first line is name of file, and the rest is a df with column header of 'old index', 'new index'\n",
    "# # Output: A. cell_map: Dictionary where each key is the sample file (relative), and the value is the 'new index' column. \n",
    "#         # B. in_cell_names: List of the keys, which are files\n",
    "# in_cell_f = glob(cell_inds_names)\n",
    "# print('cell inds', in_cell_f)\n",
    "# in_cell_names = []\n",
    "# cell_map = {}\n",
    "# for curr_cell_f in in_cell_f:\n",
    "#     print(curr_cell_f)\n",
    "#     with open(curr_cell_f, \"r\") as f:\n",
    "#         count = 0\n",
    "#         lines = []\n",
    "#         for line in f: \n",
    "#             if count == 0:\n",
    "#                 curr_f = line.strip()\n",
    "#             else:\n",
    "#                 lines.append(line.strip().split(','))\n",
    "#             count += 1\n",
    "#     curr_df = pd.DataFrame(lines[1:], columns=lines[0])\n",
    "#     cell_map[curr_f] = curr_df[\"new index\"].astype(int).values\n",
    "#     in_cell_names.append(curr_f)\n",
    "\n",
    "# # Get the maximum index across the two\n",
    "# max_v = 0\n",
    "# for i in in_cell_names:\n",
    "#     max_v = max(max_v, max(cell_map[i]))\n",
    "\n",
    "    \n",
    "# # B. Input: in_cell_names: The list of keys\n",
    "# #    Output: cell_ind_map:  dict where keys are the sample map names and the values are unique ordered 0-indexed ints,\n",
    "# #                           with the order based on in_cell_names\n",
    "# cell_ind_map = {}\n",
    "# count = 0\n",
    "# for i in in_cell_names: \n",
    "#     cell_ind_map[i] = count\n",
    "#     count += 1\n",
    "\n",
    "\n",
    "\n",
    "# # cell_inds: np.array where the length is the number of cells in the pseudo population, \n",
    "# #            and the element is an int that maps to a sample based on the cell_ind_map. \n",
    "# cell_inds = -1*np.ones(max_v)\n",
    "# for i in in_cell_names:\n",
    "#     cell_inds[cell_map[i]-1] = cell_ind_map[i] #cell_map[i]\n",
    "# cell_inds=cell_inds.astype(int)\n",
    "# print('cell_inds', cell_inds)\n",
    "# # Assign colors to the samples.\n",
    "# cells_meta = pd.DataFrame([sample_names[x] for x in cell_inds], columns=[\"sample ID\"])\n",
    "# colors = sns.color_palette(\"Set2\", len(list(set(cells_meta['sample ID'])))) #{0:\"blue\", 1:\"red\"}\n",
    "# cell_colors = [colors[x] for x in cell_inds]\n",
    "# cell_colors = pd.Series(cell_colors, name=\"sample ID\")\n",
    "\n",
    "# cells_meta"
   ]
  },
  {
   "cell_type": "markdown",
   "metadata": {},
   "source": [
    "# 2 Run vireo to demultiplex"
   ]
  },
  {
   "cell_type": "code",
   "execution_count": 12,
   "metadata": {
    "ExecuteTime": {
     "end_time": "2021-06-04T00:03:07.416891Z",
     "start_time": "2021-06-04T00:01:39.122123Z"
    },
    "code_folding": [],
    "scrolled": true
   },
   "outputs": [
    {
     "data": {
      "image/png": "[encoded data removed]",
      "text/plain": [
       "<Figure size 792x288 with 2 Axes>"
      ]
     },
     "metadata": {
      "needs_background": "light"
     },
     "output_type": "display_data"
    }
   ],
   "source": [
    "modelCA, elbo = run_vireo(AD, DP, N_DONORS, n_cores=32, plot_qc=True,out_f=join(OUTDIR, \"donors\"))\n",
    "try:\n",
    "    doublet_prob = modelCA.predict_doublet(AD, DP, update_GT=False, update_ID=False)[0].sum(axis=1)\n",
    "except AttributeError: # New version of Vireo 2021\n",
    "    doublet_prob = vireoSNP.utils.vireo_doublet.predict_doublet(modelCA,AD, DP, update_GT=False, update_ID=False)[0].sum(axis=1)"
   ]
  },
  {
   "cell_type": "markdown",
   "metadata": {},
   "source": [
    "## Extract donors"
   ]
  },
  {
   "cell_type": "code",
   "execution_count": 13,
   "metadata": {
    "ExecuteTime": {
     "end_time": "2021-06-04T00:03:07.464097Z",
     "start_time": "2021-06-04T00:03:07.420708Z"
    },
    "code_folding": []
   },
   "outputs": [],
   "source": [
    "# cell_clusters = extract_clusters(modelCA, prob_thresh=0.9, doublet_thresh=0.9, doublet_prob=doublet_prob,\n",
    "#                                  cells_meta=cells_meta, outdir=OUTDIR, out_f=\"donors\")\n",
    "# cell_clusters"
   ]
  },
  {
   "cell_type": "code",
   "execution_count": 14,
   "metadata": {
    "ExecuteTime": {
     "end_time": "2021-06-04T00:03:17.066713Z",
     "start_time": "2021-06-04T00:03:07.466307Z"
    },
    "scrolled": true
   },
   "outputs": [
    {
     "name": "stdout",
     "output_type": "stream",
     "text": [
      "cell meta\n",
      "                                   ID              raw ID condition  donor  \\\n",
      "new index                                                                    \n",
      "1          AAACTGCTCTCGCGGA-1_Control  AAACTGCTCTCGCGGA-1   Control    NaN   \n",
      "2          AAAGATGCAGCAACGA-1_Control  AAAGATGCAGCAACGA-1   Control    NaN   \n",
      "3          AAAGGATGTGCTGTGC-1_Control  AAAGGATGTGCTGTGC-1   Control    NaN   \n",
      "4          AAAGGATTCAAAGTAG-1_Control  AAAGGATTCAAAGTAG-1   Control    NaN   \n",
      "5          AAATGCCCAGAAAGAG-1_Control  AAATGCCCAGAAAGAG-1   Control    NaN   \n",
      "\n",
      "           donor_index  \n",
      "new index               \n",
      "1                  NaN  \n",
      "2                  NaN  \n",
      "3                  NaN  \n",
      "4                  NaN  \n",
      "5                  NaN  \n",
      "[  0   1   2   3   7   8   9  10  11  12  13  14  15  16  17  19  20  21\n",
      "  22  23  24  25  26  27  28  30  31  32  33  34  35  36  37  38  39  40\n",
      "  41  42  43  44  45  46  47  48  49  50  51  52  53  54  55  56  57  58\n",
      "  59  60  61  62  63  64  65  66  67  68  69  71  72  73  74  75  76  77\n",
      "  78  79  80  81  82  83  84  85  87  88  89  90  91  92  93  94  95  96\n",
      "  97  98  99 100 101 102 103 104 105 106 107 108 109 110 111 112 113 114\n",
      " 115 116 117 118 119 120 121 122 123 124 125 126 127 128 129 130 131 132\n",
      " 133 134 135 136 137 138 139 140 141 142 143 144 145 146 148 149 152 154\n",
      " 155 156 158 159 160 161 162 163 164 165 166 167 168 169 170 172 173 174\n",
      " 176 177 178 179 180 181 182 183 185 186 187 188 189 190 191 192 193 194\n",
      " 195 196 198 199 200 202 203 205 206 207 209 210 211 212 213 214 215 218\n",
      " 219 220 221 222 223 224 226 227 229 230 231 232 233 234 235 236 237 238\n",
      " 239 240 242 243 244 245 246 247 248 249 250 251 252 253 254 255 256 258\n",
      " 259 260 261 262 263 264 265 266 267 268 269 270 271 272 273 274 275 276\n",
      " 277 278 279 280 281 282 283 284 285 287 288 289 290 291 292 293 294 295\n",
      " 296 297 298 299 300 301 302 303 304 305 306 307 308 309 310 312 313 314\n",
      " 315 316 317 318 319 320 321 322 323 324 325 326 327 328 329 330 331 332\n",
      " 334 335 336 337 338 339 340 341 342 344 346 347 348 349 350 351 352 353\n",
      " 354 356 357 358 359 360 361 362 363 364 365 366 367 368 369 370 371 372\n",
      " 373 374 375 376 377 378 380 381 382 383 385 386 387 388 389 390 392 393\n",
      " 397 398 399 400 401 402 403 404 405 406 407 408 409 410 411 412 413 414\n",
      " 415 416 418 419 420 421 422 423 424 425 426 427 429 430 431 432 433 434\n",
      " 435 436 437 438 439 440 441 442 443 444 445 446 447 448 449 450 452 453\n",
      " 454 455 456 457 458 459 460 461 464 465 467 468 469 470 471 472 473 474\n",
      " 475 476 477 478 479 480 481 482 483 484 485 486 487 488 489 491 492 493\n",
      " 494 496 497 498 499]\n",
      "donor 0: 849 cells \n",
      "(26893, 3)\n",
      "(26893, 3)\n",
      "curr_ad     Position  Cell  Count\n",
      "8          5     1    375\n",
      "27        23     1      2\n",
      "28        24     1      2\n",
      "34        29     1   1249\n",
      "37        32     1     15\n",
      "donor0\n",
      "[  0   1   2   3   4   5   6   7   8   9  10  11  12  13  14  15  16  17\n",
      "  19  20  21  23  24  25  26  27  28  29  30  31  32  33  34  35  36  37\n",
      "  38  39  40  41  42  43  44  45  46  47  48  49  50  51  52  53  54  55\n",
      "  56  57  58  59  60  61  62  63  64  65  66  67  68  69  71  72  73  74\n",
      "  75  76  77  78  79  80  81  82  83  84  85  86  87  88  89  90  91  92\n",
      "  93  94  95  96  97  98  99 100 101 102 103 104 105 106 107 108 109 110\n",
      " 111 112 113 114 115 116 117 118 119 120 121 122 123 124 125 126 127 128\n",
      " 129 130 131 132 133 134 135 136 137 138 139 140 141 142 143 144 145 146\n",
      " 147 148 149 150 151 152 153 154 155 156 157 158 159 160 162 163 164 165\n",
      " 166 167 169 170 171 172 173 174 175 176 178 179 180 181 182 183 185 186\n",
      " 187 188 189 190 191 192 193 194 195 196 198 199 200 201 202 203 204 205\n",
      " 206 207 208 209 210 211 212 213 214 215 216 217 218 219 220 221 222 223\n",
      " 224 226 227 228 229 230 231 232 233 235 236 237 238 239 240 241 242 243\n",
      " 244 246 247 248 249 251 252 253 254 255 256 257 258 259 260 261 262 263\n",
      " 265 266 267 268 269 270 271 273 274 275 276 277 278 279 281 282 283 284\n",
      " 285 287 288 289 290 291 292 294 295 296 297 298 299 300 301 302 303 304\n",
      " 305 306 307 308 309 311 312 313 314 315 316 317 318 319 320 321 322 323\n",
      " 324 325 326 327 328 329 330 331 334 335 336 337 338 339 340 342 343 344\n",
      " 345 346 347 348 349 350 351 352 353 354 355 356 357 358 359 360 361 362\n",
      " 363 364 365 366 367 368 369 370 371 372 373 374 375 376 377 378 379 381\n",
      " 382 383 384 385 386 387 388 389 390 392 393 394 395 396 397 398 399 400\n",
      " 401 402 403 404 405 406 408 409 410 411 412 413 414 415 416 417 418 419\n",
      " 420 421 422 423 424 425 428 429 430 431 432 434 435 436 437 438 439 440\n",
      " 441 443 444 445 446 447 448 449 450 451 452 453 454 455 456 457 458 459\n",
      " 460 461 462 463 465 466 467 468 469 470 471 472 473 474 475 476 477 478\n",
      " 479 480 481 482 483 484 485 487 488 489 491 492 493 494 495 496 497 498\n",
      " 499]\n",
      "donor 1: 1157 cells \n",
      "(63547, 3)\n",
      "(63547, 3)\n",
      "curr_ad     Position  Cell  Count\n",
      "1          1     1   1459\n",
      "4          4     1     31\n",
      "6          6     1     20\n",
      "8          8     1    590\n",
      "11        11     1   1412\n",
      "donor1\n",
      "[ -1   0   1   2   3   5   6   7   8   9  10  11  12  13  14  15  16  17\n",
      "  18  19  20  23  24  25  26  27  28  29  30  31  32  33  34  35  36  37\n",
      "  38  39  40  41  42  43  44  45  46  47  48  49  50  51  52  53  54  55\n",
      "  56  57  58  60  61  62  63  64  65  66  67  68  69  70  71  72  73  74\n",
      "  75  76  77  78  79  80  81  82  83  84  85  86  87  88  89  90  91  92\n",
      "  93  94  95  96  97  98  99 100 101 102 103 104 105 106 107 108 109 110\n",
      " 111 112 113 114 115 116 117 118 119 120 121 122 123 124 125 126 127 128\n",
      " 129 130 131 132 133 134 135 136 137 138 139 140 141 142 143 144 145 146\n",
      " 147 148 149 151 152 153 154 155 156 157 158 159 160 161 162 163 164 165\n",
      " 166 167 168 169 170 171 172 173 174 176 177 178 179 180 181 182 183 184\n",
      " 185 187 188 190 191 192 193 194 195 196 197 198 199 200 201 202 203 204\n",
      " 205 206 208 209 210 211 212 213 214 215 218 219 220 221 222 223 224 225\n",
      " 226 227 229 230 231 232 233 235 236 237 238 240 242 243 244 246 247 248\n",
      " 249 250 251 252 253 254 255 256 257 258 259 261 262 263 264 265 266 267\n",
      " 268 269 270 271 273 274 275 276 277 278 279 280 281 282 283 284 285 287\n",
      " 288 289 290 291 292 294 295 296 297 298 300 301 302 303 304 305 306 307\n",
      " 308 309 310 312 313 314 315 316 317 318 319 320 321 322 323 324 325 326\n",
      " 327 328 329 330 331 333 334 335 336 337 338 339 340 342 343 344 345 346\n",
      " 347 348 349 350 351 352 353 354 356 357 358 359 360 361 362 363 365 366\n",
      " 367 368 369 370 371 372 373 374 376 377 378 379 380 381 382 383 384 385\n",
      " 386 388 389 390 391 392 393 395 397 398 399 401 402 403 404 405 406 407\n",
      " 408 410 411 412 413 414 415 416 418 419 421 422 423 424 425 426 427 428\n",
      " 429 430 431 432 433 434 435 436 437 438 439 440 441 442 443 444 445 446\n",
      " 447 448 449 450 451 452 453 454 455 456 457 458 459 461 462 463 465 466\n",
      " 468 469 470 471 472 473 474 475 476 477 478 479 480 481 482 483 484 485\n",
      " 486 487 488 489 490 491 492 493 494 495 496 497 498 499]\n",
      "donor 2: 808 cells \n",
      "(25873, 3)\n",
      "(25873, 3)\n",
      "curr_ad     Position  Cell  Count\n",
      "8          8     1    262\n",
      "10        10     1    519\n",
      "18        18     1      2\n",
      "29        27     1      2\n",
      "34        32     1    823\n",
      "donor2\n",
      "[ -1   0   1   2   3   4   6   7   8   9  10  11  12  13  14  15  16  17\n",
      "  18  19  20  21  22  23  24  25  26  27  28  29  30  31  32  33  34  35\n",
      "  36  37  38  39  40  41  42  43  44  45  46  47  48  49  50  51  52  53\n",
      "  54  55  56  57  58  59  60  61  62  63  64  65  66  67  68  69  70  71\n",
      "  72  73  74  75  76  77  78  79  80  81  82  83  84  85  87  88  89  90\n",
      "  91  92  93  94  95  96  97  98  99 100 101 102 103 104 105 106 107 108\n",
      " 109 110 111 112 113 114 115 116 117 118 119 120 121 122 123 124 125 126\n",
      " 127 128 129 130 131 132 133 134 135 136 137 138 139 140 141 142 143 144\n",
      " 145 146 149 151 152 153 154 155 156 158 159 161 162 163 164 165 166 167\n",
      " 169 170 171 172 173 174 175 176 178 179 180 181 182 183 184 185 187 188\n",
      " 190 191 192 193 194 195 196 198 199 200 201 202 203 205 206 209 210 211\n",
      " 212 213 214 215 216 218 219 220 221 222 223 224 225 226 227 228 229 230\n",
      " 231 232 233 234 235 236 237 238 239 240 241 242 243 244 246 247 248 249\n",
      " 250 251 252 253 254 255 256 258 261 262 263 264 266 267 268 269 270 271\n",
      " 272 273 274 276 277 278 279 280 281 282 283 284 285 286 287 289 290 291\n",
      " 292 293 294 295 296 297 298 299 300 301 302 303 304 306 307 308 309 310\n",
      " 311 312 313 315 316 317 318 319 320 321 322 323 324 325 326 327 328 330\n",
      " 331 334 336 337 338 340 341 342 344 346 347 348 350 351 352 353 354 356\n",
      " 357 358 359 360 361 362 363 364 365 366 367 368 369 370 371 373 374 375\n",
      " 376 377 378 379 380 381 382 383 384 386 387 388 389 390 392 393 394 397\n",
      " 398 399 400 401 402 403 404 405 406 407 408 409 410 411 412 413 414 416\n",
      " 418 419 420 421 422 423 424 425 428 429 430 431 432 433 434 435 436 437\n",
      " 438 439 440 441 442 443 444 445 446 447 448 449 450 452 453 454 455 456\n",
      " 457 458 461 463 465 466 468 469 470 471 472 473 474 476 477 478 479 480\n",
      " 481 482 483 484 485 486 487 488 489 490 491 492 493 494 495 496 497 498\n",
      " 499]\n",
      "donor 3: 799 cells \n",
      "(42863, 3)\n",
      "(42863, 3)\n",
      "curr_ad     Position  Cell  Count\n",
      "1          2     1   1265\n",
      "2          3     1    687\n",
      "8          8     1    671\n",
      "17        17     1   1146\n",
      "18        18     1   1183\n",
      "donor3\n"
     ]
    },
    {
     "name": "stdout",
     "output_type": "stream",
     "text": [
      "[  0   1   2   3   5   7   8   9  10  11  12  13  14  15  16  17  19  23\n",
      "  24  25  26  27  28  30  32  33  34  36  37  38  39  40  41  42  43  46\n",
      "  47  48  49  51  52  53  54  55  56  57  58  60  62  63  64  65  66  67\n",
      "  68  69  71  72  73  74  75  76  77  78  79  80  81  82  83  84  85  87\n",
      "  88  89  90  91  92  93  94  95  96  98  99 100 101 102 103 104 105 106\n",
      " 107 108 109 110 111 112 113 115 116 117 118 119 121 122 124 125 126 127\n",
      " 128 129 130 131 133 134 135 136 137 138 139 140 141 142 143 144 145 146\n",
      " 147 149 150 151 152 153 154 155 156 157 158 159 160 161 162 163 164 165\n",
      " 166 167 168 169 170 171 172 173 174 175 176 178 179 180 181 182 183 184\n",
      " 185 186 187 188 189 190 191 192 193 194 195 198 199 200 201 202 203 205\n",
      " 206 209 210 211 212 213 214 215 216 217 218 219 220 221 222 223 224 225\n",
      " 226 227 229 230 231 232 233 234 235 236 237 238 240 242 243 244 245 247\n",
      " 248 249 250 251 252 253 254 255 256 257 258 259 260 261 262 263 264 265\n",
      " 267 268 269 270 271 273 274 275 276 277 278 279 280 281 282 283 284 285\n",
      " 286 287 288 289 290 291 292 293 294 295 296 297 298 299 300 301 302 303\n",
      " 304 305 306 308 309 310 311 312 313 314 315 316 317 318 319 320 321 322\n",
      " 323 324 325 326 327 328 329 330 331 332 333 334 335 336 337 338 339 340\n",
      " 342 344 345 346 347 348 349 350 351 352 353 354 355 356 357 358 359 360\n",
      " 361 362 363 364 365 366 367 368 369 370 371 372 373 374 376 377 378 379\n",
      " 380 381 382 383 385 386 388 389 390 391 392 393 394 395 396 397 398 399\n",
      " 400 401 402 403 404 405 406 407 408 409 410 411 412 413 414 416 418 419\n",
      " 420 421 422 423 424 425 428 429 430 431 432 433 434 435 436 437 438 439\n",
      " 440 441 442 443 444 445 446 447 448 449 450 451 452 453 454 455 456 457\n",
      " 458 459 461 465 467 468 469 470 471 472 473 474 475 476 477 478 479 481\n",
      " 482 483 484 485 487 488 489 490 491 492 493 494 496 497 498 499]\n",
      "donor 4: 967 cells \n",
      "(49638, 3)\n",
      "(49638, 3)\n",
      "curr_ad     Position  Cell  Count\n",
      "1          1     1    831\n",
      "3          3     1    177\n",
      "8          6     1     41\n",
      "12        10     1    709\n",
      "25        19     1    485\n",
      "donor4\n",
      "cell meta\n",
      "                                   ID              raw ID condition  donor  \\\n",
      "new index                                                                    \n",
      "1          AAACTGCTCTCGCGGA-1_Control  AAACTGCTCTCGCGGA-1   Control      3   \n",
      "2          AAAGATGCAGCAACGA-1_Control  AAAGATGCAGCAACGA-1   Control      3   \n",
      "3          AAAGGATGTGCTGTGC-1_Control  AAAGGATGTGCTGTGC-1   Control      0   \n",
      "4          AAAGGATTCAAAGTAG-1_Control  AAAGGATTCAAAGTAG-1   Control      1   \n",
      "5          AAATGCCCAGAAAGAG-1_Control  AAATGCCCAGAAAGAG-1   Control      2   \n",
      "\n",
      "           donor_index  \n",
      "new index               \n",
      "1                    1  \n",
      "2                    2  \n",
      "3                    1  \n",
      "4                    1  \n",
      "5                    1  \n"
     ]
    },
    {
     "data": {
      "text/plain": [
       "{0: array([   3,    9,   12,   15,   26,   41,   42,   48,   63,   79,   85,\n",
       "          92,   93,   94,   95,  101,  103,  104,  115,  116,  120,  126,\n",
       "         138,  141,  149,  152,  157,  170,  171,  175,  181,  185,  188,\n",
       "         189,  193,  195,  200,  203,  204,  214,  229,  230,  231,  252,\n",
       "         262,  267,  268,  272,  280,  283,  286,  288,  296,  297,  304,\n",
       "         316,  321,  329,  353,  355,  359,  371,  376,  378,  380,  381,\n",
       "         384,  392,  401,  417,  424,  427,  432,  438,  444,  465,  468,\n",
       "         470,  486,  491,  495,  497,  500,  505,  509,  513,  518,  519,\n",
       "         528,  530,  532,  537,  539,  542,  548,  558,  569,  572,  576,\n",
       "         582,  585,  590,  601,  615,  616,  617,  621,  626,  632,  637,\n",
       "         647,  654,  657,  658,  667,  675,  677,  709,  710,  714,  718,\n",
       "         719,  722,  726,  727,  733,  736,  738,  740,  741,  755,  767,\n",
       "         771,  776,  782,  788,  793,  798,  802,  807,  809,  812,  815,\n",
       "         818,  820,  853,  861,  869,  871,  878,  887,  888,  910,  915,\n",
       "         920,  925,  928,  936,  937,  942,  953,  955,  962,  966,  970,\n",
       "         973,  975,  978,  989,  994, 1001, 1012, 1026, 1027, 1042, 1044,\n",
       "        1045, 1049, 1051, 1055, 1061, 1083, 1085, 1089, 1099, 1137, 1139,\n",
       "        1140, 1142, 1145, 1154, 1161, 1170, 1173, 1194, 1196, 1207, 1212,\n",
       "        1213, 1214, 1216, 1221, 1223, 1228, 1235, 1239, 1255, 1257, 1259,\n",
       "        1266, 1275, 1288, 1297, 1303, 1314, 1315, 1316, 1320, 1322, 1323,\n",
       "        1325, 1327, 1329, 1330, 1339, 1344, 1345, 1349, 1353, 1360, 1368,\n",
       "        1370, 1377, 1380, 1384, 1388, 1391, 1398, 1404, 1406, 1408, 1411,\n",
       "        1412, 1417, 1421, 1422, 1424, 1429, 1430, 1449, 1450, 1454, 1458,\n",
       "        1463, 1467, 1470, 1476, 1477, 1478, 1486, 1487, 1505, 1509, 1514,\n",
       "        1515, 1521, 1528, 1529, 1541, 1548, 1550, 1557, 1558, 1565, 1566,\n",
       "        1567, 1568, 1572, 1577, 1581, 1584, 1593, 1594, 1595, 1601, 1614,\n",
       "        1616, 1633, 1634, 1640, 1642, 1643, 1651, 1657, 1658, 1666, 1674,\n",
       "        1682, 1692, 1695, 1699, 1700, 1704, 1719, 1727, 1740, 1749, 1751,\n",
       "        1755, 1757, 1760, 1771, 1776, 1777, 1784, 1786, 1801, 1804, 1807,\n",
       "        1813, 1819, 1823, 1825, 1831, 1846, 1865, 1885, 1894, 1897, 1901,\n",
       "        1917, 1918, 1920, 1925, 1929, 1932, 1963, 1968, 1975, 1978, 1981,\n",
       "        1983, 1989, 1990, 1992, 1993, 1998, 2004, 2007, 2014, 2020, 2022,\n",
       "        2028, 2032, 2037, 2039, 2042, 2047, 2054, 2062, 2064, 2082, 2084,\n",
       "        2090, 2093, 2113, 2115, 2123, 2127, 2128, 2137, 2141, 2151, 2152,\n",
       "        2153, 2158, 2159, 2167, 2171, 2188, 2210, 2222, 2223, 2228, 2231,\n",
       "        2266, 2268, 2277, 2281, 2285, 2289, 2296, 2303, 2308, 2311, 2313,\n",
       "        2320, 2325, 2329, 2331, 2336, 2338, 2341, 2342, 2352, 2360, 2361,\n",
       "        2366, 2367, 2371, 2392, 2395, 2399, 2402, 2404, 2410, 2417, 2419,\n",
       "        2421, 2422, 2428, 2436, 2437, 2439, 2441, 2451, 2453, 2459, 2467,\n",
       "        2486, 2487, 2488, 2490, 2492, 2500, 2502, 2505, 2509, 2516, 2521,\n",
       "        2531, 2532, 2534, 2540, 2572, 2584, 2588, 2590, 2592, 2598, 2611,\n",
       "        2613, 2616, 2617, 2618, 2624, 2625, 2630, 2643, 2644, 2649, 2653,\n",
       "        2659, 2674, 2676, 2692, 2698, 2706, 2707, 2717, 2742, 2746, 2753,\n",
       "        2760, 2762, 2767, 2775, 2782, 2784, 2790, 2797, 2805, 2814, 2816,\n",
       "        2817, 2821, 2823, 2839, 2841, 2847, 2851, 2854, 2855, 2862, 2863,\n",
       "        2864, 2865, 2874, 2876, 2883, 2887, 2909, 2921, 2923, 2927, 2929,\n",
       "        2932, 2955, 2958, 2959, 2963, 2971, 2974, 2980, 2982, 2991, 3003,\n",
       "        3004, 3008, 3013, 3017, 3024, 3028, 3031, 3036, 3042, 3046, 3065,\n",
       "        3066, 3069, 3079, 3080, 3086, 3092, 3099, 3100, 3103, 3107, 3113,\n",
       "        3115, 3118, 3120, 3127, 3133, 3134, 3138, 3143, 3146, 3163, 3164,\n",
       "        3171, 3183, 3185, 3187, 3191, 3194, 3198, 3199, 3201, 3202, 3222,\n",
       "        3228, 3229, 3232, 3233, 3237, 3238, 3242, 3244, 3250, 3253, 3256,\n",
       "        3258, 3262, 3268, 3271, 3275, 3277, 3283, 3293, 3297, 3299, 3301,\n",
       "        3308, 3311, 3313, 3330, 3336, 3337, 3348, 3350, 3359, 3362, 3365,\n",
       "        3371, 3379, 3382, 3387, 3389, 3399, 3402, 3406, 3408, 3424, 3426,\n",
       "        3428, 3432, 3443, 3453, 3456, 3460, 3464, 3467, 3469, 3475, 3477,\n",
       "        3483, 3502, 3507, 3514, 3515, 3519, 3520, 3523, 3534, 3535, 3537,\n",
       "        3538, 3541, 3548, 3550, 3551, 3558, 3568, 3569, 3570, 3574, 3575,\n",
       "        3580, 3583, 3584, 3588, 3594, 3596, 3598, 3611, 3614, 3625, 3639,\n",
       "        3656, 3661, 3668, 3669, 3675, 3686, 3689, 3690, 3692, 3694, 3696,\n",
       "        3697, 3700, 3707, 3712, 3717, 3729, 3732, 3738, 3744, 3752, 3756,\n",
       "        3776, 3813, 3815, 3817, 3821, 3823, 3840, 3843, 3853, 3854, 3863,\n",
       "        3887, 3898, 3910, 3911, 3913, 3922, 3924, 3940, 3941, 3943, 3959,\n",
       "        3976, 3978, 3982, 3984, 3987, 3994, 3997, 4007, 4017, 4018, 4019,\n",
       "        4024, 4027, 4029, 4033, 4037, 4039, 4049, 4062, 4076, 4081, 4082,\n",
       "        4089, 4090, 4092, 4094, 4102, 4107, 4113, 4115, 4122, 4130, 4135,\n",
       "        4140, 4141, 4143, 4148, 4151, 4159, 4160, 4161, 4165, 4166, 4169,\n",
       "        4176, 4184, 4196, 4198, 4201, 4204, 4208, 4214, 4221, 4223, 4237,\n",
       "        4244, 4245, 4248, 4269, 4273, 4277, 4282, 4287, 4290, 4292, 4293,\n",
       "        4294, 4300, 4301, 4303, 4304, 4309, 4316, 4327, 4339, 4346, 4347,\n",
       "        4348, 4362, 4364, 4366, 4379, 4383, 4384, 4393, 4401, 4420, 4430,\n",
       "        4432, 4433, 4434, 4435, 4445, 4468, 4480, 4483, 4485, 4504, 4507,\n",
       "        4516, 4520, 4533, 4547, 4548, 4557, 4561, 4565, 4567, 4574, 4575,\n",
       "        4578, 4592, 4598, 4607, 4617, 4622, 4624, 4625, 4633, 4635, 4642,\n",
       "        4646, 4666, 4670, 4681, 4692, 4694, 4700, 4715, 4728, 4730, 4741,\n",
       "        4750, 4752, 4761, 4762, 4774, 4779, 4780, 4787, 4792, 4796, 4797,\n",
       "        4808, 4809, 4820, 4824, 4835, 4839, 4853, 4862, 4864, 4868, 4870,\n",
       "        4874, 4875]),\n",
       " 1: array([   4,    6,    8, ..., 4850, 4851, 4860]),\n",
       " 2: array([   5,   19,   20,   22,   24,   38,   39,   49,   60,   65,   76,\n",
       "          80,   90,   91,   96,  102,  105,  110,  118,  142,  145,  147,\n",
       "         160,  166,  169,  180,  190,  192,  196,  208,  215,  216,  226,\n",
       "         232,  241,  242,  243,  250,  251,  253,  257,  261,  263,  266,\n",
       "         284,  312,  314,  315,  318,  319,  322,  324,  336,  343,  345,\n",
       "         349,  360,  362,  370,  387,  396,  399,  433,  436,  437,  442,\n",
       "         443,  445,  449,  451,  452,  456,  458,  459,  461,  463,  477,\n",
       "         479,  480,  487,  490,  498,  503,  506,  512,  526,  538,  541,\n",
       "         546,  552,  554,  563,  566,  570,  578,  580,  593,  595,  600,\n",
       "         605,  606,  608,  614,  620,  627,  639,  644,  663,  664,  669,\n",
       "         674,  678,  680,  683,  688,  690,  692,  693,  697,  702,  703,\n",
       "         706,  707,  708,  712,  713,  720,  723,  725,  734,  735,  739,\n",
       "         743,  745,  747,  749,  760,  766,  768,  775,  777,  780,  786,\n",
       "         787,  795,  799,  800,  804,  810,  816,  821,  824,  834,  836,\n",
       "         839,  846,  857,  862,  864,  874,  882,  884,  886,  891,  894,\n",
       "         899,  900,  905,  906,  907,  908,  911,  917,  921,  927,  934,\n",
       "         939,  945,  950,  968,  974,  980,  991,  995,  998, 1005, 1009,\n",
       "        1011, 1015, 1032, 1038, 1041, 1058, 1065, 1071, 1079, 1080, 1097,\n",
       "        1100, 1111, 1117, 1119, 1120, 1125, 1126, 1130, 1131, 1132, 1141,\n",
       "        1146, 1149, 1151, 1155, 1171, 1175, 1178, 1180, 1181, 1185, 1186,\n",
       "        1197, 1201, 1202, 1203, 1218, 1222, 1227, 1231, 1237, 1241, 1244,\n",
       "        1271, 1276, 1282, 1287, 1290, 1295, 1296, 1298, 1302, 1305, 1308,\n",
       "        1318, 1328, 1333, 1336, 1337, 1347, 1355, 1359, 1369, 1378, 1379,\n",
       "        1381, 1387, 1393, 1403, 1405, 1407, 1409, 1413, 1444, 1453, 1456,\n",
       "        1460, 1465, 1473, 1474, 1483, 1488, 1493, 1500, 1502, 1507, 1508,\n",
       "        1516, 1520, 1523, 1527, 1536, 1561, 1569, 1570, 1589, 1592, 1600,\n",
       "        1623, 1624, 1626, 1629, 1636, 1644, 1660, 1662, 1669, 1670, 1671,\n",
       "        1679, 1681, 1707, 1713, 1716, 1723, 1741, 1742, 1750, 1753, 1756,\n",
       "        1758, 1775, 1787, 1795, 1803, 1817, 1822, 1824, 1828, 1835, 1838,\n",
       "        1853, 1859, 1868, 1875, 1879, 1880, 1882, 1896, 1903, 1911, 1935,\n",
       "        1944, 1950, 1951, 1971, 1976, 1985, 1999, 2000, 2010, 2015, 2030,\n",
       "        2033, 2034, 2050, 2051, 2055, 2057, 2074, 2078, 2085, 2094, 2095,\n",
       "        2100, 2104, 2109, 2111, 2112, 2117, 2129, 2130, 2131, 2132, 2146,\n",
       "        2147, 2155, 2160, 2164, 2169, 2172, 2177, 2186, 2191, 2199, 2200,\n",
       "        2201, 2204, 2220, 2227, 2237, 2239, 2247, 2250, 2256, 2258, 2261,\n",
       "        2265, 2271, 2272, 2284, 2291, 2294, 2309, 2316, 2319, 2321, 2322,\n",
       "        2327, 2333, 2337, 2346, 2374, 2383, 2408, 2423, 2424, 2427, 2431,\n",
       "        2432, 2433, 2434, 2443, 2450, 2462, 2464, 2469, 2472, 2474, 2478,\n",
       "        2480, 2484, 2511, 2536, 2538, 2542, 2554, 2563, 2568, 2569, 2576,\n",
       "        2577, 2582, 2587, 2589, 2603, 2612, 2614, 2619, 2620, 2623, 2637,\n",
       "        2645, 2655, 2664, 2665, 2666, 2677, 2684, 2685, 2701, 2722, 2723,\n",
       "        2726, 2741, 2757, 2759, 2774, 2776, 2783, 2789, 2791, 2801, 2809,\n",
       "        2819, 2826, 2828, 2830, 2833, 2836, 2840, 2843, 2844, 2869, 2873,\n",
       "        2875, 2878, 2904, 2913, 2916, 2917, 2918, 2924, 2937, 2939, 2942,\n",
       "        2944, 2945, 2954, 2962, 2966, 2968, 2969, 2977, 2979, 2985, 2987,\n",
       "        2992, 2994, 2998, 3005, 3030, 3035, 3039, 3040, 3057, 3059, 3060,\n",
       "        3072, 3074, 3077, 3084, 3088, 3097, 3101, 3104, 3109, 3130, 3135,\n",
       "        3144, 3145, 3150, 3174, 3175, 3180, 3205, 3210, 3212, 3224, 3231,\n",
       "        3236, 3243, 3264, 3270, 3278, 3291, 3298, 3317, 3321, 3351, 3354,\n",
       "        3355, 3357, 3361, 3363, 3372, 3390, 3392, 3400, 3413, 3422, 3436,\n",
       "        3439, 3447, 3455, 3459, 3461, 3463, 3470, 3473, 3482, 3488, 3491,\n",
       "        3492, 3495, 3503, 3506, 3511, 3512, 3522, 3529, 3531, 3532, 3549,\n",
       "        3573, 3581, 3585, 3586, 3591, 3599, 3600, 3619, 3624, 3627, 3632,\n",
       "        3636, 3640, 3641, 3646, 3651, 3658, 3662, 3665, 3677, 3693, 3698,\n",
       "        3710, 3716, 3723, 3731, 3747, 3748, 3753, 3755, 3761, 3768, 3796,\n",
       "        3805, 3809, 3810, 3812, 3814, 3818, 3820, 3822, 3824, 3829, 3833,\n",
       "        3837, 3838, 3839, 3842, 3851, 3855, 3861, 3865, 3867, 3877, 3881,\n",
       "        3882, 3891, 3900, 3901, 3904, 3905, 3912, 3916, 3921, 3933, 3936,\n",
       "        3952, 3954, 3955, 3962, 3966, 3971, 3973, 3979, 3980, 3983, 3990,\n",
       "        3992, 3995, 3999, 4000, 4003, 4005, 4010, 4020, 4021, 4032, 4042,\n",
       "        4044, 4048, 4057, 4071, 4073, 4079, 4086, 4087, 4101, 4103, 4104,\n",
       "        4108, 4120, 4123, 4136, 4138, 4139, 4145, 4149, 4150, 4156, 4174,\n",
       "        4177, 4178, 4179, 4182, 4185, 4186, 4191, 4193, 4199, 4203, 4210,\n",
       "        4211, 4216, 4220, 4230, 4232, 4233, 4242, 4249, 4260, 4265, 4278,\n",
       "        4280, 4284, 4285, 4288, 4308, 4318, 4319, 4350, 4358, 4361, 4365,\n",
       "        4371, 4382, 4386, 4389, 4390, 4392, 4403, 4411, 4415, 4417, 4419,\n",
       "        4437, 4450, 4452, 4454, 4461, 4463, 4471, 4475, 4476, 4478, 4479,\n",
       "        4484, 4494, 4506, 4521, 4529, 4534, 4536, 4539, 4544, 4552, 4558,\n",
       "        4563, 4564, 4566, 4569, 4577, 4584, 4593, 4603, 4616, 4618, 4629,\n",
       "        4641, 4643, 4647, 4649, 4654, 4656, 4671, 4673, 4682, 4690, 4703,\n",
       "        4711, 4713, 4718, 4725, 4726, 4731, 4745, 4749, 4751, 4754, 4765,\n",
       "        4770, 4772, 4773, 4775, 4776, 4781, 4782, 4785, 4794, 4802, 4821,\n",
       "        4822, 4827, 4829, 4830, 4832, 4838, 4840, 4844, 4847, 4848, 4849,\n",
       "        4854, 4855, 4856, 4865, 4866]),\n",
       " 3: array([   1,    2,    7,   11,   25,   28,   29,   31,   32,   35,   36,\n",
       "          43,   45,   50,   51,   54,   56,   57,   59,   61,   64,   66,\n",
       "          67,   68,   71,   72,   73,   75,   82,   84,   86,   88,   98,\n",
       "          99,  106,  107,  108,  111,  112,  113,  117,  122,  123,  127,\n",
       "         131,  133,  134,  135,  136,  139,  140,  143,  144,  146,  150,\n",
       "         151,  153,  154,  158,  159,  161,  162,  163,  165,  176,  177,\n",
       "         178,  183,  186,  187,  197,  205,  209,  211,  212,  217,  218,\n",
       "         219,  220,  223,  224,  228,  234,  235,  236,  239,  247,  248,\n",
       "         254,  255,  256,  258,  259,  265,  269,  270,  274,  278,  279,\n",
       "         281,  287,  299,  300,  301,  305,  306,  308,  310,  320,  323,\n",
       "         325,  333,  334,  337,  339,  340,  341,  342,  344,  350,  352,\n",
       "         354,  356,  357,  363,  366,  367,  368,  369,  372,  374,  375,\n",
       "         383,  389,  393,  394,  397,  400,  403,  406,  407,  409,  410,\n",
       "         411,  412,  416,  418,  419,  420,  423,  425,  426,  430,  435,\n",
       "         439,  446,  448,  450,  453,  455,  457,  462,  464,  469,  471,\n",
       "         473,  478,  481,  482,  485,  489,  493,  496,  504,  507,  516,\n",
       "         522,  523,  525,  529,  531,  545,  547,  559,  567,  575,  596,\n",
       "         597,  599,  609,  610,  619,  622,  628,  629,  631,  635,  640,\n",
       "         643,  645,  651,  652,  653,  655,  676,  685,  687,  689,  694,\n",
       "         715,  752,  758,  772,  778,  783,  794,  801,  811,  826,  829,\n",
       "         833,  852,  868,  876,  880,  895,  897,  903,  904,  918,  919,\n",
       "         930,  943,  946,  947,  952,  971,  972,  979,  982, 1007, 1008,\n",
       "        1021, 1022, 1046, 1047, 1050, 1066, 1067, 1068, 1069, 1074, 1081,\n",
       "        1082, 1092, 1094, 1106, 1107, 1112, 1114, 1115, 1116, 1133, 1159,\n",
       "        1179, 1184, 1189, 1192, 1199, 1200, 1220, 1225, 1233, 1245, 1249,\n",
       "        1274, 1291, 1301, 1306, 1331, 1332, 1334, 1346, 1372, 1382, 1383,\n",
       "        1392, 1395, 1400, 1416, 1418, 1426, 1427, 1428, 1431, 1436, 1440,\n",
       "        1443, 1448, 1451, 1457, 1462, 1466, 1468, 1475, 1479, 1480, 1489,\n",
       "        1491, 1513, 1518, 1530, 1535, 1537, 1542, 1549, 1551, 1556, 1559,\n",
       "        1563, 1564, 1580, 1590, 1591, 1598, 1599, 1607, 1608, 1610, 1615,\n",
       "        1625, 1628, 1632, 1637, 1639, 1641, 1645, 1648, 1653, 1668, 1680,\n",
       "        1684, 1686, 1688, 1705, 1710, 1721, 1722, 1730, 1732, 1734, 1743,\n",
       "        1745, 1747, 1754, 1761, 1762, 1769, 1774, 1779, 1780, 1781, 1785,\n",
       "        1790, 1799, 1800, 1810, 1812, 1818, 1820, 1821, 1830, 1840, 1842,\n",
       "        1848, 1860, 1862, 1866, 1874, 1881, 1888, 1898, 1900, 1919, 1923,\n",
       "        1933, 1943, 1948, 1953, 1954, 1970, 1973, 1982, 1987, 1991, 2001,\n",
       "        2009, 2025, 2041, 2048, 2060, 2063, 2066, 2069, 2075, 2083, 2086,\n",
       "        2088, 2092, 2103, 2106, 2107, 2116, 2126, 2134, 2145, 2148, 2150,\n",
       "        2178, 2192, 2193, 2194, 2209, 2212, 2213, 2216, 2217, 2221, 2225,\n",
       "        2226, 2232, 2238, 2240, 2245, 2252, 2254, 2259, 2273, 2276, 2286,\n",
       "        2297, 2312, 2326, 2355, 2356, 2373, 2375, 2380, 2381, 2385, 2386,\n",
       "        2405, 2411, 2413, 2416, 2418, 2440, 2444, 2458, 2463, 2466, 2470,\n",
       "        2477, 2481, 2483, 2494, 2498, 2514, 2517, 2522, 2523, 2541, 2545,\n",
       "        2552, 2555, 2556, 2595, 2599, 2607, 2638, 2639, 2640, 2651, 2652,\n",
       "        2667, 2668, 2670, 2673, 2679, 2680, 2681, 2687, 2689, 2695, 2696,\n",
       "        2703, 2704, 2714, 2720, 2721, 2728, 2731, 2732, 2734, 2752, 2770,\n",
       "        2799, 2804, 2808, 2812, 2822, 2829, 2834, 2835, 2845, 2856, 2861,\n",
       "        2866, 2880, 2881, 2884, 2885, 2888, 2889, 2894, 2900, 2903, 2905,\n",
       "        2912, 2915, 2925, 2948, 2975, 2984, 3001, 3014, 3016, 3019, 3025,\n",
       "        3026, 3032, 3043, 3049, 3054, 3062, 3063, 3068, 3076, 3083, 3085,\n",
       "        3087, 3108, 3110, 3117, 3129, 3136, 3151, 3155, 3157, 3176, 3179,\n",
       "        3190, 3192, 3197, 3200, 3204, 3206, 3208, 3211, 3217, 3223, 3235,\n",
       "        3247, 3249, 3263, 3267, 3288, 3296, 3312, 3324, 3329, 3334, 3344,\n",
       "        3353, 3356, 3366, 3373, 3375, 3376, 3404, 3411, 3415, 3427, 3430,\n",
       "        3434, 3441, 3445, 3448, 3451, 3452, 3465, 3466, 3468, 3476, 3480,\n",
       "        3485, 3497, 3510, 3526, 3528, 3540, 3544, 3559, 3562, 3566, 3567,\n",
       "        3571, 3572, 3587, 3595, 3606, 3608, 3610, 3623, 3634, 3680, 3703,\n",
       "        3706, 3708, 3711, 3721, 3727, 3733, 3736, 3739, 3740, 3742, 3743,\n",
       "        3746, 3750, 3773, 3779, 3781, 3783, 3785, 3786, 3787, 3797, 3800,\n",
       "        3828, 3831, 3832, 3845, 3846, 3848, 3849, 3857, 3858, 3859, 3864,\n",
       "        3869, 3874, 3879, 3880, 3889, 3892, 3895, 3902, 3926, 3927, 3932,\n",
       "        3934, 3944, 3951, 3960, 3961, 3972, 3975, 3985, 3988, 4008, 4011,\n",
       "        4045, 4066, 4068, 4088, 4098, 4110, 4116, 4119, 4126, 4127, 4132,\n",
       "        4155, 4163, 4172, 4173, 4187, 4235, 4247, 4251, 4255, 4256, 4263,\n",
       "        4271, 4272, 4275, 4276, 4283, 4291, 4305, 4306, 4312, 4314, 4317,\n",
       "        4321, 4325, 4332, 4335, 4336, 4349, 4355, 4360, 4367, 4368, 4381,\n",
       "        4385, 4397, 4410, 4423, 4426, 4428, 4440, 4442, 4447, 4449, 4470,\n",
       "        4486, 4499, 4502, 4510, 4524, 4527, 4531, 4532, 4542, 4555, 4556,\n",
       "        4570, 4576, 4579, 4582, 4588, 4591, 4604, 4608, 4609, 4631, 4638,\n",
       "        4665, 4674, 4675, 4677, 4679, 4683, 4686, 4688, 4699, 4704, 4719,\n",
       "        4722, 4734, 4739, 4742, 4744, 4746, 4748, 4756, 4758, 4763, 4764,\n",
       "        4769, 4777, 4786, 4788, 4789, 4790, 4791, 4795, 4801, 4806, 4815,\n",
       "        4831, 4833, 4836, 4852, 4858, 4863, 4871]),\n",
       " 4: array([  62,  100,  121,  148,  207,  238,  244,  307,  326,  331,  351,\n",
       "         377,  405,  408,  428,  429,  434,  476,  494,  499,  501,  502,\n",
       "         508,  510,  517,  524,  536,  543,  544,  551,  555,  556,  561,\n",
       "         564,  568,  571,  573,  574,  584,  586,  588,  591,  592,  594,\n",
       "         602,  604,  607,  611,  613,  630,  633,  634,  636,  646,  648,\n",
       "         659,  660,  665,  668,  670,  672,  679,  681,  682,  684,  696,\n",
       "         698,  699,  700,  705,  721,  724,  731,  753,  754,  756,  779,\n",
       "         781,  789,  790,  791,  796,  797,  805,  806,  808,  827,  830,\n",
       "         837,  838,  843,  848,  849,  850,  856,  863,  865,  870,  879,\n",
       "         881,  885,  889,  892,  896,  901,  909,  932,  938,  948,  954,\n",
       "         958,  960,  961,  963,  967,  969,  983,  984,  986,  997, 1002,\n",
       "        1003, 1010, 1024, 1025, 1030, 1034, 1035, 1036, 1037, 1039, 1052,\n",
       "        1053, 1057, 1059, 1084, 1087, 1088, 1090, 1093, 1095, 1110, 1113,\n",
       "        1122, 1124, 1128, 1136, 1143, 1156, 1157, 1163, 1167, 1168, 1176,\n",
       "        1177, 1187, 1206, 1210, 1211, 1215, 1226, 1229, 1230, 1234, 1238,\n",
       "        1240, 1247, 1248, 1256, 1258, 1261, 1267, 1270, 1273, 1278, 1281,\n",
       "        1285, 1286, 1289, 1293, 1294, 1299, 1304, 1307, 1313, 1317, 1319,\n",
       "        1321, 1326, 1338, 1340, 1341, 1350, 1351, 1354, 1362, 1364, 1366,\n",
       "        1367, 1373, 1374, 1375, 1386, 1390, 1399, 1410, 1415, 1419, 1420,\n",
       "        1435, 1439, 1441, 1445, 1455, 1464, 1472, 1484, 1485, 1492, 1495,\n",
       "        1496, 1501, 1503, 1511, 1522, 1524, 1531, 1533, 1539, 1543, 1545,\n",
       "        1555, 1562, 1574, 1575, 1586, 1602, 1603, 1606, 1609, 1611, 1617,\n",
       "        1638, 1656, 1673, 1675, 1687, 1694, 1702, 1706, 1708, 1709, 1712,\n",
       "        1724, 1725, 1729, 1731, 1733, 1737, 1738, 1739, 1746, 1748, 1759,\n",
       "        1772, 1788, 1796, 1806, 1808, 1814, 1815, 1816, 1826, 1834, 1839,\n",
       "        1844, 1845, 1854, 1869, 1871, 1877, 1883, 1886, 1890, 1891, 1892,\n",
       "        1893, 1895, 1899, 1902, 1904, 1906, 1908, 1910, 1913, 1916, 1928,\n",
       "        1937, 1939, 1946, 1947, 1955, 1957, 1960, 1961, 1962, 1964, 1969,\n",
       "        1974, 1977, 1980, 1995, 1997, 2003, 2006, 2008, 2017, 2019, 2021,\n",
       "        2026, 2027, 2029, 2038, 2040, 2043, 2044, 2046, 2053, 2061, 2068,\n",
       "        2071, 2073, 2079, 2080, 2096, 2099, 2105, 2114, 2118, 2120, 2121,\n",
       "        2133, 2135, 2142, 2144, 2149, 2156, 2157, 2162, 2165, 2166, 2168,\n",
       "        2170, 2173, 2174, 2181, 2182, 2195, 2198, 2205, 2206, 2207, 2208,\n",
       "        2230, 2233, 2234, 2244, 2246, 2248, 2251, 2253, 2255, 2257, 2260,\n",
       "        2262, 2263, 2274, 2287, 2288, 2292, 2293, 2298, 2307, 2314, 2330,\n",
       "        2332, 2335, 2339, 2340, 2343, 2344, 2345, 2347, 2348, 2349, 2351,\n",
       "        2354, 2358, 2363, 2365, 2368, 2378, 2379, 2382, 2384, 2387, 2389,\n",
       "        2390, 2396, 2397, 2400, 2403, 2407, 2409, 2420, 2447, 2449, 2455,\n",
       "        2461, 2468, 2473, 2485, 2495, 2497, 2507, 2510, 2518, 2519, 2520,\n",
       "        2525, 2526, 2527, 2529, 2537, 2547, 2548, 2549, 2550, 2557, 2558,\n",
       "        2559, 2561, 2564, 2566, 2570, 2574, 2594, 2597, 2600, 2606, 2609,\n",
       "        2621, 2627, 2628, 2631, 2632, 2636, 2646, 2648, 2654, 2656, 2658,\n",
       "        2660, 2662, 2669, 2682, 2688, 2691, 2693, 2694, 2697, 2699, 2700,\n",
       "        2702, 2709, 2712, 2718, 2736, 2740, 2743, 2744, 2749, 2754, 2756,\n",
       "        2758, 2761, 2766, 2769, 2778, 2779, 2780, 2781, 2785, 2786, 2787,\n",
       "        2792, 2793, 2796, 2800, 2802, 2803, 2806, 2807, 2813, 2818, 2820,\n",
       "        2824, 2827, 2831, 2832, 2842, 2846, 2849, 2852, 2857, 2859, 2867,\n",
       "        2868, 2870, 2877, 2879, 2895, 2899, 2901, 2906, 2907, 2908, 2911,\n",
       "        2914, 2922, 2926, 2935, 2938, 2943, 2947, 2949, 2950, 2957, 2967,\n",
       "        2970, 2972, 2976, 2989, 2993, 2995, 2996, 3002, 3009, 3011, 3018,\n",
       "        3033, 3037, 3038, 3044, 3047, 3051, 3053, 3055, 3058, 3061, 3073,\n",
       "        3078, 3081, 3089, 3091, 3093, 3095, 3098, 3102, 3106, 3111, 3112,\n",
       "        3114, 3119, 3122, 3125, 3128, 3140, 3141, 3142, 3148, 3159, 3160,\n",
       "        3161, 3165, 3167, 3170, 3177, 3178, 3181, 3182, 3184, 3188, 3195,\n",
       "        3203, 3207, 3213, 3214, 3219, 3221, 3226, 3227, 3239, 3240, 3245,\n",
       "        3259, 3260, 3261, 3269, 3274, 3276, 3279, 3282, 3284, 3285, 3286,\n",
       "        3287, 3289, 3295, 3300, 3303, 3304, 3306, 3307, 3314, 3315, 3318,\n",
       "        3320, 3325, 3328, 3332, 3333, 3339, 3347, 3364, 3368, 3370, 3377,\n",
       "        3380, 3383, 3397, 3401, 3405, 3410, 3414, 3418, 3419, 3421, 3423,\n",
       "        3425, 3429, 3435, 3437, 3438, 3440, 3442, 3446, 3449, 3450, 3457,\n",
       "        3458, 3462, 3472, 3474, 3489, 3490, 3494, 3496, 3501, 3509, 3516,\n",
       "        3517, 3524, 3525, 3530, 3533, 3536, 3542, 3543, 3545, 3547, 3556,\n",
       "        3557, 3561, 3563, 3564, 3565, 3576, 3577, 3592, 3593, 3601, 3602,\n",
       "        3605, 3607, 3612, 3613, 3616, 3621, 3622, 3626, 3629, 3630, 3633,\n",
       "        3637, 3638, 3643, 3645, 3648, 3654, 3655, 3657, 3664, 3666, 3681,\n",
       "        3685, 3688, 3709, 3713, 3718, 3724, 3725, 3730, 3741, 3757, 3762,\n",
       "        3763, 3766, 3778, 3790, 3792, 3806, 3807, 3808, 3825, 3827, 3830,\n",
       "        3834, 3835, 3836, 3841, 3844, 3850, 3852, 3856, 3860, 3862, 3868,\n",
       "        3875, 3876, 3878, 3884, 3885, 3888, 3890, 3893, 3906, 3907, 3909,\n",
       "        3914, 3923, 3925, 3928, 3937, 3938, 3942, 3946, 3947, 3950, 3953,\n",
       "        3957, 3958, 3968, 3970, 3974, 3977, 3981, 3989, 3993, 3996, 4004,\n",
       "        4006, 4014, 4016, 4028, 4030, 4031, 4034, 4035, 4036, 4038, 4040,\n",
       "        4041, 4047, 4051, 4054, 4058, 4061, 4067, 4069, 4070, 4072, 4074,\n",
       "        4077, 4084, 4085, 4093, 4096, 4097, 4099, 4105, 4109, 4117, 4118,\n",
       "        4131, 4133, 4146, 4153, 4162, 4164, 4167, 4168, 4170, 4171, 4175,\n",
       "        4180, 4188, 4189, 4190, 4195, 4206, 4209, 4215, 4222, 4225, 4226,\n",
       "        4227, 4228, 4234, 4238, 4239, 4240, 4243, 4246, 4252, 4254, 4261,\n",
       "        4262, 4266, 4268, 4286, 4289, 4295, 4296, 4297, 4299, 4307, 4310,\n",
       "        4322, 4323, 4326, 4333, 4342, 4343, 4344, 4345, 4352, 4353, 4354,\n",
       "        4363, 4369, 4372, 4374, 4377, 4387, 4388, 4391, 4395, 4396, 4398,\n",
       "        4402, 4405, 4406, 4408, 4416, 4424, 4425, 4431, 4438, 4443, 4451,\n",
       "        4456, 4458, 4460, 4467, 4469, 4489, 4492, 4493, 4495, 4496, 4500,\n",
       "        4505, 4508, 4509, 4513, 4518, 4519, 4522, 4526, 4535, 4538, 4540,\n",
       "        4545, 4551, 4553, 4571, 4581, 4586, 4590, 4594, 4595, 4600, 4601,\n",
       "        4611, 4613, 4615, 4620, 4621, 4627, 4628, 4636, 4644, 4645, 4650,\n",
       "        4659, 4660, 4661, 4663, 4669, 4678, 4680, 4687, 4695, 4702, 4707,\n",
       "        4708, 4710, 4716, 4717, 4723, 4727, 4735, 4736, 4755, 4760, 4768,\n",
       "        4798, 4799, 4810, 4813, 4814, 4817, 4823, 4859, 4869, 4873])}"
      ]
     },
     "execution_count": 14,
     "metadata": {},
     "output_type": "execute_result"
    }
   ],
   "source": [
    "cell_clusters = separate_donors(AD, DP, modelCA, cells_meta, OUTDIR,\n",
    "                    doublet_prob,\n",
    "                    prob_thresh = 0.9, doublet_thresh = 0.9, vars_meta=vars_df)\n",
    "cell_clusters"
   ]
  },
  {
   "cell_type": "code",
   "execution_count": 15,
   "metadata": {
    "ExecuteTime": {
     "end_time": "2021-06-04T00:10:46.544198Z",
     "start_time": "2021-06-04T00:03:17.069130Z"
    },
    "scrolled": true
   },
   "outputs": [],
   "source": [
    "if to_elbo:\n",
    "    run_elbo(AD, DP, out_f=join(OUTDIR, \"donors_elbo\"), \n",
    "             n_clone_list=np.arange(N_DONORS-2, N_DONORS+3), \n",
    "             n_cores=12, cells_meta=cells_meta, save_clusters=False,)"
   ]
  },
  {
   "cell_type": "code",
   "execution_count": 16,
   "metadata": {
    "ExecuteTime": {
     "end_time": "2021-06-04T03:11:57.304924Z",
     "start_time": "2021-06-04T03:11:57.275096Z"
    }
   },
   "outputs": [],
   "source": [
    "#modelCA.ID"
   ]
  },
  {
   "cell_type": "code",
   "execution_count": 17,
   "metadata": {
    "ExecuteTime": {
     "end_time": "2021-06-04T03:11:54.154777Z",
     "start_time": "2021-06-04T00:45:00.501888Z"
    },
    "code_folding": [
     0
    ],
    "scrolled": false
   },
   "outputs": [
    {
     "name": "stdout",
     "output_type": "stream",
     "text": [
      "clustering\n",
      "cmap Oranges\n",
      "AF_SNPs shape (501, 5)\n",
      "clustering\n",
      "cmap Blues\n"
     ]
    },
    {
     "data": {
      "image/png": "[encoded data removed]",
      "text/plain": [
       "<Figure size 720x720 with 5 Axes>"
      ]
     },
     "metadata": {
      "needs_background": "light"
     },
     "output_type": "display_data"
    },
    {
     "data": {
      "image/png": "[encoded data removed]",
      "text/plain": [
       "<Figure size 720x720 with 4 Axes>"
      ]
     },
     "metadata": {
      "needs_background": "light"
     },
     "output_type": "display_data"
    }
   ],
   "source": [
    "clust_df, AF_SNPs = plot_vireo_out(modelCA, out_f=join(OUTDIR, \"multiplex_clusters_all\"), labels=cells_meta[['condition']],\n",
    "                                   to_sqrt=False, doublet_prob=doublet_prob)"
   ]
  },
  {
   "cell_type": "code",
   "execution_count": 18,
   "metadata": {
    "ExecuteTime": {
     "end_time": "2021-06-04T00:44:52.260773Z",
     "start_time": "2021-06-04T00:01:29.513Z"
    },
    "scrolled": true
   },
   "outputs": [
    {
     "name": "stdout",
     "output_type": "stream",
     "text": [
      "Control\n",
      "             AF 1          AF 2          AF 3          AF 4          AF 5  \\\n",
      "0    2.715171e-07  2.371839e-08  1.866201e-07  1.000000e+00  3.405717e-07   \n",
      "1    3.618948e-07  2.025060e-07  3.722201e-07  1.000000e+00  3.685317e-07   \n",
      "2    1.000000e+00  2.432974e-07  4.173987e-07  3.948458e-07  1.020944e-07   \n",
      "3    2.170017e-07  1.000000e+00  5.003820e-08  4.156468e-07  5.348577e-08   \n",
      "4    8.035316e-08  2.845406e-07  1.000000e+00  2.787358e-09  3.674766e-07   \n",
      "..            ...           ...           ...           ...           ...   \n",
      "483  4.499470e-07  1.000000e+00  3.119482e-07  2.548788e-08  2.151667e-07   \n",
      "484  2.047672e-07  1.283668e-09  4.578730e-07  1.000000e+00  4.332353e-07   \n",
      "485  1.000000e+00  4.036069e-07  9.797086e-09  2.004052e-07  2.522144e-07   \n",
      "486  4.726908e-08  2.166846e-07  1.000000e+00  8.854890e-08  3.184772e-07   \n",
      "487  7.645862e-08  1.000000e+00  3.997811e-08  3.938318e-07  1.884055e-07   \n",
      "\n",
      "     Doublet  \n",
      "0        0.0  \n",
      "1        0.0  \n",
      "2        0.0  \n",
      "3        0.0  \n",
      "4        0.0  \n",
      "..       ...  \n",
      "483      0.0  \n",
      "484      0.0  \n",
      "485      0.0  \n",
      "486      0.0  \n",
      "487      0.0  \n",
      "\n",
      "[488 rows x 6 columns]\n",
      "clustering\n",
      "cmap Oranges\n",
      "Flt3l\n",
      "              AF 1          AF 2          AF 3          AF 4          AF 5  \\\n",
      "488   2.061837e-07  3.537485e-07  2.124001e-07  1.000000e+00  4.598573e-07   \n",
      "489   4.965853e-07  6.838683e-08  1.000000e+00  4.392005e-07  1.611275e-07   \n",
      "490   1.000000e+00  1.940501e-07  4.940268e-07  1.795746e-07  4.894589e-07   \n",
      "491   1.927136e-07  1.000000e+00  2.712848e-07  9.611130e-08  4.525794e-07   \n",
      "492   4.386716e-07  4.194679e-07  2.915135e-07  1.000000e+00  2.612404e-07   \n",
      "...            ...           ...           ...           ...           ...   \n",
      "4683  1.931668e-07  1.000000e+00  2.024046e-07  2.677713e-07  4.857288e-07   \n",
      "4684  1.884412e-07  1.000000e+00  4.182369e-07  3.888609e-07  3.392876e-07   \n",
      "4685  4.991328e-07  6.251518e-08  2.656884e-07  1.000000e+00  4.856387e-09   \n",
      "4686  2.588685e-07  4.194802e-07  6.121418e-08  3.836482e-07  1.000000e+00   \n",
      "4687  1.019745e-07  1.067455e-07  2.509033e-07  1.000000e+00  1.807759e-08   \n",
      "\n",
      "      Doublet  \n",
      "488       0.0  \n",
      "489       0.0  \n",
      "490       0.0  \n",
      "491       1.0  \n",
      "492       0.0  \n",
      "...       ...  \n",
      "4683      0.0  \n",
      "4684      0.0  \n",
      "4685      0.0  \n",
      "4686      0.0  \n",
      "4687      0.0  \n",
      "\n",
      "[4200 rows x 6 columns]\n",
      "clustering\n",
      "cmap Oranges\n",
      "Input\n",
      "              AF 1          AF 2          AF 3          AF 4          AF 5  \\\n",
      "4688  1.437158e-07  1.000000e+00  5.394408e-08  9.879039e-08  1.181672e-07   \n",
      "4689  2.914451e-07  4.869444e-07  1.000000e+00  4.503208e-07  3.325336e-07   \n",
      "4690  5.487817e-08  2.393715e-07  1.000000e+00  2.477025e-07  9.449708e-08   \n",
      "4691  1.000000e+00  3.813875e-07  3.112335e-07  6.775232e-08  1.700470e-07   \n",
      "4692  3.598390e-07  4.249436e-09  1.000000e+00  2.840317e-07  4.967795e-07   \n",
      "...            ...           ...           ...           ...           ...   \n",
      "4870  5.551222e-08  3.667349e-07  3.728565e-07  1.000000e+00  2.604680e-07   \n",
      "4871  4.272141e-07  1.000000e+00  3.948676e-07  3.456343e-08  1.289661e-07   \n",
      "4872  4.600761e-07  4.273042e-07  2.149901e-07  1.830193e-07  1.000000e+00   \n",
      "4873  1.000000e+00  1.721393e-07  4.016445e-07  3.520274e-07  2.783492e-07   \n",
      "4874  1.000000e+00  1.945292e-07  4.124395e-07  2.538649e-07  3.963360e-07   \n",
      "\n",
      "      Doublet  \n",
      "4688      0.0  \n",
      "4689      0.0  \n",
      "4690      1.0  \n",
      "4691      0.0  \n",
      "4692      1.0  \n",
      "...       ...  \n",
      "4870      0.0  \n",
      "4871      1.0  \n",
      "4872      0.0  \n",
      "4873      0.0  \n",
      "4874      0.0  \n",
      "\n",
      "[187 rows x 6 columns]\n",
      "clustering\n",
      "cmap Oranges\n"
     ]
    },
    {
     "data": {
      "text/plain": [
       "<Figure size 432x288 with 0 Axes>"
      ]
     },
     "metadata": {},
     "output_type": "display_data"
    },
    {
     "data": {
      "image/png": "[encoded data removed]",
      "text/plain": [
       "<Figure size 720x720 with 4 Axes>"
      ]
     },
     "metadata": {
      "needs_background": "light"
     },
     "output_type": "display_data"
    },
    {
     "data": {
      "text/plain": [
       "<Figure size 432x288 with 0 Axes>"
      ]
     },
     "metadata": {},
     "output_type": "display_data"
    },
    {
     "data": {
      "image/png": "[encoded data removed]",
      "text/plain": [
       "<Figure size 720x720 with 4 Axes>"
      ]
     },
     "metadata": {
      "needs_background": "light"
     },
     "output_type": "display_data"
    },
    {
     "data": {
      "text/plain": [
       "<Figure size 432x288 with 0 Axes>"
      ]
     },
     "metadata": {},
     "output_type": "display_data"
    },
    {
     "data": {
      "image/png": "[encoded data removed]",
      "text/plain": [
       "<Figure size 720x720 with 4 Axes>"
      ]
     },
     "metadata": {
      "needs_background": "light"
     },
     "output_type": "display_data"
    }
   ],
   "source": [
    "for ind, val in cells_meta.groupby(\"condition\"):\n",
    "    print(ind)\n",
    "    print(clust_df.loc[val.index]) #, curr_AF_SNPs\n",
    "    f = plt.figure()\n",
    "#     curr_AF_SNPs = AF_SNPs \n",
    "#     im = heat_matrix(np.sqrt(curr_AF_SNPs[(curr_AF_SNPs.sum(axis=1)>0.01),:]), cmap=\"Blues\", alpha=0.8,\n",
    "#             display_value=False, row_sort=True)\n",
    "    ch.plot_cluster(clust_df.loc[val.index], cmap='Oranges', alpha=0.8,\n",
    "                to_row_clust=True, to_col_clust=False,\n",
    "                to_legend=True,\n",
    "                white_name=None)\n",
    "    plt.suptitle(ind)\n",
    "    plt.savefig(join(OUTDIR, f\"multiplex_clusters_{ind}\"))"
   ]
  },
  {
   "cell_type": "code",
   "execution_count": null,
   "metadata": {},
   "outputs": [],
   "source": []
  },
  {
   "cell_type": "code",
   "execution_count": 19,
   "metadata": {
    "ExecuteTime": {
     "end_time": "2021-06-04T00:44:52.262308Z",
     "start_time": "2021-06-04T00:01:29.515Z"
    },
    "scrolled": true
   },
   "outputs": [
    {
     "data": {
      "image/png": "[encoded data removed]",
      "text/plain": [
       "<Figure size 432x288 with 1 Axes>"
      ]
     },
     "metadata": {
      "needs_background": "light"
     },
     "output_type": "display_data"
    }
   ],
   "source": [
    "f = plt.figure()\n",
    "im = heat_matrix(np.sqrt(AF_SNPs[(AF_SNPs.sum(axis=1)>0.01),:]), cmap=\"Blues\", alpha=0.8,\n",
    "                 display_value=False, row_sort=True)\n",
    "plt.savefig(join(OUTDIR, \"multiplex_AF_SNPs_all_afFilt\"))"
   ]
  }
 ],
 "metadata": {
  "celltoolbar": "Tags",
  "kernelspec": {
   "display_name": "Python 3",
   "language": "python",
   "name": "python3"
  },
  "language_info": {
   "codemirror_mode": {
    "name": "ipython",
    "version": 3
   },
   "file_extension": ".py",
   "mimetype": "text/x-python",
   "name": "python",
   "nbconvert_exporter": "python",
   "pygments_lexer": "ipython3",
   "version": "3.6.13"
  },
  "papermill": {
   "default_parameters": {},
   "duration": 5560.364131,
   "end_time": "2021-01-27T10:03:31.625455",
   "environment_variables": {},
   "exception": null,
   "input_path": "/data2/mito_lineage/src/vireo/vireoSNP_clones.ipynb",
   "output_path": "results/jan21_2021/chrM/P2_cellSNP_minC200_minAF0.01/lineage_chrM.ipynb",
   "parameters": {
    "AD_F": "data/jan21_2021/chrM/P2_cellSNP_minC200_minAF0.01/cellSNP.tag.AD.mtx",
    "DP_F": "data/jan21_2021/chrM/P2_cellSNP_minC200_minAF0.01/cellSNP.tag.DP.mtx"
   },
   "start_time": "2021-01-27T08:30:51.261324",
   "version": "2.2.0"
  }
 },
 "nbformat": 4,
 "nbformat_minor": 4
}
