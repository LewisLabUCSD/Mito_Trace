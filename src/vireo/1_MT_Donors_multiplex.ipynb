{
 "cells": [
  {
   "cell_type": "markdown",
   "metadata": {
    "papermill": {
     "duration": 0.047745,
     "end_time": "2021-01-27T08:30:54.010679",
     "exception": false,
     "start_time": "2021-01-27T08:30:53.962934",
     "status": "completed"
    },
    "tags": []
   },
   "source": [
    "# Using vireo for multiplexing, followed by lineage tracing of those groups"
   ]
  },
  {
   "cell_type": "markdown",
   "metadata": {},
   "source": [
    "# 1. Change to analysis directory"
   ]
  },
  {
   "cell_type": "code",
   "execution_count": null,
   "metadata": {
    "ExecuteTime": {
     "end_time": "2021-06-04T00:01:29.377696Z",
     "start_time": "2021-06-04T00:01:29.374601Z"
    }
   },
   "outputs": [],
   "source": [
    "import os\n",
    "os.chdir(\"/data2/mito_lineage\")#/Analysis/multiplex\")"
   ]
  },
  {
   "cell_type": "code",
   "execution_count": null,
   "metadata": {
    "ExecuteTime": {
     "end_time": "2021-06-04T00:01:29.395300Z",
     "start_time": "2021-06-04T00:01:29.379755Z"
    },
    "scrolled": false
   },
   "outputs": [],
   "source": [
    "pwd"
   ]
  },
  {
   "cell_type": "markdown",
   "metadata": {},
   "source": [
    "### Remove this when running in snakemake"
   ]
  },
  {
   "cell_type": "markdown",
   "metadata": {},
   "source": [
    "## 1.1 Parameters"
   ]
  },
  {
   "cell_type": "code",
   "execution_count": null,
   "metadata": {
    "ExecuteTime": {
     "end_time": "2021-06-04T00:01:29.413241Z",
     "start_time": "2021-06-04T00:01:29.410435Z"
    },
    "tags": [
     "parameters"
    ]
   },
   "outputs": [],
   "source": [
    "# INDIR= \"data/processed/mttrace/CHIP_april08_2021_Croker/MTblacklist/merged/MT/cellr_True/numread_200/filters/minC10_minR50_topN0_hetT0.001_hetC10_hetCount5_bq20/filter_mgatk/vireoIn\"\n",
    "# OUTDIR= \"data/processed/mttrace/CHIP_april08_2021_Croker/MTblacklist/merged/MT/cellr_True/numread_200/filters/minC10_minR50_topN0_hetT0.001_hetC10_hetCount5_bq20/filter_mgatk/vireoIn/multiplex\"\n",
    "# N_DONORS=5\n",
    "# sample_names=\"\" \n",
    "# to_elbo = False\n",
    "\n",
    "INDIR=\"output/clones/CHIP_april08_2021/MTblacklist/merged/filters/minC10_minR50_topN0_hetT0.001_hetC10_hetCount5_bq20/filter_mgatk/vireoIn\"\n",
    "OUTDIR=\"output/clones/CHIP_april08_2021/MTblacklist/merged/filters/minC10_minR50_topN0_hetT0.001_hetC10_hetCount5_bq20/filter_mgatk/vireoIn/multiplex\"\n",
    "N_DONORS=5\n",
    "sample_names=\"Control,Flt3l,Input\"\n",
    "to_elbo=False"
   ]
  },
  {
   "cell_type": "code",
   "execution_count": null,
   "metadata": {
    "ExecuteTime": {
     "end_time": "2021-06-04T00:01:29.422032Z",
     "start_time": "2021-06-04T00:01:29.417721Z"
    }
   },
   "outputs": [],
   "source": [
    "# # Parameters\n",
    "# INDIR=\"data/CHIP_april08_2021/MTblacklist/chrM/pseudo/minC200_minAF0.0001/numC25000_ispropFalse/\"\n",
    "# #INDIR=\"data/jan21_2021/chrM/pseudo/minC200_minAF0.01/numC25000_ispropFalse/\"\n",
    "# N_DONORS=5\n",
    "# OUTDIR=\"\"#\"data/CHIP_april08_2021/MTblacklist/chrM/pseudo/minC200_minAF0.0001/numC25000_ispropFalse/flt3\"\n",
    "# #sample_csv=\"/data2/mito_lineage/parameters/CHIP_april08_2021/CHIP_april08_2021.csv\"\n",
    "# sample_names=\"\" #\"Control,Flt3l,Input\""
   ]
  },
  {
   "cell_type": "markdown",
   "metadata": {},
   "source": [
    "## 1.2 Import packages"
   ]
  },
  {
   "cell_type": "code",
   "execution_count": null,
   "metadata": {
    "ExecuteTime": {
     "end_time": "2021-06-04T00:01:31.155755Z",
     "start_time": "2021-06-04T00:01:29.427932Z"
    },
    "scrolled": false
   },
   "outputs": [],
   "source": [
    "from os.path import join, exists, dirname\n",
    "from glob import glob\n",
    "import mplh.cluster_help as ch\n",
    "import os\n",
    "from vireoSNP.plot.base_plot import heat_matrix\n",
    "from vireoSNP import Vireo\n",
    "import src.pseudo_batch as pb\n",
    "import vireoSNP\n",
    "print(vireoSNP.__version__)\n",
    "import numpy as np\n",
    "from scipy import sparse\n",
    "from scipy.io import mmread\n",
    "import matplotlib.pyplot as plt\n",
    "import pandas as pd\n",
    "import seaborn as sns\n",
    "from src.vireo.vireo_utils import run_vireo, plot_vireo_out, extract_clusters, run_elbo, separate_donors\n",
    "%load_ext autoreload\n",
    "%autoreload 2"
   ]
  },
  {
   "cell_type": "code",
   "execution_count": null,
   "metadata": {
    "ExecuteTime": {
     "end_time": "2021-06-04T00:01:31.175538Z",
     "start_time": "2021-06-04T00:01:31.158256Z"
    },
    "execution": {
     "iopub.execute_input": "2021-01-27T08:30:58.591556Z",
     "iopub.status.busy": "2021-01-27T08:30:58.589747Z",
     "iopub.status.idle": "2021-01-27T08:30:58.595785Z",
     "shell.execute_reply": "2021-01-27T08:30:58.597375Z"
    },
    "papermill": {
     "duration": 0.08872,
     "end_time": "2021-01-27T08:30:58.597995",
     "exception": false,
     "start_time": "2021-01-27T08:30:58.509275",
     "status": "completed"
    },
    "tags": []
   },
   "outputs": [],
   "source": [
    "np.set_printoptions(formatter={'float': lambda x: format(x, '.5f')})"
   ]
  },
  {
   "cell_type": "markdown",
   "metadata": {},
   "source": [
    "## 1.3 Load"
   ]
  },
  {
   "cell_type": "code",
   "execution_count": null,
   "metadata": {
    "ExecuteTime": {
     "end_time": "2021-06-04T00:01:31.195925Z",
     "start_time": "2021-06-04T00:01:31.178238Z"
    }
   },
   "outputs": [],
   "source": [
    "AD_F = join(INDIR, \"cellSNP.tag.AD.mtx\")\n",
    "DP_F = join(INDIR, \"cellSNP.tag.DP.mtx\")\n",
    "cell_inds_names = join(INDIR,\"cell_indices_*.txt\")\n",
    "cells_meta_f = join(INDIR, \"cells_meta.tsv\")\n",
    "vars_f = join(INDIR, \"cellSNP.base.vcf\")\n"
   ]
  },
  {
   "cell_type": "code",
   "execution_count": null,
   "metadata": {
    "ExecuteTime": {
     "end_time": "2021-06-04T00:01:31.317536Z",
     "start_time": "2021-06-04T00:01:31.198078Z"
    },
    "scrolled": false
   },
   "outputs": [],
   "source": [
    "vars_df = pd.read_csv(vars_f, sep=\"\\t\")\n",
    "vars_df"
   ]
  },
  {
   "cell_type": "code",
   "execution_count": null,
   "metadata": {
    "ExecuteTime": {
     "end_time": "2021-06-04T00:01:31.359353Z",
     "start_time": "2021-06-04T00:01:31.319596Z"
    }
   },
   "outputs": [],
   "source": [
    "# columns are 'ID', 'raw ID', and 'new index'. The first contains the\n",
    "# suffix with the old id, the new index contains the mapping to the\n",
    "# outputted subsampled cells, which is 1-based, and the raw ID is the initial cell IDs without the suffix.   \n",
    "cells_meta = pd.read_csv(cells_meta_f, sep=\"\\t\")\n",
    "cells_meta = cells_meta.sort_values('new index')\n",
    "print('cells_meta', cells_meta.head())\n",
    "sample_names = {ind:val for ind,val in enumerate(sample_names.split(\",\"))}\n",
    "print('sample_names', sample_names)"
   ]
  },
  {
   "cell_type": "code",
   "execution_count": null,
   "metadata": {
    "ExecuteTime": {
     "end_time": "2021-06-04T00:01:39.093995Z",
     "start_time": "2021-06-04T00:01:31.361239Z"
    },
    "execution": {
     "iopub.execute_input": "2021-01-27T08:30:58.733722Z",
     "iopub.status.busy": "2021-01-27T08:30:58.731514Z",
     "iopub.status.idle": "2021-01-27T08:31:11.479507Z",
     "shell.execute_reply": "2021-01-27T08:31:11.480844Z"
    },
    "papermill": {
     "duration": 12.824224,
     "end_time": "2021-01-27T08:31:11.481566",
     "exception": false,
     "start_time": "2021-01-27T08:30:58.657342",
     "status": "completed"
    },
    "scrolled": true,
    "tags": []
   },
   "outputs": [],
   "source": [
    "AD = mmread(AD_F).tocsc()\n",
    "DP = mmread(DP_F).tocsc()\n",
    "AD_shape = AD.todense().shape\n",
    "print('AD_shape', AD_shape)\n",
    "assert(AD_shape[1]) == cells_meta.shape[0] # These should match up."
   ]
  },
  {
   "cell_type": "markdown",
   "metadata": {},
   "source": [
    "## Add in cell IDs to get sample information"
   ]
  },
  {
   "cell_type": "code",
   "execution_count": null,
   "metadata": {
    "ExecuteTime": {
     "end_time": "2021-06-04T00:01:39.120097Z",
     "start_time": "2021-06-04T00:01:39.096664Z"
    },
    "scrolled": true
   },
   "outputs": [],
   "source": [
    "# # A. \n",
    "# # Input: cell indices files, where first line is name of file, and the rest is a df with column header of 'old index', 'new index'\n",
    "# # Output: A. cell_map: Dictionary where each key is the sample file (relative), and the value is the 'new index' column. \n",
    "#         # B. in_cell_names: List of the keys, which are files\n",
    "# in_cell_f = glob(cell_inds_names)\n",
    "# print('cell inds', in_cell_f)\n",
    "# in_cell_names = []\n",
    "# cell_map = {}\n",
    "# for curr_cell_f in in_cell_f:\n",
    "#     print(curr_cell_f)\n",
    "#     with open(curr_cell_f, \"r\") as f:\n",
    "#         count = 0\n",
    "#         lines = []\n",
    "#         for line in f: \n",
    "#             if count == 0:\n",
    "#                 curr_f = line.strip()\n",
    "#             else:\n",
    "#                 lines.append(line.strip().split(','))\n",
    "#             count += 1\n",
    "#     curr_df = pd.DataFrame(lines[1:], columns=lines[0])\n",
    "#     cell_map[curr_f] = curr_df[\"new index\"].astype(int).values\n",
    "#     in_cell_names.append(curr_f)\n",
    "\n",
    "# # Get the maximum index across the two\n",
    "# max_v = 0\n",
    "# for i in in_cell_names:\n",
    "#     max_v = max(max_v, max(cell_map[i]))\n",
    "\n",
    "    \n",
    "# # B. Input: in_cell_names: The list of keys\n",
    "# #    Output: cell_ind_map:  dict where keys are the sample map names and the values are unique ordered 0-indexed ints,\n",
    "# #                           with the order based on in_cell_names\n",
    "# cell_ind_map = {}\n",
    "# count = 0\n",
    "# for i in in_cell_names: \n",
    "#     cell_ind_map[i] = count\n",
    "#     count += 1\n",
    "\n",
    "\n",
    "\n",
    "# # cell_inds: np.array where the length is the number of cells in the pseudo population, \n",
    "# #            and the element is an int that maps to a sample based on the cell_ind_map. \n",
    "# cell_inds = -1*np.ones(max_v)\n",
    "# for i in in_cell_names:\n",
    "#     cell_inds[cell_map[i]-1] = cell_ind_map[i] #cell_map[i]\n",
    "# cell_inds=cell_inds.astype(int)\n",
    "# print('cell_inds', cell_inds)\n",
    "# # Assign colors to the samples.\n",
    "# cells_meta = pd.DataFrame([sample_names[x] for x in cell_inds], columns=[\"sample ID\"])\n",
    "# colors = sns.color_palette(\"Set2\", len(list(set(cells_meta['sample ID'])))) #{0:\"blue\", 1:\"red\"}\n",
    "# cell_colors = [colors[x] for x in cell_inds]\n",
    "# cell_colors = pd.Series(cell_colors, name=\"sample ID\")\n",
    "\n",
    "# cells_meta"
   ]
  },
  {
   "cell_type": "markdown",
   "metadata": {},
   "source": [
    "# 2 Run vireo to demultiplex"
   ]
  },
  {
   "cell_type": "code",
   "execution_count": null,
   "metadata": {
    "ExecuteTime": {
     "end_time": "2021-06-04T00:03:07.416891Z",
     "start_time": "2021-06-04T00:01:39.122123Z"
    },
    "code_folding": [],
    "scrolled": true
   },
   "outputs": [],
   "source": [
    "modelCA, elbo = run_vireo(AD, DP, N_DONORS, n_cores=32, plot_qc=True,out_f=join(OUTDIR, \"donors\"))\n",
    "try:\n",
    "    doublet_prob = modelCA.predict_doublet(AD, DP, update_GT=False, update_ID=False)[0].sum(axis=1)\n",
    "except AttributeError: # New version of Vireo 2021\n",
    "    doublet_prob = vireoSNP.utils.vireo_doublet.predict_doublet(modelCA,AD, DP, update_GT=False, update_ID=False)[0].sum(axis=1)"
   ]
  },
  {
   "cell_type": "markdown",
   "metadata": {},
   "source": [
    "## Extract donors"
   ]
  },
  {
   "cell_type": "code",
   "execution_count": null,
   "metadata": {
    "ExecuteTime": {
     "end_time": "2021-06-04T00:03:07.464097Z",
     "start_time": "2021-06-04T00:03:07.420708Z"
    },
    "code_folding": []
   },
   "outputs": [],
   "source": [
    "# cell_clusters = extract_clusters(modelCA, prob_thresh=0.9, doublet_thresh=0.9, doublet_prob=doublet_prob,\n",
    "#                                  cells_meta=cells_meta, outdir=OUTDIR, out_f=\"donors\")\n",
    "# cell_clusters"
   ]
  },
  {
   "cell_type": "code",
   "execution_count": null,
   "metadata": {
    "ExecuteTime": {
     "end_time": "2021-06-04T00:03:17.066713Z",
     "start_time": "2021-06-04T00:03:07.466307Z"
    },
    "scrolled": true
   },
   "outputs": [],
   "source": [
    "cell_clusters = separate_donors(AD, DP, modelCA, cells_meta, OUTDIR,\n",
    "                    doublet_prob,\n",
    "                    prob_thresh = 0.9, doublet_thresh = 0.9, vars_meta=vars_df)\n",
    "cell_clusters"
   ]
  },
  {
   "cell_type": "code",
   "execution_count": null,
   "metadata": {
    "ExecuteTime": {
     "end_time": "2021-06-04T00:10:46.544198Z",
     "start_time": "2021-06-04T00:03:17.069130Z"
    },
    "scrolled": true
   },
   "outputs": [],
   "source": [
    "if to_elbo:\n",
    "    run_elbo(AD, DP, out_f=join(OUTDIR, \"donors_elbo\"), \n",
    "             n_clone_list=np.arange(N_DONORS-2, N_DONORS+3), \n",
    "             n_cores=12, cells_meta=cells_meta, save_clusters=False,)"
   ]
  },
  {
   "cell_type": "code",
   "execution_count": null,
   "metadata": {},
   "outputs": [],
   "source": []
  },
  {
   "cell_type": "code",
   "execution_count": null,
   "metadata": {
    "ExecuteTime": {
     "end_time": "2021-06-04T03:11:57.304924Z",
     "start_time": "2021-06-04T03:11:57.275096Z"
    }
   },
   "outputs": [],
   "source": [
    "#modelCA.ID"
   ]
  },
  {
   "cell_type": "code",
   "execution_count": null,
   "metadata": {
    "ExecuteTime": {
     "end_time": "2021-06-04T03:11:54.154777Z",
     "start_time": "2021-06-04T00:45:00.501888Z"
    },
    "code_folding": [
     0
    ],
    "scrolled": true
   },
   "outputs": [],
   "source": [
    "clust_df, AF_SNPs = plot_vireo_out(modelCA, out_f=join(OUTDIR, \"multiplex_clusters_all\"), labels=cells_meta[['condition']],\n",
    "                                   to_sqrt=False, doublet_prob=doublet_prob)"
   ]
  },
  {
   "cell_type": "code",
   "execution_count": null,
   "metadata": {
    "ExecuteTime": {
     "end_time": "2021-06-04T00:44:52.260773Z",
     "start_time": "2021-06-04T00:01:29.513Z"
    },
    "scrolled": true
   },
   "outputs": [],
   "source": [
    "for ind, val in cells_meta.groupby(\"condition\"):\n",
    "    print(ind)\n",
    "    print(clust_df.loc[val.index]) #, curr_AF_SNPs\n",
    "    f = plt.figure()\n",
    "#     curr_AF_SNPs = AF_SNPs \n",
    "#     im = heat_matrix(np.sqrt(curr_AF_SNPs[(curr_AF_SNPs.sum(axis=1)>0.01),:]), cmap=\"Blues\", alpha=0.8,\n",
    "#             display_value=False, row_sort=True)\n",
    "    ch.plot_cluster(clust_df.loc[val.index], cmap='Oranges', alpha=0.8,\n",
    "                to_row_clust=True, to_col_clust=False,\n",
    "                to_legend=True,\n",
    "                white_name=None)\n",
    "    plt.suptitle(ind)\n",
    "    plt.savefig(join(OUTDIR, f\"multiplex_clusters_{ind}\"))"
   ]
  },
  {
   "cell_type": "code",
   "execution_count": null,
   "metadata": {},
   "outputs": [],
   "source": []
  },
  {
   "cell_type": "code",
   "execution_count": null,
   "metadata": {
    "ExecuteTime": {
     "end_time": "2021-06-04T00:44:52.262308Z",
     "start_time": "2021-06-04T00:01:29.515Z"
    },
    "scrolled": true
   },
   "outputs": [],
   "source": [
    "f = plt.figure()\n",
    "im = heat_matrix(np.sqrt(AF_SNPs[(AF_SNPs.sum(axis=1)>0.01),:]), cmap=\"Blues\", alpha=0.8,\n",
    "                 display_value=False, row_sort=True)\n",
    "plt.savefig(join(OUTDIR, \"multiplex_AF_SNPs_all_afFilt\"))"
   ]
  }
 ],
 "metadata": {
  "celltoolbar": "Tags",
  "kernelspec": {
   "display_name": "Python 3 (ipykernel)",
   "language": "python",
   "name": "python3"
  },
  "language_info": {
   "codemirror_mode": {
    "name": "ipython",
    "version": 3
   },
   "file_extension": ".py",
   "mimetype": "text/x-python",
   "name": "python",
   "nbconvert_exporter": "python",
   "pygments_lexer": "ipython3",
   "version": "3.7.10"
  },
  "papermill": {
   "default_parameters": {},
   "duration": 5560.364131,
   "end_time": "2021-01-27T10:03:31.625455",
   "environment_variables": {},
   "exception": null,
   "input_path": "/data2/mito_lineage/src/vireo/vireoSNP_clones.ipynb",
   "output_path": "results/jan21_2021/chrM/P2_cellSNP_minC200_minAF0.01/lineage_chrM.ipynb",
   "parameters": {
    "AD_F": "data/jan21_2021/chrM/P2_cellSNP_minC200_minAF0.01/cellSNP.tag.AD.mtx",
    "DP_F": "data/jan21_2021/chrM/P2_cellSNP_minC200_minAF0.01/cellSNP.tag.DP.mtx"
   },
   "start_time": "2021-01-27T08:30:51.261324",
   "version": "2.2.0"
  }
 },
 "nbformat": 4,
 "nbformat_minor": 4
}
