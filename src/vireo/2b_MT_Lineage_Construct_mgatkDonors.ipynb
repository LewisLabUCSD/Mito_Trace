{
 "cells": [
  {
   "cell_type": "markdown",
   "metadata": {
    "papermill": {
     "duration": 0.047745,
     "end_time": "2021-01-27T08:30:54.010679",
     "exception": false,
     "start_time": "2021-01-27T08:30:53.962934",
     "status": "completed"
    },
    "tags": []
   },
   "source": [
    "# Using vireo for multiplexing, followed by lineage tracing of those groups"
   ]
  },
  {
   "cell_type": "markdown",
   "metadata": {},
   "source": [
    "# 1. Set up"
   ]
  },
  {
   "cell_type": "code",
   "execution_count": 1,
   "metadata": {
    "ExecuteTime": {
     "end_time": "2021-06-04T17:43:43.984223Z",
     "start_time": "2021-06-04T17:43:43.979835Z"
    }
   },
   "outputs": [],
   "source": [
    "import os\n",
    "#os.chdir(\"/data2/mito_lineage/\")#Analysis/multiplex\")"
   ]
  },
  {
   "cell_type": "markdown",
   "metadata": {},
   "source": [
    "### Remove this when running in snakemake"
   ]
  },
  {
   "cell_type": "markdown",
   "metadata": {},
   "source": [
    "## 1.1 Parameters"
   ]
  },
  {
   "cell_type": "code",
   "execution_count": 4,
   "metadata": {
    "ExecuteTime": {
     "end_time": "2021-06-04T17:43:44.036919Z",
     "start_time": "2021-06-04T17:43:44.032369Z"
    },
    "tags": [
     "parameters"
    ]
   },
   "outputs": [],
   "source": [
    "DEBUG=True\n",
    "INDIR= \"/data/isshamie/mito_lineage/output/pipeline/cd34norm/MTblacklist/data/merged/MT/cellr_True/numread_200/filters/minC10_minR50_topN0_hetT0.001_hetC10_hetCount5_bq20/mgatk/vireoIn/clones/variants_mgatkdonor/vireo/donor0/mgatk_donor\"\n",
    "OUTDIR = \"/data/isshamie/mito_lineage/output/pipeline/cd34norm/MTblacklist/data/merged/MT/cellr_True/numread_200/filters/minC10_minR50_topN0_hetT0.001_hetC10_hetCount5_bq20/mgatk/vireoIn/clones/variants_mgatkdonor/vireo/nclones20\" \n",
    "#N_DONORS = 4 \n",
    "nclones = 20\n",
    "donor = 0\n",
    "\n",
    "n_cores=4\n",
    "# INDIR= \"data/processed/mttrace/TcellDupi_may17_2021/MTblacklist/merged/filters/minC10_minR50_topN0_hetT0.001_hetC10_hetCount5_bq20/filter_mgatk/vireoIn/multiplex/donors_mgatk_in/donor0/donor_mgatk/vireoIn/\"\n",
    "# OUTDIR = \"data/processed/mttrace/TcellDupi_may17_2021/MTblacklist/merged/filters/minC10_minR50_topN0_hetT0.001_hetC10_hetCount5_bq20/filter_mgatk/vireoIn/multiplex/donors_mgatk_in/donor0/donor_mgatk/vireoIn/clones\"\n",
    "# N_DONORS=2\n",
    "# #donor = 0\n",
    "# #n_clone_list=\"20,40,100\"#[20, 40, 100]\n",
    "# nclones=20"
   ]
  },
  {
   "cell_type": "code",
   "execution_count": 5,
   "metadata": {},
   "outputs": [],
   "source": [
    "nclones = int(nclones)\n",
    "# n_clone_list = [int(x) for x in n_clone_list.split(\",\")]\n",
    "# n_clone_list"
   ]
  },
  {
   "cell_type": "markdown",
   "metadata": {},
   "source": [
    "## 1.2 Import packages"
   ]
  },
  {
   "cell_type": "code",
   "execution_count": 6,
   "metadata": {
    "ExecuteTime": {
     "end_time": "2021-06-04T17:51:34.448465Z",
     "start_time": "2021-06-04T17:51:34.198577Z"
    },
    "scrolled": false
   },
   "outputs": [
    {
     "name": "stderr",
     "output_type": "stream",
     "text": [
      "ic| vireoSNP.__version__: '0.5.6'\n"
     ]
    }
   ],
   "source": [
    "from os.path import join, exists, dirname\n",
    "from icecream import ic\n",
    "from glob import glob\n",
    "import mplh.cluster_help as ch\n",
    "import os\n",
    "from vireoSNP.plot.base_plot import heat_matrix\n",
    "from vireoSNP import Vireo\n",
    "import src.pseudo_batch as pb\n",
    "import vireoSNP\n",
    "ic(vireoSNP.__version__)\n",
    "from tqdm import tqdm\n",
    "import numpy as np\n",
    "from scipy import sparse\n",
    "from scipy.io import mmread\n",
    "import matplotlib.pyplot as plt\n",
    "import pandas as pd\n",
    "import seaborn as sns\n",
    "from src.vireo.vireo_utils import run_vireo, plot_vireo_out, extract_clusters, run_elbo, separate_donors\n",
    "%load_ext autoreload\n",
    "%autoreload 2\n",
    "from src.vireo.vireo_utils import run_lineage\n",
    "#np.set_icoptions(formatter={'float': lambda x: format(x, '.5f')})"
   ]
  },
  {
   "cell_type": "code",
   "execution_count": 7,
   "metadata": {},
   "outputs": [],
   "source": [
    "if not DEBUG:\n",
    "    ic.disable()\n"
   ]
  },
  {
   "cell_type": "markdown",
   "metadata": {},
   "source": [
    "# 2 Lineage construction for each donor"
   ]
  },
  {
   "cell_type": "code",
   "execution_count": 8,
   "metadata": {
    "ExecuteTime": {
     "end_time": "2021-06-04T17:43:46.792143Z",
     "start_time": "2021-06-04T17:43:46.694972Z"
    },
    "scrolled": true
   },
   "outputs": [
    {
     "data": {
      "text/html": [
       "<div>\n",
       "<style scoped>\n",
       "    .dataframe tbody tr th:only-of-type {\n",
       "        vertical-align: middle;\n",
       "    }\n",
       "\n",
       "    .dataframe tbody tr th {\n",
       "        vertical-align: top;\n",
       "    }\n",
       "\n",
       "    .dataframe thead th {\n",
       "        text-align: right;\n",
       "    }\n",
       "</style>\n",
       "<table border=\"1\" class=\"dataframe\">\n",
       "  <thead>\n",
       "    <tr style=\"text-align: right;\">\n",
       "      <th></th>\n",
       "      <th>index</th>\n",
       "      <th>ID</th>\n",
       "      <th>raw ID</th>\n",
       "      <th>new index</th>\n",
       "      <th>condition</th>\n",
       "      <th>donor</th>\n",
       "      <th>donor_index</th>\n",
       "    </tr>\n",
       "  </thead>\n",
       "  <tbody>\n",
       "    <tr>\n",
       "      <th>0</th>\n",
       "      <td>0</td>\n",
       "      <td>AAACGAAAGAGGTCCA-1_Control</td>\n",
       "      <td>AAACGAAAGAGGTCCA-1</td>\n",
       "      <td>1</td>\n",
       "      <td>Control</td>\n",
       "      <td>1</td>\n",
       "      <td>1</td>\n",
       "    </tr>\n",
       "    <tr>\n",
       "      <th>1</th>\n",
       "      <td>1</td>\n",
       "      <td>AAACGAAAGCGATACG-1_Control</td>\n",
       "      <td>AAACGAAAGCGATACG-1</td>\n",
       "      <td>2</td>\n",
       "      <td>Control</td>\n",
       "      <td>3</td>\n",
       "      <td>1</td>\n",
       "    </tr>\n",
       "    <tr>\n",
       "      <th>2</th>\n",
       "      <td>2</td>\n",
       "      <td>AAACGAAAGTCGTGAG-1_Control</td>\n",
       "      <td>AAACGAAAGTCGTGAG-1</td>\n",
       "      <td>3</td>\n",
       "      <td>Control</td>\n",
       "      <td>0</td>\n",
       "      <td>1</td>\n",
       "    </tr>\n",
       "    <tr>\n",
       "      <th>3</th>\n",
       "      <td>3</td>\n",
       "      <td>AAACGAACAATAGTGA-1_Control</td>\n",
       "      <td>AAACGAACAATAGTGA-1</td>\n",
       "      <td>4</td>\n",
       "      <td>Control</td>\n",
       "      <td>1</td>\n",
       "      <td>2</td>\n",
       "    </tr>\n",
       "    <tr>\n",
       "      <th>4</th>\n",
       "      <td>4</td>\n",
       "      <td>AAACGAACACAATAAG-1_Control</td>\n",
       "      <td>AAACGAACACAATAAG-1</td>\n",
       "      <td>5</td>\n",
       "      <td>Control</td>\n",
       "      <td>0</td>\n",
       "      <td>2</td>\n",
       "    </tr>\n",
       "    <tr>\n",
       "      <th>...</th>\n",
       "      <td>...</td>\n",
       "      <td>...</td>\n",
       "      <td>...</td>\n",
       "      <td>...</td>\n",
       "      <td>...</td>\n",
       "      <td>...</td>\n",
       "      <td>...</td>\n",
       "    </tr>\n",
       "    <tr>\n",
       "      <th>17398</th>\n",
       "      <td>17398</td>\n",
       "      <td>TTTGTGTTCGAGTTAC-1_Flt3l</td>\n",
       "      <td>TTTGTGTTCGAGTTAC-1</td>\n",
       "      <td>17399</td>\n",
       "      <td>Flt3l</td>\n",
       "      <td>0</td>\n",
       "      <td>4204</td>\n",
       "    </tr>\n",
       "    <tr>\n",
       "      <th>17399</th>\n",
       "      <td>17399</td>\n",
       "      <td>TTTGTGTTCGCATAAC-1_Flt3l</td>\n",
       "      <td>TTTGTGTTCGCATAAC-1</td>\n",
       "      <td>17400</td>\n",
       "      <td>Flt3l</td>\n",
       "      <td>&lt;NA&gt;</td>\n",
       "      <td>&lt;NA&gt;</td>\n",
       "    </tr>\n",
       "    <tr>\n",
       "      <th>17400</th>\n",
       "      <td>17400</td>\n",
       "      <td>TTTGTGTTCGTGGTAT-1_Flt3l</td>\n",
       "      <td>TTTGTGTTCGTGGTAT-1</td>\n",
       "      <td>17401</td>\n",
       "      <td>Flt3l</td>\n",
       "      <td>3</td>\n",
       "      <td>3852</td>\n",
       "    </tr>\n",
       "    <tr>\n",
       "      <th>17401</th>\n",
       "      <td>17401</td>\n",
       "      <td>TTTGTGTTCGTTACAG-1_Flt3l</td>\n",
       "      <td>TTTGTGTTCGTTACAG-1</td>\n",
       "      <td>17402</td>\n",
       "      <td>Flt3l</td>\n",
       "      <td>1</td>\n",
       "      <td>3749</td>\n",
       "    </tr>\n",
       "    <tr>\n",
       "      <th>17402</th>\n",
       "      <td>17402</td>\n",
       "      <td>TTTGTGTTCTCCTTGG-1_Flt3l</td>\n",
       "      <td>TTTGTGTTCTCCTTGG-1</td>\n",
       "      <td>17403</td>\n",
       "      <td>Flt3l</td>\n",
       "      <td>1</td>\n",
       "      <td>3750</td>\n",
       "    </tr>\n",
       "  </tbody>\n",
       "</table>\n",
       "<p>17403 rows × 7 columns</p>\n",
       "</div>"
      ],
      "text/plain": [
       "       index                          ID              raw ID  new index  \\\n",
       "0          0  AAACGAAAGAGGTCCA-1_Control  AAACGAAAGAGGTCCA-1          1   \n",
       "1          1  AAACGAAAGCGATACG-1_Control  AAACGAAAGCGATACG-1          2   \n",
       "2          2  AAACGAAAGTCGTGAG-1_Control  AAACGAAAGTCGTGAG-1          3   \n",
       "3          3  AAACGAACAATAGTGA-1_Control  AAACGAACAATAGTGA-1          4   \n",
       "4          4  AAACGAACACAATAAG-1_Control  AAACGAACACAATAAG-1          5   \n",
       "...      ...                         ...                 ...        ...   \n",
       "17398  17398    TTTGTGTTCGAGTTAC-1_Flt3l  TTTGTGTTCGAGTTAC-1      17399   \n",
       "17399  17399    TTTGTGTTCGCATAAC-1_Flt3l  TTTGTGTTCGCATAAC-1      17400   \n",
       "17400  17400    TTTGTGTTCGTGGTAT-1_Flt3l  TTTGTGTTCGTGGTAT-1      17401   \n",
       "17401  17401    TTTGTGTTCGTTACAG-1_Flt3l  TTTGTGTTCGTTACAG-1      17402   \n",
       "17402  17402    TTTGTGTTCTCCTTGG-1_Flt3l  TTTGTGTTCTCCTTGG-1      17403   \n",
       "\n",
       "      condition  donor  donor_index  \n",
       "0       Control      1            1  \n",
       "1       Control      3            1  \n",
       "2       Control      0            1  \n",
       "3       Control      1            2  \n",
       "4       Control      0            2  \n",
       "...         ...    ...          ...  \n",
       "17398     Flt3l      0         4204  \n",
       "17399     Flt3l   <NA>         <NA>  \n",
       "17400     Flt3l      3         3852  \n",
       "17401     Flt3l      1         3749  \n",
       "17402     Flt3l      1         3750  \n",
       "\n",
       "[17403 rows x 7 columns]"
      ]
     },
     "execution_count": 8,
     "metadata": {},
     "output_type": "execute_result"
    }
   ],
   "source": [
    "cells_meta = pd.read_csv(join(INDIR, f\"cells_meta.tsv\"), sep='\\t')\n",
    "\n",
    "cells_meta=cells_meta.astype({\"donor_index\": \"Int64\", \"donor\": \"Int64\"})\n",
    "cells_meta"
   ]
  },
  {
   "cell_type": "code",
   "execution_count": 9,
   "metadata": {
    "scrolled": true
   },
   "outputs": [
    {
     "data": {
      "text/plain": [
       "'/data/isshamie/mito_lineage/output/pipeline/cd34norm/MTblacklist/data/merged/MT/cellr_True/numread_200/filters/minC10_minR50_topN0_hetT0.001_hetC10_hetCount5_bq20/mgatk/vireoIn/clones/variants_mgatkdonor/vireo/donor0/mgatk_donor'"
      ]
     },
     "execution_count": 9,
     "metadata": {},
     "output_type": "execute_result"
    }
   ],
   "source": [
    "INDIR"
   ]
  },
  {
   "cell_type": "code",
   "execution_count": 10,
   "metadata": {
    "ExecuteTime": {
     "end_time": "2021-06-04T17:43:46.850550Z",
     "start_time": "2021-06-04T17:43:46.795667Z"
    },
    "scrolled": true
   },
   "outputs": [
    {
     "name": "stderr",
     "output_type": "stream",
     "text": [
      "ic| curr_ad_f: '/data/isshamie/mito_lineage/output/pipeline/cd34norm/MTblacklist/data/merged/MT/cellr_True/numread_200/filters/minC10_minR50_topN0_hetT0.001_hetC10_hetCount5_bq20/mgatk/vireoIn/clones/variants_mgatkdonor/vireo/donor0/mgatk_donor/cellSNP.tag.AD.mtx'\n",
      "ic| curr_dp_f: '/data/isshamie/mito_lineage/output/pipeline/cd34norm/MTblacklist/data/merged/MT/cellr_True/numread_200/filters/minC10_minR50_topN0_hetT0.001_hetC10_hetCount5_bq20/mgatk/vireoIn/clones/variants_mgatkdonor/vireo/donor0/mgatk_donor/cellSNP.tag.DP.mtx'\n",
      "ic| curr_vcf.head():   #CHROM  POS   REF ALT  strand_correlation       vmr  n_cells_over_5  \\\n",
      "                     0   chrM   49   49A   G            0.858809  0.045389              17   \n",
      "                     1   chrM   64   64C   T            0.977866  0.123484             144   \n",
      "                     2   chrM  103  103G   A            0.813456  0.090167              10   \n",
      "                     3   chrM  146  146T   G            0.973922  0.072806              19   \n",
      "                     4   chrM  146  146T   C            0.908678  0.143304             163   \n",
      "                     \n",
      "                        n_cells_over_20   index  \n",
      "                     0                0   49A>G  \n",
      "                     1               21   64C>T  \n",
      "                     2                0  103G>A  \n",
      "                     3                1  146T>G  \n",
      "                     4               38  146T>C  \n",
      "ic| curr_cells_meta.shape: (4199, 7)\n"
     ]
    },
    {
     "name": "stdout",
     "output_type": "stream",
     "text": [
      "[-406175.25137638825, -404862.5368838238, -407682.6410472898, -405418.73395854526, -406512.1689322158, -405256.62182846165, -407880.8831316929, -405062.35340976296, -408307.70417541906, -404924.4433304237, -403763.0547853203, -409456.2462068584, -407366.5524067043, -406302.5126626305, -407604.7385747839, -404810.75094408763, -407687.4510642687, -407970.19896467496, -407775.271131483, -409113.02250855416, -405489.218709346, -406491.6024008645, -407031.91097064374, -406261.36348156, -405759.90646944975, -405189.9024509456, -408038.49883727694, -405187.3387648385, -403067.5808292923, -406418.1925353175, -407732.73277363076, -407454.8749294805, -408954.85943178507, -404341.57618489175, -406233.51711038593, -405216.00878519774, -405631.8689745589, -406595.9749612616, -406933.38006254414, -407698.890621837, -404836.11196471064, -406025.6420739163, -406625.16981426463, -408533.1102917765, -407200.940366313, -404776.9778293972, -405429.3223123925, -408342.9577240809, -406110.14920370816, -403239.95819665934]\n"
     ]
    },
    {
     "name": "stderr",
     "output_type": "stream",
     "text": [
      "ic| 'Before filtering'\n",
      "ic| cells_meta.shape: (4199, 7)\n",
      "ic| 'After filtering'\n",
      "ic| cells_meta.shape: (4199, 8)\n",
      "ic| allAD.shape: (229, 4199)\n",
      "ic| len(curr_dp[\"Cell\"].unique())-len(keep_inds): 0\n",
      "ic| cells_meta.shape: (4199, 10)\n",
      "ic| len(curr_dp[\"Cell\"].unique())-len(keep_inds): 0\n",
      "ic| cells_meta.shape: (4199, 10)\n",
      "ic| len(curr_dp[\"Cell\"].unique())-len(keep_inds): 0\n",
      "ic| cells_meta.shape: (4199, 10)\n",
      "ic| len(curr_dp[\"Cell\"].unique())-len(keep_inds): 0\n",
      "ic|"
     ]
    },
    {
     "name": "stdout",
     "output_type": "stream",
     "text": [
      "lineage 0: 130 cells \n",
      "(1406, 3)\n",
      "(1406, 3)\n",
      "donor0_lineage0\n",
      "lineage 1: 380 cells \n",
      "(3827, 3)\n",
      "(3827, 3)\n",
      "donor0_lineage1\n",
      "lineage 2: 3 cells \n",
      "(98, 3)\n",
      "(98, 3)\n",
      "donor0_lineage2\n"
     ]
    },
    {
     "name": "stderr",
     "output_type": "stream",
     "text": [
      " cells_meta.shape: (4199, 10)\n",
      "ic| len(curr_dp[\"Cell\"].unique())-len(keep_inds): 0\n",
      "ic| cells_meta.shape: (4199, 10)\n",
      "ic| len(curr_dp[\"Cell\"].unique())-len(keep_inds): 0\n",
      "ic| cells_meta.shape: (4199, 10)\n",
      "ic| len(curr_dp[\"Cell\"].unique())-len(keep_inds): 0\n",
      "ic| cells_meta.shape: (4199, "
     ]
    },
    {
     "name": "stdout",
     "output_type": "stream",
     "text": [
      "lineage 3: 57 cells \n",
      "(705, 3)\n",
      "(705, 3)\n",
      "donor0_lineage3\n",
      "lineage 4: 218 cells \n",
      "(2632, 3)\n",
      "(2632, 3)\n",
      "donor0_lineage4\n",
      "lineage 5: 175 cells \n",
      "(1799, 3)\n",
      "(1799, 3)\n",
      "donor0_lineage5\n"
     ]
    },
    {
     "name": "stderr",
     "output_type": "stream",
     "text": [
      "10)\n",
      "ic| len(curr_dp[\"Cell\"].unique())-len(keep_inds): 0\n",
      "ic| cells_meta.shape: (4199, 10)\n",
      "ic| len(curr_dp[\"Cell\"].unique())-len(keep_inds): 0\n",
      "ic| cells_meta.shape: (4199, 10)\n",
      "ic| len(curr_dp[\"Cell\"].unique())-len(keep_inds): 0\n",
      "ic| cells_meta.shape: (4199, 10)\n"
     ]
    },
    {
     "name": "stdout",
     "output_type": "stream",
     "text": [
      "lineage 6: 0 cells \n",
      "(0, 3)\n",
      "(0, 3)\n",
      "donor0_lineage6\n",
      "lineage 7: 59 cells \n",
      "(609, 3)\n",
      "(609, 3)\n",
      "donor0_lineage7\n",
      "lineage 8: 68 cells \n",
      "(2016, 3)\n",
      "(2016, 3)\n",
      "donor0_lineage8\n",
      "lineage 9: 29 cells \n",
      "(841, 3)\n",
      "(841, 3)\n"
     ]
    },
    {
     "name": "stderr",
     "output_type": "stream",
     "text": [
      "ic| len(curr_dp[\"Cell\"].unique())-len(keep_inds): 0\n",
      "ic| cells_meta.shape: (4199, 10)\n",
      "ic| len(curr_dp[\"Cell\"].unique())-len(keep_inds): 0\n",
      "ic| cells_meta.shape: (4199, 10)\n",
      "ic| len(curr_dp[\"Cell\"].unique())-len(keep_inds): 0\n",
      "ic| cells_meta.shape: (4199, 10)\n"
     ]
    },
    {
     "name": "stdout",
     "output_type": "stream",
     "text": [
      "donor0_lineage9\n",
      "lineage 10: 1 cells \n",
      "(32, 3)\n",
      "(32, 3)\n",
      "donor0_lineage10\n",
      "lineage 11: 229 cells \n",
      "(2828, 3)\n",
      "(2828, 3)\n",
      "donor0_lineage11\n"
     ]
    },
    {
     "name": "stderr",
     "output_type": "stream",
     "text": [
      "ic| len(curr_dp[\"Cell\"].unique())-len(keep_inds): 0\n",
      "ic| cells_meta.shape: (4199, 10)\n",
      "ic| len(curr_dp[\"Cell\"].unique())-len(keep_inds): 0\n",
      "ic| cells_meta.shape: (4199, 10)\n",
      "ic| len(curr_dp[\"Cell\"].unique())-len(keep_inds): 0\n",
      "ic| cells_meta.shape: (4199, 10)\n"
     ]
    },
    {
     "name": "stdout",
     "output_type": "stream",
     "text": [
      "lineage 12: 136 cells \n",
      "(1522, 3)\n",
      "(1522, 3)\n",
      "donor0_lineage12\n",
      "lineage 13: 1 cells \n",
      "(22, 3)\n",
      "(22, 3)\n",
      "donor0_lineage13\n",
      "lineage 14: 138 cells \n",
      "(1962, 3)\n",
      "(1962, 3)\n",
      "donor0_lineage14\n",
      "lineage 15: 32 cells \n",
      "(281, 3)\n",
      "(281, 3)\n"
     ]
    },
    {
     "name": "stderr",
     "output_type": "stream",
     "text": [
      "ic| len(curr_dp[\"Cell\"].unique())-len(keep_inds): 0\n",
      "ic| cells_meta.shape: (4199, 10)\n",
      "ic| len(curr_dp[\"Cell\"].unique())-len(keep_inds): 0\n",
      "ic| cells_meta.shape: (4199, 10)\n",
      "ic| len(curr_dp[\"Cell\"].unique())-len(keep_inds): 0\n",
      "ic| cells_meta.shape: (4199, 10)\n"
     ]
    },
    {
     "name": "stdout",
     "output_type": "stream",
     "text": [
      "donor0_lineage15\n",
      "lineage 16: 3 cells \n",
      "(102, 3)\n",
      "(102, 3)\n",
      "donor0_lineage16\n",
      "lineage 17: 168 cells \n",
      "(1671, 3)\n",
      "(1671, 3)\n",
      "donor0_lineage17\n",
      "lineage 18: 80 cells \n",
      "(732, 3)\n",
      "(732, 3)\n",
      "donor0_lineage18\n"
     ]
    },
    {
     "name": "stderr",
     "output_type": "stream",
     "text": [
      "ic| len(curr_dp[\"Cell\"].unique())-len(keep_inds): 0\n",
      "ic| cells_meta.shape: (4199, 10)\n",
      "ic| lin_cells_meta.head():    level_0  index                          ID              raw ID  new index  \\\n",
      "                           0        2      2  AAACGAAAGTCGTGAG-1_Control  AAACGAAAGTCGTGAG-1          3   \n",
      "                           1        4      4  AAACGAACACAATAAG-1_Control  AAACGAACACAATAAG-1          5   \n",
      "                           2        9      9  AAACGAAGTAAGTCTC-1_Control  AAACGAAGTAAGTCTC-1         10   \n",
      "                           3       12     12  AAACGAAGTGGATTCT-1_Control  AAACGAAGTGGATTCT-1         13   \n",
      "                           4       14     14  AAACGAATCGCAACTA-1_Control  AAACGAATCGCAACTA-1         15   \n",
      "                           \n",
      "                             condition  donor  donor_index  lineage  lineage_index  \n",
      "                           0   Control      0            1      NaN            NaN  \n",
      "                           1   Control      0            2      NaN            NaN  \n",
      "                           2   Control      0            3     17.0            1.0  \n",
      "                           3   Control      0            4      NaN            NaN  \n",
      "                           4   Control      0            5      NaN            NaN  \n",
      "ic"
     ]
    },
    {
     "name": "stdout",
     "output_type": "stream",
     "text": [
      "lineage 19: 60 cells \n",
      "(526, 3)\n",
      "(526, 3)\n",
      "donor0_lineage19\n"
     ]
    },
    {
     "name": "stderr",
     "output_type": "stream",
     "text": [
      "| lin_cells_meta.shape: (4199, 10)\n",
      "ic| 'Plotting AF SNPs'\n"
     ]
    },
    {
     "name": "stdout",
     "output_type": "stream",
     "text": [
      "     condition lineage\n",
      "4181     Flt3l      -1\n",
      "1317   Control      -1\n",
      "611    Control       1\n",
      "427    Control      -1\n",
      "1991     Flt3l      11\n",
      "clustering\n",
      "cmap Oranges\n",
      "AF_SNPs shape (229, 20)\n",
      "clustering\n",
      "cmap Blues\n"
     ]
    },
    {
     "data": {
      "image/png": "[encoded data removed]",
      "text/plain": [
       "<Figure size 792x288 with 2 Axes>"
      ]
     },
     "metadata": {
      "needs_background": "light"
     },
     "output_type": "display_data"
    },
    {
     "data": {
      "image/png": "[encoded data removed]",
      "text/plain": [
       "<Figure size 720x720 with 5 Axes>"
      ]
     },
     "metadata": {
      "needs_background": "light"
     },
     "output_type": "display_data"
    }
   ],
   "source": [
    "curr_ad_f = join(INDIR, f\"cellSNP.tag.AD.mtx\")\n",
    "curr_dp_f = join(INDIR, f\"cellSNP.tag.DP.mtx\")\n",
    "curr_vcf_f = join(INDIR, f\"cellSNP.base.vcf\")\n",
    "curr_cells_f = join(INDIR, \"cellSNP.samples.tsv\")\n",
    "\n",
    "\n",
    "#for donor in np.arange(N_DONORS):\n",
    "prefix=f\"donor{donor}\"\n",
    "model_name = f\"donor{donor}_\"\n",
    "#for clone in n_clone_list:\n",
    "#    cells_meta_col = f\"lineage{nclones}\"\n",
    "#     OUTDIR = join(OUTDIR, cells_meta_col)\n",
    "#     if not exists(OUTDIR):\n",
    "#         os.mkdir(OUTDIR)\n",
    "curr_cells_meta = cells_meta.copy()\n",
    "\n",
    "ic(curr_ad_f)\n",
    "ic(curr_dp_f)\n",
    "curr_ad = mmread(curr_ad_f).tocsc()\n",
    "curr_dp = mmread(curr_dp_f).tocsc() \n",
    "curr_vcf = pd.read_csv(curr_vcf_f, sep='\\t')\n",
    "cells = pd.read_csv(curr_cells_f, sep='\\t', header=None)\n",
    "curr_cells_meta = curr_cells_meta.loc[curr_cells_meta[\"ID\"].isin(cells[0])]\n",
    "ic(curr_vcf.head())\n",
    "ic(curr_cells_meta.shape)\n",
    "#model_name = f\"lineage_{nclones}\"\n",
    "modelCA, elbo = run_vireo(curr_ad, curr_dp, nclones, n_cores=n_cores, plot_qc=True,out_f=join(OUTDIR, prefix))\n",
    "try:\n",
    "    doublet_prob = modelCA.predict_doublet(curr_ad, curr_dp, update_GT=False, update_ID=False)[0].sum(axis=1)\n",
    "except AttributeError: # New version of Vireo 2021\n",
    "    #doublet_prob = vireoSNP.utils.vireo_doublet.predict_doublet(modelCA,AD, DP, update_GT=False, update_ID=False)[0].sum(axis=1)\n",
    "    doublet_prob = vireoSNP.utils.vireo_doublet.predict_doublet(modelCA, curr_ad, curr_dp, update_GT=False, update_ID=False)[0].sum(axis=1)\n",
    "\n",
    "\n",
    "separate_donors(curr_ad, curr_dp, modelCA, curr_cells_meta, OUTDIR,\n",
    "                doublet_prob,\n",
    "                prob_thresh=0.9, doublet_thresh=0.9,\n",
    "                cells_ind_col='donor_index',\n",
    "                out_name=\"lineage\", prefix=model_name, cells_filt_col=\"donor\", \n",
    "                cells_filt_val=donor, vars_meta=curr_vcf)   \n",
    "lin_cells_meta = pd.read_csv(join(OUTDIR, f\"{prefix}_cells_meta.tsv\"), sep='\\t')\n",
    "ic(lin_cells_meta.head())\n",
    "ic(lin_cells_meta.shape)\n",
    "ic(\"Plotting AF SNPs\")\n",
    "lin_cells_meta = lin_cells_meta.astype({\"lineage\": 'Int64'}).fillna(-1).astype(str)\n",
    "plot_vireo_out(modelCA, out_f=join(OUTDIR, prefix), \n",
    "               labels=lin_cells_meta[[\"condition\", \"lineage\"]], \n",
    "               doublet_prob=doublet_prob)\n",
    "\n",
    "plt.close()\n",
    "\n",
    "#lin_cells_meta.to_csv(join(OUTDIR, ))\n"
   ]
  }
 ],
 "metadata": {
  "celltoolbar": "Tags",
  "kernelspec": {
   "display_name": "Python 3 (ipykernel)",
   "language": "python",
   "name": "python3"
  },
  "language_info": {
   "codemirror_mode": {
    "name": "ipython",
    "version": 3
   },
   "file_extension": ".py",
   "mimetype": "text/x-python",
   "name": "python",
   "nbconvert_exporter": "python",
   "pygments_lexer": "ipython3",
   "version": "3.7.12"
  },
  "papermill": {
   "default_parameters": {},
   "duration": 5560.364131,
   "end_time": "2021-01-27T10:03:31.625455",
   "environment_variables": {},
   "exception": null,
   "input_path": "/data2/mito_lineage/src/vireo/vireoSNP_clones.ipynb",
   "output_path": "results/jan21_2021/chrM/P2_cellSNP_minC200_minAF0.01/lineage_chrM.ipynb",
   "parameters": {
    "AD_F": "data/jan21_2021/chrM/P2_cellSNP_minC200_minAF0.01/cellSNP.tag.AD.mtx",
    "DP_F": "data/jan21_2021/chrM/P2_cellSNP_minC200_minAF0.01/cellSNP.tag.DP.mtx"
   },
   "start_time": "2021-01-27T08:30:51.261324",
   "version": "2.2.0"
  }
 },
 "nbformat": 4,
 "nbformat_minor": 4
}
