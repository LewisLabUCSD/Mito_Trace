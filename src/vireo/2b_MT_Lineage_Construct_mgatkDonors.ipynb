{
 "cells": [
  {
   "cell_type": "markdown",
   "metadata": {
    "papermill": {
     "duration": 0.047745,
     "end_time": "2021-01-27T08:30:54.010679",
     "exception": false,
     "start_time": "2021-01-27T08:30:53.962934",
     "status": "completed"
    },
    "tags": []
   },
   "source": [
    "# Using vireo for multiplexing, followed by lineage tracing of those groups"
   ]
  },
  {
   "cell_type": "markdown",
   "metadata": {},
   "source": [
    "# 1. Set up"
   ]
  },
  {
   "cell_type": "code",
   "execution_count": 1,
   "metadata": {
    "ExecuteTime": {
     "end_time": "2021-06-04T17:43:43.984223Z",
     "start_time": "2021-06-04T17:43:43.979835Z"
    }
   },
   "outputs": [],
   "source": [
    "import os\n",
    "os.chdir(\"/data2/mito_lineage/\")#Analysis/multiplex\")"
   ]
  },
  {
   "cell_type": "code",
   "execution_count": 2,
   "metadata": {
    "ExecuteTime": {
     "end_time": "2021-06-04T17:43:44.002330Z",
     "start_time": "2021-06-04T17:43:43.987777Z"
    }
   },
   "outputs": [],
   "source": [
    "# papermill --cwd /data2/mito_lineage -p INDIR {INDIR} -p OUTDIR data/processed/mttrace/CHIP_april08_2021_Croker/MTblacklist/merged/MT/cellr_True/numread_200/filters/minC10_minR50_topN0_hetT0.001_hetC10_hetCount5_bq20/filter_mgatk/vireoIn/clones -p  src/vireo/2_MT_Lineage_Construct.ipynb "
   ]
  },
  {
   "cell_type": "code",
   "execution_count": 3,
   "metadata": {
    "ExecuteTime": {
     "end_time": "2021-06-04T17:43:44.028790Z",
     "start_time": "2021-06-04T17:43:44.006245Z"
    },
    "scrolled": false
   },
   "outputs": [
    {
     "data": {
      "text/plain": [
       "'/data2/mito_lineage'"
      ]
     },
     "execution_count": 3,
     "metadata": {},
     "output_type": "execute_result"
    }
   ],
   "source": [
    "pwd"
   ]
  },
  {
   "cell_type": "markdown",
   "metadata": {},
   "source": [
    "### Remove this when running in snakemake"
   ]
  },
  {
   "cell_type": "markdown",
   "metadata": {},
   "source": [
    "## 1.1 Parameters"
   ]
  },
  {
   "cell_type": "code",
   "execution_count": 4,
   "metadata": {
    "ExecuteTime": {
     "end_time": "2021-06-04T17:43:44.036919Z",
     "start_time": "2021-06-04T17:43:44.032369Z"
    },
    "tags": [
     "parameters"
    ]
   },
   "outputs": [],
   "source": [
    "DEBUG=True\n",
    "INDIR= \"data/processed/mttrace/TcellDupi_may17_2021/MTblacklist/merged/filters/minC10_minR50_topN0_hetT0.001_hetC10_hetCount5_bq20/filter_mgatk/vireoIn/multiplex/donors_mgatk_in/donor0/donor_mgatk/vireoIn/\"\n",
    "OUTDIR = \"data/processed/mttrace/TcellDupi_may17_2021/MTblacklist/merged/filters/minC10_minR50_topN0_hetT0.001_hetC10_hetCount5_bq20/filter_mgatk/vireoIn/multiplex/donors_mgatk_in/donor0/donor_mgatk/vireoIn/clones\"\n",
    "N_DONORS=2\n",
    "#donor = 0\n",
    "#n_clone_list=\"20,40,100\"#[20, 40, 100]\n",
    "nclones=20"
   ]
  },
  {
   "cell_type": "code",
   "execution_count": 5,
   "metadata": {},
   "outputs": [
    {
     "data": {
      "text/plain": [
       "[20, 40, 100]"
      ]
     },
     "execution_count": 5,
     "metadata": {},
     "output_type": "execute_result"
    }
   ],
   "source": [
    "nclones = int(nclones)\n",
    "# n_clone_list = [int(x) for x in n_clone_list.split(\",\")]\n",
    "# n_clone_list"
   ]
  },
  {
   "cell_type": "markdown",
   "metadata": {},
   "source": [
    "## 1.2 Import packages"
   ]
  },
  {
   "cell_type": "code",
   "execution_count": 6,
   "metadata": {
    "ExecuteTime": {
     "end_time": "2021-06-04T17:51:34.448465Z",
     "start_time": "2021-06-04T17:51:34.198577Z"
    },
    "scrolled": false
   },
   "outputs": [
    {
     "name": "stderr",
     "output_type": "stream",
     "text": [
      "ic| vireoSNP.__version__: '0.5.6'\n"
     ]
    }
   ],
   "source": [
    "from os.path import join, exists, dirname\n",
    "from icecream import ic\n",
    "from glob import glob\n",
    "import mplh.cluster_help as ch\n",
    "import os\n",
    "from vireoSNP.plot.base_plot import heat_matrix\n",
    "from vireoSNP import Vireo\n",
    "import src.pseudo_batch as pb\n",
    "import vireoSNP\n",
    "ic(vireoSNP.__version__)\n",
    "from tqdm import tqdm\n",
    "import numpy as np\n",
    "from scipy import sparse\n",
    "from scipy.io import mmread\n",
    "import matplotlib.pyplot as plt\n",
    "import pandas as pd\n",
    "import seaborn as sns\n",
    "from src.vireo.vireo_utils import run_vireo, plot_vireo_out, extract_clusters, run_elbo, separate_donors\n",
    "%load_ext autoreload\n",
    "%autoreload 2\n",
    "from src.vireo.vireo_utils import run_lineage\n",
    "#np.set_icoptions(formatter={'float': lambda x: format(x, '.5f')})"
   ]
  },
  {
   "cell_type": "code",
   "execution_count": 7,
   "metadata": {},
   "outputs": [],
   "source": [
    "if not DEBUG:\n",
    "    ic.disable()\n"
   ]
  },
  {
   "cell_type": "markdown",
   "metadata": {},
   "source": [
    "# 2 Lineage construction for each donor"
   ]
  },
  {
   "cell_type": "code",
   "execution_count": 8,
   "metadata": {
    "ExecuteTime": {
     "end_time": "2021-06-04T17:43:46.792143Z",
     "start_time": "2021-06-04T17:43:46.694972Z"
    },
    "scrolled": false
   },
   "outputs": [
    {
     "data": {
      "text/html": [
       "<div>\n",
       "<style scoped>\n",
       "    .dataframe tbody tr th:only-of-type {\n",
       "        vertical-align: middle;\n",
       "    }\n",
       "\n",
       "    .dataframe tbody tr th {\n",
       "        vertical-align: top;\n",
       "    }\n",
       "\n",
       "    .dataframe thead th {\n",
       "        text-align: right;\n",
       "    }\n",
       "</style>\n",
       "<table border=\"1\" class=\"dataframe\">\n",
       "  <thead>\n",
       "    <tr style=\"text-align: right;\">\n",
       "      <th></th>\n",
       "      <th>index</th>\n",
       "      <th>ID</th>\n",
       "      <th>raw ID</th>\n",
       "      <th>new index</th>\n",
       "      <th>condition</th>\n",
       "      <th>donor</th>\n",
       "      <th>donor_index</th>\n",
       "    </tr>\n",
       "  </thead>\n",
       "  <tbody>\n",
       "    <tr>\n",
       "      <th>0</th>\n",
       "      <td>0</td>\n",
       "      <td>AAACGAAAGCCGCAAA-1_pre</td>\n",
       "      <td>AAACGAAAGCCGCAAA-1</td>\n",
       "      <td>1</td>\n",
       "      <td>pre</td>\n",
       "      <td>0</td>\n",
       "      <td>1</td>\n",
       "    </tr>\n",
       "    <tr>\n",
       "      <th>1</th>\n",
       "      <td>1</td>\n",
       "      <td>AAACGAAAGGCTCCTG-1_pre</td>\n",
       "      <td>AAACGAAAGGCTCCTG-1</td>\n",
       "      <td>2</td>\n",
       "      <td>pre</td>\n",
       "      <td>1</td>\n",
       "      <td>1</td>\n",
       "    </tr>\n",
       "    <tr>\n",
       "      <th>2</th>\n",
       "      <td>2</td>\n",
       "      <td>AAACGAAAGTAGCAAT-1_pre</td>\n",
       "      <td>AAACGAAAGTAGCAAT-1</td>\n",
       "      <td>3</td>\n",
       "      <td>pre</td>\n",
       "      <td>0</td>\n",
       "      <td>2</td>\n",
       "    </tr>\n",
       "    <tr>\n",
       "      <th>3</th>\n",
       "      <td>3</td>\n",
       "      <td>AAACGAAAGTGAATAC-1_pre</td>\n",
       "      <td>AAACGAAAGTGAATAC-1</td>\n",
       "      <td>4</td>\n",
       "      <td>pre</td>\n",
       "      <td>1</td>\n",
       "      <td>2</td>\n",
       "    </tr>\n",
       "    <tr>\n",
       "      <th>4</th>\n",
       "      <td>4</td>\n",
       "      <td>AAACGAAAGTGTCACT-1_pre</td>\n",
       "      <td>AAACGAAAGTGTCACT-1</td>\n",
       "      <td>5</td>\n",
       "      <td>pre</td>\n",
       "      <td>1</td>\n",
       "      <td>3</td>\n",
       "    </tr>\n",
       "    <tr>\n",
       "      <th>...</th>\n",
       "      <td>...</td>\n",
       "      <td>...</td>\n",
       "      <td>...</td>\n",
       "      <td>...</td>\n",
       "      <td>...</td>\n",
       "      <td>...</td>\n",
       "      <td>...</td>\n",
       "    </tr>\n",
       "    <tr>\n",
       "      <th>15584</th>\n",
       "      <td>15584</td>\n",
       "      <td>TTTGTGTTCCGGAAAG-1_post</td>\n",
       "      <td>TTTGTGTTCCGGAAAG-1</td>\n",
       "      <td>15585</td>\n",
       "      <td>post</td>\n",
       "      <td>0</td>\n",
       "      <td>8015</td>\n",
       "    </tr>\n",
       "    <tr>\n",
       "      <th>15585</th>\n",
       "      <td>15585</td>\n",
       "      <td>TTTGTGTTCCTGACCT-1_post</td>\n",
       "      <td>TTTGTGTTCCTGACCT-1</td>\n",
       "      <td>15586</td>\n",
       "      <td>post</td>\n",
       "      <td>0</td>\n",
       "      <td>8016</td>\n",
       "    </tr>\n",
       "    <tr>\n",
       "      <th>15586</th>\n",
       "      <td>15586</td>\n",
       "      <td>TTTGTGTTCGGATGTT-1_post</td>\n",
       "      <td>TTTGTGTTCGGATGTT-1</td>\n",
       "      <td>15587</td>\n",
       "      <td>post</td>\n",
       "      <td>1</td>\n",
       "      <td>6745</td>\n",
       "    </tr>\n",
       "    <tr>\n",
       "      <th>15587</th>\n",
       "      <td>15587</td>\n",
       "      <td>TTTGTGTTCTTAATCC-1_post</td>\n",
       "      <td>TTTGTGTTCTTAATCC-1</td>\n",
       "      <td>15588</td>\n",
       "      <td>post</td>\n",
       "      <td>0</td>\n",
       "      <td>8017</td>\n",
       "    </tr>\n",
       "    <tr>\n",
       "      <th>15588</th>\n",
       "      <td>15588</td>\n",
       "      <td>TTTGTGTTCTTGCGCT-1_post</td>\n",
       "      <td>TTTGTGTTCTTGCGCT-1</td>\n",
       "      <td>15589</td>\n",
       "      <td>post</td>\n",
       "      <td>1</td>\n",
       "      <td>6746</td>\n",
       "    </tr>\n",
       "  </tbody>\n",
       "</table>\n",
       "<p>15589 rows × 7 columns</p>\n",
       "</div>"
      ],
      "text/plain": [
       "       index                       ID              raw ID  new index  \\\n",
       "0          0   AAACGAAAGCCGCAAA-1_pre  AAACGAAAGCCGCAAA-1          1   \n",
       "1          1   AAACGAAAGGCTCCTG-1_pre  AAACGAAAGGCTCCTG-1          2   \n",
       "2          2   AAACGAAAGTAGCAAT-1_pre  AAACGAAAGTAGCAAT-1          3   \n",
       "3          3   AAACGAAAGTGAATAC-1_pre  AAACGAAAGTGAATAC-1          4   \n",
       "4          4   AAACGAAAGTGTCACT-1_pre  AAACGAAAGTGTCACT-1          5   \n",
       "...      ...                      ...                 ...        ...   \n",
       "15584  15584  TTTGTGTTCCGGAAAG-1_post  TTTGTGTTCCGGAAAG-1      15585   \n",
       "15585  15585  TTTGTGTTCCTGACCT-1_post  TTTGTGTTCCTGACCT-1      15586   \n",
       "15586  15586  TTTGTGTTCGGATGTT-1_post  TTTGTGTTCGGATGTT-1      15587   \n",
       "15587  15587  TTTGTGTTCTTAATCC-1_post  TTTGTGTTCTTAATCC-1      15588   \n",
       "15588  15588  TTTGTGTTCTTGCGCT-1_post  TTTGTGTTCTTGCGCT-1      15589   \n",
       "\n",
       "      condition  donor  donor_index  \n",
       "0           pre      0            1  \n",
       "1           pre      1            1  \n",
       "2           pre      0            2  \n",
       "3           pre      1            2  \n",
       "4           pre      1            3  \n",
       "...         ...    ...          ...  \n",
       "15584      post      0         8015  \n",
       "15585      post      0         8016  \n",
       "15586      post      1         6745  \n",
       "15587      post      0         8017  \n",
       "15588      post      1         6746  \n",
       "\n",
       "[15589 rows x 7 columns]"
      ]
     },
     "execution_count": 8,
     "metadata": {},
     "output_type": "execute_result"
    }
   ],
   "source": [
    "cells_meta = pd.read_csv(join(INDIR, f\"cells_meta.tsv\"), sep='\\t')\n",
    "\n",
    "cells_meta=cells_meta.astype({\"donor_index\": \"Int64\", \"donor\": \"Int64\"})\n",
    "cells_meta"
   ]
  },
  {
   "cell_type": "code",
   "execution_count": 9,
   "metadata": {},
   "outputs": [
    {
     "data": {
      "text/plain": [
       "(8017, 7)"
      ]
     },
     "execution_count": 9,
     "metadata": {},
     "output_type": "execute_result"
    }
   ],
   "source": [
    "# cells_meta = cells_meta[cells_meta[\"donor\"]== donor]\n",
    "# cells_meta.shape"
   ]
  },
  {
   "cell_type": "code",
   "execution_count": 10,
   "metadata": {
    "ExecuteTime": {
     "end_time": "2021-06-04T17:43:46.850550Z",
     "start_time": "2021-06-04T17:43:46.795667Z"
    },
    "scrolled": true
   },
   "outputs": [
    {
     "name": "stderr",
     "output_type": "stream",
     "text": [
      "ic| curr_ad_f: 'data/processed/mttrace/TcellDupi_may17_2021/MTblacklist/merged/filters/minC10_minR50_topN0_hetT0.001_hetC10_hetCount5_bq20/filter_mgatk/vireoIn/multiplex/donors_mgatk_in/donor0/donor_mgatk/vireoIn/cellSNP.tag.AD.mtx'\n",
      "ic| curr_dp_f: 'data/processed/mttrace/TcellDupi_may17_2021/MTblacklist/merged/filters/minC10_minR50_topN0_hetT0.001_hetC10_hetCount5_bq20/filter_mgatk/vireoIn/multiplex/donors_mgatk_in/donor0/donor_mgatk/vireoIn/cellSNP.tag.DP.mtx'\n",
      "ic| curr_vcf.head():   #CHROM  POS  REF ALT  strand_correlation       vmr  n_cells_over_5  \\\n",
      "                     0   chrM   49  49A   G            0.919977  0.057158              38   \n",
      "                     1   chrM   57  57T   C            0.710712  0.092318             966   \n",
      "                     2   chrM   58  58T   C            0.849188  0.086032             781   \n",
      "                     3   chrM   64  64C   T            0.918775  0.390651            5295   \n",
      "                     4   chrM   66  66G   T            0.967001  0.506242              63   \n",
      "                     \n",
      "                        n_cells_over_20  index  \n",
      "                     0                0  49A>G  \n",
      "                     1               27  57T>C  \n",
      "                     2               16  58T>C  \n",
      "                     3             5295  64C>T  \n",
      "                     4               12  66G>T  \n"
     ]
    },
    {
     "name": "stdout",
     "output_type": "stream",
     "text": [
      "[-763688.2494781557, -757041.3614544361, -753270.9609051482, -765175.0826547528, -772724.90309703, -758583.2427963386, -763946.2159921818, -768554.2023396585, -762653.9287755787, -761397.2531068076, -756589.2298391892, -767263.5047311857, -767789.4411448757, -764419.0952093205, -759246.4408593103, -765751.2611468874, -761557.6165130311, -758947.2750887866, -763649.8604579498, -760351.391076064, -766946.8759892567, -758538.3882051774, -763153.8865330438, -756402.4392262634, -759740.0179321873, -760604.6512663234, -764456.9398179152, -761914.9151412388, -761850.0085903795, -748784.2228530983, -757644.6722124827, -763838.0471905207, -764812.1498677738, -763350.8388732981, -767824.0031379655, -767859.9242139028, -763835.8070490304, -760931.1771114476, -754119.220904238, -764109.5900858843, -759687.6441315508, -761564.1538103633, -756762.8969191066, -764792.9335048106, -754178.4277822727, -759409.2036969508, -763345.8811188994, -752911.1612278596, -765002.1846045151, -757427.6057701581]\n"
     ]
    },
    {
     "name": "stderr",
     "output_type": "stream",
     "text": [
      "ic| 'Before filtering'\n",
      "ic| cells_meta.shape: (8017, 7)\n",
      "ic| 'After filtering'\n",
      "ic| cells_meta.shape: (8017, 8)\n",
      "ic| allAD.shape: (358, 5297)\n",
      "ic| len(curr_dp[\"Cell\"].unique())-len(keep_inds): 0\n",
      "ic| cells_meta.shape: (8017, 10)\n",
      "ic| len(curr_dp[\"Cell\"].unique())-len(keep_inds): 0\n",
      "ic| cells_meta.shape: (8017, 10)\n",
      "ic| len(curr_dp"
     ]
    },
    {
     "name": "stdout",
     "output_type": "stream",
     "text": [
      "lineage 0: 10 cells \n",
      "(303, 3)\n",
      "(303, 3)\n",
      "donor0_lineage0\n",
      "lineage 1: 29 cells \n",
      "(885, 3)\n",
      "(885, 3)\n",
      "donor0_lineage1\n"
     ]
    },
    {
     "name": "stderr",
     "output_type": "stream",
     "text": [
      "[\"Cell\"].unique())-len(keep_inds): 0\n",
      "ic| cells_meta.shape: (8017, 10)\n",
      "ic| len(curr_dp[\"Cell\"].unique())-len(keep_inds): 0\n",
      "ic| cells_meta.shape: (8017, 10)\n",
      "ic| len(curr_dp[\"Cell"
     ]
    },
    {
     "name": "stdout",
     "output_type": "stream",
     "text": [
      "lineage 2: 1 cells \n",
      "(38, 3)\n",
      "(38, 3)\n",
      "donor0_lineage2\n",
      "lineage 3: 39 cells \n",
      "(1177, 3)\n",
      "(1177, 3)\n",
      "donor0_lineage3\n"
     ]
    },
    {
     "name": "stderr",
     "output_type": "stream",
     "text": [
      "\"].unique())-len(keep_inds): 0\n",
      "ic| cells_meta.shape: (8017, 10)\n",
      "ic| len(curr_dp[\"Cell\"].unique())-len(keep_inds): 0\n",
      "ic| cells_meta.shape: (8017, 10)\n",
      "ic| len(curr_dp[\"Cell\"].unique())"
     ]
    },
    {
     "name": "stdout",
     "output_type": "stream",
     "text": [
      "lineage 4: 0 cells \n",
      "(0, 3)\n",
      "(0, 3)\n",
      "donor0_lineage4\n",
      "lineage 5: 2 cells \n",
      "(57, 3)\n",
      "(57, 3)\n",
      "donor0_lineage5\n"
     ]
    },
    {
     "name": "stderr",
     "output_type": "stream",
     "text": [
      "-len(keep_inds): 0\n",
      "ic| cells_meta.shape: (8017, 10)\n",
      "ic| len(curr_dp[\"Cell\"].unique())-len(keep_inds): 0\n",
      "ic| cells_meta.shape: (8017, 10)\n"
     ]
    },
    {
     "name": "stdout",
     "output_type": "stream",
     "text": [
      "lineage 6: 95 cells \n",
      "(2985, 3)\n",
      "(2985, 3)\n",
      "donor0_lineage6\n",
      "lineage 7: 0 cells \n",
      "(0, 3)\n",
      "(0, 3)\n",
      "donor0_lineage7\n"
     ]
    },
    {
     "name": "stderr",
     "output_type": "stream",
     "text": [
      "ic| len(curr_dp[\"Cell\"].unique())-len(keep_inds): 0\n",
      "ic| cells_meta.shape: (8017, 10)\n",
      "ic| len(curr_dp[\"Cell\"].unique())-len(keep_inds): 0\n",
      "ic| cells_meta.shape: (8017, 10)\n"
     ]
    },
    {
     "name": "stdout",
     "output_type": "stream",
     "text": [
      "lineage 8: 562 cells \n",
      "(17148, 3)\n",
      "(17148, 3)\n",
      "donor0_lineage8\n"
     ]
    },
    {
     "name": "stderr",
     "output_type": "stream",
     "text": [
      "ic| len(curr_dp[\"Cell\"].unique())-len(keep_inds): 0\n",
      "ic| cells_meta.shape: (8017, 10)\n"
     ]
    },
    {
     "name": "stdout",
     "output_type": "stream",
     "text": [
      "lineage 9: 10 cells \n",
      "(294, 3)\n",
      "(294, 3)\n",
      "donor0_lineage9\n",
      "lineage 10: 1328 cells \n",
      "(40538, 3)\n",
      "(40538, 3)\n",
      "donor0_lineage10\n"
     ]
    },
    {
     "name": "stderr",
     "output_type": "stream",
     "text": [
      "ic| len(curr_dp[\"Cell\"].unique())-len(keep_inds): 0\n",
      "ic| cells_meta.shape: (8017, 10)\n",
      "ic| len(curr_dp[\"Cell\"].unique())-len(keep_inds): 0\n",
      "ic| cells_meta.shape: (8017, 10)\n"
     ]
    },
    {
     "name": "stdout",
     "output_type": "stream",
     "text": [
      "lineage 11: 0 cells \n",
      "(0, 3)\n",
      "(0, 3)\n",
      "donor0_lineage11\n",
      "lineage 12: 102 cells \n",
      "(3113, 3)\n",
      "(3113, 3)\n",
      "donor0_lineage12\n"
     ]
    },
    {
     "name": "stderr",
     "output_type": "stream",
     "text": [
      "ic| len(curr_dp[\"Cell\"].unique())-len(keep_inds): 0\n",
      "ic| cells_meta.shape: (8017, 10)\n",
      "ic| len(curr_dp[\"Cell\"].unique())-len(keep_inds): 0\n",
      "ic| cells_meta.shape: (8017, 10)\n"
     ]
    },
    {
     "name": "stdout",
     "output_type": "stream",
     "text": [
      "lineage 13: 660 cells \n",
      "(20176, 3)\n",
      "(20176, 3)\n",
      "donor0_lineage13\n"
     ]
    },
    {
     "name": "stderr",
     "output_type": "stream",
     "text": [
      "ic| len(curr_dp[\"Cell\"].unique())-len(keep_inds): 0\n",
      "ic| cells_meta.shape: (8017, 10)\n",
      "ic| len(curr_dp[\"Cell\"].unique())-len("
     ]
    },
    {
     "name": "stdout",
     "output_type": "stream",
     "text": [
      "lineage 14: 43 cells \n",
      "(1354, 3)\n",
      "(1354, 3)\n",
      "donor0_lineage14\n",
      "lineage 15: 2 cells \n",
      "(75, 3)\n",
      "(75, 3)\n",
      "donor0_lineage15\n"
     ]
    },
    {
     "name": "stderr",
     "output_type": "stream",
     "text": [
      "keep_inds): 0\n",
      "ic| cells_meta.shape: (8017, 10)\n",
      "ic| len(curr_dp[\"Cell\"].unique())-len(keep_inds): 0\n",
      "ic| cells_meta.shape: (8017, 10)\n",
      "ic| len(curr_dp[\"Cell\"].unique())-len(keep_inds): 0"
     ]
    },
    {
     "name": "stdout",
     "output_type": "stream",
     "text": [
      "lineage 16: 0 cells \n",
      "(0, 3)\n",
      "(0, 3)\n",
      "donor0_lineage16\n",
      "lineage 17: 2 cells \n",
      "(83, 3)\n",
      "(83, 3)\n",
      "donor0_lineage17\n"
     ]
    },
    {
     "name": "stderr",
     "output_type": "stream",
     "text": [
      "\n",
      "ic| cells_meta.shape: (8017, 10)\n",
      "ic| len(curr_dp[\"Cell\"].unique())-len(keep_inds): 0\n",
      "ic| cells_meta.shape: (8017, 10)\n"
     ]
    },
    {
     "name": "stdout",
     "output_type": "stream",
     "text": [
      "lineage 18: 27 cells \n",
      "(846, 3)\n",
      "(846, 3)\n",
      "donor0_lineage18\n",
      "lineage 19: 635 cells \n",
      "(19374, 3)\n",
      "(19374, 3)\n",
      "donor0_lineage19\n"
     ]
    },
    {
     "name": "stderr",
     "output_type": "stream",
     "text": [
      "ic| lin_cells_meta.head():    level_0  index                      ID              raw ID  new index  \\\n",
      "                           0        0      0  AAACGAAAGCCGCAAA-1_pre  AAACGAAAGCCGCAAA-1          1   \n",
      "                           1        2      2  AAACGAAAGTAGCAAT-1_pre  AAACGAAAGTAGCAAT-1          3   \n",
      "                           2        5      5  AAACGAACACGGCCAT-1_pre  AAACGAACACGGCCAT-1          6   \n",
      "                           3        7      7  AAACGAACATTAACGC-1_pre  AAACGAACATTAACGC-1          8   \n",
      "                           4        9      9  AAACGAAGTTTAAGGA-1_pre  AAACGAAGTTTAAGGA-1         10   \n",
      "                           \n",
      "                             condition  donor  donor_index  lineage  lineage_index  \n",
      "                           0       pre      0            1     10.0            1.0  \n",
      "                           1       pre      0            2      NaN            NaN  \n",
      "                           2       pre      0            3     19.0            1.0  \n",
      "                           3       pre      0            4     13.0            1.0  \n",
      "                           4       pre      0            5      8.0            1.0  \n",
      "ic| lin_cells_meta.shape: (8017, 10)\n",
      "ic| 'Plotting AF SNPs'\n"
     ]
    },
    {
     "ename": "ValueError",
     "evalue": "Shape of passed values is (5297, 20), indices imply (8017, 20)",
     "output_type": "error",
     "traceback": [
      "\u001b[0;31m---------------------------------------------------------------------------\u001b[0m",
      "\u001b[0;31mValueError\u001b[0m                                Traceback (most recent call last)",
      "\u001b[0;32m/data/isshamie/software/anaconda3/envs/mito_trace/lib/python3.6/site-packages/pandas/core/internals/managers.py\u001b[0m in \u001b[0;36mcreate_block_manager_from_blocks\u001b[0;34m(blocks, axes)\u001b[0m\n\u001b[1;32m   1673\u001b[0m \u001b[0;34m\u001b[0m\u001b[0m\n\u001b[0;32m-> 1674\u001b[0;31m         \u001b[0mmgr\u001b[0m \u001b[0;34m=\u001b[0m \u001b[0mBlockManager\u001b[0m\u001b[0;34m(\u001b[0m\u001b[0mblocks\u001b[0m\u001b[0;34m,\u001b[0m \u001b[0maxes\u001b[0m\u001b[0;34m)\u001b[0m\u001b[0;34m\u001b[0m\u001b[0;34m\u001b[0m\u001b[0m\n\u001b[0m\u001b[1;32m   1675\u001b[0m         \u001b[0mmgr\u001b[0m\u001b[0;34m.\u001b[0m\u001b[0m_consolidate_inplace\u001b[0m\u001b[0;34m(\u001b[0m\u001b[0;34m)\u001b[0m\u001b[0;34m\u001b[0m\u001b[0;34m\u001b[0m\u001b[0m\n",
      "\u001b[0;32m/data/isshamie/software/anaconda3/envs/mito_trace/lib/python3.6/site-packages/pandas/core/internals/managers.py\u001b[0m in \u001b[0;36m__init__\u001b[0;34m(self, blocks, axes, do_integrity_check)\u001b[0m\n\u001b[1;32m    148\u001b[0m         \u001b[0;32mif\u001b[0m \u001b[0mdo_integrity_check\u001b[0m\u001b[0;34m:\u001b[0m\u001b[0;34m\u001b[0m\u001b[0;34m\u001b[0m\u001b[0m\n\u001b[0;32m--> 149\u001b[0;31m             \u001b[0mself\u001b[0m\u001b[0;34m.\u001b[0m\u001b[0m_verify_integrity\u001b[0m\u001b[0;34m(\u001b[0m\u001b[0;34m)\u001b[0m\u001b[0;34m\u001b[0m\u001b[0;34m\u001b[0m\u001b[0m\n\u001b[0m\u001b[1;32m    150\u001b[0m \u001b[0;34m\u001b[0m\u001b[0m\n",
      "\u001b[0;32m/data/isshamie/software/anaconda3/envs/mito_trace/lib/python3.6/site-packages/pandas/core/internals/managers.py\u001b[0m in \u001b[0;36m_verify_integrity\u001b[0;34m(self)\u001b[0m\n\u001b[1;32m    328\u001b[0m             \u001b[0;32mif\u001b[0m \u001b[0mblock\u001b[0m\u001b[0;34m.\u001b[0m\u001b[0mshape\u001b[0m\u001b[0;34m[\u001b[0m\u001b[0;36m1\u001b[0m\u001b[0;34m:\u001b[0m\u001b[0;34m]\u001b[0m \u001b[0;34m!=\u001b[0m \u001b[0mmgr_shape\u001b[0m\u001b[0;34m[\u001b[0m\u001b[0;36m1\u001b[0m\u001b[0;34m:\u001b[0m\u001b[0;34m]\u001b[0m\u001b[0;34m:\u001b[0m\u001b[0;34m\u001b[0m\u001b[0;34m\u001b[0m\u001b[0m\n\u001b[0;32m--> 329\u001b[0;31m                 \u001b[0;32mraise\u001b[0m \u001b[0mconstruction_error\u001b[0m\u001b[0;34m(\u001b[0m\u001b[0mtot_items\u001b[0m\u001b[0;34m,\u001b[0m \u001b[0mblock\u001b[0m\u001b[0;34m.\u001b[0m\u001b[0mshape\u001b[0m\u001b[0;34m[\u001b[0m\u001b[0;36m1\u001b[0m\u001b[0;34m:\u001b[0m\u001b[0;34m]\u001b[0m\u001b[0;34m,\u001b[0m \u001b[0mself\u001b[0m\u001b[0;34m.\u001b[0m\u001b[0maxes\u001b[0m\u001b[0;34m)\u001b[0m\u001b[0;34m\u001b[0m\u001b[0;34m\u001b[0m\u001b[0m\n\u001b[0m\u001b[1;32m    330\u001b[0m         \u001b[0;32mif\u001b[0m \u001b[0mlen\u001b[0m\u001b[0;34m(\u001b[0m\u001b[0mself\u001b[0m\u001b[0;34m.\u001b[0m\u001b[0mitems\u001b[0m\u001b[0;34m)\u001b[0m \u001b[0;34m!=\u001b[0m \u001b[0mtot_items\u001b[0m\u001b[0;34m:\u001b[0m\u001b[0;34m\u001b[0m\u001b[0;34m\u001b[0m\u001b[0m\n",
      "\u001b[0;31mValueError\u001b[0m: Shape of passed values is (5297, 20), indices imply (8017, 20)",
      "\nDuring handling of the above exception, another exception occurred:\n",
      "\u001b[0;31mValueError\u001b[0m                                Traceback (most recent call last)",
      "\u001b[0;32m<ipython-input-10-410b12b3cf56>\u001b[0m in \u001b[0;36m<module>\u001b[0;34m\u001b[0m\n\u001b[1;32m     47\u001b[0m     plot_vireo_out(modelCA, out_f=join(OUTDIR, model_name+\"OUT\"), \n\u001b[1;32m     48\u001b[0m                    \u001b[0mlabels\u001b[0m\u001b[0;34m=\u001b[0m\u001b[0mlin_cells_meta\u001b[0m\u001b[0;34m[\u001b[0m\u001b[0;34m[\u001b[0m\u001b[0;34m\"condition\"\u001b[0m\u001b[0;34m,\u001b[0m \u001b[0;34m\"lineage\"\u001b[0m\u001b[0;34m]\u001b[0m\u001b[0;34m]\u001b[0m\u001b[0;34m,\u001b[0m\u001b[0;34m\u001b[0m\u001b[0;34m\u001b[0m\u001b[0m\n\u001b[0;32m---> 49\u001b[0;31m                    doublet_prob=doublet_prob)\n\u001b[0m\u001b[1;32m     50\u001b[0m \u001b[0;34m\u001b[0m\u001b[0m\n\u001b[1;32m     51\u001b[0m     \u001b[0mplt\u001b[0m\u001b[0;34m.\u001b[0m\u001b[0mclose\u001b[0m\u001b[0;34m(\u001b[0m\u001b[0;34m)\u001b[0m\u001b[0;34m\u001b[0m\u001b[0;34m\u001b[0m\u001b[0m\n",
      "\u001b[0;32m/data2/mito_lineage/src/vireo/vireo_utils.py\u001b[0m in \u001b[0;36mplot_vireo_out\u001b[0;34m(modelCA, out_f, to_sqrt, labels, doublet_prob)\u001b[0m\n\u001b[1;32m    229\u001b[0m             columns=[f\"AF {x + 1}\" for x in\n\u001b[1;32m    230\u001b[0m                      np.arange(modelCA.ID_prob.shape[1])],\n\u001b[0;32m--> 231\u001b[0;31m             index=labels.index)\n\u001b[0m\u001b[1;32m    232\u001b[0m         \u001b[0;32mif\u001b[0m \u001b[0mdoublet_prob\u001b[0m \u001b[0;32mis\u001b[0m \u001b[0;32mnot\u001b[0m \u001b[0;32mNone\u001b[0m\u001b[0;34m:\u001b[0m\u001b[0;34m\u001b[0m\u001b[0;34m\u001b[0m\u001b[0m\n\u001b[1;32m    233\u001b[0m             clust_df = pd.concat((clust_df, pd.DataFrame(doublet_prob,\n",
      "\u001b[0;32m/data/isshamie/software/anaconda3/envs/mito_trace/lib/python3.6/site-packages/pandas/core/frame.py\u001b[0m in \u001b[0;36m__init__\u001b[0;34m(self, data, index, columns, dtype, copy)\u001b[0m\n\u001b[1;32m    495\u001b[0m                 \u001b[0mmgr\u001b[0m \u001b[0;34m=\u001b[0m \u001b[0minit_dict\u001b[0m\u001b[0;34m(\u001b[0m\u001b[0;34m{\u001b[0m\u001b[0mdata\u001b[0m\u001b[0;34m.\u001b[0m\u001b[0mname\u001b[0m\u001b[0;34m:\u001b[0m \u001b[0mdata\u001b[0m\u001b[0;34m}\u001b[0m\u001b[0;34m,\u001b[0m \u001b[0mindex\u001b[0m\u001b[0;34m,\u001b[0m \u001b[0mcolumns\u001b[0m\u001b[0;34m,\u001b[0m \u001b[0mdtype\u001b[0m\u001b[0;34m=\u001b[0m\u001b[0mdtype\u001b[0m\u001b[0;34m)\u001b[0m\u001b[0;34m\u001b[0m\u001b[0;34m\u001b[0m\u001b[0m\n\u001b[1;32m    496\u001b[0m             \u001b[0;32melse\u001b[0m\u001b[0;34m:\u001b[0m\u001b[0;34m\u001b[0m\u001b[0;34m\u001b[0m\u001b[0m\n\u001b[0;32m--> 497\u001b[0;31m                 \u001b[0mmgr\u001b[0m \u001b[0;34m=\u001b[0m \u001b[0minit_ndarray\u001b[0m\u001b[0;34m(\u001b[0m\u001b[0mdata\u001b[0m\u001b[0;34m,\u001b[0m \u001b[0mindex\u001b[0m\u001b[0;34m,\u001b[0m \u001b[0mcolumns\u001b[0m\u001b[0;34m,\u001b[0m \u001b[0mdtype\u001b[0m\u001b[0;34m=\u001b[0m\u001b[0mdtype\u001b[0m\u001b[0;34m,\u001b[0m \u001b[0mcopy\u001b[0m\u001b[0;34m=\u001b[0m\u001b[0mcopy\u001b[0m\u001b[0;34m)\u001b[0m\u001b[0;34m\u001b[0m\u001b[0;34m\u001b[0m\u001b[0m\n\u001b[0m\u001b[1;32m    498\u001b[0m \u001b[0;34m\u001b[0m\u001b[0m\n\u001b[1;32m    499\u001b[0m         \u001b[0;31m# For data is list-like, or Iterable (will consume into list)\u001b[0m\u001b[0;34m\u001b[0m\u001b[0;34m\u001b[0m\u001b[0;34m\u001b[0m\u001b[0m\n",
      "\u001b[0;32m/data/isshamie/software/anaconda3/envs/mito_trace/lib/python3.6/site-packages/pandas/core/internals/construction.py\u001b[0m in \u001b[0;36minit_ndarray\u001b[0;34m(values, index, columns, dtype, copy)\u001b[0m\n\u001b[1;32m    232\u001b[0m         \u001b[0mblock_values\u001b[0m \u001b[0;34m=\u001b[0m \u001b[0;34m[\u001b[0m\u001b[0mvalues\u001b[0m\u001b[0;34m]\u001b[0m\u001b[0;34m\u001b[0m\u001b[0;34m\u001b[0m\u001b[0m\n\u001b[1;32m    233\u001b[0m \u001b[0;34m\u001b[0m\u001b[0m\n\u001b[0;32m--> 234\u001b[0;31m     \u001b[0;32mreturn\u001b[0m \u001b[0mcreate_block_manager_from_blocks\u001b[0m\u001b[0;34m(\u001b[0m\u001b[0mblock_values\u001b[0m\u001b[0;34m,\u001b[0m \u001b[0;34m[\u001b[0m\u001b[0mcolumns\u001b[0m\u001b[0;34m,\u001b[0m \u001b[0mindex\u001b[0m\u001b[0;34m]\u001b[0m\u001b[0;34m)\u001b[0m\u001b[0;34m\u001b[0m\u001b[0;34m\u001b[0m\u001b[0m\n\u001b[0m\u001b[1;32m    235\u001b[0m \u001b[0;34m\u001b[0m\u001b[0m\n\u001b[1;32m    236\u001b[0m \u001b[0;34m\u001b[0m\u001b[0m\n",
      "\u001b[0;32m/data/isshamie/software/anaconda3/envs/mito_trace/lib/python3.6/site-packages/pandas/core/internals/managers.py\u001b[0m in \u001b[0;36mcreate_block_manager_from_blocks\u001b[0;34m(blocks, axes)\u001b[0m\n\u001b[1;32m   1679\u001b[0m         \u001b[0mblocks\u001b[0m \u001b[0;34m=\u001b[0m \u001b[0;34m[\u001b[0m\u001b[0mgetattr\u001b[0m\u001b[0;34m(\u001b[0m\u001b[0mb\u001b[0m\u001b[0;34m,\u001b[0m \u001b[0;34m\"values\"\u001b[0m\u001b[0;34m,\u001b[0m \u001b[0mb\u001b[0m\u001b[0;34m)\u001b[0m \u001b[0;32mfor\u001b[0m \u001b[0mb\u001b[0m \u001b[0;32min\u001b[0m \u001b[0mblocks\u001b[0m\u001b[0;34m]\u001b[0m\u001b[0;34m\u001b[0m\u001b[0;34m\u001b[0m\u001b[0m\n\u001b[1;32m   1680\u001b[0m         \u001b[0mtot_items\u001b[0m \u001b[0;34m=\u001b[0m \u001b[0msum\u001b[0m\u001b[0;34m(\u001b[0m\u001b[0mb\u001b[0m\u001b[0;34m.\u001b[0m\u001b[0mshape\u001b[0m\u001b[0;34m[\u001b[0m\u001b[0;36m0\u001b[0m\u001b[0;34m]\u001b[0m \u001b[0;32mfor\u001b[0m \u001b[0mb\u001b[0m \u001b[0;32min\u001b[0m \u001b[0mblocks\u001b[0m\u001b[0;34m)\u001b[0m\u001b[0;34m\u001b[0m\u001b[0;34m\u001b[0m\u001b[0m\n\u001b[0;32m-> 1681\u001b[0;31m         \u001b[0;32mraise\u001b[0m \u001b[0mconstruction_error\u001b[0m\u001b[0;34m(\u001b[0m\u001b[0mtot_items\u001b[0m\u001b[0;34m,\u001b[0m \u001b[0mblocks\u001b[0m\u001b[0;34m[\u001b[0m\u001b[0;36m0\u001b[0m\u001b[0;34m]\u001b[0m\u001b[0;34m.\u001b[0m\u001b[0mshape\u001b[0m\u001b[0;34m[\u001b[0m\u001b[0;36m1\u001b[0m\u001b[0;34m:\u001b[0m\u001b[0;34m]\u001b[0m\u001b[0;34m,\u001b[0m \u001b[0maxes\u001b[0m\u001b[0;34m,\u001b[0m \u001b[0me\u001b[0m\u001b[0;34m)\u001b[0m\u001b[0;34m\u001b[0m\u001b[0;34m\u001b[0m\u001b[0m\n\u001b[0m\u001b[1;32m   1682\u001b[0m \u001b[0;34m\u001b[0m\u001b[0m\n\u001b[1;32m   1683\u001b[0m \u001b[0;34m\u001b[0m\u001b[0m\n",
      "\u001b[0;31mValueError\u001b[0m: Shape of passed values is (5297, 20), indices imply (8017, 20)"
     ]
    },
    {
     "data": {
      "image/png": "[encoded data removed]",
      "text/plain": [
       "<Figure size 792x288 with 2 Axes>"
      ]
     },
     "metadata": {
      "needs_background": "light"
     },
     "output_type": "display_data"
    }
   ],
   "source": [
    "curr_ad_f = join(INDIR, f\"cellSNP.tag.AD.mtx\")\n",
    "curr_dp_f = join(INDIR, f\"cellSNP.tag.DP.mtx\")\n",
    "curr_vcf_f = join(INDIR, f\"cellSNP.base.vcf\")\n",
    "\n",
    "for donor in np.arange(N_DONORS):\n",
    "    prefix=f\"donor{donor}_\"\n",
    "    #for clone in n_clone_list:\n",
    "    cells_meta_col = f\"lineage{nclones}\"\n",
    "    curr_outdir = join(OUTDIR, cells_meta_col)\n",
    "    if not exists(curr_outdir):\n",
    "        os.mkdir(curr_outdir)\n",
    "    curr_cells_meta = cells_meta.copy()\n",
    "\n",
    "    ic(curr_ad_f)\n",
    "    ic(curr_dp_f)\n",
    "    curr_ad = mmread(curr_ad_f).tocsc()\n",
    "    curr_dp = mmread(curr_dp_f).tocsc() \n",
    "    curr_vcf = pd.read_csv(curr_vcf_f, sep='\\t')\n",
    "    ic(curr_vcf.head())\n",
    "\n",
    "    model_name = f\"lineage_{nclones}\"\n",
    "    modelCA, elbo = run_vireo(curr_ad, curr_dp, nclones, n_cores=32, plot_qc=True,out_f=join(curr_outdir, model_name))\n",
    "    try:\n",
    "        doublet_prob = modelCA.predict_doublet(curr_ad, curr_dp, update_GT=False, update_ID=False)[0].sum(axis=1)\n",
    "    except AttributeError: # New version of Vireo 2021\n",
    "        #doublet_prob = vireoSNP.utils.vireo_doublet.predict_doublet(modelCA,AD, DP, update_GT=False, update_ID=False)[0].sum(axis=1)\n",
    "        doublet_prob = vireoSNP.utils.vireo_doublet.predict_doublet(modelCA, curr_ad, curr_dp, update_GT=False, update_ID=False)[0].sum(axis=1)\n",
    "\n",
    "\n",
    "    separate_donors(curr_ad, curr_dp, modelCA, curr_cells_meta, curr_outdir,\n",
    "                    doublet_prob,\n",
    "                    prob_thresh=0.9, doublet_thresh=0.9,\n",
    "                    cells_ind_col='donor_index',\n",
    "                    out_name=\"lineage\", prefix=prefix, cells_filt_col=\"donor\", \n",
    "                    cells_filt_val=donor, vars_meta=curr_vcf)   \n",
    "    lin_cells_meta = pd.read_csv(join(curr_outdir, f\"{prefix}cells_meta.tsv\"), sep='\\t')\n",
    "    ic(lin_cells_meta.head())\n",
    "    ic(lin_cells_meta.shape)\n",
    "    ic(\"Plotting AF SNPs\")\n",
    "    lin_cells_meta = lin_cells_meta.astype({\"lineage\": 'Int64'}).fillna(-1).astype(str)\n",
    "    plot_vireo_out(modelCA, out_f=join(curr_outdir, model_name), \n",
    "                   labels=lin_cells_meta[[\"condition\", \"lineage\"]], \n",
    "                   doublet_prob=doublet_prob)\n",
    "\n",
    "    plt.close()\n"
   ]
  },
  {
   "cell_type": "code",
   "execution_count": null,
   "metadata": {
    "scrolled": true
   },
   "outputs": [],
   "source": [
    "lin_cells_meta = pd.read_csv(join(OUTDIR, f\"{prefix}cells_meta.tsv\"), sep='\\t')\n",
    "ic(lin_cells_meta.head())\n",
    "ic(lin_cells_meta.shape)\n",
    "ic(\"Plotting AF SNPs\")\n",
    "lin_cells_meta = lin_cells_meta.astype({\"lineage\": 'Int64'}).fillna(-1).astype(str)\n",
    "plot_vireo_out(modelCA, out_f=join(OUTDIR, model_name+\"OUT\"), \n",
    "               labels=lin_cells_meta[[\"condition\", \"lineage\"]], \n",
    "               doublet_prob=doublet_prob)"
   ]
  },
  {
   "cell_type": "code",
   "execution_count": null,
   "metadata": {
    "scrolled": true
   },
   "outputs": [],
   "source": [
    "lin_cells_meta"
   ]
  },
  {
   "cell_type": "code",
   "execution_count": null,
   "metadata": {},
   "outputs": [],
   "source": [
    "(lin_cells_meta[\"lineage\"]!=\"-1\").sum()"
   ]
  },
  {
   "cell_type": "code",
   "execution_count": null,
   "metadata": {},
   "outputs": [],
   "source": [
    "lin_cells_meta"
   ]
  }
 ],
 "metadata": {
  "celltoolbar": "Tags",
  "kernelspec": {
   "display_name": "Python 3",
   "language": "python",
   "name": "python3"
  },
  "language_info": {
   "codemirror_mode": {
    "name": "ipython",
    "version": 3
   },
   "file_extension": ".py",
   "mimetype": "text/x-python",
   "name": "python",
   "nbconvert_exporter": "python",
   "pygments_lexer": "ipython3",
   "version": "3.6.13"
  },
  "papermill": {
   "default_parameters": {},
   "duration": 5560.364131,
   "end_time": "2021-01-27T10:03:31.625455",
   "environment_variables": {},
   "exception": null,
   "input_path": "/data2/mito_lineage/src/vireo/vireoSNP_clones.ipynb",
   "output_path": "results/jan21_2021/chrM/P2_cellSNP_minC200_minAF0.01/lineage_chrM.ipynb",
   "parameters": {
    "AD_F": "data/jan21_2021/chrM/P2_cellSNP_minC200_minAF0.01/cellSNP.tag.AD.mtx",
    "DP_F": "data/jan21_2021/chrM/P2_cellSNP_minC200_minAF0.01/cellSNP.tag.DP.mtx"
   },
   "start_time": "2021-01-27T08:30:51.261324",
   "version": "2.2.0"
  }
 },
 "nbformat": 4,
 "nbformat_minor": 4
}
