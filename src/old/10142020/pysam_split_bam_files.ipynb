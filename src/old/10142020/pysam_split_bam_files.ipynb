{
 "cells": [
  {
   "cell_type": "markdown",
   "metadata": {},
   "source": [
    "## Parameters and files"
   ]
  },
  {
   "cell_type": "code",
   "execution_count": 1,
   "metadata": {
    "ExecuteTime": {
     "end_time": "2019-12-06T21:52:10.113773Z",
     "start_time": "2019-12-06T21:52:08.573571Z"
    },
    "scrolled": true
   },
   "outputs": [],
   "source": [
    "import glob\n",
    "import os\n",
    "import pandas as pd\n",
    "import tqdm\n",
    "import numpy as np\n",
    "import pysam\n",
    "import time"
   ]
  },
  {
   "cell_type": "code",
   "execution_count": 2,
   "metadata": {
    "ExecuteTime": {
     "end_time": "2019-12-06T21:52:10.138629Z",
     "start_time": "2019-12-06T21:52:10.116031Z"
    }
   },
   "outputs": [],
   "source": [
    "from numpanpar import parallel_ar as par"
   ]
  },
  {
   "cell_type": "code",
   "execution_count": 3,
   "metadata": {
    "ExecuteTime": {
     "end_time": "2019-12-06T21:52:10.154006Z",
     "start_time": "2019-12-06T21:52:10.140731Z"
    }
   },
   "outputs": [],
   "source": [
    "BAM = \"../data/raw/14515X1.MT.bam\"\n",
    "BARCODES = \"../data/raw/Human2_002_Barcodes.txt\"\n",
    "NUM_CORES = 32\n",
    "OUT_DIR = \"../data/scBam/\""
   ]
  },
  {
   "cell_type": "markdown",
   "metadata": {},
   "source": [
    "## First create barcode files with just one cell "
   ]
  },
  {
   "cell_type": "markdown",
   "metadata": {},
   "source": [
    "# 2. Use pysam to create dictonary for each cell barcode and then create bam for each"
   ]
  },
  {
   "cell_type": "markdown",
   "metadata": {},
   "source": [
    "## Function that creates separate sam files based on the barcodes"
   ]
  },
  {
   "cell_type": "code",
   "execution_count": 4,
   "metadata": {
    "ExecuteTime": {
     "end_time": "2019-12-06T21:52:21.641683Z",
     "start_time": "2019-12-06T21:52:21.586236Z"
    }
   },
   "outputs": [],
   "source": [
    "samfile = pysam.AlignmentFile(BAM, \"rb\")"
   ]
  },
  {
   "cell_type": "code",
   "execution_count": null,
   "metadata": {},
   "outputs": [],
   "source": [
    "bam_dict = dict()"
   ]
  },
  {
   "cell_type": "code",
   "execution_count": 12,
   "metadata": {
    "ExecuteTime": {
     "end_time": "2019-12-06T21:54:22.451544Z",
     "start_time": "2019-12-06T21:54:22.433459Z"
    }
   },
   "outputs": [
    {
     "name": "stdout",
     "output_type": "stream",
     "text": [
      "D00294:335:CBFEYANXX:4:1304:19540:8776\t0\t22\t0\t255\t65M1D35M\t-1\t-1\t100\tGATCACAGGTCTATCACCCTATTAACCACTCACGGGAGCTCTCCATGCATTTGGTATTTTCGTCTGGGGGTGTGCACGCGATAGCATTGCGAGACGCTGG\tarray('B', [33, 28, 32, 28, 32, 33, 31, 38, 33, 16, 16, 16, 29, 37, 35, 38, 31, 16, 15, 36, 33, 31, 35, 38, 38, 25, 16, 16, 37, 38, 37, 35, 38, 15, 14, 27, 29, 29, 34, 37, 34, 38, 38, 38, 38, 16, 16, 30, 37, 35, 38, 37, 38, 29, 33, 36, 16, 27, 29, 37, 16, 14, 36, 14, 33, 31, 31, 15, 14, 34, 33, 14, 34, 14, 25, 36, 15, 28, 36, 38, 13, 13, 37, 33, 34, 37, 34, 37, 34, 38, 38, 38, 27, 13, 13, 13, 34, 30, 34, 25])\t[('NH', 1), ('HI', 1), ('AS', 92), ('nM', 1), ('RE', 'I'), ('CR', 'ACTGCTCTCAGATAAG'), ('CY', '<3AA011;FGGGECGE'), ('CB', 'ACTGCTCTCAGATAAG-1'), ('UR', 'ATACAAAAGG'), ('UY', '>FCGC>F>BG'), ('UB', 'ATACAAAAGG'), ('BC', 'GAAGGAAC'), ('QT', 'BBB@BEGG'), ('RG', '14516X1:MissingLibrary:1:CBFEYANXX:4')]\n"
     ]
    }
   ],
   "source": [
    "samfile = pysam.AlignmentFile(BAM, \"rb\")\n",
    "bam_dict = dict()\n",
    "for read in samfile.fetch('MT', 100, 120):\n",
    "    print(read)\n",
    "    d = dict(read.tags)\n",
    "    if \"CB\" in d:\n",
    "        if d[\"CB\"] in bam_dict:\n",
    "            bam_dict[d[\"CB\"]].append(read)\n",
    "        else:\n",
    "            bam_dict[d[\"CB\"]] = [read]\n",
    "        \n",
    "    break\n",
    "samfile.close()"
   ]
  },
  {
   "cell_type": "code",
   "execution_count": 13,
   "metadata": {
    "ExecuteTime": {
     "end_time": "2019-12-06T21:54:23.386715Z",
     "start_time": "2019-12-06T21:54:23.379161Z"
    }
   },
   "outputs": [
    {
     "data": {
      "text/plain": [
       "{'ACTGCTCTCAGATAAG-1': [<pysam.libcalignedsegment.AlignedSegment at 0x7fbd6ec79948>]}"
      ]
     },
     "execution_count": 13,
     "metadata": {},
     "output_type": "execute_result"
    }
   ],
   "source": [
    "bam_dict"
   ]
  },
  {
   "cell_type": "code",
   "execution_count": 5,
   "metadata": {
    "ExecuteTime": {
     "end_time": "2019-12-06T21:52:24.315843Z",
     "start_time": "2019-12-06T21:52:24.309912Z"
    },
    "scrolled": true
   },
   "outputs": [
    {
     "name": "stdout",
     "output_type": "stream",
     "text": [
      "D00294:335:CBFEYANXX:4:1304:19540:8776\t0\t22\t0\t255\t65M1D35M\t-1\t-1\t100\tGATCACAGGTCTATCACCCTATTAACCACTCACGGGAGCTCTCCATGCATTTGGTATTTTCGTCTGGGGGTGTGCACGCGATAGCATTGCGAGACGCTGG\tarray('B', [33, 28, 32, 28, 32, 33, 31, 38, 33, 16, 16, 16, 29, 37, 35, 38, 31, 16, 15, 36, 33, 31, 35, 38, 38, 25, 16, 16, 37, 38, 37, 35, 38, 15, 14, 27, 29, 29, 34, 37, 34, 38, 38, 38, 38, 16, 16, 30, 37, 35, 38, 37, 38, 29, 33, 36, 16, 27, 29, 37, 16, 14, 36, 14, 33, 31, 31, 15, 14, 34, 33, 14, 34, 14, 25, 36, 15, 28, 36, 38, 13, 13, 37, 33, 34, 37, 34, 37, 34, 38, 38, 38, 27, 13, 13, 13, 34, 30, 34, 25])\t[('NH', 1), ('HI', 1), ('AS', 92), ('nM', 1), ('RE', 'I'), ('CR', 'ACTGCTCTCAGATAAG'), ('CY', '<3AA011;FGGGECGE'), ('CB', 'ACTGCTCTCAGATAAG-1'), ('UR', 'ATACAAAAGG'), ('UY', '>FCGC>F>BG'), ('UB', 'ATACAAAAGG'), ('BC', 'GAAGGAAC'), ('QT', 'BBB@BEGG'), ('RG', '14516X1:MissingLibrary:1:CBFEYANXX:4')]\n"
     ]
    }
   ],
   "source": [
    "for read in samfile.fetch('MT', 100, 120):\n",
    "    print(read)\n",
    "    d = dict(read.tags)\n",
    "    \n",
    "    break\n",
    "samfile.close()"
   ]
  },
  {
   "cell_type": "code",
   "execution_count": 4,
   "metadata": {
    "ExecuteTime": {
     "end_time": "2019-11-30T19:30:49.847838Z",
     "start_time": "2019-11-30T19:30:49.832912Z"
    }
   },
   "outputs": [],
   "source": [
    "samfile = pysam.AlignmentFile(BAM, \"rb\")\n"
   ]
  },
  {
   "cell_type": "code",
   "execution_count": 8,
   "metadata": {
    "ExecuteTime": {
     "end_time": "2019-12-06T21:53:01.787303Z",
     "start_time": "2019-12-06T21:53:01.769990Z"
    }
   },
   "outputs": [
    {
     "data": {
      "text/plain": [
       "{'NH': 1,\n",
       " 'HI': 1,\n",
       " 'AS': 92,\n",
       " 'nM': 1,\n",
       " 'RE': 'I',\n",
       " 'CR': 'ACTGCTCTCAGATAAG',\n",
       " 'CY': '<3AA011;FGGGECGE',\n",
       " 'CB': 'ACTGCTCTCAGATAAG-1',\n",
       " 'UR': 'ATACAAAAGG',\n",
       " 'UY': '>FCGC>F>BG',\n",
       " 'UB': 'ATACAAAAGG',\n",
       " 'BC': 'GAAGGAAC',\n",
       " 'QT': 'BBB@BEGG',\n",
       " 'RG': '14516X1:MissingLibrary:1:CBFEYANXX:4'}"
      ]
     },
     "execution_count": 8,
     "metadata": {},
     "output_type": "execute_result"
    }
   ],
   "source": [
    "d"
   ]
  },
  {
   "cell_type": "code",
   "execution_count": 9,
   "metadata": {
    "ExecuteTime": {
     "end_time": "2019-12-06T21:53:12.171964Z",
     "start_time": "2019-12-06T21:53:12.164437Z"
    }
   },
   "outputs": [
    {
     "data": {
      "text/plain": [
       "'ACTGCTCTCAGATAAG-1'"
      ]
     },
     "execution_count": 9,
     "metadata": {},
     "output_type": "execute_result"
    }
   ],
   "source": [
    "d[\"CB\"]"
   ]
  }
 ],
 "metadata": {
  "kernelspec": {
   "display_name": "Python 3",
   "language": "python",
   "name": "python3"
  },
  "language_info": {
   "codemirror_mode": {
    "name": "ipython",
    "version": 3
   },
   "file_extension": ".py",
   "mimetype": "text/x-python",
   "name": "python",
   "nbconvert_exporter": "python",
   "pygments_lexer": "ipython3",
   "version": "3.7.3"
  }
 },
 "nbformat": 4,
 "nbformat_minor": 2
}
