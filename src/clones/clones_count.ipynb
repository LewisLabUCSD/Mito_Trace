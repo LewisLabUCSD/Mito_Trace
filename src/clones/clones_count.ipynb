{
 "cells": [
  {
   "cell_type": "code",
   "execution_count": 1,
   "metadata": {
    "ExecuteTime": {
     "end_time": "2021-06-04T20:17:20.906418Z",
     "start_time": "2021-06-04T20:17:20.895559Z"
    },
    "scrolled": true
   },
   "outputs": [
    {
     "data": {
      "text/plain": [
       "'/data2/mito_lineage/src/vireo'"
      ]
     },
     "execution_count": 1,
     "metadata": {},
     "output_type": "execute_result"
    }
   ],
   "source": [
    "pwd"
   ]
  },
  {
   "cell_type": "code",
   "execution_count": 2,
   "metadata": {
    "ExecuteTime": {
     "end_time": "2021-06-04T20:17:20.922951Z",
     "start_time": "2021-06-04T20:17:20.908252Z"
    }
   },
   "outputs": [],
   "source": [
    "import os\n",
    "os.chdir(\"/data2/mito_lineage\")"
   ]
  },
  {
   "cell_type": "code",
   "execution_count": 3,
   "metadata": {
    "ExecuteTime": {
     "end_time": "2021-06-04T20:17:22.511343Z",
     "start_time": "2021-06-04T20:17:20.925216Z"
    }
   },
   "outputs": [
    {
     "name": "stdout",
     "output_type": "stream",
     "text": [
      "0.5.6\n"
     ]
    }
   ],
   "source": [
    "from os.path import join, exists, dirname\n",
    "from glob import glob\n",
    "import pickle\n",
    "import mplh.cluster_help as ch\n",
    "import os\n",
    "import vireoSNP\n",
    "import numpy as np\n",
    "from scipy import sparse\n",
    "from scipy.io import mmread\n",
    "import matplotlib.pyplot as plt\n",
    "from scipy.stats import hypergeom\n",
    "print(vireoSNP.__version__)\n",
    "\n",
    "import pandas as pd\n",
    "import seaborn as sns\n",
    "from vireoSNP import Vireo\n",
    "np.set_printoptions(formatter={'float': lambda x: format(x, '.5f')})\n",
    "\n",
    "from src.external.pyvenn import venn\n",
    "\n",
    "\n",
    "%load_ext autoreload\n",
    "%autoreload 2\n",
    "import src.utils.variant_utils as vu\n",
    "from src.utils.data_io import wrap_load_mtx_df\n",
    "from src.utils.variant_utils import filt_high, filt_low\n",
    "from icecream import ic"
   ]
  },
  {
   "cell_type": "code",
   "execution_count": 4,
   "metadata": {
    "ExecuteTime": {
     "end_time": "2021-06-04T20:17:22.532497Z",
     "start_time": "2021-06-04T20:17:22.513764Z"
    },
    "tags": [
     "parameters"
    ]
   },
   "outputs": [],
   "source": [
    "INDIR = \"output/pipeline/cd34norm/MTblacklist/data/merged/MT/cellr_True/numread_200/filters/minC10_minR50_topN0_hetT0.001_hetC10_hetCount5_bq20/mgatk/vireoIn/clones/variants_simple/vireo/nclones20/\"\n",
    "OUTDIR = \"output/pipeline/cd34norm/MTblacklist/data/merged/MT/cellr_True/numread_200/filters/minC10_minR50_topN0_hetT0.001_hetC10_hetCount5_bq20/mgatk/vireoIn/clones/variants_simple/vireo/nclones20/qc\"\n",
    "N_DONORS=2\n",
    "vars_to_plot=10\n",
    "sample_names=\"pre,post\"\n",
    "n_clones=20\n",
    "var_thresh = 0.001\n",
    "vcf_f=None"
   ]
  },
  {
   "cell_type": "code",
   "execution_count": 6,
   "metadata": {
    "scrolled": true
   },
   "outputs": [
    {
     "data": {
      "text/html": [
       "<div>\n",
       "<style scoped>\n",
       "    .dataframe tbody tr th:only-of-type {\n",
       "        vertical-align: middle;\n",
       "    }\n",
       "\n",
       "    .dataframe tbody tr th {\n",
       "        vertical-align: top;\n",
       "    }\n",
       "\n",
       "    .dataframe thead th {\n",
       "        text-align: right;\n",
       "    }\n",
       "</style>\n",
       "<table border=\"1\" class=\"dataframe\">\n",
       "  <thead>\n",
       "    <tr style=\"text-align: right;\">\n",
       "      <th></th>\n",
       "      <th>Unnamed: 0</th>\n",
       "      <th>level_0</th>\n",
       "      <th>index</th>\n",
       "      <th>raw ID</th>\n",
       "      <th>new index</th>\n",
       "      <th>condition</th>\n",
       "      <th>donor</th>\n",
       "      <th>donor_index</th>\n",
       "      <th>lineage</th>\n",
       "      <th>lineage_index</th>\n",
       "    </tr>\n",
       "    <tr>\n",
       "      <th>ID</th>\n",
       "      <th></th>\n",
       "      <th></th>\n",
       "      <th></th>\n",
       "      <th></th>\n",
       "      <th></th>\n",
       "      <th></th>\n",
       "      <th></th>\n",
       "      <th></th>\n",
       "      <th></th>\n",
       "      <th></th>\n",
       "    </tr>\n",
       "  </thead>\n",
       "  <tbody>\n",
       "    <tr>\n",
       "      <th>AAACGAAAGTCGTGAG-1_Control</th>\n",
       "      <td>0</td>\n",
       "      <td>2</td>\n",
       "      <td>2</td>\n",
       "      <td>AAACGAAAGTCGTGAG-1</td>\n",
       "      <td>3</td>\n",
       "      <td>Control</td>\n",
       "      <td>0</td>\n",
       "      <td>1</td>\n",
       "      <td>NaN</td>\n",
       "      <td>NaN</td>\n",
       "    </tr>\n",
       "    <tr>\n",
       "      <th>AAACGAACACAATAAG-1_Control</th>\n",
       "      <td>1</td>\n",
       "      <td>4</td>\n",
       "      <td>4</td>\n",
       "      <td>AAACGAACACAATAAG-1</td>\n",
       "      <td>5</td>\n",
       "      <td>Control</td>\n",
       "      <td>0</td>\n",
       "      <td>2</td>\n",
       "      <td>NaN</td>\n",
       "      <td>NaN</td>\n",
       "    </tr>\n",
       "    <tr>\n",
       "      <th>AAACGAAGTAAGTCTC-1_Control</th>\n",
       "      <td>2</td>\n",
       "      <td>9</td>\n",
       "      <td>9</td>\n",
       "      <td>AAACGAAGTAAGTCTC-1</td>\n",
       "      <td>10</td>\n",
       "      <td>Control</td>\n",
       "      <td>0</td>\n",
       "      <td>3</td>\n",
       "      <td>NaN</td>\n",
       "      <td>NaN</td>\n",
       "    </tr>\n",
       "    <tr>\n",
       "      <th>AAACGAAGTGGATTCT-1_Control</th>\n",
       "      <td>3</td>\n",
       "      <td>12</td>\n",
       "      <td>12</td>\n",
       "      <td>AAACGAAGTGGATTCT-1</td>\n",
       "      <td>13</td>\n",
       "      <td>Control</td>\n",
       "      <td>0</td>\n",
       "      <td>4</td>\n",
       "      <td>NaN</td>\n",
       "      <td>NaN</td>\n",
       "    </tr>\n",
       "    <tr>\n",
       "      <th>AAACGAATCGCAACTA-1_Control</th>\n",
       "      <td>4</td>\n",
       "      <td>14</td>\n",
       "      <td>14</td>\n",
       "      <td>AAACGAATCGCAACTA-1</td>\n",
       "      <td>15</td>\n",
       "      <td>Control</td>\n",
       "      <td>0</td>\n",
       "      <td>5</td>\n",
       "      <td>3.0</td>\n",
       "      <td>1.0</td>\n",
       "    </tr>\n",
       "    <tr>\n",
       "      <th>...</th>\n",
       "      <td>...</td>\n",
       "      <td>...</td>\n",
       "      <td>...</td>\n",
       "      <td>...</td>\n",
       "      <td>...</td>\n",
       "      <td>...</td>\n",
       "      <td>...</td>\n",
       "      <td>...</td>\n",
       "      <td>...</td>\n",
       "      <td>...</td>\n",
       "    </tr>\n",
       "    <tr>\n",
       "      <th>TTTGGTTGTTAACCAC-1_Flt3l</th>\n",
       "      <td>3746</td>\n",
       "      <td>17371</td>\n",
       "      <td>17371</td>\n",
       "      <td>TTTGGTTGTTAACCAC-1</td>\n",
       "      <td>17372</td>\n",
       "      <td>Flt3l</td>\n",
       "      <td>3</td>\n",
       "      <td>3747</td>\n",
       "      <td>18.0</td>\n",
       "      <td>174.0</td>\n",
       "    </tr>\n",
       "    <tr>\n",
       "      <th>TTTGTGTAGAGAGTAG-1_Flt3l</th>\n",
       "      <td>3747</td>\n",
       "      <td>17378</td>\n",
       "      <td>17378</td>\n",
       "      <td>TTTGTGTAGAGAGTAG-1</td>\n",
       "      <td>17379</td>\n",
       "      <td>Flt3l</td>\n",
       "      <td>3</td>\n",
       "      <td>3748</td>\n",
       "      <td>NaN</td>\n",
       "      <td>NaN</td>\n",
       "    </tr>\n",
       "    <tr>\n",
       "      <th>TTTGTGTGTATTCTGG-1_Flt3l</th>\n",
       "      <td>3748</td>\n",
       "      <td>17394</td>\n",
       "      <td>17394</td>\n",
       "      <td>TTTGTGTGTATTCTGG-1</td>\n",
       "      <td>17395</td>\n",
       "      <td>Flt3l</td>\n",
       "      <td>3</td>\n",
       "      <td>3749</td>\n",
       "      <td>NaN</td>\n",
       "      <td>NaN</td>\n",
       "    </tr>\n",
       "    <tr>\n",
       "      <th>TTTGTGTTCGTTACAG-1_Flt3l</th>\n",
       "      <td>3749</td>\n",
       "      <td>17404</td>\n",
       "      <td>17404</td>\n",
       "      <td>TTTGTGTTCGTTACAG-1</td>\n",
       "      <td>17405</td>\n",
       "      <td>Flt3l</td>\n",
       "      <td>3</td>\n",
       "      <td>3750</td>\n",
       "      <td>NaN</td>\n",
       "      <td>NaN</td>\n",
       "    </tr>\n",
       "    <tr>\n",
       "      <th>TTTGTGTTCTCCTTGG-1_Flt3l</th>\n",
       "      <td>3750</td>\n",
       "      <td>17405</td>\n",
       "      <td>17405</td>\n",
       "      <td>TTTGTGTTCTCCTTGG-1</td>\n",
       "      <td>17406</td>\n",
       "      <td>Flt3l</td>\n",
       "      <td>3</td>\n",
       "      <td>3751</td>\n",
       "      <td>NaN</td>\n",
       "      <td>NaN</td>\n",
       "    </tr>\n",
       "  </tbody>\n",
       "</table>\n",
       "<p>14882 rows × 10 columns</p>\n",
       "</div>"
      ],
      "text/plain": [
       "                            Unnamed: 0  level_0  index              raw ID  \\\n",
       "ID                                                                           \n",
       "AAACGAAAGTCGTGAG-1_Control           0        2      2  AAACGAAAGTCGTGAG-1   \n",
       "AAACGAACACAATAAG-1_Control           1        4      4  AAACGAACACAATAAG-1   \n",
       "AAACGAAGTAAGTCTC-1_Control           2        9      9  AAACGAAGTAAGTCTC-1   \n",
       "AAACGAAGTGGATTCT-1_Control           3       12     12  AAACGAAGTGGATTCT-1   \n",
       "AAACGAATCGCAACTA-1_Control           4       14     14  AAACGAATCGCAACTA-1   \n",
       "...                                ...      ...    ...                 ...   \n",
       "TTTGGTTGTTAACCAC-1_Flt3l          3746    17371  17371  TTTGGTTGTTAACCAC-1   \n",
       "TTTGTGTAGAGAGTAG-1_Flt3l          3747    17378  17378  TTTGTGTAGAGAGTAG-1   \n",
       "TTTGTGTGTATTCTGG-1_Flt3l          3748    17394  17394  TTTGTGTGTATTCTGG-1   \n",
       "TTTGTGTTCGTTACAG-1_Flt3l          3749    17404  17404  TTTGTGTTCGTTACAG-1   \n",
       "TTTGTGTTCTCCTTGG-1_Flt3l          3750    17405  17405  TTTGTGTTCTCCTTGG-1   \n",
       "\n",
       "                            new index condition  donor  donor_index  lineage  \\\n",
       "ID                                                                             \n",
       "AAACGAAAGTCGTGAG-1_Control          3   Control      0            1      NaN   \n",
       "AAACGAACACAATAAG-1_Control          5   Control      0            2      NaN   \n",
       "AAACGAAGTAAGTCTC-1_Control         10   Control      0            3      NaN   \n",
       "AAACGAAGTGGATTCT-1_Control         13   Control      0            4      NaN   \n",
       "AAACGAATCGCAACTA-1_Control         15   Control      0            5      3.0   \n",
       "...                               ...       ...    ...          ...      ...   \n",
       "TTTGGTTGTTAACCAC-1_Flt3l        17372     Flt3l      3         3747     18.0   \n",
       "TTTGTGTAGAGAGTAG-1_Flt3l        17379     Flt3l      3         3748      NaN   \n",
       "TTTGTGTGTATTCTGG-1_Flt3l        17395     Flt3l      3         3749      NaN   \n",
       "TTTGTGTTCGTTACAG-1_Flt3l        17405     Flt3l      3         3750      NaN   \n",
       "TTTGTGTTCTCCTTGG-1_Flt3l        17406     Flt3l      3         3751      NaN   \n",
       "\n",
       "                            lineage_index  \n",
       "ID                                         \n",
       "AAACGAAAGTCGTGAG-1_Control            NaN  \n",
       "AAACGAACACAATAAG-1_Control            NaN  \n",
       "AAACGAAGTAAGTCTC-1_Control            NaN  \n",
       "AAACGAAGTGGATTCT-1_Control            NaN  \n",
       "AAACGAATCGCAACTA-1_Control            1.0  \n",
       "...                                   ...  \n",
       "TTTGGTTGTTAACCAC-1_Flt3l            174.0  \n",
       "TTTGTGTAGAGAGTAG-1_Flt3l              NaN  \n",
       "TTTGTGTGTATTCTGG-1_Flt3l              NaN  \n",
       "TTTGTGTTCGTTACAG-1_Flt3l              NaN  \n",
       "TTTGTGTTCTCCTTGG-1_Flt3l              NaN  \n",
       "\n",
       "[14882 rows x 10 columns]"
      ]
     },
     "execution_count": 6,
     "metadata": {},
     "output_type": "execute_result"
    }
   ],
   "source": [
    "cells_meta = pd.read_csv(join(INDIR, \"cells_meta.tsv\"), sep='\\t').set_index(\"ID\")\n",
    "cells_meta"
   ]
  },
  {
   "cell_type": "code",
   "execution_count": 18,
   "metadata": {},
   "outputs": [
    {
     "data": {
      "text/html": [
       "<div>\n",
       "<style scoped>\n",
       "    .dataframe tbody tr th:only-of-type {\n",
       "        vertical-align: middle;\n",
       "    }\n",
       "\n",
       "    .dataframe tbody tr th {\n",
       "        vertical-align: top;\n",
       "    }\n",
       "\n",
       "    .dataframe thead th {\n",
       "        text-align: right;\n",
       "    }\n",
       "</style>\n",
       "<table border=\"1\" class=\"dataframe\">\n",
       "  <thead>\n",
       "    <tr style=\"text-align: right;\">\n",
       "      <th></th>\n",
       "      <th>condition</th>\n",
       "      <th>donor</th>\n",
       "      <th>0</th>\n",
       "    </tr>\n",
       "  </thead>\n",
       "  <tbody>\n",
       "    <tr>\n",
       "      <th>0</th>\n",
       "      <td>Control</td>\n",
       "      <td>0</td>\n",
       "      <td>1623</td>\n",
       "    </tr>\n",
       "    <tr>\n",
       "      <th>1</th>\n",
       "      <td>Control</td>\n",
       "      <td>1</td>\n",
       "      <td>1233</td>\n",
       "    </tr>\n",
       "    <tr>\n",
       "      <th>2</th>\n",
       "      <td>Control</td>\n",
       "      <td>2</td>\n",
       "      <td>1411</td>\n",
       "    </tr>\n",
       "    <tr>\n",
       "      <th>3</th>\n",
       "      <td>Control</td>\n",
       "      <td>3</td>\n",
       "      <td>1340</td>\n",
       "    </tr>\n",
       "    <tr>\n",
       "      <th>4</th>\n",
       "      <td>Flt3l</td>\n",
       "      <td>0</td>\n",
       "      <td>2582</td>\n",
       "    </tr>\n",
       "    <tr>\n",
       "      <th>5</th>\n",
       "      <td>Flt3l</td>\n",
       "      <td>1</td>\n",
       "      <td>2620</td>\n",
       "    </tr>\n",
       "    <tr>\n",
       "      <th>6</th>\n",
       "      <td>Flt3l</td>\n",
       "      <td>2</td>\n",
       "      <td>1662</td>\n",
       "    </tr>\n",
       "    <tr>\n",
       "      <th>7</th>\n",
       "      <td>Flt3l</td>\n",
       "      <td>3</td>\n",
       "      <td>2411</td>\n",
       "    </tr>\n",
       "  </tbody>\n",
       "</table>\n",
       "</div>"
      ],
      "text/plain": [
       "  condition  donor     0\n",
       "0   Control      0  1623\n",
       "1   Control      1  1233\n",
       "2   Control      2  1411\n",
       "3   Control      3  1340\n",
       "4     Flt3l      0  2582\n",
       "5     Flt3l      1  2620\n",
       "6     Flt3l      2  1662\n",
       "7     Flt3l      3  2411"
      ]
     },
     "execution_count": 18,
     "metadata": {},
     "output_type": "execute_result"
    }
   ],
   "source": [
    "counts = cells_meta.groupby([\"condition\", \"donor\"]).size().reset_index()\n",
    "counts"
   ]
  },
  {
   "cell_type": "code",
   "execution_count": null,
   "metadata": {},
   "outputs": [],
   "source": []
  },
  {
   "cell_type": "code",
   "execution_count": 17,
   "metadata": {
    "scrolled": true
   },
   "outputs": [
    {
     "data": {
      "text/plain": [
       "<matplotlib.legend.Legend at 0x7f968b6d8a50>"
      ]
     },
     "execution_count": 17,
     "metadata": {},
     "output_type": "execute_result"
    },
    {
     "data": {
      "image/png": "[encoded data removed]",
      "text/plain": [
       "<Figure size 432x432 with 4 Axes>"
      ]
     },
     "metadata": {
      "needs_background": "light"
     },
     "output_type": "display_data"
    }
   ],
   "source": [
    "g = sns.FacetGrid(cells_meta, col=\"donor\", col_wrap=2)\n",
    "g.map_dataframe(sns.countplot, x=\"lineage\", hue=\"condition\", palette=\"RdBu\")\n",
    "plt.legend()"
   ]
  },
  {
   "cell_type": "code",
   "execution_count": null,
   "metadata": {},
   "outputs": [],
   "source": []
  }
 ],
 "metadata": {
  "celltoolbar": "Tags",
  "kernelspec": {
   "display_name": "Python 3 (ipykernel)",
   "language": "python",
   "name": "python3"
  },
  "language_info": {
   "codemirror_mode": {
    "name": "ipython",
    "version": 3
   },
   "file_extension": ".py",
   "mimetype": "text/x-python",
   "name": "python",
   "nbconvert_exporter": "python",
   "pygments_lexer": "ipython3",
   "version": "3.7.10"
  },
  "papermill": {
   "default_parameters": {},
   "duration": 5560.364131,
   "end_time": "2021-01-27T10:03:31.625455",
   "environment_variables": {},
   "exception": null,
   "input_path": "/data2/mito_lineage/src/vireo/vireoSNP_clones.ipynb",
   "output_path": "results/jan21_2021/chrM/P2_cellSNP_minC200_minAF0.01/lineage_chrM.ipynb",
   "parameters": {
    "AD_F": "data/jan21_2021/chrM/P2_cellSNP_minC200_minAF0.01/cellSNP.tag.AD.mtx",
    "DP_F": "data/jan21_2021/chrM/P2_cellSNP_minC200_minAF0.01/cellSNP.tag.DP.mtx"
   },
   "start_time": "2021-01-27T08:30:51.261324",
   "version": "2.2.0"
  }
 },
 "nbformat": 4,
 "nbformat_minor": 4
}
