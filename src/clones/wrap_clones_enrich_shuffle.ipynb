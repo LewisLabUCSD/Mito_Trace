{
 "cells": [
  {
   "cell_type": "code",
   "execution_count": 1,
   "id": "dd28a952",
   "metadata": {},
   "outputs": [
    {
     "name": "stdout",
     "output_type": "stream",
     "text": [
      "0.5.6\n"
     ]
    }
   ],
   "source": [
    "from os.path import join, exists, dirname\n",
    "from glob import glob\n",
    "import pickle\n",
    "import mplh.cluster_help as ch\n",
    "import os\n",
    "import vireoSNP\n",
    "import numpy as np\n",
    "from scipy import sparse\n",
    "from scipy.io import mmread\n",
    "import matplotlib.pyplot as plt\n",
    "from scipy.stats import hypergeom\n",
    "print(vireoSNP.__version__)\n",
    "\n",
    "import pandas as pd\n",
    "import seaborn as sns\n",
    "from vireoSNP import Vireo\n",
    "np.set_printoptions(formatter={'float': lambda x: format(x, '.5f')})\n",
    "\n",
    "from src.external.pyvenn import venn\n",
    "\n",
    "%matplotlib inline\n",
    "%load_ext autoreload\n",
    "%autoreload 2\n",
    "import src.utils.variant_utils as vu\n",
    "from src.utils.data_io import wrap_load_mtx_df\n",
    "from src.utils.variant_utils import get_high, get_low\n",
    "from icecream import ic\n",
    "import src.utils.variant_utils as vu\n",
    "from src.utils.data_io import wrap_load_mtx_df"
   ]
  },
  {
   "cell_type": "code",
   "execution_count": 2,
   "id": "5b4e60b3",
   "metadata": {},
   "outputs": [],
   "source": [
    "ic.disable()"
   ]
  },
  {
   "cell_type": "code",
   "execution_count": 3,
   "id": "ee949acd",
   "metadata": {},
   "outputs": [],
   "source": [
    "from src.lineage.lineage_enrichment import calc_enrich,norm_clone_sizes"
   ]
  },
  {
   "cell_type": "code",
   "execution_count": 4,
   "id": "81fd38ef",
   "metadata": {
    "tags": [
     "parameters"
    ]
   },
   "outputs": [],
   "source": [
    "#enrich_f = \"/data2/mito_lineage/output/pipeline/cd34norm/MTblacklist/data/merged/MT/cellr_True/numread_200/filters/minC10_minR50_topN0_hetT0.001_hetC10_hetCount5_bq20/mgatk/vireoIn/clones/variants_simple/vireo/nclones20/enrichment/enrichmentNorm_donor0.csv\"\n",
    "#cells_meta_f = \"/data2/mito_lineage/output/pipeline/cd34norm/MTblacklist/data/merged/MT/cellr_True/numread_200/filters/minC10_minR50_topN0_hetT0.001_hetC10_hetCount5_bq20/mgatk/vireoIn/clones/variants_simple/vireo/nclones20/cells_meta.tsv\"\n",
    "#OUTDIR = \"/data2/mito_lineage/output/pipeline/cd34norm/MTblacklist/data/merged/MT/cellr_True/numread_200/filters/minC10_minR50_topN0_hetT0.001_hetC10_hetCount5_bq20/mgatk/vireoIn/clones/variants_simple/vireo/nclones20/enrichment/enrich_qc/\"\n",
    "#samples = \"Control,Flt3l\"\n",
    "#names = \"Control,Flt3l\"\n",
    "#donor = 0\n",
    "\n",
    "enrich_f = \"/data/Mito_Trace/output/pipeline/DUPI_april08_2021/MTblacklist_mtasnucl/data/merged/MT/cellr_True/numread_200/filters/minC10_minR50_topN0_hetT0.001_hetC10_hetCount5_bq20/mgatk/vireoIn/clones/variants_init/knn/kparam_10/enrichment/enrichmentNorm.csv\"\n",
    "cells_meta_f  = \"/data/Mito_Trace/output/pipeline/DUPI_april08_2021/MTblacklist_mtasnucl/data/merged/MT/cellr_True/numread_200/filters/minC10_minR50_topN0_hetT0.001_hetC10_hetCount5_bq20/mgatk/vireoIn/clones/variants_init/knn/kparam_10/concat/cells_meta.tsv\"\n",
    "donor = 0 \n",
    "samples= \"preB,postB,preA,postA\"\n",
    "OUTDIR = \"/data/Mito_Trace/output/pipeline/DUPI_april08_2021/MTblacklist_mtasnucl/data/merged/MT/cellr_True/numread_200/filters/minC10_minR50_topN0_hetT0.001_hetC10_hetCount5_bq20/mgatk/vireoIn/clones/variants_init/knn/kparam_10/enrichment/shuffle_stats/\"\n",
    "\n",
    "# col = \"lineage\"\n",
    "# filt_col = \"donor\"\n",
    "\n",
    "comparisons = \"B,preB,postB;A,preA,postA\" # \"None\"\n",
    "# Params\n",
    "# vars_to_plot=10\n",
    "# sample_names=\"Control,Flt3l\"\n",
    "# N_DONORS=4\n",
    "\n"
   ]
  },
  {
   "cell_type": "code",
   "execution_count": 5,
   "id": "626c96cc",
   "metadata": {
    "scrolled": true
   },
   "outputs": [],
   "source": [
    "def shuffle_single_clones(df, names):\n",
    "    df = df.dropna(subset=[\"lineage\"]).copy()\n",
    "#     print(len(df.sample(frac=1)[\"lineage\"].values))\n",
    "#     print(df.shape)\n",
    "    df.loc[:,\"lineage\"] = df.sample(frac=1)[\"lineage\"].values\n",
    "    enrich_df, clust_counts = calc_enrich(df, samples=names, verbose=False)\n",
    "    enrich_stats = norm_clone_sizes(enrich_df, clust_counts=clust_counts, names=names)\n",
    "    return enrich_stats\n",
    "\n",
    "# def shuffle_clones(n_sim, cells_df, names):\n",
    "#     all_enrich = []\n",
    "#     all_enrich_max = []\n",
    "#     all_fold = []\n",
    "#     all_fold_max = []\n",
    "#     for n in range(n_sim):\n",
    "#         print('n_sim', n)\n",
    "#         curr = shuffle_single_clones(cells_df, names)\n",
    "#         all_enrich.append(curr[\"Fisher -log10p\"].values)\n",
    "#         all_enrich_max.append(max(curr[\"Fisher -log10p\"].values))\n",
    "#         all_fold_max.append(max(abs(curr[f'{names[1]} fold enrichment norm'])))\n",
    "#         all_fold.append(curr[f'{names[1]} fold enrichment norm'])\n",
    "#     return all_enrich, all_enrich_max, all_fold, all_fold_max\n",
    "\n",
    "#shuffle_single_clones(cells_meta_df)\n",
    "\n"
   ]
  },
  {
   "cell_type": "code",
   "execution_count": 6,
   "id": "b4927fb2",
   "metadata": {
    "scrolled": true
   },
   "outputs": [],
   "source": [
    "from numpanpar import parallel_df as pardf\n",
    "def shuffle_clones_df(sim_df, cells_df, names):\n",
    "    all_enrich = []\n",
    "    all_enrich_max = []\n",
    "    all_fold = []\n",
    "    all_fold_max = []\n",
    "    for ind, val in sim_df.iterrows():\n",
    "        curr = shuffle_single_clones(cells_df, names)\n",
    "        all_enrich.append(curr[\"Fisher -log10p\"].values)\n",
    "        all_enrich_max.append(max(curr[\"Fisher -log10p\"].values))\n",
    "        all_fold_max.append(max(abs(curr[f'{names[1]} fold enrichment norm'])))\n",
    "        all_fold.append(curr[f'{names[1]} fold enrichment norm'].values)\n",
    "\n",
    "    sim_df.loc[:,'fold max'] = all_fold_max\n",
    "    sim_df.loc[:,'enrich max'] = all_enrich_max\n",
    "    sim_df.loc[:,'enrich'] = all_enrich #[all_enrich]*len(sim_df)\n",
    "    sim_df.loc[:,'fold'] = all_fold #[all_fold]*len(sim_df)\n",
    "    return sim_df\n"
   ]
  },
  {
   "cell_type": "code",
   "execution_count": 7,
   "id": "3b05a13e",
   "metadata": {},
   "outputs": [],
   "source": [
    "def shuffle_clones(enrich_f, cells_meta_f, outdir, names, name=\"\"):\n",
    "    enrich_df = pd.read_csv(enrich_f)\n",
    "    cells_meta_df = pd.read_csv(cells_meta_f, sep='\\t')\n",
    "    to_par = True\n",
    "    if to_par:\n",
    "        ### PARALLEL ###\n",
    "        out = pardf(pd.DataFrame(range(1000)), shuffle_clones_df, func_args=(cells_meta_df, names), num_processes=32)\n",
    "        all_enrich, all_enrich_max, all_fold, all_fold_max = out['enrich'], out['enrich max'], out['fold'], out['fold max']\n",
    "    else:\n",
    "        ### NOT PARALLEL ###\n",
    "        all_enrich, all_enrich_max, all_fold, all_fold_max = shuffle_clones(n_sim=1000, \n",
    "                                                                            cells_meta_df=cells_meta_df,\n",
    "                                                                            names=names)\n",
    "    all_enrich_l = []\n",
    "    for x in all_enrich.values:\n",
    "        all_enrich_l += list(x)\n",
    "    \n",
    "\n",
    "    f, ax = plt.subplots(ncols=2, dpi=300, figsize=(10,10))\n",
    "    ax[0].hist(np.array(all_enrich_max),  color='r')\n",
    "    perc_thresh = 95\n",
    "    perc_val = np.percentile(all_enrich_max, perc_thresh)\n",
    "    ax[0].vlines(x=perc_val, ymin=0, ymax=ax[0].get_ylim()[1], color='g')\n",
    "\n",
    "    ax[0].hist((enrich_df['Fisher -log10p']),  color='b')\n",
    "    #plt.xlim([0,1])\n",
    "    plt.title(f\"Simulated (red) vs Real (blue) enrichment p-value all max clones\\n Green is {perc_thresh}% cutoff \")\n",
    "    perc_thresh = 95\n",
    "    perc_val = np.percentile(all_enrich_max, perc_thresh)\n",
    "\n",
    "\n",
    "    for c, c_df in enrich_df.iterrows():\n",
    "        ax[1].vlines(x=np.clip((enrich_df['Fisher -log10p']), 0, 5), ymin=0, ymax=1\n",
    "                  , color='b')\n",
    "        #plt.xlim([0,1])\n",
    "    ax[1].vlines(x=perc_val, ymin=0, ymax=1, color='r',\n",
    "             linewidth=3)\n",
    "    plt.suptitle(f\"{name} Clones p-value vs Simulated p-value cutoff\")\n",
    "\n",
    "    plt.savefig(join(outdir, f\"{name}donor{donor}.clone_shuffle.pdf\"))\n",
    "    \n",
    "    enrich_df[\"Comparison\"] = name\n",
    "    enrich_df.to_csv(join(outdir, f\"{name}donor{donor}.clone_shuffle.csv\"))\n",
    "    return enrich_df"
   ]
  },
  {
   "cell_type": "code",
   "execution_count": 9,
   "id": "0ac1be9d",
   "metadata": {
    "scrolled": false
   },
   "outputs": [
    {
     "name": "stdout",
     "output_type": "stream",
     "text": [
      "comparisons B,preB,postB;A,preA,postA\n",
      "comps ['B,preB,postB', 'A,preA,postA']\n",
      "name, a,b B preB postB\n",
      "ERROR! Session/line number was not unique in database. History logging moved to new session 37\n",
      "name, a,b A preA postA\n",
      "cmd convert -append /data/Mito_Trace/output/pipeline/DUPI_april08_2021/MTblacklist_mtasnucl/data/merged/MT/cellr_True/numread_200/filters/minC10_minR50_topN0_hetT0.001_hetC10_hetCount5_bq20/mgatk/vireoIn/clones/variants_init/knn/kparam_10/enrichment/shuffle_stats/B_donor0.clone_shuffle.pdf /data/Mito_Trace/output/pipeline/DUPI_april08_2021/MTblacklist_mtasnucl/data/merged/MT/cellr_True/numread_200/filters/minC10_minR50_topN0_hetT0.001_hetC10_hetCount5_bq20/mgatk/vireoIn/clones/variants_init/knn/kparam_10/enrichment/shuffle_stats/A_donor0.clone_shuffle.pdf /data/Mito_Trace/output/pipeline/DUPI_april08_2021/MTblacklist_mtasnucl/data/merged/MT/cellr_True/numread_200/filters/minC10_minR50_topN0_hetT0.001_hetC10_hetCount5_bq20/mgatk/vireoIn/clones/variants_init/knn/kparam_10/enrichment/shuffle_stats/donor0.clone_shuffle.pdf\n",
      "df    Unnamed: 0  Donor  lineage  # postB Cells in Cluster  \\\n",
      "0           0      0        0                      22.0   \n",
      "1           1      0        1                      28.0   \n",
      "2           2      0        2                       9.0   \n",
      "3           3      0        3                      24.0   \n",
      "4           4      0        4                      11.0   \n",
      "\n",
      "   # preB Cells in Cluster  postB fold enrichment norm  hypergeom p  Fisher p  \\\n",
      "0                     24.0                    0.746124     0.809889  0.357948   \n",
      "1                     17.0                    1.340629     0.125910  0.355408   \n",
      "2                     36.0                    0.203488     0.999999  0.000001   \n",
      "3                     18.0                    1.085271     0.335023  0.873363   \n",
      "4                     26.0                    0.344365     0.998776  0.001900   \n",
      "\n",
      "   Fisher -log10p       -log10p  # postA Cells in Cluster  \\\n",
      "0        0.446179  9.157448e-02                       NaN   \n",
      "1        0.449273  8.999401e-01                       NaN   \n",
      "2        5.884639  3.116565e-07                       NaN   \n",
      "3        0.058805  4.749259e-01                       NaN   \n",
      "4        2.721262  5.317797e-04                       NaN   \n",
      "\n",
      "   # preA Cells in Cluster Comparison  postA fold enrichment norm  \n",
      "0                      NaN         B_                         NaN  \n",
      "1                      NaN         B_                         NaN  \n",
      "2                      NaN         B_                         NaN  \n",
      "3                      NaN         B_                         NaN  \n",
      "4                      NaN         B_                         NaN  \n"
     ]
    }
   ],
   "source": [
    "print('comparisons', comparisons)\n",
    "if comparisons is not None and comparisons != \"None\":\n",
    "    comps = comparisons.split(\";\")\n",
    "    print('comps', comps)\n",
    "    comps_out = []\n",
    "    comps_out_csv = []\n",
    "    for c in comps:\n",
    "        name, a, b = c.split(',')\n",
    "        print('name, a,b', name, a, b)\n",
    "        samples = [a, b]\n",
    "        enrich_d = dirname(enrich_f)\n",
    "        curr_enrich_df = shuffle_clones(join(enrich_d,f\"{name}_enrichmentNorm.csv\"), cells_meta_f, outdir=OUTDIR,\n",
    "                                   names=[a, b], name=f\"{name}_\")\n",
    "        comps_out.append(join(OUTDIR, f\"{name}_donor{donor}.clone_shuffle.pdf\"))\n",
    "        comps_out_csv.append(curr_enrich_df)\n",
    "    cmd = f\"convert -append {' '.join(comps_out)} {join(OUTDIR, f'donor{donor}.clone_shuffle.pdf')}\"\n",
    "    print('cmd', cmd)\n",
    "    os.system(cmd)\n",
    "    df = pd.concat(comps_out_csv, axis=0)\n",
    "    print('df', df.head())\n",
    "    df.to_csv(join(OUTDIR, f\"donor{donor}.clone_shuffle.csv\"))\n",
    "else:\n",
    "    samples = samples.split(',')\n",
    "    shuffle_clones(enrich_f, cells_meta_f, outdir=OUTDIR, names=samples)"
   ]
  }
 ],
 "metadata": {
  "celltoolbar": "Tags",
  "kernelspec": {
   "display_name": "Python 3 (ipykernel)",
   "language": "python",
   "name": "python3"
  },
  "language_info": {
   "codemirror_mode": {
    "name": "ipython",
    "version": 3
   },
   "file_extension": ".py",
   "mimetype": "text/x-python",
   "name": "python",
   "nbconvert_exporter": "python",
   "pygments_lexer": "ipython3",
   "version": "3.7.12"
  }
 },
 "nbformat": 4,
 "nbformat_minor": 5
}
