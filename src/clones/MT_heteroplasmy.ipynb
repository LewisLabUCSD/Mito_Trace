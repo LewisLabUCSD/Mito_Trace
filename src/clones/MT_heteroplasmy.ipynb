{
 "cells": [
  {
   "cell_type": "code",
   "execution_count": null,
   "id": "10b3c5a5",
   "metadata": {},
   "outputs": [],
   "source": [
    "variant_df = vu.type_of_variants(AF_df.index)\n",
    "\n",
    "variants_box=vu.variants_dense(AF_df, vars_to_plot, samples_d=cells_meta['condition'], donors_d=cells_meta['donor'],\n",
    "                              variant_d=variant_df['variant type'])\n",
    "variants_box"
   ]
  }
 ],
 "metadata": {
  "kernelspec": {
   "display_name": "Python 3 (ipykernel)",
   "language": "python",
   "name": "python3"
  },
  "language_info": {
   "codemirror_mode": {
    "name": "ipython",
    "version": 3
   },
   "file_extension": ".py",
   "mimetype": "text/x-python",
   "name": "python",
   "nbconvert_exporter": "python",
   "pygments_lexer": "ipython3",
   "version": "3.7.10"
  }
 },
 "nbformat": 4,
 "nbformat_minor": 5
}
