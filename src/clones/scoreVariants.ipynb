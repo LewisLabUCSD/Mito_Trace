{
 "cells": [
  {
   "cell_type": "code",
   "execution_count": 2,
   "metadata": {
    "scrolled": false
   },
   "outputs": [
    {
     "name": "stdout",
     "output_type": "stream",
     "text": [
      "Using downloaded and verified file: /home/isshamie/.kipoi/models/DeepSEA/variantEffects/downloaded/model_files/weights/35956ab9c28960b5a3693f470fe980c1\n"
     ]
    }
   ],
   "source": [
    "import kipoi\n",
    "model_name = \"DeepSEA/variantEffects\"\n",
    "# get the model\n",
    "model = kipoi.get_model(model_name)\n",
    "# get the dataloader factory\n",
    "#Dataloader = kipoi.get_dataloader_factory(model_name)"
   ]
  },
  {
   "cell_type": "code",
   "execution_count": 3,
   "metadata": {
    "ExecuteTime": {
     "end_time": "2021-06-04T20:17:22.532497Z",
     "start_time": "2021-06-04T20:17:22.513764Z"
    },
    "tags": [
     "parameters"
    ]
   },
   "outputs": [],
   "source": [
    "# INDIR = \"data/processed/mttrace/TcellDupi_may17_2021/MTblacklist/merged/filters/minC10_minR50_topN0_hetT0.001_hetC10_hetCount5_bq20/filter_mgatk/vireoIn/clones\"\n",
    "# OUTDIR = \"data/processed/mttrace/TcellDupi_may17_2021/MTblacklist/merged/filters/minC10_minR50_topN0_hetT0.001_hetC10_hetCount5_bq20/filter_mgatk/vireoIn/clones/n_clones_20\"\n",
    "# N_DONORS=2\n",
    "# vars_to_plot=10\n",
    "# sample_names=\"pre,post\"\n",
    "# n_clones=20\n",
    "# var_thresh = 0.001\n",
    "# vcf_f=None\n",
    "\n",
    "# The input vcf path\n",
    "raw_vcf = \"/data2/mito_lineage/data/processed/mttrace/TcellDupi_may17_2021/MTblacklist/merged/filters/minC10_minR50_topN0_hetT0.001_hetC10_hetCount5_bq20/filter_mgatk/vireoIn/cellSNP.base.vcf\"\n",
    "mt_fasta = \"/data2/mito_lineage/data/external/GRCh38_MT_blacklist/chrM.fasta\" # \"example_data/hg19_chr22.fa\""
   ]
  },
  {
   "cell_type": "code",
   "execution_count": 4,
   "metadata": {},
   "outputs": [],
   "source": [
    "vcf_path = raw_vcf.replace(\".vcf\", \".fmt.vcf\")"
   ]
  },
  {
   "cell_type": "markdown",
   "metadata": {},
   "source": [
    "## Create proper formatted vcf file"
   ]
  },
  {
   "cell_type": "code",
   "execution_count": 5,
   "metadata": {
    "scrolled": true
   },
   "outputs": [],
   "source": [
    "# import pandas as pd\n",
    "# vcf = pd.read_csv(raw_vcf, sep='\\t')\n",
    "# vcf[\"QUAL\"] = \".\"\n",
    "# vcf[\"FILTER\"] = \".\"\n",
    "# vcf[\"INFO\"] = \".\"\n",
    "# vcf[\"ID\"] = \".\"\n",
    "# vcf[\"REF\"] = vcf[\"REF\"].apply(lambda x: x[-1])\n",
    "# vcf = vcf[[\"#CHROM\" ,\"POS\",\"ID\",\"REF\",\"ALT\",\"QUAL\",\"FILTER\",\"INFO\"]]\n",
    "# vcf.to_csv(vcf_path, sep='\\t', index=False)"
   ]
  },
  {
   "cell_type": "code",
   "execution_count": 6,
   "metadata": {},
   "outputs": [],
   "source": [
    "# The output vcf path, based on the input file name    \n",
    "out_vcf_fpath = vcf_path[:-4] + \"%s.vcf\"%model_name.replace(\"/\", \"_\")\n",
    "# The datalaoder keyword arguments\n",
    "# The datalaoder keyword arguments\n",
    "dataloader_arguments = {\"fasta_file\": \"/data2/mito_lineage/data/external/GRCh38_MT_blacklist/fasta/genome.fa\",\n",
    "                       \"gtf_file\":\"/data/isshamie/mito_lineage/data/external/GRCh38_MT_blacklist/genes/genes.gtf\",}\n",
    "\n"
   ]
  },
  {
   "cell_type": "code",
   "execution_count": null,
   "metadata": {},
   "outputs": [],
   "source": []
  },
  {
   "cell_type": "code",
   "execution_count": 7,
   "metadata": {
    "scrolled": true
   },
   "outputs": [
    {
     "name": "stdout",
     "output_type": "stream",
     "text": [
      "Using downloaded and verified file: /home/isshamie/.kipoi/models/DeepSEA/variantEffects/downloaded/model_files/weights/35956ab9c28960b5a3693f470fe980c1\n",
      "\u001b[32mINFO\u001b[0m \u001b[44m[kipoi_veff.snv_predict]\u001b[0m Using variant-centered sequence generation.\u001b[0m\n"
     ]
    },
    {
     "ename": "TypeError",
     "evalue": "__init__() got an unexpected keyword argument 'gtf_file'",
     "output_type": "error",
     "traceback": [
      "\u001b[0;31m---------------------------------------------------------------------------\u001b[0m",
      "\u001b[0;31mTypeError\u001b[0m                                 Traceback (most recent call last)",
      "\u001b[0;32m<ipython-input-7-e4b0cdecb849>\u001b[0m in \u001b[0;36m<module>\u001b[0;34m\u001b[0m\n\u001b[1;32m      5\u001b[0m                   \u001b[0mscores\u001b[0m \u001b[0;34m=\u001b[0m \u001b[0;34m[\u001b[0m\u001b[0;34m\"logit\"\u001b[0m\u001b[0;34m]\u001b[0m\u001b[0;34m,\u001b[0m\u001b[0;34m\u001b[0m\u001b[0;34m\u001b[0m\u001b[0m\n\u001b[1;32m      6\u001b[0m                   \u001b[0minput_vcf\u001b[0m \u001b[0;34m=\u001b[0m \u001b[0mvcf_path\u001b[0m\u001b[0;34m,\u001b[0m\u001b[0;34m\u001b[0m\u001b[0;34m\u001b[0m\u001b[0m\n\u001b[0;32m----> 7\u001b[0;31m                   output_vcf = out_vcf_fpath)\n\u001b[0m",
      "\u001b[0;32m/data/isshamie/software/anaconda3/envs/mito_trace/lib/python3.6/site-packages/kipoi_veff/snv_predict.py\u001b[0m in \u001b[0;36mscore_variants\u001b[0;34m(model, dl_args, input_vcf, output_vcf, output_writers, scores, score_kwargs, num_workers, batch_size, source, seq_length, std_var_id, restriction_bed, return_predictions, model_outputs)\u001b[0m\n\u001b[1;32m    793\u001b[0m                         \u001b[0mevaluation_function_kwargs\u001b[0m\u001b[0;34m=\u001b[0m\u001b[0;34m{\u001b[0m\u001b[0;34m'diff_types'\u001b[0m\u001b[0;34m:\u001b[0m \u001b[0mdts\u001b[0m\u001b[0;34m,\u001b[0m \u001b[0;34m'output_filter'\u001b[0m\u001b[0;34m:\u001b[0m \u001b[0mmodel_outputs\u001b[0m\u001b[0;34m}\u001b[0m\u001b[0;34m,\u001b[0m\u001b[0;34m\u001b[0m\u001b[0;34m\u001b[0m\u001b[0m\n\u001b[1;32m    794\u001b[0m                         \u001b[0msync_pred_writer\u001b[0m\u001b[0;34m=\u001b[0m\u001b[0moutput_writers\u001b[0m\u001b[0;34m,\u001b[0m\u001b[0;34m\u001b[0m\u001b[0;34m\u001b[0m\u001b[0m\n\u001b[0;32m--> 795\u001b[0;31m                         return_predictions=return_predictions)\n\u001b[0m",
      "\u001b[0;32m/data/isshamie/software/anaconda3/envs/mito_trace/lib/python3.6/site-packages/kipoi_veff/snv_predict.py\u001b[0m in \u001b[0;36mpredict_snvs\u001b[0;34m(model, dataloader, vcf_fpath, batch_size, num_workers, dataloader_args, vcf_to_region, vcf_id_generator_fn, evaluation_function, evaluation_function_kwargs, sync_pred_writer, use_dataloader_example_data, return_predictions, generated_seq_writer)\u001b[0m\n\u001b[1;32m    585\u001b[0m     \u001b[0mres\u001b[0m \u001b[0;34m=\u001b[0m \u001b[0;34m[\u001b[0m\u001b[0;34m]\u001b[0m\u001b[0;34m\u001b[0m\u001b[0;34m\u001b[0m\u001b[0m\n\u001b[1;32m    586\u001b[0m \u001b[0;34m\u001b[0m\u001b[0m\n\u001b[0;32m--> 587\u001b[0;31m     it = dataloader(**dataloader_args).batch_iter(batch_size=batch_size,\n\u001b[0m\u001b[1;32m    588\u001b[0m                                                   num_workers=num_workers)\n\u001b[1;32m    589\u001b[0m \u001b[0;34m\u001b[0m\u001b[0m\n",
      "\u001b[0;31mTypeError\u001b[0m: __init__() got an unexpected keyword argument 'gtf_file'"
     ]
    }
   ],
   "source": [
    "# Now actually run the effect prediction using the logit difference:\n",
    "import kipoi_veff.snv_predict as sp\n",
    "sp.score_variants(model = model_name,\n",
    "              dl_args = dataloader_arguments,\n",
    "                  scores = [\"logit\"],\n",
    "                  input_vcf = vcf_path,\n",
    "                  output_vcf = out_vcf_fpath)"
   ]
  },
  {
   "cell_type": "code",
   "execution_count": 12,
   "metadata": {},
   "outputs": [
    {
     "ename": "TypeError",
     "evalue": "expected str, bytes or os.PathLike object, not dict",
     "output_type": "error",
     "traceback": [
      "\u001b[0;31m---------------------------------------------------------------------------\u001b[0m",
      "\u001b[0;31mTypeError\u001b[0m                                 Traceback (most recent call last)",
      "\u001b[0;32m<ipython-input-12-1a99e53b69f2>\u001b[0m in \u001b[0;36m<module>\u001b[0;34m\u001b[0m\n\u001b[0;32m----> 1\u001b[0;31m \u001b[0mkipoi\u001b[0m\u001b[0;34m.\u001b[0m\u001b[0mget_dataloader_descr\u001b[0m\u001b[0;34m(\u001b[0m\u001b[0mdataloader_arguments\u001b[0m\u001b[0;34m)\u001b[0m\u001b[0;34m\u001b[0m\u001b[0;34m\u001b[0m\u001b[0m\n\u001b[0m",
      "\u001b[0;32m/data/isshamie/software/anaconda3/envs/mito_trace/lib/python3.6/site-packages/kipoi/sources.py\u001b[0m in \u001b[0;36mget_dataloader_descr\u001b[0;34m(dataloader, source)\u001b[0m\n\u001b[1;32m     53\u001b[0m         \u001b[0msource\u001b[0m\u001b[0;34m:\u001b[0m \u001b[0mModel\u001b[0m \u001b[0msource\u001b[0m\u001b[0;34m.\u001b[0m \u001b[0;36m1\u001b[0m\u001b[0mst\u001b[0m \u001b[0mcolumn\u001b[0m \u001b[0;32min\u001b[0m \u001b[0mthe\u001b[0m\u001b[0;31m \u001b[0m\u001b[0;31m`\u001b[0m\u001b[0mkipoi\u001b[0m\u001b[0;34m.\u001b[0m\u001b[0mlist_models\u001b[0m\u001b[0;34m(\u001b[0m\u001b[0;34m)\u001b[0m\u001b[0;31m`\u001b[0m\u001b[0;31m \u001b[0m\u001b[0;31m`\u001b[0m\u001b[0mpd\u001b[0m\u001b[0;34m.\u001b[0m\u001b[0mDataFrame\u001b[0m\u001b[0;31m`\u001b[0m\u001b[0;34m.\u001b[0m\u001b[0;34m\u001b[0m\u001b[0;34m\u001b[0m\u001b[0m\n\u001b[1;32m     54\u001b[0m     \"\"\"\n\u001b[0;32m---> 55\u001b[0;31m     \u001b[0;32mreturn\u001b[0m \u001b[0mkipoi\u001b[0m\u001b[0;34m.\u001b[0m\u001b[0mconfig\u001b[0m\u001b[0;34m.\u001b[0m\u001b[0mget_source\u001b[0m\u001b[0;34m(\u001b[0m\u001b[0msource\u001b[0m\u001b[0;34m)\u001b[0m\u001b[0;34m.\u001b[0m\u001b[0mget_dataloader_descr\u001b[0m\u001b[0;34m(\u001b[0m\u001b[0mdataloader\u001b[0m\u001b[0;34m)\u001b[0m\u001b[0;34m\u001b[0m\u001b[0;34m\u001b[0m\u001b[0m\n\u001b[0m\u001b[1;32m     56\u001b[0m \u001b[0;34m\u001b[0m\u001b[0m\n\u001b[1;32m     57\u001b[0m \u001b[0;34m\u001b[0m\u001b[0m\n",
      "\u001b[0;32m/data/isshamie/software/anaconda3/envs/mito_trace/lib/python3.6/site-packages/kipoi/sources.py\u001b[0m in \u001b[0;36mget_dataloader_descr\u001b[0;34m(self, dataloader)\u001b[0m\n\u001b[1;32m    430\u001b[0m \u001b[0;34m\u001b[0m\u001b[0m\n\u001b[1;32m    431\u001b[0m     \u001b[0;32mdef\u001b[0m \u001b[0mget_dataloader_descr\u001b[0m\u001b[0;34m(\u001b[0m\u001b[0mself\u001b[0m\u001b[0;34m,\u001b[0m \u001b[0mdataloader\u001b[0m\u001b[0;34m)\u001b[0m\u001b[0;34m:\u001b[0m\u001b[0;34m\u001b[0m\u001b[0;34m\u001b[0m\u001b[0m\n\u001b[0;32m--> 432\u001b[0;31m         \u001b[0;32mreturn\u001b[0m \u001b[0mself\u001b[0m\u001b[0;34m.\u001b[0m\u001b[0m_get_component_descr\u001b[0m\u001b[0;34m(\u001b[0m\u001b[0mdataloader\u001b[0m\u001b[0;34m,\u001b[0m \u001b[0mwhich\u001b[0m\u001b[0;34m=\u001b[0m\u001b[0;34m\"dataloader\"\u001b[0m\u001b[0;34m)\u001b[0m\u001b[0;34m\u001b[0m\u001b[0;34m\u001b[0m\u001b[0m\n\u001b[0m\u001b[1;32m    433\u001b[0m \u001b[0;34m\u001b[0m\u001b[0m\n\u001b[1;32m    434\u001b[0m     \u001b[0;34m@\u001b[0m\u001b[0mclassmethod\u001b[0m\u001b[0;34m\u001b[0m\u001b[0;34m\u001b[0m\u001b[0m\n",
      "\u001b[0;32m/data/isshamie/software/anaconda3/envs/mito_trace/lib/python3.6/site-packages/kipoi/sources.py\u001b[0m in \u001b[0;36m_get_component_descr\u001b[0;34m(self, component, which)\u001b[0m\n\u001b[1;32m    752\u001b[0m         \u001b[0;32mif\u001b[0m \u001b[0;32mnot\u001b[0m \u001b[0mself\u001b[0m\u001b[0;34m.\u001b[0m\u001b[0m_pulled\u001b[0m \u001b[0;32mand\u001b[0m \u001b[0mself\u001b[0m\u001b[0;34m.\u001b[0m\u001b[0mauto_update\u001b[0m\u001b[0;34m:\u001b[0m\u001b[0;34m\u001b[0m\u001b[0;34m\u001b[0m\u001b[0m\n\u001b[1;32m    753\u001b[0m             \u001b[0mself\u001b[0m\u001b[0;34m.\u001b[0m\u001b[0mpull_source\u001b[0m\u001b[0;34m(\u001b[0m\u001b[0;34m)\u001b[0m\u001b[0;34m\u001b[0m\u001b[0;34m\u001b[0m\u001b[0m\n\u001b[0;32m--> 754\u001b[0;31m         \u001b[0;32mreturn\u001b[0m \u001b[0mself\u001b[0m\u001b[0;34m.\u001b[0m\u001b[0mlocal_source\u001b[0m\u001b[0;34m.\u001b[0m\u001b[0m_get_component_descr\u001b[0m\u001b[0;34m(\u001b[0m\u001b[0mcomponent\u001b[0m\u001b[0;34m,\u001b[0m \u001b[0mwhich\u001b[0m\u001b[0;34m)\u001b[0m\u001b[0;34m\u001b[0m\u001b[0;34m\u001b[0m\u001b[0m\n\u001b[0m\u001b[1;32m    755\u001b[0m \u001b[0;34m\u001b[0m\u001b[0m\n\u001b[1;32m    756\u001b[0m     \u001b[0;32mdef\u001b[0m \u001b[0mget_config\u001b[0m\u001b[0;34m(\u001b[0m\u001b[0mself\u001b[0m\u001b[0;34m)\u001b[0m\u001b[0;34m:\u001b[0m\u001b[0;34m\u001b[0m\u001b[0;34m\u001b[0m\u001b[0m\n",
      "\u001b[0;32m/data/isshamie/software/anaconda3/envs/mito_trace/lib/python3.6/site-packages/kipoi/sources.py\u001b[0m in \u001b[0;36m_get_component_descr\u001b[0;34m(self, component, which)\u001b[0m\n\u001b[1;32m    592\u001b[0m \u001b[0;34m\u001b[0m\u001b[0m\n\u001b[1;32m    593\u001b[0m     \u001b[0;32mdef\u001b[0m \u001b[0m_get_component_descr\u001b[0m\u001b[0;34m(\u001b[0m\u001b[0mself\u001b[0m\u001b[0;34m,\u001b[0m \u001b[0mcomponent\u001b[0m\u001b[0;34m,\u001b[0m \u001b[0mwhich\u001b[0m\u001b[0;34m=\u001b[0m\u001b[0;34m\"model\"\u001b[0m\u001b[0;34m)\u001b[0m\u001b[0;34m:\u001b[0m\u001b[0;34m\u001b[0m\u001b[0;34m\u001b[0m\u001b[0m\n\u001b[0;32m--> 594\u001b[0;31m         \u001b[0mcomponent\u001b[0m \u001b[0;34m=\u001b[0m \u001b[0mos\u001b[0m\u001b[0;34m.\u001b[0m\u001b[0mpath\u001b[0m\u001b[0;34m.\u001b[0m\u001b[0mnormpath\u001b[0m\u001b[0;34m(\u001b[0m\u001b[0mcomponent\u001b[0m\u001b[0;34m)\u001b[0m\u001b[0;34m\u001b[0m\u001b[0;34m\u001b[0m\u001b[0m\n\u001b[0m\u001b[1;32m    595\u001b[0m         \u001b[0mself\u001b[0m\u001b[0;34m.\u001b[0m\u001b[0massert_is_component\u001b[0m\u001b[0;34m(\u001b[0m\u001b[0mcomponent\u001b[0m\u001b[0;34m,\u001b[0m \u001b[0mwhich\u001b[0m\u001b[0;34m)\u001b[0m\u001b[0;34m\u001b[0m\u001b[0;34m\u001b[0m\u001b[0m\n\u001b[1;32m    596\u001b[0m \u001b[0;34m\u001b[0m\u001b[0m\n",
      "\u001b[0;32m/data/isshamie/software/anaconda3/envs/mito_trace/lib/python3.6/posixpath.py\u001b[0m in \u001b[0;36mnormpath\u001b[0;34m(path)\u001b[0m\n\u001b[1;32m    338\u001b[0m \u001b[0;32mdef\u001b[0m \u001b[0mnormpath\u001b[0m\u001b[0;34m(\u001b[0m\u001b[0mpath\u001b[0m\u001b[0;34m)\u001b[0m\u001b[0;34m:\u001b[0m\u001b[0;34m\u001b[0m\u001b[0;34m\u001b[0m\u001b[0m\n\u001b[1;32m    339\u001b[0m     \u001b[0;34m\"\"\"Normalize path, eliminating double slashes, etc.\"\"\"\u001b[0m\u001b[0;34m\u001b[0m\u001b[0;34m\u001b[0m\u001b[0m\n\u001b[0;32m--> 340\u001b[0;31m     \u001b[0mpath\u001b[0m \u001b[0;34m=\u001b[0m \u001b[0mos\u001b[0m\u001b[0;34m.\u001b[0m\u001b[0mfspath\u001b[0m\u001b[0;34m(\u001b[0m\u001b[0mpath\u001b[0m\u001b[0;34m)\u001b[0m\u001b[0;34m\u001b[0m\u001b[0;34m\u001b[0m\u001b[0m\n\u001b[0m\u001b[1;32m    341\u001b[0m     \u001b[0;32mif\u001b[0m \u001b[0misinstance\u001b[0m\u001b[0;34m(\u001b[0m\u001b[0mpath\u001b[0m\u001b[0;34m,\u001b[0m \u001b[0mbytes\u001b[0m\u001b[0;34m)\u001b[0m\u001b[0;34m:\u001b[0m\u001b[0;34m\u001b[0m\u001b[0;34m\u001b[0m\u001b[0m\n\u001b[1;32m    342\u001b[0m         \u001b[0msep\u001b[0m \u001b[0;34m=\u001b[0m \u001b[0;34mb'/'\u001b[0m\u001b[0;34m\u001b[0m\u001b[0;34m\u001b[0m\u001b[0m\n",
      "\u001b[0;31mTypeError\u001b[0m: expected str, bytes or os.PathLike object, not dict"
     ]
    }
   ],
   "source": [
    "kipoi.get_dataloader_descr(dataloader_arguments)\n"
   ]
  },
  {
   "cell_type": "code",
   "execution_count": 11,
   "metadata": {},
   "outputs": [],
   "source": [
    "import varcode\n"
   ]
  },
  {
   "cell_type": "code",
   "execution_count": 14,
   "metadata": {
    "scrolled": true
   },
   "outputs": [
    {
     "name": "stdout",
     "output_type": "stream",
     "text": [
      "<VariantCollection from '/data2/mito_lineage/data/processed/mttrace/TcellDupi_may17_2021/MTblacklist/merged/filters/minC10_minR50_topN0_hetT0.001_hetC10_hetCount5_bq20/filter_mgatk/vireoIn/cellSNP.base.fmt.vcf' with 1433 elements>\n",
      "  -- Variant(contig='chrM', start=49, ref='A', alt='G', reference_name='GRCh38')\n",
      "  -- Variant(contig='chrM', start=49, ref='A', alt='C', reference_name='GRCh38')\n",
      "  -- Variant(contig='chrM', start=49, ref='A', alt='T', reference_name='GRCh38')\n",
      "  -- Variant(contig='chrM', start=57, ref='T', alt='C', reference_name='GRCh38')\n",
      "  -- Variant(contig='chrM', start=57, ref='T', alt='G', reference_name='GRCh38')\n",
      "  -- Variant(contig='chrM', start=57, ref='T', alt='A', reference_name='GRCh38')\n",
      "  -- Variant(contig='chrM', start=58, ref='T', alt='G', reference_name='GRCh38')\n",
      "  -- Variant(contig='chrM', start=58, ref='T', alt='C', reference_name='GRCh38')\n",
      "  -- Variant(contig='chrM', start=58, ref='T', alt='A', reference_name='GRCh38')\n",
      "  -- Variant(contig='chrM', start=64, ref='C', alt='A', reference_name='GRCh38')\n",
      "  -- Variant(contig='chrM', start=64, ref='C', alt='T', reference_name='GRCh38')\n",
      "  -- Variant(contig='chrM', start=66, ref='G', alt='A', reference_name='GRCh38')\n",
      "  -- Variant(contig='chrM', start=66, ref='G', alt='T', reference_name='GRCh38')\n",
      "  -- Variant(contig='chrM', start=88, ref='T', alt='C', reference_name='GRCh38')\n",
      "  -- Variant(contig='chrM', start=88, ref='T', alt='A', reference_name='GRCh38')\n",
      "  -- Variant(contig='chrM', start=88, ref='T', alt='G', reference_name='GRCh38')\n",
      "  -- Variant(contig='chrM', start=146, ref='T', alt='C', reference_name='GRCh38')\n",
      "  -- Variant(contig='chrM', start=146, ref='T', alt='G', reference_name='GRCh38')\n",
      "  -- Variant(contig='chrM', start=150, ref='C', alt='G', reference_name='GRCh38')\n",
      "  -- Variant(contig='chrM', start=150, ref='C', alt='T', reference_name='GRCh38')\n",
      "  -- Variant(contig='chrM', start=152, ref='T', alt='C', reference_name='GRCh38')\n",
      "  -- Variant(contig='chrM', start=250, ref='T', alt='A', reference_name='GRCh38')\n",
      "  -- Variant(contig='chrM', start=250, ref='T', alt='C', reference_name='GRCh38')\n",
      "  -- Variant(contig='chrM', start=263, ref='A', alt='T', reference_name='GRCh38')\n",
      "  -- Variant(contig='chrM', start=283, ref='A', alt='G', reference_name='GRCh38')\n",
      "  -- Variant(contig='chrM', start=310, ref='T', alt='C', reference_name='GRCh38')\n",
      "  -- Variant(contig='chrM', start=310, ref='T', alt='A', reference_name='GRCh38')\n",
      "  -- Variant(contig='chrM', start=310, ref='T', alt='G', reference_name='GRCh38')\n",
      "  -- Variant(contig='chrM', start=318, ref='T', alt='C', reference_name='GRCh38')\n",
      "  -- Variant(contig='chrM', start=318, ref='T', alt='A', reference_name='GRCh38')\n",
      "  -- Variant(contig='chrM', start=379, ref='A', alt='C', reference_name='GRCh38')\n",
      "  -- Variant(contig='chrM', start=379, ref='A', alt='G', reference_name='GRCh38')\n",
      "  -- Variant(contig='chrM', start=379, ref='A', alt='T', reference_name='GRCh38')\n",
      "  -- Variant(contig='chrM', start=478, ref='A', alt='G', reference_name='GRCh38')\n",
      "  -- Variant(contig='chrM', start=478, ref='A', alt='C', reference_name='GRCh38')\n",
      "  -- Variant(contig='chrM', start=503, ref='A', alt='C', reference_name='GRCh38')\n",
      "  -- Variant(contig='chrM', start=503, ref='A', alt='G', reference_name='GRCh38')\n",
      "  -- Variant(contig='chrM', start=503, ref='A', alt='T', reference_name='GRCh38')\n",
      "  -- Variant(contig='chrM', start=513, ref='G', alt='C', reference_name='GRCh38')\n",
      "  -- Variant(contig='chrM', start=513, ref='G', alt='T', reference_name='GRCh38')\n",
      "  -- Variant(contig='chrM', start=513, ref='G', alt='A', reference_name='GRCh38')\n",
      "  -- Variant(contig='chrM', start=599, ref='A', alt='T', reference_name='GRCh38')\n",
      "  -- Variant(contig='chrM', start=599, ref='A', alt='G', reference_name='GRCh38')\n",
      "  -- Variant(contig='chrM', start=599, ref='A', alt='C', reference_name='GRCh38')\n",
      "  -- Variant(contig='chrM', start=624, ref='C', alt='T', reference_name='GRCh38')\n",
      "  -- Variant(contig='chrM', start=624, ref='C', alt='G', reference_name='GRCh38')\n",
      "  -- Variant(contig='chrM', start=634, ref='T', alt='C', reference_name='GRCh38')\n",
      "  -- Variant(contig='chrM', start=634, ref='T', alt='A', reference_name='GRCh38')\n",
      "  -- Variant(contig='chrM', start=634, ref='T', alt='G', reference_name='GRCh38')\n",
      "  -- Variant(contig='chrM', start=686, ref='A', alt='C', reference_name='GRCh38')\n",
      "  ... and 1383 more\n"
     ]
    },
    {
     "name": "stderr",
     "output_type": "stream",
     "text": [
      "/data/isshamie/software/anaconda3/envs/mito_trace/lib/python3.6/site-packages/varcode/reference.py:285: UserWarning: Reference could not be matched against filename (file://data2/mito_lineage/data/external/GRCh38_MT_blacklist/fasta/genome.fa); using best match against full path (GRCh38).\n",
      "  reference_name_or_path, match))\n"
     ]
    },
    {
     "ename": "ValueError",
     "evalue": "Invalid contig name 'chrM' for reference 'GRCh38'",
     "output_type": "error",
     "traceback": [
      "\u001b[0;31m---------------------------------------------------------------------------\u001b[0m",
      "\u001b[0;31mValueError\u001b[0m                                Traceback (most recent call last)",
      "\u001b[0;32m<ipython-input-14-c7fbda96ce93>\u001b[0m in \u001b[0;36m<module>\u001b[0;34m\u001b[0m\n\u001b[1;32m     15\u001b[0m \u001b[0;31m# groupby_gene_name returns a dictionary whose keys are gene names\u001b[0m\u001b[0;34m\u001b[0m\u001b[0;34m\u001b[0m\u001b[0;34m\u001b[0m\u001b[0m\n\u001b[1;32m     16\u001b[0m \u001b[0;31m# and whose values are themselves VariantCollections\u001b[0m\u001b[0;34m\u001b[0m\u001b[0;34m\u001b[0m\u001b[0;34m\u001b[0m\u001b[0m\n\u001b[0;32m---> 17\u001b[0;31m \u001b[0mgene_groups\u001b[0m \u001b[0;34m=\u001b[0m \u001b[0mvariants\u001b[0m\u001b[0;34m.\u001b[0m\u001b[0mgroupby_gene_name\u001b[0m\u001b[0;34m(\u001b[0m\u001b[0;34m)\u001b[0m\u001b[0;34m\u001b[0m\u001b[0;34m\u001b[0m\u001b[0m\n\u001b[0m\u001b[1;32m     18\u001b[0m \u001b[0;34m\u001b[0m\u001b[0m\n\u001b[1;32m     19\u001b[0m \u001b[0;31m# get variants which affect the TP53 gene\u001b[0m\u001b[0;34m\u001b[0m\u001b[0;34m\u001b[0m\u001b[0;34m\u001b[0m\u001b[0m\n",
      "\u001b[0;32m/data/isshamie/software/anaconda3/envs/mito_trace/lib/python3.6/site-packages/varcode/variant_collection.py\u001b[0m in \u001b[0;36mgroupby_gene_name\u001b[0;34m(self)\u001b[0m\n\u001b[1;32m    155\u001b[0m         \u001b[0mvariant\u001b[0m \u001b[0;32min\u001b[0m \u001b[0mmultiple\u001b[0m \u001b[0mgroups\u001b[0m\u001b[0;34m.\u001b[0m\u001b[0;34m\u001b[0m\u001b[0;34m\u001b[0m\u001b[0m\n\u001b[1;32m    156\u001b[0m         \"\"\"\n\u001b[0;32m--> 157\u001b[0;31m         \u001b[0;32mreturn\u001b[0m \u001b[0mself\u001b[0m\u001b[0;34m.\u001b[0m\u001b[0mmulti_groupby\u001b[0m\u001b[0;34m(\u001b[0m\u001b[0;32mlambda\u001b[0m \u001b[0mx\u001b[0m\u001b[0;34m:\u001b[0m \u001b[0mx\u001b[0m\u001b[0;34m.\u001b[0m\u001b[0mgene_names\u001b[0m\u001b[0;34m)\u001b[0m\u001b[0;34m\u001b[0m\u001b[0;34m\u001b[0m\u001b[0m\n\u001b[0m\u001b[1;32m    158\u001b[0m \u001b[0;34m\u001b[0m\u001b[0m\n\u001b[1;32m    159\u001b[0m     \u001b[0;32mdef\u001b[0m \u001b[0mgroupby_gene_id\u001b[0m\u001b[0;34m(\u001b[0m\u001b[0mself\u001b[0m\u001b[0;34m)\u001b[0m\u001b[0;34m:\u001b[0m\u001b[0;34m\u001b[0m\u001b[0;34m\u001b[0m\u001b[0m\n",
      "\u001b[0;32m/data/isshamie/software/anaconda3/envs/mito_trace/lib/python3.6/site-packages/sercol/collection.py\u001b[0m in \u001b[0;36mmulti_groupby\u001b[0;34m(self, key_fn)\u001b[0m\n\u001b[1;32m    220\u001b[0m \u001b[0;34m\u001b[0m\u001b[0m\n\u001b[1;32m    221\u001b[0m         \u001b[0;32mfor\u001b[0m \u001b[0mx\u001b[0m \u001b[0;32min\u001b[0m \u001b[0mself\u001b[0m\u001b[0;34m:\u001b[0m\u001b[0;34m\u001b[0m\u001b[0;34m\u001b[0m\u001b[0m\n\u001b[0;32m--> 222\u001b[0;31m             \u001b[0;32mfor\u001b[0m \u001b[0mkey\u001b[0m \u001b[0;32min\u001b[0m \u001b[0mkey_fn\u001b[0m\u001b[0;34m(\u001b[0m\u001b[0mx\u001b[0m\u001b[0;34m)\u001b[0m\u001b[0;34m:\u001b[0m\u001b[0;34m\u001b[0m\u001b[0;34m\u001b[0m\u001b[0m\n\u001b[0m\u001b[1;32m    223\u001b[0m                 \u001b[0mresult_dict\u001b[0m\u001b[0;34m[\u001b[0m\u001b[0mkey\u001b[0m\u001b[0;34m]\u001b[0m\u001b[0;34m.\u001b[0m\u001b[0mappend\u001b[0m\u001b[0;34m(\u001b[0m\u001b[0mx\u001b[0m\u001b[0;34m)\u001b[0m\u001b[0;34m\u001b[0m\u001b[0;34m\u001b[0m\u001b[0m\n\u001b[1;32m    224\u001b[0m \u001b[0;34m\u001b[0m\u001b[0m\n",
      "\u001b[0;32m/data/isshamie/software/anaconda3/envs/mito_trace/lib/python3.6/site-packages/varcode/variant_collection.py\u001b[0m in \u001b[0;36m<lambda>\u001b[0;34m(x)\u001b[0m\n\u001b[1;32m    155\u001b[0m         \u001b[0mvariant\u001b[0m \u001b[0;32min\u001b[0m \u001b[0mmultiple\u001b[0m \u001b[0mgroups\u001b[0m\u001b[0;34m.\u001b[0m\u001b[0;34m\u001b[0m\u001b[0;34m\u001b[0m\u001b[0m\n\u001b[1;32m    156\u001b[0m         \"\"\"\n\u001b[0;32m--> 157\u001b[0;31m         \u001b[0;32mreturn\u001b[0m \u001b[0mself\u001b[0m\u001b[0;34m.\u001b[0m\u001b[0mmulti_groupby\u001b[0m\u001b[0;34m(\u001b[0m\u001b[0;32mlambda\u001b[0m \u001b[0mx\u001b[0m\u001b[0;34m:\u001b[0m \u001b[0mx\u001b[0m\u001b[0;34m.\u001b[0m\u001b[0mgene_names\u001b[0m\u001b[0;34m)\u001b[0m\u001b[0;34m\u001b[0m\u001b[0;34m\u001b[0m\u001b[0m\n\u001b[0m\u001b[1;32m    158\u001b[0m \u001b[0;34m\u001b[0m\u001b[0m\n\u001b[1;32m    159\u001b[0m     \u001b[0;32mdef\u001b[0m \u001b[0mgroupby_gene_id\u001b[0m\u001b[0;34m(\u001b[0m\u001b[0mself\u001b[0m\u001b[0;34m)\u001b[0m\u001b[0;34m:\u001b[0m\u001b[0;34m\u001b[0m\u001b[0;34m\u001b[0m\u001b[0m\n",
      "\u001b[0;32m/data/isshamie/software/anaconda3/envs/mito_trace/lib/python3.6/site-packages/varcode/variant.py\u001b[0m in \u001b[0;36mgene_names\u001b[0;34m(self)\u001b[0m\n\u001b[1;32m    433\u001b[0m         \"\"\"\n\u001b[1;32m    434\u001b[0m         \u001b[0;32mif\u001b[0m \u001b[0mself\u001b[0m\u001b[0;34m.\u001b[0m\u001b[0m_gene_names\u001b[0m \u001b[0;32mis\u001b[0m \u001b[0;32mNone\u001b[0m\u001b[0;34m:\u001b[0m\u001b[0;34m\u001b[0m\u001b[0;34m\u001b[0m\u001b[0m\n\u001b[0;32m--> 435\u001b[0;31m             \u001b[0mself\u001b[0m\u001b[0;34m.\u001b[0m\u001b[0m_check_that_genome_has_contig\u001b[0m\u001b[0;34m(\u001b[0m\u001b[0;34m)\u001b[0m\u001b[0;34m\u001b[0m\u001b[0;34m\u001b[0m\u001b[0m\n\u001b[0m\u001b[1;32m    436\u001b[0m             self._gene_names = self.genome.gene_names_at_locus(\n\u001b[1;32m    437\u001b[0m                 self.contig, self.start, self.end)\n",
      "\u001b[0;32m/data/isshamie/software/anaconda3/envs/mito_trace/lib/python3.6/site-packages/varcode/variant.py\u001b[0m in \u001b[0;36m_check_that_genome_has_contig\u001b[0;34m(self)\u001b[0m\n\u001b[1;32m    370\u001b[0m             raise ValueError(\"Invalid contig name '%s' for reference '%s'\" % (\n\u001b[1;32m    371\u001b[0m                 \u001b[0mself\u001b[0m\u001b[0;34m.\u001b[0m\u001b[0mcontig\u001b[0m\u001b[0;34m,\u001b[0m\u001b[0;34m\u001b[0m\u001b[0;34m\u001b[0m\u001b[0m\n\u001b[0;32m--> 372\u001b[0;31m                 self.reference_name))\n\u001b[0m\u001b[1;32m    373\u001b[0m \u001b[0;34m\u001b[0m\u001b[0m\n\u001b[1;32m    374\u001b[0m \u001b[0;34m\u001b[0m\u001b[0m\n",
      "\u001b[0;31mValueError\u001b[0m: Invalid contig name 'chrM' for reference 'GRCh38'"
     ]
    }
   ],
   "source": [
    "\n",
    "# Load TCGA MAF containing variants from their\n",
    "variants = varcode.load_vcf(vcf_path)\n",
    "\n",
    "print(variants)\n",
    "### <VariantCollection from 'tcga-ovarian-cancer-variants.maf' with 6428 elements>\n",
    "###  -- Variant(contig=1, start=69538, ref=G, alt=A, genome=GRCh37)\n",
    "###  -- Variant(contig=1, start=881892, ref=T, alt=G, genome=GRCh37)\n",
    "###  -- Variant(contig=1, start=3389714, ref=G, alt=A, genome=GRCh37)\n",
    "###  -- Variant(contig=1, start=3624325, ref=G, alt=T, genome=GRCh37)\n",
    "###  ...\n",
    "\n",
    "# you can index into a VariantCollection and get back a Variant object\n",
    "variant = variants[0]\n",
    "\n",
    "# groupby_gene_name returns a dictionary whose keys are gene names\n",
    "# and whose values are themselves VariantCollections\n",
    "gene_groups = variants.groupby_gene_name()\n",
    "\n",
    "# get variants which affect the TP53 gene\n",
    "TP53_variants = gene_groups[\"TP53\"]\n",
    "\n",
    "# predict protein coding effect of every TP53 variant on\n",
    "# each transcript of the TP53 gene\n",
    "TP53_effects = TP53_variants.effects()\n",
    "\n",
    "print(TP53_effects)\n",
    "### <EffectCollection with 789 elements>\n",
    "### -- PrematureStop(variant=chr17 g.7574003G>A, transcript_name=TP53-001, transcript_id=ENST00000269305, effect_description=p.R342*)\n",
    "### -- ThreePrimeUTR(variant=chr17 g.7574003G>A, transcript_name=TP53-005, transcript_id=ENST00000420246)\n",
    "### -- PrematureStop(variant=chr17 g.7574003G>A, transcript_name=TP53-002, transcript_id=ENST00000445888, effect_description=p.R342*)\n",
    "### -- FrameShift(variant=chr17 g.7574030_7574030delG, transcript_name=TP53-001, transcript_id=ENST00000269305, effect_description=p.R333fs)\n",
    "### ...\n",
    "\n",
    "premature_stop_effect = TP53_effects[0]\n",
    "\n",
    "print(str(premature_stop_effect.mutant_protein_sequence))\n",
    "### 'MEEPQSDPSVEPPLSQETFSDLWKLLPENNVLSPLPSQAMDDLMLSPDDIEQWFTEDPGPDEAPRMPEAAPPVAPAPAAPTPAAPAPAPSWPLSSSVPSQKTYQGSYGFRLGFLHSGTAKSVTCTYSPALNKMFCQLAKTCPVQLWVDSTPPPGTRVRAMAIYKQSQHMTEVVRRCPHHERCSDSDGLAPPQHLIRVEGNLRVEYLDDRNTFRHSVVVPYEPPEVGSDCTTIHYNYMCNSSCMGGMNRRPILTIITLEDSSGNLLGRNSFEVRVCACPGRDRRTEEENLRKKGEPHHELPPGSTKRALPNNTSSSPQPKKKPLDGEYFTLQIRGRERFEMF'\n",
    "\n",
    "print(premature_stop_effect.aa_mutation_start_offset)\n",
    "### 341\n",
    "\n",
    "print(premature_stop_effect.transcript)\n",
    "### Transcript(id=ENST00000269305, name=TP53-001, gene_name=TP53, biotype=protein_coding, location=17:7571720-7590856)\n",
    "\n",
    "print(premature_stop_effect.gene.name)\n",
    "### 'TP53'"
   ]
  },
  {
   "cell_type": "code",
   "execution_count": null,
   "metadata": {},
   "outputs": [],
   "source": []
  },
  {
   "cell_type": "code",
   "execution_count": 6,
   "metadata": {
    "scrolled": true
   },
   "outputs": [
    {
     "name": "stdout",
     "output_type": "stream",
     "text": [
      "Using downloaded and verified file: /home/isshamie/.kipoi/models/DeepSEA/variantEffects/downloaded/model_files/weights/35956ab9c28960b5a3693f470fe980c1\n",
      "\u001b[32mINFO\u001b[0m \u001b[44m[kipoi_veff.snv_predict]\u001b[0m Using variant-centered sequence generation.\u001b[0m\n"
     ]
    },
    {
     "ename": "EmptyDataError",
     "evalue": "No columns to parse from file",
     "output_type": "error",
     "traceback": [
      "\u001b[0;31m---------------------------------------------------------------------------\u001b[0m",
      "\u001b[0;31mEmptyDataError\u001b[0m                            Traceback (most recent call last)",
      "\u001b[0;32m<ipython-input-6-84b247d38e9a>\u001b[0m in \u001b[0;36m<module>\u001b[0;34m\u001b[0m\n\u001b[1;32m      3\u001b[0m                   \u001b[0mdl_args\u001b[0m \u001b[0;34m=\u001b[0m \u001b[0mdataloader_arguments\u001b[0m\u001b[0;34m,\u001b[0m\u001b[0;34m\u001b[0m\u001b[0;34m\u001b[0m\u001b[0m\n\u001b[1;32m      4\u001b[0m                   \u001b[0minput_vcf\u001b[0m \u001b[0;34m=\u001b[0m \u001b[0mvcf_path\u001b[0m\u001b[0;34m,\u001b[0m\u001b[0;34m\u001b[0m\u001b[0;34m\u001b[0m\u001b[0m\n\u001b[0;32m----> 5\u001b[0;31m                   output_vcf = out_vcf_fpath)\n\u001b[0m",
      "\u001b[0;32m/data/isshamie/software/anaconda3/envs/mito_trace/lib/python3.6/site-packages/kipoi_veff/snv_predict.py\u001b[0m in \u001b[0;36mscore_variants\u001b[0;34m(model, dl_args, input_vcf, output_vcf, output_writers, scores, score_kwargs, num_workers, batch_size, source, seq_length, std_var_id, restriction_bed, return_predictions, model_outputs)\u001b[0m\n\u001b[1;32m    793\u001b[0m                         \u001b[0mevaluation_function_kwargs\u001b[0m\u001b[0;34m=\u001b[0m\u001b[0;34m{\u001b[0m\u001b[0;34m'diff_types'\u001b[0m\u001b[0;34m:\u001b[0m \u001b[0mdts\u001b[0m\u001b[0;34m,\u001b[0m \u001b[0;34m'output_filter'\u001b[0m\u001b[0;34m:\u001b[0m \u001b[0mmodel_outputs\u001b[0m\u001b[0;34m}\u001b[0m\u001b[0;34m,\u001b[0m\u001b[0;34m\u001b[0m\u001b[0;34m\u001b[0m\u001b[0m\n\u001b[1;32m    794\u001b[0m                         \u001b[0msync_pred_writer\u001b[0m\u001b[0;34m=\u001b[0m\u001b[0moutput_writers\u001b[0m\u001b[0;34m,\u001b[0m\u001b[0;34m\u001b[0m\u001b[0;34m\u001b[0m\u001b[0m\n\u001b[0;32m--> 795\u001b[0;31m                         return_predictions=return_predictions)\n\u001b[0m",
      "\u001b[0;32m/data/isshamie/software/anaconda3/envs/mito_trace/lib/python3.6/site-packages/kipoi_veff/snv_predict.py\u001b[0m in \u001b[0;36mpredict_snvs\u001b[0;34m(model, dataloader, vcf_fpath, batch_size, num_workers, dataloader_args, vcf_to_region, vcf_id_generator_fn, evaluation_function, evaluation_function_kwargs, sync_pred_writer, use_dataloader_example_data, return_predictions, generated_seq_writer)\u001b[0m\n\u001b[1;32m    585\u001b[0m     \u001b[0mres\u001b[0m \u001b[0;34m=\u001b[0m \u001b[0;34m[\u001b[0m\u001b[0;34m]\u001b[0m\u001b[0;34m\u001b[0m\u001b[0;34m\u001b[0m\u001b[0m\n\u001b[1;32m    586\u001b[0m \u001b[0;34m\u001b[0m\u001b[0m\n\u001b[0;32m--> 587\u001b[0;31m     it = dataloader(**dataloader_args).batch_iter(batch_size=batch_size,\n\u001b[0m\u001b[1;32m    588\u001b[0m                                                   num_workers=num_workers)\n\u001b[1;32m    589\u001b[0m \u001b[0;34m\u001b[0m\u001b[0m\n",
      "\u001b[0;32m/data/isshamie/software/anaconda3/envs/mito_trace/lib/python3.6/site-packages/kipoiseq/dataloaders/sequence.py\u001b[0m in \u001b[0;36m__init__\u001b[0;34m(self, intervals_file, fasta_file, num_chr_fasta, label_dtype, auto_resize_len, use_strand, alphabet_axis, dummy_axis, alphabet, ignore_targets, dtype)\u001b[0m\n\u001b[1;32m    344\u001b[0m                                           \u001b[0mlabel_dtype\u001b[0m\u001b[0;34m=\u001b[0m\u001b[0mlabel_dtype\u001b[0m\u001b[0;34m,\u001b[0m \u001b[0mauto_resize_len\u001b[0m\u001b[0;34m=\u001b[0m\u001b[0mauto_resize_len\u001b[0m\u001b[0;34m,\u001b[0m\u001b[0;34m\u001b[0m\u001b[0;34m\u001b[0m\u001b[0m\n\u001b[1;32m    345\u001b[0m                                           \u001b[0muse_strand\u001b[0m\u001b[0;34m=\u001b[0m\u001b[0muse_strand\u001b[0m\u001b[0;34m,\u001b[0m\u001b[0;34m\u001b[0m\u001b[0;34m\u001b[0m\u001b[0m\n\u001b[0;32m--> 346\u001b[0;31m                                           ignore_targets=ignore_targets)\n\u001b[0m\u001b[1;32m    347\u001b[0m \u001b[0;34m\u001b[0m\u001b[0m\n\u001b[1;32m    348\u001b[0m         self.input_transform = ReorderedOneHot(alphabet=alphabet,\n",
      "\u001b[0;32m/data/isshamie/software/anaconda3/envs/mito_trace/lib/python3.6/site-packages/kipoiseq/dataloaders/sequence.py\u001b[0m in \u001b[0;36m__init__\u001b[0;34m(self, intervals_file, fasta_file, num_chr_fasta, label_dtype, auto_resize_len, use_strand, force_upper, ignore_targets)\u001b[0m\n\u001b[1;32m    215\u001b[0m                               \u001b[0mbed_columns\u001b[0m\u001b[0;34m=\u001b[0m\u001b[0mbed_columns\u001b[0m\u001b[0;34m,\u001b[0m\u001b[0;34m\u001b[0m\u001b[0;34m\u001b[0m\u001b[0m\n\u001b[1;32m    216\u001b[0m                               \u001b[0mlabel_dtype\u001b[0m\u001b[0;34m=\u001b[0m\u001b[0mparse_dtype\u001b[0m\u001b[0;34m(\u001b[0m\u001b[0mlabel_dtype\u001b[0m\u001b[0;34m)\u001b[0m\u001b[0;34m,\u001b[0m\u001b[0;34m\u001b[0m\u001b[0;34m\u001b[0m\u001b[0m\n\u001b[0;32m--> 217\u001b[0;31m                               ignore_targets=ignore_targets)\n\u001b[0m\u001b[1;32m    218\u001b[0m         \u001b[0mself\u001b[0m\u001b[0;34m.\u001b[0m\u001b[0mfasta_extractors\u001b[0m \u001b[0;34m=\u001b[0m \u001b[0;32mNone\u001b[0m\u001b[0;34m\u001b[0m\u001b[0;34m\u001b[0m\u001b[0m\n\u001b[1;32m    219\u001b[0m \u001b[0;34m\u001b[0m\u001b[0m\n",
      "\u001b[0;32m/data/isshamie/software/anaconda3/envs/mito_trace/lib/python3.6/site-packages/kipoiseq/dataloaders/sequence.py\u001b[0m in \u001b[0;36m__init__\u001b[0;34m(self, tsv_file, label_dtype, bed_columns, num_chr, ambiguous_mask, incl_chromosomes, excl_chromosomes, ignore_targets)\u001b[0m\n\u001b[1;32m     80\u001b[0m                                 \u001b[0mheader\u001b[0m\u001b[0;34m=\u001b[0m\u001b[0;32mNone\u001b[0m\u001b[0;34m,\u001b[0m\u001b[0;34m\u001b[0m\u001b[0;34m\u001b[0m\u001b[0m\n\u001b[1;32m     81\u001b[0m                                 \u001b[0mnrows\u001b[0m\u001b[0;34m=\u001b[0m\u001b[0;36m1\u001b[0m\u001b[0;34m,\u001b[0m\u001b[0;34m\u001b[0m\u001b[0;34m\u001b[0m\u001b[0m\n\u001b[0;32m---> 82\u001b[0;31m                                 sep='\\t')\n\u001b[0m\u001b[1;32m     83\u001b[0m         \u001b[0mfound_columns\u001b[0m \u001b[0;34m=\u001b[0m \u001b[0mdf_peek\u001b[0m\u001b[0;34m.\u001b[0m\u001b[0mshape\u001b[0m\u001b[0;34m[\u001b[0m\u001b[0;36m1\u001b[0m\u001b[0;34m]\u001b[0m\u001b[0;34m\u001b[0m\u001b[0;34m\u001b[0m\u001b[0m\n\u001b[1;32m     84\u001b[0m         \u001b[0mself\u001b[0m\u001b[0;34m.\u001b[0m\u001b[0mn_tasks\u001b[0m \u001b[0;34m=\u001b[0m \u001b[0mfound_columns\u001b[0m \u001b[0;34m-\u001b[0m \u001b[0mself\u001b[0m\u001b[0;34m.\u001b[0m\u001b[0mbed_columns\u001b[0m\u001b[0;34m\u001b[0m\u001b[0;34m\u001b[0m\u001b[0m\n",
      "\u001b[0;32m/data/isshamie/software/anaconda3/envs/mito_trace/lib/python3.6/site-packages/pandas/io/parsers.py\u001b[0m in \u001b[0;36mread_table\u001b[0;34m(filepath_or_buffer, sep, delimiter, header, names, index_col, usecols, squeeze, prefix, mangle_dupe_cols, dtype, engine, converters, true_values, false_values, skipinitialspace, skiprows, skipfooter, nrows, na_values, keep_default_na, na_filter, verbose, skip_blank_lines, parse_dates, infer_datetime_format, keep_date_col, date_parser, dayfirst, cache_dates, iterator, chunksize, compression, thousands, decimal, lineterminator, quotechar, quoting, doublequote, escapechar, comment, encoding, dialect, error_bad_lines, warn_bad_lines, delim_whitespace, low_memory, memory_map, float_precision)\u001b[0m\n\u001b[1;32m    765\u001b[0m         \u001b[0;31m# default to avoid a ValueError\u001b[0m\u001b[0;34m\u001b[0m\u001b[0;34m\u001b[0m\u001b[0;34m\u001b[0m\u001b[0m\n\u001b[1;32m    766\u001b[0m         \u001b[0msep\u001b[0m \u001b[0;34m=\u001b[0m \u001b[0;34m\",\"\u001b[0m\u001b[0;34m\u001b[0m\u001b[0;34m\u001b[0m\u001b[0m\n\u001b[0;32m--> 767\u001b[0;31m     \u001b[0;32mreturn\u001b[0m \u001b[0mread_csv\u001b[0m\u001b[0;34m(\u001b[0m\u001b[0;34m**\u001b[0m\u001b[0mlocals\u001b[0m\u001b[0;34m(\u001b[0m\u001b[0;34m)\u001b[0m\u001b[0;34m)\u001b[0m\u001b[0;34m\u001b[0m\u001b[0;34m\u001b[0m\u001b[0m\n\u001b[0m\u001b[1;32m    768\u001b[0m \u001b[0;34m\u001b[0m\u001b[0m\n\u001b[1;32m    769\u001b[0m \u001b[0;34m\u001b[0m\u001b[0m\n",
      "\u001b[0;32m/data/isshamie/software/anaconda3/envs/mito_trace/lib/python3.6/site-packages/pandas/io/parsers.py\u001b[0m in \u001b[0;36mread_csv\u001b[0;34m(filepath_or_buffer, sep, delimiter, header, names, index_col, usecols, squeeze, prefix, mangle_dupe_cols, dtype, engine, converters, true_values, false_values, skipinitialspace, skiprows, skipfooter, nrows, na_values, keep_default_na, na_filter, verbose, skip_blank_lines, parse_dates, infer_datetime_format, keep_date_col, date_parser, dayfirst, cache_dates, iterator, chunksize, compression, thousands, decimal, lineterminator, quotechar, quoting, doublequote, escapechar, comment, encoding, dialect, error_bad_lines, warn_bad_lines, delim_whitespace, low_memory, memory_map, float_precision)\u001b[0m\n\u001b[1;32m    686\u001b[0m     )\n\u001b[1;32m    687\u001b[0m \u001b[0;34m\u001b[0m\u001b[0m\n\u001b[0;32m--> 688\u001b[0;31m     \u001b[0;32mreturn\u001b[0m \u001b[0m_read\u001b[0m\u001b[0;34m(\u001b[0m\u001b[0mfilepath_or_buffer\u001b[0m\u001b[0;34m,\u001b[0m \u001b[0mkwds\u001b[0m\u001b[0;34m)\u001b[0m\u001b[0;34m\u001b[0m\u001b[0;34m\u001b[0m\u001b[0m\n\u001b[0m\u001b[1;32m    689\u001b[0m \u001b[0;34m\u001b[0m\u001b[0m\n\u001b[1;32m    690\u001b[0m \u001b[0;34m\u001b[0m\u001b[0m\n",
      "\u001b[0;32m/data/isshamie/software/anaconda3/envs/mito_trace/lib/python3.6/site-packages/pandas/io/parsers.py\u001b[0m in \u001b[0;36m_read\u001b[0;34m(filepath_or_buffer, kwds)\u001b[0m\n\u001b[1;32m    452\u001b[0m \u001b[0;34m\u001b[0m\u001b[0m\n\u001b[1;32m    453\u001b[0m     \u001b[0;31m# Create the parser.\u001b[0m\u001b[0;34m\u001b[0m\u001b[0;34m\u001b[0m\u001b[0;34m\u001b[0m\u001b[0m\n\u001b[0;32m--> 454\u001b[0;31m     \u001b[0mparser\u001b[0m \u001b[0;34m=\u001b[0m \u001b[0mTextFileReader\u001b[0m\u001b[0;34m(\u001b[0m\u001b[0mfp_or_buf\u001b[0m\u001b[0;34m,\u001b[0m \u001b[0;34m**\u001b[0m\u001b[0mkwds\u001b[0m\u001b[0;34m)\u001b[0m\u001b[0;34m\u001b[0m\u001b[0;34m\u001b[0m\u001b[0m\n\u001b[0m\u001b[1;32m    455\u001b[0m \u001b[0;34m\u001b[0m\u001b[0m\n\u001b[1;32m    456\u001b[0m     \u001b[0;32mif\u001b[0m \u001b[0mchunksize\u001b[0m \u001b[0;32mor\u001b[0m \u001b[0miterator\u001b[0m\u001b[0;34m:\u001b[0m\u001b[0;34m\u001b[0m\u001b[0;34m\u001b[0m\u001b[0m\n",
      "\u001b[0;32m/data/isshamie/software/anaconda3/envs/mito_trace/lib/python3.6/site-packages/pandas/io/parsers.py\u001b[0m in \u001b[0;36m__init__\u001b[0;34m(self, f, engine, **kwds)\u001b[0m\n\u001b[1;32m    946\u001b[0m             \u001b[0mself\u001b[0m\u001b[0;34m.\u001b[0m\u001b[0moptions\u001b[0m\u001b[0;34m[\u001b[0m\u001b[0;34m\"has_index_names\"\u001b[0m\u001b[0;34m]\u001b[0m \u001b[0;34m=\u001b[0m \u001b[0mkwds\u001b[0m\u001b[0;34m[\u001b[0m\u001b[0;34m\"has_index_names\"\u001b[0m\u001b[0;34m]\u001b[0m\u001b[0;34m\u001b[0m\u001b[0;34m\u001b[0m\u001b[0m\n\u001b[1;32m    947\u001b[0m \u001b[0;34m\u001b[0m\u001b[0m\n\u001b[0;32m--> 948\u001b[0;31m         \u001b[0mself\u001b[0m\u001b[0;34m.\u001b[0m\u001b[0m_make_engine\u001b[0m\u001b[0;34m(\u001b[0m\u001b[0mself\u001b[0m\u001b[0;34m.\u001b[0m\u001b[0mengine\u001b[0m\u001b[0;34m)\u001b[0m\u001b[0;34m\u001b[0m\u001b[0;34m\u001b[0m\u001b[0m\n\u001b[0m\u001b[1;32m    949\u001b[0m \u001b[0;34m\u001b[0m\u001b[0m\n\u001b[1;32m    950\u001b[0m     \u001b[0;32mdef\u001b[0m \u001b[0mclose\u001b[0m\u001b[0;34m(\u001b[0m\u001b[0mself\u001b[0m\u001b[0;34m)\u001b[0m\u001b[0;34m:\u001b[0m\u001b[0;34m\u001b[0m\u001b[0;34m\u001b[0m\u001b[0m\n",
      "\u001b[0;32m/data/isshamie/software/anaconda3/envs/mito_trace/lib/python3.6/site-packages/pandas/io/parsers.py\u001b[0m in \u001b[0;36m_make_engine\u001b[0;34m(self, engine)\u001b[0m\n\u001b[1;32m   1178\u001b[0m     \u001b[0;32mdef\u001b[0m \u001b[0m_make_engine\u001b[0m\u001b[0;34m(\u001b[0m\u001b[0mself\u001b[0m\u001b[0;34m,\u001b[0m \u001b[0mengine\u001b[0m\u001b[0;34m=\u001b[0m\u001b[0;34m\"c\"\u001b[0m\u001b[0;34m)\u001b[0m\u001b[0;34m:\u001b[0m\u001b[0;34m\u001b[0m\u001b[0;34m\u001b[0m\u001b[0m\n\u001b[1;32m   1179\u001b[0m         \u001b[0;32mif\u001b[0m \u001b[0mengine\u001b[0m \u001b[0;34m==\u001b[0m \u001b[0;34m\"c\"\u001b[0m\u001b[0;34m:\u001b[0m\u001b[0;34m\u001b[0m\u001b[0;34m\u001b[0m\u001b[0m\n\u001b[0;32m-> 1180\u001b[0;31m             \u001b[0mself\u001b[0m\u001b[0;34m.\u001b[0m\u001b[0m_engine\u001b[0m \u001b[0;34m=\u001b[0m \u001b[0mCParserWrapper\u001b[0m\u001b[0;34m(\u001b[0m\u001b[0mself\u001b[0m\u001b[0;34m.\u001b[0m\u001b[0mf\u001b[0m\u001b[0;34m,\u001b[0m \u001b[0;34m**\u001b[0m\u001b[0mself\u001b[0m\u001b[0;34m.\u001b[0m\u001b[0moptions\u001b[0m\u001b[0;34m)\u001b[0m\u001b[0;34m\u001b[0m\u001b[0;34m\u001b[0m\u001b[0m\n\u001b[0m\u001b[1;32m   1181\u001b[0m         \u001b[0;32melse\u001b[0m\u001b[0;34m:\u001b[0m\u001b[0;34m\u001b[0m\u001b[0;34m\u001b[0m\u001b[0m\n\u001b[1;32m   1182\u001b[0m             \u001b[0;32mif\u001b[0m \u001b[0mengine\u001b[0m \u001b[0;34m==\u001b[0m \u001b[0;34m\"python\"\u001b[0m\u001b[0;34m:\u001b[0m\u001b[0;34m\u001b[0m\u001b[0;34m\u001b[0m\u001b[0m\n",
      "\u001b[0;32m/data/isshamie/software/anaconda3/envs/mito_trace/lib/python3.6/site-packages/pandas/io/parsers.py\u001b[0m in \u001b[0;36m__init__\u001b[0;34m(self, src, **kwds)\u001b[0m\n\u001b[1;32m   2008\u001b[0m         \u001b[0mkwds\u001b[0m\u001b[0;34m[\u001b[0m\u001b[0;34m\"usecols\"\u001b[0m\u001b[0;34m]\u001b[0m \u001b[0;34m=\u001b[0m \u001b[0mself\u001b[0m\u001b[0;34m.\u001b[0m\u001b[0musecols\u001b[0m\u001b[0;34m\u001b[0m\u001b[0;34m\u001b[0m\u001b[0m\n\u001b[1;32m   2009\u001b[0m \u001b[0;34m\u001b[0m\u001b[0m\n\u001b[0;32m-> 2010\u001b[0;31m         \u001b[0mself\u001b[0m\u001b[0;34m.\u001b[0m\u001b[0m_reader\u001b[0m \u001b[0;34m=\u001b[0m \u001b[0mparsers\u001b[0m\u001b[0;34m.\u001b[0m\u001b[0mTextReader\u001b[0m\u001b[0;34m(\u001b[0m\u001b[0msrc\u001b[0m\u001b[0;34m,\u001b[0m \u001b[0;34m**\u001b[0m\u001b[0mkwds\u001b[0m\u001b[0;34m)\u001b[0m\u001b[0;34m\u001b[0m\u001b[0;34m\u001b[0m\u001b[0m\n\u001b[0m\u001b[1;32m   2011\u001b[0m         \u001b[0mself\u001b[0m\u001b[0;34m.\u001b[0m\u001b[0munnamed_cols\u001b[0m \u001b[0;34m=\u001b[0m \u001b[0mself\u001b[0m\u001b[0;34m.\u001b[0m\u001b[0m_reader\u001b[0m\u001b[0;34m.\u001b[0m\u001b[0munnamed_cols\u001b[0m\u001b[0;34m\u001b[0m\u001b[0;34m\u001b[0m\u001b[0m\n\u001b[1;32m   2012\u001b[0m \u001b[0;34m\u001b[0m\u001b[0m\n",
      "\u001b[0;32mpandas/_libs/parsers.pyx\u001b[0m in \u001b[0;36mpandas._libs.parsers.TextReader.__cinit__\u001b[0;34m()\u001b[0m\n",
      "\u001b[0;31mEmptyDataError\u001b[0m: No columns to parse from file"
     ]
    }
   ],
   "source": [
    "import kipoi_veff.snv_predict as sp\n",
    "sp.score_variants(model = model_name,\n",
    "                  dl_args = dataloader_arguments,\n",
    "                  input_vcf = vcf_path,\n",
    "                  output_vcf = out_vcf_fpath)"
   ]
  },
  {
   "cell_type": "code",
   "execution_count": null,
   "metadata": {},
   "outputs": [],
   "source": [
    "vcf_path"
   ]
  },
  {
   "cell_type": "code",
   "execution_count": null,
   "metadata": {},
   "outputs": [],
   "source": []
  }
 ],
 "metadata": {
  "celltoolbar": "Tags",
  "kernelspec": {
   "display_name": "Python 3 (ipykernel)",
   "language": "python",
   "name": "python3"
  },
  "language_info": {
   "codemirror_mode": {
    "name": "ipython",
    "version": 3
   },
   "file_extension": ".py",
   "mimetype": "text/x-python",
   "name": "python",
   "nbconvert_exporter": "python",
   "pygments_lexer": "ipython3",
   "version": "3.7.12"
  },
  "papermill": {
   "default_parameters": {},
   "duration": 5560.364131,
   "end_time": "2021-01-27T10:03:31.625455",
   "environment_variables": {},
   "exception": null,
   "input_path": "/data2/mito_lineage/src/vireo/vireoSNP_clones.ipynb",
   "output_path": "results/jan21_2021/chrM/P2_cellSNP_minC200_minAF0.01/lineage_chrM.ipynb",
   "parameters": {
    "AD_F": "data/jan21_2021/chrM/P2_cellSNP_minC200_minAF0.01/cellSNP.tag.AD.mtx",
    "DP_F": "data/jan21_2021/chrM/P2_cellSNP_minC200_minAF0.01/cellSNP.tag.DP.mtx"
   },
   "start_time": "2021-01-27T08:30:51.261324",
   "version": "2.2.0"
  }
 },
 "nbformat": 4,
 "nbformat_minor": 4
}
