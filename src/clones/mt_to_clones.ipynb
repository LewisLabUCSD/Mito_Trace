{
 "cells": [
  {
   "cell_type": "code",
   "execution_count": 1,
   "id": "8f3eabb2",
   "metadata": {},
   "outputs": [],
   "source": [
    "import pandas as pd\n",
    "from os.path import join, isdir\n",
    "\n",
    "import matplotlib.pyplot as plt\n",
    "import numpy as np\n",
    "import seaborn as sns\n",
    "\n",
    "from icecream import ic\n",
    "from src.utils import variant_utils as vu\n",
    "from glob import glob"
   ]
  },
  {
   "cell_type": "code",
   "execution_count": 2,
   "id": "e27fb5e4",
   "metadata": {
    "tags": [
     "parameters"
    ]
   },
   "outputs": [],
   "source": [
    "don_dir = \"/data/Mito_Trace/output/pipeline/DUPI_april08_2021/v2_MTblacklist_mtasnucl_Bonly/data/merged/MT/cellr_True/numread_200/filters/minC10_minR50_topN0_hetT0.001_hetC10_hetCount5_bq20/mgatk/vireoIn/multiplex/clones_init/\"\n",
    "outdir = \"/data/Mito_Trace/output/pipeline/DUPI_april08_2021/v2_MTblacklist_mtasnucl_Bonly/data/merged/MT/cellr_True/numread_200/filters/minC10_minR50_topN0_hetT0.001_hetC10_hetCount5_bq20/mgatk/vireoIn/multiplex/mt_clones/thr__0.1_rt__25/\"\n",
    "samples = \"preB,postB\"\n",
    "mt_genome=\"/data/Mito_Trace/data/external/GRCh38_MT_blacklist/chrM.fasta\"\n",
    "t=0.1\n",
    "rt=25\n",
    "n_donors = 4\n"
   ]
  },
  {
   "cell_type": "code",
   "execution_count": 3,
   "id": "cda898e7",
   "metadata": {},
   "outputs": [
    {
     "data": {
      "text/plain": [
       "{3: '/data/Mito_Trace/output/pipeline/DUPI_april08_2021/v2_MTblacklist_mtasnucl_Bonly/data/merged/MT/cellr_True/numread_200/filters/minC10_minR50_topN0_hetT0.001_hetC10_hetCount5_bq20/mgatk/vireoIn/multiplex/clones_init/donor3',\n",
       " 0: '/data/Mito_Trace/output/pipeline/DUPI_april08_2021/v2_MTblacklist_mtasnucl_Bonly/data/merged/MT/cellr_True/numread_200/filters/minC10_minR50_topN0_hetT0.001_hetC10_hetCount5_bq20/mgatk/vireoIn/multiplex/clones_init/donor0',\n",
       " 1: '/data/Mito_Trace/output/pipeline/DUPI_april08_2021/v2_MTblacklist_mtasnucl_Bonly/data/merged/MT/cellr_True/numread_200/filters/minC10_minR50_topN0_hetT0.001_hetC10_hetCount5_bq20/mgatk/vireoIn/multiplex/clones_init/donor1',\n",
       " 2: '/data/Mito_Trace/output/pipeline/DUPI_april08_2021/v2_MTblacklist_mtasnucl_Bonly/data/merged/MT/cellr_True/numread_200/filters/minC10_minR50_topN0_hetT0.001_hetC10_hetCount5_bq20/mgatk/vireoIn/multiplex/clones_init/donor2'}"
      ]
     },
     "execution_count": 3,
     "metadata": {},
     "output_type": "execute_result"
    }
   ],
   "source": [
    "don_dirs = [d for d in glob(don_dir + \"/donor*\") if isdir(d)]\n",
    "don_dirs = {int(x.split(\"donor\")[-1]):x for x in don_dirs}\n",
    "don_dirs = {x:don_dirs[x] for x in don_dirs if x in range(n_donors)}\n",
    "don_dirs"
   ]
  },
  {
   "cell_type": "code",
   "execution_count": 4,
   "id": "734b446b",
   "metadata": {},
   "outputs": [],
   "source": [
    "# thresholds = [0.01, 0.1, 0.25, 0.5, 0.75, 0.9]\n",
    "# read_thresh = [2, 10, 25, 50, 100]\n",
    "# thresholds = [0.1, 0.25]#\n",
    "# read_thresh = [25, 50]\n",
    "\n",
    "thresholds = [t]\n",
    "read_thresh=[rt]\n",
    "cells_thresh=10\n",
    "ref_cells_thresh=500"
   ]
  },
  {
   "cell_type": "code",
   "execution_count": 5,
   "id": "51bd08d1",
   "metadata": {},
   "outputs": [],
   "source": [
    "samples = samples.split(\",\")"
   ]
  },
  {
   "cell_type": "code",
   "execution_count": 6,
   "id": "f92e1ed1",
   "metadata": {},
   "outputs": [],
   "source": [
    "def is_af_in_cell(cell_var, t, rt=None, is_af_above=True, check_cov=False):\n",
    "    \"\"\"\n",
    "    Checks which cells pass the thresholds using the af and cov columns\n",
    "    \"\"\"\n",
    "    if check_cov:\n",
    "        return cell_var[cell_var[\"cov\"]>rt].index\n",
    "    if is_af_above:\n",
    "        if rt is None:\n",
    "            return cell_var[cell_var[\"af\"] > t].index\n",
    "        else:\n",
    "            return cell_var[(cell_var[\"af\"] > t) & (cell_var[\"cov\"] > rt)].index\n",
    "    else:\n",
    "        if rt is None:\n",
    "            return cell_var[cell_var[\"af\"] < t].index\n",
    "        else:\n",
    "            return cell_var[(cell_var[\"af\"] < t) & (cell_var[\"cov\"] > rt)].index        \n",
    "    return"
   ]
  },
  {
   "cell_type": "code",
   "execution_count": 7,
   "id": "72706400",
   "metadata": {},
   "outputs": [],
   "source": [
    "def calc_variant_descriptives(cells_df, name, prefix=\"\"):#, t, rt, \n",
    "    vars_ser = {}\n",
    "    vars_ser[f\"{prefix}{name}_median\"] = cells_df[\"af\"].median()\n",
    "    vars_ser[f\"{prefix}{name}_mean\"] = cells_df[\"af\"].mean(axis=0)\n",
    "    vars_ser[f\"{prefix}{name}_coverage_median\"] = cells_df[\"cov\"].median()\n",
    "    vars_ser[f\"{prefix}{name}_coverage_mean\"] = cells_df[\"cov\"].mean()\n",
    "    vars_ser[f\"{prefix}{name}_nCells\"] = len(cells_df)\n",
    "    return pd.Series(vars_ser)\n",
    "\n",
    "\n",
    "def set_keys(cols, curr):\n",
    "    keys = [\"_median\", \"_mean\", \"_nCells\", \"_coverage_median\", \"_coverage_mean\"]\n",
    "    for k in keys:\n",
    "        cols.append(f\"{curr}{k}\")\n",
    "    return cols\n",
    "\n",
    "\n",
    "def add_columns(columns, thresholds, read_thresh, sample=None):\n",
    "    if sample is None:\n",
    "        prefix = \"\"\n",
    "    else:\n",
    "        prefix=f\"cond{sample}_\"\n",
    "\n",
    "    for t in thresholds:\n",
    "        #columns.append(t)\n",
    "        columns = set_keys(columns, f\"{prefix}{t}\" )\n",
    "        for rt in read_thresh:\n",
    "            columns = set_keys(columns, f\"{prefix}{t}_{rt}\" )\n",
    "            columns = set_keys(columns, f\"{prefix}{t}_{rt}_refPassCov\" )\n",
    "    return columns\n",
    "\n",
    "#########################\n",
    "## Add in sample information\n",
    "#########################\n",
    "def get_variant_info(curr_af, curr_cov, columns, variants, prefix=\"\" ):\n",
    "    variants_cell_index_d = {}\n",
    "    variants_df_init = {}\n",
    "\n",
    "    for v in variants:\n",
    "        #print('variant', v)\n",
    "        curr_v_d = {}\n",
    "        variants_d = {}\n",
    "        \n",
    "        \n",
    "        # create cell-by-(af,cov) df to pass into summary functions\n",
    "        curr_v_df = pd.concat((curr_af.loc[:,[v]].rename({v:\"af\"}, axis=1),\n",
    "                               curr_cov.loc[:,[v]].rename({v:\"cov\"}, axis=1)), axis=1)\n",
    "        for t in thresholds:\n",
    "            if prefix == \"\":\n",
    "                t_key = t\n",
    "            else:\n",
    "                t_key = (t, prefix)\n",
    "            curr_v_d[t_key] = is_af_in_cell(curr_v_df, t, rt=None, is_af_above=True, check_cov=False)\n",
    "\n",
    "            variants_d[t_key] = calc_variant_descriptives(curr_v_df.loc[curr_v_d[t_key]], name=f\"{prefix}{t}\")\n",
    "            for rt in read_thresh:\n",
    "                if prefix == \"\":\n",
    "                    trt_key = (t,rt)\n",
    "                    reftrt_key = (t, rt, \"ref_pass_cov\")\n",
    "                else:\n",
    "                    trt_key = (t,rt, prefix) \n",
    "                    reftrt_key = (t, rt, prefix, \"ref_pass_cov\")\n",
    "                \n",
    "                curr_v_d[trt_key] = is_af_in_cell(curr_v_df, t, rt=rt, is_af_above=True, check_cov=False)\n",
    "                variants_d[trt_key] = calc_variant_descriptives(curr_v_df.loc[curr_v_d[trt_key]], \n",
    "                                                                     name=f\"{prefix}{t}_{rt}\")\n",
    "                #ic(trt_key)\n",
    "                #ic(variants_d[trt_key].head())\n",
    "                curr_v_d[reftrt_key] = is_af_in_cell(curr_v_df, t, rt=rt, \n",
    "                                                                 is_af_above=False, check_cov=False)\n",
    "                variants_d[reftrt_key] = calc_variant_descriptives(curr_v_df.loc[curr_v_d[reftrt_key]], \n",
    "                                                                               name=f\"{prefix}{t}_{rt}_refPassCov\"\n",
    "                                                                               )\n",
    "                    \n",
    "        for rt in read_thresh:\n",
    "            if prefix == \"\":\n",
    "                rt_key = (rt, \"pass_cov\")\n",
    "            else:\n",
    "                rt_key = (rt,  \"pass_cov\", prefix)\n",
    "            curr_v_d[rt_key] = is_af_in_cell(curr_v_df, t=None, rt=rt, is_af_above=False, check_cov=True)\n",
    "            variants_d[rt_key] = calc_variant_descriptives(curr_v_df.loc[curr_v_d[rt_key]], \n",
    "                                                                                 name=f\"{prefix}{rt}_passCov\")\n",
    "        variants_cell_index_d[v] = curr_v_d \n",
    "        variants_df_init[v] = variants_d    \n",
    "     \n",
    "\n",
    "\n",
    "    # Combine all the variants from the dictionary\n",
    "    variants_df = pd.DataFrame(index=variants, columns = columns)\n",
    "    for v in variants_df_init:\n",
    "        variants_df.loc[v] = pd.concat([val for val in variants_df_init[v].values()])\n",
    "\n",
    "    variants_df[f\"{prefix}median\"] = curr_af.median()\n",
    "    variants_df[f\"{prefix}mean\"] = curr_af.mean()\n",
    "    variants_df[f\"{prefix}median_cov\"] = curr_cov.median()\n",
    "    variants_df[f\"{prefix}mean_cov\"] = curr_cov.mean()\n",
    "    return variants_df, variants_cell_index_d, variants_df_init\n",
    "\n",
    "def create_cluster_size(variants_df, cells_thresh, ref_cells_thresh):\n",
    "    \"\"\"Get clone sizes using clones that passed the filter\n",
    "    \n",
    "    \"\"\"\n",
    "    inds = [f\"{t}_{rt}_nCells\" for t in thresholds for rt in read_thresh]\n",
    "    num_vars_df = pd.DataFrame(index=inds, columns=[\"nClones\", \"nClones_and_nRef\"])#, \"fold_nClones_nRef\"])\n",
    "    clone_sizes_d = {}\n",
    "    for t in thresholds:\n",
    "        for rt in read_thresh:\n",
    "            num_vars_df.loc[f\"{t}_{rt}_nCells\",\"nClones\"] = (variants_df[f\"{t}_{rt}_nCells\"] > cells_thresh).sum()\n",
    "                                                      \n",
    "            num_vars_df.loc[f\"{t}_{rt}_nCells\",\"nClones_and_nRef\"] = ((variants_df[f\"{t}_{rt}_nCells\"] > cells_thresh) & \n",
    "                                                                  (variants_df[f\"{t}_{rt}_refPassCov_nCells\"] > ref_cells_thresh)).sum() \n",
    "            \n",
    "            passed_vars = variants_df.loc[((variants_df[f\"{t}_{rt}_nCells\"] > cells_thresh) & \n",
    "                                          (variants_df[f\"{t}_{rt}_refPassCov_nCells\"] > ref_cells_thresh))].index \n",
    "            curr_clone_sizes_d = pd.DataFrame(index=passed_vars, columns=[\"clone_sizes\", \"ref_sizes\", \"param\"])\n",
    "            curr_clone_sizes_d[\"param\"] = f\"{t}_{rt}\"\n",
    "            curr_clone_sizes_d[\"clone_sizes\"] =  variants_df.loc[passed_vars, f\"{t}_{rt}_nCells\"]\n",
    "            curr_clone_sizes_d[\"ref_sizes\"] =  variants_df.loc[passed_vars, f\"{t}_{rt}_refPassCov_nCells\"]\n",
    "            curr_clone_sizes_d[\"clone_plus_ref_sizes\"] = curr_clone_sizes_d[\"clone_sizes\"] + curr_clone_sizes_d[\"ref_sizes\"]\n",
    "            curr_clone_sizes_d[\"relative_size\"] = curr_clone_sizes_d[\"clone_sizes\"]/curr_clone_sizes_d[\"ref_sizes\"]\n",
    "            curr_clone_sizes_d[\"variant\"] = passed_vars\n",
    "            clone_sizes_d[(t, rt)] = curr_clone_sizes_d \n",
    "    return clone_sizes_d, num_vars_df"
   ]
  },
  {
   "cell_type": "markdown",
   "id": "ad7e2a12",
   "metadata": {},
   "source": [
    "## For each parameter, rank clones by i) highest nCells and ii) highest nRef\n",
    "## Create df where index is cell and columns are 'variant,' 'isClone', 'af' \n",
    "### To do this, use variants dict of passed indices\n",
    "## For each variant plot the distribution and hue=isClone\n"
   ]
  },
  {
   "cell_type": "code",
   "execution_count": 8,
   "id": "6da329a8",
   "metadata": {},
   "outputs": [],
   "source": [
    "def create_distributions(t, rt, variants_cell_index_d, af, clone_thresh, ref_cells_thresh, prefix=\"\"):\n",
    "    ic(t,rt)\n",
    "    clone_var_distributions = pd.DataFrame(columns=[\"variant\", \"isClone\", \"af\"])\n",
    "    for v in variants_cell_index_d:\n",
    "        curr_v = variants_cell_index_d[v]\n",
    "        curr_cells = curr_v[(t,rt)]\n",
    "        curr_ref_cells = curr_v[(t,rt, \"ref_pass_cov\")]\n",
    "            \n",
    "        if len(curr_cells) < clone_thresh or len(curr_ref_cells) < ref_cells_thresh:\n",
    "            #ic(f\"variant {v} not pass threshold\")\n",
    "            continue \n",
    "        curr_clone = pd.DataFrame(index=curr_cells, columns=[\"variant\", \"isClone\", \"af\", \"param\"])\n",
    "        curr_clone[\"isClone\"] = True\n",
    "        curr_clone[\"variant\"] = v\n",
    "        curr_clone[\"param\"] = f\"{t}_{rt}\"\n",
    "        curr_clone[\"af\"] = af.loc[curr_cells, v]\n",
    "        curr_clone[\"cell\"] = af.loc[curr_cells].index\n",
    "        clone_var_distributions = pd.concat((clone_var_distributions, \n",
    "                                             curr_clone),axis=0, ignore_index=True)\n",
    "        curr_ref = pd.DataFrame(index=curr_ref_cells, columns=[\"variant\", \"isClone\", \"af\"])\n",
    "        curr_ref[\"isClone\"] = False\n",
    "        curr_ref[\"variant\"] = v\n",
    "        curr_ref[\"param\"] = f\"{t}_{rt}\"\n",
    "        curr_ref[\"af\"] = af.loc[curr_ref_cells, v]\n",
    "        curr_ref[\"cell\"] = af.loc[curr_ref_cells].index\n",
    "        clone_var_distributions = pd.concat((clone_var_distributions, \n",
    "                                             curr_ref),axis=0, ignore_index=True)          \n",
    "    return clone_var_distributions\n",
    "\n",
    "\n",
    "def create_distributions_samples(t, rt, variants_cell_index_d, af, clone_thresh, ref_cells_thresh, samples):\n",
    "    ic(t,rt)\n",
    "    clone_var_distributions = pd.DataFrame(columns=[\"variant\", \"sample\", \"af\", \"param\"])\n",
    "    for v in variants_cell_index_d:\n",
    "        curr_v = variants_cell_index_d[v]\n",
    "        curr_cells = curr_v[(t,rt, f\"cond{samples[0]}_\")]\n",
    "        curr_ref_cells = curr_v[(t,rt, f\"cond{samples[1]}_\")]\n",
    "            \n",
    "        if len(curr_cells) < clone_thresh or len(curr_ref_cells) < ref_cells_thresh:\n",
    "            #ic(f\"variant {v} not pass threshold\")\n",
    "            continue \n",
    "        curr_clone = pd.DataFrame(index=curr_cells, columns=[\"variant\", \"sample\", \"af\", \"param\"])\n",
    "        curr_clone[\"sample\"] = samples[0]\n",
    "        curr_clone[\"variant\"] = v\n",
    "        curr_clone[\"param\"] = f\"{t}_{rt}\"\n",
    "        curr_clone[\"af\"] = af.loc[curr_cells, v]\n",
    "        curr_clone[\"cell\"] = af.loc[curr_cells].index\n",
    "        clone_var_distributions = pd.concat((clone_var_distributions, \n",
    "                                             curr_clone),axis=0, ignore_index=True)\n",
    "        curr_ref = pd.DataFrame(index=curr_ref_cells, columns=[\"variant\", \"isClone\", \"af\"])\n",
    "        curr_ref[\"sample\"] = samples[1]\n",
    "        curr_ref[\"variant\"] = v\n",
    "        curr_ref[\"param\"] = f\"{t}_{rt}\"\n",
    "        curr_ref[\"af\"] = af.loc[curr_ref_cells, v]\n",
    "        curr_ref[\"cell\"] = af.loc[curr_ref_cells].index\n",
    "        clone_var_distributions = pd.concat((clone_var_distributions, \n",
    "                                             curr_ref),axis=0, ignore_index=True)          \n",
    "    return clone_var_distributions\n",
    "\n",
    "\n",
    "\n",
    "## Number of clones across different AF+coverage thresholds\n",
    "#(2 other parameters, min_cells=10 and ref_cells_thresh=500 are used here, which are the thresholds for the cluster sizes and the reference variant being covered by a sufficient number of cells)\n",
    "\n",
    "def plot_violin(clone_var_dist, col_order, x=\"isClone\"):\n",
    "    g = sns.FacetGrid(data=clone_var_dist, col=\"variant\", col_wrap=8, \n",
    "                      sharex=False, \n",
    "                      sharey=False,col_order=col_order)\n",
    "    g.map_dataframe(sns.violinplot, x=x, y=\"af\")    \n",
    "    return g\n",
    "\n",
    "def plot_hist(clone_var_dist, col_order, hue_col=\"isClone\"):\n",
    "    g = sns.FacetGrid(data=clone_var_distributions, col=\"variant\", col_wrap=8, hue=hue_col,\n",
    "                      sharex=False, \n",
    "                      sharey=False, col_order=col_order)\n",
    "    g.map_dataframe(sns.histplot, x=\"af\", stat=\"probability\")\n",
    "    return\n",
    "\n",
    "def get_var_order(clone_var_dist, variants_df, t, rt):\n",
    "    curr_vars = set(clone_var_dist[\"variant\"])\n",
    "    var_order = variants_df.loc[curr_vars].sort_values([f\"{t}_{rt}_nCells\", f\"{t}_{rt}_refPassCov_nCells\"], ascending=False).index\n",
    "    return var_order\n",
    "\n",
    "# def get_var_order(clone_var_dist, variants_df, t, rt):\n",
    "#     curr_vars = set(clone_var_dist[\"variant\"])\n",
    "#     var_order = variants_df.loc[curr_vars].sort_values([f\"{t}_{rt}_nCells\", f\"{t}_{rt}_refPassCov_nCells\"], ascending=False).index\n",
    "#     return var_order"
   ]
  },
  {
   "cell_type": "code",
   "execution_count": 9,
   "id": "24274c48",
   "metadata": {},
   "outputs": [],
   "source": [
    "def run_don(don_dir):\n",
    "    vcf = pd.read_csv(join(don_dir, \"cellSNP.base.vcf\"), sep=\"\\t\")\n",
    "    variants_meta = vcf[[\"#CHROM\", \"POS\", \"REF\", \"ALT\"]]\n",
    "    variants_meta.index = variants_meta.apply(lambda x: f\"{x['POS']}{x['REF'][0]}>{x['ALT']}\", axis=1)\n",
    "    variants_meta = vu.type_of_variants(variants_meta.index)\n",
    "    variants_meta[\"ID\"] = variants_meta.index\n",
    "    variants_meta.index = variants_meta.apply(lambda x: f\"{x['position']}{x['alt']}\", axis=1)\n",
    "    af = pd.read_csv(join(don_dir, \"af.tsv\"), sep=\"\\t\", index_col=0)\n",
    "    cov = pd.read_csv(join(don_dir, \"dp.tsv\"), sep=\"\\t\", index_col=0)                   \n",
    "    cells_meta = pd.read_csv(join(don_dir,\"cells_meta.tsv\"), sep=\"\\t\").set_index(\"ID\")\n",
    "    ic(cells_meta.shape)\n",
    "    cells_meta = cells_meta.loc[af.index]\n",
    "    ic(\"After filtering on af indices\", cells_meta.shape)\n",
    "    \n",
    "    variants = set(af.columns)\n",
    "    variants_cell_index_d = {}\n",
    "    #variants_df_init = {}\n",
    "    columns = add_columns([], thresholds, read_thresh)\n",
    "    variants_df, variants_cell_index_d, _ = get_variant_info(af, cov, columns=columns, prefix=\"\", variants=variants)\n",
    "\n",
    "    for sample, curr_cells_meta in cells_meta.groupby(\"condition\"):\n",
    "        print(sample)\n",
    "        print(curr_cells_meta.shape)\n",
    "\n",
    "        curr_af = af.loc[curr_cells_meta.index]\n",
    "        curr_cov = cov.loc[curr_cells_meta.index]\n",
    "        curr_cols = add_columns([], thresholds, read_thresh, sample=sample)\n",
    "        columns += curr_cols\n",
    "        curr_variants_df, curr_index_d, curr_variants_df_init = get_variant_info(curr_af, curr_cov, columns=curr_cols,\n",
    "                                                                   prefix=f\"cond{sample}_\", variants=variants)\n",
    "        variants_df = pd.concat((variants_df, curr_variants_df), axis=1)\n",
    "\n",
    "        for v in curr_index_d.keys(): \n",
    "            for k in curr_index_d[v].keys():\n",
    "                assert(k not in variants_cell_index_d[v].keys())\n",
    "                variants_cell_index_d[v][k] = curr_index_d[v][k]\n",
    "    variants_df = pd.merge(variants_meta, variants_df, left_index=True, right_index=True, how=\"right\")\n",
    "\n",
    "    ## Remove high variants\n",
    "    variants_df = variants_df[~(variants_df[\"median\"] > 0.6)]\n",
    "\n",
    "    clone_sizes_d, num_vars_df = create_cluster_size(variants_df, cells_thresh=10, ref_cells_thresh=500)\n",
    "    clone_sizes_d = pd.concat(clone_sizes_d, ignore_index=True)\n",
    "\n",
    "    num_vars_mat_df = pd.DataFrame(index=thresholds,columns=read_thresh, dtype=int)\n",
    "    for t in thresholds:\n",
    "        for rt in read_thresh:\n",
    "            num_vars_mat_df.loc[t,rt] = num_vars_df.loc[f\"{t}_{rt}_nCells\",\"nClones\"]\n",
    "    \n",
    "    # Create binary clone output for each param\n",
    "    clone_var_distributions = create_distributions(t,rt, variants_cell_index_d, af, cells_thresh, ref_cells_thresh)\n",
    "    if not (clone_var_distributions.shape[0])==0: \n",
    "        clone_out_df = clone_var_distributions.pivot(index=\"cell\", columns=\"variant\", values=\"af\").fillna(0)\n",
    "    else:\n",
    "        print(f\"{don_dir} Not here!\")\n",
    "        clone_out_df = None\n",
    "    return clone_out_df,  variants_cell_index_d, clone_var_distributions, clone_sizes_d, variants_df"
   ]
  },
  {
   "cell_type": "code",
   "execution_count": 10,
   "id": "dc85d6c9",
   "metadata": {
    "scrolled": true
   },
   "outputs": [
    {
     "name": "stderr",
     "output_type": "stream",
     "text": [
      "ic| cells_meta.shape: (652, 6)\n",
      "ic| 'After filtering on af indices', cells_meta.shape: (652, 6)\n"
     ]
    },
    {
     "name": "stdout",
     "output_type": "stream",
     "text": [
      "postB\n",
      "(362, 6)\n",
      "preB\n",
      "(290, 6)\n"
     ]
    },
    {
     "name": "stderr",
     "output_type": "stream",
     "text": [
      "ic| t: 0.1, rt: 25\n",
      "ic| cells_meta.shape: (420, 6)\n",
      "ic| 'After filtering on af indices', cells_meta.shape: (420, 6)\n"
     ]
    },
    {
     "name": "stdout",
     "output_type": "stream",
     "text": [
      "postB\n",
      "(107, 6)\n",
      "preB\n",
      "(313, 6)\n"
     ]
    },
    {
     "name": "stderr",
     "output_type": "stream",
     "text": [
      "ic| t: 0.1, rt: 25\n",
      "ic| cells_meta.shape: (681, 6)\n",
      "ic| 'After filtering on af indices', cells_meta.shape: (681, 6)\n"
     ]
    },
    {
     "name": "stdout",
     "output_type": "stream",
     "text": [
      "/data/Mito_Trace/output/pipeline/DUPI_april08_2021/v2_MTblacklist_mtasnucl_Bonly/data/merged/MT/cellr_True/numread_200/filters/minC10_minR50_topN0_hetT0.001_hetC10_hetCount5_bq20/mgatk/vireoIn/multiplex/clones_init/donor0 Not here!\n",
      "postB\n",
      "(320, 6)\n",
      "preB\n",
      "(361, 6)\n"
     ]
    },
    {
     "name": "stderr",
     "output_type": "stream",
     "text": [
      "ic| t: 0.1, rt: 25\n",
      "ic| cells_meta.shape: (2220, 6)\n",
      "ic| 'After filtering on af indices', cells_meta.shape: (2220, 6)\n"
     ]
    },
    {
     "name": "stdout",
     "output_type": "stream",
     "text": [
      "postB\n",
      "(1908, 6)\n",
      "preB\n",
      "(312, 6)\n"
     ]
    },
    {
     "name": "stderr",
     "output_type": "stream",
     "text": [
      "ic| t: 0.1, rt: 25\n"
     ]
    }
   ],
   "source": [
    "out_donors = {}\n",
    "for d in don_dirs: \n",
    "    clone_out_df, variants_cell_index_d, clone_var_distributions, clone_sizes_d, variants_df = run_don(don_dirs[d])\n",
    "    if clone_out_df is not None:\n",
    "        out_donors[d] = clone_out_df.fillna(0)"
   ]
  },
  {
   "cell_type": "markdown",
   "id": "2a5930df",
   "metadata": {},
   "source": [
    "## Save cells-by-MT matrix"
   ]
  },
  {
   "cell_type": "code",
   "execution_count": 11,
   "id": "0e7f132b",
   "metadata": {
    "scrolled": true
   },
   "outputs": [
    {
     "data": {
      "text/html": [
       "<div>\n",
       "<style scoped>\n",
       "    .dataframe tbody tr th:only-of-type {\n",
       "        vertical-align: middle;\n",
       "    }\n",
       "\n",
       "    .dataframe tbody tr th {\n",
       "        vertical-align: top;\n",
       "    }\n",
       "\n",
       "    .dataframe thead th {\n",
       "        text-align: right;\n",
       "    }\n",
       "</style>\n",
       "<table border=\"1\" class=\"dataframe\">\n",
       "  <thead>\n",
       "    <tr style=\"text-align: right;\">\n",
       "      <th>variant</th>\n",
       "      <th>523C</th>\n",
       "      <th>14783C</th>\n",
       "      <th>8281G</th>\n",
       "    </tr>\n",
       "    <tr>\n",
       "      <th>cell</th>\n",
       "      <th></th>\n",
       "      <th></th>\n",
       "      <th></th>\n",
       "    </tr>\n",
       "  </thead>\n",
       "  <tbody>\n",
       "    <tr>\n",
       "      <th>AAACGAAAGAGCAGCT-1_postB</th>\n",
       "      <td>0.0</td>\n",
       "      <td>NaN</td>\n",
       "      <td>NaN</td>\n",
       "    </tr>\n",
       "    <tr>\n",
       "      <th>AAACGAAAGTGAACCG-1_postB</th>\n",
       "      <td>0.0</td>\n",
       "      <td>NaN</td>\n",
       "      <td>NaN</td>\n",
       "    </tr>\n",
       "    <tr>\n",
       "      <th>AAACGAAGTCACTCTC-1_preB</th>\n",
       "      <td>0.0</td>\n",
       "      <td>NaN</td>\n",
       "      <td>NaN</td>\n",
       "    </tr>\n",
       "    <tr>\n",
       "      <th>AAACGAATCATGTTCT-1_postB</th>\n",
       "      <td>0.0</td>\n",
       "      <td>NaN</td>\n",
       "      <td>NaN</td>\n",
       "    </tr>\n",
       "    <tr>\n",
       "      <th>AAACTGCTCAGCCGGT-1_postB</th>\n",
       "      <td>0.0</td>\n",
       "      <td>NaN</td>\n",
       "      <td>NaN</td>\n",
       "    </tr>\n",
       "    <tr>\n",
       "      <th>...</th>\n",
       "      <td>...</td>\n",
       "      <td>...</td>\n",
       "      <td>...</td>\n",
       "    </tr>\n",
       "    <tr>\n",
       "      <th>TTTGGTTTCAAGGCAG-1_postB</th>\n",
       "      <td>NaN</td>\n",
       "      <td>0.0</td>\n",
       "      <td>0.028986</td>\n",
       "    </tr>\n",
       "    <tr>\n",
       "      <th>TTTGGTTTCATCGCAA-1_postB</th>\n",
       "      <td>NaN</td>\n",
       "      <td>0.0</td>\n",
       "      <td>0.000000</td>\n",
       "    </tr>\n",
       "    <tr>\n",
       "      <th>TTTGGTTTCGAGGTCC-1_postB</th>\n",
       "      <td>NaN</td>\n",
       "      <td>0.0</td>\n",
       "      <td>0.000000</td>\n",
       "    </tr>\n",
       "    <tr>\n",
       "      <th>TTTGGTTTCTAGCTGA-1_postB</th>\n",
       "      <td>NaN</td>\n",
       "      <td>0.0</td>\n",
       "      <td>0.000000</td>\n",
       "    </tr>\n",
       "    <tr>\n",
       "      <th>TTTGTGTGTCACAGGA-1_preB</th>\n",
       "      <td>NaN</td>\n",
       "      <td>0.0</td>\n",
       "      <td>0.000000</td>\n",
       "    </tr>\n",
       "  </tbody>\n",
       "</table>\n",
       "<p>3410 rows × 3 columns</p>\n",
       "</div>"
      ],
      "text/plain": [
       "variant                   523C  14783C     8281G\n",
       "cell                                            \n",
       "AAACGAAAGAGCAGCT-1_postB   0.0     NaN       NaN\n",
       "AAACGAAAGTGAACCG-1_postB   0.0     NaN       NaN\n",
       "AAACGAAGTCACTCTC-1_preB    0.0     NaN       NaN\n",
       "AAACGAATCATGTTCT-1_postB   0.0     NaN       NaN\n",
       "AAACTGCTCAGCCGGT-1_postB   0.0     NaN       NaN\n",
       "...                        ...     ...       ...\n",
       "TTTGGTTTCAAGGCAG-1_postB   NaN     0.0  0.028986\n",
       "TTTGGTTTCATCGCAA-1_postB   NaN     0.0  0.000000\n",
       "TTTGGTTTCGAGGTCC-1_postB   NaN     0.0  0.000000\n",
       "TTTGGTTTCTAGCTGA-1_postB   NaN     0.0  0.000000\n",
       "TTTGTGTGTCACAGGA-1_preB    NaN     0.0  0.000000\n",
       "\n",
       "[3410 rows x 3 columns]"
      ]
     },
     "execution_count": 11,
     "metadata": {},
     "output_type": "execute_result"
    }
   ],
   "source": [
    "out_donors_df = pd.concat([d for d in out_donors.values()])\n",
    "out_donors_df"
   ]
  },
  {
   "cell_type": "code",
   "execution_count": 12,
   "id": "b0147740",
   "metadata": {},
   "outputs": [],
   "source": [
    "out_donors_df.to_csv(join(outdir, \"cells_mt.tsv\"), sep=\"\\t\")\n",
    "(out_donors_df>t).astype(int).to_csv(join(outdir, \"cells_meta.tsv\"), sep=\"\\t\")"
   ]
  },
  {
   "cell_type": "code",
   "execution_count": 13,
   "id": "d5e86502",
   "metadata": {
    "scrolled": true
   },
   "outputs": [
    {
     "data": {
      "text/plain": [
       "(array([251.,   0.,   0.,   0.,   0.,   0.,   0.,   0.,   0.,   1.]),\n",
       " array([1. , 1.1, 1.2, 1.3, 1.4, 1.5, 1.6, 1.7, 1.8, 1.9, 2. ]),\n",
       " <BarContainer object of 10 artists>)"
      ]
     },
     "execution_count": 13,
     "metadata": {},
     "output_type": "execute_result"
    },
    {
     "data": {
      "image/png": "[encoded data removed]",
      "text/plain": [
       "<Figure size 432x288 with 1 Axes>"
      ]
     },
     "metadata": {
      "needs_background": "light"
     },
     "output_type": "display_data"
    }
   ],
   "source": [
    "num_vars_per_cell = (out_donors_df>t).sum(axis=1)\n",
    "#remove 0s\n",
    "plt.hist(num_vars_per_cell[num_vars_per_cell!=0])\n",
    "#plt.xscale('log')"
   ]
  }
 ],
 "metadata": {
  "celltoolbar": "Tags",
  "kernelspec": {
   "display_name": "Python 3 (ipykernel)",
   "language": "python",
   "name": "python3"
  },
  "language_info": {
   "codemirror_mode": {
    "name": "ipython",
    "version": 3
   },
   "file_extension": ".py",
   "mimetype": "text/x-python",
   "name": "python",
   "nbconvert_exporter": "python",
   "pygments_lexer": "ipython3",
   "version": "3.7.12"
  }
 },
 "nbformat": 4,
 "nbformat_minor": 5
}
